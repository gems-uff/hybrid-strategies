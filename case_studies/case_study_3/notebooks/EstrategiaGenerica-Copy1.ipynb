{
 "cells": [
  {
   "cell_type": "code",
   "execution_count": 1,
   "metadata": {
    "collapsed": true
   },
   "outputs": [],
   "source": [
    "import os, sys\n",
    "sys.path.insert(1, os.path.join(sys.path[0], '..'))\n",
    "import database\n",
    "from snowballing.operations import reload, work_by_varname, load_work_map_all_years\n",
    "from snowballing.strategies import Strategy, State\n",
    "from functools import reduce\n",
    "from matplotlib_venn import venn2, venn2_circles\n",
    "from matplotlib import pyplot as plt\n",
    "\n",
    "reload()\n",
    "# !pip install matplotlib-venn"
   ]
  },
  {
   "cell_type": "code",
   "execution_count": 2,
   "metadata": {
    "collapsed": true
   },
   "outputs": [],
   "source": [
    "from snowballing.operations import metakey, metakey_title\n",
    "\n",
    "def busca(*libraries, seed=None, filter_function=None):\n",
    "    filter_function = filter_function or (lambda x: x.category in (\"snowball\",))\n",
    "    if seed is not None:\n",
    "        iterable = ((1, work_by_varname(x)) for x in seed)\n",
    "    else:\n",
    "        iterable = load_work_map_all_years()\n",
    "    seedset = set()\n",
    "    visited = set()\n",
    "    for _, work in iterable:\n",
    "        for library in libraries:\n",
    "            if int(getattr(work, library, 0)):\n",
    "                visited.add(work)\n",
    "                if filter_function(work):\n",
    "                    seedset.add(work)\n",
    "                break\n",
    "    return seedset, filter_function, visited\n",
    "\n",
    "def descreve_delta(strategy, state, name):\n",
    "    target = state.find(name)\n",
    "    previous_related = reduce(lambda x, y: x | y, (s.related for s in target.previous[0]), set())\n",
    "    for work in previous_related:\n",
    "        backward = set(strategy.ref[work]) & target.delta_visited\n",
    "        if backward:\n",
    "            print('backward', work.metakey)\n",
    "            for ref in backward:\n",
    "                print('-', ref.metakey, 'related' if ref in target.delta_related else '')\n",
    "        forward = set(strategy.rev_ref[work]) & target.delta_visited\n",
    "        if forward:\n",
    "            print('forward', work.metakey)\n",
    "            for ref in forward:\n",
    "                print('-', ref.metakey, 'related' if ref in target.delta_related else '')\n",
    "\n",
    "def separa_backward_forward(state):\n",
    "    backward = set()\n",
    "    forward = set()\n",
    "    stack = [state]\n",
    "    visited = {id(state)}\n",
    "    while stack:\n",
    "        current = stack.pop()\n",
    "        if current.previous:\n",
    "            if current.previous[1] == \"backward\":\n",
    "                backward |= current.delta_related\n",
    "            if current.previous[1] == \"forward\":\n",
    "                forward |= current.delta_related\n",
    "                \n",
    "            antecessors = current.previous[0]\n",
    "            for previous in antecessors:\n",
    "                if id(previous) not in visited:\n",
    "                    visited.add(id(previous))\n",
    "                    stack.append(previous)\n",
    "    return backward, forward\n",
    "\n",
    "def encontraria(strategy, state):\n",
    "    backward = set()\n",
    "    forward = set()\n",
    "    for work in state.related - state.find(\"s0\").related:\n",
    "        backward |= (set(strategy.ref[work]) & state.related)\n",
    "        forward |= (set(strategy.rev_ref[work]) & state.related)\n",
    "    return backward, forward\n",
    "\n",
    "#busca(\"scopus\", seed=[\"wohlin2014a\", \"briand2000a\"], filter_function=lambda x: True)\n",
    "#busca(\"scopus\", filter_function=lambda x: False)"
   ]
  },
  {
   "cell_type": "markdown",
   "metadata": {},
   "source": [
    "### Snowballing - Busca via FS e BS no Artigo mais Citado (Seed Set = 1)\n",
    "\n",
    "Não realiza busca em DL.\n",
    "Realiza uma busca, via Forward e/ou via Backward para encontrar artigos do seed set no artigo mais citado, exemplo, mendes2004a."
   ]
  },
  {
   "cell_type": "markdown",
   "metadata": {},
   "source": [
    "### Forward"
   ]
  },
  {
   "cell_type": "code",
   "execution_count": 3,
   "metadata": {
    "scrolled": true
   },
   "outputs": [
    {
     "data": {
      "text/plain": [
       "{Web effort estimation: The value of cross-company data set compared to single-company data set,\n",
       " Cross versus within-company cost estimation studies: A systematic review,\n",
       " Building software cost estimation models using homogenous data}"
      ]
     },
     "execution_count": 3,
     "metadata": {},
     "output_type": "execute_result"
    }
   ],
   "source": [
    "### Delta Related = Conector do nó\n",
    "strategy = Strategy({work_by_varname(\"mendes2004a\")})\n",
    "strategy.forward().delta_related"
   ]
  },
  {
   "cell_type": "code",
   "execution_count": 4,
   "metadata": {
    "scrolled": true
   },
   "outputs": [
    {
     "data": {
      "text/plain": [
       "{'briand1999a',\n",
       " 'briand2000a',\n",
       " 'christodoulou2000a',\n",
       " 'cook1977a',\n",
       " 'jeffery2000a',\n",
       " 'jeffery2001a',\n",
       " 'kemerer1987a',\n",
       " 'kitchenham1984a',\n",
       " 'kitchenham1998a',\n",
       " 'kitchenham2001a',\n",
       " 'kitchenham2004a',\n",
       " 'maxwell2002a',\n",
       " 'mendes2003a',\n",
       " 'mendes2003b',\n",
       " 'mendes2004a',\n",
       " 'shepperd2001a',\n",
       " 'wieczorek2002a',\n",
       " 'wilcoxon1945a'}"
      ]
     },
     "execution_count": 4,
     "metadata": {},
     "output_type": "execute_result"
    }
   ],
   "source": [
    "\n",
    "{x.metakey for x in strategy.backward().visited}\n"
   ]
  },
  {
   "cell_type": "code",
   "execution_count": 5,
   "metadata": {
    "scrolled": true
   },
   "outputs": [
    {
     "data": {
      "image/svg+xml": [
       "<?xml version=\"1.0\" encoding=\"UTF-8\" standalone=\"no\"?>\r\n",
       "<!DOCTYPE svg PUBLIC \"-//W3C//DTD SVG 1.1//EN\"\r\n",
       " \"http://www.w3.org/Graphics/SVG/1.1/DTD/svg11.dtd\">\r\n",
       "<!-- Generated by graphviz version 2.38.0 (20140413.2041)\r\n",
       " -->\r\n",
       "<!-- Title: G Pages: 1 -->\r\n",
       "<svg width=\"296pt\" height=\"90pt\"\r\n",
       " viewBox=\"0.00 0.00 295.99 90.48\" xmlns=\"http://www.w3.org/2000/svg\" xmlns:xlink=\"http://www.w3.org/1999/xlink\">\r\n",
       "<g id=\"graph0\" class=\"graph\" transform=\"scale(1 1) rotate(0) translate(4 86.4767)\">\r\n",
       "<title>G</title>\r\n",
       "<polygon fill=\"white\" stroke=\"none\" points=\"-4,4 -4,-86.4767 291.99,-86.4767 291.99,4 -4,4\"/>\r\n",
       "<!-- s1 -->\r\n",
       "<g id=\"node1\" class=\"node\"><title>s1</title>\r\n",
       "<ellipse fill=\"none\" stroke=\"black\" cx=\"236.371\" cy=\"-37.4767\" rx=\"51.7379\" ry=\"37.4533\"/>\r\n",
       "<text text-anchor=\"middle\" x=\"236.371\" y=\"-48.7767\" font-family=\"Times New Roman,serif\" font-size=\"14.00\">s1</text>\r\n",
       "<text text-anchor=\"middle\" x=\"236.371\" y=\"-33.7767\" font-family=\"Times New Roman,serif\" font-size=\"14.00\">visited: 61</text>\r\n",
       "<text text-anchor=\"middle\" x=\"236.371\" y=\"-18.7767\" font-family=\"Times New Roman,serif\" font-size=\"14.00\">related: 4</text>\r\n",
       "</g>\r\n",
       "<!-- s0 -->\r\n",
       "<g id=\"node2\" class=\"node\"><title>s0</title>\r\n",
       "<ellipse fill=\"none\" stroke=\"black\" cx=\"47.3762\" cy=\"-37.4767\" rx=\"47.2526\" ry=\"37.4533\"/>\r\n",
       "<text text-anchor=\"middle\" x=\"47.3762\" y=\"-48.7767\" font-family=\"Times New Roman,serif\" font-size=\"14.00\">s0</text>\r\n",
       "<text text-anchor=\"middle\" x=\"47.3762\" y=\"-33.7767\" font-family=\"Times New Roman,serif\" font-size=\"14.00\">visited: 1</text>\r\n",
       "<text text-anchor=\"middle\" x=\"47.3762\" y=\"-18.7767\" font-family=\"Times New Roman,serif\" font-size=\"14.00\">related: 1</text>\r\n",
       "</g>\r\n",
       "<!-- s1&#45;&gt;s0 -->\r\n",
       "<g id=\"edge1\" class=\"edge\"><title>s1&#45;&gt;s0</title>\r\n",
       "<path fill=\"none\" stroke=\"black\" d=\"M184.274,-37.4767C159.753,-37.4767 130.296,-37.4767 105.085,-37.4767\"/>\r\n",
       "<polygon fill=\"black\" stroke=\"black\" points=\"104.93,-33.9768 94.9301,-37.4767 104.93,-40.9768 104.93,-33.9768\"/>\r\n",
       "<text text-anchor=\"middle\" x=\"139.752\" y=\"-71.2767\" font-family=\"Times New Roman,serif\" font-size=\"14.00\">forward</text>\r\n",
       "<text text-anchor=\"middle\" x=\"139.752\" y=\"-56.2767\" font-family=\"Times New Roman,serif\" font-size=\"14.00\">found: 60</text>\r\n",
       "<text text-anchor=\"middle\" x=\"139.752\" y=\"-41.2767\" font-family=\"Times New Roman,serif\" font-size=\"14.00\">related: 3</text>\r\n",
       "</g>\r\n",
       "</g>\r\n",
       "</svg>\r\n"
      ],
      "text/plain": [
       "Step(name='start', new_references=1, new_related=1, total_visited=1, total_related=1, source='', target='s0')\n",
       "Step(name='forward', new_references=60, new_related=3, total_visited=61, total_related=4, source='s0', target='s1')"
      ],
      "text/vnd.graphviz": [
       "digraph G {\n",
       "  rankdir=\"RL\";\n",
       "\n",
       "  s1 [label=\"s1\\nvisited: 61\\nrelated: 4\"];\n",
       "  s1 -> s0 [label=\"forward\\nfound: 60\\nrelated: 3\"];\n",
       "\n",
       "  s0 [label=\"s0\\nvisited: 1\\nrelated: 1\"];\n",
       "\n",
       "}"
      ]
     },
     "metadata": {},
     "output_type": "display_data"
    }
   ],
   "source": [
    "### Grafo\n",
    "strategy = Strategy({work_by_varname(\"mendes2004a\")})\n",
    "State.last_id = 0\n",
    "strategy.forward()"
   ]
  },
  {
   "cell_type": "code",
   "execution_count": 6,
   "metadata": {
    "scrolled": true
   },
   "outputs": [
    {
     "data": {
      "text/plain": [
       "{Further comparison of cross-company and within-company effort estimation models for web applications,\n",
       " Web effort estimation: The value of cross-company data set compared to single-company data set,\n",
       " Cross versus within-company cost estimation studies: A systematic review,\n",
       " Building software cost estimation models using homogenous data}"
      ]
     },
     "execution_count": 6,
     "metadata": {},
     "output_type": "execute_result"
    }
   ],
   "source": [
    "### Related do S1\n",
    "strategy = Strategy({work_by_varname(\"mendes2004a\")})\n",
    "State.last_id = 0\n",
    "strategy.forward().related"
   ]
  },
  {
   "cell_type": "markdown",
   "metadata": {},
   "source": [
    "### Backward"
   ]
  },
  {
   "cell_type": "code",
   "execution_count": 7,
   "metadata": {
    "scrolled": true
   },
   "outputs": [
    {
     "data": {
      "text/plain": [
       "{A comparison of cross-company and within-company effort estimation models for web applications}"
      ]
     },
     "execution_count": 7,
     "metadata": {},
     "output_type": "execute_result"
    }
   ],
   "source": [
    "strategy = Strategy({work_by_varname(\"mendes2004a\")})\n",
    "State.last_id = 0\n",
    "strategy.backward().delta_related"
   ]
  },
  {
   "cell_type": "code",
   "execution_count": 8,
   "metadata": {
    "scrolled": true
   },
   "outputs": [
    {
     "data": {
      "text/plain": [
       "{A procedure for analyzing unbalanced datasets,\n",
       " A replicated assessment and comparison of common software cost modeling techniques,\n",
       " An empirical validation of software cost estimation models,\n",
       " Using public domain metrics to estimate software development effort,\n",
       " What accuracy statistics really measure,\n",
       " A replicated assessment of the use of adaptation rules to improve Web cost estimation,\n",
       " Further comparison of cross-company and within-company effort estimation models for web applications,\n",
       " How valuable is company-specific data compared to multi-company data for software cost estimation?,\n",
       " WWW2000: The Developer's view and a practitioner's approach to Web Engineering,\n",
       " Software cost models,\n",
       " Assessment and comparison of common software cost estimation modeling techniques,\n",
       " A comparison of cross-company and within-company effort estimation models for web applications,\n",
       " Individual comparisons by ranking methods,\n",
       " Using simulation to evaluate prediction techniques,\n",
       " Applied statistics for software managers,\n",
       " Investigating early web size measures for web cost estimation,\n",
       " Detection of influential observation in linear regression,\n",
       " A comparative study of two software development cost modeling techniques using multi-organizational and company-specific data}"
      ]
     },
     "execution_count": 8,
     "metadata": {},
     "output_type": "execute_result"
    }
   ],
   "source": [
    "strategy = Strategy({work_by_varname(\"mendes2004a\")})\n",
    "State.last_id = 0\n",
    "strategy.backward().visited"
   ]
  },
  {
   "cell_type": "code",
   "execution_count": 9,
   "metadata": {
    "scrolled": true
   },
   "outputs": [
    {
     "data": {
      "image/svg+xml": [
       "<?xml version=\"1.0\" encoding=\"UTF-8\" standalone=\"no\"?>\r\n",
       "<!DOCTYPE svg PUBLIC \"-//W3C//DTD SVG 1.1//EN\"\r\n",
       " \"http://www.w3.org/Graphics/SVG/1.1/DTD/svg11.dtd\">\r\n",
       "<!-- Generated by graphviz version 2.38.0 (20140413.2041)\r\n",
       " -->\r\n",
       "<!-- Title: G Pages: 1 -->\r\n",
       "<svg width=\"297pt\" height=\"90pt\"\r\n",
       " viewBox=\"0.00 0.00 296.99 90.48\" xmlns=\"http://www.w3.org/2000/svg\" xmlns:xlink=\"http://www.w3.org/1999/xlink\">\r\n",
       "<g id=\"graph0\" class=\"graph\" transform=\"scale(1 1) rotate(0) translate(4 86.4767)\">\r\n",
       "<title>G</title>\r\n",
       "<polygon fill=\"white\" stroke=\"none\" points=\"-4,4 -4,-86.4767 292.99,-86.4767 292.99,4 -4,4\"/>\r\n",
       "<!-- s1 -->\r\n",
       "<g id=\"node1\" class=\"node\"><title>s1</title>\r\n",
       "<ellipse fill=\"none\" stroke=\"black\" cx=\"237.371\" cy=\"-37.4767\" rx=\"51.7379\" ry=\"37.4533\"/>\r\n",
       "<text text-anchor=\"middle\" x=\"237.371\" y=\"-48.7767\" font-family=\"Times New Roman,serif\" font-size=\"14.00\">s1</text>\r\n",
       "<text text-anchor=\"middle\" x=\"237.371\" y=\"-33.7767\" font-family=\"Times New Roman,serif\" font-size=\"14.00\">visited: 18</text>\r\n",
       "<text text-anchor=\"middle\" x=\"237.371\" y=\"-18.7767\" font-family=\"Times New Roman,serif\" font-size=\"14.00\">related: 2</text>\r\n",
       "</g>\r\n",
       "<!-- s0 -->\r\n",
       "<g id=\"node2\" class=\"node\"><title>s0</title>\r\n",
       "<ellipse fill=\"none\" stroke=\"black\" cx=\"47.3762\" cy=\"-37.4767\" rx=\"47.2526\" ry=\"37.4533\"/>\r\n",
       "<text text-anchor=\"middle\" x=\"47.3762\" y=\"-48.7767\" font-family=\"Times New Roman,serif\" font-size=\"14.00\">s0</text>\r\n",
       "<text text-anchor=\"middle\" x=\"47.3762\" y=\"-33.7767\" font-family=\"Times New Roman,serif\" font-size=\"14.00\">visited: 1</text>\r\n",
       "<text text-anchor=\"middle\" x=\"47.3762\" y=\"-18.7767\" font-family=\"Times New Roman,serif\" font-size=\"14.00\">related: 1</text>\r\n",
       "</g>\r\n",
       "<!-- s1&#45;&gt;s0 -->\r\n",
       "<g id=\"edge1\" class=\"edge\"><title>s1&#45;&gt;s0</title>\r\n",
       "<path fill=\"none\" stroke=\"black\" d=\"M185.497,-37.4767C160.648,-37.4767 130.665,-37.4767 105.082,-37.4767\"/>\r\n",
       "<polygon fill=\"black\" stroke=\"black\" points=\"104.783,-33.9768 94.7827,-37.4767 104.783,-40.9768 104.783,-33.9768\"/>\r\n",
       "<text text-anchor=\"middle\" x=\"140.252\" y=\"-71.2767\" font-family=\"Times New Roman,serif\" font-size=\"14.00\">backward</text>\r\n",
       "<text text-anchor=\"middle\" x=\"140.252\" y=\"-56.2767\" font-family=\"Times New Roman,serif\" font-size=\"14.00\">found: 17</text>\r\n",
       "<text text-anchor=\"middle\" x=\"140.252\" y=\"-41.2767\" font-family=\"Times New Roman,serif\" font-size=\"14.00\">related: 1</text>\r\n",
       "</g>\r\n",
       "</g>\r\n",
       "</svg>\r\n"
      ],
      "text/plain": [
       "Step(name='start', new_references=1, new_related=1, total_visited=1, total_related=1, source='', target='s0')\n",
       "Step(name='backward', new_references=17, new_related=1, total_visited=18, total_related=2, source='s0', target='s1')"
      ],
      "text/vnd.graphviz": [
       "digraph G {\n",
       "  rankdir=\"RL\";\n",
       "\n",
       "  s1 [label=\"s1\\nvisited: 18\\nrelated: 2\"];\n",
       "  s1 -> s0 [label=\"backward\\nfound: 17\\nrelated: 1\"];\n",
       "\n",
       "  s0 [label=\"s0\\nvisited: 1\\nrelated: 1\"];\n",
       "\n",
       "}"
      ]
     },
     "metadata": {},
     "output_type": "display_data"
    }
   ],
   "source": [
    "strategy = Strategy({work_by_varname(\"mendes2004a\")})\n",
    "State.last_id = 0\n",
    "strategy.backward()"
   ]
  },
  {
   "cell_type": "code",
   "execution_count": 10,
   "metadata": {
    "scrolled": true
   },
   "outputs": [
    {
     "data": {
      "text/plain": [
       "'s1'"
      ]
     },
     "execution_count": 10,
     "metadata": {},
     "output_type": "execute_result"
    }
   ],
   "source": [
    "strategy = Strategy({work_by_varname(\"mendes2004a\")})\n",
    "State.last_id = 0\n",
    "strategy.backward().name"
   ]
  },
  {
   "cell_type": "markdown",
   "metadata": {},
   "source": [
    "### Snowballing - Forward and Backward - Union (N vezes)"
   ]
  },
  {
   "cell_type": "code",
   "execution_count": 11,
   "metadata": {
    "scrolled": true
   },
   "outputs": [
    {
     "data": {
      "image/svg+xml": [
       "<?xml version=\"1.0\" encoding=\"UTF-8\" standalone=\"no\"?>\r\n",
       "<!DOCTYPE svg PUBLIC \"-//W3C//DTD SVG 1.1//EN\"\r\n",
       " \"http://www.w3.org/Graphics/SVG/1.1/DTD/svg11.dtd\">\r\n",
       "<!-- Generated by graphviz version 2.38.0 (20140413.2041)\r\n",
       " -->\r\n",
       "<!-- Title: G Pages: 1 -->\r\n",
       "<svg width=\"832pt\" height=\"192pt\"\r\n",
       " viewBox=\"0.00 0.00 831.70 191.95\" xmlns=\"http://www.w3.org/2000/svg\" xmlns:xlink=\"http://www.w3.org/1999/xlink\">\r\n",
       "<g id=\"graph0\" class=\"graph\" transform=\"scale(1 1) rotate(0) translate(4 187.953)\">\r\n",
       "<title>G</title>\r\n",
       "<polygon fill=\"white\" stroke=\"none\" points=\"-4,4 -4,-187.953 827.703,-187.953 827.703,4 -4,4\"/>\r\n",
       "<!-- s6 -->\r\n",
       "<g id=\"node1\" class=\"node\"><title>s6</title>\r\n",
       "<ellipse fill=\"none\" stroke=\"black\" cx=\"772.084\" cy=\"-90.4767\" rx=\"51.7379\" ry=\"37.4533\"/>\r\n",
       "<text text-anchor=\"middle\" x=\"772.084\" y=\"-101.777\" font-family=\"Times New Roman,serif\" font-size=\"14.00\">s6</text>\r\n",
       "<text text-anchor=\"middle\" x=\"772.084\" y=\"-86.7767\" font-family=\"Times New Roman,serif\" font-size=\"14.00\">visited: 99</text>\r\n",
       "<text text-anchor=\"middle\" x=\"772.084\" y=\"-71.7767\" font-family=\"Times New Roman,serif\" font-size=\"14.00\">related: 5</text>\r\n",
       "</g>\r\n",
       "<!-- s4 -->\r\n",
       "<g id=\"node2\" class=\"node\"><title>s4</title>\r\n",
       "<ellipse fill=\"none\" stroke=\"black\" cx=\"601.846\" cy=\"-130.477\" rx=\"51.7379\" ry=\"37.4533\"/>\r\n",
       "<text text-anchor=\"middle\" x=\"601.846\" y=\"-141.777\" font-family=\"Times New Roman,serif\" font-size=\"14.00\">s4</text>\r\n",
       "<text text-anchor=\"middle\" x=\"601.846\" y=\"-126.777\" font-family=\"Times New Roman,serif\" font-size=\"14.00\">visited: 88</text>\r\n",
       "<text text-anchor=\"middle\" x=\"601.846\" y=\"-111.777\" font-family=\"Times New Roman,serif\" font-size=\"14.00\">related: 5</text>\r\n",
       "</g>\r\n",
       "<!-- s6&#45;&gt;s4 -->\r\n",
       "<g id=\"edge1\" class=\"edge\"><title>s6&#45;&gt;s4</title>\r\n",
       "<path fill=\"none\" stroke=\"black\" d=\"M722.874,-101.939C703.515,-106.542 681.032,-111.887 660.795,-116.699\"/>\r\n",
       "<polygon fill=\"black\" stroke=\"black\" points=\"659.983,-113.294 651.063,-119.013 661.602,-120.104 659.983,-113.294\"/>\r\n",
       "<text text-anchor=\"middle\" x=\"686.965\" y=\"-117.277\" font-family=\"Times New Roman,serif\" font-size=\"14.00\">union</text>\r\n",
       "</g>\r\n",
       "<!-- s5 -->\r\n",
       "<g id=\"node3\" class=\"node\"><title>s5</title>\r\n",
       "<ellipse fill=\"none\" stroke=\"black\" cx=\"601.846\" cy=\"-37.4767\" rx=\"51.7379\" ry=\"37.4533\"/>\r\n",
       "<text text-anchor=\"middle\" x=\"601.846\" y=\"-48.7767\" font-family=\"Times New Roman,serif\" font-size=\"14.00\">s5</text>\r\n",
       "<text text-anchor=\"middle\" x=\"601.846\" y=\"-33.7767\" font-family=\"Times New Roman,serif\" font-size=\"14.00\">visited: 89</text>\r\n",
       "<text text-anchor=\"middle\" x=\"601.846\" y=\"-18.7767\" font-family=\"Times New Roman,serif\" font-size=\"14.00\">related: 5</text>\r\n",
       "</g>\r\n",
       "<!-- s6&#45;&gt;s5 -->\r\n",
       "<g id=\"edge2\" class=\"edge\"><title>s6&#45;&gt;s5</title>\r\n",
       "<path fill=\"none\" stroke=\"black\" d=\"M724.22,-75.7132C704.076,-69.3672 680.36,-61.8958 659.261,-55.2491\"/>\r\n",
       "<polygon fill=\"black\" stroke=\"black\" points=\"660.048,-51.8275 649.459,-52.1609 657.945,-58.504 660.048,-51.8275\"/>\r\n",
       "<text text-anchor=\"middle\" x=\"686.965\" y=\"-73.2767\" font-family=\"Times New Roman,serif\" font-size=\"14.00\">union</text>\r\n",
       "</g>\r\n",
       "<!-- s3 -->\r\n",
       "<g id=\"node4\" class=\"node\"><title>s3</title>\r\n",
       "<ellipse fill=\"none\" stroke=\"black\" cx=\"407.609\" cy=\"-86.4767\" rx=\"51.7379\" ry=\"37.4533\"/>\r\n",
       "<text text-anchor=\"middle\" x=\"407.609\" y=\"-97.7767\" font-family=\"Times New Roman,serif\" font-size=\"14.00\">s3</text>\r\n",
       "<text text-anchor=\"middle\" x=\"407.609\" y=\"-82.7767\" font-family=\"Times New Roman,serif\" font-size=\"14.00\">visited: 78</text>\r\n",
       "<text text-anchor=\"middle\" x=\"407.609\" y=\"-67.7767\" font-family=\"Times New Roman,serif\" font-size=\"14.00\">related: 5</text>\r\n",
       "</g>\r\n",
       "<!-- s4&#45;&gt;s3 -->\r\n",
       "<g id=\"edge3\" class=\"edge\"><title>s4&#45;&gt;s3</title>\r\n",
       "<path fill=\"none\" stroke=\"black\" d=\"M552.337,-119.374C526.382,-113.433 494.232,-106.074 466.924,-99.8241\"/>\r\n",
       "<polygon fill=\"black\" stroke=\"black\" points=\"467.632,-96.3956 457.103,-97.5762 466.07,-103.219 467.632,-96.3956\"/>\r\n",
       "<text text-anchor=\"middle\" x=\"504.727\" y=\"-147.277\" font-family=\"Times New Roman,serif\" font-size=\"14.00\">forward</text>\r\n",
       "<text text-anchor=\"middle\" x=\"504.727\" y=\"-132.277\" font-family=\"Times New Roman,serif\" font-size=\"14.00\">found: 10</text>\r\n",
       "<text text-anchor=\"middle\" x=\"504.727\" y=\"-117.277\" font-family=\"Times New Roman,serif\" font-size=\"14.00\">related: 0</text>\r\n",
       "</g>\r\n",
       "<!-- s5&#45;&gt;s3 -->\r\n",
       "<g id=\"edge4\" class=\"edge\"><title>s5&#45;&gt;s3</title>\r\n",
       "<path fill=\"none\" stroke=\"black\" d=\"M550.203,-40.988C527.547,-43.4354 500.709,-47.5584 477.227,-54.4767 471.27,-56.2319 465.174,-58.4293 459.193,-60.8459\"/>\r\n",
       "<polygon fill=\"black\" stroke=\"black\" points=\"457.757,-57.6536 449.927,-64.7918 460.499,-64.0939 457.757,-57.6536\"/>\r\n",
       "<text text-anchor=\"middle\" x=\"504.727\" y=\"-88.2767\" font-family=\"Times New Roman,serif\" font-size=\"14.00\">backward</text>\r\n",
       "<text text-anchor=\"middle\" x=\"504.727\" y=\"-73.2767\" font-family=\"Times New Roman,serif\" font-size=\"14.00\">found: 11</text>\r\n",
       "<text text-anchor=\"middle\" x=\"504.727\" y=\"-58.2767\" font-family=\"Times New Roman,serif\" font-size=\"14.00\">related: 0</text>\r\n",
       "</g>\r\n",
       "<!-- s1 -->\r\n",
       "<g id=\"node5\" class=\"node\"><title>s1</title>\r\n",
       "<ellipse fill=\"none\" stroke=\"black\" cx=\"237.371\" cy=\"-146.477\" rx=\"51.7379\" ry=\"37.4533\"/>\r\n",
       "<text text-anchor=\"middle\" x=\"237.371\" y=\"-157.777\" font-family=\"Times New Roman,serif\" font-size=\"14.00\">s1</text>\r\n",
       "<text text-anchor=\"middle\" x=\"237.371\" y=\"-142.777\" font-family=\"Times New Roman,serif\" font-size=\"14.00\">visited: 61</text>\r\n",
       "<text text-anchor=\"middle\" x=\"237.371\" y=\"-127.777\" font-family=\"Times New Roman,serif\" font-size=\"14.00\">related: 4</text>\r\n",
       "</g>\r\n",
       "<!-- s3&#45;&gt;s1 -->\r\n",
       "<g id=\"edge5\" class=\"edge\"><title>s3&#45;&gt;s1</title>\r\n",
       "<path fill=\"none\" stroke=\"black\" d=\"M361.081,-102.714C340.228,-110.151 315.335,-119.028 293.437,-126.838\"/>\r\n",
       "<polygon fill=\"black\" stroke=\"black\" points=\"292.178,-123.571 283.935,-130.227 294.53,-130.164 292.178,-123.571\"/>\r\n",
       "<text text-anchor=\"middle\" x=\"322.49\" y=\"-125.277\" font-family=\"Times New Roman,serif\" font-size=\"14.00\">union</text>\r\n",
       "</g>\r\n",
       "<!-- s2 -->\r\n",
       "<g id=\"node6\" class=\"node\"><title>s2</title>\r\n",
       "<ellipse fill=\"none\" stroke=\"black\" cx=\"237.371\" cy=\"-53.4767\" rx=\"51.7379\" ry=\"37.4533\"/>\r\n",
       "<text text-anchor=\"middle\" x=\"237.371\" y=\"-64.7767\" font-family=\"Times New Roman,serif\" font-size=\"14.00\">s2</text>\r\n",
       "<text text-anchor=\"middle\" x=\"237.371\" y=\"-49.7767\" font-family=\"Times New Roman,serif\" font-size=\"14.00\">visited: 18</text>\r\n",
       "<text text-anchor=\"middle\" x=\"237.371\" y=\"-34.7767\" font-family=\"Times New Roman,serif\" font-size=\"14.00\">related: 2</text>\r\n",
       "</g>\r\n",
       "<!-- s3&#45;&gt;s2 -->\r\n",
       "<g id=\"edge6\" class=\"edge\"><title>s3&#45;&gt;s2</title>\r\n",
       "<path fill=\"none\" stroke=\"black\" d=\"M357.495,-76.843C338.747,-73.1655 317.175,-68.9342 297.584,-65.0914\"/>\r\n",
       "<polygon fill=\"black\" stroke=\"black\" points=\"298.032,-61.6127 287.546,-63.1223 296.685,-68.4818 298.032,-61.6127\"/>\r\n",
       "<text text-anchor=\"middle\" x=\"322.49\" y=\"-77.2767\" font-family=\"Times New Roman,serif\" font-size=\"14.00\">union</text>\r\n",
       "</g>\r\n",
       "<!-- s0 -->\r\n",
       "<g id=\"node7\" class=\"node\"><title>s0</title>\r\n",
       "<ellipse fill=\"none\" stroke=\"black\" cx=\"47.3762\" cy=\"-102.477\" rx=\"47.2526\" ry=\"37.4533\"/>\r\n",
       "<text text-anchor=\"middle\" x=\"47.3762\" y=\"-113.777\" font-family=\"Times New Roman,serif\" font-size=\"14.00\">s0</text>\r\n",
       "<text text-anchor=\"middle\" x=\"47.3762\" y=\"-98.7767\" font-family=\"Times New Roman,serif\" font-size=\"14.00\">visited: 1</text>\r\n",
       "<text text-anchor=\"middle\" x=\"47.3762\" y=\"-83.7767\" font-family=\"Times New Roman,serif\" font-size=\"14.00\">related: 1</text>\r\n",
       "</g>\r\n",
       "<!-- s1&#45;&gt;s0 -->\r\n",
       "<g id=\"edge7\" class=\"edge\"><title>s1&#45;&gt;s0</title>\r\n",
       "<path fill=\"none\" stroke=\"black\" d=\"M187.958,-135.146C162.008,-129.072 129.942,-121.567 103.091,-115.283\"/>\r\n",
       "<polygon fill=\"black\" stroke=\"black\" points=\"103.614,-111.81 93.0792,-112.939 102.018,-118.626 103.614,-111.81\"/>\r\n",
       "<text text-anchor=\"middle\" x=\"140.252\" y=\"-163.277\" font-family=\"Times New Roman,serif\" font-size=\"14.00\">forward</text>\r\n",
       "<text text-anchor=\"middle\" x=\"140.252\" y=\"-148.277\" font-family=\"Times New Roman,serif\" font-size=\"14.00\">found: 60</text>\r\n",
       "<text text-anchor=\"middle\" x=\"140.252\" y=\"-133.277\" font-family=\"Times New Roman,serif\" font-size=\"14.00\">related: 3</text>\r\n",
       "</g>\r\n",
       "<!-- s2&#45;&gt;s0 -->\r\n",
       "<g id=\"edge8\" class=\"edge\"><title>s2&#45;&gt;s0</title>\r\n",
       "<path fill=\"none\" stroke=\"black\" d=\"M185.57,-55.4583C162.884,-57.4019 136.067,-61.1796 112.752,-68.4767 106.736,-70.3596 100.621,-72.7994 94.673,-75.5076\"/>\r\n",
       "<polygon fill=\"black\" stroke=\"black\" points=\"92.9815,-72.4378 85.5031,-79.9428 96.0294,-78.7395 92.9815,-72.4378\"/>\r\n",
       "<text text-anchor=\"middle\" x=\"140.252\" y=\"-102.277\" font-family=\"Times New Roman,serif\" font-size=\"14.00\">backward</text>\r\n",
       "<text text-anchor=\"middle\" x=\"140.252\" y=\"-87.2767\" font-family=\"Times New Roman,serif\" font-size=\"14.00\">found: 17</text>\r\n",
       "<text text-anchor=\"middle\" x=\"140.252\" y=\"-72.2767\" font-family=\"Times New Roman,serif\" font-size=\"14.00\">related: 1</text>\r\n",
       "</g>\r\n",
       "</g>\r\n",
       "</svg>\r\n"
      ],
      "text/plain": [
       "Step(name='start', new_references=1, new_related=1, total_visited=1, total_related=1, source='', target='s0')\n",
       "Step(name='backward', new_references=17, new_related=1, total_visited=18, total_related=2, source='s0', target='s2')\n",
       "Step(name='forward', new_references=60, new_related=3, total_visited=61, total_related=4, source='s0', target='s1')\n",
       "Step(name='union', new_references=0, new_related=0, total_visited=78, total_related=5, source='s1|s2', target='s3')\n",
       "Step(name='backward', new_references=11, new_related=0, total_visited=89, total_related=5, source='s3', target='s5')\n",
       "Step(name='forward', new_references=10, new_related=0, total_visited=88, total_related=5, source='s3', target='s4')\n",
       "Step(name='union', new_references=0, new_related=0, total_visited=99, total_related=5, source='s4|s5', target='s6')"
      ],
      "text/vnd.graphviz": [
       "digraph G {\n",
       "  rankdir=\"RL\";\n",
       "\n",
       "  s6 [label=\"s6\\nvisited: 99\\nrelated: 5\"];\n",
       "  s6 -> s4 [label=\"union\"];\n",
       "  s6 -> s5 [label=\"union\"];\n",
       "\n",
       "  s4 [label=\"s4\\nvisited: 88\\nrelated: 5\"];\n",
       "  s4 -> s3 [label=\"forward\\nfound: 10\\nrelated: 0\"];\n",
       "\n",
       "  s5 [label=\"s5\\nvisited: 89\\nrelated: 5\"];\n",
       "  s5 -> s3 [label=\"backward\\nfound: 11\\nrelated: 0\"];\n",
       "\n",
       "  s3 [label=\"s3\\nvisited: 78\\nrelated: 5\"];\n",
       "  s3 -> s1 [label=\"union\"];\n",
       "  s3 -> s2 [label=\"union\"];\n",
       "\n",
       "  s1 [label=\"s1\\nvisited: 61\\nrelated: 4\"];\n",
       "  s1 -> s0 [label=\"forward\\nfound: 60\\nrelated: 3\"];\n",
       "\n",
       "  s2 [label=\"s2\\nvisited: 18\\nrelated: 2\"];\n",
       "  s2 -> s0 [label=\"backward\\nfound: 17\\nrelated: 1\"];\n",
       "\n",
       "  s0 [label=\"s0\\nvisited: 1\\nrelated: 1\"];\n",
       "\n",
       "}"
      ]
     },
     "metadata": {},
     "output_type": "display_data"
    }
   ],
   "source": [
    "State.last_id = 0\n",
    "state = strategy.sfbu()\n",
    "state"
   ]
  },
  {
   "cell_type": "code",
   "execution_count": 12,
   "metadata": {},
   "outputs": [
    {
     "data": {
      "text/plain": [
       "[['kitchenham2004a - A comparison of cross-company and within-company effort estimation models for web applications'],\n",
       " ['ferrucci2012a - Web effort estimation: The value of cross-company data set compared to single-company data set',\n",
       "  'kitchenham2007a - Cross versus within-company cost estimation studies: A systematic review',\n",
       "  'premraj2007a - Building software cost estimation models using homogenous data']]"
      ]
     },
     "execution_count": 12,
     "metadata": {},
     "output_type": "execute_result"
    }
   ],
   "source": [
    "separa_backward_forward(state) @ metakey_title\n"
   ]
  },
  {
   "cell_type": "code",
   "execution_count": 13,
   "metadata": {},
   "outputs": [
    {
     "data": {
      "text/plain": [
       "98"
      ]
     },
     "execution_count": 13,
     "metadata": {},
     "output_type": "execute_result"
    }
   ],
   "source": [
    "#Total de visitados = visitados no final - visitados no início\n",
    "len(state.visited - state.find(\"s0\").visited)"
   ]
  },
  {
   "cell_type": "code",
   "execution_count": 14,
   "metadata": {},
   "outputs": [
    {
     "data": {
      "text/plain": [
       "{Web effort estimation: The value of cross-company data set compared to single-company data set,\n",
       " Cross versus within-company cost estimation studies: A systematic review,\n",
       " Building software cost estimation models using homogenous data,\n",
       " A comparison of cross-company and within-company effort estimation models for web applications}"
      ]
     },
     "execution_count": 14,
     "metadata": {},
     "output_type": "execute_result"
    }
   ],
   "source": [
    "# Descrição dos Relacionados = relacionados no final - relacionados no início\n",
    "state.related - state.find(\"s0\").related"
   ]
  },
  {
   "cell_type": "code",
   "execution_count": 15,
   "metadata": {},
   "outputs": [
    {
     "name": "stdout",
     "output_type": "stream",
     "text": [
      "Relacionados:\n"
     ]
    },
    {
     "data": {
      "text/plain": [
       "{Software engineering metrics and models,\n",
       " Exploiting the essential assumptions of analogy-based effort estimation,\n",
       " Statistical power analysis for the behavioral sciences,\n",
       " Case studies for method and tool evaluation,\n",
       " On the relative value of cross-company and within-company data for defect prediction,\n",
       " A study of project selection and feature weighting for analogy based software cost estimation,\n",
       " How to find relevant data for effort estimation?,\n",
       " Local vs. global models for effort estimation and defect prediction,\n",
       " Web cost estimation and productivity benchmarking,\n",
       " The need for web engineering: An introduction,\n",
       " Comparison of Web size measures for predicting Web design and authoring effort}"
      ]
     },
     "execution_count": 15,
     "metadata": {},
     "output_type": "execute_result"
    }
   ],
   "source": [
    "#Encontrados no found - i.e., na iteração. Sem duplicados.\n",
    "print(\"Relacionados:\")\n",
    "state.find(\"s5\").delta_visited"
   ]
  },
  {
   "cell_type": "code",
   "execution_count": 16,
   "metadata": {},
   "outputs": [
    {
     "name": "stdout",
     "output_type": "stream",
     "text": [
      "Relacionados:\n"
     ]
    },
    {
     "data": {
      "text/plain": [
       "set()"
      ]
     },
     "execution_count": 16,
     "metadata": {},
     "output_type": "execute_result"
    }
   ],
   "source": [
    "print(\"Relacionados:\")\n",
    "state.find(\"s5\").delta_visited - state.find(\"s5\").delta_visited"
   ]
  },
  {
   "cell_type": "code",
   "execution_count": 17,
   "metadata": {},
   "outputs": [
    {
     "data": {
      "text/plain": [
       "{Web effort estimation: The value of cross-company data set compared to single-company data set,\n",
       " Cross versus within-company cost estimation studies: A systematic review,\n",
       " Building software cost estimation models using homogenous data,\n",
       " Further comparison of cross-company and within-company effort estimation models for web applications,\n",
       " A comparison of cross-company and within-company effort estimation models for web applications}"
      ]
     },
     "execution_count": 17,
     "metadata": {},
     "output_type": "execute_result"
    }
   ],
   "source": [
    "# Relacionados no Estado s4\n",
    "state.find(\"s4\").related"
   ]
  },
  {
   "cell_type": "code",
   "execution_count": 18,
   "metadata": {},
   "outputs": [
    {
     "name": "stdout",
     "output_type": "stream",
     "text": [
      "Relacionados:\n"
     ]
    },
    {
     "data": {
      "text/plain": [
       "{An Empirical Analysis of Three-Stage Data-Preprocessing for Analogy-Based Software Effort Estimation on the ISBSG Data,\n",
       " La práctica de la estimación en empresas y áreas de Sistemas,\n",
       " Systematic literature review on effort estimation for Open Sources (OSS) web application development,\n",
       " From Function Points to COSMIC-A Transfer Learning Approach for Effort Estimation,\n",
       " A comparison of cross-versus single-company effort prediction models for web projects,\n",
       " An empirical analysis of data preprocessing for machine learning-based software cost estimation,\n",
       " Mining app stores: Extracting technical, business and customer rating information for analysis and prediction,\n",
       " Empirical Assessment of Machine Learning Models for Effort Estimation of Web-based Applications,\n",
       " Sharing data and models in software engineering,\n",
       " Effort estimation of web-based applications using machine learning techniques}"
      ]
     },
     "execution_count": 18,
     "metadata": {},
     "output_type": "execute_result"
    }
   ],
   "source": [
    "# Found = 10, i.e., Visitados para chegar ao estado s4, sem incluir os duplicados - existentes na base.\n",
    "print(\"Relacionados:\")\n",
    "state.find(\"s4\").delta_visited"
   ]
  },
  {
   "cell_type": "code",
   "execution_count": 19,
   "metadata": {},
   "outputs": [
    {
     "name": "stdout",
     "output_type": "stream",
     "text": [
      "Visitados:\n"
     ]
    },
    {
     "data": {
      "text/plain": [
       "{Further comparison of cross-company and within-company effort estimation models for web applications}"
      ]
     },
     "execution_count": 19,
     "metadata": {},
     "output_type": "execute_result"
    }
   ],
   "source": [
    "print(\"Visitados:\")\n",
    "state.find(\"s0\").visited"
   ]
  },
  {
   "cell_type": "code",
   "execution_count": 20,
   "metadata": {},
   "outputs": [
    {
     "data": {
      "text/plain": [
       "set()"
      ]
     },
     "execution_count": 20,
     "metadata": {},
     "output_type": "execute_result"
    }
   ],
   "source": [
    "#Visualização de Backward\n",
    "#state.related & set(strategy.ref[work_by_varname(\"mendes2004a\")])\n",
    "\n",
    "state.find(\"s0\").related & set(strategy.ref[work_by_varname(\"mendes2004a\")])"
   ]
  },
  {
   "cell_type": "markdown",
   "metadata": {},
   "source": [
    "## Estratégias"
   ]
  },
  {
   "cell_type": "markdown",
   "metadata": {},
   "source": [
    "### Estratégia 1 - Busca em todas Digital Libraries (DL)"
   ]
  },
  {
   "cell_type": "code",
   "execution_count": 21,
   "metadata": {},
   "outputs": [
    {
     "data": {
      "text/plain": [
       "5"
      ]
     },
     "execution_count": 21,
     "metadata": {},
     "output_type": "execute_result"
    }
   ],
   "source": [
    "len ([x for _, x in load_work_map_all_years() if x.category == \"snowball\"])"
   ]
  },
  {
   "cell_type": "code",
   "execution_count": 22,
   "metadata": {},
   "outputs": [
    {
     "data": {
      "image/svg+xml": [
       "<?xml version=\"1.0\" encoding=\"UTF-8\" standalone=\"no\"?>\r\n",
       "<!DOCTYPE svg PUBLIC \"-//W3C//DTD SVG 1.1//EN\"\r\n",
       " \"http://www.w3.org/Graphics/SVG/1.1/DTD/svg11.dtd\">\r\n",
       "<!-- Generated by graphviz version 2.38.0 (20140413.2041)\r\n",
       " -->\r\n",
       "<!-- Title: G Pages: 1 -->\r\n",
       "<svg width=\"103pt\" height=\"83pt\"\r\n",
       " viewBox=\"0.00 0.00 102.75 82.95\" xmlns=\"http://www.w3.org/2000/svg\" xmlns:xlink=\"http://www.w3.org/1999/xlink\">\r\n",
       "<g id=\"graph0\" class=\"graph\" transform=\"scale(1 1) rotate(0) translate(4 78.9533)\">\r\n",
       "<title>G</title>\r\n",
       "<polygon fill=\"white\" stroke=\"none\" points=\"-4,4 -4,-78.9533 98.7523,-78.9533 98.7523,4 -4,4\"/>\r\n",
       "<!-- s0 -->\r\n",
       "<g id=\"node1\" class=\"node\"><title>s0</title>\r\n",
       "<ellipse fill=\"none\" stroke=\"black\" cx=\"47.3762\" cy=\"-37.4767\" rx=\"47.2526\" ry=\"37.4533\"/>\r\n",
       "<text text-anchor=\"middle\" x=\"47.3762\" y=\"-48.7767\" font-family=\"Times New Roman,serif\" font-size=\"14.00\">s0</text>\r\n",
       "<text text-anchor=\"middle\" x=\"47.3762\" y=\"-33.7767\" font-family=\"Times New Roman,serif\" font-size=\"14.00\">visited: 4</text>\r\n",
       "<text text-anchor=\"middle\" x=\"47.3762\" y=\"-18.7767\" font-family=\"Times New Roman,serif\" font-size=\"14.00\">related: 2</text>\r\n",
       "</g>\r\n",
       "</g>\r\n",
       "</svg>\r\n"
      ],
      "text/plain": [
       "Step(name='start', new_references=4, new_related=2, total_visited=4, total_related=2, source='', target='s0')"
      ],
      "text/vnd.graphviz": [
       "digraph G {\n",
       "  rankdir=\"RL\";\n",
       "\n",
       "  s0 [label=\"s0\\nvisited: 4\\nrelated: 2\"];\n",
       "\n",
       "}"
      ]
     },
     "metadata": {},
     "output_type": "display_data"
    }
   ],
   "source": [
    "reload()\n",
    "TOTAL = [x for _, x in load_work_map_all_years() if x.category == \"snowball\"]\n",
    "filter_function = lambda x: x.category in (\"snowball\", \"forward\", \"backward\")\n",
    "\n",
    "strategy = Strategy(*busca(\"scopus\", filter_function=filter_function))\n",
    "\n",
    "state = strategy.initial\n",
    "strategy.initial.visited\n",
    "\n",
    "#strategy.initial.name\n",
    "state\n"
   ]
  },
  {
   "cell_type": "code",
   "execution_count": 23,
   "metadata": {},
   "outputs": [
    {
     "data": {
      "image/svg+xml": [
       "<?xml version=\"1.0\" encoding=\"UTF-8\" standalone=\"no\"?>\r\n",
       "<!DOCTYPE svg PUBLIC \"-//W3C//DTD SVG 1.1//EN\"\r\n",
       " \"http://www.w3.org/Graphics/SVG/1.1/DTD/svg11.dtd\">\r\n",
       "<!-- Generated by graphviz version 2.38.0 (20140413.2041)\r\n",
       " -->\r\n",
       "<!-- Title: G Pages: 1 -->\r\n",
       "<svg width=\"265pt\" height=\"269pt\"\r\n",
       " viewBox=\"0.00 0.00 264.50 268.95\" xmlns=\"http://www.w3.org/2000/svg\" xmlns:xlink=\"http://www.w3.org/1999/xlink\">\r\n",
       "<g id=\"graph0\" class=\"graph\" transform=\"scale(1 1) rotate(0) translate(4 264.953)\">\r\n",
       "<title>G</title>\r\n",
       "<polygon fill=\"white\" stroke=\"none\" points=\"-4,4 -4,-264.953 260.505,-264.953 260.505,4 -4,4\"/>\r\n",
       "<!-- s0 -->\r\n",
       "<g id=\"node1\" class=\"node\"><title>s0</title>\r\n",
       "<ellipse fill=\"none\" stroke=\"black\" cx=\"209.128\" cy=\"-130.477\" rx=\"47.2526\" ry=\"37.4533\"/>\r\n",
       "<text text-anchor=\"middle\" x=\"209.128\" y=\"-141.777\" font-family=\"Times New Roman,serif\" font-size=\"14.00\">s0</text>\r\n",
       "<text text-anchor=\"middle\" x=\"209.128\" y=\"-126.777\" font-family=\"Times New Roman,serif\" font-size=\"14.00\">visited: 5</text>\r\n",
       "<text text-anchor=\"middle\" x=\"209.128\" y=\"-111.777\" font-family=\"Times New Roman,serif\" font-size=\"14.00\">related: 2</text>\r\n",
       "</g>\r\n",
       "<!-- acm -->\r\n",
       "<g id=\"node2\" class=\"node\"><title>acm</title>\r\n",
       "<ellipse fill=\"none\" stroke=\"black\" cx=\"47.3762\" cy=\"-223.477\" rx=\"47.2526\" ry=\"37.4533\"/>\r\n",
       "<text text-anchor=\"middle\" x=\"47.3762\" y=\"-234.777\" font-family=\"Times New Roman,serif\" font-size=\"14.00\">acm</text>\r\n",
       "<text text-anchor=\"middle\" x=\"47.3762\" y=\"-219.777\" font-family=\"Times New Roman,serif\" font-size=\"14.00\">visited: 2</text>\r\n",
       "<text text-anchor=\"middle\" x=\"47.3762\" y=\"-204.777\" font-family=\"Times New Roman,serif\" font-size=\"14.00\">related: 1</text>\r\n",
       "</g>\r\n",
       "<!-- s0&#45;&gt;acm -->\r\n",
       "<g id=\"edge1\" class=\"edge\"><title>s0&#45;&gt;acm</title>\r\n",
       "<path fill=\"none\" stroke=\"black\" d=\"M170.269,-152.516C147.688,-165.662 118.844,-182.453 94.8841,-196.402\"/>\r\n",
       "<polygon fill=\"black\" stroke=\"black\" points=\"92.8448,-193.539 85.9635,-201.595 96.3666,-199.589 92.8448,-193.539\"/>\r\n",
       "<text text-anchor=\"middle\" x=\"128.252\" y=\"-188.277\" font-family=\"Times New Roman,serif\" font-size=\"14.00\">union</text>\r\n",
       "</g>\r\n",
       "<!-- scopus -->\r\n",
       "<g id=\"node3\" class=\"node\"><title>scopus</title>\r\n",
       "<ellipse fill=\"none\" stroke=\"black\" cx=\"47.3762\" cy=\"-130.477\" rx=\"47.2526\" ry=\"37.4533\"/>\r\n",
       "<text text-anchor=\"middle\" x=\"47.3762\" y=\"-141.777\" font-family=\"Times New Roman,serif\" font-size=\"14.00\">scopus</text>\r\n",
       "<text text-anchor=\"middle\" x=\"47.3762\" y=\"-126.777\" font-family=\"Times New Roman,serif\" font-size=\"14.00\">visited: 4</text>\r\n",
       "<text text-anchor=\"middle\" x=\"47.3762\" y=\"-111.777\" font-family=\"Times New Roman,serif\" font-size=\"14.00\">related: 2</text>\r\n",
       "</g>\r\n",
       "<!-- s0&#45;&gt;scopus -->\r\n",
       "<g id=\"edge2\" class=\"edge\"><title>s0&#45;&gt;scopus</title>\r\n",
       "<path fill=\"none\" stroke=\"black\" d=\"M161.492,-130.477C143.775,-130.477 123.403,-130.477 104.871,-130.477\"/>\r\n",
       "<polygon fill=\"black\" stroke=\"black\" points=\"104.794,-126.977 94.7944,-130.477 104.794,-133.977 104.794,-126.977\"/>\r\n",
       "<text text-anchor=\"middle\" x=\"128.252\" y=\"-134.277\" font-family=\"Times New Roman,serif\" font-size=\"14.00\">union</text>\r\n",
       "</g>\r\n",
       "<!-- gs -->\r\n",
       "<g id=\"node4\" class=\"node\"><title>gs</title>\r\n",
       "<ellipse fill=\"none\" stroke=\"black\" cx=\"47.3762\" cy=\"-37.4767\" rx=\"47.2526\" ry=\"37.4533\"/>\r\n",
       "<text text-anchor=\"middle\" x=\"47.3762\" y=\"-48.7767\" font-family=\"Times New Roman,serif\" font-size=\"14.00\">gs</text>\r\n",
       "<text text-anchor=\"middle\" x=\"47.3762\" y=\"-33.7767\" font-family=\"Times New Roman,serif\" font-size=\"14.00\">visited: 0</text>\r\n",
       "<text text-anchor=\"middle\" x=\"47.3762\" y=\"-18.7767\" font-family=\"Times New Roman,serif\" font-size=\"14.00\">related: 0</text>\r\n",
       "</g>\r\n",
       "<!-- s0&#45;&gt;gs -->\r\n",
       "<g id=\"edge3\" class=\"edge\"><title>s0&#45;&gt;gs</title>\r\n",
       "<path fill=\"none\" stroke=\"black\" d=\"M170.269,-108.437C147.688,-95.2914 118.844,-78.4998 94.8841,-64.5513\"/>\r\n",
       "<polygon fill=\"black\" stroke=\"black\" points=\"96.3666,-61.3645 85.9635,-59.3582 92.8448,-67.4141 96.3666,-61.3645\"/>\r\n",
       "<text text-anchor=\"middle\" x=\"128.252\" y=\"-96.2767\" font-family=\"Times New Roman,serif\" font-size=\"14.00\">union</text>\r\n",
       "</g>\r\n",
       "</g>\r\n",
       "</svg>\r\n"
      ],
      "text/plain": [
       "Step(name='start', new_references=0, new_related=0, total_visited=0, total_related=0, source='', target='gs')\n",
       "Step(name='start', new_references=4, new_related=2, total_visited=4, total_related=2, source='', target='scopus')\n",
       "Step(name='start', new_references=2, new_related=1, total_visited=2, total_related=1, source='', target='acm')\n",
       "Step(name='union', new_references=0, new_related=0, total_visited=5, total_related=2, source='acm|scopus|gs', target='s0')"
      ],
      "text/vnd.graphviz": [
       "digraph G {\n",
       "  rankdir=\"RL\";\n",
       "\n",
       "  s0 [label=\"s0\\nvisited: 5\\nrelated: 2\"];\n",
       "  s0 -> acm [label=\"union\"];\n",
       "  s0 -> scopus [label=\"union\"];\n",
       "  s0 -> gs [label=\"union\"];\n",
       "\n",
       "  acm [label=\"acm\\nvisited: 2\\nrelated: 1\"];\n",
       "\n",
       "  scopus [label=\"scopus\\nvisited: 4\\nrelated: 2\"];\n",
       "\n",
       "  gs [label=\"gs\\nvisited: 0\\nrelated: 0\"];\n",
       "\n",
       "}"
      ]
     },
     "metadata": {},
     "output_type": "display_data"
    }
   ],
   "source": [
    "from snowballing.strategies import State\n",
    "\n",
    "reload()\n",
    "def busca_completa(libs, filter_function):\n",
    "    union = None\n",
    "    for dl in libs:\n",
    "        strategy = Strategy(*busca(dl, filter_function=filter_function))\n",
    "        strategy.initial.name = dl\n",
    "        if union is None:\n",
    "            union = strategy.initial.derive(\"union\", name=\"s0\")\n",
    "        else:\n",
    "            union.visited.update(strategy.initial.visited)\n",
    "            union.related.update(strategy.initial.related)\n",
    "            union.previous[0].append(strategy.initial)\n",
    "\n",
    "    State.last_id = 0\n",
    "    strategy.initial = union\n",
    "    return strategy\n",
    "\n",
    "strategy = busca_completa([\"acm\", \"scopus\", \"gs\"], filter_function)\n",
    "#strategy.initial.find(\"acm\")\n",
    "strategy.initial"
   ]
  },
  {
   "cell_type": "code",
   "execution_count": 24,
   "metadata": {},
   "outputs": [
    {
     "name": "stdout",
     "output_type": "stream",
     "text": [
      "Precision E1\n",
      "0.5\n",
      "Recall E1\n",
      "0.4\n"
     ]
    }
   ],
   "source": [
    "array = []\n",
    "\n",
    "name = \"E1\"\n",
    "print (\"Precision \" + name)\n",
    "EP = len (state.related) / len (state.visited)\n",
    "print (EP)\n",
    "print (\"Recall \" + name)\n",
    "ER = len (state.related) / len (TOTAL)\n",
    "print (ER)\n",
    "\n",
    "array.append((name, EP, ER))"
   ]
  },
  {
   "cell_type": "markdown",
   "metadata": {},
   "source": [
    "### Estratégia 2 - Busca em todas Digital Libraries + Snowballing (Guideline - sfbu)"
   ]
  },
  {
   "cell_type": "code",
   "execution_count": 25,
   "metadata": {},
   "outputs": [
    {
     "data": {
      "image/svg+xml": [
       "<?xml version=\"1.0\" encoding=\"UTF-8\" standalone=\"no\"?>\r\n",
       "<!DOCTYPE svg PUBLIC \"-//W3C//DTD SVG 1.1//EN\"\r\n",
       " \"http://www.w3.org/Graphics/SVG/1.1/DTD/svg11.dtd\">\r\n",
       "<!-- Generated by graphviz version 2.38.0 (20140413.2041)\r\n",
       " -->\r\n",
       "<!-- Title: G Pages: 1 -->\r\n",
       "<svg width=\"993pt\" height=\"195pt\"\r\n",
       " viewBox=\"0.00 0.00 993.45 194.95\" xmlns=\"http://www.w3.org/2000/svg\" xmlns:xlink=\"http://www.w3.org/1999/xlink\">\r\n",
       "<g id=\"graph0\" class=\"graph\" transform=\"scale(1 1) rotate(0) translate(4 190.953)\">\r\n",
       "<title>G</title>\r\n",
       "<polygon fill=\"white\" stroke=\"none\" points=\"-4,4 -4,-190.953 989.455,-190.953 989.455,4 -4,4\"/>\r\n",
       "<!-- s6 -->\r\n",
       "<g id=\"node1\" class=\"node\"><title>s6</title>\r\n",
       "<ellipse fill=\"none\" stroke=\"black\" cx=\"933.836\" cy=\"-90.4767\" rx=\"51.7379\" ry=\"37.4533\"/>\r\n",
       "<text text-anchor=\"middle\" x=\"933.836\" y=\"-101.777\" font-family=\"Times New Roman,serif\" font-size=\"14.00\">s6</text>\r\n",
       "<text text-anchor=\"middle\" x=\"933.836\" y=\"-86.7767\" font-family=\"Times New Roman,serif\" font-size=\"14.00\">visited: 99</text>\r\n",
       "<text text-anchor=\"middle\" x=\"933.836\" y=\"-71.7767\" font-family=\"Times New Roman,serif\" font-size=\"14.00\">related: 5</text>\r\n",
       "</g>\r\n",
       "<!-- s4 -->\r\n",
       "<g id=\"node2\" class=\"node\"><title>s4</title>\r\n",
       "<ellipse fill=\"none\" stroke=\"black\" cx=\"763.599\" cy=\"-130.477\" rx=\"51.7379\" ry=\"37.4533\"/>\r\n",
       "<text text-anchor=\"middle\" x=\"763.599\" y=\"-141.777\" font-family=\"Times New Roman,serif\" font-size=\"14.00\">s4</text>\r\n",
       "<text text-anchor=\"middle\" x=\"763.599\" y=\"-126.777\" font-family=\"Times New Roman,serif\" font-size=\"14.00\">visited: 99</text>\r\n",
       "<text text-anchor=\"middle\" x=\"763.599\" y=\"-111.777\" font-family=\"Times New Roman,serif\" font-size=\"14.00\">related: 5</text>\r\n",
       "</g>\r\n",
       "<!-- s6&#45;&gt;s4 -->\r\n",
       "<g id=\"edge1\" class=\"edge\"><title>s6&#45;&gt;s4</title>\r\n",
       "<path fill=\"none\" stroke=\"black\" d=\"M884.626,-101.939C865.267,-106.542 842.785,-111.887 822.547,-116.699\"/>\r\n",
       "<polygon fill=\"black\" stroke=\"black\" points=\"821.735,-113.294 812.816,-119.013 823.354,-120.104 821.735,-113.294\"/>\r\n",
       "<text text-anchor=\"middle\" x=\"848.717\" y=\"-117.277\" font-family=\"Times New Roman,serif\" font-size=\"14.00\">union</text>\r\n",
       "</g>\r\n",
       "<!-- s5 -->\r\n",
       "<g id=\"node3\" class=\"node\"><title>s5</title>\r\n",
       "<ellipse fill=\"none\" stroke=\"black\" cx=\"763.599\" cy=\"-37.4767\" rx=\"51.7379\" ry=\"37.4533\"/>\r\n",
       "<text text-anchor=\"middle\" x=\"763.599\" y=\"-48.7767\" font-family=\"Times New Roman,serif\" font-size=\"14.00\">s5</text>\r\n",
       "<text text-anchor=\"middle\" x=\"763.599\" y=\"-33.7767\" font-family=\"Times New Roman,serif\" font-size=\"14.00\">visited: 99</text>\r\n",
       "<text text-anchor=\"middle\" x=\"763.599\" y=\"-18.7767\" font-family=\"Times New Roman,serif\" font-size=\"14.00\">related: 5</text>\r\n",
       "</g>\r\n",
       "<!-- s6&#45;&gt;s5 -->\r\n",
       "<g id=\"edge2\" class=\"edge\"><title>s6&#45;&gt;s5</title>\r\n",
       "<path fill=\"none\" stroke=\"black\" d=\"M885.973,-75.7132C865.828,-69.3672 842.112,-61.8958 821.014,-55.2491\"/>\r\n",
       "<polygon fill=\"black\" stroke=\"black\" points=\"821.8,-51.8275 811.211,-52.1609 819.697,-58.504 821.8,-51.8275\"/>\r\n",
       "<text text-anchor=\"middle\" x=\"848.717\" y=\"-73.2767\" font-family=\"Times New Roman,serif\" font-size=\"14.00\">union</text>\r\n",
       "</g>\r\n",
       "<!-- s3 -->\r\n",
       "<g id=\"node4\" class=\"node\"><title>s3</title>\r\n",
       "<ellipse fill=\"none\" stroke=\"black\" cx=\"569.361\" cy=\"-86.4767\" rx=\"51.7379\" ry=\"37.4533\"/>\r\n",
       "<text text-anchor=\"middle\" x=\"569.361\" y=\"-97.7767\" font-family=\"Times New Roman,serif\" font-size=\"14.00\">s3</text>\r\n",
       "<text text-anchor=\"middle\" x=\"569.361\" y=\"-82.7767\" font-family=\"Times New Roman,serif\" font-size=\"14.00\">visited: 99</text>\r\n",
       "<text text-anchor=\"middle\" x=\"569.361\" y=\"-67.7767\" font-family=\"Times New Roman,serif\" font-size=\"14.00\">related: 5</text>\r\n",
       "</g>\r\n",
       "<!-- s4&#45;&gt;s3 -->\r\n",
       "<g id=\"edge3\" class=\"edge\"><title>s4&#45;&gt;s3</title>\r\n",
       "<path fill=\"none\" stroke=\"black\" d=\"M714.089,-119.374C688.135,-113.433 655.984,-106.074 628.676,-99.8241\"/>\r\n",
       "<polygon fill=\"black\" stroke=\"black\" points=\"629.384,-96.3956 618.855,-97.5762 627.822,-103.219 629.384,-96.3956\"/>\r\n",
       "<text text-anchor=\"middle\" x=\"666.48\" y=\"-147.277\" font-family=\"Times New Roman,serif\" font-size=\"14.00\">forward</text>\r\n",
       "<text text-anchor=\"middle\" x=\"666.48\" y=\"-132.277\" font-family=\"Times New Roman,serif\" font-size=\"14.00\">found: 0</text>\r\n",
       "<text text-anchor=\"middle\" x=\"666.48\" y=\"-117.277\" font-family=\"Times New Roman,serif\" font-size=\"14.00\">related: 0</text>\r\n",
       "</g>\r\n",
       "<!-- s5&#45;&gt;s3 -->\r\n",
       "<g id=\"edge4\" class=\"edge\"><title>s5&#45;&gt;s3</title>\r\n",
       "<path fill=\"none\" stroke=\"black\" d=\"M711.919,-40.3639C689.256,-42.5867 662.423,-46.5194 638.98,-53.4767 632.909,-55.2784 626.707,-57.5614 620.636,-60.0825\"/>\r\n",
       "<polygon fill=\"black\" stroke=\"black\" points=\"618.992,-56.9818 611.241,-64.2052 621.805,-63.3918 618.992,-56.9818\"/>\r\n",
       "<text text-anchor=\"middle\" x=\"666.48\" y=\"-87.2767\" font-family=\"Times New Roman,serif\" font-size=\"14.00\">backward</text>\r\n",
       "<text text-anchor=\"middle\" x=\"666.48\" y=\"-72.2767\" font-family=\"Times New Roman,serif\" font-size=\"14.00\">found: 0</text>\r\n",
       "<text text-anchor=\"middle\" x=\"666.48\" y=\"-57.2767\" font-family=\"Times New Roman,serif\" font-size=\"14.00\">related: 0</text>\r\n",
       "</g>\r\n",
       "<!-- s1 -->\r\n",
       "<g id=\"node5\" class=\"node\"><title>s1</title>\r\n",
       "<ellipse fill=\"none\" stroke=\"black\" cx=\"399.123\" cy=\"-146.477\" rx=\"51.7379\" ry=\"37.4533\"/>\r\n",
       "<text text-anchor=\"middle\" x=\"399.123\" y=\"-157.777\" font-family=\"Times New Roman,serif\" font-size=\"14.00\">s1</text>\r\n",
       "<text text-anchor=\"middle\" x=\"399.123\" y=\"-142.777\" font-family=\"Times New Roman,serif\" font-size=\"14.00\">visited: 73</text>\r\n",
       "<text text-anchor=\"middle\" x=\"399.123\" y=\"-127.777\" font-family=\"Times New Roman,serif\" font-size=\"14.00\">related: 4</text>\r\n",
       "</g>\r\n",
       "<!-- s3&#45;&gt;s1 -->\r\n",
       "<g id=\"edge5\" class=\"edge\"><title>s3&#45;&gt;s1</title>\r\n",
       "<path fill=\"none\" stroke=\"black\" d=\"M522.833,-102.714C501.98,-110.151 477.088,-119.028 455.189,-126.838\"/>\r\n",
       "<polygon fill=\"black\" stroke=\"black\" points=\"453.931,-123.571 445.687,-130.227 456.282,-130.164 453.931,-123.571\"/>\r\n",
       "<text text-anchor=\"middle\" x=\"484.242\" y=\"-125.277\" font-family=\"Times New Roman,serif\" font-size=\"14.00\">union</text>\r\n",
       "</g>\r\n",
       "<!-- s2 -->\r\n",
       "<g id=\"node6\" class=\"node\"><title>s2</title>\r\n",
       "<ellipse fill=\"none\" stroke=\"black\" cx=\"399.123\" cy=\"-53.4767\" rx=\"51.7379\" ry=\"37.4533\"/>\r\n",
       "<text text-anchor=\"middle\" x=\"399.123\" y=\"-64.7767\" font-family=\"Times New Roman,serif\" font-size=\"14.00\">s2</text>\r\n",
       "<text text-anchor=\"middle\" x=\"399.123\" y=\"-49.7767\" font-family=\"Times New Roman,serif\" font-size=\"14.00\">visited: 36</text>\r\n",
       "<text text-anchor=\"middle\" x=\"399.123\" y=\"-34.7767\" font-family=\"Times New Roman,serif\" font-size=\"14.00\">related: 4</text>\r\n",
       "</g>\r\n",
       "<!-- s3&#45;&gt;s2 -->\r\n",
       "<g id=\"edge6\" class=\"edge\"><title>s3&#45;&gt;s2</title>\r\n",
       "<path fill=\"none\" stroke=\"black\" d=\"M519.247,-76.843C500.499,-73.1655 478.928,-68.9342 459.337,-65.0914\"/>\r\n",
       "<polygon fill=\"black\" stroke=\"black\" points=\"459.785,-61.6127 449.298,-63.1223 458.437,-68.4818 459.785,-61.6127\"/>\r\n",
       "<text text-anchor=\"middle\" x=\"484.242\" y=\"-77.2767\" font-family=\"Times New Roman,serif\" font-size=\"14.00\">union</text>\r\n",
       "</g>\r\n",
       "<!-- s0 -->\r\n",
       "<g id=\"node7\" class=\"node\"><title>s0</title>\r\n",
       "<ellipse fill=\"none\" stroke=\"black\" cx=\"209.128\" cy=\"-102.477\" rx=\"47.2526\" ry=\"37.4533\"/>\r\n",
       "<text text-anchor=\"middle\" x=\"209.128\" y=\"-113.777\" font-family=\"Times New Roman,serif\" font-size=\"14.00\">s0</text>\r\n",
       "<text text-anchor=\"middle\" x=\"209.128\" y=\"-98.7767\" font-family=\"Times New Roman,serif\" font-size=\"14.00\">visited: 5</text>\r\n",
       "<text text-anchor=\"middle\" x=\"209.128\" y=\"-83.7767\" font-family=\"Times New Roman,serif\" font-size=\"14.00\">related: 2</text>\r\n",
       "</g>\r\n",
       "<!-- s1&#45;&gt;s0 -->\r\n",
       "<g id=\"edge7\" class=\"edge\"><title>s1&#45;&gt;s0</title>\r\n",
       "<path fill=\"none\" stroke=\"black\" d=\"M349.71,-135.146C323.76,-129.072 291.694,-121.567 264.843,-115.283\"/>\r\n",
       "<polygon fill=\"black\" stroke=\"black\" points=\"265.366,-111.81 254.831,-112.939 263.771,-118.626 265.366,-111.81\"/>\r\n",
       "<text text-anchor=\"middle\" x=\"302.005\" y=\"-163.277\" font-family=\"Times New Roman,serif\" font-size=\"14.00\">forward</text>\r\n",
       "<text text-anchor=\"middle\" x=\"302.005\" y=\"-148.277\" font-family=\"Times New Roman,serif\" font-size=\"14.00\">found: 68</text>\r\n",
       "<text text-anchor=\"middle\" x=\"302.005\" y=\"-133.277\" font-family=\"Times New Roman,serif\" font-size=\"14.00\">related: 2</text>\r\n",
       "</g>\r\n",
       "<!-- s2&#45;&gt;s0 -->\r\n",
       "<g id=\"edge8\" class=\"edge\"><title>s2&#45;&gt;s0</title>\r\n",
       "<path fill=\"none\" stroke=\"black\" d=\"M347.323,-55.4583C324.637,-57.4019 297.819,-61.1796 274.505,-68.4767 268.488,-70.3596 262.373,-72.7994 256.425,-75.5076\"/>\r\n",
       "<polygon fill=\"black\" stroke=\"black\" points=\"254.734,-72.4378 247.255,-79.9428 257.782,-78.7395 254.734,-72.4378\"/>\r\n",
       "<text text-anchor=\"middle\" x=\"302.005\" y=\"-102.277\" font-family=\"Times New Roman,serif\" font-size=\"14.00\">backward</text>\r\n",
       "<text text-anchor=\"middle\" x=\"302.005\" y=\"-87.2767\" font-family=\"Times New Roman,serif\" font-size=\"14.00\">found: 31</text>\r\n",
       "<text text-anchor=\"middle\" x=\"302.005\" y=\"-72.2767\" font-family=\"Times New Roman,serif\" font-size=\"14.00\">related: 2</text>\r\n",
       "</g>\r\n",
       "<!-- acm -->\r\n",
       "<g id=\"node8\" class=\"node\"><title>acm</title>\r\n",
       "<ellipse fill=\"none\" stroke=\"black\" cx=\"47.3762\" cy=\"-149.477\" rx=\"47.2526\" ry=\"37.4533\"/>\r\n",
       "<text text-anchor=\"middle\" x=\"47.3762\" y=\"-160.777\" font-family=\"Times New Roman,serif\" font-size=\"14.00\">acm</text>\r\n",
       "<text text-anchor=\"middle\" x=\"47.3762\" y=\"-145.777\" font-family=\"Times New Roman,serif\" font-size=\"14.00\">visited: 2</text>\r\n",
       "<text text-anchor=\"middle\" x=\"47.3762\" y=\"-130.777\" font-family=\"Times New Roman,serif\" font-size=\"14.00\">related: 1</text>\r\n",
       "</g>\r\n",
       "<!-- s0&#45;&gt;acm -->\r\n",
       "<g id=\"edge9\" class=\"edge\"><title>s0&#45;&gt;acm</title>\r\n",
       "<path fill=\"none\" stroke=\"black\" d=\"M164.475,-115.32C145.104,-121.019 122.127,-127.779 101.746,-133.775\"/>\r\n",
       "<polygon fill=\"black\" stroke=\"black\" points=\"100.582,-130.469 91.9764,-136.649 102.558,-137.184 100.582,-130.469\"/>\r\n",
       "<text text-anchor=\"middle\" x=\"128.252\" y=\"-133.277\" font-family=\"Times New Roman,serif\" font-size=\"14.00\">union</text>\r\n",
       "</g>\r\n",
       "<!-- scopus -->\r\n",
       "<g id=\"node9\" class=\"node\"><title>scopus</title>\r\n",
       "<ellipse fill=\"none\" stroke=\"black\" cx=\"47.3762\" cy=\"-56.4767\" rx=\"47.2526\" ry=\"37.4533\"/>\r\n",
       "<text text-anchor=\"middle\" x=\"47.3762\" y=\"-67.7767\" font-family=\"Times New Roman,serif\" font-size=\"14.00\">scopus</text>\r\n",
       "<text text-anchor=\"middle\" x=\"47.3762\" y=\"-52.7767\" font-family=\"Times New Roman,serif\" font-size=\"14.00\">visited: 4</text>\r\n",
       "<text text-anchor=\"middle\" x=\"47.3762\" y=\"-37.7767\" font-family=\"Times New Roman,serif\" font-size=\"14.00\">related: 2</text>\r\n",
       "</g>\r\n",
       "<!-- s0&#45;&gt;scopus -->\r\n",
       "<g id=\"edge10\" class=\"edge\"><title>s0&#45;&gt;scopus</title>\r\n",
       "<path fill=\"none\" stroke=\"black\" d=\"M164.475,-89.907C145.183,-84.3519 122.315,-77.767 101.996,-71.9164\"/>\r\n",
       "<polygon fill=\"black\" stroke=\"black\" points=\"102.832,-68.5148 92.2537,-69.111 100.895,-75.2415 102.832,-68.5148\"/>\r\n",
       "<text text-anchor=\"middle\" x=\"128.252\" y=\"-88.2767\" font-family=\"Times New Roman,serif\" font-size=\"14.00\">union</text>\r\n",
       "</g>\r\n",
       "</g>\r\n",
       "</svg>\r\n"
      ],
      "text/plain": [
       "Step(name='start', new_references=4, new_related=2, total_visited=4, total_related=2, source='', target='scopus')\n",
       "Step(name='start', new_references=2, new_related=1, total_visited=2, total_related=1, source='', target='acm')\n",
       "Step(name='union', new_references=0, new_related=0, total_visited=5, total_related=2, source='acm|scopus', target='s0')\n",
       "Step(name='backward', new_references=31, new_related=2, total_visited=36, total_related=4, source='s0', target='s2')\n",
       "Step(name='forward', new_references=68, new_related=2, total_visited=73, total_related=4, source='s0', target='s1')\n",
       "Step(name='union', new_references=0, new_related=0, total_visited=99, total_related=5, source='s1|s2', target='s3')\n",
       "Step(name='backward', new_references=0, new_related=0, total_visited=99, total_related=5, source='s3', target='s5')\n",
       "Step(name='forward', new_references=0, new_related=0, total_visited=99, total_related=5, source='s3', target='s4')\n",
       "Step(name='union', new_references=0, new_related=0, total_visited=99, total_related=5, source='s4|s5', target='s6')"
      ],
      "text/vnd.graphviz": [
       "digraph G {\n",
       "  rankdir=\"RL\";\n",
       "\n",
       "  s6 [label=\"s6\\nvisited: 99\\nrelated: 5\"];\n",
       "  s6 -> s4 [label=\"union\"];\n",
       "  s6 -> s5 [label=\"union\"];\n",
       "\n",
       "  s4 [label=\"s4\\nvisited: 99\\nrelated: 5\"];\n",
       "  s4 -> s3 [label=\"forward\\nfound: 0\\nrelated: 0\"];\n",
       "\n",
       "  s5 [label=\"s5\\nvisited: 99\\nrelated: 5\"];\n",
       "  s5 -> s3 [label=\"backward\\nfound: 0\\nrelated: 0\"];\n",
       "\n",
       "  s3 [label=\"s3\\nvisited: 99\\nrelated: 5\"];\n",
       "  s3 -> s1 [label=\"union\"];\n",
       "  s3 -> s2 [label=\"union\"];\n",
       "\n",
       "  s1 [label=\"s1\\nvisited: 73\\nrelated: 4\"];\n",
       "  s1 -> s0 [label=\"forward\\nfound: 68\\nrelated: 2\"];\n",
       "\n",
       "  s2 [label=\"s2\\nvisited: 36\\nrelated: 4\"];\n",
       "  s2 -> s0 [label=\"backward\\nfound: 31\\nrelated: 2\"];\n",
       "\n",
       "  s0 [label=\"s0\\nvisited: 5\\nrelated: 2\"];\n",
       "  s0 -> acm [label=\"union\"];\n",
       "  s0 -> scopus [label=\"union\"];\n",
       "\n",
       "  acm [label=\"acm\\nvisited: 2\\nrelated: 1\"];\n",
       "\n",
       "  scopus [label=\"scopus\\nvisited: 4\\nrelated: 2\"];\n",
       "\n",
       "}"
      ]
     },
     "metadata": {},
     "output_type": "display_data"
    }
   ],
   "source": [
    "reload()\n",
    "filter_function = lambda x: x.category in (\"snowball\", \"forward\", \"backward\")\n",
    "\n",
    "strategy = busca_completa([\"acm\", \"scopus\"], filter_function)\n",
    "#Strategy(*busca(\"acm\",\"scopus\", filter_function=filter_function))\n",
    "\n",
    "state = strategy.sfbu()\n",
    "#state = strategy.bbff()\n",
    "#state = strategy.ffbb()\n",
    "#state = strategy.s2ffbb2u()\n",
    "\n",
    "state"
   ]
  },
  {
   "cell_type": "markdown",
   "metadata": {},
   "source": [
    "### Resumo "
   ]
  },
  {
   "cell_type": "markdown",
   "metadata": {},
   "source": [
    "#### Resumo da Busca em DL"
   ]
  },
  {
   "cell_type": "code",
   "execution_count": 26,
   "metadata": {},
   "outputs": [
    {
     "data": {
      "image/svg+xml": [
       "<?xml version=\"1.0\" encoding=\"UTF-8\" standalone=\"no\"?>\r\n",
       "<!DOCTYPE svg PUBLIC \"-//W3C//DTD SVG 1.1//EN\"\r\n",
       " \"http://www.w3.org/Graphics/SVG/1.1/DTD/svg11.dtd\">\r\n",
       "<!-- Generated by graphviz version 2.38.0 (20140413.2041)\r\n",
       " -->\r\n",
       "<!-- Title: G Pages: 1 -->\r\n",
       "<svg width=\"103pt\" height=\"83pt\"\r\n",
       " viewBox=\"0.00 0.00 102.75 82.95\" xmlns=\"http://www.w3.org/2000/svg\" xmlns:xlink=\"http://www.w3.org/1999/xlink\">\r\n",
       "<g id=\"graph0\" class=\"graph\" transform=\"scale(1 1) rotate(0) translate(4 78.9533)\">\r\n",
       "<title>G</title>\r\n",
       "<polygon fill=\"white\" stroke=\"none\" points=\"-4,4 -4,-78.9533 98.7523,-78.9533 98.7523,4 -4,4\"/>\r\n",
       "<!-- acm -->\r\n",
       "<g id=\"node1\" class=\"node\"><title>acm</title>\r\n",
       "<ellipse fill=\"none\" stroke=\"black\" cx=\"47.3762\" cy=\"-37.4767\" rx=\"47.2526\" ry=\"37.4533\"/>\r\n",
       "<text text-anchor=\"middle\" x=\"47.3762\" y=\"-48.7767\" font-family=\"Times New Roman,serif\" font-size=\"14.00\">acm</text>\r\n",
       "<text text-anchor=\"middle\" x=\"47.3762\" y=\"-33.7767\" font-family=\"Times New Roman,serif\" font-size=\"14.00\">visited: 2</text>\r\n",
       "<text text-anchor=\"middle\" x=\"47.3762\" y=\"-18.7767\" font-family=\"Times New Roman,serif\" font-size=\"14.00\">related: 1</text>\r\n",
       "</g>\r\n",
       "</g>\r\n",
       "</svg>\r\n"
      ],
      "text/plain": [
       "Step(name='start', new_references=2, new_related=1, total_visited=2, total_related=1, source='', target='acm')"
      ],
      "text/vnd.graphviz": [
       "digraph G {\n",
       "  rankdir=\"RL\";\n",
       "\n",
       "  acm [label=\"acm\\nvisited: 2\\nrelated: 1\"];\n",
       "\n",
       "}"
      ]
     },
     "metadata": {},
     "output_type": "display_data"
    }
   ],
   "source": [
    "strategy.initial.find(\"acm\")"
   ]
  },
  {
   "cell_type": "code",
   "execution_count": 27,
   "metadata": {},
   "outputs": [
    {
     "data": {
      "text/plain": [
       "{Further comparison of cross-company and within-company effort estimation models for web applications,\n",
       " Cross-vs. within-company cost estimation studies revisited: an extended systematic review}"
      ]
     },
     "execution_count": 27,
     "metadata": {},
     "output_type": "execute_result"
    }
   ],
   "source": [
    "# Visitados ACM\n",
    "strategy.initial.find(\"acm\").visited"
   ]
  },
  {
   "cell_type": "code",
   "execution_count": 28,
   "metadata": {},
   "outputs": [
    {
     "data": {
      "text/plain": [
       "{Further comparison of cross-company and within-company effort estimation models for web applications}"
      ]
     },
     "execution_count": 28,
     "metadata": {},
     "output_type": "execute_result"
    }
   ],
   "source": [
    "# Relacionados ACM - encontrado no seed set\n",
    "strategy.initial.find(\"acm\").related"
   ]
  },
  {
   "cell_type": "code",
   "execution_count": 29,
   "metadata": {},
   "outputs": [
    {
     "data": {
      "image/svg+xml": [
       "<?xml version=\"1.0\" encoding=\"UTF-8\" standalone=\"no\"?>\r\n",
       "<!DOCTYPE svg PUBLIC \"-//W3C//DTD SVG 1.1//EN\"\r\n",
       " \"http://www.w3.org/Graphics/SVG/1.1/DTD/svg11.dtd\">\r\n",
       "<!-- Generated by graphviz version 2.38.0 (20140413.2041)\r\n",
       " -->\r\n",
       "<!-- Title: G Pages: 1 -->\r\n",
       "<svg width=\"103pt\" height=\"83pt\"\r\n",
       " viewBox=\"0.00 0.00 102.75 82.95\" xmlns=\"http://www.w3.org/2000/svg\" xmlns:xlink=\"http://www.w3.org/1999/xlink\">\r\n",
       "<g id=\"graph0\" class=\"graph\" transform=\"scale(1 1) rotate(0) translate(4 78.9533)\">\r\n",
       "<title>G</title>\r\n",
       "<polygon fill=\"white\" stroke=\"none\" points=\"-4,4 -4,-78.9533 98.7523,-78.9533 98.7523,4 -4,4\"/>\r\n",
       "<!-- scopus -->\r\n",
       "<g id=\"node1\" class=\"node\"><title>scopus</title>\r\n",
       "<ellipse fill=\"none\" stroke=\"black\" cx=\"47.3762\" cy=\"-37.4767\" rx=\"47.2526\" ry=\"37.4533\"/>\r\n",
       "<text text-anchor=\"middle\" x=\"47.3762\" y=\"-48.7767\" font-family=\"Times New Roman,serif\" font-size=\"14.00\">scopus</text>\r\n",
       "<text text-anchor=\"middle\" x=\"47.3762\" y=\"-33.7767\" font-family=\"Times New Roman,serif\" font-size=\"14.00\">visited: 4</text>\r\n",
       "<text text-anchor=\"middle\" x=\"47.3762\" y=\"-18.7767\" font-family=\"Times New Roman,serif\" font-size=\"14.00\">related: 2</text>\r\n",
       "</g>\r\n",
       "</g>\r\n",
       "</svg>\r\n"
      ],
      "text/plain": [
       "Step(name='start', new_references=4, new_related=2, total_visited=4, total_related=2, source='', target='scopus')"
      ],
      "text/vnd.graphviz": [
       "digraph G {\n",
       "  rankdir=\"RL\";\n",
       "\n",
       "  scopus [label=\"scopus\\nvisited: 4\\nrelated: 2\"];\n",
       "\n",
       "}"
      ]
     },
     "metadata": {},
     "output_type": "display_data"
    }
   ],
   "source": [
    "strategy.initial.find(\"scopus\")"
   ]
  },
  {
   "cell_type": "code",
   "execution_count": 30,
   "metadata": {},
   "outputs": [
    {
     "name": "stdout",
     "output_type": "stream",
     "text": [
      "Visitados Scopus:\n"
     ]
    },
    {
     "data": {
      "text/plain": [
       "{Further comparison of cross-company and within-company effort estimation models for web applications,\n",
       " Using public domain metrics to estimate software development effort,\n",
       " Web effort estimation: The value of cross-company data set compared to single-company data set,\n",
       " A comparative study of two software development cost modeling techniques using multi-organizational and company-specific data}"
      ]
     },
     "execution_count": 30,
     "metadata": {},
     "output_type": "execute_result"
    }
   ],
   "source": [
    "print(\"Visitados Scopus:\")\n",
    "strategy.initial.find(\"scopus\").visited"
   ]
  },
  {
   "cell_type": "code",
   "execution_count": 31,
   "metadata": {},
   "outputs": [
    {
     "name": "stdout",
     "output_type": "stream",
     "text": [
      "Relacionados Scopus - encontrado no seed set:\n"
     ]
    },
    {
     "data": {
      "text/plain": [
       "{Further comparison of cross-company and within-company effort estimation models for web applications,\n",
       " Web effort estimation: The value of cross-company data set compared to single-company data set}"
      ]
     },
     "execution_count": 31,
     "metadata": {},
     "output_type": "execute_result"
    }
   ],
   "source": [
    "print(\"Relacionados Scopus - encontrado no seed set:\")\n",
    "strategy.initial.find(\"scopus\").related"
   ]
  },
  {
   "cell_type": "code",
   "execution_count": 32,
   "metadata": {},
   "outputs": [
    {
     "name": "stdout",
     "output_type": "stream",
     "text": [
      "Artigo comum a ACM e Scopus:\n"
     ]
    },
    {
     "data": {
      "text/plain": [
       "{Further comparison of cross-company and within-company effort estimation models for web applications}"
      ]
     },
     "execution_count": 32,
     "metadata": {},
     "output_type": "execute_result"
    }
   ],
   "source": [
    "print(\"Artigo comum a ACM e Scopus:\")\n",
    "strategy.initial.find(\"acm\").visited & strategy.initial.find(\"scopus\").visited"
   ]
  },
  {
   "cell_type": "markdown",
   "metadata": {},
   "source": [
    "#### Resumo do Snowballing"
   ]
  },
  {
   "cell_type": "code",
   "execution_count": 33,
   "metadata": {},
   "outputs": [
    {
     "name": "stdout",
     "output_type": "stream",
     "text": [
      "Total visitados:\n"
     ]
    },
    {
     "data": {
      "text/plain": [
       "94"
      ]
     },
     "execution_count": 33,
     "metadata": {},
     "output_type": "execute_result"
    }
   ],
   "source": [
    "#Total de visitados = visitados no final - visitados no início\n",
    "print (\"Total visitados:\")\n",
    "len(state.visited - state.find(\"s0\").visited)"
   ]
  },
  {
   "cell_type": "code",
   "execution_count": 34,
   "metadata": {},
   "outputs": [
    {
     "name": "stdout",
     "output_type": "stream",
     "text": [
      "Total Relacionados: Lista dos que foram encontrados via Snowballing\n"
     ]
    },
    {
     "data": {
      "text/plain": [
       "{Cross versus within-company cost estimation studies: A systematic review,\n",
       " Building software cost estimation models using homogenous data,\n",
       " A comparison of cross-company and within-company effort estimation models for web applications}"
      ]
     },
     "execution_count": 34,
     "metadata": {},
     "output_type": "execute_result"
    }
   ],
   "source": [
    "# Descrição dos Relacionados = relacionados no final - relacionados no início\n",
    "print (\"Total Relacionados: Lista dos que foram encontrados via Snowballing\")\n",
    "state.related - state.find(\"s0\").related"
   ]
  },
  {
   "cell_type": "code",
   "execution_count": 35,
   "metadata": {},
   "outputs": [
    {
     "name": "stdout",
     "output_type": "stream",
     "text": [
      "Encontrados via somente Snowballing:\n"
     ]
    },
    {
     "data": {
      "text/plain": [
       "['kitchenham2007a - Cross versus within-company cost estimation studies: A systematic review',\n",
       " 'premraj2007a - Building software cost estimation models using homogenous data',\n",
       " 'kitchenham2004a - A comparison of cross-company and within-company effort estimation models for web applications']"
      ]
     },
     "execution_count": 35,
     "metadata": {},
     "output_type": "execute_result"
    }
   ],
   "source": [
    "print (\"Encontrados via somente Snowballing:\")\n",
    "diff_related = state.related - state.find(\"s0\").related\n",
    "diff_related @ metakey_title"
   ]
  },
  {
   "cell_type": "markdown",
   "metadata": {},
   "source": [
    "### Detalhamento por Estado / Aresta"
   ]
  },
  {
   "cell_type": "markdown",
   "metadata": {},
   "source": [
    "### Estado S0"
   ]
  },
  {
   "cell_type": "markdown",
   "metadata": {},
   "source": [
    "#### Visitados"
   ]
  },
  {
   "cell_type": "code",
   "execution_count": 36,
   "metadata": {},
   "outputs": [
    {
     "name": "stdout",
     "output_type": "stream",
     "text": [
      "Visitados no Estado 0:\n"
     ]
    },
    {
     "data": {
      "text/plain": [
       "{Using public domain metrics to estimate software development effort,\n",
       " Web effort estimation: The value of cross-company data set compared to single-company data set,\n",
       " Further comparison of cross-company and within-company effort estimation models for web applications,\n",
       " Cross-vs. within-company cost estimation studies revisited: an extended systematic review,\n",
       " A comparative study of two software development cost modeling techniques using multi-organizational and company-specific data}"
      ]
     },
     "execution_count": 36,
     "metadata": {},
     "output_type": "execute_result"
    }
   ],
   "source": [
    "#S0 - Visitados\n",
    "print(\"Visitados no Estado 0:\")\n",
    "state.find(\"s0\").visited"
   ]
  },
  {
   "cell_type": "markdown",
   "metadata": {},
   "source": [
    "#### Relacionados - Seed Set"
   ]
  },
  {
   "cell_type": "code",
   "execution_count": 37,
   "metadata": {},
   "outputs": [
    {
     "name": "stdout",
     "output_type": "stream",
     "text": [
      "Relacionados no Estado 0: Seed Set\n"
     ]
    },
    {
     "data": {
      "text/plain": [
       "['mendes2004a - Further comparison of cross-company and within-company effort estimation models for web applications',\n",
       " 'ferrucci2012a - Web effort estimation: The value of cross-company data set compared to single-company data set']"
      ]
     },
     "execution_count": 37,
     "metadata": {},
     "output_type": "execute_result"
    }
   ],
   "source": [
    "#S0 - Relacionados - Encontrados via busca e que existem na lista dos Incluídos da SLR existente - são os seed set!\n",
    "print(\"Relacionados no Estado 0: Seed Set\")\n",
    "state.find(\"s0\").related @ metakey_title"
   ]
  },
  {
   "cell_type": "markdown",
   "metadata": {},
   "source": [
    "### Aresta s0 -> s2 (Backward - Iteração 1)"
   ]
  },
  {
   "cell_type": "code",
   "execution_count": 38,
   "metadata": {},
   "outputs": [
    {
     "name": "stdout",
     "output_type": "stream",
     "text": [
      "Backward - Qtd Referencias dos artigos visitados para chegar ao Estado 2, a partir do Estado 0:\n"
     ]
    },
    {
     "data": {
      "text/plain": [
       "{A procedure for analyzing unbalanced datasets,\n",
       " A replicated assessment and comparison of common software cost modeling techniques,\n",
       " Exploiting the essential assumptions of analogy-based effort estimation,\n",
       " WWW2000: The Developer's view and a practitioner's approach to Web Engineering,\n",
       " A study of project selection and feature weighting for analogy based software cost estimation,\n",
       " Assessment and comparison of common software cost estimation modeling techniques,\n",
       " How to find relevant data for effort estimation?,\n",
       " Individual comparisons by ranking methods,\n",
       " Using simulation to evaluate prediction techniques,\n",
       " Applied statistics for software managers,\n",
       " Investigating early web size measures for web cost estimation,\n",
       " Detection of influential observation in linear regression,\n",
       " Case studies for method and tool evaluation,\n",
       " Investigating Web size metrics for early Web cost estimation,\n",
       " The need for web engineering: An introduction,\n",
       " Software engineering metrics and models,\n",
       " An empirical validation of software cost estimation models,\n",
       " A replicated assessment of the use of adaptation rules to improve Web cost estimation,\n",
       " Statistical power analysis for the behavioral sciences,\n",
       " How valuable is company-specific data compared to multi-company data for software cost estimation?,\n",
       " Cross-company vs. single-company web effort models using the Tukutuku database: An extended study,\n",
       " Software cost models,\n",
       " A comparison of cross-company and within-company effort estimation models for web applications,\n",
       " Local vs. global models for effort estimation and defect prediction,\n",
       " Cross versus within-company cost estimation studies: A systematic review,\n",
       " Comparison of Web size measures for predicting Web design and authoring effort,\n",
       " Effort estimation: how valuable is it for a web company to use a cross-company data set, compared to using its own single-company data set?,\n",
       " What accuracy statistics really measure,\n",
       " When to use data from other projects for effort estimation,\n",
       " On the relative value of cross-company and within-company data for defect prediction,\n",
       " Web cost estimation and productivity benchmarking}"
      ]
     },
     "execution_count": 38,
     "metadata": {},
     "output_type": "execute_result"
    }
   ],
   "source": [
    "# S2 - Backward (Found) - Visitados na iteração 1\n",
    "print(\"Backward - Qtd Referencias dos artigos visitados para chegar ao Estado 2, a partir do Estado 0:\")\n",
    "state.find(\"s2\").delta_visited"
   ]
  },
  {
   "cell_type": "code",
   "execution_count": 39,
   "metadata": {},
   "outputs": [
    {
     "name": "stdout",
     "output_type": "stream",
     "text": [
      "Relacionados encontrados via Backward, para chegar ao Estado 2, a partir do Estado 0:\n"
     ]
    },
    {
     "data": {
      "text/plain": [
       "['kitchenham2007a - Cross versus within-company cost estimation studies: A systematic review',\n",
       " 'kitchenham2004a - A comparison of cross-company and within-company effort estimation models for web applications']"
      ]
     },
     "execution_count": 39,
     "metadata": {},
     "output_type": "execute_result"
    }
   ],
   "source": [
    "# S2 - Backward (Related) - Encontrados na iteração 1, via snowballing, que não foi encontrado via busca para o seed set.\n",
    "print(\"Relacionados encontrados via Backward, para chegar ao Estado 2, a partir do Estado 0:\")\n",
    "state.find(\"s2\").delta_related @ metakey_title"
   ]
  },
  {
   "cell_type": "markdown",
   "metadata": {},
   "source": [
    "### Aresta s0 -> s1 (Forward - Iteração 1)"
   ]
  },
  {
   "cell_type": "code",
   "execution_count": 40,
   "metadata": {},
   "outputs": [
    {
     "name": "stdout",
     "output_type": "stream",
     "text": [
      "Relacionados encontrados via Forward, para chegar ao Estado 1, a partir do Estado 0:\n"
     ]
    },
    {
     "data": {
      "text/plain": [
       "['kitchenham2007a - Cross versus within-company cost estimation studies: A systematic review',\n",
       " 'premraj2007a - Building software cost estimation models using homogenous data']"
      ]
     },
     "execution_count": 40,
     "metadata": {},
     "output_type": "execute_result"
    }
   ],
   "source": [
    "# S1 - Forward (Related) - Encontrados na iteração 1\n",
    "print(\"Relacionados encontrados via Forward, para chegar ao Estado 1, a partir do Estado 0:\")\n",
    "state.find(\"s1\").delta_related @ metakey_title"
   ]
  },
  {
   "cell_type": "markdown",
   "metadata": {},
   "source": [
    "### Relacionados - Encontrados Via Backward e Forward"
   ]
  },
  {
   "cell_type": "code",
   "execution_count": 41,
   "metadata": {},
   "outputs": [
    {
     "name": "stdout",
     "output_type": "stream",
     "text": [
      "Encontrados via Backward e Forward:\n"
     ]
    },
    {
     "data": {
      "text/plain": [
       "[['kitchenham2007a - Cross versus within-company cost estimation studies: A systematic review',\n",
       "  'kitchenham2004a - A comparison of cross-company and within-company effort estimation models for web applications'],\n",
       " ['kitchenham2007a - Cross versus within-company cost estimation studies: A systematic review',\n",
       "  'premraj2007a - Building software cost estimation models using homogenous data']]"
      ]
     },
     "execution_count": 41,
     "metadata": {},
     "output_type": "execute_result"
    }
   ],
   "source": [
    "print (\"Encontrados via Backward e Forward:\")\n",
    "separa_backward_forward(state) @ metakey_title"
   ]
  },
  {
   "cell_type": "code",
   "execution_count": 42,
   "metadata": {},
   "outputs": [
    {
     "data": {
      "image/png": "[encoded data removed]",
      "text/plain": [
       "<matplotlib.figure.Figure at 0x25499f9b7f0>"
      ]
     },
     "metadata": {},
     "output_type": "display_data"
    }
   ],
   "source": [
    "sets = separa_backward_forward(state)\n",
    "sets = encontraria(strategy, state)\n",
    "v = venn2(sets, set_labels = ('Backward', 'Forward'))\n",
    "c = venn2_circles(sets)\n",
    "plt.title('Diagrama de Venn')\n",
    "plt.show()"
   ]
  },
  {
   "cell_type": "code",
   "execution_count": 43,
   "metadata": {},
   "outputs": [
    {
     "name": "stdout",
     "output_type": "stream",
     "text": [
      "Backward ['mendes2004a']\n",
      "Forward ['mendes2004a', 'ferrucci2012a']\n"
     ]
    }
   ],
   "source": [
    "#Backward - Execução de backward em sets[0]\n",
    "print(\"Backward\", sets[0] @ metakey)\n",
    "print(\"Forward\", sets[1] @ metakey)"
   ]
  },
  {
   "cell_type": "code",
   "execution_count": 44,
   "metadata": {
    "collapsed": true
   },
   "outputs": [],
   "source": [
    "x = v.get_patch_by_id('100')"
   ]
  },
  {
   "cell_type": "code",
   "execution_count": 45,
   "metadata": {
    "collapsed": true
   },
   "outputs": [],
   "source": [
    "x.set_linestyle = \"black\""
   ]
  },
  {
   "cell_type": "code",
   "execution_count": 46,
   "metadata": {
    "collapsed": true
   },
   "outputs": [],
   "source": [
    "#[x.metakey for x in state.find(\"s0\").related]"
   ]
  },
  {
   "cell_type": "markdown",
   "metadata": {},
   "source": [
    "### Execução de Backward (Aresta S0 -> S2) em cada artigo relacionado do S0"
   ]
  },
  {
   "cell_type": "code",
   "execution_count": 47,
   "metadata": {},
   "outputs": [
    {
     "name": "stdout",
     "output_type": "stream",
     "text": [
      "Descreve o S0 -> S2:\n",
      " Execução de Backward em cada artigo do related \n",
      "\n",
      "backward mendes2004a\n",
      "- kitchenham1998a \n",
      "- briand2000a \n",
      "- kemerer1987a \n",
      "- kitchenham2001a \n",
      "- mendes2003b \n",
      "- wieczorek2002a \n",
      "- christodoulou2000a \n",
      "- kitchenham1984a \n",
      "- briand1999a \n",
      "- kitchenham2004a related\n",
      "- wilcoxon1945a \n",
      "- shepperd2001a \n",
      "- maxwell2002a \n",
      "- mendes2003a \n",
      "- cook1977a \n",
      "forward mendes2004a\n",
      "- kocaguneli2010a \n",
      "- mendes2008b \n",
      "- mendes2005b \n",
      "- kitchenham2007a related\n",
      "- mendes2007a \n",
      "backward ferrucci2012a\n",
      "- kitchenham1998a \n",
      "- kocaguneli2012a \n",
      "- li2009a \n",
      "- kocaguneli2011a \n",
      "- shepperd2001a \n",
      "- maxwell2002a \n",
      "- mendes2003a \n",
      "- cook1977a \n",
      "- kitchenham1995a \n",
      "- mendes2005b \n",
      "- mendes2005a \n",
      "- conte1986a \n",
      "- cohen1988a \n",
      "- mendes2008b \n",
      "- kitchenham2004a related\n",
      "- menzies2011a \n",
      "- kitchenham2007a related\n",
      "- mendes2002a \n",
      "- mendes2007a \n",
      "- kitchenham2001a \n",
      "- kocaguneli2010a \n",
      "- turhan2009a \n",
      "- mendes2008a \n"
     ]
    }
   ],
   "source": [
    "print(\"Descreve o S0 -> S2:\\n Execução de Backward em cada artigo do related \\n\")\n",
    "descreve_delta(strategy, state, \"s2\")"
   ]
  },
  {
   "cell_type": "markdown",
   "metadata": {},
   "source": [
    "### Execução de Forward em cada artigo relacionado do S1"
   ]
  },
  {
   "cell_type": "code",
   "execution_count": 48,
   "metadata": {},
   "outputs": [
    {
     "name": "stdout",
     "output_type": "stream",
     "text": [
      "Descreve o S0 -> S1:\n",
      " Execução de Forward em cada artigo do related \n",
      "\n",
      "forward mendes2004a\n",
      "- minku2015a \n",
      "- abrahão2010a \n",
      "- keung2008b \n",
      "- mittas2015a \n",
      "- corazza2013a \n",
      "- martino2016a \n",
      "- corazza2011a \n",
      "- francese2015a \n",
      "- mendes2008d \n",
      "- mendes2007d \n",
      "- martino2011a \n",
      "- mendes2007b \n",
      "- lang2009a \n",
      "- wieringa2015a \n",
      "- mendes2005b \n",
      "- ferrucci2008a \n",
      "- martino2007a \n",
      "- keung2009a \n",
      "- mittas2010a \n",
      "- mendes2007c \n",
      "- marco2012a \n",
      "- lokan2006a \n",
      "- baresi2007a \n",
      "- martino2009a \n",
      "- wen2012a \n",
      "- lall2006a \n",
      "- mittas2010b \n",
      "- lokan2008a \n",
      "- buglione2010a \n",
      "- premraj2005a \n",
      "- corazza2009a \n",
      "- baker2010a \n",
      "- mendes2008b \n",
      "- mendes2005c \n",
      "- matos2013a \n",
      "- costagliola2006b \n",
      "- kitchenham2007a related\n",
      "- mendes2009a \n",
      "- kitchenham2006a \n",
      "- ferrucci2010a \n",
      "- mendes2009b \n",
      "- ferrucci2015a \n",
      "- mendes2008e \n",
      "- mendes2007a \n",
      "- watanabe2008a \n",
      "- premraj2007a related\n",
      "- keung2008a \n",
      "- kocaguneli2010a \n",
      "- ferrucci2009a \n",
      "- mair2005a \n",
      "- ferrucci2010b \n",
      "- zimmermann2009a \n",
      "- costagliola2006a \n",
      "- marco2013a \n",
      "- shepperd2012a \n",
      "- huang2008a \n",
      "- azhar2013a \n",
      "- al2006a \n",
      "backward ferrucci2012a\n",
      "- kocaguneli2010a \n",
      "- mendes2008b \n",
      "- mendes2005b \n",
      "- kitchenham2007a related\n",
      "- mendes2007a \n",
      "forward ferrucci2012a\n",
      "- minku2015a \n",
      "- huang2017a \n",
      "- dapozo2016a \n",
      "- lee2016a \n",
      "- corazza2015a \n",
      "- turhan2014a \n",
      "- huang2015a \n",
      "- finkelstein2013a \n",
      "- satapathy2017a \n",
      "- menzies2014a \n",
      "- satapathy2016a \n"
     ]
    }
   ],
   "source": [
    "print(\"Descreve o S0 -> S1:\\n Execução de Forward em cada artigo do related \\n\")\n",
    "descreve_delta(strategy, state, \"s1\")"
   ]
  },
  {
   "cell_type": "markdown",
   "metadata": {},
   "source": [
    "### Resumo do Precision e Recall"
   ]
  },
  {
   "cell_type": "code",
   "execution_count": 49,
   "metadata": {},
   "outputs": [
    {
     "name": "stdout",
     "output_type": "stream",
     "text": [
      "Precision na Busca E2: 0.40%\n",
      "\n",
      "Precision no Snowballing E2: 0.03%\n",
      "Precision no Snowballing E2 - Forward - 1 iteração: 0.03%\n",
      "Precision no Snowballing E2 - Backward - 1 iteração: 0.06%\n",
      "\n",
      "Precision E2 (Busca + Snowballing): 0.05%\n",
      "Precision E2\n",
      "0.050505050505050504\n",
      "Recall E2\n",
      "1.0\n"
     ]
    }
   ],
   "source": [
    "E2P = len (strategy.initial.related) / len (strategy.initial.visited)\n",
    "#print (len (strategy.initial.related))\n",
    "#print (len (strategy.initial.visited))\n",
    "#print (E2P)\n",
    "print (\"Precision na Busca E2: %.2f%%\" % E2P)\n",
    "\n",
    "#print (\"Precision no Snowballing - E2:\")\n",
    "#print(len(state.related - state.find(\"s0\").related))\n",
    "#print(len(state.visited - state.find(\"s0\").visited))\n",
    "\n",
    "E2PS = len(state.related - state.find(\"s0\").related) / len(state.visited - state.find(\"s0\").visited)\n",
    "\n",
    "print (\"\\n\"\"Precision no Snowballing E2: %.2f%%\" % E2PS)\n",
    "\n",
    "print(\"Precision no Snowballing E2 - Forward - 1 iteração: %.2f%%\" % (len (state.find(\"s1\").delta_related) / len (state.find(\"s1\").delta_visited)))\n",
    "\n",
    "print(\"Precision no Snowballing E2 - Backward - 1 iteração: %.2f%%\" % (len (state.find(\"s2\").delta_related) / len (state.find(\"s2\").delta_visited)))\n",
    "\n",
    "print(\"\\n\"\"Precision E2 (Busca + Snowballing): %.2f%%\" % (len(state.related) / len(state.visited)))\n",
    "\n",
    "#len (state.find(\"s1\").related)\n",
    "\n",
    "#len (state.find(\"s1\").delta_related)\n",
    "#len (state.find(\"s1\").delta_visited)\n",
    "\n",
    "\n",
    "name = \"E2\"\n",
    "print (\"Precision \" + name)\n",
    "EP = len (state.related) / len (state.visited)\n",
    "print (EP)\n",
    "print (\"Recall \" + name)\n",
    "ER = len (state.related) / len (TOTAL)\n",
    "print (ER)\n",
    "\n",
    "array.append((name, EP, ER))"
   ]
  },
  {
   "cell_type": "code",
   "execution_count": null,
   "metadata": {
    "collapsed": true
   },
   "outputs": [],
   "source": []
  },
  {
   "cell_type": "markdown",
   "metadata": {},
   "source": [
    "### Estratégia 3 - Busca Informal (Google Scholar) + Snowballing (Guideline - sfbu)"
   ]
  },
  {
   "cell_type": "code",
   "execution_count": 50,
   "metadata": {},
   "outputs": [
    {
     "data": {
      "image/svg+xml": [
       "<?xml version=\"1.0\" encoding=\"UTF-8\" standalone=\"no\"?>\r\n",
       "<!DOCTYPE svg PUBLIC \"-//W3C//DTD SVG 1.1//EN\"\r\n",
       " \"http://www.w3.org/Graphics/SVG/1.1/DTD/svg11.dtd\">\r\n",
       "<!-- Generated by graphviz version 2.38.0 (20140413.2041)\r\n",
       " -->\r\n",
       "<!-- Title: G Pages: 1 -->\r\n",
       "<svg width=\"450pt\" height=\"176pt\"\r\n",
       " viewBox=\"0.00 0.00 450.26 175.95\" xmlns=\"http://www.w3.org/2000/svg\" xmlns:xlink=\"http://www.w3.org/1999/xlink\">\r\n",
       "<g id=\"graph0\" class=\"graph\" transform=\"scale(1 1) rotate(0) translate(4 171.953)\">\r\n",
       "<title>G</title>\r\n",
       "<polygon fill=\"white\" stroke=\"none\" points=\"-4,4 -4,-171.953 446.257,-171.953 446.257,4 -4,4\"/>\r\n",
       "<!-- s3 -->\r\n",
       "<g id=\"node1\" class=\"node\"><title>s3</title>\r\n",
       "<ellipse fill=\"none\" stroke=\"black\" cx=\"394.881\" cy=\"-90.4767\" rx=\"47.2526\" ry=\"37.4533\"/>\r\n",
       "<text text-anchor=\"middle\" x=\"394.881\" y=\"-101.777\" font-family=\"Times New Roman,serif\" font-size=\"14.00\">s3</text>\r\n",
       "<text text-anchor=\"middle\" x=\"394.881\" y=\"-86.7767\" font-family=\"Times New Roman,serif\" font-size=\"14.00\">visited: 0</text>\r\n",
       "<text text-anchor=\"middle\" x=\"394.881\" y=\"-71.7767\" font-family=\"Times New Roman,serif\" font-size=\"14.00\">related: 0</text>\r\n",
       "</g>\r\n",
       "<!-- s1 -->\r\n",
       "<g id=\"node2\" class=\"node\"><title>s1</title>\r\n",
       "<ellipse fill=\"none\" stroke=\"black\" cx=\"233.128\" cy=\"-130.477\" rx=\"47.2526\" ry=\"37.4533\"/>\r\n",
       "<text text-anchor=\"middle\" x=\"233.128\" y=\"-141.777\" font-family=\"Times New Roman,serif\" font-size=\"14.00\">s1</text>\r\n",
       "<text text-anchor=\"middle\" x=\"233.128\" y=\"-126.777\" font-family=\"Times New Roman,serif\" font-size=\"14.00\">visited: 0</text>\r\n",
       "<text text-anchor=\"middle\" x=\"233.128\" y=\"-111.777\" font-family=\"Times New Roman,serif\" font-size=\"14.00\">related: 0</text>\r\n",
       "</g>\r\n",
       "<!-- s3&#45;&gt;s1 -->\r\n",
       "<g id=\"edge1\" class=\"edge\"><title>s3&#45;&gt;s1</title>\r\n",
       "<path fill=\"none\" stroke=\"black\" d=\"M349.381,-101.619C330.426,-106.365 308.14,-111.945 288.243,-116.927\"/>\r\n",
       "<polygon fill=\"black\" stroke=\"black\" points=\"287.24,-113.57 278.39,-119.394 288.94,-120.36 287.24,-113.57\"/>\r\n",
       "<text text-anchor=\"middle\" x=\"314.005\" y=\"-117.277\" font-family=\"Times New Roman,serif\" font-size=\"14.00\">union</text>\r\n",
       "</g>\r\n",
       "<!-- s2 -->\r\n",
       "<g id=\"node3\" class=\"node\"><title>s2</title>\r\n",
       "<ellipse fill=\"none\" stroke=\"black\" cx=\"233.128\" cy=\"-37.4767\" rx=\"47.2526\" ry=\"37.4533\"/>\r\n",
       "<text text-anchor=\"middle\" x=\"233.128\" y=\"-48.7767\" font-family=\"Times New Roman,serif\" font-size=\"14.00\">s2</text>\r\n",
       "<text text-anchor=\"middle\" x=\"233.128\" y=\"-33.7767\" font-family=\"Times New Roman,serif\" font-size=\"14.00\">visited: 0</text>\r\n",
       "<text text-anchor=\"middle\" x=\"233.128\" y=\"-18.7767\" font-family=\"Times New Roman,serif\" font-size=\"14.00\">related: 0</text>\r\n",
       "</g>\r\n",
       "<!-- s3&#45;&gt;s2 -->\r\n",
       "<g id=\"edge2\" class=\"edge\"><title>s3&#45;&gt;s2</title>\r\n",
       "<path fill=\"none\" stroke=\"black\" d=\"M350.649,-76.1341C330.946,-69.5972 307.444,-61.8002 286.725,-54.9264\"/>\r\n",
       "<polygon fill=\"black\" stroke=\"black\" points=\"287.711,-51.5658 277.117,-51.7388 285.506,-58.2097 287.711,-51.5658\"/>\r\n",
       "<text text-anchor=\"middle\" x=\"314.005\" y=\"-73.2767\" font-family=\"Times New Roman,serif\" font-size=\"14.00\">union</text>\r\n",
       "</g>\r\n",
       "<!-- s0 -->\r\n",
       "<g id=\"node4\" class=\"node\"><title>s0</title>\r\n",
       "<ellipse fill=\"none\" stroke=\"black\" cx=\"47.3762\" cy=\"-86.4767\" rx=\"47.2526\" ry=\"37.4533\"/>\r\n",
       "<text text-anchor=\"middle\" x=\"47.3762\" y=\"-97.7767\" font-family=\"Times New Roman,serif\" font-size=\"14.00\">s0</text>\r\n",
       "<text text-anchor=\"middle\" x=\"47.3762\" y=\"-82.7767\" font-family=\"Times New Roman,serif\" font-size=\"14.00\">visited: 0</text>\r\n",
       "<text text-anchor=\"middle\" x=\"47.3762\" y=\"-67.7767\" font-family=\"Times New Roman,serif\" font-size=\"14.00\">related: 0</text>\r\n",
       "</g>\r\n",
       "<!-- s1&#45;&gt;s0 -->\r\n",
       "<g id=\"edge3\" class=\"edge\"><title>s1&#45;&gt;s0</title>\r\n",
       "<path fill=\"none\" stroke=\"black\" d=\"M187.647,-119.825C162.218,-113.736 130.118,-106.05 103.146,-99.5915\"/>\r\n",
       "<polygon fill=\"black\" stroke=\"black\" points=\"103.625,-96.1072 93.0847,-97.1822 101.995,-102.915 103.625,-96.1072\"/>\r\n",
       "<text text-anchor=\"middle\" x=\"140.252\" y=\"-148.277\" font-family=\"Times New Roman,serif\" font-size=\"14.00\">forward</text>\r\n",
       "<text text-anchor=\"middle\" x=\"140.252\" y=\"-133.277\" font-family=\"Times New Roman,serif\" font-size=\"14.00\">found: 0</text>\r\n",
       "<text text-anchor=\"middle\" x=\"140.252\" y=\"-118.277\" font-family=\"Times New Roman,serif\" font-size=\"14.00\">related: 0</text>\r\n",
       "</g>\r\n",
       "<!-- s2&#45;&gt;s0 -->\r\n",
       "<g id=\"edge4\" class=\"edge\"><title>s2&#45;&gt;s0</title>\r\n",
       "<path fill=\"none\" stroke=\"black\" d=\"M185.701,-40.0118C163.271,-42.1617 136.199,-46.1346 112.752,-53.4767 106.994,-55.2799 101.129,-57.5686 95.4009,-60.0972\"/>\r\n",
       "<polygon fill=\"black\" stroke=\"black\" points=\"93.5018,-57.1219 85.9328,-64.5355 96.4729,-63.4601 93.5018,-57.1219\"/>\r\n",
       "<text text-anchor=\"middle\" x=\"140.252\" y=\"-87.2767\" font-family=\"Times New Roman,serif\" font-size=\"14.00\">backward</text>\r\n",
       "<text text-anchor=\"middle\" x=\"140.252\" y=\"-72.2767\" font-family=\"Times New Roman,serif\" font-size=\"14.00\">found: 0</text>\r\n",
       "<text text-anchor=\"middle\" x=\"140.252\" y=\"-57.2767\" font-family=\"Times New Roman,serif\" font-size=\"14.00\">related: 0</text>\r\n",
       "</g>\r\n",
       "</g>\r\n",
       "</svg>\r\n"
      ],
      "text/plain": [
       "Step(name='start', new_references=0, new_related=0, total_visited=0, total_related=0, source='', target='s0')\n",
       "Step(name='backward', new_references=0, new_related=0, total_visited=0, total_related=0, source='s0', target='s2')\n",
       "Step(name='forward', new_references=0, new_related=0, total_visited=0, total_related=0, source='s0', target='s1')\n",
       "Step(name='union', new_references=0, new_related=0, total_visited=0, total_related=0, source='s1|s2', target='s3')"
      ],
      "text/vnd.graphviz": [
       "digraph G {\n",
       "  rankdir=\"RL\";\n",
       "\n",
       "  s3 [label=\"s3\\nvisited: 0\\nrelated: 0\"];\n",
       "  s3 -> s1 [label=\"union\"];\n",
       "  s3 -> s2 [label=\"union\"];\n",
       "\n",
       "  s1 [label=\"s1\\nvisited: 0\\nrelated: 0\"];\n",
       "  s1 -> s0 [label=\"forward\\nfound: 0\\nrelated: 0\"];\n",
       "\n",
       "  s2 [label=\"s2\\nvisited: 0\\nrelated: 0\"];\n",
       "  s2 -> s0 [label=\"backward\\nfound: 0\\nrelated: 0\"];\n",
       "\n",
       "  s0 [label=\"s0\\nvisited: 0\\nrelated: 0\"];\n",
       "\n",
       "}"
      ]
     },
     "metadata": {},
     "output_type": "display_data"
    }
   ],
   "source": [
    "reload()\n",
    "filter_function = lambda x: x.category in (\"snowball\", \"forward\", \"backward\")\n",
    "\n",
    "strategy = Strategy(*busca(\"gs\", filter_function=filter_function))\n",
    "state = strategy.sfbu()\n",
    "state"
   ]
  },
  {
   "cell_type": "code",
   "execution_count": 51,
   "metadata": {},
   "outputs": [
    {
     "name": "stdout",
     "output_type": "stream",
     "text": [
      "Precision E3\n"
     ]
    },
    {
     "ename": "ZeroDivisionError",
     "evalue": "division by zero",
     "output_type": "error",
     "traceback": [
      "\u001b[1;31m---------------------------------------------------------------------------\u001b[0m",
      "\u001b[1;31mZeroDivisionError\u001b[0m                         Traceback (most recent call last)",
      "\u001b[1;32m<ipython-input-51-877b415a516b>\u001b[0m in \u001b[0;36m<module>\u001b[1;34m()\u001b[0m\n\u001b[0;32m      1\u001b[0m \u001b[0mname\u001b[0m \u001b[1;33m=\u001b[0m \u001b[1;34m\"E3\"\u001b[0m\u001b[1;33m\u001b[0m\u001b[0m\n\u001b[0;32m      2\u001b[0m \u001b[0mprint\u001b[0m \u001b[1;33m(\u001b[0m\u001b[1;34m\"Precision \"\u001b[0m \u001b[1;33m+\u001b[0m \u001b[0mname\u001b[0m\u001b[1;33m)\u001b[0m\u001b[1;33m\u001b[0m\u001b[0m\n\u001b[1;32m----> 3\u001b[1;33m \u001b[0mEP\u001b[0m \u001b[1;33m=\u001b[0m \u001b[0mlen\u001b[0m \u001b[1;33m(\u001b[0m\u001b[0mstate\u001b[0m\u001b[1;33m.\u001b[0m\u001b[0mrelated\u001b[0m\u001b[1;33m)\u001b[0m \u001b[1;33m/\u001b[0m \u001b[0mlen\u001b[0m \u001b[1;33m(\u001b[0m\u001b[0mstate\u001b[0m\u001b[1;33m.\u001b[0m\u001b[0mvisited\u001b[0m\u001b[1;33m)\u001b[0m\u001b[1;33m\u001b[0m\u001b[0m\n\u001b[0m\u001b[0;32m      4\u001b[0m \u001b[0mprint\u001b[0m \u001b[1;33m(\u001b[0m\u001b[0mEP\u001b[0m\u001b[1;33m)\u001b[0m\u001b[1;33m\u001b[0m\u001b[0m\n\u001b[0;32m      5\u001b[0m \u001b[0mprint\u001b[0m \u001b[1;33m(\u001b[0m\u001b[1;34m\"Recall \"\u001b[0m \u001b[1;33m+\u001b[0m \u001b[0mname\u001b[0m\u001b[1;33m)\u001b[0m\u001b[1;33m\u001b[0m\u001b[0m\n",
      "\u001b[1;31mZeroDivisionError\u001b[0m: division by zero"
     ]
    }
   ],
   "source": [
    "name = \"E3\"\n",
    "print (\"Precision \" + name)\n",
    "EP = len (state.related) / len (state.visited)\n",
    "print (EP)\n",
    "print (\"Recall \" + name)\n",
    "ER = len (state.related) / len (TOTAL)\n",
    "print (ER)\n",
    "\n",
    "array.append((name, EP, ER))"
   ]
  },
  {
   "cell_type": "markdown",
   "metadata": {},
   "source": [
    "### Estratégia 4 - Busca em Scopus + Snowballing (Guideline - sfbu)"
   ]
  },
  {
   "cell_type": "code",
   "execution_count": null,
   "metadata": {},
   "outputs": [],
   "source": [
    "reload()\n",
    "filter_function = lambda x: x.category in (\"snowball\", \"forward\", \"backward\")\n",
    "\n",
    "strategy = Strategy(*busca(\"scopus\", filter_function=filter_function))\n",
    "state = strategy.sfbu()\n",
    "state"
   ]
  },
  {
   "cell_type": "code",
   "execution_count": null,
   "metadata": {},
   "outputs": [],
   "source": [
    "name = \"E4\"\n",
    "print (\"Precision \" + name)\n",
    "EP = len (state.related) / len (state.visited)\n",
    "print (EP)\n",
    "print (\"Recall \" + name)\n",
    "ER = len (state.related) / len (TOTAL)\n",
    "print (ER)\n",
    "\n",
    "array.append((name, EP, ER))"
   ]
  },
  {
   "cell_type": "code",
   "execution_count": null,
   "metadata": {},
   "outputs": [],
   "source": [
    "state.find(\"s0\").related"
   ]
  },
  {
   "cell_type": "code",
   "execution_count": null,
   "metadata": {},
   "outputs": [],
   "source": [
    "state.find(\"s2\").related"
   ]
  },
  {
   "cell_type": "code",
   "execution_count": null,
   "metadata": {},
   "outputs": [],
   "source": [
    "state.find(\"s0\").visited"
   ]
  },
  {
   "cell_type": "code",
   "execution_count": null,
   "metadata": {},
   "outputs": [],
   "source": [
    "# Com backward de mendes2004a é possível encontrar 2 (resultado da celula)\n",
    "state.related & set(strategy.ref[work_by_varname(\"mendes2004a\")])"
   ]
  },
  {
   "cell_type": "code",
   "execution_count": null,
   "metadata": {},
   "outputs": [],
   "source": [
    "# Com backward de ... em S2, encontrou 1 (resultado da celula)\n",
    "state.find(\"s2\").delta_related & set(strategy.ref[work_by_varname(\"mendes2004a\")])"
   ]
  },
  {
   "cell_type": "code",
   "execution_count": null,
   "metadata": {},
   "outputs": [],
   "source": [
    "# Com forward de ... em S1, encontrou 1 (resultado da celula)\n",
    "state.find(\"s1\").delta_related & set(strategy.rev_ref[work_by_varname(\"mendes2004a\")])"
   ]
  },
  {
   "cell_type": "code",
   "execution_count": null,
   "metadata": {},
   "outputs": [],
   "source": [
    "len(state.find(\"s1\").delta_visited)"
   ]
  },
  {
   "cell_type": "code",
   "execution_count": null,
   "metadata": {},
   "outputs": [],
   "source": [
    "#len(state.find(\"s1\").delta_visited & set(strategy.rev_ref[work_by_varname(\"mendes2004a\")]))\n",
    "# forward\n",
    "len(set(strategy.rev_ref[work_by_varname(\"mendes2004a\")]))"
   ]
  },
  {
   "cell_type": "code",
   "execution_count": null,
   "metadata": {},
   "outputs": [],
   "source": [
    "# backward\n",
    "len(set(strategy.ref[work_by_varname(\"mendes2004a\")]))"
   ]
  },
  {
   "cell_type": "code",
   "execution_count": null,
   "metadata": {},
   "outputs": [],
   "source": [
    "search_state = strategy.initial\n",
    "search_state.related"
   ]
  },
  {
   "cell_type": "markdown",
   "metadata": {},
   "source": [
    "### Estratégia 5 - Busca em Scopus + Snowballing (Short Paper - s2ffbb2u)"
   ]
  },
  {
   "cell_type": "code",
   "execution_count": null,
   "metadata": {},
   "outputs": [],
   "source": [
    "reload()\n",
    "filter_function = lambda x: x.category in (\"snowball\", \"forward\", \"backward\")\n",
    "\n",
    "strategy = Strategy(*busca(\"scopus\", filter_function=filter_function))\n",
    "state = strategy.s2bbff2u()\n",
    "state"
   ]
  },
  {
   "cell_type": "code",
   "execution_count": null,
   "metadata": {},
   "outputs": [],
   "source": [
    "name = \"E5\"\n",
    "print (\"Precision \" + name)\n",
    "EP = len (state.related) / len (state.visited)\n",
    "print (EP)\n",
    "print (\"Recall \" + name)\n",
    "ER = len (state.related) / len (TOTAL)\n",
    "print (ER)\n",
    "\n",
    "array.append((name, EP, ER))"
   ]
  },
  {
   "cell_type": "code",
   "execution_count": null,
   "metadata": {},
   "outputs": [],
   "source": [
    "state.find(\"s0\").related "
   ]
  },
  {
   "cell_type": "code",
   "execution_count": null,
   "metadata": {},
   "outputs": [],
   "source": [
    "state.find(\"s1\").related "
   ]
  },
  {
   "cell_type": "code",
   "execution_count": null,
   "metadata": {},
   "outputs": [],
   "source": [
    "state.find(\"s5\").related "
   ]
  },
  {
   "cell_type": "code",
   "execution_count": null,
   "metadata": {},
   "outputs": [],
   "source": [
    "sx, sy = state.previous[0]\n",
    "\n",
    "sx.related & sy.related\n"
   ]
  },
  {
   "cell_type": "code",
   "execution_count": null,
   "metadata": {},
   "outputs": [],
   "source": [
    "sx.name"
   ]
  },
  {
   "cell_type": "code",
   "execution_count": null,
   "metadata": {},
   "outputs": [],
   "source": [
    "sy.name"
   ]
  },
  {
   "cell_type": "markdown",
   "metadata": {},
   "source": [
    "### Estratégia 6 - Busca em Scopus + Snowballing (JF - bbff)"
   ]
  },
  {
   "cell_type": "code",
   "execution_count": null,
   "metadata": {},
   "outputs": [],
   "source": [
    "reload()\n",
    "filter_function = lambda x: x.category in (\"snowball\", \"forward\", \"backward\")\n",
    "\n",
    "strategy = Strategy(*busca(\"scopus\", filter_function=filter_function))\n",
    "state = strategy.bbff()\n",
    "state"
   ]
  },
  {
   "cell_type": "code",
   "execution_count": null,
   "metadata": {},
   "outputs": [],
   "source": [
    "name = \"E6\"\n",
    "print (\"Precision \" + name)\n",
    "EP = len (state.related) / len (state.visited)\n",
    "print (EP)\n",
    "print (\"Recall \" + name)\n",
    "ER = len (state.related) / len (TOTAL)\n",
    "print (ER)\n",
    "\n",
    "array.append((name, EP, ER))"
   ]
  },
  {
   "cell_type": "markdown",
   "metadata": {},
   "source": [
    "### Estratégia 7 - Busca em Scopus + Snowballing (JF - ffbb)"
   ]
  },
  {
   "cell_type": "code",
   "execution_count": null,
   "metadata": {},
   "outputs": [],
   "source": [
    "reload()\n",
    "filter_function = lambda x: x.category in (\"snowball\", \"forward\", \"backward\")\n",
    "\n",
    "strategy = Strategy(*busca(\"scopus\", filter_function=filter_function))\n",
    "state = strategy.ffbb()\n",
    "state"
   ]
  },
  {
   "cell_type": "code",
   "execution_count": null,
   "metadata": {},
   "outputs": [],
   "source": [
    "name = \"E7\"\n",
    "print (\"Precision \" + name)\n",
    "EP = len (state.related) / len (state.visited)\n",
    "print (EP)\n",
    "print (\"Recall \" + name)\n",
    "ER = len (state.related) / len (TOTAL)\n",
    "print (ER)\n",
    "\n",
    "array.append((name, EP, ER))"
   ]
  },
  {
   "cell_type": "markdown",
   "metadata": {},
   "source": [
    "### Análise das Estratégias"
   ]
  },
  {
   "cell_type": "code",
   "execution_count": null,
   "metadata": {
    "collapsed": true
   },
   "outputs": [],
   "source": [
    "%matplotlib notebook\n",
    "import pandas as pd"
   ]
  },
  {
   "cell_type": "code",
   "execution_count": null,
   "metadata": {},
   "outputs": [],
   "source": [
    "df = pd.DataFrame (array,columns = ['Estratégia','Precision','Recall'])\n",
    "df.index = df['Estratégia']\n",
    "df"
   ]
  },
  {
   "cell_type": "code",
   "execution_count": null,
   "metadata": {
    "collapsed": true
   },
   "outputs": [],
   "source": []
  },
  {
   "cell_type": "code",
   "execution_count": null,
   "metadata": {
    "scrolled": false
   },
   "outputs": [],
   "source": [
    "import matplotlib.pyplot as plt\n",
    "ax = df.plot.bar(title =\"Precision e Recall das Estratégias\")\n",
    "plt.tight_layout()\n"
   ]
  },
  {
   "cell_type": "markdown",
   "metadata": {},
   "source": [
    "## Antigo"
   ]
  },
  {
   "cell_type": "code",
   "execution_count": null,
   "metadata": {
    "collapsed": true
   },
   "outputs": [],
   "source": [
    "\n",
    "s5 = state.find(\"s5\")\n",
    "s5"
   ]
  },
  {
   "cell_type": "code",
   "execution_count": null,
   "metadata": {
    "collapsed": true
   },
   "outputs": [],
   "source": []
  },
  {
   "cell_type": "code",
   "execution_count": null,
   "metadata": {},
   "outputs": [],
   "source": [
    "s5.delta_related"
   ]
  },
  {
   "cell_type": "code",
   "execution_count": null,
   "metadata": {},
   "outputs": [],
   "source": [
    "state.previous[0][1].previous[0][0].related"
   ]
  },
  {
   "cell_type": "code",
   "execution_count": null,
   "metadata": {},
   "outputs": [],
   "source": [
    "state"
   ]
  },
  {
   "cell_type": "code",
   "execution_count": null,
   "metadata": {
    "collapsed": true
   },
   "outputs": [],
   "source": [
    "s1 = state.find(\"s1\")\n",
    "total = sum(1 for _, w in load_work_map_all_years() if w.category == \"snowball\")"
   ]
  },
  {
   "cell_type": "code",
   "execution_count": null,
   "metadata": {},
   "outputs": [],
   "source": [
    "len(s1.delta_related) / len(s1.delta_visited)"
   ]
  },
  {
   "cell_type": "code",
   "execution_count": null,
   "metadata": {},
   "outputs": [],
   "source": [
    "len(s1.delta_related) / total"
   ]
  },
  {
   "cell_type": "code",
   "execution_count": null,
   "metadata": {},
   "outputs": [],
   "source": [
    "len(state.related) / len(state.visited)"
   ]
  },
  {
   "cell_type": "code",
   "execution_count": null,
   "metadata": {},
   "outputs": [],
   "source": [
    "len(state.related) / total"
   ]
  },
  {
   "cell_type": "code",
   "execution_count": null,
   "metadata": {},
   "outputs": [],
   "source": [
    "state.log"
   ]
  },
  {
   "cell_type": "code",
   "execution_count": null,
   "metadata": {},
   "outputs": [],
   "source": [
    "len(state.visited)"
   ]
  },
  {
   "cell_type": "code",
   "execution_count": null,
   "metadata": {
    "collapsed": true
   },
   "outputs": [],
   "source": [
    "with open(\"output/snowballing.provn\", \"w\") as provn:\n",
    "    provn.write(state.provn)"
   ]
  },
  {
   "cell_type": "code",
   "execution_count": null,
   "metadata": {
    "collapsed": true
   },
   "outputs": [],
   "source": [
    "!provconvert.bat -infile output/snowballing.provn -outfile output/snowballing.dot"
   ]
  },
  {
   "cell_type": "code",
   "execution_count": null,
   "metadata": {
    "collapsed": true
   },
   "outputs": [],
   "source": [
    "with open(\"output/snowballing.dot\", \"r\") as prov_dot:\n",
    "    text = prov_dot.read().replace('rankdir=\"BT\";', 'rankdir=\"RL\"; ranksep=\"0.1\";')\n",
    "with open(\"output/snowballing.dot\", \"w\") as prov_dot:\n",
    "    prov_dot.write(text)"
   ]
  },
  {
   "cell_type": "code",
   "execution_count": null,
   "metadata": {
    "collapsed": true
   },
   "outputs": [],
   "source": [
    "!dot -Tpng output/snowballing.dot -ooutput/snowballing.png\n",
    "!dot -Tsvg output/snowballing.dot -ooutput/snowballing.svg\n",
    "#!inkscape -D -z --file=output/snowballing.svg --export-pdf=output/snowballing.pdf"
   ]
  },
  {
   "cell_type": "code",
   "execution_count": null,
   "metadata": {},
   "outputs": [],
   "source": [
    "from IPython.display import Image\n",
    "Image(\"output/snowballing.png\")"
   ]
  },
  {
   "cell_type": "code",
   "execution_count": null,
   "metadata": {
    "collapsed": true
   },
   "outputs": [],
   "source": [
    "log = state.log"
   ]
  },
  {
   "cell_type": "code",
   "execution_count": null,
   "metadata": {},
   "outputs": [],
   "source": [
    "len([x for _, x in load_work_map_all_years() if x.category in ('snowball','ok','backward')])"
   ]
  },
  {
   "cell_type": "code",
   "execution_count": null,
   "metadata": {},
   "outputs": [],
   "source": [
    "from fractions import Fraction\n",
    "for step in log:\n",
    "    print(\"precision\", Fraction(step.new_related, step.new_references))"
   ]
  },
  {
   "cell_type": "code",
   "execution_count": null,
   "metadata": {
    "collapsed": true
   },
   "outputs": [],
   "source": [
    "len([x for x in state.visited if x.category in {\"snowball\"}])"
   ]
  },
  {
   "cell_type": "code",
   "execution_count": null,
   "metadata": {
    "collapsed": true
   },
   "outputs": [],
   "source": [
    "from snowballing.approaches import get_approaches\n",
    "len(get_approaches())"
   ]
  },
  {
   "cell_type": "code",
   "execution_count": null,
   "metadata": {},
   "outputs": [],
   "source": [
    "visited = state.visited\n",
    "len([(x, x.year) for x in state.visited\n",
    "     if x.category in {\"nofile\"}\n",
    "     if x.place.name != \"Tech Report\"\n",
    "     if x.place.name != \"Book\"\n",
    "     if x.place.name != \"Patent\"\n",
    "     if x.place.name == \"Conference\"\n",
    "     if x.display != x.place.acronym\n",
    "    ])\n",
    "#count = 0\n",
    "#for x in visited:\n",
    "#     if hasattr(x, 'dglibrary'):\n",
    "#        print(x.dglibrary)\n",
    "#        count = 1 + count\n",
    "#print (count)\n",
    "len([\n",
    "    (x, x.year) for x in visited\n",
    "     if hasattr(x, 'dglibrary') and x.dglibrary==\"Scopus\"\n",
    "    \n",
    "])\n",
    "\n",
    "def count_ref(library,obj):\n",
    "    len_dglibrary = len([(x, x.year) for x in obj\n",
    "                             if hasattr(x, 'dglibrary') and library in x.dglibrary  \n",
    "                        ])\n",
    "    len_backward = len([(x, x.year) for x in obj\n",
    "                             if x.category==\"backward\"  \n",
    "                        ])\n",
    "    len_forward = len([(x, x.year) for x in obj\n",
    "                             if x.category==\"forward\"  \n",
    "                        ])\n",
    "    qtdref=0\n",
    "    qtdcitations=0\n",
    "    for x in obj:\n",
    "        qtdref=qtdref + int(getattr(x, \"references\", 0))\n",
    "        \n",
    "    scopus = sum(int(getattr(x, \"scopus\", 0)) for x in obj)\n",
    "            \n",
    "    for x in obj:\n",
    "        qtdcitations=qtdcitations + int(getattr(x, \"citations\", 0))\n",
    "    return len_dglibrary,qtdref,qtdcitations,len_backward,len_forward\n",
    "     \n",
    "\n",
    "print (\"Digital Library, Referencias, Citações, Qtd Backward, Qtd Forward\")\n",
    "print(count_ref(\"Scopus\",visited))\n",
    "\n",
    "log\n",
    "\n",
    "print (log[0].name, log[0].new_references)\n",
    "print(log[1].name, log[1].new_references)\n",
    "print(log[2].name, log[2].new_references)\n",
    "print(log[3].name, log[3].new_references)\n",
    "print(\"visitados\", len(visited))"
   ]
  },
  {
   "cell_type": "code",
   "execution_count": null,
   "metadata": {},
   "outputs": [],
   "source": [
    "len([x for x in visited if x.category in {\"lang\"}])"
   ]
  },
  {
   "cell_type": "code",
   "execution_count": null,
   "metadata": {},
   "outputs": [],
   "source": [
    "len([x for x in visited if x.category in {\"site\"}])"
   ]
  },
  {
   "cell_type": "code",
   "execution_count": null,
   "metadata": {},
   "outputs": [],
   "source": [
    "len([x for x in visited\n",
    "     if x.place.name == \"Tech Report\"\n",
    "    ])"
   ]
  },
  {
   "cell_type": "code",
   "execution_count": null,
   "metadata": {},
   "outputs": [],
   "source": [
    "len([x for x in visited\n",
    "     if x.place.name == \"ESEM\"\n",
    "    ])"
   ]
  },
  {
   "cell_type": "code",
   "execution_count": null,
   "metadata": {},
   "outputs": [],
   "source": [
    "{x.category for x in visited}"
   ]
  },
  {
   "cell_type": "code",
   "execution_count": null,
   "metadata": {
    "scrolled": true
   },
   "outputs": [],
   "source": [
    "[(x.year, x.authors, x.name, x.place.name, x.request) for x in visited\n",
    " if x.category in {\"nofile\"}\n",
    " if x.place.name != \"Tech Report\"\n",
    " if x.place.name != \"Book\"\n",
    " if x.place.name != \"Patent\"\n",
    " if x.display != x.place.acronym]"
   ]
  },
  {
   "cell_type": "code",
   "execution_count": null,
   "metadata": {
    "collapsed": true
   },
   "outputs": [],
   "source": [
    "len(_)"
   ]
  },
  {
   "cell_type": "code",
   "execution_count": null,
   "metadata": {
    "collapsed": true
   },
   "outputs": [],
   "source": []
  },
  {
   "cell_type": "code",
   "execution_count": null,
   "metadata": {
    "collapsed": true
   },
   "outputs": [],
   "source": []
  }
 ],
 "metadata": {
  "kernelspec": {
   "display_name": "Python 3",
   "language": "python",
   "name": "python3"
  },
  "language_info": {
   "codemirror_mode": {
    "name": "ipython",
    "version": 3
   },
   "file_extension": ".py",
   "mimetype": "text/x-python",
   "name": "python",
   "nbconvert_exporter": "python",
   "pygments_lexer": "ipython3",
   "version": "3.6.3"
  },
  "toc": {
   "nav_menu": {
    "height": "12px",
    "width": "252px"
   },
   "number_sections": true,
   "sideBar": true,
   "skip_h1_title": false,
   "toc_cell": false,
   "toc_position": {
    "height": "555px",
    "left": "0px",
    "right": "1438px",
    "top": "107px",
    "width": "44px"
   },
   "toc_section_display": "block",
   "toc_window_display": false
  }
 },
 "nbformat": 4,
 "nbformat_minor": 2
}
