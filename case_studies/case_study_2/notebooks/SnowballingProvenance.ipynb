{
 "cells": [
  {
   "cell_type": "code",
   "execution_count": 1,
   "metadata": {
    "collapsed": true
   },
   "outputs": [],
   "source": [
    "import os, sys\n",
    "sys.path.insert(1, os.path.join(sys.path[0], '..'))\n",
    "import database\n",
    "from snowballing.operations import reload, work_by_varname\n",
    "from snowballing.snowballing import snowballing, create_provenance, log_to_provn\n",
    "reload()\n"
   ]
  },
  {
   "cell_type": "code",
   "execution_count": 2,
   "metadata": {},
   "outputs": [
    {
     "data": {
      "text/plain": [
       "[Step(name='start', new_references=1, new_related=1, total_visited=1, total_related=1),\n",
       " Step(name='backward', new_references=21, new_related=1, total_visited=22, total_related=2),\n",
       " Step(name='forward', new_references=42, new_related=10, total_visited=64, total_related=12),\n",
       " Step(name='backward', new_references=0, new_related=0, total_visited=64, total_related=12),\n",
       " Step(name='forward', new_references=0, new_related=0, total_visited=64, total_related=12)]"
      ]
     },
     "execution_count": 2,
     "metadata": {},
     "output_type": "execute_result"
    }
   ],
   "source": [
    "\n",
    "reload()\n",
    "frontier = {work_by_varname(x) for x in (\n",
    "    \"wohlin2014a\",\n",
    ")}\n",
    "\n",
    "filter_function = lambda x: x.category in (\"snowball\", \"forward\", \"backward\")\n",
    "frontier, log, visited = create_provenance(\n",
    "    frontier, filter_function, backward_first=True\n",
    ")\n",
    "\n",
    "log"
   ]
  },
  {
   "cell_type": "code",
   "execution_count": 3,
   "metadata": {},
   "outputs": [
    {
     "name": "stdout",
     "output_type": "stream",
     "text": [
      "operacao, seed set, encontrado\n",
      "backward ['wohlin2014a'] ['kitchenham2004a']\n",
      "forward ['wohlin2014a'] ['giraldo2015a', 'lopez2015b', 'rasool2015a', 'badampudi2015a', 'mendez2015a', 'petersen2015a', 'li2015a', 'lopez2015a', 'babur2015a', 'klotins2015a']\n",
      "backward ['kitchenham2004a', 'petersen2015a', 'babur2015a', 'giraldo2015a', 'wohlin2014a', 'klotins2015a', 'lopez2015b', 'rasool2015a', 'badampudi2015a', 'mendez2015a', 'li2015a', 'lopez2015a'] []\n",
      "forward ['kitchenham2004a', 'petersen2015a', 'babur2015a', 'giraldo2015a', 'wohlin2014a', 'klotins2015a', 'lopez2015b', 'rasool2015a', 'badampudi2015a', 'mendez2015a', 'li2015a', 'lopez2015a'] []\n",
      "backward ['kitchenham2004a', 'petersen2015a', 'babur2015a', 'giraldo2015a', 'wohlin2014a', 'klotins2015a', 'lopez2015b', 'rasool2015a', 'badampudi2015a', 'mendez2015a', 'li2015a', 'lopez2015a'] []\n",
      "forward ['kitchenham2004a', 'petersen2015a', 'babur2015a', 'giraldo2015a', 'wohlin2014a', 'klotins2015a', 'lopez2015b', 'rasool2015a', 'badampudi2015a', 'mendez2015a', 'li2015a', 'lopez2015a'] []\n"
     ]
    },
    {
     "data": {
      "text/plain": [
       "[Step(name='start', new_references=1, new_related=1, total_visited=1, total_related=1),\n",
       " Step(name='backward', new_references=21, new_related=1, total_visited=22, total_related=2),\n",
       " Step(name='forward', new_references=42, new_related=10, total_visited=64, total_related=12),\n",
       " Step(name='backward', new_references=0, new_related=0, total_visited=64, total_related=12),\n",
       " Step(name='forward', new_references=0, new_related=0, total_visited=64, total_related=12),\n",
       " Step(name='backward', new_references=0, new_related=0, total_visited=64, total_related=12),\n",
       " Step(name='forward', new_references=0, new_related=0, total_visited=64, total_related=12)]"
      ]
     },
     "execution_count": 3,
     "metadata": {},
     "output_type": "execute_result"
    }
   ],
   "source": [
    "from copy import copy\n",
    "\n",
    "from snowballing.models import Work\n",
    "\n",
    "def aplica_par_backward_forward(initial_set, filter_function=None):\n",
    "    frontier = copy(initial_set)\n",
    "    with snowballing(frontier, filter_function) as (backward, forward, log, visited):\n",
    "        order = [backward, forward]\n",
    "        new_frontier = frontier\n",
    "        count = 0\n",
    "        print(\"operacao, seed set, encontrado\")\n",
    "        while count < 2:\n",
    "            temp = set()\n",
    "            for func in order:\n",
    "                count = count + 1 if not new_frontier else 0\n",
    "                new_frontier = func(frontier)\n",
    "                print(func.__name__, [x.metakey for x in frontier], [x.metakey for x in new_frontier])\n",
    "                temp.update(new_frontier)\n",
    "            frontier.update(temp)    \n",
    "            \n",
    "    return frontier, log, visited\n",
    "\n",
    "reload()\n",
    "frontier = {work_by_varname(x) for x in (\n",
    "    \"wohlin2014a\",\n",
    ")}\n",
    "filter_function = lambda x: x.category in (\"snowball\", \"forward\", \"backward\")\n",
    "frontier, log, visited = aplica_par_backward_forward(\n",
    "    frontier, filter_function,\n",
    ")\n",
    "\n",
    "log"
   ]
  },
  {
   "cell_type": "code",
   "execution_count": 4,
   "metadata": {},
   "outputs": [
    {
     "name": "stdout",
     "output_type": "stream",
     "text": [
      "operacao, seed set, encontrado\n",
      "backward ['wohlin2014a'] ['kitchenham2004a']\n",
      "backward ['wohlin2014a', 'kitchenham2004a'] []\n",
      "forward ['wohlin2014a', 'kitchenham2004a'] ['giraldo2015a', 'lopez2015b', 'rasool2015a', 'badampudi2015a', 'mendez2015a', 'petersen2015a', 'li2015a', 'lopez2015a', 'babur2015a', 'klotins2015a']\n",
      "forward ['kitchenham2004a', 'petersen2015a', 'babur2015a', 'giraldo2015a', 'wohlin2014a', 'klotins2015a', 'lopez2015b', 'rasool2015a', 'badampudi2015a', 'mendez2015a', 'li2015a', 'lopez2015a'] []\n"
     ]
    },
    {
     "data": {
      "text/plain": [
       "[Step(name='start', new_references=1, new_related=1, total_visited=1, total_related=1),\n",
       " Step(name='backward', new_references=21, new_related=1, total_visited=22, total_related=2),\n",
       " Step(name='backward', new_references=0, new_related=0, total_visited=22, total_related=2),\n",
       " Step(name='forward', new_references=42, new_related=10, total_visited=64, total_related=12),\n",
       " Step(name='forward', new_references=0, new_related=0, total_visited=64, total_related=12)]"
      ]
     },
     "execution_count": 4,
     "metadata": {},
     "output_type": "execute_result"
    }
   ],
   "source": [
    "from copy import copy\n",
    "\n",
    "from snowballing.models import Work\n",
    "\n",
    "gbackward = None\n",
    "\n",
    "def todo_backward_e_depois_todo_forward(initial_set, filter_function=None):\n",
    "    frontier = copy(initial_set)\n",
    "    with snowballing(frontier, filter_function) as (backward, forward, log, visited):\n",
    "        \n",
    "        print(\"operacao, seed set, encontrado\")\n",
    "        new_frontier = frontier\n",
    "        global gbackward\n",
    "        gbackward = backward\n",
    "        while new_frontier:\n",
    "            new_frontier = backward(frontier)\n",
    "            print(\"backward\", [x.metakey for x in frontier], [x.metakey for x in new_frontier])\n",
    "            frontier.update(new_frontier)\n",
    "        new_frontier = frontier\n",
    "        while new_frontier:\n",
    "            new_frontier = forward(frontier)\n",
    "            print(\"forward\", [x.metakey for x in frontier], [x.metakey for x in new_frontier])\n",
    "            frontier.update(new_frontier)\n",
    "        \n",
    "    return frontier, log, visited\n",
    "\n",
    "reload()\n",
    "frontier = {work_by_varname(x) for x in (\n",
    "    \"wohlin2014a\",\n",
    ")}\n",
    "filter_function = lambda x: x.category in (\"snowball\", \"forward\", \"backward\")\n",
    "frontier, log, visited = todo_backward_e_depois_todo_forward(\n",
    "    frontier, filter_function,\n",
    ")\n",
    "\n",
    "log\n",
    "#len(visited)"
   ]
  },
  {
   "cell_type": "code",
   "execution_count": 5,
   "metadata": {
    "collapsed": true
   },
   "outputs": [],
   "source": [
    "snowballing??"
   ]
  },
  {
   "cell_type": "code",
   "execution_count": 6,
   "metadata": {},
   "outputs": [
    {
     "data": {
      "text/plain": [
       "[Step(name='start', new_references=1, new_related=1, total_visited=1, total_related=1),\n",
       " Step(name='backward', new_references=21, new_related=1, total_visited=22, total_related=2),\n",
       " Step(name='backward', new_references=0, new_related=0, total_visited=22, total_related=2),\n",
       " Step(name='forward', new_references=42, new_related=10, total_visited=64, total_related=12),\n",
       " Step(name='forward', new_references=0, new_related=0, total_visited=64, total_related=12)]"
      ]
     },
     "execution_count": 6,
     "metadata": {},
     "output_type": "execute_result"
    }
   ],
   "source": [
    "log"
   ]
  },
  {
   "cell_type": "code",
   "execution_count": 7,
   "metadata": {},
   "outputs": [
    {
     "data": {
      "text/plain": [
       "{Evidence-based software engineering,\n",
       " Guidelines for conducting systematic mapping studies in software engineering: An update,\n",
       " Multiphysics and multiscale software frameworks: an annotated bibliography,\n",
       " Modelling language quality evaluation in model-driven information systems engineering: A roadmap,\n",
       " Guidelines for Snowballing in Systematic Literature Studies and a Replication in Software Engineering,\n",
       " Software engineering knowledge areas in startup companies: a mapping study,\n",
       " A systematic mapping study of search-based software engineering for software product lines,\n",
       " A review of code smell mining techniques,\n",
       " Experiences from using snowballing and database searches in systematic literature studies,\n",
       " Automated testing of mobile applications: a systematic map and review,\n",
       " A systematic mapping study on technical debt and its management,\n",
       " A first systematic mapping study on combinatorial interaction testing for software product lines}"
      ]
     },
     "execution_count": 7,
     "metadata": {},
     "output_type": "execute_result"
    }
   ],
   "source": [
    "frontier"
   ]
  },
  {
   "cell_type": "code",
   "execution_count": 8,
   "metadata": {
    "collapsed": true
   },
   "outputs": [],
   "source": [
    "create_provenance??"
   ]
  },
  {
   "cell_type": "code",
   "execution_count": 9,
   "metadata": {},
   "outputs": [
    {
     "name": "stdout",
     "output_type": "stream",
     "text": [
      "document\n",
      "  default <http://example.org/>\n",
      "\n",
      "  activity(start, -, -)\n",
      "  entity(s0, [type=\"Set\", length=\"1\"])\n",
      "  wasGeneratedBy(g0; s0, start, -)\n",
      "\n",
      "  activity(backward1, -, -, [found=\"21\", related=\"1\"])\n",
      "  used(u0; backward1, s0, -)\n",
      "  entity(s1, [type=\"Set\", length=\"2\"])\n",
      "  wasGeneratedBy(g1; s1, backward1, -)\n",
      "  wasDerivedFrom(s1, s0, backward1, g1, u0, [prov:type=\"prov:Revision\"])\n",
      "\n",
      "  activity(backward2, -, -, [found=\"0\", related=\"0\"])\n",
      "  used(u1; backward2, s1, -)\n",
      "\n",
      "  activity(forward1, -, -, [found=\"42\", related=\"10\"])\n",
      "  used(u2; forward1, s1, -)\n",
      "  entity(s2, [type=\"Set\", length=\"12\"])\n",
      "  wasGeneratedBy(g2; s2, forward1, -)\n",
      "  wasDerivedFrom(s2, s1, forward1, g2, u2, [prov:type=\"prov:Revision\"])\n",
      "\n",
      "  activity(forward2, -, -, [found=\"0\", related=\"0\"])\n",
      "  used(u3; forward2, s2, -)\n",
      "\n",
      "endDocument\n"
     ]
    }
   ],
   "source": [
    "print(log_to_provn(log))"
   ]
  },
  {
   "cell_type": "code",
   "execution_count": 10,
   "metadata": {},
   "outputs": [],
   "source": [
    "with open(\"output/snowballing.provn\", \"w\") as provn:\n",
    "    provn.write(log_to_provn(log))"
   ]
  },
  {
   "cell_type": "code",
   "execution_count": 11,
   "metadata": {},
   "outputs": [
    {
     "name": "stderr",
     "output_type": "stream",
     "text": [
      "'provconvert.bat' is not recognized as an internal or external command,\n",
      "operable program or batch file.\n"
     ]
    }
   ],
   "source": [
    "!provconvert.bat -infile snowballing.provn -outfile snowballing.dot"
   ]
  },
  {
   "cell_type": "code",
   "execution_count": 12,
   "metadata": {},
   "outputs": [
    {
     "ename": "FileNotFoundError",
     "evalue": "[Errno 2] No such file or directory: 'output/snowballing.dot'",
     "output_type": "error",
     "traceback": [
      "\u001b[1;31m---------------------------------------------------------------------------\u001b[0m",
      "\u001b[1;31mFileNotFoundError\u001b[0m                         Traceback (most recent call last)",
      "\u001b[1;32m<ipython-input-12-db042d2b6207>\u001b[0m in \u001b[0;36m<module>\u001b[1;34m()\u001b[0m\n\u001b[1;32m----> 1\u001b[1;33m \u001b[1;32mwith\u001b[0m \u001b[0mopen\u001b[0m\u001b[1;33m(\u001b[0m\u001b[1;34m\"output/snowballing.dot\"\u001b[0m\u001b[1;33m,\u001b[0m \u001b[1;34m\"r\"\u001b[0m\u001b[1;33m)\u001b[0m \u001b[1;32mas\u001b[0m \u001b[0mprov_dot\u001b[0m\u001b[1;33m:\u001b[0m\u001b[1;33m\u001b[0m\u001b[0m\n\u001b[0m\u001b[0;32m      2\u001b[0m     \u001b[0mtext\u001b[0m \u001b[1;33m=\u001b[0m \u001b[0mprov_dot\u001b[0m\u001b[1;33m.\u001b[0m\u001b[0mread\u001b[0m\u001b[1;33m(\u001b[0m\u001b[1;33m)\u001b[0m\u001b[1;33m.\u001b[0m\u001b[0mreplace\u001b[0m\u001b[1;33m(\u001b[0m\u001b[1;34m'rankdir=\"BT\";'\u001b[0m\u001b[1;33m,\u001b[0m \u001b[1;34m'rankdir=\"RL\"; ranksep=\"0.1\";'\u001b[0m\u001b[1;33m)\u001b[0m\u001b[1;33m\u001b[0m\u001b[0m\n\u001b[0;32m      3\u001b[0m \u001b[1;32mwith\u001b[0m \u001b[0mopen\u001b[0m\u001b[1;33m(\u001b[0m\u001b[1;34m\"output/snowballing.dot\"\u001b[0m\u001b[1;33m,\u001b[0m \u001b[1;34m\"w\"\u001b[0m\u001b[1;33m)\u001b[0m \u001b[1;32mas\u001b[0m \u001b[0mprov_dot\u001b[0m\u001b[1;33m:\u001b[0m\u001b[1;33m\u001b[0m\u001b[0m\n\u001b[0;32m      4\u001b[0m     \u001b[0mprov_dot\u001b[0m\u001b[1;33m.\u001b[0m\u001b[0mwrite\u001b[0m\u001b[1;33m(\u001b[0m\u001b[0mtext\u001b[0m\u001b[1;33m)\u001b[0m\u001b[1;33m\u001b[0m\u001b[0m\n",
      "\u001b[1;31mFileNotFoundError\u001b[0m: [Errno 2] No such file or directory: 'output/snowballing.dot'"
     ]
    }
   ],
   "source": [
    "with open(\"output/snowballing.dot\", \"r\") as prov_dot:\n",
    "    text = prov_dot.read().replace('rankdir=\"BT\";', 'rankdir=\"RL\"; ranksep=\"0.1\";')\n",
    "with open(\"output/snowballing.dot\", \"w\") as prov_dot:\n",
    "    prov_dot.write(text)"
   ]
  },
  {
   "cell_type": "code",
   "execution_count": 13,
   "metadata": {},
   "outputs": [
    {
     "name": "stderr",
     "output_type": "stream",
     "text": [
      "'dot' is not recognized as an internal or external command,\n",
      "operable program or batch file.\n",
      "'dot' is not recognized as an internal or external command,\n",
      "operable program or batch file.\n",
      "'inkscape' is not recognized as an internal or external command,\n",
      "operable program or batch file.\n"
     ]
    }
   ],
   "source": [
    "!dot -Tpng output/snowballing.dot -ooutput/snowballing.png\n",
    "!dot -Tsvg output/snowballing.dot -ooutput/snowballing.svg\n",
    "!inkscape -D -z --file=output/snowballing.svg --export-pdf=../csur/figs/snowballing.pdf"
   ]
  },
  {
   "cell_type": "code",
   "execution_count": 14,
   "metadata": {},
   "outputs": [
    {
     "data": {
      "text/plain": [
       "64"
      ]
     },
     "execution_count": 14,
     "metadata": {},
     "output_type": "execute_result"
    }
   ],
   "source": [
    "len(visited)"
   ]
  },
  {
   "cell_type": "code",
   "execution_count": 15,
   "metadata": {},
   "outputs": [
    {
     "data": {
      "text/plain": [
       "1"
      ]
     },
     "execution_count": 15,
     "metadata": {},
     "output_type": "execute_result"
    }
   ],
   "source": [
    "len([x for x in visited if x.category in {\"snowball\"}])"
   ]
  },
  {
   "cell_type": "code",
   "execution_count": 16,
   "metadata": {},
   "outputs": [
    {
     "data": {
      "text/plain": [
       "0"
      ]
     },
     "execution_count": 16,
     "metadata": {},
     "output_type": "execute_result"
    }
   ],
   "source": [
    "from snowballing.approaches import get_approaches\n",
    "len(get_approaches())"
   ]
  },
  {
   "cell_type": "code",
   "execution_count": 18,
   "metadata": {},
   "outputs": [
    {
     "name": "stdout",
     "output_type": "stream",
     "text": [
      "Digital Library, Referencias, Citações, Qtd Backward, Qtd Forward\n",
      "(1, 52, 400, 1, 10)\n",
      "start 1\n",
      "backward 21\n",
      "forward 42\n",
      "visitados 64\n"
     ]
    }
   ],
   "source": [
    "len([(x, x.year) for x in visited\n",
    "     if x.category in {\"nofile\"}\n",
    "     if x.place.name != \"Tech Report\"\n",
    "     if x.place.name != \"Book\"\n",
    "     if x.place.name != \"Patent\"\n",
    "     if x.place.name == \"Conference\"\n",
    "     if x.display != x.place.acronym\n",
    "    ])\n",
    "#count = 0\n",
    "#for x in visited:\n",
    "#     if hasattr(x, 'dglibrary'):\n",
    "#        print(x.dglibrary)\n",
    "#        count = 1 + count\n",
    "#print (count)\n",
    "len([\n",
    "    (x, x.year) for x in visited\n",
    "     if hasattr(x, 'dglibrary') and x.dglibrary==\"Scopus\"\n",
    "    \n",
    "])\n",
    "\n",
    "def count_ref(library,obj):\n",
    "    len_dglibrary = len([(x, x.year) for x in obj\n",
    "                             if hasattr(x, 'dglibrary') and library in x.dglibrary  \n",
    "                        ])\n",
    "    len_backward = len([(x, x.year) for x in obj\n",
    "                             if x.category==\"backward\"  \n",
    "                        ])\n",
    "    len_forward = len([(x, x.year) for x in obj\n",
    "                             if x.category==\"forward\"  \n",
    "                        ])\n",
    "    qtdref=0\n",
    "    qtdcitations=0\n",
    "    for x in obj:\n",
    "        qtdref=qtdref + int(getattr(x, \"references\", 0))\n",
    "            \n",
    "    for x in obj:\n",
    "        qtdcitations=qtdcitations + int(getattr(x, \"citations\", 0))\n",
    "    return len_dglibrary,qtdref,qtdcitations,len_backward,len_forward\n",
    "     \n",
    "\n",
    "print (\"Digital Library, Referencias, Citações, Qtd Backward, Qtd Forward\")\n",
    "print(count_ref(\"Scopus,ACM\",visited))\n",
    "\n",
    "log\n",
    "\n",
    "print (log[0].name, log[0].new_references)\n",
    "print(log[1].name, log[1].new_references)\n",
    "print(log[3].name, log[3].new_references)\n",
    "print(\"visitados\", len(visited))"
   ]
  },
  {
   "cell_type": "code",
   "execution_count": null,
   "metadata": {},
   "outputs": [],
   "source": [
    "len([x for x in visited if x.category in {\"lang\"}])"
   ]
  },
  {
   "cell_type": "code",
   "execution_count": null,
   "metadata": {},
   "outputs": [],
   "source": [
    "len([x for x in visited if x.category in {\"site\"}])"
   ]
  },
  {
   "cell_type": "code",
   "execution_count": null,
   "metadata": {},
   "outputs": [],
   "source": [
    "len([x for x in visited\n",
    "     if x.place.name == \"Tech Report\"\n",
    "    ])"
   ]
  },
  {
   "cell_type": "code",
   "execution_count": null,
   "metadata": {},
   "outputs": [],
   "source": [
    "len([x for x in visited\n",
    "     if x.place.name == \"ESEM\"\n",
    "    ])"
   ]
  },
  {
   "cell_type": "code",
   "execution_count": null,
   "metadata": {},
   "outputs": [],
   "source": [
    "{x.category for x in visited}"
   ]
  },
  {
   "cell_type": "code",
   "execution_count": null,
   "metadata": {
    "scrolled": true
   },
   "outputs": [],
   "source": [
    "[(x.year, x.authors, x.name, x.place.name, x.request) for x in visited\n",
    " if x.category in {\"nofile\"}\n",
    " if x.place.name != \"Tech Report\"\n",
    " if x.place.name != \"Book\"\n",
    " if x.place.name != \"Patent\"\n",
    " if x.display != x.place.acronym]"
   ]
  },
  {
   "cell_type": "code",
   "execution_count": null,
   "metadata": {},
   "outputs": [],
   "source": [
    "len(_)"
   ]
  },
  {
   "cell_type": "code",
   "execution_count": null,
   "metadata": {
    "collapsed": true
   },
   "outputs": [],
   "source": []
  },
  {
   "cell_type": "code",
   "execution_count": null,
   "metadata": {
    "collapsed": true
   },
   "outputs": [],
   "source": []
  }
 ],
 "metadata": {
  "kernelspec": {
   "display_name": "Python 3",
   "language": "python",
   "name": "python3"
  },
  "language_info": {
   "codemirror_mode": {
    "name": "ipython",
    "version": 3
   },
   "file_extension": ".py",
   "mimetype": "text/x-python",
   "name": "python",
   "nbconvert_exporter": "python",
   "pygments_lexer": "ipython3",
   "version": "3.6.0"
  },
  "toc": {
   "nav_menu": {
    "height": "12px",
    "width": "252px"
   },
   "navigate_menu": true,
   "number_sections": true,
   "sideBar": true,
   "threshold": 4,
   "toc_cell": false,
   "toc_section_display": "block",
   "toc_window_display": false
  }
 },
 "nbformat": 4,
 "nbformat_minor": 1
}
