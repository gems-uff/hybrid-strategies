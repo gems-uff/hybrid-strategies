{
 "cells": [
  {
   "cell_type": "code",
   "execution_count": 1,
   "metadata": {
    "collapsed": true
   },
   "outputs": [],
   "source": [
    "import database\n",
    "import importlib\n",
    "import os\n",
    "from datetime import datetime\n",
    "\n",
    "from snowballing.operations import load_work, load_citations, reload\n",
    "from snowballing.operations import work_by_varname, load_work_map_all_years\n",
    "from snowballing.models import Place, DB\n",
    "from snowballing.jupyter_utils import idisplay, work_button, new_button\n",
    "from snowballing.selenium_scholar import SeleniumScholarQuerier\n",
    "from snowballing.dbmanager import set_attribute"
   ]
  },
  {
   "cell_type": "markdown",
   "metadata": {},
   "source": [
    "## Check Place"
   ]
  },
  {
   "cell_type": "code",
   "execution_count": 2,
   "metadata": {},
   "outputs": [
    {
     "data": {
      "text/plain": [
       "0"
      ]
     },
     "execution_count": 2,
     "metadata": {},
     "output_type": "execute_result"
    }
   ],
   "source": [
    "reload()\n",
    "result = [\n",
    "    idisplay(work_button(w))\n",
    "    for _, w in load_work_map_all_years()\n",
    "    if hasattr(w, \"place1\")\n",
    "    or not isinstance(w.place, Place)\n",
    "]\n",
    "len(result)"
   ]
  },
  {
   "cell_type": "code",
   "execution_count": 52,
   "metadata": {},
   "outputs": [
    {
     "data": {
      "text/plain": [
       "[]"
      ]
     },
     "execution_count": 52,
     "metadata": {},
     "output_type": "execute_result"
    }
   ],
   "source": [
    "[p for p in DB.places() if not hasattr(p, \"type\")]"
   ]
  },
  {
   "cell_type": "code",
   "execution_count": 53,
   "metadata": {},
   "outputs": [
    {
     "data": {
      "text/plain": [
       "[]"
      ]
     },
     "execution_count": 53,
     "metadata": {},
     "output_type": "execute_result"
    }
   ],
   "source": [
    "[(p, p.type) for p in DB.places()\n",
    " if p.type not in {\n",
    "     \"Conference\", \n",
    "     \"Journal\", \n",
    "     \"Magazine\", \n",
    "     \"Sponsor\",\n",
    "     \"Proceedings\",\n",
    "     \"Archive\",\n",
    "     \"Tech Report\",\n",
    "     \"Unpublished\",\n",
    "     \"Thesis\",\n",
    "     \"Patent\",\n",
    "     \"Lang\",\n",
    "     \"Web\",\n",
    "     \"Standard\",\n",
    "     \"Book\",\n",
    "     \"Other\",\n",
    " }]"
   ]
  },
  {
   "cell_type": "markdown",
   "metadata": {},
   "source": [
    "## Check Work"
   ]
  },
  {
   "cell_type": "code",
   "execution_count": 5,
   "metadata": {},
   "outputs": [
    {
     "data": {
      "text/plain": [
       "0"
      ]
     },
     "execution_count": 5,
     "metadata": {},
     "output_type": "execute_result"
    }
   ],
   "source": [
    "reload()\n",
    "result = [\n",
    "    idisplay(work_button(w))\n",
    "    for _, w in load_work_map_all_years()\n",
    "    if w.category == \"work\"\n",
    "]\n",
    "len(result)"
   ]
  },
  {
   "cell_type": "markdown",
   "metadata": {},
   "source": [
    "## Check Due"
   ]
  },
  {
   "cell_type": "code",
   "execution_count": 55,
   "metadata": {},
   "outputs": [
    {
     "data": {
      "text/plain": [
       "0"
      ]
     },
     "execution_count": 55,
     "metadata": {},
     "output_type": "execute_result"
    }
   ],
   "source": [
    "reload()\n",
    "result = [\n",
    "    idisplay(work_button(w))\n",
    "    for _, w in load_work_map_all_years()\n",
    "    if w.category == \"unrelated\"\n",
    "    and not hasattr(w, \"due\")\n",
    "]\n",
    "len(result)"
   ]
  },
  {
   "cell_type": "markdown",
   "metadata": {},
   "source": [
    "## Check Name"
   ]
  },
  {
   "cell_type": "code",
   "execution_count": 56,
   "metadata": {},
   "outputs": [
    {
     "data": {
      "text/plain": [
       "0"
      ]
     },
     "execution_count": 56,
     "metadata": {},
     "output_type": "execute_result"
    }
   ],
   "source": [
    "reload()\n",
    "result = [\n",
    "    idisplay(work_button(w))\n",
    "    for _, w in load_work_map_all_years()\n",
    "    if not hasattr(w, \"name\")\n",
    "    or w.name.endswith(\".\")\n",
    "]\n",
    "len(result)"
   ]
  },
  {
   "cell_type": "markdown",
   "metadata": {},
   "source": [
    "## Check Authors"
   ]
  },
  {
   "cell_type": "code",
   "execution_count": 57,
   "metadata": {},
   "outputs": [
    {
     "data": {
      "text/plain": [
       "0"
      ]
     },
     "execution_count": 57,
     "metadata": {},
     "output_type": "execute_result"
    }
   ],
   "source": [
    "reload()\n",
    "result = [\n",
    "    idisplay(work_button(w))\n",
    "    for _, w in load_work_map_all_years()\n",
    "    if not hasattr(w, \"authors\")\n",
    "    or w.authors.endswith(\".\")\n",
    "    and not w.authors.endswith(\" al.\")\n",
    "    and not w.authors[-3] in \"- \" and w.authors[-2].isalpha()\n",
    "]\n",
    "len(result)"
   ]
  },
  {
   "cell_type": "markdown",
   "metadata": {},
   "source": [
    "## Check File/Link"
   ]
  },
  {
   "cell_type": "code",
   "execution_count": 58,
   "metadata": {
    "scrolled": true
   },
   "outputs": [
    {
     "ename": "AttributeError",
     "evalue": "'WorkOk' object has no attribute 'file'",
     "output_type": "error",
     "traceback": [
      "\u001b[1;31m---------------------------------------------------------------------------\u001b[0m",
      "\u001b[1;31mAttributeError\u001b[0m                            Traceback (most recent call last)",
      "\u001b[1;32m<ipython-input-58-e7e85799b949>\u001b[0m in \u001b[0;36m<module>\u001b[1;34m()\u001b[0m\n\u001b[0;32m     14\u001b[0m result = [\n\u001b[0;32m     15\u001b[0m     \u001b[0midisplay\u001b[0m\u001b[1;33m(\u001b[0m\u001b[0mwork_button\u001b[0m\u001b[1;33m(\u001b[0m\u001b[0mw\u001b[0m\u001b[1;33m)\u001b[0m\u001b[1;33m,\u001b[0m \u001b[0mr\u001b[0m\u001b[1;33m)\u001b[0m\u001b[1;33m\u001b[0m\u001b[0m\n\u001b[1;32m---> 16\u001b[1;33m     \u001b[1;32mfor\u001b[0m \u001b[0m_\u001b[0m\u001b[1;33m,\u001b[0m \u001b[0mw\u001b[0m\u001b[1;33m,\u001b[0m \u001b[0mr\u001b[0m \u001b[1;32min\u001b[0m \u001b[0mmap\u001b[0m\u001b[1;33m(\u001b[0m\u001b[0mcheck_file\u001b[0m\u001b[1;33m,\u001b[0m \u001b[0mload_work_map_all_years\u001b[0m\u001b[1;33m(\u001b[0m\u001b[1;33m)\u001b[0m\u001b[1;33m)\u001b[0m\u001b[1;33m\u001b[0m\u001b[0m\n\u001b[0m\u001b[0;32m     17\u001b[0m     \u001b[1;32mif\u001b[0m \u001b[0mr\u001b[0m\u001b[1;33m\u001b[0m\u001b[0m\n\u001b[0;32m     18\u001b[0m ]\n",
      "\u001b[1;32m<ipython-input-58-e7e85799b949>\u001b[0m in \u001b[0;36m<listcomp>\u001b[1;34m(.0)\u001b[0m\n\u001b[0;32m     13\u001b[0m \u001b[0mreload\u001b[0m\u001b[1;33m(\u001b[0m\u001b[1;33m)\u001b[0m\u001b[1;33m\u001b[0m\u001b[0m\n\u001b[0;32m     14\u001b[0m result = [\n\u001b[1;32m---> 15\u001b[1;33m     \u001b[0midisplay\u001b[0m\u001b[1;33m(\u001b[0m\u001b[0mwork_button\u001b[0m\u001b[1;33m(\u001b[0m\u001b[0mw\u001b[0m\u001b[1;33m)\u001b[0m\u001b[1;33m,\u001b[0m \u001b[0mr\u001b[0m\u001b[1;33m)\u001b[0m\u001b[1;33m\u001b[0m\u001b[0m\n\u001b[0m\u001b[0;32m     16\u001b[0m     \u001b[1;32mfor\u001b[0m \u001b[0m_\u001b[0m\u001b[1;33m,\u001b[0m \u001b[0mw\u001b[0m\u001b[1;33m,\u001b[0m \u001b[0mr\u001b[0m \u001b[1;32min\u001b[0m \u001b[0mmap\u001b[0m\u001b[1;33m(\u001b[0m\u001b[0mcheck_file\u001b[0m\u001b[1;33m,\u001b[0m \u001b[0mload_work_map_all_years\u001b[0m\u001b[1;33m(\u001b[0m\u001b[1;33m)\u001b[0m\u001b[1;33m)\u001b[0m\u001b[1;33m\u001b[0m\u001b[0m\n\u001b[0;32m     17\u001b[0m     \u001b[1;32mif\u001b[0m \u001b[0mr\u001b[0m\u001b[1;33m\u001b[0m\u001b[0m\n",
      "\u001b[1;32m<ipython-input-58-e7e85799b949>\u001b[0m in \u001b[0;36mcheck_file\u001b[1;34m(arg)\u001b[0m\n\u001b[0;32m      3\u001b[0m     \u001b[1;32mif\u001b[0m \u001b[0mhasattr\u001b[0m\u001b[1;33m(\u001b[0m\u001b[0mw\u001b[0m\u001b[1;33m,\u001b[0m \u001b[1;34m\"link\"\u001b[0m\u001b[1;33m)\u001b[0m \u001b[1;32mor\u001b[0m \u001b[0mw\u001b[0m\u001b[1;33m.\u001b[0m\u001b[0mcategory\u001b[0m \u001b[1;32min\u001b[0m \u001b[1;33m(\u001b[0m\u001b[1;34m\"nofile\"\u001b[0m\u001b[1;33m,\u001b[0m \u001b[1;34m\"site\"\u001b[0m\u001b[1;33m)\u001b[0m \u001b[1;32mor\u001b[0m \u001b[0mw\u001b[0m\u001b[1;33m.\u001b[0m\u001b[0mplace\u001b[0m\u001b[1;33m.\u001b[0m\u001b[0mname\u001b[0m \u001b[1;33m==\u001b[0m \u001b[1;34m\"Patent\"\u001b[0m\u001b[1;33m:\u001b[0m\u001b[1;33m\u001b[0m\u001b[0m\n\u001b[0;32m      4\u001b[0m         \u001b[1;32mreturn\u001b[0m \u001b[1;33m(\u001b[0m\u001b[0mk\u001b[0m\u001b[1;33m,\u001b[0m \u001b[0mw\u001b[0m\u001b[1;33m,\u001b[0m \u001b[1;34m\"\"\u001b[0m\u001b[1;33m)\u001b[0m\u001b[1;33m\u001b[0m\u001b[0m\n\u001b[1;32m----> 5\u001b[1;33m     \u001b[1;32mif\u001b[0m \u001b[0misinstance\u001b[0m\u001b[1;33m(\u001b[0m\u001b[0mgetattr\u001b[0m\u001b[1;33m(\u001b[0m\u001b[0mw\u001b[0m\u001b[1;33m,\u001b[0m \u001b[1;34m\"file\"\u001b[0m\u001b[1;33m)\u001b[0m\u001b[1;33m,\u001b[0m \u001b[0mstr\u001b[0m\u001b[1;33m)\u001b[0m\u001b[1;33m:\u001b[0m\u001b[1;33m\u001b[0m\u001b[0m\n\u001b[0m\u001b[0;32m      6\u001b[0m         \u001b[1;32mif\u001b[0m \u001b[0mos\u001b[0m\u001b[1;33m.\u001b[0m\u001b[0mpath\u001b[0m\u001b[1;33m.\u001b[0m\u001b[0mexists\u001b[0m\u001b[1;33m(\u001b[0m\u001b[0mos\u001b[0m\u001b[1;33m.\u001b[0m\u001b[0mpath\u001b[0m\u001b[1;33m.\u001b[0m\u001b[0mjoin\u001b[0m\u001b[1;33m(\u001b[0m\u001b[1;34m\"files\"\u001b[0m\u001b[1;33m,\u001b[0m \u001b[0mw\u001b[0m\u001b[1;33m.\u001b[0m\u001b[0mfile\u001b[0m\u001b[1;33m.\u001b[0m\u001b[0msplit\u001b[0m\u001b[1;33m(\u001b[0m\u001b[1;34m\"#\"\u001b[0m\u001b[1;33m)\u001b[0m\u001b[1;33m[\u001b[0m\u001b[1;36m0\u001b[0m\u001b[1;33m]\u001b[0m\u001b[1;33m)\u001b[0m\u001b[1;33m)\u001b[0m\u001b[1;33m:\u001b[0m\u001b[1;33m\u001b[0m\u001b[0m\n\u001b[0;32m      7\u001b[0m             \u001b[1;32mreturn\u001b[0m \u001b[1;33m(\u001b[0m\u001b[0mk\u001b[0m\u001b[1;33m,\u001b[0m \u001b[0mw\u001b[0m\u001b[1;33m,\u001b[0m \u001b[1;34m\"\"\u001b[0m\u001b[1;33m)\u001b[0m\u001b[1;33m\u001b[0m\u001b[0m\n",
      "\u001b[1;31mAttributeError\u001b[0m: 'WorkOk' object has no attribute 'file'"
     ]
    }
   ],
   "source": [
    "def check_file(arg):\n",
    "    k, w = arg\n",
    "    if hasattr(w, \"link\") or w.category in (\"nofile\", \"site\") or w.place.name == \"Patent\":\n",
    "        return (k, w, \"\")\n",
    "    if isinstance(getattr(w, \"file\"), str):\n",
    "        if os.path.exists(os.path.join(\"files\", w.file.split(\"#\")[0])):\n",
    "            return (k, w, \"\")\n",
    "        return (k, w, \"inexistent\")\n",
    "    if w.file is None:\n",
    "        return (k, w, \"no attribute\")\n",
    "    return (k, w, \"type error\")\n",
    "\n",
    "reload()\n",
    "result = [\n",
    "    idisplay(work_button(w), r)\n",
    "    for _, w, r in map(check_file, load_work_map_all_years())\n",
    "    if r\n",
    "]\n",
    "len(result)"
   ]
  },
  {
   "cell_type": "code",
   "execution_count": 26,
   "metadata": {
    "scrolled": true
   },
   "outputs": [
    {
     "ename": "AttributeError",
     "evalue": "'WorkOk' object has no attribute 'file'",
     "output_type": "error",
     "traceback": [
      "\u001b[1;31m---------------------------------------------------------------------------\u001b[0m",
      "\u001b[1;31mAttributeError\u001b[0m                            Traceback (most recent call last)",
      "\u001b[1;32m<ipython-input-26-60830e70b350>\u001b[0m in \u001b[0;36m<module>\u001b[1;34m()\u001b[0m\n\u001b[0;32m      1\u001b[0m declared_files = {\n\u001b[1;32m----> 2\u001b[1;33m     \u001b[0mw\u001b[0m\u001b[1;33m.\u001b[0m\u001b[0mfile\u001b[0m\u001b[1;33m.\u001b[0m\u001b[0msplit\u001b[0m\u001b[1;33m(\u001b[0m\u001b[1;34m\"#\"\u001b[0m\u001b[1;33m)\u001b[0m\u001b[1;33m[\u001b[0m\u001b[1;36m0\u001b[0m\u001b[1;33m]\u001b[0m \u001b[1;32mfor\u001b[0m \u001b[0mk\u001b[0m\u001b[1;33m,\u001b[0m \u001b[0mw\u001b[0m \u001b[1;32min\u001b[0m \u001b[0mload_work_map_all_years\u001b[0m\u001b[1;33m(\u001b[0m\u001b[1;33m)\u001b[0m\u001b[1;33m\u001b[0m\u001b[0m\n\u001b[0m\u001b[0;32m      3\u001b[0m     \u001b[1;32mif\u001b[0m \u001b[0misinstance\u001b[0m\u001b[1;33m(\u001b[0m\u001b[0mw\u001b[0m\u001b[1;33m.\u001b[0m\u001b[0mfile\u001b[0m\u001b[1;33m,\u001b[0m \u001b[0mstr\u001b[0m\u001b[1;33m)\u001b[0m\u001b[1;33m\u001b[0m\u001b[0m\n\u001b[0;32m      4\u001b[0m }\n\u001b[0;32m      5\u001b[0m \u001b[0mset\u001b[0m\u001b[1;33m(\u001b[0m\u001b[0mos\u001b[0m\u001b[1;33m.\u001b[0m\u001b[0mlistdir\u001b[0m\u001b[1;33m(\u001b[0m\u001b[1;34m'files'\u001b[0m\u001b[1;33m)\u001b[0m\u001b[1;33m)\u001b[0m \u001b[1;33m-\u001b[0m \u001b[0mdeclared_files\u001b[0m \u001b[1;33m-\u001b[0m \u001b[1;33m{\u001b[0m\u001b[1;34m'alternatives'\u001b[0m\u001b[1;33m}\u001b[0m\u001b[1;33m\u001b[0m\u001b[0m\n",
      "\u001b[1;32m<ipython-input-26-60830e70b350>\u001b[0m in \u001b[0;36m<setcomp>\u001b[1;34m(.0)\u001b[0m\n\u001b[0;32m      1\u001b[0m declared_files = {\n\u001b[0;32m      2\u001b[0m     \u001b[0mw\u001b[0m\u001b[1;33m.\u001b[0m\u001b[0mfile\u001b[0m\u001b[1;33m.\u001b[0m\u001b[0msplit\u001b[0m\u001b[1;33m(\u001b[0m\u001b[1;34m\"#\"\u001b[0m\u001b[1;33m)\u001b[0m\u001b[1;33m[\u001b[0m\u001b[1;36m0\u001b[0m\u001b[1;33m]\u001b[0m \u001b[1;32mfor\u001b[0m \u001b[0mk\u001b[0m\u001b[1;33m,\u001b[0m \u001b[0mw\u001b[0m \u001b[1;32min\u001b[0m \u001b[0mload_work_map_all_years\u001b[0m\u001b[1;33m(\u001b[0m\u001b[1;33m)\u001b[0m\u001b[1;33m\u001b[0m\u001b[0m\n\u001b[1;32m----> 3\u001b[1;33m     \u001b[1;32mif\u001b[0m \u001b[0misinstance\u001b[0m\u001b[1;33m(\u001b[0m\u001b[0mw\u001b[0m\u001b[1;33m.\u001b[0m\u001b[0mfile\u001b[0m\u001b[1;33m,\u001b[0m \u001b[0mstr\u001b[0m\u001b[1;33m)\u001b[0m\u001b[1;33m\u001b[0m\u001b[0m\n\u001b[0m\u001b[0;32m      4\u001b[0m }\n\u001b[0;32m      5\u001b[0m \u001b[0mset\u001b[0m\u001b[1;33m(\u001b[0m\u001b[0mos\u001b[0m\u001b[1;33m.\u001b[0m\u001b[0mlistdir\u001b[0m\u001b[1;33m(\u001b[0m\u001b[1;34m'files'\u001b[0m\u001b[1;33m)\u001b[0m\u001b[1;33m)\u001b[0m \u001b[1;33m-\u001b[0m \u001b[0mdeclared_files\u001b[0m \u001b[1;33m-\u001b[0m \u001b[1;33m{\u001b[0m\u001b[1;34m'alternatives'\u001b[0m\u001b[1;33m}\u001b[0m\u001b[1;33m\u001b[0m\u001b[0m\n",
      "\u001b[1;31mAttributeError\u001b[0m: 'WorkOk' object has no attribute 'file'"
     ]
    }
   ],
   "source": [
    "declared_files = {\n",
    "    w.file.split(\"#\")[0] for k, w in load_work_map_all_years()\n",
    "    if isinstance(w.file, str)\n",
    "}\n",
    "set(os.listdir('files')) - declared_files - {'alternatives'}"
   ]
  },
  {
   "cell_type": "markdown",
   "metadata": {},
   "source": [
    "## Check nofile"
   ]
  },
  {
   "cell_type": "code",
   "execution_count": 42,
   "metadata": {
    "scrolled": true
   },
   "outputs": [
    {
     "data": {
      "text/plain": [
       "0"
      ]
     },
     "execution_count": 42,
     "metadata": {},
     "output_type": "execute_result"
    }
   ],
   "source": [
    "from IPython.display import display\n",
    "reload()\n",
    "result = [\n",
    "    idisplay(work_button(w))\n",
    "    for _, w in load_work_map_all_years()\n",
    "    if w.category == \"nofile\"\n",
    "    if getattr(w, \"request\", \"\") not in (\"done\", \"wont\", \"researchgate\")\n",
    "    if w.place.name != \"Patent\"\n",
    "]\n",
    "len(result)"
   ]
  },
  {
   "cell_type": "markdown",
   "metadata": {},
   "source": [
    "## Scholar"
   ]
  },
  {
   "cell_type": "code",
   "execution_count": 3,
   "metadata": {
    "scrolled": true
   },
   "outputs": [
    {
     "data": {
      "text/plain": [
       "63"
      ]
     },
     "execution_count": 3,
     "metadata": {},
     "output_type": "execute_result"
    }
   ],
   "source": [
    "querier = None\n",
    "reload()\n",
    "worklist = sorted(\n",
    "    [k for k, w in load_work_map_all_years() if not getattr(w, \"scholar_ok\", False)],\n",
    "    key=lambda x: (int(x[-5:-1]), x)\n",
    ")\n",
    "len(worklist)"
   ]
  },
  {
   "cell_type": "code",
   "execution_count": 4,
   "metadata": {},
   "outputs": [
    {
     "name": "stderr",
     "output_type": "stream",
     "text": [
      "[ INFO]  settings applied\n"
     ]
    }
   ],
   "source": [
    "if worklist and querier is None:\n",
    "    querier = SeleniumScholarQuerier()\n",
    "    querier.apply_settings(10, 4)"
   ]
  },
  {
   "cell_type": "code",
   "execution_count": 5,
   "metadata": {
    "collapsed": true,
    "scrolled": true
   },
   "outputs": [],
   "source": [
    "from snowballing.snowballing import ScholarUpdate\n",
    "supdate = ScholarUpdate(querier, worklist, force=False)"
   ]
  },
  {
   "cell_type": "code",
   "execution_count": 6,
   "metadata": {
    "scrolled": true
   },
   "outputs": [
    {
     "data": {
      "application/vnd.jupyter.widget-view+json": {
       "model_id": "a89a768d86354ddc8a7a8b5caf565491",
       "version_major": 2,
       "version_minor": 0
      },
      "text/html": [
       "<p>Failed to display Jupyter Widget of type <code>VBox</code>.</p>\n",
       "<p>\n",
       "  If you're reading this message in Jupyter Notebook or JupyterLab, it may mean\n",
       "  that the widgets JavaScript is still loading. If this message persists, it\n",
       "  likely means that the widgets JavaScript library is either not installed or\n",
       "  not enabled. See the <a href=\"https://ipywidgets.readthedocs.io/en/stable/user_install.html\">Jupyter\n",
       "  Widgets Documentation</a> for setup instructions.\n",
       "</p>\n",
       "<p>\n",
       "  If you're reading this message in another notebook frontend (for example, a static\n",
       "  rendering on GitHub or <a href=\"https://nbviewer.jupyter.org/\">NBViewer</a>),\n",
       "  it may mean that your frontend doesn't currently support widgets.\n",
       "</p>\n"
      ],
      "text/plain": [
       "VBox(children=(HBox(children=(Button(description='Previous Work', disabled=True, icon='arrow-left', style=ButtonStyle()), Button(description='Reload', icon='refresh', style=ButtonStyle()), Button(description='Next Work', icon='arrow-right', style=ButtonStyle()), ToggleButton(value=False, description='Debug'), ToggleButton(value=False, description='TextArea'), Label(value='0'))), Output(outputs=({'output_type': 'stream', 'text': 'pickard1998a False\\n', 'name': 'stdout'},))))"
      ]
     },
     "metadata": {},
     "output_type": "display_data"
    }
   ],
   "source": [
    "supdate"
   ]
  },
  {
   "cell_type": "code",
   "execution_count": 8,
   "metadata": {
    "collapsed": true
   },
   "outputs": [],
   "source": [
    "# Temp\n",
    "set_attribute('basili1999a', 'authors', 'Basili, Victor R and Shull, Forrest and Lanubile, Filippo')\n",
    "set_attribute('basili1999a', 'entrytype', 'inproceedings')\n",
    "set_attribute('basili1999a', 'volume', '25')\n",
    "set_attribute('basili1999a', 'cluster_id', '8728852333858540790')\n",
    "set_attribute('basili1999a', 'publisher', 'IEEE')\n",
    "set_attribute('basili1999a', 'pp', '456--473')\n",
    "set_attribute('basili1999a', 'scholar', 'http://scholar.google.com/scholar?cites=8728852333858540790&as_sdt=2005&sciodt=0,5&hl=en')\n",
    "set_attribute('basili1999a', 'number', '4')\n",
    "set_attribute('basili1999a', 'scholar_ok', True)\n",
    "None"
   ]
  },
  {
   "cell_type": "code",
   "execution_count": 36,
   "metadata": {},
   "outputs": [
    {
     "data": {
      "text/plain": [
       "set()"
      ]
     },
     "execution_count": 36,
     "metadata": {},
     "output_type": "execute_result"
    }
   ],
   "source": [
    "{w.scholar_ok for k, w in load_work_map_all_years() if getattr(w, \"scholar_ok\", False)}"
   ]
  },
  {
   "cell_type": "markdown",
   "metadata": {},
   "source": [
    "## Forward\n",
    "\n",
    "Finding scholar cluster: http://webapps.stackexchange.com/questions/45333/how-to-create-a-citation-alert-for-a-paper-without-citation-in-google-scholar"
   ]
  },
  {
   "cell_type": "code",
   "execution_count": 37,
   "metadata": {},
   "outputs": [
    {
     "data": {
      "text/plain": [
       "0"
      ]
     },
     "execution_count": 37,
     "metadata": {},
     "output_type": "execute_result"
    }
   ],
   "source": [
    "def set_snowball_date_button(key, date):\n",
    "    def click(w):\n",
    "        set_attribute(key, \"snowball\", \"datetime({0.year}, {0.month}, {0.day})\".format(date))\n",
    "    return new_button(\"Set date\", click)\n",
    "    \n",
    "date = datetime(2017, 3, 6)\n",
    "reload()\n",
    "result = [\n",
    "    idisplay(\n",
    "        work_button(w),\n",
    "        set_snowball_date_button(k, date),\n",
    "        '\"{}\", citation_file=\"{}\"'.format(k, w.citation_file) if hasattr(w, 'scholar') else w.name,\n",
    "        label=False\n",
    "    )\n",
    "    for k, w in load_work_map_all_years()\n",
    "    if hasattr(w, 'snowball')\n",
    "    and w.category == \"snowball\"\n",
    "    and w.snowball != date\n",
    "]\n",
    "len(result)"
   ]
  },
  {
   "cell_type": "markdown",
   "metadata": {
    "collapsed": true
   },
   "source": [
    "## Tracking"
   ]
  },
  {
   "cell_type": "code",
   "execution_count": 38,
   "metadata": {},
   "outputs": [
    {
     "data": {
      "text/plain": [
       "0"
      ]
     },
     "execution_count": 38,
     "metadata": {},
     "output_type": "execute_result"
    }
   ],
   "source": [
    "def set_tracking_button(key):\n",
    "    def click(w):\n",
    "        set_attribute(key, \"tracking\", \"alert\")\n",
    "    return new_button(\"Set track\", click)\n",
    "\n",
    "reload()\n",
    "result = [\n",
    "    idisplay(\n",
    "        work_button(w),\n",
    "        set_tracking_button(k),\n",
    "        \"https://scholar.google.com/scholar?cluster={}&hl=en&as_sdt=2005&sciodt=0,5\".format(w.cluster_id) if hasattr(w, 'cluster_id') else w.name,\n",
    "        getattr(w, 'scholar', ''),\n",
    "        label=False,\n",
    "    )\n",
    "    for k, w in load_work_map_all_years()\n",
    "    if getattr(w, \"tracking\", \"\") not in (\"alert\", \"impossible\")\n",
    "    and w.category == \"snowball\"\n",
    "]\n",
    "len(result)"
   ]
  },
  {
   "cell_type": "code",
   "execution_count": 39,
   "metadata": {},
   "outputs": [
    {
     "data": {
      "text/plain": [
       "0"
      ]
     },
     "execution_count": 39,
     "metadata": {},
     "output_type": "execute_result"
    }
   ],
   "source": [
    "len({k for k, w in load_work_map_all_years() if w.category == \"snowball\"})"
   ]
  },
  {
   "cell_type": "code",
   "execution_count": 40,
   "metadata": {},
   "outputs": [
    {
     "data": {
      "text/plain": [
       "0"
      ]
     },
     "execution_count": 40,
     "metadata": {},
     "output_type": "execute_result"
    }
   ],
   "source": [
    "reload()\n",
    "result = [\n",
    "    idisplay(work_button(w))\n",
    "    for k, w in load_work_map_all_years()\n",
    "    if w.category == \"snowball\"\n",
    "    if w.place.name in (\"Tech Report\", \"Unpublished\")\n",
    "]\n",
    "len(result)"
   ]
  },
  {
   "cell_type": "markdown",
   "metadata": {
    "collapsed": true
   },
   "source": [
    "## Dash"
   ]
  },
  {
   "cell_type": "code",
   "execution_count": 41,
   "metadata": {},
   "outputs": [
    {
     "data": {
      "text/plain": [
       "0"
      ]
     },
     "execution_count": 41,
     "metadata": {},
     "output_type": "execute_result"
    }
   ],
   "source": [
    "def check_dash(ele):\n",
    "    k, w = ele\n",
    "    def create_button(attr):\n",
    "        def click(_):\n",
    "            set_attribute(k, attr, str(getattr(w, attr)).replace(\"-\", \"--\"))\n",
    "        return new_button(\"Set \" + attr, click)\n",
    "    reasons = []\n",
    "    if w.place.name in (\"Thesis\", \"Tech Report\"):\n",
    "        return k, w, reasons\n",
    "    if isinstance(getattr(w, 'pp', ''), int):\n",
    "        reasons.append(create_button('pp'))\n",
    "    elif getattr(w, 'pp', '').count('-') not in (0, 2):\n",
    "        reasons.append(create_button('pp'))\n",
    "    if isinstance(getattr(w, 'volume', ''), int):\n",
    "        reasons.append(create_button('volume'))\n",
    "    elif getattr(w, 'volume', '').count('-') not in (0, 2):\n",
    "        reasons.append(create_button('volume'))\n",
    "    if isinstance(getattr(w, 'number', ''), int):\n",
    "        reasons.append(create_button('number'))\n",
    "    elif getattr(w, 'number', '').count('-') not in (0, 2):\n",
    "        reasons.append(create_button('number'))\n",
    "    return k, w, reasons\n",
    "\n",
    "reload()\n",
    "result = [\n",
    "    idisplay(work_button(w), *r)\n",
    "    for k, w, r in map(check_dash, load_work_map_all_years())\n",
    "    if r\n",
    "]\n",
    "len(result)"
   ]
  },
  {
   "cell_type": "code",
   "execution_count": null,
   "metadata": {
    "collapsed": true
   },
   "outputs": [],
   "source": []
  }
 ],
 "metadata": {
  "kernelspec": {
   "display_name": "Python 3",
   "language": "python",
   "name": "python3"
  },
  "language_info": {
   "codemirror_mode": {
    "name": "ipython",
    "version": 3
   },
   "file_extension": ".py",
   "mimetype": "text/x-python",
   "name": "python",
   "nbconvert_exporter": "python",
   "pygments_lexer": "ipython3",
   "version": "3.6.0"
  },
  "toc": {
   "nav_menu": {
    "height": "142px",
    "width": "252px"
   },
   "navigate_menu": true,
   "number_sections": true,
   "sideBar": true,
   "threshold": 4,
   "toc_cell": false,
   "toc_section_display": "block",
   "toc_window_display": false
  },
  "widgets": {
   "state": {
    "163969c3dd3449fa84df6bb2a9eddb50": {
     "views": [
      {
       "cell_index": 14
      }
     ]
    },
    "e148968a58354579a5d15c603ad4f1b6": {
     "views": [
      {
       "cell_index": 14
      }
     ]
    }
   },
   "version": "1.2.0"
  }
 },
 "nbformat": 4,
 "nbformat_minor": 2
}
