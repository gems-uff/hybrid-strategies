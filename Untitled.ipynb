{
 "cells": [
  {
   "cell_type": "code",
   "execution_count": 1,
   "metadata": {
    "collapsed": true
   },
   "outputs": [],
   "source": [
    "text = \"\"\"\n",
    "(\n",
    "(\"software process improvement\") AND\n",
    "(\"business goal\" OR \"strategic\" OR \"goal oriented\" OR\n",
    "\"business oriented\" OR \"business strategy\") AND\n",
    "(\"alignment\" OR  \"in line with\" OR \"geared to\" OR\n",
    "\"aligned with\" OR \"linking\") AND\n",
    "(\"method\" OR \"approach\" OR \"framework\" OR \"methodology\")\n",
    ")\n",
    "\"\"\""
   ]
  },
  {
   "cell_type": "code",
   "execution_count": 6,
   "metadata": {},
   "outputs": [
    {
     "data": {
      "text/plain": [
       "'( (\"software process improvement\") + (\"business goal\" \"strategic\" \"goal oriented\" \"business oriented\" \"business strategy\") + (\"alignment\" \"in line with\" \"geared to\" \"aligned with\" \"linking\") + (\"method\" \"approach\" \"framework\" \"methodology\") )'"
      ]
     },
     "execution_count": 6,
     "metadata": {},
     "output_type": "execute_result"
    }
   ],
   "source": [
    "text.strip().replace(\"\\n\", \" \").replace(\"  \", \" \").replace(\"AND\", \"+\").replace(\"OR\", \" \").replace(\"  \", \" \").replace(\"  \", \" \")"
   ]
  },
  {
   "cell_type": "code",
   "execution_count": null,
   "metadata": {
    "collapsed": true
   },
   "outputs": [],
   "source": [
    "+(\"software process improvement\" +(\"business goal\" \"strategic\" \"goal oriented\" \"business oriented\" \"business strategy\") +(\"alignment\" \"in line with\" \"geared to\" \"aligned with\" \"linking\") +(\"method\" \"approach\" \"framework\" \"methodology\"))"
   ]
  }
 ],
 "metadata": {
  "kernelspec": {
   "display_name": "Python 3",
   "language": "python",
   "name": "python3"
  },
  "language_info": {
   "codemirror_mode": {
    "name": "ipython",
    "version": 3
   },
   "file_extension": ".py",
   "mimetype": "text/x-python",
   "name": "python",
   "nbconvert_exporter": "python",
   "pygments_lexer": "ipython3",
   "version": "3.6.3"
  },
  "toc": {
   "nav_menu": {},
   "number_sections": true,
   "sideBar": true,
   "skip_h1_title": false,
   "toc_cell": false,
   "toc_position": {},
   "toc_section_display": "block",
   "toc_window_display": false
  }
 },
 "nbformat": 4,
 "nbformat_minor": 2
}
