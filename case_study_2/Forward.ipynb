{
 "cells": [
  {
   "cell_type": "code",
   "execution_count": 1,
   "metadata": {
    "collapsed": true
   },
   "outputs": [],
   "source": [
    "import database\n",
    "from snowballing.operations import load_work, reload, work_by_varname\n",
    "from snowballing.selenium_scholar import SeleniumScholarQuerier\n",
    "from snowballing.snowballing import ForwardSnowballing\n",
    "from snowballing.dbmanager import insert, set_attribute"
   ]
  },
  {
   "cell_type": "code",
   "execution_count": null,
   "metadata": {
    "collapsed": true
   },
   "outputs": [],
   "source": [
    "# Temp\n",
    "insert('''\n",
    "reis2015a = DB(Work(\n",
    "    2015, \"Estado da Arte sobre Afetividade na Forma{ç}ão de Grupos em Ambientes Colaborativos de Aprendizagem.\",\n",
    "    display=\"reis\",\n",
    "    authors=\"Reis, Rachel CD and Lyra, Kamila T and Bittencourt, Ig I and Rodriguez, Carla L and Jaques, Patrícia A and Isotani, Seiji\",\n",
    "    place1=\"Revista Brasileira de Informática na Educa{ç}ão\",\n",
    "    entrytype=\"article\",\n",
    "    volume=\"23\",\n",
    "    number=\"3\",\n",
    "    ID=\"reis2015estado\",\n",
    "    cluster_id=\"7512043661940349286\",\n",
    "    scholar=\"http://scholar.google.com/scholar?cites=7512043661940349286&as_sdt=2005&sciodt=0,5&hl=en\",\n",
    "))\n",
    "\n",
    "DB(Citation(\n",
    "    reis2015a, wohlin2014a, ref=\"\",\n",
    "    contexts=[\n",
    "\n",
    "    ],\n",
    "))\n",
    "\n",
    "''', citations='wohlin2014a');"
   ]
  },
  {
   "cell_type": "code",
   "execution_count": 2,
   "metadata": {
    "collapsed": true
   },
   "outputs": [],
   "source": [
    "querier = SeleniumScholarQuerier()"
   ]
  },
  {
   "cell_type": "code",
   "execution_count": 3,
   "metadata": {
    "scrolled": true
   },
   "outputs": [
    {
     "name": "stderr",
     "output_type": "stream",
     "text": [
      "[ INFO]  settings applied\n"
     ]
    },
    {
     "data": {
      "text/plain": [
       "<snowballing.selenium_scholar.SeleniumScholarQuerier at 0x2447cb60978>"
      ]
     },
     "execution_count": 3,
     "metadata": {},
     "output_type": "execute_result"
    }
   ],
   "source": [
    "querier.apply_settings(20, 4);"
   ]
  },
  {
   "cell_type": "code",
   "execution_count": 4,
   "metadata": {
    "collapsed": true
   },
   "outputs": [],
   "source": [
    "manager = ForwardSnowballing(querier, \"wohlin2014a\", start=40)"
   ]
  },
  {
   "cell_type": "code",
   "execution_count": null,
   "metadata": {
    "collapsed": true
   },
   "outputs": [],
   "source": [
    "from snowballing.selenium_scholar import ScholarSettingsTask\n",
    "\n",
    "ScholarSettingsTask??"
   ]
  },
  {
   "cell_type": "code",
   "execution_count": null,
   "metadata": {
    "collapsed": true
   },
   "outputs": [],
   "source": []
  },
  {
   "cell_type": "code",
   "execution_count": 5,
   "metadata": {},
   "outputs": [
    {
     "data": {
      "application/vnd.jupyter.widget-view+json": {
       "model_id": "1bb6205643a1464fa5fd1d99e2423aa5",
       "version_major": 2,
       "version_minor": 0
      },
      "text/html": [
       "<p>Failed to display Jupyter Widget of type <code>Tab</code>.</p>\n",
       "<p>\n",
       "  If you're reading this message in Jupyter Notebook or JupyterLab, it may mean\n",
       "  that the widgets JavaScript is still loading. If this message persists, it\n",
       "  likely means that the widgets JavaScript library is either not installed or\n",
       "  not enabled. See the <a href=\"https://ipywidgets.readthedocs.io/en/stable/user_install.html\">Jupyter\n",
       "  Widgets Documentation</a> for setup instructions.\n",
       "</p>\n",
       "<p>\n",
       "  If you're reading this message in another notebook frontend (for example, a static\n",
       "  rendering on GitHub or <a href=\"https://nbviewer.jupyter.org/\">NBViewer</a>),\n",
       "  it may mean that your frontend doesn't currently support widgets.\n",
       "</p>\n"
      ],
      "text/plain": [
       "Tab(children=(VBox(children=(HBox(children=(Button(description='Previous Page', icon='arrow-left', style=ButtonStyle()), Button(description='Reload', icon='refresh', style=ButtonStyle()), Button(description='Next Page', icon='arrow-right', style=ButtonStyle()), ToggleButton(value=False, description='Debug'), Label(value='40'))), Output())), VBox(children=(HBox(children=(Button(description='Previous Article', disabled=True, icon='caret-left', style=ButtonStyle()), Button(description='Reload Article', icon='refresh', style=ButtonStyle()), Button(description='Next Article', icon='caret-right', style=ButtonStyle()))), HBox(children=(Button(description='Unrelated: Scripts', style=ButtonStyle()), Button(description='Unrelated: Provenance', style=ButtonStyle()), Button(description='Both', style=ButtonStyle()), Button(description='Ok', style=ButtonStyle()))), HBox(children=(Dropdown(description='Type', options=('Work', 'WorkSnowball', 'WorkForward', 'WorkBackward', 'WorkOk', 'WorkUnrelated', 'WorkNoFile', 'WorkLang', 'Site', 'Email'), value='Work'), ToggleButton(value=False, description='File'))), HBox(children=(Text(value='', description='Due'), Text(value='', description='Place'))), HBox(children=(Text(value='', description='Year'), Text(value='', description='Prefix Var'))), HBox(children=(Text(value='', description='PDFPage'), Text(value='', description='Related'))), HBox(children=(Text(value='', description='Display'), Text(value='', description='Summary'))), HBox(children=(Text(value='', description='Star'), Text(value='', description='Link'))), HBox(children=(Button(description='Reload Article', icon='refresh', style=ButtonStyle()), IntSlider(value=0, max=18), Label(value='1/19'))), Output()))), _titles={'0': 'Page', '1': 'Article'})"
      ]
     },
     "metadata": {},
     "output_type": "display_data"
    },
    {
     "data": {
      "application/javascript": [
       "$('span:contains(\"# Temp\")').closest('.cell').remove();"
      ],
      "text/plain": [
       "<IPython.core.display.Javascript object>"
      ]
     },
     "metadata": {},
     "output_type": "display_data"
    },
    {
     "data": {
      "application/javascript": [
       "\n",
       "        $('span:contains(\"# Temp\")').closest('.cell').remove();\n",
       "        var code = IPython.notebook.insert_cell_below('code');\n",
       "        code.set_text(atob(\"IyBUZW1wCmluc2VydCgnJycKZmFiYnJpMjAxNmEgPSBEQihXb3JrKAogICAgMjAxNiwgIkltcHJvdmVtZW50cyBpbiB0aGUgc3RhcnQgdG9vbCB0byBiZXR0ZXIgc3VwcG9ydCB0aGUgc3lzdGVtYXRpYyByZXZpZXcgcHJvY2VzcyIsCiAgICBkaXNwbGF5PSJmYWJicmkiLAogICAgYXV0aG9ycz0iRmFiYnJpLCBTYW5kcmEgYW5kIFNpbHZhLCBDbGVpdG9uIGFuZCBIZXJuYW5kZXMsIEVsaXMgYW5kIE9jdGF2aWFubywgRuFiaW8gYW5kIERpIFRob21tYXpvLCBBbmRy6SBhbmQgQmVsZ2FtbywgQW5kZXJzb24iLAogICAgcGxhY2U9RUFTRSwKICAgIHBwPSIyMSIsCiAgICBlbnRyeXR5cGU9ImlucHJvY2VlZGluZ3MiLAogICAgb3JnYW5pemF0aW9uPSJBQ00iLAogICAgSUQ9ImZhYmJyaTIwMTZpbXByb3ZlbWVudHMiLAogICAgY2x1c3Rlcl9pZD0iMTQ0ODgxMTI0MTk0MTQzOTY5MTciLAogICAgc2Nob2xhcj0iaHR0cDovL3NjaG9sYXIuZ29vZ2xlLmNvbS9zY2hvbGFyP2NpdGVzPTE0NDg4MTEyNDE5NDE0Mzk2OTE3JmFzX3NkdD0yMDA1JnNjaW9kdD0wLDUmaGw9ZW4iLAopKQoKREIoQ2l0YXRpb24oCiAgICBmYWJicmkyMDE2YSwgd29obGluMjAxNGEsIHJlZj0iIiwKICAgIGNvbnRleHRzPVsKCiAgICBdLAopKQoKJycnLCBjaXRhdGlvbnM9J3dvaGxpbjIwMTRhJyk7\"));\n",
       "    "
      ],
      "text/plain": [
       "<IPython.core.display.Javascript object>"
      ]
     },
     "metadata": {},
     "output_type": "display_data"
    },
    {
     "data": {
      "application/javascript": [
       "$('span:contains(\"# Temp\")').closest('.cell').remove();"
      ],
      "text/plain": [
       "<IPython.core.display.Javascript object>"
      ]
     },
     "metadata": {},
     "output_type": "display_data"
    },
    {
     "data": {
      "application/javascript": [
       "\n",
       "        $('span:contains(\"# Temp\")').closest('.cell').remove();\n",
       "        var code = IPython.notebook.insert_cell_below('code');\n",
       "        code.set_text(atob(\"IyBUZW1wCmluc2VydCgnJycKcmVpczIwMTVhID0gREIoV29yaygKICAgIDIwMTUsICJFc3RhZG8gZGEgQXJ0ZSBzb2JyZSBBZmV0aXZpZGFkZSBuYSBGb3JtYXvnfeNvIGRlIEdydXBvcyBlbSBBbWJpZW50ZXMgQ29sYWJvcmF0aXZvcyBkZSBBcHJlbmRpemFnZW0uIiwKICAgIGRpc3BsYXk9InJlaXMiLAogICAgYXV0aG9ycz0iUmVpcywgUmFjaGVsIENEIGFuZCBMeXJhLCBLYW1pbGEgVCBhbmQgQml0dGVuY291cnQsIElnIEkgYW5kIFJvZHJpZ3VleiwgQ2FybGEgTCBhbmQgSmFxdWVzLCBQYXRy7WNpYSBBIGFuZCBJc290YW5pLCBTZWlqaSIsCiAgICBwbGFjZTE9IlJldmlzdGEgQnJhc2lsZWlyYSBkZSBJbmZvcm3hdGljYSBuYSBFZHVjYXvnfeNvIiwKICAgIGVudHJ5dHlwZT0iYXJ0aWNsZSIsCiAgICB2b2x1bWU9IjIzIiwKICAgIG51bWJlcj0iMyIsCiAgICBJRD0icmVpczIwMTVlc3RhZG8iLAogICAgY2x1c3Rlcl9pZD0iNzUxMjA0MzY2MTk0MDM0OTI4NiIsCiAgICBzY2hvbGFyPSJodHRwOi8vc2Nob2xhci5nb29nbGUuY29tL3NjaG9sYXI/Y2l0ZXM9NzUxMjA0MzY2MTk0MDM0OTI4NiZhc19zZHQ9MjAwNSZzY2lvZHQ9MCw1JmhsPWVuIiwKKSkKCkRCKENpdGF0aW9uKAogICAgcmVpczIwMTVhLCB3b2hsaW4yMDE0YSwgcmVmPSIiLAogICAgY29udGV4dHM9WwoKICAgIF0sCikpCgonJycsIGNpdGF0aW9ucz0nd29obGluMjAxNGEnKTs=\"));\n",
       "    "
      ],
      "text/plain": [
       "<IPython.core.display.Javascript object>"
      ]
     },
     "metadata": {},
     "output_type": "display_data"
    },
    {
     "data": {
      "application/javascript": [
       "$('span:contains(\"# Temp\")').closest('.cell').remove();"
      ],
      "text/plain": [
       "<IPython.core.display.Javascript object>"
      ]
     },
     "metadata": {},
     "output_type": "display_data"
    },
    {
     "data": {
      "application/javascript": [
       "\n",
       "        $('span:contains(\"# Temp\")').closest('.cell').remove();\n",
       "        var code = IPython.notebook.insert_cell_below('code');\n",
       "        code.set_text(atob(\"IyBUZW1wCmluc2VydCgnJycKcmVpczIwMTVhID0gREIoV29yaygKICAgIDIwMTUsICJFc3RhZG8gZGEgQXJ0ZSBzb2JyZSBBZmV0aXZpZGFkZSBuYSBGb3JtYXvnfeNvIGRlIEdydXBvcyBlbSBBbWJpZW50ZXMgQ29sYWJvcmF0aXZvcyBkZSBBcHJlbmRpemFnZW0uIiwKICAgIGRpc3BsYXk9InJlaXMiLAogICAgYXV0aG9ycz0iUmVpcywgUmFjaGVsIENEIGFuZCBMeXJhLCBLYW1pbGEgVCBhbmQgQml0dGVuY291cnQsIElnIEkgYW5kIFJvZHJpZ3VleiwgQ2FybGEgTCBhbmQgSmFxdWVzLCBQYXRy7WNpYSBBIGFuZCBJc290YW5pLCBTZWlqaSIsCiAgICBwbGFjZTE9IlJldmlzdGEgQnJhc2lsZWlyYSBkZSBJbmZvcm3hdGljYSBuYSBFZHVjYXvnfeNvIiwKICAgIGVudHJ5dHlwZT0iYXJ0aWNsZSIsCiAgICB2b2x1bWU9IjIzIiwKICAgIG51bWJlcj0iMyIsCiAgICBJRD0icmVpczIwMTVlc3RhZG8iLAogICAgY2x1c3Rlcl9pZD0iNzUxMjA0MzY2MTk0MDM0OTI4NiIsCiAgICBzY2hvbGFyPSJodHRwOi8vc2Nob2xhci5nb29nbGUuY29tL3NjaG9sYXI/Y2l0ZXM9NzUxMjA0MzY2MTk0MDM0OTI4NiZhc19zZHQ9MjAwNSZzY2lvZHQ9MCw1JmhsPWVuIiwKKSkKCkRCKENpdGF0aW9uKAogICAgcmVpczIwMTVhLCB3b2hsaW4yMDE0YSwgcmVmPSIiLAogICAgY29udGV4dHM9WwoKICAgIF0sCikpCgonJycsIGNpdGF0aW9ucz0nd29obGluMjAxNGEnKTs=\"));\n",
       "    "
      ],
      "text/plain": [
       "<IPython.core.display.Javascript object>"
      ]
     },
     "metadata": {},
     "output_type": "display_data"
    },
    {
     "data": {
      "application/javascript": [
       "$('span:contains(\"# Temp\")').closest('.cell').remove();"
      ],
      "text/plain": [
       "<IPython.core.display.Javascript object>"
      ]
     },
     "metadata": {},
     "output_type": "display_data"
    },
    {
     "data": {
      "application/javascript": [
       "\n",
       "        $('span:contains(\"# Temp\")').closest('.cell').remove();\n",
       "        var code = IPython.notebook.insert_cell_below('code');\n",
       "        code.set_text(atob(\"IyBUZW1wCmluc2VydCgnJycKcmVpczIwMTVhID0gREIoV29yaygKICAgIDIwMTUsICJFc3RhZG8gZGEgQXJ0ZSBzb2JyZSBBZmV0aXZpZGFkZSBuYSBGb3JtYXvnfeNvIGRlIEdydXBvcyBlbSBBbWJpZW50ZXMgQ29sYWJvcmF0aXZvcyBkZSBBcHJlbmRpemFnZW0uIiwKICAgIGRpc3BsYXk9InJlaXMiLAogICAgYXV0aG9ycz0iUmVpcywgUmFjaGVsIENEIGFuZCBMeXJhLCBLYW1pbGEgVCBhbmQgQml0dGVuY291cnQsIElnIEkgYW5kIFJvZHJpZ3VleiwgQ2FybGEgTCBhbmQgSmFxdWVzLCBQYXRy7WNpYSBBIGFuZCBJc290YW5pLCBTZWlqaSIsCiAgICBwbGFjZTE9IlJldmlzdGEgQnJhc2lsZWlyYSBkZSBJbmZvcm3hdGljYSBuYSBFZHVjYXvnfeNvIiwKICAgIGVudHJ5dHlwZT0iYXJ0aWNsZSIsCiAgICB2b2x1bWU9IjIzIiwKICAgIG51bWJlcj0iMyIsCiAgICBJRD0icmVpczIwMTVlc3RhZG8iLAogICAgY2x1c3Rlcl9pZD0iNzUxMjA0MzY2MTk0MDM0OTI4NiIsCiAgICBzY2hvbGFyPSJodHRwOi8vc2Nob2xhci5nb29nbGUuY29tL3NjaG9sYXI/Y2l0ZXM9NzUxMjA0MzY2MTk0MDM0OTI4NiZhc19zZHQ9MjAwNSZzY2lvZHQ9MCw1JmhsPWVuIiwKICAgIGZpbGU9InJlaXMyMDE1YS5wZGYiLAopKQoKREIoQ2l0YXRpb24oCiAgICByZWlzMjAxNWEsIHdvaGxpbjIwMTRhLCByZWY9IiIsCiAgICBjb250ZXh0cz1bCgogICAgXSwKKSkKCicnJywgY2l0YXRpb25zPSd3b2hsaW4yMDE0YScpOw==\"));\n",
       "    "
      ],
      "text/plain": [
       "<IPython.core.display.Javascript object>"
      ]
     },
     "metadata": {},
     "output_type": "display_data"
    },
    {
     "data": {
      "application/javascript": [
       "$('span:contains(\"# Temp\")').closest('.cell').remove();"
      ],
      "text/plain": [
       "<IPython.core.display.Javascript object>"
      ]
     },
     "metadata": {},
     "output_type": "display_data"
    },
    {
     "data": {
      "application/javascript": [
       "\n",
       "        $('span:contains(\"# Temp\")').closest('.cell').remove();\n",
       "        var code = IPython.notebook.insert_cell_below('code');\n",
       "        code.set_text(atob(\"IyBUZW1wCmluc2VydCgnJycKcmVpczIwMTVhID0gREIoV29yaygKICAgIDIwMTUsICJFc3RhZG8gZGEgQXJ0ZSBzb2JyZSBBZmV0aXZpZGFkZSBuYSBGb3JtYXvnfeNvIGRlIEdydXBvcyBlbSBBbWJpZW50ZXMgQ29sYWJvcmF0aXZvcyBkZSBBcHJlbmRpemFnZW0uIiwKICAgIGRpc3BsYXk9InJlaXMiLAogICAgYXV0aG9ycz0iUmVpcywgUmFjaGVsIENEIGFuZCBMeXJhLCBLYW1pbGEgVCBhbmQgQml0dGVuY291cnQsIElnIEkgYW5kIFJvZHJpZ3VleiwgQ2FybGEgTCBhbmQgSmFxdWVzLCBQYXRy7WNpYSBBIGFuZCBJc290YW5pLCBTZWlqaSIsCiAgICBwbGFjZTE9IlJldmlzdGEgQnJhc2lsZWlyYSBkZSBJbmZvcm3hdGljYSBuYSBFZHVjYXvnfeNvIiwKICAgIGVudHJ5dHlwZT0iYXJ0aWNsZSIsCiAgICB2b2x1bWU9IjIzIiwKICAgIG51bWJlcj0iMyIsCiAgICBJRD0icmVpczIwMTVlc3RhZG8iLAogICAgY2x1c3Rlcl9pZD0iNzUxMjA0MzY2MTk0MDM0OTI4NiIsCiAgICBzY2hvbGFyPSJodHRwOi8vc2Nob2xhci5nb29nbGUuY29tL3NjaG9sYXI/Y2l0ZXM9NzUxMjA0MzY2MTk0MDM0OTI4NiZhc19zZHQ9MjAwNSZzY2lvZHQ9MCw1JmhsPWVuIiwKICAgIGZpbGU9InJlaXMyMDE1YS5wZGYiLAogICAgbGluaz0iaHR0cHM6Ly9wZGZzLnNlbWFudGljc2Nob2xhci5vcmcvZGFiMi80Njc5MDJjZWYwYzQwMjg3NjcyYmMyZjI3ZDRhNjdmYTVmNjQucGRmIiwKKSkKCkRCKENpdGF0aW9uKAogICAgcmVpczIwMTVhLCB3b2hsaW4yMDE0YSwgcmVmPSIiLAogICAgY29udGV4dHM9WwoKICAgIF0sCikpCgonJycsIGNpdGF0aW9ucz0nd29obGluMjAxNGEnKTs=\"));\n",
       "    "
      ],
      "text/plain": [
       "<IPython.core.display.Javascript object>"
      ]
     },
     "metadata": {},
     "output_type": "display_data"
    },
    {
     "data": {
      "application/javascript": [
       "$('span:contains(\"# Temp\")').closest('.cell').remove();"
      ],
      "text/plain": [
       "<IPython.core.display.Javascript object>"
      ]
     },
     "metadata": {},
     "output_type": "display_data"
    },
    {
     "data": {
      "application/javascript": [
       "$('span:contains(\"# Temp\")').closest('.cell').remove();"
      ],
      "text/plain": [
       "<IPython.core.display.Javascript object>"
      ]
     },
     "metadata": {},
     "output_type": "display_data"
    },
    {
     "data": {
      "application/javascript": [
       "$('span:contains(\"# Temp\")').closest('.cell').remove();"
      ],
      "text/plain": [
       "<IPython.core.display.Javascript object>"
      ]
     },
     "metadata": {},
     "output_type": "display_data"
    },
    {
     "data": {
      "application/javascript": [
       "$('span:contains(\"# Temp\")').closest('.cell').remove();"
      ],
      "text/plain": [
       "<IPython.core.display.Javascript object>"
      ]
     },
     "metadata": {},
     "output_type": "display_data"
    },
    {
     "data": {
      "application/javascript": [
       "$('span:contains(\"# Temp\")').closest('.cell').remove();"
      ],
      "text/plain": [
       "<IPython.core.display.Javascript object>"
      ]
     },
     "metadata": {},
     "output_type": "display_data"
    },
    {
     "data": {
      "application/javascript": [
       "$('span:contains(\"# Temp\")').closest('.cell').remove();"
      ],
      "text/plain": [
       "<IPython.core.display.Javascript object>"
      ]
     },
     "metadata": {},
     "output_type": "display_data"
    },
    {
     "data": {
      "application/javascript": [
       "$('span:contains(\"# Temp\")').closest('.cell').remove();"
      ],
      "text/plain": [
       "<IPython.core.display.Javascript object>"
      ]
     },
     "metadata": {},
     "output_type": "display_data"
    },
    {
     "data": {
      "application/javascript": [
       "$('span:contains(\"# Temp\")').closest('.cell').remove();"
      ],
      "text/plain": [
       "<IPython.core.display.Javascript object>"
      ]
     },
     "metadata": {},
     "output_type": "display_data"
    },
    {
     "data": {
      "application/javascript": [
       "$('span:contains(\"# Temp\")').closest('.cell').remove();"
      ],
      "text/plain": [
       "<IPython.core.display.Javascript object>"
      ]
     },
     "metadata": {},
     "output_type": "display_data"
    },
    {
     "data": {
      "application/javascript": [
       "$('span:contains(\"# Temp\")').closest('.cell').remove();"
      ],
      "text/plain": [
       "<IPython.core.display.Javascript object>"
      ]
     },
     "metadata": {},
     "output_type": "display_data"
    },
    {
     "data": {
      "application/javascript": [
       "$('span:contains(\"# Temp\")').closest('.cell').remove();"
      ],
      "text/plain": [
       "<IPython.core.display.Javascript object>"
      ]
     },
     "metadata": {},
     "output_type": "display_data"
    },
    {
     "data": {
      "application/javascript": [
       "$('span:contains(\"# Temp\")').closest('.cell').remove();"
      ],
      "text/plain": [
       "<IPython.core.display.Javascript object>"
      ]
     },
     "metadata": {},
     "output_type": "display_data"
    },
    {
     "data": {
      "application/javascript": [
       "$('span:contains(\"# Temp\")').closest('.cell').remove();"
      ],
      "text/plain": [
       "<IPython.core.display.Javascript object>"
      ]
     },
     "metadata": {},
     "output_type": "display_data"
    },
    {
     "data": {
      "application/javascript": [
       "\n",
       "        $('span:contains(\"# Temp\")').closest('.cell').remove();\n",
       "        var code = IPython.notebook.insert_cell_below('code');\n",
       "        code.set_text(atob(\"IyBUZW1wCmluc2VydCgnJycKZmFiYnJpMjAxNmEgPSBEQihXb3JrKAogICAgMjAxNiwgIkltcHJvdmVtZW50cyBpbiB0aGUgc3RhcnQgdG9vbCB0byBiZXR0ZXIgc3VwcG9ydCB0aGUgc3lzdGVtYXRpYyByZXZpZXcgcHJvY2VzcyIsCiAgICBkaXNwbGF5PSJmYWJicmkiLAogICAgYXV0aG9ycz0iRmFiYnJpLCBTYW5kcmEgYW5kIFNpbHZhLCBDbGVpdG9uIGFuZCBIZXJuYW5kZXMsIEVsaXMgYW5kIE9jdGF2aWFubywgRuFiaW8gYW5kIERpIFRob21tYXpvLCBBbmRy6SBhbmQgQmVsZ2FtbywgQW5kZXJzb24iLAogICAgcGxhY2U9RUFTRSwKICAgIHBwPSIyMSIsCiAgICBlbnRyeXR5cGU9ImlucHJvY2VlZGluZ3MiLAogICAgb3JnYW5pemF0aW9uPSJBQ00iLAogICAgSUQ9ImZhYmJyaTIwMTZpbXByb3ZlbWVudHMiLAogICAgY2x1c3Rlcl9pZD0iMTQ0ODgxMTI0MTk0MTQzOTY5MTciLAogICAgc2Nob2xhcj0iaHR0cDovL3NjaG9sYXIuZ29vZ2xlLmNvbS9zY2hvbGFyP2NpdGVzPTE0NDg4MTEyNDE5NDE0Mzk2OTE3JmFzX3NkdD0yMDA1JnNjaW9kdD0wLDUmaGw9ZW4iLAogICAgZmlsZT0iZmFiYnJpMjAxNmEucGRmIiwKICAgIGxpbms9Imh0dHBzOi8vcGRmcy5zZW1hbnRpY3NjaG9sYXIub3JnL2RhYjIvNDY3OTAyY2VmMGM0MDI4NzY3MmJjMmYyN2Q0YTY3ZmE1ZjY0LnBkZiIsCikpCgpEQihDaXRhdGlvbigKICAgIGZhYmJyaTIwMTZhLCB3b2hsaW4yMDE0YSwgcmVmPSIiLAogICAgY29udGV4dHM9WwoKICAgIF0sCikpCgonJycsIGNpdGF0aW9ucz0nd29obGluMjAxNGEnKTs=\"));\n",
       "    "
      ],
      "text/plain": [
       "<IPython.core.display.Javascript object>"
      ]
     },
     "metadata": {},
     "output_type": "display_data"
    },
    {
     "data": {
      "application/javascript": [
       "$('span:contains(\"# Temp\")').closest('.cell').remove();"
      ],
      "text/plain": [
       "<IPython.core.display.Javascript object>"
      ]
     },
     "metadata": {},
     "output_type": "display_data"
    },
    {
     "data": {
      "application/javascript": [
       "\n",
       "        $('span:contains(\"# Temp\")').closest('.cell').remove();\n",
       "        var code = IPython.notebook.insert_cell_below('code');\n",
       "        code.set_text(atob(\"IyBUZW1wCmluc2VydCgnJycKcmVpczIwMTVhID0gREIoV29ya09rKAogICAgMjAxNSwgIkVzdGFkbyBkYSBBcnRlIHNvYnJlIEFmZXRpdmlkYWRlIG5hIEZvcm1he+d9428gZGUgR3J1cG9zIGVtIEFtYmllbnRlcyBDb2xhYm9yYXRpdm9zIGRlIEFwcmVuZGl6YWdlbS4iLAogICAgZGlzcGxheT0icmVpcyIsCiAgICBhdXRob3JzPSJSZWlzLCBSYWNoZWwgQ0QgYW5kIEx5cmEsIEthbWlsYSBUIGFuZCBCaXR0ZW5jb3VydCwgSWcgSSBhbmQgUm9kcmlndWV6LCBDYXJsYSBMIGFuZCBKYXF1ZXMsIFBhdHLtY2lhIEEgYW5kIElzb3RhbmksIFNlaWppIiwKICAgIHBsYWNlMT0iUmV2aXN0YSBCcmFzaWxlaXJhIGRlIEluZm9ybeF0aWNhIG5hIEVkdWNhe+d9428iLAogICAgZW50cnl0eXBlPSJhcnRpY2xlIiwKICAgIHZvbHVtZT0iMjMiLAogICAgbnVtYmVyPSIzIiwKICAgIElEPSJyZWlzMjAxNWVzdGFkbyIsCiAgICBjbHVzdGVyX2lkPSI3NTEyMDQzNjYxOTQwMzQ5Mjg2IiwKICAgIHNjaG9sYXI9Imh0dHA6Ly9zY2hvbGFyLmdvb2dsZS5jb20vc2Nob2xhcj9jaXRlcz03NTEyMDQzNjYxOTQwMzQ5Mjg2JmFzX3NkdD0yMDA1JnNjaW9kdD0wLDUmaGw9ZW4iLAogICAgZmlsZT0icmVpczIwMTVhLnBkZiIsCiAgICBsaW5rPSJodHRwczovL3BkZnMuc2VtYW50aWNzY2hvbGFyLm9yZy9kYWIyLzQ2NzkwMmNlZjBjNDAyODc2NzJiYzJmMjdkNGE2N2ZhNWY2NC5wZGYiLAopKQoKREIoQ2l0YXRpb24oCiAgICByZWlzMjAxNWEsIHdvaGxpbjIwMTRhLCByZWY9IiIsCiAgICBjb250ZXh0cz1bCgogICAgXSwKKSkKCicnJywgY2l0YXRpb25zPSd3b2hsaW4yMDE0YScpOw==\"));\n",
       "    "
      ],
      "text/plain": [
       "<IPython.core.display.Javascript object>"
      ]
     },
     "metadata": {},
     "output_type": "display_data"
    },
    {
     "data": {
      "application/javascript": [
       "$('span:contains(\"# Temp\")').closest('.cell').remove();"
      ],
      "text/plain": [
       "<IPython.core.display.Javascript object>"
      ]
     },
     "metadata": {},
     "output_type": "display_data"
    },
    {
     "data": {
      "application/javascript": [
       "\n",
       "        $('span:contains(\"# Temp\")').closest('.cell').remove();\n",
       "        var code = IPython.notebook.insert_cell_below('code');\n",
       "        code.set_text(atob(\"IyBUZW1wCmluc2VydCgnJycKcmVpczIwMTVhID0gREIoV29yaygKICAgIDIwMTUsICJFc3RhZG8gZGEgQXJ0ZSBzb2JyZSBBZmV0aXZpZGFkZSBuYSBGb3JtYXvnfeNvIGRlIEdydXBvcyBlbSBBbWJpZW50ZXMgQ29sYWJvcmF0aXZvcyBkZSBBcHJlbmRpemFnZW0uIiwKICAgIGRpc3BsYXk9InJlaXMiLAogICAgYXV0aG9ycz0iUmVpcywgUmFjaGVsIENEIGFuZCBMeXJhLCBLYW1pbGEgVCBhbmQgQml0dGVuY291cnQsIElnIEkgYW5kIFJvZHJpZ3VleiwgQ2FybGEgTCBhbmQgSmFxdWVzLCBQYXRy7WNpYSBBIGFuZCBJc290YW5pLCBTZWlqaSIsCiAgICBwbGFjZTE9IlJldmlzdGEgQnJhc2lsZWlyYSBkZSBJbmZvcm3hdGljYSBuYSBFZHVjYXvnfeNvIiwKICAgIGVudHJ5dHlwZT0iYXJ0aWNsZSIsCiAgICB2b2x1bWU9IjIzIiwKICAgIG51bWJlcj0iMyIsCiAgICBJRD0icmVpczIwMTVlc3RhZG8iLAogICAgY2x1c3Rlcl9pZD0iNzUxMjA0MzY2MTk0MDM0OTI4NiIsCiAgICBzY2hvbGFyPSJodHRwOi8vc2Nob2xhci5nb29nbGUuY29tL3NjaG9sYXI/Y2l0ZXM9NzUxMjA0MzY2MTk0MDM0OTI4NiZhc19zZHQ9MjAwNSZzY2lvZHQ9MCw1JmhsPWVuIiwKKSkKCkRCKENpdGF0aW9uKAogICAgcmVpczIwMTVhLCB3b2hsaW4yMDE0YSwgcmVmPSIiLAogICAgY29udGV4dHM9WwoKICAgIF0sCikpCgonJycsIGNpdGF0aW9ucz0nd29obGluMjAxNGEnKTs=\"));\n",
       "    "
      ],
      "text/plain": [
       "<IPython.core.display.Javascript object>"
      ]
     },
     "metadata": {},
     "output_type": "display_data"
    },
    {
     "data": {
      "application/javascript": [
       "$('span:contains(\"# Temp\")').closest('.cell').remove();"
      ],
      "text/plain": [
       "<IPython.core.display.Javascript object>"
      ]
     },
     "metadata": {},
     "output_type": "display_data"
    },
    {
     "data": {
      "application/javascript": [
       "\n",
       "        $('span:contains(\"# Temp\")').closest('.cell').remove();\n",
       "        var code = IPython.notebook.insert_cell_below('code');\n",
       "        code.set_text(atob(\"IyBUZW1wCmluc2VydCgnJycKd29obGluMjAxNmEgPSBEQihXb3JrKAogICAgMjAxNiwgIlNlY29uZC1nZW5lcmF0aW9uIHN5c3RlbWF0aWMgbGl0ZXJhdHVyZSBzdHVkaWVzIHVzaW5nIHNub3diYWxsaW5nIiwKICAgIGRpc3BsYXk9IndvaGxpbiIsCiAgICBhdXRob3JzPSJXb2hsaW4sIENsYWVzIiwKICAgIHBsYWNlPUVBU0UsCiAgICBwcD0iMTUiLAogICAgZW50cnl0eXBlPSJpbnByb2NlZWRpbmdzIiwKICAgIG9yZ2FuaXphdGlvbj0iQUNNIiwKICAgIElEPSJ3b2hsaW4yMDE2c2Vjb25kIiwKICAgIGNsdXN0ZXJfaWQ9IjE0MTc1OTY2NDg5MDAzMTk3NjQxIiwKICAgIHNjaG9sYXI9Imh0dHA6Ly9zY2hvbGFyLmdvb2dsZS5jb20vc2Nob2xhcj9jaXRlcz0xNDE3NTk2NjQ4OTAwMzE5NzY0MSZhc19zZHQ9MjAwNSZzY2lvZHQ9MCw1JmhsPWVuIiwKKSkKCkRCKENpdGF0aW9uKAogICAgd29obGluMjAxNmEsIHdvaGxpbjIwMTRhLCByZWY9IiIsCiAgICBjb250ZXh0cz1bCgogICAgXSwKKSkKCicnJywgY2l0YXRpb25zPSd3b2hsaW4yMDE0YScpOw==\"));\n",
       "    "
      ],
      "text/plain": [
       "<IPython.core.display.Javascript object>"
      ]
     },
     "metadata": {},
     "output_type": "display_data"
    },
    {
     "data": {
      "application/javascript": [
       "$('span:contains(\"# Temp\")').closest('.cell').remove();"
      ],
      "text/plain": [
       "<IPython.core.display.Javascript object>"
      ]
     },
     "metadata": {},
     "output_type": "display_data"
    },
    {
     "data": {
      "application/javascript": [
       "\n",
       "        $('span:contains(\"# Temp\")').closest('.cell').remove();\n",
       "        var code = IPython.notebook.insert_cell_below('code');\n",
       "        code.set_text(atob(\"IyBUZW1wCmluc2VydCgnJycKd29obGluMjAxNmEgPSBEQihXb3JrKAogICAgMjAxNiwgIlNlY29uZC1nZW5lcmF0aW9uIHN5c3RlbWF0aWMgbGl0ZXJhdHVyZSBzdHVkaWVzIHVzaW5nIHNub3diYWxsaW5nIiwKICAgIGRpc3BsYXk9IndvaGxpbiIsCiAgICBhdXRob3JzPSJXb2hsaW4sIENsYWVzIiwKICAgIHBsYWNlPUVBU0UsCiAgICBwcD0iMTUiLAogICAgZW50cnl0eXBlPSJpbnByb2NlZWRpbmdzIiwKICAgIG9yZ2FuaXphdGlvbj0iQUNNIiwKICAgIElEPSJ3b2hsaW4yMDE2c2Vjb25kIiwKICAgIGNsdXN0ZXJfaWQ9IjE0MTc1OTY2NDg5MDAzMTk3NjQxIiwKICAgIHNjaG9sYXI9Imh0dHA6Ly9zY2hvbGFyLmdvb2dsZS5jb20vc2Nob2xhcj9jaXRlcz0xNDE3NTk2NjQ4OTAwMzE5NzY0MSZhc19zZHQ9MjAwNSZzY2lvZHQ9MCw1JmhsPWVuIiwKKSkKCkRCKENpdGF0aW9uKAogICAgd29obGluMjAxNmEsIHdvaGxpbjIwMTRhLCByZWY9IiIsCiAgICBjb250ZXh0cz1bCgogICAgXSwKKSkKCicnJywgY2l0YXRpb25zPSd3b2hsaW4yMDE0YScpOw==\"));\n",
       "    "
      ],
      "text/plain": [
       "<IPython.core.display.Javascript object>"
      ]
     },
     "metadata": {},
     "output_type": "display_data"
    },
    {
     "data": {
      "application/javascript": [
       "$('span:contains(\"# Temp\")').closest('.cell').remove();"
      ],
      "text/plain": [
       "<IPython.core.display.Javascript object>"
      ]
     },
     "metadata": {},
     "output_type": "display_data"
    },
    {
     "data": {
      "application/javascript": [
       "\n",
       "        $('span:contains(\"# Temp\")').closest('.cell').remove();\n",
       "        var code = IPython.notebook.insert_cell_below('code');\n",
       "        code.set_text(atob(\"IyBUZW1wCmluc2VydCgnJycKYWhtYWQyMDE3YSA9IERCKFdvcmsoCiAgICAyMDE3LCAiQW4gZW1waXJpY2FsIHN0dWR5IG9mIHBvcnRmb2xpbyBtYW5hZ2VtZW50IGFuZCBLYW5iYW4gaW4gYWdpbGUgYW5kIGxlYW4gc29mdHdhcmUgY29tcGFuaWVzIiwKICAgIGRpc3BsYXk9ImFobWFkIiwKICAgIGF1dGhvcnM9IkFobWFkLCBNdWhhbW1hZCBPdmFpcyBhbmQgTHdha2F0YXJlLCBMdWN5IEVsbGVuIGFuZCBLdXZhamEsIFBhc2kgYW5kIE9pdm8sIE1hcmtrdSBhbmQgTWFya2t1bGEsIEpvdW5pIiwKICAgIHBsYWNlPUpTRVAsCiAgICBlbnRyeXR5cGU9ImFydGljbGUiLAogICAgdm9sdW1lPSIyOSIsCiAgICBudW1iZXI9IjYiLAogICAgcHVibGlzaGVyPSJXaWxleSBPbmxpbmUgTGlicmFyeSIsCiAgICBJRD0iYWhtYWQyMDE3ZW1waXJpY2FsIiwKICAgIGNsdXN0ZXJfaWQ9IjU1OTUxODAwMzE0MDgyNTI4MTQiLAogICAgc2Nob2xhcj0iaHR0cDovL3NjaG9sYXIuZ29vZ2xlLmNvbS9zY2hvbGFyP2NpdGVzPTU1OTUxODAwMzE0MDgyNTI4MTQmYXNfc2R0PTIwMDUmc2Npb2R0PTAsNSZobD1lbiIsCikpCgpEQihDaXRhdGlvbigKICAgIGFobWFkMjAxN2EsIHdvaGxpbjIwMTRhLCByZWY9IiIsCiAgICBjb250ZXh0cz1bCgogICAgXSwKKSkKCicnJywgY2l0YXRpb25zPSd3b2hsaW4yMDE0YScpOw==\"));\n",
       "    "
      ],
      "text/plain": [
       "<IPython.core.display.Javascript object>"
      ]
     },
     "metadata": {},
     "output_type": "display_data"
    },
    {
     "data": {
      "application/javascript": [
       "$('span:contains(\"# Temp\")').closest('.cell').remove();"
      ],
      "text/plain": [
       "<IPython.core.display.Javascript object>"
      ]
     },
     "metadata": {},
     "output_type": "display_data"
    },
    {
     "data": {
      "application/javascript": [
       "\n",
       "        $('span:contains(\"# Temp\")').closest('.cell').remove();\n",
       "        var code = IPython.notebook.insert_cell_below('code');\n",
       "        code.set_text(atob(\"IyBUZW1wCmluc2VydCgnJycKYWhtYWQyMDE3YSA9IERCKFdvcmsoCiAgICAyMDE3LCAiQW4gZW1waXJpY2FsIHN0dWR5IG9mIHBvcnRmb2xpbyBtYW5hZ2VtZW50IGFuZCBLYW5iYW4gaW4gYWdpbGUgYW5kIGxlYW4gc29mdHdhcmUgY29tcGFuaWVzIiwKICAgIGRpc3BsYXk9ImFobWFkIiwKICAgIGF1dGhvcnM9IkFobWFkLCBNdWhhbW1hZCBPdmFpcyBhbmQgTHdha2F0YXJlLCBMdWN5IEVsbGVuIGFuZCBLdXZhamEsIFBhc2kgYW5kIE9pdm8sIE1hcmtrdSBhbmQgTWFya2t1bGEsIEpvdW5pIiwKICAgIHBsYWNlPUpTRVAsCiAgICBlbnRyeXR5cGU9ImFydGljbGUiLAogICAgdm9sdW1lPSIyOSIsCiAgICBudW1iZXI9IjYiLAogICAgcHVibGlzaGVyPSJXaWxleSBPbmxpbmUgTGlicmFyeSIsCiAgICBJRD0iYWhtYWQyMDE3ZW1waXJpY2FsIiwKICAgIGNsdXN0ZXJfaWQ9IjU1OTUxODAwMzE0MDgyNTI4MTQiLAogICAgc2Nob2xhcj0iaHR0cDovL3NjaG9sYXIuZ29vZ2xlLmNvbS9zY2hvbGFyP2NpdGVzPTU1OTUxODAwMzE0MDgyNTI4MTQmYXNfc2R0PTIwMDUmc2Npb2R0PTAsNSZobD1lbiIsCikpCgpEQihDaXRhdGlvbigKICAgIGFobWFkMjAxN2EsIHdvaGxpbjIwMTRhLCByZWY9IiIsCiAgICBjb250ZXh0cz1bCgogICAgXSwKKSkKCicnJywgY2l0YXRpb25zPSd3b2hsaW4yMDE0YScpOw==\"));\n",
       "    "
      ],
      "text/plain": [
       "<IPython.core.display.Javascript object>"
      ]
     },
     "metadata": {},
     "output_type": "display_data"
    },
    {
     "data": {
      "application/javascript": [
       "$('span:contains(\"# Temp\")').closest('.cell').remove();"
      ],
      "text/plain": [
       "<IPython.core.display.Javascript object>"
      ]
     },
     "metadata": {},
     "output_type": "display_data"
    },
    {
     "data": {
      "application/javascript": [
       "\n",
       "        $('span:contains(\"# Temp\")').closest('.cell').remove();\n",
       "        var code = IPython.notebook.insert_cell_below('code');\n",
       "        code.set_text(atob(\"IyBUZW1wCmluc2VydCgnJycKZ3VpbmVhMjAxNmEgPSBEQihXb3JrKAogICAgMjAxNiwgIkEgc3lzdGVtYXRpYyByZXZpZXcgb24gdGhlIGVuZ2luZWVyaW5nIG9mIHNvZnR3YXJlIGZvciB1YmlxdWl0b3VzIHN5c3RlbXMiLAogICAgZGlzcGxheT0iZ3VpbmVhIiwKICAgIGF1dGhvcnM9Ikd1aW5lYSwgQWxlamFuZHJvIFPhbmNoZXogYW5kIE5haW4sIEdy6WdvcnkgYW5kIExlIFRyYW9uLCBZdmVzIiwKICAgIHBsYWNlPUpTUywKICAgIHBwPSIyNTEtLTI3NiIsCiAgICBlbnRyeXR5cGU9ImFydGljbGUiLAogICAgdm9sdW1lPSIxMTgiLAogICAgcHVibGlzaGVyPSJFbHNldmllciIsCiAgICBJRD0iZ3VpbmVhMjAxNnN5c3RlbWF0aWMiLAogICAgY2x1c3Rlcl9pZD0iMTgzNjg5Njc3Mzk2NDAxMzA2NDYiLAogICAgc2Nob2xhcj0iaHR0cDovL3NjaG9sYXIuZ29vZ2xlLmNvbS9zY2hvbGFyP2NpdGVzPTE4MzY4OTY3NzM5NjQwMTMwNjQ2JmFzX3NkdD0yMDA1JnNjaW9kdD0wLDUmaGw9ZW4iLAopKQoKREIoQ2l0YXRpb24oCiAgICBndWluZWEyMDE2YSwgd29obGluMjAxNGEsIHJlZj0iIiwKICAgIGNvbnRleHRzPVsKCiAgICBdLAopKQoKJycnLCBjaXRhdGlvbnM9J3dvaGxpbjIwMTRhJyk7\"));\n",
       "    "
      ],
      "text/plain": [
       "<IPython.core.display.Javascript object>"
      ]
     },
     "metadata": {},
     "output_type": "display_data"
    },
    {
     "data": {
      "application/javascript": [
       "$('span:contains(\"# Temp\")').closest('.cell').remove();"
      ],
      "text/plain": [
       "<IPython.core.display.Javascript object>"
      ]
     },
     "metadata": {},
     "output_type": "display_data"
    },
    {
     "data": {
      "application/javascript": [
       "\n",
       "        $('span:contains(\"# Temp\")').closest('.cell').remove();\n",
       "        var code = IPython.notebook.insert_cell_below('code');\n",
       "        code.set_text(atob(\"IyBUZW1wCmluc2VydCgnJycKZ3VpbmVhMjAxNmEgPSBEQihXb3JrKAogICAgMjAxNiwgIkEgc3lzdGVtYXRpYyByZXZpZXcgb24gdGhlIGVuZ2luZWVyaW5nIG9mIHNvZnR3YXJlIGZvciB1YmlxdWl0b3VzIHN5c3RlbXMiLAogICAgZGlzcGxheT0iZ3VpbmVhIiwKICAgIGF1dGhvcnM9Ikd1aW5lYSwgQWxlamFuZHJvIFPhbmNoZXogYW5kIE5haW4sIEdy6WdvcnkgYW5kIExlIFRyYW9uLCBZdmVzIiwKICAgIHBsYWNlPUpTUywKICAgIHBwPSIyNTEtLTI3NiIsCiAgICBlbnRyeXR5cGU9ImFydGljbGUiLAogICAgdm9sdW1lPSIxMTgiLAogICAgcHVibGlzaGVyPSJFbHNldmllciIsCiAgICBJRD0iZ3VpbmVhMjAxNnN5c3RlbWF0aWMiLAogICAgY2x1c3Rlcl9pZD0iMTgzNjg5Njc3Mzk2NDAxMzA2NDYiLAogICAgc2Nob2xhcj0iaHR0cDovL3NjaG9sYXIuZ29vZ2xlLmNvbS9zY2hvbGFyP2NpdGVzPTE4MzY4OTY3NzM5NjQwMTMwNjQ2JmFzX3NkdD0yMDA1JnNjaW9kdD0wLDUmaGw9ZW4iLAopKQoKREIoQ2l0YXRpb24oCiAgICBndWluZWEyMDE2YSwgd29obGluMjAxNGEsIHJlZj0iIiwKICAgIGNvbnRleHRzPVsKCiAgICBdLAopKQoKJycnLCBjaXRhdGlvbnM9J3dvaGxpbjIwMTRhJyk7\"));\n",
       "    "
      ],
      "text/plain": [
       "<IPython.core.display.Javascript object>"
      ]
     },
     "metadata": {},
     "output_type": "display_data"
    },
    {
     "data": {
      "application/javascript": [
       "$('span:contains(\"# Temp\")').closest('.cell').remove();"
      ],
      "text/plain": [
       "<IPython.core.display.Javascript object>"
      ]
     },
     "metadata": {},
     "output_type": "display_data"
    },
    {
     "data": {
      "application/javascript": [
       "\n",
       "        $('span:contains(\"# Temp\")').closest('.cell').remove();\n",
       "        var code = IPython.notebook.insert_cell_below('code');\n",
       "        code.set_text(atob(\"IyBUZW1wCmluc2VydCgnJycKYXJ2aWRzc29uMjAxNmEgPSBEQihXb3JrKAogICAgMjAxNiwgIlJldmlldyBvZiBTY3JlZW5pbmcgUmlzayBBc3Nlc3NtZW50IE1ldGhvZHMgZm9yIE5hbm9tYXRlcmlhbHMiLAogICAgZGlzcGxheT0iYXJ2aWRzc29uIiwKICAgIGF1dGhvcnM9IkFydmlkc3NvbiwgUmlja2FyZCBhbmQgRnVyYmVyZywgQW5uYSBhbmQgTW9sYW5kZXIsIFN2ZXJrZXIiLAogICAgcGxhY2U9VGVjaFJlcG9ydCwKICAgIGVudHJ5dHlwZT0idGVjaHJlcG9ydCIsCiAgICBpbnN0aXR1dGlvbj0iQ2hhbG1lcnMgVW5pdmVyc2l0eSBvZiBUZWNobm9sb2d5IiwKICAgIElEPSJhcnZpZHNzb24yMDE2cmV2aWV3IiwKICAgIGNsdXN0ZXJfaWQ9IjE4ODE0MDUxMzcyNTk0Nzg4NTUiLAogICAgc2Nob2xhcj0iaHR0cDovL3NjaG9sYXIuZ29vZ2xlLmNvbS9zY2hvbGFyP2NpdGVzPTE4ODE0MDUxMzcyNTk0Nzg4NTUmYXNfc2R0PTIwMDUmc2Npb2R0PTAsNSZobD1lbiIsCikpCgpEQihDaXRhdGlvbigKICAgIGFydmlkc3NvbjIwMTZhLCB3b2hsaW4yMDE0YSwgcmVmPSIiLAogICAgY29udGV4dHM9WwoKICAgIF0sCikpCgonJycsIGNpdGF0aW9ucz0nd29obGluMjAxNGEnKTs=\"));\n",
       "    "
      ],
      "text/plain": [
       "<IPython.core.display.Javascript object>"
      ]
     },
     "metadata": {},
     "output_type": "display_data"
    },
    {
     "data": {
      "application/javascript": [
       "$('span:contains(\"# Temp\")').closest('.cell').remove();"
      ],
      "text/plain": [
       "<IPython.core.display.Javascript object>"
      ]
     },
     "metadata": {},
     "output_type": "display_data"
    },
    {
     "data": {
      "application/javascript": [
       "\n",
       "        $('span:contains(\"# Temp\")').closest('.cell').remove();\n",
       "        var code = IPython.notebook.insert_cell_below('code');\n",
       "        code.set_text(atob(\"IyBUZW1wCmluc2VydCgnJycKYXJ2aWRzc29uMjAxNmEgPSBEQihXb3JrKAogICAgMjAxNiwgIlJldmlldyBvZiBTY3JlZW5pbmcgUmlzayBBc3Nlc3NtZW50IE1ldGhvZHMgZm9yIE5hbm9tYXRlcmlhbHMiLAogICAgZGlzcGxheT0iYXJ2aWRzc29uIiwKICAgIGF1dGhvcnM9IkFydmlkc3NvbiwgUmlja2FyZCBhbmQgRnVyYmVyZywgQW5uYSBhbmQgTW9sYW5kZXIsIFN2ZXJrZXIiLAogICAgcGxhY2U9VGVjaFJlcG9ydCwKICAgIGVudHJ5dHlwZT0idGVjaHJlcG9ydCIsCiAgICBpbnN0aXR1dGlvbj0iQ2hhbG1lcnMgVW5pdmVyc2l0eSBvZiBUZWNobm9sb2d5IiwKICAgIElEPSJhcnZpZHNzb24yMDE2cmV2aWV3IiwKICAgIGNsdXN0ZXJfaWQ9IjE4ODE0MDUxMzcyNTk0Nzg4NTUiLAogICAgc2Nob2xhcj0iaHR0cDovL3NjaG9sYXIuZ29vZ2xlLmNvbS9zY2hvbGFyP2NpdGVzPTE4ODE0MDUxMzcyNTk0Nzg4NTUmYXNfc2R0PTIwMDUmc2Npb2R0PTAsNSZobD1lbiIsCikpCgpEQihDaXRhdGlvbigKICAgIGFydmlkc3NvbjIwMTZhLCB3b2hsaW4yMDE0YSwgcmVmPSIiLAogICAgY29udGV4dHM9WwoKICAgIF0sCikpCgonJycsIGNpdGF0aW9ucz0nd29obGluMjAxNGEnKTs=\"));\n",
       "    "
      ],
      "text/plain": [
       "<IPython.core.display.Javascript object>"
      ]
     },
     "metadata": {},
     "output_type": "display_data"
    },
    {
     "data": {
      "application/javascript": [
       "$('span:contains(\"# Temp\")').closest('.cell').remove();"
      ],
      "text/plain": [
       "<IPython.core.display.Javascript object>"
      ]
     },
     "metadata": {},
     "output_type": "display_data"
    },
    {
     "data": {
      "application/javascript": [
       "\n",
       "        $('span:contains(\"# Temp\")').closest('.cell').remove();\n",
       "        var code = IPython.notebook.insert_cell_below('code');\n",
       "        code.set_text(atob(\"IyBUZW1wCmluc2VydCgnJycKbGFuYTIwMTZhID0gREIoV29yaygKICAgIDIwMTYsICJTeXN0ZW1zLW9mLXN5c3RlbXMgZGV2ZWxvcG1lbnQ6IEluaXRpYXRpdmVzLCB0cmVuZHMsIGFuZCBjaGFsbGVuZ2VzIiwKICAgIGRpc3BsYXk9ImxhbmEiLAogICAgYXV0aG9ycz0iTGFuYSwgQ3Jpc3RpYW5lIEEgYW5kIFNvdXphLCBOaWx0b24gTSBhbmQgRGVsYW1hcm8sIE3hcmNpbyBFIGFuZCBOYWthZ2F3YSwgRWxpc2EgWSBhbmQgT3F1ZW5kbywgRmzhdmlvIGFuZCBNYWxkb25hZG8sIEpvc+kgQyIsCiAgICBwcD0iMS0tMTIiLAogICAgcGxhY2UxPSJDb21wdXRpbmcgQ29uZmVyZW5jZSAoQ0xFSSksIDIwMTYgWExJSSBMYXRpbiBBbWVyaWNhbiIsCiAgICBlbnRyeXR5cGU9ImlucHJvY2VlZGluZ3MiLAogICAgb3JnYW5pemF0aW9uPSJJRUVFIiwKICAgIElEPSJsYW5hMjAxNnN5c3RlbXMiLAogICAgY2x1c3Rlcl9pZD0iNzE3ODYwMzU2MjkyNTA1MDMyMiIsCiAgICBzY2hvbGFyPSJodHRwOi8vc2Nob2xhci5nb29nbGUuY29tL3NjaG9sYXI/Y2l0ZXM9NzE3ODYwMzU2MjkyNTA1MDMyMiZhc19zZHQ9MjAwNSZzY2lvZHQ9MCw1JmhsPWVuIiwKKSkKCkRCKENpdGF0aW9uKAogICAgbGFuYTIwMTZhLCB3b2hsaW4yMDE0YSwgcmVmPSIiLAogICAgY29udGV4dHM9WwoKICAgIF0sCikpCgonJycsIGNpdGF0aW9ucz0nd29obGluMjAxNGEnKTs=\"));\n",
       "    "
      ],
      "text/plain": [
       "<IPython.core.display.Javascript object>"
      ]
     },
     "metadata": {},
     "output_type": "display_data"
    },
    {
     "data": {
      "application/javascript": [
       "$('span:contains(\"# Temp\")').closest('.cell').remove();"
      ],
      "text/plain": [
       "<IPython.core.display.Javascript object>"
      ]
     },
     "metadata": {},
     "output_type": "display_data"
    },
    {
     "data": {
      "application/javascript": [
       "\n",
       "        $('span:contains(\"# Temp\")').closest('.cell').remove();\n",
       "        var code = IPython.notebook.insert_cell_below('code');\n",
       "        code.set_text(atob(\"IyBUZW1wCmluc2VydCgnJycKbGFuYTIwMTZhID0gREIoV29yaygKICAgIDIwMTYsICJTeXN0ZW1zLW9mLXN5c3RlbXMgZGV2ZWxvcG1lbnQ6IEluaXRpYXRpdmVzLCB0cmVuZHMsIGFuZCBjaGFsbGVuZ2VzIiwKICAgIGRpc3BsYXk9ImxhbmEiLAogICAgYXV0aG9ycz0iTGFuYSwgQ3Jpc3RpYW5lIEEgYW5kIFNvdXphLCBOaWx0b24gTSBhbmQgRGVsYW1hcm8sIE3hcmNpbyBFIGFuZCBOYWthZ2F3YSwgRWxpc2EgWSBhbmQgT3F1ZW5kbywgRmzhdmlvIGFuZCBNYWxkb25hZG8sIEpvc+kgQyIsCiAgICBwcD0iMS0tMTIiLAogICAgcGxhY2UxPSJDb21wdXRpbmcgQ29uZmVyZW5jZSAoQ0xFSSksIDIwMTYgWExJSSBMYXRpbiBBbWVyaWNhbiIsCiAgICBlbnRyeXR5cGU9ImlucHJvY2VlZGluZ3MiLAogICAgb3JnYW5pemF0aW9uPSJJRUVFIiwKICAgIElEPSJsYW5hMjAxNnN5c3RlbXMiLAogICAgY2x1c3Rlcl9pZD0iNzE3ODYwMzU2MjkyNTA1MDMyMiIsCiAgICBzY2hvbGFyPSJodHRwOi8vc2Nob2xhci5nb29nbGUuY29tL3NjaG9sYXI/Y2l0ZXM9NzE3ODYwMzU2MjkyNTA1MDMyMiZhc19zZHQ9MjAwNSZzY2lvZHQ9MCw1JmhsPWVuIiwKKSkKCkRCKENpdGF0aW9uKAogICAgbGFuYTIwMTZhLCB3b2hsaW4yMDE0YSwgcmVmPSIiLAogICAgY29udGV4dHM9WwoKICAgIF0sCikpCgonJycsIGNpdGF0aW9ucz0nd29obGluMjAxNGEnKTs=\"));\n",
       "    "
      ],
      "text/plain": [
       "<IPython.core.display.Javascript object>"
      ]
     },
     "metadata": {},
     "output_type": "display_data"
    },
    {
     "data": {
      "application/javascript": [
       "$('span:contains(\"# Temp\")').closest('.cell').remove();"
      ],
      "text/plain": [
       "<IPython.core.display.Javascript object>"
      ]
     },
     "metadata": {},
     "output_type": "display_data"
    },
    {
     "data": {
      "application/javascript": [
       "\n",
       "        $('span:contains(\"# Temp\")').closest('.cell').remove();\n",
       "        var code = IPython.notebook.insert_cell_below('code');\n",
       "        code.set_text(atob(\"IyBUZW1wCmluc2VydCgnJycKbG9wZXoyMDE2YSA9IERCKFdvcmsoCiAgICAyMDE2LCAiVmlzdWFsaXphdGlvbiBmb3Igc29mdHdhcmUgcHJvZHVjdCBsaW5lczogQSBzeXN0ZW1hdGljIG1hcHBpbmcgc3R1ZHkiLAogICAgZGlzcGxheT0ibG9wZXoiLAogICAgYXV0aG9ycz0iTG9wZXotSGVycmVqb24sIFJvYmVydG8gRSBhbmQgSWxsZXNjYXMsIFNoZW55IGFuZCBFZ3llZCwgQWxleGFuZGVyIiwKICAgIHBwPSIyNi0tMzUiLAogICAgcGxhY2UxPSJTb2Z0d2FyZSBWaXN1YWxpemF0aW9uIChWSVNTT0ZUKSwgMjAxNiBJRUVFIFdvcmtpbmcgQ29uZmVyZW5jZSBvbiIsCiAgICBlbnRyeXR5cGU9ImlucHJvY2VlZGluZ3MiLAogICAgb3JnYW5pemF0aW9uPSJJRUVFIiwKICAgIElEPSJsb3BlejIwMTZ2aXN1YWxpemF0aW9uIiwKICAgIGNsdXN0ZXJfaWQ9IjE0MzczMzA3OTAxMzU1MDQ5MjQ4IiwKICAgIHNjaG9sYXI9Imh0dHA6Ly9zY2hvbGFyLmdvb2dsZS5jb20vc2Nob2xhcj9jaXRlcz0xNDM3MzMwNzkwMTM1NTA0OTI0OCZhc19zZHQ9MjAwNSZzY2lvZHQ9MCw1JmhsPWVuIiwKKSkKCkRCKENpdGF0aW9uKAogICAgbG9wZXoyMDE2YSwgd29obGluMjAxNGEsIHJlZj0iIiwKICAgIGNvbnRleHRzPVsKCiAgICBdLAopKQoKJycnLCBjaXRhdGlvbnM9J3dvaGxpbjIwMTRhJyk7\"));\n",
       "    "
      ],
      "text/plain": [
       "<IPython.core.display.Javascript object>"
      ]
     },
     "metadata": {},
     "output_type": "display_data"
    },
    {
     "data": {
      "application/javascript": [
       "$('span:contains(\"# Temp\")').closest('.cell').remove();"
      ],
      "text/plain": [
       "<IPython.core.display.Javascript object>"
      ]
     },
     "metadata": {},
     "output_type": "display_data"
    },
    {
     "data": {
      "application/javascript": [
       "\n",
       "        $('span:contains(\"# Temp\")').closest('.cell').remove();\n",
       "        var code = IPython.notebook.insert_cell_below('code');\n",
       "        code.set_text(atob(\"IyBUZW1wCmluc2VydCgnJycKbG9wZXoyMDE2YSA9IERCKFdvcmsoCiAgICAyMDE2LCAiVmlzdWFsaXphdGlvbiBmb3Igc29mdHdhcmUgcHJvZHVjdCBsaW5lczogQSBzeXN0ZW1hdGljIG1hcHBpbmcgc3R1ZHkiLAogICAgZGlzcGxheT0ibG9wZXoiLAogICAgYXV0aG9ycz0iTG9wZXotSGVycmVqb24sIFJvYmVydG8gRSBhbmQgSWxsZXNjYXMsIFNoZW55IGFuZCBFZ3llZCwgQWxleGFuZGVyIiwKICAgIHBwPSIyNi0tMzUiLAogICAgcGxhY2UxPSJTb2Z0d2FyZSBWaXN1YWxpemF0aW9uIChWSVNTT0ZUKSwgMjAxNiBJRUVFIFdvcmtpbmcgQ29uZmVyZW5jZSBvbiIsCiAgICBlbnRyeXR5cGU9ImlucHJvY2VlZGluZ3MiLAogICAgb3JnYW5pemF0aW9uPSJJRUVFIiwKICAgIElEPSJsb3BlejIwMTZ2aXN1YWxpemF0aW9uIiwKICAgIGNsdXN0ZXJfaWQ9IjE0MzczMzA3OTAxMzU1MDQ5MjQ4IiwKICAgIHNjaG9sYXI9Imh0dHA6Ly9zY2hvbGFyLmdvb2dsZS5jb20vc2Nob2xhcj9jaXRlcz0xNDM3MzMwNzkwMTM1NTA0OTI0OCZhc19zZHQ9MjAwNSZzY2lvZHQ9MCw1JmhsPWVuIiwKKSkKCkRCKENpdGF0aW9uKAogICAgbG9wZXoyMDE2YSwgd29obGluMjAxNGEsIHJlZj0iIiwKICAgIGNvbnRleHRzPVsKCiAgICBdLAopKQoKJycnLCBjaXRhdGlvbnM9J3dvaGxpbjIwMTRhJyk7\"));\n",
       "    "
      ],
      "text/plain": [
       "<IPython.core.display.Javascript object>"
      ]
     },
     "metadata": {},
     "output_type": "display_data"
    },
    {
     "data": {
      "application/javascript": [
       "$('span:contains(\"# Temp\")').closest('.cell').remove();"
      ],
      "text/plain": [
       "<IPython.core.display.Javascript object>"
      ]
     },
     "metadata": {},
     "output_type": "display_data"
    },
    {
     "data": {
      "application/javascript": [
       "\n",
       "        $('span:contains(\"# Temp\")').closest('.cell').remove();\n",
       "        var code = IPython.notebook.insert_cell_below('code');\n",
       "        code.set_text(atob(\"IyBUZW1wCmluc2VydCgnJycKamF6YXllcmkyMDE2YSA9IERCKFdvcmsoCiAgICAyMDE2LCAiRmVhdHVyZXMgb2YgaXQgc2VydmljZSBtYXJrZXRzOiBBIHN5c3RlbWF0aWMgbGl0ZXJhdHVyZSByZXZpZXciLAogICAgZGlzcGxheT0iamF6YXllcmkiLAogICAgYXV0aG9ycz0iSmF6YXllcmksIEJhaGFyIGFuZCBQbGF0ZW5pdXMsIE1hcmllIEMgYW5kIEVuZ2VscywgR3JlZ29yIGFuZCBLdW5kaXNjaCwgRGVubmlzIiwKICAgIHBwPSIzMDEtLTMxNiIsCiAgICBwbGFjZTE9IkludGVybmF0aW9uYWwgQ29uZmVyZW5jZSBvbiBTZXJ2aWNlLU9yaWVudGVkIENvbXB1dGluZyIsCiAgICBlbnRyeXR5cGU9ImlucHJvY2VlZGluZ3MiLAogICAgb3JnYW5pemF0aW9uPSJTcHJpbmdlciIsCiAgICBJRD0iamF6YXllcmkyMDE2ZmVhdHVyZXMiLAogICAgY2x1c3Rlcl9pZD0iMTMzMDU1NTQ4MTY2MjcyMDY2NDMiLAogICAgc2Nob2xhcj0iaHR0cDovL3NjaG9sYXIuZ29vZ2xlLmNvbS9zY2hvbGFyP2NpdGVzPTEzMzA1NTU0ODE2NjI3MjA2NjQzJmFzX3NkdD0yMDA1JnNjaW9kdD0wLDUmaGw9ZW4iLAopKQoKREIoQ2l0YXRpb24oCiAgICBqYXpheWVyaTIwMTZhLCB3b2hsaW4yMDE0YSwgcmVmPSIiLAogICAgY29udGV4dHM9WwoKICAgIF0sCikpCgonJycsIGNpdGF0aW9ucz0nd29obGluMjAxNGEnKTs=\"));\n",
       "    "
      ],
      "text/plain": [
       "<IPython.core.display.Javascript object>"
      ]
     },
     "metadata": {},
     "output_type": "display_data"
    },
    {
     "data": {
      "application/javascript": [
       "$('span:contains(\"# Temp\")').closest('.cell').remove();"
      ],
      "text/plain": [
       "<IPython.core.display.Javascript object>"
      ]
     },
     "metadata": {},
     "output_type": "display_data"
    },
    {
     "data": {
      "application/javascript": [
       "\n",
       "        $('span:contains(\"# Temp\")').closest('.cell').remove();\n",
       "        var code = IPython.notebook.insert_cell_below('code');\n",
       "        code.set_text(atob(\"IyBUZW1wCmluc2VydCgnJycKamF6YXllcmkyMDE2YSA9IERCKFdvcmsoCiAgICAyMDE2LCAiRmVhdHVyZXMgb2YgaXQgc2VydmljZSBtYXJrZXRzOiBBIHN5c3RlbWF0aWMgbGl0ZXJhdHVyZSByZXZpZXciLAogICAgZGlzcGxheT0iamF6YXllcmkiLAogICAgYXV0aG9ycz0iSmF6YXllcmksIEJhaGFyIGFuZCBQbGF0ZW5pdXMsIE1hcmllIEMgYW5kIEVuZ2VscywgR3JlZ29yIGFuZCBLdW5kaXNjaCwgRGVubmlzIiwKICAgIHBwPSIzMDEtLTMxNiIsCiAgICBwbGFjZTE9IkludGVybmF0aW9uYWwgQ29uZmVyZW5jZSBvbiBTZXJ2aWNlLU9yaWVudGVkIENvbXB1dGluZyIsCiAgICBlbnRyeXR5cGU9ImlucHJvY2VlZGluZ3MiLAogICAgb3JnYW5pemF0aW9uPSJTcHJpbmdlciIsCiAgICBJRD0iamF6YXllcmkyMDE2ZmVhdHVyZXMiLAogICAgY2x1c3Rlcl9pZD0iMTMzMDU1NTQ4MTY2MjcyMDY2NDMiLAogICAgc2Nob2xhcj0iaHR0cDovL3NjaG9sYXIuZ29vZ2xlLmNvbS9zY2hvbGFyP2NpdGVzPTEzMzA1NTU0ODE2NjI3MjA2NjQzJmFzX3NkdD0yMDA1JnNjaW9kdD0wLDUmaGw9ZW4iLAopKQoKREIoQ2l0YXRpb24oCiAgICBqYXpheWVyaTIwMTZhLCB3b2hsaW4yMDE0YSwgcmVmPSIiLAogICAgY29udGV4dHM9WwoKICAgIF0sCikpCgonJycsIGNpdGF0aW9ucz0nd29obGluMjAxNGEnKTs=\"));\n",
       "    "
      ],
      "text/plain": [
       "<IPython.core.display.Javascript object>"
      ]
     },
     "metadata": {},
     "output_type": "display_data"
    },
    {
     "data": {
      "application/javascript": [
       "$('span:contains(\"# Temp\")').closest('.cell').remove();"
      ],
      "text/plain": [
       "<IPython.core.display.Javascript object>"
      ]
     },
     "metadata": {},
     "output_type": "display_data"
    },
    {
     "data": {
      "application/javascript": [
       "\n",
       "        $('span:contains(\"# Temp\")').closest('.cell').remove();\n",
       "        var code = IPython.notebook.insert_cell_below('code');\n",
       "        code.set_text(atob(\"IyBUZW1wCmluc2VydCgnJycKbWFnYWxo42VzMjAxN2EgPSBEQihXb3JrKAogICAgMjAxNywgIlRvd2FyZCBVbmRlcnN0YW5kaW5nIFdvcmsgQ2hhcmFjdGVyaXN0aWNzIGluIFNvZnR3YXJlIEVuZ2luZWVyaW5nIiwKICAgIGRpc3BsYXk9Im1hZ2FsaONlcyIsCiAgICBhdXRob3JzPSJkZSBNYWdhbGjjZXMsIENsZXl0b24gVkMiLAogICAgcHA9IjEtLTYiLAogICAgcGxhY2UxPSJBQ00gU0lHU09GVCBTb2Z0d2FyZSBFbmdpbmVlcmluZyBOb3RlcyIsCiAgICBlbnRyeXR5cGU9ImFydGljbGUiLAogICAgdm9sdW1lPSI0MSIsCiAgICBudW1iZXI9IjYiLAogICAgcHVibGlzaGVyPSJBQ00iLAogICAgSUQ9ImRlMjAxN3Rvd2FyZCIsCiAgICBjbHVzdGVyX2lkPSI3NDEyODIwOTA3MjU3OTg0NzY1IiwKICAgIHNjaG9sYXI9Imh0dHA6Ly9zY2hvbGFyLmdvb2dsZS5jb20vc2Nob2xhcj9jaXRlcz03NDEyODIwOTA3MjU3OTg0NzY1JmFzX3NkdD0yMDA1JnNjaW9kdD0wLDUmaGw9ZW4iLAopKQoKREIoQ2l0YXRpb24oCiAgICBtYWdhbGjjZXMyMDE3YSwgd29obGluMjAxNGEsIHJlZj0iIiwKICAgIGNvbnRleHRzPVsKCiAgICBdLAopKQoKJycnLCBjaXRhdGlvbnM9J3dvaGxpbjIwMTRhJyk7\"));\n",
       "    "
      ],
      "text/plain": [
       "<IPython.core.display.Javascript object>"
      ]
     },
     "metadata": {},
     "output_type": "display_data"
    },
    {
     "data": {
      "application/javascript": [
       "$('span:contains(\"# Temp\")').closest('.cell').remove();"
      ],
      "text/plain": [
       "<IPython.core.display.Javascript object>"
      ]
     },
     "metadata": {},
     "output_type": "display_data"
    },
    {
     "data": {
      "application/javascript": [
       "\n",
       "        $('span:contains(\"# Temp\")').closest('.cell').remove();\n",
       "        var code = IPython.notebook.insert_cell_below('code');\n",
       "        code.set_text(atob(\"IyBUZW1wCmluc2VydCgnJycKbWFnYWxo42VzMjAxN2EgPSBEQihXb3JrKAogICAgMjAxNywgIlRvd2FyZCBVbmRlcnN0YW5kaW5nIFdvcmsgQ2hhcmFjdGVyaXN0aWNzIGluIFNvZnR3YXJlIEVuZ2luZWVyaW5nIiwKICAgIGRpc3BsYXk9Im1hZ2FsaONlcyIsCiAgICBhdXRob3JzPSJkZSBNYWdhbGjjZXMsIENsZXl0b24gVkMiLAogICAgcHA9IjEtLTYiLAogICAgcGxhY2UxPSJBQ00gU0lHU09GVCBTb2Z0d2FyZSBFbmdpbmVlcmluZyBOb3RlcyIsCiAgICBlbnRyeXR5cGU9ImFydGljbGUiLAogICAgdm9sdW1lPSI0MSIsCiAgICBudW1iZXI9IjYiLAogICAgcHVibGlzaGVyPSJBQ00iLAogICAgSUQ9ImRlMjAxN3Rvd2FyZCIsCiAgICBjbHVzdGVyX2lkPSI3NDEyODIwOTA3MjU3OTg0NzY1IiwKICAgIHNjaG9sYXI9Imh0dHA6Ly9zY2hvbGFyLmdvb2dsZS5jb20vc2Nob2xhcj9jaXRlcz03NDEyODIwOTA3MjU3OTg0NzY1JmFzX3NkdD0yMDA1JnNjaW9kdD0wLDUmaGw9ZW4iLAopKQoKREIoQ2l0YXRpb24oCiAgICBtYWdhbGjjZXMyMDE3YSwgd29obGluMjAxNGEsIHJlZj0iIiwKICAgIGNvbnRleHRzPVsKCiAgICBdLAopKQoKJycnLCBjaXRhdGlvbnM9J3dvaGxpbjIwMTRhJyk7\"));\n",
       "    "
      ],
      "text/plain": [
       "<IPython.core.display.Javascript object>"
      ]
     },
     "metadata": {},
     "output_type": "display_data"
    },
    {
     "data": {
      "application/javascript": [
       "$('span:contains(\"# Temp\")').closest('.cell').remove();"
      ],
      "text/plain": [
       "<IPython.core.display.Javascript object>"
      ]
     },
     "metadata": {},
     "output_type": "display_data"
    },
    {
     "data": {
      "application/javascript": [
       "\n",
       "        $('span:contains(\"# Temp\")').closest('.cell').remove();\n",
       "        var code = IPython.notebook.insert_cell_below('code');\n",
       "        code.set_text(atob(\"IyBUZW1wCmluc2VydCgnJycKbWFzZWsyMDE2YiA9IERCKFdvcmsoCiAgICAyMDE2LCAiU3lzdGVtYXRpYyBldmFsdWF0aW9uIG9mIHNhbmRib3hlZCBzb2Z0d2FyZSBkZXBsb3ltZW50IGZvciByZWFsLXRpbWUgc29mdHdhcmUgb24gdGhlIGV4YW1wbGUgb2YgYSBzZWxmLWRyaXZpbmcgaGVhdnkgdmVoaWNsZSIsCiAgICBkaXNwbGF5PSJtYXNlayBiIiwKICAgIGF1dGhvcnM9Ik1hc2VrLCBQaGlsaXAgYW5kIFRodWxpbiwgTWFnbnVzIGFuZCBBbmRyYWRlLCBIdWdvIGFuZCBCZXJnZXIsIENocmlzdGlhbiBhbmQgQmVuZGVyaXVzLCBPbGEiLAogICAgcHA9IjIzOTgtLTI0MDMiLAogICAgcGxhY2UxPSJJbnRlbGxpZ2VudCBUcmFuc3BvcnRhdGlvbiBTeXN0ZW1zIChJVFNDKSwgMjAxNiBJRUVFIDE5dGggSW50ZXJuYXRpb25hbCBDb25mZXJlbmNlIG9uIiwKICAgIGVudHJ5dHlwZT0iaW5wcm9jZWVkaW5ncyIsCiAgICBvcmdhbml6YXRpb249IklFRUUiLAogICAgSUQ9Im1hc2VrMjAxNnN5c3RlbWF0aWMiLAogICAgY2x1c3Rlcl9pZD0iMjI1NzAzNTU3NzI0MTIwNDg1OSIsCiAgICBzY2hvbGFyPSJodHRwOi8vc2Nob2xhci5nb29nbGUuY29tL3NjaG9sYXI/Y2l0ZXM9MjI1NzAzNTU3NzI0MTIwNDg1OSZhc19zZHQ9MjAwNSZzY2lvZHQ9MCw1JmhsPWVuIiwKKSkKCkRCKENpdGF0aW9uKAogICAgbWFzZWsyMDE2Yiwgd29obGluMjAxNGEsIHJlZj0iIiwKICAgIGNvbnRleHRzPVsKCiAgICBdLAopKQoKJycnLCBjaXRhdGlvbnM9J3dvaGxpbjIwMTRhJyk7\"));\n",
       "    "
      ],
      "text/plain": [
       "<IPython.core.display.Javascript object>"
      ]
     },
     "metadata": {},
     "output_type": "display_data"
    },
    {
     "data": {
      "application/javascript": [
       "$('span:contains(\"# Temp\")').closest('.cell').remove();"
      ],
      "text/plain": [
       "<IPython.core.display.Javascript object>"
      ]
     },
     "metadata": {},
     "output_type": "display_data"
    },
    {
     "data": {
      "application/javascript": [
       "\n",
       "        $('span:contains(\"# Temp\")').closest('.cell').remove();\n",
       "        var code = IPython.notebook.insert_cell_below('code');\n",
       "        code.set_text(atob(\"IyBUZW1wCmluc2VydCgnJycKbWFzZWsyMDE2YiA9IERCKFdvcmsoCiAgICAyMDE2LCAiU3lzdGVtYXRpYyBldmFsdWF0aW9uIG9mIHNhbmRib3hlZCBzb2Z0d2FyZSBkZXBsb3ltZW50IGZvciByZWFsLXRpbWUgc29mdHdhcmUgb24gdGhlIGV4YW1wbGUgb2YgYSBzZWxmLWRyaXZpbmcgaGVhdnkgdmVoaWNsZSIsCiAgICBkaXNwbGF5PSJtYXNlayBiIiwKICAgIGF1dGhvcnM9Ik1hc2VrLCBQaGlsaXAgYW5kIFRodWxpbiwgTWFnbnVzIGFuZCBBbmRyYWRlLCBIdWdvIGFuZCBCZXJnZXIsIENocmlzdGlhbiBhbmQgQmVuZGVyaXVzLCBPbGEiLAogICAgcHA9IjIzOTgtLTI0MDMiLAogICAgcGxhY2UxPSJJbnRlbGxpZ2VudCBUcmFuc3BvcnRhdGlvbiBTeXN0ZW1zIChJVFNDKSwgMjAxNiBJRUVFIDE5dGggSW50ZXJuYXRpb25hbCBDb25mZXJlbmNlIG9uIiwKICAgIGVudHJ5dHlwZT0iaW5wcm9jZWVkaW5ncyIsCiAgICBvcmdhbml6YXRpb249IklFRUUiLAogICAgSUQ9Im1hc2VrMjAxNnN5c3RlbWF0aWMiLAogICAgY2x1c3Rlcl9pZD0iMjI1NzAzNTU3NzI0MTIwNDg1OSIsCiAgICBzY2hvbGFyPSJodHRwOi8vc2Nob2xhci5nb29nbGUuY29tL3NjaG9sYXI/Y2l0ZXM9MjI1NzAzNTU3NzI0MTIwNDg1OSZhc19zZHQ9MjAwNSZzY2lvZHQ9MCw1JmhsPWVuIiwKKSkKCkRCKENpdGF0aW9uKAogICAgbWFzZWsyMDE2Yiwgd29obGluMjAxNGEsIHJlZj0iIiwKICAgIGNvbnRleHRzPVsKCiAgICBdLAopKQoKJycnLCBjaXRhdGlvbnM9J3dvaGxpbjIwMTRhJyk7\"));\n",
       "    "
      ],
      "text/plain": [
       "<IPython.core.display.Javascript object>"
      ]
     },
     "metadata": {},
     "output_type": "display_data"
    },
    {
     "data": {
      "application/javascript": [
       "$('span:contains(\"# Temp\")').closest('.cell').remove();"
      ],
      "text/plain": [
       "<IPython.core.display.Javascript object>"
      ]
     },
     "metadata": {},
     "output_type": "display_data"
    },
    {
     "data": {
      "application/javascript": [
       "\n",
       "        $('span:contains(\"# Temp\")').closest('.cell').remove();\n",
       "        var code = IPython.notebook.insert_cell_below('code');\n",
       "        code.set_text(atob(\"IyBUZW1wCmluc2VydCgnJycKa29ybWFuMjAxNmEgPSBEQihXb3JrKAogICAgMjAxNiwgIk1vZGVsaW5nIEVudGVycHJpc2UgQXV0aG9yaXphdGlvbjogQSBVbmlmaWVkIE1ldGFtb2RlbCBhbmQgSW5pdGlhbCBWYWxpZGF0aW9uIiwKICAgIGRpc3BsYXk9Imtvcm1hbiIsCiAgICBhdXRob3JzPSJLb3JtYW4sIE1hdHVzIGFuZCBMYWdlcnN0cvZtLCBSb2JlcnQgYW5kIEVrc3RlZHQsIE1hdGhpYXMiLAogICAgcHA9IjEtLTI0IiwKICAgIHBsYWNlMT0iQ29tcGxleCBTeXN0ZW1zIEluZm9ybWF0aWNzIGFuZCBNb2RlbGluZyBRdWFydGVybHkiLAogICAgZW50cnl0eXBlPSJhcnRpY2xlIiwKICAgIG51bWJlcj0iNyIsCiAgICBJRD0ia29ybWFuMjAxNm1vZGVsaW5nIiwKICAgIGNsdXN0ZXJfaWQ9IjEwNjg4NjA1Nzg3ODY2MDA5OTEzIiwKICAgIHNjaG9sYXI9Imh0dHA6Ly9zY2hvbGFyLmdvb2dsZS5jb20vc2Nob2xhcj9jaXRlcz0xMDY4ODYwNTc4Nzg2NjAwOTkxMyZhc19zZHQ9MjAwNSZzY2lvZHQ9MCw1JmhsPWVuIiwKKSkKCkRCKENpdGF0aW9uKAogICAga29ybWFuMjAxNmEsIHdvaGxpbjIwMTRhLCByZWY9IiIsCiAgICBjb250ZXh0cz1bCgogICAgXSwKKSkKCicnJywgY2l0YXRpb25zPSd3b2hsaW4yMDE0YScpOw==\"));\n",
       "    "
      ],
      "text/plain": [
       "<IPython.core.display.Javascript object>"
      ]
     },
     "metadata": {},
     "output_type": "display_data"
    },
    {
     "data": {
      "application/javascript": [
       "$('span:contains(\"# Temp\")').closest('.cell').remove();"
      ],
      "text/plain": [
       "<IPython.core.display.Javascript object>"
      ]
     },
     "metadata": {},
     "output_type": "display_data"
    },
    {
     "data": {
      "application/javascript": [
       "\n",
       "        $('span:contains(\"# Temp\")').closest('.cell').remove();\n",
       "        var code = IPython.notebook.insert_cell_below('code');\n",
       "        code.set_text(atob(\"IyBUZW1wCmluc2VydCgnJycKa29ybWFuMjAxNmEgPSBEQihXb3JrKAogICAgMjAxNiwgIk1vZGVsaW5nIEVudGVycHJpc2UgQXV0aG9yaXphdGlvbjogQSBVbmlmaWVkIE1ldGFtb2RlbCBhbmQgSW5pdGlhbCBWYWxpZGF0aW9uIiwKICAgIGRpc3BsYXk9Imtvcm1hbiIsCiAgICBhdXRob3JzPSJLb3JtYW4sIE1hdHVzIGFuZCBMYWdlcnN0cvZtLCBSb2JlcnQgYW5kIEVrc3RlZHQsIE1hdGhpYXMiLAogICAgcHA9IjEtLTI0IiwKICAgIHBsYWNlMT0iQ29tcGxleCBTeXN0ZW1zIEluZm9ybWF0aWNzIGFuZCBNb2RlbGluZyBRdWFydGVybHkiLAogICAgZW50cnl0eXBlPSJhcnRpY2xlIiwKICAgIG51bWJlcj0iNyIsCiAgICBJRD0ia29ybWFuMjAxNm1vZGVsaW5nIiwKICAgIGNsdXN0ZXJfaWQ9IjEwNjg4NjA1Nzg3ODY2MDA5OTEzIiwKICAgIHNjaG9sYXI9Imh0dHA6Ly9zY2hvbGFyLmdvb2dsZS5jb20vc2Nob2xhcj9jaXRlcz0xMDY4ODYwNTc4Nzg2NjAwOTkxMyZhc19zZHQ9MjAwNSZzY2lvZHQ9MCw1JmhsPWVuIiwKKSkKCkRCKENpdGF0aW9uKAogICAga29ybWFuMjAxNmEsIHdvaGxpbjIwMTRhLCByZWY9IiIsCiAgICBjb250ZXh0cz1bCgogICAgXSwKKSkKCicnJywgY2l0YXRpb25zPSd3b2hsaW4yMDE0YScpOw==\"));\n",
       "    "
      ],
      "text/plain": [
       "<IPython.core.display.Javascript object>"
      ]
     },
     "metadata": {},
     "output_type": "display_data"
    },
    {
     "data": {
      "application/javascript": [
       "$('span:contains(\"# Temp\")').closest('.cell').remove();"
      ],
      "text/plain": [
       "<IPython.core.display.Javascript object>"
      ]
     },
     "metadata": {},
     "output_type": "display_data"
    },
    {
     "data": {
      "application/javascript": [
       "\n",
       "        $('span:contains(\"# Temp\")').closest('.cell').remove();\n",
       "        var code = IPython.notebook.insert_cell_below('code');\n",
       "        code.set_text(atob(\"IyBUZW1wCmluc2VydCgnJycKbmd1eWVuMjAxN2EgPSBEQihXb3JrKAogICAgMjAxNywgIk1vZGVsLWJhc2VkIHNlY3VyaXR5IGVuZ2luZWVyaW5nIGZvciBjeWJlci1waHlzaWNhbCBzeXN0ZW1zOiBBIHN5c3RlbWF0aWMgbWFwcGluZyBzdHVkeSIsCiAgICBkaXNwbGF5PSJuZ3V5ZW4iLAogICAgYXV0aG9ycz0iTmd1eWVuLCBQaHUgSCBhbmQgQWxpLCBTaGF1a2F0IGFuZCBZdWUsIFRhbyIsCiAgICBwbGFjZT1JU1QsCiAgICBwcD0iMTE2LS0xMzUiLAogICAgZW50cnl0eXBlPSJhcnRpY2xlIiwKICAgIHZvbHVtZT0iODMiLAogICAgcHVibGlzaGVyPSJFbHNldmllciIsCiAgICBJRD0ibmd1eWVuMjAxN21vZGVsIiwKICAgIGNsdXN0ZXJfaWQ9IjY1MDExOTQ3MTIzNjUyMDgyMDIiLAogICAgc2Nob2xhcj0iaHR0cDovL3NjaG9sYXIuZ29vZ2xlLmNvbS9zY2hvbGFyP2NpdGVzPTY1MDExOTQ3MTIzNjUyMDgyMDImYXNfc2R0PTIwMDUmc2Npb2R0PTAsNSZobD1lbiIsCikpCgpEQihDaXRhdGlvbigKICAgIG5ndXllbjIwMTdhLCB3b2hsaW4yMDE0YSwgcmVmPSIiLAogICAgY29udGV4dHM9WwoKICAgIF0sCikpCgonJycsIGNpdGF0aW9ucz0nd29obGluMjAxNGEnKTs=\"));\n",
       "    "
      ],
      "text/plain": [
       "<IPython.core.display.Javascript object>"
      ]
     },
     "metadata": {},
     "output_type": "display_data"
    },
    {
     "data": {
      "application/javascript": [
       "$('span:contains(\"# Temp\")').closest('.cell').remove();"
      ],
      "text/plain": [
       "<IPython.core.display.Javascript object>"
      ]
     },
     "metadata": {},
     "output_type": "display_data"
    },
    {
     "data": {
      "application/javascript": [
       "\n",
       "        $('span:contains(\"# Temp\")').closest('.cell').remove();\n",
       "        var code = IPython.notebook.insert_cell_below('code');\n",
       "        code.set_text(atob(\"IyBUZW1wCmluc2VydCgnJycKbmd1eWVuMjAxN2EgPSBEQihXb3JrKAogICAgMjAxNywgIk1vZGVsLWJhc2VkIHNlY3VyaXR5IGVuZ2luZWVyaW5nIGZvciBjeWJlci1waHlzaWNhbCBzeXN0ZW1zOiBBIHN5c3RlbWF0aWMgbWFwcGluZyBzdHVkeSIsCiAgICBkaXNwbGF5PSJuZ3V5ZW4iLAogICAgYXV0aG9ycz0iTmd1eWVuLCBQaHUgSCBhbmQgQWxpLCBTaGF1a2F0IGFuZCBZdWUsIFRhbyIsCiAgICBwbGFjZT1JU1QsCiAgICBwcD0iMTE2LS0xMzUiLAogICAgZW50cnl0eXBlPSJhcnRpY2xlIiwKICAgIHZvbHVtZT0iODMiLAogICAgcHVibGlzaGVyPSJFbHNldmllciIsCiAgICBJRD0ibmd1eWVuMjAxN21vZGVsIiwKICAgIGNsdXN0ZXJfaWQ9IjY1MDExOTQ3MTIzNjUyMDgyMDIiLAogICAgc2Nob2xhcj0iaHR0cDovL3NjaG9sYXIuZ29vZ2xlLmNvbS9zY2hvbGFyP2NpdGVzPTY1MDExOTQ3MTIzNjUyMDgyMDImYXNfc2R0PTIwMDUmc2Npb2R0PTAsNSZobD1lbiIsCikpCgpEQihDaXRhdGlvbigKICAgIG5ndXllbjIwMTdhLCB3b2hsaW4yMDE0YSwgcmVmPSIiLAogICAgY29udGV4dHM9WwoKICAgIF0sCikpCgonJycsIGNpdGF0aW9ucz0nd29obGluMjAxNGEnKTs=\"));\n",
       "    "
      ],
      "text/plain": [
       "<IPython.core.display.Javascript object>"
      ]
     },
     "metadata": {},
     "output_type": "display_data"
    },
    {
     "data": {
      "application/javascript": [
       "$('span:contains(\"# Temp\")').closest('.cell').remove();"
      ],
      "text/plain": [
       "<IPython.core.display.Javascript object>"
      ]
     },
     "metadata": {},
     "output_type": "display_data"
    },
    {
     "data": {
      "application/javascript": [
       "\n",
       "        $('span:contains(\"# Temp\")').closest('.cell').remove();\n",
       "        var code = IPython.notebook.insert_cell_below('code');\n",
       "        code.set_text(atob(\"IyBUZW1wCmluc2VydCgnJycKdW50ZXJrYWxtc3RlaW5lcjIwMTVhID0gREIoV29yaygKICAgIDIwMTUsICJDb29yZGluYXRpbmcgcmVxdWlyZW1lbnRzIGVuZ2luZWVyaW5nIGFuZCBzb2Z0d2FyZSB0ZXN0aW5nIiwKICAgIGRpc3BsYXk9InVudGVya2FsbXN0ZWluZXIiLAogICAgYXV0aG9ycz0iVW50ZXJrYWxtc3RlaW5lciwgTWljaGFlbCIsCiAgICBwbGFjZT1UaGVzaXMsCiAgICBlbnRyeXR5cGU9InBoZHRoZXNpcyIsCiAgICBJRD0idW50ZXJrYWxtc3RlaW5lcjIwMTVjb29yZGluYXRpbmciLAogICAgY2x1c3Rlcl9pZD0iOTg0MTE1Mzk3MTI0NjI0OTY5MCIsCiAgICBzY2hvbGFyPSJodHRwOi8vc2Nob2xhci5nb29nbGUuY29tL3NjaG9sYXI/Y2l0ZXM9OTg0MTE1Mzk3MTI0NjI0OTY5MCZhc19zZHQ9MjAwNSZzY2lvZHQ9MCw1JmhsPWVuIiwKICAgIGxvY2FsPSJCbGVraW5nZSBUZWtuaXNrYSBI9mdza29sYSIsCikpCgpEQihDaXRhdGlvbigKICAgIHVudGVya2FsbXN0ZWluZXIyMDE1YSwgd29obGluMjAxNGEsIHJlZj0iIiwKICAgIGNvbnRleHRzPVsKCiAgICBdLAopKQoKJycnLCBjaXRhdGlvbnM9J3dvaGxpbjIwMTRhJyk7\"));\n",
       "    "
      ],
      "text/plain": [
       "<IPython.core.display.Javascript object>"
      ]
     },
     "metadata": {},
     "output_type": "display_data"
    },
    {
     "data": {
      "application/javascript": [
       "$('span:contains(\"# Temp\")').closest('.cell').remove();"
      ],
      "text/plain": [
       "<IPython.core.display.Javascript object>"
      ]
     },
     "metadata": {},
     "output_type": "display_data"
    },
    {
     "data": {
      "application/javascript": [
       "\n",
       "        $('span:contains(\"# Temp\")').closest('.cell').remove();\n",
       "        var code = IPython.notebook.insert_cell_below('code');\n",
       "        code.set_text(atob(\"IyBUZW1wCmluc2VydCgnJycKdW50ZXJrYWxtc3RlaW5lcjIwMTVhID0gREIoV29yaygKICAgIDIwMTUsICJDb29yZGluYXRpbmcgcmVxdWlyZW1lbnRzIGVuZ2luZWVyaW5nIGFuZCBzb2Z0d2FyZSB0ZXN0aW5nIiwKICAgIGRpc3BsYXk9InVudGVya2FsbXN0ZWluZXIiLAogICAgYXV0aG9ycz0iVW50ZXJrYWxtc3RlaW5lciwgTWljaGFlbCIsCiAgICBwbGFjZT1UaGVzaXMsCiAgICBlbnRyeXR5cGU9InBoZHRoZXNpcyIsCiAgICBJRD0idW50ZXJrYWxtc3RlaW5lcjIwMTVjb29yZGluYXRpbmciLAogICAgY2x1c3Rlcl9pZD0iOTg0MTE1Mzk3MTI0NjI0OTY5MCIsCiAgICBzY2hvbGFyPSJodHRwOi8vc2Nob2xhci5nb29nbGUuY29tL3NjaG9sYXI/Y2l0ZXM9OTg0MTE1Mzk3MTI0NjI0OTY5MCZhc19zZHQ9MjAwNSZzY2lvZHQ9MCw1JmhsPWVuIiwKICAgIGxvY2FsPSJCbGVraW5nZSBUZWtuaXNrYSBI9mdza29sYSIsCikpCgpEQihDaXRhdGlvbigKICAgIHVudGVya2FsbXN0ZWluZXIyMDE1YSwgd29obGluMjAxNGEsIHJlZj0iIiwKICAgIGNvbnRleHRzPVsKCiAgICBdLAopKQoKJycnLCBjaXRhdGlvbnM9J3dvaGxpbjIwMTRhJyk7\"));\n",
       "    "
      ],
      "text/plain": [
       "<IPython.core.display.Javascript object>"
      ]
     },
     "metadata": {},
     "output_type": "display_data"
    },
    {
     "data": {
      "application/javascript": [
       "$('span:contains(\"# Temp\")').closest('.cell').remove();"
      ],
      "text/plain": [
       "<IPython.core.display.Javascript object>"
      ]
     },
     "metadata": {},
     "output_type": "display_data"
    },
    {
     "data": {
      "application/javascript": [
       "\n",
       "        $('span:contains(\"# Temp\")').closest('.cell').remove();\n",
       "        var code = IPython.notebook.insert_cell_below('code');\n",
       "        code.set_text(atob(\"IyBUZW1wCmluc2VydCgnJycKa3VybGFuZDIwMTdhID0gREIoV29yaygKICAgIDIwMTcsICJXaWxkbGlmZSBjcmltZTogYSBjb25jZXB0dWFsIGludGVncmF0aW9uLCBsaXRlcmF0dXJlIHJldmlldywgYW5kIG1ldGhvZG9sb2dpY2FsIGNyaXRpcXVlIiwKICAgIGRpc3BsYXk9Imt1cmxhbmQiLAogICAgYXV0aG9ycz0iS3VybGFuZCwgSnVzdGluIGFuZCBQaXJlcywgU3RlcGhlbiBGIGFuZCBNY0Zhbm4sIFNhcmEgQyBhbmQgTW9yZXRvLCBXaWxsaWFtIEQiLAogICAgcHA9IjQiLAogICAgcGxhY2UxPSJDcmltZSBTY2llbmNlIiwKICAgIGVudHJ5dHlwZT0iYXJ0aWNsZSIsCiAgICB2b2x1bWU9IjYiLAogICAgbnVtYmVyPSIxIiwKICAgIHB1Ymxpc2hlcj0iU3ByaW5nZXIgQmVybGluIEhlaWRlbGJlcmciLAogICAgSUQ9Imt1cmxhbmQyMDE3d2lsZGxpZmUiLAogICAgY2x1c3Rlcl9pZD0iMTQ4NzMzMzQzOTQ4ODI4MjU4NDciLAogICAgc2Nob2xhcj0iaHR0cDovL3NjaG9sYXIuZ29vZ2xlLmNvbS9zY2hvbGFyP2NpdGVzPTE0ODczMzM0Mzk0ODgyODI1ODQ3JmFzX3NkdD0yMDA1JnNjaW9kdD0wLDUmaGw9ZW4iLAopKQoKREIoQ2l0YXRpb24oCiAgICBrdXJsYW5kMjAxN2EsIHdvaGxpbjIwMTRhLCByZWY9IiIsCiAgICBjb250ZXh0cz1bCgogICAgXSwKKSkKCicnJywgY2l0YXRpb25zPSd3b2hsaW4yMDE0YScpOw==\"));\n",
       "    "
      ],
      "text/plain": [
       "<IPython.core.display.Javascript object>"
      ]
     },
     "metadata": {},
     "output_type": "display_data"
    },
    {
     "data": {
      "application/javascript": [
       "$('span:contains(\"# Temp\")').closest('.cell').remove();"
      ],
      "text/plain": [
       "<IPython.core.display.Javascript object>"
      ]
     },
     "metadata": {},
     "output_type": "display_data"
    },
    {
     "data": {
      "application/javascript": [
       "\n",
       "        $('span:contains(\"# Temp\")').closest('.cell').remove();\n",
       "        var code = IPython.notebook.insert_cell_below('code');\n",
       "        code.set_text(atob(\"IyBUZW1wCmluc2VydCgnJycKa3VybGFuZDIwMTdhID0gREIoV29yaygKICAgIDIwMTcsICJXaWxkbGlmZSBjcmltZTogYSBjb25jZXB0dWFsIGludGVncmF0aW9uLCBsaXRlcmF0dXJlIHJldmlldywgYW5kIG1ldGhvZG9sb2dpY2FsIGNyaXRpcXVlIiwKICAgIGRpc3BsYXk9Imt1cmxhbmQiLAogICAgYXV0aG9ycz0iS3VybGFuZCwgSnVzdGluIGFuZCBQaXJlcywgU3RlcGhlbiBGIGFuZCBNY0Zhbm4sIFNhcmEgQyBhbmQgTW9yZXRvLCBXaWxsaWFtIEQiLAogICAgcHA9IjQiLAogICAgcGxhY2UxPSJDcmltZSBTY2llbmNlIiwKICAgIGVudHJ5dHlwZT0iYXJ0aWNsZSIsCiAgICB2b2x1bWU9IjYiLAogICAgbnVtYmVyPSIxIiwKICAgIHB1Ymxpc2hlcj0iU3ByaW5nZXIgQmVybGluIEhlaWRlbGJlcmciLAogICAgSUQ9Imt1cmxhbmQyMDE3d2lsZGxpZmUiLAogICAgY2x1c3Rlcl9pZD0iMTQ4NzMzMzQzOTQ4ODI4MjU4NDciLAogICAgc2Nob2xhcj0iaHR0cDovL3NjaG9sYXIuZ29vZ2xlLmNvbS9zY2hvbGFyP2NpdGVzPTE0ODczMzM0Mzk0ODgyODI1ODQ3JmFzX3NkdD0yMDA1JnNjaW9kdD0wLDUmaGw9ZW4iLAopKQoKREIoQ2l0YXRpb24oCiAgICBrdXJsYW5kMjAxN2EsIHdvaGxpbjIwMTRhLCByZWY9IiIsCiAgICBjb250ZXh0cz1bCgogICAgXSwKKSkKCicnJywgY2l0YXRpb25zPSd3b2hsaW4yMDE0YScpOw==\"));\n",
       "    "
      ],
      "text/plain": [
       "<IPython.core.display.Javascript object>"
      ]
     },
     "metadata": {},
     "output_type": "display_data"
    },
    {
     "data": {
      "application/javascript": [
       "$('span:contains(\"# Temp\")').closest('.cell').remove();"
      ],
      "text/plain": [
       "<IPython.core.display.Javascript object>"
      ]
     },
     "metadata": {},
     "output_type": "display_data"
    },
    {
     "data": {
      "application/javascript": [
       "\n",
       "        $('span:contains(\"# Temp\")').closest('.cell').remove();\n",
       "        var code = IPython.notebook.insert_cell_below('code');\n",
       "        code.set_text(atob(\"IyBUZW1wCmluc2VydCgnJycKaGVpbmVjazIwMTZhID0gREIoV29yaygKICAgIDIwMTYsICJNb2RlbC1Ecml2ZW4gRGV2ZWxvcG1lbnQgaW4gUm9ib3RpY3MgRG9tYWluOiBBIFN5c3RlbWF0aWMgTGl0ZXJhdHVyZSBSZXZpZXciLAogICAgZGlzcGxheT0iaGVpbmVjayIsCiAgICBhdXRob3JzPSJIZWluZWNrLCBUaWFnbyBhbmQgR29ue+d9YWx2ZXMsIEVueW8gYW5kIFNvdXNhLCBB6mRhIGFuZCBPbGl2ZWlyYSwgTWFyY29zIGFuZCBDYXN0cm8sIEphZWxzb24iLAogICAgcHA9IjE1MS0tMTYwIiwKICAgIHBsYWNlMT0iU29mdHdhcmUgQ29tcG9uZW50cywgQXJjaGl0ZWN0dXJlcyBhbmQgUmV1c2UgKFNCQ0FSUyksIDIwMTYgWCBCcmF6aWxpYW4gU3ltcG9zaXVtIG9uIiwKICAgIGVudHJ5dHlwZT0iaW5wcm9jZWVkaW5ncyIsCiAgICBvcmdhbml6YXRpb249IklFRUUiLAogICAgSUQ9ImhlaW5lY2syMDE2bW9kZWwiLAogICAgY2x1c3Rlcl9pZD0iMjQzNzgxMzAzNzAzMzE5MDAyNCIsCiAgICBzY2hvbGFyPSJodHRwOi8vc2Nob2xhci5nb29nbGUuY29tL3NjaG9sYXI/Y2l0ZXM9MjQzNzgxMzAzNzAzMzE5MDAyNCZhc19zZHQ9MjAwNSZzY2lvZHQ9MCw1JmhsPWVuIiwKKSkKCkRCKENpdGF0aW9uKAogICAgaGVpbmVjazIwMTZhLCB3b2hsaW4yMDE0YSwgcmVmPSIiLAogICAgY29udGV4dHM9WwoKICAgIF0sCikpCgonJycsIGNpdGF0aW9ucz0nd29obGluMjAxNGEnKTs=\"));\n",
       "    "
      ],
      "text/plain": [
       "<IPython.core.display.Javascript object>"
      ]
     },
     "metadata": {},
     "output_type": "display_data"
    },
    {
     "data": {
      "application/javascript": [
       "$('span:contains(\"# Temp\")').closest('.cell').remove();"
      ],
      "text/plain": [
       "<IPython.core.display.Javascript object>"
      ]
     },
     "metadata": {},
     "output_type": "display_data"
    },
    {
     "data": {
      "application/javascript": [
       "\n",
       "        $('span:contains(\"# Temp\")').closest('.cell').remove();\n",
       "        var code = IPython.notebook.insert_cell_below('code');\n",
       "        code.set_text(atob(\"IyBUZW1wCmluc2VydCgnJycKaGVpbmVjazIwMTZhID0gREIoV29yaygKICAgIDIwMTYsICJNb2RlbC1Ecml2ZW4gRGV2ZWxvcG1lbnQgaW4gUm9ib3RpY3MgRG9tYWluOiBBIFN5c3RlbWF0aWMgTGl0ZXJhdHVyZSBSZXZpZXciLAogICAgZGlzcGxheT0iaGVpbmVjayIsCiAgICBhdXRob3JzPSJIZWluZWNrLCBUaWFnbyBhbmQgR29ue+d9YWx2ZXMsIEVueW8gYW5kIFNvdXNhLCBB6mRhIGFuZCBPbGl2ZWlyYSwgTWFyY29zIGFuZCBDYXN0cm8sIEphZWxzb24iLAogICAgcHA9IjE1MS0tMTYwIiwKICAgIHBsYWNlMT0iU29mdHdhcmUgQ29tcG9uZW50cywgQXJjaGl0ZWN0dXJlcyBhbmQgUmV1c2UgKFNCQ0FSUyksIDIwMTYgWCBCcmF6aWxpYW4gU3ltcG9zaXVtIG9uIiwKICAgIGVudHJ5dHlwZT0iaW5wcm9jZWVkaW5ncyIsCiAgICBvcmdhbml6YXRpb249IklFRUUiLAogICAgSUQ9ImhlaW5lY2syMDE2bW9kZWwiLAogICAgY2x1c3Rlcl9pZD0iMjQzNzgxMzAzNzAzMzE5MDAyNCIsCiAgICBzY2hvbGFyPSJodHRwOi8vc2Nob2xhci5nb29nbGUuY29tL3NjaG9sYXI/Y2l0ZXM9MjQzNzgxMzAzNzAzMzE5MDAyNCZhc19zZHQ9MjAwNSZzY2lvZHQ9MCw1JmhsPWVuIiwKKSkKCkRCKENpdGF0aW9uKAogICAgaGVpbmVjazIwMTZhLCB3b2hsaW4yMDE0YSwgcmVmPSIiLAogICAgY29udGV4dHM9WwoKICAgIF0sCikpCgonJycsIGNpdGF0aW9ucz0nd29obGluMjAxNGEnKTs=\"));\n",
       "    "
      ],
      "text/plain": [
       "<IPython.core.display.Javascript object>"
      ]
     },
     "metadata": {},
     "output_type": "display_data"
    },
    {
     "data": {
      "application/javascript": [
       "$('span:contains(\"# Temp\")').closest('.cell').remove();"
      ],
      "text/plain": [
       "<IPython.core.display.Javascript object>"
      ]
     },
     "metadata": {},
     "output_type": "display_data"
    },
    {
     "data": {
      "application/javascript": [
       "\n",
       "        $('span:contains(\"# Temp\")').closest('.cell').remove();\n",
       "        var code = IPython.notebook.insert_cell_below('code');\n",
       "        code.set_text(atob(\"IyBUZW1wCmluc2VydCgnJycKZ29tZXMyMDE1YSA9IERCKFdvcmsoCiAgICAyMDE1LCAiQSBzeXN0ZW1hdGljIG1hcHBpbmcgb24gZGlzY292ZXJ5IGFuZCBjb21wb3NpdGlvbiBtZWNoYW5pc21zIGZvciBzeXN0ZW1zLW9mLXN5c3RlbXMiLAogICAgZGlzcGxheT0iZ29tZXMiLAogICAgYXV0aG9ycz0iR29tZXMsIFBvcmZpcmlvIGFuZCBDYXZhbGNhbnRlLCBFdmVydG9uIGFuZCBNYWlhLCBQZWRybyBhbmQgQmF0aXN0YSwgVGhhaXMgYW5kIE9saXZlaXJhLCBLYW1pbGxhIiwKICAgIHBwPSIxOTEtLTE5OCIsCiAgICBwbGFjZTE9IlNvZnR3YXJlIEVuZ2luZWVyaW5nIGFuZCBBZHZhbmNlZCBBcHBsaWNhdGlvbnMgKFNFQUEpLCAyMDE1IDQxc3QgRXVyb21pY3JvIENvbmZlcmVuY2Ugb24iLAogICAgZW50cnl0eXBlPSJpbnByb2NlZWRpbmdzIiwKICAgIG9yZ2FuaXphdGlvbj0iSUVFRSIsCiAgICBJRD0iZ29tZXMyMDE1c3lzdGVtYXRpYyIsCiAgICBjbHVzdGVyX2lkPSIxMDEyNzg4OTc4MDgwNzYzNzcwNSIsCiAgICBzY2hvbGFyPSJodHRwOi8vc2Nob2xhci5nb29nbGUuY29tL3NjaG9sYXI/Y2l0ZXM9MTAxMjc4ODk3ODA4MDc2Mzc3MDUmYXNfc2R0PTIwMDUmc2Npb2R0PTAsNSZobD1lbiIsCikpCgpEQihDaXRhdGlvbigKICAgIGdvbWVzMjAxNWEsIHdvaGxpbjIwMTRhLCByZWY9IiIsCiAgICBjb250ZXh0cz1bCgogICAgXSwKKSkKCicnJywgY2l0YXRpb25zPSd3b2hsaW4yMDE0YScpOw==\"));\n",
       "    "
      ],
      "text/plain": [
       "<IPython.core.display.Javascript object>"
      ]
     },
     "metadata": {},
     "output_type": "display_data"
    },
    {
     "data": {
      "application/javascript": [
       "$('span:contains(\"# Temp\")').closest('.cell').remove();"
      ],
      "text/plain": [
       "<IPython.core.display.Javascript object>"
      ]
     },
     "metadata": {},
     "output_type": "display_data"
    },
    {
     "data": {
      "application/javascript": [
       "\n",
       "        $('span:contains(\"# Temp\")').closest('.cell').remove();\n",
       "        var code = IPython.notebook.insert_cell_below('code');\n",
       "        code.set_text(atob(\"IyBUZW1wCmluc2VydCgnJycKZ29tZXMyMDE1YSA9IERCKFdvcmsoCiAgICAyMDE1LCAiQSBzeXN0ZW1hdGljIG1hcHBpbmcgb24gZGlzY292ZXJ5IGFuZCBjb21wb3NpdGlvbiBtZWNoYW5pc21zIGZvciBzeXN0ZW1zLW9mLXN5c3RlbXMiLAogICAgZGlzcGxheT0iZ29tZXMiLAogICAgYXV0aG9ycz0iR29tZXMsIFBvcmZpcmlvIGFuZCBDYXZhbGNhbnRlLCBFdmVydG9uIGFuZCBNYWlhLCBQZWRybyBhbmQgQmF0aXN0YSwgVGhhaXMgYW5kIE9saXZlaXJhLCBLYW1pbGxhIiwKICAgIHBwPSIxOTEtLTE5OCIsCiAgICBwbGFjZTE9IlNvZnR3YXJlIEVuZ2luZWVyaW5nIGFuZCBBZHZhbmNlZCBBcHBsaWNhdGlvbnMgKFNFQUEpLCAyMDE1IDQxc3QgRXVyb21pY3JvIENvbmZlcmVuY2Ugb24iLAogICAgZW50cnl0eXBlPSJpbnByb2NlZWRpbmdzIiwKICAgIG9yZ2FuaXphdGlvbj0iSUVFRSIsCiAgICBJRD0iZ29tZXMyMDE1c3lzdGVtYXRpYyIsCiAgICBjbHVzdGVyX2lkPSIxMDEyNzg4OTc4MDgwNzYzNzcwNSIsCiAgICBzY2hvbGFyPSJodHRwOi8vc2Nob2xhci5nb29nbGUuY29tL3NjaG9sYXI/Y2l0ZXM9MTAxMjc4ODk3ODA4MDc2Mzc3MDUmYXNfc2R0PTIwMDUmc2Npb2R0PTAsNSZobD1lbiIsCikpCgpEQihDaXRhdGlvbigKICAgIGdvbWVzMjAxNWEsIHdvaGxpbjIwMTRhLCByZWY9IiIsCiAgICBjb250ZXh0cz1bCgogICAgXSwKKSkKCicnJywgY2l0YXRpb25zPSd3b2hsaW4yMDE0YScpOw==\"));\n",
       "    "
      ],
      "text/plain": [
       "<IPython.core.display.Javascript object>"
      ]
     },
     "metadata": {},
     "output_type": "display_data"
    },
    {
     "data": {
      "application/javascript": [
       "$('span:contains(\"# Temp\")').closest('.cell').remove();"
      ],
      "text/plain": [
       "<IPython.core.display.Javascript object>"
      ]
     },
     "metadata": {},
     "output_type": "display_data"
    },
    {
     "data": {
      "application/javascript": [
       "\n",
       "        $('span:contains(\"# Temp\")').closest('.cell').remove();\n",
       "        var code = IPython.notebook.insert_cell_below('code');\n",
       "        code.set_text(atob(\"IyBUZW1wCmluc2VydCgnJycKbW90dGEyMDE2YSA9IERCKFdvcmsoCiAgICAyMDE2LCAiQW5hbHl6aW5nIHRoZSBFdm9sdXRpb24gb2YgU3lzdGVtIFJlcXVpcmVtZW50cyIsCiAgICBkaXNwbGF5PSJtb3R0YSIsCiAgICBhdXRob3JzPSJNb3R0YSwgQ09SUkFETyIsCiAgICBwbGFjZTE9IkNoYWxtZXJzl1VuaXZlcnNpdHkgb2YgR290aGVuYnVyZyIsCiAgICBlbnRyeXR5cGU9ImFydGljbGUiLAogICAgSUQ9Im1vdHRhMjAxNmFuYWx5emluZyIsCiAgICBjbHVzdGVyX2lkPSI0NTYwMjgxMTI5MzUwOTU2MDMyIiwKICAgIHNjaG9sYXI9Imh0dHA6Ly9zY2hvbGFyLmdvb2dsZS5jb20vc2Nob2xhcj9jaXRlcz00NTYwMjgxMTI5MzUwOTU2MDMyJmFzX3NkdD0yMDA1JnNjaW9kdD0wLDUmaGw9ZW4iLAopKQoKREIoQ2l0YXRpb24oCiAgICBtb3R0YTIwMTZhLCB3b2hsaW4yMDE0YSwgcmVmPSIiLAogICAgY29udGV4dHM9WwoKICAgIF0sCikpCgonJycsIGNpdGF0aW9ucz0nd29obGluMjAxNGEnKTs=\"));\n",
       "    "
      ],
      "text/plain": [
       "<IPython.core.display.Javascript object>"
      ]
     },
     "metadata": {},
     "output_type": "display_data"
    },
    {
     "data": {
      "application/javascript": [
       "$('span:contains(\"# Temp\")').closest('.cell').remove();"
      ],
      "text/plain": [
       "<IPython.core.display.Javascript object>"
      ]
     },
     "metadata": {},
     "output_type": "display_data"
    },
    {
     "data": {
      "application/javascript": [
       "\n",
       "        $('span:contains(\"# Temp\")').closest('.cell').remove();\n",
       "        var code = IPython.notebook.insert_cell_below('code');\n",
       "        code.set_text(atob(\"IyBUZW1wCmluc2VydCgnJycKbW90dGEyMDE2YSA9IERCKFdvcmsoCiAgICAyMDE2LCAiQW5hbHl6aW5nIHRoZSBFdm9sdXRpb24gb2YgU3lzdGVtIFJlcXVpcmVtZW50cyIsCiAgICBkaXNwbGF5PSJtb3R0YSIsCiAgICBhdXRob3JzPSJNb3R0YSwgQ09SUkFETyIsCiAgICBwbGFjZTE9IkNoYWxtZXJzl1VuaXZlcnNpdHkgb2YgR290aGVuYnVyZyIsCiAgICBlbnRyeXR5cGU9ImFydGljbGUiLAogICAgSUQ9Im1vdHRhMjAxNmFuYWx5emluZyIsCiAgICBjbHVzdGVyX2lkPSI0NTYwMjgxMTI5MzUwOTU2MDMyIiwKICAgIHNjaG9sYXI9Imh0dHA6Ly9zY2hvbGFyLmdvb2dsZS5jb20vc2Nob2xhcj9jaXRlcz00NTYwMjgxMTI5MzUwOTU2MDMyJmFzX3NkdD0yMDA1JnNjaW9kdD0wLDUmaGw9ZW4iLAopKQoKREIoQ2l0YXRpb24oCiAgICBtb3R0YTIwMTZhLCB3b2hsaW4yMDE0YSwgcmVmPSIiLAogICAgY29udGV4dHM9WwoKICAgIF0sCikpCgonJycsIGNpdGF0aW9ucz0nd29obGluMjAxNGEnKTs=\"));\n",
       "    "
      ],
      "text/plain": [
       "<IPython.core.display.Javascript object>"
      ]
     },
     "metadata": {},
     "output_type": "display_data"
    },
    {
     "data": {
      "application/javascript": [
       "$('span:contains(\"# Temp\")').closest('.cell').remove();"
      ],
      "text/plain": [
       "<IPython.core.display.Javascript object>"
      ]
     },
     "metadata": {},
     "output_type": "display_data"
    },
    {
     "data": {
      "application/javascript": [
       "\n",
       "        $('span:contains(\"# Temp\")').closest('.cell').remove();\n",
       "        var code = IPython.notebook.insert_cell_below('code');\n",
       "        code.set_text(atob(\"IyBUZW1wCmluc2VydCgnJycKZmxlbXN0cvZtMjAxNWEgPSBEQihXb3JrKAogICAgMjAxNSwgIlZlcnRpY2FsIFRlc3QgUmV1c2UgZm9yIEVtYmVkZGVkIFN5c3RlbXM6IEEgU3lzdGVtYXRpYyBNYXBwaW5nIFN0dWR5IiwKICAgIGRpc3BsYXk9ImZsZW1zdHL2bSIsCiAgICBhdXRob3JzPSJGbGVtc3Ry9m0sIERhbmllbCBhbmQgU3VuZG1hcmssIERhbmllbCBhbmQgQWZ6YWwsIFdhc2lmIiwKICAgIHBwPSIzMTctLTMyNCIsCiAgICBwbGFjZTE9IlNvZnR3YXJlIEVuZ2luZWVyaW5nIGFuZCBBZHZhbmNlZCBBcHBsaWNhdGlvbnMgKFNFQUEpLCAyMDE1IDQxc3QgRXVyb21pY3JvIENvbmZlcmVuY2Ugb24iLAogICAgZW50cnl0eXBlPSJpbnByb2NlZWRpbmdzIiwKICAgIG9yZ2FuaXphdGlvbj0iSUVFRSIsCiAgICBJRD0iZmxlbXN0cm9tMjAxNXZlcnRpY2FsIiwKICAgIGNsdXN0ZXJfaWQ9IjEzNzYzNDkxODEyNDA0ODE0NjgyIiwKICAgIHNjaG9sYXI9Imh0dHA6Ly9zY2hvbGFyLmdvb2dsZS5jb20vc2Nob2xhcj9jaXRlcz0xMzc2MzQ5MTgxMjQwNDgxNDY4MiZhc19zZHQ9MjAwNSZzY2lvZHQ9MCw1JmhsPWVuIiwKKSkKCkRCKENpdGF0aW9uKAogICAgZmxlbXN0cvZtMjAxNWEsIHdvaGxpbjIwMTRhLCByZWY9IiIsCiAgICBjb250ZXh0cz1bCgogICAgXSwKKSkKCicnJywgY2l0YXRpb25zPSd3b2hsaW4yMDE0YScpOw==\"));\n",
       "    "
      ],
      "text/plain": [
       "<IPython.core.display.Javascript object>"
      ]
     },
     "metadata": {},
     "output_type": "display_data"
    },
    {
     "data": {
      "application/javascript": [
       "$('span:contains(\"# Temp\")').closest('.cell').remove();"
      ],
      "text/plain": [
       "<IPython.core.display.Javascript object>"
      ]
     },
     "metadata": {},
     "output_type": "display_data"
    },
    {
     "data": {
      "application/javascript": [
       "\n",
       "        $('span:contains(\"# Temp\")').closest('.cell').remove();\n",
       "        var code = IPython.notebook.insert_cell_below('code');\n",
       "        code.set_text(atob(\"IyBUZW1wCmluc2VydCgnJycKZmxlbXN0cvZtMjAxNWEgPSBEQihXb3JrKAogICAgMjAxNSwgIlZlcnRpY2FsIFRlc3QgUmV1c2UgZm9yIEVtYmVkZGVkIFN5c3RlbXM6IEEgU3lzdGVtYXRpYyBNYXBwaW5nIFN0dWR5IiwKICAgIGRpc3BsYXk9ImZsZW1zdHL2bSIsCiAgICBhdXRob3JzPSJGbGVtc3Ry9m0sIERhbmllbCBhbmQgU3VuZG1hcmssIERhbmllbCBhbmQgQWZ6YWwsIFdhc2lmIiwKICAgIHBwPSIzMTctLTMyNCIsCiAgICBwbGFjZTE9IlNvZnR3YXJlIEVuZ2luZWVyaW5nIGFuZCBBZHZhbmNlZCBBcHBsaWNhdGlvbnMgKFNFQUEpLCAyMDE1IDQxc3QgRXVyb21pY3JvIENvbmZlcmVuY2Ugb24iLAogICAgZW50cnl0eXBlPSJpbnByb2NlZWRpbmdzIiwKICAgIG9yZ2FuaXphdGlvbj0iSUVFRSIsCiAgICBJRD0iZmxlbXN0cm9tMjAxNXZlcnRpY2FsIiwKICAgIGNsdXN0ZXJfaWQ9IjEzNzYzNDkxODEyNDA0ODE0NjgyIiwKICAgIHNjaG9sYXI9Imh0dHA6Ly9zY2hvbGFyLmdvb2dsZS5jb20vc2Nob2xhcj9jaXRlcz0xMzc2MzQ5MTgxMjQwNDgxNDY4MiZhc19zZHQ9MjAwNSZzY2lvZHQ9MCw1JmhsPWVuIiwKKSkKCkRCKENpdGF0aW9uKAogICAgZmxlbXN0cvZtMjAxNWEsIHdvaGxpbjIwMTRhLCByZWY9IiIsCiAgICBjb250ZXh0cz1bCgogICAgXSwKKSkKCicnJywgY2l0YXRpb25zPSd3b2hsaW4yMDE0YScpOw==\"));\n",
       "    "
      ],
      "text/plain": [
       "<IPython.core.display.Javascript object>"
      ]
     },
     "metadata": {},
     "output_type": "display_data"
    },
    {
     "data": {
      "application/javascript": [
       "$('span:contains(\"# Temp\")').closest('.cell').remove();"
      ],
      "text/plain": [
       "<IPython.core.display.Javascript object>"
      ]
     },
     "metadata": {},
     "output_type": "display_data"
    },
    {
     "data": {
      "application/javascript": [
       "\n",
       "        $('span:contains(\"# Temp\")').closest('.cell').remove();\n",
       "        var code = IPython.notebook.insert_cell_below('code');\n",
       "        code.set_text(atob(\"IyBUZW1wCmluc2VydCgnJycKZmxlbXN0cvZtMjAxNWEgPSBEQihXb3JrKAogICAgMjAxNSwgIlZlcnRpY2FsIFRlc3QgUmV1c2UgZm9yIEVtYmVkZGVkIFN5c3RlbXM6IEEgU3lzdGVtYXRpYyBNYXBwaW5nIFN0dWR5IiwKICAgIGRpc3BsYXk9ImZsZW1zdHL2bSIsCiAgICBhdXRob3JzPSJGbGVtc3Ry9m0sIERhbmllbCBhbmQgU3VuZG1hcmssIERhbmllbCBhbmQgQWZ6YWwsIFdhc2lmIiwKICAgIHBwPSIzMTctLTMyNCIsCiAgICBwbGFjZTE9IlNvZnR3YXJlIEVuZ2luZWVyaW5nIGFuZCBBZHZhbmNlZCBBcHBsaWNhdGlvbnMgKFNFQUEpLCAyMDE1IDQxc3QgRXVyb21pY3JvIENvbmZlcmVuY2Ugb24iLAogICAgZW50cnl0eXBlPSJpbnByb2NlZWRpbmdzIiwKICAgIG9yZ2FuaXphdGlvbj0iSUVFRSIsCiAgICBJRD0iZmxlbXN0cm9tMjAxNXZlcnRpY2FsIiwKICAgIGNsdXN0ZXJfaWQ9IjEzNzYzNDkxODEyNDA0ODE0NjgyIiwKICAgIHNjaG9sYXI9Imh0dHA6Ly9zY2hvbGFyLmdvb2dsZS5jb20vc2Nob2xhcj9jaXRlcz0xMzc2MzQ5MTgxMjQwNDgxNDY4MiZhc19zZHQ9MjAwNSZzY2lvZHQ9MCw1JmhsPWVuIiwKKSkKCkRCKENpdGF0aW9uKAogICAgZmxlbXN0cvZtMjAxNWEsIHdvaGxpbjIwMTRhLCByZWY9IiIsCiAgICBjb250ZXh0cz1bCgogICAgXSwKKSkKCicnJywgY2l0YXRpb25zPSd3b2hsaW4yMDE0YScpOw==\"));\n",
       "    "
      ],
      "text/plain": [
       "<IPython.core.display.Javascript object>"
      ]
     },
     "metadata": {},
     "output_type": "display_data"
    },
    {
     "data": {
      "application/javascript": [
       "$('span:contains(\"# Temp\")').closest('.cell').remove();"
      ],
      "text/plain": [
       "<IPython.core.display.Javascript object>"
      ]
     },
     "metadata": {},
     "output_type": "display_data"
    },
    {
     "data": {
      "application/javascript": [
       "\n",
       "        $('span:contains(\"# Temp\")').closest('.cell').remove();\n",
       "        var code = IPython.notebook.insert_cell_below('code');\n",
       "        code.set_text(atob(\"IyBUZW1wCmluc2VydCgnJycKbW90dGEyMDE2YSA9IERCKFdvcmsoCiAgICAyMDE2LCAiQW5hbHl6aW5nIHRoZSBFdm9sdXRpb24gb2YgU3lzdGVtIFJlcXVpcmVtZW50cyIsCiAgICBkaXNwbGF5PSJtb3R0YSIsCiAgICBhdXRob3JzPSJNb3R0YSwgQ09SUkFETyIsCiAgICBwbGFjZTE9IkNoYWxtZXJzl1VuaXZlcnNpdHkgb2YgR290aGVuYnVyZyIsCiAgICBlbnRyeXR5cGU9ImFydGljbGUiLAogICAgSUQ9Im1vdHRhMjAxNmFuYWx5emluZyIsCiAgICBjbHVzdGVyX2lkPSI0NTYwMjgxMTI5MzUwOTU2MDMyIiwKICAgIHNjaG9sYXI9Imh0dHA6Ly9zY2hvbGFyLmdvb2dsZS5jb20vc2Nob2xhcj9jaXRlcz00NTYwMjgxMTI5MzUwOTU2MDMyJmFzX3NkdD0yMDA1JnNjaW9kdD0wLDUmaGw9ZW4iLAopKQoKREIoQ2l0YXRpb24oCiAgICBtb3R0YTIwMTZhLCB3b2hsaW4yMDE0YSwgcmVmPSIiLAogICAgY29udGV4dHM9WwoKICAgIF0sCikpCgonJycsIGNpdGF0aW9ucz0nd29obGluMjAxNGEnKTs=\"));\n",
       "    "
      ],
      "text/plain": [
       "<IPython.core.display.Javascript object>"
      ]
     },
     "metadata": {},
     "output_type": "display_data"
    },
    {
     "data": {
      "application/javascript": [
       "$('span:contains(\"# Temp\")').closest('.cell').remove();"
      ],
      "text/plain": [
       "<IPython.core.display.Javascript object>"
      ]
     },
     "metadata": {},
     "output_type": "display_data"
    },
    {
     "data": {
      "application/javascript": [
       "\n",
       "        $('span:contains(\"# Temp\")').closest('.cell').remove();\n",
       "        var code = IPython.notebook.insert_cell_below('code');\n",
       "        code.set_text(atob(\"IyBUZW1wCmluc2VydCgnJycKbW90dGEyMDE2YSA9IERCKFdvcmsoCiAgICAyMDE2LCAiQW5hbHl6aW5nIHRoZSBFdm9sdXRpb24gb2YgU3lzdGVtIFJlcXVpcmVtZW50cyIsCiAgICBkaXNwbGF5PSJtb3R0YSIsCiAgICBhdXRob3JzPSJNb3R0YSwgQ09SUkFETyIsCiAgICBwbGFjZTE9IkNoYWxtZXJzl1VuaXZlcnNpdHkgb2YgR290aGVuYnVyZyIsCiAgICBlbnRyeXR5cGU9ImFydGljbGUiLAogICAgSUQ9Im1vdHRhMjAxNmFuYWx5emluZyIsCiAgICBjbHVzdGVyX2lkPSI0NTYwMjgxMTI5MzUwOTU2MDMyIiwKICAgIHNjaG9sYXI9Imh0dHA6Ly9zY2hvbGFyLmdvb2dsZS5jb20vc2Nob2xhcj9jaXRlcz00NTYwMjgxMTI5MzUwOTU2MDMyJmFzX3NkdD0yMDA1JnNjaW9kdD0wLDUmaGw9ZW4iLAopKQoKREIoQ2l0YXRpb24oCiAgICBtb3R0YTIwMTZhLCB3b2hsaW4yMDE0YSwgcmVmPSIiLAogICAgY29udGV4dHM9WwoKICAgIF0sCikpCgonJycsIGNpdGF0aW9ucz0nd29obGluMjAxNGEnKTs=\"));\n",
       "    "
      ],
      "text/plain": [
       "<IPython.core.display.Javascript object>"
      ]
     },
     "metadata": {},
     "output_type": "display_data"
    },
    {
     "data": {
      "application/javascript": [
       "$('span:contains(\"# Temp\")').closest('.cell').remove();"
      ],
      "text/plain": [
       "<IPython.core.display.Javascript object>"
      ]
     },
     "metadata": {},
     "output_type": "display_data"
    },
    {
     "data": {
      "application/javascript": [
       "\n",
       "        $('span:contains(\"# Temp\")').closest('.cell').remove();\n",
       "        var code = IPython.notebook.insert_cell_below('code');\n",
       "        code.set_text(atob(\"IyBUZW1wCmluc2VydCgnJycKbW90dGEyMDE2YSA9IERCKFdvcmsoCiAgICAyMDE2LCAiQW5hbHl6aW5nIHRoZSBFdm9sdXRpb24gb2YgU3lzdGVtIFJlcXVpcmVtZW50cyIsCiAgICBkaXNwbGF5PSJtb3R0YSIsCiAgICBhdXRob3JzPSJNb3R0YSwgQ09SUkFETyIsCiAgICBwbGFjZTE9IkNoYWxtZXJzl1VuaXZlcnNpdHkgb2YgR290aGVuYnVyZyIsCiAgICBlbnRyeXR5cGU9ImFydGljbGUiLAogICAgSUQ9Im1vdHRhMjAxNmFuYWx5emluZyIsCiAgICBjbHVzdGVyX2lkPSI0NTYwMjgxMTI5MzUwOTU2MDMyIiwKICAgIHNjaG9sYXI9Imh0dHA6Ly9zY2hvbGFyLmdvb2dsZS5jb20vc2Nob2xhcj9jaXRlcz00NTYwMjgxMTI5MzUwOTU2MDMyJmFzX3NkdD0yMDA1JnNjaW9kdD0wLDUmaGw9ZW4iLAopKQoKREIoQ2l0YXRpb24oCiAgICBtb3R0YTIwMTZhLCB3b2hsaW4yMDE0YSwgcmVmPSIiLAogICAgY29udGV4dHM9WwoKICAgIF0sCikpCgonJycsIGNpdGF0aW9ucz0nd29obGluMjAxNGEnKTs=\"));\n",
       "    "
      ],
      "text/plain": [
       "<IPython.core.display.Javascript object>"
      ]
     },
     "metadata": {},
     "output_type": "display_data"
    },
    {
     "data": {
      "application/javascript": [
       "$('span:contains(\"# Temp\")').closest('.cell').remove();"
      ],
      "text/plain": [
       "<IPython.core.display.Javascript object>"
      ]
     },
     "metadata": {},
     "output_type": "display_data"
    },
    {
     "data": {
      "application/javascript": [
       "\n",
       "        $('span:contains(\"# Temp\")').closest('.cell').remove();\n",
       "        var code = IPython.notebook.insert_cell_below('code');\n",
       "        code.set_text(atob(\"IyBUZW1wCmluc2VydCgnJycKcmVpczIwMTVhID0gREIoV29yaygKICAgIDIwMTUsICJFc3RhZG8gZGEgQXJ0ZSBzb2JyZSBBZmV0aXZpZGFkZSBuYSBGb3JtYXvnfeNvIGRlIEdydXBvcyBlbSBBbWJpZW50ZXMgQ29sYWJvcmF0aXZvcyBkZSBBcHJlbmRpemFnZW0uIiwKICAgIGRpc3BsYXk9InJlaXMiLAogICAgYXV0aG9ycz0iUmVpcywgUmFjaGVsIENEIGFuZCBMeXJhLCBLYW1pbGEgVCBhbmQgQml0dGVuY291cnQsIElnIEkgYW5kIFJvZHJpZ3VleiwgQ2FybGEgTCBhbmQgSmFxdWVzLCBQYXRy7WNpYSBBIGFuZCBJc290YW5pLCBTZWlqaSIsCiAgICBwbGFjZTE9IlJldmlzdGEgQnJhc2lsZWlyYSBkZSBJbmZvcm3hdGljYSBuYSBFZHVjYXvnfeNvIiwKICAgIGVudHJ5dHlwZT0iYXJ0aWNsZSIsCiAgICB2b2x1bWU9IjIzIiwKICAgIG51bWJlcj0iMyIsCiAgICBJRD0icmVpczIwMTVlc3RhZG8iLAogICAgY2x1c3Rlcl9pZD0iNzUxMjA0MzY2MTk0MDM0OTI4NiIsCiAgICBzY2hvbGFyPSJodHRwOi8vc2Nob2xhci5nb29nbGUuY29tL3NjaG9sYXI/Y2l0ZXM9NzUxMjA0MzY2MTk0MDM0OTI4NiZhc19zZHQ9MjAwNSZzY2lvZHQ9MCw1JmhsPWVuIiwKKSkKCkRCKENpdGF0aW9uKAogICAgcmVpczIwMTVhLCB3b2hsaW4yMDE0YSwgcmVmPSIiLAogICAgY29udGV4dHM9WwoKICAgIF0sCikpCgonJycsIGNpdGF0aW9ucz0nd29obGluMjAxNGEnKTs=\"));\n",
       "    "
      ],
      "text/plain": [
       "<IPython.core.display.Javascript object>"
      ]
     },
     "metadata": {},
     "output_type": "display_data"
    },
    {
     "data": {
      "application/javascript": [
       "$('span:contains(\"# Temp\")').closest('.cell').remove();"
      ],
      "text/plain": [
       "<IPython.core.display.Javascript object>"
      ]
     },
     "metadata": {},
     "output_type": "display_data"
    },
    {
     "data": {
      "application/javascript": [
       "\n",
       "        $('span:contains(\"# Temp\")').closest('.cell').remove();\n",
       "        var code = IPython.notebook.insert_cell_below('code');\n",
       "        code.set_text(atob(\"IyBUZW1wCmluc2VydCgnJycKcmVpczIwMTVhID0gREIoV29yaygKICAgIDIwMTUsICJFc3RhZG8gZGEgQXJ0ZSBzb2JyZSBBZmV0aXZpZGFkZSBuYSBGb3JtYXvnfeNvIGRlIEdydXBvcyBlbSBBbWJpZW50ZXMgQ29sYWJvcmF0aXZvcyBkZSBBcHJlbmRpemFnZW0uIiwKICAgIGRpc3BsYXk9InJlaXMiLAogICAgYXV0aG9ycz0iUmVpcywgUmFjaGVsIENEIGFuZCBMeXJhLCBLYW1pbGEgVCBhbmQgQml0dGVuY291cnQsIElnIEkgYW5kIFJvZHJpZ3VleiwgQ2FybGEgTCBhbmQgSmFxdWVzLCBQYXRy7WNpYSBBIGFuZCBJc290YW5pLCBTZWlqaSIsCiAgICBwbGFjZTE9IlJldmlzdGEgQnJhc2lsZWlyYSBkZSBJbmZvcm3hdGljYSBuYSBFZHVjYXvnfeNvIiwKICAgIGVudHJ5dHlwZT0iYXJ0aWNsZSIsCiAgICB2b2x1bWU9IjIzIiwKICAgIG51bWJlcj0iMyIsCiAgICBJRD0icmVpczIwMTVlc3RhZG8iLAogICAgY2x1c3Rlcl9pZD0iNzUxMjA0MzY2MTk0MDM0OTI4NiIsCiAgICBzY2hvbGFyPSJodHRwOi8vc2Nob2xhci5nb29nbGUuY29tL3NjaG9sYXI/Y2l0ZXM9NzUxMjA0MzY2MTk0MDM0OTI4NiZhc19zZHQ9MjAwNSZzY2lvZHQ9MCw1JmhsPWVuIiwKKSkKCkRCKENpdGF0aW9uKAogICAgcmVpczIwMTVhLCB3b2hsaW4yMDE0YSwgcmVmPSIiLAogICAgY29udGV4dHM9WwoKICAgIF0sCikpCgonJycsIGNpdGF0aW9ucz0nd29obGluMjAxNGEnKTs=\"));\n",
       "    "
      ],
      "text/plain": [
       "<IPython.core.display.Javascript object>"
      ]
     },
     "metadata": {},
     "output_type": "display_data"
    }
   ],
   "source": [
    "manager\n"
   ]
  }
 ],
 "metadata": {
  "kernelspec": {
   "display_name": "Python 3",
   "language": "python",
   "name": "python3"
  },
  "language_info": {
   "codemirror_mode": {
    "name": "ipython",
    "version": 3
   },
   "file_extension": ".py",
   "mimetype": "text/x-python",
   "name": "python",
   "nbconvert_exporter": "python",
   "pygments_lexer": "ipython3",
   "version": "3.6.0"
  },
  "toc": {
   "nav_menu": {
    "height": "12px",
    "width": "252px"
   },
   "navigate_menu": true,
   "number_sections": true,
   "sideBar": true,
   "threshold": 4,
   "toc_cell": false,
   "toc_section_display": "block",
   "toc_window_display": false
  }
 },
 "nbformat": 4,
 "nbformat_minor": 1
}
