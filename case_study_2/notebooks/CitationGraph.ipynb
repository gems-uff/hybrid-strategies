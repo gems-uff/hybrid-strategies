{
 "cells": [
  {
   "cell_type": "code",
   "execution_count": 1,
   "metadata": {
    "collapsed": true,
    "scrolled": false
   },
   "outputs": [],
   "source": [
    "import os, sys\n",
    "sys.path.insert(1, os.path.join(sys.path[0], '..'))\n",
    "import database\n",
    "from snowballing.graph import Graph\n",
    "from snowballing.operations import reload\n",
    "reload()"
   ]
  },
  {
   "cell_type": "code",
   "execution_count": 2,
   "metadata": {
    "scrolled": false
   },
   "outputs": [
    {
     "data": {
      "application/vnd.jupyter.widget-view+json": {
       "model_id": "0ef82687b58946cfb4d3666352fe7104",
       "version_major": 2,
       "version_minor": 0
      },
      "text/html": [
       "<p>Failed to display Jupyter Widget of type <code>Graph</code>.</p>\n",
       "<p>\n",
       "  If you're reading this message in Jupyter Notebook or JupyterLab, it may mean\n",
       "  that the widgets JavaScript is still loading. If this message persists, it\n",
       "  likely means that the widgets JavaScript library is either not installed or\n",
       "  not enabled. See the <a href=\"https://ipywidgets.readthedocs.io/en/stable/user_install.html\">Jupyter\n",
       "  Widgets Documentation</a> for setup instructions.\n",
       "</p>\n",
       "<p>\n",
       "  If you're reading this message in another notebook frontend (for example, a static\n",
       "  rendering on GitHub or <a href=\"https://nbviewer.jupyter.org/\">NBViewer</a>),\n",
       "  it may mean that your frontend doesn't currently support widgets.\n",
       "</p>\n"
      ],
      "text/plain": [
       "Graph(children=(HBox(children=(VBox(children=(Text(value='', description='Filter In'), Text(value='', description='Filter Out'), ToggleButton(value=True, description='Work'), ToggleButton(value=True, description='WorkSnowball'), ToggleButton(value=True, description='WorkForward'), ToggleButton(value=True, description='WorkBackward'), ToggleButton(value=True, description='WorkOk'), ToggleButton(value=False, description='WorkUnrelated'), ToggleButton(value=False, description='WorkNoFile'), ToggleButton(value=False, description='WorkLang'), ToggleButton(value=False, description='Email'), HBox(children=(ColorPicker(value='#FFD86E', description='Work', layout=Layout(display='')), ColorPicker(value='black', layout=Layout(display='')))), HBox(children=(ColorPicker(value='#6DCE9E', description='WorkSnowball', layout=Layout(display='')), ColorPicker(value='white', layout=Layout(display='')))), HBox(children=(ColorPicker(value='red', description='WorkForward', layout=Layout(display='')), ColorPicker(value='white', layout=Layout(display='')))), HBox(children=(ColorPicker(value='blue', description='WorkBackward', layout=Layout(display='')), ColorPicker(value='white', layout=Layout(display='')))), HBox(children=(ColorPicker(value='#68BDF6', description='WorkOk', layout=Layout(display='')), ColorPicker(value='white', layout=Layout(display='')))), HBox(children=(ColorPicker(value='#DE9BF9', description='WorkUnrelated', layout=Layout(display='none')), ColorPicker(value='white', layout=Layout(display='none')))), HBox(children=(ColorPicker(value='#A5ABB6', description='WorkNoFile', layout=Layout(display='none')), ColorPicker(value='white', layout=Layout(display='none')))), HBox(children=(ColorPicker(value='#ff8040', description='WorkLang', layout=Layout(display='none')), ColorPicker(value='white', layout=Layout(display='none')))), HBox(children=(ColorPicker(value='#000080', description='Email', layout=Layout(display='none')), ColorPicker(value='white', layout=Layout(display='none')))), ToggleButton(value=False, description='Places'), ToggleButton(value=True, description='References'))), VBox(children=(IntSlider(value=21, description='R', max=70, min=5), IntSlider(value=59, description='Margin', max=170, min=5), IntSlider(value=21, description='M. Left', max=170, min=21), IntSlider(value=76, description='Dist. X', max=170, min=44), IntSlider(value=76, description='Dist. Y', max=170, min=44), IntSlider(value=5, description='Letters', max=5, min=1), IntSlider(value=5, description='By Year', max=50))))), Output()), layout=Layout(align_items='stretch', display='flex'))"
      ]
     },
     "metadata": {},
     "output_type": "display_data"
    }
   ],
   "source": [
    "Graph(\"graph\", delayed=False)"
   ]
  },
  {
   "cell_type": "code",
   "execution_count": null,
   "metadata": {
    "collapsed": true
   },
   "outputs": [],
   "source": [
    "\n"
   ]
  },
  {
   "cell_type": "code",
   "execution_count": null,
   "metadata": {
    "collapsed": true
   },
   "outputs": [],
   "source": []
  }
 ],
 "metadata": {
  "kernelspec": {
   "display_name": "Python 3",
   "language": "python",
   "name": "python3"
  },
  "language_info": {
   "codemirror_mode": {
    "name": "ipython",
    "version": 3
   },
   "file_extension": ".py",
   "mimetype": "text/x-python",
   "name": "python",
   "nbconvert_exporter": "python",
   "pygments_lexer": "ipython3",
   "version": "3.6.0"
  },
  "toc": {
   "nav_menu": {
    "height": "12px",
    "width": "252px"
   },
   "navigate_menu": true,
   "number_sections": true,
   "sideBar": true,
   "threshold": 4,
   "toc_cell": false,
   "toc_section_display": "block",
   "toc_window_display": false
  },
  "widgets": {
   "state": {
    "a456ba2c1dd34363a70e1a6a41e52188": {
     "views": [
      {
       "cell_index": 1
      }
     ]
    }
   },
   "version": "1.2.0"
  }
 },
 "nbformat": 4,
 "nbformat_minor": 1
}
