{
 "cells": [
  {
   "cell_type": "code",
   "execution_count": 21,
   "metadata": {
    "collapsed": true
   },
   "outputs": [],
   "source": [
    "import os, sys\n",
    "sys.path.insert(1, os.path.join(sys.path[0], '..'))\n",
    "import database\n",
    "from snowballing.operations import reload, work_by_varname, load_work_map_all_years\n",
    "from snowballing.snowballing import snowballing, create_provenance, log_to_provn\n",
    "reload()\n"
   ]
  },
  {
   "cell_type": "code",
   "execution_count": 37,
   "metadata": {},
   "outputs": [
    {
     "data": {
      "text/plain": [
       "{A systematic mapping study on technical debt and its management,\n",
       " Guidelines for Snowballing in Systematic Literature Studies and a Replication in Software Engineering}"
      ]
     },
     "execution_count": 37,
     "metadata": {},
     "output_type": "execute_result"
    }
   ],
   "source": [
    "def busca(*libraries, seed=None):\n",
    "    if seed is not None:\n",
    "        iterable = ((1, work_by_varname(x)) for x in seed)\n",
    "    else:\n",
    "        iterable = load_work_map_all_years()\n",
    "    seedset = set()\n",
    "    for _, work in iterable:\n",
    "        for library in libraries:\n",
    "            if int(getattr(work, library, 0)):\n",
    "                seedset.add(work)\n",
    "                break\n",
    "    return seedset\n",
    "    \n",
    "#busca(\"acm\", seed=[\"wohlin2014a\", \"briand2000a\"])\n",
    "busca(\"acm\")"
   ]
  },
  {
   "cell_type": "code",
   "execution_count": 39,
   "metadata": {},
   "outputs": [
    {
     "data": {
      "text/plain": [
       "2"
      ]
     },
     "execution_count": 39,
     "metadata": {},
     "output_type": "execute_result"
    }
   ],
   "source": [
    "seedset = busca(\"acm\", \"scopus\")\n",
    "acm = sum(int(getattr(x, 'acm', 0)) for x in seedset)\n",
    "acm"
   ]
  },
  {
   "cell_type": "code",
   "execution_count": 27,
   "metadata": {},
   "outputs": [
    {
     "data": {
      "text/plain": [
       "[Step(name='start', new_references=3, new_related=3, total_visited=3, total_related=3),\n",
       " Step(name='backward', new_references=21, new_related=1, total_visited=24, total_related=4),\n",
       " Step(name='forward', new_references=41, new_related=9, total_visited=65, total_related=13),\n",
       " Step(name='backward', new_references=0, new_related=0, total_visited=65, total_related=13),\n",
       " Step(name='forward', new_references=0, new_related=0, total_visited=65, total_related=13)]"
      ]
     },
     "execution_count": 27,
     "metadata": {},
     "output_type": "execute_result"
    }
   ],
   "source": [
    "from estrategias import padrao as estrategia\n",
    "#from estrategias import aplica_par_backward_forward as estrategia\n",
    "#from estrategias import todo_backward_e_depois_todo_forward as estrategia\n",
    "\n",
    "reload()\n",
    "frontier = {x for x in seedset}\n",
    "\n",
    "filter_function = lambda x: x.category in (\"snowball\", \"forward\", \"backward\")\n",
    "frontier, log, visited = estrategia(\n",
    "    frontier, filter_function\n",
    ")\n",
    "\n",
    "log"
   ]
  },
  {
   "cell_type": "code",
   "execution_count": 28,
   "metadata": {},
   "outputs": [
    {
     "data": {
      "text/plain": [
       "{A replicated assessment and comparison of common software cost modeling techniques,\n",
       " A first systematic mapping study on combinatorial interaction testing for software product lines,\n",
       " Modelling language quality evaluation in model-driven information systems engineering: A roadmap,\n",
       " Guidelines for conducting systematic mapping studies in software engineering: An update,\n",
       " Guidelines for Snowballing in Systematic Literature Studies and a Replication in Software Engineering,\n",
       " Automated testing of mobile applications: a systematic map and review,\n",
       " A review of code smell mining techniques,\n",
       " A systematic mapping study of search-based software engineering for software product lines,\n",
       " Software engineering knowledge areas in startup companies: a mapping study,\n",
       " Multiphysics and multiscale software frameworks: an annotated bibliography,\n",
       " Experiences from using snowballing and database searches in systematic literature studies,\n",
       " Evidence-based software engineering,\n",
       " A systematic mapping study on technical debt and its management}"
      ]
     },
     "execution_count": 28,
     "metadata": {},
     "output_type": "execute_result"
    }
   ],
   "source": [
    "frontier"
   ]
  },
  {
   "cell_type": "code",
   "execution_count": 4,
   "metadata": {
    "collapsed": true
   },
   "outputs": [],
   "source": [
    "with open(\"output/snowballing.provn\", \"w\") as provn:\n",
    "    provn.write(log_to_provn(log))"
   ]
  },
  {
   "cell_type": "code",
   "execution_count": 11,
   "metadata": {},
   "outputs": [
    {
     "name": "stderr",
     "output_type": "stream",
     "text": [
      "'provconvert.bat' is not recognized as an internal or external command,\n",
      "operable program or batch file.\n"
     ]
    }
   ],
   "source": [
    "!provconvert.bat -infile snowballing.provn -outfile snowballing.dot"
   ]
  },
  {
   "cell_type": "code",
   "execution_count": 12,
   "metadata": {},
   "outputs": [
    {
     "ename": "FileNotFoundError",
     "evalue": "[Errno 2] No such file or directory: 'output/snowballing.dot'",
     "output_type": "error",
     "traceback": [
      "\u001b[1;31m---------------------------------------------------------------------------\u001b[0m",
      "\u001b[1;31mFileNotFoundError\u001b[0m                         Traceback (most recent call last)",
      "\u001b[1;32m<ipython-input-12-db042d2b6207>\u001b[0m in \u001b[0;36m<module>\u001b[1;34m()\u001b[0m\n\u001b[1;32m----> 1\u001b[1;33m \u001b[1;32mwith\u001b[0m \u001b[0mopen\u001b[0m\u001b[1;33m(\u001b[0m\u001b[1;34m\"output/snowballing.dot\"\u001b[0m\u001b[1;33m,\u001b[0m \u001b[1;34m\"r\"\u001b[0m\u001b[1;33m)\u001b[0m \u001b[1;32mas\u001b[0m \u001b[0mprov_dot\u001b[0m\u001b[1;33m:\u001b[0m\u001b[1;33m\u001b[0m\u001b[0m\n\u001b[0m\u001b[0;32m      2\u001b[0m     \u001b[0mtext\u001b[0m \u001b[1;33m=\u001b[0m \u001b[0mprov_dot\u001b[0m\u001b[1;33m.\u001b[0m\u001b[0mread\u001b[0m\u001b[1;33m(\u001b[0m\u001b[1;33m)\u001b[0m\u001b[1;33m.\u001b[0m\u001b[0mreplace\u001b[0m\u001b[1;33m(\u001b[0m\u001b[1;34m'rankdir=\"BT\";'\u001b[0m\u001b[1;33m,\u001b[0m \u001b[1;34m'rankdir=\"RL\"; ranksep=\"0.1\";'\u001b[0m\u001b[1;33m)\u001b[0m\u001b[1;33m\u001b[0m\u001b[0m\n\u001b[0;32m      3\u001b[0m \u001b[1;32mwith\u001b[0m \u001b[0mopen\u001b[0m\u001b[1;33m(\u001b[0m\u001b[1;34m\"output/snowballing.dot\"\u001b[0m\u001b[1;33m,\u001b[0m \u001b[1;34m\"w\"\u001b[0m\u001b[1;33m)\u001b[0m \u001b[1;32mas\u001b[0m \u001b[0mprov_dot\u001b[0m\u001b[1;33m:\u001b[0m\u001b[1;33m\u001b[0m\u001b[0m\n\u001b[0;32m      4\u001b[0m     \u001b[0mprov_dot\u001b[0m\u001b[1;33m.\u001b[0m\u001b[0mwrite\u001b[0m\u001b[1;33m(\u001b[0m\u001b[0mtext\u001b[0m\u001b[1;33m)\u001b[0m\u001b[1;33m\u001b[0m\u001b[0m\n",
      "\u001b[1;31mFileNotFoundError\u001b[0m: [Errno 2] No such file or directory: 'output/snowballing.dot'"
     ]
    }
   ],
   "source": [
    "with open(\"output/snowballing.dot\", \"r\") as prov_dot:\n",
    "    text = prov_dot.read().replace('rankdir=\"BT\";', 'rankdir=\"RL\"; ranksep=\"0.1\";')\n",
    "with open(\"output/snowballing.dot\", \"w\") as prov_dot:\n",
    "    prov_dot.write(text)"
   ]
  },
  {
   "cell_type": "code",
   "execution_count": 13,
   "metadata": {},
   "outputs": [
    {
     "name": "stderr",
     "output_type": "stream",
     "text": [
      "'dot' is not recognized as an internal or external command,\n",
      "operable program or batch file.\n",
      "'dot' is not recognized as an internal or external command,\n",
      "operable program or batch file.\n",
      "'inkscape' is not recognized as an internal or external command,\n",
      "operable program or batch file.\n"
     ]
    }
   ],
   "source": [
    "!dot -Tpng output/snowballing.dot -ooutput/snowballing.png\n",
    "!dot -Tsvg output/snowballing.dot -ooutput/snowballing.svg\n",
    "!inkscape -D -z --file=output/snowballing.svg --export-pdf=../csur/figs/snowballing.pdf"
   ]
  },
  {
   "cell_type": "code",
   "execution_count": 14,
   "metadata": {},
   "outputs": [
    {
     "data": {
      "text/plain": [
       "64"
      ]
     },
     "execution_count": 14,
     "metadata": {},
     "output_type": "execute_result"
    }
   ],
   "source": [
    "len(visited)"
   ]
  },
  {
   "cell_type": "code",
   "execution_count": 15,
   "metadata": {},
   "outputs": [
    {
     "data": {
      "text/plain": [
       "1"
      ]
     },
     "execution_count": 15,
     "metadata": {},
     "output_type": "execute_result"
    }
   ],
   "source": [
    "len([x for x in visited if x.category in {\"snowball\"}])"
   ]
  },
  {
   "cell_type": "code",
   "execution_count": 16,
   "metadata": {},
   "outputs": [
    {
     "data": {
      "text/plain": [
       "0"
      ]
     },
     "execution_count": 16,
     "metadata": {},
     "output_type": "execute_result"
    }
   ],
   "source": [
    "from snowballing.approaches import get_approaches\n",
    "len(get_approaches())"
   ]
  },
  {
   "cell_type": "code",
   "execution_count": 18,
   "metadata": {},
   "outputs": [
    {
     "name": "stdout",
     "output_type": "stream",
     "text": [
      "Digital Library, Referencias, Citações, Qtd Backward, Qtd Forward\n",
      "(1, 52, 400, 1, 10)\n",
      "start 1\n",
      "backward 21\n",
      "forward 42\n",
      "visitados 64\n"
     ]
    }
   ],
   "source": [
    "len([(x, x.year) for x in visited\n",
    "     if x.category in {\"nofile\"}\n",
    "     if x.place.name != \"Tech Report\"\n",
    "     if x.place.name != \"Book\"\n",
    "     if x.place.name != \"Patent\"\n",
    "     if x.place.name == \"Conference\"\n",
    "     if x.display != x.place.acronym\n",
    "    ])\n",
    "#count = 0\n",
    "#for x in visited:\n",
    "#     if hasattr(x, 'dglibrary'):\n",
    "#        print(x.dglibrary)\n",
    "#        count = 1 + count\n",
    "#print (count)\n",
    "len([\n",
    "    (x, x.year) for x in visited\n",
    "     if hasattr(x, 'dglibrary') and x.dglibrary==\"Scopus\"\n",
    "    \n",
    "])\n",
    "\n",
    "def count_ref(library,obj):\n",
    "    len_dglibrary = len([(x, x.year) for x in obj\n",
    "                             if hasattr(x, 'dglibrary') and library in x.dglibrary  \n",
    "                        ])\n",
    "    len_backward = len([(x, x.year) for x in obj\n",
    "                             if x.category==\"backward\"  \n",
    "                        ])\n",
    "    len_forward = len([(x, x.year) for x in obj\n",
    "                             if x.category==\"forward\"  \n",
    "                        ])\n",
    "    qtdref=0\n",
    "    qtdcitations=0\n",
    "    for x in obj:\n",
    "        qtdref=qtdref + int(getattr(x, \"references\", 0))\n",
    "        \n",
    "    scopus = sum(int(getattr(x, \"scopus\", 0)) for x in obj)\n",
    "            \n",
    "    for x in obj:\n",
    "        qtdcitations=qtdcitations + int(getattr(x, \"citations\", 0))\n",
    "    return len_dglibrary,qtdref,qtdcitations,len_backward,len_forward\n",
    "     \n",
    "\n",
    "print (\"Digital Library, Referencias, Citações, Qtd Backward, Qtd Forward\")\n",
    "print(count_ref(\"Scopus,ACM\",visited))\n",
    "\n",
    "log\n",
    "\n",
    "print (log[0].name, log[0].new_references)\n",
    "print(log[1].name, log[1].new_references)\n",
    "print(log[3].name, log[3].new_references)\n",
    "print(\"visitados\", len(visited))"
   ]
  },
  {
   "cell_type": "code",
   "execution_count": null,
   "metadata": {
    "collapsed": true
   },
   "outputs": [],
   "source": [
    "len([x for x in visited if x.category in {\"lang\"}])"
   ]
  },
  {
   "cell_type": "code",
   "execution_count": null,
   "metadata": {
    "collapsed": true
   },
   "outputs": [],
   "source": [
    "len([x for x in visited if x.category in {\"site\"}])"
   ]
  },
  {
   "cell_type": "code",
   "execution_count": null,
   "metadata": {
    "collapsed": true
   },
   "outputs": [],
   "source": [
    "len([x for x in visited\n",
    "     if x.place.name == \"Tech Report\"\n",
    "    ])"
   ]
  },
  {
   "cell_type": "code",
   "execution_count": null,
   "metadata": {
    "collapsed": true
   },
   "outputs": [],
   "source": [
    "len([x for x in visited\n",
    "     if x.place.name == \"ESEM\"\n",
    "    ])"
   ]
  },
  {
   "cell_type": "code",
   "execution_count": null,
   "metadata": {
    "collapsed": true
   },
   "outputs": [],
   "source": [
    "{x.category for x in visited}"
   ]
  },
  {
   "cell_type": "code",
   "execution_count": null,
   "metadata": {
    "collapsed": true,
    "scrolled": true
   },
   "outputs": [],
   "source": [
    "[(x.year, x.authors, x.name, x.place.name, x.request) for x in visited\n",
    " if x.category in {\"nofile\"}\n",
    " if x.place.name != \"Tech Report\"\n",
    " if x.place.name != \"Book\"\n",
    " if x.place.name != \"Patent\"\n",
    " if x.display != x.place.acronym]"
   ]
  },
  {
   "cell_type": "code",
   "execution_count": null,
   "metadata": {
    "collapsed": true
   },
   "outputs": [],
   "source": [
    "len(_)"
   ]
  },
  {
   "cell_type": "code",
   "execution_count": null,
   "metadata": {
    "collapsed": true
   },
   "outputs": [],
   "source": []
  },
  {
   "cell_type": "code",
   "execution_count": null,
   "metadata": {
    "collapsed": true
   },
   "outputs": [],
   "source": []
  }
 ],
 "metadata": {
  "kernelspec": {
   "display_name": "Python 3",
   "language": "python",
   "name": "python3"
  },
  "language_info": {
   "codemirror_mode": {
    "name": "ipython",
    "version": 3
   },
   "file_extension": ".py",
   "mimetype": "text/x-python",
   "name": "python",
   "nbconvert_exporter": "python",
   "pygments_lexer": "ipython3",
   "version": "3.6.0"
  },
  "toc": {
   "nav_menu": {
    "height": "12px",
    "width": "252px"
   },
   "navigate_menu": true,
   "number_sections": true,
   "sideBar": true,
   "threshold": 4,
   "toc_cell": false,
   "toc_section_display": "block",
   "toc_window_display": false
  }
 },
 "nbformat": 4,
 "nbformat_minor": 1
}
