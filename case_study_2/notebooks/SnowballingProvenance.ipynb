{
 "cells": [
  {
   "cell_type": "code",
   "execution_count": 55,
   "metadata": {
    "collapsed": true
   },
   "outputs": [],
   "source": [
    "import os, sys\n",
    "sys.path.insert(1, os.path.join(sys.path[0], '..'))\n",
    "import database\n",
    "from snowballing.operations import reload, work_by_varname\n",
    "from snowballing.snowballing import snowballing, create_provenance, log_to_provn\n",
    "reload()\n"
   ]
  },
  {
   "cell_type": "code",
   "execution_count": 59,
   "metadata": {},
   "outputs": [
    {
     "data": {
      "text/plain": [
       "[Step(name='start', new_references=1, new_related=1, total_visited=1, total_related=1),\n",
       " Step(name='backward', new_references=21, new_related=1, total_visited=22, total_related=2),\n",
       " Step(name='forward', new_references=42, new_related=0, total_visited=64, total_related=2),\n",
       " Step(name='backward', new_references=0, new_related=0, total_visited=64, total_related=2)]"
      ]
     },
     "execution_count": 59,
     "metadata": {},
     "output_type": "execute_result"
    }
   ],
   "source": [
    "\n",
    "reload()\n",
    "frontier = {work_by_varname(x) for x in (\n",
    "    \"wohlin2014a\",\n",
    ")}\n",
    "filter_function = lambda x: x.category in (\"snowball\", \"forward\", \"backward\")\n",
    "frontier, log, visited = create_provenance(\n",
    "    frontier, filter_function, backward_first=True\n",
    ")\n",
    "\n",
    "log"
   ]
  },
  {
   "cell_type": "code",
   "execution_count": 69,
   "metadata": {},
   "outputs": [
    {
     "name": "stdout",
     "output_type": "stream",
     "text": [
      "operacao, seed set, encontrado\n",
      "backward ['wohlin2014a'] ['kitchenham2004a']\n",
      "backward ['wohlin2014a', 'kitchenham2004a'] []\n",
      "backward ['wohlin2014a', 'kitchenham2004a'] []\n",
      "backward ['wohlin2014a', 'kitchenham2004a'] []\n"
     ]
    },
    {
     "data": {
      "text/plain": [
       "[Step(name='start', new_references=1, new_related=1, total_visited=1, total_related=1),\n",
       " Step(name='backward', new_references=21, new_related=1, total_visited=22, total_related=2),\n",
       " Step(name='backward', new_references=0, new_related=0, total_visited=22, total_related=2),\n",
       " Step(name='backward', new_references=0, new_related=0, total_visited=22, total_related=2),\n",
       " Step(name='backward', new_references=0, new_related=0, total_visited=22, total_related=2)]"
      ]
     },
     "execution_count": 69,
     "metadata": {},
     "output_type": "execute_result"
    }
   ],
   "source": [
    "from copy import copy\n",
    "\n",
    "from snowballing.models import Work\n",
    "\n",
    "def aplica_par_backward_forward(initial_set, filter_function=None):\n",
    "    frontier = copy(initial_set)\n",
    "    with snowballing(frontier, filter_function) as (backward, forward, log, visited):\n",
    "        order = [backward, forward]\n",
    "        new_frontier = frontier\n",
    "        count = 0\n",
    "        print(\"operacao, seed set, encontrado\")\n",
    "        while count < 2:\n",
    "            temp = set()\n",
    "            for func in order:\n",
    "                count = count + 1 if not new_frontier else 0\n",
    "                new_frontier = func(frontier)\n",
    "                print(func.__name__, [x.metakey for x in frontier], [x.metakey for x in new_frontier])\n",
    "                temp.update(new_frontier)\n",
    "            frontier.update(temp)    \n",
    "            \n",
    "    return frontier, log, visited\n",
    "\n",
    "reload()\n",
    "frontier = {work_by_varname(x) for x in (\n",
    "    \"wohlin2014a\",\n",
    ")}\n",
    "filter_function = lambda x: x.category in (\"snowball\", \"forward\", \"backward\")\n",
    "frontier, log, visited = aplica_par_backward_forward(\n",
    "    frontier, filter_function,\n",
    ")\n",
    "\n",
    "log"
   ]
  },
  {
   "cell_type": "code",
   "execution_count": 71,
   "metadata": {},
   "outputs": [
    {
     "name": "stdout",
     "output_type": "stream",
     "text": [
      "operacao, seed set, encontrado\n",
      "forward ['wohlin2014a'] []\n"
     ]
    },
    {
     "data": {
      "text/plain": [
       "[Step(name='start', new_references=1, new_related=1, total_visited=1, total_related=1),\n",
       " Step(name='forward', new_references=42, new_related=0, total_visited=43, total_related=1)]"
      ]
     },
     "execution_count": 71,
     "metadata": {},
     "output_type": "execute_result"
    }
   ],
   "source": [
    "from copy import copy\n",
    "\n",
    "from snowballing.models import Work\n",
    "\n",
    "gbackward = None\n",
    "\n",
    "def todo_backward_e_depois_todo_forward(initial_set, filter_function=None):\n",
    "    frontier = copy(initial_set)\n",
    "    with snowballing(frontier, filter_function) as (backward, forward, log, visited):\n",
    "        \n",
    "        print(\"operacao, seed set, encontrado\")\n",
    "        new_frontier = frontier\n",
    "        global gbackward\n",
    "        gbackward = backward\n",
    "        while new_frontier:\n",
    "            new_frontier = backward(frontier)\n",
    "            print(\"backward\", [x.metakey for x in frontier], [x.metakey for x in new_frontier])\n",
    "            frontier.update(new_frontier)\n",
    "        new_frontier = frontier\n",
    "        while new_frontier:\n",
    "            new_frontier = forward(frontier)\n",
    "            print(\"forward\", [x.metakey for x in frontier], [x.metakey for x in new_frontier])\n",
    "            frontier.update(new_frontier)\n",
    "        \n",
    "    return frontier, log, visited\n",
    "\n",
    "reload()\n",
    "frontier = {work_by_varname(x) for x in (\n",
    "    \"wohlin2014a\",\n",
    ")}\n",
    "filter_function = lambda x: x.category in (\"snowball\", \"forward\", \"backward\")\n",
    "frontier, log, visited = todo_backward_e_depois_todo_forward(\n",
    "    frontier, filter_function,\n",
    ")\n",
    "\n",
    "log\n",
    "#len(visited)"
   ]
  },
  {
   "cell_type": "code",
   "execution_count": 68,
   "metadata": {},
   "outputs": [],
   "source": [
    "snowballing??"
   ]
  },
  {
   "cell_type": "code",
   "execution_count": 26,
   "metadata": {},
   "outputs": [
    {
     "data": {
      "text/plain": [
       "[Step(name='start', new_references=1, new_related=1, total_visited=1, total_related=1),\n",
       " Step(name='backward', new_references=21, new_related=1, total_visited=22, total_related=2),\n",
       " Step(name='forward', new_references=42, new_related=0, total_visited=64, total_related=2),\n",
       " Step(name='backward', new_references=0, new_related=0, total_visited=64, total_related=2)]"
      ]
     },
     "execution_count": 26,
     "metadata": {},
     "output_type": "execute_result"
    }
   ],
   "source": [
    "log"
   ]
  },
  {
   "cell_type": "code",
   "execution_count": 13,
   "metadata": {},
   "outputs": [
    {
     "data": {
      "text/plain": [
       "{Guidelines for Snowballing in Systematic Literature Studies and a Replication in Software Engineering,\n",
       " Evidence-based software engineering}"
      ]
     },
     "execution_count": 13,
     "metadata": {},
     "output_type": "execute_result"
    }
   ],
   "source": [
    "frontier"
   ]
  },
  {
   "cell_type": "code",
   "execution_count": 63,
   "metadata": {
    "collapsed": true
   },
   "outputs": [],
   "source": [
    "create_provenance??"
   ]
  },
  {
   "cell_type": "code",
   "execution_count": 65,
   "metadata": {},
   "outputs": [
    {
     "name": "stdout",
     "output_type": "stream",
     "text": [
      "document\n",
      "  default <http://example.org/>\n",
      "\n",
      "  activity(start, -, -)\n",
      "  entity(s0, [type=\"Set\", length=\"1\"])\n",
      "  wasGeneratedBy(g0; s0, start, -)\n",
      "\n",
      "  activity(backward1, -, -, [found=\"21\", related=\"1\"])\n",
      "  used(u0; backward1, s0, -)\n",
      "  entity(s1, [type=\"Set\", length=\"2\"])\n",
      "  wasGeneratedBy(g1; s1, backward1, -)\n",
      "  wasDerivedFrom(s1, s0, backward1, g1, u0, [prov:type=\"prov:Revision\"])\n",
      "\n",
      "  activity(forward1, -, -, [found=\"42\", related=\"0\"])\n",
      "  used(u1; forward1, s1, -)\n",
      "\n",
      "  activity(backward2, -, -, [found=\"0\", related=\"0\"])\n",
      "  used(u2; backward2, s1, -)\n",
      "\n",
      "  activity(forward2, -, -, [found=\"0\", related=\"0\"])\n",
      "  used(u3; forward2, s1, -)\n",
      "\n",
      "endDocument\n"
     ]
    }
   ],
   "source": [
    "print(log_to_provn(log))"
   ]
  },
  {
   "cell_type": "code",
   "execution_count": null,
   "metadata": {},
   "outputs": [],
   "source": [
    "with open(\"output/snowballing.provn\", \"w\") as provn:\n",
    "    provn.write(log_to_provn(log))"
   ]
  },
  {
   "cell_type": "code",
   "execution_count": null,
   "metadata": {},
   "outputs": [],
   "source": [
    "!provconvert.bat -infile snowballing.provn -outfile snowballing.dot"
   ]
  },
  {
   "cell_type": "code",
   "execution_count": null,
   "metadata": {
    "collapsed": true
   },
   "outputs": [],
   "source": [
    "with open(\"output/snowballing.dot\", \"r\") as prov_dot:\n",
    "    text = prov_dot.read().replace('rankdir=\"BT\";', 'rankdir=\"RL\"; ranksep=\"0.1\";')\n",
    "with open(\"output/snowballing.dot\", \"w\") as prov_dot:\n",
    "    prov_dot.write(text)"
   ]
  },
  {
   "cell_type": "code",
   "execution_count": null,
   "metadata": {},
   "outputs": [],
   "source": [
    "!dot -Tpng output/snowballing.dot -ooutput/snowballing.png\n",
    "!dot -Tsvg output/snowballing.dot -ooutput/snowballing.svg\n",
    "!inkscape -D -z --file=output/snowballing.svg --export-pdf=../csur/figs/snowballing.pdf"
   ]
  },
  {
   "cell_type": "code",
   "execution_count": null,
   "metadata": {},
   "outputs": [],
   "source": [
    "len(visited)"
   ]
  },
  {
   "cell_type": "code",
   "execution_count": null,
   "metadata": {},
   "outputs": [],
   "source": [
    "len([x for x in visited if x.category in {\"snowball\"}])"
   ]
  },
  {
   "cell_type": "code",
   "execution_count": null,
   "metadata": {},
   "outputs": [],
   "source": [
    "from snowballing.approaches import get_approaches\n",
    "len(get_approaches())"
   ]
  },
  {
   "cell_type": "code",
   "execution_count": null,
   "metadata": {},
   "outputs": [],
   "source": [
    "len([(x, x.year) for x in visited\n",
    "     if x.category in {\"nofile\"}\n",
    "     if x.place.name != \"Tech Report\"\n",
    "     if x.place.name != \"Book\"\n",
    "     if x.place.name != \"Patent\"\n",
    "     if x.display != x.place.acronym\n",
    "    ])"
   ]
  },
  {
   "cell_type": "code",
   "execution_count": null,
   "metadata": {},
   "outputs": [],
   "source": [
    "len([x for x in visited if x.category in {\"lang\"}])"
   ]
  },
  {
   "cell_type": "code",
   "execution_count": null,
   "metadata": {},
   "outputs": [],
   "source": [
    "len([x for x in visited if x.category in {\"site\"}])"
   ]
  },
  {
   "cell_type": "code",
   "execution_count": null,
   "metadata": {},
   "outputs": [],
   "source": [
    "len([x for x in visited\n",
    "     if x.place.name == \"Tech Report\"\n",
    "    ])"
   ]
  },
  {
   "cell_type": "code",
   "execution_count": null,
   "metadata": {},
   "outputs": [],
   "source": [
    "len([x for x in visited\n",
    "     if x.place.name == \"Book\"\n",
    "    ])"
   ]
  },
  {
   "cell_type": "code",
   "execution_count": null,
   "metadata": {},
   "outputs": [],
   "source": [
    "{x.category for x in visited}"
   ]
  },
  {
   "cell_type": "code",
   "execution_count": null,
   "metadata": {
    "scrolled": true
   },
   "outputs": [],
   "source": [
    "[(x.year, x.authors, x.name, x.place.name, x.request) for x in visited\n",
    " if x.category in {\"nofile\"}\n",
    " if x.place.name != \"Tech Report\"\n",
    " if x.place.name != \"Book\"\n",
    " if x.place.name != \"Patent\"\n",
    " if x.display != x.place.acronym]"
   ]
  },
  {
   "cell_type": "code",
   "execution_count": null,
   "metadata": {},
   "outputs": [],
   "source": [
    "len(_)"
   ]
  },
  {
   "cell_type": "code",
   "execution_count": null,
   "metadata": {
    "collapsed": true
   },
   "outputs": [],
   "source": []
  }
 ],
 "metadata": {
  "kernelspec": {
   "display_name": "Python 3",
   "language": "python",
   "name": "python3"
  },
  "language_info": {
   "codemirror_mode": {
    "name": "ipython",
    "version": 3
   },
   "file_extension": ".py",
   "mimetype": "text/x-python",
   "name": "python",
   "nbconvert_exporter": "python",
   "pygments_lexer": "ipython3",
   "version": "3.6.0"
  },
  "toc": {
   "nav_menu": {
    "height": "12px",
    "width": "252px"
   },
   "navigate_menu": true,
   "number_sections": true,
   "sideBar": true,
   "threshold": 4,
   "toc_cell": false,
   "toc_section_display": "block",
   "toc_window_display": false
  }
 },
 "nbformat": 4,
 "nbformat_minor": 1
}
