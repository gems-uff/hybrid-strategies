{
 "cells": [
  {
   "cell_type": "code",
   "execution_count": 2,
   "metadata": {
    "collapsed": true
   },
   "outputs": [],
   "source": [
    "import database\n",
    "from snowballing.operations import load_work, reload, work_by_varname\n",
    "from snowballing.snowballing import Converter\n",
    "from snowballing.snowballing import ArticleNavigator\n",
    "from snowballing.dbmanager import insert, set_attribute"
   ]
  },
  {
   "cell_type": "code",
   "execution_count": 4,
   "metadata": {
    "scrolled": false
   },
   "outputs": [
    {
     "data": {
      "application/vnd.jupyter.widget-view+json": {
       "model_id": "d3cd1d1ace2d4d0a837b9b345cadc47d",
       "version_major": 2,
       "version_minor": 0
      },
      "text/html": [
       "<p>Failed to display Jupyter Widget of type <code>VBox</code>.</p>\n",
       "<p>\n",
       "  If you're reading this message in Jupyter Notebook or JupyterLab, it may mean\n",
       "  that the widgets JavaScript is still loading. If this message persists, it\n",
       "  likely means that the widgets JavaScript library is either not installed or\n",
       "  not enabled. See the <a href=\"https://ipywidgets.readthedocs.io/en/stable/user_install.html\">Jupyter\n",
       "  Widgets Documentation</a> for setup instructions.\n",
       "</p>\n",
       "<p>\n",
       "  If you're reading this message in another notebook frontend (for example, a static\n",
       "  rendering on GitHub or <a href=\"https://nbviewer.jupyter.org/\">NBViewer</a>),\n",
       "  it may mean that your frontend doesn't currently support widgets.\n",
       "</p>\n"
      ],
      "text/plain": [
       "VBox(children=(HBox(children=(Dropdown(options={'BibTeX': 'bibtex', 'Text': 'text', '[N] author name place other year': 'citation', 'Quoted': 'quoted'}, value='bibtex'), Button(description='Set article_list variable', style=ButtonStyle()), Label(value=''))), HBox(children=(Textarea(value='', layout=Layout(height='500px', width='50%')), Textarea(value='', layout=Layout(height='500px', width='50%'))))))"
      ]
     },
     "metadata": {},
     "output_type": "display_data"
    }
   ],
   "source": [
    "Converter(\"bibtex\")"
   ]
  },
  {
   "cell_type": "code",
   "execution_count": 5,
   "metadata": {},
   "outputs": [
    {
     "data": {
      "text/plain": [
       "107"
      ]
     },
     "execution_count": 5,
     "metadata": {},
     "output_type": "execute_result"
    }
   ],
   "source": [
    "len(article_list)"
   ]
  },
  {
   "cell_type": "code",
   "execution_count": 6,
   "metadata": {
    "collapsed": true
   },
   "outputs": [],
   "source": [
    "from snowballing.operations import reload\n",
    "reload()\n"
   ]
  },
  {
   "cell_type": "code",
   "execution_count": 28,
   "metadata": {},
   "outputs": [
    {
     "data": {
      "application/vnd.jupyter.widget-view+json": {
       "model_id": "118a48f17b9d476babccc895aee0bada",
       "version_major": 2,
       "version_minor": 0
      },
      "text/html": [
       "<p>Failed to display Jupyter Widget of type <code>VBox</code>.</p>\n",
       "<p>\n",
       "  If you're reading this message in Jupyter Notebook or JupyterLab, it may mean\n",
       "  that the widgets JavaScript is still loading. If this message persists, it\n",
       "  likely means that the widgets JavaScript library is either not installed or\n",
       "  not enabled. See the <a href=\"https://ipywidgets.readthedocs.io/en/stable/user_install.html\">Jupyter\n",
       "  Widgets Documentation</a> for setup instructions.\n",
       "</p>\n",
       "<p>\n",
       "  If you're reading this message in another notebook frontend (for example, a static\n",
       "  rendering on GitHub or <a href=\"https://nbviewer.jupyter.org/\">NBViewer</a>),\n",
       "  it may mean that your frontend doesn't currently support widgets.\n",
       "</p>\n"
      ],
      "text/plain": [
       "VBox(children=(HBox(children=(Button(description='Previous Article', disabled=True, icon='caret-left', style=ButtonStyle()), Button(description='Reload Article', icon='refresh', style=ButtonStyle()), Button(description='Next Article', icon='caret-right', style=ButtonStyle()))), HBox(children=(Button(description='Unrelated: Scripts', style=ButtonStyle()), Button(description='Unrelated: Provenance', style=ButtonStyle()), Button(description='Both', style=ButtonStyle()), Button(description='Ok', style=ButtonStyle()))), HBox(children=(Dropdown(description='Type', options=('Work', 'WorkSnowball', 'WorkForward', 'WorkBackward', 'WorkOk', 'WorkUnrelated', 'WorkNoFile', 'WorkLang', 'Site', 'Email'), value='Work'), ToggleButton(value=False, description='File'))), HBox(children=(Text(value='', description='Due'), Text(value='', description='Place'))), HBox(children=(Text(value='', description='Year'), Text(value='', description='Prefix Var'))), HBox(children=(Text(value='', description='PDFPage'), Text(value='', description='Related'))), HBox(children=(Text(value='', description='Display'), Text(value='', description='Summary'))), HBox(children=(Text(value='', description='Star'), Text(value='', description='Link'))), HBox(children=(Button(description='Reload Article', icon='refresh', style=ButtonStyle()), IntSlider(value=0, max=106), Label(value='1/107'))), Output()))"
      ]
     },
     "metadata": {},
     "output_type": "display_data"
    }
   ],
   "source": [
    "ArticleNavigator(articles=article_list)"
   ]
  },
  {
   "cell_type": "code",
   "execution_count": 32,
   "metadata": {},
   "outputs": [
    {
     "data": {
      "application/vnd.jupyter.widget-view+json": {
       "model_id": "e33855da15404e6e9a685c39a972dfbe",
       "version_major": 2,
       "version_minor": 0
      },
      "text/html": [
       "<p>Failed to display Jupyter Widget of type <code>VBox</code>.</p>\n",
       "<p>\n",
       "  If you're reading this message in Jupyter Notebook or JupyterLab, it may mean\n",
       "  that the widgets JavaScript is still loading. If this message persists, it\n",
       "  likely means that the widgets JavaScript library is either not installed or\n",
       "  not enabled. See the <a href=\"https://ipywidgets.readthedocs.io/en/stable/user_install.html\">Jupyter\n",
       "  Widgets Documentation</a> for setup instructions.\n",
       "</p>\n",
       "<p>\n",
       "  If you're reading this message in another notebook frontend (for example, a static\n",
       "  rendering on GitHub or <a href=\"https://nbviewer.jupyter.org/\">NBViewer</a>),\n",
       "  it may mean that your frontend doesn't currently support widgets.\n",
       "</p>\n"
      ],
      "text/plain": [
       "VBox(children=(HBox(children=(Button(description='Previous Article', disabled=True, icon='caret-left', style=ButtonStyle()), Button(description='Reload Article', icon='refresh', style=ButtonStyle()), Button(description='Next Article', icon='caret-right', style=ButtonStyle()))), HBox(children=(Dropdown(description='Type', index=5, options=('Work', 'WorkSnowball', 'WorkForward', 'WorkBackward', 'WorkOk', 'WorkUnrelated', 'WorkNoFile', 'WorkLang', 'Site', 'Email'), value='WorkUnrelated'), ToggleButton(value=False, description='File'))), HBox(children=(Text(value='', description='Due'), Text(value='', description='Place'))), HBox(children=(Text(value='', description='Year'), Text(value='', description='Prefix Var'))), HBox(children=(Text(value='', description='PDFPage'), Text(value='', description='Related'))), HBox(children=(Text(value='', description='Display'), Text(value='', description='Summary'))), HBox(children=(Text(value='', description='Star'), Text(value='', description='Link'))), HBox(children=(Text(value='1', description='scopus'),)), HBox(children=(Button(description='Reload Article', icon='refresh', style=ButtonStyle()), IntSlider(value=0, max=106), Label(value='1/107'))), Output()))"
      ]
     },
     "metadata": {},
     "output_type": "display_data"
    },
    {
     "data": {
      "application/javascript": [
       "$('span:contains(\"# Temp\")').closest('.cell').remove();"
      ],
      "text/plain": [
       "<IPython.core.display.Javascript object>"
      ]
     },
     "metadata": {},
     "output_type": "display_data"
    },
    {
     "data": {
      "application/javascript": [
       "\n",
       "        $('span:contains(\"# Temp\")').closest('.cell').remove();\n",
       "        var code = IPython.notebook.insert_cell_below('code');\n",
       "        code.set_text(atob(\"IyBUZW1wCmluc2VydCgnJycnJycpOwpzZXRfYXR0cmlidXRlKCdjaWFuY2FyaW5pMjAxOGEnLCAnc2NvcHVzJywgJzEnKTs=\"));\n",
       "    "
      ],
      "text/plain": [
       "<IPython.core.display.Javascript object>"
      ]
     },
     "metadata": {},
     "output_type": "display_data"
    },
    {
     "data": {
      "application/javascript": [
       "$('span:contains(\"# Temp\")').closest('.cell').remove();"
      ],
      "text/plain": [
       "<IPython.core.display.Javascript object>"
      ]
     },
     "metadata": {},
     "output_type": "display_data"
    },
    {
     "data": {
      "application/javascript": [
       "\n",
       "        $('span:contains(\"# Temp\")').closest('.cell').remove();\n",
       "        var code = IPython.notebook.insert_cell_below('code');\n",
       "        code.set_text(atob(\"IyBUZW1wCmluc2VydCgnJycnJycpOwpzZXRfYXR0cmlidXRlKCdjaWFuY2FyaW5pMjAxOGEnLCAnc2NvcHVzJywgJzEnKTs=\"));\n",
       "    "
      ],
      "text/plain": [
       "<IPython.core.display.Javascript object>"
      ]
     },
     "metadata": {},
     "output_type": "display_data"
    },
    {
     "data": {
      "application/javascript": [
       "$('span:contains(\"# Temp\")').closest('.cell').remove();"
      ],
      "text/plain": [
       "<IPython.core.display.Javascript object>"
      ]
     },
     "metadata": {},
     "output_type": "display_data"
    },
    {
     "data": {
      "application/javascript": [
       "\n",
       "        $('span:contains(\"# Temp\")').closest('.cell').remove();\n",
       "        var code = IPython.notebook.insert_cell_below('code');\n",
       "        code.set_text(atob(\"IyBUZW1wCmluc2VydCgnJycnJycpOwpzZXRfYXR0cmlidXRlKCdsYXBsYW50ZTIwMTdhJywgJ3Njb3B1cycsICcxJyk7\"));\n",
       "    "
      ],
      "text/plain": [
       "<IPython.core.display.Javascript object>"
      ]
     },
     "metadata": {},
     "output_type": "display_data"
    },
    {
     "data": {
      "application/javascript": [
       "$('span:contains(\"# Temp\")').closest('.cell').remove();"
      ],
      "text/plain": [
       "<IPython.core.display.Javascript object>"
      ]
     },
     "metadata": {},
     "output_type": "display_data"
    },
    {
     "data": {
      "application/javascript": [
       "\n",
       "        $('span:contains(\"# Temp\")').closest('.cell').remove();\n",
       "        var code = IPython.notebook.insert_cell_below('code');\n",
       "        code.set_text(atob(\"IyBUZW1wCmluc2VydCgnJycnJycpOwpzZXRfYXR0cmlidXRlKCdsYXBsYW50ZTIwMTdhJywgJ3Njb3B1cycsICcxJyk7\"));\n",
       "    "
      ],
      "text/plain": [
       "<IPython.core.display.Javascript object>"
      ]
     },
     "metadata": {},
     "output_type": "display_data"
    },
    {
     "data": {
      "application/javascript": [
       "$('span:contains(\"# Temp\")').closest('.cell').remove();"
      ],
      "text/plain": [
       "<IPython.core.display.Javascript object>"
      ]
     },
     "metadata": {},
     "output_type": "display_data"
    },
    {
     "data": {
      "application/javascript": [
       "\n",
       "        $('span:contains(\"# Temp\")').closest('.cell').remove();\n",
       "        var code = IPython.notebook.insert_cell_below('code');\n",
       "        code.set_text(atob(\"IyBUZW1wCmluc2VydCgnJycnJycpOw==\"));\n",
       "    "
      ],
      "text/plain": [
       "<IPython.core.display.Javascript object>"
      ]
     },
     "metadata": {},
     "output_type": "display_data"
    },
    {
     "data": {
      "application/javascript": [
       "$('span:contains(\"# Temp\")').closest('.cell').remove();"
      ],
      "text/plain": [
       "<IPython.core.display.Javascript object>"
      ]
     },
     "metadata": {},
     "output_type": "display_data"
    },
    {
     "data": {
      "application/javascript": [
       "\n",
       "        $('span:contains(\"# Temp\")').closest('.cell').remove();\n",
       "        var code = IPython.notebook.insert_cell_below('code');\n",
       "        code.set_text(atob(\"IyBUZW1wCmluc2VydCgnJycnJycpOw==\"));\n",
       "    "
      ],
      "text/plain": [
       "<IPython.core.display.Javascript object>"
      ]
     },
     "metadata": {},
     "output_type": "display_data"
    },
    {
     "data": {
      "application/javascript": [
       "$('span:contains(\"# Temp\")').closest('.cell').remove();"
      ],
      "text/plain": [
       "<IPython.core.display.Javascript object>"
      ]
     },
     "metadata": {},
     "output_type": "display_data"
    },
    {
     "data": {
      "application/javascript": [
       "\n",
       "        $('span:contains(\"# Temp\")').closest('.cell').remove();\n",
       "        var code = IPython.notebook.insert_cell_below('code');\n",
       "        code.set_text(atob(\"IyBUZW1wCmluc2VydCgnJycnJycpOwpzZXRfYXR0cmlidXRlKCdtZW56aWVzMjAxN2EnLCAnc2NvcHVzJywgJzEnKTs=\"));\n",
       "    "
      ],
      "text/plain": [
       "<IPython.core.display.Javascript object>"
      ]
     },
     "metadata": {},
     "output_type": "display_data"
    },
    {
     "data": {
      "application/javascript": [
       "$('span:contains(\"# Temp\")').closest('.cell').remove();"
      ],
      "text/plain": [
       "<IPython.core.display.Javascript object>"
      ]
     },
     "metadata": {},
     "output_type": "display_data"
    },
    {
     "data": {
      "application/javascript": [
       "\n",
       "        $('span:contains(\"# Temp\")').closest('.cell').remove();\n",
       "        var code = IPython.notebook.insert_cell_below('code');\n",
       "        code.set_text(atob(\"IyBUZW1wCmluc2VydCgnJycnJycpOwpzZXRfYXR0cmlidXRlKCdtZW56aWVzMjAxN2EnLCAnc2NvcHVzJywgJzEnKTs=\"));\n",
       "    "
      ],
      "text/plain": [
       "<IPython.core.display.Javascript object>"
      ]
     },
     "metadata": {},
     "output_type": "display_data"
    },
    {
     "data": {
      "application/javascript": [
       "$('span:contains(\"# Temp\")').closest('.cell').remove();"
      ],
      "text/plain": [
       "<IPython.core.display.Javascript object>"
      ]
     },
     "metadata": {},
     "output_type": "display_data"
    },
    {
     "data": {
      "application/javascript": [
       "\n",
       "        $('span:contains(\"# Temp\")').closest('.cell').remove();\n",
       "        var code = IPython.notebook.insert_cell_below('code');\n",
       "        code.set_text(atob(\"IyBUZW1wCmluc2VydCgnJycKbWFzdWRhMjAxN2EgPSBEQihXb3JrVW5yZWxhdGVkKAogICAgMjAxNywgIkFuIGFkYXB0aXZlIGVudGVycHJpc2UgYXJjaGl0ZWN0dXJlIGZyYW1ld29yayBhbmQgaW1wbGVtZW50YXRpb246IFRvd2FyZHMgZ2xvYmFsIGVudGVycHJpc2VzIGluIHRoZSBlcmEgb2YgY2xvdWQvbW9iaWxlIElUL2RpZ2l0YWwgSVQiLAogICAgZGlzcGxheT0ibWFzdWRhIiwKICAgIGF1dGhvcnM9Ik1hc3VkYSwgWS4gYW5kIFNoaXJhc2FrYSwgUy4gYW5kIFlhbWFtb3RvLCBTLiBhbmQgSGFyZGpvbm8sIFQuIiwKICAgIHBwPSIxLTIyIiwKICAgIHBsYWNlMT0iSW50ZXJuYXRpb25hbCBKb3VybmFsIG9mIEVudGVycHJpc2UgSW5mb3JtYXRpb24gU3lzdGVtcyIsCiAgICBlbnRyeXR5cGU9ImFydGljbGUiLAogICAgdm9sdW1lPSIxMyIsCiAgICBudW1iZXI9IjMiLAogICAgZG9pPSIxMC40MDE4L2lqZWlzLjIwMTcwNzAxMDEiLAogICAgbm90ZT0iY2l0ZWQgQnkgMCIsCiAgICBsaW5rPSJodHRwczovL3d3dy5zY29wdXMuY29tL2lud2FyZC9yZWNvcmQudXJpP2VpZD0yLXMyLjAtODUwMjIyMTY4MjMmZG9pPTEwLjQwMTglMmZpamVpcy4yMDE3MDcwMTAxJnBhcnRuZXJJRD00MCZtZDU9ZTdmNGQxMmVjYjE3YjczNDJjNWYwNTM1OTEzNTAwYTAiLAogICAgZG9jdW1lbnRfdHlwZT0iQXJ0aWNsZSIsCiAgICBzb3VyY2U9IlNjb3B1cyIsCiAgICBJRD0iTWFzdWRhMjAxNzEiLAogICAgc2NvcHVzPSIxIiwKKSkKJycnKTs=\"));\n",
       "    "
      ],
      "text/plain": [
       "<IPython.core.display.Javascript object>"
      ]
     },
     "metadata": {},
     "output_type": "display_data"
    },
    {
     "data": {
      "application/javascript": [
       "$('span:contains(\"# Temp\")').closest('.cell').remove();"
      ],
      "text/plain": [
       "<IPython.core.display.Javascript object>"
      ]
     },
     "metadata": {},
     "output_type": "display_data"
    },
    {
     "data": {
      "application/javascript": [
       "\n",
       "        $('span:contains(\"# Temp\")').closest('.cell').remove();\n",
       "        var code = IPython.notebook.insert_cell_below('code');\n",
       "        code.set_text(atob(\"IyBUZW1wCmluc2VydCgnJycKbWFzdWRhMjAxN2EgPSBEQihXb3JrVW5yZWxhdGVkKAogICAgMjAxNywgIkFuIGFkYXB0aXZlIGVudGVycHJpc2UgYXJjaGl0ZWN0dXJlIGZyYW1ld29yayBhbmQgaW1wbGVtZW50YXRpb246IFRvd2FyZHMgZ2xvYmFsIGVudGVycHJpc2VzIGluIHRoZSBlcmEgb2YgY2xvdWQvbW9iaWxlIElUL2RpZ2l0YWwgSVQiLAogICAgZGlzcGxheT0ibWFzdWRhIiwKICAgIGF1dGhvcnM9Ik1hc3VkYSwgWS4gYW5kIFNoaXJhc2FrYSwgUy4gYW5kIFlhbWFtb3RvLCBTLiBhbmQgSGFyZGpvbm8sIFQuIiwKICAgIHBwPSIxLTIyIiwKICAgIHBsYWNlMT0iSW50ZXJuYXRpb25hbCBKb3VybmFsIG9mIEVudGVycHJpc2UgSW5mb3JtYXRpb24gU3lzdGVtcyIsCiAgICBlbnRyeXR5cGU9ImFydGljbGUiLAogICAgdm9sdW1lPSIxMyIsCiAgICBudW1iZXI9IjMiLAogICAgZG9pPSIxMC40MDE4L2lqZWlzLjIwMTcwNzAxMDEiLAogICAgbm90ZT0iY2l0ZWQgQnkgMCIsCiAgICBsaW5rPSJodHRwczovL3d3dy5zY29wdXMuY29tL2lud2FyZC9yZWNvcmQudXJpP2VpZD0yLXMyLjAtODUwMjIyMTY4MjMmZG9pPTEwLjQwMTglMmZpamVpcy4yMDE3MDcwMTAxJnBhcnRuZXJJRD00MCZtZDU9ZTdmNGQxMmVjYjE3YjczNDJjNWYwNTM1OTEzNTAwYTAiLAogICAgZG9jdW1lbnRfdHlwZT0iQXJ0aWNsZSIsCiAgICBzb3VyY2U9IlNjb3B1cyIsCiAgICBJRD0iTWFzdWRhMjAxNzEiLAogICAgc2NvcHVzPSIxIiwKKSkKJycnKTs=\"));\n",
       "    "
      ],
      "text/plain": [
       "<IPython.core.display.Javascript object>"
      ]
     },
     "metadata": {},
     "output_type": "display_data"
    }
   ],
   "source": [
    "from custom_snowballing import UnrelatedInsert\n",
    "UnrelatedInsert(\"scopus\", articles=article_list)"
   ]
  },
  {
   "cell_type": "code",
   "execution_count": null,
   "metadata": {
    "collapsed": true
   },
   "outputs": [],
   "source": [
    "# Temp\n",
    "insert('''\n",
    "masuda2017a = DB(WorkUnrelated(\n",
    "    2017, \"An adaptive enterprise architecture framework and implementation: Towards global enterprises in the era of cloud/mobile IT/digital IT\",\n",
    "    display=\"masuda\",\n",
    "    authors=\"Masuda, Y. and Shirasaka, S. and Yamamoto, S. and Hardjono, T.\",\n",
    "    pp=\"1-22\",\n",
    "    place1=\"International Journal of Enterprise Information Systems\",\n",
    "    entrytype=\"article\",\n",
    "    volume=\"13\",\n",
    "    number=\"3\",\n",
    "    doi=\"10.4018/ijeis.2017070101\",\n",
    "    note=\"cited By 0\",\n",
    "    link=\"https://www.scopus.com/inward/record.uri?eid=2-s2.0-85022216823&doi=10.4018%2fijeis.2017070101&partnerID=40&md5=e7f4d12ecb17b7342c5f0535913500a0\",\n",
    "    document_type=\"Article\",\n",
    "    source=\"Scopus\",\n",
    "    ID=\"Masuda20171\",\n",
    "    scopus=\"1\",\n",
    "))\n",
    "''');"
   ]
  },
  {
   "cell_type": "code",
   "execution_count": 7,
   "metadata": {
    "scrolled": false
   },
   "outputs": [
    {
     "data": {
      "application/vnd.jupyter.widget-view+json": {
       "model_id": "3b28852ba5a947f7a87511116eb9e3ec",
       "version_major": 2,
       "version_minor": 0
      },
      "text/html": [
       "<p>Failed to display Jupyter Widget of type <code>VBox</code>.</p>\n",
       "<p>\n",
       "  If you're reading this message in Jupyter Notebook or JupyterLab, it may mean\n",
       "  that the widgets JavaScript is still loading. If this message persists, it\n",
       "  likely means that the widgets JavaScript library is either not installed or\n",
       "  not enabled. See the <a href=\"https://ipywidgets.readthedocs.io/en/stable/user_install.html\">Jupyter\n",
       "  Widgets Documentation</a> for setup instructions.\n",
       "</p>\n",
       "<p>\n",
       "  If you're reading this message in another notebook frontend (for example, a static\n",
       "  rendering on GitHub or <a href=\"https://nbviewer.jupyter.org/\">NBViewer</a>),\n",
       "  it may mean that your frontend doesn't currently support widgets.\n",
       "</p>\n"
      ],
      "text/plain": [
       "VBox(children=(HBox(children=(Button(description='Previous Article', disabled=True, icon='caret-left', style=ButtonStyle()), Button(description='Reload Article', icon='refresh', style=ButtonStyle()), Button(description='Next Article', icon='caret-right', style=ButtonStyle()))), HBox(children=(Button(description='Unrelated: Scripts', style=ButtonStyle()), Button(description='Unrelated: Provenance', style=ButtonStyle()), Button(description='Both', style=ButtonStyle()), Button(description='Ok', style=ButtonStyle()))), HBox(children=(Dropdown(description='Type', options=('Work', 'WorkSnowball', 'WorkForward', 'WorkBackward', 'WorkOk', 'WorkUnrelated', 'WorkNoFile', 'WorkLang', 'Site', 'Email'), value='Work'), ToggleButton(value=False, description='File'))), HBox(children=(Text(value='', description='Due'), Text(value='', description='Place'))), HBox(children=(Text(value='', description='Year'), Text(value='', description='Prefix Var'))), HBox(children=(Text(value='', description='PDFPage'), Text(value='', description='Related'))), HBox(children=(Text(value='', description='Display'), Text(value='', description='Summary'))), HBox(children=(Text(value='', description='Star'), Text(value='', description='Link'))), HBox(children=(Button(description='Reload Article', icon='refresh', style=ButtonStyle()), IntSlider(value=0, max=106), Label(value='1/107'))), Output()))"
      ]
     },
     "metadata": {},
     "output_type": "display_data"
    },
    {
     "data": {
      "application/javascript": [
       "$('span:contains(\"# Temp\")').closest('.cell').remove();"
      ],
      "text/plain": [
       "<IPython.core.display.Javascript object>"
      ]
     },
     "metadata": {},
     "output_type": "display_data"
    },
    {
     "data": {
      "application/javascript": [
       "\n",
       "        $('span:contains(\"# Temp\")').closest('.cell').remove();\n",
       "        var code = IPython.notebook.insert_cell_below('code');\n",
       "        code.set_text(atob(\"IyBUZW1wCmluc2VydCgnJycKY2lhbmNhcmluaTIwMThhID0gREIoV29yaygKICAgIDIwMTgsICJBZ2lsZSBrbm93bGVkZ2UgZW5naW5lZXJpbmcgZm9yIG1pc3Npb24gY3JpdGljYWwgc29mdHdhcmUgcmVxdWlyZW1lbnRzIiwKICAgIGRpc3BsYXk9ImNpYW5jYXJpbmkiLAogICAgYXV0aG9ycz0iQ2lhbmNhcmluaSwgUC4gYW5kIE1lc3NpbmEsIEEuIGFuZCBQb2dnaSwgRi4gYW5kIFJ1c3NvLCBELiIsCiAgICBwcD0iMTUxLTE3MSIsCiAgICBwbGFjZTE9IkFkdmFuY2VzIGluIEludGVsbGlnZW50IFN5c3RlbXMgYW5kIENvbXB1dGluZyIsCiAgICBlbnRyeXR5cGU9ImFydGljbGUiLAogICAgdm9sdW1lPSI2MjYiLAogICAgZG9pPSIxMC4xMDA3Lzk3OC0zLTMxOS02NDE2MS00XzgiLAogICAgbm90ZT0iY2l0ZWQgQnkgMCIsCiAgICBsaW5rPSJodHRwczovL3d3dy5zY29wdXMuY29tL2lud2FyZC9yZWNvcmQudXJpP2VpZD0yLXMyLjAtODUwMzA3MjAyNTkmZG9pPTEwLjEwMDclMmY5NzgtMy0zMTktNjQxNjEtNF84JnBhcnRuZXJJRD00MCZtZDU9MTQ5MmU2MTkzOGUwOTNjM2VmMmZiM2I0MWVhYWM2ZmQiLAogICAgZG9jdW1lbnRfdHlwZT0iQ29uZmVyZW5jZSBQYXBlciIsCiAgICBzb3VyY2U9IlNjb3B1cyIsCiAgICBJRD0iQ2lhbmNhcmluaTIwMTgxNTEiLAopKQonJycpOw==\"));\n",
       "    "
      ],
      "text/plain": [
       "<IPython.core.display.Javascript object>"
      ]
     },
     "metadata": {},
     "output_type": "display_data"
    },
    {
     "data": {
      "application/javascript": [
       "$('span:contains(\"# Temp\")').closest('.cell').remove();"
      ],
      "text/plain": [
       "<IPython.core.display.Javascript object>"
      ]
     },
     "metadata": {},
     "output_type": "display_data"
    },
    {
     "data": {
      "application/javascript": [
       "\n",
       "        $('span:contains(\"# Temp\")').closest('.cell').remove();\n",
       "        var code = IPython.notebook.insert_cell_below('code');\n",
       "        code.set_text(atob(\"IyBUZW1wCmluc2VydCgnJycKY2lhbmNhcmluaTIwMThhID0gREIoV29yaygKICAgIDIwMTgsICJBZ2lsZSBrbm93bGVkZ2UgZW5naW5lZXJpbmcgZm9yIG1pc3Npb24gY3JpdGljYWwgc29mdHdhcmUgcmVxdWlyZW1lbnRzIiwKICAgIGRpc3BsYXk9ImNpYW5jYXJpbmkiLAogICAgYXV0aG9ycz0iQ2lhbmNhcmluaSwgUC4gYW5kIE1lc3NpbmEsIEEuIGFuZCBQb2dnaSwgRi4gYW5kIFJ1c3NvLCBELiIsCiAgICBwbGFjZT1BSVNDLAogICAgcHA9IjE1MS0xNzEiLAogICAgZW50cnl0eXBlPSJhcnRpY2xlIiwKICAgIHZvbHVtZT0iNjI2IiwKICAgIGRvaT0iMTAuMTAwNy85NzgtMy0zMTktNjQxNjEtNF84IiwKICAgIG5vdGU9ImNpdGVkIEJ5IDAiLAogICAgbGluaz0iaHR0cHM6Ly93d3cuc2NvcHVzLmNvbS9pbndhcmQvcmVjb3JkLnVyaT9laWQ9Mi1zMi4wLTg1MDMwNzIwMjU5JmRvaT0xMC4xMDA3JTJmOTc4LTMtMzE5LTY0MTYxLTRfOCZwYXJ0bmVySUQ9NDAmbWQ1PTE0OTJlNjE5MzhlMDkzYzNlZjJmYjNiNDFlYWFjNmZkIiwKICAgIGRvY3VtZW50X3R5cGU9IkNvbmZlcmVuY2UgUGFwZXIiLAogICAgc291cmNlPSJTY29wdXMiLAogICAgSUQ9IkNpYW5jYXJpbmkyMDE4MTUxIiwKKSkKJycnKTs=\"));\n",
       "    "
      ],
      "text/plain": [
       "<IPython.core.display.Javascript object>"
      ]
     },
     "metadata": {},
     "output_type": "display_data"
    },
    {
     "data": {
      "application/javascript": [
       "$('span:contains(\"# Temp\")').closest('.cell').remove();"
      ],
      "text/plain": [
       "<IPython.core.display.Javascript object>"
      ]
     },
     "metadata": {},
     "output_type": "display_data"
    },
    {
     "data": {
      "application/javascript": [
       "\n",
       "        $('span:contains(\"# Temp\")').closest('.cell').remove();\n",
       "        var code = IPython.notebook.insert_cell_below('code');\n",
       "        code.set_text(atob(\"IyBUZW1wCmluc2VydCgnJycKY2lhbmNhcmluaTIwMThhID0gREIoV29ya1VucmVsYXRlZCgKICAgIDIwMTgsICJBZ2lsZSBrbm93bGVkZ2UgZW5naW5lZXJpbmcgZm9yIG1pc3Npb24gY3JpdGljYWwgc29mdHdhcmUgcmVxdWlyZW1lbnRzIiwKICAgIGRpc3BsYXk9ImNpYW5jYXJpbmkiLAogICAgYXV0aG9ycz0iQ2lhbmNhcmluaSwgUC4gYW5kIE1lc3NpbmEsIEEuIGFuZCBQb2dnaSwgRi4gYW5kIFJ1c3NvLCBELiIsCiAgICBwbGFjZT1BSVNDLAogICAgcHA9IjE1MS0xNzEiLAogICAgZW50cnl0eXBlPSJhcnRpY2xlIiwKICAgIHZvbHVtZT0iNjI2IiwKICAgIGRvaT0iMTAuMTAwNy85NzgtMy0zMTktNjQxNjEtNF84IiwKICAgIG5vdGU9ImNpdGVkIEJ5IDAiLAogICAgbGluaz0iaHR0cHM6Ly93d3cuc2NvcHVzLmNvbS9pbndhcmQvcmVjb3JkLnVyaT9laWQ9Mi1zMi4wLTg1MDMwNzIwMjU5JmRvaT0xMC4xMDA3JTJmOTc4LTMtMzE5LTY0MTYxLTRfOCZwYXJ0bmVySUQ9NDAmbWQ1PTE0OTJlNjE5MzhlMDkzYzNlZjJmYjNiNDFlYWFjNmZkIiwKICAgIGRvY3VtZW50X3R5cGU9IkNvbmZlcmVuY2UgUGFwZXIiLAogICAgc291cmNlPSJTY29wdXMiLAogICAgSUQ9IkNpYW5jYXJpbmkyMDE4MTUxIiwKKSkKJycnKTs=\"));\n",
       "    "
      ],
      "text/plain": [
       "<IPython.core.display.Javascript object>"
      ]
     },
     "metadata": {},
     "output_type": "display_data"
    },
    {
     "data": {
      "application/javascript": [
       "$('span:contains(\"# Temp\")').closest('.cell').remove();"
      ],
      "text/plain": [
       "<IPython.core.display.Javascript object>"
      ]
     },
     "metadata": {},
     "output_type": "display_data"
    },
    {
     "data": {
      "application/javascript": [
       "\n",
       "        $('span:contains(\"# Temp\")').closest('.cell').remove();\n",
       "        var code = IPython.notebook.insert_cell_below('code');\n",
       "        code.set_text(atob(\"IyBUZW1wCmluc2VydCgnJycKbGFwbGFudGUyMDE3YSA9IERCKFdvcmtVbnJlbGF0ZWQoCiAgICAyMDE3LCAiU29mdHdhcmUgRW5naW5lZXJpbmcgb2YgU2FmZXR5LUNyaXRpY2FsIFN5c3RlbXM6IFRoZW1lcyBmcm9tIFByYWN0aXRpb25lcnMiLAogICAgZGlzcGxheT0ibGFwbGFudGUiLAogICAgYXV0aG9ycz0iTGFwbGFudGUsIFAuQS4gYW5kIERlZnJhbmNvLCBKLkYuIiwKICAgIHBwPSI4MjUtODM2IiwKICAgIHBsYWNlMT0iSUVFRSBUcmFuc2FjdGlvbnMgb24gUmVsaWFiaWxpdHkiLAogICAgZW50cnl0eXBlPSJhcnRpY2xlIiwKICAgIHZvbHVtZT0iNjYiLAogICAgbnVtYmVyPSIzIiwKICAgIGRvaT0iMTAuMTEwOS9UUi4yMDE3LjI3MzE5NTMiLAogICAgYXJ0X251bWJlcj0iODAwNjI2MCIsCiAgICBub3RlPSJjaXRlZCBCeSAwIiwKICAgIGxpbms9Imh0dHBzOi8vd3d3LnNjb3B1cy5jb20vaW53YXJkL3JlY29yZC51cmk/ZWlkPTItczIuMC04NTAyOTE4NTU5MyZkb2k9MTAuMTEwOSUyZlRSLjIwMTcuMjczMTk1MyZwYXJ0bmVySUQ9NDAmbWQ1PTZkYWM1NGE5OWVlNjVkZjQyMTYwYTI4NzgyZjUxYjQxIiwKICAgIGRvY3VtZW50X3R5cGU9IkFydGljbGUiLAogICAgc291cmNlPSJTY29wdXMiLAogICAgSUQ9IkxhcGxhbnRlMjAxNzgyNSIsCikpCicnJyk7\"));\n",
       "    "
      ],
      "text/plain": [
       "<IPython.core.display.Javascript object>"
      ]
     },
     "metadata": {},
     "output_type": "display_data"
    },
    {
     "data": {
      "application/javascript": [
       "$('span:contains(\"# Temp\")').closest('.cell').remove();"
      ],
      "text/plain": [
       "<IPython.core.display.Javascript object>"
      ]
     },
     "metadata": {},
     "output_type": "display_data"
    },
    {
     "data": {
      "application/javascript": [
       "\n",
       "        $('span:contains(\"# Temp\")').closest('.cell').remove();\n",
       "        var code = IPython.notebook.insert_cell_below('code');\n",
       "        code.set_text(atob(\"IyBUZW1wCmluc2VydCgnJycKbGFwbGFudGUyMDE3YSA9IERCKFdvcmsoCiAgICAyMDE3LCAiU29mdHdhcmUgRW5naW5lZXJpbmcgb2YgU2FmZXR5LUNyaXRpY2FsIFN5c3RlbXM6IFRoZW1lcyBmcm9tIFByYWN0aXRpb25lcnMiLAogICAgZGlzcGxheT0ibGFwbGFudGUiLAogICAgYXV0aG9ycz0iTGFwbGFudGUsIFAuQS4gYW5kIERlZnJhbmNvLCBKLkYuIiwKICAgIHBwPSI4MjUtODM2IiwKICAgIHBsYWNlMT0iSUVFRSBUcmFuc2FjdGlvbnMgb24gUmVsaWFiaWxpdHkiLAogICAgZW50cnl0eXBlPSJhcnRpY2xlIiwKICAgIHZvbHVtZT0iNjYiLAogICAgbnVtYmVyPSIzIiwKICAgIGRvaT0iMTAuMTEwOS9UUi4yMDE3LjI3MzE5NTMiLAogICAgYXJ0X251bWJlcj0iODAwNjI2MCIsCiAgICBub3RlPSJjaXRlZCBCeSAwIiwKICAgIGxpbms9Imh0dHBzOi8vd3d3LnNjb3B1cy5jb20vaW53YXJkL3JlY29yZC51cmk/ZWlkPTItczIuMC04NTAyOTE4NTU5MyZkb2k9MTAuMTEwOSUyZlRSLjIwMTcuMjczMTk1MyZwYXJ0bmVySUQ9NDAmbWQ1PTZkYWM1NGE5OWVlNjVkZjQyMTYwYTI4NzgyZjUxYjQxIiwKICAgIGRvY3VtZW50X3R5cGU9IkFydGljbGUiLAogICAgc291cmNlPSJTY29wdXMiLAogICAgSUQ9IkxhcGxhbnRlMjAxNzgyNSIsCikpCicnJyk7\"));\n",
       "    "
      ],
      "text/plain": [
       "<IPython.core.display.Javascript object>"
      ]
     },
     "metadata": {},
     "output_type": "display_data"
    },
    {
     "data": {
      "application/javascript": [
       "$('span:contains(\"# Temp\")').closest('.cell').remove();"
      ],
      "text/plain": [
       "<IPython.core.display.Javascript object>"
      ]
     },
     "metadata": {},
     "output_type": "display_data"
    },
    {
     "data": {
      "application/javascript": [
       "\n",
       "        $('span:contains(\"# Temp\")').closest('.cell').remove();\n",
       "        var code = IPython.notebook.insert_cell_below('code');\n",
       "        code.set_text(atob(\"IyBUZW1wCmluc2VydCgnJycKbGFwbGFudGUyMDE3YSA9IERCKFdvcmtVbnJlbGF0ZWQoCiAgICAyMDE3LCAiU29mdHdhcmUgRW5naW5lZXJpbmcgb2YgU2FmZXR5LUNyaXRpY2FsIFN5c3RlbXM6IFRoZW1lcyBmcm9tIFByYWN0aXRpb25lcnMiLAogICAgZGlzcGxheT0ibGFwbGFudGUiLAogICAgYXV0aG9ycz0iTGFwbGFudGUsIFAuQS4gYW5kIERlZnJhbmNvLCBKLkYuIiwKICAgIHBsYWNlPVRvUiwKICAgIHBwPSI4MjUtODM2IiwKICAgIGVudHJ5dHlwZT0iYXJ0aWNsZSIsCiAgICB2b2x1bWU9IjY2IiwKICAgIG51bWJlcj0iMyIsCiAgICBkb2k9IjEwLjExMDkvVFIuMjAxNy4yNzMxOTUzIiwKICAgIGFydF9udW1iZXI9IjgwMDYyNjAiLAogICAgbm90ZT0iY2l0ZWQgQnkgMCIsCiAgICBsaW5rPSJodHRwczovL3d3dy5zY29wdXMuY29tL2lud2FyZC9yZWNvcmQudXJpP2VpZD0yLXMyLjAtODUwMjkxODU1OTMmZG9pPTEwLjExMDklMmZUUi4yMDE3LjI3MzE5NTMmcGFydG5lcklEPTQwJm1kNT02ZGFjNTRhOTllZTY1ZGY0MjE2MGEyODc4MmY1MWI0MSIsCiAgICBkb2N1bWVudF90eXBlPSJBcnRpY2xlIiwKICAgIHNvdXJjZT0iU2NvcHVzIiwKICAgIElEPSJMYXBsYW50ZTIwMTc4MjUiLAopKQonJycpOw==\"));\n",
       "    "
      ],
      "text/plain": [
       "<IPython.core.display.Javascript object>"
      ]
     },
     "metadata": {},
     "output_type": "display_data"
    },
    {
     "data": {
      "application/javascript": [
       "$('span:contains(\"# Temp\")').closest('.cell').remove();"
      ],
      "text/plain": [
       "<IPython.core.display.Javascript object>"
      ]
     },
     "metadata": {},
     "output_type": "display_data"
    },
    {
     "data": {
      "application/javascript": [
       "\n",
       "        $('span:contains(\"# Temp\")').closest('.cell').remove();\n",
       "        var code = IPython.notebook.insert_cell_below('code');\n",
       "        code.set_text(atob(\"IyBUZW1wCmluc2VydCgnJycKc3RvcmVyMjAxN2EgPSBEQihXb3JrVW5yZWxhdGVkKAogICAgMjAxNywgIkJyaWRnaW5nIHRoZSBjaGFzbTogQSBzdXJ2ZXkgb2Ygc29md2FyZSBlbmdpbmVlcmluZyBwcmFjdGljZSBpbiBzY2llbnRpZmljIHByb2dyYW1taW5nIiwKICAgIGRpc3BsYXk9InN0b3JlciIsCiAgICBhdXRob3JzPSJTdG9yZXIsIFQuIiwKICAgIHBsYWNlMT0iQUNNIENvbXB1dGluZyBTdXJ2ZXlzIiwKICAgIGVudHJ5dHlwZT0iYXJ0aWNsZSIsCiAgICB2b2x1bWU9IjUwIiwKICAgIG51bWJlcj0iNCIsCiAgICBkb2k9IjEwLjExNDUvMzA4NDIyNSIsCiAgICBhcnRfbnVtYmVyPSI0NyIsCiAgICBub3RlPSJjaXRlZCBCeSAwIiwKICAgIGxpbms9Imh0dHBzOi8vd3d3LnNjb3B1cy5jb20vaW53YXJkL3JlY29yZC51cmk/ZWlkPTItczIuMC04NTAyODY4NjUyNSZkb2k9MTAuMTE0NSUyZjMwODQyMjUmcGFydG5lcklEPTQwJm1kNT1mYjlmY2M5MGYwMGIyYjQwOTZiOGFjYWE3ODZlZjZiMCIsCiAgICBkb2N1bWVudF90eXBlPSJSZXZpZXciLAogICAgc291cmNlPSJTY29wdXMiLAogICAgSUQ9IlN0b3JlcjIwMTciLAopKQonJycpOw==\"));\n",
       "    "
      ],
      "text/plain": [
       "<IPython.core.display.Javascript object>"
      ]
     },
     "metadata": {},
     "output_type": "display_data"
    },
    {
     "data": {
      "application/javascript": [
       "$('span:contains(\"# Temp\")').closest('.cell').remove();"
      ],
      "text/plain": [
       "<IPython.core.display.Javascript object>"
      ]
     },
     "metadata": {},
     "output_type": "display_data"
    },
    {
     "data": {
      "application/javascript": [
       "\n",
       "        $('span:contains(\"# Temp\")').closest('.cell').remove();\n",
       "        var code = IPython.notebook.insert_cell_below('code');\n",
       "        code.set_text(atob(\"IyBUZW1wCmluc2VydCgnJycKc3RvcmVyMjAxN2EgPSBEQihXb3JrKAogICAgMjAxNywgIkJyaWRnaW5nIHRoZSBjaGFzbTogQSBzdXJ2ZXkgb2Ygc29md2FyZSBlbmdpbmVlcmluZyBwcmFjdGljZSBpbiBzY2llbnRpZmljIHByb2dyYW1taW5nIiwKICAgIGRpc3BsYXk9InN0b3JlciIsCiAgICBhdXRob3JzPSJTdG9yZXIsIFQuIiwKICAgIHBsYWNlMT0iQUNNIENvbXB1dGluZyBTdXJ2ZXlzIiwKICAgIGVudHJ5dHlwZT0iYXJ0aWNsZSIsCiAgICB2b2x1bWU9IjUwIiwKICAgIG51bWJlcj0iNCIsCiAgICBkb2k9IjEwLjExNDUvMzA4NDIyNSIsCiAgICBhcnRfbnVtYmVyPSI0NyIsCiAgICBub3RlPSJjaXRlZCBCeSAwIiwKICAgIGxpbms9Imh0dHBzOi8vd3d3LnNjb3B1cy5jb20vaW53YXJkL3JlY29yZC51cmk/ZWlkPTItczIuMC04NTAyODY4NjUyNSZkb2k9MTAuMTE0NSUyZjMwODQyMjUmcGFydG5lcklEPTQwJm1kNT1mYjlmY2M5MGYwMGIyYjQwOTZiOGFjYWE3ODZlZjZiMCIsCiAgICBkb2N1bWVudF90eXBlPSJSZXZpZXciLAogICAgc291cmNlPSJTY29wdXMiLAogICAgSUQ9IlN0b3JlcjIwMTciLAopKQonJycpOw==\"));\n",
       "    "
      ],
      "text/plain": [
       "<IPython.core.display.Javascript object>"
      ]
     },
     "metadata": {},
     "output_type": "display_data"
    },
    {
     "data": {
      "application/javascript": [
       "$('span:contains(\"# Temp\")').closest('.cell').remove();"
      ],
      "text/plain": [
       "<IPython.core.display.Javascript object>"
      ]
     },
     "metadata": {},
     "output_type": "display_data"
    },
    {
     "data": {
      "application/javascript": [
       "\n",
       "        $('span:contains(\"# Temp\")').closest('.cell').remove();\n",
       "        var code = IPython.notebook.insert_cell_below('code');\n",
       "        code.set_text(atob(\"IyBUZW1wCmluc2VydCgnJycKc3RvcmVyMjAxN2EgPSBEQihXb3JrVW5yZWxhdGVkKAogICAgMjAxNywgIkJyaWRnaW5nIHRoZSBjaGFzbTogQSBzdXJ2ZXkgb2Ygc29md2FyZSBlbmdpbmVlcmluZyBwcmFjdGljZSBpbiBzY2llbnRpZmljIHByb2dyYW1taW5nIiwKICAgIGRpc3BsYXk9InN0b3JlciIsCiAgICBhdXRob3JzPSJTdG9yZXIsIFQuIiwKICAgIHBsYWNlPUNTVVIsCiAgICBlbnRyeXR5cGU9ImFydGljbGUiLAogICAgdm9sdW1lPSI1MCIsCiAgICBudW1iZXI9IjQiLAogICAgZG9pPSIxMC4xMTQ1LzMwODQyMjUiLAogICAgYXJ0X251bWJlcj0iNDciLAogICAgbm90ZT0iY2l0ZWQgQnkgMCIsCiAgICBsaW5rPSJodHRwczovL3d3dy5zY29wdXMuY29tL2lud2FyZC9yZWNvcmQudXJpP2VpZD0yLXMyLjAtODUwMjg2ODY1MjUmZG9pPTEwLjExNDUlMmYzMDg0MjI1JnBhcnRuZXJJRD00MCZtZDU9ZmI5ZmNjOTBmMDBiMmI0MDk2YjhhY2FhNzg2ZWY2YjAiLAogICAgZG9jdW1lbnRfdHlwZT0iUmV2aWV3IiwKICAgIHNvdXJjZT0iU2NvcHVzIiwKICAgIElEPSJTdG9yZXIyMDE3IiwKKSkKJycnKTs=\"));\n",
       "    "
      ],
      "text/plain": [
       "<IPython.core.display.Javascript object>"
      ]
     },
     "metadata": {},
     "output_type": "display_data"
    }
   ],
   "source": [
    "ArticleNavigator(articles=article_list)"
   ]
  },
  {
   "cell_type": "code",
   "execution_count": null,
   "metadata": {
    "collapsed": true
   },
   "outputs": [],
   "source": []
  }
 ],
 "metadata": {
  "kernelspec": {
   "display_name": "Python 3",
   "language": "python",
   "name": "python3"
  },
  "language_info": {
   "codemirror_mode": {
    "name": "ipython",
    "version": 3
   },
   "file_extension": ".py",
   "mimetype": "text/x-python",
   "name": "python",
   "nbconvert_exporter": "python",
   "pygments_lexer": "ipython3",
   "version": "3.6.0"
  },
  "toc": {
   "nav_menu": {
    "height": "12px",
    "width": "252px"
   },
   "navigate_menu": true,
   "number_sections": true,
   "sideBar": true,
   "threshold": 4,
   "toc_cell": false,
   "toc_section_display": "block",
   "toc_window_display": false
  }
 },
 "nbformat": 4,
 "nbformat_minor": 2
}
