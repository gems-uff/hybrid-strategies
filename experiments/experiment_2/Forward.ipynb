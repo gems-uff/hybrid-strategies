{
 "cells": [
  {
   "cell_type": "code",
   "execution_count": 1,
   "metadata": {
    "collapsed": true
   },
   "outputs": [],
   "source": [
    "import database\n",
    "from snowballing.operations import load_work, reload, work_by_varname\n",
    "from snowballing.selenium_scholar import SeleniumScholarQuerier\n",
    "from snowballing.snowballing import ForwardSnowballing\n",
    "from snowballing.dbmanager import insert, set_attribute\n",
    "from custom_snowballing import UnrelatedForward"
   ]
  },
  {
   "cell_type": "code",
   "execution_count": 3,
   "metadata": {
    "collapsed": true
   },
   "outputs": [],
   "source": [
    "querier = SeleniumScholarQuerier()"
   ]
  },
  {
   "cell_type": "code",
   "execution_count": 4,
   "metadata": {
    "scrolled": true
   },
   "outputs": [
    {
     "name": "stderr",
     "output_type": "stream",
     "text": [
      "[ INFO]  settings applied\n"
     ]
    }
   ],
   "source": [
    "querier.apply_settings(20, 4);"
   ]
  },
  {
   "cell_type": "code",
   "execution_count": 200,
   "metadata": {},
   "outputs": [],
   "source": [
    "#manager = ForwardSnowballing(querier, \"mendes2004a\", start=60)\n",
    "import importlib\n",
    "import custom_snowballing\n",
    "importlib.reload(custom_snowballing)\n",
    "from custom_snowballing import UnrelatedForward\n",
    "manager = UnrelatedForward(querier, \"waardenburg2013a\", start=0)"
   ]
  },
  {
   "cell_type": "code",
   "execution_count": 201,
   "metadata": {
    "scrolled": false
   },
   "outputs": [
    {
     "data": {
      "application/vnd.jupyter.widget-view+json": {
       "model_id": "c8c96c2b7d7e4b909265764aa408bac3",
       "version_major": 2,
       "version_minor": 0
      },
      "text/html": [
       "<p>Failed to display Jupyter Widget of type <code>Tab</code>.</p>\n",
       "<p>\n",
       "  If you're reading this message in Jupyter Notebook or JupyterLab, it may mean\n",
       "  that the widgets JavaScript is still loading. If this message persists, it\n",
       "  likely means that the widgets JavaScript library is either not installed or\n",
       "  not enabled. See the <a href=\"https://ipywidgets.readthedocs.io/en/stable/user_install.html\">Jupyter\n",
       "  Widgets Documentation</a> for setup instructions.\n",
       "</p>\n",
       "<p>\n",
       "  If you're reading this message in another notebook frontend (for example, a static\n",
       "  rendering on GitHub or <a href=\"https://nbviewer.jupyter.org/\">NBViewer</a>),\n",
       "  it may mean that your frontend doesn't currently support widgets.\n",
       "</p>\n"
      ],
      "text/plain": [
       "Tab(children=(VBox(children=(HBox(children=(Button(description='Previous Page', disabled=True, icon='arrow-left', style=ButtonStyle()), Button(description='Reload', icon='refresh', style=ButtonStyle()), Button(description='Next Page', icon='arrow-right', style=ButtonStyle()), ToggleButton(value=False, description='Debug'), Label(value='0'))), Output())), VBox(children=(HBox(children=(Button(description='Previous Article', disabled=True, icon='caret-left', style=ButtonStyle()), Button(description='Reload Article', icon='refresh', style=ButtonStyle()), Button(description='Next Article', icon='caret-right', style=ButtonStyle()))), HBox(children=(Button(description='Unrelated: Scripts', style=ButtonStyle()), Button(description='Unrelated: Provenance', style=ButtonStyle()), Button(description='Both', style=ButtonStyle()), Button(description='Ok', style=ButtonStyle()))), HBox(children=(Dropdown(description='Type', index=3, options=('Work', 'WorkSnowball', 'WorkOk', 'WorkUnrelated', 'WorkNoFile', 'WorkLang', 'Site', 'Email'), value='WorkUnrelated'), ToggleButton(value=False, description='File'))), HBox(children=(Text(value='', description='Due'), Text(value='', description='Place'))), HBox(children=(Text(value='', description='Year'), Text(value='', description='Prefix Var'))), HBox(children=(Text(value='', description='PDFPage'), Text(value='', description='Related'))), HBox(children=(Text(value='', description='Display'), Text(value='', description='Summary'))), HBox(children=(Text(value='', description='Star'), Text(value='', description='Link'))), HBox(children=(Button(description='Reload Article', icon='refresh', style=ButtonStyle()), IntSlider(value=0, max=19), Label(value='1/20'))), Output()))), _titles={'0': 'Page', '1': 'Article'})"
      ]
     },
     "metadata": {},
     "output_type": "display_data"
    },
    {
     "data": {
      "application/javascript": [
       "$('span:contains(\"# Temp\")').closest('.cell').remove();"
      ],
      "text/plain": [
       "<IPython.core.display.Javascript object>"
      ]
     },
     "metadata": {},
     "output_type": "display_data"
    },
    {
     "data": {
      "application/javascript": [
       "\n",
       "        $('span:contains(\"# Temp\")').closest('.cell').remove();\n",
       "        var code = IPython.notebook.insert_cell_below('code');\n",
       "        code.set_text(decodeURIComponent(window.atob(\"JTIzJTIwVGVtcCUwQWluc2VydCUyOCUyNyUyNyUyNyUwQURCJTI4Q2l0YXRpb24lMjglMEElMjAlMjAlMjAlMjBjYW1wYW5lbGxpMjAxNWElMkMlMjB3YWFyZGVuYnVyZzIwMTNhJTJDJTIwcmVmJTNEJTIyJTIyJTJDJTBBJTIwJTIwJTIwJTIwY29udGV4dHMlM0QlNUIlMEElMEElMjAlMjAlMjAlMjAlNUQlMkMlMEElMjklMjklMEElMEElMjclMjclMjclMkMlMjBjaXRhdGlvbnMlM0QlMjd3YWFyZGVuYnVyZzIwMTNhJTI3JTI5JTNCJTBBc2V0X2F0dHJpYnV0ZSUyOCUyN2NhbXBhbmVsbGkyMDE1YSUyNyUyQyUyMCUyN2NsdXN0ZXJfaWQlMjclMkMlMjAlMjcxMzYwODM4OTUyNDg5MzcxOTI2NyUyNyUyOSUzQiUwQXNldF9hdHRyaWJ1dGUlMjglMjdjYW1wYW5lbGxpMjAxNWElMjclMkMlMjAlMjdzY2hvbGFyJTI3JTJDJTIwJTI3aHR0cCUzQS8vc2Nob2xhci5nb29nbGUuY29tL3NjaG9sYXIlM0ZjaXRlcyUzRDEzNjA4Mzg5NTI0ODkzNzE5MjY3JTI2YXNfc2R0JTNEMjAwNSUyNnNjaW9kdCUzRDAlMkM1JTI2aGwlM0RlbiUyNyUyOSUzQg==\")));\n",
       "    "
      ],
      "text/plain": [
       "<IPython.core.display.Javascript object>"
      ]
     },
     "metadata": {},
     "output_type": "display_data"
    },
    {
     "data": {
      "application/javascript": [
       "$('span:contains(\"# Temp\")').closest('.cell').remove();"
      ],
      "text/plain": [
       "<IPython.core.display.Javascript object>"
      ]
     },
     "metadata": {},
     "output_type": "display_data"
    },
    {
     "data": {
      "application/javascript": [
       "\n",
       "        $('span:contains(\"# Temp\")').closest('.cell').remove();\n",
       "        var code = IPython.notebook.insert_cell_below('code');\n",
       "        code.set_text(decodeURIComponent(window.atob(\"JTIzJTIwVGVtcCUwQWluc2VydCUyOCUyNyUyNyUyNyUwQURCJTI4Q2l0YXRpb24lMjglMEElMjAlMjAlMjAlMjBncmVnb3J5MjAxNmElMkMlMjB3YWFyZGVuYnVyZzIwMTNhJTJDJTIwcmVmJTNEJTIyJTIyJTJDJTBBJTIwJTIwJTIwJTIwY29udGV4dHMlM0QlNUIlMEElMEElMjAlMjAlMjAlMjAlNUQlMkMlMEElMjklMjklMEElMEElMjclMjclMjclMkMlMjBjaXRhdGlvbnMlM0QlMjd3YWFyZGVuYnVyZzIwMTNhJTI3JTI5JTNCJTBBc2V0X2F0dHJpYnV0ZSUyOCUyN2dyZWdvcnkyMDE2YSUyNyUyQyUyMCUyN2NsdXN0ZXJfaWQlMjclMkMlMjAlMjcxNTY1OTc0OTE2MjgyMzcxNDYxMyUyNyUyOSUzQiUwQXNldF9hdHRyaWJ1dGUlMjglMjdncmVnb3J5MjAxNmElMjclMkMlMjAlMjdzY2hvbGFyJTI3JTJDJTIwJTI3aHR0cCUzQS8vc2Nob2xhci5nb29nbGUuY29tL3NjaG9sYXIlM0ZjaXRlcyUzRDE1NjU5NzQ5MTYyODIzNzE0NjEzJTI2YXNfc2R0JTNEMjAwNSUyNnNjaW9kdCUzRDAlMkM1JTI2aGwlM0RlbiUyNyUyOSUzQg==\")));\n",
       "    "
      ],
      "text/plain": [
       "<IPython.core.display.Javascript object>"
      ]
     },
     "metadata": {},
     "output_type": "display_data"
    },
    {
     "data": {
      "application/javascript": [
       "$('span:contains(\"# Temp\")').closest('.cell').remove();"
      ],
      "text/plain": [
       "<IPython.core.display.Javascript object>"
      ]
     },
     "metadata": {},
     "output_type": "display_data"
    },
    {
     "data": {
      "application/javascript": [
       "\n",
       "        $('span:contains(\"# Temp\")').closest('.cell').remove();\n",
       "        var code = IPython.notebook.insert_cell_below('code');\n",
       "        code.set_text(decodeURIComponent(window.atob(\"JTIzJTIwVGVtcCUwQWluc2VydCUyOCUyNyUyNyUyNyUwQURCJTI4Q2l0YXRpb24lMjglMEElMjAlMjAlMjAlMjBncmVnb3J5MjAxNmElMkMlMjB3YWFyZGVuYnVyZzIwMTNhJTJDJTIwcmVmJTNEJTIyJTIyJTJDJTBBJTIwJTIwJTIwJTIwY29udGV4dHMlM0QlNUIlMEElMEElMjAlMjAlMjAlMjAlNUQlMkMlMEElMjklMjklMEElMEElMjclMjclMjclMkMlMjBjaXRhdGlvbnMlM0QlMjd3YWFyZGVuYnVyZzIwMTNhJTI3JTI5JTNCJTBBc2V0X2F0dHJpYnV0ZSUyOCUyN2dyZWdvcnkyMDE2YSUyNyUyQyUyMCUyN2NsdXN0ZXJfaWQlMjclMkMlMjAlMjcxNTY1OTc0OTE2MjgyMzcxNDYxMyUyNyUyOSUzQiUwQXNldF9hdHRyaWJ1dGUlMjglMjdncmVnb3J5MjAxNmElMjclMkMlMjAlMjdzY2hvbGFyJTI3JTJDJTIwJTI3aHR0cCUzQS8vc2Nob2xhci5nb29nbGUuY29tL3NjaG9sYXIlM0ZjaXRlcyUzRDE1NjU5NzQ5MTYyODIzNzE0NjEzJTI2YXNfc2R0JTNEMjAwNSUyNnNjaW9kdCUzRDAlMkM1JTI2aGwlM0RlbiUyNyUyOSUzQg==\")));\n",
       "    "
      ],
      "text/plain": [
       "<IPython.core.display.Javascript object>"
      ]
     },
     "metadata": {},
     "output_type": "display_data"
    },
    {
     "data": {
      "application/javascript": [
       "$('span:contains(\"# Temp\")').closest('.cell').remove();"
      ],
      "text/plain": [
       "<IPython.core.display.Javascript object>"
      ]
     },
     "metadata": {},
     "output_type": "display_data"
    },
    {
     "data": {
      "application/javascript": [
       "\n",
       "        $('span:contains(\"# Temp\")').closest('.cell').remove();\n",
       "        var code = IPython.notebook.insert_cell_below('code');\n",
       "        code.set_text(decodeURIComponent(window.atob(\"JTIzJTIwVGVtcCUwQWluc2VydCUyOCUyNyUyNyUyNyUwQURCJTI4Q2l0YXRpb24lMjglMEElMjAlMjAlMjAlMjB0YXJoYW4yMDE0YSUyQyUyMHdhYXJkZW5idXJnMjAxM2ElMkMlMjByZWYlM0QlMjIlMjIlMkMlMEElMjAlMjAlMjAlMjBjb250ZXh0cyUzRCU1QiUwQSUwQSUyMCUyMCUyMCUyMCU1RCUyQyUwQSUyOSUyOSUwQSUwQSUyNyUyNyUyNyUyQyUyMGNpdGF0aW9ucyUzRCUyN3dhYXJkZW5idXJnMjAxM2ElMjclMjklM0IlMEFzZXRfYXR0cmlidXRlJTI4JTI3dGFyaGFuMjAxNGElMjclMkMlMjAlMjdjbHVzdGVyX2lkJTI3JTJDJTIwJTI3MjMzNzU5NzI3MjUyNzkwMjQ1MyUyNyUyOSUzQiUwQXNldF9hdHRyaWJ1dGUlMjglMjd0YXJoYW4yMDE0YSUyNyUyQyUyMCUyN3NjaG9sYXIlMjclMkMlMjAlMjdodHRwJTNBLy9zY2hvbGFyLmdvb2dsZS5jb20vc2Nob2xhciUzRmNpdGVzJTNEMjMzNzU5NzI3MjUyNzkwMjQ1MyUyNmFzX3NkdCUzRDIwMDUlMjZzY2lvZHQlM0QwJTJDNSUyNmhsJTNEZW4lMjclMjklM0I=\")));\n",
       "    "
      ],
      "text/plain": [
       "<IPython.core.display.Javascript object>"
      ]
     },
     "metadata": {},
     "output_type": "display_data"
    },
    {
     "data": {
      "application/javascript": [
       "$('span:contains(\"# Temp\")').closest('.cell').remove();"
      ],
      "text/plain": [
       "<IPython.core.display.Javascript object>"
      ]
     },
     "metadata": {},
     "output_type": "display_data"
    },
    {
     "data": {
      "application/javascript": [
       "\n",
       "        $('span:contains(\"# Temp\")').closest('.cell').remove();\n",
       "        var code = IPython.notebook.insert_cell_below('code');\n",
       "        code.set_text(decodeURIComponent(window.atob(\"JTIzJTIwVGVtcCUwQWluc2VydCUyOCUyNyUyNyUyNyUwQURCJTI4Q2l0YXRpb24lMjglMEElMjAlMjAlMjAlMjB0YXJoYW4yMDE0YSUyQyUyMHdhYXJkZW5idXJnMjAxM2ElMkMlMjByZWYlM0QlMjIlMjIlMkMlMEElMjAlMjAlMjAlMjBjb250ZXh0cyUzRCU1QiUwQSUwQSUyMCUyMCUyMCUyMCU1RCUyQyUwQSUyOSUyOSUwQSUwQSUyNyUyNyUyNyUyQyUyMGNpdGF0aW9ucyUzRCUyN3dhYXJkZW5idXJnMjAxM2ElMjclMjklM0IlMEFzZXRfYXR0cmlidXRlJTI4JTI3dGFyaGFuMjAxNGElMjclMkMlMjAlMjdjbHVzdGVyX2lkJTI3JTJDJTIwJTI3MjMzNzU5NzI3MjUyNzkwMjQ1MyUyNyUyOSUzQiUwQXNldF9hdHRyaWJ1dGUlMjglMjd0YXJoYW4yMDE0YSUyNyUyQyUyMCUyN3NjaG9sYXIlMjclMkMlMjAlMjdodHRwJTNBLy9zY2hvbGFyLmdvb2dsZS5jb20vc2Nob2xhciUzRmNpdGVzJTNEMjMzNzU5NzI3MjUyNzkwMjQ1MyUyNmFzX3NkdCUzRDIwMDUlMjZzY2lvZHQlM0QwJTJDNSUyNmhsJTNEZW4lMjclMjklM0I=\")));\n",
       "    "
      ],
      "text/plain": [
       "<IPython.core.display.Javascript object>"
      ]
     },
     "metadata": {},
     "output_type": "display_data"
    },
    {
     "data": {
      "application/javascript": [
       "$('span:contains(\"# Temp\")').closest('.cell').remove();"
      ],
      "text/plain": [
       "<IPython.core.display.Javascript object>"
      ]
     },
     "metadata": {},
     "output_type": "display_data"
    },
    {
     "data": {
      "application/javascript": [
       "\n",
       "        $('span:contains(\"# Temp\")').closest('.cell').remove();\n",
       "        var code = IPython.notebook.insert_cell_below('code');\n",
       "        code.set_text(decodeURIComponent(window.atob(\"JTIzJTIwVGVtcCUwQWluc2VydCUyOCUyNyUyNyUyNyUwQURCJTI4Q2l0YXRpb24lMjglMEElMjAlMjAlMjAlMjB2bGlldGxhbmQyMDE1YSUyQyUyMHdhYXJkZW5idXJnMjAxM2ElMkMlMjByZWYlM0QlMjIlMjIlMkMlMEElMjAlMjAlMjAlMjBjb250ZXh0cyUzRCU1QiUwQSUwQSUyMCUyMCUyMCUyMCU1RCUyQyUwQSUyOSUyOSUwQSUwQSUyNyUyNyUyNyUyQyUyMGNpdGF0aW9ucyUzRCUyN3dhYXJkZW5idXJnMjAxM2ElMjclMjklM0I=\")));\n",
       "    "
      ],
      "text/plain": [
       "<IPython.core.display.Javascript object>"
      ]
     },
     "metadata": {},
     "output_type": "display_data"
    },
    {
     "data": {
      "application/javascript": [
       "$('span:contains(\"# Temp\")').closest('.cell').remove();"
      ],
      "text/plain": [
       "<IPython.core.display.Javascript object>"
      ]
     },
     "metadata": {},
     "output_type": "display_data"
    },
    {
     "data": {
      "application/javascript": [
       "\n",
       "        $('span:contains(\"# Temp\")').closest('.cell').remove();\n",
       "        var code = IPython.notebook.insert_cell_below('code');\n",
       "        code.set_text(decodeURIComponent(window.atob(\"JTIzJTIwVGVtcCUwQWluc2VydCUyOCUyNyUyNyUyNyUwQURCJTI4Q2l0YXRpb24lMjglMEElMjAlMjAlMjAlMjB2bGlldGxhbmQyMDE1YSUyQyUyMHdhYXJkZW5idXJnMjAxM2ElMkMlMjByZWYlM0QlMjIlMjIlMkMlMEElMjAlMjAlMjAlMjBjb250ZXh0cyUzRCU1QiUwQSUwQSUyMCUyMCUyMCUyMCU1RCUyQyUwQSUyOSUyOSUwQSUwQSUyNyUyNyUyNyUyQyUyMGNpdGF0aW9ucyUzRCUyN3dhYXJkZW5idXJnMjAxM2ElMjclMjklM0I=\")));\n",
       "    "
      ],
      "text/plain": [
       "<IPython.core.display.Javascript object>"
      ]
     },
     "metadata": {},
     "output_type": "display_data"
    },
    {
     "data": {
      "application/javascript": [
       "$('span:contains(\"# Temp\")').closest('.cell').remove();"
      ],
      "text/plain": [
       "<IPython.core.display.Javascript object>"
      ]
     },
     "metadata": {},
     "output_type": "display_data"
    },
    {
     "data": {
      "application/javascript": [
       "\n",
       "        $('span:contains(\"# Temp\")').closest('.cell').remove();\n",
       "        var code = IPython.notebook.insert_cell_below('code');\n",
       "        code.set_text(decodeURIComponent(window.atob(\"JTIzJTIwVGVtcCUwQWluc2VydCUyOCUyNyUyNyUyNyUwQWJhc3MyMDE1YSUyMCUzRCUyMERCJTI4V29ya1VucmVsYXRlZCUyOCUwQSUyMCUyMCUyMCUyMDIwMTUlMkMlMjAlMjJIb3clMjBwcm9kdWN0JTIwb3duZXIlMjB0ZWFtcyUyMHNjYWxlJTIwYWdpbGUlMjBtZXRob2RzJTIwdG8lMjBsYXJnZSUyMGRpc3RyaWJ1dGVkJTIwZW50ZXJwcmlzZXMlMjIlMkMlMEElMjAlMjAlMjAlMjBkaXNwbGF5JTNEJTIyYmFzcyUyMiUyQyUwQSUyMCUyMCUyMCUyMGF1dGhvcnMlM0QlMjJCYXNzJTJDJTIwSnVsaWFuJTIwTSUyMiUyQyUwQSUyMCUyMCUyMCUyMHBsYWNlJTNERVNFJTJDJTBBJTIwJTIwJTIwJTIwcHAlM0QlMjIxNTI1LS0xNTU3JTIyJTJDJTBBJTIwJTIwJTIwJTIwZW50cnl0eXBlJTNEJTIyYXJ0aWNsZSUyMiUyQyUwQSUyMCUyMCUyMCUyMHZvbHVtZSUzRCUyMjIwJTIyJTJDJTBBJTIwJTIwJTIwJTIwbnVtYmVyJTNEJTIyNiUyMiUyQyUwQSUyMCUyMCUyMCUyMHB1Ymxpc2hlciUzRCUyMlNwcmluZ2VyJTIyJTJDJTBBJTIwJTIwJTIwJTIwSUQlM0QlMjJiYXNzMjAxNXByb2R1Y3QlMjIlMkMlMEElMjAlMjAlMjAlMjBjbHVzdGVyX2lkJTNEJTIyODUyOTkyNzk4MjAzODI0NDY5OSUyMiUyQyUwQSUyMCUyMCUyMCUyMHNjaG9sYXIlM0QlMjJodHRwJTNBLy9zY2hvbGFyLmdvb2dsZS5jb20vc2Nob2xhciUzRmNpdGVzJTNEODUyOTkyNzk4MjAzODI0NDY5OSUyNmFzX3NkdCUzRDIwMDUlMjZzY2lvZHQlM0QwJTJDNSUyNmhsJTNEZW4lMjIlMkMlMEElMjAlMjAlMjAlMjBwbGFjZXglM0QlMjJFbXBpcmljYWwlMjBTb2Z0d2FyZSUyMEVuZ2luZWVyaW5nJTIyJTJDJTBBJTI5JTI5JTBBJTBBREIlMjhDaXRhdGlvbiUyOCUwQSUyMCUyMCUyMCUyMGJhc3MyMDE1YSUyQyUyMHdhYXJkZW5idXJnMjAxM2ElMkMlMjByZWYlM0QlMjIlMjIlMkMlMEElMjAlMjAlMjAlMjBjb250ZXh0cyUzRCU1QiUwQSUwQSUyMCUyMCUyMCUyMCU1RCUyQyUwQSUyOSUyOSUwQSUwQSUyNyUyNyUyNyUyQyUyMGNpdGF0aW9ucyUzRCUyN3dhYXJkZW5idXJnMjAxM2ElMjclMjklM0I=\")));\n",
       "    "
      ],
      "text/plain": [
       "<IPython.core.display.Javascript object>"
      ]
     },
     "metadata": {},
     "output_type": "display_data"
    },
    {
     "data": {
      "application/javascript": [
       "$('span:contains(\"# Temp\")').closest('.cell').remove();"
      ],
      "text/plain": [
       "<IPython.core.display.Javascript object>"
      ]
     },
     "metadata": {},
     "output_type": "display_data"
    },
    {
     "data": {
      "application/javascript": [
       "\n",
       "        $('span:contains(\"# Temp\")').closest('.cell').remove();\n",
       "        var code = IPython.notebook.insert_cell_below('code');\n",
       "        code.set_text(decodeURIComponent(window.atob(\"JTIzJTIwVGVtcCUwQWluc2VydCUyOCUyNyUyNyUyNyUwQWJhc3MyMDE1YSUyMCUzRCUyMERCJTI4V29ya1VucmVsYXRlZCUyOCUwQSUyMCUyMCUyMCUyMDIwMTUlMkMlMjAlMjJIb3clMjBwcm9kdWN0JTIwb3duZXIlMjB0ZWFtcyUyMHNjYWxlJTIwYWdpbGUlMjBtZXRob2RzJTIwdG8lMjBsYXJnZSUyMGRpc3RyaWJ1dGVkJTIwZW50ZXJwcmlzZXMlMjIlMkMlMEElMjAlMjAlMjAlMjBkaXNwbGF5JTNEJTIyYmFzcyUyMiUyQyUwQSUyMCUyMCUyMCUyMGF1dGhvcnMlM0QlMjJCYXNzJTJDJTIwSnVsaWFuJTIwTSUyMiUyQyUwQSUyMCUyMCUyMCUyMHBsYWNlJTNERVNFJTJDJTBBJTIwJTIwJTIwJTIwcHAlM0QlMjIxNTI1LS0xNTU3JTIyJTJDJTBBJTIwJTIwJTIwJTIwZW50cnl0eXBlJTNEJTIyYXJ0aWNsZSUyMiUyQyUwQSUyMCUyMCUyMCUyMHZvbHVtZSUzRCUyMjIwJTIyJTJDJTBBJTIwJTIwJTIwJTIwbnVtYmVyJTNEJTIyNiUyMiUyQyUwQSUyMCUyMCUyMCUyMHB1Ymxpc2hlciUzRCUyMlNwcmluZ2VyJTIyJTJDJTBBJTIwJTIwJTIwJTIwSUQlM0QlMjJiYXNzMjAxNXByb2R1Y3QlMjIlMkMlMEElMjAlMjAlMjAlMjBjbHVzdGVyX2lkJTNEJTIyODUyOTkyNzk4MjAzODI0NDY5OSUyMiUyQyUwQSUyMCUyMCUyMCUyMHNjaG9sYXIlM0QlMjJodHRwJTNBLy9zY2hvbGFyLmdvb2dsZS5jb20vc2Nob2xhciUzRmNpdGVzJTNEODUyOTkyNzk4MjAzODI0NDY5OSUyNmFzX3NkdCUzRDIwMDUlMjZzY2lvZHQlM0QwJTJDNSUyNmhsJTNEZW4lMjIlMkMlMEElMjAlMjAlMjAlMjBwbGFjZXglM0QlMjJFbXBpcmljYWwlMjBTb2Z0d2FyZSUyMEVuZ2luZWVyaW5nJTIyJTJDJTBBJTI5JTI5JTBBJTBBREIlMjhDaXRhdGlvbiUyOCUwQSUyMCUyMCUyMCUyMGJhc3MyMDE1YSUyQyUyMHdhYXJkZW5idXJnMjAxM2ElMkMlMjByZWYlM0QlMjIlMjIlMkMlMEElMjAlMjAlMjAlMjBjb250ZXh0cyUzRCU1QiUwQSUwQSUyMCUyMCUyMCUyMCU1RCUyQyUwQSUyOSUyOSUwQSUwQSUyNyUyNyUyNyUyQyUyMGNpdGF0aW9ucyUzRCUyN3dhYXJkZW5idXJnMjAxM2ElMjclMjklM0I=\")));\n",
       "    "
      ],
      "text/plain": [
       "<IPython.core.display.Javascript object>"
      ]
     },
     "metadata": {},
     "output_type": "display_data"
    },
    {
     "data": {
      "application/javascript": [
       "$('span:contains(\"# Temp\")').closest('.cell').remove();"
      ],
      "text/plain": [
       "<IPython.core.display.Javascript object>"
      ]
     },
     "metadata": {},
     "output_type": "display_data"
    },
    {
     "data": {
      "application/javascript": [
       "\n",
       "        $('span:contains(\"# Temp\")').closest('.cell').remove();\n",
       "        var code = IPython.notebook.insert_cell_below('code');\n",
       "        code.set_text(decodeURIComponent(window.atob(\"JTIzJTIwVGVtcCUwQWluc2VydCUyOCUyNyUyNyUyNyUwQWJhc3MyMDE0YSUyMCUzRCUyMERCJTI4V29ya1VucmVsYXRlZCUyOCUwQSUyMCUyMCUyMCUyMDIwMTQlMkMlMjAlMjJTY3J1bSUyMG1hc3RlciUyMGFjdGl2aXRpZXMlM0ElMjBwcm9jZXNzJTIwdGFpbG9yaW5nJTIwaW4lMjBsYXJnZSUyMGVudGVycHJpc2UlMjBwcm9qZWN0cyUyMiUyQyUwQSUyMCUyMCUyMCUyMGRpc3BsYXklM0QlMjJiYXNzJTIyJTJDJTBBJTIwJTIwJTIwJTIwYXV0aG9ycyUzRCUyMkJhc3MlMkMlMjBKdWxpYW4lMjBNJTIyJTJDJTBBJTIwJTIwJTIwJTIwcGxhY2UlM0RJQ1NFJTJDJTBBJTIwJTIwJTIwJTIwcHAlM0QlMjI2LS0xNSUyMiUyQyUwQSUyMCUyMCUyMCUyMGVudHJ5dHlwZSUzRCUyMmlucHJvY2VlZGluZ3MlMjIlMkMlMEElMjAlMjAlMjAlMjBvcmdhbml6YXRpb24lM0QlMjJJRUVFJTIyJTJDJTBBJTIwJTIwJTIwJTIwSUQlM0QlMjJiYXNzMjAxNHNjcnVtJTIyJTJDJTBBJTIwJTIwJTIwJTIwY2x1c3Rlcl9pZCUzRCUyMjEyNjE0MzA4MjMzNjAwMTMyNzMlMjIlMkMlMEElMjAlMjAlMjAlMjBzY2hvbGFyJTNEJTIyaHR0cCUzQS8vc2Nob2xhci5nb29nbGUuY29tL3NjaG9sYXIlM0ZjaXRlcyUzRDEyNjE0MzA4MjMzNjAwMTMyNzMlMjZhc19zZHQlM0QyMDA1JTI2c2Npb2R0JTNEMCUyQzUlMjZobCUzRGVuJTIyJTJDJTBBJTIwJTIwJTIwJTIwcGxhY2V4JTNEJTIyR2xvYmFsJTIwU29mdHdhcmUlMjBFbmdpbmVlcmluZyUyMCUyOElDR1NFJTI5JTJDJTIwMjAxNCUyMElFRUUlMjA5dGglMjBJbnRlcm5hdGlvbmFsJTIwQ29uZmVyZW5jZSUyMG9uJTIyJTJDJTBBJTI5JTI5JTBBJTBBREIlMjhDaXRhdGlvbiUyOCUwQSUyMCUyMCUyMCUyMGJhc3MyMDE0YSUyQyUyMHdhYXJkZW5idXJnMjAxM2ElMkMlMjByZWYlM0QlMjIlMjIlMkMlMEElMjAlMjAlMjAlMjBjb250ZXh0cyUzRCU1QiUwQSUwQSUyMCUyMCUyMCUyMCU1RCUyQyUwQSUyOSUyOSUwQSUwQSUyNyUyNyUyNyUyQyUyMGNpdGF0aW9ucyUzRCUyN3dhYXJkZW5idXJnMjAxM2ElMjclMjklM0I=\")));\n",
       "    "
      ],
      "text/plain": [
       "<IPython.core.display.Javascript object>"
      ]
     },
     "metadata": {},
     "output_type": "display_data"
    },
    {
     "data": {
      "application/javascript": [
       "$('span:contains(\"# Temp\")').closest('.cell').remove();"
      ],
      "text/plain": [
       "<IPython.core.display.Javascript object>"
      ]
     },
     "metadata": {},
     "output_type": "display_data"
    },
    {
     "data": {
      "application/javascript": [
       "\n",
       "        $('span:contains(\"# Temp\")').closest('.cell').remove();\n",
       "        var code = IPython.notebook.insert_cell_below('code');\n",
       "        code.set_text(decodeURIComponent(window.atob(\"JTIzJTIwVGVtcCUwQWluc2VydCUyOCUyNyUyNyUyNyUwQWJhc3MyMDE0YSUyMCUzRCUyMERCJTI4V29ya1VucmVsYXRlZCUyOCUwQSUyMCUyMCUyMCUyMDIwMTQlMkMlMjAlMjJTY3J1bSUyMG1hc3RlciUyMGFjdGl2aXRpZXMlM0ElMjBwcm9jZXNzJTIwdGFpbG9yaW5nJTIwaW4lMjBsYXJnZSUyMGVudGVycHJpc2UlMjBwcm9qZWN0cyUyMiUyQyUwQSUyMCUyMCUyMCUyMGRpc3BsYXklM0QlMjJiYXNzJTIyJTJDJTBBJTIwJTIwJTIwJTIwYXV0aG9ycyUzRCUyMkJhc3MlMkMlMjBKdWxpYW4lMjBNJTIyJTJDJTBBJTIwJTIwJTIwJTIwcGxhY2UlM0RJQ1NFJTJDJTBBJTIwJTIwJTIwJTIwcHAlM0QlMjI2LS0xNSUyMiUyQyUwQSUyMCUyMCUyMCUyMGVudHJ5dHlwZSUzRCUyMmlucHJvY2VlZGluZ3MlMjIlMkMlMEElMjAlMjAlMjAlMjBvcmdhbml6YXRpb24lM0QlMjJJRUVFJTIyJTJDJTBBJTIwJTIwJTIwJTIwSUQlM0QlMjJiYXNzMjAxNHNjcnVtJTIyJTJDJTBBJTIwJTIwJTIwJTIwY2x1c3Rlcl9pZCUzRCUyMjEyNjE0MzA4MjMzNjAwMTMyNzMlMjIlMkMlMEElMjAlMjAlMjAlMjBzY2hvbGFyJTNEJTIyaHR0cCUzQS8vc2Nob2xhci5nb29nbGUuY29tL3NjaG9sYXIlM0ZjaXRlcyUzRDEyNjE0MzA4MjMzNjAwMTMyNzMlMjZhc19zZHQlM0QyMDA1JTI2c2Npb2R0JTNEMCUyQzUlMjZobCUzRGVuJTIyJTJDJTBBJTIwJTIwJTIwJTIwcGxhY2V4JTNEJTIyR2xvYmFsJTIwU29mdHdhcmUlMjBFbmdpbmVlcmluZyUyMCUyOElDR1NFJTI5JTJDJTIwMjAxNCUyMElFRUUlMjA5dGglMjBJbnRlcm5hdGlvbmFsJTIwQ29uZmVyZW5jZSUyMG9uJTIyJTJDJTBBJTI5JTI5JTBBJTBBREIlMjhDaXRhdGlvbiUyOCUwQSUyMCUyMCUyMCUyMGJhc3MyMDE0YSUyQyUyMHdhYXJkZW5idXJnMjAxM2ElMkMlMjByZWYlM0QlMjIlMjIlMkMlMEElMjAlMjAlMjAlMjBjb250ZXh0cyUzRCU1QiUwQSUwQSUyMCUyMCUyMCUyMCU1RCUyQyUwQSUyOSUyOSUwQSUwQSUyNyUyNyUyNyUyQyUyMGNpdGF0aW9ucyUzRCUyN3dhYXJkZW5idXJnMjAxM2ElMjclMjklM0I=\")));\n",
       "    "
      ],
      "text/plain": [
       "<IPython.core.display.Javascript object>"
      ]
     },
     "metadata": {},
     "output_type": "display_data"
    },
    {
     "data": {
      "application/javascript": [
       "$('span:contains(\"# Temp\")').closest('.cell').remove();"
      ],
      "text/plain": [
       "<IPython.core.display.Javascript object>"
      ]
     },
     "metadata": {},
     "output_type": "display_data"
    },
    {
     "data": {
      "application/javascript": [
       "\n",
       "        $('span:contains(\"# Temp\")').closest('.cell').remove();\n",
       "        var code = IPython.notebook.insert_cell_below('code');\n",
       "        code.set_text(decodeURIComponent(window.atob(\"JTIzJTIwVGVtcCUwQWluc2VydCUyOCUyNyUyNyUyNyUwQWdyZWdvcnkyMDE1YSUyMCUzRCUyMERCJTI4V29ya1VucmVsYXRlZCUyOCUwQSUyMCUyMCUyMCUyMDIwMTUlMkMlMjAlMjJBZ2lsZSUyMGNoYWxsZW5nZXMlMjBpbiUyMHByYWN0aWNlJTNBJTIwYSUyMHRoZW1hdGljJTIwYW5hbHlzaXMlMjIlMkMlMEElMjAlMjAlMjAlMjBkaXNwbGF5JTNEJTIyZ3JlZ29yeSUyMiUyQyUwQSUyMCUyMCUyMCUyMGF1dGhvcnMlM0QlMjJHcmVnb3J5JTJDJTIwUGVnZ3klMjBhbmQlMjBCYXJyb2NhJTJDJTIwTGVvbm9yJTIwYW5kJTIwVGF5bG9yJTJDJTIwS2F0aWUlMjBhbmQlMjBTYWxhaCUyQyUyMERpbmElMjBhbmQlMjBTaGFycCUyQyUyMEhlbGVuJTIyJTJDJTBBJTIwJTIwJTIwJTIwcGxhY2UlM0RGQUtFJTJDJTBBJTIwJTIwJTIwJTIwcHAlM0QlMjI2NC0tODAlMjIlMkMlMEElMjAlMjAlMjAlMjBlbnRyeXR5cGUlM0QlMjJpbnByb2NlZWRpbmdzJTIyJTJDJTBBJTIwJTIwJTIwJTIwb3JnYW5pemF0aW9uJTNEJTIyU3ByaW5nZXIlMjIlMkMlMEElMjAlMjAlMjAlMjBJRCUzRCUyMmdyZWdvcnkyMDE1YWdpbGUlMjIlMkMlMEElMjAlMjAlMjAlMjBjbHVzdGVyX2lkJTNEJTIyMTUxMDg2MTg4Mjk0MTExNzIzMDAlMjIlMkMlMEElMjAlMjAlMjAlMjBzY2hvbGFyJTNEJTIyaHR0cCUzQS8vc2Nob2xhci5nb29nbGUuY29tL3NjaG9sYXIlM0ZjaXRlcyUzRDE1MTA4NjE4ODI5NDExMTcyMzAwJTI2YXNfc2R0JTNEMjAwNSUyNnNjaW9kdCUzRDAlMkM1JTI2aGwlM0RlbiUyMiUyQyUwQSUyMCUyMCUyMCUyMHBsYWNleCUzRCUyMkludGVybmF0aW9uYWwlMjBDb25mZXJlbmNlJTIwb24lMjBBZ2lsZSUyMFNvZnR3YXJlJTIwRGV2ZWxvcG1lbnQlMjIlMkMlMEElMjklMjklMEElMEFEQiUyOENpdGF0aW9uJTI4JTBBJTIwJTIwJTIwJTIwZ3JlZ29yeTIwMTVhJTJDJTIwd2FhcmRlbmJ1cmcyMDEzYSUyQyUyMHJlZiUzRCUyMiUyMiUyQyUwQSUyMCUyMCUyMCUyMGNvbnRleHRzJTNEJTVCJTBBJTBBJTIwJTIwJTIwJTIwJTVEJTJDJTBBJTI5JTI5JTBBJTBBJTI3JTI3JTI3JTJDJTIwY2l0YXRpb25zJTNEJTI3d2FhcmRlbmJ1cmcyMDEzYSUyNyUyOSUzQg==\")));\n",
       "    "
      ],
      "text/plain": [
       "<IPython.core.display.Javascript object>"
      ]
     },
     "metadata": {},
     "output_type": "display_data"
    },
    {
     "data": {
      "application/javascript": [
       "$('span:contains(\"# Temp\")').closest('.cell').remove();"
      ],
      "text/plain": [
       "<IPython.core.display.Javascript object>"
      ]
     },
     "metadata": {},
     "output_type": "display_data"
    },
    {
     "data": {
      "application/javascript": [
       "\n",
       "        $('span:contains(\"# Temp\")').closest('.cell').remove();\n",
       "        var code = IPython.notebook.insert_cell_below('code');\n",
       "        code.set_text(decodeURIComponent(window.atob(\"JTIzJTIwVGVtcCUwQWluc2VydCUyOCUyNyUyNyUyNyUwQWdyZWdvcnkyMDE1YSUyMCUzRCUyMERCJTI4V29ya1VucmVsYXRlZCUyOCUwQSUyMCUyMCUyMCUyMDIwMTUlMkMlMjAlMjJBZ2lsZSUyMGNoYWxsZW5nZXMlMjBpbiUyMHByYWN0aWNlJTNBJTIwYSUyMHRoZW1hdGljJTIwYW5hbHlzaXMlMjIlMkMlMEElMjAlMjAlMjAlMjBkaXNwbGF5JTNEJTIyZ3JlZ29yeSUyMiUyQyUwQSUyMCUyMCUyMCUyMGF1dGhvcnMlM0QlMjJHcmVnb3J5JTJDJTIwUGVnZ3klMjBhbmQlMjBCYXJyb2NhJTJDJTIwTGVvbm9yJTIwYW5kJTIwVGF5bG9yJTJDJTIwS2F0aWUlMjBhbmQlMjBTYWxhaCUyQyUyMERpbmElMjBhbmQlMjBTaGFycCUyQyUyMEhlbGVuJTIyJTJDJTBBJTIwJTIwJTIwJTIwcGxhY2UlM0RGQUtFJTJDJTBBJTIwJTIwJTIwJTIwcHAlM0QlMjI2NC0tODAlMjIlMkMlMEElMjAlMjAlMjAlMjBlbnRyeXR5cGUlM0QlMjJpbnByb2NlZWRpbmdzJTIyJTJDJTBBJTIwJTIwJTIwJTIwb3JnYW5pemF0aW9uJTNEJTIyU3ByaW5nZXIlMjIlMkMlMEElMjAlMjAlMjAlMjBJRCUzRCUyMmdyZWdvcnkyMDE1YWdpbGUlMjIlMkMlMEElMjAlMjAlMjAlMjBjbHVzdGVyX2lkJTNEJTIyMTUxMDg2MTg4Mjk0MTExNzIzMDAlMjIlMkMlMEElMjAlMjAlMjAlMjBzY2hvbGFyJTNEJTIyaHR0cCUzQS8vc2Nob2xhci5nb29nbGUuY29tL3NjaG9sYXIlM0ZjaXRlcyUzRDE1MTA4NjE4ODI5NDExMTcyMzAwJTI2YXNfc2R0JTNEMjAwNSUyNnNjaW9kdCUzRDAlMkM1JTI2aGwlM0RlbiUyMiUyQyUwQSUyMCUyMCUyMCUyMHBsYWNleCUzRCUyMkludGVybmF0aW9uYWwlMjBDb25mZXJlbmNlJTIwb24lMjBBZ2lsZSUyMFNvZnR3YXJlJTIwRGV2ZWxvcG1lbnQlMjIlMkMlMEElMjklMjklMEElMEFEQiUyOENpdGF0aW9uJTI4JTBBJTIwJTIwJTIwJTIwZ3JlZ29yeTIwMTVhJTJDJTIwd2FhcmRlbmJ1cmcyMDEzYSUyQyUyMHJlZiUzRCUyMiUyMiUyQyUwQSUyMCUyMCUyMCUyMGNvbnRleHRzJTNEJTVCJTBBJTBBJTIwJTIwJTIwJTIwJTVEJTJDJTBBJTI5JTI5JTBBJTBBJTI3JTI3JTI3JTJDJTIwY2l0YXRpb25zJTNEJTI3d2FhcmRlbmJ1cmcyMDEzYSUyNyUyOSUzQg==\")));\n",
       "    "
      ],
      "text/plain": [
       "<IPython.core.display.Javascript object>"
      ]
     },
     "metadata": {},
     "output_type": "display_data"
    },
    {
     "data": {
      "application/javascript": [
       "$('span:contains(\"# Temp\")').closest('.cell').remove();"
      ],
      "text/plain": [
       "<IPython.core.display.Javascript object>"
      ]
     },
     "metadata": {},
     "output_type": "display_data"
    },
    {
     "data": {
      "application/javascript": [
       "\n",
       "        $('span:contains(\"# Temp\")').closest('.cell').remove();\n",
       "        var code = IPython.notebook.insert_cell_below('code');\n",
       "        code.set_text(decodeURIComponent(window.atob(\"JTIzJTIwVGVtcCUwQWluc2VydCUyOCUyNyUyNyUyNyUwQURCJTI4Q2l0YXRpb24lMjglMEElMjAlMjAlMjAlMjBoZWlra2lsJUMzJUE0MjAxNWElMkMlMjB3YWFyZGVuYnVyZzIwMTNhJTJDJTIwcmVmJTNEJTIyJTIyJTJDJTBBJTIwJTIwJTIwJTIwY29udGV4dHMlM0QlNUIlMEElMEElMjAlMjAlMjAlMjAlNUQlMkMlMEElMjklMjklMEElMEElMjclMjclMjclMkMlMjBjaXRhdGlvbnMlM0QlMjd3YWFyZGVuYnVyZzIwMTNhJTI3JTI5JTNCJTBBc2V0X2F0dHJpYnV0ZSUyOCUyN2hlaWtraWwlQzMlQTQyMDE1YSUyNyUyQyUyMCUyN2NsdXN0ZXJfaWQlMjclMkMlMjAlMjc0MTc5MDU1NDAyNDQ2MTg4NDM5JTI3JTI5JTNCJTBBc2V0X2F0dHJpYnV0ZSUyOCUyN2hlaWtraWwlQzMlQTQyMDE1YSUyNyUyQyUyMCUyN3NjaG9sYXIlMjclMkMlMjAlMjdodHRwJTNBLy9zY2hvbGFyLmdvb2dsZS5jb20vc2Nob2xhciUzRmNpdGVzJTNENDE3OTA1NTQwMjQ0NjE4ODQzOSUyNmFzX3NkdCUzRDIwMDUlMjZzY2lvZHQlM0QwJTJDNSUyNmhsJTNEZW4lMjclMjklM0I=\")));\n",
       "    "
      ],
      "text/plain": [
       "<IPython.core.display.Javascript object>"
      ]
     },
     "metadata": {},
     "output_type": "display_data"
    },
    {
     "data": {
      "application/javascript": [
       "$('span:contains(\"# Temp\")').closest('.cell').remove();"
      ],
      "text/plain": [
       "<IPython.core.display.Javascript object>"
      ]
     },
     "metadata": {},
     "output_type": "display_data"
    },
    {
     "data": {
      "application/javascript": [
       "\n",
       "        $('span:contains(\"# Temp\")').closest('.cell').remove();\n",
       "        var code = IPython.notebook.insert_cell_below('code');\n",
       "        code.set_text(decodeURIComponent(window.atob(\"JTIzJTIwVGVtcCUwQWluc2VydCUyOCUyNyUyNyUyNyUwQURCJTI4Q2l0YXRpb24lMjglMEElMjAlMjAlMjAlMjBoZWlra2lsJUMzJUE0MjAxNWElMkMlMjB3YWFyZGVuYnVyZzIwMTNhJTJDJTIwcmVmJTNEJTIyJTIyJTJDJTBBJTIwJTIwJTIwJTIwY29udGV4dHMlM0QlNUIlMEElMEElMjAlMjAlMjAlMjAlNUQlMkMlMEElMjklMjklMEElMEElMjclMjclMjclMkMlMjBjaXRhdGlvbnMlM0QlMjd3YWFyZGVuYnVyZzIwMTNhJTI3JTI5JTNCJTBBc2V0X2F0dHJpYnV0ZSUyOCUyN2hlaWtraWwlQzMlQTQyMDE1YSUyNyUyQyUyMCUyN2NsdXN0ZXJfaWQlMjclMkMlMjAlMjc0MTc5MDU1NDAyNDQ2MTg4NDM5JTI3JTI5JTNCJTBBc2V0X2F0dHJpYnV0ZSUyOCUyN2hlaWtraWwlQzMlQTQyMDE1YSUyNyUyQyUyMCUyN3NjaG9sYXIlMjclMkMlMjAlMjdodHRwJTNBLy9zY2hvbGFyLmdvb2dsZS5jb20vc2Nob2xhciUzRmNpdGVzJTNENDE3OTA1NTQwMjQ0NjE4ODQzOSUyNmFzX3NkdCUzRDIwMDUlMjZzY2lvZHQlM0QwJTJDNSUyNmhsJTNEZW4lMjclMjklM0I=\")));\n",
       "    "
      ],
      "text/plain": [
       "<IPython.core.display.Javascript object>"
      ]
     },
     "metadata": {},
     "output_type": "display_data"
    },
    {
     "data": {
      "application/javascript": [
       "$('span:contains(\"# Temp\")').closest('.cell').remove();"
      ],
      "text/plain": [
       "<IPython.core.display.Javascript object>"
      ]
     },
     "metadata": {},
     "output_type": "display_data"
    },
    {
     "data": {
      "application/javascript": [
       "\n",
       "        $('span:contains(\"# Temp\")').closest('.cell').remove();\n",
       "        var code = IPython.notebook.insert_cell_below('code');\n",
       "        code.set_text(decodeURIComponent(window.atob(\"JTIzJTIwVGVtcCUwQWluc2VydCUyOCUyNyUyNyUyNyUwQXRvbWFuZWsyMDE1YSUyMCUzRCUyMERCJTI4V29ya1VucmVsYXRlZCUyOCUwQSUyMCUyMCUyMCUyMDIwMTUlMkMlMjAlMjJBJTIwY29uY2VwdHVhbCUyMGZyYW1ld29yayUyMGZvciUyMHdlYiUyMGRldmVsb3BtZW50JTIwcHJvamVjdHMlMjBiYXNlZCUyMG9uJTIwcHJvamVjdCUyMG1hbmFnZW1lbnQlMjBhbmQlMjBhZ2lsZSUyMGRldmVsb3BtZW50JTIwcHJpbmNpcGxlcyUyMiUyQyUwQSUyMCUyMCUyMCUyMGRpc3BsYXklM0QlMjJ0b21hbmVrJTIyJTJDJTBBJTIwJTIwJTIwJTIwYXV0aG9ycyUzRCUyMlRvbWFuZWslMkMlMjBNYXJ0aW4lMjBhbmQlMjBDZXJtYWslMkMlMjBSYWRpbSUyMGFuZCUyMFNtdXRueSUyQyUyMFpkZW5layUyMiUyQyUwQSUyMCUyMCUyMCUyMHBsYWNlJTNERkFLRSUyQyUwQSUyMCUyMCUyMCUyMGVudHJ5dHlwZSUzRCUyMmFydGljbGUlMjIlMkMlMEElMjAlMjAlMjAlMjBJRCUzRCUyMnRvbWFuZWsyMDE1Y29uY2VwdHVhbCUyMiUyQyUwQSUyMCUyMCUyMCUyMGNsdXN0ZXJfaWQlM0QlMjI2NjQ4NzUwNjcxMDk1OTc2MjQwJTIyJTJDJTBBJTIwJTIwJTIwJTIwc2Nob2xhciUzRCUyMmh0dHAlM0EvL3NjaG9sYXIuZ29vZ2xlLmNvbS9zY2hvbGFyJTNGY2l0ZXMlM0Q2NjQ4NzUwNjcxMDk1OTc2MjQwJTI2YXNfc2R0JTNEMjAwNSUyNnNjaW9kdCUzRDAlMkM1JTI2aGwlM0RlbiUyMiUyQyUwQSUyMCUyMCUyMCUyMHBsYWNleCUzRCUyMmFyWGl2JTIwcHJlcHJpbnQlMjBhclhpdiUzQTE1MDIuMDQyOTclMjIlMkMlMEElMjklMjklMEElMEFEQiUyOENpdGF0aW9uJTI4JTBBJTIwJTIwJTIwJTIwdG9tYW5lazIwMTVhJTJDJTIwd2FhcmRlbmJ1cmcyMDEzYSUyQyUyMHJlZiUzRCUyMiUyMiUyQyUwQSUyMCUyMCUyMCUyMGNvbnRleHRzJTNEJTVCJTBBJTBBJTIwJTIwJTIwJTIwJTVEJTJDJTBBJTI5JTI5JTBBJTBBJTI3JTI3JTI3JTJDJTIwY2l0YXRpb25zJTNEJTI3d2FhcmRlbmJ1cmcyMDEzYSUyNyUyOSUzQg==\")));\n",
       "    "
      ],
      "text/plain": [
       "<IPython.core.display.Javascript object>"
      ]
     },
     "metadata": {},
     "output_type": "display_data"
    },
    {
     "data": {
      "application/javascript": [
       "$('span:contains(\"# Temp\")').closest('.cell').remove();"
      ],
      "text/plain": [
       "<IPython.core.display.Javascript object>"
      ]
     },
     "metadata": {},
     "output_type": "display_data"
    },
    {
     "data": {
      "application/javascript": [
       "\n",
       "        $('span:contains(\"# Temp\")').closest('.cell').remove();\n",
       "        var code = IPython.notebook.insert_cell_below('code');\n",
       "        code.set_text(decodeURIComponent(window.atob(\"JTIzJTIwVGVtcCUwQWluc2VydCUyOCUyNyUyNyUyNyUwQXRvbWFuZWsyMDE1YSUyMCUzRCUyMERCJTI4V29ya1VucmVsYXRlZCUyOCUwQSUyMCUyMCUyMCUyMDIwMTUlMkMlMjAlMjJBJTIwY29uY2VwdHVhbCUyMGZyYW1ld29yayUyMGZvciUyMHdlYiUyMGRldmVsb3BtZW50JTIwcHJvamVjdHMlMjBiYXNlZCUyMG9uJTIwcHJvamVjdCUyMG1hbmFnZW1lbnQlMjBhbmQlMjBhZ2lsZSUyMGRldmVsb3BtZW50JTIwcHJpbmNpcGxlcyUyMiUyQyUwQSUyMCUyMCUyMCUyMGRpc3BsYXklM0QlMjJ0b21hbmVrJTIyJTJDJTBBJTIwJTIwJTIwJTIwYXV0aG9ycyUzRCUyMlRvbWFuZWslMkMlMjBNYXJ0aW4lMjBhbmQlMjBDZXJtYWslMkMlMjBSYWRpbSUyMGFuZCUyMFNtdXRueSUyQyUyMFpkZW5layUyMiUyQyUwQSUyMCUyMCUyMCUyMHBsYWNlJTNERkFLRSUyQyUwQSUyMCUyMCUyMCUyMGVudHJ5dHlwZSUzRCUyMmFydGljbGUlMjIlMkMlMEElMjAlMjAlMjAlMjBJRCUzRCUyMnRvbWFuZWsyMDE1Y29uY2VwdHVhbCUyMiUyQyUwQSUyMCUyMCUyMCUyMGNsdXN0ZXJfaWQlM0QlMjI2NjQ4NzUwNjcxMDk1OTc2MjQwJTIyJTJDJTBBJTIwJTIwJTIwJTIwc2Nob2xhciUzRCUyMmh0dHAlM0EvL3NjaG9sYXIuZ29vZ2xlLmNvbS9zY2hvbGFyJTNGY2l0ZXMlM0Q2NjQ4NzUwNjcxMDk1OTc2MjQwJTI2YXNfc2R0JTNEMjAwNSUyNnNjaW9kdCUzRDAlMkM1JTI2aGwlM0RlbiUyMiUyQyUwQSUyMCUyMCUyMCUyMHBsYWNleCUzRCUyMmFyWGl2JTIwcHJlcHJpbnQlMjBhclhpdiUzQTE1MDIuMDQyOTclMjIlMkMlMEElMjklMjklMEElMEFEQiUyOENpdGF0aW9uJTI4JTBBJTIwJTIwJTIwJTIwdG9tYW5lazIwMTVhJTJDJTIwd2FhcmRlbmJ1cmcyMDEzYSUyQyUyMHJlZiUzRCUyMiUyMiUyQyUwQSUyMCUyMCUyMCUyMGNvbnRleHRzJTNEJTVCJTBBJTBBJTIwJTIwJTIwJTIwJTVEJTJDJTBBJTI5JTI5JTBBJTBBJTI3JTI3JTI3JTJDJTIwY2l0YXRpb25zJTNEJTI3d2FhcmRlbmJ1cmcyMDEzYSUyNyUyOSUzQg==\")));\n",
       "    "
      ],
      "text/plain": [
       "<IPython.core.display.Javascript object>"
      ]
     },
     "metadata": {},
     "output_type": "display_data"
    },
    {
     "data": {
      "application/javascript": [
       "$('span:contains(\"# Temp\")').closest('.cell').remove();"
      ],
      "text/plain": [
       "<IPython.core.display.Javascript object>"
      ]
     },
     "metadata": {},
     "output_type": "display_data"
    },
    {
     "data": {
      "application/javascript": [
       "\n",
       "        $('span:contains(\"# Temp\")').closest('.cell').remove();\n",
       "        var code = IPython.notebook.insert_cell_below('code');\n",
       "        code.set_text(decodeURIComponent(window.atob(\"JTIzJTIwVGVtcCUwQWluc2VydCUyOCUyNyUyNyUyNyUwQWJhcnJvY2EyMDE4YSUyMCUzRCUyMERCJTI4V29ya1VucmVsYXRlZCUyOCUwQSUyMCUyMCUyMCUyMDIwMTglMkMlMjAlMjJCcmlkZ2luZyUyMHRoZSUyMGdhcCUyMGJldHdlZW4lMjByZXNlYXJjaCUyMGFuZCUyMGFnaWxlJTIwcHJhY3RpY2UlM0ElMjBhbiUyMGV2b2x1dGlvbmFyeSUyMG1vZGVsJTIyJTJDJTBBJTIwJTIwJTIwJTIwZGlzcGxheSUzRCUyMmJhcnJvY2ElMjIlMkMlMEElMjAlMjAlMjAlMjBhdXRob3JzJTNEJTIyQmFycm9jYSUyQyUyMExlb25vciUyMGFuZCUyMFNoYXJwJTJDJTIwSGVsZW4lMjBhbmQlMjBTYWxhaCUyQyUyMERpbmElMjBhbmQlMjBUYXlsb3IlMkMlMjBLYXRpZSUyMGFuZCUyMEdyZWdvcnklMkMlMjBQZWdneSUyMiUyQyUwQSUyMCUyMCUyMCUyMHBsYWNlJTNERkFLRSUyQyUwQSUyMCUyMCUyMCUyMHBwJTNEJTIyMzIzLS0zMzQlMjIlMkMlMEElMjAlMjAlMjAlMjBlbnRyeXR5cGUlM0QlMjJhcnRpY2xlJTIyJTJDJTBBJTIwJTIwJTIwJTIwdm9sdW1lJTNEJTIyOSUyMiUyQyUwQSUyMCUyMCUyMCUyMG51bWJlciUzRCUyMjIlMjIlMkMlMEElMjAlMjAlMjAlMjBwdWJsaXNoZXIlM0QlMjJTcHJpbmdlciUyMiUyQyUwQSUyMCUyMCUyMCUyMElEJTNEJTIyYmFycm9jYTIwMThicmlkZ2luZyUyMiUyQyUwQSUyMCUyMCUyMCUyMGNsdXN0ZXJfaWQlM0QlMjI0Njk4OTMxNTYwMDI5Nzk3Nzg5JTIyJTJDJTBBJTIwJTIwJTIwJTIwc2Nob2xhciUzRCUyMmh0dHAlM0EvL3NjaG9sYXIuZ29vZ2xlLmNvbS9zY2hvbGFyJTNGY2l0ZXMlM0Q0Njk4OTMxNTYwMDI5Nzk3Nzg5JTI2YXNfc2R0JTNEMjAwNSUyNnNjaW9kdCUzRDAlMkM1JTI2aGwlM0RlbiUyMiUyQyUwQSUyMCUyMCUyMCUyMHBsYWNleCUzRCUyMkludGVybmF0aW9uYWwlMjBKb3VybmFsJTIwb2YlMjBTeXN0ZW0lMjBBc3N1cmFuY2UlMjBFbmdpbmVlcmluZyUyMGFuZCUyME1hbmFnZW1lbnQlMjIlMkMlMEElMjklMjklMEElMEFEQiUyOENpdGF0aW9uJTI4JTBBJTIwJTIwJTIwJTIwYmFycm9jYTIwMThhJTJDJTIwd2FhcmRlbmJ1cmcyMDEzYSUyQyUyMHJlZiUzRCUyMiUyMiUyQyUwQSUyMCUyMCUyMCUyMGNvbnRleHRzJTNEJTVCJTBBJTBBJTIwJTIwJTIwJTIwJTVEJTJDJTBBJTI5JTI5JTBBJTBBJTI3JTI3JTI3JTJDJTIwY2l0YXRpb25zJTNEJTI3d2FhcmRlbmJ1cmcyMDEzYSUyNyUyOSUzQg==\")));\n",
       "    "
      ],
      "text/plain": [
       "<IPython.core.display.Javascript object>"
      ]
     },
     "metadata": {},
     "output_type": "display_data"
    },
    {
     "data": {
      "application/javascript": [
       "$('span:contains(\"# Temp\")').closest('.cell').remove();"
      ],
      "text/plain": [
       "<IPython.core.display.Javascript object>"
      ]
     },
     "metadata": {},
     "output_type": "display_data"
    },
    {
     "data": {
      "application/javascript": [
       "\n",
       "        $('span:contains(\"# Temp\")').closest('.cell').remove();\n",
       "        var code = IPython.notebook.insert_cell_below('code');\n",
       "        code.set_text(decodeURIComponent(window.atob(\"JTIzJTIwVGVtcCUwQWluc2VydCUyOCUyNyUyNyUyNyUwQWJhcnJvY2EyMDE4YSUyMCUzRCUyMERCJTI4V29ya1VucmVsYXRlZCUyOCUwQSUyMCUyMCUyMCUyMDIwMTglMkMlMjAlMjJCcmlkZ2luZyUyMHRoZSUyMGdhcCUyMGJldHdlZW4lMjByZXNlYXJjaCUyMGFuZCUyMGFnaWxlJTIwcHJhY3RpY2UlM0ElMjBhbiUyMGV2b2x1dGlvbmFyeSUyMG1vZGVsJTIyJTJDJTBBJTIwJTIwJTIwJTIwZGlzcGxheSUzRCUyMmJhcnJvY2ElMjIlMkMlMEElMjAlMjAlMjAlMjBhdXRob3JzJTNEJTIyQmFycm9jYSUyQyUyMExlb25vciUyMGFuZCUyMFNoYXJwJTJDJTIwSGVsZW4lMjBhbmQlMjBTYWxhaCUyQyUyMERpbmElMjBhbmQlMjBUYXlsb3IlMkMlMjBLYXRpZSUyMGFuZCUyMEdyZWdvcnklMkMlMjBQZWdneSUyMiUyQyUwQSUyMCUyMCUyMCUyMHBsYWNlJTNERkFLRSUyQyUwQSUyMCUyMCUyMCUyMHBwJTNEJTIyMzIzLS0zMzQlMjIlMkMlMEElMjAlMjAlMjAlMjBlbnRyeXR5cGUlM0QlMjJhcnRpY2xlJTIyJTJDJTBBJTIwJTIwJTIwJTIwdm9sdW1lJTNEJTIyOSUyMiUyQyUwQSUyMCUyMCUyMCUyMG51bWJlciUzRCUyMjIlMjIlMkMlMEElMjAlMjAlMjAlMjBwdWJsaXNoZXIlM0QlMjJTcHJpbmdlciUyMiUyQyUwQSUyMCUyMCUyMCUyMElEJTNEJTIyYmFycm9jYTIwMThicmlkZ2luZyUyMiUyQyUwQSUyMCUyMCUyMCUyMGNsdXN0ZXJfaWQlM0QlMjI0Njk4OTMxNTYwMDI5Nzk3Nzg5JTIyJTJDJTBBJTIwJTIwJTIwJTIwc2Nob2xhciUzRCUyMmh0dHAlM0EvL3NjaG9sYXIuZ29vZ2xlLmNvbS9zY2hvbGFyJTNGY2l0ZXMlM0Q0Njk4OTMxNTYwMDI5Nzk3Nzg5JTI2YXNfc2R0JTNEMjAwNSUyNnNjaW9kdCUzRDAlMkM1JTI2aGwlM0RlbiUyMiUyQyUwQSUyMCUyMCUyMCUyMHBsYWNleCUzRCUyMkludGVybmF0aW9uYWwlMjBKb3VybmFsJTIwb2YlMjBTeXN0ZW0lMjBBc3N1cmFuY2UlMjBFbmdpbmVlcmluZyUyMGFuZCUyME1hbmFnZW1lbnQlMjIlMkMlMEElMjklMjklMEElMEFEQiUyOENpdGF0aW9uJTI4JTBBJTIwJTIwJTIwJTIwYmFycm9jYTIwMThhJTJDJTIwd2FhcmRlbmJ1cmcyMDEzYSUyQyUyMHJlZiUzRCUyMiUyMiUyQyUwQSUyMCUyMCUyMCUyMGNvbnRleHRzJTNEJTVCJTBBJTBBJTIwJTIwJTIwJTIwJTVEJTJDJTBBJTI5JTI5JTBBJTBBJTI3JTI3JTI3JTJDJTIwY2l0YXRpb25zJTNEJTI3d2FhcmRlbmJ1cmcyMDEzYSUyNyUyOSUzQg==\")));\n",
       "    "
      ],
      "text/plain": [
       "<IPython.core.display.Javascript object>"
      ]
     },
     "metadata": {},
     "output_type": "display_data"
    },
    {
     "data": {
      "application/javascript": [
       "$('span:contains(\"# Temp\")').closest('.cell').remove();"
      ],
      "text/plain": [
       "<IPython.core.display.Javascript object>"
      ]
     },
     "metadata": {},
     "output_type": "display_data"
    },
    {
     "data": {
      "application/javascript": [
       "\n",
       "        $('span:contains(\"# Temp\")').closest('.cell').remove();\n",
       "        var code = IPython.notebook.insert_cell_below('code');\n",
       "        code.set_text(decodeURIComponent(window.atob(\"JTIzJTIwVGVtcCUwQWluc2VydCUyOCUyNyUyNyUyNyUwQWt1dXNpbmVuMjAxNmElMjAlM0QlMjBEQiUyOFdvcmtVbnJlbGF0ZWQlMjglMEElMjAlMjAlMjAlMjAyMDE2JTJDJTIwJTIyU3RyYXRlZ2llcyUyMGZvciUyMGRvaW5nJTIwQWdpbGUlMjBpbiUyMGElMjBub24tQWdpbGUlMjBFbnZpcm9ubWVudCUyMiUyQyUwQSUyMCUyMCUyMCUyMGRpc3BsYXklM0QlMjJrdXVzaW5lbiUyMiUyQyUwQSUyMCUyMCUyMCUyMGF1dGhvcnMlM0QlMjJLdXVzaW5lbiUyQyUyMEthdGklMjBhbmQlMjBHcmVnb3J5JTJDJTIwUGVnZ3klMjBhbmQlMjBTaGFycCUyQyUyMEhlbGVuJTIwYW5kJTIwQmFycm9jYSUyQyUyMExlb25vciUyMiUyQyUwQSUyMCUyMCUyMCUyMHBsYWNlJTNERVNFTSUyQyUwQSUyMCUyMCUyMCUyMHBwJTNEJTIyNSUyMiUyQyUwQSUyMCUyMCUyMCUyMGVudHJ5dHlwZSUzRCUyMmlucHJvY2VlZGluZ3MlMjIlMkMlMEElMjAlMjAlMjAlMjBvcmdhbml6YXRpb24lM0QlMjJBQ00lMjIlMkMlMEElMjAlMjAlMjAlMjBJRCUzRCUyMmt1dXNpbmVuMjAxNnN0cmF0ZWdpZXMlMjIlMkMlMEElMjAlMjAlMjAlMjBjbHVzdGVyX2lkJTNEJTIyMTQzODY2NTkxMTk4NDQxODEwODIlMjIlMkMlMEElMjAlMjAlMjAlMjBzY2hvbGFyJTNEJTIyaHR0cCUzQS8vc2Nob2xhci5nb29nbGUuY29tL3NjaG9sYXIlM0ZjaXRlcyUzRDE0Mzg2NjU5MTE5ODQ0MTgxMDgyJTI2YXNfc2R0JTNEMjAwNSUyNnNjaW9kdCUzRDAlMkM1JTI2aGwlM0RlbiUyMiUyQyUwQSUyMCUyMCUyMCUyMHBsYWNleCUzRCUyMlByb2NlZWRpbmdzJTIwb2YlMjB0aGUlMjAxMHRoJTIwQUNNL0lFRUUlMjBJbnRlcm5hdGlvbmFsJTIwU3ltcG9zaXVtJTIwb24lMjBFbXBpcmljYWwlMjBTb2Z0d2FyZSUyMEVuZ2luZWVyaW5nJTIwYW5kJTIwTWVhc3VyZW1lbnQlMjIlMkMlMEElMjklMjklMEElMEFEQiUyOENpdGF0aW9uJTI4JTBBJTIwJTIwJTIwJTIwa3V1c2luZW4yMDE2YSUyQyUyMHdhYXJkZW5idXJnMjAxM2ElMkMlMjByZWYlM0QlMjIlMjIlMkMlMEElMjAlMjAlMjAlMjBjb250ZXh0cyUzRCU1QiUwQSUwQSUyMCUyMCUyMCUyMCU1RCUyQyUwQSUyOSUyOSUwQSUwQSUyNyUyNyUyNyUyQyUyMGNpdGF0aW9ucyUzRCUyN3dhYXJkZW5idXJnMjAxM2ElMjclMjklM0I=\")));\n",
       "    "
      ],
      "text/plain": [
       "<IPython.core.display.Javascript object>"
      ]
     },
     "metadata": {},
     "output_type": "display_data"
    },
    {
     "data": {
      "application/javascript": [
       "$('span:contains(\"# Temp\")').closest('.cell').remove();"
      ],
      "text/plain": [
       "<IPython.core.display.Javascript object>"
      ]
     },
     "metadata": {},
     "output_type": "display_data"
    },
    {
     "data": {
      "application/javascript": [
       "\n",
       "        $('span:contains(\"# Temp\")').closest('.cell').remove();\n",
       "        var code = IPython.notebook.insert_cell_below('code');\n",
       "        code.set_text(decodeURIComponent(window.atob(\"JTIzJTIwVGVtcCUwQWluc2VydCUyOCUyNyUyNyUyNyUwQWt1dXNpbmVuMjAxNmElMjAlM0QlMjBEQiUyOFdvcmtVbnJlbGF0ZWQlMjglMEElMjAlMjAlMjAlMjAyMDE2JTJDJTIwJTIyU3RyYXRlZ2llcyUyMGZvciUyMGRvaW5nJTIwQWdpbGUlMjBpbiUyMGElMjBub24tQWdpbGUlMjBFbnZpcm9ubWVudCUyMiUyQyUwQSUyMCUyMCUyMCUyMGRpc3BsYXklM0QlMjJrdXVzaW5lbiUyMiUyQyUwQSUyMCUyMCUyMCUyMGF1dGhvcnMlM0QlMjJLdXVzaW5lbiUyQyUyMEthdGklMjBhbmQlMjBHcmVnb3J5JTJDJTIwUGVnZ3klMjBhbmQlMjBTaGFycCUyQyUyMEhlbGVuJTIwYW5kJTIwQmFycm9jYSUyQyUyMExlb25vciUyMiUyQyUwQSUyMCUyMCUyMCUyMHBsYWNlJTNERVNFTSUyQyUwQSUyMCUyMCUyMCUyMHBwJTNEJTIyNSUyMiUyQyUwQSUyMCUyMCUyMCUyMGVudHJ5dHlwZSUzRCUyMmlucHJvY2VlZGluZ3MlMjIlMkMlMEElMjAlMjAlMjAlMjBvcmdhbml6YXRpb24lM0QlMjJBQ00lMjIlMkMlMEElMjAlMjAlMjAlMjBJRCUzRCUyMmt1dXNpbmVuMjAxNnN0cmF0ZWdpZXMlMjIlMkMlMEElMjAlMjAlMjAlMjBjbHVzdGVyX2lkJTNEJTIyMTQzODY2NTkxMTk4NDQxODEwODIlMjIlMkMlMEElMjAlMjAlMjAlMjBzY2hvbGFyJTNEJTIyaHR0cCUzQS8vc2Nob2xhci5nb29nbGUuY29tL3NjaG9sYXIlM0ZjaXRlcyUzRDE0Mzg2NjU5MTE5ODQ0MTgxMDgyJTI2YXNfc2R0JTNEMjAwNSUyNnNjaW9kdCUzRDAlMkM1JTI2aGwlM0RlbiUyMiUyQyUwQSUyMCUyMCUyMCUyMHBsYWNleCUzRCUyMlByb2NlZWRpbmdzJTIwb2YlMjB0aGUlMjAxMHRoJTIwQUNNL0lFRUUlMjBJbnRlcm5hdGlvbmFsJTIwU3ltcG9zaXVtJTIwb24lMjBFbXBpcmljYWwlMjBTb2Z0d2FyZSUyMEVuZ2luZWVyaW5nJTIwYW5kJTIwTWVhc3VyZW1lbnQlMjIlMkMlMEElMjklMjklMEElMEFEQiUyOENpdGF0aW9uJTI4JTBBJTIwJTIwJTIwJTIwa3V1c2luZW4yMDE2YSUyQyUyMHdhYXJkZW5idXJnMjAxM2ElMkMlMjByZWYlM0QlMjIlMjIlMkMlMEElMjAlMjAlMjAlMjBjb250ZXh0cyUzRCU1QiUwQSUwQSUyMCUyMCUyMCUyMCU1RCUyQyUwQSUyOSUyOSUwQSUwQSUyNyUyNyUyNyUyQyUyMGNpdGF0aW9ucyUzRCUyN3dhYXJkZW5idXJnMjAxM2ElMjclMjklM0I=\")));\n",
       "    "
      ],
      "text/plain": [
       "<IPython.core.display.Javascript object>"
      ]
     },
     "metadata": {},
     "output_type": "display_data"
    },
    {
     "data": {
      "application/javascript": [
       "$('span:contains(\"# Temp\")').closest('.cell').remove();"
      ],
      "text/plain": [
       "<IPython.core.display.Javascript object>"
      ]
     },
     "metadata": {},
     "output_type": "display_data"
    },
    {
     "data": {
      "application/javascript": [
       "\n",
       "        $('span:contains(\"# Temp\")').closest('.cell').remove();\n",
       "        var code = IPython.notebook.insert_cell_below('code');\n",
       "        code.set_text(decodeURIComponent(window.atob(\"JTIzJTIwVGVtcCUwQWluc2VydCUyOCUyNyUyNyUyNyUwQURCJTI4Q2l0YXRpb24lMjglMEElMjAlMjAlMjAlMjBmaXRyaWFuaTIwMTZhJTJDJTIwd2FhcmRlbmJ1cmcyMDEzYSUyQyUyMHJlZiUzRCUyMiUyMiUyQyUwQSUyMCUyMCUyMCUyMGNvbnRleHRzJTNEJTVCJTBBJTBBJTIwJTIwJTIwJTIwJTVEJTJDJTBBJTI5JTI5JTBBJTBBJTI3JTI3JTI3JTJDJTIwY2l0YXRpb25zJTNEJTI3d2FhcmRlbmJ1cmcyMDEzYSUyNyUyOSUzQg==\")));\n",
       "    "
      ],
      "text/plain": [
       "<IPython.core.display.Javascript object>"
      ]
     },
     "metadata": {},
     "output_type": "display_data"
    },
    {
     "data": {
      "application/javascript": [
       "$('span:contains(\"# Temp\")').closest('.cell').remove();"
      ],
      "text/plain": [
       "<IPython.core.display.Javascript object>"
      ]
     },
     "metadata": {},
     "output_type": "display_data"
    },
    {
     "data": {
      "application/javascript": [
       "\n",
       "        $('span:contains(\"# Temp\")').closest('.cell').remove();\n",
       "        var code = IPython.notebook.insert_cell_below('code');\n",
       "        code.set_text(decodeURIComponent(window.atob(\"JTIzJTIwVGVtcCUwQWluc2VydCUyOCUyNyUyNyUyNyUwQURCJTI4Q2l0YXRpb24lMjglMEElMjAlMjAlMjAlMjBmaXRyaWFuaTIwMTZhJTJDJTIwd2FhcmRlbmJ1cmcyMDEzYSUyQyUyMHJlZiUzRCUyMiUyMiUyQyUwQSUyMCUyMCUyMCUyMGNvbnRleHRzJTNEJTVCJTBBJTBBJTIwJTIwJTIwJTIwJTVEJTJDJTBBJTI5JTI5JTBBJTBBJTI3JTI3JTI3JTJDJTIwY2l0YXRpb25zJTNEJTI3d2FhcmRlbmJ1cmcyMDEzYSUyNyUyOSUzQg==\")));\n",
       "    "
      ],
      "text/plain": [
       "<IPython.core.display.Javascript object>"
      ]
     },
     "metadata": {},
     "output_type": "display_data"
    },
    {
     "data": {
      "application/javascript": [
       "$('span:contains(\"# Temp\")').closest('.cell').remove();"
      ],
      "text/plain": [
       "<IPython.core.display.Javascript object>"
      ]
     },
     "metadata": {},
     "output_type": "display_data"
    },
    {
     "data": {
      "application/javascript": [
       "\n",
       "        $('span:contains(\"# Temp\")').closest('.cell').remove();\n",
       "        var code = IPython.notebook.insert_cell_below('code');\n",
       "        code.set_text(decodeURIComponent(window.atob(\"JTIzJTIwVGVtcCUwQWluc2VydCUyOCUyNyUyNyUyNyUwQWJlcmdlcjIwMTVhJTIwJTNEJTIwREIlMjhXb3JrVW5yZWxhdGVkJTI4JTBBJTIwJTIwJTIwJTIwMjAxNSUyQyUyMCUyMkV4cGVjdGF0aW9ucyUyMGFuZCUyMGNoYWxsZW5nZXMlMjBmcm9tJTIwc2NhbGluZyUyMGFnaWxlJTIwaW4lMjBtZWNoYXRyb25pY3MtZHJpdmVuJTIwY29tcGFuaWVzLS1hJTIwY29tcGFyYXRpdmUlMjBjYXNlJTIwc3R1ZHklMjIlMkMlMEElMjAlMjAlMjAlMjBkaXNwbGF5JTNEJTIyYmVyZ2VyJTIyJTJDJTBBJTIwJTIwJTIwJTIwYXV0aG9ycyUzRCUyMkJlcmdlciUyQyUyMENocmlzdGlhbiUyMGFuZCUyMEVrbHVuZCUyQyUyMFVscmlrJTIyJTJDJTBBJTIwJTIwJTIwJTIwcGxhY2UlM0RGQUtFJTJDJTBBJTIwJTIwJTIwJTIwcHAlM0QlMjIxNS0tMjYlMjIlMkMlMEElMjAlMjAlMjAlMjBlbnRyeXR5cGUlM0QlMjJpbnByb2NlZWRpbmdzJTIyJTJDJTBBJTIwJTIwJTIwJTIwb3JnYW5pemF0aW9uJTNEJTIyU3ByaW5nZXIlMjIlMkMlMEElMjAlMjAlMjAlMjBJRCUzRCUyMmJlcmdlcjIwMTVleHBlY3RhdGlvbnMlMjIlMkMlMEElMjAlMjAlMjAlMjBjbHVzdGVyX2lkJTNEJTIyODY4Nzk2Njk5Mzc0MzY5MTE0NiUyMiUyQyUwQSUyMCUyMCUyMCUyMHNjaG9sYXIlM0QlMjJodHRwJTNBLy9zY2hvbGFyLmdvb2dsZS5jb20vc2Nob2xhciUzRmNpdGVzJTNEODY4Nzk2Njk5Mzc0MzY5MTE0NiUyNmFzX3NkdCUzRDIwMDUlMjZzY2lvZHQlM0QwJTJDNSUyNmhsJTNEZW4lMjIlMkMlMEElMjAlMjAlMjAlMjBwbGFjZXglM0QlMjJJbnRlcm5hdGlvbmFsJTIwQ29uZmVyZW5jZSUyMG9uJTIwQWdpbGUlMjBTb2Z0d2FyZSUyMERldmVsb3BtZW50JTIyJTJDJTBBJTI5JTI5JTBBJTBBREIlMjhDaXRhdGlvbiUyOCUwQSUyMCUyMCUyMCUyMGJlcmdlcjIwMTVhJTJDJTIwd2FhcmRlbmJ1cmcyMDEzYSUyQyUyMHJlZiUzRCUyMiUyMiUyQyUwQSUyMCUyMCUyMCUyMGNvbnRleHRzJTNEJTVCJTBBJTBBJTIwJTIwJTIwJTIwJTVEJTJDJTBBJTI5JTI5JTBBJTBBJTI3JTI3JTI3JTJDJTIwY2l0YXRpb25zJTNEJTI3d2FhcmRlbmJ1cmcyMDEzYSUyNyUyOSUzQg==\")));\n",
       "    "
      ],
      "text/plain": [
       "<IPython.core.display.Javascript object>"
      ]
     },
     "metadata": {},
     "output_type": "display_data"
    },
    {
     "data": {
      "application/javascript": [
       "$('span:contains(\"# Temp\")').closest('.cell').remove();"
      ],
      "text/plain": [
       "<IPython.core.display.Javascript object>"
      ]
     },
     "metadata": {},
     "output_type": "display_data"
    },
    {
     "data": {
      "application/javascript": [
       "\n",
       "        $('span:contains(\"# Temp\")').closest('.cell').remove();\n",
       "        var code = IPython.notebook.insert_cell_below('code');\n",
       "        code.set_text(decodeURIComponent(window.atob(\"JTIzJTIwVGVtcCUwQWluc2VydCUyOCUyNyUyNyUyNyUwQWJlcmdlcjIwMTVhJTIwJTNEJTIwREIlMjhXb3JrVW5yZWxhdGVkJTI4JTBBJTIwJTIwJTIwJTIwMjAxNSUyQyUyMCUyMkV4cGVjdGF0aW9ucyUyMGFuZCUyMGNoYWxsZW5nZXMlMjBmcm9tJTIwc2NhbGluZyUyMGFnaWxlJTIwaW4lMjBtZWNoYXRyb25pY3MtZHJpdmVuJTIwY29tcGFuaWVzLS1hJTIwY29tcGFyYXRpdmUlMjBjYXNlJTIwc3R1ZHklMjIlMkMlMEElMjAlMjAlMjAlMjBkaXNwbGF5JTNEJTIyYmVyZ2VyJTIyJTJDJTBBJTIwJTIwJTIwJTIwYXV0aG9ycyUzRCUyMkJlcmdlciUyQyUyMENocmlzdGlhbiUyMGFuZCUyMEVrbHVuZCUyQyUyMFVscmlrJTIyJTJDJTBBJTIwJTIwJTIwJTIwcGxhY2UlM0RGQUtFJTJDJTBBJTIwJTIwJTIwJTIwcHAlM0QlMjIxNS0tMjYlMjIlMkMlMEElMjAlMjAlMjAlMjBlbnRyeXR5cGUlM0QlMjJpbnByb2NlZWRpbmdzJTIyJTJDJTBBJTIwJTIwJTIwJTIwb3JnYW5pemF0aW9uJTNEJTIyU3ByaW5nZXIlMjIlMkMlMEElMjAlMjAlMjAlMjBJRCUzRCUyMmJlcmdlcjIwMTVleHBlY3RhdGlvbnMlMjIlMkMlMEElMjAlMjAlMjAlMjBjbHVzdGVyX2lkJTNEJTIyODY4Nzk2Njk5Mzc0MzY5MTE0NiUyMiUyQyUwQSUyMCUyMCUyMCUyMHNjaG9sYXIlM0QlMjJodHRwJTNBLy9zY2hvbGFyLmdvb2dsZS5jb20vc2Nob2xhciUzRmNpdGVzJTNEODY4Nzk2Njk5Mzc0MzY5MTE0NiUyNmFzX3NkdCUzRDIwMDUlMjZzY2lvZHQlM0QwJTJDNSUyNmhsJTNEZW4lMjIlMkMlMEElMjAlMjAlMjAlMjBwbGFjZXglM0QlMjJJbnRlcm5hdGlvbmFsJTIwQ29uZmVyZW5jZSUyMG9uJTIwQWdpbGUlMjBTb2Z0d2FyZSUyMERldmVsb3BtZW50JTIyJTJDJTBBJTI5JTI5JTBBJTBBREIlMjhDaXRhdGlvbiUyOCUwQSUyMCUyMCUyMCUyMGJlcmdlcjIwMTVhJTJDJTIwd2FhcmRlbmJ1cmcyMDEzYSUyQyUyMHJlZiUzRCUyMiUyMiUyQyUwQSUyMCUyMCUyMCUyMGNvbnRleHRzJTNEJTVCJTBBJTBBJTIwJTIwJTIwJTIwJTVEJTJDJTBBJTI5JTI5JTBBJTBBJTI3JTI3JTI3JTJDJTIwY2l0YXRpb25zJTNEJTI3d2FhcmRlbmJ1cmcyMDEzYSUyNyUyOSUzQg==\")));\n",
       "    "
      ],
      "text/plain": [
       "<IPython.core.display.Javascript object>"
      ]
     },
     "metadata": {},
     "output_type": "display_data"
    },
    {
     "data": {
      "application/javascript": [
       "$('span:contains(\"# Temp\")').closest('.cell').remove();"
      ],
      "text/plain": [
       "<IPython.core.display.Javascript object>"
      ]
     },
     "metadata": {},
     "output_type": "display_data"
    },
    {
     "data": {
      "application/javascript": [
       "\n",
       "        $('span:contains(\"# Temp\")').closest('.cell').remove();\n",
       "        var code = IPython.notebook.insert_cell_below('code');\n",
       "        code.set_text(decodeURIComponent(window.atob(\"JTIzJTIwVGVtcCUwQWluc2VydCUyOCUyNyUyNyUyNyUwQXNpbmdoMjAxNWElMjAlM0QlMjBEQiUyOFdvcmtVbnJlbGF0ZWQlMjglMEElMjAlMjAlMjAlMjAyMDE1JTJDJTIwJTIyUHJvZ3JhbSUyMG1hbmFnZW1lbnQlMjBwcmFjdGljZXMlMjBpbiUyMGNvbnRleHQlMjBvZiUyMFNjcnVtJTNBJTIwQSUyMGNhc2UlMjBzdHVkeSUyMG9mJTIwdHdvJTIwU291dGglMjBBZnJpY2FuJTIwc29mdHdhcmUlMjBkZXZlbG9wbWVudCUyMFNNTUVzJTIyJTJDJTBBJTIwJTIwJTIwJTIwZGlzcGxheSUzRCUyMnNpbmdoJTIyJTJDJTBBJTIwJTIwJTIwJTIwYXV0aG9ycyUzRCUyMlNpbmdoJTJDJTIwQWx2ZWVuJTIyJTJDJTBBJTIwJTIwJTIwJTIwcGxhY2UlM0RUaGVzaXMlMkMlMEElMjAlMjAlMjAlMjBlbnRyeXR5cGUlM0QlMjJwaGR0aGVzaXMlMjIlMkMlMEElMjAlMjAlMjAlMjBJRCUzRCUyMnNpbmdoMjAxNXByb2dyYW0lMjIlMkMlMEElMjAlMjAlMjAlMjBjbHVzdGVyX2lkJTNEJTIyMTU2NzcyNTg4NTU0OTU4NDkzNjIlMjIlMkMlMEElMjAlMjAlMjAlMjBzY2hvbGFyJTNEJTIyaHR0cCUzQS8vc2Nob2xhci5nb29nbGUuY29tL3NjaG9sYXIlM0ZjaXRlcyUzRDE1Njc3MjU4ODU1NDk1ODQ5MzYyJTI2YXNfc2R0JTNEMjAwNSUyNnNjaW9kdCUzRDAlMkM1JTI2aGwlM0RlbiUyMiUyQyUwQSUyMCUyMCUyMCUyMHBsYWNleCUzRCUyMiUyMiUyQyUwQSUyOSUyOSUwQSUwQURCJTI4Q2l0YXRpb24lMjglMEElMjAlMjAlMjAlMjBzaW5naDIwMTVhJTJDJTIwd2FhcmRlbmJ1cmcyMDEzYSUyQyUyMHJlZiUzRCUyMiUyMiUyQyUwQSUyMCUyMCUyMCUyMGNvbnRleHRzJTNEJTVCJTBBJTBBJTIwJTIwJTIwJTIwJTVEJTJDJTBBJTI5JTI5JTBBJTBBJTI3JTI3JTI3JTJDJTIwY2l0YXRpb25zJTNEJTI3d2FhcmRlbmJ1cmcyMDEzYSUyNyUyOSUzQg==\")));\n",
       "    "
      ],
      "text/plain": [
       "<IPython.core.display.Javascript object>"
      ]
     },
     "metadata": {},
     "output_type": "display_data"
    },
    {
     "data": {
      "application/javascript": [
       "$('span:contains(\"# Temp\")').closest('.cell').remove();"
      ],
      "text/plain": [
       "<IPython.core.display.Javascript object>"
      ]
     },
     "metadata": {},
     "output_type": "display_data"
    },
    {
     "data": {
      "application/javascript": [
       "\n",
       "        $('span:contains(\"# Temp\")').closest('.cell').remove();\n",
       "        var code = IPython.notebook.insert_cell_below('code');\n",
       "        code.set_text(decodeURIComponent(window.atob(\"JTIzJTIwVGVtcCUwQWluc2VydCUyOCUyNyUyNyUyNyUwQXNpbmdoMjAxNWElMjAlM0QlMjBEQiUyOFdvcmtVbnJlbGF0ZWQlMjglMEElMjAlMjAlMjAlMjAyMDE1JTJDJTIwJTIyUHJvZ3JhbSUyMG1hbmFnZW1lbnQlMjBwcmFjdGljZXMlMjBpbiUyMGNvbnRleHQlMjBvZiUyMFNjcnVtJTNBJTIwQSUyMGNhc2UlMjBzdHVkeSUyMG9mJTIwdHdvJTIwU291dGglMjBBZnJpY2FuJTIwc29mdHdhcmUlMjBkZXZlbG9wbWVudCUyMFNNTUVzJTIyJTJDJTBBJTIwJTIwJTIwJTIwZGlzcGxheSUzRCUyMnNpbmdoJTIyJTJDJTBBJTIwJTIwJTIwJTIwYXV0aG9ycyUzRCUyMlNpbmdoJTJDJTIwQWx2ZWVuJTIyJTJDJTBBJTIwJTIwJTIwJTIwcGxhY2UlM0RUaGVzaXMlMkMlMEElMjAlMjAlMjAlMjBlbnRyeXR5cGUlM0QlMjJwaGR0aGVzaXMlMjIlMkMlMEElMjAlMjAlMjAlMjBJRCUzRCUyMnNpbmdoMjAxNXByb2dyYW0lMjIlMkMlMEElMjAlMjAlMjAlMjBjbHVzdGVyX2lkJTNEJTIyMTU2NzcyNTg4NTU0OTU4NDkzNjIlMjIlMkMlMEElMjAlMjAlMjAlMjBzY2hvbGFyJTNEJTIyaHR0cCUzQS8vc2Nob2xhci5nb29nbGUuY29tL3NjaG9sYXIlM0ZjaXRlcyUzRDE1Njc3MjU4ODU1NDk1ODQ5MzYyJTI2YXNfc2R0JTNEMjAwNSUyNnNjaW9kdCUzRDAlMkM1JTI2aGwlM0RlbiUyMiUyQyUwQSUyMCUyMCUyMCUyMHBsYWNleCUzRCUyMiUyMiUyQyUwQSUyOSUyOSUwQSUwQURCJTI4Q2l0YXRpb24lMjglMEElMjAlMjAlMjAlMjBzaW5naDIwMTVhJTJDJTIwd2FhcmRlbmJ1cmcyMDEzYSUyQyUyMHJlZiUzRCUyMiUyMiUyQyUwQSUyMCUyMCUyMCUyMGNvbnRleHRzJTNEJTVCJTBBJTBBJTIwJTIwJTIwJTIwJTVEJTJDJTBBJTI5JTI5JTBBJTBBJTI3JTI3JTI3JTJDJTIwY2l0YXRpb25zJTNEJTI3d2FhcmRlbmJ1cmcyMDEzYSUyNyUyOSUzQg==\")));\n",
       "    "
      ],
      "text/plain": [
       "<IPython.core.display.Javascript object>"
      ]
     },
     "metadata": {},
     "output_type": "display_data"
    },
    {
     "data": {
      "application/javascript": [
       "$('span:contains(\"# Temp\")').closest('.cell').remove();"
      ],
      "text/plain": [
       "<IPython.core.display.Javascript object>"
      ]
     },
     "metadata": {},
     "output_type": "display_data"
    },
    {
     "data": {
      "application/javascript": [
       "\n",
       "        $('span:contains(\"# Temp\")').closest('.cell').remove();\n",
       "        var code = IPython.notebook.insert_cell_below('code');\n",
       "        code.set_text(decodeURIComponent(window.atob(\"JTIzJTIwVGVtcCUwQWluc2VydCUyOCUyNyUyNyUyNyUwQWxhdWtrYW5lbjIwMTZhJTIwJTNEJTIwREIlMjhXb3JrVW5yZWxhdGVkJTI4JTBBJTIwJTIwJTIwJTIwMjAxNiUyQyUyMCUyMkJvdHRvbS11cCUyMGFkb3B0aW9uJTIwb2YlMjBjb250aW51b3VzJTIwZGVsaXZlcnklMjBpbiUyMGElMjBzdGFnZS1nYXRlJTIwbWFuYWdlZCUyMHNvZnR3YXJlJTIwb3JnYW5pemF0aW9uJTIyJTJDJTBBJTIwJTIwJTIwJTIwZGlzcGxheSUzRCUyMmxhdWtrYW5lbiUyMiUyQyUwQSUyMCUyMCUyMCUyMGF1dGhvcnMlM0QlMjJMYXVra2FuZW4lMkMlMjBFZXJvJTIwYW5kJTIwTGVodGluZW4lMkMlMjBUaW1vJTIwT0ElMjBhbmQlMjBJdGtvbmVuJTJDJTIwSnVoYSUyMGFuZCUyMFBhYXNpdmFhcmElMkMlMjBNYXJpYSUyMGFuZCUyMExhc3Nlbml1cyUyQyUyMENhc3BlciUyMiUyQyUwQSUyMCUyMCUyMCUyMHBsYWNlJTNERVNFTSUyQyUwQSUyMCUyMCUyMCUyMHBwJTNEJTIyNDUlMjIlMkMlMEElMjAlMjAlMjAlMjBlbnRyeXR5cGUlM0QlMjJpbnByb2NlZWRpbmdzJTIyJTJDJTBBJTIwJTIwJTIwJTIwb3JnYW5pemF0aW9uJTNEJTIyQUNNJTIyJTJDJTBBJTIwJTIwJTIwJTIwSUQlM0QlMjJsYXVra2FuZW4yMDE2Ym90dG9tJTIyJTJDJTBBJTIwJTIwJTIwJTIwY2x1c3Rlcl9pZCUzRCUyMjQ5MDMzMTQyODEyNTIxNzk0MTElMjIlMkMlMEElMjAlMjAlMjAlMjBzY2hvbGFyJTNEJTIyaHR0cCUzQS8vc2Nob2xhci5nb29nbGUuY29tL3NjaG9sYXIlM0ZjaXRlcyUzRDQ5MDMzMTQyODEyNTIxNzk0MTElMjZhc19zZHQlM0QyMDA1JTI2c2Npb2R0JTNEMCUyQzUlMjZobCUzRGVuJTIyJTJDJTBBJTIwJTIwJTIwJTIwcGxhY2V4JTNEJTIyUHJvY2VlZGluZ3MlMjBvZiUyMHRoZSUyMDEwdGglMjBBQ00vSUVFRSUyMEludGVybmF0aW9uYWwlMjBTeW1wb3NpdW0lMjBvbiUyMEVtcGlyaWNhbCUyMFNvZnR3YXJlJTIwRW5naW5lZXJpbmclMjBhbmQlMjBNZWFzdXJlbWVudCUyMiUyQyUwQSUyOSUyOSUwQSUwQURCJTI4Q2l0YXRpb24lMjglMEElMjAlMjAlMjAlMjBsYXVra2FuZW4yMDE2YSUyQyUyMHdhYXJkZW5idXJnMjAxM2ElMkMlMjByZWYlM0QlMjIlMjIlMkMlMEElMjAlMjAlMjAlMjBjb250ZXh0cyUzRCU1QiUwQSUwQSUyMCUyMCUyMCUyMCU1RCUyQyUwQSUyOSUyOSUwQSUwQSUyNyUyNyUyNyUyQyUyMGNpdGF0aW9ucyUzRCUyN3dhYXJkZW5idXJnMjAxM2ElMjclMjklM0I=\")));\n",
       "    "
      ],
      "text/plain": [
       "<IPython.core.display.Javascript object>"
      ]
     },
     "metadata": {},
     "output_type": "display_data"
    },
    {
     "data": {
      "application/javascript": [
       "$('span:contains(\"# Temp\")').closest('.cell').remove();"
      ],
      "text/plain": [
       "<IPython.core.display.Javascript object>"
      ]
     },
     "metadata": {},
     "output_type": "display_data"
    },
    {
     "data": {
      "application/javascript": [
       "\n",
       "        $('span:contains(\"# Temp\")').closest('.cell').remove();\n",
       "        var code = IPython.notebook.insert_cell_below('code');\n",
       "        code.set_text(decodeURIComponent(window.atob(\"JTIzJTIwVGVtcCUwQWluc2VydCUyOCUyNyUyNyUyNyUwQWxhdWtrYW5lbjIwMTZhJTIwJTNEJTIwREIlMjhXb3JrVW5yZWxhdGVkJTI4JTBBJTIwJTIwJTIwJTIwMjAxNiUyQyUyMCUyMkJvdHRvbS11cCUyMGFkb3B0aW9uJTIwb2YlMjBjb250aW51b3VzJTIwZGVsaXZlcnklMjBpbiUyMGElMjBzdGFnZS1nYXRlJTIwbWFuYWdlZCUyMHNvZnR3YXJlJTIwb3JnYW5pemF0aW9uJTIyJTJDJTBBJTIwJTIwJTIwJTIwZGlzcGxheSUzRCUyMmxhdWtrYW5lbiUyMiUyQyUwQSUyMCUyMCUyMCUyMGF1dGhvcnMlM0QlMjJMYXVra2FuZW4lMkMlMjBFZXJvJTIwYW5kJTIwTGVodGluZW4lMkMlMjBUaW1vJTIwT0ElMjBhbmQlMjBJdGtvbmVuJTJDJTIwSnVoYSUyMGFuZCUyMFBhYXNpdmFhcmElMkMlMjBNYXJpYSUyMGFuZCUyMExhc3Nlbml1cyUyQyUyMENhc3BlciUyMiUyQyUwQSUyMCUyMCUyMCUyMHBsYWNlJTNERVNFTSUyQyUwQSUyMCUyMCUyMCUyMHBwJTNEJTIyNDUlMjIlMkMlMEElMjAlMjAlMjAlMjBlbnRyeXR5cGUlM0QlMjJpbnByb2NlZWRpbmdzJTIyJTJDJTBBJTIwJTIwJTIwJTIwb3JnYW5pemF0aW9uJTNEJTIyQUNNJTIyJTJDJTBBJTIwJTIwJTIwJTIwSUQlM0QlMjJsYXVra2FuZW4yMDE2Ym90dG9tJTIyJTJDJTBBJTIwJTIwJTIwJTIwY2x1c3Rlcl9pZCUzRCUyMjQ5MDMzMTQyODEyNTIxNzk0MTElMjIlMkMlMEElMjAlMjAlMjAlMjBzY2hvbGFyJTNEJTIyaHR0cCUzQS8vc2Nob2xhci5nb29nbGUuY29tL3NjaG9sYXIlM0ZjaXRlcyUzRDQ5MDMzMTQyODEyNTIxNzk0MTElMjZhc19zZHQlM0QyMDA1JTI2c2Npb2R0JTNEMCUyQzUlMjZobCUzRGVuJTIyJTJDJTBBJTIwJTIwJTIwJTIwcGxhY2V4JTNEJTIyUHJvY2VlZGluZ3MlMjBvZiUyMHRoZSUyMDEwdGglMjBBQ00vSUVFRSUyMEludGVybmF0aW9uYWwlMjBTeW1wb3NpdW0lMjBvbiUyMEVtcGlyaWNhbCUyMFNvZnR3YXJlJTIwRW5naW5lZXJpbmclMjBhbmQlMjBNZWFzdXJlbWVudCUyMiUyQyUwQSUyOSUyOSUwQSUwQURCJTI4Q2l0YXRpb24lMjglMEElMjAlMjAlMjAlMjBsYXVra2FuZW4yMDE2YSUyQyUyMHdhYXJkZW5idXJnMjAxM2ElMkMlMjByZWYlM0QlMjIlMjIlMkMlMEElMjAlMjAlMjAlMjBjb250ZXh0cyUzRCU1QiUwQSUwQSUyMCUyMCUyMCUyMCU1RCUyQyUwQSUyOSUyOSUwQSUwQSUyNyUyNyUyNyUyQyUyMGNpdGF0aW9ucyUzRCUyN3dhYXJkZW5idXJnMjAxM2ElMjclMjklM0I=\")));\n",
       "    "
      ],
      "text/plain": [
       "<IPython.core.display.Javascript object>"
      ]
     },
     "metadata": {},
     "output_type": "display_data"
    },
    {
     "data": {
      "application/javascript": [
       "$('span:contains(\"# Temp\")').closest('.cell').remove();"
      ],
      "text/plain": [
       "<IPython.core.display.Javascript object>"
      ]
     },
     "metadata": {},
     "output_type": "display_data"
    },
    {
     "data": {
      "application/javascript": [
       "\n",
       "        $('span:contains(\"# Temp\")').closest('.cell').remove();\n",
       "        var code = IPython.notebook.insert_cell_below('code');\n",
       "        code.set_text(decodeURIComponent(window.atob(\"JTIzJTIwVGVtcCUwQWluc2VydCUyOCUyNyUyNyUyNyUwQWJhc2VlcjIwMTVhJTIwJTNEJTIwREIlMjhXb3JrVW5yZWxhdGVkJTI4JTBBJTIwJTIwJTIwJTIwMjAxNSUyQyUyMCUyMkElMjBTWVNURU1BVElDJTIwU1VSVkVZJTIwT04lMjBXQVRFUkZBTEwlMjBWUy4lMjBBR0lMRSUyMFZTLiUyMExFQU4lMjBQUk9DRVNTJTIwUEFSQURJR01TLiUyMiUyQyUwQSUyMCUyMCUyMCUyMGRpc3BsYXklM0QlMjJiYXNlZXIlMjIlMkMlMEElMjAlMjAlMjAlMjBhdXRob3JzJTNEJTIyQmFzZWVyJTJDJTIwS0slMjBhbmQlMjBSRUREWSUyQyUyME1PSEFOJTIwYW5kJTIwUkFNQSUyQyUyMEElMjBhbmQlMjBCSU5EVSUyQyUyMEMlMjBTSE9CQSUyMiUyQyUwQSUyMCUyMCUyMCUyMHBsYWNlJTNERkFLRSUyQyUwQSUyMCUyMCUyMCUyMGVudHJ5dHlwZSUzRCUyMmFydGljbGUlMjIlMkMlMEElMjAlMjAlMjAlMjB2b2x1bWUlM0QlMjI5JTIyJTJDJTBBJTIwJTIwJTIwJTIwbnVtYmVyJTNEJTIyMyUyMiUyQyUwQSUyMCUyMCUyMCUyMElEJTNEJTIyYmFzZWVyMjAxNXN5c3RlbWF0aWMlMjIlMkMlMEElMjAlMjAlMjAlMjBjbHVzdGVyX2lkJTNEJTIyMTA3ODY1NTM1OTg2NDY1OTgzOTclMjIlMkMlMEElMjAlMjAlMjAlMjBzY2hvbGFyJTNEJTIyaHR0cCUzQS8vc2Nob2xhci5nb29nbGUuY29tL3NjaG9sYXIlM0ZjaXRlcyUzRDEwNzg2NTUzNTk4NjQ2NTk4Mzk3JTI2YXNfc2R0JTNEMjAwNSUyNnNjaW9kdCUzRDAlMkM1JTI2aGwlM0RlbiUyMiUyQyUwQSUyMCUyMCUyMCUyMHBsYWNleCUzRCUyMkpvdXJuYWwlMjBvbiUyMFNvZnR3YXJlJTIwRW5naW5lZXJpbmclMjIlMkMlMEElMjklMjklMEElMEFEQiUyOENpdGF0aW9uJTI4JTBBJTIwJTIwJTIwJTIwYmFzZWVyMjAxNWElMkMlMjB3YWFyZGVuYnVyZzIwMTNhJTJDJTIwcmVmJTNEJTIyJTIyJTJDJTBBJTIwJTIwJTIwJTIwY29udGV4dHMlM0QlNUIlMEElMEElMjAlMjAlMjAlMjAlNUQlMkMlMEElMjklMjklMEElMEElMjclMjclMjclMkMlMjBjaXRhdGlvbnMlM0QlMjd3YWFyZGVuYnVyZzIwMTNhJTI3JTI5JTNC\")));\n",
       "    "
      ],
      "text/plain": [
       "<IPython.core.display.Javascript object>"
      ]
     },
     "metadata": {},
     "output_type": "display_data"
    },
    {
     "data": {
      "application/javascript": [
       "$('span:contains(\"# Temp\")').closest('.cell').remove();"
      ],
      "text/plain": [
       "<IPython.core.display.Javascript object>"
      ]
     },
     "metadata": {},
     "output_type": "display_data"
    },
    {
     "data": {
      "application/javascript": [
       "\n",
       "        $('span:contains(\"# Temp\")').closest('.cell').remove();\n",
       "        var code = IPython.notebook.insert_cell_below('code');\n",
       "        code.set_text(decodeURIComponent(window.atob(\"JTIzJTIwVGVtcCUwQWluc2VydCUyOCUyNyUyNyUyNyUwQWJhc2VlcjIwMTVhJTIwJTNEJTIwREIlMjhXb3JrVW5yZWxhdGVkJTI4JTBBJTIwJTIwJTIwJTIwMjAxNSUyQyUyMCUyMkElMjBTWVNURU1BVElDJTIwU1VSVkVZJTIwT04lMjBXQVRFUkZBTEwlMjBWUy4lMjBBR0lMRSUyMFZTLiUyMExFQU4lMjBQUk9DRVNTJTIwUEFSQURJR01TLiUyMiUyQyUwQSUyMCUyMCUyMCUyMGRpc3BsYXklM0QlMjJiYXNlZXIlMjIlMkMlMEElMjAlMjAlMjAlMjBhdXRob3JzJTNEJTIyQmFzZWVyJTJDJTIwS0slMjBhbmQlMjBSRUREWSUyQyUyME1PSEFOJTIwYW5kJTIwUkFNQSUyQyUyMEElMjBhbmQlMjBCSU5EVSUyQyUyMEMlMjBTSE9CQSUyMiUyQyUwQSUyMCUyMCUyMCUyMHBsYWNlJTNERkFLRSUyQyUwQSUyMCUyMCUyMCUyMGVudHJ5dHlwZSUzRCUyMmFydGljbGUlMjIlMkMlMEElMjAlMjAlMjAlMjB2b2x1bWUlM0QlMjI5JTIyJTJDJTBBJTIwJTIwJTIwJTIwbnVtYmVyJTNEJTIyMyUyMiUyQyUwQSUyMCUyMCUyMCUyMElEJTNEJTIyYmFzZWVyMjAxNXN5c3RlbWF0aWMlMjIlMkMlMEElMjAlMjAlMjAlMjBjbHVzdGVyX2lkJTNEJTIyMTA3ODY1NTM1OTg2NDY1OTgzOTclMjIlMkMlMEElMjAlMjAlMjAlMjBzY2hvbGFyJTNEJTIyaHR0cCUzQS8vc2Nob2xhci5nb29nbGUuY29tL3NjaG9sYXIlM0ZjaXRlcyUzRDEwNzg2NTUzNTk4NjQ2NTk4Mzk3JTI2YXNfc2R0JTNEMjAwNSUyNnNjaW9kdCUzRDAlMkM1JTI2aGwlM0RlbiUyMiUyQyUwQSUyMCUyMCUyMCUyMHBsYWNleCUzRCUyMkpvdXJuYWwlMjBvbiUyMFNvZnR3YXJlJTIwRW5naW5lZXJpbmclMjIlMkMlMEElMjklMjklMEElMEFEQiUyOENpdGF0aW9uJTI4JTBBJTIwJTIwJTIwJTIwYmFzZWVyMjAxNWElMkMlMjB3YWFyZGVuYnVyZzIwMTNhJTJDJTIwcmVmJTNEJTIyJTIyJTJDJTBBJTIwJTIwJTIwJTIwY29udGV4dHMlM0QlNUIlMEElMEElMjAlMjAlMjAlMjAlNUQlMkMlMEElMjklMjklMEElMEElMjclMjclMjclMkMlMjBjaXRhdGlvbnMlM0QlMjd3YWFyZGVuYnVyZzIwMTNhJTI3JTI5JTNC\")));\n",
       "    "
      ],
      "text/plain": [
       "<IPython.core.display.Javascript object>"
      ]
     },
     "metadata": {},
     "output_type": "display_data"
    },
    {
     "data": {
      "application/javascript": [
       "$('span:contains(\"# Temp\")').closest('.cell').remove();"
      ],
      "text/plain": [
       "<IPython.core.display.Javascript object>"
      ]
     },
     "metadata": {},
     "output_type": "display_data"
    },
    {
     "data": {
      "application/javascript": [
       "\n",
       "        $('span:contains(\"# Temp\")').closest('.cell').remove();\n",
       "        var code = IPython.notebook.insert_cell_below('code');\n",
       "        code.set_text(decodeURIComponent(window.atob(\"JTIzJTIwVGVtcCUwQWluc2VydCUyOCUyNyUyNyUyNyUwQW1hbmVuMjAxNGElMjAlM0QlMjBEQiUyOFdvcmtVbnJlbGF0ZWQlMjglMEElMjAlMjAlMjAlMjAyMDE0JTJDJTIwJTIyT3JnYW5pemF0aW9uLXdpZGUlMjBhZ2lsZSUyMGV4cGFuc2lvbiUyMHJlcXVpcmVzJTIwYW4lMjBvcmdhbml6YXRpb24td2lkZSUyMGFnaWxlJTIwbWluZHNldCUyMiUyQyUwQSUyMCUyMCUyMCUyMGRpc3BsYXklM0QlMjJtYW5lbiUyMiUyQyUwQSUyMCUyMCUyMCUyMGF1dGhvcnMlM0QlMjJ2YW4lMjBNYW5lbiUyQyUyMEhpZGRlJTIwYW5kJTIwdmFuJTIwVmxpZXQlMkMlMjBIYW5zJTIyJTJDJTBBJTIwJTIwJTIwJTIwcGxhY2UlM0RJQ1BGU1BJJTJDJTBBJTIwJTIwJTIwJTIwcHAlM0QlMjI0OC0tNjIlMjIlMkMlMEElMjAlMjAlMjAlMjBlbnRyeXR5cGUlM0QlMjJpbnByb2NlZWRpbmdzJTIyJTJDJTBBJTIwJTIwJTIwJTIwb3JnYW5pemF0aW9uJTNEJTIyU3ByaW5nZXIlMjIlMkMlMEElMjAlMjAlMjAlMjBJRCUzRCUyMnZhbjIwMTRvcmdhbml6YXRpb24lMjIlMkMlMEElMjAlMjAlMjAlMjBjbHVzdGVyX2lkJTNEJTIyODg1NzgwMTc2MTM0NjQ4Nzg2MSUyMiUyQyUwQSUyMCUyMCUyMCUyMHNjaG9sYXIlM0QlMjJodHRwJTNBLy9zY2hvbGFyLmdvb2dsZS5jb20vc2Nob2xhciUzRmNpdGVzJTNEODg1NzgwMTc2MTM0NjQ4Nzg2MSUyNmFzX3NkdCUzRDIwMDUlMjZzY2lvZHQlM0QwJTJDNSUyNmhsJTNEZW4lMjIlMkMlMEElMjAlMjAlMjAlMjBwbGFjZXglM0QlMjJJbnRlcm5hdGlvbmFsJTIwQ29uZmVyZW5jZSUyMG9uJTIwUHJvZHVjdC1Gb2N1c2VkJTIwU29mdHdhcmUlMjBQcm9jZXNzJTIwSW1wcm92ZW1lbnQlMjIlMkMlMEElMjklMjklMEElMEFEQiUyOENpdGF0aW9uJTI4JTBBJTIwJTIwJTIwJTIwbWFuZW4yMDE0YSUyQyUyMHdhYXJkZW5idXJnMjAxM2ElMkMlMjByZWYlM0QlMjIlMjIlMkMlMEElMjAlMjAlMjAlMjBjb250ZXh0cyUzRCU1QiUwQSUwQSUyMCUyMCUyMCUyMCU1RCUyQyUwQSUyOSUyOSUwQSUwQSUyNyUyNyUyNyUyQyUyMGNpdGF0aW9ucyUzRCUyN3dhYXJkZW5idXJnMjAxM2ElMjclMjklM0I=\")));\n",
       "    "
      ],
      "text/plain": [
       "<IPython.core.display.Javascript object>"
      ]
     },
     "metadata": {},
     "output_type": "display_data"
    },
    {
     "data": {
      "application/javascript": [
       "$('span:contains(\"# Temp\")').closest('.cell').remove();"
      ],
      "text/plain": [
       "<IPython.core.display.Javascript object>"
      ]
     },
     "metadata": {},
     "output_type": "display_data"
    },
    {
     "data": {
      "application/javascript": [
       "\n",
       "        $('span:contains(\"# Temp\")').closest('.cell').remove();\n",
       "        var code = IPython.notebook.insert_cell_below('code');\n",
       "        code.set_text(decodeURIComponent(window.atob(\"JTIzJTIwVGVtcCUwQWluc2VydCUyOCUyNyUyNyUyNyUwQW1hbmVuMjAxNGElMjAlM0QlMjBEQiUyOFdvcmtVbnJlbGF0ZWQlMjglMEElMjAlMjAlMjAlMjAyMDE0JTJDJTIwJTIyT3JnYW5pemF0aW9uLXdpZGUlMjBhZ2lsZSUyMGV4cGFuc2lvbiUyMHJlcXVpcmVzJTIwYW4lMjBvcmdhbml6YXRpb24td2lkZSUyMGFnaWxlJTIwbWluZHNldCUyMiUyQyUwQSUyMCUyMCUyMCUyMGRpc3BsYXklM0QlMjJtYW5lbiUyMiUyQyUwQSUyMCUyMCUyMCUyMGF1dGhvcnMlM0QlMjJ2YW4lMjBNYW5lbiUyQyUyMEhpZGRlJTIwYW5kJTIwdmFuJTIwVmxpZXQlMkMlMjBIYW5zJTIyJTJDJTBBJTIwJTIwJTIwJTIwcGxhY2UlM0RJQ1BGU1BJJTJDJTBBJTIwJTIwJTIwJTIwcHAlM0QlMjI0OC0tNjIlMjIlMkMlMEElMjAlMjAlMjAlMjBlbnRyeXR5cGUlM0QlMjJpbnByb2NlZWRpbmdzJTIyJTJDJTBBJTIwJTIwJTIwJTIwb3JnYW5pemF0aW9uJTNEJTIyU3ByaW5nZXIlMjIlMkMlMEElMjAlMjAlMjAlMjBJRCUzRCUyMnZhbjIwMTRvcmdhbml6YXRpb24lMjIlMkMlMEElMjAlMjAlMjAlMjBjbHVzdGVyX2lkJTNEJTIyODg1NzgwMTc2MTM0NjQ4Nzg2MSUyMiUyQyUwQSUyMCUyMCUyMCUyMHNjaG9sYXIlM0QlMjJodHRwJTNBLy9zY2hvbGFyLmdvb2dsZS5jb20vc2Nob2xhciUzRmNpdGVzJTNEODg1NzgwMTc2MTM0NjQ4Nzg2MSUyNmFzX3NkdCUzRDIwMDUlMjZzY2lvZHQlM0QwJTJDNSUyNmhsJTNEZW4lMjIlMkMlMEElMjAlMjAlMjAlMjBwbGFjZXglM0QlMjJJbnRlcm5hdGlvbmFsJTIwQ29uZmVyZW5jZSUyMG9uJTIwUHJvZHVjdC1Gb2N1c2VkJTIwU29mdHdhcmUlMjBQcm9jZXNzJTIwSW1wcm92ZW1lbnQlMjIlMkMlMEElMjklMjklMEElMEFEQiUyOENpdGF0aW9uJTI4JTBBJTIwJTIwJTIwJTIwbWFuZW4yMDE0YSUyQyUyMHdhYXJkZW5idXJnMjAxM2ElMkMlMjByZWYlM0QlMjIlMjIlMkMlMEElMjAlMjAlMjAlMjBjb250ZXh0cyUzRCU1QiUwQSUwQSUyMCUyMCUyMCUyMCU1RCUyQyUwQSUyOSUyOSUwQSUwQSUyNyUyNyUyNyUyQyUyMGNpdGF0aW9ucyUzRCUyN3dhYXJkZW5idXJnMjAxM2ElMjclMjklM0I=\")));\n",
       "    "
      ],
      "text/plain": [
       "<IPython.core.display.Javascript object>"
      ]
     },
     "metadata": {},
     "output_type": "display_data"
    },
    {
     "data": {
      "application/javascript": [
       "$('span:contains(\"# Temp\")').closest('.cell').remove();"
      ],
      "text/plain": [
       "<IPython.core.display.Javascript object>"
      ]
     },
     "metadata": {},
     "output_type": "display_data"
    },
    {
     "data": {
      "application/javascript": [
       "\n",
       "        $('span:contains(\"# Temp\")').closest('.cell').remove();\n",
       "        var code = IPython.notebook.insert_cell_below('code');\n",
       "        code.set_text(decodeURIComponent(window.atob(\"JTIzJTIwVGVtcCUwQWluc2VydCUyOCUyNyUyNyUyNyUwQWJpc2hvcDIwMTZhJTIwJTNEJTIwREIlMjhXb3JrVW5yZWxhdGVkJTI4JTBBJTIwJTIwJTIwJTIwMjAxNiUyQyUyMCUyMk9uJTIwVW5kZXJzdGFuZGluZyUyMFByZWZlcmVuY2UlMjBmb3IlMjBBZ2lsZSUyME1ldGhvZHMlMjBhbW9uZyUyMFNvZnR3YXJlJTIwRGV2ZWxvcGVycyUyMiUyQyUwQSUyMCUyMCUyMCUyMGRpc3BsYXklM0QlMjJiaXNob3AlMjIlMkMlMEElMjAlMjAlMjAlMjBhdXRob3JzJTNEJTIyQmlzaG9wJTJDJTIwRGF2aWQlMjBhbmQlMjBEZW9rYXIlMkMlMjBBbWl0JTIwViUyMGFuZCUyMFNhcm5pa2FyJTJDJTIwU3VyZW5kcmElMjIlMkMlMEElMjAlMjAlMjAlMjBwbGFjZSUzREZBS0UlMkMlMEElMjAlMjAlMjAlMjBwcCUzRCUyMjEyLS0zNiUyMiUyQyUwQSUyMCUyMCUyMCUyMGVudHJ5dHlwZSUzRCUyMmFydGljbGUlMjIlMkMlMEElMjAlMjAlMjAlMjB2b2x1bWUlM0QlMjIyOSUyMiUyQyUwQSUyMCUyMCUyMCUyMG51bWJlciUzRCUyMjMlMjIlMkMlMEElMjAlMjAlMjAlMjBwdWJsaXNoZXIlM0QlMjJJR0klMjBHbG9iYWwlMjIlMkMlMEElMjAlMjAlMjAlMjBJRCUzRCUyMmJpc2hvcDIwMTZ1bmRlcnN0YW5kaW5nJTIyJTJDJTBBJTIwJTIwJTIwJTIwY2x1c3Rlcl9pZCUzRCUyMjc4MDI1OTI1MjQ2Mzg3NDk1NjElMjIlMkMlMEElMjAlMjAlMjAlMjBzY2hvbGFyJTNEJTIyaHR0cCUzQS8vc2Nob2xhci5nb29nbGUuY29tL3NjaG9sYXIlM0ZjaXRlcyUzRDc4MDI1OTI1MjQ2Mzg3NDk1NjElMjZhc19zZHQlM0QyMDA1JTI2c2Npb2R0JTNEMCUyQzUlMjZobCUzRGVuJTIyJTJDJTBBJTIwJTIwJTIwJTIwcGxhY2V4JTNEJTIySW5mb3JtYXRpb24lMjBSZXNvdXJjZXMlMjBNYW5hZ2VtZW50JTIwSm91cm5hbCUyMCUyOElSTUolMjklMjIlMkMlMEElMjklMjklMEElMEFEQiUyOENpdGF0aW9uJTI4JTBBJTIwJTIwJTIwJTIwYmlzaG9wMjAxNmElMkMlMjB3YWFyZGVuYnVyZzIwMTNhJTJDJTIwcmVmJTNEJTIyJTIyJTJDJTBBJTIwJTIwJTIwJTIwY29udGV4dHMlM0QlNUIlMEElMEElMjAlMjAlMjAlMjAlNUQlMkMlMEElMjklMjklMEElMEElMjclMjclMjclMkMlMjBjaXRhdGlvbnMlM0QlMjd3YWFyZGVuYnVyZzIwMTNhJTI3JTI5JTNC\")));\n",
       "    "
      ],
      "text/plain": [
       "<IPython.core.display.Javascript object>"
      ]
     },
     "metadata": {},
     "output_type": "display_data"
    },
    {
     "data": {
      "application/javascript": [
       "$('span:contains(\"# Temp\")').closest('.cell').remove();"
      ],
      "text/plain": [
       "<IPython.core.display.Javascript object>"
      ]
     },
     "metadata": {},
     "output_type": "display_data"
    },
    {
     "data": {
      "application/javascript": [
       "\n",
       "        $('span:contains(\"# Temp\")').closest('.cell').remove();\n",
       "        var code = IPython.notebook.insert_cell_below('code');\n",
       "        code.set_text(decodeURIComponent(window.atob(\"JTIzJTIwVGVtcCUwQWluc2VydCUyOCUyNyUyNyUyNyUwQWJpc2hvcDIwMTZhJTIwJTNEJTIwREIlMjhXb3JrVW5yZWxhdGVkJTI4JTBBJTIwJTIwJTIwJTIwMjAxNiUyQyUyMCUyMk9uJTIwVW5kZXJzdGFuZGluZyUyMFByZWZlcmVuY2UlMjBmb3IlMjBBZ2lsZSUyME1ldGhvZHMlMjBhbW9uZyUyMFNvZnR3YXJlJTIwRGV2ZWxvcGVycyUyMiUyQyUwQSUyMCUyMCUyMCUyMGRpc3BsYXklM0QlMjJiaXNob3AlMjIlMkMlMEElMjAlMjAlMjAlMjBhdXRob3JzJTNEJTIyQmlzaG9wJTJDJTIwRGF2aWQlMjBhbmQlMjBEZW9rYXIlMkMlMjBBbWl0JTIwViUyMGFuZCUyMFNhcm5pa2FyJTJDJTIwU3VyZW5kcmElMjIlMkMlMEElMjAlMjAlMjAlMjBwbGFjZSUzREZBS0UlMkMlMEElMjAlMjAlMjAlMjBwcCUzRCUyMjEyLS0zNiUyMiUyQyUwQSUyMCUyMCUyMCUyMGVudHJ5dHlwZSUzRCUyMmFydGljbGUlMjIlMkMlMEElMjAlMjAlMjAlMjB2b2x1bWUlM0QlMjIyOSUyMiUyQyUwQSUyMCUyMCUyMCUyMG51bWJlciUzRCUyMjMlMjIlMkMlMEElMjAlMjAlMjAlMjBwdWJsaXNoZXIlM0QlMjJJR0klMjBHbG9iYWwlMjIlMkMlMEElMjAlMjAlMjAlMjBJRCUzRCUyMmJpc2hvcDIwMTZ1bmRlcnN0YW5kaW5nJTIyJTJDJTBBJTIwJTIwJTIwJTIwY2x1c3Rlcl9pZCUzRCUyMjc4MDI1OTI1MjQ2Mzg3NDk1NjElMjIlMkMlMEElMjAlMjAlMjAlMjBzY2hvbGFyJTNEJTIyaHR0cCUzQS8vc2Nob2xhci5nb29nbGUuY29tL3NjaG9sYXIlM0ZjaXRlcyUzRDc4MDI1OTI1MjQ2Mzg3NDk1NjElMjZhc19zZHQlM0QyMDA1JTI2c2Npb2R0JTNEMCUyQzUlMjZobCUzRGVuJTIyJTJDJTBBJTIwJTIwJTIwJTIwcGxhY2V4JTNEJTIySW5mb3JtYXRpb24lMjBSZXNvdXJjZXMlMjBNYW5hZ2VtZW50JTIwSm91cm5hbCUyMCUyOElSTUolMjklMjIlMkMlMEElMjklMjklMEElMEFEQiUyOENpdGF0aW9uJTI4JTBBJTIwJTIwJTIwJTIwYmlzaG9wMjAxNmElMkMlMjB3YWFyZGVuYnVyZzIwMTNhJTJDJTIwcmVmJTNEJTIyJTIyJTJDJTBBJTIwJTIwJTIwJTIwY29udGV4dHMlM0QlNUIlMEElMEElMjAlMjAlMjAlMjAlNUQlMkMlMEElMjklMjklMEElMEElMjclMjclMjclMkMlMjBjaXRhdGlvbnMlM0QlMjd3YWFyZGVuYnVyZzIwMTNhJTI3JTI5JTNC\")));\n",
       "    "
      ],
      "text/plain": [
       "<IPython.core.display.Javascript object>"
      ]
     },
     "metadata": {},
     "output_type": "display_data"
    },
    {
     "data": {
      "application/javascript": [
       "$('span:contains(\"# Temp\")').closest('.cell').remove();"
      ],
      "text/plain": [
       "<IPython.core.display.Javascript object>"
      ]
     },
     "metadata": {},
     "output_type": "display_data"
    },
    {
     "data": {
      "application/javascript": [
       "\n",
       "        $('span:contains(\"# Temp\")').closest('.cell').remove();\n",
       "        var code = IPython.notebook.insert_cell_below('code');\n",
       "        code.set_text(decodeURIComponent(window.atob(\"JTIzJTIwVGVtcCUwQWluc2VydCUyOCUyNyUyNyUyNyUwQW1vcmtlbjIwMTRhJTIwJTNEJTIwREIlMjhXb3JrVW5yZWxhdGVkJTI4JTBBJTIwJTIwJTIwJTIwMjAxNCUyQyUyMCUyMkNvb3JkaW5hdGlvbiUyMGluJTIwTGFyZ2UtU2NhbGUlMjBBZ2lsZSUyMERldmVsb3BtZW50JTIyJTJDJTBBJTIwJTIwJTIwJTIwZGlzcGxheSUzRCUyMm1vcmtlbiUyMiUyQyUwQSUyMCUyMCUyMCUyMGF1dGhvcnMlM0QlMjJNb3JrZW4lMkMlMjBSYWduYXIlMjBBbGV4YW5kZXIlMjBUJTIyJTJDJTBBJTIwJTIwJTIwJTIwcGxhY2UlM0RUaGVzaXMlMkMlMEElMjAlMjAlMjAlMjBlbnRyeXR5cGUlM0QlMjJtYXN0ZXJzdGhlc2lzJTIyJTJDJTBBJTIwJTIwJTIwJTIwSUQlM0QlMjJtb3JrZW4yMDE0Y29vcmRpbmF0aW9uJTIyJTJDJTBBJTIwJTIwJTIwJTIwY2x1c3Rlcl9pZCUzRCUyMjE1ODg1MTk2NDI1NzIxMzMxMTE4JTIyJTJDJTBBJTIwJTIwJTIwJTIwc2Nob2xhciUzRCUyMmh0dHAlM0EvL3NjaG9sYXIuZ29vZ2xlLmNvbS9zY2hvbGFyJTNGY2l0ZXMlM0QxNTg4NTE5NjQyNTcyMTMzMTExOCUyNmFzX3NkdCUzRDIwMDUlMjZzY2lvZHQlM0QwJTJDNSUyNmhsJTNEZW4lMjIlMkMlMEElMjAlMjAlMjAlMjBsb2NhbCUzRCUyMkluc3RpdHV0dCUyMGZvciUyMGRhdGF0ZWtuaWtrJTIwb2clMjBpbmZvcm1hc2pvbnN2aXRlbnNrYXAlMjIlMkMlMEElMjAlMjAlMjAlMjBwbGFjZXglM0QlMjIlMjIlMkMlMEElMjklMjklMEElMEFEQiUyOENpdGF0aW9uJTI4JTBBJTIwJTIwJTIwJTIwbW9ya2VuMjAxNGElMkMlMjB3YWFyZGVuYnVyZzIwMTNhJTJDJTIwcmVmJTNEJTIyJTIyJTJDJTBBJTIwJTIwJTIwJTIwY29udGV4dHMlM0QlNUIlMEElMEElMjAlMjAlMjAlMjAlNUQlMkMlMEElMjklMjklMEElMEElMjclMjclMjclMkMlMjBjaXRhdGlvbnMlM0QlMjd3YWFyZGVuYnVyZzIwMTNhJTI3JTI5JTNC\")));\n",
       "    "
      ],
      "text/plain": [
       "<IPython.core.display.Javascript object>"
      ]
     },
     "metadata": {},
     "output_type": "display_data"
    },
    {
     "data": {
      "application/javascript": [
       "$('span:contains(\"# Temp\")').closest('.cell').remove();"
      ],
      "text/plain": [
       "<IPython.core.display.Javascript object>"
      ]
     },
     "metadata": {},
     "output_type": "display_data"
    },
    {
     "data": {
      "application/javascript": [
       "\n",
       "        $('span:contains(\"# Temp\")').closest('.cell').remove();\n",
       "        var code = IPython.notebook.insert_cell_below('code');\n",
       "        code.set_text(decodeURIComponent(window.atob(\"JTIzJTIwVGVtcCUwQWluc2VydCUyOCUyNyUyNyUyNyUwQW1vcmtlbjIwMTRhJTIwJTNEJTIwREIlMjhXb3JrVW5yZWxhdGVkJTI4JTBBJTIwJTIwJTIwJTIwMjAxNCUyQyUyMCUyMkNvb3JkaW5hdGlvbiUyMGluJTIwTGFyZ2UtU2NhbGUlMjBBZ2lsZSUyMERldmVsb3BtZW50JTIyJTJDJTBBJTIwJTIwJTIwJTIwZGlzcGxheSUzRCUyMm1vcmtlbiUyMiUyQyUwQSUyMCUyMCUyMCUyMGF1dGhvcnMlM0QlMjJNb3JrZW4lMkMlMjBSYWduYXIlMjBBbGV4YW5kZXIlMjBUJTIyJTJDJTBBJTIwJTIwJTIwJTIwcGxhY2UlM0RUaGVzaXMlMkMlMEElMjAlMjAlMjAlMjBlbnRyeXR5cGUlM0QlMjJtYXN0ZXJzdGhlc2lzJTIyJTJDJTBBJTIwJTIwJTIwJTIwSUQlM0QlMjJtb3JrZW4yMDE0Y29vcmRpbmF0aW9uJTIyJTJDJTBBJTIwJTIwJTIwJTIwY2x1c3Rlcl9pZCUzRCUyMjE1ODg1MTk2NDI1NzIxMzMxMTE4JTIyJTJDJTBBJTIwJTIwJTIwJTIwc2Nob2xhciUzRCUyMmh0dHAlM0EvL3NjaG9sYXIuZ29vZ2xlLmNvbS9zY2hvbGFyJTNGY2l0ZXMlM0QxNTg4NTE5NjQyNTcyMTMzMTExOCUyNmFzX3NkdCUzRDIwMDUlMjZzY2lvZHQlM0QwJTJDNSUyNmhsJTNEZW4lMjIlMkMlMEElMjAlMjAlMjAlMjBsb2NhbCUzRCUyMkluc3RpdHV0dCUyMGZvciUyMGRhdGF0ZWtuaWtrJTIwb2clMjBpbmZvcm1hc2pvbnN2aXRlbnNrYXAlMjIlMkMlMEElMjAlMjAlMjAlMjBwbGFjZXglM0QlMjIlMjIlMkMlMEElMjklMjklMEElMEFEQiUyOENpdGF0aW9uJTI4JTBBJTIwJTIwJTIwJTIwbW9ya2VuMjAxNGElMkMlMjB3YWFyZGVuYnVyZzIwMTNhJTJDJTIwcmVmJTNEJTIyJTIyJTJDJTBBJTIwJTIwJTIwJTIwY29udGV4dHMlM0QlNUIlMEElMEElMjAlMjAlMjAlMjAlNUQlMkMlMEElMjklMjklMEElMEElMjclMjclMjclMkMlMjBjaXRhdGlvbnMlM0QlMjd3YWFyZGVuYnVyZzIwMTNhJTI3JTI5JTNC\")));\n",
       "    "
      ],
      "text/plain": [
       "<IPython.core.display.Javascript object>"
      ]
     },
     "metadata": {},
     "output_type": "display_data"
    },
    {
     "data": {
      "application/javascript": [
       "$('span:contains(\"# Temp\")').closest('.cell').remove();"
      ],
      "text/plain": [
       "<IPython.core.display.Javascript object>"
      ]
     },
     "metadata": {},
     "output_type": "display_data"
    },
    {
     "data": {
      "application/javascript": [
       "\n",
       "        $('span:contains(\"# Temp\")').closest('.cell').remove();\n",
       "        var code = IPython.notebook.insert_cell_below('code');\n",
       "        code.set_text(decodeURIComponent(window.atob(\"JTIzJTIwVGVtcCUwQWluc2VydCUyOCUyNyUyNyUyNyUwQWpvc2VwaDIwMTdhJTIwJTNEJTIwREIlMjhXb3JrVW5yZWxhdGVkJTI4JTBBJTIwJTIwJTIwJTIwMjAxNyUyQyUyMCUyMkNvbmNlcHR1YWxpc2luZyUyMGElMjBtdWx0aWRpbWVuc2lvbmFsJTIwbW9kZWwlMjBvZiUyMGluZm9ybWF0aW9uJTIwY29tbXVuaWNhdGlvbiUyMGFuZCUyMHRlY2hub2xvZ3klMjBwcm9qZWN0JTIwY29tcGxleGl0eSUyMiUyQyUwQSUyMCUyMCUyMCUyMGRpc3BsYXklM0QlMjJqb3NlcGglMjIlMkMlMEElMjAlMjAlMjAlMjBhdXRob3JzJTNEJTIySm9zZXBoJTJDJTIwTmF6ZWVyJTIyJTJDJTBBJTIwJTIwJTIwJTIwcGxhY2UlM0RGQUtFJTJDJTBBJTIwJTIwJTIwJTIwcHAlM0QlMjIxLS0xNCUyMiUyQyUwQSUyMCUyMCUyMCUyMGVudHJ5dHlwZSUzRCUyMmFydGljbGUlMjIlMkMlMEElMjAlMjAlMjAlMjB2b2x1bWUlM0QlMjIxOSUyMiUyQyUwQSUyMCUyMCUyMCUyMG51bWJlciUzRCUyMjElMjIlMkMlMEElMjAlMjAlMjAlMjBwdWJsaXNoZXIlM0QlMjJBT1NJUyUyMiUyQyUwQSUyMCUyMCUyMCUyMElEJTNEJTIyam9zZXBoMjAxN2NvbmNlcHR1YWxpc2luZyUyMiUyQyUwQSUyMCUyMCUyMCUyMGNsdXN0ZXJfaWQlM0QlMjI5MjM2NzI1NzExOTg3NzMwNjU3JTIyJTJDJTBBJTIwJTIwJTIwJTIwc2Nob2xhciUzRCUyMmh0dHAlM0EvL3NjaG9sYXIuZ29vZ2xlLmNvbS9zY2hvbGFyJTNGY2l0ZXMlM0Q5MjM2NzI1NzExOTg3NzMwNjU3JTI2YXNfc2R0JTNEMjAwNSUyNnNjaW9kdCUzRDAlMkM1JTI2aGwlM0RlbiUyMiUyQyUwQSUyMCUyMCUyMCUyMHBsYWNleCUzRCUyMlNvdXRoJTIwQWZyaWNhbiUyMEpvdXJuYWwlMjBvZiUyMEluZm9ybWF0aW9uJTIwTWFuYWdlbWVudCUyMiUyQyUwQSUyOSUyOSUwQSUwQURCJTI4Q2l0YXRpb24lMjglMEElMjAlMjAlMjAlMjBqb3NlcGgyMDE3YSUyQyUyMHdhYXJkZW5idXJnMjAxM2ElMkMlMjByZWYlM0QlMjIlMjIlMkMlMEElMjAlMjAlMjAlMjBjb250ZXh0cyUzRCU1QiUwQSUwQSUyMCUyMCUyMCUyMCU1RCUyQyUwQSUyOSUyOSUwQSUwQSUyNyUyNyUyNyUyQyUyMGNpdGF0aW9ucyUzRCUyN3dhYXJkZW5idXJnMjAxM2ElMjclMjklM0I=\")));\n",
       "    "
      ],
      "text/plain": [
       "<IPython.core.display.Javascript object>"
      ]
     },
     "metadata": {},
     "output_type": "display_data"
    },
    {
     "data": {
      "application/javascript": [
       "$('span:contains(\"# Temp\")').closest('.cell').remove();"
      ],
      "text/plain": [
       "<IPython.core.display.Javascript object>"
      ]
     },
     "metadata": {},
     "output_type": "display_data"
    },
    {
     "data": {
      "application/javascript": [
       "\n",
       "        $('span:contains(\"# Temp\")').closest('.cell').remove();\n",
       "        var code = IPython.notebook.insert_cell_below('code');\n",
       "        code.set_text(decodeURIComponent(window.atob(\"JTIzJTIwVGVtcCUwQWluc2VydCUyOCUyNyUyNyUyNyUwQWpvc2VwaDIwMTdhJTIwJTNEJTIwREIlMjhXb3JrVW5yZWxhdGVkJTI4JTBBJTIwJTIwJTIwJTIwMjAxNyUyQyUyMCUyMkNvbmNlcHR1YWxpc2luZyUyMGElMjBtdWx0aWRpbWVuc2lvbmFsJTIwbW9kZWwlMjBvZiUyMGluZm9ybWF0aW9uJTIwY29tbXVuaWNhdGlvbiUyMGFuZCUyMHRlY2hub2xvZ3klMjBwcm9qZWN0JTIwY29tcGxleGl0eSUyMiUyQyUwQSUyMCUyMCUyMCUyMGRpc3BsYXklM0QlMjJqb3NlcGglMjIlMkMlMEElMjAlMjAlMjAlMjBhdXRob3JzJTNEJTIySm9zZXBoJTJDJTIwTmF6ZWVyJTIyJTJDJTBBJTIwJTIwJTIwJTIwcGxhY2UlM0RGQUtFJTJDJTBBJTIwJTIwJTIwJTIwcHAlM0QlMjIxLS0xNCUyMiUyQyUwQSUyMCUyMCUyMCUyMGVudHJ5dHlwZSUzRCUyMmFydGljbGUlMjIlMkMlMEElMjAlMjAlMjAlMjB2b2x1bWUlM0QlMjIxOSUyMiUyQyUwQSUyMCUyMCUyMCUyMG51bWJlciUzRCUyMjElMjIlMkMlMEElMjAlMjAlMjAlMjBwdWJsaXNoZXIlM0QlMjJBT1NJUyUyMiUyQyUwQSUyMCUyMCUyMCUyMElEJTNEJTIyam9zZXBoMjAxN2NvbmNlcHR1YWxpc2luZyUyMiUyQyUwQSUyMCUyMCUyMCUyMGNsdXN0ZXJfaWQlM0QlMjI5MjM2NzI1NzExOTg3NzMwNjU3JTIyJTJDJTBBJTIwJTIwJTIwJTIwc2Nob2xhciUzRCUyMmh0dHAlM0EvL3NjaG9sYXIuZ29vZ2xlLmNvbS9zY2hvbGFyJTNGY2l0ZXMlM0Q5MjM2NzI1NzExOTg3NzMwNjU3JTI2YXNfc2R0JTNEMjAwNSUyNnNjaW9kdCUzRDAlMkM1JTI2aGwlM0RlbiUyMiUyQyUwQSUyMCUyMCUyMCUyMHBsYWNleCUzRCUyMlNvdXRoJTIwQWZyaWNhbiUyMEpvdXJuYWwlMjBvZiUyMEluZm9ybWF0aW9uJTIwTWFuYWdlbWVudCUyMiUyQyUwQSUyOSUyOSUwQSUwQURCJTI4Q2l0YXRpb24lMjglMEElMjAlMjAlMjAlMjBqb3NlcGgyMDE3YSUyQyUyMHdhYXJkZW5idXJnMjAxM2ElMkMlMjByZWYlM0QlMjIlMjIlMkMlMEElMjAlMjAlMjAlMjBjb250ZXh0cyUzRCU1QiUwQSUwQSUyMCUyMCUyMCUyMCU1RCUyQyUwQSUyOSUyOSUwQSUwQSUyNyUyNyUyNyUyQyUyMGNpdGF0aW9ucyUzRCUyN3dhYXJkZW5idXJnMjAxM2ElMjclMjklM0I=\")));\n",
       "    "
      ],
      "text/plain": [
       "<IPython.core.display.Javascript object>"
      ]
     },
     "metadata": {},
     "output_type": "display_data"
    },
    {
     "data": {
      "application/javascript": [
       "$('span:contains(\"# Temp\")').closest('.cell').remove();"
      ],
      "text/plain": [
       "<IPython.core.display.Javascript object>"
      ]
     },
     "metadata": {},
     "output_type": "display_data"
    },
    {
     "data": {
      "application/javascript": [
       "\n",
       "        $('span:contains(\"# Temp\")').closest('.cell').remove();\n",
       "        var code = IPython.notebook.insert_cell_below('code');\n",
       "        code.set_text(decodeURIComponent(window.atob(\"JTIzJTIwVGVtcCUwQWluc2VydCUyOCUyNyUyNyUyNyUwQWRhcm5lbGwyMDE1YSUyMCUzRCUyMERCJTI4V29ya1VucmVsYXRlZCUyOCUwQSUyMCUyMCUyMCUyMDIwMTUlMkMlMjAlMjJJbXBsaWNpdCUyMGFuZCUyMGV4cGxpY2l0JTIwbWVhc3VyZXMlMjBvZiUyMGNvb3JkaW5hdGlvbiUyMGVmZmVjdGl2ZW5lc3MlMjBhcyUyMHByZWRpY3RvcnMlMjBvZiUyMGFnaWxlJTIwc29mdHdhcmUlMjBkZXZlbG9wbWVudCUyMHByb2plY3QlMjBzdWNjZXNzJTNBJTIwQSUyMHJlZ3Jlc3Npb24lMjBhcHByb2FjaCUyMiUyQyUwQSUyMCUyMCUyMCUyMGRpc3BsYXklM0QlMjJkYXJuZWxsJTIyJTJDJTBBJTIwJTIwJTIwJTIwYXV0aG9ycyUzRCUyMkRhcm5lbGwlMkMlMjBSb25hbGQlMjBDJTIyJTJDJTBBJTIwJTIwJTIwJTIwcGxhY2UlM0RUaGVzaXMlMkMlMEElMjAlMjAlMjAlMjBlbnRyeXR5cGUlM0QlMjJwaGR0aGVzaXMlMjIlMkMlMEElMjAlMjAlMjAlMjBJRCUzRCUyMmRhcm5lbGwyMDE1aW1wbGljaXQlMjIlMkMlMEElMjAlMjAlMjAlMjBjbHVzdGVyX2lkJTNEJTIyNDY3NTQzNzUxNTY3NjEzNjY4NSUyMiUyQyUwQSUyMCUyMCUyMCUyMHNjaG9sYXIlM0QlMjJodHRwJTNBLy9zY2hvbGFyLmdvb2dsZS5jb20vc2Nob2xhciUzRmNpdGVzJTNENDY3NTQzNzUxNTY3NjEzNjY4NSUyNmFzX3NkdCUzRDIwMDUlMjZzY2lvZHQlM0QwJTJDNSUyNmhsJTNEZW4lMjIlMkMlMEElMjAlMjAlMjAlMjBsb2NhbCUzRCUyMkNhcGVsbGElMjBVbml2ZXJzaXR5JTIyJTJDJTBBJTIwJTIwJTIwJTIwcGxhY2V4JTNEJTIyJTIyJTJDJTBBJTI5JTI5JTBBJTBBREIlMjhDaXRhdGlvbiUyOCUwQSUyMCUyMCUyMCUyMGRhcm5lbGwyMDE1YSUyQyUyMHdhYXJkZW5idXJnMjAxM2ElMkMlMjByZWYlM0QlMjIlMjIlMkMlMEElMjAlMjAlMjAlMjBjb250ZXh0cyUzRCU1QiUwQSUwQSUyMCUyMCUyMCUyMCU1RCUyQyUwQSUyOSUyOSUwQSUwQSUyNyUyNyUyNyUyQyUyMGNpdGF0aW9ucyUzRCUyN3dhYXJkZW5idXJnMjAxM2ElMjclMjklM0I=\")));\n",
       "    "
      ],
      "text/plain": [
       "<IPython.core.display.Javascript object>"
      ]
     },
     "metadata": {},
     "output_type": "display_data"
    },
    {
     "data": {
      "application/javascript": [
       "$('span:contains(\"# Temp\")').closest('.cell').remove();"
      ],
      "text/plain": [
       "<IPython.core.display.Javascript object>"
      ]
     },
     "metadata": {},
     "output_type": "display_data"
    },
    {
     "data": {
      "application/javascript": [
       "\n",
       "        $('span:contains(\"# Temp\")').closest('.cell').remove();\n",
       "        var code = IPython.notebook.insert_cell_below('code');\n",
       "        code.set_text(decodeURIComponent(window.atob(\"JTIzJTIwVGVtcCUwQWluc2VydCUyOCUyNyUyNyUyNyUwQWpvdmFub3ZpMjAxN2ElMjAlM0QlMjBEQiUyOFdvcmtVbnJlbGF0ZWQlMjglMEElMjAlMjAlMjAlMjAyMDE3JTJDJTIwJTIyVHJhbnNpdGlvbiUyMG9mJTIwb3JnYW5pemF0aW9uYWwlMjByb2xlcyUyMGluJTIwQWdpbGUlMjB0cmFuc2Zvcm1hdGlvbiUyMHByb2Nlc3MlM0ElMjBBJTIwZ3JvdW5kZWQlMjB0aGVvcnklMjBhcHByb2FjaCUyMiUyQyUwQSUyMCUyMCUyMCUyMGRpc3BsYXklM0QlMjJqb3Zhbm92aSUyMiUyQyUwQSUyMCUyMCUyMCUyMGF1dGhvcnMlM0QlMjJKb3Zhbm92aSU3QmMlQ0MlODElN0QlMkMlMjBNaWxvJTdCJUM1JUExJTdEJTIwYW5kJTIwTWFzJTJDJTIwQW50b25pYSUyMGFuZCUyME1lc3F1aWRhJTJDJTIwQW50b25pLUxsdSVDMyVBRHMlMjBhbmQlMjBMYWxpJTdCYyVDQyU4MSU3RCUyQyUyMEJvamFuJTIyJTJDJTBBJTIwJTIwJTIwJTIwcGxhY2UlM0RKU1MlMkMlMEElMjAlMjAlMjAlMjBwcCUzRCUyMjE3NC0tMTk0JTIyJTJDJTBBJTIwJTIwJTIwJTIwZW50cnl0eXBlJTNEJTIyYXJ0aWNsZSUyMiUyQyUwQSUyMCUyMCUyMCUyMHZvbHVtZSUzRCUyMjEzMyUyMiUyQyUwQSUyMCUyMCUyMCUyMHB1Ymxpc2hlciUzRCUyMkVsc2V2aWVyJTIyJTJDJTBBJTIwJTIwJTIwJTIwSUQlM0QlMjJqb3Zhbm92aWMyMDE3dHJhbnNpdGlvbiUyMiUyQyUwQSUyMCUyMCUyMCUyMGNsdXN0ZXJfaWQlM0QlMjIxMzI0MDY5NDI3NDg1NDAzODczMSUyMiUyQyUwQSUyMCUyMCUyMCUyMHNjaG9sYXIlM0QlMjJodHRwJTNBLy9zY2hvbGFyLmdvb2dsZS5jb20vc2Nob2xhciUzRmNpdGVzJTNEMTMyNDA2OTQyNzQ4NTQwMzg3MzElMjZhc19zZHQlM0QyMDA1JTI2c2Npb2R0JTNEMCUyQzUlMjZobCUzRGVuJTIyJTJDJTBBJTIwJTIwJTIwJTIwcGxhY2V4JTNEJTIySm91cm5hbCUyMG9mJTIwU3lzdGVtcyUyMGFuZCUyMFNvZnR3YXJlJTIyJTJDJTBBJTI5JTI5JTBBJTBBREIlMjhDaXRhdGlvbiUyOCUwQSUyMCUyMCUyMCUyMGpvdmFub3ZpMjAxN2ElMkMlMjB3YWFyZGVuYnVyZzIwMTNhJTJDJTIwcmVmJTNEJTIyJTIyJTJDJTBBJTIwJTIwJTIwJTIwY29udGV4dHMlM0QlNUIlMEElMEElMjAlMjAlMjAlMjAlNUQlMkMlMEElMjklMjklMEElMEElMjclMjclMjclMkMlMjBjaXRhdGlvbnMlM0QlMjd3YWFyZGVuYnVyZzIwMTNhJTI3JTI5JTNC\")));\n",
       "    "
      ],
      "text/plain": [
       "<IPython.core.display.Javascript object>"
      ]
     },
     "metadata": {},
     "output_type": "display_data"
    },
    {
     "data": {
      "application/javascript": [
       "$('span:contains(\"# Temp\")').closest('.cell').remove();"
      ],
      "text/plain": [
       "<IPython.core.display.Javascript object>"
      ]
     },
     "metadata": {},
     "output_type": "display_data"
    },
    {
     "data": {
      "application/javascript": [
       "\n",
       "        $('span:contains(\"# Temp\")').closest('.cell').remove();\n",
       "        var code = IPython.notebook.insert_cell_below('code');\n",
       "        code.set_text(decodeURIComponent(window.atob(\"JTIzJTIwVGVtcCUwQWluc2VydCUyOCUyNyUyNyUyNyUwQWpvdmFub3ZpMjAxN2ElMjAlM0QlMjBEQiUyOFdvcmtVbnJlbGF0ZWQlMjglMEElMjAlMjAlMjAlMjAyMDE3JTJDJTIwJTIyVHJhbnNpdGlvbiUyMG9mJTIwb3JnYW5pemF0aW9uYWwlMjByb2xlcyUyMGluJTIwQWdpbGUlMjB0cmFuc2Zvcm1hdGlvbiUyMHByb2Nlc3MlM0ElMjBBJTIwZ3JvdW5kZWQlMjB0aGVvcnklMjBhcHByb2FjaCUyMiUyQyUwQSUyMCUyMCUyMCUyMGRpc3BsYXklM0QlMjJqb3Zhbm92aSUyMiUyQyUwQSUyMCUyMCUyMCUyMGF1dGhvcnMlM0QlMjJKb3Zhbm92aSU3QmMlQ0MlODElN0QlMkMlMjBNaWxvJTdCJUM1JUExJTdEJTIwYW5kJTIwTWFzJTJDJTIwQW50b25pYSUyMGFuZCUyME1lc3F1aWRhJTJDJTIwQW50b25pLUxsdSVDMyVBRHMlMjBhbmQlMjBMYWxpJTdCYyVDQyU4MSU3RCUyQyUyMEJvamFuJTIyJTJDJTBBJTIwJTIwJTIwJTIwcGxhY2UlM0RKU1MlMkMlMEElMjAlMjAlMjAlMjBwcCUzRCUyMjE3NC0tMTk0JTIyJTJDJTBBJTIwJTIwJTIwJTIwZW50cnl0eXBlJTNEJTIyYXJ0aWNsZSUyMiUyQyUwQSUyMCUyMCUyMCUyMHZvbHVtZSUzRCUyMjEzMyUyMiUyQyUwQSUyMCUyMCUyMCUyMHB1Ymxpc2hlciUzRCUyMkVsc2V2aWVyJTIyJTJDJTBBJTIwJTIwJTIwJTIwSUQlM0QlMjJqb3Zhbm92aWMyMDE3dHJhbnNpdGlvbiUyMiUyQyUwQSUyMCUyMCUyMCUyMGNsdXN0ZXJfaWQlM0QlMjIxMzI0MDY5NDI3NDg1NDAzODczMSUyMiUyQyUwQSUyMCUyMCUyMCUyMHNjaG9sYXIlM0QlMjJodHRwJTNBLy9zY2hvbGFyLmdvb2dsZS5jb20vc2Nob2xhciUzRmNpdGVzJTNEMTMyNDA2OTQyNzQ4NTQwMzg3MzElMjZhc19zZHQlM0QyMDA1JTI2c2Npb2R0JTNEMCUyQzUlMjZobCUzRGVuJTIyJTJDJTBBJTIwJTIwJTIwJTIwcGxhY2V4JTNEJTIySm91cm5hbCUyMG9mJTIwU3lzdGVtcyUyMGFuZCUyMFNvZnR3YXJlJTIyJTJDJTBBJTI5JTI5JTBBJTBBREIlMjhDaXRhdGlvbiUyOCUwQSUyMCUyMCUyMCUyMGpvdmFub3ZpMjAxN2ElMkMlMjB3YWFyZGVuYnVyZzIwMTNhJTJDJTIwcmVmJTNEJTIyJTIyJTJDJTBBJTIwJTIwJTIwJTIwY29udGV4dHMlM0QlNUIlMEElMEElMjAlMjAlMjAlMjAlNUQlMkMlMEElMjklMjklMEElMEElMjclMjclMjclMkMlMjBjaXRhdGlvbnMlM0QlMjd3YWFyZGVuYnVyZzIwMTNhJTI3JTI5JTNC\")));\n",
       "    "
      ],
      "text/plain": [
       "<IPython.core.display.Javascript object>"
      ]
     },
     "metadata": {},
     "output_type": "display_data"
    },
    {
     "data": {
      "application/javascript": [
       "$('span:contains(\"# Temp\")').closest('.cell').remove();"
      ],
      "text/plain": [
       "<IPython.core.display.Javascript object>"
      ]
     },
     "metadata": {},
     "output_type": "display_data"
    },
    {
     "data": {
      "application/javascript": [
       "\n",
       "        $('span:contains(\"# Temp\")').closest('.cell').remove();\n",
       "        var code = IPython.notebook.insert_cell_below('code');\n",
       "        code.set_text(decodeURIComponent(window.atob(\"JTIzJTIwVGVtcCUwQWluc2VydCUyOCUyNyUyNyUyNyUwQWNvcm5lbGl1czIwMTRhJTIwJTNEJTIwREIlMjhXb3JrVW5yZWxhdGVkJTI4JTBBJTIwJTIwJTIwJTIwMjAxNCUyQyUyMCUyMlRoZSUyMHZhbHVlJTIwb2YlMjBTY3J1bSUyMHRvJTIwb3JnYW5pemF0aW9ucyUzQSUyMEElMjBjYXNlJTIwc3R1ZHklMjIlMkMlMEElMjAlMjAlMjAlMjBkaXNwbGF5JTNEJTIyY29ybmVsaXVzJTIyJTJDJTBBJTIwJTIwJTIwJTIwYXV0aG9ycyUzRCUyMkNvcm5lbGl1cyUyQyUyMERhdmUlMjBBJTIyJTJDJTBBJTIwJTIwJTIwJTIwcGxhY2UlM0RUaGVzaXMlMkMlMEElMjAlMjAlMjAlMjBlbnRyeXR5cGUlM0QlMjJwaGR0aGVzaXMlMjIlMkMlMEElMjAlMjAlMjAlMjBJRCUzRCUyMmNvcm5lbGl1czIwMTR2YWx1ZSUyMiUyQyUwQSUyMCUyMCUyMCUyMGNsdXN0ZXJfaWQlM0QlMjIyNTgwNzg2MDM4NDEyMjQ4MTQ5JTIyJTJDJTBBJTIwJTIwJTIwJTIwc2Nob2xhciUzRCUyMmh0dHAlM0EvL3NjaG9sYXIuZ29vZ2xlLmNvbS9zY2hvbGFyJTNGY2l0ZXMlM0QyNTgwNzg2MDM4NDEyMjQ4MTQ5JTI2YXNfc2R0JTNEMjAwNSUyNnNjaW9kdCUzRDAlMkM1JTI2aGwlM0RlbiUyMiUyQyUwQSUyMCUyMCUyMCUyMGxvY2FsJTNEJTIyVW5pdmVyc2l0eSUyMG9mJTIwUGhvZW5peCUyMiUyQyUwQSUyMCUyMCUyMCUyMHBsYWNleCUzRCUyMiUyMiUyQyUwQSUyOSUyOSUwQSUwQURCJTI4Q2l0YXRpb24lMjglMEElMjAlMjAlMjAlMjBjb3JuZWxpdXMyMDE0YSUyQyUyMHdhYXJkZW5idXJnMjAxM2ElMkMlMjByZWYlM0QlMjIlMjIlMkMlMEElMjAlMjAlMjAlMjBjb250ZXh0cyUzRCU1QiUwQSUwQSUyMCUyMCUyMCUyMCU1RCUyQyUwQSUyOSUyOSUwQSUwQSUyNyUyNyUyNyUyQyUyMGNpdGF0aW9ucyUzRCUyN3dhYXJkZW5idXJnMjAxM2ElMjclMjklM0I=\")));\n",
       "    "
      ],
      "text/plain": [
       "<IPython.core.display.Javascript object>"
      ]
     },
     "metadata": {},
     "output_type": "display_data"
    },
    {
     "data": {
      "application/javascript": [
       "$('span:contains(\"# Temp\")').closest('.cell').remove();"
      ],
      "text/plain": [
       "<IPython.core.display.Javascript object>"
      ]
     },
     "metadata": {},
     "output_type": "display_data"
    },
    {
     "data": {
      "application/javascript": [
       "\n",
       "        $('span:contains(\"# Temp\")').closest('.cell').remove();\n",
       "        var code = IPython.notebook.insert_cell_below('code');\n",
       "        code.set_text(decodeURIComponent(window.atob(\"JTIzJTIwVGVtcCUwQWluc2VydCUyOCUyNyUyNyUyNyUwQWNvcm5lbGl1czIwMTRhJTIwJTNEJTIwREIlMjhXb3JrVW5yZWxhdGVkJTI4JTBBJTIwJTIwJTIwJTIwMjAxNCUyQyUyMCUyMlRoZSUyMHZhbHVlJTIwb2YlMjBTY3J1bSUyMHRvJTIwb3JnYW5pemF0aW9ucyUzQSUyMEElMjBjYXNlJTIwc3R1ZHklMjIlMkMlMEElMjAlMjAlMjAlMjBkaXNwbGF5JTNEJTIyY29ybmVsaXVzJTIyJTJDJTBBJTIwJTIwJTIwJTIwYXV0aG9ycyUzRCUyMkNvcm5lbGl1cyUyQyUyMERhdmUlMjBBJTIyJTJDJTBBJTIwJTIwJTIwJTIwcGxhY2UlM0RUaGVzaXMlMkMlMEElMjAlMjAlMjAlMjBlbnRyeXR5cGUlM0QlMjJwaGR0aGVzaXMlMjIlMkMlMEElMjAlMjAlMjAlMjBJRCUzRCUyMmNvcm5lbGl1czIwMTR2YWx1ZSUyMiUyQyUwQSUyMCUyMCUyMCUyMGNsdXN0ZXJfaWQlM0QlMjIyNTgwNzg2MDM4NDEyMjQ4MTQ5JTIyJTJDJTBBJTIwJTIwJTIwJTIwc2Nob2xhciUzRCUyMmh0dHAlM0EvL3NjaG9sYXIuZ29vZ2xlLmNvbS9zY2hvbGFyJTNGY2l0ZXMlM0QyNTgwNzg2MDM4NDEyMjQ4MTQ5JTI2YXNfc2R0JTNEMjAwNSUyNnNjaW9kdCUzRDAlMkM1JTI2aGwlM0RlbiUyMiUyQyUwQSUyMCUyMCUyMCUyMGxvY2FsJTNEJTIyVW5pdmVyc2l0eSUyMG9mJTIwUGhvZW5peCUyMiUyQyUwQSUyMCUyMCUyMCUyMHBsYWNleCUzRCUyMiUyMiUyQyUwQSUyOSUyOSUwQSUwQURCJTI4Q2l0YXRpb24lMjglMEElMjAlMjAlMjAlMjBjb3JuZWxpdXMyMDE0YSUyQyUyMHdhYXJkZW5idXJnMjAxM2ElMkMlMjByZWYlM0QlMjIlMjIlMkMlMEElMjAlMjAlMjAlMjBjb250ZXh0cyUzRCU1QiUwQSUwQSUyMCUyMCUyMCUyMCU1RCUyQyUwQSUyOSUyOSUwQSUwQSUyNyUyNyUyNyUyQyUyMGNpdGF0aW9ucyUzRCUyN3dhYXJkZW5idXJnMjAxM2ElMjclMjklM0I=\")));\n",
       "    "
      ],
      "text/plain": [
       "<IPython.core.display.Javascript object>"
      ]
     },
     "metadata": {},
     "output_type": "display_data"
    },
    {
     "data": {
      "application/javascript": [
       "$('span:contains(\"# Temp\")').closest('.cell').remove();"
      ],
      "text/plain": [
       "<IPython.core.display.Javascript object>"
      ]
     },
     "metadata": {},
     "output_type": "display_data"
    },
    {
     "data": {
      "application/javascript": [
       "\n",
       "        $('span:contains(\"# Temp\")').closest('.cell').remove();\n",
       "        var code = IPython.notebook.insert_cell_below('code');\n",
       "        code.set_text(decodeURIComponent(window.atob(\"JTIzJTIwVGVtcCUwQWluc2VydCUyOCUyNyUyNyUyNyUwQWt1c3RlcnMyMDE3YSUyMCUzRCUyMERCJTI4V29ya1VucmVsYXRlZCUyOCUwQSUyMCUyMCUyMCUyMDIwMTclMkMlMjAlMjJXaGVuJTIwQWdpbGUlMjBNZWV0cyUyMFdhdGVyZmFsbCUyMiUyQyUwQSUyMCUyMCUyMCUyMGRpc3BsYXklM0QlMjJrdXN0ZXJzJTIyJTJDJTBBJTIwJTIwJTIwJTIwYXV0aG9ycyUzRCUyMkt1c3RlcnMlMkMlMjBSb2IlMjBKJTIwYW5kJTIwdmFuJTIwZGUlMjBMZXVyJTJDJTIwWW91cmklMjBhbmQlMjBSdXR0ZW4lMkMlMjBXZXJuZXIlMjBHTU0lMjBhbmQlMjBUcmllbmVrZW5zJTJDJTIwSm9zJTIwSk0lMjIlMkMlMEElMjAlMjAlMjAlMjBwbGFjZSUzREZBS0UlMkMlMEElMjAlMjAlMjAlMjBlbnRyeXR5cGUlM0QlMjJhcnRpY2xlJTIyJTJDJTBBJTIwJTIwJTIwJTIwSUQlM0QlMjJrdXN0ZXJzMjAxN2FnaWxlJTIyJTJDJTBBJTIwJTIwJTIwJTIwY2x1c3Rlcl9pZCUzRCUyMjExNDA2NzU4MDEwMDA3ODM5MTY2JTIyJTJDJTBBJTIwJTIwJTIwJTIwc2Nob2xhciUzRCUyMmh0dHAlM0EvL3NjaG9sYXIuZ29vZ2xlLmNvbS9zY2hvbGFyJTNGY2l0ZXMlM0QxMTQwNjc1ODAxMDAwNzgzOTE2NiUyNmFzX3NkdCUzRDIwMDUlMjZzY2lvZHQlM0QwJTJDNSUyNmhsJTNEZW4lMjIlMkMlMEElMjAlMjAlMjAlMjBwbGFjZXglM0QlMjIlMjIlMkMlMEElMjklMjklMEElMEFEQiUyOENpdGF0aW9uJTI4JTBBJTIwJTIwJTIwJTIwa3VzdGVyczIwMTdhJTJDJTIwd2FhcmRlbmJ1cmcyMDEzYSUyQyUyMHJlZiUzRCUyMiUyMiUyQyUwQSUyMCUyMCUyMCUyMGNvbnRleHRzJTNEJTVCJTBBJTBBJTIwJTIwJTIwJTIwJTVEJTJDJTBBJTI5JTI5JTBBJTBBJTI3JTI3JTI3JTJDJTIwY2l0YXRpb25zJTNEJTI3d2FhcmRlbmJ1cmcyMDEzYSUyNyUyOSUzQg==\")));\n",
       "    "
      ],
      "text/plain": [
       "<IPython.core.display.Javascript object>"
      ]
     },
     "metadata": {},
     "output_type": "display_data"
    },
    {
     "data": {
      "application/javascript": [
       "$('span:contains(\"# Temp\")').closest('.cell').remove();"
      ],
      "text/plain": [
       "<IPython.core.display.Javascript object>"
      ]
     },
     "metadata": {},
     "output_type": "display_data"
    },
    {
     "data": {
      "application/javascript": [
       "\n",
       "        $('span:contains(\"# Temp\")').closest('.cell').remove();\n",
       "        var code = IPython.notebook.insert_cell_below('code');\n",
       "        code.set_text(decodeURIComponent(window.atob(\"JTIzJTIwVGVtcCUwQWluc2VydCUyOCUyNyUyNyUyNyUwQWt1c3RlcnMyMDE3YSUyMCUzRCUyMERCJTI4V29ya1VucmVsYXRlZCUyOCUwQSUyMCUyMCUyMCUyMDIwMTclMkMlMjAlMjJXaGVuJTIwQWdpbGUlMjBNZWV0cyUyMFdhdGVyZmFsbCUyMiUyQyUwQSUyMCUyMCUyMCUyMGRpc3BsYXklM0QlMjJrdXN0ZXJzJTIyJTJDJTBBJTIwJTIwJTIwJTIwYXV0aG9ycyUzRCUyMkt1c3RlcnMlMkMlMjBSb2IlMjBKJTIwYW5kJTIwdmFuJTIwZGUlMjBMZXVyJTJDJTIwWW91cmklMjBhbmQlMjBSdXR0ZW4lMkMlMjBXZXJuZXIlMjBHTU0lMjBhbmQlMjBUcmllbmVrZW5zJTJDJTIwSm9zJTIwSk0lMjIlMkMlMEElMjAlMjAlMjAlMjBwbGFjZSUzREZBS0UlMkMlMEElMjAlMjAlMjAlMjBlbnRyeXR5cGUlM0QlMjJhcnRpY2xlJTIyJTJDJTBBJTIwJTIwJTIwJTIwSUQlM0QlMjJrdXN0ZXJzMjAxN2FnaWxlJTIyJTJDJTBBJTIwJTIwJTIwJTIwY2x1c3Rlcl9pZCUzRCUyMjExNDA2NzU4MDEwMDA3ODM5MTY2JTIyJTJDJTBBJTIwJTIwJTIwJTIwc2Nob2xhciUzRCUyMmh0dHAlM0EvL3NjaG9sYXIuZ29vZ2xlLmNvbS9zY2hvbGFyJTNGY2l0ZXMlM0QxMTQwNjc1ODAxMDAwNzgzOTE2NiUyNmFzX3NkdCUzRDIwMDUlMjZzY2lvZHQlM0QwJTJDNSUyNmhsJTNEZW4lMjIlMkMlMEElMjAlMjAlMjAlMjBwbGFjZXglM0QlMjIlMjIlMkMlMEElMjklMjklMEElMEFEQiUyOENpdGF0aW9uJTI4JTBBJTIwJTIwJTIwJTIwa3VzdGVyczIwMTdhJTJDJTIwd2FhcmRlbmJ1cmcyMDEzYSUyQyUyMHJlZiUzRCUyMiUyMiUyQyUwQSUyMCUyMCUyMCUyMGNvbnRleHRzJTNEJTVCJTBBJTBBJTIwJTIwJTIwJTIwJTVEJTJDJTBBJTI5JTI5JTBBJTBBJTI3JTI3JTI3JTJDJTIwY2l0YXRpb25zJTNEJTI3d2FhcmRlbmJ1cmcyMDEzYSUyNyUyOSUzQg==\")));\n",
       "    "
      ],
      "text/plain": [
       "<IPython.core.display.Javascript object>"
      ]
     },
     "metadata": {},
     "output_type": "display_data"
    },
    {
     "data": {
      "application/javascript": [
       "$('span:contains(\"# Temp\")').closest('.cell').remove();"
      ],
      "text/plain": [
       "<IPython.core.display.Javascript object>"
      ]
     },
     "metadata": {},
     "output_type": "display_data"
    },
    {
     "data": {
      "application/javascript": [
       "\n",
       "        $('span:contains(\"# Temp\")').closest('.cell').remove();\n",
       "        var code = IPython.notebook.insert_cell_below('code');\n",
       "        code.set_text(decodeURIComponent(window.atob(\"JTIzJTIwVGVtcCUwQWluc2VydCUyOCUyNyUyNyUyNyUwQWhyb24yMDE4YSUyMCUzRCUyMERCJTI4V29ya1VucmVsYXRlZCUyOCUwQSUyMCUyMCUyMCUyMDIwMTglMkMlMjAlMjJTY3J1bSUyMGluJTIwcHJhY3RpY2UlM0ElMjBhbiUyMG92ZXJ2aWV3JTIwb2YlMjBTY3J1bSUyMGFkYXB0YXRpb25zJTIyJTJDJTBBJTIwJTIwJTIwJTIwZGlzcGxheSUzRCUyMmhyb24lMjIlMkMlMEElMjAlMjAlMjAlMjBhdXRob3JzJTNEJTIySHJvbiUyQyUyME1pY2hhbCUyMGFuZCUyME9id2VnZXNlciUyQyUyME5pa29sYXVzJTIyJTJDJTBBJTIwJTIwJTIwJTIwcGxhY2UlM0RGQUtFJTJDJTBBJTIwJTIwJTIwJTIwZW50cnl0eXBlJTNEJTIyYXJ0aWNsZSUyMiUyQyUwQSUyMCUyMCUyMCUyMElEJTNEJTIyaHJvbjIwMThzY3J1bSUyMiUyQyUwQSUyMCUyMCUyMCUyMGNsdXN0ZXJfaWQlM0QlMjI1MzM3NTkzNzE2MjY5NDMzNzEzJTIyJTJDJTBBJTIwJTIwJTIwJTIwc2Nob2xhciUzRCUyMmh0dHAlM0EvL3NjaG9sYXIuZ29vZ2xlLmNvbS9zY2hvbGFyJTNGY2l0ZXMlM0Q1MzM3NTkzNzE2MjY5NDMzNzEzJTI2YXNfc2R0JTNEMjAwNSUyNnNjaW9kdCUzRDAlMkM1JTI2aGwlM0RlbiUyMiUyQyUwQSUyMCUyMCUyMCUyMHBsYWNleCUzRCUyMiUyMiUyQyUwQSUyOSUyOSUwQSUwQURCJTI4Q2l0YXRpb24lMjglMEElMjAlMjAlMjAlMjBocm9uMjAxOGElMkMlMjB3YWFyZGVuYnVyZzIwMTNhJTJDJTIwcmVmJTNEJTIyJTIyJTJDJTBBJTIwJTIwJTIwJTIwY29udGV4dHMlM0QlNUIlMEElMEElMjAlMjAlMjAlMjAlNUQlMkMlMEElMjklMjklMEElMEElMjclMjclMjclMkMlMjBjaXRhdGlvbnMlM0QlMjd3YWFyZGVuYnVyZzIwMTNhJTI3JTI5JTNC\")));\n",
       "    "
      ],
      "text/plain": [
       "<IPython.core.display.Javascript object>"
      ]
     },
     "metadata": {},
     "output_type": "display_data"
    },
    {
     "data": {
      "application/javascript": [
       "$('span:contains(\"# Temp\")').closest('.cell').remove();"
      ],
      "text/plain": [
       "<IPython.core.display.Javascript object>"
      ]
     },
     "metadata": {},
     "output_type": "display_data"
    },
    {
     "data": {
      "application/javascript": [
       "\n",
       "        $('span:contains(\"# Temp\")').closest('.cell').remove();\n",
       "        var code = IPython.notebook.insert_cell_below('code');\n",
       "        code.set_text(decodeURIComponent(window.atob(\"JTIzJTIwVGVtcCUwQWluc2VydCUyOCUyNyUyNyUyNyUwQWhyb24yMDE4YSUyMCUzRCUyMERCJTI4V29ya1VucmVsYXRlZCUyOCUwQSUyMCUyMCUyMCUyMDIwMTglMkMlMjAlMjJTY3J1bSUyMGluJTIwcHJhY3RpY2UlM0ElMjBhbiUyMG92ZXJ2aWV3JTIwb2YlMjBTY3J1bSUyMGFkYXB0YXRpb25zJTIyJTJDJTBBJTIwJTIwJTIwJTIwZGlzcGxheSUzRCUyMmhyb24lMjIlMkMlMEElMjAlMjAlMjAlMjBhdXRob3JzJTNEJTIySHJvbiUyQyUyME1pY2hhbCUyMGFuZCUyME9id2VnZXNlciUyQyUyME5pa29sYXVzJTIyJTJDJTBBJTIwJTIwJTIwJTIwcGxhY2UlM0RGQUtFJTJDJTBBJTIwJTIwJTIwJTIwZW50cnl0eXBlJTNEJTIyYXJ0aWNsZSUyMiUyQyUwQSUyMCUyMCUyMCUyMElEJTNEJTIyaHJvbjIwMThzY3J1bSUyMiUyQyUwQSUyMCUyMCUyMCUyMGNsdXN0ZXJfaWQlM0QlMjI1MzM3NTkzNzE2MjY5NDMzNzEzJTIyJTJDJTBBJTIwJTIwJTIwJTIwc2Nob2xhciUzRCUyMmh0dHAlM0EvL3NjaG9sYXIuZ29vZ2xlLmNvbS9zY2hvbGFyJTNGY2l0ZXMlM0Q1MzM3NTkzNzE2MjY5NDMzNzEzJTI2YXNfc2R0JTNEMjAwNSUyNnNjaW9kdCUzRDAlMkM1JTI2aGwlM0RlbiUyMiUyQyUwQSUyMCUyMCUyMCUyMHBsYWNleCUzRCUyMiUyMiUyQyUwQSUyOSUyOSUwQSUwQURCJTI4Q2l0YXRpb24lMjglMEElMjAlMjAlMjAlMjBocm9uMjAxOGElMkMlMjB3YWFyZGVuYnVyZzIwMTNhJTJDJTIwcmVmJTNEJTIyJTIyJTJDJTBBJTIwJTIwJTIwJTIwY29udGV4dHMlM0QlNUIlMEElMEElMjAlMjAlMjAlMjAlNUQlMkMlMEElMjklMjklMEElMEElMjclMjclMjclMkMlMjBjaXRhdGlvbnMlM0QlMjd3YWFyZGVuYnVyZzIwMTNhJTI3JTI5JTNC\")));\n",
       "    "
      ],
      "text/plain": [
       "<IPython.core.display.Javascript object>"
      ]
     },
     "metadata": {},
     "output_type": "display_data"
    },
    {
     "data": {
      "application/javascript": [
       "$('span:contains(\"# Temp\")').closest('.cell').remove();"
      ],
      "text/plain": [
       "<IPython.core.display.Javascript object>"
      ]
     },
     "metadata": {},
     "output_type": "display_data"
    },
    {
     "data": {
      "application/javascript": [
       "\n",
       "        $('span:contains(\"# Temp\")').closest('.cell').remove();\n",
       "        var code = IPython.notebook.insert_cell_below('code');\n",
       "        code.set_text(decodeURIComponent(window.atob(\"JTIzJTIwVGVtcCUwQWluc2VydCUyOCUyNyUyNyUyNyUwQWNhbXBhbmVsbGkyMDE4YSUyMCUzRCUyMERCJTI4V29ya1VucmVsYXRlZCUyOCUwQSUyMCUyMCUyMCUyMDIwMTglMkMlMjAlMjJBJTIwVGFpbG9yaW5nJTIwQ3JpdGVyaWElMjBNb2RlbCUyMGZvciUyMEFnaWxlJTIwUHJhY3RpY2VzJTIwQWRvcHRpb24lMjIlMkMlMEElMjAlMjAlMjAlMjBkaXNwbGF5JTNEJTIyY2FtcGFuZWxsaSUyMiUyQyUwQSUyMCUyMCUyMCUyMGF1dGhvcnMlM0QlMjJDYW1wYW5lbGxpJTJDJTIwQW1hZGV1JTIwU2lsdmVpcmElMjIlMkMlMEElMjAlMjAlMjAlMjBwbGFjZSUzREZBS0UlMkMlMEElMjAlMjAlMjAlMjBlbnRyeXR5cGUlM0QlMjJhcnRpY2xlJTIyJTJDJTBBJTIwJTIwJTIwJTIwdm9sdW1lJTNEJTIyNCUyMiUyQyUwQSUyMCUyMCUyMCUyMG51bWJlciUzRCUyMjIlMjIlMkMlMEElMjAlMjAlMjAlMjBJRCUzRCUyMmNhbXBhbmVsbGkyMDE4dGFpbG9yaW5nJTIyJTJDJTBBJTIwJTIwJTIwJTIwY2x1c3Rlcl9pZCUzRCUyMjE0MTM1OTA0OTQzOTY3NDY4NjUyJTIyJTJDJTBBJTIwJTIwJTIwJTIwc2Nob2xhciUzRCUyMmh0dHAlM0EvL3NjaG9sYXIuZ29vZ2xlLmNvbS9zY2hvbGFyJTNGY2l0ZXMlM0QxNDEzNTkwNDk0Mzk2NzQ2ODY1MiUyNmFzX3NkdCUzRDIwMDUlMjZzY2lvZHQlM0QwJTJDNSUyNmhsJTNEZW4lMjIlMkMlMEElMjAlMjAlMjAlMjBwbGFjZXglM0QlMjJQcm9qZXRvcyUyMGUlMjBEaXNzZXJ0YSU3QiVDMyVBNyU3RCVDMyVCNWVzJTIwZW0lMjBTaXN0ZW1hcyUyMGRlJTIwSW5mb3JtYSU3QiVDMyVBNyU3RCVDMyVBM28lMjBlJTIwR2VzdCVDMyVBM28lMjBkbyUyMENvbmhlY2ltZW50byUyMiUyQyUwQSUyOSUyOSUwQSUwQURCJTI4Q2l0YXRpb24lMjglMEElMjAlMjAlMjAlMjBjYW1wYW5lbGxpMjAxOGElMkMlMjB3YWFyZGVuYnVyZzIwMTNhJTJDJTIwcmVmJTNEJTIyJTIyJTJDJTBBJTIwJTIwJTIwJTIwY29udGV4dHMlM0QlNUIlMEElMEElMjAlMjAlMjAlMjAlNUQlMkMlMEElMjklMjklMEElMEElMjclMjclMjclMkMlMjBjaXRhdGlvbnMlM0QlMjd3YWFyZGVuYnVyZzIwMTNhJTI3JTI5JTNC\")));\n",
       "    "
      ],
      "text/plain": [
       "<IPython.core.display.Javascript object>"
      ]
     },
     "metadata": {},
     "output_type": "display_data"
    },
    {
     "data": {
      "application/javascript": [
       "$('span:contains(\"# Temp\")').closest('.cell').remove();"
      ],
      "text/plain": [
       "<IPython.core.display.Javascript object>"
      ]
     },
     "metadata": {},
     "output_type": "display_data"
    },
    {
     "data": {
      "application/javascript": [
       "\n",
       "        $('span:contains(\"# Temp\")').closest('.cell').remove();\n",
       "        var code = IPython.notebook.insert_cell_below('code');\n",
       "        code.set_text(decodeURIComponent(window.atob(\"JTIzJTIwVGVtcCUwQWluc2VydCUyOCUyNyUyNyUyNyUwQWNhbXBhbmVsbGkyMDE4YSUyMCUzRCUyMERCJTI4V29ya1VucmVsYXRlZCUyOCUwQSUyMCUyMCUyMCUyMDIwMTglMkMlMjAlMjJBJTIwVGFpbG9yaW5nJTIwQ3JpdGVyaWElMjBNb2RlbCUyMGZvciUyMEFnaWxlJTIwUHJhY3RpY2VzJTIwQWRvcHRpb24lMjIlMkMlMEElMjAlMjAlMjAlMjBkaXNwbGF5JTNEJTIyY2FtcGFuZWxsaSUyMiUyQyUwQSUyMCUyMCUyMCUyMGF1dGhvcnMlM0QlMjJDYW1wYW5lbGxpJTJDJTIwQW1hZGV1JTIwU2lsdmVpcmElMjIlMkMlMEElMjAlMjAlMjAlMjBwbGFjZSUzREZBS0UlMkMlMEElMjAlMjAlMjAlMjBlbnRyeXR5cGUlM0QlMjJhcnRpY2xlJTIyJTJDJTBBJTIwJTIwJTIwJTIwdm9sdW1lJTNEJTIyNCUyMiUyQyUwQSUyMCUyMCUyMCUyMG51bWJlciUzRCUyMjIlMjIlMkMlMEElMjAlMjAlMjAlMjBJRCUzRCUyMmNhbXBhbmVsbGkyMDE4dGFpbG9yaW5nJTIyJTJDJTBBJTIwJTIwJTIwJTIwY2x1c3Rlcl9pZCUzRCUyMjE0MTM1OTA0OTQzOTY3NDY4NjUyJTIyJTJDJTBBJTIwJTIwJTIwJTIwc2Nob2xhciUzRCUyMmh0dHAlM0EvL3NjaG9sYXIuZ29vZ2xlLmNvbS9zY2hvbGFyJTNGY2l0ZXMlM0QxNDEzNTkwNDk0Mzk2NzQ2ODY1MiUyNmFzX3NkdCUzRDIwMDUlMjZzY2lvZHQlM0QwJTJDNSUyNmhsJTNEZW4lMjIlMkMlMEElMjAlMjAlMjAlMjBwbGFjZXglM0QlMjJQcm9qZXRvcyUyMGUlMjBEaXNzZXJ0YSU3QiVDMyVBNyU3RCVDMyVCNWVzJTIwZW0lMjBTaXN0ZW1hcyUyMGRlJTIwSW5mb3JtYSU3QiVDMyVBNyU3RCVDMyVBM28lMjBlJTIwR2VzdCVDMyVBM28lMjBkbyUyMENvbmhlY2ltZW50byUyMiUyQyUwQSUyOSUyOSUwQSUwQURCJTI4Q2l0YXRpb24lMjglMEElMjAlMjAlMjAlMjBjYW1wYW5lbGxpMjAxOGElMkMlMjB3YWFyZGVuYnVyZzIwMTNhJTJDJTIwcmVmJTNEJTIyJTIyJTJDJTBBJTIwJTIwJTIwJTIwY29udGV4dHMlM0QlNUIlMEElMEElMjAlMjAlMjAlMjAlNUQlMkMlMEElMjklMjklMEElMEElMjclMjclMjclMkMlMjBjaXRhdGlvbnMlM0QlMjd3YWFyZGVuYnVyZzIwMTNhJTI3JTI5JTNC\")));\n",
       "    "
      ],
      "text/plain": [
       "<IPython.core.display.Javascript object>"
      ]
     },
     "metadata": {},
     "output_type": "display_data"
    },
    {
     "data": {
      "application/javascript": [
       "$('span:contains(\"# Temp\")').closest('.cell').remove();"
      ],
      "text/plain": [
       "<IPython.core.display.Javascript object>"
      ]
     },
     "metadata": {},
     "output_type": "display_data"
    },
    {
     "data": {
      "application/javascript": [
       "\n",
       "        $('span:contains(\"# Temp\")').closest('.cell').remove();\n",
       "        var code = IPython.notebook.insert_cell_below('code');\n",
       "        code.set_text(decodeURIComponent(window.atob(\"JTIzJTIwVGVtcCUwQWluc2VydCUyOCUyNyUyNyUyNyUwQWJlaG0yMDE1YSUyMCUzRCUyMERCJTI4V29ya1VucmVsYXRlZCUyOCUwQSUyMCUyMCUyMCUyMDIwMTUlMkMlMjAlMjJMYXJnZS1TY2FsZSUyMEFnaWxlJTIwYW5kJTIwTGVhbiUyMFRyYW5zZm9ybWF0aW9uJTIwaW4lMjBhJTIwR2xvYmFsbHklMjBEaXN0cmlidXRlZCUyME9yZ2FuaXphdGlvbi1DYXNlJTIwRXJpY3Nzb24lMjIlMkMlMEElMjAlMjAlMjAlMjBkaXNwbGF5JTNEJTIyYmVobSUyMiUyQyUwQSUyMCUyMCUyMCUyMGF1dGhvcnMlM0QlMjJCZWhtJTJDJTIwQmVuamFtaW4lMjBhbmQlMjBvdGhlcnMlMjIlMkMlMEElMjAlMjAlMjAlMjBwbGFjZSUzREZBS0UlMkMlMEElMjAlMjAlMjAlMjBlbnRyeXR5cGUlM0QlMjJhcnRpY2xlJTIyJTJDJTBBJTIwJTIwJTIwJTIwSUQlM0QlMjJiZWhtMjAxNWxhcmdlJTIyJTJDJTBBJTIwJTIwJTIwJTIwY2x1c3Rlcl9pZCUzRCUyMjU4NjYxMDIwNTUyMzE3ODE1NzklMjIlMkMlMEElMjAlMjAlMjAlMjBzY2hvbGFyJTNEJTIyaHR0cCUzQS8vc2Nob2xhci5nb29nbGUuY29tL3NjaG9sYXIlM0ZjaXRlcyUzRDU4NjYxMDIwNTUyMzE3ODE1NzklMjZhc19zZHQlM0QyMDA1JTI2c2Npb2R0JTNEMCUyQzUlMjZobCUzRGVuJTIyJTJDJTBBJTIwJTIwJTIwJTIwcGxhY2V4JTNEJTIyJTIyJTJDJTBBJTI5JTI5JTBBJTBBREIlMjhDaXRhdGlvbiUyOCUwQSUyMCUyMCUyMCUyMGJlaG0yMDE1YSUyQyUyMHdhYXJkZW5idXJnMjAxM2ElMkMlMjByZWYlM0QlMjIlMjIlMkMlMEElMjAlMjAlMjAlMjBjb250ZXh0cyUzRCU1QiUwQSUwQSUyMCUyMCUyMCUyMCU1RCUyQyUwQSUyOSUyOSUwQSUwQSUyNyUyNyUyNyUyQyUyMGNpdGF0aW9ucyUzRCUyN3dhYXJkZW5idXJnMjAxM2ElMjclMjklM0I=\")));\n",
       "    "
      ],
      "text/plain": [
       "<IPython.core.display.Javascript object>"
      ]
     },
     "metadata": {},
     "output_type": "display_data"
    },
    {
     "data": {
      "application/javascript": [
       "$('span:contains(\"# Temp\")').closest('.cell').remove();"
      ],
      "text/plain": [
       "<IPython.core.display.Javascript object>"
      ]
     },
     "metadata": {},
     "output_type": "display_data"
    },
    {
     "data": {
      "application/javascript": [
       "\n",
       "        $('span:contains(\"# Temp\")').closest('.cell').remove();\n",
       "        var code = IPython.notebook.insert_cell_below('code');\n",
       "        code.set_text(decodeURIComponent(window.atob(\"JTIzJTIwVGVtcCUwQWluc2VydCUyOCUyNyUyNyUyNyUwQWJlaG0yMDE1YSUyMCUzRCUyMERCJTI4V29ya1VucmVsYXRlZCUyOCUwQSUyMCUyMCUyMCUyMDIwMTUlMkMlMjAlMjJMYXJnZS1TY2FsZSUyMEFnaWxlJTIwYW5kJTIwTGVhbiUyMFRyYW5zZm9ybWF0aW9uJTIwaW4lMjBhJTIwR2xvYmFsbHklMjBEaXN0cmlidXRlZCUyME9yZ2FuaXphdGlvbi1DYXNlJTIwRXJpY3Nzb24lMjIlMkMlMEElMjAlMjAlMjAlMjBkaXNwbGF5JTNEJTIyYmVobSUyMiUyQyUwQSUyMCUyMCUyMCUyMGF1dGhvcnMlM0QlMjJCZWhtJTJDJTIwQmVuamFtaW4lMjBhbmQlMjBvdGhlcnMlMjIlMkMlMEElMjAlMjAlMjAlMjBwbGFjZSUzREZBS0UlMkMlMEElMjAlMjAlMjAlMjBlbnRyeXR5cGUlM0QlMjJhcnRpY2xlJTIyJTJDJTBBJTIwJTIwJTIwJTIwSUQlM0QlMjJiZWhtMjAxNWxhcmdlJTIyJTJDJTBBJTIwJTIwJTIwJTIwY2x1c3Rlcl9pZCUzRCUyMjU4NjYxMDIwNTUyMzE3ODE1NzklMjIlMkMlMEElMjAlMjAlMjAlMjBzY2hvbGFyJTNEJTIyaHR0cCUzQS8vc2Nob2xhci5nb29nbGUuY29tL3NjaG9sYXIlM0ZjaXRlcyUzRDU4NjYxMDIwNTUyMzE3ODE1NzklMjZhc19zZHQlM0QyMDA1JTI2c2Npb2R0JTNEMCUyQzUlMjZobCUzRGVuJTIyJTJDJTBBJTIwJTIwJTIwJTIwcGxhY2V4JTNEJTIyJTIyJTJDJTBBJTI5JTI5JTBBJTBBREIlMjhDaXRhdGlvbiUyOCUwQSUyMCUyMCUyMCUyMGJlaG0yMDE1YSUyQyUyMHdhYXJkZW5idXJnMjAxM2ElMkMlMjByZWYlM0QlMjIlMjIlMkMlMEElMjAlMjAlMjAlMjBjb250ZXh0cyUzRCU1QiUwQSUwQSUyMCUyMCUyMCUyMCU1RCUyQyUwQSUyOSUyOSUwQSUwQSUyNyUyNyUyNyUyQyUyMGNpdGF0aW9ucyUzRCUyN3dhYXJkZW5idXJnMjAxM2ElMjclMjklM0I=\")));\n",
       "    "
      ],
      "text/plain": [
       "<IPython.core.display.Javascript object>"
      ]
     },
     "metadata": {},
     "output_type": "display_data"
    },
    {
     "data": {
      "application/javascript": [
       "$('span:contains(\"# Temp\")').closest('.cell').remove();"
      ],
      "text/plain": [
       "<IPython.core.display.Javascript object>"
      ]
     },
     "metadata": {},
     "output_type": "display_data"
    },
    {
     "data": {
      "application/javascript": [
       "\n",
       "        $('span:contains(\"# Temp\")').closest('.cell').remove();\n",
       "        var code = IPython.notebook.insert_cell_below('code');\n",
       "        code.set_text(decodeURIComponent(window.atob(\"JTIzJTIwVGVtcCUwQWluc2VydCUyOCUyNyUyNyUyNyUwQXBldHJpazIwMTVhJTIwJTNEJTIwREIlMjhXb3JrVW5yZWxhdGVkJTI4JTBBJTIwJTIwJTIwJTIwMjAxNSUyQyUyMCUyMkh5YnJpZGUlMjBWb3JnZWhlbnNtb2RlbGxlJTIwaW4lMjBkZXIlMjBWZXJzaW9uc2Vyc3RlbGx1bmctZWluJTIwUHJheGlzYmVpdHJhZyUyMiUyQyUwQSUyMCUyMCUyMCUyMGRpc3BsYXklM0QlMjJwZXRyaWslMjIlMkMlMEElMjAlMjAlMjAlMjBhdXRob3JzJTNEJTIyUGV0cmlrJTJDJTIwRGltaXRyaSUyMiUyQyUwQSUyMCUyMCUyMCUyMHBsYWNlJTNERkFLRSUyQyUwQSUyMCUyMCUyMCUyMGVudHJ5dHlwZSUzRCUyMmFydGljbGUlMjIlMkMlMEElMjAlMjAlMjAlMjBwdWJsaXNoZXIlM0QlMjJHZXNlbGxzY2hhZnQlMjBmJUMzJUJDciUyMEluZm9ybWF0aWslMjBlViUyMiUyQyUwQSUyMCUyMCUyMCUyMElEJTNEJTIycGV0cmlrMjAxNWh5YnJpZGUlMjIlMkMlMEElMjAlMjAlMjAlMjBjbHVzdGVyX2lkJTNEJTIyMTM4MTE2OTc2MzEyNzYyNjM4ODAlMjIlMkMlMEElMjAlMjAlMjAlMjBzY2hvbGFyJTNEJTIyaHR0cCUzQS8vc2Nob2xhci5nb29nbGUuY29tL3NjaG9sYXIlM0ZjaXRlcyUzRDEzODExNjk3NjMxMjc2MjYzODgwJTI2YXNfc2R0JTNEMjAwNSUyNnNjaW9kdCUzRDAlMkM1JTI2aGwlM0RlbiUyMiUyQyUwQSUyMCUyMCUyMCUyMHBsYWNleCUzRCUyMlByb2pla3RtYW5hZ2VtZW50JTIwdW5kJTIwVm9yZ2VoZW5zbW9kZWxsZSUyMDIwMTUlMjIlMkMlMEElMjklMjklMEElMEFEQiUyOENpdGF0aW9uJTI4JTBBJTIwJTIwJTIwJTIwcGV0cmlrMjAxNWElMkMlMjB3YWFyZGVuYnVyZzIwMTNhJTJDJTIwcmVmJTNEJTIyJTIyJTJDJTBBJTIwJTIwJTIwJTIwY29udGV4dHMlM0QlNUIlMEElMEElMjAlMjAlMjAlMjAlNUQlMkMlMEElMjklMjklMEElMEElMjclMjclMjclMkMlMjBjaXRhdGlvbnMlM0QlMjd3YWFyZGVuYnVyZzIwMTNhJTI3JTI5JTNC\")));\n",
       "    "
      ],
      "text/plain": [
       "<IPython.core.display.Javascript object>"
      ]
     },
     "metadata": {},
     "output_type": "display_data"
    },
    {
     "data": {
      "application/javascript": [
       "$('span:contains(\"# Temp\")').closest('.cell').remove();"
      ],
      "text/plain": [
       "<IPython.core.display.Javascript object>"
      ]
     },
     "metadata": {},
     "output_type": "display_data"
    },
    {
     "data": {
      "application/javascript": [
       "\n",
       "        $('span:contains(\"# Temp\")').closest('.cell').remove();\n",
       "        var code = IPython.notebook.insert_cell_below('code');\n",
       "        code.set_text(decodeURIComponent(window.atob(\"JTIzJTIwVGVtcCUwQWluc2VydCUyOCUyNyUyNyUyNyUwQXBldHJpazIwMTVhJTIwJTNEJTIwREIlMjhXb3JrVW5yZWxhdGVkJTI4JTBBJTIwJTIwJTIwJTIwMjAxNSUyQyUyMCUyMkh5YnJpZGUlMjBWb3JnZWhlbnNtb2RlbGxlJTIwaW4lMjBkZXIlMjBWZXJzaW9uc2Vyc3RlbGx1bmctZWluJTIwUHJheGlzYmVpdHJhZyUyMiUyQyUwQSUyMCUyMCUyMCUyMGRpc3BsYXklM0QlMjJwZXRyaWslMjIlMkMlMEElMjAlMjAlMjAlMjBhdXRob3JzJTNEJTIyUGV0cmlrJTJDJTIwRGltaXRyaSUyMiUyQyUwQSUyMCUyMCUyMCUyMHBsYWNlJTNERkFLRSUyQyUwQSUyMCUyMCUyMCUyMGVudHJ5dHlwZSUzRCUyMmFydGljbGUlMjIlMkMlMEElMjAlMjAlMjAlMjBwdWJsaXNoZXIlM0QlMjJHZXNlbGxzY2hhZnQlMjBmJUMzJUJDciUyMEluZm9ybWF0aWslMjBlViUyMiUyQyUwQSUyMCUyMCUyMCUyMElEJTNEJTIycGV0cmlrMjAxNWh5YnJpZGUlMjIlMkMlMEElMjAlMjAlMjAlMjBjbHVzdGVyX2lkJTNEJTIyMTM4MTE2OTc2MzEyNzYyNjM4ODAlMjIlMkMlMEElMjAlMjAlMjAlMjBzY2hvbGFyJTNEJTIyaHR0cCUzQS8vc2Nob2xhci5nb29nbGUuY29tL3NjaG9sYXIlM0ZjaXRlcyUzRDEzODExNjk3NjMxMjc2MjYzODgwJTI2YXNfc2R0JTNEMjAwNSUyNnNjaW9kdCUzRDAlMkM1JTI2aGwlM0RlbiUyMiUyQyUwQSUyMCUyMCUyMCUyMHBsYWNleCUzRCUyMlByb2pla3RtYW5hZ2VtZW50JTIwdW5kJTIwVm9yZ2VoZW5zbW9kZWxsZSUyMDIwMTUlMjIlMkMlMEElMjklMjklMEElMEFEQiUyOENpdGF0aW9uJTI4JTBBJTIwJTIwJTIwJTIwcGV0cmlrMjAxNWElMkMlMjB3YWFyZGVuYnVyZzIwMTNhJTJDJTIwcmVmJTNEJTIyJTIyJTJDJTBBJTIwJTIwJTIwJTIwY29udGV4dHMlM0QlNUIlMEElMEElMjAlMjAlMjAlMjAlNUQlMkMlMEElMjklMjklMEElMEElMjclMjclMjclMkMlMjBjaXRhdGlvbnMlM0QlMjd3YWFyZGVuYnVyZzIwMTNhJTI3JTI5JTNC\")));\n",
       "    "
      ],
      "text/plain": [
       "<IPython.core.display.Javascript object>"
      ]
     },
     "metadata": {},
     "output_type": "display_data"
    },
    {
     "data": {
      "application/javascript": [
       "$('span:contains(\"# Temp\")').closest('.cell').remove();"
      ],
      "text/plain": [
       "<IPython.core.display.Javascript object>"
      ]
     },
     "metadata": {},
     "output_type": "display_data"
    },
    {
     "data": {
      "application/javascript": [
       "\n",
       "        $('span:contains(\"# Temp\")').closest('.cell').remove();\n",
       "        var code = IPython.notebook.insert_cell_below('code');\n",
       "        code.set_text(decodeURIComponent(window.atob(\"JTIzJTIwVGVtcCUwQWluc2VydCUyOCUyNyUyNyUyNyUwQWRpZWJvbGQyMDE2YSUyMCUzRCUyMERCJTI4V29ya1VucmVsYXRlZCUyOCUwQSUyMCUyMCUyMCUyMDIwMTYlMkMlMjAlMjJQcm96ZXNzdmVyYmVzc2VydW5nJTIwZHVyY2glMjBmcmFnbWVudGllcnRlJTIwQW53ZW5kdW5nJTIwdm9uJTIwU2NydW0lMjQlNUNiYWNrc2xhc2glMjQlMjYlMjBDbyUyMiUyQyUwQSUyMCUyMCUyMCUyMGRpc3BsYXklM0QlMjJkaWVib2xkJTIyJTJDJTBBJTIwJTIwJTIwJTIwYXV0aG9ycyUzRCUyMkRpZWJvbGQlMkMlMjBQaGlsaXBwJTIwYW5kJTIwWmVobGVyJTJDJTIwVGhvbWFzJTIwYW5kJTIwU2NobWl0dCUyQyUyMEFubmElMjBhbmQlMjBTaW1vbiUyQyUyMEZyYW5rJTIwYW5kJTIwS3J1c2UlMkMlMjBCaXJnZXIlMjIlMkMlMEElMjAlMjAlMjAlMjBwbGFjZSUzREZBS0UlMkMlMEElMjAlMjAlMjAlMjBlbnRyeXR5cGUlM0QlMjJhcnRpY2xlJTIyJTJDJTBBJTIwJTIwJTIwJTIwcHVibGlzaGVyJTNEJTIyR2VzZWxsc2NoYWZ0JTIwZiVDMyVCQ3IlMjBJbmZvcm1hdGlrJTIwZVYlMjIlMkMlMEElMjAlMjAlMjAlMjBJRCUzRCUyMmRpZWJvbGQyMDE2cHJvemVzc3ZlcmJlc3NlcnVuZyUyMiUyQyUwQSUyMCUyMCUyMCUyMGNsdXN0ZXJfaWQlM0QlMjI3MTYzNTYxMDAxMjMyNzQ3MjM0JTIyJTJDJTBBJTIwJTIwJTIwJTIwc2Nob2xhciUzRCUyMmh0dHAlM0EvL3NjaG9sYXIuZ29vZ2xlLmNvbS9zY2hvbGFyJTNGY2l0ZXMlM0Q3MTYzNTYxMDAxMjMyNzQ3MjM0JTI2YXNfc2R0JTNEMjAwNSUyNnNjaW9kdCUzRDAlMkM1JTI2aGwlM0RlbiUyMiUyQyUwQSUyMCUyMCUyMCUyMHBsYWNleCUzRCUyMiUyMiUyQyUwQSUyOSUyOSUwQSUwQURCJTI4Q2l0YXRpb24lMjglMEElMjAlMjAlMjAlMjBkaWVib2xkMjAxNmElMkMlMjB3YWFyZGVuYnVyZzIwMTNhJTJDJTIwcmVmJTNEJTIyJTIyJTJDJTBBJTIwJTIwJTIwJTIwY29udGV4dHMlM0QlNUIlMEElMEElMjAlMjAlMjAlMjAlNUQlMkMlMEElMjklMjklMEElMEElMjclMjclMjclMkMlMjBjaXRhdGlvbnMlM0QlMjd3YWFyZGVuYnVyZzIwMTNhJTI3JTI5JTNC\")));\n",
       "    "
      ],
      "text/plain": [
       "<IPython.core.display.Javascript object>"
      ]
     },
     "metadata": {},
     "output_type": "display_data"
    },
    {
     "data": {
      "application/javascript": [
       "$('span:contains(\"# Temp\")').closest('.cell').remove();"
      ],
      "text/plain": [
       "<IPython.core.display.Javascript object>"
      ]
     },
     "metadata": {},
     "output_type": "display_data"
    },
    {
     "data": {
      "application/javascript": [
       "\n",
       "        $('span:contains(\"# Temp\")').closest('.cell').remove();\n",
       "        var code = IPython.notebook.insert_cell_below('code');\n",
       "        code.set_text(decodeURIComponent(window.atob(\"JTIzJTIwVGVtcCUwQWluc2VydCUyOCUyNyUyNyUyNyUwQWRpZWJvbGQyMDE2YSUyMCUzRCUyMERCJTI4V29ya1VucmVsYXRlZCUyOCUwQSUyMCUyMCUyMCUyMDIwMTYlMkMlMjAlMjJQcm96ZXNzdmVyYmVzc2VydW5nJTIwZHVyY2glMjBmcmFnbWVudGllcnRlJTIwQW53ZW5kdW5nJTIwdm9uJTIwU2NydW0lMjQlNUNiYWNrc2xhc2glMjQlMjYlMjBDbyUyMiUyQyUwQSUyMCUyMCUyMCUyMGRpc3BsYXklM0QlMjJkaWVib2xkJTIyJTJDJTBBJTIwJTIwJTIwJTIwYXV0aG9ycyUzRCUyMkRpZWJvbGQlMkMlMjBQaGlsaXBwJTIwYW5kJTIwWmVobGVyJTJDJTIwVGhvbWFzJTIwYW5kJTIwU2NobWl0dCUyQyUyMEFubmElMjBhbmQlMjBTaW1vbiUyQyUyMEZyYW5rJTIwYW5kJTIwS3J1c2UlMkMlMjBCaXJnZXIlMjIlMkMlMEElMjAlMjAlMjAlMjBwbGFjZSUzREZBS0UlMkMlMEElMjAlMjAlMjAlMjBlbnRyeXR5cGUlM0QlMjJhcnRpY2xlJTIyJTJDJTBBJTIwJTIwJTIwJTIwcHVibGlzaGVyJTNEJTIyR2VzZWxsc2NoYWZ0JTIwZiVDMyVCQ3IlMjBJbmZvcm1hdGlrJTIwZVYlMjIlMkMlMEElMjAlMjAlMjAlMjBJRCUzRCUyMmRpZWJvbGQyMDE2cHJvemVzc3ZlcmJlc3NlcnVuZyUyMiUyQyUwQSUyMCUyMCUyMCUyMGNsdXN0ZXJfaWQlM0QlMjI3MTYzNTYxMDAxMjMyNzQ3MjM0JTIyJTJDJTBBJTIwJTIwJTIwJTIwc2Nob2xhciUzRCUyMmh0dHAlM0EvL3NjaG9sYXIuZ29vZ2xlLmNvbS9zY2hvbGFyJTNGY2l0ZXMlM0Q3MTYzNTYxMDAxMjMyNzQ3MjM0JTI2YXNfc2R0JTNEMjAwNSUyNnNjaW9kdCUzRDAlMkM1JTI2aGwlM0RlbiUyMiUyQyUwQSUyMCUyMCUyMCUyMHBsYWNleCUzRCUyMiUyMiUyQyUwQSUyOSUyOSUwQSUwQURCJTI4Q2l0YXRpb24lMjglMEElMjAlMjAlMjAlMjBkaWVib2xkMjAxNmElMkMlMjB3YWFyZGVuYnVyZzIwMTNhJTJDJTIwcmVmJTNEJTIyJTIyJTJDJTBBJTIwJTIwJTIwJTIwY29udGV4dHMlM0QlNUIlMEElMEElMjAlMjAlMjAlMjAlNUQlMkMlMEElMjklMjklMEElMEElMjclMjclMjclMkMlMjBjaXRhdGlvbnMlM0QlMjd3YWFyZGVuYnVyZzIwMTNhJTI3JTI5JTNC\")));\n",
       "    "
      ],
      "text/plain": [
       "<IPython.core.display.Javascript object>"
      ]
     },
     "metadata": {},
     "output_type": "display_data"
    },
    {
     "data": {
      "application/javascript": [
       "$('span:contains(\"# Temp\")').closest('.cell').remove();"
      ],
      "text/plain": [
       "<IPython.core.display.Javascript object>"
      ]
     },
     "metadata": {},
     "output_type": "display_data"
    },
    {
     "data": {
      "application/javascript": [
       "\n",
       "        $('span:contains(\"# Temp\")').closest('.cell').remove();\n",
       "        var code = IPython.notebook.insert_cell_below('code');\n",
       "        code.set_text(decodeURIComponent(window.atob(\"JTIzJTIwVGVtcCUwQWluc2VydCUyOCUyNyUyNyUyNyUwQWNhbXBhbmVsbGkyMDE0YSUyMCUzRCUyMERCJTI4V29ya1VucmVsYXRlZCUyOCUwQSUyMCUyMCUyMCUyMDIwMTQlMkMlMjAlMjJBJTIwTW9kZWwlMjBmb3IlMjBBZ2lsZSUyME1ldGhvZCUyMFRhaWxvcmluZyUyMiUyQyUwQSUyMCUyMCUyMCUyMGRpc3BsYXklM0QlMjJjYW1wYW5lbGxpJTIyJTJDJTBBJTIwJTIwJTIwJTIwYXV0aG9ycyUzRCUyMkNhbXBhbmVsbGklMkMlMjBBbWFkZXUlMjBTaWx2ZWlyYSUyMiUyQyUwQSUyMCUyMCUyMCUyMHBsYWNlJTNERkFLRSUyQyUwQSUyMCUyMCUyMCUyMGVudHJ5dHlwZSUzRCUyMmFydGljbGUlMjIlMkMlMEElMjAlMjAlMjAlMjB2b2x1bWUlM0QlMjIzJTIyJTJDJTBBJTIwJTIwJTIwJTIwbnVtYmVyJTNEJTIyMiUyMiUyQyUwQSUyMCUyMCUyMCUyMElEJTNEJTIyY2FtcGFuZWxsaTIwMTRtb2RlbCUyMiUyQyUwQSUyMCUyMCUyMCUyMHBsYWNleCUzRCUyMlByb2pldG9zJTIwZSUyMERpc3NlcnRhJTdCJUMzJUE3JTdEJUMzJUI1ZXMlMjBlbSUyMFNpc3RlbWFzJTIwZGUlMjBJbmZvcm1hJTdCJUMzJUE3JTdEJUMzJUEzbyUyMGUlMjBHZXN0JUMzJUEzbyUyMGRvJTIwQ29uaGVjaW1lbnRvJTIyJTJDJTBBJTI5JTI5JTBBJTBBREIlMjhDaXRhdGlvbiUyOCUwQSUyMCUyMCUyMCUyMGNhbXBhbmVsbGkyMDE0YSUyQyUyMHdhYXJkZW5idXJnMjAxM2ElMkMlMjByZWYlM0QlMjIlMjIlMkMlMEElMjAlMjAlMjAlMjBjb250ZXh0cyUzRCU1QiUwQSUwQSUyMCUyMCUyMCUyMCU1RCUyQyUwQSUyOSUyOSUwQSUwQSUyNyUyNyUyNyUyQyUyMGNpdGF0aW9ucyUzRCUyN3dhYXJkZW5idXJnMjAxM2ElMjclMjklM0I=\")));\n",
       "    "
      ],
      "text/plain": [
       "<IPython.core.display.Javascript object>"
      ]
     },
     "metadata": {},
     "output_type": "display_data"
    },
    {
     "data": {
      "application/javascript": [
       "$('span:contains(\"# Temp\")').closest('.cell').remove();"
      ],
      "text/plain": [
       "<IPython.core.display.Javascript object>"
      ]
     },
     "metadata": {},
     "output_type": "display_data"
    },
    {
     "data": {
      "application/javascript": [
       "\n",
       "        $('span:contains(\"# Temp\")').closest('.cell').remove();\n",
       "        var code = IPython.notebook.insert_cell_below('code');\n",
       "        code.set_text(decodeURIComponent(window.atob(\"JTIzJTIwVGVtcCUwQWluc2VydCUyOCUyNyUyNyUyNyUwQWNhbXBhbmVsbGkyMDE0YSUyMCUzRCUyMERCJTI4V29ya1VucmVsYXRlZCUyOCUwQSUyMCUyMCUyMCUyMDIwMTQlMkMlMjAlMjJBJTIwTW9kZWwlMjBmb3IlMjBBZ2lsZSUyME1ldGhvZCUyMFRhaWxvcmluZyUyMiUyQyUwQSUyMCUyMCUyMCUyMGRpc3BsYXklM0QlMjJjYW1wYW5lbGxpJTIyJTJDJTBBJTIwJTIwJTIwJTIwYXV0aG9ycyUzRCUyMkNhbXBhbmVsbGklMkMlMjBBbWFkZXUlMjBTaWx2ZWlyYSUyMiUyQyUwQSUyMCUyMCUyMCUyMHBsYWNlJTNERkFLRSUyQyUwQSUyMCUyMCUyMCUyMGVudHJ5dHlwZSUzRCUyMmFydGljbGUlMjIlMkMlMEElMjAlMjAlMjAlMjB2b2x1bWUlM0QlMjIzJTIyJTJDJTBBJTIwJTIwJTIwJTIwbnVtYmVyJTNEJTIyMiUyMiUyQyUwQSUyMCUyMCUyMCUyMElEJTNEJTIyY2FtcGFuZWxsaTIwMTRtb2RlbCUyMiUyQyUwQSUyMCUyMCUyMCUyMHBsYWNleCUzRCUyMlByb2pldG9zJTIwZSUyMERpc3NlcnRhJTdCJUMzJUE3JTdEJUMzJUI1ZXMlMjBlbSUyMFNpc3RlbWFzJTIwZGUlMjBJbmZvcm1hJTdCJUMzJUE3JTdEJUMzJUEzbyUyMGUlMjBHZXN0JUMzJUEzbyUyMGRvJTIwQ29uaGVjaW1lbnRvJTIyJTJDJTBBJTI5JTI5JTBBJTBBREIlMjhDaXRhdGlvbiUyOCUwQSUyMCUyMCUyMCUyMGNhbXBhbmVsbGkyMDE0YSUyQyUyMHdhYXJkZW5idXJnMjAxM2ElMkMlMjByZWYlM0QlMjIlMjIlMkMlMEElMjAlMjAlMjAlMjBjb250ZXh0cyUzRCU1QiUwQSUwQSUyMCUyMCUyMCUyMCU1RCUyQyUwQSUyOSUyOSUwQSUwQSUyNyUyNyUyNyUyQyUyMGNpdGF0aW9ucyUzRCUyN3dhYXJkZW5idXJnMjAxM2ElMjclMjklM0I=\")));\n",
       "    "
      ],
      "text/plain": [
       "<IPython.core.display.Javascript object>"
      ]
     },
     "metadata": {},
     "output_type": "display_data"
    },
    {
     "data": {
      "application/javascript": [
       "$('span:contains(\"# Temp\")').closest('.cell').remove();"
      ],
      "text/plain": [
       "<IPython.core.display.Javascript object>"
      ]
     },
     "metadata": {},
     "output_type": "display_data"
    },
    {
     "data": {
      "application/javascript": [
       "\n",
       "        $('span:contains(\"# Temp\")').closest('.cell').remove();\n",
       "        var code = IPython.notebook.insert_cell_below('code');\n",
       "        code.set_text(decodeURIComponent(window.atob(\"JTIzJTIwVGVtcCUwQWluc2VydCUyOCUyNyUyNyUyNyUwQWRlbGV5MjAxN2ElMjAlM0QlMjBEQiUyOFdvcmtVbnJlbGF0ZWQlMjglMEElMjAlMjAlMjAlMjAyMDE3JTJDJTIwJTIySW50ZXJuZXQlMjBDb21tdW5pY2F0aW9ucyUyMFRlY2hub2xvZ3klMjBTa2lsbHMlMjBhbmQlMjBTeXN0ZW1zJTIwb2YlMjBFbmdhZ2VtZW50JTIyJTJDJTBBJTIwJTIwJTIwJTIwZGlzcGxheSUzRCUyMmRlbGV5JTIyJTJDJTBBJTIwJTIwJTIwJTIwYXV0aG9ycyUzRCUyMkRlbGV5JTJDJTIwVHJldm9yJTIwYW5kJTIwTWluZGVsJTJDJTIwTWFyY2VsbHVzJTIyJTJDJTBBJTIwJTIwJTIwJTIwcGxhY2UlM0RGQUtFJTJDJTBBJTIwJTIwJTIwJTIwcHAlM0QlMjIxLS03JTIyJTJDJTBBJTIwJTIwJTIwJTIwZW50cnl0eXBlJTNEJTIyYXJ0aWNsZSUyMiUyQyUwQSUyMCUyMCUyMCUyMHB1Ymxpc2hlciUzRCUyMlVuaXZlcnNpdHklMjBvZiUyMFRvcm9udG8lMjBQcmVzcyUyMiUyQyUwQSUyMCUyMCUyMCUyMElEJTNEJTIyZGVsZXkyMDE3aW50ZXJuZXQlMjIlMkMlMEElMjAlMjAlMjAlMjBwbGFjZXglM0QlMjJDYW5hZGlhbiUyMFB1YmxpYyUyMFBvbGljeSUyMiUyQyUwQSUyOSUyOSUwQSUwQURCJTI4Q2l0YXRpb24lMjglMEElMjAlMjAlMjAlMjBkZWxleTIwMTdhJTJDJTIwd2FhcmRlbmJ1cmcyMDEzYSUyQyUyMHJlZiUzRCUyMiUyMiUyQyUwQSUyMCUyMCUyMCUyMGNvbnRleHRzJTNEJTVCJTBBJTBBJTIwJTIwJTIwJTIwJTVEJTJDJTBBJTI5JTI5JTBBJTBBJTI3JTI3JTI3JTJDJTIwY2l0YXRpb25zJTNEJTI3d2FhcmRlbmJ1cmcyMDEzYSUyNyUyOSUzQg==\")));\n",
       "    "
      ],
      "text/plain": [
       "<IPython.core.display.Javascript object>"
      ]
     },
     "metadata": {},
     "output_type": "display_data"
    },
    {
     "data": {
      "application/javascript": [
       "$('span:contains(\"# Temp\")').closest('.cell').remove();"
      ],
      "text/plain": [
       "<IPython.core.display.Javascript object>"
      ]
     },
     "metadata": {},
     "output_type": "display_data"
    },
    {
     "data": {
      "application/javascript": [
       "\n",
       "        $('span:contains(\"# Temp\")').closest('.cell').remove();\n",
       "        var code = IPython.notebook.insert_cell_below('code');\n",
       "        code.set_text(decodeURIComponent(window.atob(\"JTIzJTIwVGVtcCUwQWluc2VydCUyOCUyNyUyNyUyNyUwQWRlbGV5MjAxN2ElMjAlM0QlMjBEQiUyOFdvcmtVbnJlbGF0ZWQlMjglMEElMjAlMjAlMjAlMjAyMDE3JTJDJTIwJTIySW50ZXJuZXQlMjBDb21tdW5pY2F0aW9ucyUyMFRlY2hub2xvZ3klMjBTa2lsbHMlMjBhbmQlMjBTeXN0ZW1zJTIwb2YlMjBFbmdhZ2VtZW50JTIyJTJDJTBBJTIwJTIwJTIwJTIwZGlzcGxheSUzRCUyMmRlbGV5JTIyJTJDJTBBJTIwJTIwJTIwJTIwYXV0aG9ycyUzRCUyMkRlbGV5JTJDJTIwVHJldm9yJTIwYW5kJTIwTWluZGVsJTJDJTIwTWFyY2VsbHVzJTIyJTJDJTBBJTIwJTIwJTIwJTIwcGxhY2UlM0RGQUtFJTJDJTBBJTIwJTIwJTIwJTIwcHAlM0QlMjIxLS03JTIyJTJDJTBBJTIwJTIwJTIwJTIwZW50cnl0eXBlJTNEJTIyYXJ0aWNsZSUyMiUyQyUwQSUyMCUyMCUyMCUyMHB1Ymxpc2hlciUzRCUyMlVuaXZlcnNpdHklMjBvZiUyMFRvcm9udG8lMjBQcmVzcyUyMiUyQyUwQSUyMCUyMCUyMCUyMElEJTNEJTIyZGVsZXkyMDE3aW50ZXJuZXQlMjIlMkMlMEElMjAlMjAlMjAlMjBwbGFjZXglM0QlMjJDYW5hZGlhbiUyMFB1YmxpYyUyMFBvbGljeSUyMiUyQyUwQSUyOSUyOSUwQSUwQURCJTI4Q2l0YXRpb24lMjglMEElMjAlMjAlMjAlMjBkZWxleTIwMTdhJTJDJTIwd2FhcmRlbmJ1cmcyMDEzYSUyQyUyMHJlZiUzRCUyMiUyMiUyQyUwQSUyMCUyMCUyMCUyMGNvbnRleHRzJTNEJTVCJTBBJTBBJTIwJTIwJTIwJTIwJTVEJTJDJTBBJTI5JTI5JTBBJTBBJTI3JTI3JTI3JTJDJTIwY2l0YXRpb25zJTNEJTI3d2FhcmRlbmJ1cmcyMDEzYSUyNyUyOSUzQg==\")));\n",
       "    "
      ],
      "text/plain": [
       "<IPython.core.display.Javascript object>"
      ]
     },
     "metadata": {},
     "output_type": "display_data"
    },
    {
     "data": {
      "application/javascript": [
       "$('span:contains(\"# Temp\")').closest('.cell').remove();"
      ],
      "text/plain": [
       "<IPython.core.display.Javascript object>"
      ]
     },
     "metadata": {},
     "output_type": "display_data"
    },
    {
     "data": {
      "application/javascript": [
       "\n",
       "        $('span:contains(\"# Temp\")').closest('.cell').remove();\n",
       "        var code = IPython.notebook.insert_cell_below('code');\n",
       "        code.set_text(decodeURIComponent(window.atob(\"JTIzJTIwVGVtcCUwQWluc2VydCUyOCUyNyUyNyUyNyUwQXRoZW9iYWxkMjAxOGElMjAlM0QlMjBEQiUyOFdvcmtVbnJlbGF0ZWQlMjglMEElMjAlMjAlMjAlMjAyMDE4JTJDJTIwJTIySW50ZXJmYWNlJTIwUHJvYmxlbXMlMjBvZiUyMEFnaWxlJTIwaW4lMjBhJTIwTm9uLWFnaWxlJTIwRW52aXJvbm1lbnQlMjIlMkMlMEElMjAlMjAlMjAlMjBkaXNwbGF5JTNEJTIydGhlb2JhbGQlMjIlMkMlMEElMjAlMjAlMjAlMjBhdXRob3JzJTNEJTIyVGhlb2JhbGQlMkMlMjBTdmVuJTIwYW5kJTIwRGllYm9sZCUyQyUyMFBoaWxpcHAlMjIlMkMlMEElMjAlMjAlMjAlMjBwbGFjZSUzREZBS0UlMkMlMEElMjAlMjAlMjAlMjBwcCUzRCUyMjEyMy0tMTMwJTIyJTJDJTBBJTIwJTIwJTIwJTIwZW50cnl0eXBlJTNEJTIyaW5wcm9jZWVkaW5ncyUyMiUyQyUwQSUyMCUyMCUyMCUyMG9yZ2FuaXphdGlvbiUzRCUyMlNwcmluZ2VyJTIyJTJDJTBBJTIwJTIwJTIwJTIwSUQlM0QlMjJ0aGVvYmFsZDIwMThpbnRlcmZhY2UlMjIlMkMlMEElMjAlMjAlMjAlMjBwbGFjZXglM0QlMjJJbnRlcm5hdGlvbmFsJTIwQ29uZmVyZW5jZSUyMG9uJTIwQWdpbGUlMjBTb2Z0d2FyZSUyMERldmVsb3BtZW50JTIyJTJDJTBBJTI5JTI5JTBBJTBBREIlMjhDaXRhdGlvbiUyOCUwQSUyMCUyMCUyMCUyMHRoZW9iYWxkMjAxOGElMkMlMjB3YWFyZGVuYnVyZzIwMTNhJTJDJTIwcmVmJTNEJTIyJTIyJTJDJTBBJTIwJTIwJTIwJTIwY29udGV4dHMlM0QlNUIlMEElMEElMjAlMjAlMjAlMjAlNUQlMkMlMEElMjklMjklMEElMEElMjclMjclMjclMkMlMjBjaXRhdGlvbnMlM0QlMjd3YWFyZGVuYnVyZzIwMTNhJTI3JTI5JTNC\")));\n",
       "    "
      ],
      "text/plain": [
       "<IPython.core.display.Javascript object>"
      ]
     },
     "metadata": {},
     "output_type": "display_data"
    },
    {
     "data": {
      "application/javascript": [
       "$('span:contains(\"# Temp\")').closest('.cell').remove();"
      ],
      "text/plain": [
       "<IPython.core.display.Javascript object>"
      ]
     },
     "metadata": {},
     "output_type": "display_data"
    },
    {
     "data": {
      "application/javascript": [
       "\n",
       "        $('span:contains(\"# Temp\")').closest('.cell').remove();\n",
       "        var code = IPython.notebook.insert_cell_below('code');\n",
       "        code.set_text(decodeURIComponent(window.atob(\"JTIzJTIwVGVtcCUwQWluc2VydCUyOCUyNyUyNyUyNyUwQXRoZW9iYWxkMjAxOGElMjAlM0QlMjBEQiUyOFdvcmtVbnJlbGF0ZWQlMjglMEElMjAlMjAlMjAlMjAyMDE4JTJDJTIwJTIySW50ZXJmYWNlJTIwUHJvYmxlbXMlMjBvZiUyMEFnaWxlJTIwaW4lMjBhJTIwTm9uLWFnaWxlJTIwRW52aXJvbm1lbnQlMjIlMkMlMEElMjAlMjAlMjAlMjBkaXNwbGF5JTNEJTIydGhlb2JhbGQlMjIlMkMlMEElMjAlMjAlMjAlMjBhdXRob3JzJTNEJTIyVGhlb2JhbGQlMkMlMjBTdmVuJTIwYW5kJTIwRGllYm9sZCUyQyUyMFBoaWxpcHAlMjIlMkMlMEElMjAlMjAlMjAlMjBwbGFjZSUzREZBS0UlMkMlMEElMjAlMjAlMjAlMjBwcCUzRCUyMjEyMy0tMTMwJTIyJTJDJTBBJTIwJTIwJTIwJTIwZW50cnl0eXBlJTNEJTIyaW5wcm9jZWVkaW5ncyUyMiUyQyUwQSUyMCUyMCUyMCUyMG9yZ2FuaXphdGlvbiUzRCUyMlNwcmluZ2VyJTIyJTJDJTBBJTIwJTIwJTIwJTIwSUQlM0QlMjJ0aGVvYmFsZDIwMThpbnRlcmZhY2UlMjIlMkMlMEElMjAlMjAlMjAlMjBwbGFjZXglM0QlMjJJbnRlcm5hdGlvbmFsJTIwQ29uZmVyZW5jZSUyMG9uJTIwQWdpbGUlMjBTb2Z0d2FyZSUyMERldmVsb3BtZW50JTIyJTJDJTBBJTI5JTI5JTBBJTBBREIlMjhDaXRhdGlvbiUyOCUwQSUyMCUyMCUyMCUyMHRoZW9iYWxkMjAxOGElMkMlMjB3YWFyZGVuYnVyZzIwMTNhJTJDJTIwcmVmJTNEJTIyJTIyJTJDJTBBJTIwJTIwJTIwJTIwY29udGV4dHMlM0QlNUIlMEElMEElMjAlMjAlMjAlMjAlNUQlMkMlMEElMjklMjklMEElMEElMjclMjclMjclMkMlMjBjaXRhdGlvbnMlM0QlMjd3YWFyZGVuYnVyZzIwMTNhJTI3JTI5JTNC\")));\n",
       "    "
      ],
      "text/plain": [
       "<IPython.core.display.Javascript object>"
      ]
     },
     "metadata": {},
     "output_type": "display_data"
    },
    {
     "data": {
      "application/javascript": [
       "$('span:contains(\"# Temp\")').closest('.cell').remove();"
      ],
      "text/plain": [
       "<IPython.core.display.Javascript object>"
      ]
     },
     "metadata": {},
     "output_type": "display_data"
    },
    {
     "data": {
      "application/javascript": [
       "\n",
       "        $('span:contains(\"# Temp\")').closest('.cell').remove();\n",
       "        var code = IPython.notebook.insert_cell_below('code');\n",
       "        code.set_text(decodeURIComponent(window.atob(\"JTIzJTIwVGVtcCUwQWluc2VydCUyOCUyNyUyNyUyNyUwQWxhdWtrYW5lbjIwMThhJTIwJTNEJTIwREIlMjhXb3JrVW5yZWxhdGVkJTI4JTBBJTIwJTIwJTIwJTIwMjAxOCUyQyUyMCUyMkNvbXBhcmlzb24lMjBvZiUyMHJlbGVhc2UlMjBlbmdpbmVlcmluZyUyMHByYWN0aWNlcyUyMGluJTIwYSUyMGxhcmdlJTIwbWF0dXJlJTIwY29tcGFueSUyMGFuZCUyMGElMjBzdGFydHVwJTIyJTJDJTBBJTIwJTIwJTIwJTIwZGlzcGxheSUzRCUyMmxhdWtrYW5lbiUyMiUyQyUwQSUyMCUyMCUyMCUyMGF1dGhvcnMlM0QlMjJMYXVra2FuZW4lMkMlMjBFZXJvJTIwYW5kJTIwUGFhc2l2YWFyYSUyQyUyME1hcmlhJTIwYW5kJTIwSXRrb25lbiUyQyUyMEp1aGElMjBhbmQlMjBMYXNzZW5pdXMlMkMlMjBDYXNwZXIlMjIlMkMlMEElMjAlMjAlMjAlMjBwbGFjZSUzREVTRSUyQyUwQSUyMCUyMCUyMCUyMHBwJTNEJTIyMS0tNDMlMjIlMkMlMEElMjAlMjAlMjAlMjBlbnRyeXR5cGUlM0QlMjJhcnRpY2xlJTIyJTJDJTBBJTIwJTIwJTIwJTIwcHVibGlzaGVyJTNEJTIyU3ByaW5nZXIlMjIlMkMlMEElMjAlMjAlMjAlMjBJRCUzRCUyMmxhdWtrYW5lbjIwMThjb21wYXJpc29uJTIyJTJDJTBBJTIwJTIwJTIwJTIwcGxhY2V4JTNEJTIyRW1waXJpY2FsJTIwU29mdHdhcmUlMjBFbmdpbmVlcmluZyUyMiUyQyUwQSUyOSUyOSUwQSUwQURCJTI4Q2l0YXRpb24lMjglMEElMjAlMjAlMjAlMjBsYXVra2FuZW4yMDE4YSUyQyUyMHdhYXJkZW5idXJnMjAxM2ElMkMlMjByZWYlM0QlMjIlMjIlMkMlMEElMjAlMjAlMjAlMjBjb250ZXh0cyUzRCU1QiUwQSUwQSUyMCUyMCUyMCUyMCU1RCUyQyUwQSUyOSUyOSUwQSUwQSUyNyUyNyUyNyUyQyUyMGNpdGF0aW9ucyUzRCUyN3dhYXJkZW5idXJnMjAxM2ElMjclMjklM0I=\")));\n",
       "    "
      ],
      "text/plain": [
       "<IPython.core.display.Javascript object>"
      ]
     },
     "metadata": {},
     "output_type": "display_data"
    },
    {
     "data": {
      "application/javascript": [
       "$('span:contains(\"# Temp\")').closest('.cell').remove();"
      ],
      "text/plain": [
       "<IPython.core.display.Javascript object>"
      ]
     },
     "metadata": {},
     "output_type": "display_data"
    },
    {
     "data": {
      "application/javascript": [
       "\n",
       "        $('span:contains(\"# Temp\")').closest('.cell').remove();\n",
       "        var code = IPython.notebook.insert_cell_below('code');\n",
       "        code.set_text(decodeURIComponent(window.atob(\"JTIzJTIwVGVtcCUwQWluc2VydCUyOCUyNyUyNyUyNyUwQWxhdWtrYW5lbjIwMThhJTIwJTNEJTIwREIlMjhXb3JrVW5yZWxhdGVkJTI4JTBBJTIwJTIwJTIwJTIwMjAxOCUyQyUyMCUyMkNvbXBhcmlzb24lMjBvZiUyMHJlbGVhc2UlMjBlbmdpbmVlcmluZyUyMHByYWN0aWNlcyUyMGluJTIwYSUyMGxhcmdlJTIwbWF0dXJlJTIwY29tcGFueSUyMGFuZCUyMGElMjBzdGFydHVwJTIyJTJDJTBBJTIwJTIwJTIwJTIwZGlzcGxheSUzRCUyMmxhdWtrYW5lbiUyMiUyQyUwQSUyMCUyMCUyMCUyMGF1dGhvcnMlM0QlMjJMYXVra2FuZW4lMkMlMjBFZXJvJTIwYW5kJTIwUGFhc2l2YWFyYSUyQyUyME1hcmlhJTIwYW5kJTIwSXRrb25lbiUyQyUyMEp1aGElMjBhbmQlMjBMYXNzZW5pdXMlMkMlMjBDYXNwZXIlMjIlMkMlMEElMjAlMjAlMjAlMjBwbGFjZSUzREVTRSUyQyUwQSUyMCUyMCUyMCUyMHBwJTNEJTIyMS0tNDMlMjIlMkMlMEElMjAlMjAlMjAlMjBlbnRyeXR5cGUlM0QlMjJhcnRpY2xlJTIyJTJDJTBBJTIwJTIwJTIwJTIwcHVibGlzaGVyJTNEJTIyU3ByaW5nZXIlMjIlMkMlMEElMjAlMjAlMjAlMjBJRCUzRCUyMmxhdWtrYW5lbjIwMThjb21wYXJpc29uJTIyJTJDJTBBJTIwJTIwJTIwJTIwcGxhY2V4JTNEJTIyRW1waXJpY2FsJTIwU29mdHdhcmUlMjBFbmdpbmVlcmluZyUyMiUyQyUwQSUyOSUyOSUwQSUwQURCJTI4Q2l0YXRpb24lMjglMEElMjAlMjAlMjAlMjBsYXVra2FuZW4yMDE4YSUyQyUyMHdhYXJkZW5idXJnMjAxM2ElMkMlMjByZWYlM0QlMjIlMjIlMkMlMEElMjAlMjAlMjAlMjBjb250ZXh0cyUzRCU1QiUwQSUwQSUyMCUyMCUyMCUyMCU1RCUyQyUwQSUyOSUyOSUwQSUwQSUyNyUyNyUyNyUyQyUyMGNpdGF0aW9ucyUzRCUyN3dhYXJkZW5idXJnMjAxM2ElMjclMjklM0I=\")));\n",
       "    "
      ],
      "text/plain": [
       "<IPython.core.display.Javascript object>"
      ]
     },
     "metadata": {},
     "output_type": "display_data"
    },
    {
     "data": {
      "application/javascript": [
       "$('span:contains(\"# Temp\")').closest('.cell').remove();"
      ],
      "text/plain": [
       "<IPython.core.display.Javascript object>"
      ]
     },
     "metadata": {},
     "output_type": "display_data"
    },
    {
     "data": {
      "application/javascript": [
       "\n",
       "        $('span:contains(\"# Temp\")').closest('.cell').remove();\n",
       "        var code = IPython.notebook.insert_cell_below('code');\n",
       "        code.set_text(decodeURIComponent(window.atob(\"JTIzJTIwVGVtcCUwQWluc2VydCUyOCUyNyUyNyUyNyUwQWhhYXN0ZXIwYSUyMCUzRCUyMERCJTI4V29ya1VucmVsYXRlZCUyOCUwQSUyMCUyMCUyMCUyMDAlMkMlMjAlMjJBZ2lsZSUyMGluLXRoZS1sYXJnZSUzQSUyMEdldHRpbmclMjBmcm9tJTIwUGFyYWRveCUyMHRvJTIwUGFyYWRpZ20lMjIlMkMlMEElMjAlMjAlMjAlMjBkaXNwbGF5JTNEJTIyaGFhc3RlciUyMiUyQyUwQSUyMCUyMCUyMCUyMGF1dGhvcnMlM0QlMjJ2YW4lMjBIYWFzdGVyJTJDJTIwS2Vsc2V5JTIyJTJDJTBBJTIwJTIwJTIwJTIwcGxhY2UlM0RGQUtFJTJDJTBBJTIwJTIwJTIwJTIwZW50cnl0eXBlJTNEJTIyYXJ0aWNsZSUyMiUyQyUwQSUyMCUyMCUyMCUyMElEJTNEJTIydmFuYWdpbGUlMjIlMkMlMEElMjAlMjAlMjAlMjBwbGFjZXglM0QlMjIlMjIlMkMlMEElMjklMjklMEElMEFEQiUyOENpdGF0aW9uJTI4JTBBJTIwJTIwJTIwJTIwaGFhc3RlcjBhJTJDJTIwd2FhcmRlbmJ1cmcyMDEzYSUyQyUyMHJlZiUzRCUyMiUyMiUyQyUwQSUyMCUyMCUyMCUyMGNvbnRleHRzJTNEJTVCJTBBJTBBJTIwJTIwJTIwJTIwJTVEJTJDJTBBJTI5JTI5JTBBJTBBJTI3JTI3JTI3JTJDJTIwY2l0YXRpb25zJTNEJTI3d2FhcmRlbmJ1cmcyMDEzYSUyNyUyOSUzQg==\")));\n",
       "    "
      ],
      "text/plain": [
       "<IPython.core.display.Javascript object>"
      ]
     },
     "metadata": {},
     "output_type": "display_data"
    },
    {
     "data": {
      "application/javascript": [
       "$('span:contains(\"# Temp\")').closest('.cell').remove();"
      ],
      "text/plain": [
       "<IPython.core.display.Javascript object>"
      ]
     },
     "metadata": {},
     "output_type": "display_data"
    },
    {
     "data": {
      "application/javascript": [
       "\n",
       "        $('span:contains(\"# Temp\")').closest('.cell').remove();\n",
       "        var code = IPython.notebook.insert_cell_below('code');\n",
       "        code.set_text(decodeURIComponent(window.atob(\"JTIzJTIwVGVtcCUwQWluc2VydCUyOCUyNyUyNyUyNyUwQWhhYXN0ZXIwYSUyMCUzRCUyMERCJTI4V29ya1VucmVsYXRlZCUyOCUwQSUyMCUyMCUyMCUyMDAlMkMlMjAlMjJBZ2lsZSUyMGluLXRoZS1sYXJnZSUzQSUyMEdldHRpbmclMjBmcm9tJTIwUGFyYWRveCUyMHRvJTIwUGFyYWRpZ20lMjIlMkMlMEElMjAlMjAlMjAlMjBkaXNwbGF5JTNEJTIyaGFhc3RlciUyMiUyQyUwQSUyMCUyMCUyMCUyMGF1dGhvcnMlM0QlMjJ2YW4lMjBIYWFzdGVyJTJDJTIwS2Vsc2V5JTIyJTJDJTBBJTIwJTIwJTIwJTIwcGxhY2UlM0RGQUtFJTJDJTBBJTIwJTIwJTIwJTIwZW50cnl0eXBlJTNEJTIyYXJ0aWNsZSUyMiUyQyUwQSUyMCUyMCUyMCUyMElEJTNEJTIydmFuYWdpbGUlMjIlMkMlMEElMjAlMjAlMjAlMjBwbGFjZXglM0QlMjIlMjIlMkMlMEElMjklMjklMEElMEFEQiUyOENpdGF0aW9uJTI4JTBBJTIwJTIwJTIwJTIwaGFhc3RlcjBhJTJDJTIwd2FhcmRlbmJ1cmcyMDEzYSUyQyUyMHJlZiUzRCUyMiUyMiUyQyUwQSUyMCUyMCUyMCUyMGNvbnRleHRzJTNEJTVCJTBBJTBBJTIwJTIwJTIwJTIwJTVEJTJDJTBBJTI5JTI5JTBBJTBBJTI3JTI3JTI3JTJDJTIwY2l0YXRpb25zJTNEJTI3d2FhcmRlbmJ1cmcyMDEzYSUyNyUyOSUzQg==\")));\n",
       "    "
      ],
      "text/plain": [
       "<IPython.core.display.Javascript object>"
      ]
     },
     "metadata": {},
     "output_type": "display_data"
    },
    {
     "data": {
      "application/javascript": [
       "$('span:contains(\"# Temp\")').closest('.cell').remove();"
      ],
      "text/plain": [
       "<IPython.core.display.Javascript object>"
      ]
     },
     "metadata": {},
     "output_type": "display_data"
    },
    {
     "data": {
      "application/javascript": [
       "\n",
       "        $('span:contains(\"# Temp\")').closest('.cell').remove();\n",
       "        var code = IPython.notebook.insert_cell_below('code');\n",
       "        code.set_text(decodeURIComponent(window.atob(\"JTIzJTIwVGVtcCUwQWluc2VydCUyOCUyNyUyNyUyNyUwQWthbGxpYW12YWtvdTIwMTdhJTIwJTNEJTIwREIlMjhXb3JrVW5yZWxhdGVkJTI4JTBBJTIwJTIwJTIwJTIwMjAxNyUyQyUyMCUyMkNvbGxhYm9yYXRpb24lMjB2aWElMjBhbGlnbmVkJTIwYXV0b25vbXklMjBmb3IlMjBjb21tZXJjaWFsJTIwc29mdHdhcmUlMjB0ZWFtcyUyMiUyQyUwQSUyMCUyMCUyMCUyMGRpc3BsYXklM0QlMjJrYWxsaWFtdmFrb3UlMjIlMkMlMEElMjAlMjAlMjAlMjBhdXRob3JzJTNEJTIyS2FsbGlhbXZha291JTJDJTIwRWlyaW5pJTIyJTJDJTBBJTIwJTIwJTIwJTIwcGxhY2UlM0RUaGVzaXMlMkMlMEElMjAlMjAlMjAlMjBlbnRyeXR5cGUlM0QlMjJwaGR0aGVzaXMlMjIlMkMlMEElMjAlMjAlMjAlMjBJRCUzRCUyMmthbGxpYW12YWtvdTIwMTdjb2xsYWJvcmF0aW9uJTIyJTJDJTBBJTIwJTIwJTIwJTIwcGxhY2V4JTNEJTIyJTIyJTJDJTBBJTI5JTI5JTBBJTBBREIlMjhDaXRhdGlvbiUyOCUwQSUyMCUyMCUyMCUyMGthbGxpYW12YWtvdTIwMTdhJTJDJTIwd2FhcmRlbmJ1cmcyMDEzYSUyQyUyMHJlZiUzRCUyMiUyMiUyQyUwQSUyMCUyMCUyMCUyMGNvbnRleHRzJTNEJTVCJTBBJTBBJTIwJTIwJTIwJTIwJTVEJTJDJTBBJTI5JTI5JTBBJTBBJTI3JTI3JTI3JTJDJTIwY2l0YXRpb25zJTNEJTI3d2FhcmRlbmJ1cmcyMDEzYSUyNyUyOSUzQg==\")));\n",
       "    "
      ],
      "text/plain": [
       "<IPython.core.display.Javascript object>"
      ]
     },
     "metadata": {},
     "output_type": "display_data"
    },
    {
     "data": {
      "application/javascript": [
       "$('span:contains(\"# Temp\")').closest('.cell').remove();"
      ],
      "text/plain": [
       "<IPython.core.display.Javascript object>"
      ]
     },
     "metadata": {},
     "output_type": "display_data"
    },
    {
     "data": {
      "application/javascript": [
       "\n",
       "        $('span:contains(\"# Temp\")').closest('.cell').remove();\n",
       "        var code = IPython.notebook.insert_cell_below('code');\n",
       "        code.set_text(decodeURIComponent(window.atob(\"JTIzJTIwVGVtcCUwQWluc2VydCUyOCUyNyUyNyUyNyUwQWthbGxpYW12YWtvdTIwMTdhJTIwJTNEJTIwREIlMjhXb3JrVW5yZWxhdGVkJTI4JTBBJTIwJTIwJTIwJTIwMjAxNyUyQyUyMCUyMkNvbGxhYm9yYXRpb24lMjB2aWElMjBhbGlnbmVkJTIwYXV0b25vbXklMjBmb3IlMjBjb21tZXJjaWFsJTIwc29mdHdhcmUlMjB0ZWFtcyUyMiUyQyUwQSUyMCUyMCUyMCUyMGRpc3BsYXklM0QlMjJrYWxsaWFtdmFrb3UlMjIlMkMlMEElMjAlMjAlMjAlMjBhdXRob3JzJTNEJTIyS2FsbGlhbXZha291JTJDJTIwRWlyaW5pJTIyJTJDJTBBJTIwJTIwJTIwJTIwcGxhY2UlM0RUaGVzaXMlMkMlMEElMjAlMjAlMjAlMjBlbnRyeXR5cGUlM0QlMjJwaGR0aGVzaXMlMjIlMkMlMEElMjAlMjAlMjAlMjBJRCUzRCUyMmthbGxpYW12YWtvdTIwMTdjb2xsYWJvcmF0aW9uJTIyJTJDJTBBJTIwJTIwJTIwJTIwcGxhY2V4JTNEJTIyJTIyJTJDJTBBJTI5JTI5JTBBJTBBREIlMjhDaXRhdGlvbiUyOCUwQSUyMCUyMCUyMCUyMGthbGxpYW12YWtvdTIwMTdhJTJDJTIwd2FhcmRlbmJ1cmcyMDEzYSUyQyUyMHJlZiUzRCUyMiUyMiUyQyUwQSUyMCUyMCUyMCUyMGNvbnRleHRzJTNEJTVCJTBBJTBBJTIwJTIwJTIwJTIwJTVEJTJDJTBBJTI5JTI5JTBBJTBBJTI3JTI3JTI3JTJDJTIwY2l0YXRpb25zJTNEJTI3d2FhcmRlbmJ1cmcyMDEzYSUyNyUyOSUzQg==\")));\n",
       "    "
      ],
      "text/plain": [
       "<IPython.core.display.Javascript object>"
      ]
     },
     "metadata": {},
     "output_type": "display_data"
    },
    {
     "data": {
      "application/javascript": [
       "$('span:contains(\"# Temp\")').closest('.cell').remove();"
      ],
      "text/plain": [
       "<IPython.core.display.Javascript object>"
      ]
     },
     "metadata": {},
     "output_type": "display_data"
    },
    {
     "data": {
      "application/javascript": [
       "\n",
       "        $('span:contains(\"# Temp\")').closest('.cell').remove();\n",
       "        var code = IPython.notebook.insert_cell_below('code');\n",
       "        code.set_text(decodeURIComponent(window.atob(\"JTIzJTIwVGVtcCUwQWluc2VydCUyOCUyNyUyNyUyNyUwQURCJTI4Q2l0YXRpb24lMjglMEElMjAlMjAlMjAlMjBwYXRlbDIwMTdhJTJDJTIwd2FhcmRlbmJ1cmcyMDEzYSUyQyUyMHJlZiUzRCUyMiUyMiUyQyUwQSUyMCUyMCUyMCUyMGNvbnRleHRzJTNEJTVCJTBBJTBBJTIwJTIwJTIwJTIwJTVEJTJDJTBBJTI5JTI5JTBBJTBBJTI3JTI3JTI3JTJDJTIwY2l0YXRpb25zJTNEJTI3d2FhcmRlbmJ1cmcyMDEzYSUyNyUyOSUzQg==\")));\n",
       "    "
      ],
      "text/plain": [
       "<IPython.core.display.Javascript object>"
      ]
     },
     "metadata": {},
     "output_type": "display_data"
    },
    {
     "data": {
      "application/javascript": [
       "$('span:contains(\"# Temp\")').closest('.cell').remove();"
      ],
      "text/plain": [
       "<IPython.core.display.Javascript object>"
      ]
     },
     "metadata": {},
     "output_type": "display_data"
    },
    {
     "data": {
      "application/javascript": [
       "\n",
       "        $('span:contains(\"# Temp\")').closest('.cell').remove();\n",
       "        var code = IPython.notebook.insert_cell_below('code');\n",
       "        code.set_text(decodeURIComponent(window.atob(\"JTIzJTIwVGVtcCUwQWluc2VydCUyOCUyNyUyNyUyNyUwQURCJTI4Q2l0YXRpb24lMjglMEElMjAlMjAlMjAlMjBwYXRlbDIwMTdhJTJDJTIwd2FhcmRlbmJ1cmcyMDEzYSUyQyUyMHJlZiUzRCUyMiUyMiUyQyUwQSUyMCUyMCUyMCUyMGNvbnRleHRzJTNEJTVCJTBBJTBBJTIwJTIwJTIwJTIwJTVEJTJDJTBBJTI5JTI5JTBBJTBBJTI3JTI3JTI3JTJDJTIwY2l0YXRpb25zJTNEJTI3d2FhcmRlbmJ1cmcyMDEzYSUyNyUyOSUzQg==\")));\n",
       "    "
      ],
      "text/plain": [
       "<IPython.core.display.Javascript object>"
      ]
     },
     "metadata": {},
     "output_type": "display_data"
    },
    {
     "data": {
      "application/javascript": [
       "$('span:contains(\"# Temp\")').closest('.cell').remove();"
      ],
      "text/plain": [
       "<IPython.core.display.Javascript object>"
      ]
     },
     "metadata": {},
     "output_type": "display_data"
    },
    {
     "data": {
      "application/javascript": [
       "\n",
       "        $('span:contains(\"# Temp\")').closest('.cell').remove();\n",
       "        var code = IPython.notebook.insert_cell_below('code');\n",
       "        code.set_text(decodeURIComponent(window.atob(\"JTIzJTIwVGVtcCUwQWluc2VydCUyOCUyNyUyNyUyNyUwQWZlbGlwZTIwMTVhJTIwJTNEJTIwREIlMjhXb3JrVW5yZWxhdGVkJTI4JTBBJTIwJTIwJTIwJTIwMjAxNSUyQyUyMCUyMlRFTEVDT01NVU5JQ0FUSU9OJTIwU0VSVklDRSUyMERFUExPWU1FTlQlM0ElMjBQUk9KRUNUJTIwTUFOQUdFTUVOVCUyME9QVElNSVpBVElPTiUyMEJZJTIwVVNJTkclMjBESUZGRVJFTlQlMjIlMkMlMEElMjAlMjAlMjAlMjBkaXNwbGF5JTNEJTIyZmVsaXBlJTIyJTJDJTBBJTIwJTIwJTIwJTIwYXV0aG9ycyUzRCUyMlNhbiUyMEZlbGlwZSUyQyUyMFBhdHJpY2lhJTIwZGUlMjBBbmRyJUMzJUE5cyUyMiUyQyUwQSUyMCUyMCUyMCUyMHBsYWNlJTNERkFLRSUyQyUwQSUyMCUyMCUyMCUyMGVudHJ5dHlwZSUzRCUyMmFydGljbGUlMjIlMkMlMEElMjAlMjAlMjAlMjBJRCUzRCUyMnNhbjIwMTV0ZWxlY29tbXVuaWNhdGlvbiUyMiUyQyUwQSUyMCUyMCUyMCUyMHBsYWNleCUzRCUyMiUyMiUyQyUwQSUyOSUyOSUwQSUwQURCJTI4Q2l0YXRpb24lMjglMEElMjAlMjAlMjAlMjBmZWxpcGUyMDE1YSUyQyUyMHdhYXJkZW5idXJnMjAxM2ElMkMlMjByZWYlM0QlMjIlMjIlMkMlMEElMjAlMjAlMjAlMjBjb250ZXh0cyUzRCU1QiUwQSUwQSUyMCUyMCUyMCUyMCU1RCUyQyUwQSUyOSUyOSUwQSUwQSUyNyUyNyUyNyUyQyUyMGNpdGF0aW9ucyUzRCUyN3dhYXJkZW5idXJnMjAxM2ElMjclMjklM0I=\")));\n",
       "    "
      ],
      "text/plain": [
       "<IPython.core.display.Javascript object>"
      ]
     },
     "metadata": {},
     "output_type": "display_data"
    },
    {
     "data": {
      "application/javascript": [
       "$('span:contains(\"# Temp\")').closest('.cell').remove();"
      ],
      "text/plain": [
       "<IPython.core.display.Javascript object>"
      ]
     },
     "metadata": {},
     "output_type": "display_data"
    },
    {
     "data": {
      "application/javascript": [
       "\n",
       "        $('span:contains(\"# Temp\")').closest('.cell').remove();\n",
       "        var code = IPython.notebook.insert_cell_below('code');\n",
       "        code.set_text(decodeURIComponent(window.atob(\"JTIzJTIwVGVtcCUwQWluc2VydCUyOCUyNyUyNyUyNyUwQWZlbGlwZTIwMTVhJTIwJTNEJTIwREIlMjhXb3JrVW5yZWxhdGVkJTI4JTBBJTIwJTIwJTIwJTIwMjAxNSUyQyUyMCUyMlRFTEVDT01NVU5JQ0FUSU9OJTIwU0VSVklDRSUyMERFUExPWU1FTlQlM0ElMjBQUk9KRUNUJTIwTUFOQUdFTUVOVCUyME9QVElNSVpBVElPTiUyMEJZJTIwVVNJTkclMjBESUZGRVJFTlQlMjIlMkMlMEElMjAlMjAlMjAlMjBkaXNwbGF5JTNEJTIyZmVsaXBlJTIyJTJDJTBBJTIwJTIwJTIwJTIwYXV0aG9ycyUzRCUyMlNhbiUyMEZlbGlwZSUyQyUyMFBhdHJpY2lhJTIwZGUlMjBBbmRyJUMzJUE5cyUyMiUyQyUwQSUyMCUyMCUyMCUyMHBsYWNlJTNERkFLRSUyQyUwQSUyMCUyMCUyMCUyMGVudHJ5dHlwZSUzRCUyMmFydGljbGUlMjIlMkMlMEElMjAlMjAlMjAlMjBJRCUzRCUyMnNhbjIwMTV0ZWxlY29tbXVuaWNhdGlvbiUyMiUyQyUwQSUyMCUyMCUyMCUyMHBsYWNleCUzRCUyMiUyMiUyQyUwQSUyOSUyOSUwQSUwQURCJTI4Q2l0YXRpb24lMjglMEElMjAlMjAlMjAlMjBmZWxpcGUyMDE1YSUyQyUyMHdhYXJkZW5idXJnMjAxM2ElMkMlMjByZWYlM0QlMjIlMjIlMkMlMEElMjAlMjAlMjAlMjBjb250ZXh0cyUzRCU1QiUwQSUwQSUyMCUyMCUyMCUyMCU1RCUyQyUwQSUyOSUyOSUwQSUwQSUyNyUyNyUyNyUyQyUyMGNpdGF0aW9ucyUzRCUyN3dhYXJkZW5idXJnMjAxM2ElMjclMjklM0I=\")));\n",
       "    "
      ],
      "text/plain": [
       "<IPython.core.display.Javascript object>"
      ]
     },
     "metadata": {},
     "output_type": "display_data"
    },
    {
     "data": {
      "application/javascript": [
       "$('span:contains(\"# Temp\")').closest('.cell').remove();"
      ],
      "text/plain": [
       "<IPython.core.display.Javascript object>"
      ]
     },
     "metadata": {},
     "output_type": "display_data"
    },
    {
     "data": {
      "application/javascript": [
       "\n",
       "        $('span:contains(\"# Temp\")').closest('.cell').remove();\n",
       "        var code = IPython.notebook.insert_cell_below('code');\n",
       "        code.set_text(decodeURIComponent(window.atob(\"JTIzJTIwVGVtcCUwQWluc2VydCUyOCUyNyUyNyUyNyUwQXpoYW5nMjAxNmElMjAlM0QlMjBEQiUyOFdvcmtVbnJlbGF0ZWQlMjglMEElMjAlMjAlMjAlMjAyMDE2JTJDJTIwJTIySW50cm9kdWNpbmclMjBEb21haW4lMjBTcGVjaWZpYyUyMExhbmd1YWdlJTIwZm9yJTIwTW9kZWxpbmclMjBTY3J1bSUyMFByb2plY3RzJTIyJTJDJTBBJTIwJTIwJTIwJTIwZGlzcGxheSUzRCUyMnpoYW5nJTIyJTJDJTBBJTIwJTIwJTIwJTIwYXV0aG9ycyUzRCUyMlpoYW5nJTJDJTIwWWFucGVuZyUyMGFuZCUyMFpob3UlMkMlMjBDZSUyMiUyQyUwQSUyMCUyMCUyMCUyMHBsYWNlJTNERkFLRSUyQyUwQSUyMCUyMCUyMCUyMGVudHJ5dHlwZSUzRCUyMm1pc2MlMjIlMkMlMEElMjAlMjAlMjAlMjBJRCUzRCUyMnpoYW5nMjAxNmludHJvZHVjaW5nJTIyJTJDJTBBJTIwJTIwJTIwJTIwcGxhY2V4JTNEJTIyJTIyJTJDJTBBJTI5JTI5JTBBJTBBREIlMjhDaXRhdGlvbiUyOCUwQSUyMCUyMCUyMCUyMHpoYW5nMjAxNmElMkMlMjB3YWFyZGVuYnVyZzIwMTNhJTJDJTIwcmVmJTNEJTIyJTIyJTJDJTBBJTIwJTIwJTIwJTIwY29udGV4dHMlM0QlNUIlMEElMEElMjAlMjAlMjAlMjAlNUQlMkMlMEElMjklMjklMEElMEElMjclMjclMjclMkMlMjBjaXRhdGlvbnMlM0QlMjd3YWFyZGVuYnVyZzIwMTNhJTI3JTI5JTNC\")));\n",
       "    "
      ],
      "text/plain": [
       "<IPython.core.display.Javascript object>"
      ]
     },
     "metadata": {},
     "output_type": "display_data"
    },
    {
     "data": {
      "application/javascript": [
       "$('span:contains(\"# Temp\")').closest('.cell').remove();"
      ],
      "text/plain": [
       "<IPython.core.display.Javascript object>"
      ]
     },
     "metadata": {},
     "output_type": "display_data"
    },
    {
     "data": {
      "application/javascript": [
       "\n",
       "        $('span:contains(\"# Temp\")').closest('.cell').remove();\n",
       "        var code = IPython.notebook.insert_cell_below('code');\n",
       "        code.set_text(decodeURIComponent(window.atob(\"JTIzJTIwVGVtcCUwQWluc2VydCUyOCUyNyUyNyUyNyUwQXpoYW5nMjAxNmElMjAlM0QlMjBEQiUyOFdvcmtVbnJlbGF0ZWQlMjglMEElMjAlMjAlMjAlMjAyMDE2JTJDJTIwJTIySW50cm9kdWNpbmclMjBEb21haW4lMjBTcGVjaWZpYyUyMExhbmd1YWdlJTIwZm9yJTIwTW9kZWxpbmclMjBTY3J1bSUyMFByb2plY3RzJTIyJTJDJTBBJTIwJTIwJTIwJTIwZGlzcGxheSUzRCUyMnpoYW5nJTIyJTJDJTBBJTIwJTIwJTIwJTIwYXV0aG9ycyUzRCUyMlpoYW5nJTJDJTIwWWFucGVuZyUyMGFuZCUyMFpob3UlMkMlMjBDZSUyMiUyQyUwQSUyMCUyMCUyMCUyMHBsYWNlJTNERkFLRSUyQyUwQSUyMCUyMCUyMCUyMGVudHJ5dHlwZSUzRCUyMm1pc2MlMjIlMkMlMEElMjAlMjAlMjAlMjBJRCUzRCUyMnpoYW5nMjAxNmludHJvZHVjaW5nJTIyJTJDJTBBJTIwJTIwJTIwJTIwcGxhY2V4JTNEJTIyJTIyJTJDJTBBJTI5JTI5JTBBJTBBREIlMjhDaXRhdGlvbiUyOCUwQSUyMCUyMCUyMCUyMHpoYW5nMjAxNmElMkMlMjB3YWFyZGVuYnVyZzIwMTNhJTJDJTIwcmVmJTNEJTIyJTIyJTJDJTBBJTIwJTIwJTIwJTIwY29udGV4dHMlM0QlNUIlMEElMEElMjAlMjAlMjAlMjAlNUQlMkMlMEElMjklMjklMEElMEElMjclMjclMjclMkMlMjBjaXRhdGlvbnMlM0QlMjd3YWFyZGVuYnVyZzIwMTNhJTI3JTI5JTNC\")));\n",
       "    "
      ],
      "text/plain": [
       "<IPython.core.display.Javascript object>"
      ]
     },
     "metadata": {},
     "output_type": "display_data"
    },
    {
     "data": {
      "application/javascript": [
       "$('span:contains(\"# Temp\")').closest('.cell').remove();"
      ],
      "text/plain": [
       "<IPython.core.display.Javascript object>"
      ]
     },
     "metadata": {},
     "output_type": "display_data"
    },
    {
     "data": {
      "application/javascript": [
       "\n",
       "        $('span:contains(\"# Temp\")').closest('.cell').remove();\n",
       "        var code = IPython.notebook.insert_cell_below('code');\n",
       "        code.set_text(decodeURIComponent(window.atob(\"JTIzJTIwVGVtcCUwQWluc2VydCUyOCUyNyUyNyUyNyUwQWpvc2VwaDBhJTIwJTNEJTIwREIlMjhXb3JrVW5yZWxhdGVkJTI4JTBBJTIwJTIwJTIwJTIwMCUyQyUyMCUyMkFHSUxFJTIwU09GVFdBUkUlMjBERVZFTE9QTUVOVCUyMEFORCUyMElUJTIwUFJPSkVDVCUyMFBFUkZPUk1BTkNFJTIwSU4lMjBTT1VUSCUyMEFGUklDQSUzQSUyMEElMjBQT1NJVElWRSUyMFJFTEFUSU9OU0hJUCUzRiUyMiUyQyUwQSUyMCUyMCUyMCUyMGRpc3BsYXklM0QlMjJqb3NlcGglMjIlMkMlMEElMjAlMjAlMjAlMjBhdXRob3JzJTNEJTIySk9TRVBIJTJDJTIwTkFaRUVSJTIwYW5kJTIwTUFSTkVXSUNLJTJDJTIwQ0FSTCUyMGFuZCUyMFNBTlRBTkElMkMlMjBNQVRUSEVXJTIwSkFOJTIyJTJDJTBBJTIwJTIwJTIwJTIwcGxhY2UlM0RGQUtFJTJDJTBBJTIwJTIwJTIwJTIwZW50cnl0eXBlJTNEJTIyYXJ0aWNsZSUyMiUyQyUwQSUyMCUyMCUyMCUyMElEJTNEJTIyam9zZXBoYWdpbGUlMjIlMkMlMEElMjAlMjAlMjAlMjBwbGFjZXglM0QlMjIlMjIlMkMlMEElMjklMjklMEElMEFEQiUyOENpdGF0aW9uJTI4JTBBJTIwJTIwJTIwJTIwam9zZXBoMGElMkMlMjB3YWFyZGVuYnVyZzIwMTNhJTJDJTIwcmVmJTNEJTIyJTIyJTJDJTBBJTIwJTIwJTIwJTIwY29udGV4dHMlM0QlNUIlMEElMEElMjAlMjAlMjAlMjAlNUQlMkMlMEElMjklMjklMEElMEElMjclMjclMjclMkMlMjBjaXRhdGlvbnMlM0QlMjd3YWFyZGVuYnVyZzIwMTNhJTI3JTI5JTNC\")));\n",
       "    "
      ],
      "text/plain": [
       "<IPython.core.display.Javascript object>"
      ]
     },
     "metadata": {},
     "output_type": "display_data"
    },
    {
     "data": {
      "application/javascript": [
       "$('span:contains(\"# Temp\")').closest('.cell').remove();"
      ],
      "text/plain": [
       "<IPython.core.display.Javascript object>"
      ]
     },
     "metadata": {},
     "output_type": "display_data"
    },
    {
     "data": {
      "application/javascript": [
       "\n",
       "        $('span:contains(\"# Temp\")').closest('.cell').remove();\n",
       "        var code = IPython.notebook.insert_cell_below('code');\n",
       "        code.set_text(decodeURIComponent(window.atob(\"JTIzJTIwVGVtcCUwQWluc2VydCUyOCUyNyUyNyUyNyUwQWpvc2VwaDBhJTIwJTNEJTIwREIlMjhXb3JrVW5yZWxhdGVkJTI4JTBBJTIwJTIwJTIwJTIwMCUyQyUyMCUyMkFHSUxFJTIwU09GVFdBUkUlMjBERVZFTE9QTUVOVCUyMEFORCUyMElUJTIwUFJPSkVDVCUyMFBFUkZPUk1BTkNFJTIwSU4lMjBTT1VUSCUyMEFGUklDQSUzQSUyMEElMjBQT1NJVElWRSUyMFJFTEFUSU9OU0hJUCUzRiUyMiUyQyUwQSUyMCUyMCUyMCUyMGRpc3BsYXklM0QlMjJqb3NlcGglMjIlMkMlMEElMjAlMjAlMjAlMjBhdXRob3JzJTNEJTIySk9TRVBIJTJDJTIwTkFaRUVSJTIwYW5kJTIwTUFSTkVXSUNLJTJDJTIwQ0FSTCUyMGFuZCUyMFNBTlRBTkElMkMlMjBNQVRUSEVXJTIwSkFOJTIyJTJDJTBBJTIwJTIwJTIwJTIwcGxhY2UlM0RGQUtFJTJDJTBBJTIwJTIwJTIwJTIwZW50cnl0eXBlJTNEJTIyYXJ0aWNsZSUyMiUyQyUwQSUyMCUyMCUyMCUyMElEJTNEJTIyam9zZXBoYWdpbGUlMjIlMkMlMEElMjAlMjAlMjAlMjBwbGFjZXglM0QlMjIlMjIlMkMlMEElMjklMjklMEElMEFEQiUyOENpdGF0aW9uJTI4JTBBJTIwJTIwJTIwJTIwam9zZXBoMGElMkMlMjB3YWFyZGVuYnVyZzIwMTNhJTJDJTIwcmVmJTNEJTIyJTIyJTJDJTBBJTIwJTIwJTIwJTIwY29udGV4dHMlM0QlNUIlMEElMEElMjAlMjAlMjAlMjAlNUQlMkMlMEElMjklMjklMEElMEElMjclMjclMjclMkMlMjBjaXRhdGlvbnMlM0QlMjd3YWFyZGVuYnVyZzIwMTNhJTI3JTI5JTNC\")));\n",
       "    "
      ],
      "text/plain": [
       "<IPython.core.display.Javascript object>"
      ]
     },
     "metadata": {},
     "output_type": "display_data"
    },
    {
     "data": {
      "application/javascript": [
       "$('span:contains(\"# Temp\")').closest('.cell').remove();"
      ],
      "text/plain": [
       "<IPython.core.display.Javascript object>"
      ]
     },
     "metadata": {},
     "output_type": "display_data"
    },
    {
     "data": {
      "application/javascript": [
       "\n",
       "        $('span:contains(\"# Temp\")').closest('.cell').remove();\n",
       "        var code = IPython.notebook.insert_cell_below('code');\n",
       "        code.set_text(decodeURIComponent(window.atob(\"JTIzJTIwVGVtcCUwQWluc2VydCUyOCUyNyUyNyUyNyUwQWJhc3MwYSUyMCUzRCUyMERCJTI4V29ya1VucmVsYXRlZCUyOCUwQSUyMCUyMCUyMCUyMDAlMkMlMjAlMjJBY3Rpdml0aWVzJTIwaW4lMjBTY3J1bSUyME1hc3RlciUyMFRlYW1zJTNBJTIwUHJvY2VzcyUyMFRhaWxvcmluZyUyMGluJTIwTGFyZ2UlMjBFbnRlcnByaXNlJTIwUHJvamVjdHMlMjIlMkMlMEElMjAlMjAlMjAlMjBkaXNwbGF5JTNEJTIyYmFzcyUyMiUyQyUwQSUyMCUyMCUyMCUyMGF1dGhvcnMlM0QlMjJCYXNzJTJDJTIwSnVsaWFuJTIwTSUyMiUyQyUwQSUyMCUyMCUyMCUyMHBsYWNlJTNERkFLRSUyQyUwQSUyMCUyMCUyMCUyMGVudHJ5dHlwZSUzRCUyMmFydGljbGUlMjIlMkMlMEElMjAlMjAlMjAlMjBJRCUzRCUyMmJhc3NhY3Rpdml0aWVzJTIyJTJDJTBBJTIwJTIwJTIwJTIwcGxhY2V4JTNEJTIyJTIyJTJDJTBBJTI5JTI5JTBBJTBBREIlMjhDaXRhdGlvbiUyOCUwQSUyMCUyMCUyMCUyMGJhc3MwYSUyQyUyMHdhYXJkZW5idXJnMjAxM2ElMkMlMjByZWYlM0QlMjIlMjIlMkMlMEElMjAlMjAlMjAlMjBjb250ZXh0cyUzRCU1QiUwQSUwQSUyMCUyMCUyMCUyMCU1RCUyQyUwQSUyOSUyOSUwQSUwQSUyNyUyNyUyNyUyQyUyMGNpdGF0aW9ucyUzRCUyN3dhYXJkZW5idXJnMjAxM2ElMjclMjklM0I=\")));\n",
       "    "
      ],
      "text/plain": [
       "<IPython.core.display.Javascript object>"
      ]
     },
     "metadata": {},
     "output_type": "display_data"
    },
    {
     "data": {
      "application/javascript": [
       "$('span:contains(\"# Temp\")').closest('.cell').remove();"
      ],
      "text/plain": [
       "<IPython.core.display.Javascript object>"
      ]
     },
     "metadata": {},
     "output_type": "display_data"
    },
    {
     "data": {
      "application/javascript": [
       "\n",
       "        $('span:contains(\"# Temp\")').closest('.cell').remove();\n",
       "        var code = IPython.notebook.insert_cell_below('code');\n",
       "        code.set_text(decodeURIComponent(window.atob(\"JTIzJTIwVGVtcCUwQWluc2VydCUyOCUyNyUyNyUyNyUwQWJhc3MwYSUyMCUzRCUyMERCJTI4V29ya1VucmVsYXRlZCUyOCUwQSUyMCUyMCUyMCUyMDAlMkMlMjAlMjJBY3Rpdml0aWVzJTIwaW4lMjBTY3J1bSUyME1hc3RlciUyMFRlYW1zJTNBJTIwUHJvY2VzcyUyMFRhaWxvcmluZyUyMGluJTIwTGFyZ2UlMjBFbnRlcnByaXNlJTIwUHJvamVjdHMlMjIlMkMlMEElMjAlMjAlMjAlMjBkaXNwbGF5JTNEJTIyYmFzcyUyMiUyQyUwQSUyMCUyMCUyMCUyMGF1dGhvcnMlM0QlMjJCYXNzJTJDJTIwSnVsaWFuJTIwTSUyMiUyQyUwQSUyMCUyMCUyMCUyMHBsYWNlJTNERkFLRSUyQyUwQSUyMCUyMCUyMCUyMGVudHJ5dHlwZSUzRCUyMmFydGljbGUlMjIlMkMlMEElMjAlMjAlMjAlMjBJRCUzRCUyMmJhc3NhY3Rpdml0aWVzJTIyJTJDJTBBJTIwJTIwJTIwJTIwcGxhY2V4JTNEJTIyJTIyJTJDJTBBJTI5JTI5JTBBJTBBREIlMjhDaXRhdGlvbiUyOCUwQSUyMCUyMCUyMCUyMGJhc3MwYSUyQyUyMHdhYXJkZW5idXJnMjAxM2ElMkMlMjByZWYlM0QlMjIlMjIlMkMlMEElMjAlMjAlMjAlMjBjb250ZXh0cyUzRCU1QiUwQSUwQSUyMCUyMCUyMCUyMCU1RCUyQyUwQSUyOSUyOSUwQSUwQSUyNyUyNyUyNyUyQyUyMGNpdGF0aW9ucyUzRCUyN3dhYXJkZW5idXJnMjAxM2ElMjclMjklM0I=\")));\n",
       "    "
      ],
      "text/plain": [
       "<IPython.core.display.Javascript object>"
      ]
     },
     "metadata": {},
     "output_type": "display_data"
    },
    {
     "ename": "NameError",
     "evalue": "name 'bass2014ab' is not defined",
     "output_type": "error",
     "traceback": [
      "\u001b[1;31m---------------------------------------------------------------------------\u001b[0m",
      "\u001b[1;31mNameError\u001b[0m                                 Traceback (most recent call last)",
      "\u001b[1;32mc:\\erica\\snowballing\\snowballing\\snowballing.py\u001b[0m in \u001b[0;36mnext_page\u001b[1;34m(self, b)\u001b[0m\n\u001b[0;32m    618\u001b[0m         \u001b[1;34m\"\"\" Gets next page from scholar \"\"\"\u001b[0m\u001b[1;33m\u001b[0m\u001b[0m\n\u001b[0;32m    619\u001b[0m         \u001b[0mself\u001b[0m\u001b[1;33m.\u001b[0m\u001b[0mquery\u001b[0m \u001b[1;33m=\u001b[0m \u001b[0mself\u001b[0m\u001b[1;33m.\u001b[0m\u001b[0mquerier\u001b[0m\u001b[1;33m.\u001b[0m\u001b[0mresult\u001b[0m\u001b[1;33m.\u001b[0m\u001b[0mnext_page\u001b[0m\u001b[1;33m\u001b[0m\u001b[0m\n\u001b[1;32m--> 620\u001b[1;33m         \u001b[0mself\u001b[0m\u001b[1;33m.\u001b[0m\u001b[0mreload\u001b[0m\u001b[1;33m(\u001b[0m\u001b[0mb\u001b[0m\u001b[1;33m)\u001b[0m\u001b[1;33m\u001b[0m\u001b[0m\n\u001b[0m\u001b[0;32m    621\u001b[0m \u001b[1;33m\u001b[0m\u001b[0m\n\u001b[0;32m    622\u001b[0m     \u001b[1;32mdef\u001b[0m \u001b[0mprevious_page\u001b[0m\u001b[1;33m(\u001b[0m\u001b[0mself\u001b[0m\u001b[1;33m,\u001b[0m \u001b[0mb\u001b[0m\u001b[1;33m)\u001b[0m\u001b[1;33m:\u001b[0m\u001b[1;33m\u001b[0m\u001b[0m\n",
      "\u001b[1;32mc:\\erica\\snowballing\\snowballing\\snowballing.py\u001b[0m in \u001b[0;36mreload\u001b[1;34m(self, b, show)\u001b[0m\n\u001b[0;32m    632\u001b[0m         \u001b[1;32melse\u001b[0m\u001b[1;33m:\u001b[0m\u001b[1;33m\u001b[0m\u001b[0m\n\u001b[0;32m    633\u001b[0m             \u001b[0mScholarConf\u001b[0m\u001b[1;33m.\u001b[0m\u001b[0mLOG_LEVEL\u001b[0m \u001b[1;33m=\u001b[0m \u001b[1;36m2\u001b[0m\u001b[1;33m\u001b[0m\u001b[0m\n\u001b[1;32m--> 634\u001b[1;33m         \u001b[0mreload\u001b[0m\u001b[1;33m(\u001b[0m\u001b[1;33m)\u001b[0m\u001b[1;33m\u001b[0m\u001b[0m\n\u001b[0m\u001b[0;32m    635\u001b[0m         \u001b[1;32mwith\u001b[0m \u001b[0mself\u001b[0m\u001b[1;33m.\u001b[0m\u001b[0mnavigator\u001b[0m\u001b[1;33m.\u001b[0m\u001b[0moutput_widget\u001b[0m\u001b[1;33m:\u001b[0m\u001b[1;33m\u001b[0m\u001b[0m\n\u001b[0;32m    636\u001b[0m             \u001b[0mself\u001b[0m\u001b[1;33m.\u001b[0m\u001b[0mquerier\u001b[0m\u001b[1;33m.\u001b[0m\u001b[0mtasks\u001b[0m\u001b[1;33m.\u001b[0m\u001b[0mclear\u001b[0m\u001b[1;33m(\u001b[0m\u001b[1;33m)\u001b[0m\u001b[1;33m\u001b[0m\u001b[0m\n",
      "\u001b[1;32mc:\\erica\\snowballing\\snowballing\\operations.py\u001b[0m in \u001b[0;36mreload\u001b[1;34m()\u001b[0m\n\u001b[0;32m    158\u001b[0m     \u001b[0mimportlib\u001b[0m\u001b[1;33m.\u001b[0m\u001b[0mreload\u001b[0m\u001b[1;33m(\u001b[0m\u001b[0mconfig\u001b[0m\u001b[1;33m.\u001b[0m\u001b[0mMODULES\u001b[0m\u001b[1;33m[\u001b[0m\u001b[1;34m'places'\u001b[0m\u001b[1;33m]\u001b[0m\u001b[1;33m)\u001b[0m\u001b[1;33m\u001b[0m\u001b[0m\n\u001b[0;32m    159\u001b[0m     \u001b[0m_reload_work\u001b[0m\u001b[1;33m(\u001b[0m\u001b[1;33m)\u001b[0m\u001b[1;33m\u001b[0m\u001b[0m\n\u001b[1;32m--> 160\u001b[1;33m     \u001b[0mimport_submodules\u001b[0m\u001b[1;33m(\u001b[0m\u001b[0mconfig\u001b[0m\u001b[1;33m.\u001b[0m\u001b[0mMODULES\u001b[0m\u001b[1;33m[\u001b[0m\u001b[1;34m'citations'\u001b[0m\u001b[1;33m]\u001b[0m\u001b[1;33m)\u001b[0m\u001b[1;33m\u001b[0m\u001b[0m\n\u001b[0m\u001b[0;32m    161\u001b[0m     \u001b[0mimport_submodules\u001b[0m\u001b[1;33m(\u001b[0m\u001b[0mconfig\u001b[0m\u001b[1;33m.\u001b[0m\u001b[0mMODULES\u001b[0m\u001b[1;33m[\u001b[0m\u001b[1;34m'groups'\u001b[0m\u001b[1;33m]\u001b[0m\u001b[1;33m)\u001b[0m\u001b[1;33m\u001b[0m\u001b[0m\n\u001b[0;32m    162\u001b[0m \u001b[1;33m\u001b[0m\u001b[0m\n",
      "\u001b[1;32mc:\\erica\\snowballing\\snowballing\\utils.py\u001b[0m in \u001b[0;36mimport_submodules\u001b[1;34m(package, recursive)\u001b[0m\n\u001b[0;32m    334\u001b[0m \u001b[1;33m\u001b[0m\u001b[0m\n\u001b[0;32m    335\u001b[0m         \u001b[0mresults\u001b[0m\u001b[1;33m[\u001b[0m\u001b[0mfull_name\u001b[0m\u001b[1;33m]\u001b[0m \u001b[1;33m=\u001b[0m \u001b[0mimportlib\u001b[0m\u001b[1;33m.\u001b[0m\u001b[0mimport_module\u001b[0m\u001b[1;33m(\u001b[0m\u001b[0mfull_name\u001b[0m\u001b[1;33m)\u001b[0m\u001b[1;33m\u001b[0m\u001b[0m\n\u001b[1;32m--> 336\u001b[1;33m         \u001b[0mimportlib\u001b[0m\u001b[1;33m.\u001b[0m\u001b[0mreload\u001b[0m\u001b[1;33m(\u001b[0m\u001b[0mresults\u001b[0m\u001b[1;33m[\u001b[0m\u001b[0mfull_name\u001b[0m\u001b[1;33m]\u001b[0m\u001b[1;33m)\u001b[0m\u001b[1;33m\u001b[0m\u001b[0m\n\u001b[0m\u001b[0;32m    337\u001b[0m         \u001b[1;32mif\u001b[0m \u001b[0mrecursive\u001b[0m \u001b[1;32mand\u001b[0m \u001b[0mis_pkg\u001b[0m\u001b[1;33m:\u001b[0m\u001b[1;33m\u001b[0m\u001b[0m\n\u001b[0;32m    338\u001b[0m             \u001b[0mresults\u001b[0m\u001b[1;33m.\u001b[0m\u001b[0mupdate\u001b[0m\u001b[1;33m(\u001b[0m\u001b[0mimport_submodules\u001b[0m\u001b[1;33m(\u001b[0m\u001b[0mfull_name\u001b[0m\u001b[1;33m)\u001b[0m\u001b[1;33m)\u001b[0m\u001b[1;33m\u001b[0m\u001b[0m\n",
      "\u001b[1;32mC:\\ProgramData\\Anaconda3\\lib\\importlib\\__init__.py\u001b[0m in \u001b[0;36mreload\u001b[1;34m(module)\u001b[0m\n\u001b[0;32m    164\u001b[0m         \u001b[0mtarget\u001b[0m \u001b[1;33m=\u001b[0m \u001b[0mmodule\u001b[0m\u001b[1;33m\u001b[0m\u001b[0m\n\u001b[0;32m    165\u001b[0m         \u001b[0mspec\u001b[0m \u001b[1;33m=\u001b[0m \u001b[0mmodule\u001b[0m\u001b[1;33m.\u001b[0m\u001b[0m__spec__\u001b[0m \u001b[1;33m=\u001b[0m \u001b[0m_bootstrap\u001b[0m\u001b[1;33m.\u001b[0m\u001b[0m_find_spec\u001b[0m\u001b[1;33m(\u001b[0m\u001b[0mname\u001b[0m\u001b[1;33m,\u001b[0m \u001b[0mpkgpath\u001b[0m\u001b[1;33m,\u001b[0m \u001b[0mtarget\u001b[0m\u001b[1;33m)\u001b[0m\u001b[1;33m\u001b[0m\u001b[0m\n\u001b[1;32m--> 166\u001b[1;33m         \u001b[0m_bootstrap\u001b[0m\u001b[1;33m.\u001b[0m\u001b[0m_exec\u001b[0m\u001b[1;33m(\u001b[0m\u001b[0mspec\u001b[0m\u001b[1;33m,\u001b[0m \u001b[0mmodule\u001b[0m\u001b[1;33m)\u001b[0m\u001b[1;33m\u001b[0m\u001b[0m\n\u001b[0m\u001b[0;32m    167\u001b[0m         \u001b[1;31m# The module may have replaced itself in sys.modules!\u001b[0m\u001b[1;33m\u001b[0m\u001b[1;33m\u001b[0m\u001b[0m\n\u001b[0;32m    168\u001b[0m         \u001b[1;32mreturn\u001b[0m \u001b[0msys\u001b[0m\u001b[1;33m.\u001b[0m\u001b[0mmodules\u001b[0m\u001b[1;33m[\u001b[0m\u001b[0mname\u001b[0m\u001b[1;33m]\u001b[0m\u001b[1;33m\u001b[0m\u001b[0m\n",
      "\u001b[1;32mC:\\ProgramData\\Anaconda3\\lib\\importlib\\_bootstrap.py\u001b[0m in \u001b[0;36m_exec\u001b[1;34m(spec, module)\u001b[0m\n",
      "\u001b[1;32mC:\\ProgramData\\Anaconda3\\lib\\importlib\\_bootstrap_external.py\u001b[0m in \u001b[0;36mexec_module\u001b[1;34m(self, module)\u001b[0m\n",
      "\u001b[1;32mC:\\ProgramData\\Anaconda3\\lib\\importlib\\_bootstrap.py\u001b[0m in \u001b[0;36m_call_with_frames_removed\u001b[1;34m(f, *args, **kwds)\u001b[0m\n",
      "\u001b[1;32mC:\\Erica\\hybrid_strategy\\experiments\\experiment_2\\database\\citations\\waardenburg2013a.py\u001b[0m in \u001b[0;36m<module>\u001b[1;34m()\u001b[0m\n\u001b[0;32m    968\u001b[0m \u001b[1;33m\u001b[0m\u001b[0m\n\u001b[0;32m    969\u001b[0m DB(Citation(\n\u001b[1;32m--> 970\u001b[1;33m     \u001b[0mbass2014ab\u001b[0m\u001b[1;33m,\u001b[0m \u001b[0mwaardenburg2013a\u001b[0m\u001b[1;33m,\u001b[0m \u001b[0mref\u001b[0m\u001b[1;33m=\u001b[0m\u001b[1;34m\"\"\u001b[0m\u001b[1;33m,\u001b[0m\u001b[1;33m\u001b[0m\u001b[0m\n\u001b[0m\u001b[0;32m    971\u001b[0m     contexts=[\n\u001b[0;32m    972\u001b[0m \u001b[1;33m\u001b[0m\u001b[0m\n",
      "\u001b[1;31mNameError\u001b[0m: name 'bass2014ab' is not defined"
     ]
    },
    {
     "data": {
      "application/javascript": [
       "$('span:contains(\"# Temp\")').closest('.cell').remove();"
      ],
      "text/plain": [
       "<IPython.core.display.Javascript object>"
      ]
     },
     "metadata": {},
     "output_type": "display_data"
    },
    {
     "data": {
      "application/javascript": [
       "\n",
       "        $('span:contains(\"# Temp\")').closest('.cell').remove();\n",
       "        var code = IPython.notebook.insert_cell_below('code');\n",
       "        code.set_text(decodeURIComponent(window.atob(\"JTIzJTIwVGVtcCUwQWluc2VydCUyOCUyNyUyNyUyNyUwQURCJTI4Q2l0YXRpb24lMjglMEElMjAlMjAlMjAlMjBoYWFzdGVyMjAxNmElMkMlMjB3YWFyZGVuYnVyZzIwMTNhJTJDJTIwcmVmJTNEJTIyJTIyJTJDJTBBJTIwJTIwJTIwJTIwY29udGV4dHMlM0QlNUIlMEElMEElMjAlMjAlMjAlMjAlNUQlMkMlMEElMjklMjklMEElMEElMjclMjclMjclMkMlMjBjaXRhdGlvbnMlM0QlMjd3YWFyZGVuYnVyZzIwMTNhJTI3JTI5JTNC\")));\n",
       "    "
      ],
      "text/plain": [
       "<IPython.core.display.Javascript object>"
      ]
     },
     "metadata": {},
     "output_type": "display_data"
    },
    {
     "data": {
      "application/javascript": [
       "$('span:contains(\"# Temp\")').closest('.cell').remove();"
      ],
      "text/plain": [
       "<IPython.core.display.Javascript object>"
      ]
     },
     "metadata": {},
     "output_type": "display_data"
    },
    {
     "data": {
      "application/javascript": [
       "\n",
       "        $('span:contains(\"# Temp\")').closest('.cell').remove();\n",
       "        var code = IPython.notebook.insert_cell_below('code');\n",
       "        code.set_text(decodeURIComponent(window.atob(\"JTIzJTIwVGVtcCUwQWluc2VydCUyOCUyNyUyNyUyNyUwQURCJTI4Q2l0YXRpb24lMjglMEElMjAlMjAlMjAlMjBoYWFzdGVyMjAxNmElMkMlMjB3YWFyZGVuYnVyZzIwMTNhJTJDJTIwcmVmJTNEJTIyJTIyJTJDJTBBJTIwJTIwJTIwJTIwY29udGV4dHMlM0QlNUIlMEElMEElMjAlMjAlMjAlMjAlNUQlMkMlMEElMjklMjklMEElMEElMjclMjclMjclMkMlMjBjaXRhdGlvbnMlM0QlMjd3YWFyZGVuYnVyZzIwMTNhJTI3JTI5JTNC\")));\n",
       "    "
      ],
      "text/plain": [
       "<IPython.core.display.Javascript object>"
      ]
     },
     "metadata": {},
     "output_type": "display_data"
    },
    {
     "data": {
      "application/javascript": [
       "$('span:contains(\"# Temp\")').closest('.cell').remove();"
      ],
      "text/plain": [
       "<IPython.core.display.Javascript object>"
      ]
     },
     "metadata": {},
     "output_type": "display_data"
    },
    {
     "data": {
      "application/javascript": [
       "\n",
       "        $('span:contains(\"# Temp\")').closest('.cell').remove();\n",
       "        var code = IPython.notebook.insert_cell_below('code');\n",
       "        code.set_text(decodeURIComponent(window.atob(\"JTIzJTIwVGVtcCUwQWluc2VydCUyOCUyNyUyNyUyNyUwQURCJTI4Q2l0YXRpb24lMjglMEElMjAlMjAlMjAlMjBoYWFzdGVyMjAxNmElMkMlMjB3YWFyZGVuYnVyZzIwMTNhJTJDJTIwcmVmJTNEJTIyJTIyJTJDJTBBJTIwJTIwJTIwJTIwY29udGV4dHMlM0QlNUIlMEElMEElMjAlMjAlMjAlMjAlNUQlMkMlMEElMjklMjklMEElMEElMjclMjclMjclMkMlMjBjaXRhdGlvbnMlM0QlMjd3YWFyZGVuYnVyZzIwMTNhJTI3JTI5JTNC\")));\n",
       "    "
      ],
      "text/plain": [
       "<IPython.core.display.Javascript object>"
      ]
     },
     "metadata": {},
     "output_type": "display_data"
    },
    {
     "data": {
      "application/javascript": [
       "$('span:contains(\"# Temp\")').closest('.cell').remove();"
      ],
      "text/plain": [
       "<IPython.core.display.Javascript object>"
      ]
     },
     "metadata": {},
     "output_type": "display_data"
    },
    {
     "data": {
      "application/javascript": [
       "\n",
       "        $('span:contains(\"# Temp\")').closest('.cell').remove();\n",
       "        var code = IPython.notebook.insert_cell_below('code');\n",
       "        code.set_text(decodeURIComponent(window.atob(\"JTIzJTIwVGVtcCUwQWluc2VydCUyOCUyNyUyNyUyNyUwQWhvbXJpY2gwYSUyMCUzRCUyMERCJTI4V29ya1VucmVsYXRlZCUyOCUwQSUyMCUyMCUyMCUyMDAlMkMlMjAlMjJEaWZmaWN1bHRpZXMlMjBhbmQlMjBwb3NzaWJpbGl0aWVzJTIwb2YlMjB0cmFkaXRpb25hbCUyMGFuZCUyMGFnaWxlJTIwYXBwcm9hY2hlcyUyMGluJTIwRVBDJTIwcHJvamVjdCUyMG1hbmFnZW1lbnQlM0ElMjBDYXNlJTIwc3R1ZHklMjBpbiUyMGElMjBCcmF6aWxpYW4lMjBoeWRyb3Bvd2VyJTIwcGxhbnRzJTIwSW1wbGFudGF0aW9uJTIwQ29tcGFueSUyMiUyQyUwQSUyMCUyMCUyMCUyMGRpc3BsYXklM0QlMjJob21yaWNoJTIyJTJDJTBBJTIwJTIwJTIwJTIwYXV0aG9ycyUzRCUyMkhvbXJpY2glMkMlMjBBbGluZSUyMFNhY2NoaSUyMGFuZCUyMGRlJTIwQ2FydmFsaG8lMkMlMjBNYXJseSUyME1vbnRlaXJvJTIwYW5kJTIwZGUlMjBRdWVpcm96JTJDJTIwQWJlbGFyZG8lMjBBbHZlcyUyMiUyQyUwQSUyMCUyMCUyMCUyMHBsYWNlJTNERkFLRSUyQyUwQSUyMCUyMCUyMCUyMGVudHJ5dHlwZSUzRCUyMmFydGljbGUlMjIlMkMlMEElMjAlMjAlMjAlMjBJRCUzRCUyMmhvbXJpY2hkaWZmaWN1bHRpZXMlMjIlMkMlMEElMjAlMjAlMjAlMjBwbGFjZXglM0QlMjIlMjIlMkMlMEElMjklMjklMEElMEFEQiUyOENpdGF0aW9uJTI4JTBBJTIwJTIwJTIwJTIwaG9tcmljaDBhJTJDJTIwd2FhcmRlbmJ1cmcyMDEzYSUyQyUyMHJlZiUzRCUyMiUyMiUyQyUwQSUyMCUyMCUyMCUyMGNvbnRleHRzJTNEJTVCJTBBJTBBJTIwJTIwJTIwJTIwJTVEJTJDJTBBJTI5JTI5JTBBJTBBJTI3JTI3JTI3JTJDJTIwY2l0YXRpb25zJTNEJTI3d2FhcmRlbmJ1cmcyMDEzYSUyNyUyOSUzQg==\")));\n",
       "    "
      ],
      "text/plain": [
       "<IPython.core.display.Javascript object>"
      ]
     },
     "metadata": {},
     "output_type": "display_data"
    },
    {
     "data": {
      "application/javascript": [
       "$('span:contains(\"# Temp\")').closest('.cell').remove();"
      ],
      "text/plain": [
       "<IPython.core.display.Javascript object>"
      ]
     },
     "metadata": {},
     "output_type": "display_data"
    },
    {
     "data": {
      "application/javascript": [
       "\n",
       "        $('span:contains(\"# Temp\")').closest('.cell').remove();\n",
       "        var code = IPython.notebook.insert_cell_below('code');\n",
       "        code.set_text(decodeURIComponent(window.atob(\"JTIzJTIwVGVtcCUwQWluc2VydCUyOCUyNyUyNyUyNyUwQWhvbXJpY2gwYSUyMCUzRCUyMERCJTI4V29ya1VucmVsYXRlZCUyOCUwQSUyMCUyMCUyMCUyMDAlMkMlMjAlMjJEaWZmaWN1bHRpZXMlMjBhbmQlMjBwb3NzaWJpbGl0aWVzJTIwb2YlMjB0cmFkaXRpb25hbCUyMGFuZCUyMGFnaWxlJTIwYXBwcm9hY2hlcyUyMGluJTIwRVBDJTIwcHJvamVjdCUyMG1hbmFnZW1lbnQlM0ElMjBDYXNlJTIwc3R1ZHklMjBpbiUyMGElMjBCcmF6aWxpYW4lMjBoeWRyb3Bvd2VyJTIwcGxhbnRzJTIwSW1wbGFudGF0aW9uJTIwQ29tcGFueSUyMiUyQyUwQSUyMCUyMCUyMCUyMGRpc3BsYXklM0QlMjJob21yaWNoJTIyJTJDJTBBJTIwJTIwJTIwJTIwYXV0aG9ycyUzRCUyMkhvbXJpY2glMkMlMjBBbGluZSUyMFNhY2NoaSUyMGFuZCUyMGRlJTIwQ2FydmFsaG8lMkMlMjBNYXJseSUyME1vbnRlaXJvJTIwYW5kJTIwZGUlMjBRdWVpcm96JTJDJTIwQWJlbGFyZG8lMjBBbHZlcyUyMiUyQyUwQSUyMCUyMCUyMCUyMHBsYWNlJTNERkFLRSUyQyUwQSUyMCUyMCUyMCUyMGVudHJ5dHlwZSUzRCUyMmFydGljbGUlMjIlMkMlMEElMjAlMjAlMjAlMjBJRCUzRCUyMmhvbXJpY2hkaWZmaWN1bHRpZXMlMjIlMkMlMEElMjAlMjAlMjAlMjBwbGFjZXglM0QlMjIlMjIlMkMlMEElMjklMjklMEElMEFEQiUyOENpdGF0aW9uJTI4JTBBJTIwJTIwJTIwJTIwaG9tcmljaDBhJTJDJTIwd2FhcmRlbmJ1cmcyMDEzYSUyQyUyMHJlZiUzRCUyMiUyMiUyQyUwQSUyMCUyMCUyMCUyMGNvbnRleHRzJTNEJTVCJTBBJTBBJTIwJTIwJTIwJTIwJTVEJTJDJTBBJTI5JTI5JTBBJTBBJTI3JTI3JTI3JTJDJTIwY2l0YXRpb25zJTNEJTI3d2FhcmRlbmJ1cmcyMDEzYSUyNyUyOSUzQg==\")));\n",
       "    "
      ],
      "text/plain": [
       "<IPython.core.display.Javascript object>"
      ]
     },
     "metadata": {},
     "output_type": "display_data"
    },
    {
     "data": {
      "application/javascript": [
       "$('span:contains(\"# Temp\")').closest('.cell').remove();"
      ],
      "text/plain": [
       "<IPython.core.display.Javascript object>"
      ]
     },
     "metadata": {},
     "output_type": "display_data"
    },
    {
     "data": {
      "application/javascript": [
       "\n",
       "        $('span:contains(\"# Temp\")').closest('.cell').remove();\n",
       "        var code = IPython.notebook.insert_cell_below('code');\n",
       "        code.set_text(decodeURIComponent(window.atob(\"JTIzJTIwVGVtcCUwQWluc2VydCUyOCUyNyUyNyUyNyUwQWFsem91YmkyMDE2YiUyMCUzRCUyMERCJTI4V29ya1VucmVsYXRlZCUyOCUwQSUyMCUyMCUyMCUyMDIwMTYlMkMlMjAlMjJBbiUyMGFnaWxlJTIwZW50ZXJwcmlzZSUyMGFyY2hpdGVjdHVyZSUyMGRyaXZlbiUyMGFwcHJvYWNoJTIwdG8lMjBlbmhhbmNlJTIwY29tbXVuaWNhdGlvbiUyMGluJTIwZ2VvZ3JhcGhpY2FsbHklMjBkaXN0cmlidXRlZCUyMGFnaWxlJTIwZGV2ZWxvcG1lbnQlMjIlMkMlMEElMjAlMjAlMjAlMjBkaXNwbGF5JTNEJTIyYWx6b3ViaSUyMGIlMjIlMkMlMEElMjAlMjAlMjAlMjBhdXRob3JzJTNEJTIyQWx6b3ViaSUyQyUyMFllaGlhJTIwSWJyYWhpbSUyMEFsaSUyMiUyQyUwQSUyMCUyMCUyMCUyMHBsYWNlJTNEVGhlc2lzJTJDJTBBJTIwJTIwJTIwJTIwZW50cnl0eXBlJTNEJTIycGhkdGhlc2lzJTIyJTJDJTBBJTIwJTIwJTIwJTIwSUQlM0QlMjJhbHpvdWJpMjAxNmFnaWxlJTIyJTJDJTBBJTIwJTIwJTIwJTIwcGxhY2V4JTNEJTIyJTIyJTJDJTBBJTI5JTI5JTBBJTBBREIlMjhDaXRhdGlvbiUyOCUwQSUyMCUyMCUyMCUyMGFsem91YmkyMDE2YiUyQyUyMHdhYXJkZW5idXJnMjAxM2ElMkMlMjByZWYlM0QlMjIlMjIlMkMlMEElMjAlMjAlMjAlMjBjb250ZXh0cyUzRCU1QiUwQSUwQSUyMCUyMCUyMCUyMCU1RCUyQyUwQSUyOSUyOSUwQSUwQSUyNyUyNyUyNyUyQyUyMGNpdGF0aW9ucyUzRCUyN3dhYXJkZW5idXJnMjAxM2ElMjclMjklM0I=\")));\n",
       "    "
      ],
      "text/plain": [
       "<IPython.core.display.Javascript object>"
      ]
     },
     "metadata": {},
     "output_type": "display_data"
    },
    {
     "data": {
      "application/javascript": [
       "$('span:contains(\"# Temp\")').closest('.cell').remove();"
      ],
      "text/plain": [
       "<IPython.core.display.Javascript object>"
      ]
     },
     "metadata": {},
     "output_type": "display_data"
    },
    {
     "data": {
      "application/javascript": [
       "\n",
       "        $('span:contains(\"# Temp\")').closest('.cell').remove();\n",
       "        var code = IPython.notebook.insert_cell_below('code');\n",
       "        code.set_text(decodeURIComponent(window.atob(\"JTIzJTIwVGVtcCUwQWluc2VydCUyOCUyNyUyNyUyNyUwQWFsem91YmkyMDE2YiUyMCUzRCUyMERCJTI4V29ya1VucmVsYXRlZCUyOCUwQSUyMCUyMCUyMCUyMDIwMTYlMkMlMjAlMjJBbiUyMGFnaWxlJTIwZW50ZXJwcmlzZSUyMGFyY2hpdGVjdHVyZSUyMGRyaXZlbiUyMGFwcHJvYWNoJTIwdG8lMjBlbmhhbmNlJTIwY29tbXVuaWNhdGlvbiUyMGluJTIwZ2VvZ3JhcGhpY2FsbHklMjBkaXN0cmlidXRlZCUyMGFnaWxlJTIwZGV2ZWxvcG1lbnQlMjIlMkMlMEElMjAlMjAlMjAlMjBkaXNwbGF5JTNEJTIyYWx6b3ViaSUyMGIlMjIlMkMlMEElMjAlMjAlMjAlMjBhdXRob3JzJTNEJTIyQWx6b3ViaSUyQyUyMFllaGlhJTIwSWJyYWhpbSUyMEFsaSUyMiUyQyUwQSUyMCUyMCUyMCUyMHBsYWNlJTNEVGhlc2lzJTJDJTBBJTIwJTIwJTIwJTIwZW50cnl0eXBlJTNEJTIycGhkdGhlc2lzJTIyJTJDJTBBJTIwJTIwJTIwJTIwSUQlM0QlMjJhbHpvdWJpMjAxNmFnaWxlJTIyJTJDJTBBJTIwJTIwJTIwJTIwcGxhY2V4JTNEJTIyJTIyJTJDJTBBJTI5JTI5JTBBJTBBREIlMjhDaXRhdGlvbiUyOCUwQSUyMCUyMCUyMCUyMGFsem91YmkyMDE2YiUyQyUyMHdhYXJkZW5idXJnMjAxM2ElMkMlMjByZWYlM0QlMjIlMjIlMkMlMEElMjAlMjAlMjAlMjBjb250ZXh0cyUzRCU1QiUwQSUwQSUyMCUyMCUyMCUyMCU1RCUyQyUwQSUyOSUyOSUwQSUwQSUyNyUyNyUyNyUyQyUyMGNpdGF0aW9ucyUzRCUyN3dhYXJkZW5idXJnMjAxM2ElMjclMjklM0I=\")));\n",
       "    "
      ],
      "text/plain": [
       "<IPython.core.display.Javascript object>"
      ]
     },
     "metadata": {},
     "output_type": "display_data"
    },
    {
     "data": {
      "application/javascript": [
       "$('span:contains(\"# Temp\")').closest('.cell').remove();"
      ],
      "text/plain": [
       "<IPython.core.display.Javascript object>"
      ]
     },
     "metadata": {},
     "output_type": "display_data"
    },
    {
     "data": {
      "application/javascript": [
       "\n",
       "        $('span:contains(\"# Temp\")').closest('.cell').remove();\n",
       "        var code = IPython.notebook.insert_cell_below('code');\n",
       "        code.set_text(decodeURIComponent(window.atob(\"JTIzJTIwVGVtcCUwQWluc2VydCUyOCUyNyUyNyUyNyUwQWhhaW5lczIwMTdhJTIwJTNEJTIwREIlMjhXb3JrVW5yZWxhdGVkJTI4JTBBJTIwJTIwJTIwJTIwMjAxNyUyQyUyMCUyMlRoZSUyMENvbmNlcHR1YWwlMjBNb2RlbCUyMGZvciUyMEFnaWxlJTIwVG9vbHMlMjBhbmQlMjBUZWNobmlxdWVzJTIyJTJDJTBBJTIwJTIwJTIwJTIwZGlzcGxheSUzRCUyMmhhaW5lcyUyMiUyQyUwQSUyMCUyMCUyMCUyMGF1dGhvcnMlM0QlMjJIYWluZXMlMkMlMjBUb2RkJTIwYW5kJTIwSWRlbXVkaWElMkMlMjBFZm9zYSUyMEMlMjBhbmQlMjBSYWlzaW5naGFuaSUyQyUyME1haGVzaCUyMFMlMjIlMkMlMEElMjAlMjAlMjAlMjBwbGFjZSUzREZBS0UlMkMlMEElMjAlMjAlMjAlMjBwcCUzRCUyMjc3LS04OCUyMiUyQyUwQSUyMCUyMCUyMCUyMGVudHJ5dHlwZSUzRCUyMmFydGljbGUlMjIlMkMlMEElMjAlMjAlMjAlMjB2b2x1bWUlM0QlMjIxNyUyMiUyQyUwQSUyMCUyMCUyMCUyMG51bWJlciUzRCUyMjMlMjIlMkMlMEElMjAlMjAlMjAlMjBwdWJsaXNoZXIlM0QlMjJOb3J0aCUyMEFtZXJpY2FuJTIwQnVzaW5lc3MlMjBQcmVzcyUyMiUyQyUwQSUyMCUyMCUyMCUyMElEJTNEJTIyaGFpbmVzMjAxN2NvbmNlcHR1YWwlMjIlMkMlMEElMjAlMjAlMjAlMjBwbGFjZXglM0QlMjJBbWVyaWNhbiUyMEpvdXJuYWwlMjBvZiUyME1hbmFnZW1lbnQlMjIlMkMlMEElMjklMjklMEElMEFEQiUyOENpdGF0aW9uJTI4JTBBJTIwJTIwJTIwJTIwaGFpbmVzMjAxN2ElMkMlMjB3YWFyZGVuYnVyZzIwMTNhJTJDJTIwcmVmJTNEJTIyJTIyJTJDJTBBJTIwJTIwJTIwJTIwY29udGV4dHMlM0QlNUIlMEElMEElMjAlMjAlMjAlMjAlNUQlMkMlMEElMjklMjklMEElMEElMjclMjclMjclMkMlMjBjaXRhdGlvbnMlM0QlMjd3YWFyZGVuYnVyZzIwMTNhJTI3JTI5JTNC\")));\n",
       "    "
      ],
      "text/plain": [
       "<IPython.core.display.Javascript object>"
      ]
     },
     "metadata": {},
     "output_type": "display_data"
    },
    {
     "data": {
      "application/javascript": [
       "$('span:contains(\"# Temp\")').closest('.cell').remove();"
      ],
      "text/plain": [
       "<IPython.core.display.Javascript object>"
      ]
     },
     "metadata": {},
     "output_type": "display_data"
    },
    {
     "data": {
      "application/javascript": [
       "\n",
       "        $('span:contains(\"# Temp\")').closest('.cell').remove();\n",
       "        var code = IPython.notebook.insert_cell_below('code');\n",
       "        code.set_text(decodeURIComponent(window.atob(\"JTIzJTIwVGVtcCUwQWluc2VydCUyOCUyNyUyNyUyNyUwQWhhaW5lczIwMTdhJTIwJTNEJTIwREIlMjhXb3JrVW5yZWxhdGVkJTI4JTBBJTIwJTIwJTIwJTIwMjAxNyUyQyUyMCUyMlRoZSUyMENvbmNlcHR1YWwlMjBNb2RlbCUyMGZvciUyMEFnaWxlJTIwVG9vbHMlMjBhbmQlMjBUZWNobmlxdWVzJTIyJTJDJTBBJTIwJTIwJTIwJTIwZGlzcGxheSUzRCUyMmhhaW5lcyUyMiUyQyUwQSUyMCUyMCUyMCUyMGF1dGhvcnMlM0QlMjJIYWluZXMlMkMlMjBUb2RkJTIwYW5kJTIwSWRlbXVkaWElMkMlMjBFZm9zYSUyMEMlMjBhbmQlMjBSYWlzaW5naGFuaSUyQyUyME1haGVzaCUyMFMlMjIlMkMlMEElMjAlMjAlMjAlMjBwbGFjZSUzREZBS0UlMkMlMEElMjAlMjAlMjAlMjBwcCUzRCUyMjc3LS04OCUyMiUyQyUwQSUyMCUyMCUyMCUyMGVudHJ5dHlwZSUzRCUyMmFydGljbGUlMjIlMkMlMEElMjAlMjAlMjAlMjB2b2x1bWUlM0QlMjIxNyUyMiUyQyUwQSUyMCUyMCUyMCUyMG51bWJlciUzRCUyMjMlMjIlMkMlMEElMjAlMjAlMjAlMjBwdWJsaXNoZXIlM0QlMjJOb3J0aCUyMEFtZXJpY2FuJTIwQnVzaW5lc3MlMjBQcmVzcyUyMiUyQyUwQSUyMCUyMCUyMCUyMElEJTNEJTIyaGFpbmVzMjAxN2NvbmNlcHR1YWwlMjIlMkMlMEElMjAlMjAlMjAlMjBwbGFjZXglM0QlMjJBbWVyaWNhbiUyMEpvdXJuYWwlMjBvZiUyME1hbmFnZW1lbnQlMjIlMkMlMEElMjklMjklMEElMEFEQiUyOENpdGF0aW9uJTI4JTBBJTIwJTIwJTIwJTIwaGFpbmVzMjAxN2ElMkMlMjB3YWFyZGVuYnVyZzIwMTNhJTJDJTIwcmVmJTNEJTIyJTIyJTJDJTBBJTIwJTIwJTIwJTIwY29udGV4dHMlM0QlNUIlMEElMEElMjAlMjAlMjAlMjAlNUQlMkMlMEElMjklMjklMEElMEElMjclMjclMjclMkMlMjBjaXRhdGlvbnMlM0QlMjd3YWFyZGVuYnVyZzIwMTNhJTI3JTI5JTNC\")));\n",
       "    "
      ],
      "text/plain": [
       "<IPython.core.display.Javascript object>"
      ]
     },
     "metadata": {},
     "output_type": "display_data"
    },
    {
     "data": {
      "application/javascript": [
       "$('span:contains(\"# Temp\")').closest('.cell').remove();"
      ],
      "text/plain": [
       "<IPython.core.display.Javascript object>"
      ]
     },
     "metadata": {},
     "output_type": "display_data"
    },
    {
     "data": {
      "application/javascript": [
       "\n",
       "        $('span:contains(\"# Temp\")').closest('.cell').remove();\n",
       "        var code = IPython.notebook.insert_cell_below('code');\n",
       "        code.set_text(decodeURIComponent(window.atob(\"JTIzJTIwVGVtcCUwQWluc2VydCUyOCUyNyUyNyUyNyUwQWNvbmZpZGVudGlhbDBhJTIwJTNEJTIwREIlMjhXb3JrVW5yZWxhdGVkJTI4JTBBJTIwJTIwJTIwJTIwMCUyQyUyMCUyMlZpc3VhbCUyMFRoaW5raW5nJTIwaW4lMjBhbiUyMGFnaWxlJTIwZW52aXJvbm1lbnQlMjIlMkMlMEElMjAlMjAlMjAlMjBkaXNwbGF5JTNEJTIyY29uZmlkZW50aWFsJTIyJTJDJTBBJTIwJTIwJTIwJTIwYXV0aG9ycyUzRCUyMkNPTkZJREVOVElBTCUyQyUyME5PTiUyMiUyQyUwQSUyMCUyMCUyMCUyMHBsYWNlJTNERkFLRSUyQyUwQSUyMCUyMCUyMCUyMGVudHJ5dHlwZSUzRCUyMmFydGljbGUlMjIlMkMlMEElMjAlMjAlMjAlMjBJRCUzRCUyMmNvbmZpZGVudGlhbHZpc3VhbCUyMiUyQyUwQSUyMCUyMCUyMCUyMHBsYWNleCUzRCUyMiUyMiUyQyUwQSUyOSUyOSUwQSUwQURCJTI4Q2l0YXRpb24lMjglMEElMjAlMjAlMjAlMjBjb25maWRlbnRpYWwwYSUyQyUyMHdhYXJkZW5idXJnMjAxM2ElMkMlMjByZWYlM0QlMjIlMjIlMkMlMEElMjAlMjAlMjAlMjBjb250ZXh0cyUzRCU1QiUwQSUwQSUyMCUyMCUyMCUyMCU1RCUyQyUwQSUyOSUyOSUwQSUwQSUyNyUyNyUyNyUyQyUyMGNpdGF0aW9ucyUzRCUyN3dhYXJkZW5idXJnMjAxM2ElMjclMjklM0I=\")));\n",
       "    "
      ],
      "text/plain": [
       "<IPython.core.display.Javascript object>"
      ]
     },
     "metadata": {},
     "output_type": "display_data"
    },
    {
     "data": {
      "application/javascript": [
       "$('span:contains(\"# Temp\")').closest('.cell').remove();"
      ],
      "text/plain": [
       "<IPython.core.display.Javascript object>"
      ]
     },
     "metadata": {},
     "output_type": "display_data"
    },
    {
     "data": {
      "application/javascript": [
       "\n",
       "        $('span:contains(\"# Temp\")').closest('.cell').remove();\n",
       "        var code = IPython.notebook.insert_cell_below('code');\n",
       "        code.set_text(decodeURIComponent(window.atob(\"JTIzJTIwVGVtcCUwQWluc2VydCUyOCUyNyUyNyUyNyUwQWNvbmZpZGVudGlhbDBhJTIwJTNEJTIwREIlMjhXb3JrVW5yZWxhdGVkJTI4JTBBJTIwJTIwJTIwJTIwMCUyQyUyMCUyMlZpc3VhbCUyMFRoaW5raW5nJTIwaW4lMjBhbiUyMGFnaWxlJTIwZW52aXJvbm1lbnQlMjIlMkMlMEElMjAlMjAlMjAlMjBkaXNwbGF5JTNEJTIyY29uZmlkZW50aWFsJTIyJTJDJTBBJTIwJTIwJTIwJTIwYXV0aG9ycyUzRCUyMkNPTkZJREVOVElBTCUyQyUyME5PTiUyMiUyQyUwQSUyMCUyMCUyMCUyMHBsYWNlJTNERkFLRSUyQyUwQSUyMCUyMCUyMCUyMGVudHJ5dHlwZSUzRCUyMmFydGljbGUlMjIlMkMlMEElMjAlMjAlMjAlMjBJRCUzRCUyMmNvbmZpZGVudGlhbHZpc3VhbCUyMiUyQyUwQSUyMCUyMCUyMCUyMHBsYWNleCUzRCUyMiUyMiUyQyUwQSUyOSUyOSUwQSUwQURCJTI4Q2l0YXRpb24lMjglMEElMjAlMjAlMjAlMjBjb25maWRlbnRpYWwwYSUyQyUyMHdhYXJkZW5idXJnMjAxM2ElMkMlMjByZWYlM0QlMjIlMjIlMkMlMEElMjAlMjAlMjAlMjBjb250ZXh0cyUzRCU1QiUwQSUwQSUyMCUyMCUyMCUyMCU1RCUyQyUwQSUyOSUyOSUwQSUwQSUyNyUyNyUyNyUyQyUyMGNpdGF0aW9ucyUzRCUyN3dhYXJkZW5idXJnMjAxM2ElMjclMjklM0I=\")));\n",
       "    "
      ],
      "text/plain": [
       "<IPython.core.display.Javascript object>"
      ]
     },
     "metadata": {},
     "output_type": "display_data"
    },
    {
     "data": {
      "application/javascript": [
       "$('span:contains(\"# Temp\")').closest('.cell').remove();"
      ],
      "text/plain": [
       "<IPython.core.display.Javascript object>"
      ]
     },
     "metadata": {},
     "output_type": "display_data"
    },
    {
     "data": {
      "application/javascript": [
       "\n",
       "        $('span:contains(\"# Temp\")').closest('.cell').remove();\n",
       "        var code = IPython.notebook.insert_cell_below('code');\n",
       "        code.set_text(decodeURIComponent(window.atob(\"JTIzJTIwVGVtcCUwQWluc2VydCUyOCUyNyUyNyUyNyUwQSVDMyVCNnN0bWFuMjAxN2ElMjAlM0QlMjBEQiUyOFdvcmtVbnJlbGF0ZWQlMjglMEElMjAlMjAlMjAlMjAyMDE3JTJDJTIwJTIyVmVydGljYWxseSUyMFNjYWxpbmclMjBBZ2lsZSUzQSUyMEElMjBNdWx0aXBsZS1DYXNlJTIwU3R1ZHklMjIlMkMlMEElMjAlMjAlMjAlMjBkaXNwbGF5JTNEJTIyJUMzJUI2c3RtYW4lMjIlMkMlMEElMjAlMjAlMjAlMjBhdXRob3JzJTNEJTIyJUMzJTk2c3RtYW4lMkMlMjBOaWNrbGFzJTIwYW5kJTIwTGluZHN0ciVDMyVCNm0lMkMlMjBSYXNtdXMlMjIlMkMlMEElMjAlMjAlMjAlMjBwbGFjZSUzREZBS0UlMkMlMEElMjAlMjAlMjAlMjBlbnRyeXR5cGUlM0QlMjJtaXNjJTIyJTJDJTBBJTIwJTIwJTIwJTIwSUQlM0QlMjJvc3RtYW4yMDE3dmVydGljYWxseSUyMiUyQyUwQSUyMCUyMCUyMCUyMHBsYWNleCUzRCUyMiUyMiUyQyUwQSUyOSUyOSUwQSUwQURCJTI4Q2l0YXRpb24lMjglMEElMjAlMjAlMjAlMjAlQzMlQjZzdG1hbjIwMTdhJTJDJTIwd2FhcmRlbmJ1cmcyMDEzYSUyQyUyMHJlZiUzRCUyMiUyMiUyQyUwQSUyMCUyMCUyMCUyMGNvbnRleHRzJTNEJTVCJTBBJTBBJTIwJTIwJTIwJTIwJTVEJTJDJTBBJTI5JTI5JTBBJTBBJTI3JTI3JTI3JTJDJTIwY2l0YXRpb25zJTNEJTI3d2FhcmRlbmJ1cmcyMDEzYSUyNyUyOSUzQg==\")));\n",
       "    "
      ],
      "text/plain": [
       "<IPython.core.display.Javascript object>"
      ]
     },
     "metadata": {},
     "output_type": "display_data"
    },
    {
     "data": {
      "application/javascript": [
       "$('span:contains(\"# Temp\")').closest('.cell').remove();"
      ],
      "text/plain": [
       "<IPython.core.display.Javascript object>"
      ]
     },
     "metadata": {},
     "output_type": "display_data"
    },
    {
     "data": {
      "application/javascript": [
       "\n",
       "        $('span:contains(\"# Temp\")').closest('.cell').remove();\n",
       "        var code = IPython.notebook.insert_cell_below('code');\n",
       "        code.set_text(decodeURIComponent(window.atob(\"JTIzJTIwVGVtcCUwQWluc2VydCUyOCUyNyUyNyUyNyUwQSVDMyVCNnN0bWFuMjAxN2ElMjAlM0QlMjBEQiUyOFdvcmtVbnJlbGF0ZWQlMjglMEElMjAlMjAlMjAlMjAyMDE3JTJDJTIwJTIyVmVydGljYWxseSUyMFNjYWxpbmclMjBBZ2lsZSUzQSUyMEElMjBNdWx0aXBsZS1DYXNlJTIwU3R1ZHklMjIlMkMlMEElMjAlMjAlMjAlMjBkaXNwbGF5JTNEJTIyJUMzJUI2c3RtYW4lMjIlMkMlMEElMjAlMjAlMjAlMjBhdXRob3JzJTNEJTIyJUMzJTk2c3RtYW4lMkMlMjBOaWNrbGFzJTIwYW5kJTIwTGluZHN0ciVDMyVCNm0lMkMlMjBSYXNtdXMlMjIlMkMlMEElMjAlMjAlMjAlMjBwbGFjZSUzREZBS0UlMkMlMEElMjAlMjAlMjAlMjBlbnRyeXR5cGUlM0QlMjJtaXNjJTIyJTJDJTBBJTIwJTIwJTIwJTIwSUQlM0QlMjJvc3RtYW4yMDE3dmVydGljYWxseSUyMiUyQyUwQSUyMCUyMCUyMCUyMHBsYWNleCUzRCUyMiUyMiUyQyUwQSUyOSUyOSUwQSUwQURCJTI4Q2l0YXRpb24lMjglMEElMjAlMjAlMjAlMjAlQzMlQjZzdG1hbjIwMTdhJTJDJTIwd2FhcmRlbmJ1cmcyMDEzYSUyQyUyMHJlZiUzRCUyMiUyMiUyQyUwQSUyMCUyMCUyMCUyMGNvbnRleHRzJTNEJTVCJTBBJTBBJTIwJTIwJTIwJTIwJTVEJTJDJTBBJTI5JTI5JTBBJTBBJTI3JTI3JTI3JTJDJTIwY2l0YXRpb25zJTNEJTI3d2FhcmRlbmJ1cmcyMDEzYSUyNyUyOSUzQg==\")));\n",
       "    "
      ],
      "text/plain": [
       "<IPython.core.display.Javascript object>"
      ]
     },
     "metadata": {},
     "output_type": "display_data"
    },
    {
     "data": {
      "application/javascript": [
       "$('span:contains(\"# Temp\")').closest('.cell').remove();"
      ],
      "text/plain": [
       "<IPython.core.display.Javascript object>"
      ]
     },
     "metadata": {},
     "output_type": "display_data"
    },
    {
     "data": {
      "application/javascript": [
       "\n",
       "        $('span:contains(\"# Temp\")').closest('.cell').remove();\n",
       "        var code = IPython.notebook.insert_cell_below('code');\n",
       "        code.set_text(decodeURIComponent(window.atob(\"JTIzJTIwVGVtcCUwQWluc2VydCUyOCUyNyUyNyUyNyUwQWZlbGlwZTIwMTViJTIwJTNEJTIwREIlMjhXb3JrVW5yZWxhdGVkJTI4JTBBJTIwJTIwJTIwJTIwMjAxNSUyQyUyMCUyMlRlbGVjb21tdW5pY2F0aW9uJTIwc2VydmljZSUyMGRlcGxveW1lbnQlM0ElMjBwcm9qZWN0JTIwbWFuYWdlbWVudCUyMG9wdGltaXphdGlvbiUyMGJ5JTIwdXNpbmclMjBkaWZmZXJlbnQlMjBtZXRob2RvbG9naWVzJTIyJTJDJTBBJTIwJTIwJTIwJTIwZGlzcGxheSUzRCUyMmZlbGlwZSUyMGIlMjIlMkMlMEElMjAlMjAlMjAlMjBhdXRob3JzJTNEJTIyU2FuJTIwRmVsaXBlJTJDJTIwQW5kciVDMyVBOXMlMjBhbmQlMjBvdGhlcnMlMjIlMkMlMEElMjAlMjAlMjAlMjBwbGFjZSUzRFRoZXNpcyUyQyUwQSUyMCUyMCUyMCUyMGVudHJ5dHlwZSUzRCUyMm1hc3RlcnN0aGVzaXMlMjIlMkMlMEElMjAlMjAlMjAlMjBJRCUzRCUyMnNhbjIwMTV0ZWxlY29tbXVuaWNhdGlvbiUyMiUyQyUwQSUyMCUyMCUyMCUyMHBsYWNleCUzRCUyMiUyMiUyQyUwQSUyOSUyOSUwQSUwQURCJTI4Q2l0YXRpb24lMjglMEElMjAlMjAlMjAlMjBmZWxpcGUyMDE1YiUyQyUyMHdhYXJkZW5idXJnMjAxM2ElMkMlMjByZWYlM0QlMjIlMjIlMkMlMEElMjAlMjAlMjAlMjBjb250ZXh0cyUzRCU1QiUwQSUwQSUyMCUyMCUyMCUyMCU1RCUyQyUwQSUyOSUyOSUwQSUwQSUyNyUyNyUyNyUyQyUyMGNpdGF0aW9ucyUzRCUyN3dhYXJkZW5idXJnMjAxM2ElMjclMjklM0I=\")));\n",
       "    "
      ],
      "text/plain": [
       "<IPython.core.display.Javascript object>"
      ]
     },
     "metadata": {},
     "output_type": "display_data"
    },
    {
     "data": {
      "application/javascript": [
       "$('span:contains(\"# Temp\")').closest('.cell').remove();"
      ],
      "text/plain": [
       "<IPython.core.display.Javascript object>"
      ]
     },
     "metadata": {},
     "output_type": "display_data"
    },
    {
     "data": {
      "application/javascript": [
       "\n",
       "        $('span:contains(\"# Temp\")').closest('.cell').remove();\n",
       "        var code = IPython.notebook.insert_cell_below('code');\n",
       "        code.set_text(decodeURIComponent(window.atob(\"JTIzJTIwVGVtcCUwQWluc2VydCUyOCUyNyUyNyUyNyUwQWZlbGlwZTIwMTViJTIwJTNEJTIwREIlMjhXb3JrVW5yZWxhdGVkJTI4JTBBJTIwJTIwJTIwJTIwMjAxNSUyQyUyMCUyMlRlbGVjb21tdW5pY2F0aW9uJTIwc2VydmljZSUyMGRlcGxveW1lbnQlM0ElMjBwcm9qZWN0JTIwbWFuYWdlbWVudCUyMG9wdGltaXphdGlvbiUyMGJ5JTIwdXNpbmclMjBkaWZmZXJlbnQlMjBtZXRob2RvbG9naWVzJTIyJTJDJTBBJTIwJTIwJTIwJTIwZGlzcGxheSUzRCUyMmZlbGlwZSUyMGIlMjIlMkMlMEElMjAlMjAlMjAlMjBhdXRob3JzJTNEJTIyU2FuJTIwRmVsaXBlJTJDJTIwQW5kciVDMyVBOXMlMjBhbmQlMjBvdGhlcnMlMjIlMkMlMEElMjAlMjAlMjAlMjBwbGFjZSUzRFRoZXNpcyUyQyUwQSUyMCUyMCUyMCUyMGVudHJ5dHlwZSUzRCUyMm1hc3RlcnN0aGVzaXMlMjIlMkMlMEElMjAlMjAlMjAlMjBJRCUzRCUyMnNhbjIwMTV0ZWxlY29tbXVuaWNhdGlvbiUyMiUyQyUwQSUyMCUyMCUyMCUyMHBsYWNleCUzRCUyMiUyMiUyQyUwQSUyOSUyOSUwQSUwQURCJTI4Q2l0YXRpb24lMjglMEElMjAlMjAlMjAlMjBmZWxpcGUyMDE1YiUyQyUyMHdhYXJkZW5idXJnMjAxM2ElMkMlMjByZWYlM0QlMjIlMjIlMkMlMEElMjAlMjAlMjAlMjBjb250ZXh0cyUzRCU1QiUwQSUwQSUyMCUyMCUyMCUyMCU1RCUyQyUwQSUyOSUyOSUwQSUwQSUyNyUyNyUyNyUyQyUyMGNpdGF0aW9ucyUzRCUyN3dhYXJkZW5idXJnMjAxM2ElMjclMjklM0I=\")));\n",
       "    "
      ],
      "text/plain": [
       "<IPython.core.display.Javascript object>"
      ]
     },
     "metadata": {},
     "output_type": "display_data"
    },
    {
     "data": {
      "application/javascript": [
       "$('span:contains(\"# Temp\")').closest('.cell').remove();"
      ],
      "text/plain": [
       "<IPython.core.display.Javascript object>"
      ]
     },
     "metadata": {},
     "output_type": "display_data"
    },
    {
     "data": {
      "application/javascript": [
       "\n",
       "        $('span:contains(\"# Temp\")').closest('.cell').remove();\n",
       "        var code = IPython.notebook.insert_cell_below('code');\n",
       "        code.set_text(decodeURIComponent(window.atob(\"JTIzJTIwVGVtcCUwQWluc2VydCUyOCUyNyUyNyUyNyUwQW11c3VyYTIwMTdhJTIwJTNEJTIwREIlMjhXb3JrVW5yZWxhdGVkJTI4JTBBJTIwJTIwJTIwJTIwMjAxNyUyQyUyMCUyMlNvY2lhbCUyMFN1c3RhaW5hYmlsaXR5JTIwQXNwZWN0cyUyMG9mJTIwQWdpbGUlMjBQcm9qZWN0JTIwTWFuYWdlbWVudCUzQSUyMEFuJTIwRXhwbG9yYXRvcnklMjBTdHVkeSUyMG9mJTIwU29jaWFsJTIwU3VzdGFpbmFiaWxpdHklMjBBc3BlY3RzJTIwaW4lMjBBZ2lsZSUyMFByb2plY3QlMjBNYW5hZ2VtZW50JTIyJTJDJTBBJTIwJTIwJTIwJTIwZGlzcGxheSUzRCUyMm11c3VyYSUyMiUyQyUwQSUyMCUyMCUyMCUyMGF1dGhvcnMlM0QlMjJWYWxlbnp1ZWxhJTIwTXVzdXJhJTJDJTIwUmFmYWVsJTIwYW5kJTIwQWxiYXJvc2ElMkMlMjBGcmFuY2VzY28lMjIlMkMlMEElMjAlMjAlMjAlMjBwbGFjZSUzREZBS0UlMkMlMEElMjAlMjAlMjAlMjBlbnRyeXR5cGUlM0QlMjJtaXNjJTIyJTJDJTBBJTIwJTIwJTIwJTIwSUQlM0QlMjJ2YWxlbnp1ZWxhMjAxN3NvY2lhbCUyMiUyQyUwQSUyMCUyMCUyMCUyMHBsYWNleCUzRCUyMiUyMiUyQyUwQSUyOSUyOSUwQSUwQURCJTI4Q2l0YXRpb24lMjglMEElMjAlMjAlMjAlMjBtdXN1cmEyMDE3YSUyQyUyMHdhYXJkZW5idXJnMjAxM2ElMkMlMjByZWYlM0QlMjIlMjIlMkMlMEElMjAlMjAlMjAlMjBjb250ZXh0cyUzRCU1QiUwQSUwQSUyMCUyMCUyMCUyMCU1RCUyQyUwQSUyOSUyOSUwQSUwQSUyNyUyNyUyNyUyQyUyMGNpdGF0aW9ucyUzRCUyN3dhYXJkZW5idXJnMjAxM2ElMjclMjklM0I=\")));\n",
       "    "
      ],
      "text/plain": [
       "<IPython.core.display.Javascript object>"
      ]
     },
     "metadata": {},
     "output_type": "display_data"
    },
    {
     "data": {
      "application/javascript": [
       "$('span:contains(\"# Temp\")').closest('.cell').remove();"
      ],
      "text/plain": [
       "<IPython.core.display.Javascript object>"
      ]
     },
     "metadata": {},
     "output_type": "display_data"
    },
    {
     "data": {
      "application/javascript": [
       "\n",
       "        $('span:contains(\"# Temp\")').closest('.cell').remove();\n",
       "        var code = IPython.notebook.insert_cell_below('code');\n",
       "        code.set_text(decodeURIComponent(window.atob(\"JTIzJTIwVGVtcCUwQWluc2VydCUyOCUyNyUyNyUyNyUwQW11c3VyYTIwMTdhJTIwJTNEJTIwREIlMjhXb3JrVW5yZWxhdGVkJTI4JTBBJTIwJTIwJTIwJTIwMjAxNyUyQyUyMCUyMlNvY2lhbCUyMFN1c3RhaW5hYmlsaXR5JTIwQXNwZWN0cyUyMG9mJTIwQWdpbGUlMjBQcm9qZWN0JTIwTWFuYWdlbWVudCUzQSUyMEFuJTIwRXhwbG9yYXRvcnklMjBTdHVkeSUyMG9mJTIwU29jaWFsJTIwU3VzdGFpbmFiaWxpdHklMjBBc3BlY3RzJTIwaW4lMjBBZ2lsZSUyMFByb2plY3QlMjBNYW5hZ2VtZW50JTIyJTJDJTBBJTIwJTIwJTIwJTIwZGlzcGxheSUzRCUyMm11c3VyYSUyMiUyQyUwQSUyMCUyMCUyMCUyMGF1dGhvcnMlM0QlMjJWYWxlbnp1ZWxhJTIwTXVzdXJhJTJDJTIwUmFmYWVsJTIwYW5kJTIwQWxiYXJvc2ElMkMlMjBGcmFuY2VzY28lMjIlMkMlMEElMjAlMjAlMjAlMjBwbGFjZSUzREZBS0UlMkMlMEElMjAlMjAlMjAlMjBlbnRyeXR5cGUlM0QlMjJtaXNjJTIyJTJDJTBBJTIwJTIwJTIwJTIwSUQlM0QlMjJ2YWxlbnp1ZWxhMjAxN3NvY2lhbCUyMiUyQyUwQSUyMCUyMCUyMCUyMHBsYWNleCUzRCUyMiUyMiUyQyUwQSUyOSUyOSUwQSUwQURCJTI4Q2l0YXRpb24lMjglMEElMjAlMjAlMjAlMjBtdXN1cmEyMDE3YSUyQyUyMHdhYXJkZW5idXJnMjAxM2ElMkMlMjByZWYlM0QlMjIlMjIlMkMlMEElMjAlMjAlMjAlMjBjb250ZXh0cyUzRCU1QiUwQSUwQSUyMCUyMCUyMCUyMCU1RCUyQyUwQSUyOSUyOSUwQSUwQSUyNyUyNyUyNyUyQyUyMGNpdGF0aW9ucyUzRCUyN3dhYXJkZW5idXJnMjAxM2ElMjclMjklM0I=\")));\n",
       "    "
      ],
      "text/plain": [
       "<IPython.core.display.Javascript object>"
      ]
     },
     "metadata": {},
     "output_type": "display_data"
    },
    {
     "data": {
      "application/javascript": [
       "$('span:contains(\"# Temp\")').closest('.cell').remove();"
      ],
      "text/plain": [
       "<IPython.core.display.Javascript object>"
      ]
     },
     "metadata": {},
     "output_type": "display_data"
    },
    {
     "data": {
      "application/javascript": [
       "\n",
       "        $('span:contains(\"# Temp\")').closest('.cell').remove();\n",
       "        var code = IPython.notebook.insert_cell_below('code');\n",
       "        code.set_text(decodeURIComponent(window.atob(\"JTIzJTIwVGVtcCUwQWluc2VydCUyOCUyNyUyNyUyNyUwQWNoYXNzYXJ0MGElMjAlM0QlMjBEQiUyOFdvcmtVbnJlbGF0ZWQlMjglMEElMjAlMjAlMjAlMjAwJTJDJTIwJTIyJTIyJTIwVmlzdWFsJTIwVGhpbmtpbmclMjBpbiUyMGFuJTIwYWdpbGUlMjBlbnZpcm9ubWVudCUyMiUyQyUwQSUyMCUyMCUyMCUyMGRpc3BsYXklM0QlMjJjaGFzc2FydCUyMiUyQyUwQSUyMCUyMCUyMCUyMGF1dGhvcnMlM0QlMjJEdW1vbnQlMjBkZSUyMENoYXNzYXJ0JTJDJTIwQXVyJUMzJUE5bGllbiUyMiUyQyUwQSUyMCUyMCUyMCUyMHBsYWNlJTNERkFLRSUyQyUwQSUyMCUyMCUyMCUyMGVudHJ5dHlwZSUzRCUyMmFydGljbGUlMjIlMkMlMEElMjAlMjAlMjAlMjBJRCUzRCUyMmR1bW9udHZpc3VhbCUyMiUyQyUwQSUyMCUyMCUyMCUyMHBsYWNleCUzRCUyMiUyMiUyQyUwQSUyOSUyOSUwQSUwQURCJTI4Q2l0YXRpb24lMjglMEElMjAlMjAlMjAlMjBjaGFzc2FydDBhJTJDJTIwd2FhcmRlbmJ1cmcyMDEzYSUyQyUyMHJlZiUzRCUyMiUyMiUyQyUwQSUyMCUyMCUyMCUyMGNvbnRleHRzJTNEJTVCJTBBJTBBJTIwJTIwJTIwJTIwJTVEJTJDJTBBJTI5JTI5JTBBJTBBJTI3JTI3JTI3JTJDJTIwY2l0YXRpb25zJTNEJTI3d2FhcmRlbmJ1cmcyMDEzYSUyNyUyOSUzQg==\")));\n",
       "    "
      ],
      "text/plain": [
       "<IPython.core.display.Javascript object>"
      ]
     },
     "metadata": {},
     "output_type": "display_data"
    },
    {
     "data": {
      "application/javascript": [
       "$('span:contains(\"# Temp\")').closest('.cell').remove();"
      ],
      "text/plain": [
       "<IPython.core.display.Javascript object>"
      ]
     },
     "metadata": {},
     "output_type": "display_data"
    },
    {
     "data": {
      "application/javascript": [
       "\n",
       "        $('span:contains(\"# Temp\")').closest('.cell').remove();\n",
       "        var code = IPython.notebook.insert_cell_below('code');\n",
       "        code.set_text(decodeURIComponent(window.atob(\"JTIzJTIwVGVtcCUwQWluc2VydCUyOCUyNyUyNyUyNyUwQWNoYXNzYXJ0MGElMjAlM0QlMjBEQiUyOFdvcmtVbnJlbGF0ZWQlMjglMEElMjAlMjAlMjAlMjAwJTJDJTIwJTIyJTIyJTIwVmlzdWFsJTIwVGhpbmtpbmclMjBpbiUyMGFuJTIwYWdpbGUlMjBlbnZpcm9ubWVudCUyMiUyQyUwQSUyMCUyMCUyMCUyMGRpc3BsYXklM0QlMjJjaGFzc2FydCUyMiUyQyUwQSUyMCUyMCUyMCUyMGF1dGhvcnMlM0QlMjJEdW1vbnQlMjBkZSUyMENoYXNzYXJ0JTJDJTIwQXVyJUMzJUE5bGllbiUyMiUyQyUwQSUyMCUyMCUyMCUyMHBsYWNlJTNERkFLRSUyQyUwQSUyMCUyMCUyMCUyMGVudHJ5dHlwZSUzRCUyMmFydGljbGUlMjIlMkMlMEElMjAlMjAlMjAlMjBJRCUzRCUyMmR1bW9udHZpc3VhbCUyMiUyQyUwQSUyMCUyMCUyMCUyMHBsYWNleCUzRCUyMiUyMiUyQyUwQSUyOSUyOSUwQSUwQURCJTI4Q2l0YXRpb24lMjglMEElMjAlMjAlMjAlMjBjaGFzc2FydDBhJTJDJTIwd2FhcmRlbmJ1cmcyMDEzYSUyQyUyMHJlZiUzRCUyMiUyMiUyQyUwQSUyMCUyMCUyMCUyMGNvbnRleHRzJTNEJTVCJTBBJTBBJTIwJTIwJTIwJTIwJTVEJTJDJTBBJTI5JTI5JTBBJTBBJTI3JTI3JTI3JTJDJTIwY2l0YXRpb25zJTNEJTI3d2FhcmRlbmJ1cmcyMDEzYSUyNyUyOSUzQg==\")));\n",
       "    "
      ],
      "text/plain": [
       "<IPython.core.display.Javascript object>"
      ]
     },
     "metadata": {},
     "output_type": "display_data"
    },
    {
     "data": {
      "application/javascript": [
       "$('span:contains(\"# Temp\")').closest('.cell').remove();"
      ],
      "text/plain": [
       "<IPython.core.display.Javascript object>"
      ]
     },
     "metadata": {},
     "output_type": "display_data"
    },
    {
     "data": {
      "application/javascript": [
       "\n",
       "        $('span:contains(\"# Temp\")').closest('.cell').remove();\n",
       "        var code = IPython.notebook.insert_cell_below('code');\n",
       "        code.set_text(decodeURIComponent(window.atob(\"JTIzJTIwVGVtcCUwQWluc2VydCUyOCUyNyUyNyUyNyUwQURCJTI4Q2l0YXRpb24lMjglMEElMjAlMjAlMjAlMjB2bGlldGxhbmQyMDE1YiUyQyUyMHdhYXJkZW5idXJnMjAxM2ElMkMlMjByZWYlM0QlMjIlMjIlMkMlMEElMjAlMjAlMjAlMjBjb250ZXh0cyUzRCU1QiUwQSUwQSUyMCUyMCUyMCUyMCU1RCUyQyUwQSUyOSUyOSUwQSUwQSUyNyUyNyUyNyUyQyUyMGNpdGF0aW9ucyUzRCUyN3dhYXJkZW5idXJnMjAxM2ElMjclMjklM0I=\")));\n",
       "    "
      ],
      "text/plain": [
       "<IPython.core.display.Javascript object>"
      ]
     },
     "metadata": {},
     "output_type": "display_data"
    },
    {
     "data": {
      "application/javascript": [
       "$('span:contains(\"# Temp\")').closest('.cell').remove();"
      ],
      "text/plain": [
       "<IPython.core.display.Javascript object>"
      ]
     },
     "metadata": {},
     "output_type": "display_data"
    },
    {
     "data": {
      "application/javascript": [
       "\n",
       "        $('span:contains(\"# Temp\")').closest('.cell').remove();\n",
       "        var code = IPython.notebook.insert_cell_below('code');\n",
       "        code.set_text(decodeURIComponent(window.atob(\"JTIzJTIwVGVtcCUwQWluc2VydCUyOCUyNyUyNyUyNyUwQURCJTI4Q2l0YXRpb24lMjglMEElMjAlMjAlMjAlMjB2bGlldGxhbmQyMDE1YiUyQyUyMHdhYXJkZW5idXJnMjAxM2ElMkMlMjByZWYlM0QlMjIlMjIlMkMlMEElMjAlMjAlMjAlMjBjb250ZXh0cyUzRCU1QiUwQSUwQSUyMCUyMCUyMCUyMCU1RCUyQyUwQSUyOSUyOSUwQSUwQSUyNyUyNyUyNyUyQyUyMGNpdGF0aW9ucyUzRCUyN3dhYXJkZW5idXJnMjAxM2ElMjclMjklM0I=\")));\n",
       "    "
      ],
      "text/plain": [
       "<IPython.core.display.Javascript object>"
      ]
     },
     "metadata": {},
     "output_type": "display_data"
    },
    {
     "data": {
      "application/javascript": [
       "$('span:contains(\"# Temp\")').closest('.cell').remove();"
      ],
      "text/plain": [
       "<IPython.core.display.Javascript object>"
      ]
     },
     "metadata": {},
     "output_type": "display_data"
    },
    {
     "data": {
      "application/javascript": [
       "\n",
       "        $('span:contains(\"# Temp\")').closest('.cell').remove();\n",
       "        var code = IPython.notebook.insert_cell_below('code');\n",
       "        code.set_text(decodeURIComponent(window.atob(\"JTIzJTIwVGVtcCUwQWluc2VydCUyOCUyNyUyNyUyNyUwQXN1bGFpbWFuMjAxOGElMjAlM0QlMjBEQiUyOFdvcmtVbnJlbGF0ZWQlMjglMEElMjAlMjAlMjAlMjAyMDE4JTJDJTIwJTIyQ3JpdGljYWwlMjBTdWNjZXNzJTIwRmFjdG9ycyUyMGluJTIwQWdpbGUlMjBFbnRlcnByaXNlJTIwQXJjaGl0ZWN0dXJlJTNBJTIwQSUyMENvbmNlcHR1YWwlMjBQYXBlciUyMiUyQyUwQSUyMCUyMCUyMCUyMGRpc3BsYXklM0QlMjJzdWxhaW1hbiUyMiUyQyUwQSUyMCUyMCUyMCUyMGF1dGhvcnMlM0QlMjJTdWxhaW1hbiUyQyUyME1vaGQlMjBBYmR1bCUyMEhhbGltJTIwYW5kJTIwTWFuc29yJTJDJTIwWnVsa2VmbGklMjIlMkMlMEElMjAlMjAlMjAlMjBwbGFjZSUzREZBS0UlMkMlMEElMjAlMjAlMjAlMjBwcCUzRCUyMjUyMjAtLTUyMjMlMjIlMkMlMEElMjAlMjAlMjAlMjBlbnRyeXR5cGUlM0QlMjJhcnRpY2xlJTIyJTJDJTBBJTIwJTIwJTIwJTIwdm9sdW1lJTNEJTIyMjQlMjIlMkMlMEElMjAlMjAlMjAlMjBudW1iZXIlM0QlMjI3JTIyJTJDJTBBJTIwJTIwJTIwJTIwcHVibGlzaGVyJTNEJTIyQW1lcmljYW4lMjBTY2llbnRpZmljJTIwUHVibGlzaGVycyUyMiUyQyUwQSUyMCUyMCUyMCUyMElEJTNEJTIyc3VsYWltYW4yMDE4Y3JpdGljYWwlMjIlMkMlMEElMjAlMjAlMjAlMjBwbGFjZXglM0QlMjJBZHZhbmNlZCUyMFNjaWVuY2UlMjBMZXR0ZXJzJTIyJTJDJTBBJTI5JTI5JTBBJTBBREIlMjhDaXRhdGlvbiUyOCUwQSUyMCUyMCUyMCUyMHN1bGFpbWFuMjAxOGElMkMlMjB3YWFyZGVuYnVyZzIwMTNhJTJDJTIwcmVmJTNEJTIyJTIyJTJDJTBBJTIwJTIwJTIwJTIwY29udGV4dHMlM0QlNUIlMEElMEElMjAlMjAlMjAlMjAlNUQlMkMlMEElMjklMjklMEElMEElMjclMjclMjclMkMlMjBjaXRhdGlvbnMlM0QlMjd3YWFyZGVuYnVyZzIwMTNhJTI3JTI5JTNC\")));\n",
       "    "
      ],
      "text/plain": [
       "<IPython.core.display.Javascript object>"
      ]
     },
     "metadata": {},
     "output_type": "display_data"
    },
    {
     "data": {
      "application/javascript": [
       "$('span:contains(\"# Temp\")').closest('.cell').remove();"
      ],
      "text/plain": [
       "<IPython.core.display.Javascript object>"
      ]
     },
     "metadata": {},
     "output_type": "display_data"
    },
    {
     "data": {
      "application/javascript": [
       "\n",
       "        $('span:contains(\"# Temp\")').closest('.cell').remove();\n",
       "        var code = IPython.notebook.insert_cell_below('code');\n",
       "        code.set_text(decodeURIComponent(window.atob(\"JTIzJTIwVGVtcCUwQWluc2VydCUyOCUyNyUyNyUyNyUwQXN1bGFpbWFuMjAxOGElMjAlM0QlMjBEQiUyOFdvcmtVbnJlbGF0ZWQlMjglMEElMjAlMjAlMjAlMjAyMDE4JTJDJTIwJTIyQ3JpdGljYWwlMjBTdWNjZXNzJTIwRmFjdG9ycyUyMGluJTIwQWdpbGUlMjBFbnRlcnByaXNlJTIwQXJjaGl0ZWN0dXJlJTNBJTIwQSUyMENvbmNlcHR1YWwlMjBQYXBlciUyMiUyQyUwQSUyMCUyMCUyMCUyMGRpc3BsYXklM0QlMjJzdWxhaW1hbiUyMiUyQyUwQSUyMCUyMCUyMCUyMGF1dGhvcnMlM0QlMjJTdWxhaW1hbiUyQyUyME1vaGQlMjBBYmR1bCUyMEhhbGltJTIwYW5kJTIwTWFuc29yJTJDJTIwWnVsa2VmbGklMjIlMkMlMEElMjAlMjAlMjAlMjBwbGFjZSUzREZBS0UlMkMlMEElMjAlMjAlMjAlMjBwcCUzRCUyMjUyMjAtLTUyMjMlMjIlMkMlMEElMjAlMjAlMjAlMjBlbnRyeXR5cGUlM0QlMjJhcnRpY2xlJTIyJTJDJTBBJTIwJTIwJTIwJTIwdm9sdW1lJTNEJTIyMjQlMjIlMkMlMEElMjAlMjAlMjAlMjBudW1iZXIlM0QlMjI3JTIyJTJDJTBBJTIwJTIwJTIwJTIwcHVibGlzaGVyJTNEJTIyQW1lcmljYW4lMjBTY2llbnRpZmljJTIwUHVibGlzaGVycyUyMiUyQyUwQSUyMCUyMCUyMCUyMElEJTNEJTIyc3VsYWltYW4yMDE4Y3JpdGljYWwlMjIlMkMlMEElMjAlMjAlMjAlMjBwbGFjZXglM0QlMjJBZHZhbmNlZCUyMFNjaWVuY2UlMjBMZXR0ZXJzJTIyJTJDJTBBJTI5JTI5JTBBJTBBREIlMjhDaXRhdGlvbiUyOCUwQSUyMCUyMCUyMCUyMHN1bGFpbWFuMjAxOGElMkMlMjB3YWFyZGVuYnVyZzIwMTNhJTJDJTIwcmVmJTNEJTIyJTIyJTJDJTBBJTIwJTIwJTIwJTIwY29udGV4dHMlM0QlNUIlMEElMEElMjAlMjAlMjAlMjAlNUQlMkMlMEElMjklMjklMEElMEElMjclMjclMjclMkMlMjBjaXRhdGlvbnMlM0QlMjd3YWFyZGVuYnVyZzIwMTNhJTI3JTI5JTNC\")));\n",
       "    "
      ],
      "text/plain": [
       "<IPython.core.display.Javascript object>"
      ]
     },
     "metadata": {},
     "output_type": "display_data"
    },
    {
     "data": {
      "application/javascript": [
       "$('span:contains(\"# Temp\")').closest('.cell').remove();"
      ],
      "text/plain": [
       "<IPython.core.display.Javascript object>"
      ]
     },
     "metadata": {},
     "output_type": "display_data"
    },
    {
     "data": {
      "application/javascript": [
       "\n",
       "        $('span:contains(\"# Temp\")').closest('.cell').remove();\n",
       "        var code = IPython.notebook.insert_cell_below('code');\n",
       "        code.set_text(decodeURIComponent(window.atob(\"JTIzJTIwVGVtcCUwQWluc2VydCUyOCUyNyUyNyUyNyUwQXZyaG92ZWMyMDE2YSUyMCUzRCUyMERCJTI4V29ya1VucmVsYXRlZCUyOCUwQSUyMCUyMCUyMCUyMDIwMTYlMkMlMjAlMjJBZ2lsZSUyMGRldmVsb3BtZW50JTIwb2YlMjBhJTIwaG9zcGl0YWwlMjBpbmZvcm1hdGlvbiUyMHN5c3RlbSUyMiUyQyUwQSUyMCUyMCUyMCUyMGRpc3BsYXklM0QlMjJ2cmhvdmVjJTIyJTJDJTBBJTIwJTIwJTIwJTIwYXV0aG9ycyUzRCUyMlZyaG92ZWMlMkMlMjBTTFIlMjIlMkMlMEElMjAlMjAlMjAlMjBwbGFjZSUzREZBS0UlMkMlMEElMjAlMjAlMjAlMjBwcCUzRCUyMjQxNi0tNDIxJTIyJTJDJTBBJTIwJTIwJTIwJTIwZW50cnl0eXBlJTNEJTIyaW5wcm9jZWVkaW5ncyUyMiUyQyUwQSUyMCUyMCUyMCUyMG9yZ2FuaXphdGlvbiUzRCUyMklFRUUlMjIlMkMlMEElMjAlMjAlMjAlMjBJRCUzRCUyMnZyaG92ZWMyMDE2YWdpbGUlMjIlMkMlMEElMjAlMjAlMjAlMjBwbGFjZXglM0QlMjJJbmZvcm1hdGlvbiUyMGFuZCUyMENvbW11bmljYXRpb24lMjBUZWNobm9sb2d5JTJDJTIwRWxlY3Ryb25pY3MlMjBhbmQlMjBNaWNyb2VsZWN0cm9uaWNzJTIwJTI4TUlQUk8lMjklMkMlMjAyMDE2JTIwMzl0aCUyMEludGVybmF0aW9uYWwlMjBDb252ZW50aW9uJTIwb24lMjIlMkMlMEElMjklMjklMEElMEFEQiUyOENpdGF0aW9uJTI4JTBBJTIwJTIwJTIwJTIwdnJob3ZlYzIwMTZhJTJDJTIwd2FhcmRlbmJ1cmcyMDEzYSUyQyUyMHJlZiUzRCUyMiUyMiUyQyUwQSUyMCUyMCUyMCUyMGNvbnRleHRzJTNEJTVCJTBBJTBBJTIwJTIwJTIwJTIwJTVEJTJDJTBBJTI5JTI5JTBBJTBBJTI3JTI3JTI3JTJDJTIwY2l0YXRpb25zJTNEJTI3d2FhcmRlbmJ1cmcyMDEzYSUyNyUyOSUzQg==\")));\n",
       "    "
      ],
      "text/plain": [
       "<IPython.core.display.Javascript object>"
      ]
     },
     "metadata": {},
     "output_type": "display_data"
    },
    {
     "data": {
      "application/javascript": [
       "$('span:contains(\"# Temp\")').closest('.cell').remove();"
      ],
      "text/plain": [
       "<IPython.core.display.Javascript object>"
      ]
     },
     "metadata": {},
     "output_type": "display_data"
    },
    {
     "data": {
      "application/javascript": [
       "\n",
       "        $('span:contains(\"# Temp\")').closest('.cell').remove();\n",
       "        var code = IPython.notebook.insert_cell_below('code');\n",
       "        code.set_text(decodeURIComponent(window.atob(\"JTIzJTIwVGVtcCUwQWluc2VydCUyOCUyNyUyNyUyNyUwQXZyaG92ZWMyMDE2YSUyMCUzRCUyMERCJTI4V29ya1VucmVsYXRlZCUyOCUwQSUyMCUyMCUyMCUyMDIwMTYlMkMlMjAlMjJBZ2lsZSUyMGRldmVsb3BtZW50JTIwb2YlMjBhJTIwaG9zcGl0YWwlMjBpbmZvcm1hdGlvbiUyMHN5c3RlbSUyMiUyQyUwQSUyMCUyMCUyMCUyMGRpc3BsYXklM0QlMjJ2cmhvdmVjJTIyJTJDJTBBJTIwJTIwJTIwJTIwYXV0aG9ycyUzRCUyMlZyaG92ZWMlMkMlMjBTTFIlMjIlMkMlMEElMjAlMjAlMjAlMjBwbGFjZSUzREZBS0UlMkMlMEElMjAlMjAlMjAlMjBwcCUzRCUyMjQxNi0tNDIxJTIyJTJDJTBBJTIwJTIwJTIwJTIwZW50cnl0eXBlJTNEJTIyaW5wcm9jZWVkaW5ncyUyMiUyQyUwQSUyMCUyMCUyMCUyMG9yZ2FuaXphdGlvbiUzRCUyMklFRUUlMjIlMkMlMEElMjAlMjAlMjAlMjBJRCUzRCUyMnZyaG92ZWMyMDE2YWdpbGUlMjIlMkMlMEElMjAlMjAlMjAlMjBwbGFjZXglM0QlMjJJbmZvcm1hdGlvbiUyMGFuZCUyMENvbW11bmljYXRpb24lMjBUZWNobm9sb2d5JTJDJTIwRWxlY3Ryb25pY3MlMjBhbmQlMjBNaWNyb2VsZWN0cm9uaWNzJTIwJTI4TUlQUk8lMjklMkMlMjAyMDE2JTIwMzl0aCUyMEludGVybmF0aW9uYWwlMjBDb252ZW50aW9uJTIwb24lMjIlMkMlMEElMjklMjklMEElMEFEQiUyOENpdGF0aW9uJTI4JTBBJTIwJTIwJTIwJTIwdnJob3ZlYzIwMTZhJTJDJTIwd2FhcmRlbmJ1cmcyMDEzYSUyQyUyMHJlZiUzRCUyMiUyMiUyQyUwQSUyMCUyMCUyMCUyMGNvbnRleHRzJTNEJTVCJTBBJTBBJTIwJTIwJTIwJTIwJTVEJTJDJTBBJTI5JTI5JTBBJTBBJTI3JTI3JTI3JTJDJTIwY2l0YXRpb25zJTNEJTI3d2FhcmRlbmJ1cmcyMDEzYSUyNyUyOSUzQg==\")));\n",
       "    "
      ],
      "text/plain": [
       "<IPython.core.display.Javascript object>"
      ]
     },
     "metadata": {},
     "output_type": "display_data"
    },
    {
     "data": {
      "application/javascript": [
       "$('span:contains(\"# Temp\")').closest('.cell').remove();"
      ],
      "text/plain": [
       "<IPython.core.display.Javascript object>"
      ]
     },
     "metadata": {},
     "output_type": "display_data"
    },
    {
     "data": {
      "application/javascript": [
       "\n",
       "        $('span:contains(\"# Temp\")').closest('.cell').remove();\n",
       "        var code = IPython.notebook.insert_cell_below('code');\n",
       "        code.set_text(decodeURIComponent(window.atob(\"JTIzJTIwVGVtcCUwQWluc2VydCUyOCUyNyUyNyUyNyUwQWx1Z2VyMjAxNWElMjAlM0QlMjBEQiUyOFdvcmtVbnJlbGF0ZWQlMjglMEElMjAlMjAlMjAlMjAyMDE1JTJDJTIwJTIyRGVzaWduaW5nJTIwYW4lMjBvcGVuJTIwaW5ub3ZhdGlvbiUyMHByYWN0aWNlJTIwZm9yJTIwYSUyMGxvdy9tZWRpdW0lMjB0ZWNoJTIwU01FJTIwcGxhdGZvcm0lMjIlMkMlMEElMjAlMjAlMjAlMjBkaXNwbGF5JTNEJTIybHVnZXIlMjIlMkMlMEElMjAlMjAlMjAlMjBhdXRob3JzJTNEJTIyTHVnZXIlMkMlMjBOSiUyME5pbHMlMjIlMkMlMEElMjAlMjAlMjAlMjBwbGFjZSUzREZBS0UlMkMlMEElMjAlMjAlMjAlMjBlbnRyeXR5cGUlM0QlMjJhcnRpY2xlJTIyJTJDJTBBJTIwJTIwJTIwJTIwcHVibGlzaGVyJTNEJTIyVGVjaG5pc2NoZSUyMFVuaXZlcnNpdGVpdCUyMEVpbmRob3ZlbiUyMiUyQyUwQSUyMCUyMCUyMCUyMElEJTNEJTIybHVnZXIyMDE1ZGVzaWduaW5nJTIyJTJDJTBBJTIwJTIwJTIwJTIwcGxhY2V4JTNEJTIyJTIyJTJDJTBBJTI5JTI5JTBBJTBBREIlMjhDaXRhdGlvbiUyOCUwQSUyMCUyMCUyMCUyMGx1Z2VyMjAxNWElMkMlMjB3YWFyZGVuYnVyZzIwMTNhJTJDJTIwcmVmJTNEJTIyJTIyJTJDJTBBJTIwJTIwJTIwJTIwY29udGV4dHMlM0QlNUIlMEElMEElMjAlMjAlMjAlMjAlNUQlMkMlMEElMjklMjklMEElMEElMjclMjclMjclMkMlMjBjaXRhdGlvbnMlM0QlMjd3YWFyZGVuYnVyZzIwMTNhJTI3JTI5JTNC\")));\n",
       "    "
      ],
      "text/plain": [
       "<IPython.core.display.Javascript object>"
      ]
     },
     "metadata": {},
     "output_type": "display_data"
    },
    {
     "data": {
      "application/javascript": [
       "$('span:contains(\"# Temp\")').closest('.cell').remove();"
      ],
      "text/plain": [
       "<IPython.core.display.Javascript object>"
      ]
     },
     "metadata": {},
     "output_type": "display_data"
    },
    {
     "data": {
      "application/javascript": [
       "\n",
       "        $('span:contains(\"# Temp\")').closest('.cell').remove();\n",
       "        var code = IPython.notebook.insert_cell_below('code');\n",
       "        code.set_text(decodeURIComponent(window.atob(\"JTIzJTIwVGVtcCUwQWluc2VydCUyOCUyNyUyNyUyNyUwQWx1Z2VyMjAxNWElMjAlM0QlMjBEQiUyOFdvcmtVbnJlbGF0ZWQlMjglMEElMjAlMjAlMjAlMjAyMDE1JTJDJTIwJTIyRGVzaWduaW5nJTIwYW4lMjBvcGVuJTIwaW5ub3ZhdGlvbiUyMHByYWN0aWNlJTIwZm9yJTIwYSUyMGxvdy9tZWRpdW0lMjB0ZWNoJTIwU01FJTIwcGxhdGZvcm0lMjIlMkMlMEElMjAlMjAlMjAlMjBkaXNwbGF5JTNEJTIybHVnZXIlMjIlMkMlMEElMjAlMjAlMjAlMjBhdXRob3JzJTNEJTIyTHVnZXIlMkMlMjBOSiUyME5pbHMlMjIlMkMlMEElMjAlMjAlMjAlMjBwbGFjZSUzREZBS0UlMkMlMEElMjAlMjAlMjAlMjBlbnRyeXR5cGUlM0QlMjJhcnRpY2xlJTIyJTJDJTBBJTIwJTIwJTIwJTIwcHVibGlzaGVyJTNEJTIyVGVjaG5pc2NoZSUyMFVuaXZlcnNpdGVpdCUyMEVpbmRob3ZlbiUyMiUyQyUwQSUyMCUyMCUyMCUyMElEJTNEJTIybHVnZXIyMDE1ZGVzaWduaW5nJTIyJTJDJTBBJTIwJTIwJTIwJTIwcGxhY2V4JTNEJTIyJTIyJTJDJTBBJTI5JTI5JTBBJTBBREIlMjhDaXRhdGlvbiUyOCUwQSUyMCUyMCUyMCUyMGx1Z2VyMjAxNWElMkMlMjB3YWFyZGVuYnVyZzIwMTNhJTJDJTIwcmVmJTNEJTIyJTIyJTJDJTBBJTIwJTIwJTIwJTIwY29udGV4dHMlM0QlNUIlMEElMEElMjAlMjAlMjAlMjAlNUQlMkMlMEElMjklMjklMEElMEElMjclMjclMjclMkMlMjBjaXRhdGlvbnMlM0QlMjd3YWFyZGVuYnVyZzIwMTNhJTI3JTI5JTNC\")));\n",
       "    "
      ],
      "text/plain": [
       "<IPython.core.display.Javascript object>"
      ]
     },
     "metadata": {},
     "output_type": "display_data"
    },
    {
     "data": {
      "application/javascript": [
       "$('span:contains(\"# Temp\")').closest('.cell').remove();"
      ],
      "text/plain": [
       "<IPython.core.display.Javascript object>"
      ]
     },
     "metadata": {},
     "output_type": "display_data"
    },
    {
     "data": {
      "application/javascript": [
       "\n",
       "        $('span:contains(\"# Temp\")').closest('.cell').remove();\n",
       "        var code = IPython.notebook.insert_cell_below('code');\n",
       "        code.set_text(decodeURIComponent(window.atob(\"JTIzJTIwVGVtcCUwQWluc2VydCUyOCUyNyUyNyUyNyUwQWFsa2VtYTIwMTdhJTIwJTNEJTIwREIlMjhXb3JrVW5yZWxhdGVkJTI4JTBBJTIwJTIwJTIwJTIwMjAxNyUyQyUyMCUyMkFnaWxlJTIwYW5kJTIwaGFja2F0aG9ucyUzQSUyMGElMjBjYXNlJTIwc3R1ZHklMjBvZiUyMGVtZXJnZW50JTIwcHJhY3RpY2VzJTIwYXQlMjB0aGUlMjBGTkIlMjBjb2RlZmVzdCUyMiUyQyUwQSUyMCUyMCUyMCUyMGRpc3BsYXklM0QlMjJhbGtlbWElMjIlMkMlMEElMjAlMjAlMjAlMjBhdXRob3JzJTNEJTIyQWxrZW1hJTJDJTIwUGV0ZXIlMjBKb2huJTIwYW5kJTIwTGV2aXR0JTJDJTIwU3RlcGhlbiUyMFBoaWxsaXAlMjBhbmQlMjBDaGVuJTJDJTIwSmVmZiUyMFl1LUplbiUyMiUyQyUwQSUyMCUyMCUyMCUyMHBsYWNlJTNERkFLRSUyQyUwQSUyMCUyMCUyMCUyMHBwJTNEJTIyNCUyMiUyQyUwQSUyMCUyMCUyMCUyMGVudHJ5dHlwZSUzRCUyMmlucHJvY2VlZGluZ3MlMjIlMkMlMEElMjAlMjAlMjAlMjBvcmdhbml6YXRpb24lM0QlMjJBQ00lMjIlMkMlMEElMjAlMjAlMjAlMjBJRCUzRCUyMmFsa2VtYTIwMTdhZ2lsZSUyMiUyQyUwQSUyMCUyMCUyMCUyMHBsYWNleCUzRCUyMlByb2NlZWRpbmdzJTIwb2YlMjB0aGUlMjBTb3V0aCUyMEFmcmljYW4lMjBJbnN0aXR1dGUlMjBvZiUyMENvbXB1dGVyJTIwU2NpZW50aXN0cyUyMGFuZCUyMEluZm9ybWF0aW9uJTIwVGVjaG5vbG9naXN0cyUyMiUyQyUwQSUyOSUyOSUwQSUwQURCJTI4Q2l0YXRpb24lMjglMEElMjAlMjAlMjAlMjBhbGtlbWEyMDE3YSUyQyUyMHdhYXJkZW5idXJnMjAxM2ElMkMlMjByZWYlM0QlMjIlMjIlMkMlMEElMjAlMjAlMjAlMjBjb250ZXh0cyUzRCU1QiUwQSUwQSUyMCUyMCUyMCUyMCU1RCUyQyUwQSUyOSUyOSUwQSUwQSUyNyUyNyUyNyUyQyUyMGNpdGF0aW9ucyUzRCUyN3dhYXJkZW5idXJnMjAxM2ElMjclMjklM0I=\")));\n",
       "    "
      ],
      "text/plain": [
       "<IPython.core.display.Javascript object>"
      ]
     },
     "metadata": {},
     "output_type": "display_data"
    },
    {
     "data": {
      "application/javascript": [
       "$('span:contains(\"# Temp\")').closest('.cell').remove();"
      ],
      "text/plain": [
       "<IPython.core.display.Javascript object>"
      ]
     },
     "metadata": {},
     "output_type": "display_data"
    },
    {
     "data": {
      "application/javascript": [
       "\n",
       "        $('span:contains(\"# Temp\")').closest('.cell').remove();\n",
       "        var code = IPython.notebook.insert_cell_below('code');\n",
       "        code.set_text(decodeURIComponent(window.atob(\"JTIzJTIwVGVtcCUwQWluc2VydCUyOCUyNyUyNyUyNyUwQWFsa2VtYTIwMTdhJTIwJTNEJTIwREIlMjhXb3JrVW5yZWxhdGVkJTI4JTBBJTIwJTIwJTIwJTIwMjAxNyUyQyUyMCUyMkFnaWxlJTIwYW5kJTIwaGFja2F0aG9ucyUzQSUyMGElMjBjYXNlJTIwc3R1ZHklMjBvZiUyMGVtZXJnZW50JTIwcHJhY3RpY2VzJTIwYXQlMjB0aGUlMjBGTkIlMjBjb2RlZmVzdCUyMiUyQyUwQSUyMCUyMCUyMCUyMGRpc3BsYXklM0QlMjJhbGtlbWElMjIlMkMlMEElMjAlMjAlMjAlMjBhdXRob3JzJTNEJTIyQWxrZW1hJTJDJTIwUGV0ZXIlMjBKb2huJTIwYW5kJTIwTGV2aXR0JTJDJTIwU3RlcGhlbiUyMFBoaWxsaXAlMjBhbmQlMjBDaGVuJTJDJTIwSmVmZiUyMFl1LUplbiUyMiUyQyUwQSUyMCUyMCUyMCUyMHBsYWNlJTNERkFLRSUyQyUwQSUyMCUyMCUyMCUyMHBwJTNEJTIyNCUyMiUyQyUwQSUyMCUyMCUyMCUyMGVudHJ5dHlwZSUzRCUyMmlucHJvY2VlZGluZ3MlMjIlMkMlMEElMjAlMjAlMjAlMjBvcmdhbml6YXRpb24lM0QlMjJBQ00lMjIlMkMlMEElMjAlMjAlMjAlMjBJRCUzRCUyMmFsa2VtYTIwMTdhZ2lsZSUyMiUyQyUwQSUyMCUyMCUyMCUyMHBsYWNleCUzRCUyMlByb2NlZWRpbmdzJTIwb2YlMjB0aGUlMjBTb3V0aCUyMEFmcmljYW4lMjBJbnN0aXR1dGUlMjBvZiUyMENvbXB1dGVyJTIwU2NpZW50aXN0cyUyMGFuZCUyMEluZm9ybWF0aW9uJTIwVGVjaG5vbG9naXN0cyUyMiUyQyUwQSUyOSUyOSUwQSUwQURCJTI4Q2l0YXRpb24lMjglMEElMjAlMjAlMjAlMjBhbGtlbWEyMDE3YSUyQyUyMHdhYXJkZW5idXJnMjAxM2ElMkMlMjByZWYlM0QlMjIlMjIlMkMlMEElMjAlMjAlMjAlMjBjb250ZXh0cyUzRCU1QiUwQSUwQSUyMCUyMCUyMCUyMCU1RCUyQyUwQSUyOSUyOSUwQSUwQSUyNyUyNyUyNyUyQyUyMGNpdGF0aW9ucyUzRCUyN3dhYXJkZW5idXJnMjAxM2ElMjclMjklM0I=\")));\n",
       "    "
      ],
      "text/plain": [
       "<IPython.core.display.Javascript object>"
      ]
     },
     "metadata": {},
     "output_type": "display_data"
    },
    {
     "data": {
      "application/javascript": [
       "$('span:contains(\"# Temp\")').closest('.cell').remove();"
      ],
      "text/plain": [
       "<IPython.core.display.Javascript object>"
      ]
     },
     "metadata": {},
     "output_type": "display_data"
    },
    {
     "data": {
      "application/javascript": [
       "\n",
       "        $('span:contains(\"# Temp\")').closest('.cell').remove();\n",
       "        var code = IPython.notebook.insert_cell_below('code');\n",
       "        code.set_text(decodeURIComponent(window.atob(\"JTIzJTIwVGVtcCUwQWluc2VydCUyOCUyNyUyNyUyNyUwQWhhYXN0ZXIwYSUyMCUzRCUyMERCJTI4V29ya1VucmVsYXRlZCUyOCUwQSUyMCUyMCUyMCUyMDAlMkMlMjAlMjJTZWFyY2glMjBUaGlzJTIwQmxvZyUyMiUyQyUwQSUyMCUyMCUyMCUyMGRpc3BsYXklM0QlMjJoYWFzdGVyJTIyJTJDJTBBJTIwJTIwJTIwJTIwYXV0aG9ycyUzRCUyMnZhbiUyMEhhYXN0ZXIlMkMlMjBLZWxzZXklMjIlMkMlMEElMjAlMjAlMjAlMjBwbGFjZSUzREZBS0UlMkMlMEElMjAlMjAlMjAlMjBlbnRyeXR5cGUlM0QlMjJhcnRpY2xlJTIyJTJDJTBBJTIwJTIwJTIwJTIwSUQlM0QlMjJ2YW5zZWFyY2glMjIlMkMlMEElMjAlMjAlMjAlMjBwbGFjZXglM0QlMjIlMjIlMkMlMEElMjklMjklMEElMEFEQiUyOENpdGF0aW9uJTI4JTBBJTIwJTIwJTIwJTIwaGFhc3RlcjBhJTJDJTIwd2FhcmRlbmJ1cmcyMDEzYSUyQyUyMHJlZiUzRCUyMiUyMiUyQyUwQSUyMCUyMCUyMCUyMGNvbnRleHRzJTNEJTVCJTBBJTBBJTIwJTIwJTIwJTIwJTVEJTJDJTBBJTI5JTI5JTBBJTBBJTI3JTI3JTI3JTJDJTIwY2l0YXRpb25zJTNEJTI3d2FhcmRlbmJ1cmcyMDEzYSUyNyUyOSUzQg==\")));\n",
       "    "
      ],
      "text/plain": [
       "<IPython.core.display.Javascript object>"
      ]
     },
     "metadata": {},
     "output_type": "display_data"
    },
    {
     "data": {
      "application/javascript": [
       "$('span:contains(\"# Temp\")').closest('.cell').remove();"
      ],
      "text/plain": [
       "<IPython.core.display.Javascript object>"
      ]
     },
     "metadata": {},
     "output_type": "display_data"
    },
    {
     "data": {
      "application/javascript": [
       "\n",
       "        $('span:contains(\"# Temp\")').closest('.cell').remove();\n",
       "        var code = IPython.notebook.insert_cell_below('code');\n",
       "        code.set_text(decodeURIComponent(window.atob(\"JTIzJTIwVGVtcCUwQWluc2VydCUyOCUyNyUyNyUyNyUwQWhhYXN0ZXIwYSUyMCUzRCUyMERCJTI4V29ya1VucmVsYXRlZCUyOCUwQSUyMCUyMCUyMCUyMDAlMkMlMjAlMjJTZWFyY2glMjBUaGlzJTIwQmxvZyUyMiUyQyUwQSUyMCUyMCUyMCUyMGRpc3BsYXklM0QlMjJoYWFzdGVyJTIyJTJDJTBBJTIwJTIwJTIwJTIwYXV0aG9ycyUzRCUyMnZhbiUyMEhhYXN0ZXIlMkMlMjBLZWxzZXklMjIlMkMlMEElMjAlMjAlMjAlMjBwbGFjZSUzREZBS0UlMkMlMEElMjAlMjAlMjAlMjBlbnRyeXR5cGUlM0QlMjJhcnRpY2xlJTIyJTJDJTBBJTIwJTIwJTIwJTIwSUQlM0QlMjJ2YW5zZWFyY2glMjIlMkMlMEElMjAlMjAlMjAlMjBwbGFjZXglM0QlMjIlMjIlMkMlMEElMjklMjklMEElMEFEQiUyOENpdGF0aW9uJTI4JTBBJTIwJTIwJTIwJTIwaGFhc3RlcjBhJTJDJTIwd2FhcmRlbmJ1cmcyMDEzYSUyQyUyMHJlZiUzRCUyMiUyMiUyQyUwQSUyMCUyMCUyMCUyMGNvbnRleHRzJTNEJTVCJTBBJTBBJTIwJTIwJTIwJTIwJTVEJTJDJTBBJTI5JTI5JTBBJTBBJTI3JTI3JTI3JTJDJTIwY2l0YXRpb25zJTNEJTI3d2FhcmRlbmJ1cmcyMDEzYSUyNyUyOSUzQg==\")));\n",
       "    "
      ],
      "text/plain": [
       "<IPython.core.display.Javascript object>"
      ]
     },
     "metadata": {},
     "output_type": "display_data"
    },
    {
     "data": {
      "application/javascript": [
       "$('span:contains(\"# Temp\")').closest('.cell').remove();"
      ],
      "text/plain": [
       "<IPython.core.display.Javascript object>"
      ]
     },
     "metadata": {},
     "output_type": "display_data"
    },
    {
     "data": {
      "application/javascript": [
       "\n",
       "        $('span:contains(\"# Temp\")').closest('.cell').remove();\n",
       "        var code = IPython.notebook.insert_cell_below('code');\n",
       "        code.set_text(decodeURIComponent(window.atob(\"JTIzJTIwVGVtcCUwQWluc2VydCUyOCUyNyUyNyUyNyUwQXNhbG9wYWFzaTBhJTIwJTNEJTIwREIlMjhXb3JrVW5yZWxhdGVkJTI4JTBBJTIwJTIwJTIwJTIwMCUyQyUyMCUyMlRIRSUyMFJPTEUlMjBPRiUyMENPTlRJTlVPVVMlMjBJTlRFR1JBVElPTiUyMElOJTIwU09GVFdBUkUlMjBCVVNJTkVTUyUyMiUyQyUwQSUyMCUyMCUyMCUyMGRpc3BsYXklM0QlMjJzYWxvcGFhc2klMjIlMkMlMEElMjAlMjAlMjAlMjBhdXRob3JzJTNEJTIyU2Fsb3BhYXNpJTJDJTIwSGFubmElMjIlMkMlMEElMjAlMjAlMjAlMjBwbGFjZSUzREZBS0UlMkMlMEElMjAlMjAlMjAlMjBlbnRyeXR5cGUlM0QlMjJhcnRpY2xlJTIyJTJDJTBBJTIwJTIwJTIwJTIwSUQlM0QlMjJzYWxvcGFhc2lyb2xlJTIyJTJDJTBBJTIwJTIwJTIwJTIwcGxhY2V4JTNEJTIyJTIyJTJDJTBBJTI5JTI5JTBBJTBBREIlMjhDaXRhdGlvbiUyOCUwQSUyMCUyMCUyMCUyMHNhbG9wYWFzaTBhJTJDJTIwd2FhcmRlbmJ1cmcyMDEzYSUyQyUyMHJlZiUzRCUyMiUyMiUyQyUwQSUyMCUyMCUyMCUyMGNvbnRleHRzJTNEJTVCJTBBJTBBJTIwJTIwJTIwJTIwJTVEJTJDJTBBJTI5JTI5JTBBJTBBJTI3JTI3JTI3JTJDJTIwY2l0YXRpb25zJTNEJTI3d2FhcmRlbmJ1cmcyMDEzYSUyNyUyOSUzQg==\")));\n",
       "    "
      ],
      "text/plain": [
       "<IPython.core.display.Javascript object>"
      ]
     },
     "metadata": {},
     "output_type": "display_data"
    },
    {
     "data": {
      "application/javascript": [
       "$('span:contains(\"# Temp\")').closest('.cell').remove();"
      ],
      "text/plain": [
       "<IPython.core.display.Javascript object>"
      ]
     },
     "metadata": {},
     "output_type": "display_data"
    },
    {
     "data": {
      "application/javascript": [
       "\n",
       "        $('span:contains(\"# Temp\")').closest('.cell').remove();\n",
       "        var code = IPython.notebook.insert_cell_below('code');\n",
       "        code.set_text(decodeURIComponent(window.atob(\"JTIzJTIwVGVtcCUwQWluc2VydCUyOCUyNyUyNyUyNyUwQXNhbG9wYWFzaTBhJTIwJTNEJTIwREIlMjhXb3JrVW5yZWxhdGVkJTI4JTBBJTIwJTIwJTIwJTIwMCUyQyUyMCUyMlRIRSUyMFJPTEUlMjBPRiUyMENPTlRJTlVPVVMlMjBJTlRFR1JBVElPTiUyMElOJTIwU09GVFdBUkUlMjBCVVNJTkVTUyUyMiUyQyUwQSUyMCUyMCUyMCUyMGRpc3BsYXklM0QlMjJzYWxvcGFhc2klMjIlMkMlMEElMjAlMjAlMjAlMjBhdXRob3JzJTNEJTIyU2Fsb3BhYXNpJTJDJTIwSGFubmElMjIlMkMlMEElMjAlMjAlMjAlMjBwbGFjZSUzREZBS0UlMkMlMEElMjAlMjAlMjAlMjBlbnRyeXR5cGUlM0QlMjJhcnRpY2xlJTIyJTJDJTBBJTIwJTIwJTIwJTIwSUQlM0QlMjJzYWxvcGFhc2lyb2xlJTIyJTJDJTBBJTIwJTIwJTIwJTIwcGxhY2V4JTNEJTIyJTIyJTJDJTBBJTI5JTI5JTBBJTBBREIlMjhDaXRhdGlvbiUyOCUwQSUyMCUyMCUyMCUyMHNhbG9wYWFzaTBhJTJDJTIwd2FhcmRlbmJ1cmcyMDEzYSUyQyUyMHJlZiUzRCUyMiUyMiUyQyUwQSUyMCUyMCUyMCUyMGNvbnRleHRzJTNEJTVCJTBBJTBBJTIwJTIwJTIwJTIwJTVEJTJDJTBBJTI5JTI5JTBBJTBBJTI3JTI3JTI3JTJDJTIwY2l0YXRpb25zJTNEJTI3d2FhcmRlbmJ1cmcyMDEzYSUyNyUyOSUzQg==\")));\n",
       "    "
      ],
      "text/plain": [
       "<IPython.core.display.Javascript object>"
      ]
     },
     "metadata": {},
     "output_type": "display_data"
    },
    {
     "data": {
      "application/javascript": [
       "$('span:contains(\"# Temp\")').closest('.cell').remove();"
      ],
      "text/plain": [
       "<IPython.core.display.Javascript object>"
      ]
     },
     "metadata": {},
     "output_type": "display_data"
    },
    {
     "data": {
      "application/javascript": [
       "\n",
       "        $('span:contains(\"# Temp\")').closest('.cell').remove();\n",
       "        var code = IPython.notebook.insert_cell_below('code');\n",
       "        code.set_text(decodeURIComponent(window.atob(\"JTIzJTIwVGVtcCUwQWluc2VydCUyOCUyNyUyNyUyNyUwQWtpbm51bmVuMjAxOGElMjAlM0QlMjBEQiUyOFdvcmtVbnJlbGF0ZWQlMjglMEElMjAlMjAlMjAlMjAyMDE4JTJDJTIwJTIyVG93YXJkcyUyME1lYXN1cmluZyUyMHRoZSUyMEFnaWxpdHklMjBvZiUyMFNvZnR3YXJlJTIwQnVzaW5lc3MlMjIlMkMlMEElMjAlMjAlMjAlMjBkaXNwbGF5JTNEJTIya2lubnVuZW4lMjIlMkMlMEElMjAlMjAlMjAlMjBhdXRob3JzJTNEJTIyS2lubnVuZW4lMkMlMjBIYW5uYSUyMGFuZCUyMEx1b21hJTJDJTIwRWV0dSUyMiUyQyUwQSUyMCUyMCUyMCUyMHBsYWNlJTNERkFLRSUyQyUwQSUyMCUyMCUyMCUyMGVudHJ5dHlwZSUzRCUyMmlucHJvY2VlZGluZ3MlMjIlMkMlMEElMjAlMjAlMjAlMjBvcmdhbml6YXRpb24lM0QlMjJVbml2ZXJzaXR5JTIwb2YlMjBIYXdhaSUyN2klMjBhdCUyME1hbm9hJTIyJTJDJTBBJTIwJTIwJTIwJTIwSUQlM0QlMjJraW5udW5lbjIwMTh0b3dhcmRzJTIyJTJDJTBBJTIwJTIwJTIwJTIwcGxhY2V4JTNEJTIyUHJvY2VlZGluZ3MlMjBvZiUyMHRoZSUyMEFubnVhbCUyMEhhd2FpaSUyMEludGVybmF0aW9uYWwlMjBDb25mZXJlbmNlJTIwb24lMjBTeXN0ZW0lMjBTY2llbmNlcyUzQiUyMiUyQyUwQSUyOSUyOSUwQSUwQURCJTI4Q2l0YXRpb24lMjglMEElMjAlMjAlMjAlMjBraW5udW5lbjIwMThhJTJDJTIwd2FhcmRlbmJ1cmcyMDEzYSUyQyUyMHJlZiUzRCUyMiUyMiUyQyUwQSUyMCUyMCUyMCUyMGNvbnRleHRzJTNEJTVCJTBBJTBBJTIwJTIwJTIwJTIwJTVEJTJDJTBBJTI5JTI5JTBBJTBBJTI3JTI3JTI3JTJDJTIwY2l0YXRpb25zJTNEJTI3d2FhcmRlbmJ1cmcyMDEzYSUyNyUyOSUzQg==\")));\n",
       "    "
      ],
      "text/plain": [
       "<IPython.core.display.Javascript object>"
      ]
     },
     "metadata": {},
     "output_type": "display_data"
    },
    {
     "data": {
      "application/javascript": [
       "$('span:contains(\"# Temp\")').closest('.cell').remove();"
      ],
      "text/plain": [
       "<IPython.core.display.Javascript object>"
      ]
     },
     "metadata": {},
     "output_type": "display_data"
    },
    {
     "data": {
      "application/javascript": [
       "\n",
       "        $('span:contains(\"# Temp\")').closest('.cell').remove();\n",
       "        var code = IPython.notebook.insert_cell_below('code');\n",
       "        code.set_text(decodeURIComponent(window.atob(\"JTIzJTIwVGVtcCUwQWluc2VydCUyOCUyNyUyNyUyNyUwQWtpbm51bmVuMjAxOGElMjAlM0QlMjBEQiUyOFdvcmtVbnJlbGF0ZWQlMjglMEElMjAlMjAlMjAlMjAyMDE4JTJDJTIwJTIyVG93YXJkcyUyME1lYXN1cmluZyUyMHRoZSUyMEFnaWxpdHklMjBvZiUyMFNvZnR3YXJlJTIwQnVzaW5lc3MlMjIlMkMlMEElMjAlMjAlMjAlMjBkaXNwbGF5JTNEJTIya2lubnVuZW4lMjIlMkMlMEElMjAlMjAlMjAlMjBhdXRob3JzJTNEJTIyS2lubnVuZW4lMkMlMjBIYW5uYSUyMGFuZCUyMEx1b21hJTJDJTIwRWV0dSUyMiUyQyUwQSUyMCUyMCUyMCUyMHBsYWNlJTNERkFLRSUyQyUwQSUyMCUyMCUyMCUyMGVudHJ5dHlwZSUzRCUyMmlucHJvY2VlZGluZ3MlMjIlMkMlMEElMjAlMjAlMjAlMjBvcmdhbml6YXRpb24lM0QlMjJVbml2ZXJzaXR5JTIwb2YlMjBIYXdhaSUyN2klMjBhdCUyME1hbm9hJTIyJTJDJTBBJTIwJTIwJTIwJTIwSUQlM0QlMjJraW5udW5lbjIwMTh0b3dhcmRzJTIyJTJDJTBBJTIwJTIwJTIwJTIwcGxhY2V4JTNEJTIyUHJvY2VlZGluZ3MlMjBvZiUyMHRoZSUyMEFubnVhbCUyMEhhd2FpaSUyMEludGVybmF0aW9uYWwlMjBDb25mZXJlbmNlJTIwb24lMjBTeXN0ZW0lMjBTY2llbmNlcyUzQiUyMiUyQyUwQSUyOSUyOSUwQSUwQURCJTI4Q2l0YXRpb24lMjglMEElMjAlMjAlMjAlMjBraW5udW5lbjIwMThhJTJDJTIwd2FhcmRlbmJ1cmcyMDEzYSUyQyUyMHJlZiUzRCUyMiUyMiUyQyUwQSUyMCUyMCUyMCUyMGNvbnRleHRzJTNEJTVCJTBBJTBBJTIwJTIwJTIwJTIwJTVEJTJDJTBBJTI5JTI5JTBBJTBBJTI3JTI3JTI3JTJDJTIwY2l0YXRpb25zJTNEJTI3d2FhcmRlbmJ1cmcyMDEzYSUyNyUyOSUzQg==\")));\n",
       "    "
      ],
      "text/plain": [
       "<IPython.core.display.Javascript object>"
      ]
     },
     "metadata": {},
     "output_type": "display_data"
    },
    {
     "data": {
      "application/javascript": [
       "$('span:contains(\"# Temp\")').closest('.cell').remove();"
      ],
      "text/plain": [
       "<IPython.core.display.Javascript object>"
      ]
     },
     "metadata": {},
     "output_type": "display_data"
    },
    {
     "data": {
      "application/javascript": [
       "\n",
       "        $('span:contains(\"# Temp\")').closest('.cell').remove();\n",
       "        var code = IPython.notebook.insert_cell_below('code');\n",
       "        code.set_text(decodeURIComponent(window.atob(\"JTIzJTIwVGVtcCUwQWluc2VydCUyOCUyNyUyNyUyNyUwQWdhcmJ1bGhvMGElMjAlM0QlMjBEQiUyOFdvcmtVbnJlbGF0ZWQlMjglMEElMjAlMjAlMjAlMjAwJTJDJTIwJTIyQXZhbGlhbmRvJTIwbyUyMGltcGFjdG8lMjBkYSUyMGVzdHJhdCVDMyVBOWdpYSUyMGRlJTIwZGVzaWduJTIwZW0lMjBuZWclQzMlQjNjaW9zJTIwZGlnaXRhaXMuJTIyJTJDJTBBJTIwJTIwJTIwJTIwZGlzcGxheSUzRCUyMmdhcmJ1bGhvJTIyJTJDJTBBJTIwJTIwJTIwJTIwYXV0aG9ycyUzRCUyMkdhcmJ1bGhvJTJDJTIwR2FicmllbCUyMFNhbnRvcyUyMiUyQyUwQSUyMCUyMCUyMCUyMHBsYWNlJTNEVGhlc2lzJTJDJTBBJTIwJTIwJTIwJTIwZW50cnl0eXBlJTNEJTIycGhkdGhlc2lzJTIyJTJDJTBBJTIwJTIwJTIwJTIwSUQlM0QlMjJnYXJidWxob2F2YWxpYW5kbyUyMiUyQyUwQSUyMCUyMCUyMCUyMGxvY2FsJTNEJTIyVW5pdmVyc2lkYWRlJTIwZGUlMjBTJUMzJUEzbyUyMFBhdWxvJTIyJTJDJTBBJTIwJTIwJTIwJTIwcGxhY2V4JTNEJTIyJTIyJTJDJTBBJTI5JTI5JTBBJTBBREIlMjhDaXRhdGlvbiUyOCUwQSUyMCUyMCUyMCUyMGdhcmJ1bGhvMGElMkMlMjB3YWFyZGVuYnVyZzIwMTNhJTJDJTIwcmVmJTNEJTIyJTIyJTJDJTBBJTIwJTIwJTIwJTIwY29udGV4dHMlM0QlNUIlMEElMEElMjAlMjAlMjAlMjAlNUQlMkMlMEElMjklMjklMEElMEElMjclMjclMjclMkMlMjBjaXRhdGlvbnMlM0QlMjd3YWFyZGVuYnVyZzIwMTNhJTI3JTI5JTNC\")));\n",
       "    "
      ],
      "text/plain": [
       "<IPython.core.display.Javascript object>"
      ]
     },
     "metadata": {},
     "output_type": "display_data"
    },
    {
     "data": {
      "application/javascript": [
       "$('span:contains(\"# Temp\")').closest('.cell').remove();"
      ],
      "text/plain": [
       "<IPython.core.display.Javascript object>"
      ]
     },
     "metadata": {},
     "output_type": "display_data"
    },
    {
     "data": {
      "application/javascript": [
       "\n",
       "        $('span:contains(\"# Temp\")').closest('.cell').remove();\n",
       "        var code = IPython.notebook.insert_cell_below('code');\n",
       "        code.set_text(decodeURIComponent(window.atob(\"JTIzJTIwVGVtcCUwQWluc2VydCUyOCUyNyUyNyUyNyUwQWdhcmJ1bGhvMGElMjAlM0QlMjBEQiUyOFdvcmtVbnJlbGF0ZWQlMjglMEElMjAlMjAlMjAlMjAwJTJDJTIwJTIyQXZhbGlhbmRvJTIwbyUyMGltcGFjdG8lMjBkYSUyMGVzdHJhdCVDMyVBOWdpYSUyMGRlJTIwZGVzaWduJTIwZW0lMjBuZWclQzMlQjNjaW9zJTIwZGlnaXRhaXMuJTIyJTJDJTBBJTIwJTIwJTIwJTIwZGlzcGxheSUzRCUyMmdhcmJ1bGhvJTIyJTJDJTBBJTIwJTIwJTIwJTIwYXV0aG9ycyUzRCUyMkdhcmJ1bGhvJTJDJTIwR2FicmllbCUyMFNhbnRvcyUyMiUyQyUwQSUyMCUyMCUyMCUyMHBsYWNlJTNEVGhlc2lzJTJDJTBBJTIwJTIwJTIwJTIwZW50cnl0eXBlJTNEJTIycGhkdGhlc2lzJTIyJTJDJTBBJTIwJTIwJTIwJTIwSUQlM0QlMjJnYXJidWxob2F2YWxpYW5kbyUyMiUyQyUwQSUyMCUyMCUyMCUyMGxvY2FsJTNEJTIyVW5pdmVyc2lkYWRlJTIwZGUlMjBTJUMzJUEzbyUyMFBhdWxvJTIyJTJDJTBBJTIwJTIwJTIwJTIwcGxhY2V4JTNEJTIyJTIyJTJDJTBBJTI5JTI5JTBBJTBBREIlMjhDaXRhdGlvbiUyOCUwQSUyMCUyMCUyMCUyMGdhcmJ1bGhvMGElMkMlMjB3YWFyZGVuYnVyZzIwMTNhJTJDJTIwcmVmJTNEJTIyJTIyJTJDJTBBJTIwJTIwJTIwJTIwY29udGV4dHMlM0QlNUIlMEElMEElMjAlMjAlMjAlMjAlNUQlMkMlMEElMjklMjklMEElMEElMjclMjclMjclMkMlMjBjaXRhdGlvbnMlM0QlMjd3YWFyZGVuYnVyZzIwMTNhJTI3JTI5JTNC\")));\n",
       "    "
      ],
      "text/plain": [
       "<IPython.core.display.Javascript object>"
      ]
     },
     "metadata": {},
     "output_type": "display_data"
    },
    {
     "data": {
      "application/javascript": [
       "$('span:contains(\"# Temp\")').closest('.cell').remove();"
      ],
      "text/plain": [
       "<IPython.core.display.Javascript object>"
      ]
     },
     "metadata": {},
     "output_type": "display_data"
    },
    {
     "data": {
      "application/javascript": [
       "\n",
       "        $('span:contains(\"# Temp\")').closest('.cell').remove();\n",
       "        var code = IPython.notebook.insert_cell_below('code');\n",
       "        code.set_text(decodeURIComponent(window.atob(\"JTIzJTIwVGVtcCUwQWluc2VydCUyOCUyNyUyNyUyNyUwQW5vcmJlcmcyMDE2YSUyMCUzRCUyMERCJTI4V29ya1VucmVsYXRlZCUyOCUwQSUyMCUyMCUyMCUyMDIwMTYlMkMlMjAlMjJBZ2lsJTIwVXBwc2thbG5pbmclMjBmJUMzJUI2ciUyMERpc3RyaWJ1ZXJhZGUlMjBTY3J1bSUyMFRlYW0lM0ElMjBFbiUyMGZhbGxzdHVkaWUlMjBvbSUyMGFnaWwlMjB1cHBza2FsbmluZyUyMHV0ZiVDMyVCNnJkJTIwaG9zJTIwTm9yZGVhJTIwRGlnaXRhbCUyMEJhbmtpbmclMjIlMkMlMEElMjAlMjAlMjAlMjBkaXNwbGF5JTNEJTIybm9yYmVyZyUyMiUyQyUwQSUyMCUyMCUyMCUyMGF1dGhvcnMlM0QlMjJOb3JiZXJnJTJDJTIwRnJlZHJpayUyMiUyQyUwQSUyMCUyMCUyMCUyMHBsYWNlJTNERkFLRSUyQyUwQSUyMCUyMCUyMCUyMGVudHJ5dHlwZSUzRCUyMm1pc2MlMjIlMkMlMEElMjAlMjAlMjAlMjBJRCUzRCUyMm5vcmJlcmcyMDE2YWdpbCUyMiUyQyUwQSUyMCUyMCUyMCUyMHBsYWNleCUzRCUyMiUyMiUyQyUwQSUyOSUyOSUwQSUwQURCJTI4Q2l0YXRpb24lMjglMEElMjAlMjAlMjAlMjBub3JiZXJnMjAxNmElMkMlMjB3YWFyZGVuYnVyZzIwMTNhJTJDJTIwcmVmJTNEJTIyJTIyJTJDJTBBJTIwJTIwJTIwJTIwY29udGV4dHMlM0QlNUIlMEElMEElMjAlMjAlMjAlMjAlNUQlMkMlMEElMjklMjklMEElMEElMjclMjclMjclMkMlMjBjaXRhdGlvbnMlM0QlMjd3YWFyZGVuYnVyZzIwMTNhJTI3JTI5JTNC\")));\n",
       "    "
      ],
      "text/plain": [
       "<IPython.core.display.Javascript object>"
      ]
     },
     "metadata": {},
     "output_type": "display_data"
    },
    {
     "data": {
      "application/javascript": [
       "$('span:contains(\"# Temp\")').closest('.cell').remove();"
      ],
      "text/plain": [
       "<IPython.core.display.Javascript object>"
      ]
     },
     "metadata": {},
     "output_type": "display_data"
    },
    {
     "data": {
      "application/javascript": [
       "\n",
       "        $('span:contains(\"# Temp\")').closest('.cell').remove();\n",
       "        var code = IPython.notebook.insert_cell_below('code');\n",
       "        code.set_text(decodeURIComponent(window.atob(\"JTIzJTIwVGVtcCUwQWluc2VydCUyOCUyNyUyNyUyNyUwQW5vcmJlcmcyMDE2YSUyMCUzRCUyMERCJTI4V29ya1VucmVsYXRlZCUyOCUwQSUyMCUyMCUyMCUyMDIwMTYlMkMlMjAlMjJBZ2lsJTIwVXBwc2thbG5pbmclMjBmJUMzJUI2ciUyMERpc3RyaWJ1ZXJhZGUlMjBTY3J1bSUyMFRlYW0lM0ElMjBFbiUyMGZhbGxzdHVkaWUlMjBvbSUyMGFnaWwlMjB1cHBza2FsbmluZyUyMHV0ZiVDMyVCNnJkJTIwaG9zJTIwTm9yZGVhJTIwRGlnaXRhbCUyMEJhbmtpbmclMjIlMkMlMEElMjAlMjAlMjAlMjBkaXNwbGF5JTNEJTIybm9yYmVyZyUyMiUyQyUwQSUyMCUyMCUyMCUyMGF1dGhvcnMlM0QlMjJOb3JiZXJnJTJDJTIwRnJlZHJpayUyMiUyQyUwQSUyMCUyMCUyMCUyMHBsYWNlJTNERkFLRSUyQyUwQSUyMCUyMCUyMCUyMGVudHJ5dHlwZSUzRCUyMm1pc2MlMjIlMkMlMEElMjAlMjAlMjAlMjBJRCUzRCUyMm5vcmJlcmcyMDE2YWdpbCUyMiUyQyUwQSUyMCUyMCUyMCUyMHBsYWNleCUzRCUyMiUyMiUyQyUwQSUyOSUyOSUwQSUwQURCJTI4Q2l0YXRpb24lMjglMEElMjAlMjAlMjAlMjBub3JiZXJnMjAxNmElMkMlMjB3YWFyZGVuYnVyZzIwMTNhJTJDJTIwcmVmJTNEJTIyJTIyJTJDJTBBJTIwJTIwJTIwJTIwY29udGV4dHMlM0QlNUIlMEElMEElMjAlMjAlMjAlMjAlNUQlMkMlMEElMjklMjklMEElMEElMjclMjclMjclMkMlMjBjaXRhdGlvbnMlM0QlMjd3YWFyZGVuYnVyZzIwMTNhJTI3JTI5JTNC\")));\n",
       "    "
      ],
      "text/plain": [
       "<IPython.core.display.Javascript object>"
      ]
     },
     "metadata": {},
     "output_type": "display_data"
    },
    {
     "data": {
      "application/javascript": [
       "$('span:contains(\"# Temp\")').closest('.cell').remove();"
      ],
      "text/plain": [
       "<IPython.core.display.Javascript object>"
      ]
     },
     "metadata": {},
     "output_type": "display_data"
    },
    {
     "data": {
      "application/javascript": [
       "\n",
       "        $('span:contains(\"# Temp\")').closest('.cell').remove();\n",
       "        var code = IPython.notebook.insert_cell_below('code');\n",
       "        code.set_text(decodeURIComponent(window.atob(\"JTIzJTIwVGVtcCUwQWluc2VydCUyOCUyNyUyNyUyNyUwQWxldXIyMDE2YSUyMCUzRCUyMERCJTI4V29ya1VucmVsYXRlZCUyOCUwQSUyMCUyMCUyMCUyMDIwMTYlMkMlMjAlMjJEZSUyMGJvdHNpbmclMjB0dXNzZW4lMjBBZ2lsZSUyMGVuJTIwdHJhZGl0aW9uZWxlJTIwb250d2lra2VsbWV0aG9kZW4uJTIwUmlzaWNvJUUyJTgwJTk5cyUyMGVuJTIwcHJvYmxlbWVuJTIwb3AlMjBoZXQlMjByYWFrdmxhayUyMHZhbiUyMEFnaWxlJTIwZW4lMjB0cmFkaXRpb25lbGUlMjBvbnR3aWtrZWxtZXRob2RlbiUyMGluJTIwaHlicmlkZSUyMG9yZ2FuaXNhdGllcy4lMjIlMkMlMEElMjAlMjAlMjAlMjBkaXNwbGF5JTNEJTIybGV1ciUyMiUyQyUwQSUyMCUyMCUyMCUyMGF1dGhvcnMlM0QlMjJMZXVyJTJDJTIwWW91cmklMjB2YW4lMjBkZSUyMiUyQyUwQSUyMCUyMCUyMCUyMHBsYWNlJTNEVGhlc2lzJTJDJTBBJTIwJTIwJTIwJTIwZW50cnl0eXBlJTNEJTIybWFzdGVyc3RoZXNpcyUyMiUyQyUwQSUyMCUyMCUyMCUyMElEJTNEJTIybGV1cjIwMTZib3RzaW5nJTIyJTJDJTBBJTIwJTIwJTIwJTIwbG9jYWwlM0QlMjJPcGVuJTIwVW5pdmVyc2l0ZWl0JTIwTmVkZXJsYW5kJTIyJTJDJTBBJTIwJTIwJTIwJTIwcGxhY2V4JTNEJTIyJTIyJTJDJTBBJTI5JTI5JTBBJTBBREIlMjhDaXRhdGlvbiUyOCUwQSUyMCUyMCUyMCUyMGxldXIyMDE2YSUyQyUyMHdhYXJkZW5idXJnMjAxM2ElMkMlMjByZWYlM0QlMjIlMjIlMkMlMEElMjAlMjAlMjAlMjBjb250ZXh0cyUzRCU1QiUwQSUwQSUyMCUyMCUyMCUyMCU1RCUyQyUwQSUyOSUyOSUwQSUwQSUyNyUyNyUyNyUyQyUyMGNpdGF0aW9ucyUzRCUyN3dhYXJkZW5idXJnMjAxM2ElMjclMjklM0I=\")));\n",
       "    "
      ],
      "text/plain": [
       "<IPython.core.display.Javascript object>"
      ]
     },
     "metadata": {},
     "output_type": "display_data"
    },
    {
     "data": {
      "application/javascript": [
       "$('span:contains(\"# Temp\")').closest('.cell').remove();"
      ],
      "text/plain": [
       "<IPython.core.display.Javascript object>"
      ]
     },
     "metadata": {},
     "output_type": "display_data"
    },
    {
     "data": {
      "application/javascript": [
       "\n",
       "        $('span:contains(\"# Temp\")').closest('.cell').remove();\n",
       "        var code = IPython.notebook.insert_cell_below('code');\n",
       "        code.set_text(decodeURIComponent(window.atob(\"JTIzJTIwVGVtcCUwQWluc2VydCUyOCUyNyUyNyUyNyUwQWxldXIyMDE2YSUyMCUzRCUyMERCJTI4V29ya1VucmVsYXRlZCUyOCUwQSUyMCUyMCUyMCUyMDIwMTYlMkMlMjAlMjJEZSUyMGJvdHNpbmclMjB0dXNzZW4lMjBBZ2lsZSUyMGVuJTIwdHJhZGl0aW9uZWxlJTIwb250d2lra2VsbWV0aG9kZW4uJTIwUmlzaWNvJUUyJTgwJTk5cyUyMGVuJTIwcHJvYmxlbWVuJTIwb3AlMjBoZXQlMjByYWFrdmxhayUyMHZhbiUyMEFnaWxlJTIwZW4lMjB0cmFkaXRpb25lbGUlMjBvbnR3aWtrZWxtZXRob2RlbiUyMGluJTIwaHlicmlkZSUyMG9yZ2FuaXNhdGllcy4lMjIlMkMlMEElMjAlMjAlMjAlMjBkaXNwbGF5JTNEJTIybGV1ciUyMiUyQyUwQSUyMCUyMCUyMCUyMGF1dGhvcnMlM0QlMjJMZXVyJTJDJTIwWW91cmklMjB2YW4lMjBkZSUyMiUyQyUwQSUyMCUyMCUyMCUyMHBsYWNlJTNEVGhlc2lzJTJDJTBBJTIwJTIwJTIwJTIwZW50cnl0eXBlJTNEJTIybWFzdGVyc3RoZXNpcyUyMiUyQyUwQSUyMCUyMCUyMCUyMElEJTNEJTIybGV1cjIwMTZib3RzaW5nJTIyJTJDJTBBJTIwJTIwJTIwJTIwbG9jYWwlM0QlMjJPcGVuJTIwVW5pdmVyc2l0ZWl0JTIwTmVkZXJsYW5kJTIyJTJDJTBBJTIwJTIwJTIwJTIwcGxhY2V4JTNEJTIyJTIyJTJDJTBBJTI5JTI5JTBBJTBBREIlMjhDaXRhdGlvbiUyOCUwQSUyMCUyMCUyMCUyMGxldXIyMDE2YSUyQyUyMHdhYXJkZW5idXJnMjAxM2ElMkMlMjByZWYlM0QlMjIlMjIlMkMlMEElMjAlMjAlMjAlMjBjb250ZXh0cyUzRCU1QiUwQSUwQSUyMCUyMCUyMCUyMCU1RCUyQyUwQSUyOSUyOSUwQSUwQSUyNyUyNyUyNyUyQyUyMGNpdGF0aW9ucyUzRCUyN3dhYXJkZW5idXJnMjAxM2ElMjclMjklM0I=\")));\n",
       "    "
      ],
      "text/plain": [
       "<IPython.core.display.Javascript object>"
      ]
     },
     "metadata": {},
     "output_type": "display_data"
    },
    {
     "data": {
      "application/javascript": [
       "$('span:contains(\"# Temp\")').closest('.cell').remove();"
      ],
      "text/plain": [
       "<IPython.core.display.Javascript object>"
      ]
     },
     "metadata": {},
     "output_type": "display_data"
    },
    {
     "data": {
      "application/javascript": [
       "\n",
       "        $('span:contains(\"# Temp\")').closest('.cell').remove();\n",
       "        var code = IPython.notebook.insert_cell_below('code');\n",
       "        code.set_text(decodeURIComponent(window.atob(\"JTIzJTIwVGVtcCUwQWluc2VydCUyOCUyNyUyNyUyNyUwQWFzc2lzMjAxN2ElMjAlM0QlMjBEQiUyOFdvcmtVbnJlbGF0ZWQlMjglMEElMjAlMjAlMjAlMjAyMDE3JTJDJTIwJTIyQXMlMjBEaWZpY3VsZGFkZXMlMjBuYSUyMEFkbyU3QiVDMyVBNyU3RCVDMyVBM28lMjBlJTIwVXNvJTIwZGUlMjBNJUMzJUE5dG9kbyUyMFNjcnVtJTIwZW0lMjBFbXByZXNhcyUyMEJyYXNpbGVpcmFzJTIwVXRpbGl6YW5kbyUyMFByb2Nlc3NvcyUyMFBsYW4tRHJpdmVuJTNBJTIwRXN0dWRvJTIwZGUlMjBDYXNvJTIwTSVDMyVCQWx0aXBsbyUyMiUyQyUwQSUyMCUyMCUyMCUyMGRpc3BsYXklM0QlMjJhc3NpcyUyMiUyQyUwQSUyMCUyMCUyMCUyMGF1dGhvcnMlM0QlMjJkZSUyMEFzc2lzJTJDJTIwRGFuaWVsJTIwTWVkZWlyb3MlMjBhbmQlMjBMYXJpZWlyYSUyQyUyMENsJUMzJUExdWRpbyUyMEx1aXMlMjBDYXJ2YWxobyUyMGFuZCUyMENvc3RhJTJDJTIwSXZhbmlyJTIyJTJDJTBBJTIwJTIwJTIwJTIwcGxhY2UlM0RGQUtFJTJDJTBBJTIwJTIwJTIwJTIwcHAlM0QlMjI2Ni0tNzklMjIlMkMlMEElMjAlMjAlMjAlMjBlbnRyeXR5cGUlM0QlMjJhcnRpY2xlJTIyJTJDJTBBJTIwJTIwJTIwJTIwdm9sdW1lJTNEJTIyOCUyMiUyQyUwQSUyMCUyMCUyMCUyMG51bWJlciUzRCUyMjMlMjIlMkMlMEElMjAlMjAlMjAlMjBJRCUzRCUyMmRlMjAxN2RpZmljdWxkYWRlcyUyMiUyQyUwQSUyMCUyMCUyMCUyMHBsYWNleCUzRCUyMlJldmlzdGElMjBkZSUyMEdlc3QlQzMlQTNvJTIwZSUyMFByb2pldG9zLUdlUCUyMiUyQyUwQSUyOSUyOSUwQSUwQURCJTI4Q2l0YXRpb24lMjglMEElMjAlMjAlMjAlMjBhc3NpczIwMTdhJTJDJTIwd2FhcmRlbmJ1cmcyMDEzYSUyQyUyMHJlZiUzRCUyMiUyMiUyQyUwQSUyMCUyMCUyMCUyMGNvbnRleHRzJTNEJTVCJTBBJTBBJTIwJTIwJTIwJTIwJTVEJTJDJTBBJTI5JTI5JTBBJTBBJTI3JTI3JTI3JTJDJTIwY2l0YXRpb25zJTNEJTI3d2FhcmRlbmJ1cmcyMDEzYSUyNyUyOSUzQg==\")));\n",
       "    "
      ],
      "text/plain": [
       "<IPython.core.display.Javascript object>"
      ]
     },
     "metadata": {},
     "output_type": "display_data"
    },
    {
     "data": {
      "application/javascript": [
       "$('span:contains(\"# Temp\")').closest('.cell').remove();"
      ],
      "text/plain": [
       "<IPython.core.display.Javascript object>"
      ]
     },
     "metadata": {},
     "output_type": "display_data"
    },
    {
     "data": {
      "application/javascript": [
       "\n",
       "        $('span:contains(\"# Temp\")').closest('.cell').remove();\n",
       "        var code = IPython.notebook.insert_cell_below('code');\n",
       "        code.set_text(decodeURIComponent(window.atob(\"JTIzJTIwVGVtcCUwQWluc2VydCUyOCUyNyUyNyUyNyUwQXJvc2x1bmQyMDE1YSUyMCUzRCUyMERCJTI4V29ya1VucmVsYXRlZCUyOCUwQSUyMCUyMCUyMCUyMDIwMTUlMkMlMjAlMjJPcmdhbmlzYWF0aW9uJTIwc2lzJUMzJUE0aXN0ZW4lMjB0aWxhbm5ldGVraWolQzMlQjZpZGVuJTIwdmFpa3V0dWtzZXQlMjB0aWV0b2olQzMlQTRyamVzdGVsbWllbiUyMGtlaGl0eXNtZW5ldGVsbWllbiUyMHZhbGludGFhbiUyMiUyQyUwQSUyMCUyMCUyMCUyMGRpc3BsYXklM0QlMjJyb3NsdW5kJTIyJTJDJTBBJTIwJTIwJTIwJTIwYXV0aG9ycyUzRCUyMlJvc2x1bmQlMkMlMjBNYXJrdXMlMjIlMkMlMEElMjAlMjAlMjAlMjBwbGFjZSUzREZBS0UlMkMlMEElMjAlMjAlMjAlMjBlbnRyeXR5cGUlM0QlMjJhcnRpY2xlJTIyJTJDJTBBJTIwJTIwJTIwJTIwSUQlM0QlMjJyb3NsdW5kMjAxNW9yZ2FuaXNhYXRpb24lMjIlMkMlMEElMjAlMjAlMjAlMjBwbGFjZXglM0QlMjIlMjIlMkMlMEElMjklMjklMEElMEFEQiUyOENpdGF0aW9uJTI4JTBBJTIwJTIwJTIwJTIwcm9zbHVuZDIwMTVhJTJDJTIwd2FhcmRlbmJ1cmcyMDEzYSUyQyUyMHJlZiUzRCUyMiUyMiUyQyUwQSUyMCUyMCUyMCUyMGNvbnRleHRzJTNEJTVCJTBBJTBBJTIwJTIwJTIwJTIwJTVEJTJDJTBBJTI5JTI5JTBBJTBBJTI3JTI3JTI3JTJDJTIwY2l0YXRpb25zJTNEJTI3d2FhcmRlbmJ1cmcyMDEzYSUyNyUyOSUzQg==\")));\n",
       "    "
      ],
      "text/plain": [
       "<IPython.core.display.Javascript object>"
      ]
     },
     "metadata": {},
     "output_type": "display_data"
    },
    {
     "data": {
      "application/javascript": [
       "$('span:contains(\"# Temp\")').closest('.cell').remove();"
      ],
      "text/plain": [
       "<IPython.core.display.Javascript object>"
      ]
     },
     "metadata": {},
     "output_type": "display_data"
    },
    {
     "data": {
      "application/javascript": [
       "\n",
       "        $('span:contains(\"# Temp\")').closest('.cell').remove();\n",
       "        var code = IPython.notebook.insert_cell_below('code');\n",
       "        code.set_text(decodeURIComponent(window.atob(\"JTIzJTIwVGVtcCUwQWluc2VydCUyOCUyNyUyNyUyNyUwQXJvc2x1bmQyMDE1YSUyMCUzRCUyMERCJTI4V29ya1VucmVsYXRlZCUyOCUwQSUyMCUyMCUyMCUyMDIwMTUlMkMlMjAlMjJPcmdhbmlzYWF0aW9uJTIwc2lzJUMzJUE0aXN0ZW4lMjB0aWxhbm5ldGVraWolQzMlQjZpZGVuJTIwdmFpa3V0dWtzZXQlMjB0aWV0b2olQzMlQTRyamVzdGVsbWllbiUyMGtlaGl0eXNtZW5ldGVsbWllbiUyMHZhbGludGFhbiUyMiUyQyUwQSUyMCUyMCUyMCUyMGRpc3BsYXklM0QlMjJyb3NsdW5kJTIyJTJDJTBBJTIwJTIwJTIwJTIwYXV0aG9ycyUzRCUyMlJvc2x1bmQlMkMlMjBNYXJrdXMlMjIlMkMlMEElMjAlMjAlMjAlMjBwbGFjZSUzREZBS0UlMkMlMEElMjAlMjAlMjAlMjBlbnRyeXR5cGUlM0QlMjJhcnRpY2xlJTIyJTJDJTBBJTIwJTIwJTIwJTIwSUQlM0QlMjJyb3NsdW5kMjAxNW9yZ2FuaXNhYXRpb24lMjIlMkMlMEElMjAlMjAlMjAlMjBwbGFjZXglM0QlMjIlMjIlMkMlMEElMjklMjklMEElMEFEQiUyOENpdGF0aW9uJTI4JTBBJTIwJTIwJTIwJTIwcm9zbHVuZDIwMTVhJTJDJTIwd2FhcmRlbmJ1cmcyMDEzYSUyQyUyMHJlZiUzRCUyMiUyMiUyQyUwQSUyMCUyMCUyMCUyMGNvbnRleHRzJTNEJTVCJTBBJTBBJTIwJTIwJTIwJTIwJTVEJTJDJTBBJTI5JTI5JTBBJTBBJTI3JTI3JTI3JTJDJTIwY2l0YXRpb25zJTNEJTI3d2FhcmRlbmJ1cmcyMDEzYSUyNyUyOSUzQg==\")));\n",
       "    "
      ],
      "text/plain": [
       "<IPython.core.display.Javascript object>"
      ]
     },
     "metadata": {},
     "output_type": "display_data"
    },
    {
     "data": {
      "application/javascript": [
       "$('span:contains(\"# Temp\")').closest('.cell').remove();"
      ],
      "text/plain": [
       "<IPython.core.display.Javascript object>"
      ]
     },
     "metadata": {},
     "output_type": "display_data"
    },
    {
     "data": {
      "application/javascript": [
       "\n",
       "        $('span:contains(\"# Temp\")').closest('.cell').remove();\n",
       "        var code = IPython.notebook.insert_cell_below('code');\n",
       "        code.set_text(decodeURIComponent(window.atob(\"JTIzJTIwVGVtcCUwQWluc2VydCUyOCUyNyUyNyUyNyUwQWolQzMlQTRydmkyMDE4YSUyMCUzRCUyMERCJTI4V29ya1VucmVsYXRlZCUyOCUwQSUyMCUyMCUyMCUyMDIwMTglMkMlMjAlMjJLZXR0ZXIlQzMlQTRuJTIwb2hqZWxtaXN0b2tlaGl0eWtzZW4lMjBtZW5lc3R5c3Rla2lqJUMzJUE0dCUyMiUyQyUwQSUyMCUyMCUyMCUyMGRpc3BsYXklM0QlMjJqJUMzJUE0cnZpJTIyJTJDJTBBJTIwJTIwJTIwJTIwYXV0aG9ycyUzRCUyMkolQzMlQTRydmklMkMlMjBKdXVzbyUyMiUyQyUwQSUyMCUyMCUyMCUyMHBsYWNlJTNERkFLRSUyQyUwQSUyMCUyMCUyMCUyMGVudHJ5dHlwZSUzRCUyMmFydGljbGUlMjIlMkMlMEElMjAlMjAlMjAlMjBJRCUzRCUyMmphcnZpMjAxOGtldHRlcmFuJTIyJTJDJTBBJTIwJTIwJTIwJTIwcGxhY2V4JTNEJTIyJTIyJTJDJTBBJTI5JTI5JTBBJTBBREIlMjhDaXRhdGlvbiUyOCUwQSUyMCUyMCUyMCUyMGolQzMlQTRydmkyMDE4YSUyQyUyMHdhYXJkZW5idXJnMjAxM2ElMkMlMjByZWYlM0QlMjIlMjIlMkMlMEElMjAlMjAlMjAlMjBjb250ZXh0cyUzRCU1QiUwQSUwQSUyMCUyMCUyMCUyMCU1RCUyQyUwQSUyOSUyOSUwQSUwQSUyNyUyNyUyNyUyQyUyMGNpdGF0aW9ucyUzRCUyN3dhYXJkZW5idXJnMjAxM2ElMjclMjklM0I=\")));\n",
       "    "
      ],
      "text/plain": [
       "<IPython.core.display.Javascript object>"
      ]
     },
     "metadata": {},
     "output_type": "display_data"
    },
    {
     "data": {
      "application/javascript": [
       "$('span:contains(\"# Temp\")').closest('.cell').remove();"
      ],
      "text/plain": [
       "<IPython.core.display.Javascript object>"
      ]
     },
     "metadata": {},
     "output_type": "display_data"
    },
    {
     "data": {
      "application/javascript": [
       "\n",
       "        $('span:contains(\"# Temp\")').closest('.cell').remove();\n",
       "        var code = IPython.notebook.insert_cell_below('code');\n",
       "        code.set_text(decodeURIComponent(window.atob(\"JTIzJTIwVGVtcCUwQWluc2VydCUyOCUyNyUyNyUyNyUwQWolQzMlQTRydmkyMDE4YSUyMCUzRCUyMERCJTI4V29ya1VucmVsYXRlZCUyOCUwQSUyMCUyMCUyMCUyMDIwMTglMkMlMjAlMjJLZXR0ZXIlQzMlQTRuJTIwb2hqZWxtaXN0b2tlaGl0eWtzZW4lMjBtZW5lc3R5c3Rla2lqJUMzJUE0dCUyMiUyQyUwQSUyMCUyMCUyMCUyMGRpc3BsYXklM0QlMjJqJUMzJUE0cnZpJTIyJTJDJTBBJTIwJTIwJTIwJTIwYXV0aG9ycyUzRCUyMkolQzMlQTRydmklMkMlMjBKdXVzbyUyMiUyQyUwQSUyMCUyMCUyMCUyMHBsYWNlJTNERkFLRSUyQyUwQSUyMCUyMCUyMCUyMGVudHJ5dHlwZSUzRCUyMmFydGljbGUlMjIlMkMlMEElMjAlMjAlMjAlMjBJRCUzRCUyMmphcnZpMjAxOGtldHRlcmFuJTIyJTJDJTBBJTIwJTIwJTIwJTIwcGxhY2V4JTNEJTIyJTIyJTJDJTBBJTI5JTI5JTBBJTBBREIlMjhDaXRhdGlvbiUyOCUwQSUyMCUyMCUyMCUyMGolQzMlQTRydmkyMDE4YSUyQyUyMHdhYXJkZW5idXJnMjAxM2ElMkMlMjByZWYlM0QlMjIlMjIlMkMlMEElMjAlMjAlMjAlMjBjb250ZXh0cyUzRCU1QiUwQSUwQSUyMCUyMCUyMCUyMCU1RCUyQyUwQSUyOSUyOSUwQSUwQSUyNyUyNyUyNyUyQyUyMGNpdGF0aW9ucyUzRCUyN3dhYXJkZW5idXJnMjAxM2ElMjclMjklM0I=\")));\n",
       "    "
      ],
      "text/plain": [
       "<IPython.core.display.Javascript object>"
      ]
     },
     "metadata": {},
     "output_type": "display_data"
    },
    {
     "data": {
      "application/javascript": [
       "$('span:contains(\"# Temp\")').closest('.cell').remove();"
      ],
      "text/plain": [
       "<IPython.core.display.Javascript object>"
      ]
     },
     "metadata": {},
     "output_type": "display_data"
    },
    {
     "data": {
      "application/javascript": [
       "\n",
       "        $('span:contains(\"# Temp\")').closest('.cell').remove();\n",
       "        var code = IPython.notebook.insert_cell_below('code');\n",
       "        code.set_text(decodeURIComponent(window.atob(\"JTIzJTIwVGVtcCUwQWluc2VydCUyOCUyNyUyNyUyNyUwQWdlbmNlcjBhJTIwJTNEJTIwREIlMjhXb3JrVW5yZWxhdGVkJTI4JTBBJTIwJTIwJTIwJTIwMCUyQyUyMCUyMllheiVDNCVCMWwlQzQlQjFtJTIwUHJvamUlMjBZJUMzJUI2bmV0aW1pJTNBJTIwJTdCJUM1JTlFJTdEZWxhbGUlMjBNb2RlbGklMjB2ZSUyMCU3QiVDMyU4NyU3RGV2aWslMjBZJUMzJUI2bnRlbWxlcmluJTIwS2FyJTdCJUM1JTlGJTdEJUM0JUIxbGElN0IlQzUlOUYlN0R0JUM0JUIxciVDNCVCMWxtYXMlQzQlQjElMjIlMkMlMEElMjAlMjAlMjAlMjBkaXNwbGF5JTNEJTIyZ2VuY2VyJTIyJTJDJTBBJTIwJTIwJTIwJTIwYXV0aG9ycyUzRCUyMkdFTkNFUiUyQyUyMENldnJpeWUlMjBhbmQlMjBLQVlBQ0FOJTJDJTIwQWxpJTIyJTJDJTBBJTIwJTIwJTIwJTIwcGxhY2UlM0RGQUtFJTJDJTBBJTIwJTIwJTIwJTIwZW50cnl0eXBlJTNEJTIyYXJ0aWNsZSUyMiUyQyUwQSUyMCUyMCUyMCUyMElEJTNEJTIyZ2VuY2VyMTB5YXppbGltJTIyJTJDJTBBJTIwJTIwJTIwJTIwcGxhY2V4JTNEJTIyJTIyJTJDJTBBJTI5JTI5JTBBJTBBREIlMjhDaXRhdGlvbiUyOCUwQSUyMCUyMCUyMCUyMGdlbmNlcjBhJTJDJTIwd2FhcmRlbmJ1cmcyMDEzYSUyQyUyMHJlZiUzRCUyMiUyMiUyQyUwQSUyMCUyMCUyMCUyMGNvbnRleHRzJTNEJTVCJTBBJTBBJTIwJTIwJTIwJTIwJTVEJTJDJTBBJTI5JTI5JTBBJTBBJTI3JTI3JTI3JTJDJTIwY2l0YXRpb25zJTNEJTI3d2FhcmRlbmJ1cmcyMDEzYSUyNyUyOSUzQg==\")));\n",
       "    "
      ],
      "text/plain": [
       "<IPython.core.display.Javascript object>"
      ]
     },
     "metadata": {},
     "output_type": "display_data"
    },
    {
     "data": {
      "application/javascript": [
       "$('span:contains(\"# Temp\")').closest('.cell').remove();"
      ],
      "text/plain": [
       "<IPython.core.display.Javascript object>"
      ]
     },
     "metadata": {},
     "output_type": "display_data"
    },
    {
     "data": {
      "application/javascript": [
       "\n",
       "        $('span:contains(\"# Temp\")').closest('.cell').remove();\n",
       "        var code = IPython.notebook.insert_cell_below('code');\n",
       "        code.set_text(decodeURIComponent(window.atob(\"JTIzJTIwVGVtcCUwQWluc2VydCUyOCUyNyUyNyUyNyUwQWdlbmNlcjBhJTIwJTNEJTIwREIlMjhXb3JrVW5yZWxhdGVkJTI4JTBBJTIwJTIwJTIwJTIwMCUyQyUyMCUyMllheiVDNCVCMWwlQzQlQjFtJTIwUHJvamUlMjBZJUMzJUI2bmV0aW1pJTNBJTIwJTdCJUM1JTlFJTdEZWxhbGUlMjBNb2RlbGklMjB2ZSUyMCU3QiVDMyU4NyU3RGV2aWslMjBZJUMzJUI2bnRlbWxlcmluJTIwS2FyJTdCJUM1JTlGJTdEJUM0JUIxbGElN0IlQzUlOUYlN0R0JUM0JUIxciVDNCVCMWxtYXMlQzQlQjElMjIlMkMlMEElMjAlMjAlMjAlMjBkaXNwbGF5JTNEJTIyZ2VuY2VyJTIyJTJDJTBBJTIwJTIwJTIwJTIwYXV0aG9ycyUzRCUyMkdFTkNFUiUyQyUyMENldnJpeWUlMjBhbmQlMjBLQVlBQ0FOJTJDJTIwQWxpJTIyJTJDJTBBJTIwJTIwJTIwJTIwcGxhY2UlM0RGQUtFJTJDJTBBJTIwJTIwJTIwJTIwZW50cnl0eXBlJTNEJTIyYXJ0aWNsZSUyMiUyQyUwQSUyMCUyMCUyMCUyMElEJTNEJTIyZ2VuY2VyMTB5YXppbGltJTIyJTJDJTBBJTIwJTIwJTIwJTIwcGxhY2V4JTNEJTIyJTIyJTJDJTBBJTI5JTI5JTBBJTBBREIlMjhDaXRhdGlvbiUyOCUwQSUyMCUyMCUyMCUyMGdlbmNlcjBhJTJDJTIwd2FhcmRlbmJ1cmcyMDEzYSUyQyUyMHJlZiUzRCUyMiUyMiUyQyUwQSUyMCUyMCUyMCUyMGNvbnRleHRzJTNEJTVCJTBBJTBBJTIwJTIwJTIwJTIwJTVEJTJDJTBBJTI5JTI5JTBBJTBBJTI3JTI3JTI3JTJDJTIwY2l0YXRpb25zJTNEJTI3d2FhcmRlbmJ1cmcyMDEzYSUyNyUyOSUzQg==\")));\n",
       "    "
      ],
      "text/plain": [
       "<IPython.core.display.Javascript object>"
      ]
     },
     "metadata": {},
     "output_type": "display_data"
    },
    {
     "data": {
      "application/javascript": [
       "$('span:contains(\"# Temp\")').closest('.cell').remove();"
      ],
      "text/plain": [
       "<IPython.core.display.Javascript object>"
      ]
     },
     "metadata": {},
     "output_type": "display_data"
    },
    {
     "data": {
      "application/javascript": [
       "\n",
       "        $('span:contains(\"# Temp\")').closest('.cell').remove();\n",
       "        var code = IPython.notebook.insert_cell_below('code');\n",
       "        code.set_text(decodeURIComponent(window.atob(\"JTIzJTIwVGVtcCUwQWluc2VydCUyOCUyNyUyNyUyNyUwQW5vcmJlcmcyMDE2YiUyMCUzRCUyMERCJTI4V29ya1VucmVsYXRlZCUyOCUwQSUyMCUyMCUyMCUyMDIwMTYlMkMlMjAlMjJBZ2lsJTIwdXBwc2thbG5pbmclMjBmJUMzJUI2ciUyMGRpc3RyaWJ1ZXJhZGUlMjBTY3J1bSUyMFRlYW0lMjIlMkMlMEElMjAlMjAlMjAlMjBkaXNwbGF5JTNEJTIybm9yYmVyZyUyMGIlMjIlMkMlMEElMjAlMjAlMjAlMjBhdXRob3JzJTNEJTIyTm9yYmVyZyUyQyUyMEZyZWRyaWslMjIlMkMlMEElMjAlMjAlMjAlMjBwbGFjZSUzREZBS0UlMkMlMEElMjAlMjAlMjAlMjBlbnRyeXR5cGUlM0QlMjJhcnRpY2xlJTIyJTJDJTBBJTIwJTIwJTIwJTIwSUQlM0QlMjJub3JiZXJnMjAxNmFnaWwlMjIlMkMlMEElMjAlMjAlMjAlMjBwbGFjZXglM0QlMjIlMjIlMkMlMEElMjklMjklMEElMEFEQiUyOENpdGF0aW9uJTI4JTBBJTIwJTIwJTIwJTIwbm9yYmVyZzIwMTZiJTJDJTIwd2FhcmRlbmJ1cmcyMDEzYSUyQyUyMHJlZiUzRCUyMiUyMiUyQyUwQSUyMCUyMCUyMCUyMGNvbnRleHRzJTNEJTVCJTBBJTBBJTIwJTIwJTIwJTIwJTVEJTJDJTBBJTI5JTI5JTBBJTBBJTI3JTI3JTI3JTJDJTIwY2l0YXRpb25zJTNEJTI3d2FhcmRlbmJ1cmcyMDEzYSUyNyUyOSUzQg==\")));\n",
       "    "
      ],
      "text/plain": [
       "<IPython.core.display.Javascript object>"
      ]
     },
     "metadata": {},
     "output_type": "display_data"
    },
    {
     "data": {
      "application/javascript": [
       "$('span:contains(\"# Temp\")').closest('.cell').remove();"
      ],
      "text/plain": [
       "<IPython.core.display.Javascript object>"
      ]
     },
     "metadata": {},
     "output_type": "display_data"
    },
    {
     "data": {
      "application/javascript": [
       "\n",
       "        $('span:contains(\"# Temp\")').closest('.cell').remove();\n",
       "        var code = IPython.notebook.insert_cell_below('code');\n",
       "        code.set_text(decodeURIComponent(window.atob(\"JTIzJTIwVGVtcCUwQWluc2VydCUyOCUyNyUyNyUyNyUwQW5vcmJlcmcyMDE2YiUyMCUzRCUyMERCJTI4V29ya1VucmVsYXRlZCUyOCUwQSUyMCUyMCUyMCUyMDIwMTYlMkMlMjAlMjJBZ2lsJTIwdXBwc2thbG5pbmclMjBmJUMzJUI2ciUyMGRpc3RyaWJ1ZXJhZGUlMjBTY3J1bSUyMFRlYW0lMjIlMkMlMEElMjAlMjAlMjAlMjBkaXNwbGF5JTNEJTIybm9yYmVyZyUyMGIlMjIlMkMlMEElMjAlMjAlMjAlMjBhdXRob3JzJTNEJTIyTm9yYmVyZyUyQyUyMEZyZWRyaWslMjIlMkMlMEElMjAlMjAlMjAlMjBwbGFjZSUzREZBS0UlMkMlMEElMjAlMjAlMjAlMjBlbnRyeXR5cGUlM0QlMjJhcnRpY2xlJTIyJTJDJTBBJTIwJTIwJTIwJTIwSUQlM0QlMjJub3JiZXJnMjAxNmFnaWwlMjIlMkMlMEElMjAlMjAlMjAlMjBwbGFjZXglM0QlMjIlMjIlMkMlMEElMjklMjklMEElMEFEQiUyOENpdGF0aW9uJTI4JTBBJTIwJTIwJTIwJTIwbm9yYmVyZzIwMTZiJTJDJTIwd2FhcmRlbmJ1cmcyMDEzYSUyQyUyMHJlZiUzRCUyMiUyMiUyQyUwQSUyMCUyMCUyMCUyMGNvbnRleHRzJTNEJTVCJTBBJTBBJTIwJTIwJTIwJTIwJTVEJTJDJTBBJTI5JTI5JTBBJTBBJTI3JTI3JTI3JTJDJTIwY2l0YXRpb25zJTNEJTI3d2FhcmRlbmJ1cmcyMDEzYSUyNyUyOSUzQg==\")));\n",
       "    "
      ],
      "text/plain": [
       "<IPython.core.display.Javascript object>"
      ]
     },
     "metadata": {},
     "output_type": "display_data"
    },
    {
     "data": {
      "application/javascript": [
       "$('span:contains(\"# Temp\")').closest('.cell').remove();"
      ],
      "text/plain": [
       "<IPython.core.display.Javascript object>"
      ]
     },
     "metadata": {},
     "output_type": "display_data"
    },
    {
     "data": {
      "application/javascript": [
       "\n",
       "        $('span:contains(\"# Temp\")').closest('.cell').remove();\n",
       "        var code = IPython.notebook.insert_cell_below('code');\n",
       "        code.set_text(decodeURIComponent(window.atob(\"JTIzJTIwVGVtcCUwQWluc2VydCUyOCUyNyUyNyUyNyUwQWFsbWVpZGEyMDE3YSUyMCUzRCUyMERCJTI4V29ya1VucmVsYXRlZCUyOCUwQSUyMCUyMCUyMCUyMDIwMTclMkMlMjAlMjJQcm9wb3N0YSUyMGRlJTIwdXNvJTIwaW50ZWdyYWRvJTIwZG9zJTIwbSVDMyVBOXRvZG9zJTIwU2NydW0lMjBlJTIwQ0NQTSUyMG5hJTIwZ2VzdCVDMyVBM28lMjBkZSUyMG0lQzMlQkFsdGlwbG9zJTIwcHJvamV0b3MlMjIlMkMlMEElMjAlMjAlMjAlMjBkaXNwbGF5JTNEJTIyYWxtZWlkYSUyMiUyQyUwQSUyMCUyMCUyMCUyMGF1dGhvcnMlM0QlMjJBbG1laWRhJTJDJTIwSWx0b24lMjBNYXJjaGklMjBkZSUyMiUyQyUwQSUyMCUyMCUyMCUyMHBsYWNlJTNERkFLRSUyQyUwQSUyMCUyMCUyMCUyMGVudHJ5dHlwZSUzRCUyMmFydGljbGUlMjIlMkMlMEElMjAlMjAlMjAlMjBwdWJsaXNoZXIlM0QlMjJVbml2ZXJzaWRhZGUlMjBFc3RhZHVhbCUyMFBhdWxpc3RhJTIwJTI4VU5FU1AlMjklMjIlMkMlMEElMjAlMjAlMjAlMjBJRCUzRCUyMmFsbWVpZGEyMDE3cHJvcG9zdGElMjIlMkMlMEElMjAlMjAlMjAlMjBwbGFjZXglM0QlMjIlMjIlMkMlMEElMjklMjklMEElMEFEQiUyOENpdGF0aW9uJTI4JTBBJTIwJTIwJTIwJTIwYWxtZWlkYTIwMTdhJTJDJTIwd2FhcmRlbmJ1cmcyMDEzYSUyQyUyMHJlZiUzRCUyMiUyMiUyQyUwQSUyMCUyMCUyMCUyMGNvbnRleHRzJTNEJTVCJTBBJTBBJTIwJTIwJTIwJTIwJTVEJTJDJTBBJTI5JTI5JTBBJTBBJTI3JTI3JTI3JTJDJTIwY2l0YXRpb25zJTNEJTI3d2FhcmRlbmJ1cmcyMDEzYSUyNyUyOSUzQg==\")));\n",
       "    "
      ],
      "text/plain": [
       "<IPython.core.display.Javascript object>"
      ]
     },
     "metadata": {},
     "output_type": "display_data"
    },
    {
     "data": {
      "application/javascript": [
       "$('span:contains(\"# Temp\")').closest('.cell').remove();"
      ],
      "text/plain": [
       "<IPython.core.display.Javascript object>"
      ]
     },
     "metadata": {},
     "output_type": "display_data"
    },
    {
     "data": {
      "application/javascript": [
       "\n",
       "        $('span:contains(\"# Temp\")').closest('.cell').remove();\n",
       "        var code = IPython.notebook.insert_cell_below('code');\n",
       "        code.set_text(decodeURIComponent(window.atob(\"JTIzJTIwVGVtcCUwQWluc2VydCUyOCUyNyUyNyUyNyUwQWFsbWVpZGEyMDE3YSUyMCUzRCUyMERCJTI4V29ya1VucmVsYXRlZCUyOCUwQSUyMCUyMCUyMCUyMDIwMTclMkMlMjAlMjJQcm9wb3N0YSUyMGRlJTIwdXNvJTIwaW50ZWdyYWRvJTIwZG9zJTIwbSVDMyVBOXRvZG9zJTIwU2NydW0lMjBlJTIwQ0NQTSUyMG5hJTIwZ2VzdCVDMyVBM28lMjBkZSUyMG0lQzMlQkFsdGlwbG9zJTIwcHJvamV0b3MlMjIlMkMlMEElMjAlMjAlMjAlMjBkaXNwbGF5JTNEJTIyYWxtZWlkYSUyMiUyQyUwQSUyMCUyMCUyMCUyMGF1dGhvcnMlM0QlMjJBbG1laWRhJTJDJTIwSWx0b24lMjBNYXJjaGklMjBkZSUyMiUyQyUwQSUyMCUyMCUyMCUyMHBsYWNlJTNERkFLRSUyQyUwQSUyMCUyMCUyMCUyMGVudHJ5dHlwZSUzRCUyMmFydGljbGUlMjIlMkMlMEElMjAlMjAlMjAlMjBwdWJsaXNoZXIlM0QlMjJVbml2ZXJzaWRhZGUlMjBFc3RhZHVhbCUyMFBhdWxpc3RhJTIwJTI4VU5FU1AlMjklMjIlMkMlMEElMjAlMjAlMjAlMjBJRCUzRCUyMmFsbWVpZGEyMDE3cHJvcG9zdGElMjIlMkMlMEElMjAlMjAlMjAlMjBwbGFjZXglM0QlMjIlMjIlMkMlMEElMjklMjklMEElMEFEQiUyOENpdGF0aW9uJTI4JTBBJTIwJTIwJTIwJTIwYWxtZWlkYTIwMTdhJTJDJTIwd2FhcmRlbmJ1cmcyMDEzYSUyQyUyMHJlZiUzRCUyMiUyMiUyQyUwQSUyMCUyMCUyMCUyMGNvbnRleHRzJTNEJTVCJTBBJTBBJTIwJTIwJTIwJTIwJTVEJTJDJTBBJTI5JTI5JTBBJTBBJTI3JTI3JTI3JTJDJTIwY2l0YXRpb25zJTNEJTI3d2FhcmRlbmJ1cmcyMDEzYSUyNyUyOSUzQg==\")));\n",
       "    "
      ],
      "text/plain": [
       "<IPython.core.display.Javascript object>"
      ]
     },
     "metadata": {},
     "output_type": "display_data"
    },
    {
     "data": {
      "application/javascript": [
       "$('span:contains(\"# Temp\")').closest('.cell').remove();"
      ],
      "text/plain": [
       "<IPython.core.display.Javascript object>"
      ]
     },
     "metadata": {},
     "output_type": "display_data"
    },
    {
     "data": {
      "application/javascript": [
       "\n",
       "        $('span:contains(\"# Temp\")').closest('.cell').remove();\n",
       "        var code = IPython.notebook.insert_cell_below('code');\n",
       "        code.set_text(decodeURIComponent(window.atob(\"JTIzJTIwVGVtcCUwQWluc2VydCUyOCUyNyUyNyUyNyUwQWdhcmNpYTIwMTdiJTIwJTNEJTIwREIlMjhXb3JrVW5yZWxhdGVkJTI4JTBBJTIwJTIwJTIwJTIwMjAxNyUyQyUyMCUyMkxpZGVyYW4lN0IlQzMlQTclN0RhJTIwZSUyMGRlc2VtcGVuaG8lMjBkYSUyMGVxdWlwZSUyMGRlJTIwZGVzZW52b2x2aW1lbnRvJTIwZGUlMjBzb2Z0d2FyZSUzQSUyMGluZmx1JUMzJUFBbmNpYSUyMGRvJTIwdGlwbyUyMGRlJTIwZ2VzdCVDMyVBM28lMjBkZSUyMHByb2pldG9zJTIyJTJDJTBBJTIwJTIwJTIwJTIwZGlzcGxheSUzRCUyMmdhcmNpYSUyMGIlMjIlMkMlMEElMjAlMjAlMjAlMjBhdXRob3JzJTNEJTIyR2FyY2lhJTJDJTIwRmVybmFuZG8lMjBBbmRyZSUyMFplbXVuZXIlMjBhbmQlMjBvdGhlcnMlMjIlMkMlMEElMjAlMjAlMjAlMjBwbGFjZSUzREZBS0UlMkMlMEElMjAlMjAlMjAlMjBlbnRyeXR5cGUlM0QlMjJhcnRpY2xlJTIyJTJDJTBBJTIwJTIwJTIwJTIwcHVibGlzaGVyJTNEJTIyVW5pdmVyc2lkYWRlJTIwTm92ZSUyMGRlJTIwSnVsaG8lMjIlMkMlMEElMjAlMjAlMjAlMjBJRCUzRCUyMmdhcmNpYTIwMTdsaWRlcmFuY2NhJTIyJTJDJTBBJTIwJTIwJTIwJTIwcGxhY2V4JTNEJTIyJTIyJTJDJTBBJTI5JTI5JTBBJTBBREIlMjhDaXRhdGlvbiUyOCUwQSUyMCUyMCUyMCUyMGdhcmNpYTIwMTdiJTJDJTIwd2FhcmRlbmJ1cmcyMDEzYSUyQyUyMHJlZiUzRCUyMiUyMiUyQyUwQSUyMCUyMCUyMCUyMGNvbnRleHRzJTNEJTVCJTBBJTBBJTIwJTIwJTIwJTIwJTVEJTJDJTBBJTI5JTI5JTBBJTBBJTI3JTI3JTI3JTJDJTIwY2l0YXRpb25zJTNEJTI3d2FhcmRlbmJ1cmcyMDEzYSUyNyUyOSUzQg==\")));\n",
       "    "
      ],
      "text/plain": [
       "<IPython.core.display.Javascript object>"
      ]
     },
     "metadata": {},
     "output_type": "display_data"
    },
    {
     "data": {
      "application/javascript": [
       "$('span:contains(\"# Temp\")').closest('.cell').remove();"
      ],
      "text/plain": [
       "<IPython.core.display.Javascript object>"
      ]
     },
     "metadata": {},
     "output_type": "display_data"
    },
    {
     "data": {
      "application/javascript": [
       "\n",
       "        $('span:contains(\"# Temp\")').closest('.cell').remove();\n",
       "        var code = IPython.notebook.insert_cell_below('code');\n",
       "        code.set_text(decodeURIComponent(window.atob(\"JTIzJTIwVGVtcCUwQWluc2VydCUyOCUyNyUyNyUyNyUwQWdhcmNpYTIwMTdiJTIwJTNEJTIwREIlMjhXb3JrVW5yZWxhdGVkJTI4JTBBJTIwJTIwJTIwJTIwMjAxNyUyQyUyMCUyMkxpZGVyYW4lN0IlQzMlQTclN0RhJTIwZSUyMGRlc2VtcGVuaG8lMjBkYSUyMGVxdWlwZSUyMGRlJTIwZGVzZW52b2x2aW1lbnRvJTIwZGUlMjBzb2Z0d2FyZSUzQSUyMGluZmx1JUMzJUFBbmNpYSUyMGRvJTIwdGlwbyUyMGRlJTIwZ2VzdCVDMyVBM28lMjBkZSUyMHByb2pldG9zJTIyJTJDJTBBJTIwJTIwJTIwJTIwZGlzcGxheSUzRCUyMmdhcmNpYSUyMGIlMjIlMkMlMEElMjAlMjAlMjAlMjBhdXRob3JzJTNEJTIyR2FyY2lhJTJDJTIwRmVybmFuZG8lMjBBbmRyZSUyMFplbXVuZXIlMjBhbmQlMjBvdGhlcnMlMjIlMkMlMEElMjAlMjAlMjAlMjBwbGFjZSUzREZBS0UlMkMlMEElMjAlMjAlMjAlMjBlbnRyeXR5cGUlM0QlMjJhcnRpY2xlJTIyJTJDJTBBJTIwJTIwJTIwJTIwcHVibGlzaGVyJTNEJTIyVW5pdmVyc2lkYWRlJTIwTm92ZSUyMGRlJTIwSnVsaG8lMjIlMkMlMEElMjAlMjAlMjAlMjBJRCUzRCUyMmdhcmNpYTIwMTdsaWRlcmFuY2NhJTIyJTJDJTBBJTIwJTIwJTIwJTIwcGxhY2V4JTNEJTIyJTIyJTJDJTBBJTI5JTI5JTBBJTBBREIlMjhDaXRhdGlvbiUyOCUwQSUyMCUyMCUyMCUyMGdhcmNpYTIwMTdiJTJDJTIwd2FhcmRlbmJ1cmcyMDEzYSUyQyUyMHJlZiUzRCUyMiUyMiUyQyUwQSUyMCUyMCUyMCUyMGNvbnRleHRzJTNEJTVCJTBBJTBBJTIwJTIwJTIwJTIwJTVEJTJDJTBBJTI5JTI5JTBBJTBBJTI3JTI3JTI3JTJDJTIwY2l0YXRpb25zJTNEJTI3d2FhcmRlbmJ1cmcyMDEzYSUyNyUyOSUzQg==\")));\n",
       "    "
      ],
      "text/plain": [
       "<IPython.core.display.Javascript object>"
      ]
     },
     "metadata": {},
     "output_type": "display_data"
    },
    {
     "data": {
      "application/javascript": [
       "$('span:contains(\"# Temp\")').closest('.cell').remove();"
      ],
      "text/plain": [
       "<IPython.core.display.Javascript object>"
      ]
     },
     "metadata": {},
     "output_type": "display_data"
    },
    {
     "data": {
      "application/javascript": [
       "\n",
       "        $('span:contains(\"# Temp\")').closest('.cell').remove();\n",
       "        var code = IPython.notebook.insert_cell_below('code');\n",
       "        code.set_text(decodeURIComponent(window.atob(\"JTIzJTIwVGVtcCUwQWluc2VydCUyOCUyNyUyNyUyNyUwQWpvdmFub3ZpMjAxN2IlMjAlM0QlMjBEQiUyOFdvcmtVbnJlbGF0ZWQlMjglMEElMjAlMjAlMjAlMjAyMDE3JTJDJTIwJTIyUHJpbG9nJTIwaXN0cmElN0IlQzUlQkUlN0RpdmFuanUlMjB1c2xvdmElMjB6YSUyMHV2byVDNCU5MWVuamUlMjBhZ2lsbmloJTIwbWV0b2RhJTIwdSUyMHByZWR1emUlN0JjJUNDJTgxJTdEYSUyMiUyQyUwQSUyMCUyMCUyMCUyMGRpc3BsYXklM0QlMjJqb3Zhbm92aSUyMGIlMjIlMkMlMEElMjAlMjAlMjAlMjBhdXRob3JzJTNEJTIySm92YW5vdmklN0JjJUNDJTgxJTdEJTJDJTIwTWlsbyU3QiVDNSVBMSU3RCUyMiUyQyUwQSUyMCUyMCUyMCUyMHBsYWNlJTNERkFLRSUyQyUwQSUyMCUyMCUyMCUyMGVudHJ5dHlwZSUzRCUyMmFydGljbGUlMjIlMkMlMEElMjAlMjAlMjAlMjBwdWJsaXNoZXIlM0QlMjIlRDAlQTMlRDAlQkQlRDAlQjglRDAlQjIlRDAlQjUlRDElODAlRDAlQjclRDAlQjglRDElODIlRDAlQjUlRDElODIlMjAlRDElODMlMjAlRDAlOUQlRDAlQkUlRDAlQjIlRDAlQkUlRDAlQkMlMjAlRDAlQTElRDAlQjAlRDAlQjQlRDElODMlMkMlMjAlRDAlQTQlRDAlQjAlRDAlQkElRDElODMlRDAlQkIlRDElODIlRDAlQjUlRDElODIlMjAlRDElODIlRDAlQjUlRDElODUlRDAlQkQlRDAlQjglRDElODclRDAlQkElRDAlQjglRDElODUlMjAlRDAlQkQlRDAlQjAlRDElODMlRDAlQkElRDAlQjAlMjIlMkMlMEElMjAlMjAlMjAlMjBJRCUzRCUyMmpvdmFub3ZpYzIwMTdwcmlsb2clMjIlMkMlMEElMjAlMjAlMjAlMjBwbGFjZXglM0QlMjIlMjIlMkMlMEElMjklMjklMEElMEFEQiUyOENpdGF0aW9uJTI4JTBBJTIwJTIwJTIwJTIwam92YW5vdmkyMDE3YiUyQyUyMHdhYXJkZW5idXJnMjAxM2ElMkMlMjByZWYlM0QlMjIlMjIlMkMlMEElMjAlMjAlMjAlMjBjb250ZXh0cyUzRCU1QiUwQSUwQSUyMCUyMCUyMCUyMCU1RCUyQyUwQSUyOSUyOSUwQSUwQSUyNyUyNyUyNyUyQyUyMGNpdGF0aW9ucyUzRCUyN3dhYXJkZW5idXJnMjAxM2ElMjclMjklM0I=\")));\n",
       "    "
      ],
      "text/plain": [
       "<IPython.core.display.Javascript object>"
      ]
     },
     "metadata": {},
     "output_type": "display_data"
    },
    {
     "data": {
      "application/javascript": [
       "$('span:contains(\"# Temp\")').closest('.cell').remove();"
      ],
      "text/plain": [
       "<IPython.core.display.Javascript object>"
      ]
     },
     "metadata": {},
     "output_type": "display_data"
    },
    {
     "data": {
      "application/javascript": [
       "\n",
       "        $('span:contains(\"# Temp\")').closest('.cell').remove();\n",
       "        var code = IPython.notebook.insert_cell_below('code');\n",
       "        code.set_text(decodeURIComponent(window.atob(\"JTIzJTIwVGVtcCUwQWluc2VydCUyOCUyNyUyNyUyNyUwQWpvdmFub3ZpMjAxN2IlMjAlM0QlMjBEQiUyOFdvcmtVbnJlbGF0ZWQlMjglMEElMjAlMjAlMjAlMjAyMDE3JTJDJTIwJTIyUHJpbG9nJTIwaXN0cmElN0IlQzUlQkUlN0RpdmFuanUlMjB1c2xvdmElMjB6YSUyMHV2byVDNCU5MWVuamUlMjBhZ2lsbmloJTIwbWV0b2RhJTIwdSUyMHByZWR1emUlN0JjJUNDJTgxJTdEYSUyMiUyQyUwQSUyMCUyMCUyMCUyMGRpc3BsYXklM0QlMjJqb3Zhbm92aSUyMGIlMjIlMkMlMEElMjAlMjAlMjAlMjBhdXRob3JzJTNEJTIySm92YW5vdmklN0JjJUNDJTgxJTdEJTJDJTIwTWlsbyU3QiVDNSVBMSU3RCUyMiUyQyUwQSUyMCUyMCUyMCUyMHBsYWNlJTNERkFLRSUyQyUwQSUyMCUyMCUyMCUyMGVudHJ5dHlwZSUzRCUyMmFydGljbGUlMjIlMkMlMEElMjAlMjAlMjAlMjBwdWJsaXNoZXIlM0QlMjIlRDAlQTMlRDAlQkQlRDAlQjglRDAlQjIlRDAlQjUlRDElODAlRDAlQjclRDAlQjglRDElODIlRDAlQjUlRDElODIlMjAlRDElODMlMjAlRDAlOUQlRDAlQkUlRDAlQjIlRDAlQkUlRDAlQkMlMjAlRDAlQTElRDAlQjAlRDAlQjQlRDElODMlMkMlMjAlRDAlQTQlRDAlQjAlRDAlQkElRDElODMlRDAlQkIlRDElODIlRDAlQjUlRDElODIlMjAlRDElODIlRDAlQjUlRDElODUlRDAlQkQlRDAlQjglRDElODclRDAlQkElRDAlQjglRDElODUlMjAlRDAlQkQlRDAlQjAlRDElODMlRDAlQkElRDAlQjAlMjIlMkMlMEElMjAlMjAlMjAlMjBJRCUzRCUyMmpvdmFub3ZpYzIwMTdwcmlsb2clMjIlMkMlMEElMjAlMjAlMjAlMjBwbGFjZXglM0QlMjIlMjIlMkMlMEElMjklMjklMEElMEFEQiUyOENpdGF0aW9uJTI4JTBBJTIwJTIwJTIwJTIwam92YW5vdmkyMDE3YiUyQyUyMHdhYXJkZW5idXJnMjAxM2ElMkMlMjByZWYlM0QlMjIlMjIlMkMlMEElMjAlMjAlMjAlMjBjb250ZXh0cyUzRCU1QiUwQSUwQSUyMCUyMCUyMCUyMCU1RCUyQyUwQSUyOSUyOSUwQSUwQSUyNyUyNyUyNyUyQyUyMGNpdGF0aW9ucyUzRCUyN3dhYXJkZW5idXJnMjAxM2ElMjclMjklM0I=\")));\n",
       "    "
      ],
      "text/plain": [
       "<IPython.core.display.Javascript object>"
      ]
     },
     "metadata": {},
     "output_type": "display_data"
    },
    {
     "data": {
      "application/javascript": [
       "$('span:contains(\"# Temp\")').closest('.cell').remove();"
      ],
      "text/plain": [
       "<IPython.core.display.Javascript object>"
      ]
     },
     "metadata": {},
     "output_type": "display_data"
    },
    {
     "data": {
      "application/javascript": [
       "\n",
       "        $('span:contains(\"# Temp\")').closest('.cell').remove();\n",
       "        var code = IPython.notebook.insert_cell_below('code');\n",
       "        code.set_text(decodeURIComponent(window.atob(\"JTIzJTIwVGVtcCUwQWluc2VydCUyOCUyNyUyNyUyNyUwQWFzc2lzMjAxN2IlMjAlM0QlMjBEQiUyOFdvcmtVbnJlbGF0ZWQlMjglMEElMjAlMjAlMjAlMjAyMDE3JTJDJTIwJTIyRGlmZmljdWx0aWVzJTIwSW4lMjBUaGUlMjBBZG9wdGlvbiUyMEFuZCUyMFVzZSUyME9mJTIwU2NydW0lMjBNZXRob2QlMjBJbiUyMEJyYXppbGlhbiUyMENvbXBhbmllcyUyMFVzaW5nJTIwUGxhbi1Ecml2ZW4lMjBQcm9jZXNzZXMlM0ElMjBNdWx0aXBsZSUyMENhc2UlMjBTdHVkeSUyMiUyQyUwQSUyMCUyMCUyMCUyMGRpc3BsYXklM0QlMjJhc3NpcyUyMGIlMjIlMkMlMEElMjAlMjAlMjAlMjBhdXRob3JzJTNEJTIyZGUlMjBBc3NpcyUyQyUyMERhbmllbCUyME1lZGVpcm9zJTIwYW5kJTIwTGFyaWVpcmElMkMlMjBDbCVDMyVBMXVkaW8lMjBMdWlzJTIwQ2FydmFsaG8lMjBhbmQlMjBDb3N0YSUyQyUyMEl2YW5pciUyMiUyQyUwQSUyMCUyMCUyMCUyMHBsYWNlJTNERkFLRSUyQyUwQSUyMCUyMCUyMCUyMHBwJTNEJTIyNjYlMjIlMkMlMEElMjAlMjAlMjAlMjBlbnRyeXR5cGUlM0QlMjJhcnRpY2xlJTIyJTJDJTBBJTIwJTIwJTIwJTIwdm9sdW1lJTNEJTIyOCUyMiUyQyUwQSUyMCUyMCUyMCUyMG51bWJlciUzRCUyMjMlMjIlMkMlMEElMjAlMjAlMjAlMjBwdWJsaXNoZXIlM0QlMjJVbml2ZXJzaWRhZGUlMjBOb3ZlJTIwZGUlMjBKdWxobyUyMCUyOFVOSU5PVkUlMjklMjIlMkMlMEElMjAlMjAlMjAlMjBJRCUzRCUyMmRlMjAxN2RpZmZpY3VsdGllcyUyMiUyQyUwQSUyMCUyMCUyMCUyMHBsYWNleCUzRCUyMlJldmlzdGElMjBkZSUyMEdlc3QlQzMlQTNvJTIwZSUyMFByb2pldG9zJTIyJTJDJTBBJTI5JTI5JTBBJTBBREIlMjhDaXRhdGlvbiUyOCUwQSUyMCUyMCUyMCUyMGFzc2lzMjAxN2IlMkMlMjB3YWFyZGVuYnVyZzIwMTNhJTJDJTIwcmVmJTNEJTIyJTIyJTJDJTBBJTIwJTIwJTIwJTIwY29udGV4dHMlM0QlNUIlMEElMEElMjAlMjAlMjAlMjAlNUQlMkMlMEElMjklMjklMEElMEElMjclMjclMjclMkMlMjBjaXRhdGlvbnMlM0QlMjd3YWFyZGVuYnVyZzIwMTNhJTI3JTI5JTNC\")));\n",
       "    "
      ],
      "text/plain": [
       "<IPython.core.display.Javascript object>"
      ]
     },
     "metadata": {},
     "output_type": "display_data"
    },
    {
     "data": {
      "application/javascript": [
       "$('span:contains(\"# Temp\")').closest('.cell').remove();"
      ],
      "text/plain": [
       "<IPython.core.display.Javascript object>"
      ]
     },
     "metadata": {},
     "output_type": "display_data"
    },
    {
     "data": {
      "application/javascript": [
       "\n",
       "        $('span:contains(\"# Temp\")').closest('.cell').remove();\n",
       "        var code = IPython.notebook.insert_cell_below('code');\n",
       "        code.set_text(decodeURIComponent(window.atob(\"JTIzJTIwVGVtcCUwQWluc2VydCUyOCUyNyUyNyUyNyUwQWFzc2lzMjAxN2IlMjAlM0QlMjBEQiUyOFdvcmtVbnJlbGF0ZWQlMjglMEElMjAlMjAlMjAlMjAyMDE3JTJDJTIwJTIyRGlmZmljdWx0aWVzJTIwSW4lMjBUaGUlMjBBZG9wdGlvbiUyMEFuZCUyMFVzZSUyME9mJTIwU2NydW0lMjBNZXRob2QlMjBJbiUyMEJyYXppbGlhbiUyMENvbXBhbmllcyUyMFVzaW5nJTIwUGxhbi1Ecml2ZW4lMjBQcm9jZXNzZXMlM0ElMjBNdWx0aXBsZSUyMENhc2UlMjBTdHVkeSUyMiUyQyUwQSUyMCUyMCUyMCUyMGRpc3BsYXklM0QlMjJhc3NpcyUyMGIlMjIlMkMlMEElMjAlMjAlMjAlMjBhdXRob3JzJTNEJTIyZGUlMjBBc3NpcyUyQyUyMERhbmllbCUyME1lZGVpcm9zJTIwYW5kJTIwTGFyaWVpcmElMkMlMjBDbCVDMyVBMXVkaW8lMjBMdWlzJTIwQ2FydmFsaG8lMjBhbmQlMjBDb3N0YSUyQyUyMEl2YW5pciUyMiUyQyUwQSUyMCUyMCUyMCUyMHBsYWNlJTNERkFLRSUyQyUwQSUyMCUyMCUyMCUyMHBwJTNEJTIyNjYlMjIlMkMlMEElMjAlMjAlMjAlMjBlbnRyeXR5cGUlM0QlMjJhcnRpY2xlJTIyJTJDJTBBJTIwJTIwJTIwJTIwdm9sdW1lJTNEJTIyOCUyMiUyQyUwQSUyMCUyMCUyMCUyMG51bWJlciUzRCUyMjMlMjIlMkMlMEElMjAlMjAlMjAlMjBwdWJsaXNoZXIlM0QlMjJVbml2ZXJzaWRhZGUlMjBOb3ZlJTIwZGUlMjBKdWxobyUyMCUyOFVOSU5PVkUlMjklMjIlMkMlMEElMjAlMjAlMjAlMjBJRCUzRCUyMmRlMjAxN2RpZmZpY3VsdGllcyUyMiUyQyUwQSUyMCUyMCUyMCUyMHBsYWNleCUzRCUyMlJldmlzdGElMjBkZSUyMEdlc3QlQzMlQTNvJTIwZSUyMFByb2pldG9zJTIyJTJDJTBBJTI5JTI5JTBBJTBBREIlMjhDaXRhdGlvbiUyOCUwQSUyMCUyMCUyMCUyMGFzc2lzMjAxN2IlMkMlMjB3YWFyZGVuYnVyZzIwMTNhJTJDJTIwcmVmJTNEJTIyJTIyJTJDJTBBJTIwJTIwJTIwJTIwY29udGV4dHMlM0QlNUIlMEElMEElMjAlMjAlMjAlMjAlNUQlMkMlMEElMjklMjklMEElMEElMjclMjclMjclMkMlMjBjaXRhdGlvbnMlM0QlMjd3YWFyZGVuYnVyZzIwMTNhJTI3JTI5JTNC\")));\n",
       "    "
      ],
      "text/plain": [
       "<IPython.core.display.Javascript object>"
      ]
     },
     "metadata": {},
     "output_type": "display_data"
    },
    {
     "data": {
      "application/javascript": [
       "$('span:contains(\"# Temp\")').closest('.cell').remove();"
      ],
      "text/plain": [
       "<IPython.core.display.Javascript object>"
      ]
     },
     "metadata": {},
     "output_type": "display_data"
    },
    {
     "data": {
      "application/javascript": [
       "\n",
       "        $('span:contains(\"# Temp\")').closest('.cell').remove();\n",
       "        var code = IPython.notebook.insert_cell_below('code');\n",
       "        code.set_text(decodeURIComponent(window.atob(\"JTIzJTIwVGVtcCUwQWluc2VydCUyOCUyNyUyNyUyNyUwQWhvbXJpY2gwYSUyMCUzRCUyMERCJTI4V29ya1VucmVsYXRlZCUyOCUwQSUyMCUyMCUyMCUyMDAlMkMlMjAlMjJEaWZmaWN1bHRpZXMlMjBhbmQlMjBwb3NzaWJpbGl0aWVzJTIwb2YlMjB0cmFkaXRpb25hbCUyMGFuZCUyMGFnaWxlJTIwYXBwcm9hY2hlcyUyMGluJTIwRVBDJTIwcHJvamVjdCUyMG1hbmFnZW1lbnQlM0ElMjBDYXNlJTIwc3R1ZHklMjBpbiUyMGElMjBCcmF6aWxpYW4lMjBoeWRyb3Bvd2VyJTIwcGxhbnRzJTIwSW1wbGFudGF0aW9uJTIwQ29tcGFueSUyMiUyQyUwQSUyMCUyMCUyMCUyMGRpc3BsYXklM0QlMjJob21yaWNoJTIyJTJDJTBBJTIwJTIwJTIwJTIwYXV0aG9ycyUzRCUyMkhvbXJpY2glMkMlMjBBbGluZSUyMFNhY2NoaSUyMGFuZCUyMGRlJTIwQ2FydmFsaG8lMkMlMjBNYXJseSUyME1vbnRlaXJvJTIwYW5kJTIwZGUlMjBRdWVpcm96JTJDJTIwQWJlbGFyZG8lMjBBbHZlcyUyMiUyQyUwQSUyMCUyMCUyMCUyMHBsYWNlJTNERkFLRSUyQyUwQSUyMCUyMCUyMCUyMGVudHJ5dHlwZSUzRCUyMmFydGljbGUlMjIlMkMlMEElMjAlMjAlMjAlMjBJRCUzRCUyMmhvbXJpY2hkaWZmaWN1bHRpZXMlMjIlMkMlMEElMjAlMjAlMjAlMjBwbGFjZXglM0QlMjIlMjIlMkMlMEElMjklMjklMEElMEFEQiUyOENpdGF0aW9uJTI4JTBBJTIwJTIwJTIwJTIwaG9tcmljaDBhJTJDJTIwd2FhcmRlbmJ1cmcyMDEzYSUyQyUyMHJlZiUzRCUyMiUyMiUyQyUwQSUyMCUyMCUyMCUyMGNvbnRleHRzJTNEJTVCJTBBJTBBJTIwJTIwJTIwJTIwJTVEJTJDJTBBJTI5JTI5JTBBJTBBJTI3JTI3JTI3JTJDJTIwY2l0YXRpb25zJTNEJTI3d2FhcmRlbmJ1cmcyMDEzYSUyNyUyOSUzQg==\")));\n",
       "    "
      ],
      "text/plain": [
       "<IPython.core.display.Javascript object>"
      ]
     },
     "metadata": {},
     "output_type": "display_data"
    },
    {
     "data": {
      "application/javascript": [
       "$('span:contains(\"# Temp\")').closest('.cell').remove();"
      ],
      "text/plain": [
       "<IPython.core.display.Javascript object>"
      ]
     },
     "metadata": {},
     "output_type": "display_data"
    },
    {
     "data": {
      "application/javascript": [
       "\n",
       "        $('span:contains(\"# Temp\")').closest('.cell').remove();\n",
       "        var code = IPython.notebook.insert_cell_below('code');\n",
       "        code.set_text(decodeURIComponent(window.atob(\"JTIzJTIwVGVtcCUwQWluc2VydCUyOCUyNyUyNyUyNyUwQWNvbmZpZGVudGlhbDBhJTIwJTNEJTIwREIlMjhXb3JrVW5yZWxhdGVkJTI4JTBBJTIwJTIwJTIwJTIwMCUyQyUyMCUyMlZpc3VhbCUyMFRoaW5raW5nJTIwaW4lMjBhbiUyMGFnaWxlJTIwZW52aXJvbm1lbnQlMjIlMkMlMEElMjAlMjAlMjAlMjBkaXNwbGF5JTNEJTIyY29uZmlkZW50aWFsJTIyJTJDJTBBJTIwJTIwJTIwJTIwYXV0aG9ycyUzRCUyMkNPTkZJREVOVElBTCUyQyUyME5PTiUyMiUyQyUwQSUyMCUyMCUyMCUyMHBsYWNlJTNERkFLRSUyQyUwQSUyMCUyMCUyMCUyMGVudHJ5dHlwZSUzRCUyMmFydGljbGUlMjIlMkMlMEElMjAlMjAlMjAlMjBJRCUzRCUyMmNvbmZpZGVudGlhbHZpc3VhbCUyMiUyQyUwQSUyMCUyMCUyMCUyMHBsYWNleCUzRCUyMiUyMiUyQyUwQSUyOSUyOSUwQSUwQURCJTI4Q2l0YXRpb24lMjglMEElMjAlMjAlMjAlMjBjb25maWRlbnRpYWwwYSUyQyUyMHdhYXJkZW5idXJnMjAxM2ElMkMlMjByZWYlM0QlMjIlMjIlMkMlMEElMjAlMjAlMjAlMjBjb250ZXh0cyUzRCU1QiUwQSUwQSUyMCUyMCUyMCUyMCU1RCUyQyUwQSUyOSUyOSUwQSUwQSUyNyUyNyUyNyUyQyUyMGNpdGF0aW9ucyUzRCUyN3dhYXJkZW5idXJnMjAxM2ElMjclMjklM0I=\")));\n",
       "    "
      ],
      "text/plain": [
       "<IPython.core.display.Javascript object>"
      ]
     },
     "metadata": {},
     "output_type": "display_data"
    },
    {
     "data": {
      "application/javascript": [
       "$('span:contains(\"# Temp\")').closest('.cell').remove();"
      ],
      "text/plain": [
       "<IPython.core.display.Javascript object>"
      ]
     },
     "metadata": {},
     "output_type": "display_data"
    },
    {
     "data": {
      "application/javascript": [
       "\n",
       "        $('span:contains(\"# Temp\")').closest('.cell').remove();\n",
       "        var code = IPython.notebook.insert_cell_below('code');\n",
       "        code.set_text(decodeURIComponent(window.atob(\"JTIzJTIwVGVtcCUwQWluc2VydCUyOCUyNyUyNyUyNyUwQWNvbmZpZGVudGlhbDBhJTIwJTNEJTIwREIlMjhXb3JrVW5yZWxhdGVkJTI4JTBBJTIwJTIwJTIwJTIwMCUyQyUyMCUyMlZpc3VhbCUyMFRoaW5raW5nJTIwaW4lMjBhbiUyMGFnaWxlJTIwZW52aXJvbm1lbnQlMjIlMkMlMEElMjAlMjAlMjAlMjBkaXNwbGF5JTNEJTIyY29uZmlkZW50aWFsJTIyJTJDJTBBJTIwJTIwJTIwJTIwYXV0aG9ycyUzRCUyMkNPTkZJREVOVElBTCUyQyUyME5PTiUyMiUyQyUwQSUyMCUyMCUyMCUyMHBsYWNlJTNERkFLRSUyQyUwQSUyMCUyMCUyMCUyMGVudHJ5dHlwZSUzRCUyMmFydGljbGUlMjIlMkMlMEElMjAlMjAlMjAlMjBJRCUzRCUyMmNvbmZpZGVudGlhbHZpc3VhbCUyMiUyQyUwQSUyMCUyMCUyMCUyMHBsYWNleCUzRCUyMiUyMiUyQyUwQSUyOSUyOSUwQSUwQURCJTI4Q2l0YXRpb24lMjglMEElMjAlMjAlMjAlMjBjb25maWRlbnRpYWwwYSUyQyUyMHdhYXJkZW5idXJnMjAxM2ElMkMlMjByZWYlM0QlMjIlMjIlMkMlMEElMjAlMjAlMjAlMjBjb250ZXh0cyUzRCU1QiUwQSUwQSUyMCUyMCUyMCUyMCU1RCUyQyUwQSUyOSUyOSUwQSUwQSUyNyUyNyUyNyUyQyUyMGNpdGF0aW9ucyUzRCUyN3dhYXJkZW5idXJnMjAxM2ElMjclMjklM0I=\")));\n",
       "    "
      ],
      "text/plain": [
       "<IPython.core.display.Javascript object>"
      ]
     },
     "metadata": {},
     "output_type": "display_data"
    },
    {
     "data": {
      "application/javascript": [
       "$('span:contains(\"# Temp\")').closest('.cell').remove();"
      ],
      "text/plain": [
       "<IPython.core.display.Javascript object>"
      ]
     },
     "metadata": {},
     "output_type": "display_data"
    },
    {
     "data": {
      "application/javascript": [
       "\n",
       "        $('span:contains(\"# Temp\")').closest('.cell').remove();\n",
       "        var code = IPython.notebook.insert_cell_below('code');\n",
       "        code.set_text(decodeURIComponent(window.atob(\"JTIzJTIwVGVtcCUwQWluc2VydCUyOCUyNyUyNyUyNyUwQWNoYXNzYXJ0MGElMjAlM0QlMjBEQiUyOFdvcmtVbnJlbGF0ZWQlMjglMEElMjAlMjAlMjAlMjAwJTJDJTIwJTIyJTIyJTIwVmlzdWFsJTIwVGhpbmtpbmclMjBpbiUyMGFuJTIwYWdpbGUlMjBlbnZpcm9ubWVudCUyMiUyQyUwQSUyMCUyMCUyMCUyMGRpc3BsYXklM0QlMjJjaGFzc2FydCUyMiUyQyUwQSUyMCUyMCUyMCUyMGF1dGhvcnMlM0QlMjJEdW1vbnQlMjBkZSUyMENoYXNzYXJ0JTJDJTIwQXVyJUMzJUE5bGllbiUyMiUyQyUwQSUyMCUyMCUyMCUyMHBsYWNlJTNERkFLRSUyQyUwQSUyMCUyMCUyMCUyMGVudHJ5dHlwZSUzRCUyMmFydGljbGUlMjIlMkMlMEElMjAlMjAlMjAlMjBJRCUzRCUyMmR1bW9udHZpc3VhbCUyMiUyQyUwQSUyMCUyMCUyMCUyMHBsYWNleCUzRCUyMiUyMiUyQyUwQSUyOSUyOSUwQSUwQURCJTI4Q2l0YXRpb24lMjglMEElMjAlMjAlMjAlMjBjaGFzc2FydDBhJTJDJTIwd2FhcmRlbmJ1cmcyMDEzYSUyQyUyMHJlZiUzRCUyMiUyMiUyQyUwQSUyMCUyMCUyMCUyMGNvbnRleHRzJTNEJTVCJTBBJTBBJTIwJTIwJTIwJTIwJTVEJTJDJTBBJTI5JTI5JTBBJTBBJTI3JTI3JTI3JTJDJTIwY2l0YXRpb25zJTNEJTI3d2FhcmRlbmJ1cmcyMDEzYSUyNyUyOSUzQg==\")));\n",
       "    "
      ],
      "text/plain": [
       "<IPython.core.display.Javascript object>"
      ]
     },
     "metadata": {},
     "output_type": "display_data"
    },
    {
     "data": {
      "application/javascript": [
       "$('span:contains(\"# Temp\")').closest('.cell').remove();"
      ],
      "text/plain": [
       "<IPython.core.display.Javascript object>"
      ]
     },
     "metadata": {},
     "output_type": "display_data"
    },
    {
     "data": {
      "application/javascript": [
       "\n",
       "        $('span:contains(\"# Temp\")').closest('.cell').remove();\n",
       "        var code = IPython.notebook.insert_cell_below('code');\n",
       "        code.set_text(decodeURIComponent(window.atob(\"JTIzJTIwVGVtcCUwQWluc2VydCUyOCUyNyUyNyUyNyUwQWNoYXNzYXJ0MGElMjAlM0QlMjBEQiUyOFdvcmtVbnJlbGF0ZWQlMjglMEElMjAlMjAlMjAlMjAwJTJDJTIwJTIyJTIyJTIwVmlzdWFsJTIwVGhpbmtpbmclMjBpbiUyMGFuJTIwYWdpbGUlMjBlbnZpcm9ubWVudCUyMiUyQyUwQSUyMCUyMCUyMCUyMGRpc3BsYXklM0QlMjJjaGFzc2FydCUyMiUyQyUwQSUyMCUyMCUyMCUyMGF1dGhvcnMlM0QlMjJEdW1vbnQlMjBkZSUyMENoYXNzYXJ0JTJDJTIwQXVyJUMzJUE5bGllbiUyMiUyQyUwQSUyMCUyMCUyMCUyMHBsYWNlJTNERkFLRSUyQyUwQSUyMCUyMCUyMCUyMGVudHJ5dHlwZSUzRCUyMmFydGljbGUlMjIlMkMlMEElMjAlMjAlMjAlMjBJRCUzRCUyMmR1bW9udHZpc3VhbCUyMiUyQyUwQSUyMCUyMCUyMCUyMHBsYWNleCUzRCUyMiUyMiUyQyUwQSUyOSUyOSUwQSUwQURCJTI4Q2l0YXRpb24lMjglMEElMjAlMjAlMjAlMjBjaGFzc2FydDBhJTJDJTIwd2FhcmRlbmJ1cmcyMDEzYSUyQyUyMHJlZiUzRCUyMiUyMiUyQyUwQSUyMCUyMCUyMCUyMGNvbnRleHRzJTNEJTVCJTBBJTBBJTIwJTIwJTIwJTIwJTVEJTJDJTBBJTI5JTI5JTBBJTBBJTI3JTI3JTI3JTJDJTIwY2l0YXRpb25zJTNEJTI3d2FhcmRlbmJ1cmcyMDEzYSUyNyUyOSUzQg==\")));\n",
       "    "
      ],
      "text/plain": [
       "<IPython.core.display.Javascript object>"
      ]
     },
     "metadata": {},
     "output_type": "display_data"
    },
    {
     "data": {
      "application/javascript": [
       "$('span:contains(\"# Temp\")').closest('.cell').remove();"
      ],
      "text/plain": [
       "<IPython.core.display.Javascript object>"
      ]
     },
     "metadata": {},
     "output_type": "display_data"
    },
    {
     "data": {
      "application/javascript": [
       "\n",
       "        $('span:contains(\"# Temp\")').closest('.cell').remove();\n",
       "        var code = IPython.notebook.insert_cell_below('code');\n",
       "        code.set_text(decodeURIComponent(window.atob(\"JTIzJTIwVGVtcCUwQWluc2VydCUyOCUyNyUyNyUyNyUwQWhhYXN0ZXIwYSUyMCUzRCUyMERCJTI4V29ya1VucmVsYXRlZCUyOCUwQSUyMCUyMCUyMCUyMDAlMkMlMjAlMjJTZWFyY2glMjBUaGlzJTIwQmxvZyUyMiUyQyUwQSUyMCUyMCUyMCUyMGRpc3BsYXklM0QlMjJoYWFzdGVyJTIyJTJDJTBBJTIwJTIwJTIwJTIwYXV0aG9ycyUzRCUyMnZhbiUyMEhhYXN0ZXIlMkMlMjBLZWxzZXklMjIlMkMlMEElMjAlMjAlMjAlMjBwbGFjZSUzREZBS0UlMkMlMEElMjAlMjAlMjAlMjBlbnRyeXR5cGUlM0QlMjJhcnRpY2xlJTIyJTJDJTBBJTIwJTIwJTIwJTIwSUQlM0QlMjJ2YW5zZWFyY2glMjIlMkMlMEElMjAlMjAlMjAlMjBwbGFjZXglM0QlMjIlMjIlMkMlMEElMjklMjklMEElMEFEQiUyOENpdGF0aW9uJTI4JTBBJTIwJTIwJTIwJTIwaGFhc3RlcjBhJTJDJTIwd2FhcmRlbmJ1cmcyMDEzYSUyQyUyMHJlZiUzRCUyMiUyMiUyQyUwQSUyMCUyMCUyMCUyMGNvbnRleHRzJTNEJTVCJTBBJTBBJTIwJTIwJTIwJTIwJTVEJTJDJTBBJTI5JTI5JTBBJTBBJTI3JTI3JTI3JTJDJTIwY2l0YXRpb25zJTNEJTI3d2FhcmRlbmJ1cmcyMDEzYSUyNyUyOSUzQg==\")));\n",
       "    "
      ],
      "text/plain": [
       "<IPython.core.display.Javascript object>"
      ]
     },
     "metadata": {},
     "output_type": "display_data"
    },
    {
     "data": {
      "application/javascript": [
       "$('span:contains(\"# Temp\")').closest('.cell').remove();"
      ],
      "text/plain": [
       "<IPython.core.display.Javascript object>"
      ]
     },
     "metadata": {},
     "output_type": "display_data"
    },
    {
     "data": {
      "application/javascript": [
       "\n",
       "        $('span:contains(\"# Temp\")').closest('.cell').remove();\n",
       "        var code = IPython.notebook.insert_cell_below('code');\n",
       "        code.set_text(decodeURIComponent(window.atob(\"JTIzJTIwVGVtcCUwQWluc2VydCUyOCUyNyUyNyUyNyUwQWhhYXN0ZXIwYSUyMCUzRCUyMERCJTI4V29ya1VucmVsYXRlZCUyOCUwQSUyMCUyMCUyMCUyMDAlMkMlMjAlMjJTZWFyY2glMjBUaGlzJTIwQmxvZyUyMiUyQyUwQSUyMCUyMCUyMCUyMGRpc3BsYXklM0QlMjJoYWFzdGVyJTIyJTJDJTBBJTIwJTIwJTIwJTIwYXV0aG9ycyUzRCUyMnZhbiUyMEhhYXN0ZXIlMkMlMjBLZWxzZXklMjIlMkMlMEElMjAlMjAlMjAlMjBwbGFjZSUzREZBS0UlMkMlMEElMjAlMjAlMjAlMjBlbnRyeXR5cGUlM0QlMjJhcnRpY2xlJTIyJTJDJTBBJTIwJTIwJTIwJTIwSUQlM0QlMjJ2YW5zZWFyY2glMjIlMkMlMEElMjAlMjAlMjAlMjBwbGFjZXglM0QlMjIlMjIlMkMlMEElMjklMjklMEElMEFEQiUyOENpdGF0aW9uJTI4JTBBJTIwJTIwJTIwJTIwaGFhc3RlcjBhJTJDJTIwd2FhcmRlbmJ1cmcyMDEzYSUyQyUyMHJlZiUzRCUyMiUyMiUyQyUwQSUyMCUyMCUyMCUyMGNvbnRleHRzJTNEJTVCJTBBJTBBJTIwJTIwJTIwJTIwJTVEJTJDJTBBJTI5JTI5JTBBJTBBJTI3JTI3JTI3JTJDJTIwY2l0YXRpb25zJTNEJTI3d2FhcmRlbmJ1cmcyMDEzYSUyNyUyOSUzQg==\")));\n",
       "    "
      ],
      "text/plain": [
       "<IPython.core.display.Javascript object>"
      ]
     },
     "metadata": {},
     "output_type": "display_data"
    },
    {
     "data": {
      "application/javascript": [
       "$('span:contains(\"# Temp\")').closest('.cell').remove();"
      ],
      "text/plain": [
       "<IPython.core.display.Javascript object>"
      ]
     },
     "metadata": {},
     "output_type": "display_data"
    },
    {
     "data": {
      "application/javascript": [
       "\n",
       "        $('span:contains(\"# Temp\")').closest('.cell').remove();\n",
       "        var code = IPython.notebook.insert_cell_below('code');\n",
       "        code.set_text(decodeURIComponent(window.atob(\"JTIzJTIwVGVtcCUwQWluc2VydCUyOCUyNyUyNyUyNyUwQXNhbG9wYWFzaTBhJTIwJTNEJTIwREIlMjhXb3JrVW5yZWxhdGVkJTI4JTBBJTIwJTIwJTIwJTIwMCUyQyUyMCUyMlRIRSUyMFJPTEUlMjBPRiUyMENPTlRJTlVPVVMlMjBJTlRFR1JBVElPTiUyMElOJTIwU09GVFdBUkUlMjBCVVNJTkVTUyUyMiUyQyUwQSUyMCUyMCUyMCUyMGRpc3BsYXklM0QlMjJzYWxvcGFhc2klMjIlMkMlMEElMjAlMjAlMjAlMjBhdXRob3JzJTNEJTIyU2Fsb3BhYXNpJTJDJTIwSGFubmElMjIlMkMlMEElMjAlMjAlMjAlMjBwbGFjZSUzREZBS0UlMkMlMEElMjAlMjAlMjAlMjBlbnRyeXR5cGUlM0QlMjJhcnRpY2xlJTIyJTJDJTBBJTIwJTIwJTIwJTIwSUQlM0QlMjJzYWxvcGFhc2lyb2xlJTIyJTJDJTBBJTIwJTIwJTIwJTIwcGxhY2V4JTNEJTIyJTIyJTJDJTBBJTI5JTI5JTBBJTBBREIlMjhDaXRhdGlvbiUyOCUwQSUyMCUyMCUyMCUyMHNhbG9wYWFzaTBhJTJDJTIwd2FhcmRlbmJ1cmcyMDEzYSUyQyUyMHJlZiUzRCUyMiUyMiUyQyUwQSUyMCUyMCUyMCUyMGNvbnRleHRzJTNEJTVCJTBBJTBBJTIwJTIwJTIwJTIwJTVEJTJDJTBBJTI5JTI5JTBBJTBBJTI3JTI3JTI3JTJDJTIwY2l0YXRpb25zJTNEJTI3d2FhcmRlbmJ1cmcyMDEzYSUyNyUyOSUzQg==\")));\n",
       "    "
      ],
      "text/plain": [
       "<IPython.core.display.Javascript object>"
      ]
     },
     "metadata": {},
     "output_type": "display_data"
    },
    {
     "data": {
      "application/javascript": [
       "$('span:contains(\"# Temp\")').closest('.cell').remove();"
      ],
      "text/plain": [
       "<IPython.core.display.Javascript object>"
      ]
     },
     "metadata": {},
     "output_type": "display_data"
    },
    {
     "data": {
      "application/javascript": [
       "\n",
       "        $('span:contains(\"# Temp\")').closest('.cell').remove();\n",
       "        var code = IPython.notebook.insert_cell_below('code');\n",
       "        code.set_text(decodeURIComponent(window.atob(\"JTIzJTIwVGVtcCUwQWluc2VydCUyOCUyNyUyNyUyNyUwQXNhbG9wYWFzaTBhJTIwJTNEJTIwREIlMjhXb3JrVW5yZWxhdGVkJTI4JTBBJTIwJTIwJTIwJTIwMCUyQyUyMCUyMlRIRSUyMFJPTEUlMjBPRiUyMENPTlRJTlVPVVMlMjBJTlRFR1JBVElPTiUyMElOJTIwU09GVFdBUkUlMjBCVVNJTkVTUyUyMiUyQyUwQSUyMCUyMCUyMCUyMGRpc3BsYXklM0QlMjJzYWxvcGFhc2klMjIlMkMlMEElMjAlMjAlMjAlMjBhdXRob3JzJTNEJTIyU2Fsb3BhYXNpJTJDJTIwSGFubmElMjIlMkMlMEElMjAlMjAlMjAlMjBwbGFjZSUzREZBS0UlMkMlMEElMjAlMjAlMjAlMjBlbnRyeXR5cGUlM0QlMjJhcnRpY2xlJTIyJTJDJTBBJTIwJTIwJTIwJTIwSUQlM0QlMjJzYWxvcGFhc2lyb2xlJTIyJTJDJTBBJTIwJTIwJTIwJTIwcGxhY2V4JTNEJTIyJTIyJTJDJTBBJTI5JTI5JTBBJTBBREIlMjhDaXRhdGlvbiUyOCUwQSUyMCUyMCUyMCUyMHNhbG9wYWFzaTBhJTJDJTIwd2FhcmRlbmJ1cmcyMDEzYSUyQyUyMHJlZiUzRCUyMiUyMiUyQyUwQSUyMCUyMCUyMCUyMGNvbnRleHRzJTNEJTVCJTBBJTBBJTIwJTIwJTIwJTIwJTVEJTJDJTBBJTI5JTI5JTBBJTBBJTI3JTI3JTI3JTJDJTIwY2l0YXRpb25zJTNEJTI3d2FhcmRlbmJ1cmcyMDEzYSUyNyUyOSUzQg==\")));\n",
       "    "
      ],
      "text/plain": [
       "<IPython.core.display.Javascript object>"
      ]
     },
     "metadata": {},
     "output_type": "display_data"
    }
   ],
   "source": [
    "manager"
   ]
  },
  {
   "cell_type": "code",
   "execution_count": 271,
   "metadata": {},
   "outputs": [
    {
     "name": "stdout",
     "output_type": "stream",
     "text": [
      "-Insert: salopaasi2014a\n",
      "-Insert Import: salopaasi2014a\n",
      "-Insert Citation: salopaasi2014a -> waardenburg2013a\n"
     ]
    }
   ],
   "source": [
    "# Temp\n",
    "insert('''\n",
    "salopaasi2014a = DB(WorkUnrelated(\n",
    "    2014, \"THE ROLE OF CONTINUOUS INTEGRATION IN SOFTWARE BUSINESS\",\n",
    "    display=\"salopaasi\",\n",
    "    authors=\"Salopaasi, Hanna\",\n",
    "    place=FAKE,\n",
    "    entrytype=\"article\",\n",
    "    ID=\"salopaasirole\",\n",
    "    placex=\"\",\n",
    "))\n",
    "\n",
    "DB(Citation(\n",
    "    salopaasi2014a, waardenburg2013a, ref=\"\",\n",
    "    contexts=[\n",
    "\n",
    "    ],\n",
    "))\n",
    "\n",
    "''', citations='waardenburg2013a');"
   ]
  },
  {
   "cell_type": "code",
   "execution_count": null,
   "metadata": {
    "collapsed": true
   },
   "outputs": [],
   "source": []
  },
  {
   "cell_type": "code",
   "execution_count": null,
   "metadata": {
    "collapsed": true
   },
   "outputs": [],
   "source": [
    "from snowballing.operations import reload\n",
    "reload()"
   ]
  },
  {
   "cell_type": "code",
   "execution_count": null,
   "metadata": {
    "collapsed": true
   },
   "outputs": [],
   "source": []
  }
 ],
 "metadata": {
  "kernelspec": {
   "display_name": "Python 3",
   "language": "python",
   "name": "python3"
  },
  "language_info": {
   "codemirror_mode": {
    "name": "ipython",
    "version": 3
   },
   "file_extension": ".py",
   "mimetype": "text/x-python",
   "name": "python",
   "nbconvert_exporter": "python",
   "pygments_lexer": "ipython3",
   "version": "3.6.0"
  },
  "toc": {
   "nav_menu": {
    "height": "12px",
    "width": "252px"
   },
   "number_sections": true,
   "sideBar": true,
   "skip_h1_title": false,
   "toc_cell": false,
   "toc_position": {},
   "toc_section_display": "block",
   "toc_window_display": false
  }
 },
 "nbformat": 4,
 "nbformat_minor": 1
}
