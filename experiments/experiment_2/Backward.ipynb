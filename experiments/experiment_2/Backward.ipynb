{
 "cells": [
  {
   "cell_type": "code",
   "execution_count": 11,
   "metadata": {
    "collapsed": true
   },
   "outputs": [],
   "source": [
    "import database\n",
    "from snowballing.operations import load_work, reload, work_by_varname\n",
    "from snowballing.snowballing import Converter\n",
    "from snowballing.dbmanager import insert, set_attribute"
   ]
  },
  {
   "cell_type": "code",
   "execution_count": 12,
   "metadata": {
    "scrolled": false
   },
   "outputs": [
    {
     "data": {
      "application/vnd.jupyter.widget-view+json": {
       "model_id": "850cdbddd2a74fc7acf10553ddc03932",
       "version_major": 2,
       "version_minor": 0
      },
      "text/html": [
       "<p>Failed to display Jupyter Widget of type <code>VBox</code>.</p>\n",
       "<p>\n",
       "  If you're reading this message in Jupyter Notebook or JupyterLab, it may mean\n",
       "  that the widgets JavaScript is still loading. If this message persists, it\n",
       "  likely means that the widgets JavaScript library is either not installed or\n",
       "  not enabled. See the <a href=\"https://ipywidgets.readthedocs.io/en/stable/user_install.html\">Jupyter\n",
       "  Widgets Documentation</a> for setup instructions.\n",
       "</p>\n",
       "<p>\n",
       "  If you're reading this message in another notebook frontend (for example, a static\n",
       "  rendering on GitHub or <a href=\"https://nbviewer.jupyter.org/\">NBViewer</a>),\n",
       "  it may mean that your frontend doesn't currently support widgets.\n",
       "</p>\n"
      ],
      "text/plain": [
       "VBox(children=(HBox(children=(Dropdown(index=1, options={'BibTeX': 'bibtex', 'Text': 'text', '[N] author name place other year': 'citation', 'Quoted': 'quoted'}, value='text'), Button(description='Set article_list variable', disabled=True, style=ButtonStyle()), Label(value=''))), HBox(children=(Textarea(value='', layout=Layout(height='500px', width='50%')), Textarea(value='', layout=Layout(height='500px', width='50%'))))))"
      ]
     },
     "metadata": {},
     "output_type": "display_data"
    }
   ],
   "source": [
    "Converter().browser()"
   ]
  },
  {
   "cell_type": "code",
   "execution_count": null,
   "metadata": {
    "collapsed": true
   },
   "outputs": [],
   "source": []
  },
  {
   "cell_type": "code",
   "execution_count": null,
   "metadata": {
    "collapsed": true
   },
   "outputs": [],
   "source": [
    "Converter().browser()"
   ]
  },
  {
   "cell_type": "code",
   "execution_count": 3,
   "metadata": {},
   "outputs": [
    {
     "data": {
      "text/plain": [
       "6"
      ]
     },
     "execution_count": 3,
     "metadata": {},
     "output_type": "execute_result"
    }
   ],
   "source": [
    "len(article_list)"
   ]
  },
  {
   "cell_type": "code",
   "execution_count": null,
   "metadata": {
    "collapsed": true
   },
   "outputs": [],
   "source": [
    "#from database.work.y2015 import li2015a"
   ]
  },
  {
   "cell_type": "code",
   "execution_count": null,
   "metadata": {
    "collapsed": true
   },
   "outputs": [],
   "source": [
    "#int(getattr(li2015a, 'scopus', 0))"
   ]
  },
  {
   "cell_type": "code",
   "execution_count": null,
   "metadata": {
    "collapsed": true
   },
   "outputs": [],
   "source": [
    "#print(article_list)"
   ]
  },
  {
   "cell_type": "code",
   "execution_count": null,
   "metadata": {
    "collapsed": true
   },
   "outputs": [],
   "source": []
  },
  {
   "cell_type": "code",
   "execution_count": null,
   "metadata": {
    "collapsed": true
   },
   "outputs": [],
   "source": []
  },
  {
   "cell_type": "code",
   "execution_count": null,
   "metadata": {
    "collapsed": true
   },
   "outputs": [],
   "source": []
  },
  {
   "cell_type": "code",
   "execution_count": null,
   "metadata": {
    "collapsed": true
   },
   "outputs": [],
   "source": []
  },
  {
   "cell_type": "code",
   "execution_count": 4,
   "metadata": {},
   "outputs": [
    {
     "data": {
      "application/vnd.jupyter.widget-view+json": {
       "model_id": "b4c607fcfc604a9c98437ac02fd98289",
       "version_major": 2,
       "version_minor": 0
      },
      "text/html": [
       "<p>Failed to display Jupyter Widget of type <code>VBox</code>.</p>\n",
       "<p>\n",
       "  If you're reading this message in Jupyter Notebook or JupyterLab, it may mean\n",
       "  that the widgets JavaScript is still loading. If this message persists, it\n",
       "  likely means that the widgets JavaScript library is either not installed or\n",
       "  not enabled. See the <a href=\"https://ipywidgets.readthedocs.io/en/stable/user_install.html\">Jupyter\n",
       "  Widgets Documentation</a> for setup instructions.\n",
       "</p>\n",
       "<p>\n",
       "  If you're reading this message in another notebook frontend (for example, a static\n",
       "  rendering on GitHub or <a href=\"https://nbviewer.jupyter.org/\">NBViewer</a>),\n",
       "  it may mean that your frontend doesn't currently support widgets.\n",
       "</p>\n"
      ],
      "text/plain": [
       "VBox(children=(HBox(children=(Button(description='Previous Article', disabled=True, icon='caret-left', style=ButtonStyle()), Button(description='Reload Article', icon='refresh', style=ButtonStyle()), Button(description='Next Article', icon='caret-right', style=ButtonStyle()))), HBox(children=(Button(description='Unrelated: Scripts', style=ButtonStyle()), Button(description='Unrelated: Provenance', style=ButtonStyle()), Button(description='Both', style=ButtonStyle()), Button(description='Ok', style=ButtonStyle()))), HBox(children=(Dropdown(description='Type', index=3, options=('Work', 'WorkSnowball', 'WorkOk', 'WorkUnrelated', 'WorkNoFile', 'WorkLang', 'Site', 'Email'), value='WorkUnrelated'), ToggleButton(value=False, description='File'))), HBox(children=(Text(value='', description='Due'), Text(value='', description='Place'))), HBox(children=(Text(value='', description='Year'), Text(value='', description='Prefix Var'))), HBox(children=(Text(value='', description='PDFPage'), Text(value='', description='Related'))), HBox(children=(Text(value='', description='Display'), Text(value='', description='Summary'))), HBox(children=(Text(value='', description='Star'), Text(value='', description='Link'))), HBox(children=(Button(description='Reload Article', icon='refresh', style=ButtonStyle()), IntSlider(value=0, max=5), Label(value='1/6'))), Output()))"
      ]
     },
     "metadata": {},
     "output_type": "display_data"
    },
    {
     "data": {
      "application/javascript": [
       "$('span:contains(\"# Temp\")').closest('.cell').remove();"
      ],
      "text/plain": [
       "<IPython.core.display.Javascript object>"
      ]
     },
     "metadata": {},
     "output_type": "display_data"
    },
    {
     "data": {
      "application/javascript": [
       "\n",
       "        $('span:contains(\"# Temp\")').closest('.cell').remove();\n",
       "        var code = IPython.notebook.insert_cell_below('code');\n",
       "        code.set_text(decodeURIComponent(window.atob(\"JTIzJTIwVGVtcCUwQWluc2VydCUyOCUyNyUyNyUyNyUwQWdyYW50MjAxMmElMjAlM0QlMjBEQiUyOFdvcmtVbnJlbGF0ZWQlMjglMEElMjAlMjAlMjAlMjAyMDEyJTJDJTIwJTIyTmF2aWdhdGUlMjB0aGUlMjBGdXR1cmUlMjBvZiUyMEFnaWxlJTIwYW5kJTIwTGVhbiUyMiUyQyUwQSUyMCUyMCUyMCUyMGRpc3BsYXklM0QlMjJncmFudCUyMiUyQyUwQSUyMCUyMCUyMCUyMGF1dGhvcnMlM0QlMjJHcmFudCUyQyUyMFQuJTIyJTJDJTBBJTIwJTIwJTIwJTIwcGxhY2UlM0RGQUtFJTJDJTBBJTIwJTIwJTIwJTIwZW50cnl0eXBlJTNEJTIyYXJ0aWNsZSUyMiUyQyUwQSUyMCUyMCUyMCUyMG5vdGUlM0QlMjJjaXRlZCUyMEJ5JTIwMiUyMiUyQyUwQSUyMCUyMCUyMCUyMElEJTNEJTIyR3JhbnQyMDEyJTIyJTJDJTBBJTIwJTIwJTIwJTIwcGxhY2V4JTNEJTIyJTIyJTJDJTBBJTI5JTI5JTBBJTBBREIlMjhDaXRhdGlvbiUyOCUwQSUyMCUyMCUyMCUyMG96a2F5YTIwMTNhJTJDJTIwZ3JhbnQyMDEyYSUyQyUyMHJlZiUzRCUyMiUyMiUyQyUwQSUyMCUyMCUyMCUyMGNvbnRleHRzJTNEJTVCJTBBJTBBJTIwJTIwJTIwJTIwJTVEJTJDJTBBJTI5JTI5JTBBJTBBJTI3JTI3JTI3JTJDJTIwY2l0YXRpb25zJTNEJTI3b3prYXlhMjAxM2ElMjclMjklM0I=\")));\n",
       "    "
      ],
      "text/plain": [
       "<IPython.core.display.Javascript object>"
      ]
     },
     "metadata": {},
     "output_type": "display_data"
    },
    {
     "data": {
      "application/javascript": [
       "$('span:contains(\"# Temp\")').closest('.cell').remove();"
      ],
      "text/plain": [
       "<IPython.core.display.Javascript object>"
      ]
     },
     "metadata": {},
     "output_type": "display_data"
    },
    {
     "data": {
      "application/javascript": [
       "\n",
       "        $('span:contains(\"# Temp\")').closest('.cell').remove();\n",
       "        var code = IPython.notebook.insert_cell_below('code');\n",
       "        code.set_text(decodeURIComponent(window.atob(\"JTIzJTIwVGVtcCUwQWluc2VydCUyOCUyNyUyNyUyNyUwQURCJTI4Q2l0YXRpb24lMjglMEElMjAlMjAlMjAlMjBvemtheWEyMDEzYSUyQyUyMGxlZmZpbmd3ZWxsMjAwN2ElMkMlMjByZWYlM0QlMjIlMjIlMkMlMEElMjAlMjAlMjAlMjBjb250ZXh0cyUzRCU1QiUwQSUwQSUyMCUyMCUyMCUyMCU1RCUyQyUwQSUyOSUyOSUwQSUwQSUyNyUyNyUyNyUyQyUyMGNpdGF0aW9ucyUzRCUyN296a2F5YTIwMTNhJTI3JTI5JTNC\")));\n",
       "    "
      ],
      "text/plain": [
       "<IPython.core.display.Javascript object>"
      ]
     },
     "metadata": {},
     "output_type": "display_data"
    },
    {
     "data": {
      "application/javascript": [
       "$('span:contains(\"# Temp\")').closest('.cell').remove();"
      ],
      "text/plain": [
       "<IPython.core.display.Javascript object>"
      ]
     },
     "metadata": {},
     "output_type": "display_data"
    },
    {
     "data": {
      "application/javascript": [
       "\n",
       "        $('span:contains(\"# Temp\")').closest('.cell').remove();\n",
       "        var code = IPython.notebook.insert_cell_below('code');\n",
       "        code.set_text(decodeURIComponent(window.atob(\"JTIzJTIwVGVtcCUwQWluc2VydCUyOCUyNyUyNyUyNyUwQURCJTI4Q2l0YXRpb24lMjglMEElMjAlMjAlMjAlMjBvemtheWEyMDEzYSUyQyUyMGxlZmZpbmd3ZWxsMjAwN2ElMkMlMjByZWYlM0QlMjIlMjIlMkMlMEElMjAlMjAlMjAlMjBjb250ZXh0cyUzRCU1QiUwQSUwQSUyMCUyMCUyMCUyMCU1RCUyQyUwQSUyOSUyOSUwQSUwQSUyNyUyNyUyNyUyQyUyMGNpdGF0aW9ucyUzRCUyN296a2F5YTIwMTNhJTI3JTI5JTNC\")));\n",
       "    "
      ],
      "text/plain": [
       "<IPython.core.display.Javascript object>"
      ]
     },
     "metadata": {},
     "output_type": "display_data"
    },
    {
     "data": {
      "application/javascript": [
       "$('span:contains(\"# Temp\")').closest('.cell').remove();"
      ],
      "text/plain": [
       "<IPython.core.display.Javascript object>"
      ]
     },
     "metadata": {},
     "output_type": "display_data"
    },
    {
     "data": {
      "application/javascript": [
       "\n",
       "        $('span:contains(\"# Temp\")').closest('.cell').remove();\n",
       "        var code = IPython.notebook.insert_cell_below('code');\n",
       "        code.set_text(decodeURIComponent(window.atob(\"JTIzJTIwVGVtcCUwQWluc2VydCUyOCUyNyUyNyUyNyUwQWJhY2htYW5uMjAxMmElMjAlM0QlMjBEQiUyOFdvcmtVbnJlbGF0ZWQlMjglMEElMjAlMjAlMjAlMjAyMDEyJTJDJTIwJTIyQXJjaGl0ZWN0dXJhbCUyMHRhY3RpY3MlMjB0byUyMHN1cHBvcnQlMjByYXBpZCUyMGFuZCUyMGFnaWxlJTIwc3RhYmlsaXR5JTIyJTJDJTBBJTIwJTIwJTIwJTIwZGlzcGxheSUzRCUyMmJhY2htYW5uJTIyJTJDJTBBJTIwJTIwJTIwJTIwYXV0aG9ycyUzRCUyMkJhY2htYW5uJTJDJTIwRi4lMjBhbmQlMjBOb3JkJTJDJTIwUi5MLiUyMGFuZCUyME96a2F5YSUyQyUyMEkuJTIyJTJDJTBBJTIwJTIwJTIwJTIwcGxhY2UlM0RGQUtFJTJDJTBBJTIwJTIwJTIwJTIwcHAlM0QlMjIyMC0yNSUyMiUyQyUwQSUyMCUyMCUyMCUyMGVudHJ5dHlwZSUzRCUyMmFydGljbGUlMjIlMkMlMEElMjAlMjAlMjAlMjB2b2x1bWUlM0QlMjIyNSUyMiUyQyUwQSUyMCUyMCUyMCUyMG51bWJlciUzRCUyMjMlMjIlMkMlMEElMjAlMjAlMjAlMjBub3RlJTNEJTIyY2l0ZWQlMjBCeSUyMDEyJTIyJTJDJTBBJTIwJTIwJTIwJTIwSUQlM0QlMjJCYWNobWFubjIwMTIyMCUyMiUyQyUwQSUyMCUyMCUyMCUyMHBsYWNleCUzRCUyMkNyb3NzVGFsayUyMiUyQyUwQSUyOSUyOSUwQSUwQURCJTI4Q2l0YXRpb24lMjglMEElMjAlMjAlMjAlMjBvemtheWEyMDEzYSUyQyUyMGJhY2htYW5uMjAxMmElMkMlMjByZWYlM0QlMjIlMjIlMkMlMEElMjAlMjAlMjAlMjBjb250ZXh0cyUzRCU1QiUwQSUwQSUyMCUyMCUyMCUyMCU1RCUyQyUwQSUyOSUyOSUwQSUwQSUyNyUyNyUyNyUyQyUyMGNpdGF0aW9ucyUzRCUyN296a2F5YTIwMTNhJTI3JTI5JTNC\")));\n",
       "    "
      ],
      "text/plain": [
       "<IPython.core.display.Javascript object>"
      ]
     },
     "metadata": {},
     "output_type": "display_data"
    },
    {
     "data": {
      "application/javascript": [
       "$('span:contains(\"# Temp\")').closest('.cell').remove();"
      ],
      "text/plain": [
       "<IPython.core.display.Javascript object>"
      ]
     },
     "metadata": {},
     "output_type": "display_data"
    },
    {
     "data": {
      "application/javascript": [
       "\n",
       "        $('span:contains(\"# Temp\")').closest('.cell').remove();\n",
       "        var code = IPython.notebook.insert_cell_below('code');\n",
       "        code.set_text(decodeURIComponent(window.atob(\"JTIzJTIwVGVtcCUwQWluc2VydCUyOCUyNyUyNyUyNyUwQWJhY2htYW5uMjAxMmElMjAlM0QlMjBEQiUyOFdvcmtVbnJlbGF0ZWQlMjglMEElMjAlMjAlMjAlMjAyMDEyJTJDJTIwJTIyQXJjaGl0ZWN0dXJhbCUyMHRhY3RpY3MlMjB0byUyMHN1cHBvcnQlMjByYXBpZCUyMGFuZCUyMGFnaWxlJTIwc3RhYmlsaXR5JTIyJTJDJTBBJTIwJTIwJTIwJTIwZGlzcGxheSUzRCUyMmJhY2htYW5uJTIyJTJDJTBBJTIwJTIwJTIwJTIwYXV0aG9ycyUzRCUyMkJhY2htYW5uJTJDJTIwRi4lMjBhbmQlMjBOb3JkJTJDJTIwUi5MLiUyMGFuZCUyME96a2F5YSUyQyUyMEkuJTIyJTJDJTBBJTIwJTIwJTIwJTIwcGxhY2UlM0RGQUtFJTJDJTBBJTIwJTIwJTIwJTIwcHAlM0QlMjIyMC0yNSUyMiUyQyUwQSUyMCUyMCUyMCUyMGVudHJ5dHlwZSUzRCUyMmFydGljbGUlMjIlMkMlMEElMjAlMjAlMjAlMjB2b2x1bWUlM0QlMjIyNSUyMiUyQyUwQSUyMCUyMCUyMCUyMG51bWJlciUzRCUyMjMlMjIlMkMlMEElMjAlMjAlMjAlMjBub3RlJTNEJTIyY2l0ZWQlMjBCeSUyMDEyJTIyJTJDJTBBJTIwJTIwJTIwJTIwSUQlM0QlMjJCYWNobWFubjIwMTIyMCUyMiUyQyUwQSUyMCUyMCUyMCUyMHBsYWNleCUzRCUyMkNyb3NzVGFsayUyMiUyQyUwQSUyOSUyOSUwQSUwQURCJTI4Q2l0YXRpb24lMjglMEElMjAlMjAlMjAlMjBvemtheWEyMDEzYSUyQyUyMGJhY2htYW5uMjAxMmElMkMlMjByZWYlM0QlMjIlMjIlMkMlMEElMjAlMjAlMjAlMjBjb250ZXh0cyUzRCU1QiUwQSUwQSUyMCUyMCUyMCUyMCU1RCUyQyUwQSUyOSUyOSUwQSUwQSUyNyUyNyUyNyUyQyUyMGNpdGF0aW9ucyUzRCUyN296a2F5YTIwMTNhJTI3JTI5JTNC\")));\n",
       "    "
      ],
      "text/plain": [
       "<IPython.core.display.Javascript object>"
      ]
     },
     "metadata": {},
     "output_type": "display_data"
    },
    {
     "data": {
      "application/javascript": [
       "$('span:contains(\"# Temp\")').closest('.cell').remove();"
      ],
      "text/plain": [
       "<IPython.core.display.Javascript object>"
      ]
     },
     "metadata": {},
     "output_type": "display_data"
    },
    {
     "data": {
      "application/javascript": [
       "\n",
       "        $('span:contains(\"# Temp\")').closest('.cell').remove();\n",
       "        var code = IPython.notebook.insert_cell_below('code');\n",
       "        code.set_text(decodeURIComponent(window.atob(\"JTIzJTIwVGVtcCUwQWluc2VydCUyOCUyNyUyNyUyNyUwQW5hbmV0dGUyMDEwYSUyMCUzRCUyMERCJTI4V29ya1VucmVsYXRlZCUyOCUwQSUyMCUyMCUyMCUyMDIwMTAlMkMlMjAlMjJFbmFibGluZyUyMGFnaWxpdHklMjB0aHJvdWdoJTIwYXJjaGl0ZWN0dXJlJTIyJTJDJTBBJTIwJTIwJTIwJTIwZGlzcGxheSUzRCUyMm5hbmV0dGUlMjIlMkMlMEElMjAlMjAlMjAlMjBhdXRob3JzJTNEJTIyTmFuZXR0ZSUyQyUyMEIuJTIwYW5kJTIwTm9yZCUyQyUyMFIuJTIwYW5kJTIwT3prYXlhJTJDJTIwSS4lMjIlMkMlMEElMjAlMjAlMjAlMjBwbGFjZSUzREZBS0UlMkMlMEElMjAlMjAlMjAlMjBwcCUzRCUyMjEyLTE3JTIyJTJDJTBBJTIwJTIwJTIwJTIwZW50cnl0eXBlJTNEJTIyYXJ0aWNsZSUyMiUyQyUwQSUyMCUyMCUyMCUyMHZvbHVtZSUzRCUyMjIzJTIyJTJDJTBBJTIwJTIwJTIwJTIwbnVtYmVyJTNEJTIyMTEtMTIlMjIlMkMlMEElMjAlMjAlMjAlMjBub3RlJTNEJTIyY2l0ZWQlMjBCeSUyMDE3JTIyJTJDJTBBJTIwJTIwJTIwJTIwSUQlM0QlMjJOYW5ldHRlMjAxMDEyJTIyJTJDJTBBJTIwJTIwJTIwJTIwcGxhY2V4JTNEJTIyQ3Jvc3NUYWxrJTIyJTJDJTBBJTI5JTI5JTBBJTBBREIlMjhDaXRhdGlvbiUyOCUwQSUyMCUyMCUyMCUyMG96a2F5YTIwMTNhJTJDJTIwbmFuZXR0ZTIwMTBhJTJDJTIwcmVmJTNEJTIyJTIyJTJDJTBBJTIwJTIwJTIwJTIwY29udGV4dHMlM0QlNUIlMEElMEElMjAlMjAlMjAlMjAlNUQlMkMlMEElMjklMjklMEElMEElMjclMjclMjclMkMlMjBjaXRhdGlvbnMlM0QlMjdvemtheWEyMDEzYSUyNyUyOSUzQg==\")));\n",
       "    "
      ],
      "text/plain": [
       "<IPython.core.display.Javascript object>"
      ]
     },
     "metadata": {},
     "output_type": "display_data"
    },
    {
     "data": {
      "application/javascript": [
       "$('span:contains(\"# Temp\")').closest('.cell').remove();"
      ],
      "text/plain": [
       "<IPython.core.display.Javascript object>"
      ]
     },
     "metadata": {},
     "output_type": "display_data"
    },
    {
     "data": {
      "application/javascript": [
       "\n",
       "        $('span:contains(\"# Temp\")').closest('.cell').remove();\n",
       "        var code = IPython.notebook.insert_cell_below('code');\n",
       "        code.set_text(decodeURIComponent(window.atob(\"JTIzJTIwVGVtcCUwQWluc2VydCUyOCUyNyUyNyUyNyUwQW5hbmV0dGUyMDEwYSUyMCUzRCUyMERCJTI4V29ya1VucmVsYXRlZCUyOCUwQSUyMCUyMCUyMCUyMDIwMTAlMkMlMjAlMjJFbmFibGluZyUyMGFnaWxpdHklMjB0aHJvdWdoJTIwYXJjaGl0ZWN0dXJlJTIyJTJDJTBBJTIwJTIwJTIwJTIwZGlzcGxheSUzRCUyMm5hbmV0dGUlMjIlMkMlMEElMjAlMjAlMjAlMjBhdXRob3JzJTNEJTIyTmFuZXR0ZSUyQyUyMEIuJTIwYW5kJTIwTm9yZCUyQyUyMFIuJTIwYW5kJTIwT3prYXlhJTJDJTIwSS4lMjIlMkMlMEElMjAlMjAlMjAlMjBwbGFjZSUzREZBS0UlMkMlMEElMjAlMjAlMjAlMjBwcCUzRCUyMjEyLTE3JTIyJTJDJTBBJTIwJTIwJTIwJTIwZW50cnl0eXBlJTNEJTIyYXJ0aWNsZSUyMiUyQyUwQSUyMCUyMCUyMCUyMHZvbHVtZSUzRCUyMjIzJTIyJTJDJTBBJTIwJTIwJTIwJTIwbnVtYmVyJTNEJTIyMTEtMTIlMjIlMkMlMEElMjAlMjAlMjAlMjBub3RlJTNEJTIyY2l0ZWQlMjBCeSUyMDE3JTIyJTJDJTBBJTIwJTIwJTIwJTIwSUQlM0QlMjJOYW5ldHRlMjAxMDEyJTIyJTJDJTBBJTIwJTIwJTIwJTIwcGxhY2V4JTNEJTIyQ3Jvc3NUYWxrJTIyJTJDJTBBJTI5JTI5JTBBJTBBREIlMjhDaXRhdGlvbiUyOCUwQSUyMCUyMCUyMCUyMG96a2F5YTIwMTNhJTJDJTIwbmFuZXR0ZTIwMTBhJTJDJTIwcmVmJTNEJTIyJTIyJTJDJTBBJTIwJTIwJTIwJTIwY29udGV4dHMlM0QlNUIlMEElMEElMjAlMjAlMjAlMjAlNUQlMkMlMEElMjklMjklMEElMEElMjclMjclMjclMkMlMjBjaXRhdGlvbnMlM0QlMjdvemtheWEyMDEzYSUyNyUyOSUzQg==\")));\n",
       "    "
      ],
      "text/plain": [
       "<IPython.core.display.Javascript object>"
      ]
     },
     "metadata": {},
     "output_type": "display_data"
    },
    {
     "data": {
      "application/javascript": [
       "$('span:contains(\"# Temp\")').closest('.cell').remove();"
      ],
      "text/plain": [
       "<IPython.core.display.Javascript object>"
      ]
     },
     "metadata": {},
     "output_type": "display_data"
    },
    {
     "data": {
      "application/javascript": [
       "\n",
       "        $('span:contains(\"# Temp\")').closest('.cell').remove();\n",
       "        var code = IPython.notebook.insert_cell_below('code');\n",
       "        code.set_text(decodeURIComponent(window.atob(\"JTIzJTIwVGVtcCUwQWluc2VydCUyOCUyNyUyNyUyNyUwQWxhcGhhbTIwMTFhJTIwJTNEJTIwREIlMjhXb3JrVW5yZWxhdGVkJTI4JTBBJTIwJTIwJTIwJTIwMjAxMSUyQyUyMCUyMkFnaWxlJTIwTWV0aG9kcyUzQSUyMFNlbGVjdGVkJTIwRG9EJTIwTWFuYWdlbWVudCUyMGFuZCUyMEFjcXVpc2l0aW9uJTIwQ29uY2VybnMlMjIlMkMlMEElMjAlMjAlMjAlMjBkaXNwbGF5JTNEJTIybGFwaGFtJTIyJTJDJTBBJTIwJTIwJTIwJTIwYXV0aG9ycyUzRCUyMkxhcGhhbSUyQyUyME0uQS4lMjBhbmQlMjBNaWxsZXIlMkMlMjBTLiUyMGFuZCUyMEFkYW1zJTJDJTIwTC4lMjBhbmQlMjBCcm93biUyQyUyME4uJTIwYW5kJTIwSGFja2VtYWNrJTJDJTIwQi4lMjBhbmQlMjBIYW1tb25zJTJDJTIwQy4lMjBhbmQlMjBMZXZpbmUlMkMlMjBMLiUyMGFuZCUyMFNjaGVua2VyJTJDJTIwQS4lMjIlMkMlMEElMjAlMjAlMjAlMjBwbGFjZSUzREZBS0UlMkMlMEElMjAlMjAlMjAlMjBlbnRyeXR5cGUlM0QlMjJhcnRpY2xlJTIyJTJDJTBBJTIwJTIwJTIwJTIwbm90ZSUzRCUyMmNpdGVkJTIwQnklMjA3JTIyJTJDJTBBJTIwJTIwJTIwJTIwSUQlM0QlMjJMYXBoYW0yMDExJTIyJTJDJTBBJTIwJTIwJTIwJTIwcGxhY2V4JTNEJTIyJTIyJTJDJTBBJTI5JTI5JTBBJTBBREIlMjhDaXRhdGlvbiUyOCUwQSUyMCUyMCUyMCUyMG96a2F5YTIwMTNhJTJDJTIwbGFwaGFtMjAxMWElMkMlMjByZWYlM0QlMjIlMjIlMkMlMEElMjAlMjAlMjAlMjBjb250ZXh0cyUzRCU1QiUwQSUwQSUyMCUyMCUyMCUyMCU1RCUyQyUwQSUyOSUyOSUwQSUwQSUyNyUyNyUyNyUyQyUyMGNpdGF0aW9ucyUzRCUyN296a2F5YTIwMTNhJTI3JTI5JTNC\")));\n",
       "    "
      ],
      "text/plain": [
       "<IPython.core.display.Javascript object>"
      ]
     },
     "metadata": {},
     "output_type": "display_data"
    },
    {
     "data": {
      "application/javascript": [
       "$('span:contains(\"# Temp\")').closest('.cell').remove();"
      ],
      "text/plain": [
       "<IPython.core.display.Javascript object>"
      ]
     },
     "metadata": {},
     "output_type": "display_data"
    },
    {
     "data": {
      "application/javascript": [
       "\n",
       "        $('span:contains(\"# Temp\")').closest('.cell').remove();\n",
       "        var code = IPython.notebook.insert_cell_below('code');\n",
       "        code.set_text(decodeURIComponent(window.atob(\"JTIzJTIwVGVtcCUwQWluc2VydCUyOCUyNyUyNyUyNyUwQWxhcGhhbTIwMTFhJTIwJTNEJTIwREIlMjhXb3JrVW5yZWxhdGVkJTI4JTBBJTIwJTIwJTIwJTIwMjAxMSUyQyUyMCUyMkFnaWxlJTIwTWV0aG9kcyUzQSUyMFNlbGVjdGVkJTIwRG9EJTIwTWFuYWdlbWVudCUyMGFuZCUyMEFjcXVpc2l0aW9uJTIwQ29uY2VybnMlMjIlMkMlMEElMjAlMjAlMjAlMjBkaXNwbGF5JTNEJTIybGFwaGFtJTIyJTJDJTBBJTIwJTIwJTIwJTIwYXV0aG9ycyUzRCUyMkxhcGhhbSUyQyUyME0uQS4lMjBhbmQlMjBNaWxsZXIlMkMlMjBTLiUyMGFuZCUyMEFkYW1zJTJDJTIwTC4lMjBhbmQlMjBCcm93biUyQyUyME4uJTIwYW5kJTIwSGFja2VtYWNrJTJDJTIwQi4lMjBhbmQlMjBIYW1tb25zJTJDJTIwQy4lMjBhbmQlMjBMZXZpbmUlMkMlMjBMLiUyMGFuZCUyMFNjaGVua2VyJTJDJTIwQS4lMjIlMkMlMEElMjAlMjAlMjAlMjBwbGFjZSUzREZBS0UlMkMlMEElMjAlMjAlMjAlMjBlbnRyeXR5cGUlM0QlMjJhcnRpY2xlJTIyJTJDJTBBJTIwJTIwJTIwJTIwbm90ZSUzRCUyMmNpdGVkJTIwQnklMjA3JTIyJTJDJTBBJTIwJTIwJTIwJTIwSUQlM0QlMjJMYXBoYW0yMDExJTIyJTJDJTBBJTIwJTIwJTIwJTIwcGxhY2V4JTNEJTIyJTIyJTJDJTBBJTI5JTI5JTBBJTBBREIlMjhDaXRhdGlvbiUyOCUwQSUyMCUyMCUyMCUyMG96a2F5YTIwMTNhJTJDJTIwbGFwaGFtMjAxMWElMkMlMjByZWYlM0QlMjIlMjIlMkMlMEElMjAlMjAlMjAlMjBjb250ZXh0cyUzRCU1QiUwQSUwQSUyMCUyMCUyMCUyMCU1RCUyQyUwQSUyOSUyOSUwQSUwQSUyNyUyNyUyNyUyQyUyMGNpdGF0aW9ucyUzRCUyN296a2F5YTIwMTNhJTI3JTI5JTNC\")));\n",
       "    "
      ],
      "text/plain": [
       "<IPython.core.display.Javascript object>"
      ]
     },
     "metadata": {},
     "output_type": "display_data"
    },
    {
     "data": {
      "application/javascript": [
       "$('span:contains(\"# Temp\")').closest('.cell').remove();"
      ],
      "text/plain": [
       "<IPython.core.display.Javascript object>"
      ]
     },
     "metadata": {},
     "output_type": "display_data"
    },
    {
     "data": {
      "application/javascript": [
       "\n",
       "        $('span:contains(\"# Temp\")').closest('.cell').remove();\n",
       "        var code = IPython.notebook.insert_cell_below('code');\n",
       "        code.set_text(decodeURIComponent(window.atob(\"JTIzJTIwVGVtcCUwQWluc2VydCUyOCUyNyUyNyUyNyUwQWJhc3MxOTk4YSUyMCUzRCUyMERCJTI4V29ya1VucmVsYXRlZCUyOCUwQSUyMCUyMCUyMCUyMDE5OTglMkMlMjAlMjJTb2Z0d2FyZSUyMGFyY2hpdGVjdHVyZSUyMGluJTIwcHJhY3RpY2UlMjIlMkMlMEElMjAlMjAlMjAlMjBkaXNwbGF5JTNEJTIyYmFzcyUyMiUyQyUwQSUyMCUyMCUyMCUyMGF1dGhvcnMlM0QlMjJCYXNzJTJDJTIwTC4lMjBhbmQlMjBDbGVtZW50cyUyQyUyMFAuJTIwYW5kJTIwS2F6bWFuJTJDJTIwUi4lMjIlMkMlMEElMjAlMjAlMjAlMjBwbGFjZSUzREZBS0UlMkMlMEElMjAlMjAlMjAlMjBlbnRyeXR5cGUlM0QlMjJhcnRpY2xlJTIyJTJDJTBBJTIwJTIwJTIwJTIwbm90ZSUzRCUyMmNpdGVkJTIwQnklMjAyOTM4JTIyJTJDJTBBJTIwJTIwJTIwJTIwSUQlM0QlMjJCYXNzMTk5OCUyMiUyQyUwQSUyMCUyMCUyMCUyMHBsYWNleCUzRCUyMlNvZnR3YXJlJTIwQXJjaGl0ZWN0dXJlJTIwaW4lMjBQcmFjdGljZSUyMiUyQyUwQSUyOSUyOSUwQSUwQURCJTI4Q2l0YXRpb24lMjglMEElMjAlMjAlMjAlMjBvemtheWEyMDEzYSUyQyUyMGJhc3MxOTk4YSUyQyUyMHJlZiUzRCUyMiUyMiUyQyUwQSUyMCUyMCUyMCUyMGNvbnRleHRzJTNEJTVCJTBBJTBBJTIwJTIwJTIwJTIwJTVEJTJDJTBBJTI5JTI5JTBBJTBBJTI3JTI3JTI3JTJDJTIwY2l0YXRpb25zJTNEJTI3b3prYXlhMjAxM2ElMjclMjklM0I=\")));\n",
       "    "
      ],
      "text/plain": [
       "<IPython.core.display.Javascript object>"
      ]
     },
     "metadata": {},
     "output_type": "display_data"
    },
    {
     "data": {
      "application/javascript": [
       "$('span:contains(\"# Temp\")').closest('.cell').remove();"
      ],
      "text/plain": [
       "<IPython.core.display.Javascript object>"
      ]
     },
     "metadata": {},
     "output_type": "display_data"
    },
    {
     "data": {
      "application/javascript": [
       "\n",
       "        $('span:contains(\"# Temp\")').closest('.cell').remove();\n",
       "        var code = IPython.notebook.insert_cell_below('code');\n",
       "        code.set_text(decodeURIComponent(window.atob(\"JTIzJTIwVGVtcCUwQWluc2VydCUyOCUyNyUyNyUyNyUwQWJhc3MxOTk4YSUyMCUzRCUyMERCJTI4V29ya1VucmVsYXRlZCUyOCUwQSUyMCUyMCUyMCUyMDE5OTglMkMlMjAlMjJTb2Z0d2FyZSUyMGFyY2hpdGVjdHVyZSUyMGluJTIwcHJhY3RpY2UlMjIlMkMlMEElMjAlMjAlMjAlMjBkaXNwbGF5JTNEJTIyYmFzcyUyMiUyQyUwQSUyMCUyMCUyMCUyMGF1dGhvcnMlM0QlMjJCYXNzJTJDJTIwTC4lMjBhbmQlMjBDbGVtZW50cyUyQyUyMFAuJTIwYW5kJTIwS2F6bWFuJTJDJTIwUi4lMjIlMkMlMEElMjAlMjAlMjAlMjBwbGFjZSUzREZBS0UlMkMlMEElMjAlMjAlMjAlMjBlbnRyeXR5cGUlM0QlMjJhcnRpY2xlJTIyJTJDJTBBJTIwJTIwJTIwJTIwbm90ZSUzRCUyMmNpdGVkJTIwQnklMjAyOTM4JTIyJTJDJTBBJTIwJTIwJTIwJTIwSUQlM0QlMjJCYXNzMTk5OCUyMiUyQyUwQSUyMCUyMCUyMCUyMHBsYWNleCUzRCUyMlNvZnR3YXJlJTIwQXJjaGl0ZWN0dXJlJTIwaW4lMjBQcmFjdGljZSUyMiUyQyUwQSUyOSUyOSUwQSUwQURCJTI4Q2l0YXRpb24lMjglMEElMjAlMjAlMjAlMjBvemtheWEyMDEzYSUyQyUyMGJhc3MxOTk4YSUyQyUyMHJlZiUzRCUyMiUyMiUyQyUwQSUyMCUyMCUyMCUyMGNvbnRleHRzJTNEJTVCJTBBJTBBJTIwJTIwJTIwJTIwJTVEJTJDJTBBJTI5JTI5JTBBJTBBJTI3JTI3JTI3JTJDJTIwY2l0YXRpb25zJTNEJTI3b3prYXlhMjAxM2ElMjclMjklM0I=\")));\n",
       "    "
      ],
      "text/plain": [
       "<IPython.core.display.Javascript object>"
      ]
     },
     "metadata": {},
     "output_type": "display_data"
    }
   ],
   "source": [
    "import importlib\n",
    "import custom_snowballing\n",
    "importlib.reload(custom_snowballing)\n",
    "from custom_snowballing import UnrelatedBackward\n",
    "UnrelatedBackward(\"davis2013a\", articles=article_list)"
   ]
  },
  {
   "cell_type": "code",
   "execution_count": 10,
   "metadata": {},
   "outputs": [
    {
     "name": "stdout",
     "output_type": "stream",
     "text": [
      "-Insert: bass1998a\n",
      "-Insert Import: bass1998a\n",
      "-Insert Citation: ozkaya2013a -> bass1998a\n"
     ]
    }
   ],
   "source": [
    "# Temp\n",
    "insert('''\n",
    "bass1998a = DB(WorkUnrelated(\n",
    "    1998, \"Software architecture in practice\",\n",
    "    display=\"bass\",\n",
    "    authors=\"Bass, L. and Clements, P. and Kazman, R.\",\n",
    "    place=FAKE,\n",
    "    entrytype=\"article\",\n",
    "    note=\"cited By 2938\",\n",
    "    ID=\"Bass1998\",\n",
    "    placex=\"Software Architecture in Practice\",\n",
    "))\n",
    "\n",
    "DB(Citation(\n",
    "    ozkaya2013a, bass1998a, ref=\"\",\n",
    "    contexts=[\n",
    "\n",
    "    ],\n",
    "))\n",
    "\n",
    "''', citations='ozkaya2013a');"
   ]
  },
  {
   "cell_type": "code",
   "execution_count": null,
   "metadata": {
    "collapsed": true
   },
   "outputs": [],
   "source": []
  }
 ],
 "metadata": {
  "kernelspec": {
   "display_name": "Python 3",
   "language": "python",
   "name": "python3"
  },
  "language_info": {
   "codemirror_mode": {
    "name": "ipython",
    "version": 3
   },
   "file_extension": ".py",
   "mimetype": "text/x-python",
   "name": "python",
   "nbconvert_exporter": "python",
   "pygments_lexer": "ipython3",
   "version": "3.6.0"
  },
  "toc": {
   "nav_menu": {
    "height": "12px",
    "width": "252px"
   },
   "number_sections": true,
   "sideBar": true,
   "skip_h1_title": false,
   "toc_cell": false,
   "toc_position": {},
   "toc_section_display": "block",
   "toc_window_display": false
  }
 },
 "nbformat": 4,
 "nbformat_minor": 2
}
