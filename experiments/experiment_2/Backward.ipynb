{
 "cells": [
  {
   "cell_type": "code",
   "execution_count": 1,
   "metadata": {
    "collapsed": true
   },
   "outputs": [],
   "source": [
    "import database\n",
    "from snowballing.operations import load_work, reload, work_by_varname\n",
    "from snowballing.snowballing import Converter\n",
    "from snowballing.dbmanager import insert, set_attribute"
   ]
  },
  {
   "cell_type": "code",
   "execution_count": 2,
   "metadata": {
    "scrolled": false
   },
   "outputs": [
    {
     "data": {
      "application/vnd.jupyter.widget-view+json": {
       "model_id": "88224c085f4f4ed0ba3d1a4f752108cf",
       "version_major": 2,
       "version_minor": 0
      },
      "text/html": [
       "<p>Failed to display Jupyter Widget of type <code>VBox</code>.</p>\n",
       "<p>\n",
       "  If you're reading this message in Jupyter Notebook or JupyterLab, it may mean\n",
       "  that the widgets JavaScript is still loading. If this message persists, it\n",
       "  likely means that the widgets JavaScript library is either not installed or\n",
       "  not enabled. See the <a href=\"https://ipywidgets.readthedocs.io/en/stable/user_install.html\">Jupyter\n",
       "  Widgets Documentation</a> for setup instructions.\n",
       "</p>\n",
       "<p>\n",
       "  If you're reading this message in another notebook frontend (for example, a static\n",
       "  rendering on GitHub or <a href=\"https://nbviewer.jupyter.org/\">NBViewer</a>),\n",
       "  it may mean that your frontend doesn't currently support widgets.\n",
       "</p>\n"
      ],
      "text/plain": [
       "VBox(children=(HBox(children=(Dropdown(index=1, options={'BibTeX': 'bibtex', 'Text': 'text', '[N] author name place other year': 'citation', 'Quoted': 'quoted'}, value='text'), Button(description='Set article_list variable', disabled=True, style=ButtonStyle()), Label(value=''))), HBox(children=(Textarea(value='', layout=Layout(height='500px', width='50%')), Textarea(value='', layout=Layout(height='500px', width='50%'))))))"
      ]
     },
     "metadata": {},
     "output_type": "display_data"
    }
   ],
   "source": [
    "Converter().browser()"
   ]
  },
  {
   "cell_type": "code",
   "execution_count": null,
   "metadata": {
    "collapsed": true
   },
   "outputs": [],
   "source": []
  },
  {
   "cell_type": "code",
   "execution_count": null,
   "metadata": {
    "collapsed": true
   },
   "outputs": [],
   "source": [
    "Converter().browser()"
   ]
  },
  {
   "cell_type": "code",
   "execution_count": 3,
   "metadata": {},
   "outputs": [
    {
     "data": {
      "text/plain": [
       "19"
      ]
     },
     "execution_count": 3,
     "metadata": {},
     "output_type": "execute_result"
    }
   ],
   "source": [
    "len(article_list)"
   ]
  },
  {
   "cell_type": "code",
   "execution_count": null,
   "metadata": {
    "collapsed": true
   },
   "outputs": [],
   "source": [
    "#from database.work.y2015 import li2015a"
   ]
  },
  {
   "cell_type": "code",
   "execution_count": null,
   "metadata": {
    "collapsed": true
   },
   "outputs": [],
   "source": [
    "#int(getattr(li2015a, 'scopus', 0))"
   ]
  },
  {
   "cell_type": "code",
   "execution_count": null,
   "metadata": {
    "collapsed": true
   },
   "outputs": [],
   "source": [
    "#print(article_list)"
   ]
  },
  {
   "cell_type": "code",
   "execution_count": null,
   "metadata": {
    "collapsed": true
   },
   "outputs": [],
   "source": []
  },
  {
   "cell_type": "code",
   "execution_count": null,
   "metadata": {
    "collapsed": true
   },
   "outputs": [],
   "source": []
  },
  {
   "cell_type": "code",
   "execution_count": null,
   "metadata": {
    "collapsed": true
   },
   "outputs": [],
   "source": []
  },
  {
   "cell_type": "code",
   "execution_count": null,
   "metadata": {
    "collapsed": true
   },
   "outputs": [],
   "source": []
  },
  {
   "cell_type": "code",
   "execution_count": null,
   "metadata": {
    "collapsed": true
   },
   "outputs": [],
   "source": []
  },
  {
   "cell_type": "code",
   "execution_count": 4,
   "metadata": {},
   "outputs": [
    {
     "data": {
      "application/vnd.jupyter.widget-view+json": {
       "model_id": "7ae42c24fe014a0a8436ee53e782e890",
       "version_major": 2,
       "version_minor": 0
      },
      "text/html": [
       "<p>Failed to display Jupyter Widget of type <code>VBox</code>.</p>\n",
       "<p>\n",
       "  If you're reading this message in Jupyter Notebook or JupyterLab, it may mean\n",
       "  that the widgets JavaScript is still loading. If this message persists, it\n",
       "  likely means that the widgets JavaScript library is either not installed or\n",
       "  not enabled. See the <a href=\"https://ipywidgets.readthedocs.io/en/stable/user_install.html\">Jupyter\n",
       "  Widgets Documentation</a> for setup instructions.\n",
       "</p>\n",
       "<p>\n",
       "  If you're reading this message in another notebook frontend (for example, a static\n",
       "  rendering on GitHub or <a href=\"https://nbviewer.jupyter.org/\">NBViewer</a>),\n",
       "  it may mean that your frontend doesn't currently support widgets.\n",
       "</p>\n"
      ],
      "text/plain": [
       "VBox(children=(HBox(children=(Button(description='Previous Article', disabled=True, icon='caret-left', style=ButtonStyle()), Button(description='Reload Article', icon='refresh', style=ButtonStyle()), Button(description='Next Article', icon='caret-right', style=ButtonStyle()))), HBox(children=(Button(description='Unrelated: Scripts', style=ButtonStyle()), Button(description='Unrelated: Provenance', style=ButtonStyle()), Button(description='Both', style=ButtonStyle()), Button(description='Ok', style=ButtonStyle()))), HBox(children=(Dropdown(description='Type', index=3, options=('Work', 'WorkSnowball', 'WorkOk', 'WorkUnrelated', 'WorkNoFile', 'WorkLang', 'Site', 'Email'), value='WorkUnrelated'), ToggleButton(value=False, description='File'))), HBox(children=(Text(value='', description='Due'), Text(value='', description='Place'))), HBox(children=(Text(value='', description='Year'), Text(value='', description='Prefix Var'))), HBox(children=(Text(value='', description='PDFPage'), Text(value='', description='Related'))), HBox(children=(Text(value='', description='Display'), Text(value='', description='Summary'))), HBox(children=(Text(value='', description='Star'), Text(value='', description='Link'))), HBox(children=(Button(description='Reload Article', icon='refresh', style=ButtonStyle()), IntSlider(value=0, max=18), Label(value='1/19'))), Output()))"
      ]
     },
     "metadata": {},
     "output_type": "display_data"
    },
    {
     "data": {
      "application/javascript": [
       "$('span:contains(\"# Temp\")').closest('.cell').remove();"
      ],
      "text/plain": [
       "<IPython.core.display.Javascript object>"
      ]
     },
     "metadata": {},
     "output_type": "display_data"
    },
    {
     "data": {
      "application/javascript": [
       "\n",
       "        $('span:contains(\"# Temp\")').closest('.cell').remove();\n",
       "        var code = IPython.notebook.insert_cell_below('code');\n",
       "        code.set_text(decodeURIComponent(window.atob(\"JTIzJTIwVGVtcCUwQWluc2VydCUyOCUyNyUyNyUyNyUwQSUyMCUyMCUyMCUyMHNoYXJwMjAxMGElMjAlM0QlMjBEQiUyOFdvcmtVbnJlbGF0ZWQlMjglMEElMjAlMjAlMjAlMjAlMjAlMjAlMjAlMjAyMDEwJTJDJTIwJTIyVGhyZWUlMjAlRTIlODAlOThDJUUyJTgwJTk5cyUyMG9mJTIwQWdpbGUlMjBQcmFjdGljZSUzQSUyMENvbGxhYm9yYXRpb24lMkMlMjBDby1vcmRpbmF0aW9uJTBBYW5kJTIwQ29tbXVuaWNhdGlvbiUyMiUyQyUwQSUyMCUyMCUyMCUyMCUyMCUyMCUyMCUyMGRpc3BsYXklM0QlMjJzaGFycCUyMiUyQyUwQSUyMCUyMCUyMCUyMCUyMCUyMCUyMCUyMGF1dGhvcnMlM0QlMjJILiUyMFNoYXJwJTJDJTIwSC4lMjBSb2JpbnNvbiUyMiUyQyUwQSUyMCUyMCUyMCUyMCUyMCUyMCUyMCUyMHBsYWNlJTNERkFLRSUyQyUwQSUyMCUyMCUyMCUyMCUyMCUyMCUyMCUyMHBwJTNEJTIyNDctNjElMjIlMkMlMEElMjAlMjAlMjAlMjAlMjAlMjAlMjAlMjBlbnRyeXR5cGUlM0QlMjJhcnRpY2xlJTIyJTJDJTBBJTIwJTIwJTIwJTIwJTIwJTIwJTIwJTIwbm90ZSUzRCUyMmNpdGVkJTIwQnklMjAxMDAlMjIlMkMlMEElMjAlMjAlMjAlMjAlMjAlMjAlMjAlMjBJRCUzRCUyMnNoYXJwMjAxMCUyMiUyQyUwQSUyMCUyMCUyMCUyMCUyMCUyMCUyMCUyMHBsYWNleCUzRCUyMkFnaWxlJTIwU29mdHdhcmUlMjBEZXZlbG9wbWVudCUyMC0lMjBTcHJpbmdlciUyMiUyQyUwQSUyMCUyMCUyMCUyMCUyOSUyOSUwQSUwQURCJTI4Q2l0YXRpb24lMjglMEElMjAlMjAlMjAlMjB2bGlldGxhbmQyMDE1YSUyQyUyMHNoYXJwMjAxMGElMkMlMjByZWYlM0QlMjIlMjIlMkMlMEElMjAlMjAlMjAlMjBjb250ZXh0cyUzRCU1QiUwQSUwQSUyMCUyMCUyMCUyMCU1RCUyQyUwQSUyOSUyOSUwQSUwQSUyNyUyNyUyNyUyQyUyMGNpdGF0aW9ucyUzRCUyN3ZsaWV0bGFuZDIwMTVhJTI3JTI5JTNC\")));\n",
       "    "
      ],
      "text/plain": [
       "<IPython.core.display.Javascript object>"
      ]
     },
     "metadata": {},
     "output_type": "display_data"
    },
    {
     "data": {
      "application/javascript": [
       "$('span:contains(\"# Temp\")').closest('.cell').remove();"
      ],
      "text/plain": [
       "<IPython.core.display.Javascript object>"
      ]
     },
     "metadata": {},
     "output_type": "display_data"
    },
    {
     "data": {
      "application/javascript": [
       "\n",
       "        $('span:contains(\"# Temp\")').closest('.cell').remove();\n",
       "        var code = IPython.notebook.insert_cell_below('code');\n",
       "        code.set_text(decodeURIComponent(window.atob(\"JTIzJTIwVGVtcCUwQWluc2VydCUyOCUyNyUyNyUyNyUwQXNvdW5kYXJhcmFqYW4yMDEyYSUyMCUzRCUyMERCJTI4V29ya1VucmVsYXRlZCUyOCUwQSUyMCUyMCUyMCUyMDIwMTIlMkMlMjAlMjJBJTIwc29mdC1zdHJ1Y3R1cmVkJTIwYWdpbGUlMjBmcmFtZXdvcmslMjBmb3IlMjBsYXJnZXIlMjBzY2FsZSUyMHN5c3RlbXMlMjBkZXZlbG9wbWVudCUyMiUyQyUwQSUyMCUyMCUyMCUyMGRpc3BsYXklM0QlMjJzb3VuZGFyYXJhamFuJTIyJTJDJTBBJTIwJTIwJTIwJTIwYXV0aG9ycyUzRCUyMlMuJTIwU291bmRhcmFyYWphbiUyQyUyMEouRC4lMjBBcnRodXIlMjIlMkMlMEElMjAlMjAlMjAlMjBwbGFjZSUzREZBS0UlMkMlMEElMjAlMjAlMjAlMjBlbnRyeXR5cGUlM0QlMjJhcnRpY2xlJTIyJTJDJTBBJTIwJTIwJTIwJTIwbm90ZSUzRCUyMmNpdGVkJTIwQnklMjAxJTIyJTJDJTBBJTIwJTIwJTIwJTIwSUQlM0QlMjJTb3VuZGFyYXJhamFuMjAxMiUyMiUyQyUwQSUyMCUyMCUyMCUyMHBsYWNleCUzRCUyMjZ0aCUyMEFubnVhbCUyMElFRUUlMjBJbnRlcm5hdGlvbmFsJTIwQ29uZmVyZW5jZSUyMGFuZCUyMFdvcmtzaG9wJTIwb24lMjB0aGUlMjBFbmdpbmVlcmluZyUyMG9mJTIwQ29tcHV0ZXIlMjBCYXNlZCUyMFN5c3RlbXMlMjIlMkMlMEElMjklMjklMEElMEFEQiUyOENpdGF0aW9uJTI4JTBBJTIwJTIwJTIwJTIwdmxpZXRsYW5kMjAxNWElMkMlMjBzb3VuZGFyYXJhamFuMjAxMmElMkMlMjByZWYlM0QlMjIlMjIlMkMlMEElMjAlMjAlMjAlMjBjb250ZXh0cyUzRCU1QiUwQSUwQSUyMCUyMCUyMCUyMCU1RCUyQyUwQSUyOSUyOSUwQSUwQSUyNyUyNyUyNyUyQyUyMGNpdGF0aW9ucyUzRCUyN3ZsaWV0bGFuZDIwMTVhJTI3JTI5JTNC\")));\n",
       "    "
      ],
      "text/plain": [
       "<IPython.core.display.Javascript object>"
      ]
     },
     "metadata": {},
     "output_type": "display_data"
    },
    {
     "data": {
      "application/javascript": [
       "$('span:contains(\"# Temp\")').closest('.cell').remove();"
      ],
      "text/plain": [
       "<IPython.core.display.Javascript object>"
      ]
     },
     "metadata": {},
     "output_type": "display_data"
    },
    {
     "data": {
      "application/javascript": [
       "\n",
       "        $('span:contains(\"# Temp\")').closest('.cell').remove();\n",
       "        var code = IPython.notebook.insert_cell_below('code');\n",
       "        code.set_text(decodeURIComponent(window.atob(\"JTIzJTIwVGVtcCUwQWluc2VydCUyOCUyNyUyNyUyNyUwQXNvdW5kYXJhcmFqYW4yMDEyYSUyMCUzRCUyMERCJTI4V29ya1VucmVsYXRlZCUyOCUwQSUyMCUyMCUyMCUyMDIwMTIlMkMlMjAlMjJBJTIwc29mdC1zdHJ1Y3R1cmVkJTIwYWdpbGUlMjBmcmFtZXdvcmslMjBmb3IlMjBsYXJnZXIlMjBzY2FsZSUyMHN5c3RlbXMlMjBkZXZlbG9wbWVudCUyMiUyQyUwQSUyMCUyMCUyMCUyMGRpc3BsYXklM0QlMjJzb3VuZGFyYXJhamFuJTIyJTJDJTBBJTIwJTIwJTIwJTIwYXV0aG9ycyUzRCUyMlMuJTIwU291bmRhcmFyYWphbiUyQyUyMEouRC4lMjBBcnRodXIlMjIlMkMlMEElMjAlMjAlMjAlMjBwbGFjZSUzREZBS0UlMkMlMEElMjAlMjAlMjAlMjBlbnRyeXR5cGUlM0QlMjJhcnRpY2xlJTIyJTJDJTBBJTIwJTIwJTIwJTIwbm90ZSUzRCUyMmNpdGVkJTIwQnklMjAxJTIyJTJDJTBBJTIwJTIwJTIwJTIwSUQlM0QlMjJTb3VuZGFyYXJhamFuMjAxMiUyMiUyQyUwQSUyMCUyMCUyMCUyMHBsYWNleCUzRCUyMjZ0aCUyMEFubnVhbCUyMElFRUUlMjBJbnRlcm5hdGlvbmFsJTIwQ29uZmVyZW5jZSUyMGFuZCUyMFdvcmtzaG9wJTIwb24lMjB0aGUlMjBFbmdpbmVlcmluZyUyMG9mJTIwQ29tcHV0ZXIlMjBCYXNlZCUyMFN5c3RlbXMlMjIlMkMlMEElMjklMjklMEElMEFEQiUyOENpdGF0aW9uJTI4JTBBJTIwJTIwJTIwJTIwdmxpZXRsYW5kMjAxNWElMkMlMjBzb3VuZGFyYXJhamFuMjAxMmElMkMlMjByZWYlM0QlMjIlMjIlMkMlMEElMjAlMjAlMjAlMjBjb250ZXh0cyUzRCU1QiUwQSUwQSUyMCUyMCUyMCUyMCU1RCUyQyUwQSUyOSUyOSUwQSUwQSUyNyUyNyUyNyUyQyUyMGNpdGF0aW9ucyUzRCUyN3ZsaWV0bGFuZDIwMTVhJTI3JTI5JTNC\")));\n",
       "    "
      ],
      "text/plain": [
       "<IPython.core.display.Javascript object>"
      ]
     },
     "metadata": {},
     "output_type": "display_data"
    },
    {
     "data": {
      "application/javascript": [
       "$('span:contains(\"# Temp\")').closest('.cell').remove();"
      ],
      "text/plain": [
       "<IPython.core.display.Javascript object>"
      ]
     },
     "metadata": {},
     "output_type": "display_data"
    },
    {
     "data": {
      "application/javascript": [
       "\n",
       "        $('span:contains(\"# Temp\")').closest('.cell').remove();\n",
       "        var code = IPython.notebook.insert_cell_below('code');\n",
       "        code.set_text(decodeURIComponent(window.atob(\"JTIzJTIwVGVtcCUwQWluc2VydCUyOCUyNyUyNyUyNyUwQXN0JUMzJUE1aGwyMDE0YiUyMCUzRCUyMERCJTI4V29ya1VucmVsYXRlZCUyOCUwQSUyMCUyMCUyMCUyMDIwMTQlMkMlMjAlMjJNb2RlbGluZyUyMGNvbnRpbnVvdXMlMjBpbnRlZ3JhdGlvbiUyMHByYWN0aWNlJTIwZGlmZmVyZW5jZXMlMjIlMkMlMEElMjAlMjAlMjAlMjBkaXNwbGF5JTNEJTIyc3QlQzMlQTVobCUyMGIlMjIlMkMlMEElMjAlMjAlMjAlMjBhdXRob3JzJTNEJTIyRC4lMjBTdCVDMyVBNWhsJTJDJTIwSi4lMjBCb3NjaCUyMiUyQyUwQSUyMCUyMCUyMCUyMHBsYWNlJTNERkFLRSUyQyUwQSUyMCUyMCUyMCUyMGVudHJ5dHlwZSUzRCUyMmFydGljbGUlMjIlMkMlMEElMjAlMjAlMjAlMjBJRCUzRCUyMlN0YWhsMjAxNCUyMiUyQyUwQSUyMCUyMCUyMCUyMHBsYWNleCUzRCUyMmluZHVzdHJ5JTIwc29mdHdhcmUlMjBkZXZlbG9wbWVudCUyMiUyQyUwQSUyOSUyOSUwQSUwQURCJTI4Q2l0YXRpb24lMjglMEElMjAlMjAlMjAlMjB2bGlldGxhbmQyMDE1YSUyQyUyMHN0JUMzJUE1aGwyMDE0YiUyQyUyMHJlZiUzRCUyMiUyMiUyQyUwQSUyMCUyMCUyMCUyMGNvbnRleHRzJTNEJTVCJTBBJTBBJTIwJTIwJTIwJTIwJTVEJTJDJTBBJTI5JTI5JTBBJTBBJTI3JTI3JTI3JTJDJTIwY2l0YXRpb25zJTNEJTI3dmxpZXRsYW5kMjAxNWElMjclMjklM0I=\")));\n",
       "    "
      ],
      "text/plain": [
       "<IPython.core.display.Javascript object>"
      ]
     },
     "metadata": {},
     "output_type": "display_data"
    },
    {
     "data": {
      "application/javascript": [
       "$('span:contains(\"# Temp\")').closest('.cell').remove();"
      ],
      "text/plain": [
       "<IPython.core.display.Javascript object>"
      ]
     },
     "metadata": {},
     "output_type": "display_data"
    },
    {
     "data": {
      "application/javascript": [
       "\n",
       "        $('span:contains(\"# Temp\")').closest('.cell').remove();\n",
       "        var code = IPython.notebook.insert_cell_below('code');\n",
       "        code.set_text(decodeURIComponent(window.atob(\"JTIzJTIwVGVtcCUwQWluc2VydCUyOCUyNyUyNyUyNyUwQXN0JUMzJUE1aGwyMDE0YiUyMCUzRCUyMERCJTI4V29ya1VucmVsYXRlZCUyOCUwQSUyMCUyMCUyMCUyMDIwMTQlMkMlMjAlMjJNb2RlbGluZyUyMGNvbnRpbnVvdXMlMjBpbnRlZ3JhdGlvbiUyMHByYWN0aWNlJTIwZGlmZmVyZW5jZXMlMjIlMkMlMEElMjAlMjAlMjAlMjBkaXNwbGF5JTNEJTIyc3QlQzMlQTVobCUyMGIlMjIlMkMlMEElMjAlMjAlMjAlMjBhdXRob3JzJTNEJTIyRC4lMjBTdCVDMyVBNWhsJTJDJTIwSi4lMjBCb3NjaCUyMiUyQyUwQSUyMCUyMCUyMCUyMHBsYWNlJTNERkFLRSUyQyUwQSUyMCUyMCUyMCUyMGVudHJ5dHlwZSUzRCUyMmFydGljbGUlMjIlMkMlMEElMjAlMjAlMjAlMjBJRCUzRCUyMlN0YWhsMjAxNCUyMiUyQyUwQSUyMCUyMCUyMCUyMHBsYWNleCUzRCUyMmluZHVzdHJ5JTIwc29mdHdhcmUlMjBkZXZlbG9wbWVudCUyMiUyQyUwQSUyOSUyOSUwQSUwQURCJTI4Q2l0YXRpb24lMjglMEElMjAlMjAlMjAlMjB2bGlldGxhbmQyMDE1YSUyQyUyMHN0JUMzJUE1aGwyMDE0YiUyQyUyMHJlZiUzRCUyMiUyMiUyQyUwQSUyMCUyMCUyMCUyMGNvbnRleHRzJTNEJTVCJTBBJTBBJTIwJTIwJTIwJTIwJTVEJTJDJTBBJTI5JTI5JTBBJTBBJTI3JTI3JTI3JTJDJTIwY2l0YXRpb25zJTNEJTI3dmxpZXRsYW5kMjAxNWElMjclMjklM0I=\")));\n",
       "    "
      ],
      "text/plain": [
       "<IPython.core.display.Javascript object>"
      ]
     },
     "metadata": {},
     "output_type": "display_data"
    },
    {
     "data": {
      "application/javascript": [
       "$('span:contains(\"# Temp\")').closest('.cell').remove();"
      ],
      "text/plain": [
       "<IPython.core.display.Javascript object>"
      ]
     },
     "metadata": {},
     "output_type": "display_data"
    },
    {
     "data": {
      "application/javascript": [
       "\n",
       "        $('span:contains(\"# Temp\")').closest('.cell').remove();\n",
       "        var code = IPython.notebook.insert_cell_below('code');\n",
       "        code.set_text(decodeURIComponent(window.atob(\"JTIzJTIwVGVtcCUwQWluc2VydCUyOCUyNyUyNyUyNyUwQURCJTI4Q2l0YXRpb24lMjglMEElMjAlMjAlMjAlMjB2bGlldGxhbmQyMDE1YSUyQyUyMHN0cm9kZTIwMTJhJTJDJTIwcmVmJTNEJTIyJTIyJTJDJTBBJTIwJTIwJTIwJTIwY29udGV4dHMlM0QlNUIlMEElMEElMjAlMjAlMjAlMjAlNUQlMkMlMEElMjklMjklMEElMEElMjclMjclMjclMkMlMjBjaXRhdGlvbnMlM0QlMjd2bGlldGxhbmQyMDE1YSUyNyUyOSUzQg==\")));\n",
       "    "
      ],
      "text/plain": [
       "<IPython.core.display.Javascript object>"
      ]
     },
     "metadata": {},
     "output_type": "display_data"
    },
    {
     "data": {
      "application/javascript": [
       "$('span:contains(\"# Temp\")').closest('.cell').remove();"
      ],
      "text/plain": [
       "<IPython.core.display.Javascript object>"
      ]
     },
     "metadata": {},
     "output_type": "display_data"
    },
    {
     "data": {
      "application/javascript": [
       "\n",
       "        $('span:contains(\"# Temp\")').closest('.cell').remove();\n",
       "        var code = IPython.notebook.insert_cell_below('code');\n",
       "        code.set_text(decodeURIComponent(window.atob(\"JTIzJTIwVGVtcCUwQWluc2VydCUyOCUyNyUyNyUyNyUwQURCJTI4Q2l0YXRpb24lMjglMEElMjAlMjAlMjAlMjB2bGlldGxhbmQyMDE1YSUyQyUyMHN0cm9kZTIwMTJhJTJDJTIwcmVmJTNEJTIyJTIyJTJDJTBBJTIwJTIwJTIwJTIwY29udGV4dHMlM0QlNUIlMEElMEElMjAlMjAlMjAlMjAlNUQlMkMlMEElMjklMjklMEElMEElMjclMjclMjclMkMlMjBjaXRhdGlvbnMlM0QlMjd2bGlldGxhbmQyMDE1YSUyNyUyOSUzQg==\")));\n",
       "    "
      ],
      "text/plain": [
       "<IPython.core.display.Javascript object>"
      ]
     },
     "metadata": {},
     "output_type": "display_data"
    },
    {
     "data": {
      "application/javascript": [
       "$('span:contains(\"# Temp\")').closest('.cell').remove();"
      ],
      "text/plain": [
       "<IPython.core.display.Javascript object>"
      ]
     },
     "metadata": {},
     "output_type": "display_data"
    },
    {
     "data": {
      "application/javascript": [
       "\n",
       "        $('span:contains(\"# Temp\")').closest('.cell').remove();\n",
       "        var code = IPython.notebook.insert_cell_below('code');\n",
       "        code.set_text(decodeURIComponent(window.atob(\"JTIzJTIwVGVtcCUwQWluc2VydCUyOCUyNyUyNyUyNyUwQURCJTI4Q2l0YXRpb24lMjglMEElMjAlMjAlMjAlMjB2bGlldGxhbmQyMDE1YSUyQyUyMHN1dGhlcmxhbmQyMDA1YSUyQyUyMHJlZiUzRCUyMiUyMiUyQyUwQSUyMCUyMCUyMCUyMGNvbnRleHRzJTNEJTVCJTBBJTBBJTIwJTIwJTIwJTIwJTVEJTJDJTBBJTI5JTI5JTBBJTBBJTI3JTI3JTI3JTJDJTIwY2l0YXRpb25zJTNEJTI3dmxpZXRsYW5kMjAxNWElMjclMjklM0I=\")));\n",
       "    "
      ],
      "text/plain": [
       "<IPython.core.display.Javascript object>"
      ]
     },
     "metadata": {},
     "output_type": "display_data"
    },
    {
     "data": {
      "application/javascript": [
       "$('span:contains(\"# Temp\")').closest('.cell').remove();"
      ],
      "text/plain": [
       "<IPython.core.display.Javascript object>"
      ]
     },
     "metadata": {},
     "output_type": "display_data"
    },
    {
     "data": {
      "application/javascript": [
       "\n",
       "        $('span:contains(\"# Temp\")').closest('.cell').remove();\n",
       "        var code = IPython.notebook.insert_cell_below('code');\n",
       "        code.set_text(decodeURIComponent(window.atob(\"JTIzJTIwVGVtcCUwQWluc2VydCUyOCUyNyUyNyUyNyUwQURCJTI4Q2l0YXRpb24lMjglMEElMjAlMjAlMjAlMjB2bGlldGxhbmQyMDE1YSUyQyUyMHN1dGhlcmxhbmQyMDA1YSUyQyUyMHJlZiUzRCUyMiUyMiUyQyUwQSUyMCUyMCUyMCUyMGNvbnRleHRzJTNEJTVCJTBBJTBBJTIwJTIwJTIwJTIwJTVEJTJDJTBBJTI5JTI5JTBBJTBBJTI3JTI3JTI3JTJDJTIwY2l0YXRpb25zJTNEJTI3dmxpZXRsYW5kMjAxNWElMjclMjklM0I=\")));\n",
       "    "
      ],
      "text/plain": [
       "<IPython.core.display.Javascript object>"
      ]
     },
     "metadata": {},
     "output_type": "display_data"
    },
    {
     "data": {
      "application/javascript": [
       "$('span:contains(\"# Temp\")').closest('.cell').remove();"
      ],
      "text/plain": [
       "<IPython.core.display.Javascript object>"
      ]
     },
     "metadata": {},
     "output_type": "display_data"
    },
    {
     "data": {
      "application/javascript": [
       "\n",
       "        $('span:contains(\"# Temp\")').closest('.cell').remove();\n",
       "        var code = IPython.notebook.insert_cell_below('code');\n",
       "        code.set_text(decodeURIComponent(window.atob(\"JTIzJTIwVGVtcCUwQWluc2VydCUyOCUyNyUyNyUyNyUwQXN1dGhlcmxhbmQyMDA4YSUyMCUzRCUyMERCJTI4V29ya1VucmVsYXRlZCUyOCUwQSUyMCUyMCUyMCUyMDIwMDglMkMlMjAlMjJGdWxseSUyMGRpc3RyaWJ1dGVkJTIwc2NydW0lM0F0aGUlMjBzZWNyZXQlMjBzYXVjZSUyMGZvciUyMGh5cGVycHJvZHVjdGl2ZSUyMG9mZnNob3JlZCUyMGRldmVsb3BtZW50JTIwdGVhbXMlMjIlMkMlMEElMjAlMjAlMjAlMjBkaXNwbGF5JTNEJTIyc3V0aGVybGFuZCUyMiUyQyUwQSUyMCUyMCUyMCUyMGF1dGhvcnMlM0QlMjJKLiUyMFN1dGhlcmxhbmQlMkMlMjBHLiUyMFNjaG9vbmhlaW0lMkMlMjBFLiUyMFJ1c3RlbmJ1cmclMkMlMjBNLiUyMFJpamslMjIlMkMlMEElMjAlMjAlMjAlMjBwbGFjZSUzREZBS0UlMkMlMEElMjAlMjAlMjAlMjBlbnRyeXR5cGUlM0QlMjJhcnRpY2xlJTIyJTJDJTBBJTIwJTIwJTIwJTIwSUQlM0QlMjJTdXRoZXJsYW5kMjAwOCUyMiUyQyUwQSUyMCUyMCUyMCUyMHBsYWNleCUzRCUyMkFHSUxFJUUyJTgwJTk5MDglMjIlMkMlMEElMjklMjklMEElMEFEQiUyOENpdGF0aW9uJTI4JTBBJTIwJTIwJTIwJTIwdmxpZXRsYW5kMjAxNWElMkMlMjBzdXRoZXJsYW5kMjAwOGElMkMlMjByZWYlM0QlMjIlMjIlMkMlMEElMjAlMjAlMjAlMjBjb250ZXh0cyUzRCU1QiUwQSUwQSUyMCUyMCUyMCUyMCU1RCUyQyUwQSUyOSUyOSUwQSUwQSUyNyUyNyUyNyUyQyUyMGNpdGF0aW9ucyUzRCUyN3ZsaWV0bGFuZDIwMTVhJTI3JTI5JTNC\")));\n",
       "    "
      ],
      "text/plain": [
       "<IPython.core.display.Javascript object>"
      ]
     },
     "metadata": {},
     "output_type": "display_data"
    },
    {
     "data": {
      "application/javascript": [
       "$('span:contains(\"# Temp\")').closest('.cell').remove();"
      ],
      "text/plain": [
       "<IPython.core.display.Javascript object>"
      ]
     },
     "metadata": {},
     "output_type": "display_data"
    },
    {
     "data": {
      "application/javascript": [
       "\n",
       "        $('span:contains(\"# Temp\")').closest('.cell').remove();\n",
       "        var code = IPython.notebook.insert_cell_below('code');\n",
       "        code.set_text(decodeURIComponent(window.atob(\"JTIzJTIwVGVtcCUwQWluc2VydCUyOCUyNyUyNyUyNyUwQXN1dGhlcmxhbmQyMDA4YSUyMCUzRCUyMERCJTI4V29ya1VucmVsYXRlZCUyOCUwQSUyMCUyMCUyMCUyMDIwMDglMkMlMjAlMjJGdWxseSUyMGRpc3RyaWJ1dGVkJTIwc2NydW0lM0F0aGUlMjBzZWNyZXQlMjBzYXVjZSUyMGZvciUyMGh5cGVycHJvZHVjdGl2ZSUyMG9mZnNob3JlZCUyMGRldmVsb3BtZW50JTIwdGVhbXMlMjIlMkMlMEElMjAlMjAlMjAlMjBkaXNwbGF5JTNEJTIyc3V0aGVybGFuZCUyMiUyQyUwQSUyMCUyMCUyMCUyMGF1dGhvcnMlM0QlMjJKLiUyMFN1dGhlcmxhbmQlMkMlMjBHLiUyMFNjaG9vbmhlaW0lMkMlMjBFLiUyMFJ1c3RlbmJ1cmclMkMlMjBNLiUyMFJpamslMjIlMkMlMEElMjAlMjAlMjAlMjBwbGFjZSUzREZBS0UlMkMlMEElMjAlMjAlMjAlMjBlbnRyeXR5cGUlM0QlMjJhcnRpY2xlJTIyJTJDJTBBJTIwJTIwJTIwJTIwSUQlM0QlMjJTdXRoZXJsYW5kMjAwOCUyMiUyQyUwQSUyMCUyMCUyMCUyMHBsYWNleCUzRCUyMkFHSUxFJUUyJTgwJTk5MDglMjIlMkMlMEElMjklMjklMEElMEFEQiUyOENpdGF0aW9uJTI4JTBBJTIwJTIwJTIwJTIwdmxpZXRsYW5kMjAxNWElMkMlMjBzdXRoZXJsYW5kMjAwOGElMkMlMjByZWYlM0QlMjIlMjIlMkMlMEElMjAlMjAlMjAlMjBjb250ZXh0cyUzRCU1QiUwQSUwQSUyMCUyMCUyMCUyMCU1RCUyQyUwQSUyOSUyOSUwQSUwQSUyNyUyNyUyNyUyQyUyMGNpdGF0aW9ucyUzRCUyN3ZsaWV0bGFuZDIwMTVhJTI3JTI5JTNC\")));\n",
       "    "
      ],
      "text/plain": [
       "<IPython.core.display.Javascript object>"
      ]
     },
     "metadata": {},
     "output_type": "display_data"
    },
    {
     "data": {
      "application/javascript": [
       "$('span:contains(\"# Temp\")').closest('.cell').remove();"
      ],
      "text/plain": [
       "<IPython.core.display.Javascript object>"
      ]
     },
     "metadata": {},
     "output_type": "display_data"
    },
    {
     "data": {
      "application/javascript": [
       "\n",
       "        $('span:contains(\"# Temp\")').closest('.cell').remove();\n",
       "        var code = IPython.notebook.insert_cell_below('code');\n",
       "        code.set_text(decodeURIComponent(window.atob(\"JTIzJTIwVGVtcCUwQWluc2VydCUyOCUyNyUyNyUyNyUwQURCJTI4Q2l0YXRpb24lMjglMEElMjAlMjAlMjAlMjB2bGlldGxhbmQyMDE1YSUyQyUyMHN1dGhlcmxhbmQyMDA3YSUyQyUyMHJlZiUzRCUyMiUyMiUyQyUwQSUyMCUyMCUyMCUyMGNvbnRleHRzJTNEJTVCJTBBJTBBJTIwJTIwJTIwJTIwJTVEJTJDJTBBJTI5JTI5JTBBJTBBJTI3JTI3JTI3JTJDJTIwY2l0YXRpb25zJTNEJTI3dmxpZXRsYW5kMjAxNWElMjclMjklM0I=\")));\n",
       "    "
      ],
      "text/plain": [
       "<IPython.core.display.Javascript object>"
      ]
     },
     "metadata": {},
     "output_type": "display_data"
    },
    {
     "data": {
      "application/javascript": [
       "$('span:contains(\"# Temp\")').closest('.cell').remove();"
      ],
      "text/plain": [
       "<IPython.core.display.Javascript object>"
      ]
     },
     "metadata": {},
     "output_type": "display_data"
    },
    {
     "data": {
      "application/javascript": [
       "\n",
       "        $('span:contains(\"# Temp\")').closest('.cell').remove();\n",
       "        var code = IPython.notebook.insert_cell_below('code');\n",
       "        code.set_text(decodeURIComponent(window.atob(\"JTIzJTIwVGVtcCUwQWluc2VydCUyOCUyNyUyNyUyNyUwQURCJTI4Q2l0YXRpb24lMjglMEElMjAlMjAlMjAlMjB2bGlldGxhbmQyMDE1YSUyQyUyMHN1dGhlcmxhbmQyMDA3YSUyQyUyMHJlZiUzRCUyMiUyMiUyQyUwQSUyMCUyMCUyMCUyMGNvbnRleHRzJTNEJTVCJTBBJTBBJTIwJTIwJTIwJTIwJTVEJTJDJTBBJTI5JTI5JTBBJTBBJTI3JTI3JTI3JTJDJTIwY2l0YXRpb25zJTNEJTI3dmxpZXRsYW5kMjAxNWElMjclMjklM0I=\")));\n",
       "    "
      ],
      "text/plain": [
       "<IPython.core.display.Javascript object>"
      ]
     },
     "metadata": {},
     "output_type": "display_data"
    },
    {
     "data": {
      "application/javascript": [
       "$('span:contains(\"# Temp\")').closest('.cell').remove();"
      ],
      "text/plain": [
       "<IPython.core.display.Javascript object>"
      ]
     },
     "metadata": {},
     "output_type": "display_data"
    },
    {
     "data": {
      "application/javascript": [
       "\n",
       "        $('span:contains(\"# Temp\")').closest('.cell').remove();\n",
       "        var code = IPython.notebook.insert_cell_below('code');\n",
       "        code.set_text(decodeURIComponent(window.atob(\"JTIzJTIwVGVtcCUwQWluc2VydCUyOCUyNyUyNyUyNyUwQURCJTI4Q2l0YXRpb24lMjglMEElMjAlMjAlMjAlMjB2bGlldGxhbmQyMDE1YSUyQyUyMHRhbGJ5MjAwOWElMkMlMjByZWYlM0QlMjIlMjIlMkMlMEElMjAlMjAlMjAlMjBjb250ZXh0cyUzRCU1QiUwQSUwQSUyMCUyMCUyMCUyMCU1RCUyQyUwQSUyOSUyOSUwQSUwQSUyNyUyNyUyNyUyQyUyMGNpdGF0aW9ucyUzRCUyN3ZsaWV0bGFuZDIwMTVhJTI3JTI5JTNC\")));\n",
       "    "
      ],
      "text/plain": [
       "<IPython.core.display.Javascript object>"
      ]
     },
     "metadata": {},
     "output_type": "display_data"
    },
    {
     "data": {
      "application/javascript": [
       "$('span:contains(\"# Temp\")').closest('.cell').remove();"
      ],
      "text/plain": [
       "<IPython.core.display.Javascript object>"
      ]
     },
     "metadata": {},
     "output_type": "display_data"
    },
    {
     "data": {
      "application/javascript": [
       "\n",
       "        $('span:contains(\"# Temp\")').closest('.cell').remove();\n",
       "        var code = IPython.notebook.insert_cell_below('code');\n",
       "        code.set_text(decodeURIComponent(window.atob(\"JTIzJTIwVGVtcCUwQWluc2VydCUyOCUyNyUyNyUyNyUwQURCJTI4Q2l0YXRpb24lMjglMEElMjAlMjAlMjAlMjB2bGlldGxhbmQyMDE1YSUyQyUyMHRhbGJ5MjAwOWElMkMlMjByZWYlM0QlMjIlMjIlMkMlMEElMjAlMjAlMjAlMjBjb250ZXh0cyUzRCU1QiUwQSUwQSUyMCUyMCUyMCUyMCU1RCUyQyUwQSUyOSUyOSUwQSUwQSUyNyUyNyUyNyUyQyUyMGNpdGF0aW9ucyUzRCUyN3ZsaWV0bGFuZDIwMTVhJTI3JTI5JTNC\")));\n",
       "    "
      ],
      "text/plain": [
       "<IPython.core.display.Javascript object>"
      ]
     },
     "metadata": {},
     "output_type": "display_data"
    },
    {
     "data": {
      "application/javascript": [
       "$('span:contains(\"# Temp\")').closest('.cell').remove();"
      ],
      "text/plain": [
       "<IPython.core.display.Javascript object>"
      ]
     },
     "metadata": {},
     "output_type": "display_data"
    },
    {
     "data": {
      "application/javascript": [
       "\n",
       "        $('span:contains(\"# Temp\")').closest('.cell').remove();\n",
       "        var code = IPython.notebook.insert_cell_below('code');\n",
       "        code.set_text(decodeURIComponent(window.atob(\"JTIzJTIwVGVtcCUwQWluc2VydCUyOCUyNyUyNyUyNyUwQURCJTI4Q2l0YXRpb24lMjglMEElMjAlMjAlMjAlMjB2bGlldGxhbmQyMDE1YSUyQyUyMHRha2V1Y2hpMTk4NmElMkMlMjByZWYlM0QlMjIlMjIlMkMlMEElMjAlMjAlMjAlMjBjb250ZXh0cyUzRCU1QiUwQSUwQSUyMCUyMCUyMCUyMCU1RCUyQyUwQSUyOSUyOSUwQSUwQSUyNyUyNyUyNyUyQyUyMGNpdGF0aW9ucyUzRCUyN3ZsaWV0bGFuZDIwMTVhJTI3JTI5JTNC\")));\n",
       "    "
      ],
      "text/plain": [
       "<IPython.core.display.Javascript object>"
      ]
     },
     "metadata": {},
     "output_type": "display_data"
    },
    {
     "data": {
      "application/javascript": [
       "$('span:contains(\"# Temp\")').closest('.cell').remove();"
      ],
      "text/plain": [
       "<IPython.core.display.Javascript object>"
      ]
     },
     "metadata": {},
     "output_type": "display_data"
    },
    {
     "data": {
      "application/javascript": [
       "\n",
       "        $('span:contains(\"# Temp\")').closest('.cell').remove();\n",
       "        var code = IPython.notebook.insert_cell_below('code');\n",
       "        code.set_text(decodeURIComponent(window.atob(\"JTIzJTIwVGVtcCUwQWluc2VydCUyOCUyNyUyNyUyNyUwQURCJTI4Q2l0YXRpb24lMjglMEElMjAlMjAlMjAlMjB2bGlldGxhbmQyMDE1YSUyQyUyMHRha2V1Y2hpMTk4NmElMkMlMjByZWYlM0QlMjIlMjIlMkMlMEElMjAlMjAlMjAlMjBjb250ZXh0cyUzRCU1QiUwQSUwQSUyMCUyMCUyMCUyMCU1RCUyQyUwQSUyOSUyOSUwQSUwQSUyNyUyNyUyNyUyQyUyMGNpdGF0aW9ucyUzRCUyN3ZsaWV0bGFuZDIwMTVhJTI3JTI5JTNC\")));\n",
       "    "
      ],
      "text/plain": [
       "<IPython.core.display.Javascript object>"
      ]
     },
     "metadata": {},
     "output_type": "display_data"
    },
    {
     "data": {
      "application/javascript": [
       "$('span:contains(\"# Temp\")').closest('.cell').remove();"
      ],
      "text/plain": [
       "<IPython.core.display.Javascript object>"
      ]
     },
     "metadata": {},
     "output_type": "display_data"
    },
    {
     "data": {
      "application/javascript": [
       "\n",
       "        $('span:contains(\"# Temp\")').closest('.cell').remove();\n",
       "        var code = IPython.notebook.insert_cell_below('code');\n",
       "        code.set_text(decodeURIComponent(window.atob(\"JTIzJTIwVGVtcCUwQWluc2VydCUyOCUyNyUyNyUyNyUwQSUyMCUyMCUyMCUyMHZsaWV0bGFuZDIwMTNhJTIwJTNEJTIwREIlMjhXb3JrVW5yZWxhdGVkJTI4JTBBJTIwJTIwJTIwJTIwJTIwJTIwJTIwJTIwMjAxMyUyQyUyMCUyMkluZm9ybWF0aW9uJTIwU2hhcmluZyUyMGZvciUyMEVmZmVjdGl2ZSUyMElUJTIwSW5jaWRlbnQlMjBSZXNvbHZpbmclMEFpbiUyMElUJTIwU2VydmljZSUyMFByb3ZpZGVyJTIwTmV0d29ya3MlM0ElMjBBJTIwRmluYW5jaWFsJTIwU2VydmljZSUyMENhc2UlMjBTdHVkeSUyMiUyQyUwQSUyMCUyMCUyMCUyMCUyMCUyMCUyMCUyMGRpc3BsYXklM0QlMjJ2bGlldGxhbmQlMjIlMkMlMEElMjAlMjAlMjAlMjAlMjAlMjAlMjAlMjBhdXRob3JzJTNEJTIySi4lMjBWbGlldGxhbmQlMkMlMjBILiUyMHZhbiUyMFZsaWV0JTIyJTJDJTBBJTIwJTIwJTIwJTIwJTIwJTIwJTIwJTIwcGxhY2UlM0RGQUtFJTJDJTBBJTIwJTIwJTIwJTIwJTIwJTIwJTIwJTIwZW50cnl0eXBlJTNEJTIyY29uZmVyZW5jZSUyMiUyQyUwQSUyMCUyMCUyMCUyMCUyMCUyMCUyMCUyMElEJTNEJTIyVmxpZXRsYW5kMjAxMyUyMiUyQyUwQSUyMCUyMCUyMCUyMCUyMCUyMCUyMCUyMHBsYWNleCUzRCUyMlByb2NlZWRpbmdzJTIwb2YlMjB0aGUlMjAyMDA5JTIwSUNTRSUyMFdvcmtzaG9wJTIwb24lMjBDb29wZXJhdGl2ZSUyMGFuZCUyMEh1bWFuJTIwQXNwZWN0cyUyMG9uJTIwU29mdHdhcmUlMjBFbmdpbmVlcmluZyUyQyUyMENIQVNFJTIwMjAwOSUyMiUyQyUwQSUyMCUyMCUyMCUyMCUyOSUyOSUwQSUwQURCJTI4Q2l0YXRpb24lMjglMEElMjAlMjAlMjAlMjB2bGlldGxhbmQyMDE1YSUyQyUyMHZsaWV0bGFuZDIwMTNhJTJDJTIwcmVmJTNEJTIyJTIyJTJDJTBBJTIwJTIwJTIwJTIwY29udGV4dHMlM0QlNUIlMEElMEElMjAlMjAlMjAlMjAlNUQlMkMlMEElMjklMjklMEElMEElMjclMjclMjclMkMlMjBjaXRhdGlvbnMlM0QlMjd2bGlldGxhbmQyMDE1YSUyNyUyOSUzQg==\")));\n",
       "    "
      ],
      "text/plain": [
       "<IPython.core.display.Javascript object>"
      ]
     },
     "metadata": {},
     "output_type": "display_data"
    },
    {
     "data": {
      "application/javascript": [
       "$('span:contains(\"# Temp\")').closest('.cell').remove();"
      ],
      "text/plain": [
       "<IPython.core.display.Javascript object>"
      ]
     },
     "metadata": {},
     "output_type": "display_data"
    },
    {
     "data": {
      "application/javascript": [
       "\n",
       "        $('span:contains(\"# Temp\")').closest('.cell').remove();\n",
       "        var code = IPython.notebook.insert_cell_below('code');\n",
       "        code.set_text(decodeURIComponent(window.atob(\"JTIzJTIwVGVtcCUwQWluc2VydCUyOCUyNyUyNyUyNyUwQSUyMCUyMCUyMCUyMHZsaWV0bGFuZDIwMTNhJTIwJTNEJTIwREIlMjhXb3JrVW5yZWxhdGVkJTI4JTBBJTIwJTIwJTIwJTIwJTIwJTIwJTIwJTIwMjAxMyUyQyUyMCUyMkluZm9ybWF0aW9uJTIwU2hhcmluZyUyMGZvciUyMEVmZmVjdGl2ZSUyMElUJTIwSW5jaWRlbnQlMjBSZXNvbHZpbmclMEFpbiUyMElUJTIwU2VydmljZSUyMFByb3ZpZGVyJTIwTmV0d29ya3MlM0ElMjBBJTIwRmluYW5jaWFsJTIwU2VydmljZSUyMENhc2UlMjBTdHVkeSUyMiUyQyUwQSUyMCUyMCUyMCUyMCUyMCUyMCUyMCUyMGRpc3BsYXklM0QlMjJ2bGlldGxhbmQlMjIlMkMlMEElMjAlMjAlMjAlMjAlMjAlMjAlMjAlMjBhdXRob3JzJTNEJTIySi4lMjBWbGlldGxhbmQlMkMlMjBILiUyMHZhbiUyMFZsaWV0JTIyJTJDJTBBJTIwJTIwJTIwJTIwJTIwJTIwJTIwJTIwcGxhY2UlM0RGQUtFJTJDJTBBJTIwJTIwJTIwJTIwJTIwJTIwJTIwJTIwZW50cnl0eXBlJTNEJTIyY29uZmVyZW5jZSUyMiUyQyUwQSUyMCUyMCUyMCUyMCUyMCUyMCUyMCUyMElEJTNEJTIyVmxpZXRsYW5kMjAxMyUyMiUyQyUwQSUyMCUyMCUyMCUyMCUyMCUyMCUyMCUyMHBsYWNleCUzRCUyMlByb2NlZWRpbmdzJTIwb2YlMjB0aGUlMjAyMDA5JTIwSUNTRSUyMFdvcmtzaG9wJTIwb24lMjBDb29wZXJhdGl2ZSUyMGFuZCUyMEh1bWFuJTIwQXNwZWN0cyUyMG9uJTIwU29mdHdhcmUlMjBFbmdpbmVlcmluZyUyQyUyMENIQVNFJTIwMjAwOSUyMiUyQyUwQSUyMCUyMCUyMCUyMCUyOSUyOSUwQSUwQURCJTI4Q2l0YXRpb24lMjglMEElMjAlMjAlMjAlMjB2bGlldGxhbmQyMDE1YSUyQyUyMHZsaWV0bGFuZDIwMTNhJTJDJTIwcmVmJTNEJTIyJTIyJTJDJTBBJTIwJTIwJTIwJTIwY29udGV4dHMlM0QlNUIlMEElMEElMjAlMjAlMjAlMjAlNUQlMkMlMEElMjklMjklMEElMEElMjclMjclMjclMkMlMjBjaXRhdGlvbnMlM0QlMjd2bGlldGxhbmQyMDE1YSUyNyUyOSUzQg==\")));\n",
       "    "
      ],
      "text/plain": [
       "<IPython.core.display.Javascript object>"
      ]
     },
     "metadata": {},
     "output_type": "display_data"
    },
    {
     "data": {
      "application/javascript": [
       "$('span:contains(\"# Temp\")').closest('.cell').remove();"
      ],
      "text/plain": [
       "<IPython.core.display.Javascript object>"
      ]
     },
     "metadata": {},
     "output_type": "display_data"
    },
    {
     "data": {
      "application/javascript": [
       "\n",
       "        $('span:contains(\"# Temp\")').closest('.cell').remove();\n",
       "        var code = IPython.notebook.insert_cell_below('code');\n",
       "        code.set_text(decodeURIComponent(window.atob(\"JTIzJTIwVGVtcCUwQWluc2VydCUyOCUyNyUyNyUyNyUwQURCJTI4Q2l0YXRpb24lMjglMEElMjAlMjAlMjAlMjB2bGlldGxhbmQyMDE1YSUyQyUyMHZsaWV0bGFuZDIwMTRhJTJDJTIwcmVmJTNEJTIyJTIyJTJDJTBBJTIwJTIwJTIwJTIwY29udGV4dHMlM0QlNUIlMEElMEElMjAlMjAlMjAlMjAlNUQlMkMlMEElMjklMjklMEElMEElMjclMjclMjclMkMlMjBjaXRhdGlvbnMlM0QlMjd2bGlldGxhbmQyMDE1YSUyNyUyOSUzQg==\")));\n",
       "    "
      ],
      "text/plain": [
       "<IPython.core.display.Javascript object>"
      ]
     },
     "metadata": {},
     "output_type": "display_data"
    },
    {
     "data": {
      "application/javascript": [
       "$('span:contains(\"# Temp\")').closest('.cell').remove();"
      ],
      "text/plain": [
       "<IPython.core.display.Javascript object>"
      ]
     },
     "metadata": {},
     "output_type": "display_data"
    },
    {
     "data": {
      "application/javascript": [
       "\n",
       "        $('span:contains(\"# Temp\")').closest('.cell').remove();\n",
       "        var code = IPython.notebook.insert_cell_below('code');\n",
       "        code.set_text(decodeURIComponent(window.atob(\"JTIzJTIwVGVtcCUwQWluc2VydCUyOCUyNyUyNyUyNyUwQURCJTI4Q2l0YXRpb24lMjglMEElMjAlMjAlMjAlMjB2bGlldGxhbmQyMDE1YSUyQyUyMHZsaWV0bGFuZDIwMTRhJTJDJTIwcmVmJTNEJTIyJTIyJTJDJTBBJTIwJTIwJTIwJTIwY29udGV4dHMlM0QlNUIlMEElMEElMjAlMjAlMjAlMjAlNUQlMkMlMEElMjklMjklMEElMEElMjclMjclMjclMkMlMjBjaXRhdGlvbnMlM0QlMjd2bGlldGxhbmQyMDE1YSUyNyUyOSUzQg==\")));\n",
       "    "
      ],
      "text/plain": [
       "<IPython.core.display.Javascript object>"
      ]
     },
     "metadata": {},
     "output_type": "display_data"
    },
    {
     "data": {
      "application/javascript": [
       "$('span:contains(\"# Temp\")').closest('.cell').remove();"
      ],
      "text/plain": [
       "<IPython.core.display.Javascript object>"
      ]
     },
     "metadata": {},
     "output_type": "display_data"
    },
    {
     "data": {
      "application/javascript": [
       "\n",
       "        $('span:contains(\"# Temp\")').closest('.cell').remove();\n",
       "        var code = IPython.notebook.insert_cell_below('code');\n",
       "        code.set_text(decodeURIComponent(window.atob(\"JTIzJTIwVGVtcCUwQWluc2VydCUyOCUyNyUyNyUyNyUwQURCJTI4Q2l0YXRpb24lMjglMEElMjAlMjAlMjAlMjB2bGlldGxhbmQyMDE1YSUyQyUyMHZsaWV0bGFuZDIwMTRiJTJDJTIwcmVmJTNEJTIyJTIyJTJDJTBBJTIwJTIwJTIwJTIwY29udGV4dHMlM0QlNUIlMEElMEElMjAlMjAlMjAlMjAlNUQlMkMlMEElMjklMjklMEElMEElMjclMjclMjclMkMlMjBjaXRhdGlvbnMlM0QlMjd2bGlldGxhbmQyMDE1YSUyNyUyOSUzQg==\")));\n",
       "    "
      ],
      "text/plain": [
       "<IPython.core.display.Javascript object>"
      ]
     },
     "metadata": {},
     "output_type": "display_data"
    },
    {
     "data": {
      "application/javascript": [
       "$('span:contains(\"# Temp\")').closest('.cell').remove();"
      ],
      "text/plain": [
       "<IPython.core.display.Javascript object>"
      ]
     },
     "metadata": {},
     "output_type": "display_data"
    },
    {
     "data": {
      "application/javascript": [
       "\n",
       "        $('span:contains(\"# Temp\")').closest('.cell').remove();\n",
       "        var code = IPython.notebook.insert_cell_below('code');\n",
       "        code.set_text(decodeURIComponent(window.atob(\"JTIzJTIwVGVtcCUwQWluc2VydCUyOCUyNyUyNyUyNyUwQURCJTI4Q2l0YXRpb24lMjglMEElMjAlMjAlMjAlMjB2bGlldGxhbmQyMDE1YSUyQyUyMHZsaWV0bGFuZDIwMTRiJTJDJTIwcmVmJTNEJTIyJTIyJTJDJTBBJTIwJTIwJTIwJTIwY29udGV4dHMlM0QlNUIlMEElMEElMjAlMjAlMjAlMjAlNUQlMkMlMEElMjklMjklMEElMEElMjclMjclMjclMkMlMjBjaXRhdGlvbnMlM0QlMjd2bGlldGxhbmQyMDE1YSUyNyUyOSUzQg==\")));\n",
       "    "
      ],
      "text/plain": [
       "<IPython.core.display.Javascript object>"
      ]
     },
     "metadata": {},
     "output_type": "display_data"
    },
    {
     "data": {
      "application/javascript": [
       "$('span:contains(\"# Temp\")').closest('.cell').remove();"
      ],
      "text/plain": [
       "<IPython.core.display.Javascript object>"
      ]
     },
     "metadata": {},
     "output_type": "display_data"
    },
    {
     "data": {
      "application/javascript": [
       "\n",
       "        $('span:contains(\"# Temp\")').closest('.cell').remove();\n",
       "        var code = IPython.notebook.insert_cell_below('code');\n",
       "        code.set_text(decodeURIComponent(window.atob(\"JTIzJTIwVGVtcCUwQWluc2VydCUyOCUyNyUyNyUyNyUwQXdhYXJkZW5idXJnMjAxMmElMjAlM0QlMjBEQiUyOFdvcmtVbnJlbGF0ZWQlMjglMEElMjAlMjAlMjAlMjAyMDEyJTJDJTIwJTIyV2hlbiUyMGFnaWxlJTIwbWVldHMlMjB0aGUlMjBlbnRlcnByaXNlJTIyJTJDJTBBJTIwJTIwJTIwJTIwZGlzcGxheSUzRCUyMndhYXJkZW5idXJnJTIyJTJDJTBBJTIwJTIwJTIwJTIwYXV0aG9ycyUzRCUyMkcuJTIwV2FhcmRlbmJ1cmclMkMlMjBILiUyMHZhbiUyMFZsaWV0JTIyJTJDJTBBJTIwJTIwJTIwJTIwcGxhY2UlM0RGQUtFJTJDJTBBJTIwJTIwJTIwJTIwZW50cnl0eXBlJTNEJTIyYXJ0aWNsZSUyMiUyQyUwQSUyMCUyMCUyMCUyMElEJTNEJTIyV2FhcmRlbmJ1cmcyMDEyJTIyJTJDJTBBJTIwJTIwJTIwJTIwcGxhY2V4JTNEJTIySW5mLiUyMFNvZnR3LlRlY2hub2wlMjIlMkMlMEElMjklMjklMEElMEFEQiUyOENpdGF0aW9uJTI4JTBBJTIwJTIwJTIwJTIwdmxpZXRsYW5kMjAxNWElMkMlMjB3YWFyZGVuYnVyZzIwMTJhJTJDJTIwcmVmJTNEJTIyJTIyJTJDJTBBJTIwJTIwJTIwJTIwY29udGV4dHMlM0QlNUIlMEElMEElMjAlMjAlMjAlMjAlNUQlMkMlMEElMjklMjklMEElMEElMjclMjclMjclMkMlMjBjaXRhdGlvbnMlM0QlMjd2bGlldGxhbmQyMDE1YSUyNyUyOSUzQg==\")));\n",
       "    "
      ],
      "text/plain": [
       "<IPython.core.display.Javascript object>"
      ]
     },
     "metadata": {},
     "output_type": "display_data"
    },
    {
     "data": {
      "application/javascript": [
       "$('span:contains(\"# Temp\")').closest('.cell').remove();"
      ],
      "text/plain": [
       "<IPython.core.display.Javascript object>"
      ]
     },
     "metadata": {},
     "output_type": "display_data"
    },
    {
     "data": {
      "application/javascript": [
       "\n",
       "        $('span:contains(\"# Temp\")').closest('.cell').remove();\n",
       "        var code = IPython.notebook.insert_cell_below('code');\n",
       "        code.set_text(decodeURIComponent(window.atob(\"JTIzJTIwVGVtcCUwQWluc2VydCUyOCUyNyUyNyUyNyUwQXdhYXJkZW5idXJnMjAxMmElMjAlM0QlMjBEQiUyOFdvcmtVbnJlbGF0ZWQlMjglMEElMjAlMjAlMjAlMjAyMDEyJTJDJTIwJTIyV2hlbiUyMGFnaWxlJTIwbWVldHMlMjB0aGUlMjBlbnRlcnByaXNlJTIyJTJDJTBBJTIwJTIwJTIwJTIwZGlzcGxheSUzRCUyMndhYXJkZW5idXJnJTIyJTJDJTBBJTIwJTIwJTIwJTIwYXV0aG9ycyUzRCUyMkcuJTIwV2FhcmRlbmJ1cmclMkMlMjBILiUyMHZhbiUyMFZsaWV0JTIyJTJDJTBBJTIwJTIwJTIwJTIwcGxhY2UlM0RGQUtFJTJDJTBBJTIwJTIwJTIwJTIwZW50cnl0eXBlJTNEJTIyYXJ0aWNsZSUyMiUyQyUwQSUyMCUyMCUyMCUyMElEJTNEJTIyV2FhcmRlbmJ1cmcyMDEyJTIyJTJDJTBBJTIwJTIwJTIwJTIwcGxhY2V4JTNEJTIySW5mLiUyMFNvZnR3LlRlY2hub2wlMjIlMkMlMEElMjklMjklMEElMEFEQiUyOENpdGF0aW9uJTI4JTBBJTIwJTIwJTIwJTIwdmxpZXRsYW5kMjAxNWElMkMlMjB3YWFyZGVuYnVyZzIwMTJhJTJDJTIwcmVmJTNEJTIyJTIyJTJDJTBBJTIwJTIwJTIwJTIwY29udGV4dHMlM0QlNUIlMEElMEElMjAlMjAlMjAlMjAlNUQlMkMlMEElMjklMjklMEElMEElMjclMjclMjclMkMlMjBjaXRhdGlvbnMlM0QlMjd2bGlldGxhbmQyMDE1YSUyNyUyOSUzQg==\")));\n",
       "    "
      ],
      "text/plain": [
       "<IPython.core.display.Javascript object>"
      ]
     },
     "metadata": {},
     "output_type": "display_data"
    },
    {
     "data": {
      "application/javascript": [
       "$('span:contains(\"# Temp\")').closest('.cell').remove();"
      ],
      "text/plain": [
       "<IPython.core.display.Javascript object>"
      ]
     },
     "metadata": {},
     "output_type": "display_data"
    },
    {
     "data": {
      "application/javascript": [
       "\n",
       "        $('span:contains(\"# Temp\")').closest('.cell').remove();\n",
       "        var code = IPython.notebook.insert_cell_below('code');\n",
       "        code.set_text(decodeURIComponent(window.atob(\"JTIzJTIwVGVtcCUwQWluc2VydCUyOCUyNyUyNyUyNyUwQSUyMCUyMCUyMCUyMHdlZ25lcjE5ODdhJTIwJTNEJTIwREIlMjhXb3JrVW5yZWxhdGVkJTI4JTBBJTIwJTIwJTIwJTIwJTIwJTIwJTIwJTIwMTk4NyUyQyUyMCUyMlRyYW5zYWN0aXZlJTIwTWVtb3J5JTNBJTIwQSUyMENvbnRlbXBvcmFyeSUyMEFuYWx5c2lzJTIwb2YlMjB0aGUlMjBHcm91cCUwQU1pbmQlMjBUaGVvcmllcyUyMG9mJTIwR3JvdXAlMjBCZWhhdmlvciUyMiUyQyUwQSUyMCUyMCUyMCUyMCUyMCUyMCUyMCUyMGRpc3BsYXklM0QlMjJ3ZWduZXIlMjIlMkMlMEElMjAlMjAlMjAlMjAlMjAlMjAlMjAlMjBhdXRob3JzJTNEJTIyRC5NLiUyMFdlZ25lciUyMiUyQyUwQSUyMCUyMCUyMCUyMCUyMCUyMCUyMCUyMHBsYWNlJTNERkFLRSUyQyUwQSUyMCUyMCUyMCUyMCUyMCUyMCUyMCUyMGVudHJ5dHlwZSUzRCUyMmNvbmZlcmVuY2UlMjIlMkMlMEElMjAlMjAlMjAlMjAlMjAlMjAlMjAlMjBJRCUzRCUyMldlZ25lcjE5ODclMjIlMkMlMEElMjAlMjAlMjAlMjAlMjAlMjAlMjAlMjBwbGFjZXglM0QlMjJTcHJpbmdlciUyMiUyQyUwQSUyMCUyMCUyMCUyMCUyOSUyOSUwQSUwQURCJTI4Q2l0YXRpb24lMjglMEElMjAlMjAlMjAlMjB2bGlldGxhbmQyMDE1YSUyQyUyMHdlZ25lcjE5ODdhJTJDJTIwcmVmJTNEJTIyJTIyJTJDJTBBJTIwJTIwJTIwJTIwY29udGV4dHMlM0QlNUIlMEElMEElMjAlMjAlMjAlMjAlNUQlMkMlMEElMjklMjklMEElMEElMjclMjclMjclMkMlMjBjaXRhdGlvbnMlM0QlMjd2bGlldGxhbmQyMDE1YSUyNyUyOSUzQg==\")));\n",
       "    "
      ],
      "text/plain": [
       "<IPython.core.display.Javascript object>"
      ]
     },
     "metadata": {},
     "output_type": "display_data"
    },
    {
     "data": {
      "application/javascript": [
       "$('span:contains(\"# Temp\")').closest('.cell').remove();"
      ],
      "text/plain": [
       "<IPython.core.display.Javascript object>"
      ]
     },
     "metadata": {},
     "output_type": "display_data"
    },
    {
     "data": {
      "application/javascript": [
       "\n",
       "        $('span:contains(\"# Temp\")').closest('.cell').remove();\n",
       "        var code = IPython.notebook.insert_cell_below('code');\n",
       "        code.set_text(decodeURIComponent(window.atob(\"JTIzJTIwVGVtcCUwQWluc2VydCUyOCUyNyUyNyUyNyUwQSUyMCUyMCUyMCUyMHdlZ25lcjE5ODdhJTIwJTNEJTIwREIlMjhXb3JrVW5yZWxhdGVkJTI4JTBBJTIwJTIwJTIwJTIwJTIwJTIwJTIwJTIwMTk4NyUyQyUyMCUyMlRyYW5zYWN0aXZlJTIwTWVtb3J5JTNBJTIwQSUyMENvbnRlbXBvcmFyeSUyMEFuYWx5c2lzJTIwb2YlMjB0aGUlMjBHcm91cCUwQU1pbmQlMjBUaGVvcmllcyUyMG9mJTIwR3JvdXAlMjBCZWhhdmlvciUyMiUyQyUwQSUyMCUyMCUyMCUyMCUyMCUyMCUyMCUyMGRpc3BsYXklM0QlMjJ3ZWduZXIlMjIlMkMlMEElMjAlMjAlMjAlMjAlMjAlMjAlMjAlMjBhdXRob3JzJTNEJTIyRC5NLiUyMFdlZ25lciUyMiUyQyUwQSUyMCUyMCUyMCUyMCUyMCUyMCUyMCUyMHBsYWNlJTNERkFLRSUyQyUwQSUyMCUyMCUyMCUyMCUyMCUyMCUyMCUyMGVudHJ5dHlwZSUzRCUyMmNvbmZlcmVuY2UlMjIlMkMlMEElMjAlMjAlMjAlMjAlMjAlMjAlMjAlMjBJRCUzRCUyMldlZ25lcjE5ODclMjIlMkMlMEElMjAlMjAlMjAlMjAlMjAlMjAlMjAlMjBwbGFjZXglM0QlMjJTcHJpbmdlciUyMiUyQyUwQSUyMCUyMCUyMCUyMCUyOSUyOSUwQSUwQURCJTI4Q2l0YXRpb24lMjglMEElMjAlMjAlMjAlMjB2bGlldGxhbmQyMDE1YSUyQyUyMHdlZ25lcjE5ODdhJTJDJTIwcmVmJTNEJTIyJTIyJTJDJTBBJTIwJTIwJTIwJTIwY29udGV4dHMlM0QlNUIlMEElMEElMjAlMjAlMjAlMjAlNUQlMkMlMEElMjklMjklMEElMEElMjclMjclMjclMkMlMjBjaXRhdGlvbnMlM0QlMjd2bGlldGxhbmQyMDE1YSUyNyUyOSUzQg==\")));\n",
       "    "
      ],
      "text/plain": [
       "<IPython.core.display.Javascript object>"
      ]
     },
     "metadata": {},
     "output_type": "display_data"
    },
    {
     "data": {
      "application/javascript": [
       "$('span:contains(\"# Temp\")').closest('.cell').remove();"
      ],
      "text/plain": [
       "<IPython.core.display.Javascript object>"
      ]
     },
     "metadata": {},
     "output_type": "display_data"
    },
    {
     "data": {
      "application/javascript": [
       "\n",
       "        $('span:contains(\"# Temp\")').closest('.cell').remove();\n",
       "        var code = IPython.notebook.insert_cell_below('code');\n",
       "        code.set_text(decodeURIComponent(window.atob(\"JTIzJTIwVGVtcCUwQWluc2VydCUyOCUyNyUyNyUyNyUwQSUyMCUyMCUyMCUyMDIwMTBhJTIwJTNEJTIwREIlMjhXb3JrVW5yZWxhdGVkJTI4JTBBJTIwJTIwJTIwJTIwJTIwJTIwJTIwJTIwMjAxMCUyQyUyMCUyMlRoZSUyMHN0cmF0ZWdpYyUyMHZhbHVlJTIwb2YlMjBzdXBwbHklMjBjaGFpbiUyMHZpc2liaWxpdHklM0ElMjBpbmNyZWFzaW5nJTBBdGhlJTIwYWJpbGl0eSUyMHRvJTIwcmVjb25maWd1cmUlMjIlMkMlMEElMjAlMjAlMjAlMjAlMjAlMjAlMjAlMjBkaXNwbGF5JTNEJTIyJTIyJTJDJTBBJTIwJTIwJTIwJTIwJTIwJTIwJTIwJTIwYXV0aG9ycyUzRCUyMkguLUwuJTIwV2VpJTJDJTIwRS5ULiUyMFdhbmclMjIlMkMlMEElMjAlMjAlMjAlMjAlMjAlMjAlMjAlMjBwbGFjZSUzREZBS0UlMkMlMEElMjAlMjAlMjAlMjAlMjAlMjAlMjAlMjBlbnRyeXR5cGUlM0QlMjJhcnRpY2xlJTIyJTJDJTBBJTIwJTIwJTIwJTIwJTIwJTIwJTIwJTIwSUQlM0QlMjJXZWkyMDEwJTIyJTJDJTBBJTIwJTIwJTIwJTIwJTIwJTIwJTIwJTIwcGxhY2V4JTNEJTIyRXVyLiUyMEouJTIwSW5mb3JtLiUyMFN5c3QuJTIyJTJDJTBBJTIwJTIwJTIwJTIwJTI5JTI5JTBBJTBBREIlMjhDaXRhdGlvbiUyOCUwQSUyMCUyMCUyMCUyMHZsaWV0bGFuZDIwMTVhJTJDJTIwMjAxMGElMkMlMjByZWYlM0QlMjIlMjIlMkMlMEElMjAlMjAlMjAlMjBjb250ZXh0cyUzRCU1QiUwQSUwQSUyMCUyMCUyMCUyMCU1RCUyQyUwQSUyOSUyOSUwQSUwQSUyNyUyNyUyNyUyQyUyMGNpdGF0aW9ucyUzRCUyN3ZsaWV0bGFuZDIwMTVhJTI3JTI5JTNC\")));\n",
       "    "
      ],
      "text/plain": [
       "<IPython.core.display.Javascript object>"
      ]
     },
     "metadata": {},
     "output_type": "display_data"
    },
    {
     "data": {
      "application/javascript": [
       "$('span:contains(\"# Temp\")').closest('.cell').remove();"
      ],
      "text/plain": [
       "<IPython.core.display.Javascript object>"
      ]
     },
     "metadata": {},
     "output_type": "display_data"
    },
    {
     "data": {
      "application/javascript": [
       "\n",
       "        $('span:contains(\"# Temp\")').closest('.cell').remove();\n",
       "        var code = IPython.notebook.insert_cell_below('code');\n",
       "        code.set_text(decodeURIComponent(window.atob(\"JTIzJTIwVGVtcCUwQWluc2VydCUyOCUyNyUyNyUyNyUwQSUyMCUyMCUyMCUyMDIwMTBhJTIwJTNEJTIwREIlMjhXb3JrVW5yZWxhdGVkJTI4JTBBJTIwJTIwJTIwJTIwJTIwJTIwJTIwJTIwMjAxMCUyQyUyMCUyMlRoZSUyMHN0cmF0ZWdpYyUyMHZhbHVlJTIwb2YlMjBzdXBwbHklMjBjaGFpbiUyMHZpc2liaWxpdHklM0ElMjBpbmNyZWFzaW5nJTBBdGhlJTIwYWJpbGl0eSUyMHRvJTIwcmVjb25maWd1cmUlMjIlMkMlMEElMjAlMjAlMjAlMjAlMjAlMjAlMjAlMjBkaXNwbGF5JTNEJTIyJTIyJTJDJTBBJTIwJTIwJTIwJTIwJTIwJTIwJTIwJTIwYXV0aG9ycyUzRCUyMkguLUwuJTIwV2VpJTJDJTIwRS5ULiUyMFdhbmclMjIlMkMlMEElMjAlMjAlMjAlMjAlMjAlMjAlMjAlMjBwbGFjZSUzREZBS0UlMkMlMEElMjAlMjAlMjAlMjAlMjAlMjAlMjAlMjBlbnRyeXR5cGUlM0QlMjJhcnRpY2xlJTIyJTJDJTBBJTIwJTIwJTIwJTIwJTIwJTIwJTIwJTIwSUQlM0QlMjJXZWkyMDEwJTIyJTJDJTBBJTIwJTIwJTIwJTIwJTIwJTIwJTIwJTIwcGxhY2V4JTNEJTIyRXVyLiUyMEouJTIwSW5mb3JtLiUyMFN5c3QuJTIyJTJDJTBBJTIwJTIwJTIwJTIwJTI5JTI5JTBBJTBBREIlMjhDaXRhdGlvbiUyOCUwQSUyMCUyMCUyMCUyMHZsaWV0bGFuZDIwMTVhJTJDJTIwMjAxMGElMkMlMjByZWYlM0QlMjIlMjIlMkMlMEElMjAlMjAlMjAlMjBjb250ZXh0cyUzRCU1QiUwQSUwQSUyMCUyMCUyMCUyMCU1RCUyQyUwQSUyOSUyOSUwQSUwQSUyNyUyNyUyNyUyQyUyMGNpdGF0aW9ucyUzRCUyN3ZsaWV0bGFuZDIwMTVhJTI3JTI5JTNC\")));\n",
       "    "
      ],
      "text/plain": [
       "<IPython.core.display.Javascript object>"
      ]
     },
     "metadata": {},
     "output_type": "display_data"
    },
    {
     "data": {
      "application/javascript": [
       "$('span:contains(\"# Temp\")').closest('.cell').remove();"
      ],
      "text/plain": [
       "<IPython.core.display.Javascript object>"
      ]
     },
     "metadata": {},
     "output_type": "display_data"
    },
    {
     "data": {
      "application/javascript": [
       "\n",
       "        $('span:contains(\"# Temp\")').closest('.cell').remove();\n",
       "        var code = IPython.notebook.insert_cell_below('code');\n",
       "        code.set_text(decodeURIComponent(window.atob(\"JTIzJTIwVGVtcCUwQWluc2VydCUyOCUyNyUyNyUyNyUwQSUyMCUyMCUyMCUyMHdpZW5lcjE5NjVhJTIwJTNEJTIwREIlMjhXb3JrVW5yZWxhdGVkJTI4JTBBJTIwJTIwJTIwJTIwJTIwJTIwJTIwJTIwMTk2NSUyQyUyMCUyMkN5YmVybmV0aWNzLSUzQSUyMG9yJTIwdGhlJTIwQ29udHJvbCUyMGFuZCUyMENvbW11bmljYXRpb24lMjBpbiUyMHRoZSUyMEFuaW1hbCUyMGFuZCUwQXRoZSUyME1hY2hpbmUlMjIlMkMlMEElMjAlMjAlMjAlMjAlMjAlMjAlMjAlMjBkaXNwbGF5JTNEJTIyd2llbmVyJTIyJTJDJTBBJTIwJTIwJTIwJTIwJTIwJTIwJTIwJTIwYXV0aG9ycyUzRCUyMk4uJTIwV2llbmVyJTIyJTJDJTBBJTIwJTIwJTIwJTIwJTIwJTIwJTIwJTIwcGxhY2UlM0RGQUtFJTJDJTBBJTIwJTIwJTIwJTIwJTIwJTIwJTIwJTIwZW50cnl0eXBlJTNEJTIyY29uZmVyZW5jZSUyMiUyQyUwQSUyMCUyMCUyMCUyMCUyMCUyMCUyMCUyMElEJTNEJTIyV2llbmVyMTk2NSUyMiUyQyUwQSUyMCUyMCUyMCUyMCUyMCUyMCUyMCUyMHBsYWNleCUzRCUyMk1JVCUyMFByZXNzJTIyJTJDJTBBJTIwJTIwJTIwJTIwJTI5JTI5JTBBJTBBREIlMjhDaXRhdGlvbiUyOCUwQSUyMCUyMCUyMCUyMHZsaWV0bGFuZDIwMTVhJTJDJTIwd2llbmVyMTk2NWElMkMlMjByZWYlM0QlMjIlMjIlMkMlMEElMjAlMjAlMjAlMjBjb250ZXh0cyUzRCU1QiUwQSUwQSUyMCUyMCUyMCUyMCU1RCUyQyUwQSUyOSUyOSUwQSUwQSUyNyUyNyUyNyUyQyUyMGNpdGF0aW9ucyUzRCUyN3ZsaWV0bGFuZDIwMTVhJTI3JTI5JTNC\")));\n",
       "    "
      ],
      "text/plain": [
       "<IPython.core.display.Javascript object>"
      ]
     },
     "metadata": {},
     "output_type": "display_data"
    },
    {
     "data": {
      "application/javascript": [
       "$('span:contains(\"# Temp\")').closest('.cell').remove();"
      ],
      "text/plain": [
       "<IPython.core.display.Javascript object>"
      ]
     },
     "metadata": {},
     "output_type": "display_data"
    },
    {
     "data": {
      "application/javascript": [
       "\n",
       "        $('span:contains(\"# Temp\")').closest('.cell').remove();\n",
       "        var code = IPython.notebook.insert_cell_below('code');\n",
       "        code.set_text(decodeURIComponent(window.atob(\"JTIzJTIwVGVtcCUwQWluc2VydCUyOCUyNyUyNyUyNyUwQSUyMCUyMCUyMCUyMHdpZW5lcjE5NjVhJTIwJTNEJTIwREIlMjhXb3JrVW5yZWxhdGVkJTI4JTBBJTIwJTIwJTIwJTIwJTIwJTIwJTIwJTIwMTk2NSUyQyUyMCUyMkN5YmVybmV0aWNzLSUzQSUyMG9yJTIwdGhlJTIwQ29udHJvbCUyMGFuZCUyMENvbW11bmljYXRpb24lMjBpbiUyMHRoZSUyMEFuaW1hbCUyMGFuZCUwQXRoZSUyME1hY2hpbmUlMjIlMkMlMEElMjAlMjAlMjAlMjAlMjAlMjAlMjAlMjBkaXNwbGF5JTNEJTIyd2llbmVyJTIyJTJDJTBBJTIwJTIwJTIwJTIwJTIwJTIwJTIwJTIwYXV0aG9ycyUzRCUyMk4uJTIwV2llbmVyJTIyJTJDJTBBJTIwJTIwJTIwJTIwJTIwJTIwJTIwJTIwcGxhY2UlM0RGQUtFJTJDJTBBJTIwJTIwJTIwJTIwJTIwJTIwJTIwJTIwZW50cnl0eXBlJTNEJTIyY29uZmVyZW5jZSUyMiUyQyUwQSUyMCUyMCUyMCUyMCUyMCUyMCUyMCUyMElEJTNEJTIyV2llbmVyMTk2NSUyMiUyQyUwQSUyMCUyMCUyMCUyMCUyMCUyMCUyMCUyMHBsYWNleCUzRCUyMk1JVCUyMFByZXNzJTIyJTJDJTBBJTIwJTIwJTIwJTIwJTI5JTI5JTBBJTBBREIlMjhDaXRhdGlvbiUyOCUwQSUyMCUyMCUyMCUyMHZsaWV0bGFuZDIwMTVhJTJDJTIwd2llbmVyMTk2NWElMkMlMjByZWYlM0QlMjIlMjIlMkMlMEElMjAlMjAlMjAlMjBjb250ZXh0cyUzRCU1QiUwQSUwQSUyMCUyMCUyMCUyMCU1RCUyQyUwQSUyOSUyOSUwQSUwQSUyNyUyNyUyNyUyQyUyMGNpdGF0aW9ucyUzRCUyN3ZsaWV0bGFuZDIwMTVhJTI3JTI5JTNC\")));\n",
       "    "
      ],
      "text/plain": [
       "<IPython.core.display.Javascript object>"
      ]
     },
     "metadata": {},
     "output_type": "display_data"
    },
    {
     "data": {
      "application/javascript": [
       "$('span:contains(\"# Temp\")').closest('.cell').remove();"
      ],
      "text/plain": [
       "<IPython.core.display.Javascript object>"
      ]
     },
     "metadata": {},
     "output_type": "display_data"
    },
    {
     "data": {
      "application/javascript": [
       "\n",
       "        $('span:contains(\"# Temp\")').closest('.cell').remove();\n",
       "        var code = IPython.notebook.insert_cell_below('code');\n",
       "        code.set_text(decodeURIComponent(window.atob(\"JTIzJTIwVGVtcCUwQWluc2VydCUyOCUyNyUyNyUyNyUwQXdvb2R3YXJkMjAxMGElMjAlM0QlMjBEQiUyOFdvcmtVbnJlbGF0ZWQlMjglMEElMjAlMjAlMjAlMjAyMDEwJTJDJTIwJTIyQSUyMFByYWN0aWNhbCUyMEd1aWRlJTIwdG8lMjBEaXN0cmlidXRlZCUyMFNjcnVtJTIyJTJDJTBBJTIwJTIwJTIwJTIwZGlzcGxheSUzRCUyMndvb2R3YXJkJTIyJTJDJTBBJTIwJTIwJTIwJTIwYXV0aG9ycyUzRCUyMkUuJTIwV29vZHdhcmQlMkMlMjBTLiUyMFN1cmRlayUyQyUyME0uJTIwR2FuaXMlMjIlMkMlMEElMjAlMjAlMjAlMjBwbGFjZSUzREZBS0UlMkMlMEElMjAlMjAlMjAlMjBlbnRyeXR5cGUlM0QlMjJhcnRpY2xlJTIyJTJDJTBBJTIwJTIwJTIwJTIwSUQlM0QlMjJXb29kd2FyZDIwMTAlMjIlMkMlMEElMjAlMjAlMjAlMjBwbGFjZXglM0QlMjJQZWFyc29uJTIwRWR1Y2F0aW9uJTIyJTJDJTBBJTI5JTI5JTBBJTBBREIlMjhDaXRhdGlvbiUyOCUwQSUyMCUyMCUyMCUyMHZsaWV0bGFuZDIwMTVhJTJDJTIwd29vZHdhcmQyMDEwYSUyQyUyMHJlZiUzRCUyMiUyMiUyQyUwQSUyMCUyMCUyMCUyMGNvbnRleHRzJTNEJTVCJTBBJTBBJTIwJTIwJTIwJTIwJTVEJTJDJTBBJTI5JTI5JTBBJTBBJTI3JTI3JTI3JTJDJTIwY2l0YXRpb25zJTNEJTI3dmxpZXRsYW5kMjAxNWElMjclMjklM0I=\")));\n",
       "    "
      ],
      "text/plain": [
       "<IPython.core.display.Javascript object>"
      ]
     },
     "metadata": {},
     "output_type": "display_data"
    },
    {
     "data": {
      "application/javascript": [
       "$('span:contains(\"# Temp\")').closest('.cell').remove();"
      ],
      "text/plain": [
       "<IPython.core.display.Javascript object>"
      ]
     },
     "metadata": {},
     "output_type": "display_data"
    },
    {
     "data": {
      "application/javascript": [
       "\n",
       "        $('span:contains(\"# Temp\")').closest('.cell').remove();\n",
       "        var code = IPython.notebook.insert_cell_below('code');\n",
       "        code.set_text(decodeURIComponent(window.atob(\"JTIzJTIwVGVtcCUwQWluc2VydCUyOCUyNyUyNyUyNyUwQXdvb2R3YXJkMjAxMGElMjAlM0QlMjBEQiUyOFdvcmtVbnJlbGF0ZWQlMjglMEElMjAlMjAlMjAlMjAyMDEwJTJDJTIwJTIyQSUyMFByYWN0aWNhbCUyMEd1aWRlJTIwdG8lMjBEaXN0cmlidXRlZCUyMFNjcnVtJTIyJTJDJTBBJTIwJTIwJTIwJTIwZGlzcGxheSUzRCUyMndvb2R3YXJkJTIyJTJDJTBBJTIwJTIwJTIwJTIwYXV0aG9ycyUzRCUyMkUuJTIwV29vZHdhcmQlMkMlMjBTLiUyMFN1cmRlayUyQyUyME0uJTIwR2FuaXMlMjIlMkMlMEElMjAlMjAlMjAlMjBwbGFjZSUzREZBS0UlMkMlMEElMjAlMjAlMjAlMjBlbnRyeXR5cGUlM0QlMjJhcnRpY2xlJTIyJTJDJTBBJTIwJTIwJTIwJTIwSUQlM0QlMjJXb29kd2FyZDIwMTAlMjIlMkMlMEElMjAlMjAlMjAlMjBwbGFjZXglM0QlMjJQZWFyc29uJTIwRWR1Y2F0aW9uJTIyJTJDJTBBJTI5JTI5JTBBJTBBREIlMjhDaXRhdGlvbiUyOCUwQSUyMCUyMCUyMCUyMHZsaWV0bGFuZDIwMTVhJTJDJTIwd29vZHdhcmQyMDEwYSUyQyUyMHJlZiUzRCUyMiUyMiUyQyUwQSUyMCUyMCUyMCUyMGNvbnRleHRzJTNEJTVCJTBBJTBBJTIwJTIwJTIwJTIwJTVEJTJDJTBBJTI5JTI5JTBBJTBBJTI3JTI3JTI3JTJDJTIwY2l0YXRpb25zJTNEJTI3dmxpZXRsYW5kMjAxNWElMjclMjklM0I=\")));\n",
       "    "
      ],
      "text/plain": [
       "<IPython.core.display.Javascript object>"
      ]
     },
     "metadata": {},
     "output_type": "display_data"
    },
    {
     "data": {
      "application/javascript": [
       "$('span:contains(\"# Temp\")').closest('.cell').remove();"
      ],
      "text/plain": [
       "<IPython.core.display.Javascript object>"
      ]
     },
     "metadata": {},
     "output_type": "display_data"
    },
    {
     "data": {
      "application/javascript": [
       "\n",
       "        $('span:contains(\"# Temp\")').closest('.cell').remove();\n",
       "        var code = IPython.notebook.insert_cell_below('code');\n",
       "        code.set_text(decodeURIComponent(window.atob(\"JTIzJTIwVGVtcCUwQWluc2VydCUyOCUyNyUyNyUyNyUwQXlpbjE5ODFhJTIwJTNEJTIwREIlMjhXb3JrVW5yZWxhdGVkJTI4JTBBJTIwJTIwJTIwJTIwMTk4MSUyQyUyMCUyMlRoZSUyMGNhc2UlMjBzdHVkeSUyMGNyaXNpcyUzQSUyMHNvbWUlMjBhbnN3ZXJzJTIyJTJDJTBBJTIwJTIwJTIwJTIwZGlzcGxheSUzRCUyMnlpbiUyMiUyQyUwQSUyMCUyMCUyMCUyMGF1dGhvcnMlM0QlMjJSLksuJTIwWWluJTIyJTJDJTBBJTIwJTIwJTIwJTIwcGxhY2UlM0RGQUtFJTJDJTBBJTIwJTIwJTIwJTIwZW50cnl0eXBlJTNEJTIyYXJ0aWNsZSUyMiUyQyUwQSUyMCUyMCUyMCUyMElEJTNEJTIyWWluMTk4MSUyMiUyQyUwQSUyMCUyMCUyMCUyMHBsYWNleCUzRCUyMkFkbS4lMjBTY2kuJTIwUS4lMjIlMkMlMEElMjklMjklMEElMEFEQiUyOENpdGF0aW9uJTI4JTBBJTIwJTIwJTIwJTIwdmxpZXRsYW5kMjAxNWElMkMlMjB5aW4xOTgxYSUyQyUyMHJlZiUzRCUyMiUyMiUyQyUwQSUyMCUyMCUyMCUyMGNvbnRleHRzJTNEJTVCJTBBJTBBJTIwJTIwJTIwJTIwJTVEJTJDJTBBJTI5JTI5JTBBJTBBJTI3JTI3JTI3JTJDJTIwY2l0YXRpb25zJTNEJTI3dmxpZXRsYW5kMjAxNWElMjclMjklM0I=\")));\n",
       "    "
      ],
      "text/plain": [
       "<IPython.core.display.Javascript object>"
      ]
     },
     "metadata": {},
     "output_type": "display_data"
    },
    {
     "data": {
      "application/javascript": [
       "$('span:contains(\"# Temp\")').closest('.cell').remove();"
      ],
      "text/plain": [
       "<IPython.core.display.Javascript object>"
      ]
     },
     "metadata": {},
     "output_type": "display_data"
    },
    {
     "data": {
      "application/javascript": [
       "\n",
       "        $('span:contains(\"# Temp\")').closest('.cell').remove();\n",
       "        var code = IPython.notebook.insert_cell_below('code');\n",
       "        code.set_text(decodeURIComponent(window.atob(\"JTIzJTIwVGVtcCUwQWluc2VydCUyOCUyNyUyNyUyNyUwQXlpbjE5ODFhJTIwJTNEJTIwREIlMjhXb3JrVW5yZWxhdGVkJTI4JTBBJTIwJTIwJTIwJTIwMTk4MSUyQyUyMCUyMlRoZSUyMGNhc2UlMjBzdHVkeSUyMGNyaXNpcyUzQSUyMHNvbWUlMjBhbnN3ZXJzJTIyJTJDJTBBJTIwJTIwJTIwJTIwZGlzcGxheSUzRCUyMnlpbiUyMiUyQyUwQSUyMCUyMCUyMCUyMGF1dGhvcnMlM0QlMjJSLksuJTIwWWluJTIyJTJDJTBBJTIwJTIwJTIwJTIwcGxhY2UlM0RGQUtFJTJDJTBBJTIwJTIwJTIwJTIwZW50cnl0eXBlJTNEJTIyYXJ0aWNsZSUyMiUyQyUwQSUyMCUyMCUyMCUyMElEJTNEJTIyWWluMTk4MSUyMiUyQyUwQSUyMCUyMCUyMCUyMHBsYWNleCUzRCUyMkFkbS4lMjBTY2kuJTIwUS4lMjIlMkMlMEElMjklMjklMEElMEFEQiUyOENpdGF0aW9uJTI4JTBBJTIwJTIwJTIwJTIwdmxpZXRsYW5kMjAxNWElMkMlMjB5aW4xOTgxYSUyQyUyMHJlZiUzRCUyMiUyMiUyQyUwQSUyMCUyMCUyMCUyMGNvbnRleHRzJTNEJTVCJTBBJTBBJTIwJTIwJTIwJTIwJTVEJTJDJTBBJTI5JTI5JTBBJTBBJTI3JTI3JTI3JTJDJTIwY2l0YXRpb25zJTNEJTI3dmxpZXRsYW5kMjAxNWElMjclMjklM0I=\")));\n",
       "    "
      ],
      "text/plain": [
       "<IPython.core.display.Javascript object>"
      ]
     },
     "metadata": {},
     "output_type": "display_data"
    },
    {
     "data": {
      "application/javascript": [
       "$('span:contains(\"# Temp\")').closest('.cell').remove();"
      ],
      "text/plain": [
       "<IPython.core.display.Javascript object>"
      ]
     },
     "metadata": {},
     "output_type": "display_data"
    },
    {
     "data": {
      "application/javascript": [
       "\n",
       "        $('span:contains(\"# Temp\")').closest('.cell').remove();\n",
       "        var code = IPython.notebook.insert_cell_below('code');\n",
       "        code.set_text(decodeURIComponent(window.atob(\"JTIzJTIwVGVtcCUwQWluc2VydCUyOCUyNyUyNyUyNyUwQXlpbjIwMDlhJTIwJTNEJTIwREIlMjhXb3JrVW5yZWxhdGVkJTI4JTBBJTIwJTIwJTIwJTIwMjAwOSUyQyUyMCUyMkNhc2UlMjBTdHVkeSUyMFJlc2VhcmNoJTNBJTIwRGVzaWduJTIwYW5kJTIwTWV0aG9kcyUyQyUyMHNlY29uZCUyMGVkLiUyMiUyQyUwQSUyMCUyMCUyMCUyMGRpc3BsYXklM0QlMjJ5aW4lMjIlMkMlMEElMjAlMjAlMjAlMjBhdXRob3JzJTNEJTIyUi5LLiUyMFlpbiUyMiUyQyUwQSUyMCUyMCUyMCUyMHBsYWNlJTNEU0FHRSUyQyUwQSUyMCUyMCUyMCUyMGVudHJ5dHlwZSUzRCUyMmFydGljbGUlMjIlMkMlMEElMjAlMjAlMjAlMjBJRCUzRCUyMllpbjIwMDklMjIlMkMlMEElMjAlMjAlMjAlMjBwbGFjZXglM0QlMjJTYWdlJTIwUHVibGljYXRpb25zJTIyJTJDJTBBJTI5JTI5JTBBJTBBREIlMjhDaXRhdGlvbiUyOCUwQSUyMCUyMCUyMCUyMHZsaWV0bGFuZDIwMTVhJTJDJTIweWluMjAwOWElMkMlMjByZWYlM0QlMjIlMjIlMkMlMEElMjAlMjAlMjAlMjBjb250ZXh0cyUzRCU1QiUwQSUwQSUyMCUyMCUyMCUyMCU1RCUyQyUwQSUyOSUyOSUwQSUwQSUyNyUyNyUyNyUyQyUyMGNpdGF0aW9ucyUzRCUyN3ZsaWV0bGFuZDIwMTVhJTI3JTI5JTNC\")));\n",
       "    "
      ],
      "text/plain": [
       "<IPython.core.display.Javascript object>"
      ]
     },
     "metadata": {},
     "output_type": "display_data"
    },
    {
     "data": {
      "application/javascript": [
       "$('span:contains(\"# Temp\")').closest('.cell').remove();"
      ],
      "text/plain": [
       "<IPython.core.display.Javascript object>"
      ]
     },
     "metadata": {},
     "output_type": "display_data"
    },
    {
     "data": {
      "application/javascript": [
       "\n",
       "        $('span:contains(\"# Temp\")').closest('.cell').remove();\n",
       "        var code = IPython.notebook.insert_cell_below('code');\n",
       "        code.set_text(decodeURIComponent(window.atob(\"JTIzJTIwVGVtcCUwQWluc2VydCUyOCUyNyUyNyUyNyUwQXlpbjIwMDlhJTIwJTNEJTIwREIlMjhXb3JrVW5yZWxhdGVkJTI4JTBBJTIwJTIwJTIwJTIwMjAwOSUyQyUyMCUyMkNhc2UlMjBTdHVkeSUyMFJlc2VhcmNoJTNBJTIwRGVzaWduJTIwYW5kJTIwTWV0aG9kcyUyQyUyMHNlY29uZCUyMGVkLiUyMiUyQyUwQSUyMCUyMCUyMCUyMGRpc3BsYXklM0QlMjJ5aW4lMjIlMkMlMEElMjAlMjAlMjAlMjBhdXRob3JzJTNEJTIyUi5LLiUyMFlpbiUyMiUyQyUwQSUyMCUyMCUyMCUyMHBsYWNlJTNEU0FHRSUyQyUwQSUyMCUyMCUyMCUyMGVudHJ5dHlwZSUzRCUyMmFydGljbGUlMjIlMkMlMEElMjAlMjAlMjAlMjBJRCUzRCUyMllpbjIwMDklMjIlMkMlMEElMjAlMjAlMjAlMjBwbGFjZXglM0QlMjJTYWdlJTIwUHVibGljYXRpb25zJTIyJTJDJTBBJTI5JTI5JTBBJTBBREIlMjhDaXRhdGlvbiUyOCUwQSUyMCUyMCUyMCUyMHZsaWV0bGFuZDIwMTVhJTJDJTIweWluMjAwOWElMkMlMjByZWYlM0QlMjIlMjIlMkMlMEElMjAlMjAlMjAlMjBjb250ZXh0cyUzRCU1QiUwQSUwQSUyMCUyMCUyMCUyMCU1RCUyQyUwQSUyOSUyOSUwQSUwQSUyNyUyNyUyNyUyQyUyMGNpdGF0aW9ucyUzRCUyN3ZsaWV0bGFuZDIwMTVhJTI3JTI5JTNC\")));\n",
       "    "
      ],
      "text/plain": [
       "<IPython.core.display.Javascript object>"
      ]
     },
     "metadata": {},
     "output_type": "display_data"
    }
   ],
   "source": [
    "import importlib\n",
    "import custom_snowballing\n",
    "importlib.reload(custom_snowballing)\n",
    "from custom_snowballing import UnrelatedBackward\n",
    "UnrelatedBackward(\"vlietland2015a\", articles=article_list)"
   ]
  },
  {
   "cell_type": "code",
   "execution_count": 23,
   "metadata": {},
   "outputs": [
    {
     "name": "stdout",
     "output_type": "stream",
     "text": [
      "-Insert: yin2009a\n",
      "-Insert Import: yin2009a\n",
      "-Insert Citation: vlietland2015a -> yin2009a\n"
     ]
    }
   ],
   "source": [
    "# Temp\n",
    "insert('''\n",
    "yin2009a = DB(WorkUnrelated(\n",
    "    2009, \"Case Study Research: Design and Methods, second ed.\",\n",
    "    display=\"yin\",\n",
    "    authors=\"R.K. Yin\",\n",
    "    place=SAGE,\n",
    "    entrytype=\"article\",\n",
    "    ID=\"Yin2009\",\n",
    "    placex=\"Sage Publications\",\n",
    "))\n",
    "\n",
    "DB(Citation(\n",
    "    vlietland2015a, yin2009a, ref=\"\",\n",
    "    contexts=[\n",
    "\n",
    "    ],\n",
    "))\n",
    "\n",
    "''', citations='vlietland2015a');"
   ]
  },
  {
   "cell_type": "code",
   "execution_count": null,
   "metadata": {
    "collapsed": true
   },
   "outputs": [],
   "source": []
  }
 ],
 "metadata": {
  "kernelspec": {
   "display_name": "Python 3",
   "language": "python",
   "name": "python3"
  },
  "language_info": {
   "codemirror_mode": {
    "name": "ipython",
    "version": 3
   },
   "file_extension": ".py",
   "mimetype": "text/x-python",
   "name": "python",
   "nbconvert_exporter": "python",
   "pygments_lexer": "ipython3",
   "version": "3.6.0"
  },
  "toc": {
   "nav_menu": {
    "height": "12px",
    "width": "252px"
   },
   "number_sections": true,
   "sideBar": true,
   "skip_h1_title": false,
   "toc_cell": false,
   "toc_position": {},
   "toc_section_display": "block",
   "toc_window_display": false
  }
 },
 "nbformat": 4,
 "nbformat_minor": 2
}
