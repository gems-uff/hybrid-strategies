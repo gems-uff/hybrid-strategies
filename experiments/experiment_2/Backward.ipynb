{
 "cells": [
  {
   "cell_type": "code",
   "execution_count": 1,
   "metadata": {
    "collapsed": true
   },
   "outputs": [],
   "source": [
    "import database\n",
    "from snowballing.operations import load_work, reload, work_by_varname\n",
    "from snowballing.snowballing import Converter\n",
    "from snowballing.dbmanager import insert, set_attribute"
   ]
  },
  {
   "cell_type": "code",
   "execution_count": 48,
   "metadata": {
    "scrolled": false
   },
   "outputs": [
    {
     "data": {
      "application/vnd.jupyter.widget-view+json": {
       "model_id": "10f3acc878ad4840b032b32a0d5c3161",
       "version_major": 2,
       "version_minor": 0
      },
      "text/html": [
       "<p>Failed to display Jupyter Widget of type <code>VBox</code>.</p>\n",
       "<p>\n",
       "  If you're reading this message in Jupyter Notebook or JupyterLab, it may mean\n",
       "  that the widgets JavaScript is still loading. If this message persists, it\n",
       "  likely means that the widgets JavaScript library is either not installed or\n",
       "  not enabled. See the <a href=\"https://ipywidgets.readthedocs.io/en/stable/user_install.html\">Jupyter\n",
       "  Widgets Documentation</a> for setup instructions.\n",
       "</p>\n",
       "<p>\n",
       "  If you're reading this message in another notebook frontend (for example, a static\n",
       "  rendering on GitHub or <a href=\"https://nbviewer.jupyter.org/\">NBViewer</a>),\n",
       "  it may mean that your frontend doesn't currently support widgets.\n",
       "</p>\n"
      ],
      "text/plain": [
       "VBox(children=(HBox(children=(Dropdown(index=1, options={'BibTeX': 'bibtex', 'Text': 'text', '[N] author name place other year': 'citation', 'Quoted': 'quoted'}, value='text'), Button(description='Set article_list variable', disabled=True, style=ButtonStyle()), Label(value=''))), HBox(children=(Textarea(value='', layout=Layout(height='500px', width='50%')), Textarea(value='', layout=Layout(height='500px', width='50%'))))))"
      ]
     },
     "metadata": {},
     "output_type": "display_data"
    }
   ],
   "source": [
    "Converter().browser()"
   ]
  },
  {
   "cell_type": "code",
   "execution_count": 113,
   "metadata": {},
   "outputs": [
    {
     "data": {
      "application/vnd.jupyter.widget-view+json": {
       "model_id": "389d4131c3be4e1f948d9f89e84aaadc",
       "version_major": 2,
       "version_minor": 0
      },
      "text/html": [
       "<p>Failed to display Jupyter Widget of type <code>VBox</code>.</p>\n",
       "<p>\n",
       "  If you're reading this message in Jupyter Notebook or JupyterLab, it may mean\n",
       "  that the widgets JavaScript is still loading. If this message persists, it\n",
       "  likely means that the widgets JavaScript library is either not installed or\n",
       "  not enabled. See the <a href=\"https://ipywidgets.readthedocs.io/en/stable/user_install.html\">Jupyter\n",
       "  Widgets Documentation</a> for setup instructions.\n",
       "</p>\n",
       "<p>\n",
       "  If you're reading this message in another notebook frontend (for example, a static\n",
       "  rendering on GitHub or <a href=\"https://nbviewer.jupyter.org/\">NBViewer</a>),\n",
       "  it may mean that your frontend doesn't currently support widgets.\n",
       "</p>\n"
      ],
      "text/plain": [
       "VBox(children=(HBox(children=(Dropdown(index=1, options={'BibTeX': 'bibtex', 'Text': 'text', '[N] author name place other year': 'citation', 'Quoted': 'quoted'}, value='text'), Button(description='Set article_list variable', disabled=True, style=ButtonStyle()), Label(value=''))), HBox(children=(Textarea(value='', layout=Layout(height='500px', width='50%')), Textarea(value='', layout=Layout(height='500px', width='50%'))))))"
      ]
     },
     "metadata": {},
     "output_type": "display_data"
    }
   ],
   "source": [
    "Converter().browser()"
   ]
  },
  {
   "cell_type": "code",
   "execution_count": 167,
   "metadata": {},
   "outputs": [
    {
     "data": {
      "text/plain": [
       "26"
      ]
     },
     "execution_count": 167,
     "metadata": {},
     "output_type": "execute_result"
    }
   ],
   "source": [
    "len(article_list)"
   ]
  },
  {
   "cell_type": "code",
   "execution_count": null,
   "metadata": {
    "collapsed": true
   },
   "outputs": [],
   "source": [
    "#from database.work.y2015 import li2015a"
   ]
  },
  {
   "cell_type": "code",
   "execution_count": null,
   "metadata": {
    "collapsed": true
   },
   "outputs": [],
   "source": [
    "#int(getattr(li2015a, 'scopus', 0))"
   ]
  },
  {
   "cell_type": "code",
   "execution_count": null,
   "metadata": {
    "collapsed": true
   },
   "outputs": [],
   "source": [
    "#print(article_list)"
   ]
  },
  {
   "cell_type": "code",
   "execution_count": null,
   "metadata": {
    "collapsed": true
   },
   "outputs": [],
   "source": []
  },
  {
   "cell_type": "code",
   "execution_count": null,
   "metadata": {
    "collapsed": true
   },
   "outputs": [],
   "source": []
  },
  {
   "cell_type": "code",
   "execution_count": null,
   "metadata": {
    "collapsed": true
   },
   "outputs": [],
   "source": []
  },
  {
   "cell_type": "code",
   "execution_count": 168,
   "metadata": {},
   "outputs": [
    {
     "data": {
      "application/vnd.jupyter.widget-view+json": {
       "model_id": "5ede82d2fd3c4a58a2b838f235824a1f",
       "version_major": 2,
       "version_minor": 0
      },
      "text/html": [
       "<p>Failed to display Jupyter Widget of type <code>VBox</code>.</p>\n",
       "<p>\n",
       "  If you're reading this message in Jupyter Notebook or JupyterLab, it may mean\n",
       "  that the widgets JavaScript is still loading. If this message persists, it\n",
       "  likely means that the widgets JavaScript library is either not installed or\n",
       "  not enabled. See the <a href=\"https://ipywidgets.readthedocs.io/en/stable/user_install.html\">Jupyter\n",
       "  Widgets Documentation</a> for setup instructions.\n",
       "</p>\n",
       "<p>\n",
       "  If you're reading this message in another notebook frontend (for example, a static\n",
       "  rendering on GitHub or <a href=\"https://nbviewer.jupyter.org/\">NBViewer</a>),\n",
       "  it may mean that your frontend doesn't currently support widgets.\n",
       "</p>\n"
      ],
      "text/plain": [
       "VBox(children=(HBox(children=(Button(description='Previous Article', disabled=True, icon='caret-left', style=ButtonStyle()), Button(description='Reload Article', icon='refresh', style=ButtonStyle()), Button(description='Next Article', icon='caret-right', style=ButtonStyle()))), HBox(children=(Button(description='Unrelated: Scripts', style=ButtonStyle()), Button(description='Unrelated: Provenance', style=ButtonStyle()), Button(description='Both', style=ButtonStyle()), Button(description='Ok', style=ButtonStyle()))), HBox(children=(Dropdown(description='Type', index=3, options=('Work', 'WorkSnowball', 'WorkOk', 'WorkUnrelated', 'WorkNoFile', 'WorkLang', 'Site', 'Email'), value='WorkUnrelated'), ToggleButton(value=False, description='File'))), HBox(children=(Text(value='', description='Due'), Text(value='', description='Place'))), HBox(children=(Text(value='', description='Year'), Text(value='', description='Prefix Var'))), HBox(children=(Text(value='', description='PDFPage'), Text(value='', description='Related'))), HBox(children=(Text(value='', description='Display'), Text(value='', description='Summary'))), HBox(children=(Text(value='', description='Star'), Text(value='', description='Link'))), HBox(children=(Button(description='Reload Article', icon='refresh', style=ButtonStyle()), IntSlider(value=0, max=21), Label(value='1/22'))), Output()))"
      ]
     },
     "metadata": {},
     "output_type": "display_data"
    },
    {
     "data": {
      "application/javascript": [
       "$('span:contains(\"# Temp\")').closest('.cell').remove();"
      ],
      "text/plain": [
       "<IPython.core.display.Javascript object>"
      ]
     },
     "metadata": {},
     "output_type": "display_data"
    },
    {
     "data": {
      "application/javascript": [
       "\n",
       "        $('span:contains(\"# Temp\")').closest('.cell').remove();\n",
       "        var code = IPython.notebook.insert_cell_below('code');\n",
       "        code.set_text(atob(\"IyBUZW1wCmluc2VydCgnJycKbWFuZGk/MjAxMmMgPSBEQihXb3JrVW5yZWxhdGVkKAogICAgMjAxMiwgIk1lYXN1cmVtZW50LWJhc2VkIHZhbHVlIGFsaWdubWVudCBhbmQgcmVhc29uaW5nIGFib3V0IG9yZ2FuaXphdGlvbmFsIGdvYWxzIiwKICAgIGRpc3BsYXk9Im1hbmRpPyBjIiwKICAgIGF1dGhvcnM9IlYgTWFuZGk/IiwKICAgIHBsYWNlPUZBS0UsCiAgICBwbGFjZXg9ImFuZCBzdHJhdGVnaWVzOiBzdHVkaWVkIHdpdGggSUNUIGluZHVzdHJ5LiBEb2N0b3JhbCBkaXNzZXJ0YXRpb24sIFVuaXZlcnNpdHkgb2YgT3VsdSwgRmlubGFuZCIsCikpCgpEQihDaXRhdGlvbigKICAgIHRyZW5kb3dpY3oyMDE0YSwgbWFuZGk/MjAxMmMsIHJlZj0iWzQ5XSIsCiAgICBjb250ZXh0cz1bCgogICAgXSwKKSkKCicnJywgY2l0YXRpb25zPSd0cmVuZG93aWN6MjAxNGEnKTs=\"));\n",
       "    "
      ],
      "text/plain": [
       "<IPython.core.display.Javascript object>"
      ]
     },
     "metadata": {},
     "output_type": "display_data"
    },
    {
     "data": {
      "application/javascript": [
       "$('span:contains(\"# Temp\")').closest('.cell').remove();"
      ],
      "text/plain": [
       "<IPython.core.display.Javascript object>"
      ]
     },
     "metadata": {},
     "output_type": "display_data"
    },
    {
     "data": {
      "application/javascript": [
       "\n",
       "        $('span:contains(\"# Temp\")').closest('.cell').remove();\n",
       "        var code = IPython.notebook.insert_cell_below('code');\n",
       "        code.set_text(atob(\"IyBUZW1wCmluc2VydCgnJycKREIoQ2l0YXRpb24oCiAgICB0cmVuZG93aWN6MjAxNGEsIG1hbmRpPzIwMTBhLCByZWY9Ils1MF0iLAogICAgY29udGV4dHM9WwoKICAgIF0sCikpCgonJycsIGNpdGF0aW9ucz0ndHJlbmRvd2ljejIwMTRhJyk7CnNldF9hdHRyaWJ1dGUoJ21hbmRpPzIwMTBhJywgJ290aGVyMScsICdwcCAyNTWWMjU4Jyk7CnNldF9hdHRyaWJ1dGUoJ21hbmRpPzIwMTBhJywgJ3BsYWNleCcsICdJbjogUHJvY2VlZGluZ3Mgb2YgdGhlIDM2dGggRVVST01JQ1JPIGNvbmZlcmVuY2Ugb24gc29mdHdhcmUgZW5naW5lZXJpbmcgYW5kIGFkdmFuY2VkIGFwcGxpY2F0aW9ucywgMZYzIFNlcHQgMjAxMCwnKTs=\"));\n",
       "    "
      ],
      "text/plain": [
       "<IPython.core.display.Javascript object>"
      ]
     },
     "metadata": {},
     "output_type": "display_data"
    },
    {
     "data": {
      "application/javascript": [
       "$('span:contains(\"# Temp\")').closest('.cell').remove();"
      ],
      "text/plain": [
       "<IPython.core.display.Javascript object>"
      ]
     },
     "metadata": {},
     "output_type": "display_data"
    },
    {
     "data": {
      "application/javascript": [
       "\n",
       "        $('span:contains(\"# Temp\")').closest('.cell').remove();\n",
       "        var code = IPython.notebook.insert_cell_below('code');\n",
       "        code.set_text(atob(\"IyBUZW1wCmluc2VydCgnJycKREIoQ2l0YXRpb24oCiAgICB0cmVuZG93aWN6MjAxNGEsIG1hbmRpPzIwMTBhLCByZWY9Ils1MF0iLAogICAgY29udGV4dHM9WwoKICAgIF0sCikpCgonJycsIGNpdGF0aW9ucz0ndHJlbmRvd2ljejIwMTRhJyk7CnNldF9hdHRyaWJ1dGUoJ21hbmRpPzIwMTBhJywgJ290aGVyMScsICdwcCAyNTWWMjU4Jyk7CnNldF9hdHRyaWJ1dGUoJ21hbmRpPzIwMTBhJywgJ3BsYWNleCcsICdJbjogUHJvY2VlZGluZ3Mgb2YgdGhlIDM2dGggRVVST01JQ1JPIGNvbmZlcmVuY2Ugb24gc29mdHdhcmUgZW5naW5lZXJpbmcgYW5kIGFkdmFuY2VkIGFwcGxpY2F0aW9ucywgMZYzIFNlcHQgMjAxMCwnKTs=\"));\n",
       "    "
      ],
      "text/plain": [
       "<IPython.core.display.Javascript object>"
      ]
     },
     "metadata": {},
     "output_type": "display_data"
    },
    {
     "data": {
      "application/javascript": [
       "$('span:contains(\"# Temp\")').closest('.cell').remove();"
      ],
      "text/plain": [
       "<IPython.core.display.Javascript object>"
      ]
     },
     "metadata": {},
     "output_type": "display_data"
    },
    {
     "data": {
      "application/javascript": [
       "\n",
       "        $('span:contains(\"# Temp\")').closest('.cell').remove();\n",
       "        var code = IPython.notebook.insert_cell_below('code');\n",
       "        code.set_text(atob(\"IyBUZW1wCmluc2VydCgnJycKREIoQ2l0YXRpb24oCiAgICB0cmVuZG93aWN6MjAxNGEsIG1hbmRpPzIwMTBnLCByZWY9Ils1MV0iLAogICAgY29udGV4dHM9WwoKICAgIF0sCikpCgonJycsIGNpdGF0aW9ucz0ndHJlbmRvd2ljejIwMTRhJyk7\"));\n",
       "    "
      ],
      "text/plain": [
       "<IPython.core.display.Javascript object>"
      ]
     },
     "metadata": {},
     "output_type": "display_data"
    },
    {
     "data": {
      "application/javascript": [
       "$('span:contains(\"# Temp\")').closest('.cell').remove();"
      ],
      "text/plain": [
       "<IPython.core.display.Javascript object>"
      ]
     },
     "metadata": {},
     "output_type": "display_data"
    },
    {
     "data": {
      "application/javascript": [
       "\n",
       "        $('span:contains(\"# Temp\")').closest('.cell').remove();\n",
       "        var code = IPython.notebook.insert_cell_below('code');\n",
       "        code.set_text(atob(\"IyBUZW1wCmluc2VydCgnJycKREIoQ2l0YXRpb24oCiAgICB0cmVuZG93aWN6MjAxNGEsIG1hbmRpPzIwMTBnLCByZWY9Ils1MV0iLAogICAgY29udGV4dHM9WwoKICAgIF0sCikpCgonJycsIGNpdGF0aW9ucz0ndHJlbmRvd2ljejIwMTRhJyk7\"));\n",
       "    "
      ],
      "text/plain": [
       "<IPython.core.display.Javascript object>"
      ]
     },
     "metadata": {},
     "output_type": "display_data"
    },
    {
     "data": {
      "application/javascript": [
       "$('span:contains(\"# Temp\")').closest('.cell').remove();"
      ],
      "text/plain": [
       "<IPython.core.display.Javascript object>"
      ]
     },
     "metadata": {},
     "output_type": "display_data"
    },
    {
     "data": {
      "application/javascript": [
       "\n",
       "        $('span:contains(\"# Temp\")').closest('.cell').remove();\n",
       "        var code = IPython.notebook.insert_cell_below('code');\n",
       "        code.set_text(atob(\"IyBUZW1wCmluc2VydCgnJycKREIoQ2l0YXRpb24oCiAgICB0cmVuZG93aWN6MjAxNGEsIG1hbmRpPzIwMTBiLCByZWY9Ils1Ml0iLAogICAgY29udGV4dHM9WwoKICAgIF0sCikpCgonJycsIGNpdGF0aW9ucz0ndHJlbmRvd2ljejIwMTRhJyk7CnNldF9hdHRyaWJ1dGUoJ21hbmRpPzIwMTBiJywgJ290aGVyMScsICdJdGFseSwgcHAgMZYxMCcpOw==\"));\n",
       "    "
      ],
      "text/plain": [
       "<IPython.core.display.Javascript object>"
      ]
     },
     "metadata": {},
     "output_type": "display_data"
    },
    {
     "data": {
      "application/javascript": [
       "$('span:contains(\"# Temp\")').closest('.cell').remove();"
      ],
      "text/plain": [
       "<IPython.core.display.Javascript object>"
      ]
     },
     "metadata": {},
     "output_type": "display_data"
    },
    {
     "data": {
      "application/javascript": [
       "\n",
       "        $('span:contains(\"# Temp\")').closest('.cell').remove();\n",
       "        var code = IPython.notebook.insert_cell_below('code');\n",
       "        code.set_text(atob(\"IyBUZW1wCmluc2VydCgnJycKREIoQ2l0YXRpb24oCiAgICB0cmVuZG93aWN6MjAxNGEsIG1hbmRpPzIwMTBiLCByZWY9Ils1Ml0iLAogICAgY29udGV4dHM9WwoKICAgIF0sCikpCgonJycsIGNpdGF0aW9ucz0ndHJlbmRvd2ljejIwMTRhJyk7CnNldF9hdHRyaWJ1dGUoJ21hbmRpPzIwMTBiJywgJ290aGVyMScsICdJdGFseSwgcHAgMZYxMCcpOw==\"));\n",
       "    "
      ],
      "text/plain": [
       "<IPython.core.display.Javascript object>"
      ]
     },
     "metadata": {},
     "output_type": "display_data"
    },
    {
     "data": {
      "application/javascript": [
       "$('span:contains(\"# Temp\")').closest('.cell').remove();"
      ],
      "text/plain": [
       "<IPython.core.display.Javascript object>"
      ]
     },
     "metadata": {},
     "output_type": "display_data"
    },
    {
     "data": {
      "application/javascript": [
       "\n",
       "        $('span:contains(\"# Temp\")').closest('.cell').remove();\n",
       "        var code = IPython.notebook.insert_cell_below('code');\n",
       "        code.set_text(atob(\"IyBUZW1wCmluc2VydCgnJycKbmNoMjAwNGEgPSBEQihXb3JrVW5yZWxhdGVkKAogICAgMjAwNCwgIlNvZnR3YXJlIHByb2plY3QgY29udHJvbCBjZW50ZXJzOiBjb25jZXB0cyBhbmQgYXBwcm9hY2hlcy4gSiBTeXN0IiwKICAgIGRpc3BsYXk9Im5jaCIsCiAgICBhdXRob3JzPSJKIE11qG5jaCwgSiBIZWlkcmljaCIsCiAgICBwbGFjZT1GQUtFLAogICAgcGxhY2V4PSJTb2Z0d2FyZSA3MCgxKTozljE5IiwKKSkKCkRCKENpdGF0aW9uKAogICAgdHJlbmRvd2ljejIwMTRhLCBuY2gyMDA0YSwgcmVmPSJbNTNdIiwKICAgIGNvbnRleHRzPVsKCiAgICBdLAopKQoKJycnLCBjaXRhdGlvbnM9J3RyZW5kb3dpY3oyMDE0YScpOw==\"));\n",
       "    "
      ],
      "text/plain": [
       "<IPython.core.display.Javascript object>"
      ]
     },
     "metadata": {},
     "output_type": "display_data"
    },
    {
     "data": {
      "application/javascript": [
       "$('span:contains(\"# Temp\")').closest('.cell').remove();"
      ],
      "text/plain": [
       "<IPython.core.display.Javascript object>"
      ]
     },
     "metadata": {},
     "output_type": "display_data"
    },
    {
     "data": {
      "application/javascript": [
       "\n",
       "        $('span:contains(\"# Temp\")').closest('.cell').remove();\n",
       "        var code = IPython.notebook.insert_cell_below('code');\n",
       "        code.set_text(atob(\"IyBUZW1wCmluc2VydCgnJycKbmNoMjAwNGEgPSBEQihXb3JrVW5yZWxhdGVkKAogICAgMjAwNCwgIlNvZnR3YXJlIHByb2plY3QgY29udHJvbCBjZW50ZXJzOiBjb25jZXB0cyBhbmQgYXBwcm9hY2hlcy4gSiBTeXN0IiwKICAgIGRpc3BsYXk9Im5jaCIsCiAgICBhdXRob3JzPSJKIE11qG5jaCwgSiBIZWlkcmljaCIsCiAgICBwbGFjZT1GQUtFLAogICAgcGxhY2V4PSJTb2Z0d2FyZSA3MCgxKTozljE5IiwKKSkKCkRCKENpdGF0aW9uKAogICAgdHJlbmRvd2ljejIwMTRhLCBuY2gyMDA0YSwgcmVmPSJbNTNdIiwKICAgIGNvbnRleHRzPVsKCiAgICBdLAopKQoKJycnLCBjaXRhdGlvbnM9J3RyZW5kb3dpY3oyMDE0YScpOw==\"));\n",
       "    "
      ],
      "text/plain": [
       "<IPython.core.display.Javascript object>"
      ]
     },
     "metadata": {},
     "output_type": "display_data"
    },
    {
     "data": {
      "application/javascript": [
       "$('span:contains(\"# Temp\")').closest('.cell').remove();"
      ],
      "text/plain": [
       "<IPython.core.display.Javascript object>"
      ]
     },
     "metadata": {},
     "output_type": "display_data"
    },
    {
     "data": {
      "application/javascript": [
       "\n",
       "        $('span:contains(\"# Temp\")').closest('.cell').remove();\n",
       "        var code = IPython.notebook.insert_cell_below('code');\n",
       "        code.set_text(atob(\"IyBUZW1wCmluc2VydCgnJycKREIoQ2l0YXRpb24oCiAgICB0cmVuZG93aWN6MjAxNGEsIHVuY2gyMDEyYSwgcmVmPSJbNTRdIiwKICAgIGNvbnRleHRzPVsKCiAgICBdLAopKQoKJycnLCBjaXRhdGlvbnM9J3RyZW5kb3dpY3oyMDE0YScpOw==\"));\n",
       "    "
      ],
      "text/plain": [
       "<IPython.core.display.Javascript object>"
      ]
     },
     "metadata": {},
     "output_type": "display_data"
    },
    {
     "data": {
      "application/javascript": [
       "$('span:contains(\"# Temp\")').closest('.cell').remove();"
      ],
      "text/plain": [
       "<IPython.core.display.Javascript object>"
      ]
     },
     "metadata": {},
     "output_type": "display_data"
    },
    {
     "data": {
      "application/javascript": [
       "\n",
       "        $('span:contains(\"# Temp\")').closest('.cell').remove();\n",
       "        var code = IPython.notebook.insert_cell_below('code');\n",
       "        code.set_text(atob(\"IyBUZW1wCmluc2VydCgnJycKREIoQ2l0YXRpb24oCiAgICB0cmVuZG93aWN6MjAxNGEsIHVuY2gyMDEyYSwgcmVmPSJbNTRdIiwKICAgIGNvbnRleHRzPVsKCiAgICBdLAopKQoKJycnLCBjaXRhdGlvbnM9J3RyZW5kb3dpY3oyMDE0YScpOw==\"));\n",
       "    "
      ],
      "text/plain": [
       "<IPython.core.display.Javascript object>"
      ]
     },
     "metadata": {},
     "output_type": "display_data"
    },
    {
     "data": {
      "application/javascript": [
       "$('span:contains(\"# Temp\")').closest('.cell').remove();"
      ],
      "text/plain": [
       "<IPython.core.display.Javascript object>"
      ]
     },
     "metadata": {},
     "output_type": "display_data"
    },
    {
     "data": {
      "application/javascript": [
       "\n",
       "        $('span:contains(\"# Temp\")').closest('.cell').remove();\n",
       "        var code = IPython.notebook.insert_cell_below('code');\n",
       "        code.set_text(atob(\"IyBUZW1wCmluc2VydCgnJycKbmVlbHkxOTk1YSA9IERCKFdvcmtVbnJlbGF0ZWQoCiAgICAxOTk1LCAiUGVyZm9ybWFuY2UgbWVhc3VyZW1lbnQgc3lzdGVtIGRlc2lnbjogYSBsaXRlcmF0dXJlIHJldmlldyBhbmQgcmVzZWFyY2ggYWdlbmRhLiIsCiAgICBkaXNwbGF5PSJuZWVseSIsCiAgICBhdXRob3JzPSJBIE5lZWx5LCBNIEdyZWdvcnksIEsgUGxhdHRzIiwKICAgIHBsYWNlPUZBS0UsCiAgICBvdGhlcjE9IjE1KDQpOjgwljExNiIsCiAgICBwbGFjZXg9IkludCBKIE9wZXIgUHJvZCBNYW5hZyIsCikpCgpEQihDaXRhdGlvbigKICAgIHRyZW5kb3dpY3oyMDE0YSwgbmVlbHkxOTk1YSwgcmVmPSJbNTVdIiwKICAgIGNvbnRleHRzPVsKCiAgICBdLAopKQoKJycnLCBjaXRhdGlvbnM9J3RyZW5kb3dpY3oyMDE0YScpOw==\"));\n",
       "    "
      ],
      "text/plain": [
       "<IPython.core.display.Javascript object>"
      ]
     },
     "metadata": {},
     "output_type": "display_data"
    },
    {
     "data": {
      "application/javascript": [
       "$('span:contains(\"# Temp\")').closest('.cell').remove();"
      ],
      "text/plain": [
       "<IPython.core.display.Javascript object>"
      ]
     },
     "metadata": {},
     "output_type": "display_data"
    },
    {
     "data": {
      "application/javascript": [
       "\n",
       "        $('span:contains(\"# Temp\")').closest('.cell').remove();\n",
       "        var code = IPython.notebook.insert_cell_below('code');\n",
       "        code.set_text(atob(\"IyBUZW1wCmluc2VydCgnJycKbmVlbHkxOTk1YSA9IERCKFdvcmtVbnJlbGF0ZWQoCiAgICAxOTk1LCAiUGVyZm9ybWFuY2UgbWVhc3VyZW1lbnQgc3lzdGVtIGRlc2lnbjogYSBsaXRlcmF0dXJlIHJldmlldyBhbmQgcmVzZWFyY2ggYWdlbmRhLiIsCiAgICBkaXNwbGF5PSJuZWVseSIsCiAgICBhdXRob3JzPSJBIE5lZWx5LCBNIEdyZWdvcnksIEsgUGxhdHRzIiwKICAgIHBsYWNlPUZBS0UsCiAgICBvdGhlcjE9IjE1KDQpOjgwljExNiIsCiAgICBwbGFjZXg9IkludCBKIE9wZXIgUHJvZCBNYW5hZyIsCikpCgpEQihDaXRhdGlvbigKICAgIHRyZW5kb3dpY3oyMDE0YSwgbmVlbHkxOTk1YSwgcmVmPSJbNTVdIiwKICAgIGNvbnRleHRzPVsKCiAgICBdLAopKQoKJycnLCBjaXRhdGlvbnM9J3RyZW5kb3dpY3oyMDE0YScpOw==\"));\n",
       "    "
      ],
      "text/plain": [
       "<IPython.core.display.Javascript object>"
      ]
     },
     "metadata": {},
     "output_type": "display_data"
    },
    {
     "data": {
      "application/javascript": [
       "$('span:contains(\"# Temp\")').closest('.cell').remove();"
      ],
      "text/plain": [
       "<IPython.core.display.Javascript object>"
      ]
     },
     "metadata": {},
     "output_type": "display_data"
    },
    {
     "data": {
      "application/javascript": [
       "\n",
       "        $('span:contains(\"# Temp\")').closest('.cell').remove();\n",
       "        var code = IPython.notebook.insert_cell_below('code');\n",
       "        code.set_text(atob(\"IyBUZW1wCmluc2VydCgnJycKbnVkdXJ1cGF0aTIwMTFhID0gREIoV29ya1VucmVsYXRlZCgKICAgIDIwMTEsICJTdGF0ZSBvZiB0aGUgYXJ0IGxpdGVyYXR1cmUgcmV2aWV3IG9uIHBlcmZvcm1hbmNlIG1lYXN1cmVtZW50LiIsCiAgICBkaXNwbGF5PSJudWR1cnVwYXRpIiwKICAgIGF1dGhvcnM9IlNTIE51ZHVydXBhdGksIFVTIEJpdGl0Y2ksIFYgS3VtYXIsIEZUUyBDaGFuIiwKICAgIHBsYWNlPUZBS0UsCiAgICBvdGhlcjE9IjYwKDIpOjI3OZYyOTAiLAogICAgcGxhY2V4PSJDb21wdXQgSW5kIEVuZyIsCikpCgpEQihDaXRhdGlvbigKICAgIHRyZW5kb3dpY3oyMDE0YSwgbnVkdXJ1cGF0aTIwMTFhLCByZWY9Ils1Nl0iLAogICAgY29udGV4dHM9WwoKICAgIF0sCikpCgonJycsIGNpdGF0aW9ucz0ndHJlbmRvd2ljejIwMTRhJyk7\"));\n",
       "    "
      ],
      "text/plain": [
       "<IPython.core.display.Javascript object>"
      ]
     },
     "metadata": {},
     "output_type": "display_data"
    },
    {
     "data": {
      "application/javascript": [
       "$('span:contains(\"# Temp\")').closest('.cell').remove();"
      ],
      "text/plain": [
       "<IPython.core.display.Javascript object>"
      ]
     },
     "metadata": {},
     "output_type": "display_data"
    },
    {
     "data": {
      "application/javascript": [
       "\n",
       "        $('span:contains(\"# Temp\")').closest('.cell').remove();\n",
       "        var code = IPython.notebook.insert_cell_below('code');\n",
       "        code.set_text(atob(\"IyBUZW1wCmluc2VydCgnJycKbnVkdXJ1cGF0aTIwMTFhID0gREIoV29ya1VucmVsYXRlZCgKICAgIDIwMTEsICJTdGF0ZSBvZiB0aGUgYXJ0IGxpdGVyYXR1cmUgcmV2aWV3IG9uIHBlcmZvcm1hbmNlIG1lYXN1cmVtZW50LiIsCiAgICBkaXNwbGF5PSJudWR1cnVwYXRpIiwKICAgIGF1dGhvcnM9IlNTIE51ZHVydXBhdGksIFVTIEJpdGl0Y2ksIFYgS3VtYXIsIEZUUyBDaGFuIiwKICAgIHBsYWNlPUZBS0UsCiAgICBvdGhlcjE9IjYwKDIpOjI3OZYyOTAiLAogICAgcGxhY2V4PSJDb21wdXQgSW5kIEVuZyIsCikpCgpEQihDaXRhdGlvbigKICAgIHRyZW5kb3dpY3oyMDE0YSwgbnVkdXJ1cGF0aTIwMTFhLCByZWY9Ils1Nl0iLAogICAgY29udGV4dHM9WwoKICAgIF0sCikpCgonJycsIGNpdGF0aW9ucz0ndHJlbmRvd2ljejIwMTRhJyk7\"));\n",
       "    "
      ],
      "text/plain": [
       "<IPython.core.display.Javascript object>"
      ]
     },
     "metadata": {},
     "output_type": "display_data"
    },
    {
     "data": {
      "application/javascript": [
       "$('span:contains(\"# Temp\")').closest('.cell').remove();"
      ],
      "text/plain": [
       "<IPython.core.display.Javascript object>"
      ]
     },
     "metadata": {},
     "output_type": "display_data"
    },
    {
     "data": {
      "application/javascript": [
       "\n",
       "        $('span:contains(\"# Temp\")').closest('.cell').remove();\n",
       "        var code = IPython.notebook.insert_cell_below('code');\n",
       "        code.set_text(atob(\"IyBUZW1wCmluc2VydCgnJycKREIoQ2l0YXRpb24oCiAgICB0cmVuZG93aWN6MjAxNGEsIG9mZmVuMTk5N2EsIHJlZj0iWzU3XSIsCiAgICBjb250ZXh0cz1bCgogICAgXSwKKSkKCicnJywgY2l0YXRpb25zPSd0cmVuZG93aWN6MjAxNGEnKTsKc2V0X2F0dHJpYnV0ZSgnb2ZmZW4xOTk3YScsICdvdGhlcjEnLCAnMTQoMik6NDWWNTMnKTs=\"));\n",
       "    "
      ],
      "text/plain": [
       "<IPython.core.display.Javascript object>"
      ]
     },
     "metadata": {},
     "output_type": "display_data"
    },
    {
     "data": {
      "application/javascript": [
       "$('span:contains(\"# Temp\")').closest('.cell').remove();"
      ],
      "text/plain": [
       "<IPython.core.display.Javascript object>"
      ]
     },
     "metadata": {},
     "output_type": "display_data"
    },
    {
     "data": {
      "application/javascript": [
       "\n",
       "        $('span:contains(\"# Temp\")').closest('.cell').remove();\n",
       "        var code = IPython.notebook.insert_cell_below('code');\n",
       "        code.set_text(atob(\"IyBUZW1wCmluc2VydCgnJycKREIoQ2l0YXRpb24oCiAgICB0cmVuZG93aWN6MjAxNGEsIG9mZmVuMTk5N2EsIHJlZj0iWzU3XSIsCiAgICBjb250ZXh0cz1bCgogICAgXSwKKSkKCicnJywgY2l0YXRpb25zPSd0cmVuZG93aWN6MjAxNGEnKTsKc2V0X2F0dHJpYnV0ZSgnb2ZmZW4xOTk3YScsICdvdGhlcjEnLCAnMTQoMik6NDWWNTMnKTs=\"));\n",
       "    "
      ],
      "text/plain": [
       "<IPython.core.display.Javascript object>"
      ]
     },
     "metadata": {},
     "output_type": "display_data"
    },
    {
     "data": {
      "application/javascript": [
       "$('span:contains(\"# Temp\")').closest('.cell').remove();"
      ],
      "text/plain": [
       "<IPython.core.display.Javascript object>"
      ]
     },
     "metadata": {},
     "output_type": "display_data"
    },
    {
     "data": {
      "application/javascript": [
       "\n",
       "        $('span:contains(\"# Temp\")').closest('.cell').remove();\n",
       "        var code = IPython.notebook.insert_cell_below('code');\n",
       "        code.set_text(atob(\"IyBUZW1wCmluc2VydCgnJycKb2djMjAwOWEgPSBEQihXb3JrVW5yZWxhdGVkKAogICAgMjAwOSwgIk1hbmFnaW5nIHN1Y2Nlc3NmdWwgcHJvamVjdHMgd2l0aCBQUklOQ0UyIiwKICAgIGRpc3BsYXk9Im9nYyIsCiAgICBhdXRob3JzPSJPR0MiLAogICAgcGxhY2U9RkFLRSwKICAgIHBsYWNleD0iKE9mZmljZSBvZiBHb3Zlcm5tZW50IENvbW1lcmNlKSBlZGl0aW9uIG1hbnVhbC4gVGhlIFN0YXRpb25lcnkgT2ZmaWNlLCBVSyIsCikpCgpEQihDaXRhdGlvbigKICAgIHRyZW5kb3dpY3oyMDE0YSwgb2djMjAwOWEsIHJlZj0iWzU4XSIsCiAgICBjb250ZXh0cz1bCgogICAgXSwKKSkKCicnJywgY2l0YXRpb25zPSd0cmVuZG93aWN6MjAxNGEnKTs=\"));\n",
       "    "
      ],
      "text/plain": [
       "<IPython.core.display.Javascript object>"
      ]
     },
     "metadata": {},
     "output_type": "display_data"
    },
    {
     "data": {
      "application/javascript": [
       "$('span:contains(\"# Temp\")').closest('.cell').remove();"
      ],
      "text/plain": [
       "<IPython.core.display.Javascript object>"
      ]
     },
     "metadata": {},
     "output_type": "display_data"
    },
    {
     "data": {
      "application/javascript": [
       "\n",
       "        $('span:contains(\"# Temp\")').closest('.cell').remove();\n",
       "        var code = IPython.notebook.insert_cell_below('code');\n",
       "        code.set_text(atob(\"IyBUZW1wCmluc2VydCgnJycKb2djMjAwOWEgPSBEQihXb3JrVW5yZWxhdGVkKAogICAgMjAwOSwgIk1hbmFnaW5nIHN1Y2Nlc3NmdWwgcHJvamVjdHMgd2l0aCBQUklOQ0UyIiwKICAgIGRpc3BsYXk9Im9nYyIsCiAgICBhdXRob3JzPSJPR0MiLAogICAgcGxhY2U9RkFLRSwKICAgIHBsYWNleD0iKE9mZmljZSBvZiBHb3Zlcm5tZW50IENvbW1lcmNlKSBlZGl0aW9uIG1hbnVhbC4gVGhlIFN0YXRpb25lcnkgT2ZmaWNlLCBVSyIsCikpCgpEQihDaXRhdGlvbigKICAgIHRyZW5kb3dpY3oyMDE0YSwgb2djMjAwOWEsIHJlZj0iWzU4XSIsCiAgICBjb250ZXh0cz1bCgogICAgXSwKKSkKCicnJywgY2l0YXRpb25zPSd0cmVuZG93aWN6MjAxNGEnKTs=\"));\n",
       "    "
      ],
      "text/plain": [
       "<IPython.core.display.Javascript object>"
      ]
     },
     "metadata": {},
     "output_type": "display_data"
    },
    {
     "data": {
      "application/javascript": [
       "$('span:contains(\"# Temp\")').closest('.cell').remove();"
      ],
      "text/plain": [
       "<IPython.core.display.Javascript object>"
      ]
     },
     "metadata": {},
     "output_type": "display_data"
    },
    {
     "data": {
      "application/javascript": [
       "\n",
       "        $('span:contains(\"# Temp\")').closest('.cell').remove();\n",
       "        var code = IPython.notebook.insert_cell_below('code');\n",
       "        code.set_text(atob(\"IyBUZW1wCmluc2VydCgnJycKb21nMjAxMGEgPSBEQihXb3JrVW5yZWxhdGVkKAogICAgMjAxMCwgIlRoZSBidXNpbmVzcyBtb3RpdmF0aW9uIG1vZGVsIChCTU0pIFYuIDEuMS4gT2JqZWN0IiwKICAgIGRpc3BsYXk9Im9tZyIsCiAgICBhdXRob3JzPSJPTUciLAogICAgcGxhY2U9RkFLRSwKICAgIHBsYWNleD0iTWFuYWdlbWVudCBHcm91cCAoT2JqZWN0IE1hbmFnZW1lbnQgR3JvdXApIiwKKSkKCkRCKENpdGF0aW9uKAogICAgdHJlbmRvd2ljejIwMTRhLCBvbWcyMDEwYSwgcmVmPSJbNTldIiwKICAgIGNvbnRleHRzPVsKCiAgICBdLAopKQoKJycnLCBjaXRhdGlvbnM9J3RyZW5kb3dpY3oyMDE0YScpOw==\"));\n",
       "    "
      ],
      "text/plain": [
       "<IPython.core.display.Javascript object>"
      ]
     },
     "metadata": {},
     "output_type": "display_data"
    },
    {
     "data": {
      "application/javascript": [
       "$('span:contains(\"# Temp\")').closest('.cell').remove();"
      ],
      "text/plain": [
       "<IPython.core.display.Javascript object>"
      ]
     },
     "metadata": {},
     "output_type": "display_data"
    },
    {
     "data": {
      "application/javascript": [
       "\n",
       "        $('span:contains(\"# Temp\")').closest('.cell').remove();\n",
       "        var code = IPython.notebook.insert_cell_below('code');\n",
       "        code.set_text(atob(\"IyBUZW1wCmluc2VydCgnJycKb21nMjAxMGEgPSBEQihXb3JrVW5yZWxhdGVkKAogICAgMjAxMCwgIlRoZSBidXNpbmVzcyBtb3RpdmF0aW9uIG1vZGVsIChCTU0pIFYuIDEuMS4gT2JqZWN0IiwKICAgIGRpc3BsYXk9Im9tZyIsCiAgICBhdXRob3JzPSJPTUciLAogICAgcGxhY2U9RkFLRSwKICAgIHBsYWNleD0iTWFuYWdlbWVudCBHcm91cCAoT2JqZWN0IE1hbmFnZW1lbnQgR3JvdXApIiwKKSkKCkRCKENpdGF0aW9uKAogICAgdHJlbmRvd2ljejIwMTRhLCBvbWcyMDEwYSwgcmVmPSJbNTldIiwKICAgIGNvbnRleHRzPVsKCiAgICBdLAopKQoKJycnLCBjaXRhdGlvbnM9J3RyZW5kb3dpY3oyMDE0YScpOw==\"));\n",
       "    "
      ],
      "text/plain": [
       "<IPython.core.display.Javascript object>"
      ]
     },
     "metadata": {},
     "output_type": "display_data"
    },
    {
     "data": {
      "application/javascript": [
       "$('span:contains(\"# Temp\")').closest('.cell').remove();"
      ],
      "text/plain": [
       "<IPython.core.display.Javascript object>"
      ]
     },
     "metadata": {},
     "output_type": "display_data"
    },
    {
     "data": {
      "application/javascript": [
       "\n",
       "        $('span:contains(\"# Temp\")').closest('.cell').remove();\n",
       "        var code = IPython.notebook.insert_cell_below('code');\n",
       "        code.set_text(atob(\"IyBUZW1wCmluc2VydCgnJycKcG1pMjAxM2EgPSBEQihXb3JrVW5yZWxhdGVkKAogICAgMjAxMywgIkEgZ3VpZGUgdG8gdGhlIHByb2plY3QgbWFuYWdlbWVudCBib2R5IG9mIGtub3dsZWRnZSAoUE1CT0sgZ3VpZGUpLCIsCiAgICBkaXNwbGF5PSJwbWkiLAogICAgYXV0aG9ycz0iUE1JIiwKICAgIHBsYWNlPUZBS0UsCiAgICBwbGFjZXg9IjV0aCBlZG4uIFByb2plY3QgTWFuYWdlbWVudCBJbnN0aXR1dGUsIE5ld3Rvd24gU3F1YXJlLCBQQSIsCikpCgpEQihDaXRhdGlvbigKICAgIHRyZW5kb3dpY3oyMDE0YSwgcG1pMjAxM2EsIHJlZj0iWzYwXSIsCiAgICBjb250ZXh0cz1bCgogICAgXSwKKSkKCicnJywgY2l0YXRpb25zPSd0cmVuZG93aWN6MjAxNGEnKTs=\"));\n",
       "    "
      ],
      "text/plain": [
       "<IPython.core.display.Javascript object>"
      ]
     },
     "metadata": {},
     "output_type": "display_data"
    },
    {
     "data": {
      "application/javascript": [
       "$('span:contains(\"# Temp\")').closest('.cell').remove();"
      ],
      "text/plain": [
       "<IPython.core.display.Javascript object>"
      ]
     },
     "metadata": {},
     "output_type": "display_data"
    },
    {
     "data": {
      "application/javascript": [
       "\n",
       "        $('span:contains(\"# Temp\")').closest('.cell').remove();\n",
       "        var code = IPython.notebook.insert_cell_below('code');\n",
       "        code.set_text(atob(\"IyBUZW1wCmluc2VydCgnJycKcG1pMjAxM2EgPSBEQihXb3JrVW5yZWxhdGVkKAogICAgMjAxMywgIkEgZ3VpZGUgdG8gdGhlIHByb2plY3QgbWFuYWdlbWVudCBib2R5IG9mIGtub3dsZWRnZSAoUE1CT0sgZ3VpZGUpLCIsCiAgICBkaXNwbGF5PSJwbWkiLAogICAgYXV0aG9ycz0iUE1JIiwKICAgIHBsYWNlPUZBS0UsCiAgICBwbGFjZXg9IjV0aCBlZG4uIFByb2plY3QgTWFuYWdlbWVudCBJbnN0aXR1dGUsIE5ld3Rvd24gU3F1YXJlLCBQQSIsCikpCgpEQihDaXRhdGlvbigKICAgIHRyZW5kb3dpY3oyMDE0YSwgcG1pMjAxM2EsIHJlZj0iWzYwXSIsCiAgICBjb250ZXh0cz1bCgogICAgXSwKKSkKCicnJywgY2l0YXRpb25zPSd0cmVuZG93aWN6MjAxNGEnKTs=\"));\n",
       "    "
      ],
      "text/plain": [
       "<IPython.core.display.Javascript object>"
      ]
     },
     "metadata": {},
     "output_type": "display_data"
    },
    {
     "data": {
      "application/javascript": [
       "$('span:contains(\"# Temp\")').closest('.cell').remove();"
      ],
      "text/plain": [
       "<IPython.core.display.Javascript object>"
      ]
     },
     "metadata": {},
     "output_type": "display_data"
    },
    {
     "data": {
      "application/javascript": [
       "\n",
       "        $('span:contains(\"# Temp\")').closest('.cell').remove();\n",
       "        var code = IPython.notebook.insert_cell_below('code');\n",
       "        code.set_text(atob(\"IyBUZW1wCmluc2VydCgnJycKcG9ydGVyMTk5NmEgPSBEQihXb3JrVW5yZWxhdGVkKAogICAgMTk5NiwgIldoYXQgaXMgc3RyYXRlZ3k/IiwKICAgIGRpc3BsYXk9InBvcnRlciIsCiAgICBhdXRob3JzPSJNRSBQb3J0ZXIiLAogICAgcGxhY2U9RkFLRSwKICAgIG90aGVyMT0iNzQoNik6NjGWNzgiLAogICAgcGxhY2V4PSJIYXJ2IEJ1cyBSZXYiLAopKQoKREIoQ2l0YXRpb24oCiAgICB0cmVuZG93aWN6MjAxNGEsIHBvcnRlcjE5OTZhLCByZWY9Ils2MV0iLAogICAgY29udGV4dHM9WwoKICAgIF0sCikpCgonJycsIGNpdGF0aW9ucz0ndHJlbmRvd2ljejIwMTRhJyk7\"));\n",
       "    "
      ],
      "text/plain": [
       "<IPython.core.display.Javascript object>"
      ]
     },
     "metadata": {},
     "output_type": "display_data"
    },
    {
     "data": {
      "application/javascript": [
       "$('span:contains(\"# Temp\")').closest('.cell').remove();"
      ],
      "text/plain": [
       "<IPython.core.display.Javascript object>"
      ]
     },
     "metadata": {},
     "output_type": "display_data"
    },
    {
     "data": {
      "application/javascript": [
       "\n",
       "        $('span:contains(\"# Temp\")').closest('.cell').remove();\n",
       "        var code = IPython.notebook.insert_cell_below('code');\n",
       "        code.set_text(atob(\"IyBUZW1wCmluc2VydCgnJycKcG9ydGVyMTk5NmEgPSBEQihXb3JrVW5yZWxhdGVkKAogICAgMTk5NiwgIldoYXQgaXMgc3RyYXRlZ3k/IiwKICAgIGRpc3BsYXk9InBvcnRlciIsCiAgICBhdXRob3JzPSJNRSBQb3J0ZXIiLAogICAgcGxhY2U9RkFLRSwKICAgIG90aGVyMT0iNzQoNik6NjGWNzgiLAogICAgcGxhY2V4PSJIYXJ2IEJ1cyBSZXYiLAopKQoKREIoQ2l0YXRpb24oCiAgICB0cmVuZG93aWN6MjAxNGEsIHBvcnRlcjE5OTZhLCByZWY9Ils2MV0iLAogICAgY29udGV4dHM9WwoKICAgIF0sCikpCgonJycsIGNpdGF0aW9ucz0ndHJlbmRvd2ljejIwMTRhJyk7\"));\n",
       "    "
      ],
      "text/plain": [
       "<IPython.core.display.Javascript object>"
      ]
     },
     "metadata": {},
     "output_type": "display_data"
    },
    {
     "data": {
      "application/javascript": [
       "$('span:contains(\"# Temp\")').closest('.cell').remove();"
      ],
      "text/plain": [
       "<IPython.core.display.Javascript object>"
      ]
     },
     "metadata": {},
     "output_type": "display_data"
    },
    {
     "data": {
      "application/javascript": [
       "\n",
       "        $('span:contains(\"# Temp\")').closest('.cell').remove();\n",
       "        var code = IPython.notebook.insert_cell_below('code');\n",
       "        code.set_text(atob(\"IyBUZW1wCmluc2VydCgnJycKcG9ydGVyMjAwOGEgPSBEQihXb3JrVW5yZWxhdGVkKAogICAgMjAwOCwgIlRoZSBmaXZlIGNvbXBldGl0aXZlIGZvcmNlcyB0aGF0IHNoYXBlIHN0cmF0ZWd5LiIsCiAgICBkaXNwbGF5PSJwb3J0ZXIiLAogICAgYXV0aG9ycz0iTUUgUG9ydGVyIiwKICAgIHBsYWNlPUZBS0UsCiAgICBvdGhlcjE9Ijg2KDEpOjc4ljkzIiwKICAgIHBsYWNleD0iSGFydiBCdXMgUmV2IiwKKSkKCkRCKENpdGF0aW9uKAogICAgdHJlbmRvd2ljejIwMTRhLCBwb3J0ZXIyMDA4YSwgcmVmPSJbNjJdIiwKICAgIGNvbnRleHRzPVsKCiAgICBdLAopKQoKJycnLCBjaXRhdGlvbnM9J3RyZW5kb3dpY3oyMDE0YScpOw==\"));\n",
       "    "
      ],
      "text/plain": [
       "<IPython.core.display.Javascript object>"
      ]
     },
     "metadata": {},
     "output_type": "display_data"
    },
    {
     "data": {
      "application/javascript": [
       "$('span:contains(\"# Temp\")').closest('.cell').remove();"
      ],
      "text/plain": [
       "<IPython.core.display.Javascript object>"
      ]
     },
     "metadata": {},
     "output_type": "display_data"
    },
    {
     "data": {
      "application/javascript": [
       "\n",
       "        $('span:contains(\"# Temp\")').closest('.cell').remove();\n",
       "        var code = IPython.notebook.insert_cell_below('code');\n",
       "        code.set_text(atob(\"IyBUZW1wCmluc2VydCgnJycKcG9ydGVyMjAwOGEgPSBEQihXb3JrVW5yZWxhdGVkKAogICAgMjAwOCwgIlRoZSBmaXZlIGNvbXBldGl0aXZlIGZvcmNlcyB0aGF0IHNoYXBlIHN0cmF0ZWd5LiIsCiAgICBkaXNwbGF5PSJwb3J0ZXIiLAogICAgYXV0aG9ycz0iTUUgUG9ydGVyIiwKICAgIHBsYWNlPUZBS0UsCiAgICBvdGhlcjE9Ijg2KDEpOjc4ljkzIiwKICAgIHBsYWNleD0iSGFydiBCdXMgUmV2IiwKKSkKCkRCKENpdGF0aW9uKAogICAgdHJlbmRvd2ljejIwMTRhLCBwb3J0ZXIyMDA4YSwgcmVmPSJbNjJdIiwKICAgIGNvbnRleHRzPVsKCiAgICBdLAopKQoKJycnLCBjaXRhdGlvbnM9J3RyZW5kb3dpY3oyMDE0YScpOw==\"));\n",
       "    "
      ],
      "text/plain": [
       "<IPython.core.display.Javascript object>"
      ]
     },
     "metadata": {},
     "output_type": "display_data"
    },
    {
     "data": {
      "application/javascript": [
       "$('span:contains(\"# Temp\")').closest('.cell').remove();"
      ],
      "text/plain": [
       "<IPython.core.display.Javascript object>"
      ]
     },
     "metadata": {},
     "output_type": "display_data"
    },
    {
     "data": {
      "application/javascript": [
       "\n",
       "        $('span:contains(\"# Temp\")').closest('.cell').remove();\n",
       "        var code = IPython.notebook.insert_cell_below('code');\n",
       "        code.set_text(atob(\"IyBUZW1wCmluc2VydCgnJycKREIoQ2l0YXRpb24oCiAgICB0cmVuZG93aWN6MjAxNGEsIHJvbWJhY2gxOTk1YSwgcmVmPSJbNjNdIiwKICAgIGNvbnRleHRzPVsKCiAgICBdLAopKQoKJycnLCBjaXRhdGlvbnM9J3RyZW5kb3dpY3oyMDE0YScpOw==\"));\n",
       "    "
      ],
      "text/plain": [
       "<IPython.core.display.Javascript object>"
      ]
     },
     "metadata": {},
     "output_type": "display_data"
    },
    {
     "data": {
      "application/javascript": [
       "$('span:contains(\"# Temp\")').closest('.cell').remove();"
      ],
      "text/plain": [
       "<IPython.core.display.Javascript object>"
      ]
     },
     "metadata": {},
     "output_type": "display_data"
    },
    {
     "data": {
      "application/javascript": [
       "\n",
       "        $('span:contains(\"# Temp\")').closest('.cell').remove();\n",
       "        var code = IPython.notebook.insert_cell_below('code');\n",
       "        code.set_text(atob(\"IyBUZW1wCmluc2VydCgnJycKREIoQ2l0YXRpb24oCiAgICB0cmVuZG93aWN6MjAxNGEsIHJvbWJhY2gxOTk1YSwgcmVmPSJbNjNdIiwKICAgIGNvbnRleHRzPVsKCiAgICBdLAopKQoKJycnLCBjaXRhdGlvbnM9J3RyZW5kb3dpY3oyMDE0YScpOw==\"));\n",
       "    "
      ],
      "text/plain": [
       "<IPython.core.display.Javascript object>"
      ]
     },
     "metadata": {},
     "output_type": "display_data"
    },
    {
     "data": {
      "application/javascript": [
       "$('span:contains(\"# Temp\")').closest('.cell').remove();"
      ],
      "text/plain": [
       "<IPython.core.display.Javascript object>"
      ]
     },
     "metadata": {},
     "output_type": "display_data"
    },
    {
     "data": {
      "application/javascript": [
       "\n",
       "        $('span:contains(\"# Temp\")').closest('.cell').remove();\n",
       "        var code = IPython.notebook.insert_cell_below('code');\n",
       "        code.set_text(atob(\"IyBUZW1wCmluc2VydCgnJycKcm9zZW1hbm4yMDEwYSA9IERCKFdvcmtVbnJlbGF0ZWQoCiAgICAyMDEwLCAiVGhlIHNpeCBjb3JlIGVsZW1lbnRzIG9mIGJ1c2luZXNzIHByb2Nlc3MgbWFuYWdlbWVudC4iLAogICAgZGlzcGxheT0icm9zZW1hbm4iLAogICAgYXV0aG9ycz0iTSBSb3NlbWFubiwgdm9tIEJyb2NrZSBKIiwKICAgIHBsYWNlPUZBS0UsCiAgICBwbGFjZXg9InZvbSBCcm9ja2UgSiwgUm9zZW1hbm4gTSAoZWRzKSBIYW5kYm9vayBvbiBidXNpbmVzcyBwcm9jZXNzIG1hbmFnZW1lbnQsIHZvbCAxLiBTcHJpbmdlciwgSGVpZGVsYmVyZyIsCikpCgpEQihDaXRhdGlvbigKICAgIHRyZW5kb3dpY3oyMDE0YSwgcm9zZW1hbm4yMDEwYSwgcmVmPSJbNjRdIiwKICAgIGNvbnRleHRzPVsKCiAgICBdLAopKQoKJycnLCBjaXRhdGlvbnM9J3RyZW5kb3dpY3oyMDE0YScpOw==\"));\n",
       "    "
      ],
      "text/plain": [
       "<IPython.core.display.Javascript object>"
      ]
     },
     "metadata": {},
     "output_type": "display_data"
    },
    {
     "data": {
      "application/javascript": [
       "$('span:contains(\"# Temp\")').closest('.cell').remove();"
      ],
      "text/plain": [
       "<IPython.core.display.Javascript object>"
      ]
     },
     "metadata": {},
     "output_type": "display_data"
    },
    {
     "data": {
      "application/javascript": [
       "\n",
       "        $('span:contains(\"# Temp\")').closest('.cell').remove();\n",
       "        var code = IPython.notebook.insert_cell_below('code');\n",
       "        code.set_text(atob(\"IyBUZW1wCmluc2VydCgnJycKcm9zZW1hbm4yMDEwYSA9IERCKFdvcmtVbnJlbGF0ZWQoCiAgICAyMDEwLCAiVGhlIHNpeCBjb3JlIGVsZW1lbnRzIG9mIGJ1c2luZXNzIHByb2Nlc3MgbWFuYWdlbWVudC4iLAogICAgZGlzcGxheT0icm9zZW1hbm4iLAogICAgYXV0aG9ycz0iTSBSb3NlbWFubiwgdm9tIEJyb2NrZSBKIiwKICAgIHBsYWNlPUZBS0UsCiAgICBwbGFjZXg9InZvbSBCcm9ja2UgSiwgUm9zZW1hbm4gTSAoZWRzKSBIYW5kYm9vayBvbiBidXNpbmVzcyBwcm9jZXNzIG1hbmFnZW1lbnQsIHZvbCAxLiBTcHJpbmdlciwgSGVpZGVsYmVyZyIsCikpCgpEQihDaXRhdGlvbigKICAgIHRyZW5kb3dpY3oyMDE0YSwgcm9zZW1hbm4yMDEwYSwgcmVmPSJbNjRdIiwKICAgIGNvbnRleHRzPVsKCiAgICBdLAopKQoKJycnLCBjaXRhdGlvbnM9J3RyZW5kb3dpY3oyMDE0YScpOw==\"));\n",
       "    "
      ],
      "text/plain": [
       "<IPython.core.display.Javascript object>"
      ]
     },
     "metadata": {},
     "output_type": "display_data"
    },
    {
     "data": {
      "application/javascript": [
       "$('span:contains(\"# Temp\")').closest('.cell').remove();"
      ],
      "text/plain": [
       "<IPython.core.display.Javascript object>"
      ]
     },
     "metadata": {},
     "output_type": "display_data"
    },
    {
     "data": {
      "application/javascript": [
       "\n",
       "        $('span:contains(\"# Temp\")').closest('.cell').remove();\n",
       "        var code = IPython.notebook.insert_cell_below('code');\n",
       "        code.set_text(atob(\"IyBUZW1wCmluc2VydCgnJycKREIoQ2l0YXRpb24oCiAgICB0cmVuZG93aWN6MjAxNGEsIHNhcmNpYTIwMTBhLCByZWY9Ils2NV0iLAogICAgY29udGV4dHM9WwoKICAgIF0sCikpCgonJycsIGNpdGF0aW9ucz0ndHJlbmRvd2ljejIwMTRhJyk7CnNldF9hdHRyaWJ1dGUoJ3NhcmNpYTIwMTBhJywgJ290aGVyMScsICdzb2Z0d2FyZSBlbmdpbmVlcmluZyBhbmQgbWVhc3VyZW1lbnQsIEJvbHphbm8tQm96ZW4sIEl0YWx5LCcpOwpzZXRfYXR0cmlidXRlKCdzYXJjaWEyMDEwYScsICdvdGhlcjInLCAncHAgMZY0Jyk7\"));\n",
       "    "
      ],
      "text/plain": [
       "<IPython.core.display.Javascript object>"
      ]
     },
     "metadata": {},
     "output_type": "display_data"
    },
    {
     "data": {
      "application/javascript": [
       "$('span:contains(\"# Temp\")').closest('.cell').remove();"
      ],
      "text/plain": [
       "<IPython.core.display.Javascript object>"
      ]
     },
     "metadata": {},
     "output_type": "display_data"
    },
    {
     "data": {
      "application/javascript": [
       "\n",
       "        $('span:contains(\"# Temp\")').closest('.cell').remove();\n",
       "        var code = IPython.notebook.insert_cell_below('code');\n",
       "        code.set_text(atob(\"IyBUZW1wCmluc2VydCgnJycKREIoQ2l0YXRpb24oCiAgICB0cmVuZG93aWN6MjAxNGEsIHNhcmNpYTIwMTBhLCByZWY9Ils2NV0iLAogICAgY29udGV4dHM9WwoKICAgIF0sCikpCgonJycsIGNpdGF0aW9ucz0ndHJlbmRvd2ljejIwMTRhJyk7CnNldF9hdHRyaWJ1dGUoJ3NhcmNpYTIwMTBhJywgJ290aGVyMScsICdzb2Z0d2FyZSBlbmdpbmVlcmluZyBhbmQgbWVhc3VyZW1lbnQsIEJvbHphbm8tQm96ZW4sIEl0YWx5LCcpOwpzZXRfYXR0cmlidXRlKCdzYXJjaWEyMDEwYScsICdvdGhlcjInLCAncHAgMZY0Jyk7\"));\n",
       "    "
      ],
      "text/plain": [
       "<IPython.core.display.Javascript object>"
      ]
     },
     "metadata": {},
     "output_type": "display_data"
    },
    {
     "data": {
      "application/javascript": [
       "$('span:contains(\"# Temp\")').closest('.cell').remove();"
      ],
      "text/plain": [
       "<IPython.core.display.Javascript object>"
      ]
     },
     "metadata": {},
     "output_type": "display_data"
    },
    {
     "data": {
      "application/javascript": [
       "\n",
       "        $('span:contains(\"# Temp\")').closest('.cell').remove();\n",
       "        var code = IPython.notebook.insert_cell_below('code');\n",
       "        code.set_text(atob(\"IyBUZW1wCmluc2VydCgnJycKc2Nod2FiZXIyMDA0YSA9IERCKFdvcmtVbnJlbGF0ZWQoCiAgICAyMDA0LCAiQWdpbGUgcHJvamVjdCBtYW5hZ2VtZW50IHdpdGggc2NydW0uIiwKICAgIGRpc3BsYXk9InNjaHdhYmVyIiwKICAgIGF1dGhvcnM9IksgU2Nod2FiZXIiLAogICAgcGxhY2U9RkFLRSwKICAgIHBsYWNleD0iTWljcm9zb2Z0IFByZXNzLCBSZWRtb25kLCBXQSIsCikpCgpEQihDaXRhdGlvbigKICAgIHRyZW5kb3dpY3oyMDE0YSwgc2Nod2FiZXIyMDA0YSwgcmVmPSJbNjZdIiwKICAgIGNvbnRleHRzPVsKCiAgICBdLAopKQoKJycnLCBjaXRhdGlvbnM9J3RyZW5kb3dpY3oyMDE0YScpOw==\"));\n",
       "    "
      ],
      "text/plain": [
       "<IPython.core.display.Javascript object>"
      ]
     },
     "metadata": {},
     "output_type": "display_data"
    },
    {
     "data": {
      "application/javascript": [
       "$('span:contains(\"# Temp\")').closest('.cell').remove();"
      ],
      "text/plain": [
       "<IPython.core.display.Javascript object>"
      ]
     },
     "metadata": {},
     "output_type": "display_data"
    },
    {
     "data": {
      "application/javascript": [
       "\n",
       "        $('span:contains(\"# Temp\")').closest('.cell').remove();\n",
       "        var code = IPython.notebook.insert_cell_below('code');\n",
       "        code.set_text(atob(\"IyBUZW1wCmluc2VydCgnJycKc2Nod2FiZXIyMDA0YSA9IERCKFdvcmtVbnJlbGF0ZWQoCiAgICAyMDA0LCAiQWdpbGUgcHJvamVjdCBtYW5hZ2VtZW50IHdpdGggc2NydW0uIiwKICAgIGRpc3BsYXk9InNjaHdhYmVyIiwKICAgIGF1dGhvcnM9IksgU2Nod2FiZXIiLAogICAgcGxhY2U9RkFLRSwKICAgIHBsYWNleD0iTWljcm9zb2Z0IFByZXNzLCBSZWRtb25kLCBXQSIsCikpCgpEQihDaXRhdGlvbigKICAgIHRyZW5kb3dpY3oyMDE0YSwgc2Nod2FiZXIyMDA0YSwgcmVmPSJbNjZdIiwKICAgIGNvbnRleHRzPVsKCiAgICBdLAopKQoKJycnLCBjaXRhdGlvbnM9J3RyZW5kb3dpY3oyMDE0YScpOw==\"));\n",
       "    "
      ],
      "text/plain": [
       "<IPython.core.display.Javascript object>"
      ]
     },
     "metadata": {},
     "output_type": "display_data"
    },
    {
     "data": {
      "application/javascript": [
       "$('span:contains(\"# Temp\")').closest('.cell').remove();"
      ],
      "text/plain": [
       "<IPython.core.display.Javascript object>"
      ]
     },
     "metadata": {},
     "output_type": "display_data"
    },
    {
     "data": {
      "application/javascript": [
       "\n",
       "        $('span:contains(\"# Temp\")').closest('.cell').remove();\n",
       "        var code = IPython.notebook.insert_cell_below('code');\n",
       "        code.set_text(atob(\"IyBUZW1wCmluc2VydCgnJycKc2VsYnkyMDA1YSA9IERCKFdvcmtVbnJlbGF0ZWQoCiAgICAyMDA1LCAiTWVhc3VyZW1lbnQtZHJpdmVuIGRhc2hib2FyZHMgZW5hYmxlIGxlYWRpbmcgaW5kaWNhdG9ycyBmb3IgcmVxdWlyZW1lbnRzIGFuZCBkZXNpZ24gb2YgbGFyZ2Utc2NhbGUgc3lzdGVtcy4iLAogICAgZGlzcGxheT0ic2VsYnkiLAogICAgYXV0aG9ycz0iUlcgU2VsYnkiLAogICAgcGxhY2U9RkFLRSwKICAgIG90aGVyMT0ic3ltcG9zaXVtLCBDb21vLCBJdGFseSwgMTmWMjIgU2VwdGVtYmVyLCIsCiAgICBvdGhlcjI9InBwIDE1MzCWMTQzNSIsCiAgICBwbGFjZXg9IkluOiBQcm9jZWVkaW5ncyBvZiB0aGUgMTF0aCBpbnRlcm5hdGlvbmFsIHNvZnR3YXJlIG1ldHJpY3MiLAopKQoKREIoQ2l0YXRpb24oCiAgICB0cmVuZG93aWN6MjAxNGEsIHNlbGJ5MjAwNWEsIHJlZj0iWzY3XSIsCiAgICBjb250ZXh0cz1bCgogICAgXSwKKSkKCicnJywgY2l0YXRpb25zPSd0cmVuZG93aWN6MjAxNGEnKTs=\"));\n",
       "    "
      ],
      "text/plain": [
       "<IPython.core.display.Javascript object>"
      ]
     },
     "metadata": {},
     "output_type": "display_data"
    },
    {
     "data": {
      "application/javascript": [
       "$('span:contains(\"# Temp\")').closest('.cell').remove();"
      ],
      "text/plain": [
       "<IPython.core.display.Javascript object>"
      ]
     },
     "metadata": {},
     "output_type": "display_data"
    },
    {
     "data": {
      "application/javascript": [
       "\n",
       "        $('span:contains(\"# Temp\")').closest('.cell').remove();\n",
       "        var code = IPython.notebook.insert_cell_below('code');\n",
       "        code.set_text(atob(\"IyBUZW1wCmluc2VydCgnJycKc2VsYnkyMDA1YSA9IERCKFdvcmtVbnJlbGF0ZWQoCiAgICAyMDA1LCAiTWVhc3VyZW1lbnQtZHJpdmVuIGRhc2hib2FyZHMgZW5hYmxlIGxlYWRpbmcgaW5kaWNhdG9ycyBmb3IgcmVxdWlyZW1lbnRzIGFuZCBkZXNpZ24gb2YgbGFyZ2Utc2NhbGUgc3lzdGVtcy4iLAogICAgZGlzcGxheT0ic2VsYnkiLAogICAgYXV0aG9ycz0iUlcgU2VsYnkiLAogICAgcGxhY2U9RkFLRSwKICAgIG90aGVyMT0ic3ltcG9zaXVtLCBDb21vLCBJdGFseSwgMTmWMjIgU2VwdGVtYmVyLCIsCiAgICBvdGhlcjI9InBwIDE1MzCWMTQzNSIsCiAgICBwbGFjZXg9IkluOiBQcm9jZWVkaW5ncyBvZiB0aGUgMTF0aCBpbnRlcm5hdGlvbmFsIHNvZnR3YXJlIG1ldHJpY3MiLAopKQoKREIoQ2l0YXRpb24oCiAgICB0cmVuZG93aWN6MjAxNGEsIHNlbGJ5MjAwNWEsIHJlZj0iWzY3XSIsCiAgICBjb250ZXh0cz1bCgogICAgXSwKKSkKCicnJywgY2l0YXRpb25zPSd0cmVuZG93aWN6MjAxNGEnKTs=\"));\n",
       "    "
      ],
      "text/plain": [
       "<IPython.core.display.Javascript object>"
      ]
     },
     "metadata": {},
     "output_type": "display_data"
    },
    {
     "data": {
      "application/javascript": [
       "$('span:contains(\"# Temp\")').closest('.cell').remove();"
      ],
      "text/plain": [
       "<IPython.core.display.Javascript object>"
      ]
     },
     "metadata": {},
     "output_type": "display_data"
    },
    {
     "data": {
      "application/javascript": [
       "\n",
       "        $('span:contains(\"# Temp\")').closest('.cell').remove();\n",
       "        var code = IPython.notebook.insert_cell_below('code');\n",
       "        code.set_text(atob(\"IyBUZW1wCmluc2VydCgnJycKc2hld2hhcnQxOTM5YSA9IERCKFdvcmtVbnJlbGF0ZWQoCiAgICAxOTM5LCAiU3RhdGlzdGljYWwgbWV0aG9kIGZyb20gdGhlIHZpZXdwb2ludCBvZiBxdWFsaXR5IGNvbnRyb2wuIiwKICAgIGRpc3BsYXk9InNoZXdoYXJ0IiwKICAgIGF1dGhvcnM9IldBIFNoZXdoYXJ0IiwKICAgIHBsYWNlPUZBS0UsCiAgICBwbGFjZXg9IlRoZSBHcmFkdWF0ZSBTY2hvb2wgb2YgdGhlIERlcGFydG1lbnQgb2YgQWdyaWN1bHR1cmUsIFdhc2hpbmd0b24sIERDLiBSZXByaW50ZWQgYnkgRG92ZXIgUHVibGljYXRpb25zIGluIHRoZSBEb3ZlciBCb29rcyBvbiBNYXRoZW1hdGljcyBzZXJpZXMgaW4gMTk4NiIsCikpCgpEQihDaXRhdGlvbigKICAgIHRyZW5kb3dpY3oyMDE0YSwgc2hld2hhcnQxOTM5YSwgcmVmPSJbNjhdIiwKICAgIGNvbnRleHRzPVsKCiAgICBdLAopKQoKJycnLCBjaXRhdGlvbnM9J3RyZW5kb3dpY3oyMDE0YScpOw==\"));\n",
       "    "
      ],
      "text/plain": [
       "<IPython.core.display.Javascript object>"
      ]
     },
     "metadata": {},
     "output_type": "display_data"
    },
    {
     "data": {
      "application/javascript": [
       "$('span:contains(\"# Temp\")').closest('.cell').remove();"
      ],
      "text/plain": [
       "<IPython.core.display.Javascript object>"
      ]
     },
     "metadata": {},
     "output_type": "display_data"
    },
    {
     "data": {
      "application/javascript": [
       "\n",
       "        $('span:contains(\"# Temp\")').closest('.cell').remove();\n",
       "        var code = IPython.notebook.insert_cell_below('code');\n",
       "        code.set_text(atob(\"IyBUZW1wCmluc2VydCgnJycKc2hld2hhcnQxOTM5YSA9IERCKFdvcmtVbnJlbGF0ZWQoCiAgICAxOTM5LCAiU3RhdGlzdGljYWwgbWV0aG9kIGZyb20gdGhlIHZpZXdwb2ludCBvZiBxdWFsaXR5IGNvbnRyb2wuIiwKICAgIGRpc3BsYXk9InNoZXdoYXJ0IiwKICAgIGF1dGhvcnM9IldBIFNoZXdoYXJ0IiwKICAgIHBsYWNlPUZBS0UsCiAgICBwbGFjZXg9IlRoZSBHcmFkdWF0ZSBTY2hvb2wgb2YgdGhlIERlcGFydG1lbnQgb2YgQWdyaWN1bHR1cmUsIFdhc2hpbmd0b24sIERDLiBSZXByaW50ZWQgYnkgRG92ZXIgUHVibGljYXRpb25zIGluIHRoZSBEb3ZlciBCb29rcyBvbiBNYXRoZW1hdGljcyBzZXJpZXMgaW4gMTk4NiIsCikpCgpEQihDaXRhdGlvbigKICAgIHRyZW5kb3dpY3oyMDE0YSwgc2hld2hhcnQxOTM5YSwgcmVmPSJbNjhdIiwKICAgIGNvbnRleHRzPVsKCiAgICBdLAopKQoKJycnLCBjaXRhdGlvbnM9J3RyZW5kb3dpY3oyMDE0YScpOw==\"));\n",
       "    "
      ],
      "text/plain": [
       "<IPython.core.display.Javascript object>"
      ]
     },
     "metadata": {},
     "output_type": "display_data"
    },
    {
     "data": {
      "application/javascript": [
       "$('span:contains(\"# Temp\")').closest('.cell').remove();"
      ],
      "text/plain": [
       "<IPython.core.display.Javascript object>"
      ]
     },
     "metadata": {},
     "output_type": "display_data"
    },
    {
     "data": {
      "application/javascript": [
       "\n",
       "        $('span:contains(\"# Temp\")').closest('.cell').remove();\n",
       "        var code = IPython.notebook.insert_cell_below('code');\n",
       "        code.set_text(atob(\"IyBUZW1wCmluc2VydCgnJycKREIoQ2l0YXRpb24oCiAgICB0cmVuZG93aWN6MjAxNGEsIHRyZW5kb3dpY3oyMDExYSwgcmVmPSJbNjldIiwKICAgIGNvbnRleHRzPVsKCiAgICBdLAopKQoKJycnLCBjaXRhdGlvbnM9J3RyZW5kb3dpY3oyMDE0YScpOwpzZXRfYXR0cmlidXRlKCd0cmVuZG93aWN6MjAxMWEnLCAnb3RoZXIxJywgJ3BwIDE0MpYxNTAnKTs=\"));\n",
       "    "
      ],
      "text/plain": [
       "<IPython.core.display.Javascript object>"
      ]
     },
     "metadata": {},
     "output_type": "display_data"
    },
    {
     "data": {
      "application/javascript": [
       "$('span:contains(\"# Temp\")').closest('.cell').remove();"
      ],
      "text/plain": [
       "<IPython.core.display.Javascript object>"
      ]
     },
     "metadata": {},
     "output_type": "display_data"
    },
    {
     "data": {
      "application/javascript": [
       "\n",
       "        $('span:contains(\"# Temp\")').closest('.cell').remove();\n",
       "        var code = IPython.notebook.insert_cell_below('code');\n",
       "        code.set_text(atob(\"IyBUZW1wCmluc2VydCgnJycKREIoQ2l0YXRpb24oCiAgICB0cmVuZG93aWN6MjAxNGEsIHRyZW5kb3dpY3oyMDExYSwgcmVmPSJbNjldIiwKICAgIGNvbnRleHRzPVsKCiAgICBdLAopKQoKJycnLCBjaXRhdGlvbnM9J3RyZW5kb3dpY3oyMDE0YScpOwpzZXRfYXR0cmlidXRlKCd0cmVuZG93aWN6MjAxMWEnLCAnb3RoZXIxJywgJ3BwIDE0MpYxNTAnKTs=\"));\n",
       "    "
      ],
      "text/plain": [
       "<IPython.core.display.Javascript object>"
      ]
     },
     "metadata": {},
     "output_type": "display_data"
    },
    {
     "data": {
      "application/javascript": [
       "$('span:contains(\"# Temp\")').closest('.cell').remove();"
      ],
      "text/plain": [
       "<IPython.core.display.Javascript object>"
      ]
     },
     "metadata": {},
     "output_type": "display_data"
    },
    {
     "data": {
      "application/javascript": [
       "\n",
       "        $('span:contains(\"# Temp\")').closest('.cell').remove();\n",
       "        var code = IPython.notebook.insert_cell_below('code');\n",
       "        code.set_text(atob(\"IyBUZW1wCmluc2VydCgnJycKc29saW5nZW4xOTk5YiA9IERCKFdvcmtVbnJlbGF0ZWQoCiAgICAxOTk5LCAiR29hbC9xdWVzdGlvbi9tZXRyaWMgbWV0aG9kLiIsCiAgICBkaXNwbGF5PSJzb2xpbmdlbiBiIiwKICAgIGF1dGhvcnM9IlIgdmFuIFNvbGluZ2VuLCBFIEJlcmdob3V0IiwKICAgIHBsYWNlPUZBS0UsCiAgICBwbGFjZXg9Ik1jR3Jhdy1IaWxsLCBOZXcgWW9yayIsCikpCgpEQihDaXRhdGlvbigKICAgIHRyZW5kb3dpY3oyMDE0YSwgc29saW5nZW4xOTk5YiwgcmVmPSJbNzBdIiwKICAgIGNvbnRleHRzPVsKCiAgICBdLAopKQoKJycnLCBjaXRhdGlvbnM9J3RyZW5kb3dpY3oyMDE0YScpOw==\"));\n",
       "    "
      ],
      "text/plain": [
       "<IPython.core.display.Javascript object>"
      ]
     },
     "metadata": {},
     "output_type": "display_data"
    },
    {
     "data": {
      "application/javascript": [
       "$('span:contains(\"# Temp\")').closest('.cell').remove();"
      ],
      "text/plain": [
       "<IPython.core.display.Javascript object>"
      ]
     },
     "metadata": {},
     "output_type": "display_data"
    },
    {
     "data": {
      "application/javascript": [
       "\n",
       "        $('span:contains(\"# Temp\")').closest('.cell').remove();\n",
       "        var code = IPython.notebook.insert_cell_below('code');\n",
       "        code.set_text(atob(\"IyBUZW1wCmluc2VydCgnJycKc29saW5nZW4xOTk5YiA9IERCKFdvcmtVbnJlbGF0ZWQoCiAgICAxOTk5LCAiR29hbC9xdWVzdGlvbi9tZXRyaWMgbWV0aG9kLiIsCiAgICBkaXNwbGF5PSJzb2xpbmdlbiBiIiwKICAgIGF1dGhvcnM9IlIgdmFuIFNvbGluZ2VuLCBFIEJlcmdob3V0IiwKICAgIHBsYWNlPUZBS0UsCiAgICBwbGFjZXg9Ik1jR3Jhdy1IaWxsLCBOZXcgWW9yayIsCikpCgpEQihDaXRhdGlvbigKICAgIHRyZW5kb3dpY3oyMDE0YSwgc29saW5nZW4xOTk5YiwgcmVmPSJbNzBdIiwKICAgIGNvbnRleHRzPVsKCiAgICBdLAopKQoKJycnLCBjaXRhdGlvbnM9J3RyZW5kb3dpY3oyMDE0YScpOw==\"));\n",
       "    "
      ],
      "text/plain": [
       "<IPython.core.display.Javascript object>"
      ]
     },
     "metadata": {},
     "output_type": "display_data"
    },
    {
     "data": {
      "application/javascript": [
       "$('span:contains(\"# Temp\")').closest('.cell').remove();"
      ],
      "text/plain": [
       "<IPython.core.display.Javascript object>"
      ]
     },
     "metadata": {},
     "output_type": "display_data"
    }
   ],
   "source": [
    "import importlib\n",
    "import custom_snowballing\n",
    "importlib.reload(custom_snowballing)\n",
    "from custom_snowballing import UnrelatedBackward\n",
    "UnrelatedBackward(\"trendowicz2014a\", articles=article_list)"
   ]
  },
  {
   "cell_type": "code",
   "execution_count": null,
   "metadata": {
    "collapsed": true
   },
   "outputs": [],
   "source": []
  }
 ],
 "metadata": {
  "kernelspec": {
   "display_name": "Python 3",
   "language": "python",
   "name": "python3"
  },
  "language_info": {
   "codemirror_mode": {
    "name": "ipython",
    "version": 3
   },
   "file_extension": ".py",
   "mimetype": "text/x-python",
   "name": "python",
   "nbconvert_exporter": "python",
   "pygments_lexer": "ipython3",
   "version": "3.6.0"
  },
  "toc": {
   "nav_menu": {
    "height": "12px",
    "width": "252px"
   },
   "number_sections": true,
   "sideBar": true,
   "skip_h1_title": false,
   "toc_cell": false,
   "toc_position": {},
   "toc_section_display": "block",
   "toc_window_display": false
  }
 },
 "nbformat": 4,
 "nbformat_minor": 2
}
