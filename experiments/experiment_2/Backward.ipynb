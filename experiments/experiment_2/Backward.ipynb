{
 "cells": [
  {
   "cell_type": "code",
   "execution_count": 86,
   "metadata": {
    "collapsed": true
   },
   "outputs": [],
   "source": [
    "import database\n",
    "from snowballing.operations import load_work, reload, work_by_varname\n",
    "from snowballing.snowballing import Converter\n",
    "from snowballing.dbmanager import insert, set_attribute"
   ]
  },
  {
   "cell_type": "code",
   "execution_count": 87,
   "metadata": {
    "scrolled": false
   },
   "outputs": [
    {
     "data": {
      "application/vnd.jupyter.widget-view+json": {
       "model_id": "7d5e38bc03a043c28a419310e6f47088",
       "version_major": 2,
       "version_minor": 0
      },
      "text/html": [
       "<p>Failed to display Jupyter Widget of type <code>VBox</code>.</p>\n",
       "<p>\n",
       "  If you're reading this message in Jupyter Notebook or JupyterLab, it may mean\n",
       "  that the widgets JavaScript is still loading. If this message persists, it\n",
       "  likely means that the widgets JavaScript library is either not installed or\n",
       "  not enabled. See the <a href=\"https://ipywidgets.readthedocs.io/en/stable/user_install.html\">Jupyter\n",
       "  Widgets Documentation</a> for setup instructions.\n",
       "</p>\n",
       "<p>\n",
       "  If you're reading this message in another notebook frontend (for example, a static\n",
       "  rendering on GitHub or <a href=\"https://nbviewer.jupyter.org/\">NBViewer</a>),\n",
       "  it may mean that your frontend doesn't currently support widgets.\n",
       "</p>\n"
      ],
      "text/plain": [
       "VBox(children=(HBox(children=(Dropdown(index=1, options={'BibTeX': 'bibtex', 'Text': 'text', '[N] author name place other year': 'citation', 'Quoted': 'quoted'}, value='text'), Button(description='Set article_list variable', disabled=True, style=ButtonStyle()), Label(value=''))), HBox(children=(Textarea(value='', layout=Layout(height='500px', width='50%')), Textarea(value='', layout=Layout(height='500px', width='50%'))))))"
      ]
     },
     "metadata": {},
     "output_type": "display_data"
    }
   ],
   "source": [
    "Converter().browser()"
   ]
  },
  {
   "cell_type": "code",
   "execution_count": null,
   "metadata": {
    "collapsed": true
   },
   "outputs": [],
   "source": []
  },
  {
   "cell_type": "code",
   "execution_count": null,
   "metadata": {
    "collapsed": true
   },
   "outputs": [],
   "source": [
    "Converter().browser()"
   ]
  },
  {
   "cell_type": "code",
   "execution_count": 3,
   "metadata": {},
   "outputs": [
    {
     "data": {
      "text/plain": [
       "81"
      ]
     },
     "execution_count": 3,
     "metadata": {},
     "output_type": "execute_result"
    }
   ],
   "source": [
    "len(article_list)"
   ]
  },
  {
   "cell_type": "code",
   "execution_count": null,
   "metadata": {
    "collapsed": true
   },
   "outputs": [],
   "source": [
    "#from database.work.y2015 import li2015a"
   ]
  },
  {
   "cell_type": "code",
   "execution_count": null,
   "metadata": {
    "collapsed": true
   },
   "outputs": [],
   "source": [
    "#int(getattr(li2015a, 'scopus', 0))"
   ]
  },
  {
   "cell_type": "code",
   "execution_count": null,
   "metadata": {
    "collapsed": true
   },
   "outputs": [],
   "source": [
    "#print(article_list)"
   ]
  },
  {
   "cell_type": "code",
   "execution_count": null,
   "metadata": {
    "collapsed": true
   },
   "outputs": [],
   "source": []
  },
  {
   "cell_type": "code",
   "execution_count": null,
   "metadata": {
    "collapsed": true
   },
   "outputs": [],
   "source": []
  },
  {
   "cell_type": "code",
   "execution_count": null,
   "metadata": {
    "collapsed": true
   },
   "outputs": [],
   "source": []
  },
  {
   "cell_type": "code",
   "execution_count": null,
   "metadata": {
    "collapsed": true
   },
   "outputs": [],
   "source": []
  },
  {
   "cell_type": "code",
   "execution_count": null,
   "metadata": {
    "collapsed": true
   },
   "outputs": [],
   "source": []
  },
  {
   "cell_type": "code",
   "execution_count": 4,
   "metadata": {},
   "outputs": [
    {
     "data": {
      "application/vnd.jupyter.widget-view+json": {
       "model_id": "a52cad0ae3cd4b0f9ee0a481d098ed20",
       "version_major": 2,
       "version_minor": 0
      },
      "text/html": [
       "<p>Failed to display Jupyter Widget of type <code>VBox</code>.</p>\n",
       "<p>\n",
       "  If you're reading this message in Jupyter Notebook or JupyterLab, it may mean\n",
       "  that the widgets JavaScript is still loading. If this message persists, it\n",
       "  likely means that the widgets JavaScript library is either not installed or\n",
       "  not enabled. See the <a href=\"https://ipywidgets.readthedocs.io/en/stable/user_install.html\">Jupyter\n",
       "  Widgets Documentation</a> for setup instructions.\n",
       "</p>\n",
       "<p>\n",
       "  If you're reading this message in another notebook frontend (for example, a static\n",
       "  rendering on GitHub or <a href=\"https://nbviewer.jupyter.org/\">NBViewer</a>),\n",
       "  it may mean that your frontend doesn't currently support widgets.\n",
       "</p>\n"
      ],
      "text/plain": [
       "VBox(children=(HBox(children=(Button(description='Previous Article', disabled=True, icon='caret-left', style=ButtonStyle()), Button(description='Reload Article', icon='refresh', style=ButtonStyle()), Button(description='Next Article', icon='caret-right', style=ButtonStyle()))), HBox(children=(Button(description='Unrelated: Scripts', style=ButtonStyle()), Button(description='Unrelated: Provenance', style=ButtonStyle()), Button(description='Both', style=ButtonStyle()), Button(description='Ok', style=ButtonStyle()))), HBox(children=(Dropdown(description='Type', index=3, options=('Work', 'WorkSnowball', 'WorkOk', 'WorkUnrelated', 'WorkNoFile', 'WorkLang', 'Site', 'Email'), value='WorkUnrelated'), ToggleButton(value=False, description='File'))), HBox(children=(Text(value='', description='Due'), Text(value='', description='Place'))), HBox(children=(Text(value='', description='Year'), Text(value='', description='Prefix Var'))), HBox(children=(Text(value='', description='PDFPage'), Text(value='', description='Related'))), HBox(children=(Text(value='', description='Display'), Text(value='', description='Summary'))), HBox(children=(Text(value='', description='Star'), Text(value='', description='Link'))), HBox(children=(Button(description='Reload Article', icon='refresh', style=ButtonStyle()), IntSlider(value=0, max=80), Label(value='1/81'))), Output()))"
      ]
     },
     "metadata": {},
     "output_type": "display_data"
    },
    {
     "data": {
      "application/javascript": [
       "$('span:contains(\"# Temp\")').closest('.cell').remove();"
      ],
      "text/plain": [
       "<IPython.core.display.Javascript object>"
      ]
     },
     "metadata": {},
     "output_type": "display_data"
    },
    {
     "data": {
      "application/javascript": [
       "\n",
       "        $('span:contains(\"# Temp\")').closest('.cell').remove();\n",
       "        var code = IPython.notebook.insert_cell_below('code');\n",
       "        code.set_text(decodeURIComponent(window.atob(\"JTIzJTIwVGVtcCUwQWluc2VydCUyOCUyNyUyNyUyNyUwQURCJTI4Q2l0YXRpb24lMjglMEElMjAlMjAlMjAlMjB3YWFyZGVuYnVyZzIwMTNhJTJDJTIwYWJyYWhhbXNzb24yMDAzYSUyQyUyMHJlZiUzRCUyMiUyMiUyQyUwQSUyMCUyMCUyMCUyMGNvbnRleHRzJTNEJTVCJTBBJTBBJTIwJTIwJTIwJTIwJTVEJTJDJTBBJTI5JTI5JTBBJTBBJTI3JTI3JTI3JTJDJTIwY2l0YXRpb25zJTNEJTI3d2FhcmRlbmJ1cmcyMDEzYSUyNyUyOSUzQg==\")));\n",
       "    "
      ],
      "text/plain": [
       "<IPython.core.display.Javascript object>"
      ]
     },
     "metadata": {},
     "output_type": "display_data"
    },
    {
     "data": {
      "application/javascript": [
       "$('span:contains(\"# Temp\")').closest('.cell').remove();"
      ],
      "text/plain": [
       "<IPython.core.display.Javascript object>"
      ]
     },
     "metadata": {},
     "output_type": "display_data"
    },
    {
     "data": {
      "application/javascript": [
       "\n",
       "        $('span:contains(\"# Temp\")').closest('.cell').remove();\n",
       "        var code = IPython.notebook.insert_cell_below('code');\n",
       "        code.set_text(decodeURIComponent(window.atob(\"JTIzJTIwVGVtcCUwQWluc2VydCUyOCUyNyUyNyUyNyUwQWFkb2xwaDIwMTFhJTIwJTNEJTIwREIlMjhXb3JrVW5yZWxhdGVkJTI4JTBBJTIwJTIwJTIwJTIwMjAxMSUyQyUyMCUyMlVzaW5nJTIwZ3JvdW5kZWQlMjB0aGVvcnklMjB0byUyMHN0dWR5JTIwdGhlJTIwZXhwZXJpZW5jZSUyMG9mJTIwc29mdHdhcmUlMjBkZXZlbG9wbWVudCUyMiUyQyUwQSUyMCUyMCUyMCUyMGRpc3BsYXklM0QlMjJhZG9scGglMjIlMkMlMEElMjAlMjAlMjAlMjBhdXRob3JzJTNEJTIyQWRvbHBoJTJDJTIwUy4lMjBhbmQlMjBIYWxsJTJDJTIwVy4lMjBhbmQlMjBLcnVjaHRlbiUyQyUyMFAuJTIyJTJDJTBBJTIwJTIwJTIwJTIwcGxhY2UlM0RFU0UlMkMlMEElMjAlMjAlMjAlMjBwcCUzRCUyMjQ4Ny01MTMlMjIlMkMlMEElMjAlMjAlMjAlMjBlbnRyeXR5cGUlM0QlMjJhcnRpY2xlJTIyJTJDJTBBJTIwJTIwJTIwJTIwdm9sdW1lJTNEJTIyMTYlMjIlMkMlMEElMjAlMjAlMjAlMjBudW1iZXIlM0QlMjI0JTIyJTJDJTBBJTIwJTIwJTIwJTIwZG9pJTNEJTIyMTAuMTAwNy9zMTA2NjQtMDEwLTkxNTItNiUyMiUyQyUwQSUyMCUyMCUyMCUyMG5vdGUlM0QlMjJjaXRlZCUyMEJ5JTIwODElMjIlMkMlMEElMjAlMjAlMjAlMjBJRCUzRCUyMkFkb2xwaDIwMTE0ODclMjIlMkMlMEElMjAlMjAlMjAlMjBwbGFjZXglM0QlMjJFbXBpcmljYWwlMjBTb2Z0d2FyZSUyMEVuZ2luZWVyaW5nJTIyJTJDJTBBJTI5JTI5JTBBJTBBREIlMjhDaXRhdGlvbiUyOCUwQSUyMCUyMCUyMCUyMHdhYXJkZW5idXJnMjAxM2ElMkMlMjBhZG9scGgyMDExYSUyQyUyMHJlZiUzRCUyMiUyMiUyQyUwQSUyMCUyMCUyMCUyMGNvbnRleHRzJTNEJTVCJTBBJTBBJTIwJTIwJTIwJTIwJTVEJTJDJTBBJTI5JTI5JTBBJTBBJTI3JTI3JTI3JTJDJTIwY2l0YXRpb25zJTNEJTI3d2FhcmRlbmJ1cmcyMDEzYSUyNyUyOSUzQg==\")));\n",
       "    "
      ],
      "text/plain": [
       "<IPython.core.display.Javascript object>"
      ]
     },
     "metadata": {},
     "output_type": "display_data"
    },
    {
     "data": {
      "application/javascript": [
       "$('span:contains(\"# Temp\")').closest('.cell').remove();"
      ],
      "text/plain": [
       "<IPython.core.display.Javascript object>"
      ]
     },
     "metadata": {},
     "output_type": "display_data"
    },
    {
     "data": {
      "application/javascript": [
       "\n",
       "        $('span:contains(\"# Temp\")').closest('.cell').remove();\n",
       "        var code = IPython.notebook.insert_cell_below('code');\n",
       "        code.set_text(decodeURIComponent(window.atob(\"JTIzJTIwVGVtcCUwQWluc2VydCUyOCUyNyUyNyUyNyUwQWFkb2xwaDIwMTFhJTIwJTNEJTIwREIlMjhXb3JrVW5yZWxhdGVkJTI4JTBBJTIwJTIwJTIwJTIwMjAxMSUyQyUyMCUyMlVzaW5nJTIwZ3JvdW5kZWQlMjB0aGVvcnklMjB0byUyMHN0dWR5JTIwdGhlJTIwZXhwZXJpZW5jZSUyMG9mJTIwc29mdHdhcmUlMjBkZXZlbG9wbWVudCUyMiUyQyUwQSUyMCUyMCUyMCUyMGRpc3BsYXklM0QlMjJhZG9scGglMjIlMkMlMEElMjAlMjAlMjAlMjBhdXRob3JzJTNEJTIyQWRvbHBoJTJDJTIwUy4lMjBhbmQlMjBIYWxsJTJDJTIwVy4lMjBhbmQlMjBLcnVjaHRlbiUyQyUyMFAuJTIyJTJDJTBBJTIwJTIwJTIwJTIwcGxhY2UlM0RFU0UlMkMlMEElMjAlMjAlMjAlMjBwcCUzRCUyMjQ4Ny01MTMlMjIlMkMlMEElMjAlMjAlMjAlMjBlbnRyeXR5cGUlM0QlMjJhcnRpY2xlJTIyJTJDJTBBJTIwJTIwJTIwJTIwdm9sdW1lJTNEJTIyMTYlMjIlMkMlMEElMjAlMjAlMjAlMjBudW1iZXIlM0QlMjI0JTIyJTJDJTBBJTIwJTIwJTIwJTIwZG9pJTNEJTIyMTAuMTAwNy9zMTA2NjQtMDEwLTkxNTItNiUyMiUyQyUwQSUyMCUyMCUyMCUyMG5vdGUlM0QlMjJjaXRlZCUyMEJ5JTIwODElMjIlMkMlMEElMjAlMjAlMjAlMjBJRCUzRCUyMkFkb2xwaDIwMTE0ODclMjIlMkMlMEElMjAlMjAlMjAlMjBwbGFjZXglM0QlMjJFbXBpcmljYWwlMjBTb2Z0d2FyZSUyMEVuZ2luZWVyaW5nJTIyJTJDJTBBJTI5JTI5JTBBJTBBREIlMjhDaXRhdGlvbiUyOCUwQSUyMCUyMCUyMCUyMHdhYXJkZW5idXJnMjAxM2ElMkMlMjBhZG9scGgyMDExYSUyQyUyMHJlZiUzRCUyMiUyMiUyQyUwQSUyMCUyMCUyMCUyMGNvbnRleHRzJTNEJTVCJTBBJTBBJTIwJTIwJTIwJTIwJTVEJTJDJTBBJTI5JTI5JTBBJTBBJTI3JTI3JTI3JTJDJTIwY2l0YXRpb25zJTNEJTI3d2FhcmRlbmJ1cmcyMDEzYSUyNyUyOSUzQg==\")));\n",
       "    "
      ],
      "text/plain": [
       "<IPython.core.display.Javascript object>"
      ]
     },
     "metadata": {},
     "output_type": "display_data"
    },
    {
     "data": {
      "application/javascript": [
       "$('span:contains(\"# Temp\")').closest('.cell').remove();"
      ],
      "text/plain": [
       "<IPython.core.display.Javascript object>"
      ]
     },
     "metadata": {},
     "output_type": "display_data"
    },
    {
     "data": {
      "application/javascript": [
       "\n",
       "        $('span:contains(\"# Temp\")').closest('.cell').remove();\n",
       "        var code = IPython.notebook.insert_cell_below('code');\n",
       "        code.set_text(decodeURIComponent(window.atob(\"JTIzJTIwVGVtcCUwQWluc2VydCUyOCUyNyUyNyUyNyUwQWFkb2xwaDIwMTJhJTIwJTNEJTIwREIlMjhXb3JrVW5yZWxhdGVkJTI4JTBBJTIwJTIwJTIwJTIwMjAxMiUyQyUyMCUyMlJlY29uY2lsaW5nJTIwcGVyc3BlY3RpdmVzJTNBJTIwQSUyMGdyb3VuZGVkJTIwdGhlb3J5JTIwb2YlMjBob3clMjBwZW9wbGUlMjBtYW5hZ2UlMjB0aGUlMjBwcm9jZXNzJTIwb2YlMjBzb2Z0d2FyZSUyMGRldmVsb3BtZW50JTIyJTJDJTBBJTIwJTIwJTIwJTIwZGlzcGxheSUzRCUyMmFkb2xwaCUyMiUyQyUwQSUyMCUyMCUyMCUyMGF1dGhvcnMlM0QlMjJBZG9scGglMkMlMjBTLiUyMGFuZCUyMEtydWNodGVuJTJDJTIwUC4lMjBhbmQlMjBIYWxsJTJDJTIwVy4lMjIlMkMlMEElMjAlMjAlMjAlMjBwbGFjZSUzREpTUyUyQyUwQSUyMCUyMCUyMCUyMHBwJTNEJTIyMTI2OS0xMjg2JTIyJTJDJTBBJTIwJTIwJTIwJTIwZW50cnl0eXBlJTNEJTIyYXJ0aWNsZSUyMiUyQyUwQSUyMCUyMCUyMCUyMHZvbHVtZSUzRCUyMjg1JTIyJTJDJTBBJTIwJTIwJTIwJTIwbnVtYmVyJTNEJTIyNiUyMiUyQyUwQSUyMCUyMCUyMCUyMGRvaSUzRCUyMjEwLjEwMTYvai5qc3MuMjAxMi4wMS4wNTklMjIlMkMlMEElMjAlMjAlMjAlMjBub3RlJTNEJTIyY2l0ZWQlMjBCeSUyMDQ3JTIyJTJDJTBBJTIwJTIwJTIwJTIwSUQlM0QlMjJBZG9scGgyMDEyMTI2OSUyMiUyQyUwQSUyMCUyMCUyMCUyMHBsYWNleCUzRCUyMkpvdXJuYWwlMjBvZiUyMFN5c3RlbXMlMjBhbmQlMjBTb2Z0d2FyZSUyMiUyQyUwQSUyOSUyOSUwQSUwQURCJTI4Q2l0YXRpb24lMjglMEElMjAlMjAlMjAlMjB3YWFyZGVuYnVyZzIwMTNhJTJDJTIwYWRvbHBoMjAxMmElMkMlMjByZWYlM0QlMjIlMjIlMkMlMEElMjAlMjAlMjAlMjBjb250ZXh0cyUzRCU1QiUwQSUwQSUyMCUyMCUyMCUyMCU1RCUyQyUwQSUyOSUyOSUwQSUwQSUyNyUyNyUyNyUyQyUyMGNpdGF0aW9ucyUzRCUyN3dhYXJkZW5idXJnMjAxM2ElMjclMjklM0I=\")));\n",
       "    "
      ],
      "text/plain": [
       "<IPython.core.display.Javascript object>"
      ]
     },
     "metadata": {},
     "output_type": "display_data"
    },
    {
     "data": {
      "application/javascript": [
       "$('span:contains(\"# Temp\")').closest('.cell').remove();"
      ],
      "text/plain": [
       "<IPython.core.display.Javascript object>"
      ]
     },
     "metadata": {},
     "output_type": "display_data"
    },
    {
     "data": {
      "application/javascript": [
       "\n",
       "        $('span:contains(\"# Temp\")').closest('.cell').remove();\n",
       "        var code = IPython.notebook.insert_cell_below('code');\n",
       "        code.set_text(decodeURIComponent(window.atob(\"JTIzJTIwVGVtcCUwQWluc2VydCUyOCUyNyUyNyUyNyUwQWFkb2xwaDIwMTJhJTIwJTNEJTIwREIlMjhXb3JrVW5yZWxhdGVkJTI4JTBBJTIwJTIwJTIwJTIwMjAxMiUyQyUyMCUyMlJlY29uY2lsaW5nJTIwcGVyc3BlY3RpdmVzJTNBJTIwQSUyMGdyb3VuZGVkJTIwdGhlb3J5JTIwb2YlMjBob3clMjBwZW9wbGUlMjBtYW5hZ2UlMjB0aGUlMjBwcm9jZXNzJTIwb2YlMjBzb2Z0d2FyZSUyMGRldmVsb3BtZW50JTIyJTJDJTBBJTIwJTIwJTIwJTIwZGlzcGxheSUzRCUyMmFkb2xwaCUyMiUyQyUwQSUyMCUyMCUyMCUyMGF1dGhvcnMlM0QlMjJBZG9scGglMkMlMjBTLiUyMGFuZCUyMEtydWNodGVuJTJDJTIwUC4lMjBhbmQlMjBIYWxsJTJDJTIwVy4lMjIlMkMlMEElMjAlMjAlMjAlMjBwbGFjZSUzREpTUyUyQyUwQSUyMCUyMCUyMCUyMHBwJTNEJTIyMTI2OS0xMjg2JTIyJTJDJTBBJTIwJTIwJTIwJTIwZW50cnl0eXBlJTNEJTIyYXJ0aWNsZSUyMiUyQyUwQSUyMCUyMCUyMCUyMHZvbHVtZSUzRCUyMjg1JTIyJTJDJTBBJTIwJTIwJTIwJTIwbnVtYmVyJTNEJTIyNiUyMiUyQyUwQSUyMCUyMCUyMCUyMGRvaSUzRCUyMjEwLjEwMTYvai5qc3MuMjAxMi4wMS4wNTklMjIlMkMlMEElMjAlMjAlMjAlMjBub3RlJTNEJTIyY2l0ZWQlMjBCeSUyMDQ3JTIyJTJDJTBBJTIwJTIwJTIwJTIwSUQlM0QlMjJBZG9scGgyMDEyMTI2OSUyMiUyQyUwQSUyMCUyMCUyMCUyMHBsYWNleCUzRCUyMkpvdXJuYWwlMjBvZiUyMFN5c3RlbXMlMjBhbmQlMjBTb2Z0d2FyZSUyMiUyQyUwQSUyOSUyOSUwQSUwQURCJTI4Q2l0YXRpb24lMjglMEElMjAlMjAlMjAlMjB3YWFyZGVuYnVyZzIwMTNhJTJDJTIwYWRvbHBoMjAxMmElMkMlMjByZWYlM0QlMjIlMjIlMkMlMEElMjAlMjAlMjAlMjBjb250ZXh0cyUzRCU1QiUwQSUwQSUyMCUyMCUyMCUyMCU1RCUyQyUwQSUyOSUyOSUwQSUwQSUyNyUyNyUyNyUyQyUyMGNpdGF0aW9ucyUzRCUyN3dhYXJkZW5idXJnMjAxM2ElMjclMjklM0I=\")));\n",
       "    "
      ],
      "text/plain": [
       "<IPython.core.display.Javascript object>"
      ]
     },
     "metadata": {},
     "output_type": "display_data"
    },
    {
     "data": {
      "application/javascript": [
       "$('span:contains(\"# Temp\")').closest('.cell').remove();"
      ],
      "text/plain": [
       "<IPython.core.display.Javascript object>"
      ]
     },
     "metadata": {},
     "output_type": "display_data"
    },
    {
     "data": {
      "application/javascript": [
       "\n",
       "        $('span:contains(\"# Temp\")').closest('.cell').remove();\n",
       "        var code = IPython.notebook.insert_cell_below('code');\n",
       "        code.set_text(decodeURIComponent(window.atob(\"JTIzJTIwVGVtcCUwQWluc2VydCUyOCUyNyUyNyUyNyUwQWFnYXJ3YWwyMDAyYSUyMCUzRCUyMERCJTI4V29ya1VucmVsYXRlZCUyOCUwQSUyMCUyMCUyMCUyMDIwMDIlMkMlMjAlMjJQcmluY2lwbGVzJTIwYW5kJTIwbW9kZWxzJTIwZm9yJTIwb3JnYW5pemluZyUyMHRoZSUyMElUJTIwZnVuY3Rpb24lMjIlMkMlMEElMjAlMjAlMjAlMjBkaXNwbGF5JTNEJTIyYWdhcndhbCUyMiUyQyUwQSUyMCUyMCUyMCUyMGF1dGhvcnMlM0QlMjJBZ2Fyd2FsJTJDJTIwUi4lMjBhbmQlMjBTYW1iYW11cnRoeSUyQyUyMFYuJTIyJTJDJTBBJTIwJTIwJTIwJTIwcGxhY2UlM0RGQUtFJTJDJTBBJTIwJTIwJTIwJTIwcHAlM0QlMjIxLTE2JTIyJTJDJTBBJTIwJTIwJTIwJTIwZW50cnl0eXBlJTNEJTIyYXJ0aWNsZSUyMiUyQyUwQSUyMCUyMCUyMCUyMHZvbHVtZSUzRCUyMjElMjIlMkMlMEElMjAlMjAlMjAlMjBudW1iZXIlM0QlMjIxJTIyJTJDJTBBJTIwJTIwJTIwJTIwbm90ZSUzRCUyMmNpdGVkJTIwQnklMjAxNzIlMjIlMkMlMEElMjAlMjAlMjAlMjBJRCUzRCUyMkFnYXJ3YWwyMDAyMSUyMiUyQyUwQSUyMCUyMCUyMCUyMHBsYWNleCUzRCUyMk1JUyUyMFF1YXJ0ZXJseSUyMEV4ZWN1dGl2ZSUyMiUyQyUwQSUyOSUyOSUwQSUwQURCJTI4Q2l0YXRpb24lMjglMEElMjAlMjAlMjAlMjB3YWFyZGVuYnVyZzIwMTNhJTJDJTIwYWdhcndhbDIwMDJhJTJDJTIwcmVmJTNEJTIyJTIyJTJDJTBBJTIwJTIwJTIwJTIwY29udGV4dHMlM0QlNUIlMEElMEElMjAlMjAlMjAlMjAlNUQlMkMlMEElMjklMjklMEElMEElMjclMjclMjclMkMlMjBjaXRhdGlvbnMlM0QlMjd3YWFyZGVuYnVyZzIwMTNhJTI3JTI5JTNC\")));\n",
       "    "
      ],
      "text/plain": [
       "<IPython.core.display.Javascript object>"
      ]
     },
     "metadata": {},
     "output_type": "display_data"
    },
    {
     "data": {
      "application/javascript": [
       "$('span:contains(\"# Temp\")').closest('.cell').remove();"
      ],
      "text/plain": [
       "<IPython.core.display.Javascript object>"
      ]
     },
     "metadata": {},
     "output_type": "display_data"
    },
    {
     "data": {
      "application/javascript": [
       "\n",
       "        $('span:contains(\"# Temp\")').closest('.cell').remove();\n",
       "        var code = IPython.notebook.insert_cell_below('code');\n",
       "        code.set_text(decodeURIComponent(window.atob(\"JTIzJTIwVGVtcCUwQWluc2VydCUyOCUyNyUyNyUyNyUwQWFnYXJ3YWwyMDAyYSUyMCUzRCUyMERCJTI4V29ya1VucmVsYXRlZCUyOCUwQSUyMCUyMCUyMCUyMDIwMDIlMkMlMjAlMjJQcmluY2lwbGVzJTIwYW5kJTIwbW9kZWxzJTIwZm9yJTIwb3JnYW5pemluZyUyMHRoZSUyMElUJTIwZnVuY3Rpb24lMjIlMkMlMEElMjAlMjAlMjAlMjBkaXNwbGF5JTNEJTIyYWdhcndhbCUyMiUyQyUwQSUyMCUyMCUyMCUyMGF1dGhvcnMlM0QlMjJBZ2Fyd2FsJTJDJTIwUi4lMjBhbmQlMjBTYW1iYW11cnRoeSUyQyUyMFYuJTIyJTJDJTBBJTIwJTIwJTIwJTIwcGxhY2UlM0RGQUtFJTJDJTBBJTIwJTIwJTIwJTIwcHAlM0QlMjIxLTE2JTIyJTJDJTBBJTIwJTIwJTIwJTIwZW50cnl0eXBlJTNEJTIyYXJ0aWNsZSUyMiUyQyUwQSUyMCUyMCUyMCUyMHZvbHVtZSUzRCUyMjElMjIlMkMlMEElMjAlMjAlMjAlMjBudW1iZXIlM0QlMjIxJTIyJTJDJTBBJTIwJTIwJTIwJTIwbm90ZSUzRCUyMmNpdGVkJTIwQnklMjAxNzIlMjIlMkMlMEElMjAlMjAlMjAlMjBJRCUzRCUyMkFnYXJ3YWwyMDAyMSUyMiUyQyUwQSUyMCUyMCUyMCUyMHBsYWNleCUzRCUyMk1JUyUyMFF1YXJ0ZXJseSUyMEV4ZWN1dGl2ZSUyMiUyQyUwQSUyOSUyOSUwQSUwQURCJTI4Q2l0YXRpb24lMjglMEElMjAlMjAlMjAlMjB3YWFyZGVuYnVyZzIwMTNhJTJDJTIwYWdhcndhbDIwMDJhJTJDJTIwcmVmJTNEJTIyJTIyJTJDJTBBJTIwJTIwJTIwJTIwY29udGV4dHMlM0QlNUIlMEElMEElMjAlMjAlMjAlMjAlNUQlMkMlMEElMjklMjklMEElMEElMjclMjclMjclMkMlMjBjaXRhdGlvbnMlM0QlMjd3YWFyZGVuYnVyZzIwMTNhJTI3JTI5JTNC\")));\n",
       "    "
      ],
      "text/plain": [
       "<IPython.core.display.Javascript object>"
      ]
     },
     "metadata": {},
     "output_type": "display_data"
    },
    {
     "data": {
      "application/javascript": [
       "$('span:contains(\"# Temp\")').closest('.cell').remove();"
      ],
      "text/plain": [
       "<IPython.core.display.Javascript object>"
      ]
     },
     "metadata": {},
     "output_type": "display_data"
    },
    {
     "data": {
      "application/javascript": [
       "\n",
       "        $('span:contains(\"# Temp\")').closest('.cell').remove();\n",
       "        var code = IPython.notebook.insert_cell_below('code');\n",
       "        code.set_text(decodeURIComponent(window.atob(\"JTIzJTIwVGVtcCUwQWluc2VydCUyOCUyNyUyNyUyNyUwQURCJTI4Q2l0YXRpb24lMjglMEElMjAlMjAlMjAlMjB3YWFyZGVuYnVyZzIwMTNhJTJDJTIwYWxsYW4yMDAzYSUyQyUyMHJlZiUzRCUyMiUyMiUyQyUwQSUyMCUyMCUyMCUyMGNvbnRleHRzJTNEJTVCJTBBJTBBJTIwJTIwJTIwJTIwJTVEJTJDJTBBJTI5JTI5JTBBJTBBJTI3JTI3JTI3JTJDJTIwY2l0YXRpb25zJTNEJTI3d2FhcmRlbmJ1cmcyMDEzYSUyNyUyOSUzQg==\")));\n",
       "    "
      ],
      "text/plain": [
       "<IPython.core.display.Javascript object>"
      ]
     },
     "metadata": {},
     "output_type": "display_data"
    },
    {
     "data": {
      "application/javascript": [
       "$('span:contains(\"# Temp\")').closest('.cell').remove();"
      ],
      "text/plain": [
       "<IPython.core.display.Javascript object>"
      ]
     },
     "metadata": {},
     "output_type": "display_data"
    },
    {
     "data": {
      "application/javascript": [
       "\n",
       "        $('span:contains(\"# Temp\")').closest('.cell').remove();\n",
       "        var code = IPython.notebook.insert_cell_below('code');\n",
       "        code.set_text(decodeURIComponent(window.atob(\"JTIzJTIwVGVtcCUwQWluc2VydCUyOCUyNyUyNyUyNyUwQURCJTI4Q2l0YXRpb24lMjglMEElMjAlMjAlMjAlMjB3YWFyZGVuYnVyZzIwMTNhJTJDJTIwYWxsYW4yMDAzYSUyQyUyMHJlZiUzRCUyMiUyMiUyQyUwQSUyMCUyMCUyMCUyMGNvbnRleHRzJTNEJTVCJTBBJTBBJTIwJTIwJTIwJTIwJTVEJTJDJTBBJTI5JTI5JTBBJTBBJTI3JTI3JTI3JTJDJTIwY2l0YXRpb25zJTNEJTI3d2FhcmRlbmJ1cmcyMDEzYSUyNyUyOSUzQg==\")));\n",
       "    "
      ],
      "text/plain": [
       "<IPython.core.display.Javascript object>"
      ]
     },
     "metadata": {},
     "output_type": "display_data"
    },
    {
     "data": {
      "application/javascript": [
       "$('span:contains(\"# Temp\")').closest('.cell').remove();"
      ],
      "text/plain": [
       "<IPython.core.display.Javascript object>"
      ]
     },
     "metadata": {},
     "output_type": "display_data"
    },
    {
     "data": {
      "application/javascript": [
       "\n",
       "        $('span:contains(\"# Temp\")').closest('.cell').remove();\n",
       "        var code = IPython.notebook.insert_cell_below('code');\n",
       "        code.set_text(decodeURIComponent(window.atob(\"JTIzJTIwVGVtcCUwQWluc2VydCUyOCUyNyUyNyUyNyUwQURCJTI4Q2l0YXRpb24lMjglMEElMjAlMjAlMjAlMjB3YWFyZGVuYnVyZzIwMTNhJTJDJTIwYXVndXN0aW5lMjAwNWElMkMlMjByZWYlM0QlMjIlMjIlMkMlMEElMjAlMjAlMjAlMjBjb250ZXh0cyUzRCU1QiUwQSUwQSUyMCUyMCUyMCUyMCU1RCUyQyUwQSUyOSUyOSUwQSUwQSUyNyUyNyUyNyUyQyUyMGNpdGF0aW9ucyUzRCUyN3dhYXJkZW5idXJnMjAxM2ElMjclMjklM0I=\")));\n",
       "    "
      ],
      "text/plain": [
       "<IPython.core.display.Javascript object>"
      ]
     },
     "metadata": {},
     "output_type": "display_data"
    },
    {
     "data": {
      "application/javascript": [
       "$('span:contains(\"# Temp\")').closest('.cell').remove();"
      ],
      "text/plain": [
       "<IPython.core.display.Javascript object>"
      ]
     },
     "metadata": {},
     "output_type": "display_data"
    },
    {
     "data": {
      "application/javascript": [
       "\n",
       "        $('span:contains(\"# Temp\")').closest('.cell').remove();\n",
       "        var code = IPython.notebook.insert_cell_below('code');\n",
       "        code.set_text(decodeURIComponent(window.atob(\"JTIzJTIwVGVtcCUwQWluc2VydCUyOCUyNyUyNyUyNyUwQURCJTI4Q2l0YXRpb24lMjglMEElMjAlMjAlMjAlMjB3YWFyZGVuYnVyZzIwMTNhJTJDJTIwYXVndXN0aW5lMjAwNWElMkMlMjByZWYlM0QlMjIlMjIlMkMlMEElMjAlMjAlMjAlMjBjb250ZXh0cyUzRCU1QiUwQSUwQSUyMCUyMCUyMCUyMCU1RCUyQyUwQSUyOSUyOSUwQSUwQSUyNyUyNyUyNyUyQyUyMGNpdGF0aW9ucyUzRCUyN3dhYXJkZW5idXJnMjAxM2ElMjclMjklM0I=\")));\n",
       "    "
      ],
      "text/plain": [
       "<IPython.core.display.Javascript object>"
      ]
     },
     "metadata": {},
     "output_type": "display_data"
    },
    {
     "data": {
      "application/javascript": [
       "$('span:contains(\"# Temp\")').closest('.cell').remove();"
      ],
      "text/plain": [
       "<IPython.core.display.Javascript object>"
      ]
     },
     "metadata": {},
     "output_type": "display_data"
    },
    {
     "data": {
      "application/javascript": [
       "\n",
       "        $('span:contains(\"# Temp\")').closest('.cell').remove();\n",
       "        var code = IPython.notebook.insert_cell_below('code');\n",
       "        code.set_text(decodeURIComponent(window.atob(\"JTIzJTIwVGVtcCUwQWluc2VydCUyOCUyNyUyNyUyNyUwQWJhc2tlcnZpbGxlMjAxMWElMjAlM0QlMjBEQiUyOFdvcmtVbnJlbGF0ZWQlMjglMEElMjAlMjAlMjAlMjAyMDExJTJDJTIwJTIyUG9zdC1hZ2lsaXR5JTNBJTIwV2hhdCUyMGZvbGxvd3MlMjBhJTIwZGVjYWRlJTIwb2YlMjBhZ2lsaXR5JTNGJTIyJTJDJTBBJTIwJTIwJTIwJTIwZGlzcGxheSUzRCUyMmJhc2tlcnZpbGxlJTIyJTJDJTBBJTIwJTIwJTIwJTIwYXV0aG9ycyUzRCUyMkJhc2tlcnZpbGxlJTJDJTIwUi4lMjBhbmQlMjBQcmllcy1IZWplJTJDJTIwSi4lMjBhbmQlMjBNYWRzZW4lMkMlMjBTLiUyMiUyQyUwQSUyMCUyMCUyMCUyMHBsYWNlJTNESVNUJTJDJTBBJTIwJTIwJTIwJTIwcHAlM0QlMjI1NDMtNTU1JTIyJTJDJTBBJTIwJTIwJTIwJTIwZW50cnl0eXBlJTNEJTIyYXJ0aWNsZSUyMiUyQyUwQSUyMCUyMCUyMCUyMHZvbHVtZSUzRCUyMjUzJTIyJTJDJTBBJTIwJTIwJTIwJTIwbnVtYmVyJTNEJTIyNSUyMiUyQyUwQSUyMCUyMCUyMCUyMGRvaSUzRCUyMjEwLjEwMTYvai5pbmZzb2YuMjAxMC4xMC4wMTAlMjIlMkMlMEElMjAlMjAlMjAlMjBub3RlJTNEJTIyY2l0ZWQlMjBCeSUyMDM4JTIyJTJDJTBBJTIwJTIwJTIwJTIwSUQlM0QlMjJCYXNrZXJ2aWxsZTIwMTE1NDMlMjIlMkMlMEElMjAlMjAlMjAlMjBwbGFjZXglM0QlMjJJbmZvcm1hdGlvbiUyMGFuZCUyMFNvZnR3YXJlJTIwVGVjaG5vbG9neSUyMiUyQyUwQSUyOSUyOSUwQSUwQURCJTI4Q2l0YXRpb24lMjglMEElMjAlMjAlMjAlMjB3YWFyZGVuYnVyZzIwMTNhJTJDJTIwYmFza2VydmlsbGUyMDExYSUyQyUyMHJlZiUzRCUyMiUyMiUyQyUwQSUyMCUyMCUyMCUyMGNvbnRleHRzJTNEJTVCJTBBJTBBJTIwJTIwJTIwJTIwJTVEJTJDJTBBJTI5JTI5JTBBJTBBJTI3JTI3JTI3JTJDJTIwY2l0YXRpb25zJTNEJTI3d2FhcmRlbmJ1cmcyMDEzYSUyNyUyOSUzQg==\")));\n",
       "    "
      ],
      "text/plain": [
       "<IPython.core.display.Javascript object>"
      ]
     },
     "metadata": {},
     "output_type": "display_data"
    },
    {
     "data": {
      "application/javascript": [
       "$('span:contains(\"# Temp\")').closest('.cell').remove();"
      ],
      "text/plain": [
       "<IPython.core.display.Javascript object>"
      ]
     },
     "metadata": {},
     "output_type": "display_data"
    },
    {
     "data": {
      "application/javascript": [
       "\n",
       "        $('span:contains(\"# Temp\")').closest('.cell').remove();\n",
       "        var code = IPython.notebook.insert_cell_below('code');\n",
       "        code.set_text(decodeURIComponent(window.atob(\"JTIzJTIwVGVtcCUwQWluc2VydCUyOCUyNyUyNyUyNyUwQWJhc2tlcnZpbGxlMjAxMWElMjAlM0QlMjBEQiUyOFdvcmtVbnJlbGF0ZWQlMjglMEElMjAlMjAlMjAlMjAyMDExJTJDJTIwJTIyUG9zdC1hZ2lsaXR5JTNBJTIwV2hhdCUyMGZvbGxvd3MlMjBhJTIwZGVjYWRlJTIwb2YlMjBhZ2lsaXR5JTNGJTIyJTJDJTBBJTIwJTIwJTIwJTIwZGlzcGxheSUzRCUyMmJhc2tlcnZpbGxlJTIyJTJDJTBBJTIwJTIwJTIwJTIwYXV0aG9ycyUzRCUyMkJhc2tlcnZpbGxlJTJDJTIwUi4lMjBhbmQlMjBQcmllcy1IZWplJTJDJTIwSi4lMjBhbmQlMjBNYWRzZW4lMkMlMjBTLiUyMiUyQyUwQSUyMCUyMCUyMCUyMHBsYWNlJTNESVNUJTJDJTBBJTIwJTIwJTIwJTIwcHAlM0QlMjI1NDMtNTU1JTIyJTJDJTBBJTIwJTIwJTIwJTIwZW50cnl0eXBlJTNEJTIyYXJ0aWNsZSUyMiUyQyUwQSUyMCUyMCUyMCUyMHZvbHVtZSUzRCUyMjUzJTIyJTJDJTBBJTIwJTIwJTIwJTIwbnVtYmVyJTNEJTIyNSUyMiUyQyUwQSUyMCUyMCUyMCUyMGRvaSUzRCUyMjEwLjEwMTYvai5pbmZzb2YuMjAxMC4xMC4wMTAlMjIlMkMlMEElMjAlMjAlMjAlMjBub3RlJTNEJTIyY2l0ZWQlMjBCeSUyMDM4JTIyJTJDJTBBJTIwJTIwJTIwJTIwSUQlM0QlMjJCYXNrZXJ2aWxsZTIwMTE1NDMlMjIlMkMlMEElMjAlMjAlMjAlMjBwbGFjZXglM0QlMjJJbmZvcm1hdGlvbiUyMGFuZCUyMFNvZnR3YXJlJTIwVGVjaG5vbG9neSUyMiUyQyUwQSUyOSUyOSUwQSUwQURCJTI4Q2l0YXRpb24lMjglMEElMjAlMjAlMjAlMjB3YWFyZGVuYnVyZzIwMTNhJTJDJTIwYmFza2VydmlsbGUyMDExYSUyQyUyMHJlZiUzRCUyMiUyMiUyQyUwQSUyMCUyMCUyMCUyMGNvbnRleHRzJTNEJTVCJTBBJTBBJTIwJTIwJTIwJTIwJTVEJTJDJTBBJTI5JTI5JTBBJTBBJTI3JTI3JTI3JTJDJTIwY2l0YXRpb25zJTNEJTI3d2FhcmRlbmJ1cmcyMDEzYSUyNyUyOSUzQg==\")));\n",
       "    "
      ],
      "text/plain": [
       "<IPython.core.display.Javascript object>"
      ]
     },
     "metadata": {},
     "output_type": "display_data"
    },
    {
     "data": {
      "application/javascript": [
       "$('span:contains(\"# Temp\")').closest('.cell').remove();"
      ],
      "text/plain": [
       "<IPython.core.display.Javascript object>"
      ]
     },
     "metadata": {},
     "output_type": "display_data"
    },
    {
     "data": {
      "application/javascript": [
       "\n",
       "        $('span:contains(\"# Temp\")').closest('.cell').remove();\n",
       "        var code = IPython.notebook.insert_cell_below('code');\n",
       "        code.set_text(decodeURIComponent(window.atob(\"JTIzJTIwVGVtcCUwQWluc2VydCUyOCUyNyUyNyUyNyUwQURCJTI4Q2l0YXRpb24lMjglMEElMjAlMjAlMjAlMjB3YWFyZGVuYnVyZzIwMTNhJTJDJTIwYmVjazIwMDFhJTJDJTIwcmVmJTNEJTIyJTIyJTJDJTBBJTIwJTIwJTIwJTIwY29udGV4dHMlM0QlNUIlMEElMEElMjAlMjAlMjAlMjAlNUQlMkMlMEElMjklMjklMEElMEElMjclMjclMjclMkMlMjBjaXRhdGlvbnMlM0QlMjd3YWFyZGVuYnVyZzIwMTNhJTI3JTI5JTNC\")));\n",
       "    "
      ],
      "text/plain": [
       "<IPython.core.display.Javascript object>"
      ]
     },
     "metadata": {},
     "output_type": "display_data"
    },
    {
     "data": {
      "application/javascript": [
       "$('span:contains(\"# Temp\")').closest('.cell').remove();"
      ],
      "text/plain": [
       "<IPython.core.display.Javascript object>"
      ]
     },
     "metadata": {},
     "output_type": "display_data"
    },
    {
     "data": {
      "application/javascript": [
       "\n",
       "        $('span:contains(\"# Temp\")').closest('.cell').remove();\n",
       "        var code = IPython.notebook.insert_cell_below('code');\n",
       "        code.set_text(decodeURIComponent(window.atob(\"JTIzJTIwVGVtcCUwQWluc2VydCUyOCUyNyUyNyUyNyUwQURCJTI4Q2l0YXRpb24lMjglMEElMjAlMjAlMjAlMjB3YWFyZGVuYnVyZzIwMTNhJTJDJTIwYmVjazIwMDFhJTJDJTIwcmVmJTNEJTIyJTIyJTJDJTBBJTIwJTIwJTIwJTIwY29udGV4dHMlM0QlNUIlMEElMEElMjAlMjAlMjAlMjAlNUQlMkMlMEElMjklMjklMEElMEElMjclMjclMjclMkMlMjBjaXRhdGlvbnMlM0QlMjd3YWFyZGVuYnVyZzIwMTNhJTI3JTI5JTNC\")));\n",
       "    "
      ],
      "text/plain": [
       "<IPython.core.display.Javascript object>"
      ]
     },
     "metadata": {},
     "output_type": "display_data"
    },
    {
     "data": {
      "application/javascript": [
       "$('span:contains(\"# Temp\")').closest('.cell').remove();"
      ],
      "text/plain": [
       "<IPython.core.display.Javascript object>"
      ]
     },
     "metadata": {},
     "output_type": "display_data"
    },
    {
     "data": {
      "application/javascript": [
       "\n",
       "        $('span:contains(\"# Temp\")').closest('.cell').remove();\n",
       "        var code = IPython.notebook.insert_cell_below('code');\n",
       "        code.set_text(decodeURIComponent(window.atob(\"JTIzJTIwVGVtcCUwQWluc2VydCUyOCUyNyUyNyUyNyUwQWJlbmVmaWVsZDIwMDhhJTIwJTNEJTIwREIlMjhXb3JrVW5yZWxhdGVkJTI4JTBBJTIwJTIwJTIwJTIwMjAwOCUyQyUyMCUyMlJvbGxpbmclMjBvdXQlMjBhZ2lsZSUyMGluJTIwYSUyMGxhcmdlJTIwZW50ZXJwcmlzZSUyMiUyQyUwQSUyMCUyMCUyMCUyMGRpc3BsYXklM0QlMjJiZW5lZmllbGQlMjIlMkMlMEElMjAlMjAlMjAlMjBhdXRob3JzJTNEJTIyQmVuZWZpZWxkJTJDJTIwRy4lMjIlMkMlMEElMjAlMjAlMjAlMjBwbGFjZSUzREZBS0UlMkMlMEElMjAlMjAlMjAlMjBwcCUzRCUyMjQ2MiUyMiUyQyUwQSUyMCUyMCUyMCUyMGVudHJ5dHlwZSUzRCUyMmFydGljbGUlMjIlMkMlMEElMjAlMjAlMjAlMjBub3RlJTNEJTIyY2l0ZWQlMjBCeSUyMDElMjIlMkMlMEElMjAlMjAlMjAlMjBJRCUzRCUyMkJlbmVmaWVsZDIwMDg0NjIlMjIlMkMlMEElMjAlMjAlMjAlMjBwbGFjZXglM0QlMjJQcm9jZWVkaW5ncyUyMG9mJTIwdGhlJTIwNDFzdCUyMGhhd2FpaSUyMGludGVybmF0aW9uYWwlMjBjb25mZXJlbmNlJTIwb24lMjBzeXN0ZW0lMjBzY2llbmNlcyUyMCUyOEhJQ1NTJTIwMjAwOCUyOSUyMElFRUVpJTIwQ29tcHV0ZXIlMjBTb2NpZXR5JTIyJTJDJTBBJTI5JTI5JTBBJTBBREIlMjhDaXRhdGlvbiUyOCUwQSUyMCUyMCUyMCUyMHdhYXJkZW5idXJnMjAxM2ElMkMlMjBiZW5lZmllbGQyMDA4YSUyQyUyMHJlZiUzRCUyMiUyMiUyQyUwQSUyMCUyMCUyMCUyMGNvbnRleHRzJTNEJTVCJTBBJTBBJTIwJTIwJTIwJTIwJTVEJTJDJTBBJTI5JTI5JTBBJTBBJTI3JTI3JTI3JTJDJTIwY2l0YXRpb25zJTNEJTI3d2FhcmRlbmJ1cmcyMDEzYSUyNyUyOSUzQg==\")));\n",
       "    "
      ],
      "text/plain": [
       "<IPython.core.display.Javascript object>"
      ]
     },
     "metadata": {},
     "output_type": "display_data"
    },
    {
     "data": {
      "application/javascript": [
       "$('span:contains(\"# Temp\")').closest('.cell').remove();"
      ],
      "text/plain": [
       "<IPython.core.display.Javascript object>"
      ]
     },
     "metadata": {},
     "output_type": "display_data"
    },
    {
     "data": {
      "application/javascript": [
       "\n",
       "        $('span:contains(\"# Temp\")').closest('.cell').remove();\n",
       "        var code = IPython.notebook.insert_cell_below('code');\n",
       "        code.set_text(decodeURIComponent(window.atob(\"JTIzJTIwVGVtcCUwQWluc2VydCUyOCUyNyUyNyUyNyUwQWJlbmVmaWVsZDIwMDhhJTIwJTNEJTIwREIlMjhXb3JrVW5yZWxhdGVkJTI4JTBBJTIwJTIwJTIwJTIwMjAwOCUyQyUyMCUyMlJvbGxpbmclMjBvdXQlMjBhZ2lsZSUyMGluJTIwYSUyMGxhcmdlJTIwZW50ZXJwcmlzZSUyMiUyQyUwQSUyMCUyMCUyMCUyMGRpc3BsYXklM0QlMjJiZW5lZmllbGQlMjIlMkMlMEElMjAlMjAlMjAlMjBhdXRob3JzJTNEJTIyQmVuZWZpZWxkJTJDJTIwRy4lMjIlMkMlMEElMjAlMjAlMjAlMjBwbGFjZSUzREZBS0UlMkMlMEElMjAlMjAlMjAlMjBwcCUzRCUyMjQ2MiUyMiUyQyUwQSUyMCUyMCUyMCUyMGVudHJ5dHlwZSUzRCUyMmFydGljbGUlMjIlMkMlMEElMjAlMjAlMjAlMjBub3RlJTNEJTIyY2l0ZWQlMjBCeSUyMDElMjIlMkMlMEElMjAlMjAlMjAlMjBJRCUzRCUyMkJlbmVmaWVsZDIwMDg0NjIlMjIlMkMlMEElMjAlMjAlMjAlMjBwbGFjZXglM0QlMjJQcm9jZWVkaW5ncyUyMG9mJTIwdGhlJTIwNDFzdCUyMGhhd2FpaSUyMGludGVybmF0aW9uYWwlMjBjb25mZXJlbmNlJTIwb24lMjBzeXN0ZW0lMjBzY2llbmNlcyUyMCUyOEhJQ1NTJTIwMjAwOCUyOSUyMElFRUVpJTIwQ29tcHV0ZXIlMjBTb2NpZXR5JTIyJTJDJTBBJTI5JTI5JTBBJTBBREIlMjhDaXRhdGlvbiUyOCUwQSUyMCUyMCUyMCUyMHdhYXJkZW5idXJnMjAxM2ElMkMlMjBiZW5lZmllbGQyMDA4YSUyQyUyMHJlZiUzRCUyMiUyMiUyQyUwQSUyMCUyMCUyMCUyMGNvbnRleHRzJTNEJTVCJTBBJTBBJTIwJTIwJTIwJTIwJTVEJTJDJTBBJTI5JTI5JTBBJTBBJTI3JTI3JTI3JTJDJTIwY2l0YXRpb25zJTNEJTI3d2FhcmRlbmJ1cmcyMDEzYSUyNyUyOSUzQg==\")));\n",
       "    "
      ],
      "text/plain": [
       "<IPython.core.display.Javascript object>"
      ]
     },
     "metadata": {},
     "output_type": "display_data"
    },
    {
     "data": {
      "application/javascript": [
       "$('span:contains(\"# Temp\")').closest('.cell').remove();"
      ],
      "text/plain": [
       "<IPython.core.display.Javascript object>"
      ]
     },
     "metadata": {},
     "output_type": "display_data"
    },
    {
     "data": {
      "application/javascript": [
       "\n",
       "        $('span:contains(\"# Temp\")').closest('.cell').remove();\n",
       "        var code = IPython.notebook.insert_cell_below('code');\n",
       "        code.set_text(decodeURIComponent(window.atob(\"JTIzJTIwVGVtcCUwQWluc2VydCUyOCUyNyUyNyUyNyUwQWJpcmtzMjAxM2ElMjAlM0QlMjBEQiUyOFdvcmtVbnJlbGF0ZWQlMjglMEElMjAlMjAlMjAlMjAyMDEzJTJDJTIwJTIyR3JvdW5kZWQlMjB0aGVvcnklMjBtZXRob2QlMjBpbiUyMGluZm9ybWF0aW9uJTIwc3lzdGVtcyUyMHJlc2VhcmNoJTNBJTIwSXRzJTIwbmF0dXJlJTJDJTIwZGl2ZXJzaXR5JTIwYW5kJTIwb3Bwb3J0dW5pdGllcyUyMiUyQyUwQSUyMCUyMCUyMCUyMGRpc3BsYXklM0QlMjJiaXJrcyUyMiUyQyUwQSUyMCUyMCUyMCUyMGF1dGhvcnMlM0QlMjJCaXJrcyUyQyUyMEQuRi4lMjBhbmQlMjBGZXJuYW5kZXolMkMlMjBXLiUyMGFuZCUyMExldmluYSUyQyUyME4uJTIwYW5kJTIwTmFzaXJpbiUyQyUyMFMuJTIyJTJDJTBBJTIwJTIwJTIwJTIwcGxhY2UlM0RGQUtFJTJDJTBBJTIwJTIwJTIwJTIwcHAlM0QlMjIxLTglMjIlMkMlMEElMjAlMjAlMjAlMjBlbnRyeXR5cGUlM0QlMjJhcnRpY2xlJTIyJTJDJTBBJTIwJTIwJTIwJTIwdm9sdW1lJTNEJTIyMjIlMjIlMkMlMEElMjAlMjAlMjAlMjBudW1iZXIlM0QlMjIxJTIyJTJDJTBBJTIwJTIwJTIwJTIwZG9pJTNEJTIyMTAuMTA1Ny9lamlzLjIwMTIuNDglMjIlMkMlMEElMjAlMjAlMjAlMjBub3RlJTNEJTIyY2l0ZWQlMjBCeSUyMDM4JTIyJTJDJTBBJTIwJTIwJTIwJTIwSUQlM0QlMjJCaXJrczIwMTMxJTIyJTJDJTBBJTIwJTIwJTIwJTIwcGxhY2V4JTNEJTIyRXVyb3BlYW4lMjBKb3VybmFsJTIwb2YlMjBJbmZvcm1hdGlvbiUyMFN5c3RlbXMlMjIlMkMlMEElMjklMjklMEElMEFEQiUyOENpdGF0aW9uJTI4JTBBJTIwJTIwJTIwJTIwd2FhcmRlbmJ1cmcyMDEzYSUyQyUyMGJpcmtzMjAxM2ElMkMlMjByZWYlM0QlMjIlMjIlMkMlMEElMjAlMjAlMjAlMjBjb250ZXh0cyUzRCU1QiUwQSUwQSUyMCUyMCUyMCUyMCU1RCUyQyUwQSUyOSUyOSUwQSUwQSUyNyUyNyUyNyUyQyUyMGNpdGF0aW9ucyUzRCUyN3dhYXJkZW5idXJnMjAxM2ElMjclMjklM0I=\")));\n",
       "    "
      ],
      "text/plain": [
       "<IPython.core.display.Javascript object>"
      ]
     },
     "metadata": {},
     "output_type": "display_data"
    },
    {
     "data": {
      "application/javascript": [
       "$('span:contains(\"# Temp\")').closest('.cell').remove();"
      ],
      "text/plain": [
       "<IPython.core.display.Javascript object>"
      ]
     },
     "metadata": {},
     "output_type": "display_data"
    },
    {
     "data": {
      "application/javascript": [
       "\n",
       "        $('span:contains(\"# Temp\")').closest('.cell').remove();\n",
       "        var code = IPython.notebook.insert_cell_below('code');\n",
       "        code.set_text(decodeURIComponent(window.atob(\"JTIzJTIwVGVtcCUwQWluc2VydCUyOCUyNyUyNyUyNyUwQWJpcmtzMjAxM2ElMjAlM0QlMjBEQiUyOFdvcmtVbnJlbGF0ZWQlMjglMEElMjAlMjAlMjAlMjAyMDEzJTJDJTIwJTIyR3JvdW5kZWQlMjB0aGVvcnklMjBtZXRob2QlMjBpbiUyMGluZm9ybWF0aW9uJTIwc3lzdGVtcyUyMHJlc2VhcmNoJTNBJTIwSXRzJTIwbmF0dXJlJTJDJTIwZGl2ZXJzaXR5JTIwYW5kJTIwb3Bwb3J0dW5pdGllcyUyMiUyQyUwQSUyMCUyMCUyMCUyMGRpc3BsYXklM0QlMjJiaXJrcyUyMiUyQyUwQSUyMCUyMCUyMCUyMGF1dGhvcnMlM0QlMjJCaXJrcyUyQyUyMEQuRi4lMjBhbmQlMjBGZXJuYW5kZXolMkMlMjBXLiUyMGFuZCUyMExldmluYSUyQyUyME4uJTIwYW5kJTIwTmFzaXJpbiUyQyUyMFMuJTIyJTJDJTBBJTIwJTIwJTIwJTIwcGxhY2UlM0RGQUtFJTJDJTBBJTIwJTIwJTIwJTIwcHAlM0QlMjIxLTglMjIlMkMlMEElMjAlMjAlMjAlMjBlbnRyeXR5cGUlM0QlMjJhcnRpY2xlJTIyJTJDJTBBJTIwJTIwJTIwJTIwdm9sdW1lJTNEJTIyMjIlMjIlMkMlMEElMjAlMjAlMjAlMjBudW1iZXIlM0QlMjIxJTIyJTJDJTBBJTIwJTIwJTIwJTIwZG9pJTNEJTIyMTAuMTA1Ny9lamlzLjIwMTIuNDglMjIlMkMlMEElMjAlMjAlMjAlMjBub3RlJTNEJTIyY2l0ZWQlMjBCeSUyMDM4JTIyJTJDJTBBJTIwJTIwJTIwJTIwSUQlM0QlMjJCaXJrczIwMTMxJTIyJTJDJTBBJTIwJTIwJTIwJTIwcGxhY2V4JTNEJTIyRXVyb3BlYW4lMjBKb3VybmFsJTIwb2YlMjBJbmZvcm1hdGlvbiUyMFN5c3RlbXMlMjIlMkMlMEElMjklMjklMEElMEFEQiUyOENpdGF0aW9uJTI4JTBBJTIwJTIwJTIwJTIwd2FhcmRlbmJ1cmcyMDEzYSUyQyUyMGJpcmtzMjAxM2ElMkMlMjByZWYlM0QlMjIlMjIlMkMlMEElMjAlMjAlMjAlMjBjb250ZXh0cyUzRCU1QiUwQSUwQSUyMCUyMCUyMCUyMCU1RCUyQyUwQSUyOSUyOSUwQSUwQSUyNyUyNyUyNyUyQyUyMGNpdGF0aW9ucyUzRCUyN3dhYXJkZW5idXJnMjAxM2ElMjclMjklM0I=\")));\n",
       "    "
      ],
      "text/plain": [
       "<IPython.core.display.Javascript object>"
      ]
     },
     "metadata": {},
     "output_type": "display_data"
    },
    {
     "data": {
      "application/javascript": [
       "$('span:contains(\"# Temp\")').closest('.cell').remove();"
      ],
      "text/plain": [
       "<IPython.core.display.Javascript object>"
      ]
     },
     "metadata": {},
     "output_type": "display_data"
    },
    {
     "data": {
      "application/javascript": [
       "\n",
       "        $('span:contains(\"# Temp\")').closest('.cell').remove();\n",
       "        var code = IPython.notebook.insert_cell_below('code');\n",
       "        code.set_text(decodeURIComponent(window.atob(\"JTIzJTIwVGVtcCUwQWluc2VydCUyOCUyNyUyNyUyNyUwQWJvZWhtMjAwMmElMjAlM0QlMjBEQiUyOFdvcmtVbnJlbGF0ZWQlMjglMEElMjAlMjAlMjAlMjAyMDAyJTJDJTIwJTIyR2V0JTIwcmVhZHklMjBmb3IlMjBhZ2lsZSUyMG1ldGhvZHMlMkMlMjB3aXRoJTIwY2FyZSUyMiUyQyUwQSUyMCUyMCUyMCUyMGRpc3BsYXklM0QlMjJib2VobSUyMiUyQyUwQSUyMCUyMCUyMCUyMGF1dGhvcnMlM0QlMjJCb2VobSUyQyUyMEIuJTIyJTJDJTBBJTIwJTIwJTIwJTIwcGxhY2UlM0RDJTJDJTBBJTIwJTIwJTIwJTIwcHAlM0QlMjI2NC02OSUyMiUyQyUwQSUyMCUyMCUyMCUyMGVudHJ5dHlwZSUzRCUyMmFydGljbGUlMjIlMkMlMEElMjAlMjAlMjAlMjB2b2x1bWUlM0QlMjIzNSUyMiUyQyUwQSUyMCUyMCUyMCUyMG51bWJlciUzRCUyMjElMjIlMkMlMEElMjAlMjAlMjAlMjBkb2klM0QlMjIxMC4xMTA5LzIuOTc2OTIwJTIyJTJDJTBBJTIwJTIwJTIwJTIwbm90ZSUzRCUyMmNpdGVkJTIwQnklMjA0MTAlMjIlMkMlMEElMjAlMjAlMjAlMjBJRCUzRCUyMkJvZWhtMjAwMjY0JTIyJTJDJTBBJTIwJTIwJTIwJTIwcGxhY2V4JTNEJTIyQ29tcHV0ZXIlMjIlMkMlMEElMjklMjklMEElMEFEQiUyOENpdGF0aW9uJTI4JTBBJTIwJTIwJTIwJTIwd2FhcmRlbmJ1cmcyMDEzYSUyQyUyMGJvZWhtMjAwMmElMkMlMjByZWYlM0QlMjIlMjIlMkMlMEElMjAlMjAlMjAlMjBjb250ZXh0cyUzRCU1QiUwQSUwQSUyMCUyMCUyMCUyMCU1RCUyQyUwQSUyOSUyOSUwQSUwQSUyNyUyNyUyNyUyQyUyMGNpdGF0aW9ucyUzRCUyN3dhYXJkZW5idXJnMjAxM2ElMjclMjklM0I=\")));\n",
       "    "
      ],
      "text/plain": [
       "<IPython.core.display.Javascript object>"
      ]
     },
     "metadata": {},
     "output_type": "display_data"
    },
    {
     "data": {
      "application/javascript": [
       "$('span:contains(\"# Temp\")').closest('.cell').remove();"
      ],
      "text/plain": [
       "<IPython.core.display.Javascript object>"
      ]
     },
     "metadata": {},
     "output_type": "display_data"
    },
    {
     "data": {
      "application/javascript": [
       "\n",
       "        $('span:contains(\"# Temp\")').closest('.cell').remove();\n",
       "        var code = IPython.notebook.insert_cell_below('code');\n",
       "        code.set_text(decodeURIComponent(window.atob(\"JTIzJTIwVGVtcCUwQWluc2VydCUyOCUyNyUyNyUyNyUwQWJvZWhtMjAwMmElMjAlM0QlMjBEQiUyOFdvcmtVbnJlbGF0ZWQlMjglMEElMjAlMjAlMjAlMjAyMDAyJTJDJTIwJTIyR2V0JTIwcmVhZHklMjBmb3IlMjBhZ2lsZSUyMG1ldGhvZHMlMkMlMjB3aXRoJTIwY2FyZSUyMiUyQyUwQSUyMCUyMCUyMCUyMGRpc3BsYXklM0QlMjJib2VobSUyMiUyQyUwQSUyMCUyMCUyMCUyMGF1dGhvcnMlM0QlMjJCb2VobSUyQyUyMEIuJTIyJTJDJTBBJTIwJTIwJTIwJTIwcGxhY2UlM0RDJTJDJTBBJTIwJTIwJTIwJTIwcHAlM0QlMjI2NC02OSUyMiUyQyUwQSUyMCUyMCUyMCUyMGVudHJ5dHlwZSUzRCUyMmFydGljbGUlMjIlMkMlMEElMjAlMjAlMjAlMjB2b2x1bWUlM0QlMjIzNSUyMiUyQyUwQSUyMCUyMCUyMCUyMG51bWJlciUzRCUyMjElMjIlMkMlMEElMjAlMjAlMjAlMjBkb2klM0QlMjIxMC4xMTA5LzIuOTc2OTIwJTIyJTJDJTBBJTIwJTIwJTIwJTIwbm90ZSUzRCUyMmNpdGVkJTIwQnklMjA0MTAlMjIlMkMlMEElMjAlMjAlMjAlMjBJRCUzRCUyMkJvZWhtMjAwMjY0JTIyJTJDJTBBJTIwJTIwJTIwJTIwcGxhY2V4JTNEJTIyQ29tcHV0ZXIlMjIlMkMlMEElMjklMjklMEElMEFEQiUyOENpdGF0aW9uJTI4JTBBJTIwJTIwJTIwJTIwd2FhcmRlbmJ1cmcyMDEzYSUyQyUyMGJvZWhtMjAwMmElMkMlMjByZWYlM0QlMjIlMjIlMkMlMEElMjAlMjAlMjAlMjBjb250ZXh0cyUzRCU1QiUwQSUwQSUyMCUyMCUyMCUyMCU1RCUyQyUwQSUyOSUyOSUwQSUwQSUyNyUyNyUyNyUyQyUyMGNpdGF0aW9ucyUzRCUyN3dhYXJkZW5idXJnMjAxM2ElMjclMjklM0I=\")));\n",
       "    "
      ],
      "text/plain": [
       "<IPython.core.display.Javascript object>"
      ]
     },
     "metadata": {},
     "output_type": "display_data"
    },
    {
     "data": {
      "application/javascript": [
       "$('span:contains(\"# Temp\")').closest('.cell').remove();"
      ],
      "text/plain": [
       "<IPython.core.display.Javascript object>"
      ]
     },
     "metadata": {},
     "output_type": "display_data"
    },
    {
     "data": {
      "application/javascript": [
       "\n",
       "        $('span:contains(\"# Temp\")').closest('.cell').remove();\n",
       "        var code = IPython.notebook.insert_cell_below('code');\n",
       "        code.set_text(decodeURIComponent(window.atob(\"JTIzJTIwVGVtcCUwQWluc2VydCUyOCUyNyUyNyUyNyUwQWJvZWhtMjAwNmMlMjAlM0QlMjBEQiUyOFdvcmtVbnJlbGF0ZWQlMjglMEElMjAlMjAlMjAlMjAyMDA2JTJDJTIwJTIyQSUyMHZpZXclMjBvZiUyMDIwdGglMjBhbmQlMjAyMXN0JTIwY2VudHVyeSUyMHNvZnR3YXJlJTIwZW5naW5lZXJpbmclMjIlMkMlMEElMjAlMjAlMjAlMjBkaXNwbGF5JTNEJTIyYm9laG0lMjBjJTIyJTJDJTBBJTIwJTIwJTIwJTIwYXV0aG9ycyUzRCUyMkJvZWhtJTJDJTIwQi4lMjIlMkMlMEElMjAlMjAlMjAlMjBwbGFjZSUzRElDU0UlMkMlMEElMjAlMjAlMjAlMjBwcCUzRCUyMjEyLTI5JTIyJTJDJTBBJTIwJTIwJTIwJTIwZW50cnl0eXBlJTNEJTIyY29uZmVyZW5jZSUyMiUyQyUwQSUyMCUyMCUyMCUyMHZvbHVtZSUzRCUyMjIwMDYlMjIlMkMlMEElMjAlMjAlMjAlMjBub3RlJTNEJTIyY2l0ZWQlMjBCeSUyMDIzNyUyMiUyQyUwQSUyMCUyMCUyMCUyMElEJTNEJTIyQm9laG0yMDA2MTIlMjIlMkMlMEElMjAlMjAlMjAlMjBwbGFjZXglM0QlMjJQcm9jZWVkaW5ncyUyMC0lMjBJbnRlcm5hdGlvbmFsJTIwQ29uZmVyZW5jZSUyMG9uJTIwU29mdHdhcmUlMjBFbmdpbmVlcmluZyUyMiUyQyUwQSUyOSUyOSUwQSUwQURCJTI4Q2l0YXRpb24lMjglMEElMjAlMjAlMjAlMjB3YWFyZGVuYnVyZzIwMTNhJTJDJTIwYm9laG0yMDA2YyUyQyUyMHJlZiUzRCUyMiUyMiUyQyUwQSUyMCUyMCUyMCUyMGNvbnRleHRzJTNEJTVCJTBBJTBBJTIwJTIwJTIwJTIwJTVEJTJDJTBBJTI5JTI5JTBBJTBBJTI3JTI3JTI3JTJDJTIwY2l0YXRpb25zJTNEJTI3d2FhcmRlbmJ1cmcyMDEzYSUyNyUyOSUzQg==\")));\n",
       "    "
      ],
      "text/plain": [
       "<IPython.core.display.Javascript object>"
      ]
     },
     "metadata": {},
     "output_type": "display_data"
    },
    {
     "data": {
      "application/javascript": [
       "$('span:contains(\"# Temp\")').closest('.cell').remove();"
      ],
      "text/plain": [
       "<IPython.core.display.Javascript object>"
      ]
     },
     "metadata": {},
     "output_type": "display_data"
    },
    {
     "data": {
      "application/javascript": [
       "\n",
       "        $('span:contains(\"# Temp\")').closest('.cell').remove();\n",
       "        var code = IPython.notebook.insert_cell_below('code');\n",
       "        code.set_text(decodeURIComponent(window.atob(\"JTIzJTIwVGVtcCUwQWluc2VydCUyOCUyNyUyNyUyNyUwQWJvZWhtMjAwNmMlMjAlM0QlMjBEQiUyOFdvcmtVbnJlbGF0ZWQlMjglMEElMjAlMjAlMjAlMjAyMDA2JTJDJTIwJTIyQSUyMHZpZXclMjBvZiUyMDIwdGglMjBhbmQlMjAyMXN0JTIwY2VudHVyeSUyMHNvZnR3YXJlJTIwZW5naW5lZXJpbmclMjIlMkMlMEElMjAlMjAlMjAlMjBkaXNwbGF5JTNEJTIyYm9laG0lMjBjJTIyJTJDJTBBJTIwJTIwJTIwJTIwYXV0aG9ycyUzRCUyMkJvZWhtJTJDJTIwQi4lMjIlMkMlMEElMjAlMjAlMjAlMjBwbGFjZSUzRElDU0UlMkMlMEElMjAlMjAlMjAlMjBwcCUzRCUyMjEyLTI5JTIyJTJDJTBBJTIwJTIwJTIwJTIwZW50cnl0eXBlJTNEJTIyY29uZmVyZW5jZSUyMiUyQyUwQSUyMCUyMCUyMCUyMHZvbHVtZSUzRCUyMjIwMDYlMjIlMkMlMEElMjAlMjAlMjAlMjBub3RlJTNEJTIyY2l0ZWQlMjBCeSUyMDIzNyUyMiUyQyUwQSUyMCUyMCUyMCUyMElEJTNEJTIyQm9laG0yMDA2MTIlMjIlMkMlMEElMjAlMjAlMjAlMjBwbGFjZXglM0QlMjJQcm9jZWVkaW5ncyUyMC0lMjBJbnRlcm5hdGlvbmFsJTIwQ29uZmVyZW5jZSUyMG9uJTIwU29mdHdhcmUlMjBFbmdpbmVlcmluZyUyMiUyQyUwQSUyOSUyOSUwQSUwQURCJTI4Q2l0YXRpb24lMjglMEElMjAlMjAlMjAlMjB3YWFyZGVuYnVyZzIwMTNhJTJDJTIwYm9laG0yMDA2YyUyQyUyMHJlZiUzRCUyMiUyMiUyQyUwQSUyMCUyMCUyMCUyMGNvbnRleHRzJTNEJTVCJTBBJTBBJTIwJTIwJTIwJTIwJTVEJTJDJTBBJTI5JTI5JTBBJTBBJTI3JTI3JTI3JTJDJTIwY2l0YXRpb25zJTNEJTI3d2FhcmRlbmJ1cmcyMDEzYSUyNyUyOSUzQg==\")));\n",
       "    "
      ],
      "text/plain": [
       "<IPython.core.display.Javascript object>"
      ]
     },
     "metadata": {},
     "output_type": "display_data"
    },
    {
     "data": {
      "application/javascript": [
       "$('span:contains(\"# Temp\")').closest('.cell').remove();"
      ],
      "text/plain": [
       "<IPython.core.display.Javascript object>"
      ]
     },
     "metadata": {},
     "output_type": "display_data"
    },
    {
     "data": {
      "application/javascript": [
       "\n",
       "        $('span:contains(\"# Temp\")').closest('.cell').remove();\n",
       "        var code = IPython.notebook.insert_cell_below('code');\n",
       "        code.set_text(decodeURIComponent(window.atob(\"JTIzJTIwVGVtcCUwQWluc2VydCUyOCUyNyUyNyUyNyUwQWJvZWhtMjAwMmIlMjAlM0QlMjBEQiUyOFdvcmtVbnJlbGF0ZWQlMjglMEElMjAlMjAlMjAlMjAyMDAyJTJDJTIwJTIyQmFsYW5jaW5nJTIwQWdpbGl0eSUyMGFuZCUyMERpc2NpcGxpbmUlM0ElMjBBJTIwR3VpZGUlMjBmb3IlMjB0aGUlMjBQZXJwbGV4ZWQlMjIlMkMlMEElMjAlMjAlMjAlMjBkaXNwbGF5JTNEJTIyYm9laG0lMjBiJTIyJTJDJTBBJTIwJTIwJTIwJTIwYXV0aG9ycyUzRCUyMkJvZWhtJTJDJTIwQi4lMjBhbmQlMjBUdXJuZXIlMkMlMjBSLiUyMiUyQyUwQSUyMCUyMCUyMCUyMHBsYWNlJTNERkFLRSUyQyUwQSUyMCUyMCUyMCUyMGVudHJ5dHlwZSUzRCUyMmFydGljbGUlMjIlMkMlMEElMjAlMjAlMjAlMjBub3RlJTNEJTIyY2l0ZWQlMjBCeSUyMDc4MyUyMiUyQyUwQSUyMCUyMCUyMCUyMElEJTNEJTIyQm9laG0yMDAyJTIyJTJDJTBBJTIwJTIwJTIwJTIwcGxhY2V4JTNEJTIyQWRkaXNvbiUyMFdlc2xleSUyMiUyQyUwQSUyOSUyOSUwQSUwQURCJTI4Q2l0YXRpb24lMjglMEElMjAlMjAlMjAlMjB3YWFyZGVuYnVyZzIwMTNhJTJDJTIwYm9laG0yMDAyYiUyQyUyMHJlZiUzRCUyMiUyMiUyQyUwQSUyMCUyMCUyMCUyMGNvbnRleHRzJTNEJTVCJTBBJTBBJTIwJTIwJTIwJTIwJTVEJTJDJTBBJTI5JTI5JTBBJTBBJTI3JTI3JTI3JTJDJTIwY2l0YXRpb25zJTNEJTI3d2FhcmRlbmJ1cmcyMDEzYSUyNyUyOSUzQg==\")));\n",
       "    "
      ],
      "text/plain": [
       "<IPython.core.display.Javascript object>"
      ]
     },
     "metadata": {},
     "output_type": "display_data"
    },
    {
     "data": {
      "application/javascript": [
       "$('span:contains(\"# Temp\")').closest('.cell').remove();"
      ],
      "text/plain": [
       "<IPython.core.display.Javascript object>"
      ]
     },
     "metadata": {},
     "output_type": "display_data"
    },
    {
     "data": {
      "application/javascript": [
       "\n",
       "        $('span:contains(\"# Temp\")').closest('.cell').remove();\n",
       "        var code = IPython.notebook.insert_cell_below('code');\n",
       "        code.set_text(decodeURIComponent(window.atob(\"JTIzJTIwVGVtcCUwQWluc2VydCUyOCUyNyUyNyUyNyUwQWJvZWhtMjAwMmIlMjAlM0QlMjBEQiUyOFdvcmtVbnJlbGF0ZWQlMjglMEElMjAlMjAlMjAlMjAyMDAyJTJDJTIwJTIyQmFsYW5jaW5nJTIwQWdpbGl0eSUyMGFuZCUyMERpc2NpcGxpbmUlM0ElMjBBJTIwR3VpZGUlMjBmb3IlMjB0aGUlMjBQZXJwbGV4ZWQlMjIlMkMlMEElMjAlMjAlMjAlMjBkaXNwbGF5JTNEJTIyYm9laG0lMjBiJTIyJTJDJTBBJTIwJTIwJTIwJTIwYXV0aG9ycyUzRCUyMkJvZWhtJTJDJTIwQi4lMjBhbmQlMjBUdXJuZXIlMkMlMjBSLiUyMiUyQyUwQSUyMCUyMCUyMCUyMHBsYWNlJTNERkFLRSUyQyUwQSUyMCUyMCUyMCUyMGVudHJ5dHlwZSUzRCUyMmFydGljbGUlMjIlMkMlMEElMjAlMjAlMjAlMjBub3RlJTNEJTIyY2l0ZWQlMjBCeSUyMDc4MyUyMiUyQyUwQSUyMCUyMCUyMCUyMElEJTNEJTIyQm9laG0yMDAyJTIyJTJDJTBBJTIwJTIwJTIwJTIwcGxhY2V4JTNEJTIyQWRkaXNvbiUyMFdlc2xleSUyMiUyQyUwQSUyOSUyOSUwQSUwQURCJTI4Q2l0YXRpb24lMjglMEElMjAlMjAlMjAlMjB3YWFyZGVuYnVyZzIwMTNhJTJDJTIwYm9laG0yMDAyYiUyQyUyMHJlZiUzRCUyMiUyMiUyQyUwQSUyMCUyMCUyMCUyMGNvbnRleHRzJTNEJTVCJTBBJTBBJTIwJTIwJTIwJTIwJTVEJTJDJTBBJTI5JTI5JTBBJTBBJTI3JTI3JTI3JTJDJTIwY2l0YXRpb25zJTNEJTI3d2FhcmRlbmJ1cmcyMDEzYSUyNyUyOSUzQg==\")));\n",
       "    "
      ],
      "text/plain": [
       "<IPython.core.display.Javascript object>"
      ]
     },
     "metadata": {},
     "output_type": "display_data"
    },
    {
     "data": {
      "application/javascript": [
       "$('span:contains(\"# Temp\")').closest('.cell').remove();"
      ],
      "text/plain": [
       "<IPython.core.display.Javascript object>"
      ]
     },
     "metadata": {},
     "output_type": "display_data"
    },
    {
     "data": {
      "application/javascript": [
       "\n",
       "        $('span:contains(\"# Temp\")').closest('.cell').remove();\n",
       "        var code = IPython.notebook.insert_cell_below('code');\n",
       "        code.set_text(decodeURIComponent(window.atob(\"JTIzJTIwVGVtcCUwQWluc2VydCUyOCUyNyUyNyUyNyUwQWJvZWhtMjAwNWElMjAlM0QlMjBEQiUyOFdvcmtVbnJlbGF0ZWQlMjglMEElMjAlMjAlMjAlMjAyMDA1JTJDJTIwJTIyTWFuYWdlbWVudCUyMGNoYWxsZW5nZXMlMjB0byUyMGltcGxlbWVudGluZyUyMGFnaWxlJTIwcHJvY2Vzc2VzJTIwaW4lMjB0cmFkaXRpb25hbCUyMGRldmVsb3BtZW50JTIwb3JnYW5pemF0aW9ucyUyMiUyQyUwQSUyMCUyMCUyMCUyMGRpc3BsYXklM0QlMjJib2VobSUyMiUyQyUwQSUyMCUyMCUyMCUyMGF1dGhvcnMlM0QlMjJCb2VobSUyQyUyMEIuJTIwYW5kJTIwVHVybmVyJTJDJTIwUi4lMjIlMkMlMEElMjAlMjAlMjAlMjBwbGFjZSUzRElFRUVTJTJDJTBBJTIwJTIwJTIwJTIwcHAlM0QlMjIzMC0zOSUyMiUyQyUwQSUyMCUyMCUyMCUyMGVudHJ5dHlwZSUzRCUyMmFydGljbGUlMjIlMkMlMEElMjAlMjAlMjAlMjB2b2x1bWUlM0QlMjIyMiUyMiUyQyUwQSUyMCUyMCUyMCUyMG51bWJlciUzRCUyMjUlMjIlMkMlMEElMjAlMjAlMjAlMjBkb2klM0QlMjIxMC4xMTA5L01TLjIwMDUuMTI5JTIyJTJDJTBBJTIwJTIwJTIwJTIwbm90ZSUzRCUyMmNpdGVkJTIwQnklMjAxODglMjIlMkMlMEElMjAlMjAlMjAlMjBJRCUzRCUyMkJvZWhtMjAwNTMwJTIyJTJDJTBBJTIwJTIwJTIwJTIwcGxhY2V4JTNEJTIySUVFRSUyMFNvZnR3YXJlJTIyJTJDJTBBJTI5JTI5JTBBJTBBREIlMjhDaXRhdGlvbiUyOCUwQSUyMCUyMCUyMCUyMHdhYXJkZW5idXJnMjAxM2ElMkMlMjBib2VobTIwMDVhJTJDJTIwcmVmJTNEJTIyJTIyJTJDJTBBJTIwJTIwJTIwJTIwY29udGV4dHMlM0QlNUIlMEElMEElMjAlMjAlMjAlMjAlNUQlMkMlMEElMjklMjklMEElMEElMjclMjclMjclMkMlMjBjaXRhdGlvbnMlM0QlMjd3YWFyZGVuYnVyZzIwMTNhJTI3JTI5JTNC\")));\n",
       "    "
      ],
      "text/plain": [
       "<IPython.core.display.Javascript object>"
      ]
     },
     "metadata": {},
     "output_type": "display_data"
    },
    {
     "data": {
      "application/javascript": [
       "$('span:contains(\"# Temp\")').closest('.cell').remove();"
      ],
      "text/plain": [
       "<IPython.core.display.Javascript object>"
      ]
     },
     "metadata": {},
     "output_type": "display_data"
    },
    {
     "data": {
      "application/javascript": [
       "\n",
       "        $('span:contains(\"# Temp\")').closest('.cell').remove();\n",
       "        var code = IPython.notebook.insert_cell_below('code');\n",
       "        code.set_text(decodeURIComponent(window.atob(\"JTIzJTIwVGVtcCUwQWluc2VydCUyOCUyNyUyNyUyNyUwQWJvZWhtMjAwNWElMjAlM0QlMjBEQiUyOFdvcmtVbnJlbGF0ZWQlMjglMEElMjAlMjAlMjAlMjAyMDA1JTJDJTIwJTIyTWFuYWdlbWVudCUyMGNoYWxsZW5nZXMlMjB0byUyMGltcGxlbWVudGluZyUyMGFnaWxlJTIwcHJvY2Vzc2VzJTIwaW4lMjB0cmFkaXRpb25hbCUyMGRldmVsb3BtZW50JTIwb3JnYW5pemF0aW9ucyUyMiUyQyUwQSUyMCUyMCUyMCUyMGRpc3BsYXklM0QlMjJib2VobSUyMiUyQyUwQSUyMCUyMCUyMCUyMGF1dGhvcnMlM0QlMjJCb2VobSUyQyUyMEIuJTIwYW5kJTIwVHVybmVyJTJDJTIwUi4lMjIlMkMlMEElMjAlMjAlMjAlMjBwbGFjZSUzRElFRUVTJTJDJTBBJTIwJTIwJTIwJTIwcHAlM0QlMjIzMC0zOSUyMiUyQyUwQSUyMCUyMCUyMCUyMGVudHJ5dHlwZSUzRCUyMmFydGljbGUlMjIlMkMlMEElMjAlMjAlMjAlMjB2b2x1bWUlM0QlMjIyMiUyMiUyQyUwQSUyMCUyMCUyMCUyMG51bWJlciUzRCUyMjUlMjIlMkMlMEElMjAlMjAlMjAlMjBkb2klM0QlMjIxMC4xMTA5L01TLjIwMDUuMTI5JTIyJTJDJTBBJTIwJTIwJTIwJTIwbm90ZSUzRCUyMmNpdGVkJTIwQnklMjAxODglMjIlMkMlMEElMjAlMjAlMjAlMjBJRCUzRCUyMkJvZWhtMjAwNTMwJTIyJTJDJTBBJTIwJTIwJTIwJTIwcGxhY2V4JTNEJTIySUVFRSUyMFNvZnR3YXJlJTIyJTJDJTBBJTI5JTI5JTBBJTBBREIlMjhDaXRhdGlvbiUyOCUwQSUyMCUyMCUyMCUyMHdhYXJkZW5idXJnMjAxM2ElMkMlMjBib2VobTIwMDVhJTJDJTIwcmVmJTNEJTIyJTIyJTJDJTBBJTIwJTIwJTIwJTIwY29udGV4dHMlM0QlNUIlMEElMEElMjAlMjAlMjAlMjAlNUQlMkMlMEElMjklMjklMEElMEElMjclMjclMjclMkMlMjBjaXRhdGlvbnMlM0QlMjd3YWFyZGVuYnVyZzIwMTNhJTI3JTI5JTNC\")));\n",
       "    "
      ],
      "text/plain": [
       "<IPython.core.display.Javascript object>"
      ]
     },
     "metadata": {},
     "output_type": "display_data"
    },
    {
     "data": {
      "application/javascript": [
       "$('span:contains(\"# Temp\")').closest('.cell').remove();"
      ],
      "text/plain": [
       "<IPython.core.display.Javascript object>"
      ]
     },
     "metadata": {},
     "output_type": "display_data"
    },
    {
     "data": {
      "application/javascript": [
       "\n",
       "        $('span:contains(\"# Temp\")').closest('.cell').remove();\n",
       "        var code = IPython.notebook.insert_cell_below('code');\n",
       "        code.set_text(decodeURIComponent(window.atob(\"JTIzJTIwVGVtcCUwQWluc2VydCUyOCUyNyUyNyUyNyUwQWJvZWhtMTk4OGElMjAlM0QlMjBEQiUyOFdvcmtVbnJlbGF0ZWQlMjglMEElMjAlMjAlMjAlMjAxOTg4JTJDJTIwJTIyQSUyMFNwaXJhbCUyME1vZGVsJTIwb2YlMjBTb2Z0d2FyZSUyMERldmVsb3BtZW50JTIwYW5kJTIwRW5oYW5jZW1lbnQlMjIlMkMlMEElMjAlMjAlMjAlMjBkaXNwbGF5JTNEJTIyYm9laG0lMjIlMkMlMEElMjAlMjAlMjAlMjBhdXRob3JzJTNEJTIyQm9laG0lMkMlMjBCLlcuJTIyJTJDJTBBJTIwJTIwJTIwJTIwcGxhY2UlM0RDJTJDJTBBJTIwJTIwJTIwJTIwcHAlM0QlMjI2MS03MiUyMiUyQyUwQSUyMCUyMCUyMCUyMGVudHJ5dHlwZSUzRCUyMmFydGljbGUlMjIlMkMlMEElMjAlMjAlMjAlMjB2b2x1bWUlM0QlMjIyMSUyMiUyQyUwQSUyMCUyMCUyMCUyMG51bWJlciUzRCUyMjUlMjIlMkMlMEElMjAlMjAlMjAlMjBkb2klM0QlMjIxMC4xMTA5LzIuNTklMjIlMkMlMEElMjAlMjAlMjAlMjBub3RlJTNEJTIyY2l0ZWQlMjBCeSUyMDE3MTAlMjIlMkMlMEElMjAlMjAlMjAlMjBJRCUzRCUyMkJvZWhtMTk4ODYxJTIyJTJDJTBBJTIwJTIwJTIwJTIwcGxhY2V4JTNEJTIyQ29tcHV0ZXIlMjIlMkMlMEElMjklMjklMEElMEFEQiUyOENpdGF0aW9uJTI4JTBBJTIwJTIwJTIwJTIwd2FhcmRlbmJ1cmcyMDEzYSUyQyUyMGJvZWhtMTk4OGElMkMlMjByZWYlM0QlMjIlMjIlMkMlMEElMjAlMjAlMjAlMjBjb250ZXh0cyUzRCU1QiUwQSUwQSUyMCUyMCUyMCUyMCU1RCUyQyUwQSUyOSUyOSUwQSUwQSUyNyUyNyUyNyUyQyUyMGNpdGF0aW9ucyUzRCUyN3dhYXJkZW5idXJnMjAxM2ElMjclMjklM0I=\")));\n",
       "    "
      ],
      "text/plain": [
       "<IPython.core.display.Javascript object>"
      ]
     },
     "metadata": {},
     "output_type": "display_data"
    },
    {
     "data": {
      "application/javascript": [
       "$('span:contains(\"# Temp\")').closest('.cell').remove();"
      ],
      "text/plain": [
       "<IPython.core.display.Javascript object>"
      ]
     },
     "metadata": {},
     "output_type": "display_data"
    },
    {
     "data": {
      "application/javascript": [
       "\n",
       "        $('span:contains(\"# Temp\")').closest('.cell').remove();\n",
       "        var code = IPython.notebook.insert_cell_below('code');\n",
       "        code.set_text(decodeURIComponent(window.atob(\"JTIzJTIwVGVtcCUwQWluc2VydCUyOCUyNyUyNyUyNyUwQWJvZWhtMTk4OGElMjAlM0QlMjBEQiUyOFdvcmtVbnJlbGF0ZWQlMjglMEElMjAlMjAlMjAlMjAxOTg4JTJDJTIwJTIyQSUyMFNwaXJhbCUyME1vZGVsJTIwb2YlMjBTb2Z0d2FyZSUyMERldmVsb3BtZW50JTIwYW5kJTIwRW5oYW5jZW1lbnQlMjIlMkMlMEElMjAlMjAlMjAlMjBkaXNwbGF5JTNEJTIyYm9laG0lMjIlMkMlMEElMjAlMjAlMjAlMjBhdXRob3JzJTNEJTIyQm9laG0lMkMlMjBCLlcuJTIyJTJDJTBBJTIwJTIwJTIwJTIwcGxhY2UlM0RDJTJDJTBBJTIwJTIwJTIwJTIwcHAlM0QlMjI2MS03MiUyMiUyQyUwQSUyMCUyMCUyMCUyMGVudHJ5dHlwZSUzRCUyMmFydGljbGUlMjIlMkMlMEElMjAlMjAlMjAlMjB2b2x1bWUlM0QlMjIyMSUyMiUyQyUwQSUyMCUyMCUyMCUyMG51bWJlciUzRCUyMjUlMjIlMkMlMEElMjAlMjAlMjAlMjBkb2klM0QlMjIxMC4xMTA5LzIuNTklMjIlMkMlMEElMjAlMjAlMjAlMjBub3RlJTNEJTIyY2l0ZWQlMjBCeSUyMDE3MTAlMjIlMkMlMEElMjAlMjAlMjAlMjBJRCUzRCUyMkJvZWhtMTk4ODYxJTIyJTJDJTBBJTIwJTIwJTIwJTIwcGxhY2V4JTNEJTIyQ29tcHV0ZXIlMjIlMkMlMEElMjklMjklMEElMEFEQiUyOENpdGF0aW9uJTI4JTBBJTIwJTIwJTIwJTIwd2FhcmRlbmJ1cmcyMDEzYSUyQyUyMGJvZWhtMTk4OGElMkMlMjByZWYlM0QlMjIlMjIlMkMlMEElMjAlMjAlMjAlMjBjb250ZXh0cyUzRCU1QiUwQSUwQSUyMCUyMCUyMCUyMCU1RCUyQyUwQSUyOSUyOSUwQSUwQSUyNyUyNyUyNyUyQyUyMGNpdGF0aW9ucyUzRCUyN3dhYXJkZW5idXJnMjAxM2ElMjclMjklM0I=\")));\n",
       "    "
      ],
      "text/plain": [
       "<IPython.core.display.Javascript object>"
      ]
     },
     "metadata": {},
     "output_type": "display_data"
    },
    {
     "data": {
      "application/javascript": [
       "$('span:contains(\"# Temp\")').closest('.cell').remove();"
      ],
      "text/plain": [
       "<IPython.core.display.Javascript object>"
      ]
     },
     "metadata": {},
     "output_type": "display_data"
    },
    {
     "data": {
      "application/javascript": [
       "\n",
       "        $('span:contains(\"# Temp\")').closest('.cell').remove();\n",
       "        var code = IPython.notebook.insert_cell_below('code');\n",
       "        code.set_text(decodeURIComponent(window.atob(\"JTIzJTIwVGVtcCUwQWluc2VydCUyOCUyNyUyNyUyNyUwQWJyb3duMjAxM2ElMjAlM0QlMjBEQiUyOFdvcmtVbnJlbGF0ZWQlMjglMEElMjAlMjAlMjAlMjAyMDEzJTJDJTIwJTIyQWdpbGl0eSUyMGF0JTIwc2NhbGUlM0ElMjBFY29ub21pYyUyMGdvdmVybmFuY2UlMkMlMjBtZWFzdXJlZCUyMGltcHJvdmVtZW50JTJDJTIwYW5kJTIwZGlzY2lwbGluZWQlMjBkZWxpdmVyeSUyMiUyQyUwQSUyMCUyMCUyMCUyMGRpc3BsYXklM0QlMjJicm93biUyMiUyQyUwQSUyMCUyMCUyMCUyMGF1dGhvcnMlM0QlMjJCcm93biUyQyUyMEEuVy4lMjBhbmQlMjBBbWJsZXIlMkMlMjBTLiUyMGFuZCUyMFJveWNlJTJDJTIwVy4lMjIlMkMlMEElMjAlMjAlMjAlMjBwbGFjZSUzRElDU0UlMkMlMEElMjAlMjAlMjAlMjBwcCUzRCUyMjg3My04ODElMjIlMkMlMEElMjAlMjAlMjAlMjBlbnRyeXR5cGUlM0QlMjJjb25mZXJlbmNlJTIyJTJDJTBBJTIwJTIwJTIwJTIwZG9pJTNEJTIyMTAuMTEwOS9JQ1NFLjIwMTMuNjYwNjYzNiUyMiUyQyUwQSUyMCUyMCUyMCUyMGFydF9udW1iZXIlM0QlMjI2NjA2NjM2JTIyJTJDJTBBJTIwJTIwJTIwJTIwbm90ZSUzRCUyMmNpdGVkJTIwQnklMjAxNCUyMiUyQyUwQSUyMCUyMCUyMCUyMElEJTNEJTIyQnJvd24yMDEzODczJTIyJTJDJTBBJTIwJTIwJTIwJTIwcGxhY2V4JTNEJTIyUHJvY2VlZGluZ3MlMjAtJTIwSW50ZXJuYXRpb25hbCUyMENvbmZlcmVuY2UlMjBvbiUyMFNvZnR3YXJlJTIwRW5naW5lZXJpbmclMjIlMkMlMEElMjklMjklMEElMEFEQiUyOENpdGF0aW9uJTI4JTBBJTIwJTIwJTIwJTIwd2FhcmRlbmJ1cmcyMDEzYSUyQyUyMGJyb3duMjAxM2ElMkMlMjByZWYlM0QlMjIlMjIlMkMlMEElMjAlMjAlMjAlMjBjb250ZXh0cyUzRCU1QiUwQSUwQSUyMCUyMCUyMCUyMCU1RCUyQyUwQSUyOSUyOSUwQSUwQSUyNyUyNyUyNyUyQyUyMGNpdGF0aW9ucyUzRCUyN3dhYXJkZW5idXJnMjAxM2ElMjclMjklM0I=\")));\n",
       "    "
      ],
      "text/plain": [
       "<IPython.core.display.Javascript object>"
      ]
     },
     "metadata": {},
     "output_type": "display_data"
    },
    {
     "data": {
      "application/javascript": [
       "$('span:contains(\"# Temp\")').closest('.cell').remove();"
      ],
      "text/plain": [
       "<IPython.core.display.Javascript object>"
      ]
     },
     "metadata": {},
     "output_type": "display_data"
    },
    {
     "data": {
      "application/javascript": [
       "\n",
       "        $('span:contains(\"# Temp\")').closest('.cell').remove();\n",
       "        var code = IPython.notebook.insert_cell_below('code');\n",
       "        code.set_text(decodeURIComponent(window.atob(\"JTIzJTIwVGVtcCUwQWluc2VydCUyOCUyNyUyNyUyNyUwQWJyb3duMjAxM2ElMjAlM0QlMjBEQiUyOFdvcmtVbnJlbGF0ZWQlMjglMEElMjAlMjAlMjAlMjAyMDEzJTJDJTIwJTIyQWdpbGl0eSUyMGF0JTIwc2NhbGUlM0ElMjBFY29ub21pYyUyMGdvdmVybmFuY2UlMkMlMjBtZWFzdXJlZCUyMGltcHJvdmVtZW50JTJDJTIwYW5kJTIwZGlzY2lwbGluZWQlMjBkZWxpdmVyeSUyMiUyQyUwQSUyMCUyMCUyMCUyMGRpc3BsYXklM0QlMjJicm93biUyMiUyQyUwQSUyMCUyMCUyMCUyMGF1dGhvcnMlM0QlMjJCcm93biUyQyUyMEEuVy4lMjBhbmQlMjBBbWJsZXIlMkMlMjBTLiUyMGFuZCUyMFJveWNlJTJDJTIwVy4lMjIlMkMlMEElMjAlMjAlMjAlMjBwbGFjZSUzRElDU0UlMkMlMEElMjAlMjAlMjAlMjBwcCUzRCUyMjg3My04ODElMjIlMkMlMEElMjAlMjAlMjAlMjBlbnRyeXR5cGUlM0QlMjJjb25mZXJlbmNlJTIyJTJDJTBBJTIwJTIwJTIwJTIwZG9pJTNEJTIyMTAuMTEwOS9JQ1NFLjIwMTMuNjYwNjYzNiUyMiUyQyUwQSUyMCUyMCUyMCUyMGFydF9udW1iZXIlM0QlMjI2NjA2NjM2JTIyJTJDJTBBJTIwJTIwJTIwJTIwbm90ZSUzRCUyMmNpdGVkJTIwQnklMjAxNCUyMiUyQyUwQSUyMCUyMCUyMCUyMElEJTNEJTIyQnJvd24yMDEzODczJTIyJTJDJTBBJTIwJTIwJTIwJTIwcGxhY2V4JTNEJTIyUHJvY2VlZGluZ3MlMjAtJTIwSW50ZXJuYXRpb25hbCUyMENvbmZlcmVuY2UlMjBvbiUyMFNvZnR3YXJlJTIwRW5naW5lZXJpbmclMjIlMkMlMEElMjklMjklMEElMEFEQiUyOENpdGF0aW9uJTI4JTBBJTIwJTIwJTIwJTIwd2FhcmRlbmJ1cmcyMDEzYSUyQyUyMGJyb3duMjAxM2ElMkMlMjByZWYlM0QlMjIlMjIlMkMlMEElMjAlMjAlMjAlMjBjb250ZXh0cyUzRCU1QiUwQSUwQSUyMCUyMCUyMCUyMCU1RCUyQyUwQSUyOSUyOSUwQSUwQSUyNyUyNyUyNyUyQyUyMGNpdGF0aW9ucyUzRCUyN3dhYXJkZW5idXJnMjAxM2ElMjclMjklM0I=\")));\n",
       "    "
      ],
      "text/plain": [
       "<IPython.core.display.Javascript object>"
      ]
     },
     "metadata": {},
     "output_type": "display_data"
    },
    {
     "data": {
      "application/javascript": [
       "$('span:contains(\"# Temp\")').closest('.cell').remove();"
      ],
      "text/plain": [
       "<IPython.core.display.Javascript object>"
      ]
     },
     "metadata": {},
     "output_type": "display_data"
    },
    {
     "data": {
      "application/javascript": [
       "\n",
       "        $('span:contains(\"# Temp\")').closest('.cell').remove();\n",
       "        var code = IPython.notebook.insert_cell_below('code');\n",
       "        code.set_text(decodeURIComponent(window.atob(\"JTIzJTIwVGVtcCUwQWluc2VydCUyOCUyNyUyNyUyNyUwQURCJTI4Q2l0YXRpb24lMjglMEElMjAlMjAlMjAlMjB3YWFyZGVuYnVyZzIwMTNhJTJDJTIwY2FvMjAwOWElMkMlMjByZWYlM0QlMjIlMjIlMkMlMEElMjAlMjAlMjAlMjBjb250ZXh0cyUzRCU1QiUwQSUwQSUyMCUyMCUyMCUyMCU1RCUyQyUwQSUyOSUyOSUwQSUwQSUyNyUyNyUyNyUyQyUyMGNpdGF0aW9ucyUzRCUyN3dhYXJkZW5idXJnMjAxM2ElMjclMjklM0I=\")));\n",
       "    "
      ],
      "text/plain": [
       "<IPython.core.display.Javascript object>"
      ]
     },
     "metadata": {},
     "output_type": "display_data"
    },
    {
     "data": {
      "application/javascript": [
       "$('span:contains(\"# Temp\")').closest('.cell').remove();"
      ],
      "text/plain": [
       "<IPython.core.display.Javascript object>"
      ]
     },
     "metadata": {},
     "output_type": "display_data"
    },
    {
     "data": {
      "application/javascript": [
       "\n",
       "        $('span:contains(\"# Temp\")').closest('.cell').remove();\n",
       "        var code = IPython.notebook.insert_cell_below('code');\n",
       "        code.set_text(decodeURIComponent(window.atob(\"JTIzJTIwVGVtcCUwQWluc2VydCUyOCUyNyUyNyUyNyUwQURCJTI4Q2l0YXRpb24lMjglMEElMjAlMjAlMjAlMjB3YWFyZGVuYnVyZzIwMTNhJTJDJTIwY2FvMjAwOWElMkMlMjByZWYlM0QlMjIlMjIlMkMlMEElMjAlMjAlMjAlMjBjb250ZXh0cyUzRCU1QiUwQSUwQSUyMCUyMCUyMCUyMCU1RCUyQyUwQSUyOSUyOSUwQSUwQSUyNyUyNyUyNyUyQyUyMGNpdGF0aW9ucyUzRCUyN3dhYXJkZW5idXJnMjAxM2ElMjclMjklM0I=\")));\n",
       "    "
      ],
      "text/plain": [
       "<IPython.core.display.Javascript object>"
      ]
     },
     "metadata": {},
     "output_type": "display_data"
    },
    {
     "data": {
      "application/javascript": [
       "$('span:contains(\"# Temp\")').closest('.cell').remove();"
      ],
      "text/plain": [
       "<IPython.core.display.Javascript object>"
      ]
     },
     "metadata": {},
     "output_type": "display_data"
    },
    {
     "data": {
      "application/javascript": [
       "\n",
       "        $('span:contains(\"# Temp\")').closest('.cell').remove();\n",
       "        var code = IPython.notebook.insert_cell_below('code');\n",
       "        code.set_text(decodeURIComponent(window.atob(\"JTIzJTIwVGVtcCUwQWluc2VydCUyOCUyNyUyNyUyNyUwQWNoYW4yMDA5YSUyMCUzRCUyMERCJTI4V29ya1VucmVsYXRlZCUyOCUwQSUyMCUyMCUyMCUyMDIwMDklMkMlMjAlMjJBY2NlcHRhbmNlJTIwb2YlMjBhZ2lsZSUyMG1ldGhvZG9sb2dpZXMlM0ElMjBBJTIwY3JpdGljYWwlMjByZXZpZXclMjBhbmQlMjBjb25jZXB0dWFsJTIwZnJhbWV3b3JrJTIyJTJDJTBBJTIwJTIwJTIwJTIwZGlzcGxheSUzRCUyMmNoYW4lMjIlMkMlMEElMjAlMjAlMjAlMjBhdXRob3JzJTNEJTIyQ2hhbiUyQyUyMEYuSy5ZLiUyMGFuZCUyMFRob25nJTJDJTIwSi5ZLkwuJTIyJTJDJTBBJTIwJTIwJTIwJTIwcGxhY2UlM0RGQUtFJTJDJTBBJTIwJTIwJTIwJTIwcHAlM0QlMjI4MDMtODE0JTIyJTJDJTBBJTIwJTIwJTIwJTIwZW50cnl0eXBlJTNEJTIyYXJ0aWNsZSUyMiUyQyUwQSUyMCUyMCUyMCUyMHZvbHVtZSUzRCUyMjQ2JTIyJTJDJTBBJTIwJTIwJTIwJTIwbnVtYmVyJTNEJTIyNCUyMiUyQyUwQSUyMCUyMCUyMCUyMGRvaSUzRCUyMjEwLjEwMTYvai5kc3MuMjAwOC4xMS4wMDklMjIlMkMlMEElMjAlMjAlMjAlMjBub3RlJTNEJTIyY2l0ZWQlMjBCeSUyMDgwJTIyJTJDJTBBJTIwJTIwJTIwJTIwSUQlM0QlMjJDaGFuMjAwOTgwMyUyMiUyQyUwQSUyMCUyMCUyMCUyMHBsYWNleCUzRCUyMkRlY2lzaW9uJTIwU3VwcG9ydCUyMFN5c3RlbXMlMjIlMkMlMEElMjklMjklMEElMEFEQiUyOENpdGF0aW9uJTI4JTBBJTIwJTIwJTIwJTIwd2FhcmRlbmJ1cmcyMDEzYSUyQyUyMGNoYW4yMDA5YSUyQyUyMHJlZiUzRCUyMiUyMiUyQyUwQSUyMCUyMCUyMCUyMGNvbnRleHRzJTNEJTVCJTBBJTBBJTIwJTIwJTIwJTIwJTVEJTJDJTBBJTI5JTI5JTBBJTBBJTI3JTI3JTI3JTJDJTIwY2l0YXRpb25zJTNEJTI3d2FhcmRlbmJ1cmcyMDEzYSUyNyUyOSUzQg==\")));\n",
       "    "
      ],
      "text/plain": [
       "<IPython.core.display.Javascript object>"
      ]
     },
     "metadata": {},
     "output_type": "display_data"
    },
    {
     "data": {
      "application/javascript": [
       "$('span:contains(\"# Temp\")').closest('.cell').remove();"
      ],
      "text/plain": [
       "<IPython.core.display.Javascript object>"
      ]
     },
     "metadata": {},
     "output_type": "display_data"
    },
    {
     "data": {
      "application/javascript": [
       "\n",
       "        $('span:contains(\"# Temp\")').closest('.cell').remove();\n",
       "        var code = IPython.notebook.insert_cell_below('code');\n",
       "        code.set_text(decodeURIComponent(window.atob(\"JTIzJTIwVGVtcCUwQWluc2VydCUyOCUyNyUyNyUyNyUwQWNoYW4yMDA5YSUyMCUzRCUyMERCJTI4V29ya1VucmVsYXRlZCUyOCUwQSUyMCUyMCUyMCUyMDIwMDklMkMlMjAlMjJBY2NlcHRhbmNlJTIwb2YlMjBhZ2lsZSUyMG1ldGhvZG9sb2dpZXMlM0ElMjBBJTIwY3JpdGljYWwlMjByZXZpZXclMjBhbmQlMjBjb25jZXB0dWFsJTIwZnJhbWV3b3JrJTIyJTJDJTBBJTIwJTIwJTIwJTIwZGlzcGxheSUzRCUyMmNoYW4lMjIlMkMlMEElMjAlMjAlMjAlMjBhdXRob3JzJTNEJTIyQ2hhbiUyQyUyMEYuSy5ZLiUyMGFuZCUyMFRob25nJTJDJTIwSi5ZLkwuJTIyJTJDJTBBJTIwJTIwJTIwJTIwcGxhY2UlM0RGQUtFJTJDJTBBJTIwJTIwJTIwJTIwcHAlM0QlMjI4MDMtODE0JTIyJTJDJTBBJTIwJTIwJTIwJTIwZW50cnl0eXBlJTNEJTIyYXJ0aWNsZSUyMiUyQyUwQSUyMCUyMCUyMCUyMHZvbHVtZSUzRCUyMjQ2JTIyJTJDJTBBJTIwJTIwJTIwJTIwbnVtYmVyJTNEJTIyNCUyMiUyQyUwQSUyMCUyMCUyMCUyMGRvaSUzRCUyMjEwLjEwMTYvai5kc3MuMjAwOC4xMS4wMDklMjIlMkMlMEElMjAlMjAlMjAlMjBub3RlJTNEJTIyY2l0ZWQlMjBCeSUyMDgwJTIyJTJDJTBBJTIwJTIwJTIwJTIwSUQlM0QlMjJDaGFuMjAwOTgwMyUyMiUyQyUwQSUyMCUyMCUyMCUyMHBsYWNleCUzRCUyMkRlY2lzaW9uJTIwU3VwcG9ydCUyMFN5c3RlbXMlMjIlMkMlMEElMjklMjklMEElMEFEQiUyOENpdGF0aW9uJTI4JTBBJTIwJTIwJTIwJTIwd2FhcmRlbmJ1cmcyMDEzYSUyQyUyMGNoYW4yMDA5YSUyQyUyMHJlZiUzRCUyMiUyMiUyQyUwQSUyMCUyMCUyMCUyMGNvbnRleHRzJTNEJTVCJTBBJTBBJTIwJTIwJTIwJTIwJTVEJTJDJTBBJTI5JTI5JTBBJTBBJTI3JTI3JTI3JTJDJTIwY2l0YXRpb25zJTNEJTI3d2FhcmRlbmJ1cmcyMDEzYSUyNyUyOSUzQg==\")));\n",
       "    "
      ],
      "text/plain": [
       "<IPython.core.display.Javascript object>"
      ]
     },
     "metadata": {},
     "output_type": "display_data"
    },
    {
     "data": {
      "application/javascript": [
       "$('span:contains(\"# Temp\")').closest('.cell').remove();"
      ],
      "text/plain": [
       "<IPython.core.display.Javascript object>"
      ]
     },
     "metadata": {},
     "output_type": "display_data"
    },
    {
     "data": {
      "application/javascript": [
       "\n",
       "        $('span:contains(\"# Temp\")').closest('.cell').remove();\n",
       "        var code = IPython.notebook.insert_cell_below('code');\n",
       "        code.set_text(decodeURIComponent(window.atob(\"JTIzJTIwVGVtcCUwQWluc2VydCUyOCUyNyUyNyUyNyUwQURCJTI4Q2l0YXRpb24lMjglMEElMjAlMjAlMjAlMjB3YWFyZGVuYnVyZzIwMTNhJTJDJTIwY29ja2J1cm4yMDAyYSUyQyUyMHJlZiUzRCUyMiUyMiUyQyUwQSUyMCUyMCUyMCUyMGNvbnRleHRzJTNEJTVCJTBBJTBBJTIwJTIwJTIwJTIwJTVEJTJDJTBBJTI5JTI5JTBBJTBBJTI3JTI3JTI3JTJDJTIwY2l0YXRpb25zJTNEJTI3d2FhcmRlbmJ1cmcyMDEzYSUyNyUyOSUzQg==\")));\n",
       "    "
      ],
      "text/plain": [
       "<IPython.core.display.Javascript object>"
      ]
     },
     "metadata": {},
     "output_type": "display_data"
    },
    {
     "data": {
      "application/javascript": [
       "$('span:contains(\"# Temp\")').closest('.cell').remove();"
      ],
      "text/plain": [
       "<IPython.core.display.Javascript object>"
      ]
     },
     "metadata": {},
     "output_type": "display_data"
    },
    {
     "data": {
      "application/javascript": [
       "\n",
       "        $('span:contains(\"# Temp\")').closest('.cell').remove();\n",
       "        var code = IPython.notebook.insert_cell_below('code');\n",
       "        code.set_text(decodeURIComponent(window.atob(\"JTIzJTIwVGVtcCUwQWluc2VydCUyOCUyNyUyNyUyNyUwQURCJTI4Q2l0YXRpb24lMjglMEElMjAlMjAlMjAlMjB3YWFyZGVuYnVyZzIwMTNhJTJDJTIwY29ja2J1cm4yMDAyYSUyQyUyMHJlZiUzRCUyMiUyMiUyQyUwQSUyMCUyMCUyMCUyMGNvbnRleHRzJTNEJTVCJTBBJTBBJTIwJTIwJTIwJTIwJTVEJTJDJTBBJTI5JTI5JTBBJTBBJTI3JTI3JTI3JTJDJTIwY2l0YXRpb25zJTNEJTI3d2FhcmRlbmJ1cmcyMDEzYSUyNyUyOSUzQg==\")));\n",
       "    "
      ],
      "text/plain": [
       "<IPython.core.display.Javascript object>"
      ]
     },
     "metadata": {},
     "output_type": "display_data"
    },
    {
     "data": {
      "application/javascript": [
       "$('span:contains(\"# Temp\")').closest('.cell').remove();"
      ],
      "text/plain": [
       "<IPython.core.display.Javascript object>"
      ]
     },
     "metadata": {},
     "output_type": "display_data"
    },
    {
     "data": {
      "application/javascript": [
       "\n",
       "        $('span:contains(\"# Temp\")').closest('.cell').remove();\n",
       "        var code = IPython.notebook.insert_cell_below('code');\n",
       "        code.set_text(decodeURIComponent(window.atob(\"JTIzJTIwVGVtcCUwQWluc2VydCUyOCUyNyUyNyUyNyUwQURCJTI4Q2l0YXRpb24lMjglMEElMjAlMjAlMjAlMjB3YWFyZGVuYnVyZzIwMTNhJTJDJTIwY29ja2J1cm4yMDAxYSUyQyUyMHJlZiUzRCUyMiUyMiUyQyUwQSUyMCUyMCUyMCUyMGNvbnRleHRzJTNEJTVCJTBBJTBBJTIwJTIwJTIwJTIwJTVEJTJDJTBBJTI5JTI5JTBBJTBBJTI3JTI3JTI3JTJDJTIwY2l0YXRpb25zJTNEJTI3d2FhcmRlbmJ1cmcyMDEzYSUyNyUyOSUzQg==\")));\n",
       "    "
      ],
      "text/plain": [
       "<IPython.core.display.Javascript object>"
      ]
     },
     "metadata": {},
     "output_type": "display_data"
    },
    {
     "data": {
      "application/javascript": [
       "$('span:contains(\"# Temp\")').closest('.cell').remove();"
      ],
      "text/plain": [
       "<IPython.core.display.Javascript object>"
      ]
     },
     "metadata": {},
     "output_type": "display_data"
    },
    {
     "data": {
      "application/javascript": [
       "\n",
       "        $('span:contains(\"# Temp\")').closest('.cell').remove();\n",
       "        var code = IPython.notebook.insert_cell_below('code');\n",
       "        code.set_text(decodeURIComponent(window.atob(\"JTIzJTIwVGVtcCUwQWluc2VydCUyOCUyNyUyNyUyNyUwQURCJTI4Q2l0YXRpb24lMjglMEElMjAlMjAlMjAlMjB3YWFyZGVuYnVyZzIwMTNhJTJDJTIwY29ja2J1cm4yMDAxYSUyQyUyMHJlZiUzRCUyMiUyMiUyQyUwQSUyMCUyMCUyMCUyMGNvbnRleHRzJTNEJTVCJTBBJTBBJTIwJTIwJTIwJTIwJTVEJTJDJTBBJTI5JTI5JTBBJTBBJTI3JTI3JTI3JTJDJTIwY2l0YXRpb25zJTNEJTI3d2FhcmRlbmJ1cmcyMDEzYSUyNyUyOSUzQg==\")));\n",
       "    "
      ],
      "text/plain": [
       "<IPython.core.display.Javascript object>"
      ]
     },
     "metadata": {},
     "output_type": "display_data"
    },
    {
     "data": {
      "application/javascript": [
       "$('span:contains(\"# Temp\")').closest('.cell').remove();"
      ],
      "text/plain": [
       "<IPython.core.display.Javascript object>"
      ]
     },
     "metadata": {},
     "output_type": "display_data"
    },
    {
     "data": {
      "application/javascript": [
       "\n",
       "        $('span:contains(\"# Temp\")').closest('.cell').remove();\n",
       "        var code = IPython.notebook.insert_cell_below('code');\n",
       "        code.set_text(decodeURIComponent(window.atob(\"JTIzJTIwVGVtcCUwQWluc2VydCUyOCUyNyUyNyUyNyUwQWNvaG4yMDAzYSUyMCUzRCUyMERCJTI4V29ya1VucmVsYXRlZCUyOCUwQSUyMCUyMCUyMCUyMDIwMDMlMkMlMjAlMjJJbnRyb2R1Y2luZyUyMGFuJTIwYWdpbGUlMjBwcm9jZXNzJTIwdG8lMjBhbiUyMG9yZ2FuaXphdGlvbiUyMiUyQyUwQSUyMCUyMCUyMCUyMGRpc3BsYXklM0QlMjJjb2huJTIyJTJDJTBBJTIwJTIwJTIwJTIwYXV0aG9ycyUzRCUyMkNvaG4lMkMlMjBNLiUyMGFuZCUyMEZvcmQlMkMlMjBELiUyMiUyQyUwQSUyMCUyMCUyMCUyMHBsYWNlJTNEQyUyQyUwQSUyMCUyMCUyMCUyMHBwJTNEJTIyNzQtNzglMjIlMkMlMEElMjAlMjAlMjAlMjBlbnRyeXR5cGUlM0QlMjJhcnRpY2xlJTIyJTJDJTBBJTIwJTIwJTIwJTIwdm9sdW1lJTNEJTIyMzYlMjIlMkMlMEElMjAlMjAlMjAlMjBudW1iZXIlM0QlMjI2JTIyJTJDJTBBJTIwJTIwJTIwJTIwZG9pJTNEJTIyMTAuMTEwOS9NQy4yMDAzLjEyMDQzNzglMjIlMkMlMEElMjAlMjAlMjAlMjBub3RlJTNEJTIyY2l0ZWQlMjBCeSUyMDk5JTIyJTJDJTBBJTIwJTIwJTIwJTIwSUQlM0QlMjJDb2huMjAwMzc0JTIyJTJDJTBBJTIwJTIwJTIwJTIwcGxhY2V4JTNEJTIyQ29tcHV0ZXIlMjIlMkMlMEElMjklMjklMEElMEFEQiUyOENpdGF0aW9uJTI4JTBBJTIwJTIwJTIwJTIwd2FhcmRlbmJ1cmcyMDEzYSUyQyUyMGNvaG4yMDAzYSUyQyUyMHJlZiUzRCUyMiUyMiUyQyUwQSUyMCUyMCUyMCUyMGNvbnRleHRzJTNEJTVCJTBBJTBBJTIwJTIwJTIwJTIwJTVEJTJDJTBBJTI5JTI5JTBBJTBBJTI3JTI3JTI3JTJDJTIwY2l0YXRpb25zJTNEJTI3d2FhcmRlbmJ1cmcyMDEzYSUyNyUyOSUzQg==\")));\n",
       "    "
      ],
      "text/plain": [
       "<IPython.core.display.Javascript object>"
      ]
     },
     "metadata": {},
     "output_type": "display_data"
    },
    {
     "data": {
      "application/javascript": [
       "$('span:contains(\"# Temp\")').closest('.cell').remove();"
      ],
      "text/plain": [
       "<IPython.core.display.Javascript object>"
      ]
     },
     "metadata": {},
     "output_type": "display_data"
    },
    {
     "data": {
      "application/javascript": [
       "\n",
       "        $('span:contains(\"# Temp\")').closest('.cell').remove();\n",
       "        var code = IPython.notebook.insert_cell_below('code');\n",
       "        code.set_text(decodeURIComponent(window.atob(\"JTIzJTIwVGVtcCUwQWluc2VydCUyOCUyNyUyNyUyNyUwQWNvaG4yMDAzYSUyMCUzRCUyMERCJTI4V29ya1VucmVsYXRlZCUyOCUwQSUyMCUyMCUyMCUyMDIwMDMlMkMlMjAlMjJJbnRyb2R1Y2luZyUyMGFuJTIwYWdpbGUlMjBwcm9jZXNzJTIwdG8lMjBhbiUyMG9yZ2FuaXphdGlvbiUyMiUyQyUwQSUyMCUyMCUyMCUyMGRpc3BsYXklM0QlMjJjb2huJTIyJTJDJTBBJTIwJTIwJTIwJTIwYXV0aG9ycyUzRCUyMkNvaG4lMkMlMjBNLiUyMGFuZCUyMEZvcmQlMkMlMjBELiUyMiUyQyUwQSUyMCUyMCUyMCUyMHBsYWNlJTNEQyUyQyUwQSUyMCUyMCUyMCUyMHBwJTNEJTIyNzQtNzglMjIlMkMlMEElMjAlMjAlMjAlMjBlbnRyeXR5cGUlM0QlMjJhcnRpY2xlJTIyJTJDJTBBJTIwJTIwJTIwJTIwdm9sdW1lJTNEJTIyMzYlMjIlMkMlMEElMjAlMjAlMjAlMjBudW1iZXIlM0QlMjI2JTIyJTJDJTBBJTIwJTIwJTIwJTIwZG9pJTNEJTIyMTAuMTEwOS9NQy4yMDAzLjEyMDQzNzglMjIlMkMlMEElMjAlMjAlMjAlMjBub3RlJTNEJTIyY2l0ZWQlMjBCeSUyMDk5JTIyJTJDJTBBJTIwJTIwJTIwJTIwSUQlM0QlMjJDb2huMjAwMzc0JTIyJTJDJTBBJTIwJTIwJTIwJTIwcGxhY2V4JTNEJTIyQ29tcHV0ZXIlMjIlMkMlMEElMjklMjklMEElMEFEQiUyOENpdGF0aW9uJTI4JTBBJTIwJTIwJTIwJTIwd2FhcmRlbmJ1cmcyMDEzYSUyQyUyMGNvaG4yMDAzYSUyQyUyMHJlZiUzRCUyMiUyMiUyQyUwQSUyMCUyMCUyMCUyMGNvbnRleHRzJTNEJTVCJTBBJTBBJTIwJTIwJTIwJTIwJTVEJTJDJTBBJTI5JTI5JTBBJTBBJTI3JTI3JTI3JTJDJTIwY2l0YXRpb25zJTNEJTI3d2FhcmRlbmJ1cmcyMDEzYSUyNyUyOSUzQg==\")));\n",
       "    "
      ],
      "text/plain": [
       "<IPython.core.display.Javascript object>"
      ]
     },
     "metadata": {},
     "output_type": "display_data"
    },
    {
     "data": {
      "application/javascript": [
       "$('span:contains(\"# Temp\")').closest('.cell').remove();"
      ],
      "text/plain": [
       "<IPython.core.display.Javascript object>"
      ]
     },
     "metadata": {},
     "output_type": "display_data"
    },
    {
     "data": {
      "application/javascript": [
       "\n",
       "        $('span:contains(\"# Temp\")').closest('.cell').remove();\n",
       "        var code = IPython.notebook.insert_cell_below('code');\n",
       "        code.set_text(decodeURIComponent(window.atob(\"JTIzJTIwVGVtcCUwQWluc2VydCUyOCUyNyUyNyUyNyUwQURCJTI4Q2l0YXRpb24lMjglMEElMjAlMjAlMjAlMjB3YWFyZGVuYnVyZzIwMTNhJTJDJTIwY29sZW1hbjIwMDdhJTJDJTIwcmVmJTNEJTIyJTIyJTJDJTBBJTIwJTIwJTIwJTIwY29udGV4dHMlM0QlNUIlMEElMEElMjAlMjAlMjAlMjAlNUQlMkMlMEElMjklMjklMEElMEElMjclMjclMjclMkMlMjBjaXRhdGlvbnMlM0QlMjd3YWFyZGVuYnVyZzIwMTNhJTI3JTI5JTNC\")));\n",
       "    "
      ],
      "text/plain": [
       "<IPython.core.display.Javascript object>"
      ]
     },
     "metadata": {},
     "output_type": "display_data"
    },
    {
     "data": {
      "application/javascript": [
       "$('span:contains(\"# Temp\")').closest('.cell').remove();"
      ],
      "text/plain": [
       "<IPython.core.display.Javascript object>"
      ]
     },
     "metadata": {},
     "output_type": "display_data"
    },
    {
     "data": {
      "application/javascript": [
       "\n",
       "        $('span:contains(\"# Temp\")').closest('.cell').remove();\n",
       "        var code = IPython.notebook.insert_cell_below('code');\n",
       "        code.set_text(decodeURIComponent(window.atob(\"JTIzJTIwVGVtcCUwQWluc2VydCUyOCUyNyUyNyUyNyUwQURCJTI4Q2l0YXRpb24lMjglMEElMjAlMjAlMjAlMjB3YWFyZGVuYnVyZzIwMTNhJTJDJTIwY29sZW1hbjIwMDdhJTJDJTIwcmVmJTNEJTIyJTIyJTJDJTBBJTIwJTIwJTIwJTIwY29udGV4dHMlM0QlNUIlMEElMEElMjAlMjAlMjAlMjAlNUQlMkMlMEElMjklMjklMEElMEElMjclMjclMjclMkMlMjBjaXRhdGlvbnMlM0QlMjd3YWFyZGVuYnVyZzIwMTNhJTI3JTI5JTNC\")));\n",
       "    "
      ],
      "text/plain": [
       "<IPython.core.display.Javascript object>"
      ]
     },
     "metadata": {},
     "output_type": "display_data"
    },
    {
     "data": {
      "application/javascript": [
       "$('span:contains(\"# Temp\")').closest('.cell').remove();"
      ],
      "text/plain": [
       "<IPython.core.display.Javascript object>"
      ]
     },
     "metadata": {},
     "output_type": "display_data"
    },
    {
     "data": {
      "application/javascript": [
       "\n",
       "        $('span:contains(\"# Temp\")').closest('.cell').remove();\n",
       "        var code = IPython.notebook.insert_cell_below('code');\n",
       "        code.set_text(decodeURIComponent(window.atob(\"JTIzJTIwVGVtcCUwQWluc2VydCUyOCUyNyUyNyUyNyUwQURCJTI4Q2l0YXRpb24lMjglMEElMjAlMjAlMjAlMjB3YWFyZGVuYnVyZzIwMTNhJTJDJTIwY29uYm95MjAwOWElMkMlMjByZWYlM0QlMjIlMjIlMkMlMEElMjAlMjAlMjAlMjBjb250ZXh0cyUzRCU1QiUwQSUwQSUyMCUyMCUyMCUyMCU1RCUyQyUwQSUyOSUyOSUwQSUwQSUyNyUyNyUyNyUyQyUyMGNpdGF0aW9ucyUzRCUyN3dhYXJkZW5idXJnMjAxM2ElMjclMjklM0I=\")));\n",
       "    "
      ],
      "text/plain": [
       "<IPython.core.display.Javascript object>"
      ]
     },
     "metadata": {},
     "output_type": "display_data"
    },
    {
     "data": {
      "application/javascript": [
       "$('span:contains(\"# Temp\")').closest('.cell').remove();"
      ],
      "text/plain": [
       "<IPython.core.display.Javascript object>"
      ]
     },
     "metadata": {},
     "output_type": "display_data"
    },
    {
     "data": {
      "application/javascript": [
       "\n",
       "        $('span:contains(\"# Temp\")').closest('.cell').remove();\n",
       "        var code = IPython.notebook.insert_cell_below('code');\n",
       "        code.set_text(decodeURIComponent(window.atob(\"JTIzJTIwVGVtcCUwQWluc2VydCUyOCUyNyUyNyUyNyUwQURCJTI4Q2l0YXRpb24lMjglMEElMjAlMjAlMjAlMjB3YWFyZGVuYnVyZzIwMTNhJTJDJTIwY29uYm95MjAwOWElMkMlMjByZWYlM0QlMjIlMjIlMkMlMEElMjAlMjAlMjAlMjBjb250ZXh0cyUzRCU1QiUwQSUwQSUyMCUyMCUyMCUyMCU1RCUyQyUwQSUyOSUyOSUwQSUwQSUyNyUyNyUyNyUyQyUyMGNpdGF0aW9ucyUzRCUyN3dhYXJkZW5idXJnMjAxM2ElMjclMjklM0I=\")));\n",
       "    "
      ],
      "text/plain": [
       "<IPython.core.display.Javascript object>"
      ]
     },
     "metadata": {},
     "output_type": "display_data"
    },
    {
     "data": {
      "application/javascript": [
       "$('span:contains(\"# Temp\")').closest('.cell').remove();"
      ],
      "text/plain": [
       "<IPython.core.display.Javascript object>"
      ]
     },
     "metadata": {},
     "output_type": "display_data"
    },
    {
     "data": {
      "application/javascript": [
       "\n",
       "        $('span:contains(\"# Temp\")').closest('.cell').remove();\n",
       "        var code = IPython.notebook.insert_cell_below('code');\n",
       "        code.set_text(decodeURIComponent(window.atob(\"JTIzJTIwVGVtcCUwQWluc2VydCUyOCUyNyUyNyUyNyUwQWNvbmJveTIwMDdhJTIwJTNEJTIwREIlMjhXb3JrVW5yZWxhdGVkJTI4JTBBJTIwJTIwJTIwJTIwMjAwNyUyQyUyMCUyMlRoZSUyMHZpZXdzJTIwb2YlMjBleHBlcnRzJTIwb24lMjB0aGUlMjBjdXJyZW50JTIwc3RhdGUlMjBvZiUyMGFnaWxlJTIwbWV0aG9kJTIwdGFpbG9yaW5nJTIyJTJDJTBBJTIwJTIwJTIwJTIwZGlzcGxheSUzRCUyMmNvbmJveSUyMiUyQyUwQSUyMCUyMCUyMCUyMGF1dGhvcnMlM0QlMjJDb25ib3klMkMlMjBLLiUyMGFuZCUyMEZpdHpnZXJhbGQlMkMlMjBCLiUyMiUyQyUwQSUyMCUyMCUyMCUyMHBsYWNlJTNERkFLRSUyQyUwQSUyMCUyMCUyMCUyMHBwJTNEJTIyMjE3LTIzNCUyMiUyQyUwQSUyMCUyMCUyMCUyMGVudHJ5dHlwZSUzRCUyMmFydGljbGUlMjIlMkMlMEElMjAlMjAlMjAlMjB2b2x1bWUlM0QlMjIyMzUlMjIlMkMlMEElMjAlMjAlMjAlMjBkb2klM0QlMjIxMC4xMDA3Lzk3OC0wLTM4Ny03MjgwNC05XzE1JTIyJTJDJTBBJTIwJTIwJTIwJTIwbm90ZSUzRCUyMmNpdGVkJTIwQnklMjA5JTIyJTJDJTBBJTIwJTIwJTIwJTIwSUQlM0QlMjJDb25ib3kyMDA3MjE3JTIyJTJDJTBBJTIwJTIwJTIwJTIwcGxhY2V4JTNEJTIySUZJUCUyMEludGVybmF0aW9uYWwlMjBGZWRlcmF0aW9uJTIwZm9yJTIwSW5mb3JtYXRpb24lMjBQcm9jZXNzaW5nJTIyJTJDJTBBJTI5JTI5JTBBJTBBREIlMjhDaXRhdGlvbiUyOCUwQSUyMCUyMCUyMCUyMHdhYXJkZW5idXJnMjAxM2ElMkMlMjBjb25ib3kyMDA3YSUyQyUyMHJlZiUzRCUyMiUyMiUyQyUwQSUyMCUyMCUyMCUyMGNvbnRleHRzJTNEJTVCJTBBJTBBJTIwJTIwJTIwJTIwJTVEJTJDJTBBJTI5JTI5JTBBJTBBJTI3JTI3JTI3JTJDJTIwY2l0YXRpb25zJTNEJTI3d2FhcmRlbmJ1cmcyMDEzYSUyNyUyOSUzQg==\")));\n",
       "    "
      ],
      "text/plain": [
       "<IPython.core.display.Javascript object>"
      ]
     },
     "metadata": {},
     "output_type": "display_data"
    },
    {
     "data": {
      "application/javascript": [
       "$('span:contains(\"# Temp\")').closest('.cell').remove();"
      ],
      "text/plain": [
       "<IPython.core.display.Javascript object>"
      ]
     },
     "metadata": {},
     "output_type": "display_data"
    },
    {
     "data": {
      "application/javascript": [
       "\n",
       "        $('span:contains(\"# Temp\")').closest('.cell').remove();\n",
       "        var code = IPython.notebook.insert_cell_below('code');\n",
       "        code.set_text(decodeURIComponent(window.atob(\"JTIzJTIwVGVtcCUwQWluc2VydCUyOCUyNyUyNyUyNyUwQWNvbmJveTIwMDdhJTIwJTNEJTIwREIlMjhXb3JrVW5yZWxhdGVkJTI4JTBBJTIwJTIwJTIwJTIwMjAwNyUyQyUyMCUyMlRoZSUyMHZpZXdzJTIwb2YlMjBleHBlcnRzJTIwb24lMjB0aGUlMjBjdXJyZW50JTIwc3RhdGUlMjBvZiUyMGFnaWxlJTIwbWV0aG9kJTIwdGFpbG9yaW5nJTIyJTJDJTBBJTIwJTIwJTIwJTIwZGlzcGxheSUzRCUyMmNvbmJveSUyMiUyQyUwQSUyMCUyMCUyMCUyMGF1dGhvcnMlM0QlMjJDb25ib3klMkMlMjBLLiUyMGFuZCUyMEZpdHpnZXJhbGQlMkMlMjBCLiUyMiUyQyUwQSUyMCUyMCUyMCUyMHBsYWNlJTNERkFLRSUyQyUwQSUyMCUyMCUyMCUyMHBwJTNEJTIyMjE3LTIzNCUyMiUyQyUwQSUyMCUyMCUyMCUyMGVudHJ5dHlwZSUzRCUyMmFydGljbGUlMjIlMkMlMEElMjAlMjAlMjAlMjB2b2x1bWUlM0QlMjIyMzUlMjIlMkMlMEElMjAlMjAlMjAlMjBkb2klM0QlMjIxMC4xMDA3Lzk3OC0wLTM4Ny03MjgwNC05XzE1JTIyJTJDJTBBJTIwJTIwJTIwJTIwbm90ZSUzRCUyMmNpdGVkJTIwQnklMjA5JTIyJTJDJTBBJTIwJTIwJTIwJTIwSUQlM0QlMjJDb25ib3kyMDA3MjE3JTIyJTJDJTBBJTIwJTIwJTIwJTIwcGxhY2V4JTNEJTIySUZJUCUyMEludGVybmF0aW9uYWwlMjBGZWRlcmF0aW9uJTIwZm9yJTIwSW5mb3JtYXRpb24lMjBQcm9jZXNzaW5nJTIyJTJDJTBBJTI5JTI5JTBBJTBBREIlMjhDaXRhdGlvbiUyOCUwQSUyMCUyMCUyMCUyMHdhYXJkZW5idXJnMjAxM2ElMkMlMjBjb25ib3kyMDA3YSUyQyUyMHJlZiUzRCUyMiUyMiUyQyUwQSUyMCUyMCUyMCUyMGNvbnRleHRzJTNEJTVCJTBBJTBBJTIwJTIwJTIwJTIwJTVEJTJDJTBBJTI5JTI5JTBBJTBBJTI3JTI3JTI3JTJDJTIwY2l0YXRpb25zJTNEJTI3d2FhcmRlbmJ1cmcyMDEzYSUyNyUyOSUzQg==\")));\n",
       "    "
      ],
      "text/plain": [
       "<IPython.core.display.Javascript object>"
      ]
     },
     "metadata": {},
     "output_type": "display_data"
    },
    {
     "data": {
      "application/javascript": [
       "$('span:contains(\"# Temp\")').closest('.cell').remove();"
      ],
      "text/plain": [
       "<IPython.core.display.Javascript object>"
      ]
     },
     "metadata": {},
     "output_type": "display_data"
    },
    {
     "data": {
      "application/javascript": [
       "\n",
       "        $('span:contains(\"# Temp\")').closest('.cell').remove();\n",
       "        var code = IPython.notebook.insert_cell_below('code');\n",
       "        code.set_text(decodeURIComponent(window.atob(\"JTIzJTIwVGVtcCUwQWluc2VydCUyOCUyNyUyNyUyNyUwQWRlbmlzb24xOTkxYSUyMCUzRCUyMERCJTI4V29ya1VucmVsYXRlZCUyOCUwQSUyMCUyMCUyMCUyMDE5OTElMkMlMjAlMjJSZXNlYXJjaCUyMGluJTIwb3JnYW5pemF0aW9uYWwlMjBjaGFuZ2UlMjBhbmQlMjBkZXZlbG9wbWVudCUyMiUyQyUwQSUyMCUyMCUyMCUyMGRpc3BsYXklM0QlMjJkZW5pc29uJTIyJTJDJTBBJTIwJTIwJTIwJTIwYXV0aG9ycyUzRCUyMkRlbmlzb24lMkMlMjBELlIuJTIwYW5kJTIwU3ByZWl0emVyJTJDJTIwRy5NLiUyMiUyQyUwQSUyMCUyMCUyMCUyMHBsYWNlJTNERkFLRSUyQyUwQSUyMCUyMCUyMCUyMHBwJTNEJTIyMS0yMSUyMiUyQyUwQSUyMCUyMCUyMCUyMGVudHJ5dHlwZSUzRCUyMmFydGljbGUlMjIlMkMlMEElMjAlMjAlMjAlMjB2b2x1bWUlM0QlMjI1JTIyJTJDJTBBJTIwJTIwJTIwJTIwbm90ZSUzRCUyMmNpdGVkJTIwQnklMjAyJTIyJTJDJTBBJTIwJTIwJTIwJTIwSUQlM0QlMjJEZW5pc29uMTk5MTElMjIlMkMlMEElMjAlMjAlMjAlMjBwbGFjZXglM0QlMjJPcmdhbml6YXRpb25hbCUyMGN1bHR1cmUlMjBhbmQlMjBvcmdhbml6YXRpb25hbCUyMGRldmVsb3BtZW50JTNBJTIwQSUyMGNvbXBldGluZyUyMHZhbHVlcyUyMGFwcHJvYWNoJTIyJTJDJTBBJTI5JTI5JTBBJTBBREIlMjhDaXRhdGlvbiUyOCUwQSUyMCUyMCUyMCUyMHdhYXJkZW5idXJnMjAxM2ElMkMlMjBkZW5pc29uMTk5MWElMkMlMjByZWYlM0QlMjIlMjIlMkMlMEElMjAlMjAlMjAlMjBjb250ZXh0cyUzRCU1QiUwQSUwQSUyMCUyMCUyMCUyMCU1RCUyQyUwQSUyOSUyOSUwQSUwQSUyNyUyNyUyNyUyQyUyMGNpdGF0aW9ucyUzRCUyN3dhYXJkZW5idXJnMjAxM2ElMjclMjklM0I=\")));\n",
       "    "
      ],
      "text/plain": [
       "<IPython.core.display.Javascript object>"
      ]
     },
     "metadata": {},
     "output_type": "display_data"
    },
    {
     "data": {
      "application/javascript": [
       "$('span:contains(\"# Temp\")').closest('.cell').remove();"
      ],
      "text/plain": [
       "<IPython.core.display.Javascript object>"
      ]
     },
     "metadata": {},
     "output_type": "display_data"
    },
    {
     "data": {
      "application/javascript": [
       "\n",
       "        $('span:contains(\"# Temp\")').closest('.cell').remove();\n",
       "        var code = IPython.notebook.insert_cell_below('code');\n",
       "        code.set_text(decodeURIComponent(window.atob(\"JTIzJTIwVGVtcCUwQWluc2VydCUyOCUyNyUyNyUyNyUwQWRlbmlzb24xOTkxYSUyMCUzRCUyMERCJTI4V29ya1VucmVsYXRlZCUyOCUwQSUyMCUyMCUyMCUyMDE5OTElMkMlMjAlMjJSZXNlYXJjaCUyMGluJTIwb3JnYW5pemF0aW9uYWwlMjBjaGFuZ2UlMjBhbmQlMjBkZXZlbG9wbWVudCUyMiUyQyUwQSUyMCUyMCUyMCUyMGRpc3BsYXklM0QlMjJkZW5pc29uJTIyJTJDJTBBJTIwJTIwJTIwJTIwYXV0aG9ycyUzRCUyMkRlbmlzb24lMkMlMjBELlIuJTIwYW5kJTIwU3ByZWl0emVyJTJDJTIwRy5NLiUyMiUyQyUwQSUyMCUyMCUyMCUyMHBsYWNlJTNERkFLRSUyQyUwQSUyMCUyMCUyMCUyMHBwJTNEJTIyMS0yMSUyMiUyQyUwQSUyMCUyMCUyMCUyMGVudHJ5dHlwZSUzRCUyMmFydGljbGUlMjIlMkMlMEElMjAlMjAlMjAlMjB2b2x1bWUlM0QlMjI1JTIyJTJDJTBBJTIwJTIwJTIwJTIwbm90ZSUzRCUyMmNpdGVkJTIwQnklMjAyJTIyJTJDJTBBJTIwJTIwJTIwJTIwSUQlM0QlMjJEZW5pc29uMTk5MTElMjIlMkMlMEElMjAlMjAlMjAlMjBwbGFjZXglM0QlMjJPcmdhbml6YXRpb25hbCUyMGN1bHR1cmUlMjBhbmQlMjBvcmdhbml6YXRpb25hbCUyMGRldmVsb3BtZW50JTNBJTIwQSUyMGNvbXBldGluZyUyMHZhbHVlcyUyMGFwcHJvYWNoJTIyJTJDJTBBJTI5JTI5JTBBJTBBREIlMjhDaXRhdGlvbiUyOCUwQSUyMCUyMCUyMCUyMHdhYXJkZW5idXJnMjAxM2ElMkMlMjBkZW5pc29uMTk5MWElMkMlMjByZWYlM0QlMjIlMjIlMkMlMEElMjAlMjAlMjAlMjBjb250ZXh0cyUzRCU1QiUwQSUwQSUyMCUyMCUyMCUyMCU1RCUyQyUwQSUyOSUyOSUwQSUwQSUyNyUyNyUyNyUyQyUyMGNpdGF0aW9ucyUzRCUyN3dhYXJkZW5idXJnMjAxM2ElMjclMjklM0I=\")));\n",
       "    "
      ],
      "text/plain": [
       "<IPython.core.display.Javascript object>"
      ]
     },
     "metadata": {},
     "output_type": "display_data"
    },
    {
     "data": {
      "application/javascript": [
       "$('span:contains(\"# Temp\")').closest('.cell').remove();"
      ],
      "text/plain": [
       "<IPython.core.display.Javascript object>"
      ]
     },
     "metadata": {},
     "output_type": "display_data"
    },
    {
     "data": {
      "application/javascript": [
       "\n",
       "        $('span:contains(\"# Temp\")').closest('.cell').remove();\n",
       "        var code = IPython.notebook.insert_cell_below('code');\n",
       "        code.set_text(decodeURIComponent(window.atob(\"JTIzJTIwVGVtcCUwQWluc2VydCUyOCUyNyUyNyUyNyUwQWRpbmdzJUMzJUI4eXIyMDEyYSUyMCUzRCUyMERCJTI4V29ya1VucmVsYXRlZCUyOCUwQSUyMCUyMCUyMCUyMDIwMTIlMkMlMjAlMjJBJTIwZGVjYWRlJTIwb2YlMjBhZ2lsZSUyMG1ldGhvZG9sb2dpZXMlM0ElMjBUb3dhcmRzJTIwZXhwbGFpbmluZyUyMGFnaWxlJTIwc29mdHdhcmUlMjBkZXZlbG9wbWVudCUyMiUyQyUwQSUyMCUyMCUyMCUyMGRpc3BsYXklM0QlMjJkaW5ncyVDMyVCOHlyJTIyJTJDJTBBJTIwJTIwJTIwJTIwYXV0aG9ycyUzRCUyMkRpbmdzJUMzJUI4eXIlMkMlMjBULiUyMGFuZCUyME5lcnVyJTJDJTIwUy4lMjBhbmQlMjBCYWxpamVwYWxseSUyQyUyMFYuJTIwYW5kJTIwTW9lJTJDJTIwTi5CLiUyMiUyQyUwQSUyMCUyMCUyMCUyMHBsYWNlJTNESlNTJTJDJTBBJTIwJTIwJTIwJTIwcHAlM0QlMjIxMjEzLTEyMjElMjIlMkMlMEElMjAlMjAlMjAlMjBlbnRyeXR5cGUlM0QlMjJhcnRpY2xlJTIyJTJDJTBBJTIwJTIwJTIwJTIwdm9sdW1lJTNEJTIyODUlMjIlMkMlMEElMjAlMjAlMjAlMjBudW1iZXIlM0QlMjI2JTIyJTJDJTBBJTIwJTIwJTIwJTIwZG9pJTNEJTIyMTAuMTAxNi9qLmpzcy4yMDEyLjAyLjAzMyUyMiUyQyUwQSUyMCUyMCUyMCUyMG5vdGUlM0QlMjJjaXRlZCUyMEJ5JTIwMzAxJTIyJTJDJTBBJTIwJTIwJTIwJTIwSUQlM0QlMjJEaW5ncyVDMyVCOHlyMjAxMjEyMTMlMjIlMkMlMEElMjAlMjAlMjAlMjBwbGFjZXglM0QlMjJKb3VybmFsJTIwb2YlMjBTeXN0ZW1zJTIwYW5kJTIwU29mdHdhcmUlMjIlMkMlMEElMjklMjklMEElMEFEQiUyOENpdGF0aW9uJTI4JTBBJTIwJTIwJTIwJTIwd2FhcmRlbmJ1cmcyMDEzYSUyQyUyMGRpbmdzJUMzJUI4eXIyMDEyYSUyQyUyMHJlZiUzRCUyMiUyMiUyQyUwQSUyMCUyMCUyMCUyMGNvbnRleHRzJTNEJTVCJTBBJTBBJTIwJTIwJTIwJTIwJTVEJTJDJTBBJTI5JTI5JTBBJTBBJTI3JTI3JTI3JTJDJTIwY2l0YXRpb25zJTNEJTI3d2FhcmRlbmJ1cmcyMDEzYSUyNyUyOSUzQg==\")));\n",
       "    "
      ],
      "text/plain": [
       "<IPython.core.display.Javascript object>"
      ]
     },
     "metadata": {},
     "output_type": "display_data"
    },
    {
     "data": {
      "application/javascript": [
       "$('span:contains(\"# Temp\")').closest('.cell').remove();"
      ],
      "text/plain": [
       "<IPython.core.display.Javascript object>"
      ]
     },
     "metadata": {},
     "output_type": "display_data"
    },
    {
     "data": {
      "application/javascript": [
       "\n",
       "        $('span:contains(\"# Temp\")').closest('.cell').remove();\n",
       "        var code = IPython.notebook.insert_cell_below('code');\n",
       "        code.set_text(decodeURIComponent(window.atob(\"JTIzJTIwVGVtcCUwQWluc2VydCUyOCUyNyUyNyUyNyUwQWRpbmdzJUMzJUI4eXIyMDEyYSUyMCUzRCUyMERCJTI4V29ya1VucmVsYXRlZCUyOCUwQSUyMCUyMCUyMCUyMDIwMTIlMkMlMjAlMjJBJTIwZGVjYWRlJTIwb2YlMjBhZ2lsZSUyMG1ldGhvZG9sb2dpZXMlM0ElMjBUb3dhcmRzJTIwZXhwbGFpbmluZyUyMGFnaWxlJTIwc29mdHdhcmUlMjBkZXZlbG9wbWVudCUyMiUyQyUwQSUyMCUyMCUyMCUyMGRpc3BsYXklM0QlMjJkaW5ncyVDMyVCOHlyJTIyJTJDJTBBJTIwJTIwJTIwJTIwYXV0aG9ycyUzRCUyMkRpbmdzJUMzJUI4eXIlMkMlMjBULiUyMGFuZCUyME5lcnVyJTJDJTIwUy4lMjBhbmQlMjBCYWxpamVwYWxseSUyQyUyMFYuJTIwYW5kJTIwTW9lJTJDJTIwTi5CLiUyMiUyQyUwQSUyMCUyMCUyMCUyMHBsYWNlJTNESlNTJTJDJTBBJTIwJTIwJTIwJTIwcHAlM0QlMjIxMjEzLTEyMjElMjIlMkMlMEElMjAlMjAlMjAlMjBlbnRyeXR5cGUlM0QlMjJhcnRpY2xlJTIyJTJDJTBBJTIwJTIwJTIwJTIwdm9sdW1lJTNEJTIyODUlMjIlMkMlMEElMjAlMjAlMjAlMjBudW1iZXIlM0QlMjI2JTIyJTJDJTBBJTIwJTIwJTIwJTIwZG9pJTNEJTIyMTAuMTAxNi9qLmpzcy4yMDEyLjAyLjAzMyUyMiUyQyUwQSUyMCUyMCUyMCUyMG5vdGUlM0QlMjJjaXRlZCUyMEJ5JTIwMzAxJTIyJTJDJTBBJTIwJTIwJTIwJTIwSUQlM0QlMjJEaW5ncyVDMyVCOHlyMjAxMjEyMTMlMjIlMkMlMEElMjAlMjAlMjAlMjBwbGFjZXglM0QlMjJKb3VybmFsJTIwb2YlMjBTeXN0ZW1zJTIwYW5kJTIwU29mdHdhcmUlMjIlMkMlMEElMjklMjklMEElMEFEQiUyOENpdGF0aW9uJTI4JTBBJTIwJTIwJTIwJTIwd2FhcmRlbmJ1cmcyMDEzYSUyQyUyMGRpbmdzJUMzJUI4eXIyMDEyYSUyQyUyMHJlZiUzRCUyMiUyMiUyQyUwQSUyMCUyMCUyMCUyMGNvbnRleHRzJTNEJTVCJTBBJTBBJTIwJTIwJTIwJTIwJTVEJTJDJTBBJTI5JTI5JTBBJTBBJTI3JTI3JTI3JTJDJTIwY2l0YXRpb25zJTNEJTI3d2FhcmRlbmJ1cmcyMDEzYSUyNyUyOSUzQg==\")));\n",
       "    "
      ],
      "text/plain": [
       "<IPython.core.display.Javascript object>"
      ]
     },
     "metadata": {},
     "output_type": "display_data"
    },
    {
     "data": {
      "application/javascript": [
       "$('span:contains(\"# Temp\")').closest('.cell').remove();"
      ],
      "text/plain": [
       "<IPython.core.display.Javascript object>"
      ]
     },
     "metadata": {},
     "output_type": "display_data"
    },
    {
     "data": {
      "application/javascript": [
       "\n",
       "        $('span:contains(\"# Temp\")').closest('.cell').remove();\n",
       "        var code = IPython.notebook.insert_cell_below('code');\n",
       "        code.set_text(decodeURIComponent(window.atob(\"JTIzJTIwVGVtcCUwQWluc2VydCUyOCUyNyUyNyUyNyUwQWRyb2JrYTIwMDRhJTIwJTNEJTIwREIlMjhXb3JrVW5yZWxhdGVkJTI4JTBBJTIwJTIwJTIwJTIwMjAwNCUyQyUyMCUyMlBpbG90aW5nJTIwWFAlMjBvbiUyMGZvdXIlMjBtaXNzaW9uLWNyaXRpY2FsJTIwcHJvamVjdHMlMjIlMkMlMEElMjAlMjAlMjAlMjBkaXNwbGF5JTNEJTIyZHJvYmthJTIyJTJDJTBBJTIwJTIwJTIwJTIwYXV0aG9ycyUzRCUyMkRyb2JrYSUyQyUyMEouJTIwYW5kJTIwTm9mdHolMkMlMjBELiUyMGFuZCUyMFJhZ2h1JTJDJTIwUi4lMjIlMkMlMEElMjAlMjAlMjAlMjBwbGFjZSUzRElFRUVTJTJDJTBBJTIwJTIwJTIwJTIwcHAlM0QlMjI3MC03NSUyMiUyQyUwQSUyMCUyMCUyMCUyMGVudHJ5dHlwZSUzRCUyMmFydGljbGUlMjIlMkMlMEElMjAlMjAlMjAlMjB2b2x1bWUlM0QlMjIyMSUyMiUyQyUwQSUyMCUyMCUyMCUyMG51bWJlciUzRCUyMjYlMjIlMkMlMEElMjAlMjAlMjAlMjBkb2klM0QlMjIxMC4xMTA5L01TLjIwMDQuNDclMjIlMkMlMEElMjAlMjAlMjAlMjBub3RlJTNEJTIyY2l0ZWQlMjBCeSUyMDQxJTIyJTJDJTBBJTIwJTIwJTIwJTIwSUQlM0QlMjJEcm9ia2EyMDA0NzAlMjIlMkMlMEElMjAlMjAlMjAlMjBwbGFjZXglM0QlMjJJRUVFJTIwU29mdHdhcmUlMjIlMkMlMEElMjklMjklMEElMEFEQiUyOENpdGF0aW9uJTI4JTBBJTIwJTIwJTIwJTIwd2FhcmRlbmJ1cmcyMDEzYSUyQyUyMGRyb2JrYTIwMDRhJTJDJTIwcmVmJTNEJTIyJTIyJTJDJTBBJTIwJTIwJTIwJTIwY29udGV4dHMlM0QlNUIlMEElMEElMjAlMjAlMjAlMjAlNUQlMkMlMEElMjklMjklMEElMEElMjclMjclMjclMkMlMjBjaXRhdGlvbnMlM0QlMjd3YWFyZGVuYnVyZzIwMTNhJTI3JTI5JTNC\")));\n",
       "    "
      ],
      "text/plain": [
       "<IPython.core.display.Javascript object>"
      ]
     },
     "metadata": {},
     "output_type": "display_data"
    },
    {
     "data": {
      "application/javascript": [
       "$('span:contains(\"# Temp\")').closest('.cell').remove();"
      ],
      "text/plain": [
       "<IPython.core.display.Javascript object>"
      ]
     },
     "metadata": {},
     "output_type": "display_data"
    },
    {
     "data": {
      "application/javascript": [
       "\n",
       "        $('span:contains(\"# Temp\")').closest('.cell').remove();\n",
       "        var code = IPython.notebook.insert_cell_below('code');\n",
       "        code.set_text(decodeURIComponent(window.atob(\"JTIzJTIwVGVtcCUwQWluc2VydCUyOCUyNyUyNyUyNyUwQWRyb2JrYTIwMDRhJTIwJTNEJTIwREIlMjhXb3JrVW5yZWxhdGVkJTI4JTBBJTIwJTIwJTIwJTIwMjAwNCUyQyUyMCUyMlBpbG90aW5nJTIwWFAlMjBvbiUyMGZvdXIlMjBtaXNzaW9uLWNyaXRpY2FsJTIwcHJvamVjdHMlMjIlMkMlMEElMjAlMjAlMjAlMjBkaXNwbGF5JTNEJTIyZHJvYmthJTIyJTJDJTBBJTIwJTIwJTIwJTIwYXV0aG9ycyUzRCUyMkRyb2JrYSUyQyUyMEouJTIwYW5kJTIwTm9mdHolMkMlMjBELiUyMGFuZCUyMFJhZ2h1JTJDJTIwUi4lMjIlMkMlMEElMjAlMjAlMjAlMjBwbGFjZSUzRElFRUVTJTJDJTBBJTIwJTIwJTIwJTIwcHAlM0QlMjI3MC03NSUyMiUyQyUwQSUyMCUyMCUyMCUyMGVudHJ5dHlwZSUzRCUyMmFydGljbGUlMjIlMkMlMEElMjAlMjAlMjAlMjB2b2x1bWUlM0QlMjIyMSUyMiUyQyUwQSUyMCUyMCUyMCUyMG51bWJlciUzRCUyMjYlMjIlMkMlMEElMjAlMjAlMjAlMjBkb2klM0QlMjIxMC4xMTA5L01TLjIwMDQuNDclMjIlMkMlMEElMjAlMjAlMjAlMjBub3RlJTNEJTIyY2l0ZWQlMjBCeSUyMDQxJTIyJTJDJTBBJTIwJTIwJTIwJTIwSUQlM0QlMjJEcm9ia2EyMDA0NzAlMjIlMkMlMEElMjAlMjAlMjAlMjBwbGFjZXglM0QlMjJJRUVFJTIwU29mdHdhcmUlMjIlMkMlMEElMjklMjklMEElMEFEQiUyOENpdGF0aW9uJTI4JTBBJTIwJTIwJTIwJTIwd2FhcmRlbmJ1cmcyMDEzYSUyQyUyMGRyb2JrYTIwMDRhJTJDJTIwcmVmJTNEJTIyJTIyJTJDJTBBJTIwJTIwJTIwJTIwY29udGV4dHMlM0QlNUIlMEElMEElMjAlMjAlMjAlMjAlNUQlMkMlMEElMjklMjklMEElMEElMjclMjclMjclMkMlMjBjaXRhdGlvbnMlM0QlMjd3YWFyZGVuYnVyZzIwMTNhJTI3JTI5JTNC\")));\n",
       "    "
      ],
      "text/plain": [
       "<IPython.core.display.Javascript object>"
      ]
     },
     "metadata": {},
     "output_type": "display_data"
    },
    {
     "data": {
      "application/javascript": [
       "$('span:contains(\"# Temp\")').closest('.cell').remove();"
      ],
      "text/plain": [
       "<IPython.core.display.Javascript object>"
      ]
     },
     "metadata": {},
     "output_type": "display_data"
    },
    {
     "data": {
      "application/javascript": [
       "\n",
       "        $('span:contains(\"# Temp\")').closest('.cell').remove();\n",
       "        var code = IPython.notebook.insert_cell_below('code');\n",
       "        code.set_text(decodeURIComponent(window.atob(\"JTIzJTIwVGVtcCUwQWluc2VydCUyOCUyNyUyNyUyNyUwQURCJTI4Q2l0YXRpb24lMjglMEElMjAlMjAlMjAlMjB3YWFyZGVuYnVyZzIwMTNhJTJDJTIwZHliJUMzJUE1MjAwOGElMkMlMjByZWYlM0QlMjIlMjIlMkMlMEElMjAlMjAlMjAlMjBjb250ZXh0cyUzRCU1QiUwQSUwQSUyMCUyMCUyMCUyMCU1RCUyQyUwQSUyOSUyOSUwQSUwQSUyNyUyNyUyNyUyQyUyMGNpdGF0aW9ucyUzRCUyN3dhYXJkZW5idXJnMjAxM2ElMjclMjklM0I=\")));\n",
       "    "
      ],
      "text/plain": [
       "<IPython.core.display.Javascript object>"
      ]
     },
     "metadata": {},
     "output_type": "display_data"
    },
    {
     "data": {
      "application/javascript": [
       "$('span:contains(\"# Temp\")').closest('.cell').remove();"
      ],
      "text/plain": [
       "<IPython.core.display.Javascript object>"
      ]
     },
     "metadata": {},
     "output_type": "display_data"
    },
    {
     "data": {
      "application/javascript": [
       "\n",
       "        $('span:contains(\"# Temp\")').closest('.cell').remove();\n",
       "        var code = IPython.notebook.insert_cell_below('code');\n",
       "        code.set_text(decodeURIComponent(window.atob(\"JTIzJTIwVGVtcCUwQWluc2VydCUyOCUyNyUyNyUyNyUwQURCJTI4Q2l0YXRpb24lMjglMEElMjAlMjAlMjAlMjB3YWFyZGVuYnVyZzIwMTNhJTJDJTIwZHliJUMzJUE1MjAwOGElMkMlMjByZWYlM0QlMjIlMjIlMkMlMEElMjAlMjAlMjAlMjBjb250ZXh0cyUzRCU1QiUwQSUwQSUyMCUyMCUyMCUyMCU1RCUyQyUwQSUyOSUyOSUwQSUwQSUyNyUyNyUyNyUyQyUyMGNpdGF0aW9ucyUzRCUyN3dhYXJkZW5idXJnMjAxM2ElMjclMjklM0I=\")));\n",
       "    "
      ],
      "text/plain": [
       "<IPython.core.display.Javascript object>"
      ]
     },
     "metadata": {},
     "output_type": "display_data"
    },
    {
     "data": {
      "application/javascript": [
       "$('span:contains(\"# Temp\")').closest('.cell').remove();"
      ],
      "text/plain": [
       "<IPython.core.display.Javascript object>"
      ]
     },
     "metadata": {},
     "output_type": "display_data"
    },
    {
     "data": {
      "application/javascript": [
       "\n",
       "        $('span:contains(\"# Temp\")').closest('.cell').remove();\n",
       "        var code = IPython.notebook.insert_cell_below('code');\n",
       "        code.set_text(decodeURIComponent(window.atob(\"JTIzJTIwVGVtcCUwQWluc2VydCUyOCUyNyUyNyUyNyUwQURCJTI4Q2l0YXRpb24lMjglMEElMjAlMjAlMjAlMjB3YWFyZGVuYnVyZzIwMTNhJTJDJTIwZnJhc2VyMjAwNGElMkMlMjByZWYlM0QlMjIlMjIlMkMlMEElMjAlMjAlMjAlMjBjb250ZXh0cyUzRCU1QiUwQSUwQSUyMCUyMCUyMCUyMCU1RCUyQyUwQSUyOSUyOSUwQSUwQSUyNyUyNyUyNyUyQyUyMGNpdGF0aW9ucyUzRCUyN3dhYXJkZW5idXJnMjAxM2ElMjclMjklM0I=\")));\n",
       "    "
      ],
      "text/plain": [
       "<IPython.core.display.Javascript object>"
      ]
     },
     "metadata": {},
     "output_type": "display_data"
    },
    {
     "data": {
      "application/javascript": [
       "$('span:contains(\"# Temp\")').closest('.cell').remove();"
      ],
      "text/plain": [
       "<IPython.core.display.Javascript object>"
      ]
     },
     "metadata": {},
     "output_type": "display_data"
    },
    {
     "data": {
      "application/javascript": [
       "\n",
       "        $('span:contains(\"# Temp\")').closest('.cell').remove();\n",
       "        var code = IPython.notebook.insert_cell_below('code');\n",
       "        code.set_text(decodeURIComponent(window.atob(\"JTIzJTIwVGVtcCUwQWluc2VydCUyOCUyNyUyNyUyNyUwQURCJTI4Q2l0YXRpb24lMjglMEElMjAlMjAlMjAlMjB3YWFyZGVuYnVyZzIwMTNhJTJDJTIwZnJhc2VyMjAwNGElMkMlMjByZWYlM0QlMjIlMjIlMkMlMEElMjAlMjAlMjAlMjBjb250ZXh0cyUzRCU1QiUwQSUwQSUyMCUyMCUyMCUyMCU1RCUyQyUwQSUyOSUyOSUwQSUwQSUyNyUyNyUyNyUyQyUyMGNpdGF0aW9ucyUzRCUyN3dhYXJkZW5idXJnMjAxM2ElMjclMjklM0I=\")));\n",
       "    "
      ],
      "text/plain": [
       "<IPython.core.display.Javascript object>"
      ]
     },
     "metadata": {},
     "output_type": "display_data"
    },
    {
     "data": {
      "application/javascript": [
       "$('span:contains(\"# Temp\")').closest('.cell').remove();"
      ],
      "text/plain": [
       "<IPython.core.display.Javascript object>"
      ]
     },
     "metadata": {},
     "output_type": "display_data"
    },
    {
     "data": {
      "application/javascript": [
       "\n",
       "        $('span:contains(\"# Temp\")').closest('.cell').remove();\n",
       "        var code = IPython.notebook.insert_cell_below('code');\n",
       "        code.set_text(decodeURIComponent(window.atob(\"JTIzJTIwVGVtcCUwQWluc2VydCUyOCUyNyUyNyUyNyUwQWdsYXNlcjE5NzhiJTIwJTNEJTIwREIlMjhXb3JrVW5yZWxhdGVkJTI4JTBBJTIwJTIwJTIwJTIwMTk3OCUyQyUyMCUyMkFkdmFuY2VzJTIwaW4lMjB0aGUlMjBtZXRob2RvbG9neSUyMG9mJTIwZ3JvdW5kZWQlMjB0aGVvcnkuJTIwVGhlb3JldGljYWwlMjBzZW5zaXRpdml0eSUyMiUyQyUwQSUyMCUyMCUyMCUyMGRpc3BsYXklM0QlMjJnbGFzZXIlMjBiJTIyJTJDJTBBJTIwJTIwJTIwJTIwYXV0aG9ycyUzRCUyMkdsYXNlciUyQyUyMEIuRy4lMjIlMkMlMEElMjAlMjAlMjAlMjBwbGFjZSUzREZBS0UlMkMlMEElMjAlMjAlMjAlMjBlbnRyeXR5cGUlM0QlMjJhcnRpY2xlJTIyJTJDJTBBJTIwJTIwJTIwJTIwbm90ZSUzRCUyMmNpdGVkJTIwQnklMjAyMDIlMjIlMkMlMEElMjAlMjAlMjAlMjBJRCUzRCUyMkdsYXNlcjE5NzglMjIlMkMlMEElMjAlMjAlMjAlMjBwbGFjZXglM0QlMjJBZHZhbmNlcyUyMGluJTIwdGhlJTIwTWV0aG9kb2xvZ3klMjBvZiUyMEdyb3VuZGVkJTIwVGhlb3J5JTNBJTIwVGhlb3JldGljYWwlMjBTZW5zaXRpdml0eSUyMiUyQyUwQSUyOSUyOSUwQSUwQURCJTI4Q2l0YXRpb24lMjglMEElMjAlMjAlMjAlMjB3YWFyZGVuYnVyZzIwMTNhJTJDJTIwZ2xhc2VyMTk3OGIlMkMlMjByZWYlM0QlMjIlMjIlMkMlMEElMjAlMjAlMjAlMjBjb250ZXh0cyUzRCU1QiUwQSUwQSUyMCUyMCUyMCUyMCU1RCUyQyUwQSUyOSUyOSUwQSUwQSUyNyUyNyUyNyUyQyUyMGNpdGF0aW9ucyUzRCUyN3dhYXJkZW5idXJnMjAxM2ElMjclMjklM0I=\")));\n",
       "    "
      ],
      "text/plain": [
       "<IPython.core.display.Javascript object>"
      ]
     },
     "metadata": {},
     "output_type": "display_data"
    },
    {
     "data": {
      "application/javascript": [
       "$('span:contains(\"# Temp\")').closest('.cell').remove();"
      ],
      "text/plain": [
       "<IPython.core.display.Javascript object>"
      ]
     },
     "metadata": {},
     "output_type": "display_data"
    },
    {
     "data": {
      "application/javascript": [
       "\n",
       "        $('span:contains(\"# Temp\")').closest('.cell').remove();\n",
       "        var code = IPython.notebook.insert_cell_below('code');\n",
       "        code.set_text(decodeURIComponent(window.atob(\"JTIzJTIwVGVtcCUwQWluc2VydCUyOCUyNyUyNyUyNyUwQWdsYXNlcjE5NzhiJTIwJTNEJTIwREIlMjhXb3JrVW5yZWxhdGVkJTI4JTBBJTIwJTIwJTIwJTIwMTk3OCUyQyUyMCUyMkFkdmFuY2VzJTIwaW4lMjB0aGUlMjBtZXRob2RvbG9neSUyMG9mJTIwZ3JvdW5kZWQlMjB0aGVvcnkuJTIwVGhlb3JldGljYWwlMjBzZW5zaXRpdml0eSUyMiUyQyUwQSUyMCUyMCUyMCUyMGRpc3BsYXklM0QlMjJnbGFzZXIlMjBiJTIyJTJDJTBBJTIwJTIwJTIwJTIwYXV0aG9ycyUzRCUyMkdsYXNlciUyQyUyMEIuRy4lMjIlMkMlMEElMjAlMjAlMjAlMjBwbGFjZSUzREZBS0UlMkMlMEElMjAlMjAlMjAlMjBlbnRyeXR5cGUlM0QlMjJhcnRpY2xlJTIyJTJDJTBBJTIwJTIwJTIwJTIwbm90ZSUzRCUyMmNpdGVkJTIwQnklMjAyMDIlMjIlMkMlMEElMjAlMjAlMjAlMjBJRCUzRCUyMkdsYXNlcjE5NzglMjIlMkMlMEElMjAlMjAlMjAlMjBwbGFjZXglM0QlMjJBZHZhbmNlcyUyMGluJTIwdGhlJTIwTWV0aG9kb2xvZ3klMjBvZiUyMEdyb3VuZGVkJTIwVGhlb3J5JTNBJTIwVGhlb3JldGljYWwlMjBTZW5zaXRpdml0eSUyMiUyQyUwQSUyOSUyOSUwQSUwQURCJTI4Q2l0YXRpb24lMjglMEElMjAlMjAlMjAlMjB3YWFyZGVuYnVyZzIwMTNhJTJDJTIwZ2xhc2VyMTk3OGIlMkMlMjByZWYlM0QlMjIlMjIlMkMlMEElMjAlMjAlMjAlMjBjb250ZXh0cyUzRCU1QiUwQSUwQSUyMCUyMCUyMCUyMCU1RCUyQyUwQSUyOSUyOSUwQSUwQSUyNyUyNyUyNyUyQyUyMGNpdGF0aW9ucyUzRCUyN3dhYXJkZW5idXJnMjAxM2ElMjclMjklM0I=\")));\n",
       "    "
      ],
      "text/plain": [
       "<IPython.core.display.Javascript object>"
      ]
     },
     "metadata": {},
     "output_type": "display_data"
    },
    {
     "data": {
      "application/javascript": [
       "$('span:contains(\"# Temp\")').closest('.cell').remove();"
      ],
      "text/plain": [
       "<IPython.core.display.Javascript object>"
      ]
     },
     "metadata": {},
     "output_type": "display_data"
    },
    {
     "data": {
      "application/javascript": [
       "\n",
       "        $('span:contains(\"# Temp\")').closest('.cell').remove();\n",
       "        var code = IPython.notebook.insert_cell_below('code');\n",
       "        code.set_text(decodeURIComponent(window.atob(\"JTIzJTIwVGVtcCUwQWluc2VydCUyOCUyNyUyNyUyNyUwQURCJTI4Q2l0YXRpb24lMjglMEElMjAlMjAlMjAlMjB3YWFyZGVuYnVyZzIwMTNhJTJDJTIwZ2xhc2VyMTk5MmElMkMlMjByZWYlM0QlMjIlMjIlMkMlMEElMjAlMjAlMjAlMjBjb250ZXh0cyUzRCU1QiUwQSUwQSUyMCUyMCUyMCUyMCU1RCUyQyUwQSUyOSUyOSUwQSUwQSUyNyUyNyUyNyUyQyUyMGNpdGF0aW9ucyUzRCUyN3dhYXJkZW5idXJnMjAxM2ElMjclMjklM0I=\")));\n",
       "    "
      ],
      "text/plain": [
       "<IPython.core.display.Javascript object>"
      ]
     },
     "metadata": {},
     "output_type": "display_data"
    },
    {
     "data": {
      "application/javascript": [
       "$('span:contains(\"# Temp\")').closest('.cell').remove();"
      ],
      "text/plain": [
       "<IPython.core.display.Javascript object>"
      ]
     },
     "metadata": {},
     "output_type": "display_data"
    },
    {
     "data": {
      "application/javascript": [
       "\n",
       "        $('span:contains(\"# Temp\")').closest('.cell').remove();\n",
       "        var code = IPython.notebook.insert_cell_below('code');\n",
       "        code.set_text(decodeURIComponent(window.atob(\"JTIzJTIwVGVtcCUwQWluc2VydCUyOCUyNyUyNyUyNyUwQURCJTI4Q2l0YXRpb24lMjglMEElMjAlMjAlMjAlMjB3YWFyZGVuYnVyZzIwMTNhJTJDJTIwZ2xhc2VyMTk5MmElMkMlMjByZWYlM0QlMjIlMjIlMkMlMEElMjAlMjAlMjAlMjBjb250ZXh0cyUzRCU1QiUwQSUwQSUyMCUyMCUyMCUyMCU1RCUyQyUwQSUyOSUyOSUwQSUwQSUyNyUyNyUyNyUyQyUyMGNpdGF0aW9ucyUzRCUyN3dhYXJkZW5idXJnMjAxM2ElMjclMjklM0I=\")));\n",
       "    "
      ],
      "text/plain": [
       "<IPython.core.display.Javascript object>"
      ]
     },
     "metadata": {},
     "output_type": "display_data"
    },
    {
     "data": {
      "application/javascript": [
       "$('span:contains(\"# Temp\")').closest('.cell').remove();"
      ],
      "text/plain": [
       "<IPython.core.display.Javascript object>"
      ]
     },
     "metadata": {},
     "output_type": "display_data"
    },
    {
     "data": {
      "application/javascript": [
       "\n",
       "        $('span:contains(\"# Temp\")').closest('.cell').remove();\n",
       "        var code = IPython.notebook.insert_cell_below('code');\n",
       "        code.set_text(decodeURIComponent(window.atob(\"JTIzJTIwVGVtcCUwQWluc2VydCUyOCUyNyUyNyUyNyUwQWdsYXNlcjE5OThhJTIwJTNEJTIwREIlMjhXb3JrVW5yZWxhdGVkJTI4JTBBJTIwJTIwJTIwJTIwMTk5OCUyQyUyMCUyMkRvaW5nJTIwR3JvdW5kZWQlMjBUaGVvcnklM0ElMjBJc3N1ZXMlMjBhbmQlMjBEaXNjdXNzaW9ucyUyMiUyQyUwQSUyMCUyMCUyMCUyMGRpc3BsYXklM0QlMjJnbGFzZXIlMjIlMkMlMEElMjAlMjAlMjAlMjBhdXRob3JzJTNEJTIyR2xhc2VyJTJDJTIwQi5HLiUyMiUyQyUwQSUyMCUyMCUyMCUyMHBsYWNlJTNERkFLRSUyQyUwQSUyMCUyMCUyMCUyMGVudHJ5dHlwZSUzRCUyMmFydGljbGUlMjIlMkMlMEElMjAlMjAlMjAlMjBub3RlJTNEJTIyY2l0ZWQlMjBCeSUyMDExOTclMjIlMkMlMEElMjAlMjAlMjAlMjBJRCUzRCUyMkdsYXNlcjE5OTglMjIlMkMlMEElMjAlMjAlMjAlMjBwbGFjZXglM0QlMjJTb2Npb2xvZ3klMjBQcmVzcyUyMiUyQyUwQSUyOSUyOSUwQSUwQURCJTI4Q2l0YXRpb24lMjglMEElMjAlMjAlMjAlMjB3YWFyZGVuYnVyZzIwMTNhJTJDJTIwZ2xhc2VyMTk5OGElMkMlMjByZWYlM0QlMjIlMjIlMkMlMEElMjAlMjAlMjAlMjBjb250ZXh0cyUzRCU1QiUwQSUwQSUyMCUyMCUyMCUyMCU1RCUyQyUwQSUyOSUyOSUwQSUwQSUyNyUyNyUyNyUyQyUyMGNpdGF0aW9ucyUzRCUyN3dhYXJkZW5idXJnMjAxM2ElMjclMjklM0I=\")));\n",
       "    "
      ],
      "text/plain": [
       "<IPython.core.display.Javascript object>"
      ]
     },
     "metadata": {},
     "output_type": "display_data"
    },
    {
     "data": {
      "application/javascript": [
       "$('span:contains(\"# Temp\")').closest('.cell').remove();"
      ],
      "text/plain": [
       "<IPython.core.display.Javascript object>"
      ]
     },
     "metadata": {},
     "output_type": "display_data"
    },
    {
     "data": {
      "application/javascript": [
       "\n",
       "        $('span:contains(\"# Temp\")').closest('.cell').remove();\n",
       "        var code = IPython.notebook.insert_cell_below('code');\n",
       "        code.set_text(decodeURIComponent(window.atob(\"JTIzJTIwVGVtcCUwQWluc2VydCUyOCUyNyUyNyUyNyUwQWdsYXNlcjE5OThhJTIwJTNEJTIwREIlMjhXb3JrVW5yZWxhdGVkJTI4JTBBJTIwJTIwJTIwJTIwMTk5OCUyQyUyMCUyMkRvaW5nJTIwR3JvdW5kZWQlMjBUaGVvcnklM0ElMjBJc3N1ZXMlMjBhbmQlMjBEaXNjdXNzaW9ucyUyMiUyQyUwQSUyMCUyMCUyMCUyMGRpc3BsYXklM0QlMjJnbGFzZXIlMjIlMkMlMEElMjAlMjAlMjAlMjBhdXRob3JzJTNEJTIyR2xhc2VyJTJDJTIwQi5HLiUyMiUyQyUwQSUyMCUyMCUyMCUyMHBsYWNlJTNERkFLRSUyQyUwQSUyMCUyMCUyMCUyMGVudHJ5dHlwZSUzRCUyMmFydGljbGUlMjIlMkMlMEElMjAlMjAlMjAlMjBub3RlJTNEJTIyY2l0ZWQlMjBCeSUyMDExOTclMjIlMkMlMEElMjAlMjAlMjAlMjBJRCUzRCUyMkdsYXNlcjE5OTglMjIlMkMlMEElMjAlMjAlMjAlMjBwbGFjZXglM0QlMjJTb2Npb2xvZ3klMjBQcmVzcyUyMiUyQyUwQSUyOSUyOSUwQSUwQURCJTI4Q2l0YXRpb24lMjglMEElMjAlMjAlMjAlMjB3YWFyZGVuYnVyZzIwMTNhJTJDJTIwZ2xhc2VyMTk5OGElMkMlMjByZWYlM0QlMjIlMjIlMkMlMEElMjAlMjAlMjAlMjBjb250ZXh0cyUzRCU1QiUwQSUwQSUyMCUyMCUyMCUyMCU1RCUyQyUwQSUyOSUyOSUwQSUwQSUyNyUyNyUyNyUyQyUyMGNpdGF0aW9ucyUzRCUyN3dhYXJkZW5idXJnMjAxM2ElMjclMjklM0I=\")));\n",
       "    "
      ],
      "text/plain": [
       "<IPython.core.display.Javascript object>"
      ]
     },
     "metadata": {},
     "output_type": "display_data"
    },
    {
     "data": {
      "application/javascript": [
       "$('span:contains(\"# Temp\")').closest('.cell').remove();"
      ],
      "text/plain": [
       "<IPython.core.display.Javascript object>"
      ]
     },
     "metadata": {},
     "output_type": "display_data"
    },
    {
     "data": {
      "application/javascript": [
       "\n",
       "        $('span:contains(\"# Temp\")').closest('.cell').remove();\n",
       "        var code = IPython.notebook.insert_cell_below('code');\n",
       "        code.set_text(decodeURIComponent(window.atob(\"JTIzJTIwVGVtcCUwQWluc2VydCUyOCUyNyUyNyUyNyUwQWdsYXNlcjE5NjdiJTIwJTNEJTIwREIlMjhXb3JrVW5yZWxhdGVkJTI4JTBBJTIwJTIwJTIwJTIwMTk2NyUyQyUyMCUyMlRoZSUyMERpc2NvdmVyeSUyMG9mJTIwR3JvdW5kZWQlMjBUaGVvcnklMjIlMkMlMEElMjAlMjAlMjAlMjBkaXNwbGF5JTNEJTIyZ2xhc2VyJTIwYiUyMiUyQyUwQSUyMCUyMCUyMCUyMGF1dGhvcnMlM0QlMjJHbGFzZXIlMkMlMjBCLkcuJTIwYW5kJTIwU3RyYXVzcyUyQyUyMEEuTC4lMjIlMkMlMEElMjAlMjAlMjAlMjBwbGFjZSUzREZBS0UlMkMlMEElMjAlMjAlMjAlMjBlbnRyeXR5cGUlM0QlMjJhcnRpY2xlJTIyJTJDJTBBJTIwJTIwJTIwJTIwdm9sdW1lJTNEJTIyMjAlMjIlMkMlMEElMjAlMjAlMjAlMjBudW1iZXIlM0QlMjIyJTIyJTJDJTBBJTIwJTIwJTIwJTIwbm90ZSUzRCUyMmNpdGVkJTIwQnklMjAyMCUyMiUyQyUwQSUyMCUyMCUyMCUyMElEJTNEJTIyR2xhc2VyMTk2NyUyMiUyQyUwQSUyMCUyMCUyMCUyMHBsYWNleCUzRCUyMkFsZGluZSUyMiUyQyUwQSUyOSUyOSUwQSUwQURCJTI4Q2l0YXRpb24lMjglMEElMjAlMjAlMjAlMjB3YWFyZGVuYnVyZzIwMTNhJTJDJTIwZ2xhc2VyMTk2N2IlMkMlMjByZWYlM0QlMjIlMjIlMkMlMEElMjAlMjAlMjAlMjBjb250ZXh0cyUzRCU1QiUwQSUwQSUyMCUyMCUyMCUyMCU1RCUyQyUwQSUyOSUyOSUwQSUwQSUyNyUyNyUyNyUyQyUyMGNpdGF0aW9ucyUzRCUyN3dhYXJkZW5idXJnMjAxM2ElMjclMjklM0I=\")));\n",
       "    "
      ],
      "text/plain": [
       "<IPython.core.display.Javascript object>"
      ]
     },
     "metadata": {},
     "output_type": "display_data"
    },
    {
     "data": {
      "application/javascript": [
       "$('span:contains(\"# Temp\")').closest('.cell').remove();"
      ],
      "text/plain": [
       "<IPython.core.display.Javascript object>"
      ]
     },
     "metadata": {},
     "output_type": "display_data"
    },
    {
     "data": {
      "application/javascript": [
       "\n",
       "        $('span:contains(\"# Temp\")').closest('.cell').remove();\n",
       "        var code = IPython.notebook.insert_cell_below('code');\n",
       "        code.set_text(decodeURIComponent(window.atob(\"JTIzJTIwVGVtcCUwQWluc2VydCUyOCUyNyUyNyUyNyUwQWdsYXNlcjE5NjdiJTIwJTNEJTIwREIlMjhXb3JrVW5yZWxhdGVkJTI4JTBBJTIwJTIwJTIwJTIwMTk2NyUyQyUyMCUyMlRoZSUyMERpc2NvdmVyeSUyMG9mJTIwR3JvdW5kZWQlMjBUaGVvcnklMjIlMkMlMEElMjAlMjAlMjAlMjBkaXNwbGF5JTNEJTIyZ2xhc2VyJTIwYiUyMiUyQyUwQSUyMCUyMCUyMCUyMGF1dGhvcnMlM0QlMjJHbGFzZXIlMkMlMjBCLkcuJTIwYW5kJTIwU3RyYXVzcyUyQyUyMEEuTC4lMjIlMkMlMEElMjAlMjAlMjAlMjBwbGFjZSUzREZBS0UlMkMlMEElMjAlMjAlMjAlMjBlbnRyeXR5cGUlM0QlMjJhcnRpY2xlJTIyJTJDJTBBJTIwJTIwJTIwJTIwdm9sdW1lJTNEJTIyMjAlMjIlMkMlMEElMjAlMjAlMjAlMjBudW1iZXIlM0QlMjIyJTIyJTJDJTBBJTIwJTIwJTIwJTIwbm90ZSUzRCUyMmNpdGVkJTIwQnklMjAyMCUyMiUyQyUwQSUyMCUyMCUyMCUyMElEJTNEJTIyR2xhc2VyMTk2NyUyMiUyQyUwQSUyMCUyMCUyMCUyMHBsYWNleCUzRCUyMkFsZGluZSUyMiUyQyUwQSUyOSUyOSUwQSUwQURCJTI4Q2l0YXRpb24lMjglMEElMjAlMjAlMjAlMjB3YWFyZGVuYnVyZzIwMTNhJTJDJTIwZ2xhc2VyMTk2N2IlMkMlMjByZWYlM0QlMjIlMjIlMkMlMEElMjAlMjAlMjAlMjBjb250ZXh0cyUzRCU1QiUwQSUwQSUyMCUyMCUyMCUyMCU1RCUyQyUwQSUyOSUyOSUwQSUwQSUyNyUyNyUyNyUyQyUyMGNpdGF0aW9ucyUzRCUyN3dhYXJkZW5idXJnMjAxM2ElMjclMjklM0I=\")));\n",
       "    "
      ],
      "text/plain": [
       "<IPython.core.display.Javascript object>"
      ]
     },
     "metadata": {},
     "output_type": "display_data"
    },
    {
     "data": {
      "application/javascript": [
       "$('span:contains(\"# Temp\")').closest('.cell').remove();"
      ],
      "text/plain": [
       "<IPython.core.display.Javascript object>"
      ]
     },
     "metadata": {},
     "output_type": "display_data"
    },
    {
     "data": {
      "application/javascript": [
       "\n",
       "        $('span:contains(\"# Temp\")').closest('.cell').remove();\n",
       "        var code = IPython.notebook.insert_cell_below('code');\n",
       "        code.set_text(decodeURIComponent(window.atob(\"JTIzJTIwVGVtcCUwQWluc2VydCUyOCUyNyUyNyUyNyUwQURCJTI4Q2l0YXRpb24lMjglMEElMjAlMjAlMjAlMjB3YWFyZGVuYnVyZzIwMTNhJTJDJTIwZ3Jpc2hhbTIwMDVhJTJDJTIwcmVmJTNEJTIyJTIyJTJDJTBBJTIwJTIwJTIwJTIwY29udGV4dHMlM0QlNUIlMEElMEElMjAlMjAlMjAlMjAlNUQlMkMlMEElMjklMjklMEElMEElMjclMjclMjclMkMlMjBjaXRhdGlvbnMlM0QlMjd3YWFyZGVuYnVyZzIwMTNhJTI3JTI5JTNC\")));\n",
       "    "
      ],
      "text/plain": [
       "<IPython.core.display.Javascript object>"
      ]
     },
     "metadata": {},
     "output_type": "display_data"
    },
    {
     "data": {
      "application/javascript": [
       "$('span:contains(\"# Temp\")').closest('.cell').remove();"
      ],
      "text/plain": [
       "<IPython.core.display.Javascript object>"
      ]
     },
     "metadata": {},
     "output_type": "display_data"
    },
    {
     "data": {
      "application/javascript": [
       "\n",
       "        $('span:contains(\"# Temp\")').closest('.cell').remove();\n",
       "        var code = IPython.notebook.insert_cell_below('code');\n",
       "        code.set_text(decodeURIComponent(window.atob(\"JTIzJTIwVGVtcCUwQWluc2VydCUyOCUyNyUyNyUyNyUwQURCJTI4Q2l0YXRpb24lMjglMEElMjAlMjAlMjAlMjB3YWFyZGVuYnVyZzIwMTNhJTJDJTIwZ3Jpc2hhbTIwMDVhJTJDJTIwcmVmJTNEJTIyJTIyJTJDJTBBJTIwJTIwJTIwJTIwY29udGV4dHMlM0QlNUIlMEElMEElMjAlMjAlMjAlMjAlNUQlMkMlMEElMjklMjklMEElMEElMjclMjclMjclMkMlMjBjaXRhdGlvbnMlM0QlMjd3YWFyZGVuYnVyZzIwMTNhJTI3JTI5JTNC\")));\n",
       "    "
      ],
      "text/plain": [
       "<IPython.core.display.Javascript object>"
      ]
     },
     "metadata": {},
     "output_type": "display_data"
    },
    {
     "data": {
      "application/javascript": [
       "$('span:contains(\"# Temp\")').closest('.cell').remove();"
      ],
      "text/plain": [
       "<IPython.core.display.Javascript object>"
      ]
     },
     "metadata": {},
     "output_type": "display_data"
    },
    {
     "data": {
      "application/javascript": [
       "\n",
       "        $('span:contains(\"# Temp\")').closest('.cell').remove();\n",
       "        var code = IPython.notebook.insert_cell_below('code');\n",
       "        code.set_text(decodeURIComponent(window.atob(\"JTIzJTIwVGVtcCUwQWluc2VydCUyOCUyNyUyNyUyNyUwQWhhcnZleTE5NzRhJTIwJTNEJTIwREIlMjhXb3JrVW5yZWxhdGVkJTI4JTBBJTIwJTIwJTIwJTIwMTk3NCUyQyUyMCUyMlRoZSUyMGFiaWxlbmUlMjBwYXJhZG94JTNBJTIwVGhlJTIwbWFuYWdlbWVudCUyMG9mJTIwYWdyZWVtZW50JTIyJTJDJTBBJTIwJTIwJTIwJTIwZGlzcGxheSUzRCUyMmhhcnZleSUyMiUyQyUwQSUyMCUyMCUyMCUyMGF1dGhvcnMlM0QlMjJIYXJ2ZXklMkMlMjBKLkIuJTIyJTJDJTBBJTIwJTIwJTIwJTIwcGxhY2UlM0RGQUtFJTJDJTBBJTIwJTIwJTIwJTIwcHAlM0QlMjI2My04MCUyMiUyQyUwQSUyMCUyMCUyMCUyMGVudHJ5dHlwZSUzRCUyMmFydGljbGUlMjIlMkMlMEElMjAlMjAlMjAlMjB2b2x1bWUlM0QlMjIzJTIyJTJDJTBBJTIwJTIwJTIwJTIwbnVtYmVyJTNEJTIyMSUyMiUyQyUwQSUyMCUyMCUyMCUyMGRvaSUzRCUyMjEwLjEwMTYvMDA5MC0yNjE2JTI4NzQlMjk5MDAwNS05JTIyJTJDJTBBJTIwJTIwJTIwJTIwbm90ZSUzRCUyMmNpdGVkJTIwQnklMjA3OSUyMiUyQyUwQSUyMCUyMCUyMCUyMElEJTNEJTIySGFydmV5MTk3NDYzJTIyJTJDJTBBJTIwJTIwJTIwJTIwcGxhY2V4JTNEJTIyT3JnYW5pemF0aW9uYWwlMjBEeW5hbWljcyUyMiUyQyUwQSUyOSUyOSUwQSUwQURCJTI4Q2l0YXRpb24lMjglMEElMjAlMjAlMjAlMjB3YWFyZGVuYnVyZzIwMTNhJTJDJTIwaGFydmV5MTk3NGElMkMlMjByZWYlM0QlMjIlMjIlMkMlMEElMjAlMjAlMjAlMjBjb250ZXh0cyUzRCU1QiUwQSUwQSUyMCUyMCUyMCUyMCU1RCUyQyUwQSUyOSUyOSUwQSUwQSUyNyUyNyUyNyUyQyUyMGNpdGF0aW9ucyUzRCUyN3dhYXJkZW5idXJnMjAxM2ElMjclMjklM0I=\")));\n",
       "    "
      ],
      "text/plain": [
       "<IPython.core.display.Javascript object>"
      ]
     },
     "metadata": {},
     "output_type": "display_data"
    },
    {
     "data": {
      "application/javascript": [
       "$('span:contains(\"# Temp\")').closest('.cell').remove();"
      ],
      "text/plain": [
       "<IPython.core.display.Javascript object>"
      ]
     },
     "metadata": {},
     "output_type": "display_data"
    },
    {
     "data": {
      "application/javascript": [
       "\n",
       "        $('span:contains(\"# Temp\")').closest('.cell').remove();\n",
       "        var code = IPython.notebook.insert_cell_below('code');\n",
       "        code.set_text(decodeURIComponent(window.atob(\"JTIzJTIwVGVtcCUwQWluc2VydCUyOCUyNyUyNyUyNyUwQWhhcnZleTE5NzRhJTIwJTNEJTIwREIlMjhXb3JrVW5yZWxhdGVkJTI4JTBBJTIwJTIwJTIwJTIwMTk3NCUyQyUyMCUyMlRoZSUyMGFiaWxlbmUlMjBwYXJhZG94JTNBJTIwVGhlJTIwbWFuYWdlbWVudCUyMG9mJTIwYWdyZWVtZW50JTIyJTJDJTBBJTIwJTIwJTIwJTIwZGlzcGxheSUzRCUyMmhhcnZleSUyMiUyQyUwQSUyMCUyMCUyMCUyMGF1dGhvcnMlM0QlMjJIYXJ2ZXklMkMlMjBKLkIuJTIyJTJDJTBBJTIwJTIwJTIwJTIwcGxhY2UlM0RGQUtFJTJDJTBBJTIwJTIwJTIwJTIwcHAlM0QlMjI2My04MCUyMiUyQyUwQSUyMCUyMCUyMCUyMGVudHJ5dHlwZSUzRCUyMmFydGljbGUlMjIlMkMlMEElMjAlMjAlMjAlMjB2b2x1bWUlM0QlMjIzJTIyJTJDJTBBJTIwJTIwJTIwJTIwbnVtYmVyJTNEJTIyMSUyMiUyQyUwQSUyMCUyMCUyMCUyMGRvaSUzRCUyMjEwLjEwMTYvMDA5MC0yNjE2JTI4NzQlMjk5MDAwNS05JTIyJTJDJTBBJTIwJTIwJTIwJTIwbm90ZSUzRCUyMmNpdGVkJTIwQnklMjA3OSUyMiUyQyUwQSUyMCUyMCUyMCUyMElEJTNEJTIySGFydmV5MTk3NDYzJTIyJTJDJTBBJTIwJTIwJTIwJTIwcGxhY2V4JTNEJTIyT3JnYW5pemF0aW9uYWwlMjBEeW5hbWljcyUyMiUyQyUwQSUyOSUyOSUwQSUwQURCJTI4Q2l0YXRpb24lMjglMEElMjAlMjAlMjAlMjB3YWFyZGVuYnVyZzIwMTNhJTJDJTIwaGFydmV5MTk3NGElMkMlMjByZWYlM0QlMjIlMjIlMkMlMEElMjAlMjAlMjAlMjBjb250ZXh0cyUzRCU1QiUwQSUwQSUyMCUyMCUyMCUyMCU1RCUyQyUwQSUyOSUyOSUwQSUwQSUyNyUyNyUyNyUyQyUyMGNpdGF0aW9ucyUzRCUyN3dhYXJkZW5idXJnMjAxM2ElMjclMjklM0I=\")));\n",
       "    "
      ],
      "text/plain": [
       "<IPython.core.display.Javascript object>"
      ]
     },
     "metadata": {},
     "output_type": "display_data"
    },
    {
     "data": {
      "application/javascript": [
       "$('span:contains(\"# Temp\")').closest('.cell').remove();"
      ],
      "text/plain": [
       "<IPython.core.display.Javascript object>"
      ]
     },
     "metadata": {},
     "output_type": "display_data"
    },
    {
     "data": {
      "application/javascript": [
       "\n",
       "        $('span:contains(\"# Temp\")').closest('.cell').remove();\n",
       "        var code = IPython.notebook.insert_cell_below('code');\n",
       "        code.set_text(decodeURIComponent(window.atob(\"JTIzJTIwVGVtcCUwQWluc2VydCUyOCUyNyUyNyUyNyUwQWhlMjAwNGElMjAlM0QlMjBEQiUyOFdvcmtVbnJlbGF0ZWQlMjglMEElMjAlMjAlMjAlMjAyMDA0JTJDJTIwJTIyRXhwbG9yYXRpb24lMjB2cy4lMjBleHBsb2l0YXRpb24lM0ElMjBBbiUyMGVtcGlyaWNhbCUyMHRlc3QlMjBvZiUyMHRoZSUyMGFtYmlkZXh0ZXJpdHklMjBoeXBvdGhlc2lzJTIyJTJDJTBBJTIwJTIwJTIwJTIwZGlzcGxheSUzRCUyMmhlJTIyJTJDJTBBJTIwJTIwJTIwJTIwYXV0aG9ycyUzRCUyMkhlJTJDJTIwWi4tTC4lMjBhbmQlMjBXb25nJTJDJTIwUC4tSy4lMjIlMkMlMEElMjAlMjAlMjAlMjBwbGFjZSUzREZBS0UlMkMlMEElMjAlMjAlMjAlMjBwcCUzRCUyMjQ4MS00OTUlMjIlMkMlMEElMjAlMjAlMjAlMjBlbnRyeXR5cGUlM0QlMjJhcnRpY2xlJTIyJTJDJTBBJTIwJTIwJTIwJTIwdm9sdW1lJTNEJTIyMTUlMjIlMkMlMEElMjAlMjAlMjAlMjBudW1iZXIlM0QlMjI0JTIyJTJDJTBBJTIwJTIwJTIwJTIwbm90ZSUzRCUyMmNpdGVkJTIwQnklMjAxMjE1JTIyJTJDJTBBJTIwJTIwJTIwJTIwSUQlM0QlMjJIZTIwMDQ0ODElMjIlMkMlMEElMjAlMjAlMjAlMjBwbGFjZXglM0QlMjJPcmdhbml6YXRpb24lMjBTY2llbmNlJTIyJTJDJTBBJTI5JTI5JTBBJTBBREIlMjhDaXRhdGlvbiUyOCUwQSUyMCUyMCUyMCUyMHdhYXJkZW5idXJnMjAxM2ElMkMlMjBoZTIwMDRhJTJDJTIwcmVmJTNEJTIyJTIyJTJDJTBBJTIwJTIwJTIwJTIwY29udGV4dHMlM0QlNUIlMEElMEElMjAlMjAlMjAlMjAlNUQlMkMlMEElMjklMjklMEElMEElMjclMjclMjclMkMlMjBjaXRhdGlvbnMlM0QlMjd3YWFyZGVuYnVyZzIwMTNhJTI3JTI5JTNC\")));\n",
       "    "
      ],
      "text/plain": [
       "<IPython.core.display.Javascript object>"
      ]
     },
     "metadata": {},
     "output_type": "display_data"
    },
    {
     "data": {
      "application/javascript": [
       "$('span:contains(\"# Temp\")').closest('.cell').remove();"
      ],
      "text/plain": [
       "<IPython.core.display.Javascript object>"
      ]
     },
     "metadata": {},
     "output_type": "display_data"
    },
    {
     "data": {
      "application/javascript": [
       "\n",
       "        $('span:contains(\"# Temp\")').closest('.cell').remove();\n",
       "        var code = IPython.notebook.insert_cell_below('code');\n",
       "        code.set_text(decodeURIComponent(window.atob(\"JTIzJTIwVGVtcCUwQWluc2VydCUyOCUyNyUyNyUyNyUwQWhlMjAwNGElMjAlM0QlMjBEQiUyOFdvcmtVbnJlbGF0ZWQlMjglMEElMjAlMjAlMjAlMjAyMDA0JTJDJTIwJTIyRXhwbG9yYXRpb24lMjB2cy4lMjBleHBsb2l0YXRpb24lM0ElMjBBbiUyMGVtcGlyaWNhbCUyMHRlc3QlMjBvZiUyMHRoZSUyMGFtYmlkZXh0ZXJpdHklMjBoeXBvdGhlc2lzJTIyJTJDJTBBJTIwJTIwJTIwJTIwZGlzcGxheSUzRCUyMmhlJTIyJTJDJTBBJTIwJTIwJTIwJTIwYXV0aG9ycyUzRCUyMkhlJTJDJTIwWi4tTC4lMjBhbmQlMjBXb25nJTJDJTIwUC4tSy4lMjIlMkMlMEElMjAlMjAlMjAlMjBwbGFjZSUzREZBS0UlMkMlMEElMjAlMjAlMjAlMjBwcCUzRCUyMjQ4MS00OTUlMjIlMkMlMEElMjAlMjAlMjAlMjBlbnRyeXR5cGUlM0QlMjJhcnRpY2xlJTIyJTJDJTBBJTIwJTIwJTIwJTIwdm9sdW1lJTNEJTIyMTUlMjIlMkMlMEElMjAlMjAlMjAlMjBudW1iZXIlM0QlMjI0JTIyJTJDJTBBJTIwJTIwJTIwJTIwbm90ZSUzRCUyMmNpdGVkJTIwQnklMjAxMjE1JTIyJTJDJTBBJTIwJTIwJTIwJTIwSUQlM0QlMjJIZTIwMDQ0ODElMjIlMkMlMEElMjAlMjAlMjAlMjBwbGFjZXglM0QlMjJPcmdhbml6YXRpb24lMjBTY2llbmNlJTIyJTJDJTBBJTI5JTI5JTBBJTBBREIlMjhDaXRhdGlvbiUyOCUwQSUyMCUyMCUyMCUyMHdhYXJkZW5idXJnMjAxM2ElMkMlMjBoZTIwMDRhJTJDJTIwcmVmJTNEJTIyJTIyJTJDJTBBJTIwJTIwJTIwJTIwY29udGV4dHMlM0QlNUIlMEElMEElMjAlMjAlMjAlMjAlNUQlMkMlMEElMjklMjklMEElMEElMjclMjclMjclMkMlMjBjaXRhdGlvbnMlM0QlMjd3YWFyZGVuYnVyZzIwMTNhJTI3JTI5JTNC\")));\n",
       "    "
      ],
      "text/plain": [
       "<IPython.core.display.Javascript object>"
      ]
     },
     "metadata": {},
     "output_type": "display_data"
    },
    {
     "data": {
      "application/javascript": [
       "$('span:contains(\"# Temp\")').closest('.cell').remove();"
      ],
      "text/plain": [
       "<IPython.core.display.Javascript object>"
      ]
     },
     "metadata": {},
     "output_type": "display_data"
    },
    {
     "data": {
      "application/javascript": [
       "\n",
       "        $('span:contains(\"# Temp\")').closest('.cell').remove();\n",
       "        var code = IPython.notebook.insert_cell_below('code');\n",
       "        code.set_text(decodeURIComponent(window.atob(\"JTIzJTIwVGVtcCUwQWluc2VydCUyOCUyNyUyNyUyNyUwQWhlaWRlbmJlcmcyMDEwYSUyMCUzRCUyMERCJTI4V29ya1VucmVsYXRlZCUyOCUwQSUyMCUyMCUyMCUyMDIwMTAlMkMlMjAlMjJTeXN0ZW1hdGljJTIwcGlsb3RpbmclMjBvZiUyMGFnaWxlJTIwbWV0aG9kcyUyMGluJTIwdGhlJTIwbGFyZ2UlM0ElMjBUd28lMjBjYXNlcyUyMGluJTIwZW1iZWRkZWQlMjBzeXN0ZW1zJTIwZGV2ZWxvcG1lbnQlMjIlMkMlMEElMjAlMjAlMjAlMjBkaXNwbGF5JTNEJTIyaGVpZGVuYmVyZyUyMiUyQyUwQSUyMCUyMCUyMCUyMGF1dGhvcnMlM0QlMjJIZWlkZW5iZXJnJTJDJTIwSi4lMjBhbmQlMjBNYXRpbmxhc3NpJTJDJTIwTS4lMjBhbmQlMjBQaWtrYXJhaW5lbiUyQyUyME0uJTIwYW5kJTIwSGlya21hbiUyQyUyMFAuJTIwYW5kJTIwUGFydGFuZW4lMkMlMjBKLiUyMiUyQyUwQSUyMCUyMCUyMCUyMHBsYWNlJTNERkFLRSUyQyUwQSUyMCUyMCUyMCUyMHBwJTNEJTIyNDctNjElMjIlMkMlMEElMjAlMjAlMjAlMjBlbnRyeXR5cGUlM0QlMjJhcnRpY2xlJTIyJTJDJTBBJTIwJTIwJTIwJTIwdm9sdW1lJTNEJTIyNjE1NiUyMExOQ1MlMjIlMkMlMEElMjAlMjAlMjAlMjBkb2klM0QlMjIxMC4xMDA3Lzk3OC0zLTY0Mi0xMzc5Mi0xXzYlMjIlMkMlMEElMjAlMjAlMjAlMjBub3RlJTNEJTIyY2l0ZWQlMjBCeSUyMDclMjIlMkMlMEElMjAlMjAlMjAlMjBJRCUzRCUyMkhlaWRlbmJlcmcyMDEwNDclMjIlMkMlMEElMjAlMjAlMjAlMjBwbGFjZXglM0QlMjJMZWN0dXJlJTIwTm90ZXMlMjBpbiUyMENvbXB1dGVyJTIwU2NpZW5jZSUyMCUyOGluY2x1ZGluZyUyMHN1YnNlcmllcyUyMExlY3R1cmUlMjBOb3RlcyUyMGluJTIwQXJ0aWZpY2lhbCUyMEludGVsbGlnZW5jZSUyMGFuZCUyMExlY3R1cmUlMjBOb3RlcyUyMGluJTIwQmlvaW5mb3JtYXRpY3MlMjklMjIlMkMlMEElMjklMjklMEElMEFEQiUyOENpdGF0aW9uJTI4JTBBJTIwJTIwJTIwJTIwd2FhcmRlbmJ1cmcyMDEzYSUyQyUyMGhlaWRlbmJlcmcyMDEwYSUyQyUyMHJlZiUzRCUyMiUyMiUyQyUwQSUyMCUyMCUyMCUyMGNvbnRleHRzJTNEJTVCJTBBJTBBJTIwJTIwJTIwJTIwJTVEJTJDJTBBJTI5JTI5JTBBJTBBJTI3JTI3JTI3JTJDJTIwY2l0YXRpb25zJTNEJTI3d2FhcmRlbmJ1cmcyMDEzYSUyNyUyOSUzQg==\")));\n",
       "    "
      ],
      "text/plain": [
       "<IPython.core.display.Javascript object>"
      ]
     },
     "metadata": {},
     "output_type": "display_data"
    },
    {
     "data": {
      "application/javascript": [
       "$('span:contains(\"# Temp\")').closest('.cell').remove();"
      ],
      "text/plain": [
       "<IPython.core.display.Javascript object>"
      ]
     },
     "metadata": {},
     "output_type": "display_data"
    },
    {
     "data": {
      "application/javascript": [
       "\n",
       "        $('span:contains(\"# Temp\")').closest('.cell').remove();\n",
       "        var code = IPython.notebook.insert_cell_below('code');\n",
       "        code.set_text(decodeURIComponent(window.atob(\"JTIzJTIwVGVtcCUwQWluc2VydCUyOCUyNyUyNyUyNyUwQWhlaWRlbmJlcmcyMDEwYSUyMCUzRCUyMERCJTI4V29ya1VucmVsYXRlZCUyOCUwQSUyMCUyMCUyMCUyMDIwMTAlMkMlMjAlMjJTeXN0ZW1hdGljJTIwcGlsb3RpbmclMjBvZiUyMGFnaWxlJTIwbWV0aG9kcyUyMGluJTIwdGhlJTIwbGFyZ2UlM0ElMjBUd28lMjBjYXNlcyUyMGluJTIwZW1iZWRkZWQlMjBzeXN0ZW1zJTIwZGV2ZWxvcG1lbnQlMjIlMkMlMEElMjAlMjAlMjAlMjBkaXNwbGF5JTNEJTIyaGVpZGVuYmVyZyUyMiUyQyUwQSUyMCUyMCUyMCUyMGF1dGhvcnMlM0QlMjJIZWlkZW5iZXJnJTJDJTIwSi4lMjBhbmQlMjBNYXRpbmxhc3NpJTJDJTIwTS4lMjBhbmQlMjBQaWtrYXJhaW5lbiUyQyUyME0uJTIwYW5kJTIwSGlya21hbiUyQyUyMFAuJTIwYW5kJTIwUGFydGFuZW4lMkMlMjBKLiUyMiUyQyUwQSUyMCUyMCUyMCUyMHBsYWNlJTNERkFLRSUyQyUwQSUyMCUyMCUyMCUyMHBwJTNEJTIyNDctNjElMjIlMkMlMEElMjAlMjAlMjAlMjBlbnRyeXR5cGUlM0QlMjJhcnRpY2xlJTIyJTJDJTBBJTIwJTIwJTIwJTIwdm9sdW1lJTNEJTIyNjE1NiUyMExOQ1MlMjIlMkMlMEElMjAlMjAlMjAlMjBkb2klM0QlMjIxMC4xMDA3Lzk3OC0zLTY0Mi0xMzc5Mi0xXzYlMjIlMkMlMEElMjAlMjAlMjAlMjBub3RlJTNEJTIyY2l0ZWQlMjBCeSUyMDclMjIlMkMlMEElMjAlMjAlMjAlMjBJRCUzRCUyMkhlaWRlbmJlcmcyMDEwNDclMjIlMkMlMEElMjAlMjAlMjAlMjBwbGFjZXglM0QlMjJMZWN0dXJlJTIwTm90ZXMlMjBpbiUyMENvbXB1dGVyJTIwU2NpZW5jZSUyMCUyOGluY2x1ZGluZyUyMHN1YnNlcmllcyUyMExlY3R1cmUlMjBOb3RlcyUyMGluJTIwQXJ0aWZpY2lhbCUyMEludGVsbGlnZW5jZSUyMGFuZCUyMExlY3R1cmUlMjBOb3RlcyUyMGluJTIwQmlvaW5mb3JtYXRpY3MlMjklMjIlMkMlMEElMjklMjklMEElMEFEQiUyOENpdGF0aW9uJTI4JTBBJTIwJTIwJTIwJTIwd2FhcmRlbmJ1cmcyMDEzYSUyQyUyMGhlaWRlbmJlcmcyMDEwYSUyQyUyMHJlZiUzRCUyMiUyMiUyQyUwQSUyMCUyMCUyMCUyMGNvbnRleHRzJTNEJTVCJTBBJTBBJTIwJTIwJTIwJTIwJTVEJTJDJTBBJTI5JTI5JTBBJTBBJTI3JTI3JTI3JTJDJTIwY2l0YXRpb25zJTNEJTI3d2FhcmRlbmJ1cmcyMDEzYSUyNyUyOSUzQg==\")));\n",
       "    "
      ],
      "text/plain": [
       "<IPython.core.display.Javascript object>"
      ]
     },
     "metadata": {},
     "output_type": "display_data"
    },
    {
     "data": {
      "application/javascript": [
       "$('span:contains(\"# Temp\")').closest('.cell').remove();"
      ],
      "text/plain": [
       "<IPython.core.display.Javascript object>"
      ]
     },
     "metadata": {},
     "output_type": "display_data"
    },
    {
     "data": {
      "application/javascript": [
       "\n",
       "        $('span:contains(\"# Temp\")').closest('.cell').remove();\n",
       "        var code = IPython.notebook.insert_cell_below('code');\n",
       "        code.set_text(decodeURIComponent(window.atob(\"JTIzJTIwVGVtcCUwQWluc2VydCUyOCUyNyUyNyUyNyUwQURCJTI4Q2l0YXRpb24lMjglMEElMjAlMjAlMjAlMjB3YWFyZGVuYnVyZzIwMTNhJTJDJTIwaG9kYTIwMTFhJTJDJTIwcmVmJTNEJTIyJTIyJTJDJTBBJTIwJTIwJTIwJTIwY29udGV4dHMlM0QlNUIlMEElMEElMjAlMjAlMjAlMjAlNUQlMkMlMEElMjklMjklMEElMEElMjclMjclMjclMkMlMjBjaXRhdGlvbnMlM0QlMjd3YWFyZGVuYnVyZzIwMTNhJTI3JTI5JTNC\")));\n",
       "    "
      ],
      "text/plain": [
       "<IPython.core.display.Javascript object>"
      ]
     },
     "metadata": {},
     "output_type": "display_data"
    },
    {
     "data": {
      "application/javascript": [
       "$('span:contains(\"# Temp\")').closest('.cell').remove();"
      ],
      "text/plain": [
       "<IPython.core.display.Javascript object>"
      ]
     },
     "metadata": {},
     "output_type": "display_data"
    },
    {
     "data": {
      "application/javascript": [
       "\n",
       "        $('span:contains(\"# Temp\")').closest('.cell').remove();\n",
       "        var code = IPython.notebook.insert_cell_below('code');\n",
       "        code.set_text(decodeURIComponent(window.atob(\"JTIzJTIwVGVtcCUwQWluc2VydCUyOCUyNyUyNyUyNyUwQURCJTI4Q2l0YXRpb24lMjglMEElMjAlMjAlMjAlMjB3YWFyZGVuYnVyZzIwMTNhJTJDJTIwaG9kYTIwMTFhJTJDJTIwcmVmJTNEJTIyJTIyJTJDJTBBJTIwJTIwJTIwJTIwY29udGV4dHMlM0QlNUIlMEElMEElMjAlMjAlMjAlMjAlNUQlMkMlMEElMjklMjklMEElMEElMjclMjclMjclMkMlMjBjaXRhdGlvbnMlM0QlMjd3YWFyZGVuYnVyZzIwMTNhJTI3JTI5JTNC\")));\n",
       "    "
      ],
      "text/plain": [
       "<IPython.core.display.Javascript object>"
      ]
     },
     "metadata": {},
     "output_type": "display_data"
    },
    {
     "data": {
      "application/javascript": [
       "$('span:contains(\"# Temp\")').closest('.cell').remove();"
      ],
      "text/plain": [
       "<IPython.core.display.Javascript object>"
      ]
     },
     "metadata": {},
     "output_type": "display_data"
    },
    {
     "data": {
      "application/javascript": [
       "\n",
       "        $('span:contains(\"# Temp\")').closest('.cell').remove();\n",
       "        var code = IPython.notebook.insert_cell_below('code');\n",
       "        code.set_text(decodeURIComponent(window.atob(\"JTIzJTIwVGVtcCUwQWluc2VydCUyOCUyNyUyNyUyNyUwQWhvZGEyMDEyYSUyMCUzRCUyMERCJTI4V29ya1VucmVsYXRlZCUyOCUwQSUyMCUyMCUyMCUyMDIwMTIlMkMlMjAlMjJEZXZlbG9waW5nJTIwYSUyMGdyb3VuZGVkJTIwdGhlb3J5JTIwdG8lMjBleHBsYWluJTIwdGhlJTIwcHJhY3RpY2VzJTIwb2YlMjBzZWxmLW9yZ2FuaXppbmclMjBBZ2lsZSUyMHRlYW1zJTIyJTJDJTBBJTIwJTIwJTIwJTIwZGlzcGxheSUzRCUyMmhvZGElMjIlMkMlMEElMjAlMjAlMjAlMjBhdXRob3JzJTNEJTIySG9kYSUyQyUyMFIuJTIwYW5kJTIwTm9ibGUlMkMlMjBKLiUyMGFuZCUyME1hcnNoYWxsJTJDJTIwUy4lMjIlMkMlMEElMjAlMjAlMjAlMjBwbGFjZSUzREVTRSUyQyUwQSUyMCUyMCUyMCUyMHBwJTNEJTIyNjA5LTYzOSUyMiUyQyUwQSUyMCUyMCUyMCUyMGVudHJ5dHlwZSUzRCUyMmFydGljbGUlMjIlMkMlMEElMjAlMjAlMjAlMjB2b2x1bWUlM0QlMjIxNyUyMiUyQyUwQSUyMCUyMCUyMCUyMG51bWJlciUzRCUyMjYlMjIlMkMlMEElMjAlMjAlMjAlMjBkb2klM0QlMjIxMC4xMDA3L3MxMDY2NC0wMTEtOTE2MS0wJTIyJTJDJTBBJTIwJTIwJTIwJTIwbm90ZSUzRCUyMmNpdGVkJTIwQnklMjA1MSUyMiUyQyUwQSUyMCUyMCUyMCUyMElEJTNEJTIySG9kYTIwMTI2MDklMjIlMkMlMEElMjAlMjAlMjAlMjBwbGFjZXglM0QlMjJFbXBpcmljYWwlMjBTb2Z0d2FyZSUyMEVuZ2luZWVyaW5nJTIyJTJDJTBBJTI5JTI5JTBBJTBBREIlMjhDaXRhdGlvbiUyOCUwQSUyMCUyMCUyMCUyMHdhYXJkZW5idXJnMjAxM2ElMkMlMjBob2RhMjAxMmElMkMlMjByZWYlM0QlMjIlMjIlMkMlMEElMjAlMjAlMjAlMjBjb250ZXh0cyUzRCU1QiUwQSUwQSUyMCUyMCUyMCUyMCU1RCUyQyUwQSUyOSUyOSUwQSUwQSUyNyUyNyUyNyUyQyUyMGNpdGF0aW9ucyUzRCUyN3dhYXJkZW5idXJnMjAxM2ElMjclMjklM0I=\")));\n",
       "    "
      ],
      "text/plain": [
       "<IPython.core.display.Javascript object>"
      ]
     },
     "metadata": {},
     "output_type": "display_data"
    },
    {
     "data": {
      "application/javascript": [
       "$('span:contains(\"# Temp\")').closest('.cell').remove();"
      ],
      "text/plain": [
       "<IPython.core.display.Javascript object>"
      ]
     },
     "metadata": {},
     "output_type": "display_data"
    },
    {
     "data": {
      "application/javascript": [
       "\n",
       "        $('span:contains(\"# Temp\")').closest('.cell').remove();\n",
       "        var code = IPython.notebook.insert_cell_below('code');\n",
       "        code.set_text(decodeURIComponent(window.atob(\"JTIzJTIwVGVtcCUwQWluc2VydCUyOCUyNyUyNyUyNyUwQWhvZGEyMDEyYSUyMCUzRCUyMERCJTI4V29ya1VucmVsYXRlZCUyOCUwQSUyMCUyMCUyMCUyMDIwMTIlMkMlMjAlMjJEZXZlbG9waW5nJTIwYSUyMGdyb3VuZGVkJTIwdGhlb3J5JTIwdG8lMjBleHBsYWluJTIwdGhlJTIwcHJhY3RpY2VzJTIwb2YlMjBzZWxmLW9yZ2FuaXppbmclMjBBZ2lsZSUyMHRlYW1zJTIyJTJDJTBBJTIwJTIwJTIwJTIwZGlzcGxheSUzRCUyMmhvZGElMjIlMkMlMEElMjAlMjAlMjAlMjBhdXRob3JzJTNEJTIySG9kYSUyQyUyMFIuJTIwYW5kJTIwTm9ibGUlMkMlMjBKLiUyMGFuZCUyME1hcnNoYWxsJTJDJTIwUy4lMjIlMkMlMEElMjAlMjAlMjAlMjBwbGFjZSUzREVTRSUyQyUwQSUyMCUyMCUyMCUyMHBwJTNEJTIyNjA5LTYzOSUyMiUyQyUwQSUyMCUyMCUyMCUyMGVudHJ5dHlwZSUzRCUyMmFydGljbGUlMjIlMkMlMEElMjAlMjAlMjAlMjB2b2x1bWUlM0QlMjIxNyUyMiUyQyUwQSUyMCUyMCUyMCUyMG51bWJlciUzRCUyMjYlMjIlMkMlMEElMjAlMjAlMjAlMjBkb2klM0QlMjIxMC4xMDA3L3MxMDY2NC0wMTEtOTE2MS0wJTIyJTJDJTBBJTIwJTIwJTIwJTIwbm90ZSUzRCUyMmNpdGVkJTIwQnklMjA1MSUyMiUyQyUwQSUyMCUyMCUyMCUyMElEJTNEJTIySG9kYTIwMTI2MDklMjIlMkMlMEElMjAlMjAlMjAlMjBwbGFjZXglM0QlMjJFbXBpcmljYWwlMjBTb2Z0d2FyZSUyMEVuZ2luZWVyaW5nJTIyJTJDJTBBJTI5JTI5JTBBJTBBREIlMjhDaXRhdGlvbiUyOCUwQSUyMCUyMCUyMCUyMHdhYXJkZW5idXJnMjAxM2ElMkMlMjBob2RhMjAxMmElMkMlMjByZWYlM0QlMjIlMjIlMkMlMEElMjAlMjAlMjAlMjBjb250ZXh0cyUzRCU1QiUwQSUwQSUyMCUyMCUyMCUyMCU1RCUyQyUwQSUyOSUyOSUwQSUwQSUyNyUyNyUyNyUyQyUyMGNpdGF0aW9ucyUzRCUyN3dhYXJkZW5idXJnMjAxM2ElMjclMjklM0I=\")));\n",
       "    "
      ],
      "text/plain": [
       "<IPython.core.display.Javascript object>"
      ]
     },
     "metadata": {},
     "output_type": "display_data"
    },
    {
     "data": {
      "application/javascript": [
       "$('span:contains(\"# Temp\")').closest('.cell').remove();"
      ],
      "text/plain": [
       "<IPython.core.display.Javascript object>"
      ]
     },
     "metadata": {},
     "output_type": "display_data"
    },
    {
     "data": {
      "application/javascript": [
       "\n",
       "        $('span:contains(\"# Temp\")').closest('.cell').remove();\n",
       "        var code = IPython.notebook.insert_cell_below('code');\n",
       "        code.set_text(decodeURIComponent(window.atob(\"JTIzJTIwVGVtcCUwQWluc2VydCUyOCUyNyUyNyUyNyUwQWhvZGEyMDEzYSUyMCUzRCUyMERCJTI4V29ya1VucmVsYXRlZCUyOCUwQSUyMCUyMCUyMCUyMDIwMTMlMkMlMjAlMjJTZWxmLW9yZ2FuaXppbmclMjByb2xlcyUyMG9uJTIwYWdpbGUlMjBzb2Z0d2FyZSUyMGRldmVsb3BtZW50JTIwdGVhbXMlMjIlMkMlMEElMjAlMjAlMjAlMjBkaXNwbGF5JTNEJTIyaG9kYSUyMiUyQyUwQSUyMCUyMCUyMCUyMGF1dGhvcnMlM0QlMjJIb2RhJTJDJTIwUi4lMjBhbmQlMjBOb2JsZSUyQyUyMEouJTIwYW5kJTIwTWFyc2hhbGwlMkMlMjBTLiUyMiUyQyUwQSUyMCUyMCUyMCUyMHBsYWNlJTNEVG9TRSUyQyUwQSUyMCUyMCUyMCUyMHBwJTNEJTIyNDIyLTQ0NCUyMiUyQyUwQSUyMCUyMCUyMCUyMGVudHJ5dHlwZSUzRCUyMmFydGljbGUlMjIlMkMlMEElMjAlMjAlMjAlMjB2b2x1bWUlM0QlMjIzOSUyMiUyQyUwQSUyMCUyMCUyMCUyMG51bWJlciUzRCUyMjMlMjIlMkMlMEElMjAlMjAlMjAlMjBkb2klM0QlMjIxMC4xMTA5L1RTRS4yMDEyLjMwJTIyJTJDJTBBJTIwJTIwJTIwJTIwYXJ0X251bWJlciUzRCUyMjYxOTcyMDIlMjIlMkMlMEElMjAlMjAlMjAlMjBub3RlJTNEJTIyY2l0ZWQlMjBCeSUyMDUxJTIyJTJDJTBBJTIwJTIwJTIwJTIwSUQlM0QlMjJIb2RhMjAxMzQyMiUyMiUyQyUwQSUyMCUyMCUyMCUyMHBsYWNleCUzRCUyMklFRUUlMjBUcmFuc2FjdGlvbnMlMjBvbiUyMFNvZnR3YXJlJTIwRW5naW5lZXJpbmclMjIlMkMlMEElMjklMjklMEElMEFEQiUyOENpdGF0aW9uJTI4JTBBJTIwJTIwJTIwJTIwd2FhcmRlbmJ1cmcyMDEzYSUyQyUyMGhvZGEyMDEzYSUyQyUyMHJlZiUzRCUyMiUyMiUyQyUwQSUyMCUyMCUyMCUyMGNvbnRleHRzJTNEJTVCJTBBJTBBJTIwJTIwJTIwJTIwJTVEJTJDJTBBJTI5JTI5JTBBJTBBJTI3JTI3JTI3JTJDJTIwY2l0YXRpb25zJTNEJTI3d2FhcmRlbmJ1cmcyMDEzYSUyNyUyOSUzQg==\")));\n",
       "    "
      ],
      "text/plain": [
       "<IPython.core.display.Javascript object>"
      ]
     },
     "metadata": {},
     "output_type": "display_data"
    },
    {
     "data": {
      "application/javascript": [
       "$('span:contains(\"# Temp\")').closest('.cell').remove();"
      ],
      "text/plain": [
       "<IPython.core.display.Javascript object>"
      ]
     },
     "metadata": {},
     "output_type": "display_data"
    },
    {
     "data": {
      "application/javascript": [
       "\n",
       "        $('span:contains(\"# Temp\")').closest('.cell').remove();\n",
       "        var code = IPython.notebook.insert_cell_below('code');\n",
       "        code.set_text(decodeURIComponent(window.atob(\"JTIzJTIwVGVtcCUwQWluc2VydCUyOCUyNyUyNyUyNyUwQWhvZGEyMDEzYSUyMCUzRCUyMERCJTI4V29ya1VucmVsYXRlZCUyOCUwQSUyMCUyMCUyMCUyMDIwMTMlMkMlMjAlMjJTZWxmLW9yZ2FuaXppbmclMjByb2xlcyUyMG9uJTIwYWdpbGUlMjBzb2Z0d2FyZSUyMGRldmVsb3BtZW50JTIwdGVhbXMlMjIlMkMlMEElMjAlMjAlMjAlMjBkaXNwbGF5JTNEJTIyaG9kYSUyMiUyQyUwQSUyMCUyMCUyMCUyMGF1dGhvcnMlM0QlMjJIb2RhJTJDJTIwUi4lMjBhbmQlMjBOb2JsZSUyQyUyMEouJTIwYW5kJTIwTWFyc2hhbGwlMkMlMjBTLiUyMiUyQyUwQSUyMCUyMCUyMCUyMHBsYWNlJTNEVG9TRSUyQyUwQSUyMCUyMCUyMCUyMHBwJTNEJTIyNDIyLTQ0NCUyMiUyQyUwQSUyMCUyMCUyMCUyMGVudHJ5dHlwZSUzRCUyMmFydGljbGUlMjIlMkMlMEElMjAlMjAlMjAlMjB2b2x1bWUlM0QlMjIzOSUyMiUyQyUwQSUyMCUyMCUyMCUyMG51bWJlciUzRCUyMjMlMjIlMkMlMEElMjAlMjAlMjAlMjBkb2klM0QlMjIxMC4xMTA5L1RTRS4yMDEyLjMwJTIyJTJDJTBBJTIwJTIwJTIwJTIwYXJ0X251bWJlciUzRCUyMjYxOTcyMDIlMjIlMkMlMEElMjAlMjAlMjAlMjBub3RlJTNEJTIyY2l0ZWQlMjBCeSUyMDUxJTIyJTJDJTBBJTIwJTIwJTIwJTIwSUQlM0QlMjJIb2RhMjAxMzQyMiUyMiUyQyUwQSUyMCUyMCUyMCUyMHBsYWNleCUzRCUyMklFRUUlMjBUcmFuc2FjdGlvbnMlMjBvbiUyMFNvZnR3YXJlJTIwRW5naW5lZXJpbmclMjIlMkMlMEElMjklMjklMEElMEFEQiUyOENpdGF0aW9uJTI4JTBBJTIwJTIwJTIwJTIwd2FhcmRlbmJ1cmcyMDEzYSUyQyUyMGhvZGEyMDEzYSUyQyUyMHJlZiUzRCUyMiUyMiUyQyUwQSUyMCUyMCUyMCUyMGNvbnRleHRzJTNEJTVCJTBBJTBBJTIwJTIwJTIwJTIwJTVEJTJDJTBBJTI5JTI5JTBBJTBBJTI3JTI3JTI3JTJDJTIwY2l0YXRpb25zJTNEJTI3d2FhcmRlbmJ1cmcyMDEzYSUyNyUyOSUzQg==\")));\n",
       "    "
      ],
      "text/plain": [
       "<IPython.core.display.Javascript object>"
      ]
     },
     "metadata": {},
     "output_type": "display_data"
    },
    {
     "data": {
      "application/javascript": [
       "$('span:contains(\"# Temp\")').closest('.cell').remove();"
      ],
      "text/plain": [
       "<IPython.core.display.Javascript object>"
      ]
     },
     "metadata": {},
     "output_type": "display_data"
    },
    {
     "data": {
      "application/javascript": [
       "\n",
       "        $('span:contains(\"# Temp\")').closest('.cell').remove();\n",
       "        var code = IPython.notebook.insert_cell_below('code');\n",
       "        code.set_text(decodeURIComponent(window.atob(\"JTIzJTIwVGVtcCUwQWluc2VydCUyOCUyNyUyNyUyNyUwQURCJTI4Q2l0YXRpb24lMjglMEElMjAlMjAlMjAlMjB3YWFyZGVuYnVyZzIwMTNhJTJDJTIwaWl2YXJpMjAxMWElMkMlMjByZWYlM0QlMjIlMjIlMkMlMEElMjAlMjAlMjAlMjBjb250ZXh0cyUzRCU1QiUwQSUwQSUyMCUyMCUyMCUyMCU1RCUyQyUwQSUyOSUyOSUwQSUwQSUyNyUyNyUyNyUyQyUyMGNpdGF0aW9ucyUzRCUyN3dhYXJkZW5idXJnMjAxM2ElMjclMjklM0IlMEFzZXRfYXR0cmlidXRlJTI4JTI3aWl2YXJpMjAxMWElMjclMkMlMjAlMjdkb2klMjclMkMlMjAlMjcxMC4xMDE2L2ouaW5mc29mLjIwMTAuMTAuMDA4JTI3JTI5JTNCJTBBc2V0X2F0dHJpYnV0ZSUyOCUyN2lpdmFyaTIwMTFhJTI3JTJDJTIwJTI3bm90ZSUyNyUyQyUyMCUyN2NpdGVkJTIwQnklMjA4MCUyNyUyOSUzQg==\")));\n",
       "    "
      ],
      "text/plain": [
       "<IPython.core.display.Javascript object>"
      ]
     },
     "metadata": {},
     "output_type": "display_data"
    },
    {
     "data": {
      "application/javascript": [
       "$('span:contains(\"# Temp\")').closest('.cell').remove();"
      ],
      "text/plain": [
       "<IPython.core.display.Javascript object>"
      ]
     },
     "metadata": {},
     "output_type": "display_data"
    },
    {
     "data": {
      "application/javascript": [
       "\n",
       "        $('span:contains(\"# Temp\")').closest('.cell').remove();\n",
       "        var code = IPython.notebook.insert_cell_below('code');\n",
       "        code.set_text(decodeURIComponent(window.atob(\"JTIzJTIwVGVtcCUwQWluc2VydCUyOCUyNyUyNyUyNyUwQURCJTI4Q2l0YXRpb24lMjglMEElMjAlMjAlMjAlMjB3YWFyZGVuYnVyZzIwMTNhJTJDJTIwaWl2YXJpMjAxMWElMkMlMjByZWYlM0QlMjIlMjIlMkMlMEElMjAlMjAlMjAlMjBjb250ZXh0cyUzRCU1QiUwQSUwQSUyMCUyMCUyMCUyMCU1RCUyQyUwQSUyOSUyOSUwQSUwQSUyNyUyNyUyNyUyQyUyMGNpdGF0aW9ucyUzRCUyN3dhYXJkZW5idXJnMjAxM2ElMjclMjklM0IlMEFzZXRfYXR0cmlidXRlJTI4JTI3aWl2YXJpMjAxMWElMjclMkMlMjAlMjdkb2klMjclMkMlMjAlMjcxMC4xMDE2L2ouaW5mc29mLjIwMTAuMTAuMDA4JTI3JTI5JTNCJTBBc2V0X2F0dHJpYnV0ZSUyOCUyN2lpdmFyaTIwMTFhJTI3JTJDJTIwJTI3bm90ZSUyNyUyQyUyMCUyN2NpdGVkJTIwQnklMjA4MCUyNyUyOSUzQg==\")));\n",
       "    "
      ],
      "text/plain": [
       "<IPython.core.display.Javascript object>"
      ]
     },
     "metadata": {},
     "output_type": "display_data"
    },
    {
     "data": {
      "application/javascript": [
       "$('span:contains(\"# Temp\")').closest('.cell').remove();"
      ],
      "text/plain": [
       "<IPython.core.display.Javascript object>"
      ]
     },
     "metadata": {},
     "output_type": "display_data"
    },
    {
     "data": {
      "application/javascript": [
       "\n",
       "        $('span:contains(\"# Temp\")').closest('.cell').remove();\n",
       "        var code = IPython.notebook.insert_cell_below('code');\n",
       "        code.set_text(decodeURIComponent(window.atob(\"JTIzJTIwVGVtcCUwQWluc2VydCUyOCUyNyUyNyUyNyUwQWlzaGFtMjAwOGElMjAlM0QlMjBEQiUyOFdvcmtVbnJlbGF0ZWQlMjglMEElMjAlMjAlMjAlMjAyMDA4JTJDJTIwJTIyQWdpbGUlMjBhcmNoaXRlY3R1cmUlMjBJUyUyMHBvc3NpYmxlJTIwLSUyMFlvdSUyMGZpcnN0JTIwaGF2ZSUyMHRvJTIwYmVsaWV2ZSUyMSUyMiUyQyUwQSUyMCUyMCUyMCUyMGRpc3BsYXklM0QlMjJpc2hhbSUyMiUyQyUwQSUyMCUyMCUyMCUyMGF1dGhvcnMlM0QlMjJJc2hhbSUyQyUyME0uJTIyJTJDJTBBJTIwJTIwJTIwJTIwcGxhY2UlM0RGQUtFJTJDJTBBJTIwJTIwJTIwJTIwcHAlM0QlMjI0ODQtNDg5JTIyJTJDJTBBJTIwJTIwJTIwJTIwZW50cnl0eXBlJTNEJTIyY29uZmVyZW5jZSUyMiUyQyUwQSUyMCUyMCUyMCUyMGRvaSUzRCUyMjEwLjExMDkvQWdpbGUuMjAwOC4xNiUyMiUyQyUwQSUyMCUyMCUyMCUyMGFydF9udW1iZXIlM0QlMjI0NTk5NTI2JTIyJTJDJTBBJTIwJTIwJTIwJTIwbm90ZSUzRCUyMmNpdGVkJTIwQnklMjA4JTIyJTJDJTBBJTIwJTIwJTIwJTIwSUQlM0QlMjJJc2hhbTIwMDg0ODQlMjIlMkMlMEElMjAlMjAlMjAlMjBwbGFjZXglM0QlMjJQcm9jZWVkaW5ncyUyMC0lMjBBZ2lsZSUyMDIwMDglMjBDb25mZXJlbmNlJTIyJTJDJTBBJTI5JTI5JTBBJTBBREIlMjhDaXRhdGlvbiUyOCUwQSUyMCUyMCUyMCUyMHdhYXJkZW5idXJnMjAxM2ElMkMlMjBpc2hhbTIwMDhhJTJDJTIwcmVmJTNEJTIyJTIyJTJDJTBBJTIwJTIwJTIwJTIwY29udGV4dHMlM0QlNUIlMEElMEElMjAlMjAlMjAlMjAlNUQlMkMlMEElMjklMjklMEElMEElMjclMjclMjclMkMlMjBjaXRhdGlvbnMlM0QlMjd3YWFyZGVuYnVyZzIwMTNhJTI3JTI5JTNC\")));\n",
       "    "
      ],
      "text/plain": [
       "<IPython.core.display.Javascript object>"
      ]
     },
     "metadata": {},
     "output_type": "display_data"
    },
    {
     "data": {
      "application/javascript": [
       "$('span:contains(\"# Temp\")').closest('.cell').remove();"
      ],
      "text/plain": [
       "<IPython.core.display.Javascript object>"
      ]
     },
     "metadata": {},
     "output_type": "display_data"
    },
    {
     "data": {
      "application/javascript": [
       "\n",
       "        $('span:contains(\"# Temp\")').closest('.cell').remove();\n",
       "        var code = IPython.notebook.insert_cell_below('code');\n",
       "        code.set_text(decodeURIComponent(window.atob(\"JTIzJTIwVGVtcCUwQWluc2VydCUyOCUyNyUyNyUyNyUwQWlzaGFtMjAwOGElMjAlM0QlMjBEQiUyOFdvcmtVbnJlbGF0ZWQlMjglMEElMjAlMjAlMjAlMjAyMDA4JTJDJTIwJTIyQWdpbGUlMjBhcmNoaXRlY3R1cmUlMjBJUyUyMHBvc3NpYmxlJTIwLSUyMFlvdSUyMGZpcnN0JTIwaGF2ZSUyMHRvJTIwYmVsaWV2ZSUyMSUyMiUyQyUwQSUyMCUyMCUyMCUyMGRpc3BsYXklM0QlMjJpc2hhbSUyMiUyQyUwQSUyMCUyMCUyMCUyMGF1dGhvcnMlM0QlMjJJc2hhbSUyQyUyME0uJTIyJTJDJTBBJTIwJTIwJTIwJTIwcGxhY2UlM0RGQUtFJTJDJTBBJTIwJTIwJTIwJTIwcHAlM0QlMjI0ODQtNDg5JTIyJTJDJTBBJTIwJTIwJTIwJTIwZW50cnl0eXBlJTNEJTIyY29uZmVyZW5jZSUyMiUyQyUwQSUyMCUyMCUyMCUyMGRvaSUzRCUyMjEwLjExMDkvQWdpbGUuMjAwOC4xNiUyMiUyQyUwQSUyMCUyMCUyMCUyMGFydF9udW1iZXIlM0QlMjI0NTk5NTI2JTIyJTJDJTBBJTIwJTIwJTIwJTIwbm90ZSUzRCUyMmNpdGVkJTIwQnklMjA4JTIyJTJDJTBBJTIwJTIwJTIwJTIwSUQlM0QlMjJJc2hhbTIwMDg0ODQlMjIlMkMlMEElMjAlMjAlMjAlMjBwbGFjZXglM0QlMjJQcm9jZWVkaW5ncyUyMC0lMjBBZ2lsZSUyMDIwMDglMjBDb25mZXJlbmNlJTIyJTJDJTBBJTI5JTI5JTBBJTBBREIlMjhDaXRhdGlvbiUyOCUwQSUyMCUyMCUyMCUyMHdhYXJkZW5idXJnMjAxM2ElMkMlMjBpc2hhbTIwMDhhJTJDJTIwcmVmJTNEJTIyJTIyJTJDJTBBJTIwJTIwJTIwJTIwY29udGV4dHMlM0QlNUIlMEElMEElMjAlMjAlMjAlMjAlNUQlMkMlMEElMjklMjklMEElMEElMjclMjclMjclMkMlMjBjaXRhdGlvbnMlM0QlMjd3YWFyZGVuYnVyZzIwMTNhJTI3JTI5JTNC\")));\n",
       "    "
      ],
      "text/plain": [
       "<IPython.core.display.Javascript object>"
      ]
     },
     "metadata": {},
     "output_type": "display_data"
    },
    {
     "data": {
      "application/javascript": [
       "$('span:contains(\"# Temp\")').closest('.cell').remove();"
      ],
      "text/plain": [
       "<IPython.core.display.Javascript object>"
      ]
     },
     "metadata": {},
     "output_type": "display_data"
    },
    {
     "data": {
      "application/javascript": [
       "\n",
       "        $('span:contains(\"# Temp\")').closest('.cell').remove();\n",
       "        var code = IPython.notebook.insert_cell_below('code');\n",
       "        code.set_text(decodeURIComponent(window.atob(\"JTIzJTIwVGVtcCUwQWluc2VydCUyOCUyNyUyNyUyNyUwQWphbmlzMTk3MmElMjAlM0QlMjBEQiUyOFdvcmtVbnJlbGF0ZWQlMjglMEElMjAlMjAlMjAlMjAxOTcyJTJDJTIwJTIyR3JvdXB0aGluayUzQSUyMFBzeWNob2xvZ2ljYWwlMjBTdHVkaWVzJTIwb2YlMjBQb2xpY3klMjBEZWNpc2lvbnMlMjBhbmQlMjBGaWFzY29lcyUyMiUyQyUwQSUyMCUyMCUyMCUyMGRpc3BsYXklM0QlMjJqYW5pcyUyMiUyQyUwQSUyMCUyMCUyMCUyMGF1dGhvcnMlM0QlMjJKYW5pcyUyQyUyMEkuTC4lMjIlMkMlMEElMjAlMjAlMjAlMjBwbGFjZSUzREZBS0UlMkMlMEElMjAlMjAlMjAlMjBlbnRyeXR5cGUlM0QlMjJhcnRpY2xlJTIyJTJDJTBBJTIwJTIwJTIwJTIwbm90ZSUzRCUyMmNpdGVkJTIwQnklMjAyNjQzJTIyJTJDJTBBJTIwJTIwJTIwJTIwSUQlM0QlMjJKYW5pczE5NzIlMjIlMkMlMEElMjAlMjAlMjAlMjBwbGFjZXglM0QlMjJWaWN0aW1zJTIwb2YlMjBHcm91cHRoaW5rJTIwSG91Z2h0b24lMjBNaWZmbGluJTIwQ29tcGFueSUyMiUyQyUwQSUyOSUyOSUwQSUwQURCJTI4Q2l0YXRpb24lMjglMEElMjAlMjAlMjAlMjB3YWFyZGVuYnVyZzIwMTNhJTJDJTIwamFuaXMxOTcyYSUyQyUyMHJlZiUzRCUyMiUyMiUyQyUwQSUyMCUyMCUyMCUyMGNvbnRleHRzJTNEJTVCJTBBJTBBJTIwJTIwJTIwJTIwJTVEJTJDJTBBJTI5JTI5JTBBJTBBJTI3JTI3JTI3JTJDJTIwY2l0YXRpb25zJTNEJTI3d2FhcmRlbmJ1cmcyMDEzYSUyNyUyOSUzQg==\")));\n",
       "    "
      ],
      "text/plain": [
       "<IPython.core.display.Javascript object>"
      ]
     },
     "metadata": {},
     "output_type": "display_data"
    },
    {
     "data": {
      "application/javascript": [
       "$('span:contains(\"# Temp\")').closest('.cell').remove();"
      ],
      "text/plain": [
       "<IPython.core.display.Javascript object>"
      ]
     },
     "metadata": {},
     "output_type": "display_data"
    },
    {
     "data": {
      "application/javascript": [
       "\n",
       "        $('span:contains(\"# Temp\")').closest('.cell').remove();\n",
       "        var code = IPython.notebook.insert_cell_below('code');\n",
       "        code.set_text(decodeURIComponent(window.atob(\"JTIzJTIwVGVtcCUwQWluc2VydCUyOCUyNyUyNyUyNyUwQWphbmlzMTk3MmElMjAlM0QlMjBEQiUyOFdvcmtVbnJlbGF0ZWQlMjglMEElMjAlMjAlMjAlMjAxOTcyJTJDJTIwJTIyR3JvdXB0aGluayUzQSUyMFBzeWNob2xvZ2ljYWwlMjBTdHVkaWVzJTIwb2YlMjBQb2xpY3klMjBEZWNpc2lvbnMlMjBhbmQlMjBGaWFzY29lcyUyMiUyQyUwQSUyMCUyMCUyMCUyMGRpc3BsYXklM0QlMjJqYW5pcyUyMiUyQyUwQSUyMCUyMCUyMCUyMGF1dGhvcnMlM0QlMjJKYW5pcyUyQyUyMEkuTC4lMjIlMkMlMEElMjAlMjAlMjAlMjBwbGFjZSUzREZBS0UlMkMlMEElMjAlMjAlMjAlMjBlbnRyeXR5cGUlM0QlMjJhcnRpY2xlJTIyJTJDJTBBJTIwJTIwJTIwJTIwbm90ZSUzRCUyMmNpdGVkJTIwQnklMjAyNjQzJTIyJTJDJTBBJTIwJTIwJTIwJTIwSUQlM0QlMjJKYW5pczE5NzIlMjIlMkMlMEElMjAlMjAlMjAlMjBwbGFjZXglM0QlMjJWaWN0aW1zJTIwb2YlMjBHcm91cHRoaW5rJTIwSG91Z2h0b24lMjBNaWZmbGluJTIwQ29tcGFueSUyMiUyQyUwQSUyOSUyOSUwQSUwQURCJTI4Q2l0YXRpb24lMjglMEElMjAlMjAlMjAlMjB3YWFyZGVuYnVyZzIwMTNhJTJDJTIwamFuaXMxOTcyYSUyQyUyMHJlZiUzRCUyMiUyMiUyQyUwQSUyMCUyMCUyMCUyMGNvbnRleHRzJTNEJTVCJTBBJTBBJTIwJTIwJTIwJTIwJTVEJTJDJTBBJTI5JTI5JTBBJTBBJTI3JTI3JTI3JTJDJTIwY2l0YXRpb25zJTNEJTI3d2FhcmRlbmJ1cmcyMDEzYSUyNyUyOSUzQg==\")));\n",
       "    "
      ],
      "text/plain": [
       "<IPython.core.display.Javascript object>"
      ]
     },
     "metadata": {},
     "output_type": "display_data"
    },
    {
     "data": {
      "application/javascript": [
       "$('span:contains(\"# Temp\")').closest('.cell').remove();"
      ],
      "text/plain": [
       "<IPython.core.display.Javascript object>"
      ]
     },
     "metadata": {},
     "output_type": "display_data"
    },
    {
     "data": {
      "application/javascript": [
       "\n",
       "        $('span:contains(\"# Temp\")').closest('.cell').remove();\n",
       "        var code = IPython.notebook.insert_cell_below('code');\n",
       "        code.set_text(decodeURIComponent(window.atob(\"JTIzJTIwVGVtcCUwQWluc2VydCUyOCUyNyUyNyUyNyUwQWthcmxzdHIlQzMlQjZtMjAwNmElMjAlM0QlMjBEQiUyOFdvcmtVbnJlbGF0ZWQlMjglMEElMjAlMjAlMjAlMjAyMDA2JTJDJTIwJTIySW50ZWdyYXRpbmclMjBhZ2lsZSUyMHNvZnR3YXJlJTIwZGV2ZWxvcG1lbnQlMjBpbnRvJTIwc3RhZ2UtZ2F0ZSUyMG1hbmFnZWQlMjBwcm9kdWN0JTIwZGV2ZWxvcG1lbnQlMjIlMkMlMEElMjAlMjAlMjAlMjBkaXNwbGF5JTNEJTIya2FybHN0ciVDMyVCNm0lMjIlMkMlMEElMjAlMjAlMjAlMjBhdXRob3JzJTNEJTIyS2FybHN0ciVDMyVCNm0lMkMlMjBELiUyMGFuZCUyMFJ1bmVzb24lMkMlMjBQLiUyMiUyQyUwQSUyMCUyMCUyMCUyMHBsYWNlJTNERVNFJTJDJTBBJTIwJTIwJTIwJTIwcHAlM0QlMjIyMDMtMjI1JTIyJTJDJTBBJTIwJTIwJTIwJTIwZW50cnl0eXBlJTNEJTIyYXJ0aWNsZSUyMiUyQyUwQSUyMCUyMCUyMCUyMHZvbHVtZSUzRCUyMjExJTIyJTJDJTBBJTIwJTIwJTIwJTIwbnVtYmVyJTNEJTIyMiUyMiUyQyUwQSUyMCUyMCUyMCUyMGRvaSUzRCUyMjEwLjEwMDcvczEwNjY0LTAwNi02NDAyLTglMjIlMkMlMEElMjAlMjAlMjAlMjBub3RlJTNEJTIyY2l0ZWQlMjBCeSUyMDUxJTIyJTJDJTBBJTIwJTIwJTIwJTIwSUQlM0QlMjJLYXJsc3RyJUMzJUI2bTIwMDYyMDMlMjIlMkMlMEElMjAlMjAlMjAlMjBwbGFjZXglM0QlMjJFbXBpcmljYWwlMjBTb2Z0d2FyZSUyMEVuZ2luZWVyaW5nJTIyJTJDJTBBJTI5JTI5JTBBJTBBREIlMjhDaXRhdGlvbiUyOCUwQSUyMCUyMCUyMCUyMHdhYXJkZW5idXJnMjAxM2ElMkMlMjBrYXJsc3RyJUMzJUI2bTIwMDZhJTJDJTIwcmVmJTNEJTIyJTIyJTJDJTBBJTIwJTIwJTIwJTIwY29udGV4dHMlM0QlNUIlMEElMEElMjAlMjAlMjAlMjAlNUQlMkMlMEElMjklMjklMEElMEElMjclMjclMjclMkMlMjBjaXRhdGlvbnMlM0QlMjd3YWFyZGVuYnVyZzIwMTNhJTI3JTI5JTNC\")));\n",
       "    "
      ],
      "text/plain": [
       "<IPython.core.display.Javascript object>"
      ]
     },
     "metadata": {},
     "output_type": "display_data"
    },
    {
     "data": {
      "application/javascript": [
       "$('span:contains(\"# Temp\")').closest('.cell').remove();"
      ],
      "text/plain": [
       "<IPython.core.display.Javascript object>"
      ]
     },
     "metadata": {},
     "output_type": "display_data"
    },
    {
     "data": {
      "application/javascript": [
       "\n",
       "        $('span:contains(\"# Temp\")').closest('.cell').remove();\n",
       "        var code = IPython.notebook.insert_cell_below('code');\n",
       "        code.set_text(decodeURIComponent(window.atob(\"JTIzJTIwVGVtcCUwQWluc2VydCUyOCUyNyUyNyUyNyUwQWthcmxzdHIlQzMlQjZtMjAwNmElMjAlM0QlMjBEQiUyOFdvcmtVbnJlbGF0ZWQlMjglMEElMjAlMjAlMjAlMjAyMDA2JTJDJTIwJTIySW50ZWdyYXRpbmclMjBhZ2lsZSUyMHNvZnR3YXJlJTIwZGV2ZWxvcG1lbnQlMjBpbnRvJTIwc3RhZ2UtZ2F0ZSUyMG1hbmFnZWQlMjBwcm9kdWN0JTIwZGV2ZWxvcG1lbnQlMjIlMkMlMEElMjAlMjAlMjAlMjBkaXNwbGF5JTNEJTIya2FybHN0ciVDMyVCNm0lMjIlMkMlMEElMjAlMjAlMjAlMjBhdXRob3JzJTNEJTIyS2FybHN0ciVDMyVCNm0lMkMlMjBELiUyMGFuZCUyMFJ1bmVzb24lMkMlMjBQLiUyMiUyQyUwQSUyMCUyMCUyMCUyMHBsYWNlJTNERVNFJTJDJTBBJTIwJTIwJTIwJTIwcHAlM0QlMjIyMDMtMjI1JTIyJTJDJTBBJTIwJTIwJTIwJTIwZW50cnl0eXBlJTNEJTIyYXJ0aWNsZSUyMiUyQyUwQSUyMCUyMCUyMCUyMHZvbHVtZSUzRCUyMjExJTIyJTJDJTBBJTIwJTIwJTIwJTIwbnVtYmVyJTNEJTIyMiUyMiUyQyUwQSUyMCUyMCUyMCUyMGRvaSUzRCUyMjEwLjEwMDcvczEwNjY0LTAwNi02NDAyLTglMjIlMkMlMEElMjAlMjAlMjAlMjBub3RlJTNEJTIyY2l0ZWQlMjBCeSUyMDUxJTIyJTJDJTBBJTIwJTIwJTIwJTIwSUQlM0QlMjJLYXJsc3RyJUMzJUI2bTIwMDYyMDMlMjIlMkMlMEElMjAlMjAlMjAlMjBwbGFjZXglM0QlMjJFbXBpcmljYWwlMjBTb2Z0d2FyZSUyMEVuZ2luZWVyaW5nJTIyJTJDJTBBJTI5JTI5JTBBJTBBREIlMjhDaXRhdGlvbiUyOCUwQSUyMCUyMCUyMCUyMHdhYXJkZW5idXJnMjAxM2ElMkMlMjBrYXJsc3RyJUMzJUI2bTIwMDZhJTJDJTIwcmVmJTNEJTIyJTIyJTJDJTBBJTIwJTIwJTIwJTIwY29udGV4dHMlM0QlNUIlMEElMEElMjAlMjAlMjAlMjAlNUQlMkMlMEElMjklMjklMEElMEElMjclMjclMjclMkMlMjBjaXRhdGlvbnMlM0QlMjd3YWFyZGVuYnVyZzIwMTNhJTI3JTI5JTNC\")));\n",
       "    "
      ],
      "text/plain": [
       "<IPython.core.display.Javascript object>"
      ]
     },
     "metadata": {},
     "output_type": "display_data"
    },
    {
     "data": {
      "application/javascript": [
       "$('span:contains(\"# Temp\")').closest('.cell').remove();"
      ],
      "text/plain": [
       "<IPython.core.display.Javascript object>"
      ]
     },
     "metadata": {},
     "output_type": "display_data"
    },
    {
     "data": {
      "application/javascript": [
       "\n",
       "        $('span:contains(\"# Temp\")').closest('.cell').remove();\n",
       "        var code = IPython.notebook.insert_cell_below('code');\n",
       "        code.set_text(decodeURIComponent(window.atob(\"JTIzJTIwVGVtcCUwQWluc2VydCUyOCUyNyUyNyUyNyUwQURCJTI4Q2l0YXRpb24lMjglMEElMjAlMjAlMjAlMjB3YWFyZGVuYnVyZzIwMTNhJTJDJTIwa2V0dHVuZW4yMDA4YSUyQyUyMHJlZiUzRCUyMiUyMiUyQyUwQSUyMCUyMCUyMCUyMGNvbnRleHRzJTNEJTVCJTBBJTBBJTIwJTIwJTIwJTIwJTVEJTJDJTBBJTI5JTI5JTBBJTBBJTI3JTI3JTI3JTJDJTIwY2l0YXRpb25zJTNEJTI3d2FhcmRlbmJ1cmcyMDEzYSUyNyUyOSUzQiUwQXNldF9hdHRyaWJ1dGUlMjglMjdrZXR0dW5lbjIwMDhhJTI3JTJDJTIwJTI3ZG9pJTI3JTJDJTIwJTI3MTAuMTAwMi9zcGlwLjM1NCUyNyUyOSUzQiUwQXNldF9hdHRyaWJ1dGUlMjglMjdrZXR0dW5lbjIwMDhhJTI3JTJDJTIwJTI3bm90ZSUyNyUyQyUyMCUyN2NpdGVkJTIwQnklMjAzNyUyNyUyOSUzQg==\")));\n",
       "    "
      ],
      "text/plain": [
       "<IPython.core.display.Javascript object>"
      ]
     },
     "metadata": {},
     "output_type": "display_data"
    },
    {
     "data": {
      "application/javascript": [
       "$('span:contains(\"# Temp\")').closest('.cell').remove();"
      ],
      "text/plain": [
       "<IPython.core.display.Javascript object>"
      ]
     },
     "metadata": {},
     "output_type": "display_data"
    },
    {
     "data": {
      "application/javascript": [
       "\n",
       "        $('span:contains(\"# Temp\")').closest('.cell').remove();\n",
       "        var code = IPython.notebook.insert_cell_below('code');\n",
       "        code.set_text(decodeURIComponent(window.atob(\"JTIzJTIwVGVtcCUwQWluc2VydCUyOCUyNyUyNyUyNyUwQURCJTI4Q2l0YXRpb24lMjglMEElMjAlMjAlMjAlMjB3YWFyZGVuYnVyZzIwMTNhJTJDJTIwa2V0dHVuZW4yMDA4YSUyQyUyMHJlZiUzRCUyMiUyMiUyQyUwQSUyMCUyMCUyMCUyMGNvbnRleHRzJTNEJTVCJTBBJTBBJTIwJTIwJTIwJTIwJTVEJTJDJTBBJTI5JTI5JTBBJTBBJTI3JTI3JTI3JTJDJTIwY2l0YXRpb25zJTNEJTI3d2FhcmRlbmJ1cmcyMDEzYSUyNyUyOSUzQiUwQXNldF9hdHRyaWJ1dGUlMjglMjdrZXR0dW5lbjIwMDhhJTI3JTJDJTIwJTI3ZG9pJTI3JTJDJTIwJTI3MTAuMTAwMi9zcGlwLjM1NCUyNyUyOSUzQiUwQXNldF9hdHRyaWJ1dGUlMjglMjdrZXR0dW5lbjIwMDhhJTI3JTJDJTIwJTI3bm90ZSUyNyUyQyUyMCUyN2NpdGVkJTIwQnklMjAzNyUyNyUyOSUzQg==\")));\n",
       "    "
      ],
      "text/plain": [
       "<IPython.core.display.Javascript object>"
      ]
     },
     "metadata": {},
     "output_type": "display_data"
    },
    {
     "data": {
      "application/javascript": [
       "$('span:contains(\"# Temp\")').closest('.cell').remove();"
      ],
      "text/plain": [
       "<IPython.core.display.Javascript object>"
      ]
     },
     "metadata": {},
     "output_type": "display_data"
    },
    {
     "data": {
      "application/javascript": [
       "\n",
       "        $('span:contains(\"# Temp\")').closest('.cell').remove();\n",
       "        var code = IPython.notebook.insert_cell_below('code');\n",
       "        code.set_text(decodeURIComponent(window.atob(\"JTIzJTIwVGVtcCUwQWluc2VydCUyOCUyNyUyNyUyNyUwQURCJTI4Q2l0YXRpb24lMjglMEElMjAlMjAlMjAlMjB3YWFyZGVuYnVyZzIwMTNhJTJDJTIwa3J1Y2h0ZW4yMDEzYSUyQyUyMHJlZiUzRCUyMiUyMiUyQyUwQSUyMCUyMCUyMCUyMGNvbnRleHRzJTNEJTVCJTBBJTBBJTIwJTIwJTIwJTIwJTVEJTJDJTBBJTI5JTI5JTBBJTBBJTI3JTI3JTI3JTJDJTIwY2l0YXRpb25zJTNEJTI3d2FhcmRlbmJ1cmcyMDEzYSUyNyUyOSUzQiUwQXNldF9hdHRyaWJ1dGUlMjglMjdrcnVjaHRlbjIwMTNhJTI3JTJDJTIwJTI3ZG9pJTI3JTJDJTIwJTI3MTAuMTAwMi9zbXIuNTcyJTI3JTI5JTNCJTBBc2V0X2F0dHJpYnV0ZSUyOCUyN2tydWNodGVuMjAxM2ElMjclMkMlMjAlMjdub3RlJTI3JTJDJTIwJTI3Y2l0ZWQlMjBCeSUyMDQ1JTI3JTI5JTNC\")));\n",
       "    "
      ],
      "text/plain": [
       "<IPython.core.display.Javascript object>"
      ]
     },
     "metadata": {},
     "output_type": "display_data"
    },
    {
     "data": {
      "application/javascript": [
       "$('span:contains(\"# Temp\")').closest('.cell').remove();"
      ],
      "text/plain": [
       "<IPython.core.display.Javascript object>"
      ]
     },
     "metadata": {},
     "output_type": "display_data"
    },
    {
     "data": {
      "application/javascript": [
       "\n",
       "        $('span:contains(\"# Temp\")').closest('.cell').remove();\n",
       "        var code = IPython.notebook.insert_cell_below('code');\n",
       "        code.set_text(decodeURIComponent(window.atob(\"JTIzJTIwVGVtcCUwQWluc2VydCUyOCUyNyUyNyUyNyUwQURCJTI4Q2l0YXRpb24lMjglMEElMjAlMjAlMjAlMjB3YWFyZGVuYnVyZzIwMTNhJTJDJTIwa3J1Y2h0ZW4yMDEzYSUyQyUyMHJlZiUzRCUyMiUyMiUyQyUwQSUyMCUyMCUyMCUyMGNvbnRleHRzJTNEJTVCJTBBJTBBJTIwJTIwJTIwJTIwJTVEJTJDJTBBJTI5JTI5JTBBJTBBJTI3JTI3JTI3JTJDJTIwY2l0YXRpb25zJTNEJTI3d2FhcmRlbmJ1cmcyMDEzYSUyNyUyOSUzQiUwQXNldF9hdHRyaWJ1dGUlMjglMjdrcnVjaHRlbjIwMTNhJTI3JTJDJTIwJTI3ZG9pJTI3JTJDJTIwJTI3MTAuMTAwMi9zbXIuNTcyJTI3JTI5JTNCJTBBc2V0X2F0dHJpYnV0ZSUyOCUyN2tydWNodGVuMjAxM2ElMjclMkMlMjAlMjdub3RlJTI3JTJDJTIwJTI3Y2l0ZWQlMjBCeSUyMDQ1JTI3JTI5JTNC\")));\n",
       "    "
      ],
      "text/plain": [
       "<IPython.core.display.Javascript object>"
      ]
     },
     "metadata": {},
     "output_type": "display_data"
    },
    {
     "data": {
      "application/javascript": [
       "$('span:contains(\"# Temp\")').closest('.cell').remove();"
      ],
      "text/plain": [
       "<IPython.core.display.Javascript object>"
      ]
     },
     "metadata": {},
     "output_type": "display_data"
    },
    {
     "data": {
      "application/javascript": [
       "\n",
       "        $('span:contains(\"# Temp\")').closest('.cell').remove();\n",
       "        var code = IPython.notebook.insert_cell_below('code');\n",
       "        code.set_text(decodeURIComponent(window.atob(\"JTIzJTIwVGVtcCUwQWluc2VydCUyOCUyNyUyNyUyNyUwQWt1cmFwYXRpMjAxMmElMjAlM0QlMjBEQiUyOFdvcmtVbnJlbGF0ZWQlMjglMEElMjAlMjAlMjAlMjAyMDEyJTJDJTIwJTIyQWdpbGUlMjBzb2Z0d2FyZSUyMGRldmVsb3BtZW50JTIwcHJhY3RpY2UlMjBhZG9wdGlvbiUyMHN1cnZleSUyMiUyQyUwQSUyMCUyMCUyMCUyMGRpc3BsYXklM0QlMjJrdXJhcGF0aSUyMiUyQyUwQSUyMCUyMCUyMCUyMGF1dGhvcnMlM0QlMjJLdXJhcGF0aSUyQyUyME4uJTIwYW5kJTIwTWFueWFtJTJDJTIwVi5TLkMuJTIwYW5kJTIwUGV0ZXJzZW4lMkMlMjBLLiUyMiUyQyUwQSUyMCUyMCUyMCUyMHBsYWNlJTNEQklQJTJDJTBBJTIwJTIwJTIwJTIwcHAlM0QlMjIxNi0zMCUyMiUyQyUwQSUyMCUyMCUyMCUyMGVudHJ5dHlwZSUzRCUyMmFydGljbGUlMjIlMkMlMEElMjAlMjAlMjAlMjB2b2x1bWUlM0QlMjIxMTElMjBMTkJJUCUyMiUyQyUwQSUyMCUyMCUyMCUyMGRvaSUzRCUyMjEwLjEwMDcvOTc4LTMtNjQyLTMwMzUwLTBfMiUyMiUyQyUwQSUyMCUyMCUyMCUyMG5vdGUlM0QlMjJjaXRlZCUyMEJ5JTIwMTklMjIlMkMlMEElMjAlMjAlMjAlMjBJRCUzRCUyMkt1cmFwYXRpMjAxMjE2JTIyJTJDJTBBJTIwJTIwJTIwJTIwcGxhY2V4JTNEJTIyTGVjdHVyZSUyME5vdGVzJTIwaW4lMjBCdXNpbmVzcyUyMEluZm9ybWF0aW9uJTIwUHJvY2Vzc2luZyUyMiUyQyUwQSUyOSUyOSUwQSUwQURCJTI4Q2l0YXRpb24lMjglMEElMjAlMjAlMjAlMjB3YWFyZGVuYnVyZzIwMTNhJTJDJTIwa3VyYXBhdGkyMDEyYSUyQyUyMHJlZiUzRCUyMiUyMiUyQyUwQSUyMCUyMCUyMCUyMGNvbnRleHRzJTNEJTVCJTBBJTBBJTIwJTIwJTIwJTIwJTVEJTJDJTBBJTI5JTI5JTBBJTBBJTI3JTI3JTI3JTJDJTIwY2l0YXRpb25zJTNEJTI3d2FhcmRlbmJ1cmcyMDEzYSUyNyUyOSUzQg==\")));\n",
       "    "
      ],
      "text/plain": [
       "<IPython.core.display.Javascript object>"
      ]
     },
     "metadata": {},
     "output_type": "display_data"
    },
    {
     "data": {
      "application/javascript": [
       "$('span:contains(\"# Temp\")').closest('.cell').remove();"
      ],
      "text/plain": [
       "<IPython.core.display.Javascript object>"
      ]
     },
     "metadata": {},
     "output_type": "display_data"
    },
    {
     "data": {
      "application/javascript": [
       "\n",
       "        $('span:contains(\"# Temp\")').closest('.cell').remove();\n",
       "        var code = IPython.notebook.insert_cell_below('code');\n",
       "        code.set_text(decodeURIComponent(window.atob(\"JTIzJTIwVGVtcCUwQWluc2VydCUyOCUyNyUyNyUyNyUwQWt1cmFwYXRpMjAxMmElMjAlM0QlMjBEQiUyOFdvcmtVbnJlbGF0ZWQlMjglMEElMjAlMjAlMjAlMjAyMDEyJTJDJTIwJTIyQWdpbGUlMjBzb2Z0d2FyZSUyMGRldmVsb3BtZW50JTIwcHJhY3RpY2UlMjBhZG9wdGlvbiUyMHN1cnZleSUyMiUyQyUwQSUyMCUyMCUyMCUyMGRpc3BsYXklM0QlMjJrdXJhcGF0aSUyMiUyQyUwQSUyMCUyMCUyMCUyMGF1dGhvcnMlM0QlMjJLdXJhcGF0aSUyQyUyME4uJTIwYW5kJTIwTWFueWFtJTJDJTIwVi5TLkMuJTIwYW5kJTIwUGV0ZXJzZW4lMkMlMjBLLiUyMiUyQyUwQSUyMCUyMCUyMCUyMHBsYWNlJTNEQklQJTJDJTBBJTIwJTIwJTIwJTIwcHAlM0QlMjIxNi0zMCUyMiUyQyUwQSUyMCUyMCUyMCUyMGVudHJ5dHlwZSUzRCUyMmFydGljbGUlMjIlMkMlMEElMjAlMjAlMjAlMjB2b2x1bWUlM0QlMjIxMTElMjBMTkJJUCUyMiUyQyUwQSUyMCUyMCUyMCUyMGRvaSUzRCUyMjEwLjEwMDcvOTc4LTMtNjQyLTMwMzUwLTBfMiUyMiUyQyUwQSUyMCUyMCUyMCUyMG5vdGUlM0QlMjJjaXRlZCUyMEJ5JTIwMTklMjIlMkMlMEElMjAlMjAlMjAlMjBJRCUzRCUyMkt1cmFwYXRpMjAxMjE2JTIyJTJDJTBBJTIwJTIwJTIwJTIwcGxhY2V4JTNEJTIyTGVjdHVyZSUyME5vdGVzJTIwaW4lMjBCdXNpbmVzcyUyMEluZm9ybWF0aW9uJTIwUHJvY2Vzc2luZyUyMiUyQyUwQSUyOSUyOSUwQSUwQURCJTI4Q2l0YXRpb24lMjglMEElMjAlMjAlMjAlMjB3YWFyZGVuYnVyZzIwMTNhJTJDJTIwa3VyYXBhdGkyMDEyYSUyQyUyMHJlZiUzRCUyMiUyMiUyQyUwQSUyMCUyMCUyMCUyMGNvbnRleHRzJTNEJTVCJTBBJTBBJTIwJTIwJTIwJTIwJTVEJTJDJTBBJTI5JTI5JTBBJTBBJTI3JTI3JTI3JTJDJTIwY2l0YXRpb25zJTNEJTI3d2FhcmRlbmJ1cmcyMDEzYSUyNyUyOSUzQg==\")));\n",
       "    "
      ],
      "text/plain": [
       "<IPython.core.display.Javascript object>"
      ]
     },
     "metadata": {},
     "output_type": "display_data"
    },
    {
     "data": {
      "application/javascript": [
       "$('span:contains(\"# Temp\")').closest('.cell').remove();"
      ],
      "text/plain": [
       "<IPython.core.display.Javascript object>"
      ]
     },
     "metadata": {},
     "output_type": "display_data"
    },
    {
     "data": {
      "application/javascript": [
       "\n",
       "        $('span:contains(\"# Temp\")').closest('.cell').remove();\n",
       "        var code = IPython.notebook.insert_cell_below('code');\n",
       "        code.set_text(decodeURIComponent(window.atob(\"JTIzJTIwVGVtcCUwQWluc2VydCUyOCUyNyUyNyUyNyUwQWxhYW50aTIwMTFhJTIwJTNEJTIwREIlMjhXb3JrVW5yZWxhdGVkJTI4JTBBJTIwJTIwJTIwJTIwMjAxMSUyQyUyMCUyMkFnaWxlJTIwbWV0aG9kcyUyMHJhcGlkbHklMjByZXBsYWNpbmclMjB0cmFkaXRpb25hbCUyMG1ldGhvZHMlMjBhdCUyME5va2lhJTNBJTIwQSUyMHN1cnZleSUyMG9mJTIwb3BpbmlvbnMlMjBvbiUyMGFnaWxlJTIwdHJhbnNmb3JtYXRpb24lMjIlMkMlMEElMjAlMjAlMjAlMjBkaXNwbGF5JTNEJTIybGFhbnRpJTIyJTJDJTBBJTIwJTIwJTIwJTIwYXV0aG9ycyUzRCUyMkxhYW50aSUyQyUyME0uJTIwYW5kJTIwU2FsbyUyQyUyME8uJTIwYW5kJTIwQWJyYWhhbXNzb24lMkMlMjBQLiUyMiUyQyUwQSUyMCUyMCUyMCUyMHBsYWNlJTNESVNUJTJDJTBBJTIwJTIwJTIwJTIwcHAlM0QlMjIyNzYtMjkwJTIyJTJDJTBBJTIwJTIwJTIwJTIwZW50cnl0eXBlJTNEJTIyYXJ0aWNsZSUyMiUyQyUwQSUyMCUyMCUyMCUyMHZvbHVtZSUzRCUyMjUzJTIyJTJDJTBBJTIwJTIwJTIwJTIwbnVtYmVyJTNEJTIyMyUyMiUyQyUwQSUyMCUyMCUyMCUyMGRvaSUzRCUyMjEwLjEwMTYvai5pbmZzb2YuMjAxMC4xMS4wMTAlMjIlMkMlMEElMjAlMjAlMjAlMjBub3RlJTNEJTIyY2l0ZWQlMjBCeSUyMDc5JTIyJTJDJTBBJTIwJTIwJTIwJTIwSUQlM0QlMjJMYWFudGkyMDExMjc2JTIyJTJDJTBBJTIwJTIwJTIwJTIwcGxhY2V4JTNEJTIySW5mb3JtYXRpb24lMjBhbmQlMjBTb2Z0d2FyZSUyMFRlY2hub2xvZ3klMjIlMkMlMEElMjklMjklMEElMEFEQiUyOENpdGF0aW9uJTI4JTBBJTIwJTIwJTIwJTIwd2FhcmRlbmJ1cmcyMDEzYSUyQyUyMGxhYW50aTIwMTFhJTJDJTIwcmVmJTNEJTIyJTIyJTJDJTBBJTIwJTIwJTIwJTIwY29udGV4dHMlM0QlNUIlMEElMEElMjAlMjAlMjAlMjAlNUQlMkMlMEElMjklMjklMEElMEElMjclMjclMjclMkMlMjBjaXRhdGlvbnMlM0QlMjd3YWFyZGVuYnVyZzIwMTNhJTI3JTI5JTNC\")));\n",
       "    "
      ],
      "text/plain": [
       "<IPython.core.display.Javascript object>"
      ]
     },
     "metadata": {},
     "output_type": "display_data"
    },
    {
     "data": {
      "application/javascript": [
       "$('span:contains(\"# Temp\")').closest('.cell').remove();"
      ],
      "text/plain": [
       "<IPython.core.display.Javascript object>"
      ]
     },
     "metadata": {},
     "output_type": "display_data"
    },
    {
     "data": {
      "application/javascript": [
       "\n",
       "        $('span:contains(\"# Temp\")').closest('.cell').remove();\n",
       "        var code = IPython.notebook.insert_cell_below('code');\n",
       "        code.set_text(decodeURIComponent(window.atob(\"JTIzJTIwVGVtcCUwQWluc2VydCUyOCUyNyUyNyUyNyUwQWxhYW50aTIwMTFhJTIwJTNEJTIwREIlMjhXb3JrVW5yZWxhdGVkJTI4JTBBJTIwJTIwJTIwJTIwMjAxMSUyQyUyMCUyMkFnaWxlJTIwbWV0aG9kcyUyMHJhcGlkbHklMjByZXBsYWNpbmclMjB0cmFkaXRpb25hbCUyMG1ldGhvZHMlMjBhdCUyME5va2lhJTNBJTIwQSUyMHN1cnZleSUyMG9mJTIwb3BpbmlvbnMlMjBvbiUyMGFnaWxlJTIwdHJhbnNmb3JtYXRpb24lMjIlMkMlMEElMjAlMjAlMjAlMjBkaXNwbGF5JTNEJTIybGFhbnRpJTIyJTJDJTBBJTIwJTIwJTIwJTIwYXV0aG9ycyUzRCUyMkxhYW50aSUyQyUyME0uJTIwYW5kJTIwU2FsbyUyQyUyME8uJTIwYW5kJTIwQWJyYWhhbXNzb24lMkMlMjBQLiUyMiUyQyUwQSUyMCUyMCUyMCUyMHBsYWNlJTNESVNUJTJDJTBBJTIwJTIwJTIwJTIwcHAlM0QlMjIyNzYtMjkwJTIyJTJDJTBBJTIwJTIwJTIwJTIwZW50cnl0eXBlJTNEJTIyYXJ0aWNsZSUyMiUyQyUwQSUyMCUyMCUyMCUyMHZvbHVtZSUzRCUyMjUzJTIyJTJDJTBBJTIwJTIwJTIwJTIwbnVtYmVyJTNEJTIyMyUyMiUyQyUwQSUyMCUyMCUyMCUyMGRvaSUzRCUyMjEwLjEwMTYvai5pbmZzb2YuMjAxMC4xMS4wMTAlMjIlMkMlMEElMjAlMjAlMjAlMjBub3RlJTNEJTIyY2l0ZWQlMjBCeSUyMDc5JTIyJTJDJTBBJTIwJTIwJTIwJTIwSUQlM0QlMjJMYWFudGkyMDExMjc2JTIyJTJDJTBBJTIwJTIwJTIwJTIwcGxhY2V4JTNEJTIySW5mb3JtYXRpb24lMjBhbmQlMjBTb2Z0d2FyZSUyMFRlY2hub2xvZ3klMjIlMkMlMEElMjklMjklMEElMEFEQiUyOENpdGF0aW9uJTI4JTBBJTIwJTIwJTIwJTIwd2FhcmRlbmJ1cmcyMDEzYSUyQyUyMGxhYW50aTIwMTFhJTJDJTIwcmVmJTNEJTIyJTIyJTJDJTBBJTIwJTIwJTIwJTIwY29udGV4dHMlM0QlNUIlMEElMEElMjAlMjAlMjAlMjAlNUQlMkMlMEElMjklMjklMEElMEElMjclMjclMjclMkMlMjBjaXRhdGlvbnMlM0QlMjd3YWFyZGVuYnVyZzIwMTNhJTI3JTI5JTNC\")));\n",
       "    "
      ],
      "text/plain": [
       "<IPython.core.display.Javascript object>"
      ]
     },
     "metadata": {},
     "output_type": "display_data"
    },
    {
     "data": {
      "application/javascript": [
       "$('span:contains(\"# Temp\")').closest('.cell').remove();"
      ],
      "text/plain": [
       "<IPython.core.display.Javascript object>"
      ]
     },
     "metadata": {},
     "output_type": "display_data"
    },
    {
     "data": {
      "application/javascript": [
       "\n",
       "        $('span:contains(\"# Temp\")').closest('.cell').remove();\n",
       "        var code = IPython.notebook.insert_cell_below('code');\n",
       "        code.set_text(decodeURIComponent(window.atob(\"JTIzJTIwVGVtcCUwQWluc2VydCUyOCUyNyUyNyUyNyUwQWxhcm1hbjIwMDlhJTIwJTNEJTIwREIlMjhXb3JrVW5yZWxhdGVkJTI4JTBBJTIwJTIwJTIwJTIwMjAwOSUyQyUyMCUyMkxlYW4lMjBQcmltZXIlMjIlMkMlMEElMjAlMjAlMjAlMjBkaXNwbGF5JTNEJTIybGFybWFuJTIyJTJDJTBBJTIwJTIwJTIwJTIwYXV0aG9ycyUzRCUyMkxhcm1hbiUyQyUyMEMuJTIwYW5kJTIwVm9kZGUlMkMlMjBCLiUyMiUyQyUwQSUyMCUyMCUyMCUyMHBsYWNlJTNERkFLRSUyQyUwQSUyMCUyMCUyMCUyMGVudHJ5dHlwZSUzRCUyMmFydGljbGUlMjIlMkMlMEElMjAlMjAlMjAlMjBub3RlJTNEJTIyY2l0ZWQlMjBCeSUyMDglMjIlMkMlMEElMjAlMjAlMjAlMjBJRCUzRCUyMkxhcm1hbjIwMDklMjIlMkMlMEElMjAlMjAlMjAlMjBwbGFjZXglM0QlMjIlMjIlMkMlMEElMjklMjklMEElMEFEQiUyOENpdGF0aW9uJTI4JTBBJTIwJTIwJTIwJTIwd2FhcmRlbmJ1cmcyMDEzYSUyQyUyMGxhcm1hbjIwMDlhJTJDJTIwcmVmJTNEJTIyJTIyJTJDJTBBJTIwJTIwJTIwJTIwY29udGV4dHMlM0QlNUIlMEElMEElMjAlMjAlMjAlMjAlNUQlMkMlMEElMjklMjklMEElMEElMjclMjclMjclMkMlMjBjaXRhdGlvbnMlM0QlMjd3YWFyZGVuYnVyZzIwMTNhJTI3JTI5JTNC\")));\n",
       "    "
      ],
      "text/plain": [
       "<IPython.core.display.Javascript object>"
      ]
     },
     "metadata": {},
     "output_type": "display_data"
    },
    {
     "data": {
      "application/javascript": [
       "$('span:contains(\"# Temp\")').closest('.cell').remove();"
      ],
      "text/plain": [
       "<IPython.core.display.Javascript object>"
      ]
     },
     "metadata": {},
     "output_type": "display_data"
    },
    {
     "data": {
      "application/javascript": [
       "\n",
       "        $('span:contains(\"# Temp\")').closest('.cell').remove();\n",
       "        var code = IPython.notebook.insert_cell_below('code');\n",
       "        code.set_text(decodeURIComponent(window.atob(\"JTIzJTIwVGVtcCUwQWluc2VydCUyOCUyNyUyNyUyNyUwQWxhcm1hbjIwMDlhJTIwJTNEJTIwREIlMjhXb3JrVW5yZWxhdGVkJTI4JTBBJTIwJTIwJTIwJTIwMjAwOSUyQyUyMCUyMkxlYW4lMjBQcmltZXIlMjIlMkMlMEElMjAlMjAlMjAlMjBkaXNwbGF5JTNEJTIybGFybWFuJTIyJTJDJTBBJTIwJTIwJTIwJTIwYXV0aG9ycyUzRCUyMkxhcm1hbiUyQyUyMEMuJTIwYW5kJTIwVm9kZGUlMkMlMjBCLiUyMiUyQyUwQSUyMCUyMCUyMCUyMHBsYWNlJTNERkFLRSUyQyUwQSUyMCUyMCUyMCUyMGVudHJ5dHlwZSUzRCUyMmFydGljbGUlMjIlMkMlMEElMjAlMjAlMjAlMjBub3RlJTNEJTIyY2l0ZWQlMjBCeSUyMDglMjIlMkMlMEElMjAlMjAlMjAlMjBJRCUzRCUyMkxhcm1hbjIwMDklMjIlMkMlMEElMjAlMjAlMjAlMjBwbGFjZXglM0QlMjIlMjIlMkMlMEElMjklMjklMEElMEFEQiUyOENpdGF0aW9uJTI4JTBBJTIwJTIwJTIwJTIwd2FhcmRlbmJ1cmcyMDEzYSUyQyUyMGxhcm1hbjIwMDlhJTJDJTIwcmVmJTNEJTIyJTIyJTJDJTBBJTIwJTIwJTIwJTIwY29udGV4dHMlM0QlNUIlMEElMEElMjAlMjAlMjAlMjAlNUQlMkMlMEElMjklMjklMEElMEElMjclMjclMjclMkMlMjBjaXRhdGlvbnMlM0QlMjd3YWFyZGVuYnVyZzIwMTNhJTI3JTI5JTNC\")));\n",
       "    "
      ],
      "text/plain": [
       "<IPython.core.display.Javascript object>"
      ]
     },
     "metadata": {},
     "output_type": "display_data"
    },
    {
     "data": {
      "application/javascript": [
       "$('span:contains(\"# Temp\")').closest('.cell').remove();"
      ],
      "text/plain": [
       "<IPython.core.display.Javascript object>"
      ]
     },
     "metadata": {},
     "output_type": "display_data"
    },
    {
     "data": {
      "application/javascript": [
       "\n",
       "        $('span:contains(\"# Temp\")').closest('.cell').remove();\n",
       "        var code = IPython.notebook.insert_cell_below('code');\n",
       "        code.set_text(decodeURIComponent(window.atob(\"JTIzJTIwVGVtcCUwQWluc2VydCUyOCUyNyUyNyUyNyUwQWxldmluYTIwMDVhJTIwJTNEJTIwREIlMjhXb3JrVW5yZWxhdGVkJTI4JTBBJTIwJTIwJTIwJTIwMjAwNSUyQyUyMCUyMlRoZSUyMGVtZXJnZW5jZSUyMG9mJTIwYm91bmRhcnklMjBzcGFubmluZyUyMGNvbXBldGVuY2UlMjBpbiUyMHByYWN0aWNlJTNBJTIwSW1wbGljYXRpb25zJTIwZm9yJTIwaW1wbGVtZW50YXRpb24lMjBhbmQlMjB1c2UlMjBvZiUyMGluZm9ybWF0aW9uJTIwc3lzdGVtcyUyMiUyQyUwQSUyMCUyMCUyMCUyMGRpc3BsYXklM0QlMjJsZXZpbmElMjIlMkMlMEElMjAlMjAlMjAlMjBhdXRob3JzJTNEJTIyTGV2aW5hJTJDJTIwTi4lMjBhbmQlMjBWYWFzdCUyQyUyMEUuJTIyJTJDJTBBJTIwJTIwJTIwJTIwcGxhY2UlM0RGQUtFJTJDJTBBJTIwJTIwJTIwJTIwcHAlM0QlMjIzMzUtMzYzJTIyJTJDJTBBJTIwJTIwJTIwJTIwZW50cnl0eXBlJTNEJTIyYXJ0aWNsZSUyMiUyQyUwQSUyMCUyMCUyMCUyMHZvbHVtZSUzRCUyMjI5JTIyJTJDJTBBJTIwJTIwJTIwJTIwbnVtYmVyJTNEJTIyMiUyMiUyQyUwQSUyMCUyMCUyMCUyMG5vdGUlM0QlMjJjaXRlZCUyMEJ5JTIwNTcyJTIyJTJDJTBBJTIwJTIwJTIwJTIwSUQlM0QlMjJMZXZpbmEyMDA1MzM1JTIyJTJDJTBBJTIwJTIwJTIwJTIwcGxhY2V4JTNEJTIyTUlTJTIwUXVhcnRlcmx5JTNBJTIwTWFuYWdlbWVudCUyMEluZm9ybWF0aW9uJTIwU3lzdGVtcyUyMiUyQyUwQSUyOSUyOSUwQSUwQURCJTI4Q2l0YXRpb24lMjglMEElMjAlMjAlMjAlMjB3YWFyZGVuYnVyZzIwMTNhJTJDJTIwbGV2aW5hMjAwNWElMkMlMjByZWYlM0QlMjIlMjIlMkMlMEElMjAlMjAlMjAlMjBjb250ZXh0cyUzRCU1QiUwQSUwQSUyMCUyMCUyMCUyMCU1RCUyQyUwQSUyOSUyOSUwQSUwQSUyNyUyNyUyNyUyQyUyMGNpdGF0aW9ucyUzRCUyN3dhYXJkZW5idXJnMjAxM2ElMjclMjklM0I=\")));\n",
       "    "
      ],
      "text/plain": [
       "<IPython.core.display.Javascript object>"
      ]
     },
     "metadata": {},
     "output_type": "display_data"
    },
    {
     "data": {
      "application/javascript": [
       "$('span:contains(\"# Temp\")').closest('.cell').remove();"
      ],
      "text/plain": [
       "<IPython.core.display.Javascript object>"
      ]
     },
     "metadata": {},
     "output_type": "display_data"
    },
    {
     "data": {
      "application/javascript": [
       "\n",
       "        $('span:contains(\"# Temp\")').closest('.cell').remove();\n",
       "        var code = IPython.notebook.insert_cell_below('code');\n",
       "        code.set_text(decodeURIComponent(window.atob(\"JTIzJTIwVGVtcCUwQWluc2VydCUyOCUyNyUyNyUyNyUwQWxldmluYTIwMDVhJTIwJTNEJTIwREIlMjhXb3JrVW5yZWxhdGVkJTI4JTBBJTIwJTIwJTIwJTIwMjAwNSUyQyUyMCUyMlRoZSUyMGVtZXJnZW5jZSUyMG9mJTIwYm91bmRhcnklMjBzcGFubmluZyUyMGNvbXBldGVuY2UlMjBpbiUyMHByYWN0aWNlJTNBJTIwSW1wbGljYXRpb25zJTIwZm9yJTIwaW1wbGVtZW50YXRpb24lMjBhbmQlMjB1c2UlMjBvZiUyMGluZm9ybWF0aW9uJTIwc3lzdGVtcyUyMiUyQyUwQSUyMCUyMCUyMCUyMGRpc3BsYXklM0QlMjJsZXZpbmElMjIlMkMlMEElMjAlMjAlMjAlMjBhdXRob3JzJTNEJTIyTGV2aW5hJTJDJTIwTi4lMjBhbmQlMjBWYWFzdCUyQyUyMEUuJTIyJTJDJTBBJTIwJTIwJTIwJTIwcGxhY2UlM0RGQUtFJTJDJTBBJTIwJTIwJTIwJTIwcHAlM0QlMjIzMzUtMzYzJTIyJTJDJTBBJTIwJTIwJTIwJTIwZW50cnl0eXBlJTNEJTIyYXJ0aWNsZSUyMiUyQyUwQSUyMCUyMCUyMCUyMHZvbHVtZSUzRCUyMjI5JTIyJTJDJTBBJTIwJTIwJTIwJTIwbnVtYmVyJTNEJTIyMiUyMiUyQyUwQSUyMCUyMCUyMCUyMG5vdGUlM0QlMjJjaXRlZCUyMEJ5JTIwNTcyJTIyJTJDJTBBJTIwJTIwJTIwJTIwSUQlM0QlMjJMZXZpbmEyMDA1MzM1JTIyJTJDJTBBJTIwJTIwJTIwJTIwcGxhY2V4JTNEJTIyTUlTJTIwUXVhcnRlcmx5JTNBJTIwTWFuYWdlbWVudCUyMEluZm9ybWF0aW9uJTIwU3lzdGVtcyUyMiUyQyUwQSUyOSUyOSUwQSUwQURCJTI4Q2l0YXRpb24lMjglMEElMjAlMjAlMjAlMjB3YWFyZGVuYnVyZzIwMTNhJTJDJTIwbGV2aW5hMjAwNWElMkMlMjByZWYlM0QlMjIlMjIlMkMlMEElMjAlMjAlMjAlMjBjb250ZXh0cyUzRCU1QiUwQSUwQSUyMCUyMCUyMCUyMCU1RCUyQyUwQSUyOSUyOSUwQSUwQSUyNyUyNyUyNyUyQyUyMGNpdGF0aW9ucyUzRCUyN3dhYXJkZW5idXJnMjAxM2ElMjclMjklM0I=\")));\n",
       "    "
      ],
      "text/plain": [
       "<IPython.core.display.Javascript object>"
      ]
     },
     "metadata": {},
     "output_type": "display_data"
    },
    {
     "data": {
      "application/javascript": [
       "$('span:contains(\"# Temp\")').closest('.cell').remove();"
      ],
      "text/plain": [
       "<IPython.core.display.Javascript object>"
      ]
     },
     "metadata": {},
     "output_type": "display_data"
    },
    {
     "data": {
      "application/javascript": [
       "\n",
       "        $('span:contains(\"# Temp\")').closest('.cell').remove();\n",
       "        var code = IPython.notebook.insert_cell_below('code');\n",
       "        code.set_text(decodeURIComponent(window.atob(\"JTIzJTIwVGVtcCUwQWluc2VydCUyOCUyNyUyNyUyNyUwQURCJTI4Q2l0YXRpb24lMjglMEElMjAlMjAlMjAlMjB3YWFyZGVuYnVyZzIwMTNhJTJDJTIwbGluZHZhbGwyMDA0YSUyQyUyMHJlZiUzRCUyMiUyMiUyQyUwQSUyMCUyMCUyMCUyMGNvbnRleHRzJTNEJTVCJTBBJTBBJTIwJTIwJTIwJTIwJTVEJTJDJTBBJTI5JTI5JTBBJTBBJTI3JTI3JTI3JTJDJTIwY2l0YXRpb25zJTNEJTI3d2FhcmRlbmJ1cmcyMDEzYSUyNyUyOSUzQg==\")));\n",
       "    "
      ],
      "text/plain": [
       "<IPython.core.display.Javascript object>"
      ]
     },
     "metadata": {},
     "output_type": "display_data"
    },
    {
     "data": {
      "application/javascript": [
       "$('span:contains(\"# Temp\")').closest('.cell').remove();"
      ],
      "text/plain": [
       "<IPython.core.display.Javascript object>"
      ]
     },
     "metadata": {},
     "output_type": "display_data"
    },
    {
     "data": {
      "application/javascript": [
       "\n",
       "        $('span:contains(\"# Temp\")').closest('.cell').remove();\n",
       "        var code = IPython.notebook.insert_cell_below('code');\n",
       "        code.set_text(decodeURIComponent(window.atob(\"JTIzJTIwVGVtcCUwQWluc2VydCUyOCUyNyUyNyUyNyUwQURCJTI4Q2l0YXRpb24lMjglMEElMjAlMjAlMjAlMjB3YWFyZGVuYnVyZzIwMTNhJTJDJTIwbGluZHZhbGwyMDA0YSUyQyUyMHJlZiUzRCUyMiUyMiUyQyUwQSUyMCUyMCUyMCUyMGNvbnRleHRzJTNEJTVCJTBBJTBBJTIwJTIwJTIwJTIwJTVEJTJDJTBBJTI5JTI5JTBBJTBBJTI3JTI3JTI3JTJDJTIwY2l0YXRpb25zJTNEJTI3d2FhcmRlbmJ1cmcyMDEzYSUyNyUyOSUzQg==\")));\n",
       "    "
      ],
      "text/plain": [
       "<IPython.core.display.Javascript object>"
      ]
     },
     "metadata": {},
     "output_type": "display_data"
    },
    {
     "data": {
      "application/javascript": [
       "$('span:contains(\"# Temp\")').closest('.cell').remove();"
      ],
      "text/plain": [
       "<IPython.core.display.Javascript object>"
      ]
     },
     "metadata": {},
     "output_type": "display_data"
    },
    {
     "data": {
      "application/javascript": [
       "\n",
       "        $('span:contains(\"# Temp\")').closest('.cell').remove();\n",
       "        var code = IPython.notebook.insert_cell_below('code');\n",
       "        code.set_text(decodeURIComponent(window.atob(\"JTIzJTIwVGVtcCUwQWluc2VydCUyOCUyNyUyNyUyNyUwQURCJTI4Q2l0YXRpb24lMjglMEElMjAlMjAlMjAlMjB3YWFyZGVuYnVyZzIwMTNhJTJDJTIwbWFnZGFsZW5vMjAxMmElMkMlMjByZWYlM0QlMjIlMjIlMkMlMEElMjAlMjAlMjAlMjBjb250ZXh0cyUzRCU1QiUwQSUwQSUyMCUyMCUyMCUyMCU1RCUyQyUwQSUyOSUyOSUwQSUwQSUyNyUyNyUyNyUyQyUyMGNpdGF0aW9ucyUzRCUyN3dhYXJkZW5idXJnMjAxM2ElMjclMjklM0IlMEFzZXRfYXR0cmlidXRlJTI4JTI3bWFnZGFsZW5vMjAxMmElMjclMkMlMjAlMjdkb2klMjclMkMlMjAlMjcxMC4xMDE2L2ouanNzLjIwMTEuMDguMDI4JTI3JTI5JTNCJTBBc2V0X2F0dHJpYnV0ZSUyOCUyN21hZ2RhbGVubzIwMTJhJTI3JTJDJTIwJTI3bm90ZSUyNyUyQyUyMCUyN2NpdGVkJTIwQnklMjAzMCUyNyUyOSUzQg==\")));\n",
       "    "
      ],
      "text/plain": [
       "<IPython.core.display.Javascript object>"
      ]
     },
     "metadata": {},
     "output_type": "display_data"
    },
    {
     "data": {
      "application/javascript": [
       "$('span:contains(\"# Temp\")').closest('.cell').remove();"
      ],
      "text/plain": [
       "<IPython.core.display.Javascript object>"
      ]
     },
     "metadata": {},
     "output_type": "display_data"
    },
    {
     "data": {
      "application/javascript": [
       "\n",
       "        $('span:contains(\"# Temp\")').closest('.cell').remove();\n",
       "        var code = IPython.notebook.insert_cell_below('code');\n",
       "        code.set_text(decodeURIComponent(window.atob(\"JTIzJTIwVGVtcCUwQWluc2VydCUyOCUyNyUyNyUyNyUwQURCJTI4Q2l0YXRpb24lMjglMEElMjAlMjAlMjAlMjB3YWFyZGVuYnVyZzIwMTNhJTJDJTIwbWFnZGFsZW5vMjAxMmElMkMlMjByZWYlM0QlMjIlMjIlMkMlMEElMjAlMjAlMjAlMjBjb250ZXh0cyUzRCU1QiUwQSUwQSUyMCUyMCUyMCUyMCU1RCUyQyUwQSUyOSUyOSUwQSUwQSUyNyUyNyUyNyUyQyUyMGNpdGF0aW9ucyUzRCUyN3dhYXJkZW5idXJnMjAxM2ElMjclMjklM0IlMEFzZXRfYXR0cmlidXRlJTI4JTI3bWFnZGFsZW5vMjAxMmElMjclMkMlMjAlMjdkb2klMjclMkMlMjAlMjcxMC4xMDE2L2ouanNzLjIwMTEuMDguMDI4JTI3JTI5JTNCJTBBc2V0X2F0dHJpYnV0ZSUyOCUyN21hZ2RhbGVubzIwMTJhJTI3JTJDJTIwJTI3bm90ZSUyNyUyQyUyMCUyN2NpdGVkJTIwQnklMjAzMCUyNyUyOSUzQg==\")));\n",
       "    "
      ],
      "text/plain": [
       "<IPython.core.display.Javascript object>"
      ]
     },
     "metadata": {},
     "output_type": "display_data"
    },
    {
     "data": {
      "application/javascript": [
       "$('span:contains(\"# Temp\")').closest('.cell').remove();"
      ],
      "text/plain": [
       "<IPython.core.display.Javascript object>"
      ]
     },
     "metadata": {},
     "output_type": "display_data"
    },
    {
     "data": {
      "application/javascript": [
       "\n",
       "        $('span:contains(\"# Temp\")').closest('.cell').remove();\n",
       "        var code = IPython.notebook.insert_cell_below('code');\n",
       "        code.set_text(decodeURIComponent(window.atob(\"JTIzJTIwVGVtcCUwQWluc2VydCUyOCUyNyUyNyUyNyUwQW1hdGF2aXJlMjAxM2ElMjAlM0QlMjBEQiUyOFdvcmtVbnJlbGF0ZWQlMjglMEElMjAlMjAlMjAlMjAyMDEzJTJDJTIwJTIyUHJvZmlsaW5nJTIwZ3JvdW5kZWQlMjB0aGVvcnklMjBhcHByb2FjaGVzJTIwaW4lMjBpbmZvcm1hdGlvbiUyMHN5c3RlbXMlMjByZXNlYXJjaCUyMiUyQyUwQSUyMCUyMCUyMCUyMGRpc3BsYXklM0QlMjJtYXRhdmlyZSUyMiUyQyUwQSUyMCUyMCUyMCUyMGF1dGhvcnMlM0QlMjJNYXRhdmlyZSUyQyUyMFIuJTIwYW5kJTIwQnJvd24lMkMlMjBJLiUyMiUyQyUwQSUyMCUyMCUyMCUyMHBsYWNlJTNERkFLRSUyQyUwQSUyMCUyMCUyMCUyMHBwJTNEJTIyMTE5LTEyOSUyMiUyQyUwQSUyMCUyMCUyMCUyMGVudHJ5dHlwZSUzRCUyMmFydGljbGUlMjIlMkMlMEElMjAlMjAlMjAlMjB2b2x1bWUlM0QlMjIyMiUyMiUyQyUwQSUyMCUyMCUyMCUyMG51bWJlciUzRCUyMjElMjIlMkMlMEElMjAlMjAlMjAlMjBkb2klM0QlMjIxMC4xMDU3L2VqaXMuMjAxMS4zNSUyMiUyQyUwQSUyMCUyMCUyMCUyMG5vdGUlM0QlMjJjaXRlZCUyMEJ5JTIwMzclMjIlMkMlMEElMjAlMjAlMjAlMjBJRCUzRCUyMk1hdGF2aXJlMjAxMzExOSUyMiUyQyUwQSUyMCUyMCUyMCUyMHBsYWNleCUzRCUyMkV1cm9wZWFuJTIwSm91cm5hbCUyMG9mJTIwSW5mb3JtYXRpb24lMjBTeXN0ZW1zJTIyJTJDJTBBJTI5JTI5JTBBJTBBREIlMjhDaXRhdGlvbiUyOCUwQSUyMCUyMCUyMCUyMHdhYXJkZW5idXJnMjAxM2ElMkMlMjBtYXRhdmlyZTIwMTNhJTJDJTIwcmVmJTNEJTIyJTIyJTJDJTBBJTIwJTIwJTIwJTIwY29udGV4dHMlM0QlNUIlMEElMEElMjAlMjAlMjAlMjAlNUQlMkMlMEElMjklMjklMEElMEElMjclMjclMjclMkMlMjBjaXRhdGlvbnMlM0QlMjd3YWFyZGVuYnVyZzIwMTNhJTI3JTI5JTNC\")));\n",
       "    "
      ],
      "text/plain": [
       "<IPython.core.display.Javascript object>"
      ]
     },
     "metadata": {},
     "output_type": "display_data"
    },
    {
     "data": {
      "application/javascript": [
       "$('span:contains(\"# Temp\")').closest('.cell').remove();"
      ],
      "text/plain": [
       "<IPython.core.display.Javascript object>"
      ]
     },
     "metadata": {},
     "output_type": "display_data"
    },
    {
     "data": {
      "application/javascript": [
       "\n",
       "        $('span:contains(\"# Temp\")').closest('.cell').remove();\n",
       "        var code = IPython.notebook.insert_cell_below('code');\n",
       "        code.set_text(decodeURIComponent(window.atob(\"JTIzJTIwVGVtcCUwQWluc2VydCUyOCUyNyUyNyUyNyUwQW1hdGF2aXJlMjAxM2ElMjAlM0QlMjBEQiUyOFdvcmtVbnJlbGF0ZWQlMjglMEElMjAlMjAlMjAlMjAyMDEzJTJDJTIwJTIyUHJvZmlsaW5nJTIwZ3JvdW5kZWQlMjB0aGVvcnklMjBhcHByb2FjaGVzJTIwaW4lMjBpbmZvcm1hdGlvbiUyMHN5c3RlbXMlMjByZXNlYXJjaCUyMiUyQyUwQSUyMCUyMCUyMCUyMGRpc3BsYXklM0QlMjJtYXRhdmlyZSUyMiUyQyUwQSUyMCUyMCUyMCUyMGF1dGhvcnMlM0QlMjJNYXRhdmlyZSUyQyUyMFIuJTIwYW5kJTIwQnJvd24lMkMlMjBJLiUyMiUyQyUwQSUyMCUyMCUyMCUyMHBsYWNlJTNERkFLRSUyQyUwQSUyMCUyMCUyMCUyMHBwJTNEJTIyMTE5LTEyOSUyMiUyQyUwQSUyMCUyMCUyMCUyMGVudHJ5dHlwZSUzRCUyMmFydGljbGUlMjIlMkMlMEElMjAlMjAlMjAlMjB2b2x1bWUlM0QlMjIyMiUyMiUyQyUwQSUyMCUyMCUyMCUyMG51bWJlciUzRCUyMjElMjIlMkMlMEElMjAlMjAlMjAlMjBkb2klM0QlMjIxMC4xMDU3L2VqaXMuMjAxMS4zNSUyMiUyQyUwQSUyMCUyMCUyMCUyMG5vdGUlM0QlMjJjaXRlZCUyMEJ5JTIwMzclMjIlMkMlMEElMjAlMjAlMjAlMjBJRCUzRCUyMk1hdGF2aXJlMjAxMzExOSUyMiUyQyUwQSUyMCUyMCUyMCUyMHBsYWNleCUzRCUyMkV1cm9wZWFuJTIwSm91cm5hbCUyMG9mJTIwSW5mb3JtYXRpb24lMjBTeXN0ZW1zJTIyJTJDJTBBJTI5JTI5JTBBJTBBREIlMjhDaXRhdGlvbiUyOCUwQSUyMCUyMCUyMCUyMHdhYXJkZW5idXJnMjAxM2ElMkMlMjBtYXRhdmlyZTIwMTNhJTJDJTIwcmVmJTNEJTIyJTIyJTJDJTBBJTIwJTIwJTIwJTIwY29udGV4dHMlM0QlNUIlMEElMEElMjAlMjAlMjAlMjAlNUQlMkMlMEElMjklMjklMEElMEElMjclMjclMjclMkMlMjBjaXRhdGlvbnMlM0QlMjd3YWFyZGVuYnVyZzIwMTNhJTI3JTI5JTNC\")));\n",
       "    "
      ],
      "text/plain": [
       "<IPython.core.display.Javascript object>"
      ]
     },
     "metadata": {},
     "output_type": "display_data"
    },
    {
     "data": {
      "application/javascript": [
       "$('span:contains(\"# Temp\")').closest('.cell').remove();"
      ],
      "text/plain": [
       "<IPython.core.display.Javascript object>"
      ]
     },
     "metadata": {},
     "output_type": "display_data"
    },
    {
     "data": {
      "application/javascript": [
       "\n",
       "        $('span:contains(\"# Temp\")').closest('.cell').remove();\n",
       "        var code = IPython.notebook.insert_cell_below('code');\n",
       "        code.set_text(decodeURIComponent(window.atob(\"JTIzJTIwVGVtcCUwQWluc2VydCUyOCUyNyUyNyUyNyUwQW1jYXZveTIwMDlhJTIwJTNEJTIwREIlMjhXb3JrVW5yZWxhdGVkJTI4JTBBJTIwJTIwJTIwJTIwMjAwOSUyQyUyMCUyMlRoZSUyMHJvbGUlMjBvZiUyMHByb2plY3QlMjBtYW5hZ2VtZW50JTIwaW4lMjBpbmVmZmVjdGl2ZSUyMGRlY2lzaW9uJTIwbWFraW5nJTIwd2l0aGluJTIwYWdpbGUlMjBzb2Z0d2FyZSUyMGRldmVsb3BtZW50JTIwcHJvamVjdHMlMjIlMkMlMEElMjAlMjAlMjAlMjBkaXNwbGF5JTNEJTIybWNhdm95JTIyJTJDJTBBJTIwJTIwJTIwJTIwYXV0aG9ycyUzRCUyMk1jQXZveSUyQyUyMEouJTIwYW5kJTIwQnV0bGVyJTJDJTIwVC4lMjIlMkMlMEElMjAlMjAlMjAlMjBwbGFjZSUzREZBS0UlMkMlMEElMjAlMjAlMjAlMjBwcCUzRCUyMjM3Mi0zODMlMjIlMkMlMEElMjAlMjAlMjAlMjBlbnRyeXR5cGUlM0QlMjJhcnRpY2xlJTIyJTJDJTBBJTIwJTIwJTIwJTIwdm9sdW1lJTNEJTIyMTglMjIlMkMlMEElMjAlMjAlMjAlMjBudW1iZXIlM0QlMjI0JTIyJTJDJTBBJTIwJTIwJTIwJTIwZG9pJTNEJTIyMTAuMTA1Ny9lamlzLjIwMDkuMjIlMjIlMkMlMEElMjAlMjAlMjAlMjBub3RlJTNEJTIyY2l0ZWQlMjBCeSUyMDQzJTIyJTJDJTBBJTIwJTIwJTIwJTIwSUQlM0QlMjJNY0F2b3kyMDA5MzcyJTIyJTJDJTBBJTIwJTIwJTIwJTIwcGxhY2V4JTNEJTIyRXVyb3BlYW4lMjBKb3VybmFsJTIwb2YlMjBJbmZvcm1hdGlvbiUyMFN5c3RlbXMlMjIlMkMlMEElMjklMjklMEElMEFEQiUyOENpdGF0aW9uJTI4JTBBJTIwJTIwJTIwJTIwd2FhcmRlbmJ1cmcyMDEzYSUyQyUyMG1jYXZveTIwMDlhJTJDJTIwcmVmJTNEJTIyJTIyJTJDJTBBJTIwJTIwJTIwJTIwY29udGV4dHMlM0QlNUIlMEElMEElMjAlMjAlMjAlMjAlNUQlMkMlMEElMjklMjklMEElMEElMjclMjclMjclMkMlMjBjaXRhdGlvbnMlM0QlMjd3YWFyZGVuYnVyZzIwMTNhJTI3JTI5JTNC\")));\n",
       "    "
      ],
      "text/plain": [
       "<IPython.core.display.Javascript object>"
      ]
     },
     "metadata": {},
     "output_type": "display_data"
    },
    {
     "data": {
      "application/javascript": [
       "$('span:contains(\"# Temp\")').closest('.cell').remove();"
      ],
      "text/plain": [
       "<IPython.core.display.Javascript object>"
      ]
     },
     "metadata": {},
     "output_type": "display_data"
    },
    {
     "data": {
      "application/javascript": [
       "\n",
       "        $('span:contains(\"# Temp\")').closest('.cell').remove();\n",
       "        var code = IPython.notebook.insert_cell_below('code');\n",
       "        code.set_text(decodeURIComponent(window.atob(\"JTIzJTIwVGVtcCUwQWluc2VydCUyOCUyNyUyNyUyNyUwQW1jYXZveTIwMDlhJTIwJTNEJTIwREIlMjhXb3JrVW5yZWxhdGVkJTI4JTBBJTIwJTIwJTIwJTIwMjAwOSUyQyUyMCUyMlRoZSUyMHJvbGUlMjBvZiUyMHByb2plY3QlMjBtYW5hZ2VtZW50JTIwaW4lMjBpbmVmZmVjdGl2ZSUyMGRlY2lzaW9uJTIwbWFraW5nJTIwd2l0aGluJTIwYWdpbGUlMjBzb2Z0d2FyZSUyMGRldmVsb3BtZW50JTIwcHJvamVjdHMlMjIlMkMlMEElMjAlMjAlMjAlMjBkaXNwbGF5JTNEJTIybWNhdm95JTIyJTJDJTBBJTIwJTIwJTIwJTIwYXV0aG9ycyUzRCUyMk1jQXZveSUyQyUyMEouJTIwYW5kJTIwQnV0bGVyJTJDJTIwVC4lMjIlMkMlMEElMjAlMjAlMjAlMjBwbGFjZSUzREZBS0UlMkMlMEElMjAlMjAlMjAlMjBwcCUzRCUyMjM3Mi0zODMlMjIlMkMlMEElMjAlMjAlMjAlMjBlbnRyeXR5cGUlM0QlMjJhcnRpY2xlJTIyJTJDJTBBJTIwJTIwJTIwJTIwdm9sdW1lJTNEJTIyMTglMjIlMkMlMEElMjAlMjAlMjAlMjBudW1iZXIlM0QlMjI0JTIyJTJDJTBBJTIwJTIwJTIwJTIwZG9pJTNEJTIyMTAuMTA1Ny9lamlzLjIwMDkuMjIlMjIlMkMlMEElMjAlMjAlMjAlMjBub3RlJTNEJTIyY2l0ZWQlMjBCeSUyMDQzJTIyJTJDJTBBJTIwJTIwJTIwJTIwSUQlM0QlMjJNY0F2b3kyMDA5MzcyJTIyJTJDJTBBJTIwJTIwJTIwJTIwcGxhY2V4JTNEJTIyRXVyb3BlYW4lMjBKb3VybmFsJTIwb2YlMjBJbmZvcm1hdGlvbiUyMFN5c3RlbXMlMjIlMkMlMEElMjklMjklMEElMEFEQiUyOENpdGF0aW9uJTI4JTBBJTIwJTIwJTIwJTIwd2FhcmRlbmJ1cmcyMDEzYSUyQyUyMG1jYXZveTIwMDlhJTJDJTIwcmVmJTNEJTIyJTIyJTJDJTBBJTIwJTIwJTIwJTIwY29udGV4dHMlM0QlNUIlMEElMEElMjAlMjAlMjAlMjAlNUQlMkMlMEElMjklMjklMEElMEElMjclMjclMjclMkMlMjBjaXRhdGlvbnMlM0QlMjd3YWFyZGVuYnVyZzIwMTNhJTI3JTI5JTNC\")));\n",
       "    "
      ],
      "text/plain": [
       "<IPython.core.display.Javascript object>"
      ]
     },
     "metadata": {},
     "output_type": "display_data"
    },
    {
     "data": {
      "application/javascript": [
       "$('span:contains(\"# Temp\")').closest('.cell').remove();"
      ],
      "text/plain": [
       "<IPython.core.display.Javascript object>"
      ]
     },
     "metadata": {},
     "output_type": "display_data"
    },
    {
     "data": {
      "application/javascript": [
       "\n",
       "        $('span:contains(\"# Temp\")').closest('.cell').remove();\n",
       "        var code = IPython.notebook.insert_cell_below('code');\n",
       "        code.set_text(decodeURIComponent(window.atob(\"JTIzJTIwVGVtcCUwQWluc2VydCUyOCUyNyUyNyUyNyUwQURCJTI4Q2l0YXRpb24lMjglMEElMjAlMjAlMjAlMjB3YWFyZGVuYnVyZzIwMTNhJTJDJTIwbWlzaHJhMjAxMWElMkMlMjByZWYlM0QlMjIlMjIlMkMlMEElMjAlMjAlMjAlMjBjb250ZXh0cyUzRCU1QiUwQSUwQSUyMCUyMCUyMCUyMCU1RCUyQyUwQSUyOSUyOSUwQSUwQSUyNyUyNyUyNyUyQyUyMGNpdGF0aW9ucyUzRCUyN3dhYXJkZW5idXJnMjAxM2ElMjclMjklM0IlMEFzZXRfYXR0cmlidXRlJTI4JTI3bWlzaHJhMjAxMWElMjclMkMlMjAlMjdkb2klMjclMkMlMjAlMjcxMC4xMDAyL3Ntci41MjglMjclMjklM0IlMEFzZXRfYXR0cmlidXRlJTI4JTI3bWlzaHJhMjAxMWElMjclMkMlMjAlMjdub3RlJTI3JTJDJTIwJTI3Y2l0ZWQlMjBCeSUyMDIyJTI3JTI5JTNC\")));\n",
       "    "
      ],
      "text/plain": [
       "<IPython.core.display.Javascript object>"
      ]
     },
     "metadata": {},
     "output_type": "display_data"
    },
    {
     "data": {
      "application/javascript": [
       "$('span:contains(\"# Temp\")').closest('.cell').remove();"
      ],
      "text/plain": [
       "<IPython.core.display.Javascript object>"
      ]
     },
     "metadata": {},
     "output_type": "display_data"
    },
    {
     "data": {
      "application/javascript": [
       "\n",
       "        $('span:contains(\"# Temp\")').closest('.cell').remove();\n",
       "        var code = IPython.notebook.insert_cell_below('code');\n",
       "        code.set_text(decodeURIComponent(window.atob(\"JTIzJTIwVGVtcCUwQWluc2VydCUyOCUyNyUyNyUyNyUwQURCJTI4Q2l0YXRpb24lMjglMEElMjAlMjAlMjAlMjB3YWFyZGVuYnVyZzIwMTNhJTJDJTIwbWlzaHJhMjAxMWElMkMlMjByZWYlM0QlMjIlMjIlMkMlMEElMjAlMjAlMjAlMjBjb250ZXh0cyUzRCU1QiUwQSUwQSUyMCUyMCUyMCUyMCU1RCUyQyUwQSUyOSUyOSUwQSUwQSUyNyUyNyUyNyUyQyUyMGNpdGF0aW9ucyUzRCUyN3dhYXJkZW5idXJnMjAxM2ElMjclMjklM0IlMEFzZXRfYXR0cmlidXRlJTI4JTI3bWlzaHJhMjAxMWElMjclMkMlMjAlMjdkb2klMjclMkMlMjAlMjcxMC4xMDAyL3Ntci41MjglMjclMjklM0IlMEFzZXRfYXR0cmlidXRlJTI4JTI3bWlzaHJhMjAxMWElMjclMkMlMjAlMjdub3RlJTI3JTJDJTIwJTI3Y2l0ZWQlMjBCeSUyMDIyJTI3JTI5JTNC\")));\n",
       "    "
      ],
      "text/plain": [
       "<IPython.core.display.Javascript object>"
      ]
     },
     "metadata": {},
     "output_type": "display_data"
    },
    {
     "data": {
      "application/javascript": [
       "$('span:contains(\"# Temp\")').closest('.cell').remove();"
      ],
      "text/plain": [
       "<IPython.core.display.Javascript object>"
      ]
     },
     "metadata": {},
     "output_type": "display_data"
    },
    {
     "data": {
      "application/javascript": [
       "\n",
       "        $('span:contains(\"# Temp\")').closest('.cell').remove();\n",
       "        var code = IPython.notebook.insert_cell_below('code');\n",
       "        code.set_text(decodeURIComponent(window.atob(\"JTIzJTIwVGVtcCUwQWluc2VydCUyOCUyNyUyNyUyNyUwQURCJTI4Q2l0YXRpb24lMjglMEElMjAlMjAlMjAlMjB3YWFyZGVuYnVyZzIwMTNhJTJDJTIwbWlzcmEyMDA5YSUyQyUyMHJlZiUzRCUyMiUyMiUyQyUwQSUyMCUyMCUyMCUyMGNvbnRleHRzJTNEJTVCJTBBJTBBJTIwJTIwJTIwJTIwJTVEJTJDJTBBJTI5JTI5JTBBJTBBJTI3JTI3JTI3JTJDJTIwY2l0YXRpb25zJTNEJTI3d2FhcmRlbmJ1cmcyMDEzYSUyNyUyOSUzQg==\")));\n",
       "    "
      ],
      "text/plain": [
       "<IPython.core.display.Javascript object>"
      ]
     },
     "metadata": {},
     "output_type": "display_data"
    },
    {
     "data": {
      "application/javascript": [
       "$('span:contains(\"# Temp\")').closest('.cell').remove();"
      ],
      "text/plain": [
       "<IPython.core.display.Javascript object>"
      ]
     },
     "metadata": {},
     "output_type": "display_data"
    },
    {
     "data": {
      "application/javascript": [
       "\n",
       "        $('span:contains(\"# Temp\")').closest('.cell').remove();\n",
       "        var code = IPython.notebook.insert_cell_below('code');\n",
       "        code.set_text(decodeURIComponent(window.atob(\"JTIzJTIwVGVtcCUwQWluc2VydCUyOCUyNyUyNyUyNyUwQURCJTI4Q2l0YXRpb24lMjglMEElMjAlMjAlMjAlMjB3YWFyZGVuYnVyZzIwMTNhJTJDJTIwbWlzcmEyMDA5YSUyQyUyMHJlZiUzRCUyMiUyMiUyQyUwQSUyMCUyMCUyMCUyMGNvbnRleHRzJTNEJTVCJTBBJTBBJTIwJTIwJTIwJTIwJTVEJTJDJTBBJTI5JTI5JTBBJTBBJTI3JTI3JTI3JTJDJTIwY2l0YXRpb25zJTNEJTI3d2FhcmRlbmJ1cmcyMDEzYSUyNyUyOSUzQg==\")));\n",
       "    "
      ],
      "text/plain": [
       "<IPython.core.display.Javascript object>"
      ]
     },
     "metadata": {},
     "output_type": "display_data"
    },
    {
     "data": {
      "application/javascript": [
       "$('span:contains(\"# Temp\")').closest('.cell').remove();"
      ],
      "text/plain": [
       "<IPython.core.display.Javascript object>"
      ]
     },
     "metadata": {},
     "output_type": "display_data"
    },
    {
     "data": {
      "application/javascript": [
       "\n",
       "        $('span:contains(\"# Temp\")').closest('.cell').remove();\n",
       "        var code = IPython.notebook.insert_cell_below('code');\n",
       "        code.set_text(decodeURIComponent(window.atob(\"JTIzJTIwVGVtcCUwQWluc2VydCUyOCUyNyUyNyUyNyUwQW1vb3JlMjAwOGElMjAlM0QlMjBEQiUyOFdvcmtVbnJlbGF0ZWQlMjglMEElMjAlMjAlMjAlMjAyMDA4JTJDJTIwJTIyU2NhbGluZyUyMGFnaWxlJTNBJTIwRmluZGluZyUyMHlvdXIlMjBhZ2lsZSUyMHRyaWJlJTIyJTJDJTBBJTIwJTIwJTIwJTIwZGlzcGxheSUzRCUyMm1vb3JlJTIyJTJDJTBBJTIwJTIwJTIwJTIwYXV0aG9ycyUzRCUyMk1vb3JlJTJDJTIwRS4lMjBhbmQlMjBTcGVucyUyQyUyMEouJTIyJTJDJTBBJTIwJTIwJTIwJTIwcGxhY2UlM0RGQUtFJTJDJTBBJTIwJTIwJTIwJTIwcHAlM0QlMjIxMjEtMTI0JTIyJTJDJTBBJTIwJTIwJTIwJTIwZW50cnl0eXBlJTNEJTIyY29uZmVyZW5jZSUyMiUyQyUwQSUyMCUyMCUyMCUyMGRvaSUzRCUyMjEwLjExMDkvQWdpbGUuMjAwOC40MyUyMiUyQyUwQSUyMCUyMCUyMCUyMGFydF9udW1iZXIlM0QlMjI0NTk5NDYxJTIyJTJDJTBBJTIwJTIwJTIwJTIwbm90ZSUzRCUyMmNpdGVkJTIwQnklMjAxMSUyMiUyQyUwQSUyMCUyMCUyMCUyMElEJTNEJTIyTW9vcmUyMDA4MTIxJTIyJTJDJTBBJTIwJTIwJTIwJTIwcGxhY2V4JTNEJTIyUHJvY2VlZGluZ3MlMjAtJTIwQWdpbGUlMjAyMDA4JTIwQ29uZmVyZW5jZSUyMiUyQyUwQSUyOSUyOSUwQSUwQURCJTI4Q2l0YXRpb24lMjglMEElMjAlMjAlMjAlMjB3YWFyZGVuYnVyZzIwMTNhJTJDJTIwbW9vcmUyMDA4YSUyQyUyMHJlZiUzRCUyMiUyMiUyQyUwQSUyMCUyMCUyMCUyMGNvbnRleHRzJTNEJTVCJTBBJTBBJTIwJTIwJTIwJTIwJTVEJTJDJTBBJTI5JTI5JTBBJTBBJTI3JTI3JTI3JTJDJTIwY2l0YXRpb25zJTNEJTI3d2FhcmRlbmJ1cmcyMDEzYSUyNyUyOSUzQg==\")));\n",
       "    "
      ],
      "text/plain": [
       "<IPython.core.display.Javascript object>"
      ]
     },
     "metadata": {},
     "output_type": "display_data"
    },
    {
     "data": {
      "application/javascript": [
       "$('span:contains(\"# Temp\")').closest('.cell').remove();"
      ],
      "text/plain": [
       "<IPython.core.display.Javascript object>"
      ]
     },
     "metadata": {},
     "output_type": "display_data"
    },
    {
     "data": {
      "application/javascript": [
       "\n",
       "        $('span:contains(\"# Temp\")').closest('.cell').remove();\n",
       "        var code = IPython.notebook.insert_cell_below('code');\n",
       "        code.set_text(decodeURIComponent(window.atob(\"JTIzJTIwVGVtcCUwQWluc2VydCUyOCUyNyUyNyUyNyUwQW1vb3JlMjAwOGElMjAlM0QlMjBEQiUyOFdvcmtVbnJlbGF0ZWQlMjglMEElMjAlMjAlMjAlMjAyMDA4JTJDJTIwJTIyU2NhbGluZyUyMGFnaWxlJTNBJTIwRmluZGluZyUyMHlvdXIlMjBhZ2lsZSUyMHRyaWJlJTIyJTJDJTBBJTIwJTIwJTIwJTIwZGlzcGxheSUzRCUyMm1vb3JlJTIyJTJDJTBBJTIwJTIwJTIwJTIwYXV0aG9ycyUzRCUyMk1vb3JlJTJDJTIwRS4lMjBhbmQlMjBTcGVucyUyQyUyMEouJTIyJTJDJTBBJTIwJTIwJTIwJTIwcGxhY2UlM0RGQUtFJTJDJTBBJTIwJTIwJTIwJTIwcHAlM0QlMjIxMjEtMTI0JTIyJTJDJTBBJTIwJTIwJTIwJTIwZW50cnl0eXBlJTNEJTIyY29uZmVyZW5jZSUyMiUyQyUwQSUyMCUyMCUyMCUyMGRvaSUzRCUyMjEwLjExMDkvQWdpbGUuMjAwOC40MyUyMiUyQyUwQSUyMCUyMCUyMCUyMGFydF9udW1iZXIlM0QlMjI0NTk5NDYxJTIyJTJDJTBBJTIwJTIwJTIwJTIwbm90ZSUzRCUyMmNpdGVkJTIwQnklMjAxMSUyMiUyQyUwQSUyMCUyMCUyMCUyMElEJTNEJTIyTW9vcmUyMDA4MTIxJTIyJTJDJTBBJTIwJTIwJTIwJTIwcGxhY2V4JTNEJTIyUHJvY2VlZGluZ3MlMjAtJTIwQWdpbGUlMjAyMDA4JTIwQ29uZmVyZW5jZSUyMiUyQyUwQSUyOSUyOSUwQSUwQURCJTI4Q2l0YXRpb24lMjglMEElMjAlMjAlMjAlMjB3YWFyZGVuYnVyZzIwMTNhJTJDJTIwbW9vcmUyMDA4YSUyQyUyMHJlZiUzRCUyMiUyMiUyQyUwQSUyMCUyMCUyMCUyMGNvbnRleHRzJTNEJTVCJTBBJTBBJTIwJTIwJTIwJTIwJTVEJTJDJTBBJTI5JTI5JTBBJTBBJTI3JTI3JTI3JTJDJTIwY2l0YXRpb25zJTNEJTI3d2FhcmRlbmJ1cmcyMDEzYSUyNyUyOSUzQg==\")));\n",
       "    "
      ],
      "text/plain": [
       "<IPython.core.display.Javascript object>"
      ]
     },
     "metadata": {},
     "output_type": "display_data"
    },
    {
     "data": {
      "application/javascript": [
       "$('span:contains(\"# Temp\")').closest('.cell').remove();"
      ],
      "text/plain": [
       "<IPython.core.display.Javascript object>"
      ]
     },
     "metadata": {},
     "output_type": "display_data"
    },
    {
     "data": {
      "application/javascript": [
       "\n",
       "        $('span:contains(\"# Temp\")').closest('.cell').remove();\n",
       "        var code = IPython.notebook.insert_cell_below('code');\n",
       "        code.set_text(decodeURIComponent(window.atob(\"JTIzJTIwVGVtcCUwQWluc2VydCUyOCUyNyUyNyUyNyUwQURCJTI4Q2l0YXRpb24lMjglMEElMjAlMjAlMjAlMjB3YWFyZGVuYnVyZzIwMTNhJTJDJTIwbmVydXIyMDA1YSUyQyUyMHJlZiUzRCUyMiUyMiUyQyUwQSUyMCUyMCUyMCUyMGNvbnRleHRzJTNEJTVCJTBBJTBBJTIwJTIwJTIwJTIwJTVEJTJDJTBBJTI5JTI5JTBBJTBBJTI3JTI3JTI3JTJDJTIwY2l0YXRpb25zJTNEJTI3d2FhcmRlbmJ1cmcyMDEzYSUyNyUyOSUzQg==\")));\n",
       "    "
      ],
      "text/plain": [
       "<IPython.core.display.Javascript object>"
      ]
     },
     "metadata": {},
     "output_type": "display_data"
    },
    {
     "data": {
      "application/javascript": [
       "$('span:contains(\"# Temp\")').closest('.cell').remove();"
      ],
      "text/plain": [
       "<IPython.core.display.Javascript object>"
      ]
     },
     "metadata": {},
     "output_type": "display_data"
    },
    {
     "data": {
      "application/javascript": [
       "\n",
       "        $('span:contains(\"# Temp\")').closest('.cell').remove();\n",
       "        var code = IPython.notebook.insert_cell_below('code');\n",
       "        code.set_text(decodeURIComponent(window.atob(\"JTIzJTIwVGVtcCUwQWluc2VydCUyOCUyNyUyNyUyNyUwQURCJTI4Q2l0YXRpb24lMjglMEElMjAlMjAlMjAlMjB3YWFyZGVuYnVyZzIwMTNhJTJDJTIwbmVydXIyMDA1YSUyQyUyMHJlZiUzRCUyMiUyMiUyQyUwQSUyMCUyMCUyMCUyMGNvbnRleHRzJTNEJTVCJTBBJTBBJTIwJTIwJTIwJTIwJTVEJTJDJTBBJTI5JTI5JTBBJTBBJTI3JTI3JTI3JTJDJTIwY2l0YXRpb25zJTNEJTI3d2FhcmRlbmJ1cmcyMDEzYSUyNyUyOSUzQg==\")));\n",
       "    "
      ],
      "text/plain": [
       "<IPython.core.display.Javascript object>"
      ]
     },
     "metadata": {},
     "output_type": "display_data"
    },
    {
     "data": {
      "application/javascript": [
       "$('span:contains(\"# Temp\")').closest('.cell').remove();"
      ],
      "text/plain": [
       "<IPython.core.display.Javascript object>"
      ]
     },
     "metadata": {},
     "output_type": "display_data"
    },
    {
     "data": {
      "application/javascript": [
       "\n",
       "        $('span:contains(\"# Temp\")').closest('.cell').remove();\n",
       "        var code = IPython.notebook.insert_cell_below('code');\n",
       "        code.set_text(decodeURIComponent(window.atob(\"JTIzJTIwVGVtcCUwQWluc2VydCUyOCUyNyUyNyUyNyUwQW9nYzIwMDlhJTIwJTNEJTIwREIlMjhXb3JrVW5yZWxhdGVkJTI4JTBBJTIwJTIwJTIwJTIwMjAwOSUyQyUyMCUyMkFuJTIwSW50cm9kdWN0aW9uJTIwdG8lMjBQUklOQ0UyJTNBJTIwTWFuYWdpbmclMjBhbmQlMjBEaXJlY3RpbmclMjBTdWNjZXNzZnVsJTIwUHJvamVjdHMlMjIlMkMlMEElMjAlMjAlMjAlMjBkaXNwbGF5JTNEJTIyb2djJTIyJTJDJTBBJTIwJTIwJTIwJTIwYXV0aG9ycyUzRCUyMk9HQyUyMiUyQyUwQSUyMCUyMCUyMCUyMHBsYWNlJTNERkFLRSUyQyUwQSUyMCUyMCUyMCUyMGVudHJ5dHlwZSUzRCUyMmFydGljbGUlMjIlMkMlMEElMjAlMjAlMjAlMjBub3RlJTNEJTIyY2l0ZWQlMjBCeSUyMDElMjIlMkMlMEElMjAlMjAlMjAlMjBJRCUzRCUyMk9HQzIwMDklMjIlMkMlMEElMjAlMjAlMjAlMjBwbGFjZXglM0QlMjJUaGUlMjBTdGF0aW9uYXJ5JTIwT2ZmaWNlJTIyJTJDJTBBJTI5JTI5JTBBJTBBREIlMjhDaXRhdGlvbiUyOCUwQSUyMCUyMCUyMCUyMHdhYXJkZW5idXJnMjAxM2ElMkMlMjBvZ2MyMDA5YSUyQyUyMHJlZiUzRCUyMiUyMiUyQyUwQSUyMCUyMCUyMCUyMGNvbnRleHRzJTNEJTVCJTBBJTBBJTIwJTIwJTIwJTIwJTVEJTJDJTBBJTI5JTI5JTBBJTBBJTI3JTI3JTI3JTJDJTIwY2l0YXRpb25zJTNEJTI3d2FhcmRlbmJ1cmcyMDEzYSUyNyUyOSUzQg==\")));\n",
       "    "
      ],
      "text/plain": [
       "<IPython.core.display.Javascript object>"
      ]
     },
     "metadata": {},
     "output_type": "display_data"
    },
    {
     "data": {
      "application/javascript": [
       "$('span:contains(\"# Temp\")').closest('.cell').remove();"
      ],
      "text/plain": [
       "<IPython.core.display.Javascript object>"
      ]
     },
     "metadata": {},
     "output_type": "display_data"
    },
    {
     "data": {
      "application/javascript": [
       "\n",
       "        $('span:contains(\"# Temp\")').closest('.cell').remove();\n",
       "        var code = IPython.notebook.insert_cell_below('code');\n",
       "        code.set_text(decodeURIComponent(window.atob(\"JTIzJTIwVGVtcCUwQWluc2VydCUyOCUyNyUyNyUyNyUwQW9nYzIwMDlhJTIwJTNEJTIwREIlMjhXb3JrVW5yZWxhdGVkJTI4JTBBJTIwJTIwJTIwJTIwMjAwOSUyQyUyMCUyMkFuJTIwSW50cm9kdWN0aW9uJTIwdG8lMjBQUklOQ0UyJTNBJTIwTWFuYWdpbmclMjBhbmQlMjBEaXJlY3RpbmclMjBTdWNjZXNzZnVsJTIwUHJvamVjdHMlMjIlMkMlMEElMjAlMjAlMjAlMjBkaXNwbGF5JTNEJTIyb2djJTIyJTJDJTBBJTIwJTIwJTIwJTIwYXV0aG9ycyUzRCUyMk9HQyUyMiUyQyUwQSUyMCUyMCUyMCUyMHBsYWNlJTNERkFLRSUyQyUwQSUyMCUyMCUyMCUyMGVudHJ5dHlwZSUzRCUyMmFydGljbGUlMjIlMkMlMEElMjAlMjAlMjAlMjBub3RlJTNEJTIyY2l0ZWQlMjBCeSUyMDElMjIlMkMlMEElMjAlMjAlMjAlMjBJRCUzRCUyMk9HQzIwMDklMjIlMkMlMEElMjAlMjAlMjAlMjBwbGFjZXglM0QlMjJUaGUlMjBTdGF0aW9uYXJ5JTIwT2ZmaWNlJTIyJTJDJTBBJTI5JTI5JTBBJTBBREIlMjhDaXRhdGlvbiUyOCUwQSUyMCUyMCUyMCUyMHdhYXJkZW5idXJnMjAxM2ElMkMlMjBvZ2MyMDA5YSUyQyUyMHJlZiUzRCUyMiUyMiUyQyUwQSUyMCUyMCUyMCUyMGNvbnRleHRzJTNEJTVCJTBBJTBBJTIwJTIwJTIwJTIwJTVEJTJDJTBBJTI5JTI5JTBBJTBBJTI3JTI3JTI3JTJDJTIwY2l0YXRpb25zJTNEJTI3d2FhcmRlbmJ1cmcyMDEzYSUyNyUyOSUzQg==\")));\n",
       "    "
      ],
      "text/plain": [
       "<IPython.core.display.Javascript object>"
      ]
     },
     "metadata": {},
     "output_type": "display_data"
    },
    {
     "data": {
      "application/javascript": [
       "$('span:contains(\"# Temp\")').closest('.cell').remove();"
      ],
      "text/plain": [
       "<IPython.core.display.Javascript object>"
      ]
     },
     "metadata": {},
     "output_type": "display_data"
    },
    {
     "data": {
      "application/javascript": [
       "\n",
       "        $('span:contains(\"# Temp\")').closest('.cell').remove();\n",
       "        var code = IPython.notebook.insert_cell_below('code');\n",
       "        code.set_text(decodeURIComponent(window.atob(\"JTIzJTIwVGVtcCUwQWluc2VydCUyOCUyNyUyNyUyNyUwQURCJTI4Q2l0YXRpb24lMjglMEElMjAlMjAlMjAlMjB3YWFyZGVuYnVyZzIwMTNhJTJDJTIwcGFycnkxOTk4YSUyQyUyMHJlZiUzRCUyMiUyMiUyQyUwQSUyMCUyMCUyMCUyMGNvbnRleHRzJTNEJTVCJTBBJTBBJTIwJTIwJTIwJTIwJTVEJTJDJTBBJTI5JTI5JTBBJTBBJTI3JTI3JTI3JTJDJTIwY2l0YXRpb25zJTNEJTI3d2FhcmRlbmJ1cmcyMDEzYSUyNyUyOSUzQg==\")));\n",
       "    "
      ],
      "text/plain": [
       "<IPython.core.display.Javascript object>"
      ]
     },
     "metadata": {},
     "output_type": "display_data"
    },
    {
     "data": {
      "application/javascript": [
       "$('span:contains(\"# Temp\")').closest('.cell').remove();"
      ],
      "text/plain": [
       "<IPython.core.display.Javascript object>"
      ]
     },
     "metadata": {},
     "output_type": "display_data"
    },
    {
     "data": {
      "application/javascript": [
       "\n",
       "        $('span:contains(\"# Temp\")').closest('.cell').remove();\n",
       "        var code = IPython.notebook.insert_cell_below('code');\n",
       "        code.set_text(decodeURIComponent(window.atob(\"JTIzJTIwVGVtcCUwQWluc2VydCUyOCUyNyUyNyUyNyUwQURCJTI4Q2l0YXRpb24lMjglMEElMjAlMjAlMjAlMjB3YWFyZGVuYnVyZzIwMTNhJTJDJTIwcGFycnkxOTk4YSUyQyUyMHJlZiUzRCUyMiUyMiUyQyUwQSUyMCUyMCUyMCUyMGNvbnRleHRzJTNEJTVCJTBBJTBBJTIwJTIwJTIwJTIwJTVEJTJDJTBBJTI5JTI5JTBBJTBBJTI3JTI3JTI3JTJDJTIwY2l0YXRpb25zJTNEJTI3d2FhcmRlbmJ1cmcyMDEzYSUyNyUyOSUzQg==\")));\n",
       "    "
      ],
      "text/plain": [
       "<IPython.core.display.Javascript object>"
      ]
     },
     "metadata": {},
     "output_type": "display_data"
    },
    {
     "data": {
      "application/javascript": [
       "$('span:contains(\"# Temp\")').closest('.cell').remove();"
      ],
      "text/plain": [
       "<IPython.core.display.Javascript object>"
      ]
     },
     "metadata": {},
     "output_type": "display_data"
    },
    {
     "data": {
      "application/javascript": [
       "\n",
       "        $('span:contains(\"# Temp\")').closest('.cell').remove();\n",
       "        var code = IPython.notebook.insert_cell_below('code');\n",
       "        code.set_text(decodeURIComponent(window.atob(\"JTIzJTIwVGVtcCUwQWluc2VydCUyOCUyNyUyNyUyNyUwQURCJTI4Q2l0YXRpb24lMjglMEElMjAlMjAlMjAlMjB3YWFyZGVuYnVyZzIwMTNhJTJDJTIwZmVycmVpcmEyMDExYSUyQyUyMHJlZiUzRCUyMiUyMiUyQyUwQSUyMCUyMCUyMCUyMGNvbnRleHRzJTNEJTVCJTBBJTBBJTIwJTIwJTIwJTIwJTVEJTJDJTBBJTI5JTI5JTBBJTBBJTI3JTI3JTI3JTJDJTIwY2l0YXRpb25zJTNEJTI3d2FhcmRlbmJ1cmcyMDEzYSUyNyUyOSUzQg==\")));\n",
       "    "
      ],
      "text/plain": [
       "<IPython.core.display.Javascript object>"
      ]
     },
     "metadata": {},
     "output_type": "display_data"
    },
    {
     "data": {
      "application/javascript": [
       "$('span:contains(\"# Temp\")').closest('.cell').remove();"
      ],
      "text/plain": [
       "<IPython.core.display.Javascript object>"
      ]
     },
     "metadata": {},
     "output_type": "display_data"
    },
    {
     "data": {
      "application/javascript": [
       "\n",
       "        $('span:contains(\"# Temp\")').closest('.cell').remove();\n",
       "        var code = IPython.notebook.insert_cell_below('code');\n",
       "        code.set_text(decodeURIComponent(window.atob(\"JTIzJTIwVGVtcCUwQWluc2VydCUyOCUyNyUyNyUyNyUwQURCJTI4Q2l0YXRpb24lMjglMEElMjAlMjAlMjAlMjB3YWFyZGVuYnVyZzIwMTNhJTJDJTIwZmVycmVpcmEyMDExYSUyQyUyMHJlZiUzRCUyMiUyMiUyQyUwQSUyMCUyMCUyMCUyMGNvbnRleHRzJTNEJTVCJTBBJTBBJTIwJTIwJTIwJTIwJTVEJTJDJTBBJTI5JTI5JTBBJTBBJTI3JTI3JTI3JTJDJTIwY2l0YXRpb25zJTNEJTI3d2FhcmRlbmJ1cmcyMDEzYSUyNyUyOSUzQg==\")));\n",
       "    "
      ],
      "text/plain": [
       "<IPython.core.display.Javascript object>"
      ]
     },
     "metadata": {},
     "output_type": "display_data"
    },
    {
     "data": {
      "application/javascript": [
       "$('span:contains(\"# Temp\")').closest('.cell').remove();"
      ],
      "text/plain": [
       "<IPython.core.display.Javascript object>"
      ]
     },
     "metadata": {},
     "output_type": "display_data"
    },
    {
     "data": {
      "application/javascript": [
       "\n",
       "        $('span:contains(\"# Temp\")').closest('.cell').remove();\n",
       "        var code = IPython.notebook.insert_cell_below('code');\n",
       "        code.set_text(decodeURIComponent(window.atob(\"JTIzJTIwVGVtcCUwQWluc2VydCUyOCUyNyUyNyUyNyUwQURCJTI4Q2l0YXRpb24lMjglMEElMjAlMjAlMjAlMjB3YWFyZGVuYnVyZzIwMTNhJTJDJTIwcGV0ZXJzZW4yMDA5YSUyQyUyMHJlZiUzRCUyMiUyMiUyQyUwQSUyMCUyMCUyMCUyMGNvbnRleHRzJTNEJTVCJTBBJTBBJTIwJTIwJTIwJTIwJTVEJTJDJTBBJTI5JTI5JTBBJTBBJTI3JTI3JTI3JTJDJTIwY2l0YXRpb25zJTNEJTI3d2FhcmRlbmJ1cmcyMDEzYSUyNyUyOSUzQg==\")));\n",
       "    "
      ],
      "text/plain": [
       "<IPython.core.display.Javascript object>"
      ]
     },
     "metadata": {},
     "output_type": "display_data"
    },
    {
     "data": {
      "application/javascript": [
       "$('span:contains(\"# Temp\")').closest('.cell').remove();"
      ],
      "text/plain": [
       "<IPython.core.display.Javascript object>"
      ]
     },
     "metadata": {},
     "output_type": "display_data"
    },
    {
     "data": {
      "application/javascript": [
       "\n",
       "        $('span:contains(\"# Temp\")').closest('.cell').remove();\n",
       "        var code = IPython.notebook.insert_cell_below('code');\n",
       "        code.set_text(decodeURIComponent(window.atob(\"JTIzJTIwVGVtcCUwQWluc2VydCUyOCUyNyUyNyUyNyUwQURCJTI4Q2l0YXRpb24lMjglMEElMjAlMjAlMjAlMjB3YWFyZGVuYnVyZzIwMTNhJTJDJTIwcGV0ZXJzZW4yMDA5YSUyQyUyMHJlZiUzRCUyMiUyMiUyQyUwQSUyMCUyMCUyMCUyMGNvbnRleHRzJTNEJTVCJTBBJTBBJTIwJTIwJTIwJTIwJTVEJTJDJTBBJTI5JTI5JTBBJTBBJTI3JTI3JTI3JTJDJTIwY2l0YXRpb25zJTNEJTI3d2FhcmRlbmJ1cmcyMDEzYSUyNyUyOSUzQg==\")));\n",
       "    "
      ],
      "text/plain": [
       "<IPython.core.display.Javascript object>"
      ]
     },
     "metadata": {},
     "output_type": "display_data"
    },
    {
     "data": {
      "application/javascript": [
       "$('span:contains(\"# Temp\")').closest('.cell').remove();"
      ],
      "text/plain": [
       "<IPython.core.display.Javascript object>"
      ]
     },
     "metadata": {},
     "output_type": "display_data"
    },
    {
     "data": {
      "application/javascript": [
       "\n",
       "        $('span:contains(\"# Temp\")').closest('.cell').remove();\n",
       "        var code = IPython.notebook.insert_cell_below('code');\n",
       "        code.set_text(decodeURIComponent(window.atob(\"JTIzJTIwVGVtcCUwQWluc2VydCUyOCUyNyUyNyUyNyUwQURCJTI4Q2l0YXRpb24lMjglMEElMjAlMjAlMjAlMjB3YWFyZGVuYnVyZzIwMTNhJTJDJTIwcGV0ZXJzZW4yMDEwYSUyQyUyMHJlZiUzRCUyMiUyMiUyQyUwQSUyMCUyMCUyMCUyMGNvbnRleHRzJTNEJTVCJTBBJTBBJTIwJTIwJTIwJTIwJTVEJTJDJTBBJTI5JTI5JTBBJTBBJTI3JTI3JTI3JTJDJTIwY2l0YXRpb25zJTNEJTI3d2FhcmRlbmJ1cmcyMDEzYSUyNyUyOSUzQiUwQXNldF9hdHRyaWJ1dGUlMjglMjdwZXRlcnNlbjIwMTBhJTI3JTJDJTIwJTI3bm90ZSUyNyUyQyUyMCUyN2NpdGVkJTIwQnklMjA1NyUyNyUyOSUzQg==\")));\n",
       "    "
      ],
      "text/plain": [
       "<IPython.core.display.Javascript object>"
      ]
     },
     "metadata": {},
     "output_type": "display_data"
    },
    {
     "data": {
      "application/javascript": [
       "$('span:contains(\"# Temp\")').closest('.cell').remove();"
      ],
      "text/plain": [
       "<IPython.core.display.Javascript object>"
      ]
     },
     "metadata": {},
     "output_type": "display_data"
    },
    {
     "data": {
      "application/javascript": [
       "\n",
       "        $('span:contains(\"# Temp\")').closest('.cell').remove();\n",
       "        var code = IPython.notebook.insert_cell_below('code');\n",
       "        code.set_text(decodeURIComponent(window.atob(\"JTIzJTIwVGVtcCUwQWluc2VydCUyOCUyNyUyNyUyNyUwQURCJTI4Q2l0YXRpb24lMjglMEElMjAlMjAlMjAlMjB3YWFyZGVuYnVyZzIwMTNhJTJDJTIwcGV0ZXJzZW4yMDEwYSUyQyUyMHJlZiUzRCUyMiUyMiUyQyUwQSUyMCUyMCUyMCUyMGNvbnRleHRzJTNEJTVCJTBBJTBBJTIwJTIwJTIwJTIwJTVEJTJDJTBBJTI5JTI5JTBBJTBBJTI3JTI3JTI3JTJDJTIwY2l0YXRpb25zJTNEJTI3d2FhcmRlbmJ1cmcyMDEzYSUyNyUyOSUzQiUwQXNldF9hdHRyaWJ1dGUlMjglMjdwZXRlcnNlbjIwMTBhJTI3JTJDJTIwJTI3bm90ZSUyNyUyQyUyMCUyN2NpdGVkJTIwQnklMjA1NyUyNyUyOSUzQg==\")));\n",
       "    "
      ],
      "text/plain": [
       "<IPython.core.display.Javascript object>"
      ]
     },
     "metadata": {},
     "output_type": "display_data"
    },
    {
     "data": {
      "application/javascript": [
       "$('span:contains(\"# Temp\")').closest('.cell').remove();"
      ],
      "text/plain": [
       "<IPython.core.display.Javascript object>"
      ]
     },
     "metadata": {},
     "output_type": "display_data"
    },
    {
     "data": {
      "application/javascript": [
       "\n",
       "        $('span:contains(\"# Temp\")').closest('.cell').remove();\n",
       "        var code = IPython.notebook.insert_cell_below('code');\n",
       "        code.set_text(decodeURIComponent(window.atob(\"JTIzJTIwVGVtcCUwQWluc2VydCUyOCUyNyUyNyUyNyUwQURCJTI4Q2l0YXRpb24lMjglMEElMjAlMjAlMjAlMjB3YWFyZGVuYnVyZzIwMTNhJTJDJTIwcGlra2FyYWluZW4yMDA4YSUyQyUyMHJlZiUzRCUyMiUyMiUyQyUwQSUyMCUyMCUyMCUyMGNvbnRleHRzJTNEJTVCJTBBJTBBJTIwJTIwJTIwJTIwJTVEJTJDJTBBJTI5JTI5JTBBJTBBJTI3JTI3JTI3JTJDJTIwY2l0YXRpb25zJTNEJTI3d2FhcmRlbmJ1cmcyMDEzYSUyNyUyOSUzQg==\")));\n",
       "    "
      ],
      "text/plain": [
       "<IPython.core.display.Javascript object>"
      ]
     },
     "metadata": {},
     "output_type": "display_data"
    },
    {
     "data": {
      "application/javascript": [
       "$('span:contains(\"# Temp\")').closest('.cell').remove();"
      ],
      "text/plain": [
       "<IPython.core.display.Javascript object>"
      ]
     },
     "metadata": {},
     "output_type": "display_data"
    },
    {
     "data": {
      "application/javascript": [
       "\n",
       "        $('span:contains(\"# Temp\")').closest('.cell').remove();\n",
       "        var code = IPython.notebook.insert_cell_below('code');\n",
       "        code.set_text(decodeURIComponent(window.atob(\"JTIzJTIwVGVtcCUwQWluc2VydCUyOCUyNyUyNyUyNyUwQURCJTI4Q2l0YXRpb24lMjglMEElMjAlMjAlMjAlMjB3YWFyZGVuYnVyZzIwMTNhJTJDJTIwcGlra2FyYWluZW4yMDA4YSUyQyUyMHJlZiUzRCUyMiUyMiUyQyUwQSUyMCUyMCUyMCUyMGNvbnRleHRzJTNEJTVCJTBBJTBBJTIwJTIwJTIwJTIwJTVEJTJDJTBBJTI5JTI5JTBBJTBBJTI3JTI3JTI3JTJDJTIwY2l0YXRpb25zJTNEJTI3d2FhcmRlbmJ1cmcyMDEzYSUyNyUyOSUzQg==\")));\n",
       "    "
      ],
      "text/plain": [
       "<IPython.core.display.Javascript object>"
      ]
     },
     "metadata": {},
     "output_type": "display_data"
    },
    {
     "data": {
      "application/javascript": [
       "$('span:contains(\"# Temp\")').closest('.cell').remove();"
      ],
      "text/plain": [
       "<IPython.core.display.Javascript object>"
      ]
     },
     "metadata": {},
     "output_type": "display_data"
    },
    {
     "data": {
      "application/javascript": [
       "\n",
       "        $('span:contains(\"# Temp\")').closest('.cell').remove();\n",
       "        var code = IPython.notebook.insert_cell_below('code');\n",
       "        code.set_text(decodeURIComponent(window.atob(\"JTIzJTIwVGVtcCUwQWluc2VydCUyOCUyNyUyNyUyNyUwQXBpa2thcmFpbmVuMjAxMmElMjAlM0QlMjBEQiUyOFdvcmtVbnJlbGF0ZWQlMjglMEElMjAlMjAlMjAlMjAyMDEyJTJDJTIwJTIyU3RyZW5ndGhzJTIwYW5kJTIwYmFycmllcnMlMjBiZWhpbmQlMjB0aGUlMjBzdWNjZXNzZnVsJTIwYWdpbGUlMjBkZXBsb3ltZW50LWluc2lnaHRzJTIwZnJvbSUyMHRoZSUyMHRocmVlJTIwc29mdHdhcmUlMjBpbnRlbnNpdmUlMjBjb21wYW5pZXMlMjBpbiUyMEZpbmxhbmQlMjIlMkMlMEElMjAlMjAlMjAlMjBkaXNwbGF5JTNEJTIycGlra2FyYWluZW4lMjIlMkMlMEElMjAlMjAlMjAlMjBhdXRob3JzJTNEJTIyUGlra2FyYWluZW4lMkMlMjBNLiUyMGFuZCUyMFNhbG8lMkMlMjBPLiUyMGFuZCUyMEt1dXNlbGElMkMlMjBSLiUyMGFuZCUyMEFicmFoYW1zc29uJTJDJTIwUC4lMjIlMkMlMEElMjAlMjAlMjAlMjBwbGFjZSUzREVTRSUyQyUwQSUyMCUyMCUyMCUyMHBwJTNEJTIyNjc1LTcwMiUyMiUyQyUwQSUyMCUyMCUyMCUyMGVudHJ5dHlwZSUzRCUyMmFydGljbGUlMjIlMkMlMEElMjAlMjAlMjAlMjB2b2x1bWUlM0QlMjIxNyUyMiUyQyUwQSUyMCUyMCUyMCUyMG51bWJlciUzRCUyMjYlMjIlMkMlMEElMjAlMjAlMjAlMjBkb2klM0QlMjIxMC4xMDA3L3MxMDY2NC0wMTEtOTE4NS01JTIyJTJDJTBBJTIwJTIwJTIwJTIwbm90ZSUzRCUyMmNpdGVkJTIwQnklMjAyOCUyMiUyQyUwQSUyMCUyMCUyMCUyMElEJTNEJTIyUGlra2FyYWluZW4yMDEyNjc1JTIyJTJDJTBBJTIwJTIwJTIwJTIwcGxhY2V4JTNEJTIyRW1waXJpY2FsJTIwU29mdHdhcmUlMjBFbmdpbmVlcmluZyUyMiUyQyUwQSUyOSUyOSUwQSUwQURCJTI4Q2l0YXRpb24lMjglMEElMjAlMjAlMjAlMjB3YWFyZGVuYnVyZzIwMTNhJTJDJTIwcGlra2FyYWluZW4yMDEyYSUyQyUyMHJlZiUzRCUyMiUyMiUyQyUwQSUyMCUyMCUyMCUyMGNvbnRleHRzJTNEJTVCJTBBJTBBJTIwJTIwJTIwJTIwJTVEJTJDJTBBJTI5JTI5JTBBJTBBJTI3JTI3JTI3JTJDJTIwY2l0YXRpb25zJTNEJTI3d2FhcmRlbmJ1cmcyMDEzYSUyNyUyOSUzQg==\")));\n",
       "    "
      ],
      "text/plain": [
       "<IPython.core.display.Javascript object>"
      ]
     },
     "metadata": {},
     "output_type": "display_data"
    },
    {
     "data": {
      "application/javascript": [
       "$('span:contains(\"# Temp\")').closest('.cell').remove();"
      ],
      "text/plain": [
       "<IPython.core.display.Javascript object>"
      ]
     },
     "metadata": {},
     "output_type": "display_data"
    },
    {
     "data": {
      "application/javascript": [
       "\n",
       "        $('span:contains(\"# Temp\")').closest('.cell').remove();\n",
       "        var code = IPython.notebook.insert_cell_below('code');\n",
       "        code.set_text(decodeURIComponent(window.atob(\"JTIzJTIwVGVtcCUwQWluc2VydCUyOCUyNyUyNyUyNyUwQXBpa2thcmFpbmVuMjAxMmElMjAlM0QlMjBEQiUyOFdvcmtVbnJlbGF0ZWQlMjglMEElMjAlMjAlMjAlMjAyMDEyJTJDJTIwJTIyU3RyZW5ndGhzJTIwYW5kJTIwYmFycmllcnMlMjBiZWhpbmQlMjB0aGUlMjBzdWNjZXNzZnVsJTIwYWdpbGUlMjBkZXBsb3ltZW50LWluc2lnaHRzJTIwZnJvbSUyMHRoZSUyMHRocmVlJTIwc29mdHdhcmUlMjBpbnRlbnNpdmUlMjBjb21wYW5pZXMlMjBpbiUyMEZpbmxhbmQlMjIlMkMlMEElMjAlMjAlMjAlMjBkaXNwbGF5JTNEJTIycGlra2FyYWluZW4lMjIlMkMlMEElMjAlMjAlMjAlMjBhdXRob3JzJTNEJTIyUGlra2FyYWluZW4lMkMlMjBNLiUyMGFuZCUyMFNhbG8lMkMlMjBPLiUyMGFuZCUyMEt1dXNlbGElMkMlMjBSLiUyMGFuZCUyMEFicmFoYW1zc29uJTJDJTIwUC4lMjIlMkMlMEElMjAlMjAlMjAlMjBwbGFjZSUzREVTRSUyQyUwQSUyMCUyMCUyMCUyMHBwJTNEJTIyNjc1LTcwMiUyMiUyQyUwQSUyMCUyMCUyMCUyMGVudHJ5dHlwZSUzRCUyMmFydGljbGUlMjIlMkMlMEElMjAlMjAlMjAlMjB2b2x1bWUlM0QlMjIxNyUyMiUyQyUwQSUyMCUyMCUyMCUyMG51bWJlciUzRCUyMjYlMjIlMkMlMEElMjAlMjAlMjAlMjBkb2klM0QlMjIxMC4xMDA3L3MxMDY2NC0wMTEtOTE4NS01JTIyJTJDJTBBJTIwJTIwJTIwJTIwbm90ZSUzRCUyMmNpdGVkJTIwQnklMjAyOCUyMiUyQyUwQSUyMCUyMCUyMCUyMElEJTNEJTIyUGlra2FyYWluZW4yMDEyNjc1JTIyJTJDJTBBJTIwJTIwJTIwJTIwcGxhY2V4JTNEJTIyRW1waXJpY2FsJTIwU29mdHdhcmUlMjBFbmdpbmVlcmluZyUyMiUyQyUwQSUyOSUyOSUwQSUwQURCJTI4Q2l0YXRpb24lMjglMEElMjAlMjAlMjAlMjB3YWFyZGVuYnVyZzIwMTNhJTJDJTIwcGlra2FyYWluZW4yMDEyYSUyQyUyMHJlZiUzRCUyMiUyMiUyQyUwQSUyMCUyMCUyMCUyMGNvbnRleHRzJTNEJTVCJTBBJTBBJTIwJTIwJTIwJTIwJTVEJTJDJTBBJTI5JTI5JTBBJTBBJTI3JTI3JTI3JTJDJTIwY2l0YXRpb25zJTNEJTI3d2FhcmRlbmJ1cmcyMDEzYSUyNyUyOSUzQg==\")));\n",
       "    "
      ],
      "text/plain": [
       "<IPython.core.display.Javascript object>"
      ]
     },
     "metadata": {},
     "output_type": "display_data"
    },
    {
     "data": {
      "application/javascript": [
       "$('span:contains(\"# Temp\")').closest('.cell').remove();"
      ],
      "text/plain": [
       "<IPython.core.display.Javascript object>"
      ]
     },
     "metadata": {},
     "output_type": "display_data"
    },
    {
     "data": {
      "application/javascript": [
       "\n",
       "        $('span:contains(\"# Temp\")').closest('.cell').remove();\n",
       "        var code = IPython.notebook.insert_cell_below('code');\n",
       "        code.set_text(decodeURIComponent(window.atob(\"JTIzJTIwVGVtcCUwQWluc2VydCUyOCUyNyUyNyUyNyUwQXBpbmsyMDA5YSUyMCUzRCUyMERCJTI4V29ya1VucmVsYXRlZCUyOCUwQSUyMCUyMCUyMCUyMDIwMDklMkMlMjAlMjJEcml2ZSUzQSUyMFRoZSUyMFN1cnByaXNpbmclMjBUcnV0aCUyMGFib3V0JTIwV2hhdCUyME1vdGl2YXRlcyUyMFVzJTIyJTJDJTBBJTIwJTIwJTIwJTIwZGlzcGxheSUzRCUyMnBpbmslMjIlMkMlMEElMjAlMjAlMjAlMjBhdXRob3JzJTNEJTIyUGluayUyQyUyMEQuSC4lMjIlMkMlMEElMjAlMjAlMjAlMjBwbGFjZSUzREJvb2slMkMlMEElMjAlMjAlMjAlMjBlbnRyeXR5cGUlM0QlMjJhcnRpY2xlJTIyJTJDJTBBJTIwJTIwJTIwJTIwbm90ZSUzRCUyMmNpdGVkJTIwQnklMjA2NDYlMjIlMkMlMEElMjAlMjAlMjAlMjBJRCUzRCUyMlBpbmsyMDA5JTIyJTJDJTBBJTIwJTIwJTIwJTIwcGxhY2V4JTNEJTIyUml2ZXJoZWFkJTIwQm9va3MlMjIlMkMlMEElMjklMjklMEElMEFEQiUyOENpdGF0aW9uJTI4JTBBJTIwJTIwJTIwJTIwd2FhcmRlbmJ1cmcyMDEzYSUyQyUyMHBpbmsyMDA5YSUyQyUyMHJlZiUzRCUyMiUyMiUyQyUwQSUyMCUyMCUyMCUyMGNvbnRleHRzJTNEJTVCJTBBJTBBJTIwJTIwJTIwJTIwJTVEJTJDJTBBJTI5JTI5JTBBJTBBJTI3JTI3JTI3JTJDJTIwY2l0YXRpb25zJTNEJTI3d2FhcmRlbmJ1cmcyMDEzYSUyNyUyOSUzQg==\")));\n",
       "    "
      ],
      "text/plain": [
       "<IPython.core.display.Javascript object>"
      ]
     },
     "metadata": {},
     "output_type": "display_data"
    },
    {
     "data": {
      "application/javascript": [
       "$('span:contains(\"# Temp\")').closest('.cell').remove();"
      ],
      "text/plain": [
       "<IPython.core.display.Javascript object>"
      ]
     },
     "metadata": {},
     "output_type": "display_data"
    },
    {
     "data": {
      "application/javascript": [
       "\n",
       "        $('span:contains(\"# Temp\")').closest('.cell').remove();\n",
       "        var code = IPython.notebook.insert_cell_below('code');\n",
       "        code.set_text(decodeURIComponent(window.atob(\"JTIzJTIwVGVtcCUwQWluc2VydCUyOCUyNyUyNyUyNyUwQXBpbmsyMDA5YSUyMCUzRCUyMERCJTI4V29ya1VucmVsYXRlZCUyOCUwQSUyMCUyMCUyMCUyMDIwMDklMkMlMjAlMjJEcml2ZSUzQSUyMFRoZSUyMFN1cnByaXNpbmclMjBUcnV0aCUyMGFib3V0JTIwV2hhdCUyME1vdGl2YXRlcyUyMFVzJTIyJTJDJTBBJTIwJTIwJTIwJTIwZGlzcGxheSUzRCUyMnBpbmslMjIlMkMlMEElMjAlMjAlMjAlMjBhdXRob3JzJTNEJTIyUGluayUyQyUyMEQuSC4lMjIlMkMlMEElMjAlMjAlMjAlMjBwbGFjZSUzREJvb2slMkMlMEElMjAlMjAlMjAlMjBlbnRyeXR5cGUlM0QlMjJhcnRpY2xlJTIyJTJDJTBBJTIwJTIwJTIwJTIwbm90ZSUzRCUyMmNpdGVkJTIwQnklMjA2NDYlMjIlMkMlMEElMjAlMjAlMjAlMjBJRCUzRCUyMlBpbmsyMDA5JTIyJTJDJTBBJTIwJTIwJTIwJTIwcGxhY2V4JTNEJTIyUml2ZXJoZWFkJTIwQm9va3MlMjIlMkMlMEElMjklMjklMEElMEFEQiUyOENpdGF0aW9uJTI4JTBBJTIwJTIwJTIwJTIwd2FhcmRlbmJ1cmcyMDEzYSUyQyUyMHBpbmsyMDA5YSUyQyUyMHJlZiUzRCUyMiUyMiUyQyUwQSUyMCUyMCUyMCUyMGNvbnRleHRzJTNEJTVCJTBBJTBBJTIwJTIwJTIwJTIwJTVEJTJDJTBBJTI5JTI5JTBBJTBBJTI3JTI3JTI3JTJDJTIwY2l0YXRpb25zJTNEJTI3d2FhcmRlbmJ1cmcyMDEzYSUyNyUyOSUzQg==\")));\n",
       "    "
      ],
      "text/plain": [
       "<IPython.core.display.Javascript object>"
      ]
     },
     "metadata": {},
     "output_type": "display_data"
    },
    {
     "data": {
      "application/javascript": [
       "$('span:contains(\"# Temp\")').closest('.cell').remove();"
      ],
      "text/plain": [
       "<IPython.core.display.Javascript object>"
      ]
     },
     "metadata": {},
     "output_type": "display_data"
    },
    {
     "data": {
      "application/javascript": [
       "\n",
       "        $('span:contains(\"# Temp\")').closest('.cell').remove();\n",
       "        var code = IPython.notebook.insert_cell_below('code');\n",
       "        code.set_text(decodeURIComponent(window.atob(\"JTIzJTIwVGVtcCUwQWluc2VydCUyOCUyNyUyNyUyNyUwQXJhc211c3NvbjIwMDNhJTIwJTNEJTIwREIlMjhXb3JrVW5yZWxhdGVkJTI4JTBBJTIwJTIwJTIwJTIwMjAwMyUyQyUyMCUyMkludHJvZHVjaW5nJTIwWFAlMjBpbnRvJTIwZ3JlZW5maWVsZCUyMHByb2plY3RzJTNBJTIwTGVzc29ucyUyMGxlYXJuZWQlMjIlMkMlMEElMjAlMjAlMjAlMjBkaXNwbGF5JTNEJTIycmFzbXVzc29uJTIyJTJDJTBBJTIwJTIwJTIwJTIwYXV0aG9ycyUzRCUyMlJhc211c3NvbiUyQyUyMEouJTIyJTJDJTBBJTIwJTIwJTIwJTIwcGxhY2UlM0RJRUVFUyUyQyUwQSUyMCUyMCUyMCUyMHBwJTNEJTIyMjEtMjglMjIlMkMlMEElMjAlMjAlMjAlMjBlbnRyeXR5cGUlM0QlMjJhcnRpY2xlJTIyJTJDJTBBJTIwJTIwJTIwJTIwdm9sdW1lJTNEJTIyMjAlMjIlMkMlMEElMjAlMjAlMjAlMjBudW1iZXIlM0QlMjIzJTIyJTJDJTBBJTIwJTIwJTIwJTIwZG9pJTNEJTIyMTAuMTEwOS9NUy4yMDAzLjExOTYzMTYlMjIlMkMlMEElMjAlMjAlMjAlMjBub3RlJTNEJTIyY2l0ZWQlMjBCeSUyMDU0JTIyJTJDJTBBJTIwJTIwJTIwJTIwSUQlM0QlMjJSYXNtdXNzb24yMDAzMjElMjIlMkMlMEElMjAlMjAlMjAlMjBwbGFjZXglM0QlMjJJRUVFJTIwU29mdHdhcmUlMjIlMkMlMEElMjklMjklMEElMEFEQiUyOENpdGF0aW9uJTI4JTBBJTIwJTIwJTIwJTIwd2FhcmRlbmJ1cmcyMDEzYSUyQyUyMHJhc211c3NvbjIwMDNhJTJDJTIwcmVmJTNEJTIyJTIyJTJDJTBBJTIwJTIwJTIwJTIwY29udGV4dHMlM0QlNUIlMEElMEElMjAlMjAlMjAlMjAlNUQlMkMlMEElMjklMjklMEElMEElMjclMjclMjclMkMlMjBjaXRhdGlvbnMlM0QlMjd3YWFyZGVuYnVyZzIwMTNhJTI3JTI5JTNC\")));\n",
       "    "
      ],
      "text/plain": [
       "<IPython.core.display.Javascript object>"
      ]
     },
     "metadata": {},
     "output_type": "display_data"
    },
    {
     "data": {
      "application/javascript": [
       "$('span:contains(\"# Temp\")').closest('.cell').remove();"
      ],
      "text/plain": [
       "<IPython.core.display.Javascript object>"
      ]
     },
     "metadata": {},
     "output_type": "display_data"
    },
    {
     "data": {
      "application/javascript": [
       "\n",
       "        $('span:contains(\"# Temp\")').closest('.cell').remove();\n",
       "        var code = IPython.notebook.insert_cell_below('code');\n",
       "        code.set_text(decodeURIComponent(window.atob(\"JTIzJTIwVGVtcCUwQWluc2VydCUyOCUyNyUyNyUyNyUwQXJhc211c3NvbjIwMDNhJTIwJTNEJTIwREIlMjhXb3JrVW5yZWxhdGVkJTI4JTBBJTIwJTIwJTIwJTIwMjAwMyUyQyUyMCUyMkludHJvZHVjaW5nJTIwWFAlMjBpbnRvJTIwZ3JlZW5maWVsZCUyMHByb2plY3RzJTNBJTIwTGVzc29ucyUyMGxlYXJuZWQlMjIlMkMlMEElMjAlMjAlMjAlMjBkaXNwbGF5JTNEJTIycmFzbXVzc29uJTIyJTJDJTBBJTIwJTIwJTIwJTIwYXV0aG9ycyUzRCUyMlJhc211c3NvbiUyQyUyMEouJTIyJTJDJTBBJTIwJTIwJTIwJTIwcGxhY2UlM0RJRUVFUyUyQyUwQSUyMCUyMCUyMCUyMHBwJTNEJTIyMjEtMjglMjIlMkMlMEElMjAlMjAlMjAlMjBlbnRyeXR5cGUlM0QlMjJhcnRpY2xlJTIyJTJDJTBBJTIwJTIwJTIwJTIwdm9sdW1lJTNEJTIyMjAlMjIlMkMlMEElMjAlMjAlMjAlMjBudW1iZXIlM0QlMjIzJTIyJTJDJTBBJTIwJTIwJTIwJTIwZG9pJTNEJTIyMTAuMTEwOS9NUy4yMDAzLjExOTYzMTYlMjIlMkMlMEElMjAlMjAlMjAlMjBub3RlJTNEJTIyY2l0ZWQlMjBCeSUyMDU0JTIyJTJDJTBBJTIwJTIwJTIwJTIwSUQlM0QlMjJSYXNtdXNzb24yMDAzMjElMjIlMkMlMEElMjAlMjAlMjAlMjBwbGFjZXglM0QlMjJJRUVFJTIwU29mdHdhcmUlMjIlMkMlMEElMjklMjklMEElMEFEQiUyOENpdGF0aW9uJTI4JTBBJTIwJTIwJTIwJTIwd2FhcmRlbmJ1cmcyMDEzYSUyQyUyMHJhc211c3NvbjIwMDNhJTJDJTIwcmVmJTNEJTIyJTIyJTJDJTBBJTIwJTIwJTIwJTIwY29udGV4dHMlM0QlNUIlMEElMEElMjAlMjAlMjAlMjAlNUQlMkMlMEElMjklMjklMEElMEElMjclMjclMjclMkMlMjBjaXRhdGlvbnMlM0QlMjd3YWFyZGVuYnVyZzIwMTNhJTI3JTI5JTNC\")));\n",
       "    "
      ],
      "text/plain": [
       "<IPython.core.display.Javascript object>"
      ]
     },
     "metadata": {},
     "output_type": "display_data"
    },
    {
     "data": {
      "application/javascript": [
       "$('span:contains(\"# Temp\")').closest('.cell').remove();"
      ],
      "text/plain": [
       "<IPython.core.display.Javascript object>"
      ]
     },
     "metadata": {},
     "output_type": "display_data"
    },
    {
     "data": {
      "application/javascript": [
       "\n",
       "        $('span:contains(\"# Temp\")').closest('.cell').remove();\n",
       "        var code = IPython.notebook.insert_cell_below('code');\n",
       "        code.set_text(decodeURIComponent(window.atob(\"JTIzJTIwVGVtcCUwQWluc2VydCUyOCUyNyUyNyUyNyUwQXJvYmluc29uMjAwNWElMjAlM0QlMjBEQiUyOFdvcmtVbnJlbGF0ZWQlMjglMEElMjAlMjAlMjAlMjAyMDA1JTJDJTIwJTIyT3JnYW5pc2F0aW9uYWwlMjBjdWx0dXJlJTIwYW5kJTIwWFAlM0ElMjBUaHJlZSUyMGNhc2UlMjBzdHVkaWVzJTIyJTJDJTBBJTIwJTIwJTIwJTIwZGlzcGxheSUzRCUyMnJvYmluc29uJTIyJTJDJTBBJTIwJTIwJTIwJTIwYXV0aG9ycyUzRCUyMlJvYmluc29uJTJDJTIwSC4lMjBhbmQlMjBTaGFycCUyQyUyMEguJTIyJTJDJTBBJTIwJTIwJTIwJTIwcGxhY2UlM0RGQUtFJTJDJTBBJTIwJTIwJTIwJTIwcHAlM0QlMjI0OS01OCUyMiUyQyUwQSUyMCUyMCUyMCUyMGVudHJ5dHlwZSUzRCUyMmNvbmZlcmVuY2UlMjIlMkMlMEElMjAlMjAlMjAlMjB2b2x1bWUlM0QlMjIyMDA1JTIyJTJDJTBBJTIwJTIwJTIwJTIwZG9pJTNEJTIyMTAuMTEwOS9BREMuMjAwNS4zNiUyMiUyQyUwQSUyMCUyMCUyMCUyMGFydF9udW1iZXIlM0QlMjIxNjA5ODA0JTIyJTJDJTBBJTIwJTIwJTIwJTIwbm90ZSUzRCUyMmNpdGVkJTIwQnklMjAzMSUyMiUyQyUwQSUyMCUyMCUyMCUyMElEJTNEJTIyUm9iaW5zb24yMDA1NDklMjIlMkMlMEElMjAlMjAlMjAlMjBwbGFjZXglM0QlMjJQcm9jZWVkaW5ncyUyMC0lMjBBR0lMRSUyMENvbmZlcm5jZSUyMDIwMDUlMjIlMkMlMEElMjklMjklMEElMEFEQiUyOENpdGF0aW9uJTI4JTBBJTIwJTIwJTIwJTIwd2FhcmRlbmJ1cmcyMDEzYSUyQyUyMHJvYmluc29uMjAwNWElMkMlMjByZWYlM0QlMjIlMjIlMkMlMEElMjAlMjAlMjAlMjBjb250ZXh0cyUzRCU1QiUwQSUwQSUyMCUyMCUyMCUyMCU1RCUyQyUwQSUyOSUyOSUwQSUwQSUyNyUyNyUyNyUyQyUyMGNpdGF0aW9ucyUzRCUyN3dhYXJkZW5idXJnMjAxM2ElMjclMjklM0I=\")));\n",
       "    "
      ],
      "text/plain": [
       "<IPython.core.display.Javascript object>"
      ]
     },
     "metadata": {},
     "output_type": "display_data"
    },
    {
     "data": {
      "application/javascript": [
       "$('span:contains(\"# Temp\")').closest('.cell').remove();"
      ],
      "text/plain": [
       "<IPython.core.display.Javascript object>"
      ]
     },
     "metadata": {},
     "output_type": "display_data"
    },
    {
     "data": {
      "application/javascript": [
       "\n",
       "        $('span:contains(\"# Temp\")').closest('.cell').remove();\n",
       "        var code = IPython.notebook.insert_cell_below('code');\n",
       "        code.set_text(decodeURIComponent(window.atob(\"JTIzJTIwVGVtcCUwQWluc2VydCUyOCUyNyUyNyUyNyUwQXJvYmluc29uMjAwNWElMjAlM0QlMjBEQiUyOFdvcmtVbnJlbGF0ZWQlMjglMEElMjAlMjAlMjAlMjAyMDA1JTJDJTIwJTIyT3JnYW5pc2F0aW9uYWwlMjBjdWx0dXJlJTIwYW5kJTIwWFAlM0ElMjBUaHJlZSUyMGNhc2UlMjBzdHVkaWVzJTIyJTJDJTBBJTIwJTIwJTIwJTIwZGlzcGxheSUzRCUyMnJvYmluc29uJTIyJTJDJTBBJTIwJTIwJTIwJTIwYXV0aG9ycyUzRCUyMlJvYmluc29uJTJDJTIwSC4lMjBhbmQlMjBTaGFycCUyQyUyMEguJTIyJTJDJTBBJTIwJTIwJTIwJTIwcGxhY2UlM0RGQUtFJTJDJTBBJTIwJTIwJTIwJTIwcHAlM0QlMjI0OS01OCUyMiUyQyUwQSUyMCUyMCUyMCUyMGVudHJ5dHlwZSUzRCUyMmNvbmZlcmVuY2UlMjIlMkMlMEElMjAlMjAlMjAlMjB2b2x1bWUlM0QlMjIyMDA1JTIyJTJDJTBBJTIwJTIwJTIwJTIwZG9pJTNEJTIyMTAuMTEwOS9BREMuMjAwNS4zNiUyMiUyQyUwQSUyMCUyMCUyMCUyMGFydF9udW1iZXIlM0QlMjIxNjA5ODA0JTIyJTJDJTBBJTIwJTIwJTIwJTIwbm90ZSUzRCUyMmNpdGVkJTIwQnklMjAzMSUyMiUyQyUwQSUyMCUyMCUyMCUyMElEJTNEJTIyUm9iaW5zb24yMDA1NDklMjIlMkMlMEElMjAlMjAlMjAlMjBwbGFjZXglM0QlMjJQcm9jZWVkaW5ncyUyMC0lMjBBR0lMRSUyMENvbmZlcm5jZSUyMDIwMDUlMjIlMkMlMEElMjklMjklMEElMEFEQiUyOENpdGF0aW9uJTI4JTBBJTIwJTIwJTIwJTIwd2FhcmRlbmJ1cmcyMDEzYSUyQyUyMHJvYmluc29uMjAwNWElMkMlMjByZWYlM0QlMjIlMjIlMkMlMEElMjAlMjAlMjAlMjBjb250ZXh0cyUzRCU1QiUwQSUwQSUyMCUyMCUyMCUyMCU1RCUyQyUwQSUyOSUyOSUwQSUwQSUyNyUyNyUyNyUyQyUyMGNpdGF0aW9ucyUzRCUyN3dhYXJkZW5idXJnMjAxM2ElMjclMjklM0I=\")));\n",
       "    "
      ],
      "text/plain": [
       "<IPython.core.display.Javascript object>"
      ]
     },
     "metadata": {},
     "output_type": "display_data"
    },
    {
     "data": {
      "application/javascript": [
       "$('span:contains(\"# Temp\")').closest('.cell').remove();"
      ],
      "text/plain": [
       "<IPython.core.display.Javascript object>"
      ]
     },
     "metadata": {},
     "output_type": "display_data"
    },
    {
     "data": {
      "application/javascript": [
       "\n",
       "        $('span:contains(\"# Temp\")').closest('.cell').remove();\n",
       "        var code = IPython.notebook.insert_cell_below('code');\n",
       "        code.set_text(decodeURIComponent(window.atob(\"JTIzJTIwVGVtcCUwQWluc2VydCUyOCUyNyUyNyUyNyUwQXNjaHdhYmVyMTk5MWElMjAlM0QlMjBEQiUyOFdvcmtVbnJlbGF0ZWQlMjglMEElMjAlMjAlMjAlMjAxOTkxJTJDJTIwJTIyVGhlJTIwU2NydW0lMjBHdWlkZSUzQSUyMFRoZSUyME9mZmljaWFsJTIwUnVsZWJvb2slMjIlMkMlMEElMjAlMjAlMjAlMjBkaXNwbGF5JTNEJTIyc2Nod2FiZXIlMjIlMkMlMEElMjAlMjAlMjAlMjBhdXRob3JzJTNEJTIyU2Nod2FiZXIlMkMlMjBLLiUyMGFuZCUyMFN1dGhlcmxhbmQlMkMlMjBKLiUyMiUyQyUwQSUyMCUyMCUyMCUyMHBsYWNlJTNEVGVjaFJlcG9ydCUyQyUwQSUyMCUyMCUyMCUyMGVudHJ5dHlwZSUzRCUyMmFydGljbGUlMjIlMkMlMEElMjAlMjAlMjAlMjBub3RlJTNEJTIyY2l0ZWQlMjBCeSUyMDElMjIlMkMlMEElMjAlMjAlMjAlMjBJRCUzRCUyMlNjaHdhYmVyMTk5MSUyMiUyQyUwQSUyMCUyMCUyMCUyMHBsYWNleCUzRCUyMlRlY2guJTIwUmVwJTIyJTJDJTBBJTI5JTI5JTBBJTBBREIlMjhDaXRhdGlvbiUyOCUwQSUyMCUyMCUyMCUyMHdhYXJkZW5idXJnMjAxM2ElMkMlMjBzY2h3YWJlcjE5OTFhJTJDJTIwcmVmJTNEJTIyJTIyJTJDJTBBJTIwJTIwJTIwJTIwY29udGV4dHMlM0QlNUIlMEElMEElMjAlMjAlMjAlMjAlNUQlMkMlMEElMjklMjklMEElMEElMjclMjclMjclMkMlMjBjaXRhdGlvbnMlM0QlMjd3YWFyZGVuYnVyZzIwMTNhJTI3JTI5JTNC\")));\n",
       "    "
      ],
      "text/plain": [
       "<IPython.core.display.Javascript object>"
      ]
     },
     "metadata": {},
     "output_type": "display_data"
    },
    {
     "data": {
      "application/javascript": [
       "$('span:contains(\"# Temp\")').closest('.cell').remove();"
      ],
      "text/plain": [
       "<IPython.core.display.Javascript object>"
      ]
     },
     "metadata": {},
     "output_type": "display_data"
    },
    {
     "data": {
      "application/javascript": [
       "\n",
       "        $('span:contains(\"# Temp\")').closest('.cell').remove();\n",
       "        var code = IPython.notebook.insert_cell_below('code');\n",
       "        code.set_text(decodeURIComponent(window.atob(\"JTIzJTIwVGVtcCUwQWluc2VydCUyOCUyNyUyNyUyNyUwQXNjaHdhYmVyMTk5MWElMjAlM0QlMjBEQiUyOFdvcmtVbnJlbGF0ZWQlMjglMEElMjAlMjAlMjAlMjAxOTkxJTJDJTIwJTIyVGhlJTIwU2NydW0lMjBHdWlkZSUzQSUyMFRoZSUyME9mZmljaWFsJTIwUnVsZWJvb2slMjIlMkMlMEElMjAlMjAlMjAlMjBkaXNwbGF5JTNEJTIyc2Nod2FiZXIlMjIlMkMlMEElMjAlMjAlMjAlMjBhdXRob3JzJTNEJTIyU2Nod2FiZXIlMkMlMjBLLiUyMGFuZCUyMFN1dGhlcmxhbmQlMkMlMjBKLiUyMiUyQyUwQSUyMCUyMCUyMCUyMHBsYWNlJTNEVGVjaFJlcG9ydCUyQyUwQSUyMCUyMCUyMCUyMGVudHJ5dHlwZSUzRCUyMmFydGljbGUlMjIlMkMlMEElMjAlMjAlMjAlMjBub3RlJTNEJTIyY2l0ZWQlMjBCeSUyMDElMjIlMkMlMEElMjAlMjAlMjAlMjBJRCUzRCUyMlNjaHdhYmVyMTk5MSUyMiUyQyUwQSUyMCUyMCUyMCUyMHBsYWNleCUzRCUyMlRlY2guJTIwUmVwJTIyJTJDJTBBJTI5JTI5JTBBJTBBREIlMjhDaXRhdGlvbiUyOCUwQSUyMCUyMCUyMCUyMHdhYXJkZW5idXJnMjAxM2ElMkMlMjBzY2h3YWJlcjE5OTFhJTJDJTIwcmVmJTNEJTIyJTIyJTJDJTBBJTIwJTIwJTIwJTIwY29udGV4dHMlM0QlNUIlMEElMEElMjAlMjAlMjAlMjAlNUQlMkMlMEElMjklMjklMEElMEElMjclMjclMjclMkMlMjBjaXRhdGlvbnMlM0QlMjd3YWFyZGVuYnVyZzIwMTNhJTI3JTI5JTNC\")));\n",
       "    "
      ],
      "text/plain": [
       "<IPython.core.display.Javascript object>"
      ]
     },
     "metadata": {},
     "output_type": "display_data"
    },
    {
     "data": {
      "application/javascript": [
       "$('span:contains(\"# Temp\")').closest('.cell').remove();"
      ],
      "text/plain": [
       "<IPython.core.display.Javascript object>"
      ]
     },
     "metadata": {},
     "output_type": "display_data"
    },
    {
     "data": {
      "application/javascript": [
       "\n",
       "        $('span:contains(\"# Temp\")').closest('.cell').remove();\n",
       "        var code = IPython.notebook.insert_cell_below('code');\n",
       "        code.set_text(decodeURIComponent(window.atob(\"JTIzJTIwVGVtcCUwQWluc2VydCUyOCUyNyUyNyUyNyUwQURCJTI4Q2l0YXRpb24lMjglMEElMjAlMjAlMjAlMjB3YWFyZGVuYnVyZzIwMTNhJTJDJTIwc2lha2FzMjAwN2ElMkMlMjByZWYlM0QlMjIlMjIlMkMlMEElMjAlMjAlMjAlMjBjb250ZXh0cyUzRCU1QiUwQSUwQSUyMCUyMCUyMCUyMCU1RCUyQyUwQSUyOSUyOSUwQSUwQSUyNyUyNyUyNyUyQyUyMGNpdGF0aW9ucyUzRCUyN3dhYXJkZW5idXJnMjAxM2ElMjclMjklM0IlMEFzZXRfYXR0cmlidXRlJTI4JTI3c2lha2FzMjAwN2ElMjclMkMlMjAlMjdkb2klMjclMkMlMjAlMjcxMC4xMDAyL3NwaXAuMzQ0JTI3JTI5JTNCJTBBc2V0X2F0dHJpYnV0ZSUyOCUyN3NpYWthczIwMDdhJTI3JTJDJTIwJTI3bm90ZSUyNyUyQyUyMCUyN2NpdGVkJTIwQnklMjAxMyUyNyUyOSUzQg==\")));\n",
       "    "
      ],
      "text/plain": [
       "<IPython.core.display.Javascript object>"
      ]
     },
     "metadata": {},
     "output_type": "display_data"
    },
    {
     "data": {
      "application/javascript": [
       "$('span:contains(\"# Temp\")').closest('.cell').remove();"
      ],
      "text/plain": [
       "<IPython.core.display.Javascript object>"
      ]
     },
     "metadata": {},
     "output_type": "display_data"
    },
    {
     "data": {
      "application/javascript": [
       "\n",
       "        $('span:contains(\"# Temp\")').closest('.cell').remove();\n",
       "        var code = IPython.notebook.insert_cell_below('code');\n",
       "        code.set_text(decodeURIComponent(window.atob(\"JTIzJTIwVGVtcCUwQWluc2VydCUyOCUyNyUyNyUyNyUwQURCJTI4Q2l0YXRpb24lMjglMEElMjAlMjAlMjAlMjB3YWFyZGVuYnVyZzIwMTNhJTJDJTIwc2lha2FzMjAwN2ElMkMlMjByZWYlM0QlMjIlMjIlMkMlMEElMjAlMjAlMjAlMjBjb250ZXh0cyUzRCU1QiUwQSUwQSUyMCUyMCUyMCUyMCU1RCUyQyUwQSUyOSUyOSUwQSUwQSUyNyUyNyUyNyUyQyUyMGNpdGF0aW9ucyUzRCUyN3dhYXJkZW5idXJnMjAxM2ElMjclMjklM0IlMEFzZXRfYXR0cmlidXRlJTI4JTI3c2lha2FzMjAwN2ElMjclMkMlMjAlMjdkb2klMjclMkMlMjAlMjcxMC4xMDAyL3NwaXAuMzQ0JTI3JTI5JTNCJTBBc2V0X2F0dHJpYnV0ZSUyOCUyN3NpYWthczIwMDdhJTI3JTJDJTIwJTI3bm90ZSUyNyUyQyUyMCUyN2NpdGVkJTIwQnklMjAxMyUyNyUyOSUzQg==\")));\n",
       "    "
      ],
      "text/plain": [
       "<IPython.core.display.Javascript object>"
      ]
     },
     "metadata": {},
     "output_type": "display_data"
    },
    {
     "data": {
      "application/javascript": [
       "$('span:contains(\"# Temp\")').closest('.cell').remove();"
      ],
      "text/plain": [
       "<IPython.core.display.Javascript object>"
      ]
     },
     "metadata": {},
     "output_type": "display_data"
    },
    {
     "data": {
      "application/javascript": [
       "\n",
       "        $('span:contains(\"# Temp\")').closest('.cell').remove();\n",
       "        var code = IPython.notebook.insert_cell_below('code');\n",
       "        code.set_text(decodeURIComponent(window.atob(\"JTIzJTIwVGVtcCUwQWluc2VydCUyOCUyNyUyNyUyNyUwQXN0YXIxOTg5YSUyMCUzRCUyMERCJTI4V29ya1VucmVsYXRlZCUyOCUwQSUyMCUyMCUyMCUyMDE5ODklMkMlMjAlMjJJbnN0aXR1dGlvbmFsJTIwRWNvbG9neSUyQyUyMCVFMiU4MCU5OFRyYW5zbGF0aW9ucyVFMiU4MCU5OSUyMGFuZCUyMEJvdW5kYXJ5JTIwT2JqZWN0cyUzQSUyMEFtYXRldXJzJTIwYW5kJTIwUHJvZmVzc2lvbmFscyUyMGluJTIwQmVya2VsZXklMjdzJTIwTXVzZXVtJTIwb2YlMjBWZXJ0ZWJyYXRlJTIwWm9vbG9neSUyMiUyQyUwQSUyMCUyMCUyMCUyMGRpc3BsYXklM0QlMjJzdGFyJTIyJTJDJTBBJTIwJTIwJTIwJTIwYXV0aG9ycyUzRCUyMlN0YXIlMkMlMjBTLkwuJTIwYW5kJTIwR3JpZXNlbWVyJTJDJTIwSi5SLiUyMiUyQyUwQSUyMCUyMCUyMCUyMHBsYWNlJTNERkFLRSUyQyUwQSUyMCUyMCUyMCUyMHBwJTNEJTIyMzg3LTQyMCUyMiUyQyUwQSUyMCUyMCUyMCUyMGVudHJ5dHlwZSUzRCUyMmFydGljbGUlMjIlMkMlMEElMjAlMjAlMjAlMjB2b2x1bWUlM0QlMjIxOSUyMiUyQyUwQSUyMCUyMCUyMCUyMG51bWJlciUzRCUyMjMlMjIlMkMlMEElMjAlMjAlMjAlMjBkb2klM0QlMjIxMC4xMTc3LzAzMDYzMTI4OTAxOTAwMzAwMSUyMiUyQyUwQSUyMCUyMCUyMCUyMG5vdGUlM0QlMjJjaXRlZCUyMEJ5JTIwMzg2MyUyMiUyQyUwQSUyMCUyMCUyMCUyMElEJTNEJTIyU3RhcjE5ODkzODclMjIlMkMlMEElMjAlMjAlMjAlMjBwbGFjZXglM0QlMjJTb2NpYWwlMjBTdHVkaWVzJTIwb2YlMjBTY2llbmNlJTIyJTJDJTBBJTI5JTI5JTBBJTBBREIlMjhDaXRhdGlvbiUyOCUwQSUyMCUyMCUyMCUyMHdhYXJkZW5idXJnMjAxM2ElMkMlMjBzdGFyMTk4OWElMkMlMjByZWYlM0QlMjIlMjIlMkMlMEElMjAlMjAlMjAlMjBjb250ZXh0cyUzRCU1QiUwQSUwQSUyMCUyMCUyMCUyMCU1RCUyQyUwQSUyOSUyOSUwQSUwQSUyNyUyNyUyNyUyQyUyMGNpdGF0aW9ucyUzRCUyN3dhYXJkZW5idXJnMjAxM2ElMjclMjklM0I=\")));\n",
       "    "
      ],
      "text/plain": [
       "<IPython.core.display.Javascript object>"
      ]
     },
     "metadata": {},
     "output_type": "display_data"
    },
    {
     "data": {
      "application/javascript": [
       "$('span:contains(\"# Temp\")').closest('.cell').remove();"
      ],
      "text/plain": [
       "<IPython.core.display.Javascript object>"
      ]
     },
     "metadata": {},
     "output_type": "display_data"
    },
    {
     "data": {
      "application/javascript": [
       "\n",
       "        $('span:contains(\"# Temp\")').closest('.cell').remove();\n",
       "        var code = IPython.notebook.insert_cell_below('code');\n",
       "        code.set_text(decodeURIComponent(window.atob(\"JTIzJTIwVGVtcCUwQWluc2VydCUyOCUyNyUyNyUyNyUwQXN0YXIxOTg5YSUyMCUzRCUyMERCJTI4V29ya1VucmVsYXRlZCUyOCUwQSUyMCUyMCUyMCUyMDE5ODklMkMlMjAlMjJJbnN0aXR1dGlvbmFsJTIwRWNvbG9neSUyQyUyMCVFMiU4MCU5OFRyYW5zbGF0aW9ucyVFMiU4MCU5OSUyMGFuZCUyMEJvdW5kYXJ5JTIwT2JqZWN0cyUzQSUyMEFtYXRldXJzJTIwYW5kJTIwUHJvZmVzc2lvbmFscyUyMGluJTIwQmVya2VsZXklMjdzJTIwTXVzZXVtJTIwb2YlMjBWZXJ0ZWJyYXRlJTIwWm9vbG9neSUyMiUyQyUwQSUyMCUyMCUyMCUyMGRpc3BsYXklM0QlMjJzdGFyJTIyJTJDJTBBJTIwJTIwJTIwJTIwYXV0aG9ycyUzRCUyMlN0YXIlMkMlMjBTLkwuJTIwYW5kJTIwR3JpZXNlbWVyJTJDJTIwSi5SLiUyMiUyQyUwQSUyMCUyMCUyMCUyMHBsYWNlJTNERkFLRSUyQyUwQSUyMCUyMCUyMCUyMHBwJTNEJTIyMzg3LTQyMCUyMiUyQyUwQSUyMCUyMCUyMCUyMGVudHJ5dHlwZSUzRCUyMmFydGljbGUlMjIlMkMlMEElMjAlMjAlMjAlMjB2b2x1bWUlM0QlMjIxOSUyMiUyQyUwQSUyMCUyMCUyMCUyMG51bWJlciUzRCUyMjMlMjIlMkMlMEElMjAlMjAlMjAlMjBkb2klM0QlMjIxMC4xMTc3LzAzMDYzMTI4OTAxOTAwMzAwMSUyMiUyQyUwQSUyMCUyMCUyMCUyMG5vdGUlM0QlMjJjaXRlZCUyMEJ5JTIwMzg2MyUyMiUyQyUwQSUyMCUyMCUyMCUyMElEJTNEJTIyU3RhcjE5ODkzODclMjIlMkMlMEElMjAlMjAlMjAlMjBwbGFjZXglM0QlMjJTb2NpYWwlMjBTdHVkaWVzJTIwb2YlMjBTY2llbmNlJTIyJTJDJTBBJTI5JTI5JTBBJTBBREIlMjhDaXRhdGlvbiUyOCUwQSUyMCUyMCUyMCUyMHdhYXJkZW5idXJnMjAxM2ElMkMlMjBzdGFyMTk4OWElMkMlMjByZWYlM0QlMjIlMjIlMkMlMEElMjAlMjAlMjAlMjBjb250ZXh0cyUzRCU1QiUwQSUwQSUyMCUyMCUyMCUyMCU1RCUyQyUwQSUyOSUyOSUwQSUwQSUyNyUyNyUyNyUyQyUyMGNpdGF0aW9ucyUzRCUyN3dhYXJkZW5idXJnMjAxM2ElMjclMjklM0I=\")));\n",
       "    "
      ],
      "text/plain": [
       "<IPython.core.display.Javascript object>"
      ]
     },
     "metadata": {},
     "output_type": "display_data"
    },
    {
     "data": {
      "application/javascript": [
       "$('span:contains(\"# Temp\")').closest('.cell').remove();"
      ],
      "text/plain": [
       "<IPython.core.display.Javascript object>"
      ]
     },
     "metadata": {},
     "output_type": "display_data"
    },
    {
     "data": {
      "application/javascript": [
       "\n",
       "        $('span:contains(\"# Temp\")').closest('.cell').remove();\n",
       "        var code = IPython.notebook.insert_cell_below('code');\n",
       "        code.set_text(decodeURIComponent(window.atob(\"JTIzJTIwVGVtcCUwQWluc2VydCUyOCUyNyUyNyUyNyUwQXN0cmF1c3MxOTg4YSUyMCUzRCUyMERCJTI4V29ya1VucmVsYXRlZCUyOCUwQSUyMCUyMCUyMCUyMDE5ODglMkMlMjAlMjJUSEUlMjBBUlRJQ1VMQVRJT04lMjBPRiUyMFBST0pFQ1QlMjBXT1JLJTNBJTIwQU4lMjBPUkdBTklaQVRJT05BTCUyMFBST0NFU1MlMjIlMkMlMEElMjAlMjAlMjAlMjBkaXNwbGF5JTNEJTIyc3RyYXVzcyUyMiUyQyUwQSUyMCUyMCUyMCUyMGF1dGhvcnMlM0QlMjJTdHJhdXNzJTJDJTIwQS4lMjIlMkMlMEElMjAlMjAlMjAlMjBwbGFjZSUzREZBS0UlMkMlMEElMjAlMjAlMjAlMjBwcCUzRCUyMjE2My0xNzglMjIlMkMlMEElMjAlMjAlMjAlMjBlbnRyeXR5cGUlM0QlMjJhcnRpY2xlJTIyJTJDJTBBJTIwJTIwJTIwJTIwdm9sdW1lJTNEJTIyMjklMjIlMkMlMEElMjAlMjAlMjAlMjBudW1iZXIlM0QlMjIyJTIyJTJDJTBBJTIwJTIwJTIwJTIwZG9pJTNEJTIyMTAuMTExMS9qLjE1MzMtODUyNS4xOTg4LnRiMDEyNDkueCUyMiUyQyUwQSUyMCUyMCUyMCUyMG5vdGUlM0QlMjJjaXRlZCUyMEJ5JTIwMTkwJTIyJTJDJTBBJTIwJTIwJTIwJTIwSUQlM0QlMjJTdHJhdXNzMTk4ODE2MyUyMiUyQyUwQSUyMCUyMCUyMCUyMHBsYWNleCUzRCUyMlNvY2lvbG9naWNhbCUyMFF1YXJ0ZXJseSUyMiUyQyUwQSUyOSUyOSUwQSUwQURCJTI4Q2l0YXRpb24lMjglMEElMjAlMjAlMjAlMjB3YWFyZGVuYnVyZzIwMTNhJTJDJTIwc3RyYXVzczE5ODhhJTJDJTIwcmVmJTNEJTIyJTIyJTJDJTBBJTIwJTIwJTIwJTIwY29udGV4dHMlM0QlNUIlMEElMEElMjAlMjAlMjAlMjAlNUQlMkMlMEElMjklMjklMEElMEElMjclMjclMjclMkMlMjBjaXRhdGlvbnMlM0QlMjd3YWFyZGVuYnVyZzIwMTNhJTI3JTI5JTNC\")));\n",
       "    "
      ],
      "text/plain": [
       "<IPython.core.display.Javascript object>"
      ]
     },
     "metadata": {},
     "output_type": "display_data"
    },
    {
     "data": {
      "application/javascript": [
       "$('span:contains(\"# Temp\")').closest('.cell').remove();"
      ],
      "text/plain": [
       "<IPython.core.display.Javascript object>"
      ]
     },
     "metadata": {},
     "output_type": "display_data"
    },
    {
     "data": {
      "application/javascript": [
       "\n",
       "        $('span:contains(\"# Temp\")').closest('.cell').remove();\n",
       "        var code = IPython.notebook.insert_cell_below('code');\n",
       "        code.set_text(decodeURIComponent(window.atob(\"JTIzJTIwVGVtcCUwQWluc2VydCUyOCUyNyUyNyUyNyUwQXN0cmF1c3MxOTg4YSUyMCUzRCUyMERCJTI4V29ya1VucmVsYXRlZCUyOCUwQSUyMCUyMCUyMCUyMDE5ODglMkMlMjAlMjJUSEUlMjBBUlRJQ1VMQVRJT04lMjBPRiUyMFBST0pFQ1QlMjBXT1JLJTNBJTIwQU4lMjBPUkdBTklaQVRJT05BTCUyMFBST0NFU1MlMjIlMkMlMEElMjAlMjAlMjAlMjBkaXNwbGF5JTNEJTIyc3RyYXVzcyUyMiUyQyUwQSUyMCUyMCUyMCUyMGF1dGhvcnMlM0QlMjJTdHJhdXNzJTJDJTIwQS4lMjIlMkMlMEElMjAlMjAlMjAlMjBwbGFjZSUzREZBS0UlMkMlMEElMjAlMjAlMjAlMjBwcCUzRCUyMjE2My0xNzglMjIlMkMlMEElMjAlMjAlMjAlMjBlbnRyeXR5cGUlM0QlMjJhcnRpY2xlJTIyJTJDJTBBJTIwJTIwJTIwJTIwdm9sdW1lJTNEJTIyMjklMjIlMkMlMEElMjAlMjAlMjAlMjBudW1iZXIlM0QlMjIyJTIyJTJDJTBBJTIwJTIwJTIwJTIwZG9pJTNEJTIyMTAuMTExMS9qLjE1MzMtODUyNS4xOTg4LnRiMDEyNDkueCUyMiUyQyUwQSUyMCUyMCUyMCUyMG5vdGUlM0QlMjJjaXRlZCUyMEJ5JTIwMTkwJTIyJTJDJTBBJTIwJTIwJTIwJTIwSUQlM0QlMjJTdHJhdXNzMTk4ODE2MyUyMiUyQyUwQSUyMCUyMCUyMCUyMHBsYWNleCUzRCUyMlNvY2lvbG9naWNhbCUyMFF1YXJ0ZXJseSUyMiUyQyUwQSUyOSUyOSUwQSUwQURCJTI4Q2l0YXRpb24lMjglMEElMjAlMjAlMjAlMjB3YWFyZGVuYnVyZzIwMTNhJTJDJTIwc3RyYXVzczE5ODhhJTJDJTIwcmVmJTNEJTIyJTIyJTJDJTBBJTIwJTIwJTIwJTIwY29udGV4dHMlM0QlNUIlMEElMEElMjAlMjAlMjAlMjAlNUQlMkMlMEElMjklMjklMEElMEElMjclMjclMjclMkMlMjBjaXRhdGlvbnMlM0QlMjd3YWFyZGVuYnVyZzIwMTNhJTI3JTI5JTNC\")));\n",
       "    "
      ],
      "text/plain": [
       "<IPython.core.display.Javascript object>"
      ]
     },
     "metadata": {},
     "output_type": "display_data"
    },
    {
     "data": {
      "application/javascript": [
       "$('span:contains(\"# Temp\")').closest('.cell').remove();"
      ],
      "text/plain": [
       "<IPython.core.display.Javascript object>"
      ]
     },
     "metadata": {},
     "output_type": "display_data"
    },
    {
     "data": {
      "application/javascript": [
       "\n",
       "        $('span:contains(\"# Temp\")').closest('.cell').remove();\n",
       "        var code = IPython.notebook.insert_cell_below('code');\n",
       "        code.set_text(decodeURIComponent(window.atob(\"JTIzJTIwVGVtcCUwQWluc2VydCUyOCUyNyUyNyUyNyUwQURCJTI4Q2l0YXRpb24lMjglMEElMjAlMjAlMjAlMjB3YWFyZGVuYnVyZzIwMTNhJTJDJTIwc3Ryb2RlMjAxMmElMkMlMjByZWYlM0QlMjIlMjIlMkMlMEElMjAlMjAlMjAlMjBjb250ZXh0cyUzRCU1QiUwQSUwQSUyMCUyMCUyMCUyMCU1RCUyQyUwQSUyOSUyOSUwQSUwQSUyNyUyNyUyNyUyQyUyMGNpdGF0aW9ucyUzRCUyN3dhYXJkZW5idXJnMjAxM2ElMjclMjklM0IlMEFzZXRfYXR0cmlidXRlJTI4JTI3c3Ryb2RlMjAxMmElMjclMkMlMjAlMjdkb2klMjclMkMlMjAlMjcxMC4xMDE2L2ouanNzLjIwMTIuMDIuMDE3JTI3JTI5JTNCJTBBc2V0X2F0dHJpYnV0ZSUyOCUyN3N0cm9kZTIwMTJhJTI3JTJDJTIwJTI3bm90ZSUyNyUyQyUyMCUyN2NpdGVkJTIwQnklMjA2MSUyNyUyOSUzQg==\")));\n",
       "    "
      ],
      "text/plain": [
       "<IPython.core.display.Javascript object>"
      ]
     },
     "metadata": {},
     "output_type": "display_data"
    },
    {
     "data": {
      "application/javascript": [
       "$('span:contains(\"# Temp\")').closest('.cell').remove();"
      ],
      "text/plain": [
       "<IPython.core.display.Javascript object>"
      ]
     },
     "metadata": {},
     "output_type": "display_data"
    },
    {
     "data": {
      "application/javascript": [
       "\n",
       "        $('span:contains(\"# Temp\")').closest('.cell').remove();\n",
       "        var code = IPython.notebook.insert_cell_below('code');\n",
       "        code.set_text(decodeURIComponent(window.atob(\"JTIzJTIwVGVtcCUwQWluc2VydCUyOCUyNyUyNyUyNyUwQURCJTI4Q2l0YXRpb24lMjglMEElMjAlMjAlMjAlMjB3YWFyZGVuYnVyZzIwMTNhJTJDJTIwc3Ryb2RlMjAxMmElMkMlMjByZWYlM0QlMjIlMjIlMkMlMEElMjAlMjAlMjAlMjBjb250ZXh0cyUzRCU1QiUwQSUwQSUyMCUyMCUyMCUyMCU1RCUyQyUwQSUyOSUyOSUwQSUwQSUyNyUyNyUyNyUyQyUyMGNpdGF0aW9ucyUzRCUyN3dhYXJkZW5idXJnMjAxM2ElMjclMjklM0IlMEFzZXRfYXR0cmlidXRlJTI4JTI3c3Ryb2RlMjAxMmElMjclMkMlMjAlMjdkb2klMjclMkMlMjAlMjcxMC4xMDE2L2ouanNzLjIwMTIuMDIuMDE3JTI3JTI5JTNCJTBBc2V0X2F0dHJpYnV0ZSUyOCUyN3N0cm9kZTIwMTJhJTI3JTJDJTIwJTI3bm90ZSUyNyUyQyUyMCUyN2NpdGVkJTIwQnklMjA2MSUyNyUyOSUzQg==\")));\n",
       "    "
      ],
      "text/plain": [
       "<IPython.core.display.Javascript object>"
      ]
     },
     "metadata": {},
     "output_type": "display_data"
    },
    {
     "data": {
      "application/javascript": [
       "$('span:contains(\"# Temp\")').closest('.cell').remove();"
      ],
      "text/plain": [
       "<IPython.core.display.Javascript object>"
      ]
     },
     "metadata": {},
     "output_type": "display_data"
    },
    {
     "data": {
      "application/javascript": [
       "\n",
       "        $('span:contains(\"# Temp\")').closest('.cell').remove();\n",
       "        var code = IPython.notebook.insert_cell_below('code');\n",
       "        code.set_text(decodeURIComponent(window.atob(\"JTIzJTIwVGVtcCUwQWluc2VydCUyOCUyNyUyNyUyNyUwQXN0cm9kZTIwMDlhJTIwJTNEJTIwREIlMjhXb3JrVW5yZWxhdGVkJTI4JTBBJTIwJTIwJTIwJTIwMjAwOSUyQyUyMCUyMlRoZSUyMGltcGFjdCUyMG9mJTIwb3JnYW5pemF0aW9uYWwlMjBjdWx0dXJlJTIwb24lMjBhZ2lsZSUyMG1ldGhvZCUyMHVzZSUyQyUyMGluJTNBJTIwUHJvY2VlZGluZ3MlMjBvZiUyMHRoZSUyMDQybmQlMjBIYXdhaWklMjBJbnRlcm5hdGlvbmFsJTIwQ29uZmVyZW5jZSUyMG9uJTIwU3lzdGVtJTIwU2NpZW5jZXMlMjIlMkMlMEElMjAlMjAlMjAlMjBkaXNwbGF5JTNEJTIyc3Ryb2RlJTIyJTJDJTBBJTIwJTIwJTIwJTIwYXV0aG9ycyUzRCUyMlN0cm9kZSUyQyUyMEQuRS4lMjBhbmQlMjBIdWZmJTJDJTIwUy5MLiUyMGFuZCUyMFRyZXRpYWtvdiUyQyUyMEEuJTIyJTJDJTBBJTIwJTIwJTIwJTIwcGxhY2UlM0RGQUtFJTJDJTBBJTIwJTIwJTIwJTIwcHAlM0QlMjIxLTklMjIlMkMlMEElMjAlMjAlMjAlMjBlbnRyeXR5cGUlM0QlMjJhcnRpY2xlJTIyJTJDJTBBJTIwJTIwJTIwJTIwbm90ZSUzRCUyMmNpdGVkJTIwQnklMjAxJTIyJTJDJTBBJTIwJTIwJTIwJTIwSUQlM0QlMjJTdHJvZGUyMDA5MSUyMiUyQyUwQSUyMCUyMCUyMCUyMHBsYWNleCUzRCUyMklFRUUlMjBDb21wdXRlciUyMFNvY2lldHklMjIlMkMlMEElMjklMjklMEElMEFEQiUyOENpdGF0aW9uJTI4JTBBJTIwJTIwJTIwJTIwd2FhcmRlbmJ1cmcyMDEzYSUyQyUyMHN0cm9kZTIwMDlhJTJDJTIwcmVmJTNEJTIyJTIyJTJDJTBBJTIwJTIwJTIwJTIwY29udGV4dHMlM0QlNUIlMEElMEElMjAlMjAlMjAlMjAlNUQlMkMlMEElMjklMjklMEElMEElMjclMjclMjclMkMlMjBjaXRhdGlvbnMlM0QlMjd3YWFyZGVuYnVyZzIwMTNhJTI3JTI5JTNC\")));\n",
       "    "
      ],
      "text/plain": [
       "<IPython.core.display.Javascript object>"
      ]
     },
     "metadata": {},
     "output_type": "display_data"
    },
    {
     "data": {
      "application/javascript": [
       "$('span:contains(\"# Temp\")').closest('.cell').remove();"
      ],
      "text/plain": [
       "<IPython.core.display.Javascript object>"
      ]
     },
     "metadata": {},
     "output_type": "display_data"
    },
    {
     "data": {
      "application/javascript": [
       "\n",
       "        $('span:contains(\"# Temp\")').closest('.cell').remove();\n",
       "        var code = IPython.notebook.insert_cell_below('code');\n",
       "        code.set_text(decodeURIComponent(window.atob(\"JTIzJTIwVGVtcCUwQWluc2VydCUyOCUyNyUyNyUyNyUwQXN0cm9kZTIwMDlhJTIwJTNEJTIwREIlMjhXb3JrVW5yZWxhdGVkJTI4JTBBJTIwJTIwJTIwJTIwMjAwOSUyQyUyMCUyMlRoZSUyMGltcGFjdCUyMG9mJTIwb3JnYW5pemF0aW9uYWwlMjBjdWx0dXJlJTIwb24lMjBhZ2lsZSUyMG1ldGhvZCUyMHVzZSUyQyUyMGluJTNBJTIwUHJvY2VlZGluZ3MlMjBvZiUyMHRoZSUyMDQybmQlMjBIYXdhaWklMjBJbnRlcm5hdGlvbmFsJTIwQ29uZmVyZW5jZSUyMG9uJTIwU3lzdGVtJTIwU2NpZW5jZXMlMjIlMkMlMEElMjAlMjAlMjAlMjBkaXNwbGF5JTNEJTIyc3Ryb2RlJTIyJTJDJTBBJTIwJTIwJTIwJTIwYXV0aG9ycyUzRCUyMlN0cm9kZSUyQyUyMEQuRS4lMjBhbmQlMjBIdWZmJTJDJTIwUy5MLiUyMGFuZCUyMFRyZXRpYWtvdiUyQyUyMEEuJTIyJTJDJTBBJTIwJTIwJTIwJTIwcGxhY2UlM0RGQUtFJTJDJTBBJTIwJTIwJTIwJTIwcHAlM0QlMjIxLTklMjIlMkMlMEElMjAlMjAlMjAlMjBlbnRyeXR5cGUlM0QlMjJhcnRpY2xlJTIyJTJDJTBBJTIwJTIwJTIwJTIwbm90ZSUzRCUyMmNpdGVkJTIwQnklMjAxJTIyJTJDJTBBJTIwJTIwJTIwJTIwSUQlM0QlMjJTdHJvZGUyMDA5MSUyMiUyQyUwQSUyMCUyMCUyMCUyMHBsYWNleCUzRCUyMklFRUUlMjBDb21wdXRlciUyMFNvY2lldHklMjIlMkMlMEElMjklMjklMEElMEFEQiUyOENpdGF0aW9uJTI4JTBBJTIwJTIwJTIwJTIwd2FhcmRlbmJ1cmcyMDEzYSUyQyUyMHN0cm9kZTIwMDlhJTJDJTIwcmVmJTNEJTIyJTIyJTJDJTBBJTIwJTIwJTIwJTIwY29udGV4dHMlM0QlNUIlMEElMEElMjAlMjAlMjAlMjAlNUQlMkMlMEElMjklMjklMEElMEElMjclMjclMjclMkMlMjBjaXRhdGlvbnMlM0QlMjd3YWFyZGVuYnVyZzIwMTNhJTI3JTI5JTNC\")));\n",
       "    "
      ],
      "text/plain": [
       "<IPython.core.display.Javascript object>"
      ]
     },
     "metadata": {},
     "output_type": "display_data"
    },
    {
     "data": {
      "application/javascript": [
       "$('span:contains(\"# Temp\")').closest('.cell').remove();"
      ],
      "text/plain": [
       "<IPython.core.display.Javascript object>"
      ]
     },
     "metadata": {},
     "output_type": "display_data"
    },
    {
     "data": {
      "application/javascript": [
       "\n",
       "        $('span:contains(\"# Temp\")').closest('.cell').remove();\n",
       "        var code = IPython.notebook.insert_cell_below('code');\n",
       "        code.set_text(decodeURIComponent(window.atob(\"JTIzJTIwVGVtcCUwQWluc2VydCUyOCUyNyUyNyUyNyUwQURCJTI4Q2l0YXRpb24lMjglMEElMjAlMjAlMjAlMjB3YWFyZGVuYnVyZzIwMTNhJTJDJTIwc3V0aGVybGFuZDIwMDFhJTJDJTIwcmVmJTNEJTIyJTIyJTJDJTBBJTIwJTIwJTIwJTIwY29udGV4dHMlM0QlNUIlMEElMEElMjAlMjAlMjAlMjAlNUQlMkMlMEElMjklMjklMEElMEElMjclMjclMjclMkMlMjBjaXRhdGlvbnMlM0QlMjd3YWFyZGVuYnVyZzIwMTNhJTI3JTI5JTNC\")));\n",
       "    "
      ],
      "text/plain": [
       "<IPython.core.display.Javascript object>"
      ]
     },
     "metadata": {},
     "output_type": "display_data"
    },
    {
     "data": {
      "application/javascript": [
       "$('span:contains(\"# Temp\")').closest('.cell').remove();"
      ],
      "text/plain": [
       "<IPython.core.display.Javascript object>"
      ]
     },
     "metadata": {},
     "output_type": "display_data"
    },
    {
     "data": {
      "application/javascript": [
       "\n",
       "        $('span:contains(\"# Temp\")').closest('.cell').remove();\n",
       "        var code = IPython.notebook.insert_cell_below('code');\n",
       "        code.set_text(decodeURIComponent(window.atob(\"JTIzJTIwVGVtcCUwQWluc2VydCUyOCUyNyUyNyUyNyUwQURCJTI4Q2l0YXRpb24lMjglMEElMjAlMjAlMjAlMjB3YWFyZGVuYnVyZzIwMTNhJTJDJTIwc3V0aGVybGFuZDIwMDFhJTJDJTIwcmVmJTNEJTIyJTIyJTJDJTBBJTIwJTIwJTIwJTIwY29udGV4dHMlM0QlNUIlMEElMEElMjAlMjAlMjAlMjAlNUQlMkMlMEElMjklMjklMEElMEElMjclMjclMjclMkMlMjBjaXRhdGlvbnMlM0QlMjd3YWFyZGVuYnVyZzIwMTNhJTI3JTI5JTNC\")));\n",
       "    "
      ],
      "text/plain": [
       "<IPython.core.display.Javascript object>"
      ]
     },
     "metadata": {},
     "output_type": "display_data"
    },
    {
     "data": {
      "application/javascript": [
       "$('span:contains(\"# Temp\")').closest('.cell').remove();"
      ],
      "text/plain": [
       "<IPython.core.display.Javascript object>"
      ]
     },
     "metadata": {},
     "output_type": "display_data"
    },
    {
     "data": {
      "application/javascript": [
       "\n",
       "        $('span:contains(\"# Temp\")').closest('.cell').remove();\n",
       "        var code = IPython.notebook.insert_cell_below('code');\n",
       "        code.set_text(decodeURIComponent(window.atob(\"JTIzJTIwVGVtcCUwQWluc2VydCUyOCUyNyUyNyUyNyUwQXN2ZW5zc29uMjAwNWElMjAlM0QlMjBEQiUyOFdvcmtVbnJlbGF0ZWQlMjglMEElMjAlMjAlMjAlMjAyMDA1JTJDJTIwJTIySW50cm9kdWNpbmclMjBhbiUyMGFnaWxlJTIwcHJvY2VzcyUyMGluJTIwYSUyMHNvZnR3YXJlJTIwbWFpbnRlbmFuY2UlMjBhbmQlMjBldm9sdXRpb24lMjBvcmdhbml6YXRpb24lMjIlMkMlMEElMjAlMjAlMjAlMjBkaXNwbGF5JTNEJTIyc3ZlbnNzb24lMjIlMkMlMEElMjAlMjAlMjAlMjBhdXRob3JzJTNEJTIyU3ZlbnNzb24lMkMlMjBILiUyMGFuZCUyMEhvc3QlMkMlMjBNLiUyMiUyQyUwQSUyMCUyMCUyMCUyMHBsYWNlJTNERkFLRSUyQyUwQSUyMCUyMCUyMCUyMHBwJTNEJTIyMjU2LTI2NCUyMiUyQyUwQSUyMCUyMCUyMCUyMGVudHJ5dHlwZSUzRCUyMmNvbmZlcmVuY2UlMjIlMkMlMEElMjAlMjAlMjAlMjBkb2klM0QlMjIxMC4xMTA5L0NTTVIuMjAwNS4zMyUyMiUyQyUwQSUyMCUyMCUyMCUyMG5vdGUlM0QlMjJjaXRlZCUyMEJ5JTIwNTElMjIlMkMlMEElMjAlMjAlMjAlMjBJRCUzRCUyMlN2ZW5zc29uMjAwNTI1NiUyMiUyQyUwQSUyMCUyMCUyMCUyMHBsYWNleCUzRCUyMlByb2NlZWRpbmdzJTIwb2YlMjB0aGUlMjBFdXJvcGVhbiUyMENvbmZlcmVuY2UlMjBvbiUyMFNvZnR3YXJlJTIwTWFpbnRlbmFuY2UlMjBhbmQlMjBSZWVuZ2luZWVyaW5nJTJDJTIwQ1NNUiUyMiUyQyUwQSUyOSUyOSUwQSUwQURCJTI4Q2l0YXRpb24lMjglMEElMjAlMjAlMjAlMjB3YWFyZGVuYnVyZzIwMTNhJTJDJTIwc3ZlbnNzb24yMDA1YSUyQyUyMHJlZiUzRCUyMiUyMiUyQyUwQSUyMCUyMCUyMCUyMGNvbnRleHRzJTNEJTVCJTBBJTBBJTIwJTIwJTIwJTIwJTVEJTJDJTBBJTI5JTI5JTBBJTBBJTI3JTI3JTI3JTJDJTIwY2l0YXRpb25zJTNEJTI3d2FhcmRlbmJ1cmcyMDEzYSUyNyUyOSUzQg==\")));\n",
       "    "
      ],
      "text/plain": [
       "<IPython.core.display.Javascript object>"
      ]
     },
     "metadata": {},
     "output_type": "display_data"
    },
    {
     "data": {
      "application/javascript": [
       "$('span:contains(\"# Temp\")').closest('.cell').remove();"
      ],
      "text/plain": [
       "<IPython.core.display.Javascript object>"
      ]
     },
     "metadata": {},
     "output_type": "display_data"
    },
    {
     "data": {
      "application/javascript": [
       "\n",
       "        $('span:contains(\"# Temp\")').closest('.cell').remove();\n",
       "        var code = IPython.notebook.insert_cell_below('code');\n",
       "        code.set_text(decodeURIComponent(window.atob(\"JTIzJTIwVGVtcCUwQWluc2VydCUyOCUyNyUyNyUyNyUwQXN2ZW5zc29uMjAwNWElMjAlM0QlMjBEQiUyOFdvcmtVbnJlbGF0ZWQlMjglMEElMjAlMjAlMjAlMjAyMDA1JTJDJTIwJTIySW50cm9kdWNpbmclMjBhbiUyMGFnaWxlJTIwcHJvY2VzcyUyMGluJTIwYSUyMHNvZnR3YXJlJTIwbWFpbnRlbmFuY2UlMjBhbmQlMjBldm9sdXRpb24lMjBvcmdhbml6YXRpb24lMjIlMkMlMEElMjAlMjAlMjAlMjBkaXNwbGF5JTNEJTIyc3ZlbnNzb24lMjIlMkMlMEElMjAlMjAlMjAlMjBhdXRob3JzJTNEJTIyU3ZlbnNzb24lMkMlMjBILiUyMGFuZCUyMEhvc3QlMkMlMjBNLiUyMiUyQyUwQSUyMCUyMCUyMCUyMHBsYWNlJTNERkFLRSUyQyUwQSUyMCUyMCUyMCUyMHBwJTNEJTIyMjU2LTI2NCUyMiUyQyUwQSUyMCUyMCUyMCUyMGVudHJ5dHlwZSUzRCUyMmNvbmZlcmVuY2UlMjIlMkMlMEElMjAlMjAlMjAlMjBkb2klM0QlMjIxMC4xMTA5L0NTTVIuMjAwNS4zMyUyMiUyQyUwQSUyMCUyMCUyMCUyMG5vdGUlM0QlMjJjaXRlZCUyMEJ5JTIwNTElMjIlMkMlMEElMjAlMjAlMjAlMjBJRCUzRCUyMlN2ZW5zc29uMjAwNTI1NiUyMiUyQyUwQSUyMCUyMCUyMCUyMHBsYWNleCUzRCUyMlByb2NlZWRpbmdzJTIwb2YlMjB0aGUlMjBFdXJvcGVhbiUyMENvbmZlcmVuY2UlMjBvbiUyMFNvZnR3YXJlJTIwTWFpbnRlbmFuY2UlMjBhbmQlMjBSZWVuZ2luZWVyaW5nJTJDJTIwQ1NNUiUyMiUyQyUwQSUyOSUyOSUwQSUwQURCJTI4Q2l0YXRpb24lMjglMEElMjAlMjAlMjAlMjB3YWFyZGVuYnVyZzIwMTNhJTJDJTIwc3ZlbnNzb24yMDA1YSUyQyUyMHJlZiUzRCUyMiUyMiUyQyUwQSUyMCUyMCUyMCUyMGNvbnRleHRzJTNEJTVCJTBBJTBBJTIwJTIwJTIwJTIwJTVEJTJDJTBBJTI5JTI5JTBBJTBBJTI3JTI3JTI3JTJDJTIwY2l0YXRpb25zJTNEJTI3d2FhcmRlbmJ1cmcyMDEzYSUyNyUyOSUzQg==\")));\n",
       "    "
      ],
      "text/plain": [
       "<IPython.core.display.Javascript object>"
      ]
     },
     "metadata": {},
     "output_type": "display_data"
    },
    {
     "data": {
      "application/javascript": [
       "$('span:contains(\"# Temp\")').closest('.cell').remove();"
      ],
      "text/plain": [
       "<IPython.core.display.Javascript object>"
      ]
     },
     "metadata": {},
     "output_type": "display_data"
    },
    {
     "data": {
      "application/javascript": [
       "\n",
       "        $('span:contains(\"# Temp\")').closest('.cell').remove();\n",
       "        var code = IPython.notebook.insert_cell_below('code');\n",
       "        code.set_text(decodeURIComponent(window.atob(\"JTIzJTIwVGVtcCUwQWluc2VydCUyOCUyNyUyNyUyNyUwQXRhbmlzMjAwMGElMjAlM0QlMjBEQiUyOFdvcmtVbnJlbGF0ZWQlMjglMEElMjAlMjAlMjAlMjAyMDAwJTJDJTIwJTIyVGhlJTIwRW50ZXJwcmlzZSUyMFN5c3RlbSUyMEV4cGVyaWVuY2UlMjAtRnJvbSUyMEFkb3B0aW9uJTIwdG8lMjBTdWNjZXNzJTIyJTJDJTBBJTIwJTIwJTIwJTIwZGlzcGxheSUzRCUyMnRhbmlzJTIyJTJDJTBBJTIwJTIwJTIwJTIwYXV0aG9ycyUzRCUyMlRhbmlzJTJDJTIwTS5MLk0uQy4lMjIlMkMlMEElMjAlMjAlMjAlMjBwbGFjZSUzREZBS0UlMkMlMEElMjAlMjAlMjAlMjBwcCUzRCUyMjE3My0yMDclMjIlMkMlMEElMjAlMjAlMjAlMjBlbnRyeXR5cGUlM0QlMjJhcnRpY2xlJTIyJTJDJTBBJTIwJTIwJTIwJTIwbm90ZSUzRCUyMmNpdGVkJTIwQnklMjAxJTIyJTJDJTBBJTIwJTIwJTIwJTIwSUQlM0QlMjJUYW5pczIwMDAxNzMlMjIlMkMlMEElMjAlMjAlMjAlMjBwbGFjZXglM0QlMjIlMjIlMkMlMEElMjklMjklMEElMEFEQiUyOENpdGF0aW9uJTI4JTBBJTIwJTIwJTIwJTIwd2FhcmRlbmJ1cmcyMDEzYSUyQyUyMHRhbmlzMjAwMGElMkMlMjByZWYlM0QlMjIlMjIlMkMlMEElMjAlMjAlMjAlMjBjb250ZXh0cyUzRCU1QiUwQSUwQSUyMCUyMCUyMCUyMCU1RCUyQyUwQSUyOSUyOSUwQSUwQSUyNyUyNyUyNyUyQyUyMGNpdGF0aW9ucyUzRCUyN3dhYXJkZW5idXJnMjAxM2ElMjclMjklM0I=\")));\n",
       "    "
      ],
      "text/plain": [
       "<IPython.core.display.Javascript object>"
      ]
     },
     "metadata": {},
     "output_type": "display_data"
    },
    {
     "data": {
      "application/javascript": [
       "$('span:contains(\"# Temp\")').closest('.cell').remove();"
      ],
      "text/plain": [
       "<IPython.core.display.Javascript object>"
      ]
     },
     "metadata": {},
     "output_type": "display_data"
    },
    {
     "data": {
      "application/javascript": [
       "\n",
       "        $('span:contains(\"# Temp\")').closest('.cell').remove();\n",
       "        var code = IPython.notebook.insert_cell_below('code');\n",
       "        code.set_text(decodeURIComponent(window.atob(\"JTIzJTIwVGVtcCUwQWluc2VydCUyOCUyNyUyNyUyNyUwQXRhbmlzMjAwMGElMjAlM0QlMjBEQiUyOFdvcmtVbnJlbGF0ZWQlMjglMEElMjAlMjAlMjAlMjAyMDAwJTJDJTIwJTIyVGhlJTIwRW50ZXJwcmlzZSUyMFN5c3RlbSUyMEV4cGVyaWVuY2UlMjAtRnJvbSUyMEFkb3B0aW9uJTIwdG8lMjBTdWNjZXNzJTIyJTJDJTBBJTIwJTIwJTIwJTIwZGlzcGxheSUzRCUyMnRhbmlzJTIyJTJDJTBBJTIwJTIwJTIwJTIwYXV0aG9ycyUzRCUyMlRhbmlzJTJDJTIwTS5MLk0uQy4lMjIlMkMlMEElMjAlMjAlMjAlMjBwbGFjZSUzREZBS0UlMkMlMEElMjAlMjAlMjAlMjBwcCUzRCUyMjE3My0yMDclMjIlMkMlMEElMjAlMjAlMjAlMjBlbnRyeXR5cGUlM0QlMjJhcnRpY2xlJTIyJTJDJTBBJTIwJTIwJTIwJTIwbm90ZSUzRCUyMmNpdGVkJTIwQnklMjAxJTIyJTJDJTBBJTIwJTIwJTIwJTIwSUQlM0QlMjJUYW5pczIwMDAxNzMlMjIlMkMlMEElMjAlMjAlMjAlMjBwbGFjZXglM0QlMjIlMjIlMkMlMEElMjklMjklMEElMEFEQiUyOENpdGF0aW9uJTI4JTBBJTIwJTIwJTIwJTIwd2FhcmRlbmJ1cmcyMDEzYSUyQyUyMHRhbmlzMjAwMGElMkMlMjByZWYlM0QlMjIlMjIlMkMlMEElMjAlMjAlMjAlMjBjb250ZXh0cyUzRCU1QiUwQSUwQSUyMCUyMCUyMCUyMCU1RCUyQyUwQSUyOSUyOSUwQSUwQSUyNyUyNyUyNyUyQyUyMGNpdGF0aW9ucyUzRCUyN3dhYXJkZW5idXJnMjAxM2ElMjclMjklM0I=\")));\n",
       "    "
      ],
      "text/plain": [
       "<IPython.core.display.Javascript object>"
      ]
     },
     "metadata": {},
     "output_type": "display_data"
    },
    {
     "data": {
      "application/javascript": [
       "$('span:contains(\"# Temp\")').closest('.cell').remove();"
      ],
      "text/plain": [
       "<IPython.core.display.Javascript object>"
      ]
     },
     "metadata": {},
     "output_type": "display_data"
    },
    {
     "data": {
      "application/javascript": [
       "\n",
       "        $('span:contains(\"# Temp\")').closest('.cell').remove();\n",
       "        var code = IPython.notebook.insert_cell_below('code');\n",
       "        code.set_text(decodeURIComponent(window.atob(\"JTIzJTIwVGVtcCUwQWluc2VydCUyOCUyNyUyNyUyNyUwQXRvbGZvMjAwOGElMjAlM0QlMjBEQiUyOFdvcmtVbnJlbGF0ZWQlMjglMEElMjAlMjAlMjAlMjAyMDA4JTJDJTIwJTIyVGhlJTIwaW5mbHVlbmNlJTIwb2YlMjBvcmdhbml6YXRpb25hbCUyMGN1bHR1cmUlMjBvbiUyMHRoZSUyMGFkb3B0aW9uJTIwb2YlMjBleHRyZW1lJTIwcHJvZ3JhbW1pbmclMjIlMkMlMEElMjAlMjAlMjAlMjBkaXNwbGF5JTNEJTIydG9sZm8lMjIlMkMlMEElMjAlMjAlMjAlMjBhdXRob3JzJTNEJTIyVG9sZm8lMkMlMjBDLiUyMGFuZCUyMFdhemxhd2ljayUyQyUyMFIuUy4lMjIlMkMlMEElMjAlMjAlMjAlMjBwbGFjZSUzREpTUyUyQyUwQSUyMCUyMCUyMCUyMHBwJTNEJTIyMTk1NS0xOTY3JTIyJTJDJTBBJTIwJTIwJTIwJTIwZW50cnl0eXBlJTNEJTIyYXJ0aWNsZSUyMiUyQyUwQSUyMCUyMCUyMCUyMHZvbHVtZSUzRCUyMjgxJTIyJTJDJTBBJTIwJTIwJTIwJTIwbnVtYmVyJTNEJTIyMTElMjIlMkMlMEElMjAlMjAlMjAlMjBkb2klM0QlMjIxMC4xMDE2L2ouanNzLjIwMDguMDEuMDE0JTIyJTJDJTBBJTIwJTIwJTIwJTIwbm90ZSUzRCUyMmNpdGVkJTIwQnklMjAzMSUyMiUyQyUwQSUyMCUyMCUyMCUyMElEJTNEJTIyVG9sZm8yMDA4MTk1NSUyMiUyQyUwQSUyMCUyMCUyMCUyMHBsYWNleCUzRCUyMkpvdXJuYWwlMjBvZiUyMFN5c3RlbXMlMjBhbmQlMjBTb2Z0d2FyZSUyMiUyQyUwQSUyOSUyOSUwQSUwQURCJTI4Q2l0YXRpb24lMjglMEElMjAlMjAlMjAlMjB3YWFyZGVuYnVyZzIwMTNhJTJDJTIwdG9sZm8yMDA4YSUyQyUyMHJlZiUzRCUyMiUyMiUyQyUwQSUyMCUyMCUyMCUyMGNvbnRleHRzJTNEJTVCJTBBJTBBJTIwJTIwJTIwJTIwJTVEJTJDJTBBJTI5JTI5JTBBJTBBJTI3JTI3JTI3JTJDJTIwY2l0YXRpb25zJTNEJTI3d2FhcmRlbmJ1cmcyMDEzYSUyNyUyOSUzQg==\")));\n",
       "    "
      ],
      "text/plain": [
       "<IPython.core.display.Javascript object>"
      ]
     },
     "metadata": {},
     "output_type": "display_data"
    },
    {
     "data": {
      "application/javascript": [
       "$('span:contains(\"# Temp\")').closest('.cell').remove();"
      ],
      "text/plain": [
       "<IPython.core.display.Javascript object>"
      ]
     },
     "metadata": {},
     "output_type": "display_data"
    },
    {
     "data": {
      "application/javascript": [
       "\n",
       "        $('span:contains(\"# Temp\")').closest('.cell').remove();\n",
       "        var code = IPython.notebook.insert_cell_below('code');\n",
       "        code.set_text(decodeURIComponent(window.atob(\"JTIzJTIwVGVtcCUwQWluc2VydCUyOCUyNyUyNyUyNyUwQXRvbGZvMjAwOGElMjAlM0QlMjBEQiUyOFdvcmtVbnJlbGF0ZWQlMjglMEElMjAlMjAlMjAlMjAyMDA4JTJDJTIwJTIyVGhlJTIwaW5mbHVlbmNlJTIwb2YlMjBvcmdhbml6YXRpb25hbCUyMGN1bHR1cmUlMjBvbiUyMHRoZSUyMGFkb3B0aW9uJTIwb2YlMjBleHRyZW1lJTIwcHJvZ3JhbW1pbmclMjIlMkMlMEElMjAlMjAlMjAlMjBkaXNwbGF5JTNEJTIydG9sZm8lMjIlMkMlMEElMjAlMjAlMjAlMjBhdXRob3JzJTNEJTIyVG9sZm8lMkMlMjBDLiUyMGFuZCUyMFdhemxhd2ljayUyQyUyMFIuUy4lMjIlMkMlMEElMjAlMjAlMjAlMjBwbGFjZSUzREpTUyUyQyUwQSUyMCUyMCUyMCUyMHBwJTNEJTIyMTk1NS0xOTY3JTIyJTJDJTBBJTIwJTIwJTIwJTIwZW50cnl0eXBlJTNEJTIyYXJ0aWNsZSUyMiUyQyUwQSUyMCUyMCUyMCUyMHZvbHVtZSUzRCUyMjgxJTIyJTJDJTBBJTIwJTIwJTIwJTIwbnVtYmVyJTNEJTIyMTElMjIlMkMlMEElMjAlMjAlMjAlMjBkb2klM0QlMjIxMC4xMDE2L2ouanNzLjIwMDguMDEuMDE0JTIyJTJDJTBBJTIwJTIwJTIwJTIwbm90ZSUzRCUyMmNpdGVkJTIwQnklMjAzMSUyMiUyQyUwQSUyMCUyMCUyMCUyMElEJTNEJTIyVG9sZm8yMDA4MTk1NSUyMiUyQyUwQSUyMCUyMCUyMCUyMHBsYWNleCUzRCUyMkpvdXJuYWwlMjBvZiUyMFN5c3RlbXMlMjBhbmQlMjBTb2Z0d2FyZSUyMiUyQyUwQSUyOSUyOSUwQSUwQURCJTI4Q2l0YXRpb24lMjglMEElMjAlMjAlMjAlMjB3YWFyZGVuYnVyZzIwMTNhJTJDJTIwdG9sZm8yMDA4YSUyQyUyMHJlZiUzRCUyMiUyMiUyQyUwQSUyMCUyMCUyMCUyMGNvbnRleHRzJTNEJTVCJTBBJTBBJTIwJTIwJTIwJTIwJTVEJTJDJTBBJTI5JTI5JTBBJTBBJTI3JTI3JTI3JTJDJTIwY2l0YXRpb25zJTNEJTI3d2FhcmRlbmJ1cmcyMDEzYSUyNyUyOSUzQg==\")));\n",
       "    "
      ],
      "text/plain": [
       "<IPython.core.display.Javascript object>"
      ]
     },
     "metadata": {},
     "output_type": "display_data"
    },
    {
     "data": {
      "application/javascript": [
       "$('span:contains(\"# Temp\")').closest('.cell').remove();"
      ],
      "text/plain": [
       "<IPython.core.display.Javascript object>"
      ]
     },
     "metadata": {},
     "output_type": "display_data"
    },
    {
     "data": {
      "application/javascript": [
       "\n",
       "        $('span:contains(\"# Temp\")').closest('.cell').remove();\n",
       "        var code = IPython.notebook.insert_cell_below('code');\n",
       "        code.set_text(decodeURIComponent(window.atob(\"JTIzJTIwVGVtcCUwQWluc2VydCUyOCUyNyUyNyUyNyUwQXZhbnZsaWV0MjAwOGElMjAlM0QlMjBEQiUyOFdvcmtVbnJlbGF0ZWQlMjglMEElMjAlMjAlMjAlMjAyMDA4JTJDJTIwJTIyU29mdHdhcmUlMjBFbmdpbmVlcmluZyUzQSUyMFByaW5jaXBsZXMlMjBhbmQlMjBQcmFjdGljZSUyMiUyQyUwQSUyMCUyMCUyMCUyMGRpc3BsYXklM0QlMjJ2YW52bGlldCUyMiUyQyUwQSUyMCUyMCUyMCUyMGF1dGhvcnMlM0QlMjJWYW52bGlldCUyQyUyMEguJTIyJTJDJTBBJTIwJTIwJTIwJTIwcGxhY2UlM0RGQUtFJTJDJTBBJTIwJTIwJTIwJTIwZW50cnl0eXBlJTNEJTIyYXJ0aWNsZSUyMiUyQyUwQSUyMCUyMCUyMCUyMG5vdGUlM0QlMjJjaXRlZCUyMEJ5JTIwNCUyMiUyQyUwQSUyMCUyMCUyMCUyMElEJTNEJTIyVmFudmxpZXQyMDA4JTIyJTJDJTBBJTIwJTIwJTIwJTIwcGxhY2V4JTNEJTIySm9obiUyMFdpbGV5JTIyJTJDJTBBJTI5JTI5JTBBJTBBREIlMjhDaXRhdGlvbiUyOCUwQSUyMCUyMCUyMCUyMHdhYXJkZW5idXJnMjAxM2ElMkMlMjB2YW52bGlldDIwMDhhJTJDJTIwcmVmJTNEJTIyJTIyJTJDJTBBJTIwJTIwJTIwJTIwY29udGV4dHMlM0QlNUIlMEElMEElMjAlMjAlMjAlMjAlNUQlMkMlMEElMjklMjklMEElMEElMjclMjclMjclMkMlMjBjaXRhdGlvbnMlM0QlMjd3YWFyZGVuYnVyZzIwMTNhJTI3JTI5JTNC\")));\n",
       "    "
      ],
      "text/plain": [
       "<IPython.core.display.Javascript object>"
      ]
     },
     "metadata": {},
     "output_type": "display_data"
    },
    {
     "data": {
      "application/javascript": [
       "$('span:contains(\"# Temp\")').closest('.cell').remove();"
      ],
      "text/plain": [
       "<IPython.core.display.Javascript object>"
      ]
     },
     "metadata": {},
     "output_type": "display_data"
    },
    {
     "data": {
      "application/javascript": [
       "\n",
       "        $('span:contains(\"# Temp\")').closest('.cell').remove();\n",
       "        var code = IPython.notebook.insert_cell_below('code');\n",
       "        code.set_text(decodeURIComponent(window.atob(\"JTIzJTIwVGVtcCUwQWluc2VydCUyOCUyNyUyNyUyNyUwQXZhbnZsaWV0MjAwOGElMjAlM0QlMjBEQiUyOFdvcmtVbnJlbGF0ZWQlMjglMEElMjAlMjAlMjAlMjAyMDA4JTJDJTIwJTIyU29mdHdhcmUlMjBFbmdpbmVlcmluZyUzQSUyMFByaW5jaXBsZXMlMjBhbmQlMjBQcmFjdGljZSUyMiUyQyUwQSUyMCUyMCUyMCUyMGRpc3BsYXklM0QlMjJ2YW52bGlldCUyMiUyQyUwQSUyMCUyMCUyMCUyMGF1dGhvcnMlM0QlMjJWYW52bGlldCUyQyUyMEguJTIyJTJDJTBBJTIwJTIwJTIwJTIwcGxhY2UlM0RGQUtFJTJDJTBBJTIwJTIwJTIwJTIwZW50cnl0eXBlJTNEJTIyYXJ0aWNsZSUyMiUyQyUwQSUyMCUyMCUyMCUyMG5vdGUlM0QlMjJjaXRlZCUyMEJ5JTIwNCUyMiUyQyUwQSUyMCUyMCUyMCUyMElEJTNEJTIyVmFudmxpZXQyMDA4JTIyJTJDJTBBJTIwJTIwJTIwJTIwcGxhY2V4JTNEJTIySm9obiUyMFdpbGV5JTIyJTJDJTBBJTI5JTI5JTBBJTBBREIlMjhDaXRhdGlvbiUyOCUwQSUyMCUyMCUyMCUyMHdhYXJkZW5idXJnMjAxM2ElMkMlMjB2YW52bGlldDIwMDhhJTJDJTIwcmVmJTNEJTIyJTIyJTJDJTBBJTIwJTIwJTIwJTIwY29udGV4dHMlM0QlNUIlMEElMEElMjAlMjAlMjAlMjAlNUQlMkMlMEElMjklMjklMEElMEElMjclMjclMjclMkMlMjBjaXRhdGlvbnMlM0QlMjd3YWFyZGVuYnVyZzIwMTNhJTI3JTI5JTNC\")));\n",
       "    "
      ],
      "text/plain": [
       "<IPython.core.display.Javascript object>"
      ]
     },
     "metadata": {},
     "output_type": "display_data"
    },
    {
     "data": {
      "application/javascript": [
       "$('span:contains(\"# Temp\")').closest('.cell').remove();"
      ],
      "text/plain": [
       "<IPython.core.display.Javascript object>"
      ]
     },
     "metadata": {},
     "output_type": "display_data"
    },
    {
     "data": {
      "application/javascript": [
       "\n",
       "        $('span:contains(\"# Temp\")').closest('.cell').remove();\n",
       "        var code = IPython.notebook.insert_cell_below('code');\n",
       "        code.set_text(decodeURIComponent(window.atob(\"JTIzJTIwVGVtcCUwQWluc2VydCUyOCUyNyUyNyUyNyUwQXZpamF5YXNhcmF0aHkyMDEyYSUyMCUzRCUyMERCJTI4V29ya1VucmVsYXRlZCUyOCUwQSUyMCUyMCUyMCUyMDIwMTIlMkMlMjAlMjJEcml2ZXJzJTIwb2YlMjBhZ2lsZSUyMHNvZnR3YXJlJTIwZGV2ZWxvcG1lbnQlMjB1c2UlM0ElMjBEaWFsZWN0aWMlMjBpbnRlcnBsYXklMjBiZXR3ZWVuJTIwYmVuZWZpdHMlMjBhbmQlMjBoaW5kcmFuY2VzJTIyJTJDJTBBJTIwJTIwJTIwJTIwZGlzcGxheSUzRCUyMnZpamF5YXNhcmF0aHklMjIlMkMlMEElMjAlMjAlMjAlMjBhdXRob3JzJTNEJTIyVmlqYXlhc2FyYXRoeSUyQyUyMEwuJTIwYW5kJTIwVHVyayUyQyUyMEQuJTIyJTJDJTBBJTIwJTIwJTIwJTIwcGxhY2UlM0RJU1QlMkMlMEElMjAlMjAlMjAlMjBwcCUzRCUyMjEzNy0xNDglMjIlMkMlMEElMjAlMjAlMjAlMjBlbnRyeXR5cGUlM0QlMjJhcnRpY2xlJTIyJTJDJTBBJTIwJTIwJTIwJTIwdm9sdW1lJTNEJTIyNTQlMjIlMkMlMEElMjAlMjAlMjAlMjBudW1iZXIlM0QlMjIyJTIyJTJDJTBBJTIwJTIwJTIwJTIwZG9pJTNEJTIyMTAuMTAxNi9qLmluZnNvZi4yMDExLjA4LjAwMyUyMiUyQyUwQSUyMCUyMCUyMCUyMG5vdGUlM0QlMjJjaXRlZCUyMEJ5JTIwMzMlMjIlMkMlMEElMjAlMjAlMjAlMjBJRCUzRCUyMlZpamF5YXNhcmF0aHkyMDEyMTM3JTIyJTJDJTBBJTIwJTIwJTIwJTIwcGxhY2V4JTNEJTIySW5mb3JtYXRpb24lMjBhbmQlMjBTb2Z0d2FyZSUyMFRlY2hub2xvZ3klMjIlMkMlMEElMjklMjklMEElMEFEQiUyOENpdGF0aW9uJTI4JTBBJTIwJTIwJTIwJTIwd2FhcmRlbmJ1cmcyMDEzYSUyQyUyMHZpamF5YXNhcmF0aHkyMDEyYSUyQyUyMHJlZiUzRCUyMiUyMiUyQyUwQSUyMCUyMCUyMCUyMGNvbnRleHRzJTNEJTVCJTBBJTBBJTIwJTIwJTIwJTIwJTVEJTJDJTBBJTI5JTI5JTBBJTBBJTI3JTI3JTI3JTJDJTIwY2l0YXRpb25zJTNEJTI3d2FhcmRlbmJ1cmcyMDEzYSUyNyUyOSUzQg==\")));\n",
       "    "
      ],
      "text/plain": [
       "<IPython.core.display.Javascript object>"
      ]
     },
     "metadata": {},
     "output_type": "display_data"
    },
    {
     "data": {
      "application/javascript": [
       "$('span:contains(\"# Temp\")').closest('.cell').remove();"
      ],
      "text/plain": [
       "<IPython.core.display.Javascript object>"
      ]
     },
     "metadata": {},
     "output_type": "display_data"
    },
    {
     "data": {
      "application/javascript": [
       "\n",
       "        $('span:contains(\"# Temp\")').closest('.cell').remove();\n",
       "        var code = IPython.notebook.insert_cell_below('code');\n",
       "        code.set_text(decodeURIComponent(window.atob(\"JTIzJTIwVGVtcCUwQWluc2VydCUyOCUyNyUyNyUyNyUwQXZpamF5YXNhcmF0aHkyMDEyYSUyMCUzRCUyMERCJTI4V29ya1VucmVsYXRlZCUyOCUwQSUyMCUyMCUyMCUyMDIwMTIlMkMlMjAlMjJEcml2ZXJzJTIwb2YlMjBhZ2lsZSUyMHNvZnR3YXJlJTIwZGV2ZWxvcG1lbnQlMjB1c2UlM0ElMjBEaWFsZWN0aWMlMjBpbnRlcnBsYXklMjBiZXR3ZWVuJTIwYmVuZWZpdHMlMjBhbmQlMjBoaW5kcmFuY2VzJTIyJTJDJTBBJTIwJTIwJTIwJTIwZGlzcGxheSUzRCUyMnZpamF5YXNhcmF0aHklMjIlMkMlMEElMjAlMjAlMjAlMjBhdXRob3JzJTNEJTIyVmlqYXlhc2FyYXRoeSUyQyUyMEwuJTIwYW5kJTIwVHVyayUyQyUyMEQuJTIyJTJDJTBBJTIwJTIwJTIwJTIwcGxhY2UlM0RJU1QlMkMlMEElMjAlMjAlMjAlMjBwcCUzRCUyMjEzNy0xNDglMjIlMkMlMEElMjAlMjAlMjAlMjBlbnRyeXR5cGUlM0QlMjJhcnRpY2xlJTIyJTJDJTBBJTIwJTIwJTIwJTIwdm9sdW1lJTNEJTIyNTQlMjIlMkMlMEElMjAlMjAlMjAlMjBudW1iZXIlM0QlMjIyJTIyJTJDJTBBJTIwJTIwJTIwJTIwZG9pJTNEJTIyMTAuMTAxNi9qLmluZnNvZi4yMDExLjA4LjAwMyUyMiUyQyUwQSUyMCUyMCUyMCUyMG5vdGUlM0QlMjJjaXRlZCUyMEJ5JTIwMzMlMjIlMkMlMEElMjAlMjAlMjAlMjBJRCUzRCUyMlZpamF5YXNhcmF0aHkyMDEyMTM3JTIyJTJDJTBBJTIwJTIwJTIwJTIwcGxhY2V4JTNEJTIySW5mb3JtYXRpb24lMjBhbmQlMjBTb2Z0d2FyZSUyMFRlY2hub2xvZ3klMjIlMkMlMEElMjklMjklMEElMEFEQiUyOENpdGF0aW9uJTI4JTBBJTIwJTIwJTIwJTIwd2FhcmRlbmJ1cmcyMDEzYSUyQyUyMHZpamF5YXNhcmF0aHkyMDEyYSUyQyUyMHJlZiUzRCUyMiUyMiUyQyUwQSUyMCUyMCUyMCUyMGNvbnRleHRzJTNEJTVCJTBBJTBBJTIwJTIwJTIwJTIwJTVEJTJDJTBBJTI5JTI5JTBBJTBBJTI3JTI3JTI3JTJDJTIwY2l0YXRpb25zJTNEJTI3d2FhcmRlbmJ1cmcyMDEzYSUyNyUyOSUzQg==\")));\n",
       "    "
      ],
      "text/plain": [
       "<IPython.core.display.Javascript object>"
      ]
     },
     "metadata": {},
     "output_type": "display_data"
    },
    {
     "data": {
      "application/javascript": [
       "$('span:contains(\"# Temp\")').closest('.cell').remove();"
      ],
      "text/plain": [
       "<IPython.core.display.Javascript object>"
      ]
     },
     "metadata": {},
     "output_type": "display_data"
    },
    {
     "data": {
      "application/javascript": [
       "\n",
       "        $('span:contains(\"# Temp\")').closest('.cell').remove();\n",
       "        var code = IPython.notebook.insert_cell_below('code');\n",
       "        code.set_text(decodeURIComponent(window.atob(\"JTIzJTIwVGVtcCUwQWluc2VydCUyOCUyNyUyNyUyNyUwQSUyMCUyMCUyMCUyMHZpbmVrYXIyMDA2YSUyMCUzRCUyMERCJTI4V29ya1VucmVsYXRlZCUyOCUwQSUyMCUyMCUyMCUyMCUyMCUyMCUyMCUyMDIwMDYlMkMlMjAlMjJDYW4lMjBhZ2lsZSUyMGFuZCUyMHRyYWRpdGlvbmFsJTIwc3lzdGVtcyUwQWRldmVsb3BtZW50JTIwJTIwYXBwcm9hY2hlcyUyMCUyMGNvZXhpc3QlM0YlMjAlMjBBbiUyMCUyMGFtYmlkZXh0cm91cyUyMCUyMHZpZXclMjIlMkMlMEElMjAlMjAlMjAlMjAlMjAlMjAlMjAlMjBkaXNwbGF5JTNEJTIydmluZWthciUyMiUyQyUwQSUyMCUyMCUyMCUyMCUyMCUyMCUyMCUyMGF1dGhvcnMlM0QlMjJWLiUyMFZpbmVrYXIlMkMlMjBDLlcuJTIwU2xpbmttYW4lMkMlMjBTLiUyME5lcnVyJTIyJTJDJTBBJTIwJTIwJTIwJTIwJTIwJTIwJTIwJTIwcGxhY2UlM0RJU1QlMkMlMEElMjAlMjAlMjAlMjAlMjAlMjAlMjAlMjBlbnRyeXR5cGUlM0QlMjJhcnRpY2xlJTIyJTJDJTBBJTIwJTIwJTIwJTIwJTIwJTIwJTIwJTIwSUQlM0QlMjJWaW5la2FyMjAwNiUyMiUyQyUwQSUyMCUyMCUyMCUyMCUyMCUyMCUyMCUyMHBsYWNleCUzRCUyMkluZm9ybWF0aW9uJTIwYW5kJTIwU29mdHdhcmUlMjBUZWNobm9sb2d5JTIyJTJDJTBBJTIwJTIwJTIwJTIwJTI5JTI5JTBBJTBBREIlMjhDaXRhdGlvbiUyOCUwQSUyMCUyMCUyMCUyMHdhYXJkZW5idXJnMjAxM2ElMkMlMjB2aW5la2FyMjAwNmElMkMlMjByZWYlM0QlMjIlMjIlMkMlMEElMjAlMjAlMjAlMjBjb250ZXh0cyUzRCU1QiUwQSUwQSUyMCUyMCUyMCUyMCU1RCUyQyUwQSUyOSUyOSUwQSUwQSUyNyUyNyUyNyUyQyUyMGNpdGF0aW9ucyUzRCUyN3dhYXJkZW5idXJnMjAxM2ElMjclMjklM0I=\")));\n",
       "    "
      ],
      "text/plain": [
       "<IPython.core.display.Javascript object>"
      ]
     },
     "metadata": {},
     "output_type": "display_data"
    },
    {
     "data": {
      "application/javascript": [
       "$('span:contains(\"# Temp\")').closest('.cell').remove();"
      ],
      "text/plain": [
       "<IPython.core.display.Javascript object>"
      ]
     },
     "metadata": {},
     "output_type": "display_data"
    },
    {
     "data": {
      "application/javascript": [
       "\n",
       "        $('span:contains(\"# Temp\")').closest('.cell').remove();\n",
       "        var code = IPython.notebook.insert_cell_below('code');\n",
       "        code.set_text(decodeURIComponent(window.atob(\"JTIzJTIwVGVtcCUwQWluc2VydCUyOCUyNyUyNyUyNyUwQSUyMCUyMCUyMCUyMHZpbmVrYXIyMDA2YSUyMCUzRCUyMERCJTI4V29ya1VucmVsYXRlZCUyOCUwQSUyMCUyMCUyMCUyMCUyMCUyMCUyMCUyMDIwMDYlMkMlMjAlMjJDYW4lMjBhZ2lsZSUyMGFuZCUyMHRyYWRpdGlvbmFsJTIwc3lzdGVtcyUwQWRldmVsb3BtZW50JTIwJTIwYXBwcm9hY2hlcyUyMCUyMGNvZXhpc3QlM0YlMjAlMjBBbiUyMCUyMGFtYmlkZXh0cm91cyUyMCUyMHZpZXclMjIlMkMlMEElMjAlMjAlMjAlMjAlMjAlMjAlMjAlMjBkaXNwbGF5JTNEJTIydmluZWthciUyMiUyQyUwQSUyMCUyMCUyMCUyMCUyMCUyMCUyMCUyMGF1dGhvcnMlM0QlMjJWLiUyMFZpbmVrYXIlMkMlMjBDLlcuJTIwU2xpbmttYW4lMkMlMjBTLiUyME5lcnVyJTIyJTJDJTBBJTIwJTIwJTIwJTIwJTIwJTIwJTIwJTIwcGxhY2UlM0RJU1QlMkMlMEElMjAlMjAlMjAlMjAlMjAlMjAlMjAlMjBlbnRyeXR5cGUlM0QlMjJhcnRpY2xlJTIyJTJDJTBBJTIwJTIwJTIwJTIwJTIwJTIwJTIwJTIwSUQlM0QlMjJWaW5la2FyMjAwNiUyMiUyQyUwQSUyMCUyMCUyMCUyMCUyMCUyMCUyMCUyMHBsYWNleCUzRCUyMkluZm9ybWF0aW9uJTIwYW5kJTIwU29mdHdhcmUlMjBUZWNobm9sb2d5JTIyJTJDJTBBJTIwJTIwJTIwJTIwJTI5JTI5JTBBJTBBREIlMjhDaXRhdGlvbiUyOCUwQSUyMCUyMCUyMCUyMHdhYXJkZW5idXJnMjAxM2ElMkMlMjB2aW5la2FyMjAwNmElMkMlMjByZWYlM0QlMjIlMjIlMkMlMEElMjAlMjAlMjAlMjBjb250ZXh0cyUzRCU1QiUwQSUwQSUyMCUyMCUyMCUyMCU1RCUyQyUwQSUyOSUyOSUwQSUwQSUyNyUyNyUyNyUyQyUyMGNpdGF0aW9ucyUzRCUyN3dhYXJkZW5idXJnMjAxM2ElMjclMjklM0I=\")));\n",
       "    "
      ],
      "text/plain": [
       "<IPython.core.display.Javascript object>"
      ]
     },
     "metadata": {},
     "output_type": "display_data"
    }
   ],
   "source": [
    "import importlib\n",
    "import custom_snowballing\n",
    "importlib.reload(custom_snowballing)\n",
    "from custom_snowballing import UnrelatedBackward\n",
    "UnrelatedBackward(\"vlietland2015a\", articles=article_list)"
   ]
  },
  {
   "cell_type": "code",
   "execution_count": 85,
   "metadata": {},
   "outputs": [
    {
     "name": "stdout",
     "output_type": "stream",
     "text": [
      "-Insert: vinekar2006a\n",
      "-Insert Import: vinekar2006a\n",
      "-Insert Citation: waardenburg2013a -> vinekar2006a\n"
     ]
    }
   ],
   "source": [
    "# Temp\n",
    "insert('''\n",
    "vinekar2006a = DB(WorkUnrelated(\n",
    "    2006, \"Can agile and traditional systems development  approaches  coexist?  An  ambidextrous  view\",\n",
    "    display=\"vinekar\",\n",
    "    authors=\"V. Vinekar, C.W. Slinkman, S. Nerur\",\n",
    "    place=IST,\n",
    "    entrytype=\"article\",\n",
    "    ID=\"Vinekar2006\",\n",
    "    placex=\"Information and Software Technology\",\n",
    "))   \n",
    "\n",
    "DB(Citation(\n",
    "    waardenburg2013a, vinekar2006a, ref=\"\",\n",
    "    contexts=[\n",
    "\n",
    "    ],\n",
    "))\n",
    "\n",
    "''', citations='waardenburg2013a');"
   ]
  },
  {
   "cell_type": "code",
   "execution_count": null,
   "metadata": {
    "collapsed": true
   },
   "outputs": [],
   "source": []
  }
 ],
 "metadata": {
  "kernelspec": {
   "display_name": "Python 3",
   "language": "python",
   "name": "python3"
  },
  "language_info": {
   "codemirror_mode": {
    "name": "ipython",
    "version": 3
   },
   "file_extension": ".py",
   "mimetype": "text/x-python",
   "name": "python",
   "nbconvert_exporter": "python",
   "pygments_lexer": "ipython3",
   "version": "3.6.0"
  },
  "toc": {
   "nav_menu": {
    "height": "12px",
    "width": "252px"
   },
   "number_sections": true,
   "sideBar": true,
   "skip_h1_title": false,
   "toc_cell": false,
   "toc_position": {},
   "toc_section_display": "block",
   "toc_window_display": false
  }
 },
 "nbformat": 4,
 "nbformat_minor": 2
}
