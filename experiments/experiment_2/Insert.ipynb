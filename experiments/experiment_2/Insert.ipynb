{
 "cells": [
  {
   "cell_type": "code",
   "execution_count": 1,
   "metadata": {
    "collapsed": true
   },
   "outputs": [],
   "source": [
    "import database\n",
    "import custom_jupyter_utils\n",
    "from snowballing.operations import load_work, reload, work_by_varname\n",
    "from snowballing.snowballing import Converter\n",
    "from snowballing.snowballing import ArticleNavigator\n",
    "from snowballing.dbmanager import insert, set_attribute"
   ]
  },
  {
   "cell_type": "code",
   "execution_count": 2,
   "metadata": {
    "scrolled": false
   },
   "outputs": [
    {
     "data": {
      "application/vnd.jupyter.widget-view+json": {
       "model_id": "6200cf0fa6044f7b8ab8e9b49ba890b9",
       "version_major": 2,
       "version_minor": 0
      },
      "text/html": [
       "<p>Failed to display Jupyter Widget of type <code>VBox</code>.</p>\n",
       "<p>\n",
       "  If you're reading this message in Jupyter Notebook or JupyterLab, it may mean\n",
       "  that the widgets JavaScript is still loading. If this message persists, it\n",
       "  likely means that the widgets JavaScript library is either not installed or\n",
       "  not enabled. See the <a href=\"https://ipywidgets.readthedocs.io/en/stable/user_install.html\">Jupyter\n",
       "  Widgets Documentation</a> for setup instructions.\n",
       "</p>\n",
       "<p>\n",
       "  If you're reading this message in another notebook frontend (for example, a static\n",
       "  rendering on GitHub or <a href=\"https://nbviewer.jupyter.org/\">NBViewer</a>),\n",
       "  it may mean that your frontend doesn't currently support widgets.\n",
       "</p>\n"
      ],
      "text/plain": [
       "VBox(children=(HBox(children=(Dropdown(options={'BibTeX': 'bibtex', 'Text': 'text', '[N] author name place other year': 'citation', 'Quoted': 'quoted'}, value='bibtex'), Button(description='Set article_list variable', style=ButtonStyle()), Label(value=''))), HBox(children=(Textarea(value='', layout=Layout(height='500px', width='50%')), Textarea(value='', layout=Layout(height='500px', width='50%'))))))"
      ]
     },
     "metadata": {},
     "output_type": "display_data"
    }
   ],
   "source": [
    "Converter(\"bibtex\")\n"
   ]
  },
  {
   "cell_type": "code",
   "execution_count": 3,
   "metadata": {},
   "outputs": [
    {
     "data": {
      "text/plain": [
       "60"
      ]
     },
     "execution_count": 3,
     "metadata": {},
     "output_type": "execute_result"
    }
   ],
   "source": [
    "len(article_list)"
   ]
  },
  {
   "cell_type": "code",
   "execution_count": 4,
   "metadata": {
    "collapsed": true
   },
   "outputs": [],
   "source": [
    "from snowballing.operations import reload\n",
    "reload()\n"
   ]
  },
  {
   "cell_type": "code",
   "execution_count": null,
   "metadata": {
    "collapsed": true
   },
   "outputs": [],
   "source": [
    "ArticleNavigator(articles=article_list)"
   ]
  },
  {
   "cell_type": "code",
   "execution_count": null,
   "metadata": {
    "collapsed": true
   },
   "outputs": [],
   "source": [
    "ArticleNavigator??"
   ]
  },
  {
   "cell_type": "code",
   "execution_count": null,
   "metadata": {
    "collapsed": true
   },
   "outputs": [],
   "source": []
  },
  {
   "cell_type": "code",
   "execution_count": null,
   "metadata": {
    "collapsed": true
   },
   "outputs": [],
   "source": []
  },
  {
   "cell_type": "code",
   "execution_count": 5,
   "metadata": {
    "scrolled": false
   },
   "outputs": [
    {
     "data": {
      "application/vnd.jupyter.widget-view+json": {
       "model_id": "69fefdb63398491a96a6d27c70af7810",
       "version_major": 2,
       "version_minor": 0
      },
      "text/html": [
       "<p>Failed to display Jupyter Widget of type <code>VBox</code>.</p>\n",
       "<p>\n",
       "  If you're reading this message in Jupyter Notebook or JupyterLab, it may mean\n",
       "  that the widgets JavaScript is still loading. If this message persists, it\n",
       "  likely means that the widgets JavaScript library is either not installed or\n",
       "  not enabled. See the <a href=\"https://ipywidgets.readthedocs.io/en/stable/user_install.html\">Jupyter\n",
       "  Widgets Documentation</a> for setup instructions.\n",
       "</p>\n",
       "<p>\n",
       "  If you're reading this message in another notebook frontend (for example, a static\n",
       "  rendering on GitHub or <a href=\"https://nbviewer.jupyter.org/\">NBViewer</a>),\n",
       "  it may mean that your frontend doesn't currently support widgets.\n",
       "</p>\n"
      ],
      "text/plain": [
       "VBox(children=(HBox(children=(Button(description='Previous Article', disabled=True, icon='caret-left', style=ButtonStyle()), Button(description='Reload Article', icon='refresh', style=ButtonStyle()), Button(description='Next Article', icon='caret-right', style=ButtonStyle()))), HBox(children=(Dropdown(description='Type', index=1, options=('WorkSnowball', 'WorkUnrelated', 'Work', 'WorkOk', 'WorkNoFile', 'WorkLang', 'Site', 'Email'), value='WorkUnrelated'), ToggleButton(value=False, description='File'))), HBox(children=(Text(value='', description='Due'), Text(value='', description='Place'))), HBox(children=(Text(value='', description='Year'), Text(value='', description='Prefix Var'))), HBox(children=(Text(value='', description='PDFPage'), Text(value='', description='Related'))), HBox(children=(Text(value='', description='Display'), Text(value='', description='Summary'))), HBox(children=(Text(value='', description='Star'), Text(value='', description='Link'))), HBox(children=(Text(value='1', description='scholar2016'),)), HBox(children=(Button(description='Reload Article', icon='refresh', style=ButtonStyle()), IntSlider(value=0, max=59), Label(value='1/60'))), Output()))"
      ]
     },
     "metadata": {},
     "output_type": "display_data"
    },
    {
     "data": {
      "application/javascript": [
       "$('span:contains(\"# Temp\")').closest('.cell').remove();"
      ],
      "text/plain": [
       "<IPython.core.display.Javascript object>"
      ]
     },
     "metadata": {},
     "output_type": "display_data"
    },
    {
     "data": {
      "application/javascript": [
       "\n",
       "        $('span:contains(\"# Temp\")').closest('.cell').remove();\n",
       "        var code = IPython.notebook.insert_cell_below('code');\n",
       "        var prompt = code.element.find(\".input_prompt\");\n",
       "        prompt.append('<br><button style=\"height: 100%; width: 54px;\">Run</button>');\n",
       "        prompt.on(\"click\", \"button\", function(){\n",
       "            code.execute();\n",
       "        });\n",
       "        code.set_text(decodeURIComponent(window.atob(\"JTIzJTIwVGVtcCUwQWluc2VydCUyOCUyNyUyNyUyNyUyNyUyNyUyNyUyOSUzQiUwQXNldF9hdHRyaWJ1dGUlMjglMjdqYWtvYnNlbjIwMDhhJTI3JTJDJTIwJTI3c2Nob2xhcjIwMTYlMjclMkMlMjAlMjcxJTI3JTI5JTNC\")));\n",
       "    "
      ],
      "text/plain": [
       "<IPython.core.display.Javascript object>"
      ]
     },
     "metadata": {},
     "output_type": "display_data"
    },
    {
     "data": {
      "application/javascript": [
       "$('span:contains(\"# Temp\")').closest('.cell').remove();"
      ],
      "text/plain": [
       "<IPython.core.display.Javascript object>"
      ]
     },
     "metadata": {},
     "output_type": "display_data"
    },
    {
     "data": {
      "application/javascript": [
       "\n",
       "        $('span:contains(\"# Temp\")').closest('.cell').remove();\n",
       "        var code = IPython.notebook.insert_cell_below('code');\n",
       "        var prompt = code.element.find(\".input_prompt\");\n",
       "        prompt.append('<br><button style=\"height: 100%; width: 54px;\">Run</button>');\n",
       "        prompt.on(\"click\", \"button\", function(){\n",
       "            code.execute();\n",
       "        });\n",
       "        code.set_text(decodeURIComponent(window.atob(\"JTIzJTIwVGVtcCUwQWluc2VydCUyOCUyNyUyNyUyNyUyNyUyNyUyNyUyOSUzQiUwQXNldF9hdHRyaWJ1dGUlMjglMjdmaXR6Z2VyYWxkMjAxM2ElMjclMkMlMjAlMjdvcmdhbml6YXRpb24lMjclMkMlMjAlMjdJRUVFJTIwUHJlc3MlMjclMjklM0IlMEFzZXRfYXR0cmlidXRlJTI4JTI3Zml0emdlcmFsZDIwMTNhJTI3JTJDJTIwJTI3c2Nob2xhcjIwMTYlMjclMkMlMjAlMjcxJTI3JTI5JTNC\")));\n",
       "    "
      ],
      "text/plain": [
       "<IPython.core.display.Javascript object>"
      ]
     },
     "metadata": {},
     "output_type": "display_data"
    },
    {
     "data": {
      "application/javascript": [
       "$('span:contains(\"# Temp\")').closest('.cell').remove();"
      ],
      "text/plain": [
       "<IPython.core.display.Javascript object>"
      ]
     },
     "metadata": {},
     "output_type": "display_data"
    },
    {
     "data": {
      "application/javascript": [
       "\n",
       "        $('span:contains(\"# Temp\")').closest('.cell').remove();\n",
       "        var code = IPython.notebook.insert_cell_below('code');\n",
       "        var prompt = code.element.find(\".input_prompt\");\n",
       "        prompt.append('<br><button style=\"height: 100%; width: 54px;\">Run</button>');\n",
       "        prompt.on(\"click\", \"button\", function(){\n",
       "            code.execute();\n",
       "        });\n",
       "        code.set_text(decodeURIComponent(window.atob(\"JTIzJTIwVGVtcCUwQWluc2VydCUyOCUyNyUyNyUyNyUyNyUyNyUyNyUyOSUzQiUwQXNldF9hdHRyaWJ1dGUlMjglMjdmaXR6Z2VyYWxkMjAxM2ElMjclMkMlMjAlMjdvcmdhbml6YXRpb24lMjclMkMlMjAlMjdJRUVFJTIwUHJlc3MlMjclMjklM0IlMEFzZXRfYXR0cmlidXRlJTI4JTI3Zml0emdlcmFsZDIwMTNhJTI3JTJDJTIwJTI3c2Nob2xhcjIwMTYlMjclMkMlMjAlMjcxJTI3JTI5JTNC\")));\n",
       "    "
      ],
      "text/plain": [
       "<IPython.core.display.Javascript object>"
      ]
     },
     "metadata": {},
     "output_type": "display_data"
    },
    {
     "data": {
      "application/javascript": [
       "$('span:contains(\"# Temp\")').closest('.cell').remove();"
      ],
      "text/plain": [
       "<IPython.core.display.Javascript object>"
      ]
     },
     "metadata": {},
     "output_type": "display_data"
    },
    {
     "data": {
      "application/javascript": [
       "\n",
       "        $('span:contains(\"# Temp\")').closest('.cell').remove();\n",
       "        var code = IPython.notebook.insert_cell_below('code');\n",
       "        var prompt = code.element.find(\".input_prompt\");\n",
       "        prompt.append('<br><button style=\"height: 100%; width: 54px;\">Run</button>');\n",
       "        prompt.on(\"click\", \"button\", function(){\n",
       "            code.execute();\n",
       "        });\n",
       "        code.set_text(decodeURIComponent(window.atob(\"JTIzJTIwVGVtcCUwQWluc2VydCUyOCUyNyUyNyUyNyUwQWNvbmJveTIwMDRhJTIwJTNEJTIwREIlMjhXb3JrVW5yZWxhdGVkJTI4JTBBJTIwJTIwJTIwJTIwMjAwNCUyQyUyMCUyMlRvd2FyZCUyMGElMjBjb25jZXB0dWFsJTIwZnJhbWV3b3JrJTIwb2YlMjBhZ2lsZSUyMG1ldGhvZHMlM0ElMjBhJTIwc3R1ZHklMjBvZiUyMGFnaWxpdHklMjBpbiUyMGRpZmZlcmVudCUyMGRpc2NpcGxpbmVzJTIyJTJDJTBBJTIwJTIwJTIwJTIwZGlzcGxheSUzRCUyMmNvbmJveSUyMiUyQyUwQSUyMCUyMCUyMCUyMGF1dGhvcnMlM0QlMjJDb25ib3klMkMlMjBLaWVyYW4lMjBhbmQlMjBGaXR6Z2VyYWxkJTJDJTIwQnJpYW4lMjIlMkMlMEElMjAlMjAlMjAlMjBwbGFjZSUzREZBS0UlMkMlMEElMjAlMjAlMjAlMjBwcCUzRCUyMjM3LS00NCUyMiUyQyUwQSUyMCUyMCUyMCUyMGVudHJ5dHlwZSUzRCUyMmlucHJvY2VlZGluZ3MlMjIlMkMlMEElMjAlMjAlMjAlMjBvcmdhbml6YXRpb24lM0QlMjJBQ00lMjIlMkMlMEElMjAlMjAlMjAlMjBJRCUzRCUyMmNvbmJveTIwMDR0b3dhcmQlMjIlMkMlMEElMjAlMjAlMjAlMjBzY2hvbGFyMjAxNiUzRCUyMjElMjIlMkMlMEElMjAlMjAlMjAlMjBwbGFjZXglM0QlMjJQcm9jZWVkaW5ncyUyMG9mJTIwdGhlJTIwMjAwNCUyMEFDTSUyMHdvcmtzaG9wJTIwb24lMjBJbnRlcmRpc2NpcGxpbmFyeSUyMHNvZnR3YXJlJTIwZW5naW5lZXJpbmclMjByZXNlYXJjaCUyMiUyQyUwQSUyOSUyOSUwQSUyNyUyNyUyNyUyOSUzQg==\")));\n",
       "    "
      ],
      "text/plain": [
       "<IPython.core.display.Javascript object>"
      ]
     },
     "metadata": {},
     "output_type": "display_data"
    },
    {
     "data": {
      "application/javascript": [
       "$('span:contains(\"# Temp\")').closest('.cell').remove();"
      ],
      "text/plain": [
       "<IPython.core.display.Javascript object>"
      ]
     },
     "metadata": {},
     "output_type": "display_data"
    },
    {
     "data": {
      "application/javascript": [
       "\n",
       "        $('span:contains(\"# Temp\")').closest('.cell').remove();\n",
       "        var code = IPython.notebook.insert_cell_below('code');\n",
       "        var prompt = code.element.find(\".input_prompt\");\n",
       "        prompt.append('<br><button style=\"height: 100%; width: 54px;\">Run</button>');\n",
       "        prompt.on(\"click\", \"button\", function(){\n",
       "            code.execute();\n",
       "        });\n",
       "        code.set_text(decodeURIComponent(window.atob(\"JTIzJTIwVGVtcCUwQWluc2VydCUyOCUyNyUyNyUyNyUwQWNvbmJveTIwMDRhJTIwJTNEJTIwREIlMjhXb3JrVW5yZWxhdGVkJTI4JTBBJTIwJTIwJTIwJTIwMjAwNCUyQyUyMCUyMlRvd2FyZCUyMGElMjBjb25jZXB0dWFsJTIwZnJhbWV3b3JrJTIwb2YlMjBhZ2lsZSUyMG1ldGhvZHMlM0ElMjBhJTIwc3R1ZHklMjBvZiUyMGFnaWxpdHklMjBpbiUyMGRpZmZlcmVudCUyMGRpc2NpcGxpbmVzJTIyJTJDJTBBJTIwJTIwJTIwJTIwZGlzcGxheSUzRCUyMmNvbmJveSUyMiUyQyUwQSUyMCUyMCUyMCUyMGF1dGhvcnMlM0QlMjJDb25ib3klMkMlMjBLaWVyYW4lMjBhbmQlMjBGaXR6Z2VyYWxkJTJDJTIwQnJpYW4lMjIlMkMlMEElMjAlMjAlMjAlMjBwbGFjZSUzREZBS0UlMkMlMEElMjAlMjAlMjAlMjBwcCUzRCUyMjM3LS00NCUyMiUyQyUwQSUyMCUyMCUyMCUyMGVudHJ5dHlwZSUzRCUyMmlucHJvY2VlZGluZ3MlMjIlMkMlMEElMjAlMjAlMjAlMjBvcmdhbml6YXRpb24lM0QlMjJBQ00lMjIlMkMlMEElMjAlMjAlMjAlMjBJRCUzRCUyMmNvbmJveTIwMDR0b3dhcmQlMjIlMkMlMEElMjAlMjAlMjAlMjBzY2hvbGFyMjAxNiUzRCUyMjElMjIlMkMlMEElMjAlMjAlMjAlMjBwbGFjZXglM0QlMjJQcm9jZWVkaW5ncyUyMG9mJTIwdGhlJTIwMjAwNCUyMEFDTSUyMHdvcmtzaG9wJTIwb24lMjBJbnRlcmRpc2NpcGxpbmFyeSUyMHNvZnR3YXJlJTIwZW5naW5lZXJpbmclMjByZXNlYXJjaCUyMiUyQyUwQSUyOSUyOSUwQSUyNyUyNyUyNyUyOSUzQg==\")));\n",
       "    "
      ],
      "text/plain": [
       "<IPython.core.display.Javascript object>"
      ]
     },
     "metadata": {},
     "output_type": "display_data"
    },
    {
     "data": {
      "application/javascript": [
       "$('span:contains(\"# Temp\")').closest('.cell').remove();"
      ],
      "text/plain": [
       "<IPython.core.display.Javascript object>"
      ]
     },
     "metadata": {},
     "output_type": "display_data"
    },
    {
     "data": {
      "application/javascript": [
       "\n",
       "        $('span:contains(\"# Temp\")').closest('.cell').remove();\n",
       "        var code = IPython.notebook.insert_cell_below('code');\n",
       "        var prompt = code.element.find(\".input_prompt\");\n",
       "        prompt.append('<br><button style=\"height: 100%; width: 54px;\">Run</button>');\n",
       "        prompt.on(\"click\", \"button\", function(){\n",
       "            code.execute();\n",
       "        });\n",
       "        code.set_text(decodeURIComponent(window.atob(\"JTIzJTIwVGVtcCUwQWluc2VydCUyOCUyNyUyNyUyNyUwQWxhYW50aTIwMDhhJTIwJTNEJTIwREIlMjhXb3JrVW5yZWxhdGVkJTI4JTBBJTIwJTIwJTIwJTIwMjAwOCUyQyUyMCUyMkltcGxlbWVudGluZyUyMHByb2dyYW0lMjBtb2RlbCUyMHdpdGglMjBhZ2lsZSUyMHByaW5jaXBsZXMlMjBpbiUyMGElMjBsYXJnZSUyMHNvZnR3YXJlJTIwZGV2ZWxvcG1lbnQlMjBvcmdhbml6YXRpb24lMjIlMkMlMEElMjAlMjAlMjAlMjBkaXNwbGF5JTNEJTIybGFhbnRpJTIyJTJDJTBBJTIwJTIwJTIwJTIwYXV0aG9ycyUzRCUyMkxhYW50aSUyQyUyME1hYXJpdCUyMiUyQyUwQSUyMCUyMCUyMCUyMHBsYWNlJTNERkFLRSUyQyUwQSUyMCUyMCUyMCUyMHBwJTNEJTIyMTM4My0tMTM5MSUyMiUyQyUwQSUyMCUyMCUyMCUyMGVudHJ5dHlwZSUzRCUyMmlucHJvY2VlZGluZ3MlMjIlMkMlMEElMjAlMjAlMjAlMjBvcmdhbml6YXRpb24lM0QlMjJJRUVFJTIyJTJDJTBBJTIwJTIwJTIwJTIwSUQlM0QlMjJsYWFudGkyMDA4aW1wbGVtZW50aW5nJTIyJTJDJTBBJTIwJTIwJTIwJTIwc2Nob2xhcjIwMTYlM0QlMjIxJTIyJTJDJTBBJTIwJTIwJTIwJTIwcGxhY2V4JTNEJTIyQ29tcHV0ZXIlMjBTb2Z0d2FyZSUyMGFuZCUyMEFwcGxpY2F0aW9ucyUyQyUyMDIwMDguJTIwQ09NUFNBQyUyNzA4LiUyMDMybmQlMjBBbm51YWwlMjBJRUVFJTIwSW50ZXJuYXRpb25hbCUyMiUyQyUwQSUyOSUyOSUwQSUyNyUyNyUyNyUyOSUzQg==\")));\n",
       "    "
      ],
      "text/plain": [
       "<IPython.core.display.Javascript object>"
      ]
     },
     "metadata": {},
     "output_type": "display_data"
    },
    {
     "data": {
      "application/javascript": [
       "$('span:contains(\"# Temp\")').closest('.cell').remove();"
      ],
      "text/plain": [
       "<IPython.core.display.Javascript object>"
      ]
     },
     "metadata": {},
     "output_type": "display_data"
    },
    {
     "data": {
      "application/javascript": [
       "\n",
       "        $('span:contains(\"# Temp\")').closest('.cell').remove();\n",
       "        var code = IPython.notebook.insert_cell_below('code');\n",
       "        var prompt = code.element.find(\".input_prompt\");\n",
       "        prompt.append('<br><button style=\"height: 100%; width: 54px;\">Run</button>');\n",
       "        prompt.on(\"click\", \"button\", function(){\n",
       "            code.execute();\n",
       "        });\n",
       "        code.set_text(decodeURIComponent(window.atob(\"JTIzJTIwVGVtcCUwQWluc2VydCUyOCUyNyUyNyUyNyUwQWxhYW50aTIwMDhhJTIwJTNEJTIwREIlMjhXb3JrVW5yZWxhdGVkJTI4JTBBJTIwJTIwJTIwJTIwMjAwOCUyQyUyMCUyMkltcGxlbWVudGluZyUyMHByb2dyYW0lMjBtb2RlbCUyMHdpdGglMjBhZ2lsZSUyMHByaW5jaXBsZXMlMjBpbiUyMGElMjBsYXJnZSUyMHNvZnR3YXJlJTIwZGV2ZWxvcG1lbnQlMjBvcmdhbml6YXRpb24lMjIlMkMlMEElMjAlMjAlMjAlMjBkaXNwbGF5JTNEJTIybGFhbnRpJTIyJTJDJTBBJTIwJTIwJTIwJTIwYXV0aG9ycyUzRCUyMkxhYW50aSUyQyUyME1hYXJpdCUyMiUyQyUwQSUyMCUyMCUyMCUyMHBsYWNlJTNERkFLRSUyQyUwQSUyMCUyMCUyMCUyMHBwJTNEJTIyMTM4My0tMTM5MSUyMiUyQyUwQSUyMCUyMCUyMCUyMGVudHJ5dHlwZSUzRCUyMmlucHJvY2VlZGluZ3MlMjIlMkMlMEElMjAlMjAlMjAlMjBvcmdhbml6YXRpb24lM0QlMjJJRUVFJTIyJTJDJTBBJTIwJTIwJTIwJTIwSUQlM0QlMjJsYWFudGkyMDA4aW1wbGVtZW50aW5nJTIyJTJDJTBBJTIwJTIwJTIwJTIwc2Nob2xhcjIwMTYlM0QlMjIxJTIyJTJDJTBBJTIwJTIwJTIwJTIwcGxhY2V4JTNEJTIyQ29tcHV0ZXIlMjBTb2Z0d2FyZSUyMGFuZCUyMEFwcGxpY2F0aW9ucyUyQyUyMDIwMDguJTIwQ09NUFNBQyUyNzA4LiUyMDMybmQlMjBBbm51YWwlMjBJRUVFJTIwSW50ZXJuYXRpb25hbCUyMiUyQyUwQSUyOSUyOSUwQSUyNyUyNyUyNyUyOSUzQg==\")));\n",
       "    "
      ],
      "text/plain": [
       "<IPython.core.display.Javascript object>"
      ]
     },
     "metadata": {},
     "output_type": "display_data"
    },
    {
     "data": {
      "application/javascript": [
       "$('span:contains(\"# Temp\")').closest('.cell').remove();"
      ],
      "text/plain": [
       "<IPython.core.display.Javascript object>"
      ]
     },
     "metadata": {},
     "output_type": "display_data"
    },
    {
     "data": {
      "application/javascript": [
       "\n",
       "        $('span:contains(\"# Temp\")').closest('.cell').remove();\n",
       "        var code = IPython.notebook.insert_cell_below('code');\n",
       "        var prompt = code.element.find(\".input_prompt\");\n",
       "        prompt.append('<br><button style=\"height: 100%; width: 54px;\">Run</button>');\n",
       "        prompt.on(\"click\", \"button\", function(){\n",
       "            code.execute();\n",
       "        });\n",
       "        code.set_text(decodeURIComponent(window.atob(\"JTIzJTIwVGVtcCUwQWluc2VydCUyOCUyNyUyNyUyNyUyNyUyNyUyNyUyOSUzQiUwQXNldF9hdHRyaWJ1dGUlMjglMjdjaG93MjAwOGElMjclMkMlMjAlMjdwdWJsaXNoZXIlMjclMkMlMjAlMjdFbHNldmllciUyNyUyOSUzQiUwQXNldF9hdHRyaWJ1dGUlMjglMjdjaG93MjAwOGElMjclMkMlMjAlMjdzY2hvbGFyMjAxNiUyNyUyQyUyMCUyNzElMjclMjklM0I=\")));\n",
       "    "
      ],
      "text/plain": [
       "<IPython.core.display.Javascript object>"
      ]
     },
     "metadata": {},
     "output_type": "display_data"
    },
    {
     "data": {
      "application/javascript": [
       "$('span:contains(\"# Temp\")').closest('.cell').remove();"
      ],
      "text/plain": [
       "<IPython.core.display.Javascript object>"
      ]
     },
     "metadata": {},
     "output_type": "display_data"
    },
    {
     "data": {
      "application/javascript": [
       "\n",
       "        $('span:contains(\"# Temp\")').closest('.cell').remove();\n",
       "        var code = IPython.notebook.insert_cell_below('code');\n",
       "        var prompt = code.element.find(\".input_prompt\");\n",
       "        prompt.append('<br><button style=\"height: 100%; width: 54px;\">Run</button>');\n",
       "        prompt.on(\"click\", \"button\", function(){\n",
       "            code.execute();\n",
       "        });\n",
       "        code.set_text(decodeURIComponent(window.atob(\"JTIzJTIwVGVtcCUwQWluc2VydCUyOCUyNyUyNyUyNyUyNyUyNyUyNyUyOSUzQiUwQXNldF9hdHRyaWJ1dGUlMjglMjdjaG93MjAwOGElMjclMkMlMjAlMjdwdWJsaXNoZXIlMjclMkMlMjAlMjdFbHNldmllciUyNyUyOSUzQiUwQXNldF9hdHRyaWJ1dGUlMjglMjdjaG93MjAwOGElMjclMkMlMjAlMjdzY2hvbGFyMjAxNiUyNyUyQyUyMCUyNzElMjclMjklM0I=\")));\n",
       "    "
      ],
      "text/plain": [
       "<IPython.core.display.Javascript object>"
      ]
     },
     "metadata": {},
     "output_type": "display_data"
    },
    {
     "data": {
      "application/javascript": [
       "$('span:contains(\"# Temp\")').closest('.cell').remove();"
      ],
      "text/plain": [
       "<IPython.core.display.Javascript object>"
      ]
     },
     "metadata": {},
     "output_type": "display_data"
    },
    {
     "data": {
      "application/javascript": [
       "\n",
       "        $('span:contains(\"# Temp\")').closest('.cell').remove();\n",
       "        var code = IPython.notebook.insert_cell_below('code');\n",
       "        var prompt = code.element.find(\".input_prompt\");\n",
       "        prompt.append('<br><button style=\"height: 100%; width: 54px;\">Run</button>');\n",
       "        prompt.on(\"click\", \"button\", function(){\n",
       "            code.execute();\n",
       "        });\n",
       "        code.set_text(decodeURIComponent(window.atob(\"JTIzJTIwVGVtcCUwQWluc2VydCUyOCUyNyUyNyUyNyUwQWViZXJsZWluMjAwMmElMjAlM0QlMjBEQiUyOFdvcmtVbnJlbGF0ZWQlMjglMEElMjAlMjAlMjAlMjAyMDAyJTJDJTIwJTIyQWdpbGUlMjByZXF1aXJlbWVudHMlMjBkZWZpbml0aW9uJTNBJTIwQSUyMHZpZXclMjBmcm9tJTIwcmVxdWlyZW1lbnRzJTIwZW5naW5lZXJpbmclMjIlMkMlMEElMjAlMjAlMjAlMjBkaXNwbGF5JTNEJTIyZWJlcmxlaW4lMjIlMkMlMEElMjAlMjAlMjAlMjBhdXRob3JzJTNEJTIyRWJlcmxlaW4lMkMlMjBBcm1pbiUyMGFuZCUyMExlaXRlJTJDJTIwSkNTUCUyMiUyQyUwQSUyMCUyMCUyMCUyMHBsYWNlJTNERkFLRSUyQyUwQSUyMCUyMCUyMCUyMHBwJTNEJTIyNC0tOCUyMiUyQyUwQSUyMCUyMCUyMCUyMGVudHJ5dHlwZSUzRCUyMmlucHJvY2VlZGluZ3MlMjIlMkMlMEElMjAlMjAlMjAlMjBJRCUzRCUyMmViZXJsZWluMjAwMmFnaWxlJTIyJTJDJTBBJTIwJTIwJTIwJTIwc2Nob2xhcjIwMTYlM0QlMjIxJTIyJTJDJTBBJTIwJTIwJTIwJTIwcGxhY2V4JTNEJTIyUHJvY2VlZGluZ3MlMjBvZiUyMHRoZSUyMEludGVybmF0aW9uYWwlMjBXb3Jrc2hvcCUyMG9uJTIwVGltZS1Db25zdHJhaW5lZCUyMFJlcXVpcmVtZW50cyUyMEVuZ2luZWVyaW5nJTIwJTI4VENSRSVFMiU4MCU5OTAyJTI5JTIyJTJDJTBBJTI5JTI5JTBBJTI3JTI3JTI3JTI5JTNC\")));\n",
       "    "
      ],
      "text/plain": [
       "<IPython.core.display.Javascript object>"
      ]
     },
     "metadata": {},
     "output_type": "display_data"
    },
    {
     "data": {
      "application/javascript": [
       "$('span:contains(\"# Temp\")').closest('.cell').remove();"
      ],
      "text/plain": [
       "<IPython.core.display.Javascript object>"
      ]
     },
     "metadata": {},
     "output_type": "display_data"
    },
    {
     "data": {
      "application/javascript": [
       "\n",
       "        $('span:contains(\"# Temp\")').closest('.cell').remove();\n",
       "        var code = IPython.notebook.insert_cell_below('code');\n",
       "        var prompt = code.element.find(\".input_prompt\");\n",
       "        prompt.append('<br><button style=\"height: 100%; width: 54px;\">Run</button>');\n",
       "        prompt.on(\"click\", \"button\", function(){\n",
       "            code.execute();\n",
       "        });\n",
       "        code.set_text(decodeURIComponent(window.atob(\"JTIzJTIwVGVtcCUwQWluc2VydCUyOCUyNyUyNyUyNyUwQWViZXJsZWluMjAwMmElMjAlM0QlMjBEQiUyOFdvcmtVbnJlbGF0ZWQlMjglMEElMjAlMjAlMjAlMjAyMDAyJTJDJTIwJTIyQWdpbGUlMjByZXF1aXJlbWVudHMlMjBkZWZpbml0aW9uJTNBJTIwQSUyMHZpZXclMjBmcm9tJTIwcmVxdWlyZW1lbnRzJTIwZW5naW5lZXJpbmclMjIlMkMlMEElMjAlMjAlMjAlMjBkaXNwbGF5JTNEJTIyZWJlcmxlaW4lMjIlMkMlMEElMjAlMjAlMjAlMjBhdXRob3JzJTNEJTIyRWJlcmxlaW4lMkMlMjBBcm1pbiUyMGFuZCUyMExlaXRlJTJDJTIwSkNTUCUyMiUyQyUwQSUyMCUyMCUyMCUyMHBsYWNlJTNERkFLRSUyQyUwQSUyMCUyMCUyMCUyMHBwJTNEJTIyNC0tOCUyMiUyQyUwQSUyMCUyMCUyMCUyMGVudHJ5dHlwZSUzRCUyMmlucHJvY2VlZGluZ3MlMjIlMkMlMEElMjAlMjAlMjAlMjBJRCUzRCUyMmViZXJsZWluMjAwMmFnaWxlJTIyJTJDJTBBJTIwJTIwJTIwJTIwc2Nob2xhcjIwMTYlM0QlMjIxJTIyJTJDJTBBJTIwJTIwJTIwJTIwcGxhY2V4JTNEJTIyUHJvY2VlZGluZ3MlMjBvZiUyMHRoZSUyMEludGVybmF0aW9uYWwlMjBXb3Jrc2hvcCUyMG9uJTIwVGltZS1Db25zdHJhaW5lZCUyMFJlcXVpcmVtZW50cyUyMEVuZ2luZWVyaW5nJTIwJTI4VENSRSVFMiU4MCU5OTAyJTI5JTIyJTJDJTBBJTI5JTI5JTBBJTI3JTI3JTI3JTI5JTNC\")));\n",
       "    "
      ],
      "text/plain": [
       "<IPython.core.display.Javascript object>"
      ]
     },
     "metadata": {},
     "output_type": "display_data"
    },
    {
     "data": {
      "application/javascript": [
       "$('span:contains(\"# Temp\")').closest('.cell').remove();"
      ],
      "text/plain": [
       "<IPython.core.display.Javascript object>"
      ]
     },
     "metadata": {},
     "output_type": "display_data"
    },
    {
     "data": {
      "application/javascript": [
       "\n",
       "        $('span:contains(\"# Temp\")').closest('.cell').remove();\n",
       "        var code = IPython.notebook.insert_cell_below('code');\n",
       "        var prompt = code.element.find(\".input_prompt\");\n",
       "        prompt.append('<br><button style=\"height: 100%; width: 54px;\">Run</button>');\n",
       "        prompt.on(\"click\", \"button\", function(){\n",
       "            code.execute();\n",
       "        });\n",
       "        code.set_text(decodeURIComponent(window.atob(\"JTIzJTIwVGVtcCUwQWluc2VydCUyOCUyNyUyNyUyNyUyNyUyNyUyNyUyOSUzQiUwQXNldF9hdHRyaWJ1dGUlMjglMjdjb29wZXIyMDE2YiUyNyUyQyUyMCUyN3NjaG9sYXIyMDE2JTI3JTJDJTIwJTI3MSUyNyUyOSUzQg==\")));\n",
       "    "
      ],
      "text/plain": [
       "<IPython.core.display.Javascript object>"
      ]
     },
     "metadata": {},
     "output_type": "display_data"
    },
    {
     "data": {
      "application/javascript": [
       "$('span:contains(\"# Temp\")').closest('.cell').remove();"
      ],
      "text/plain": [
       "<IPython.core.display.Javascript object>"
      ]
     },
     "metadata": {},
     "output_type": "display_data"
    },
    {
     "data": {
      "application/javascript": [
       "\n",
       "        $('span:contains(\"# Temp\")').closest('.cell').remove();\n",
       "        var code = IPython.notebook.insert_cell_below('code');\n",
       "        var prompt = code.element.find(\".input_prompt\");\n",
       "        prompt.append('<br><button style=\"height: 100%; width: 54px;\">Run</button>');\n",
       "        prompt.on(\"click\", \"button\", function(){\n",
       "            code.execute();\n",
       "        });\n",
       "        code.set_text(decodeURIComponent(window.atob(\"JTIzJTIwVGVtcCUwQWluc2VydCUyOCUyNyUyNyUyNyUyNyUyNyUyNyUyOSUzQiUwQXNldF9hdHRyaWJ1dGUlMjglMjdjb29wZXIyMDE2YiUyNyUyQyUyMCUyN3NjaG9sYXIyMDE2JTI3JTJDJTIwJTI3MSUyNyUyOSUzQg==\")));\n",
       "    "
      ],
      "text/plain": [
       "<IPython.core.display.Javascript object>"
      ]
     },
     "metadata": {},
     "output_type": "display_data"
    },
    {
     "data": {
      "application/javascript": [
       "$('span:contains(\"# Temp\")').closest('.cell').remove();"
      ],
      "text/plain": [
       "<IPython.core.display.Javascript object>"
      ]
     },
     "metadata": {},
     "output_type": "display_data"
    },
    {
     "data": {
      "application/javascript": [
       "\n",
       "        $('span:contains(\"# Temp\")').closest('.cell').remove();\n",
       "        var code = IPython.notebook.insert_cell_below('code');\n",
       "        var prompt = code.element.find(\".input_prompt\");\n",
       "        prompt.append('<br><button style=\"height: 100%; width: 54px;\">Run</button>');\n",
       "        prompt.on(\"click\", \"button\", function(){\n",
       "            code.execute();\n",
       "        });\n",
       "        code.set_text(decodeURIComponent(window.atob(\"JTIzJTIwVGVtcCUwQWluc2VydCUyOCUyNyUyNyUyNyUyNyUyNyUyNyUyOSUzQiUwQXNldF9hdHRyaWJ1dGUlMjglMjdiZWNrMjAwMWElMjclMkMlMjAlMjdzY2hvbGFyMjAxNiUyNyUyQyUyMCUyNzElMjclMjklM0I=\")));\n",
       "    "
      ],
      "text/plain": [
       "<IPython.core.display.Javascript object>"
      ]
     },
     "metadata": {},
     "output_type": "display_data"
    },
    {
     "data": {
      "application/javascript": [
       "$('span:contains(\"# Temp\")').closest('.cell').remove();"
      ],
      "text/plain": [
       "<IPython.core.display.Javascript object>"
      ]
     },
     "metadata": {},
     "output_type": "display_data"
    },
    {
     "data": {
      "application/javascript": [
       "\n",
       "        $('span:contains(\"# Temp\")').closest('.cell').remove();\n",
       "        var code = IPython.notebook.insert_cell_below('code');\n",
       "        var prompt = code.element.find(\".input_prompt\");\n",
       "        prompt.append('<br><button style=\"height: 100%; width: 54px;\">Run</button>');\n",
       "        prompt.on(\"click\", \"button\", function(){\n",
       "            code.execute();\n",
       "        });\n",
       "        code.set_text(decodeURIComponent(window.atob(\"JTIzJTIwVGVtcCUwQWluc2VydCUyOCUyNyUyNyUyNyUyNyUyNyUyNyUyOSUzQiUwQXNldF9hdHRyaWJ1dGUlMjglMjdiZWNrMjAwMWElMjclMkMlMjAlMjdzY2hvbGFyMjAxNiUyNyUyQyUyMCUyNzElMjclMjklM0I=\")));\n",
       "    "
      ],
      "text/plain": [
       "<IPython.core.display.Javascript object>"
      ]
     },
     "metadata": {},
     "output_type": "display_data"
    },
    {
     "data": {
      "application/javascript": [
       "$('span:contains(\"# Temp\")').closest('.cell').remove();"
      ],
      "text/plain": [
       "<IPython.core.display.Javascript object>"
      ]
     },
     "metadata": {},
     "output_type": "display_data"
    },
    {
     "data": {
      "application/javascript": [
       "\n",
       "        $('span:contains(\"# Temp\")').closest('.cell').remove();\n",
       "        var code = IPython.notebook.insert_cell_below('code');\n",
       "        var prompt = code.element.find(\".input_prompt\");\n",
       "        prompt.append('<br><button style=\"height: 100%; width: 54px;\">Run</button>');\n",
       "        prompt.on(\"click\", \"button\", function(){\n",
       "            code.execute();\n",
       "        });\n",
       "        code.set_text(decodeURIComponent(window.atob(\"JTIzJTIwVGVtcCUwQWluc2VydCUyOCUyNyUyNyUyNyUwQWh1bzIwMDRhJTIwJTNEJTIwREIlMjhXb3JrVW5yZWxhdGVkJTI4JTBBJTIwJTIwJTIwJTIwMjAwNCUyQyUyMCUyMlNvZnR3YXJlJTIwcXVhbGl0eSUyMGFuZCUyMGFnaWxlJTIwbWV0aG9kcyUyMiUyQyUwQSUyMCUyMCUyMCUyMGRpc3BsYXklM0QlMjJodW8lMjIlMkMlMEElMjAlMjAlMjAlMjBhdXRob3JzJTNEJTIySHVvJTJDJTIwTWluZyUyMGFuZCUyMFZlcm5lciUyQyUyMEp1bmUlMjBhbmQlMjBaaHUlMkMlMjBMaW1pbmclMjBhbmQlMjBCYWJhciUyQyUyME11aGFtbWFkJTIwQWxpJTIyJTJDJTBBJTIwJTIwJTIwJTIwcGxhY2UlM0RGQUtFJTJDJTBBJTIwJTIwJTIwJTIwcHAlM0QlMjI1MjAtLTUyNSUyMiUyQyUwQSUyMCUyMCUyMCUyMGVudHJ5dHlwZSUzRCUyMmlucHJvY2VlZGluZ3MlMjIlMkMlMEElMjAlMjAlMjAlMjBvcmdhbml6YXRpb24lM0QlMjJJRUVFJTIyJTJDJTBBJTIwJTIwJTIwJTIwSUQlM0QlMjJodW8yMDA0c29mdHdhcmUlMjIlMkMlMEElMjAlMjAlMjAlMjBzY2hvbGFyMjAxNiUzRCUyMjElMjIlMkMlMEElMjAlMjAlMjAlMjBwbGFjZXglM0QlMjJDb21wdXRlciUyMFNvZnR3YXJlJTIwYW5kJTIwQXBwbGljYXRpb25zJTIwQ29uZmVyZW5jZSUyQyUyMDIwMDQuJTIwQ09NUFNBQyUyMDIwMDQuJTIwUHJvY2VlZGluZ3MlMjBvZiUyMHRoZSUyMDI4dGglMjBBbm51YWwlMjBJbnRlcm5hdGlvbmFsJTIyJTJDJTBBJTI5JTI5JTBBJTI3JTI3JTI3JTI5JTNC\")));\n",
       "    "
      ],
      "text/plain": [
       "<IPython.core.display.Javascript object>"
      ]
     },
     "metadata": {},
     "output_type": "display_data"
    },
    {
     "data": {
      "application/javascript": [
       "$('span:contains(\"# Temp\")').closest('.cell').remove();"
      ],
      "text/plain": [
       "<IPython.core.display.Javascript object>"
      ]
     },
     "metadata": {},
     "output_type": "display_data"
    },
    {
     "data": {
      "application/javascript": [
       "\n",
       "        $('span:contains(\"# Temp\")').closest('.cell').remove();\n",
       "        var code = IPython.notebook.insert_cell_below('code');\n",
       "        var prompt = code.element.find(\".input_prompt\");\n",
       "        prompt.append('<br><button style=\"height: 100%; width: 54px;\">Run</button>');\n",
       "        prompt.on(\"click\", \"button\", function(){\n",
       "            code.execute();\n",
       "        });\n",
       "        code.set_text(decodeURIComponent(window.atob(\"JTIzJTIwVGVtcCUwQWluc2VydCUyOCUyNyUyNyUyNyUwQWh1bzIwMDRhJTIwJTNEJTIwREIlMjhXb3JrVW5yZWxhdGVkJTI4JTBBJTIwJTIwJTIwJTIwMjAwNCUyQyUyMCUyMlNvZnR3YXJlJTIwcXVhbGl0eSUyMGFuZCUyMGFnaWxlJTIwbWV0aG9kcyUyMiUyQyUwQSUyMCUyMCUyMCUyMGRpc3BsYXklM0QlMjJodW8lMjIlMkMlMEElMjAlMjAlMjAlMjBhdXRob3JzJTNEJTIySHVvJTJDJTIwTWluZyUyMGFuZCUyMFZlcm5lciUyQyUyMEp1bmUlMjBhbmQlMjBaaHUlMkMlMjBMaW1pbmclMjBhbmQlMjBCYWJhciUyQyUyME11aGFtbWFkJTIwQWxpJTIyJTJDJTBBJTIwJTIwJTIwJTIwcGxhY2UlM0RGQUtFJTJDJTBBJTIwJTIwJTIwJTIwcHAlM0QlMjI1MjAtLTUyNSUyMiUyQyUwQSUyMCUyMCUyMCUyMGVudHJ5dHlwZSUzRCUyMmlucHJvY2VlZGluZ3MlMjIlMkMlMEElMjAlMjAlMjAlMjBvcmdhbml6YXRpb24lM0QlMjJJRUVFJTIyJTJDJTBBJTIwJTIwJTIwJTIwSUQlM0QlMjJodW8yMDA0c29mdHdhcmUlMjIlMkMlMEElMjAlMjAlMjAlMjBzY2hvbGFyMjAxNiUzRCUyMjElMjIlMkMlMEElMjAlMjAlMjAlMjBwbGFjZXglM0QlMjJDb21wdXRlciUyMFNvZnR3YXJlJTIwYW5kJTIwQXBwbGljYXRpb25zJTIwQ29uZmVyZW5jZSUyQyUyMDIwMDQuJTIwQ09NUFNBQyUyMDIwMDQuJTIwUHJvY2VlZGluZ3MlMjBvZiUyMHRoZSUyMDI4dGglMjBBbm51YWwlMjBJbnRlcm5hdGlvbmFsJTIyJTJDJTBBJTI5JTI5JTBBJTI3JTI3JTI3JTI5JTNC\")));\n",
       "    "
      ],
      "text/plain": [
       "<IPython.core.display.Javascript object>"
      ]
     },
     "metadata": {},
     "output_type": "display_data"
    },
    {
     "data": {
      "application/javascript": [
       "$('span:contains(\"# Temp\")').closest('.cell').remove();"
      ],
      "text/plain": [
       "<IPython.core.display.Javascript object>"
      ]
     },
     "metadata": {},
     "output_type": "display_data"
    },
    {
     "data": {
      "application/javascript": [
       "\n",
       "        $('span:contains(\"# Temp\")').closest('.cell').remove();\n",
       "        var code = IPython.notebook.insert_cell_below('code');\n",
       "        var prompt = code.element.find(\".input_prompt\");\n",
       "        prompt.append('<br><button style=\"height: 100%; width: 54px;\">Run</button>');\n",
       "        prompt.on(\"click\", \"button\", function(){\n",
       "            code.execute();\n",
       "        });\n",
       "        code.set_text(decodeURIComponent(window.atob(\"JTIzJTIwVGVtcCUwQWluc2VydCUyOCUyNyUyNyUyNyUyNyUyNyUyNyUyOSUzQiUwQXNldF9hdHRyaWJ1dGUlMjglMjdyaWdieTIwMTZhJTI3JTJDJTIwJTI3c2Nob2xhcjIwMTYlMjclMkMlMjAlMjcxJTI3JTI5JTNC\")));\n",
       "    "
      ],
      "text/plain": [
       "<IPython.core.display.Javascript object>"
      ]
     },
     "metadata": {},
     "output_type": "display_data"
    },
    {
     "data": {
      "application/javascript": [
       "$('span:contains(\"# Temp\")').closest('.cell').remove();"
      ],
      "text/plain": [
       "<IPython.core.display.Javascript object>"
      ]
     },
     "metadata": {},
     "output_type": "display_data"
    },
    {
     "data": {
      "application/javascript": [
       "\n",
       "        $('span:contains(\"# Temp\")').closest('.cell').remove();\n",
       "        var code = IPython.notebook.insert_cell_below('code');\n",
       "        var prompt = code.element.find(\".input_prompt\");\n",
       "        prompt.append('<br><button style=\"height: 100%; width: 54px;\">Run</button>');\n",
       "        prompt.on(\"click\", \"button\", function(){\n",
       "            code.execute();\n",
       "        });\n",
       "        code.set_text(decodeURIComponent(window.atob(\"JTIzJTIwVGVtcCUwQWluc2VydCUyOCUyNyUyNyUyNyUyNyUyNyUyNyUyOSUzQiUwQXNldF9hdHRyaWJ1dGUlMjglMjdyaWdieTIwMTZhJTI3JTJDJTIwJTI3c2Nob2xhcjIwMTYlMjclMkMlMjAlMjcxJTI3JTI5JTNC\")));\n",
       "    "
      ],
      "text/plain": [
       "<IPython.core.display.Javascript object>"
      ]
     },
     "metadata": {},
     "output_type": "display_data"
    },
    {
     "data": {
      "application/javascript": [
       "$('span:contains(\"# Temp\")').closest('.cell').remove();"
      ],
      "text/plain": [
       "<IPython.core.display.Javascript object>"
      ]
     },
     "metadata": {},
     "output_type": "display_data"
    },
    {
     "data": {
      "application/javascript": [
       "\n",
       "        $('span:contains(\"# Temp\")').closest('.cell').remove();\n",
       "        var code = IPython.notebook.insert_cell_below('code');\n",
       "        var prompt = code.element.find(\".input_prompt\");\n",
       "        prompt.append('<br><button style=\"height: 100%; width: 54px;\">Run</button>');\n",
       "        prompt.on(\"click\", \"button\", function(){\n",
       "            code.execute();\n",
       "        });\n",
       "        code.set_text(decodeURIComponent(window.atob(\"JTIzJTIwVGVtcCUwQWluc2VydCUyOCUyNyUyNyUyNyUwQWNvcmFtMjAwNWElMjAlM0QlMjBEQiUyOFdvcmtVbnJlbGF0ZWQlMjglMEElMjAlMjAlMjAlMjAyMDA1JTJDJTIwJTIyVGhlJTIwaW1wYWN0JTIwb2YlMjBhZ2lsZSUyMG1ldGhvZHMlMjBvbiUyMHNvZnR3YXJlJTIwcHJvamVjdCUyMG1hbmFnZW1lbnQlMjIlMkMlMEElMjAlMjAlMjAlMjBkaXNwbGF5JTNEJTIyY29yYW0lMjIlMkMlMEElMjAlMjAlMjAlMjBhdXRob3JzJTNEJTIyQ29yYW0lMkMlMjBNaWNoYWVsJTIwYW5kJTIwQm9obmVyJTJDJTIwU2hhd24lMjIlMkMlMEElMjAlMjAlMjAlMjBwbGFjZSUzREZBS0UlMkMlMEElMjAlMjAlMjAlMjBwcCUzRCUyMjM2My0tMzcwJTIyJTJDJTBBJTIwJTIwJTIwJTIwZW50cnl0eXBlJTNEJTIyaW5wcm9jZWVkaW5ncyUyMiUyQyUwQSUyMCUyMCUyMCUyMG9yZ2FuaXphdGlvbiUzRCUyMklFRUUlMjIlMkMlMEElMjAlMjAlMjAlMjBJRCUzRCUyMmNvcmFtMjAwNWltcGFjdCUyMiUyQyUwQSUyMCUyMCUyMCUyMHNjaG9sYXIyMDE2JTNEJTIyMSUyMiUyQyUwQSUyMCUyMCUyMCUyMHBsYWNleCUzRCUyMkVuZ2luZWVyaW5nJTIwb2YlMjBDb21wdXRlci1CYXNlZCUyMFN5c3RlbXMlMkMlMjAyMDA1LiUyMEVDQlMlMjcwNS4lMjAxMnRoJTIwSUVFRSUyMEludGVybmF0aW9uYWwlMjBDb25mZXJlbmNlJTIwYW5kJTIwV29ya3Nob3BzJTIwb24lMjB0aGUlMjIlMkMlMEElMjklMjklMEElMjclMjclMjclMjklM0I=\")));\n",
       "    "
      ],
      "text/plain": [
       "<IPython.core.display.Javascript object>"
      ]
     },
     "metadata": {},
     "output_type": "display_data"
    },
    {
     "data": {
      "application/javascript": [
       "$('span:contains(\"# Temp\")').closest('.cell').remove();"
      ],
      "text/plain": [
       "<IPython.core.display.Javascript object>"
      ]
     },
     "metadata": {},
     "output_type": "display_data"
    },
    {
     "data": {
      "application/javascript": [
       "\n",
       "        $('span:contains(\"# Temp\")').closest('.cell').remove();\n",
       "        var code = IPython.notebook.insert_cell_below('code');\n",
       "        var prompt = code.element.find(\".input_prompt\");\n",
       "        prompt.append('<br><button style=\"height: 100%; width: 54px;\">Run</button>');\n",
       "        prompt.on(\"click\", \"button\", function(){\n",
       "            code.execute();\n",
       "        });\n",
       "        code.set_text(decodeURIComponent(window.atob(\"JTIzJTIwVGVtcCUwQWluc2VydCUyOCUyNyUyNyUyNyUwQWNvcmFtMjAwNWElMjAlM0QlMjBEQiUyOFdvcmtVbnJlbGF0ZWQlMjglMEElMjAlMjAlMjAlMjAyMDA1JTJDJTIwJTIyVGhlJTIwaW1wYWN0JTIwb2YlMjBhZ2lsZSUyMG1ldGhvZHMlMjBvbiUyMHNvZnR3YXJlJTIwcHJvamVjdCUyMG1hbmFnZW1lbnQlMjIlMkMlMEElMjAlMjAlMjAlMjBkaXNwbGF5JTNEJTIyY29yYW0lMjIlMkMlMEElMjAlMjAlMjAlMjBhdXRob3JzJTNEJTIyQ29yYW0lMkMlMjBNaWNoYWVsJTIwYW5kJTIwQm9obmVyJTJDJTIwU2hhd24lMjIlMkMlMEElMjAlMjAlMjAlMjBwbGFjZSUzREZBS0UlMkMlMEElMjAlMjAlMjAlMjBwcCUzRCUyMjM2My0tMzcwJTIyJTJDJTBBJTIwJTIwJTIwJTIwZW50cnl0eXBlJTNEJTIyaW5wcm9jZWVkaW5ncyUyMiUyQyUwQSUyMCUyMCUyMCUyMG9yZ2FuaXphdGlvbiUzRCUyMklFRUUlMjIlMkMlMEElMjAlMjAlMjAlMjBJRCUzRCUyMmNvcmFtMjAwNWltcGFjdCUyMiUyQyUwQSUyMCUyMCUyMCUyMHNjaG9sYXIyMDE2JTNEJTIyMSUyMiUyQyUwQSUyMCUyMCUyMCUyMHBsYWNleCUzRCUyMkVuZ2luZWVyaW5nJTIwb2YlMjBDb21wdXRlci1CYXNlZCUyMFN5c3RlbXMlMkMlMjAyMDA1LiUyMEVDQlMlMjcwNS4lMjAxMnRoJTIwSUVFRSUyMEludGVybmF0aW9uYWwlMjBDb25mZXJlbmNlJTIwYW5kJTIwV29ya3Nob3BzJTIwb24lMjB0aGUlMjIlMkMlMEElMjklMjklMEElMjclMjclMjclMjklM0I=\")));\n",
       "    "
      ],
      "text/plain": [
       "<IPython.core.display.Javascript object>"
      ]
     },
     "metadata": {},
     "output_type": "display_data"
    },
    {
     "data": {
      "application/javascript": [
       "$('span:contains(\"# Temp\")').closest('.cell').remove();"
      ],
      "text/plain": [
       "<IPython.core.display.Javascript object>"
      ]
     },
     "metadata": {},
     "output_type": "display_data"
    },
    {
     "data": {
      "application/javascript": [
       "\n",
       "        $('span:contains(\"# Temp\")').closest('.cell').remove();\n",
       "        var code = IPython.notebook.insert_cell_below('code');\n",
       "        var prompt = code.element.find(\".input_prompt\");\n",
       "        prompt.append('<br><button style=\"height: 100%; width: 54px;\">Run</button>');\n",
       "        prompt.on(\"click\", \"button\", function(){\n",
       "            code.execute();\n",
       "        });\n",
       "        code.set_text(decodeURIComponent(window.atob(\"JTIzJTIwVGVtcCUwQWluc2VydCUyOCUyNyUyNyUyNyUyNyUyNyUyNyUyOSUzQiUwQXNldF9hdHRyaWJ1dGUlMjglMjdjb29wZXIyMDE2YSUyNyUyQyUyMCUyN3NjaG9sYXIyMDE2JTI3JTJDJTIwJTI3MSUyNyUyOSUzQg==\")));\n",
       "    "
      ],
      "text/plain": [
       "<IPython.core.display.Javascript object>"
      ]
     },
     "metadata": {},
     "output_type": "display_data"
    },
    {
     "data": {
      "application/javascript": [
       "$('span:contains(\"# Temp\")').closest('.cell').remove();"
      ],
      "text/plain": [
       "<IPython.core.display.Javascript object>"
      ]
     },
     "metadata": {},
     "output_type": "display_data"
    },
    {
     "data": {
      "application/javascript": [
       "\n",
       "        $('span:contains(\"# Temp\")').closest('.cell').remove();\n",
       "        var code = IPython.notebook.insert_cell_below('code');\n",
       "        var prompt = code.element.find(\".input_prompt\");\n",
       "        prompt.append('<br><button style=\"height: 100%; width: 54px;\">Run</button>');\n",
       "        prompt.on(\"click\", \"button\", function(){\n",
       "            code.execute();\n",
       "        });\n",
       "        code.set_text(decodeURIComponent(window.atob(\"JTIzJTIwVGVtcCUwQWluc2VydCUyOCUyNyUyNyUyNyUyNyUyNyUyNyUyOSUzQiUwQXNldF9hdHRyaWJ1dGUlMjglMjdjb29wZXIyMDE2YSUyNyUyQyUyMCUyN3NjaG9sYXIyMDE2JTI3JTJDJTIwJTI3MSUyNyUyOSUzQg==\")));\n",
       "    "
      ],
      "text/plain": [
       "<IPython.core.display.Javascript object>"
      ]
     },
     "metadata": {},
     "output_type": "display_data"
    },
    {
     "data": {
      "application/javascript": [
       "$('span:contains(\"# Temp\")').closest('.cell').remove();"
      ],
      "text/plain": [
       "<IPython.core.display.Javascript object>"
      ]
     },
     "metadata": {},
     "output_type": "display_data"
    },
    {
     "data": {
      "application/javascript": [
       "\n",
       "        $('span:contains(\"# Temp\")').closest('.cell').remove();\n",
       "        var code = IPython.notebook.insert_cell_below('code');\n",
       "        var prompt = code.element.find(\".input_prompt\");\n",
       "        prompt.append('<br><button style=\"height: 100%; width: 54px;\">Run</button>');\n",
       "        prompt.on(\"click\", \"button\", function(){\n",
       "            code.execute();\n",
       "        });\n",
       "        code.set_text(decodeURIComponent(window.atob(\"JTIzJTIwVGVtcCUwQWluc2VydCUyOCUyNyUyNyUyNyUyNyUyNyUyNyUyOSUzQiUwQXNldF9hdHRyaWJ1dGUlMjglMjdob2RhMjAxMWElMjclMkMlMjAlMjdzY2hvbGFyMjAxNiUyNyUyQyUyMCUyNzElMjclMjklM0I=\")));\n",
       "    "
      ],
      "text/plain": [
       "<IPython.core.display.Javascript object>"
      ]
     },
     "metadata": {},
     "output_type": "display_data"
    },
    {
     "data": {
      "application/javascript": [
       "$('span:contains(\"# Temp\")').closest('.cell').remove();"
      ],
      "text/plain": [
       "<IPython.core.display.Javascript object>"
      ]
     },
     "metadata": {},
     "output_type": "display_data"
    },
    {
     "data": {
      "application/javascript": [
       "\n",
       "        $('span:contains(\"# Temp\")').closest('.cell').remove();\n",
       "        var code = IPython.notebook.insert_cell_below('code');\n",
       "        var prompt = code.element.find(\".input_prompt\");\n",
       "        prompt.append('<br><button style=\"height: 100%; width: 54px;\">Run</button>');\n",
       "        prompt.on(\"click\", \"button\", function(){\n",
       "            code.execute();\n",
       "        });\n",
       "        code.set_text(decodeURIComponent(window.atob(\"JTIzJTIwVGVtcCUwQWluc2VydCUyOCUyNyUyNyUyNyUyNyUyNyUyNyUyOSUzQiUwQXNldF9hdHRyaWJ1dGUlMjglMjdob2RhMjAxMWElMjclMkMlMjAlMjdzY2hvbGFyMjAxNiUyNyUyQyUyMCUyNzElMjclMjklM0I=\")));\n",
       "    "
      ],
      "text/plain": [
       "<IPython.core.display.Javascript object>"
      ]
     },
     "metadata": {},
     "output_type": "display_data"
    },
    {
     "data": {
      "application/javascript": [
       "$('span:contains(\"# Temp\")').closest('.cell').remove();"
      ],
      "text/plain": [
       "<IPython.core.display.Javascript object>"
      ]
     },
     "metadata": {},
     "output_type": "display_data"
    },
    {
     "data": {
      "application/javascript": [
       "\n",
       "        $('span:contains(\"# Temp\")').closest('.cell').remove();\n",
       "        var code = IPython.notebook.insert_cell_below('code');\n",
       "        var prompt = code.element.find(\".input_prompt\");\n",
       "        prompt.append('<br><button style=\"height: 100%; width: 54px;\">Run</button>');\n",
       "        prompt.on(\"click\", \"button\", function(){\n",
       "            code.execute();\n",
       "        });\n",
       "        code.set_text(decodeURIComponent(window.atob(\"JTIzJTIwVGVtcCUwQWluc2VydCUyOCUyNyUyNyUyNyUwQWFicmFoYW1zc29uMjAxN2ElMjAlM0QlMjBEQiUyOFdvcmtVbnJlbGF0ZWQlMjglMEElMjAlMjAlMjAlMjAyMDE3JTJDJTIwJTIyQWdpbGUlMjBzb2Z0d2FyZSUyMGRldmVsb3BtZW50JTIwbWV0aG9kcyUzQSUyMFJldmlldyUyMGFuZCUyMGFuYWx5c2lzJTIyJTJDJTBBJTIwJTIwJTIwJTIwZGlzcGxheSUzRCUyMmFicmFoYW1zc29uJTIyJTJDJTBBJTIwJTIwJTIwJTIwYXV0aG9ycyUzRCUyMkFicmFoYW1zc29uJTJDJTIwUGVra2ElMjBhbmQlMjBTYWxvJTJDJTIwT3V0aSUyMGFuZCUyMFJvbmthaW5lbiUyQyUyMEp1c3NpJTIwYW5kJTIwV2Fyc3RhJTJDJTIwSnVoYW5pJTIyJTJDJTBBJTIwJTIwJTIwJTIwcGxhY2UlM0RGQUtFJTJDJTBBJTIwJTIwJTIwJTIwZW50cnl0eXBlJTNEJTIyYXJ0aWNsZSUyMiUyQyUwQSUyMCUyMCUyMCUyMElEJTNEJTIyYWJyYWhhbXNzb24yMDE3YWdpbGUlMjIlMkMlMEElMjAlMjAlMjAlMjBzY2hvbGFyMjAxNiUzRCUyMjElMjIlMkMlMEElMjAlMjAlMjAlMjBwbGFjZXglM0QlMjJhclhpdiUyMHByZXByaW50JTIwYXJYaXYlM0ExNzA5LjA4NDM5JTIyJTJDJTBBJTI5JTI5JTBBJTI3JTI3JTI3JTI5JTNC\")));\n",
       "    "
      ],
      "text/plain": [
       "<IPython.core.display.Javascript object>"
      ]
     },
     "metadata": {},
     "output_type": "display_data"
    },
    {
     "data": {
      "application/javascript": [
       "$('span:contains(\"# Temp\")').closest('.cell').remove();"
      ],
      "text/plain": [
       "<IPython.core.display.Javascript object>"
      ]
     },
     "metadata": {},
     "output_type": "display_data"
    },
    {
     "data": {
      "application/javascript": [
       "\n",
       "        $('span:contains(\"# Temp\")').closest('.cell').remove();\n",
       "        var code = IPython.notebook.insert_cell_below('code');\n",
       "        var prompt = code.element.find(\".input_prompt\");\n",
       "        prompt.append('<br><button style=\"height: 100%; width: 54px;\">Run</button>');\n",
       "        prompt.on(\"click\", \"button\", function(){\n",
       "            code.execute();\n",
       "        });\n",
       "        code.set_text(decodeURIComponent(window.atob(\"JTIzJTIwVGVtcCUwQWluc2VydCUyOCUyNyUyNyUyNyUwQWFicmFoYW1zc29uMjAxN2ElMjAlM0QlMjBEQiUyOFdvcmtVbnJlbGF0ZWQlMjglMEElMjAlMjAlMjAlMjAyMDE3JTJDJTIwJTIyQWdpbGUlMjBzb2Z0d2FyZSUyMGRldmVsb3BtZW50JTIwbWV0aG9kcyUzQSUyMFJldmlldyUyMGFuZCUyMGFuYWx5c2lzJTIyJTJDJTBBJTIwJTIwJTIwJTIwZGlzcGxheSUzRCUyMmFicmFoYW1zc29uJTIyJTJDJTBBJTIwJTIwJTIwJTIwYXV0aG9ycyUzRCUyMkFicmFoYW1zc29uJTJDJTIwUGVra2ElMjBhbmQlMjBTYWxvJTJDJTIwT3V0aSUyMGFuZCUyMFJvbmthaW5lbiUyQyUyMEp1c3NpJTIwYW5kJTIwV2Fyc3RhJTJDJTIwSnVoYW5pJTIyJTJDJTBBJTIwJTIwJTIwJTIwcGxhY2UlM0RGQUtFJTJDJTBBJTIwJTIwJTIwJTIwZW50cnl0eXBlJTNEJTIyYXJ0aWNsZSUyMiUyQyUwQSUyMCUyMCUyMCUyMElEJTNEJTIyYWJyYWhhbXNzb24yMDE3YWdpbGUlMjIlMkMlMEElMjAlMjAlMjAlMjBzY2hvbGFyMjAxNiUzRCUyMjElMjIlMkMlMEElMjAlMjAlMjAlMjBwbGFjZXglM0QlMjJhclhpdiUyMHByZXByaW50JTIwYXJYaXYlM0ExNzA5LjA4NDM5JTIyJTJDJTBBJTI5JTI5JTBBJTI3JTI3JTI3JTI5JTNC\")));\n",
       "    "
      ],
      "text/plain": [
       "<IPython.core.display.Javascript object>"
      ]
     },
     "metadata": {},
     "output_type": "display_data"
    },
    {
     "data": {
      "application/javascript": [
       "$('span:contains(\"# Temp\")').closest('.cell').remove();"
      ],
      "text/plain": [
       "<IPython.core.display.Javascript object>"
      ]
     },
     "metadata": {},
     "output_type": "display_data"
    },
    {
     "data": {
      "application/javascript": [
       "\n",
       "        $('span:contains(\"# Temp\")').closest('.cell').remove();\n",
       "        var code = IPython.notebook.insert_cell_below('code');\n",
       "        var prompt = code.element.find(\".input_prompt\");\n",
       "        prompt.append('<br><button style=\"height: 100%; width: 54px;\">Run</button>');\n",
       "        prompt.on(\"click\", \"button\", function(){\n",
       "            code.execute();\n",
       "        });\n",
       "        code.set_text(decodeURIComponent(window.atob(\"JTIzJTIwVGVtcCUwQWluc2VydCUyOCUyNyUyNyUyNyUyNyUyNyUyNyUyOSUzQiUwQXNldF9hdHRyaWJ1dGUlMjglMjdoaWdoc21pdGgyMDAxYSUyNyUyQyUyMCUyN3B1Ymxpc2hlciUyNyUyQyUyMCUyNyU1QlNhbiUyMEZyYW5jaXNjbyUyQyUyMENBJTNBJTIwTWlsbGVyJTIwRnJlZW1hbiUyQyUyMEluYy4lMkMlMjAxOTkzLSUyNyUyOSUzQiUwQXNldF9hdHRyaWJ1dGUlMjglMjdoaWdoc21pdGgyMDAxYSUyNyUyQyUyMCUyN3NjaG9sYXIyMDE2JTI3JTJDJTIwJTI3MSUyNyUyOSUzQg==\")));\n",
       "    "
      ],
      "text/plain": [
       "<IPython.core.display.Javascript object>"
      ]
     },
     "metadata": {},
     "output_type": "display_data"
    },
    {
     "data": {
      "application/javascript": [
       "$('span:contains(\"# Temp\")').closest('.cell').remove();"
      ],
      "text/plain": [
       "<IPython.core.display.Javascript object>"
      ]
     },
     "metadata": {},
     "output_type": "display_data"
    },
    {
     "data": {
      "application/javascript": [
       "\n",
       "        $('span:contains(\"# Temp\")').closest('.cell').remove();\n",
       "        var code = IPython.notebook.insert_cell_below('code');\n",
       "        var prompt = code.element.find(\".input_prompt\");\n",
       "        prompt.append('<br><button style=\"height: 100%; width: 54px;\">Run</button>');\n",
       "        prompt.on(\"click\", \"button\", function(){\n",
       "            code.execute();\n",
       "        });\n",
       "        code.set_text(decodeURIComponent(window.atob(\"JTIzJTIwVGVtcCUwQWluc2VydCUyOCUyNyUyNyUyNyUyNyUyNyUyNyUyOSUzQiUwQXNldF9hdHRyaWJ1dGUlMjglMjdoaWdoc21pdGgyMDAxYSUyNyUyQyUyMCUyN3B1Ymxpc2hlciUyNyUyQyUyMCUyNyU1QlNhbiUyMEZyYW5jaXNjbyUyQyUyMENBJTNBJTIwTWlsbGVyJTIwRnJlZW1hbiUyQyUyMEluYy4lMkMlMjAxOTkzLSUyNyUyOSUzQiUwQXNldF9hdHRyaWJ1dGUlMjglMjdoaWdoc21pdGgyMDAxYSUyNyUyQyUyMCUyN3NjaG9sYXIyMDE2JTI3JTJDJTIwJTI3MSUyNyUyOSUzQg==\")));\n",
       "    "
      ],
      "text/plain": [
       "<IPython.core.display.Javascript object>"
      ]
     },
     "metadata": {},
     "output_type": "display_data"
    },
    {
     "data": {
      "application/javascript": [
       "$('span:contains(\"# Temp\")').closest('.cell').remove();"
      ],
      "text/plain": [
       "<IPython.core.display.Javascript object>"
      ]
     },
     "metadata": {},
     "output_type": "display_data"
    },
    {
     "data": {
      "application/javascript": [
       "\n",
       "        $('span:contains(\"# Temp\")').closest('.cell').remove();\n",
       "        var code = IPython.notebook.insert_cell_below('code');\n",
       "        var prompt = code.element.find(\".input_prompt\");\n",
       "        prompt.append('<br><button style=\"height: 100%; width: 54px;\">Run</button>');\n",
       "        prompt.on(\"click\", \"button\", function(){\n",
       "            code.execute();\n",
       "        });\n",
       "        code.set_text(decodeURIComponent(window.atob(\"JTIzJTIwVGVtcCUwQWluc2VydCUyOCUyNyUyNyUyNyUyNyUyNyUyNyUyOSUzQiUwQXNldF9hdHRyaWJ1dGUlMjglMjdtb2UyMDEyYSUyNyUyQyUyMCUyN3NjaG9sYXIyMDE2JTI3JTJDJTIwJTI3MSUyNyUyOSUzQg==\")));\n",
       "    "
      ],
      "text/plain": [
       "<IPython.core.display.Javascript object>"
      ]
     },
     "metadata": {},
     "output_type": "display_data"
    },
    {
     "data": {
      "application/javascript": [
       "$('span:contains(\"# Temp\")').closest('.cell').remove();"
      ],
      "text/plain": [
       "<IPython.core.display.Javascript object>"
      ]
     },
     "metadata": {},
     "output_type": "display_data"
    },
    {
     "data": {
      "application/javascript": [
       "\n",
       "        $('span:contains(\"# Temp\")').closest('.cell').remove();\n",
       "        var code = IPython.notebook.insert_cell_below('code');\n",
       "        var prompt = code.element.find(\".input_prompt\");\n",
       "        prompt.append('<br><button style=\"height: 100%; width: 54px;\">Run</button>');\n",
       "        prompt.on(\"click\", \"button\", function(){\n",
       "            code.execute();\n",
       "        });\n",
       "        code.set_text(decodeURIComponent(window.atob(\"JTIzJTIwVGVtcCUwQWluc2VydCUyOCUyNyUyNyUyNyUyNyUyNyUyNyUyOSUzQiUwQXNldF9hdHRyaWJ1dGUlMjglMjdtb2UyMDEyYSUyNyUyQyUyMCUyN3NjaG9sYXIyMDE2JTI3JTJDJTIwJTI3MSUyNyUyOSUzQg==\")));\n",
       "    "
      ],
      "text/plain": [
       "<IPython.core.display.Javascript object>"
      ]
     },
     "metadata": {},
     "output_type": "display_data"
    },
    {
     "data": {
      "application/javascript": [
       "$('span:contains(\"# Temp\")').closest('.cell').remove();"
      ],
      "text/plain": [
       "<IPython.core.display.Javascript object>"
      ]
     },
     "metadata": {},
     "output_type": "display_data"
    },
    {
     "data": {
      "application/javascript": [
       "\n",
       "        $('span:contains(\"# Temp\")').closest('.cell').remove();\n",
       "        var code = IPython.notebook.insert_cell_below('code');\n",
       "        var prompt = code.element.find(\".input_prompt\");\n",
       "        prompt.append('<br><button style=\"height: 100%; width: 54px;\">Run</button>');\n",
       "        prompt.on(\"click\", \"button\", function(){\n",
       "            code.execute();\n",
       "        });\n",
       "        code.set_text(decodeURIComponent(window.atob(\"JTIzJTIwVGVtcCUwQWluc2VydCUyOCUyNyUyNyUyNyUwQWFiYmFzMjAwOGElMjAlM0QlMjBEQiUyOFdvcmtVbnJlbGF0ZWQlMjglMEElMjAlMjAlMjAlMjAyMDA4JTJDJTIwJTIySGlzdG9yaWNhbCUyMHJvb3RzJTIwb2YlMjBhZ2lsZSUyMG1ldGhvZHMlM0ElMjBXaGVyZSUyMGRpZCUyMCVFMiU4MCU5Q0FnaWxlJTIwdGhpbmtpbmclRTIlODAlOUQlMjBjb21lJTIwZnJvbSUzRiUyMiUyQyUwQSUyMCUyMCUyMCUyMGRpc3BsYXklM0QlMjJhYmJhcyUyMiUyQyUwQSUyMCUyMCUyMCUyMGF1dGhvcnMlM0QlMjJBYmJhcyUyQyUyME5vdXJhJTIwYW5kJTIwR3JhdmVsbCUyQyUyMEFuZHJldyUyME0lMjBhbmQlMjBXaWxscyUyQyUyMEdhcnklMjBCJTIyJTJDJTBBJTIwJTIwJTIwJTIwcGxhY2UlM0RGQUtFJTJDJTBBJTIwJTIwJTIwJTIwcHAlM0QlMjI5NC0tMTAzJTIyJTJDJTBBJTIwJTIwJTIwJTIwZW50cnl0eXBlJTNEJTIyaW5wcm9jZWVkaW5ncyUyMiUyQyUwQSUyMCUyMCUyMCUyMG9yZ2FuaXphdGlvbiUzRCUyMlNwcmluZ2VyJTIyJTJDJTBBJTIwJTIwJTIwJTIwSUQlM0QlMjJhYmJhczIwMDhoaXN0b3JpY2FsJTIyJTJDJTBBJTIwJTIwJTIwJTIwc2Nob2xhcjIwMTYlM0QlMjIxJTIyJTJDJTBBJTIwJTIwJTIwJTIwcGxhY2V4JTNEJTIySW50ZXJuYXRpb25hbCUyMENvbmZlcmVuY2UlMjBvbiUyMEFnaWxlJTIwUHJvY2Vzc2VzJTIwYW5kJTIwRXh0cmVtZSUyMFByb2dyYW1taW5nJTIwaW4lMjBTb2Z0d2FyZSUyMEVuZ2luZWVyaW5nJTIyJTJDJTBBJTI5JTI5JTBBJTI3JTI3JTI3JTI5JTNC\")));\n",
       "    "
      ],
      "text/plain": [
       "<IPython.core.display.Javascript object>"
      ]
     },
     "metadata": {},
     "output_type": "display_data"
    },
    {
     "data": {
      "application/javascript": [
       "$('span:contains(\"# Temp\")').closest('.cell').remove();"
      ],
      "text/plain": [
       "<IPython.core.display.Javascript object>"
      ]
     },
     "metadata": {},
     "output_type": "display_data"
    },
    {
     "data": {
      "application/javascript": [
       "\n",
       "        $('span:contains(\"# Temp\")').closest('.cell').remove();\n",
       "        var code = IPython.notebook.insert_cell_below('code');\n",
       "        var prompt = code.element.find(\".input_prompt\");\n",
       "        prompt.append('<br><button style=\"height: 100%; width: 54px;\">Run</button>');\n",
       "        prompt.on(\"click\", \"button\", function(){\n",
       "            code.execute();\n",
       "        });\n",
       "        code.set_text(decodeURIComponent(window.atob(\"JTIzJTIwVGVtcCUwQWluc2VydCUyOCUyNyUyNyUyNyUwQWFiYmFzMjAwOGElMjAlM0QlMjBEQiUyOFdvcmtVbnJlbGF0ZWQlMjglMEElMjAlMjAlMjAlMjAyMDA4JTJDJTIwJTIySGlzdG9yaWNhbCUyMHJvb3RzJTIwb2YlMjBhZ2lsZSUyMG1ldGhvZHMlM0ElMjBXaGVyZSUyMGRpZCUyMCVFMiU4MCU5Q0FnaWxlJTIwdGhpbmtpbmclRTIlODAlOUQlMjBjb21lJTIwZnJvbSUzRiUyMiUyQyUwQSUyMCUyMCUyMCUyMGRpc3BsYXklM0QlMjJhYmJhcyUyMiUyQyUwQSUyMCUyMCUyMCUyMGF1dGhvcnMlM0QlMjJBYmJhcyUyQyUyME5vdXJhJTIwYW5kJTIwR3JhdmVsbCUyQyUyMEFuZHJldyUyME0lMjBhbmQlMjBXaWxscyUyQyUyMEdhcnklMjBCJTIyJTJDJTBBJTIwJTIwJTIwJTIwcGxhY2UlM0RGQUtFJTJDJTBBJTIwJTIwJTIwJTIwcHAlM0QlMjI5NC0tMTAzJTIyJTJDJTBBJTIwJTIwJTIwJTIwZW50cnl0eXBlJTNEJTIyaW5wcm9jZWVkaW5ncyUyMiUyQyUwQSUyMCUyMCUyMCUyMG9yZ2FuaXphdGlvbiUzRCUyMlNwcmluZ2VyJTIyJTJDJTBBJTIwJTIwJTIwJTIwSUQlM0QlMjJhYmJhczIwMDhoaXN0b3JpY2FsJTIyJTJDJTBBJTIwJTIwJTIwJTIwc2Nob2xhcjIwMTYlM0QlMjIxJTIyJTJDJTBBJTIwJTIwJTIwJTIwcGxhY2V4JTNEJTIySW50ZXJuYXRpb25hbCUyMENvbmZlcmVuY2UlMjBvbiUyMEFnaWxlJTIwUHJvY2Vzc2VzJTIwYW5kJTIwRXh0cmVtZSUyMFByb2dyYW1taW5nJTIwaW4lMjBTb2Z0d2FyZSUyMEVuZ2luZWVyaW5nJTIyJTJDJTBBJTI5JTI5JTBBJTI3JTI3JTI3JTI5JTNC\")));\n",
       "    "
      ],
      "text/plain": [
       "<IPython.core.display.Javascript object>"
      ]
     },
     "metadata": {},
     "output_type": "display_data"
    },
    {
     "data": {
      "application/javascript": [
       "$('span:contains(\"# Temp\")').closest('.cell').remove();"
      ],
      "text/plain": [
       "<IPython.core.display.Javascript object>"
      ]
     },
     "metadata": {},
     "output_type": "display_data"
    },
    {
     "data": {
      "application/javascript": [
       "\n",
       "        $('span:contains(\"# Temp\")').closest('.cell').remove();\n",
       "        var code = IPython.notebook.insert_cell_below('code');\n",
       "        var prompt = code.element.find(\".input_prompt\");\n",
       "        prompt.append('<br><button style=\"height: 100%; width: 54px;\">Run</button>');\n",
       "        prompt.on(\"click\", \"button\", function(){\n",
       "            code.execute();\n",
       "        });\n",
       "        code.set_text(decodeURIComponent(window.atob(\"JTIzJTIwVGVtcCUwQWluc2VydCUyOCUyNyUyNyUyNyUyNyUyNyUyNyUyOSUzQiUwQXNldF9hdHRyaWJ1dGUlMjglMjdzdGFyb24yMDEyYSUyNyUyQyUyMCUyN3NjaG9sYXIyMDE2JTI3JTJDJTIwJTI3MSUyNyUyOSUzQg==\")));\n",
       "    "
      ],
      "text/plain": [
       "<IPython.core.display.Javascript object>"
      ]
     },
     "metadata": {},
     "output_type": "display_data"
    },
    {
     "data": {
      "application/javascript": [
       "$('span:contains(\"# Temp\")').closest('.cell').remove();"
      ],
      "text/plain": [
       "<IPython.core.display.Javascript object>"
      ]
     },
     "metadata": {},
     "output_type": "display_data"
    },
    {
     "data": {
      "application/javascript": [
       "\n",
       "        $('span:contains(\"# Temp\")').closest('.cell').remove();\n",
       "        var code = IPython.notebook.insert_cell_below('code');\n",
       "        var prompt = code.element.find(\".input_prompt\");\n",
       "        prompt.append('<br><button style=\"height: 100%; width: 54px;\">Run</button>');\n",
       "        prompt.on(\"click\", \"button\", function(){\n",
       "            code.execute();\n",
       "        });\n",
       "        code.set_text(decodeURIComponent(window.atob(\"JTIzJTIwVGVtcCUwQWluc2VydCUyOCUyNyUyNyUyNyUyNyUyNyUyNyUyOSUzQiUwQXNldF9hdHRyaWJ1dGUlMjglMjdzdGFyb24yMDEyYSUyNyUyQyUyMCUyN3NjaG9sYXIyMDE2JTI3JTJDJTIwJTI3MSUyNyUyOSUzQg==\")));\n",
       "    "
      ],
      "text/plain": [
       "<IPython.core.display.Javascript object>"
      ]
     },
     "metadata": {},
     "output_type": "display_data"
    },
    {
     "data": {
      "application/javascript": [
       "$('span:contains(\"# Temp\")').closest('.cell').remove();"
      ],
      "text/plain": [
       "<IPython.core.display.Javascript object>"
      ]
     },
     "metadata": {},
     "output_type": "display_data"
    },
    {
     "data": {
      "application/javascript": [
       "\n",
       "        $('span:contains(\"# Temp\")').closest('.cell').remove();\n",
       "        var code = IPython.notebook.insert_cell_below('code');\n",
       "        var prompt = code.element.find(\".input_prompt\");\n",
       "        prompt.append('<br><button style=\"height: 100%; width: 54px;\">Run</button>');\n",
       "        prompt.on(\"click\", \"button\", function(){\n",
       "            code.execute();\n",
       "        });\n",
       "        code.set_text(decodeURIComponent(window.atob(\"JTIzJTIwVGVtcCUwQWluc2VydCUyOCUyNyUyNyUyNyUyNyUyNyUyNyUyOSUzQiUwQXNldF9hdHRyaWJ1dGUlMjglMjdtaXNocmEyMDExYSUyNyUyQyUyMCUyN3NjaG9sYXIyMDE2JTI3JTJDJTIwJTI3MSUyNyUyOSUzQg==\")));\n",
       "    "
      ],
      "text/plain": [
       "<IPython.core.display.Javascript object>"
      ]
     },
     "metadata": {},
     "output_type": "display_data"
    },
    {
     "data": {
      "application/javascript": [
       "$('span:contains(\"# Temp\")').closest('.cell').remove();"
      ],
      "text/plain": [
       "<IPython.core.display.Javascript object>"
      ]
     },
     "metadata": {},
     "output_type": "display_data"
    },
    {
     "data": {
      "application/javascript": [
       "\n",
       "        $('span:contains(\"# Temp\")').closest('.cell').remove();\n",
       "        var code = IPython.notebook.insert_cell_below('code');\n",
       "        var prompt = code.element.find(\".input_prompt\");\n",
       "        prompt.append('<br><button style=\"height: 100%; width: 54px;\">Run</button>');\n",
       "        prompt.on(\"click\", \"button\", function(){\n",
       "            code.execute();\n",
       "        });\n",
       "        code.set_text(decodeURIComponent(window.atob(\"JTIzJTIwVGVtcCUwQWluc2VydCUyOCUyNyUyNyUyNyUyNyUyNyUyNyUyOSUzQiUwQXNldF9hdHRyaWJ1dGUlMjglMjdtaXNocmEyMDExYSUyNyUyQyUyMCUyN3NjaG9sYXIyMDE2JTI3JTJDJTIwJTI3MSUyNyUyOSUzQg==\")));\n",
       "    "
      ],
      "text/plain": [
       "<IPython.core.display.Javascript object>"
      ]
     },
     "metadata": {},
     "output_type": "display_data"
    },
    {
     "data": {
      "application/javascript": [
       "$('span:contains(\"# Temp\")').closest('.cell').remove();"
      ],
      "text/plain": [
       "<IPython.core.display.Javascript object>"
      ]
     },
     "metadata": {},
     "output_type": "display_data"
    },
    {
     "data": {
      "application/javascript": [
       "\n",
       "        $('span:contains(\"# Temp\")').closest('.cell').remove();\n",
       "        var code = IPython.notebook.insert_cell_below('code');\n",
       "        var prompt = code.element.find(\".input_prompt\");\n",
       "        prompt.append('<br><button style=\"height: 100%; width: 54px;\">Run</button>');\n",
       "        prompt.on(\"click\", \"button\", function(){\n",
       "            code.execute();\n",
       "        });\n",
       "        code.set_text(decodeURIComponent(window.atob(\"JTIzJTIwVGVtcCUwQWluc2VydCUyOCUyNyUyNyUyNyUwQXdhcnN0YTIwMDNhJTIwJTNEJTIwREIlMjhXb3JrVW5yZWxhdGVkJTI4JTBBJTIwJTIwJTIwJTIwMjAwMyUyQyUyMCUyMklzJTIwb3BlbiUyMHNvdXJjZSUyMHNvZnR3YXJlJTIwZGV2ZWxvcG1lbnQlMjBlc3NlbnRpYWxseSUyMGFuJTIwYWdpbGUlMjBtZXRob2QlMjIlMkMlMEElMjAlMjAlMjAlMjBkaXNwbGF5JTNEJTIyd2Fyc3RhJTIyJTJDJTBBJTIwJTIwJTIwJTIwYXV0aG9ycyUzRCUyMldhcnN0YSUyQyUyMEp1aGFuaSUyMGFuZCUyMEFicmFoYW1zc29uJTJDJTIwUGVra2ElMjIlMkMlMEElMjAlMjAlMjAlMjBwbGFjZSUzREZBS0UlMkMlMEElMjAlMjAlMjAlMjBwcCUzRCUyMjE0My0tMTQ3JTIyJTJDJTBBJTIwJTIwJTIwJTIwZW50cnl0eXBlJTNEJTIyaW5wcm9jZWVkaW5ncyUyMiUyQyUwQSUyMCUyMCUyMCUyMElEJTNEJTIyd2Fyc3RhMjAwM29wZW4lMjIlMkMlMEElMjAlMjAlMjAlMjBzY2hvbGFyMjAxNiUzRCUyMjElMjIlMkMlMEElMjAlMjAlMjAlMjBwbGFjZXglM0QlMjJQcm9jZWVkaW5ncyUyMG9mJTIwdGhlJTIwM3JkJTIwV29ya3Nob3AlMjBvbiUyME9wZW4lMjBTb3VyY2UlMjBTb2Z0d2FyZSUyMEVuZ2luZWVyaW5nJTIyJTJDJTBBJTI5JTI5JTBBJTI3JTI3JTI3JTI5JTNC\")));\n",
       "    "
      ],
      "text/plain": [
       "<IPython.core.display.Javascript object>"
      ]
     },
     "metadata": {},
     "output_type": "display_data"
    },
    {
     "data": {
      "application/javascript": [
       "$('span:contains(\"# Temp\")').closest('.cell').remove();"
      ],
      "text/plain": [
       "<IPython.core.display.Javascript object>"
      ]
     },
     "metadata": {},
     "output_type": "display_data"
    },
    {
     "data": {
      "application/javascript": [
       "\n",
       "        $('span:contains(\"# Temp\")').closest('.cell').remove();\n",
       "        var code = IPython.notebook.insert_cell_below('code');\n",
       "        var prompt = code.element.find(\".input_prompt\");\n",
       "        prompt.append('<br><button style=\"height: 100%; width: 54px;\">Run</button>');\n",
       "        prompt.on(\"click\", \"button\", function(){\n",
       "            code.execute();\n",
       "        });\n",
       "        code.set_text(decodeURIComponent(window.atob(\"JTIzJTIwVGVtcCUwQWluc2VydCUyOCUyNyUyNyUyNyUwQXdhcnN0YTIwMDNhJTIwJTNEJTIwREIlMjhXb3JrVW5yZWxhdGVkJTI4JTBBJTIwJTIwJTIwJTIwMjAwMyUyQyUyMCUyMklzJTIwb3BlbiUyMHNvdXJjZSUyMHNvZnR3YXJlJTIwZGV2ZWxvcG1lbnQlMjBlc3NlbnRpYWxseSUyMGFuJTIwYWdpbGUlMjBtZXRob2QlMjIlMkMlMEElMjAlMjAlMjAlMjBkaXNwbGF5JTNEJTIyd2Fyc3RhJTIyJTJDJTBBJTIwJTIwJTIwJTIwYXV0aG9ycyUzRCUyMldhcnN0YSUyQyUyMEp1aGFuaSUyMGFuZCUyMEFicmFoYW1zc29uJTJDJTIwUGVra2ElMjIlMkMlMEElMjAlMjAlMjAlMjBwbGFjZSUzREZBS0UlMkMlMEElMjAlMjAlMjAlMjBwcCUzRCUyMjE0My0tMTQ3JTIyJTJDJTBBJTIwJTIwJTIwJTIwZW50cnl0eXBlJTNEJTIyaW5wcm9jZWVkaW5ncyUyMiUyQyUwQSUyMCUyMCUyMCUyMElEJTNEJTIyd2Fyc3RhMjAwM29wZW4lMjIlMkMlMEElMjAlMjAlMjAlMjBzY2hvbGFyMjAxNiUzRCUyMjElMjIlMkMlMEElMjAlMjAlMjAlMjBwbGFjZXglM0QlMjJQcm9jZWVkaW5ncyUyMG9mJTIwdGhlJTIwM3JkJTIwV29ya3Nob3AlMjBvbiUyME9wZW4lMjBTb3VyY2UlMjBTb2Z0d2FyZSUyMEVuZ2luZWVyaW5nJTIyJTJDJTBBJTI5JTI5JTBBJTI3JTI3JTI3JTI5JTNC\")));\n",
       "    "
      ],
      "text/plain": [
       "<IPython.core.display.Javascript object>"
      ]
     },
     "metadata": {},
     "output_type": "display_data"
    },
    {
     "data": {
      "application/javascript": [
       "$('span:contains(\"# Temp\")').closest('.cell').remove();"
      ],
      "text/plain": [
       "<IPython.core.display.Javascript object>"
      ]
     },
     "metadata": {},
     "output_type": "display_data"
    },
    {
     "data": {
      "application/javascript": [
       "\n",
       "        $('span:contains(\"# Temp\")').closest('.cell').remove();\n",
       "        var code = IPython.notebook.insert_cell_below('code');\n",
       "        var prompt = code.element.find(\".input_prompt\");\n",
       "        prompt.append('<br><button style=\"height: 100%; width: 54px;\">Run</button>');\n",
       "        prompt.on(\"click\", \"button\", function(){\n",
       "            code.execute();\n",
       "        });\n",
       "        code.set_text(decodeURIComponent(window.atob(\"JTIzJTIwVGVtcCUwQWluc2VydCUyOCUyNyUyNyUyNyUwQWxpbmR2YWxsMjAwMmElMjAlM0QlMjBEQiUyOFdvcmtVbnJlbGF0ZWQlMjglMEElMjAlMjAlMjAlMjAyMDAyJTJDJTIwJTIyRW1waXJpY2FsJTIwZmluZGluZ3MlMjBpbiUyMGFnaWxlJTIwbWV0aG9kcyUyMiUyQyUwQSUyMCUyMCUyMCUyMGRpc3BsYXklM0QlMjJsaW5kdmFsbCUyMiUyQyUwQSUyMCUyMCUyMCUyMGF1dGhvcnMlM0QlMjJMaW5kdmFsbCUyQyUyME1pa2FlbCUyMGFuZCUyMEJhc2lsaSUyQyUyMFZpYyUyMGFuZCUyMEJvZWhtJTJDJTIwQmFycnklMjBhbmQlMjBDb3N0YSUyQyUyMFBhdHJpY2lhJTIwYW5kJTIwRGFuZ2xlJTJDJTIwS2F0aGxlZW4lMjBhbmQlMjBTaHVsbCUyQyUyMEZvcnJlc3QlMjBhbmQlMjBUZXNvcmllcm8lMkMlMjBSb3NlYW5uZSUyMGFuZCUyMFdpbGxpYW1zJTJDJTIwTGF1cmllJTIwYW5kJTIwWmVsa293aXR6JTJDJTIwTWFydmluJTIyJTJDJTBBJTIwJTIwJTIwJTIwcGxhY2UlM0RGQUtFJTJDJTBBJTIwJTIwJTIwJTIwcHAlM0QlMjIxOTctLTIwNyUyMiUyQyUwQSUyMCUyMCUyMCUyMGVudHJ5dHlwZSUzRCUyMmlucHJvY2VlZGluZ3MlMjIlMkMlMEElMjAlMjAlMjAlMjBvcmdhbml6YXRpb24lM0QlMjJTcHJpbmdlciUyMiUyQyUwQSUyMCUyMCUyMCUyMElEJTNEJTIybGluZHZhbGwyMDAyZW1waXJpY2FsJTIyJTJDJTBBJTIwJTIwJTIwJTIwc2Nob2xhcjIwMTYlM0QlMjIxJTIyJTJDJTBBJTIwJTIwJTIwJTIwcGxhY2V4JTNEJTIyQ29uZmVyZW5jZSUyMG9uJTIwZXh0cmVtZSUyMHByb2dyYW1taW5nJTIwYW5kJTIwYWdpbGUlMjBtZXRob2RzJTIyJTJDJTBBJTI5JTI5JTBBJTI3JTI3JTI3JTI5JTNC\")));\n",
       "    "
      ],
      "text/plain": [
       "<IPython.core.display.Javascript object>"
      ]
     },
     "metadata": {},
     "output_type": "display_data"
    },
    {
     "data": {
      "application/javascript": [
       "$('span:contains(\"# Temp\")').closest('.cell').remove();"
      ],
      "text/plain": [
       "<IPython.core.display.Javascript object>"
      ]
     },
     "metadata": {},
     "output_type": "display_data"
    },
    {
     "data": {
      "application/javascript": [
       "\n",
       "        $('span:contains(\"# Temp\")').closest('.cell').remove();\n",
       "        var code = IPython.notebook.insert_cell_below('code');\n",
       "        var prompt = code.element.find(\".input_prompt\");\n",
       "        prompt.append('<br><button style=\"height: 100%; width: 54px;\">Run</button>');\n",
       "        prompt.on(\"click\", \"button\", function(){\n",
       "            code.execute();\n",
       "        });\n",
       "        code.set_text(decodeURIComponent(window.atob(\"JTIzJTIwVGVtcCUwQWluc2VydCUyOCUyNyUyNyUyNyUwQWxpbmR2YWxsMjAwMmElMjAlM0QlMjBEQiUyOFdvcmtVbnJlbGF0ZWQlMjglMEElMjAlMjAlMjAlMjAyMDAyJTJDJTIwJTIyRW1waXJpY2FsJTIwZmluZGluZ3MlMjBpbiUyMGFnaWxlJTIwbWV0aG9kcyUyMiUyQyUwQSUyMCUyMCUyMCUyMGRpc3BsYXklM0QlMjJsaW5kdmFsbCUyMiUyQyUwQSUyMCUyMCUyMCUyMGF1dGhvcnMlM0QlMjJMaW5kdmFsbCUyQyUyME1pa2FlbCUyMGFuZCUyMEJhc2lsaSUyQyUyMFZpYyUyMGFuZCUyMEJvZWhtJTJDJTIwQmFycnklMjBhbmQlMjBDb3N0YSUyQyUyMFBhdHJpY2lhJTIwYW5kJTIwRGFuZ2xlJTJDJTIwS2F0aGxlZW4lMjBhbmQlMjBTaHVsbCUyQyUyMEZvcnJlc3QlMjBhbmQlMjBUZXNvcmllcm8lMkMlMjBSb3NlYW5uZSUyMGFuZCUyMFdpbGxpYW1zJTJDJTIwTGF1cmllJTIwYW5kJTIwWmVsa293aXR6JTJDJTIwTWFydmluJTIyJTJDJTBBJTIwJTIwJTIwJTIwcGxhY2UlM0RGQUtFJTJDJTBBJTIwJTIwJTIwJTIwcHAlM0QlMjIxOTctLTIwNyUyMiUyQyUwQSUyMCUyMCUyMCUyMGVudHJ5dHlwZSUzRCUyMmlucHJvY2VlZGluZ3MlMjIlMkMlMEElMjAlMjAlMjAlMjBvcmdhbml6YXRpb24lM0QlMjJTcHJpbmdlciUyMiUyQyUwQSUyMCUyMCUyMCUyMElEJTNEJTIybGluZHZhbGwyMDAyZW1waXJpY2FsJTIyJTJDJTBBJTIwJTIwJTIwJTIwc2Nob2xhcjIwMTYlM0QlMjIxJTIyJTJDJTBBJTIwJTIwJTIwJTIwcGxhY2V4JTNEJTIyQ29uZmVyZW5jZSUyMG9uJTIwZXh0cmVtZSUyMHByb2dyYW1taW5nJTIwYW5kJTIwYWdpbGUlMjBtZXRob2RzJTIyJTJDJTBBJTI5JTI5JTBBJTI3JTI3JTI3JTI5JTNC\")));\n",
       "    "
      ],
      "text/plain": [
       "<IPython.core.display.Javascript object>"
      ]
     },
     "metadata": {},
     "output_type": "display_data"
    },
    {
     "data": {
      "application/javascript": [
       "$('span:contains(\"# Temp\")').closest('.cell').remove();"
      ],
      "text/plain": [
       "<IPython.core.display.Javascript object>"
      ]
     },
     "metadata": {},
     "output_type": "display_data"
    },
    {
     "data": {
      "application/javascript": [
       "\n",
       "        $('span:contains(\"# Temp\")').closest('.cell').remove();\n",
       "        var code = IPython.notebook.insert_cell_below('code');\n",
       "        var prompt = code.element.find(\".input_prompt\");\n",
       "        prompt.append('<br><button style=\"height: 100%; width: 54px;\">Run</button>');\n",
       "        prompt.on(\"click\", \"button\", function(){\n",
       "            code.execute();\n",
       "        });\n",
       "        code.set_text(decodeURIComponent(window.atob(\"JTIzJTIwVGVtcCUwQWluc2VydCUyOCUyNyUyNyUyNyUyNyUyNyUyNyUyOSUzQiUwQXNldF9hdHRyaWJ1dGUlMjglMjdjb25mb3J0bzIwMTBhJTI3JTJDJTIwJTI3c2Nob2xhcjIwMTYlMjclMkMlMjAlMjcxJTI3JTI5JTNC\")));\n",
       "    "
      ],
      "text/plain": [
       "<IPython.core.display.Javascript object>"
      ]
     },
     "metadata": {},
     "output_type": "display_data"
    },
    {
     "data": {
      "application/javascript": [
       "$('span:contains(\"# Temp\")').closest('.cell').remove();"
      ],
      "text/plain": [
       "<IPython.core.display.Javascript object>"
      ]
     },
     "metadata": {},
     "output_type": "display_data"
    },
    {
     "data": {
      "application/javascript": [
       "\n",
       "        $('span:contains(\"# Temp\")').closest('.cell').remove();\n",
       "        var code = IPython.notebook.insert_cell_below('code');\n",
       "        var prompt = code.element.find(\".input_prompt\");\n",
       "        prompt.append('<br><button style=\"height: 100%; width: 54px;\">Run</button>');\n",
       "        prompt.on(\"click\", \"button\", function(){\n",
       "            code.execute();\n",
       "        });\n",
       "        code.set_text(decodeURIComponent(window.atob(\"JTIzJTIwVGVtcCUwQWluc2VydCUyOCUyNyUyNyUyNyUyNyUyNyUyNyUyOSUzQiUwQXNldF9hdHRyaWJ1dGUlMjglMjdjb25mb3J0bzIwMTBhJTI3JTJDJTIwJTI3c2Nob2xhcjIwMTYlMjclMkMlMjAlMjcxJTI3JTI5JTNC\")));\n",
       "    "
      ],
      "text/plain": [
       "<IPython.core.display.Javascript object>"
      ]
     },
     "metadata": {},
     "output_type": "display_data"
    },
    {
     "data": {
      "application/javascript": [
       "$('span:contains(\"# Temp\")').closest('.cell').remove();"
      ],
      "text/plain": [
       "<IPython.core.display.Javascript object>"
      ]
     },
     "metadata": {},
     "output_type": "display_data"
    },
    {
     "data": {
      "application/javascript": [
       "\n",
       "        $('span:contains(\"# Temp\")').closest('.cell').remove();\n",
       "        var code = IPython.notebook.insert_cell_below('code');\n",
       "        var prompt = code.element.find(\".input_prompt\");\n",
       "        prompt.append('<br><button style=\"height: 100%; width: 54px;\">Run</button>');\n",
       "        prompt.on(\"click\", \"button\", function(){\n",
       "            code.execute();\n",
       "        });\n",
       "        code.set_text(decodeURIComponent(window.atob(\"JTIzJTIwVGVtcCUwQWluc2VydCUyOCUyNyUyNyUyNyUyNyUyNyUyNyUyOSUzQiUwQXNldF9hdHRyaWJ1dGUlMjglMjdjYW1wYW5lbGxpMjAxNWElMjclMkMlMjAlMjdzY2hvbGFyMjAxNiUyNyUyQyUyMCUyNzElMjclMjklM0I=\")));\n",
       "    "
      ],
      "text/plain": [
       "<IPython.core.display.Javascript object>"
      ]
     },
     "metadata": {},
     "output_type": "display_data"
    },
    {
     "data": {
      "application/javascript": [
       "$('span:contains(\"# Temp\")').closest('.cell').remove();"
      ],
      "text/plain": [
       "<IPython.core.display.Javascript object>"
      ]
     },
     "metadata": {},
     "output_type": "display_data"
    },
    {
     "data": {
      "application/javascript": [
       "\n",
       "        $('span:contains(\"# Temp\")').closest('.cell').remove();\n",
       "        var code = IPython.notebook.insert_cell_below('code');\n",
       "        var prompt = code.element.find(\".input_prompt\");\n",
       "        prompt.append('<br><button style=\"height: 100%; width: 54px;\">Run</button>');\n",
       "        prompt.on(\"click\", \"button\", function(){\n",
       "            code.execute();\n",
       "        });\n",
       "        code.set_text(decodeURIComponent(window.atob(\"JTIzJTIwVGVtcCUwQWluc2VydCUyOCUyNyUyNyUyNyUyNyUyNyUyNyUyOSUzQiUwQXNldF9hdHRyaWJ1dGUlMjglMjdjYW1wYW5lbGxpMjAxNWElMjclMkMlMjAlMjdzY2hvbGFyMjAxNiUyNyUyQyUyMCUyNzElMjclMjklM0I=\")));\n",
       "    "
      ],
      "text/plain": [
       "<IPython.core.display.Javascript object>"
      ]
     },
     "metadata": {},
     "output_type": "display_data"
    },
    {
     "data": {
      "application/javascript": [
       "$('span:contains(\"# Temp\")').closest('.cell').remove();"
      ],
      "text/plain": [
       "<IPython.core.display.Javascript object>"
      ]
     },
     "metadata": {},
     "output_type": "display_data"
    },
    {
     "data": {
      "application/javascript": [
       "\n",
       "        $('span:contains(\"# Temp\")').closest('.cell').remove();\n",
       "        var code = IPython.notebook.insert_cell_below('code');\n",
       "        var prompt = code.element.find(\".input_prompt\");\n",
       "        prompt.append('<br><button style=\"height: 100%; width: 54px;\">Run</button>');\n",
       "        prompt.on(\"click\", \"button\", function(){\n",
       "            code.execute();\n",
       "        });\n",
       "        code.set_text(decodeURIComponent(window.atob(\"JTIzJTIwVGVtcCUwQWluc2VydCUyOCUyNyUyNyUyNyUwQXl1c3VmMTk5OWElMjAlM0QlMjBEQiUyOFdvcmtVbnJlbGF0ZWQlMjglMEElMjAlMjAlMjAlMjAxOTk5JTJDJTIwJTIyQWdpbGUlMjBtYW51ZmFjdHVyaW5nJTNBJTNBJTIwVGhlJTIwZHJpdmVycyUyQyUyMGNvbmNlcHRzJTIwYW5kJTIwYXR0cmlidXRlcyUyMiUyQyUwQSUyMCUyMCUyMCUyMGRpc3BsYXklM0QlMjJ5dXN1ZiUyMiUyQyUwQSUyMCUyMCUyMCUyMGF1dGhvcnMlM0QlMjJZdXN1ZiUyQyUyMFlhaGF5YSUyMFklMjBhbmQlMjBTYXJoYWRpJTJDJTIwTWFuc29vciUyMGFuZCUyMEd1bmFzZWthcmFuJTJDJTIwQW5nYXBwYSUyMiUyQyUwQSUyMCUyMCUyMCUyMHBsYWNlJTNERkFLRSUyQyUwQSUyMCUyMCUyMCUyMHBwJTNEJTIyMzMtLTQzJTIyJTJDJTBBJTIwJTIwJTIwJTIwZW50cnl0eXBlJTNEJTIyYXJ0aWNsZSUyMiUyQyUwQSUyMCUyMCUyMCUyMHZvbHVtZSUzRCUyMjYyJTIyJTJDJTBBJTIwJTIwJTIwJTIwbnVtYmVyJTNEJTIyMS0yJTIyJTJDJTBBJTIwJTIwJTIwJTIwcHVibGlzaGVyJTNEJTIyRWxzZXZpZXIlMjIlMkMlMEElMjAlMjAlMjAlMjBJRCUzRCUyMnl1c3VmMTk5OWFnaWxlJTIyJTJDJTBBJTIwJTIwJTIwJTIwc2Nob2xhcjIwMTYlM0QlMjIxJTIyJTJDJTBBJTIwJTIwJTIwJTIwcGxhY2V4JTNEJTIySW50ZXJuYXRpb25hbCUyMEpvdXJuYWwlMjBvZiUyMHByb2R1Y3Rpb24lMjBlY29ub21pY3MlMjIlMkMlMEElMjklMjklMEElMjclMjclMjclMjklM0I=\")));\n",
       "    "
      ],
      "text/plain": [
       "<IPython.core.display.Javascript object>"
      ]
     },
     "metadata": {},
     "output_type": "display_data"
    },
    {
     "data": {
      "application/javascript": [
       "$('span:contains(\"# Temp\")').closest('.cell').remove();"
      ],
      "text/plain": [
       "<IPython.core.display.Javascript object>"
      ]
     },
     "metadata": {},
     "output_type": "display_data"
    },
    {
     "data": {
      "application/javascript": [
       "\n",
       "        $('span:contains(\"# Temp\")').closest('.cell').remove();\n",
       "        var code = IPython.notebook.insert_cell_below('code');\n",
       "        var prompt = code.element.find(\".input_prompt\");\n",
       "        prompt.append('<br><button style=\"height: 100%; width: 54px;\">Run</button>');\n",
       "        prompt.on(\"click\", \"button\", function(){\n",
       "            code.execute();\n",
       "        });\n",
       "        code.set_text(decodeURIComponent(window.atob(\"JTIzJTIwVGVtcCUwQWluc2VydCUyOCUyNyUyNyUyNyUwQXl1c3VmMTk5OWElMjAlM0QlMjBEQiUyOFdvcmtVbnJlbGF0ZWQlMjglMEElMjAlMjAlMjAlMjAxOTk5JTJDJTIwJTIyQWdpbGUlMjBtYW51ZmFjdHVyaW5nJTNBJTNBJTIwVGhlJTIwZHJpdmVycyUyQyUyMGNvbmNlcHRzJTIwYW5kJTIwYXR0cmlidXRlcyUyMiUyQyUwQSUyMCUyMCUyMCUyMGRpc3BsYXklM0QlMjJ5dXN1ZiUyMiUyQyUwQSUyMCUyMCUyMCUyMGF1dGhvcnMlM0QlMjJZdXN1ZiUyQyUyMFlhaGF5YSUyMFklMjBhbmQlMjBTYXJoYWRpJTJDJTIwTWFuc29vciUyMGFuZCUyMEd1bmFzZWthcmFuJTJDJTIwQW5nYXBwYSUyMiUyQyUwQSUyMCUyMCUyMCUyMHBsYWNlJTNERkFLRSUyQyUwQSUyMCUyMCUyMCUyMHBwJTNEJTIyMzMtLTQzJTIyJTJDJTBBJTIwJTIwJTIwJTIwZW50cnl0eXBlJTNEJTIyYXJ0aWNsZSUyMiUyQyUwQSUyMCUyMCUyMCUyMHZvbHVtZSUzRCUyMjYyJTIyJTJDJTBBJTIwJTIwJTIwJTIwbnVtYmVyJTNEJTIyMS0yJTIyJTJDJTBBJTIwJTIwJTIwJTIwcHVibGlzaGVyJTNEJTIyRWxzZXZpZXIlMjIlMkMlMEElMjAlMjAlMjAlMjBJRCUzRCUyMnl1c3VmMTk5OWFnaWxlJTIyJTJDJTBBJTIwJTIwJTIwJTIwc2Nob2xhcjIwMTYlM0QlMjIxJTIyJTJDJTBBJTIwJTIwJTIwJTIwcGxhY2V4JTNEJTIySW50ZXJuYXRpb25hbCUyMEpvdXJuYWwlMjBvZiUyMHByb2R1Y3Rpb24lMjBlY29ub21pY3MlMjIlMkMlMEElMjklMjklMEElMjclMjclMjclMjklM0I=\")));\n",
       "    "
      ],
      "text/plain": [
       "<IPython.core.display.Javascript object>"
      ]
     },
     "metadata": {},
     "output_type": "display_data"
    },
    {
     "data": {
      "application/javascript": [
       "$('span:contains(\"# Temp\")').closest('.cell').remove();"
      ],
      "text/plain": [
       "<IPython.core.display.Javascript object>"
      ]
     },
     "metadata": {},
     "output_type": "display_data"
    },
    {
     "data": {
      "application/javascript": [
       "\n",
       "        $('span:contains(\"# Temp\")').closest('.cell').remove();\n",
       "        var code = IPython.notebook.insert_cell_below('code');\n",
       "        var prompt = code.element.find(\".input_prompt\");\n",
       "        prompt.append('<br><button style=\"height: 100%; width: 54px;\">Run</button>');\n",
       "        prompt.on(\"click\", \"button\", function(){\n",
       "            code.execute();\n",
       "        });\n",
       "        code.set_text(decodeURIComponent(window.atob(\"JTIzJTIwVGVtcCUwQWluc2VydCUyOCUyNyUyNyUyNyUwQWhpZ2hzbWl0aDIwMDFiJTIwJTNEJTIwREIlMjhXb3JrVW5yZWxhdGVkJTI4JTBBJTIwJTIwJTIwJTIwMjAwMSUyQyUyMCUyMkFnaWxlJTIwc29mdHdhcmUlMjBkZXZlbG9wbWVudCUzQSUyMFRoZSUyMGJ1c2luZXNzJTIwb2YlMjBpbm5vdmF0aW9uJTIyJTJDJTBBJTIwJTIwJTIwJTIwZGlzcGxheSUzRCUyMmhpZ2hzbWl0aCUyMGIlMjIlMkMlMEElMjAlMjAlMjAlMjBhdXRob3JzJTNEJTIySGlnaHNtaXRoJTJDJTIwSmltJTIwYW5kJTIwQ29ja2J1cm4lMkMlMjBBbGlzdGFpciUyMiUyQyUwQSUyMCUyMCUyMCUyMHBsYWNlJTNEQyUyQyUwQSUyMCUyMCUyMCUyMHBwJTNEJTIyMTIwLS0xMjclMjIlMkMlMEElMjAlMjAlMjAlMjBlbnRyeXR5cGUlM0QlMjJhcnRpY2xlJTIyJTJDJTBBJTIwJTIwJTIwJTIwdm9sdW1lJTNEJTIyMzQlMjIlMkMlMEElMjAlMjAlMjAlMjBudW1iZXIlM0QlMjI5JTIyJTJDJTBBJTIwJTIwJTIwJTIwcHVibGlzaGVyJTNEJTIySUVFRSUyMiUyQyUwQSUyMCUyMCUyMCUyMElEJTNEJTIyaGlnaHNtaXRoMjAwMWFnaWxlJTIyJTJDJTBBJTIwJTIwJTIwJTIwc2Nob2xhcjIwMTYlM0QlMjIxJTIyJTJDJTBBJTIwJTIwJTIwJTIwcGxhY2V4JTNEJTIyQ29tcHV0ZXIlMjIlMkMlMEElMjklMjklMEElMjclMjclMjclMjklM0I=\")));\n",
       "    "
      ],
      "text/plain": [
       "<IPython.core.display.Javascript object>"
      ]
     },
     "metadata": {},
     "output_type": "display_data"
    },
    {
     "data": {
      "application/javascript": [
       "$('span:contains(\"# Temp\")').closest('.cell').remove();"
      ],
      "text/plain": [
       "<IPython.core.display.Javascript object>"
      ]
     },
     "metadata": {},
     "output_type": "display_data"
    },
    {
     "data": {
      "application/javascript": [
       "\n",
       "        $('span:contains(\"# Temp\")').closest('.cell').remove();\n",
       "        var code = IPython.notebook.insert_cell_below('code');\n",
       "        var prompt = code.element.find(\".input_prompt\");\n",
       "        prompt.append('<br><button style=\"height: 100%; width: 54px;\">Run</button>');\n",
       "        prompt.on(\"click\", \"button\", function(){\n",
       "            code.execute();\n",
       "        });\n",
       "        code.set_text(decodeURIComponent(window.atob(\"JTIzJTIwVGVtcCUwQWluc2VydCUyOCUyNyUyNyUyNyUwQWhpZ2hzbWl0aDIwMDFiJTIwJTNEJTIwREIlMjhXb3JrVW5yZWxhdGVkJTI4JTBBJTIwJTIwJTIwJTIwMjAwMSUyQyUyMCUyMkFnaWxlJTIwc29mdHdhcmUlMjBkZXZlbG9wbWVudCUzQSUyMFRoZSUyMGJ1c2luZXNzJTIwb2YlMjBpbm5vdmF0aW9uJTIyJTJDJTBBJTIwJTIwJTIwJTIwZGlzcGxheSUzRCUyMmhpZ2hzbWl0aCUyMGIlMjIlMkMlMEElMjAlMjAlMjAlMjBhdXRob3JzJTNEJTIySGlnaHNtaXRoJTJDJTIwSmltJTIwYW5kJTIwQ29ja2J1cm4lMkMlMjBBbGlzdGFpciUyMiUyQyUwQSUyMCUyMCUyMCUyMHBsYWNlJTNEQyUyQyUwQSUyMCUyMCUyMCUyMHBwJTNEJTIyMTIwLS0xMjclMjIlMkMlMEElMjAlMjAlMjAlMjBlbnRyeXR5cGUlM0QlMjJhcnRpY2xlJTIyJTJDJTBBJTIwJTIwJTIwJTIwdm9sdW1lJTNEJTIyMzQlMjIlMkMlMEElMjAlMjAlMjAlMjBudW1iZXIlM0QlMjI5JTIyJTJDJTBBJTIwJTIwJTIwJTIwcHVibGlzaGVyJTNEJTIySUVFRSUyMiUyQyUwQSUyMCUyMCUyMCUyMElEJTNEJTIyaGlnaHNtaXRoMjAwMWFnaWxlJTIyJTJDJTBBJTIwJTIwJTIwJTIwc2Nob2xhcjIwMTYlM0QlMjIxJTIyJTJDJTBBJTIwJTIwJTIwJTIwcGxhY2V4JTNEJTIyQ29tcHV0ZXIlMjIlMkMlMEElMjklMjklMEElMjclMjclMjclMjklM0I=\")));\n",
       "    "
      ],
      "text/plain": [
       "<IPython.core.display.Javascript object>"
      ]
     },
     "metadata": {},
     "output_type": "display_data"
    },
    {
     "data": {
      "application/javascript": [
       "$('span:contains(\"# Temp\")').closest('.cell').remove();"
      ],
      "text/plain": [
       "<IPython.core.display.Javascript object>"
      ]
     },
     "metadata": {},
     "output_type": "display_data"
    },
    {
     "data": {
      "application/javascript": [
       "\n",
       "        $('span:contains(\"# Temp\")').closest('.cell').remove();\n",
       "        var code = IPython.notebook.insert_cell_below('code');\n",
       "        var prompt = code.element.find(\".input_prompt\");\n",
       "        prompt.append('<br><button style=\"height: 100%; width: 54px;\">Run</button>');\n",
       "        prompt.on(\"click\", \"button\", function(){\n",
       "            code.execute();\n",
       "        });\n",
       "        code.set_text(decodeURIComponent(window.atob(\"JTIzJTIwVGVtcCUwQWluc2VydCUyOCUyNyUyNyUyNyUwQXBpa2thcmFpbmVuMjAwNWIlMjAlM0QlMjBEQiUyOFdvcmtVbnJlbGF0ZWQlMjglMEElMjAlMjAlMjAlMjAyMDA1JTJDJTIwJTIyQW4lMjBhcHByb2FjaCUyMGZvciUyMGFzc2Vzc2luZyUyMHN1aXRhYmlsaXR5JTIwb2YlMjBhZ2lsZSUyMHNvbHV0aW9ucyUzQSUyMEElMjBjYXNlJTIwc3R1ZHklMjIlMkMlMEElMjAlMjAlMjAlMjBkaXNwbGF5JTNEJTIycGlra2FyYWluZW4lMjBiJTIyJTJDJTBBJTIwJTIwJTIwJTIwYXV0aG9ycyUzRCUyMlBpa2thcmFpbmVuJTJDJTIwTWlubmElMjBhbmQlMjBQYXNzb2phJTJDJTIwVWxsYSUyMiUyQyUwQSUyMCUyMCUyMCUyMHBsYWNlJTNERkFLRSUyQyUwQSUyMCUyMCUyMCUyMHBwJTNEJTIyMTcxLS0xNzklMjIlMkMlMEElMjAlMjAlMjAlMjBlbnRyeXR5cGUlM0QlMjJpbnByb2NlZWRpbmdzJTIyJTJDJTBBJTIwJTIwJTIwJTIwb3JnYW5pemF0aW9uJTNEJTIyU3ByaW5nZXIlMjIlMkMlMEElMjAlMjAlMjAlMjBJRCUzRCUyMnBpa2thcmFpbmVuMjAwNWFwcHJvYWNoJTIyJTJDJTBBJTIwJTIwJTIwJTIwc2Nob2xhcjIwMTYlM0QlMjIxJTIyJTJDJTBBJTIwJTIwJTIwJTIwcGxhY2V4JTNEJTIySW50ZXJuYXRpb25hbCUyMENvbmZlcmVuY2UlMjBvbiUyMEV4dHJlbWUlMjBQcm9ncmFtbWluZyUyMGFuZCUyMEFnaWxlJTIwUHJvY2Vzc2VzJTIwaW4lMjBTb2Z0d2FyZSUyMEVuZ2luZWVyaW5nJTIyJTJDJTBBJTI5JTI5JTBBJTI3JTI3JTI3JTI5JTNC\")));\n",
       "    "
      ],
      "text/plain": [
       "<IPython.core.display.Javascript object>"
      ]
     },
     "metadata": {},
     "output_type": "display_data"
    },
    {
     "data": {
      "application/javascript": [
       "$('span:contains(\"# Temp\")').closest('.cell').remove();"
      ],
      "text/plain": [
       "<IPython.core.display.Javascript object>"
      ]
     },
     "metadata": {},
     "output_type": "display_data"
    },
    {
     "data": {
      "application/javascript": [
       "\n",
       "        $('span:contains(\"# Temp\")').closest('.cell').remove();\n",
       "        var code = IPython.notebook.insert_cell_below('code');\n",
       "        var prompt = code.element.find(\".input_prompt\");\n",
       "        prompt.append('<br><button style=\"height: 100%; width: 54px;\">Run</button>');\n",
       "        prompt.on(\"click\", \"button\", function(){\n",
       "            code.execute();\n",
       "        });\n",
       "        code.set_text(decodeURIComponent(window.atob(\"JTIzJTIwVGVtcCUwQWluc2VydCUyOCUyNyUyNyUyNyUwQXBpa2thcmFpbmVuMjAwNWIlMjAlM0QlMjBEQiUyOFdvcmtVbnJlbGF0ZWQlMjglMEElMjAlMjAlMjAlMjAyMDA1JTJDJTIwJTIyQW4lMjBhcHByb2FjaCUyMGZvciUyMGFzc2Vzc2luZyUyMHN1aXRhYmlsaXR5JTIwb2YlMjBhZ2lsZSUyMHNvbHV0aW9ucyUzQSUyMEElMjBjYXNlJTIwc3R1ZHklMjIlMkMlMEElMjAlMjAlMjAlMjBkaXNwbGF5JTNEJTIycGlra2FyYWluZW4lMjBiJTIyJTJDJTBBJTIwJTIwJTIwJTIwYXV0aG9ycyUzRCUyMlBpa2thcmFpbmVuJTJDJTIwTWlubmElMjBhbmQlMjBQYXNzb2phJTJDJTIwVWxsYSUyMiUyQyUwQSUyMCUyMCUyMCUyMHBsYWNlJTNERkFLRSUyQyUwQSUyMCUyMCUyMCUyMHBwJTNEJTIyMTcxLS0xNzklMjIlMkMlMEElMjAlMjAlMjAlMjBlbnRyeXR5cGUlM0QlMjJpbnByb2NlZWRpbmdzJTIyJTJDJTBBJTIwJTIwJTIwJTIwb3JnYW5pemF0aW9uJTNEJTIyU3ByaW5nZXIlMjIlMkMlMEElMjAlMjAlMjAlMjBJRCUzRCUyMnBpa2thcmFpbmVuMjAwNWFwcHJvYWNoJTIyJTJDJTBBJTIwJTIwJTIwJTIwc2Nob2xhcjIwMTYlM0QlMjIxJTIyJTJDJTBBJTIwJTIwJTIwJTIwcGxhY2V4JTNEJTIySW50ZXJuYXRpb25hbCUyMENvbmZlcmVuY2UlMjBvbiUyMEV4dHJlbWUlMjBQcm9ncmFtbWluZyUyMGFuZCUyMEFnaWxlJTIwUHJvY2Vzc2VzJTIwaW4lMjBTb2Z0d2FyZSUyMEVuZ2luZWVyaW5nJTIyJTJDJTBBJTI5JTI5JTBBJTI3JTI3JTI3JTI5JTNC\")));\n",
       "    "
      ],
      "text/plain": [
       "<IPython.core.display.Javascript object>"
      ]
     },
     "metadata": {},
     "output_type": "display_data"
    },
    {
     "data": {
      "application/javascript": [
       "$('span:contains(\"# Temp\")').closest('.cell').remove();"
      ],
      "text/plain": [
       "<IPython.core.display.Javascript object>"
      ]
     },
     "metadata": {},
     "output_type": "display_data"
    },
    {
     "data": {
      "application/javascript": [
       "\n",
       "        $('span:contains(\"# Temp\")').closest('.cell').remove();\n",
       "        var code = IPython.notebook.insert_cell_below('code');\n",
       "        var prompt = code.element.find(\".input_prompt\");\n",
       "        prompt.append('<br><button style=\"height: 100%; width: 54px;\">Run</button>');\n",
       "        prompt.on(\"click\", \"button\", function(){\n",
       "            code.execute();\n",
       "        });\n",
       "        code.set_text(decodeURIComponent(window.atob(\"JTIzJTIwVGVtcCUwQWluc2VydCUyOCUyNyUyNyUyNyUwQXRoaWVtaWNoMjAxM2ElMjAlM0QlMjBEQiUyOFdvcmtVbnJlbGF0ZWQlMjglMEElMjAlMjAlMjAlMjAyMDEzJTJDJTIwJTIyQW4lMjBhZ2lsZSUyMEJQTSUyMHByb2plY3QlMjBtZXRob2RvbG9neSUyMiUyQyUwQSUyMCUyMCUyMCUyMGRpc3BsYXklM0QlMjJ0aGllbWljaCUyMiUyQyUwQSUyMCUyMCUyMCUyMGF1dGhvcnMlM0QlMjJUaGllbWljaCUyQyUyMENocmlzdGlhbiUyMGFuZCUyMFB1aGxtYW5uJTJDJTIwRnJhbmslMjIlMkMlMEElMjAlMjAlMjAlMjBwbGFjZSUzREZBS0UlMkMlMEElMjAlMjAlMjAlMjBwcCUzRCUyMjI5MS0tMzA2JTIyJTJDJTBBJTIwJTIwJTIwJTIwZW50cnl0eXBlJTNEJTIyaW5jb2xsZWN0aW9uJTIyJTJDJTBBJTIwJTIwJTIwJTIwcHVibGlzaGVyJTNEJTIyU3ByaW5nZXIlMjIlMkMlMEElMjAlMjAlMjAlMjBJRCUzRCUyMnRoaWVtaWNoMjAxM2FnaWxlJTIyJTJDJTBBJTIwJTIwJTIwJTIwc2Nob2xhcjIwMTYlM0QlMjIxJTIyJTJDJTBBJTIwJTIwJTIwJTIwcGxhY2V4JTNEJTIyQnVzaW5lc3MlMjBQcm9jZXNzJTIwTWFuYWdlbWVudCUyMiUyQyUwQSUyOSUyOSUwQSUyNyUyNyUyNyUyOSUzQg==\")));\n",
       "    "
      ],
      "text/plain": [
       "<IPython.core.display.Javascript object>"
      ]
     },
     "metadata": {},
     "output_type": "display_data"
    },
    {
     "data": {
      "application/javascript": [
       "$('span:contains(\"# Temp\")').closest('.cell').remove();"
      ],
      "text/plain": [
       "<IPython.core.display.Javascript object>"
      ]
     },
     "metadata": {},
     "output_type": "display_data"
    },
    {
     "data": {
      "application/javascript": [
       "\n",
       "        $('span:contains(\"# Temp\")').closest('.cell').remove();\n",
       "        var code = IPython.notebook.insert_cell_below('code');\n",
       "        var prompt = code.element.find(\".input_prompt\");\n",
       "        prompt.append('<br><button style=\"height: 100%; width: 54px;\">Run</button>');\n",
       "        prompt.on(\"click\", \"button\", function(){\n",
       "            code.execute();\n",
       "        });\n",
       "        code.set_text(decodeURIComponent(window.atob(\"JTIzJTIwVGVtcCUwQWluc2VydCUyOCUyNyUyNyUyNyUwQXRoaWVtaWNoMjAxM2ElMjAlM0QlMjBEQiUyOFdvcmtVbnJlbGF0ZWQlMjglMEElMjAlMjAlMjAlMjAyMDEzJTJDJTIwJTIyQW4lMjBhZ2lsZSUyMEJQTSUyMHByb2plY3QlMjBtZXRob2RvbG9neSUyMiUyQyUwQSUyMCUyMCUyMCUyMGRpc3BsYXklM0QlMjJ0aGllbWljaCUyMiUyQyUwQSUyMCUyMCUyMCUyMGF1dGhvcnMlM0QlMjJUaGllbWljaCUyQyUyMENocmlzdGlhbiUyMGFuZCUyMFB1aGxtYW5uJTJDJTIwRnJhbmslMjIlMkMlMEElMjAlMjAlMjAlMjBwbGFjZSUzREZBS0UlMkMlMEElMjAlMjAlMjAlMjBwcCUzRCUyMjI5MS0tMzA2JTIyJTJDJTBBJTIwJTIwJTIwJTIwZW50cnl0eXBlJTNEJTIyaW5jb2xsZWN0aW9uJTIyJTJDJTBBJTIwJTIwJTIwJTIwcHVibGlzaGVyJTNEJTIyU3ByaW5nZXIlMjIlMkMlMEElMjAlMjAlMjAlMjBJRCUzRCUyMnRoaWVtaWNoMjAxM2FnaWxlJTIyJTJDJTBBJTIwJTIwJTIwJTIwc2Nob2xhcjIwMTYlM0QlMjIxJTIyJTJDJTBBJTIwJTIwJTIwJTIwcGxhY2V4JTNEJTIyQnVzaW5lc3MlMjBQcm9jZXNzJTIwTWFuYWdlbWVudCUyMiUyQyUwQSUyOSUyOSUwQSUyNyUyNyUyNyUyOSUzQg==\")));\n",
       "    "
      ],
      "text/plain": [
       "<IPython.core.display.Javascript object>"
      ]
     },
     "metadata": {},
     "output_type": "display_data"
    },
    {
     "data": {
      "application/javascript": [
       "$('span:contains(\"# Temp\")').closest('.cell').remove();"
      ],
      "text/plain": [
       "<IPython.core.display.Javascript object>"
      ]
     },
     "metadata": {},
     "output_type": "display_data"
    },
    {
     "data": {
      "application/javascript": [
       "\n",
       "        $('span:contains(\"# Temp\")').closest('.cell').remove();\n",
       "        var code = IPython.notebook.insert_cell_below('code');\n",
       "        var prompt = code.element.find(\".input_prompt\");\n",
       "        prompt.append('<br><button style=\"height: 100%; width: 54px;\">Run</button>');\n",
       "        prompt.on(\"click\", \"button\", function(){\n",
       "            code.execute();\n",
       "        });\n",
       "        code.set_text(decodeURIComponent(window.atob(\"JTIzJTIwVGVtcCUwQWluc2VydCUyOCUyNyUyNyUyNyUwQWthaGtvbmVuMjAwNGElMjAlM0QlMjBEQiUyOFdvcmtVbnJlbGF0ZWQlMjglMEElMjAlMjAlMjAlMjAyMDA0JTJDJTIwJTIyQWdpbGUlMjBtZXRob2RzJTIwZm9yJTIwbGFyZ2UlMjBvcmdhbml6YXRpb25zLWJ1aWxkaW5nJTIwY29tbXVuaXRpZXMlMjBvZiUyMHByYWN0aWNlJTIyJTJDJTBBJTIwJTIwJTIwJTIwZGlzcGxheSUzRCUyMmthaGtvbmVuJTIyJTJDJTBBJTIwJTIwJTIwJTIwYXV0aG9ycyUzRCUyMkthaGtvbmVuJTJDJTIwVHVvbW8lMjIlMkMlMEElMjAlMjAlMjAlMjBwbGFjZSUzREZBS0UlMkMlMEElMjAlMjAlMjAlMjBwcCUzRCUyMjItLTEwJTIyJTJDJTBBJTIwJTIwJTIwJTIwZW50cnl0eXBlJTNEJTIyaW5wcm9jZWVkaW5ncyUyMiUyQyUwQSUyMCUyMCUyMCUyMG9yZ2FuaXphdGlvbiUzRCUyMklFRUUlMjIlMkMlMEElMjAlMjAlMjAlMjBJRCUzRCUyMmthaGtvbmVuMjAwNGFnaWxlJTIyJTJDJTBBJTIwJTIwJTIwJTIwc2Nob2xhcjIwMTYlM0QlMjIxJTIyJTJDJTBBJTIwJTIwJTIwJTIwcGxhY2V4JTNEJTIyQWdpbGUlMjBEZXZlbG9wbWVudCUyMENvbmZlcmVuY2UlMkMlMjAyMDA0JTIyJTJDJTBBJTI5JTI5JTBBJTI3JTI3JTI3JTI5JTNC\")));\n",
       "    "
      ],
      "text/plain": [
       "<IPython.core.display.Javascript object>"
      ]
     },
     "metadata": {},
     "output_type": "display_data"
    },
    {
     "data": {
      "application/javascript": [
       "$('span:contains(\"# Temp\")').closest('.cell').remove();"
      ],
      "text/plain": [
       "<IPython.core.display.Javascript object>"
      ]
     },
     "metadata": {},
     "output_type": "display_data"
    },
    {
     "data": {
      "application/javascript": [
       "\n",
       "        $('span:contains(\"# Temp\")').closest('.cell').remove();\n",
       "        var code = IPython.notebook.insert_cell_below('code');\n",
       "        var prompt = code.element.find(\".input_prompt\");\n",
       "        prompt.append('<br><button style=\"height: 100%; width: 54px;\">Run</button>');\n",
       "        prompt.on(\"click\", \"button\", function(){\n",
       "            code.execute();\n",
       "        });\n",
       "        code.set_text(decodeURIComponent(window.atob(\"JTIzJTIwVGVtcCUwQWluc2VydCUyOCUyNyUyNyUyNyUwQWthaGtvbmVuMjAwNGElMjAlM0QlMjBEQiUyOFdvcmtVbnJlbGF0ZWQlMjglMEElMjAlMjAlMjAlMjAyMDA0JTJDJTIwJTIyQWdpbGUlMjBtZXRob2RzJTIwZm9yJTIwbGFyZ2UlMjBvcmdhbml6YXRpb25zLWJ1aWxkaW5nJTIwY29tbXVuaXRpZXMlMjBvZiUyMHByYWN0aWNlJTIyJTJDJTBBJTIwJTIwJTIwJTIwZGlzcGxheSUzRCUyMmthaGtvbmVuJTIyJTJDJTBBJTIwJTIwJTIwJTIwYXV0aG9ycyUzRCUyMkthaGtvbmVuJTJDJTIwVHVvbW8lMjIlMkMlMEElMjAlMjAlMjAlMjBwbGFjZSUzREZBS0UlMkMlMEElMjAlMjAlMjAlMjBwcCUzRCUyMjItLTEwJTIyJTJDJTBBJTIwJTIwJTIwJTIwZW50cnl0eXBlJTNEJTIyaW5wcm9jZWVkaW5ncyUyMiUyQyUwQSUyMCUyMCUyMCUyMG9yZ2FuaXphdGlvbiUzRCUyMklFRUUlMjIlMkMlMEElMjAlMjAlMjAlMjBJRCUzRCUyMmthaGtvbmVuMjAwNGFnaWxlJTIyJTJDJTBBJTIwJTIwJTIwJTIwc2Nob2xhcjIwMTYlM0QlMjIxJTIyJTJDJTBBJTIwJTIwJTIwJTIwcGxhY2V4JTNEJTIyQWdpbGUlMjBEZXZlbG9wbWVudCUyMENvbmZlcmVuY2UlMkMlMjAyMDA0JTIyJTJDJTBBJTI5JTI5JTBBJTI3JTI3JTI3JTI5JTNC\")));\n",
       "    "
      ],
      "text/plain": [
       "<IPython.core.display.Javascript object>"
      ]
     },
     "metadata": {},
     "output_type": "display_data"
    },
    {
     "data": {
      "application/javascript": [
       "$('span:contains(\"# Temp\")').closest('.cell').remove();"
      ],
      "text/plain": [
       "<IPython.core.display.Javascript object>"
      ]
     },
     "metadata": {},
     "output_type": "display_data"
    },
    {
     "data": {
      "application/javascript": [
       "\n",
       "        $('span:contains(\"# Temp\")').closest('.cell').remove();\n",
       "        var code = IPython.notebook.insert_cell_below('code');\n",
       "        var prompt = code.element.find(\".input_prompt\");\n",
       "        prompt.append('<br><button style=\"height: 100%; width: 54px;\">Run</button>');\n",
       "        prompt.on(\"click\", \"button\", function(){\n",
       "            code.execute();\n",
       "        });\n",
       "        code.set_text(decodeURIComponent(window.atob(\"JTIzJTIwVGVtcCUwQWluc2VydCUyOCUyNyUyNyUyNyUyNyUyNyUyNyUyOSUzQiUwQXNldF9hdHRyaWJ1dGUlMjglMjdyb2RyJUMzJUFEZ3VlejIwMTRhJTI3JTJDJTIwJTI3c2Nob2xhcjIwMTYlMjclMkMlMjAlMjcxJTI3JTI5JTNC\")));\n",
       "    "
      ],
      "text/plain": [
       "<IPython.core.display.Javascript object>"
      ]
     },
     "metadata": {},
     "output_type": "display_data"
    },
    {
     "data": {
      "application/javascript": [
       "$('span:contains(\"# Temp\")').closest('.cell').remove();"
      ],
      "text/plain": [
       "<IPython.core.display.Javascript object>"
      ]
     },
     "metadata": {},
     "output_type": "display_data"
    },
    {
     "data": {
      "application/javascript": [
       "\n",
       "        $('span:contains(\"# Temp\")').closest('.cell').remove();\n",
       "        var code = IPython.notebook.insert_cell_below('code');\n",
       "        var prompt = code.element.find(\".input_prompt\");\n",
       "        prompt.append('<br><button style=\"height: 100%; width: 54px;\">Run</button>');\n",
       "        prompt.on(\"click\", \"button\", function(){\n",
       "            code.execute();\n",
       "        });\n",
       "        code.set_text(decodeURIComponent(window.atob(\"JTIzJTIwVGVtcCUwQWluc2VydCUyOCUyNyUyNyUyNyUyNyUyNyUyNyUyOSUzQiUwQXNldF9hdHRyaWJ1dGUlMjglMjdyb2RyJUMzJUFEZ3VlejIwMTRhJTI3JTJDJTIwJTI3c2Nob2xhcjIwMTYlMjclMkMlMjAlMjcxJTI3JTI5JTNC\")));\n",
       "    "
      ],
      "text/plain": [
       "<IPython.core.display.Javascript object>"
      ]
     },
     "metadata": {},
     "output_type": "display_data"
    },
    {
     "data": {
      "application/javascript": [
       "$('span:contains(\"# Temp\")').closest('.cell').remove();"
      ],
      "text/plain": [
       "<IPython.core.display.Javascript object>"
      ]
     },
     "metadata": {},
     "output_type": "display_data"
    },
    {
     "data": {
      "application/javascript": [
       "\n",
       "        $('span:contains(\"# Temp\")').closest('.cell').remove();\n",
       "        var code = IPython.notebook.insert_cell_below('code');\n",
       "        var prompt = code.element.find(\".input_prompt\");\n",
       "        prompt.append('<br><button style=\"height: 100%; width: 54px;\">Run</button>');\n",
       "        prompt.on(\"click\", \"button\", function(){\n",
       "            code.execute();\n",
       "        });\n",
       "        code.set_text(decodeURIComponent(window.atob(\"JTIzJTIwVGVtcCUwQWluc2VydCUyOCUyNyUyNyUyNyUyNyUyNyUyNyUyOSUzQiUwQXNldF9hdHRyaWJ1dGUlMjglMjdmaXR6Z2VyYWxkMjAwNmElMjclMkMlMjAlMjdwdWJsaXNoZXIlMjclMkMlMjAlMjdUYXlsb3IlMjAlMjYlMjBGcmFuY2lzJTI3JTI5JTNCJTBBc2V0X2F0dHJpYnV0ZSUyOCUyN2ZpdHpnZXJhbGQyMDA2YSUyNyUyQyUyMCUyN3NjaG9sYXIyMDE2JTI3JTJDJTIwJTI3MSUyNyUyOSUzQg==\")));\n",
       "    "
      ],
      "text/plain": [
       "<IPython.core.display.Javascript object>"
      ]
     },
     "metadata": {},
     "output_type": "display_data"
    },
    {
     "data": {
      "application/javascript": [
       "$('span:contains(\"# Temp\")').closest('.cell').remove();"
      ],
      "text/plain": [
       "<IPython.core.display.Javascript object>"
      ]
     },
     "metadata": {},
     "output_type": "display_data"
    },
    {
     "data": {
      "application/javascript": [
       "\n",
       "        $('span:contains(\"# Temp\")').closest('.cell').remove();\n",
       "        var code = IPython.notebook.insert_cell_below('code');\n",
       "        var prompt = code.element.find(\".input_prompt\");\n",
       "        prompt.append('<br><button style=\"height: 100%; width: 54px;\">Run</button>');\n",
       "        prompt.on(\"click\", \"button\", function(){\n",
       "            code.execute();\n",
       "        });\n",
       "        code.set_text(decodeURIComponent(window.atob(\"JTIzJTIwVGVtcCUwQWluc2VydCUyOCUyNyUyNyUyNyUyNyUyNyUyNyUyOSUzQiUwQXNldF9hdHRyaWJ1dGUlMjglMjdmaXR6Z2VyYWxkMjAwNmElMjclMkMlMjAlMjdwdWJsaXNoZXIlMjclMkMlMjAlMjdUYXlsb3IlMjAlMjYlMjBGcmFuY2lzJTI3JTI5JTNCJTBBc2V0X2F0dHJpYnV0ZSUyOCUyN2ZpdHpnZXJhbGQyMDA2YSUyNyUyQyUyMCUyN3NjaG9sYXIyMDE2JTI3JTJDJTIwJTI3MSUyNyUyOSUzQg==\")));\n",
       "    "
      ],
      "text/plain": [
       "<IPython.core.display.Javascript object>"
      ]
     },
     "metadata": {},
     "output_type": "display_data"
    },
    {
     "data": {
      "application/javascript": [
       "$('span:contains(\"# Temp\")').closest('.cell').remove();"
      ],
      "text/plain": [
       "<IPython.core.display.Javascript object>"
      ]
     },
     "metadata": {},
     "output_type": "display_data"
    },
    {
     "data": {
      "application/javascript": [
       "\n",
       "        $('span:contains(\"# Temp\")').closest('.cell').remove();\n",
       "        var code = IPython.notebook.insert_cell_below('code');\n",
       "        var prompt = code.element.find(\".input_prompt\");\n",
       "        prompt.append('<br><button style=\"height: 100%; width: 54px;\">Run</button>');\n",
       "        prompt.on(\"click\", \"button\", function(){\n",
       "            code.execute();\n",
       "        });\n",
       "        code.set_text(decodeURIComponent(window.atob(\"JTIzJTIwVGVtcCUwQWluc2VydCUyOCUyNyUyNyUyNyUwQXBhZXRzY2gyMDAzYSUyMCUzRCUyMERCJTI4V29ya1VucmVsYXRlZCUyOCUwQSUyMCUyMCUyMCUyMDIwMDMlMkMlMjAlMjJSZXF1aXJlbWVudHMlMjBlbmdpbmVlcmluZyUyMGFuZCUyMGFnaWxlJTIwc29mdHdhcmUlMjBkZXZlbG9wbWVudCUyMiUyQyUwQSUyMCUyMCUyMCUyMGRpc3BsYXklM0QlMjJwYWV0c2NoJTIyJTJDJTBBJTIwJTIwJTIwJTIwYXV0aG9ycyUzRCUyMlBhZXRzY2glMkMlMjBGcmF1a2UlMjBhbmQlMjBFYmVybGVpbiUyQyUyMEFybWluJTIwYW5kJTIwTWF1cmVyJTJDJTIwRnJhbmslMjIlMkMlMEElMjAlMjAlMjAlMjBwbGFjZSUzREZBS0UlMkMlMEElMjAlMjAlMjAlMjBwcCUzRCUyMjMwOC0tMzEzJTIyJTJDJTBBJTIwJTIwJTIwJTIwZW50cnl0eXBlJTNEJTIyaW5wcm9jZWVkaW5ncyUyMiUyQyUwQSUyMCUyMCUyMCUyMG9yZ2FuaXphdGlvbiUzRCUyMklFRUUlMjIlMkMlMEElMjAlMjAlMjAlMjBJRCUzRCUyMnBhZXRzY2gyMDAzcmVxdWlyZW1lbnRzJTIyJTJDJTBBJTIwJTIwJTIwJTIwc2Nob2xhcjIwMTYlM0QlMjIxJTIyJTJDJTBBJTIwJTIwJTIwJTIwcGxhY2V4JTNEJTIyRW5hYmxpbmclMjBUZWNobm9sb2dpZXMlM0ElMjBJbmZyYXN0cnVjdHVyZSUyMGZvciUyMENvbGxhYm9yYXRpdmUlMjBFbnRlcnByaXNlcyUyQyUyMDIwMDMuJTIwV0VUJTIwSUNFJTIwMjAwMy4lMjBQcm9jZWVkaW5ncy4lMjBUd2VsZnRoJTIwSUVFRSUyMEludGVybmF0aW9uYWwlMjBXb3Jrc2hvcHMlMjBvbiUyMiUyQyUwQSUyOSUyOSUwQSUyNyUyNyUyNyUyOSUzQg==\")));\n",
       "    "
      ],
      "text/plain": [
       "<IPython.core.display.Javascript object>"
      ]
     },
     "metadata": {},
     "output_type": "display_data"
    },
    {
     "data": {
      "application/javascript": [
       "$('span:contains(\"# Temp\")').closest('.cell').remove();"
      ],
      "text/plain": [
       "<IPython.core.display.Javascript object>"
      ]
     },
     "metadata": {},
     "output_type": "display_data"
    },
    {
     "data": {
      "application/javascript": [
       "\n",
       "        $('span:contains(\"# Temp\")').closest('.cell').remove();\n",
       "        var code = IPython.notebook.insert_cell_below('code');\n",
       "        var prompt = code.element.find(\".input_prompt\");\n",
       "        prompt.append('<br><button style=\"height: 100%; width: 54px;\">Run</button>');\n",
       "        prompt.on(\"click\", \"button\", function(){\n",
       "            code.execute();\n",
       "        });\n",
       "        code.set_text(decodeURIComponent(window.atob(\"JTIzJTIwVGVtcCUwQWluc2VydCUyOCUyNyUyNyUyNyUwQXBhZXRzY2gyMDAzYSUyMCUzRCUyMERCJTI4V29ya1VucmVsYXRlZCUyOCUwQSUyMCUyMCUyMCUyMDIwMDMlMkMlMjAlMjJSZXF1aXJlbWVudHMlMjBlbmdpbmVlcmluZyUyMGFuZCUyMGFnaWxlJTIwc29mdHdhcmUlMjBkZXZlbG9wbWVudCUyMiUyQyUwQSUyMCUyMCUyMCUyMGRpc3BsYXklM0QlMjJwYWV0c2NoJTIyJTJDJTBBJTIwJTIwJTIwJTIwYXV0aG9ycyUzRCUyMlBhZXRzY2glMkMlMjBGcmF1a2UlMjBhbmQlMjBFYmVybGVpbiUyQyUyMEFybWluJTIwYW5kJTIwTWF1cmVyJTJDJTIwRnJhbmslMjIlMkMlMEElMjAlMjAlMjAlMjBwbGFjZSUzREZBS0UlMkMlMEElMjAlMjAlMjAlMjBwcCUzRCUyMjMwOC0tMzEzJTIyJTJDJTBBJTIwJTIwJTIwJTIwZW50cnl0eXBlJTNEJTIyaW5wcm9jZWVkaW5ncyUyMiUyQyUwQSUyMCUyMCUyMCUyMG9yZ2FuaXphdGlvbiUzRCUyMklFRUUlMjIlMkMlMEElMjAlMjAlMjAlMjBJRCUzRCUyMnBhZXRzY2gyMDAzcmVxdWlyZW1lbnRzJTIyJTJDJTBBJTIwJTIwJTIwJTIwc2Nob2xhcjIwMTYlM0QlMjIxJTIyJTJDJTBBJTIwJTIwJTIwJTIwcGxhY2V4JTNEJTIyRW5hYmxpbmclMjBUZWNobm9sb2dpZXMlM0ElMjBJbmZyYXN0cnVjdHVyZSUyMGZvciUyMENvbGxhYm9yYXRpdmUlMjBFbnRlcnByaXNlcyUyQyUyMDIwMDMuJTIwV0VUJTIwSUNFJTIwMjAwMy4lMjBQcm9jZWVkaW5ncy4lMjBUd2VsZnRoJTIwSUVFRSUyMEludGVybmF0aW9uYWwlMjBXb3Jrc2hvcHMlMjBvbiUyMiUyQyUwQSUyOSUyOSUwQSUyNyUyNyUyNyUyOSUzQg==\")));\n",
       "    "
      ],
      "text/plain": [
       "<IPython.core.display.Javascript object>"
      ]
     },
     "metadata": {},
     "output_type": "display_data"
    },
    {
     "data": {
      "application/javascript": [
       "$('span:contains(\"# Temp\")').closest('.cell').remove();"
      ],
      "text/plain": [
       "<IPython.core.display.Javascript object>"
      ]
     },
     "metadata": {},
     "output_type": "display_data"
    },
    {
     "data": {
      "application/javascript": [
       "\n",
       "        $('span:contains(\"# Temp\")').closest('.cell').remove();\n",
       "        var code = IPython.notebook.insert_cell_below('code');\n",
       "        var prompt = code.element.find(\".input_prompt\");\n",
       "        prompt.append('<br><button style=\"height: 100%; width: 54px;\">Run</button>');\n",
       "        prompt.on(\"click\", \"button\", function(){\n",
       "            code.execute();\n",
       "        });\n",
       "        code.set_text(decodeURIComponent(window.atob(\"JTIzJTIwVGVtcCUwQWluc2VydCUyOCUyNyUyNyUyNyUwQWZyeTIwMDdhJTIwJTNEJTIwREIlMjhXb3JrVW5yZWxhdGVkJTI4JTBBJTIwJTIwJTIwJTIwMjAwNyUyQyUyMCUyMkxhcmdlJTIwc2NhbGUlMjBhZ2lsZSUyMHRyYW5zZm9ybWF0aW9uJTIwaW4lMjBhbiUyMG9uLWRlbWFuZCUyMHdvcmxkJTIyJTJDJTBBJTIwJTIwJTIwJTIwZGlzcGxheSUzRCUyMmZyeSUyMiUyQyUwQSUyMCUyMCUyMCUyMGF1dGhvcnMlM0QlMjJGcnklMkMlMjBDaHJpcyUyMGFuZCUyMEdyZWVuZSUyQyUyMFN0ZXZlJTIyJTJDJTBBJTIwJTIwJTIwJTIwcGxhY2UlM0RGQUtFJTJDJTBBJTIwJTIwJTIwJTIwcHAlM0QlMjIxMzYtLTE0MiUyMiUyQyUwQSUyMCUyMCUyMCUyMGVudHJ5dHlwZSUzRCUyMmlucHJvY2VlZGluZ3MlMjIlMkMlMEElMjAlMjAlMjAlMjBvcmdhbml6YXRpb24lM0QlMjJJRUVFJTIyJTJDJTBBJTIwJTIwJTIwJTIwSUQlM0QlMjJmcnkyMDA3bGFyZ2UlMjIlMkMlMEElMjAlMjAlMjAlMjBzY2hvbGFyMjAxNiUzRCUyMjElMjIlMkMlMEElMjAlMjAlMjAlMjBwbGFjZXglM0QlMjJBZ2lsZSUyMENvbmZlcmVuY2UlMjAlMjhBR0lMRSUyOSUyQyUyMDIwMDclMjIlMkMlMEElMjklMjklMEElMjclMjclMjclMjklM0I=\")));\n",
       "    "
      ],
      "text/plain": [
       "<IPython.core.display.Javascript object>"
      ]
     },
     "metadata": {},
     "output_type": "display_data"
    },
    {
     "data": {
      "application/javascript": [
       "$('span:contains(\"# Temp\")').closest('.cell').remove();"
      ],
      "text/plain": [
       "<IPython.core.display.Javascript object>"
      ]
     },
     "metadata": {},
     "output_type": "display_data"
    },
    {
     "data": {
      "application/javascript": [
       "\n",
       "        $('span:contains(\"# Temp\")').closest('.cell').remove();\n",
       "        var code = IPython.notebook.insert_cell_below('code');\n",
       "        var prompt = code.element.find(\".input_prompt\");\n",
       "        prompt.append('<br><button style=\"height: 100%; width: 54px;\">Run</button>');\n",
       "        prompt.on(\"click\", \"button\", function(){\n",
       "            code.execute();\n",
       "        });\n",
       "        code.set_text(decodeURIComponent(window.atob(\"JTIzJTIwVGVtcCUwQWluc2VydCUyOCUyNyUyNyUyNyUwQWZyeTIwMDdhJTIwJTNEJTIwREIlMjhXb3JrVW5yZWxhdGVkJTI4JTBBJTIwJTIwJTIwJTIwMjAwNyUyQyUyMCUyMkxhcmdlJTIwc2NhbGUlMjBhZ2lsZSUyMHRyYW5zZm9ybWF0aW9uJTIwaW4lMjBhbiUyMG9uLWRlbWFuZCUyMHdvcmxkJTIyJTJDJTBBJTIwJTIwJTIwJTIwZGlzcGxheSUzRCUyMmZyeSUyMiUyQyUwQSUyMCUyMCUyMCUyMGF1dGhvcnMlM0QlMjJGcnklMkMlMjBDaHJpcyUyMGFuZCUyMEdyZWVuZSUyQyUyMFN0ZXZlJTIyJTJDJTBBJTIwJTIwJTIwJTIwcGxhY2UlM0RGQUtFJTJDJTBBJTIwJTIwJTIwJTIwcHAlM0QlMjIxMzYtLTE0MiUyMiUyQyUwQSUyMCUyMCUyMCUyMGVudHJ5dHlwZSUzRCUyMmlucHJvY2VlZGluZ3MlMjIlMkMlMEElMjAlMjAlMjAlMjBvcmdhbml6YXRpb24lM0QlMjJJRUVFJTIyJTJDJTBBJTIwJTIwJTIwJTIwSUQlM0QlMjJmcnkyMDA3bGFyZ2UlMjIlMkMlMEElMjAlMjAlMjAlMjBzY2hvbGFyMjAxNiUzRCUyMjElMjIlMkMlMEElMjAlMjAlMjAlMjBwbGFjZXglM0QlMjJBZ2lsZSUyMENvbmZlcmVuY2UlMjAlMjhBR0lMRSUyOSUyQyUyMDIwMDclMjIlMkMlMEElMjklMjklMEElMjclMjclMjclMjklM0I=\")));\n",
       "    "
      ],
      "text/plain": [
       "<IPython.core.display.Javascript object>"
      ]
     },
     "metadata": {},
     "output_type": "display_data"
    },
    {
     "data": {
      "application/javascript": [
       "$('span:contains(\"# Temp\")').closest('.cell').remove();"
      ],
      "text/plain": [
       "<IPython.core.display.Javascript object>"
      ]
     },
     "metadata": {},
     "output_type": "display_data"
    },
    {
     "data": {
      "application/javascript": [
       "\n",
       "        $('span:contains(\"# Temp\")').closest('.cell').remove();\n",
       "        var code = IPython.notebook.insert_cell_below('code');\n",
       "        var prompt = code.element.find(\".input_prompt\");\n",
       "        prompt.append('<br><button style=\"height: 100%; width: 54px;\">Run</button>');\n",
       "        prompt.on(\"click\", \"button\", function(){\n",
       "            code.execute();\n",
       "        });\n",
       "        code.set_text(decodeURIComponent(window.atob(\"JTIzJTIwVGVtcCUwQWluc2VydCUyOCUyNyUyNyUyNyUwQWNvb3BlcjIwMTZjJTIwJTNEJTIwREIlMjhXb3JrVW5yZWxhdGVkJTI4JTBBJTIwJTIwJTIwJTIwMjAxNiUyQyUyMCUyMkFnaWxlLVN0YWdlLUdhdGUlM0ElMjBOZXclMjBpZGVhLXRvLWxhdW5jaCUyMG1ldGhvZCUyMGZvciUyMG1hbnVmYWN0dXJlZCUyMG5ldyUyMHByb2R1Y3RzJTIwaXMlMjBmYXN0ZXIlMkMlMjBtb3JlJTIwcmVzcG9uc2l2ZSUyMiUyQyUwQSUyMCUyMCUyMCUyMGRpc3BsYXklM0QlMjJjb29wZXIlMjBjJTIyJTJDJTBBJTIwJTIwJTIwJTIwYXV0aG9ycyUzRCUyMkNvb3BlciUyQyUyMFJvYmVydCUyMEclMjBhbmQlMjBTb21tZXIlMkMlMjBBbml0YSUyMEYlMjIlMkMlMEElMjAlMjAlMjAlMjBwbGFjZSUzREZBS0UlMkMlMEElMjAlMjAlMjAlMjBwcCUzRCUyMjE2Ny0tMTgwJTIyJTJDJTBBJTIwJTIwJTIwJTIwZW50cnl0eXBlJTNEJTIyYXJ0aWNsZSUyMiUyQyUwQSUyMCUyMCUyMCUyMHZvbHVtZSUzRCUyMjU5JTIyJTJDJTBBJTIwJTIwJTIwJTIwcHVibGlzaGVyJTNEJTIyRWxzZXZpZXIlMjIlMkMlMEElMjAlMjAlMjAlMjBJRCUzRCUyMmNvb3BlcjIwMTZhZ2lsZSUyMiUyQyUwQSUyMCUyMCUyMCUyMHNjaG9sYXIyMDE2JTNEJTIyMSUyMiUyQyUwQSUyMCUyMCUyMCUyMHBsYWNleCUzRCUyMkluZHVzdHJpYWwlMjBNYXJrZXRpbmclMjBNYW5hZ2VtZW50JTIyJTJDJTBBJTI5JTI5JTBBJTI3JTI3JTI3JTI5JTNC\")));\n",
       "    "
      ],
      "text/plain": [
       "<IPython.core.display.Javascript object>"
      ]
     },
     "metadata": {},
     "output_type": "display_data"
    },
    {
     "data": {
      "application/javascript": [
       "$('span:contains(\"# Temp\")').closest('.cell').remove();"
      ],
      "text/plain": [
       "<IPython.core.display.Javascript object>"
      ]
     },
     "metadata": {},
     "output_type": "display_data"
    },
    {
     "data": {
      "application/javascript": [
       "\n",
       "        $('span:contains(\"# Temp\")').closest('.cell').remove();\n",
       "        var code = IPython.notebook.insert_cell_below('code');\n",
       "        var prompt = code.element.find(\".input_prompt\");\n",
       "        prompt.append('<br><button style=\"height: 100%; width: 54px;\">Run</button>');\n",
       "        prompt.on(\"click\", \"button\", function(){\n",
       "            code.execute();\n",
       "        });\n",
       "        code.set_text(decodeURIComponent(window.atob(\"JTIzJTIwVGVtcCUwQWluc2VydCUyOCUyNyUyNyUyNyUwQWNvb3BlcjIwMTZjJTIwJTNEJTIwREIlMjhXb3JrVW5yZWxhdGVkJTI4JTBBJTIwJTIwJTIwJTIwMjAxNiUyQyUyMCUyMkFnaWxlLVN0YWdlLUdhdGUlM0ElMjBOZXclMjBpZGVhLXRvLWxhdW5jaCUyMG1ldGhvZCUyMGZvciUyMG1hbnVmYWN0dXJlZCUyMG5ldyUyMHByb2R1Y3RzJTIwaXMlMjBmYXN0ZXIlMkMlMjBtb3JlJTIwcmVzcG9uc2l2ZSUyMiUyQyUwQSUyMCUyMCUyMCUyMGRpc3BsYXklM0QlMjJjb29wZXIlMjBjJTIyJTJDJTBBJTIwJTIwJTIwJTIwYXV0aG9ycyUzRCUyMkNvb3BlciUyQyUyMFJvYmVydCUyMEclMjBhbmQlMjBTb21tZXIlMkMlMjBBbml0YSUyMEYlMjIlMkMlMEElMjAlMjAlMjAlMjBwbGFjZSUzREZBS0UlMkMlMEElMjAlMjAlMjAlMjBwcCUzRCUyMjE2Ny0tMTgwJTIyJTJDJTBBJTIwJTIwJTIwJTIwZW50cnl0eXBlJTNEJTIyYXJ0aWNsZSUyMiUyQyUwQSUyMCUyMCUyMCUyMHZvbHVtZSUzRCUyMjU5JTIyJTJDJTBBJTIwJTIwJTIwJTIwcHVibGlzaGVyJTNEJTIyRWxzZXZpZXIlMjIlMkMlMEElMjAlMjAlMjAlMjBJRCUzRCUyMmNvb3BlcjIwMTZhZ2lsZSUyMiUyQyUwQSUyMCUyMCUyMCUyMHNjaG9sYXIyMDE2JTNEJTIyMSUyMiUyQyUwQSUyMCUyMCUyMCUyMHBsYWNleCUzRCUyMkluZHVzdHJpYWwlMjBNYXJrZXRpbmclMjBNYW5hZ2VtZW50JTIyJTJDJTBBJTI5JTI5JTBBJTI3JTI3JTI3JTI5JTNC\")));\n",
       "    "
      ],
      "text/plain": [
       "<IPython.core.display.Javascript object>"
      ]
     },
     "metadata": {},
     "output_type": "display_data"
    },
    {
     "data": {
      "application/javascript": [
       "$('span:contains(\"# Temp\")').closest('.cell').remove();"
      ],
      "text/plain": [
       "<IPython.core.display.Javascript object>"
      ]
     },
     "metadata": {},
     "output_type": "display_data"
    },
    {
     "data": {
      "application/javascript": [
       "\n",
       "        $('span:contains(\"# Temp\")').closest('.cell').remove();\n",
       "        var code = IPython.notebook.insert_cell_below('code');\n",
       "        var prompt = code.element.find(\".input_prompt\");\n",
       "        prompt.append('<br><button style=\"height: 100%; width: 54px;\">Run</button>');\n",
       "        prompt.on(\"click\", \"button\", function(){\n",
       "            code.execute();\n",
       "        });\n",
       "        code.set_text(decodeURIComponent(window.atob(\"JTIzJTIwVGVtcCUwQWluc2VydCUyOCUyNyUyNyUyNyUyNyUyNyUyNyUyOSUzQiUwQXNldF9hdHRyaWJ1dGUlMjglMjd3YWFyZGVuYnVyZzIwMTNhJTI3JTJDJTIwJTI3c2Nob2xhcjIwMTYlMjclMkMlMjAlMjcxJTI3JTI5JTNC\")));\n",
       "    "
      ],
      "text/plain": [
       "<IPython.core.display.Javascript object>"
      ]
     },
     "metadata": {},
     "output_type": "display_data"
    },
    {
     "data": {
      "application/javascript": [
       "$('span:contains(\"# Temp\")').closest('.cell').remove();"
      ],
      "text/plain": [
       "<IPython.core.display.Javascript object>"
      ]
     },
     "metadata": {},
     "output_type": "display_data"
    },
    {
     "data": {
      "application/javascript": [
       "\n",
       "        $('span:contains(\"# Temp\")').closest('.cell').remove();\n",
       "        var code = IPython.notebook.insert_cell_below('code');\n",
       "        var prompt = code.element.find(\".input_prompt\");\n",
       "        prompt.append('<br><button style=\"height: 100%; width: 54px;\">Run</button>');\n",
       "        prompt.on(\"click\", \"button\", function(){\n",
       "            code.execute();\n",
       "        });\n",
       "        code.set_text(decodeURIComponent(window.atob(\"JTIzJTIwVGVtcCUwQWluc2VydCUyOCUyNyUyNyUyNyUyNyUyNyUyNyUyOSUzQiUwQXNldF9hdHRyaWJ1dGUlMjglMjd3YWFyZGVuYnVyZzIwMTNhJTI3JTJDJTIwJTI3c2Nob2xhcjIwMTYlMjclMkMlMjAlMjcxJTI3JTI5JTNC\")));\n",
       "    "
      ],
      "text/plain": [
       "<IPython.core.display.Javascript object>"
      ]
     },
     "metadata": {},
     "output_type": "display_data"
    },
    {
     "data": {
      "application/javascript": [
       "$('span:contains(\"# Temp\")').closest('.cell').remove();"
      ],
      "text/plain": [
       "<IPython.core.display.Javascript object>"
      ]
     },
     "metadata": {},
     "output_type": "display_data"
    },
    {
     "data": {
      "application/javascript": [
       "\n",
       "        $('span:contains(\"# Temp\")').closest('.cell').remove();\n",
       "        var code = IPython.notebook.insert_cell_below('code');\n",
       "        var prompt = code.element.find(\".input_prompt\");\n",
       "        prompt.append('<br><button style=\"height: 100%; width: 54px;\">Run</button>');\n",
       "        prompt.on(\"click\", \"button\", function(){\n",
       "            code.execute();\n",
       "        });\n",
       "        code.set_text(decodeURIComponent(window.atob(\"JTIzJTIwVGVtcCUwQWluc2VydCUyOCUyNyUyNyUyNyUwQWZyaXR6c2NoZTIwMDdhJTIwJTNEJTIwREIlMjhXb3JrVW5yZWxhdGVkJTI4JTBBJTIwJTIwJTIwJTIwMjAwNyUyQyUyMCUyMkFnaWxlJTIwbWV0aG9kcyUyMGFuZCUyMENNTUklM0ElMjBjb21wYXRpYmlsaXR5JTIwb3IlMjBjb25mbGljdCUzRiUyMiUyQyUwQSUyMCUyMCUyMCUyMGRpc3BsYXklM0QlMjJmcml0enNjaGUlMjIlMkMlMEElMjAlMjAlMjAlMjBhdXRob3JzJTNEJTIyRnJpdHpzY2hlJTJDJTIwTWFydGluJTIwYW5kJTIwS2VpbCUyQyUyMFBhdHJpY2slMjIlMkMlMEElMjAlMjAlMjAlMjBwbGFjZSUzREZBS0UlMkMlMEElMjAlMjAlMjAlMjBlbnRyeXR5cGUlM0QlMjJhcnRpY2xlJTIyJTJDJTBBJTIwJTIwJTIwJTIwdm9sdW1lJTNEJTIyMSUyMiUyQyUwQSUyMCUyMCUyMCUyMG51bWJlciUzRCUyMjElMjIlMkMlMEElMjAlMjAlMjAlMjBJRCUzRCUyMmZyaXR6c2NoZTIwMDdhZ2lsZSUyMiUyQyUwQSUyMCUyMCUyMCUyMHNjaG9sYXIyMDE2JTNEJTIyMSUyMiUyQyUwQSUyMCUyMCUyMCUyMHBsYWNleCUzRCUyMmUtSW5mb3JtYXRpY2ElMjBTb2Z0d2FyZSUyMEVuZ2luZWVyaW5nJTIwSm91cm5hbCUyMiUyQyUwQSUyOSUyOSUwQSUyNyUyNyUyNyUyOSUzQg==\")));\n",
       "    "
      ],
      "text/plain": [
       "<IPython.core.display.Javascript object>"
      ]
     },
     "metadata": {},
     "output_type": "display_data"
    },
    {
     "data": {
      "application/javascript": [
       "$('span:contains(\"# Temp\")').closest('.cell').remove();"
      ],
      "text/plain": [
       "<IPython.core.display.Javascript object>"
      ]
     },
     "metadata": {},
     "output_type": "display_data"
    },
    {
     "data": {
      "application/javascript": [
       "\n",
       "        $('span:contains(\"# Temp\")').closest('.cell').remove();\n",
       "        var code = IPython.notebook.insert_cell_below('code');\n",
       "        var prompt = code.element.find(\".input_prompt\");\n",
       "        prompt.append('<br><button style=\"height: 100%; width: 54px;\">Run</button>');\n",
       "        prompt.on(\"click\", \"button\", function(){\n",
       "            code.execute();\n",
       "        });\n",
       "        code.set_text(decodeURIComponent(window.atob(\"JTIzJTIwVGVtcCUwQWluc2VydCUyOCUyNyUyNyUyNyUwQWZyaXR6c2NoZTIwMDdhJTIwJTNEJTIwREIlMjhXb3JrVW5yZWxhdGVkJTI4JTBBJTIwJTIwJTIwJTIwMjAwNyUyQyUyMCUyMkFnaWxlJTIwbWV0aG9kcyUyMGFuZCUyMENNTUklM0ElMjBjb21wYXRpYmlsaXR5JTIwb3IlMjBjb25mbGljdCUzRiUyMiUyQyUwQSUyMCUyMCUyMCUyMGRpc3BsYXklM0QlMjJmcml0enNjaGUlMjIlMkMlMEElMjAlMjAlMjAlMjBhdXRob3JzJTNEJTIyRnJpdHpzY2hlJTJDJTIwTWFydGluJTIwYW5kJTIwS2VpbCUyQyUyMFBhdHJpY2slMjIlMkMlMEElMjAlMjAlMjAlMjBwbGFjZSUzREZBS0UlMkMlMEElMjAlMjAlMjAlMjBlbnRyeXR5cGUlM0QlMjJhcnRpY2xlJTIyJTJDJTBBJTIwJTIwJTIwJTIwdm9sdW1lJTNEJTIyMSUyMiUyQyUwQSUyMCUyMCUyMCUyMG51bWJlciUzRCUyMjElMjIlMkMlMEElMjAlMjAlMjAlMjBJRCUzRCUyMmZyaXR6c2NoZTIwMDdhZ2lsZSUyMiUyQyUwQSUyMCUyMCUyMCUyMHNjaG9sYXIyMDE2JTNEJTIyMSUyMiUyQyUwQSUyMCUyMCUyMCUyMHBsYWNleCUzRCUyMmUtSW5mb3JtYXRpY2ElMjBTb2Z0d2FyZSUyMEVuZ2luZWVyaW5nJTIwSm91cm5hbCUyMiUyQyUwQSUyOSUyOSUwQSUyNyUyNyUyNyUyOSUzQg==\")));\n",
       "    "
      ],
      "text/plain": [
       "<IPython.core.display.Javascript object>"
      ]
     },
     "metadata": {},
     "output_type": "display_data"
    },
    {
     "data": {
      "application/javascript": [
       "$('span:contains(\"# Temp\")').closest('.cell').remove();"
      ],
      "text/plain": [
       "<IPython.core.display.Javascript object>"
      ]
     },
     "metadata": {},
     "output_type": "display_data"
    },
    {
     "data": {
      "application/javascript": [
       "\n",
       "        $('span:contains(\"# Temp\")').closest('.cell').remove();\n",
       "        var code = IPython.notebook.insert_cell_below('code');\n",
       "        var prompt = code.element.find(\".input_prompt\");\n",
       "        prompt.append('<br><button style=\"height: 100%; width: 54px;\">Run</button>');\n",
       "        prompt.on(\"click\", \"button\", function(){\n",
       "            code.execute();\n",
       "        });\n",
       "        code.set_text(decodeURIComponent(window.atob(\"JTIzJTIwVGVtcCUwQWluc2VydCUyOCUyNyUyNyUyNyUwQXR1cm5lcjIwMDJhJTIwJTNEJTIwREIlMjhXb3JrVW5yZWxhdGVkJTI4JTBBJTIwJTIwJTIwJTIwMjAwMiUyQyUyMCUyMkFnaWxlJTIwbWVldHMlMjBDTU1JJTNBJTIwQ3VsdHVyZSUyMGNsYXNoJTIwb3IlMjBjb21tb24lMjBjYXVzZSUzRiUyMiUyQyUwQSUyMCUyMCUyMCUyMGRpc3BsYXklM0QlMjJ0dXJuZXIlMjIlMkMlMEElMjAlMjAlMjAlMjBhdXRob3JzJTNEJTIyVHVybmVyJTJDJTIwUmljaGFyZCUyMGFuZCUyMEphaW4lMkMlMjBBcHVydmElMjIlMkMlMEElMjAlMjAlMjAlMjBwbGFjZSUzREZBS0UlMkMlMEElMjAlMjAlMjAlMjBwcCUzRCUyMjE1My0tMTY1JTIyJTJDJTBBJTIwJTIwJTIwJTIwZW50cnl0eXBlJTNEJTIyaW5wcm9jZWVkaW5ncyUyMiUyQyUwQSUyMCUyMCUyMCUyMG9yZ2FuaXphdGlvbiUzRCUyMlNwcmluZ2VyJTIyJTJDJTBBJTIwJTIwJTIwJTIwSUQlM0QlMjJ0dXJuZXIyMDAyYWdpbGUlMjIlMkMlMEElMjAlMjAlMjAlMjBzY2hvbGFyMjAxNiUzRCUyMjElMjIlMkMlMEElMjAlMjAlMjAlMjBwbGFjZXglM0QlMjJDb25mZXJlbmNlJTIwb24lMjBFeHRyZW1lJTIwUHJvZ3JhbW1pbmclMjBhbmQlMjBBZ2lsZSUyME1ldGhvZHMlMjIlMkMlMEElMjklMjklMEElMjclMjclMjclMjklM0I=\")));\n",
       "    "
      ],
      "text/plain": [
       "<IPython.core.display.Javascript object>"
      ]
     },
     "metadata": {},
     "output_type": "display_data"
    },
    {
     "data": {
      "application/javascript": [
       "$('span:contains(\"# Temp\")').closest('.cell').remove();"
      ],
      "text/plain": [
       "<IPython.core.display.Javascript object>"
      ]
     },
     "metadata": {},
     "output_type": "display_data"
    },
    {
     "data": {
      "application/javascript": [
       "\n",
       "        $('span:contains(\"# Temp\")').closest('.cell').remove();\n",
       "        var code = IPython.notebook.insert_cell_below('code');\n",
       "        var prompt = code.element.find(\".input_prompt\");\n",
       "        prompt.append('<br><button style=\"height: 100%; width: 54px;\">Run</button>');\n",
       "        prompt.on(\"click\", \"button\", function(){\n",
       "            code.execute();\n",
       "        });\n",
       "        code.set_text(decodeURIComponent(window.atob(\"JTIzJTIwVGVtcCUwQWluc2VydCUyOCUyNyUyNyUyNyUwQXR1cm5lcjIwMDJhJTIwJTNEJTIwREIlMjhXb3JrVW5yZWxhdGVkJTI4JTBBJTIwJTIwJTIwJTIwMjAwMiUyQyUyMCUyMkFnaWxlJTIwbWVldHMlMjBDTU1JJTNBJTIwQ3VsdHVyZSUyMGNsYXNoJTIwb3IlMjBjb21tb24lMjBjYXVzZSUzRiUyMiUyQyUwQSUyMCUyMCUyMCUyMGRpc3BsYXklM0QlMjJ0dXJuZXIlMjIlMkMlMEElMjAlMjAlMjAlMjBhdXRob3JzJTNEJTIyVHVybmVyJTJDJTIwUmljaGFyZCUyMGFuZCUyMEphaW4lMkMlMjBBcHVydmElMjIlMkMlMEElMjAlMjAlMjAlMjBwbGFjZSUzREZBS0UlMkMlMEElMjAlMjAlMjAlMjBwcCUzRCUyMjE1My0tMTY1JTIyJTJDJTBBJTIwJTIwJTIwJTIwZW50cnl0eXBlJTNEJTIyaW5wcm9jZWVkaW5ncyUyMiUyQyUwQSUyMCUyMCUyMCUyMG9yZ2FuaXphdGlvbiUzRCUyMlNwcmluZ2VyJTIyJTJDJTBBJTIwJTIwJTIwJTIwSUQlM0QlMjJ0dXJuZXIyMDAyYWdpbGUlMjIlMkMlMEElMjAlMjAlMjAlMjBzY2hvbGFyMjAxNiUzRCUyMjElMjIlMkMlMEElMjAlMjAlMjAlMjBwbGFjZXglM0QlMjJDb25mZXJlbmNlJTIwb24lMjBFeHRyZW1lJTIwUHJvZ3JhbW1pbmclMjBhbmQlMjBBZ2lsZSUyME1ldGhvZHMlMjIlMkMlMEElMjklMjklMEElMjclMjclMjclMjklM0I=\")));\n",
       "    "
      ],
      "text/plain": [
       "<IPython.core.display.Javascript object>"
      ]
     },
     "metadata": {},
     "output_type": "display_data"
    },
    {
     "data": {
      "application/javascript": [
       "$('span:contains(\"# Temp\")').closest('.cell').remove();"
      ],
      "text/plain": [
       "<IPython.core.display.Javascript object>"
      ]
     },
     "metadata": {},
     "output_type": "display_data"
    },
    {
     "data": {
      "application/javascript": [
       "\n",
       "        $('span:contains(\"# Temp\")').closest('.cell').remove();\n",
       "        var code = IPython.notebook.insert_cell_below('code');\n",
       "        var prompt = code.element.find(\".input_prompt\");\n",
       "        prompt.append('<br><button style=\"height: 100%; width: 54px;\">Run</button>');\n",
       "        prompt.on(\"click\", \"button\", function(){\n",
       "            code.execute();\n",
       "        });\n",
       "        code.set_text(decodeURIComponent(window.atob(\"JTIzJTIwVGVtcCUwQWluc2VydCUyOCUyNyUyNyUyNyUwQWphY29ic29uMjAxM2ElMjAlM0QlMjBEQiUyOFdvcmtVbnJlbGF0ZWQlMjglMEElMjAlMjAlMjAlMjAyMDEzJTJDJTIwJTIyQWdpbGUlMjBhbmQlMjBTRU1BVC1wZXJmZWN0JTIwcGFydG5lcnMlMjIlMkMlMEElMjAlMjAlMjAlMjBkaXNwbGF5JTNEJTIyamFjb2Jzb24lMjIlMkMlMEElMjAlMjAlMjAlMjBhdXRob3JzJTNEJTIySmFjb2Jzb24lMkMlMjBJdmFyJTIwYW5kJTIwU3BlbmNlJTJDJTIwSWFuJTIwYW5kJTIwTmclMkMlMjBQYW4tV2VpJTIyJTJDJTBBJTIwJTIwJTIwJTIwcGxhY2UlM0RGQUtFJTJDJTBBJTIwJTIwJTIwJTIwcHAlM0QlMjIzMCUyMiUyQyUwQSUyMCUyMCUyMCUyMGVudHJ5dHlwZSUzRCUyMmFydGljbGUlMjIlMkMlMEElMjAlMjAlMjAlMjB2b2x1bWUlM0QlMjIxMSUyMiUyQyUwQSUyMCUyMCUyMCUyMG51bWJlciUzRCUyMjklMjIlMkMlMEElMjAlMjAlMjAlMjBwdWJsaXNoZXIlM0QlMjJBQ00lMjIlMkMlMEElMjAlMjAlMjAlMjBJRCUzRCUyMmphY29ic29uMjAxM2FnaWxlJTIyJTJDJTBBJTIwJTIwJTIwJTIwc2Nob2xhcjIwMTYlM0QlMjIxJTIyJTJDJTBBJTIwJTIwJTIwJTIwcGxhY2V4JTNEJTIyUXVldWUlMjIlMkMlMEElMjklMjklMEElMjclMjclMjclMjklM0I=\")));\n",
       "    "
      ],
      "text/plain": [
       "<IPython.core.display.Javascript object>"
      ]
     },
     "metadata": {},
     "output_type": "display_data"
    },
    {
     "data": {
      "application/javascript": [
       "$('span:contains(\"# Temp\")').closest('.cell').remove();"
      ],
      "text/plain": [
       "<IPython.core.display.Javascript object>"
      ]
     },
     "metadata": {},
     "output_type": "display_data"
    },
    {
     "data": {
      "application/javascript": [
       "\n",
       "        $('span:contains(\"# Temp\")').closest('.cell').remove();\n",
       "        var code = IPython.notebook.insert_cell_below('code');\n",
       "        var prompt = code.element.find(\".input_prompt\");\n",
       "        prompt.append('<br><button style=\"height: 100%; width: 54px;\">Run</button>');\n",
       "        prompt.on(\"click\", \"button\", function(){\n",
       "            code.execute();\n",
       "        });\n",
       "        code.set_text(decodeURIComponent(window.atob(\"JTIzJTIwVGVtcCUwQWluc2VydCUyOCUyNyUyNyUyNyUwQWphY29ic29uMjAxM2ElMjAlM0QlMjBEQiUyOFdvcmtVbnJlbGF0ZWQlMjglMEElMjAlMjAlMjAlMjAyMDEzJTJDJTIwJTIyQWdpbGUlMjBhbmQlMjBTRU1BVC1wZXJmZWN0JTIwcGFydG5lcnMlMjIlMkMlMEElMjAlMjAlMjAlMjBkaXNwbGF5JTNEJTIyamFjb2Jzb24lMjIlMkMlMEElMjAlMjAlMjAlMjBhdXRob3JzJTNEJTIySmFjb2Jzb24lMkMlMjBJdmFyJTIwYW5kJTIwU3BlbmNlJTJDJTIwSWFuJTIwYW5kJTIwTmclMkMlMjBQYW4tV2VpJTIyJTJDJTBBJTIwJTIwJTIwJTIwcGxhY2UlM0RGQUtFJTJDJTBBJTIwJTIwJTIwJTIwcHAlM0QlMjIzMCUyMiUyQyUwQSUyMCUyMCUyMCUyMGVudHJ5dHlwZSUzRCUyMmFydGljbGUlMjIlMkMlMEElMjAlMjAlMjAlMjB2b2x1bWUlM0QlMjIxMSUyMiUyQyUwQSUyMCUyMCUyMCUyMG51bWJlciUzRCUyMjklMjIlMkMlMEElMjAlMjAlMjAlMjBwdWJsaXNoZXIlM0QlMjJBQ00lMjIlMkMlMEElMjAlMjAlMjAlMjBJRCUzRCUyMmphY29ic29uMjAxM2FnaWxlJTIyJTJDJTBBJTIwJTIwJTIwJTIwc2Nob2xhcjIwMTYlM0QlMjIxJTIyJTJDJTBBJTIwJTIwJTIwJTIwcGxhY2V4JTNEJTIyUXVldWUlMjIlMkMlMEElMjklMjklMEElMjclMjclMjclMjklM0I=\")));\n",
       "    "
      ],
      "text/plain": [
       "<IPython.core.display.Javascript object>"
      ]
     },
     "metadata": {},
     "output_type": "display_data"
    },
    {
     "data": {
      "application/javascript": [
       "$('span:contains(\"# Temp\")').closest('.cell').remove();"
      ],
      "text/plain": [
       "<IPython.core.display.Javascript object>"
      ]
     },
     "metadata": {},
     "output_type": "display_data"
    },
    {
     "data": {
      "application/javascript": [
       "\n",
       "        $('span:contains(\"# Temp\")').closest('.cell').remove();\n",
       "        var code = IPython.notebook.insert_cell_below('code');\n",
       "        var prompt = code.element.find(\".input_prompt\");\n",
       "        prompt.append('<br><button style=\"height: 100%; width: 54px;\">Run</button>');\n",
       "        prompt.on(\"click\", \"button\", function(){\n",
       "            code.execute();\n",
       "        });\n",
       "        code.set_text(decodeURIComponent(window.atob(\"JTIzJTIwVGVtcCUwQWluc2VydCUyOCUyNyUyNyUyNyUwQWNlcnZvbmUyMDExYSUyMCUzRCUyMERCJTI4V29ya1VucmVsYXRlZCUyOCUwQSUyMCUyMCUyMCUyMDIwMTElMkMlMjAlMjJVbmRlcnN0YW5kaW5nJTIwYWdpbGUlMjBwcm9qZWN0JTIwbWFuYWdlbWVudCUyMG1ldGhvZHMlMjB1c2luZyUyMFNjcnVtJTIyJTJDJTBBJTIwJTIwJTIwJTIwZGlzcGxheSUzRCUyMmNlcnZvbmUlMjIlMkMlMEElMjAlMjAlMjAlMjBhdXRob3JzJTNEJTIyQ2Vydm9uZSUyQyUyMEglMjBGcmFuayUyMiUyQyUwQSUyMCUyMCUyMCUyMHBsYWNlJTNERkFLRSUyQyUwQSUyMCUyMCUyMCUyMHBwJTNEJTIyMTgtLTIyJTIyJTJDJTBBJTIwJTIwJTIwJTIwZW50cnl0eXBlJTNEJTIyYXJ0aWNsZSUyMiUyQyUwQSUyMCUyMCUyMCUyMHZvbHVtZSUzRCUyMjI3JTIyJTJDJTBBJTIwJTIwJTIwJTIwbnVtYmVyJTNEJTIyMSUyMiUyQyUwQSUyMCUyMCUyMCUyMHB1Ymxpc2hlciUzRCUyMkVtZXJhbGQlMjBHcm91cCUyMFB1Ymxpc2hpbmclMjBMaW1pdGVkJTIyJTJDJTBBJTIwJTIwJTIwJTIwSUQlM0QlMjJjZXJ2b25lMjAxMXVuZGVyc3RhbmRpbmclMjIlMkMlMEElMjAlMjAlMjAlMjBzY2hvbGFyMjAxNiUzRCUyMjElMjIlMkMlMEElMjAlMjAlMjAlMjBwbGFjZXglM0QlMjJPQ0xDJTIwU3lzdGVtcyUyMCUyNiUyMFNlcnZpY2VzJTNBJTIwSW50ZXJuYXRpb25hbCUyMGRpZ2l0YWwlMjBsaWJyYXJ5JTIwcGVyc3BlY3RpdmVzJTIyJTJDJTBBJTI5JTI5JTBBJTI3JTI3JTI3JTI5JTNC\")));\n",
       "    "
      ],
      "text/plain": [
       "<IPython.core.display.Javascript object>"
      ]
     },
     "metadata": {},
     "output_type": "display_data"
    },
    {
     "data": {
      "application/javascript": [
       "$('span:contains(\"# Temp\")').closest('.cell').remove();"
      ],
      "text/plain": [
       "<IPython.core.display.Javascript object>"
      ]
     },
     "metadata": {},
     "output_type": "display_data"
    },
    {
     "data": {
      "application/javascript": [
       "\n",
       "        $('span:contains(\"# Temp\")').closest('.cell').remove();\n",
       "        var code = IPython.notebook.insert_cell_below('code');\n",
       "        var prompt = code.element.find(\".input_prompt\");\n",
       "        prompt.append('<br><button style=\"height: 100%; width: 54px;\">Run</button>');\n",
       "        prompt.on(\"click\", \"button\", function(){\n",
       "            code.execute();\n",
       "        });\n",
       "        code.set_text(decodeURIComponent(window.atob(\"JTIzJTIwVGVtcCUwQWluc2VydCUyOCUyNyUyNyUyNyUwQWNlcnZvbmUyMDExYSUyMCUzRCUyMERCJTI4V29ya1VucmVsYXRlZCUyOCUwQSUyMCUyMCUyMCUyMDIwMTElMkMlMjAlMjJVbmRlcnN0YW5kaW5nJTIwYWdpbGUlMjBwcm9qZWN0JTIwbWFuYWdlbWVudCUyMG1ldGhvZHMlMjB1c2luZyUyMFNjcnVtJTIyJTJDJTBBJTIwJTIwJTIwJTIwZGlzcGxheSUzRCUyMmNlcnZvbmUlMjIlMkMlMEElMjAlMjAlMjAlMjBhdXRob3JzJTNEJTIyQ2Vydm9uZSUyQyUyMEglMjBGcmFuayUyMiUyQyUwQSUyMCUyMCUyMCUyMHBsYWNlJTNERkFLRSUyQyUwQSUyMCUyMCUyMCUyMHBwJTNEJTIyMTgtLTIyJTIyJTJDJTBBJTIwJTIwJTIwJTIwZW50cnl0eXBlJTNEJTIyYXJ0aWNsZSUyMiUyQyUwQSUyMCUyMCUyMCUyMHZvbHVtZSUzRCUyMjI3JTIyJTJDJTBBJTIwJTIwJTIwJTIwbnVtYmVyJTNEJTIyMSUyMiUyQyUwQSUyMCUyMCUyMCUyMHB1Ymxpc2hlciUzRCUyMkVtZXJhbGQlMjBHcm91cCUyMFB1Ymxpc2hpbmclMjBMaW1pdGVkJTIyJTJDJTBBJTIwJTIwJTIwJTIwSUQlM0QlMjJjZXJ2b25lMjAxMXVuZGVyc3RhbmRpbmclMjIlMkMlMEElMjAlMjAlMjAlMjBzY2hvbGFyMjAxNiUzRCUyMjElMjIlMkMlMEElMjAlMjAlMjAlMjBwbGFjZXglM0QlMjJPQ0xDJTIwU3lzdGVtcyUyMCUyNiUyMFNlcnZpY2VzJTNBJTIwSW50ZXJuYXRpb25hbCUyMGRpZ2l0YWwlMjBsaWJyYXJ5JTIwcGVyc3BlY3RpdmVzJTIyJTJDJTBBJTI5JTI5JTBBJTI3JTI3JTI3JTI5JTNC\")));\n",
       "    "
      ],
      "text/plain": [
       "<IPython.core.display.Javascript object>"
      ]
     },
     "metadata": {},
     "output_type": "display_data"
    },
    {
     "data": {
      "application/javascript": [
       "$('span:contains(\"# Temp\")').closest('.cell').remove();"
      ],
      "text/plain": [
       "<IPython.core.display.Javascript object>"
      ]
     },
     "metadata": {},
     "output_type": "display_data"
    },
    {
     "data": {
      "application/javascript": [
       "\n",
       "        $('span:contains(\"# Temp\")').closest('.cell').remove();\n",
       "        var code = IPython.notebook.insert_cell_below('code');\n",
       "        var prompt = code.element.find(\".input_prompt\");\n",
       "        prompt.append('<br><button style=\"height: 100%; width: 54px;\">Run</button>');\n",
       "        prompt.on(\"click\", \"button\", function(){\n",
       "            code.execute();\n",
       "        });\n",
       "        code.set_text(decodeURIComponent(window.atob(\"JTIzJTIwVGVtcCUwQWluc2VydCUyOCUyNyUyNyUyNyUwQXJhY2hldmEyMDA5YSUyMCUzRCUyMERCJTI4V29ya1VucmVsYXRlZCUyOCUwQSUyMCUyMCUyMCUyMDIwMDklMkMlMjAlMjJWYWx1ZSUyMGNyZWF0aW9uJTIwYnklMjBhZ2lsZSUyMHByb2plY3RzJTNBJTIwTWV0aG9kb2xvZ3klMjBvciUyMG15c3RlcnklM0YlMjIlMkMlMEElMjAlMjAlMjAlMjBkaXNwbGF5JTNEJTIycmFjaGV2YSUyMiUyQyUwQSUyMCUyMCUyMCUyMGF1dGhvcnMlM0QlMjJSYWNoZXZhJTJDJTIwWm9ybml0emElMjBhbmQlMjBEYW5ldmElMkMlMjBNYXlhJTIwYW5kJTIwU2lra2VsJTJDJTIwS2xhYXMlMjIlMkMlMEElMjAlMjAlMjAlMjBwbGFjZSUzRElDUEZTUEklMkMlMEElMjAlMjAlMjAlMjBwcCUzRCUyMjE0MS0tMTU1JTIyJTJDJTBBJTIwJTIwJTIwJTIwZW50cnl0eXBlJTNEJTIyaW5wcm9jZWVkaW5ncyUyMiUyQyUwQSUyMCUyMCUyMCUyMG9yZ2FuaXphdGlvbiUzRCUyMlNwcmluZ2VyJTIyJTJDJTBBJTIwJTIwJTIwJTIwSUQlM0QlMjJyYWNoZXZhMjAwOXZhbHVlJTIyJTJDJTBBJTIwJTIwJTIwJTIwc2Nob2xhcjIwMTYlM0QlMjIxJTIyJTJDJTBBJTIwJTIwJTIwJTIwcGxhY2V4JTNEJTIySW50ZXJuYXRpb25hbCUyMENvbmZlcmVuY2UlMjBvbiUyMFByb2R1Y3QtRm9jdXNlZCUyMFNvZnR3YXJlJTIwUHJvY2VzcyUyMEltcHJvdmVtZW50JTIyJTJDJTBBJTI5JTI5JTBBJTI3JTI3JTI3JTI5JTNC\")));\n",
       "    "
      ],
      "text/plain": [
       "<IPython.core.display.Javascript object>"
      ]
     },
     "metadata": {},
     "output_type": "display_data"
    },
    {
     "data": {
      "application/javascript": [
       "$('span:contains(\"# Temp\")').closest('.cell').remove();"
      ],
      "text/plain": [
       "<IPython.core.display.Javascript object>"
      ]
     },
     "metadata": {},
     "output_type": "display_data"
    },
    {
     "data": {
      "application/javascript": [
       "\n",
       "        $('span:contains(\"# Temp\")').closest('.cell').remove();\n",
       "        var code = IPython.notebook.insert_cell_below('code');\n",
       "        var prompt = code.element.find(\".input_prompt\");\n",
       "        prompt.append('<br><button style=\"height: 100%; width: 54px;\">Run</button>');\n",
       "        prompt.on(\"click\", \"button\", function(){\n",
       "            code.execute();\n",
       "        });\n",
       "        code.set_text(decodeURIComponent(window.atob(\"JTIzJTIwVGVtcCUwQWluc2VydCUyOCUyNyUyNyUyNyUwQXJhY2hldmEyMDA5YSUyMCUzRCUyMERCJTI4V29ya1VucmVsYXRlZCUyOCUwQSUyMCUyMCUyMCUyMDIwMDklMkMlMjAlMjJWYWx1ZSUyMGNyZWF0aW9uJTIwYnklMjBhZ2lsZSUyMHByb2plY3RzJTNBJTIwTWV0aG9kb2xvZ3klMjBvciUyMG15c3RlcnklM0YlMjIlMkMlMEElMjAlMjAlMjAlMjBkaXNwbGF5JTNEJTIycmFjaGV2YSUyMiUyQyUwQSUyMCUyMCUyMCUyMGF1dGhvcnMlM0QlMjJSYWNoZXZhJTJDJTIwWm9ybml0emElMjBhbmQlMjBEYW5ldmElMkMlMjBNYXlhJTIwYW5kJTIwU2lra2VsJTJDJTIwS2xhYXMlMjIlMkMlMEElMjAlMjAlMjAlMjBwbGFjZSUzRElDUEZTUEklMkMlMEElMjAlMjAlMjAlMjBwcCUzRCUyMjE0MS0tMTU1JTIyJTJDJTBBJTIwJTIwJTIwJTIwZW50cnl0eXBlJTNEJTIyaW5wcm9jZWVkaW5ncyUyMiUyQyUwQSUyMCUyMCUyMCUyMG9yZ2FuaXphdGlvbiUzRCUyMlNwcmluZ2VyJTIyJTJDJTBBJTIwJTIwJTIwJTIwSUQlM0QlMjJyYWNoZXZhMjAwOXZhbHVlJTIyJTJDJTBBJTIwJTIwJTIwJTIwc2Nob2xhcjIwMTYlM0QlMjIxJTIyJTJDJTBBJTIwJTIwJTIwJTIwcGxhY2V4JTNEJTIySW50ZXJuYXRpb25hbCUyMENvbmZlcmVuY2UlMjBvbiUyMFByb2R1Y3QtRm9jdXNlZCUyMFNvZnR3YXJlJTIwUHJvY2VzcyUyMEltcHJvdmVtZW50JTIyJTJDJTBBJTI5JTI5JTBBJTI3JTI3JTI3JTI5JTNC\")));\n",
       "    "
      ],
      "text/plain": [
       "<IPython.core.display.Javascript object>"
      ]
     },
     "metadata": {},
     "output_type": "display_data"
    },
    {
     "data": {
      "application/javascript": [
       "$('span:contains(\"# Temp\")').closest('.cell').remove();"
      ],
      "text/plain": [
       "<IPython.core.display.Javascript object>"
      ]
     },
     "metadata": {},
     "output_type": "display_data"
    },
    {
     "data": {
      "application/javascript": [
       "\n",
       "        $('span:contains(\"# Temp\")').closest('.cell').remove();\n",
       "        var code = IPython.notebook.insert_cell_below('code');\n",
       "        var prompt = code.element.find(\".input_prompt\");\n",
       "        prompt.append('<br><button style=\"height: 100%; width: 54px;\">Run</button>');\n",
       "        prompt.on(\"click\", \"button\", function(){\n",
       "            code.execute();\n",
       "        });\n",
       "        code.set_text(decodeURIComponent(window.atob(\"JTIzJTIwVGVtcCUwQWluc2VydCUyOCUyNyUyNyUyNyUwQXF1bWVyMjAwOGIlMjAlM0QlMjBEQiUyOFdvcmtVbnJlbGF0ZWQlMjglMEElMjAlMjAlMjAlMjAyMDA4JTJDJTIwJTIyQW4lMjBldmFsdWF0aW9uJTIwb2YlMjB0aGUlMjBkZWdyZWUlMjBvZiUyMGFnaWxpdHklMjBpbiUyMHNpeCUyMGFnaWxlJTIwbWV0aG9kcyUyMGFuZCUyMGl0cyUyMGFwcGxpY2FiaWxpdHklMjBmb3IlMjBtZXRob2QlMjBlbmdpbmVlcmluZyUyMiUyQyUwQSUyMCUyMCUyMCUyMGRpc3BsYXklM0QlMjJxdW1lciUyMGIlMjIlMkMlMEElMjAlMjAlMjAlMjBhdXRob3JzJTNEJTIyUXVtZXIlMkMlMjBBc2lmJTIwYW5kJTIwSGVuZGVyc29uLVNlbGxlcnMlMkMlMjBCcmlhbiUyMiUyQyUwQSUyMCUyMCUyMCUyMHBsYWNlJTNESVNUJTJDJTBBJTIwJTIwJTIwJTIwcHAlM0QlMjIyODAtLTI5NSUyMiUyQyUwQSUyMCUyMCUyMCUyMGVudHJ5dHlwZSUzRCUyMmFydGljbGUlMjIlMkMlMEElMjAlMjAlMjAlMjB2b2x1bWUlM0QlMjI1MCUyMiUyQyUwQSUyMCUyMCUyMCUyMG51bWJlciUzRCUyMjQlMjIlMkMlMEElMjAlMjAlMjAlMjBwdWJsaXNoZXIlM0QlMjJFbHNldmllciUyMiUyQyUwQSUyMCUyMCUyMCUyMElEJTNEJTIycXVtZXIyMDA4ZXZhbHVhdGlvbiUyMiUyQyUwQSUyMCUyMCUyMCUyMHNjaG9sYXIyMDE2JTNEJTIyMSUyMiUyQyUwQSUyMCUyMCUyMCUyMHBsYWNleCUzRCUyMkluZm9ybWF0aW9uJTIwYW5kJTIwc29mdHdhcmUlMjB0ZWNobm9sb2d5JTIyJTJDJTBBJTI5JTI5JTBBJTI3JTI3JTI3JTI5JTNC\")));\n",
       "    "
      ],
      "text/plain": [
       "<IPython.core.display.Javascript object>"
      ]
     },
     "metadata": {},
     "output_type": "display_data"
    },
    {
     "data": {
      "application/javascript": [
       "$('span:contains(\"# Temp\")').closest('.cell').remove();"
      ],
      "text/plain": [
       "<IPython.core.display.Javascript object>"
      ]
     },
     "metadata": {},
     "output_type": "display_data"
    },
    {
     "data": {
      "application/javascript": [
       "\n",
       "        $('span:contains(\"# Temp\")').closest('.cell').remove();\n",
       "        var code = IPython.notebook.insert_cell_below('code');\n",
       "        var prompt = code.element.find(\".input_prompt\");\n",
       "        prompt.append('<br><button style=\"height: 100%; width: 54px;\">Run</button>');\n",
       "        prompt.on(\"click\", \"button\", function(){\n",
       "            code.execute();\n",
       "        });\n",
       "        code.set_text(decodeURIComponent(window.atob(\"JTIzJTIwVGVtcCUwQWluc2VydCUyOCUyNyUyNyUyNyUwQXF1bWVyMjAwOGIlMjAlM0QlMjBEQiUyOFdvcmtVbnJlbGF0ZWQlMjglMEElMjAlMjAlMjAlMjAyMDA4JTJDJTIwJTIyQW4lMjBldmFsdWF0aW9uJTIwb2YlMjB0aGUlMjBkZWdyZWUlMjBvZiUyMGFnaWxpdHklMjBpbiUyMHNpeCUyMGFnaWxlJTIwbWV0aG9kcyUyMGFuZCUyMGl0cyUyMGFwcGxpY2FiaWxpdHklMjBmb3IlMjBtZXRob2QlMjBlbmdpbmVlcmluZyUyMiUyQyUwQSUyMCUyMCUyMCUyMGRpc3BsYXklM0QlMjJxdW1lciUyMGIlMjIlMkMlMEElMjAlMjAlMjAlMjBhdXRob3JzJTNEJTIyUXVtZXIlMkMlMjBBc2lmJTIwYW5kJTIwSGVuZGVyc29uLVNlbGxlcnMlMkMlMjBCcmlhbiUyMiUyQyUwQSUyMCUyMCUyMCUyMHBsYWNlJTNESVNUJTJDJTBBJTIwJTIwJTIwJTIwcHAlM0QlMjIyODAtLTI5NSUyMiUyQyUwQSUyMCUyMCUyMCUyMGVudHJ5dHlwZSUzRCUyMmFydGljbGUlMjIlMkMlMEElMjAlMjAlMjAlMjB2b2x1bWUlM0QlMjI1MCUyMiUyQyUwQSUyMCUyMCUyMCUyMG51bWJlciUzRCUyMjQlMjIlMkMlMEElMjAlMjAlMjAlMjBwdWJsaXNoZXIlM0QlMjJFbHNldmllciUyMiUyQyUwQSUyMCUyMCUyMCUyMElEJTNEJTIycXVtZXIyMDA4ZXZhbHVhdGlvbiUyMiUyQyUwQSUyMCUyMCUyMCUyMHNjaG9sYXIyMDE2JTNEJTIyMSUyMiUyQyUwQSUyMCUyMCUyMCUyMHBsYWNleCUzRCUyMkluZm9ybWF0aW9uJTIwYW5kJTIwc29mdHdhcmUlMjB0ZWNobm9sb2d5JTIyJTJDJTBBJTI5JTI5JTBBJTI3JTI3JTI3JTI5JTNC\")));\n",
       "    "
      ],
      "text/plain": [
       "<IPython.core.display.Javascript object>"
      ]
     },
     "metadata": {},
     "output_type": "display_data"
    },
    {
     "data": {
      "application/javascript": [
       "$('span:contains(\"# Temp\")').closest('.cell').remove();"
      ],
      "text/plain": [
       "<IPython.core.display.Javascript object>"
      ]
     },
     "metadata": {},
     "output_type": "display_data"
    },
    {
     "data": {
      "application/javascript": [
       "\n",
       "        $('span:contains(\"# Temp\")').closest('.cell').remove();\n",
       "        var code = IPython.notebook.insert_cell_below('code');\n",
       "        var prompt = code.element.find(\".input_prompt\");\n",
       "        prompt.append('<br><button style=\"height: 100%; width: 54px;\">Run</button>');\n",
       "        prompt.on(\"click\", \"button\", function(){\n",
       "            code.execute();\n",
       "        });\n",
       "        code.set_text(decodeURIComponent(window.atob(\"JTIzJTIwVGVtcCUwQWluc2VydCUyOCUyNyUyNyUyNyUwQW1ua2FuZGxhMjAwNmElMjAlM0QlMjBEQiUyOFdvcmtVbnJlbGF0ZWQlMjglMEElMjAlMjAlMjAlMjAyMDA2JTJDJTIwJTIyRGVmaW5pbmclMjBhZ2lsZSUyMHNvZnR3YXJlJTIwcXVhbGl0eSUyMGFzc3VyYW5jZSUyMiUyQyUwQSUyMCUyMCUyMCUyMGRpc3BsYXklM0QlMjJtbmthbmRsYSUyMiUyQyUwQSUyMCUyMCUyMCUyMGF1dGhvcnMlM0QlMjJNbmthbmRsYSUyQyUyMEVybmVzdCUyMGFuZCUyMER3b2xhdHpreSUyQyUyMEJhcnJ5JTIyJTJDJTBBJTIwJTIwJTIwJTIwcGxhY2UlM0RJQ1NFJTJDJTBBJTIwJTIwJTIwJTIwcHAlM0QlMjIzNi0tMzYlMjIlMkMlMEElMjAlMjAlMjAlMjBlbnRyeXR5cGUlM0QlMjJpbnByb2NlZWRpbmdzJTIyJTJDJTBBJTIwJTIwJTIwJTIwb3JnYW5pemF0aW9uJTNEJTIySUVFRSUyMiUyQyUwQSUyMCUyMCUyMCUyMElEJTNEJTIybW5rYW5kbGEyMDA2ZGVmaW5pbmclMjIlMkMlMEElMjAlMjAlMjAlMjBzY2hvbGFyMjAxNiUzRCUyMjElMjIlMkMlMEElMjAlMjAlMjAlMjBwbGFjZXglM0QlMjJTb2Z0d2FyZSUyMEVuZ2luZWVyaW5nJTIwQWR2YW5jZXMlMkMlMjBJbnRlcm5hdGlvbmFsJTIwQ29uZmVyZW5jZSUyMG9uJTIyJTJDJTBBJTI5JTI5JTBBJTI3JTI3JTI3JTI5JTNC\")));\n",
       "    "
      ],
      "text/plain": [
       "<IPython.core.display.Javascript object>"
      ]
     },
     "metadata": {},
     "output_type": "display_data"
    },
    {
     "data": {
      "application/javascript": [
       "$('span:contains(\"# Temp\")').closest('.cell').remove();"
      ],
      "text/plain": [
       "<IPython.core.display.Javascript object>"
      ]
     },
     "metadata": {},
     "output_type": "display_data"
    },
    {
     "data": {
      "application/javascript": [
       "\n",
       "        $('span:contains(\"# Temp\")').closest('.cell').remove();\n",
       "        var code = IPython.notebook.insert_cell_below('code');\n",
       "        var prompt = code.element.find(\".input_prompt\");\n",
       "        prompt.append('<br><button style=\"height: 100%; width: 54px;\">Run</button>');\n",
       "        prompt.on(\"click\", \"button\", function(){\n",
       "            code.execute();\n",
       "        });\n",
       "        code.set_text(decodeURIComponent(window.atob(\"JTIzJTIwVGVtcCUwQWluc2VydCUyOCUyNyUyNyUyNyUwQW1ua2FuZGxhMjAwNmElMjAlM0QlMjBEQiUyOFdvcmtVbnJlbGF0ZWQlMjglMEElMjAlMjAlMjAlMjAyMDA2JTJDJTIwJTIyRGVmaW5pbmclMjBhZ2lsZSUyMHNvZnR3YXJlJTIwcXVhbGl0eSUyMGFzc3VyYW5jZSUyMiUyQyUwQSUyMCUyMCUyMCUyMGRpc3BsYXklM0QlMjJtbmthbmRsYSUyMiUyQyUwQSUyMCUyMCUyMCUyMGF1dGhvcnMlM0QlMjJNbmthbmRsYSUyQyUyMEVybmVzdCUyMGFuZCUyMER3b2xhdHpreSUyQyUyMEJhcnJ5JTIyJTJDJTBBJTIwJTIwJTIwJTIwcGxhY2UlM0RJQ1NFJTJDJTBBJTIwJTIwJTIwJTIwcHAlM0QlMjIzNi0tMzYlMjIlMkMlMEElMjAlMjAlMjAlMjBlbnRyeXR5cGUlM0QlMjJpbnByb2NlZWRpbmdzJTIyJTJDJTBBJTIwJTIwJTIwJTIwb3JnYW5pemF0aW9uJTNEJTIySUVFRSUyMiUyQyUwQSUyMCUyMCUyMCUyMElEJTNEJTIybW5rYW5kbGEyMDA2ZGVmaW5pbmclMjIlMkMlMEElMjAlMjAlMjAlMjBzY2hvbGFyMjAxNiUzRCUyMjElMjIlMkMlMEElMjAlMjAlMjAlMjBwbGFjZXglM0QlMjJTb2Z0d2FyZSUyMEVuZ2luZWVyaW5nJTIwQWR2YW5jZXMlMkMlMjBJbnRlcm5hdGlvbmFsJTIwQ29uZmVyZW5jZSUyMG9uJTIyJTJDJTBBJTI5JTI5JTBBJTI3JTI3JTI3JTI5JTNC\")));\n",
       "    "
      ],
      "text/plain": [
       "<IPython.core.display.Javascript object>"
      ]
     },
     "metadata": {},
     "output_type": "display_data"
    },
    {
     "data": {
      "application/javascript": [
       "$('span:contains(\"# Temp\")').closest('.cell').remove();"
      ],
      "text/plain": [
       "<IPython.core.display.Javascript object>"
      ]
     },
     "metadata": {},
     "output_type": "display_data"
    },
    {
     "data": {
      "application/javascript": [
       "\n",
       "        $('span:contains(\"# Temp\")').closest('.cell').remove();\n",
       "        var code = IPython.notebook.insert_cell_below('code');\n",
       "        var prompt = code.element.find(\".input_prompt\");\n",
       "        prompt.append('<br><button style=\"height: 100%; width: 54px;\">Run</button>');\n",
       "        prompt.on(\"click\", \"button\", function(){\n",
       "            code.execute();\n",
       "        });\n",
       "        code.set_text(decodeURIComponent(window.atob(\"JTIzJTIwVGVtcCUwQWluc2VydCUyOCUyNyUyNyUyNyUwQWRpZWJvbGQyMDE1YiUyMCUzRCUyMERCJTI4V29ya1VucmVsYXRlZCUyOCUwQSUyMCUyMCUyMCUyMDIwMTUlMkMlMjAlMjJXaGF0JTIwZG8lMjBwcmFjdGl0aW9uZXJzJTIwdmFyeSUyMGluJTIwdXNpbmclMjBzY3J1bSUzRiUyMiUyQyUwQSUyMCUyMCUyMCUyMGRpc3BsYXklM0QlMjJkaWVib2xkJTIwYiUyMiUyQyUwQSUyMCUyMCUyMCUyMGF1dGhvcnMlM0QlMjJEaWVib2xkJTJDJTIwUGhpbGlwcCUyMGFuZCUyME9zdGJlcmclMkMlMjBKYW4tUGV0ZXIlMjBhbmQlMjBXYWduZXIlMkMlMjBTdGVmYW4lMjBhbmQlMjBaZW5kbGVyJTJDJTIwVWxyaWNoJTIyJTJDJTBBJTIwJTIwJTIwJTIwcGxhY2UlM0RGQUtFJTJDJTBBJTIwJTIwJTIwJTIwcHAlM0QlMjI0MC0tNTElMjIlMkMlMEElMjAlMjAlMjAlMjBlbnRyeXR5cGUlM0QlMjJpbnByb2NlZWRpbmdzJTIyJTJDJTBBJTIwJTIwJTIwJTIwb3JnYW5pemF0aW9uJTNEJTIyU3ByaW5nZXIlMjIlMkMlMEElMjAlMjAlMjAlMjBJRCUzRCUyMmRpZWJvbGQyMDE1cHJhY3RpdGlvbmVycyUyMiUyQyUwQSUyMCUyMCUyMCUyMHNjaG9sYXIyMDE2JTNEJTIyMSUyMiUyQyUwQSUyMCUyMCUyMCUyMHBsYWNleCUzRCUyMkludGVybmF0aW9uYWwlMjBDb25mZXJlbmNlJTIwb24lMjBBZ2lsZSUyMFNvZnR3YXJlJTIwRGV2ZWxvcG1lbnQlMjIlMkMlMEElMjklMjklMEElMjclMjclMjclMjklM0I=\")));\n",
       "    "
      ],
      "text/plain": [
       "<IPython.core.display.Javascript object>"
      ]
     },
     "metadata": {},
     "output_type": "display_data"
    },
    {
     "data": {
      "application/javascript": [
       "$('span:contains(\"# Temp\")').closest('.cell').remove();"
      ],
      "text/plain": [
       "<IPython.core.display.Javascript object>"
      ]
     },
     "metadata": {},
     "output_type": "display_data"
    },
    {
     "data": {
      "application/javascript": [
       "\n",
       "        $('span:contains(\"# Temp\")').closest('.cell').remove();\n",
       "        var code = IPython.notebook.insert_cell_below('code');\n",
       "        var prompt = code.element.find(\".input_prompt\");\n",
       "        prompt.append('<br><button style=\"height: 100%; width: 54px;\">Run</button>');\n",
       "        prompt.on(\"click\", \"button\", function(){\n",
       "            code.execute();\n",
       "        });\n",
       "        code.set_text(decodeURIComponent(window.atob(\"JTIzJTIwVGVtcCUwQWluc2VydCUyOCUyNyUyNyUyNyUwQWRpZWJvbGQyMDE1YiUyMCUzRCUyMERCJTI4V29ya1VucmVsYXRlZCUyOCUwQSUyMCUyMCUyMCUyMDIwMTUlMkMlMjAlMjJXaGF0JTIwZG8lMjBwcmFjdGl0aW9uZXJzJTIwdmFyeSUyMGluJTIwdXNpbmclMjBzY3J1bSUzRiUyMiUyQyUwQSUyMCUyMCUyMCUyMGRpc3BsYXklM0QlMjJkaWVib2xkJTIwYiUyMiUyQyUwQSUyMCUyMCUyMCUyMGF1dGhvcnMlM0QlMjJEaWVib2xkJTJDJTIwUGhpbGlwcCUyMGFuZCUyME9zdGJlcmclMkMlMjBKYW4tUGV0ZXIlMjBhbmQlMjBXYWduZXIlMkMlMjBTdGVmYW4lMjBhbmQlMjBaZW5kbGVyJTJDJTIwVWxyaWNoJTIyJTJDJTBBJTIwJTIwJTIwJTIwcGxhY2UlM0RGQUtFJTJDJTBBJTIwJTIwJTIwJTIwcHAlM0QlMjI0MC0tNTElMjIlMkMlMEElMjAlMjAlMjAlMjBlbnRyeXR5cGUlM0QlMjJpbnByb2NlZWRpbmdzJTIyJTJDJTBBJTIwJTIwJTIwJTIwb3JnYW5pemF0aW9uJTNEJTIyU3ByaW5nZXIlMjIlMkMlMEElMjAlMjAlMjAlMjBJRCUzRCUyMmRpZWJvbGQyMDE1cHJhY3RpdGlvbmVycyUyMiUyQyUwQSUyMCUyMCUyMCUyMHNjaG9sYXIyMDE2JTNEJTIyMSUyMiUyQyUwQSUyMCUyMCUyMCUyMHBsYWNleCUzRCUyMkludGVybmF0aW9uYWwlMjBDb25mZXJlbmNlJTIwb24lMjBBZ2lsZSUyMFNvZnR3YXJlJTIwRGV2ZWxvcG1lbnQlMjIlMkMlMEElMjklMjklMEElMjclMjclMjclMjklM0I=\")));\n",
       "    "
      ],
      "text/plain": [
       "<IPython.core.display.Javascript object>"
      ]
     },
     "metadata": {},
     "output_type": "display_data"
    },
    {
     "data": {
      "application/javascript": [
       "$('span:contains(\"# Temp\")').closest('.cell').remove();"
      ],
      "text/plain": [
       "<IPython.core.display.Javascript object>"
      ]
     },
     "metadata": {},
     "output_type": "display_data"
    },
    {
     "data": {
      "application/javascript": [
       "\n",
       "        $('span:contains(\"# Temp\")').closest('.cell').remove();\n",
       "        var code = IPython.notebook.insert_cell_below('code');\n",
       "        var prompt = code.element.find(\".input_prompt\");\n",
       "        prompt.append('<br><button style=\"height: 100%; width: 54px;\">Run</button>');\n",
       "        prompt.on(\"click\", \"button\", function(){\n",
       "            code.execute();\n",
       "        });\n",
       "        code.set_text(decodeURIComponent(window.atob(\"JTIzJTIwVGVtcCUwQWluc2VydCUyOCUyNyUyNyUyNyUwQW5pa2l0aW5hMjAxMmElMjAlM0QlMjBEQiUyOFdvcmtVbnJlbGF0ZWQlMjglMEElMjAlMjAlMjAlMjAyMDEyJTJDJTIwJTIyRnJvbSUyMHNjcnVtJTIwdG8lMjBzY3J1bWJhbiUzQSUyMEElMjBjYXNlJTIwc3R1ZHklMjBvZiUyMGElMjBwcm9jZXNzJTIwdHJhbnNpdGlvbiUyMiUyQyUwQSUyMCUyMCUyMCUyMGRpc3BsYXklM0QlMjJuaWtpdGluYSUyMiUyQyUwQSUyMCUyMCUyMCUyMGF1dGhvcnMlM0QlMjJOaWtpdGluYSUyQyUyME5hdGFsamElMjBhbmQlMjBLYWprby1NYXR0c3NvbiUyQyUyME1pcmElMjBhbmQlMjBTdHIlQzMlQTVsZSUyQyUyME1hZ251cyUyMiUyQyUwQSUyMCUyMCUyMCUyMHBsYWNlJTNERkFLRSUyQyUwQSUyMCUyMCUyMCUyMHBwJTNEJTIyMTQwLS0xNDklMjIlMkMlMEElMjAlMjAlMjAlMjBlbnRyeXR5cGUlM0QlMjJpbnByb2NlZWRpbmdzJTIyJTJDJTBBJTIwJTIwJTIwJTIwb3JnYW5pemF0aW9uJTNEJTIySUVFRSUyMiUyQyUwQSUyMCUyMCUyMCUyMElEJTNEJTIybmlraXRpbmEyMDEyc2NydW0lMjIlMkMlMEElMjAlMjAlMjAlMjBzY2hvbGFyMjAxNiUzRCUyMjElMjIlMkMlMEElMjAlMjAlMjAlMjBwbGFjZXglM0QlMjJTb2Z0d2FyZSUyMGFuZCUyMFN5c3RlbSUyMFByb2Nlc3MlMjAlMjhJQ1NTUCUyOSUyQyUyMDIwMTIlMjBJbnRlcm5hdGlvbmFsJTIwQ29uZmVyZW5jZSUyMG9uJTIyJTJDJTBBJTI5JTI5JTBBJTI3JTI3JTI3JTI5JTNC\")));\n",
       "    "
      ],
      "text/plain": [
       "<IPython.core.display.Javascript object>"
      ]
     },
     "metadata": {},
     "output_type": "display_data"
    },
    {
     "data": {
      "application/javascript": [
       "$('span:contains(\"# Temp\")').closest('.cell').remove();"
      ],
      "text/plain": [
       "<IPython.core.display.Javascript object>"
      ]
     },
     "metadata": {},
     "output_type": "display_data"
    },
    {
     "data": {
      "application/javascript": [
       "\n",
       "        $('span:contains(\"# Temp\")').closest('.cell').remove();\n",
       "        var code = IPython.notebook.insert_cell_below('code');\n",
       "        var prompt = code.element.find(\".input_prompt\");\n",
       "        prompt.append('<br><button style=\"height: 100%; width: 54px;\">Run</button>');\n",
       "        prompt.on(\"click\", \"button\", function(){\n",
       "            code.execute();\n",
       "        });\n",
       "        code.set_text(decodeURIComponent(window.atob(\"JTIzJTIwVGVtcCUwQWluc2VydCUyOCUyNyUyNyUyNyUwQW5pa2l0aW5hMjAxMmElMjAlM0QlMjBEQiUyOFdvcmtVbnJlbGF0ZWQlMjglMEElMjAlMjAlMjAlMjAyMDEyJTJDJTIwJTIyRnJvbSUyMHNjcnVtJTIwdG8lMjBzY3J1bWJhbiUzQSUyMEElMjBjYXNlJTIwc3R1ZHklMjBvZiUyMGElMjBwcm9jZXNzJTIwdHJhbnNpdGlvbiUyMiUyQyUwQSUyMCUyMCUyMCUyMGRpc3BsYXklM0QlMjJuaWtpdGluYSUyMiUyQyUwQSUyMCUyMCUyMCUyMGF1dGhvcnMlM0QlMjJOaWtpdGluYSUyQyUyME5hdGFsamElMjBhbmQlMjBLYWprby1NYXR0c3NvbiUyQyUyME1pcmElMjBhbmQlMjBTdHIlQzMlQTVsZSUyQyUyME1hZ251cyUyMiUyQyUwQSUyMCUyMCUyMCUyMHBsYWNlJTNERkFLRSUyQyUwQSUyMCUyMCUyMCUyMHBwJTNEJTIyMTQwLS0xNDklMjIlMkMlMEElMjAlMjAlMjAlMjBlbnRyeXR5cGUlM0QlMjJpbnByb2NlZWRpbmdzJTIyJTJDJTBBJTIwJTIwJTIwJTIwb3JnYW5pemF0aW9uJTNEJTIySUVFRSUyMiUyQyUwQSUyMCUyMCUyMCUyMElEJTNEJTIybmlraXRpbmEyMDEyc2NydW0lMjIlMkMlMEElMjAlMjAlMjAlMjBzY2hvbGFyMjAxNiUzRCUyMjElMjIlMkMlMEElMjAlMjAlMjAlMjBwbGFjZXglM0QlMjJTb2Z0d2FyZSUyMGFuZCUyMFN5c3RlbSUyMFByb2Nlc3MlMjAlMjhJQ1NTUCUyOSUyQyUyMDIwMTIlMjBJbnRlcm5hdGlvbmFsJTIwQ29uZmVyZW5jZSUyMG9uJTIyJTJDJTBBJTI5JTI5JTBBJTI3JTI3JTI3JTI5JTNC\")));\n",
       "    "
      ],
      "text/plain": [
       "<IPython.core.display.Javascript object>"
      ]
     },
     "metadata": {},
     "output_type": "display_data"
    },
    {
     "data": {
      "application/javascript": [
       "$('span:contains(\"# Temp\")').closest('.cell').remove();"
      ],
      "text/plain": [
       "<IPython.core.display.Javascript object>"
      ]
     },
     "metadata": {},
     "output_type": "display_data"
    },
    {
     "data": {
      "application/javascript": [
       "\n",
       "        $('span:contains(\"# Temp\")').closest('.cell').remove();\n",
       "        var code = IPython.notebook.insert_cell_below('code');\n",
       "        var prompt = code.element.find(\".input_prompt\");\n",
       "        prompt.append('<br><button style=\"height: 100%; width: 54px;\">Run</button>');\n",
       "        prompt.on(\"click\", \"button\", function(){\n",
       "            code.execute();\n",
       "        });\n",
       "        code.set_text(decodeURIComponent(window.atob(\"JTIzJTIwVGVtcCUwQWluc2VydCUyOCUyNyUyNyUyNyUwQXBpa2thcmFpbmVuMjAwNmElMjAlM0QlMjBEQiUyOFdvcmtVbnJlbGF0ZWQlMjglMEElMjAlMjAlMjAlMjAyMDA2JTJDJTIwJTIyQW4lMjBhcHByb2FjaCUyMGZvciUyMHVzaW5nJTIwQ01NSSUyMGluJTIwYWdpbGUlMjBzb2Z0d2FyZSUyMGRldmVsb3BtZW50JTIwYXNzZXNzbWVudHMlM0ElMjBleHBlcmllbmNlcyUyMGZyb20lMjB0aHJlZSUyMGNhc2UlMjBzdHVkaWVzJTIyJTJDJTBBJTIwJTIwJTIwJTIwZGlzcGxheSUzRCUyMnBpa2thcmFpbmVuJTIyJTJDJTBBJTIwJTIwJTIwJTIwYXV0aG9ycyUzRCUyMlBpa2thcmFpbmVuJTJDJTIwTWlubmElMjBhbmQlMjBNYW50eW5pZW1pJTJDJTIwQW5udWtrYSUyMiUyQyUwQSUyMCUyMCUyMCUyMHBsYWNlJTNERkFLRSUyQyUwQSUyMCUyMCUyMCUyMGVudHJ5dHlwZSUzRCUyMmFydGljbGUlMjIlMkMlMEElMjAlMjAlMjAlMjBJRCUzRCUyMnBpa2thcmFpbmVuMjAwNmFwcHJvYWNoJTIyJTJDJTBBJTIwJTIwJTIwJTIwc2Nob2xhcjIwMTYlM0QlMjIxJTIyJTJDJTBBJTIwJTIwJTIwJTIwcGxhY2V4JTNEJTIyJTIyJTJDJTBBJTI5JTI5JTBBJTI3JTI3JTI3JTI5JTNC\")));\n",
       "    "
      ],
      "text/plain": [
       "<IPython.core.display.Javascript object>"
      ]
     },
     "metadata": {},
     "output_type": "display_data"
    },
    {
     "data": {
      "application/javascript": [
       "$('span:contains(\"# Temp\")').closest('.cell').remove();"
      ],
      "text/plain": [
       "<IPython.core.display.Javascript object>"
      ]
     },
     "metadata": {},
     "output_type": "display_data"
    },
    {
     "data": {
      "application/javascript": [
       "\n",
       "        $('span:contains(\"# Temp\")').closest('.cell').remove();\n",
       "        var code = IPython.notebook.insert_cell_below('code');\n",
       "        var prompt = code.element.find(\".input_prompt\");\n",
       "        prompt.append('<br><button style=\"height: 100%; width: 54px;\">Run</button>');\n",
       "        prompt.on(\"click\", \"button\", function(){\n",
       "            code.execute();\n",
       "        });\n",
       "        code.set_text(decodeURIComponent(window.atob(\"JTIzJTIwVGVtcCUwQWluc2VydCUyOCUyNyUyNyUyNyUwQXBpa2thcmFpbmVuMjAwNmElMjAlM0QlMjBEQiUyOFdvcmtVbnJlbGF0ZWQlMjglMEElMjAlMjAlMjAlMjAyMDA2JTJDJTIwJTIyQW4lMjBhcHByb2FjaCUyMGZvciUyMHVzaW5nJTIwQ01NSSUyMGluJTIwYWdpbGUlMjBzb2Z0d2FyZSUyMGRldmVsb3BtZW50JTIwYXNzZXNzbWVudHMlM0ElMjBleHBlcmllbmNlcyUyMGZyb20lMjB0aHJlZSUyMGNhc2UlMjBzdHVkaWVzJTIyJTJDJTBBJTIwJTIwJTIwJTIwZGlzcGxheSUzRCUyMnBpa2thcmFpbmVuJTIyJTJDJTBBJTIwJTIwJTIwJTIwYXV0aG9ycyUzRCUyMlBpa2thcmFpbmVuJTJDJTIwTWlubmElMjBhbmQlMjBNYW50eW5pZW1pJTJDJTIwQW5udWtrYSUyMiUyQyUwQSUyMCUyMCUyMCUyMHBsYWNlJTNERkFLRSUyQyUwQSUyMCUyMCUyMCUyMGVudHJ5dHlwZSUzRCUyMmFydGljbGUlMjIlMkMlMEElMjAlMjAlMjAlMjBJRCUzRCUyMnBpa2thcmFpbmVuMjAwNmFwcHJvYWNoJTIyJTJDJTBBJTIwJTIwJTIwJTIwc2Nob2xhcjIwMTYlM0QlMjIxJTIyJTJDJTBBJTIwJTIwJTIwJTIwcGxhY2V4JTNEJTIyJTIyJTJDJTBBJTI5JTI5JTBBJTI3JTI3JTI3JTI5JTNC\")));\n",
       "    "
      ],
      "text/plain": [
       "<IPython.core.display.Javascript object>"
      ]
     },
     "metadata": {},
     "output_type": "display_data"
    },
    {
     "data": {
      "application/javascript": [
       "$('span:contains(\"# Temp\")').closest('.cell').remove();"
      ],
      "text/plain": [
       "<IPython.core.display.Javascript object>"
      ]
     },
     "metadata": {},
     "output_type": "display_data"
    },
    {
     "data": {
      "application/javascript": [
       "\n",
       "        $('span:contains(\"# Temp\")').closest('.cell').remove();\n",
       "        var code = IPython.notebook.insert_cell_below('code');\n",
       "        var prompt = code.element.find(\".input_prompt\");\n",
       "        prompt.append('<br><button style=\"height: 100%; width: 54px;\">Run</button>');\n",
       "        prompt.on(\"click\", \"button\", function(){\n",
       "            code.execute();\n",
       "        });\n",
       "        code.set_text(decodeURIComponent(window.atob(\"JTIzJTIwVGVtcCUwQWluc2VydCUyOCUyNyUyNyUyNyUwQWZlcm5hbmRlczIwMTBhJTIwJTNEJTIwREIlMjhXb3JrVW5yZWxhdGVkJTI4JTBBJTIwJTIwJTIwJTIwMjAxMCUyQyUyMCUyMlBsYXlzY3J1bS1hJTIwY2FyZCUyMGdhbWUlMjB0byUyMGxlYXJuJTIwdGhlJTIwc2NydW0lMjBhZ2lsZSUyMG1ldGhvZCUyMiUyQyUwQSUyMCUyMCUyMCUyMGRpc3BsYXklM0QlMjJmZXJuYW5kZXMlMjIlMkMlMEElMjAlMjAlMjAlMjBhdXRob3JzJTNEJTIyRmVybmFuZGVzJTJDJTIwSm8lQzMlQTNvJTIwTSUyMGFuZCUyMFNvdXNhJTJDJTIwUyVDMyVCM25pYSUyME0lMjIlMkMlMEElMjAlMjAlMjAlMjBwbGFjZSUzREZBS0UlMkMlMEElMjAlMjAlMjAlMjBwcCUzRCUyMjUyLS01OSUyMiUyQyUwQSUyMCUyMCUyMCUyMGVudHJ5dHlwZSUzRCUyMmlucHJvY2VlZGluZ3MlMjIlMkMlMEElMjAlMjAlMjAlMjBvcmdhbml6YXRpb24lM0QlMjJJRUVFJTIyJTJDJTBBJTIwJTIwJTIwJTIwSUQlM0QlMjJmZXJuYW5kZXMyMDEwcGxheXNjcnVtJTIyJTJDJTBBJTIwJTIwJTIwJTIwc2Nob2xhcjIwMTYlM0QlMjIxJTIyJTJDJTBBJTIwJTIwJTIwJTIwcGxhY2V4JTNEJTIyR2FtZXMlMjBhbmQlMjBWaXJ0dWFsJTIwV29ybGRzJTIwZm9yJTIwU2VyaW91cyUyMEFwcGxpY2F0aW9ucyUyMCUyOFZTLUdBTUVTJTI5JTJDJTIwMjAxMCUyMFNlY29uZCUyMEludGVybmF0aW9uYWwlMjBDb25mZXJlbmNlJTIwb24lMjIlMkMlMEElMjklMjklMEElMjclMjclMjclMjklM0I=\")));\n",
       "    "
      ],
      "text/plain": [
       "<IPython.core.display.Javascript object>"
      ]
     },
     "metadata": {},
     "output_type": "display_data"
    },
    {
     "data": {
      "application/javascript": [
       "$('span:contains(\"# Temp\")').closest('.cell').remove();"
      ],
      "text/plain": [
       "<IPython.core.display.Javascript object>"
      ]
     },
     "metadata": {},
     "output_type": "display_data"
    },
    {
     "data": {
      "application/javascript": [
       "\n",
       "        $('span:contains(\"# Temp\")').closest('.cell').remove();\n",
       "        var code = IPython.notebook.insert_cell_below('code');\n",
       "        var prompt = code.element.find(\".input_prompt\");\n",
       "        prompt.append('<br><button style=\"height: 100%; width: 54px;\">Run</button>');\n",
       "        prompt.on(\"click\", \"button\", function(){\n",
       "            code.execute();\n",
       "        });\n",
       "        code.set_text(decodeURIComponent(window.atob(\"JTIzJTIwVGVtcCUwQWluc2VydCUyOCUyNyUyNyUyNyUwQWZlcm5hbmRlczIwMTBhJTIwJTNEJTIwREIlMjhXb3JrVW5yZWxhdGVkJTI4JTBBJTIwJTIwJTIwJTIwMjAxMCUyQyUyMCUyMlBsYXlzY3J1bS1hJTIwY2FyZCUyMGdhbWUlMjB0byUyMGxlYXJuJTIwdGhlJTIwc2NydW0lMjBhZ2lsZSUyMG1ldGhvZCUyMiUyQyUwQSUyMCUyMCUyMCUyMGRpc3BsYXklM0QlMjJmZXJuYW5kZXMlMjIlMkMlMEElMjAlMjAlMjAlMjBhdXRob3JzJTNEJTIyRmVybmFuZGVzJTJDJTIwSm8lQzMlQTNvJTIwTSUyMGFuZCUyMFNvdXNhJTJDJTIwUyVDMyVCM25pYSUyME0lMjIlMkMlMEElMjAlMjAlMjAlMjBwbGFjZSUzREZBS0UlMkMlMEElMjAlMjAlMjAlMjBwcCUzRCUyMjUyLS01OSUyMiUyQyUwQSUyMCUyMCUyMCUyMGVudHJ5dHlwZSUzRCUyMmlucHJvY2VlZGluZ3MlMjIlMkMlMEElMjAlMjAlMjAlMjBvcmdhbml6YXRpb24lM0QlMjJJRUVFJTIyJTJDJTBBJTIwJTIwJTIwJTIwSUQlM0QlMjJmZXJuYW5kZXMyMDEwcGxheXNjcnVtJTIyJTJDJTBBJTIwJTIwJTIwJTIwc2Nob2xhcjIwMTYlM0QlMjIxJTIyJTJDJTBBJTIwJTIwJTIwJTIwcGxhY2V4JTNEJTIyR2FtZXMlMjBhbmQlMjBWaXJ0dWFsJTIwV29ybGRzJTIwZm9yJTIwU2VyaW91cyUyMEFwcGxpY2F0aW9ucyUyMCUyOFZTLUdBTUVTJTI5JTJDJTIwMjAxMCUyMFNlY29uZCUyMEludGVybmF0aW9uYWwlMjBDb25mZXJlbmNlJTIwb24lMjIlMkMlMEElMjklMjklMEElMjclMjclMjclMjklM0I=\")));\n",
       "    "
      ],
      "text/plain": [
       "<IPython.core.display.Javascript object>"
      ]
     },
     "metadata": {},
     "output_type": "display_data"
    },
    {
     "data": {
      "application/javascript": [
       "$('span:contains(\"# Temp\")').closest('.cell').remove();"
      ],
      "text/plain": [
       "<IPython.core.display.Javascript object>"
      ]
     },
     "metadata": {},
     "output_type": "display_data"
    },
    {
     "data": {
      "application/javascript": [
       "\n",
       "        $('span:contains(\"# Temp\")').closest('.cell').remove();\n",
       "        var code = IPython.notebook.insert_cell_below('code');\n",
       "        var prompt = code.element.find(\".input_prompt\");\n",
       "        prompt.append('<br><button style=\"height: 100%; width: 54px;\">Run</button>');\n",
       "        prompt.on(\"click\", \"button\", function(){\n",
       "            code.execute();\n",
       "        });\n",
       "        code.set_text(decodeURIComponent(window.atob(\"JTIzJTIwVGVtcCUwQWluc2VydCUyOCUyNyUyNyUyNyUyNyUyNyUyNyUyOSUzQiUwQXNldF9hdHRyaWJ1dGUlMjglMjdkeWIlQzMlQTUyMDA4YSUyNyUyQyUyMCUyN3NjaG9sYXIyMDE2JTI3JTJDJTIwJTI3MSUyNyUyOSUzQg==\")));\n",
       "    "
      ],
      "text/plain": [
       "<IPython.core.display.Javascript object>"
      ]
     },
     "metadata": {},
     "output_type": "display_data"
    },
    {
     "data": {
      "application/javascript": [
       "$('span:contains(\"# Temp\")').closest('.cell').remove();"
      ],
      "text/plain": [
       "<IPython.core.display.Javascript object>"
      ]
     },
     "metadata": {},
     "output_type": "display_data"
    },
    {
     "data": {
      "application/javascript": [
       "\n",
       "        $('span:contains(\"# Temp\")').closest('.cell').remove();\n",
       "        var code = IPython.notebook.insert_cell_below('code');\n",
       "        var prompt = code.element.find(\".input_prompt\");\n",
       "        prompt.append('<br><button style=\"height: 100%; width: 54px;\">Run</button>');\n",
       "        prompt.on(\"click\", \"button\", function(){\n",
       "            code.execute();\n",
       "        });\n",
       "        code.set_text(decodeURIComponent(window.atob(\"JTIzJTIwVGVtcCUwQWluc2VydCUyOCUyNyUyNyUyNyUyNyUyNyUyNyUyOSUzQiUwQXNldF9hdHRyaWJ1dGUlMjglMjdkeWIlQzMlQTUyMDA4YSUyNyUyQyUyMCUyN3NjaG9sYXIyMDE2JTI3JTJDJTIwJTI3MSUyNyUyOSUzQg==\")));\n",
       "    "
      ],
      "text/plain": [
       "<IPython.core.display.Javascript object>"
      ]
     },
     "metadata": {},
     "output_type": "display_data"
    },
    {
     "data": {
      "application/javascript": [
       "$('span:contains(\"# Temp\")').closest('.cell').remove();"
      ],
      "text/plain": [
       "<IPython.core.display.Javascript object>"
      ]
     },
     "metadata": {},
     "output_type": "display_data"
    },
    {
     "data": {
      "application/javascript": [
       "\n",
       "        $('span:contains(\"# Temp\")').closest('.cell').remove();\n",
       "        var code = IPython.notebook.insert_cell_below('code');\n",
       "        var prompt = code.element.find(\".input_prompt\");\n",
       "        prompt.append('<br><button style=\"height: 100%; width: 54px;\">Run</button>');\n",
       "        prompt.on(\"click\", \"button\", function(){\n",
       "            code.execute();\n",
       "        });\n",
       "        code.set_text(decodeURIComponent(window.atob(\"JTIzJTIwVGVtcCUwQWluc2VydCUyOCUyNyUyNyUyNyUwQWFobWVkMjAxMGElMjAlM0QlMjBEQiUyOFdvcmtVbnJlbGF0ZWQlMjglMEElMjAlMjAlMjAlMjAyMDEwJTJDJTIwJTIyQWdpbGUlMjBzb2Z0d2FyZSUyMGRldmVsb3BtZW50JTNBJTIwSW1wYWN0JTIwb24lMjBwcm9kdWN0aXZpdHklMjBhbmQlMjBxdWFsaXR5JTIyJTJDJTBBJTIwJTIwJTIwJTIwZGlzcGxheSUzRCUyMmFobWVkJTIyJTJDJTBBJTIwJTIwJTIwJTIwYXV0aG9ycyUzRCUyMkFobWVkJTJDJTIwQSUyMGFuZCUyMEFobWFkJTJDJTIwUyUyMGFuZCUyMEVoc2FuJTJDJTIwTiUyMGFuZCUyME1pcnphJTJDJTIwRSUyMGFuZCUyMFNhcndhciUyQyUyMFNaJTIyJTJDJTBBJTIwJTIwJTIwJTIwcGxhY2UlM0RGQUtFJTJDJTBBJTIwJTIwJTIwJTIwcHAlM0QlMjIyODctLTI5MSUyMiUyQyUwQSUyMCUyMCUyMCUyMGVudHJ5dHlwZSUzRCUyMmlucHJvY2VlZGluZ3MlMjIlMkMlMEElMjAlMjAlMjAlMjBvcmdhbml6YXRpb24lM0QlMjJJRUVFJTIyJTJDJTBBJTIwJTIwJTIwJTIwSUQlM0QlMjJhaG1lZDIwMTBhZ2lsZSUyMiUyQyUwQSUyMCUyMCUyMCUyMHNjaG9sYXIyMDE2JTNEJTIyMSUyMiUyQyUwQSUyMCUyMCUyMCUyMHBsYWNleCUzRCUyMk1hbmFnZW1lbnQlMjBvZiUyMGlubm92YXRpb24lMjBhbmQlMjB0ZWNobm9sb2d5JTIwJTI4SUNNSVQlMjklMkMlMjAyMDEwJTIwSUVFRSUyMGludGVybmF0aW9uYWwlMjBjb25mZXJlbmNlJTIwb24lMjIlMkMlMEElMjklMjklMEElMjclMjclMjclMjklM0I=\")));\n",
       "    "
      ],
      "text/plain": [
       "<IPython.core.display.Javascript object>"
      ]
     },
     "metadata": {},
     "output_type": "display_data"
    },
    {
     "data": {
      "application/javascript": [
       "$('span:contains(\"# Temp\")').closest('.cell').remove();"
      ],
      "text/plain": [
       "<IPython.core.display.Javascript object>"
      ]
     },
     "metadata": {},
     "output_type": "display_data"
    },
    {
     "data": {
      "application/javascript": [
       "\n",
       "        $('span:contains(\"# Temp\")').closest('.cell').remove();\n",
       "        var code = IPython.notebook.insert_cell_below('code');\n",
       "        var prompt = code.element.find(\".input_prompt\");\n",
       "        prompt.append('<br><button style=\"height: 100%; width: 54px;\">Run</button>');\n",
       "        prompt.on(\"click\", \"button\", function(){\n",
       "            code.execute();\n",
       "        });\n",
       "        code.set_text(decodeURIComponent(window.atob(\"JTIzJTIwVGVtcCUwQWluc2VydCUyOCUyNyUyNyUyNyUwQWFobWVkMjAxMGElMjAlM0QlMjBEQiUyOFdvcmtVbnJlbGF0ZWQlMjglMEElMjAlMjAlMjAlMjAyMDEwJTJDJTIwJTIyQWdpbGUlMjBzb2Z0d2FyZSUyMGRldmVsb3BtZW50JTNBJTIwSW1wYWN0JTIwb24lMjBwcm9kdWN0aXZpdHklMjBhbmQlMjBxdWFsaXR5JTIyJTJDJTBBJTIwJTIwJTIwJTIwZGlzcGxheSUzRCUyMmFobWVkJTIyJTJDJTBBJTIwJTIwJTIwJTIwYXV0aG9ycyUzRCUyMkFobWVkJTJDJTIwQSUyMGFuZCUyMEFobWFkJTJDJTIwUyUyMGFuZCUyMEVoc2FuJTJDJTIwTiUyMGFuZCUyME1pcnphJTJDJTIwRSUyMGFuZCUyMFNhcndhciUyQyUyMFNaJTIyJTJDJTBBJTIwJTIwJTIwJTIwcGxhY2UlM0RGQUtFJTJDJTBBJTIwJTIwJTIwJTIwcHAlM0QlMjIyODctLTI5MSUyMiUyQyUwQSUyMCUyMCUyMCUyMGVudHJ5dHlwZSUzRCUyMmlucHJvY2VlZGluZ3MlMjIlMkMlMEElMjAlMjAlMjAlMjBvcmdhbml6YXRpb24lM0QlMjJJRUVFJTIyJTJDJTBBJTIwJTIwJTIwJTIwSUQlM0QlMjJhaG1lZDIwMTBhZ2lsZSUyMiUyQyUwQSUyMCUyMCUyMCUyMHNjaG9sYXIyMDE2JTNEJTIyMSUyMiUyQyUwQSUyMCUyMCUyMCUyMHBsYWNleCUzRCUyMk1hbmFnZW1lbnQlMjBvZiUyMGlubm92YXRpb24lMjBhbmQlMjB0ZWNobm9sb2d5JTIwJTI4SUNNSVQlMjklMkMlMjAyMDEwJTIwSUVFRSUyMGludGVybmF0aW9uYWwlMjBjb25mZXJlbmNlJTIwb24lMjIlMkMlMEElMjklMjklMEElMjclMjclMjclMjklM0I=\")));\n",
       "    "
      ],
      "text/plain": [
       "<IPython.core.display.Javascript object>"
      ]
     },
     "metadata": {},
     "output_type": "display_data"
    },
    {
     "data": {
      "application/javascript": [
       "$('span:contains(\"# Temp\")').closest('.cell').remove();"
      ],
      "text/plain": [
       "<IPython.core.display.Javascript object>"
      ]
     },
     "metadata": {},
     "output_type": "display_data"
    },
    {
     "data": {
      "application/javascript": [
       "\n",
       "        $('span:contains(\"# Temp\")').closest('.cell').remove();\n",
       "        var code = IPython.notebook.insert_cell_below('code');\n",
       "        var prompt = code.element.find(\".input_prompt\");\n",
       "        prompt.append('<br><button style=\"height: 100%; width: 54px;\">Run</button>');\n",
       "        prompt.on(\"click\", \"button\", function(){\n",
       "            code.execute();\n",
       "        });\n",
       "        code.set_text(decodeURIComponent(window.atob(\"JTIzJTIwVGVtcCUwQWluc2VydCUyOCUyNyUyNyUyNyUyNyUyNyUyNyUyOSUzQiUwQXNldF9hdHRyaWJ1dGUlMjglMjdmZXJuYW5kZXoyMDA4YSUyNyUyQyUyMCUyN3NjaG9sYXIyMDE2JTI3JTJDJTIwJTI3MSUyNyUyOSUzQg==\")));\n",
       "    "
      ],
      "text/plain": [
       "<IPython.core.display.Javascript object>"
      ]
     },
     "metadata": {},
     "output_type": "display_data"
    },
    {
     "data": {
      "application/javascript": [
       "$('span:contains(\"# Temp\")').closest('.cell').remove();"
      ],
      "text/plain": [
       "<IPython.core.display.Javascript object>"
      ]
     },
     "metadata": {},
     "output_type": "display_data"
    },
    {
     "data": {
      "application/javascript": [
       "\n",
       "        $('span:contains(\"# Temp\")').closest('.cell').remove();\n",
       "        var code = IPython.notebook.insert_cell_below('code');\n",
       "        var prompt = code.element.find(\".input_prompt\");\n",
       "        prompt.append('<br><button style=\"height: 100%; width: 54px;\">Run</button>');\n",
       "        prompt.on(\"click\", \"button\", function(){\n",
       "            code.execute();\n",
       "        });\n",
       "        code.set_text(decodeURIComponent(window.atob(\"JTIzJTIwVGVtcCUwQWluc2VydCUyOCUyNyUyNyUyNyUyNyUyNyUyNyUyOSUzQiUwQXNldF9hdHRyaWJ1dGUlMjglMjdmZXJuYW5kZXoyMDA4YSUyNyUyQyUyMCUyN3NjaG9sYXIyMDE2JTI3JTJDJTIwJTI3MSUyNyUyOSUzQg==\")));\n",
       "    "
      ],
      "text/plain": [
       "<IPython.core.display.Javascript object>"
      ]
     },
     "metadata": {},
     "output_type": "display_data"
    },
    {
     "data": {
      "application/javascript": [
       "$('span:contains(\"# Temp\")').closest('.cell').remove();"
      ],
      "text/plain": [
       "<IPython.core.display.Javascript object>"
      ]
     },
     "metadata": {},
     "output_type": "display_data"
    },
    {
     "data": {
      "application/javascript": [
       "\n",
       "        $('span:contains(\"# Temp\")').closest('.cell').remove();\n",
       "        var code = IPython.notebook.insert_cell_below('code');\n",
       "        var prompt = code.element.find(\".input_prompt\");\n",
       "        prompt.append('<br><button style=\"height: 100%; width: 54px;\">Run</button>');\n",
       "        prompt.on(\"click\", \"button\", function(){\n",
       "            code.execute();\n",
       "        });\n",
       "        code.set_text(decodeURIComponent(window.atob(\"JTIzJTIwVGVtcCUwQWluc2VydCUyOCUyNyUyNyUyNyUwQWJleWVyMjAwNGElMjAlM0QlMjBEQiUyOFdvcmtVbnJlbGF0ZWQlMjglMEElMjAlMjAlMjAlMjAyMDA0JTJDJTIwJTIyQW4lMjBhZ2lsZSUyMGN1c3RvbWVyLWNlbnRlcmVkJTIwbWV0aG9kJTNBJTIwcmFwaWQlMjBjb250ZXh0dWFsJTIwZGVzaWduJTIyJTJDJTBBJTIwJTIwJTIwJTIwZGlzcGxheSUzRCUyMmJleWVyJTIyJTJDJTBBJTIwJTIwJTIwJTIwYXV0aG9ycyUzRCUyMkJleWVyJTJDJTIwSHVnaCUyMGFuZCUyMEhvbHR6YmxhdHQlMkMlMjBLYXJlbiUyMGFuZCUyMEJha2VyJTJDJTIwTGlzYSUyMiUyQyUwQSUyMCUyMCUyMCUyMHBsYWNlJTNERkFLRSUyQyUwQSUyMCUyMCUyMCUyMHBwJTNEJTIyNTAtLTU5JTIyJTJDJTBBJTIwJTIwJTIwJTIwZW50cnl0eXBlJTNEJTIyaW5wcm9jZWVkaW5ncyUyMiUyQyUwQSUyMCUyMCUyMCUyMG9yZ2FuaXphdGlvbiUzRCUyMlNwcmluZ2VyJTIyJTJDJTBBJTIwJTIwJTIwJTIwSUQlM0QlMjJiZXllcjIwMDRhZ2lsZSUyMiUyQyUwQSUyMCUyMCUyMCUyMHNjaG9sYXIyMDE2JTNEJTIyMSUyMiUyQyUwQSUyMCUyMCUyMCUyMHBsYWNleCUzRCUyMkNvbmZlcmVuY2UlMjBvbiUyMEV4dHJlbWUlMjBQcm9ncmFtbWluZyUyMGFuZCUyMEFnaWxlJTIwTWV0aG9kcyUyMiUyQyUwQSUyOSUyOSUwQSUyNyUyNyUyNyUyOSUzQg==\")));\n",
       "    "
      ],
      "text/plain": [
       "<IPython.core.display.Javascript object>"
      ]
     },
     "metadata": {},
     "output_type": "display_data"
    },
    {
     "data": {
      "application/javascript": [
       "$('span:contains(\"# Temp\")').closest('.cell').remove();"
      ],
      "text/plain": [
       "<IPython.core.display.Javascript object>"
      ]
     },
     "metadata": {},
     "output_type": "display_data"
    },
    {
     "data": {
      "application/javascript": [
       "\n",
       "        $('span:contains(\"# Temp\")').closest('.cell').remove();\n",
       "        var code = IPython.notebook.insert_cell_below('code');\n",
       "        var prompt = code.element.find(\".input_prompt\");\n",
       "        prompt.append('<br><button style=\"height: 100%; width: 54px;\">Run</button>');\n",
       "        prompt.on(\"click\", \"button\", function(){\n",
       "            code.execute();\n",
       "        });\n",
       "        code.set_text(decodeURIComponent(window.atob(\"JTIzJTIwVGVtcCUwQWluc2VydCUyOCUyNyUyNyUyNyUwQWJleWVyMjAwNGElMjAlM0QlMjBEQiUyOFdvcmtVbnJlbGF0ZWQlMjglMEElMjAlMjAlMjAlMjAyMDA0JTJDJTIwJTIyQW4lMjBhZ2lsZSUyMGN1c3RvbWVyLWNlbnRlcmVkJTIwbWV0aG9kJTNBJTIwcmFwaWQlMjBjb250ZXh0dWFsJTIwZGVzaWduJTIyJTJDJTBBJTIwJTIwJTIwJTIwZGlzcGxheSUzRCUyMmJleWVyJTIyJTJDJTBBJTIwJTIwJTIwJTIwYXV0aG9ycyUzRCUyMkJleWVyJTJDJTIwSHVnaCUyMGFuZCUyMEhvbHR6YmxhdHQlMkMlMjBLYXJlbiUyMGFuZCUyMEJha2VyJTJDJTIwTGlzYSUyMiUyQyUwQSUyMCUyMCUyMCUyMHBsYWNlJTNERkFLRSUyQyUwQSUyMCUyMCUyMCUyMHBwJTNEJTIyNTAtLTU5JTIyJTJDJTBBJTIwJTIwJTIwJTIwZW50cnl0eXBlJTNEJTIyaW5wcm9jZWVkaW5ncyUyMiUyQyUwQSUyMCUyMCUyMCUyMG9yZ2FuaXphdGlvbiUzRCUyMlNwcmluZ2VyJTIyJTJDJTBBJTIwJTIwJTIwJTIwSUQlM0QlMjJiZXllcjIwMDRhZ2lsZSUyMiUyQyUwQSUyMCUyMCUyMCUyMHNjaG9sYXIyMDE2JTNEJTIyMSUyMiUyQyUwQSUyMCUyMCUyMCUyMHBsYWNleCUzRCUyMkNvbmZlcmVuY2UlMjBvbiUyMEV4dHJlbWUlMjBQcm9ncmFtbWluZyUyMGFuZCUyMEFnaWxlJTIwTWV0aG9kcyUyMiUyQyUwQSUyOSUyOSUwQSUyNyUyNyUyNyUyOSUzQg==\")));\n",
       "    "
      ],
      "text/plain": [
       "<IPython.core.display.Javascript object>"
      ]
     },
     "metadata": {},
     "output_type": "display_data"
    },
    {
     "data": {
      "application/javascript": [
       "$('span:contains(\"# Temp\")').closest('.cell').remove();"
      ],
      "text/plain": [
       "<IPython.core.display.Javascript object>"
      ]
     },
     "metadata": {},
     "output_type": "display_data"
    },
    {
     "data": {
      "application/javascript": [
       "\n",
       "        $('span:contains(\"# Temp\")').closest('.cell').remove();\n",
       "        var code = IPython.notebook.insert_cell_below('code');\n",
       "        var prompt = code.element.find(\".input_prompt\");\n",
       "        prompt.append('<br><button style=\"height: 100%; width: 54px;\">Run</button>');\n",
       "        prompt.on(\"click\", \"button\", function(){\n",
       "            code.execute();\n",
       "        });\n",
       "        code.set_text(decodeURIComponent(window.atob(\"JTIzJTIwVGVtcCUwQWluc2VydCUyOCUyNyUyNyUyNyUyNyUyNyUyNyUyOSUzQiUwQXNldF9hdHRyaWJ1dGUlMjglMjdkZWVtZXIyMDEwYSUyNyUyQyUyMCUyN3NjaG9sYXIyMDE2JTI3JTJDJTIwJTI3MSUyNyUyOSUzQg==\")));\n",
       "    "
      ],
      "text/plain": [
       "<IPython.core.display.Javascript object>"
      ]
     },
     "metadata": {},
     "output_type": "display_data"
    },
    {
     "data": {
      "application/javascript": [
       "$('span:contains(\"# Temp\")').closest('.cell').remove();"
      ],
      "text/plain": [
       "<IPython.core.display.Javascript object>"
      ]
     },
     "metadata": {},
     "output_type": "display_data"
    },
    {
     "data": {
      "application/javascript": [
       "\n",
       "        $('span:contains(\"# Temp\")').closest('.cell').remove();\n",
       "        var code = IPython.notebook.insert_cell_below('code');\n",
       "        var prompt = code.element.find(\".input_prompt\");\n",
       "        prompt.append('<br><button style=\"height: 100%; width: 54px;\">Run</button>');\n",
       "        prompt.on(\"click\", \"button\", function(){\n",
       "            code.execute();\n",
       "        });\n",
       "        code.set_text(decodeURIComponent(window.atob(\"JTIzJTIwVGVtcCUwQWluc2VydCUyOCUyNyUyNyUyNyUyNyUyNyUyNyUyOSUzQiUwQXNldF9hdHRyaWJ1dGUlMjglMjdkZWVtZXIyMDEwYSUyNyUyQyUyMCUyN3NjaG9sYXIyMDE2JTI3JTJDJTIwJTI3MSUyNyUyOSUzQg==\")));\n",
       "    "
      ],
      "text/plain": [
       "<IPython.core.display.Javascript object>"
      ]
     },
     "metadata": {},
     "output_type": "display_data"
    },
    {
     "data": {
      "application/javascript": [
       "$('span:contains(\"# Temp\")').closest('.cell').remove();"
      ],
      "text/plain": [
       "<IPython.core.display.Javascript object>"
      ]
     },
     "metadata": {},
     "output_type": "display_data"
    },
    {
     "data": {
      "application/javascript": [
       "\n",
       "        $('span:contains(\"# Temp\")').closest('.cell').remove();\n",
       "        var code = IPython.notebook.insert_cell_below('code');\n",
       "        var prompt = code.element.find(\".input_prompt\");\n",
       "        prompt.append('<br><button style=\"height: 100%; width: 54px;\">Run</button>');\n",
       "        prompt.on(\"click\", \"button\", function(){\n",
       "            code.execute();\n",
       "        });\n",
       "        code.set_text(decodeURIComponent(window.atob(\"JTIzJTIwVGVtcCUwQWluc2VydCUyOCUyNyUyNyUyNyUyNyUyNyUyNyUyOSUzQiUwQXNldF9hdHRyaWJ1dGUlMjglMjdkaW5ncyVDMyVCOHlyMjAxMmElMjclMkMlMjAlMjdwdWJsaXNoZXIlMjclMkMlMjAlMjdFbHNldmllciUyNyUyOSUzQiUwQXNldF9hdHRyaWJ1dGUlMjglMjdkaW5ncyVDMyVCOHlyMjAxMmElMjclMkMlMjAlMjdzY2hvbGFyMjAxNiUyNyUyQyUyMCUyNzElMjclMjklM0I=\")));\n",
       "    "
      ],
      "text/plain": [
       "<IPython.core.display.Javascript object>"
      ]
     },
     "metadata": {},
     "output_type": "display_data"
    },
    {
     "data": {
      "application/javascript": [
       "$('span:contains(\"# Temp\")').closest('.cell').remove();"
      ],
      "text/plain": [
       "<IPython.core.display.Javascript object>"
      ]
     },
     "metadata": {},
     "output_type": "display_data"
    },
    {
     "data": {
      "application/javascript": [
       "\n",
       "        $('span:contains(\"# Temp\")').closest('.cell').remove();\n",
       "        var code = IPython.notebook.insert_cell_below('code');\n",
       "        var prompt = code.element.find(\".input_prompt\");\n",
       "        prompt.append('<br><button style=\"height: 100%; width: 54px;\">Run</button>');\n",
       "        prompt.on(\"click\", \"button\", function(){\n",
       "            code.execute();\n",
       "        });\n",
       "        code.set_text(decodeURIComponent(window.atob(\"JTIzJTIwVGVtcCUwQWluc2VydCUyOCUyNyUyNyUyNyUyNyUyNyUyNyUyOSUzQiUwQXNldF9hdHRyaWJ1dGUlMjglMjdkaW5ncyVDMyVCOHlyMjAxMmElMjclMkMlMjAlMjdwdWJsaXNoZXIlMjclMkMlMjAlMjdFbHNldmllciUyNyUyOSUzQiUwQXNldF9hdHRyaWJ1dGUlMjglMjdkaW5ncyVDMyVCOHlyMjAxMmElMjclMkMlMjAlMjdzY2hvbGFyMjAxNiUyNyUyQyUyMCUyNzElMjclMjklM0I=\")));\n",
       "    "
      ],
      "text/plain": [
       "<IPython.core.display.Javascript object>"
      ]
     },
     "metadata": {},
     "output_type": "display_data"
    },
    {
     "data": {
      "application/javascript": [
       "$('span:contains(\"# Temp\")').closest('.cell').remove();"
      ],
      "text/plain": [
       "<IPython.core.display.Javascript object>"
      ]
     },
     "metadata": {},
     "output_type": "display_data"
    },
    {
     "data": {
      "application/javascript": [
       "\n",
       "        $('span:contains(\"# Temp\")').closest('.cell').remove();\n",
       "        var code = IPython.notebook.insert_cell_below('code');\n",
       "        var prompt = code.element.find(\".input_prompt\");\n",
       "        prompt.append('<br><button style=\"height: 100%; width: 54px;\">Run</button>');\n",
       "        prompt.on(\"click\", \"button\", function(){\n",
       "            code.execute();\n",
       "        });\n",
       "        code.set_text(decodeURIComponent(window.atob(\"JTIzJTIwVGVtcCUwQWluc2VydCUyOCUyNyUyNyUyNyUyNyUyNyUyNyUyOSUzQiUwQXNldF9hdHRyaWJ1dGUlMjglMjdrcnVjaHRlbjIwMTNhJTI3JTJDJTIwJTI3c2Nob2xhcjIwMTYlMjclMkMlMjAlMjcxJTI3JTI5JTNC\")));\n",
       "    "
      ],
      "text/plain": [
       "<IPython.core.display.Javascript object>"
      ]
     },
     "metadata": {},
     "output_type": "display_data"
    },
    {
     "data": {
      "application/javascript": [
       "$('span:contains(\"# Temp\")').closest('.cell').remove();"
      ],
      "text/plain": [
       "<IPython.core.display.Javascript object>"
      ]
     },
     "metadata": {},
     "output_type": "display_data"
    },
    {
     "data": {
      "application/javascript": [
       "\n",
       "        $('span:contains(\"# Temp\")').closest('.cell').remove();\n",
       "        var code = IPython.notebook.insert_cell_below('code');\n",
       "        var prompt = code.element.find(\".input_prompt\");\n",
       "        prompt.append('<br><button style=\"height: 100%; width: 54px;\">Run</button>');\n",
       "        prompt.on(\"click\", \"button\", function(){\n",
       "            code.execute();\n",
       "        });\n",
       "        code.set_text(decodeURIComponent(window.atob(\"JTIzJTIwVGVtcCUwQWluc2VydCUyOCUyNyUyNyUyNyUyNyUyNyUyNyUyOSUzQiUwQXNldF9hdHRyaWJ1dGUlMjglMjdrcnVjaHRlbjIwMTNhJTI3JTJDJTIwJTI3c2Nob2xhcjIwMTYlMjclMkMlMjAlMjcxJTI3JTI5JTNC\")));\n",
       "    "
      ],
      "text/plain": [
       "<IPython.core.display.Javascript object>"
      ]
     },
     "metadata": {},
     "output_type": "display_data"
    },
    {
     "data": {
      "application/javascript": [
       "$('span:contains(\"# Temp\")').closest('.cell').remove();"
      ],
      "text/plain": [
       "<IPython.core.display.Javascript object>"
      ]
     },
     "metadata": {},
     "output_type": "display_data"
    },
    {
     "data": {
      "application/javascript": [
       "\n",
       "        $('span:contains(\"# Temp\")').closest('.cell').remove();\n",
       "        var code = IPython.notebook.insert_cell_below('code');\n",
       "        var prompt = code.element.find(\".input_prompt\");\n",
       "        prompt.append('<br><button style=\"height: 100%; width: 54px;\">Run</button>');\n",
       "        prompt.on(\"click\", \"button\", function(){\n",
       "            code.execute();\n",
       "        });\n",
       "        code.set_text(decodeURIComponent(window.atob(\"JTIzJTIwVGVtcCUwQWluc2VydCUyOCUyNyUyNyUyNyUwQWNvbmJveTIwMDRiJTIwJTNEJTIwREIlMjhXb3JrVW5yZWxhdGVkJTI4JTBBJTIwJTIwJTIwJTIwMjAwNCUyQyUyMCUyMlRvd2FyZCUyMGElMjBjb25jZXB0dWFsJTIwZnJhbWV3b3JrJTIwb2YlMjBhZ2lsZSUyMG1ldGhvZHMlMjIlMkMlMEElMjAlMjAlMjAlMjBkaXNwbGF5JTNEJTIyY29uYm95JTIwYiUyMiUyQyUwQSUyMCUyMCUyMCUyMGF1dGhvcnMlM0QlMjJDb25ib3klMkMlMjBLaWVyYW4lMjBhbmQlMjBGaXR6Z2VyYWxkJTJDJTIwQnJpYW4lMjIlMkMlMEElMjAlMjAlMjAlMjBwbGFjZSUzREZBS0UlMkMlMEElMjAlMjAlMjAlMjBwcCUzRCUyMjEwNS0tMTE2JTIyJTJDJTBBJTIwJTIwJTIwJTIwZW50cnl0eXBlJTNEJTIyaW5wcm9jZWVkaW5ncyUyMiUyQyUwQSUyMCUyMCUyMCUyMG9yZ2FuaXphdGlvbiUzRCUyMlNwcmluZ2VyJTIyJTJDJTBBJTIwJTIwJTIwJTIwSUQlM0QlMjJjb25ib3kyMDA0dG93YXJkJTIyJTJDJTBBJTIwJTIwJTIwJTIwc2Nob2xhcjIwMTYlM0QlMjIxJTIyJTJDJTBBJTIwJTIwJTIwJTIwcGxhY2V4JTNEJTIyQ29uZmVyZW5jZSUyMG9uJTIwRXh0cmVtZSUyMFByb2dyYW1taW5nJTIwYW5kJTIwQWdpbGUlMjBNZXRob2RzJTIyJTJDJTBBJTI5JTI5JTBBJTI3JTI3JTI3JTI5JTNC\")));\n",
       "    "
      ],
      "text/plain": [
       "<IPython.core.display.Javascript object>"
      ]
     },
     "metadata": {},
     "output_type": "display_data"
    },
    {
     "data": {
      "application/javascript": [
       "$('span:contains(\"# Temp\")').closest('.cell').remove();"
      ],
      "text/plain": [
       "<IPython.core.display.Javascript object>"
      ]
     },
     "metadata": {},
     "output_type": "display_data"
    },
    {
     "data": {
      "application/javascript": [
       "\n",
       "        $('span:contains(\"# Temp\")').closest('.cell').remove();\n",
       "        var code = IPython.notebook.insert_cell_below('code');\n",
       "        var prompt = code.element.find(\".input_prompt\");\n",
       "        prompt.append('<br><button style=\"height: 100%; width: 54px;\">Run</button>');\n",
       "        prompt.on(\"click\", \"button\", function(){\n",
       "            code.execute();\n",
       "        });\n",
       "        code.set_text(decodeURIComponent(window.atob(\"JTIzJTIwVGVtcCUwQWluc2VydCUyOCUyNyUyNyUyNyUwQWNvbmJveTIwMDRiJTIwJTNEJTIwREIlMjhXb3JrVW5yZWxhdGVkJTI4JTBBJTIwJTIwJTIwJTIwMjAwNCUyQyUyMCUyMlRvd2FyZCUyMGElMjBjb25jZXB0dWFsJTIwZnJhbWV3b3JrJTIwb2YlMjBhZ2lsZSUyMG1ldGhvZHMlMjIlMkMlMEElMjAlMjAlMjAlMjBkaXNwbGF5JTNEJTIyY29uYm95JTIwYiUyMiUyQyUwQSUyMCUyMCUyMCUyMGF1dGhvcnMlM0QlMjJDb25ib3klMkMlMjBLaWVyYW4lMjBhbmQlMjBGaXR6Z2VyYWxkJTJDJTIwQnJpYW4lMjIlMkMlMEElMjAlMjAlMjAlMjBwbGFjZSUzREZBS0UlMkMlMEElMjAlMjAlMjAlMjBwcCUzRCUyMjEwNS0tMTE2JTIyJTJDJTBBJTIwJTIwJTIwJTIwZW50cnl0eXBlJTNEJTIyaW5wcm9jZWVkaW5ncyUyMiUyQyUwQSUyMCUyMCUyMCUyMG9yZ2FuaXphdGlvbiUzRCUyMlNwcmluZ2VyJTIyJTJDJTBBJTIwJTIwJTIwJTIwSUQlM0QlMjJjb25ib3kyMDA0dG93YXJkJTIyJTJDJTBBJTIwJTIwJTIwJTIwc2Nob2xhcjIwMTYlM0QlMjIxJTIyJTJDJTBBJTIwJTIwJTIwJTIwcGxhY2V4JTNEJTIyQ29uZmVyZW5jZSUyMG9uJTIwRXh0cmVtZSUyMFByb2dyYW1taW5nJTIwYW5kJTIwQWdpbGUlMjBNZXRob2RzJTIyJTJDJTBBJTI5JTI5JTBBJTI3JTI3JTI3JTI5JTNC\")));\n",
       "    "
      ],
      "text/plain": [
       "<IPython.core.display.Javascript object>"
      ]
     },
     "metadata": {},
     "output_type": "display_data"
    },
    {
     "data": {
      "application/javascript": [
       "$('span:contains(\"# Temp\")').closest('.cell').remove();"
      ],
      "text/plain": [
       "<IPython.core.display.Javascript object>"
      ]
     },
     "metadata": {},
     "output_type": "display_data"
    },
    {
     "data": {
      "application/javascript": [
       "\n",
       "        $('span:contains(\"# Temp\")').closest('.cell').remove();\n",
       "        var code = IPython.notebook.insert_cell_below('code');\n",
       "        var prompt = code.element.find(\".input_prompt\");\n",
       "        prompt.append('<br><button style=\"height: 100%; width: 54px;\">Run</button>');\n",
       "        prompt.on(\"click\", \"button\", function(){\n",
       "            code.execute();\n",
       "        });\n",
       "        code.set_text(decodeURIComponent(window.atob(\"JTIzJTIwVGVtcCUwQWluc2VydCUyOCUyNyUyNyUyNyUyNyUyNyUyNyUyOSUzQiUwQXNldF9hdHRyaWJ1dGUlMjglMjdob2RhMjAxMGElMjclMkMlMjAlMjdvcmdhbml6YXRpb24lMjclMkMlMjAlMjdTcHJpbmdlciUyNyUyOSUzQiUwQXNldF9hdHRyaWJ1dGUlMjglMjdob2RhMjAxMGElMjclMkMlMjAlMjdzY2hvbGFyMjAxNiUyNyUyQyUyMCUyNzElMjclMjklM0I=\")));\n",
       "    "
      ],
      "text/plain": [
       "<IPython.core.display.Javascript object>"
      ]
     },
     "metadata": {},
     "output_type": "display_data"
    },
    {
     "data": {
      "application/javascript": [
       "$('span:contains(\"# Temp\")').closest('.cell').remove();"
      ],
      "text/plain": [
       "<IPython.core.display.Javascript object>"
      ]
     },
     "metadata": {},
     "output_type": "display_data"
    },
    {
     "data": {
      "application/javascript": [
       "\n",
       "        $('span:contains(\"# Temp\")').closest('.cell').remove();\n",
       "        var code = IPython.notebook.insert_cell_below('code');\n",
       "        var prompt = code.element.find(\".input_prompt\");\n",
       "        prompt.append('<br><button style=\"height: 100%; width: 54px;\">Run</button>');\n",
       "        prompt.on(\"click\", \"button\", function(){\n",
       "            code.execute();\n",
       "        });\n",
       "        code.set_text(decodeURIComponent(window.atob(\"JTIzJTIwVGVtcCUwQWluc2VydCUyOCUyNyUyNyUyNyUyNyUyNyUyNyUyOSUzQiUwQXNldF9hdHRyaWJ1dGUlMjglMjdob2RhMjAxMGElMjclMkMlMjAlMjdvcmdhbml6YXRpb24lMjclMkMlMjAlMjdTcHJpbmdlciUyNyUyOSUzQiUwQXNldF9hdHRyaWJ1dGUlMjglMjdob2RhMjAxMGElMjclMkMlMjAlMjdzY2hvbGFyMjAxNiUyNyUyQyUyMCUyNzElMjclMjklM0I=\")));\n",
       "    "
      ],
      "text/plain": [
       "<IPython.core.display.Javascript object>"
      ]
     },
     "metadata": {},
     "output_type": "display_data"
    },
    {
     "data": {
      "application/javascript": [
       "$('span:contains(\"# Temp\")').closest('.cell').remove();"
      ],
      "text/plain": [
       "<IPython.core.display.Javascript object>"
      ]
     },
     "metadata": {},
     "output_type": "display_data"
    },
    {
     "data": {
      "application/javascript": [
       "\n",
       "        $('span:contains(\"# Temp\")').closest('.cell').remove();\n",
       "        var code = IPython.notebook.insert_cell_below('code');\n",
       "        var prompt = code.element.find(\".input_prompt\");\n",
       "        prompt.append('<br><button style=\"height: 100%; width: 54px;\">Run</button>');\n",
       "        prompt.on(\"click\", \"button\", function(){\n",
       "            code.execute();\n",
       "        });\n",
       "        code.set_text(decodeURIComponent(window.atob(\"JTIzJTIwVGVtcCUwQWluc2VydCUyOCUyNyUyNyUyNyUwQXN1dGhlcmxhbmQyMDA4YiUyMCUzRCUyMERCJTI4V29ya1VucmVsYXRlZCUyOCUwQSUyMCUyMCUyMCUyMDIwMDglMkMlMjAlMjJTY3J1bSUyMGFuZCUyMENNTUklMjBsZXZlbCUyMDUlM0ElMjBUaGUlMjBtYWdpYyUyMHBvdGlvbiUyMGZvciUyMGNvZGUlMjB3YXJyaW9ycyUyMiUyQyUwQSUyMCUyMCUyMCUyMGRpc3BsYXklM0QlMjJzdXRoZXJsYW5kJTIwYiUyMiUyQyUwQSUyMCUyMCUyMCUyMGF1dGhvcnMlM0QlMjJTdXRoZXJsYW5kJTJDJTIwSmVmZiUyMGFuZCUyMEpha29ic2VuJTJDJTIwQ2Fyc3RlbiUyMFJ1c2VuZyUyMGFuZCUyMEpvaG5zb24lMkMlMjBLZW50JTIyJTJDJTBBJTIwJTIwJTIwJTIwcGxhY2UlM0RGQUtFJTJDJTBBJTIwJTIwJTIwJTIwcHAlM0QlMjI0NjYtLTQ2NiUyMiUyQyUwQSUyMCUyMCUyMCUyMGVudHJ5dHlwZSUzRCUyMmlucHJvY2VlZGluZ3MlMjIlMkMlMEElMjAlMjAlMjAlMjBvcmdhbml6YXRpb24lM0QlMjJJRUVFJTIyJTJDJTBBJTIwJTIwJTIwJTIwSUQlM0QlMjJzdXRoZXJsYW5kMjAwOHNjcnVtJTIyJTJDJTBBJTIwJTIwJTIwJTIwc2Nob2xhcjIwMTYlM0QlMjIxJTIyJTJDJTBBJTIwJTIwJTIwJTIwcGxhY2V4JTNEJTIySGF3YWlpJTIwSW50ZXJuYXRpb25hbCUyMENvbmZlcmVuY2UlMjBvbiUyMFN5c3RlbSUyMFNjaWVuY2VzJTJDJTIwUHJvY2VlZGluZ3MlMjBvZiUyMHRoZSUyMDQxc3QlMjBBbm51YWwlMjIlMkMlMEElMjklMjklMEElMjclMjclMjclMjklM0I=\")));\n",
       "    "
      ],
      "text/plain": [
       "<IPython.core.display.Javascript object>"
      ]
     },
     "metadata": {},
     "output_type": "display_data"
    },
    {
     "data": {
      "application/javascript": [
       "$('span:contains(\"# Temp\")').closest('.cell').remove();"
      ],
      "text/plain": [
       "<IPython.core.display.Javascript object>"
      ]
     },
     "metadata": {},
     "output_type": "display_data"
    },
    {
     "data": {
      "application/javascript": [
       "\n",
       "        $('span:contains(\"# Temp\")').closest('.cell').remove();\n",
       "        var code = IPython.notebook.insert_cell_below('code');\n",
       "        var prompt = code.element.find(\".input_prompt\");\n",
       "        prompt.append('<br><button style=\"height: 100%; width: 54px;\">Run</button>');\n",
       "        prompt.on(\"click\", \"button\", function(){\n",
       "            code.execute();\n",
       "        });\n",
       "        code.set_text(decodeURIComponent(window.atob(\"JTIzJTIwVGVtcCUwQWluc2VydCUyOCUyNyUyNyUyNyUwQXN1dGhlcmxhbmQyMDA4YiUyMCUzRCUyMERCJTI4V29ya1VucmVsYXRlZCUyOCUwQSUyMCUyMCUyMCUyMDIwMDglMkMlMjAlMjJTY3J1bSUyMGFuZCUyMENNTUklMjBsZXZlbCUyMDUlM0ElMjBUaGUlMjBtYWdpYyUyMHBvdGlvbiUyMGZvciUyMGNvZGUlMjB3YXJyaW9ycyUyMiUyQyUwQSUyMCUyMCUyMCUyMGRpc3BsYXklM0QlMjJzdXRoZXJsYW5kJTIwYiUyMiUyQyUwQSUyMCUyMCUyMCUyMGF1dGhvcnMlM0QlMjJTdXRoZXJsYW5kJTJDJTIwSmVmZiUyMGFuZCUyMEpha29ic2VuJTJDJTIwQ2Fyc3RlbiUyMFJ1c2VuZyUyMGFuZCUyMEpvaG5zb24lMkMlMjBLZW50JTIyJTJDJTBBJTIwJTIwJTIwJTIwcGxhY2UlM0RGQUtFJTJDJTBBJTIwJTIwJTIwJTIwcHAlM0QlMjI0NjYtLTQ2NiUyMiUyQyUwQSUyMCUyMCUyMCUyMGVudHJ5dHlwZSUzRCUyMmlucHJvY2VlZGluZ3MlMjIlMkMlMEElMjAlMjAlMjAlMjBvcmdhbml6YXRpb24lM0QlMjJJRUVFJTIyJTJDJTBBJTIwJTIwJTIwJTIwSUQlM0QlMjJzdXRoZXJsYW5kMjAwOHNjcnVtJTIyJTJDJTBBJTIwJTIwJTIwJTIwc2Nob2xhcjIwMTYlM0QlMjIxJTIyJTJDJTBBJTIwJTIwJTIwJTIwcGxhY2V4JTNEJTIySGF3YWlpJTIwSW50ZXJuYXRpb25hbCUyMENvbmZlcmVuY2UlMjBvbiUyMFN5c3RlbSUyMFNjaWVuY2VzJTJDJTIwUHJvY2VlZGluZ3MlMjBvZiUyMHRoZSUyMDQxc3QlMjBBbm51YWwlMjIlMkMlMEElMjklMjklMEElMjclMjclMjclMjklM0I=\")));\n",
       "    "
      ],
      "text/plain": [
       "<IPython.core.display.Javascript object>"
      ]
     },
     "metadata": {},
     "output_type": "display_data"
    },
    {
     "data": {
      "application/javascript": [
       "$('span:contains(\"# Temp\")').closest('.cell').remove();"
      ],
      "text/plain": [
       "<IPython.core.display.Javascript object>"
      ]
     },
     "metadata": {},
     "output_type": "display_data"
    },
    {
     "data": {
      "application/javascript": [
       "\n",
       "        $('span:contains(\"# Temp\")').closest('.cell').remove();\n",
       "        var code = IPython.notebook.insert_cell_below('code');\n",
       "        var prompt = code.element.find(\".input_prompt\");\n",
       "        prompt.append('<br><button style=\"height: 100%; width: 54px;\">Run</button>');\n",
       "        prompt.on(\"click\", \"button\", function(){\n",
       "            code.execute();\n",
       "        });\n",
       "        code.set_text(decodeURIComponent(window.atob(\"JTIzJTIwVGVtcCUwQWluc2VydCUyOCUyNyUyNyUyNyUyNyUyNyUyNyUyOSUzQiUwQXNldF9hdHRyaWJ1dGUlMjglMjdsYXJtYW4yMDA0YSUyNyUyQyUyMCUyN3NjaG9sYXIyMDE2JTI3JTJDJTIwJTI3MSUyNyUyOSUzQg==\")));\n",
       "    "
      ],
      "text/plain": [
       "<IPython.core.display.Javascript object>"
      ]
     },
     "metadata": {},
     "output_type": "display_data"
    },
    {
     "data": {
      "application/javascript": [
       "$('span:contains(\"# Temp\")').closest('.cell').remove();"
      ],
      "text/plain": [
       "<IPython.core.display.Javascript object>"
      ]
     },
     "metadata": {},
     "output_type": "display_data"
    },
    {
     "data": {
      "application/javascript": [
       "\n",
       "        $('span:contains(\"# Temp\")').closest('.cell').remove();\n",
       "        var code = IPython.notebook.insert_cell_below('code');\n",
       "        var prompt = code.element.find(\".input_prompt\");\n",
       "        prompt.append('<br><button style=\"height: 100%; width: 54px;\">Run</button>');\n",
       "        prompt.on(\"click\", \"button\", function(){\n",
       "            code.execute();\n",
       "        });\n",
       "        code.set_text(decodeURIComponent(window.atob(\"JTIzJTIwVGVtcCUwQWluc2VydCUyOCUyNyUyNyUyNyUyNyUyNyUyNyUyOSUzQiUwQXNldF9hdHRyaWJ1dGUlMjglMjdsYXJtYW4yMDA0YSUyNyUyQyUyMCUyN3NjaG9sYXIyMDE2JTI3JTJDJTIwJTI3MSUyNyUyOSUzQg==\")));\n",
       "    "
      ],
      "text/plain": [
       "<IPython.core.display.Javascript object>"
      ]
     },
     "metadata": {},
     "output_type": "display_data"
    },
    {
     "data": {
      "application/javascript": [
       "$('span:contains(\"# Temp\")').closest('.cell').remove();"
      ],
      "text/plain": [
       "<IPython.core.display.Javascript object>"
      ]
     },
     "metadata": {},
     "output_type": "display_data"
    },
    {
     "data": {
      "application/javascript": [
       "\n",
       "        $('span:contains(\"# Temp\")').closest('.cell').remove();\n",
       "        var code = IPython.notebook.insert_cell_below('code');\n",
       "        var prompt = code.element.find(\".input_prompt\");\n",
       "        prompt.append('<br><button style=\"height: 100%; width: 54px;\">Run</button>');\n",
       "        prompt.on(\"click\", \"button\", function(){\n",
       "            code.execute();\n",
       "        });\n",
       "        code.set_text(decodeURIComponent(window.atob(\"JTIzJTIwVGVtcCUwQWluc2VydCUyOCUyNyUyNyUyNyUwQWFzcHJvbmkyMDA0YSUyMCUzRCUyMERCJTI4V29ya1VucmVsYXRlZCUyOCUwQSUyMCUyMCUyMCUyMDIwMDQlMkMlMjAlMjJNb3RpdmF0aW9uJTJDJTIwdGVhbXdvcmslMkMlMjBhbmQlMjBhZ2lsZSUyMGRldmVsb3BtZW50JTIyJTJDJTBBJTIwJTIwJTIwJTIwZGlzcGxheSUzRCUyMmFzcHJvbmklMjIlMkMlMEElMjAlMjAlMjAlMjBhdXRob3JzJTNEJTIyQXNwcm9uaSUyQyUyMEdpb3Zhbm5pJTIyJTJDJTBBJTIwJTIwJTIwJTIwcGxhY2UlM0RGQUtFJTJDJTBBJTIwJTIwJTIwJTIwcHAlM0QlMjI4LS0xNSUyMiUyQyUwQSUyMCUyMCUyMCUyMGVudHJ5dHlwZSUzRCUyMmFydGljbGUlMjIlMkMlMEElMjAlMjAlMjAlMjB2b2x1bWUlM0QlMjI0JTIyJTJDJTBBJTIwJTIwJTIwJTIwbnVtYmVyJTNEJTIyMSUyMiUyQyUwQSUyMCUyMCUyMCUyMElEJTNEJTIyYXNwcm9uaTIwMDRtb3RpdmF0aW9uJTIyJTJDJTBBJTIwJTIwJTIwJTIwc2Nob2xhcjIwMTYlM0QlMjIxJTIyJTJDJTBBJTIwJTIwJTIwJTIwcGxhY2V4JTNEJTIyQWdpbGUlMjBUaW1lcyUyMiUyQyUwQSUyOSUyOSUwQSUyNyUyNyUyNyUyOSUzQg==\")));\n",
       "    "
      ],
      "text/plain": [
       "<IPython.core.display.Javascript object>"
      ]
     },
     "metadata": {},
     "output_type": "display_data"
    },
    {
     "data": {
      "application/javascript": [
       "$('span:contains(\"# Temp\")').closest('.cell').remove();"
      ],
      "text/plain": [
       "<IPython.core.display.Javascript object>"
      ]
     },
     "metadata": {},
     "output_type": "display_data"
    },
    {
     "data": {
      "application/javascript": [
       "\n",
       "        $('span:contains(\"# Temp\")').closest('.cell').remove();\n",
       "        var code = IPython.notebook.insert_cell_below('code');\n",
       "        var prompt = code.element.find(\".input_prompt\");\n",
       "        prompt.append('<br><button style=\"height: 100%; width: 54px;\">Run</button>');\n",
       "        prompt.on(\"click\", \"button\", function(){\n",
       "            code.execute();\n",
       "        });\n",
       "        code.set_text(decodeURIComponent(window.atob(\"JTIzJTIwVGVtcCUwQWluc2VydCUyOCUyNyUyNyUyNyUwQWFzcHJvbmkyMDA0YSUyMCUzRCUyMERCJTI4V29ya1VucmVsYXRlZCUyOCUwQSUyMCUyMCUyMCUyMDIwMDQlMkMlMjAlMjJNb3RpdmF0aW9uJTJDJTIwdGVhbXdvcmslMkMlMjBhbmQlMjBhZ2lsZSUyMGRldmVsb3BtZW50JTIyJTJDJTBBJTIwJTIwJTIwJTIwZGlzcGxheSUzRCUyMmFzcHJvbmklMjIlMkMlMEElMjAlMjAlMjAlMjBhdXRob3JzJTNEJTIyQXNwcm9uaSUyQyUyMEdpb3Zhbm5pJTIyJTJDJTBBJTIwJTIwJTIwJTIwcGxhY2UlM0RGQUtFJTJDJTBBJTIwJTIwJTIwJTIwcHAlM0QlMjI4LS0xNSUyMiUyQyUwQSUyMCUyMCUyMCUyMGVudHJ5dHlwZSUzRCUyMmFydGljbGUlMjIlMkMlMEElMjAlMjAlMjAlMjB2b2x1bWUlM0QlMjI0JTIyJTJDJTBBJTIwJTIwJTIwJTIwbnVtYmVyJTNEJTIyMSUyMiUyQyUwQSUyMCUyMCUyMCUyMElEJTNEJTIyYXNwcm9uaTIwMDRtb3RpdmF0aW9uJTIyJTJDJTBBJTIwJTIwJTIwJTIwc2Nob2xhcjIwMTYlM0QlMjIxJTIyJTJDJTBBJTIwJTIwJTIwJTIwcGxhY2V4JTNEJTIyQWdpbGUlMjBUaW1lcyUyMiUyQyUwQSUyOSUyOSUwQSUyNyUyNyUyNyUyOSUzQg==\")));\n",
       "    "
      ],
      "text/plain": [
       "<IPython.core.display.Javascript object>"
      ]
     },
     "metadata": {},
     "output_type": "display_data"
    },
    {
     "data": {
      "application/javascript": [
       "$('span:contains(\"# Temp\")').closest('.cell').remove();"
      ],
      "text/plain": [
       "<IPython.core.display.Javascript object>"
      ]
     },
     "metadata": {},
     "output_type": "display_data"
    },
    {
     "data": {
      "application/javascript": [
       "\n",
       "        $('span:contains(\"# Temp\")').closest('.cell').remove();\n",
       "        var code = IPython.notebook.insert_cell_below('code');\n",
       "        var prompt = code.element.find(\".input_prompt\");\n",
       "        prompt.append('<br><button style=\"height: 100%; width: 54px;\">Run</button>');\n",
       "        prompt.on(\"click\", \"button\", function(){\n",
       "            code.execute();\n",
       "        });\n",
       "        code.set_text(decodeURIComponent(window.atob(\"JTIzJTIwVGVtcCUwQWluc2VydCUyOCUyNyUyNyUyNyUyNyUyNyUyNyUyOSUzQiUwQXNldF9hdHRyaWJ1dGUlMjglMjdsYXJtYW4yMDEwYSUyNyUyQyUyMCUyN3NjaG9sYXIyMDE2JTI3JTJDJTIwJTI3MSUyNyUyOSUzQg==\")));\n",
       "    "
      ],
      "text/plain": [
       "<IPython.core.display.Javascript object>"
      ]
     },
     "metadata": {},
     "output_type": "display_data"
    },
    {
     "data": {
      "application/javascript": [
       "$('span:contains(\"# Temp\")').closest('.cell').remove();"
      ],
      "text/plain": [
       "<IPython.core.display.Javascript object>"
      ]
     },
     "metadata": {},
     "output_type": "display_data"
    },
    {
     "data": {
      "application/javascript": [
       "\n",
       "        $('span:contains(\"# Temp\")').closest('.cell').remove();\n",
       "        var code = IPython.notebook.insert_cell_below('code');\n",
       "        var prompt = code.element.find(\".input_prompt\");\n",
       "        prompt.append('<br><button style=\"height: 100%; width: 54px;\">Run</button>');\n",
       "        prompt.on(\"click\", \"button\", function(){\n",
       "            code.execute();\n",
       "        });\n",
       "        code.set_text(decodeURIComponent(window.atob(\"JTIzJTIwVGVtcCUwQWluc2VydCUyOCUyNyUyNyUyNyUyNyUyNyUyNyUyOSUzQiUwQXNldF9hdHRyaWJ1dGUlMjglMjdsYXJtYW4yMDEwYSUyNyUyQyUyMCUyN3NjaG9sYXIyMDE2JTI3JTJDJTIwJTI3MSUyNyUyOSUzQg==\")));\n",
       "    "
      ],
      "text/plain": [
       "<IPython.core.display.Javascript object>"
      ]
     },
     "metadata": {},
     "output_type": "display_data"
    },
    {
     "data": {
      "application/javascript": [
       "$('span:contains(\"# Temp\")').closest('.cell').remove();"
      ],
      "text/plain": [
       "<IPython.core.display.Javascript object>"
      ]
     },
     "metadata": {},
     "output_type": "display_data"
    },
    {
     "data": {
      "application/javascript": [
       "\n",
       "        $('span:contains(\"# Temp\")').closest('.cell').remove();\n",
       "        var code = IPython.notebook.insert_cell_below('code');\n",
       "        var prompt = code.element.find(\".input_prompt\");\n",
       "        prompt.append('<br><button style=\"height: 100%; width: 54px;\">Run</button>');\n",
       "        prompt.on(\"click\", \"button\", function(){\n",
       "            code.execute();\n",
       "        });\n",
       "        code.set_text(decodeURIComponent(window.atob(\"JTIzJTIwVGVtcCUwQWluc2VydCUyOCUyNyUyNyUyNyUwQWNoYXUyMDAzYSUyMCUzRCUyMERCJTI4V29ya1VucmVsYXRlZCUyOCUwQSUyMCUyMCUyMCUyMDIwMDMlMkMlMjAlMjJLbm93bGVkZ2UlMjBzaGFyaW5nJTNBJTIwQWdpbGUlMjBtZXRob2RzJTIwdnMuJTIwdGF5bG9yaXN0aWMlMjBtZXRob2RzJTIyJTJDJTBBJTIwJTIwJTIwJTIwZGlzcGxheSUzRCUyMmNoYXUlMjIlMkMlMEElMjAlMjAlMjAlMjBhdXRob3JzJTNEJTIyQ2hhdSUyQyUyMFRob21hcyUyMGFuZCUyME1hdXJlciUyQyUyMEZyYW5rJTIwYW5kJTIwTWVsbmlrJTJDJTIwR3JpZ29yaSUyMiUyQyUwQSUyMCUyMCUyMCUyMHBsYWNlJTNERkFLRSUyQyUwQSUyMCUyMCUyMCUyMHBwJTNEJTIyMzAyLS0zMDclMjIlMkMlMEElMjAlMjAlMjAlMjBlbnRyeXR5cGUlM0QlMjJpbnByb2NlZWRpbmdzJTIyJTJDJTBBJTIwJTIwJTIwJTIwb3JnYW5pemF0aW9uJTNEJTIySUVFRSUyMiUyQyUwQSUyMCUyMCUyMCUyMElEJTNEJTIyY2hhdTIwMDNrbm93bGVkZ2UlMjIlMkMlMEElMjAlMjAlMjAlMjBzY2hvbGFyMjAxNiUzRCUyMjElMjIlMkMlMEElMjAlMjAlMjAlMjBwbGFjZXglM0QlMjJFbmFibGluZyUyMFRlY2hub2xvZ2llcyUzQSUyMEluZnJhc3RydWN0dXJlJTIwZm9yJTIwQ29sbGFib3JhdGl2ZSUyMEVudGVycHJpc2VzJTJDJTIwMjAwMy4lMjBXRVQlMjBJQ0UlMjAyMDAzLiUyMFByb2NlZWRpbmdzLiUyMFR3ZWxmdGglMjBJRUVFJTIwSW50ZXJuYXRpb25hbCUyMFdvcmtzaG9wcyUyMG9uJTIyJTJDJTBBJTI5JTI5JTBBJTI3JTI3JTI3JTI5JTNC\")));\n",
       "    "
      ],
      "text/plain": [
       "<IPython.core.display.Javascript object>"
      ]
     },
     "metadata": {},
     "output_type": "display_data"
    },
    {
     "data": {
      "application/javascript": [
       "$('span:contains(\"# Temp\")').closest('.cell').remove();"
      ],
      "text/plain": [
       "<IPython.core.display.Javascript object>"
      ]
     },
     "metadata": {},
     "output_type": "display_data"
    },
    {
     "data": {
      "application/javascript": [
       "\n",
       "        $('span:contains(\"# Temp\")').closest('.cell').remove();\n",
       "        var code = IPython.notebook.insert_cell_below('code');\n",
       "        var prompt = code.element.find(\".input_prompt\");\n",
       "        prompt.append('<br><button style=\"height: 100%; width: 54px;\">Run</button>');\n",
       "        prompt.on(\"click\", \"button\", function(){\n",
       "            code.execute();\n",
       "        });\n",
       "        code.set_text(decodeURIComponent(window.atob(\"JTIzJTIwVGVtcCUwQWluc2VydCUyOCUyNyUyNyUyNyUwQWNoYXUyMDAzYSUyMCUzRCUyMERCJTI4V29ya1VucmVsYXRlZCUyOCUwQSUyMCUyMCUyMCUyMDIwMDMlMkMlMjAlMjJLbm93bGVkZ2UlMjBzaGFyaW5nJTNBJTIwQWdpbGUlMjBtZXRob2RzJTIwdnMuJTIwdGF5bG9yaXN0aWMlMjBtZXRob2RzJTIyJTJDJTBBJTIwJTIwJTIwJTIwZGlzcGxheSUzRCUyMmNoYXUlMjIlMkMlMEElMjAlMjAlMjAlMjBhdXRob3JzJTNEJTIyQ2hhdSUyQyUyMFRob21hcyUyMGFuZCUyME1hdXJlciUyQyUyMEZyYW5rJTIwYW5kJTIwTWVsbmlrJTJDJTIwR3JpZ29yaSUyMiUyQyUwQSUyMCUyMCUyMCUyMHBsYWNlJTNERkFLRSUyQyUwQSUyMCUyMCUyMCUyMHBwJTNEJTIyMzAyLS0zMDclMjIlMkMlMEElMjAlMjAlMjAlMjBlbnRyeXR5cGUlM0QlMjJpbnByb2NlZWRpbmdzJTIyJTJDJTBBJTIwJTIwJTIwJTIwb3JnYW5pemF0aW9uJTNEJTIySUVFRSUyMiUyQyUwQSUyMCUyMCUyMCUyMElEJTNEJTIyY2hhdTIwMDNrbm93bGVkZ2UlMjIlMkMlMEElMjAlMjAlMjAlMjBzY2hvbGFyMjAxNiUzRCUyMjElMjIlMkMlMEElMjAlMjAlMjAlMjBwbGFjZXglM0QlMjJFbmFibGluZyUyMFRlY2hub2xvZ2llcyUzQSUyMEluZnJhc3RydWN0dXJlJTIwZm9yJTIwQ29sbGFib3JhdGl2ZSUyMEVudGVycHJpc2VzJTJDJTIwMjAwMy4lMjBXRVQlMjBJQ0UlMjAyMDAzLiUyMFByb2NlZWRpbmdzLiUyMFR3ZWxmdGglMjBJRUVFJTIwSW50ZXJuYXRpb25hbCUyMFdvcmtzaG9wcyUyMG9uJTIyJTJDJTBBJTI5JTI5JTBBJTI3JTI3JTI3JTI5JTNC\")));\n",
       "    "
      ],
      "text/plain": [
       "<IPython.core.display.Javascript object>"
      ]
     },
     "metadata": {},
     "output_type": "display_data"
    },
    {
     "data": {
      "application/javascript": [
       "$('span:contains(\"# Temp\")').closest('.cell').remove();"
      ],
      "text/plain": [
       "<IPython.core.display.Javascript object>"
      ]
     },
     "metadata": {},
     "output_type": "display_data"
    },
    {
     "data": {
      "application/javascript": [
       "\n",
       "        $('span:contains(\"# Temp\")').closest('.cell').remove();\n",
       "        var code = IPython.notebook.insert_cell_below('code');\n",
       "        var prompt = code.element.find(\".input_prompt\");\n",
       "        prompt.append('<br><button style=\"height: 100%; width: 54px;\">Run</button>');\n",
       "        prompt.on(\"click\", \"button\", function(){\n",
       "            code.execute();\n",
       "        });\n",
       "        code.set_text(decodeURIComponent(window.atob(\"JTIzJTIwVGVtcCUwQWluc2VydCUyOCUyNyUyNyUyNyUyNyUyNyUyNyUyOSUzQiUwQXNldF9hdHRyaWJ1dGUlMjglMjdkYXZpczIwMTNhJTI3JTJDJTIwJTI3c2Nob2xhcjIwMTYlMjclMkMlMjAlMjcxJTI3JTI5JTNC\")));\n",
       "    "
      ],
      "text/plain": [
       "<IPython.core.display.Javascript object>"
      ]
     },
     "metadata": {},
     "output_type": "display_data"
    },
    {
     "data": {
      "application/javascript": [
       "$('span:contains(\"# Temp\")').closest('.cell').remove();"
      ],
      "text/plain": [
       "<IPython.core.display.Javascript object>"
      ]
     },
     "metadata": {},
     "output_type": "display_data"
    },
    {
     "data": {
      "application/javascript": [
       "\n",
       "        $('span:contains(\"# Temp\")').closest('.cell').remove();\n",
       "        var code = IPython.notebook.insert_cell_below('code');\n",
       "        var prompt = code.element.find(\".input_prompt\");\n",
       "        prompt.append('<br><button style=\"height: 100%; width: 54px;\">Run</button>');\n",
       "        prompt.on(\"click\", \"button\", function(){\n",
       "            code.execute();\n",
       "        });\n",
       "        code.set_text(decodeURIComponent(window.atob(\"JTIzJTIwVGVtcCUwQWluc2VydCUyOCUyNyUyNyUyNyUyNyUyNyUyNyUyOSUzQiUwQXNldF9hdHRyaWJ1dGUlMjglMjdkYXZpczIwMTNhJTI3JTJDJTIwJTI3c2Nob2xhcjIwMTYlMjclMkMlMjAlMjcxJTI3JTI5JTNC\")));\n",
       "    "
      ],
      "text/plain": [
       "<IPython.core.display.Javascript object>"
      ]
     },
     "metadata": {},
     "output_type": "display_data"
    }
   ],
   "source": [
    "from custom_snowballing import UnrelatedInsert\n",
    "UnrelatedInsert(\"scholar2016\", articles=article_list)"
   ]
  },
  {
   "cell_type": "code",
   "execution_count": 65,
   "metadata": {
    "collapsed": true
   },
   "outputs": [],
   "source": [
    "# Temp\n",
    "insert('''''');\n",
    "set_attribute('davis2013a', 'scholar2016', '1');"
   ]
  },
  {
   "cell_type": "code",
   "execution_count": null,
   "metadata": {
    "collapsed": true
   },
   "outputs": [],
   "source": []
  }
 ],
 "metadata": {
  "hide_input": false,
  "kernelspec": {
   "display_name": "Python 3",
   "language": "python",
   "name": "python3"
  },
  "language_info": {
   "codemirror_mode": {
    "name": "ipython",
    "version": 3
   },
   "file_extension": ".py",
   "mimetype": "text/x-python",
   "name": "python",
   "nbconvert_exporter": "python",
   "pygments_lexer": "ipython3",
   "version": "3.6.0"
  },
  "toc": {
   "nav_menu": {
    "height": "12px",
    "width": "252px"
   },
   "number_sections": true,
   "sideBar": true,
   "skip_h1_title": false,
   "toc_cell": false,
   "toc_position": {},
   "toc_section_display": "block",
   "toc_window_display": false
  }
 },
 "nbformat": 4,
 "nbformat_minor": 2
}
