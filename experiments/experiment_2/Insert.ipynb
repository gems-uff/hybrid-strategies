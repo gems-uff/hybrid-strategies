{
 "cells": [
  {
   "cell_type": "code",
   "execution_count": 1,
   "metadata": {
    "collapsed": true
   },
   "outputs": [],
   "source": [
    "import database\n",
    "import custom_jupyter_utils\n",
    "from snowballing.operations import load_work, reload, work_by_varname\n",
    "from snowballing.snowballing import Converter\n",
    "from snowballing.snowballing import ArticleNavigator\n",
    "from snowballing.dbmanager import insert, set_attribute"
   ]
  },
  {
   "cell_type": "code",
   "execution_count": 2,
   "metadata": {
    "scrolled": true
   },
   "outputs": [
    {
     "data": {
      "application/vnd.jupyter.widget-view+json": {
       "model_id": "a4d5e102d1f5426585ebce427b376dbc",
       "version_major": 2,
       "version_minor": 0
      },
      "text/html": [
       "<p>Failed to display Jupyter Widget of type <code>VBox</code>.</p>\n",
       "<p>\n",
       "  If you're reading this message in Jupyter Notebook or JupyterLab, it may mean\n",
       "  that the widgets JavaScript is still loading. If this message persists, it\n",
       "  likely means that the widgets JavaScript library is either not installed or\n",
       "  not enabled. See the <a href=\"https://ipywidgets.readthedocs.io/en/stable/user_install.html\">Jupyter\n",
       "  Widgets Documentation</a> for setup instructions.\n",
       "</p>\n",
       "<p>\n",
       "  If you're reading this message in another notebook frontend (for example, a static\n",
       "  rendering on GitHub or <a href=\"https://nbviewer.jupyter.org/\">NBViewer</a>),\n",
       "  it may mean that your frontend doesn't currently support widgets.\n",
       "</p>\n"
      ],
      "text/plain": [
       "VBox(children=(HBox(children=(Dropdown(options={'BibTeX': 'bibtex', 'Text': 'text', '[N] author name place other year': 'citation', 'Quoted': 'quoted'}, value='bibtex'), Button(description='Set article_list variable', style=ButtonStyle()), Label(value=''))), HBox(children=(Textarea(value='', layout=Layout(height='500px', width='50%')), Textarea(value='', layout=Layout(height='500px', width='50%'))))))"
      ]
     },
     "metadata": {},
     "output_type": "display_data"
    }
   ],
   "source": [
    "Converter(\"bibtex\")\n"
   ]
  },
  {
   "cell_type": "code",
   "execution_count": 3,
   "metadata": {},
   "outputs": [
    {
     "data": {
      "text/plain": [
       "5"
      ]
     },
     "execution_count": 3,
     "metadata": {},
     "output_type": "execute_result"
    }
   ],
   "source": [
    "len(article_list)"
   ]
  },
  {
   "cell_type": "code",
   "execution_count": 4,
   "metadata": {
    "collapsed": true
   },
   "outputs": [],
   "source": [
    "from snowballing.operations import reload\n",
    "reload()\n"
   ]
  },
  {
   "cell_type": "code",
   "execution_count": null,
   "metadata": {
    "collapsed": true
   },
   "outputs": [],
   "source": []
  },
  {
   "cell_type": "code",
   "execution_count": null,
   "metadata": {
    "collapsed": true,
    "scrolled": false
   },
   "outputs": [],
   "source": [
    "ArticleNavigator??"
   ]
  },
  {
   "cell_type": "code",
   "execution_count": null,
   "metadata": {
    "collapsed": true
   },
   "outputs": [],
   "source": []
  },
  {
   "cell_type": "code",
   "execution_count": null,
   "metadata": {
    "collapsed": true
   },
   "outputs": [],
   "source": []
  },
  {
   "cell_type": "code",
   "execution_count": null,
   "metadata": {
    "collapsed": true
   },
   "outputs": [],
   "source": [
    "ArticleNavigator(articles=article_list)"
   ]
  },
  {
   "cell_type": "code",
   "execution_count": null,
   "metadata": {
    "collapsed": true
   },
   "outputs": [],
   "source": []
  },
  {
   "cell_type": "code",
   "execution_count": null,
   "metadata": {
    "collapsed": true
   },
   "outputs": [],
   "source": [
    "ArticleNavigator??"
   ]
  },
  {
   "cell_type": "code",
   "execution_count": null,
   "metadata": {
    "collapsed": true
   },
   "outputs": [],
   "source": []
  },
  {
   "cell_type": "code",
   "execution_count": null,
   "metadata": {
    "collapsed": true
   },
   "outputs": [],
   "source": []
  },
  {
   "cell_type": "code",
   "execution_count": null,
   "metadata": {
    "collapsed": true
   },
   "outputs": [],
   "source": []
  },
  {
   "cell_type": "code",
   "execution_count": null,
   "metadata": {
    "collapsed": true
   },
   "outputs": [],
   "source": []
  },
  {
   "cell_type": "code",
   "execution_count": null,
   "metadata": {
    "collapsed": true
   },
   "outputs": [],
   "source": []
  },
  {
   "cell_type": "code",
   "execution_count": null,
   "metadata": {
    "collapsed": true
   },
   "outputs": [],
   "source": []
  },
  {
   "cell_type": "code",
   "execution_count": null,
   "metadata": {
    "collapsed": true
   },
   "outputs": [],
   "source": []
  },
  {
   "cell_type": "code",
   "execution_count": 5,
   "metadata": {
    "scrolled": true
   },
   "outputs": [
    {
     "data": {
      "application/vnd.jupyter.widget-view+json": {
       "model_id": "66c6a73d37fc4dc3968c39afd696f4b5",
       "version_major": 2,
       "version_minor": 0
      },
      "text/html": [
       "<p>Failed to display Jupyter Widget of type <code>VBox</code>.</p>\n",
       "<p>\n",
       "  If you're reading this message in Jupyter Notebook or JupyterLab, it may mean\n",
       "  that the widgets JavaScript is still loading. If this message persists, it\n",
       "  likely means that the widgets JavaScript library is either not installed or\n",
       "  not enabled. See the <a href=\"https://ipywidgets.readthedocs.io/en/stable/user_install.html\">Jupyter\n",
       "  Widgets Documentation</a> for setup instructions.\n",
       "</p>\n",
       "<p>\n",
       "  If you're reading this message in another notebook frontend (for example, a static\n",
       "  rendering on GitHub or <a href=\"https://nbviewer.jupyter.org/\">NBViewer</a>),\n",
       "  it may mean that your frontend doesn't currently support widgets.\n",
       "</p>\n"
      ],
      "text/plain": [
       "VBox(children=(HBox(children=(Button(description='Previous Article', disabled=True, icon='caret-left', style=ButtonStyle()), Button(description='Reload Article', icon='refresh', style=ButtonStyle()), Button(description='Next Article', icon='caret-right', style=ButtonStyle()))), HBox(children=(Dropdown(description='Type', index=3, options=('Work', 'WorkSnowball', 'WorkOk', 'WorkUnrelated', 'WorkNoFile', 'WorkLang', 'Site', 'Email'), value='WorkUnrelated'), ToggleButton(value=False, description='File'))), HBox(children=(Text(value='', description='Due'), Text(value='', description='Place'))), HBox(children=(Text(value='', description='Year'), Text(value='', description='Prefix Var'))), HBox(children=(Text(value='', description='PDFPage'), Text(value='', description='Related'))), HBox(children=(Text(value='', description='Display'), Text(value='', description='Summary'))), HBox(children=(Text(value='', description='Star'), Text(value='', description='Link'))), HBox(children=(Text(value='1', description='acm2016'),)), HBox(children=(Button(description='Reload Article', icon='refresh', style=ButtonStyle()), IntSlider(value=0, max=4), Label(value='1/5'))), Output()))"
      ]
     },
     "metadata": {},
     "output_type": "display_data"
    },
    {
     "data": {
      "application/javascript": [
       "$('span:contains(\"# Temp\")').closest('.cell').remove();"
      ],
      "text/plain": [
       "<IPython.core.display.Javascript object>"
      ]
     },
     "metadata": {},
     "output_type": "display_data"
    },
    {
     "data": {
      "application/javascript": [
       "\n",
       "        $('span:contains(\"# Temp\")').closest('.cell').remove();\n",
       "        var code = IPython.notebook.insert_cell_below('code');\n",
       "        var prompt = code.element.find(\".input_prompt\");\n",
       "        prompt.append('<br><button style=\"height: 100%; width: 54px;\">Run</button>');\n",
       "        prompt.on(\"click\", \"button\", function(){\n",
       "            code.execute();\n",
       "        });\n",
       "        code.set_text(decodeURIComponent(window.atob(\"JTIzJTIwVGVtcCUwQWluc2VydCUyOCUyNyUyNyUyNyUwQWRpZWJvbGQyMDE4YiUyMCUzRCUyMERCJTI4V29ya1VucmVsYXRlZCUyOCUwQSUyMCUyMCUyMCUyMDIwMTglMkMlMjAlMjJBbiUyMEFnaWxlJTIwVHJhbnNpdGlvbiUyMFN0YXJ0aW5nJTIwd2l0aCUyMFVzZXIlMjBTdG9yaWVzJTJDJTIwRG9EJTIwJTI2JTIzMzglM0IlMjBEb1IlMjIlMkMlMEElMjAlMjAlMjAlMjBkaXNwbGF5JTNEJTIyZGllYm9sZCUyMGIlMjIlMkMlMEElMjAlMjAlMjAlMjBhdXRob3JzJTNEJTIyRGllYm9sZCUyQyUyMFBoaWxpcHAlMjBhbmQlMjBUaGVvYmFsZCUyQyUyMFN2ZW4lMjBhbmQlMjBXYWhsJTJDJTIwSm9oYW5uZXMlMjBhbmQlMjBSYXVzY2glMkMlMjBZdmVzJTIyJTJDJTBBJTIwJTIwJTIwJTIwcGxhY2UlM0RGQUtFJTJDJTBBJTIwJTIwJTIwJTIwcHAlM0QlMjIxNDctLTE1NiUyMiUyQyUwQSUyMCUyMCUyMCUyMGVudHJ5dHlwZSUzRCUyMmlucHJvY2VlZGluZ3MlMjIlMkMlMEElMjAlMjAlMjAlMjBzZXJpZXMlM0QlMjJJQ1NTUCUyMCUyNzE4JTIyJTJDJTBBJTIwJTIwJTIwJTIwaXNibiUzRCUyMjk3OC0xLTQ1MDMtNjQ1OS0xJTIyJTJDJTBBJTIwJTIwJTIwJTIwbG9jYXRpb24lM0QlMjJHb3RoZW5idXJnJTJDJTIwU3dlZGVuJTIyJTJDJTBBJTIwJTIwJTIwJTIwbnVtcGFnZXMlM0QlMjIxMCUyMiUyQyUwQSUyMCUyMCUyMCUyMGxpbmslM0QlMjJodHRwJTNBLy9kb2kuYWNtLm9yZy8xMC4xMTQ1LzMyMDI3MTAuMzIwMzE0NSUyMiUyQyUwQSUyMCUyMCUyMCUyMGRvaSUzRCUyMjEwLjExNDUvMzIwMjcxMC4zMjAzMTQ1JTIyJTJDJTBBJTIwJTIwJTIwJTIwYWNtaWQlM0QlMjIzMjAzMTQ1JTIyJTJDJTBBJTIwJTIwJTIwJTIwcHVibGlzaGVyJTNEJTIyQUNNJTIyJTJDJTBBJTIwJTIwJTIwJTIwYWRkcmVzcyUzRCUyMk5ldyUyMFlvcmslMkMlMjBOWSUyQyUyMFVTQSUyMiUyQyUwQSUyMCUyMCUyMCUyMGtleXdvcmQlM0QlMjJBZ2lsZSUyMGRldmVsb3BtZW50JTJDJTIwQWdpbGUlMjBwcmFjdGljZXMlMkMlMjBBZ2lsZSUyMHRyYW5zaXRpb24lMkMlMjBTTUUlMkMlMjBTY3J1bSUyQyUyMGNhc2UlMjBzdHVkeSUyQyUyMGRlZmluaXRpb24lMjBvZiUyMGRvbmUlMkMlMjBkZWZpbml0aW9uJTIwb2YlMjByZWFkeSUyQyUyMHByb2Nlc3MlMjBpbXByb3ZlbWVudCUyQyUyMHVzZXIlMjBzdG9yaWVzJTIyJTJDJTBBJTIwJTIwJTIwJTIwSUQlM0QlMjJEaWVib2xkJTNBMjAxOCUzQUFUUyUzQTMyMDI3MTAuMzIwMzE0NSUyMiUyQyUwQSUyMCUyMCUyMCUyMGFjbTIwMTYlM0QlMjIxJTIyJTJDJTBBJTIwJTIwJTIwJTIwcGxhY2V4JTNEJTIyUHJvY2VlZGluZ3MlMjBvZiUyMHRoZSUyMDIwMTglMjBJbnRlcm5hdGlvbmFsJTIwQ29uZmVyZW5jZSUyMG9uJTIwU29mdHdhcmUlMjBhbmQlMjBTeXN0ZW0lMjBQcm9jZXNzJTIyJTJDJTBBJTI5JTI5JTBBJTI3JTI3JTI3JTI5JTNC\")));\n",
       "    "
      ],
      "text/plain": [
       "<IPython.core.display.Javascript object>"
      ]
     },
     "metadata": {},
     "output_type": "display_data"
    },
    {
     "data": {
      "application/javascript": [
       "$('span:contains(\"# Temp\")').closest('.cell').remove();"
      ],
      "text/plain": [
       "<IPython.core.display.Javascript object>"
      ]
     },
     "metadata": {},
     "output_type": "display_data"
    },
    {
     "data": {
      "application/javascript": [
       "\n",
       "        $('span:contains(\"# Temp\")').closest('.cell').remove();\n",
       "        var code = IPython.notebook.insert_cell_below('code');\n",
       "        var prompt = code.element.find(\".input_prompt\");\n",
       "        prompt.append('<br><button style=\"height: 100%; width: 54px;\">Run</button>');\n",
       "        prompt.on(\"click\", \"button\", function(){\n",
       "            code.execute();\n",
       "        });\n",
       "        code.set_text(decodeURIComponent(window.atob(\"JTIzJTIwVGVtcCUwQWluc2VydCUyOCUyNyUyNyUyNyUyNyUyNyUyNyUyOSUzQiUwQXNldF9hdHRyaWJ1dGUlMjglMjdzaWx2YTIwMTdhJTI3JTJDJTIwJTI3c2VyaWVzJTI3JTJDJTIwJTI3RUFTRSUyNzE3JTI3JTI5JTNCJTBBc2V0X2F0dHJpYnV0ZSUyOCUyN3NpbHZhMjAxN2ElMjclMkMlMjAlMjdpc2JuJTI3JTJDJTIwJTI3OTc4LTEtNDUwMy00ODA0LTElMjclMjklM0IlMEFzZXRfYXR0cmlidXRlJTI4JTI3c2lsdmEyMDE3YSUyNyUyQyUyMCUyN2xvY2F0aW9uJTI3JTJDJTIwJTI3S2FybHNrcm9uYSUyQyUyMFN3ZWRlbiUyNyUyOSUzQiUwQXNldF9hdHRyaWJ1dGUlMjglMjdzaWx2YTIwMTdhJTI3JTJDJTIwJTI3bnVtcGFnZXMlMjclMkMlMjAlMjcxMCUyNyUyOSUzQiUwQXNldF9hdHRyaWJ1dGUlMjglMjdzaWx2YTIwMTdhJTI3JTJDJTIwJTI3bGluayUyNyUyQyUyMCUyN2h0dHAlM0EvL2RvaS5hY20ub3JnLzEwLjExNDUvMzA4NDIyNi4zMDg0MjYyJTI3JTI5JTNCJTBBc2V0X2F0dHJpYnV0ZSUyOCUyN3NpbHZhMjAxN2ElMjclMkMlMjAlMjdkb2klMjclMkMlMjAlMjcxMC4xMTQ1LzMwODQyMjYuMzA4NDI2MiUyNyUyOSUzQiUwQXNldF9hdHRyaWJ1dGUlMjglMjdzaWx2YTIwMTdhJTI3JTJDJTIwJTI3YWNtaWQlMjclMkMlMjAlMjczMDg0MjYyJTI3JTI5JTNCJTBBc2V0X2F0dHJpYnV0ZSUyOCUyN3NpbHZhMjAxN2ElMjclMkMlMjAlMjdwdWJsaXNoZXIlMjclMkMlMjAlMjdBQ00lMjclMjklM0IlMEFzZXRfYXR0cmlidXRlJTI4JTI3c2lsdmEyMDE3YSUyNyUyQyUyMCUyN2FkZHJlc3MlMjclMkMlMjAlMjdOZXclMjBZb3JrJTJDJTIwTlklMkMlMjBVU0ElMjclMjklM0IlMEFzZXRfYXR0cmlidXRlJTI4JTI3c2lsdmEyMDE3YSUyNyUyQyUyMCUyN2tleXdvcmQlMjclMkMlMjAlMjdBZ2lsZSUyMFNvZnR3YXJlJTIwRGV2ZWxvcG1lbnQlMkMlMjBEZWZpbml0aW9uJTIwb2YlMjBEb25lJTJDJTIwU3lzdGVtYXRpYyUyMExpdGVyYXR1cmUlMjBSZXZpZXclMjclMjklM0IlMEFzZXRfYXR0cmlidXRlJTI4JTI3c2lsdmEyMDE3YSUyNyUyQyUyMCUyN2FjbTIwMTYlMjclMkMlMjAlMjcxJTI3JTI5JTNC\")));\n",
       "    "
      ],
      "text/plain": [
       "<IPython.core.display.Javascript object>"
      ]
     },
     "metadata": {},
     "output_type": "display_data"
    },
    {
     "data": {
      "application/javascript": [
       "$('span:contains(\"# Temp\")').closest('.cell').remove();"
      ],
      "text/plain": [
       "<IPython.core.display.Javascript object>"
      ]
     },
     "metadata": {},
     "output_type": "display_data"
    },
    {
     "data": {
      "application/javascript": [
       "\n",
       "        $('span:contains(\"# Temp\")').closest('.cell').remove();\n",
       "        var code = IPython.notebook.insert_cell_below('code');\n",
       "        var prompt = code.element.find(\".input_prompt\");\n",
       "        prompt.append('<br><button style=\"height: 100%; width: 54px;\">Run</button>');\n",
       "        prompt.on(\"click\", \"button\", function(){\n",
       "            code.execute();\n",
       "        });\n",
       "        code.set_text(decodeURIComponent(window.atob(\"JTIzJTIwVGVtcCUwQWluc2VydCUyOCUyNyUyNyUyNyUyNyUyNyUyNyUyOSUzQiUwQXNldF9hdHRyaWJ1dGUlMjglMjdzaWx2YTIwMTdhJTI3JTJDJTIwJTI3c2VyaWVzJTI3JTJDJTIwJTI3RUFTRSUyNzE3JTI3JTI5JTNCJTBBc2V0X2F0dHJpYnV0ZSUyOCUyN3NpbHZhMjAxN2ElMjclMkMlMjAlMjdpc2JuJTI3JTJDJTIwJTI3OTc4LTEtNDUwMy00ODA0LTElMjclMjklM0IlMEFzZXRfYXR0cmlidXRlJTI4JTI3c2lsdmEyMDE3YSUyNyUyQyUyMCUyN2xvY2F0aW9uJTI3JTJDJTIwJTI3S2FybHNrcm9uYSUyQyUyMFN3ZWRlbiUyNyUyOSUzQiUwQXNldF9hdHRyaWJ1dGUlMjglMjdzaWx2YTIwMTdhJTI3JTJDJTIwJTI3bnVtcGFnZXMlMjclMkMlMjAlMjcxMCUyNyUyOSUzQiUwQXNldF9hdHRyaWJ1dGUlMjglMjdzaWx2YTIwMTdhJTI3JTJDJTIwJTI3bGluayUyNyUyQyUyMCUyN2h0dHAlM0EvL2RvaS5hY20ub3JnLzEwLjExNDUvMzA4NDIyNi4zMDg0MjYyJTI3JTI5JTNCJTBBc2V0X2F0dHJpYnV0ZSUyOCUyN3NpbHZhMjAxN2ElMjclMkMlMjAlMjdkb2klMjclMkMlMjAlMjcxMC4xMTQ1LzMwODQyMjYuMzA4NDI2MiUyNyUyOSUzQiUwQXNldF9hdHRyaWJ1dGUlMjglMjdzaWx2YTIwMTdhJTI3JTJDJTIwJTI3YWNtaWQlMjclMkMlMjAlMjczMDg0MjYyJTI3JTI5JTNCJTBBc2V0X2F0dHJpYnV0ZSUyOCUyN3NpbHZhMjAxN2ElMjclMkMlMjAlMjdwdWJsaXNoZXIlMjclMkMlMjAlMjdBQ00lMjclMjklM0IlMEFzZXRfYXR0cmlidXRlJTI4JTI3c2lsdmEyMDE3YSUyNyUyQyUyMCUyN2FkZHJlc3MlMjclMkMlMjAlMjdOZXclMjBZb3JrJTJDJTIwTlklMkMlMjBVU0ElMjclMjklM0IlMEFzZXRfYXR0cmlidXRlJTI4JTI3c2lsdmEyMDE3YSUyNyUyQyUyMCUyN2tleXdvcmQlMjclMkMlMjAlMjdBZ2lsZSUyMFNvZnR3YXJlJTIwRGV2ZWxvcG1lbnQlMkMlMjBEZWZpbml0aW9uJTIwb2YlMjBEb25lJTJDJTIwU3lzdGVtYXRpYyUyMExpdGVyYXR1cmUlMjBSZXZpZXclMjclMjklM0IlMEFzZXRfYXR0cmlidXRlJTI4JTI3c2lsdmEyMDE3YSUyNyUyQyUyMCUyN2FjbTIwMTYlMjclMkMlMjAlMjcxJTI3JTI5JTNC\")));\n",
       "    "
      ],
      "text/plain": [
       "<IPython.core.display.Javascript object>"
      ]
     },
     "metadata": {},
     "output_type": "display_data"
    },
    {
     "data": {
      "application/javascript": [
       "$('span:contains(\"# Temp\")').closest('.cell').remove();"
      ],
      "text/plain": [
       "<IPython.core.display.Javascript object>"
      ]
     },
     "metadata": {},
     "output_type": "display_data"
    },
    {
     "data": {
      "application/javascript": [
       "\n",
       "        $('span:contains(\"# Temp\")').closest('.cell').remove();\n",
       "        var code = IPython.notebook.insert_cell_below('code');\n",
       "        var prompt = code.element.find(\".input_prompt\");\n",
       "        prompt.append('<br><button style=\"height: 100%; width: 54px;\">Run</button>');\n",
       "        prompt.on(\"click\", \"button\", function(){\n",
       "            code.execute();\n",
       "        });\n",
       "        code.set_text(decodeURIComponent(window.atob(\"JTIzJTIwVGVtcCUwQWluc2VydCUyOCUyNyUyNyUyNyUwQW8yMDEwYSUyMCUzRCUyMERCJTI4V29ya1VucmVsYXRlZCUyOCUwQSUyMCUyMCUyMCUyMDIwMTAlMkMlMjAlMjJCZXR0ZXIlMjBQbGFubmluZyUyMHZpYSUyMFRhc2tpbmclMjBBcyUyMGElMjBUZWFtJTIyJTJDJTBBJTIwJTIwJTIwJTIwZGlzcGxheSUzRCUyMm8lMjIlMkMlMEElMjAlMjAlMjAlMjBhdXRob3JzJTNEJTIyTyUyN0Nvbm5vciUyQyUyMENocmlzdG9waGVyJTIwUC4lMjIlMkMlMEElMjAlMjAlMjAlMjBwbGFjZSUzREZBS0UlMkMlMEElMjAlMjAlMjAlMjBwcCUzRCUyMjMwNS0tMzA2JTIyJTJDJTBBJTIwJTIwJTIwJTIwZW50cnl0eXBlJTNEJTIyaW5wcm9jZWVkaW5ncyUyMiUyQyUwQSUyMCUyMCUyMCUyMHNlcmllcyUzRCUyMk9PUFNMQSUyMCUyNzEwJTIyJTJDJTBBJTIwJTIwJTIwJTIwaXNibiUzRCUyMjk3OC0xLTQ1MDMtMDI0MC0xJTIyJTJDJTBBJTIwJTIwJTIwJTIwbG9jYXRpb24lM0QlMjJSZW5vL1RhaG9lJTJDJTIwTmV2YWRhJTJDJTIwVVNBJTIyJTJDJTBBJTIwJTIwJTIwJTIwbnVtcGFnZXMlM0QlMjIyJTIyJTJDJTBBJTIwJTIwJTIwJTIwbGluayUzRCUyMmh0dHAlM0EvL2RvaS5hY20ub3JnLzEwLjExNDUvMTg2OTU0Mi4xODY5NjI0JTIyJTJDJTBBJTIwJTIwJTIwJTIwZG9pJTNEJTIyMTAuMTE0NS8xODY5NTQyLjE4Njk2MjQlMjIlMkMlMEElMjAlMjAlMjAlMjBhY21pZCUzRCUyMjE4Njk2MjQlMjIlMkMlMEElMjAlMjAlMjAlMjBwdWJsaXNoZXIlM0QlMjJBQ00lMjIlMkMlMEElMjAlMjAlMjAlMjBhZGRyZXNzJTNEJTIyTmV3JTIwWW9yayUyQyUyME5ZJTJDJTIwVVNBJTIyJTJDJTBBJTIwJTIwJTIwJTIwa2V5d29yZCUzRCUyMlhQJTJDJTIwYWdpbGUlMjBkZXZlbG9wbWVudCUyQyUyMGFnaWxlJTIwdGVhbXMlMkMlMjBlc3RpbWF0aW9uJTJDJTIwcGxhbm5pbmclMkMlMjBzY3J1bSUyQyUyMHN0b3J5JTIwZGV2ZWxvcG1lbnQlMjIlMkMlMEElMjAlMjAlMjAlMjBJRCUzRCUyMk8lMjdDb25ub3IlM0EyMDEwJTNBQlBWJTNBMTg2OTU0Mi4xODY5NjI0JTIyJTJDJTBBJTIwJTIwJTIwJTIwYWNtMjAxNiUzRCUyMjElMjIlMkMlMEElMjAlMjAlMjAlMjBwbGFjZXglM0QlMjJQcm9jZWVkaW5ncyUyMG9mJTIwdGhlJTIwQUNNJTIwSW50ZXJuYXRpb25hbCUyMENvbmZlcmVuY2UlMjBDb21wYW5pb24lMjBvbiUyME9iamVjdCUyME9yaWVudGVkJTIwUHJvZ3JhbW1pbmclMjBTeXN0ZW1zJTIwTGFuZ3VhZ2VzJTIwYW5kJTIwQXBwbGljYXRpb25zJTIwQ29tcGFuaW9uJTIyJTJDJTBBJTI5JTI5JTBBJTI3JTI3JTI3JTI5JTNC\")));\n",
       "    "
      ],
      "text/plain": [
       "<IPython.core.display.Javascript object>"
      ]
     },
     "metadata": {},
     "output_type": "display_data"
    },
    {
     "data": {
      "application/javascript": [
       "$('span:contains(\"# Temp\")').closest('.cell').remove();"
      ],
      "text/plain": [
       "<IPython.core.display.Javascript object>"
      ]
     },
     "metadata": {},
     "output_type": "display_data"
    },
    {
     "data": {
      "application/javascript": [
       "\n",
       "        $('span:contains(\"# Temp\")').closest('.cell').remove();\n",
       "        var code = IPython.notebook.insert_cell_below('code');\n",
       "        var prompt = code.element.find(\".input_prompt\");\n",
       "        prompt.append('<br><button style=\"height: 100%; width: 54px;\">Run</button>');\n",
       "        prompt.on(\"click\", \"button\", function(){\n",
       "            code.execute();\n",
       "        });\n",
       "        code.set_text(decodeURIComponent(window.atob(\"JTIzJTIwVGVtcCUwQWluc2VydCUyOCUyNyUyNyUyNyUwQW8yMDEwYSUyMCUzRCUyMERCJTI4V29ya1VucmVsYXRlZCUyOCUwQSUyMCUyMCUyMCUyMDIwMTAlMkMlMjAlMjJCZXR0ZXIlMjBQbGFubmluZyUyMHZpYSUyMFRhc2tpbmclMjBBcyUyMGElMjBUZWFtJTIyJTJDJTBBJTIwJTIwJTIwJTIwZGlzcGxheSUzRCUyMm8lMjIlMkMlMEElMjAlMjAlMjAlMjBhdXRob3JzJTNEJTIyTyUyN0Nvbm5vciUyQyUyMENocmlzdG9waGVyJTIwUC4lMjIlMkMlMEElMjAlMjAlMjAlMjBwbGFjZSUzREZBS0UlMkMlMEElMjAlMjAlMjAlMjBwcCUzRCUyMjMwNS0tMzA2JTIyJTJDJTBBJTIwJTIwJTIwJTIwZW50cnl0eXBlJTNEJTIyaW5wcm9jZWVkaW5ncyUyMiUyQyUwQSUyMCUyMCUyMCUyMHNlcmllcyUzRCUyMk9PUFNMQSUyMCUyNzEwJTIyJTJDJTBBJTIwJTIwJTIwJTIwaXNibiUzRCUyMjk3OC0xLTQ1MDMtMDI0MC0xJTIyJTJDJTBBJTIwJTIwJTIwJTIwbG9jYXRpb24lM0QlMjJSZW5vL1RhaG9lJTJDJTIwTmV2YWRhJTJDJTIwVVNBJTIyJTJDJTBBJTIwJTIwJTIwJTIwbnVtcGFnZXMlM0QlMjIyJTIyJTJDJTBBJTIwJTIwJTIwJTIwbGluayUzRCUyMmh0dHAlM0EvL2RvaS5hY20ub3JnLzEwLjExNDUvMTg2OTU0Mi4xODY5NjI0JTIyJTJDJTBBJTIwJTIwJTIwJTIwZG9pJTNEJTIyMTAuMTE0NS8xODY5NTQyLjE4Njk2MjQlMjIlMkMlMEElMjAlMjAlMjAlMjBhY21pZCUzRCUyMjE4Njk2MjQlMjIlMkMlMEElMjAlMjAlMjAlMjBwdWJsaXNoZXIlM0QlMjJBQ00lMjIlMkMlMEElMjAlMjAlMjAlMjBhZGRyZXNzJTNEJTIyTmV3JTIwWW9yayUyQyUyME5ZJTJDJTIwVVNBJTIyJTJDJTBBJTIwJTIwJTIwJTIwa2V5d29yZCUzRCUyMlhQJTJDJTIwYWdpbGUlMjBkZXZlbG9wbWVudCUyQyUyMGFnaWxlJTIwdGVhbXMlMkMlMjBlc3RpbWF0aW9uJTJDJTIwcGxhbm5pbmclMkMlMjBzY3J1bSUyQyUyMHN0b3J5JTIwZGV2ZWxvcG1lbnQlMjIlMkMlMEElMjAlMjAlMjAlMjBJRCUzRCUyMk8lMjdDb25ub3IlM0EyMDEwJTNBQlBWJTNBMTg2OTU0Mi4xODY5NjI0JTIyJTJDJTBBJTIwJTIwJTIwJTIwYWNtMjAxNiUzRCUyMjElMjIlMkMlMEElMjAlMjAlMjAlMjBwbGFjZXglM0QlMjJQcm9jZWVkaW5ncyUyMG9mJTIwdGhlJTIwQUNNJTIwSW50ZXJuYXRpb25hbCUyMENvbmZlcmVuY2UlMjBDb21wYW5pb24lMjBvbiUyME9iamVjdCUyME9yaWVudGVkJTIwUHJvZ3JhbW1pbmclMjBTeXN0ZW1zJTIwTGFuZ3VhZ2VzJTIwYW5kJTIwQXBwbGljYXRpb25zJTIwQ29tcGFuaW9uJTIyJTJDJTBBJTI5JTI5JTBBJTI3JTI3JTI3JTI5JTNC\")));\n",
       "    "
      ],
      "text/plain": [
       "<IPython.core.display.Javascript object>"
      ]
     },
     "metadata": {},
     "output_type": "display_data"
    },
    {
     "data": {
      "application/javascript": [
       "$('span:contains(\"# Temp\")').closest('.cell').remove();"
      ],
      "text/plain": [
       "<IPython.core.display.Javascript object>"
      ]
     },
     "metadata": {},
     "output_type": "display_data"
    },
    {
     "data": {
      "application/javascript": [
       "\n",
       "        $('span:contains(\"# Temp\")').closest('.cell').remove();\n",
       "        var code = IPython.notebook.insert_cell_below('code');\n",
       "        var prompt = code.element.find(\".input_prompt\");\n",
       "        prompt.append('<br><button style=\"height: 100%; width: 54px;\">Run</button>');\n",
       "        prompt.on(\"click\", \"button\", function(){\n",
       "            code.execute();\n",
       "        });\n",
       "        code.set_text(decodeURIComponent(window.atob(\"JTIzJTIwVGVtcCUwQWluc2VydCUyOCUyNyUyNyUyNyUyNyUyNyUyNyUyOSUzQiUwQXNldF9hdHRyaWJ1dGUlMjglMjdiYXNzMjAxOGIlMjclMkMlMjAlMjdwcCUyNyUyQyUyMCUyNzEyMy0tMTI0JTI3JTI5JTNCJTBBc2V0X2F0dHJpYnV0ZSUyOCUyN2Jhc3MyMDE4YiUyNyUyQyUyMCUyN3NlcmllcyUyNyUyQyUyMCUyN0lDU0UlMjAlMjcxOCUyNyUyOSUzQiUwQXNldF9hdHRyaWJ1dGUlMjglMjdiYXNzMjAxOGIlMjclMkMlMjAlMjdpc2JuJTI3JTJDJTIwJTI3OTc4LTEtNDUwMy01NjYzLTMlMjclMjklM0IlMEFzZXRfYXR0cmlidXRlJTI4JTI3YmFzczIwMThiJTI3JTJDJTIwJTI3bG9jYXRpb24lMjclMkMlMjAlMjdHb3RoZW5idXJnJTJDJTIwU3dlZGVuJTI3JTI5JTNCJTBBc2V0X2F0dHJpYnV0ZSUyOCUyN2Jhc3MyMDE4YiUyNyUyQyUyMCUyN251bXBhZ2VzJTI3JTJDJTIwJTI3MiUyNyUyOSUzQiUwQXNldF9hdHRyaWJ1dGUlMjglMjdiYXNzMjAxOGIlMjclMkMlMjAlMjdsaW5rJTI3JTJDJTIwJTI3aHR0cCUzQS8vZG9pLmFjbS5vcmcvMTAuMTE0NS8zMTgzNDQwLjMxOTUwNjYlMjclMjklM0IlMEFzZXRfYXR0cmlidXRlJTI4JTI3YmFzczIwMThiJTI3JTJDJTIwJTI3ZG9pJTI3JTJDJTIwJTI3MTAuMTE0NS8zMTgzNDQwLjMxOTUwNjYlMjclMjklM0IlMEFzZXRfYXR0cmlidXRlJTI4JTI3YmFzczIwMThiJTI3JTJDJTIwJTI3YWNtaWQlMjclMkMlMjAlMjczMTk1MDY2JTI3JTI5JTNCJTBBc2V0X2F0dHJpYnV0ZSUyOCUyN2Jhc3MyMDE4YiUyNyUyQyUyMCUyN3B1Ymxpc2hlciUyNyUyQyUyMCUyN0FDTSUyNyUyOSUzQiUwQXNldF9hdHRyaWJ1dGUlMjglMjdiYXNzMjAxOGIlMjclMkMlMjAlMjdhZGRyZXNzJTI3JTJDJTIwJTI3TmV3JTIwWW9yayUyQyUyME5ZJTJDJTIwVVNBJTI3JTI5JTNCJTBBc2V0X2F0dHJpYnV0ZSUyOCUyN2Jhc3MyMDE4YiUyNyUyQyUyMCUyN2tleXdvcmQlMjclMkMlMjAlMjdTTUUlMkMlMjBhZ2lsZSUyMHNvZnR3YXJlJTIwZGV2ZWxvcG1lbnQlMkMlMjBnbG9iYWwlMjBzb2Z0d2FyZSUyMGRldmVsb3BtZW50JTJDJTIwaW50ZXItdGVhbSUyMGNvb3JkaW5hdGlvbiUyQyUyMHByb2R1Y3QlMjBvd25lciUyMHJvbGUlMkMlMjBzY3J1bSUyNyUyOSUzQiUwQXNldF9hdHRyaWJ1dGUlMjglMjdiYXNzMjAxOGIlMjclMkMlMjAlMjdhY20yMDE2JTI3JTJDJTIwJTI3MSUyNyUyOSUzQg==\")));\n",
       "    "
      ],
      "text/plain": [
       "<IPython.core.display.Javascript object>"
      ]
     },
     "metadata": {},
     "output_type": "display_data"
    },
    {
     "data": {
      "application/javascript": [
       "$('span:contains(\"# Temp\")').closest('.cell').remove();"
      ],
      "text/plain": [
       "<IPython.core.display.Javascript object>"
      ]
     },
     "metadata": {},
     "output_type": "display_data"
    },
    {
     "data": {
      "application/javascript": [
       "\n",
       "        $('span:contains(\"# Temp\")').closest('.cell').remove();\n",
       "        var code = IPython.notebook.insert_cell_below('code');\n",
       "        var prompt = code.element.find(\".input_prompt\");\n",
       "        prompt.append('<br><button style=\"height: 100%; width: 54px;\">Run</button>');\n",
       "        prompt.on(\"click\", \"button\", function(){\n",
       "            code.execute();\n",
       "        });\n",
       "        code.set_text(decodeURIComponent(window.atob(\"JTIzJTIwVGVtcCUwQWluc2VydCUyOCUyNyUyNyUyNyUyNyUyNyUyNyUyOSUzQiUwQXNldF9hdHRyaWJ1dGUlMjglMjdiYXNzMjAxOGIlMjclMkMlMjAlMjdwcCUyNyUyQyUyMCUyNzEyMy0tMTI0JTI3JTI5JTNCJTBBc2V0X2F0dHJpYnV0ZSUyOCUyN2Jhc3MyMDE4YiUyNyUyQyUyMCUyN3NlcmllcyUyNyUyQyUyMCUyN0lDU0UlMjAlMjcxOCUyNyUyOSUzQiUwQXNldF9hdHRyaWJ1dGUlMjglMjdiYXNzMjAxOGIlMjclMkMlMjAlMjdpc2JuJTI3JTJDJTIwJTI3OTc4LTEtNDUwMy01NjYzLTMlMjclMjklM0IlMEFzZXRfYXR0cmlidXRlJTI4JTI3YmFzczIwMThiJTI3JTJDJTIwJTI3bG9jYXRpb24lMjclMkMlMjAlMjdHb3RoZW5idXJnJTJDJTIwU3dlZGVuJTI3JTI5JTNCJTBBc2V0X2F0dHJpYnV0ZSUyOCUyN2Jhc3MyMDE4YiUyNyUyQyUyMCUyN251bXBhZ2VzJTI3JTJDJTIwJTI3MiUyNyUyOSUzQiUwQXNldF9hdHRyaWJ1dGUlMjglMjdiYXNzMjAxOGIlMjclMkMlMjAlMjdsaW5rJTI3JTJDJTIwJTI3aHR0cCUzQS8vZG9pLmFjbS5vcmcvMTAuMTE0NS8zMTgzNDQwLjMxOTUwNjYlMjclMjklM0IlMEFzZXRfYXR0cmlidXRlJTI4JTI3YmFzczIwMThiJTI3JTJDJTIwJTI3ZG9pJTI3JTJDJTIwJTI3MTAuMTE0NS8zMTgzNDQwLjMxOTUwNjYlMjclMjklM0IlMEFzZXRfYXR0cmlidXRlJTI4JTI3YmFzczIwMThiJTI3JTJDJTIwJTI3YWNtaWQlMjclMkMlMjAlMjczMTk1MDY2JTI3JTI5JTNCJTBBc2V0X2F0dHJpYnV0ZSUyOCUyN2Jhc3MyMDE4YiUyNyUyQyUyMCUyN3B1Ymxpc2hlciUyNyUyQyUyMCUyN0FDTSUyNyUyOSUzQiUwQXNldF9hdHRyaWJ1dGUlMjglMjdiYXNzMjAxOGIlMjclMkMlMjAlMjdhZGRyZXNzJTI3JTJDJTIwJTI3TmV3JTIwWW9yayUyQyUyME5ZJTJDJTIwVVNBJTI3JTI5JTNCJTBBc2V0X2F0dHJpYnV0ZSUyOCUyN2Jhc3MyMDE4YiUyNyUyQyUyMCUyN2tleXdvcmQlMjclMkMlMjAlMjdTTUUlMkMlMjBhZ2lsZSUyMHNvZnR3YXJlJTIwZGV2ZWxvcG1lbnQlMkMlMjBnbG9iYWwlMjBzb2Z0d2FyZSUyMGRldmVsb3BtZW50JTJDJTIwaW50ZXItdGVhbSUyMGNvb3JkaW5hdGlvbiUyQyUyMHByb2R1Y3QlMjBvd25lciUyMHJvbGUlMkMlMjBzY3J1bSUyNyUyOSUzQiUwQXNldF9hdHRyaWJ1dGUlMjglMjdiYXNzMjAxOGIlMjclMkMlMjAlMjdhY20yMDE2JTI3JTJDJTIwJTI3MSUyNyUyOSUzQg==\")));\n",
       "    "
      ],
      "text/plain": [
       "<IPython.core.display.Javascript object>"
      ]
     },
     "metadata": {},
     "output_type": "display_data"
    },
    {
     "data": {
      "application/javascript": [
       "$('span:contains(\"# Temp\")').closest('.cell').remove();"
      ],
      "text/plain": [
       "<IPython.core.display.Javascript object>"
      ]
     },
     "metadata": {},
     "output_type": "display_data"
    },
    {
     "data": {
      "application/javascript": [
       "\n",
       "        $('span:contains(\"# Temp\")').closest('.cell').remove();\n",
       "        var code = IPython.notebook.insert_cell_below('code');\n",
       "        var prompt = code.element.find(\".input_prompt\");\n",
       "        prompt.append('<br><button style=\"height: 100%; width: 54px;\">Run</button>');\n",
       "        prompt.on(\"click\", \"button\", function(){\n",
       "            code.execute();\n",
       "        });\n",
       "        code.set_text(decodeURIComponent(window.atob(\"JTIzJTIwVGVtcCUwQWluc2VydCUyOCUyNyUyNyUyNyUyNyUyNyUyNyUyOSUzQiUwQXNldF9hdHRyaWJ1dGUlMjglMjdiZW5lZGljZW50aTIwMTZhJTI3JTJDJTIwJTI3c2VyaWVzJTI3JTJDJTIwJTI3SUNTRSUyMCUyNzE2JTI3JTI5JTNCJTBBc2V0X2F0dHJpYnV0ZSUyOCUyN2JlbmVkaWNlbnRpMjAxNmElMjclMkMlMjAlMjdpc2JuJTI3JTJDJTIwJTI3OTc4LTEtNDUwMy00MjA1LTYlMjclMjklM0IlMEFzZXRfYXR0cmlidXRlJTI4JTI3YmVuZWRpY2VudGkyMDE2YSUyNyUyQyUyMCUyN2xvY2F0aW9uJTI3JTJDJTIwJTI3QXVzdGluJTJDJTIwVGV4YXMlMjclMjklM0IlMEFzZXRfYXR0cmlidXRlJTI4JTI3YmVuZWRpY2VudGkyMDE2YSUyNyUyQyUyMCUyN251bXBhZ2VzJTI3JTJDJTIwJTI3MyUyNyUyOSUzQiUwQXNldF9hdHRyaWJ1dGUlMjglMjdiZW5lZGljZW50aTIwMTZhJTI3JTJDJTIwJTI3YWNtaWQlMjclMkMlMjAlMjcyODkyNjUyJTI3JTI5JTNCJTBBc2V0X2F0dHJpYnV0ZSUyOCUyN2JlbmVkaWNlbnRpMjAxNmElMjclMkMlMjAlMjdwdWJsaXNoZXIlMjclMkMlMjAlMjdBQ00lMjclMjklM0I=\")));\n",
       "    "
      ],
      "text/plain": [
       "<IPython.core.display.Javascript object>"
      ]
     },
     "metadata": {},
     "output_type": "display_data"
    },
    {
     "data": {
      "application/javascript": [
       "$('span:contains(\"# Temp\")').closest('.cell').remove();"
      ],
      "text/plain": [
       "<IPython.core.display.Javascript object>"
      ]
     },
     "metadata": {},
     "output_type": "display_data"
    },
    {
     "data": {
      "application/javascript": [
       "\n",
       "        $('span:contains(\"# Temp\")').closest('.cell').remove();\n",
       "        var code = IPython.notebook.insert_cell_below('code');\n",
       "        var prompt = code.element.find(\".input_prompt\");\n",
       "        prompt.append('<br><button style=\"height: 100%; width: 54px;\">Run</button>');\n",
       "        prompt.on(\"click\", \"button\", function(){\n",
       "            code.execute();\n",
       "        });\n",
       "        code.set_text(decodeURIComponent(window.atob(\"JTIzJTIwVGVtcCUwQWluc2VydCUyOCUyNyUyNyUyNyUyNyUyNyUyNyUyOSUzQiUwQXNldF9hdHRyaWJ1dGUlMjglMjdiZW5lZGljZW50aTIwMTZhJTI3JTJDJTIwJTI3c2VyaWVzJTI3JTJDJTIwJTI3SUNTRSUyMCUyNzE2JTI3JTI5JTNCJTBBc2V0X2F0dHJpYnV0ZSUyOCUyN2JlbmVkaWNlbnRpMjAxNmElMjclMkMlMjAlMjdpc2JuJTI3JTJDJTIwJTI3OTc4LTEtNDUwMy00MjA1LTYlMjclMjklM0IlMEFzZXRfYXR0cmlidXRlJTI4JTI3YmVuZWRpY2VudGkyMDE2YSUyNyUyQyUyMCUyN2xvY2F0aW9uJTI3JTJDJTIwJTI3QXVzdGluJTJDJTIwVGV4YXMlMjclMjklM0IlMEFzZXRfYXR0cmlidXRlJTI4JTI3YmVuZWRpY2VudGkyMDE2YSUyNyUyQyUyMCUyN251bXBhZ2VzJTI3JTJDJTIwJTI3MyUyNyUyOSUzQiUwQXNldF9hdHRyaWJ1dGUlMjglMjdiZW5lZGljZW50aTIwMTZhJTI3JTJDJTIwJTI3YWNtaWQlMjclMkMlMjAlMjcyODkyNjUyJTI3JTI5JTNCJTBBc2V0X2F0dHJpYnV0ZSUyOCUyN2JlbmVkaWNlbnRpMjAxNmElMjclMkMlMjAlMjdwdWJsaXNoZXIlMjclMkMlMjAlMjdBQ00lMjclMjklM0I=\")));\n",
       "    "
      ],
      "text/plain": [
       "<IPython.core.display.Javascript object>"
      ]
     },
     "metadata": {},
     "output_type": "display_data"
    },
    {
     "data": {
      "application/javascript": [
       "$('span:contains(\"# Temp\")').closest('.cell').remove();"
      ],
      "text/plain": [
       "<IPython.core.display.Javascript object>"
      ]
     },
     "metadata": {},
     "output_type": "display_data"
    },
    {
     "data": {
      "application/javascript": [
       "\n",
       "        $('span:contains(\"# Temp\")').closest('.cell').remove();\n",
       "        var code = IPython.notebook.insert_cell_below('code');\n",
       "        var prompt = code.element.find(\".input_prompt\");\n",
       "        prompt.append('<br><button style=\"height: 100%; width: 54px;\">Run</button>');\n",
       "        prompt.on(\"click\", \"button\", function(){\n",
       "            code.execute();\n",
       "        });\n",
       "        code.set_text(decodeURIComponent(window.atob(\"JTIzJTIwVGVtcCUwQWluc2VydCUyOCUyNyUyNyUyNyUyNyUyNyUyNyUyOSUzQiUwQXNldF9hdHRyaWJ1dGUlMjglMjdiYXNzMjAxOGIlMjclMkMlMjAlMjdwcCUyNyUyQyUyMCUyNzEyMy0tMTI0JTI3JTI5JTNCJTBBc2V0X2F0dHJpYnV0ZSUyOCUyN2Jhc3MyMDE4YiUyNyUyQyUyMCUyN3NlcmllcyUyNyUyQyUyMCUyN0lDU0UlMjAlMjcxOCUyNyUyOSUzQiUwQXNldF9hdHRyaWJ1dGUlMjglMjdiYXNzMjAxOGIlMjclMkMlMjAlMjdpc2JuJTI3JTJDJTIwJTI3OTc4LTEtNDUwMy01NjYzLTMlMjclMjklM0IlMEFzZXRfYXR0cmlidXRlJTI4JTI3YmFzczIwMThiJTI3JTJDJTIwJTI3bG9jYXRpb24lMjclMkMlMjAlMjdHb3RoZW5idXJnJTJDJTIwU3dlZGVuJTI3JTI5JTNCJTBBc2V0X2F0dHJpYnV0ZSUyOCUyN2Jhc3MyMDE4YiUyNyUyQyUyMCUyN251bXBhZ2VzJTI3JTJDJTIwJTI3MiUyNyUyOSUzQiUwQXNldF9hdHRyaWJ1dGUlMjglMjdiYXNzMjAxOGIlMjclMkMlMjAlMjdsaW5rJTI3JTJDJTIwJTI3aHR0cCUzQS8vZG9pLmFjbS5vcmcvMTAuMTE0NS8zMTgzNDQwLjMxOTUwNjYlMjclMjklM0IlMEFzZXRfYXR0cmlidXRlJTI4JTI3YmFzczIwMThiJTI3JTJDJTIwJTI3ZG9pJTI3JTJDJTIwJTI3MTAuMTE0NS8zMTgzNDQwLjMxOTUwNjYlMjclMjklM0IlMEFzZXRfYXR0cmlidXRlJTI4JTI3YmFzczIwMThiJTI3JTJDJTIwJTI3YWNtaWQlMjclMkMlMjAlMjczMTk1MDY2JTI3JTI5JTNCJTBBc2V0X2F0dHJpYnV0ZSUyOCUyN2Jhc3MyMDE4YiUyNyUyQyUyMCUyN3B1Ymxpc2hlciUyNyUyQyUyMCUyN0FDTSUyNyUyOSUzQiUwQXNldF9hdHRyaWJ1dGUlMjglMjdiYXNzMjAxOGIlMjclMkMlMjAlMjdhZGRyZXNzJTI3JTJDJTIwJTI3TmV3JTIwWW9yayUyQyUyME5ZJTJDJTIwVVNBJTI3JTI5JTNCJTBBc2V0X2F0dHJpYnV0ZSUyOCUyN2Jhc3MyMDE4YiUyNyUyQyUyMCUyN2tleXdvcmQlMjclMkMlMjAlMjdTTUUlMkMlMjBhZ2lsZSUyMHNvZnR3YXJlJTIwZGV2ZWxvcG1lbnQlMkMlMjBnbG9iYWwlMjBzb2Z0d2FyZSUyMGRldmVsb3BtZW50JTJDJTIwaW50ZXItdGVhbSUyMGNvb3JkaW5hdGlvbiUyQyUyMHByb2R1Y3QlMjBvd25lciUyMHJvbGUlMkMlMjBzY3J1bSUyNyUyOSUzQiUwQXNldF9hdHRyaWJ1dGUlMjglMjdiYXNzMjAxOGIlMjclMkMlMjAlMjdhY20yMDE2JTI3JTJDJTIwJTI3MSUyNyUyOSUzQg==\")));\n",
       "    "
      ],
      "text/plain": [
       "<IPython.core.display.Javascript object>"
      ]
     },
     "metadata": {},
     "output_type": "display_data"
    },
    {
     "data": {
      "application/javascript": [
       "$('span:contains(\"# Temp\")').closest('.cell').remove();"
      ],
      "text/plain": [
       "<IPython.core.display.Javascript object>"
      ]
     },
     "metadata": {},
     "output_type": "display_data"
    },
    {
     "data": {
      "application/javascript": [
       "\n",
       "        $('span:contains(\"# Temp\")').closest('.cell').remove();\n",
       "        var code = IPython.notebook.insert_cell_below('code');\n",
       "        var prompt = code.element.find(\".input_prompt\");\n",
       "        prompt.append('<br><button style=\"height: 100%; width: 54px;\">Run</button>');\n",
       "        prompt.on(\"click\", \"button\", function(){\n",
       "            code.execute();\n",
       "        });\n",
       "        code.set_text(decodeURIComponent(window.atob(\"JTIzJTIwVGVtcCUwQWluc2VydCUyOCUyNyUyNyUyNyUyNyUyNyUyNyUyOSUzQiUwQXNldF9hdHRyaWJ1dGUlMjglMjdiYXNzMjAxOGIlMjclMkMlMjAlMjdwcCUyNyUyQyUyMCUyNzEyMy0tMTI0JTI3JTI5JTNCJTBBc2V0X2F0dHJpYnV0ZSUyOCUyN2Jhc3MyMDE4YiUyNyUyQyUyMCUyN3NlcmllcyUyNyUyQyUyMCUyN0lDU0UlMjAlMjcxOCUyNyUyOSUzQiUwQXNldF9hdHRyaWJ1dGUlMjglMjdiYXNzMjAxOGIlMjclMkMlMjAlMjdpc2JuJTI3JTJDJTIwJTI3OTc4LTEtNDUwMy01NjYzLTMlMjclMjklM0IlMEFzZXRfYXR0cmlidXRlJTI4JTI3YmFzczIwMThiJTI3JTJDJTIwJTI3bG9jYXRpb24lMjclMkMlMjAlMjdHb3RoZW5idXJnJTJDJTIwU3dlZGVuJTI3JTI5JTNCJTBBc2V0X2F0dHJpYnV0ZSUyOCUyN2Jhc3MyMDE4YiUyNyUyQyUyMCUyN251bXBhZ2VzJTI3JTJDJTIwJTI3MiUyNyUyOSUzQiUwQXNldF9hdHRyaWJ1dGUlMjglMjdiYXNzMjAxOGIlMjclMkMlMjAlMjdsaW5rJTI3JTJDJTIwJTI3aHR0cCUzQS8vZG9pLmFjbS5vcmcvMTAuMTE0NS8zMTgzNDQwLjMxOTUwNjYlMjclMjklM0IlMEFzZXRfYXR0cmlidXRlJTI4JTI3YmFzczIwMThiJTI3JTJDJTIwJTI3ZG9pJTI3JTJDJTIwJTI3MTAuMTE0NS8zMTgzNDQwLjMxOTUwNjYlMjclMjklM0IlMEFzZXRfYXR0cmlidXRlJTI4JTI3YmFzczIwMThiJTI3JTJDJTIwJTI3YWNtaWQlMjclMkMlMjAlMjczMTk1MDY2JTI3JTI5JTNCJTBBc2V0X2F0dHJpYnV0ZSUyOCUyN2Jhc3MyMDE4YiUyNyUyQyUyMCUyN3B1Ymxpc2hlciUyNyUyQyUyMCUyN0FDTSUyNyUyOSUzQiUwQXNldF9hdHRyaWJ1dGUlMjglMjdiYXNzMjAxOGIlMjclMkMlMjAlMjdhZGRyZXNzJTI3JTJDJTIwJTI3TmV3JTIwWW9yayUyQyUyME5ZJTJDJTIwVVNBJTI3JTI5JTNCJTBBc2V0X2F0dHJpYnV0ZSUyOCUyN2Jhc3MyMDE4YiUyNyUyQyUyMCUyN2tleXdvcmQlMjclMkMlMjAlMjdTTUUlMkMlMjBhZ2lsZSUyMHNvZnR3YXJlJTIwZGV2ZWxvcG1lbnQlMkMlMjBnbG9iYWwlMjBzb2Z0d2FyZSUyMGRldmVsb3BtZW50JTJDJTIwaW50ZXItdGVhbSUyMGNvb3JkaW5hdGlvbiUyQyUyMHByb2R1Y3QlMjBvd25lciUyMHJvbGUlMkMlMjBzY3J1bSUyNyUyOSUzQiUwQXNldF9hdHRyaWJ1dGUlMjglMjdiYXNzMjAxOGIlMjclMkMlMjAlMjdhY20yMDE2JTI3JTJDJTIwJTI3MSUyNyUyOSUzQg==\")));\n",
       "    "
      ],
      "text/plain": [
       "<IPython.core.display.Javascript object>"
      ]
     },
     "metadata": {},
     "output_type": "display_data"
    },
    {
     "data": {
      "application/javascript": [
       "$('span:contains(\"# Temp\")').closest('.cell').remove();"
      ],
      "text/plain": [
       "<IPython.core.display.Javascript object>"
      ]
     },
     "metadata": {},
     "output_type": "display_data"
    },
    {
     "data": {
      "application/javascript": [
       "\n",
       "        $('span:contains(\"# Temp\")').closest('.cell').remove();\n",
       "        var code = IPython.notebook.insert_cell_below('code');\n",
       "        var prompt = code.element.find(\".input_prompt\");\n",
       "        prompt.append('<br><button style=\"height: 100%; width: 54px;\">Run</button>');\n",
       "        prompt.on(\"click\", \"button\", function(){\n",
       "            code.execute();\n",
       "        });\n",
       "        code.set_text(decodeURIComponent(window.atob(\"JTIzJTIwVGVtcCUwQWluc2VydCUyOCUyNyUyNyUyNyUwQW8yMDEwYSUyMCUzRCUyMERCJTI4V29ya1VucmVsYXRlZCUyOCUwQSUyMCUyMCUyMCUyMDIwMTAlMkMlMjAlMjJCZXR0ZXIlMjBQbGFubmluZyUyMHZpYSUyMFRhc2tpbmclMjBBcyUyMGElMjBUZWFtJTIyJTJDJTBBJTIwJTIwJTIwJTIwZGlzcGxheSUzRCUyMm8lMjIlMkMlMEElMjAlMjAlMjAlMjBhdXRob3JzJTNEJTIyTyUyN0Nvbm5vciUyQyUyMENocmlzdG9waGVyJTIwUC4lMjIlMkMlMEElMjAlMjAlMjAlMjBwbGFjZSUzREZBS0UlMkMlMEElMjAlMjAlMjAlMjBwcCUzRCUyMjMwNS0tMzA2JTIyJTJDJTBBJTIwJTIwJTIwJTIwZW50cnl0eXBlJTNEJTIyaW5wcm9jZWVkaW5ncyUyMiUyQyUwQSUyMCUyMCUyMCUyMHNlcmllcyUzRCUyMk9PUFNMQSUyMCUyNzEwJTIyJTJDJTBBJTIwJTIwJTIwJTIwaXNibiUzRCUyMjk3OC0xLTQ1MDMtMDI0MC0xJTIyJTJDJTBBJTIwJTIwJTIwJTIwbG9jYXRpb24lM0QlMjJSZW5vL1RhaG9lJTJDJTIwTmV2YWRhJTJDJTIwVVNBJTIyJTJDJTBBJTIwJTIwJTIwJTIwbnVtcGFnZXMlM0QlMjIyJTIyJTJDJTBBJTIwJTIwJTIwJTIwbGluayUzRCUyMmh0dHAlM0EvL2RvaS5hY20ub3JnLzEwLjExNDUvMTg2OTU0Mi4xODY5NjI0JTIyJTJDJTBBJTIwJTIwJTIwJTIwZG9pJTNEJTIyMTAuMTE0NS8xODY5NTQyLjE4Njk2MjQlMjIlMkMlMEElMjAlMjAlMjAlMjBhY21pZCUzRCUyMjE4Njk2MjQlMjIlMkMlMEElMjAlMjAlMjAlMjBwdWJsaXNoZXIlM0QlMjJBQ00lMjIlMkMlMEElMjAlMjAlMjAlMjBhZGRyZXNzJTNEJTIyTmV3JTIwWW9yayUyQyUyME5ZJTJDJTIwVVNBJTIyJTJDJTBBJTIwJTIwJTIwJTIwa2V5d29yZCUzRCUyMlhQJTJDJTIwYWdpbGUlMjBkZXZlbG9wbWVudCUyQyUyMGFnaWxlJTIwdGVhbXMlMkMlMjBlc3RpbWF0aW9uJTJDJTIwcGxhbm5pbmclMkMlMjBzY3J1bSUyQyUyMHN0b3J5JTIwZGV2ZWxvcG1lbnQlMjIlMkMlMEElMjAlMjAlMjAlMjBJRCUzRCUyMk8lMjdDb25ub3IlM0EyMDEwJTNBQlBWJTNBMTg2OTU0Mi4xODY5NjI0JTIyJTJDJTBBJTIwJTIwJTIwJTIwYWNtMjAxNiUzRCUyMjElMjIlMkMlMEElMjAlMjAlMjAlMjBwbGFjZXglM0QlMjJQcm9jZWVkaW5ncyUyMG9mJTIwdGhlJTIwQUNNJTIwSW50ZXJuYXRpb25hbCUyMENvbmZlcmVuY2UlMjBDb21wYW5pb24lMjBvbiUyME9iamVjdCUyME9yaWVudGVkJTIwUHJvZ3JhbW1pbmclMjBTeXN0ZW1zJTIwTGFuZ3VhZ2VzJTIwYW5kJTIwQXBwbGljYXRpb25zJTIwQ29tcGFuaW9uJTIyJTJDJTBBJTI5JTI5JTBBJTI3JTI3JTI3JTI5JTNC\")));\n",
       "    "
      ],
      "text/plain": [
       "<IPython.core.display.Javascript object>"
      ]
     },
     "metadata": {},
     "output_type": "display_data"
    },
    {
     "data": {
      "application/javascript": [
       "$('span:contains(\"# Temp\")').closest('.cell').remove();"
      ],
      "text/plain": [
       "<IPython.core.display.Javascript object>"
      ]
     },
     "metadata": {},
     "output_type": "display_data"
    },
    {
     "data": {
      "application/javascript": [
       "\n",
       "        $('span:contains(\"# Temp\")').closest('.cell').remove();\n",
       "        var code = IPython.notebook.insert_cell_below('code');\n",
       "        var prompt = code.element.find(\".input_prompt\");\n",
       "        prompt.append('<br><button style=\"height: 100%; width: 54px;\">Run</button>');\n",
       "        prompt.on(\"click\", \"button\", function(){\n",
       "            code.execute();\n",
       "        });\n",
       "        code.set_text(decodeURIComponent(window.atob(\"JTIzJTIwVGVtcCUwQWluc2VydCUyOCUyNyUyNyUyNyUwQW8yMDEwYSUyMCUzRCUyMERCJTI4V29ya1VucmVsYXRlZCUyOCUwQSUyMCUyMCUyMCUyMDIwMTAlMkMlMjAlMjJCZXR0ZXIlMjBQbGFubmluZyUyMHZpYSUyMFRhc2tpbmclMjBBcyUyMGElMjBUZWFtJTIyJTJDJTBBJTIwJTIwJTIwJTIwZGlzcGxheSUzRCUyMm8lMjIlMkMlMEElMjAlMjAlMjAlMjBhdXRob3JzJTNEJTIyTyUyN0Nvbm5vciUyQyUyMENocmlzdG9waGVyJTIwUC4lMjIlMkMlMEElMjAlMjAlMjAlMjBwbGFjZSUzREZBS0UlMkMlMEElMjAlMjAlMjAlMjBwcCUzRCUyMjMwNS0tMzA2JTIyJTJDJTBBJTIwJTIwJTIwJTIwZW50cnl0eXBlJTNEJTIyaW5wcm9jZWVkaW5ncyUyMiUyQyUwQSUyMCUyMCUyMCUyMHNlcmllcyUzRCUyMk9PUFNMQSUyMCUyNzEwJTIyJTJDJTBBJTIwJTIwJTIwJTIwaXNibiUzRCUyMjk3OC0xLTQ1MDMtMDI0MC0xJTIyJTJDJTBBJTIwJTIwJTIwJTIwbG9jYXRpb24lM0QlMjJSZW5vL1RhaG9lJTJDJTIwTmV2YWRhJTJDJTIwVVNBJTIyJTJDJTBBJTIwJTIwJTIwJTIwbnVtcGFnZXMlM0QlMjIyJTIyJTJDJTBBJTIwJTIwJTIwJTIwbGluayUzRCUyMmh0dHAlM0EvL2RvaS5hY20ub3JnLzEwLjExNDUvMTg2OTU0Mi4xODY5NjI0JTIyJTJDJTBBJTIwJTIwJTIwJTIwZG9pJTNEJTIyMTAuMTE0NS8xODY5NTQyLjE4Njk2MjQlMjIlMkMlMEElMjAlMjAlMjAlMjBhY21pZCUzRCUyMjE4Njk2MjQlMjIlMkMlMEElMjAlMjAlMjAlMjBwdWJsaXNoZXIlM0QlMjJBQ00lMjIlMkMlMEElMjAlMjAlMjAlMjBhZGRyZXNzJTNEJTIyTmV3JTIwWW9yayUyQyUyME5ZJTJDJTIwVVNBJTIyJTJDJTBBJTIwJTIwJTIwJTIwa2V5d29yZCUzRCUyMlhQJTJDJTIwYWdpbGUlMjBkZXZlbG9wbWVudCUyQyUyMGFnaWxlJTIwdGVhbXMlMkMlMjBlc3RpbWF0aW9uJTJDJTIwcGxhbm5pbmclMkMlMjBzY3J1bSUyQyUyMHN0b3J5JTIwZGV2ZWxvcG1lbnQlMjIlMkMlMEElMjAlMjAlMjAlMjBJRCUzRCUyMk8lMjdDb25ub3IlM0EyMDEwJTNBQlBWJTNBMTg2OTU0Mi4xODY5NjI0JTIyJTJDJTBBJTIwJTIwJTIwJTIwYWNtMjAxNiUzRCUyMjElMjIlMkMlMEElMjAlMjAlMjAlMjBwbGFjZXglM0QlMjJQcm9jZWVkaW5ncyUyMG9mJTIwdGhlJTIwQUNNJTIwSW50ZXJuYXRpb25hbCUyMENvbmZlcmVuY2UlMjBDb21wYW5pb24lMjBvbiUyME9iamVjdCUyME9yaWVudGVkJTIwUHJvZ3JhbW1pbmclMjBTeXN0ZW1zJTIwTGFuZ3VhZ2VzJTIwYW5kJTIwQXBwbGljYXRpb25zJTIwQ29tcGFuaW9uJTIyJTJDJTBBJTI5JTI5JTBBJTI3JTI3JTI3JTI5JTNC\")));\n",
       "    "
      ],
      "text/plain": [
       "<IPython.core.display.Javascript object>"
      ]
     },
     "metadata": {},
     "output_type": "display_data"
    },
    {
     "data": {
      "application/javascript": [
       "$('span:contains(\"# Temp\")').closest('.cell').remove();"
      ],
      "text/plain": [
       "<IPython.core.display.Javascript object>"
      ]
     },
     "metadata": {},
     "output_type": "display_data"
    },
    {
     "data": {
      "application/javascript": [
       "\n",
       "        $('span:contains(\"# Temp\")').closest('.cell').remove();\n",
       "        var code = IPython.notebook.insert_cell_below('code');\n",
       "        var prompt = code.element.find(\".input_prompt\");\n",
       "        prompt.append('<br><button style=\"height: 100%; width: 54px;\">Run</button>');\n",
       "        prompt.on(\"click\", \"button\", function(){\n",
       "            code.execute();\n",
       "        });\n",
       "        code.set_text(decodeURIComponent(window.atob(\"JTIzJTIwVGVtcCUwQWluc2VydCUyOCUyNyUyNyUyNyUyNyUyNyUyNyUyOSUzQiUwQXNldF9hdHRyaWJ1dGUlMjglMjdzaWx2YTIwMTdhJTI3JTJDJTIwJTI3c2VyaWVzJTI3JTJDJTIwJTI3RUFTRSUyNzE3JTI3JTI5JTNCJTBBc2V0X2F0dHJpYnV0ZSUyOCUyN3NpbHZhMjAxN2ElMjclMkMlMjAlMjdpc2JuJTI3JTJDJTIwJTI3OTc4LTEtNDUwMy00ODA0LTElMjclMjklM0IlMEFzZXRfYXR0cmlidXRlJTI4JTI3c2lsdmEyMDE3YSUyNyUyQyUyMCUyN2xvY2F0aW9uJTI3JTJDJTIwJTI3S2FybHNrcm9uYSUyQyUyMFN3ZWRlbiUyNyUyOSUzQiUwQXNldF9hdHRyaWJ1dGUlMjglMjdzaWx2YTIwMTdhJTI3JTJDJTIwJTI3bnVtcGFnZXMlMjclMkMlMjAlMjcxMCUyNyUyOSUzQiUwQXNldF9hdHRyaWJ1dGUlMjglMjdzaWx2YTIwMTdhJTI3JTJDJTIwJTI3bGluayUyNyUyQyUyMCUyN2h0dHAlM0EvL2RvaS5hY20ub3JnLzEwLjExNDUvMzA4NDIyNi4zMDg0MjYyJTI3JTI5JTNCJTBBc2V0X2F0dHJpYnV0ZSUyOCUyN3NpbHZhMjAxN2ElMjclMkMlMjAlMjdkb2klMjclMkMlMjAlMjcxMC4xMTQ1LzMwODQyMjYuMzA4NDI2MiUyNyUyOSUzQiUwQXNldF9hdHRyaWJ1dGUlMjglMjdzaWx2YTIwMTdhJTI3JTJDJTIwJTI3YWNtaWQlMjclMkMlMjAlMjczMDg0MjYyJTI3JTI5JTNCJTBBc2V0X2F0dHJpYnV0ZSUyOCUyN3NpbHZhMjAxN2ElMjclMkMlMjAlMjdwdWJsaXNoZXIlMjclMkMlMjAlMjdBQ00lMjclMjklM0IlMEFzZXRfYXR0cmlidXRlJTI4JTI3c2lsdmEyMDE3YSUyNyUyQyUyMCUyN2FkZHJlc3MlMjclMkMlMjAlMjdOZXclMjBZb3JrJTJDJTIwTlklMkMlMjBVU0ElMjclMjklM0IlMEFzZXRfYXR0cmlidXRlJTI4JTI3c2lsdmEyMDE3YSUyNyUyQyUyMCUyN2tleXdvcmQlMjclMkMlMjAlMjdBZ2lsZSUyMFNvZnR3YXJlJTIwRGV2ZWxvcG1lbnQlMkMlMjBEZWZpbml0aW9uJTIwb2YlMjBEb25lJTJDJTIwU3lzdGVtYXRpYyUyMExpdGVyYXR1cmUlMjBSZXZpZXclMjclMjklM0IlMEFzZXRfYXR0cmlidXRlJTI4JTI3c2lsdmEyMDE3YSUyNyUyQyUyMCUyN2FjbTIwMTYlMjclMkMlMjAlMjcxJTI3JTI5JTNC\")));\n",
       "    "
      ],
      "text/plain": [
       "<IPython.core.display.Javascript object>"
      ]
     },
     "metadata": {},
     "output_type": "display_data"
    },
    {
     "data": {
      "application/javascript": [
       "$('span:contains(\"# Temp\")').closest('.cell').remove();"
      ],
      "text/plain": [
       "<IPython.core.display.Javascript object>"
      ]
     },
     "metadata": {},
     "output_type": "display_data"
    },
    {
     "data": {
      "application/javascript": [
       "\n",
       "        $('span:contains(\"# Temp\")').closest('.cell').remove();\n",
       "        var code = IPython.notebook.insert_cell_below('code');\n",
       "        var prompt = code.element.find(\".input_prompt\");\n",
       "        prompt.append('<br><button style=\"height: 100%; width: 54px;\">Run</button>');\n",
       "        prompt.on(\"click\", \"button\", function(){\n",
       "            code.execute();\n",
       "        });\n",
       "        code.set_text(decodeURIComponent(window.atob(\"JTIzJTIwVGVtcCUwQWluc2VydCUyOCUyNyUyNyUyNyUyNyUyNyUyNyUyOSUzQiUwQXNldF9hdHRyaWJ1dGUlMjglMjdzaWx2YTIwMTdhJTI3JTJDJTIwJTI3c2VyaWVzJTI3JTJDJTIwJTI3RUFTRSUyNzE3JTI3JTI5JTNCJTBBc2V0X2F0dHJpYnV0ZSUyOCUyN3NpbHZhMjAxN2ElMjclMkMlMjAlMjdpc2JuJTI3JTJDJTIwJTI3OTc4LTEtNDUwMy00ODA0LTElMjclMjklM0IlMEFzZXRfYXR0cmlidXRlJTI4JTI3c2lsdmEyMDE3YSUyNyUyQyUyMCUyN2xvY2F0aW9uJTI3JTJDJTIwJTI3S2FybHNrcm9uYSUyQyUyMFN3ZWRlbiUyNyUyOSUzQiUwQXNldF9hdHRyaWJ1dGUlMjglMjdzaWx2YTIwMTdhJTI3JTJDJTIwJTI3bnVtcGFnZXMlMjclMkMlMjAlMjcxMCUyNyUyOSUzQiUwQXNldF9hdHRyaWJ1dGUlMjglMjdzaWx2YTIwMTdhJTI3JTJDJTIwJTI3bGluayUyNyUyQyUyMCUyN2h0dHAlM0EvL2RvaS5hY20ub3JnLzEwLjExNDUvMzA4NDIyNi4zMDg0MjYyJTI3JTI5JTNCJTBBc2V0X2F0dHJpYnV0ZSUyOCUyN3NpbHZhMjAxN2ElMjclMkMlMjAlMjdkb2klMjclMkMlMjAlMjcxMC4xMTQ1LzMwODQyMjYuMzA4NDI2MiUyNyUyOSUzQiUwQXNldF9hdHRyaWJ1dGUlMjglMjdzaWx2YTIwMTdhJTI3JTJDJTIwJTI3YWNtaWQlMjclMkMlMjAlMjczMDg0MjYyJTI3JTI5JTNCJTBBc2V0X2F0dHJpYnV0ZSUyOCUyN3NpbHZhMjAxN2ElMjclMkMlMjAlMjdwdWJsaXNoZXIlMjclMkMlMjAlMjdBQ00lMjclMjklM0IlMEFzZXRfYXR0cmlidXRlJTI4JTI3c2lsdmEyMDE3YSUyNyUyQyUyMCUyN2FkZHJlc3MlMjclMkMlMjAlMjdOZXclMjBZb3JrJTJDJTIwTlklMkMlMjBVU0ElMjclMjklM0IlMEFzZXRfYXR0cmlidXRlJTI4JTI3c2lsdmEyMDE3YSUyNyUyQyUyMCUyN2tleXdvcmQlMjclMkMlMjAlMjdBZ2lsZSUyMFNvZnR3YXJlJTIwRGV2ZWxvcG1lbnQlMkMlMjBEZWZpbml0aW9uJTIwb2YlMjBEb25lJTJDJTIwU3lzdGVtYXRpYyUyMExpdGVyYXR1cmUlMjBSZXZpZXclMjclMjklM0IlMEFzZXRfYXR0cmlidXRlJTI4JTI3c2lsdmEyMDE3YSUyNyUyQyUyMCUyN2FjbTIwMTYlMjclMkMlMjAlMjcxJTI3JTI5JTNC\")));\n",
       "    "
      ],
      "text/plain": [
       "<IPython.core.display.Javascript object>"
      ]
     },
     "metadata": {},
     "output_type": "display_data"
    },
    {
     "data": {
      "application/javascript": [
       "$('span:contains(\"# Temp\")').closest('.cell').remove();"
      ],
      "text/plain": [
       "<IPython.core.display.Javascript object>"
      ]
     },
     "metadata": {},
     "output_type": "display_data"
    },
    {
     "data": {
      "application/javascript": [
       "\n",
       "        $('span:contains(\"# Temp\")').closest('.cell').remove();\n",
       "        var code = IPython.notebook.insert_cell_below('code');\n",
       "        var prompt = code.element.find(\".input_prompt\");\n",
       "        prompt.append('<br><button style=\"height: 100%; width: 54px;\">Run</button>');\n",
       "        prompt.on(\"click\", \"button\", function(){\n",
       "            code.execute();\n",
       "        });\n",
       "        code.set_text(decodeURIComponent(window.atob(\"JTIzJTIwVGVtcCUwQWluc2VydCUyOCUyNyUyNyUyNyUwQWRpZWJvbGQyMDE4YiUyMCUzRCUyMERCJTI4V29ya1VucmVsYXRlZCUyOCUwQSUyMCUyMCUyMCUyMDIwMTglMkMlMjAlMjJBbiUyMEFnaWxlJTIwVHJhbnNpdGlvbiUyMFN0YXJ0aW5nJTIwd2l0aCUyMFVzZXIlMjBTdG9yaWVzJTJDJTIwRG9EJTIwJTI2JTIzMzglM0IlMjBEb1IlMjIlMkMlMEElMjAlMjAlMjAlMjBkaXNwbGF5JTNEJTIyZGllYm9sZCUyMGIlMjIlMkMlMEElMjAlMjAlMjAlMjBhdXRob3JzJTNEJTIyRGllYm9sZCUyQyUyMFBoaWxpcHAlMjBhbmQlMjBUaGVvYmFsZCUyQyUyMFN2ZW4lMjBhbmQlMjBXYWhsJTJDJTIwSm9oYW5uZXMlMjBhbmQlMjBSYXVzY2glMkMlMjBZdmVzJTIyJTJDJTBBJTIwJTIwJTIwJTIwcGxhY2UlM0RGQUtFJTJDJTBBJTIwJTIwJTIwJTIwcHAlM0QlMjIxNDctLTE1NiUyMiUyQyUwQSUyMCUyMCUyMCUyMGVudHJ5dHlwZSUzRCUyMmlucHJvY2VlZGluZ3MlMjIlMkMlMEElMjAlMjAlMjAlMjBzZXJpZXMlM0QlMjJJQ1NTUCUyMCUyNzE4JTIyJTJDJTBBJTIwJTIwJTIwJTIwaXNibiUzRCUyMjk3OC0xLTQ1MDMtNjQ1OS0xJTIyJTJDJTBBJTIwJTIwJTIwJTIwbG9jYXRpb24lM0QlMjJHb3RoZW5idXJnJTJDJTIwU3dlZGVuJTIyJTJDJTBBJTIwJTIwJTIwJTIwbnVtcGFnZXMlM0QlMjIxMCUyMiUyQyUwQSUyMCUyMCUyMCUyMGxpbmslM0QlMjJodHRwJTNBLy9kb2kuYWNtLm9yZy8xMC4xMTQ1LzMyMDI3MTAuMzIwMzE0NSUyMiUyQyUwQSUyMCUyMCUyMCUyMGRvaSUzRCUyMjEwLjExNDUvMzIwMjcxMC4zMjAzMTQ1JTIyJTJDJTBBJTIwJTIwJTIwJTIwYWNtaWQlM0QlMjIzMjAzMTQ1JTIyJTJDJTBBJTIwJTIwJTIwJTIwcHVibGlzaGVyJTNEJTIyQUNNJTIyJTJDJTBBJTIwJTIwJTIwJTIwYWRkcmVzcyUzRCUyMk5ldyUyMFlvcmslMkMlMjBOWSUyQyUyMFVTQSUyMiUyQyUwQSUyMCUyMCUyMCUyMGtleXdvcmQlM0QlMjJBZ2lsZSUyMGRldmVsb3BtZW50JTJDJTIwQWdpbGUlMjBwcmFjdGljZXMlMkMlMjBBZ2lsZSUyMHRyYW5zaXRpb24lMkMlMjBTTUUlMkMlMjBTY3J1bSUyQyUyMGNhc2UlMjBzdHVkeSUyQyUyMGRlZmluaXRpb24lMjBvZiUyMGRvbmUlMkMlMjBkZWZpbml0aW9uJTIwb2YlMjByZWFkeSUyQyUyMHByb2Nlc3MlMjBpbXByb3ZlbWVudCUyQyUyMHVzZXIlMjBzdG9yaWVzJTIyJTJDJTBBJTIwJTIwJTIwJTIwSUQlM0QlMjJEaWVib2xkJTNBMjAxOCUzQUFUUyUzQTMyMDI3MTAuMzIwMzE0NSUyMiUyQyUwQSUyMCUyMCUyMCUyMGFjbTIwMTYlM0QlMjIxJTIyJTJDJTBBJTIwJTIwJTIwJTIwcGxhY2V4JTNEJTIyUHJvY2VlZGluZ3MlMjBvZiUyMHRoZSUyMDIwMTglMjBJbnRlcm5hdGlvbmFsJTIwQ29uZmVyZW5jZSUyMG9uJTIwU29mdHdhcmUlMjBhbmQlMjBTeXN0ZW0lMjBQcm9jZXNzJTIyJTJDJTBBJTI5JTI5JTBBJTI3JTI3JTI3JTI5JTNC\")));\n",
       "    "
      ],
      "text/plain": [
       "<IPython.core.display.Javascript object>"
      ]
     },
     "metadata": {},
     "output_type": "display_data"
    },
    {
     "data": {
      "application/javascript": [
       "$('span:contains(\"# Temp\")').closest('.cell').remove();"
      ],
      "text/plain": [
       "<IPython.core.display.Javascript object>"
      ]
     },
     "metadata": {},
     "output_type": "display_data"
    },
    {
     "data": {
      "application/javascript": [
       "\n",
       "        $('span:contains(\"# Temp\")').closest('.cell').remove();\n",
       "        var code = IPython.notebook.insert_cell_below('code');\n",
       "        var prompt = code.element.find(\".input_prompt\");\n",
       "        prompt.append('<br><button style=\"height: 100%; width: 54px;\">Run</button>');\n",
       "        prompt.on(\"click\", \"button\", function(){\n",
       "            code.execute();\n",
       "        });\n",
       "        code.set_text(decodeURIComponent(window.atob(\"JTIzJTIwVGVtcCUwQWluc2VydCUyOCUyNyUyNyUyNyUwQWRpZWJvbGQyMDE4YiUyMCUzRCUyMERCJTI4V29ya1VucmVsYXRlZCUyOCUwQSUyMCUyMCUyMCUyMDIwMTglMkMlMjAlMjJBbiUyMEFnaWxlJTIwVHJhbnNpdGlvbiUyMFN0YXJ0aW5nJTIwd2l0aCUyMFVzZXIlMjBTdG9yaWVzJTJDJTIwRG9EJTIwJTI2JTIzMzglM0IlMjBEb1IlMjIlMkMlMEElMjAlMjAlMjAlMjBkaXNwbGF5JTNEJTIyZGllYm9sZCUyMGIlMjIlMkMlMEElMjAlMjAlMjAlMjBhdXRob3JzJTNEJTIyRGllYm9sZCUyQyUyMFBoaWxpcHAlMjBhbmQlMjBUaGVvYmFsZCUyQyUyMFN2ZW4lMjBhbmQlMjBXYWhsJTJDJTIwSm9oYW5uZXMlMjBhbmQlMjBSYXVzY2glMkMlMjBZdmVzJTIyJTJDJTBBJTIwJTIwJTIwJTIwcGxhY2UlM0RGQUtFJTJDJTBBJTIwJTIwJTIwJTIwcHAlM0QlMjIxNDctLTE1NiUyMiUyQyUwQSUyMCUyMCUyMCUyMGVudHJ5dHlwZSUzRCUyMmlucHJvY2VlZGluZ3MlMjIlMkMlMEElMjAlMjAlMjAlMjBzZXJpZXMlM0QlMjJJQ1NTUCUyMCUyNzE4JTIyJTJDJTBBJTIwJTIwJTIwJTIwaXNibiUzRCUyMjk3OC0xLTQ1MDMtNjQ1OS0xJTIyJTJDJTBBJTIwJTIwJTIwJTIwbG9jYXRpb24lM0QlMjJHb3RoZW5idXJnJTJDJTIwU3dlZGVuJTIyJTJDJTBBJTIwJTIwJTIwJTIwbnVtcGFnZXMlM0QlMjIxMCUyMiUyQyUwQSUyMCUyMCUyMCUyMGxpbmslM0QlMjJodHRwJTNBLy9kb2kuYWNtLm9yZy8xMC4xMTQ1LzMyMDI3MTAuMzIwMzE0NSUyMiUyQyUwQSUyMCUyMCUyMCUyMGRvaSUzRCUyMjEwLjExNDUvMzIwMjcxMC4zMjAzMTQ1JTIyJTJDJTBBJTIwJTIwJTIwJTIwYWNtaWQlM0QlMjIzMjAzMTQ1JTIyJTJDJTBBJTIwJTIwJTIwJTIwcHVibGlzaGVyJTNEJTIyQUNNJTIyJTJDJTBBJTIwJTIwJTIwJTIwYWRkcmVzcyUzRCUyMk5ldyUyMFlvcmslMkMlMjBOWSUyQyUyMFVTQSUyMiUyQyUwQSUyMCUyMCUyMCUyMGtleXdvcmQlM0QlMjJBZ2lsZSUyMGRldmVsb3BtZW50JTJDJTIwQWdpbGUlMjBwcmFjdGljZXMlMkMlMjBBZ2lsZSUyMHRyYW5zaXRpb24lMkMlMjBTTUUlMkMlMjBTY3J1bSUyQyUyMGNhc2UlMjBzdHVkeSUyQyUyMGRlZmluaXRpb24lMjBvZiUyMGRvbmUlMkMlMjBkZWZpbml0aW9uJTIwb2YlMjByZWFkeSUyQyUyMHByb2Nlc3MlMjBpbXByb3ZlbWVudCUyQyUyMHVzZXIlMjBzdG9yaWVzJTIyJTJDJTBBJTIwJTIwJTIwJTIwSUQlM0QlMjJEaWVib2xkJTNBMjAxOCUzQUFUUyUzQTMyMDI3MTAuMzIwMzE0NSUyMiUyQyUwQSUyMCUyMCUyMCUyMGFjbTIwMTYlM0QlMjIxJTIyJTJDJTBBJTIwJTIwJTIwJTIwcGxhY2V4JTNEJTIyUHJvY2VlZGluZ3MlMjBvZiUyMHRoZSUyMDIwMTglMjBJbnRlcm5hdGlvbmFsJTIwQ29uZmVyZW5jZSUyMG9uJTIwU29mdHdhcmUlMjBhbmQlMjBTeXN0ZW0lMjBQcm9jZXNzJTIyJTJDJTBBJTI5JTI5JTBBJTI3JTI3JTI3JTI5JTNC\")));\n",
       "    "
      ],
      "text/plain": [
       "<IPython.core.display.Javascript object>"
      ]
     },
     "metadata": {},
     "output_type": "display_data"
    }
   ],
   "source": [
    "from custom_snowballing import UnrelatedInsert\n",
    "UnrelatedInsert(\"acm2016\", articles=article_list)"
   ]
  },
  {
   "cell_type": "code",
   "execution_count": null,
   "metadata": {
    "collapsed": true
   },
   "outputs": [],
   "source": [
    "# Temp\n",
    "insert('''\n",
    "diebold2018b = DB(WorkUnrelated(\n",
    "    2018, \"An Agile Transition Starting with User Stories, DoD &#38; DoR\",\n",
    "    display=\"diebold b\",\n",
    "    authors=\"Diebold, Philipp and Theobald, Sven and Wahl, Johannes and Rausch, Yves\",\n",
    "    place=FAKE,\n",
    "    pp=\"147--156\",\n",
    "    entrytype=\"inproceedings\",\n",
    "    series=\"ICSSP '18\",\n",
    "    isbn=\"978-1-4503-6459-1\",\n",
    "    location=\"Gothenburg, Sweden\",\n",
    "    numpages=\"10\",\n",
    "    link=\"http://doi.acm.org/10.1145/3202710.3203145\",\n",
    "    doi=\"10.1145/3202710.3203145\",\n",
    "    acmid=\"3203145\",\n",
    "    publisher=\"ACM\",\n",
    "    address=\"New York, NY, USA\",\n",
    "    keyword=\"Agile development, Agile practices, Agile transition, SME, Scrum, case study, definition of done, definition of ready, process improvement, user stories\",\n",
    "    ID=\"Diebold:2018:ATS:3202710.3203145\",\n",
    "    acm2016=\"1\",\n",
    "    placex=\"Proceedings of the 2018 International Conference on Software and System Process\",\n",
    "))\n",
    "''');"
   ]
  },
  {
   "cell_type": "code",
   "execution_count": null,
   "metadata": {
    "collapsed": true
   },
   "outputs": [],
   "source": []
  }
 ],
 "metadata": {
  "kernelspec": {
   "display_name": "Python 3",
   "language": "python",
   "name": "python3"
  },
  "language_info": {
   "codemirror_mode": {
    "name": "ipython",
    "version": 3
   },
   "file_extension": ".py",
   "mimetype": "text/x-python",
   "name": "python",
   "nbconvert_exporter": "python",
   "pygments_lexer": "ipython3",
   "version": "3.6.0"
  },
  "toc": {
   "nav_menu": {
    "height": "12px",
    "width": "252px"
   },
   "number_sections": true,
   "sideBar": true,
   "skip_h1_title": false,
   "toc_cell": false,
   "toc_position": {},
   "toc_section_display": "block",
   "toc_window_display": false
  }
 },
 "nbformat": 4,
 "nbformat_minor": 2
}
