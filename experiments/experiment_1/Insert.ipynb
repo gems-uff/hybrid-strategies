{
 "cells": [
  {
   "cell_type": "code",
   "execution_count": 1,
   "metadata": {
    "collapsed": true
   },
   "outputs": [],
   "source": [
    "import database\n",
    "from snowballing.operations import load_work, reload, work_by_varname\n",
    "from snowballing.snowballing import Converter\n",
    "from snowballing.snowballing import ArticleNavigator\n",
    "from snowballing.dbmanager import insert, set_attribute"
   ]
  },
  {
   "cell_type": "code",
   "execution_count": 2,
   "metadata": {
    "scrolled": false
   },
   "outputs": [
    {
     "data": {
      "application/vnd.jupyter.widget-view+json": {
       "model_id": "02b509acfc63449498818ee7ca43e147",
       "version_major": 2,
       "version_minor": 0
      },
      "text/html": [
       "<p>Failed to display Jupyter Widget of type <code>VBox</code>.</p>\n",
       "<p>\n",
       "  If you're reading this message in Jupyter Notebook or JupyterLab, it may mean\n",
       "  that the widgets JavaScript is still loading. If this message persists, it\n",
       "  likely means that the widgets JavaScript library is either not installed or\n",
       "  not enabled. See the <a href=\"https://ipywidgets.readthedocs.io/en/stable/user_install.html\">Jupyter\n",
       "  Widgets Documentation</a> for setup instructions.\n",
       "</p>\n",
       "<p>\n",
       "  If you're reading this message in another notebook frontend (for example, a static\n",
       "  rendering on GitHub or <a href=\"https://nbviewer.jupyter.org/\">NBViewer</a>),\n",
       "  it may mean that your frontend doesn't currently support widgets.\n",
       "</p>\n"
      ],
      "text/plain": [
       "VBox(children=(HBox(children=(Dropdown(options={'BibTeX': 'bibtex', 'Text': 'text', '[N] author name place other year': 'citation', 'Quoted': 'quoted'}, value='bibtex'), Button(description='Set article_list variable', style=ButtonStyle()), Label(value=''))), HBox(children=(Textarea(value='', layout=Layout(height='500px', width='50%')), Textarea(value='', layout=Layout(height='500px', width='50%'))))))"
      ]
     },
     "metadata": {},
     "output_type": "display_data"
    }
   ],
   "source": [
    "Converter(\"bibtex\")"
   ]
  },
  {
   "cell_type": "code",
   "execution_count": 3,
   "metadata": {},
   "outputs": [
    {
     "data": {
      "text/plain": [
       "60"
      ]
     },
     "execution_count": 3,
     "metadata": {},
     "output_type": "execute_result"
    }
   ],
   "source": [
    "len(article_list)"
   ]
  },
  {
   "cell_type": "code",
   "execution_count": 4,
   "metadata": {
    "collapsed": true
   },
   "outputs": [],
   "source": [
    "from snowballing.operations import reload\n",
    "reload()\n"
   ]
  },
  {
   "cell_type": "code",
   "execution_count": null,
   "metadata": {
    "collapsed": true
   },
   "outputs": [],
   "source": []
  },
  {
   "cell_type": "code",
   "execution_count": null,
   "metadata": {
    "collapsed": true,
    "scrolled": false
   },
   "outputs": [],
   "source": [
    "ArticleNavigator??"
   ]
  },
  {
   "cell_type": "code",
   "execution_count": null,
   "metadata": {
    "collapsed": true
   },
   "outputs": [],
   "source": []
  },
  {
   "cell_type": "code",
   "execution_count": null,
   "metadata": {
    "collapsed": true
   },
   "outputs": [],
   "source": []
  },
  {
   "cell_type": "code",
   "execution_count": null,
   "metadata": {
    "collapsed": true
   },
   "outputs": [],
   "source": [
    "ArticleNavigator(articles=article_list)"
   ]
  },
  {
   "cell_type": "code",
   "execution_count": null,
   "metadata": {
    "collapsed": true
   },
   "outputs": [],
   "source": []
  },
  {
   "cell_type": "code",
   "execution_count": 5,
   "metadata": {},
   "outputs": [
    {
     "data": {
      "application/vnd.jupyter.widget-view+json": {
       "model_id": "688cc9362c3247989bd9bde7f872290a",
       "version_major": 2,
       "version_minor": 0
      },
      "text/html": [
       "<p>Failed to display Jupyter Widget of type <code>VBox</code>.</p>\n",
       "<p>\n",
       "  If you're reading this message in Jupyter Notebook or JupyterLab, it may mean\n",
       "  that the widgets JavaScript is still loading. If this message persists, it\n",
       "  likely means that the widgets JavaScript library is either not installed or\n",
       "  not enabled. See the <a href=\"https://ipywidgets.readthedocs.io/en/stable/user_install.html\">Jupyter\n",
       "  Widgets Documentation</a> for setup instructions.\n",
       "</p>\n",
       "<p>\n",
       "  If you're reading this message in another notebook frontend (for example, a static\n",
       "  rendering on GitHub or <a href=\"https://nbviewer.jupyter.org/\">NBViewer</a>),\n",
       "  it may mean that your frontend doesn't currently support widgets.\n",
       "</p>\n"
      ],
      "text/plain": [
       "VBox(children=(HBox(children=(Button(description='Previous Article', disabled=True, icon='caret-left', style=ButtonStyle()), Button(description='Reload Article', icon='refresh', style=ButtonStyle()), Button(description='Next Article', icon='caret-right', style=ButtonStyle()))), HBox(children=(Dropdown(description='Type', index=1, options=('WorkSnowball', 'WorkUnrelated', 'Work', 'WorkOk', 'WorkNoFile', 'WorkLang', 'Site', 'Email'), value='WorkUnrelated'), ToggleButton(value=False, description='File'))), HBox(children=(Text(value='', description='Due'), Text(value='', description='Place'))), HBox(children=(Text(value='', description='Year'), Text(value='', description='Prefix Var'))), HBox(children=(Text(value='', description='PDFPage'), Text(value='', description='Related'))), HBox(children=(Text(value='', description='Display'), Text(value='', description='Summary'))), HBox(children=(Text(value='', description='Star'), Text(value='', description='Link'))), HBox(children=(Text(value='1', description='scholar2015'),)), HBox(children=(Button(description='Reload Article', icon='refresh', style=ButtonStyle()), IntSlider(value=0, max=59), Label(value='1/60'))), Output()))"
      ]
     },
     "metadata": {},
     "output_type": "display_data"
    },
    {
     "data": {
      "application/javascript": [
       "$('span:contains(\"# Temp\")').closest('.cell').remove();"
      ],
      "text/plain": [
       "<IPython.core.display.Javascript object>"
      ]
     },
     "metadata": {},
     "output_type": "display_data"
    },
    {
     "data": {
      "application/javascript": [
       "\n",
       "        $('span:contains(\"# Temp\")').closest('.cell').remove();\n",
       "        var code = IPython.notebook.insert_cell_below('code');\n",
       "        code.set_text(decodeURIComponent(window.atob(\"JTIzJTIwVGVtcCUwQWluc2VydCUyOCUyNyUyNyUyNyUyNyUyNyUyNyUyOSUzQiUwQXNldF9hdHRyaWJ1dGUlMjglMjdkeWJhMjAwNWElMjclMkMlMjAlMjdzY2hvbGFyMjAxNSUyNyUyQyUyMCUyNzElMjclMjklM0I=\")));\n",
       "    "
      ],
      "text/plain": [
       "<IPython.core.display.Javascript object>"
      ]
     },
     "metadata": {},
     "output_type": "display_data"
    },
    {
     "data": {
      "application/javascript": [
       "$('span:contains(\"# Temp\")').closest('.cell').remove();"
      ],
      "text/plain": [
       "<IPython.core.display.Javascript object>"
      ]
     },
     "metadata": {},
     "output_type": "display_data"
    },
    {
     "data": {
      "application/javascript": [
       "\n",
       "        $('span:contains(\"# Temp\")').closest('.cell').remove();\n",
       "        var code = IPython.notebook.insert_cell_below('code');\n",
       "        code.set_text(decodeURIComponent(window.atob(\"JTIzJTIwVGVtcCUwQWluc2VydCUyOCUyNyUyNyUyNyUwQWRvcmxpbmcxOTkzYSUyMCUzRCUyMERCJTI4V29ya1VucmVsYXRlZCUyOCUwQSUyMCUyMCUyMCUyMDE5OTMlMkMlMjAlMjJTUElDRSUzQSUyMFNvZnR3YXJlJTIwcHJvY2VzcyUyMGltcHJvdmVtZW50JTIwYW5kJTIwY2FwYWJpbGl0eSUyMGRldGVybWluYXRpb24lMjIlMkMlMEElMjAlMjAlMjAlMjBkaXNwbGF5JTNEJTIyZG9ybGluZyUyMiUyQyUwQSUyMCUyMCUyMCUyMGF1dGhvcnMlM0QlMjJEb3JsaW5nJTJDJTIwQWxlYyUyMiUyQyUwQSUyMCUyMCUyMCUyMHBsYWNlJTNEU1FKJTJDJTBBJTIwJTIwJTIwJTIwcHAlM0QlMjIyMDktLTIyNCUyMiUyQyUwQSUyMCUyMCUyMCUyMGVudHJ5dHlwZSUzRCUyMmFydGljbGUlMjIlMkMlMEElMjAlMjAlMjAlMjB2b2x1bWUlM0QlMjIyJTIyJTJDJTBBJTIwJTIwJTIwJTIwbnVtYmVyJTNEJTIyNCUyMiUyQyUwQSUyMCUyMCUyMCUyMHB1Ymxpc2hlciUzRCUyMlNwcmluZ2VyJTIyJTJDJTBBJTIwJTIwJTIwJTIwSUQlM0QlMjJkb3JsaW5nMTk5M3NwaWNlJTIyJTJDJTBBJTIwJTIwJTIwJTIwc2Nob2xhcjIwMTUlM0QlMjIxJTIyJTJDJTBBJTIwJTIwJTIwJTIwcGxhY2V4JTNEJTIyU29mdHdhcmUlMjBRdWFsaXR5JTIwSm91cm5hbCUyMiUyQyUwQSUyOSUyOSUwQSUyNyUyNyUyNyUyOSUzQg==\")));\n",
       "    "
      ],
      "text/plain": [
       "<IPython.core.display.Javascript object>"
      ]
     },
     "metadata": {},
     "output_type": "display_data"
    },
    {
     "data": {
      "application/javascript": [
       "$('span:contains(\"# Temp\")').closest('.cell').remove();"
      ],
      "text/plain": [
       "<IPython.core.display.Javascript object>"
      ]
     },
     "metadata": {},
     "output_type": "display_data"
    },
    {
     "data": {
      "application/javascript": [
       "\n",
       "        $('span:contains(\"# Temp\")').closest('.cell').remove();\n",
       "        var code = IPython.notebook.insert_cell_below('code');\n",
       "        code.set_text(decodeURIComponent(window.atob(\"JTIzJTIwVGVtcCUwQWluc2VydCUyOCUyNyUyNyUyNyUwQWRvcmxpbmcxOTkzYSUyMCUzRCUyMERCJTI4V29ya1VucmVsYXRlZCUyOCUwQSUyMCUyMCUyMCUyMDE5OTMlMkMlMjAlMjJTUElDRSUzQSUyMFNvZnR3YXJlJTIwcHJvY2VzcyUyMGltcHJvdmVtZW50JTIwYW5kJTIwY2FwYWJpbGl0eSUyMGRldGVybWluYXRpb24lMjIlMkMlMEElMjAlMjAlMjAlMjBkaXNwbGF5JTNEJTIyZG9ybGluZyUyMiUyQyUwQSUyMCUyMCUyMCUyMGF1dGhvcnMlM0QlMjJEb3JsaW5nJTJDJTIwQWxlYyUyMiUyQyUwQSUyMCUyMCUyMCUyMHBsYWNlJTNEU1FKJTJDJTBBJTIwJTIwJTIwJTIwcHAlM0QlMjIyMDktLTIyNCUyMiUyQyUwQSUyMCUyMCUyMCUyMGVudHJ5dHlwZSUzRCUyMmFydGljbGUlMjIlMkMlMEElMjAlMjAlMjAlMjB2b2x1bWUlM0QlMjIyJTIyJTJDJTBBJTIwJTIwJTIwJTIwbnVtYmVyJTNEJTIyNCUyMiUyQyUwQSUyMCUyMCUyMCUyMHB1Ymxpc2hlciUzRCUyMlNwcmluZ2VyJTIyJTJDJTBBJTIwJTIwJTIwJTIwSUQlM0QlMjJkb3JsaW5nMTk5M3NwaWNlJTIyJTJDJTBBJTIwJTIwJTIwJTIwc2Nob2xhcjIwMTUlM0QlMjIxJTIyJTJDJTBBJTIwJTIwJTIwJTIwcGxhY2V4JTNEJTIyU29mdHdhcmUlMjBRdWFsaXR5JTIwSm91cm5hbCUyMiUyQyUwQSUyOSUyOSUwQSUyNyUyNyUyNyUyOSUzQg==\")));\n",
       "    "
      ],
      "text/plain": [
       "<IPython.core.display.Javascript object>"
      ]
     },
     "metadata": {},
     "output_type": "display_data"
    },
    {
     "data": {
      "application/javascript": [
       "$('span:contains(\"# Temp\")').closest('.cell').remove();"
      ],
      "text/plain": [
       "<IPython.core.display.Javascript object>"
      ]
     },
     "metadata": {},
     "output_type": "display_data"
    },
    {
     "data": {
      "application/javascript": [
       "\n",
       "        $('span:contains(\"# Temp\")').closest('.cell').remove();\n",
       "        var code = IPython.notebook.insert_cell_below('code');\n",
       "        code.set_text(decodeURIComponent(window.atob(\"JTIzJTIwVGVtcCUwQWluc2VydCUyOCUyNyUyNyUyNyUyNyUyNyUyNyUyOSUzQiUwQXNldF9hdHRyaWJ1dGUlMjglMjdsZXBtZXRzMjAxMmElMjclMkMlMjAlMjdzY2hvbGFyMjAxNSUyNyUyQyUyMCUyNzElMjclMjklM0I=\")));\n",
       "    "
      ],
      "text/plain": [
       "<IPython.core.display.Javascript object>"
      ]
     },
     "metadata": {},
     "output_type": "display_data"
    },
    {
     "data": {
      "application/javascript": [
       "$('span:contains(\"# Temp\")').closest('.cell').remove();"
      ],
      "text/plain": [
       "<IPython.core.display.Javascript object>"
      ]
     },
     "metadata": {},
     "output_type": "display_data"
    },
    {
     "data": {
      "application/javascript": [
       "\n",
       "        $('span:contains(\"# Temp\")').closest('.cell').remove();\n",
       "        var code = IPython.notebook.insert_cell_below('code');\n",
       "        code.set_text(decodeURIComponent(window.atob(\"JTIzJTIwVGVtcCUwQWluc2VydCUyOCUyNyUyNyUyNyUyNyUyNyUyNyUyOSUzQiUwQXNldF9hdHRyaWJ1dGUlMjglMjdsZXBtZXRzMjAxMmElMjclMkMlMjAlMjdzY2hvbGFyMjAxNSUyNyUyQyUyMCUyNzElMjclMjklM0I=\")));\n",
       "    "
      ],
      "text/plain": [
       "<IPython.core.display.Javascript object>"
      ]
     },
     "metadata": {},
     "output_type": "display_data"
    },
    {
     "data": {
      "application/javascript": [
       "$('span:contains(\"# Temp\")').closest('.cell').remove();"
      ],
      "text/plain": [
       "<IPython.core.display.Javascript object>"
      ]
     },
     "metadata": {},
     "output_type": "display_data"
    },
    {
     "data": {
      "application/javascript": [
       "\n",
       "        $('span:contains(\"# Temp\")').closest('.cell').remove();\n",
       "        var code = IPython.notebook.insert_cell_below('code');\n",
       "        code.set_text(decodeURIComponent(window.atob(\"JTIzJTIwVGVtcCUwQWluc2VydCUyOCUyNyUyNyUyNyUyNyUyNyUyNyUyOSUzQiUwQXNldF9hdHRyaWJ1dGUlMjglMjdiYXNpbGkyMDEwYSUyNyUyQyUyMCUyN3NjaG9sYXIyMDE1JTI3JTJDJTIwJTI3MSUyNyUyOSUzQg==\")));\n",
       "    "
      ],
      "text/plain": [
       "<IPython.core.display.Javascript object>"
      ]
     },
     "metadata": {},
     "output_type": "display_data"
    },
    {
     "data": {
      "application/javascript": [
       "$('span:contains(\"# Temp\")').closest('.cell').remove();"
      ],
      "text/plain": [
       "<IPython.core.display.Javascript object>"
      ]
     },
     "metadata": {},
     "output_type": "display_data"
    },
    {
     "data": {
      "application/javascript": [
       "\n",
       "        $('span:contains(\"# Temp\")').closest('.cell').remove();\n",
       "        var code = IPython.notebook.insert_cell_below('code');\n",
       "        code.set_text(decodeURIComponent(window.atob(\"JTIzJTIwVGVtcCUwQWluc2VydCUyOCUyNyUyNyUyNyUyNyUyNyUyNyUyOSUzQiUwQXNldF9hdHRyaWJ1dGUlMjglMjdiYXNpbGkyMDEwYSUyNyUyQyUyMCUyN3NjaG9sYXIyMDE1JTI3JTJDJTIwJTI3MSUyNyUyOSUzQg==\")));\n",
       "    "
      ],
      "text/plain": [
       "<IPython.core.display.Javascript object>"
      ]
     },
     "metadata": {},
     "output_type": "display_data"
    },
    {
     "data": {
      "application/javascript": [
       "$('span:contains(\"# Temp\")').closest('.cell').remove();"
      ],
      "text/plain": [
       "<IPython.core.display.Javascript object>"
      ]
     },
     "metadata": {},
     "output_type": "display_data"
    },
    {
     "data": {
      "application/javascript": [
       "\n",
       "        $('span:contains(\"# Temp\")').closest('.cell').remove();\n",
       "        var code = IPython.notebook.insert_cell_below('code');\n",
       "        code.set_text(decodeURIComponent(window.atob(\"JTIzJTIwVGVtcCUwQWluc2VydCUyOCUyNyUyNyUyNyUwQW9rdGFiYTIwMDdhJTIwJTNEJTIwREIlMjhXb3JrVW5yZWxhdGVkJTI4JTBBJTIwJTIwJTIwJTIwMjAwNyUyQyUyMCUyMlNvZnR3YXJlJTIwcHJvY2VzcyUyMGltcHJvdmVtZW50JTNBJTIwVGhlJTIwQ09NUEVUSVNPRlQlMjBwcm9qZWN0JTIyJTJDJTBBJTIwJTIwJTIwJTIwZGlzcGxheSUzRCUyMm9rdGFiYSUyMiUyQyUwQSUyMCUyMCUyMCUyMGF1dGhvcnMlM0QlMjJPa3RhYmElMkMlMjBIYW5uYSUyMGFuZCUyMEdhcmMlQzMlQURhJTJDJTIwRiVDMyVBOWxpeCUyMGFuZCUyMFBpYXR0aW5pJTJDJTIwTWFyaW8lMjBhbmQlMjBSdWl6JTJDJTIwRnJhbmNpc2NvJTIwYW5kJTIwUGlubyUyQyUyMEZyYW5jaXNjbyUyMEolMjBhbmQlMjBBbHF1aWNpcmElMkMlMjBDbGF1ZGlhJTIyJTJDJTBBJTIwJTIwJTIwJTIwcGxhY2UlM0RDJTJDJTBBJTIwJTIwJTIwJTIwZW50cnl0eXBlJTNEJTIyYXJ0aWNsZSUyMiUyQyUwQSUyMCUyMCUyMCUyMHZvbHVtZSUzRCUyMjQwJTIyJTJDJTBBJTIwJTIwJTIwJTIwbnVtYmVyJTNEJTIyMTAlMjIlMkMlMEElMjAlMjAlMjAlMjBwdWJsaXNoZXIlM0QlMjJJRUVFJTIyJTJDJTBBJTIwJTIwJTIwJTIwSUQlM0QlMjJva3RhYmEyMDA3c29mdHdhcmUlMjIlMkMlMEElMjAlMjAlMjAlMjBzY2hvbGFyMjAxNSUzRCUyMjElMjIlMkMlMEElMjAlMjAlMjAlMjBwbGFjZXglM0QlMjJDb21wdXRlciUyMiUyQyUwQSUyOSUyOSUwQSUyNyUyNyUyNyUyOSUzQg==\")));\n",
       "    "
      ],
      "text/plain": [
       "<IPython.core.display.Javascript object>"
      ]
     },
     "metadata": {},
     "output_type": "display_data"
    },
    {
     "data": {
      "application/javascript": [
       "$('span:contains(\"# Temp\")').closest('.cell').remove();"
      ],
      "text/plain": [
       "<IPython.core.display.Javascript object>"
      ]
     },
     "metadata": {},
     "output_type": "display_data"
    },
    {
     "data": {
      "application/javascript": [
       "\n",
       "        $('span:contains(\"# Temp\")').closest('.cell').remove();\n",
       "        var code = IPython.notebook.insert_cell_below('code');\n",
       "        code.set_text(decodeURIComponent(window.atob(\"JTIzJTIwVGVtcCUwQWluc2VydCUyOCUyNyUyNyUyNyUwQW9rdGFiYTIwMDdhJTIwJTNEJTIwREIlMjhXb3JrVW5yZWxhdGVkJTI4JTBBJTIwJTIwJTIwJTIwMjAwNyUyQyUyMCUyMlNvZnR3YXJlJTIwcHJvY2VzcyUyMGltcHJvdmVtZW50JTNBJTIwVGhlJTIwQ09NUEVUSVNPRlQlMjBwcm9qZWN0JTIyJTJDJTBBJTIwJTIwJTIwJTIwZGlzcGxheSUzRCUyMm9rdGFiYSUyMiUyQyUwQSUyMCUyMCUyMCUyMGF1dGhvcnMlM0QlMjJPa3RhYmElMkMlMjBIYW5uYSUyMGFuZCUyMEdhcmMlQzMlQURhJTJDJTIwRiVDMyVBOWxpeCUyMGFuZCUyMFBpYXR0aW5pJTJDJTIwTWFyaW8lMjBhbmQlMjBSdWl6JTJDJTIwRnJhbmNpc2NvJTIwYW5kJTIwUGlubyUyQyUyMEZyYW5jaXNjbyUyMEolMjBhbmQlMjBBbHF1aWNpcmElMkMlMjBDbGF1ZGlhJTIyJTJDJTBBJTIwJTIwJTIwJTIwcGxhY2UlM0RDJTJDJTBBJTIwJTIwJTIwJTIwZW50cnl0eXBlJTNEJTIyYXJ0aWNsZSUyMiUyQyUwQSUyMCUyMCUyMCUyMHZvbHVtZSUzRCUyMjQwJTIyJTJDJTBBJTIwJTIwJTIwJTIwbnVtYmVyJTNEJTIyMTAlMjIlMkMlMEElMjAlMjAlMjAlMjBwdWJsaXNoZXIlM0QlMjJJRUVFJTIyJTJDJTBBJTIwJTIwJTIwJTIwSUQlM0QlMjJva3RhYmEyMDA3c29mdHdhcmUlMjIlMkMlMEElMjAlMjAlMjAlMjBzY2hvbGFyMjAxNSUzRCUyMjElMjIlMkMlMEElMjAlMjAlMjAlMjBwbGFjZXglM0QlMjJDb21wdXRlciUyMiUyQyUwQSUyOSUyOSUwQSUyNyUyNyUyNyUyOSUzQg==\")));\n",
       "    "
      ],
      "text/plain": [
       "<IPython.core.display.Javascript object>"
      ]
     },
     "metadata": {},
     "output_type": "display_data"
    },
    {
     "data": {
      "application/javascript": [
       "$('span:contains(\"# Temp\")').closest('.cell').remove();"
      ],
      "text/plain": [
       "<IPython.core.display.Javascript object>"
      ]
     },
     "metadata": {},
     "output_type": "display_data"
    },
    {
     "data": {
      "application/javascript": [
       "\n",
       "        $('span:contains(\"# Temp\")').closest('.cell').remove();\n",
       "        var code = IPython.notebook.insert_cell_below('code');\n",
       "        code.set_text(decodeURIComponent(window.atob(\"JTIzJTIwVGVtcCUwQWluc2VydCUyOCUyNyUyNyUyNyUwQWthdG9oMjAxM2ElMjAlM0QlMjBEQiUyOFdvcmtVbnJlbGF0ZWQlMjglMEElMjAlMjAlMjAlMjAyMDEzJTJDJTIwJTIyTUFGRlQlMjBtdWx0aXBsZSUyMHNlcXVlbmNlJTIwYWxpZ25tZW50JTIwc29mdHdhcmUlMjB2ZXJzaW9uJTIwNyUzQSUyMGltcHJvdmVtZW50cyUyMGluJTIwcGVyZm9ybWFuY2UlMjBhbmQlMjB1c2FiaWxpdHklMjIlMkMlMEElMjAlMjAlMjAlMjBkaXNwbGF5JTNEJTIya2F0b2glMjIlMkMlMEElMjAlMjAlMjAlMjBhdXRob3JzJTNEJTIyS2F0b2glMkMlMjBLYXp1dGFrYSUyMGFuZCUyMFN0YW5kbGV5JTJDJTIwRGFyb24lMjBNJTIyJTJDJTBBJTIwJTIwJTIwJTIwcGxhY2UlM0RGQUtFJTJDJTBBJTIwJTIwJTIwJTIwcHAlM0QlMjI3NzItLTc4MCUyMiUyQyUwQSUyMCUyMCUyMCUyMGVudHJ5dHlwZSUzRCUyMmFydGljbGUlMjIlMkMlMEElMjAlMjAlMjAlMjB2b2x1bWUlM0QlMjIzMCUyMiUyQyUwQSUyMCUyMCUyMCUyMG51bWJlciUzRCUyMjQlMjIlMkMlMEElMjAlMjAlMjAlMjBwdWJsaXNoZXIlM0QlMjJTb2NpZXR5JTIwZm9yJTIwTW9sZWN1bGFyJTIwQmlvbG9neSUyMGFuZCUyMEV2b2x1dGlvbiUyMiUyQyUwQSUyMCUyMCUyMCUyMElEJTNEJTIya2F0b2gyMDEzbWFmZnQlMjIlMkMlMEElMjAlMjAlMjAlMjBzY2hvbGFyMjAxNSUzRCUyMjElMjIlMkMlMEElMjAlMjAlMjAlMjBwbGFjZXglM0QlMjJNb2xlY3VsYXIlMjBiaW9sb2d5JTIwYW5kJTIwZXZvbHV0aW9uJTIyJTJDJTBBJTI5JTI5JTBBJTI3JTI3JTI3JTI5JTNC\")));\n",
       "    "
      ],
      "text/plain": [
       "<IPython.core.display.Javascript object>"
      ]
     },
     "metadata": {},
     "output_type": "display_data"
    },
    {
     "data": {
      "application/javascript": [
       "$('span:contains(\"# Temp\")').closest('.cell').remove();"
      ],
      "text/plain": [
       "<IPython.core.display.Javascript object>"
      ]
     },
     "metadata": {},
     "output_type": "display_data"
    },
    {
     "data": {
      "application/javascript": [
       "\n",
       "        $('span:contains(\"# Temp\")').closest('.cell').remove();\n",
       "        var code = IPython.notebook.insert_cell_below('code');\n",
       "        code.set_text(decodeURIComponent(window.atob(\"JTIzJTIwVGVtcCUwQWluc2VydCUyOCUyNyUyNyUyNyUwQWthdG9oMjAxM2ElMjAlM0QlMjBEQiUyOFdvcmtVbnJlbGF0ZWQlMjglMEElMjAlMjAlMjAlMjAyMDEzJTJDJTIwJTIyTUFGRlQlMjBtdWx0aXBsZSUyMHNlcXVlbmNlJTIwYWxpZ25tZW50JTIwc29mdHdhcmUlMjB2ZXJzaW9uJTIwNyUzQSUyMGltcHJvdmVtZW50cyUyMGluJTIwcGVyZm9ybWFuY2UlMjBhbmQlMjB1c2FiaWxpdHklMjIlMkMlMEElMjAlMjAlMjAlMjBkaXNwbGF5JTNEJTIya2F0b2glMjIlMkMlMEElMjAlMjAlMjAlMjBhdXRob3JzJTNEJTIyS2F0b2glMkMlMjBLYXp1dGFrYSUyMGFuZCUyMFN0YW5kbGV5JTJDJTIwRGFyb24lMjBNJTIyJTJDJTBBJTIwJTIwJTIwJTIwcGxhY2UlM0RGQUtFJTJDJTBBJTIwJTIwJTIwJTIwcHAlM0QlMjI3NzItLTc4MCUyMiUyQyUwQSUyMCUyMCUyMCUyMGVudHJ5dHlwZSUzRCUyMmFydGljbGUlMjIlMkMlMEElMjAlMjAlMjAlMjB2b2x1bWUlM0QlMjIzMCUyMiUyQyUwQSUyMCUyMCUyMCUyMG51bWJlciUzRCUyMjQlMjIlMkMlMEElMjAlMjAlMjAlMjBwdWJsaXNoZXIlM0QlMjJTb2NpZXR5JTIwZm9yJTIwTW9sZWN1bGFyJTIwQmlvbG9neSUyMGFuZCUyMEV2b2x1dGlvbiUyMiUyQyUwQSUyMCUyMCUyMCUyMElEJTNEJTIya2F0b2gyMDEzbWFmZnQlMjIlMkMlMEElMjAlMjAlMjAlMjBzY2hvbGFyMjAxNSUzRCUyMjElMjIlMkMlMEElMjAlMjAlMjAlMjBwbGFjZXglM0QlMjJNb2xlY3VsYXIlMjBiaW9sb2d5JTIwYW5kJTIwZXZvbHV0aW9uJTIyJTJDJTBBJTI5JTI5JTBBJTI3JTI3JTI3JTI5JTNC\")));\n",
       "    "
      ],
      "text/plain": [
       "<IPython.core.display.Javascript object>"
      ]
     },
     "metadata": {},
     "output_type": "display_data"
    },
    {
     "data": {
      "application/javascript": [
       "$('span:contains(\"# Temp\")').closest('.cell').remove();"
      ],
      "text/plain": [
       "<IPython.core.display.Javascript object>"
      ]
     },
     "metadata": {},
     "output_type": "display_data"
    },
    {
     "data": {
      "application/javascript": [
       "\n",
       "        $('span:contains(\"# Temp\")').closest('.cell').remove();\n",
       "        var code = IPython.notebook.insert_cell_below('code');\n",
       "        code.set_text(decodeURIComponent(window.atob(\"JTIzJTIwVGVtcCUwQWluc2VydCUyOCUyNyUyNyUyNyUyNyUyNyUyNyUyOSUzQiUwQXNldF9hdHRyaWJ1dGUlMjglMjdkeWIlQzMlQTUyMDAzYiUyNyUyQyUyMCUyN3ZvbHVtZSUyNyUyQyUyMCUyNzI4JTI3JTI5JTNCJTBBc2V0X2F0dHJpYnV0ZSUyOCUyN2R5YiVDMyVBNTIwMDNiJTI3JTJDJTIwJTI3bnVtYmVyJTI3JTJDJTIwJTI3NSUyNyUyOSUzQiUwQXNldF9hdHRyaWJ1dGUlMjglMjdkeWIlQzMlQTUyMDAzYiUyNyUyQyUyMCUyN29yZ2FuaXphdGlvbiUyNyUyQyUyMCUyN0FDTSUyNyUyOSUzQiUwQXNldF9hdHRyaWJ1dGUlMjglMjdkeWIlQzMlQTUyMDAzYiUyNyUyQyUyMCUyN3NjaG9sYXIyMDE1JTI3JTJDJTIwJTI3MSUyNyUyOSUzQg==\")));\n",
       "    "
      ],
      "text/plain": [
       "<IPython.core.display.Javascript object>"
      ]
     },
     "metadata": {},
     "output_type": "display_data"
    },
    {
     "data": {
      "application/javascript": [
       "$('span:contains(\"# Temp\")').closest('.cell').remove();"
      ],
      "text/plain": [
       "<IPython.core.display.Javascript object>"
      ]
     },
     "metadata": {},
     "output_type": "display_data"
    },
    {
     "data": {
      "application/javascript": [
       "\n",
       "        $('span:contains(\"# Temp\")').closest('.cell').remove();\n",
       "        var code = IPython.notebook.insert_cell_below('code');\n",
       "        code.set_text(decodeURIComponent(window.atob(\"JTIzJTIwVGVtcCUwQWluc2VydCUyOCUyNyUyNyUyNyUyNyUyNyUyNyUyOSUzQiUwQXNldF9hdHRyaWJ1dGUlMjglMjdkeWIlQzMlQTUyMDAzYiUyNyUyQyUyMCUyN3ZvbHVtZSUyNyUyQyUyMCUyNzI4JTI3JTI5JTNCJTBBc2V0X2F0dHJpYnV0ZSUyOCUyN2R5YiVDMyVBNTIwMDNiJTI3JTJDJTIwJTI3bnVtYmVyJTI3JTJDJTIwJTI3NSUyNyUyOSUzQiUwQXNldF9hdHRyaWJ1dGUlMjglMjdkeWIlQzMlQTUyMDAzYiUyNyUyQyUyMCUyN29yZ2FuaXphdGlvbiUyNyUyQyUyMCUyN0FDTSUyNyUyOSUzQiUwQXNldF9hdHRyaWJ1dGUlMjglMjdkeWIlQzMlQTUyMDAzYiUyNyUyQyUyMCUyN3NjaG9sYXIyMDE1JTI3JTJDJTIwJTI3MSUyNyUyOSUzQg==\")));\n",
       "    "
      ],
      "text/plain": [
       "<IPython.core.display.Javascript object>"
      ]
     },
     "metadata": {},
     "output_type": "display_data"
    },
    {
     "data": {
      "application/javascript": [
       "$('span:contains(\"# Temp\")').closest('.cell').remove();"
      ],
      "text/plain": [
       "<IPython.core.display.Javascript object>"
      ]
     },
     "metadata": {},
     "output_type": "display_data"
    },
    {
     "data": {
      "application/javascript": [
       "\n",
       "        $('span:contains(\"# Temp\")').closest('.cell').remove();\n",
       "        var code = IPython.notebook.insert_cell_below('code');\n",
       "        code.set_text(decodeURIComponent(window.atob(\"JTIzJTIwVGVtcCUwQWluc2VydCUyOCUyNyUyNyUyNyUwQXJvc2VtYW5uMjAxNWElMjAlM0QlMjBEQiUyOFdvcmtVbnJlbGF0ZWQlMjglMEElMjAlMjAlMjAlMjAyMDE1JTJDJTIwJTIyVGhlJTIwc2l4JTIwY29yZSUyMGVsZW1lbnRzJTIwb2YlMjBidXNpbmVzcyUyMHByb2Nlc3MlMjBtYW5hZ2VtZW50JTIyJTJDJTBBJTIwJTIwJTIwJTIwZGlzcGxheSUzRCUyMnJvc2VtYW5uJTIyJTJDJTBBJTIwJTIwJTIwJTIwYXV0aG9ycyUzRCUyMlJvc2VtYW5uJTJDJTIwTWljaGFlbCUyMGFuZCUyMHZvbSUyMEJyb2NrZSUyQyUyMEphbiUyMiUyQyUwQSUyMCUyMCUyMCUyMHBsYWNlJTNERkFLRSUyQyUwQSUyMCUyMCUyMCUyMHBwJTNEJTIyMTA1LS0xMjIlMjIlMkMlMEElMjAlMjAlMjAlMjBlbnRyeXR5cGUlM0QlMjJpbmNvbGxlY3Rpb24lMjIlMkMlMEElMjAlMjAlMjAlMjBwdWJsaXNoZXIlM0QlMjJTcHJpbmdlciUyMiUyQyUwQSUyMCUyMCUyMCUyMElEJTNEJTIycm9zZW1hbm4yMDE1c2l4JTIyJTJDJTBBJTIwJTIwJTIwJTIwc2Nob2xhcjIwMTUlM0QlMjIxJTIyJTJDJTBBJTIwJTIwJTIwJTIwcGxhY2V4JTNEJTIySGFuZGJvb2slMjBvbiUyMGJ1c2luZXNzJTIwcHJvY2VzcyUyMG1hbmFnZW1lbnQlMjAxJTIyJTJDJTBBJTI5JTI5JTBBJTI3JTI3JTI3JTI5JTNC\")));\n",
       "    "
      ],
      "text/plain": [
       "<IPython.core.display.Javascript object>"
      ]
     },
     "metadata": {},
     "output_type": "display_data"
    },
    {
     "data": {
      "application/javascript": [
       "$('span:contains(\"# Temp\")').closest('.cell').remove();"
      ],
      "text/plain": [
       "<IPython.core.display.Javascript object>"
      ]
     },
     "metadata": {},
     "output_type": "display_data"
    },
    {
     "data": {
      "application/javascript": [
       "\n",
       "        $('span:contains(\"# Temp\")').closest('.cell').remove();\n",
       "        var code = IPython.notebook.insert_cell_below('code');\n",
       "        code.set_text(decodeURIComponent(window.atob(\"JTIzJTIwVGVtcCUwQWluc2VydCUyOCUyNyUyNyUyNyUwQXJvc2VtYW5uMjAxNWElMjAlM0QlMjBEQiUyOFdvcmtVbnJlbGF0ZWQlMjglMEElMjAlMjAlMjAlMjAyMDE1JTJDJTIwJTIyVGhlJTIwc2l4JTIwY29yZSUyMGVsZW1lbnRzJTIwb2YlMjBidXNpbmVzcyUyMHByb2Nlc3MlMjBtYW5hZ2VtZW50JTIyJTJDJTBBJTIwJTIwJTIwJTIwZGlzcGxheSUzRCUyMnJvc2VtYW5uJTIyJTJDJTBBJTIwJTIwJTIwJTIwYXV0aG9ycyUzRCUyMlJvc2VtYW5uJTJDJTIwTWljaGFlbCUyMGFuZCUyMHZvbSUyMEJyb2NrZSUyQyUyMEphbiUyMiUyQyUwQSUyMCUyMCUyMCUyMHBsYWNlJTNERkFLRSUyQyUwQSUyMCUyMCUyMCUyMHBwJTNEJTIyMTA1LS0xMjIlMjIlMkMlMEElMjAlMjAlMjAlMjBlbnRyeXR5cGUlM0QlMjJpbmNvbGxlY3Rpb24lMjIlMkMlMEElMjAlMjAlMjAlMjBwdWJsaXNoZXIlM0QlMjJTcHJpbmdlciUyMiUyQyUwQSUyMCUyMCUyMCUyMElEJTNEJTIycm9zZW1hbm4yMDE1c2l4JTIyJTJDJTBBJTIwJTIwJTIwJTIwc2Nob2xhcjIwMTUlM0QlMjIxJTIyJTJDJTBBJTIwJTIwJTIwJTIwcGxhY2V4JTNEJTIySGFuZGJvb2slMjBvbiUyMGJ1c2luZXNzJTIwcHJvY2VzcyUyMG1hbmFnZW1lbnQlMjAxJTIyJTJDJTBBJTI5JTI5JTBBJTI3JTI3JTI3JTI5JTNC\")));\n",
       "    "
      ],
      "text/plain": [
       "<IPython.core.display.Javascript object>"
      ]
     },
     "metadata": {},
     "output_type": "display_data"
    },
    {
     "data": {
      "application/javascript": [
       "$('span:contains(\"# Temp\")').closest('.cell').remove();"
      ],
      "text/plain": [
       "<IPython.core.display.Javascript object>"
      ]
     },
     "metadata": {},
     "output_type": "display_data"
    },
    {
     "data": {
      "application/javascript": [
       "\n",
       "        $('span:contains(\"# Temp\")').closest('.cell').remove();\n",
       "        var code = IPython.notebook.insert_cell_below('code');\n",
       "        code.set_text(decodeURIComponent(window.atob(\"JTIzJTIwVGVtcCUwQWluc2VydCUyOCUyNyUyNyUyNyUwQXNjaGVlcjIwMDBhJTIwJTNEJTIwREIlMjhXb3JrVW5yZWxhdGVkJTI4JTBBJTIwJTIwJTIwJTIwMjAwMCUyQyUyMCUyMkFSSVMlMjBhcmNoaXRlY3R1cmUlMjBhbmQlMjByZWZlcmVuY2UlMjBtb2RlbHMlMjBmb3IlMjBidXNpbmVzcyUyMHByb2Nlc3MlMjBtYW5hZ2VtZW50JTIyJTJDJTBBJTIwJTIwJTIwJTIwZGlzcGxheSUzRCUyMnNjaGVlciUyMiUyQyUwQSUyMCUyMCUyMCUyMGF1dGhvcnMlM0QlMjJTY2hlZXIlMkMlMjBBdWd1c3QtV2lsaGVsbSUyMGFuZCUyME4lQzMlQkN0dGdlbnMlMkMlMjBNYXJrdXMlMjIlMkMlMEElMjAlMjAlMjAlMjBwbGFjZSUzREZBS0UlMkMlMEElMjAlMjAlMjAlMjBwcCUzRCUyMjM3Ni0tMzg5JTIyJTJDJTBBJTIwJTIwJTIwJTIwZW50cnl0eXBlJTNEJTIyaW5jb2xsZWN0aW9uJTIyJTJDJTBBJTIwJTIwJTIwJTIwcHVibGlzaGVyJTNEJTIyU3ByaW5nZXIlMjIlMkMlMEElMjAlMjAlMjAlMjBJRCUzRCUyMnNjaGVlcjIwMDBhcmlzJTIyJTJDJTBBJTIwJTIwJTIwJTIwc2Nob2xhcjIwMTUlM0QlMjIxJTIyJTJDJTBBJTIwJTIwJTIwJTIwcGxhY2V4JTNEJTIyQnVzaW5lc3MlMjBwcm9jZXNzJTIwbWFuYWdlbWVudCUyMiUyQyUwQSUyOSUyOSUwQSUyNyUyNyUyNyUyOSUzQg==\")));\n",
       "    "
      ],
      "text/plain": [
       "<IPython.core.display.Javascript object>"
      ]
     },
     "metadata": {},
     "output_type": "display_data"
    },
    {
     "data": {
      "application/javascript": [
       "$('span:contains(\"# Temp\")').closest('.cell').remove();"
      ],
      "text/plain": [
       "<IPython.core.display.Javascript object>"
      ]
     },
     "metadata": {},
     "output_type": "display_data"
    },
    {
     "data": {
      "application/javascript": [
       "\n",
       "        $('span:contains(\"# Temp\")').closest('.cell').remove();\n",
       "        var code = IPython.notebook.insert_cell_below('code');\n",
       "        code.set_text(decodeURIComponent(window.atob(\"JTIzJTIwVGVtcCUwQWluc2VydCUyOCUyNyUyNyUyNyUwQXNjaGVlcjIwMDBhJTIwJTNEJTIwREIlMjhXb3JrVW5yZWxhdGVkJTI4JTBBJTIwJTIwJTIwJTIwMjAwMCUyQyUyMCUyMkFSSVMlMjBhcmNoaXRlY3R1cmUlMjBhbmQlMjByZWZlcmVuY2UlMjBtb2RlbHMlMjBmb3IlMjBidXNpbmVzcyUyMHByb2Nlc3MlMjBtYW5hZ2VtZW50JTIyJTJDJTBBJTIwJTIwJTIwJTIwZGlzcGxheSUzRCUyMnNjaGVlciUyMiUyQyUwQSUyMCUyMCUyMCUyMGF1dGhvcnMlM0QlMjJTY2hlZXIlMkMlMjBBdWd1c3QtV2lsaGVsbSUyMGFuZCUyME4lQzMlQkN0dGdlbnMlMkMlMjBNYXJrdXMlMjIlMkMlMEElMjAlMjAlMjAlMjBwbGFjZSUzREZBS0UlMkMlMEElMjAlMjAlMjAlMjBwcCUzRCUyMjM3Ni0tMzg5JTIyJTJDJTBBJTIwJTIwJTIwJTIwZW50cnl0eXBlJTNEJTIyaW5jb2xsZWN0aW9uJTIyJTJDJTBBJTIwJTIwJTIwJTIwcHVibGlzaGVyJTNEJTIyU3ByaW5nZXIlMjIlMkMlMEElMjAlMjAlMjAlMjBJRCUzRCUyMnNjaGVlcjIwMDBhcmlzJTIyJTJDJTBBJTIwJTIwJTIwJTIwc2Nob2xhcjIwMTUlM0QlMjIxJTIyJTJDJTBBJTIwJTIwJTIwJTIwcGxhY2V4JTNEJTIyQnVzaW5lc3MlMjBwcm9jZXNzJTIwbWFuYWdlbWVudCUyMiUyQyUwQSUyOSUyOSUwQSUyNyUyNyUyNyUyOSUzQg==\")));\n",
       "    "
      ],
      "text/plain": [
       "<IPython.core.display.Javascript object>"
      ]
     },
     "metadata": {},
     "output_type": "display_data"
    },
    {
     "data": {
      "application/javascript": [
       "$('span:contains(\"# Temp\")').closest('.cell').remove();"
      ],
      "text/plain": [
       "<IPython.core.display.Javascript object>"
      ]
     },
     "metadata": {},
     "output_type": "display_data"
    },
    {
     "data": {
      "application/javascript": [
       "\n",
       "        $('span:contains(\"# Temp\")').closest('.cell').remove();\n",
       "        var code = IPython.notebook.insert_cell_below('code');\n",
       "        code.set_text(decodeURIComponent(window.atob(\"JTIzJTIwVGVtcCUwQWluc2VydCUyOCUyNyUyNyUyNyUyNyUyNyUyNyUyOSUzQiUwQXNldF9hdHRyaWJ1dGUlMjglMjdjb25yYWRpMjAwMmElMjclMkMlMjAlMjdwdWJsaXNoZXIlMjclMkMlMjAlMjdJRUVFJTI3JTI5JTNCJTBBc2V0X2F0dHJpYnV0ZSUyOCUyN2NvbnJhZGkyMDAyYSUyNyUyQyUyMCUyN3NjaG9sYXIyMDE1JTI3JTJDJTIwJTI3MSUyNyUyOSUzQg==\")));\n",
       "    "
      ],
      "text/plain": [
       "<IPython.core.display.Javascript object>"
      ]
     },
     "metadata": {},
     "output_type": "display_data"
    },
    {
     "data": {
      "application/javascript": [
       "$('span:contains(\"# Temp\")').closest('.cell').remove();"
      ],
      "text/plain": [
       "<IPython.core.display.Javascript object>"
      ]
     },
     "metadata": {},
     "output_type": "display_data"
    },
    {
     "data": {
      "application/javascript": [
       "\n",
       "        $('span:contains(\"# Temp\")').closest('.cell').remove();\n",
       "        var code = IPython.notebook.insert_cell_below('code');\n",
       "        code.set_text(decodeURIComponent(window.atob(\"JTIzJTIwVGVtcCUwQWluc2VydCUyOCUyNyUyNyUyNyUyNyUyNyUyNyUyOSUzQiUwQXNldF9hdHRyaWJ1dGUlMjglMjdjb25yYWRpMjAwMmElMjclMkMlMjAlMjdwdWJsaXNoZXIlMjclMkMlMjAlMjdJRUVFJTI3JTI5JTNCJTBBc2V0X2F0dHJpYnV0ZSUyOCUyN2NvbnJhZGkyMDAyYSUyNyUyQyUyMCUyN3NjaG9sYXIyMDE1JTI3JTJDJTIwJTI3MSUyNyUyOSUzQg==\")));\n",
       "    "
      ],
      "text/plain": [
       "<IPython.core.display.Javascript object>"
      ]
     },
     "metadata": {},
     "output_type": "display_data"
    },
    {
     "data": {
      "application/javascript": [
       "$('span:contains(\"# Temp\")').closest('.cell').remove();"
      ],
      "text/plain": [
       "<IPython.core.display.Javascript object>"
      ]
     },
     "metadata": {},
     "output_type": "display_data"
    },
    {
     "data": {
      "application/javascript": [
       "\n",
       "        $('span:contains(\"# Temp\")').closest('.cell').remove();\n",
       "        var code = IPython.notebook.insert_cell_below('code');\n",
       "        code.set_text(decodeURIComponent(window.atob(\"JTIzJTIwVGVtcCUwQWluc2VydCUyOCUyNyUyNyUyNyUwQW9rdGFiYTIwMDhhJTIwJTNEJTIwREIlMjhXb3JrVW5yZWxhdGVkJTI4JTBBJTIwJTIwJTIwJTIwMjAwOCUyQyUyMCUyMk1vUHJvU29mdCU1Q3RleHRyZWdpc3RlcmVkJTNBJTIwQSUyMHNvZnR3YXJlJTIwcHJvY2VzcyUyMG1vZGVsJTIwZm9yJTIwc21hbGwlMjBlbnRlcnByaXNlcyUyMiUyQyUwQSUyMCUyMCUyMCUyMGRpc3BsYXklM0QlMjJva3RhYmElMjIlMkMlMEElMjAlMjAlMjAlMjBhdXRob3JzJTNEJTIyT2t0YWJhJTJDJTIwSGFubmElMjBhbmQlMjBWJUMzJUExenF1ZXolMkMlMjBBbmElMjIlMkMlMEElMjAlMjAlMjAlMjBwbGFjZSUzREZBS0UlMkMlMEElMjAlMjAlMjAlMjBwcCUzRCUyMjE3MC0tMTc2JTIyJTJDJTBBJTIwJTIwJTIwJTIwZW50cnl0eXBlJTNEJTIyaW5jb2xsZWN0aW9uJTIyJTJDJTBBJTIwJTIwJTIwJTIwcHVibGlzaGVyJTNEJTIySUdJJTIwR2xvYmFsJTIyJTJDJTBBJTIwJTIwJTIwJTIwSUQlM0QlMjJva3RhYmEyMDA4bW9wcm9zb2Z0JTIyJTJDJTBBJTIwJTIwJTIwJTIwc2Nob2xhcjIwMTUlM0QlMjIxJTIyJTJDJTBBJTIwJTIwJTIwJTIwcGxhY2V4JTNEJTIyU29mdHdhcmUlMjBQcm9jZXNzJTIwSW1wcm92ZW1lbnQlMjBmb3IlMjBTbWFsbCUyMGFuZCUyME1lZGl1bSUyMEVudGVycHJpc2VzJTNBJTIwdGVjaG5pcXVlcyUyMGFuZCUyMGNhc2UlMjBzdHVkaWVzJTIyJTJDJTBBJTI5JTI5JTBBJTI3JTI3JTI3JTI5JTNC\")));\n",
       "    "
      ],
      "text/plain": [
       "<IPython.core.display.Javascript object>"
      ]
     },
     "metadata": {},
     "output_type": "display_data"
    },
    {
     "data": {
      "application/javascript": [
       "$('span:contains(\"# Temp\")').closest('.cell').remove();"
      ],
      "text/plain": [
       "<IPython.core.display.Javascript object>"
      ]
     },
     "metadata": {},
     "output_type": "display_data"
    },
    {
     "data": {
      "application/javascript": [
       "\n",
       "        $('span:contains(\"# Temp\")').closest('.cell').remove();\n",
       "        var code = IPython.notebook.insert_cell_below('code');\n",
       "        code.set_text(decodeURIComponent(window.atob(\"JTIzJTIwVGVtcCUwQWluc2VydCUyOCUyNyUyNyUyNyUwQW9rdGFiYTIwMDhhJTIwJTNEJTIwREIlMjhXb3JrVW5yZWxhdGVkJTI4JTBBJTIwJTIwJTIwJTIwMjAwOCUyQyUyMCUyMk1vUHJvU29mdCU1Q3RleHRyZWdpc3RlcmVkJTNBJTIwQSUyMHNvZnR3YXJlJTIwcHJvY2VzcyUyMG1vZGVsJTIwZm9yJTIwc21hbGwlMjBlbnRlcnByaXNlcyUyMiUyQyUwQSUyMCUyMCUyMCUyMGRpc3BsYXklM0QlMjJva3RhYmElMjIlMkMlMEElMjAlMjAlMjAlMjBhdXRob3JzJTNEJTIyT2t0YWJhJTJDJTIwSGFubmElMjBhbmQlMjBWJUMzJUExenF1ZXolMkMlMjBBbmElMjIlMkMlMEElMjAlMjAlMjAlMjBwbGFjZSUzREZBS0UlMkMlMEElMjAlMjAlMjAlMjBwcCUzRCUyMjE3MC0tMTc2JTIyJTJDJTBBJTIwJTIwJTIwJTIwZW50cnl0eXBlJTNEJTIyaW5jb2xsZWN0aW9uJTIyJTJDJTBBJTIwJTIwJTIwJTIwcHVibGlzaGVyJTNEJTIySUdJJTIwR2xvYmFsJTIyJTJDJTBBJTIwJTIwJTIwJTIwSUQlM0QlMjJva3RhYmEyMDA4bW9wcm9zb2Z0JTIyJTJDJTBBJTIwJTIwJTIwJTIwc2Nob2xhcjIwMTUlM0QlMjIxJTIyJTJDJTBBJTIwJTIwJTIwJTIwcGxhY2V4JTNEJTIyU29mdHdhcmUlMjBQcm9jZXNzJTIwSW1wcm92ZW1lbnQlMjBmb3IlMjBTbWFsbCUyMGFuZCUyME1lZGl1bSUyMEVudGVycHJpc2VzJTNBJTIwdGVjaG5pcXVlcyUyMGFuZCUyMGNhc2UlMjBzdHVkaWVzJTIyJTJDJTBBJTI5JTI5JTBBJTI3JTI3JTI3JTI5JTNC\")));\n",
       "    "
      ],
      "text/plain": [
       "<IPython.core.display.Javascript object>"
      ]
     },
     "metadata": {},
     "output_type": "display_data"
    },
    {
     "data": {
      "application/javascript": [
       "$('span:contains(\"# Temp\")').closest('.cell').remove();"
      ],
      "text/plain": [
       "<IPython.core.display.Javascript object>"
      ]
     },
     "metadata": {},
     "output_type": "display_data"
    },
    {
     "data": {
      "application/javascript": [
       "\n",
       "        $('span:contains(\"# Temp\")').closest('.cell').remove();\n",
       "        var code = IPython.notebook.insert_cell_below('code');\n",
       "        code.set_text(decodeURIComponent(window.atob(\"JTIzJTIwVGVtcCUwQWluc2VydCUyOCUyNyUyNyUyNyUyNyUyNyUyNyUyOSUzQiUwQXNldF9hdHRyaWJ1dGUlMjglMjdxdW1lcjIwMDhhJTI3JTJDJTIwJTI3cHVibGlzaGVyJTI3JTJDJTIwJTI3RWxzZXZpZXIlMjclMjklM0IlMEFzZXRfYXR0cmlidXRlJTI4JTI3cXVtZXIyMDA4YSUyNyUyQyUyMCUyN3NjaG9sYXIyMDE1JTI3JTJDJTIwJTI3MSUyNyUyOSUzQg==\")));\n",
       "    "
      ],
      "text/plain": [
       "<IPython.core.display.Javascript object>"
      ]
     },
     "metadata": {},
     "output_type": "display_data"
    },
    {
     "data": {
      "application/javascript": [
       "$('span:contains(\"# Temp\")').closest('.cell').remove();"
      ],
      "text/plain": [
       "<IPython.core.display.Javascript object>"
      ]
     },
     "metadata": {},
     "output_type": "display_data"
    },
    {
     "data": {
      "application/javascript": [
       "\n",
       "        $('span:contains(\"# Temp\")').closest('.cell').remove();\n",
       "        var code = IPython.notebook.insert_cell_below('code');\n",
       "        code.set_text(decodeURIComponent(window.atob(\"JTIzJTIwVGVtcCUwQWluc2VydCUyOCUyNyUyNyUyNyUyNyUyNyUyNyUyOSUzQiUwQXNldF9hdHRyaWJ1dGUlMjglMjdxdW1lcjIwMDhhJTI3JTJDJTIwJTI3cHVibGlzaGVyJTI3JTJDJTIwJTI3RWxzZXZpZXIlMjclMjklM0IlMEFzZXRfYXR0cmlidXRlJTI4JTI3cXVtZXIyMDA4YSUyNyUyQyUyMCUyN3NjaG9sYXIyMDE1JTI3JTJDJTIwJTI3MSUyNyUyOSUzQg==\")));\n",
       "    "
      ],
      "text/plain": [
       "<IPython.core.display.Javascript object>"
      ]
     },
     "metadata": {},
     "output_type": "display_data"
    },
    {
     "data": {
      "application/javascript": [
       "$('span:contains(\"# Temp\")').closest('.cell').remove();"
      ],
      "text/plain": [
       "<IPython.core.display.Javascript object>"
      ]
     },
     "metadata": {},
     "output_type": "display_data"
    },
    {
     "data": {
      "application/javascript": [
       "\n",
       "        $('span:contains(\"# Temp\")').closest('.cell').remove();\n",
       "        var code = IPython.notebook.insert_cell_below('code');\n",
       "        code.set_text(decodeURIComponent(window.atob(\"JTIzJTIwVGVtcCUwQWluc2VydCUyOCUyNyUyNyUyNyUwQWhhcm1vbjIwMTBhJTIwJTNEJTIwREIlMjhXb3JrVW5yZWxhdGVkJTI4JTBBJTIwJTIwJTIwJTIwMjAxMCUyQyUyMCUyMkJ1c2luZXNzJTIwcHJvY2VzcyUyMGNoYW5nZSUzQSUyMEElMjBndWlkZSUyMGZvciUyMGJ1c2luZXNzJTIwbWFuYWdlcnMlMjBhbmQlMjBCUE0lMjBhbmQlMjBTaXglMjBTaWdtYSUyMHByb2Zlc3Npb25hbHMlMjIlMkMlMEElMjAlMjAlMjAlMjBkaXNwbGF5JTNEJTIyaGFybW9uJTIyJTJDJTBBJTIwJTIwJTIwJTIwYXV0aG9ycyUzRCUyMkhhcm1vbiUyQyUyMFBhdWwlMjBhbmQlMjBUcmVuZHMlMkMlMjBCdXNpbmVzcyUyMFByb2Nlc3MlMjIlMkMlMEElMjAlMjAlMjAlMjBwbGFjZSUzREJvb2slMkMlMEElMjAlMjAlMjAlMjBlbnRyeXR5cGUlM0QlMjJib29rJTIyJTJDJTBBJTIwJTIwJTIwJTIwcHVibGlzaGVyJTNEJTIyRWxzZXZpZXIlMjIlMkMlMEElMjAlMjAlMjAlMjBJRCUzRCUyMmhhcm1vbjIwMTBidXNpbmVzcyUyMiUyQyUwQSUyMCUyMCUyMCUyMHNjaG9sYXIyMDE1JTNEJTIyMSUyMiUyQyUwQSUyMCUyMCUyMCUyMHBsYWNleCUzRCUyMiUyMiUyQyUwQSUyOSUyOSUwQSUyNyUyNyUyNyUyOSUzQg==\")));\n",
       "    "
      ],
      "text/plain": [
       "<IPython.core.display.Javascript object>"
      ]
     },
     "metadata": {},
     "output_type": "display_data"
    },
    {
     "data": {
      "application/javascript": [
       "$('span:contains(\"# Temp\")').closest('.cell').remove();"
      ],
      "text/plain": [
       "<IPython.core.display.Javascript object>"
      ]
     },
     "metadata": {},
     "output_type": "display_data"
    },
    {
     "data": {
      "application/javascript": [
       "\n",
       "        $('span:contains(\"# Temp\")').closest('.cell').remove();\n",
       "        var code = IPython.notebook.insert_cell_below('code');\n",
       "        code.set_text(decodeURIComponent(window.atob(\"JTIzJTIwVGVtcCUwQWluc2VydCUyOCUyNyUyNyUyNyUwQWhhcm1vbjIwMTBhJTIwJTNEJTIwREIlMjhXb3JrVW5yZWxhdGVkJTI4JTBBJTIwJTIwJTIwJTIwMjAxMCUyQyUyMCUyMkJ1c2luZXNzJTIwcHJvY2VzcyUyMGNoYW5nZSUzQSUyMEElMjBndWlkZSUyMGZvciUyMGJ1c2luZXNzJTIwbWFuYWdlcnMlMjBhbmQlMjBCUE0lMjBhbmQlMjBTaXglMjBTaWdtYSUyMHByb2Zlc3Npb25hbHMlMjIlMkMlMEElMjAlMjAlMjAlMjBkaXNwbGF5JTNEJTIyaGFybW9uJTIyJTJDJTBBJTIwJTIwJTIwJTIwYXV0aG9ycyUzRCUyMkhhcm1vbiUyQyUyMFBhdWwlMjBhbmQlMjBUcmVuZHMlMkMlMjBCdXNpbmVzcyUyMFByb2Nlc3MlMjIlMkMlMEElMjAlMjAlMjAlMjBwbGFjZSUzREJvb2slMkMlMEElMjAlMjAlMjAlMjBlbnRyeXR5cGUlM0QlMjJib29rJTIyJTJDJTBBJTIwJTIwJTIwJTIwcHVibGlzaGVyJTNEJTIyRWxzZXZpZXIlMjIlMkMlMEElMjAlMjAlMjAlMjBJRCUzRCUyMmhhcm1vbjIwMTBidXNpbmVzcyUyMiUyQyUwQSUyMCUyMCUyMCUyMHNjaG9sYXIyMDE1JTNEJTIyMSUyMiUyQyUwQSUyMCUyMCUyMCUyMHBsYWNleCUzRCUyMiUyMiUyQyUwQSUyOSUyOSUwQSUyNyUyNyUyNyUyOSUzQg==\")));\n",
       "    "
      ],
      "text/plain": [
       "<IPython.core.display.Javascript object>"
      ]
     },
     "metadata": {},
     "output_type": "display_data"
    },
    {
     "data": {
      "application/javascript": [
       "$('span:contains(\"# Temp\")').closest('.cell').remove();"
      ],
      "text/plain": [
       "<IPython.core.display.Javascript object>"
      ]
     },
     "metadata": {},
     "output_type": "display_data"
    },
    {
     "data": {
      "application/javascript": [
       "\n",
       "        $('span:contains(\"# Temp\")').closest('.cell').remove();\n",
       "        var code = IPython.notebook.insert_cell_below('code');\n",
       "        code.set_text(decodeURIComponent(window.atob(\"JTIzJTIwVGVtcCUwQWluc2VydCUyOCUyNyUyNyUyNyUwQWx1ZnRtYW4xOTk5YSUyMCUzRCUyMERCJTI4V29ya1VucmVsYXRlZCUyOCUwQSUyMCUyMCUyMCUyMDE5OTklMkMlMjAlMjJBY2hpZXZpbmclMjBhbmQlMjBzdXN0YWluaW5nJTIwYnVzaW5lc3MtSVQlMjBhbGlnbm1lbnQlMjIlMkMlMEElMjAlMjAlMjAlMjBkaXNwbGF5JTNEJTIybHVmdG1hbiUyMiUyQyUwQSUyMCUyMCUyMCUyMGF1dGhvcnMlM0QlMjJMdWZ0bWFuJTJDJTIwSmVycnklMjBhbmQlMjBCcmllciUyQyUyMFRvbSUyMiUyQyUwQSUyMCUyMCUyMCUyMHBsYWNlJTNERkFLRSUyQyUwQSUyMCUyMCUyMCUyMHBwJTNEJTIyMTA5LS0xMjIlMjIlMkMlMEElMjAlMjAlMjAlMjBlbnRyeXR5cGUlM0QlMjJhcnRpY2xlJTIyJTJDJTBBJTIwJTIwJTIwJTIwdm9sdW1lJTNEJTIyNDIlMjIlMkMlMEElMjAlMjAlMjAlMjBudW1iZXIlM0QlMjIxJTIyJTJDJTBBJTIwJTIwJTIwJTIwcHVibGlzaGVyJTNEJTIyU0FHRSUyMFB1YmxpY2F0aW9ucyUyMFNhZ2UlMjBDQSUzQSUyMExvcyUyMEFuZ2VsZXMlMkMlMjBDQSUyMiUyQyUwQSUyMCUyMCUyMCUyMElEJTNEJTIybHVmdG1hbjE5OTlhY2hpZXZpbmclMjIlMkMlMEElMjAlMjAlMjAlMjBzY2hvbGFyMjAxNSUzRCUyMjElMjIlMkMlMEElMjAlMjAlMjAlMjBwbGFjZXglM0QlMjJDYWxpZm9ybmlhJTIwbWFuYWdlbWVudCUyMHJldmlldyUyMiUyQyUwQSUyOSUyOSUwQSUyNyUyNyUyNyUyOSUzQg==\")));\n",
       "    "
      ],
      "text/plain": [
       "<IPython.core.display.Javascript object>"
      ]
     },
     "metadata": {},
     "output_type": "display_data"
    },
    {
     "data": {
      "application/javascript": [
       "$('span:contains(\"# Temp\")').closest('.cell').remove();"
      ],
      "text/plain": [
       "<IPython.core.display.Javascript object>"
      ]
     },
     "metadata": {},
     "output_type": "display_data"
    },
    {
     "data": {
      "application/javascript": [
       "\n",
       "        $('span:contains(\"# Temp\")').closest('.cell').remove();\n",
       "        var code = IPython.notebook.insert_cell_below('code');\n",
       "        code.set_text(decodeURIComponent(window.atob(\"JTIzJTIwVGVtcCUwQWluc2VydCUyOCUyNyUyNyUyNyUwQWx1ZnRtYW4xOTk5YSUyMCUzRCUyMERCJTI4V29ya1VucmVsYXRlZCUyOCUwQSUyMCUyMCUyMCUyMDE5OTklMkMlMjAlMjJBY2hpZXZpbmclMjBhbmQlMjBzdXN0YWluaW5nJTIwYnVzaW5lc3MtSVQlMjBhbGlnbm1lbnQlMjIlMkMlMEElMjAlMjAlMjAlMjBkaXNwbGF5JTNEJTIybHVmdG1hbiUyMiUyQyUwQSUyMCUyMCUyMCUyMGF1dGhvcnMlM0QlMjJMdWZ0bWFuJTJDJTIwSmVycnklMjBhbmQlMjBCcmllciUyQyUyMFRvbSUyMiUyQyUwQSUyMCUyMCUyMCUyMHBsYWNlJTNERkFLRSUyQyUwQSUyMCUyMCUyMCUyMHBwJTNEJTIyMTA5LS0xMjIlMjIlMkMlMEElMjAlMjAlMjAlMjBlbnRyeXR5cGUlM0QlMjJhcnRpY2xlJTIyJTJDJTBBJTIwJTIwJTIwJTIwdm9sdW1lJTNEJTIyNDIlMjIlMkMlMEElMjAlMjAlMjAlMjBudW1iZXIlM0QlMjIxJTIyJTJDJTBBJTIwJTIwJTIwJTIwcHVibGlzaGVyJTNEJTIyU0FHRSUyMFB1YmxpY2F0aW9ucyUyMFNhZ2UlMjBDQSUzQSUyMExvcyUyMEFuZ2VsZXMlMkMlMjBDQSUyMiUyQyUwQSUyMCUyMCUyMCUyMElEJTNEJTIybHVmdG1hbjE5OTlhY2hpZXZpbmclMjIlMkMlMEElMjAlMjAlMjAlMjBzY2hvbGFyMjAxNSUzRCUyMjElMjIlMkMlMEElMjAlMjAlMjAlMjBwbGFjZXglM0QlMjJDYWxpZm9ybmlhJTIwbWFuYWdlbWVudCUyMHJldmlldyUyMiUyQyUwQSUyOSUyOSUwQSUyNyUyNyUyNyUyOSUzQg==\")));\n",
       "    "
      ],
      "text/plain": [
       "<IPython.core.display.Javascript object>"
      ]
     },
     "metadata": {},
     "output_type": "display_data"
    },
    {
     "data": {
      "application/javascript": [
       "$('span:contains(\"# Temp\")').closest('.cell').remove();"
      ],
      "text/plain": [
       "<IPython.core.display.Javascript object>"
      ]
     },
     "metadata": {},
     "output_type": "display_data"
    },
    {
     "data": {
      "application/javascript": [
       "\n",
       "        $('span:contains(\"# Temp\")').closest('.cell').remove();\n",
       "        var code = IPython.notebook.insert_cell_below('code');\n",
       "        code.set_text(decodeURIComponent(window.atob(\"JTIzJTIwVGVtcCUwQWluc2VydCUyOCUyNyUyNyUyNyUyNyUyNyUyNyUyOSUzQiUwQXNldF9hdHRyaWJ1dGUlMjglMjdzb2xpbmdlbjIwMDRhJTI3JTJDJTIwJTI3c2Nob2xhcjIwMTUlMjclMkMlMjAlMjcxJTI3JTI5JTNC\")));\n",
       "    "
      ],
      "text/plain": [
       "<IPython.core.display.Javascript object>"
      ]
     },
     "metadata": {},
     "output_type": "display_data"
    },
    {
     "data": {
      "application/javascript": [
       "$('span:contains(\"# Temp\")').closest('.cell').remove();"
      ],
      "text/plain": [
       "<IPython.core.display.Javascript object>"
      ]
     },
     "metadata": {},
     "output_type": "display_data"
    },
    {
     "data": {
      "application/javascript": [
       "\n",
       "        $('span:contains(\"# Temp\")').closest('.cell').remove();\n",
       "        var code = IPython.notebook.insert_cell_below('code');\n",
       "        code.set_text(decodeURIComponent(window.atob(\"JTIzJTIwVGVtcCUwQWluc2VydCUyOCUyNyUyNyUyNyUyNyUyNyUyNyUyOSUzQiUwQXNldF9hdHRyaWJ1dGUlMjglMjdzb2xpbmdlbjIwMDRhJTI3JTJDJTIwJTI3c2Nob2xhcjIwMTUlMjclMkMlMjAlMjcxJTI3JTI5JTNC\")));\n",
       "    "
      ],
      "text/plain": [
       "<IPython.core.display.Javascript object>"
      ]
     },
     "metadata": {},
     "output_type": "display_data"
    },
    {
     "data": {
      "application/javascript": [
       "$('span:contains(\"# Temp\")').closest('.cell').remove();"
      ],
      "text/plain": [
       "<IPython.core.display.Javascript object>"
      ]
     },
     "metadata": {},
     "output_type": "display_data"
    },
    {
     "data": {
      "application/javascript": [
       "\n",
       "        $('span:contains(\"# Temp\")').closest('.cell').remove();\n",
       "        var code = IPython.notebook.insert_cell_below('code');\n",
       "        code.set_text(decodeURIComponent(window.atob(\"JTIzJTIwVGVtcCUwQWluc2VydCUyOCUyNyUyNyUyNyUyNyUyNyUyNyUyOSUzQiUwQXNldF9hdHRyaWJ1dGUlMjglMjdkeWIlQzMlQTUyMDAwYSUyNyUyQyUyMCUyN3B1Ymxpc2hlciUyNyUyQyUyMCUyN1NwcmluZ2VyJTI3JTI5JTNCJTBBc2V0X2F0dHJpYnV0ZSUyOCUyN2R5YiVDMyVBNTIwMDBhJTI3JTJDJTIwJTI3c2Nob2xhcjIwMTUlMjclMkMlMjAlMjcxJTI3JTI5JTNC\")));\n",
       "    "
      ],
      "text/plain": [
       "<IPython.core.display.Javascript object>"
      ]
     },
     "metadata": {},
     "output_type": "display_data"
    },
    {
     "data": {
      "application/javascript": [
       "$('span:contains(\"# Temp\")').closest('.cell').remove();"
      ],
      "text/plain": [
       "<IPython.core.display.Javascript object>"
      ]
     },
     "metadata": {},
     "output_type": "display_data"
    },
    {
     "data": {
      "application/javascript": [
       "\n",
       "        $('span:contains(\"# Temp\")').closest('.cell').remove();\n",
       "        var code = IPython.notebook.insert_cell_below('code');\n",
       "        code.set_text(decodeURIComponent(window.atob(\"JTIzJTIwVGVtcCUwQWluc2VydCUyOCUyNyUyNyUyNyUyNyUyNyUyNyUyOSUzQiUwQXNldF9hdHRyaWJ1dGUlMjglMjdkeWIlQzMlQTUyMDAwYSUyNyUyQyUyMCUyN3B1Ymxpc2hlciUyNyUyQyUyMCUyN1NwcmluZ2VyJTI3JTI5JTNCJTBBc2V0X2F0dHJpYnV0ZSUyOCUyN2R5YiVDMyVBNTIwMDBhJTI3JTJDJTIwJTI3c2Nob2xhcjIwMTUlMjclMkMlMjAlMjcxJTI3JTI5JTNC\")));\n",
       "    "
      ],
      "text/plain": [
       "<IPython.core.display.Javascript object>"
      ]
     },
     "metadata": {},
     "output_type": "display_data"
    },
    {
     "data": {
      "application/javascript": [
       "$('span:contains(\"# Temp\")').closest('.cell').remove();"
      ],
      "text/plain": [
       "<IPython.core.display.Javascript object>"
      ]
     },
     "metadata": {},
     "output_type": "display_data"
    },
    {
     "data": {
      "application/javascript": [
       "\n",
       "        $('span:contains(\"# Temp\")').closest('.cell').remove();\n",
       "        var code = IPython.notebook.insert_cell_below('code');\n",
       "        code.set_text(decodeURIComponent(window.atob(\"JTIzJTIwVGVtcCUwQWluc2VydCUyOCUyNyUyNyUyNyUwQWFsMjAwM2ElMjAlM0QlMjBEQiUyOFdvcmtVbnJlbGF0ZWQlMjglMEElMjAlMjAlMjAlMjAyMDAzJTJDJTIwJTIyRW50ZXJwcmlzZSUyMHJlc291cmNlJTIwcGxhbm5pbmclM0ElMjBBJTIwdGF4b25vbXklMjBvZiUyMGNyaXRpY2FsJTIwZmFjdG9ycyUyMiUyQyUwQSUyMCUyMCUyMCUyMGRpc3BsYXklM0QlMjJhbCUyMiUyQyUwQSUyMCUyMCUyMCUyMGF1dGhvcnMlM0QlMjJBbC1NYXNoYXJpJTJDJTIwTWFqZWQlMjBhbmQlMjBBbC1NdWRpbWlnaCUyQyUyMEFiZHVsbGFoJTIwYW5kJTIwWmFpcmklMkMlMjBNb2hhbWVkJTIyJTJDJTBBJTIwJTIwJTIwJTIwcGxhY2UlM0RGQUtFJTJDJTBBJTIwJTIwJTIwJTIwcHAlM0QlMjIzNTItLTM2NCUyMiUyQyUwQSUyMCUyMCUyMCUyMGVudHJ5dHlwZSUzRCUyMmFydGljbGUlMjIlMkMlMEElMjAlMjAlMjAlMjB2b2x1bWUlM0QlMjIxNDYlMjIlMkMlMEElMjAlMjAlMjAlMjBudW1iZXIlM0QlMjIyJTIyJTJDJTBBJTIwJTIwJTIwJTIwcHVibGlzaGVyJTNEJTIyRWxzZXZpZXIlMjIlMkMlMEElMjAlMjAlMjAlMjBJRCUzRCUyMmFsMjAwM2VudGVycHJpc2UlMjIlMkMlMEElMjAlMjAlMjAlMjBzY2hvbGFyMjAxNSUzRCUyMjElMjIlMkMlMEElMjAlMjAlMjAlMjBwbGFjZXglM0QlMjJFdXJvcGVhbiUyMGpvdXJuYWwlMjBvZiUyMG9wZXJhdGlvbmFsJTIwcmVzZWFyY2glMjIlMkMlMEElMjklMjklMEElMjclMjclMjclMjklM0I=\")));\n",
       "    "
      ],
      "text/plain": [
       "<IPython.core.display.Javascript object>"
      ]
     },
     "metadata": {},
     "output_type": "display_data"
    },
    {
     "data": {
      "application/javascript": [
       "$('span:contains(\"# Temp\")').closest('.cell').remove();"
      ],
      "text/plain": [
       "<IPython.core.display.Javascript object>"
      ]
     },
     "metadata": {},
     "output_type": "display_data"
    },
    {
     "data": {
      "application/javascript": [
       "\n",
       "        $('span:contains(\"# Temp\")').closest('.cell').remove();\n",
       "        var code = IPython.notebook.insert_cell_below('code');\n",
       "        code.set_text(decodeURIComponent(window.atob(\"JTIzJTIwVGVtcCUwQWluc2VydCUyOCUyNyUyNyUyNyUwQWFsMjAwM2ElMjAlM0QlMjBEQiUyOFdvcmtVbnJlbGF0ZWQlMjglMEElMjAlMjAlMjAlMjAyMDAzJTJDJTIwJTIyRW50ZXJwcmlzZSUyMHJlc291cmNlJTIwcGxhbm5pbmclM0ElMjBBJTIwdGF4b25vbXklMjBvZiUyMGNyaXRpY2FsJTIwZmFjdG9ycyUyMiUyQyUwQSUyMCUyMCUyMCUyMGRpc3BsYXklM0QlMjJhbCUyMiUyQyUwQSUyMCUyMCUyMCUyMGF1dGhvcnMlM0QlMjJBbC1NYXNoYXJpJTJDJTIwTWFqZWQlMjBhbmQlMjBBbC1NdWRpbWlnaCUyQyUyMEFiZHVsbGFoJTIwYW5kJTIwWmFpcmklMkMlMjBNb2hhbWVkJTIyJTJDJTBBJTIwJTIwJTIwJTIwcGxhY2UlM0RGQUtFJTJDJTBBJTIwJTIwJTIwJTIwcHAlM0QlMjIzNTItLTM2NCUyMiUyQyUwQSUyMCUyMCUyMCUyMGVudHJ5dHlwZSUzRCUyMmFydGljbGUlMjIlMkMlMEElMjAlMjAlMjAlMjB2b2x1bWUlM0QlMjIxNDYlMjIlMkMlMEElMjAlMjAlMjAlMjBudW1iZXIlM0QlMjIyJTIyJTJDJTBBJTIwJTIwJTIwJTIwcHVibGlzaGVyJTNEJTIyRWxzZXZpZXIlMjIlMkMlMEElMjAlMjAlMjAlMjBJRCUzRCUyMmFsMjAwM2VudGVycHJpc2UlMjIlMkMlMEElMjAlMjAlMjAlMjBzY2hvbGFyMjAxNSUzRCUyMjElMjIlMkMlMEElMjAlMjAlMjAlMjBwbGFjZXglM0QlMjJFdXJvcGVhbiUyMGpvdXJuYWwlMjBvZiUyMG9wZXJhdGlvbmFsJTIwcmVzZWFyY2glMjIlMkMlMEElMjklMjklMEElMjclMjclMjclMjklM0I=\")));\n",
       "    "
      ],
      "text/plain": [
       "<IPython.core.display.Javascript object>"
      ]
     },
     "metadata": {},
     "output_type": "display_data"
    },
    {
     "data": {
      "application/javascript": [
       "$('span:contains(\"# Temp\")').closest('.cell').remove();"
      ],
      "text/plain": [
       "<IPython.core.display.Javascript object>"
      ]
     },
     "metadata": {},
     "output_type": "display_data"
    },
    {
     "data": {
      "application/javascript": [
       "\n",
       "        $('span:contains(\"# Temp\")').closest('.cell').remove();\n",
       "        var code = IPython.notebook.insert_cell_below('code');\n",
       "        code.set_text(decodeURIComponent(window.atob(\"JTIzJTIwVGVtcCUwQWluc2VydCUyOCUyNyUyNyUyNyUwQWt1bHBhMjAwM2ElMjAlM0QlMjBEQiUyOFdvcmtVbnJlbGF0ZWQlMjglMEElMjAlMjAlMjAlMjAyMDAzJTJDJTIwJTIySW50ZXJwcmV0aW5nJTIwdGhlJTIwQ01NSSUyMCUyOFIlMjklM0ElMjBBJTIwUHJvY2VzcyUyMEltcHJvdmVtZW50JTIwQXBwcm9hY2glMjIlMkMlMEElMjAlMjAlMjAlMjBkaXNwbGF5JTNEJTIya3VscGElMjIlMkMlMEElMjAlMjAlMjAlMjBhdXRob3JzJTNEJTIyS3VscGElMkMlMjBNYXJnYXJldCUyMEslMjBhbmQlMjBKb2huc29uJTJDJTIwS2VudCUyMEElMjIlMkMlMEElMjAlMjAlMjAlMjBwbGFjZSUzREJvb2slMkMlMEElMjAlMjAlMjAlMjBlbnRyeXR5cGUlM0QlMjJib29rJTIyJTJDJTBBJTIwJTIwJTIwJTIwcHVibGlzaGVyJTNEJTIyQXVlcmJhY2glMjBQdWJsaWNhdGlvbnMlMjIlMkMlMEElMjAlMjAlMjAlMjBJRCUzRCUyMmt1bHBhMjAwM2ludGVycHJldGluZyUyMiUyQyUwQSUyMCUyMCUyMCUyMHNjaG9sYXIyMDE1JTNEJTIyMSUyMiUyQyUwQSUyMCUyMCUyMCUyMHBsYWNleCUzRCUyMiUyMiUyQyUwQSUyOSUyOSUwQSUyNyUyNyUyNyUyOSUzQg==\")));\n",
       "    "
      ],
      "text/plain": [
       "<IPython.core.display.Javascript object>"
      ]
     },
     "metadata": {},
     "output_type": "display_data"
    },
    {
     "data": {
      "application/javascript": [
       "$('span:contains(\"# Temp\")').closest('.cell').remove();"
      ],
      "text/plain": [
       "<IPython.core.display.Javascript object>"
      ]
     },
     "metadata": {},
     "output_type": "display_data"
    },
    {
     "data": {
      "application/javascript": [
       "\n",
       "        $('span:contains(\"# Temp\")').closest('.cell').remove();\n",
       "        var code = IPython.notebook.insert_cell_below('code');\n",
       "        code.set_text(decodeURIComponent(window.atob(\"JTIzJTIwVGVtcCUwQWluc2VydCUyOCUyNyUyNyUyNyUwQWt1bHBhMjAwM2ElMjAlM0QlMjBEQiUyOFdvcmtVbnJlbGF0ZWQlMjglMEElMjAlMjAlMjAlMjAyMDAzJTJDJTIwJTIySW50ZXJwcmV0aW5nJTIwdGhlJTIwQ01NSSUyMCUyOFIlMjklM0ElMjBBJTIwUHJvY2VzcyUyMEltcHJvdmVtZW50JTIwQXBwcm9hY2glMjIlMkMlMEElMjAlMjAlMjAlMjBkaXNwbGF5JTNEJTIya3VscGElMjIlMkMlMEElMjAlMjAlMjAlMjBhdXRob3JzJTNEJTIyS3VscGElMkMlMjBNYXJnYXJldCUyMEslMjBhbmQlMjBKb2huc29uJTJDJTIwS2VudCUyMEElMjIlMkMlMEElMjAlMjAlMjAlMjBwbGFjZSUzREJvb2slMkMlMEElMjAlMjAlMjAlMjBlbnRyeXR5cGUlM0QlMjJib29rJTIyJTJDJTBBJTIwJTIwJTIwJTIwcHVibGlzaGVyJTNEJTIyQXVlcmJhY2glMjBQdWJsaWNhdGlvbnMlMjIlMkMlMEElMjAlMjAlMjAlMjBJRCUzRCUyMmt1bHBhMjAwM2ludGVycHJldGluZyUyMiUyQyUwQSUyMCUyMCUyMCUyMHNjaG9sYXIyMDE1JTNEJTIyMSUyMiUyQyUwQSUyMCUyMCUyMCUyMHBsYWNleCUzRCUyMiUyMiUyQyUwQSUyOSUyOSUwQSUyNyUyNyUyNyUyOSUzQg==\")));\n",
       "    "
      ],
      "text/plain": [
       "<IPython.core.display.Javascript object>"
      ]
     },
     "metadata": {},
     "output_type": "display_data"
    },
    {
     "data": {
      "application/javascript": [
       "$('span:contains(\"# Temp\")').closest('.cell').remove();"
      ],
      "text/plain": [
       "<IPython.core.display.Javascript object>"
      ]
     },
     "metadata": {},
     "output_type": "display_data"
    },
    {
     "data": {
      "application/javascript": [
       "\n",
       "        $('span:contains(\"# Temp\")').closest('.cell').remove();\n",
       "        var code = IPython.notebook.insert_cell_below('code');\n",
       "        code.set_text(decodeURIComponent(window.atob(\"JTIzJTIwVGVtcCUwQWluc2VydCUyOCUyNyUyNyUyNyUyNyUyNyUyNyUyOSUzQiUwQXNldF9hdHRyaWJ1dGUlMjglMjd3ZWJlcjIwMDVhJTI3JTJDJTIwJTI3b3JnYW5pemF0aW9uJTI3JTJDJTIwJTI3U3ByaW5nZXIlMjclMjklM0IlMEFzZXRfYXR0cmlidXRlJTI4JTI3d2ViZXIyMDA1YSUyNyUyQyUyMCUyN3NjaG9sYXIyMDE1JTI3JTJDJTIwJTI3MSUyNyUyOSUzQg==\")));\n",
       "    "
      ],
      "text/plain": [
       "<IPython.core.display.Javascript object>"
      ]
     },
     "metadata": {},
     "output_type": "display_data"
    },
    {
     "data": {
      "application/javascript": [
       "$('span:contains(\"# Temp\")').closest('.cell').remove();"
      ],
      "text/plain": [
       "<IPython.core.display.Javascript object>"
      ]
     },
     "metadata": {},
     "output_type": "display_data"
    },
    {
     "data": {
      "application/javascript": [
       "\n",
       "        $('span:contains(\"# Temp\")').closest('.cell').remove();\n",
       "        var code = IPython.notebook.insert_cell_below('code');\n",
       "        code.set_text(decodeURIComponent(window.atob(\"JTIzJTIwVGVtcCUwQWluc2VydCUyOCUyNyUyNyUyNyUyNyUyNyUyNyUyOSUzQiUwQXNldF9hdHRyaWJ1dGUlMjglMjd3ZWJlcjIwMDVhJTI3JTJDJTIwJTI3b3JnYW5pemF0aW9uJTI3JTJDJTIwJTI3U3ByaW5nZXIlMjclMjklM0IlMEFzZXRfYXR0cmlidXRlJTI4JTI3d2ViZXIyMDA1YSUyNyUyQyUyMCUyN3NjaG9sYXIyMDE1JTI3JTJDJTIwJTI3MSUyNyUyOSUzQg==\")));\n",
       "    "
      ],
      "text/plain": [
       "<IPython.core.display.Javascript object>"
      ]
     },
     "metadata": {},
     "output_type": "display_data"
    },
    {
     "data": {
      "application/javascript": [
       "$('span:contains(\"# Temp\")').closest('.cell').remove();"
      ],
      "text/plain": [
       "<IPython.core.display.Javascript object>"
      ]
     },
     "metadata": {},
     "output_type": "display_data"
    },
    {
     "data": {
      "application/javascript": [
       "\n",
       "        $('span:contains(\"# Temp\")').closest('.cell').remove();\n",
       "        var code = IPython.notebook.insert_cell_below('code');\n",
       "        code.set_text(decodeURIComponent(window.atob(\"JTIzJTIwVGVtcCUwQWluc2VydCUyOCUyNyUyNyUyNyUwQWdyZW1iZXJnZW4yMDAxYSUyMCUzRCUyMERCJTI4V29ya1VucmVsYXRlZCUyOCUwQSUyMCUyMCUyMCUyMDIwMDElMkMlMjAlMjJBbGlnbmluZyUyMEJ1c2luZXNzJTIwYW5kJTIwSW5mb3JtYXRpb24lMjBUZWNobm9sb2d5JTIwdGhyb3VnaCUyMHRoZSUyMEJhbGFuY2VkJTIwU2NvcmVjYXJkJTIwYXQlMjBhJTIwTWFqb3IlMjBDYW5hZGlhbiUyMEZpbmFuY2lhbCUyMEdyb3VwJTNBJTIwSXQlMjIlMkMlMEElMjAlMjAlMjAlMjBkaXNwbGF5JTNEJTIyZ3JlbWJlcmdlbiUyMiUyQyUwQSUyMCUyMCUyMCUyMGF1dGhvcnMlM0QlMjJHcmVtYmVyZ2VuJTJDJTIwVyUyMHZhbiUyMGFuZCUyMFNhdWxsJTJDJTIwUm9uYWxkJTIyJTJDJTBBJTIwJTIwJTIwJTIwcGxhY2UlM0RGQUtFJTJDJTBBJTIwJTIwJTIwJTIwcHAlM0QlMjI4MDYxJTIyJTJDJTBBJTIwJTIwJTIwJTIwZW50cnl0eXBlJTNEJTIyaW5wcm9jZWVkaW5ncyUyMiUyQyUwQSUyMCUyMCUyMCUyMG9yZ2FuaXphdGlvbiUzRCUyMklFRUUlMjIlMkMlMEElMjAlMjAlMjAlMjBJRCUzRCUyMmdyZW1iZXJnZW4yMDAxYWxpZ25pbmclMjIlMkMlMEElMjAlMjAlMjAlMjBzY2hvbGFyMjAxNSUzRCUyMjElMjIlMkMlMEElMjAlMjAlMjAlMjBwbGFjZXglM0QlMjJoaWNzcyUyMiUyQyUwQSUyOSUyOSUwQSUyNyUyNyUyNyUyOSUzQg==\")));\n",
       "    "
      ],
      "text/plain": [
       "<IPython.core.display.Javascript object>"
      ]
     },
     "metadata": {},
     "output_type": "display_data"
    },
    {
     "data": {
      "application/javascript": [
       "$('span:contains(\"# Temp\")').closest('.cell').remove();"
      ],
      "text/plain": [
       "<IPython.core.display.Javascript object>"
      ]
     },
     "metadata": {},
     "output_type": "display_data"
    },
    {
     "data": {
      "application/javascript": [
       "\n",
       "        $('span:contains(\"# Temp\")').closest('.cell').remove();\n",
       "        var code = IPython.notebook.insert_cell_below('code');\n",
       "        code.set_text(decodeURIComponent(window.atob(\"JTIzJTIwVGVtcCUwQWluc2VydCUyOCUyNyUyNyUyNyUwQWdyZW1iZXJnZW4yMDAxYSUyMCUzRCUyMERCJTI4V29ya1VucmVsYXRlZCUyOCUwQSUyMCUyMCUyMCUyMDIwMDElMkMlMjAlMjJBbGlnbmluZyUyMEJ1c2luZXNzJTIwYW5kJTIwSW5mb3JtYXRpb24lMjBUZWNobm9sb2d5JTIwdGhyb3VnaCUyMHRoZSUyMEJhbGFuY2VkJTIwU2NvcmVjYXJkJTIwYXQlMjBhJTIwTWFqb3IlMjBDYW5hZGlhbiUyMEZpbmFuY2lhbCUyMEdyb3VwJTNBJTIwSXQlMjIlMkMlMEElMjAlMjAlMjAlMjBkaXNwbGF5JTNEJTIyZ3JlbWJlcmdlbiUyMiUyQyUwQSUyMCUyMCUyMCUyMGF1dGhvcnMlM0QlMjJHcmVtYmVyZ2VuJTJDJTIwVyUyMHZhbiUyMGFuZCUyMFNhdWxsJTJDJTIwUm9uYWxkJTIyJTJDJTBBJTIwJTIwJTIwJTIwcGxhY2UlM0RGQUtFJTJDJTBBJTIwJTIwJTIwJTIwcHAlM0QlMjI4MDYxJTIyJTJDJTBBJTIwJTIwJTIwJTIwZW50cnl0eXBlJTNEJTIyaW5wcm9jZWVkaW5ncyUyMiUyQyUwQSUyMCUyMCUyMCUyMG9yZ2FuaXphdGlvbiUzRCUyMklFRUUlMjIlMkMlMEElMjAlMjAlMjAlMjBJRCUzRCUyMmdyZW1iZXJnZW4yMDAxYWxpZ25pbmclMjIlMkMlMEElMjAlMjAlMjAlMjBzY2hvbGFyMjAxNSUzRCUyMjElMjIlMkMlMEElMjAlMjAlMjAlMjBwbGFjZXglM0QlMjJoaWNzcyUyMiUyQyUwQSUyOSUyOSUwQSUyNyUyNyUyNyUyOSUzQg==\")));\n",
       "    "
      ],
      "text/plain": [
       "<IPython.core.display.Javascript object>"
      ]
     },
     "metadata": {},
     "output_type": "display_data"
    },
    {
     "data": {
      "application/javascript": [
       "$('span:contains(\"# Temp\")').closest('.cell').remove();"
      ],
      "text/plain": [
       "<IPython.core.display.Javascript object>"
      ]
     },
     "metadata": {},
     "output_type": "display_data"
    },
    {
     "data": {
      "application/javascript": [
       "\n",
       "        $('span:contains(\"# Temp\")').closest('.cell').remove();\n",
       "        var code = IPython.notebook.insert_cell_below('code');\n",
       "        code.set_text(decodeURIComponent(window.atob(\"JTIzJTIwVGVtcCUwQWluc2VydCUyOCUyNyUyNyUyNyUwQW5ldWJhdWVyMjAwOWElMjAlM0QlMjBEQiUyOFdvcmtVbnJlbGF0ZWQlMjglMEElMjAlMjAlMjAlMjAyMDA5JTJDJTIwJTIyQW4lMjBlbXBpcmljYWwlMjBzdHVkeSUyMGFib3V0JTIwdGhlJTIwc3RhdHVzJTIwb2YlMjBidXNpbmVzcyUyMHByb2Nlc3MlMjBtYW5hZ2VtZW50JTIyJTJDJTBBJTIwJTIwJTIwJTIwZGlzcGxheSUzRCUyMm5ldWJhdWVyJTIyJTJDJTBBJTIwJTIwJTIwJTIwYXV0aG9ycyUzRCUyMk5ldWJhdWVyJTJDJTIwVGhvbWFzJTIyJTJDJTBBJTIwJTIwJTIwJTIwcGxhY2UlM0RGQUtFJTJDJTBBJTIwJTIwJTIwJTIwcHAlM0QlMjIxNjYtLTE4MyUyMiUyQyUwQSUyMCUyMCUyMCUyMGVudHJ5dHlwZSUzRCUyMmFydGljbGUlMjIlMkMlMEElMjAlMjAlMjAlMjB2b2x1bWUlM0QlMjIxNSUyMiUyQyUwQSUyMCUyMCUyMCUyMG51bWJlciUzRCUyMjIlMjIlMkMlMEElMjAlMjAlMjAlMjBwdWJsaXNoZXIlM0QlMjJFbWVyYWxkJTIwR3JvdXAlMjBQdWJsaXNoaW5nJTIwTGltaXRlZCUyMiUyQyUwQSUyMCUyMCUyMCUyMElEJTNEJTIybmV1YmF1ZXIyMDA5ZW1waXJpY2FsJTIyJTJDJTBBJTIwJTIwJTIwJTIwc2Nob2xhcjIwMTUlM0QlMjIxJTIyJTJDJTBBJTIwJTIwJTIwJTIwcGxhY2V4JTNEJTIyQnVzaW5lc3MlMjBQcm9jZXNzJTIwTWFuYWdlbWVudCUyMEpvdXJuYWwlMjIlMkMlMEElMjklMjklMEElMjclMjclMjclMjklM0I=\")));\n",
       "    "
      ],
      "text/plain": [
       "<IPython.core.display.Javascript object>"
      ]
     },
     "metadata": {},
     "output_type": "display_data"
    },
    {
     "data": {
      "application/javascript": [
       "$('span:contains(\"# Temp\")').closest('.cell').remove();"
      ],
      "text/plain": [
       "<IPython.core.display.Javascript object>"
      ]
     },
     "metadata": {},
     "output_type": "display_data"
    },
    {
     "data": {
      "application/javascript": [
       "\n",
       "        $('span:contains(\"# Temp\")').closest('.cell').remove();\n",
       "        var code = IPython.notebook.insert_cell_below('code');\n",
       "        code.set_text(decodeURIComponent(window.atob(\"JTIzJTIwVGVtcCUwQWluc2VydCUyOCUyNyUyNyUyNyUwQW5ldWJhdWVyMjAwOWElMjAlM0QlMjBEQiUyOFdvcmtVbnJlbGF0ZWQlMjglMEElMjAlMjAlMjAlMjAyMDA5JTJDJTIwJTIyQW4lMjBlbXBpcmljYWwlMjBzdHVkeSUyMGFib3V0JTIwdGhlJTIwc3RhdHVzJTIwb2YlMjBidXNpbmVzcyUyMHByb2Nlc3MlMjBtYW5hZ2VtZW50JTIyJTJDJTBBJTIwJTIwJTIwJTIwZGlzcGxheSUzRCUyMm5ldWJhdWVyJTIyJTJDJTBBJTIwJTIwJTIwJTIwYXV0aG9ycyUzRCUyMk5ldWJhdWVyJTJDJTIwVGhvbWFzJTIyJTJDJTBBJTIwJTIwJTIwJTIwcGxhY2UlM0RGQUtFJTJDJTBBJTIwJTIwJTIwJTIwcHAlM0QlMjIxNjYtLTE4MyUyMiUyQyUwQSUyMCUyMCUyMCUyMGVudHJ5dHlwZSUzRCUyMmFydGljbGUlMjIlMkMlMEElMjAlMjAlMjAlMjB2b2x1bWUlM0QlMjIxNSUyMiUyQyUwQSUyMCUyMCUyMCUyMG51bWJlciUzRCUyMjIlMjIlMkMlMEElMjAlMjAlMjAlMjBwdWJsaXNoZXIlM0QlMjJFbWVyYWxkJTIwR3JvdXAlMjBQdWJsaXNoaW5nJTIwTGltaXRlZCUyMiUyQyUwQSUyMCUyMCUyMCUyMElEJTNEJTIybmV1YmF1ZXIyMDA5ZW1waXJpY2FsJTIyJTJDJTBBJTIwJTIwJTIwJTIwc2Nob2xhcjIwMTUlM0QlMjIxJTIyJTJDJTBBJTIwJTIwJTIwJTIwcGxhY2V4JTNEJTIyQnVzaW5lc3MlMjBQcm9jZXNzJTIwTWFuYWdlbWVudCUyMEpvdXJuYWwlMjIlMkMlMEElMjklMjklMEElMjclMjclMjclMjklM0I=\")));\n",
       "    "
      ],
      "text/plain": [
       "<IPython.core.display.Javascript object>"
      ]
     },
     "metadata": {},
     "output_type": "display_data"
    },
    {
     "data": {
      "application/javascript": [
       "$('span:contains(\"# Temp\")').closest('.cell').remove();"
      ],
      "text/plain": [
       "<IPython.core.display.Javascript object>"
      ]
     },
     "metadata": {},
     "output_type": "display_data"
    },
    {
     "data": {
      "application/javascript": [
       "\n",
       "        $('span:contains(\"# Temp\")').closest('.cell').remove();\n",
       "        var code = IPython.notebook.insert_cell_below('code');\n",
       "        code.set_text(decodeURIComponent(window.atob(\"JTIzJTIwVGVtcCUwQWluc2VydCUyOCUyNyUyNyUyNyUwQXplZTE5OTlhJTIwJTNEJTIwREIlMjhXb3JrVW5yZWxhdGVkJTI4JTBBJTIwJTIwJTIwJTIwMTk5OSUyQyUyMCUyMkFsaWdubWVudCUyMGlzJTIwbm90JTIwZW5vdWdoJTNBJTIwaW50ZWdyYXRpbmclMjBidXNpbmVzcyUyMGFuZCUyMGluZm9ybWF0aW9uJTIwdGVjaG5vbG9neSUyMG1hbmFnZW1lbnQlMjB3aXRoJTIwdGhlJTIwYmFsYW5jZWQlMjBidXNpbmVzcyUyMHNjb3JlY2FyZCUyMiUyQyUwQSUyMCUyMCUyMCUyMGRpc3BsYXklM0QlMjJ6ZWUlMjIlMkMlMEElMjAlMjAlMjAlMjBhdXRob3JzJTNEJTIyVmFuJTIwRGVyJTIwWmVlJTJDJTIwSlRNJTIwYW5kJTIwRGUlMjBKb25nJTJDJTIwQmVyZW5kJTIyJTJDJTBBJTIwJTIwJTIwJTIwcGxhY2UlM0RGQUtFJTJDJTBBJTIwJTIwJTIwJTIwcHAlM0QlMjIxMzctLTE1OCUyMiUyQyUwQSUyMCUyMCUyMCUyMGVudHJ5dHlwZSUzRCUyMmFydGljbGUlMjIlMkMlMEElMjAlMjAlMjAlMjB2b2x1bWUlM0QlMjIxNiUyMiUyQyUwQSUyMCUyMCUyMCUyMG51bWJlciUzRCUyMjIlMjIlMkMlMEElMjAlMjAlMjAlMjBwdWJsaXNoZXIlM0QlMjJUYXlsb3IlMjAlMjYlMjBGcmFuY2lzJTIyJTJDJTBBJTIwJTIwJTIwJTIwSUQlM0QlMjJ2YW4xOTk5YWxpZ25tZW50JTIyJTJDJTBBJTIwJTIwJTIwJTIwc2Nob2xhcjIwMTUlM0QlMjIxJTIyJTJDJTBBJTIwJTIwJTIwJTIwcGxhY2V4JTNEJTIySm91cm5hbCUyMG9mJTIwbWFuYWdlbWVudCUyMGluZm9ybWF0aW9uJTIwc3lzdGVtcyUyMiUyQyUwQSUyOSUyOSUwQSUyNyUyNyUyNyUyOSUzQg==\")));\n",
       "    "
      ],
      "text/plain": [
       "<IPython.core.display.Javascript object>"
      ]
     },
     "metadata": {},
     "output_type": "display_data"
    },
    {
     "data": {
      "application/javascript": [
       "$('span:contains(\"# Temp\")').closest('.cell').remove();"
      ],
      "text/plain": [
       "<IPython.core.display.Javascript object>"
      ]
     },
     "metadata": {},
     "output_type": "display_data"
    },
    {
     "data": {
      "application/javascript": [
       "\n",
       "        $('span:contains(\"# Temp\")').closest('.cell').remove();\n",
       "        var code = IPython.notebook.insert_cell_below('code');\n",
       "        code.set_text(decodeURIComponent(window.atob(\"JTIzJTIwVGVtcCUwQWluc2VydCUyOCUyNyUyNyUyNyUwQXplZTE5OTlhJTIwJTNEJTIwREIlMjhXb3JrVW5yZWxhdGVkJTI4JTBBJTIwJTIwJTIwJTIwMTk5OSUyQyUyMCUyMkFsaWdubWVudCUyMGlzJTIwbm90JTIwZW5vdWdoJTNBJTIwaW50ZWdyYXRpbmclMjBidXNpbmVzcyUyMGFuZCUyMGluZm9ybWF0aW9uJTIwdGVjaG5vbG9neSUyMG1hbmFnZW1lbnQlMjB3aXRoJTIwdGhlJTIwYmFsYW5jZWQlMjBidXNpbmVzcyUyMHNjb3JlY2FyZCUyMiUyQyUwQSUyMCUyMCUyMCUyMGRpc3BsYXklM0QlMjJ6ZWUlMjIlMkMlMEElMjAlMjAlMjAlMjBhdXRob3JzJTNEJTIyVmFuJTIwRGVyJTIwWmVlJTJDJTIwSlRNJTIwYW5kJTIwRGUlMjBKb25nJTJDJTIwQmVyZW5kJTIyJTJDJTBBJTIwJTIwJTIwJTIwcGxhY2UlM0RGQUtFJTJDJTBBJTIwJTIwJTIwJTIwcHAlM0QlMjIxMzctLTE1OCUyMiUyQyUwQSUyMCUyMCUyMCUyMGVudHJ5dHlwZSUzRCUyMmFydGljbGUlMjIlMkMlMEElMjAlMjAlMjAlMjB2b2x1bWUlM0QlMjIxNiUyMiUyQyUwQSUyMCUyMCUyMCUyMG51bWJlciUzRCUyMjIlMjIlMkMlMEElMjAlMjAlMjAlMjBwdWJsaXNoZXIlM0QlMjJUYXlsb3IlMjAlMjYlMjBGcmFuY2lzJTIyJTJDJTBBJTIwJTIwJTIwJTIwSUQlM0QlMjJ2YW4xOTk5YWxpZ25tZW50JTIyJTJDJTBBJTIwJTIwJTIwJTIwc2Nob2xhcjIwMTUlM0QlMjIxJTIyJTJDJTBBJTIwJTIwJTIwJTIwcGxhY2V4JTNEJTIySm91cm5hbCUyMG9mJTIwbWFuYWdlbWVudCUyMGluZm9ybWF0aW9uJTIwc3lzdGVtcyUyMiUyQyUwQSUyOSUyOSUwQSUyNyUyNyUyNyUyOSUzQg==\")));\n",
       "    "
      ],
      "text/plain": [
       "<IPython.core.display.Javascript object>"
      ]
     },
     "metadata": {},
     "output_type": "display_data"
    },
    {
     "data": {
      "application/javascript": [
       "$('span:contains(\"# Temp\")').closest('.cell').remove();"
      ],
      "text/plain": [
       "<IPython.core.display.Javascript object>"
      ]
     },
     "metadata": {},
     "output_type": "display_data"
    },
    {
     "data": {
      "application/javascript": [
       "\n",
       "        $('span:contains(\"# Temp\")').closest('.cell').remove();\n",
       "        var code = IPython.notebook.insert_cell_below('code');\n",
       "        code.set_text(decodeURIComponent(window.atob(\"JTIzJTIwVGVtcCUwQWluc2VydCUyOCUyNyUyNyUyNyUwQWx1ZnRtYW4xOTkzYSUyMCUzRCUyMERCJTI4V29ya1VucmVsYXRlZCUyOCUwQSUyMCUyMCUyMCUyMDE5OTMlMkMlMjAlMjJUcmFuc2Zvcm1pbmclMjB0aGUlMjBlbnRlcnByaXNlJTNBJTIwVGhlJTIwYWxpZ25tZW50JTIwb2YlMjBidXNpbmVzcyUyMGFuZCUyMGluZm9ybWF0aW9uJTIwdGVjaG5vbG9neSUyMHN0cmF0ZWdpZXMlMjIlMkMlMEElMjAlMjAlMjAlMjBkaXNwbGF5JTNEJTIybHVmdG1hbiUyMiUyQyUwQSUyMCUyMCUyMCUyMGF1dGhvcnMlM0QlMjJMdWZ0bWFuJTJDJTIwSmVycnklMjBOLiUyMGFuZCUyMExld2lzJTJDJTIwUGF1bCUyMFIuJTIwYW5kJTIwT2xkYWNoJTJDJTIwU2NvdHQlMjBILiUyMiUyQyUwQSUyMCUyMCUyMCUyMHBsYWNlJTNERkFLRSUyQyUwQSUyMCUyMCUyMCUyMHBwJTNEJTIyMTk4LS0yMjElMjIlMkMlMEElMjAlMjAlMjAlMjBlbnRyeXR5cGUlM0QlMjJhcnRpY2xlJTIyJTJDJTBBJTIwJTIwJTIwJTIwdm9sdW1lJTNEJTIyMzIlMjIlMkMlMEElMjAlMjAlMjAlMjBudW1iZXIlM0QlMjIxJTIyJTJDJTBBJTIwJTIwJTIwJTIwcHVibGlzaGVyJTNEJTIySUJNJTIyJTJDJTBBJTIwJTIwJTIwJTIwSUQlM0QlMjJsdWZ0bWFuMTk5M3RyYW5zZm9ybWluZyUyMiUyQyUwQSUyMCUyMCUyMCUyMHNjaG9sYXIyMDE1JTNEJTIyMSUyMiUyQyUwQSUyMCUyMCUyMCUyMHBsYWNleCUzRCUyMklCTSUyMHN5c3RlbXMlMjBqb3VybmFsJTIyJTJDJTBBJTI5JTI5JTBBJTI3JTI3JTI3JTI5JTNC\")));\n",
       "    "
      ],
      "text/plain": [
       "<IPython.core.display.Javascript object>"
      ]
     },
     "metadata": {},
     "output_type": "display_data"
    },
    {
     "data": {
      "application/javascript": [
       "$('span:contains(\"# Temp\")').closest('.cell').remove();"
      ],
      "text/plain": [
       "<IPython.core.display.Javascript object>"
      ]
     },
     "metadata": {},
     "output_type": "display_data"
    },
    {
     "data": {
      "application/javascript": [
       "\n",
       "        $('span:contains(\"# Temp\")').closest('.cell').remove();\n",
       "        var code = IPython.notebook.insert_cell_below('code');\n",
       "        code.set_text(decodeURIComponent(window.atob(\"JTIzJTIwVGVtcCUwQWluc2VydCUyOCUyNyUyNyUyNyUwQWx1ZnRtYW4xOTkzYSUyMCUzRCUyMERCJTI4V29ya1VucmVsYXRlZCUyOCUwQSUyMCUyMCUyMCUyMDE5OTMlMkMlMjAlMjJUcmFuc2Zvcm1pbmclMjB0aGUlMjBlbnRlcnByaXNlJTNBJTIwVGhlJTIwYWxpZ25tZW50JTIwb2YlMjBidXNpbmVzcyUyMGFuZCUyMGluZm9ybWF0aW9uJTIwdGVjaG5vbG9neSUyMHN0cmF0ZWdpZXMlMjIlMkMlMEElMjAlMjAlMjAlMjBkaXNwbGF5JTNEJTIybHVmdG1hbiUyMiUyQyUwQSUyMCUyMCUyMCUyMGF1dGhvcnMlM0QlMjJMdWZ0bWFuJTJDJTIwSmVycnklMjBOLiUyMGFuZCUyMExld2lzJTJDJTIwUGF1bCUyMFIuJTIwYW5kJTIwT2xkYWNoJTJDJTIwU2NvdHQlMjBILiUyMiUyQyUwQSUyMCUyMCUyMCUyMHBsYWNlJTNERkFLRSUyQyUwQSUyMCUyMCUyMCUyMHBwJTNEJTIyMTk4LS0yMjElMjIlMkMlMEElMjAlMjAlMjAlMjBlbnRyeXR5cGUlM0QlMjJhcnRpY2xlJTIyJTJDJTBBJTIwJTIwJTIwJTIwdm9sdW1lJTNEJTIyMzIlMjIlMkMlMEElMjAlMjAlMjAlMjBudW1iZXIlM0QlMjIxJTIyJTJDJTBBJTIwJTIwJTIwJTIwcHVibGlzaGVyJTNEJTIySUJNJTIyJTJDJTBBJTIwJTIwJTIwJTIwSUQlM0QlMjJsdWZ0bWFuMTk5M3RyYW5zZm9ybWluZyUyMiUyQyUwQSUyMCUyMCUyMCUyMHNjaG9sYXIyMDE1JTNEJTIyMSUyMiUyQyUwQSUyMCUyMCUyMCUyMHBsYWNleCUzRCUyMklCTSUyMHN5c3RlbXMlMjBqb3VybmFsJTIyJTJDJTBBJTI5JTI5JTBBJTI3JTI3JTI3JTI5JTNC\")));\n",
       "    "
      ],
      "text/plain": [
       "<IPython.core.display.Javascript object>"
      ]
     },
     "metadata": {},
     "output_type": "display_data"
    },
    {
     "data": {
      "application/javascript": [
       "$('span:contains(\"# Temp\")').closest('.cell').remove();"
      ],
      "text/plain": [
       "<IPython.core.display.Javascript object>"
      ]
     },
     "metadata": {},
     "output_type": "display_data"
    },
    {
     "data": {
      "application/javascript": [
       "\n",
       "        $('span:contains(\"# Temp\")').closest('.cell').remove();\n",
       "        var code = IPython.notebook.insert_cell_below('code');\n",
       "        code.set_text(decodeURIComponent(window.atob(\"JTIzJTIwVGVtcCUwQWluc2VydCUyOCUyNyUyNyUyNyUwQWlpaTIwMDNhJTIwJTNEJTIwREIlMjhXb3JrVW5yZWxhdGVkJTI4JTBBJTIwJTIwJTIwJTIwMjAwMyUyQyUyMCUyMkltcGxlbWVudGluZyUyMHNpeCUyMHNpZ21hJTNBJTIwc21hcnRlciUyMHNvbHV0aW9ucyUyMHVzaW5nJTIwc3RhdGlzdGljYWwlMjBtZXRob2RzJTIyJTJDJTBBJTIwJTIwJTIwJTIwZGlzcGxheSUzRCUyMmlpaSUyMiUyQyUwQSUyMCUyMCUyMCUyMGF1dGhvcnMlM0QlMjJCcmV5Zm9nbGUlMjBJSUklMkMlMjBGb3JyZXN0JTIwVyUyMiUyQyUwQSUyMCUyMCUyMCUyMHBsYWNlJTNEQm9vayUyQyUwQSUyMCUyMCUyMCUyMGVudHJ5dHlwZSUzRCUyMmJvb2slMjIlMkMlMEElMjAlMjAlMjAlMjBwdWJsaXNoZXIlM0QlMjJKb2huJTIwV2lsZXklMjAlMjYlMjBTb25zJTIyJTJDJTBBJTIwJTIwJTIwJTIwSUQlM0QlMjJicmV5Zm9nbGUyMDAzaW1wbGVtZW50aW5nJTIyJTJDJTBBJTIwJTIwJTIwJTIwc2Nob2xhcjIwMTUlM0QlMjIxJTIyJTJDJTBBJTIwJTIwJTIwJTIwcGxhY2V4JTNEJTIyJTIyJTJDJTBBJTI5JTI5JTBBJTI3JTI3JTI3JTI5JTNC\")));\n",
       "    "
      ],
      "text/plain": [
       "<IPython.core.display.Javascript object>"
      ]
     },
     "metadata": {},
     "output_type": "display_data"
    },
    {
     "data": {
      "application/javascript": [
       "$('span:contains(\"# Temp\")').closest('.cell').remove();"
      ],
      "text/plain": [
       "<IPython.core.display.Javascript object>"
      ]
     },
     "metadata": {},
     "output_type": "display_data"
    },
    {
     "data": {
      "application/javascript": [
       "\n",
       "        $('span:contains(\"# Temp\")').closest('.cell').remove();\n",
       "        var code = IPython.notebook.insert_cell_below('code');\n",
       "        code.set_text(decodeURIComponent(window.atob(\"JTIzJTIwVGVtcCUwQWluc2VydCUyOCUyNyUyNyUyNyUwQWlpaTIwMDNhJTIwJTNEJTIwREIlMjhXb3JrVW5yZWxhdGVkJTI4JTBBJTIwJTIwJTIwJTIwMjAwMyUyQyUyMCUyMkltcGxlbWVudGluZyUyMHNpeCUyMHNpZ21hJTNBJTIwc21hcnRlciUyMHNvbHV0aW9ucyUyMHVzaW5nJTIwc3RhdGlzdGljYWwlMjBtZXRob2RzJTIyJTJDJTBBJTIwJTIwJTIwJTIwZGlzcGxheSUzRCUyMmlpaSUyMiUyQyUwQSUyMCUyMCUyMCUyMGF1dGhvcnMlM0QlMjJCcmV5Zm9nbGUlMjBJSUklMkMlMjBGb3JyZXN0JTIwVyUyMiUyQyUwQSUyMCUyMCUyMCUyMHBsYWNlJTNEQm9vayUyQyUwQSUyMCUyMCUyMCUyMGVudHJ5dHlwZSUzRCUyMmJvb2slMjIlMkMlMEElMjAlMjAlMjAlMjBwdWJsaXNoZXIlM0QlMjJKb2huJTIwV2lsZXklMjAlMjYlMjBTb25zJTIyJTJDJTBBJTIwJTIwJTIwJTIwSUQlM0QlMjJicmV5Zm9nbGUyMDAzaW1wbGVtZW50aW5nJTIyJTJDJTBBJTIwJTIwJTIwJTIwc2Nob2xhcjIwMTUlM0QlMjIxJTIyJTJDJTBBJTIwJTIwJTIwJTIwcGxhY2V4JTNEJTIyJTIyJTJDJTBBJTI5JTI5JTBBJTI3JTI3JTI3JTI5JTNC\")));\n",
       "    "
      ],
      "text/plain": [
       "<IPython.core.display.Javascript object>"
      ]
     },
     "metadata": {},
     "output_type": "display_data"
    },
    {
     "data": {
      "application/javascript": [
       "$('span:contains(\"# Temp\")').closest('.cell').remove();"
      ],
      "text/plain": [
       "<IPython.core.display.Javascript object>"
      ]
     },
     "metadata": {},
     "output_type": "display_data"
    },
    {
     "data": {
      "application/javascript": [
       "\n",
       "        $('span:contains(\"# Temp\")').closest('.cell').remove();\n",
       "        var code = IPython.notebook.insert_cell_below('code');\n",
       "        code.set_text(decodeURIComponent(window.atob(\"JTIzJTIwVGVtcCUwQWluc2VydCUyOCUyNyUyNyUyNyUwQW9zdGVyd2FsZGVyMjAwNWElMjAlM0QlMjBEQiUyOFdvcmtVbnJlbGF0ZWQlMjglMEElMjAlMjAlMjAlMjAyMDA1JTJDJTIwJTIyQ2xhcmlmeWluZyUyMGJ1c2luZXNzJTIwbW9kZWxzJTNBJTIwT3JpZ2lucyUyQyUyMHByZXNlbnQlMkMlMjBhbmQlMjBmdXR1cmUlMjBvZiUyMHRoZSUyMGNvbmNlcHQlMjIlMkMlMEElMjAlMjAlMjAlMjBkaXNwbGF5JTNEJTIyb3N0ZXJ3YWxkZXIlMjIlMkMlMEElMjAlMjAlMjAlMjBhdXRob3JzJTNEJTIyT3N0ZXJ3YWxkZXIlMkMlMjBBbGV4YW5kZXIlMjBhbmQlMjBQaWduZXVyJTJDJTIwWXZlcyUyMGFuZCUyMFR1Y2NpJTJDJTIwQ2hyaXN0b3BoZXIlMjBMJTIyJTJDJTBBJTIwJTIwJTIwJTIwcGxhY2UlM0RGQUtFJTJDJTBBJTIwJTIwJTIwJTIwcHAlM0QlMjIxJTIyJTJDJTBBJTIwJTIwJTIwJTIwZW50cnl0eXBlJTNEJTIyYXJ0aWNsZSUyMiUyQyUwQSUyMCUyMCUyMCUyMHZvbHVtZSUzRCUyMjE2JTIyJTJDJTBBJTIwJTIwJTIwJTIwbnVtYmVyJTNEJTIyMSUyMiUyQyUwQSUyMCUyMCUyMCUyMElEJTNEJTIyb3N0ZXJ3YWxkZXIyMDA1Y2xhcmlmeWluZyUyMiUyQyUwQSUyMCUyMCUyMCUyMHNjaG9sYXIyMDE1JTNEJTIyMSUyMiUyQyUwQSUyMCUyMCUyMCUyMHBsYWNleCUzRCUyMkNvbW11bmljYXRpb25zJTIwb2YlMjB0aGUlMjBhc3NvY2lhdGlvbiUyMGZvciUyMEluZm9ybWF0aW9uJTIwU3lzdGVtcyUyMiUyQyUwQSUyOSUyOSUwQSUyNyUyNyUyNyUyOSUzQg==\")));\n",
       "    "
      ],
      "text/plain": [
       "<IPython.core.display.Javascript object>"
      ]
     },
     "metadata": {},
     "output_type": "display_data"
    },
    {
     "data": {
      "application/javascript": [
       "$('span:contains(\"# Temp\")').closest('.cell').remove();"
      ],
      "text/plain": [
       "<IPython.core.display.Javascript object>"
      ]
     },
     "metadata": {},
     "output_type": "display_data"
    },
    {
     "data": {
      "application/javascript": [
       "\n",
       "        $('span:contains(\"# Temp\")').closest('.cell').remove();\n",
       "        var code = IPython.notebook.insert_cell_below('code');\n",
       "        code.set_text(decodeURIComponent(window.atob(\"JTIzJTIwVGVtcCUwQWluc2VydCUyOCUyNyUyNyUyNyUwQW9zdGVyd2FsZGVyMjAwNWElMjAlM0QlMjBEQiUyOFdvcmtVbnJlbGF0ZWQlMjglMEElMjAlMjAlMjAlMjAyMDA1JTJDJTIwJTIyQ2xhcmlmeWluZyUyMGJ1c2luZXNzJTIwbW9kZWxzJTNBJTIwT3JpZ2lucyUyQyUyMHByZXNlbnQlMkMlMjBhbmQlMjBmdXR1cmUlMjBvZiUyMHRoZSUyMGNvbmNlcHQlMjIlMkMlMEElMjAlMjAlMjAlMjBkaXNwbGF5JTNEJTIyb3N0ZXJ3YWxkZXIlMjIlMkMlMEElMjAlMjAlMjAlMjBhdXRob3JzJTNEJTIyT3N0ZXJ3YWxkZXIlMkMlMjBBbGV4YW5kZXIlMjBhbmQlMjBQaWduZXVyJTJDJTIwWXZlcyUyMGFuZCUyMFR1Y2NpJTJDJTIwQ2hyaXN0b3BoZXIlMjBMJTIyJTJDJTBBJTIwJTIwJTIwJTIwcGxhY2UlM0RGQUtFJTJDJTBBJTIwJTIwJTIwJTIwcHAlM0QlMjIxJTIyJTJDJTBBJTIwJTIwJTIwJTIwZW50cnl0eXBlJTNEJTIyYXJ0aWNsZSUyMiUyQyUwQSUyMCUyMCUyMCUyMHZvbHVtZSUzRCUyMjE2JTIyJTJDJTBBJTIwJTIwJTIwJTIwbnVtYmVyJTNEJTIyMSUyMiUyQyUwQSUyMCUyMCUyMCUyMElEJTNEJTIyb3N0ZXJ3YWxkZXIyMDA1Y2xhcmlmeWluZyUyMiUyQyUwQSUyMCUyMCUyMCUyMHNjaG9sYXIyMDE1JTNEJTIyMSUyMiUyQyUwQSUyMCUyMCUyMCUyMHBsYWNleCUzRCUyMkNvbW11bmljYXRpb25zJTIwb2YlMjB0aGUlMjBhc3NvY2lhdGlvbiUyMGZvciUyMEluZm9ybWF0aW9uJTIwU3lzdGVtcyUyMiUyQyUwQSUyOSUyOSUwQSUyNyUyNyUyNyUyOSUzQg==\")));\n",
       "    "
      ],
      "text/plain": [
       "<IPython.core.display.Javascript object>"
      ]
     },
     "metadata": {},
     "output_type": "display_data"
    },
    {
     "data": {
      "application/javascript": [
       "$('span:contains(\"# Temp\")').closest('.cell').remove();"
      ],
      "text/plain": [
       "<IPython.core.display.Javascript object>"
      ]
     },
     "metadata": {},
     "output_type": "display_data"
    },
    {
     "data": {
      "application/javascript": [
       "\n",
       "        $('span:contains(\"# Temp\")').closest('.cell').remove();\n",
       "        var code = IPython.notebook.insert_cell_below('code');\n",
       "        code.set_text(decodeURIComponent(window.atob(\"JTIzJTIwVGVtcCUwQWluc2VydCUyOCUyNyUyNyUyNyUwQWhhcm1vbjIwMDNhJTIwJTNEJTIwREIlMjhXb3JrVW5yZWxhdGVkJTI4JTBBJTIwJTIwJTIwJTIwMjAwMyUyQyUyMCUyMkJ1c2luZXNzJTIwcHJvY2VzcyUyMGNoYW5nZSUzQSUyMGElMjBtYW5hZ2VyJTI3cyUyMGd1aWRlJTIwdG8lMjBpbXByb3ZpbmclMkMlMjByZWRlc2lnbmluZyUyQyUyMGFuZCUyMGF1dG9tYXRpbmclMjBwcm9jZXNzZXMlMjIlMkMlMEElMjAlMjAlMjAlMjBkaXNwbGF5JTNEJTIyaGFybW9uJTIyJTJDJTBBJTIwJTIwJTIwJTIwYXV0aG9ycyUzRCUyMkhhcm1vbiUyQyUyMFBhdWwlMjIlMkMlMEElMjAlMjAlMjAlMjBwbGFjZSUzREJvb2slMkMlMEElMjAlMjAlMjAlMjBlbnRyeXR5cGUlM0QlMjJib29rJTIyJTJDJTBBJTIwJTIwJTIwJTIwcHVibGlzaGVyJTNEJTIyTW9yZ2FuJTIwS2F1Zm1hbm4lMjIlMkMlMEElMjAlMjAlMjAlMjBJRCUzRCUyMmhhcm1vbjIwMDNidXNpbmVzcyUyMiUyQyUwQSUyMCUyMCUyMCUyMHNjaG9sYXIyMDE1JTNEJTIyMSUyMiUyQyUwQSUyMCUyMCUyMCUyMHBsYWNleCUzRCUyMiUyMiUyQyUwQSUyOSUyOSUwQSUyNyUyNyUyNyUyOSUzQg==\")));\n",
       "    "
      ],
      "text/plain": [
       "<IPython.core.display.Javascript object>"
      ]
     },
     "metadata": {},
     "output_type": "display_data"
    },
    {
     "data": {
      "application/javascript": [
       "$('span:contains(\"# Temp\")').closest('.cell').remove();"
      ],
      "text/plain": [
       "<IPython.core.display.Javascript object>"
      ]
     },
     "metadata": {},
     "output_type": "display_data"
    },
    {
     "data": {
      "application/javascript": [
       "\n",
       "        $('span:contains(\"# Temp\")').closest('.cell').remove();\n",
       "        var code = IPython.notebook.insert_cell_below('code');\n",
       "        code.set_text(decodeURIComponent(window.atob(\"JTIzJTIwVGVtcCUwQWluc2VydCUyOCUyNyUyNyUyNyUwQWhhcm1vbjIwMDNhJTIwJTNEJTIwREIlMjhXb3JrVW5yZWxhdGVkJTI4JTBBJTIwJTIwJTIwJTIwMjAwMyUyQyUyMCUyMkJ1c2luZXNzJTIwcHJvY2VzcyUyMGNoYW5nZSUzQSUyMGElMjBtYW5hZ2VyJTI3cyUyMGd1aWRlJTIwdG8lMjBpbXByb3ZpbmclMkMlMjByZWRlc2lnbmluZyUyQyUyMGFuZCUyMGF1dG9tYXRpbmclMjBwcm9jZXNzZXMlMjIlMkMlMEElMjAlMjAlMjAlMjBkaXNwbGF5JTNEJTIyaGFybW9uJTIyJTJDJTBBJTIwJTIwJTIwJTIwYXV0aG9ycyUzRCUyMkhhcm1vbiUyQyUyMFBhdWwlMjIlMkMlMEElMjAlMjAlMjAlMjBwbGFjZSUzREJvb2slMkMlMEElMjAlMjAlMjAlMjBlbnRyeXR5cGUlM0QlMjJib29rJTIyJTJDJTBBJTIwJTIwJTIwJTIwcHVibGlzaGVyJTNEJTIyTW9yZ2FuJTIwS2F1Zm1hbm4lMjIlMkMlMEElMjAlMjAlMjAlMjBJRCUzRCUyMmhhcm1vbjIwMDNidXNpbmVzcyUyMiUyQyUwQSUyMCUyMCUyMCUyMHNjaG9sYXIyMDE1JTNEJTIyMSUyMiUyQyUwQSUyMCUyMCUyMCUyMHBsYWNleCUzRCUyMiUyMiUyQyUwQSUyOSUyOSUwQSUyNyUyNyUyNyUyOSUzQg==\")));\n",
       "    "
      ],
      "text/plain": [
       "<IPython.core.display.Javascript object>"
      ]
     },
     "metadata": {},
     "output_type": "display_data"
    },
    {
     "data": {
      "application/javascript": [
       "$('span:contains(\"# Temp\")').closest('.cell').remove();"
      ],
      "text/plain": [
       "<IPython.core.display.Javascript object>"
      ]
     },
     "metadata": {},
     "output_type": "display_data"
    },
    {
     "data": {
      "application/javascript": [
       "\n",
       "        $('span:contains(\"# Temp\")').closest('.cell').remove();\n",
       "        var code = IPython.notebook.insert_cell_below('code');\n",
       "        code.set_text(decodeURIComponent(window.atob(\"JTIzJTIwVGVtcCUwQWluc2VydCUyOCUyNyUyNyUyNyUwQWd1aGExOTkzYSUyMCUzRCUyMERCJTI4V29ya1VucmVsYXRlZCUyOCUwQSUyMCUyMCUyMCUyMDE5OTMlMkMlMjAlMjJCdXNpbmVzcyUyMHByb2Nlc3MlMjByZWVuZ2luZWVyaW5nJTNBJTIwYnVpbGRpbmclMjBhJTIwY29tcHJlaGVuc2l2ZSUyMG1ldGhvZG9sb2d5JTIyJTJDJTBBJTIwJTIwJTIwJTIwZGlzcGxheSUzRCUyMmd1aGElMjIlMkMlMEElMjAlMjAlMjAlMjBhdXRob3JzJTNEJTIyR3VoYSUyQyUyMFN1YmFzaGlzaCUyMGFuZCUyMEtldHRpbmdlciUyQyUyMFdpbGxpYW0lMjBKJTIwYW5kJTIwVGVuZyUyQyUyMEphbWVzJTIwVEMlMjIlMkMlMEElMjAlMjAlMjAlMjBwbGFjZSUzREZBS0UlMkMlMEElMjAlMjAlMjAlMjBwcCUzRCUyMjEzLS0yMiUyMiUyQyUwQSUyMCUyMCUyMCUyMGVudHJ5dHlwZSUzRCUyMmFydGljbGUlMjIlMkMlMEElMjAlMjAlMjAlMjB2b2x1bWUlM0QlMjIxMCUyMiUyQyUwQSUyMCUyMCUyMCUyMG51bWJlciUzRCUyMjMlMjIlMkMlMEElMjAlMjAlMjAlMjBwdWJsaXNoZXIlM0QlMjJUYXlsb3IlMjAlMjYlMjBGcmFuY2lzJTIyJTJDJTBBJTIwJTIwJTIwJTIwSUQlM0QlMjJndWhhMTk5M2J1c2luZXNzJTIyJTJDJTBBJTIwJTIwJTIwJTIwc2Nob2xhcjIwMTUlM0QlMjIxJTIyJTJDJTBBJTIwJTIwJTIwJTIwcGxhY2V4JTNEJTIySW5mb3JtYXRpb24lMjBzeXN0ZW1zJTIwbWFuYWdlbWVudCUyMiUyQyUwQSUyOSUyOSUwQSUyNyUyNyUyNyUyOSUzQg==\")));\n",
       "    "
      ],
      "text/plain": [
       "<IPython.core.display.Javascript object>"
      ]
     },
     "metadata": {},
     "output_type": "display_data"
    },
    {
     "data": {
      "application/javascript": [
       "$('span:contains(\"# Temp\")').closest('.cell').remove();"
      ],
      "text/plain": [
       "<IPython.core.display.Javascript object>"
      ]
     },
     "metadata": {},
     "output_type": "display_data"
    },
    {
     "data": {
      "application/javascript": [
       "\n",
       "        $('span:contains(\"# Temp\")').closest('.cell').remove();\n",
       "        var code = IPython.notebook.insert_cell_below('code');\n",
       "        code.set_text(decodeURIComponent(window.atob(\"JTIzJTIwVGVtcCUwQWluc2VydCUyOCUyNyUyNyUyNyUwQWd1aGExOTkzYSUyMCUzRCUyMERCJTI4V29ya1VucmVsYXRlZCUyOCUwQSUyMCUyMCUyMCUyMDE5OTMlMkMlMjAlMjJCdXNpbmVzcyUyMHByb2Nlc3MlMjByZWVuZ2luZWVyaW5nJTNBJTIwYnVpbGRpbmclMjBhJTIwY29tcHJlaGVuc2l2ZSUyMG1ldGhvZG9sb2d5JTIyJTJDJTBBJTIwJTIwJTIwJTIwZGlzcGxheSUzRCUyMmd1aGElMjIlMkMlMEElMjAlMjAlMjAlMjBhdXRob3JzJTNEJTIyR3VoYSUyQyUyMFN1YmFzaGlzaCUyMGFuZCUyMEtldHRpbmdlciUyQyUyMFdpbGxpYW0lMjBKJTIwYW5kJTIwVGVuZyUyQyUyMEphbWVzJTIwVEMlMjIlMkMlMEElMjAlMjAlMjAlMjBwbGFjZSUzREZBS0UlMkMlMEElMjAlMjAlMjAlMjBwcCUzRCUyMjEzLS0yMiUyMiUyQyUwQSUyMCUyMCUyMCUyMGVudHJ5dHlwZSUzRCUyMmFydGljbGUlMjIlMkMlMEElMjAlMjAlMjAlMjB2b2x1bWUlM0QlMjIxMCUyMiUyQyUwQSUyMCUyMCUyMCUyMG51bWJlciUzRCUyMjMlMjIlMkMlMEElMjAlMjAlMjAlMjBwdWJsaXNoZXIlM0QlMjJUYXlsb3IlMjAlMjYlMjBGcmFuY2lzJTIyJTJDJTBBJTIwJTIwJTIwJTIwSUQlM0QlMjJndWhhMTk5M2J1c2luZXNzJTIyJTJDJTBBJTIwJTIwJTIwJTIwc2Nob2xhcjIwMTUlM0QlMjIxJTIyJTJDJTBBJTIwJTIwJTIwJTIwcGxhY2V4JTNEJTIySW5mb3JtYXRpb24lMjBzeXN0ZW1zJTIwbWFuYWdlbWVudCUyMiUyQyUwQSUyOSUyOSUwQSUyNyUyNyUyNyUyOSUzQg==\")));\n",
       "    "
      ],
      "text/plain": [
       "<IPython.core.display.Javascript object>"
      ]
     },
     "metadata": {},
     "output_type": "display_data"
    },
    {
     "data": {
      "application/javascript": [
       "$('span:contains(\"# Temp\")').closest('.cell').remove();"
      ],
      "text/plain": [
       "<IPython.core.display.Javascript object>"
      ]
     },
     "metadata": {},
     "output_type": "display_data"
    },
    {
     "data": {
      "application/javascript": [
       "\n",
       "        $('span:contains(\"# Temp\")').closest('.cell').remove();\n",
       "        var code = IPython.notebook.insert_cell_below('code');\n",
       "        code.set_text(decodeURIComponent(window.atob(\"JTIzJTIwVGVtcCUwQWluc2VydCUyOCUyNyUyNyUyNyUwQXJpY2hhcmRzb24yMDA3YSUyMCUzRCUyMERCJTI4V29ya1VucmVsYXRlZCUyOCUwQSUyMCUyMCUyMCUyMDIwMDclMkMlMjAlMjJHdWVzdCUyMGVkaXRvcnMlMjclMjBpbnRyb2R1Y3Rpb24lM0ElMjBXaHklMjBhcmUlMjBzbWFsbCUyMHNvZnR3YXJlJTIwb3JnYW5pemF0aW9ucyUyMGRpZmZlcmVudCUzRiUyMiUyQyUwQSUyMCUyMCUyMCUyMGRpc3BsYXklM0QlMjJyaWNoYXJkc29uJTIyJTJDJTBBJTIwJTIwJTIwJTIwYXV0aG9ycyUzRCUyMlJpY2hhcmRzb24lMkMlMjBJdGElMjBhbmQlMjBWb24lMjBXYW5nZW5oZWltJTJDJTIwQ2hyaXN0aWFuZSUyMEdyZXNzZSUyMiUyQyUwQSUyMCUyMCUyMCUyMHBsYWNlJTNESUVFRVMlMkMlMEElMjAlMjAlMjAlMjBwcCUzRCUyMjE4LS0yMiUyMiUyQyUwQSUyMCUyMCUyMCUyMGVudHJ5dHlwZSUzRCUyMmFydGljbGUlMjIlMkMlMEElMjAlMjAlMjAlMjB2b2x1bWUlM0QlMjIyNCUyMiUyQyUwQSUyMCUyMCUyMCUyMG51bWJlciUzRCUyMjElMjIlMkMlMEElMjAlMjAlMjAlMjBwdWJsaXNoZXIlM0QlMjJJRUVFJTIyJTJDJTBBJTIwJTIwJTIwJTIwSUQlM0QlMjJyaWNoYXJkc29uMjAwN2d1ZXN0JTIyJTJDJTBBJTIwJTIwJTIwJTIwc2Nob2xhcjIwMTUlM0QlMjIxJTIyJTJDJTBBJTIwJTIwJTIwJTIwcGxhY2V4JTNEJTIySUVFRSUyMHNvZnR3YXJlJTIyJTJDJTBBJTI5JTI5JTBBJTI3JTI3JTI3JTI5JTNC\")));\n",
       "    "
      ],
      "text/plain": [
       "<IPython.core.display.Javascript object>"
      ]
     },
     "metadata": {},
     "output_type": "display_data"
    },
    {
     "data": {
      "application/javascript": [
       "$('span:contains(\"# Temp\")').closest('.cell').remove();"
      ],
      "text/plain": [
       "<IPython.core.display.Javascript object>"
      ]
     },
     "metadata": {},
     "output_type": "display_data"
    },
    {
     "data": {
      "application/javascript": [
       "\n",
       "        $('span:contains(\"# Temp\")').closest('.cell').remove();\n",
       "        var code = IPython.notebook.insert_cell_below('code');\n",
       "        code.set_text(decodeURIComponent(window.atob(\"JTIzJTIwVGVtcCUwQWluc2VydCUyOCUyNyUyNyUyNyUwQXJpY2hhcmRzb24yMDA3YSUyMCUzRCUyMERCJTI4V29ya1VucmVsYXRlZCUyOCUwQSUyMCUyMCUyMCUyMDIwMDclMkMlMjAlMjJHdWVzdCUyMGVkaXRvcnMlMjclMjBpbnRyb2R1Y3Rpb24lM0ElMjBXaHklMjBhcmUlMjBzbWFsbCUyMHNvZnR3YXJlJTIwb3JnYW5pemF0aW9ucyUyMGRpZmZlcmVudCUzRiUyMiUyQyUwQSUyMCUyMCUyMCUyMGRpc3BsYXklM0QlMjJyaWNoYXJkc29uJTIyJTJDJTBBJTIwJTIwJTIwJTIwYXV0aG9ycyUzRCUyMlJpY2hhcmRzb24lMkMlMjBJdGElMjBhbmQlMjBWb24lMjBXYW5nZW5oZWltJTJDJTIwQ2hyaXN0aWFuZSUyMEdyZXNzZSUyMiUyQyUwQSUyMCUyMCUyMCUyMHBsYWNlJTNESUVFRVMlMkMlMEElMjAlMjAlMjAlMjBwcCUzRCUyMjE4LS0yMiUyMiUyQyUwQSUyMCUyMCUyMCUyMGVudHJ5dHlwZSUzRCUyMmFydGljbGUlMjIlMkMlMEElMjAlMjAlMjAlMjB2b2x1bWUlM0QlMjIyNCUyMiUyQyUwQSUyMCUyMCUyMCUyMG51bWJlciUzRCUyMjElMjIlMkMlMEElMjAlMjAlMjAlMjBwdWJsaXNoZXIlM0QlMjJJRUVFJTIyJTJDJTBBJTIwJTIwJTIwJTIwSUQlM0QlMjJyaWNoYXJkc29uMjAwN2d1ZXN0JTIyJTJDJTBBJTIwJTIwJTIwJTIwc2Nob2xhcjIwMTUlM0QlMjIxJTIyJTJDJTBBJTIwJTIwJTIwJTIwcGxhY2V4JTNEJTIySUVFRSUyMHNvZnR3YXJlJTIyJTJDJTBBJTI5JTI5JTBBJTI3JTI3JTI3JTI5JTNC\")));\n",
       "    "
      ],
      "text/plain": [
       "<IPython.core.display.Javascript object>"
      ]
     },
     "metadata": {},
     "output_type": "display_data"
    },
    {
     "data": {
      "application/javascript": [
       "$('span:contains(\"# Temp\")').closest('.cell').remove();"
      ],
      "text/plain": [
       "<IPython.core.display.Javascript object>"
      ]
     },
     "metadata": {},
     "output_type": "display_data"
    },
    {
     "data": {
      "application/javascript": [
       "\n",
       "        $('span:contains(\"# Temp\")').closest('.cell').remove();\n",
       "        var code = IPython.notebook.insert_cell_below('code');\n",
       "        code.set_text(decodeURIComponent(window.atob(\"JTIzJTIwVGVtcCUwQWluc2VydCUyOCUyNyUyNyUyNyUwQWFhZW4yMDAxYSUyMCUzRCUyMERCJTI4V29ya1VucmVsYXRlZCUyOCUwQSUyMCUyMCUyMCUyMDIwMDElMkMlMjAlMjJBJTIwY29uY2VwdHVhbCUyME1BUCUyMG9mJTIwc29mdHdhcmUlMjBwcm9jZXNzJTIwaW1wcm92ZW1lbnQlMjIlMkMlMEElMjAlMjAlMjAlMjBkaXNwbGF5JTNEJTIyYWFlbiUyMiUyQyUwQSUyMCUyMCUyMCUyMGF1dGhvcnMlM0QlMjJBYWVuJTJDJTIwSXZhbiUyMGFuZCUyMEFyZW50JTJDJTIwSmVzcGVyJTIwYW5kJTIwTWF0aGlhc3NlbiUyQyUyMExhcnMlMjBhbmQlMjBOZ3dlbnlhbWElMkMlMjBPamVsYW5raSUyMiUyQyUwQSUyMCUyMCUyMCUyMHBsYWNlJTNERkFLRSUyQyUwQSUyMCUyMCUyMCUyMHBwJTNEJTIyOCUyMiUyQyUwQSUyMCUyMCUyMCUyMGVudHJ5dHlwZSUzRCUyMmFydGljbGUlMjIlMkMlMEElMjAlMjAlMjAlMjB2b2x1bWUlM0QlMjIxMyUyMiUyQyUwQSUyMCUyMCUyMCUyMG51bWJlciUzRCUyMjElMjIlMkMlMEElMjAlMjAlMjAlMjBJRCUzRCUyMmFhZW4yMDAxY29uY2VwdHVhbCUyMiUyQyUwQSUyMCUyMCUyMCUyMHNjaG9sYXIyMDE1JTNEJTIyMSUyMiUyQyUwQSUyMCUyMCUyMCUyMHBsYWNleCUzRCUyMlNjYW5kaW5hdmlhbiUyMGpvdXJuYWwlMjBvZiUyMGluZm9ybWF0aW9uJTIwc3lzdGVtcyUyMiUyQyUwQSUyOSUyOSUwQSUyNyUyNyUyNyUyOSUzQg==\")));\n",
       "    "
      ],
      "text/plain": [
       "<IPython.core.display.Javascript object>"
      ]
     },
     "metadata": {},
     "output_type": "display_data"
    },
    {
     "data": {
      "application/javascript": [
       "$('span:contains(\"# Temp\")').closest('.cell').remove();"
      ],
      "text/plain": [
       "<IPython.core.display.Javascript object>"
      ]
     },
     "metadata": {},
     "output_type": "display_data"
    },
    {
     "data": {
      "application/javascript": [
       "\n",
       "        $('span:contains(\"# Temp\")').closest('.cell').remove();\n",
       "        var code = IPython.notebook.insert_cell_below('code');\n",
       "        code.set_text(decodeURIComponent(window.atob(\"JTIzJTIwVGVtcCUwQWluc2VydCUyOCUyNyUyNyUyNyUwQWFhZW4yMDAxYSUyMCUzRCUyMERCJTI4V29ya1VucmVsYXRlZCUyOCUwQSUyMCUyMCUyMCUyMDIwMDElMkMlMjAlMjJBJTIwY29uY2VwdHVhbCUyME1BUCUyMG9mJTIwc29mdHdhcmUlMjBwcm9jZXNzJTIwaW1wcm92ZW1lbnQlMjIlMkMlMEElMjAlMjAlMjAlMjBkaXNwbGF5JTNEJTIyYWFlbiUyMiUyQyUwQSUyMCUyMCUyMCUyMGF1dGhvcnMlM0QlMjJBYWVuJTJDJTIwSXZhbiUyMGFuZCUyMEFyZW50JTJDJTIwSmVzcGVyJTIwYW5kJTIwTWF0aGlhc3NlbiUyQyUyMExhcnMlMjBhbmQlMjBOZ3dlbnlhbWElMkMlMjBPamVsYW5raSUyMiUyQyUwQSUyMCUyMCUyMCUyMHBsYWNlJTNERkFLRSUyQyUwQSUyMCUyMCUyMCUyMHBwJTNEJTIyOCUyMiUyQyUwQSUyMCUyMCUyMCUyMGVudHJ5dHlwZSUzRCUyMmFydGljbGUlMjIlMkMlMEElMjAlMjAlMjAlMjB2b2x1bWUlM0QlMjIxMyUyMiUyQyUwQSUyMCUyMCUyMCUyMG51bWJlciUzRCUyMjElMjIlMkMlMEElMjAlMjAlMjAlMjBJRCUzRCUyMmFhZW4yMDAxY29uY2VwdHVhbCUyMiUyQyUwQSUyMCUyMCUyMCUyMHNjaG9sYXIyMDE1JTNEJTIyMSUyMiUyQyUwQSUyMCUyMCUyMCUyMHBsYWNleCUzRCUyMlNjYW5kaW5hdmlhbiUyMGpvdXJuYWwlMjBvZiUyMGluZm9ybWF0aW9uJTIwc3lzdGVtcyUyMiUyQyUwQSUyOSUyOSUwQSUyNyUyNyUyNyUyOSUzQg==\")));\n",
       "    "
      ],
      "text/plain": [
       "<IPython.core.display.Javascript object>"
      ]
     },
     "metadata": {},
     "output_type": "display_data"
    },
    {
     "data": {
      "application/javascript": [
       "$('span:contains(\"# Temp\")').closest('.cell').remove();"
      ],
      "text/plain": [
       "<IPython.core.display.Javascript object>"
      ]
     },
     "metadata": {},
     "output_type": "display_data"
    },
    {
     "data": {
      "application/javascript": [
       "\n",
       "        $('span:contains(\"# Temp\")').closest('.cell').remove();\n",
       "        var code = IPython.notebook.insert_cell_below('code');\n",
       "        code.set_text(decodeURIComponent(window.atob(\"JTIzJTIwVGVtcCUwQWluc2VydCUyOCUyNyUyNyUyNyUwQWhlcHAyMDA1YSUyMCUzRCUyMERCJTI4V29ya1VucmVsYXRlZCUyOCUwQSUyMCUyMCUyMCUyMDIwMDUlMkMlMjAlMjJTZW1hbnRpYyUyMGJ1c2luZXNzJTIwcHJvY2VzcyUyMG1hbmFnZW1lbnQlM0ElMjBBJTIwdmlzaW9uJTIwdG93YXJkcyUyMHVzaW5nJTIwc2VtYW50aWMlMjB3ZWIlMjBzZXJ2aWNlcyUyMGZvciUyMGJ1c2luZXNzJTIwcHJvY2VzcyUyMG1hbmFnZW1lbnQlMjIlMkMlMEElMjAlMjAlMjAlMjBkaXNwbGF5JTNEJTIyaGVwcCUyMiUyQyUwQSUyMCUyMCUyMCUyMGF1dGhvcnMlM0QlMjJIZXBwJTJDJTIwTWFydGluJTIwYW5kJTIwTGV5bWFubiUyQyUyMEZyYW5rJTIwYW5kJTIwRG9taW5ndWUlMkMlMjBKb2huJTIwYW5kJTIwV2FobGVyJTJDJTIwQWxleGFuZGVyJTIwYW5kJTIwRmVuc2VsJTJDJTIwRGlldGVyJTIyJTJDJTBBJTIwJTIwJTIwJTIwcGxhY2UlM0RGQUtFJTJDJTBBJTIwJTIwJTIwJTIwcHAlM0QlMjI1MzUtLTU0MCUyMiUyQyUwQSUyMCUyMCUyMCUyMGVudHJ5dHlwZSUzRCUyMmlucHJvY2VlZGluZ3MlMjIlMkMlMEElMjAlMjAlMjAlMjBvcmdhbml6YXRpb24lM0QlMjJJRUVFJTIyJTJDJTBBJTIwJTIwJTIwJTIwSUQlM0QlMjJoZXBwMjAwNXNlbWFudGljJTIyJTJDJTBBJTIwJTIwJTIwJTIwc2Nob2xhcjIwMTUlM0QlMjIxJTIyJTJDJTBBJTIwJTIwJTIwJTIwcGxhY2V4JTNEJTIyZS1CdXNpbmVzcyUyMEVuZ2luZWVyaW5nJTJDJTIwMjAwNS4lMjBJQ0VCRSUyMDIwMDUuJTIwSUVFRSUyMEludGVybmF0aW9uYWwlMjBDb25mZXJlbmNlJTIwb24lMjIlMkMlMEElMjklMjklMEElMjclMjclMjclMjklM0I=\")));\n",
       "    "
      ],
      "text/plain": [
       "<IPython.core.display.Javascript object>"
      ]
     },
     "metadata": {},
     "output_type": "display_data"
    },
    {
     "data": {
      "application/javascript": [
       "$('span:contains(\"# Temp\")').closest('.cell').remove();"
      ],
      "text/plain": [
       "<IPython.core.display.Javascript object>"
      ]
     },
     "metadata": {},
     "output_type": "display_data"
    },
    {
     "data": {
      "application/javascript": [
       "\n",
       "        $('span:contains(\"# Temp\")').closest('.cell').remove();\n",
       "        var code = IPython.notebook.insert_cell_below('code');\n",
       "        code.set_text(decodeURIComponent(window.atob(\"JTIzJTIwVGVtcCUwQWluc2VydCUyOCUyNyUyNyUyNyUwQWhlcHAyMDA1YSUyMCUzRCUyMERCJTI4V29ya1VucmVsYXRlZCUyOCUwQSUyMCUyMCUyMCUyMDIwMDUlMkMlMjAlMjJTZW1hbnRpYyUyMGJ1c2luZXNzJTIwcHJvY2VzcyUyMG1hbmFnZW1lbnQlM0ElMjBBJTIwdmlzaW9uJTIwdG93YXJkcyUyMHVzaW5nJTIwc2VtYW50aWMlMjB3ZWIlMjBzZXJ2aWNlcyUyMGZvciUyMGJ1c2luZXNzJTIwcHJvY2VzcyUyMG1hbmFnZW1lbnQlMjIlMkMlMEElMjAlMjAlMjAlMjBkaXNwbGF5JTNEJTIyaGVwcCUyMiUyQyUwQSUyMCUyMCUyMCUyMGF1dGhvcnMlM0QlMjJIZXBwJTJDJTIwTWFydGluJTIwYW5kJTIwTGV5bWFubiUyQyUyMEZyYW5rJTIwYW5kJTIwRG9taW5ndWUlMkMlMjBKb2huJTIwYW5kJTIwV2FobGVyJTJDJTIwQWxleGFuZGVyJTIwYW5kJTIwRmVuc2VsJTJDJTIwRGlldGVyJTIyJTJDJTBBJTIwJTIwJTIwJTIwcGxhY2UlM0RGQUtFJTJDJTBBJTIwJTIwJTIwJTIwcHAlM0QlMjI1MzUtLTU0MCUyMiUyQyUwQSUyMCUyMCUyMCUyMGVudHJ5dHlwZSUzRCUyMmlucHJvY2VlZGluZ3MlMjIlMkMlMEElMjAlMjAlMjAlMjBvcmdhbml6YXRpb24lM0QlMjJJRUVFJTIyJTJDJTBBJTIwJTIwJTIwJTIwSUQlM0QlMjJoZXBwMjAwNXNlbWFudGljJTIyJTJDJTBBJTIwJTIwJTIwJTIwc2Nob2xhcjIwMTUlM0QlMjIxJTIyJTJDJTBBJTIwJTIwJTIwJTIwcGxhY2V4JTNEJTIyZS1CdXNpbmVzcyUyMEVuZ2luZWVyaW5nJTJDJTIwMjAwNS4lMjBJQ0VCRSUyMDIwMDUuJTIwSUVFRSUyMEludGVybmF0aW9uYWwlMjBDb25mZXJlbmNlJTIwb24lMjIlMkMlMEElMjklMjklMEElMjclMjclMjclMjklM0I=\")));\n",
       "    "
      ],
      "text/plain": [
       "<IPython.core.display.Javascript object>"
      ]
     },
     "metadata": {},
     "output_type": "display_data"
    },
    {
     "data": {
      "application/javascript": [
       "$('span:contains(\"# Temp\")').closest('.cell').remove();"
      ],
      "text/plain": [
       "<IPython.core.display.Javascript object>"
      ]
     },
     "metadata": {},
     "output_type": "display_data"
    },
    {
     "data": {
      "application/javascript": [
       "\n",
       "        $('span:contains(\"# Temp\")').closest('.cell').remove();\n",
       "        var code = IPython.notebook.insert_cell_below('code');\n",
       "        code.set_text(decodeURIComponent(window.atob(\"JTIzJTIwVGVtcCUwQWluc2VydCUyOCUyNyUyNyUyNyUwQWJhc2lsaTIwMTRlJTIwJTNEJTIwREIlMjhXb3JrVW5yZWxhdGVkJTI4JTBBJTIwJTIwJTIwJTIwMjAxNCUyQyUyMCUyMkdRTSUyQiUyMFN0cmF0ZWdpZXMlM0ElMjBBJTIwY29tcHJlaGVuc2l2ZSUyMG1ldGhvZG9sb2d5JTIwZm9yJTIwYWxpZ25pbmclMjBidXNpbmVzcyUyMHN0cmF0ZWdpZXMlMjB3aXRoJTIwc29mdHdhcmUlMjBtZWFzdXJlbWVudCUyMiUyQyUwQSUyMCUyMCUyMCUyMGRpc3BsYXklM0QlMjJiYXNpbGklMjBlJTIyJTJDJTBBJTIwJTIwJTIwJTIwYXV0aG9ycyUzRCUyMkJhc2lsaSUyQyUyMFZpY3RvciUyMGFuZCUyMEhlaWRyaWNoJTJDJTIwSmVucyUyMGFuZCUyMExpbmR2YWxsJTJDJTIwTWlrYWVsJTIwYW5kJTIwTSVDMyVCQ25jaCUyQyUyMEolQzMlQkNyZ2VuJTIwYW5kJTIwUmVnYXJkaWUlMkMlMjBNeXJuYSUyMGFuZCUyMFJvbWJhY2glMkMlMjBEaWV0ZXIlMjBhbmQlMjBTZWFtYW4lMkMlMjBDYXJvbHluJTIwYW5kJTIwVHJlbmRvd2ljeiUyQyUyMEFkYW0lMjIlMkMlMEElMjAlMjAlMjAlMjBwbGFjZSUzREZBS0UlMkMlMEElMjAlMjAlMjAlMjBlbnRyeXR5cGUlM0QlMjJhcnRpY2xlJTIyJTJDJTBBJTIwJTIwJTIwJTIwSUQlM0QlMjJiYXNpbGkyMDE0Z3FtJTJCJTIyJTJDJTBBJTIwJTIwJTIwJTIwc2Nob2xhcjIwMTUlM0QlMjIxJTIyJTJDJTBBJTIwJTIwJTIwJTIwcGxhY2V4JTNEJTIyYXJYaXYlMjBwcmVwcmludCUyMGFyWGl2JTNBMTQwMi4wMjkyJTIyJTJDJTBBJTI5JTI5JTBBJTI3JTI3JTI3JTI5JTNC\")));\n",
       "    "
      ],
      "text/plain": [
       "<IPython.core.display.Javascript object>"
      ]
     },
     "metadata": {},
     "output_type": "display_data"
    },
    {
     "data": {
      "application/javascript": [
       "$('span:contains(\"# Temp\")').closest('.cell').remove();"
      ],
      "text/plain": [
       "<IPython.core.display.Javascript object>"
      ]
     },
     "metadata": {},
     "output_type": "display_data"
    },
    {
     "data": {
      "application/javascript": [
       "\n",
       "        $('span:contains(\"# Temp\")').closest('.cell').remove();\n",
       "        var code = IPython.notebook.insert_cell_below('code');\n",
       "        code.set_text(decodeURIComponent(window.atob(\"JTIzJTIwVGVtcCUwQWluc2VydCUyOCUyNyUyNyUyNyUwQWJhc2lsaTIwMTRlJTIwJTNEJTIwREIlMjhXb3JrVW5yZWxhdGVkJTI4JTBBJTIwJTIwJTIwJTIwMjAxNCUyQyUyMCUyMkdRTSUyQiUyMFN0cmF0ZWdpZXMlM0ElMjBBJTIwY29tcHJlaGVuc2l2ZSUyMG1ldGhvZG9sb2d5JTIwZm9yJTIwYWxpZ25pbmclMjBidXNpbmVzcyUyMHN0cmF0ZWdpZXMlMjB3aXRoJTIwc29mdHdhcmUlMjBtZWFzdXJlbWVudCUyMiUyQyUwQSUyMCUyMCUyMCUyMGRpc3BsYXklM0QlMjJiYXNpbGklMjBlJTIyJTJDJTBBJTIwJTIwJTIwJTIwYXV0aG9ycyUzRCUyMkJhc2lsaSUyQyUyMFZpY3RvciUyMGFuZCUyMEhlaWRyaWNoJTJDJTIwSmVucyUyMGFuZCUyMExpbmR2YWxsJTJDJTIwTWlrYWVsJTIwYW5kJTIwTSVDMyVCQ25jaCUyQyUyMEolQzMlQkNyZ2VuJTIwYW5kJTIwUmVnYXJkaWUlMkMlMjBNeXJuYSUyMGFuZCUyMFJvbWJhY2glMkMlMjBEaWV0ZXIlMjBhbmQlMjBTZWFtYW4lMkMlMjBDYXJvbHluJTIwYW5kJTIwVHJlbmRvd2ljeiUyQyUyMEFkYW0lMjIlMkMlMEElMjAlMjAlMjAlMjBwbGFjZSUzREZBS0UlMkMlMEElMjAlMjAlMjAlMjBlbnRyeXR5cGUlM0QlMjJhcnRpY2xlJTIyJTJDJTBBJTIwJTIwJTIwJTIwSUQlM0QlMjJiYXNpbGkyMDE0Z3FtJTJCJTIyJTJDJTBBJTIwJTIwJTIwJTIwc2Nob2xhcjIwMTUlM0QlMjIxJTIyJTJDJTBBJTIwJTIwJTIwJTIwcGxhY2V4JTNEJTIyYXJYaXYlMjBwcmVwcmludCUyMGFyWGl2JTNBMTQwMi4wMjkyJTIyJTJDJTBBJTI5JTI5JTBBJTI3JTI3JTI3JTI5JTNC\")));\n",
       "    "
      ],
      "text/plain": [
       "<IPython.core.display.Javascript object>"
      ]
     },
     "metadata": {},
     "output_type": "display_data"
    },
    {
     "data": {
      "application/javascript": [
       "$('span:contains(\"# Temp\")').closest('.cell').remove();"
      ],
      "text/plain": [
       "<IPython.core.display.Javascript object>"
      ]
     },
     "metadata": {},
     "output_type": "display_data"
    },
    {
     "data": {
      "application/javascript": [
       "\n",
       "        $('span:contains(\"# Temp\")').closest('.cell').remove();\n",
       "        var code = IPython.notebook.insert_cell_below('code');\n",
       "        code.set_text(decodeURIComponent(window.atob(\"JTIzJTIwVGVtcCUwQWluc2VydCUyOCUyNyUyNyUyNyUwQWFhZW4yMDAzYSUyMCUzRCUyMERCJTI4V29ya1VucmVsYXRlZCUyOCUwQSUyMCUyMCUyMCUyMDIwMDMlMkMlMjAlMjJTb2Z0d2FyZSUyMHByb2Nlc3MlMjBpbXByb3ZlbWVudCUzQSUyMEJsdWVwcmludHMlMjB2ZXJzdXMlMjByZWNpcGVzJTIyJTJDJTBBJTIwJTIwJTIwJTIwZGlzcGxheSUzRCUyMmFhZW4lMjIlMkMlMEElMjAlMjAlMjAlMjBhdXRob3JzJTNEJTIyQWFlbiUyQyUyMEl2YW4lMjIlMkMlMEElMjAlMjAlMjAlMjBwbGFjZSUzRElFRUVTJTJDJTBBJTIwJTIwJTIwJTIwcHAlM0QlMjI4Ni0tOTMlMjIlMkMlMEElMjAlMjAlMjAlMjBlbnRyeXR5cGUlM0QlMjJhcnRpY2xlJTIyJTJDJTBBJTIwJTIwJTIwJTIwbnVtYmVyJTNEJTIyNSUyMiUyQyUwQSUyMCUyMCUyMCUyMHB1Ymxpc2hlciUzRCUyMklFRUUlMjIlMkMlMEElMjAlMjAlMjAlMjBJRCUzRCUyMmFhZW4yMDAzc29mdHdhcmUlMjIlMkMlMEElMjAlMjAlMjAlMjBzY2hvbGFyMjAxNSUzRCUyMjElMjIlMkMlMEElMjAlMjAlMjAlMjBwbGFjZXglM0QlMjJJRUVFJTIwc29mdHdhcmUlMjIlMkMlMEElMjklMjklMEElMjclMjclMjclMjklM0I=\")));\n",
       "    "
      ],
      "text/plain": [
       "<IPython.core.display.Javascript object>"
      ]
     },
     "metadata": {},
     "output_type": "display_data"
    },
    {
     "data": {
      "application/javascript": [
       "$('span:contains(\"# Temp\")').closest('.cell').remove();"
      ],
      "text/plain": [
       "<IPython.core.display.Javascript object>"
      ]
     },
     "metadata": {},
     "output_type": "display_data"
    },
    {
     "data": {
      "application/javascript": [
       "\n",
       "        $('span:contains(\"# Temp\")').closest('.cell').remove();\n",
       "        var code = IPython.notebook.insert_cell_below('code');\n",
       "        code.set_text(decodeURIComponent(window.atob(\"JTIzJTIwVGVtcCUwQWluc2VydCUyOCUyNyUyNyUyNyUwQWFhZW4yMDAzYSUyMCUzRCUyMERCJTI4V29ya1VucmVsYXRlZCUyOCUwQSUyMCUyMCUyMCUyMDIwMDMlMkMlMjAlMjJTb2Z0d2FyZSUyMHByb2Nlc3MlMjBpbXByb3ZlbWVudCUzQSUyMEJsdWVwcmludHMlMjB2ZXJzdXMlMjByZWNpcGVzJTIyJTJDJTBBJTIwJTIwJTIwJTIwZGlzcGxheSUzRCUyMmFhZW4lMjIlMkMlMEElMjAlMjAlMjAlMjBhdXRob3JzJTNEJTIyQWFlbiUyQyUyMEl2YW4lMjIlMkMlMEElMjAlMjAlMjAlMjBwbGFjZSUzRElFRUVTJTJDJTBBJTIwJTIwJTIwJTIwcHAlM0QlMjI4Ni0tOTMlMjIlMkMlMEElMjAlMjAlMjAlMjBlbnRyeXR5cGUlM0QlMjJhcnRpY2xlJTIyJTJDJTBBJTIwJTIwJTIwJTIwbnVtYmVyJTNEJTIyNSUyMiUyQyUwQSUyMCUyMCUyMCUyMHB1Ymxpc2hlciUzRCUyMklFRUUlMjIlMkMlMEElMjAlMjAlMjAlMjBJRCUzRCUyMmFhZW4yMDAzc29mdHdhcmUlMjIlMkMlMEElMjAlMjAlMjAlMjBzY2hvbGFyMjAxNSUzRCUyMjElMjIlMkMlMEElMjAlMjAlMjAlMjBwbGFjZXglM0QlMjJJRUVFJTIwc29mdHdhcmUlMjIlMkMlMEElMjklMjklMEElMjclMjclMjclMjklM0I=\")));\n",
       "    "
      ],
      "text/plain": [
       "<IPython.core.display.Javascript object>"
      ]
     },
     "metadata": {},
     "output_type": "display_data"
    },
    {
     "data": {
      "application/javascript": [
       "$('span:contains(\"# Temp\")').closest('.cell').remove();"
      ],
      "text/plain": [
       "<IPython.core.display.Javascript object>"
      ]
     },
     "metadata": {},
     "output_type": "display_data"
    },
    {
     "data": {
      "application/javascript": [
       "\n",
       "        $('span:contains(\"# Temp\")').closest('.cell').remove();\n",
       "        var code = IPython.notebook.insert_cell_below('code');\n",
       "        code.set_text(decodeURIComponent(window.atob(\"JTIzJTIwVGVtcCUwQWluc2VydCUyOCUyNyUyNyUyNyUyNyUyNyUyNyUyOSUzQiUwQXNldF9hdHRyaWJ1dGUlMjglMjd1bGxhaDIwMTFhJTI3JTJDJTIwJTI3c2Nob2xhcjIwMTUlMjclMkMlMjAlMjcxJTI3JTI5JTNC\")));\n",
       "    "
      ],
      "text/plain": [
       "<IPython.core.display.Javascript object>"
      ]
     },
     "metadata": {},
     "output_type": "display_data"
    },
    {
     "data": {
      "application/javascript": [
       "$('span:contains(\"# Temp\")').closest('.cell').remove();"
      ],
      "text/plain": [
       "<IPython.core.display.Javascript object>"
      ]
     },
     "metadata": {},
     "output_type": "display_data"
    },
    {
     "data": {
      "application/javascript": [
       "\n",
       "        $('span:contains(\"# Temp\")').closest('.cell').remove();\n",
       "        var code = IPython.notebook.insert_cell_below('code');\n",
       "        code.set_text(decodeURIComponent(window.atob(\"JTIzJTIwVGVtcCUwQWluc2VydCUyOCUyNyUyNyUyNyUyNyUyNyUyNyUyOSUzQiUwQXNldF9hdHRyaWJ1dGUlMjglMjd1bGxhaDIwMTFhJTI3JTJDJTIwJTI3c2Nob2xhcjIwMTUlMjclMkMlMjAlMjcxJTI3JTI5JTNC\")));\n",
       "    "
      ],
      "text/plain": [
       "<IPython.core.display.Javascript object>"
      ]
     },
     "metadata": {},
     "output_type": "display_data"
    },
    {
     "data": {
      "application/javascript": [
       "$('span:contains(\"# Temp\")').closest('.cell').remove();"
      ],
      "text/plain": [
       "<IPython.core.display.Javascript object>"
      ]
     },
     "metadata": {},
     "output_type": "display_data"
    },
    {
     "data": {
      "application/javascript": [
       "\n",
       "        $('span:contains(\"# Temp\")').closest('.cell').remove();\n",
       "        var code = IPython.notebook.insert_cell_below('code');\n",
       "        code.set_text(decodeURIComponent(window.atob(\"JTIzJTIwVGVtcCUwQWluc2VydCUyOCUyNyUyNyUyNyUwQWx1ZnRtYW4yMDA0YSUyMCUzRCUyMERCJTI4V29ya1VucmVsYXRlZCUyOCUwQSUyMCUyMCUyMCUyMDIwMDQlMkMlMjAlMjJBc3Nlc3NpbmclMjBCdXNpbmVzcy1JVCUyMEFsbGlnbm1lbnQlMjBNYXR1cml0eSUyMiUyQyUwQSUyMCUyMCUyMCUyMGRpc3BsYXklM0QlMjJsdWZ0bWFuJTIyJTJDJTBBJTIwJTIwJTIwJTIwYXV0aG9ycyUzRCUyMkx1ZnRtYW4lMkMlMjBKZXJyeSUyMiUyQyUwQSUyMCUyMCUyMCUyMHBsYWNlJTNERkFLRSUyQyUwQSUyMCUyMCUyMCUyMHBwJTNEJTIyOTktLTEyOCUyMiUyQyUwQSUyMCUyMCUyMCUyMGVudHJ5dHlwZSUzRCUyMmluY29sbGVjdGlvbiUyMiUyQyUwQSUyMCUyMCUyMCUyMHB1Ymxpc2hlciUzRCUyMklnaSUyMEdsb2JhbCUyMiUyQyUwQSUyMCUyMCUyMCUyMElEJTNEJTIybHVmdG1hbjIwMDRhc3Nlc3NpbmclMjIlMkMlMEElMjAlMjAlMjAlMjBzY2hvbGFyMjAxNSUzRCUyMjElMjIlMkMlMEElMjAlMjAlMjAlMjBwbGFjZXglM0QlMjJTdHJhdGVnaWVzJTIwZm9yJTIwaW5mb3JtYXRpb24lMjB0ZWNobm9sb2d5JTIwZ292ZXJuYW5jZSUyMiUyQyUwQSUyOSUyOSUwQSUyNyUyNyUyNyUyOSUzQg==\")));\n",
       "    "
      ],
      "text/plain": [
       "<IPython.core.display.Javascript object>"
      ]
     },
     "metadata": {},
     "output_type": "display_data"
    },
    {
     "data": {
      "application/javascript": [
       "$('span:contains(\"# Temp\")').closest('.cell').remove();"
      ],
      "text/plain": [
       "<IPython.core.display.Javascript object>"
      ]
     },
     "metadata": {},
     "output_type": "display_data"
    },
    {
     "data": {
      "application/javascript": [
       "\n",
       "        $('span:contains(\"# Temp\")').closest('.cell').remove();\n",
       "        var code = IPython.notebook.insert_cell_below('code');\n",
       "        code.set_text(decodeURIComponent(window.atob(\"JTIzJTIwVGVtcCUwQWluc2VydCUyOCUyNyUyNyUyNyUwQWx1ZnRtYW4yMDA0YSUyMCUzRCUyMERCJTI4V29ya1VucmVsYXRlZCUyOCUwQSUyMCUyMCUyMCUyMDIwMDQlMkMlMjAlMjJBc3Nlc3NpbmclMjBCdXNpbmVzcy1JVCUyMEFsbGlnbm1lbnQlMjBNYXR1cml0eSUyMiUyQyUwQSUyMCUyMCUyMCUyMGRpc3BsYXklM0QlMjJsdWZ0bWFuJTIyJTJDJTBBJTIwJTIwJTIwJTIwYXV0aG9ycyUzRCUyMkx1ZnRtYW4lMkMlMjBKZXJyeSUyMiUyQyUwQSUyMCUyMCUyMCUyMHBsYWNlJTNERkFLRSUyQyUwQSUyMCUyMCUyMCUyMHBwJTNEJTIyOTktLTEyOCUyMiUyQyUwQSUyMCUyMCUyMCUyMGVudHJ5dHlwZSUzRCUyMmluY29sbGVjdGlvbiUyMiUyQyUwQSUyMCUyMCUyMCUyMHB1Ymxpc2hlciUzRCUyMklnaSUyMEdsb2JhbCUyMiUyQyUwQSUyMCUyMCUyMCUyMElEJTNEJTIybHVmdG1hbjIwMDRhc3Nlc3NpbmclMjIlMkMlMEElMjAlMjAlMjAlMjBzY2hvbGFyMjAxNSUzRCUyMjElMjIlMkMlMEElMjAlMjAlMjAlMjBwbGFjZXglM0QlMjJTdHJhdGVnaWVzJTIwZm9yJTIwaW5mb3JtYXRpb24lMjB0ZWNobm9sb2d5JTIwZ292ZXJuYW5jZSUyMiUyQyUwQSUyOSUyOSUwQSUyNyUyNyUyNyUyOSUzQg==\")));\n",
       "    "
      ],
      "text/plain": [
       "<IPython.core.display.Javascript object>"
      ]
     },
     "metadata": {},
     "output_type": "display_data"
    },
    {
     "data": {
      "application/javascript": [
       "$('span:contains(\"# Temp\")').closest('.cell').remove();"
      ],
      "text/plain": [
       "<IPython.core.display.Javascript object>"
      ]
     },
     "metadata": {},
     "output_type": "display_data"
    },
    {
     "data": {
      "application/javascript": [
       "\n",
       "        $('span:contains(\"# Temp\")').closest('.cell').remove();\n",
       "        var code = IPython.notebook.insert_cell_below('code');\n",
       "        code.set_text(decodeURIComponent(window.atob(\"JTIzJTIwVGVtcCUwQWluc2VydCUyOCUyNyUyNyUyNyUwQWhlcmJzbGViMTk5N2ElMjAlM0QlMjBEQiUyOFdvcmtVbnJlbGF0ZWQlMjglMEElMjAlMjAlMjAlMjAxOTk3JTJDJTIwJTIyU29mdHdhcmUlMjBxdWFsaXR5JTIwYW5kJTIwdGhlJTIwY2FwYWJpbGl0eSUyMG1hdHVyaXR5JTIwbW9kZWwlMjIlMkMlMEElMjAlMjAlMjAlMjBkaXNwbGF5JTNEJTIyaGVyYnNsZWIlMjIlMkMlMEElMjAlMjAlMjAlMjBhdXRob3JzJTNEJTIySGVyYnNsZWIlMkMlMjBKYW1lcyUyMGFuZCUyMFp1YnJvdyUyQyUyMERhdmlkJTIwYW5kJTIwR29sZGVuc29uJTJDJTIwRGVubmlzJTIwYW5kJTIwSGF5ZXMlMkMlMjBXaWxsJTIwYW5kJTIwUGF1bGslMkMlMjBNYXJrJTIyJTJDJTBBJTIwJTIwJTIwJTIwcGxhY2UlM0RDQUNNJTJDJTBBJTIwJTIwJTIwJTIwcHAlM0QlMjIzMC0tNDAlMjIlMkMlMEElMjAlMjAlMjAlMjBlbnRyeXR5cGUlM0QlMjJhcnRpY2xlJTIyJTJDJTBBJTIwJTIwJTIwJTIwdm9sdW1lJTNEJTIyNDAlMjIlMkMlMEElMjAlMjAlMjAlMjBudW1iZXIlM0QlMjI2JTIyJTJDJTBBJTIwJTIwJTIwJTIwcHVibGlzaGVyJTNEJTIyQUNNJTIyJTJDJTBBJTIwJTIwJTIwJTIwSUQlM0QlMjJoZXJic2xlYjE5OTdzb2Z0d2FyZSUyMiUyQyUwQSUyMCUyMCUyMCUyMHNjaG9sYXIyMDE1JTNEJTIyMSUyMiUyQyUwQSUyMCUyMCUyMCUyMHBsYWNleCUzRCUyMkNvbW11bmljYXRpb25zJTIwb2YlMjB0aGUlMjBBQ00lMjIlMkMlMEElMjklMjklMEElMjclMjclMjclMjklM0I=\")));\n",
       "    "
      ],
      "text/plain": [
       "<IPython.core.display.Javascript object>"
      ]
     },
     "metadata": {},
     "output_type": "display_data"
    },
    {
     "data": {
      "application/javascript": [
       "$('span:contains(\"# Temp\")').closest('.cell').remove();"
      ],
      "text/plain": [
       "<IPython.core.display.Javascript object>"
      ]
     },
     "metadata": {},
     "output_type": "display_data"
    },
    {
     "data": {
      "application/javascript": [
       "\n",
       "        $('span:contains(\"# Temp\")').closest('.cell').remove();\n",
       "        var code = IPython.notebook.insert_cell_below('code');\n",
       "        code.set_text(decodeURIComponent(window.atob(\"JTIzJTIwVGVtcCUwQWluc2VydCUyOCUyNyUyNyUyNyUwQWhlcmJzbGViMTk5N2ElMjAlM0QlMjBEQiUyOFdvcmtVbnJlbGF0ZWQlMjglMEElMjAlMjAlMjAlMjAxOTk3JTJDJTIwJTIyU29mdHdhcmUlMjBxdWFsaXR5JTIwYW5kJTIwdGhlJTIwY2FwYWJpbGl0eSUyMG1hdHVyaXR5JTIwbW9kZWwlMjIlMkMlMEElMjAlMjAlMjAlMjBkaXNwbGF5JTNEJTIyaGVyYnNsZWIlMjIlMkMlMEElMjAlMjAlMjAlMjBhdXRob3JzJTNEJTIySGVyYnNsZWIlMkMlMjBKYW1lcyUyMGFuZCUyMFp1YnJvdyUyQyUyMERhdmlkJTIwYW5kJTIwR29sZGVuc29uJTJDJTIwRGVubmlzJTIwYW5kJTIwSGF5ZXMlMkMlMjBXaWxsJTIwYW5kJTIwUGF1bGslMkMlMjBNYXJrJTIyJTJDJTBBJTIwJTIwJTIwJTIwcGxhY2UlM0RDQUNNJTJDJTBBJTIwJTIwJTIwJTIwcHAlM0QlMjIzMC0tNDAlMjIlMkMlMEElMjAlMjAlMjAlMjBlbnRyeXR5cGUlM0QlMjJhcnRpY2xlJTIyJTJDJTBBJTIwJTIwJTIwJTIwdm9sdW1lJTNEJTIyNDAlMjIlMkMlMEElMjAlMjAlMjAlMjBudW1iZXIlM0QlMjI2JTIyJTJDJTBBJTIwJTIwJTIwJTIwcHVibGlzaGVyJTNEJTIyQUNNJTIyJTJDJTBBJTIwJTIwJTIwJTIwSUQlM0QlMjJoZXJic2xlYjE5OTdzb2Z0d2FyZSUyMiUyQyUwQSUyMCUyMCUyMCUyMHNjaG9sYXIyMDE1JTNEJTIyMSUyMiUyQyUwQSUyMCUyMCUyMCUyMHBsYWNleCUzRCUyMkNvbW11bmljYXRpb25zJTIwb2YlMjB0aGUlMjBBQ00lMjIlMkMlMEElMjklMjklMEElMjclMjclMjclMjklM0I=\")));\n",
       "    "
      ],
      "text/plain": [
       "<IPython.core.display.Javascript object>"
      ]
     },
     "metadata": {},
     "output_type": "display_data"
    },
    {
     "data": {
      "application/javascript": [
       "$('span:contains(\"# Temp\")').closest('.cell').remove();"
      ],
      "text/plain": [
       "<IPython.core.display.Javascript object>"
      ]
     },
     "metadata": {},
     "output_type": "display_data"
    },
    {
     "data": {
      "application/javascript": [
       "\n",
       "        $('span:contains(\"# Temp\")').closest('.cell').remove();\n",
       "        var code = IPython.notebook.insert_cell_below('code');\n",
       "        code.set_text(decodeURIComponent(window.atob(\"JTIzJTIwVGVtcCUwQWluc2VydCUyOCUyNyUyNyUyNyUwQWlpaTIwMDRhJTIwJTNEJTIwREIlMjhXb3JrVW5yZWxhdGVkJTI4JTBBJTIwJTIwJTIwJTIwMjAwNCUyQyUyMCUyMlRoZSUyMGRldmVsb3BtZW50JTIwb2YlMjBhJTIwc3VwcGx5JTIwY2hhaW4lMjBtYW5hZ2VtZW50JTIwcHJvY2VzcyUyMG1hdHVyaXR5JTIwbW9kZWwlMjB1c2luZyUyMHRoZSUyMGNvbmNlcHRzJTIwb2YlMjBidXNpbmVzcyUyMHByb2Nlc3MlMjBvcmllbnRhdGlvbiUyMiUyQyUwQSUyMCUyMCUyMCUyMGRpc3BsYXklM0QlMjJpaWklMjIlMkMlMEElMjAlMjAlMjAlMjBhdXRob3JzJTNEJTIyTG9ja2FteSUyMElJSSUyQyUyMEFyY2hpZSUyMGFuZCUyME1jQ29ybWFjayUyQyUyMEtldmluJTIyJTJDJTBBJTIwJTIwJTIwJTIwcGxhY2UlM0RGQUtFJTJDJTBBJTIwJTIwJTIwJTIwcHAlM0QlMjIyNzItLTI3OCUyMiUyQyUwQSUyMCUyMCUyMCUyMGVudHJ5dHlwZSUzRCUyMmFydGljbGUlMjIlMkMlMEElMjAlMjAlMjAlMjB2b2x1bWUlM0QlMjI5JTIyJTJDJTBBJTIwJTIwJTIwJTIwbnVtYmVyJTNEJTIyNCUyMiUyQyUwQSUyMCUyMCUyMCUyMHB1Ymxpc2hlciUzRCUyMkVtZXJhbGQlMjBHcm91cCUyMFB1Ymxpc2hpbmclMjBMaW1pdGVkJTIyJTJDJTBBJTIwJTIwJTIwJTIwSUQlM0QlMjJsb2NrYW15MjAwNGRldmVsb3BtZW50JTIyJTJDJTBBJTIwJTIwJTIwJTIwc2Nob2xhcjIwMTUlM0QlMjIxJTIyJTJDJTBBJTIwJTIwJTIwJTIwcGxhY2V4JTNEJTIyU3VwcGx5JTIwQ2hhaW4lMjBNYW5hZ2VtZW50JTNBJTIwQW4lMjBJbnRlcm5hdGlvbmFsJTIwSm91cm5hbCUyMiUyQyUwQSUyOSUyOSUwQSUyNyUyNyUyNyUyOSUzQg==\")));\n",
       "    "
      ],
      "text/plain": [
       "<IPython.core.display.Javascript object>"
      ]
     },
     "metadata": {},
     "output_type": "display_data"
    },
    {
     "data": {
      "application/javascript": [
       "$('span:contains(\"# Temp\")').closest('.cell').remove();"
      ],
      "text/plain": [
       "<IPython.core.display.Javascript object>"
      ]
     },
     "metadata": {},
     "output_type": "display_data"
    },
    {
     "data": {
      "application/javascript": [
       "\n",
       "        $('span:contains(\"# Temp\")').closest('.cell').remove();\n",
       "        var code = IPython.notebook.insert_cell_below('code');\n",
       "        code.set_text(decodeURIComponent(window.atob(\"JTIzJTIwVGVtcCUwQWluc2VydCUyOCUyNyUyNyUyNyUwQWlpaTIwMDRhJTIwJTNEJTIwREIlMjhXb3JrVW5yZWxhdGVkJTI4JTBBJTIwJTIwJTIwJTIwMjAwNCUyQyUyMCUyMlRoZSUyMGRldmVsb3BtZW50JTIwb2YlMjBhJTIwc3VwcGx5JTIwY2hhaW4lMjBtYW5hZ2VtZW50JTIwcHJvY2VzcyUyMG1hdHVyaXR5JTIwbW9kZWwlMjB1c2luZyUyMHRoZSUyMGNvbmNlcHRzJTIwb2YlMjBidXNpbmVzcyUyMHByb2Nlc3MlMjBvcmllbnRhdGlvbiUyMiUyQyUwQSUyMCUyMCUyMCUyMGRpc3BsYXklM0QlMjJpaWklMjIlMkMlMEElMjAlMjAlMjAlMjBhdXRob3JzJTNEJTIyTG9ja2FteSUyMElJSSUyQyUyMEFyY2hpZSUyMGFuZCUyME1jQ29ybWFjayUyQyUyMEtldmluJTIyJTJDJTBBJTIwJTIwJTIwJTIwcGxhY2UlM0RGQUtFJTJDJTBBJTIwJTIwJTIwJTIwcHAlM0QlMjIyNzItLTI3OCUyMiUyQyUwQSUyMCUyMCUyMCUyMGVudHJ5dHlwZSUzRCUyMmFydGljbGUlMjIlMkMlMEElMjAlMjAlMjAlMjB2b2x1bWUlM0QlMjI5JTIyJTJDJTBBJTIwJTIwJTIwJTIwbnVtYmVyJTNEJTIyNCUyMiUyQyUwQSUyMCUyMCUyMCUyMHB1Ymxpc2hlciUzRCUyMkVtZXJhbGQlMjBHcm91cCUyMFB1Ymxpc2hpbmclMjBMaW1pdGVkJTIyJTJDJTBBJTIwJTIwJTIwJTIwSUQlM0QlMjJsb2NrYW15MjAwNGRldmVsb3BtZW50JTIyJTJDJTBBJTIwJTIwJTIwJTIwc2Nob2xhcjIwMTUlM0QlMjIxJTIyJTJDJTBBJTIwJTIwJTIwJTIwcGxhY2V4JTNEJTIyU3VwcGx5JTIwQ2hhaW4lMjBNYW5hZ2VtZW50JTNBJTIwQW4lMjBJbnRlcm5hdGlvbmFsJTIwSm91cm5hbCUyMiUyQyUwQSUyOSUyOSUwQSUyNyUyNyUyNyUyOSUzQg==\")));\n",
       "    "
      ],
      "text/plain": [
       "<IPython.core.display.Javascript object>"
      ]
     },
     "metadata": {},
     "output_type": "display_data"
    },
    {
     "data": {
      "application/javascript": [
       "$('span:contains(\"# Temp\")').closest('.cell').remove();"
      ],
      "text/plain": [
       "<IPython.core.display.Javascript object>"
      ]
     },
     "metadata": {},
     "output_type": "display_data"
    },
    {
     "data": {
      "application/javascript": [
       "\n",
       "        $('span:contains(\"# Temp\")').closest('.cell').remove();\n",
       "        var code = IPython.notebook.insert_cell_below('code');\n",
       "        code.set_text(decodeURIComponent(window.atob(\"JTIzJTIwVGVtcCUwQWluc2VydCUyOCUyNyUyNyUyNyUwQWRpcm9tYXVsZG8xOTk4YSUyMCUzRCUyMERCJTI4V29ya1VucmVsYXRlZCUyOCUwQSUyMCUyMCUyMCUyMDE5OTglMkMlMjAlMjJTdHJhdGVnaWMlMjBpbnRlbnQlMjBmb3IlMjBJVCUyMG91dHNvdXJjaW5nJTIyJTJDJTBBJTIwJTIwJTIwJTIwZGlzcGxheSUzRCUyMmRpcm9tYXVsZG8lMjIlMkMlMEElMjAlMjAlMjAlMjBhdXRob3JzJTNEJTIyRGlSb21hdWxkbyUyQyUyMEFudGhvbnklMjBhbmQlMjBHdXJiYXhhbmklMkMlMjBWaWlqYXklMjIlMkMlMEElMjAlMjAlMjAlMjBwbGFjZSUzREZBS0UlMkMlMEElMjAlMjAlMjAlMjBlbnRyeXR5cGUlM0QlMjJhcnRpY2xlJTIyJTJDJTBBJTIwJTIwJTIwJTIwSUQlM0QlMjJkaXJvbWF1bGRvMTk5OHN0cmF0ZWdpYyUyMiUyQyUwQSUyMCUyMCUyMCUyMHNjaG9sYXIyMDE1JTNEJTIyMSUyMiUyQyUwQSUyMCUyMCUyMCUyMHBsYWNleCUzRCUyMiUyMiUyQyUwQSUyOSUyOSUwQSUyNyUyNyUyNyUyOSUzQg==\")));\n",
       "    "
      ],
      "text/plain": [
       "<IPython.core.display.Javascript object>"
      ]
     },
     "metadata": {},
     "output_type": "display_data"
    },
    {
     "data": {
      "application/javascript": [
       "$('span:contains(\"# Temp\")').closest('.cell').remove();"
      ],
      "text/plain": [
       "<IPython.core.display.Javascript object>"
      ]
     },
     "metadata": {},
     "output_type": "display_data"
    },
    {
     "data": {
      "application/javascript": [
       "\n",
       "        $('span:contains(\"# Temp\")').closest('.cell').remove();\n",
       "        var code = IPython.notebook.insert_cell_below('code');\n",
       "        code.set_text(decodeURIComponent(window.atob(\"JTIzJTIwVGVtcCUwQWluc2VydCUyOCUyNyUyNyUyNyUwQWRpcm9tYXVsZG8xOTk4YSUyMCUzRCUyMERCJTI4V29ya1VucmVsYXRlZCUyOCUwQSUyMCUyMCUyMCUyMDE5OTglMkMlMjAlMjJTdHJhdGVnaWMlMjBpbnRlbnQlMjBmb3IlMjBJVCUyMG91dHNvdXJjaW5nJTIyJTJDJTBBJTIwJTIwJTIwJTIwZGlzcGxheSUzRCUyMmRpcm9tYXVsZG8lMjIlMkMlMEElMjAlMjAlMjAlMjBhdXRob3JzJTNEJTIyRGlSb21hdWxkbyUyQyUyMEFudGhvbnklMjBhbmQlMjBHdXJiYXhhbmklMkMlMjBWaWlqYXklMjIlMkMlMEElMjAlMjAlMjAlMjBwbGFjZSUzREZBS0UlMkMlMEElMjAlMjAlMjAlMjBlbnRyeXR5cGUlM0QlMjJhcnRpY2xlJTIyJTJDJTBBJTIwJTIwJTIwJTIwSUQlM0QlMjJkaXJvbWF1bGRvMTk5OHN0cmF0ZWdpYyUyMiUyQyUwQSUyMCUyMCUyMCUyMHNjaG9sYXIyMDE1JTNEJTIyMSUyMiUyQyUwQSUyMCUyMCUyMCUyMHBsYWNleCUzRCUyMiUyMiUyQyUwQSUyOSUyOSUwQSUyNyUyNyUyNyUyOSUzQg==\")));\n",
       "    "
      ],
      "text/plain": [
       "<IPython.core.display.Javascript object>"
      ]
     },
     "metadata": {},
     "output_type": "display_data"
    },
    {
     "data": {
      "application/javascript": [
       "$('span:contains(\"# Temp\")').closest('.cell').remove();"
      ],
      "text/plain": [
       "<IPython.core.display.Javascript object>"
      ]
     },
     "metadata": {},
     "output_type": "display_data"
    },
    {
     "data": {
      "application/javascript": [
       "\n",
       "        $('span:contains(\"# Temp\")').closest('.cell').remove();\n",
       "        var code = IPython.notebook.insert_cell_below('code');\n",
       "        code.set_text(decodeURIComponent(window.atob(\"JTIzJTIwVGVtcCUwQWluc2VydCUyOCUyNyUyNyUyNyUyNyUyNyUyNyUyOSUzQiUwQXNldF9hdHRyaWJ1dGUlMjglMjdiZWNrZXIxOTk5YSUyNyUyQyUyMCUyN3B1Ymxpc2hlciUyNyUyQyUyMCUyN0lFRUUlMjclMjklM0IlMEFzZXRfYXR0cmlidXRlJTI4JTI3YmVja2VyMTk5OWElMjclMkMlMjAlMjdzY2hvbGFyMjAxNSUyNyUyQyUyMCUyNzElMjclMjklM0I=\")));\n",
       "    "
      ],
      "text/plain": [
       "<IPython.core.display.Javascript object>"
      ]
     },
     "metadata": {},
     "output_type": "display_data"
    },
    {
     "data": {
      "application/javascript": [
       "$('span:contains(\"# Temp\")').closest('.cell').remove();"
      ],
      "text/plain": [
       "<IPython.core.display.Javascript object>"
      ]
     },
     "metadata": {},
     "output_type": "display_data"
    },
    {
     "data": {
      "application/javascript": [
       "\n",
       "        $('span:contains(\"# Temp\")').closest('.cell').remove();\n",
       "        var code = IPython.notebook.insert_cell_below('code');\n",
       "        code.set_text(decodeURIComponent(window.atob(\"JTIzJTIwVGVtcCUwQWluc2VydCUyOCUyNyUyNyUyNyUyNyUyNyUyNyUyOSUzQiUwQXNldF9hdHRyaWJ1dGUlMjglMjdiZWNrZXIxOTk5YSUyNyUyQyUyMCUyN3B1Ymxpc2hlciUyNyUyQyUyMCUyN0lFRUUlMjclMjklM0IlMEFzZXRfYXR0cmlidXRlJTI4JTI3YmVja2VyMTk5OWElMjclMkMlMjAlMjdzY2hvbGFyMjAxNSUyNyUyQyUyMCUyNzElMjclMjklM0I=\")));\n",
       "    "
      ],
      "text/plain": [
       "<IPython.core.display.Javascript object>"
      ]
     },
     "metadata": {},
     "output_type": "display_data"
    },
    {
     "data": {
      "application/javascript": [
       "$('span:contains(\"# Temp\")').closest('.cell').remove();"
      ],
      "text/plain": [
       "<IPython.core.display.Javascript object>"
      ]
     },
     "metadata": {},
     "output_type": "display_data"
    },
    {
     "data": {
      "application/javascript": [
       "\n",
       "        $('span:contains(\"# Temp\")').closest('.cell').remove();\n",
       "        var code = IPython.notebook.insert_cell_below('code');\n",
       "        code.set_text(decodeURIComponent(window.atob(\"JTIzJTIwVGVtcCUwQWluc2VydCUyOCUyNyUyNyUyNyUwQWJydWluMjAwNWElMjAlM0QlMjBEQiUyOFdvcmtVbnJlbGF0ZWQlMjglMEElMjAlMjAlMjAlMjAyMDA1JTJDJTIwJTIyVG93YXJkcyUyMGElMjBidXNpbmVzcyUyMHByb2Nlc3MlMjBtYW5hZ2VtZW50JTIwbWF0dXJpdHklMjBtb2RlbCUyMiUyQyUwQSUyMCUyMCUyMCUyMGRpc3BsYXklM0QlMjJicnVpbiUyMiUyQyUwQSUyMCUyMCUyMCUyMGF1dGhvcnMlM0QlMjJEZSUyMEJydWluJTJDJTIwVG9uaWElMjBhbmQlMjBSb3NlbWFubiUyQyUyME1pY2hhZWwlMjIlMkMlMEElMjAlMjAlMjAlMjBwbGFjZSUzREZBS0UlMkMlMEElMjAlMjAlMjAlMjBlbnRyeXR5cGUlM0QlMjJhcnRpY2xlJTIyJTJDJTBBJTIwJTIwJTIwJTIwcHVibGlzaGVyJTNEJTIyVmVybGFnJTIwYW5kJTIwdGhlJTIwTG9uZG9uJTIwU2Nob29sJTIwb2YlMjBFY29ub21pY3MlMjIlMkMlMEElMjAlMjAlMjAlMjBJRCUzRCUyMmRlMjAwNXRvd2FyZHMlMjIlMkMlMEElMjAlMjAlMjAlMjBzY2hvbGFyMjAxNSUzRCUyMjElMjIlMkMlMEElMjAlMjAlMjAlMjBwbGFjZXglM0QlMjIlMjIlMkMlMEElMjklMjklMEElMjclMjclMjclMjklM0I=\")));\n",
       "    "
      ],
      "text/plain": [
       "<IPython.core.display.Javascript object>"
      ]
     },
     "metadata": {},
     "output_type": "display_data"
    },
    {
     "data": {
      "application/javascript": [
       "$('span:contains(\"# Temp\")').closest('.cell').remove();"
      ],
      "text/plain": [
       "<IPython.core.display.Javascript object>"
      ]
     },
     "metadata": {},
     "output_type": "display_data"
    },
    {
     "data": {
      "application/javascript": [
       "\n",
       "        $('span:contains(\"# Temp\")').closest('.cell').remove();\n",
       "        var code = IPython.notebook.insert_cell_below('code');\n",
       "        code.set_text(decodeURIComponent(window.atob(\"JTIzJTIwVGVtcCUwQWluc2VydCUyOCUyNyUyNyUyNyUwQWJydWluMjAwNWElMjAlM0QlMjBEQiUyOFdvcmtVbnJlbGF0ZWQlMjglMEElMjAlMjAlMjAlMjAyMDA1JTJDJTIwJTIyVG93YXJkcyUyMGElMjBidXNpbmVzcyUyMHByb2Nlc3MlMjBtYW5hZ2VtZW50JTIwbWF0dXJpdHklMjBtb2RlbCUyMiUyQyUwQSUyMCUyMCUyMCUyMGRpc3BsYXklM0QlMjJicnVpbiUyMiUyQyUwQSUyMCUyMCUyMCUyMGF1dGhvcnMlM0QlMjJEZSUyMEJydWluJTJDJTIwVG9uaWElMjBhbmQlMjBSb3NlbWFubiUyQyUyME1pY2hhZWwlMjIlMkMlMEElMjAlMjAlMjAlMjBwbGFjZSUzREZBS0UlMkMlMEElMjAlMjAlMjAlMjBlbnRyeXR5cGUlM0QlMjJhcnRpY2xlJTIyJTJDJTBBJTIwJTIwJTIwJTIwcHVibGlzaGVyJTNEJTIyVmVybGFnJTIwYW5kJTIwdGhlJTIwTG9uZG9uJTIwU2Nob29sJTIwb2YlMjBFY29ub21pY3MlMjIlMkMlMEElMjAlMjAlMjAlMjBJRCUzRCUyMmRlMjAwNXRvd2FyZHMlMjIlMkMlMEElMjAlMjAlMjAlMjBzY2hvbGFyMjAxNSUzRCUyMjElMjIlMkMlMEElMjAlMjAlMjAlMjBwbGFjZXglM0QlMjIlMjIlMkMlMEElMjklMjklMEElMjclMjclMjclMjklM0I=\")));\n",
       "    "
      ],
      "text/plain": [
       "<IPython.core.display.Javascript object>"
      ]
     },
     "metadata": {},
     "output_type": "display_data"
    },
    {
     "data": {
      "application/javascript": [
       "$('span:contains(\"# Temp\")').closest('.cell').remove();"
      ],
      "text/plain": [
       "<IPython.core.display.Javascript object>"
      ]
     },
     "metadata": {},
     "output_type": "display_data"
    },
    {
     "data": {
      "application/javascript": [
       "\n",
       "        $('span:contains(\"# Temp\")').closest('.cell').remove();\n",
       "        var code = IPython.notebook.insert_cell_below('code');\n",
       "        code.set_text(decodeURIComponent(window.atob(\"JTIzJTIwVGVtcCUwQWluc2VydCUyOCUyNyUyNyUyNyUwQW90dG8yMDA5YSUyMCUzRCUyMERCJTI4V29ya1VucmVsYXRlZCUyOCUwQSUyMCUyMCUyMCUyMDIwMDklMkMlMjAlMjJEeW5hbWljcyUyMGluJTIwSVMlMjBEZXZlbG9wbWVudCUzQSUyMEElMjBNdWx0aS1NZXRob2QlMjBFeHBlcmltZW50JTIwdG8lMjBNZWFzdXJlJTIwdGhlJTIwRWZmZWN0cyUyMG9mJTIwRGlzcnVwdGlvbnMlMjBkdXJpbmclMjB0aGUlMjBEZXZlbG9wbWVudCUyMFByb2Nlc3MlMjIlMkMlMEElMjAlMjAlMjAlMjBkaXNwbGF5JTNEJTIyb3R0byUyMiUyQyUwQSUyMCUyMCUyMCUyMGF1dGhvcnMlM0QlMjJPdHRvJTJDJTIwUGV0ZXIlMjBhbmQlMjBCZWxhcmRvJTJDJTIwU2FsdmF0b3JlJTIyJTJDJTBBJTIwJTIwJTIwJTIwcGxhY2UlM0RGQUtFJTJDJTBBJTIwJTIwJTIwJTIwcHAlM0QlMjIxLS0xOSUyMiUyQyUwQSUyMCUyMCUyMCUyMGVudHJ5dHlwZSUzRCUyMmFydGljbGUlMjIlMkMlMEElMjAlMjAlMjAlMjB2b2x1bWUlM0QlMjIxJTIyJTJDJTBBJTIwJTIwJTIwJTIwbnVtYmVyJTNEJTIyMiUyMiUyQyUwQSUyMCUyMCUyMCUyMHB1Ymxpc2hlciUzRCUyMklHSSUyMEdsb2JhbCUyMiUyQyUwQSUyMCUyMCUyMCUyMElEJTNEJTIyb3R0bzIwMDlkeW5hbWljcyUyMiUyQyUwQSUyMCUyMCUyMCUyMHNjaG9sYXIyMDE1JTNEJTIyMSUyMiUyQyUwQSUyMCUyMCUyMCUyMHBsYWNleCUzRCUyMkludGVybmF0aW9uYWwlMjBKb3VybmFsJTIwb2YlMjBEZWNpc2lvbiUyMFN1cHBvcnQlMjBTeXN0ZW0lMjBUZWNobm9sb2d5JTIwJTI4SUpEU1NUJTI5JTIyJTJDJTBBJTI5JTI5JTBBJTI3JTI3JTI3JTI5JTNC\")));\n",
       "    "
      ],
      "text/plain": [
       "<IPython.core.display.Javascript object>"
      ]
     },
     "metadata": {},
     "output_type": "display_data"
    },
    {
     "data": {
      "application/javascript": [
       "$('span:contains(\"# Temp\")').closest('.cell').remove();"
      ],
      "text/plain": [
       "<IPython.core.display.Javascript object>"
      ]
     },
     "metadata": {},
     "output_type": "display_data"
    },
    {
     "data": {
      "application/javascript": [
       "\n",
       "        $('span:contains(\"# Temp\")').closest('.cell').remove();\n",
       "        var code = IPython.notebook.insert_cell_below('code');\n",
       "        code.set_text(decodeURIComponent(window.atob(\"JTIzJTIwVGVtcCUwQWluc2VydCUyOCUyNyUyNyUyNyUwQW90dG8yMDA5YSUyMCUzRCUyMERCJTI4V29ya1VucmVsYXRlZCUyOCUwQSUyMCUyMCUyMCUyMDIwMDklMkMlMjAlMjJEeW5hbWljcyUyMGluJTIwSVMlMjBEZXZlbG9wbWVudCUzQSUyMEElMjBNdWx0aS1NZXRob2QlMjBFeHBlcmltZW50JTIwdG8lMjBNZWFzdXJlJTIwdGhlJTIwRWZmZWN0cyUyMG9mJTIwRGlzcnVwdGlvbnMlMjBkdXJpbmclMjB0aGUlMjBEZXZlbG9wbWVudCUyMFByb2Nlc3MlMjIlMkMlMEElMjAlMjAlMjAlMjBkaXNwbGF5JTNEJTIyb3R0byUyMiUyQyUwQSUyMCUyMCUyMCUyMGF1dGhvcnMlM0QlMjJPdHRvJTJDJTIwUGV0ZXIlMjBhbmQlMjBCZWxhcmRvJTJDJTIwU2FsdmF0b3JlJTIyJTJDJTBBJTIwJTIwJTIwJTIwcGxhY2UlM0RGQUtFJTJDJTBBJTIwJTIwJTIwJTIwcHAlM0QlMjIxLS0xOSUyMiUyQyUwQSUyMCUyMCUyMCUyMGVudHJ5dHlwZSUzRCUyMmFydGljbGUlMjIlMkMlMEElMjAlMjAlMjAlMjB2b2x1bWUlM0QlMjIxJTIyJTJDJTBBJTIwJTIwJTIwJTIwbnVtYmVyJTNEJTIyMiUyMiUyQyUwQSUyMCUyMCUyMCUyMHB1Ymxpc2hlciUzRCUyMklHSSUyMEdsb2JhbCUyMiUyQyUwQSUyMCUyMCUyMCUyMElEJTNEJTIyb3R0bzIwMDlkeW5hbWljcyUyMiUyQyUwQSUyMCUyMCUyMCUyMHNjaG9sYXIyMDE1JTNEJTIyMSUyMiUyQyUwQSUyMCUyMCUyMCUyMHBsYWNleCUzRCUyMkludGVybmF0aW9uYWwlMjBKb3VybmFsJTIwb2YlMjBEZWNpc2lvbiUyMFN1cHBvcnQlMjBTeXN0ZW0lMjBUZWNobm9sb2d5JTIwJTI4SUpEU1NUJTI5JTIyJTJDJTBBJTI5JTI5JTBBJTI3JTI3JTI3JTI5JTNC\")));\n",
       "    "
      ],
      "text/plain": [
       "<IPython.core.display.Javascript object>"
      ]
     },
     "metadata": {},
     "output_type": "display_data"
    },
    {
     "data": {
      "application/javascript": [
       "$('span:contains(\"# Temp\")').closest('.cell').remove();"
      ],
      "text/plain": [
       "<IPython.core.display.Javascript object>"
      ]
     },
     "metadata": {},
     "output_type": "display_data"
    },
    {
     "data": {
      "application/javascript": [
       "\n",
       "        $('span:contains(\"# Temp\")').closest('.cell').remove();\n",
       "        var code = IPython.notebook.insert_cell_below('code');\n",
       "        code.set_text(decodeURIComponent(window.atob(\"JTIzJTIwVGVtcCUwQWluc2VydCUyOCUyNyUyNyUyNyUwQW11ZWhsZW4yMDA1YSUyMCUzRCUyMERCJTI4V29ya1VucmVsYXRlZCUyOCUwQSUyMCUyMCUyMCUyMDIwMDUlMkMlMjAlMjJSaXNrJTIwbWFuYWdlbWVudCUyMGluJTIwdGhlJTIwQlBNJTIwbGlmZWN5Y2xlJTIyJTJDJTBBJTIwJTIwJTIwJTIwZGlzcGxheSUzRCUyMm11ZWhsZW4lMjIlMkMlMEElMjAlMjAlMjAlMjBhdXRob3JzJTNEJTIyWnVyJTIwTXVlaGxlbiUyQyUyME1pY2hhZWwlMjBhbmQlMjBIbyUyQyUyMERhbm55JTIwVGluZy1ZaSUyMiUyQyUwQSUyMCUyMCUyMCUyMHBsYWNlJTNERkFLRSUyQyUwQSUyMCUyMCUyMCUyMHBwJTNEJTIyNDU0LS00NjYlMjIlMkMlMEElMjAlMjAlMjAlMjBlbnRyeXR5cGUlM0QlMjJpbnByb2NlZWRpbmdzJTIyJTJDJTBBJTIwJTIwJTIwJTIwb3JnYW5pemF0aW9uJTNEJTIyU3ByaW5nZXIlMjIlMkMlMEElMjAlMjAlMjAlMjBJRCUzRCUyMnp1cjIwMDVyaXNrJTIyJTJDJTBBJTIwJTIwJTIwJTIwc2Nob2xhcjIwMTUlM0QlMjIxJTIyJTJDJTBBJTIwJTIwJTIwJTIwcGxhY2V4JTNEJTIySW50ZXJuYXRpb25hbCUyMENvbmZlcmVuY2UlMjBvbiUyMEJ1c2luZXNzJTIwUHJvY2VzcyUyME1hbmFnZW1lbnQlMjIlMkMlMEElMjklMjklMEElMjclMjclMjclMjklM0I=\")));\n",
       "    "
      ],
      "text/plain": [
       "<IPython.core.display.Javascript object>"
      ]
     },
     "metadata": {},
     "output_type": "display_data"
    },
    {
     "data": {
      "application/javascript": [
       "$('span:contains(\"# Temp\")').closest('.cell').remove();"
      ],
      "text/plain": [
       "<IPython.core.display.Javascript object>"
      ]
     },
     "metadata": {},
     "output_type": "display_data"
    },
    {
     "data": {
      "application/javascript": [
       "\n",
       "        $('span:contains(\"# Temp\")').closest('.cell').remove();\n",
       "        var code = IPython.notebook.insert_cell_below('code');\n",
       "        code.set_text(decodeURIComponent(window.atob(\"JTIzJTIwVGVtcCUwQWluc2VydCUyOCUyNyUyNyUyNyUwQW11ZWhsZW4yMDA1YSUyMCUzRCUyMERCJTI4V29ya1VucmVsYXRlZCUyOCUwQSUyMCUyMCUyMCUyMDIwMDUlMkMlMjAlMjJSaXNrJTIwbWFuYWdlbWVudCUyMGluJTIwdGhlJTIwQlBNJTIwbGlmZWN5Y2xlJTIyJTJDJTBBJTIwJTIwJTIwJTIwZGlzcGxheSUzRCUyMm11ZWhsZW4lMjIlMkMlMEElMjAlMjAlMjAlMjBhdXRob3JzJTNEJTIyWnVyJTIwTXVlaGxlbiUyQyUyME1pY2hhZWwlMjBhbmQlMjBIbyUyQyUyMERhbm55JTIwVGluZy1ZaSUyMiUyQyUwQSUyMCUyMCUyMCUyMHBsYWNlJTNERkFLRSUyQyUwQSUyMCUyMCUyMCUyMHBwJTNEJTIyNDU0LS00NjYlMjIlMkMlMEElMjAlMjAlMjAlMjBlbnRyeXR5cGUlM0QlMjJpbnByb2NlZWRpbmdzJTIyJTJDJTBBJTIwJTIwJTIwJTIwb3JnYW5pemF0aW9uJTNEJTIyU3ByaW5nZXIlMjIlMkMlMEElMjAlMjAlMjAlMjBJRCUzRCUyMnp1cjIwMDVyaXNrJTIyJTJDJTBBJTIwJTIwJTIwJTIwc2Nob2xhcjIwMTUlM0QlMjIxJTIyJTJDJTBBJTIwJTIwJTIwJTIwcGxhY2V4JTNEJTIySW50ZXJuYXRpb25hbCUyMENvbmZlcmVuY2UlMjBvbiUyMEJ1c2luZXNzJTIwUHJvY2VzcyUyME1hbmFnZW1lbnQlMjIlMkMlMEElMjklMjklMEElMjclMjclMjclMjklM0I=\")));\n",
       "    "
      ],
      "text/plain": [
       "<IPython.core.display.Javascript object>"
      ]
     },
     "metadata": {},
     "output_type": "display_data"
    },
    {
     "data": {
      "application/javascript": [
       "$('span:contains(\"# Temp\")').closest('.cell').remove();"
      ],
      "text/plain": [
       "<IPython.core.display.Javascript object>"
      ]
     },
     "metadata": {},
     "output_type": "display_data"
    },
    {
     "data": {
      "application/javascript": [
       "\n",
       "        $('span:contains(\"# Temp\")').closest('.cell').remove();\n",
       "        var code = IPython.notebook.insert_cell_below('code');\n",
       "        code.set_text(decodeURIComponent(window.atob(\"JTIzJTIwVGVtcCUwQWluc2VydCUyOCUyNyUyNyUyNyUyNyUyNyUyNyUyOSUzQiUwQXNldF9hdHRyaWJ1dGUlMjglMjdidWdsaW9uZTIwMDBhJTI3JTJDJTIwJTI3b3JnYW5pemF0aW9uJTI3JTJDJTIwJTI3Q2l0ZXNlZXIlMjclMjklM0IlMEFzZXRfYXR0cmlidXRlJTI4JTI3YnVnbGlvbmUyMDAwYSUyNyUyQyUyMCUyN3NjaG9sYXIyMDE1JTI3JTJDJTIwJTI3MSUyNyUyOSUzQg==\")));\n",
       "    "
      ],
      "text/plain": [
       "<IPython.core.display.Javascript object>"
      ]
     },
     "metadata": {},
     "output_type": "display_data"
    },
    {
     "data": {
      "application/javascript": [
       "$('span:contains(\"# Temp\")').closest('.cell').remove();"
      ],
      "text/plain": [
       "<IPython.core.display.Javascript object>"
      ]
     },
     "metadata": {},
     "output_type": "display_data"
    },
    {
     "data": {
      "application/javascript": [
       "\n",
       "        $('span:contains(\"# Temp\")').closest('.cell').remove();\n",
       "        var code = IPython.notebook.insert_cell_below('code');\n",
       "        code.set_text(decodeURIComponent(window.atob(\"JTIzJTIwVGVtcCUwQWluc2VydCUyOCUyNyUyNyUyNyUyNyUyNyUyNyUyOSUzQiUwQXNldF9hdHRyaWJ1dGUlMjglMjdidWdsaW9uZTIwMDBhJTI3JTJDJTIwJTI3b3JnYW5pemF0aW9uJTI3JTJDJTIwJTI3Q2l0ZXNlZXIlMjclMjklM0IlMEFzZXRfYXR0cmlidXRlJTI4JTI3YnVnbGlvbmUyMDAwYSUyNyUyQyUyMCUyN3NjaG9sYXIyMDE1JTI3JTJDJTIwJTI3MSUyNyUyOSUzQg==\")));\n",
       "    "
      ],
      "text/plain": [
       "<IPython.core.display.Javascript object>"
      ]
     },
     "metadata": {},
     "output_type": "display_data"
    },
    {
     "data": {
      "application/javascript": [
       "$('span:contains(\"# Temp\")').closest('.cell').remove();"
      ],
      "text/plain": [
       "<IPython.core.display.Javascript object>"
      ]
     },
     "metadata": {},
     "output_type": "display_data"
    },
    {
     "data": {
      "application/javascript": [
       "\n",
       "        $('span:contains(\"# Temp\")').closest('.cell').remove();\n",
       "        var code = IPython.notebook.insert_cell_below('code');\n",
       "        code.set_text(decodeURIComponent(window.atob(\"JTIzJTIwVGVtcCUwQWluc2VydCUyOCUyNyUyNyUyNyUwQWtleWVzMjAxNmElMjAlM0QlMjBEQiUyOFdvcmtVbnJlbGF0ZWQlMjglMEElMjAlMjAlMjAlMjAyMDE2JTJDJTIwJTIySW1wbGVtZW50aW5nJTIwdGhlJTIwSVQlMjBiYWxhbmNlZCUyMHNjb3JlY2FyZCUzQSUyMEFsaWduaW5nJTIwSVQlMjB3aXRoJTIwY29ycG9yYXRlJTIwc3RyYXRlZ3klMjIlMkMlMEElMjAlMjAlMjAlMjBkaXNwbGF5JTNEJTIya2V5ZXMlMjIlMkMlMEElMjAlMjAlMjAlMjBhdXRob3JzJTNEJTIyS2V5ZXMlMkMlMjBKZXNzaWNhJTIyJTJDJTBBJTIwJTIwJTIwJTIwcGxhY2UlM0RCb29rJTJDJTBBJTIwJTIwJTIwJTIwZW50cnl0eXBlJTNEJTIyYm9vayUyMiUyQyUwQSUyMCUyMCUyMCUyMHB1Ymxpc2hlciUzRCUyMkF1ZXJiYWNoJTIwUHVibGljYXRpb25zJTIyJTJDJTBBJTIwJTIwJTIwJTIwSUQlM0QlMjJrZXllczIwMTZpbXBsZW1lbnRpbmclMjIlMkMlMEElMjAlMjAlMjAlMjBzY2hvbGFyMjAxNSUzRCUyMjElMjIlMkMlMEElMjAlMjAlMjAlMjBwbGFjZXglM0QlMjIlMjIlMkMlMEElMjklMjklMEElMjclMjclMjclMjklM0I=\")));\n",
       "    "
      ],
      "text/plain": [
       "<IPython.core.display.Javascript object>"
      ]
     },
     "metadata": {},
     "output_type": "display_data"
    },
    {
     "data": {
      "application/javascript": [
       "$('span:contains(\"# Temp\")').closest('.cell').remove();"
      ],
      "text/plain": [
       "<IPython.core.display.Javascript object>"
      ]
     },
     "metadata": {},
     "output_type": "display_data"
    },
    {
     "data": {
      "application/javascript": [
       "\n",
       "        $('span:contains(\"# Temp\")').closest('.cell').remove();\n",
       "        var code = IPython.notebook.insert_cell_below('code');\n",
       "        code.set_text(decodeURIComponent(window.atob(\"JTIzJTIwVGVtcCUwQWluc2VydCUyOCUyNyUyNyUyNyUwQWtleWVzMjAxNmElMjAlM0QlMjBEQiUyOFdvcmtVbnJlbGF0ZWQlMjglMEElMjAlMjAlMjAlMjAyMDE2JTJDJTIwJTIySW1wbGVtZW50aW5nJTIwdGhlJTIwSVQlMjBiYWxhbmNlZCUyMHNjb3JlY2FyZCUzQSUyMEFsaWduaW5nJTIwSVQlMjB3aXRoJTIwY29ycG9yYXRlJTIwc3RyYXRlZ3klMjIlMkMlMEElMjAlMjAlMjAlMjBkaXNwbGF5JTNEJTIya2V5ZXMlMjIlMkMlMEElMjAlMjAlMjAlMjBhdXRob3JzJTNEJTIyS2V5ZXMlMkMlMjBKZXNzaWNhJTIyJTJDJTBBJTIwJTIwJTIwJTIwcGxhY2UlM0RCb29rJTJDJTBBJTIwJTIwJTIwJTIwZW50cnl0eXBlJTNEJTIyYm9vayUyMiUyQyUwQSUyMCUyMCUyMCUyMHB1Ymxpc2hlciUzRCUyMkF1ZXJiYWNoJTIwUHVibGljYXRpb25zJTIyJTJDJTBBJTIwJTIwJTIwJTIwSUQlM0QlMjJrZXllczIwMTZpbXBsZW1lbnRpbmclMjIlMkMlMEElMjAlMjAlMjAlMjBzY2hvbGFyMjAxNSUzRCUyMjElMjIlMkMlMEElMjAlMjAlMjAlMjBwbGFjZXglM0QlMjIlMjIlMkMlMEElMjklMjklMEElMjclMjclMjclMjklM0I=\")));\n",
       "    "
      ],
      "text/plain": [
       "<IPython.core.display.Javascript object>"
      ]
     },
     "metadata": {},
     "output_type": "display_data"
    },
    {
     "data": {
      "application/javascript": [
       "$('span:contains(\"# Temp\")').closest('.cell').remove();"
      ],
      "text/plain": [
       "<IPython.core.display.Javascript object>"
      ]
     },
     "metadata": {},
     "output_type": "display_data"
    },
    {
     "data": {
      "application/javascript": [
       "\n",
       "        $('span:contains(\"# Temp\")').closest('.cell').remove();\n",
       "        var code = IPython.notebook.insert_cell_below('code');\n",
       "        code.set_text(decodeURIComponent(window.atob(\"JTIzJTIwVGVtcCUwQWluc2VydCUyOCUyNyUyNyUyNyUwQWdpYWdsaXMyMDAxYSUyMCUzRCUyMERCJTI4V29ya1VucmVsYXRlZCUyOCUwQSUyMCUyMCUyMCUyMDIwMDElMkMlMjAlMjJBJTIwdGF4b25vbXklMjBvZiUyMGJ1c2luZXNzJTIwcHJvY2VzcyUyMG1vZGVsaW5nJTIwYW5kJTIwaW5mb3JtYXRpb24lMjBzeXN0ZW1zJTIwbW9kZWxpbmclMjB0ZWNobmlxdWVzJTIyJTJDJTBBJTIwJTIwJTIwJTIwZGlzcGxheSUzRCUyMmdpYWdsaXMlMjIlMkMlMEElMjAlMjAlMjAlMjBhdXRob3JzJTNEJTIyR2lhZ2xpcyUyQyUyMEdlb3JnZSUyME0lMjIlMkMlMEElMjAlMjAlMjAlMjBwbGFjZSUzREZBS0UlMkMlMEElMjAlMjAlMjAlMjBwcCUzRCUyMjIwOS0tMjI4JTIyJTJDJTBBJTIwJTIwJTIwJTIwZW50cnl0eXBlJTNEJTIyYXJ0aWNsZSUyMiUyQyUwQSUyMCUyMCUyMCUyMHZvbHVtZSUzRCUyMjEzJTIyJTJDJTBBJTIwJTIwJTIwJTIwbnVtYmVyJTNEJTIyMiUyMiUyQyUwQSUyMCUyMCUyMCUyMHB1Ymxpc2hlciUzRCUyMlNwcmluZ2VyJTIyJTJDJTBBJTIwJTIwJTIwJTIwSUQlM0QlMjJnaWFnbGlzMjAwMXRheG9ub215JTIyJTJDJTBBJTIwJTIwJTIwJTIwc2Nob2xhcjIwMTUlM0QlMjIxJTIyJTJDJTBBJTIwJTIwJTIwJTIwcGxhY2V4JTNEJTIySW50ZXJuYXRpb25hbCUyMEpvdXJuYWwlMjBvZiUyMEZsZXhpYmxlJTIwTWFudWZhY3R1cmluZyUyMFN5c3RlbXMlMjIlMkMlMEElMjklMjklMEElMjclMjclMjclMjklM0I=\")));\n",
       "    "
      ],
      "text/plain": [
       "<IPython.core.display.Javascript object>"
      ]
     },
     "metadata": {},
     "output_type": "display_data"
    },
    {
     "data": {
      "application/javascript": [
       "$('span:contains(\"# Temp\")').closest('.cell').remove();"
      ],
      "text/plain": [
       "<IPython.core.display.Javascript object>"
      ]
     },
     "metadata": {},
     "output_type": "display_data"
    },
    {
     "data": {
      "application/javascript": [
       "\n",
       "        $('span:contains(\"# Temp\")').closest('.cell').remove();\n",
       "        var code = IPython.notebook.insert_cell_below('code');\n",
       "        code.set_text(decodeURIComponent(window.atob(\"JTIzJTIwVGVtcCUwQWluc2VydCUyOCUyNyUyNyUyNyUwQWdpYWdsaXMyMDAxYSUyMCUzRCUyMERCJTI4V29ya1VucmVsYXRlZCUyOCUwQSUyMCUyMCUyMCUyMDIwMDElMkMlMjAlMjJBJTIwdGF4b25vbXklMjBvZiUyMGJ1c2luZXNzJTIwcHJvY2VzcyUyMG1vZGVsaW5nJTIwYW5kJTIwaW5mb3JtYXRpb24lMjBzeXN0ZW1zJTIwbW9kZWxpbmclMjB0ZWNobmlxdWVzJTIyJTJDJTBBJTIwJTIwJTIwJTIwZGlzcGxheSUzRCUyMmdpYWdsaXMlMjIlMkMlMEElMjAlMjAlMjAlMjBhdXRob3JzJTNEJTIyR2lhZ2xpcyUyQyUyMEdlb3JnZSUyME0lMjIlMkMlMEElMjAlMjAlMjAlMjBwbGFjZSUzREZBS0UlMkMlMEElMjAlMjAlMjAlMjBwcCUzRCUyMjIwOS0tMjI4JTIyJTJDJTBBJTIwJTIwJTIwJTIwZW50cnl0eXBlJTNEJTIyYXJ0aWNsZSUyMiUyQyUwQSUyMCUyMCUyMCUyMHZvbHVtZSUzRCUyMjEzJTIyJTJDJTBBJTIwJTIwJTIwJTIwbnVtYmVyJTNEJTIyMiUyMiUyQyUwQSUyMCUyMCUyMCUyMHB1Ymxpc2hlciUzRCUyMlNwcmluZ2VyJTIyJTJDJTBBJTIwJTIwJTIwJTIwSUQlM0QlMjJnaWFnbGlzMjAwMXRheG9ub215JTIyJTJDJTBBJTIwJTIwJTIwJTIwc2Nob2xhcjIwMTUlM0QlMjIxJTIyJTJDJTBBJTIwJTIwJTIwJTIwcGxhY2V4JTNEJTIySW50ZXJuYXRpb25hbCUyMEpvdXJuYWwlMjBvZiUyMEZsZXhpYmxlJTIwTWFudWZhY3R1cmluZyUyMFN5c3RlbXMlMjIlMkMlMEElMjklMjklMEElMjclMjclMjclMjklM0I=\")));\n",
       "    "
      ],
      "text/plain": [
       "<IPython.core.display.Javascript object>"
      ]
     },
     "metadata": {},
     "output_type": "display_data"
    },
    {
     "data": {
      "application/javascript": [
       "$('span:contains(\"# Temp\")').closest('.cell').remove();"
      ],
      "text/plain": [
       "<IPython.core.display.Javascript object>"
      ]
     },
     "metadata": {},
     "output_type": "display_data"
    },
    {
     "data": {
      "application/javascript": [
       "\n",
       "        $('span:contains(\"# Temp\")').closest('.cell').remove();\n",
       "        var code = IPython.notebook.insert_cell_below('code');\n",
       "        code.set_text(decodeURIComponent(window.atob(\"JTIzJTIwVGVtcCUwQWluc2VydCUyOCUyNyUyNyUyNyUyNyUyNyUyNyUyOSUzQiUwQXNldF9hdHRyaWJ1dGUlMjglMjdiYXNpbGkyMDA3YSUyNyUyQyUyMCUyN3NjaG9sYXIyMDE1JTI3JTJDJTIwJTI3MSUyNyUyOSUzQg==\")));\n",
       "    "
      ],
      "text/plain": [
       "<IPython.core.display.Javascript object>"
      ]
     },
     "metadata": {},
     "output_type": "display_data"
    },
    {
     "data": {
      "application/javascript": [
       "$('span:contains(\"# Temp\")').closest('.cell').remove();"
      ],
      "text/plain": [
       "<IPython.core.display.Javascript object>"
      ]
     },
     "metadata": {},
     "output_type": "display_data"
    },
    {
     "data": {
      "application/javascript": [
       "\n",
       "        $('span:contains(\"# Temp\")').closest('.cell').remove();\n",
       "        var code = IPython.notebook.insert_cell_below('code');\n",
       "        code.set_text(decodeURIComponent(window.atob(\"JTIzJTIwVGVtcCUwQWluc2VydCUyOCUyNyUyNyUyNyUyNyUyNyUyNyUyOSUzQiUwQXNldF9hdHRyaWJ1dGUlMjglMjdiYXNpbGkyMDA3YSUyNyUyQyUyMCUyN3NjaG9sYXIyMDE1JTI3JTJDJTIwJTI3MSUyNyUyOSUzQg==\")));\n",
       "    "
      ],
      "text/plain": [
       "<IPython.core.display.Javascript object>"
      ]
     },
     "metadata": {},
     "output_type": "display_data"
    },
    {
     "data": {
      "application/javascript": [
       "$('span:contains(\"# Temp\")').closest('.cell').remove();"
      ],
      "text/plain": [
       "<IPython.core.display.Javascript object>"
      ]
     },
     "metadata": {},
     "output_type": "display_data"
    },
    {
     "data": {
      "application/javascript": [
       "\n",
       "        $('span:contains(\"# Temp\")').closest('.cell').remove();\n",
       "        var code = IPython.notebook.insert_cell_below('code');\n",
       "        code.set_text(decodeURIComponent(window.atob(\"JTIzJTIwVGVtcCUwQWluc2VydCUyOCUyNyUyNyUyNyUwQWVtaWxpYW5pMjAwMGElMjAlM0QlMjBEQiUyOFdvcmtVbnJlbGF0ZWQlMjglMEElMjAlMjAlMjAlMjAyMDAwJTJDJTIwJTIyQnVzaW5lc3MtdG8tYnVzaW5lc3MlMjBvbmxpbmUlMjBhdWN0aW9ucyUzQSUyMGtleSUyMGlzc3VlcyUyMGZvciUyMHB1cmNoYXNpbmclMjBwcm9jZXNzJTIwaW1wcm92ZW1lbnQlMjIlMkMlMEElMjAlMjAlMjAlMjBkaXNwbGF5JTNEJTIyZW1pbGlhbmklMjIlMkMlMEElMjAlMjAlMjAlMjBhdXRob3JzJTNEJTIyRW1pbGlhbmklMkMlMjBNYXJpbyUyMEwlMjIlMkMlMEElMjAlMjAlMjAlMjBwbGFjZSUzREZBS0UlMkMlMEElMjAlMjAlMjAlMjBwcCUzRCUyMjE3Ni0tMTg2JTIyJTJDJTBBJTIwJTIwJTIwJTIwZW50cnl0eXBlJTNEJTIyYXJ0aWNsZSUyMiUyQyUwQSUyMCUyMCUyMCUyMHZvbHVtZSUzRCUyMjUlMjIlMkMlMEElMjAlMjAlMjAlMjBudW1iZXIlM0QlMjI0JTIyJTJDJTBBJTIwJTIwJTIwJTIwcHVibGlzaGVyJTNEJTIyTUNCJTIwVVAlMjBMdGQlMjIlMkMlMEElMjAlMjAlMjAlMjBJRCUzRCUyMmVtaWxpYW5pMjAwMGJ1c2luZXNzJTIyJTJDJTBBJTIwJTIwJTIwJTIwc2Nob2xhcjIwMTUlM0QlMjIxJTIyJTJDJTBBJTIwJTIwJTIwJTIwcGxhY2V4JTNEJTIyU3VwcGx5JTIwQ2hhaW4lMjBNYW5hZ2VtZW50JTNBJTIwQW4lMjBJbnRlcm5hdGlvbmFsJTIwSm91cm5hbCUyMiUyQyUwQSUyOSUyOSUwQSUyNyUyNyUyNyUyOSUzQg==\")));\n",
       "    "
      ],
      "text/plain": [
       "<IPython.core.display.Javascript object>"
      ]
     },
     "metadata": {},
     "output_type": "display_data"
    },
    {
     "data": {
      "application/javascript": [
       "$('span:contains(\"# Temp\")').closest('.cell').remove();"
      ],
      "text/plain": [
       "<IPython.core.display.Javascript object>"
      ]
     },
     "metadata": {},
     "output_type": "display_data"
    },
    {
     "data": {
      "application/javascript": [
       "\n",
       "        $('span:contains(\"# Temp\")').closest('.cell').remove();\n",
       "        var code = IPython.notebook.insert_cell_below('code');\n",
       "        code.set_text(decodeURIComponent(window.atob(\"JTIzJTIwVGVtcCUwQWluc2VydCUyOCUyNyUyNyUyNyUwQWVtaWxpYW5pMjAwMGElMjAlM0QlMjBEQiUyOFdvcmtVbnJlbGF0ZWQlMjglMEElMjAlMjAlMjAlMjAyMDAwJTJDJTIwJTIyQnVzaW5lc3MtdG8tYnVzaW5lc3MlMjBvbmxpbmUlMjBhdWN0aW9ucyUzQSUyMGtleSUyMGlzc3VlcyUyMGZvciUyMHB1cmNoYXNpbmclMjBwcm9jZXNzJTIwaW1wcm92ZW1lbnQlMjIlMkMlMEElMjAlMjAlMjAlMjBkaXNwbGF5JTNEJTIyZW1pbGlhbmklMjIlMkMlMEElMjAlMjAlMjAlMjBhdXRob3JzJTNEJTIyRW1pbGlhbmklMkMlMjBNYXJpbyUyMEwlMjIlMkMlMEElMjAlMjAlMjAlMjBwbGFjZSUzREZBS0UlMkMlMEElMjAlMjAlMjAlMjBwcCUzRCUyMjE3Ni0tMTg2JTIyJTJDJTBBJTIwJTIwJTIwJTIwZW50cnl0eXBlJTNEJTIyYXJ0aWNsZSUyMiUyQyUwQSUyMCUyMCUyMCUyMHZvbHVtZSUzRCUyMjUlMjIlMkMlMEElMjAlMjAlMjAlMjBudW1iZXIlM0QlMjI0JTIyJTJDJTBBJTIwJTIwJTIwJTIwcHVibGlzaGVyJTNEJTIyTUNCJTIwVVAlMjBMdGQlMjIlMkMlMEElMjAlMjAlMjAlMjBJRCUzRCUyMmVtaWxpYW5pMjAwMGJ1c2luZXNzJTIyJTJDJTBBJTIwJTIwJTIwJTIwc2Nob2xhcjIwMTUlM0QlMjIxJTIyJTJDJTBBJTIwJTIwJTIwJTIwcGxhY2V4JTNEJTIyU3VwcGx5JTIwQ2hhaW4lMjBNYW5hZ2VtZW50JTNBJTIwQW4lMjBJbnRlcm5hdGlvbmFsJTIwSm91cm5hbCUyMiUyQyUwQSUyOSUyOSUwQSUyNyUyNyUyNyUyOSUzQg==\")));\n",
       "    "
      ],
      "text/plain": [
       "<IPython.core.display.Javascript object>"
      ]
     },
     "metadata": {},
     "output_type": "display_data"
    },
    {
     "data": {
      "application/javascript": [
       "$('span:contains(\"# Temp\")').closest('.cell').remove();"
      ],
      "text/plain": [
       "<IPython.core.display.Javascript object>"
      ]
     },
     "metadata": {},
     "output_type": "display_data"
    },
    {
     "data": {
      "application/javascript": [
       "\n",
       "        $('span:contains(\"# Temp\")').closest('.cell').remove();\n",
       "        var code = IPython.notebook.insert_cell_below('code');\n",
       "        code.set_text(decodeURIComponent(window.atob(\"JTIzJTIwVGVtcCUwQWluc2VydCUyOCUyNyUyNyUyNyUwQW0lQzMlQkNsbGVyMjAwOWElMjAlM0QlMjBEQiUyOFdvcmtVbnJlbGF0ZWQlMjglMEElMjAlMjAlMjAlMjAyMDA5JTJDJTIwJTIyTWFuYWdpbmclMjBjdWx0dXJhbCUyMHZhcmlhdGlvbiUyMGluJTIwc29mdHdhcmUlMjBwcm9jZXNzJTIwaW1wcm92ZW1lbnQlM0ElMjBBJTIwY29tcGFyaXNvbiUyMG9mJTIwbWV0aG9kcyUyMGZvciUyMHN1YmN1bHR1cmUlMjBhc3Nlc3NtZW50JTIyJTJDJTBBJTIwJTIwJTIwJTIwZGlzcGxheSUzRCUyMm0lQzMlQkNsbGVyJTIyJTJDJTBBJTIwJTIwJTIwJTIwYXV0aG9ycyUzRCUyMk0lQzMlQkNsbGVyJTJDJTIwU3VuZSUyMER1ZWhvbG0lMjBhbmQlMjBLciVDMyVBNm1tZXJnYWFyZCUyQyUyMFBlcm5pbGxlJTIwYW5kJTIwTWF0aGlhc3NlbiUyQyUyMExhcnMlMjIlMkMlMEElMjAlMjAlMjAlMjBwbGFjZSUzREZBS0UlMkMlMEElMjAlMjAlMjAlMjBwcCUzRCUyMjU4NC0tNTk5JTIyJTJDJTBBJTIwJTIwJTIwJTIwZW50cnl0eXBlJTNEJTIyYXJ0aWNsZSUyMiUyQyUwQSUyMCUyMCUyMCUyMHZvbHVtZSUzRCUyMjU2JTIyJTJDJTBBJTIwJTIwJTIwJTIwbnVtYmVyJTNEJTIyNCUyMiUyQyUwQSUyMCUyMCUyMCUyMHB1Ymxpc2hlciUzRCUyMklFRUUlMjIlMkMlMEElMjAlMjAlMjAlMjBJRCUzRCUyMm11bGxlcjIwMDltYW5hZ2luZyUyMiUyQyUwQSUyMCUyMCUyMCUyMHNjaG9sYXIyMDE1JTNEJTIyMSUyMiUyQyUwQSUyMCUyMCUyMCUyMHBsYWNleCUzRCUyMklFRUUlMjBUcmFuc2FjdGlvbnMlMjBvbiUyMEVuZ2luZWVyaW5nJTIwTWFuYWdlbWVudCUyMiUyQyUwQSUyOSUyOSUwQSUyNyUyNyUyNyUyOSUzQg==\")));\n",
       "    "
      ],
      "text/plain": [
       "<IPython.core.display.Javascript object>"
      ]
     },
     "metadata": {},
     "output_type": "display_data"
    },
    {
     "data": {
      "application/javascript": [
       "$('span:contains(\"# Temp\")').closest('.cell').remove();"
      ],
      "text/plain": [
       "<IPython.core.display.Javascript object>"
      ]
     },
     "metadata": {},
     "output_type": "display_data"
    },
    {
     "data": {
      "application/javascript": [
       "\n",
       "        $('span:contains(\"# Temp\")').closest('.cell').remove();\n",
       "        var code = IPython.notebook.insert_cell_below('code');\n",
       "        code.set_text(decodeURIComponent(window.atob(\"JTIzJTIwVGVtcCUwQWluc2VydCUyOCUyNyUyNyUyNyUwQW0lQzMlQkNsbGVyMjAwOWElMjAlM0QlMjBEQiUyOFdvcmtVbnJlbGF0ZWQlMjglMEElMjAlMjAlMjAlMjAyMDA5JTJDJTIwJTIyTWFuYWdpbmclMjBjdWx0dXJhbCUyMHZhcmlhdGlvbiUyMGluJTIwc29mdHdhcmUlMjBwcm9jZXNzJTIwaW1wcm92ZW1lbnQlM0ElMjBBJTIwY29tcGFyaXNvbiUyMG9mJTIwbWV0aG9kcyUyMGZvciUyMHN1YmN1bHR1cmUlMjBhc3Nlc3NtZW50JTIyJTJDJTBBJTIwJTIwJTIwJTIwZGlzcGxheSUzRCUyMm0lQzMlQkNsbGVyJTIyJTJDJTBBJTIwJTIwJTIwJTIwYXV0aG9ycyUzRCUyMk0lQzMlQkNsbGVyJTJDJTIwU3VuZSUyMER1ZWhvbG0lMjBhbmQlMjBLciVDMyVBNm1tZXJnYWFyZCUyQyUyMFBlcm5pbGxlJTIwYW5kJTIwTWF0aGlhc3NlbiUyQyUyMExhcnMlMjIlMkMlMEElMjAlMjAlMjAlMjBwbGFjZSUzREZBS0UlMkMlMEElMjAlMjAlMjAlMjBwcCUzRCUyMjU4NC0tNTk5JTIyJTJDJTBBJTIwJTIwJTIwJTIwZW50cnl0eXBlJTNEJTIyYXJ0aWNsZSUyMiUyQyUwQSUyMCUyMCUyMCUyMHZvbHVtZSUzRCUyMjU2JTIyJTJDJTBBJTIwJTIwJTIwJTIwbnVtYmVyJTNEJTIyNCUyMiUyQyUwQSUyMCUyMCUyMCUyMHB1Ymxpc2hlciUzRCUyMklFRUUlMjIlMkMlMEElMjAlMjAlMjAlMjBJRCUzRCUyMm11bGxlcjIwMDltYW5hZ2luZyUyMiUyQyUwQSUyMCUyMCUyMCUyMHNjaG9sYXIyMDE1JTNEJTIyMSUyMiUyQyUwQSUyMCUyMCUyMCUyMHBsYWNleCUzRCUyMklFRUUlMjBUcmFuc2FjdGlvbnMlMjBvbiUyMEVuZ2luZWVyaW5nJTIwTWFuYWdlbWVudCUyMiUyQyUwQSUyOSUyOSUwQSUyNyUyNyUyNyUyOSUzQg==\")));\n",
       "    "
      ],
      "text/plain": [
       "<IPython.core.display.Javascript object>"
      ]
     },
     "metadata": {},
     "output_type": "display_data"
    },
    {
     "data": {
      "application/javascript": [
       "$('span:contains(\"# Temp\")').closest('.cell').remove();"
      ],
      "text/plain": [
       "<IPython.core.display.Javascript object>"
      ]
     },
     "metadata": {},
     "output_type": "display_data"
    },
    {
     "data": {
      "application/javascript": [
       "\n",
       "        $('span:contains(\"# Temp\")').closest('.cell').remove();\n",
       "        var code = IPython.notebook.insert_cell_below('code');\n",
       "        code.set_text(decodeURIComponent(window.atob(\"JTIzJTIwVGVtcCUwQWluc2VydCUyOCUyNyUyNyUyNyUwQWFsdGVyMjAwNmElMjAlM0QlMjBEQiUyOFdvcmtVbnJlbGF0ZWQlMjglMEElMjAlMjAlMjAlMjAyMDA2JTJDJTIwJTIyVGhlJTIwd29yayUyMHN5c3RlbSUyMG1ldGhvZCUzQSUyMGNvbm5lY3RpbmclMjBwZW9wbGUlMkMlMjBwcm9jZXNzZXMlMkMlMjBhbmQlMjBJVCUyMGZvciUyMGJ1c2luZXNzJTIwcmVzdWx0cyUyMiUyQyUwQSUyMCUyMCUyMCUyMGRpc3BsYXklM0QlMjJhbHRlciUyMiUyQyUwQSUyMCUyMCUyMCUyMGF1dGhvcnMlM0QlMjJBbHRlciUyQyUyMFN0ZXZlbiUyMiUyQyUwQSUyMCUyMCUyMCUyMHBsYWNlJTNEQm9vayUyQyUwQSUyMCUyMCUyMCUyMGVudHJ5dHlwZSUzRCUyMmJvb2slMjIlMkMlMEElMjAlMjAlMjAlMjBwdWJsaXNoZXIlM0QlMjJXb3JrJTIwU3lzdGVtJTIwTWV0aG9kJTIyJTJDJTBBJTIwJTIwJTIwJTIwSUQlM0QlMjJhbHRlcjIwMDZ3b3JrJTIyJTJDJTBBJTIwJTIwJTIwJTIwc2Nob2xhcjIwMTUlM0QlMjIxJTIyJTJDJTBBJTIwJTIwJTIwJTIwcGxhY2V4JTNEJTIyJTIyJTJDJTBBJTI5JTI5JTBBJTI3JTI3JTI3JTI5JTNC\")));\n",
       "    "
      ],
      "text/plain": [
       "<IPython.core.display.Javascript object>"
      ]
     },
     "metadata": {},
     "output_type": "display_data"
    },
    {
     "data": {
      "application/javascript": [
       "$('span:contains(\"# Temp\")').closest('.cell').remove();"
      ],
      "text/plain": [
       "<IPython.core.display.Javascript object>"
      ]
     },
     "metadata": {},
     "output_type": "display_data"
    },
    {
     "data": {
      "application/javascript": [
       "\n",
       "        $('span:contains(\"# Temp\")').closest('.cell').remove();\n",
       "        var code = IPython.notebook.insert_cell_below('code');\n",
       "        code.set_text(decodeURIComponent(window.atob(\"JTIzJTIwVGVtcCUwQWluc2VydCUyOCUyNyUyNyUyNyUwQWFsdGVyMjAwNmElMjAlM0QlMjBEQiUyOFdvcmtVbnJlbGF0ZWQlMjglMEElMjAlMjAlMjAlMjAyMDA2JTJDJTIwJTIyVGhlJTIwd29yayUyMHN5c3RlbSUyMG1ldGhvZCUzQSUyMGNvbm5lY3RpbmclMjBwZW9wbGUlMkMlMjBwcm9jZXNzZXMlMkMlMjBhbmQlMjBJVCUyMGZvciUyMGJ1c2luZXNzJTIwcmVzdWx0cyUyMiUyQyUwQSUyMCUyMCUyMCUyMGRpc3BsYXklM0QlMjJhbHRlciUyMiUyQyUwQSUyMCUyMCUyMCUyMGF1dGhvcnMlM0QlMjJBbHRlciUyQyUyMFN0ZXZlbiUyMiUyQyUwQSUyMCUyMCUyMCUyMHBsYWNlJTNEQm9vayUyQyUwQSUyMCUyMCUyMCUyMGVudHJ5dHlwZSUzRCUyMmJvb2slMjIlMkMlMEElMjAlMjAlMjAlMjBwdWJsaXNoZXIlM0QlMjJXb3JrJTIwU3lzdGVtJTIwTWV0aG9kJTIyJTJDJTBBJTIwJTIwJTIwJTIwSUQlM0QlMjJhbHRlcjIwMDZ3b3JrJTIyJTJDJTBBJTIwJTIwJTIwJTIwc2Nob2xhcjIwMTUlM0QlMjIxJTIyJTJDJTBBJTIwJTIwJTIwJTIwcGxhY2V4JTNEJTIyJTIyJTJDJTBBJTI5JTI5JTBBJTI3JTI3JTI3JTI5JTNC\")));\n",
       "    "
      ],
      "text/plain": [
       "<IPython.core.display.Javascript object>"
      ]
     },
     "metadata": {},
     "output_type": "display_data"
    },
    {
     "data": {
      "application/javascript": [
       "$('span:contains(\"# Temp\")').closest('.cell').remove();"
      ],
      "text/plain": [
       "<IPython.core.display.Javascript object>"
      ]
     },
     "metadata": {},
     "output_type": "display_data"
    },
    {
     "data": {
      "application/javascript": [
       "\n",
       "        $('span:contains(\"# Temp\")').closest('.cell').remove();\n",
       "        var code = IPython.notebook.insert_cell_below('code');\n",
       "        code.set_text(decodeURIComponent(window.atob(\"JTIzJTIwVGVtcCUwQWluc2VydCUyOCUyNyUyNyUyNyUwQWFsYmF5cmFrMjAwNGElMjAlM0QlMjBEQiUyOFdvcmtVbnJlbGF0ZWQlMjglMEElMjAlMjAlMjAlMjAyMDA0JTJDJTIwJTIyVXNpbmclMjBhbmFseXRpYyUyMGhpZXJhcmNoeSUyMHByb2Nlc3MlMjAlMjhBSFAlMjklMjB0byUyMGltcHJvdmUlMjBodW1hbiUyMHBlcmZvcm1hbmNlJTNBJTIwQW4lMjBhcHBsaWNhdGlvbiUyMG9mJTIwbXVsdGlwbGUlMjBjcml0ZXJpYSUyMGRlY2lzaW9uJTIwbWFraW5nJTIwcHJvYmxlbSUyMiUyQyUwQSUyMCUyMCUyMCUyMGRpc3BsYXklM0QlMjJhbGJheXJhayUyMiUyQyUwQSUyMCUyMCUyMCUyMGF1dGhvcnMlM0QlMjJBbGJheXJhayUyQyUyMEVzcmElMjBhbmQlMjBFcmVuc2FsJTJDJTIwWWFzZW1pbiUyMENsYWlyZSUyMiUyQyUwQSUyMCUyMCUyMCUyMHBsYWNlJTNERkFLRSUyQyUwQSUyMCUyMCUyMCUyMHBwJTNEJTIyNDkxLS01MDMlMjIlMkMlMEElMjAlMjAlMjAlMjBlbnRyeXR5cGUlM0QlMjJhcnRpY2xlJTIyJTJDJTBBJTIwJTIwJTIwJTIwdm9sdW1lJTNEJTIyMTUlMjIlMkMlMEElMjAlMjAlMjAlMjBudW1iZXIlM0QlMjI0JTIyJTJDJTBBJTIwJTIwJTIwJTIwcHVibGlzaGVyJTNEJTIyU3ByaW5nZXIlMjIlMkMlMEElMjAlMjAlMjAlMjBJRCUzRCUyMmFsYmF5cmFrMjAwNHVzaW5nJTIyJTJDJTBBJTIwJTIwJTIwJTIwc2Nob2xhcjIwMTUlM0QlMjIxJTIyJTJDJTBBJTIwJTIwJTIwJTIwcGxhY2V4JTNEJTIySm91cm5hbCUyMG9mJTIwSW50ZWxsaWdlbnQlMjBNYW51ZmFjdHVyaW5nJTIyJTJDJTBBJTI5JTI5JTBBJTI3JTI3JTI3JTI5JTNC\")));\n",
       "    "
      ],
      "text/plain": [
       "<IPython.core.display.Javascript object>"
      ]
     },
     "metadata": {},
     "output_type": "display_data"
    },
    {
     "data": {
      "application/javascript": [
       "$('span:contains(\"# Temp\")').closest('.cell').remove();"
      ],
      "text/plain": [
       "<IPython.core.display.Javascript object>"
      ]
     },
     "metadata": {},
     "output_type": "display_data"
    },
    {
     "data": {
      "application/javascript": [
       "\n",
       "        $('span:contains(\"# Temp\")').closest('.cell').remove();\n",
       "        var code = IPython.notebook.insert_cell_below('code');\n",
       "        code.set_text(decodeURIComponent(window.atob(\"JTIzJTIwVGVtcCUwQWluc2VydCUyOCUyNyUyNyUyNyUwQWFsYmF5cmFrMjAwNGElMjAlM0QlMjBEQiUyOFdvcmtVbnJlbGF0ZWQlMjglMEElMjAlMjAlMjAlMjAyMDA0JTJDJTIwJTIyVXNpbmclMjBhbmFseXRpYyUyMGhpZXJhcmNoeSUyMHByb2Nlc3MlMjAlMjhBSFAlMjklMjB0byUyMGltcHJvdmUlMjBodW1hbiUyMHBlcmZvcm1hbmNlJTNBJTIwQW4lMjBhcHBsaWNhdGlvbiUyMG9mJTIwbXVsdGlwbGUlMjBjcml0ZXJpYSUyMGRlY2lzaW9uJTIwbWFraW5nJTIwcHJvYmxlbSUyMiUyQyUwQSUyMCUyMCUyMCUyMGRpc3BsYXklM0QlMjJhbGJheXJhayUyMiUyQyUwQSUyMCUyMCUyMCUyMGF1dGhvcnMlM0QlMjJBbGJheXJhayUyQyUyMEVzcmElMjBhbmQlMjBFcmVuc2FsJTJDJTIwWWFzZW1pbiUyMENsYWlyZSUyMiUyQyUwQSUyMCUyMCUyMCUyMHBsYWNlJTNERkFLRSUyQyUwQSUyMCUyMCUyMCUyMHBwJTNEJTIyNDkxLS01MDMlMjIlMkMlMEElMjAlMjAlMjAlMjBlbnRyeXR5cGUlM0QlMjJhcnRpY2xlJTIyJTJDJTBBJTIwJTIwJTIwJTIwdm9sdW1lJTNEJTIyMTUlMjIlMkMlMEElMjAlMjAlMjAlMjBudW1iZXIlM0QlMjI0JTIyJTJDJTBBJTIwJTIwJTIwJTIwcHVibGlzaGVyJTNEJTIyU3ByaW5nZXIlMjIlMkMlMEElMjAlMjAlMjAlMjBJRCUzRCUyMmFsYmF5cmFrMjAwNHVzaW5nJTIyJTJDJTBBJTIwJTIwJTIwJTIwc2Nob2xhcjIwMTUlM0QlMjIxJTIyJTJDJTBBJTIwJTIwJTIwJTIwcGxhY2V4JTNEJTIySm91cm5hbCUyMG9mJTIwSW50ZWxsaWdlbnQlMjBNYW51ZmFjdHVyaW5nJTIyJTJDJTBBJTI5JTI5JTBBJTI3JTI3JTI3JTI5JTNC\")));\n",
       "    "
      ],
      "text/plain": [
       "<IPython.core.display.Javascript object>"
      ]
     },
     "metadata": {},
     "output_type": "display_data"
    },
    {
     "data": {
      "application/javascript": [
       "$('span:contains(\"# Temp\")').closest('.cell').remove();"
      ],
      "text/plain": [
       "<IPython.core.display.Javascript object>"
      ]
     },
     "metadata": {},
     "output_type": "display_data"
    },
    {
     "data": {
      "application/javascript": [
       "\n",
       "        $('span:contains(\"# Temp\")').closest('.cell').remove();\n",
       "        var code = IPython.notebook.insert_cell_below('code');\n",
       "        code.set_text(decodeURIComponent(window.atob(\"JTIzJTIwVGVtcCUwQWluc2VydCUyOCUyNyUyNyUyNyUwQWtldHRpbmdlcjE5OTdhJTIwJTNEJTIwREIlMjhXb3JrVW5yZWxhdGVkJTI4JTBBJTIwJTIwJTIwJTIwMTk5NyUyQyUyMCUyMkJ1c2luZXNzJTIwcHJvY2VzcyUyMGNoYW5nZSUzQSUyMGElMjBzdHVkeSUyMG9mJTIwbWV0aG9kb2xvZ2llcyUyQyUyMHRlY2huaXF1ZXMlMkMlMjBhbmQlMjB0b29scyUyMiUyQyUwQSUyMCUyMCUyMCUyMGRpc3BsYXklM0QlMjJrZXR0aW5nZXIlMjIlMkMlMEElMjAlMjAlMjAlMjBhdXRob3JzJTNEJTIyS2V0dGluZ2VyJTJDJTIwV2lsbGlhbSUyMEolMjBhbmQlMjBUZW5nJTJDJTIwSmFtZXMlMjBUQyUyMGFuZCUyMEd1aGElMkMlMjBTdWJhc2hpc2glMjIlMkMlMEElMjAlMjAlMjAlMjBwbGFjZSUzREZBS0UlMkMlMEElMjAlMjAlMjAlMjBwcCUzRCUyMjU1LS04MCUyMiUyQyUwQSUyMCUyMCUyMCUyMGVudHJ5dHlwZSUzRCUyMmFydGljbGUlMjIlMkMlMEElMjAlMjAlMjAlMjBwdWJsaXNoZXIlM0QlMjJKU1RPUiUyMiUyQyUwQSUyMCUyMCUyMCUyMElEJTNEJTIya2V0dGluZ2VyMTk5N2J1c2luZXNzJTIyJTJDJTBBJTIwJTIwJTIwJTIwc2Nob2xhcjIwMTUlM0QlMjIxJTIyJTJDJTBBJTIwJTIwJTIwJTIwcGxhY2V4JTNEJTIyTUlTJTIwcXVhcnRlcmx5JTIyJTJDJTBBJTI5JTI5JTBBJTI3JTI3JTI3JTI5JTNC\")));\n",
       "    "
      ],
      "text/plain": [
       "<IPython.core.display.Javascript object>"
      ]
     },
     "metadata": {},
     "output_type": "display_data"
    },
    {
     "data": {
      "application/javascript": [
       "$('span:contains(\"# Temp\")').closest('.cell').remove();"
      ],
      "text/plain": [
       "<IPython.core.display.Javascript object>"
      ]
     },
     "metadata": {},
     "output_type": "display_data"
    },
    {
     "data": {
      "application/javascript": [
       "\n",
       "        $('span:contains(\"# Temp\")').closest('.cell').remove();\n",
       "        var code = IPython.notebook.insert_cell_below('code');\n",
       "        code.set_text(decodeURIComponent(window.atob(\"JTIzJTIwVGVtcCUwQWluc2VydCUyOCUyNyUyNyUyNyUwQWtldHRpbmdlcjE5OTdhJTIwJTNEJTIwREIlMjhXb3JrVW5yZWxhdGVkJTI4JTBBJTIwJTIwJTIwJTIwMTk5NyUyQyUyMCUyMkJ1c2luZXNzJTIwcHJvY2VzcyUyMGNoYW5nZSUzQSUyMGElMjBzdHVkeSUyMG9mJTIwbWV0aG9kb2xvZ2llcyUyQyUyMHRlY2huaXF1ZXMlMkMlMjBhbmQlMjB0b29scyUyMiUyQyUwQSUyMCUyMCUyMCUyMGRpc3BsYXklM0QlMjJrZXR0aW5nZXIlMjIlMkMlMEElMjAlMjAlMjAlMjBhdXRob3JzJTNEJTIyS2V0dGluZ2VyJTJDJTIwV2lsbGlhbSUyMEolMjBhbmQlMjBUZW5nJTJDJTIwSmFtZXMlMjBUQyUyMGFuZCUyMEd1aGElMkMlMjBTdWJhc2hpc2glMjIlMkMlMEElMjAlMjAlMjAlMjBwbGFjZSUzREZBS0UlMkMlMEElMjAlMjAlMjAlMjBwcCUzRCUyMjU1LS04MCUyMiUyQyUwQSUyMCUyMCUyMCUyMGVudHJ5dHlwZSUzRCUyMmFydGljbGUlMjIlMkMlMEElMjAlMjAlMjAlMjBwdWJsaXNoZXIlM0QlMjJKU1RPUiUyMiUyQyUwQSUyMCUyMCUyMCUyMElEJTNEJTIya2V0dGluZ2VyMTk5N2J1c2luZXNzJTIyJTJDJTBBJTIwJTIwJTIwJTIwc2Nob2xhcjIwMTUlM0QlMjIxJTIyJTJDJTBBJTIwJTIwJTIwJTIwcGxhY2V4JTNEJTIyTUlTJTIwcXVhcnRlcmx5JTIyJTJDJTBBJTI5JTI5JTBBJTI3JTI3JTI3JTI5JTNC\")));\n",
       "    "
      ],
      "text/plain": [
       "<IPython.core.display.Javascript object>"
      ]
     },
     "metadata": {},
     "output_type": "display_data"
    },
    {
     "data": {
      "application/javascript": [
       "$('span:contains(\"# Temp\")').closest('.cell').remove();"
      ],
      "text/plain": [
       "<IPython.core.display.Javascript object>"
      ]
     },
     "metadata": {},
     "output_type": "display_data"
    },
    {
     "data": {
      "application/javascript": [
       "\n",
       "        $('span:contains(\"# Temp\")').closest('.cell').remove();\n",
       "        var code = IPython.notebook.insert_cell_below('code');\n",
       "        code.set_text(decodeURIComponent(window.atob(\"JTIzJTIwVGVtcCUwQWluc2VydCUyOCUyNyUyNyUyNyUwQWhhbW1lcjIwMDJhJTIwJTNEJTIwREIlMjhXb3JrVW5yZWxhdGVkJTI4JTBBJTIwJTIwJTIwJTIwMjAwMiUyQyUyMCUyMlByb2Nlc3MlMjBtYW5hZ2VtZW50JTIwYW5kJTIwdGhlJTIwZnV0dXJlJTIwb2YlMjBzaXglMjBzaWdtYSUzQSUyMHNhdnZ5JTIwY29tcGFuaWVzJTIwaGF2ZSUyMGxlYXJuZWQlMjB0aGF0JTIwdGhlaXIlMjBzaXgtc2lnbWElMjBpbml0aWF0aXZlcyUyMG11c3QlMjBzZXJ2ZSUyMHRoZSUyMGxhcmdlciUyMGVuZGVhdm9yJTIwb2YlMjBwcm9jZXNzJTIwbWFuYWdlbWVudCUyMiUyQyUwQSUyMCUyMCUyMCUyMGRpc3BsYXklM0QlMjJoYW1tZXIlMjIlMkMlMEElMjAlMjAlMjAlMjBhdXRob3JzJTNEJTIySGFtbWVyJTJDJTIwTWljaGFlbCUyMiUyQyUwQSUyMCUyMCUyMCUyMHBsYWNlJTNERkFLRSUyQyUwQSUyMCUyMCUyMCUyMHBwJTNEJTIyMjYtLTMzJTIyJTJDJTBBJTIwJTIwJTIwJTIwZW50cnl0eXBlJTNEJTIyYXJ0aWNsZSUyMiUyQyUwQSUyMCUyMCUyMCUyMHZvbHVtZSUzRCUyMjQzJTIyJTJDJTBBJTIwJTIwJTIwJTIwbnVtYmVyJTNEJTIyMiUyMiUyQyUwQSUyMCUyMCUyMCUyMHB1Ymxpc2hlciUzRCUyMlNsb2FuJTIwTWFuYWdlbWVudCUyMFJldmlldyUyMiUyQyUwQSUyMCUyMCUyMCUyMElEJTNEJTIyaGFtbWVyMjAwMnByb2Nlc3MlMjIlMkMlMEElMjAlMjAlMjAlMjBzY2hvbGFyMjAxNSUzRCUyMjElMjIlMkMlMEElMjAlMjAlMjAlMjBwbGFjZXglM0QlMjJNSVQlMjBTbG9hbiUyMG1hbmFnZW1lbnQlMjByZXZpZXclMjIlMkMlMEElMjklMjklMEElMjclMjclMjclMjklM0I=\")));\n",
       "    "
      ],
      "text/plain": [
       "<IPython.core.display.Javascript object>"
      ]
     },
     "metadata": {},
     "output_type": "display_data"
    },
    {
     "data": {
      "application/javascript": [
       "$('span:contains(\"# Temp\")').closest('.cell').remove();"
      ],
      "text/plain": [
       "<IPython.core.display.Javascript object>"
      ]
     },
     "metadata": {},
     "output_type": "display_data"
    },
    {
     "data": {
      "application/javascript": [
       "\n",
       "        $('span:contains(\"# Temp\")').closest('.cell').remove();\n",
       "        var code = IPython.notebook.insert_cell_below('code');\n",
       "        code.set_text(decodeURIComponent(window.atob(\"JTIzJTIwVGVtcCUwQWluc2VydCUyOCUyNyUyNyUyNyUwQWhhbW1lcjIwMDJhJTIwJTNEJTIwREIlMjhXb3JrVW5yZWxhdGVkJTI4JTBBJTIwJTIwJTIwJTIwMjAwMiUyQyUyMCUyMlByb2Nlc3MlMjBtYW5hZ2VtZW50JTIwYW5kJTIwdGhlJTIwZnV0dXJlJTIwb2YlMjBzaXglMjBzaWdtYSUzQSUyMHNhdnZ5JTIwY29tcGFuaWVzJTIwaGF2ZSUyMGxlYXJuZWQlMjB0aGF0JTIwdGhlaXIlMjBzaXgtc2lnbWElMjBpbml0aWF0aXZlcyUyMG11c3QlMjBzZXJ2ZSUyMHRoZSUyMGxhcmdlciUyMGVuZGVhdm9yJTIwb2YlMjBwcm9jZXNzJTIwbWFuYWdlbWVudCUyMiUyQyUwQSUyMCUyMCUyMCUyMGRpc3BsYXklM0QlMjJoYW1tZXIlMjIlMkMlMEElMjAlMjAlMjAlMjBhdXRob3JzJTNEJTIySGFtbWVyJTJDJTIwTWljaGFlbCUyMiUyQyUwQSUyMCUyMCUyMCUyMHBsYWNlJTNERkFLRSUyQyUwQSUyMCUyMCUyMCUyMHBwJTNEJTIyMjYtLTMzJTIyJTJDJTBBJTIwJTIwJTIwJTIwZW50cnl0eXBlJTNEJTIyYXJ0aWNsZSUyMiUyQyUwQSUyMCUyMCUyMCUyMHZvbHVtZSUzRCUyMjQzJTIyJTJDJTBBJTIwJTIwJTIwJTIwbnVtYmVyJTNEJTIyMiUyMiUyQyUwQSUyMCUyMCUyMCUyMHB1Ymxpc2hlciUzRCUyMlNsb2FuJTIwTWFuYWdlbWVudCUyMFJldmlldyUyMiUyQyUwQSUyMCUyMCUyMCUyMElEJTNEJTIyaGFtbWVyMjAwMnByb2Nlc3MlMjIlMkMlMEElMjAlMjAlMjAlMjBzY2hvbGFyMjAxNSUzRCUyMjElMjIlMkMlMEElMjAlMjAlMjAlMjBwbGFjZXglM0QlMjJNSVQlMjBTbG9hbiUyMG1hbmFnZW1lbnQlMjByZXZpZXclMjIlMkMlMEElMjklMjklMEElMjclMjclMjclMjklM0I=\")));\n",
       "    "
      ],
      "text/plain": [
       "<IPython.core.display.Javascript object>"
      ]
     },
     "metadata": {},
     "output_type": "display_data"
    },
    {
     "data": {
      "application/javascript": [
       "$('span:contains(\"# Temp\")').closest('.cell').remove();"
      ],
      "text/plain": [
       "<IPython.core.display.Javascript object>"
      ]
     },
     "metadata": {},
     "output_type": "display_data"
    },
    {
     "data": {
      "application/javascript": [
       "\n",
       "        $('span:contains(\"# Temp\")').closest('.cell').remove();\n",
       "        var code = IPython.notebook.insert_cell_below('code');\n",
       "        code.set_text(decodeURIComponent(window.atob(\"JTIzJTIwVGVtcCUwQWluc2VydCUyOCUyNyUyNyUyNyUwQXBvdXJzaGFoaWQyMDA3YSUyMCUzRCUyMERCJTI4V29ya1VucmVsYXRlZCUyOCUwQSUyMCUyMCUyMCUyMDIwMDclMkMlMjAlMjJCdXNpbmVzcyUyMFByb2Nlc3MlMjBNb25pdG9yaW5nJTIwYW5kJTIwQWxpZ25tZW50JTNBJTIwQW4lMjBBcHByb2FjaCUyMEJhc2VkJTIwb24lMjB0aGUlMjBVc2VyJTIwUmVxdWlyZW1lbnRzJTIwTm90YXRpb24lMjBhbmQlMjBCdXNpbmVzcyUyMEludGVsbGlnZW5jZSUyMFRvb2xzLiUyMiUyQyUwQSUyMCUyMCUyMCUyMGRpc3BsYXklM0QlMjJwb3Vyc2hhaGlkJTIyJTJDJTBBJTIwJTIwJTIwJTIwYXV0aG9ycyUzRCUyMlBvdXJzaGFoaWQlMkMlMjBBbGlyZXphJTIwYW5kJTIwQW15b3QlMkMlMjBEYW5pZWwlMjBhbmQlMjBDaGVuJTJDJTIwUGVuZ2ZlaSUyMGFuZCUyMFdlaXNzJTJDJTIwTWljaGFlbCUyMGFuZCUyMEZvcnN0ZXIlMkMlMjBBbGFuJTIwSiUyMiUyQyUwQSUyMCUyMCUyMCUyMHBsYWNlJTNERkFLRSUyQyUwQSUyMCUyMCUyMCUyMHBwJTNEJTIyODAtLTkxJTIyJTJDJTBBJTIwJTIwJTIwJTIwZW50cnl0eXBlJTNEJTIyaW5wcm9jZWVkaW5ncyUyMiUyQyUwQSUyMCUyMCUyMCUyMElEJTNEJTIycG91cnNoYWhpZDIwMDdidXNpbmVzcyUyMiUyQyUwQSUyMCUyMCUyMCUyMHNjaG9sYXIyMDE1JTNEJTIyMSUyMiUyQyUwQSUyMCUyMCUyMCUyMHBsYWNleCUzRCUyMldFUiUyMiUyQyUwQSUyOSUyOSUwQSUyNyUyNyUyNyUyOSUzQg==\")));\n",
       "    "
      ],
      "text/plain": [
       "<IPython.core.display.Javascript object>"
      ]
     },
     "metadata": {},
     "output_type": "display_data"
    },
    {
     "data": {
      "application/javascript": [
       "$('span:contains(\"# Temp\")').closest('.cell').remove();"
      ],
      "text/plain": [
       "<IPython.core.display.Javascript object>"
      ]
     },
     "metadata": {},
     "output_type": "display_data"
    },
    {
     "data": {
      "application/javascript": [
       "\n",
       "        $('span:contains(\"# Temp\")').closest('.cell').remove();\n",
       "        var code = IPython.notebook.insert_cell_below('code');\n",
       "        code.set_text(decodeURIComponent(window.atob(\"JTIzJTIwVGVtcCUwQWluc2VydCUyOCUyNyUyNyUyNyUwQXBvdXJzaGFoaWQyMDA3YSUyMCUzRCUyMERCJTI4V29ya1VucmVsYXRlZCUyOCUwQSUyMCUyMCUyMCUyMDIwMDclMkMlMjAlMjJCdXNpbmVzcyUyMFByb2Nlc3MlMjBNb25pdG9yaW5nJTIwYW5kJTIwQWxpZ25tZW50JTNBJTIwQW4lMjBBcHByb2FjaCUyMEJhc2VkJTIwb24lMjB0aGUlMjBVc2VyJTIwUmVxdWlyZW1lbnRzJTIwTm90YXRpb24lMjBhbmQlMjBCdXNpbmVzcyUyMEludGVsbGlnZW5jZSUyMFRvb2xzLiUyMiUyQyUwQSUyMCUyMCUyMCUyMGRpc3BsYXklM0QlMjJwb3Vyc2hhaGlkJTIyJTJDJTBBJTIwJTIwJTIwJTIwYXV0aG9ycyUzRCUyMlBvdXJzaGFoaWQlMkMlMjBBbGlyZXphJTIwYW5kJTIwQW15b3QlMkMlMjBEYW5pZWwlMjBhbmQlMjBDaGVuJTJDJTIwUGVuZ2ZlaSUyMGFuZCUyMFdlaXNzJTJDJTIwTWljaGFlbCUyMGFuZCUyMEZvcnN0ZXIlMkMlMjBBbGFuJTIwSiUyMiUyQyUwQSUyMCUyMCUyMCUyMHBsYWNlJTNERkFLRSUyQyUwQSUyMCUyMCUyMCUyMHBwJTNEJTIyODAtLTkxJTIyJTJDJTBBJTIwJTIwJTIwJTIwZW50cnl0eXBlJTNEJTIyaW5wcm9jZWVkaW5ncyUyMiUyQyUwQSUyMCUyMCUyMCUyMElEJTNEJTIycG91cnNoYWhpZDIwMDdidXNpbmVzcyUyMiUyQyUwQSUyMCUyMCUyMCUyMHNjaG9sYXIyMDE1JTNEJTIyMSUyMiUyQyUwQSUyMCUyMCUyMCUyMHBsYWNleCUzRCUyMldFUiUyMiUyQyUwQSUyOSUyOSUwQSUyNyUyNyUyNyUyOSUzQg==\")));\n",
       "    "
      ],
      "text/plain": [
       "<IPython.core.display.Javascript object>"
      ]
     },
     "metadata": {},
     "output_type": "display_data"
    },
    {
     "data": {
      "application/javascript": [
       "$('span:contains(\"# Temp\")').closest('.cell').remove();"
      ],
      "text/plain": [
       "<IPython.core.display.Javascript object>"
      ]
     },
     "metadata": {},
     "output_type": "display_data"
    },
    {
     "data": {
      "application/javascript": [
       "\n",
       "        $('span:contains(\"# Temp\")').closest('.cell').remove();\n",
       "        var code = IPython.notebook.insert_cell_below('code');\n",
       "        code.set_text(decodeURIComponent(window.atob(\"JTIzJTIwVGVtcCUwQWluc2VydCUyOCUyNyUyNyUyNyUwQWdyZW1iZXJnZW4yMDA0YSUyMCUzRCUyMERCJTI4V29ya1VucmVsYXRlZCUyOCUwQSUyMCUyMCUyMCUyMDIwMDQlMkMlMjAlMjJTdHJ1Y3R1cmVzJTJDJTIwcHJvY2Vzc2VzJTIwYW5kJTIwcmVsYXRpb25hbCUyMG1lY2hhbmlzbXMlMjBmb3IlMjBJVCUyMGdvdmVybmFuY2UlMjIlMkMlMEElMjAlMjAlMjAlMjBkaXNwbGF5JTNEJTIyZ3JlbWJlcmdlbiUyMiUyQyUwQSUyMCUyMCUyMCUyMGF1dGhvcnMlM0QlMjJWYW4lMjBHcmVtYmVyZ2VuJTJDJTIwV2ltJTIwYW5kJTIwRGUlMjBIYWVzJTJDJTIwU3RldmVuJTIwYW5kJTIwR3VsZGVudG9wcyUyQyUyMEVyaWslMjIlMkMlMEElMjAlMjAlMjAlMjBwbGFjZSUzREZBS0UlMkMlMEElMjAlMjAlMjAlMjBwcCUzRCUyMjEtLTM2JTIyJTJDJTBBJTIwJTIwJTIwJTIwZW50cnl0eXBlJTNEJTIyaW5jb2xsZWN0aW9uJTIyJTJDJTBBJTIwJTIwJTIwJTIwcHVibGlzaGVyJTNEJTIySWdpJTIwR2xvYmFsJTIyJTJDJTBBJTIwJTIwJTIwJTIwSUQlM0QlMjJ2YW4yMDA0c3RydWN0dXJlcyUyMiUyQyUwQSUyMCUyMCUyMCUyMHNjaG9sYXIyMDE1JTNEJTIyMSUyMiUyQyUwQSUyMCUyMCUyMCUyMHBsYWNleCUzRCUyMlN0cmF0ZWdpZXMlMjBmb3IlMjBpbmZvcm1hdGlvbiUyMHRlY2hub2xvZ3klMjBnb3Zlcm5hbmNlJTIyJTJDJTBBJTI5JTI5JTBBJTI3JTI3JTI3JTI5JTNC\")));\n",
       "    "
      ],
      "text/plain": [
       "<IPython.core.display.Javascript object>"
      ]
     },
     "metadata": {},
     "output_type": "display_data"
    },
    {
     "data": {
      "application/javascript": [
       "$('span:contains(\"# Temp\")').closest('.cell').remove();"
      ],
      "text/plain": [
       "<IPython.core.display.Javascript object>"
      ]
     },
     "metadata": {},
     "output_type": "display_data"
    },
    {
     "data": {
      "application/javascript": [
       "\n",
       "        $('span:contains(\"# Temp\")').closest('.cell').remove();\n",
       "        var code = IPython.notebook.insert_cell_below('code');\n",
       "        code.set_text(decodeURIComponent(window.atob(\"JTIzJTIwVGVtcCUwQWluc2VydCUyOCUyNyUyNyUyNyUwQWdyZW1iZXJnZW4yMDA0YSUyMCUzRCUyMERCJTI4V29ya1VucmVsYXRlZCUyOCUwQSUyMCUyMCUyMCUyMDIwMDQlMkMlMjAlMjJTdHJ1Y3R1cmVzJTJDJTIwcHJvY2Vzc2VzJTIwYW5kJTIwcmVsYXRpb25hbCUyMG1lY2hhbmlzbXMlMjBmb3IlMjBJVCUyMGdvdmVybmFuY2UlMjIlMkMlMEElMjAlMjAlMjAlMjBkaXNwbGF5JTNEJTIyZ3JlbWJlcmdlbiUyMiUyQyUwQSUyMCUyMCUyMCUyMGF1dGhvcnMlM0QlMjJWYW4lMjBHcmVtYmVyZ2VuJTJDJTIwV2ltJTIwYW5kJTIwRGUlMjBIYWVzJTJDJTIwU3RldmVuJTIwYW5kJTIwR3VsZGVudG9wcyUyQyUyMEVyaWslMjIlMkMlMEElMjAlMjAlMjAlMjBwbGFjZSUzREZBS0UlMkMlMEElMjAlMjAlMjAlMjBwcCUzRCUyMjEtLTM2JTIyJTJDJTBBJTIwJTIwJTIwJTIwZW50cnl0eXBlJTNEJTIyaW5jb2xsZWN0aW9uJTIyJTJDJTBBJTIwJTIwJTIwJTIwcHVibGlzaGVyJTNEJTIySWdpJTIwR2xvYmFsJTIyJTJDJTBBJTIwJTIwJTIwJTIwSUQlM0QlMjJ2YW4yMDA0c3RydWN0dXJlcyUyMiUyQyUwQSUyMCUyMCUyMCUyMHNjaG9sYXIyMDE1JTNEJTIyMSUyMiUyQyUwQSUyMCUyMCUyMCUyMHBsYWNleCUzRCUyMlN0cmF0ZWdpZXMlMjBmb3IlMjBpbmZvcm1hdGlvbiUyMHRlY2hub2xvZ3klMjBnb3Zlcm5hbmNlJTIyJTJDJTBBJTI5JTI5JTBBJTI3JTI3JTI3JTI5JTNC\")));\n",
       "    "
      ],
      "text/plain": [
       "<IPython.core.display.Javascript object>"
      ]
     },
     "metadata": {},
     "output_type": "display_data"
    },
    {
     "data": {
      "application/javascript": [
       "$('span:contains(\"# Temp\")').closest('.cell').remove();"
      ],
      "text/plain": [
       "<IPython.core.display.Javascript object>"
      ]
     },
     "metadata": {},
     "output_type": "display_data"
    },
    {
     "data": {
      "application/javascript": [
       "\n",
       "        $('span:contains(\"# Temp\")').closest('.cell').remove();\n",
       "        var code = IPython.notebook.insert_cell_below('code');\n",
       "        code.set_text(decodeURIComponent(window.atob(\"JTIzJTIwVGVtcCUwQWluc2VydCUyOCUyNyUyNyUyNyUwQWZ1aTIwMDFhJTIwJTNEJTIwREIlMjhXb3JrVW5yZWxhdGVkJTI4JTBBJTIwJTIwJTIwJTIwMjAwMSUyQyUyMCUyMkNyaXRpY2FsJTIwZmFjdG9ycyUyMGZvciUyMHN1Y2Nlc3NmdWwlMjBpbXBsZW1lbnRhdGlvbiUyMG9mJTIwZW50ZXJwcmlzZSUyMHN5c3RlbXMlMjIlMkMlMEElMjAlMjAlMjAlMjBkaXNwbGF5JTNEJTIyZnVpJTIyJTJDJTBBJTIwJTIwJTIwJTIwYXV0aG9ycyUzRCUyMkZ1aS1Ib29uJTIwTmFoJTJDJTIwRmlvbmElMjBhbmQlMjBMZWUtU2hhbmclMjBMYXUlMkMlMjBKYW5ldCUyMGFuZCUyMEt1YW5nJTJDJTIwSmluZ2h1YSUyMiUyQyUwQSUyMCUyMCUyMCUyMHBsYWNlJTNERkFLRSUyQyUwQSUyMCUyMCUyMCUyMHBwJTNEJTIyMjg1LS0yOTYlMjIlMkMlMEElMjAlMjAlMjAlMjBlbnRyeXR5cGUlM0QlMjJhcnRpY2xlJTIyJTJDJTBBJTIwJTIwJTIwJTIwdm9sdW1lJTNEJTIyNyUyMiUyQyUwQSUyMCUyMCUyMCUyMG51bWJlciUzRCUyMjMlMjIlMkMlMEElMjAlMjAlMjAlMjBwdWJsaXNoZXIlM0QlMjJNQ0IlMjBVUCUyMEx0ZCUyMiUyQyUwQSUyMCUyMCUyMCUyMElEJTNEJTIyZnVpMjAwMWNyaXRpY2FsJTIyJTJDJTBBJTIwJTIwJTIwJTIwc2Nob2xhcjIwMTUlM0QlMjIxJTIyJTJDJTBBJTIwJTIwJTIwJTIwcGxhY2V4JTNEJTIyQnVzaW5lc3MlMjBwcm9jZXNzJTIwbWFuYWdlbWVudCUyMGpvdXJuYWwlMjIlMkMlMEElMjklMjklMEElMjclMjclMjclMjklM0I=\")));\n",
       "    "
      ],
      "text/plain": [
       "<IPython.core.display.Javascript object>"
      ]
     },
     "metadata": {},
     "output_type": "display_data"
    },
    {
     "data": {
      "application/javascript": [
       "$('span:contains(\"# Temp\")').closest('.cell').remove();"
      ],
      "text/plain": [
       "<IPython.core.display.Javascript object>"
      ]
     },
     "metadata": {},
     "output_type": "display_data"
    },
    {
     "data": {
      "application/javascript": [
       "\n",
       "        $('span:contains(\"# Temp\")').closest('.cell').remove();\n",
       "        var code = IPython.notebook.insert_cell_below('code');\n",
       "        code.set_text(decodeURIComponent(window.atob(\"JTIzJTIwVGVtcCUwQWluc2VydCUyOCUyNyUyNyUyNyUwQWZ1aTIwMDFhJTIwJTNEJTIwREIlMjhXb3JrVW5yZWxhdGVkJTI4JTBBJTIwJTIwJTIwJTIwMjAwMSUyQyUyMCUyMkNyaXRpY2FsJTIwZmFjdG9ycyUyMGZvciUyMHN1Y2Nlc3NmdWwlMjBpbXBsZW1lbnRhdGlvbiUyMG9mJTIwZW50ZXJwcmlzZSUyMHN5c3RlbXMlMjIlMkMlMEElMjAlMjAlMjAlMjBkaXNwbGF5JTNEJTIyZnVpJTIyJTJDJTBBJTIwJTIwJTIwJTIwYXV0aG9ycyUzRCUyMkZ1aS1Ib29uJTIwTmFoJTJDJTIwRmlvbmElMjBhbmQlMjBMZWUtU2hhbmclMjBMYXUlMkMlMjBKYW5ldCUyMGFuZCUyMEt1YW5nJTJDJTIwSmluZ2h1YSUyMiUyQyUwQSUyMCUyMCUyMCUyMHBsYWNlJTNERkFLRSUyQyUwQSUyMCUyMCUyMCUyMHBwJTNEJTIyMjg1LS0yOTYlMjIlMkMlMEElMjAlMjAlMjAlMjBlbnRyeXR5cGUlM0QlMjJhcnRpY2xlJTIyJTJDJTBBJTIwJTIwJTIwJTIwdm9sdW1lJTNEJTIyNyUyMiUyQyUwQSUyMCUyMCUyMCUyMG51bWJlciUzRCUyMjMlMjIlMkMlMEElMjAlMjAlMjAlMjBwdWJsaXNoZXIlM0QlMjJNQ0IlMjBVUCUyMEx0ZCUyMiUyQyUwQSUyMCUyMCUyMCUyMElEJTNEJTIyZnVpMjAwMWNyaXRpY2FsJTIyJTJDJTBBJTIwJTIwJTIwJTIwc2Nob2xhcjIwMTUlM0QlMjIxJTIyJTJDJTBBJTIwJTIwJTIwJTIwcGxhY2V4JTNEJTIyQnVzaW5lc3MlMjBwcm9jZXNzJTIwbWFuYWdlbWVudCUyMGpvdXJuYWwlMjIlMkMlMEElMjklMjklMEElMjclMjclMjclMjklM0I=\")));\n",
       "    "
      ],
      "text/plain": [
       "<IPython.core.display.Javascript object>"
      ]
     },
     "metadata": {},
     "output_type": "display_data"
    },
    {
     "data": {
      "application/javascript": [
       "$('span:contains(\"# Temp\")').closest('.cell').remove();"
      ],
      "text/plain": [
       "<IPython.core.display.Javascript object>"
      ]
     },
     "metadata": {},
     "output_type": "display_data"
    },
    {
     "data": {
      "application/javascript": [
       "\n",
       "        $('span:contains(\"# Temp\")').closest('.cell').remove();\n",
       "        var code = IPython.notebook.insert_cell_below('code');\n",
       "        code.set_text(decodeURIComponent(window.atob(\"JTIzJTIwVGVtcCUwQWluc2VydCUyOCUyNyUyNyUyNyUyNyUyNyUyNyUyOSUzQiUwQXNldF9hdHRyaWJ1dGUlMjglMjdrb211cm8yMDA2YSUyNyUyQyUyMCUyN3NjaG9sYXIyMDE1JTI3JTJDJTIwJTI3MSUyNyUyOSUzQg==\")));\n",
       "    "
      ],
      "text/plain": [
       "<IPython.core.display.Javascript object>"
      ]
     },
     "metadata": {},
     "output_type": "display_data"
    },
    {
     "data": {
      "application/javascript": [
       "$('span:contains(\"# Temp\")').closest('.cell').remove();"
      ],
      "text/plain": [
       "<IPython.core.display.Javascript object>"
      ]
     },
     "metadata": {},
     "output_type": "display_data"
    },
    {
     "data": {
      "application/javascript": [
       "\n",
       "        $('span:contains(\"# Temp\")').closest('.cell').remove();\n",
       "        var code = IPython.notebook.insert_cell_below('code');\n",
       "        code.set_text(decodeURIComponent(window.atob(\"JTIzJTIwVGVtcCUwQWluc2VydCUyOCUyNyUyNyUyNyUyNyUyNyUyNyUyOSUzQiUwQXNldF9hdHRyaWJ1dGUlMjglMjdrb211cm8yMDA2YSUyNyUyQyUyMCUyN3NjaG9sYXIyMDE1JTI3JTJDJTIwJTI3MSUyNyUyOSUzQg==\")));\n",
       "    "
      ],
      "text/plain": [
       "<IPython.core.display.Javascript object>"
      ]
     },
     "metadata": {},
     "output_type": "display_data"
    },
    {
     "data": {
      "application/javascript": [
       "$('span:contains(\"# Temp\")').closest('.cell').remove();"
      ],
      "text/plain": [
       "<IPython.core.display.Javascript object>"
      ]
     },
     "metadata": {},
     "output_type": "display_data"
    },
    {
     "data": {
      "application/javascript": [
       "\n",
       "        $('span:contains(\"# Temp\")').closest('.cell').remove();\n",
       "        var code = IPython.notebook.insert_cell_below('code');\n",
       "        code.set_text(decodeURIComponent(window.atob(\"JTIzJTIwVGVtcCUwQWluc2VydCUyOCUyNyUyNyUyNyUwQWJlY2tlcjIwMTNhJTIwJTNEJTIwREIlMjhXb3JrVW5yZWxhdGVkJTI4JTBBJTIwJTIwJTIwJTIwMjAxMyUyQyUyMCUyMlByb2Nlc3MlMjBtYW5hZ2VtZW50JTNBJTIwYSUyMGd1aWRlJTIwZm9yJTIwdGhlJTIwZGVzaWduJTIwb2YlMjBidXNpbmVzcyUyMHByb2Nlc3NlcyUyMiUyQyUwQSUyMCUyMCUyMCUyMGRpc3BsYXklM0QlMjJiZWNrZXIlMjIlMkMlMEElMjAlMjAlMjAlMjBhdXRob3JzJTNEJTIyQmVja2VyJTJDJTIwSiVDMyVCNnJnJTIwYW5kJTIwS3VnZWxlciUyQyUyME1hcnRpbiUyMGFuZCUyMFJvc2VtYW5uJTJDJTIwTWljaGFlbCUyMiUyQyUwQSUyMCUyMCUyMCUyMHBsYWNlJTNEQm9vayUyQyUwQSUyMCUyMCUyMCUyMGVudHJ5dHlwZSUzRCUyMmJvb2slMjIlMkMlMEElMjAlMjAlMjAlMjBwdWJsaXNoZXIlM0QlMjJTcHJpbmdlciUyMFNjaWVuY2UlMjAlMjYlMjBCdXNpbmVzcyUyME1lZGlhJTIyJTJDJTBBJTIwJTIwJTIwJTIwSUQlM0QlMjJiZWNrZXIyMDEzcHJvY2VzcyUyMiUyQyUwQSUyMCUyMCUyMCUyMHNjaG9sYXIyMDE1JTNEJTIyMSUyMiUyQyUwQSUyMCUyMCUyMCUyMHBsYWNleCUzRCUyMiUyMiUyQyUwQSUyOSUyOSUwQSUyNyUyNyUyNyUyOSUzQg==\")));\n",
       "    "
      ],
      "text/plain": [
       "<IPython.core.display.Javascript object>"
      ]
     },
     "metadata": {},
     "output_type": "display_data"
    },
    {
     "data": {
      "application/javascript": [
       "$('span:contains(\"# Temp\")').closest('.cell').remove();"
      ],
      "text/plain": [
       "<IPython.core.display.Javascript object>"
      ]
     },
     "metadata": {},
     "output_type": "display_data"
    },
    {
     "data": {
      "application/javascript": [
       "\n",
       "        $('span:contains(\"# Temp\")').closest('.cell').remove();\n",
       "        var code = IPython.notebook.insert_cell_below('code');\n",
       "        code.set_text(decodeURIComponent(window.atob(\"JTIzJTIwVGVtcCUwQWluc2VydCUyOCUyNyUyNyUyNyUwQWJlY2tlcjIwMTNhJTIwJTNEJTIwREIlMjhXb3JrVW5yZWxhdGVkJTI4JTBBJTIwJTIwJTIwJTIwMjAxMyUyQyUyMCUyMlByb2Nlc3MlMjBtYW5hZ2VtZW50JTNBJTIwYSUyMGd1aWRlJTIwZm9yJTIwdGhlJTIwZGVzaWduJTIwb2YlMjBidXNpbmVzcyUyMHByb2Nlc3NlcyUyMiUyQyUwQSUyMCUyMCUyMCUyMGRpc3BsYXklM0QlMjJiZWNrZXIlMjIlMkMlMEElMjAlMjAlMjAlMjBhdXRob3JzJTNEJTIyQmVja2VyJTJDJTIwSiVDMyVCNnJnJTIwYW5kJTIwS3VnZWxlciUyQyUyME1hcnRpbiUyMGFuZCUyMFJvc2VtYW5uJTJDJTIwTWljaGFlbCUyMiUyQyUwQSUyMCUyMCUyMCUyMHBsYWNlJTNEQm9vayUyQyUwQSUyMCUyMCUyMCUyMGVudHJ5dHlwZSUzRCUyMmJvb2slMjIlMkMlMEElMjAlMjAlMjAlMjBwdWJsaXNoZXIlM0QlMjJTcHJpbmdlciUyMFNjaWVuY2UlMjAlMjYlMjBCdXNpbmVzcyUyME1lZGlhJTIyJTJDJTBBJTIwJTIwJTIwJTIwSUQlM0QlMjJiZWNrZXIyMDEzcHJvY2VzcyUyMiUyQyUwQSUyMCUyMCUyMCUyMHNjaG9sYXIyMDE1JTNEJTIyMSUyMiUyQyUwQSUyMCUyMCUyMCUyMHBsYWNleCUzRCUyMiUyMiUyQyUwQSUyOSUyOSUwQSUyNyUyNyUyNyUyOSUzQg==\")));\n",
       "    "
      ],
      "text/plain": [
       "<IPython.core.display.Javascript object>"
      ]
     },
     "metadata": {},
     "output_type": "display_data"
    },
    {
     "data": {
      "application/javascript": [
       "$('span:contains(\"# Temp\")').closest('.cell').remove();"
      ],
      "text/plain": [
       "<IPython.core.display.Javascript object>"
      ]
     },
     "metadata": {},
     "output_type": "display_data"
    },
    {
     "data": {
      "application/javascript": [
       "\n",
       "        $('span:contains(\"# Temp\")').closest('.cell').remove();\n",
       "        var code = IPython.notebook.insert_cell_below('code');\n",
       "        code.set_text(decodeURIComponent(window.atob(\"JTIzJTIwVGVtcCUwQWluc2VydCUyOCUyNyUyNyUyNyUyNyUyNyUyNyUyOSUzQiUwQXNldF9hdHRyaWJ1dGUlMjglMjdiZWNrMjAwMWElMjclMkMlMjAlMjdzY2hvbGFyMjAxNSUyNyUyQyUyMCUyNzElMjclMjklM0I=\")));\n",
       "    "
      ],
      "text/plain": [
       "<IPython.core.display.Javascript object>"
      ]
     },
     "metadata": {},
     "output_type": "display_data"
    },
    {
     "data": {
      "application/javascript": [
       "$('span:contains(\"# Temp\")').closest('.cell').remove();"
      ],
      "text/plain": [
       "<IPython.core.display.Javascript object>"
      ]
     },
     "metadata": {},
     "output_type": "display_data"
    },
    {
     "data": {
      "application/javascript": [
       "\n",
       "        $('span:contains(\"# Temp\")').closest('.cell').remove();\n",
       "        var code = IPython.notebook.insert_cell_below('code');\n",
       "        code.set_text(decodeURIComponent(window.atob(\"JTIzJTIwVGVtcCUwQWluc2VydCUyOCUyNyUyNyUyNyUyNyUyNyUyNyUyOSUzQiUwQXNldF9hdHRyaWJ1dGUlMjglMjdiZWNrMjAwMWElMjclMkMlMjAlMjdzY2hvbGFyMjAxNSUyNyUyQyUyMCUyNzElMjclMjklM0I=\")));\n",
       "    "
      ],
      "text/plain": [
       "<IPython.core.display.Javascript object>"
      ]
     },
     "metadata": {},
     "output_type": "display_data"
    },
    {
     "data": {
      "application/javascript": [
       "$('span:contains(\"# Temp\")').closest('.cell').remove();"
      ],
      "text/plain": [
       "<IPython.core.display.Javascript object>"
      ]
     },
     "metadata": {},
     "output_type": "display_data"
    },
    {
     "data": {
      "application/javascript": [
       "\n",
       "        $('span:contains(\"# Temp\")').closest('.cell').remove();\n",
       "        var code = IPython.notebook.insert_cell_below('code');\n",
       "        code.set_text(decodeURIComponent(window.atob(\"JTIzJTIwVGVtcCUwQWluc2VydCUyOCUyNyUyNyUyNyUwQWt1ZW5nMjAwMGElMjAlM0QlMjBEQiUyOFdvcmtVbnJlbGF0ZWQlMjglMEElMjAlMjAlMjAlMjAyMDAwJTJDJTIwJTIyUHJvY2VzcyUyMHBlcmZvcm1hbmNlJTIwbWVhc3VyZW1lbnQlMjBzeXN0ZW0lM0ElMjBhJTIwdG9vbCUyMHRvJTIwc3VwcG9ydCUyMHByb2Nlc3MtYmFzZWQlMjBvcmdhbml6YXRpb25zJTIyJTJDJTBBJTIwJTIwJTIwJTIwZGlzcGxheSUzRCUyMmt1ZW5nJTIyJTJDJTBBJTIwJTIwJTIwJTIwYXV0aG9ycyUzRCUyMkt1ZW5nJTJDJTIwUGV0ZXIlMjIlMkMlMEElMjAlMjAlMjAlMjBwbGFjZSUzREZBS0UlMkMlMEElMjAlMjAlMjAlMjBwcCUzRCUyMjY3LS04NSUyMiUyQyUwQSUyMCUyMCUyMCUyMGVudHJ5dHlwZSUzRCUyMmFydGljbGUlMjIlMkMlMEElMjAlMjAlMjAlMjB2b2x1bWUlM0QlMjIxMSUyMiUyQyUwQSUyMCUyMCUyMCUyMG51bWJlciUzRCUyMjElMjIlMkMlMEElMjAlMjAlMjAlMjBwdWJsaXNoZXIlM0QlMjJUYXlsb3IlMjAlMjYlMjBGcmFuY2lzJTIyJTJDJTBBJTIwJTIwJTIwJTIwSUQlM0QlMjJrdWVuZzIwMDBwcm9jZXNzJTIyJTJDJTBBJTIwJTIwJTIwJTIwc2Nob2xhcjIwMTUlM0QlMjIxJTIyJTJDJTBBJTIwJTIwJTIwJTIwcGxhY2V4JTNEJTIyVG90YWwlMjBRdWFsaXR5JTIwTWFuYWdlbWVudCUyMiUyQyUwQSUyOSUyOSUwQSUyNyUyNyUyNyUyOSUzQg==\")));\n",
       "    "
      ],
      "text/plain": [
       "<IPython.core.display.Javascript object>"
      ]
     },
     "metadata": {},
     "output_type": "display_data"
    },
    {
     "data": {
      "application/javascript": [
       "$('span:contains(\"# Temp\")').closest('.cell').remove();"
      ],
      "text/plain": [
       "<IPython.core.display.Javascript object>"
      ]
     },
     "metadata": {},
     "output_type": "display_data"
    },
    {
     "data": {
      "application/javascript": [
       "\n",
       "        $('span:contains(\"# Temp\")').closest('.cell').remove();\n",
       "        var code = IPython.notebook.insert_cell_below('code');\n",
       "        code.set_text(decodeURIComponent(window.atob(\"JTIzJTIwVGVtcCUwQWluc2VydCUyOCUyNyUyNyUyNyUwQWt1ZW5nMjAwMGElMjAlM0QlMjBEQiUyOFdvcmtVbnJlbGF0ZWQlMjglMEElMjAlMjAlMjAlMjAyMDAwJTJDJTIwJTIyUHJvY2VzcyUyMHBlcmZvcm1hbmNlJTIwbWVhc3VyZW1lbnQlMjBzeXN0ZW0lM0ElMjBhJTIwdG9vbCUyMHRvJTIwc3VwcG9ydCUyMHByb2Nlc3MtYmFzZWQlMjBvcmdhbml6YXRpb25zJTIyJTJDJTBBJTIwJTIwJTIwJTIwZGlzcGxheSUzRCUyMmt1ZW5nJTIyJTJDJTBBJTIwJTIwJTIwJTIwYXV0aG9ycyUzRCUyMkt1ZW5nJTJDJTIwUGV0ZXIlMjIlMkMlMEElMjAlMjAlMjAlMjBwbGFjZSUzREZBS0UlMkMlMEElMjAlMjAlMjAlMjBwcCUzRCUyMjY3LS04NSUyMiUyQyUwQSUyMCUyMCUyMCUyMGVudHJ5dHlwZSUzRCUyMmFydGljbGUlMjIlMkMlMEElMjAlMjAlMjAlMjB2b2x1bWUlM0QlMjIxMSUyMiUyQyUwQSUyMCUyMCUyMCUyMG51bWJlciUzRCUyMjElMjIlMkMlMEElMjAlMjAlMjAlMjBwdWJsaXNoZXIlM0QlMjJUYXlsb3IlMjAlMjYlMjBGcmFuY2lzJTIyJTJDJTBBJTIwJTIwJTIwJTIwSUQlM0QlMjJrdWVuZzIwMDBwcm9jZXNzJTIyJTJDJTBBJTIwJTIwJTIwJTIwc2Nob2xhcjIwMTUlM0QlMjIxJTIyJTJDJTBBJTIwJTIwJTIwJTIwcGxhY2V4JTNEJTIyVG90YWwlMjBRdWFsaXR5JTIwTWFuYWdlbWVudCUyMiUyQyUwQSUyOSUyOSUwQSUyNyUyNyUyNyUyOSUzQg==\")));\n",
       "    "
      ],
      "text/plain": [
       "<IPython.core.display.Javascript object>"
      ]
     },
     "metadata": {},
     "output_type": "display_data"
    },
    {
     "data": {
      "application/javascript": [
       "$('span:contains(\"# Temp\")').closest('.cell').remove();"
      ],
      "text/plain": [
       "<IPython.core.display.Javascript object>"
      ]
     },
     "metadata": {},
     "output_type": "display_data"
    },
    {
     "data": {
      "application/javascript": [
       "\n",
       "        $('span:contains(\"# Temp\")').closest('.cell').remove();\n",
       "        var code = IPython.notebook.insert_cell_below('code');\n",
       "        code.set_text(decodeURIComponent(window.atob(\"JTIzJTIwVGVtcCUwQWluc2VydCUyOCUyNyUyNyUyNyUyNyUyNyUyNyUyOSUzQiUwQXNldF9hdHRyaWJ1dGUlMjglMjdiZWNrZXIyMDA4YiUyNyUyQyUyMCUyN3NjaG9sYXIyMDE1JTI3JTJDJTIwJTI3MSUyNyUyOSUzQg==\")));\n",
       "    "
      ],
      "text/plain": [
       "<IPython.core.display.Javascript object>"
      ]
     },
     "metadata": {},
     "output_type": "display_data"
    },
    {
     "data": {
      "application/javascript": [
       "$('span:contains(\"# Temp\")').closest('.cell').remove();"
      ],
      "text/plain": [
       "<IPython.core.display.Javascript object>"
      ]
     },
     "metadata": {},
     "output_type": "display_data"
    },
    {
     "data": {
      "application/javascript": [
       "\n",
       "        $('span:contains(\"# Temp\")').closest('.cell').remove();\n",
       "        var code = IPython.notebook.insert_cell_below('code');\n",
       "        code.set_text(decodeURIComponent(window.atob(\"JTIzJTIwVGVtcCUwQWluc2VydCUyOCUyNyUyNyUyNyUyNyUyNyUyNyUyOSUzQiUwQXNldF9hdHRyaWJ1dGUlMjglMjdiZWNrZXIyMDA4YiUyNyUyQyUyMCUyN3NjaG9sYXIyMDE1JTI3JTJDJTIwJTI3MSUyNyUyOSUzQg==\")));\n",
       "    "
      ],
      "text/plain": [
       "<IPython.core.display.Javascript object>"
      ]
     },
     "metadata": {},
     "output_type": "display_data"
    },
    {
     "data": {
      "application/javascript": [
       "$('span:contains(\"# Temp\")').closest('.cell').remove();"
      ],
      "text/plain": [
       "<IPython.core.display.Javascript object>"
      ]
     },
     "metadata": {},
     "output_type": "display_data"
    },
    {
     "data": {
      "application/javascript": [
       "\n",
       "        $('span:contains(\"# Temp\")').closest('.cell').remove();\n",
       "        var code = IPython.notebook.insert_cell_below('code');\n",
       "        code.set_text(decodeURIComponent(window.atob(\"JTIzJTIwVGVtcCUwQWluc2VydCUyOCUyNyUyNyUyNyUwQXNhbmRiZXJnMjAxMWElMjAlM0QlMjBEQiUyOFdvcmtVbnJlbGF0ZWQlMjglMEElMjAlMjAlMjAlMjAyMDExJTJDJTIwJTIyQWdpbGUlMjBjb2xsYWJvcmF0aXZlJTIwcmVzZWFyY2glM0ElMjBBY3Rpb24lMjBwcmluY2lwbGVzJTIwZm9yJTIwaW5kdXN0cnktYWNhZGVtaWElMjBjb2xsYWJvcmF0aW9uJTIyJTJDJTBBJTIwJTIwJTIwJTIwZGlzcGxheSUzRCUyMnNhbmRiZXJnJTIyJTJDJTBBJTIwJTIwJTIwJTIwYXV0aG9ycyUzRCUyMlNhbmRiZXJnJTJDJTIwQW5uYSUyMGFuZCUyMFBhcmV0byUyQyUyMExhcnMlMjBhbmQlMjBBcnRzJTJDJTIwVGhvbWFzJTIyJTJDJTBBJTIwJTIwJTIwJTIwcGxhY2UlM0RJRUVFUyUyQyUwQSUyMCUyMCUyMCUyMHBwJTNEJTIyNzQtLTgzJTIyJTJDJTBBJTIwJTIwJTIwJTIwZW50cnl0eXBlJTNEJTIyYXJ0aWNsZSUyMiUyQyUwQSUyMCUyMCUyMCUyMHZvbHVtZSUzRCUyMjI4JTIyJTJDJTBBJTIwJTIwJTIwJTIwbnVtYmVyJTNEJTIyNCUyMiUyQyUwQSUyMCUyMCUyMCUyMHB1Ymxpc2hlciUzRCUyMklFRUUlMjIlMkMlMEElMjAlMjAlMjAlMjBJRCUzRCUyMnNhbmRiZXJnMjAxMWFnaWxlJTIyJTJDJTBBJTIwJTIwJTIwJTIwc2Nob2xhcjIwMTUlM0QlMjIxJTIyJTJDJTBBJTIwJTIwJTIwJTIwcGxhY2V4JTNEJTIySUVFRSUyMHNvZnR3YXJlJTIyJTJDJTBBJTI5JTI5JTBBJTI3JTI3JTI3JTI5JTNC\")));\n",
       "    "
      ],
      "text/plain": [
       "<IPython.core.display.Javascript object>"
      ]
     },
     "metadata": {},
     "output_type": "display_data"
    },
    {
     "data": {
      "application/javascript": [
       "$('span:contains(\"# Temp\")').closest('.cell').remove();"
      ],
      "text/plain": [
       "<IPython.core.display.Javascript object>"
      ]
     },
     "metadata": {},
     "output_type": "display_data"
    },
    {
     "data": {
      "application/javascript": [
       "\n",
       "        $('span:contains(\"# Temp\")').closest('.cell').remove();\n",
       "        var code = IPython.notebook.insert_cell_below('code');\n",
       "        code.set_text(decodeURIComponent(window.atob(\"JTIzJTIwVGVtcCUwQWluc2VydCUyOCUyNyUyNyUyNyUwQXNhbmRiZXJnMjAxMWElMjAlM0QlMjBEQiUyOFdvcmtVbnJlbGF0ZWQlMjglMEElMjAlMjAlMjAlMjAyMDExJTJDJTIwJTIyQWdpbGUlMjBjb2xsYWJvcmF0aXZlJTIwcmVzZWFyY2glM0ElMjBBY3Rpb24lMjBwcmluY2lwbGVzJTIwZm9yJTIwaW5kdXN0cnktYWNhZGVtaWElMjBjb2xsYWJvcmF0aW9uJTIyJTJDJTBBJTIwJTIwJTIwJTIwZGlzcGxheSUzRCUyMnNhbmRiZXJnJTIyJTJDJTBBJTIwJTIwJTIwJTIwYXV0aG9ycyUzRCUyMlNhbmRiZXJnJTJDJTIwQW5uYSUyMGFuZCUyMFBhcmV0byUyQyUyMExhcnMlMjBhbmQlMjBBcnRzJTJDJTIwVGhvbWFzJTIyJTJDJTBBJTIwJTIwJTIwJTIwcGxhY2UlM0RJRUVFUyUyQyUwQSUyMCUyMCUyMCUyMHBwJTNEJTIyNzQtLTgzJTIyJTJDJTBBJTIwJTIwJTIwJTIwZW50cnl0eXBlJTNEJTIyYXJ0aWNsZSUyMiUyQyUwQSUyMCUyMCUyMCUyMHZvbHVtZSUzRCUyMjI4JTIyJTJDJTBBJTIwJTIwJTIwJTIwbnVtYmVyJTNEJTIyNCUyMiUyQyUwQSUyMCUyMCUyMCUyMHB1Ymxpc2hlciUzRCUyMklFRUUlMjIlMkMlMEElMjAlMjAlMjAlMjBJRCUzRCUyMnNhbmRiZXJnMjAxMWFnaWxlJTIyJTJDJTBBJTIwJTIwJTIwJTIwc2Nob2xhcjIwMTUlM0QlMjIxJTIyJTJDJTBBJTIwJTIwJTIwJTIwcGxhY2V4JTNEJTIySUVFRSUyMHNvZnR3YXJlJTIyJTJDJTBBJTI5JTI5JTBBJTI3JTI3JTI3JTI5JTNC\")));\n",
       "    "
      ],
      "text/plain": [
       "<IPython.core.display.Javascript object>"
      ]
     },
     "metadata": {},
     "output_type": "display_data"
    }
   ],
   "source": [
    "from custom_snowballing import UnrelatedInsert\n",
    "UnrelatedInsert(\"scholar2015\", articles=article_list)"
   ]
  },
  {
   "cell_type": "code",
   "execution_count": 65,
   "metadata": {},
   "outputs": [
    {
     "name": "stdout",
     "output_type": "stream",
     "text": [
      "-Insert: sandberg2011a\n"
     ]
    }
   ],
   "source": [
    "# Temp\n",
    "insert('''\n",
    "sandberg2011a = DB(WorkUnrelated(\n",
    "    2011, \"Agile collaborative research: Action principles for industry-academia collaboration\",\n",
    "    display=\"sandberg\",\n",
    "    authors=\"Sandberg, Anna and Pareto, Lars and Arts, Thomas\",\n",
    "    place=IEEES,\n",
    "    pp=\"74--83\",\n",
    "    entrytype=\"article\",\n",
    "    volume=\"28\",\n",
    "    number=\"4\",\n",
    "    publisher=\"IEEE\",\n",
    "    ID=\"sandberg2011agile\",\n",
    "    scholar2015=\"1\",\n",
    "    placex=\"IEEE software\",\n",
    "))\n",
    "''');"
   ]
  },
  {
   "cell_type": "code",
   "execution_count": null,
   "metadata": {
    "collapsed": true
   },
   "outputs": [],
   "source": []
  }
 ],
 "metadata": {
  "hide_input": false,
  "kernelspec": {
   "display_name": "Python 3",
   "language": "python",
   "name": "python3"
  },
  "language_info": {
   "codemirror_mode": {
    "name": "ipython",
    "version": 3
   },
   "file_extension": ".py",
   "mimetype": "text/x-python",
   "name": "python",
   "nbconvert_exporter": "python",
   "pygments_lexer": "ipython3",
   "version": "3.6.0"
  },
  "toc": {
   "nav_menu": {
    "height": "12px",
    "width": "252px"
   },
   "number_sections": true,
   "sideBar": true,
   "skip_h1_title": false,
   "toc_cell": false,
   "toc_position": {},
   "toc_section_display": "block",
   "toc_window_display": false
  }
 },
 "nbformat": 4,
 "nbformat_minor": 2
}
