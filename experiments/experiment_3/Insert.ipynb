{
 "cells": [
  {
   "cell_type": "code",
   "execution_count": 1,
   "metadata": {
    "collapsed": true
   },
   "outputs": [],
   "source": [
    "import database\n",
    "import custom_jupyter_utils\n",
    "from snowballing.operations import load_work, reload, work_by_varname\n",
    "from snowballing.snowballing import Converter\n",
    "from snowballing.snowballing import ArticleNavigator\n",
    "from snowballing.dbmanager import insert, set_attribute"
   ]
  },
  {
   "cell_type": "code",
   "execution_count": 82,
   "metadata": {
    "scrolled": false
   },
   "outputs": [
    {
     "data": {
      "application/vnd.jupyter.widget-view+json": {
       "model_id": "b88166c3aa8e473fb058ba399fc86ca7",
       "version_major": 2,
       "version_minor": 0
      },
      "text/html": [
       "<p>Failed to display Jupyter Widget of type <code>VBox</code>.</p>\n",
       "<p>\n",
       "  If you're reading this message in Jupyter Notebook or JupyterLab, it may mean\n",
       "  that the widgets JavaScript is still loading. If this message persists, it\n",
       "  likely means that the widgets JavaScript library is either not installed or\n",
       "  not enabled. See the <a href=\"https://ipywidgets.readthedocs.io/en/stable/user_install.html\">Jupyter\n",
       "  Widgets Documentation</a> for setup instructions.\n",
       "</p>\n",
       "<p>\n",
       "  If you're reading this message in another notebook frontend (for example, a static\n",
       "  rendering on GitHub or <a href=\"https://nbviewer.jupyter.org/\">NBViewer</a>),\n",
       "  it may mean that your frontend doesn't currently support widgets.\n",
       "</p>\n"
      ],
      "text/plain": [
       "VBox(children=(HBox(children=(Dropdown(options={'BibTeX': 'bibtex', 'Text': 'text', '[N] author name place other year': 'citation', 'Quoted': 'quoted'}, value='bibtex'), Button(description='Set article_list variable', style=ButtonStyle()), Label(value=''))), HBox(children=(Textarea(value='', layout=Layout(height='500px', width='50%')), Textarea(value='', layout=Layout(height='500px', width='50%'))))))"
      ]
     },
     "metadata": {},
     "output_type": "display_data"
    }
   ],
   "source": [
    "Converter(\"bibtex\")\n"
   ]
  },
  {
   "cell_type": "code",
   "execution_count": 84,
   "metadata": {},
   "outputs": [
    {
     "data": {
      "text/plain": [
       "1"
      ]
     },
     "execution_count": 84,
     "metadata": {},
     "output_type": "execute_result"
    }
   ],
   "source": [
    "len(article_list)"
   ]
  },
  {
   "cell_type": "code",
   "execution_count": 85,
   "metadata": {
    "collapsed": true
   },
   "outputs": [],
   "source": [
    "from snowballing.operations import reload\n",
    "reload()\n"
   ]
  },
  {
   "cell_type": "code",
   "execution_count": null,
   "metadata": {
    "collapsed": true
   },
   "outputs": [],
   "source": []
  },
  {
   "cell_type": "code",
   "execution_count": null,
   "metadata": {
    "collapsed": true,
    "scrolled": false
   },
   "outputs": [],
   "source": [
    "ArticleNavigator??"
   ]
  },
  {
   "cell_type": "code",
   "execution_count": null,
   "metadata": {
    "collapsed": true
   },
   "outputs": [],
   "source": []
  },
  {
   "cell_type": "code",
   "execution_count": null,
   "metadata": {
    "collapsed": true
   },
   "outputs": [],
   "source": []
  },
  {
   "cell_type": "code",
   "execution_count": null,
   "metadata": {
    "collapsed": true
   },
   "outputs": [],
   "source": [
    "ArticleNavigator(articles=article_list)"
   ]
  },
  {
   "cell_type": "code",
   "execution_count": null,
   "metadata": {
    "collapsed": true
   },
   "outputs": [],
   "source": []
  },
  {
   "cell_type": "code",
   "execution_count": null,
   "metadata": {
    "collapsed": true
   },
   "outputs": [],
   "source": [
    "ArticleNavigator??"
   ]
  },
  {
   "cell_type": "code",
   "execution_count": null,
   "metadata": {
    "collapsed": true
   },
   "outputs": [],
   "source": []
  },
  {
   "cell_type": "code",
   "execution_count": 87,
   "metadata": {},
   "outputs": [
    {
     "data": {
      "application/vnd.jupyter.widget-view+json": {
       "model_id": "2e0a01ee1d794d2199ceff8e9ee13995",
       "version_major": 2,
       "version_minor": 0
      },
      "text/html": [
       "<p>Failed to display Jupyter Widget of type <code>VBox</code>.</p>\n",
       "<p>\n",
       "  If you're reading this message in Jupyter Notebook or JupyterLab, it may mean\n",
       "  that the widgets JavaScript is still loading. If this message persists, it\n",
       "  likely means that the widgets JavaScript library is either not installed or\n",
       "  not enabled. See the <a href=\"https://ipywidgets.readthedocs.io/en/stable/user_install.html\">Jupyter\n",
       "  Widgets Documentation</a> for setup instructions.\n",
       "</p>\n",
       "<p>\n",
       "  If you're reading this message in another notebook frontend (for example, a static\n",
       "  rendering on GitHub or <a href=\"https://nbviewer.jupyter.org/\">NBViewer</a>),\n",
       "  it may mean that your frontend doesn't currently support widgets.\n",
       "</p>\n"
      ],
      "text/plain": [
       "VBox(children=(HBox(children=(Button(description='Previous Article', disabled=True, icon='caret-left', style=ButtonStyle()), Button(description='Reload Article', icon='refresh', style=ButtonStyle()), Button(description='Next Article', disabled=True, icon='caret-right', style=ButtonStyle()))), HBox(children=(Dropdown(description='Type', index=3, options=('Work', 'WorkSnowball', 'WorkOk', 'WorkUnrelated', 'WorkNoFile', 'WorkLang', 'Site', 'Email'), value='WorkUnrelated'), ToggleButton(value=False, description='File'))), HBox(children=(Text(value='', description='Due'), Text(value='', description='Place'))), HBox(children=(Text(value='', description='Year'), Text(value='', description='Prefix Var'))), HBox(children=(Text(value='', description='PDFPage'), Text(value='', description='Related'))), HBox(children=(Text(value='', description='Display'), Text(value='', description='Summary'))), HBox(children=(Text(value='', description='Star'), Text(value='', description='Link'))), HBox(children=(Text(value='1', description='sciencedirect2016'),)), HBox(children=(Button(description='Reload Article', icon='refresh', style=ButtonStyle()), IntSlider(value=0, max=0), Label(value='1/1'))), Output()))"
      ]
     },
     "metadata": {},
     "output_type": "display_data"
    },
    {
     "data": {
      "application/javascript": [
       "$('span:contains(\"# Temp\")').closest('.cell').remove();"
      ],
      "text/plain": [
       "<IPython.core.display.Javascript object>"
      ]
     },
     "metadata": {},
     "output_type": "display_data"
    },
    {
     "data": {
      "application/javascript": [
       "\n",
       "        $('span:contains(\"# Temp\")').closest('.cell').remove();\n",
       "        var code = IPython.notebook.insert_cell_below('code');\n",
       "        var prompt = code.element.find(\".input_prompt\");\n",
       "        prompt.append('<br><button style=\"height: 100%; width: 54px;\">Run</button>');\n",
       "        prompt.on(\"click\", \"button\", function(){\n",
       "            code.execute();\n",
       "        });\n",
       "        code.set_text(decodeURIComponent(window.atob(\"JTIzJTIwVGVtcCUwQWluc2VydCUyOCUyNyUyNyUyNyUwQXplbGtvd2l0ejE5OTlhJTIwJTNEJTIwREIlMjhXb3JrVW5yZWxhdGVkJTI4JTBBJTIwJTIwJTIwJTIwMTk5OSUyQyUyMCUyMlN1YmplY3QlMjBJbmRleCUyMiUyQyUwQSUyMCUyMCUyMCUyMGRpc3BsYXklM0QlMjJ6ZWxrb3dpdHolMjIlMkMlMEElMjAlMjAlMjAlMjBhdXRob3JzJTNEJTIyTWFydmluJTIwVi4lMjBaZWxrb3dpdHolMjIlMkMlMEElMjAlMjAlMjAlMjBwbGFjZSUzREZBS0UlMkMlMEElMjAlMjAlMjAlMjBwcCUzRCUyMjElMjAtJTIwNDIwJTIyJTJDJTBBJTIwJTIwJTIwJTIwZW50cnl0eXBlJTNEJTIyaW5jb2xsZWN0aW9uJTIyJTJDJTBBJTIwJTIwJTIwJTIwZWRpdG9yJTNEJTIyTWFydmluJTIwVi4lMjBaZWxrb3dpdHolMjIlMkMlMEElMjAlMjAlMjAlMjBzZXJpZXMlM0QlMjJBZHZhbmNlcyUyMGluJTIwQ29tcHV0ZXJzJTIyJTJDJTBBJTIwJTIwJTIwJTIwcHVibGlzaGVyJTNEJTIyRWxzZXZpZXIlMjIlMkMlMEElMjAlMjAlMjAlMjB2b2x1bWUlM0QlMjI1MCUyMiUyQyUwQSUyMCUyMCUyMCUyMGlzc24lM0QlMjIwMDY1LTI0NTglMjIlMkMlMEElMjAlMjAlMjAlMjBkb2klM0QlMjJodHRwcyUzQS8vZG9pLm9yZy8xMC4xMDE2L1MwMDY1LTI0NTglMjgwOCUyOTYwNzE3LTIlMjIlMkMlMEElMjAlMjAlMjAlMjBJRCUzRCUyMjE5OTkxJTIyJTJDJTBBJTIwJTIwJTIwJTIwc2NpZW5jZWRpcmVjdDIwMTYlM0QlMjIxJTIyJTJDJTBBJTIwJTIwJTIwJTIwcGxhY2V4JTNEJTIySW5kZXglMjBQYXJ0JTIwSSUyMFN1YmplY3QlMjBJbmRleCUyMFZvbHVtZXMlMjAxLTQ5JTIyJTJDJTBBJTI5JTI5JTBBJTI3JTI3JTI3JTI5JTNC\")));\n",
       "    "
      ],
      "text/plain": [
       "<IPython.core.display.Javascript object>"
      ]
     },
     "metadata": {},
     "output_type": "display_data"
    }
   ],
   "source": [
    "from custom_snowballing import UnrelatedInsert\n",
    "UnrelatedInsert(\"sciencedirect2016\", articles=article_list)"
   ]
  },
  {
   "cell_type": "code",
   "execution_count": 88,
   "metadata": {},
   "outputs": [
    {
     "name": "stdout",
     "output_type": "stream",
     "text": [
      "-Insert: zelkowitz1999a\n"
     ]
    }
   ],
   "source": [
    "# Temp\n",
    "insert('''\n",
    "zelkowitz1999a = DB(WorkUnrelated(\n",
    "    1999, \"Subject Index\",\n",
    "    display=\"zelkowitz\",\n",
    "    authors=\"Marvin V. Zelkowitz\",\n",
    "    place=FAKE,\n",
    "    pp=\"1 - 420\",\n",
    "    entrytype=\"incollection\",\n",
    "    editor=\"Marvin V. Zelkowitz\",\n",
    "    series=\"Advances in Computers\",\n",
    "    publisher=\"Elsevier\",\n",
    "    volume=\"50\",\n",
    "    issn=\"0065-2458\",\n",
    "    doi=\"https://doi.org/10.1016/S0065-2458(08)60717-2\",\n",
    "    ID=\"19991\",\n",
    "    sciencedirect2016=\"1\",\n",
    "    placex=\"Index Part I Subject Index Volumes 1-49\",\n",
    "))\n",
    "''');"
   ]
  },
  {
   "cell_type": "code",
   "execution_count": null,
   "metadata": {
    "collapsed": true
   },
   "outputs": [],
   "source": []
  }
 ],
 "metadata": {
  "kernelspec": {
   "display_name": "Python 3",
   "language": "python",
   "name": "python3"
  },
  "language_info": {
   "codemirror_mode": {
    "name": "ipython",
    "version": 3
   },
   "file_extension": ".py",
   "mimetype": "text/x-python",
   "name": "python",
   "nbconvert_exporter": "python",
   "pygments_lexer": "ipython3",
   "version": "3.6.0"
  },
  "toc": {
   "nav_menu": {
    "height": "12px",
    "width": "252px"
   },
   "number_sections": true,
   "sideBar": true,
   "skip_h1_title": false,
   "toc_cell": false,
   "toc_position": {},
   "toc_section_display": "block",
   "toc_window_display": false
  }
 },
 "nbformat": 4,
 "nbformat_minor": 2
}
