{
 "cells": [
  {
   "cell_type": "code",
   "execution_count": 1,
   "metadata": {
    "collapsed": true
   },
   "outputs": [],
   "source": [
    "import database\n",
    "import custom_jupyter_utils\n",
    "from snowballing.operations import load_work, reload, work_by_varname\n",
    "from snowballing.snowballing import Converter\n",
    "from snowballing.snowballing import ArticleNavigator\n",
    "from snowballing.dbmanager import insert, set_attribute"
   ]
  },
  {
   "cell_type": "code",
   "execution_count": 2,
   "metadata": {
    "scrolled": true
   },
   "outputs": [
    {
     "data": {
      "application/vnd.jupyter.widget-view+json": {
       "model_id": "fd8dd50734d54713addf133c3576d1f2",
       "version_major": 2,
       "version_minor": 0
      },
      "text/html": [
       "<p>Failed to display Jupyter Widget of type <code>VBox</code>.</p>\n",
       "<p>\n",
       "  If you're reading this message in Jupyter Notebook or JupyterLab, it may mean\n",
       "  that the widgets JavaScript is still loading. If this message persists, it\n",
       "  likely means that the widgets JavaScript library is either not installed or\n",
       "  not enabled. See the <a href=\"https://ipywidgets.readthedocs.io/en/stable/user_install.html\">Jupyter\n",
       "  Widgets Documentation</a> for setup instructions.\n",
       "</p>\n",
       "<p>\n",
       "  If you're reading this message in another notebook frontend (for example, a static\n",
       "  rendering on GitHub or <a href=\"https://nbviewer.jupyter.org/\">NBViewer</a>),\n",
       "  it may mean that your frontend doesn't currently support widgets.\n",
       "</p>\n"
      ],
      "text/plain": [
       "VBox(children=(HBox(children=(Dropdown(options={'BibTeX': 'bibtex', 'Text': 'text', '[N] author name place other year': 'citation', 'Quoted': 'quoted'}, value='bibtex'), Button(description='Set article_list variable', style=ButtonStyle()), Label(value=''))), HBox(children=(Textarea(value='', layout=Layout(height='500px', width='50%')), Textarea(value='', layout=Layout(height='500px', width='50%'))))))"
      ]
     },
     "metadata": {},
     "output_type": "display_data"
    }
   ],
   "source": [
    "Converter(\"bibtex\")\n"
   ]
  },
  {
   "cell_type": "code",
   "execution_count": 3,
   "metadata": {},
   "outputs": [
    {
     "data": {
      "text/plain": [
       "60"
      ]
     },
     "execution_count": 3,
     "metadata": {},
     "output_type": "execute_result"
    }
   ],
   "source": [
    "len(article_list)"
   ]
  },
  {
   "cell_type": "code",
   "execution_count": 4,
   "metadata": {
    "collapsed": true
   },
   "outputs": [],
   "source": [
    "from snowballing.operations import reload\n",
    "reload()\n"
   ]
  },
  {
   "cell_type": "code",
   "execution_count": null,
   "metadata": {
    "collapsed": true
   },
   "outputs": [],
   "source": []
  },
  {
   "cell_type": "code",
   "execution_count": null,
   "metadata": {
    "collapsed": true,
    "scrolled": false
   },
   "outputs": [],
   "source": [
    "ArticleNavigator??"
   ]
  },
  {
   "cell_type": "code",
   "execution_count": null,
   "metadata": {
    "collapsed": true
   },
   "outputs": [],
   "source": []
  },
  {
   "cell_type": "code",
   "execution_count": null,
   "metadata": {
    "collapsed": true
   },
   "outputs": [],
   "source": []
  },
  {
   "cell_type": "code",
   "execution_count": null,
   "metadata": {
    "collapsed": true
   },
   "outputs": [],
   "source": [
    "ArticleNavigator(articles=article_list)"
   ]
  },
  {
   "cell_type": "code",
   "execution_count": null,
   "metadata": {
    "collapsed": true
   },
   "outputs": [],
   "source": []
  },
  {
   "cell_type": "code",
   "execution_count": null,
   "metadata": {
    "collapsed": true
   },
   "outputs": [],
   "source": [
    "ArticleNavigator??"
   ]
  },
  {
   "cell_type": "code",
   "execution_count": null,
   "metadata": {
    "collapsed": true
   },
   "outputs": [],
   "source": []
  },
  {
   "cell_type": "code",
   "execution_count": null,
   "metadata": {
    "collapsed": true
   },
   "outputs": [],
   "source": []
  },
  {
   "cell_type": "code",
   "execution_count": null,
   "metadata": {
    "collapsed": true
   },
   "outputs": [],
   "source": []
  },
  {
   "cell_type": "code",
   "execution_count": null,
   "metadata": {
    "collapsed": true
   },
   "outputs": [],
   "source": []
  },
  {
   "cell_type": "code",
   "execution_count": null,
   "metadata": {
    "collapsed": true
   },
   "outputs": [],
   "source": []
  },
  {
   "cell_type": "code",
   "execution_count": null,
   "metadata": {
    "collapsed": true
   },
   "outputs": [],
   "source": []
  },
  {
   "cell_type": "code",
   "execution_count": null,
   "metadata": {
    "collapsed": true
   },
   "outputs": [],
   "source": []
  },
  {
   "cell_type": "code",
   "execution_count": null,
   "metadata": {
    "collapsed": true
   },
   "outputs": [],
   "source": []
  },
  {
   "cell_type": "code",
   "execution_count": null,
   "metadata": {
    "collapsed": true
   },
   "outputs": [],
   "source": []
  },
  {
   "cell_type": "code",
   "execution_count": 5,
   "metadata": {
    "scrolled": false
   },
   "outputs": [
    {
     "data": {
      "application/vnd.jupyter.widget-view+json": {
       "model_id": "4dcd5f7c15b546c798833e8aa471eba7",
       "version_major": 2,
       "version_minor": 0
      },
      "text/html": [
       "<p>Failed to display Jupyter Widget of type <code>VBox</code>.</p>\n",
       "<p>\n",
       "  If you're reading this message in Jupyter Notebook or JupyterLab, it may mean\n",
       "  that the widgets JavaScript is still loading. If this message persists, it\n",
       "  likely means that the widgets JavaScript library is either not installed or\n",
       "  not enabled. See the <a href=\"https://ipywidgets.readthedocs.io/en/stable/user_install.html\">Jupyter\n",
       "  Widgets Documentation</a> for setup instructions.\n",
       "</p>\n",
       "<p>\n",
       "  If you're reading this message in another notebook frontend (for example, a static\n",
       "  rendering on GitHub or <a href=\"https://nbviewer.jupyter.org/\">NBViewer</a>),\n",
       "  it may mean that your frontend doesn't currently support widgets.\n",
       "</p>\n"
      ],
      "text/plain": [
       "VBox(children=(HBox(children=(Button(description='Previous Article', disabled=True, icon='caret-left', style=ButtonStyle()), Button(description='Reload Article', icon='refresh', style=ButtonStyle()), Button(description='Next Article', icon='caret-right', style=ButtonStyle()))), HBox(children=(Dropdown(description='Type', index=1, options=('WorkSnowball', 'WorkUnrelated', 'Work', 'WorkOk', 'WorkNoFile', 'WorkLang', 'Site', 'Email'), value='WorkUnrelated'), ToggleButton(value=False, description='File'))), HBox(children=(Text(value='', description='Due'), Text(value='', description='Place'))), HBox(children=(Text(value='', description='Year'), Text(value='', description='Prefix Var'))), HBox(children=(Text(value='', description='PDFPage'), Text(value='', description='Related'))), HBox(children=(Text(value='', description='Display'), Text(value='', description='Summary'))), HBox(children=(Text(value='', description='Star'), Text(value='', description='Link'))), HBox(children=(Text(value='1', description='scholar2016'),)), HBox(children=(Button(description='Reload Article', icon='refresh', style=ButtonStyle()), IntSlider(value=0, max=59), Label(value='1/60'))), Output()))"
      ]
     },
     "metadata": {},
     "output_type": "display_data"
    },
    {
     "data": {
      "application/javascript": [
       "$('span:contains(\"# Temp\")').closest('.cell').remove();"
      ],
      "text/plain": [
       "<IPython.core.display.Javascript object>"
      ]
     },
     "metadata": {},
     "output_type": "display_data"
    },
    {
     "data": {
      "application/javascript": [
       "\n",
       "        $('span:contains(\"# Temp\")').closest('.cell').remove();\n",
       "        var code = IPython.notebook.insert_cell_below('code');\n",
       "        var prompt = code.element.find(\".input_prompt\");\n",
       "        prompt.append('<br><button style=\"height: 100%; width: 54px;\">Run</button>');\n",
       "        prompt.on(\"click\", \"button\", function(){\n",
       "            code.execute();\n",
       "        });\n",
       "        code.set_text(decodeURIComponent(window.atob(\"JTIzJTIwVGVtcCUwQWluc2VydCUyOCUyNyUyNyUyNyUwQXNoYXcxOTk2YSUyMCUzRCUyMERCJTI4V29ya1VucmVsYXRlZCUyOCUwQSUyMCUyMCUyMCUyMDE5OTYlMkMlMjAlMjJTb2Z0d2FyZSUyMGFyY2hpdGVjdHVyZSUyMiUyQyUwQSUyMCUyMCUyMCUyMGRpc3BsYXklM0QlMjJzaGF3JTIyJTJDJTBBJTIwJTIwJTIwJTIwYXV0aG9ycyUzRCUyMlNoYXclMkMlMjBNYXJ5JTIwYW5kJTIwR2FybGFuJTJDJTIwRGF2aWQlMjIlMkMlMEElMjAlMjAlMjAlMjBwbGFjZSUzREJvb2slMkMlMEElMjAlMjAlMjAlMjBlbnRyeXR5cGUlM0QlMjJib29rJTIyJTJDJTBBJTIwJTIwJTIwJTIwdm9sdW1lJTNEJTIyMTAxJTIyJTJDJTBBJTIwJTIwJTIwJTIwcHVibGlzaGVyJTNEJTIyUHJlbnRpY2UlMjBIYWxsJTIwRW5nbGV3b29kJTIwQ2xpZmZzJTIyJTJDJTBBJTIwJTIwJTIwJTIwSUQlM0QlMjJzaGF3MTk5NnNvZnR3YXJlJTIyJTJDJTBBJTIwJTIwJTIwJTIwc2Nob2xhcjIwMTYlM0QlMjIxJTIyJTJDJTBBJTIwJTIwJTIwJTIwcGxhY2V4JTNEJTIyJTIyJTJDJTBBJTI5JTI5JTBBJTI3JTI3JTI3JTI5JTNC\")));\n",
       "    "
      ],
      "text/plain": [
       "<IPython.core.display.Javascript object>"
      ]
     },
     "metadata": {},
     "output_type": "display_data"
    },
    {
     "data": {
      "application/javascript": [
       "$('span:contains(\"# Temp\")').closest('.cell').remove();"
      ],
      "text/plain": [
       "<IPython.core.display.Javascript object>"
      ]
     },
     "metadata": {},
     "output_type": "display_data"
    },
    {
     "data": {
      "application/javascript": [
       "\n",
       "        $('span:contains(\"# Temp\")').closest('.cell').remove();\n",
       "        var code = IPython.notebook.insert_cell_below('code');\n",
       "        var prompt = code.element.find(\".input_prompt\");\n",
       "        prompt.append('<br><button style=\"height: 100%; width: 54px;\">Run</button>');\n",
       "        prompt.on(\"click\", \"button\", function(){\n",
       "            code.execute();\n",
       "        });\n",
       "        code.set_text(decodeURIComponent(window.atob(\"JTIzJTIwVGVtcCUwQWluc2VydCUyOCUyNyUyNyUyNyUwQXNoYW5ub24yMDAzYSUyMCUzRCUyMERCJTI4V29ya1VucmVsYXRlZCUyOCUwQSUyMCUyMCUyMCUyMDIwMDMlMkMlMjAlMjJDeXRvc2NhcGUlM0ElMjBhJTIwc29mdHdhcmUlMjBlbnZpcm9ubWVudCUyMGZvciUyMGludGVncmF0ZWQlMjBtb2RlbHMlMjBvZiUyMGJpb21vbGVjdWxhciUyMGludGVyYWN0aW9uJTIwbmV0d29ya3MlMjIlMkMlMEElMjAlMjAlMjAlMjBkaXNwbGF5JTNEJTIyc2hhbm5vbiUyMiUyQyUwQSUyMCUyMCUyMCUyMGF1dGhvcnMlM0QlMjJTaGFubm9uJTJDJTIwUGF1bCUyMGFuZCUyME1hcmtpZWwlMkMlMjBBbmRyZXclMjBhbmQlMjBPemllciUyQyUyME93ZW4lMjBhbmQlMjBCYWxpZ2ElMkMlMjBOaXRpbiUyMFMlMjBhbmQlMjBXYW5nJTJDJTIwSm9uYXRoYW4lMjBUJTIwYW5kJTIwUmFtYWdlJTJDJTIwRGFuaWVsJTIwYW5kJTIwQW1pbiUyQyUyME5hZGElMjBhbmQlMjBTY2h3aWtvd3NraSUyQyUyMEJlbm5vJTIwYW5kJTIwSWRla2VyJTJDJTIwVHJleSUyMiUyQyUwQSUyMCUyMCUyMCUyMHBsYWNlJTNERkFLRSUyQyUwQSUyMCUyMCUyMCUyMHBwJTNEJTIyMjQ5OC0tMjUwNCUyMiUyQyUwQSUyMCUyMCUyMCUyMGVudHJ5dHlwZSUzRCUyMmFydGljbGUlMjIlMkMlMEElMjAlMjAlMjAlMjB2b2x1bWUlM0QlMjIxMyUyMiUyQyUwQSUyMCUyMCUyMCUyMG51bWJlciUzRCUyMjExJTIyJTJDJTBBJTIwJTIwJTIwJTIwcHVibGlzaGVyJTNEJTIyQ29sZCUyMFNwcmluZyUyMEhhcmJvciUyMExhYiUyMiUyQyUwQSUyMCUyMCUyMCUyMElEJTNEJTIyc2hhbm5vbjIwMDNjeXRvc2NhcGUlMjIlMkMlMEElMjAlMjAlMjAlMjBzY2hvbGFyMjAxNiUzRCUyMjElMjIlMkMlMEElMjAlMjAlMjAlMjBwbGFjZXglM0QlMjJHZW5vbWUlMjByZXNlYXJjaCUyMiUyQyUwQSUyOSUyOSUwQSUyNyUyNyUyNyUyOSUzQg==\")));\n",
       "    "
      ],
      "text/plain": [
       "<IPython.core.display.Javascript object>"
      ]
     },
     "metadata": {},
     "output_type": "display_data"
    },
    {
     "data": {
      "application/javascript": [
       "$('span:contains(\"# Temp\")').closest('.cell').remove();"
      ],
      "text/plain": [
       "<IPython.core.display.Javascript object>"
      ]
     },
     "metadata": {},
     "output_type": "display_data"
    },
    {
     "data": {
      "application/javascript": [
       "\n",
       "        $('span:contains(\"# Temp\")').closest('.cell').remove();\n",
       "        var code = IPython.notebook.insert_cell_below('code');\n",
       "        var prompt = code.element.find(\".input_prompt\");\n",
       "        prompt.append('<br><button style=\"height: 100%; width: 54px;\">Run</button>');\n",
       "        prompt.on(\"click\", \"button\", function(){\n",
       "            code.execute();\n",
       "        });\n",
       "        code.set_text(decodeURIComponent(window.atob(\"JTIzJTIwVGVtcCUwQWluc2VydCUyOCUyNyUyNyUyNyUwQXNoYW5ub24yMDAzYSUyMCUzRCUyMERCJTI4V29ya1VucmVsYXRlZCUyOCUwQSUyMCUyMCUyMCUyMDIwMDMlMkMlMjAlMjJDeXRvc2NhcGUlM0ElMjBhJTIwc29mdHdhcmUlMjBlbnZpcm9ubWVudCUyMGZvciUyMGludGVncmF0ZWQlMjBtb2RlbHMlMjBvZiUyMGJpb21vbGVjdWxhciUyMGludGVyYWN0aW9uJTIwbmV0d29ya3MlMjIlMkMlMEElMjAlMjAlMjAlMjBkaXNwbGF5JTNEJTIyc2hhbm5vbiUyMiUyQyUwQSUyMCUyMCUyMCUyMGF1dGhvcnMlM0QlMjJTaGFubm9uJTJDJTIwUGF1bCUyMGFuZCUyME1hcmtpZWwlMkMlMjBBbmRyZXclMjBhbmQlMjBPemllciUyQyUyME93ZW4lMjBhbmQlMjBCYWxpZ2ElMkMlMjBOaXRpbiUyMFMlMjBhbmQlMjBXYW5nJTJDJTIwSm9uYXRoYW4lMjBUJTIwYW5kJTIwUmFtYWdlJTJDJTIwRGFuaWVsJTIwYW5kJTIwQW1pbiUyQyUyME5hZGElMjBhbmQlMjBTY2h3aWtvd3NraSUyQyUyMEJlbm5vJTIwYW5kJTIwSWRla2VyJTJDJTIwVHJleSUyMiUyQyUwQSUyMCUyMCUyMCUyMHBsYWNlJTNERkFLRSUyQyUwQSUyMCUyMCUyMCUyMHBwJTNEJTIyMjQ5OC0tMjUwNCUyMiUyQyUwQSUyMCUyMCUyMCUyMGVudHJ5dHlwZSUzRCUyMmFydGljbGUlMjIlMkMlMEElMjAlMjAlMjAlMjB2b2x1bWUlM0QlMjIxMyUyMiUyQyUwQSUyMCUyMCUyMCUyMG51bWJlciUzRCUyMjExJTIyJTJDJTBBJTIwJTIwJTIwJTIwcHVibGlzaGVyJTNEJTIyQ29sZCUyMFNwcmluZyUyMEhhcmJvciUyMExhYiUyMiUyQyUwQSUyMCUyMCUyMCUyMElEJTNEJTIyc2hhbm5vbjIwMDNjeXRvc2NhcGUlMjIlMkMlMEElMjAlMjAlMjAlMjBzY2hvbGFyMjAxNiUzRCUyMjElMjIlMkMlMEElMjAlMjAlMjAlMjBwbGFjZXglM0QlMjJHZW5vbWUlMjByZXNlYXJjaCUyMiUyQyUwQSUyOSUyOSUwQSUyNyUyNyUyNyUyOSUzQg==\")));\n",
       "    "
      ],
      "text/plain": [
       "<IPython.core.display.Javascript object>"
      ]
     },
     "metadata": {},
     "output_type": "display_data"
    },
    {
     "data": {
      "application/javascript": [
       "$('span:contains(\"# Temp\")').closest('.cell').remove();"
      ],
      "text/plain": [
       "<IPython.core.display.Javascript object>"
      ]
     },
     "metadata": {},
     "output_type": "display_data"
    },
    {
     "data": {
      "application/javascript": [
       "\n",
       "        $('span:contains(\"# Temp\")').closest('.cell').remove();\n",
       "        var code = IPython.notebook.insert_cell_below('code');\n",
       "        var prompt = code.element.find(\".input_prompt\");\n",
       "        prompt.append('<br><button style=\"height: 100%; width: 54px;\">Run</button>');\n",
       "        prompt.on(\"click\", \"button\", function(){\n",
       "            code.execute();\n",
       "        });\n",
       "        code.set_text(decodeURIComponent(window.atob(\"JTIzJTIwVGVtcCUwQWluc2VydCUyOCUyNyUyNyUyNyUyNyUyNyUyNyUyOSUzQiUwQXNldF9hdHRyaWJ1dGUlMjglMjdsaWFvMjAwNWElMjclMkMlMjAlMjdzY2hvbGFyMjAxNiUyNyUyQyUyMCUyNzElMjclMjklM0I=\")));\n",
       "    "
      ],
      "text/plain": [
       "<IPython.core.display.Javascript object>"
      ]
     },
     "metadata": {},
     "output_type": "display_data"
    },
    {
     "data": {
      "application/javascript": [
       "$('span:contains(\"# Temp\")').closest('.cell').remove();"
      ],
      "text/plain": [
       "<IPython.core.display.Javascript object>"
      ]
     },
     "metadata": {},
     "output_type": "display_data"
    },
    {
     "data": {
      "application/javascript": [
       "\n",
       "        $('span:contains(\"# Temp\")').closest('.cell').remove();\n",
       "        var code = IPython.notebook.insert_cell_below('code');\n",
       "        var prompt = code.element.find(\".input_prompt\");\n",
       "        prompt.append('<br><button style=\"height: 100%; width: 54px;\">Run</button>');\n",
       "        prompt.on(\"click\", \"button\", function(){\n",
       "            code.execute();\n",
       "        });\n",
       "        code.set_text(decodeURIComponent(window.atob(\"JTIzJTIwVGVtcCUwQWluc2VydCUyOCUyNyUyNyUyNyUyNyUyNyUyNyUyOSUzQiUwQXNldF9hdHRyaWJ1dGUlMjglMjdsaWFvMjAwNWElMjclMkMlMjAlMjdzY2hvbGFyMjAxNiUyNyUyQyUyMCUyNzElMjclMjklM0I=\")));\n",
       "    "
      ],
      "text/plain": [
       "<IPython.core.display.Javascript object>"
      ]
     },
     "metadata": {},
     "output_type": "display_data"
    },
    {
     "data": {
      "application/javascript": [
       "$('span:contains(\"# Temp\")').closest('.cell').remove();"
      ],
      "text/plain": [
       "<IPython.core.display.Javascript object>"
      ]
     },
     "metadata": {},
     "output_type": "display_data"
    },
    {
     "data": {
      "application/javascript": [
       "\n",
       "        $('span:contains(\"# Temp\")').closest('.cell').remove();\n",
       "        var code = IPython.notebook.insert_cell_below('code');\n",
       "        var prompt = code.element.find(\".input_prompt\");\n",
       "        prompt.append('<br><button style=\"height: 100%; width: 54px;\">Run</button>');\n",
       "        prompt.on(\"click\", \"button\", function(){\n",
       "            code.execute();\n",
       "        });\n",
       "        code.set_text(decodeURIComponent(window.atob(\"JTIzJTIwVGVtcCUwQWluc2VydCUyOCUyNyUyNyUyNyUwQW5pY29sYTIwMDlhJTIwJTNEJTIwREIlMjhXb3JrVW5yZWxhdGVkJTI4JTBBJTIwJTIwJTIwJTIwMjAwOSUyQyUyMCUyMkElMjBzb2Z0d2FyZSUyMGVuZ2luZWVyaW5nJTIwYXBwcm9hY2glMjB0byUyMG9udG9sb2d5JTIwYnVpbGRpbmclMjIlMkMlMEElMjAlMjAlMjAlMjBkaXNwbGF5JTNEJTIybmljb2xhJTIyJTJDJTBBJTIwJTIwJTIwJTIwYXV0aG9ycyUzRCUyMkRlJTIwTmljb2xhJTJDJTIwQW50b25pbyUyMGFuZCUyME1pc3Npa29mZiUyQyUyME1pY2hlbGUlMjBhbmQlMjBOYXZpZ2xpJTJDJTIwUm9iZXJ0byUyMiUyQyUwQSUyMCUyMCUyMCUyMHBsYWNlJTNERkFLRSUyQyUwQSUyMCUyMCUyMCUyMHBwJTNEJTIyMjU4LS0yNzUlMjIlMkMlMEElMjAlMjAlMjAlMjBlbnRyeXR5cGUlM0QlMjJhcnRpY2xlJTIyJTJDJTBBJTIwJTIwJTIwJTIwdm9sdW1lJTNEJTIyMzQlMjIlMkMlMEElMjAlMjAlMjAlMjBudW1iZXIlM0QlMjIyJTIyJTJDJTBBJTIwJTIwJTIwJTIwcHVibGlzaGVyJTNEJTIyRWxzZXZpZXIlMjIlMkMlMEElMjAlMjAlMjAlMjBJRCUzRCUyMmRlMjAwOXNvZnR3YXJlJTIyJTJDJTBBJTIwJTIwJTIwJTIwc2Nob2xhcjIwMTYlM0QlMjIxJTIyJTJDJTBBJTIwJTIwJTIwJTIwcGxhY2V4JTNEJTIySW5mb3JtYXRpb24lMjBzeXN0ZW1zJTIyJTJDJTBBJTI5JTI5JTBBJTI3JTI3JTI3JTI5JTNC\")));\n",
       "    "
      ],
      "text/plain": [
       "<IPython.core.display.Javascript object>"
      ]
     },
     "metadata": {},
     "output_type": "display_data"
    },
    {
     "data": {
      "application/javascript": [
       "$('span:contains(\"# Temp\")').closest('.cell').remove();"
      ],
      "text/plain": [
       "<IPython.core.display.Javascript object>"
      ]
     },
     "metadata": {},
     "output_type": "display_data"
    },
    {
     "data": {
      "application/javascript": [
       "\n",
       "        $('span:contains(\"# Temp\")').closest('.cell').remove();\n",
       "        var code = IPython.notebook.insert_cell_below('code');\n",
       "        var prompt = code.element.find(\".input_prompt\");\n",
       "        prompt.append('<br><button style=\"height: 100%; width: 54px;\">Run</button>');\n",
       "        prompt.on(\"click\", \"button\", function(){\n",
       "            code.execute();\n",
       "        });\n",
       "        code.set_text(decodeURIComponent(window.atob(\"JTIzJTIwVGVtcCUwQWluc2VydCUyOCUyNyUyNyUyNyUwQW5pY29sYTIwMDlhJTIwJTNEJTIwREIlMjhXb3JrVW5yZWxhdGVkJTI4JTBBJTIwJTIwJTIwJTIwMjAwOSUyQyUyMCUyMkElMjBzb2Z0d2FyZSUyMGVuZ2luZWVyaW5nJTIwYXBwcm9hY2glMjB0byUyMG9udG9sb2d5JTIwYnVpbGRpbmclMjIlMkMlMEElMjAlMjAlMjAlMjBkaXNwbGF5JTNEJTIybmljb2xhJTIyJTJDJTBBJTIwJTIwJTIwJTIwYXV0aG9ycyUzRCUyMkRlJTIwTmljb2xhJTJDJTIwQW50b25pbyUyMGFuZCUyME1pc3Npa29mZiUyQyUyME1pY2hlbGUlMjBhbmQlMjBOYXZpZ2xpJTJDJTIwUm9iZXJ0byUyMiUyQyUwQSUyMCUyMCUyMCUyMHBsYWNlJTNERkFLRSUyQyUwQSUyMCUyMCUyMCUyMHBwJTNEJTIyMjU4LS0yNzUlMjIlMkMlMEElMjAlMjAlMjAlMjBlbnRyeXR5cGUlM0QlMjJhcnRpY2xlJTIyJTJDJTBBJTIwJTIwJTIwJTIwdm9sdW1lJTNEJTIyMzQlMjIlMkMlMEElMjAlMjAlMjAlMjBudW1iZXIlM0QlMjIyJTIyJTJDJTBBJTIwJTIwJTIwJTIwcHVibGlzaGVyJTNEJTIyRWxzZXZpZXIlMjIlMkMlMEElMjAlMjAlMjAlMjBJRCUzRCUyMmRlMjAwOXNvZnR3YXJlJTIyJTJDJTBBJTIwJTIwJTIwJTIwc2Nob2xhcjIwMTYlM0QlMjIxJTIyJTJDJTBBJTIwJTIwJTIwJTIwcGxhY2V4JTNEJTIySW5mb3JtYXRpb24lMjBzeXN0ZW1zJTIyJTJDJTBBJTI5JTI5JTBBJTI3JTI3JTI3JTI5JTNC\")));\n",
       "    "
      ],
      "text/plain": [
       "<IPython.core.display.Javascript object>"
      ]
     },
     "metadata": {},
     "output_type": "display_data"
    },
    {
     "data": {
      "application/javascript": [
       "$('span:contains(\"# Temp\")').closest('.cell').remove();"
      ],
      "text/plain": [
       "<IPython.core.display.Javascript object>"
      ]
     },
     "metadata": {},
     "output_type": "display_data"
    },
    {
     "data": {
      "application/javascript": [
       "\n",
       "        $('span:contains(\"# Temp\")').closest('.cell').remove();\n",
       "        var code = IPython.notebook.insert_cell_below('code');\n",
       "        var prompt = code.element.find(\".input_prompt\");\n",
       "        prompt.append('<br><button style=\"height: 100%; width: 54px;\">Run</button>');\n",
       "        prompt.on(\"click\", \"button\", function(){\n",
       "            code.execute();\n",
       "        });\n",
       "        code.set_text(decodeURIComponent(window.atob(\"JTIzJTIwVGVtcCUwQWluc2VydCUyOCUyNyUyNyUyNyUwQWZlcm4lQzMlQTFuZGV6MTk5N2ElMjAlM0QlMjBEQiUyOFdvcmtVbnJlbGF0ZWQlMjglMEElMjAlMjAlMjAlMjAxOTk3JTJDJTIwJTIyTWV0aG9udG9sb2d5JTNBJTIwZnJvbSUyMG9udG9sb2dpY2FsJTIwYXJ0JTIwdG93YXJkcyUyMG9udG9sb2dpY2FsJTIwZW5naW5lZXJpbmclMjIlMkMlMEElMjAlMjAlMjAlMjBkaXNwbGF5JTNEJTIyZmVybiVDMyVBMW5kZXolMjIlMkMlMEElMjAlMjAlMjAlMjBhdXRob3JzJTNEJTIyRmVybiVDMyVBMW5kZXotTCVDMyVCM3BleiUyQyUyME1hcmlhbm8lMjBhbmQlMjBHJUMzJUIzbWV6LVAlQzMlQTlyZXolMkMlMjBBc3VuY2klQzMlQjNuJTIwYW5kJTIwSnVyaXN0byUyQyUyME5hdGFsaWElMjIlMkMlMEElMjAlMjAlMjAlMjBwbGFjZSUzREZBS0UlMkMlMEElMjAlMjAlMjAlMjBlbnRyeXR5cGUlM0QlMjJhcnRpY2xlJTIyJTJDJTBBJTIwJTIwJTIwJTIwcHVibGlzaGVyJTNEJTIyQW1lcmljYW4lMjBBc29jaWF0aW9uJTIwZm9yJTIwQXJ0aWZpY2lhbCUyMEludGVsbGlnZW5jZSUyMiUyQyUwQSUyMCUyMCUyMCUyMElEJTNEJTIyZmVybmFuZGV6MTk5N21ldGhvbnRvbG9neSUyMiUyQyUwQSUyMCUyMCUyMCUyMHNjaG9sYXIyMDE2JTNEJTIyMSUyMiUyQyUwQSUyMCUyMCUyMCUyMHBsYWNleCUzRCUyMiUyMiUyQyUwQSUyOSUyOSUwQSUyNyUyNyUyNyUyOSUzQg==\")));\n",
       "    "
      ],
      "text/plain": [
       "<IPython.core.display.Javascript object>"
      ]
     },
     "metadata": {},
     "output_type": "display_data"
    },
    {
     "data": {
      "application/javascript": [
       "$('span:contains(\"# Temp\")').closest('.cell').remove();"
      ],
      "text/plain": [
       "<IPython.core.display.Javascript object>"
      ]
     },
     "metadata": {},
     "output_type": "display_data"
    },
    {
     "data": {
      "application/javascript": [
       "\n",
       "        $('span:contains(\"# Temp\")').closest('.cell').remove();\n",
       "        var code = IPython.notebook.insert_cell_below('code');\n",
       "        var prompt = code.element.find(\".input_prompt\");\n",
       "        prompt.append('<br><button style=\"height: 100%; width: 54px;\">Run</button>');\n",
       "        prompt.on(\"click\", \"button\", function(){\n",
       "            code.execute();\n",
       "        });\n",
       "        code.set_text(decodeURIComponent(window.atob(\"JTIzJTIwVGVtcCUwQWluc2VydCUyOCUyNyUyNyUyNyUwQWZlcm4lQzMlQTFuZGV6MTk5N2ElMjAlM0QlMjBEQiUyOFdvcmtVbnJlbGF0ZWQlMjglMEElMjAlMjAlMjAlMjAxOTk3JTJDJTIwJTIyTWV0aG9udG9sb2d5JTNBJTIwZnJvbSUyMG9udG9sb2dpY2FsJTIwYXJ0JTIwdG93YXJkcyUyMG9udG9sb2dpY2FsJTIwZW5naW5lZXJpbmclMjIlMkMlMEElMjAlMjAlMjAlMjBkaXNwbGF5JTNEJTIyZmVybiVDMyVBMW5kZXolMjIlMkMlMEElMjAlMjAlMjAlMjBhdXRob3JzJTNEJTIyRmVybiVDMyVBMW5kZXotTCVDMyVCM3BleiUyQyUyME1hcmlhbm8lMjBhbmQlMjBHJUMzJUIzbWV6LVAlQzMlQTlyZXolMkMlMjBBc3VuY2klQzMlQjNuJTIwYW5kJTIwSnVyaXN0byUyQyUyME5hdGFsaWElMjIlMkMlMEElMjAlMjAlMjAlMjBwbGFjZSUzREZBS0UlMkMlMEElMjAlMjAlMjAlMjBlbnRyeXR5cGUlM0QlMjJhcnRpY2xlJTIyJTJDJTBBJTIwJTIwJTIwJTIwcHVibGlzaGVyJTNEJTIyQW1lcmljYW4lMjBBc29jaWF0aW9uJTIwZm9yJTIwQXJ0aWZpY2lhbCUyMEludGVsbGlnZW5jZSUyMiUyQyUwQSUyMCUyMCUyMCUyMElEJTNEJTIyZmVybmFuZGV6MTk5N21ldGhvbnRvbG9neSUyMiUyQyUwQSUyMCUyMCUyMCUyMHNjaG9sYXIyMDE2JTNEJTIyMSUyMiUyQyUwQSUyMCUyMCUyMCUyMHBsYWNleCUzRCUyMiUyMiUyQyUwQSUyOSUyOSUwQSUyNyUyNyUyNyUyOSUzQg==\")));\n",
       "    "
      ],
      "text/plain": [
       "<IPython.core.display.Javascript object>"
      ]
     },
     "metadata": {},
     "output_type": "display_data"
    },
    {
     "data": {
      "application/javascript": [
       "$('span:contains(\"# Temp\")').closest('.cell').remove();"
      ],
      "text/plain": [
       "<IPython.core.display.Javascript object>"
      ]
     },
     "metadata": {},
     "output_type": "display_data"
    },
    {
     "data": {
      "application/javascript": [
       "\n",
       "        $('span:contains(\"# Temp\")').closest('.cell').remove();\n",
       "        var code = IPython.notebook.insert_cell_below('code');\n",
       "        var prompt = code.element.find(\".input_prompt\");\n",
       "        prompt.append('<br><button style=\"height: 100%; width: 54px;\">Run</button>');\n",
       "        prompt.on(\"click\", \"button\", function(){\n",
       "            code.execute();\n",
       "        });\n",
       "        code.set_text(decodeURIComponent(window.atob(\"JTIzJTIwVGVtcCUwQWluc2VydCUyOCUyNyUyNyUyNyUwQXN1JUMzJUExcmV6MjAxMmElMjAlM0QlMjBEQiUyOFdvcmtVbnJlbGF0ZWQlMjglMEElMjAlMjAlMjAlMjAyMDEyJTJDJTIwJTIyVGhlJTIwTmVPbiUyMG1ldGhvZG9sb2d5JTIwZm9yJTIwb250b2xvZ3klMjBlbmdpbmVlcmluZyUyMiUyQyUwQSUyMCUyMCUyMCUyMGRpc3BsYXklM0QlMjJzdSVDMyVBMXJleiUyMiUyQyUwQSUyMCUyMCUyMCUyMGF1dGhvcnMlM0QlMjJTdSVDMyVBMXJlei1GaWd1ZXJvYSUyQyUyME1hcmklMjBDYXJtZW4lMjBhbmQlMjBHJUMzJUIzbWV6LVAlQzMlQTlyZXolMkMlMjBBc3VuY2klQzMlQjNuJTIwYW5kJTIwRmVybiVDMyVBMW5kZXotTCVDMyVCM3BleiUyQyUyME1hcmlhbm8lMjIlMkMlMEElMjAlMjAlMjAlMjBwbGFjZSUzREZBS0UlMkMlMEElMjAlMjAlMjAlMjBwcCUzRCUyMjktLTM0JTIyJTJDJTBBJTIwJTIwJTIwJTIwZW50cnl0eXBlJTNEJTIyaW5jb2xsZWN0aW9uJTIyJTJDJTBBJTIwJTIwJTIwJTIwcHVibGlzaGVyJTNEJTIyU3ByaW5nZXIlMjIlMkMlMEElMjAlMjAlMjAlMjBJRCUzRCUyMnN1YXJlejIwMTJuZW9uJTIyJTJDJTBBJTIwJTIwJTIwJTIwc2Nob2xhcjIwMTYlM0QlMjIxJTIyJTJDJTBBJTIwJTIwJTIwJTIwcGxhY2V4JTNEJTIyT250b2xvZ3klMjBlbmdpbmVlcmluZyUyMGluJTIwYSUyMG5ldHdvcmtlZCUyMHdvcmxkJTIyJTJDJTBBJTI5JTI5JTBBJTI3JTI3JTI3JTI5JTNC\")));\n",
       "    "
      ],
      "text/plain": [
       "<IPython.core.display.Javascript object>"
      ]
     },
     "metadata": {},
     "output_type": "display_data"
    },
    {
     "data": {
      "application/javascript": [
       "$('span:contains(\"# Temp\")').closest('.cell').remove();"
      ],
      "text/plain": [
       "<IPython.core.display.Javascript object>"
      ]
     },
     "metadata": {},
     "output_type": "display_data"
    },
    {
     "data": {
      "application/javascript": [
       "\n",
       "        $('span:contains(\"# Temp\")').closest('.cell').remove();\n",
       "        var code = IPython.notebook.insert_cell_below('code');\n",
       "        var prompt = code.element.find(\".input_prompt\");\n",
       "        prompt.append('<br><button style=\"height: 100%; width: 54px;\">Run</button>');\n",
       "        prompt.on(\"click\", \"button\", function(){\n",
       "            code.execute();\n",
       "        });\n",
       "        code.set_text(decodeURIComponent(window.atob(\"JTIzJTIwVGVtcCUwQWluc2VydCUyOCUyNyUyNyUyNyUwQXN1JUMzJUExcmV6MjAxMmElMjAlM0QlMjBEQiUyOFdvcmtVbnJlbGF0ZWQlMjglMEElMjAlMjAlMjAlMjAyMDEyJTJDJTIwJTIyVGhlJTIwTmVPbiUyMG1ldGhvZG9sb2d5JTIwZm9yJTIwb250b2xvZ3klMjBlbmdpbmVlcmluZyUyMiUyQyUwQSUyMCUyMCUyMCUyMGRpc3BsYXklM0QlMjJzdSVDMyVBMXJleiUyMiUyQyUwQSUyMCUyMCUyMCUyMGF1dGhvcnMlM0QlMjJTdSVDMyVBMXJlei1GaWd1ZXJvYSUyQyUyME1hcmklMjBDYXJtZW4lMjBhbmQlMjBHJUMzJUIzbWV6LVAlQzMlQTlyZXolMkMlMjBBc3VuY2klQzMlQjNuJTIwYW5kJTIwRmVybiVDMyVBMW5kZXotTCVDMyVCM3BleiUyQyUyME1hcmlhbm8lMjIlMkMlMEElMjAlMjAlMjAlMjBwbGFjZSUzREZBS0UlMkMlMEElMjAlMjAlMjAlMjBwcCUzRCUyMjktLTM0JTIyJTJDJTBBJTIwJTIwJTIwJTIwZW50cnl0eXBlJTNEJTIyaW5jb2xsZWN0aW9uJTIyJTJDJTBBJTIwJTIwJTIwJTIwcHVibGlzaGVyJTNEJTIyU3ByaW5nZXIlMjIlMkMlMEElMjAlMjAlMjAlMjBJRCUzRCUyMnN1YXJlejIwMTJuZW9uJTIyJTJDJTBBJTIwJTIwJTIwJTIwc2Nob2xhcjIwMTYlM0QlMjIxJTIyJTJDJTBBJTIwJTIwJTIwJTIwcGxhY2V4JTNEJTIyT250b2xvZ3klMjBlbmdpbmVlcmluZyUyMGluJTIwYSUyMG5ldHdvcmtlZCUyMHdvcmxkJTIyJTJDJTBBJTI5JTI5JTBBJTI3JTI3JTI3JTI5JTNC\")));\n",
       "    "
      ],
      "text/plain": [
       "<IPython.core.display.Javascript object>"
      ]
     },
     "metadata": {},
     "output_type": "display_data"
    },
    {
     "data": {
      "application/javascript": [
       "$('span:contains(\"# Temp\")').closest('.cell').remove();"
      ],
      "text/plain": [
       "<IPython.core.display.Javascript object>"
      ]
     },
     "metadata": {},
     "output_type": "display_data"
    },
    {
     "data": {
      "application/javascript": [
       "\n",
       "        $('span:contains(\"# Temp\")').closest('.cell').remove();\n",
       "        var code = IPython.notebook.insert_cell_below('code');\n",
       "        var prompt = code.element.find(\".input_prompt\");\n",
       "        prompt.append('<br><button style=\"height: 100%; width: 54px;\">Run</button>');\n",
       "        prompt.on(\"click\", \"button\", function(){\n",
       "            code.execute();\n",
       "        });\n",
       "        code.set_text(decodeURIComponent(window.atob(\"JTIzJTIwVGVtcCUwQWluc2VydCUyOCUyNyUyNyUyNyUwQWNvbnNvcnRpdW0yMDA2YSUyMCUzRCUyMERCJTI4V29ya1VucmVsYXRlZCUyOCUwQSUyMCUyMCUyMCUyMDIwMDYlMkMlMjAlMjJUaGUlMjBnZW5lJTIwb250b2xvZ3klMjAlMjhHTyUyOSUyMHByb2plY3QlMjBpbiUyMDIwMDYlMjIlMkMlMEElMjAlMjAlMjAlMjBkaXNwbGF5JTNEJTIyY29uc29ydGl1bSUyMiUyQyUwQSUyMCUyMCUyMCUyMGF1dGhvcnMlM0QlMjJHZW5lJTIwT250b2xvZ3klMjBDb25zb3J0aXVtJTIyJTJDJTBBJTIwJTIwJTIwJTIwcGxhY2UlM0RGQUtFJTJDJTBBJTIwJTIwJTIwJTIwcHAlM0QlMjJEMzIyLS1EMzI2JTIyJTJDJTBBJTIwJTIwJTIwJTIwZW50cnl0eXBlJTNEJTIyYXJ0aWNsZSUyMiUyQyUwQSUyMCUyMCUyMCUyMHZvbHVtZSUzRCUyMjM0JTIyJTJDJTBBJTIwJTIwJTIwJTIwbnVtYmVyJTNEJTIyc3VwcGxfMSUyMiUyQyUwQSUyMCUyMCUyMCUyMHB1Ymxpc2hlciUzRCUyMk94Zm9yZCUyMFVuaXZlcnNpdHklMjBQcmVzcyUyMiUyQyUwQSUyMCUyMCUyMCUyMElEJTNEJTIyZ2VuZTIwMDZnZW5lJTIyJTJDJTBBJTIwJTIwJTIwJTIwc2Nob2xhcjIwMTYlM0QlMjIxJTIyJTJDJTBBJTIwJTIwJTIwJTIwcGxhY2V4JTNEJTIyTnVjbGVpYyUyMGFjaWRzJTIwcmVzZWFyY2glMjIlMkMlMEElMjklMjklMEElMjclMjclMjclMjklM0I=\")));\n",
       "    "
      ],
      "text/plain": [
       "<IPython.core.display.Javascript object>"
      ]
     },
     "metadata": {},
     "output_type": "display_data"
    },
    {
     "data": {
      "application/javascript": [
       "$('span:contains(\"# Temp\")').closest('.cell').remove();"
      ],
      "text/plain": [
       "<IPython.core.display.Javascript object>"
      ]
     },
     "metadata": {},
     "output_type": "display_data"
    },
    {
     "data": {
      "application/javascript": [
       "\n",
       "        $('span:contains(\"# Temp\")').closest('.cell').remove();\n",
       "        var code = IPython.notebook.insert_cell_below('code');\n",
       "        var prompt = code.element.find(\".input_prompt\");\n",
       "        prompt.append('<br><button style=\"height: 100%; width: 54px;\">Run</button>');\n",
       "        prompt.on(\"click\", \"button\", function(){\n",
       "            code.execute();\n",
       "        });\n",
       "        code.set_text(decodeURIComponent(window.atob(\"JTIzJTIwVGVtcCUwQWluc2VydCUyOCUyNyUyNyUyNyUwQWNvbnNvcnRpdW0yMDA2YSUyMCUzRCUyMERCJTI4V29ya1VucmVsYXRlZCUyOCUwQSUyMCUyMCUyMCUyMDIwMDYlMkMlMjAlMjJUaGUlMjBnZW5lJTIwb250b2xvZ3klMjAlMjhHTyUyOSUyMHByb2plY3QlMjBpbiUyMDIwMDYlMjIlMkMlMEElMjAlMjAlMjAlMjBkaXNwbGF5JTNEJTIyY29uc29ydGl1bSUyMiUyQyUwQSUyMCUyMCUyMCUyMGF1dGhvcnMlM0QlMjJHZW5lJTIwT250b2xvZ3klMjBDb25zb3J0aXVtJTIyJTJDJTBBJTIwJTIwJTIwJTIwcGxhY2UlM0RGQUtFJTJDJTBBJTIwJTIwJTIwJTIwcHAlM0QlMjJEMzIyLS1EMzI2JTIyJTJDJTBBJTIwJTIwJTIwJTIwZW50cnl0eXBlJTNEJTIyYXJ0aWNsZSUyMiUyQyUwQSUyMCUyMCUyMCUyMHZvbHVtZSUzRCUyMjM0JTIyJTJDJTBBJTIwJTIwJTIwJTIwbnVtYmVyJTNEJTIyc3VwcGxfMSUyMiUyQyUwQSUyMCUyMCUyMCUyMHB1Ymxpc2hlciUzRCUyMk94Zm9yZCUyMFVuaXZlcnNpdHklMjBQcmVzcyUyMiUyQyUwQSUyMCUyMCUyMCUyMElEJTNEJTIyZ2VuZTIwMDZnZW5lJTIyJTJDJTBBJTIwJTIwJTIwJTIwc2Nob2xhcjIwMTYlM0QlMjIxJTIyJTJDJTBBJTIwJTIwJTIwJTIwcGxhY2V4JTNEJTIyTnVjbGVpYyUyMGFjaWRzJTIwcmVzZWFyY2glMjIlMkMlMEElMjklMjklMEElMjclMjclMjclMjklM0I=\")));\n",
       "    "
      ],
      "text/plain": [
       "<IPython.core.display.Javascript object>"
      ]
     },
     "metadata": {},
     "output_type": "display_data"
    },
    {
     "data": {
      "application/javascript": [
       "$('span:contains(\"# Temp\")').closest('.cell').remove();"
      ],
      "text/plain": [
       "<IPython.core.display.Javascript object>"
      ]
     },
     "metadata": {},
     "output_type": "display_data"
    },
    {
     "data": {
      "application/javascript": [
       "\n",
       "        $('span:contains(\"# Temp\")').closest('.cell').remove();\n",
       "        var code = IPython.notebook.insert_cell_below('code');\n",
       "        var prompt = code.element.find(\".input_prompt\");\n",
       "        prompt.append('<br><button style=\"height: 100%; width: 54px;\">Run</button>');\n",
       "        prompt.on(\"click\", \"button\", function(){\n",
       "            code.execute();\n",
       "        });\n",
       "        code.set_text(decodeURIComponent(window.atob(\"JTIzJTIwVGVtcCUwQWluc2VydCUyOCUyNyUyNyUyNyUwQWZlcm4lQzMlQTFuZGV6MTk5OWElMjAlM0QlMjBEQiUyOFdvcmtVbnJlbGF0ZWQlMjglMEElMjAlMjAlMjAlMjAxOTk5JTJDJTIwJTIyT3ZlcnZpZXclMjBvZiUyMG1ldGhvZG9sb2dpZXMlMjBmb3IlMjBidWlsZGluZyUyMG9udG9sb2dpZXMlMjIlMkMlMEElMjAlMjAlMjAlMjBkaXNwbGF5JTNEJTIyZmVybiVDMyVBMW5kZXolMjIlMkMlMEElMjAlMjAlMjAlMjBhdXRob3JzJTNEJTIyRmVybiVDMyVBMW5kZXotTCVDMyVCM3BleiUyQyUyME1hcmlhbm8lMjIlMkMlMEElMjAlMjAlMjAlMjBwbGFjZSUzREZBS0UlMkMlMEElMjAlMjAlMjAlMjBlbnRyeXR5cGUlM0QlMjJhcnRpY2xlJTIyJTJDJTBBJTIwJTIwJTIwJTIwcHVibGlzaGVyJTNEJTIyQ0VVUiUyMFB1YmxpY2F0aW9ucyUyMCUyODE5OTklMjklMjIlMkMlMEElMjAlMjAlMjAlMjBJRCUzRCUyMmZlcm5hbmRlejE5OTlvdmVydmlldyUyMiUyQyUwQSUyMCUyMCUyMCUyMHNjaG9sYXIyMDE2JTNEJTIyMSUyMiUyQyUwQSUyMCUyMCUyMCUyMHBsYWNleCUzRCUyMiUyMiUyQyUwQSUyOSUyOSUwQSUyNyUyNyUyNyUyOSUzQg==\")));\n",
       "    "
      ],
      "text/plain": [
       "<IPython.core.display.Javascript object>"
      ]
     },
     "metadata": {},
     "output_type": "display_data"
    },
    {
     "data": {
      "application/javascript": [
       "$('span:contains(\"# Temp\")').closest('.cell').remove();"
      ],
      "text/plain": [
       "<IPython.core.display.Javascript object>"
      ]
     },
     "metadata": {},
     "output_type": "display_data"
    },
    {
     "data": {
      "application/javascript": [
       "\n",
       "        $('span:contains(\"# Temp\")').closest('.cell').remove();\n",
       "        var code = IPython.notebook.insert_cell_below('code');\n",
       "        var prompt = code.element.find(\".input_prompt\");\n",
       "        prompt.append('<br><button style=\"height: 100%; width: 54px;\">Run</button>');\n",
       "        prompt.on(\"click\", \"button\", function(){\n",
       "            code.execute();\n",
       "        });\n",
       "        code.set_text(decodeURIComponent(window.atob(\"JTIzJTIwVGVtcCUwQWluc2VydCUyOCUyNyUyNyUyNyUwQWZlcm4lQzMlQTFuZGV6MTk5OWElMjAlM0QlMjBEQiUyOFdvcmtVbnJlbGF0ZWQlMjglMEElMjAlMjAlMjAlMjAxOTk5JTJDJTIwJTIyT3ZlcnZpZXclMjBvZiUyMG1ldGhvZG9sb2dpZXMlMjBmb3IlMjBidWlsZGluZyUyMG9udG9sb2dpZXMlMjIlMkMlMEElMjAlMjAlMjAlMjBkaXNwbGF5JTNEJTIyZmVybiVDMyVBMW5kZXolMjIlMkMlMEElMjAlMjAlMjAlMjBhdXRob3JzJTNEJTIyRmVybiVDMyVBMW5kZXotTCVDMyVCM3BleiUyQyUyME1hcmlhbm8lMjIlMkMlMEElMjAlMjAlMjAlMjBwbGFjZSUzREZBS0UlMkMlMEElMjAlMjAlMjAlMjBlbnRyeXR5cGUlM0QlMjJhcnRpY2xlJTIyJTJDJTBBJTIwJTIwJTIwJTIwcHVibGlzaGVyJTNEJTIyQ0VVUiUyMFB1YmxpY2F0aW9ucyUyMCUyODE5OTklMjklMjIlMkMlMEElMjAlMjAlMjAlMjBJRCUzRCUyMmZlcm5hbmRlejE5OTlvdmVydmlldyUyMiUyQyUwQSUyMCUyMCUyMCUyMHNjaG9sYXIyMDE2JTNEJTIyMSUyMiUyQyUwQSUyMCUyMCUyMCUyMHBsYWNleCUzRCUyMiUyMiUyQyUwQSUyOSUyOSUwQSUyNyUyNyUyNyUyOSUzQg==\")));\n",
       "    "
      ],
      "text/plain": [
       "<IPython.core.display.Javascript object>"
      ]
     },
     "metadata": {},
     "output_type": "display_data"
    },
    {
     "data": {
      "application/javascript": [
       "$('span:contains(\"# Temp\")').closest('.cell').remove();"
      ],
      "text/plain": [
       "<IPython.core.display.Javascript object>"
      ]
     },
     "metadata": {},
     "output_type": "display_data"
    },
    {
     "data": {
      "application/javascript": [
       "\n",
       "        $('span:contains(\"# Temp\")').closest('.cell').remove();\n",
       "        var code = IPython.notebook.insert_cell_below('code');\n",
       "        var prompt = code.element.find(\".input_prompt\");\n",
       "        prompt.append('<br><button style=\"height: 100%; width: 54px;\">Run</button>');\n",
       "        prompt.on(\"click\", \"button\", function(){\n",
       "            code.execute();\n",
       "        });\n",
       "        code.set_text(decodeURIComponent(window.atob(\"JTIzJTIwVGVtcCUwQWluc2VydCUyOCUyNyUyNyUyNyUwQXBpbnRvMjAwNGElMjAlM0QlMjBEQiUyOFdvcmtVbnJlbGF0ZWQlMjglMEElMjAlMjAlMjAlMjAyMDA0JTJDJTIwJTIyT250b2xvZ2llcyUzQSUyMEhvdyUyMGNhbiUyMHRoZXklMjBiZSUyMGJ1aWx0JTNGJTIyJTJDJTBBJTIwJTIwJTIwJTIwZGlzcGxheSUzRCUyMnBpbnRvJTIyJTJDJTBBJTIwJTIwJTIwJTIwYXV0aG9ycyUzRCUyMlBpbnRvJTJDJTIwSGVsZW5hJTIwU29maWElMjBhbmQlMjBNYXJ0aW5zJTJDJTIwSm8lQzMlQTNvJTIwUCUyMiUyQyUwQSUyMCUyMCUyMCUyMHBsYWNlJTNERkFLRSUyQyUwQSUyMCUyMCUyMCUyMHBwJTNEJTIyNDQxLS00NjQlMjIlMkMlMEElMjAlMjAlMjAlMjBlbnRyeXR5cGUlM0QlMjJhcnRpY2xlJTIyJTJDJTBBJTIwJTIwJTIwJTIwdm9sdW1lJTNEJTIyNiUyMiUyQyUwQSUyMCUyMCUyMCUyMG51bWJlciUzRCUyMjQlMjIlMkMlMEElMjAlMjAlMjAlMjBwdWJsaXNoZXIlM0QlMjJTcHJpbmdlciUyMiUyQyUwQSUyMCUyMCUyMCUyMElEJTNEJTIycGludG8yMDA0b250b2xvZ2llcyUyMiUyQyUwQSUyMCUyMCUyMCUyMHNjaG9sYXIyMDE2JTNEJTIyMSUyMiUyQyUwQSUyMCUyMCUyMCUyMHBsYWNleCUzRCUyMktub3dsZWRnZSUyMGFuZCUyMGluZm9ybWF0aW9uJTIwc3lzdGVtcyUyMiUyQyUwQSUyOSUyOSUwQSUyNyUyNyUyNyUyOSUzQg==\")));\n",
       "    "
      ],
      "text/plain": [
       "<IPython.core.display.Javascript object>"
      ]
     },
     "metadata": {},
     "output_type": "display_data"
    },
    {
     "data": {
      "application/javascript": [
       "$('span:contains(\"# Temp\")').closest('.cell').remove();"
      ],
      "text/plain": [
       "<IPython.core.display.Javascript object>"
      ]
     },
     "metadata": {},
     "output_type": "display_data"
    },
    {
     "data": {
      "application/javascript": [
       "\n",
       "        $('span:contains(\"# Temp\")').closest('.cell').remove();\n",
       "        var code = IPython.notebook.insert_cell_below('code');\n",
       "        var prompt = code.element.find(\".input_prompt\");\n",
       "        prompt.append('<br><button style=\"height: 100%; width: 54px;\">Run</button>');\n",
       "        prompt.on(\"click\", \"button\", function(){\n",
       "            code.execute();\n",
       "        });\n",
       "        code.set_text(decodeURIComponent(window.atob(\"JTIzJTIwVGVtcCUwQWluc2VydCUyOCUyNyUyNyUyNyUwQXBpbnRvMjAwNGElMjAlM0QlMjBEQiUyOFdvcmtVbnJlbGF0ZWQlMjglMEElMjAlMjAlMjAlMjAyMDA0JTJDJTIwJTIyT250b2xvZ2llcyUzQSUyMEhvdyUyMGNhbiUyMHRoZXklMjBiZSUyMGJ1aWx0JTNGJTIyJTJDJTBBJTIwJTIwJTIwJTIwZGlzcGxheSUzRCUyMnBpbnRvJTIyJTJDJTBBJTIwJTIwJTIwJTIwYXV0aG9ycyUzRCUyMlBpbnRvJTJDJTIwSGVsZW5hJTIwU29maWElMjBhbmQlMjBNYXJ0aW5zJTJDJTIwSm8lQzMlQTNvJTIwUCUyMiUyQyUwQSUyMCUyMCUyMCUyMHBsYWNlJTNERkFLRSUyQyUwQSUyMCUyMCUyMCUyMHBwJTNEJTIyNDQxLS00NjQlMjIlMkMlMEElMjAlMjAlMjAlMjBlbnRyeXR5cGUlM0QlMjJhcnRpY2xlJTIyJTJDJTBBJTIwJTIwJTIwJTIwdm9sdW1lJTNEJTIyNiUyMiUyQyUwQSUyMCUyMCUyMCUyMG51bWJlciUzRCUyMjQlMjIlMkMlMEElMjAlMjAlMjAlMjBwdWJsaXNoZXIlM0QlMjJTcHJpbmdlciUyMiUyQyUwQSUyMCUyMCUyMCUyMElEJTNEJTIycGludG8yMDA0b250b2xvZ2llcyUyMiUyQyUwQSUyMCUyMCUyMCUyMHNjaG9sYXIyMDE2JTNEJTIyMSUyMiUyQyUwQSUyMCUyMCUyMCUyMHBsYWNleCUzRCUyMktub3dsZWRnZSUyMGFuZCUyMGluZm9ybWF0aW9uJTIwc3lzdGVtcyUyMiUyQyUwQSUyOSUyOSUwQSUyNyUyNyUyNyUyOSUzQg==\")));\n",
       "    "
      ],
      "text/plain": [
       "<IPython.core.display.Javascript object>"
      ]
     },
     "metadata": {},
     "output_type": "display_data"
    },
    {
     "data": {
      "application/javascript": [
       "$('span:contains(\"# Temp\")').closest('.cell').remove();"
      ],
      "text/plain": [
       "<IPython.core.display.Javascript object>"
      ]
     },
     "metadata": {},
     "output_type": "display_data"
    },
    {
     "data": {
      "application/javascript": [
       "\n",
       "        $('span:contains(\"# Temp\")').closest('.cell').remove();\n",
       "        var code = IPython.notebook.insert_cell_below('code');\n",
       "        var prompt = code.element.find(\".input_prompt\");\n",
       "        prompt.append('<br><button style=\"height: 100%; width: 54px;\">Run</button>');\n",
       "        prompt.on(\"click\", \"button\", function(){\n",
       "            code.execute();\n",
       "        });\n",
       "        code.set_text(decodeURIComponent(window.atob(\"JTIzJTIwVGVtcCUwQWluc2VydCUyOCUyNyUyNyUyNyUwQWJpb2xjaGluaTIwMDdhJTIwJTNEJTIwREIlMjhXb3JrVW5yZWxhdGVkJTI4JTBBJTIwJTIwJTIwJTIwMjAwNyUyQyUyMCUyMlNjaWVudGlmaWMlMjByZXNlYXJjaCUyMG9udG9sb2d5JTIwdG8lMjBzdXBwb3J0JTIwc3lzdGVtYXRpYyUyMHJldmlldyUyMGluJTIwc29mdHdhcmUlMjBlbmdpbmVlcmluZyUyMiUyQyUwQSUyMCUyMCUyMCUyMGRpc3BsYXklM0QlMjJiaW9sY2hpbmklMjIlMkMlMEElMjAlMjAlMjAlMjBhdXRob3JzJTNEJTIyZGUlMjBBbG1laWRhJTIwQmlvbGNoaW5pJTJDJTIwSm9yZ2UlMjBDYWxtb24lMjBhbmQlMjBNaWFuJTJDJTIwUGF1bGElMjBHb21lcyUyMGFuZCUyME5hdGFsaSUyQyUyMEFuYSUyMENhbmRpZGElMjBDcnV6JTIwYW5kJTIwQ29udGUlMkMlMjBUYXlhbmElMjBVY2glQzMlQjRhJTIwYW5kJTIwVHJhdmFzc29zJTJDJTIwR3VpbGhlcm1lJTIwSG9ydGElMjIlMkMlMEElMjAlMjAlMjAlMjBwbGFjZSUzREZBS0UlMkMlMEElMjAlMjAlMjAlMjBwcCUzRCUyMjEzMy0tMTUxJTIyJTJDJTBBJTIwJTIwJTIwJTIwZW50cnl0eXBlJTNEJTIyYXJ0aWNsZSUyMiUyQyUwQSUyMCUyMCUyMCUyMHZvbHVtZSUzRCUyMjIxJTIyJTJDJTBBJTIwJTIwJTIwJTIwbnVtYmVyJTNEJTIyMiUyMiUyQyUwQSUyMCUyMCUyMCUyMHB1Ymxpc2hlciUzRCUyMkVsc2V2aWVyJTIyJTJDJTBBJTIwJTIwJTIwJTIwSUQlM0QlMjJkZTIwMDdzY2llbnRpZmljJTIyJTJDJTBBJTIwJTIwJTIwJTIwc2Nob2xhcjIwMTYlM0QlMjIxJTIyJTJDJTBBJTIwJTIwJTIwJTIwcGxhY2V4JTNEJTIyQWR2YW5jZWQlMjBFbmdpbmVlcmluZyUyMEluZm9ybWF0aWNzJTIyJTJDJTBBJTI5JTI5JTBBJTI3JTI3JTI3JTI5JTNC\")));\n",
       "    "
      ],
      "text/plain": [
       "<IPython.core.display.Javascript object>"
      ]
     },
     "metadata": {},
     "output_type": "display_data"
    },
    {
     "data": {
      "application/javascript": [
       "$('span:contains(\"# Temp\")').closest('.cell').remove();"
      ],
      "text/plain": [
       "<IPython.core.display.Javascript object>"
      ]
     },
     "metadata": {},
     "output_type": "display_data"
    },
    {
     "data": {
      "application/javascript": [
       "\n",
       "        $('span:contains(\"# Temp\")').closest('.cell').remove();\n",
       "        var code = IPython.notebook.insert_cell_below('code');\n",
       "        var prompt = code.element.find(\".input_prompt\");\n",
       "        prompt.append('<br><button style=\"height: 100%; width: 54px;\">Run</button>');\n",
       "        prompt.on(\"click\", \"button\", function(){\n",
       "            code.execute();\n",
       "        });\n",
       "        code.set_text(decodeURIComponent(window.atob(\"JTIzJTIwVGVtcCUwQWluc2VydCUyOCUyNyUyNyUyNyUwQWJpb2xjaGluaTIwMDdhJTIwJTNEJTIwREIlMjhXb3JrVW5yZWxhdGVkJTI4JTBBJTIwJTIwJTIwJTIwMjAwNyUyQyUyMCUyMlNjaWVudGlmaWMlMjByZXNlYXJjaCUyMG9udG9sb2d5JTIwdG8lMjBzdXBwb3J0JTIwc3lzdGVtYXRpYyUyMHJldmlldyUyMGluJTIwc29mdHdhcmUlMjBlbmdpbmVlcmluZyUyMiUyQyUwQSUyMCUyMCUyMCUyMGRpc3BsYXklM0QlMjJiaW9sY2hpbmklMjIlMkMlMEElMjAlMjAlMjAlMjBhdXRob3JzJTNEJTIyZGUlMjBBbG1laWRhJTIwQmlvbGNoaW5pJTJDJTIwSm9yZ2UlMjBDYWxtb24lMjBhbmQlMjBNaWFuJTJDJTIwUGF1bGElMjBHb21lcyUyMGFuZCUyME5hdGFsaSUyQyUyMEFuYSUyMENhbmRpZGElMjBDcnV6JTIwYW5kJTIwQ29udGUlMkMlMjBUYXlhbmElMjBVY2glQzMlQjRhJTIwYW5kJTIwVHJhdmFzc29zJTJDJTIwR3VpbGhlcm1lJTIwSG9ydGElMjIlMkMlMEElMjAlMjAlMjAlMjBwbGFjZSUzREZBS0UlMkMlMEElMjAlMjAlMjAlMjBwcCUzRCUyMjEzMy0tMTUxJTIyJTJDJTBBJTIwJTIwJTIwJTIwZW50cnl0eXBlJTNEJTIyYXJ0aWNsZSUyMiUyQyUwQSUyMCUyMCUyMCUyMHZvbHVtZSUzRCUyMjIxJTIyJTJDJTBBJTIwJTIwJTIwJTIwbnVtYmVyJTNEJTIyMiUyMiUyQyUwQSUyMCUyMCUyMCUyMHB1Ymxpc2hlciUzRCUyMkVsc2V2aWVyJTIyJTJDJTBBJTIwJTIwJTIwJTIwSUQlM0QlMjJkZTIwMDdzY2llbnRpZmljJTIyJTJDJTBBJTIwJTIwJTIwJTIwc2Nob2xhcjIwMTYlM0QlMjIxJTIyJTJDJTBBJTIwJTIwJTIwJTIwcGxhY2V4JTNEJTIyQWR2YW5jZWQlMjBFbmdpbmVlcmluZyUyMEluZm9ybWF0aWNzJTIyJTJDJTBBJTI5JTI5JTBBJTI3JTI3JTI3JTI5JTNC\")));\n",
       "    "
      ],
      "text/plain": [
       "<IPython.core.display.Javascript object>"
      ]
     },
     "metadata": {},
     "output_type": "display_data"
    },
    {
     "data": {
      "application/javascript": [
       "$('span:contains(\"# Temp\")').closest('.cell').remove();"
      ],
      "text/plain": [
       "<IPython.core.display.Javascript object>"
      ]
     },
     "metadata": {},
     "output_type": "display_data"
    },
    {
     "data": {
      "application/javascript": [
       "\n",
       "        $('span:contains(\"# Temp\")').closest('.cell').remove();\n",
       "        var code = IPython.notebook.insert_cell_below('code');\n",
       "        var prompt = code.element.find(\".input_prompt\");\n",
       "        prompt.append('<br><button style=\"height: 100%; width: 54px;\">Run</button>');\n",
       "        prompt.on(\"click\", \"button\", function(){\n",
       "            code.execute();\n",
       "        });\n",
       "        code.set_text(decodeURIComponent(window.atob(\"JTIzJTIwVGVtcCUwQWluc2VydCUyOCUyNyUyNyUyNyUwQWclQzMlQjNtZXoxOTk1YSUyMCUzRCUyMERCJTI4V29ya1VucmVsYXRlZCUyOCUwQSUyMCUyMCUyMCUyMDE5OTUlMkMlMjAlMjJFdmFsdWF0aW9uJTIwYW5kJTIwYXNzZXNzbWVudCUyMG9mJTIwa25vd2xlZGdlJTIwc2hhcmluZyUyMHRlY2hub2xvZ3klMjIlMkMlMEElMjAlMjAlMjAlMjBkaXNwbGF5JTNEJTIyZyVDMyVCM21leiUyMiUyQyUwQSUyMCUyMCUyMCUyMGF1dGhvcnMlM0QlMjJHJUMzJUIzbWV6LVAlQzMlQTlyZXolMkMlMjBBc3VuY2klQzMlQjNuJTIwYW5kJTIwSnVyaXN0byUyQyUyME5hdGFsaWElMjBhbmQlMjBQYXpvcyUyQyUyMEp1YW4lMjIlMkMlMEElMjAlMjAlMjAlMjBwbGFjZSUzREZBS0UlMkMlMEElMjAlMjAlMjAlMjBwcCUzRCUyMjI4OS0tMjk2JTIyJTJDJTBBJTIwJTIwJTIwJTIwZW50cnl0eXBlJTNEJTIyYXJ0aWNsZSUyMiUyQyUwQSUyMCUyMCUyMCUyMElEJTNEJTIyZ29tZXoxOTk1ZXZhbHVhdGlvbiUyMiUyQyUwQSUyMCUyMCUyMCUyMHNjaG9sYXIyMDE2JTNEJTIyMSUyMiUyQyUwQSUyMCUyMCUyMCUyMHBsYWNleCUzRCUyMlRvd2FyZHMlMjB2ZXJ5JTIwbGFyZ2UlMjBrbm93bGVkZ2UlMjBiYXNlcyUyMiUyQyUwQSUyOSUyOSUwQSUyNyUyNyUyNyUyOSUzQg==\")));\n",
       "    "
      ],
      "text/plain": [
       "<IPython.core.display.Javascript object>"
      ]
     },
     "metadata": {},
     "output_type": "display_data"
    },
    {
     "data": {
      "application/javascript": [
       "$('span:contains(\"# Temp\")').closest('.cell').remove();"
      ],
      "text/plain": [
       "<IPython.core.display.Javascript object>"
      ]
     },
     "metadata": {},
     "output_type": "display_data"
    },
    {
     "data": {
      "application/javascript": [
       "\n",
       "        $('span:contains(\"# Temp\")').closest('.cell').remove();\n",
       "        var code = IPython.notebook.insert_cell_below('code');\n",
       "        var prompt = code.element.find(\".input_prompt\");\n",
       "        prompt.append('<br><button style=\"height: 100%; width: 54px;\">Run</button>');\n",
       "        prompt.on(\"click\", \"button\", function(){\n",
       "            code.execute();\n",
       "        });\n",
       "        code.set_text(decodeURIComponent(window.atob(\"JTIzJTIwVGVtcCUwQWluc2VydCUyOCUyNyUyNyUyNyUwQWclQzMlQjNtZXoxOTk1YSUyMCUzRCUyMERCJTI4V29ya1VucmVsYXRlZCUyOCUwQSUyMCUyMCUyMCUyMDE5OTUlMkMlMjAlMjJFdmFsdWF0aW9uJTIwYW5kJTIwYXNzZXNzbWVudCUyMG9mJTIwa25vd2xlZGdlJTIwc2hhcmluZyUyMHRlY2hub2xvZ3klMjIlMkMlMEElMjAlMjAlMjAlMjBkaXNwbGF5JTNEJTIyZyVDMyVCM21leiUyMiUyQyUwQSUyMCUyMCUyMCUyMGF1dGhvcnMlM0QlMjJHJUMzJUIzbWV6LVAlQzMlQTlyZXolMkMlMjBBc3VuY2klQzMlQjNuJTIwYW5kJTIwSnVyaXN0byUyQyUyME5hdGFsaWElMjBhbmQlMjBQYXpvcyUyQyUyMEp1YW4lMjIlMkMlMEElMjAlMjAlMjAlMjBwbGFjZSUzREZBS0UlMkMlMEElMjAlMjAlMjAlMjBwcCUzRCUyMjI4OS0tMjk2JTIyJTJDJTBBJTIwJTIwJTIwJTIwZW50cnl0eXBlJTNEJTIyYXJ0aWNsZSUyMiUyQyUwQSUyMCUyMCUyMCUyMElEJTNEJTIyZ29tZXoxOTk1ZXZhbHVhdGlvbiUyMiUyQyUwQSUyMCUyMCUyMCUyMHNjaG9sYXIyMDE2JTNEJTIyMSUyMiUyQyUwQSUyMCUyMCUyMCUyMHBsYWNleCUzRCUyMlRvd2FyZHMlMjB2ZXJ5JTIwbGFyZ2UlMjBrbm93bGVkZ2UlMjBiYXNlcyUyMiUyQyUwQSUyOSUyOSUwQSUyNyUyNyUyNyUyOSUzQg==\")));\n",
       "    "
      ],
      "text/plain": [
       "<IPython.core.display.Javascript object>"
      ]
     },
     "metadata": {},
     "output_type": "display_data"
    },
    {
     "data": {
      "application/javascript": [
       "$('span:contains(\"# Temp\")').closest('.cell').remove();"
      ],
      "text/plain": [
       "<IPython.core.display.Javascript object>"
      ]
     },
     "metadata": {},
     "output_type": "display_data"
    },
    {
     "data": {
      "application/javascript": [
       "\n",
       "        $('span:contains(\"# Temp\")').closest('.cell').remove();\n",
       "        var code = IPython.notebook.insert_cell_below('code');\n",
       "        var prompt = code.element.find(\".input_prompt\");\n",
       "        prompt.append('<br><button style=\"height: 100%; width: 54px;\">Run</button>');\n",
       "        prompt.on(\"click\", \"button\", function(){\n",
       "            code.execute();\n",
       "        });\n",
       "        code.set_text(decodeURIComponent(window.atob(\"JTIzJTIwVGVtcCUwQWluc2VydCUyOCUyNyUyNyUyNyUyNyUyNyUyNyUyOSUzQiUwQXNldF9hdHRyaWJ1dGUlMjglMjd6aGFvMjAwOWElMjclMkMlMjAlMjdzY2hvbGFyMjAxNiUyNyUyQyUyMCUyNzElMjclMjklM0I=\")));\n",
       "    "
      ],
      "text/plain": [
       "<IPython.core.display.Javascript object>"
      ]
     },
     "metadata": {},
     "output_type": "display_data"
    },
    {
     "data": {
      "application/javascript": [
       "$('span:contains(\"# Temp\")').closest('.cell').remove();"
      ],
      "text/plain": [
       "<IPython.core.display.Javascript object>"
      ]
     },
     "metadata": {},
     "output_type": "display_data"
    },
    {
     "data": {
      "application/javascript": [
       "\n",
       "        $('span:contains(\"# Temp\")').closest('.cell').remove();\n",
       "        var code = IPython.notebook.insert_cell_below('code');\n",
       "        var prompt = code.element.find(\".input_prompt\");\n",
       "        prompt.append('<br><button style=\"height: 100%; width: 54px;\">Run</button>');\n",
       "        prompt.on(\"click\", \"button\", function(){\n",
       "            code.execute();\n",
       "        });\n",
       "        code.set_text(decodeURIComponent(window.atob(\"JTIzJTIwVGVtcCUwQWluc2VydCUyOCUyNyUyNyUyNyUyNyUyNyUyNyUyOSUzQiUwQXNldF9hdHRyaWJ1dGUlMjglMjd6aGFvMjAwOWElMjclMkMlMjAlMjdzY2hvbGFyMjAxNiUyNyUyQyUyMCUyNzElMjclMjklM0I=\")));\n",
       "    "
      ],
      "text/plain": [
       "<IPython.core.display.Javascript object>"
      ]
     },
     "metadata": {},
     "output_type": "display_data"
    },
    {
     "data": {
      "application/javascript": [
       "$('span:contains(\"# Temp\")').closest('.cell').remove();"
      ],
      "text/plain": [
       "<IPython.core.display.Javascript object>"
      ]
     },
     "metadata": {},
     "output_type": "display_data"
    },
    {
     "data": {
      "application/javascript": [
       "\n",
       "        $('span:contains(\"# Temp\")').closest('.cell').remove();\n",
       "        var code = IPython.notebook.insert_cell_below('code');\n",
       "        var prompt = code.element.find(\".input_prompt\");\n",
       "        prompt.append('<br><button style=\"height: 100%; width: 54px;\">Run</button>');\n",
       "        prompt.on(\"click\", \"button\", function(){\n",
       "            code.execute();\n",
       "        });\n",
       "        code.set_text(decodeURIComponent(window.atob(\"JTIzJTIwVGVtcCUwQWluc2VydCUyOCUyNyUyNyUyNyUyNyUyNyUyNyUyOSUzQiUwQXNldF9hdHRyaWJ1dGUlMjglMjdsZWUyMDA5YSUyNyUyQyUyMCUyN3NjaG9sYXIyMDE2JTI3JTJDJTIwJTI3MSUyNyUyOSUzQg==\")));\n",
       "    "
      ],
      "text/plain": [
       "<IPython.core.display.Javascript object>"
      ]
     },
     "metadata": {},
     "output_type": "display_data"
    },
    {
     "data": {
      "application/javascript": [
       "$('span:contains(\"# Temp\")').closest('.cell').remove();"
      ],
      "text/plain": [
       "<IPython.core.display.Javascript object>"
      ]
     },
     "metadata": {},
     "output_type": "display_data"
    },
    {
     "data": {
      "application/javascript": [
       "\n",
       "        $('span:contains(\"# Temp\")').closest('.cell').remove();\n",
       "        var code = IPython.notebook.insert_cell_below('code');\n",
       "        var prompt = code.element.find(\".input_prompt\");\n",
       "        prompt.append('<br><button style=\"height: 100%; width: 54px;\">Run</button>');\n",
       "        prompt.on(\"click\", \"button\", function(){\n",
       "            code.execute();\n",
       "        });\n",
       "        code.set_text(decodeURIComponent(window.atob(\"JTIzJTIwVGVtcCUwQWluc2VydCUyOCUyNyUyNyUyNyUyNyUyNyUyNyUyOSUzQiUwQXNldF9hdHRyaWJ1dGUlMjglMjdsZWUyMDA5YSUyNyUyQyUyMCUyN3NjaG9sYXIyMDE2JTI3JTJDJTIwJTI3MSUyNyUyOSUzQg==\")));\n",
       "    "
      ],
      "text/plain": [
       "<IPython.core.display.Javascript object>"
      ]
     },
     "metadata": {},
     "output_type": "display_data"
    },
    {
     "data": {
      "application/javascript": [
       "$('span:contains(\"# Temp\")').closest('.cell').remove();"
      ],
      "text/plain": [
       "<IPython.core.display.Javascript object>"
      ]
     },
     "metadata": {},
     "output_type": "display_data"
    },
    {
     "data": {
      "application/javascript": [
       "\n",
       "        $('span:contains(\"# Temp\")').closest('.cell').remove();\n",
       "        var code = IPython.notebook.insert_cell_below('code');\n",
       "        var prompt = code.element.find(\".input_prompt\");\n",
       "        prompt.append('<br><button style=\"height: 100%; width: 54px;\">Run</button>');\n",
       "        prompt.on(\"click\", \"button\", function(){\n",
       "            code.execute();\n",
       "        });\n",
       "        code.set_text(decodeURIComponent(window.atob(\"JTIzJTIwVGVtcCUwQWluc2VydCUyOCUyNyUyNyUyNyUwQXNpYTIwMDdhJTIwJTNEJTIwREIlMjhXb3JrVW5yZWxhdGVkJTI4JTBBJTIwJTIwJTIwJTIwMjAwNyUyQyUyMCUyMkFuJTIwYXNzZXNzbWVudCUyMG9mJTIwcGFja2FnZS0tb3JnYW5pc2F0aW9uJTIwbWlzYWxpZ25tZW50JTNBJTIwaW5zdGl0dXRpb25hbCUyMGFuZCUyMG9udG9sb2dpY2FsJTIwc3RydWN0dXJlcyUyMiUyQyUwQSUyMCUyMCUyMCUyMGRpc3BsYXklM0QlMjJzaWElMjIlMkMlMEElMjAlMjAlMjAlMjBhdXRob3JzJTNEJTIyU2lhJTJDJTIwU2lldyUyMEtpZW4lMjBhbmQlMjBTb2glMkMlMjBDaHJpc3RpbmElMjIlMkMlMEElMjAlMjAlMjAlMjBwbGFjZSUzREZBS0UlMkMlMEElMjAlMjAlMjAlMjBwcCUzRCUyMjU2OC0tNTgzJTIyJTJDJTBBJTIwJTIwJTIwJTIwZW50cnl0eXBlJTNEJTIyYXJ0aWNsZSUyMiUyQyUwQSUyMCUyMCUyMCUyMHZvbHVtZSUzRCUyMjE2JTIyJTJDJTBBJTIwJTIwJTIwJTIwbnVtYmVyJTNEJTIyNSUyMiUyQyUwQSUyMCUyMCUyMCUyMHB1Ymxpc2hlciUzRCUyMlRheWxvciUyMCUyNiUyMEZyYW5jaXMlMjIlMkMlMEElMjAlMjAlMjAlMjBJRCUzRCUyMnNpYTIwMDdhc3Nlc3NtZW50JTIyJTJDJTBBJTIwJTIwJTIwJTIwc2Nob2xhcjIwMTYlM0QlMjIxJTIyJTJDJTBBJTIwJTIwJTIwJTIwcGxhY2V4JTNEJTIyRXVyb3BlYW4lMjBKb3VybmFsJTIwb2YlMjBJbmZvcm1hdGlvbiUyMFN5c3RlbXMlMjIlMkMlMEElMjklMjklMEElMjclMjclMjclMjklM0I=\")));\n",
       "    "
      ],
      "text/plain": [
       "<IPython.core.display.Javascript object>"
      ]
     },
     "metadata": {},
     "output_type": "display_data"
    },
    {
     "data": {
      "application/javascript": [
       "$('span:contains(\"# Temp\")').closest('.cell').remove();"
      ],
      "text/plain": [
       "<IPython.core.display.Javascript object>"
      ]
     },
     "metadata": {},
     "output_type": "display_data"
    },
    {
     "data": {
      "application/javascript": [
       "\n",
       "        $('span:contains(\"# Temp\")').closest('.cell').remove();\n",
       "        var code = IPython.notebook.insert_cell_below('code');\n",
       "        var prompt = code.element.find(\".input_prompt\");\n",
       "        prompt.append('<br><button style=\"height: 100%; width: 54px;\">Run</button>');\n",
       "        prompt.on(\"click\", \"button\", function(){\n",
       "            code.execute();\n",
       "        });\n",
       "        code.set_text(decodeURIComponent(window.atob(\"JTIzJTIwVGVtcCUwQWluc2VydCUyOCUyNyUyNyUyNyUwQXNpYTIwMDdhJTIwJTNEJTIwREIlMjhXb3JrVW5yZWxhdGVkJTI4JTBBJTIwJTIwJTIwJTIwMjAwNyUyQyUyMCUyMkFuJTIwYXNzZXNzbWVudCUyMG9mJTIwcGFja2FnZS0tb3JnYW5pc2F0aW9uJTIwbWlzYWxpZ25tZW50JTNBJTIwaW5zdGl0dXRpb25hbCUyMGFuZCUyMG9udG9sb2dpY2FsJTIwc3RydWN0dXJlcyUyMiUyQyUwQSUyMCUyMCUyMCUyMGRpc3BsYXklM0QlMjJzaWElMjIlMkMlMEElMjAlMjAlMjAlMjBhdXRob3JzJTNEJTIyU2lhJTJDJTIwU2lldyUyMEtpZW4lMjBhbmQlMjBTb2glMkMlMjBDaHJpc3RpbmElMjIlMkMlMEElMjAlMjAlMjAlMjBwbGFjZSUzREZBS0UlMkMlMEElMjAlMjAlMjAlMjBwcCUzRCUyMjU2OC0tNTgzJTIyJTJDJTBBJTIwJTIwJTIwJTIwZW50cnl0eXBlJTNEJTIyYXJ0aWNsZSUyMiUyQyUwQSUyMCUyMCUyMCUyMHZvbHVtZSUzRCUyMjE2JTIyJTJDJTBBJTIwJTIwJTIwJTIwbnVtYmVyJTNEJTIyNSUyMiUyQyUwQSUyMCUyMCUyMCUyMHB1Ymxpc2hlciUzRCUyMlRheWxvciUyMCUyNiUyMEZyYW5jaXMlMjIlMkMlMEElMjAlMjAlMjAlMjBJRCUzRCUyMnNpYTIwMDdhc3Nlc3NtZW50JTIyJTJDJTBBJTIwJTIwJTIwJTIwc2Nob2xhcjIwMTYlM0QlMjIxJTIyJTJDJTBBJTIwJTIwJTIwJTIwcGxhY2V4JTNEJTIyRXVyb3BlYW4lMjBKb3VybmFsJTIwb2YlMjBJbmZvcm1hdGlvbiUyMFN5c3RlbXMlMjIlMkMlMEElMjklMjklMEElMjclMjclMjclMjklM0I=\")));\n",
       "    "
      ],
      "text/plain": [
       "<IPython.core.display.Javascript object>"
      ]
     },
     "metadata": {},
     "output_type": "display_data"
    },
    {
     "data": {
      "application/javascript": [
       "$('span:contains(\"# Temp\")').closest('.cell').remove();"
      ],
      "text/plain": [
       "<IPython.core.display.Javascript object>"
      ]
     },
     "metadata": {},
     "output_type": "display_data"
    },
    {
     "data": {
      "application/javascript": [
       "\n",
       "        $('span:contains(\"# Temp\")').closest('.cell').remove();\n",
       "        var code = IPython.notebook.insert_cell_below('code');\n",
       "        var prompt = code.element.find(\".input_prompt\");\n",
       "        prompt.append('<br><button style=\"height: 100%; width: 54px;\">Run</button>');\n",
       "        prompt.on(\"click\", \"button\", function(){\n",
       "            code.execute();\n",
       "        });\n",
       "        code.set_text(decodeURIComponent(window.atob(\"JTIzJTIwVGVtcCUwQWluc2VydCUyOCUyNyUyNyUyNyUwQWJ1cnRvbjIwMDVhJTIwJTNEJTIwREIlMjhXb3JrVW5yZWxhdGVkJTI4JTBBJTIwJTIwJTIwJTIwMjAwNSUyQyUyMCUyMkElMjBzZW1pb3RpYyUyMG1ldHJpY3MlMjBzdWl0ZSUyMGZvciUyMGFzc2Vzc2luZyUyMHRoZSUyMHF1YWxpdHklMjBvZiUyMG9udG9sb2dpZXMlMjIlMkMlMEElMjAlMjAlMjAlMjBkaXNwbGF5JTNEJTIyYnVydG9uJTIyJTJDJTBBJTIwJTIwJTIwJTIwYXV0aG9ycyUzRCUyMkJ1cnRvbi1Kb25lcyUyQyUyMEFuZHJldyUyMGFuZCUyMFN0b3JleSUyQyUyMFZlZGElMjBDJTIwYW5kJTIwU3VndW1hcmFuJTJDJTIwVmlqYXlhbiUyMGFuZCUyMEFobHV3YWxpYSUyQyUyMFB1bml0JTIyJTJDJTBBJTIwJTIwJTIwJTIwcGxhY2UlM0RGQUtFJTJDJTBBJTIwJTIwJTIwJTIwcHAlM0QlMjI4NC0tMTAyJTIyJTJDJTBBJTIwJTIwJTIwJTIwZW50cnl0eXBlJTNEJTIyYXJ0aWNsZSUyMiUyQyUwQSUyMCUyMCUyMCUyMHZvbHVtZSUzRCUyMjU1JTIyJTJDJTBBJTIwJTIwJTIwJTIwbnVtYmVyJTNEJTIyMSUyMiUyQyUwQSUyMCUyMCUyMCUyMHB1Ymxpc2hlciUzRCUyMkVsc2V2aWVyJTIyJTJDJTBBJTIwJTIwJTIwJTIwSUQlM0QlMjJidXJ0b24yMDA1c2VtaW90aWMlMjIlMkMlMEElMjAlMjAlMjAlMjBzY2hvbGFyMjAxNiUzRCUyMjElMjIlMkMlMEElMjAlMjAlMjAlMjBwbGFjZXglM0QlMjJEYXRhJTIwJTI2JTIwS25vd2xlZGdlJTIwRW5naW5lZXJpbmclMjIlMkMlMEElMjklMjklMEElMjclMjclMjclMjklM0I=\")));\n",
       "    "
      ],
      "text/plain": [
       "<IPython.core.display.Javascript object>"
      ]
     },
     "metadata": {},
     "output_type": "display_data"
    },
    {
     "data": {
      "application/javascript": [
       "$('span:contains(\"# Temp\")').closest('.cell').remove();"
      ],
      "text/plain": [
       "<IPython.core.display.Javascript object>"
      ]
     },
     "metadata": {},
     "output_type": "display_data"
    },
    {
     "data": {
      "application/javascript": [
       "\n",
       "        $('span:contains(\"# Temp\")').closest('.cell').remove();\n",
       "        var code = IPython.notebook.insert_cell_below('code');\n",
       "        var prompt = code.element.find(\".input_prompt\");\n",
       "        prompt.append('<br><button style=\"height: 100%; width: 54px;\">Run</button>');\n",
       "        prompt.on(\"click\", \"button\", function(){\n",
       "            code.execute();\n",
       "        });\n",
       "        code.set_text(decodeURIComponent(window.atob(\"JTIzJTIwVGVtcCUwQWluc2VydCUyOCUyNyUyNyUyNyUwQWJ1cnRvbjIwMDVhJTIwJTNEJTIwREIlMjhXb3JrVW5yZWxhdGVkJTI4JTBBJTIwJTIwJTIwJTIwMjAwNSUyQyUyMCUyMkElMjBzZW1pb3RpYyUyMG1ldHJpY3MlMjBzdWl0ZSUyMGZvciUyMGFzc2Vzc2luZyUyMHRoZSUyMHF1YWxpdHklMjBvZiUyMG9udG9sb2dpZXMlMjIlMkMlMEElMjAlMjAlMjAlMjBkaXNwbGF5JTNEJTIyYnVydG9uJTIyJTJDJTBBJTIwJTIwJTIwJTIwYXV0aG9ycyUzRCUyMkJ1cnRvbi1Kb25lcyUyQyUyMEFuZHJldyUyMGFuZCUyMFN0b3JleSUyQyUyMFZlZGElMjBDJTIwYW5kJTIwU3VndW1hcmFuJTJDJTIwVmlqYXlhbiUyMGFuZCUyMEFobHV3YWxpYSUyQyUyMFB1bml0JTIyJTJDJTBBJTIwJTIwJTIwJTIwcGxhY2UlM0RGQUtFJTJDJTBBJTIwJTIwJTIwJTIwcHAlM0QlMjI4NC0tMTAyJTIyJTJDJTBBJTIwJTIwJTIwJTIwZW50cnl0eXBlJTNEJTIyYXJ0aWNsZSUyMiUyQyUwQSUyMCUyMCUyMCUyMHZvbHVtZSUzRCUyMjU1JTIyJTJDJTBBJTIwJTIwJTIwJTIwbnVtYmVyJTNEJTIyMSUyMiUyQyUwQSUyMCUyMCUyMCUyMHB1Ymxpc2hlciUzRCUyMkVsc2V2aWVyJTIyJTJDJTBBJTIwJTIwJTIwJTIwSUQlM0QlMjJidXJ0b24yMDA1c2VtaW90aWMlMjIlMkMlMEElMjAlMjAlMjAlMjBzY2hvbGFyMjAxNiUzRCUyMjElMjIlMkMlMEElMjAlMjAlMjAlMjBwbGFjZXglM0QlMjJEYXRhJTIwJTI2JTIwS25vd2xlZGdlJTIwRW5naW5lZXJpbmclMjIlMkMlMEElMjklMjklMEElMjclMjclMjclMjklM0I=\")));\n",
       "    "
      ],
      "text/plain": [
       "<IPython.core.display.Javascript object>"
      ]
     },
     "metadata": {},
     "output_type": "display_data"
    },
    {
     "data": {
      "application/javascript": [
       "$('span:contains(\"# Temp\")').closest('.cell').remove();"
      ],
      "text/plain": [
       "<IPython.core.display.Javascript object>"
      ]
     },
     "metadata": {},
     "output_type": "display_data"
    },
    {
     "data": {
      "application/javascript": [
       "\n",
       "        $('span:contains(\"# Temp\")').closest('.cell').remove();\n",
       "        var code = IPython.notebook.insert_cell_below('code');\n",
       "        var prompt = code.element.find(\".input_prompt\");\n",
       "        prompt.append('<br><button style=\"height: 100%; width: 54px;\">Run</button>');\n",
       "        prompt.on(\"click\", \"button\", function(){\n",
       "            code.execute();\n",
       "        });\n",
       "        code.set_text(decodeURIComponent(window.atob(\"JTIzJTIwVGVtcCUwQWluc2VydCUyOCUyNyUyNyUyNyUwQW5pY29sYTIwMDVhJTIwJTNEJTIwREIlMjhXb3JrVW5yZWxhdGVkJTI4JTBBJTIwJTIwJTIwJTIwMjAwNSUyQyUyMCUyMkElMjBwcm9wb3NhbCUyMGZvciUyMGElMjB1bmlmaWVkJTIwcHJvY2VzcyUyMGZvciUyMG9udG9sb2d5JTIwYnVpbGRpbmclM0ElMjBVUE9OJTIyJTJDJTBBJTIwJTIwJTIwJTIwZGlzcGxheSUzRCUyMm5pY29sYSUyMiUyQyUwQSUyMCUyMCUyMCUyMGF1dGhvcnMlM0QlMjJEZSUyME5pY29sYSUyQyUyMEFudG9uaW8lMjBhbmQlMjBNaXNzaWtvZmYlMkMlMjBNaWNoZWxlJTIwYW5kJTIwTmF2aWdsaSUyQyUyMFJvYmVydG8lMjIlMkMlMEElMjAlMjAlMjAlMjBwbGFjZSUzREZBS0UlMkMlMEElMjAlMjAlMjAlMjBwcCUzRCUyMjY1NS0tNjY0JTIyJTJDJTBBJTIwJTIwJTIwJTIwZW50cnl0eXBlJTNEJTIyaW5wcm9jZWVkaW5ncyUyMiUyQyUwQSUyMCUyMCUyMCUyMG9yZ2FuaXphdGlvbiUzRCUyMlNwcmluZ2VyJTIyJTJDJTBBJTIwJTIwJTIwJTIwSUQlM0QlMjJkZTIwMDVwcm9wb3NhbCUyMiUyQyUwQSUyMCUyMCUyMCUyMHNjaG9sYXIyMDE2JTNEJTIyMSUyMiUyQyUwQSUyMCUyMCUyMCUyMHBsYWNleCUzRCUyMkludGVybmF0aW9uYWwlMjBDb25mZXJlbmNlJTIwb24lMjBEYXRhYmFzZSUyMGFuZCUyMEV4cGVydCUyMFN5c3RlbXMlMjBBcHBsaWNhdGlvbnMlMjIlMkMlMEElMjklMjklMEElMjclMjclMjclMjklM0I=\")));\n",
       "    "
      ],
      "text/plain": [
       "<IPython.core.display.Javascript object>"
      ]
     },
     "metadata": {},
     "output_type": "display_data"
    },
    {
     "data": {
      "application/javascript": [
       "$('span:contains(\"# Temp\")').closest('.cell').remove();"
      ],
      "text/plain": [
       "<IPython.core.display.Javascript object>"
      ]
     },
     "metadata": {},
     "output_type": "display_data"
    },
    {
     "data": {
      "application/javascript": [
       "\n",
       "        $('span:contains(\"# Temp\")').closest('.cell').remove();\n",
       "        var code = IPython.notebook.insert_cell_below('code');\n",
       "        var prompt = code.element.find(\".input_prompt\");\n",
       "        prompt.append('<br><button style=\"height: 100%; width: 54px;\">Run</button>');\n",
       "        prompt.on(\"click\", \"button\", function(){\n",
       "            code.execute();\n",
       "        });\n",
       "        code.set_text(decodeURIComponent(window.atob(\"JTIzJTIwVGVtcCUwQWluc2VydCUyOCUyNyUyNyUyNyUwQW5pY29sYTIwMDVhJTIwJTNEJTIwREIlMjhXb3JrVW5yZWxhdGVkJTI4JTBBJTIwJTIwJTIwJTIwMjAwNSUyQyUyMCUyMkElMjBwcm9wb3NhbCUyMGZvciUyMGElMjB1bmlmaWVkJTIwcHJvY2VzcyUyMGZvciUyMG9udG9sb2d5JTIwYnVpbGRpbmclM0ElMjBVUE9OJTIyJTJDJTBBJTIwJTIwJTIwJTIwZGlzcGxheSUzRCUyMm5pY29sYSUyMiUyQyUwQSUyMCUyMCUyMCUyMGF1dGhvcnMlM0QlMjJEZSUyME5pY29sYSUyQyUyMEFudG9uaW8lMjBhbmQlMjBNaXNzaWtvZmYlMkMlMjBNaWNoZWxlJTIwYW5kJTIwTmF2aWdsaSUyQyUyMFJvYmVydG8lMjIlMkMlMEElMjAlMjAlMjAlMjBwbGFjZSUzREZBS0UlMkMlMEElMjAlMjAlMjAlMjBwcCUzRCUyMjY1NS0tNjY0JTIyJTJDJTBBJTIwJTIwJTIwJTIwZW50cnl0eXBlJTNEJTIyaW5wcm9jZWVkaW5ncyUyMiUyQyUwQSUyMCUyMCUyMCUyMG9yZ2FuaXphdGlvbiUzRCUyMlNwcmluZ2VyJTIyJTJDJTBBJTIwJTIwJTIwJTIwSUQlM0QlMjJkZTIwMDVwcm9wb3NhbCUyMiUyQyUwQSUyMCUyMCUyMCUyMHNjaG9sYXIyMDE2JTNEJTIyMSUyMiUyQyUwQSUyMCUyMCUyMCUyMHBsYWNleCUzRCUyMkludGVybmF0aW9uYWwlMjBDb25mZXJlbmNlJTIwb24lMjBEYXRhYmFzZSUyMGFuZCUyMEV4cGVydCUyMFN5c3RlbXMlMjBBcHBsaWNhdGlvbnMlMjIlMkMlMEElMjklMjklMEElMjclMjclMjclMjklM0I=\")));\n",
       "    "
      ],
      "text/plain": [
       "<IPython.core.display.Javascript object>"
      ]
     },
     "metadata": {},
     "output_type": "display_data"
    },
    {
     "data": {
      "application/javascript": [
       "$('span:contains(\"# Temp\")').closest('.cell').remove();"
      ],
      "text/plain": [
       "<IPython.core.display.Javascript object>"
      ]
     },
     "metadata": {},
     "output_type": "display_data"
    },
    {
     "data": {
      "application/javascript": [
       "\n",
       "        $('span:contains(\"# Temp\")').closest('.cell').remove();\n",
       "        var code = IPython.notebook.insert_cell_below('code');\n",
       "        var prompt = code.element.find(\".input_prompt\");\n",
       "        prompt.append('<br><button style=\"height: 100%; width: 54px;\">Run</button>');\n",
       "        prompt.on(\"click\", \"button\", function(){\n",
       "            code.execute();\n",
       "        });\n",
       "        code.set_text(decodeURIComponent(window.atob(\"JTIzJTIwVGVtcCUwQWluc2VydCUyOCUyNyUyNyUyNyUwQXN1Y2NhcjIwMDlhJTIwJTNEJTIwREIlMjhXb3JrVW5yZWxhdGVkJTI4JTBBJTIwJTIwJTIwJTIwMjAwOSUyQyUyMCUyMkJ1aWxkaW5nJTIwaW5mb3JtYXRpb24lMjBtb2RlbGxpbmclMjBmcmFtZXdvcmslM0ElMjBBJTIwcmVzZWFyY2glMjBhbmQlMjBkZWxpdmVyeSUyMGZvdW5kYXRpb24lMjBmb3IlMjBpbmR1c3RyeSUyMHN0YWtlaG9sZGVycyUyMiUyQyUwQSUyMCUyMCUyMCUyMGRpc3BsYXklM0QlMjJzdWNjYXIlMjIlMkMlMEElMjAlMjAlMjAlMjBhdXRob3JzJTNEJTIyU3VjY2FyJTJDJTIwQmlsYWwlMjIlMkMlMEElMjAlMjAlMjAlMjBwbGFjZSUzREZBS0UlMkMlMEElMjAlMjAlMjAlMjBwcCUzRCUyMjM1Ny0tMzc1JTIyJTJDJTBBJTIwJTIwJTIwJTIwZW50cnl0eXBlJTNEJTIyYXJ0aWNsZSUyMiUyQyUwQSUyMCUyMCUyMCUyMHZvbHVtZSUzRCUyMjE4JTIyJTJDJTBBJTIwJTIwJTIwJTIwbnVtYmVyJTNEJTIyMyUyMiUyQyUwQSUyMCUyMCUyMCUyMHB1Ymxpc2hlciUzRCUyMkVsc2V2aWVyJTIyJTJDJTBBJTIwJTIwJTIwJTIwSUQlM0QlMjJzdWNjYXIyMDA5YnVpbGRpbmclMjIlMkMlMEElMjAlMjAlMjAlMjBzY2hvbGFyMjAxNiUzRCUyMjElMjIlMkMlMEElMjAlMjAlMjAlMjBwbGFjZXglM0QlMjJBdXRvbWF0aW9uJTIwaW4lMjBjb25zdHJ1Y3Rpb24lMjIlMkMlMEElMjklMjklMEElMjclMjclMjclMjklM0I=\")));\n",
       "    "
      ],
      "text/plain": [
       "<IPython.core.display.Javascript object>"
      ]
     },
     "metadata": {},
     "output_type": "display_data"
    },
    {
     "data": {
      "application/javascript": [
       "$('span:contains(\"# Temp\")').closest('.cell').remove();"
      ],
      "text/plain": [
       "<IPython.core.display.Javascript object>"
      ]
     },
     "metadata": {},
     "output_type": "display_data"
    },
    {
     "data": {
      "application/javascript": [
       "\n",
       "        $('span:contains(\"# Temp\")').closest('.cell').remove();\n",
       "        var code = IPython.notebook.insert_cell_below('code');\n",
       "        var prompt = code.element.find(\".input_prompt\");\n",
       "        prompt.append('<br><button style=\"height: 100%; width: 54px;\">Run</button>');\n",
       "        prompt.on(\"click\", \"button\", function(){\n",
       "            code.execute();\n",
       "        });\n",
       "        code.set_text(decodeURIComponent(window.atob(\"JTIzJTIwVGVtcCUwQWluc2VydCUyOCUyNyUyNyUyNyUwQXN1Y2NhcjIwMDlhJTIwJTNEJTIwREIlMjhXb3JrVW5yZWxhdGVkJTI4JTBBJTIwJTIwJTIwJTIwMjAwOSUyQyUyMCUyMkJ1aWxkaW5nJTIwaW5mb3JtYXRpb24lMjBtb2RlbGxpbmclMjBmcmFtZXdvcmslM0ElMjBBJTIwcmVzZWFyY2glMjBhbmQlMjBkZWxpdmVyeSUyMGZvdW5kYXRpb24lMjBmb3IlMjBpbmR1c3RyeSUyMHN0YWtlaG9sZGVycyUyMiUyQyUwQSUyMCUyMCUyMCUyMGRpc3BsYXklM0QlMjJzdWNjYXIlMjIlMkMlMEElMjAlMjAlMjAlMjBhdXRob3JzJTNEJTIyU3VjY2FyJTJDJTIwQmlsYWwlMjIlMkMlMEElMjAlMjAlMjAlMjBwbGFjZSUzREZBS0UlMkMlMEElMjAlMjAlMjAlMjBwcCUzRCUyMjM1Ny0tMzc1JTIyJTJDJTBBJTIwJTIwJTIwJTIwZW50cnl0eXBlJTNEJTIyYXJ0aWNsZSUyMiUyQyUwQSUyMCUyMCUyMCUyMHZvbHVtZSUzRCUyMjE4JTIyJTJDJTBBJTIwJTIwJTIwJTIwbnVtYmVyJTNEJTIyMyUyMiUyQyUwQSUyMCUyMCUyMCUyMHB1Ymxpc2hlciUzRCUyMkVsc2V2aWVyJTIyJTJDJTBBJTIwJTIwJTIwJTIwSUQlM0QlMjJzdWNjYXIyMDA5YnVpbGRpbmclMjIlMkMlMEElMjAlMjAlMjAlMjBzY2hvbGFyMjAxNiUzRCUyMjElMjIlMkMlMEElMjAlMjAlMjAlMjBwbGFjZXglM0QlMjJBdXRvbWF0aW9uJTIwaW4lMjBjb25zdHJ1Y3Rpb24lMjIlMkMlMEElMjklMjklMEElMjclMjclMjclMjklM0I=\")));\n",
       "    "
      ],
      "text/plain": [
       "<IPython.core.display.Javascript object>"
      ]
     },
     "metadata": {},
     "output_type": "display_data"
    },
    {
     "data": {
      "application/javascript": [
       "$('span:contains(\"# Temp\")').closest('.cell').remove();"
      ],
      "text/plain": [
       "<IPython.core.display.Javascript object>"
      ]
     },
     "metadata": {},
     "output_type": "display_data"
    },
    {
     "data": {
      "application/javascript": [
       "\n",
       "        $('span:contains(\"# Temp\")').closest('.cell').remove();\n",
       "        var code = IPython.notebook.insert_cell_below('code');\n",
       "        var prompt = code.element.find(\".input_prompt\");\n",
       "        prompt.append('<br><button style=\"height: 100%; width: 54px;\">Run</button>');\n",
       "        prompt.on(\"click\", \"button\", function(){\n",
       "            code.execute();\n",
       "        });\n",
       "        code.set_text(decodeURIComponent(window.atob(\"JTIzJTIwVGVtcCUwQWluc2VydCUyOCUyNyUyNyUyNyUyNyUyNyUyNyUyOSUzQiUwQXNldF9hdHRyaWJ1dGUlMjglMjdtY2d1aW5uZXNzMjAwMWElMjclMkMlMjAlMjdlbnRyeXR5cGUlMjclMkMlMjAlMjdtaXNjJTI3JTI5JTNCJTBBc2V0X2F0dHJpYnV0ZSUyOCUyN21jZ3Vpbm5lc3MyMDAxYSUyNyUyQyUyMCUyN3B1Ymxpc2hlciUyNyUyQyUyMCUyN1N0YW5mb3JkJTIwa25vd2xlZGdlJTIwc3lzdGVtcyUyMGxhYm9yYXRvcnklMjB0ZWNobmljYWwlMjByZXBvcnQlMjBLU0wtMDEtMDUlMjBhbmQlMjBTdGFuZm9yZCUyMG1lZGljYWwlMjBpbmZvcm1hdGljcyUyMHRlY2huaWNhbCUyMHJlcG9ydCUyMFNNSS0yMDAxLTA4ODAlMkMlMjBTdGFuZm9yZCUyQyUyMENBJTI3JTI5JTNCJTBBc2V0X2F0dHJpYnV0ZSUyOCUyN21jZ3Vpbm5lc3MyMDAxYSUyNyUyQyUyMCUyN0lEJTI3JTJDJTIwJTI3bm95MjAwMW9udG9sb2d5JTI3JTI5JTNCJTBBc2V0X2F0dHJpYnV0ZSUyOCUyN21jZ3Vpbm5lc3MyMDAxYSUyNyUyQyUyMCUyN3NjaG9sYXIyMDE2JTI3JTJDJTIwJTI3MSUyNyUyOSUzQg==\")));\n",
       "    "
      ],
      "text/plain": [
       "<IPython.core.display.Javascript object>"
      ]
     },
     "metadata": {},
     "output_type": "display_data"
    },
    {
     "data": {
      "application/javascript": [
       "$('span:contains(\"# Temp\")').closest('.cell').remove();"
      ],
      "text/plain": [
       "<IPython.core.display.Javascript object>"
      ]
     },
     "metadata": {},
     "output_type": "display_data"
    },
    {
     "data": {
      "application/javascript": [
       "\n",
       "        $('span:contains(\"# Temp\")').closest('.cell').remove();\n",
       "        var code = IPython.notebook.insert_cell_below('code');\n",
       "        var prompt = code.element.find(\".input_prompt\");\n",
       "        prompt.append('<br><button style=\"height: 100%; width: 54px;\">Run</button>');\n",
       "        prompt.on(\"click\", \"button\", function(){\n",
       "            code.execute();\n",
       "        });\n",
       "        code.set_text(decodeURIComponent(window.atob(\"JTIzJTIwVGVtcCUwQWluc2VydCUyOCUyNyUyNyUyNyUyNyUyNyUyNyUyOSUzQiUwQXNldF9hdHRyaWJ1dGUlMjglMjdtY2d1aW5uZXNzMjAwMWElMjclMkMlMjAlMjdlbnRyeXR5cGUlMjclMkMlMjAlMjdtaXNjJTI3JTI5JTNCJTBBc2V0X2F0dHJpYnV0ZSUyOCUyN21jZ3Vpbm5lc3MyMDAxYSUyNyUyQyUyMCUyN3B1Ymxpc2hlciUyNyUyQyUyMCUyN1N0YW5mb3JkJTIwa25vd2xlZGdlJTIwc3lzdGVtcyUyMGxhYm9yYXRvcnklMjB0ZWNobmljYWwlMjByZXBvcnQlMjBLU0wtMDEtMDUlMjBhbmQlMjBTdGFuZm9yZCUyMG1lZGljYWwlMjBpbmZvcm1hdGljcyUyMHRlY2huaWNhbCUyMHJlcG9ydCUyMFNNSS0yMDAxLTA4ODAlMkMlMjBTdGFuZm9yZCUyQyUyMENBJTI3JTI5JTNCJTBBc2V0X2F0dHJpYnV0ZSUyOCUyN21jZ3Vpbm5lc3MyMDAxYSUyNyUyQyUyMCUyN0lEJTI3JTJDJTIwJTI3bm95MjAwMW9udG9sb2d5JTI3JTI5JTNCJTBBc2V0X2F0dHJpYnV0ZSUyOCUyN21jZ3Vpbm5lc3MyMDAxYSUyNyUyQyUyMCUyN3NjaG9sYXIyMDE2JTI3JTJDJTIwJTI3MSUyNyUyOSUzQg==\")));\n",
       "    "
      ],
      "text/plain": [
       "<IPython.core.display.Javascript object>"
      ]
     },
     "metadata": {},
     "output_type": "display_data"
    },
    {
     "data": {
      "application/javascript": [
       "$('span:contains(\"# Temp\")').closest('.cell').remove();"
      ],
      "text/plain": [
       "<IPython.core.display.Javascript object>"
      ]
     },
     "metadata": {},
     "output_type": "display_data"
    },
    {
     "data": {
      "application/javascript": [
       "\n",
       "        $('span:contains(\"# Temp\")').closest('.cell').remove();\n",
       "        var code = IPython.notebook.insert_cell_below('code');\n",
       "        var prompt = code.element.find(\".input_prompt\");\n",
       "        prompt.append('<br><button style=\"height: 100%; width: 54px;\">Run</button>');\n",
       "        prompt.on(\"click\", \"button\", function(){\n",
       "            code.execute();\n",
       "        });\n",
       "        code.set_text(decodeURIComponent(window.atob(\"JTIzJTIwVGVtcCUwQWluc2VydCUyOCUyNyUyNyUyNyUwQWhzaWVoMjAxMWElMjAlM0QlMjBEQiUyOFdvcmtVbnJlbGF0ZWQlMjglMEElMjAlMjAlMjAlMjAyMDExJTJDJTIwJTIyRW5hYmxpbmclMjB0aGUlMjBkZXZlbG9wbWVudCUyMG9mJTIwYmFzZSUyMGRvbWFpbiUyMG9udG9sb2d5JTIwdGhyb3VnaCUyMGV4dHJhY3Rpb24lMjBvZiUyMGtub3dsZWRnZSUyMGZyb20lMjBlbmdpbmVlcmluZyUyMGRvbWFpbiUyMGhhbmRib29rcyUyMiUyQyUwQSUyMCUyMCUyMCUyMGRpc3BsYXklM0QlMjJoc2llaCUyMiUyQyUwQSUyMCUyMCUyMCUyMGF1dGhvcnMlM0QlMjJIc2llaCUyQyUyMFNoYW5nLUhzaWVuJTIwYW5kJTIwTGluJTJDJTIwSHNpZW4tVGFuZyUyMGFuZCUyMENoaSUyQyUyME5haS1XZW4lMjBhbmQlMjBDaG91JTJDJTIwS3VhbmctV3UlMjBhbmQlMjBMaW4lMkMlMjBLZW4tWXUlMjIlMkMlMEElMjAlMjAlMjAlMjBwbGFjZSUzREZBS0UlMkMlMEElMjAlMjAlMjAlMjBwcCUzRCUyMjI4OC0tMjk2JTIyJTJDJTBBJTIwJTIwJTIwJTIwZW50cnl0eXBlJTNEJTIyYXJ0aWNsZSUyMiUyQyUwQSUyMCUyMCUyMCUyMHZvbHVtZSUzRCUyMjI1JTIyJTJDJTBBJTIwJTIwJTIwJTIwbnVtYmVyJTNEJTIyMiUyMiUyQyUwQSUyMCUyMCUyMCUyMHB1Ymxpc2hlciUzRCUyMkVsc2V2aWVyJTIyJTJDJTBBJTIwJTIwJTIwJTIwSUQlM0QlMjJoc2llaDIwMTFlbmFibGluZyUyMiUyQyUwQSUyMCUyMCUyMCUyMHNjaG9sYXIyMDE2JTNEJTIyMSUyMiUyQyUwQSUyMCUyMCUyMCUyMHBsYWNleCUzRCUyMkFkdmFuY2VkJTIwRW5naW5lZXJpbmclMjBJbmZvcm1hdGljcyUyMiUyQyUwQSUyOSUyOSUwQSUyNyUyNyUyNyUyOSUzQg==\")));\n",
       "    "
      ],
      "text/plain": [
       "<IPython.core.display.Javascript object>"
      ]
     },
     "metadata": {},
     "output_type": "display_data"
    },
    {
     "data": {
      "application/javascript": [
       "$('span:contains(\"# Temp\")').closest('.cell').remove();"
      ],
      "text/plain": [
       "<IPython.core.display.Javascript object>"
      ]
     },
     "metadata": {},
     "output_type": "display_data"
    },
    {
     "data": {
      "application/javascript": [
       "\n",
       "        $('span:contains(\"# Temp\")').closest('.cell').remove();\n",
       "        var code = IPython.notebook.insert_cell_below('code');\n",
       "        var prompt = code.element.find(\".input_prompt\");\n",
       "        prompt.append('<br><button style=\"height: 100%; width: 54px;\">Run</button>');\n",
       "        prompt.on(\"click\", \"button\", function(){\n",
       "            code.execute();\n",
       "        });\n",
       "        code.set_text(decodeURIComponent(window.atob(\"JTIzJTIwVGVtcCUwQWluc2VydCUyOCUyNyUyNyUyNyUwQWhzaWVoMjAxMWElMjAlM0QlMjBEQiUyOFdvcmtVbnJlbGF0ZWQlMjglMEElMjAlMjAlMjAlMjAyMDExJTJDJTIwJTIyRW5hYmxpbmclMjB0aGUlMjBkZXZlbG9wbWVudCUyMG9mJTIwYmFzZSUyMGRvbWFpbiUyMG9udG9sb2d5JTIwdGhyb3VnaCUyMGV4dHJhY3Rpb24lMjBvZiUyMGtub3dsZWRnZSUyMGZyb20lMjBlbmdpbmVlcmluZyUyMGRvbWFpbiUyMGhhbmRib29rcyUyMiUyQyUwQSUyMCUyMCUyMCUyMGRpc3BsYXklM0QlMjJoc2llaCUyMiUyQyUwQSUyMCUyMCUyMCUyMGF1dGhvcnMlM0QlMjJIc2llaCUyQyUyMFNoYW5nLUhzaWVuJTIwYW5kJTIwTGluJTJDJTIwSHNpZW4tVGFuZyUyMGFuZCUyMENoaSUyQyUyME5haS1XZW4lMjBhbmQlMjBDaG91JTJDJTIwS3VhbmctV3UlMjBhbmQlMjBMaW4lMkMlMjBLZW4tWXUlMjIlMkMlMEElMjAlMjAlMjAlMjBwbGFjZSUzREZBS0UlMkMlMEElMjAlMjAlMjAlMjBwcCUzRCUyMjI4OC0tMjk2JTIyJTJDJTBBJTIwJTIwJTIwJTIwZW50cnl0eXBlJTNEJTIyYXJ0aWNsZSUyMiUyQyUwQSUyMCUyMCUyMCUyMHZvbHVtZSUzRCUyMjI1JTIyJTJDJTBBJTIwJTIwJTIwJTIwbnVtYmVyJTNEJTIyMiUyMiUyQyUwQSUyMCUyMCUyMCUyMHB1Ymxpc2hlciUzRCUyMkVsc2V2aWVyJTIyJTJDJTBBJTIwJTIwJTIwJTIwSUQlM0QlMjJoc2llaDIwMTFlbmFibGluZyUyMiUyQyUwQSUyMCUyMCUyMCUyMHNjaG9sYXIyMDE2JTNEJTIyMSUyMiUyQyUwQSUyMCUyMCUyMCUyMHBsYWNleCUzRCUyMkFkdmFuY2VkJTIwRW5naW5lZXJpbmclMjBJbmZvcm1hdGljcyUyMiUyQyUwQSUyOSUyOSUwQSUyNyUyNyUyNyUyOSUzQg==\")));\n",
       "    "
      ],
      "text/plain": [
       "<IPython.core.display.Javascript object>"
      ]
     },
     "metadata": {},
     "output_type": "display_data"
    },
    {
     "data": {
      "application/javascript": [
       "$('span:contains(\"# Temp\")').closest('.cell').remove();"
      ],
      "text/plain": [
       "<IPython.core.display.Javascript object>"
      ]
     },
     "metadata": {},
     "output_type": "display_data"
    },
    {
     "data": {
      "application/javascript": [
       "\n",
       "        $('span:contains(\"# Temp\")').closest('.cell').remove();\n",
       "        var code = IPython.notebook.insert_cell_below('code');\n",
       "        var prompt = code.element.find(\".input_prompt\");\n",
       "        prompt.append('<br><button style=\"height: 100%; width: 54px;\">Run</button>');\n",
       "        prompt.on(\"click\", \"button\", function(){\n",
       "            code.execute();\n",
       "        });\n",
       "        code.set_text(decodeURIComponent(window.atob(\"JTIzJTIwVGVtcCUwQWluc2VydCUyOCUyNyUyNyUyNyUwQWVsMjAxMGElMjAlM0QlMjBEQiUyOFdvcmtVbnJlbGF0ZWQlMjglMEElMjAlMjAlMjAlMjAyMDEwJTJDJTIwJTIyRG9tYWluJTIwb250b2xvZ3klMjBmb3IlMjBwcm9jZXNzZXMlMjBpbiUyMGluZnJhc3RydWN0dXJlJTIwYW5kJTIwY29uc3RydWN0aW9uJTIyJTJDJTBBJTIwJTIwJTIwJTIwZGlzcGxheSUzRCUyMmVsJTIyJTJDJTBBJTIwJTIwJTIwJTIwYXV0aG9ycyUzRCUyMkVsLUdvaGFyeSUyQyUyME5vcmElMjBNJTIwYW5kJTIwRWwtRGlyYWJ5JTJDJTIwVGFtZXIlMjBFJTIyJTJDJTBBJTIwJTIwJTIwJTIwcGxhY2UlM0RGQUtFJTJDJTBBJTIwJTIwJTIwJTIwcHAlM0QlMjI3MzAtLTc0NCUyMiUyQyUwQSUyMCUyMCUyMCUyMGVudHJ5dHlwZSUzRCUyMmFydGljbGUlMjIlMkMlMEElMjAlMjAlMjAlMjB2b2x1bWUlM0QlMjIxMzYlMjIlMkMlMEElMjAlMjAlMjAlMjBudW1iZXIlM0QlMjI3JTIyJTJDJTBBJTIwJTIwJTIwJTIwcHVibGlzaGVyJTNEJTIyQW1lcmljYW4lMjBTb2NpZXR5JTIwb2YlMjBDaXZpbCUyMEVuZ2luZWVycyUyMiUyQyUwQSUyMCUyMCUyMCUyMElEJTNEJTIyZWwyMDEwZG9tYWluJTIyJTJDJTBBJTIwJTIwJTIwJTIwc2Nob2xhcjIwMTYlM0QlMjIxJTIyJTJDJTBBJTIwJTIwJTIwJTIwcGxhY2V4JTNEJTIySm91cm5hbCUyMG9mJTIwQ29uc3RydWN0aW9uJTIwRW5naW5lZXJpbmclMjBhbmQlMjBNYW5hZ2VtZW50JTIyJTJDJTBBJTI5JTI5JTBBJTI3JTI3JTI3JTI5JTNC\")));\n",
       "    "
      ],
      "text/plain": [
       "<IPython.core.display.Javascript object>"
      ]
     },
     "metadata": {},
     "output_type": "display_data"
    },
    {
     "data": {
      "application/javascript": [
       "$('span:contains(\"# Temp\")').closest('.cell').remove();"
      ],
      "text/plain": [
       "<IPython.core.display.Javascript object>"
      ]
     },
     "metadata": {},
     "output_type": "display_data"
    },
    {
     "data": {
      "application/javascript": [
       "\n",
       "        $('span:contains(\"# Temp\")').closest('.cell').remove();\n",
       "        var code = IPython.notebook.insert_cell_below('code');\n",
       "        var prompt = code.element.find(\".input_prompt\");\n",
       "        prompt.append('<br><button style=\"height: 100%; width: 54px;\">Run</button>');\n",
       "        prompt.on(\"click\", \"button\", function(){\n",
       "            code.execute();\n",
       "        });\n",
       "        code.set_text(decodeURIComponent(window.atob(\"JTIzJTIwVGVtcCUwQWluc2VydCUyOCUyNyUyNyUyNyUwQWVsMjAxMGElMjAlM0QlMjBEQiUyOFdvcmtVbnJlbGF0ZWQlMjglMEElMjAlMjAlMjAlMjAyMDEwJTJDJTIwJTIyRG9tYWluJTIwb250b2xvZ3klMjBmb3IlMjBwcm9jZXNzZXMlMjBpbiUyMGluZnJhc3RydWN0dXJlJTIwYW5kJTIwY29uc3RydWN0aW9uJTIyJTJDJTBBJTIwJTIwJTIwJTIwZGlzcGxheSUzRCUyMmVsJTIyJTJDJTBBJTIwJTIwJTIwJTIwYXV0aG9ycyUzRCUyMkVsLUdvaGFyeSUyQyUyME5vcmElMjBNJTIwYW5kJTIwRWwtRGlyYWJ5JTJDJTIwVGFtZXIlMjBFJTIyJTJDJTBBJTIwJTIwJTIwJTIwcGxhY2UlM0RGQUtFJTJDJTBBJTIwJTIwJTIwJTIwcHAlM0QlMjI3MzAtLTc0NCUyMiUyQyUwQSUyMCUyMCUyMCUyMGVudHJ5dHlwZSUzRCUyMmFydGljbGUlMjIlMkMlMEElMjAlMjAlMjAlMjB2b2x1bWUlM0QlMjIxMzYlMjIlMkMlMEElMjAlMjAlMjAlMjBudW1iZXIlM0QlMjI3JTIyJTJDJTBBJTIwJTIwJTIwJTIwcHVibGlzaGVyJTNEJTIyQW1lcmljYW4lMjBTb2NpZXR5JTIwb2YlMjBDaXZpbCUyMEVuZ2luZWVycyUyMiUyQyUwQSUyMCUyMCUyMCUyMElEJTNEJTIyZWwyMDEwZG9tYWluJTIyJTJDJTBBJTIwJTIwJTIwJTIwc2Nob2xhcjIwMTYlM0QlMjIxJTIyJTJDJTBBJTIwJTIwJTIwJTIwcGxhY2V4JTNEJTIySm91cm5hbCUyMG9mJTIwQ29uc3RydWN0aW9uJTIwRW5naW5lZXJpbmclMjBhbmQlMjBNYW5hZ2VtZW50JTIyJTJDJTBBJTI5JTI5JTBBJTI3JTI3JTI3JTI5JTNC\")));\n",
       "    "
      ],
      "text/plain": [
       "<IPython.core.display.Javascript object>"
      ]
     },
     "metadata": {},
     "output_type": "display_data"
    },
    {
     "data": {
      "application/javascript": [
       "$('span:contains(\"# Temp\")').closest('.cell').remove();"
      ],
      "text/plain": [
       "<IPython.core.display.Javascript object>"
      ]
     },
     "metadata": {},
     "output_type": "display_data"
    },
    {
     "data": {
      "application/javascript": [
       "\n",
       "        $('span:contains(\"# Temp\")').closest('.cell').remove();\n",
       "        var code = IPython.notebook.insert_cell_below('code');\n",
       "        var prompt = code.element.find(\".input_prompt\");\n",
       "        prompt.append('<br><button style=\"height: 100%; width: 54px;\">Run</button>');\n",
       "        prompt.on(\"click\", \"button\", function(){\n",
       "            code.execute();\n",
       "        });\n",
       "        code.set_text(decodeURIComponent(window.atob(\"JTIzJTIwVGVtcCUwQWluc2VydCUyOCUyNyUyNyUyNyUyNyUyNyUyNyUyOSUzQiUwQXNldF9hdHRyaWJ1dGUlMjglMjdhcHJpbDIwMDVhJTI3JTJDJTIwJTI3c2Nob2xhcjIwMTYlMjclMkMlMjAlMjcxJTI3JTI5JTNC\")));\n",
       "    "
      ],
      "text/plain": [
       "<IPython.core.display.Javascript object>"
      ]
     },
     "metadata": {},
     "output_type": "display_data"
    },
    {
     "data": {
      "application/javascript": [
       "$('span:contains(\"# Temp\")').closest('.cell').remove();"
      ],
      "text/plain": [
       "<IPython.core.display.Javascript object>"
      ]
     },
     "metadata": {},
     "output_type": "display_data"
    },
    {
     "data": {
      "application/javascript": [
       "\n",
       "        $('span:contains(\"# Temp\")').closest('.cell').remove();\n",
       "        var code = IPython.notebook.insert_cell_below('code');\n",
       "        var prompt = code.element.find(\".input_prompt\");\n",
       "        prompt.append('<br><button style=\"height: 100%; width: 54px;\">Run</button>');\n",
       "        prompt.on(\"click\", \"button\", function(){\n",
       "            code.execute();\n",
       "        });\n",
       "        code.set_text(decodeURIComponent(window.atob(\"JTIzJTIwVGVtcCUwQWluc2VydCUyOCUyNyUyNyUyNyUyNyUyNyUyNyUyOSUzQiUwQXNldF9hdHRyaWJ1dGUlMjglMjdhcHJpbDIwMDVhJTI3JTJDJTIwJTI3c2Nob2xhcjIwMTYlMjclMkMlMjAlMjcxJTI3JTI5JTNC\")));\n",
       "    "
      ],
      "text/plain": [
       "<IPython.core.display.Javascript object>"
      ]
     },
     "metadata": {},
     "output_type": "display_data"
    },
    {
     "data": {
      "application/javascript": [
       "$('span:contains(\"# Temp\")').closest('.cell').remove();"
      ],
      "text/plain": [
       "<IPython.core.display.Javascript object>"
      ]
     },
     "metadata": {},
     "output_type": "display_data"
    },
    {
     "data": {
      "application/javascript": [
       "\n",
       "        $('span:contains(\"# Temp\")').closest('.cell').remove();\n",
       "        var code = IPython.notebook.insert_cell_below('code');\n",
       "        var prompt = code.element.find(\".input_prompt\");\n",
       "        prompt.append('<br><button style=\"height: 100%; width: 54px;\">Run</button>');\n",
       "        prompt.on(\"click\", \"button\", function(){\n",
       "            code.execute();\n",
       "        });\n",
       "        code.set_text(decodeURIComponent(window.atob(\"JTIzJTIwVGVtcCUwQWluc2VydCUyOCUyNyUyNyUyNyUwQWclQzMlQjNtZXoxOTk0YSUyMCUzRCUyMERCJTI4V29ya1VucmVsYXRlZCUyOCUwQSUyMCUyMCUyMCUyMDE5OTQlMkMlMjAlMjJGcm9tJTIwa25vd2xlZGdlJTIwYmFzZWQlMjBzeXN0ZW1zJTIwdG8lMjBrbm93bGVkZ2UlMjBzaGFyaW5nJTIwdGVjaG5vbG9neSUzQSUyMEV2YWx1YXRpb24lMjBhbmQlMjBhc3Nlc3NtZW50JTIyJTJDJTBBJTIwJTIwJTIwJTIwZGlzcGxheSUzRCUyMmclQzMlQjNtZXolMjIlMkMlMEElMjAlMjAlMjAlMjBhdXRob3JzJTNEJTIyRyVDMyVCM21lei1QJUMzJUE5cmV6JTJDJTIwQXN1bmNpJUMzJUIzbiUyMiUyQyUwQSUyMCUyMCUyMCUyMHBsYWNlJTNERkFLRSUyQyUwQSUyMCUyMCUyMCUyMGVudHJ5dHlwZSUzRCUyMmFydGljbGUlMjIlMkMlMEElMjAlMjAlMjAlMjBwdWJsaXNoZXIlM0QlMjJLbm93bGVkZ2UlMjBTeXN0ZW1zJTIwTGFib3JhdG9yeS4lMjBTdGFuZm9yZCUyMFVuaXZlcnNpdHklMjIlMkMlMEElMjAlMjAlMjAlMjBJRCUzRCUyMmdvbWV6MTk5NGtub3dsZWRnZSUyMiUyQyUwQSUyMCUyMCUyMCUyMHNjaG9sYXIyMDE2JTNEJTIyMSUyMiUyQyUwQSUyMCUyMCUyMCUyMHBsYWNleCUzRCUyMiUyMiUyQyUwQSUyOSUyOSUwQSUyNyUyNyUyNyUyOSUzQg==\")));\n",
       "    "
      ],
      "text/plain": [
       "<IPython.core.display.Javascript object>"
      ]
     },
     "metadata": {},
     "output_type": "display_data"
    },
    {
     "data": {
      "application/javascript": [
       "$('span:contains(\"# Temp\")').closest('.cell').remove();"
      ],
      "text/plain": [
       "<IPython.core.display.Javascript object>"
      ]
     },
     "metadata": {},
     "output_type": "display_data"
    },
    {
     "data": {
      "application/javascript": [
       "\n",
       "        $('span:contains(\"# Temp\")').closest('.cell').remove();\n",
       "        var code = IPython.notebook.insert_cell_below('code');\n",
       "        var prompt = code.element.find(\".input_prompt\");\n",
       "        prompt.append('<br><button style=\"height: 100%; width: 54px;\">Run</button>');\n",
       "        prompt.on(\"click\", \"button\", function(){\n",
       "            code.execute();\n",
       "        });\n",
       "        code.set_text(decodeURIComponent(window.atob(\"JTIzJTIwVGVtcCUwQWluc2VydCUyOCUyNyUyNyUyNyUwQWclQzMlQjNtZXoxOTk0YSUyMCUzRCUyMERCJTI4V29ya1VucmVsYXRlZCUyOCUwQSUyMCUyMCUyMCUyMDE5OTQlMkMlMjAlMjJGcm9tJTIwa25vd2xlZGdlJTIwYmFzZWQlMjBzeXN0ZW1zJTIwdG8lMjBrbm93bGVkZ2UlMjBzaGFyaW5nJTIwdGVjaG5vbG9neSUzQSUyMEV2YWx1YXRpb24lMjBhbmQlMjBhc3Nlc3NtZW50JTIyJTJDJTBBJTIwJTIwJTIwJTIwZGlzcGxheSUzRCUyMmclQzMlQjNtZXolMjIlMkMlMEElMjAlMjAlMjAlMjBhdXRob3JzJTNEJTIyRyVDMyVCM21lei1QJUMzJUE5cmV6JTJDJTIwQXN1bmNpJUMzJUIzbiUyMiUyQyUwQSUyMCUyMCUyMCUyMHBsYWNlJTNERkFLRSUyQyUwQSUyMCUyMCUyMCUyMGVudHJ5dHlwZSUzRCUyMmFydGljbGUlMjIlMkMlMEElMjAlMjAlMjAlMjBwdWJsaXNoZXIlM0QlMjJLbm93bGVkZ2UlMjBTeXN0ZW1zJTIwTGFib3JhdG9yeS4lMjBTdGFuZm9yZCUyMFVuaXZlcnNpdHklMjIlMkMlMEElMjAlMjAlMjAlMjBJRCUzRCUyMmdvbWV6MTk5NGtub3dsZWRnZSUyMiUyQyUwQSUyMCUyMCUyMCUyMHNjaG9sYXIyMDE2JTNEJTIyMSUyMiUyQyUwQSUyMCUyMCUyMCUyMHBsYWNleCUzRCUyMiUyMiUyQyUwQSUyOSUyOSUwQSUyNyUyNyUyNyUyOSUzQg==\")));\n",
       "    "
      ],
      "text/plain": [
       "<IPython.core.display.Javascript object>"
      ]
     },
     "metadata": {},
     "output_type": "display_data"
    },
    {
     "data": {
      "application/javascript": [
       "$('span:contains(\"# Temp\")').closest('.cell').remove();"
      ],
      "text/plain": [
       "<IPython.core.display.Javascript object>"
      ]
     },
     "metadata": {},
     "output_type": "display_data"
    },
    {
     "data": {
      "application/javascript": [
       "\n",
       "        $('span:contains(\"# Temp\")').closest('.cell').remove();\n",
       "        var code = IPython.notebook.insert_cell_below('code');\n",
       "        var prompt = code.element.find(\".input_prompt\");\n",
       "        prompt.append('<br><button style=\"height: 100%; width: 54px;\">Run</button>');\n",
       "        prompt.on(\"click\", \"button\", function(){\n",
       "            code.execute();\n",
       "        });\n",
       "        code.set_text(decodeURIComponent(window.atob(\"JTIzJTIwVGVtcCUwQWluc2VydCUyOCUyNyUyNyUyNyUwQXJpZWhsZTE5OTZhJTIwJTNEJTIwREIlMjhXb3JrVW5yZWxhdGVkJTI4JTBBJTIwJTIwJTIwJTIwMTk5NiUyQyUyMCUyMlVuZGVyc3RhbmRpbmclMjBhbmQlMjB1c2luZyUyMHBhdHRlcm5zJTIwaW4lMjBzb2Z0d2FyZSUyMGRldmVsb3BtZW50JTIyJTJDJTBBJTIwJTIwJTIwJTIwZGlzcGxheSUzRCUyMnJpZWhsZSUyMiUyQyUwQSUyMCUyMCUyMCUyMGF1dGhvcnMlM0QlMjJSaWVobGUlMkMlMjBEaXJrJTIwYW5kJTIwWiVDMyVCQ2xsaWdob3ZlbiUyQyUyMEhlaW56JTIyJTJDJTBBJTIwJTIwJTIwJTIwcGxhY2UlM0RGQUtFJTJDJTBBJTIwJTIwJTIwJTIwcHAlM0QlMjIzLS0xMyUyMiUyQyUwQSUyMCUyMCUyMCUyMGVudHJ5dHlwZSUzRCUyMmFydGljbGUlMjIlMkMlMEElMjAlMjAlMjAlMjB2b2x1bWUlM0QlMjIyJTIyJTJDJTBBJTIwJTIwJTIwJTIwbnVtYmVyJTNEJTIyMSUyMiUyQyUwQSUyMCUyMCUyMCUyMHB1Ymxpc2hlciUzRCUyMldpbGV5JTIwT25saW5lJTIwTGlicmFyeSUyMiUyQyUwQSUyMCUyMCUyMCUyMElEJTNEJTIycmllaGxlMTk5NnVuZGVyc3RhbmRpbmclMjIlMkMlMEElMjAlMjAlMjAlMjBzY2hvbGFyMjAxNiUzRCUyMjElMjIlMkMlMEElMjAlMjAlMjAlMjBwbGFjZXglM0QlMjJUaGVvcnklMjBhbmQlMjBwcmFjdGljZSUyMG9mJTIwb2JqZWN0JTIwc3lzdGVtcyUyMiUyQyUwQSUyOSUyOSUwQSUyNyUyNyUyNyUyOSUzQg==\")));\n",
       "    "
      ],
      "text/plain": [
       "<IPython.core.display.Javascript object>"
      ]
     },
     "metadata": {},
     "output_type": "display_data"
    },
    {
     "data": {
      "application/javascript": [
       "$('span:contains(\"# Temp\")').closest('.cell').remove();"
      ],
      "text/plain": [
       "<IPython.core.display.Javascript object>"
      ]
     },
     "metadata": {},
     "output_type": "display_data"
    },
    {
     "data": {
      "application/javascript": [
       "\n",
       "        $('span:contains(\"# Temp\")').closest('.cell').remove();\n",
       "        var code = IPython.notebook.insert_cell_below('code');\n",
       "        var prompt = code.element.find(\".input_prompt\");\n",
       "        prompt.append('<br><button style=\"height: 100%; width: 54px;\">Run</button>');\n",
       "        prompt.on(\"click\", \"button\", function(){\n",
       "            code.execute();\n",
       "        });\n",
       "        code.set_text(decodeURIComponent(window.atob(\"JTIzJTIwVGVtcCUwQWluc2VydCUyOCUyNyUyNyUyNyUwQXJpZWhsZTE5OTZhJTIwJTNEJTIwREIlMjhXb3JrVW5yZWxhdGVkJTI4JTBBJTIwJTIwJTIwJTIwMTk5NiUyQyUyMCUyMlVuZGVyc3RhbmRpbmclMjBhbmQlMjB1c2luZyUyMHBhdHRlcm5zJTIwaW4lMjBzb2Z0d2FyZSUyMGRldmVsb3BtZW50JTIyJTJDJTBBJTIwJTIwJTIwJTIwZGlzcGxheSUzRCUyMnJpZWhsZSUyMiUyQyUwQSUyMCUyMCUyMCUyMGF1dGhvcnMlM0QlMjJSaWVobGUlMkMlMjBEaXJrJTIwYW5kJTIwWiVDMyVCQ2xsaWdob3ZlbiUyQyUyMEhlaW56JTIyJTJDJTBBJTIwJTIwJTIwJTIwcGxhY2UlM0RGQUtFJTJDJTBBJTIwJTIwJTIwJTIwcHAlM0QlMjIzLS0xMyUyMiUyQyUwQSUyMCUyMCUyMCUyMGVudHJ5dHlwZSUzRCUyMmFydGljbGUlMjIlMkMlMEElMjAlMjAlMjAlMjB2b2x1bWUlM0QlMjIyJTIyJTJDJTBBJTIwJTIwJTIwJTIwbnVtYmVyJTNEJTIyMSUyMiUyQyUwQSUyMCUyMCUyMCUyMHB1Ymxpc2hlciUzRCUyMldpbGV5JTIwT25saW5lJTIwTGlicmFyeSUyMiUyQyUwQSUyMCUyMCUyMCUyMElEJTNEJTIycmllaGxlMTk5NnVuZGVyc3RhbmRpbmclMjIlMkMlMEElMjAlMjAlMjAlMjBzY2hvbGFyMjAxNiUzRCUyMjElMjIlMkMlMEElMjAlMjAlMjAlMjBwbGFjZXglM0QlMjJUaGVvcnklMjBhbmQlMjBwcmFjdGljZSUyMG9mJTIwb2JqZWN0JTIwc3lzdGVtcyUyMiUyQyUwQSUyOSUyOSUwQSUyNyUyNyUyNyUyOSUzQg==\")));\n",
       "    "
      ],
      "text/plain": [
       "<IPython.core.display.Javascript object>"
      ]
     },
     "metadata": {},
     "output_type": "display_data"
    },
    {
     "data": {
      "application/javascript": [
       "$('span:contains(\"# Temp\")').closest('.cell').remove();"
      ],
      "text/plain": [
       "<IPython.core.display.Javascript object>"
      ]
     },
     "metadata": {},
     "output_type": "display_data"
    },
    {
     "data": {
      "application/javascript": [
       "\n",
       "        $('span:contains(\"# Temp\")').closest('.cell').remove();\n",
       "        var code = IPython.notebook.insert_cell_below('code');\n",
       "        var prompt = code.element.find(\".input_prompt\");\n",
       "        prompt.append('<br><button style=\"height: 100%; width: 54px;\">Run</button>');\n",
       "        prompt.on(\"click\", \"button\", function(){\n",
       "            code.execute();\n",
       "        });\n",
       "        code.set_text(decodeURIComponent(window.atob(\"JTIzJTIwVGVtcCUwQWluc2VydCUyOCUyNyUyNyUyNyUyNyUyNyUyNyUyOSUzQiUwQXNldF9hdHRyaWJ1dGUlMjglMjdnYXJjJUMzJUFEYTIwMDZhJTI3JTJDJTIwJTI3c2Nob2xhcjIwMTYlMjclMkMlMjAlMjcxJTI3JTI5JTNC\")));\n",
       "    "
      ],
      "text/plain": [
       "<IPython.core.display.Javascript object>"
      ]
     },
     "metadata": {},
     "output_type": "display_data"
    },
    {
     "data": {
      "application/javascript": [
       "$('span:contains(\"# Temp\")').closest('.cell').remove();"
      ],
      "text/plain": [
       "<IPython.core.display.Javascript object>"
      ]
     },
     "metadata": {},
     "output_type": "display_data"
    },
    {
     "data": {
      "application/javascript": [
       "\n",
       "        $('span:contains(\"# Temp\")').closest('.cell').remove();\n",
       "        var code = IPython.notebook.insert_cell_below('code');\n",
       "        var prompt = code.element.find(\".input_prompt\");\n",
       "        prompt.append('<br><button style=\"height: 100%; width: 54px;\">Run</button>');\n",
       "        prompt.on(\"click\", \"button\", function(){\n",
       "            code.execute();\n",
       "        });\n",
       "        code.set_text(decodeURIComponent(window.atob(\"JTIzJTIwVGVtcCUwQWluc2VydCUyOCUyNyUyNyUyNyUyNyUyNyUyNyUyOSUzQiUwQXNldF9hdHRyaWJ1dGUlMjglMjdnYXJjJUMzJUFEYTIwMDZhJTI3JTJDJTIwJTI3c2Nob2xhcjIwMTYlMjclMkMlMjAlMjcxJTI3JTI5JTNC\")));\n",
       "    "
      ],
      "text/plain": [
       "<IPython.core.display.Javascript object>"
      ]
     },
     "metadata": {},
     "output_type": "display_data"
    },
    {
     "data": {
      "application/javascript": [
       "$('span:contains(\"# Temp\")').closest('.cell').remove();"
      ],
      "text/plain": [
       "<IPython.core.display.Javascript object>"
      ]
     },
     "metadata": {},
     "output_type": "display_data"
    },
    {
     "data": {
      "application/javascript": [
       "\n",
       "        $('span:contains(\"# Temp\")').closest('.cell').remove();\n",
       "        var code = IPython.notebook.insert_cell_below('code');\n",
       "        var prompt = code.element.find(\".input_prompt\");\n",
       "        prompt.append('<br><button style=\"height: 100%; width: 54px;\">Run</button>');\n",
       "        prompt.on(\"click\", \"button\", function(){\n",
       "            code.execute();\n",
       "        });\n",
       "        code.set_text(decodeURIComponent(window.atob(\"JTIzJTIwVGVtcCUwQWluc2VydCUyOCUyNyUyNyUyNyUwQXdlc2tlMjAxMmElMjAlM0QlMjBEQiUyOFdvcmtVbnJlbGF0ZWQlMjglMEElMjAlMjAlMjAlMjAyMDEyJTJDJTIwJTIyQnVzaW5lc3MlMjBwcm9jZXNzJTIwbWFuYWdlbWVudCUyMGFyY2hpdGVjdHVyZXMlMjIlMkMlMEElMjAlMjAlMjAlMjBkaXNwbGF5JTNEJTIyd2Vza2UlMjIlMkMlMEElMjAlMjAlMjAlMjBhdXRob3JzJTNEJTIyV2Vza2UlMkMlMjBNYXRoaWFzJTIyJTJDJTBBJTIwJTIwJTIwJTIwcGxhY2UlM0RGQUtFJTJDJTBBJTIwJTIwJTIwJTIwcHAlM0QlMjIzMzMtLTM3MSUyMiUyQyUwQSUyMCUyMCUyMCUyMGVudHJ5dHlwZSUzRCUyMmluY29sbGVjdGlvbiUyMiUyQyUwQSUyMCUyMCUyMCUyMHB1Ymxpc2hlciUzRCUyMlNwcmluZ2VyJTIyJTJDJTBBJTIwJTIwJTIwJTIwSUQlM0QlMjJ3ZXNrZTIwMTJidXNpbmVzcyUyMiUyQyUwQSUyMCUyMCUyMCUyMHNjaG9sYXIyMDE2JTNEJTIyMSUyMiUyQyUwQSUyMCUyMCUyMCUyMHBsYWNleCUzRCUyMkJ1c2luZXNzJTIwUHJvY2VzcyUyME1hbmFnZW1lbnQlMjIlMkMlMEElMjklMjklMEElMjclMjclMjclMjklM0I=\")));\n",
       "    "
      ],
      "text/plain": [
       "<IPython.core.display.Javascript object>"
      ]
     },
     "metadata": {},
     "output_type": "display_data"
    },
    {
     "data": {
      "application/javascript": [
       "$('span:contains(\"# Temp\")').closest('.cell').remove();"
      ],
      "text/plain": [
       "<IPython.core.display.Javascript object>"
      ]
     },
     "metadata": {},
     "output_type": "display_data"
    },
    {
     "data": {
      "application/javascript": [
       "\n",
       "        $('span:contains(\"# Temp\")').closest('.cell').remove();\n",
       "        var code = IPython.notebook.insert_cell_below('code');\n",
       "        var prompt = code.element.find(\".input_prompt\");\n",
       "        prompt.append('<br><button style=\"height: 100%; width: 54px;\">Run</button>');\n",
       "        prompt.on(\"click\", \"button\", function(){\n",
       "            code.execute();\n",
       "        });\n",
       "        code.set_text(decodeURIComponent(window.atob(\"JTIzJTIwVGVtcCUwQWluc2VydCUyOCUyNyUyNyUyNyUwQXdlc2tlMjAxMmElMjAlM0QlMjBEQiUyOFdvcmtVbnJlbGF0ZWQlMjglMEElMjAlMjAlMjAlMjAyMDEyJTJDJTIwJTIyQnVzaW5lc3MlMjBwcm9jZXNzJTIwbWFuYWdlbWVudCUyMGFyY2hpdGVjdHVyZXMlMjIlMkMlMEElMjAlMjAlMjAlMjBkaXNwbGF5JTNEJTIyd2Vza2UlMjIlMkMlMEElMjAlMjAlMjAlMjBhdXRob3JzJTNEJTIyV2Vza2UlMkMlMjBNYXRoaWFzJTIyJTJDJTBBJTIwJTIwJTIwJTIwcGxhY2UlM0RGQUtFJTJDJTBBJTIwJTIwJTIwJTIwcHAlM0QlMjIzMzMtLTM3MSUyMiUyQyUwQSUyMCUyMCUyMCUyMGVudHJ5dHlwZSUzRCUyMmluY29sbGVjdGlvbiUyMiUyQyUwQSUyMCUyMCUyMCUyMHB1Ymxpc2hlciUzRCUyMlNwcmluZ2VyJTIyJTJDJTBBJTIwJTIwJTIwJTIwSUQlM0QlMjJ3ZXNrZTIwMTJidXNpbmVzcyUyMiUyQyUwQSUyMCUyMCUyMCUyMHNjaG9sYXIyMDE2JTNEJTIyMSUyMiUyQyUwQSUyMCUyMCUyMCUyMHBsYWNleCUzRCUyMkJ1c2luZXNzJTIwUHJvY2VzcyUyME1hbmFnZW1lbnQlMjIlMkMlMEElMjklMjklMEElMjclMjclMjclMjklM0I=\")));\n",
       "    "
      ],
      "text/plain": [
       "<IPython.core.display.Javascript object>"
      ]
     },
     "metadata": {},
     "output_type": "display_data"
    },
    {
     "data": {
      "application/javascript": [
       "$('span:contains(\"# Temp\")').closest('.cell').remove();"
      ],
      "text/plain": [
       "<IPython.core.display.Javascript object>"
      ]
     },
     "metadata": {},
     "output_type": "display_data"
    },
    {
     "data": {
      "application/javascript": [
       "\n",
       "        $('span:contains(\"# Temp\")').closest('.cell').remove();\n",
       "        var code = IPython.notebook.insert_cell_below('code');\n",
       "        var prompt = code.element.find(\".input_prompt\");\n",
       "        prompt.append('<br><button style=\"height: 100%; width: 54px;\">Run</button>');\n",
       "        prompt.on(\"click\", \"button\", function(){\n",
       "            code.execute();\n",
       "        });\n",
       "        code.set_text(decodeURIComponent(window.atob(\"JTIzJTIwVGVtcCUwQWluc2VydCUyOCUyNyUyNyUyNyUwQWFrZXJtYW4yMDA2YSUyMCUzRCUyMERCJTI4V29ya1VucmVsYXRlZCUyOCUwQSUyMCUyMCUyMCUyMDIwMDYlMkMlMjAlMjJVc2luZyUyMG9udG9sb2d5JTIwdG8lMjBzdXBwb3J0JTIwZGV2ZWxvcG1lbnQlMjBvZiUyMHNvZnR3YXJlJTIwYXJjaGl0ZWN0dXJlcyUyMiUyQyUwQSUyMCUyMCUyMCUyMGRpc3BsYXklM0QlMjJha2VybWFuJTIyJTJDJTBBJTIwJTIwJTIwJTIwYXV0aG9ycyUzRCUyMkFrZXJtYW4lMkMlMjBBcnQlMjBhbmQlMjBUeXJlZSUyQyUyMEplZmYlMjIlMkMlMEElMjAlMjAlMjAlMjBwbGFjZSUzREZBS0UlMkMlMEElMjAlMjAlMjAlMjBwcCUzRCUyMjgxMy0tODI1JTIyJTJDJTBBJTIwJTIwJTIwJTIwZW50cnl0eXBlJTNEJTIyYXJ0aWNsZSUyMiUyQyUwQSUyMCUyMCUyMCUyMHZvbHVtZSUzRCUyMjQ1JTIyJTJDJTBBJTIwJTIwJTIwJTIwbnVtYmVyJTNEJTIyNCUyMiUyQyUwQSUyMCUyMCUyMCUyMHB1Ymxpc2hlciUzRCUyMklCTSUyMiUyQyUwQSUyMCUyMCUyMCUyMElEJTNEJTIyYWtlcm1hbjIwMDZ1c2luZyUyMiUyQyUwQSUyMCUyMCUyMCUyMHNjaG9sYXIyMDE2JTNEJTIyMSUyMiUyQyUwQSUyMCUyMCUyMCUyMHBsYWNleCUzRCUyMklCTSUyMFN5c3RlbXMlMjBKb3VybmFsJTIyJTJDJTBBJTI5JTI5JTBBJTI3JTI3JTI3JTI5JTNC\")));\n",
       "    "
      ],
      "text/plain": [
       "<IPython.core.display.Javascript object>"
      ]
     },
     "metadata": {},
     "output_type": "display_data"
    },
    {
     "data": {
      "application/javascript": [
       "$('span:contains(\"# Temp\")').closest('.cell').remove();"
      ],
      "text/plain": [
       "<IPython.core.display.Javascript object>"
      ]
     },
     "metadata": {},
     "output_type": "display_data"
    },
    {
     "data": {
      "application/javascript": [
       "\n",
       "        $('span:contains(\"# Temp\")').closest('.cell').remove();\n",
       "        var code = IPython.notebook.insert_cell_below('code');\n",
       "        var prompt = code.element.find(\".input_prompt\");\n",
       "        prompt.append('<br><button style=\"height: 100%; width: 54px;\">Run</button>');\n",
       "        prompt.on(\"click\", \"button\", function(){\n",
       "            code.execute();\n",
       "        });\n",
       "        code.set_text(decodeURIComponent(window.atob(\"JTIzJTIwVGVtcCUwQWluc2VydCUyOCUyNyUyNyUyNyUwQWFrZXJtYW4yMDA2YSUyMCUzRCUyMERCJTI4V29ya1VucmVsYXRlZCUyOCUwQSUyMCUyMCUyMCUyMDIwMDYlMkMlMjAlMjJVc2luZyUyMG9udG9sb2d5JTIwdG8lMjBzdXBwb3J0JTIwZGV2ZWxvcG1lbnQlMjBvZiUyMHNvZnR3YXJlJTIwYXJjaGl0ZWN0dXJlcyUyMiUyQyUwQSUyMCUyMCUyMCUyMGRpc3BsYXklM0QlMjJha2VybWFuJTIyJTJDJTBBJTIwJTIwJTIwJTIwYXV0aG9ycyUzRCUyMkFrZXJtYW4lMkMlMjBBcnQlMjBhbmQlMjBUeXJlZSUyQyUyMEplZmYlMjIlMkMlMEElMjAlMjAlMjAlMjBwbGFjZSUzREZBS0UlMkMlMEElMjAlMjAlMjAlMjBwcCUzRCUyMjgxMy0tODI1JTIyJTJDJTBBJTIwJTIwJTIwJTIwZW50cnl0eXBlJTNEJTIyYXJ0aWNsZSUyMiUyQyUwQSUyMCUyMCUyMCUyMHZvbHVtZSUzRCUyMjQ1JTIyJTJDJTBBJTIwJTIwJTIwJTIwbnVtYmVyJTNEJTIyNCUyMiUyQyUwQSUyMCUyMCUyMCUyMHB1Ymxpc2hlciUzRCUyMklCTSUyMiUyQyUwQSUyMCUyMCUyMCUyMElEJTNEJTIyYWtlcm1hbjIwMDZ1c2luZyUyMiUyQyUwQSUyMCUyMCUyMCUyMHNjaG9sYXIyMDE2JTNEJTIyMSUyMiUyQyUwQSUyMCUyMCUyMCUyMHBsYWNleCUzRCUyMklCTSUyMFN5c3RlbXMlMjBKb3VybmFsJTIyJTJDJTBBJTI5JTI5JTBBJTI3JTI3JTI3JTI5JTNC\")));\n",
       "    "
      ],
      "text/plain": [
       "<IPython.core.display.Javascript object>"
      ]
     },
     "metadata": {},
     "output_type": "display_data"
    },
    {
     "data": {
      "application/javascript": [
       "$('span:contains(\"# Temp\")').closest('.cell').remove();"
      ],
      "text/plain": [
       "<IPython.core.display.Javascript object>"
      ]
     },
     "metadata": {},
     "output_type": "display_data"
    },
    {
     "data": {
      "application/javascript": [
       "\n",
       "        $('span:contains(\"# Temp\")').closest('.cell').remove();\n",
       "        var code = IPython.notebook.insert_cell_below('code');\n",
       "        var prompt = code.element.find(\".input_prompt\");\n",
       "        prompt.append('<br><button style=\"height: 100%; width: 54px;\">Run</button>');\n",
       "        prompt.on(\"click\", \"button\", function(){\n",
       "            code.execute();\n",
       "        });\n",
       "        code.set_text(decodeURIComponent(window.atob(\"JTIzJTIwVGVtcCUwQWluc2VydCUyOCUyNyUyNyUyNyUwQXNhbGdlcjIwMTBhJTIwJTNEJTIwREIlMjhXb3JrVW5yZWxhdGVkJTI4JTBBJTIwJTIwJTIwJTIwMjAxMCUyQyUyMCUyMktub3dsZWRnZSUyMHRyYW5zZmVyJTIwaW4lMjBnbG9iYWwlMjBzb2Z0d2FyZSUyMGRldmVsb3BtZW50LWxldmVyYWdpbmclMjBvbnRvbG9naWVzJTJDJTIwdG9vbHMlMjBhbmQlMjBhc3Nlc3NtZW50cyUyMiUyQyUwQSUyMCUyMCUyMCUyMGRpc3BsYXklM0QlMjJzYWxnZXIlMjIlMkMlMEElMjAlMjAlMjAlMjBhdXRob3JzJTNEJTIyU2FsZ2VyJTJDJTIwRnJhbmslMjBhbmQlMjBTYXVlciUyQyUyMFN0ZWZhbiUyMGFuZCUyMEVuZ2VscyUyQyUyMEdyZWdvciUyMGFuZCUyMEJhdW1hbm4lMkMlMjBBbmRyZWElMjIlMkMlMEElMjAlMjAlMjAlMjBwbGFjZSUzRElDU0UlMkMlMEElMjAlMjAlMjAlMjBwcCUzRCUyMjMzNi0tMzQxJTIyJTJDJTBBJTIwJTIwJTIwJTIwZW50cnl0eXBlJTNEJTIyaW5wcm9jZWVkaW5ncyUyMiUyQyUwQSUyMCUyMCUyMCUyMG9yZ2FuaXphdGlvbiUzRCUyMklFRUUlMjIlMkMlMEElMjAlMjAlMjAlMjBJRCUzRCUyMnNhbGdlcjIwMTBrbm93bGVkZ2UlMjIlMkMlMEElMjAlMjAlMjAlMjBzY2hvbGFyMjAxNiUzRCUyMjElMjIlMkMlMEElMjAlMjAlMjAlMjBwbGFjZXglM0QlMjJHbG9iYWwlMjBTb2Z0d2FyZSUyMEVuZ2luZWVyaW5nJTIwJTI4SUNHU0UlMjklMkMlMjAyMDEwJTIwNXRoJTIwSUVFRSUyMEludGVybmF0aW9uYWwlMjBDb25mZXJlbmNlJTIwb24lMjIlMkMlMEElMjklMjklMEElMjclMjclMjclMjklM0I=\")));\n",
       "    "
      ],
      "text/plain": [
       "<IPython.core.display.Javascript object>"
      ]
     },
     "metadata": {},
     "output_type": "display_data"
    },
    {
     "data": {
      "application/javascript": [
       "$('span:contains(\"# Temp\")').closest('.cell').remove();"
      ],
      "text/plain": [
       "<IPython.core.display.Javascript object>"
      ]
     },
     "metadata": {},
     "output_type": "display_data"
    },
    {
     "data": {
      "application/javascript": [
       "\n",
       "        $('span:contains(\"# Temp\")').closest('.cell').remove();\n",
       "        var code = IPython.notebook.insert_cell_below('code');\n",
       "        var prompt = code.element.find(\".input_prompt\");\n",
       "        prompt.append('<br><button style=\"height: 100%; width: 54px;\">Run</button>');\n",
       "        prompt.on(\"click\", \"button\", function(){\n",
       "            code.execute();\n",
       "        });\n",
       "        code.set_text(decodeURIComponent(window.atob(\"JTIzJTIwVGVtcCUwQWluc2VydCUyOCUyNyUyNyUyNyUwQXNhbGdlcjIwMTBhJTIwJTNEJTIwREIlMjhXb3JrVW5yZWxhdGVkJTI4JTBBJTIwJTIwJTIwJTIwMjAxMCUyQyUyMCUyMktub3dsZWRnZSUyMHRyYW5zZmVyJTIwaW4lMjBnbG9iYWwlMjBzb2Z0d2FyZSUyMGRldmVsb3BtZW50LWxldmVyYWdpbmclMjBvbnRvbG9naWVzJTJDJTIwdG9vbHMlMjBhbmQlMjBhc3Nlc3NtZW50cyUyMiUyQyUwQSUyMCUyMCUyMCUyMGRpc3BsYXklM0QlMjJzYWxnZXIlMjIlMkMlMEElMjAlMjAlMjAlMjBhdXRob3JzJTNEJTIyU2FsZ2VyJTJDJTIwRnJhbmslMjBhbmQlMjBTYXVlciUyQyUyMFN0ZWZhbiUyMGFuZCUyMEVuZ2VscyUyQyUyMEdyZWdvciUyMGFuZCUyMEJhdW1hbm4lMkMlMjBBbmRyZWElMjIlMkMlMEElMjAlMjAlMjAlMjBwbGFjZSUzRElDU0UlMkMlMEElMjAlMjAlMjAlMjBwcCUzRCUyMjMzNi0tMzQxJTIyJTJDJTBBJTIwJTIwJTIwJTIwZW50cnl0eXBlJTNEJTIyaW5wcm9jZWVkaW5ncyUyMiUyQyUwQSUyMCUyMCUyMCUyMG9yZ2FuaXphdGlvbiUzRCUyMklFRUUlMjIlMkMlMEElMjAlMjAlMjAlMjBJRCUzRCUyMnNhbGdlcjIwMTBrbm93bGVkZ2UlMjIlMkMlMEElMjAlMjAlMjAlMjBzY2hvbGFyMjAxNiUzRCUyMjElMjIlMkMlMEElMjAlMjAlMjAlMjBwbGFjZXglM0QlMjJHbG9iYWwlMjBTb2Z0d2FyZSUyMEVuZ2luZWVyaW5nJTIwJTI4SUNHU0UlMjklMkMlMjAyMDEwJTIwNXRoJTIwSUVFRSUyMEludGVybmF0aW9uYWwlMjBDb25mZXJlbmNlJTIwb24lMjIlMkMlMEElMjklMjklMEElMjclMjclMjclMjklM0I=\")));\n",
       "    "
      ],
      "text/plain": [
       "<IPython.core.display.Javascript object>"
      ]
     },
     "metadata": {},
     "output_type": "display_data"
    },
    {
     "data": {
      "application/javascript": [
       "$('span:contains(\"# Temp\")').closest('.cell').remove();"
      ],
      "text/plain": [
       "<IPython.core.display.Javascript object>"
      ]
     },
     "metadata": {},
     "output_type": "display_data"
    },
    {
     "data": {
      "application/javascript": [
       "\n",
       "        $('span:contains(\"# Temp\")').closest('.cell').remove();\n",
       "        var code = IPython.notebook.insert_cell_below('code');\n",
       "        var prompt = code.element.find(\".input_prompt\");\n",
       "        prompt.append('<br><button style=\"height: 100%; width: 54px;\">Run</button>');\n",
       "        prompt.on(\"click\", \"button\", function(){\n",
       "            code.execute();\n",
       "        });\n",
       "        code.set_text(decodeURIComponent(window.atob(\"JTIzJTIwVGVtcCUwQWluc2VydCUyOCUyNyUyNyUyNyUwQXYlQzMlQjZsdGVyMjAxM2ElMjAlM0QlMjBEQiUyOFdvcmtVbnJlbGF0ZWQlMjglMEElMjAlMjAlMjAlMjAyMDEzJTJDJTIwJTIyTW9kZWwtZHJpdmVuJTIwc29mdHdhcmUlMjBkZXZlbG9wbWVudCUzQSUyMHRlY2hub2xvZ3klMkMlMjBlbmdpbmVlcmluZyUyQyUyMG1hbmFnZW1lbnQlMjIlMkMlMEElMjAlMjAlMjAlMjBkaXNwbGF5JTNEJTIydiVDMyVCNmx0ZXIlMjIlMkMlMEElMjAlMjAlMjAlMjBhdXRob3JzJTNEJTIyViVDMyVCNmx0ZXIlMkMlMjBNYXJrdXMlMjBhbmQlMjBTdGFobCUyQyUyMFRob21hcyUyMGFuZCUyMEJldHRpbiUyQyUyMEpvcm4lMjBhbmQlMjBIYWFzZSUyQyUyMEFybm8lMjBhbmQlMjBIZWxzZW4lMkMlMjBTaW1vbiUyMiUyQyUwQSUyMCUyMCUyMCUyMHBsYWNlJTNEQm9vayUyQyUwQSUyMCUyMCUyMCUyMGVudHJ5dHlwZSUzRCUyMmJvb2slMjIlMkMlMEElMjAlMjAlMjAlMjBwdWJsaXNoZXIlM0QlMjJKb2huJTIwV2lsZXklMjAlMjYlMjBTb25zJTIyJTJDJTBBJTIwJTIwJTIwJTIwSUQlM0QlMjJ2b2x0ZXIyMDEzbW9kZWwlMjIlMkMlMEElMjAlMjAlMjAlMjBzY2hvbGFyMjAxNiUzRCUyMjElMjIlMkMlMEElMjAlMjAlMjAlMjBwbGFjZXglM0QlMjIlMjIlMkMlMEElMjklMjklMEElMjclMjclMjclMjklM0I=\")));\n",
       "    "
      ],
      "text/plain": [
       "<IPython.core.display.Javascript object>"
      ]
     },
     "metadata": {},
     "output_type": "display_data"
    },
    {
     "data": {
      "application/javascript": [
       "$('span:contains(\"# Temp\")').closest('.cell').remove();"
      ],
      "text/plain": [
       "<IPython.core.display.Javascript object>"
      ]
     },
     "metadata": {},
     "output_type": "display_data"
    },
    {
     "data": {
      "application/javascript": [
       "\n",
       "        $('span:contains(\"# Temp\")').closest('.cell').remove();\n",
       "        var code = IPython.notebook.insert_cell_below('code');\n",
       "        var prompt = code.element.find(\".input_prompt\");\n",
       "        prompt.append('<br><button style=\"height: 100%; width: 54px;\">Run</button>');\n",
       "        prompt.on(\"click\", \"button\", function(){\n",
       "            code.execute();\n",
       "        });\n",
       "        code.set_text(decodeURIComponent(window.atob(\"JTIzJTIwVGVtcCUwQWluc2VydCUyOCUyNyUyNyUyNyUwQXYlQzMlQjZsdGVyMjAxM2ElMjAlM0QlMjBEQiUyOFdvcmtVbnJlbGF0ZWQlMjglMEElMjAlMjAlMjAlMjAyMDEzJTJDJTIwJTIyTW9kZWwtZHJpdmVuJTIwc29mdHdhcmUlMjBkZXZlbG9wbWVudCUzQSUyMHRlY2hub2xvZ3klMkMlMjBlbmdpbmVlcmluZyUyQyUyMG1hbmFnZW1lbnQlMjIlMkMlMEElMjAlMjAlMjAlMjBkaXNwbGF5JTNEJTIydiVDMyVCNmx0ZXIlMjIlMkMlMEElMjAlMjAlMjAlMjBhdXRob3JzJTNEJTIyViVDMyVCNmx0ZXIlMkMlMjBNYXJrdXMlMjBhbmQlMjBTdGFobCUyQyUyMFRob21hcyUyMGFuZCUyMEJldHRpbiUyQyUyMEpvcm4lMjBhbmQlMjBIYWFzZSUyQyUyMEFybm8lMjBhbmQlMjBIZWxzZW4lMkMlMjBTaW1vbiUyMiUyQyUwQSUyMCUyMCUyMCUyMHBsYWNlJTNEQm9vayUyQyUwQSUyMCUyMCUyMCUyMGVudHJ5dHlwZSUzRCUyMmJvb2slMjIlMkMlMEElMjAlMjAlMjAlMjBwdWJsaXNoZXIlM0QlMjJKb2huJTIwV2lsZXklMjAlMjYlMjBTb25zJTIyJTJDJTBBJTIwJTIwJTIwJTIwSUQlM0QlMjJ2b2x0ZXIyMDEzbW9kZWwlMjIlMkMlMEElMjAlMjAlMjAlMjBzY2hvbGFyMjAxNiUzRCUyMjElMjIlMkMlMEElMjAlMjAlMjAlMjBwbGFjZXglM0QlMjIlMjIlMkMlMEElMjklMjklMEElMjclMjclMjclMjklM0I=\")));\n",
       "    "
      ],
      "text/plain": [
       "<IPython.core.display.Javascript object>"
      ]
     },
     "metadata": {},
     "output_type": "display_data"
    },
    {
     "data": {
      "application/javascript": [
       "$('span:contains(\"# Temp\")').closest('.cell').remove();"
      ],
      "text/plain": [
       "<IPython.core.display.Javascript object>"
      ]
     },
     "metadata": {},
     "output_type": "display_data"
    },
    {
     "data": {
      "application/javascript": [
       "\n",
       "        $('span:contains(\"# Temp\")').closest('.cell').remove();\n",
       "        var code = IPython.notebook.insert_cell_below('code');\n",
       "        var prompt = code.element.find(\".input_prompt\");\n",
       "        prompt.append('<br><button style=\"height: 100%; width: 54px;\">Run</button>');\n",
       "        prompt.on(\"click\", \"button\", function(){\n",
       "            code.execute();\n",
       "        });\n",
       "        code.set_text(decodeURIComponent(window.atob(\"JTIzJTIwVGVtcCUwQWluc2VydCUyOCUyNyUyNyUyNyUwQWclQzMlQjNtZXoxOTk1YiUyMCUzRCUyMERCJTI4V29ya1VucmVsYXRlZCUyOCUwQSUyMCUyMCUyMCUyMDE5OTUlMkMlMjAlMjJTb21lJTIwaWRlYXMlMjBhbmQlMjBleGFtcGxlcyUyMHRvJTIwZXZhbHVhdGUlMjBvbnRvbG9naWVzJTIyJTJDJTBBJTIwJTIwJTIwJTIwZGlzcGxheSUzRCUyMmclQzMlQjNtZXolMjBiJTIyJTJDJTBBJTIwJTIwJTIwJTIwYXV0aG9ycyUzRCUyMkclQzMlQjNtZXotUCVDMyVBOXJleiUyQyUyMEFzdW5jaSVDMyVCM24lMjIlMkMlMEElMjAlMjAlMjAlMjBwbGFjZSUzREZBS0UlMkMlMEElMjAlMjAlMjAlMjBwcCUzRCUyMjI5OS0tMzA1JTIyJTJDJTBBJTIwJTIwJTIwJTIwZW50cnl0eXBlJTNEJTIyaW5wcm9jZWVkaW5ncyUyMiUyQyUwQSUyMCUyMCUyMCUyMG9yZ2FuaXphdGlvbiUzRCUyMklFRUUlMjIlMkMlMEElMjAlMjAlMjAlMjBJRCUzRCUyMmdvbWV6MTk5NXNvbWUlMjIlMkMlMEElMjAlMjAlMjAlMjBzY2hvbGFyMjAxNiUzRCUyMjElMjIlMkMlMEElMjAlMjAlMjAlMjBwbGFjZXglM0QlMjJBcnRpZmljaWFsJTIwSW50ZWxsaWdlbmNlJTIwZm9yJTIwQXBwbGljYXRpb25zJTJDJTIwMTk5NS4lMjBQcm9jZWVkaW5ncy4lMkMlMjAxMXRoJTIwQ29uZmVyZW5jZSUyMG9uJTIyJTJDJTBBJTI5JTI5JTBBJTI3JTI3JTI3JTI5JTNC\")));\n",
       "    "
      ],
      "text/plain": [
       "<IPython.core.display.Javascript object>"
      ]
     },
     "metadata": {},
     "output_type": "display_data"
    },
    {
     "data": {
      "application/javascript": [
       "$('span:contains(\"# Temp\")').closest('.cell').remove();"
      ],
      "text/plain": [
       "<IPython.core.display.Javascript object>"
      ]
     },
     "metadata": {},
     "output_type": "display_data"
    },
    {
     "data": {
      "application/javascript": [
       "\n",
       "        $('span:contains(\"# Temp\")').closest('.cell').remove();\n",
       "        var code = IPython.notebook.insert_cell_below('code');\n",
       "        var prompt = code.element.find(\".input_prompt\");\n",
       "        prompt.append('<br><button style=\"height: 100%; width: 54px;\">Run</button>');\n",
       "        prompt.on(\"click\", \"button\", function(){\n",
       "            code.execute();\n",
       "        });\n",
       "        code.set_text(decodeURIComponent(window.atob(\"JTIzJTIwVGVtcCUwQWluc2VydCUyOCUyNyUyNyUyNyUwQWclQzMlQjNtZXoxOTk1YiUyMCUzRCUyMERCJTI4V29ya1VucmVsYXRlZCUyOCUwQSUyMCUyMCUyMCUyMDE5OTUlMkMlMjAlMjJTb21lJTIwaWRlYXMlMjBhbmQlMjBleGFtcGxlcyUyMHRvJTIwZXZhbHVhdGUlMjBvbnRvbG9naWVzJTIyJTJDJTBBJTIwJTIwJTIwJTIwZGlzcGxheSUzRCUyMmclQzMlQjNtZXolMjBiJTIyJTJDJTBBJTIwJTIwJTIwJTIwYXV0aG9ycyUzRCUyMkclQzMlQjNtZXotUCVDMyVBOXJleiUyQyUyMEFzdW5jaSVDMyVCM24lMjIlMkMlMEElMjAlMjAlMjAlMjBwbGFjZSUzREZBS0UlMkMlMEElMjAlMjAlMjAlMjBwcCUzRCUyMjI5OS0tMzA1JTIyJTJDJTBBJTIwJTIwJTIwJTIwZW50cnl0eXBlJTNEJTIyaW5wcm9jZWVkaW5ncyUyMiUyQyUwQSUyMCUyMCUyMCUyMG9yZ2FuaXphdGlvbiUzRCUyMklFRUUlMjIlMkMlMEElMjAlMjAlMjAlMjBJRCUzRCUyMmdvbWV6MTk5NXNvbWUlMjIlMkMlMEElMjAlMjAlMjAlMjBzY2hvbGFyMjAxNiUzRCUyMjElMjIlMkMlMEElMjAlMjAlMjAlMjBwbGFjZXglM0QlMjJBcnRpZmljaWFsJTIwSW50ZWxsaWdlbmNlJTIwZm9yJTIwQXBwbGljYXRpb25zJTJDJTIwMTk5NS4lMjBQcm9jZWVkaW5ncy4lMkMlMjAxMXRoJTIwQ29uZmVyZW5jZSUyMG9uJTIyJTJDJTBBJTI5JTI5JTBBJTI3JTI3JTI3JTI5JTNC\")));\n",
       "    "
      ],
      "text/plain": [
       "<IPython.core.display.Javascript object>"
      ]
     },
     "metadata": {},
     "output_type": "display_data"
    },
    {
     "data": {
      "application/javascript": [
       "$('span:contains(\"# Temp\")').closest('.cell').remove();"
      ],
      "text/plain": [
       "<IPython.core.display.Javascript object>"
      ]
     },
     "metadata": {},
     "output_type": "display_data"
    },
    {
     "data": {
      "application/javascript": [
       "\n",
       "        $('span:contains(\"# Temp\")').closest('.cell').remove();\n",
       "        var code = IPython.notebook.insert_cell_below('code');\n",
       "        var prompt = code.element.find(\".input_prompt\");\n",
       "        prompt.append('<br><button style=\"height: 100%; width: 54px;\">Run</button>');\n",
       "        prompt.on(\"click\", \"button\", function(){\n",
       "            code.execute();\n",
       "        });\n",
       "        code.set_text(decodeURIComponent(window.atob(\"JTIzJTIwVGVtcCUwQWluc2VydCUyOCUyNyUyNyUyNyUwQWthaXlhMjAwNmElMjAlM0QlMjBEQiUyOFdvcmtVbnJlbGF0ZWQlMjglMEElMjAlMjAlMjAlMjAyMDA2JTJDJTIwJTIyVXNpbmclMjBkb21haW4lMjBvbnRvbG9neSUyMGFzJTIwZG9tYWluJTIwa25vd2xlZGdlJTIwZm9yJTIwcmVxdWlyZW1lbnRzJTIwZWxpY2l0YXRpb24lMjIlMkMlMEElMjAlMjAlMjAlMjBkaXNwbGF5JTNEJTIya2FpeWElMjIlMkMlMEElMjAlMjAlMjAlMjBhdXRob3JzJTNEJTIyS2FpeWElMkMlMjBIYXJ1aGlrbyUyMGFuZCUyMFNhZWtpJTJDJTIwTW90b3NoaSUyMiUyQyUwQSUyMCUyMCUyMCUyMHBsYWNlJTNERkFLRSUyQyUwQSUyMCUyMCUyMCUyMHBwJTNEJTIyMTg5LS0xOTglMjIlMkMlMEElMjAlMjAlMjAlMjBlbnRyeXR5cGUlM0QlMjJpbnByb2NlZWRpbmdzJTIyJTJDJTBBJTIwJTIwJTIwJTIwb3JnYW5pemF0aW9uJTNEJTIySUVFRSUyMiUyQyUwQSUyMCUyMCUyMCUyMElEJTNEJTIya2FpeWEyMDA2dXNpbmclMjIlMkMlMEElMjAlMjAlMjAlMjBzY2hvbGFyMjAxNiUzRCUyMjElMjIlMkMlMEElMjAlMjAlMjAlMjBwbGFjZXglM0QlMjJSZXF1aXJlbWVudHMlMjBFbmdpbmVlcmluZyUyQyUyMDE0dGglMjBJRUVFJTIwSW50ZXJuYXRpb25hbCUyMENvbmZlcmVuY2UlMjIlMkMlMEElMjklMjklMEElMjclMjclMjclMjklM0I=\")));\n",
       "    "
      ],
      "text/plain": [
       "<IPython.core.display.Javascript object>"
      ]
     },
     "metadata": {},
     "output_type": "display_data"
    },
    {
     "data": {
      "application/javascript": [
       "$('span:contains(\"# Temp\")').closest('.cell').remove();"
      ],
      "text/plain": [
       "<IPython.core.display.Javascript object>"
      ]
     },
     "metadata": {},
     "output_type": "display_data"
    },
    {
     "data": {
      "application/javascript": [
       "\n",
       "        $('span:contains(\"# Temp\")').closest('.cell').remove();\n",
       "        var code = IPython.notebook.insert_cell_below('code');\n",
       "        var prompt = code.element.find(\".input_prompt\");\n",
       "        prompt.append('<br><button style=\"height: 100%; width: 54px;\">Run</button>');\n",
       "        prompt.on(\"click\", \"button\", function(){\n",
       "            code.execute();\n",
       "        });\n",
       "        code.set_text(decodeURIComponent(window.atob(\"JTIzJTIwVGVtcCUwQWluc2VydCUyOCUyNyUyNyUyNyUwQWthaXlhMjAwNmElMjAlM0QlMjBEQiUyOFdvcmtVbnJlbGF0ZWQlMjglMEElMjAlMjAlMjAlMjAyMDA2JTJDJTIwJTIyVXNpbmclMjBkb21haW4lMjBvbnRvbG9neSUyMGFzJTIwZG9tYWluJTIwa25vd2xlZGdlJTIwZm9yJTIwcmVxdWlyZW1lbnRzJTIwZWxpY2l0YXRpb24lMjIlMkMlMEElMjAlMjAlMjAlMjBkaXNwbGF5JTNEJTIya2FpeWElMjIlMkMlMEElMjAlMjAlMjAlMjBhdXRob3JzJTNEJTIyS2FpeWElMkMlMjBIYXJ1aGlrbyUyMGFuZCUyMFNhZWtpJTJDJTIwTW90b3NoaSUyMiUyQyUwQSUyMCUyMCUyMCUyMHBsYWNlJTNERkFLRSUyQyUwQSUyMCUyMCUyMCUyMHBwJTNEJTIyMTg5LS0xOTglMjIlMkMlMEElMjAlMjAlMjAlMjBlbnRyeXR5cGUlM0QlMjJpbnByb2NlZWRpbmdzJTIyJTJDJTBBJTIwJTIwJTIwJTIwb3JnYW5pemF0aW9uJTNEJTIySUVFRSUyMiUyQyUwQSUyMCUyMCUyMCUyMElEJTNEJTIya2FpeWEyMDA2dXNpbmclMjIlMkMlMEElMjAlMjAlMjAlMjBzY2hvbGFyMjAxNiUzRCUyMjElMjIlMkMlMEElMjAlMjAlMjAlMjBwbGFjZXglM0QlMjJSZXF1aXJlbWVudHMlMjBFbmdpbmVlcmluZyUyQyUyMDE0dGglMjBJRUVFJTIwSW50ZXJuYXRpb25hbCUyMENvbmZlcmVuY2UlMjIlMkMlMEElMjklMjklMEElMjclMjclMjclMjklM0I=\")));\n",
       "    "
      ],
      "text/plain": [
       "<IPython.core.display.Javascript object>"
      ]
     },
     "metadata": {},
     "output_type": "display_data"
    },
    {
     "data": {
      "application/javascript": [
       "$('span:contains(\"# Temp\")').closest('.cell').remove();"
      ],
      "text/plain": [
       "<IPython.core.display.Javascript object>"
      ]
     },
     "metadata": {},
     "output_type": "display_data"
    },
    {
     "data": {
      "application/javascript": [
       "\n",
       "        $('span:contains(\"# Temp\")').closest('.cell').remove();\n",
       "        var code = IPython.notebook.insert_cell_below('code');\n",
       "        var prompt = code.element.find(\".input_prompt\");\n",
       "        prompt.append('<br><button style=\"height: 100%; width: 54px;\">Run</button>');\n",
       "        prompt.on(\"click\", \"button\", function(){\n",
       "            code.execute();\n",
       "        });\n",
       "        code.set_text(decodeURIComponent(window.atob(\"JTIzJTIwVGVtcCUwQWluc2VydCUyOCUyNyUyNyUyNyUwQWphbnNzZW4yMDA5YSUyMCUzRCUyMERCJTI4V29ya1VucmVsYXRlZCUyOCUwQSUyMCUyMCUyMCUyMDIwMDklMkMlMjAlMjJEZWZpbmluZyUyMGFzc2Vzc21lbnQlMjBwcm9qZWN0cyUyMGFuZCUyMHNjZW5hcmlvcyUyMGZvciUyMHBvbGljeSUyMHN1cHBvcnQlM0ElMjB1c2UlMjBvZiUyMG9udG9sb2d5JTIwaW4lMjBpbnRlZ3JhdGVkJTIwYXNzZXNzbWVudCUyMGFuZCUyMG1vZGVsbGluZyUyMiUyQyUwQSUyMCUyMCUyMCUyMGRpc3BsYXklM0QlMjJqYW5zc2VuJTIyJTJDJTBBJTIwJTIwJTIwJTIwYXV0aG9ycyUzRCUyMkphbnNzZW4lMkMlMjBTYW5kZXIlMjBhbmQlMjBFd2VydCUyQyUyMEZyYW5rJTIwYW5kJTIwTGklMkMlMjBIb25ndGFvJTIwYW5kJTIwQXRoYW5hc2lhZGlzJTJDJTIwSW9hbm5pcyUyME4lMjBhbmQlMjBXaWVuJTJDJTIwSkpGJTIwYW5kJTIwVGglQzMlQTlyb25kJTJDJTIwT2xpdmllciUyMGFuZCUyMEtuYXBlbiUyQyUyME1KUiUyMGFuZCUyMEJlemxlcGtpbmElMkMlMjBJJTIwYW5kJTIwQWxrYW4tT2xzc29uJTJDJTIwSm9oYW5uYSUyMGFuZCUyMFJpenpvbGklMkMlMjBBbmRyZWElMjBFbWlsaW8lMjBhbmQlMjBvdGhlcnMlMjIlMkMlMEElMjAlMjAlMjAlMjBwbGFjZSUzREZBS0UlMkMlMEElMjAlMjAlMjAlMjBwcCUzRCUyMjE0OTEtLTE1MDAlMjIlMkMlMEElMjAlMjAlMjAlMjBlbnRyeXR5cGUlM0QlMjJhcnRpY2xlJTIyJTJDJTBBJTIwJTIwJTIwJTIwdm9sdW1lJTNEJTIyMjQlMjIlMkMlMEElMjAlMjAlMjAlMjBudW1iZXIlM0QlMjIxMiUyMiUyQyUwQSUyMCUyMCUyMCUyMHB1Ymxpc2hlciUzRCUyMkVsc2V2aWVyJTIyJTJDJTBBJTIwJTIwJTIwJTIwSUQlM0QlMjJqYW5zc2VuMjAwOWRlZmluaW5nJTIyJTJDJTBBJTIwJTIwJTIwJTIwc2Nob2xhcjIwMTYlM0QlMjIxJTIyJTJDJTBBJTIwJTIwJTIwJTIwcGxhY2V4JTNEJTIyRW52aXJvbm1lbnRhbCUyME1vZGVsbGluZyUyMCUyNiUyMFNvZnR3YXJlJTIyJTJDJTBBJTI5JTI5JTBBJTI3JTI3JTI3JTI5JTNC\")));\n",
       "    "
      ],
      "text/plain": [
       "<IPython.core.display.Javascript object>"
      ]
     },
     "metadata": {},
     "output_type": "display_data"
    },
    {
     "data": {
      "application/javascript": [
       "$('span:contains(\"# Temp\")').closest('.cell').remove();"
      ],
      "text/plain": [
       "<IPython.core.display.Javascript object>"
      ]
     },
     "metadata": {},
     "output_type": "display_data"
    },
    {
     "data": {
      "application/javascript": [
       "\n",
       "        $('span:contains(\"# Temp\")').closest('.cell').remove();\n",
       "        var code = IPython.notebook.insert_cell_below('code');\n",
       "        var prompt = code.element.find(\".input_prompt\");\n",
       "        prompt.append('<br><button style=\"height: 100%; width: 54px;\">Run</button>');\n",
       "        prompt.on(\"click\", \"button\", function(){\n",
       "            code.execute();\n",
       "        });\n",
       "        code.set_text(decodeURIComponent(window.atob(\"JTIzJTIwVGVtcCUwQWluc2VydCUyOCUyNyUyNyUyNyUwQWphbnNzZW4yMDA5YSUyMCUzRCUyMERCJTI4V29ya1VucmVsYXRlZCUyOCUwQSUyMCUyMCUyMCUyMDIwMDklMkMlMjAlMjJEZWZpbmluZyUyMGFzc2Vzc21lbnQlMjBwcm9qZWN0cyUyMGFuZCUyMHNjZW5hcmlvcyUyMGZvciUyMHBvbGljeSUyMHN1cHBvcnQlM0ElMjB1c2UlMjBvZiUyMG9udG9sb2d5JTIwaW4lMjBpbnRlZ3JhdGVkJTIwYXNzZXNzbWVudCUyMGFuZCUyMG1vZGVsbGluZyUyMiUyQyUwQSUyMCUyMCUyMCUyMGRpc3BsYXklM0QlMjJqYW5zc2VuJTIyJTJDJTBBJTIwJTIwJTIwJTIwYXV0aG9ycyUzRCUyMkphbnNzZW4lMkMlMjBTYW5kZXIlMjBhbmQlMjBFd2VydCUyQyUyMEZyYW5rJTIwYW5kJTIwTGklMkMlMjBIb25ndGFvJTIwYW5kJTIwQXRoYW5hc2lhZGlzJTJDJTIwSW9hbm5pcyUyME4lMjBhbmQlMjBXaWVuJTJDJTIwSkpGJTIwYW5kJTIwVGglQzMlQTlyb25kJTJDJTIwT2xpdmllciUyMGFuZCUyMEtuYXBlbiUyQyUyME1KUiUyMGFuZCUyMEJlemxlcGtpbmElMkMlMjBJJTIwYW5kJTIwQWxrYW4tT2xzc29uJTJDJTIwSm9oYW5uYSUyMGFuZCUyMFJpenpvbGklMkMlMjBBbmRyZWElMjBFbWlsaW8lMjBhbmQlMjBvdGhlcnMlMjIlMkMlMEElMjAlMjAlMjAlMjBwbGFjZSUzREZBS0UlMkMlMEElMjAlMjAlMjAlMjBwcCUzRCUyMjE0OTEtLTE1MDAlMjIlMkMlMEElMjAlMjAlMjAlMjBlbnRyeXR5cGUlM0QlMjJhcnRpY2xlJTIyJTJDJTBBJTIwJTIwJTIwJTIwdm9sdW1lJTNEJTIyMjQlMjIlMkMlMEElMjAlMjAlMjAlMjBudW1iZXIlM0QlMjIxMiUyMiUyQyUwQSUyMCUyMCUyMCUyMHB1Ymxpc2hlciUzRCUyMkVsc2V2aWVyJTIyJTJDJTBBJTIwJTIwJTIwJTIwSUQlM0QlMjJqYW5zc2VuMjAwOWRlZmluaW5nJTIyJTJDJTBBJTIwJTIwJTIwJTIwc2Nob2xhcjIwMTYlM0QlMjIxJTIyJTJDJTBBJTIwJTIwJTIwJTIwcGxhY2V4JTNEJTIyRW52aXJvbm1lbnRhbCUyME1vZGVsbGluZyUyMCUyNiUyMFNvZnR3YXJlJTIyJTJDJTBBJTI5JTI5JTBBJTI3JTI3JTI3JTI5JTNC\")));\n",
       "    "
      ],
      "text/plain": [
       "<IPython.core.display.Javascript object>"
      ]
     },
     "metadata": {},
     "output_type": "display_data"
    },
    {
     "data": {
      "application/javascript": [
       "$('span:contains(\"# Temp\")').closest('.cell').remove();"
      ],
      "text/plain": [
       "<IPython.core.display.Javascript object>"
      ]
     },
     "metadata": {},
     "output_type": "display_data"
    },
    {
     "data": {
      "application/javascript": [
       "\n",
       "        $('span:contains(\"# Temp\")').closest('.cell').remove();\n",
       "        var code = IPython.notebook.insert_cell_below('code');\n",
       "        var prompt = code.element.find(\".input_prompt\");\n",
       "        prompt.append('<br><button style=\"height: 100%; width: 54px;\">Run</button>');\n",
       "        prompt.on(\"click\", \"button\", function(){\n",
       "            code.execute();\n",
       "        });\n",
       "        code.set_text(decodeURIComponent(window.atob(\"JTIzJTIwVGVtcCUwQWluc2VydCUyOCUyNyUyNyUyNyUwQXNjaHJlaWJlcjE5OTRhJTIwJTNEJTIwREIlMjhXb3JrVW5yZWxhdGVkJTI4JTBBJTIwJTIwJTIwJTIwMTk5NCUyQyUyMCUyMkNvbW1vbktBRFMlM0ElMjBBJTIwY29tcHJlaGVuc2l2ZSUyMG1ldGhvZG9sb2d5JTIwZm9yJTIwS0JTJTIwZGV2ZWxvcG1lbnQlMjIlMkMlMEElMjAlMjAlMjAlMjBkaXNwbGF5JTNEJTIyc2NocmVpYmVyJTIyJTJDJTBBJTIwJTIwJTIwJTIwYXV0aG9ycyUzRCUyMlNjaHJlaWJlciUyQyUyMEd1dXMlMjBhbmQlMjBXaWVsaW5nYSUyQyUyMEJvYiUyMGFuZCUyMGRlJTIwSG9vZyUyQyUyMFJvYmVydCUyMGFuZCUyMEFra2VybWFucyUyQyUyMEhhbnMlMjBhbmQlMjBWYW4lMjBkZSUyMFZlbGRlJTJDJTIwV2FsdGVyJTIyJTJDJTBBJTIwJTIwJTIwJTIwcGxhY2UlM0RGQUtFJTJDJTBBJTIwJTIwJTIwJTIwcHAlM0QlMjIyOC0tMzclMjIlMkMlMEElMjAlMjAlMjAlMjBlbnRyeXR5cGUlM0QlMjJhcnRpY2xlJTIyJTJDJTBBJTIwJTIwJTIwJTIwdm9sdW1lJTNEJTIyOSUyMiUyQyUwQSUyMCUyMCUyMCUyMG51bWJlciUzRCUyMjYlMjIlMkMlMEElMjAlMjAlMjAlMjBwdWJsaXNoZXIlM0QlMjJJRUVFJTIyJTJDJTBBJTIwJTIwJTIwJTIwSUQlM0QlMjJzY2hyZWliZXIxOTk0Y29tbW9ua2FkcyUyMiUyQyUwQSUyMCUyMCUyMCUyMHNjaG9sYXIyMDE2JTNEJTIyMSUyMiUyQyUwQSUyMCUyMCUyMCUyMHBsYWNleCUzRCUyMklFRUUlMjBleHBlcnQlMjIlMkMlMEElMjklMjklMEElMjclMjclMjclMjklM0I=\")));\n",
       "    "
      ],
      "text/plain": [
       "<IPython.core.display.Javascript object>"
      ]
     },
     "metadata": {},
     "output_type": "display_data"
    },
    {
     "data": {
      "application/javascript": [
       "$('span:contains(\"# Temp\")').closest('.cell').remove();"
      ],
      "text/plain": [
       "<IPython.core.display.Javascript object>"
      ]
     },
     "metadata": {},
     "output_type": "display_data"
    },
    {
     "data": {
      "application/javascript": [
       "\n",
       "        $('span:contains(\"# Temp\")').closest('.cell').remove();\n",
       "        var code = IPython.notebook.insert_cell_below('code');\n",
       "        var prompt = code.element.find(\".input_prompt\");\n",
       "        prompt.append('<br><button style=\"height: 100%; width: 54px;\">Run</button>');\n",
       "        prompt.on(\"click\", \"button\", function(){\n",
       "            code.execute();\n",
       "        });\n",
       "        code.set_text(decodeURIComponent(window.atob(\"JTIzJTIwVGVtcCUwQWluc2VydCUyOCUyNyUyNyUyNyUwQXNjaHJlaWJlcjE5OTRhJTIwJTNEJTIwREIlMjhXb3JrVW5yZWxhdGVkJTI4JTBBJTIwJTIwJTIwJTIwMTk5NCUyQyUyMCUyMkNvbW1vbktBRFMlM0ElMjBBJTIwY29tcHJlaGVuc2l2ZSUyMG1ldGhvZG9sb2d5JTIwZm9yJTIwS0JTJTIwZGV2ZWxvcG1lbnQlMjIlMkMlMEElMjAlMjAlMjAlMjBkaXNwbGF5JTNEJTIyc2NocmVpYmVyJTIyJTJDJTBBJTIwJTIwJTIwJTIwYXV0aG9ycyUzRCUyMlNjaHJlaWJlciUyQyUyMEd1dXMlMjBhbmQlMjBXaWVsaW5nYSUyQyUyMEJvYiUyMGFuZCUyMGRlJTIwSG9vZyUyQyUyMFJvYmVydCUyMGFuZCUyMEFra2VybWFucyUyQyUyMEhhbnMlMjBhbmQlMjBWYW4lMjBkZSUyMFZlbGRlJTJDJTIwV2FsdGVyJTIyJTJDJTBBJTIwJTIwJTIwJTIwcGxhY2UlM0RGQUtFJTJDJTBBJTIwJTIwJTIwJTIwcHAlM0QlMjIyOC0tMzclMjIlMkMlMEElMjAlMjAlMjAlMjBlbnRyeXR5cGUlM0QlMjJhcnRpY2xlJTIyJTJDJTBBJTIwJTIwJTIwJTIwdm9sdW1lJTNEJTIyOSUyMiUyQyUwQSUyMCUyMCUyMCUyMG51bWJlciUzRCUyMjYlMjIlMkMlMEElMjAlMjAlMjAlMjBwdWJsaXNoZXIlM0QlMjJJRUVFJTIyJTJDJTBBJTIwJTIwJTIwJTIwSUQlM0QlMjJzY2hyZWliZXIxOTk0Y29tbW9ua2FkcyUyMiUyQyUwQSUyMCUyMCUyMCUyMHNjaG9sYXIyMDE2JTNEJTIyMSUyMiUyQyUwQSUyMCUyMCUyMCUyMHBsYWNleCUzRCUyMklFRUUlMjBleHBlcnQlMjIlMkMlMEElMjklMjklMEElMjclMjclMjclMjklM0I=\")));\n",
       "    "
      ],
      "text/plain": [
       "<IPython.core.display.Javascript object>"
      ]
     },
     "metadata": {},
     "output_type": "display_data"
    },
    {
     "data": {
      "application/javascript": [
       "$('span:contains(\"# Temp\")').closest('.cell').remove();"
      ],
      "text/plain": [
       "<IPython.core.display.Javascript object>"
      ]
     },
     "metadata": {},
     "output_type": "display_data"
    },
    {
     "data": {
      "application/javascript": [
       "\n",
       "        $('span:contains(\"# Temp\")').closest('.cell').remove();\n",
       "        var code = IPython.notebook.insert_cell_below('code');\n",
       "        var prompt = code.element.find(\".input_prompt\");\n",
       "        prompt.append('<br><button style=\"height: 100%; width: 54px;\">Run</button>');\n",
       "        prompt.on(\"click\", \"button\", function(){\n",
       "            code.execute();\n",
       "        });\n",
       "        code.set_text(decodeURIComponent(window.atob(\"JTIzJTIwVGVtcCUwQWluc2VydCUyOCUyNyUyNyUyNyUwQWhvbHNhcHBsZTIwMDJhJTIwJTNEJTIwREIlMjhXb3JrVW5yZWxhdGVkJTI4JTBBJTIwJTIwJTIwJTIwMjAwMiUyQyUyMCUyMkElMjBjb2xsYWJvcmF0aXZlJTIwYXBwcm9hY2glMjB0byUyMG9udG9sb2d5JTIwZGVzaWduJTIyJTJDJTBBJTIwJTIwJTIwJTIwZGlzcGxheSUzRCUyMmhvbHNhcHBsZSUyMiUyQyUwQSUyMCUyMCUyMCUyMGF1dGhvcnMlM0QlMjJIb2xzYXBwbGUlMkMlMjBDbHlkZSUyMFclMjBhbmQlMjBKb3NoaSUyQyUyMEtzaGl0aSUyMEQlMjIlMkMlMEElMjAlMjAlMjAlMjBwbGFjZSUzRENBQ00lMkMlMEElMjAlMjAlMjAlMjBwcCUzRCUyMjQyLS00NyUyMiUyQyUwQSUyMCUyMCUyMCUyMGVudHJ5dHlwZSUzRCUyMmFydGljbGUlMjIlMkMlMEElMjAlMjAlMjAlMjB2b2x1bWUlM0QlMjI0NSUyMiUyQyUwQSUyMCUyMCUyMCUyMG51bWJlciUzRCUyMjIlMjIlMkMlMEElMjAlMjAlMjAlMjBwdWJsaXNoZXIlM0QlMjJBQ00lMjIlMkMlMEElMjAlMjAlMjAlMjBJRCUzRCUyMmhvbHNhcHBsZTIwMDJjb2xsYWJvcmF0aXZlJTIyJTJDJTBBJTIwJTIwJTIwJTIwc2Nob2xhcjIwMTYlM0QlMjIxJTIyJTJDJTBBJTIwJTIwJTIwJTIwcGxhY2V4JTNEJTIyQ29tbXVuaWNhdGlvbnMlMjBvZiUyMHRoZSUyMEFDTSUyMiUyQyUwQSUyOSUyOSUwQSUyNyUyNyUyNyUyOSUzQg==\")));\n",
       "    "
      ],
      "text/plain": [
       "<IPython.core.display.Javascript object>"
      ]
     },
     "metadata": {},
     "output_type": "display_data"
    },
    {
     "data": {
      "application/javascript": [
       "$('span:contains(\"# Temp\")').closest('.cell').remove();"
      ],
      "text/plain": [
       "<IPython.core.display.Javascript object>"
      ]
     },
     "metadata": {},
     "output_type": "display_data"
    },
    {
     "data": {
      "application/javascript": [
       "\n",
       "        $('span:contains(\"# Temp\")').closest('.cell').remove();\n",
       "        var code = IPython.notebook.insert_cell_below('code');\n",
       "        var prompt = code.element.find(\".input_prompt\");\n",
       "        prompt.append('<br><button style=\"height: 100%; width: 54px;\">Run</button>');\n",
       "        prompt.on(\"click\", \"button\", function(){\n",
       "            code.execute();\n",
       "        });\n",
       "        code.set_text(decodeURIComponent(window.atob(\"JTIzJTIwVGVtcCUwQWluc2VydCUyOCUyNyUyNyUyNyUwQWhvbHNhcHBsZTIwMDJhJTIwJTNEJTIwREIlMjhXb3JrVW5yZWxhdGVkJTI4JTBBJTIwJTIwJTIwJTIwMjAwMiUyQyUyMCUyMkElMjBjb2xsYWJvcmF0aXZlJTIwYXBwcm9hY2glMjB0byUyMG9udG9sb2d5JTIwZGVzaWduJTIyJTJDJTBBJTIwJTIwJTIwJTIwZGlzcGxheSUzRCUyMmhvbHNhcHBsZSUyMiUyQyUwQSUyMCUyMCUyMCUyMGF1dGhvcnMlM0QlMjJIb2xzYXBwbGUlMkMlMjBDbHlkZSUyMFclMjBhbmQlMjBKb3NoaSUyQyUyMEtzaGl0aSUyMEQlMjIlMkMlMEElMjAlMjAlMjAlMjBwbGFjZSUzRENBQ00lMkMlMEElMjAlMjAlMjAlMjBwcCUzRCUyMjQyLS00NyUyMiUyQyUwQSUyMCUyMCUyMCUyMGVudHJ5dHlwZSUzRCUyMmFydGljbGUlMjIlMkMlMEElMjAlMjAlMjAlMjB2b2x1bWUlM0QlMjI0NSUyMiUyQyUwQSUyMCUyMCUyMCUyMG51bWJlciUzRCUyMjIlMjIlMkMlMEElMjAlMjAlMjAlMjBwdWJsaXNoZXIlM0QlMjJBQ00lMjIlMkMlMEElMjAlMjAlMjAlMjBJRCUzRCUyMmhvbHNhcHBsZTIwMDJjb2xsYWJvcmF0aXZlJTIyJTJDJTBBJTIwJTIwJTIwJTIwc2Nob2xhcjIwMTYlM0QlMjIxJTIyJTJDJTBBJTIwJTIwJTIwJTIwcGxhY2V4JTNEJTIyQ29tbXVuaWNhdGlvbnMlMjBvZiUyMHRoZSUyMEFDTSUyMiUyQyUwQSUyOSUyOSUwQSUyNyUyNyUyNyUyOSUzQg==\")));\n",
       "    "
      ],
      "text/plain": [
       "<IPython.core.display.Javascript object>"
      ]
     },
     "metadata": {},
     "output_type": "display_data"
    },
    {
     "data": {
      "application/javascript": [
       "$('span:contains(\"# Temp\")').closest('.cell').remove();"
      ],
      "text/plain": [
       "<IPython.core.display.Javascript object>"
      ]
     },
     "metadata": {},
     "output_type": "display_data"
    },
    {
     "data": {
      "application/javascript": [
       "\n",
       "        $('span:contains(\"# Temp\")').closest('.cell').remove();\n",
       "        var code = IPython.notebook.insert_cell_below('code');\n",
       "        var prompt = code.element.find(\".input_prompt\");\n",
       "        prompt.append('<br><button style=\"height: 100%; width: 54px;\">Run</button>');\n",
       "        prompt.on(\"click\", \"button\", function(){\n",
       "            code.execute();\n",
       "        });\n",
       "        code.set_text(decodeURIComponent(window.atob(\"JTIzJTIwVGVtcCUwQWluc2VydCUyOCUyNyUyNyUyNyUwQWZsb3lkMTk5MmElMjAlM0QlMjBEQiUyOFdvcmtVbnJlbGF0ZWQlMjglMEElMjAlMjAlMjAlMjAxOTkyJTJDJTIwJTIyU29mdHdhcmUlMjBkZXZlbG9wbWVudCUyMGFzJTIwcmVhbGl0eSUyMGNvbnN0cnVjdGlvbiUyMiUyQyUwQSUyMCUyMCUyMCUyMGRpc3BsYXklM0QlMjJmbG95ZCUyMiUyQyUwQSUyMCUyMCUyMCUyMGF1dGhvcnMlM0QlMjJGbG95ZCUyQyUyMENocmlzdGlhbmUlMjIlMkMlMEElMjAlMjAlMjAlMjBwbGFjZSUzREZBS0UlMkMlMEElMjAlMjAlMjAlMjBwcCUzRCUyMjg2LS0xMDAlMjIlMkMlMEElMjAlMjAlMjAlMjBlbnRyeXR5cGUlM0QlMjJpbmNvbGxlY3Rpb24lMjIlMkMlMEElMjAlMjAlMjAlMjBwdWJsaXNoZXIlM0QlMjJTcHJpbmdlciUyMiUyQyUwQSUyMCUyMCUyMCUyMElEJTNEJTIyZmxveWQxOTkyc29mdHdhcmUlMjIlMkMlMEElMjAlMjAlMjAlMjBzY2hvbGFyMjAxNiUzRCUyMjElMjIlMkMlMEElMjAlMjAlMjAlMjBwbGFjZXglM0QlMjJTb2Z0d2FyZSUyMGRldmVsb3BtZW50JTIwYW5kJTIwcmVhbGl0eSUyMGNvbnN0cnVjdGlvbiUyMiUyQyUwQSUyOSUyOSUwQSUyNyUyNyUyNyUyOSUzQg==\")));\n",
       "    "
      ],
      "text/plain": [
       "<IPython.core.display.Javascript object>"
      ]
     },
     "metadata": {},
     "output_type": "display_data"
    },
    {
     "data": {
      "application/javascript": [
       "$('span:contains(\"# Temp\")').closest('.cell').remove();"
      ],
      "text/plain": [
       "<IPython.core.display.Javascript object>"
      ]
     },
     "metadata": {},
     "output_type": "display_data"
    },
    {
     "data": {
      "application/javascript": [
       "\n",
       "        $('span:contains(\"# Temp\")').closest('.cell').remove();\n",
       "        var code = IPython.notebook.insert_cell_below('code');\n",
       "        var prompt = code.element.find(\".input_prompt\");\n",
       "        prompt.append('<br><button style=\"height: 100%; width: 54px;\">Run</button>');\n",
       "        prompt.on(\"click\", \"button\", function(){\n",
       "            code.execute();\n",
       "        });\n",
       "        code.set_text(decodeURIComponent(window.atob(\"JTIzJTIwVGVtcCUwQWluc2VydCUyOCUyNyUyNyUyNyUwQWZsb3lkMTk5MmElMjAlM0QlMjBEQiUyOFdvcmtVbnJlbGF0ZWQlMjglMEElMjAlMjAlMjAlMjAxOTkyJTJDJTIwJTIyU29mdHdhcmUlMjBkZXZlbG9wbWVudCUyMGFzJTIwcmVhbGl0eSUyMGNvbnN0cnVjdGlvbiUyMiUyQyUwQSUyMCUyMCUyMCUyMGRpc3BsYXklM0QlMjJmbG95ZCUyMiUyQyUwQSUyMCUyMCUyMCUyMGF1dGhvcnMlM0QlMjJGbG95ZCUyQyUyMENocmlzdGlhbmUlMjIlMkMlMEElMjAlMjAlMjAlMjBwbGFjZSUzREZBS0UlMkMlMEElMjAlMjAlMjAlMjBwcCUzRCUyMjg2LS0xMDAlMjIlMkMlMEElMjAlMjAlMjAlMjBlbnRyeXR5cGUlM0QlMjJpbmNvbGxlY3Rpb24lMjIlMkMlMEElMjAlMjAlMjAlMjBwdWJsaXNoZXIlM0QlMjJTcHJpbmdlciUyMiUyQyUwQSUyMCUyMCUyMCUyMElEJTNEJTIyZmxveWQxOTkyc29mdHdhcmUlMjIlMkMlMEElMjAlMjAlMjAlMjBzY2hvbGFyMjAxNiUzRCUyMjElMjIlMkMlMEElMjAlMjAlMjAlMjBwbGFjZXglM0QlMjJTb2Z0d2FyZSUyMGRldmVsb3BtZW50JTIwYW5kJTIwcmVhbGl0eSUyMGNvbnN0cnVjdGlvbiUyMiUyQyUwQSUyOSUyOSUwQSUyNyUyNyUyNyUyOSUzQg==\")));\n",
       "    "
      ],
      "text/plain": [
       "<IPython.core.display.Javascript object>"
      ]
     },
     "metadata": {},
     "output_type": "display_data"
    },
    {
     "data": {
      "application/javascript": [
       "$('span:contains(\"# Temp\")').closest('.cell').remove();"
      ],
      "text/plain": [
       "<IPython.core.display.Javascript object>"
      ]
     },
     "metadata": {},
     "output_type": "display_data"
    },
    {
     "data": {
      "application/javascript": [
       "\n",
       "        $('span:contains(\"# Temp\")').closest('.cell').remove();\n",
       "        var code = IPython.notebook.insert_cell_below('code');\n",
       "        var prompt = code.element.find(\".input_prompt\");\n",
       "        prompt.append('<br><button style=\"height: 100%; width: 54px;\">Run</button>');\n",
       "        prompt.on(\"click\", \"button\", function(){\n",
       "            code.execute();\n",
       "        });\n",
       "        code.set_text(decodeURIComponent(window.atob(\"JTIzJTIwVGVtcCUwQWluc2VydCUyOCUyNyUyNyUyNyUyNyUyNyUyNyUyOSUzQiUwQXNldF9hdHRyaWJ1dGUlMjglMjdnYXplbDIwMTJhJTI3JTJDJTIwJTI3c2Nob2xhcjIwMTYlMjclMkMlMjAlMjcxJTI3JTI5JTNC\")));\n",
       "    "
      ],
      "text/plain": [
       "<IPython.core.display.Javascript object>"
      ]
     },
     "metadata": {},
     "output_type": "display_data"
    },
    {
     "data": {
      "application/javascript": [
       "$('span:contains(\"# Temp\")').closest('.cell').remove();"
      ],
      "text/plain": [
       "<IPython.core.display.Javascript object>"
      ]
     },
     "metadata": {},
     "output_type": "display_data"
    },
    {
     "data": {
      "application/javascript": [
       "\n",
       "        $('span:contains(\"# Temp\")').closest('.cell').remove();\n",
       "        var code = IPython.notebook.insert_cell_below('code');\n",
       "        var prompt = code.element.find(\".input_prompt\");\n",
       "        prompt.append('<br><button style=\"height: 100%; width: 54px;\">Run</button>');\n",
       "        prompt.on(\"click\", \"button\", function(){\n",
       "            code.execute();\n",
       "        });\n",
       "        code.set_text(decodeURIComponent(window.atob(\"JTIzJTIwVGVtcCUwQWluc2VydCUyOCUyNyUyNyUyNyUyNyUyNyUyNyUyOSUzQiUwQXNldF9hdHRyaWJ1dGUlMjglMjdnYXplbDIwMTJhJTI3JTJDJTIwJTI3c2Nob2xhcjIwMTYlMjclMkMlMjAlMjcxJTI3JTI5JTNC\")));\n",
       "    "
      ],
      "text/plain": [
       "<IPython.core.display.Javascript object>"
      ]
     },
     "metadata": {},
     "output_type": "display_data"
    },
    {
     "data": {
      "application/javascript": [
       "$('span:contains(\"# Temp\")').closest('.cell').remove();"
      ],
      "text/plain": [
       "<IPython.core.display.Javascript object>"
      ]
     },
     "metadata": {},
     "output_type": "display_data"
    },
    {
     "data": {
      "application/javascript": [
       "\n",
       "        $('span:contains(\"# Temp\")').closest('.cell').remove();\n",
       "        var code = IPython.notebook.insert_cell_below('code');\n",
       "        var prompt = code.element.find(\".input_prompt\");\n",
       "        prompt.append('<br><button style=\"height: 100%; width: 54px;\">Run</button>');\n",
       "        prompt.on(\"click\", \"button\", function(){\n",
       "            code.execute();\n",
       "        });\n",
       "        code.set_text(decodeURIComponent(window.atob(\"JTIzJTIwVGVtcCUwQWluc2VydCUyOCUyNyUyNyUyNyUwQWhlbmRlcnNvbjIwMTFiJTIwJTNEJTIwREIlMjhXb3JrVW5yZWxhdGVkJTI4JTBBJTIwJTIwJTIwJTIwMjAxMSUyQyUyMCUyMkJyaWRnaW5nJTIwbWV0YW1vZGVscyUyMGFuZCUyMG9udG9sb2dpZXMlMjBpbiUyMHNvZnR3YXJlJTIwZW5naW5lZXJpbmclMjIlMkMlMEElMjAlMjAlMjAlMjBkaXNwbGF5JTNEJTIyaGVuZGVyc29uJTIwYiUyMiUyQyUwQSUyMCUyMCUyMCUyMGF1dGhvcnMlM0QlMjJIZW5kZXJzb24tU2VsbGVycyUyQyUyMEJyaWFuJTIyJTJDJTBBJTIwJTIwJTIwJTIwcGxhY2UlM0RKU1MlMkMlMEElMjAlMjAlMjAlMjBwcCUzRCUyMjMwMS0tMzEzJTIyJTJDJTBBJTIwJTIwJTIwJTIwZW50cnl0eXBlJTNEJTIyYXJ0aWNsZSUyMiUyQyUwQSUyMCUyMCUyMCUyMHZvbHVtZSUzRCUyMjg0JTIyJTJDJTBBJTIwJTIwJTIwJTIwbnVtYmVyJTNEJTIyMiUyMiUyQyUwQSUyMCUyMCUyMCUyMHB1Ymxpc2hlciUzRCUyMkVsc2V2aWVyJTIyJTJDJTBBJTIwJTIwJTIwJTIwSUQlM0QlMjJoZW5kZXJzb24yMDExYnJpZGdpbmclMjIlMkMlMEElMjAlMjAlMjAlMjBzY2hvbGFyMjAxNiUzRCUyMjElMjIlMkMlMEElMjAlMjAlMjAlMjBwbGFjZXglM0QlMjJKb3VybmFsJTIwb2YlMjBTeXN0ZW1zJTIwYW5kJTIwU29mdHdhcmUlMjIlMkMlMEElMjklMjklMEElMjclMjclMjclMjklM0I=\")));\n",
       "    "
      ],
      "text/plain": [
       "<IPython.core.display.Javascript object>"
      ]
     },
     "metadata": {},
     "output_type": "display_data"
    },
    {
     "data": {
      "application/javascript": [
       "$('span:contains(\"# Temp\")').closest('.cell').remove();"
      ],
      "text/plain": [
       "<IPython.core.display.Javascript object>"
      ]
     },
     "metadata": {},
     "output_type": "display_data"
    },
    {
     "data": {
      "application/javascript": [
       "\n",
       "        $('span:contains(\"# Temp\")').closest('.cell').remove();\n",
       "        var code = IPython.notebook.insert_cell_below('code');\n",
       "        var prompt = code.element.find(\".input_prompt\");\n",
       "        prompt.append('<br><button style=\"height: 100%; width: 54px;\">Run</button>');\n",
       "        prompt.on(\"click\", \"button\", function(){\n",
       "            code.execute();\n",
       "        });\n",
       "        code.set_text(decodeURIComponent(window.atob(\"JTIzJTIwVGVtcCUwQWluc2VydCUyOCUyNyUyNyUyNyUwQWhlbmRlcnNvbjIwMTFiJTIwJTNEJTIwREIlMjhXb3JrVW5yZWxhdGVkJTI4JTBBJTIwJTIwJTIwJTIwMjAxMSUyQyUyMCUyMkJyaWRnaW5nJTIwbWV0YW1vZGVscyUyMGFuZCUyMG9udG9sb2dpZXMlMjBpbiUyMHNvZnR3YXJlJTIwZW5naW5lZXJpbmclMjIlMkMlMEElMjAlMjAlMjAlMjBkaXNwbGF5JTNEJTIyaGVuZGVyc29uJTIwYiUyMiUyQyUwQSUyMCUyMCUyMCUyMGF1dGhvcnMlM0QlMjJIZW5kZXJzb24tU2VsbGVycyUyQyUyMEJyaWFuJTIyJTJDJTBBJTIwJTIwJTIwJTIwcGxhY2UlM0RKU1MlMkMlMEElMjAlMjAlMjAlMjBwcCUzRCUyMjMwMS0tMzEzJTIyJTJDJTBBJTIwJTIwJTIwJTIwZW50cnl0eXBlJTNEJTIyYXJ0aWNsZSUyMiUyQyUwQSUyMCUyMCUyMCUyMHZvbHVtZSUzRCUyMjg0JTIyJTJDJTBBJTIwJTIwJTIwJTIwbnVtYmVyJTNEJTIyMiUyMiUyQyUwQSUyMCUyMCUyMCUyMHB1Ymxpc2hlciUzRCUyMkVsc2V2aWVyJTIyJTJDJTBBJTIwJTIwJTIwJTIwSUQlM0QlMjJoZW5kZXJzb24yMDExYnJpZGdpbmclMjIlMkMlMEElMjAlMjAlMjAlMjBzY2hvbGFyMjAxNiUzRCUyMjElMjIlMkMlMEElMjAlMjAlMjAlMjBwbGFjZXglM0QlMjJKb3VybmFsJTIwb2YlMjBTeXN0ZW1zJTIwYW5kJTIwU29mdHdhcmUlMjIlMkMlMEElMjklMjklMEElMjclMjclMjclMjklM0I=\")));\n",
       "    "
      ],
      "text/plain": [
       "<IPython.core.display.Javascript object>"
      ]
     },
     "metadata": {},
     "output_type": "display_data"
    },
    {
     "data": {
      "application/javascript": [
       "$('span:contains(\"# Temp\")').closest('.cell').remove();"
      ],
      "text/plain": [
       "<IPython.core.display.Javascript object>"
      ]
     },
     "metadata": {},
     "output_type": "display_data"
    },
    {
     "data": {
      "application/javascript": [
       "\n",
       "        $('span:contains(\"# Temp\")').closest('.cell').remove();\n",
       "        var code = IPython.notebook.insert_cell_below('code');\n",
       "        var prompt = code.element.find(\".input_prompt\");\n",
       "        prompt.append('<br><button style=\"height: 100%; width: 54px;\">Run</button>');\n",
       "        prompt.on(\"click\", \"button\", function(){\n",
       "            code.execute();\n",
       "        });\n",
       "        code.set_text(decodeURIComponent(window.atob(\"JTIzJTIwVGVtcCUwQWluc2VydCUyOCUyNyUyNyUyNyUwQXN1cmUyMDAyYSUyMCUzRCUyMERCJTI4V29ya1VucmVsYXRlZCUyOCUwQSUyMCUyMCUyMCUyMDIwMDIlMkMlMjAlMjJPbnRvRWRpdCUzQSUyMEd1aWRpbmclMjBvbnRvbG9neSUyMGRldmVsb3BtZW50JTIwYnklMjBtZXRob2RvbG9neSUyMGFuZCUyMGluZmVyZW5jaW5nJTIyJTJDJTBBJTIwJTIwJTIwJTIwZGlzcGxheSUzRCUyMnN1cmUlMjIlMkMlMEElMjAlMjAlMjAlMjBhdXRob3JzJTNEJTIyU3VyZSUyQyUyMFlvcmslMjBhbmQlMjBBbmdlbGUlMkMlMjBKJUMzJUJDcmdlbiUyMGFuZCUyMFN0YWFiJTJDJTIwU3RlZmZlbiUyMiUyQyUwQSUyMCUyMCUyMCUyMHBsYWNlJTNERkFLRSUyQyUwQSUyMCUyMCUyMCUyMHBwJTNEJTIyMTIwNS0tMTIyMiUyMiUyQyUwQSUyMCUyMCUyMCUyMGVudHJ5dHlwZSUzRCUyMmlucHJvY2VlZGluZ3MlMjIlMkMlMEElMjAlMjAlMjAlMjBvcmdhbml6YXRpb24lM0QlMjJTcHJpbmdlciUyMiUyQyUwQSUyMCUyMCUyMCUyMElEJTNEJTIyc3VyZTIwMDJvbnRvZWRpdCUyMiUyQyUwQSUyMCUyMCUyMCUyMHNjaG9sYXIyMDE2JTNEJTIyMSUyMiUyQyUwQSUyMCUyMCUyMCUyMHBsYWNleCUzRCUyMk9UTSUyMENvbmZlZGVyYXRlZCUyMEludGVybmF0aW9uYWwlMjBDb25mZXJlbmNlcyU1QyUyMiUyME9uJTIwdGhlJTIwTW92ZSUyMHRvJTIwTWVhbmluZ2Z1bCUyMEludGVybmV0JTIwU3lzdGVtcyU1QyUyMiUyMiUyQyUwQSUyOSUyOSUwQSUyNyUyNyUyNyUyOSUzQg==\")));\n",
       "    "
      ],
      "text/plain": [
       "<IPython.core.display.Javascript object>"
      ]
     },
     "metadata": {},
     "output_type": "display_data"
    },
    {
     "data": {
      "application/javascript": [
       "$('span:contains(\"# Temp\")').closest('.cell').remove();"
      ],
      "text/plain": [
       "<IPython.core.display.Javascript object>"
      ]
     },
     "metadata": {},
     "output_type": "display_data"
    },
    {
     "data": {
      "application/javascript": [
       "\n",
       "        $('span:contains(\"# Temp\")').closest('.cell').remove();\n",
       "        var code = IPython.notebook.insert_cell_below('code');\n",
       "        var prompt = code.element.find(\".input_prompt\");\n",
       "        prompt.append('<br><button style=\"height: 100%; width: 54px;\">Run</button>');\n",
       "        prompt.on(\"click\", \"button\", function(){\n",
       "            code.execute();\n",
       "        });\n",
       "        code.set_text(decodeURIComponent(window.atob(\"JTIzJTIwVGVtcCUwQWluc2VydCUyOCUyNyUyNyUyNyUwQXN1cmUyMDAyYSUyMCUzRCUyMERCJTI4V29ya1VucmVsYXRlZCUyOCUwQSUyMCUyMCUyMCUyMDIwMDIlMkMlMjAlMjJPbnRvRWRpdCUzQSUyMEd1aWRpbmclMjBvbnRvbG9neSUyMGRldmVsb3BtZW50JTIwYnklMjBtZXRob2RvbG9neSUyMGFuZCUyMGluZmVyZW5jaW5nJTIyJTJDJTBBJTIwJTIwJTIwJTIwZGlzcGxheSUzRCUyMnN1cmUlMjIlMkMlMEElMjAlMjAlMjAlMjBhdXRob3JzJTNEJTIyU3VyZSUyQyUyMFlvcmslMjBhbmQlMjBBbmdlbGUlMkMlMjBKJUMzJUJDcmdlbiUyMGFuZCUyMFN0YWFiJTJDJTIwU3RlZmZlbiUyMiUyQyUwQSUyMCUyMCUyMCUyMHBsYWNlJTNERkFLRSUyQyUwQSUyMCUyMCUyMCUyMHBwJTNEJTIyMTIwNS0tMTIyMiUyMiUyQyUwQSUyMCUyMCUyMCUyMGVudHJ5dHlwZSUzRCUyMmlucHJvY2VlZGluZ3MlMjIlMkMlMEElMjAlMjAlMjAlMjBvcmdhbml6YXRpb24lM0QlMjJTcHJpbmdlciUyMiUyQyUwQSUyMCUyMCUyMCUyMElEJTNEJTIyc3VyZTIwMDJvbnRvZWRpdCUyMiUyQyUwQSUyMCUyMCUyMCUyMHNjaG9sYXIyMDE2JTNEJTIyMSUyMiUyQyUwQSUyMCUyMCUyMCUyMHBsYWNleCUzRCUyMk9UTSUyMENvbmZlZGVyYXRlZCUyMEludGVybmF0aW9uYWwlMjBDb25mZXJlbmNlcyU1QyUyMiUyME9uJTIwdGhlJTIwTW92ZSUyMHRvJTIwTWVhbmluZ2Z1bCUyMEludGVybmV0JTIwU3lzdGVtcyU1QyUyMiUyMiUyQyUwQSUyOSUyOSUwQSUyNyUyNyUyNyUyOSUzQg==\")));\n",
       "    "
      ],
      "text/plain": [
       "<IPython.core.display.Javascript object>"
      ]
     },
     "metadata": {},
     "output_type": "display_data"
    },
    {
     "data": {
      "application/javascript": [
       "$('span:contains(\"# Temp\")').closest('.cell').remove();"
      ],
      "text/plain": [
       "<IPython.core.display.Javascript object>"
      ]
     },
     "metadata": {},
     "output_type": "display_data"
    },
    {
     "data": {
      "application/javascript": [
       "\n",
       "        $('span:contains(\"# Temp\")').closest('.cell').remove();\n",
       "        var code = IPython.notebook.insert_cell_below('code');\n",
       "        var prompt = code.element.find(\".input_prompt\");\n",
       "        prompt.append('<br><button style=\"height: 100%; width: 54px;\">Run</button>');\n",
       "        prompt.on(\"click\", \"button\", function(){\n",
       "            code.execute();\n",
       "        });\n",
       "        code.set_text(decodeURIComponent(window.atob(\"JTIzJTIwVGVtcCUwQWluc2VydCUyOCUyNyUyNyUyNyUwQWJlYWxlMjAwN2ElMjAlM0QlMjBEQiUyOFdvcmtVbnJlbGF0ZWQlMjglMEElMjAlMjAlMjAlMjAyMDA3JTJDJTIwJTIyQW4lMjBvbnRvbG9neS1iYXNlZCUyMG1vZGVsJTIwb2YlMjBjbGluaWNhbCUyMGluZm9ybWF0aW9uJTIyJTJDJTBBJTIwJTIwJTIwJTIwZGlzcGxheSUzRCUyMmJlYWxlJTIyJTJDJTBBJTIwJTIwJTIwJTIwYXV0aG9ycyUzRCUyMkJlYWxlJTJDJTIwVGhvbWFzJTIwYW5kJTIwSGVhcmQlMkMlMjBTYW0lMjBhbmQlMjBvdGhlcnMlMjIlMkMlMEElMjAlMjAlMjAlMjBwbGFjZSUzREZBS0UlMkMlMEElMjAlMjAlMjAlMjBwcCUzRCUyMjc2MCUyMiUyQyUwQSUyMCUyMCUyMCUyMGVudHJ5dHlwZSUzRCUyMmlucHJvY2VlZGluZ3MlMjIlMkMlMEElMjAlMjAlMjAlMjBvcmdhbml6YXRpb24lM0QlMjJJT1MlMjBQcmVzcyUyMiUyQyUwQSUyMCUyMCUyMCUyMElEJTNEJTIyYmVhbGUyMDA3b250b2xvZ3klMjIlMkMlMEElMjAlMjAlMjAlMjBzY2hvbGFyMjAxNiUzRCUyMjElMjIlMkMlMEElMjAlMjAlMjAlMjBwbGFjZXglM0QlMjJNZWRpbmZvJTIwMjAwNyUzQSUyMFByb2NlZWRpbmdzJTIwb2YlMjB0aGUlMjAxMnRoJTIwV29ybGQlMjBDb25ncmVzcyUyMG9uJTIwSGVhbHRoJTIwJTI4TWVkaWNhbCUyOSUyMEluZm9ybWF0aWNzJTNCJTIwQnVpbGRpbmclMjBTdXN0YWluYWJsZSUyMEhlYWx0aCUyMFN5c3RlbXMlMjIlMkMlMEElMjklMjklMEElMjclMjclMjclMjklM0I=\")));\n",
       "    "
      ],
      "text/plain": [
       "<IPython.core.display.Javascript object>"
      ]
     },
     "metadata": {},
     "output_type": "display_data"
    },
    {
     "data": {
      "application/javascript": [
       "$('span:contains(\"# Temp\")').closest('.cell').remove();"
      ],
      "text/plain": [
       "<IPython.core.display.Javascript object>"
      ]
     },
     "metadata": {},
     "output_type": "display_data"
    },
    {
     "data": {
      "application/javascript": [
       "\n",
       "        $('span:contains(\"# Temp\")').closest('.cell').remove();\n",
       "        var code = IPython.notebook.insert_cell_below('code');\n",
       "        var prompt = code.element.find(\".input_prompt\");\n",
       "        prompt.append('<br><button style=\"height: 100%; width: 54px;\">Run</button>');\n",
       "        prompt.on(\"click\", \"button\", function(){\n",
       "            code.execute();\n",
       "        });\n",
       "        code.set_text(decodeURIComponent(window.atob(\"JTIzJTIwVGVtcCUwQWluc2VydCUyOCUyNyUyNyUyNyUwQWJlYWxlMjAwN2ElMjAlM0QlMjBEQiUyOFdvcmtVbnJlbGF0ZWQlMjglMEElMjAlMjAlMjAlMjAyMDA3JTJDJTIwJTIyQW4lMjBvbnRvbG9neS1iYXNlZCUyMG1vZGVsJTIwb2YlMjBjbGluaWNhbCUyMGluZm9ybWF0aW9uJTIyJTJDJTBBJTIwJTIwJTIwJTIwZGlzcGxheSUzRCUyMmJlYWxlJTIyJTJDJTBBJTIwJTIwJTIwJTIwYXV0aG9ycyUzRCUyMkJlYWxlJTJDJTIwVGhvbWFzJTIwYW5kJTIwSGVhcmQlMkMlMjBTYW0lMjBhbmQlMjBvdGhlcnMlMjIlMkMlMEElMjAlMjAlMjAlMjBwbGFjZSUzREZBS0UlMkMlMEElMjAlMjAlMjAlMjBwcCUzRCUyMjc2MCUyMiUyQyUwQSUyMCUyMCUyMCUyMGVudHJ5dHlwZSUzRCUyMmlucHJvY2VlZGluZ3MlMjIlMkMlMEElMjAlMjAlMjAlMjBvcmdhbml6YXRpb24lM0QlMjJJT1MlMjBQcmVzcyUyMiUyQyUwQSUyMCUyMCUyMCUyMElEJTNEJTIyYmVhbGUyMDA3b250b2xvZ3klMjIlMkMlMEElMjAlMjAlMjAlMjBzY2hvbGFyMjAxNiUzRCUyMjElMjIlMkMlMEElMjAlMjAlMjAlMjBwbGFjZXglM0QlMjJNZWRpbmZvJTIwMjAwNyUzQSUyMFByb2NlZWRpbmdzJTIwb2YlMjB0aGUlMjAxMnRoJTIwV29ybGQlMjBDb25ncmVzcyUyMG9uJTIwSGVhbHRoJTIwJTI4TWVkaWNhbCUyOSUyMEluZm9ybWF0aWNzJTNCJTIwQnVpbGRpbmclMjBTdXN0YWluYWJsZSUyMEhlYWx0aCUyMFN5c3RlbXMlMjIlMkMlMEElMjklMjklMEElMjclMjclMjclMjklM0I=\")));\n",
       "    "
      ],
      "text/plain": [
       "<IPython.core.display.Javascript object>"
      ]
     },
     "metadata": {},
     "output_type": "display_data"
    },
    {
     "data": {
      "application/javascript": [
       "$('span:contains(\"# Temp\")').closest('.cell').remove();"
      ],
      "text/plain": [
       "<IPython.core.display.Javascript object>"
      ]
     },
     "metadata": {},
     "output_type": "display_data"
    },
    {
     "data": {
      "application/javascript": [
       "\n",
       "        $('span:contains(\"# Temp\")').closest('.cell').remove();\n",
       "        var code = IPython.notebook.insert_cell_below('code');\n",
       "        var prompt = code.element.find(\".input_prompt\");\n",
       "        prompt.append('<br><button style=\"height: 100%; width: 54px;\">Run</button>');\n",
       "        prompt.on(\"click\", \"button\", function(){\n",
       "            code.execute();\n",
       "        });\n",
       "        code.set_text(decodeURIComponent(window.atob(\"JTIzJTIwVGVtcCUwQWluc2VydCUyOCUyNyUyNyUyNyUwQW5lY2hlczE5OTFhJTIwJTNEJTIwREIlMjhXb3JrVW5yZWxhdGVkJTI4JTBBJTIwJTIwJTIwJTIwMTk5MSUyQyUyMCUyMkVuYWJsaW5nJTIwdGVjaG5vbG9neSUyMGZvciUyMGtub3dsZWRnZSUyMHNoYXJpbmclMjIlMkMlMEElMjAlMjAlMjAlMjBkaXNwbGF5JTNEJTIybmVjaGVzJTIyJTJDJTBBJTIwJTIwJTIwJTIwYXV0aG9ycyUzRCUyMk5lY2hlcyUyQyUyMFJvYmVydCUyMGFuZCUyMEZpa2VzJTJDJTIwUmljaGFyZCUyMEUlMjBhbmQlMjBGaW5pbiUyQyUyMFRpbSUyMGFuZCUyMEdydWJlciUyQyUyMFRob21hcyUyMGFuZCUyMFBhdGlsJTJDJTIwUmFtZXNoJTIwYW5kJTIwU2VuYXRvciUyQyUyMFRlZCUyMGFuZCUyMFN3YXJ0b3V0JTJDJTIwV2lsbGlhbSUyMFIlMjIlMkMlMEElMjAlMjAlMjAlMjBwbGFjZSUzREZBS0UlMkMlMEElMjAlMjAlMjAlMjBwcCUzRCUyMjM2JTIyJTJDJTBBJTIwJTIwJTIwJTIwZW50cnl0eXBlJTNEJTIyYXJ0aWNsZSUyMiUyQyUwQSUyMCUyMCUyMCUyMHZvbHVtZSUzRCUyMjEyJTIyJTJDJTBBJTIwJTIwJTIwJTIwbnVtYmVyJTNEJTIyMyUyMiUyQyUwQSUyMCUyMCUyMCUyMElEJTNEJTIybmVjaGVzMTk5MWVuYWJsaW5nJTIyJTJDJTBBJTIwJTIwJTIwJTIwc2Nob2xhcjIwMTYlM0QlMjIxJTIyJTJDJTBBJTIwJTIwJTIwJTIwcGxhY2V4JTNEJTIyQUklMjBtYWdhemluZSUyMiUyQyUwQSUyOSUyOSUwQSUyNyUyNyUyNyUyOSUzQg==\")));\n",
       "    "
      ],
      "text/plain": [
       "<IPython.core.display.Javascript object>"
      ]
     },
     "metadata": {},
     "output_type": "display_data"
    },
    {
     "data": {
      "application/javascript": [
       "$('span:contains(\"# Temp\")').closest('.cell').remove();"
      ],
      "text/plain": [
       "<IPython.core.display.Javascript object>"
      ]
     },
     "metadata": {},
     "output_type": "display_data"
    },
    {
     "data": {
      "application/javascript": [
       "\n",
       "        $('span:contains(\"# Temp\")').closest('.cell').remove();\n",
       "        var code = IPython.notebook.insert_cell_below('code');\n",
       "        var prompt = code.element.find(\".input_prompt\");\n",
       "        prompt.append('<br><button style=\"height: 100%; width: 54px;\">Run</button>');\n",
       "        prompt.on(\"click\", \"button\", function(){\n",
       "            code.execute();\n",
       "        });\n",
       "        code.set_text(decodeURIComponent(window.atob(\"JTIzJTIwVGVtcCUwQWluc2VydCUyOCUyNyUyNyUyNyUwQW5lY2hlczE5OTFhJTIwJTNEJTIwREIlMjhXb3JrVW5yZWxhdGVkJTI4JTBBJTIwJTIwJTIwJTIwMTk5MSUyQyUyMCUyMkVuYWJsaW5nJTIwdGVjaG5vbG9neSUyMGZvciUyMGtub3dsZWRnZSUyMHNoYXJpbmclMjIlMkMlMEElMjAlMjAlMjAlMjBkaXNwbGF5JTNEJTIybmVjaGVzJTIyJTJDJTBBJTIwJTIwJTIwJTIwYXV0aG9ycyUzRCUyMk5lY2hlcyUyQyUyMFJvYmVydCUyMGFuZCUyMEZpa2VzJTJDJTIwUmljaGFyZCUyMEUlMjBhbmQlMjBGaW5pbiUyQyUyMFRpbSUyMGFuZCUyMEdydWJlciUyQyUyMFRob21hcyUyMGFuZCUyMFBhdGlsJTJDJTIwUmFtZXNoJTIwYW5kJTIwU2VuYXRvciUyQyUyMFRlZCUyMGFuZCUyMFN3YXJ0b3V0JTJDJTIwV2lsbGlhbSUyMFIlMjIlMkMlMEElMjAlMjAlMjAlMjBwbGFjZSUzREZBS0UlMkMlMEElMjAlMjAlMjAlMjBwcCUzRCUyMjM2JTIyJTJDJTBBJTIwJTIwJTIwJTIwZW50cnl0eXBlJTNEJTIyYXJ0aWNsZSUyMiUyQyUwQSUyMCUyMCUyMCUyMHZvbHVtZSUzRCUyMjEyJTIyJTJDJTBBJTIwJTIwJTIwJTIwbnVtYmVyJTNEJTIyMyUyMiUyQyUwQSUyMCUyMCUyMCUyMElEJTNEJTIybmVjaGVzMTk5MWVuYWJsaW5nJTIyJTJDJTBBJTIwJTIwJTIwJTIwc2Nob2xhcjIwMTYlM0QlMjIxJTIyJTJDJTBBJTIwJTIwJTIwJTIwcGxhY2V4JTNEJTIyQUklMjBtYWdhemluZSUyMiUyQyUwQSUyOSUyOSUwQSUyNyUyNyUyNyUyOSUzQg==\")));\n",
       "    "
      ],
      "text/plain": [
       "<IPython.core.display.Javascript object>"
      ]
     },
     "metadata": {},
     "output_type": "display_data"
    },
    {
     "data": {
      "application/javascript": [
       "$('span:contains(\"# Temp\")').closest('.cell').remove();"
      ],
      "text/plain": [
       "<IPython.core.display.Javascript object>"
      ]
     },
     "metadata": {},
     "output_type": "display_data"
    },
    {
     "data": {
      "application/javascript": [
       "\n",
       "        $('span:contains(\"# Temp\")').closest('.cell').remove();\n",
       "        var code = IPython.notebook.insert_cell_below('code');\n",
       "        var prompt = code.element.find(\".input_prompt\");\n",
       "        prompt.append('<br><button style=\"height: 100%; width: 54px;\">Run</button>');\n",
       "        prompt.on(\"click\", \"button\", function(){\n",
       "            code.execute();\n",
       "        });\n",
       "        code.set_text(decodeURIComponent(window.atob(\"JTIzJTIwVGVtcCUwQWluc2VydCUyOCUyNyUyNyUyNyUwQWxsaW5hczIwMDRhJTIwJTNEJTIwREIlMjhXb3JrVW5yZWxhdGVkJTI4JTBBJTIwJTIwJTIwJTIwMjAwNCUyQyUyMCUyMlJldmlzaXRpbmclMjB0aGUlMjBKREwlMjBkYXRhJTIwZnVzaW9uJTIwbW9kZWwlMjBJSSUyMiUyQyUwQSUyMCUyMCUyMCUyMGRpc3BsYXklM0QlMjJsbGluYXMlMjIlMkMlMEElMjAlMjAlMjAlMjBhdXRob3JzJTNEJTIyTGxpbmFzJTJDJTIwSmFtZXMlMjBhbmQlMjBCb3dtYW4lMkMlMjBDaHJpc3RvcGhlciUyMGFuZCUyMFJvZ292YSUyQyUyMEdhbGluYSUyMGFuZCUyMFN0ZWluYmVyZyUyQyUyMEFsYW4lMjBhbmQlMjBXYWx0eiUyQyUyMEVkJTIwYW5kJTIwV2hpdGUlMkMlMjBGcmFuayUyMiUyQyUwQSUyMCUyMCUyMCUyMHBsYWNlJTNEVGVjaFJlcG9ydCUyQyUwQSUyMCUyMCUyMCUyMGVudHJ5dHlwZSUzRCUyMnRlY2hyZXBvcnQlMjIlMkMlMEElMjAlMjAlMjAlMjBpbnN0aXR1dGlvbiUzRCUyMlNQQUNFJTIwQU5EJTIwTkFWQUwlMjBXQVJGQVJFJTIwU1lTVEVNUyUyMENPTU1BTkQlMjBTQU4lMjBESUVHTyUyMENBJTIyJTJDJTBBJTIwJTIwJTIwJTIwSUQlM0QlMjJsbGluYXMyMDA0cmV2aXNpdGluZyUyMiUyQyUwQSUyMCUyMCUyMCUyMHNjaG9sYXIyMDE2JTNEJTIyMSUyMiUyQyUwQSUyMCUyMCUyMCUyMHBsYWNleCUzRCUyMiUyMiUyQyUwQSUyOSUyOSUwQSUyNyUyNyUyNyUyOSUzQg==\")));\n",
       "    "
      ],
      "text/plain": [
       "<IPython.core.display.Javascript object>"
      ]
     },
     "metadata": {},
     "output_type": "display_data"
    },
    {
     "data": {
      "application/javascript": [
       "$('span:contains(\"# Temp\")').closest('.cell').remove();"
      ],
      "text/plain": [
       "<IPython.core.display.Javascript object>"
      ]
     },
     "metadata": {},
     "output_type": "display_data"
    },
    {
     "data": {
      "application/javascript": [
       "\n",
       "        $('span:contains(\"# Temp\")').closest('.cell').remove();\n",
       "        var code = IPython.notebook.insert_cell_below('code');\n",
       "        var prompt = code.element.find(\".input_prompt\");\n",
       "        prompt.append('<br><button style=\"height: 100%; width: 54px;\">Run</button>');\n",
       "        prompt.on(\"click\", \"button\", function(){\n",
       "            code.execute();\n",
       "        });\n",
       "        code.set_text(decodeURIComponent(window.atob(\"JTIzJTIwVGVtcCUwQWluc2VydCUyOCUyNyUyNyUyNyUwQWxsaW5hczIwMDRhJTIwJTNEJTIwREIlMjhXb3JrVW5yZWxhdGVkJTI4JTBBJTIwJTIwJTIwJTIwMjAwNCUyQyUyMCUyMlJldmlzaXRpbmclMjB0aGUlMjBKREwlMjBkYXRhJTIwZnVzaW9uJTIwbW9kZWwlMjBJSSUyMiUyQyUwQSUyMCUyMCUyMCUyMGRpc3BsYXklM0QlMjJsbGluYXMlMjIlMkMlMEElMjAlMjAlMjAlMjBhdXRob3JzJTNEJTIyTGxpbmFzJTJDJTIwSmFtZXMlMjBhbmQlMjBCb3dtYW4lMkMlMjBDaHJpc3RvcGhlciUyMGFuZCUyMFJvZ292YSUyQyUyMEdhbGluYSUyMGFuZCUyMFN0ZWluYmVyZyUyQyUyMEFsYW4lMjBhbmQlMjBXYWx0eiUyQyUyMEVkJTIwYW5kJTIwV2hpdGUlMkMlMjBGcmFuayUyMiUyQyUwQSUyMCUyMCUyMCUyMHBsYWNlJTNEVGVjaFJlcG9ydCUyQyUwQSUyMCUyMCUyMCUyMGVudHJ5dHlwZSUzRCUyMnRlY2hyZXBvcnQlMjIlMkMlMEElMjAlMjAlMjAlMjBpbnN0aXR1dGlvbiUzRCUyMlNQQUNFJTIwQU5EJTIwTkFWQUwlMjBXQVJGQVJFJTIwU1lTVEVNUyUyMENPTU1BTkQlMjBTQU4lMjBESUVHTyUyMENBJTIyJTJDJTBBJTIwJTIwJTIwJTIwSUQlM0QlMjJsbGluYXMyMDA0cmV2aXNpdGluZyUyMiUyQyUwQSUyMCUyMCUyMCUyMHNjaG9sYXIyMDE2JTNEJTIyMSUyMiUyQyUwQSUyMCUyMCUyMCUyMHBsYWNleCUzRCUyMiUyMiUyQyUwQSUyOSUyOSUwQSUyNyUyNyUyNyUyOSUzQg==\")));\n",
       "    "
      ],
      "text/plain": [
       "<IPython.core.display.Javascript object>"
      ]
     },
     "metadata": {},
     "output_type": "display_data"
    },
    {
     "data": {
      "application/javascript": [
       "$('span:contains(\"# Temp\")').closest('.cell').remove();"
      ],
      "text/plain": [
       "<IPython.core.display.Javascript object>"
      ]
     },
     "metadata": {},
     "output_type": "display_data"
    },
    {
     "data": {
      "application/javascript": [
       "\n",
       "        $('span:contains(\"# Temp\")').closest('.cell').remove();\n",
       "        var code = IPython.notebook.insert_cell_below('code');\n",
       "        var prompt = code.element.find(\".input_prompt\");\n",
       "        prompt.append('<br><button style=\"height: 100%; width: 54px;\">Run</button>');\n",
       "        prompt.on(\"click\", \"button\", function(){\n",
       "            code.execute();\n",
       "        });\n",
       "        code.set_text(decodeURIComponent(window.atob(\"JTIzJTIwVGVtcCUwQWluc2VydCUyOCUyNyUyNyUyNyUwQXRyYXZhc3NvczIwMDhhJTIwJTNEJTIwREIlMjhXb3JrVW5yZWxhdGVkJTI4JTBBJTIwJTIwJTIwJTIwMjAwOCUyQyUyMCUyMkFuJTIwZW52aXJvbm1lbnQlMjB0byUyMHN1cHBvcnQlMjBsYXJnZSUyMHNjYWxlJTIwZXhwZXJpbWVudGF0aW9uJTIwaW4lMjBzb2Z0d2FyZSUyMGVuZ2luZWVyaW5nJTIyJTJDJTBBJTIwJTIwJTIwJTIwZGlzcGxheSUzRCUyMnRyYXZhc3NvcyUyMiUyQyUwQSUyMCUyMCUyMCUyMGF1dGhvcnMlM0QlMjJUcmF2YXNzb3MlMkMlMjBHdWlsaGVybWUlMjBIJTIwYW5kJTIwZG9zJTIwU2FudG9zJTJDJTIwUGF1bG8lMjBTJUMzJUE5cmdpbyUyME1lZGVpcm9zJTIwYW5kJTIwTWlhbiUyQyUyMFBhdWxhJTIwR29tZXMlMjBhbmQlMjBOZXRvJTJDJTIwQXJpbG8lMjBDbCVDMyVBMXVkaW8lMjBEaWFzJTIwYW5kJTIwQmlvbGNoaW5pJTJDJTIwSm9yZ2UlMjIlMkMlMEElMjAlMjAlMjAlMjBwbGFjZSUzREZBS0UlMkMlMEElMjAlMjAlMjAlMjBwcCUzRCUyMjE5My0tMjAyJTIyJTJDJTBBJTIwJTIwJTIwJTIwZW50cnl0eXBlJTNEJTIyaW5wcm9jZWVkaW5ncyUyMiUyQyUwQSUyMCUyMCUyMCUyMG9yZ2FuaXphdGlvbiUzRCUyMklFRUUlMjIlMkMlMEElMjAlMjAlMjAlMjBJRCUzRCUyMnRyYXZhc3NvczIwMDhlbnZpcm9ubWVudCUyMiUyQyUwQSUyMCUyMCUyMCUyMHNjaG9sYXIyMDE2JTNEJTIyMSUyMiUyQyUwQSUyMCUyMCUyMCUyMHBsYWNleCUzRCUyMkVuZ2luZWVyaW5nJTIwb2YlMjBDb21wbGV4JTIwQ29tcHV0ZXIlMjBTeXN0ZW1zJTJDJTIwMjAwOC4lMjBJQ0VDQ1MlMjAyMDA4LiUyMDEzdGglMjBJRUVFJTIwSW50ZXJuYXRpb25hbCUyMENvbmZlcmVuY2UlMjBvbiUyMiUyQyUwQSUyOSUyOSUwQSUyNyUyNyUyNyUyOSUzQg==\")));\n",
       "    "
      ],
      "text/plain": [
       "<IPython.core.display.Javascript object>"
      ]
     },
     "metadata": {},
     "output_type": "display_data"
    },
    {
     "data": {
      "application/javascript": [
       "$('span:contains(\"# Temp\")').closest('.cell').remove();"
      ],
      "text/plain": [
       "<IPython.core.display.Javascript object>"
      ]
     },
     "metadata": {},
     "output_type": "display_data"
    },
    {
     "data": {
      "application/javascript": [
       "\n",
       "        $('span:contains(\"# Temp\")').closest('.cell').remove();\n",
       "        var code = IPython.notebook.insert_cell_below('code');\n",
       "        var prompt = code.element.find(\".input_prompt\");\n",
       "        prompt.append('<br><button style=\"height: 100%; width: 54px;\">Run</button>');\n",
       "        prompt.on(\"click\", \"button\", function(){\n",
       "            code.execute();\n",
       "        });\n",
       "        code.set_text(decodeURIComponent(window.atob(\"JTIzJTIwVGVtcCUwQWluc2VydCUyOCUyNyUyNyUyNyUwQXRyYXZhc3NvczIwMDhhJTIwJTNEJTIwREIlMjhXb3JrVW5yZWxhdGVkJTI4JTBBJTIwJTIwJTIwJTIwMjAwOCUyQyUyMCUyMkFuJTIwZW52aXJvbm1lbnQlMjB0byUyMHN1cHBvcnQlMjBsYXJnZSUyMHNjYWxlJTIwZXhwZXJpbWVudGF0aW9uJTIwaW4lMjBzb2Z0d2FyZSUyMGVuZ2luZWVyaW5nJTIyJTJDJTBBJTIwJTIwJTIwJTIwZGlzcGxheSUzRCUyMnRyYXZhc3NvcyUyMiUyQyUwQSUyMCUyMCUyMCUyMGF1dGhvcnMlM0QlMjJUcmF2YXNzb3MlMkMlMjBHdWlsaGVybWUlMjBIJTIwYW5kJTIwZG9zJTIwU2FudG9zJTJDJTIwUGF1bG8lMjBTJUMzJUE5cmdpbyUyME1lZGVpcm9zJTIwYW5kJTIwTWlhbiUyQyUyMFBhdWxhJTIwR29tZXMlMjBhbmQlMjBOZXRvJTJDJTIwQXJpbG8lMjBDbCVDMyVBMXVkaW8lMjBEaWFzJTIwYW5kJTIwQmlvbGNoaW5pJTJDJTIwSm9yZ2UlMjIlMkMlMEElMjAlMjAlMjAlMjBwbGFjZSUzREZBS0UlMkMlMEElMjAlMjAlMjAlMjBwcCUzRCUyMjE5My0tMjAyJTIyJTJDJTBBJTIwJTIwJTIwJTIwZW50cnl0eXBlJTNEJTIyaW5wcm9jZWVkaW5ncyUyMiUyQyUwQSUyMCUyMCUyMCUyMG9yZ2FuaXphdGlvbiUzRCUyMklFRUUlMjIlMkMlMEElMjAlMjAlMjAlMjBJRCUzRCUyMnRyYXZhc3NvczIwMDhlbnZpcm9ubWVudCUyMiUyQyUwQSUyMCUyMCUyMCUyMHNjaG9sYXIyMDE2JTNEJTIyMSUyMiUyQyUwQSUyMCUyMCUyMCUyMHBsYWNleCUzRCUyMkVuZ2luZWVyaW5nJTIwb2YlMjBDb21wbGV4JTIwQ29tcHV0ZXIlMjBTeXN0ZW1zJTJDJTIwMjAwOC4lMjBJQ0VDQ1MlMjAyMDA4LiUyMDEzdGglMjBJRUVFJTIwSW50ZXJuYXRpb25hbCUyMENvbmZlcmVuY2UlMjBvbiUyMiUyQyUwQSUyOSUyOSUwQSUyNyUyNyUyNyUyOSUzQg==\")));\n",
       "    "
      ],
      "text/plain": [
       "<IPython.core.display.Javascript object>"
      ]
     },
     "metadata": {},
     "output_type": "display_data"
    },
    {
     "data": {
      "application/javascript": [
       "$('span:contains(\"# Temp\")').closest('.cell').remove();"
      ],
      "text/plain": [
       "<IPython.core.display.Javascript object>"
      ]
     },
     "metadata": {},
     "output_type": "display_data"
    },
    {
     "data": {
      "application/javascript": [
       "\n",
       "        $('span:contains(\"# Temp\")').closest('.cell').remove();\n",
       "        var code = IPython.notebook.insert_cell_below('code');\n",
       "        var prompt = code.element.find(\".input_prompt\");\n",
       "        prompt.append('<br><button style=\"height: 100%; width: 54px;\">Run</button>');\n",
       "        prompt.on(\"click\", \"button\", function(){\n",
       "            code.execute();\n",
       "        });\n",
       "        code.set_text(decodeURIComponent(window.atob(\"JTIzJTIwVGVtcCUwQWluc2VydCUyOCUyNyUyNyUyNyUwQWclQzMlQjNtZXoyMDAxYSUyMCUzRCUyMERCJTI4V29ya1VucmVsYXRlZCUyOCUwQSUyMCUyMCUyMCUyMDIwMDElMkMlMjAlMjJFdmFsdWF0aW9uJTIwb2YlMjBvbnRvbG9naWVzJTIyJTJDJTBBJTIwJTIwJTIwJTIwZGlzcGxheSUzRCUyMmclQzMlQjNtZXolMjIlMkMlMEElMjAlMjAlMjAlMjBhdXRob3JzJTNEJTIyRyVDMyVCM21lei1QJUMzJUE5cmV6JTJDJTIwQXN1bmNpJUMzJUIzbiUyMiUyQyUwQSUyMCUyMCUyMCUyMHBsYWNlJTNERkFLRSUyQyUwQSUyMCUyMCUyMCUyMHBwJTNEJTIyMzkxLS00MDklMjIlMkMlMEElMjAlMjAlMjAlMjBlbnRyeXR5cGUlM0QlMjJhcnRpY2xlJTIyJTJDJTBBJTIwJTIwJTIwJTIwdm9sdW1lJTNEJTIyMTYlMjIlMkMlMEElMjAlMjAlMjAlMjBudW1iZXIlM0QlMjIzJTIyJTJDJTBBJTIwJTIwJTIwJTIwcHVibGlzaGVyJTNEJTIyV2lsZXklMjBPbmxpbmUlMjBMaWJyYXJ5JTIyJTJDJTBBJTIwJTIwJTIwJTIwSUQlM0QlMjJnb21lejIwMDFldmFsdWF0aW9uJTIyJTJDJTBBJTIwJTIwJTIwJTIwc2Nob2xhcjIwMTYlM0QlMjIxJTIyJTJDJTBBJTIwJTIwJTIwJTIwcGxhY2V4JTNEJTIySW50ZXJuYXRpb25hbCUyMEpvdXJuYWwlMjBvZiUyMGludGVsbGlnZW50JTIwc3lzdGVtcyUyMiUyQyUwQSUyOSUyOSUwQSUyNyUyNyUyNyUyOSUzQg==\")));\n",
       "    "
      ],
      "text/plain": [
       "<IPython.core.display.Javascript object>"
      ]
     },
     "metadata": {},
     "output_type": "display_data"
    },
    {
     "data": {
      "application/javascript": [
       "$('span:contains(\"# Temp\")').closest('.cell').remove();"
      ],
      "text/plain": [
       "<IPython.core.display.Javascript object>"
      ]
     },
     "metadata": {},
     "output_type": "display_data"
    },
    {
     "data": {
      "application/javascript": [
       "\n",
       "        $('span:contains(\"# Temp\")').closest('.cell').remove();\n",
       "        var code = IPython.notebook.insert_cell_below('code');\n",
       "        var prompt = code.element.find(\".input_prompt\");\n",
       "        prompt.append('<br><button style=\"height: 100%; width: 54px;\">Run</button>');\n",
       "        prompt.on(\"click\", \"button\", function(){\n",
       "            code.execute();\n",
       "        });\n",
       "        code.set_text(decodeURIComponent(window.atob(\"JTIzJTIwVGVtcCUwQWluc2VydCUyOCUyNyUyNyUyNyUwQWclQzMlQjNtZXoyMDAxYSUyMCUzRCUyMERCJTI4V29ya1VucmVsYXRlZCUyOCUwQSUyMCUyMCUyMCUyMDIwMDElMkMlMjAlMjJFdmFsdWF0aW9uJTIwb2YlMjBvbnRvbG9naWVzJTIyJTJDJTBBJTIwJTIwJTIwJTIwZGlzcGxheSUzRCUyMmclQzMlQjNtZXolMjIlMkMlMEElMjAlMjAlMjAlMjBhdXRob3JzJTNEJTIyRyVDMyVCM21lei1QJUMzJUE5cmV6JTJDJTIwQXN1bmNpJUMzJUIzbiUyMiUyQyUwQSUyMCUyMCUyMCUyMHBsYWNlJTNERkFLRSUyQyUwQSUyMCUyMCUyMCUyMHBwJTNEJTIyMzkxLS00MDklMjIlMkMlMEElMjAlMjAlMjAlMjBlbnRyeXR5cGUlM0QlMjJhcnRpY2xlJTIyJTJDJTBBJTIwJTIwJTIwJTIwdm9sdW1lJTNEJTIyMTYlMjIlMkMlMEElMjAlMjAlMjAlMjBudW1iZXIlM0QlMjIzJTIyJTJDJTBBJTIwJTIwJTIwJTIwcHVibGlzaGVyJTNEJTIyV2lsZXklMjBPbmxpbmUlMjBMaWJyYXJ5JTIyJTJDJTBBJTIwJTIwJTIwJTIwSUQlM0QlMjJnb21lejIwMDFldmFsdWF0aW9uJTIyJTJDJTBBJTIwJTIwJTIwJTIwc2Nob2xhcjIwMTYlM0QlMjIxJTIyJTJDJTBBJTIwJTIwJTIwJTIwcGxhY2V4JTNEJTIySW50ZXJuYXRpb25hbCUyMEpvdXJuYWwlMjBvZiUyMGludGVsbGlnZW50JTIwc3lzdGVtcyUyMiUyQyUwQSUyOSUyOSUwQSUyNyUyNyUyNyUyOSUzQg==\")));\n",
       "    "
      ],
      "text/plain": [
       "<IPython.core.display.Javascript object>"
      ]
     },
     "metadata": {},
     "output_type": "display_data"
    },
    {
     "data": {
      "application/javascript": [
       "$('span:contains(\"# Temp\")').closest('.cell').remove();"
      ],
      "text/plain": [
       "<IPython.core.display.Javascript object>"
      ]
     },
     "metadata": {},
     "output_type": "display_data"
    },
    {
     "data": {
      "application/javascript": [
       "\n",
       "        $('span:contains(\"# Temp\")').closest('.cell').remove();\n",
       "        var code = IPython.notebook.insert_cell_below('code');\n",
       "        var prompt = code.element.find(\".input_prompt\");\n",
       "        prompt.append('<br><button style=\"height: 100%; width: 54px;\">Run</button>');\n",
       "        prompt.on(\"click\", \"button\", function(){\n",
       "            code.execute();\n",
       "        });\n",
       "        code.set_text(decodeURIComponent(window.atob(\"JTIzJTIwVGVtcCUwQWluc2VydCUyOCUyNyUyNyUyNyUwQXNpbXBlcmwyMDA5YSUyMCUzRCUyMERCJTI4V29ya1VucmVsYXRlZCUyOCUwQSUyMCUyMCUyMCUyMDIwMDklMkMlMjAlMjJSZXVzaW5nJTIwb250b2xvZ2llcyUyMG9uJTIwdGhlJTIwU2VtYW50aWMlMjBXZWIlM0ElMjBBJTIwZmVhc2liaWxpdHklMjBzdHVkeSUyMiUyQyUwQSUyMCUyMCUyMCUyMGRpc3BsYXklM0QlMjJzaW1wZXJsJTIyJTJDJTBBJTIwJTIwJTIwJTIwYXV0aG9ycyUzRCUyMlNpbXBlcmwlMkMlMjBFbGVuYSUyMiUyQyUwQSUyMCUyMCUyMCUyMHBsYWNlJTNERkFLRSUyQyUwQSUyMCUyMCUyMCUyMHBwJTNEJTIyOTA1LS05MjUlMjIlMkMlMEElMjAlMjAlMjAlMjBlbnRyeXR5cGUlM0QlMjJhcnRpY2xlJTIyJTJDJTBBJTIwJTIwJTIwJTIwdm9sdW1lJTNEJTIyNjglMjIlMkMlMEElMjAlMjAlMjAlMjBudW1iZXIlM0QlMjIxMCUyMiUyQyUwQSUyMCUyMCUyMCUyMHB1Ymxpc2hlciUzRCUyMkVsc2V2aWVyJTIyJTJDJTBBJTIwJTIwJTIwJTIwSUQlM0QlMjJzaW1wZXJsMjAwOXJldXNpbmclMjIlMkMlMEElMjAlMjAlMjAlMjBzY2hvbGFyMjAxNiUzRCUyMjElMjIlMkMlMEElMjAlMjAlMjAlMjBwbGFjZXglM0QlMjJEYXRhJTIwJTI2JTIwS25vd2xlZGdlJTIwRW5naW5lZXJpbmclMjIlMkMlMEElMjklMjklMEElMjclMjclMjclMjklM0I=\")));\n",
       "    "
      ],
      "text/plain": [
       "<IPython.core.display.Javascript object>"
      ]
     },
     "metadata": {},
     "output_type": "display_data"
    },
    {
     "data": {
      "application/javascript": [
       "$('span:contains(\"# Temp\")').closest('.cell').remove();"
      ],
      "text/plain": [
       "<IPython.core.display.Javascript object>"
      ]
     },
     "metadata": {},
     "output_type": "display_data"
    },
    {
     "data": {
      "application/javascript": [
       "\n",
       "        $('span:contains(\"# Temp\")').closest('.cell').remove();\n",
       "        var code = IPython.notebook.insert_cell_below('code');\n",
       "        var prompt = code.element.find(\".input_prompt\");\n",
       "        prompt.append('<br><button style=\"height: 100%; width: 54px;\">Run</button>');\n",
       "        prompt.on(\"click\", \"button\", function(){\n",
       "            code.execute();\n",
       "        });\n",
       "        code.set_text(decodeURIComponent(window.atob(\"JTIzJTIwVGVtcCUwQWluc2VydCUyOCUyNyUyNyUyNyUwQXNpbXBlcmwyMDA5YSUyMCUzRCUyMERCJTI4V29ya1VucmVsYXRlZCUyOCUwQSUyMCUyMCUyMCUyMDIwMDklMkMlMjAlMjJSZXVzaW5nJTIwb250b2xvZ2llcyUyMG9uJTIwdGhlJTIwU2VtYW50aWMlMjBXZWIlM0ElMjBBJTIwZmVhc2liaWxpdHklMjBzdHVkeSUyMiUyQyUwQSUyMCUyMCUyMCUyMGRpc3BsYXklM0QlMjJzaW1wZXJsJTIyJTJDJTBBJTIwJTIwJTIwJTIwYXV0aG9ycyUzRCUyMlNpbXBlcmwlMkMlMjBFbGVuYSUyMiUyQyUwQSUyMCUyMCUyMCUyMHBsYWNlJTNERkFLRSUyQyUwQSUyMCUyMCUyMCUyMHBwJTNEJTIyOTA1LS05MjUlMjIlMkMlMEElMjAlMjAlMjAlMjBlbnRyeXR5cGUlM0QlMjJhcnRpY2xlJTIyJTJDJTBBJTIwJTIwJTIwJTIwdm9sdW1lJTNEJTIyNjglMjIlMkMlMEElMjAlMjAlMjAlMjBudW1iZXIlM0QlMjIxMCUyMiUyQyUwQSUyMCUyMCUyMCUyMHB1Ymxpc2hlciUzRCUyMkVsc2V2aWVyJTIyJTJDJTBBJTIwJTIwJTIwJTIwSUQlM0QlMjJzaW1wZXJsMjAwOXJldXNpbmclMjIlMkMlMEElMjAlMjAlMjAlMjBzY2hvbGFyMjAxNiUzRCUyMjElMjIlMkMlMEElMjAlMjAlMjAlMjBwbGFjZXglM0QlMjJEYXRhJTIwJTI2JTIwS25vd2xlZGdlJTIwRW5naW5lZXJpbmclMjIlMkMlMEElMjklMjklMEElMjclMjclMjclMjklM0I=\")));\n",
       "    "
      ],
      "text/plain": [
       "<IPython.core.display.Javascript object>"
      ]
     },
     "metadata": {},
     "output_type": "display_data"
    },
    {
     "data": {
      "application/javascript": [
       "$('span:contains(\"# Temp\")').closest('.cell').remove();"
      ],
      "text/plain": [
       "<IPython.core.display.Javascript object>"
      ]
     },
     "metadata": {},
     "output_type": "display_data"
    },
    {
     "data": {
      "application/javascript": [
       "\n",
       "        $('span:contains(\"# Temp\")').closest('.cell').remove();\n",
       "        var code = IPython.notebook.insert_cell_below('code');\n",
       "        var prompt = code.element.find(\".input_prompt\");\n",
       "        prompt.append('<br><button style=\"height: 100%; width: 54px;\">Run</button>');\n",
       "        prompt.on(\"click\", \"button\", function(){\n",
       "            code.execute();\n",
       "        });\n",
       "        code.set_text(decodeURIComponent(window.atob(\"JTIzJTIwVGVtcCUwQWluc2VydCUyOCUyNyUyNyUyNyUwQXNvdG8yMDEwYSUyMCUzRCUyMERCJTI4V29ya1VucmVsYXRlZCUyOCUwQSUyMCUyMCUyMCUyMDIwMTAlMkMlMjAlMjJTaGFwaW5nJTIwaHVtYW4lMjBjYXBpdGFsJTIwaW4lMjBzb2Z0d2FyZSUyMGRldmVsb3BtZW50JTIwdGVhbXMlM0ElMjB0aGUlMjBjYXNlJTIwb2YlMjBtZW50b3JpbmclMjBlbmFibGVkJTIwYnklMjBzZW1hbnRpY3MlMjIlMkMlMEElMjAlMjAlMjAlMjBkaXNwbGF5JTNEJTIyc290byUyMiUyQyUwQSUyMCUyMCUyMCUyMGF1dGhvcnMlM0QlMjJTb3RvLUFjb3N0YSUyQyUyMFBlZHJvJTIwYW5kJTIwQ2FzYWRvLUx1bWJyZXJhcyUyQyUyMENyaXN0aW5hJTIwYW5kJTIwQ2FiZXphcy1Jc2xhJTJDJTIwRmVybmFuZG8lMjIlMkMlMEElMjAlMjAlMjAlMjBwbGFjZSUzRElFRUVTJTJDJTBBJTIwJTIwJTIwJTIwcHAlM0QlMjI0NDUtLTQ1MiUyMiUyQyUwQSUyMCUyMCUyMCUyMGVudHJ5dHlwZSUzRCUyMmFydGljbGUlMjIlMkMlMEElMjAlMjAlMjAlMjB2b2x1bWUlM0QlMjI0JTIyJTJDJTBBJTIwJTIwJTIwJTIwbnVtYmVyJTNEJTIyNiUyMiUyQyUwQSUyMCUyMCUyMCUyMHB1Ymxpc2hlciUzRCUyMklFVCUyMiUyQyUwQSUyMCUyMCUyMCUyMElEJTNEJTIyc290bzIwMTBzaGFwaW5nJTIyJTJDJTBBJTIwJTIwJTIwJTIwc2Nob2xhcjIwMTYlM0QlMjIxJTIyJTJDJTBBJTIwJTIwJTIwJTIwcGxhY2V4JTNEJTIySUVUJTIwc29mdHdhcmUlMjIlMkMlMEElMjklMjklMEElMjclMjclMjclMjklM0I=\")));\n",
       "    "
      ],
      "text/plain": [
       "<IPython.core.display.Javascript object>"
      ]
     },
     "metadata": {},
     "output_type": "display_data"
    },
    {
     "data": {
      "application/javascript": [
       "$('span:contains(\"# Temp\")').closest('.cell').remove();"
      ],
      "text/plain": [
       "<IPython.core.display.Javascript object>"
      ]
     },
     "metadata": {},
     "output_type": "display_data"
    },
    {
     "data": {
      "application/javascript": [
       "\n",
       "        $('span:contains(\"# Temp\")').closest('.cell').remove();\n",
       "        var code = IPython.notebook.insert_cell_below('code');\n",
       "        var prompt = code.element.find(\".input_prompt\");\n",
       "        prompt.append('<br><button style=\"height: 100%; width: 54px;\">Run</button>');\n",
       "        prompt.on(\"click\", \"button\", function(){\n",
       "            code.execute();\n",
       "        });\n",
       "        code.set_text(decodeURIComponent(window.atob(\"JTIzJTIwVGVtcCUwQWluc2VydCUyOCUyNyUyNyUyNyUwQXNvdG8yMDEwYSUyMCUzRCUyMERCJTI4V29ya1VucmVsYXRlZCUyOCUwQSUyMCUyMCUyMCUyMDIwMTAlMkMlMjAlMjJTaGFwaW5nJTIwaHVtYW4lMjBjYXBpdGFsJTIwaW4lMjBzb2Z0d2FyZSUyMGRldmVsb3BtZW50JTIwdGVhbXMlM0ElMjB0aGUlMjBjYXNlJTIwb2YlMjBtZW50b3JpbmclMjBlbmFibGVkJTIwYnklMjBzZW1hbnRpY3MlMjIlMkMlMEElMjAlMjAlMjAlMjBkaXNwbGF5JTNEJTIyc290byUyMiUyQyUwQSUyMCUyMCUyMCUyMGF1dGhvcnMlM0QlMjJTb3RvLUFjb3N0YSUyQyUyMFBlZHJvJTIwYW5kJTIwQ2FzYWRvLUx1bWJyZXJhcyUyQyUyMENyaXN0aW5hJTIwYW5kJTIwQ2FiZXphcy1Jc2xhJTJDJTIwRmVybmFuZG8lMjIlMkMlMEElMjAlMjAlMjAlMjBwbGFjZSUzRElFRUVTJTJDJTBBJTIwJTIwJTIwJTIwcHAlM0QlMjI0NDUtLTQ1MiUyMiUyQyUwQSUyMCUyMCUyMCUyMGVudHJ5dHlwZSUzRCUyMmFydGljbGUlMjIlMkMlMEElMjAlMjAlMjAlMjB2b2x1bWUlM0QlMjI0JTIyJTJDJTBBJTIwJTIwJTIwJTIwbnVtYmVyJTNEJTIyNiUyMiUyQyUwQSUyMCUyMCUyMCUyMHB1Ymxpc2hlciUzRCUyMklFVCUyMiUyQyUwQSUyMCUyMCUyMCUyMElEJTNEJTIyc290bzIwMTBzaGFwaW5nJTIyJTJDJTBBJTIwJTIwJTIwJTIwc2Nob2xhcjIwMTYlM0QlMjIxJTIyJTJDJTBBJTIwJTIwJTIwJTIwcGxhY2V4JTNEJTIySUVUJTIwc29mdHdhcmUlMjIlMkMlMEElMjklMjklMEElMjclMjclMjclMjklM0I=\")));\n",
       "    "
      ],
      "text/plain": [
       "<IPython.core.display.Javascript object>"
      ]
     },
     "metadata": {},
     "output_type": "display_data"
    },
    {
     "data": {
      "application/javascript": [
       "$('span:contains(\"# Temp\")').closest('.cell').remove();"
      ],
      "text/plain": [
       "<IPython.core.display.Javascript object>"
      ]
     },
     "metadata": {},
     "output_type": "display_data"
    },
    {
     "data": {
      "application/javascript": [
       "\n",
       "        $('span:contains(\"# Temp\")').closest('.cell').remove();\n",
       "        var code = IPython.notebook.insert_cell_below('code');\n",
       "        var prompt = code.element.find(\".input_prompt\");\n",
       "        prompt.append('<br><button style=\"height: 100%; width: 54px;\">Run</button>');\n",
       "        prompt.on(\"click\", \"button\", function(){\n",
       "            code.execute();\n",
       "        });\n",
       "        code.set_text(decodeURIComponent(window.atob(\"JTIzJTIwVGVtcCUwQWluc2VydCUyOCUyNyUyNyUyNyUwQWJvZWhtMTk5NWElMjAlM0QlMjBEQiUyOFdvcmtVbnJlbGF0ZWQlMjglMEElMjAlMjAlMjAlMjAxOTk1JTJDJTIwJTIyU29mdHdhcmUlMjByZXF1aXJlbWVudHMlMjBuZWdvdGlhdGlvbiUyMGFuZCUyMHJlbmVnb3RpYXRpb24lMjBhaWRzJTNBJTIwQSUyMHRoZW9yeS1XJTIwYmFzZWQlMjBzcGlyYWwlMjBhcHByb2FjaCUyMiUyQyUwQSUyMCUyMCUyMCUyMGRpc3BsYXklM0QlMjJib2VobSUyMiUyQyUwQSUyMCUyMCUyMCUyMGF1dGhvcnMlM0QlMjJCb2VobSUyQyUyMEJhcnJ5JTIwYW5kJTIwQm9zZSUyQyUyMFByYXNhbnRhJTIwYW5kJTIwSG9yb3dpdHolMkMlMjBFbGxpcyUyMGFuZCUyMExlZSUyQyUyME1pbmclMjBKdW5lJTIyJTJDJTBBJTIwJTIwJTIwJTIwcGxhY2UlM0RJQ1NFJTJDJTBBJTIwJTIwJTIwJTIwcHAlM0QlMjIyNDMtLTI0MyUyMiUyQyUwQSUyMCUyMCUyMCUyMGVudHJ5dHlwZSUzRCUyMmlucHJvY2VlZGluZ3MlMjIlMkMlMEElMjAlMjAlMjAlMjBvcmdhbml6YXRpb24lM0QlMjJJRUVFJTIyJTJDJTBBJTIwJTIwJTIwJTIwSUQlM0QlMjJib2VobTE5OTVzb2Z0d2FyZSUyMiUyQyUwQSUyMCUyMCUyMCUyMHNjaG9sYXIyMDE2JTNEJTIyMSUyMiUyQyUwQSUyMCUyMCUyMCUyMHBsYWNleCUzRCUyMlNvZnR3YXJlJTIwRW5naW5lZXJpbmclMkMlMjAxOTk1LiUyMElDU0UlMjAxOTk1LiUyMDE3dGglMjBJbnRlcm5hdGlvbmFsJTIwQ29uZmVyZW5jZSUyMG9uJTIyJTJDJTBBJTI5JTI5JTBBJTI3JTI3JTI3JTI5JTNC\")));\n",
       "    "
      ],
      "text/plain": [
       "<IPython.core.display.Javascript object>"
      ]
     },
     "metadata": {},
     "output_type": "display_data"
    },
    {
     "data": {
      "application/javascript": [
       "$('span:contains(\"# Temp\")').closest('.cell').remove();"
      ],
      "text/plain": [
       "<IPython.core.display.Javascript object>"
      ]
     },
     "metadata": {},
     "output_type": "display_data"
    },
    {
     "data": {
      "application/javascript": [
       "\n",
       "        $('span:contains(\"# Temp\")').closest('.cell').remove();\n",
       "        var code = IPython.notebook.insert_cell_below('code');\n",
       "        var prompt = code.element.find(\".input_prompt\");\n",
       "        prompt.append('<br><button style=\"height: 100%; width: 54px;\">Run</button>');\n",
       "        prompt.on(\"click\", \"button\", function(){\n",
       "            code.execute();\n",
       "        });\n",
       "        code.set_text(decodeURIComponent(window.atob(\"JTIzJTIwVGVtcCUwQWluc2VydCUyOCUyNyUyNyUyNyUwQWJvZWhtMTk5NWElMjAlM0QlMjBEQiUyOFdvcmtVbnJlbGF0ZWQlMjglMEElMjAlMjAlMjAlMjAxOTk1JTJDJTIwJTIyU29mdHdhcmUlMjByZXF1aXJlbWVudHMlMjBuZWdvdGlhdGlvbiUyMGFuZCUyMHJlbmVnb3RpYXRpb24lMjBhaWRzJTNBJTIwQSUyMHRoZW9yeS1XJTIwYmFzZWQlMjBzcGlyYWwlMjBhcHByb2FjaCUyMiUyQyUwQSUyMCUyMCUyMCUyMGRpc3BsYXklM0QlMjJib2VobSUyMiUyQyUwQSUyMCUyMCUyMCUyMGF1dGhvcnMlM0QlMjJCb2VobSUyQyUyMEJhcnJ5JTIwYW5kJTIwQm9zZSUyQyUyMFByYXNhbnRhJTIwYW5kJTIwSG9yb3dpdHolMkMlMjBFbGxpcyUyMGFuZCUyMExlZSUyQyUyME1pbmclMjBKdW5lJTIyJTJDJTBBJTIwJTIwJTIwJTIwcGxhY2UlM0RJQ1NFJTJDJTBBJTIwJTIwJTIwJTIwcHAlM0QlMjIyNDMtLTI0MyUyMiUyQyUwQSUyMCUyMCUyMCUyMGVudHJ5dHlwZSUzRCUyMmlucHJvY2VlZGluZ3MlMjIlMkMlMEElMjAlMjAlMjAlMjBvcmdhbml6YXRpb24lM0QlMjJJRUVFJTIyJTJDJTBBJTIwJTIwJTIwJTIwSUQlM0QlMjJib2VobTE5OTVzb2Z0d2FyZSUyMiUyQyUwQSUyMCUyMCUyMCUyMHNjaG9sYXIyMDE2JTNEJTIyMSUyMiUyQyUwQSUyMCUyMCUyMCUyMHBsYWNleCUzRCUyMlNvZnR3YXJlJTIwRW5naW5lZXJpbmclMkMlMjAxOTk1LiUyMElDU0UlMjAxOTk1LiUyMDE3dGglMjBJbnRlcm5hdGlvbmFsJTIwQ29uZmVyZW5jZSUyMG9uJTIyJTJDJTBBJTI5JTI5JTBBJTI3JTI3JTI3JTI5JTNC\")));\n",
       "    "
      ],
      "text/plain": [
       "<IPython.core.display.Javascript object>"
      ]
     },
     "metadata": {},
     "output_type": "display_data"
    },
    {
     "data": {
      "application/javascript": [
       "$('span:contains(\"# Temp\")').closest('.cell').remove();"
      ],
      "text/plain": [
       "<IPython.core.display.Javascript object>"
      ]
     },
     "metadata": {},
     "output_type": "display_data"
    },
    {
     "data": {
      "application/javascript": [
       "\n",
       "        $('span:contains(\"# Temp\")').closest('.cell').remove();\n",
       "        var code = IPython.notebook.insert_cell_below('code');\n",
       "        var prompt = code.element.find(\".input_prompt\");\n",
       "        prompt.append('<br><button style=\"height: 100%; width: 54px;\">Run</button>');\n",
       "        prompt.on(\"click\", \"button\", function(){\n",
       "            code.execute();\n",
       "        });\n",
       "        code.set_text(decodeURIComponent(window.atob(\"JTIzJTIwVGVtcCUwQWluc2VydCUyOCUyNyUyNyUyNyUwQWZlcm4lQzMlQTFuZGV6MjAwMmElMjAlM0QlMjBEQiUyOFdvcmtVbnJlbGF0ZWQlMjglMEElMjAlMjAlMjAlMjAyMDAyJTJDJTIwJTIyT3ZlcnZpZXclMjBhbmQlMjBhbmFseXNpcyUyMG9mJTIwbWV0aG9kb2xvZ2llcyUyMGZvciUyMGJ1aWxkaW5nJTIwb250b2xvZ2llcyUyMiUyQyUwQSUyMCUyMCUyMCUyMGRpc3BsYXklM0QlMjJmZXJuJUMzJUExbmRleiUyMiUyQyUwQSUyMCUyMCUyMCUyMGF1dGhvcnMlM0QlMjJGZXJuJUMzJUExbmRlei1MJUMzJUIzcGV6JTJDJTIwTWFyaWFubyUyMGFuZCUyMEclQzMlQjNtZXotUCVDMyVBOXJleiUyQyUyMEFzdW5jaSVDMyVCM24lMjIlMkMlMEElMjAlMjAlMjAlMjBwbGFjZSUzREZBS0UlMkMlMEElMjAlMjAlMjAlMjBwcCUzRCUyMjEyOS0tMTU2JTIyJTJDJTBBJTIwJTIwJTIwJTIwZW50cnl0eXBlJTNEJTIyYXJ0aWNsZSUyMiUyQyUwQSUyMCUyMCUyMCUyMHZvbHVtZSUzRCUyMjE3JTIyJTJDJTBBJTIwJTIwJTIwJTIwbnVtYmVyJTNEJTIyMiUyMiUyQyUwQSUyMCUyMCUyMCUyMHB1Ymxpc2hlciUzRCUyMkNhbWJyaWRnZSUyMFVuaXZlcnNpdHklMjBQcmVzcyUyMiUyQyUwQSUyMCUyMCUyMCUyMElEJTNEJTIyZmVybmFuZGV6MjAwMm92ZXJ2aWV3JTIyJTJDJTBBJTIwJTIwJTIwJTIwc2Nob2xhcjIwMTYlM0QlMjIxJTIyJTJDJTBBJTIwJTIwJTIwJTIwcGxhY2V4JTNEJTIyVGhlJTIwS25vd2xlZGdlJTIwRW5naW5lZXJpbmclMjBSZXZpZXclMjIlMkMlMEElMjklMjklMEElMjclMjclMjclMjklM0I=\")));\n",
       "    "
      ],
      "text/plain": [
       "<IPython.core.display.Javascript object>"
      ]
     },
     "metadata": {},
     "output_type": "display_data"
    },
    {
     "data": {
      "application/javascript": [
       "$('span:contains(\"# Temp\")').closest('.cell').remove();"
      ],
      "text/plain": [
       "<IPython.core.display.Javascript object>"
      ]
     },
     "metadata": {},
     "output_type": "display_data"
    },
    {
     "data": {
      "application/javascript": [
       "\n",
       "        $('span:contains(\"# Temp\")').closest('.cell').remove();\n",
       "        var code = IPython.notebook.insert_cell_below('code');\n",
       "        var prompt = code.element.find(\".input_prompt\");\n",
       "        prompt.append('<br><button style=\"height: 100%; width: 54px;\">Run</button>');\n",
       "        prompt.on(\"click\", \"button\", function(){\n",
       "            code.execute();\n",
       "        });\n",
       "        code.set_text(decodeURIComponent(window.atob(\"JTIzJTIwVGVtcCUwQWluc2VydCUyOCUyNyUyNyUyNyUwQWZlcm4lQzMlQTFuZGV6MjAwMmElMjAlM0QlMjBEQiUyOFdvcmtVbnJlbGF0ZWQlMjglMEElMjAlMjAlMjAlMjAyMDAyJTJDJTIwJTIyT3ZlcnZpZXclMjBhbmQlMjBhbmFseXNpcyUyMG9mJTIwbWV0aG9kb2xvZ2llcyUyMGZvciUyMGJ1aWxkaW5nJTIwb250b2xvZ2llcyUyMiUyQyUwQSUyMCUyMCUyMCUyMGRpc3BsYXklM0QlMjJmZXJuJUMzJUExbmRleiUyMiUyQyUwQSUyMCUyMCUyMCUyMGF1dGhvcnMlM0QlMjJGZXJuJUMzJUExbmRlei1MJUMzJUIzcGV6JTJDJTIwTWFyaWFubyUyMGFuZCUyMEclQzMlQjNtZXotUCVDMyVBOXJleiUyQyUyMEFzdW5jaSVDMyVCM24lMjIlMkMlMEElMjAlMjAlMjAlMjBwbGFjZSUzREZBS0UlMkMlMEElMjAlMjAlMjAlMjBwcCUzRCUyMjEyOS0tMTU2JTIyJTJDJTBBJTIwJTIwJTIwJTIwZW50cnl0eXBlJTNEJTIyYXJ0aWNsZSUyMiUyQyUwQSUyMCUyMCUyMCUyMHZvbHVtZSUzRCUyMjE3JTIyJTJDJTBBJTIwJTIwJTIwJTIwbnVtYmVyJTNEJTIyMiUyMiUyQyUwQSUyMCUyMCUyMCUyMHB1Ymxpc2hlciUzRCUyMkNhbWJyaWRnZSUyMFVuaXZlcnNpdHklMjBQcmVzcyUyMiUyQyUwQSUyMCUyMCUyMCUyMElEJTNEJTIyZmVybmFuZGV6MjAwMm92ZXJ2aWV3JTIyJTJDJTBBJTIwJTIwJTIwJTIwc2Nob2xhcjIwMTYlM0QlMjIxJTIyJTJDJTBBJTIwJTIwJTIwJTIwcGxhY2V4JTNEJTIyVGhlJTIwS25vd2xlZGdlJTIwRW5naW5lZXJpbmclMjBSZXZpZXclMjIlMkMlMEElMjklMjklMEElMjclMjclMjclMjklM0I=\")));\n",
       "    "
      ],
      "text/plain": [
       "<IPython.core.display.Javascript object>"
      ]
     },
     "metadata": {},
     "output_type": "display_data"
    },
    {
     "data": {
      "application/javascript": [
       "$('span:contains(\"# Temp\")').closest('.cell').remove();"
      ],
      "text/plain": [
       "<IPython.core.display.Javascript object>"
      ]
     },
     "metadata": {},
     "output_type": "display_data"
    },
    {
     "data": {
      "application/javascript": [
       "\n",
       "        $('span:contains(\"# Temp\")').closest('.cell').remove();\n",
       "        var code = IPython.notebook.insert_cell_below('code');\n",
       "        var prompt = code.element.find(\".input_prompt\");\n",
       "        prompt.append('<br><button style=\"height: 100%; width: 54px;\">Run</button>');\n",
       "        prompt.on(\"click\", \"button\", function(){\n",
       "            code.execute();\n",
       "        });\n",
       "        code.set_text(decodeURIComponent(window.atob(\"JTIzJTIwVGVtcCUwQWluc2VydCUyOCUyNyUyNyUyNyUwQWJlcm5zdGVpbjIwMDJhJTIwJTNEJTIwREIlMjhXb3JrVW5yZWxhdGVkJTI4JTBBJTIwJTIwJTIwJTIwMjAwMiUyQyUyMCUyMlNlYXJjaGluZyUyMGZvciUyMHNlcnZpY2VzJTIwb24lMjB0aGUlMjBzZW1hbnRpYyUyMHdlYiUyMHVzaW5nJTIwcHJvY2VzcyUyMG9udG9sb2dpZXMlMjIlMkMlMEElMjAlMjAlMjAlMjBkaXNwbGF5JTNEJTIyYmVybnN0ZWluJTIyJTJDJTBBJTIwJTIwJTIwJTIwYXV0aG9ycyUzRCUyMkJlcm5zdGVpbiUyQyUyME1hcmslMjBLbGVpbiUyMEFicmFoYW0lMjIlMkMlMEElMjAlMjAlMjAlMjBwbGFjZSUzREZBS0UlMkMlMEElMjAlMjAlMjAlMjBwcCUzRCUyMjE1MyUyMiUyQyUwQSUyMCUyMCUyMCUyMGVudHJ5dHlwZSUzRCUyMmlucHJvY2VlZGluZ3MlMjIlMkMlMEElMjAlMjAlMjAlMjB2b2x1bWUlM0QlMjI3NSUyMiUyQyUwQSUyMCUyMCUyMCUyMG9yZ2FuaXphdGlvbiUzRCUyMklPUyUyMHByZXNzJTIyJTJDJTBBJTIwJTIwJTIwJTIwSUQlM0QlMjJiZXJuc3RlaW4yMDAyc2VhcmNoaW5nJTIyJTJDJTBBJTIwJTIwJTIwJTIwc2Nob2xhcjIwMTYlM0QlMjIxJTIyJTJDJTBBJTIwJTIwJTIwJTIwcGxhY2V4JTNEJTIyVGhlJTIwRW1lcmdpbmclMjBTZW1hbnRpYyUyMFdlYiUzQSUyMFNlbGVjdGVkJTIwUGFwZXJzJTIwZnJvbSUyMHRoZSUyMEZpcnN0JTIwU2VtYW50aWMlMjBXZWIlMjBXb3JraW5nJTIwU3ltcG9zaXVtJTIyJTJDJTBBJTI5JTI5JTBBJTI3JTI3JTI3JTI5JTNC\")));\n",
       "    "
      ],
      "text/plain": [
       "<IPython.core.display.Javascript object>"
      ]
     },
     "metadata": {},
     "output_type": "display_data"
    },
    {
     "data": {
      "application/javascript": [
       "$('span:contains(\"# Temp\")').closest('.cell').remove();"
      ],
      "text/plain": [
       "<IPython.core.display.Javascript object>"
      ]
     },
     "metadata": {},
     "output_type": "display_data"
    },
    {
     "data": {
      "application/javascript": [
       "\n",
       "        $('span:contains(\"# Temp\")').closest('.cell').remove();\n",
       "        var code = IPython.notebook.insert_cell_below('code');\n",
       "        var prompt = code.element.find(\".input_prompt\");\n",
       "        prompt.append('<br><button style=\"height: 100%; width: 54px;\">Run</button>');\n",
       "        prompt.on(\"click\", \"button\", function(){\n",
       "            code.execute();\n",
       "        });\n",
       "        code.set_text(decodeURIComponent(window.atob(\"JTIzJTIwVGVtcCUwQWluc2VydCUyOCUyNyUyNyUyNyUwQWJlcm5zdGVpbjIwMDJhJTIwJTNEJTIwREIlMjhXb3JrVW5yZWxhdGVkJTI4JTBBJTIwJTIwJTIwJTIwMjAwMiUyQyUyMCUyMlNlYXJjaGluZyUyMGZvciUyMHNlcnZpY2VzJTIwb24lMjB0aGUlMjBzZW1hbnRpYyUyMHdlYiUyMHVzaW5nJTIwcHJvY2VzcyUyMG9udG9sb2dpZXMlMjIlMkMlMEElMjAlMjAlMjAlMjBkaXNwbGF5JTNEJTIyYmVybnN0ZWluJTIyJTJDJTBBJTIwJTIwJTIwJTIwYXV0aG9ycyUzRCUyMkJlcm5zdGVpbiUyQyUyME1hcmslMjBLbGVpbiUyMEFicmFoYW0lMjIlMkMlMEElMjAlMjAlMjAlMjBwbGFjZSUzREZBS0UlMkMlMEElMjAlMjAlMjAlMjBwcCUzRCUyMjE1MyUyMiUyQyUwQSUyMCUyMCUyMCUyMGVudHJ5dHlwZSUzRCUyMmlucHJvY2VlZGluZ3MlMjIlMkMlMEElMjAlMjAlMjAlMjB2b2x1bWUlM0QlMjI3NSUyMiUyQyUwQSUyMCUyMCUyMCUyMG9yZ2FuaXphdGlvbiUzRCUyMklPUyUyMHByZXNzJTIyJTJDJTBBJTIwJTIwJTIwJTIwSUQlM0QlMjJiZXJuc3RlaW4yMDAyc2VhcmNoaW5nJTIyJTJDJTBBJTIwJTIwJTIwJTIwc2Nob2xhcjIwMTYlM0QlMjIxJTIyJTJDJTBBJTIwJTIwJTIwJTIwcGxhY2V4JTNEJTIyVGhlJTIwRW1lcmdpbmclMjBTZW1hbnRpYyUyMFdlYiUzQSUyMFNlbGVjdGVkJTIwUGFwZXJzJTIwZnJvbSUyMHRoZSUyMEZpcnN0JTIwU2VtYW50aWMlMjBXZWIlMjBXb3JraW5nJTIwU3ltcG9zaXVtJTIyJTJDJTBBJTI5JTI5JTBBJTI3JTI3JTI3JTI5JTNC\")));\n",
       "    "
      ],
      "text/plain": [
       "<IPython.core.display.Javascript object>"
      ]
     },
     "metadata": {},
     "output_type": "display_data"
    },
    {
     "data": {
      "application/javascript": [
       "$('span:contains(\"# Temp\")').closest('.cell').remove();"
      ],
      "text/plain": [
       "<IPython.core.display.Javascript object>"
      ]
     },
     "metadata": {},
     "output_type": "display_data"
    },
    {
     "data": {
      "application/javascript": [
       "\n",
       "        $('span:contains(\"# Temp\")').closest('.cell').remove();\n",
       "        var code = IPython.notebook.insert_cell_below('code');\n",
       "        var prompt = code.element.find(\".input_prompt\");\n",
       "        prompt.append('<br><button style=\"height: 100%; width: 54px;\">Run</button>');\n",
       "        prompt.on(\"click\", \"button\", function(){\n",
       "            code.execute();\n",
       "        });\n",
       "        code.set_text(decodeURIComponent(window.atob(\"JTIzJTIwVGVtcCUwQWluc2VydCUyOCUyNyUyNyUyNyUwQWpvbmVzMjAwMWElMjAlM0QlMjBEQiUyOFdvcmtVbnJlbGF0ZWQlMjglMEElMjAlMjAlMjAlMjAyMDAxJTJDJTIwJTIyTWV0aG9kJTIwYW5kJTIwc3lzdGVtJTIwZm9yJTIwZHluYW1pYyUyMHJpc2slMjBhc3Nlc3NtZW50JTIwb2YlMjBzb2Z0d2FyZSUyMHN5c3RlbXMlMjIlMkMlMEElMjAlMjAlMjAlMjBkaXNwbGF5JTNEJTIyam9uZXMlMjIlMkMlMEElMjAlMjAlMjAlMjBhdXRob3JzJTNEJTIySm9uZXMlMkMlMjBXZW5kZWxsJTIwRGF2aXMlMjBhbmQlMjBBdWQlMkMlMjBTdGVwaGVuJTIwSiUyMGFuZCUyMEh1ZGVwb2hsJTJDJTIwSm9obiUyMFAlMjBhbmQlMjBGbG91cm5vcnklMkMlMjBNYXJ0aW4lMjBMJTIwYW5kJTIwU25pcGVzJTJDJTIwV2lsbGlhbSUyMEIlMjBhbmQlMjBTY2h1dHolMkMlMjBFcmljJTIwQyUyMiUyQyUwQSUyMCUyMCUyMCUyMHBsYWNlJTNERkFLRSUyQyUwQSUyMCUyMCUyMCUyMGVudHJ5dHlwZSUzRCUyMm1pc2MlMjIlMkMlMEElMjAlMjAlMjAlMjBtb250aCUzRCUyMmFwciU3RTE3JTIyJTJDJTBBJTIwJTIwJTIwJTIwcHVibGlzaGVyJTNEJTIyR29vZ2xlJTIwUGF0ZW50cyUyMiUyQyUwQSUyMCUyMCUyMCUyMG5vdGUlM0QlMjJVUyUyMFBhdGVudCUyMDYlMkMyMTklMkM4MDUlMjIlMkMlMEElMjAlMjAlMjAlMjBJRCUzRCUyMmpvbmVzMjAwMW1ldGhvZCUyMiUyQyUwQSUyMCUyMCUyMCUyMHNjaG9sYXIyMDE2JTNEJTIyMSUyMiUyQyUwQSUyMCUyMCUyMCUyMHBsYWNleCUzRCUyMiUyMiUyQyUwQSUyOSUyOSUwQSUyNyUyNyUyNyUyOSUzQg==\")));\n",
       "    "
      ],
      "text/plain": [
       "<IPython.core.display.Javascript object>"
      ]
     },
     "metadata": {},
     "output_type": "display_data"
    },
    {
     "data": {
      "application/javascript": [
       "$('span:contains(\"# Temp\")').closest('.cell').remove();"
      ],
      "text/plain": [
       "<IPython.core.display.Javascript object>"
      ]
     },
     "metadata": {},
     "output_type": "display_data"
    },
    {
     "data": {
      "application/javascript": [
       "\n",
       "        $('span:contains(\"# Temp\")').closest('.cell').remove();\n",
       "        var code = IPython.notebook.insert_cell_below('code');\n",
       "        var prompt = code.element.find(\".input_prompt\");\n",
       "        prompt.append('<br><button style=\"height: 100%; width: 54px;\">Run</button>');\n",
       "        prompt.on(\"click\", \"button\", function(){\n",
       "            code.execute();\n",
       "        });\n",
       "        code.set_text(decodeURIComponent(window.atob(\"JTIzJTIwVGVtcCUwQWluc2VydCUyOCUyNyUyNyUyNyUwQWpvbmVzMjAwMWElMjAlM0QlMjBEQiUyOFdvcmtVbnJlbGF0ZWQlMjglMEElMjAlMjAlMjAlMjAyMDAxJTJDJTIwJTIyTWV0aG9kJTIwYW5kJTIwc3lzdGVtJTIwZm9yJTIwZHluYW1pYyUyMHJpc2slMjBhc3Nlc3NtZW50JTIwb2YlMjBzb2Z0d2FyZSUyMHN5c3RlbXMlMjIlMkMlMEElMjAlMjAlMjAlMjBkaXNwbGF5JTNEJTIyam9uZXMlMjIlMkMlMEElMjAlMjAlMjAlMjBhdXRob3JzJTNEJTIySm9uZXMlMkMlMjBXZW5kZWxsJTIwRGF2aXMlMjBhbmQlMjBBdWQlMkMlMjBTdGVwaGVuJTIwSiUyMGFuZCUyMEh1ZGVwb2hsJTJDJTIwSm9obiUyMFAlMjBhbmQlMjBGbG91cm5vcnklMkMlMjBNYXJ0aW4lMjBMJTIwYW5kJTIwU25pcGVzJTJDJTIwV2lsbGlhbSUyMEIlMjBhbmQlMjBTY2h1dHolMkMlMjBFcmljJTIwQyUyMiUyQyUwQSUyMCUyMCUyMCUyMHBsYWNlJTNERkFLRSUyQyUwQSUyMCUyMCUyMCUyMGVudHJ5dHlwZSUzRCUyMm1pc2MlMjIlMkMlMEElMjAlMjAlMjAlMjBtb250aCUzRCUyMmFwciU3RTE3JTIyJTJDJTBBJTIwJTIwJTIwJTIwcHVibGlzaGVyJTNEJTIyR29vZ2xlJTIwUGF0ZW50cyUyMiUyQyUwQSUyMCUyMCUyMCUyMG5vdGUlM0QlMjJVUyUyMFBhdGVudCUyMDYlMkMyMTklMkM4MDUlMjIlMkMlMEElMjAlMjAlMjAlMjBJRCUzRCUyMmpvbmVzMjAwMW1ldGhvZCUyMiUyQyUwQSUyMCUyMCUyMCUyMHNjaG9sYXIyMDE2JTNEJTIyMSUyMiUyQyUwQSUyMCUyMCUyMCUyMHBsYWNleCUzRCUyMiUyMiUyQyUwQSUyOSUyOSUwQSUyNyUyNyUyNyUyOSUzQg==\")));\n",
       "    "
      ],
      "text/plain": [
       "<IPython.core.display.Javascript object>"
      ]
     },
     "metadata": {},
     "output_type": "display_data"
    },
    {
     "data": {
      "application/javascript": [
       "$('span:contains(\"# Temp\")').closest('.cell').remove();"
      ],
      "text/plain": [
       "<IPython.core.display.Javascript object>"
      ]
     },
     "metadata": {},
     "output_type": "display_data"
    },
    {
     "data": {
      "application/javascript": [
       "\n",
       "        $('span:contains(\"# Temp\")').closest('.cell').remove();\n",
       "        var code = IPython.notebook.insert_cell_below('code');\n",
       "        var prompt = code.element.find(\".input_prompt\");\n",
       "        prompt.append('<br><button style=\"height: 100%; width: 54px;\">Run</button>');\n",
       "        prompt.on(\"click\", \"button\", function(){\n",
       "            code.execute();\n",
       "        });\n",
       "        code.set_text(decodeURIComponent(window.atob(\"JTIzJTIwVGVtcCUwQWluc2VydCUyOCUyNyUyNyUyNyUwQWdhcnJpZG8yMDExYSUyMCUzRCUyMERCJTI4V29ya1VucmVsYXRlZCUyOCUwQSUyMCUyMCUyMCUyMDIwMTElMkMlMjAlMjJQcm9wb3NhbCUyMG9mJTIwb250b2xvZ3klMjBmb3IlMjBlbnZpcm9ubWVudGFsJTIwaW1wYWN0JTIwYXNzZXNzbWVudCUzQSUyMEFuJTIwYXBwbGljYXRpb24lMjB3aXRoJTIwa25vd2xlZGdlJTIwbW9iaWxpemF0aW9uJTIyJTJDJTBBJTIwJTIwJTIwJTIwZGlzcGxheSUzRCUyMmdhcnJpZG8lMjIlMkMlMEElMjAlMjAlMjAlMjBhdXRob3JzJTNEJTIyR2FycmlkbyUyQyUyMEp1bGklQzMlQTFuJTIwYW5kJTIwUmVxdWVuYSUyQyUyMElnbmFjaW8lMjIlMkMlMEElMjAlMjAlMjAlMjBwbGFjZSUzREZBS0UlMkMlMEElMjAlMjAlMjAlMjBwcCUzRCUyMjI0NjItLTI0NzIlMjIlMkMlMEElMjAlMjAlMjAlMjBlbnRyeXR5cGUlM0QlMjJhcnRpY2xlJTIyJTJDJTBBJTIwJTIwJTIwJTIwdm9sdW1lJTNEJTIyMzglMjIlMkMlMEElMjAlMjAlMjAlMjBudW1iZXIlM0QlMjIzJTIyJTJDJTBBJTIwJTIwJTIwJTIwcHVibGlzaGVyJTNEJTIyRWxzZXZpZXIlMjIlMkMlMEElMjAlMjAlMjAlMjBJRCUzRCUyMmdhcnJpZG8yMDExcHJvcG9zYWwlMjIlMkMlMEElMjAlMjAlMjAlMjBzY2hvbGFyMjAxNiUzRCUyMjElMjIlMkMlMEElMjAlMjAlMjAlMjBwbGFjZXglM0QlMjJFeHBlcnQlMjBTeXN0ZW1zJTIwd2l0aCUyMEFwcGxpY2F0aW9ucyUyMiUyQyUwQSUyOSUyOSUwQSUyNyUyNyUyNyUyOSUzQg==\")));\n",
       "    "
      ],
      "text/plain": [
       "<IPython.core.display.Javascript object>"
      ]
     },
     "metadata": {},
     "output_type": "display_data"
    },
    {
     "data": {
      "application/javascript": [
       "$('span:contains(\"# Temp\")').closest('.cell').remove();"
      ],
      "text/plain": [
       "<IPython.core.display.Javascript object>"
      ]
     },
     "metadata": {},
     "output_type": "display_data"
    },
    {
     "data": {
      "application/javascript": [
       "\n",
       "        $('span:contains(\"# Temp\")').closest('.cell').remove();\n",
       "        var code = IPython.notebook.insert_cell_below('code');\n",
       "        var prompt = code.element.find(\".input_prompt\");\n",
       "        prompt.append('<br><button style=\"height: 100%; width: 54px;\">Run</button>');\n",
       "        prompt.on(\"click\", \"button\", function(){\n",
       "            code.execute();\n",
       "        });\n",
       "        code.set_text(decodeURIComponent(window.atob(\"JTIzJTIwVGVtcCUwQWluc2VydCUyOCUyNyUyNyUyNyUwQWdhcnJpZG8yMDExYSUyMCUzRCUyMERCJTI4V29ya1VucmVsYXRlZCUyOCUwQSUyMCUyMCUyMCUyMDIwMTElMkMlMjAlMjJQcm9wb3NhbCUyMG9mJTIwb250b2xvZ3klMjBmb3IlMjBlbnZpcm9ubWVudGFsJTIwaW1wYWN0JTIwYXNzZXNzbWVudCUzQSUyMEFuJTIwYXBwbGljYXRpb24lMjB3aXRoJTIwa25vd2xlZGdlJTIwbW9iaWxpemF0aW9uJTIyJTJDJTBBJTIwJTIwJTIwJTIwZGlzcGxheSUzRCUyMmdhcnJpZG8lMjIlMkMlMEElMjAlMjAlMjAlMjBhdXRob3JzJTNEJTIyR2FycmlkbyUyQyUyMEp1bGklQzMlQTFuJTIwYW5kJTIwUmVxdWVuYSUyQyUyMElnbmFjaW8lMjIlMkMlMEElMjAlMjAlMjAlMjBwbGFjZSUzREZBS0UlMkMlMEElMjAlMjAlMjAlMjBwcCUzRCUyMjI0NjItLTI0NzIlMjIlMkMlMEElMjAlMjAlMjAlMjBlbnRyeXR5cGUlM0QlMjJhcnRpY2xlJTIyJTJDJTBBJTIwJTIwJTIwJTIwdm9sdW1lJTNEJTIyMzglMjIlMkMlMEElMjAlMjAlMjAlMjBudW1iZXIlM0QlMjIzJTIyJTJDJTBBJTIwJTIwJTIwJTIwcHVibGlzaGVyJTNEJTIyRWxzZXZpZXIlMjIlMkMlMEElMjAlMjAlMjAlMjBJRCUzRCUyMmdhcnJpZG8yMDExcHJvcG9zYWwlMjIlMkMlMEElMjAlMjAlMjAlMjBzY2hvbGFyMjAxNiUzRCUyMjElMjIlMkMlMEElMjAlMjAlMjAlMjBwbGFjZXglM0QlMjJFeHBlcnQlMjBTeXN0ZW1zJTIwd2l0aCUyMEFwcGxpY2F0aW9ucyUyMiUyQyUwQSUyOSUyOSUwQSUyNyUyNyUyNyUyOSUzQg==\")));\n",
       "    "
      ],
      "text/plain": [
       "<IPython.core.display.Javascript object>"
      ]
     },
     "metadata": {},
     "output_type": "display_data"
    },
    {
     "data": {
      "application/javascript": [
       "$('span:contains(\"# Temp\")').closest('.cell').remove();"
      ],
      "text/plain": [
       "<IPython.core.display.Javascript object>"
      ]
     },
     "metadata": {},
     "output_type": "display_data"
    },
    {
     "data": {
      "application/javascript": [
       "\n",
       "        $('span:contains(\"# Temp\")').closest('.cell').remove();\n",
       "        var code = IPython.notebook.insert_cell_below('code');\n",
       "        var prompt = code.element.find(\".input_prompt\");\n",
       "        prompt.append('<br><button style=\"height: 100%; width: 54px;\">Run</button>');\n",
       "        prompt.on(\"click\", \"button\", function(){\n",
       "            code.execute();\n",
       "        });\n",
       "        code.set_text(decodeURIComponent(window.atob(\"JTIzJTIwVGVtcCUwQWluc2VydCUyOCUyNyUyNyUyNyUyNyUyNyUyNyUyOSUzQiUwQXNldF9hdHRyaWJ1dGUlMjglMjdwaW5vMjAwOGElMjclMkMlMjAlMjdzY2hvbGFyMjAxNiUyNyUyQyUyMCUyNzElMjclMjklM0I=\")));\n",
       "    "
      ],
      "text/plain": [
       "<IPython.core.display.Javascript object>"
      ]
     },
     "metadata": {},
     "output_type": "display_data"
    },
    {
     "data": {
      "application/javascript": [
       "$('span:contains(\"# Temp\")').closest('.cell').remove();"
      ],
      "text/plain": [
       "<IPython.core.display.Javascript object>"
      ]
     },
     "metadata": {},
     "output_type": "display_data"
    },
    {
     "data": {
      "application/javascript": [
       "\n",
       "        $('span:contains(\"# Temp\")').closest('.cell').remove();\n",
       "        var code = IPython.notebook.insert_cell_below('code');\n",
       "        var prompt = code.element.find(\".input_prompt\");\n",
       "        prompt.append('<br><button style=\"height: 100%; width: 54px;\">Run</button>');\n",
       "        prompt.on(\"click\", \"button\", function(){\n",
       "            code.execute();\n",
       "        });\n",
       "        code.set_text(decodeURIComponent(window.atob(\"JTIzJTIwVGVtcCUwQWluc2VydCUyOCUyNyUyNyUyNyUyNyUyNyUyNyUyOSUzQiUwQXNldF9hdHRyaWJ1dGUlMjglMjdwaW5vMjAwOGElMjclMkMlMjAlMjdzY2hvbGFyMjAxNiUyNyUyQyUyMCUyNzElMjclMjklM0I=\")));\n",
       "    "
      ],
      "text/plain": [
       "<IPython.core.display.Javascript object>"
      ]
     },
     "metadata": {},
     "output_type": "display_data"
    },
    {
     "data": {
      "application/javascript": [
       "$('span:contains(\"# Temp\")').closest('.cell').remove();"
      ],
      "text/plain": [
       "<IPython.core.display.Javascript object>"
      ]
     },
     "metadata": {},
     "output_type": "display_data"
    },
    {
     "data": {
      "application/javascript": [
       "\n",
       "        $('span:contains(\"# Temp\")').closest('.cell').remove();\n",
       "        var code = IPython.notebook.insert_cell_below('code');\n",
       "        var prompt = code.element.find(\".input_prompt\");\n",
       "        prompt.append('<br><button style=\"height: 100%; width: 54px;\">Run</button>');\n",
       "        prompt.on(\"click\", \"button\", function(){\n",
       "            code.execute();\n",
       "        });\n",
       "        code.set_text(decodeURIComponent(window.atob(\"JTIzJTIwVGVtcCUwQWluc2VydCUyOCUyNyUyNyUyNyUwQWppbSVDMyVBOW5lejIwMDlhJTIwJTNEJTIwREIlMjhXb3JrVW5yZWxhdGVkJTI4JTBBJTIwJTIwJTIwJTIwMjAwOSUyQyUyMCUyMkNoYWxsZW5nZXMlMjBhbmQlMjBpbXByb3ZlbWVudHMlMjBpbiUyMGRpc3RyaWJ1dGVkJTIwc29mdHdhcmUlMjBkZXZlbG9wbWVudCUzQSUyMEElMjBzeXN0ZW1hdGljJTIwcmV2aWV3JTIyJTJDJTBBJTIwJTIwJTIwJTIwZGlzcGxheSUzRCUyMmppbSVDMyVBOW5leiUyMiUyQyUwQSUyMCUyMCUyMCUyMGF1dGhvcnMlM0QlMjJKaW0lQzMlQTluZXolMkMlMjBNaWd1ZWwlMjBhbmQlMjBQaWF0dGluaSUyQyUyME1hcmlvJTIwYW5kJTIwVml6Y2ElQzMlQURubyUyQyUyMEF1cm9yYSUyMiUyQyUwQSUyMCUyMCUyMCUyMHBsYWNlJTNERkFLRSUyQyUwQSUyMCUyMCUyMCUyMHBwJTNEJTIyMyUyMiUyQyUwQSUyMCUyMCUyMCUyMGVudHJ5dHlwZSUzRCUyMmFydGljbGUlMjIlMkMlMEElMjAlMjAlMjAlMjB2b2x1bWUlM0QlMjIyMDA5JTIyJTJDJTBBJTIwJTIwJTIwJTIwcHVibGlzaGVyJTNEJTIySGluZGF3aSUyMFB1Ymxpc2hpbmclMjBDb3JwLiUyMiUyQyUwQSUyMCUyMCUyMCUyMElEJTNEJTIyamltZW5lejIwMDljaGFsbGVuZ2VzJTIyJTJDJTBBJTIwJTIwJTIwJTIwc2Nob2xhcjIwMTYlM0QlMjIxJTIyJTJDJTBBJTIwJTIwJTIwJTIwcGxhY2V4JTNEJTIyQWR2YW5jZXMlMjBpbiUyMFNvZnR3YXJlJTIwRW5naW5lZXJpbmclMjIlMkMlMEElMjklMjklMEElMjclMjclMjclMjklM0I=\")));\n",
       "    "
      ],
      "text/plain": [
       "<IPython.core.display.Javascript object>"
      ]
     },
     "metadata": {},
     "output_type": "display_data"
    },
    {
     "data": {
      "application/javascript": [
       "$('span:contains(\"# Temp\")').closest('.cell').remove();"
      ],
      "text/plain": [
       "<IPython.core.display.Javascript object>"
      ]
     },
     "metadata": {},
     "output_type": "display_data"
    },
    {
     "data": {
      "application/javascript": [
       "\n",
       "        $('span:contains(\"# Temp\")').closest('.cell').remove();\n",
       "        var code = IPython.notebook.insert_cell_below('code');\n",
       "        var prompt = code.element.find(\".input_prompt\");\n",
       "        prompt.append('<br><button style=\"height: 100%; width: 54px;\">Run</button>');\n",
       "        prompt.on(\"click\", \"button\", function(){\n",
       "            code.execute();\n",
       "        });\n",
       "        code.set_text(decodeURIComponent(window.atob(\"JTIzJTIwVGVtcCUwQWluc2VydCUyOCUyNyUyNyUyNyUwQWppbSVDMyVBOW5lejIwMDlhJTIwJTNEJTIwREIlMjhXb3JrVW5yZWxhdGVkJTI4JTBBJTIwJTIwJTIwJTIwMjAwOSUyQyUyMCUyMkNoYWxsZW5nZXMlMjBhbmQlMjBpbXByb3ZlbWVudHMlMjBpbiUyMGRpc3RyaWJ1dGVkJTIwc29mdHdhcmUlMjBkZXZlbG9wbWVudCUzQSUyMEElMjBzeXN0ZW1hdGljJTIwcmV2aWV3JTIyJTJDJTBBJTIwJTIwJTIwJTIwZGlzcGxheSUzRCUyMmppbSVDMyVBOW5leiUyMiUyQyUwQSUyMCUyMCUyMCUyMGF1dGhvcnMlM0QlMjJKaW0lQzMlQTluZXolMkMlMjBNaWd1ZWwlMjBhbmQlMjBQaWF0dGluaSUyQyUyME1hcmlvJTIwYW5kJTIwVml6Y2ElQzMlQURubyUyQyUyMEF1cm9yYSUyMiUyQyUwQSUyMCUyMCUyMCUyMHBsYWNlJTNERkFLRSUyQyUwQSUyMCUyMCUyMCUyMHBwJTNEJTIyMyUyMiUyQyUwQSUyMCUyMCUyMCUyMGVudHJ5dHlwZSUzRCUyMmFydGljbGUlMjIlMkMlMEElMjAlMjAlMjAlMjB2b2x1bWUlM0QlMjIyMDA5JTIyJTJDJTBBJTIwJTIwJTIwJTIwcHVibGlzaGVyJTNEJTIySGluZGF3aSUyMFB1Ymxpc2hpbmclMjBDb3JwLiUyMiUyQyUwQSUyMCUyMCUyMCUyMElEJTNEJTIyamltZW5lejIwMDljaGFsbGVuZ2VzJTIyJTJDJTBBJTIwJTIwJTIwJTIwc2Nob2xhcjIwMTYlM0QlMjIxJTIyJTJDJTBBJTIwJTIwJTIwJTIwcGxhY2V4JTNEJTIyQWR2YW5jZXMlMjBpbiUyMFNvZnR3YXJlJTIwRW5naW5lZXJpbmclMjIlMkMlMEElMjklMjklMEElMjclMjclMjclMjklM0I=\")));\n",
       "    "
      ],
      "text/plain": [
       "<IPython.core.display.Javascript object>"
      ]
     },
     "metadata": {},
     "output_type": "display_data"
    },
    {
     "data": {
      "application/javascript": [
       "$('span:contains(\"# Temp\")').closest('.cell').remove();"
      ],
      "text/plain": [
       "<IPython.core.display.Javascript object>"
      ]
     },
     "metadata": {},
     "output_type": "display_data"
    },
    {
     "data": {
      "application/javascript": [
       "\n",
       "        $('span:contains(\"# Temp\")').closest('.cell').remove();\n",
       "        var code = IPython.notebook.insert_cell_below('code');\n",
       "        var prompt = code.element.find(\".input_prompt\");\n",
       "        prompt.append('<br><button style=\"height: 100%; width: 54px;\">Run</button>');\n",
       "        prompt.on(\"click\", \"button\", function(){\n",
       "            code.execute();\n",
       "        });\n",
       "        code.set_text(decodeURIComponent(window.atob(\"JTIzJTIwVGVtcCUwQWluc2VydCUyOCUyNyUyNyUyNyUwQWNlY2hpY2gyMDA2YSUyMCUzRCUyMERCJTI4V29ya1VucmVsYXRlZCUyOCUwQSUyMCUyMCUyMCUyMDIwMDYlMkMlMjAlMjJUcmVuZHMlMjBvbiUyMENPVFMlMjBjb21wb25lbnQlMjBpZGVudGlmaWNhdGlvbiUyMiUyQyUwQSUyMCUyMCUyMCUyMGRpc3BsYXklM0QlMjJjZWNoaWNoJTIyJTJDJTBBJTIwJTIwJTIwJTIwYXV0aG9ycyUzRCUyMkNlY2hpY2glMkMlMjBBbGVqYW5kcmElMjBhbmQlMjBSZXF1aWxlLVJvbWFuY3p1ayUyQyUyMEFubnlhJTIwYW5kJTIwQWd1aXJyZSUyQyUyMEphdmllciUyMGFuZCUyMEx1enVyaWFnYSUyQyUyMEp1YW4lMjBNJTIyJTJDJTBBJTIwJTIwJTIwJTIwcGxhY2UlM0RGQUtFJTJDJTBBJTIwJTIwJTIwJTIwcHAlM0QlMjIxMC0tcHAlMjIlMkMlMEElMjAlMjAlMjAlMjBlbnRyeXR5cGUlM0QlMjJpbnByb2NlZWRpbmdzJTIyJTJDJTBBJTIwJTIwJTIwJTIwb3JnYW5pemF0aW9uJTNEJTIySUVFRSUyMiUyQyUwQSUyMCUyMCUyMCUyMElEJTNEJTIyY2VjaGljaDIwMDZ0cmVuZHMlMjIlMkMlMEElMjAlMjAlMjAlMjBzY2hvbGFyMjAxNiUzRCUyMjElMjIlMkMlMEElMjAlMjAlMjAlMjBwbGFjZXglM0QlMjJDb21tZXJjaWFsLW9mZi10aGUtU2hlbGYlMjAlMjhDT1RTJTI5LUJhc2VkJTIwU29mdHdhcmUlMjBTeXN0ZW1zJTJDJTIwMjAwNi4lMjBGaWZ0aCUyMEludGVybmF0aW9uYWwlMjBDb25mZXJlbmNlJTIwb24lMjIlMkMlMEElMjklMjklMEElMjclMjclMjclMjklM0I=\")));\n",
       "    "
      ],
      "text/plain": [
       "<IPython.core.display.Javascript object>"
      ]
     },
     "metadata": {},
     "output_type": "display_data"
    },
    {
     "data": {
      "application/javascript": [
       "$('span:contains(\"# Temp\")').closest('.cell').remove();"
      ],
      "text/plain": [
       "<IPython.core.display.Javascript object>"
      ]
     },
     "metadata": {},
     "output_type": "display_data"
    },
    {
     "data": {
      "application/javascript": [
       "\n",
       "        $('span:contains(\"# Temp\")').closest('.cell').remove();\n",
       "        var code = IPython.notebook.insert_cell_below('code');\n",
       "        var prompt = code.element.find(\".input_prompt\");\n",
       "        prompt.append('<br><button style=\"height: 100%; width: 54px;\">Run</button>');\n",
       "        prompt.on(\"click\", \"button\", function(){\n",
       "            code.execute();\n",
       "        });\n",
       "        code.set_text(decodeURIComponent(window.atob(\"JTIzJTIwVGVtcCUwQWluc2VydCUyOCUyNyUyNyUyNyUwQWNlY2hpY2gyMDA2YSUyMCUzRCUyMERCJTI4V29ya1VucmVsYXRlZCUyOCUwQSUyMCUyMCUyMCUyMDIwMDYlMkMlMjAlMjJUcmVuZHMlMjBvbiUyMENPVFMlMjBjb21wb25lbnQlMjBpZGVudGlmaWNhdGlvbiUyMiUyQyUwQSUyMCUyMCUyMCUyMGRpc3BsYXklM0QlMjJjZWNoaWNoJTIyJTJDJTBBJTIwJTIwJTIwJTIwYXV0aG9ycyUzRCUyMkNlY2hpY2glMkMlMjBBbGVqYW5kcmElMjBhbmQlMjBSZXF1aWxlLVJvbWFuY3p1ayUyQyUyMEFubnlhJTIwYW5kJTIwQWd1aXJyZSUyQyUyMEphdmllciUyMGFuZCUyMEx1enVyaWFnYSUyQyUyMEp1YW4lMjBNJTIyJTJDJTBBJTIwJTIwJTIwJTIwcGxhY2UlM0RGQUtFJTJDJTBBJTIwJTIwJTIwJTIwcHAlM0QlMjIxMC0tcHAlMjIlMkMlMEElMjAlMjAlMjAlMjBlbnRyeXR5cGUlM0QlMjJpbnByb2NlZWRpbmdzJTIyJTJDJTBBJTIwJTIwJTIwJTIwb3JnYW5pemF0aW9uJTNEJTIySUVFRSUyMiUyQyUwQSUyMCUyMCUyMCUyMElEJTNEJTIyY2VjaGljaDIwMDZ0cmVuZHMlMjIlMkMlMEElMjAlMjAlMjAlMjBzY2hvbGFyMjAxNiUzRCUyMjElMjIlMkMlMEElMjAlMjAlMjAlMjBwbGFjZXglM0QlMjJDb21tZXJjaWFsLW9mZi10aGUtU2hlbGYlMjAlMjhDT1RTJTI5LUJhc2VkJTIwU29mdHdhcmUlMjBTeXN0ZW1zJTJDJTIwMjAwNi4lMjBGaWZ0aCUyMEludGVybmF0aW9uYWwlMjBDb25mZXJlbmNlJTIwb24lMjIlMkMlMEElMjklMjklMEElMjclMjclMjclMjklM0I=\")));\n",
       "    "
      ],
      "text/plain": [
       "<IPython.core.display.Javascript object>"
      ]
     },
     "metadata": {},
     "output_type": "display_data"
    },
    {
     "data": {
      "application/javascript": [
       "$('span:contains(\"# Temp\")').closest('.cell').remove();"
      ],
      "text/plain": [
       "<IPython.core.display.Javascript object>"
      ]
     },
     "metadata": {},
     "output_type": "display_data"
    },
    {
     "data": {
      "application/javascript": [
       "\n",
       "        $('span:contains(\"# Temp\")').closest('.cell').remove();\n",
       "        var code = IPython.notebook.insert_cell_below('code');\n",
       "        var prompt = code.element.find(\".input_prompt\");\n",
       "        prompt.append('<br><button style=\"height: 100%; width: 54px;\">Run</button>');\n",
       "        prompt.on(\"click\", \"button\", function(){\n",
       "            code.execute();\n",
       "        });\n",
       "        code.set_text(decodeURIComponent(window.atob(\"JTIzJTIwVGVtcCUwQWluc2VydCUyOCUyNyUyNyUyNyUwQWxvemFubzIwMDRhJTIwJTNEJTIwREIlMjhXb3JrVW5yZWxhdGVkJTI4JTBBJTIwJTIwJTIwJTIwMjAwNCUyQyUyMCUyMk9udG9tZXRyaWMlM0ElMjBBJTIwbWV0aG9kJTIwdG8lMjBjaG9vc2UlMjB0aGUlMjBhcHByb3ByaWF0ZSUyMG9udG9sb2d5JTIyJTJDJTBBJTIwJTIwJTIwJTIwZGlzcGxheSUzRCUyMmxvemFubyUyMiUyQyUwQSUyMCUyMCUyMCUyMGF1dGhvcnMlM0QlMjJMb3phbm8tVGVsbG8lMkMlMjBBZG9sZm8lMjBhbmQlMjBHJUMzJUIzbWV6LVAlQzMlQTlyZXolMkMlMjBBc3VuY2klQzMlQjNuJTIyJTJDJTBBJTIwJTIwJTIwJTIwcGxhY2UlM0RGQUtFJTJDJTBBJTIwJTIwJTIwJTIwcHAlM0QlMjIxLS0xOCUyMiUyQyUwQSUyMCUyMCUyMCUyMGVudHJ5dHlwZSUzRCUyMmFydGljbGUlMjIlMkMlMEElMjAlMjAlMjAlMjB2b2x1bWUlM0QlMjIxNSUyMiUyQyUwQSUyMCUyMCUyMCUyMG51bWJlciUzRCUyMjIlMjIlMkMlMEElMjAlMjAlMjAlMjBwdWJsaXNoZXIlM0QlMjJJR0klMjBHbG9iYWwlMjIlMkMlMEElMjAlMjAlMjAlMjBJRCUzRCUyMmxvemFubzIwMDRvbnRvbWV0cmljJTIyJTJDJTBBJTIwJTIwJTIwJTIwc2Nob2xhcjIwMTYlM0QlMjIxJTIyJTJDJTBBJTIwJTIwJTIwJTIwcGxhY2V4JTNEJTIySm91cm5hbCUyMG9mJTIwRGF0YWJhc2UlMjBNYW5hZ2VtZW50JTIwJTI4SkRNJTI5JTIyJTJDJTBBJTI5JTI5JTBBJTI3JTI3JTI3JTI5JTNC\")));\n",
       "    "
      ],
      "text/plain": [
       "<IPython.core.display.Javascript object>"
      ]
     },
     "metadata": {},
     "output_type": "display_data"
    },
    {
     "data": {
      "application/javascript": [
       "$('span:contains(\"# Temp\")').closest('.cell').remove();"
      ],
      "text/plain": [
       "<IPython.core.display.Javascript object>"
      ]
     },
     "metadata": {},
     "output_type": "display_data"
    },
    {
     "data": {
      "application/javascript": [
       "\n",
       "        $('span:contains(\"# Temp\")').closest('.cell').remove();\n",
       "        var code = IPython.notebook.insert_cell_below('code');\n",
       "        var prompt = code.element.find(\".input_prompt\");\n",
       "        prompt.append('<br><button style=\"height: 100%; width: 54px;\">Run</button>');\n",
       "        prompt.on(\"click\", \"button\", function(){\n",
       "            code.execute();\n",
       "        });\n",
       "        code.set_text(decodeURIComponent(window.atob(\"JTIzJTIwVGVtcCUwQWluc2VydCUyOCUyNyUyNyUyNyUwQWxvemFubzIwMDRhJTIwJTNEJTIwREIlMjhXb3JrVW5yZWxhdGVkJTI4JTBBJTIwJTIwJTIwJTIwMjAwNCUyQyUyMCUyMk9udG9tZXRyaWMlM0ElMjBBJTIwbWV0aG9kJTIwdG8lMjBjaG9vc2UlMjB0aGUlMjBhcHByb3ByaWF0ZSUyMG9udG9sb2d5JTIyJTJDJTBBJTIwJTIwJTIwJTIwZGlzcGxheSUzRCUyMmxvemFubyUyMiUyQyUwQSUyMCUyMCUyMCUyMGF1dGhvcnMlM0QlMjJMb3phbm8tVGVsbG8lMkMlMjBBZG9sZm8lMjBhbmQlMjBHJUMzJUIzbWV6LVAlQzMlQTlyZXolMkMlMjBBc3VuY2klQzMlQjNuJTIyJTJDJTBBJTIwJTIwJTIwJTIwcGxhY2UlM0RGQUtFJTJDJTBBJTIwJTIwJTIwJTIwcHAlM0QlMjIxLS0xOCUyMiUyQyUwQSUyMCUyMCUyMCUyMGVudHJ5dHlwZSUzRCUyMmFydGljbGUlMjIlMkMlMEElMjAlMjAlMjAlMjB2b2x1bWUlM0QlMjIxNSUyMiUyQyUwQSUyMCUyMCUyMCUyMG51bWJlciUzRCUyMjIlMjIlMkMlMEElMjAlMjAlMjAlMjBwdWJsaXNoZXIlM0QlMjJJR0klMjBHbG9iYWwlMjIlMkMlMEElMjAlMjAlMjAlMjBJRCUzRCUyMmxvemFubzIwMDRvbnRvbWV0cmljJTIyJTJDJTBBJTIwJTIwJTIwJTIwc2Nob2xhcjIwMTYlM0QlMjIxJTIyJTJDJTBBJTIwJTIwJTIwJTIwcGxhY2V4JTNEJTIySm91cm5hbCUyMG9mJTIwRGF0YWJhc2UlMjBNYW5hZ2VtZW50JTIwJTI4SkRNJTI5JTIyJTJDJTBBJTI5JTI5JTBBJTI3JTI3JTI3JTI5JTNC\")));\n",
       "    "
      ],
      "text/plain": [
       "<IPython.core.display.Javascript object>"
      ]
     },
     "metadata": {},
     "output_type": "display_data"
    },
    {
     "data": {
      "application/javascript": [
       "$('span:contains(\"# Temp\")').closest('.cell').remove();"
      ],
      "text/plain": [
       "<IPython.core.display.Javascript object>"
      ]
     },
     "metadata": {},
     "output_type": "display_data"
    },
    {
     "data": {
      "application/javascript": [
       "\n",
       "        $('span:contains(\"# Temp\")').closest('.cell').remove();\n",
       "        var code = IPython.notebook.insert_cell_below('code');\n",
       "        var prompt = code.element.find(\".input_prompt\");\n",
       "        prompt.append('<br><button style=\"height: 100%; width: 54px;\">Run</button>');\n",
       "        prompt.on(\"click\", \"button\", function(){\n",
       "            code.execute();\n",
       "        });\n",
       "        code.set_text(decodeURIComponent(window.atob(\"JTIzJTIwVGVtcCUwQWluc2VydCUyOCUyNyUyNyUyNyUwQXJlY2tlcjIwMDVhJTIwJTNEJTIwREIlMjhXb3JrVW5yZWxhdGVkJTI4JTBBJTIwJTIwJTIwJTIwMjAwNSUyQyUyMCUyMkRvJTIwcHJvY2VzcyUyMG1vZGVsbGluZyUyMHRlY2huaXF1ZXMlMjBnZXQlMjBiZXR0ZXIlM0YlMjBBJTIwY29tcGFyYXRpdmUlMjBvbnRvbG9naWNhbCUyMGFuYWx5c2lzJTIwb2YlMjBCUE1OJTIyJTJDJTBBJTIwJTIwJTIwJTIwZGlzcGxheSUzRCUyMnJlY2tlciUyMiUyQyUwQSUyMCUyMCUyMCUyMGF1dGhvcnMlM0QlMjJSZWNrZXIlMkMlMjBKYW4lMjBDJTIwYW5kJTIwSW5kdWxza2ElMkMlMjBNYXJ0YSUyMGFuZCUyMFJvc2VtYW5uJTJDJTIwTWljaGFlbCUyMGFuZCUyMEdyZWVuJTJDJTIwUGV0ZXIlMjIlMkMlMEElMjAlMjAlMjAlMjBwbGFjZSUzREZBS0UlMkMlMEElMjAlMjAlMjAlMjBlbnRyeXR5cGUlM0QlMjJhcnRpY2xlJTIyJTJDJTBBJTIwJTIwJTIwJTIwcHVibGlzaGVyJTNEJTIyQXVzdHJhbGFzaWFuJTIwQ2hhcHRlciUyMG9mJTIwdGhlJTIwQXNzb2NpYXRpb24lMjBmb3IlMjBJbmZvcm1hdGlvbiUyMFN5c3RlbXMlMjIlMkMlMEElMjAlMjAlMjAlMjBJRCUzRCUyMnJlY2tlcjIwMDVwcm9jZXNzJTIyJTJDJTBBJTIwJTIwJTIwJTIwc2Nob2xhcjIwMTYlM0QlMjIxJTIyJTJDJTBBJTIwJTIwJTIwJTIwcGxhY2V4JTNEJTIyJTIyJTJDJTBBJTI5JTI5JTBBJTI3JTI3JTI3JTI5JTNC\")));\n",
       "    "
      ],
      "text/plain": [
       "<IPython.core.display.Javascript object>"
      ]
     },
     "metadata": {},
     "output_type": "display_data"
    },
    {
     "data": {
      "application/javascript": [
       "$('span:contains(\"# Temp\")').closest('.cell').remove();"
      ],
      "text/plain": [
       "<IPython.core.display.Javascript object>"
      ]
     },
     "metadata": {},
     "output_type": "display_data"
    },
    {
     "data": {
      "application/javascript": [
       "\n",
       "        $('span:contains(\"# Temp\")').closest('.cell').remove();\n",
       "        var code = IPython.notebook.insert_cell_below('code');\n",
       "        var prompt = code.element.find(\".input_prompt\");\n",
       "        prompt.append('<br><button style=\"height: 100%; width: 54px;\">Run</button>');\n",
       "        prompt.on(\"click\", \"button\", function(){\n",
       "            code.execute();\n",
       "        });\n",
       "        code.set_text(decodeURIComponent(window.atob(\"JTIzJTIwVGVtcCUwQWluc2VydCUyOCUyNyUyNyUyNyUwQXJlY2tlcjIwMDVhJTIwJTNEJTIwREIlMjhXb3JrVW5yZWxhdGVkJTI4JTBBJTIwJTIwJTIwJTIwMjAwNSUyQyUyMCUyMkRvJTIwcHJvY2VzcyUyMG1vZGVsbGluZyUyMHRlY2huaXF1ZXMlMjBnZXQlMjBiZXR0ZXIlM0YlMjBBJTIwY29tcGFyYXRpdmUlMjBvbnRvbG9naWNhbCUyMGFuYWx5c2lzJTIwb2YlMjBCUE1OJTIyJTJDJTBBJTIwJTIwJTIwJTIwZGlzcGxheSUzRCUyMnJlY2tlciUyMiUyQyUwQSUyMCUyMCUyMCUyMGF1dGhvcnMlM0QlMjJSZWNrZXIlMkMlMjBKYW4lMjBDJTIwYW5kJTIwSW5kdWxza2ElMkMlMjBNYXJ0YSUyMGFuZCUyMFJvc2VtYW5uJTJDJTIwTWljaGFlbCUyMGFuZCUyMEdyZWVuJTJDJTIwUGV0ZXIlMjIlMkMlMEElMjAlMjAlMjAlMjBwbGFjZSUzREZBS0UlMkMlMEElMjAlMjAlMjAlMjBlbnRyeXR5cGUlM0QlMjJhcnRpY2xlJTIyJTJDJTBBJTIwJTIwJTIwJTIwcHVibGlzaGVyJTNEJTIyQXVzdHJhbGFzaWFuJTIwQ2hhcHRlciUyMG9mJTIwdGhlJTIwQXNzb2NpYXRpb24lMjBmb3IlMjBJbmZvcm1hdGlvbiUyMFN5c3RlbXMlMjIlMkMlMEElMjAlMjAlMjAlMjBJRCUzRCUyMnJlY2tlcjIwMDVwcm9jZXNzJTIyJTJDJTBBJTIwJTIwJTIwJTIwc2Nob2xhcjIwMTYlM0QlMjIxJTIyJTJDJTBBJTIwJTIwJTIwJTIwcGxhY2V4JTNEJTIyJTIyJTJDJTBBJTI5JTI5JTBBJTI3JTI3JTI3JTI5JTNC\")));\n",
       "    "
      ],
      "text/plain": [
       "<IPython.core.display.Javascript object>"
      ]
     },
     "metadata": {},
     "output_type": "display_data"
    },
    {
     "data": {
      "application/javascript": [
       "$('span:contains(\"# Temp\")').closest('.cell').remove();"
      ],
      "text/plain": [
       "<IPython.core.display.Javascript object>"
      ]
     },
     "metadata": {},
     "output_type": "display_data"
    },
    {
     "data": {
      "application/javascript": [
       "\n",
       "        $('span:contains(\"# Temp\")').closest('.cell').remove();\n",
       "        var code = IPython.notebook.insert_cell_below('code');\n",
       "        var prompt = code.element.find(\".input_prompt\");\n",
       "        prompt.append('<br><button style=\"height: 100%; width: 54px;\">Run</button>');\n",
       "        prompt.on(\"click\", \"button\", function(){\n",
       "            code.execute();\n",
       "        });\n",
       "        code.set_text(decodeURIComponent(window.atob(\"JTIzJTIwVGVtcCUwQWluc2VydCUyOCUyNyUyNyUyNyUwQWRvdWdpYW1hczIwMDNhJTIwJTNEJTIwREIlMjhXb3JrVW5yZWxhdGVkJTI4JTBBJTIwJTIwJTIwJTIwMjAwMyUyQyUyMCUyMk1vb2RsZSUzQSUyMFVzaW5nJTIwbGVhcm5pbmclMjBjb21tdW5pdGllcyUyMHRvJTIwY3JlYXRlJTIwYW4lMjBvcGVuJTIwc291cmNlJTIwY291cnNlJTIwbWFuYWdlbWVudCUyMHN5c3RlbSUyMiUyQyUwQSUyMCUyMCUyMCUyMGRpc3BsYXklM0QlMjJkb3VnaWFtYXMlMjIlMkMlMEElMjAlMjAlMjAlMjBhdXRob3JzJTNEJTIyRG91Z2lhbWFzJTJDJTIwTWFydGluJTIwYW5kJTIwVGF5bG9yJTJDJTIwUGV0ZXIlMjIlMkMlMEElMjAlMjAlMjAlMjBwbGFjZSUzREZBS0UlMkMlMEElMjAlMjAlMjAlMjBwcCUzRCUyMjE3MS0tMTc4JTIyJTJDJTBBJTIwJTIwJTIwJTIwZW50cnl0eXBlJTNEJTIyaW5wcm9jZWVkaW5ncyUyMiUyQyUwQSUyMCUyMCUyMCUyMG9yZ2FuaXphdGlvbiUzRCUyMkFzc29jaWF0aW9uJTIwZm9yJTIwdGhlJTIwQWR2YW5jZW1lbnQlMjBvZiUyMENvbXB1dGluZyUyMGluJTIwRWR1Y2F0aW9uJTIwJTI4QUFDRSUyOSUyMiUyQyUwQSUyMCUyMCUyMCUyMElEJTNEJTIyZG91Z2lhbWFzMjAwM21vb2RsZSUyMiUyQyUwQSUyMCUyMCUyMCUyMHNjaG9sYXIyMDE2JTNEJTIyMSUyMiUyQyUwQSUyMCUyMCUyMCUyMHBsYWNleCUzRCUyMkVkTWVkaWElM0ElMjBXb3JsZCUyMENvbmZlcmVuY2UlMjBvbiUyMEVkdWNhdGlvbmFsJTIwTWVkaWElMjBhbmQlMjBUZWNobm9sb2d5JTIyJTJDJTBBJTI5JTI5JTBBJTI3JTI3JTI3JTI5JTNC\")));\n",
       "    "
      ],
      "text/plain": [
       "<IPython.core.display.Javascript object>"
      ]
     },
     "metadata": {},
     "output_type": "display_data"
    },
    {
     "data": {
      "application/javascript": [
       "$('span:contains(\"# Temp\")').closest('.cell').remove();"
      ],
      "text/plain": [
       "<IPython.core.display.Javascript object>"
      ]
     },
     "metadata": {},
     "output_type": "display_data"
    },
    {
     "data": {
      "application/javascript": [
       "\n",
       "        $('span:contains(\"# Temp\")').closest('.cell').remove();\n",
       "        var code = IPython.notebook.insert_cell_below('code');\n",
       "        var prompt = code.element.find(\".input_prompt\");\n",
       "        prompt.append('<br><button style=\"height: 100%; width: 54px;\">Run</button>');\n",
       "        prompt.on(\"click\", \"button\", function(){\n",
       "            code.execute();\n",
       "        });\n",
       "        code.set_text(decodeURIComponent(window.atob(\"JTIzJTIwVGVtcCUwQWluc2VydCUyOCUyNyUyNyUyNyUwQWRvdWdpYW1hczIwMDNhJTIwJTNEJTIwREIlMjhXb3JrVW5yZWxhdGVkJTI4JTBBJTIwJTIwJTIwJTIwMjAwMyUyQyUyMCUyMk1vb2RsZSUzQSUyMFVzaW5nJTIwbGVhcm5pbmclMjBjb21tdW5pdGllcyUyMHRvJTIwY3JlYXRlJTIwYW4lMjBvcGVuJTIwc291cmNlJTIwY291cnNlJTIwbWFuYWdlbWVudCUyMHN5c3RlbSUyMiUyQyUwQSUyMCUyMCUyMCUyMGRpc3BsYXklM0QlMjJkb3VnaWFtYXMlMjIlMkMlMEElMjAlMjAlMjAlMjBhdXRob3JzJTNEJTIyRG91Z2lhbWFzJTJDJTIwTWFydGluJTIwYW5kJTIwVGF5bG9yJTJDJTIwUGV0ZXIlMjIlMkMlMEElMjAlMjAlMjAlMjBwbGFjZSUzREZBS0UlMkMlMEElMjAlMjAlMjAlMjBwcCUzRCUyMjE3MS0tMTc4JTIyJTJDJTBBJTIwJTIwJTIwJTIwZW50cnl0eXBlJTNEJTIyaW5wcm9jZWVkaW5ncyUyMiUyQyUwQSUyMCUyMCUyMCUyMG9yZ2FuaXphdGlvbiUzRCUyMkFzc29jaWF0aW9uJTIwZm9yJTIwdGhlJTIwQWR2YW5jZW1lbnQlMjBvZiUyMENvbXB1dGluZyUyMGluJTIwRWR1Y2F0aW9uJTIwJTI4QUFDRSUyOSUyMiUyQyUwQSUyMCUyMCUyMCUyMElEJTNEJTIyZG91Z2lhbWFzMjAwM21vb2RsZSUyMiUyQyUwQSUyMCUyMCUyMCUyMHNjaG9sYXIyMDE2JTNEJTIyMSUyMiUyQyUwQSUyMCUyMCUyMCUyMHBsYWNleCUzRCUyMkVkTWVkaWElM0ElMjBXb3JsZCUyMENvbmZlcmVuY2UlMjBvbiUyMEVkdWNhdGlvbmFsJTIwTWVkaWElMjBhbmQlMjBUZWNobm9sb2d5JTIyJTJDJTBBJTI5JTI5JTBBJTI3JTI3JTI3JTI5JTNC\")));\n",
       "    "
      ],
      "text/plain": [
       "<IPython.core.display.Javascript object>"
      ]
     },
     "metadata": {},
     "output_type": "display_data"
    },
    {
     "data": {
      "application/javascript": [
       "$('span:contains(\"# Temp\")').closest('.cell').remove();"
      ],
      "text/plain": [
       "<IPython.core.display.Javascript object>"
      ]
     },
     "metadata": {},
     "output_type": "display_data"
    },
    {
     "data": {
      "application/javascript": [
       "\n",
       "        $('span:contains(\"# Temp\")').closest('.cell').remove();\n",
       "        var code = IPython.notebook.insert_cell_below('code');\n",
       "        var prompt = code.element.find(\".input_prompt\");\n",
       "        prompt.append('<br><button style=\"height: 100%; width: 54px;\">Run</button>');\n",
       "        prompt.on(\"click\", \"button\", function(){\n",
       "            code.execute();\n",
       "        });\n",
       "        code.set_text(decodeURIComponent(window.atob(\"JTIzJTIwVGVtcCUwQWluc2VydCUyOCUyNyUyNyUyNyUwQXZhc3RyaWsyMDA3YSUyMCUzRCUyMERCJTI4V29ya1VucmVsYXRlZCUyOCUwQSUyMCUyMCUyMCUyMDIwMDclMkMlMjAlMjJSZWFjdG9tZSUzQSUyMGElMjBrbm93bGVkZ2UlMjBiYXNlJTIwb2YlMjBiaW9sb2dpYyUyMHBhdGh3YXlzJTIwYW5kJTIwcHJvY2Vzc2VzJTIyJTJDJTBBJTIwJTIwJTIwJTIwZGlzcGxheSUzRCUyMnZhc3RyaWslMjIlMkMlMEElMjAlMjAlMjAlMjBhdXRob3JzJTNEJTIyVmFzdHJpayUyQyUyMEltcmUlMjBhbmQlMjBEJTI3RXVzdGFjaGlvJTJDJTIwUGV0ZXIlMjBhbmQlMjBTY2htaWR0JTJDJTIwRXN0aGVyJTIwYW5kJTIwSm9zaGktVG9wZSUyQyUyMEdlZXRhJTIwYW5kJTIwR29waW5hdGglMkMlMjBHb3BhbCUyMGFuZCUyMENyb2Z0JTJDJTIwRGF2aWQlMjBhbmQlMjBkZSUyMEJvbm8lMkMlMjBCZXJuYXJkJTIwYW5kJTIwR2lsbGVzcGllJTJDJTIwTWFyYyUyMGFuZCUyMEphc3NhbCUyQyUyMEJpamF5JTIwYW5kJTIwTGV3aXMlMkMlMjBTdXphbm5hJTIwYW5kJTIwb3RoZXJzJTIyJTJDJTBBJTIwJTIwJTIwJTIwcGxhY2UlM0RGQUtFJTJDJTBBJTIwJTIwJTIwJTIwcHAlM0QlMjJSMzklMjIlMkMlMEElMjAlMjAlMjAlMjBlbnRyeXR5cGUlM0QlMjJhcnRpY2xlJTIyJTJDJTBBJTIwJTIwJTIwJTIwdm9sdW1lJTNEJTIyOCUyMiUyQyUwQSUyMCUyMCUyMCUyMG51bWJlciUzRCUyMjMlMjIlMkMlMEElMjAlMjAlMjAlMjBwdWJsaXNoZXIlM0QlMjJCaW9NZWQlMjBDZW50cmFsJTIyJTJDJTBBJTIwJTIwJTIwJTIwSUQlM0QlMjJ2YXN0cmlrMjAwN3JlYWN0b21lJTIyJTJDJTBBJTIwJTIwJTIwJTIwc2Nob2xhcjIwMTYlM0QlMjIxJTIyJTJDJTBBJTIwJTIwJTIwJTIwcGxhY2V4JTNEJTIyR2Vub21lJTIwYmlvbG9neSUyMiUyQyUwQSUyOSUyOSUwQSUyNyUyNyUyNyUyOSUzQg==\")));\n",
       "    "
      ],
      "text/plain": [
       "<IPython.core.display.Javascript object>"
      ]
     },
     "metadata": {},
     "output_type": "display_data"
    },
    {
     "data": {
      "application/javascript": [
       "$('span:contains(\"# Temp\")').closest('.cell').remove();"
      ],
      "text/plain": [
       "<IPython.core.display.Javascript object>"
      ]
     },
     "metadata": {},
     "output_type": "display_data"
    },
    {
     "data": {
      "application/javascript": [
       "\n",
       "        $('span:contains(\"# Temp\")').closest('.cell').remove();\n",
       "        var code = IPython.notebook.insert_cell_below('code');\n",
       "        var prompt = code.element.find(\".input_prompt\");\n",
       "        prompt.append('<br><button style=\"height: 100%; width: 54px;\">Run</button>');\n",
       "        prompt.on(\"click\", \"button\", function(){\n",
       "            code.execute();\n",
       "        });\n",
       "        code.set_text(decodeURIComponent(window.atob(\"JTIzJTIwVGVtcCUwQWluc2VydCUyOCUyNyUyNyUyNyUwQXZhc3RyaWsyMDA3YSUyMCUzRCUyMERCJTI4V29ya1VucmVsYXRlZCUyOCUwQSUyMCUyMCUyMCUyMDIwMDclMkMlMjAlMjJSZWFjdG9tZSUzQSUyMGElMjBrbm93bGVkZ2UlMjBiYXNlJTIwb2YlMjBiaW9sb2dpYyUyMHBhdGh3YXlzJTIwYW5kJTIwcHJvY2Vzc2VzJTIyJTJDJTBBJTIwJTIwJTIwJTIwZGlzcGxheSUzRCUyMnZhc3RyaWslMjIlMkMlMEElMjAlMjAlMjAlMjBhdXRob3JzJTNEJTIyVmFzdHJpayUyQyUyMEltcmUlMjBhbmQlMjBEJTI3RXVzdGFjaGlvJTJDJTIwUGV0ZXIlMjBhbmQlMjBTY2htaWR0JTJDJTIwRXN0aGVyJTIwYW5kJTIwSm9zaGktVG9wZSUyQyUyMEdlZXRhJTIwYW5kJTIwR29waW5hdGglMkMlMjBHb3BhbCUyMGFuZCUyMENyb2Z0JTJDJTIwRGF2aWQlMjBhbmQlMjBkZSUyMEJvbm8lMkMlMjBCZXJuYXJkJTIwYW5kJTIwR2lsbGVzcGllJTJDJTIwTWFyYyUyMGFuZCUyMEphc3NhbCUyQyUyMEJpamF5JTIwYW5kJTIwTGV3aXMlMkMlMjBTdXphbm5hJTIwYW5kJTIwb3RoZXJzJTIyJTJDJTBBJTIwJTIwJTIwJTIwcGxhY2UlM0RGQUtFJTJDJTBBJTIwJTIwJTIwJTIwcHAlM0QlMjJSMzklMjIlMkMlMEElMjAlMjAlMjAlMjBlbnRyeXR5cGUlM0QlMjJhcnRpY2xlJTIyJTJDJTBBJTIwJTIwJTIwJTIwdm9sdW1lJTNEJTIyOCUyMiUyQyUwQSUyMCUyMCUyMCUyMG51bWJlciUzRCUyMjMlMjIlMkMlMEElMjAlMjAlMjAlMjBwdWJsaXNoZXIlM0QlMjJCaW9NZWQlMjBDZW50cmFsJTIyJTJDJTBBJTIwJTIwJTIwJTIwSUQlM0QlMjJ2YXN0cmlrMjAwN3JlYWN0b21lJTIyJTJDJTBBJTIwJTIwJTIwJTIwc2Nob2xhcjIwMTYlM0QlMjIxJTIyJTJDJTBBJTIwJTIwJTIwJTIwcGxhY2V4JTNEJTIyR2Vub21lJTIwYmlvbG9neSUyMiUyQyUwQSUyOSUyOSUwQSUyNyUyNyUyNyUyOSUzQg==\")));\n",
       "    "
      ],
      "text/plain": [
       "<IPython.core.display.Javascript object>"
      ]
     },
     "metadata": {},
     "output_type": "display_data"
    },
    {
     "data": {
      "application/javascript": [
       "$('span:contains(\"# Temp\")').closest('.cell').remove();"
      ],
      "text/plain": [
       "<IPython.core.display.Javascript object>"
      ]
     },
     "metadata": {},
     "output_type": "display_data"
    },
    {
     "data": {
      "application/javascript": [
       "\n",
       "        $('span:contains(\"# Temp\")').closest('.cell').remove();\n",
       "        var code = IPython.notebook.insert_cell_below('code');\n",
       "        var prompt = code.element.find(\".input_prompt\");\n",
       "        prompt.append('<br><button style=\"height: 100%; width: 54px;\">Run</button>');\n",
       "        prompt.on(\"click\", \"button\", function(){\n",
       "            code.execute();\n",
       "        });\n",
       "        code.set_text(decodeURIComponent(window.atob(\"JTIzJTIwVGVtcCUwQWluc2VydCUyOCUyNyUyNyUyNyUyNyUyNyUyNyUyOSUzQiUwQXNldF9hdHRyaWJ1dGUlMjglMjdydWl6MjAwNGElMjclMkMlMjAlMjdzY2hvbGFyMjAxNiUyNyUyQyUyMCUyNzElMjclMjklM0I=\")));\n",
       "    "
      ],
      "text/plain": [
       "<IPython.core.display.Javascript object>"
      ]
     },
     "metadata": {},
     "output_type": "display_data"
    },
    {
     "data": {
      "application/javascript": [
       "$('span:contains(\"# Temp\")').closest('.cell').remove();"
      ],
      "text/plain": [
       "<IPython.core.display.Javascript object>"
      ]
     },
     "metadata": {},
     "output_type": "display_data"
    },
    {
     "data": {
      "application/javascript": [
       "\n",
       "        $('span:contains(\"# Temp\")').closest('.cell').remove();\n",
       "        var code = IPython.notebook.insert_cell_below('code');\n",
       "        var prompt = code.element.find(\".input_prompt\");\n",
       "        prompt.append('<br><button style=\"height: 100%; width: 54px;\">Run</button>');\n",
       "        prompt.on(\"click\", \"button\", function(){\n",
       "            code.execute();\n",
       "        });\n",
       "        code.set_text(decodeURIComponent(window.atob(\"JTIzJTIwVGVtcCUwQWluc2VydCUyOCUyNyUyNyUyNyUyNyUyNyUyNyUyOSUzQiUwQXNldF9hdHRyaWJ1dGUlMjglMjdydWl6MjAwNGElMjclMkMlMjAlMjdzY2hvbGFyMjAxNiUyNyUyQyUyMCUyNzElMjclMjklM0I=\")));\n",
       "    "
      ],
      "text/plain": [
       "<IPython.core.display.Javascript object>"
      ]
     },
     "metadata": {},
     "output_type": "display_data"
    },
    {
     "data": {
      "application/javascript": [
       "$('span:contains(\"# Temp\")').closest('.cell').remove();"
      ],
      "text/plain": [
       "<IPython.core.display.Javascript object>"
      ]
     },
     "metadata": {},
     "output_type": "display_data"
    },
    {
     "data": {
      "application/javascript": [
       "\n",
       "        $('span:contains(\"# Temp\")').closest('.cell').remove();\n",
       "        var code = IPython.notebook.insert_cell_below('code');\n",
       "        var prompt = code.element.find(\".input_prompt\");\n",
       "        prompt.append('<br><button style=\"height: 100%; width: 54px;\">Run</button>');\n",
       "        prompt.on(\"click\", \"button\", function(){\n",
       "            code.execute();\n",
       "        });\n",
       "        code.set_text(decodeURIComponent(window.atob(\"JTIzJTIwVGVtcCUwQWluc2VydCUyOCUyNyUyNyUyNyUwQWNvbnNvcnRpdW0yMDA0YiUyMCUzRCUyMERCJTI4V29ya1VucmVsYXRlZCUyOCUwQSUyMCUyMCUyMCUyMDIwMDQlMkMlMjAlMjJUaGUlMjBHZW5lJTIwT250b2xvZ3klMjAlMjhHTyUyOSUyMGRhdGFiYXNlJTIwYW5kJTIwaW5mb3JtYXRpY3MlMjByZXNvdXJjZSUyMiUyQyUwQSUyMCUyMCUyMCUyMGRpc3BsYXklM0QlMjJjb25zb3J0aXVtJTIwYiUyMiUyQyUwQSUyMCUyMCUyMCUyMGF1dGhvcnMlM0QlMjJHZW5lJTIwT250b2xvZ3klMjBDb25zb3J0aXVtJTIyJTJDJTBBJTIwJTIwJTIwJTIwcGxhY2UlM0RGQUtFJTJDJTBBJTIwJTIwJTIwJTIwcHAlM0QlMjJEMjU4LS1EMjYxJTIyJTJDJTBBJTIwJTIwJTIwJTIwZW50cnl0eXBlJTNEJTIyYXJ0aWNsZSUyMiUyQyUwQSUyMCUyMCUyMCUyMHZvbHVtZSUzRCUyMjMyJTIyJTJDJTBBJTIwJTIwJTIwJTIwbnVtYmVyJTNEJTIyc3VwcGxfMSUyMiUyQyUwQSUyMCUyMCUyMCUyMHB1Ymxpc2hlciUzRCUyMk94Zm9yZCUyMFVuaXZlcnNpdHklMjBQcmVzcyUyMiUyQyUwQSUyMCUyMCUyMCUyMElEJTNEJTIyZ2VuZTIwMDRnZW5lJTIyJTJDJTBBJTIwJTIwJTIwJTIwc2Nob2xhcjIwMTYlM0QlMjIxJTIyJTJDJTBBJTIwJTIwJTIwJTIwcGxhY2V4JTNEJTIyTnVjbGVpYyUyMGFjaWRzJTIwcmVzZWFyY2glMjIlMkMlMEElMjklMjklMEElMjclMjclMjclMjklM0I=\")));\n",
       "    "
      ],
      "text/plain": [
       "<IPython.core.display.Javascript object>"
      ]
     },
     "metadata": {},
     "output_type": "display_data"
    },
    {
     "data": {
      "application/javascript": [
       "$('span:contains(\"# Temp\")').closest('.cell').remove();"
      ],
      "text/plain": [
       "<IPython.core.display.Javascript object>"
      ]
     },
     "metadata": {},
     "output_type": "display_data"
    },
    {
     "data": {
      "application/javascript": [
       "\n",
       "        $('span:contains(\"# Temp\")').closest('.cell').remove();\n",
       "        var code = IPython.notebook.insert_cell_below('code');\n",
       "        var prompt = code.element.find(\".input_prompt\");\n",
       "        prompt.append('<br><button style=\"height: 100%; width: 54px;\">Run</button>');\n",
       "        prompt.on(\"click\", \"button\", function(){\n",
       "            code.execute();\n",
       "        });\n",
       "        code.set_text(decodeURIComponent(window.atob(\"JTIzJTIwVGVtcCUwQWluc2VydCUyOCUyNyUyNyUyNyUwQWNvbnNvcnRpdW0yMDA0YiUyMCUzRCUyMERCJTI4V29ya1VucmVsYXRlZCUyOCUwQSUyMCUyMCUyMCUyMDIwMDQlMkMlMjAlMjJUaGUlMjBHZW5lJTIwT250b2xvZ3klMjAlMjhHTyUyOSUyMGRhdGFiYXNlJTIwYW5kJTIwaW5mb3JtYXRpY3MlMjByZXNvdXJjZSUyMiUyQyUwQSUyMCUyMCUyMCUyMGRpc3BsYXklM0QlMjJjb25zb3J0aXVtJTIwYiUyMiUyQyUwQSUyMCUyMCUyMCUyMGF1dGhvcnMlM0QlMjJHZW5lJTIwT250b2xvZ3klMjBDb25zb3J0aXVtJTIyJTJDJTBBJTIwJTIwJTIwJTIwcGxhY2UlM0RGQUtFJTJDJTBBJTIwJTIwJTIwJTIwcHAlM0QlMjJEMjU4LS1EMjYxJTIyJTJDJTBBJTIwJTIwJTIwJTIwZW50cnl0eXBlJTNEJTIyYXJ0aWNsZSUyMiUyQyUwQSUyMCUyMCUyMCUyMHZvbHVtZSUzRCUyMjMyJTIyJTJDJTBBJTIwJTIwJTIwJTIwbnVtYmVyJTNEJTIyc3VwcGxfMSUyMiUyQyUwQSUyMCUyMCUyMCUyMHB1Ymxpc2hlciUzRCUyMk94Zm9yZCUyMFVuaXZlcnNpdHklMjBQcmVzcyUyMiUyQyUwQSUyMCUyMCUyMCUyMElEJTNEJTIyZ2VuZTIwMDRnZW5lJTIyJTJDJTBBJTIwJTIwJTIwJTIwc2Nob2xhcjIwMTYlM0QlMjIxJTIyJTJDJTBBJTIwJTIwJTIwJTIwcGxhY2V4JTNEJTIyTnVjbGVpYyUyMGFjaWRzJTIwcmVzZWFyY2glMjIlMkMlMEElMjklMjklMEElMjclMjclMjclMjklM0I=\")));\n",
       "    "
      ],
      "text/plain": [
       "<IPython.core.display.Javascript object>"
      ]
     },
     "metadata": {},
     "output_type": "display_data"
    },
    {
     "data": {
      "application/javascript": [
       "$('span:contains(\"# Temp\")').closest('.cell').remove();"
      ],
      "text/plain": [
       "<IPython.core.display.Javascript object>"
      ]
     },
     "metadata": {},
     "output_type": "display_data"
    },
    {
     "data": {
      "application/javascript": [
       "\n",
       "        $('span:contains(\"# Temp\")').closest('.cell').remove();\n",
       "        var code = IPython.notebook.insert_cell_below('code');\n",
       "        var prompt = code.element.find(\".input_prompt\");\n",
       "        prompt.append('<br><button style=\"height: 100%; width: 54px;\">Run</button>');\n",
       "        prompt.on(\"click\", \"button\", function(){\n",
       "            code.execute();\n",
       "        });\n",
       "        code.set_text(decodeURIComponent(window.atob(\"JTIzJTIwVGVtcCUwQWluc2VydCUyOCUyNyUyNyUyNyUwQWtlZXQyMDExYSUyMCUzRCUyMERCJTI4V29ya1VucmVsYXRlZCUyOCUwQSUyMCUyMCUyMCUyMDIwMTElMkMlMjAlMjJUaGUlMjB1c2UlMjBvZiUyMGZvdW5kYXRpb25hbCUyMG9udG9sb2dpZXMlMjBpbiUyMG9udG9sb2d5JTIwZGV2ZWxvcG1lbnQlM0ElMjBhbiUyMGVtcGlyaWNhbCUyMGFzc2Vzc21lbnQlMjIlMkMlMEElMjAlMjAlMjAlMjBkaXNwbGF5JTNEJTIya2VldCUyMiUyQyUwQSUyMCUyMCUyMCUyMGF1dGhvcnMlM0QlMjJLZWV0JTJDJTIwQyUyME1hcmlhJTIyJTJDJTBBJTIwJTIwJTIwJTIwcGxhY2UlM0RGQUtFJTJDJTBBJTIwJTIwJTIwJTIwcHAlM0QlMjIzMjEtLTMzNSUyMiUyQyUwQSUyMCUyMCUyMCUyMGVudHJ5dHlwZSUzRCUyMmlucHJvY2VlZGluZ3MlMjIlMkMlMEElMjAlMjAlMjAlMjBvcmdhbml6YXRpb24lM0QlMjJTcHJpbmdlciUyMiUyQyUwQSUyMCUyMCUyMCUyMElEJTNEJTIya2VldDIwMTF1c2UlMjIlMkMlMEElMjAlMjAlMjAlMjBzY2hvbGFyMjAxNiUzRCUyMjElMjIlMkMlMEElMjAlMjAlMjAlMjBwbGFjZXglM0QlMjJFeHRlbmRlZCUyMFNlbWFudGljJTIwV2ViJTIwQ29uZmVyZW5jZSUyMiUyQyUwQSUyOSUyOSUwQSUyNyUyNyUyNyUyOSUzQg==\")));\n",
       "    "
      ],
      "text/plain": [
       "<IPython.core.display.Javascript object>"
      ]
     },
     "metadata": {},
     "output_type": "display_data"
    },
    {
     "data": {
      "application/javascript": [
       "$('span:contains(\"# Temp\")').closest('.cell').remove();"
      ],
      "text/plain": [
       "<IPython.core.display.Javascript object>"
      ]
     },
     "metadata": {},
     "output_type": "display_data"
    },
    {
     "data": {
      "application/javascript": [
       "\n",
       "        $('span:contains(\"# Temp\")').closest('.cell').remove();\n",
       "        var code = IPython.notebook.insert_cell_below('code');\n",
       "        var prompt = code.element.find(\".input_prompt\");\n",
       "        prompt.append('<br><button style=\"height: 100%; width: 54px;\">Run</button>');\n",
       "        prompt.on(\"click\", \"button\", function(){\n",
       "            code.execute();\n",
       "        });\n",
       "        code.set_text(decodeURIComponent(window.atob(\"JTIzJTIwVGVtcCUwQWluc2VydCUyOCUyNyUyNyUyNyUwQWtlZXQyMDExYSUyMCUzRCUyMERCJTI4V29ya1VucmVsYXRlZCUyOCUwQSUyMCUyMCUyMCUyMDIwMTElMkMlMjAlMjJUaGUlMjB1c2UlMjBvZiUyMGZvdW5kYXRpb25hbCUyMG9udG9sb2dpZXMlMjBpbiUyMG9udG9sb2d5JTIwZGV2ZWxvcG1lbnQlM0ElMjBhbiUyMGVtcGlyaWNhbCUyMGFzc2Vzc21lbnQlMjIlMkMlMEElMjAlMjAlMjAlMjBkaXNwbGF5JTNEJTIya2VldCUyMiUyQyUwQSUyMCUyMCUyMCUyMGF1dGhvcnMlM0QlMjJLZWV0JTJDJTIwQyUyME1hcmlhJTIyJTJDJTBBJTIwJTIwJTIwJTIwcGxhY2UlM0RGQUtFJTJDJTBBJTIwJTIwJTIwJTIwcHAlM0QlMjIzMjEtLTMzNSUyMiUyQyUwQSUyMCUyMCUyMCUyMGVudHJ5dHlwZSUzRCUyMmlucHJvY2VlZGluZ3MlMjIlMkMlMEElMjAlMjAlMjAlMjBvcmdhbml6YXRpb24lM0QlMjJTcHJpbmdlciUyMiUyQyUwQSUyMCUyMCUyMCUyMElEJTNEJTIya2VldDIwMTF1c2UlMjIlMkMlMEElMjAlMjAlMjAlMjBzY2hvbGFyMjAxNiUzRCUyMjElMjIlMkMlMEElMjAlMjAlMjAlMjBwbGFjZXglM0QlMjJFeHRlbmRlZCUyMFNlbWFudGljJTIwV2ViJTIwQ29uZmVyZW5jZSUyMiUyQyUwQSUyOSUyOSUwQSUyNyUyNyUyNyUyOSUzQg==\")));\n",
       "    "
      ],
      "text/plain": [
       "<IPython.core.display.Javascript object>"
      ]
     },
     "metadata": {},
     "output_type": "display_data"
    },
    {
     "data": {
      "application/javascript": [
       "$('span:contains(\"# Temp\")').closest('.cell').remove();"
      ],
      "text/plain": [
       "<IPython.core.display.Javascript object>"
      ]
     },
     "metadata": {},
     "output_type": "display_data"
    },
    {
     "data": {
      "application/javascript": [
       "\n",
       "        $('span:contains(\"# Temp\")').closest('.cell').remove();\n",
       "        var code = IPython.notebook.insert_cell_below('code');\n",
       "        var prompt = code.element.find(\".input_prompt\");\n",
       "        prompt.append('<br><button style=\"height: 100%; width: 54px;\">Run</button>');\n",
       "        prompt.on(\"click\", \"button\", function(){\n",
       "            code.execute();\n",
       "        });\n",
       "        code.set_text(decodeURIComponent(window.atob(\"JTIzJTIwVGVtcCUwQWluc2VydCUyOCUyNyUyNyUyNyUwQWF0aGFuYXNpYWRpczIwMDlhJTIwJTNEJTIwREIlMjhXb3JrVW5yZWxhdGVkJTI4JTBBJTIwJTIwJTIwJTIwMjAwOSUyQyUyMCUyMk9udG9sb2d5JTIwZm9yJTIwc2VhbWxlc3MlMjBpbnRlZ3JhdGlvbiUyMG9mJTIwYWdyaWN1bHR1cmFsJTIwZGF0YSUyMGFuZCUyMG1vZGVscyUyMiUyQyUwQSUyMCUyMCUyMCUyMGRpc3BsYXklM0QlMjJhdGhhbmFzaWFkaXMlMjIlMkMlMEElMjAlMjAlMjAlMjBhdXRob3JzJTNEJTIyQXRoYW5hc2lhZGlzJTJDJTIwSW9hbm5pcyUyME4lMjBhbmQlMjBSaXp6b2xpJTJDJTIwQW5kcmVhLUVtaWxpbyUyMGFuZCUyMEphbnNzZW4lMkMlMjBTYW5kZXIlMjBhbmQlMjBBbmRlcnNlbiUyQyUyMEVybGluZyUyMGFuZCUyMFZpbGxhJTJDJTIwRmVyZGluYW5kbyUyMiUyQyUwQSUyMCUyMCUyMCUyMHBsYWNlJTNERkFLRSUyQyUwQSUyMCUyMCUyMCUyMHBwJTNEJTIyMjgyLS0yOTMlMjIlMkMlMEElMjAlMjAlMjAlMjBlbnRyeXR5cGUlM0QlMjJpbnByb2NlZWRpbmdzJTIyJTJDJTBBJTIwJTIwJTIwJTIwb3JnYW5pemF0aW9uJTNEJTIyU3ByaW5nZXIlMjIlMkMlMEElMjAlMjAlMjAlMjBJRCUzRCUyMmF0aGFuYXNpYWRpczIwMDlvbnRvbG9neSUyMiUyQyUwQSUyMCUyMCUyMCUyMHNjaG9sYXIyMDE2JTNEJTIyMSUyMiUyQyUwQSUyMCUyMCUyMCUyMHBsYWNleCUzRCUyMlJlc2VhcmNoJTIwQ29uZmVyZW5jZSUyMG9uJTIwTWV0YWRhdGElMjBhbmQlMjBTZW1hbnRpYyUyMFJlc2VhcmNoJTIyJTJDJTBBJTI5JTI5JTBBJTI3JTI3JTI3JTI5JTNC\")));\n",
       "    "
      ],
      "text/plain": [
       "<IPython.core.display.Javascript object>"
      ]
     },
     "metadata": {},
     "output_type": "display_data"
    },
    {
     "data": {
      "application/javascript": [
       "$('span:contains(\"# Temp\")').closest('.cell').remove();"
      ],
      "text/plain": [
       "<IPython.core.display.Javascript object>"
      ]
     },
     "metadata": {},
     "output_type": "display_data"
    },
    {
     "data": {
      "application/javascript": [
       "\n",
       "        $('span:contains(\"# Temp\")').closest('.cell').remove();\n",
       "        var code = IPython.notebook.insert_cell_below('code');\n",
       "        var prompt = code.element.find(\".input_prompt\");\n",
       "        prompt.append('<br><button style=\"height: 100%; width: 54px;\">Run</button>');\n",
       "        prompt.on(\"click\", \"button\", function(){\n",
       "            code.execute();\n",
       "        });\n",
       "        code.set_text(decodeURIComponent(window.atob(\"JTIzJTIwVGVtcCUwQWluc2VydCUyOCUyNyUyNyUyNyUwQWF0aGFuYXNpYWRpczIwMDlhJTIwJTNEJTIwREIlMjhXb3JrVW5yZWxhdGVkJTI4JTBBJTIwJTIwJTIwJTIwMjAwOSUyQyUyMCUyMk9udG9sb2d5JTIwZm9yJTIwc2VhbWxlc3MlMjBpbnRlZ3JhdGlvbiUyMG9mJTIwYWdyaWN1bHR1cmFsJTIwZGF0YSUyMGFuZCUyMG1vZGVscyUyMiUyQyUwQSUyMCUyMCUyMCUyMGRpc3BsYXklM0QlMjJhdGhhbmFzaWFkaXMlMjIlMkMlMEElMjAlMjAlMjAlMjBhdXRob3JzJTNEJTIyQXRoYW5hc2lhZGlzJTJDJTIwSW9hbm5pcyUyME4lMjBhbmQlMjBSaXp6b2xpJTJDJTIwQW5kcmVhLUVtaWxpbyUyMGFuZCUyMEphbnNzZW4lMkMlMjBTYW5kZXIlMjBhbmQlMjBBbmRlcnNlbiUyQyUyMEVybGluZyUyMGFuZCUyMFZpbGxhJTJDJTIwRmVyZGluYW5kbyUyMiUyQyUwQSUyMCUyMCUyMCUyMHBsYWNlJTNERkFLRSUyQyUwQSUyMCUyMCUyMCUyMHBwJTNEJTIyMjgyLS0yOTMlMjIlMkMlMEElMjAlMjAlMjAlMjBlbnRyeXR5cGUlM0QlMjJpbnByb2NlZWRpbmdzJTIyJTJDJTBBJTIwJTIwJTIwJTIwb3JnYW5pemF0aW9uJTNEJTIyU3ByaW5nZXIlMjIlMkMlMEElMjAlMjAlMjAlMjBJRCUzRCUyMmF0aGFuYXNpYWRpczIwMDlvbnRvbG9neSUyMiUyQyUwQSUyMCUyMCUyMCUyMHNjaG9sYXIyMDE2JTNEJTIyMSUyMiUyQyUwQSUyMCUyMCUyMCUyMHBsYWNleCUzRCUyMlJlc2VhcmNoJTIwQ29uZmVyZW5jZSUyMG9uJTIwTWV0YWRhdGElMjBhbmQlMjBTZW1hbnRpYyUyMFJlc2VhcmNoJTIyJTJDJTBBJTI5JTI5JTBBJTI3JTI3JTI3JTI5JTNC\")));\n",
       "    "
      ],
      "text/plain": [
       "<IPython.core.display.Javascript object>"
      ]
     },
     "metadata": {},
     "output_type": "display_data"
    }
   ],
   "source": [
    "from custom_snowballing import UnrelatedInsert\n",
    "UnrelatedInsert(\"scholar2016\", articles=article_list)"
   ]
  },
  {
   "cell_type": "code",
   "execution_count": 66,
   "metadata": {},
   "outputs": [
    {
     "name": "stdout",
     "output_type": "stream",
     "text": [
      "-Insert: athanasiadis2009a\n"
     ]
    }
   ],
   "source": [
    "# Temp\n",
    "insert('''\n",
    "athanasiadis2009a = DB(WorkUnrelated(\n",
    "    2009, \"Ontology for seamless integration of agricultural data and models\",\n",
    "    display=\"athanasiadis\",\n",
    "    authors=\"Athanasiadis, Ioannis N and Rizzoli, Andrea-Emilio and Janssen, Sander and Andersen, Erling and Villa, Ferdinando\",\n",
    "    place=FAKE,\n",
    "    pp=\"282--293\",\n",
    "    entrytype=\"inproceedings\",\n",
    "    organization=\"Springer\",\n",
    "    ID=\"athanasiadis2009ontology\",\n",
    "    scholar2016=\"1\",\n",
    "    placex=\"Research Conference on Metadata and Semantic Research\",\n",
    "))\n",
    "''');"
   ]
  },
  {
   "cell_type": "code",
   "execution_count": null,
   "metadata": {
    "collapsed": true
   },
   "outputs": [],
   "source": []
  }
 ],
 "metadata": {
  "hide_input": false,
  "kernelspec": {
   "display_name": "Python 3",
   "language": "python",
   "name": "python3"
  },
  "language_info": {
   "codemirror_mode": {
    "name": "ipython",
    "version": 3
   },
   "file_extension": ".py",
   "mimetype": "text/x-python",
   "name": "python",
   "nbconvert_exporter": "python",
   "pygments_lexer": "ipython3",
   "version": "3.6.0"
  },
  "toc": {
   "nav_menu": {
    "height": "12px",
    "width": "252px"
   },
   "number_sections": true,
   "sideBar": true,
   "skip_h1_title": false,
   "toc_cell": false,
   "toc_position": {},
   "toc_section_display": "block",
   "toc_window_display": false
  }
 },
 "nbformat": 4,
 "nbformat_minor": 2
}
