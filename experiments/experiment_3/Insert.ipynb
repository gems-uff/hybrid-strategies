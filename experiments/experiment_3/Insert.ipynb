{
 "cells": [
  {
   "cell_type": "code",
   "execution_count": 1,
   "metadata": {
    "collapsed": true
   },
   "outputs": [],
   "source": [
    "import database\n",
    "import custom_jupyter_utils\n",
    "from snowballing.operations import load_work, reload, work_by_varname\n",
    "from snowballing.snowballing import Converter\n",
    "from snowballing.snowballing import ArticleNavigator\n",
    "from snowballing.dbmanager import insert, set_attribute"
   ]
  },
  {
   "cell_type": "code",
   "execution_count": 2,
   "metadata": {
    "scrolled": true
   },
   "outputs": [
    {
     "data": {
      "application/vnd.jupyter.widget-view+json": {
       "model_id": "516a87ee3dbe4cc2aa626ec9581b918b",
       "version_major": 2,
       "version_minor": 0
      },
      "text/html": [
       "<p>Failed to display Jupyter Widget of type <code>VBox</code>.</p>\n",
       "<p>\n",
       "  If you're reading this message in Jupyter Notebook or JupyterLab, it may mean\n",
       "  that the widgets JavaScript is still loading. If this message persists, it\n",
       "  likely means that the widgets JavaScript library is either not installed or\n",
       "  not enabled. See the <a href=\"https://ipywidgets.readthedocs.io/en/stable/user_install.html\">Jupyter\n",
       "  Widgets Documentation</a> for setup instructions.\n",
       "</p>\n",
       "<p>\n",
       "  If you're reading this message in another notebook frontend (for example, a static\n",
       "  rendering on GitHub or <a href=\"https://nbviewer.jupyter.org/\">NBViewer</a>),\n",
       "  it may mean that your frontend doesn't currently support widgets.\n",
       "</p>\n"
      ],
      "text/plain": [
       "VBox(children=(HBox(children=(Dropdown(options={'BibTeX': 'bibtex', 'Text': 'text', '[N] author name place other year': 'citation', 'Quoted': 'quoted'}, value='bibtex'), Button(description='Set article_list variable', style=ButtonStyle()), Label(value=''))), HBox(children=(Textarea(value='', layout=Layout(height='500px', width='50%')), Textarea(value='', layout=Layout(height='500px', width='50%'))))))"
      ]
     },
     "metadata": {},
     "output_type": "display_data"
    }
   ],
   "source": [
    "Converter(\"bibtex\")\n"
   ]
  },
  {
   "cell_type": "code",
   "execution_count": 3,
   "metadata": {},
   "outputs": [
    {
     "data": {
      "text/plain": [
       "105"
      ]
     },
     "execution_count": 3,
     "metadata": {},
     "output_type": "execute_result"
    }
   ],
   "source": [
    "len(article_list)"
   ]
  },
  {
   "cell_type": "code",
   "execution_count": 4,
   "metadata": {
    "collapsed": true
   },
   "outputs": [],
   "source": [
    "from snowballing.operations import reload\n",
    "reload()\n"
   ]
  },
  {
   "cell_type": "code",
   "execution_count": null,
   "metadata": {
    "collapsed": true
   },
   "outputs": [],
   "source": []
  },
  {
   "cell_type": "code",
   "execution_count": null,
   "metadata": {
    "collapsed": true,
    "scrolled": false
   },
   "outputs": [],
   "source": [
    "ArticleNavigator??"
   ]
  },
  {
   "cell_type": "code",
   "execution_count": null,
   "metadata": {
    "collapsed": true
   },
   "outputs": [],
   "source": []
  },
  {
   "cell_type": "code",
   "execution_count": null,
   "metadata": {
    "collapsed": true
   },
   "outputs": [],
   "source": []
  },
  {
   "cell_type": "code",
   "execution_count": null,
   "metadata": {
    "collapsed": true
   },
   "outputs": [],
   "source": [
    "ArticleNavigator(articles=article_list)"
   ]
  },
  {
   "cell_type": "code",
   "execution_count": null,
   "metadata": {
    "collapsed": true
   },
   "outputs": [],
   "source": []
  },
  {
   "cell_type": "code",
   "execution_count": null,
   "metadata": {
    "collapsed": true
   },
   "outputs": [],
   "source": [
    "ArticleNavigator??"
   ]
  },
  {
   "cell_type": "code",
   "execution_count": null,
   "metadata": {
    "collapsed": true
   },
   "outputs": [],
   "source": []
  },
  {
   "cell_type": "code",
   "execution_count": null,
   "metadata": {
    "collapsed": true
   },
   "outputs": [],
   "source": []
  },
  {
   "cell_type": "code",
   "execution_count": null,
   "metadata": {
    "collapsed": true
   },
   "outputs": [],
   "source": []
  },
  {
   "cell_type": "code",
   "execution_count": 6,
   "metadata": {},
   "outputs": [
    {
     "data": {
      "application/vnd.jupyter.widget-view+json": {
       "model_id": "1c674dc986bf4cf5b11c7d4568dbcf85",
       "version_major": 2,
       "version_minor": 0
      },
      "text/html": [
       "<p>Failed to display Jupyter Widget of type <code>VBox</code>.</p>\n",
       "<p>\n",
       "  If you're reading this message in Jupyter Notebook or JupyterLab, it may mean\n",
       "  that the widgets JavaScript is still loading. If this message persists, it\n",
       "  likely means that the widgets JavaScript library is either not installed or\n",
       "  not enabled. See the <a href=\"https://ipywidgets.readthedocs.io/en/stable/user_install.html\">Jupyter\n",
       "  Widgets Documentation</a> for setup instructions.\n",
       "</p>\n",
       "<p>\n",
       "  If you're reading this message in another notebook frontend (for example, a static\n",
       "  rendering on GitHub or <a href=\"https://nbviewer.jupyter.org/\">NBViewer</a>),\n",
       "  it may mean that your frontend doesn't currently support widgets.\n",
       "</p>\n"
      ],
      "text/plain": [
       "VBox(children=(HBox(children=(Button(description='Previous Article', disabled=True, icon='caret-left', style=ButtonStyle()), Button(description='Reload Article', icon='refresh', style=ButtonStyle()), Button(description='Next Article', icon='caret-right', style=ButtonStyle()))), HBox(children=(Dropdown(description='Type', index=3, options=('Work', 'WorkSnowball', 'WorkOk', 'WorkUnrelated', 'WorkNoFile', 'WorkLang', 'Site', 'Email'), value='WorkUnrelated'), ToggleButton(value=False, description='File'))), HBox(children=(Text(value='', description='Due'), Text(value='', description='Place'))), HBox(children=(Text(value='', description='Year'), Text(value='', description='Prefix Var'))), HBox(children=(Text(value='', description='PDFPage'), Text(value='', description='Related'))), HBox(children=(Text(value='', description='Display'), Text(value='', description='Summary'))), HBox(children=(Text(value='', description='Star'), Text(value='', description='Link'))), HBox(children=(Text(value='1', description='scopus2016'),)), HBox(children=(Button(description='Reload Article', icon='refresh', style=ButtonStyle()), IntSlider(value=0, max=104), Label(value='1/105'))), Output()))"
      ]
     },
     "metadata": {},
     "output_type": "display_data"
    },
    {
     "data": {
      "application/javascript": [
       "$('span:contains(\"# Temp\")').closest('.cell').remove();"
      ],
      "text/plain": [
       "<IPython.core.display.Javascript object>"
      ]
     },
     "metadata": {},
     "output_type": "display_data"
    },
    {
     "data": {
      "application/javascript": [
       "\n",
       "        $('span:contains(\"# Temp\")').closest('.cell').remove();\n",
       "        var code = IPython.notebook.insert_cell_below('code');\n",
       "        var prompt = code.element.find(\".input_prompt\");\n",
       "        prompt.append('<br><button style=\"height: 100%; width: 54px;\">Run</button>');\n",
       "        prompt.on(\"click\", \"button\", function(){\n",
       "            code.execute();\n",
       "        });\n",
       "        code.set_text(decodeURIComponent(window.atob(\"JTIzJTIwVGVtcCUwQWluc2VydCUyOCUyNyUyNyUyNyUyNyUyNyUyNyUyOSUzQiUwQXNldF9hdHRyaWJ1dGUlMjglMjdsYXJydWNlYTIwMTZhJTI3JTJDJTIwJTI3bGluayUyNyUyQyUyMCUyN2h0dHBzJTNBLy93d3cuc2NvcHVzLmNvbS9pbndhcmQvcmVjb3JkLnVyaSUzRmVpZCUzRDItczIuMC04NDk2NTA2NjU1NiUyNmRvaSUzRDEwLjEwMTYlMjUyZmouY3NpLjIwMTYuMDQuMDA0JTI2cGFydG5lcklEJTNENDAlMjZtZDUlM0QzNjVlYTYzZWUwZjQ2N2U1ZGY4ZDE5YzU2OGIwODY2MSUyNyUyOSUzQiUwQXNldF9hdHRyaWJ1dGUlMjglMjdsYXJydWNlYTIwMTZhJTI3JTJDJTIwJTI3c2NvcHVzMjAxNiUyNyUyQyUyMCUyNzElMjclMjklM0I=\")));\n",
       "    "
      ],
      "text/plain": [
       "<IPython.core.display.Javascript object>"
      ]
     },
     "metadata": {},
     "output_type": "display_data"
    },
    {
     "data": {
      "application/javascript": [
       "$('span:contains(\"# Temp\")').closest('.cell').remove();"
      ],
      "text/plain": [
       "<IPython.core.display.Javascript object>"
      ]
     },
     "metadata": {},
     "output_type": "display_data"
    },
    {
     "data": {
      "application/javascript": [
       "\n",
       "        $('span:contains(\"# Temp\")').closest('.cell').remove();\n",
       "        var code = IPython.notebook.insert_cell_below('code');\n",
       "        var prompt = code.element.find(\".input_prompt\");\n",
       "        prompt.append('<br><button style=\"height: 100%; width: 54px;\">Run</button>');\n",
       "        prompt.on(\"click\", \"button\", function(){\n",
       "            code.execute();\n",
       "        });\n",
       "        code.set_text(decodeURIComponent(window.atob(\"JTIzJTIwVGVtcCUwQWluc2VydCUyOCUyNyUyNyUyNyUyNyUyNyUyNyUyOSUzQiUwQXNldF9hdHRyaWJ1dGUlMjglMjdwJUMzJUFEY2hhMjAxNmElMjclMkMlMjAlMjdhcnRfbnVtYmVyJTI3JTJDJTIwJTI3NzU5Mjc2OCUyNyUyOSUzQiUwQXNldF9hdHRyaWJ1dGUlMjglMjdwJUMzJUFEY2hhMjAxNmElMjclMkMlMjAlMjdsaW5rJTI3JTJDJTIwJTI3aHR0cHMlM0EvL3d3dy5zY29wdXMuY29tL2lud2FyZC9yZWNvcmQudXJpJTNGZWlkJTNEMi1zMi4wLTg1MDIwNzU3NTkyJTI2ZG9pJTNEMTAuMTEwOSUyNTJmU0VBQS4yMDE2LjM3JTI2cGFydG5lcklEJTNENDAlMjZtZDUlM0Q2YmNjMDI4Njg0OGIwMzAyYWViNjE2ZDI0YjZjNDc0ZiUyNyUyOSUzQiUwQXNldF9hdHRyaWJ1dGUlMjglMjdwJUMzJUFEY2hhMjAxNmElMjclMkMlMjAlMjdzY29wdXMyMDE2JTI3JTJDJTIwJTI3MSUyNyUyOSUzQg==\")));\n",
       "    "
      ],
      "text/plain": [
       "<IPython.core.display.Javascript object>"
      ]
     },
     "metadata": {},
     "output_type": "display_data"
    },
    {
     "data": {
      "application/javascript": [
       "$('span:contains(\"# Temp\")').closest('.cell').remove();"
      ],
      "text/plain": [
       "<IPython.core.display.Javascript object>"
      ]
     },
     "metadata": {},
     "output_type": "display_data"
    },
    {
     "data": {
      "application/javascript": [
       "\n",
       "        $('span:contains(\"# Temp\")').closest('.cell').remove();\n",
       "        var code = IPython.notebook.insert_cell_below('code');\n",
       "        var prompt = code.element.find(\".input_prompt\");\n",
       "        prompt.append('<br><button style=\"height: 100%; width: 54px;\">Run</button>');\n",
       "        prompt.on(\"click\", \"button\", function(){\n",
       "            code.execute();\n",
       "        });\n",
       "        code.set_text(decodeURIComponent(window.atob(\"JTIzJTIwVGVtcCUwQWluc2VydCUyOCUyNyUyNyUyNyUyNyUyNyUyNyUyOSUzQiUwQXNldF9hdHRyaWJ1dGUlMjglMjdwJUMzJUFEY2hhMjAxNmElMjclMkMlMjAlMjdhcnRfbnVtYmVyJTI3JTJDJTIwJTI3NzU5Mjc2OCUyNyUyOSUzQiUwQXNldF9hdHRyaWJ1dGUlMjglMjdwJUMzJUFEY2hhMjAxNmElMjclMkMlMjAlMjdsaW5rJTI3JTJDJTIwJTI3aHR0cHMlM0EvL3d3dy5zY29wdXMuY29tL2lud2FyZC9yZWNvcmQudXJpJTNGZWlkJTNEMi1zMi4wLTg1MDIwNzU3NTkyJTI2ZG9pJTNEMTAuMTEwOSUyNTJmU0VBQS4yMDE2LjM3JTI2cGFydG5lcklEJTNENDAlMjZtZDUlM0Q2YmNjMDI4Njg0OGIwMzAyYWViNjE2ZDI0YjZjNDc0ZiUyNyUyOSUzQiUwQXNldF9hdHRyaWJ1dGUlMjglMjdwJUMzJUFEY2hhMjAxNmElMjclMkMlMjAlMjdzY29wdXMyMDE2JTI3JTJDJTIwJTI3MSUyNyUyOSUzQg==\")));\n",
       "    "
      ],
      "text/plain": [
       "<IPython.core.display.Javascript object>"
      ]
     },
     "metadata": {},
     "output_type": "display_data"
    },
    {
     "data": {
      "application/javascript": [
       "$('span:contains(\"# Temp\")').closest('.cell').remove();"
      ],
      "text/plain": [
       "<IPython.core.display.Javascript object>"
      ]
     },
     "metadata": {},
     "output_type": "display_data"
    },
    {
     "data": {
      "application/javascript": [
       "\n",
       "        $('span:contains(\"# Temp\")').closest('.cell').remove();\n",
       "        var code = IPython.notebook.insert_cell_below('code');\n",
       "        var prompt = code.element.find(\".input_prompt\");\n",
       "        prompt.append('<br><button style=\"height: 100%; width: 54px;\">Run</button>');\n",
       "        prompt.on(\"click\", \"button\", function(){\n",
       "            code.execute();\n",
       "        });\n",
       "        code.set_text(decodeURIComponent(window.atob(\"JTIzJTIwVGVtcCUwQWluc2VydCUyOCUyNyUyNyUyNyUwQW5ldmVzMjAxNmElMjAlM0QlMjBEQiUyOFdvcmtVbnJlbGF0ZWQlMjglMEElMjAlMjAlMjAlMjAyMDE2JTJDJTIwJTIyUmlzayUyMG1hbmFnZW1lbnQlMjBhcHBsaWVkJTIwdG8lMjBTb2Z0d2FyZSUyMGRldmVsb3BtZW50JTIwcHJvamVjdHMlMjBpbiUyMGluY3ViYXRlZCUyMHRlY2hub2xvZ3ktYmFzZWQlMjBjb21wYW5pZXMlM0ElMjBMaXRlcmF0dXJlJTIwcmV2aWV3JTJDJTIwY2xhc3NpZmljYXRpb24lMkMlMjBhbmQlMjBhbmFseXNpcyUyMiUyQyUwQSUyMCUyMCUyMCUyMGRpc3BsYXklM0QlMjJuZXZlcyUyMiUyQyUwQSUyMCUyMCUyMCUyMGF1dGhvcnMlM0QlMjJOZXZlcyUyQyUyMFMuTS4lMjBhbmQlMjBEYSUyMFNpbHZhJTJDJTIwQy5FLlMuJTIyJTJDJTBBJTIwJTIwJTIwJTIwcGxhY2UlM0RQcm9kdWNhbyUyQyUwQSUyMCUyMCUyMCUyMHBwJTNEJTIyNzk4LTgxNCUyMiUyQyUwQSUyMCUyMCUyMCUyMGVudHJ5dHlwZSUzRCUyMmFydGljbGUlMjIlMkMlMEElMjAlMjAlMjAlMjB2b2x1bWUlM0QlMjIyMyUyMiUyQyUwQSUyMCUyMCUyMCUyMG51bWJlciUzRCUyMjQlMjIlMkMlMEElMjAlMjAlMjAlMjBsaW5rJTNEJTIyaHR0cHMlM0EvL3d3dy5zY29wdXMuY29tL2lud2FyZC9yZWNvcmQudXJpJTNGZWlkJTNEMi1zMi4wLTg1MDA3MzY5MDI4JTI2ZG9pJTNEMTAuMTU5MCUyNTJmMDEwNC01MzBYNDcyLTE1JTI2cGFydG5lcklEJTNENDAlMjZtZDUlM0Q4OWU0M2U3OTQ0MTY0Y2VjNDczMjJlZDY0ZjdkNmQwOSUyMiUyQyUwQSUyMCUyMCUyMCUyMElEJTNEJTIyTmV2ZXMyMDE2Nzk4JTIyJTJDJTBBJTIwJTIwJTIwJTIwc2NvcHVzMjAxNiUzRCUyMjElMjIlMkMlMEElMjAlMjAlMjAlMjBwbGFjZXglM0QlMjJHZXN0YW8lMjBlJTIwUHJvZHVjYW8lMjIlMkMlMEElMjklMjklMEElMjclMjclMjclMjklM0I=\")));\n",
       "    "
      ],
      "text/plain": [
       "<IPython.core.display.Javascript object>"
      ]
     },
     "metadata": {},
     "output_type": "display_data"
    },
    {
     "data": {
      "application/javascript": [
       "$('span:contains(\"# Temp\")').closest('.cell').remove();"
      ],
      "text/plain": [
       "<IPython.core.display.Javascript object>"
      ]
     },
     "metadata": {},
     "output_type": "display_data"
    },
    {
     "data": {
      "application/javascript": [
       "\n",
       "        $('span:contains(\"# Temp\")').closest('.cell').remove();\n",
       "        var code = IPython.notebook.insert_cell_below('code');\n",
       "        var prompt = code.element.find(\".input_prompt\");\n",
       "        prompt.append('<br><button style=\"height: 100%; width: 54px;\">Run</button>');\n",
       "        prompt.on(\"click\", \"button\", function(){\n",
       "            code.execute();\n",
       "        });\n",
       "        code.set_text(decodeURIComponent(window.atob(\"JTIzJTIwVGVtcCUwQWluc2VydCUyOCUyNyUyNyUyNyUwQW5ldmVzMjAxNmElMjAlM0QlMjBEQiUyOFdvcmtVbnJlbGF0ZWQlMjglMEElMjAlMjAlMjAlMjAyMDE2JTJDJTIwJTIyUmlzayUyMG1hbmFnZW1lbnQlMjBhcHBsaWVkJTIwdG8lMjBTb2Z0d2FyZSUyMGRldmVsb3BtZW50JTIwcHJvamVjdHMlMjBpbiUyMGluY3ViYXRlZCUyMHRlY2hub2xvZ3ktYmFzZWQlMjBjb21wYW5pZXMlM0ElMjBMaXRlcmF0dXJlJTIwcmV2aWV3JTJDJTIwY2xhc3NpZmljYXRpb24lMkMlMjBhbmQlMjBhbmFseXNpcyUyMiUyQyUwQSUyMCUyMCUyMCUyMGRpc3BsYXklM0QlMjJuZXZlcyUyMiUyQyUwQSUyMCUyMCUyMCUyMGF1dGhvcnMlM0QlMjJOZXZlcyUyQyUyMFMuTS4lMjBhbmQlMjBEYSUyMFNpbHZhJTJDJTIwQy5FLlMuJTIyJTJDJTBBJTIwJTIwJTIwJTIwcGxhY2UlM0RQcm9kdWNhbyUyQyUwQSUyMCUyMCUyMCUyMHBwJTNEJTIyNzk4LTgxNCUyMiUyQyUwQSUyMCUyMCUyMCUyMGVudHJ5dHlwZSUzRCUyMmFydGljbGUlMjIlMkMlMEElMjAlMjAlMjAlMjB2b2x1bWUlM0QlMjIyMyUyMiUyQyUwQSUyMCUyMCUyMCUyMG51bWJlciUzRCUyMjQlMjIlMkMlMEElMjAlMjAlMjAlMjBsaW5rJTNEJTIyaHR0cHMlM0EvL3d3dy5zY29wdXMuY29tL2lud2FyZC9yZWNvcmQudXJpJTNGZWlkJTNEMi1zMi4wLTg1MDA3MzY5MDI4JTI2ZG9pJTNEMTAuMTU5MCUyNTJmMDEwNC01MzBYNDcyLTE1JTI2cGFydG5lcklEJTNENDAlMjZtZDUlM0Q4OWU0M2U3OTQ0MTY0Y2VjNDczMjJlZDY0ZjdkNmQwOSUyMiUyQyUwQSUyMCUyMCUyMCUyMElEJTNEJTIyTmV2ZXMyMDE2Nzk4JTIyJTJDJTBBJTIwJTIwJTIwJTIwc2NvcHVzMjAxNiUzRCUyMjElMjIlMkMlMEElMjAlMjAlMjAlMjBwbGFjZXglM0QlMjJHZXN0YW8lMjBlJTIwUHJvZHVjYW8lMjIlMkMlMEElMjklMjklMEElMjclMjclMjclMjklM0I=\")));\n",
       "    "
      ],
      "text/plain": [
       "<IPython.core.display.Javascript object>"
      ]
     },
     "metadata": {},
     "output_type": "display_data"
    },
    {
     "data": {
      "application/javascript": [
       "$('span:contains(\"# Temp\")').closest('.cell').remove();"
      ],
      "text/plain": [
       "<IPython.core.display.Javascript object>"
      ]
     },
     "metadata": {},
     "output_type": "display_data"
    },
    {
     "data": {
      "application/javascript": [
       "\n",
       "        $('span:contains(\"# Temp\")').closest('.cell').remove();\n",
       "        var code = IPython.notebook.insert_cell_below('code');\n",
       "        var prompt = code.element.find(\".input_prompt\");\n",
       "        prompt.append('<br><button style=\"height: 100%; width: 54px;\">Run</button>');\n",
       "        prompt.on(\"click\", \"button\", function(){\n",
       "            code.execute();\n",
       "        });\n",
       "        code.set_text(decodeURIComponent(window.atob(\"JTIzJTIwVGVtcCUwQWluc2VydCUyOCUyNyUyNyUyNyUyNyUyNyUyNyUyOSUzQiUwQXNldF9hdHRyaWJ1dGUlMjglMjdjaGVuMjAxNmElMjclMkMlMjAlMjdsaW5rJTI3JTJDJTIwJTI3aHR0cHMlM0EvL3d3dy5zY29wdXMuY29tL2lud2FyZC9yZWNvcmQudXJpJTNGZWlkJTNEMi1zMi4wLTg1MDEwMjgwMjU0JTI2ZG9pJTNEMTAuMTAxNiUyNTJmai5qaWkuMjAxNi4wNC4wMDQlMjZwYXJ0bmVySUQlM0Q0MCUyNm1kNSUzRGM4MWFhZjhlYjdiOTI0YWE4ZDY1OGMwZDQ1MzA1MjZjJTI3JTI5JTNCJTBBc2V0X2F0dHJpYnV0ZSUyOCUyN2NoZW4yMDE2YSUyNyUyQyUyMCUyN3Njb3B1czIwMTYlMjclMkMlMjAlMjcxJTI3JTI5JTNC\")));\n",
       "    "
      ],
      "text/plain": [
       "<IPython.core.display.Javascript object>"
      ]
     },
     "metadata": {},
     "output_type": "display_data"
    },
    {
     "data": {
      "application/javascript": [
       "$('span:contains(\"# Temp\")').closest('.cell').remove();"
      ],
      "text/plain": [
       "<IPython.core.display.Javascript object>"
      ]
     },
     "metadata": {},
     "output_type": "display_data"
    },
    {
     "data": {
      "application/javascript": [
       "\n",
       "        $('span:contains(\"# Temp\")').closest('.cell').remove();\n",
       "        var code = IPython.notebook.insert_cell_below('code');\n",
       "        var prompt = code.element.find(\".input_prompt\");\n",
       "        prompt.append('<br><button style=\"height: 100%; width: 54px;\">Run</button>');\n",
       "        prompt.on(\"click\", \"button\", function(){\n",
       "            code.execute();\n",
       "        });\n",
       "        code.set_text(decodeURIComponent(window.atob(\"JTIzJTIwVGVtcCUwQWluc2VydCUyOCUyNyUyNyUyNyUyNyUyNyUyNyUyOSUzQiUwQXNldF9hdHRyaWJ1dGUlMjglMjdjaGVuMjAxNmElMjclMkMlMjAlMjdsaW5rJTI3JTJDJTIwJTI3aHR0cHMlM0EvL3d3dy5zY29wdXMuY29tL2lud2FyZC9yZWNvcmQudXJpJTNGZWlkJTNEMi1zMi4wLTg1MDEwMjgwMjU0JTI2ZG9pJTNEMTAuMTAxNiUyNTJmai5qaWkuMjAxNi4wNC4wMDQlMjZwYXJ0bmVySUQlM0Q0MCUyNm1kNSUzRGM4MWFhZjhlYjdiOTI0YWE4ZDY1OGMwZDQ1MzA1MjZjJTI3JTI5JTNCJTBBc2V0X2F0dHJpYnV0ZSUyOCUyN2NoZW4yMDE2YSUyNyUyQyUyMCUyN3Njb3B1czIwMTYlMjclMkMlMjAlMjcxJTI3JTI5JTNC\")));\n",
       "    "
      ],
      "text/plain": [
       "<IPython.core.display.Javascript object>"
      ]
     },
     "metadata": {},
     "output_type": "display_data"
    },
    {
     "data": {
      "application/javascript": [
       "$('span:contains(\"# Temp\")').closest('.cell').remove();"
      ],
      "text/plain": [
       "<IPython.core.display.Javascript object>"
      ]
     },
     "metadata": {},
     "output_type": "display_data"
    },
    {
     "data": {
      "application/javascript": [
       "\n",
       "        $('span:contains(\"# Temp\")').closest('.cell').remove();\n",
       "        var code = IPython.notebook.insert_cell_below('code');\n",
       "        var prompt = code.element.find(\".input_prompt\");\n",
       "        prompt.append('<br><button style=\"height: 100%; width: 54px;\">Run</button>');\n",
       "        prompt.on(\"click\", \"button\", function(){\n",
       "            code.execute();\n",
       "        });\n",
       "        code.set_text(decodeURIComponent(window.atob(\"JTIzJTIwVGVtcCUwQWluc2VydCUyOCUyNyUyNyUyNyUyNyUyNyUyNyUyOSUzQiUwQXNldF9hdHRyaWJ1dGUlMjglMjdhdmVyc2FubzIwMTZhJTI3JTJDJTIwJTI3bGluayUyNyUyQyUyMCUyN2h0dHBzJTNBLy93d3cuc2NvcHVzLmNvbS9pbndhcmQvcmVjb3JkLnVyaSUzRmVpZCUzRDItczIuMC04NDk1ODY1ODQ4MiUyNmRvaSUzRDEwLjEwMTYlMjUyZmouaW5mc29mLjIwMTUuMTIuMDA5JTI2cGFydG5lcklEJTNENDAlMjZtZDUlM0RjYTkzY2JiZGQ2NDRhNTBhZWIwYzAyMTZkNGYzNWE3YyUyNyUyOSUzQiUwQXNldF9hdHRyaWJ1dGUlMjglMjdhdmVyc2FubzIwMTZhJTI3JTJDJTIwJTI3c2NvcHVzMjAxNiUyNyUyQyUyMCUyNzElMjclMjklM0I=\")));\n",
       "    "
      ],
      "text/plain": [
       "<IPython.core.display.Javascript object>"
      ]
     },
     "metadata": {},
     "output_type": "display_data"
    },
    {
     "data": {
      "application/javascript": [
       "$('span:contains(\"# Temp\")').closest('.cell').remove();"
      ],
      "text/plain": [
       "<IPython.core.display.Javascript object>"
      ]
     },
     "metadata": {},
     "output_type": "display_data"
    },
    {
     "data": {
      "application/javascript": [
       "\n",
       "        $('span:contains(\"# Temp\")').closest('.cell').remove();\n",
       "        var code = IPython.notebook.insert_cell_below('code');\n",
       "        var prompt = code.element.find(\".input_prompt\");\n",
       "        prompt.append('<br><button style=\"height: 100%; width: 54px;\">Run</button>');\n",
       "        prompt.on(\"click\", \"button\", function(){\n",
       "            code.execute();\n",
       "        });\n",
       "        code.set_text(decodeURIComponent(window.atob(\"JTIzJTIwVGVtcCUwQWluc2VydCUyOCUyNyUyNyUyNyUyNyUyNyUyNyUyOSUzQiUwQXNldF9hdHRyaWJ1dGUlMjglMjdhdmVyc2FubzIwMTZhJTI3JTJDJTIwJTI3bGluayUyNyUyQyUyMCUyN2h0dHBzJTNBLy93d3cuc2NvcHVzLmNvbS9pbndhcmQvcmVjb3JkLnVyaSUzRmVpZCUzRDItczIuMC04NDk1ODY1ODQ4MiUyNmRvaSUzRDEwLjEwMTYlMjUyZmouaW5mc29mLjIwMTUuMTIuMDA5JTI2cGFydG5lcklEJTNENDAlMjZtZDUlM0RjYTkzY2JiZGQ2NDRhNTBhZWIwYzAyMTZkNGYzNWE3YyUyNyUyOSUzQiUwQXNldF9hdHRyaWJ1dGUlMjglMjdhdmVyc2FubzIwMTZhJTI3JTJDJTIwJTI3c2NvcHVzMjAxNiUyNyUyQyUyMCUyNzElMjclMjklM0I=\")));\n",
       "    "
      ],
      "text/plain": [
       "<IPython.core.display.Javascript object>"
      ]
     },
     "metadata": {},
     "output_type": "display_data"
    },
    {
     "data": {
      "application/javascript": [
       "$('span:contains(\"# Temp\")').closest('.cell').remove();"
      ],
      "text/plain": [
       "<IPython.core.display.Javascript object>"
      ]
     },
     "metadata": {},
     "output_type": "display_data"
    },
    {
     "data": {
      "application/javascript": [
       "\n",
       "        $('span:contains(\"# Temp\")').closest('.cell').remove();\n",
       "        var code = IPython.notebook.insert_cell_below('code');\n",
       "        var prompt = code.element.find(\".input_prompt\");\n",
       "        prompt.append('<br><button style=\"height: 100%; width: 54px;\">Run</button>');\n",
       "        prompt.on(\"click\", \"button\", function(){\n",
       "            code.execute();\n",
       "        });\n",
       "        code.set_text(decodeURIComponent(window.atob(\"JTIzJTIwVGVtcCUwQWluc2VydCUyOCUyNyUyNyUyNyUyNyUyNyUyNyUyOSUzQiUwQXNldF9hdHRyaWJ1dGUlMjglMjdjb2xvbW8yMDE2YSUyNyUyQyUyMCUyN3ZvbHVtZSUyNyUyQyUyMCUyNzY1OCUyNyUyOSUzQiUwQXNldF9hdHRyaWJ1dGUlMjglMjdjb2xvbW8yMDE2YSUyNyUyQyUyMCUyN2xpbmslMjclMkMlMjAlMjdodHRwcyUzQS8vd3d3LnNjb3B1cy5jb20vaW53YXJkL3JlY29yZC51cmklM0ZlaWQlM0QyLXMyLjAtODQ5OTY5NTczMDElMjZkb2klM0QxMC4xMDA3JTI1MmY5NzgtMy0zMTktNDgwMjQtNF8xNCUyNnBhcnRuZXJJRCUzRDQwJTI2bWQ1JTNENGE1ZDI5NWY4YjEzZmI4NzhkNDUxMTAyNmEzZmJjMWYlMjclMjklM0IlMEFzZXRfYXR0cmlidXRlJTI4JTI3Y29sb21vMjAxNmElMjclMkMlMjAlMjdzY29wdXMyMDE2JTI3JTJDJTIwJTI3MSUyNyUyOSUzQg==\")));\n",
       "    "
      ],
      "text/plain": [
       "<IPython.core.display.Javascript object>"
      ]
     },
     "metadata": {},
     "output_type": "display_data"
    },
    {
     "data": {
      "application/javascript": [
       "$('span:contains(\"# Temp\")').closest('.cell').remove();"
      ],
      "text/plain": [
       "<IPython.core.display.Javascript object>"
      ]
     },
     "metadata": {},
     "output_type": "display_data"
    },
    {
     "data": {
      "application/javascript": [
       "\n",
       "        $('span:contains(\"# Temp\")').closest('.cell').remove();\n",
       "        var code = IPython.notebook.insert_cell_below('code');\n",
       "        var prompt = code.element.find(\".input_prompt\");\n",
       "        prompt.append('<br><button style=\"height: 100%; width: 54px;\">Run</button>');\n",
       "        prompt.on(\"click\", \"button\", function(){\n",
       "            code.execute();\n",
       "        });\n",
       "        code.set_text(decodeURIComponent(window.atob(\"JTIzJTIwVGVtcCUwQWluc2VydCUyOCUyNyUyNyUyNyUyNyUyNyUyNyUyOSUzQiUwQXNldF9hdHRyaWJ1dGUlMjglMjdjb2xvbW8yMDE2YSUyNyUyQyUyMCUyN3ZvbHVtZSUyNyUyQyUyMCUyNzY1OCUyNyUyOSUzQiUwQXNldF9hdHRyaWJ1dGUlMjglMjdjb2xvbW8yMDE2YSUyNyUyQyUyMCUyN2xpbmslMjclMkMlMjAlMjdodHRwcyUzQS8vd3d3LnNjb3B1cy5jb20vaW53YXJkL3JlY29yZC51cmklM0ZlaWQlM0QyLXMyLjAtODQ5OTY5NTczMDElMjZkb2klM0QxMC4xMDA3JTI1MmY5NzgtMy0zMTktNDgwMjQtNF8xNCUyNnBhcnRuZXJJRCUzRDQwJTI2bWQ1JTNENGE1ZDI5NWY4YjEzZmI4NzhkNDUxMTAyNmEzZmJjMWYlMjclMjklM0IlMEFzZXRfYXR0cmlidXRlJTI4JTI3Y29sb21vMjAxNmElMjclMkMlMjAlMjdzY29wdXMyMDE2JTI3JTJDJTIwJTI3MSUyNyUyOSUzQg==\")));\n",
       "    "
      ],
      "text/plain": [
       "<IPython.core.display.Javascript object>"
      ]
     },
     "metadata": {},
     "output_type": "display_data"
    },
    {
     "data": {
      "application/javascript": [
       "$('span:contains(\"# Temp\")').closest('.cell').remove();"
      ],
      "text/plain": [
       "<IPython.core.display.Javascript object>"
      ]
     },
     "metadata": {},
     "output_type": "display_data"
    },
    {
     "data": {
      "application/javascript": [
       "\n",
       "        $('span:contains(\"# Temp\")').closest('.cell').remove();\n",
       "        var code = IPython.notebook.insert_cell_below('code');\n",
       "        var prompt = code.element.find(\".input_prompt\");\n",
       "        prompt.append('<br><button style=\"height: 100%; width: 54px;\">Run</button>');\n",
       "        prompt.on(\"click\", \"button\", function(){\n",
       "            code.execute();\n",
       "        });\n",
       "        code.set_text(decodeURIComponent(window.atob(\"JTIzJTIwVGVtcCUwQWluc2VydCUyOCUyNyUyNyUyNyUyNyUyNyUyNyUyOSUzQiUwQXNldF9hdHRyaWJ1dGUlMjglMjdwcmFidTIwMTZhJTI3JTJDJTIwJTI3cHAlMjclMkMlMjAlMjcxMS0xNyUyNyUyOSUzQiUwQXNldF9hdHRyaWJ1dGUlMjglMjdwcmFidTIwMTZhJTI3JTJDJTIwJTI3dm9sdW1lJTI3JTJDJTIwJTI3OSUyNyUyOSUzQiUwQXNldF9hdHRyaWJ1dGUlMjglMjdwcmFidTIwMTZhJTI3JTJDJTIwJTI3bnVtYmVyJTI3JTJDJTIwJTI3MjclMjclMjklM0IlMEFzZXRfYXR0cmlidXRlJTI4JTI3cHJhYnUyMDE2YSUyNyUyQyUyMCUyN2xpbmslMjclMkMlMjAlMjdodHRwcyUzQS8vd3d3LnNjb3B1cy5jb20vaW53YXJkL3JlY29yZC51cmklM0ZlaWQlM0QyLXMyLjAtODUwMDcxMDY5MTklMjZwYXJ0bmVySUQlM0Q0MCUyNm1kNSUzRDdmOWM5NzZiOTM3YTRiY2MxZjcwMzRlM2JhNmU5NjgzJTI3JTI5JTNCJTBBc2V0X2F0dHJpYnV0ZSUyOCUyN3ByYWJ1MjAxNmElMjclMkMlMjAlMjdzY29wdXMyMDE2JTI3JTJDJTIwJTI3MSUyNyUyOSUzQg==\")));\n",
       "    "
      ],
      "text/plain": [
       "<IPython.core.display.Javascript object>"
      ]
     },
     "metadata": {},
     "output_type": "display_data"
    },
    {
     "data": {
      "application/javascript": [
       "$('span:contains(\"# Temp\")').closest('.cell').remove();"
      ],
      "text/plain": [
       "<IPython.core.display.Javascript object>"
      ]
     },
     "metadata": {},
     "output_type": "display_data"
    },
    {
     "data": {
      "application/javascript": [
       "\n",
       "        $('span:contains(\"# Temp\")').closest('.cell').remove();\n",
       "        var code = IPython.notebook.insert_cell_below('code');\n",
       "        var prompt = code.element.find(\".input_prompt\");\n",
       "        prompt.append('<br><button style=\"height: 100%; width: 54px;\">Run</button>');\n",
       "        prompt.on(\"click\", \"button\", function(){\n",
       "            code.execute();\n",
       "        });\n",
       "        code.set_text(decodeURIComponent(window.atob(\"JTIzJTIwVGVtcCUwQWluc2VydCUyOCUyNyUyNyUyNyUyNyUyNyUyNyUyOSUzQiUwQXNldF9hdHRyaWJ1dGUlMjglMjdwcmFidTIwMTZhJTI3JTJDJTIwJTI3cHAlMjclMkMlMjAlMjcxMS0xNyUyNyUyOSUzQiUwQXNldF9hdHRyaWJ1dGUlMjglMjdwcmFidTIwMTZhJTI3JTJDJTIwJTI3dm9sdW1lJTI3JTJDJTIwJTI3OSUyNyUyOSUzQiUwQXNldF9hdHRyaWJ1dGUlMjglMjdwcmFidTIwMTZhJTI3JTJDJTIwJTI3bnVtYmVyJTI3JTJDJTIwJTI3MjclMjclMjklM0IlMEFzZXRfYXR0cmlidXRlJTI4JTI3cHJhYnUyMDE2YSUyNyUyQyUyMCUyN2xpbmslMjclMkMlMjAlMjdodHRwcyUzQS8vd3d3LnNjb3B1cy5jb20vaW53YXJkL3JlY29yZC51cmklM0ZlaWQlM0QyLXMyLjAtODUwMDcxMDY5MTklMjZwYXJ0bmVySUQlM0Q0MCUyNm1kNSUzRDdmOWM5NzZiOTM3YTRiY2MxZjcwMzRlM2JhNmU5NjgzJTI3JTI5JTNCJTBBc2V0X2F0dHJpYnV0ZSUyOCUyN3ByYWJ1MjAxNmElMjclMkMlMjAlMjdzY29wdXMyMDE2JTI3JTJDJTIwJTI3MSUyNyUyOSUzQg==\")));\n",
       "    "
      ],
      "text/plain": [
       "<IPython.core.display.Javascript object>"
      ]
     },
     "metadata": {},
     "output_type": "display_data"
    },
    {
     "data": {
      "application/javascript": [
       "$('span:contains(\"# Temp\")').closest('.cell').remove();"
      ],
      "text/plain": [
       "<IPython.core.display.Javascript object>"
      ]
     },
     "metadata": {},
     "output_type": "display_data"
    },
    {
     "data": {
      "application/javascript": [
       "\n",
       "        $('span:contains(\"# Temp\")').closest('.cell').remove();\n",
       "        var code = IPython.notebook.insert_cell_below('code');\n",
       "        var prompt = code.element.find(\".input_prompt\");\n",
       "        prompt.append('<br><button style=\"height: 100%; width: 54px;\">Run</button>');\n",
       "        prompt.on(\"click\", \"button\", function(){\n",
       "            code.execute();\n",
       "        });\n",
       "        code.set_text(decodeURIComponent(window.atob(\"JTIzJTIwVGVtcCUwQWluc2VydCUyOCUyNyUyNyUyNyUyNyUyNyUyNyUyOSUzQiUwQXNldF9hdHRyaWJ1dGUlMjglMjdzaWx2YTIwMTZhJTI3JTJDJTIwJTI3dm9sdW1lJTI3JTJDJTIwJTI3NDY1JTI3JTI5JTNCJTBBc2V0X2F0dHJpYnV0ZSUyOCUyN3NpbHZhMjAxNmElMjclMkMlMjAlMjdsaW5rJTI3JTJDJTIwJTI3aHR0cHMlM0EvL3d3dy5zY29wdXMuY29tL2lud2FyZC9yZWNvcmQudXJpJTNGZWlkJTNEMi1zMi4wLTg0OTY0NzM0OTQzJTI2ZG9pJTNEMTAuMTAwNyUyNTJmOTc4LTMtMzE5LTMzNjIyLTBfMjclMjZwYXJ0bmVySUQlM0Q0MCUyNm1kNSUzRGFiMzJjMzY1NjBhMGY4Njc5YzQzMzU0NTIzY2ZiZDgwJTI3JTI5JTNCJTBBc2V0X2F0dHJpYnV0ZSUyOCUyN3NpbHZhMjAxNmElMjclMkMlMjAlMjdzY29wdXMyMDE2JTI3JTJDJTIwJTI3MSUyNyUyOSUzQg==\")));\n",
       "    "
      ],
      "text/plain": [
       "<IPython.core.display.Javascript object>"
      ]
     },
     "metadata": {},
     "output_type": "display_data"
    },
    {
     "data": {
      "application/javascript": [
       "$('span:contains(\"# Temp\")').closest('.cell').remove();"
      ],
      "text/plain": [
       "<IPython.core.display.Javascript object>"
      ]
     },
     "metadata": {},
     "output_type": "display_data"
    },
    {
     "data": {
      "application/javascript": [
       "\n",
       "        $('span:contains(\"# Temp\")').closest('.cell').remove();\n",
       "        var code = IPython.notebook.insert_cell_below('code');\n",
       "        var prompt = code.element.find(\".input_prompt\");\n",
       "        prompt.append('<br><button style=\"height: 100%; width: 54px;\">Run</button>');\n",
       "        prompt.on(\"click\", \"button\", function(){\n",
       "            code.execute();\n",
       "        });\n",
       "        code.set_text(decodeURIComponent(window.atob(\"JTIzJTIwVGVtcCUwQWluc2VydCUyOCUyNyUyNyUyNyUyNyUyNyUyNyUyOSUzQiUwQXNldF9hdHRyaWJ1dGUlMjglMjdzaWx2YTIwMTZhJTI3JTJDJTIwJTI3dm9sdW1lJTI3JTJDJTIwJTI3NDY1JTI3JTI5JTNCJTBBc2V0X2F0dHJpYnV0ZSUyOCUyN3NpbHZhMjAxNmElMjclMkMlMjAlMjdsaW5rJTI3JTJDJTIwJTI3aHR0cHMlM0EvL3d3dy5zY29wdXMuY29tL2lud2FyZC9yZWNvcmQudXJpJTNGZWlkJTNEMi1zMi4wLTg0OTY0NzM0OTQzJTI2ZG9pJTNEMTAuMTAwNyUyNTJmOTc4LTMtMzE5LTMzNjIyLTBfMjclMjZwYXJ0bmVySUQlM0Q0MCUyNm1kNSUzRGFiMzJjMzY1NjBhMGY4Njc5YzQzMzU0NTIzY2ZiZDgwJTI3JTI5JTNCJTBBc2V0X2F0dHJpYnV0ZSUyOCUyN3NpbHZhMjAxNmElMjclMkMlMjAlMjdzY29wdXMyMDE2JTI3JTJDJTIwJTI3MSUyNyUyOSUzQg==\")));\n",
       "    "
      ],
      "text/plain": [
       "<IPython.core.display.Javascript object>"
      ]
     },
     "metadata": {},
     "output_type": "display_data"
    },
    {
     "data": {
      "application/javascript": [
       "$('span:contains(\"# Temp\")').closest('.cell').remove();"
      ],
      "text/plain": [
       "<IPython.core.display.Javascript object>"
      ]
     },
     "metadata": {},
     "output_type": "display_data"
    },
    {
     "data": {
      "application/javascript": [
       "\n",
       "        $('span:contains(\"# Temp\")').closest('.cell').remove();\n",
       "        var code = IPython.notebook.insert_cell_below('code');\n",
       "        var prompt = code.element.find(\".input_prompt\");\n",
       "        prompt.append('<br><button style=\"height: 100%; width: 54px;\">Run</button>');\n",
       "        prompt.on(\"click\", \"button\", function(){\n",
       "            code.execute();\n",
       "        });\n",
       "        code.set_text(decodeURIComponent(window.atob(\"JTIzJTIwVGVtcCUwQWluc2VydCUyOCUyNyUyNyUyNyUyNyUyNyUyNyUyOSUzQiUwQXNldF9hdHRyaWJ1dGUlMjglMjdyYWxwaDIwMTZhJTI3JTJDJTIwJTI3bGluayUyNyUyQyUyMCUyN2h0dHBzJTNBLy93d3cuc2NvcHVzLmNvbS9pbndhcmQvcmVjb3JkLnVyaSUzRmVpZCUzRDItczIuMC04NDk0OTUzMzE4MiUyNmRvaSUzRDEwLjEwMTYlMjUyZmouaW5mc29mLjIwMTUuMDYuMDEwJTI2cGFydG5lcklEJTNENDAlMjZtZDUlM0RmNTQ1YWE2MzYzZGM2YjY5N2RkZGIxYjg0NGIwOTVkNCUyNyUyOSUzQiUwQXNldF9hdHRyaWJ1dGUlMjglMjdyYWxwaDIwMTZhJTI3JTJDJTIwJTI3c2NvcHVzMjAxNiUyNyUyQyUyMCUyNzElMjclMjklM0I=\")));\n",
       "    "
      ],
      "text/plain": [
       "<IPython.core.display.Javascript object>"
      ]
     },
     "metadata": {},
     "output_type": "display_data"
    },
    {
     "data": {
      "application/javascript": [
       "$('span:contains(\"# Temp\")').closest('.cell').remove();"
      ],
      "text/plain": [
       "<IPython.core.display.Javascript object>"
      ]
     },
     "metadata": {},
     "output_type": "display_data"
    },
    {
     "data": {
      "application/javascript": [
       "\n",
       "        $('span:contains(\"# Temp\")').closest('.cell').remove();\n",
       "        var code = IPython.notebook.insert_cell_below('code');\n",
       "        var prompt = code.element.find(\".input_prompt\");\n",
       "        prompt.append('<br><button style=\"height: 100%; width: 54px;\">Run</button>');\n",
       "        prompt.on(\"click\", \"button\", function(){\n",
       "            code.execute();\n",
       "        });\n",
       "        code.set_text(decodeURIComponent(window.atob(\"JTIzJTIwVGVtcCUwQWluc2VydCUyOCUyNyUyNyUyNyUyNyUyNyUyNyUyOSUzQiUwQXNldF9hdHRyaWJ1dGUlMjglMjdyYWxwaDIwMTZhJTI3JTJDJTIwJTI3bGluayUyNyUyQyUyMCUyN2h0dHBzJTNBLy93d3cuc2NvcHVzLmNvbS9pbndhcmQvcmVjb3JkLnVyaSUzRmVpZCUzRDItczIuMC04NDk0OTUzMzE4MiUyNmRvaSUzRDEwLjEwMTYlMjUyZmouaW5mc29mLjIwMTUuMDYuMDEwJTI2cGFydG5lcklEJTNENDAlMjZtZDUlM0RmNTQ1YWE2MzYzZGM2YjY5N2RkZGIxYjg0NGIwOTVkNCUyNyUyOSUzQiUwQXNldF9hdHRyaWJ1dGUlMjglMjdyYWxwaDIwMTZhJTI3JTJDJTIwJTI3c2NvcHVzMjAxNiUyNyUyQyUyMCUyNzElMjclMjklM0I=\")));\n",
       "    "
      ],
      "text/plain": [
       "<IPython.core.display.Javascript object>"
      ]
     },
     "metadata": {},
     "output_type": "display_data"
    },
    {
     "data": {
      "application/javascript": [
       "$('span:contains(\"# Temp\")').closest('.cell').remove();"
      ],
      "text/plain": [
       "<IPython.core.display.Javascript object>"
      ]
     },
     "metadata": {},
     "output_type": "display_data"
    },
    {
     "data": {
      "application/javascript": [
       "\n",
       "        $('span:contains(\"# Temp\")').closest('.cell').remove();\n",
       "        var code = IPython.notebook.insert_cell_below('code');\n",
       "        var prompt = code.element.find(\".input_prompt\");\n",
       "        prompt.append('<br><button style=\"height: 100%; width: 54px;\">Run</button>');\n",
       "        prompt.on(\"click\", \"button\", function(){\n",
       "            code.execute();\n",
       "        });\n",
       "        code.set_text(decodeURIComponent(window.atob(\"JTIzJTIwVGVtcCUwQWluc2VydCUyOCUyNyUyNyUyNyUyNyUyNyUyNyUyOSUzQiUwQXNldF9hdHRyaWJ1dGUlMjglMjdzaWx2YTIwMTZhJTI3JTJDJTIwJTI3dm9sdW1lJTI3JTJDJTIwJTI3NDY1JTI3JTI5JTNCJTBBc2V0X2F0dHJpYnV0ZSUyOCUyN3NpbHZhMjAxNmElMjclMkMlMjAlMjdsaW5rJTI3JTJDJTIwJTI3aHR0cHMlM0EvL3d3dy5zY29wdXMuY29tL2lud2FyZC9yZWNvcmQudXJpJTNGZWlkJTNEMi1zMi4wLTg0OTY0NzM0OTQzJTI2ZG9pJTNEMTAuMTAwNyUyNTJmOTc4LTMtMzE5LTMzNjIyLTBfMjclMjZwYXJ0bmVySUQlM0Q0MCUyNm1kNSUzRGFiMzJjMzY1NjBhMGY4Njc5YzQzMzU0NTIzY2ZiZDgwJTI3JTI5JTNCJTBBc2V0X2F0dHJpYnV0ZSUyOCUyN3NpbHZhMjAxNmElMjclMkMlMjAlMjdzY29wdXMyMDE2JTI3JTJDJTIwJTI3MSUyNyUyOSUzQg==\")));\n",
       "    "
      ],
      "text/plain": [
       "<IPython.core.display.Javascript object>"
      ]
     },
     "metadata": {},
     "output_type": "display_data"
    },
    {
     "data": {
      "application/javascript": [
       "$('span:contains(\"# Temp\")').closest('.cell').remove();"
      ],
      "text/plain": [
       "<IPython.core.display.Javascript object>"
      ]
     },
     "metadata": {},
     "output_type": "display_data"
    },
    {
     "data": {
      "application/javascript": [
       "\n",
       "        $('span:contains(\"# Temp\")').closest('.cell').remove();\n",
       "        var code = IPython.notebook.insert_cell_below('code');\n",
       "        var prompt = code.element.find(\".input_prompt\");\n",
       "        prompt.append('<br><button style=\"height: 100%; width: 54px;\">Run</button>');\n",
       "        prompt.on(\"click\", \"button\", function(){\n",
       "            code.execute();\n",
       "        });\n",
       "        code.set_text(decodeURIComponent(window.atob(\"JTIzJTIwVGVtcCUwQWluc2VydCUyOCUyNyUyNyUyNyUyNyUyNyUyNyUyOSUzQiUwQXNldF9hdHRyaWJ1dGUlMjglMjdzaWx2YTIwMTZhJTI3JTJDJTIwJTI3dm9sdW1lJTI3JTJDJTIwJTI3NDY1JTI3JTI5JTNCJTBBc2V0X2F0dHJpYnV0ZSUyOCUyN3NpbHZhMjAxNmElMjclMkMlMjAlMjdsaW5rJTI3JTJDJTIwJTI3aHR0cHMlM0EvL3d3dy5zY29wdXMuY29tL2lud2FyZC9yZWNvcmQudXJpJTNGZWlkJTNEMi1zMi4wLTg0OTY0NzM0OTQzJTI2ZG9pJTNEMTAuMTAwNyUyNTJmOTc4LTMtMzE5LTMzNjIyLTBfMjclMjZwYXJ0bmVySUQlM0Q0MCUyNm1kNSUzRGFiMzJjMzY1NjBhMGY4Njc5YzQzMzU0NTIzY2ZiZDgwJTI3JTI5JTNCJTBBc2V0X2F0dHJpYnV0ZSUyOCUyN3NpbHZhMjAxNmElMjclMkMlMjAlMjdzY29wdXMyMDE2JTI3JTJDJTIwJTI3MSUyNyUyOSUzQg==\")));\n",
       "    "
      ],
      "text/plain": [
       "<IPython.core.display.Javascript object>"
      ]
     },
     "metadata": {},
     "output_type": "display_data"
    },
    {
     "data": {
      "application/javascript": [
       "$('span:contains(\"# Temp\")').closest('.cell').remove();"
      ],
      "text/plain": [
       "<IPython.core.display.Javascript object>"
      ]
     },
     "metadata": {},
     "output_type": "display_data"
    },
    {
     "data": {
      "application/javascript": [
       "\n",
       "        $('span:contains(\"# Temp\")').closest('.cell').remove();\n",
       "        var code = IPython.notebook.insert_cell_below('code');\n",
       "        var prompt = code.element.find(\".input_prompt\");\n",
       "        prompt.append('<br><button style=\"height: 100%; width: 54px;\">Run</button>');\n",
       "        prompt.on(\"click\", \"button\", function(){\n",
       "            code.execute();\n",
       "        });\n",
       "        code.set_text(decodeURIComponent(window.atob(\"JTIzJTIwVGVtcCUwQWluc2VydCUyOCUyNyUyNyUyNyUyNyUyNyUyNyUyOSUzQiUwQXNldF9hdHRyaWJ1dGUlMjglMjdwcmFidTIwMTZhJTI3JTJDJTIwJTI3cHAlMjclMkMlMjAlMjcxMS0xNyUyNyUyOSUzQiUwQXNldF9hdHRyaWJ1dGUlMjglMjdwcmFidTIwMTZhJTI3JTJDJTIwJTI3dm9sdW1lJTI3JTJDJTIwJTI3OSUyNyUyOSUzQiUwQXNldF9hdHRyaWJ1dGUlMjglMjdwcmFidTIwMTZhJTI3JTJDJTIwJTI3bnVtYmVyJTI3JTJDJTIwJTI3MjclMjclMjklM0IlMEFzZXRfYXR0cmlidXRlJTI4JTI3cHJhYnUyMDE2YSUyNyUyQyUyMCUyN2xpbmslMjclMkMlMjAlMjdodHRwcyUzQS8vd3d3LnNjb3B1cy5jb20vaW53YXJkL3JlY29yZC51cmklM0ZlaWQlM0QyLXMyLjAtODUwMDcxMDY5MTklMjZwYXJ0bmVySUQlM0Q0MCUyNm1kNSUzRDdmOWM5NzZiOTM3YTRiY2MxZjcwMzRlM2JhNmU5NjgzJTI3JTI5JTNCJTBBc2V0X2F0dHJpYnV0ZSUyOCUyN3ByYWJ1MjAxNmElMjclMkMlMjAlMjdzY29wdXMyMDE2JTI3JTJDJTIwJTI3MSUyNyUyOSUzQg==\")));\n",
       "    "
      ],
      "text/plain": [
       "<IPython.core.display.Javascript object>"
      ]
     },
     "metadata": {},
     "output_type": "display_data"
    },
    {
     "data": {
      "application/javascript": [
       "$('span:contains(\"# Temp\")').closest('.cell').remove();"
      ],
      "text/plain": [
       "<IPython.core.display.Javascript object>"
      ]
     },
     "metadata": {},
     "output_type": "display_data"
    },
    {
     "data": {
      "application/javascript": [
       "\n",
       "        $('span:contains(\"# Temp\")').closest('.cell').remove();\n",
       "        var code = IPython.notebook.insert_cell_below('code');\n",
       "        var prompt = code.element.find(\".input_prompt\");\n",
       "        prompt.append('<br><button style=\"height: 100%; width: 54px;\">Run</button>');\n",
       "        prompt.on(\"click\", \"button\", function(){\n",
       "            code.execute();\n",
       "        });\n",
       "        code.set_text(decodeURIComponent(window.atob(\"JTIzJTIwVGVtcCUwQWluc2VydCUyOCUyNyUyNyUyNyUyNyUyNyUyNyUyOSUzQiUwQXNldF9hdHRyaWJ1dGUlMjglMjdwcmFidTIwMTZhJTI3JTJDJTIwJTI3cHAlMjclMkMlMjAlMjcxMS0xNyUyNyUyOSUzQiUwQXNldF9hdHRyaWJ1dGUlMjglMjdwcmFidTIwMTZhJTI3JTJDJTIwJTI3dm9sdW1lJTI3JTJDJTIwJTI3OSUyNyUyOSUzQiUwQXNldF9hdHRyaWJ1dGUlMjglMjdwcmFidTIwMTZhJTI3JTJDJTIwJTI3bnVtYmVyJTI3JTJDJTIwJTI3MjclMjclMjklM0IlMEFzZXRfYXR0cmlidXRlJTI4JTI3cHJhYnUyMDE2YSUyNyUyQyUyMCUyN2xpbmslMjclMkMlMjAlMjdodHRwcyUzQS8vd3d3LnNjb3B1cy5jb20vaW53YXJkL3JlY29yZC51cmklM0ZlaWQlM0QyLXMyLjAtODUwMDcxMDY5MTklMjZwYXJ0bmVySUQlM0Q0MCUyNm1kNSUzRDdmOWM5NzZiOTM3YTRiY2MxZjcwMzRlM2JhNmU5NjgzJTI3JTI5JTNCJTBBc2V0X2F0dHJpYnV0ZSUyOCUyN3ByYWJ1MjAxNmElMjclMkMlMjAlMjdzY29wdXMyMDE2JTI3JTJDJTIwJTI3MSUyNyUyOSUzQg==\")));\n",
       "    "
      ],
      "text/plain": [
       "<IPython.core.display.Javascript object>"
      ]
     },
     "metadata": {},
     "output_type": "display_data"
    },
    {
     "data": {
      "application/javascript": [
       "$('span:contains(\"# Temp\")').closest('.cell').remove();"
      ],
      "text/plain": [
       "<IPython.core.display.Javascript object>"
      ]
     },
     "metadata": {},
     "output_type": "display_data"
    },
    {
     "data": {
      "application/javascript": [
       "\n",
       "        $('span:contains(\"# Temp\")').closest('.cell').remove();\n",
       "        var code = IPython.notebook.insert_cell_below('code');\n",
       "        var prompt = code.element.find(\".input_prompt\");\n",
       "        prompt.append('<br><button style=\"height: 100%; width: 54px;\">Run</button>');\n",
       "        prompt.on(\"click\", \"button\", function(){\n",
       "            code.execute();\n",
       "        });\n",
       "        code.set_text(decodeURIComponent(window.atob(\"JTIzJTIwVGVtcCUwQWluc2VydCUyOCUyNyUyNyUyNyUyNyUyNyUyNyUyOSUzQiUwQXNldF9hdHRyaWJ1dGUlMjglMjdjb2xvbW8yMDE2YSUyNyUyQyUyMCUyN3ZvbHVtZSUyNyUyQyUyMCUyNzY1OCUyNyUyOSUzQiUwQXNldF9hdHRyaWJ1dGUlMjglMjdjb2xvbW8yMDE2YSUyNyUyQyUyMCUyN2xpbmslMjclMkMlMjAlMjdodHRwcyUzQS8vd3d3LnNjb3B1cy5jb20vaW53YXJkL3JlY29yZC51cmklM0ZlaWQlM0QyLXMyLjAtODQ5OTY5NTczMDElMjZkb2klM0QxMC4xMDA3JTI1MmY5NzgtMy0zMTktNDgwMjQtNF8xNCUyNnBhcnRuZXJJRCUzRDQwJTI2bWQ1JTNENGE1ZDI5NWY4YjEzZmI4NzhkNDUxMTAyNmEzZmJjMWYlMjclMjklM0IlMEFzZXRfYXR0cmlidXRlJTI4JTI3Y29sb21vMjAxNmElMjclMkMlMjAlMjdzY29wdXMyMDE2JTI3JTJDJTIwJTI3MSUyNyUyOSUzQg==\")));\n",
       "    "
      ],
      "text/plain": [
       "<IPython.core.display.Javascript object>"
      ]
     },
     "metadata": {},
     "output_type": "display_data"
    },
    {
     "data": {
      "application/javascript": [
       "$('span:contains(\"# Temp\")').closest('.cell').remove();"
      ],
      "text/plain": [
       "<IPython.core.display.Javascript object>"
      ]
     },
     "metadata": {},
     "output_type": "display_data"
    },
    {
     "data": {
      "application/javascript": [
       "\n",
       "        $('span:contains(\"# Temp\")').closest('.cell').remove();\n",
       "        var code = IPython.notebook.insert_cell_below('code');\n",
       "        var prompt = code.element.find(\".input_prompt\");\n",
       "        prompt.append('<br><button style=\"height: 100%; width: 54px;\">Run</button>');\n",
       "        prompt.on(\"click\", \"button\", function(){\n",
       "            code.execute();\n",
       "        });\n",
       "        code.set_text(decodeURIComponent(window.atob(\"JTIzJTIwVGVtcCUwQWluc2VydCUyOCUyNyUyNyUyNyUyNyUyNyUyNyUyOSUzQiUwQXNldF9hdHRyaWJ1dGUlMjglMjdjb2xvbW8yMDE2YSUyNyUyQyUyMCUyN3ZvbHVtZSUyNyUyQyUyMCUyNzY1OCUyNyUyOSUzQiUwQXNldF9hdHRyaWJ1dGUlMjglMjdjb2xvbW8yMDE2YSUyNyUyQyUyMCUyN2xpbmslMjclMkMlMjAlMjdodHRwcyUzQS8vd3d3LnNjb3B1cy5jb20vaW53YXJkL3JlY29yZC51cmklM0ZlaWQlM0QyLXMyLjAtODQ5OTY5NTczMDElMjZkb2klM0QxMC4xMDA3JTI1MmY5NzgtMy0zMTktNDgwMjQtNF8xNCUyNnBhcnRuZXJJRCUzRDQwJTI2bWQ1JTNENGE1ZDI5NWY4YjEzZmI4NzhkNDUxMTAyNmEzZmJjMWYlMjclMjklM0IlMEFzZXRfYXR0cmlidXRlJTI4JTI3Y29sb21vMjAxNmElMjclMkMlMjAlMjdzY29wdXMyMDE2JTI3JTJDJTIwJTI3MSUyNyUyOSUzQg==\")));\n",
       "    "
      ],
      "text/plain": [
       "<IPython.core.display.Javascript object>"
      ]
     },
     "metadata": {},
     "output_type": "display_data"
    },
    {
     "data": {
      "application/javascript": [
       "$('span:contains(\"# Temp\")').closest('.cell').remove();"
      ],
      "text/plain": [
       "<IPython.core.display.Javascript object>"
      ]
     },
     "metadata": {},
     "output_type": "display_data"
    },
    {
     "data": {
      "application/javascript": [
       "\n",
       "        $('span:contains(\"# Temp\")').closest('.cell').remove();\n",
       "        var code = IPython.notebook.insert_cell_below('code');\n",
       "        var prompt = code.element.find(\".input_prompt\");\n",
       "        prompt.append('<br><button style=\"height: 100%; width: 54px;\">Run</button>');\n",
       "        prompt.on(\"click\", \"button\", function(){\n",
       "            code.execute();\n",
       "        });\n",
       "        code.set_text(decodeURIComponent(window.atob(\"JTIzJTIwVGVtcCUwQWluc2VydCUyOCUyNyUyNyUyNyUyNyUyNyUyNyUyOSUzQiUwQXNldF9hdHRyaWJ1dGUlMjglMjdhdmVyc2FubzIwMTZhJTI3JTJDJTIwJTI3bGluayUyNyUyQyUyMCUyN2h0dHBzJTNBLy93d3cuc2NvcHVzLmNvbS9pbndhcmQvcmVjb3JkLnVyaSUzRmVpZCUzRDItczIuMC04NDk1ODY1ODQ4MiUyNmRvaSUzRDEwLjEwMTYlMjUyZmouaW5mc29mLjIwMTUuMTIuMDA5JTI2cGFydG5lcklEJTNENDAlMjZtZDUlM0RjYTkzY2JiZGQ2NDRhNTBhZWIwYzAyMTZkNGYzNWE3YyUyNyUyOSUzQiUwQXNldF9hdHRyaWJ1dGUlMjglMjdhdmVyc2FubzIwMTZhJTI3JTJDJTIwJTI3c2NvcHVzMjAxNiUyNyUyQyUyMCUyNzElMjclMjklM0I=\")));\n",
       "    "
      ],
      "text/plain": [
       "<IPython.core.display.Javascript object>"
      ]
     },
     "metadata": {},
     "output_type": "display_data"
    },
    {
     "data": {
      "application/javascript": [
       "$('span:contains(\"# Temp\")').closest('.cell').remove();"
      ],
      "text/plain": [
       "<IPython.core.display.Javascript object>"
      ]
     },
     "metadata": {},
     "output_type": "display_data"
    },
    {
     "data": {
      "application/javascript": [
       "\n",
       "        $('span:contains(\"# Temp\")').closest('.cell').remove();\n",
       "        var code = IPython.notebook.insert_cell_below('code');\n",
       "        var prompt = code.element.find(\".input_prompt\");\n",
       "        prompt.append('<br><button style=\"height: 100%; width: 54px;\">Run</button>');\n",
       "        prompt.on(\"click\", \"button\", function(){\n",
       "            code.execute();\n",
       "        });\n",
       "        code.set_text(decodeURIComponent(window.atob(\"JTIzJTIwVGVtcCUwQWluc2VydCUyOCUyNyUyNyUyNyUyNyUyNyUyNyUyOSUzQiUwQXNldF9hdHRyaWJ1dGUlMjglMjdhdmVyc2FubzIwMTZhJTI3JTJDJTIwJTI3bGluayUyNyUyQyUyMCUyN2h0dHBzJTNBLy93d3cuc2NvcHVzLmNvbS9pbndhcmQvcmVjb3JkLnVyaSUzRmVpZCUzRDItczIuMC04NDk1ODY1ODQ4MiUyNmRvaSUzRDEwLjEwMTYlMjUyZmouaW5mc29mLjIwMTUuMTIuMDA5JTI2cGFydG5lcklEJTNENDAlMjZtZDUlM0RjYTkzY2JiZGQ2NDRhNTBhZWIwYzAyMTZkNGYzNWE3YyUyNyUyOSUzQiUwQXNldF9hdHRyaWJ1dGUlMjglMjdhdmVyc2FubzIwMTZhJTI3JTJDJTIwJTI3c2NvcHVzMjAxNiUyNyUyQyUyMCUyNzElMjclMjklM0I=\")));\n",
       "    "
      ],
      "text/plain": [
       "<IPython.core.display.Javascript object>"
      ]
     },
     "metadata": {},
     "output_type": "display_data"
    },
    {
     "data": {
      "application/javascript": [
       "$('span:contains(\"# Temp\")').closest('.cell').remove();"
      ],
      "text/plain": [
       "<IPython.core.display.Javascript object>"
      ]
     },
     "metadata": {},
     "output_type": "display_data"
    },
    {
     "data": {
      "application/javascript": [
       "\n",
       "        $('span:contains(\"# Temp\")').closest('.cell').remove();\n",
       "        var code = IPython.notebook.insert_cell_below('code');\n",
       "        var prompt = code.element.find(\".input_prompt\");\n",
       "        prompt.append('<br><button style=\"height: 100%; width: 54px;\">Run</button>');\n",
       "        prompt.on(\"click\", \"button\", function(){\n",
       "            code.execute();\n",
       "        });\n",
       "        code.set_text(decodeURIComponent(window.atob(\"JTIzJTIwVGVtcCUwQWluc2VydCUyOCUyNyUyNyUyNyUyNyUyNyUyNyUyOSUzQiUwQXNldF9hdHRyaWJ1dGUlMjglMjdjaGVuMjAxNmElMjclMkMlMjAlMjdsaW5rJTI3JTJDJTIwJTI3aHR0cHMlM0EvL3d3dy5zY29wdXMuY29tL2lud2FyZC9yZWNvcmQudXJpJTNGZWlkJTNEMi1zMi4wLTg1MDEwMjgwMjU0JTI2ZG9pJTNEMTAuMTAxNiUyNTJmai5qaWkuMjAxNi4wNC4wMDQlMjZwYXJ0bmVySUQlM0Q0MCUyNm1kNSUzRGM4MWFhZjhlYjdiOTI0YWE4ZDY1OGMwZDQ1MzA1MjZjJTI3JTI5JTNCJTBBc2V0X2F0dHJpYnV0ZSUyOCUyN2NoZW4yMDE2YSUyNyUyQyUyMCUyN3Njb3B1czIwMTYlMjclMkMlMjAlMjcxJTI3JTI5JTNC\")));\n",
       "    "
      ],
      "text/plain": [
       "<IPython.core.display.Javascript object>"
      ]
     },
     "metadata": {},
     "output_type": "display_data"
    },
    {
     "data": {
      "application/javascript": [
       "$('span:contains(\"# Temp\")').closest('.cell').remove();"
      ],
      "text/plain": [
       "<IPython.core.display.Javascript object>"
      ]
     },
     "metadata": {},
     "output_type": "display_data"
    },
    {
     "data": {
      "application/javascript": [
       "\n",
       "        $('span:contains(\"# Temp\")').closest('.cell').remove();\n",
       "        var code = IPython.notebook.insert_cell_below('code');\n",
       "        var prompt = code.element.find(\".input_prompt\");\n",
       "        prompt.append('<br><button style=\"height: 100%; width: 54px;\">Run</button>');\n",
       "        prompt.on(\"click\", \"button\", function(){\n",
       "            code.execute();\n",
       "        });\n",
       "        code.set_text(decodeURIComponent(window.atob(\"JTIzJTIwVGVtcCUwQWluc2VydCUyOCUyNyUyNyUyNyUyNyUyNyUyNyUyOSUzQiUwQXNldF9hdHRyaWJ1dGUlMjglMjdjaGVuMjAxNmElMjclMkMlMjAlMjdsaW5rJTI3JTJDJTIwJTI3aHR0cHMlM0EvL3d3dy5zY29wdXMuY29tL2lud2FyZC9yZWNvcmQudXJpJTNGZWlkJTNEMi1zMi4wLTg1MDEwMjgwMjU0JTI2ZG9pJTNEMTAuMTAxNiUyNTJmai5qaWkuMjAxNi4wNC4wMDQlMjZwYXJ0bmVySUQlM0Q0MCUyNm1kNSUzRGM4MWFhZjhlYjdiOTI0YWE4ZDY1OGMwZDQ1MzA1MjZjJTI3JTI5JTNCJTBBc2V0X2F0dHJpYnV0ZSUyOCUyN2NoZW4yMDE2YSUyNyUyQyUyMCUyN3Njb3B1czIwMTYlMjclMkMlMjAlMjcxJTI3JTI5JTNC\")));\n",
       "    "
      ],
      "text/plain": [
       "<IPython.core.display.Javascript object>"
      ]
     },
     "metadata": {},
     "output_type": "display_data"
    },
    {
     "data": {
      "application/javascript": [
       "$('span:contains(\"# Temp\")').closest('.cell').remove();"
      ],
      "text/plain": [
       "<IPython.core.display.Javascript object>"
      ]
     },
     "metadata": {},
     "output_type": "display_data"
    },
    {
     "data": {
      "application/javascript": [
       "\n",
       "        $('span:contains(\"# Temp\")').closest('.cell').remove();\n",
       "        var code = IPython.notebook.insert_cell_below('code');\n",
       "        var prompt = code.element.find(\".input_prompt\");\n",
       "        prompt.append('<br><button style=\"height: 100%; width: 54px;\">Run</button>');\n",
       "        prompt.on(\"click\", \"button\", function(){\n",
       "            code.execute();\n",
       "        });\n",
       "        code.set_text(decodeURIComponent(window.atob(\"JTIzJTIwVGVtcCUwQWluc2VydCUyOCUyNyUyNyUyNyUwQW5ldmVzMjAxNmElMjAlM0QlMjBEQiUyOFdvcmtVbnJlbGF0ZWQlMjglMEElMjAlMjAlMjAlMjAyMDE2JTJDJTIwJTIyUmlzayUyMG1hbmFnZW1lbnQlMjBhcHBsaWVkJTIwdG8lMjBTb2Z0d2FyZSUyMGRldmVsb3BtZW50JTIwcHJvamVjdHMlMjBpbiUyMGluY3ViYXRlZCUyMHRlY2hub2xvZ3ktYmFzZWQlMjBjb21wYW5pZXMlM0ElMjBMaXRlcmF0dXJlJTIwcmV2aWV3JTJDJTIwY2xhc3NpZmljYXRpb24lMkMlMjBhbmQlMjBhbmFseXNpcyUyMiUyQyUwQSUyMCUyMCUyMCUyMGRpc3BsYXklM0QlMjJuZXZlcyUyMiUyQyUwQSUyMCUyMCUyMCUyMGF1dGhvcnMlM0QlMjJOZXZlcyUyQyUyMFMuTS4lMjBhbmQlMjBEYSUyMFNpbHZhJTJDJTIwQy5FLlMuJTIyJTJDJTBBJTIwJTIwJTIwJTIwcGxhY2UlM0RQcm9kdWNhbyUyQyUwQSUyMCUyMCUyMCUyMHBwJTNEJTIyNzk4LTgxNCUyMiUyQyUwQSUyMCUyMCUyMCUyMGVudHJ5dHlwZSUzRCUyMmFydGljbGUlMjIlMkMlMEElMjAlMjAlMjAlMjB2b2x1bWUlM0QlMjIyMyUyMiUyQyUwQSUyMCUyMCUyMCUyMG51bWJlciUzRCUyMjQlMjIlMkMlMEElMjAlMjAlMjAlMjBsaW5rJTNEJTIyaHR0cHMlM0EvL3d3dy5zY29wdXMuY29tL2lud2FyZC9yZWNvcmQudXJpJTNGZWlkJTNEMi1zMi4wLTg1MDA3MzY5MDI4JTI2ZG9pJTNEMTAuMTU5MCUyNTJmMDEwNC01MzBYNDcyLTE1JTI2cGFydG5lcklEJTNENDAlMjZtZDUlM0Q4OWU0M2U3OTQ0MTY0Y2VjNDczMjJlZDY0ZjdkNmQwOSUyMiUyQyUwQSUyMCUyMCUyMCUyMElEJTNEJTIyTmV2ZXMyMDE2Nzk4JTIyJTJDJTBBJTIwJTIwJTIwJTIwc2NvcHVzMjAxNiUzRCUyMjElMjIlMkMlMEElMjAlMjAlMjAlMjBwbGFjZXglM0QlMjJHZXN0YW8lMjBlJTIwUHJvZHVjYW8lMjIlMkMlMEElMjklMjklMEElMjclMjclMjclMjklM0I=\")));\n",
       "    "
      ],
      "text/plain": [
       "<IPython.core.display.Javascript object>"
      ]
     },
     "metadata": {},
     "output_type": "display_data"
    },
    {
     "data": {
      "application/javascript": [
       "$('span:contains(\"# Temp\")').closest('.cell').remove();"
      ],
      "text/plain": [
       "<IPython.core.display.Javascript object>"
      ]
     },
     "metadata": {},
     "output_type": "display_data"
    },
    {
     "data": {
      "application/javascript": [
       "\n",
       "        $('span:contains(\"# Temp\")').closest('.cell').remove();\n",
       "        var code = IPython.notebook.insert_cell_below('code');\n",
       "        var prompt = code.element.find(\".input_prompt\");\n",
       "        prompt.append('<br><button style=\"height: 100%; width: 54px;\">Run</button>');\n",
       "        prompt.on(\"click\", \"button\", function(){\n",
       "            code.execute();\n",
       "        });\n",
       "        code.set_text(decodeURIComponent(window.atob(\"JTIzJTIwVGVtcCUwQWluc2VydCUyOCUyNyUyNyUyNyUwQW5ldmVzMjAxNmElMjAlM0QlMjBEQiUyOFdvcmtVbnJlbGF0ZWQlMjglMEElMjAlMjAlMjAlMjAyMDE2JTJDJTIwJTIyUmlzayUyMG1hbmFnZW1lbnQlMjBhcHBsaWVkJTIwdG8lMjBTb2Z0d2FyZSUyMGRldmVsb3BtZW50JTIwcHJvamVjdHMlMjBpbiUyMGluY3ViYXRlZCUyMHRlY2hub2xvZ3ktYmFzZWQlMjBjb21wYW5pZXMlM0ElMjBMaXRlcmF0dXJlJTIwcmV2aWV3JTJDJTIwY2xhc3NpZmljYXRpb24lMkMlMjBhbmQlMjBhbmFseXNpcyUyMiUyQyUwQSUyMCUyMCUyMCUyMGRpc3BsYXklM0QlMjJuZXZlcyUyMiUyQyUwQSUyMCUyMCUyMCUyMGF1dGhvcnMlM0QlMjJOZXZlcyUyQyUyMFMuTS4lMjBhbmQlMjBEYSUyMFNpbHZhJTJDJTIwQy5FLlMuJTIyJTJDJTBBJTIwJTIwJTIwJTIwcGxhY2UlM0RQcm9kdWNhbyUyQyUwQSUyMCUyMCUyMCUyMHBwJTNEJTIyNzk4LTgxNCUyMiUyQyUwQSUyMCUyMCUyMCUyMGVudHJ5dHlwZSUzRCUyMmFydGljbGUlMjIlMkMlMEElMjAlMjAlMjAlMjB2b2x1bWUlM0QlMjIyMyUyMiUyQyUwQSUyMCUyMCUyMCUyMG51bWJlciUzRCUyMjQlMjIlMkMlMEElMjAlMjAlMjAlMjBsaW5rJTNEJTIyaHR0cHMlM0EvL3d3dy5zY29wdXMuY29tL2lud2FyZC9yZWNvcmQudXJpJTNGZWlkJTNEMi1zMi4wLTg1MDA3MzY5MDI4JTI2ZG9pJTNEMTAuMTU5MCUyNTJmMDEwNC01MzBYNDcyLTE1JTI2cGFydG5lcklEJTNENDAlMjZtZDUlM0Q4OWU0M2U3OTQ0MTY0Y2VjNDczMjJlZDY0ZjdkNmQwOSUyMiUyQyUwQSUyMCUyMCUyMCUyMElEJTNEJTIyTmV2ZXMyMDE2Nzk4JTIyJTJDJTBBJTIwJTIwJTIwJTIwc2NvcHVzMjAxNiUzRCUyMjElMjIlMkMlMEElMjAlMjAlMjAlMjBwbGFjZXglM0QlMjJHZXN0YW8lMjBlJTIwUHJvZHVjYW8lMjIlMkMlMEElMjklMjklMEElMjclMjclMjclMjklM0I=\")));\n",
       "    "
      ],
      "text/plain": [
       "<IPython.core.display.Javascript object>"
      ]
     },
     "metadata": {},
     "output_type": "display_data"
    },
    {
     "data": {
      "application/javascript": [
       "$('span:contains(\"# Temp\")').closest('.cell').remove();"
      ],
      "text/plain": [
       "<IPython.core.display.Javascript object>"
      ]
     },
     "metadata": {},
     "output_type": "display_data"
    },
    {
     "data": {
      "application/javascript": [
       "\n",
       "        $('span:contains(\"# Temp\")').closest('.cell').remove();\n",
       "        var code = IPython.notebook.insert_cell_below('code');\n",
       "        var prompt = code.element.find(\".input_prompt\");\n",
       "        prompt.append('<br><button style=\"height: 100%; width: 54px;\">Run</button>');\n",
       "        prompt.on(\"click\", \"button\", function(){\n",
       "            code.execute();\n",
       "        });\n",
       "        code.set_text(decodeURIComponent(window.atob(\"JTIzJTIwVGVtcCUwQWluc2VydCUyOCUyNyUyNyUyNyUyNyUyNyUyNyUyOSUzQiUwQXNldF9hdHRyaWJ1dGUlMjglMjdwJUMzJUFEY2hhMjAxNmElMjclMkMlMjAlMjdhcnRfbnVtYmVyJTI3JTJDJTIwJTI3NzU5Mjc2OCUyNyUyOSUzQiUwQXNldF9hdHRyaWJ1dGUlMjglMjdwJUMzJUFEY2hhMjAxNmElMjclMkMlMjAlMjdsaW5rJTI3JTJDJTIwJTI3aHR0cHMlM0EvL3d3dy5zY29wdXMuY29tL2lud2FyZC9yZWNvcmQudXJpJTNGZWlkJTNEMi1zMi4wLTg1MDIwNzU3NTkyJTI2ZG9pJTNEMTAuMTEwOSUyNTJmU0VBQS4yMDE2LjM3JTI2cGFydG5lcklEJTNENDAlMjZtZDUlM0Q2YmNjMDI4Njg0OGIwMzAyYWViNjE2ZDI0YjZjNDc0ZiUyNyUyOSUzQiUwQXNldF9hdHRyaWJ1dGUlMjglMjdwJUMzJUFEY2hhMjAxNmElMjclMkMlMjAlMjdzY29wdXMyMDE2JTI3JTJDJTIwJTI3MSUyNyUyOSUzQg==\")));\n",
       "    "
      ],
      "text/plain": [
       "<IPython.core.display.Javascript object>"
      ]
     },
     "metadata": {},
     "output_type": "display_data"
    },
    {
     "data": {
      "application/javascript": [
       "$('span:contains(\"# Temp\")').closest('.cell').remove();"
      ],
      "text/plain": [
       "<IPython.core.display.Javascript object>"
      ]
     },
     "metadata": {},
     "output_type": "display_data"
    },
    {
     "data": {
      "application/javascript": [
       "\n",
       "        $('span:contains(\"# Temp\")').closest('.cell').remove();\n",
       "        var code = IPython.notebook.insert_cell_below('code');\n",
       "        var prompt = code.element.find(\".input_prompt\");\n",
       "        prompt.append('<br><button style=\"height: 100%; width: 54px;\">Run</button>');\n",
       "        prompt.on(\"click\", \"button\", function(){\n",
       "            code.execute();\n",
       "        });\n",
       "        code.set_text(decodeURIComponent(window.atob(\"JTIzJTIwVGVtcCUwQWluc2VydCUyOCUyNyUyNyUyNyUyNyUyNyUyNyUyOSUzQiUwQXNldF9hdHRyaWJ1dGUlMjglMjdwJUMzJUFEY2hhMjAxNmElMjclMkMlMjAlMjdhcnRfbnVtYmVyJTI3JTJDJTIwJTI3NzU5Mjc2OCUyNyUyOSUzQiUwQXNldF9hdHRyaWJ1dGUlMjglMjdwJUMzJUFEY2hhMjAxNmElMjclMkMlMjAlMjdsaW5rJTI3JTJDJTIwJTI3aHR0cHMlM0EvL3d3dy5zY29wdXMuY29tL2lud2FyZC9yZWNvcmQudXJpJTNGZWlkJTNEMi1zMi4wLTg1MDIwNzU3NTkyJTI2ZG9pJTNEMTAuMTEwOSUyNTJmU0VBQS4yMDE2LjM3JTI2cGFydG5lcklEJTNENDAlMjZtZDUlM0Q2YmNjMDI4Njg0OGIwMzAyYWViNjE2ZDI0YjZjNDc0ZiUyNyUyOSUzQiUwQXNldF9hdHRyaWJ1dGUlMjglMjdwJUMzJUFEY2hhMjAxNmElMjclMkMlMjAlMjdzY29wdXMyMDE2JTI3JTJDJTIwJTI3MSUyNyUyOSUzQg==\")));\n",
       "    "
      ],
      "text/plain": [
       "<IPython.core.display.Javascript object>"
      ]
     },
     "metadata": {},
     "output_type": "display_data"
    },
    {
     "data": {
      "application/javascript": [
       "$('span:contains(\"# Temp\")').closest('.cell').remove();"
      ],
      "text/plain": [
       "<IPython.core.display.Javascript object>"
      ]
     },
     "metadata": {},
     "output_type": "display_data"
    },
    {
     "data": {
      "application/javascript": [
       "\n",
       "        $('span:contains(\"# Temp\")').closest('.cell').remove();\n",
       "        var code = IPython.notebook.insert_cell_below('code');\n",
       "        var prompt = code.element.find(\".input_prompt\");\n",
       "        prompt.append('<br><button style=\"height: 100%; width: 54px;\">Run</button>');\n",
       "        prompt.on(\"click\", \"button\", function(){\n",
       "            code.execute();\n",
       "        });\n",
       "        code.set_text(decodeURIComponent(window.atob(\"JTIzJTIwVGVtcCUwQWluc2VydCUyOCUyNyUyNyUyNyUyNyUyNyUyNyUyOSUzQiUwQXNldF9hdHRyaWJ1dGUlMjglMjdsYXJydWNlYTIwMTZhJTI3JTJDJTIwJTI3bGluayUyNyUyQyUyMCUyN2h0dHBzJTNBLy93d3cuc2NvcHVzLmNvbS9pbndhcmQvcmVjb3JkLnVyaSUzRmVpZCUzRDItczIuMC04NDk2NTA2NjU1NiUyNmRvaSUzRDEwLjEwMTYlMjUyZmouY3NpLjIwMTYuMDQuMDA0JTI2cGFydG5lcklEJTNENDAlMjZtZDUlM0QzNjVlYTYzZWUwZjQ2N2U1ZGY4ZDE5YzU2OGIwODY2MSUyNyUyOSUzQiUwQXNldF9hdHRyaWJ1dGUlMjglMjdsYXJydWNlYTIwMTZhJTI3JTJDJTIwJTI3c2NvcHVzMjAxNiUyNyUyQyUyMCUyNzElMjclMjklM0I=\")));\n",
       "    "
      ],
      "text/plain": [
       "<IPython.core.display.Javascript object>"
      ]
     },
     "metadata": {},
     "output_type": "display_data"
    },
    {
     "data": {
      "application/javascript": [
       "$('span:contains(\"# Temp\")').closest('.cell').remove();"
      ],
      "text/plain": [
       "<IPython.core.display.Javascript object>"
      ]
     },
     "metadata": {},
     "output_type": "display_data"
    },
    {
     "data": {
      "application/javascript": [
       "\n",
       "        $('span:contains(\"# Temp\")').closest('.cell').remove();\n",
       "        var code = IPython.notebook.insert_cell_below('code');\n",
       "        var prompt = code.element.find(\".input_prompt\");\n",
       "        prompt.append('<br><button style=\"height: 100%; width: 54px;\">Run</button>');\n",
       "        prompt.on(\"click\", \"button\", function(){\n",
       "            code.execute();\n",
       "        });\n",
       "        code.set_text(decodeURIComponent(window.atob(\"JTIzJTIwVGVtcCUwQWluc2VydCUyOCUyNyUyNyUyNyUyNyUyNyUyNyUyOSUzQiUwQXNldF9hdHRyaWJ1dGUlMjglMjdsYXJydWNlYTIwMTZhJTI3JTJDJTIwJTI3bGluayUyNyUyQyUyMCUyN2h0dHBzJTNBLy93d3cuc2NvcHVzLmNvbS9pbndhcmQvcmVjb3JkLnVyaSUzRmVpZCUzRDItczIuMC04NDk2NTA2NjU1NiUyNmRvaSUzRDEwLjEwMTYlMjUyZmouY3NpLjIwMTYuMDQuMDA0JTI2cGFydG5lcklEJTNENDAlMjZtZDUlM0QzNjVlYTYzZWUwZjQ2N2U1ZGY4ZDE5YzU2OGIwODY2MSUyNyUyOSUzQiUwQXNldF9hdHRyaWJ1dGUlMjglMjdsYXJydWNlYTIwMTZhJTI3JTJDJTIwJTI3c2NvcHVzMjAxNiUyNyUyQyUyMCUyNzElMjclMjklM0I=\")));\n",
       "    "
      ],
      "text/plain": [
       "<IPython.core.display.Javascript object>"
      ]
     },
     "metadata": {},
     "output_type": "display_data"
    },
    {
     "data": {
      "application/javascript": [
       "$('span:contains(\"# Temp\")').closest('.cell').remove();"
      ],
      "text/plain": [
       "<IPython.core.display.Javascript object>"
      ]
     },
     "metadata": {},
     "output_type": "display_data"
    },
    {
     "data": {
      "application/javascript": [
       "\n",
       "        $('span:contains(\"# Temp\")').closest('.cell').remove();\n",
       "        var code = IPython.notebook.insert_cell_below('code');\n",
       "        var prompt = code.element.find(\".input_prompt\");\n",
       "        prompt.append('<br><button style=\"height: 100%; width: 54px;\">Run</button>');\n",
       "        prompt.on(\"click\", \"button\", function(){\n",
       "            code.execute();\n",
       "        });\n",
       "        code.set_text(decodeURIComponent(window.atob(\"JTIzJTIwVGVtcCUwQWluc2VydCUyOCUyNyUyNyUyNyUyNyUyNyUyNyUyOSUzQiUwQXNldF9hdHRyaWJ1dGUlMjglMjdwJUMzJUFEY2hhMjAxNmElMjclMkMlMjAlMjdhcnRfbnVtYmVyJTI3JTJDJTIwJTI3NzU5Mjc2OCUyNyUyOSUzQiUwQXNldF9hdHRyaWJ1dGUlMjglMjdwJUMzJUFEY2hhMjAxNmElMjclMkMlMjAlMjdsaW5rJTI3JTJDJTIwJTI3aHR0cHMlM0EvL3d3dy5zY29wdXMuY29tL2lud2FyZC9yZWNvcmQudXJpJTNGZWlkJTNEMi1zMi4wLTg1MDIwNzU3NTkyJTI2ZG9pJTNEMTAuMTEwOSUyNTJmU0VBQS4yMDE2LjM3JTI2cGFydG5lcklEJTNENDAlMjZtZDUlM0Q2YmNjMDI4Njg0OGIwMzAyYWViNjE2ZDI0YjZjNDc0ZiUyNyUyOSUzQiUwQXNldF9hdHRyaWJ1dGUlMjglMjdwJUMzJUFEY2hhMjAxNmElMjclMkMlMjAlMjdzY29wdXMyMDE2JTI3JTJDJTIwJTI3MSUyNyUyOSUzQg==\")));\n",
       "    "
      ],
      "text/plain": [
       "<IPython.core.display.Javascript object>"
      ]
     },
     "metadata": {},
     "output_type": "display_data"
    },
    {
     "data": {
      "application/javascript": [
       "$('span:contains(\"# Temp\")').closest('.cell').remove();"
      ],
      "text/plain": [
       "<IPython.core.display.Javascript object>"
      ]
     },
     "metadata": {},
     "output_type": "display_data"
    },
    {
     "data": {
      "application/javascript": [
       "\n",
       "        $('span:contains(\"# Temp\")').closest('.cell').remove();\n",
       "        var code = IPython.notebook.insert_cell_below('code');\n",
       "        var prompt = code.element.find(\".input_prompt\");\n",
       "        prompt.append('<br><button style=\"height: 100%; width: 54px;\">Run</button>');\n",
       "        prompt.on(\"click\", \"button\", function(){\n",
       "            code.execute();\n",
       "        });\n",
       "        code.set_text(decodeURIComponent(window.atob(\"JTIzJTIwVGVtcCUwQWluc2VydCUyOCUyNyUyNyUyNyUyNyUyNyUyNyUyOSUzQiUwQXNldF9hdHRyaWJ1dGUlMjglMjdwJUMzJUFEY2hhMjAxNmElMjclMkMlMjAlMjdhcnRfbnVtYmVyJTI3JTJDJTIwJTI3NzU5Mjc2OCUyNyUyOSUzQiUwQXNldF9hdHRyaWJ1dGUlMjglMjdwJUMzJUFEY2hhMjAxNmElMjclMkMlMjAlMjdsaW5rJTI3JTJDJTIwJTI3aHR0cHMlM0EvL3d3dy5zY29wdXMuY29tL2lud2FyZC9yZWNvcmQudXJpJTNGZWlkJTNEMi1zMi4wLTg1MDIwNzU3NTkyJTI2ZG9pJTNEMTAuMTEwOSUyNTJmU0VBQS4yMDE2LjM3JTI2cGFydG5lcklEJTNENDAlMjZtZDUlM0Q2YmNjMDI4Njg0OGIwMzAyYWViNjE2ZDI0YjZjNDc0ZiUyNyUyOSUzQiUwQXNldF9hdHRyaWJ1dGUlMjglMjdwJUMzJUFEY2hhMjAxNmElMjclMkMlMjAlMjdzY29wdXMyMDE2JTI3JTJDJTIwJTI3MSUyNyUyOSUzQg==\")));\n",
       "    "
      ],
      "text/plain": [
       "<IPython.core.display.Javascript object>"
      ]
     },
     "metadata": {},
     "output_type": "display_data"
    },
    {
     "data": {
      "application/javascript": [
       "$('span:contains(\"# Temp\")').closest('.cell').remove();"
      ],
      "text/plain": [
       "<IPython.core.display.Javascript object>"
      ]
     },
     "metadata": {},
     "output_type": "display_data"
    },
    {
     "data": {
      "application/javascript": [
       "\n",
       "        $('span:contains(\"# Temp\")').closest('.cell').remove();\n",
       "        var code = IPython.notebook.insert_cell_below('code');\n",
       "        var prompt = code.element.find(\".input_prompt\");\n",
       "        prompt.append('<br><button style=\"height: 100%; width: 54px;\">Run</button>');\n",
       "        prompt.on(\"click\", \"button\", function(){\n",
       "            code.execute();\n",
       "        });\n",
       "        code.set_text(decodeURIComponent(window.atob(\"JTIzJTIwVGVtcCUwQWluc2VydCUyOCUyNyUyNyUyNyUwQW5ldmVzMjAxNmElMjAlM0QlMjBEQiUyOFdvcmtVbnJlbGF0ZWQlMjglMEElMjAlMjAlMjAlMjAyMDE2JTJDJTIwJTIyUmlzayUyMG1hbmFnZW1lbnQlMjBhcHBsaWVkJTIwdG8lMjBTb2Z0d2FyZSUyMGRldmVsb3BtZW50JTIwcHJvamVjdHMlMjBpbiUyMGluY3ViYXRlZCUyMHRlY2hub2xvZ3ktYmFzZWQlMjBjb21wYW5pZXMlM0ElMjBMaXRlcmF0dXJlJTIwcmV2aWV3JTJDJTIwY2xhc3NpZmljYXRpb24lMkMlMjBhbmQlMjBhbmFseXNpcyUyMiUyQyUwQSUyMCUyMCUyMCUyMGRpc3BsYXklM0QlMjJuZXZlcyUyMiUyQyUwQSUyMCUyMCUyMCUyMGF1dGhvcnMlM0QlMjJOZXZlcyUyQyUyMFMuTS4lMjBhbmQlMjBEYSUyMFNpbHZhJTJDJTIwQy5FLlMuJTIyJTJDJTBBJTIwJTIwJTIwJTIwcGxhY2UlM0RQcm9kdWNhbyUyQyUwQSUyMCUyMCUyMCUyMHBwJTNEJTIyNzk4LTgxNCUyMiUyQyUwQSUyMCUyMCUyMCUyMGVudHJ5dHlwZSUzRCUyMmFydGljbGUlMjIlMkMlMEElMjAlMjAlMjAlMjB2b2x1bWUlM0QlMjIyMyUyMiUyQyUwQSUyMCUyMCUyMCUyMG51bWJlciUzRCUyMjQlMjIlMkMlMEElMjAlMjAlMjAlMjBsaW5rJTNEJTIyaHR0cHMlM0EvL3d3dy5zY29wdXMuY29tL2lud2FyZC9yZWNvcmQudXJpJTNGZWlkJTNEMi1zMi4wLTg1MDA3MzY5MDI4JTI2ZG9pJTNEMTAuMTU5MCUyNTJmMDEwNC01MzBYNDcyLTE1JTI2cGFydG5lcklEJTNENDAlMjZtZDUlM0Q4OWU0M2U3OTQ0MTY0Y2VjNDczMjJlZDY0ZjdkNmQwOSUyMiUyQyUwQSUyMCUyMCUyMCUyMElEJTNEJTIyTmV2ZXMyMDE2Nzk4JTIyJTJDJTBBJTIwJTIwJTIwJTIwc2NvcHVzMjAxNiUzRCUyMjElMjIlMkMlMEElMjAlMjAlMjAlMjBwbGFjZXglM0QlMjJHZXN0YW8lMjBlJTIwUHJvZHVjYW8lMjIlMkMlMEElMjklMjklMEElMjclMjclMjclMjklM0I=\")));\n",
       "    "
      ],
      "text/plain": [
       "<IPython.core.display.Javascript object>"
      ]
     },
     "metadata": {},
     "output_type": "display_data"
    },
    {
     "data": {
      "application/javascript": [
       "$('span:contains(\"# Temp\")').closest('.cell').remove();"
      ],
      "text/plain": [
       "<IPython.core.display.Javascript object>"
      ]
     },
     "metadata": {},
     "output_type": "display_data"
    },
    {
     "data": {
      "application/javascript": [
       "\n",
       "        $('span:contains(\"# Temp\")').closest('.cell').remove();\n",
       "        var code = IPython.notebook.insert_cell_below('code');\n",
       "        var prompt = code.element.find(\".input_prompt\");\n",
       "        prompt.append('<br><button style=\"height: 100%; width: 54px;\">Run</button>');\n",
       "        prompt.on(\"click\", \"button\", function(){\n",
       "            code.execute();\n",
       "        });\n",
       "        code.set_text(decodeURIComponent(window.atob(\"JTIzJTIwVGVtcCUwQWluc2VydCUyOCUyNyUyNyUyNyUwQW5ldmVzMjAxNmElMjAlM0QlMjBEQiUyOFdvcmtVbnJlbGF0ZWQlMjglMEElMjAlMjAlMjAlMjAyMDE2JTJDJTIwJTIyUmlzayUyMG1hbmFnZW1lbnQlMjBhcHBsaWVkJTIwdG8lMjBTb2Z0d2FyZSUyMGRldmVsb3BtZW50JTIwcHJvamVjdHMlMjBpbiUyMGluY3ViYXRlZCUyMHRlY2hub2xvZ3ktYmFzZWQlMjBjb21wYW5pZXMlM0ElMjBMaXRlcmF0dXJlJTIwcmV2aWV3JTJDJTIwY2xhc3NpZmljYXRpb24lMkMlMjBhbmQlMjBhbmFseXNpcyUyMiUyQyUwQSUyMCUyMCUyMCUyMGRpc3BsYXklM0QlMjJuZXZlcyUyMiUyQyUwQSUyMCUyMCUyMCUyMGF1dGhvcnMlM0QlMjJOZXZlcyUyQyUyMFMuTS4lMjBhbmQlMjBEYSUyMFNpbHZhJTJDJTIwQy5FLlMuJTIyJTJDJTBBJTIwJTIwJTIwJTIwcGxhY2UlM0RQcm9kdWNhbyUyQyUwQSUyMCUyMCUyMCUyMHBwJTNEJTIyNzk4LTgxNCUyMiUyQyUwQSUyMCUyMCUyMCUyMGVudHJ5dHlwZSUzRCUyMmFydGljbGUlMjIlMkMlMEElMjAlMjAlMjAlMjB2b2x1bWUlM0QlMjIyMyUyMiUyQyUwQSUyMCUyMCUyMCUyMG51bWJlciUzRCUyMjQlMjIlMkMlMEElMjAlMjAlMjAlMjBsaW5rJTNEJTIyaHR0cHMlM0EvL3d3dy5zY29wdXMuY29tL2lud2FyZC9yZWNvcmQudXJpJTNGZWlkJTNEMi1zMi4wLTg1MDA3MzY5MDI4JTI2ZG9pJTNEMTAuMTU5MCUyNTJmMDEwNC01MzBYNDcyLTE1JTI2cGFydG5lcklEJTNENDAlMjZtZDUlM0Q4OWU0M2U3OTQ0MTY0Y2VjNDczMjJlZDY0ZjdkNmQwOSUyMiUyQyUwQSUyMCUyMCUyMCUyMElEJTNEJTIyTmV2ZXMyMDE2Nzk4JTIyJTJDJTBBJTIwJTIwJTIwJTIwc2NvcHVzMjAxNiUzRCUyMjElMjIlMkMlMEElMjAlMjAlMjAlMjBwbGFjZXglM0QlMjJHZXN0YW8lMjBlJTIwUHJvZHVjYW8lMjIlMkMlMEElMjklMjklMEElMjclMjclMjclMjklM0I=\")));\n",
       "    "
      ],
      "text/plain": [
       "<IPython.core.display.Javascript object>"
      ]
     },
     "metadata": {},
     "output_type": "display_data"
    },
    {
     "data": {
      "application/javascript": [
       "$('span:contains(\"# Temp\")').closest('.cell').remove();"
      ],
      "text/plain": [
       "<IPython.core.display.Javascript object>"
      ]
     },
     "metadata": {},
     "output_type": "display_data"
    },
    {
     "data": {
      "application/javascript": [
       "\n",
       "        $('span:contains(\"# Temp\")').closest('.cell').remove();\n",
       "        var code = IPython.notebook.insert_cell_below('code');\n",
       "        var prompt = code.element.find(\".input_prompt\");\n",
       "        prompt.append('<br><button style=\"height: 100%; width: 54px;\">Run</button>');\n",
       "        prompt.on(\"click\", \"button\", function(){\n",
       "            code.execute();\n",
       "        });\n",
       "        code.set_text(decodeURIComponent(window.atob(\"JTIzJTIwVGVtcCUwQWluc2VydCUyOCUyNyUyNyUyNyUyNyUyNyUyNyUyOSUzQiUwQXNldF9hdHRyaWJ1dGUlMjglMjdjaGVuMjAxNmElMjclMkMlMjAlMjdsaW5rJTI3JTJDJTIwJTI3aHR0cHMlM0EvL3d3dy5zY29wdXMuY29tL2lud2FyZC9yZWNvcmQudXJpJTNGZWlkJTNEMi1zMi4wLTg1MDEwMjgwMjU0JTI2ZG9pJTNEMTAuMTAxNiUyNTJmai5qaWkuMjAxNi4wNC4wMDQlMjZwYXJ0bmVySUQlM0Q0MCUyNm1kNSUzRGM4MWFhZjhlYjdiOTI0YWE4ZDY1OGMwZDQ1MzA1MjZjJTI3JTI5JTNCJTBBc2V0X2F0dHJpYnV0ZSUyOCUyN2NoZW4yMDE2YSUyNyUyQyUyMCUyN3Njb3B1czIwMTYlMjclMkMlMjAlMjcxJTI3JTI5JTNC\")));\n",
       "    "
      ],
      "text/plain": [
       "<IPython.core.display.Javascript object>"
      ]
     },
     "metadata": {},
     "output_type": "display_data"
    },
    {
     "data": {
      "application/javascript": [
       "$('span:contains(\"# Temp\")').closest('.cell').remove();"
      ],
      "text/plain": [
       "<IPython.core.display.Javascript object>"
      ]
     },
     "metadata": {},
     "output_type": "display_data"
    },
    {
     "data": {
      "application/javascript": [
       "\n",
       "        $('span:contains(\"# Temp\")').closest('.cell').remove();\n",
       "        var code = IPython.notebook.insert_cell_below('code');\n",
       "        var prompt = code.element.find(\".input_prompt\");\n",
       "        prompt.append('<br><button style=\"height: 100%; width: 54px;\">Run</button>');\n",
       "        prompt.on(\"click\", \"button\", function(){\n",
       "            code.execute();\n",
       "        });\n",
       "        code.set_text(decodeURIComponent(window.atob(\"JTIzJTIwVGVtcCUwQWluc2VydCUyOCUyNyUyNyUyNyUyNyUyNyUyNyUyOSUzQiUwQXNldF9hdHRyaWJ1dGUlMjglMjdjaGVuMjAxNmElMjclMkMlMjAlMjdsaW5rJTI3JTJDJTIwJTI3aHR0cHMlM0EvL3d3dy5zY29wdXMuY29tL2lud2FyZC9yZWNvcmQudXJpJTNGZWlkJTNEMi1zMi4wLTg1MDEwMjgwMjU0JTI2ZG9pJTNEMTAuMTAxNiUyNTJmai5qaWkuMjAxNi4wNC4wMDQlMjZwYXJ0bmVySUQlM0Q0MCUyNm1kNSUzRGM4MWFhZjhlYjdiOTI0YWE4ZDY1OGMwZDQ1MzA1MjZjJTI3JTI5JTNCJTBBc2V0X2F0dHJpYnV0ZSUyOCUyN2NoZW4yMDE2YSUyNyUyQyUyMCUyN3Njb3B1czIwMTYlMjclMkMlMjAlMjcxJTI3JTI5JTNC\")));\n",
       "    "
      ],
      "text/plain": [
       "<IPython.core.display.Javascript object>"
      ]
     },
     "metadata": {},
     "output_type": "display_data"
    },
    {
     "data": {
      "application/javascript": [
       "$('span:contains(\"# Temp\")').closest('.cell').remove();"
      ],
      "text/plain": [
       "<IPython.core.display.Javascript object>"
      ]
     },
     "metadata": {},
     "output_type": "display_data"
    },
    {
     "data": {
      "application/javascript": [
       "\n",
       "        $('span:contains(\"# Temp\")').closest('.cell').remove();\n",
       "        var code = IPython.notebook.insert_cell_below('code');\n",
       "        var prompt = code.element.find(\".input_prompt\");\n",
       "        prompt.append('<br><button style=\"height: 100%; width: 54px;\">Run</button>');\n",
       "        prompt.on(\"click\", \"button\", function(){\n",
       "            code.execute();\n",
       "        });\n",
       "        code.set_text(decodeURIComponent(window.atob(\"JTIzJTIwVGVtcCUwQWluc2VydCUyOCUyNyUyNyUyNyUyNyUyNyUyNyUyOSUzQiUwQXNldF9hdHRyaWJ1dGUlMjglMjdhdmVyc2FubzIwMTZhJTI3JTJDJTIwJTI3bGluayUyNyUyQyUyMCUyN2h0dHBzJTNBLy93d3cuc2NvcHVzLmNvbS9pbndhcmQvcmVjb3JkLnVyaSUzRmVpZCUzRDItczIuMC04NDk1ODY1ODQ4MiUyNmRvaSUzRDEwLjEwMTYlMjUyZmouaW5mc29mLjIwMTUuMTIuMDA5JTI2cGFydG5lcklEJTNENDAlMjZtZDUlM0RjYTkzY2JiZGQ2NDRhNTBhZWIwYzAyMTZkNGYzNWE3YyUyNyUyOSUzQiUwQXNldF9hdHRyaWJ1dGUlMjglMjdhdmVyc2FubzIwMTZhJTI3JTJDJTIwJTI3c2NvcHVzMjAxNiUyNyUyQyUyMCUyNzElMjclMjklM0I=\")));\n",
       "    "
      ],
      "text/plain": [
       "<IPython.core.display.Javascript object>"
      ]
     },
     "metadata": {},
     "output_type": "display_data"
    },
    {
     "data": {
      "application/javascript": [
       "$('span:contains(\"# Temp\")').closest('.cell').remove();"
      ],
      "text/plain": [
       "<IPython.core.display.Javascript object>"
      ]
     },
     "metadata": {},
     "output_type": "display_data"
    },
    {
     "data": {
      "application/javascript": [
       "\n",
       "        $('span:contains(\"# Temp\")').closest('.cell').remove();\n",
       "        var code = IPython.notebook.insert_cell_below('code');\n",
       "        var prompt = code.element.find(\".input_prompt\");\n",
       "        prompt.append('<br><button style=\"height: 100%; width: 54px;\">Run</button>');\n",
       "        prompt.on(\"click\", \"button\", function(){\n",
       "            code.execute();\n",
       "        });\n",
       "        code.set_text(decodeURIComponent(window.atob(\"JTIzJTIwVGVtcCUwQWluc2VydCUyOCUyNyUyNyUyNyUyNyUyNyUyNyUyOSUzQiUwQXNldF9hdHRyaWJ1dGUlMjglMjdhdmVyc2FubzIwMTZhJTI3JTJDJTIwJTI3bGluayUyNyUyQyUyMCUyN2h0dHBzJTNBLy93d3cuc2NvcHVzLmNvbS9pbndhcmQvcmVjb3JkLnVyaSUzRmVpZCUzRDItczIuMC04NDk1ODY1ODQ4MiUyNmRvaSUzRDEwLjEwMTYlMjUyZmouaW5mc29mLjIwMTUuMTIuMDA5JTI2cGFydG5lcklEJTNENDAlMjZtZDUlM0RjYTkzY2JiZGQ2NDRhNTBhZWIwYzAyMTZkNGYzNWE3YyUyNyUyOSUzQiUwQXNldF9hdHRyaWJ1dGUlMjglMjdhdmVyc2FubzIwMTZhJTI3JTJDJTIwJTI3c2NvcHVzMjAxNiUyNyUyQyUyMCUyNzElMjclMjklM0I=\")));\n",
       "    "
      ],
      "text/plain": [
       "<IPython.core.display.Javascript object>"
      ]
     },
     "metadata": {},
     "output_type": "display_data"
    },
    {
     "data": {
      "application/javascript": [
       "$('span:contains(\"# Temp\")').closest('.cell').remove();"
      ],
      "text/plain": [
       "<IPython.core.display.Javascript object>"
      ]
     },
     "metadata": {},
     "output_type": "display_data"
    },
    {
     "data": {
      "application/javascript": [
       "\n",
       "        $('span:contains(\"# Temp\")').closest('.cell').remove();\n",
       "        var code = IPython.notebook.insert_cell_below('code');\n",
       "        var prompt = code.element.find(\".input_prompt\");\n",
       "        prompt.append('<br><button style=\"height: 100%; width: 54px;\">Run</button>');\n",
       "        prompt.on(\"click\", \"button\", function(){\n",
       "            code.execute();\n",
       "        });\n",
       "        code.set_text(decodeURIComponent(window.atob(\"JTIzJTIwVGVtcCUwQWluc2VydCUyOCUyNyUyNyUyNyUyNyUyNyUyNyUyOSUzQiUwQXNldF9hdHRyaWJ1dGUlMjglMjdjb2xvbW8yMDE2YSUyNyUyQyUyMCUyN3ZvbHVtZSUyNyUyQyUyMCUyNzY1OCUyNyUyOSUzQiUwQXNldF9hdHRyaWJ1dGUlMjglMjdjb2xvbW8yMDE2YSUyNyUyQyUyMCUyN2xpbmslMjclMkMlMjAlMjdodHRwcyUzQS8vd3d3LnNjb3B1cy5jb20vaW53YXJkL3JlY29yZC51cmklM0ZlaWQlM0QyLXMyLjAtODQ5OTY5NTczMDElMjZkb2klM0QxMC4xMDA3JTI1MmY5NzgtMy0zMTktNDgwMjQtNF8xNCUyNnBhcnRuZXJJRCUzRDQwJTI2bWQ1JTNENGE1ZDI5NWY4YjEzZmI4NzhkNDUxMTAyNmEzZmJjMWYlMjclMjklM0IlMEFzZXRfYXR0cmlidXRlJTI4JTI3Y29sb21vMjAxNmElMjclMkMlMjAlMjdzY29wdXMyMDE2JTI3JTJDJTIwJTI3MSUyNyUyOSUzQg==\")));\n",
       "    "
      ],
      "text/plain": [
       "<IPython.core.display.Javascript object>"
      ]
     },
     "metadata": {},
     "output_type": "display_data"
    },
    {
     "data": {
      "application/javascript": [
       "$('span:contains(\"# Temp\")').closest('.cell').remove();"
      ],
      "text/plain": [
       "<IPython.core.display.Javascript object>"
      ]
     },
     "metadata": {},
     "output_type": "display_data"
    },
    {
     "data": {
      "application/javascript": [
       "\n",
       "        $('span:contains(\"# Temp\")').closest('.cell').remove();\n",
       "        var code = IPython.notebook.insert_cell_below('code');\n",
       "        var prompt = code.element.find(\".input_prompt\");\n",
       "        prompt.append('<br><button style=\"height: 100%; width: 54px;\">Run</button>');\n",
       "        prompt.on(\"click\", \"button\", function(){\n",
       "            code.execute();\n",
       "        });\n",
       "        code.set_text(decodeURIComponent(window.atob(\"JTIzJTIwVGVtcCUwQWluc2VydCUyOCUyNyUyNyUyNyUyNyUyNyUyNyUyOSUzQiUwQXNldF9hdHRyaWJ1dGUlMjglMjdjb2xvbW8yMDE2YSUyNyUyQyUyMCUyN3ZvbHVtZSUyNyUyQyUyMCUyNzY1OCUyNyUyOSUzQiUwQXNldF9hdHRyaWJ1dGUlMjglMjdjb2xvbW8yMDE2YSUyNyUyQyUyMCUyN2xpbmslMjclMkMlMjAlMjdodHRwcyUzQS8vd3d3LnNjb3B1cy5jb20vaW53YXJkL3JlY29yZC51cmklM0ZlaWQlM0QyLXMyLjAtODQ5OTY5NTczMDElMjZkb2klM0QxMC4xMDA3JTI1MmY5NzgtMy0zMTktNDgwMjQtNF8xNCUyNnBhcnRuZXJJRCUzRDQwJTI2bWQ1JTNENGE1ZDI5NWY4YjEzZmI4NzhkNDUxMTAyNmEzZmJjMWYlMjclMjklM0IlMEFzZXRfYXR0cmlidXRlJTI4JTI3Y29sb21vMjAxNmElMjclMkMlMjAlMjdzY29wdXMyMDE2JTI3JTJDJTIwJTI3MSUyNyUyOSUzQg==\")));\n",
       "    "
      ],
      "text/plain": [
       "<IPython.core.display.Javascript object>"
      ]
     },
     "metadata": {},
     "output_type": "display_data"
    },
    {
     "data": {
      "application/javascript": [
       "$('span:contains(\"# Temp\")').closest('.cell').remove();"
      ],
      "text/plain": [
       "<IPython.core.display.Javascript object>"
      ]
     },
     "metadata": {},
     "output_type": "display_data"
    },
    {
     "data": {
      "application/javascript": [
       "\n",
       "        $('span:contains(\"# Temp\")').closest('.cell').remove();\n",
       "        var code = IPython.notebook.insert_cell_below('code');\n",
       "        var prompt = code.element.find(\".input_prompt\");\n",
       "        prompt.append('<br><button style=\"height: 100%; width: 54px;\">Run</button>');\n",
       "        prompt.on(\"click\", \"button\", function(){\n",
       "            code.execute();\n",
       "        });\n",
       "        code.set_text(decodeURIComponent(window.atob(\"JTIzJTIwVGVtcCUwQWluc2VydCUyOCUyNyUyNyUyNyUyNyUyNyUyNyUyOSUzQiUwQXNldF9hdHRyaWJ1dGUlMjglMjdwcmFidTIwMTZhJTI3JTJDJTIwJTI3cHAlMjclMkMlMjAlMjcxMS0xNyUyNyUyOSUzQiUwQXNldF9hdHRyaWJ1dGUlMjglMjdwcmFidTIwMTZhJTI3JTJDJTIwJTI3dm9sdW1lJTI3JTJDJTIwJTI3OSUyNyUyOSUzQiUwQXNldF9hdHRyaWJ1dGUlMjglMjdwcmFidTIwMTZhJTI3JTJDJTIwJTI3bnVtYmVyJTI3JTJDJTIwJTI3MjclMjclMjklM0IlMEFzZXRfYXR0cmlidXRlJTI4JTI3cHJhYnUyMDE2YSUyNyUyQyUyMCUyN2xpbmslMjclMkMlMjAlMjdodHRwcyUzQS8vd3d3LnNjb3B1cy5jb20vaW53YXJkL3JlY29yZC51cmklM0ZlaWQlM0QyLXMyLjAtODUwMDcxMDY5MTklMjZwYXJ0bmVySUQlM0Q0MCUyNm1kNSUzRDdmOWM5NzZiOTM3YTRiY2MxZjcwMzRlM2JhNmU5NjgzJTI3JTI5JTNCJTBBc2V0X2F0dHJpYnV0ZSUyOCUyN3ByYWJ1MjAxNmElMjclMkMlMjAlMjdzY29wdXMyMDE2JTI3JTJDJTIwJTI3MSUyNyUyOSUzQg==\")));\n",
       "    "
      ],
      "text/plain": [
       "<IPython.core.display.Javascript object>"
      ]
     },
     "metadata": {},
     "output_type": "display_data"
    },
    {
     "data": {
      "application/javascript": [
       "$('span:contains(\"# Temp\")').closest('.cell').remove();"
      ],
      "text/plain": [
       "<IPython.core.display.Javascript object>"
      ]
     },
     "metadata": {},
     "output_type": "display_data"
    },
    {
     "data": {
      "application/javascript": [
       "\n",
       "        $('span:contains(\"# Temp\")').closest('.cell').remove();\n",
       "        var code = IPython.notebook.insert_cell_below('code');\n",
       "        var prompt = code.element.find(\".input_prompt\");\n",
       "        prompt.append('<br><button style=\"height: 100%; width: 54px;\">Run</button>');\n",
       "        prompt.on(\"click\", \"button\", function(){\n",
       "            code.execute();\n",
       "        });\n",
       "        code.set_text(decodeURIComponent(window.atob(\"JTIzJTIwVGVtcCUwQWluc2VydCUyOCUyNyUyNyUyNyUyNyUyNyUyNyUyOSUzQiUwQXNldF9hdHRyaWJ1dGUlMjglMjdwcmFidTIwMTZhJTI3JTJDJTIwJTI3cHAlMjclMkMlMjAlMjcxMS0xNyUyNyUyOSUzQiUwQXNldF9hdHRyaWJ1dGUlMjglMjdwcmFidTIwMTZhJTI3JTJDJTIwJTI3dm9sdW1lJTI3JTJDJTIwJTI3OSUyNyUyOSUzQiUwQXNldF9hdHRyaWJ1dGUlMjglMjdwcmFidTIwMTZhJTI3JTJDJTIwJTI3bnVtYmVyJTI3JTJDJTIwJTI3MjclMjclMjklM0IlMEFzZXRfYXR0cmlidXRlJTI4JTI3cHJhYnUyMDE2YSUyNyUyQyUyMCUyN2xpbmslMjclMkMlMjAlMjdodHRwcyUzQS8vd3d3LnNjb3B1cy5jb20vaW53YXJkL3JlY29yZC51cmklM0ZlaWQlM0QyLXMyLjAtODUwMDcxMDY5MTklMjZwYXJ0bmVySUQlM0Q0MCUyNm1kNSUzRDdmOWM5NzZiOTM3YTRiY2MxZjcwMzRlM2JhNmU5NjgzJTI3JTI5JTNCJTBBc2V0X2F0dHJpYnV0ZSUyOCUyN3ByYWJ1MjAxNmElMjclMkMlMjAlMjdzY29wdXMyMDE2JTI3JTJDJTIwJTI3MSUyNyUyOSUzQg==\")));\n",
       "    "
      ],
      "text/plain": [
       "<IPython.core.display.Javascript object>"
      ]
     },
     "metadata": {},
     "output_type": "display_data"
    },
    {
     "data": {
      "application/javascript": [
       "$('span:contains(\"# Temp\")').closest('.cell').remove();"
      ],
      "text/plain": [
       "<IPython.core.display.Javascript object>"
      ]
     },
     "metadata": {},
     "output_type": "display_data"
    },
    {
     "data": {
      "application/javascript": [
       "\n",
       "        $('span:contains(\"# Temp\")').closest('.cell').remove();\n",
       "        var code = IPython.notebook.insert_cell_below('code');\n",
       "        var prompt = code.element.find(\".input_prompt\");\n",
       "        prompt.append('<br><button style=\"height: 100%; width: 54px;\">Run</button>');\n",
       "        prompt.on(\"click\", \"button\", function(){\n",
       "            code.execute();\n",
       "        });\n",
       "        code.set_text(decodeURIComponent(window.atob(\"JTIzJTIwVGVtcCUwQWluc2VydCUyOCUyNyUyNyUyNyUyNyUyNyUyNyUyOSUzQiUwQXNldF9hdHRyaWJ1dGUlMjglMjdzaWx2YTIwMTZhJTI3JTJDJTIwJTI3dm9sdW1lJTI3JTJDJTIwJTI3NDY1JTI3JTI5JTNCJTBBc2V0X2F0dHJpYnV0ZSUyOCUyN3NpbHZhMjAxNmElMjclMkMlMjAlMjdsaW5rJTI3JTJDJTIwJTI3aHR0cHMlM0EvL3d3dy5zY29wdXMuY29tL2lud2FyZC9yZWNvcmQudXJpJTNGZWlkJTNEMi1zMi4wLTg0OTY0NzM0OTQzJTI2ZG9pJTNEMTAuMTAwNyUyNTJmOTc4LTMtMzE5LTMzNjIyLTBfMjclMjZwYXJ0bmVySUQlM0Q0MCUyNm1kNSUzRGFiMzJjMzY1NjBhMGY4Njc5YzQzMzU0NTIzY2ZiZDgwJTI3JTI5JTNCJTBBc2V0X2F0dHJpYnV0ZSUyOCUyN3NpbHZhMjAxNmElMjclMkMlMjAlMjdzY29wdXMyMDE2JTI3JTJDJTIwJTI3MSUyNyUyOSUzQg==\")));\n",
       "    "
      ],
      "text/plain": [
       "<IPython.core.display.Javascript object>"
      ]
     },
     "metadata": {},
     "output_type": "display_data"
    },
    {
     "data": {
      "application/javascript": [
       "$('span:contains(\"# Temp\")').closest('.cell').remove();"
      ],
      "text/plain": [
       "<IPython.core.display.Javascript object>"
      ]
     },
     "metadata": {},
     "output_type": "display_data"
    },
    {
     "data": {
      "application/javascript": [
       "\n",
       "        $('span:contains(\"# Temp\")').closest('.cell').remove();\n",
       "        var code = IPython.notebook.insert_cell_below('code');\n",
       "        var prompt = code.element.find(\".input_prompt\");\n",
       "        prompt.append('<br><button style=\"height: 100%; width: 54px;\">Run</button>');\n",
       "        prompt.on(\"click\", \"button\", function(){\n",
       "            code.execute();\n",
       "        });\n",
       "        code.set_text(decodeURIComponent(window.atob(\"JTIzJTIwVGVtcCUwQWluc2VydCUyOCUyNyUyNyUyNyUyNyUyNyUyNyUyOSUzQiUwQXNldF9hdHRyaWJ1dGUlMjglMjdzaWx2YTIwMTZhJTI3JTJDJTIwJTI3dm9sdW1lJTI3JTJDJTIwJTI3NDY1JTI3JTI5JTNCJTBBc2V0X2F0dHJpYnV0ZSUyOCUyN3NpbHZhMjAxNmElMjclMkMlMjAlMjdsaW5rJTI3JTJDJTIwJTI3aHR0cHMlM0EvL3d3dy5zY29wdXMuY29tL2lud2FyZC9yZWNvcmQudXJpJTNGZWlkJTNEMi1zMi4wLTg0OTY0NzM0OTQzJTI2ZG9pJTNEMTAuMTAwNyUyNTJmOTc4LTMtMzE5LTMzNjIyLTBfMjclMjZwYXJ0bmVySUQlM0Q0MCUyNm1kNSUzRGFiMzJjMzY1NjBhMGY4Njc5YzQzMzU0NTIzY2ZiZDgwJTI3JTI5JTNCJTBBc2V0X2F0dHJpYnV0ZSUyOCUyN3NpbHZhMjAxNmElMjclMkMlMjAlMjdzY29wdXMyMDE2JTI3JTJDJTIwJTI3MSUyNyUyOSUzQg==\")));\n",
       "    "
      ],
      "text/plain": [
       "<IPython.core.display.Javascript object>"
      ]
     },
     "metadata": {},
     "output_type": "display_data"
    },
    {
     "data": {
      "application/javascript": [
       "$('span:contains(\"# Temp\")').closest('.cell').remove();"
      ],
      "text/plain": [
       "<IPython.core.display.Javascript object>"
      ]
     },
     "metadata": {},
     "output_type": "display_data"
    },
    {
     "data": {
      "application/javascript": [
       "\n",
       "        $('span:contains(\"# Temp\")').closest('.cell').remove();\n",
       "        var code = IPython.notebook.insert_cell_below('code');\n",
       "        var prompt = code.element.find(\".input_prompt\");\n",
       "        prompt.append('<br><button style=\"height: 100%; width: 54px;\">Run</button>');\n",
       "        prompt.on(\"click\", \"button\", function(){\n",
       "            code.execute();\n",
       "        });\n",
       "        code.set_text(decodeURIComponent(window.atob(\"JTIzJTIwVGVtcCUwQWluc2VydCUyOCUyNyUyNyUyNyUyNyUyNyUyNyUyOSUzQiUwQXNldF9hdHRyaWJ1dGUlMjglMjdyYWxwaDIwMTZhJTI3JTJDJTIwJTI3bGluayUyNyUyQyUyMCUyN2h0dHBzJTNBLy93d3cuc2NvcHVzLmNvbS9pbndhcmQvcmVjb3JkLnVyaSUzRmVpZCUzRDItczIuMC04NDk0OTUzMzE4MiUyNmRvaSUzRDEwLjEwMTYlMjUyZmouaW5mc29mLjIwMTUuMDYuMDEwJTI2cGFydG5lcklEJTNENDAlMjZtZDUlM0RmNTQ1YWE2MzYzZGM2YjY5N2RkZGIxYjg0NGIwOTVkNCUyNyUyOSUzQiUwQXNldF9hdHRyaWJ1dGUlMjglMjdyYWxwaDIwMTZhJTI3JTJDJTIwJTI3c2NvcHVzMjAxNiUyNyUyQyUyMCUyNzElMjclMjklM0I=\")));\n",
       "    "
      ],
      "text/plain": [
       "<IPython.core.display.Javascript object>"
      ]
     },
     "metadata": {},
     "output_type": "display_data"
    },
    {
     "data": {
      "application/javascript": [
       "$('span:contains(\"# Temp\")').closest('.cell').remove();"
      ],
      "text/plain": [
       "<IPython.core.display.Javascript object>"
      ]
     },
     "metadata": {},
     "output_type": "display_data"
    },
    {
     "data": {
      "application/javascript": [
       "\n",
       "        $('span:contains(\"# Temp\")').closest('.cell').remove();\n",
       "        var code = IPython.notebook.insert_cell_below('code');\n",
       "        var prompt = code.element.find(\".input_prompt\");\n",
       "        prompt.append('<br><button style=\"height: 100%; width: 54px;\">Run</button>');\n",
       "        prompt.on(\"click\", \"button\", function(){\n",
       "            code.execute();\n",
       "        });\n",
       "        code.set_text(decodeURIComponent(window.atob(\"JTIzJTIwVGVtcCUwQWluc2VydCUyOCUyNyUyNyUyNyUyNyUyNyUyNyUyOSUzQiUwQXNldF9hdHRyaWJ1dGUlMjglMjdyYWxwaDIwMTZhJTI3JTJDJTIwJTI3bGluayUyNyUyQyUyMCUyN2h0dHBzJTNBLy93d3cuc2NvcHVzLmNvbS9pbndhcmQvcmVjb3JkLnVyaSUzRmVpZCUzRDItczIuMC04NDk0OTUzMzE4MiUyNmRvaSUzRDEwLjEwMTYlMjUyZmouaW5mc29mLjIwMTUuMDYuMDEwJTI2cGFydG5lcklEJTNENDAlMjZtZDUlM0RmNTQ1YWE2MzYzZGM2YjY5N2RkZGIxYjg0NGIwOTVkNCUyNyUyOSUzQiUwQXNldF9hdHRyaWJ1dGUlMjglMjdyYWxwaDIwMTZhJTI3JTJDJTIwJTI3c2NvcHVzMjAxNiUyNyUyQyUyMCUyNzElMjclMjklM0I=\")));\n",
       "    "
      ],
      "text/plain": [
       "<IPython.core.display.Javascript object>"
      ]
     },
     "metadata": {},
     "output_type": "display_data"
    },
    {
     "data": {
      "application/javascript": [
       "$('span:contains(\"# Temp\")').closest('.cell').remove();"
      ],
      "text/plain": [
       "<IPython.core.display.Javascript object>"
      ]
     },
     "metadata": {},
     "output_type": "display_data"
    },
    {
     "data": {
      "application/javascript": [
       "\n",
       "        $('span:contains(\"# Temp\")').closest('.cell').remove();\n",
       "        var code = IPython.notebook.insert_cell_below('code');\n",
       "        var prompt = code.element.find(\".input_prompt\");\n",
       "        prompt.append('<br><button style=\"height: 100%; width: 54px;\">Run</button>');\n",
       "        prompt.on(\"click\", \"button\", function(){\n",
       "            code.execute();\n",
       "        });\n",
       "        code.set_text(decodeURIComponent(window.atob(\"JTIzJTIwVGVtcCUwQWluc2VydCUyOCUyNyUyNyUyNyUyNyUyNyUyNyUyOSUzQiUwQXNldF9hdHRyaWJ1dGUlMjglMjd0YXJoYW4yMDE1YSUyNyUyQyUyMCUyN2FydF9udW1iZXIlMjclMkMlMjAlMjc3MzAyNDg1JTI3JTI5JTNCJTBBc2V0X2F0dHJpYnV0ZSUyOCUyN3RhcmhhbjIwMTVhJTI3JTJDJTIwJTI3bGluayUyNyUyQyUyMCUyN2h0dHBzJTNBLy93d3cuc2NvcHVzLmNvbS9pbndhcmQvcmVjb3JkLnVyaSUzRmVpZCUzRDItczIuMC04NDk1ODI2MDQ4NSUyNmRvaSUzRDEwLjExMDklMjUyZlNFQUEuMjAxNS41MCUyNnBhcnRuZXJJRCUzRDQwJTI2bWQ1JTNENTA2NzRkMzYxMWFlN2NiMDVlYjgyMjAwYjFiZDMzYjMlMjclMjklM0IlMEFzZXRfYXR0cmlidXRlJTI4JTI3dGFyaGFuMjAxNWElMjclMkMlMjAlMjdzY29wdXMyMDE2JTI3JTJDJTIwJTI3MSUyNyUyOSUzQg==\")));\n",
       "    "
      ],
      "text/plain": [
       "<IPython.core.display.Javascript object>"
      ]
     },
     "metadata": {},
     "output_type": "display_data"
    },
    {
     "data": {
      "application/javascript": [
       "$('span:contains(\"# Temp\")').closest('.cell').remove();"
      ],
      "text/plain": [
       "<IPython.core.display.Javascript object>"
      ]
     },
     "metadata": {},
     "output_type": "display_data"
    },
    {
     "data": {
      "application/javascript": [
       "\n",
       "        $('span:contains(\"# Temp\")').closest('.cell').remove();\n",
       "        var code = IPython.notebook.insert_cell_below('code');\n",
       "        var prompt = code.element.find(\".input_prompt\");\n",
       "        prompt.append('<br><button style=\"height: 100%; width: 54px;\">Run</button>');\n",
       "        prompt.on(\"click\", \"button\", function(){\n",
       "            code.execute();\n",
       "        });\n",
       "        code.set_text(decodeURIComponent(window.atob(\"JTIzJTIwVGVtcCUwQWluc2VydCUyOCUyNyUyNyUyNyUyNyUyNyUyNyUyOSUzQiUwQXNldF9hdHRyaWJ1dGUlMjglMjd0YXJoYW4yMDE1YSUyNyUyQyUyMCUyN2FydF9udW1iZXIlMjclMkMlMjAlMjc3MzAyNDg1JTI3JTI5JTNCJTBBc2V0X2F0dHJpYnV0ZSUyOCUyN3RhcmhhbjIwMTVhJTI3JTJDJTIwJTI3bGluayUyNyUyQyUyMCUyN2h0dHBzJTNBLy93d3cuc2NvcHVzLmNvbS9pbndhcmQvcmVjb3JkLnVyaSUzRmVpZCUzRDItczIuMC04NDk1ODI2MDQ4NSUyNmRvaSUzRDEwLjExMDklMjUyZlNFQUEuMjAxNS41MCUyNnBhcnRuZXJJRCUzRDQwJTI2bWQ1JTNENTA2NzRkMzYxMWFlN2NiMDVlYjgyMjAwYjFiZDMzYjMlMjclMjklM0IlMEFzZXRfYXR0cmlidXRlJTI4JTI3dGFyaGFuMjAxNWElMjclMkMlMjAlMjdzY29wdXMyMDE2JTI3JTJDJTIwJTI3MSUyNyUyOSUzQg==\")));\n",
       "    "
      ],
      "text/plain": [
       "<IPython.core.display.Javascript object>"
      ]
     },
     "metadata": {},
     "output_type": "display_data"
    },
    {
     "data": {
      "application/javascript": [
       "$('span:contains(\"# Temp\")').closest('.cell').remove();"
      ],
      "text/plain": [
       "<IPython.core.display.Javascript object>"
      ]
     },
     "metadata": {},
     "output_type": "display_data"
    },
    {
     "data": {
      "application/javascript": [
       "\n",
       "        $('span:contains(\"# Temp\")').closest('.cell').remove();\n",
       "        var code = IPython.notebook.insert_cell_below('code');\n",
       "        var prompt = code.element.find(\".input_prompt\");\n",
       "        prompt.append('<br><button style=\"height: 100%; width: 54px;\">Run</button>');\n",
       "        prompt.on(\"click\", \"button\", function(){\n",
       "            code.execute();\n",
       "        });\n",
       "        code.set_text(decodeURIComponent(window.atob(\"JTIzJTIwVGVtcCUwQWluc2VydCUyOCUyNyUyNyUyNyUyNyUyNyUyNyUyOSUzQiUwQXNldF9hdHRyaWJ1dGUlMjglMjdydXkyMDE1YSUyNyUyQyUyMCUyN3ZvbHVtZSUyNyUyQyUyMCUyNzEzLTE3LUFwcmlsLTIwMTUlMjclMjklM0IlMEFzZXRfYXR0cmlidXRlJTI4JTI3cnV5MjAxNWElMjclMkMlMjAlMjdsaW5rJTI3JTJDJTIwJTI3aHR0cHMlM0EvL3d3dy5zY29wdXMuY29tL2lud2FyZC9yZWNvcmQudXJpJTNGZWlkJTNEMi1zMi4wLTg0OTU1NTA0MzYyJTI2ZG9pJTNEMTAuMTE0NSUyNTJmMjY5NTY2NC4yNjk1Nzk2JTI2cGFydG5lcklEJTNENDAlMjZtZDUlM0Q0ZjBhNzE1MTA2MmVhOTUxM2JlMTIzOGJkNzViZGRhYyUyNyUyOSUzQiUwQXNldF9hdHRyaWJ1dGUlMjglMjdydXkyMDE1YSUyNyUyQyUyMCUyN3Njb3B1czIwMTYlMjclMkMlMjAlMjcxJTI3JTI5JTNC\")));\n",
       "    "
      ],
      "text/plain": [
       "<IPython.core.display.Javascript object>"
      ]
     },
     "metadata": {},
     "output_type": "display_data"
    },
    {
     "data": {
      "application/javascript": [
       "$('span:contains(\"# Temp\")').closest('.cell').remove();"
      ],
      "text/plain": [
       "<IPython.core.display.Javascript object>"
      ]
     },
     "metadata": {},
     "output_type": "display_data"
    },
    {
     "data": {
      "application/javascript": [
       "\n",
       "        $('span:contains(\"# Temp\")').closest('.cell').remove();\n",
       "        var code = IPython.notebook.insert_cell_below('code');\n",
       "        var prompt = code.element.find(\".input_prompt\");\n",
       "        prompt.append('<br><button style=\"height: 100%; width: 54px;\">Run</button>');\n",
       "        prompt.on(\"click\", \"button\", function(){\n",
       "            code.execute();\n",
       "        });\n",
       "        code.set_text(decodeURIComponent(window.atob(\"JTIzJTIwVGVtcCUwQWluc2VydCUyOCUyNyUyNyUyNyUyNyUyNyUyNyUyOSUzQiUwQXNldF9hdHRyaWJ1dGUlMjglMjdydXkyMDE1YSUyNyUyQyUyMCUyN3ZvbHVtZSUyNyUyQyUyMCUyNzEzLTE3LUFwcmlsLTIwMTUlMjclMjklM0IlMEFzZXRfYXR0cmlidXRlJTI4JTI3cnV5MjAxNWElMjclMkMlMjAlMjdsaW5rJTI3JTJDJTIwJTI3aHR0cHMlM0EvL3d3dy5zY29wdXMuY29tL2lud2FyZC9yZWNvcmQudXJpJTNGZWlkJTNEMi1zMi4wLTg0OTU1NTA0MzYyJTI2ZG9pJTNEMTAuMTE0NSUyNTJmMjY5NTY2NC4yNjk1Nzk2JTI2cGFydG5lcklEJTNENDAlMjZtZDUlM0Q0ZjBhNzE1MTA2MmVhOTUxM2JlMTIzOGJkNzViZGRhYyUyNyUyOSUzQiUwQXNldF9hdHRyaWJ1dGUlMjglMjdydXkyMDE1YSUyNyUyQyUyMCUyN3Njb3B1czIwMTYlMjclMkMlMjAlMjcxJTI3JTI5JTNC\")));\n",
       "    "
      ],
      "text/plain": [
       "<IPython.core.display.Javascript object>"
      ]
     },
     "metadata": {},
     "output_type": "display_data"
    },
    {
     "data": {
      "application/javascript": [
       "$('span:contains(\"# Temp\")').closest('.cell').remove();"
      ],
      "text/plain": [
       "<IPython.core.display.Javascript object>"
      ]
     },
     "metadata": {},
     "output_type": "display_data"
    },
    {
     "data": {
      "application/javascript": [
       "\n",
       "        $('span:contains(\"# Temp\")').closest('.cell').remove();\n",
       "        var code = IPython.notebook.insert_cell_below('code');\n",
       "        var prompt = code.element.find(\".input_prompt\");\n",
       "        prompt.append('<br><button style=\"height: 100%; width: 54px;\">Run</button>');\n",
       "        prompt.on(\"click\", \"button\", function(){\n",
       "            code.execute();\n",
       "        });\n",
       "        code.set_text(decodeURIComponent(window.atob(\"JTIzJTIwVGVtcCUwQWluc2VydCUyOCUyNyUyNyUyNyUyNyUyNyUyNyUyOSUzQiUwQXNldF9hdHRyaWJ1dGUlMjglMjdmZWxvbmkyMDE1YSUyNyUyQyUyMCUyN2xpbmslMjclMkMlMjAlMjdodHRwcyUzQS8vd3d3LnNjb3B1cy5jb20vaW53YXJkL3JlY29yZC51cmklM0ZlaWQlM0QyLXMyLjAtODQ5MzYxMzI4OTYlMjZwYXJ0bmVySUQlM0Q0MCUyNm1kNSUzRDA1ZjM5MTg0YzgyZTg2M2Y4MGNiOTMxZjc3N2FkODBjJTI3JTI5JTNCJTBBc2V0X2F0dHJpYnV0ZSUyOCUyN2ZlbG9uaTIwMTVhJTI3JTJDJTIwJTI3c2NvcHVzMjAxNiUyNyUyQyUyMCUyNzElMjclMjklM0I=\")));\n",
       "    "
      ],
      "text/plain": [
       "<IPython.core.display.Javascript object>"
      ]
     },
     "metadata": {},
     "output_type": "display_data"
    },
    {
     "data": {
      "application/javascript": [
       "$('span:contains(\"# Temp\")').closest('.cell').remove();"
      ],
      "text/plain": [
       "<IPython.core.display.Javascript object>"
      ]
     },
     "metadata": {},
     "output_type": "display_data"
    },
    {
     "data": {
      "application/javascript": [
       "\n",
       "        $('span:contains(\"# Temp\")').closest('.cell').remove();\n",
       "        var code = IPython.notebook.insert_cell_below('code');\n",
       "        var prompt = code.element.find(\".input_prompt\");\n",
       "        prompt.append('<br><button style=\"height: 100%; width: 54px;\">Run</button>');\n",
       "        prompt.on(\"click\", \"button\", function(){\n",
       "            code.execute();\n",
       "        });\n",
       "        code.set_text(decodeURIComponent(window.atob(\"JTIzJTIwVGVtcCUwQWluc2VydCUyOCUyNyUyNyUyNyUyNyUyNyUyNyUyOSUzQiUwQXNldF9hdHRyaWJ1dGUlMjglMjdmZWxvbmkyMDE1YSUyNyUyQyUyMCUyN2xpbmslMjclMkMlMjAlMjdodHRwcyUzQS8vd3d3LnNjb3B1cy5jb20vaW53YXJkL3JlY29yZC51cmklM0ZlaWQlM0QyLXMyLjAtODQ5MzYxMzI4OTYlMjZwYXJ0bmVySUQlM0Q0MCUyNm1kNSUzRDA1ZjM5MTg0YzgyZTg2M2Y4MGNiOTMxZjc3N2FkODBjJTI3JTI5JTNCJTBBc2V0X2F0dHJpYnV0ZSUyOCUyN2ZlbG9uaTIwMTVhJTI3JTJDJTIwJTI3c2NvcHVzMjAxNiUyNyUyQyUyMCUyNzElMjclMjklM0I=\")));\n",
       "    "
      ],
      "text/plain": [
       "<IPython.core.display.Javascript object>"
      ]
     },
     "metadata": {},
     "output_type": "display_data"
    },
    {
     "data": {
      "application/javascript": [
       "$('span:contains(\"# Temp\")').closest('.cell').remove();"
      ],
      "text/plain": [
       "<IPython.core.display.Javascript object>"
      ]
     },
     "metadata": {},
     "output_type": "display_data"
    },
    {
     "data": {
      "application/javascript": [
       "\n",
       "        $('span:contains(\"# Temp\")').closest('.cell').remove();\n",
       "        var code = IPython.notebook.insert_cell_below('code');\n",
       "        var prompt = code.element.find(\".input_prompt\");\n",
       "        prompt.append('<br><button style=\"height: 100%; width: 54px;\">Run</button>');\n",
       "        prompt.on(\"click\", \"button\", function(){\n",
       "            code.execute();\n",
       "        });\n",
       "        code.set_text(decodeURIComponent(window.atob(\"JTIzJTIwVGVtcCUwQWluc2VydCUyOCUyNyUyNyUyNyUyNyUyNyUyNyUyOSUzQiUwQXNldF9hdHRyaWJ1dGUlMjglMjd0YW5yJUM0JUIxJUMzJUI2dmVyMjAxNWElMjclMkMlMjAlMjdsaW5rJTI3JTJDJTIwJTI3aHR0cHMlM0EvL3d3dy5zY29wdXMuY29tL2lud2FyZC9yZWNvcmQudXJpJTNGZWlkJTNEMi1zMi4wLTg0OTA4NjU5NDQ2JTI2ZG9pJTNEMTAuMTAxNiUyNTJmai5jc2kuMjAxNC4wNS4wMDMlMjZwYXJ0bmVySUQlM0Q0MCUyNm1kNSUzRDFmMjVlMGZmMGNhZmJkZmFkMzUzZmI3MjdlY2IzOWU0JTI3JTI5JTNCJTBBc2V0X2F0dHJpYnV0ZSUyOCUyN3RhbnIlQzQlQjElQzMlQjZ2ZXIyMDE1YSUyNyUyQyUyMCUyN3Njb3B1czIwMTYlMjclMkMlMjAlMjcxJTI3JTI5JTNC\")));\n",
       "    "
      ],
      "text/plain": [
       "<IPython.core.display.Javascript object>"
      ]
     },
     "metadata": {},
     "output_type": "display_data"
    },
    {
     "data": {
      "application/javascript": [
       "$('span:contains(\"# Temp\")').closest('.cell').remove();"
      ],
      "text/plain": [
       "<IPython.core.display.Javascript object>"
      ]
     },
     "metadata": {},
     "output_type": "display_data"
    },
    {
     "data": {
      "application/javascript": [
       "\n",
       "        $('span:contains(\"# Temp\")').closest('.cell').remove();\n",
       "        var code = IPython.notebook.insert_cell_below('code');\n",
       "        var prompt = code.element.find(\".input_prompt\");\n",
       "        prompt.append('<br><button style=\"height: 100%; width: 54px;\">Run</button>');\n",
       "        prompt.on(\"click\", \"button\", function(){\n",
       "            code.execute();\n",
       "        });\n",
       "        code.set_text(decodeURIComponent(window.atob(\"JTIzJTIwVGVtcCUwQWluc2VydCUyOCUyNyUyNyUyNyUyNyUyNyUyNyUyOSUzQiUwQXNldF9hdHRyaWJ1dGUlMjglMjd0YW5yJUM0JUIxJUMzJUI2dmVyMjAxNWElMjclMkMlMjAlMjdsaW5rJTI3JTJDJTIwJTI3aHR0cHMlM0EvL3d3dy5zY29wdXMuY29tL2lud2FyZC9yZWNvcmQudXJpJTNGZWlkJTNEMi1zMi4wLTg0OTA4NjU5NDQ2JTI2ZG9pJTNEMTAuMTAxNiUyNTJmai5jc2kuMjAxNC4wNS4wMDMlMjZwYXJ0bmVySUQlM0Q0MCUyNm1kNSUzRDFmMjVlMGZmMGNhZmJkZmFkMzUzZmI3MjdlY2IzOWU0JTI3JTI5JTNCJTBBc2V0X2F0dHJpYnV0ZSUyOCUyN3RhbnIlQzQlQjElQzMlQjZ2ZXIyMDE1YSUyNyUyQyUyMCUyN3Njb3B1czIwMTYlMjclMkMlMjAlMjcxJTI3JTI5JTNC\")));\n",
       "    "
      ],
      "text/plain": [
       "<IPython.core.display.Javascript object>"
      ]
     },
     "metadata": {},
     "output_type": "display_data"
    },
    {
     "data": {
      "application/javascript": [
       "$('span:contains(\"# Temp\")').closest('.cell').remove();"
      ],
      "text/plain": [
       "<IPython.core.display.Javascript object>"
      ]
     },
     "metadata": {},
     "output_type": "display_data"
    },
    {
     "data": {
      "application/javascript": [
       "\n",
       "        $('span:contains(\"# Temp\")').closest('.cell').remove();\n",
       "        var code = IPython.notebook.insert_cell_below('code');\n",
       "        var prompt = code.element.find(\".input_prompt\");\n",
       "        prompt.append('<br><button style=\"height: 100%; width: 54px;\">Run</button>');\n",
       "        prompt.on(\"click\", \"button\", function(){\n",
       "            code.execute();\n",
       "        });\n",
       "        code.set_text(decodeURIComponent(window.atob(\"JTIzJTIwVGVtcCUwQWluc2VydCUyOCUyNyUyNyUyNyUwQXNoYWgyMDE1YSUyMCUzRCUyMERCJTI4V29ya1VucmVsYXRlZCUyOCUwQSUyMCUyMCUyMCUyMDIwMTUlMkMlMjAlMjJMZWFuJTIwcXVhbGl0eSUyMGltcHJvdmVtZW50JTIwbW9kZWwlMjBmb3IlMjBxdWFsaXR5JTIwcHJhY3RpY2VzJTIwaW4lMjBzb2Z0d2FyZSUyMGluZHVzdHJ5JTIwaW4lMjBQYWtpc3RhbiUyMiUyQyUwQSUyMCUyMCUyMCUyMGRpc3BsYXklM0QlMjJzaGFoJTIyJTJDJTBBJTIwJTIwJTIwJTIwYXV0aG9ycyUzRCUyMlNoYWglMkMlMjBGLlQuJTIwYW5kJTIwU2hhbWFpbCUyQyUyMFMuJTIwYW5kJTIwQWhtYWQlMjBBa2h0YXIlMkMlMjBOLiUyMiUyQyUwQSUyMCUyMCUyMCUyMHBsYWNlJTNESlNFUCUyQyUwQSUyMCUyMCUyMCUyMHBwJTNEJTIyMjM3LTI1NCUyMiUyQyUwQSUyMCUyMCUyMCUyMGVudHJ5dHlwZSUzRCUyMmFydGljbGUlMjIlMkMlMEElMjAlMjAlMjAlMjB2b2x1bWUlM0QlMjIyNyUyMiUyQyUwQSUyMCUyMCUyMCUyMG51bWJlciUzRCUyMjQlMjIlMkMlMEElMjAlMjAlMjAlMjBsaW5rJTNEJTIyaHR0cHMlM0EvL3d3dy5zY29wdXMuY29tL2lud2FyZC9yZWNvcmQudXJpJTNGZWlkJTNEMi1zMi4wLTg0OTczNDM5ODM2JTI2ZG9pJTNEMTAuMTAwMiUyNTJmc21yLjE3MDklMjZwYXJ0bmVySUQlM0Q0MCUyNm1kNSUzRDExYmMyOTBkMDI0YzQ4MDM5ZmI0NzcyMmFmMDkzNjc5JTIyJTJDJTBBJTIwJTIwJTIwJTIwSUQlM0QlMjJTaGFoMjAxNTIzNyUyMiUyQyUwQSUyMCUyMCUyMCUyMHNjb3B1czIwMTYlM0QlMjIxJTIyJTJDJTBBJTIwJTIwJTIwJTIwcGxhY2V4JTNEJTIySm91cm5hbCUyMG9mJTIwU29mdHdhcmUlM0ElMjBFdm9sdXRpb24lMjBhbmQlMjBQcm9jZXNzJTIyJTJDJTBBJTI5JTI5JTBBJTI3JTI3JTI3JTI5JTNC\")));\n",
       "    "
      ],
      "text/plain": [
       "<IPython.core.display.Javascript object>"
      ]
     },
     "metadata": {},
     "output_type": "display_data"
    },
    {
     "data": {
      "application/javascript": [
       "$('span:contains(\"# Temp\")').closest('.cell').remove();"
      ],
      "text/plain": [
       "<IPython.core.display.Javascript object>"
      ]
     },
     "metadata": {},
     "output_type": "display_data"
    },
    {
     "data": {
      "application/javascript": [
       "\n",
       "        $('span:contains(\"# Temp\")').closest('.cell').remove();\n",
       "        var code = IPython.notebook.insert_cell_below('code');\n",
       "        var prompt = code.element.find(\".input_prompt\");\n",
       "        prompt.append('<br><button style=\"height: 100%; width: 54px;\">Run</button>');\n",
       "        prompt.on(\"click\", \"button\", function(){\n",
       "            code.execute();\n",
       "        });\n",
       "        code.set_text(decodeURIComponent(window.atob(\"JTIzJTIwVGVtcCUwQWluc2VydCUyOCUyNyUyNyUyNyUwQXNoYWgyMDE1YSUyMCUzRCUyMERCJTI4V29ya1VucmVsYXRlZCUyOCUwQSUyMCUyMCUyMCUyMDIwMTUlMkMlMjAlMjJMZWFuJTIwcXVhbGl0eSUyMGltcHJvdmVtZW50JTIwbW9kZWwlMjBmb3IlMjBxdWFsaXR5JTIwcHJhY3RpY2VzJTIwaW4lMjBzb2Z0d2FyZSUyMGluZHVzdHJ5JTIwaW4lMjBQYWtpc3RhbiUyMiUyQyUwQSUyMCUyMCUyMCUyMGRpc3BsYXklM0QlMjJzaGFoJTIyJTJDJTBBJTIwJTIwJTIwJTIwYXV0aG9ycyUzRCUyMlNoYWglMkMlMjBGLlQuJTIwYW5kJTIwU2hhbWFpbCUyQyUyMFMuJTIwYW5kJTIwQWhtYWQlMjBBa2h0YXIlMkMlMjBOLiUyMiUyQyUwQSUyMCUyMCUyMCUyMHBsYWNlJTNESlNFUCUyQyUwQSUyMCUyMCUyMCUyMHBwJTNEJTIyMjM3LTI1NCUyMiUyQyUwQSUyMCUyMCUyMCUyMGVudHJ5dHlwZSUzRCUyMmFydGljbGUlMjIlMkMlMEElMjAlMjAlMjAlMjB2b2x1bWUlM0QlMjIyNyUyMiUyQyUwQSUyMCUyMCUyMCUyMG51bWJlciUzRCUyMjQlMjIlMkMlMEElMjAlMjAlMjAlMjBsaW5rJTNEJTIyaHR0cHMlM0EvL3d3dy5zY29wdXMuY29tL2lud2FyZC9yZWNvcmQudXJpJTNGZWlkJTNEMi1zMi4wLTg0OTczNDM5ODM2JTI2ZG9pJTNEMTAuMTAwMiUyNTJmc21yLjE3MDklMjZwYXJ0bmVySUQlM0Q0MCUyNm1kNSUzRDExYmMyOTBkMDI0YzQ4MDM5ZmI0NzcyMmFmMDkzNjc5JTIyJTJDJTBBJTIwJTIwJTIwJTIwSUQlM0QlMjJTaGFoMjAxNTIzNyUyMiUyQyUwQSUyMCUyMCUyMCUyMHNjb3B1czIwMTYlM0QlMjIxJTIyJTJDJTBBJTIwJTIwJTIwJTIwcGxhY2V4JTNEJTIySm91cm5hbCUyMG9mJTIwU29mdHdhcmUlM0ElMjBFdm9sdXRpb24lMjBhbmQlMjBQcm9jZXNzJTIyJTJDJTBBJTI5JTI5JTBBJTI3JTI3JTI3JTI5JTNC\")));\n",
       "    "
      ],
      "text/plain": [
       "<IPython.core.display.Javascript object>"
      ]
     },
     "metadata": {},
     "output_type": "display_data"
    },
    {
     "data": {
      "application/javascript": [
       "$('span:contains(\"# Temp\")').closest('.cell').remove();"
      ],
      "text/plain": [
       "<IPython.core.display.Javascript object>"
      ]
     },
     "metadata": {},
     "output_type": "display_data"
    },
    {
     "data": {
      "application/javascript": [
       "\n",
       "        $('span:contains(\"# Temp\")').closest('.cell').remove();\n",
       "        var code = IPython.notebook.insert_cell_below('code');\n",
       "        var prompt = code.element.find(\".input_prompt\");\n",
       "        prompt.append('<br><button style=\"height: 100%; width: 54px;\">Run</button>');\n",
       "        prompt.on(\"click\", \"button\", function(){\n",
       "            code.execute();\n",
       "        });\n",
       "        code.set_text(decodeURIComponent(window.atob(\"JTIzJTIwVGVtcCUwQWluc2VydCUyOCUyNyUyNyUyNyUyNyUyNyUyNyUyOSUzQiUwQXNldF9hdHRyaWJ1dGUlMjglMjdtZXNxdWlkYTIwMTVhJTI3JTJDJTIwJTI3bGluayUyNyUyQyUyMCUyN2h0dHBzJTNBLy93d3cuc2NvcHVzLmNvbS9pbndhcmQvcmVjb3JkLnVyaSUzRmVpZCUzRDItczIuMC04NDkwODI2ODQ0OSUyNmRvaSUzRDEwLjEwMTYlMjUyZmouY29zZS4yMDE0LjA5LjAwMyUyNnBhcnRuZXJJRCUzRDQwJTI2bWQ1JTNEN2VkNWM1NWI0ZGUwZDZmZDY1ODUzOTAyOGJhMDhmNWMlMjclMjklM0IlMEFzZXRfYXR0cmlidXRlJTI4JTI3bWVzcXVpZGEyMDE1YSUyNyUyQyUyMCUyN3Njb3B1czIwMTYlMjclMkMlMjAlMjcxJTI3JTI5JTNC\")));\n",
       "    "
      ],
      "text/plain": [
       "<IPython.core.display.Javascript object>"
      ]
     },
     "metadata": {},
     "output_type": "display_data"
    },
    {
     "data": {
      "application/javascript": [
       "$('span:contains(\"# Temp\")').closest('.cell').remove();"
      ],
      "text/plain": [
       "<IPython.core.display.Javascript object>"
      ]
     },
     "metadata": {},
     "output_type": "display_data"
    },
    {
     "data": {
      "application/javascript": [
       "\n",
       "        $('span:contains(\"# Temp\")').closest('.cell').remove();\n",
       "        var code = IPython.notebook.insert_cell_below('code');\n",
       "        var prompt = code.element.find(\".input_prompt\");\n",
       "        prompt.append('<br><button style=\"height: 100%; width: 54px;\">Run</button>');\n",
       "        prompt.on(\"click\", \"button\", function(){\n",
       "            code.execute();\n",
       "        });\n",
       "        code.set_text(decodeURIComponent(window.atob(\"JTIzJTIwVGVtcCUwQWluc2VydCUyOCUyNyUyNyUyNyUyNyUyNyUyNyUyOSUzQiUwQXNldF9hdHRyaWJ1dGUlMjglMjdtZXNxdWlkYTIwMTVhJTI3JTJDJTIwJTI3bGluayUyNyUyQyUyMCUyN2h0dHBzJTNBLy93d3cuc2NvcHVzLmNvbS9pbndhcmQvcmVjb3JkLnVyaSUzRmVpZCUzRDItczIuMC04NDkwODI2ODQ0OSUyNmRvaSUzRDEwLjEwMTYlMjUyZmouY29zZS4yMDE0LjA5LjAwMyUyNnBhcnRuZXJJRCUzRDQwJTI2bWQ1JTNEN2VkNWM1NWI0ZGUwZDZmZDY1ODUzOTAyOGJhMDhmNWMlMjclMjklM0IlMEFzZXRfYXR0cmlidXRlJTI4JTI3bWVzcXVpZGEyMDE1YSUyNyUyQyUyMCUyN3Njb3B1czIwMTYlMjclMkMlMjAlMjcxJTI3JTI5JTNC\")));\n",
       "    "
      ],
      "text/plain": [
       "<IPython.core.display.Javascript object>"
      ]
     },
     "metadata": {},
     "output_type": "display_data"
    },
    {
     "data": {
      "application/javascript": [
       "$('span:contains(\"# Temp\")').closest('.cell').remove();"
      ],
      "text/plain": [
       "<IPython.core.display.Javascript object>"
      ]
     },
     "metadata": {},
     "output_type": "display_data"
    },
    {
     "data": {
      "application/javascript": [
       "\n",
       "        $('span:contains(\"# Temp\")').closest('.cell').remove();\n",
       "        var code = IPython.notebook.insert_cell_below('code');\n",
       "        var prompt = code.element.find(\".input_prompt\");\n",
       "        prompt.append('<br><button style=\"height: 100%; width: 54px;\">Run</button>');\n",
       "        prompt.on(\"click\", \"button\", function(){\n",
       "            code.execute();\n",
       "        });\n",
       "        code.set_text(decodeURIComponent(window.atob(\"JTIzJTIwVGVtcCUwQWluc2VydCUyOCUyNyUyNyUyNyUyNyUyNyUyNyUyOSUzQiUwQXNldF9hdHRyaWJ1dGUlMjglMjdjYXJwaW8yMDE1YSUyNyUyQyUyMCUyN3ZvbHVtZSUyNyUyQyUyMCUyNzUyNiUyNyUyOSUzQiUwQXNldF9hdHRyaWJ1dGUlMjglMjdjYXJwaW8yMDE1YSUyNyUyQyUyMCUyN2xpbmslMjclMkMlMjAlMjdodHRwcyUzQS8vd3d3LnNjb3B1cy5jb20vaW53YXJkL3JlY29yZC51cmklM0ZlaWQlM0QyLXMyLjAtODQ5Mzc0MzM2NTYlMjZkb2klM0QxMC4xMDA3JTI1MmY5NzgtMy0zMTktMTk4NjAtNl8xNiUyNnBhcnRuZXJJRCUzRDQwJTI2bWQ1JTNEMTNiYjJhYjQxMzM3NmUzZjMzYjZjZTE4ZTgyMmI1YjAlMjclMjklM0IlMEFzZXRfYXR0cmlidXRlJTI4JTI3Y2FycGlvMjAxNWElMjclMkMlMjAlMjdzY29wdXMyMDE2JTI3JTJDJTIwJTI3MSUyNyUyOSUzQg==\")));\n",
       "    "
      ],
      "text/plain": [
       "<IPython.core.display.Javascript object>"
      ]
     },
     "metadata": {},
     "output_type": "display_data"
    },
    {
     "data": {
      "application/javascript": [
       "$('span:contains(\"# Temp\")').closest('.cell').remove();"
      ],
      "text/plain": [
       "<IPython.core.display.Javascript object>"
      ]
     },
     "metadata": {},
     "output_type": "display_data"
    },
    {
     "data": {
      "application/javascript": [
       "\n",
       "        $('span:contains(\"# Temp\")').closest('.cell').remove();\n",
       "        var code = IPython.notebook.insert_cell_below('code');\n",
       "        var prompt = code.element.find(\".input_prompt\");\n",
       "        prompt.append('<br><button style=\"height: 100%; width: 54px;\">Run</button>');\n",
       "        prompt.on(\"click\", \"button\", function(){\n",
       "            code.execute();\n",
       "        });\n",
       "        code.set_text(decodeURIComponent(window.atob(\"JTIzJTIwVGVtcCUwQWluc2VydCUyOCUyNyUyNyUyNyUyNyUyNyUyNyUyOSUzQiUwQXNldF9hdHRyaWJ1dGUlMjglMjdjYXJwaW8yMDE1YSUyNyUyQyUyMCUyN3ZvbHVtZSUyNyUyQyUyMCUyNzUyNiUyNyUyOSUzQiUwQXNldF9hdHRyaWJ1dGUlMjglMjdjYXJwaW8yMDE1YSUyNyUyQyUyMCUyN2xpbmslMjclMkMlMjAlMjdodHRwcyUzQS8vd3d3LnNjb3B1cy5jb20vaW53YXJkL3JlY29yZC51cmklM0ZlaWQlM0QyLXMyLjAtODQ5Mzc0MzM2NTYlMjZkb2klM0QxMC4xMDA3JTI1MmY5NzgtMy0zMTktMTk4NjAtNl8xNiUyNnBhcnRuZXJJRCUzRDQwJTI2bWQ1JTNEMTNiYjJhYjQxMzM3NmUzZjMzYjZjZTE4ZTgyMmI1YjAlMjclMjklM0IlMEFzZXRfYXR0cmlidXRlJTI4JTI3Y2FycGlvMjAxNWElMjclMkMlMjAlMjdzY29wdXMyMDE2JTI3JTJDJTIwJTI3MSUyNyUyOSUzQg==\")));\n",
       "    "
      ],
      "text/plain": [
       "<IPython.core.display.Javascript object>"
      ]
     },
     "metadata": {},
     "output_type": "display_data"
    },
    {
     "data": {
      "application/javascript": [
       "$('span:contains(\"# Temp\")').closest('.cell').remove();"
      ],
      "text/plain": [
       "<IPython.core.display.Javascript object>"
      ]
     },
     "metadata": {},
     "output_type": "display_data"
    },
    {
     "data": {
      "application/javascript": [
       "\n",
       "        $('span:contains(\"# Temp\")').closest('.cell').remove();\n",
       "        var code = IPython.notebook.insert_cell_below('code');\n",
       "        var prompt = code.element.find(\".input_prompt\");\n",
       "        prompt.append('<br><button style=\"height: 100%; width: 54px;\">Run</button>');\n",
       "        prompt.on(\"click\", \"button\", function(){\n",
       "            code.execute();\n",
       "        });\n",
       "        code.set_text(decodeURIComponent(window.atob(\"JTIzJTIwVGVtcCUwQWluc2VydCUyOCUyNyUyNyUyNyUyNyUyNyUyNyUyOSUzQiUwQXNldF9hdHRyaWJ1dGUlMjglMjdtb3JhbGVzMjAxNWElMjclMkMlMjAlMjdsaW5rJTI3JTJDJTIwJTI3aHR0cHMlM0EvL3d3dy5zY29wdXMuY29tL2lud2FyZC9yZWNvcmQudXJpJTNGZWlkJTNEMi1zMi4wLTg0OTM3NTQwNDczJTI2ZG9pJTNEMTAuMTAxNiUyNTJmai5jc2kuMjAxNS4wNS4wMDElMjZwYXJ0bmVySUQlM0Q0MCUyNm1kNSUzRGJiMjVjNTJmYWEyZmQxYTAyNjczN2U0M2IxNTVhZjI2JTI3JTI5JTNCJTBBc2V0X2F0dHJpYnV0ZSUyOCUyN21vcmFsZXMyMDE1YSUyNyUyQyUyMCUyN3Njb3B1czIwMTYlMjclMkMlMjAlMjcxJTI3JTI5JTNC\")));\n",
       "    "
      ],
      "text/plain": [
       "<IPython.core.display.Javascript object>"
      ]
     },
     "metadata": {},
     "output_type": "display_data"
    },
    {
     "data": {
      "application/javascript": [
       "$('span:contains(\"# Temp\")').closest('.cell').remove();"
      ],
      "text/plain": [
       "<IPython.core.display.Javascript object>"
      ]
     },
     "metadata": {},
     "output_type": "display_data"
    },
    {
     "data": {
      "application/javascript": [
       "\n",
       "        $('span:contains(\"# Temp\")').closest('.cell').remove();\n",
       "        var code = IPython.notebook.insert_cell_below('code');\n",
       "        var prompt = code.element.find(\".input_prompt\");\n",
       "        prompt.append('<br><button style=\"height: 100%; width: 54px;\">Run</button>');\n",
       "        prompt.on(\"click\", \"button\", function(){\n",
       "            code.execute();\n",
       "        });\n",
       "        code.set_text(decodeURIComponent(window.atob(\"JTIzJTIwVGVtcCUwQWluc2VydCUyOCUyNyUyNyUyNyUyNyUyNyUyNyUyOSUzQiUwQXNldF9hdHRyaWJ1dGUlMjglMjdtb3JhbGVzMjAxNWElMjclMkMlMjAlMjdsaW5rJTI3JTJDJTIwJTI3aHR0cHMlM0EvL3d3dy5zY29wdXMuY29tL2lud2FyZC9yZWNvcmQudXJpJTNGZWlkJTNEMi1zMi4wLTg0OTM3NTQwNDczJTI2ZG9pJTNEMTAuMTAxNiUyNTJmai5jc2kuMjAxNS4wNS4wMDElMjZwYXJ0bmVySUQlM0Q0MCUyNm1kNSUzRGJiMjVjNTJmYWEyZmQxYTAyNjczN2U0M2IxNTVhZjI2JTI3JTI5JTNCJTBBc2V0X2F0dHJpYnV0ZSUyOCUyN21vcmFsZXMyMDE1YSUyNyUyQyUyMCUyN3Njb3B1czIwMTYlMjclMkMlMjAlMjcxJTI3JTI5JTNC\")));\n",
       "    "
      ],
      "text/plain": [
       "<IPython.core.display.Javascript object>"
      ]
     },
     "metadata": {},
     "output_type": "display_data"
    },
    {
     "data": {
      "application/javascript": [
       "$('span:contains(\"# Temp\")').closest('.cell').remove();"
      ],
      "text/plain": [
       "<IPython.core.display.Javascript object>"
      ]
     },
     "metadata": {},
     "output_type": "display_data"
    },
    {
     "data": {
      "application/javascript": [
       "\n",
       "        $('span:contains(\"# Temp\")').closest('.cell').remove();\n",
       "        var code = IPython.notebook.insert_cell_below('code');\n",
       "        var prompt = code.element.find(\".input_prompt\");\n",
       "        prompt.append('<br><button style=\"height: 100%; width: 54px;\">Run</button>');\n",
       "        prompt.on(\"click\", \"button\", function(){\n",
       "            code.execute();\n",
       "        });\n",
       "        code.set_text(decodeURIComponent(window.atob(\"JTIzJTIwVGVtcCUwQWluc2VydCUyOCUyNyUyNyUyNyUyNyUyNyUyNyUyOSUzQiUwQXNldF9hdHRyaWJ1dGUlMjglMjdidWdsaW9uZTIwMTVhJTI3JTJDJTIwJTI3dm9sdW1lJTI3JTJDJTIwJTI3MjMwJTI3JTI5JTNCJTBBc2V0X2F0dHJpYnV0ZSUyOCUyN2J1Z2xpb25lMjAxNWElMjclMkMlMjAlMjdsaW5rJTI3JTJDJTIwJTI3aHR0cHMlM0EvL3d3dy5zY29wdXMuY29tL2lud2FyZC9yZWNvcmQudXJpJTNGZWlkJTNEMi1zMi4wLTg0OTUxMjgxNzEyJTI2ZG9pJTNEMTAuMTAwNyUyNTJmOTc4LTMtMzE5LTI0Mjg1LTlfMyUyNnBhcnRuZXJJRCUzRDQwJTI2bWQ1JTNENTc3ZGI2MGIzNjRhYTZhNWQzOGEwMTQ3MGUwNTFiYmQlMjclMjklM0IlMEFzZXRfYXR0cmlidXRlJTI4JTI3YnVnbGlvbmUyMDE1YSUyNyUyQyUyMCUyN3Njb3B1czIwMTYlMjclMkMlMjAlMjcxJTI3JTI5JTNC\")));\n",
       "    "
      ],
      "text/plain": [
       "<IPython.core.display.Javascript object>"
      ]
     },
     "metadata": {},
     "output_type": "display_data"
    },
    {
     "data": {
      "application/javascript": [
       "$('span:contains(\"# Temp\")').closest('.cell').remove();"
      ],
      "text/plain": [
       "<IPython.core.display.Javascript object>"
      ]
     },
     "metadata": {},
     "output_type": "display_data"
    },
    {
     "data": {
      "application/javascript": [
       "\n",
       "        $('span:contains(\"# Temp\")').closest('.cell').remove();\n",
       "        var code = IPython.notebook.insert_cell_below('code');\n",
       "        var prompt = code.element.find(\".input_prompt\");\n",
       "        prompt.append('<br><button style=\"height: 100%; width: 54px;\">Run</button>');\n",
       "        prompt.on(\"click\", \"button\", function(){\n",
       "            code.execute();\n",
       "        });\n",
       "        code.set_text(decodeURIComponent(window.atob(\"JTIzJTIwVGVtcCUwQWluc2VydCUyOCUyNyUyNyUyNyUyNyUyNyUyNyUyOSUzQiUwQXNldF9hdHRyaWJ1dGUlMjglMjdidWdsaW9uZTIwMTVhJTI3JTJDJTIwJTI3dm9sdW1lJTI3JTJDJTIwJTI3MjMwJTI3JTI5JTNCJTBBc2V0X2F0dHJpYnV0ZSUyOCUyN2J1Z2xpb25lMjAxNWElMjclMkMlMjAlMjdsaW5rJTI3JTJDJTIwJTI3aHR0cHMlM0EvL3d3dy5zY29wdXMuY29tL2lud2FyZC9yZWNvcmQudXJpJTNGZWlkJTNEMi1zMi4wLTg0OTUxMjgxNzEyJTI2ZG9pJTNEMTAuMTAwNyUyNTJmOTc4LTMtMzE5LTI0Mjg1LTlfMyUyNnBhcnRuZXJJRCUzRDQwJTI2bWQ1JTNENTc3ZGI2MGIzNjRhYTZhNWQzOGEwMTQ3MGUwNTFiYmQlMjclMjklM0IlMEFzZXRfYXR0cmlidXRlJTI4JTI3YnVnbGlvbmUyMDE1YSUyNyUyQyUyMCUyN3Njb3B1czIwMTYlMjclMkMlMjAlMjcxJTI3JTI5JTNC\")));\n",
       "    "
      ],
      "text/plain": [
       "<IPython.core.display.Javascript object>"
      ]
     },
     "metadata": {},
     "output_type": "display_data"
    },
    {
     "data": {
      "application/javascript": [
       "$('span:contains(\"# Temp\")').closest('.cell').remove();"
      ],
      "text/plain": [
       "<IPython.core.display.Javascript object>"
      ]
     },
     "metadata": {},
     "output_type": "display_data"
    },
    {
     "data": {
      "application/javascript": [
       "\n",
       "        $('span:contains(\"# Temp\")').closest('.cell').remove();\n",
       "        var code = IPython.notebook.insert_cell_below('code');\n",
       "        var prompt = code.element.find(\".input_prompt\");\n",
       "        prompt.append('<br><button style=\"height: 100%; width: 54px;\">Run</button>');\n",
       "        prompt.on(\"click\", \"button\", function(){\n",
       "            code.execute();\n",
       "        });\n",
       "        code.set_text(decodeURIComponent(window.atob(\"JTIzJTIwVGVtcCUwQWluc2VydCUyOCUyNyUyNyUyNyUyNyUyNyUyNyUyOSUzQiUwQXNldF9hdHRyaWJ1dGUlMjglMjdzYW11ZWwyMDE1YSUyNyUyQyUyMCUyN2FydF9udW1iZXIlMjclMkMlMjAlMjc2ODk4ODY4JTI3JTI5JTNCJTBBc2V0X2F0dHJpYnV0ZSUyOCUyN3NhbXVlbDIwMTVhJTI3JTJDJTIwJTI3bGluayUyNyUyQyUyMCUyN2h0dHBzJTNBLy93d3cuc2NvcHVzLmNvbS9pbndhcmQvcmVjb3JkLnVyaSUzRmVpZCUzRDItczIuMC04NDkyMTM0MjQ0NCUyNmRvaSUzRDEwLjExMDklMjUyZlRTRS4yMDE0LjIzNTQwNDMlMjZwYXJ0bmVySUQlM0Q0MCUyNm1kNSUzRDIxNzE5NWU1ZjIxZDU3MTJmNTcyZWM2NGM3MDU0MzIxJTI3JTI5JTNCJTBBc2V0X2F0dHJpYnV0ZSUyOCUyN3NhbXVlbDIwMTVhJTI3JTJDJTIwJTI3c2NvcHVzMjAxNiUyNyUyQyUyMCUyNzElMjclMjklM0I=\")));\n",
       "    "
      ],
      "text/plain": [
       "<IPython.core.display.Javascript object>"
      ]
     },
     "metadata": {},
     "output_type": "display_data"
    },
    {
     "data": {
      "application/javascript": [
       "$('span:contains(\"# Temp\")').closest('.cell').remove();"
      ],
      "text/plain": [
       "<IPython.core.display.Javascript object>"
      ]
     },
     "metadata": {},
     "output_type": "display_data"
    },
    {
     "data": {
      "application/javascript": [
       "\n",
       "        $('span:contains(\"# Temp\")').closest('.cell').remove();\n",
       "        var code = IPython.notebook.insert_cell_below('code');\n",
       "        var prompt = code.element.find(\".input_prompt\");\n",
       "        prompt.append('<br><button style=\"height: 100%; width: 54px;\">Run</button>');\n",
       "        prompt.on(\"click\", \"button\", function(){\n",
       "            code.execute();\n",
       "        });\n",
       "        code.set_text(decodeURIComponent(window.atob(\"JTIzJTIwVGVtcCUwQWluc2VydCUyOCUyNyUyNyUyNyUyNyUyNyUyNyUyOSUzQiUwQXNldF9hdHRyaWJ1dGUlMjglMjdzYW11ZWwyMDE1YSUyNyUyQyUyMCUyN2FydF9udW1iZXIlMjclMkMlMjAlMjc2ODk4ODY4JTI3JTI5JTNCJTBBc2V0X2F0dHJpYnV0ZSUyOCUyN3NhbXVlbDIwMTVhJTI3JTJDJTIwJTI3bGluayUyNyUyQyUyMCUyN2h0dHBzJTNBLy93d3cuc2NvcHVzLmNvbS9pbndhcmQvcmVjb3JkLnVyaSUzRmVpZCUzRDItczIuMC04NDkyMTM0MjQ0NCUyNmRvaSUzRDEwLjExMDklMjUyZlRTRS4yMDE0LjIzNTQwNDMlMjZwYXJ0bmVySUQlM0Q0MCUyNm1kNSUzRDIxNzE5NWU1ZjIxZDU3MTJmNTcyZWM2NGM3MDU0MzIxJTI3JTI5JTNCJTBBc2V0X2F0dHJpYnV0ZSUyOCUyN3NhbXVlbDIwMTVhJTI3JTJDJTIwJTI3c2NvcHVzMjAxNiUyNyUyQyUyMCUyNzElMjclMjklM0I=\")));\n",
       "    "
      ],
      "text/plain": [
       "<IPython.core.display.Javascript object>"
      ]
     },
     "metadata": {},
     "output_type": "display_data"
    },
    {
     "data": {
      "application/javascript": [
       "$('span:contains(\"# Temp\")').closest('.cell').remove();"
      ],
      "text/plain": [
       "<IPython.core.display.Javascript object>"
      ]
     },
     "metadata": {},
     "output_type": "display_data"
    },
    {
     "data": {
      "application/javascript": [
       "\n",
       "        $('span:contains(\"# Temp\")').closest('.cell').remove();\n",
       "        var code = IPython.notebook.insert_cell_below('code');\n",
       "        var prompt = code.element.find(\".input_prompt\");\n",
       "        prompt.append('<br><button style=\"height: 100%; width: 54px;\">Run</button>');\n",
       "        prompt.on(\"click\", \"button\", function(){\n",
       "            code.execute();\n",
       "        });\n",
       "        code.set_text(decodeURIComponent(window.atob(\"JTIzJTIwVGVtcCUwQWluc2VydCUyOCUyNyUyNyUyNyUyNyUyNyUyNyUyOSUzQiUwQXNldF9hdHRyaWJ1dGUlMjglMjdsZW1hMjAxNWElMjclMkMlMjAlMjdsaW5rJTI3JTJDJTIwJTI3aHR0cHMlM0EvL3d3dy5zY29wdXMuY29tL2lud2FyZC9yZWNvcmQudXJpJTNGZWlkJTNEMi1zMi4wLTg0OTM5NDk0OTM2JTI2ZG9pJTNEMTAuMTAwMiUyNTJmc21yLjE3MjclMjZwYXJ0bmVySUQlM0Q0MCUyNm1kNSUzRDVkMGQ2OTIxYTNlYTA3Y2E0MTlkYzEyNmU0OTY2MDkyJTI3JTI5JTNCJTBBc2V0X2F0dHJpYnV0ZSUyOCUyN2xlbWEyMDE1YSUyNyUyQyUyMCUyN3Njb3B1czIwMTYlMjclMkMlMjAlMjcxJTI3JTI5JTNC\")));\n",
       "    "
      ],
      "text/plain": [
       "<IPython.core.display.Javascript object>"
      ]
     },
     "metadata": {},
     "output_type": "display_data"
    },
    {
     "data": {
      "application/javascript": [
       "$('span:contains(\"# Temp\")').closest('.cell').remove();"
      ],
      "text/plain": [
       "<IPython.core.display.Javascript object>"
      ]
     },
     "metadata": {},
     "output_type": "display_data"
    },
    {
     "data": {
      "application/javascript": [
       "\n",
       "        $('span:contains(\"# Temp\")').closest('.cell').remove();\n",
       "        var code = IPython.notebook.insert_cell_below('code');\n",
       "        var prompt = code.element.find(\".input_prompt\");\n",
       "        prompt.append('<br><button style=\"height: 100%; width: 54px;\">Run</button>');\n",
       "        prompt.on(\"click\", \"button\", function(){\n",
       "            code.execute();\n",
       "        });\n",
       "        code.set_text(decodeURIComponent(window.atob(\"JTIzJTIwVGVtcCUwQWluc2VydCUyOCUyNyUyNyUyNyUyNyUyNyUyNyUyOSUzQiUwQXNldF9hdHRyaWJ1dGUlMjglMjdsZW1hMjAxNWElMjclMkMlMjAlMjdsaW5rJTI3JTJDJTIwJTI3aHR0cHMlM0EvL3d3dy5zY29wdXMuY29tL2lud2FyZC9yZWNvcmQudXJpJTNGZWlkJTNEMi1zMi4wLTg0OTM5NDk0OTM2JTI2ZG9pJTNEMTAuMTAwMiUyNTJmc21yLjE3MjclMjZwYXJ0bmVySUQlM0Q0MCUyNm1kNSUzRDVkMGQ2OTIxYTNlYTA3Y2E0MTlkYzEyNmU0OTY2MDkyJTI3JTI5JTNCJTBBc2V0X2F0dHJpYnV0ZSUyOCUyN2xlbWEyMDE1YSUyNyUyQyUyMCUyN3Njb3B1czIwMTYlMjclMkMlMjAlMjcxJTI3JTI5JTNC\")));\n",
       "    "
      ],
      "text/plain": [
       "<IPython.core.display.Javascript object>"
      ]
     },
     "metadata": {},
     "output_type": "display_data"
    },
    {
     "data": {
      "application/javascript": [
       "$('span:contains(\"# Temp\")').closest('.cell').remove();"
      ],
      "text/plain": [
       "<IPython.core.display.Javascript object>"
      ]
     },
     "metadata": {},
     "output_type": "display_data"
    },
    {
     "data": {
      "application/javascript": [
       "\n",
       "        $('span:contains(\"# Temp\")').closest('.cell').remove();\n",
       "        var code = IPython.notebook.insert_cell_below('code');\n",
       "        var prompt = code.element.find(\".input_prompt\");\n",
       "        prompt.append('<br><button style=\"height: 100%; width: 54px;\">Run</button>');\n",
       "        prompt.on(\"click\", \"button\", function(){\n",
       "            code.execute();\n",
       "        });\n",
       "        code.set_text(decodeURIComponent(window.atob(\"JTIzJTIwVGVtcCUwQWluc2VydCUyOCUyNyUyNyUyNyUyNyUyNyUyNyUyOSUzQiUwQXNldF9hdHRyaWJ1dGUlMjglMjdoZW5kZXJzb24yMDE0YSUyNyUyQyUyMCUyN2xpbmslMjclMkMlMjAlMjdodHRwcyUzQS8vd3d3LnNjb3B1cy5jb20vaW53YXJkL3JlY29yZC51cmklM0ZlaWQlM0QyLXMyLjAtODQ4OTI0MzQ3MzQlMjZkb2klM0QxMC4xMDE2JTI1MmZqLmNzaS4yMDEzLjExLjAwMSUyNnBhcnRuZXJJRCUzRDQwJTI2bWQ1JTNEZThjNzhiMzMxNjA3YjAzN2E3ZjQzMWEyYjNlNjllYjIlMjclMjklM0IlMEFzZXRfYXR0cmlidXRlJTI4JTI3aGVuZGVyc29uMjAxNGElMjclMkMlMjAlMjdzY29wdXMyMDE2JTI3JTJDJTIwJTI3MSUyNyUyOSUzQg==\")));\n",
       "    "
      ],
      "text/plain": [
       "<IPython.core.display.Javascript object>"
      ]
     },
     "metadata": {},
     "output_type": "display_data"
    },
    {
     "data": {
      "application/javascript": [
       "$('span:contains(\"# Temp\")').closest('.cell').remove();"
      ],
      "text/plain": [
       "<IPython.core.display.Javascript object>"
      ]
     },
     "metadata": {},
     "output_type": "display_data"
    },
    {
     "data": {
      "application/javascript": [
       "\n",
       "        $('span:contains(\"# Temp\")').closest('.cell').remove();\n",
       "        var code = IPython.notebook.insert_cell_below('code');\n",
       "        var prompt = code.element.find(\".input_prompt\");\n",
       "        prompt.append('<br><button style=\"height: 100%; width: 54px;\">Run</button>');\n",
       "        prompt.on(\"click\", \"button\", function(){\n",
       "            code.execute();\n",
       "        });\n",
       "        code.set_text(decodeURIComponent(window.atob(\"JTIzJTIwVGVtcCUwQWluc2VydCUyOCUyNyUyNyUyNyUyNyUyNyUyNyUyOSUzQiUwQXNldF9hdHRyaWJ1dGUlMjglMjdoZW5kZXJzb24yMDE0YSUyNyUyQyUyMCUyN2xpbmslMjclMkMlMjAlMjdodHRwcyUzQS8vd3d3LnNjb3B1cy5jb20vaW53YXJkL3JlY29yZC51cmklM0ZlaWQlM0QyLXMyLjAtODQ4OTI0MzQ3MzQlMjZkb2klM0QxMC4xMDE2JTI1MmZqLmNzaS4yMDEzLjExLjAwMSUyNnBhcnRuZXJJRCUzRDQwJTI2bWQ1JTNEZThjNzhiMzMxNjA3YjAzN2E3ZjQzMWEyYjNlNjllYjIlMjclMjklM0IlMEFzZXRfYXR0cmlidXRlJTI4JTI3aGVuZGVyc29uMjAxNGElMjclMkMlMjAlMjdzY29wdXMyMDE2JTI3JTJDJTIwJTI3MSUyNyUyOSUzQg==\")));\n",
       "    "
      ],
      "text/plain": [
       "<IPython.core.display.Javascript object>"
      ]
     },
     "metadata": {},
     "output_type": "display_data"
    },
    {
     "data": {
      "application/javascript": [
       "$('span:contains(\"# Temp\")').closest('.cell').remove();"
      ],
      "text/plain": [
       "<IPython.core.display.Javascript object>"
      ]
     },
     "metadata": {},
     "output_type": "display_data"
    },
    {
     "data": {
      "application/javascript": [
       "\n",
       "        $('span:contains(\"# Temp\")').closest('.cell').remove();\n",
       "        var code = IPython.notebook.insert_cell_below('code');\n",
       "        var prompt = code.element.find(\".input_prompt\");\n",
       "        prompt.append('<br><button style=\"height: 100%; width: 54px;\">Run</button>');\n",
       "        prompt.on(\"click\", \"button\", function(){\n",
       "            code.execute();\n",
       "        });\n",
       "        code.set_text(decodeURIComponent(window.atob(\"JTIzJTIwVGVtcCUwQWluc2VydCUyOCUyNyUyNyUyNyUyNyUyNyUyNyUyOSUzQiUwQXNldF9hdHRyaWJ1dGUlMjglMjdtdSVDMyVCMW96MjAxNGIlMjclMkMlMjAlMjdsaW5rJTI3JTJDJTIwJTI3aHR0cHMlM0EvL3d3dy5zY29wdXMuY29tL2lud2FyZC9yZWNvcmQudXJpJTNGZWlkJTNEMi1zMi4wLTg0OTQ1OTkwNDk0JTI2ZG9pJTNEMTAuNDAxOCUyNTJmOTc4LTEtNDY2Ni01MTgyLTEuY2gwMTAlMjZwYXJ0bmVySUQlM0Q0MCUyNm1kNSUzRDEyNDkzNDU0ODg2OTZlODVkM2VhNmU5YjZkOTU3MTdmJTI3JTI5JTNCJTBBc2V0X2F0dHJpYnV0ZSUyOCUyN211JUMzJUIxb3oyMDE0YiUyNyUyQyUyMCUyN3Njb3B1czIwMTYlMjclMkMlMjAlMjcxJTI3JTI5JTNC\")));\n",
       "    "
      ],
      "text/plain": [
       "<IPython.core.display.Javascript object>"
      ]
     },
     "metadata": {},
     "output_type": "display_data"
    },
    {
     "data": {
      "application/javascript": [
       "$('span:contains(\"# Temp\")').closest('.cell').remove();"
      ],
      "text/plain": [
       "<IPython.core.display.Javascript object>"
      ]
     },
     "metadata": {},
     "output_type": "display_data"
    },
    {
     "data": {
      "application/javascript": [
       "\n",
       "        $('span:contains(\"# Temp\")').closest('.cell').remove();\n",
       "        var code = IPython.notebook.insert_cell_below('code');\n",
       "        var prompt = code.element.find(\".input_prompt\");\n",
       "        prompt.append('<br><button style=\"height: 100%; width: 54px;\">Run</button>');\n",
       "        prompt.on(\"click\", \"button\", function(){\n",
       "            code.execute();\n",
       "        });\n",
       "        code.set_text(decodeURIComponent(window.atob(\"JTIzJTIwVGVtcCUwQWluc2VydCUyOCUyNyUyNyUyNyUyNyUyNyUyNyUyOSUzQiUwQXNldF9hdHRyaWJ1dGUlMjglMjdtdSVDMyVCMW96MjAxNGIlMjclMkMlMjAlMjdsaW5rJTI3JTJDJTIwJTI3aHR0cHMlM0EvL3d3dy5zY29wdXMuY29tL2lud2FyZC9yZWNvcmQudXJpJTNGZWlkJTNEMi1zMi4wLTg0OTQ1OTkwNDk0JTI2ZG9pJTNEMTAuNDAxOCUyNTJmOTc4LTEtNDY2Ni01MTgyLTEuY2gwMTAlMjZwYXJ0bmVySUQlM0Q0MCUyNm1kNSUzRDEyNDkzNDU0ODg2OTZlODVkM2VhNmU5YjZkOTU3MTdmJTI3JTI5JTNCJTBBc2V0X2F0dHJpYnV0ZSUyOCUyN211JUMzJUIxb3oyMDE0YiUyNyUyQyUyMCUyN3Njb3B1czIwMTYlMjclMkMlMjAlMjcxJTI3JTI5JTNC\")));\n",
       "    "
      ],
      "text/plain": [
       "<IPython.core.display.Javascript object>"
      ]
     },
     "metadata": {},
     "output_type": "display_data"
    },
    {
     "data": {
      "application/javascript": [
       "$('span:contains(\"# Temp\")').closest('.cell').remove();"
      ],
      "text/plain": [
       "<IPython.core.display.Javascript object>"
      ]
     },
     "metadata": {},
     "output_type": "display_data"
    },
    {
     "data": {
      "application/javascript": [
       "\n",
       "        $('span:contains(\"# Temp\")').closest('.cell').remove();\n",
       "        var code = IPython.notebook.insert_cell_below('code');\n",
       "        var prompt = code.element.find(\".input_prompt\");\n",
       "        prompt.append('<br><button style=\"height: 100%; width: 54px;\">Run</button>');\n",
       "        prompt.on(\"click\", \"button\", function(){\n",
       "            code.execute();\n",
       "        });\n",
       "        code.set_text(decodeURIComponent(window.atob(\"JTIzJTIwVGVtcCUwQWluc2VydCUyOCUyNyUyNyUyNyUyNyUyNyUyNyUyOSUzQiUwQXNldF9hdHRyaWJ1dGUlMjglMjdiaWJpMjAxNGElMjclMkMlMjAlMjdsaW5rJTI3JTJDJTIwJTI3aHR0cHMlM0EvL3d3dy5zY29wdXMuY29tL2lud2FyZC9yZWNvcmQudXJpJTNGZWlkJTNEMi1zMi4wLTg0OTA4ODc2MjA4JTI2cGFydG5lcklEJTNENDAlMjZtZDUlM0RlZTg1YzViMzU1ZTg1MDZiZTMzZGQyN2IwMDBhOGY4YyUyNyUyOSUzQiUwQXNldF9hdHRyaWJ1dGUlMjglMjdiaWJpMjAxNGElMjclMkMlMjAlMjdzY29wdXMyMDE2JTI3JTJDJTIwJTI3MSUyNyUyOSUzQg==\")));\n",
       "    "
      ],
      "text/plain": [
       "<IPython.core.display.Javascript object>"
      ]
     },
     "metadata": {},
     "output_type": "display_data"
    },
    {
     "data": {
      "application/javascript": [
       "$('span:contains(\"# Temp\")').closest('.cell').remove();"
      ],
      "text/plain": [
       "<IPython.core.display.Javascript object>"
      ]
     },
     "metadata": {},
     "output_type": "display_data"
    },
    {
     "data": {
      "application/javascript": [
       "\n",
       "        $('span:contains(\"# Temp\")').closest('.cell').remove();\n",
       "        var code = IPython.notebook.insert_cell_below('code');\n",
       "        var prompt = code.element.find(\".input_prompt\");\n",
       "        prompt.append('<br><button style=\"height: 100%; width: 54px;\">Run</button>');\n",
       "        prompt.on(\"click\", \"button\", function(){\n",
       "            code.execute();\n",
       "        });\n",
       "        code.set_text(decodeURIComponent(window.atob(\"JTIzJTIwVGVtcCUwQWluc2VydCUyOCUyNyUyNyUyNyUyNyUyNyUyNyUyOSUzQiUwQXNldF9hdHRyaWJ1dGUlMjglMjdiaWJpMjAxNGElMjclMkMlMjAlMjdsaW5rJTI3JTJDJTIwJTI3aHR0cHMlM0EvL3d3dy5zY29wdXMuY29tL2lud2FyZC9yZWNvcmQudXJpJTNGZWlkJTNEMi1zMi4wLTg0OTA4ODc2MjA4JTI2cGFydG5lcklEJTNENDAlMjZtZDUlM0RlZTg1YzViMzU1ZTg1MDZiZTMzZGQyN2IwMDBhOGY4YyUyNyUyOSUzQiUwQXNldF9hdHRyaWJ1dGUlMjglMjdiaWJpMjAxNGElMjclMkMlMjAlMjdzY29wdXMyMDE2JTI3JTJDJTIwJTI3MSUyNyUyOSUzQg==\")));\n",
       "    "
      ],
      "text/plain": [
       "<IPython.core.display.Javascript object>"
      ]
     },
     "metadata": {},
     "output_type": "display_data"
    },
    {
     "data": {
      "application/javascript": [
       "$('span:contains(\"# Temp\")').closest('.cell').remove();"
      ],
      "text/plain": [
       "<IPython.core.display.Javascript object>"
      ]
     },
     "metadata": {},
     "output_type": "display_data"
    },
    {
     "data": {
      "application/javascript": [
       "\n",
       "        $('span:contains(\"# Temp\")').closest('.cell').remove();\n",
       "        var code = IPython.notebook.insert_cell_below('code');\n",
       "        var prompt = code.element.find(\".input_prompt\");\n",
       "        prompt.append('<br><button style=\"height: 100%; width: 54px;\">Run</button>');\n",
       "        prompt.on(\"click\", \"button\", function(){\n",
       "            code.execute();\n",
       "        });\n",
       "        code.set_text(decodeURIComponent(window.atob(\"JTIzJTIwVGVtcCUwQWluc2VydCUyOCUyNyUyNyUyNyUyNyUyNyUyNyUyOSUzQiUwQXNldF9hdHRyaWJ1dGUlMjglMjdheWFsZXcyMDE0YSUyNyUyQyUyMCUyN3BwJTI3JTJDJTIwJTI3MTIxLTEzOCUyNyUyOSUzQiUwQXNldF9hdHRyaWJ1dGUlMjglMjdheWFsZXcyMDE0YSUyNyUyQyUyMCUyN2xpbmslMjclMkMlMjAlMjdodHRwcyUzQS8vd3d3LnNjb3B1cy5jb20vaW53YXJkL3JlY29yZC51cmklM0ZlaWQlM0QyLXMyLjAtODQ5MDI1OTU0NTQlMjZkb2klM0QxMC4xNDI1NyUyNTJmaWpzZWlhLjIwMTQuOC42LjEwJTI2cGFydG5lcklEJTNENDAlMjZtZDUlM0Q3ZWM0Y2NkZjU0MjE1YzBkNTQzODFmNjVlYjMzM2E2YyUyNyUyOSUzQiUwQXNldF9hdHRyaWJ1dGUlMjglMjdheWFsZXcyMDE0YSUyNyUyQyUyMCUyN3Njb3B1czIwMTYlMjclMkMlMjAlMjcxJTI3JTI5JTNC\")));\n",
       "    "
      ],
      "text/plain": [
       "<IPython.core.display.Javascript object>"
      ]
     },
     "metadata": {},
     "output_type": "display_data"
    },
    {
     "data": {
      "application/javascript": [
       "$('span:contains(\"# Temp\")').closest('.cell').remove();"
      ],
      "text/plain": [
       "<IPython.core.display.Javascript object>"
      ]
     },
     "metadata": {},
     "output_type": "display_data"
    },
    {
     "data": {
      "application/javascript": [
       "\n",
       "        $('span:contains(\"# Temp\")').closest('.cell').remove();\n",
       "        var code = IPython.notebook.insert_cell_below('code');\n",
       "        var prompt = code.element.find(\".input_prompt\");\n",
       "        prompt.append('<br><button style=\"height: 100%; width: 54px;\">Run</button>');\n",
       "        prompt.on(\"click\", \"button\", function(){\n",
       "            code.execute();\n",
       "        });\n",
       "        code.set_text(decodeURIComponent(window.atob(\"JTIzJTIwVGVtcCUwQWluc2VydCUyOCUyNyUyNyUyNyUyNyUyNyUyNyUyOSUzQiUwQXNldF9hdHRyaWJ1dGUlMjglMjdheWFsZXcyMDE0YSUyNyUyQyUyMCUyN3BwJTI3JTJDJTIwJTI3MTIxLTEzOCUyNyUyOSUzQiUwQXNldF9hdHRyaWJ1dGUlMjglMjdheWFsZXcyMDE0YSUyNyUyQyUyMCUyN2xpbmslMjclMkMlMjAlMjdodHRwcyUzQS8vd3d3LnNjb3B1cy5jb20vaW53YXJkL3JlY29yZC51cmklM0ZlaWQlM0QyLXMyLjAtODQ5MDI1OTU0NTQlMjZkb2klM0QxMC4xNDI1NyUyNTJmaWpzZWlhLjIwMTQuOC42LjEwJTI2cGFydG5lcklEJTNENDAlMjZtZDUlM0Q3ZWM0Y2NkZjU0MjE1YzBkNTQzODFmNjVlYjMzM2E2YyUyNyUyOSUzQiUwQXNldF9hdHRyaWJ1dGUlMjglMjdheWFsZXcyMDE0YSUyNyUyQyUyMCUyN3Njb3B1czIwMTYlMjclMkMlMjAlMjcxJTI3JTI5JTNC\")));\n",
       "    "
      ],
      "text/plain": [
       "<IPython.core.display.Javascript object>"
      ]
     },
     "metadata": {},
     "output_type": "display_data"
    },
    {
     "data": {
      "application/javascript": [
       "$('span:contains(\"# Temp\")').closest('.cell').remove();"
      ],
      "text/plain": [
       "<IPython.core.display.Javascript object>"
      ]
     },
     "metadata": {},
     "output_type": "display_data"
    },
    {
     "data": {
      "application/javascript": [
       "\n",
       "        $('span:contains(\"# Temp\")').closest('.cell').remove();\n",
       "        var code = IPython.notebook.insert_cell_below('code');\n",
       "        var prompt = code.element.find(\".input_prompt\");\n",
       "        prompt.append('<br><button style=\"height: 100%; width: 54px;\">Run</button>');\n",
       "        prompt.on(\"click\", \"button\", function(){\n",
       "            code.execute();\n",
       "        });\n",
       "        code.set_text(decodeURIComponent(window.atob(\"JTIzJTIwVGVtcCUwQWluc2VydCUyOCUyNyUyNyUyNyUwQWF5YWxldzIwMTRiJTIwJTNEJTIwREIlMjhXb3JrVW5yZWxhdGVkJTI4JTBBJTIwJTIwJTIwJTIwMjAxNCUyQyUyMCUyMlNvZnR3YXJlJTIwcHJvY2VzcyUyMHByYWN0aWNlcyUyMGluJTIwc21hbGwlMjBzb2Z0d2FyZSUyMGNvbXBhbmllcyUyMGluJTIwYm90c3dhbmElMjIlMkMlMEElMjAlMjAlMjAlMjBkaXNwbGF5JTNEJTIyYXlhbGV3JTIwYiUyMiUyQyUwQSUyMCUyMCUyMCUyMGF1dGhvcnMlM0QlMjJBeWFsZXclMkMlMjBZLiUyMGFuZCUyME1vdGxoYWxhJTJDJTIwSy4lMjIlMkMlMEElMjAlMjAlMjAlMjBwbGFjZSUzREZBS0UlMkMlMEElMjAlMjAlMjAlMjBwcCUzRCUyMjQ5LTU3JTIyJTJDJTBBJTIwJTIwJTIwJTIwZW50cnl0eXBlJTNEJTIyY29uZmVyZW5jZSUyMiUyQyUwQSUyMCUyMCUyMCUyMGFydF9udW1iZXIlM0QlMjI2OTc2NjYyJTIyJTJDJTBBJTIwJTIwJTIwJTIwbGluayUzRCUyMmh0dHBzJTNBLy93d3cuc2NvcHVzLmNvbS9pbndhcmQvcmVjb3JkLnVyaSUzRmVpZCUzRDItczIuMC04NDkxOTgyODEwMyUyNmRvaSUzRDEwLjExMDklMjUyZklDQ1NBLjIwMTQuMjAlMjZwYXJ0bmVySUQlM0Q0MCUyNm1kNSUzRGE1MTQ4ZmVhYmQyYzM4NTY2YWUzYzc1YTg0OGJhYjc4JTIyJTJDJTBBJTIwJTIwJTIwJTIwSUQlM0QlMjJBeWFsZXcyMDE0NDklMjIlMkMlMEElMjAlMjAlMjAlMjBzY29wdXMyMDE2JTNEJTIyMSUyMiUyQyUwQSUyMCUyMCUyMCUyMHBsYWNleCUzRCUyMlByb2NlZWRpbmdzJTIwLSUyMDE0dGglMjBJbnRlcm5hdGlvbmFsJTIwQ29uZmVyZW5jZSUyMG9uJTIwQ29tcHV0YXRpb25hbCUyMFNjaWVuY2UlMjBhbmQlMjBJdHMlMjBBcHBsaWNhdGlvbnMlMkMlMjBJQ0NTQSUyMDIwMTQlMjIlMkMlMEElMjklMjklMEElMjclMjclMjclMjklM0I=\")));\n",
       "    "
      ],
      "text/plain": [
       "<IPython.core.display.Javascript object>"
      ]
     },
     "metadata": {},
     "output_type": "display_data"
    },
    {
     "data": {
      "application/javascript": [
       "$('span:contains(\"# Temp\")').closest('.cell').remove();"
      ],
      "text/plain": [
       "<IPython.core.display.Javascript object>"
      ]
     },
     "metadata": {},
     "output_type": "display_data"
    },
    {
     "data": {
      "application/javascript": [
       "\n",
       "        $('span:contains(\"# Temp\")').closest('.cell').remove();\n",
       "        var code = IPython.notebook.insert_cell_below('code');\n",
       "        var prompt = code.element.find(\".input_prompt\");\n",
       "        prompt.append('<br><button style=\"height: 100%; width: 54px;\">Run</button>');\n",
       "        prompt.on(\"click\", \"button\", function(){\n",
       "            code.execute();\n",
       "        });\n",
       "        code.set_text(decodeURIComponent(window.atob(\"JTIzJTIwVGVtcCUwQWluc2VydCUyOCUyNyUyNyUyNyUwQWF5YWxldzIwMTRiJTIwJTNEJTIwREIlMjhXb3JrVW5yZWxhdGVkJTI4JTBBJTIwJTIwJTIwJTIwMjAxNCUyQyUyMCUyMlNvZnR3YXJlJTIwcHJvY2VzcyUyMHByYWN0aWNlcyUyMGluJTIwc21hbGwlMjBzb2Z0d2FyZSUyMGNvbXBhbmllcyUyMGluJTIwYm90c3dhbmElMjIlMkMlMEElMjAlMjAlMjAlMjBkaXNwbGF5JTNEJTIyYXlhbGV3JTIwYiUyMiUyQyUwQSUyMCUyMCUyMCUyMGF1dGhvcnMlM0QlMjJBeWFsZXclMkMlMjBZLiUyMGFuZCUyME1vdGxoYWxhJTJDJTIwSy4lMjIlMkMlMEElMjAlMjAlMjAlMjBwbGFjZSUzREZBS0UlMkMlMEElMjAlMjAlMjAlMjBwcCUzRCUyMjQ5LTU3JTIyJTJDJTBBJTIwJTIwJTIwJTIwZW50cnl0eXBlJTNEJTIyY29uZmVyZW5jZSUyMiUyQyUwQSUyMCUyMCUyMCUyMGFydF9udW1iZXIlM0QlMjI2OTc2NjYyJTIyJTJDJTBBJTIwJTIwJTIwJTIwbGluayUzRCUyMmh0dHBzJTNBLy93d3cuc2NvcHVzLmNvbS9pbndhcmQvcmVjb3JkLnVyaSUzRmVpZCUzRDItczIuMC04NDkxOTgyODEwMyUyNmRvaSUzRDEwLjExMDklMjUyZklDQ1NBLjIwMTQuMjAlMjZwYXJ0bmVySUQlM0Q0MCUyNm1kNSUzRGE1MTQ4ZmVhYmQyYzM4NTY2YWUzYzc1YTg0OGJhYjc4JTIyJTJDJTBBJTIwJTIwJTIwJTIwSUQlM0QlMjJBeWFsZXcyMDE0NDklMjIlMkMlMEElMjAlMjAlMjAlMjBzY29wdXMyMDE2JTNEJTIyMSUyMiUyQyUwQSUyMCUyMCUyMCUyMHBsYWNleCUzRCUyMlByb2NlZWRpbmdzJTIwLSUyMDE0dGglMjBJbnRlcm5hdGlvbmFsJTIwQ29uZmVyZW5jZSUyMG9uJTIwQ29tcHV0YXRpb25hbCUyMFNjaWVuY2UlMjBhbmQlMjBJdHMlMjBBcHBsaWNhdGlvbnMlMkMlMjBJQ0NTQSUyMDIwMTQlMjIlMkMlMEElMjklMjklMEElMjclMjclMjclMjklM0I=\")));\n",
       "    "
      ],
      "text/plain": [
       "<IPython.core.display.Javascript object>"
      ]
     },
     "metadata": {},
     "output_type": "display_data"
    },
    {
     "data": {
      "application/javascript": [
       "$('span:contains(\"# Temp\")').closest('.cell').remove();"
      ],
      "text/plain": [
       "<IPython.core.display.Javascript object>"
      ]
     },
     "metadata": {},
     "output_type": "display_data"
    },
    {
     "data": {
      "application/javascript": [
       "\n",
       "        $('span:contains(\"# Temp\")').closest('.cell').remove();\n",
       "        var code = IPython.notebook.insert_cell_below('code');\n",
       "        var prompt = code.element.find(\".input_prompt\");\n",
       "        prompt.append('<br><button style=\"height: 100%; width: 54px;\">Run</button>');\n",
       "        prompt.on(\"click\", \"button\", function(){\n",
       "            code.execute();\n",
       "        });\n",
       "        code.set_text(decodeURIComponent(window.atob(\"JTIzJTIwVGVtcCUwQWluc2VydCUyOCUyNyUyNyUyNyUyNyUyNyUyNyUyOSUzQiUwQXNldF9hdHRyaWJ1dGUlMjglMjdwZWxkeml1czIwMTRhJTI3JTJDJTIwJTI3dm9sdW1lJTI3JTJDJTIwJTI3NDc3JTI3JTI5JTNCJTBBc2V0X2F0dHJpYnV0ZSUyOCUyN3BlbGR6aXVzMjAxNGElMjclMkMlMjAlMjdsaW5rJTI3JTJDJTIwJTI3aHR0cHMlM0EvL3d3dy5zY29wdXMuY29tL2lud2FyZC9yZWNvcmQudXJpJTNGZWlkJTNEMi1zMi4wLTg0OTA4NTM3NTE5JTI2cGFydG5lcklEJTNENDAlMjZtZDUlM0RiNjZjNDRhZDg5MzhhODUwMzNmYjNmMjQ1YzE2MmM5YiUyNyUyOSUzQiUwQXNldF9hdHRyaWJ1dGUlMjglMjdwZWxkeml1czIwMTRhJTI3JTJDJTIwJTI3c2NvcHVzMjAxNiUyNyUyQyUyMCUyNzElMjclMjklM0I=\")));\n",
       "    "
      ],
      "text/plain": [
       "<IPython.core.display.Javascript object>"
      ]
     },
     "metadata": {},
     "output_type": "display_data"
    },
    {
     "data": {
      "application/javascript": [
       "$('span:contains(\"# Temp\")').closest('.cell').remove();"
      ],
      "text/plain": [
       "<IPython.core.display.Javascript object>"
      ]
     },
     "metadata": {},
     "output_type": "display_data"
    },
    {
     "data": {
      "application/javascript": [
       "\n",
       "        $('span:contains(\"# Temp\")').closest('.cell').remove();\n",
       "        var code = IPython.notebook.insert_cell_below('code');\n",
       "        var prompt = code.element.find(\".input_prompt\");\n",
       "        prompt.append('<br><button style=\"height: 100%; width: 54px;\">Run</button>');\n",
       "        prompt.on(\"click\", \"button\", function(){\n",
       "            code.execute();\n",
       "        });\n",
       "        code.set_text(decodeURIComponent(window.atob(\"JTIzJTIwVGVtcCUwQWluc2VydCUyOCUyNyUyNyUyNyUyNyUyNyUyNyUyOSUzQiUwQXNldF9hdHRyaWJ1dGUlMjglMjdwZWxkeml1czIwMTRhJTI3JTJDJTIwJTI3dm9sdW1lJTI3JTJDJTIwJTI3NDc3JTI3JTI5JTNCJTBBc2V0X2F0dHJpYnV0ZSUyOCUyN3BlbGR6aXVzMjAxNGElMjclMkMlMjAlMjdsaW5rJTI3JTJDJTIwJTI3aHR0cHMlM0EvL3d3dy5zY29wdXMuY29tL2lud2FyZC9yZWNvcmQudXJpJTNGZWlkJTNEMi1zMi4wLTg0OTA4NTM3NTE5JTI2cGFydG5lcklEJTNENDAlMjZtZDUlM0RiNjZjNDRhZDg5MzhhODUwMzNmYjNmMjQ1YzE2MmM5YiUyNyUyOSUzQiUwQXNldF9hdHRyaWJ1dGUlMjglMjdwZWxkeml1czIwMTRhJTI3JTJDJTIwJTI3c2NvcHVzMjAxNiUyNyUyQyUyMCUyNzElMjclMjklM0I=\")));\n",
       "    "
      ],
      "text/plain": [
       "<IPython.core.display.Javascript object>"
      ]
     },
     "metadata": {},
     "output_type": "display_data"
    },
    {
     "data": {
      "application/javascript": [
       "$('span:contains(\"# Temp\")').closest('.cell').remove();"
      ],
      "text/plain": [
       "<IPython.core.display.Javascript object>"
      ]
     },
     "metadata": {},
     "output_type": "display_data"
    },
    {
     "data": {
      "application/javascript": [
       "\n",
       "        $('span:contains(\"# Temp\")').closest('.cell').remove();\n",
       "        var code = IPython.notebook.insert_cell_below('code');\n",
       "        var prompt = code.element.find(\".input_prompt\");\n",
       "        prompt.append('<br><button style=\"height: 100%; width: 54px;\">Run</button>');\n",
       "        prompt.on(\"click\", \"button\", function(){\n",
       "            code.execute();\n",
       "        });\n",
       "        code.set_text(decodeURIComponent(window.atob(\"JTIzJTIwVGVtcCUwQWluc2VydCUyOCUyNyUyNyUyNyUyNyUyNyUyNyUyOSUzQiUwQXNldF9hdHRyaWJ1dGUlMjglMjdtdSVDMyVCMW96MjAxNGElMjclMkMlMjAlMjdsaW5rJTI3JTJDJTIwJTI3aHR0cHMlM0EvL3d3dy5zY29wdXMuY29tL2lud2FyZC9yZWNvcmQudXJpJTNGZWlkJTNEMi1zMi4wLTg0OTI4NjAwMTQzJTI2ZG9pJTNEMTAuMTE0MiUyNTJmUzAyMTgxOTQwMTQ0MDAwMzglMjZwYXJ0bmVySUQlM0Q0MCUyNm1kNSUzRGYzMjU1MjhiOTBlNjQzOTc1YmVhMTliZTA5NGM5ZjY5JTI3JTI5JTNCJTBBc2V0X2F0dHJpYnV0ZSUyOCUyN211JUMzJUIxb3oyMDE0YSUyNyUyQyUyMCUyN3Njb3B1czIwMTYlMjclMkMlMjAlMjcxJTI3JTI5JTNC\")));\n",
       "    "
      ],
      "text/plain": [
       "<IPython.core.display.Javascript object>"
      ]
     },
     "metadata": {},
     "output_type": "display_data"
    },
    {
     "data": {
      "application/javascript": [
       "$('span:contains(\"# Temp\")').closest('.cell').remove();"
      ],
      "text/plain": [
       "<IPython.core.display.Javascript object>"
      ]
     },
     "metadata": {},
     "output_type": "display_data"
    },
    {
     "data": {
      "application/javascript": [
       "\n",
       "        $('span:contains(\"# Temp\")').closest('.cell').remove();\n",
       "        var code = IPython.notebook.insert_cell_below('code');\n",
       "        var prompt = code.element.find(\".input_prompt\");\n",
       "        prompt.append('<br><button style=\"height: 100%; width: 54px;\">Run</button>');\n",
       "        prompt.on(\"click\", \"button\", function(){\n",
       "            code.execute();\n",
       "        });\n",
       "        code.set_text(decodeURIComponent(window.atob(\"JTIzJTIwVGVtcCUwQWluc2VydCUyOCUyNyUyNyUyNyUyNyUyNyUyNyUyOSUzQiUwQXNldF9hdHRyaWJ1dGUlMjglMjdtdSVDMyVCMW96MjAxNGElMjclMkMlMjAlMjdsaW5rJTI3JTJDJTIwJTI3aHR0cHMlM0EvL3d3dy5zY29wdXMuY29tL2lud2FyZC9yZWNvcmQudXJpJTNGZWlkJTNEMi1zMi4wLTg0OTI4NjAwMTQzJTI2ZG9pJTNEMTAuMTE0MiUyNTJmUzAyMTgxOTQwMTQ0MDAwMzglMjZwYXJ0bmVySUQlM0Q0MCUyNm1kNSUzRGYzMjU1MjhiOTBlNjQzOTc1YmVhMTliZTA5NGM5ZjY5JTI3JTI5JTNCJTBBc2V0X2F0dHJpYnV0ZSUyOCUyN211JUMzJUIxb3oyMDE0YSUyNyUyQyUyMCUyN3Njb3B1czIwMTYlMjclMkMlMjAlMjcxJTI3JTI5JTNC\")));\n",
       "    "
      ],
      "text/plain": [
       "<IPython.core.display.Javascript object>"
      ]
     },
     "metadata": {},
     "output_type": "display_data"
    },
    {
     "data": {
      "application/javascript": [
       "$('span:contains(\"# Temp\")').closest('.cell').remove();"
      ],
      "text/plain": [
       "<IPython.core.display.Javascript object>"
      ]
     },
     "metadata": {},
     "output_type": "display_data"
    },
    {
     "data": {
      "application/javascript": [
       "\n",
       "        $('span:contains(\"# Temp\")').closest('.cell').remove();\n",
       "        var code = IPython.notebook.insert_cell_below('code');\n",
       "        var prompt = code.element.find(\".input_prompt\");\n",
       "        prompt.append('<br><button style=\"height: 100%; width: 54px;\">Run</button>');\n",
       "        prompt.on(\"click\", \"button\", function(){\n",
       "            code.execute();\n",
       "        });\n",
       "        code.set_text(decodeURIComponent(window.atob(\"JTIzJTIwVGVtcCUwQWluc2VydCUyOCUyNyUyNyUyNyUwQW1pcm5hMjAxNGIlMjAlM0QlMjBEQiUyOFdvcmtVbnJlbGF0ZWQlMjglMEElMjAlMjAlMjAlMjAyMDE0JTJDJTIwJTIyRXZvbHZpbmclMjBwcm9jZXNzJTIwaW1wcm92ZW1lbnQlMjB1c2luZyUyMG11bHRpLW1vZGVsJTIwZW52aXJvbWVudHMlMjBhbmQlMjBrbm93bGVkZ2UlMjBtYW5hZ2VtZW50JTIwJTVCRXZvbHVjaW9uYW5kbyUyMGxhJTIwbWVqb3JhJTIwZGUlMjBwcm9jZXNvcyUyMGJhc2FkYSUyMGVuJTIwZWwlMjB1c28lMjBkZSUyMGVudG9ybm9zJTIwbXVsdGltb2RlbG8lMjB5JTIwbGElMjBnZXN0aSVDMyVCM24lMjBkZWwlMjBjb25vY2ltaWVudG8lNUQlMjIlMkMlMEElMjAlMjAlMjAlMjBkaXNwbGF5JTNEJTIybWlybmElMjBiJTIyJTJDJTBBJTIwJTIwJTIwJTIwYXV0aG9ycyUzRCUyMk1pcm5hJTJDJTIwTS4lMjBhbmQlMjBKZXpyZWVsJTJDJTIwTS4lMjBhbmQlMjBFZHJpc2klMkMlMjBNLiUyMiUyQyUwQSUyMCUyMCUyMCUyMHBsYWNlJTNERkFLRSUyQyUwQSUyMCUyMCUyMCUyMGVudHJ5dHlwZSUzRCUyMmNvbmZlcmVuY2UlMjIlMkMlMEElMjAlMjAlMjAlMjBhcnRfbnVtYmVyJTNEJTIyNjg3Njk3MSUyMiUyQyUwQSUyMCUyMCUyMCUyMGxpbmslM0QlMjJodHRwcyUzQS8vd3d3LnNjb3B1cy5jb20vaW53YXJkL3JlY29yZC51cmklM0ZlaWQlM0QyLXMyLjAtODQ5MDY2OTE3MTAlMjZkb2klM0QxMC4xMTA5JTI1MmZDSVNUSS4yMDE0LjY4NzY5NzElMjZwYXJ0bmVySUQlM0Q0MCUyNm1kNSUzRDgyZTMzNDBiZWRhZDg3NjNiZDM0ODc2MDAwNGUwY2M2JTIyJTJDJTBBJTIwJTIwJTIwJTIwSUQlM0QlMjJNaXJuYTIwMTQlMjIlMkMlMEElMjAlMjAlMjAlMjBzY29wdXMyMDE2JTNEJTIyMSUyMiUyQyUwQSUyMCUyMCUyMCUyMHBsYWNleCUzRCUyMkliZXJpYW4lMjBDb25mZXJlbmNlJTIwb24lMjBJbmZvcm1hdGlvbiUyMFN5c3RlbXMlMjBhbmQlMjBUZWNobm9sb2dpZXMlMkMlMjBDSVNUSSUyMiUyQyUwQSUyOSUyOSUwQSUyNyUyNyUyNyUyOSUzQg==\")));\n",
       "    "
      ],
      "text/plain": [
       "<IPython.core.display.Javascript object>"
      ]
     },
     "metadata": {},
     "output_type": "display_data"
    },
    {
     "data": {
      "application/javascript": [
       "$('span:contains(\"# Temp\")').closest('.cell').remove();"
      ],
      "text/plain": [
       "<IPython.core.display.Javascript object>"
      ]
     },
     "metadata": {},
     "output_type": "display_data"
    },
    {
     "data": {
      "application/javascript": [
       "\n",
       "        $('span:contains(\"# Temp\")').closest('.cell').remove();\n",
       "        var code = IPython.notebook.insert_cell_below('code');\n",
       "        var prompt = code.element.find(\".input_prompt\");\n",
       "        prompt.append('<br><button style=\"height: 100%; width: 54px;\">Run</button>');\n",
       "        prompt.on(\"click\", \"button\", function(){\n",
       "            code.execute();\n",
       "        });\n",
       "        code.set_text(decodeURIComponent(window.atob(\"JTIzJTIwVGVtcCUwQWluc2VydCUyOCUyNyUyNyUyNyUwQW1pcm5hMjAxNGIlMjAlM0QlMjBEQiUyOFdvcmtVbnJlbGF0ZWQlMjglMEElMjAlMjAlMjAlMjAyMDE0JTJDJTIwJTIyRXZvbHZpbmclMjBwcm9jZXNzJTIwaW1wcm92ZW1lbnQlMjB1c2luZyUyMG11bHRpLW1vZGVsJTIwZW52aXJvbWVudHMlMjBhbmQlMjBrbm93bGVkZ2UlMjBtYW5hZ2VtZW50JTIwJTVCRXZvbHVjaW9uYW5kbyUyMGxhJTIwbWVqb3JhJTIwZGUlMjBwcm9jZXNvcyUyMGJhc2FkYSUyMGVuJTIwZWwlMjB1c28lMjBkZSUyMGVudG9ybm9zJTIwbXVsdGltb2RlbG8lMjB5JTIwbGElMjBnZXN0aSVDMyVCM24lMjBkZWwlMjBjb25vY2ltaWVudG8lNUQlMjIlMkMlMEElMjAlMjAlMjAlMjBkaXNwbGF5JTNEJTIybWlybmElMjBiJTIyJTJDJTBBJTIwJTIwJTIwJTIwYXV0aG9ycyUzRCUyMk1pcm5hJTJDJTIwTS4lMjBhbmQlMjBKZXpyZWVsJTJDJTIwTS4lMjBhbmQlMjBFZHJpc2klMkMlMjBNLiUyMiUyQyUwQSUyMCUyMCUyMCUyMHBsYWNlJTNERkFLRSUyQyUwQSUyMCUyMCUyMCUyMGVudHJ5dHlwZSUzRCUyMmNvbmZlcmVuY2UlMjIlMkMlMEElMjAlMjAlMjAlMjBhcnRfbnVtYmVyJTNEJTIyNjg3Njk3MSUyMiUyQyUwQSUyMCUyMCUyMCUyMGxpbmslM0QlMjJodHRwcyUzQS8vd3d3LnNjb3B1cy5jb20vaW53YXJkL3JlY29yZC51cmklM0ZlaWQlM0QyLXMyLjAtODQ5MDY2OTE3MTAlMjZkb2klM0QxMC4xMTA5JTI1MmZDSVNUSS4yMDE0LjY4NzY5NzElMjZwYXJ0bmVySUQlM0Q0MCUyNm1kNSUzRDgyZTMzNDBiZWRhZDg3NjNiZDM0ODc2MDAwNGUwY2M2JTIyJTJDJTBBJTIwJTIwJTIwJTIwSUQlM0QlMjJNaXJuYTIwMTQlMjIlMkMlMEElMjAlMjAlMjAlMjBzY29wdXMyMDE2JTNEJTIyMSUyMiUyQyUwQSUyMCUyMCUyMCUyMHBsYWNleCUzRCUyMkliZXJpYW4lMjBDb25mZXJlbmNlJTIwb24lMjBJbmZvcm1hdGlvbiUyMFN5c3RlbXMlMjBhbmQlMjBUZWNobm9sb2dpZXMlMkMlMjBDSVNUSSUyMiUyQyUwQSUyOSUyOSUwQSUyNyUyNyUyNyUyOSUzQg==\")));\n",
       "    "
      ],
      "text/plain": [
       "<IPython.core.display.Javascript object>"
      ]
     },
     "metadata": {},
     "output_type": "display_data"
    },
    {
     "data": {
      "application/javascript": [
       "$('span:contains(\"# Temp\")').closest('.cell').remove();"
      ],
      "text/plain": [
       "<IPython.core.display.Javascript object>"
      ]
     },
     "metadata": {},
     "output_type": "display_data"
    },
    {
     "data": {
      "application/javascript": [
       "\n",
       "        $('span:contains(\"# Temp\")').closest('.cell').remove();\n",
       "        var code = IPython.notebook.insert_cell_below('code');\n",
       "        var prompt = code.element.find(\".input_prompt\");\n",
       "        prompt.append('<br><button style=\"height: 100%; width: 54px;\">Run</button>');\n",
       "        prompt.on(\"click\", \"button\", function(){\n",
       "            code.execute();\n",
       "        });\n",
       "        code.set_text(decodeURIComponent(window.atob(\"JTIzJTIwVGVtcCUwQWluc2VydCUyOCUyNyUyNyUyNyUwQWdvbiVDMyVBN2FsdmVzMjAxNGElMjAlM0QlMjBEQiUyOFdvcmtVbnJlbGF0ZWQlMjglMEElMjAlMjAlMjAlMjAyMDE0JTJDJTIwJTIyQ29tcGFyaW5nJTIwYWdpbGl0eSUyMGFuYWx5c2lzJTIwdGVjaG5pcXVlcyUzQSUyMEFnaWxBQyUyMGZyYW1ld29yayUyMHZlcnN1cyUyMGFkJTIwaG9jJTIwYXBwcm9hY2glMjIlMkMlMEElMjAlMjAlMjAlMjBkaXNwbGF5JTNEJTIyZ29uJUMzJUE3YWx2ZXMlMjIlMkMlMEElMjAlMjAlMjAlMjBhdXRob3JzJTNEJTIyR29uJUMzJUE3YWx2ZXMlMkMlMjBNLkIuJTIwYW5kJTIwUGFpdmElMkMlMjBELk0uQi4lMjBhbmQlMjBDYW1hcmdvJTJDJTIwVi5WLiUyMGFuZCUyMENhZ25pbiUyQyUyME0uSS4lMjIlMkMlMEElMjAlMjAlMjAlMjBwbGFjZSUzREZBS0UlMkMlMEElMjAlMjAlMjAlMjBwcCUzRCUyMjU0Ni01NjElMjIlMkMlMEElMjAlMjAlMjAlMjBlbnRyeXR5cGUlM0QlMjJhcnRpY2xlJTIyJTJDJTBBJTIwJTIwJTIwJTIwdm9sdW1lJTNEJTIyODU4NCUyMExOQ1MlMjIlMkMlMEElMjAlMjAlMjAlMjBudW1iZXIlM0QlMjJQQVJUJTIwNiUyMiUyQyUwQSUyMCUyMCUyMCUyMGxpbmslM0QlMjJodHRwcyUzQS8vd3d3LnNjb3B1cy5jb20vaW53YXJkL3JlY29yZC51cmklM0ZlaWQlM0QyLXMyLjAtODQ5MDQ4NjMzNjElMjZkb2klM0QxMC4xMDA3JTI1MmY5NzgtMy0zMTktMDkxNTMtMl80MSUyNnBhcnRuZXJJRCUzRDQwJTI2bWQ1JTNENDE2NTJjMGY2Y2VlMzc2M2M4MmFmYWNlZDgyOGI2Y2QlMjIlMkMlMEElMjAlMjAlMjAlMjBJRCUzRCUyMkdvbiVDMyVBN2FsdmVzMjAxNDU0NiUyMiUyQyUwQSUyMCUyMCUyMCUyMHNjb3B1czIwMTYlM0QlMjIxJTIyJTJDJTBBJTIwJTIwJTIwJTIwcGxhY2V4JTNEJTIyTGVjdHVyZSUyME5vdGVzJTIwaW4lMjBDb21wdXRlciUyMFNjaWVuY2UlMjAlMjhpbmNsdWRpbmclMjBzdWJzZXJpZXMlMjBMZWN0dXJlJTIwTm90ZXMlMjBpbiUyMEFydGlmaWNpYWwlMjBJbnRlbGxpZ2VuY2UlMjBhbmQlMjBMZWN0dXJlJTIwTm90ZXMlMjBpbiUyMEJpb2luZm9ybWF0aWNzJTI5JTIyJTJDJTBBJTI5JTI5JTBBJTI3JTI3JTI3JTI5JTNC\")));\n",
       "    "
      ],
      "text/plain": [
       "<IPython.core.display.Javascript object>"
      ]
     },
     "metadata": {},
     "output_type": "display_data"
    },
    {
     "data": {
      "application/javascript": [
       "$('span:contains(\"# Temp\")').closest('.cell').remove();"
      ],
      "text/plain": [
       "<IPython.core.display.Javascript object>"
      ]
     },
     "metadata": {},
     "output_type": "display_data"
    },
    {
     "data": {
      "application/javascript": [
       "\n",
       "        $('span:contains(\"# Temp\")').closest('.cell').remove();\n",
       "        var code = IPython.notebook.insert_cell_below('code');\n",
       "        var prompt = code.element.find(\".input_prompt\");\n",
       "        prompt.append('<br><button style=\"height: 100%; width: 54px;\">Run</button>');\n",
       "        prompt.on(\"click\", \"button\", function(){\n",
       "            code.execute();\n",
       "        });\n",
       "        code.set_text(decodeURIComponent(window.atob(\"JTIzJTIwVGVtcCUwQWluc2VydCUyOCUyNyUyNyUyNyUwQWdvbiVDMyVBN2FsdmVzMjAxNGElMjAlM0QlMjBEQiUyOFdvcmtVbnJlbGF0ZWQlMjglMEElMjAlMjAlMjAlMjAyMDE0JTJDJTIwJTIyQ29tcGFyaW5nJTIwYWdpbGl0eSUyMGFuYWx5c2lzJTIwdGVjaG5pcXVlcyUzQSUyMEFnaWxBQyUyMGZyYW1ld29yayUyMHZlcnN1cyUyMGFkJTIwaG9jJTIwYXBwcm9hY2glMjIlMkMlMEElMjAlMjAlMjAlMjBkaXNwbGF5JTNEJTIyZ29uJUMzJUE3YWx2ZXMlMjIlMkMlMEElMjAlMjAlMjAlMjBhdXRob3JzJTNEJTIyR29uJUMzJUE3YWx2ZXMlMkMlMjBNLkIuJTIwYW5kJTIwUGFpdmElMkMlMjBELk0uQi4lMjBhbmQlMjBDYW1hcmdvJTJDJTIwVi5WLiUyMGFuZCUyMENhZ25pbiUyQyUyME0uSS4lMjIlMkMlMEElMjAlMjAlMjAlMjBwbGFjZSUzREZBS0UlMkMlMEElMjAlMjAlMjAlMjBwcCUzRCUyMjU0Ni01NjElMjIlMkMlMEElMjAlMjAlMjAlMjBlbnRyeXR5cGUlM0QlMjJhcnRpY2xlJTIyJTJDJTBBJTIwJTIwJTIwJTIwdm9sdW1lJTNEJTIyODU4NCUyMExOQ1MlMjIlMkMlMEElMjAlMjAlMjAlMjBudW1iZXIlM0QlMjJQQVJUJTIwNiUyMiUyQyUwQSUyMCUyMCUyMCUyMGxpbmslM0QlMjJodHRwcyUzQS8vd3d3LnNjb3B1cy5jb20vaW53YXJkL3JlY29yZC51cmklM0ZlaWQlM0QyLXMyLjAtODQ5MDQ4NjMzNjElMjZkb2klM0QxMC4xMDA3JTI1MmY5NzgtMy0zMTktMDkxNTMtMl80MSUyNnBhcnRuZXJJRCUzRDQwJTI2bWQ1JTNENDE2NTJjMGY2Y2VlMzc2M2M4MmFmYWNlZDgyOGI2Y2QlMjIlMkMlMEElMjAlMjAlMjAlMjBJRCUzRCUyMkdvbiVDMyVBN2FsdmVzMjAxNDU0NiUyMiUyQyUwQSUyMCUyMCUyMCUyMHNjb3B1czIwMTYlM0QlMjIxJTIyJTJDJTBBJTIwJTIwJTIwJTIwcGxhY2V4JTNEJTIyTGVjdHVyZSUyME5vdGVzJTIwaW4lMjBDb21wdXRlciUyMFNjaWVuY2UlMjAlMjhpbmNsdWRpbmclMjBzdWJzZXJpZXMlMjBMZWN0dXJlJTIwTm90ZXMlMjBpbiUyMEFydGlmaWNpYWwlMjBJbnRlbGxpZ2VuY2UlMjBhbmQlMjBMZWN0dXJlJTIwTm90ZXMlMjBpbiUyMEJpb2luZm9ybWF0aWNzJTI5JTIyJTJDJTBBJTI5JTI5JTBBJTI3JTI3JTI3JTI5JTNC\")));\n",
       "    "
      ],
      "text/plain": [
       "<IPython.core.display.Javascript object>"
      ]
     },
     "metadata": {},
     "output_type": "display_data"
    },
    {
     "data": {
      "application/javascript": [
       "$('span:contains(\"# Temp\")').closest('.cell').remove();"
      ],
      "text/plain": [
       "<IPython.core.display.Javascript object>"
      ]
     },
     "metadata": {},
     "output_type": "display_data"
    },
    {
     "data": {
      "application/javascript": [
       "\n",
       "        $('span:contains(\"# Temp\")').closest('.cell').remove();\n",
       "        var code = IPython.notebook.insert_cell_below('code');\n",
       "        var prompt = code.element.find(\".input_prompt\");\n",
       "        prompt.append('<br><button style=\"height: 100%; width: 54px;\">Run</button>');\n",
       "        prompt.on(\"click\", \"button\", function(){\n",
       "            code.execute();\n",
       "        });\n",
       "        code.set_text(decodeURIComponent(window.atob(\"JTIzJTIwVGVtcCUwQWluc2VydCUyOCUyNyUyNyUyNyUyNyUyNyUyNyUyOSUzQiUwQXNldF9hdHRyaWJ1dGUlMjglMjdhbGkyMDE0YSUyNyUyQyUyMCUyN2xpbmslMjclMkMlMjAlMjdodHRwcyUzQS8vd3d3LnNjb3B1cy5jb20vaW53YXJkL3JlY29yZC51cmklM0ZlaWQlM0QyLXMyLjAtODQ5MDgxNjA2MDAlMjZkb2klM0QxMC4xMDE2JTI1MmZqLmpzcy4yMDE0LjA2LjA1OSUyNnBhcnRuZXJJRCUzRDQwJTI2bWQ1JTNENjJjNGMwYWY2ZmQyNTk2Y2ZjODNkZTg4ZDc4MjA5MTklMjclMjklM0IlMEFzZXRfYXR0cmlidXRlJTI4JTI3YWxpMjAxNGElMjclMkMlMjAlMjdzY29wdXMyMDE2JTI3JTJDJTIwJTI3MSUyNyUyOSUzQg==\")));\n",
       "    "
      ],
      "text/plain": [
       "<IPython.core.display.Javascript object>"
      ]
     },
     "metadata": {},
     "output_type": "display_data"
    },
    {
     "data": {
      "application/javascript": [
       "$('span:contains(\"# Temp\")').closest('.cell').remove();"
      ],
      "text/plain": [
       "<IPython.core.display.Javascript object>"
      ]
     },
     "metadata": {},
     "output_type": "display_data"
    },
    {
     "data": {
      "application/javascript": [
       "\n",
       "        $('span:contains(\"# Temp\")').closest('.cell').remove();\n",
       "        var code = IPython.notebook.insert_cell_below('code');\n",
       "        var prompt = code.element.find(\".input_prompt\");\n",
       "        prompt.append('<br><button style=\"height: 100%; width: 54px;\">Run</button>');\n",
       "        prompt.on(\"click\", \"button\", function(){\n",
       "            code.execute();\n",
       "        });\n",
       "        code.set_text(decodeURIComponent(window.atob(\"JTIzJTIwVGVtcCUwQWluc2VydCUyOCUyNyUyNyUyNyUyNyUyNyUyNyUyOSUzQiUwQXNldF9hdHRyaWJ1dGUlMjglMjdhbGkyMDE0YSUyNyUyQyUyMCUyN2xpbmslMjclMkMlMjAlMjdodHRwcyUzQS8vd3d3LnNjb3B1cy5jb20vaW53YXJkL3JlY29yZC51cmklM0ZlaWQlM0QyLXMyLjAtODQ5MDgxNjA2MDAlMjZkb2klM0QxMC4xMDE2JTI1MmZqLmpzcy4yMDE0LjA2LjA1OSUyNnBhcnRuZXJJRCUzRDQwJTI2bWQ1JTNENjJjNGMwYWY2ZmQyNTk2Y2ZjODNkZTg4ZDc4MjA5MTklMjclMjklM0IlMEFzZXRfYXR0cmlidXRlJTI4JTI3YWxpMjAxNGElMjclMkMlMjAlMjdzY29wdXMyMDE2JTI3JTJDJTIwJTI3MSUyNyUyOSUzQg==\")));\n",
       "    "
      ],
      "text/plain": [
       "<IPython.core.display.Javascript object>"
      ]
     },
     "metadata": {},
     "output_type": "display_data"
    },
    {
     "data": {
      "application/javascript": [
       "$('span:contains(\"# Temp\")').closest('.cell').remove();"
      ],
      "text/plain": [
       "<IPython.core.display.Javascript object>"
      ]
     },
     "metadata": {},
     "output_type": "display_data"
    },
    {
     "data": {
      "application/javascript": [
       "\n",
       "        $('span:contains(\"# Temp\")').closest('.cell').remove();\n",
       "        var code = IPython.notebook.insert_cell_below('code');\n",
       "        var prompt = code.element.find(\".input_prompt\");\n",
       "        prompt.append('<br><button style=\"height: 100%; width: 54px;\">Run</button>');\n",
       "        prompt.on(\"click\", \"button\", function(){\n",
       "            code.execute();\n",
       "        });\n",
       "        code.set_text(decodeURIComponent(window.atob(\"JTIzJTIwVGVtcCUwQWluc2VydCUyOCUyNyUyNyUyNyUyNyUyNyUyNyUyOSUzQiUwQXNldF9hdHRyaWJ1dGUlMjglMjdtYXRhMjAxNGElMjclMkMlMjAlMjdhcnRfbnVtYmVyJTI3JTJDJTIwJTI3NjgyNzg3NSUyNyUyOSUzQiUwQXNldF9hdHRyaWJ1dGUlMjglMjdtYXRhMjAxNGElMjclMkMlMjAlMjdsaW5rJTI3JTJDJTIwJTI3aHR0cHMlM0EvL3d3dy5zY29wdXMuY29tL2lud2FyZC9yZWNvcmQudXJpJTNGZWlkJTNEMi1zMi4wLTg0OTAzMTU1MTk2JTI2ZG9pJTNEMTAuMTEwOSUyNTJmVExBLjIwMTQuNjgyNzg3NSUyNnBhcnRuZXJJRCUzRDQwJTI2bWQ1JTNENjlkNzVjZWY1OTgzYTU2MTY2ZDAwOTg3MzUzYTUzZGElMjclMjklM0IlMEFzZXRfYXR0cmlidXRlJTI4JTI3bWF0YTIwMTRhJTI3JTJDJTIwJTI3c2NvcHVzMjAxNiUyNyUyQyUyMCUyNzElMjclMjklM0I=\")));\n",
       "    "
      ],
      "text/plain": [
       "<IPython.core.display.Javascript object>"
      ]
     },
     "metadata": {},
     "output_type": "display_data"
    },
    {
     "data": {
      "application/javascript": [
       "$('span:contains(\"# Temp\")').closest('.cell').remove();"
      ],
      "text/plain": [
       "<IPython.core.display.Javascript object>"
      ]
     },
     "metadata": {},
     "output_type": "display_data"
    },
    {
     "data": {
      "application/javascript": [
       "\n",
       "        $('span:contains(\"# Temp\")').closest('.cell').remove();\n",
       "        var code = IPython.notebook.insert_cell_below('code');\n",
       "        var prompt = code.element.find(\".input_prompt\");\n",
       "        prompt.append('<br><button style=\"height: 100%; width: 54px;\">Run</button>');\n",
       "        prompt.on(\"click\", \"button\", function(){\n",
       "            code.execute();\n",
       "        });\n",
       "        code.set_text(decodeURIComponent(window.atob(\"JTIzJTIwVGVtcCUwQWluc2VydCUyOCUyNyUyNyUyNyUyNyUyNyUyNyUyOSUzQiUwQXNldF9hdHRyaWJ1dGUlMjglMjdtYXRhMjAxNGElMjclMkMlMjAlMjdhcnRfbnVtYmVyJTI3JTJDJTIwJTI3NjgyNzg3NSUyNyUyOSUzQiUwQXNldF9hdHRyaWJ1dGUlMjglMjdtYXRhMjAxNGElMjclMkMlMjAlMjdsaW5rJTI3JTJDJTIwJTI3aHR0cHMlM0EvL3d3dy5zY29wdXMuY29tL2lud2FyZC9yZWNvcmQudXJpJTNGZWlkJTNEMi1zMi4wLTg0OTAzMTU1MTk2JTI2ZG9pJTNEMTAuMTEwOSUyNTJmVExBLjIwMTQuNjgyNzg3NSUyNnBhcnRuZXJJRCUzRDQwJTI2bWQ1JTNENjlkNzVjZWY1OTgzYTU2MTY2ZDAwOTg3MzUzYTUzZGElMjclMjklM0IlMEFzZXRfYXR0cmlidXRlJTI4JTI3bWF0YTIwMTRhJTI3JTJDJTIwJTI3c2NvcHVzMjAxNiUyNyUyQyUyMCUyNzElMjclMjklM0I=\")));\n",
       "    "
      ],
      "text/plain": [
       "<IPython.core.display.Javascript object>"
      ]
     },
     "metadata": {},
     "output_type": "display_data"
    },
    {
     "data": {
      "application/javascript": [
       "$('span:contains(\"# Temp\")').closest('.cell').remove();"
      ],
      "text/plain": [
       "<IPython.core.display.Javascript object>"
      ]
     },
     "metadata": {},
     "output_type": "display_data"
    },
    {
     "data": {
      "application/javascript": [
       "\n",
       "        $('span:contains(\"# Temp\")').closest('.cell').remove();\n",
       "        var code = IPython.notebook.insert_cell_below('code');\n",
       "        var prompt = code.element.find(\".input_prompt\");\n",
       "        prompt.append('<br><button style=\"height: 100%; width: 54px;\">Run</button>');\n",
       "        prompt.on(\"click\", \"button\", function(){\n",
       "            code.execute();\n",
       "        });\n",
       "        code.set_text(decodeURIComponent(window.atob(\"JTIzJTIwVGVtcCUwQWluc2VydCUyOCUyNyUyNyUyNyUyNyUyNyUyNyUyOSUzQiUwQXNldF9hdHRyaWJ1dGUlMjglMjdtZXNxdWlkYTIwMTRhJTI3JTJDJTIwJTI3bGluayUyNyUyQyUyMCUyN2h0dHBzJTNBLy93d3cuc2NvcHVzLmNvbS9pbndhcmQvcmVjb3JkLnVyaSUzRmVpZCUzRDItczIuMC04NDkyODYyODIyNyUyNmRvaSUzRDEwLjExNDIlMjUyZlMwMjE4MTk0MDE0NDAwMDI2JTI2cGFydG5lcklEJTNENDAlMjZtZDUlM0RjMWM4MjRmNjhkMjMxYTg5NzZlNGJhMjA2YWUyYzk1OSUyNyUyOSUzQiUwQXNldF9hdHRyaWJ1dGUlMjglMjdtZXNxdWlkYTIwMTRhJTI3JTJDJTIwJTI3c2NvcHVzMjAxNiUyNyUyQyUyMCUyNzElMjclMjklM0I=\")));\n",
       "    "
      ],
      "text/plain": [
       "<IPython.core.display.Javascript object>"
      ]
     },
     "metadata": {},
     "output_type": "display_data"
    },
    {
     "data": {
      "application/javascript": [
       "$('span:contains(\"# Temp\")').closest('.cell').remove();"
      ],
      "text/plain": [
       "<IPython.core.display.Javascript object>"
      ]
     },
     "metadata": {},
     "output_type": "display_data"
    },
    {
     "data": {
      "application/javascript": [
       "\n",
       "        $('span:contains(\"# Temp\")').closest('.cell').remove();\n",
       "        var code = IPython.notebook.insert_cell_below('code');\n",
       "        var prompt = code.element.find(\".input_prompt\");\n",
       "        prompt.append('<br><button style=\"height: 100%; width: 54px;\">Run</button>');\n",
       "        prompt.on(\"click\", \"button\", function(){\n",
       "            code.execute();\n",
       "        });\n",
       "        code.set_text(decodeURIComponent(window.atob(\"JTIzJTIwVGVtcCUwQWluc2VydCUyOCUyNyUyNyUyNyUyNyUyNyUyNyUyOSUzQiUwQXNldF9hdHRyaWJ1dGUlMjglMjdtZXNxdWlkYTIwMTRhJTI3JTJDJTIwJTI3bGluayUyNyUyQyUyMCUyN2h0dHBzJTNBLy93d3cuc2NvcHVzLmNvbS9pbndhcmQvcmVjb3JkLnVyaSUzRmVpZCUzRDItczIuMC04NDkyODYyODIyNyUyNmRvaSUzRDEwLjExNDIlMjUyZlMwMjE4MTk0MDE0NDAwMDI2JTI2cGFydG5lcklEJTNENDAlMjZtZDUlM0RjMWM4MjRmNjhkMjMxYTg5NzZlNGJhMjA2YWUyYzk1OSUyNyUyOSUzQiUwQXNldF9hdHRyaWJ1dGUlMjglMjdtZXNxdWlkYTIwMTRhJTI3JTJDJTIwJTI3c2NvcHVzMjAxNiUyNyUyQyUyMCUyNzElMjclMjklM0I=\")));\n",
       "    "
      ],
      "text/plain": [
       "<IPython.core.display.Javascript object>"
      ]
     },
     "metadata": {},
     "output_type": "display_data"
    },
    {
     "data": {
      "application/javascript": [
       "$('span:contains(\"# Temp\")').closest('.cell').remove();"
      ],
      "text/plain": [
       "<IPython.core.display.Javascript object>"
      ]
     },
     "metadata": {},
     "output_type": "display_data"
    },
    {
     "data": {
      "application/javascript": [
       "\n",
       "        $('span:contains(\"# Temp\")').closest('.cell').remove();\n",
       "        var code = IPython.notebook.insert_cell_below('code');\n",
       "        var prompt = code.element.find(\".input_prompt\");\n",
       "        prompt.append('<br><button style=\"height: 100%; width: 54px;\">Run</button>');\n",
       "        prompt.on(\"click\", \"button\", function(){\n",
       "            code.execute();\n",
       "        });\n",
       "        code.set_text(decodeURIComponent(window.atob(\"JTIzJTIwVGVtcCUwQWluc2VydCUyOCUyNyUyNyUyNyUyNyUyNyUyNyUyOSUzQiUwQXNldF9hdHRyaWJ1dGUlMjglMjdlaXRvMjAxNGElMjclMkMlMjAlMjdsaW5rJTI3JTJDJTIwJTI3aHR0cHMlM0EvL3d3dy5zY29wdXMuY29tL2lud2FyZC9yZWNvcmQudXJpJTNGZWlkJTNEMi1zMi4wLTg0OTM5ODc0ODM3JTI2ZG9pJTNEMTAuMTAwNyUyNTJmczExMzM0LTAxNC0wMjM2LTAlMjZwYXJ0bmVySUQlM0Q0MCUyNm1kNSUzRGVjMGE4MjMwYzIwNzc3NGY3YTM2MGNhZTk2ZjE5YTVjJTI3JTI5JTNCJTBBc2V0X2F0dHJpYnV0ZSUyOCUyN2VpdG8yMDE0YSUyNyUyQyUyMCUyN3Njb3B1czIwMTYlMjclMkMlMjAlMjcxJTI3JTI5JTNC\")));\n",
       "    "
      ],
      "text/plain": [
       "<IPython.core.display.Javascript object>"
      ]
     },
     "metadata": {},
     "output_type": "display_data"
    },
    {
     "data": {
      "application/javascript": [
       "$('span:contains(\"# Temp\")').closest('.cell').remove();"
      ],
      "text/plain": [
       "<IPython.core.display.Javascript object>"
      ]
     },
     "metadata": {},
     "output_type": "display_data"
    },
    {
     "data": {
      "application/javascript": [
       "\n",
       "        $('span:contains(\"# Temp\")').closest('.cell').remove();\n",
       "        var code = IPython.notebook.insert_cell_below('code');\n",
       "        var prompt = code.element.find(\".input_prompt\");\n",
       "        prompt.append('<br><button style=\"height: 100%; width: 54px;\">Run</button>');\n",
       "        prompt.on(\"click\", \"button\", function(){\n",
       "            code.execute();\n",
       "        });\n",
       "        code.set_text(decodeURIComponent(window.atob(\"JTIzJTIwVGVtcCUwQWluc2VydCUyOCUyNyUyNyUyNyUyNyUyNyUyNyUyOSUzQiUwQXNldF9hdHRyaWJ1dGUlMjglMjdlaXRvMjAxNGElMjclMkMlMjAlMjdsaW5rJTI3JTJDJTIwJTI3aHR0cHMlM0EvL3d3dy5zY29wdXMuY29tL2lud2FyZC9yZWNvcmQudXJpJTNGZWlkJTNEMi1zMi4wLTg0OTM5ODc0ODM3JTI2ZG9pJTNEMTAuMTAwNyUyNTJmczExMzM0LTAxNC0wMjM2LTAlMjZwYXJ0bmVySUQlM0Q0MCUyNm1kNSUzRGVjMGE4MjMwYzIwNzc3NGY3YTM2MGNhZTk2ZjE5YTVjJTI3JTI5JTNCJTBBc2V0X2F0dHJpYnV0ZSUyOCUyN2VpdG8yMDE0YSUyNyUyQyUyMCUyN3Njb3B1czIwMTYlMjclMkMlMjAlMjcxJTI3JTI5JTNC\")));\n",
       "    "
      ],
      "text/plain": [
       "<IPython.core.display.Javascript object>"
      ]
     },
     "metadata": {},
     "output_type": "display_data"
    },
    {
     "data": {
      "application/javascript": [
       "$('span:contains(\"# Temp\")').closest('.cell').remove();"
      ],
      "text/plain": [
       "<IPython.core.display.Javascript object>"
      ]
     },
     "metadata": {},
     "output_type": "display_data"
    },
    {
     "data": {
      "application/javascript": [
       "\n",
       "        $('span:contains(\"# Temp\")').closest('.cell').remove();\n",
       "        var code = IPython.notebook.insert_cell_below('code');\n",
       "        var prompt = code.element.find(\".input_prompt\");\n",
       "        prompt.append('<br><button style=\"height: 100%; width: 54px;\">Run</button>');\n",
       "        prompt.on(\"click\", \"button\", function(){\n",
       "            code.execute();\n",
       "        });\n",
       "        code.set_text(decodeURIComponent(window.atob(\"JTIzJTIwVGVtcCUwQWluc2VydCUyOCUyNyUyNyUyNyUyNyUyNyUyNyUyOSUzQiUwQXNldF9hdHRyaWJ1dGUlMjglMjdzdGFsbGluZ2VyMjAxNGElMjclMkMlMjAlMjd2b2x1bWUlMjclMkMlMjAlMjc0NzclMjclMjklM0IlMEFzZXRfYXR0cmlidXRlJTI4JTI3c3RhbGxpbmdlcjIwMTRhJTI3JTJDJTIwJTI3bGluayUyNyUyQyUyMCUyN2h0dHBzJTNBLy93d3cuc2NvcHVzLmNvbS9pbndhcmQvcmVjb3JkLnVyaSUzRmVpZCUzRDItczIuMC04NDk0OTEzMjk4NyUyNnBhcnRuZXJJRCUzRDQwJTI2bWQ1JTNEMjRhNWM5MDExNmZlODQ0ZWMyNWRhYjkzMmM1MGUyMjQlMjclMjklM0IlMEFzZXRfYXR0cmlidXRlJTI4JTI3c3RhbGxpbmdlcjIwMTRhJTI3JTJDJTIwJTI3c2NvcHVzMjAxNiUyNyUyQyUyMCUyNzElMjclMjklM0I=\")));\n",
       "    "
      ],
      "text/plain": [
       "<IPython.core.display.Javascript object>"
      ]
     },
     "metadata": {},
     "output_type": "display_data"
    },
    {
     "data": {
      "application/javascript": [
       "$('span:contains(\"# Temp\")').closest('.cell').remove();"
      ],
      "text/plain": [
       "<IPython.core.display.Javascript object>"
      ]
     },
     "metadata": {},
     "output_type": "display_data"
    },
    {
     "data": {
      "application/javascript": [
       "\n",
       "        $('span:contains(\"# Temp\")').closest('.cell').remove();\n",
       "        var code = IPython.notebook.insert_cell_below('code');\n",
       "        var prompt = code.element.find(\".input_prompt\");\n",
       "        prompt.append('<br><button style=\"height: 100%; width: 54px;\">Run</button>');\n",
       "        prompt.on(\"click\", \"button\", function(){\n",
       "            code.execute();\n",
       "        });\n",
       "        code.set_text(decodeURIComponent(window.atob(\"JTIzJTIwVGVtcCUwQWluc2VydCUyOCUyNyUyNyUyNyUyNyUyNyUyNyUyOSUzQiUwQXNldF9hdHRyaWJ1dGUlMjglMjdzdGFsbGluZ2VyMjAxNGElMjclMkMlMjAlMjd2b2x1bWUlMjclMkMlMjAlMjc0NzclMjclMjklM0IlMEFzZXRfYXR0cmlidXRlJTI4JTI3c3RhbGxpbmdlcjIwMTRhJTI3JTJDJTIwJTI3bGluayUyNyUyQyUyMCUyN2h0dHBzJTNBLy93d3cuc2NvcHVzLmNvbS9pbndhcmQvcmVjb3JkLnVyaSUzRmVpZCUzRDItczIuMC04NDk0OTEzMjk4NyUyNnBhcnRuZXJJRCUzRDQwJTI2bWQ1JTNEMjRhNWM5MDExNmZlODQ0ZWMyNWRhYjkzMmM1MGUyMjQlMjclMjklM0IlMEFzZXRfYXR0cmlidXRlJTI4JTI3c3RhbGxpbmdlcjIwMTRhJTI3JTJDJTIwJTI3c2NvcHVzMjAxNiUyNyUyQyUyMCUyNzElMjclMjklM0I=\")));\n",
       "    "
      ],
      "text/plain": [
       "<IPython.core.display.Javascript object>"
      ]
     },
     "metadata": {},
     "output_type": "display_data"
    },
    {
     "data": {
      "application/javascript": [
       "$('span:contains(\"# Temp\")').closest('.cell').remove();"
      ],
      "text/plain": [
       "<IPython.core.display.Javascript object>"
      ]
     },
     "metadata": {},
     "output_type": "display_data"
    },
    {
     "data": {
      "application/javascript": [
       "\n",
       "        $('span:contains(\"# Temp\")').closest('.cell').remove();\n",
       "        var code = IPython.notebook.insert_cell_below('code');\n",
       "        var prompt = code.element.find(\".input_prompt\");\n",
       "        prompt.append('<br><button style=\"height: 100%; width: 54px;\">Run</button>');\n",
       "        prompt.on(\"click\", \"button\", function(){\n",
       "            code.execute();\n",
       "        });\n",
       "        code.set_text(decodeURIComponent(window.atob(\"JTIzJTIwVGVtcCUwQWluc2VydCUyOCUyNyUyNyUyNyUwQWhlbmRlcnNvbjIwMTRmJTIwJTNEJTIwREIlMjhXb3JrVW5yZWxhdGVkJTI4JTBBJTIwJTIwJTIwJTIwMjAxNCUyQyUyMCUyMlNpdHVhdGlvbmFsJTIwbWV0aG9kJTIwZW5naW5lZXJpbmclMjIlMkMlMEElMjAlMjAlMjAlMjBkaXNwbGF5JTNEJTIyaGVuZGVyc29uJTIwZiUyMiUyQyUwQSUyMCUyMCUyMCUyMGF1dGhvcnMlM0QlMjJIZW5kZXJzb24tU2VsbGVycyUyQyUyMEIuJTIwYW5kJTIwUmFseXQlQzMlQTklMkMlMjBKLiUyMGFuZCUyMCVDMyU4NWdlcmZhbGslMkMlMjBQLkouJTIwYW5kJTIwUm9zc2klMkMlMjBNLiUyMiUyQyUwQSUyMCUyMCUyMCUyMHBsYWNlJTNEQm9vayUyQyUwQSUyMCUyMCUyMCUyMHBwJTNEJTIyMS0zMTAlMjIlMkMlMEElMjAlMjAlMjAlMjBlbnRyeXR5cGUlM0QlMjJib29rJTIyJTJDJTBBJTIwJTIwJTIwJTIwbGluayUzRCUyMmh0dHBzJTNBLy93d3cuc2NvcHVzLmNvbS9pbndhcmQvcmVjb3JkLnVyaSUzRmVpZCUzRDItczIuMC04NDk1NTcxODg3NCUyNmRvaSUzRDEwLjEwMDclMjUyZjk3OC0zLTY0Mi00MTQ2Ny0xJTI2cGFydG5lcklEJTNENDAlMjZtZDUlM0QxY2RlOWYyZTM1NTBjZTBkYzc2Y2MyYzYwZDFhZWEyOCUyMiUyQyUwQSUyMCUyMCUyMCUyMElEJTNEJTIySGVuZGVyc29uLVNlbGxlcnMyMDE0MSUyMiUyQyUwQSUyMCUyMCUyMCUyMHNjb3B1czIwMTYlM0QlMjIxJTIyJTJDJTBBJTIwJTIwJTIwJTIwcGxhY2V4JTNEJTIyU2l0dWF0aW9uYWwlMjBNZXRob2QlMjBFbmdpbmVlcmluZyUyMiUyQyUwQSUyOSUyOSUwQSUyNyUyNyUyNyUyOSUzQg==\")));\n",
       "    "
      ],
      "text/plain": [
       "<IPython.core.display.Javascript object>"
      ]
     },
     "metadata": {},
     "output_type": "display_data"
    },
    {
     "data": {
      "application/javascript": [
       "$('span:contains(\"# Temp\")').closest('.cell').remove();"
      ],
      "text/plain": [
       "<IPython.core.display.Javascript object>"
      ]
     },
     "metadata": {},
     "output_type": "display_data"
    },
    {
     "data": {
      "application/javascript": [
       "\n",
       "        $('span:contains(\"# Temp\")').closest('.cell').remove();\n",
       "        var code = IPython.notebook.insert_cell_below('code');\n",
       "        var prompt = code.element.find(\".input_prompt\");\n",
       "        prompt.append('<br><button style=\"height: 100%; width: 54px;\">Run</button>');\n",
       "        prompt.on(\"click\", \"button\", function(){\n",
       "            code.execute();\n",
       "        });\n",
       "        code.set_text(decodeURIComponent(window.atob(\"JTIzJTIwVGVtcCUwQWluc2VydCUyOCUyNyUyNyUyNyUwQWhlbmRlcnNvbjIwMTRmJTIwJTNEJTIwREIlMjhXb3JrVW5yZWxhdGVkJTI4JTBBJTIwJTIwJTIwJTIwMjAxNCUyQyUyMCUyMlNpdHVhdGlvbmFsJTIwbWV0aG9kJTIwZW5naW5lZXJpbmclMjIlMkMlMEElMjAlMjAlMjAlMjBkaXNwbGF5JTNEJTIyaGVuZGVyc29uJTIwZiUyMiUyQyUwQSUyMCUyMCUyMCUyMGF1dGhvcnMlM0QlMjJIZW5kZXJzb24tU2VsbGVycyUyQyUyMEIuJTIwYW5kJTIwUmFseXQlQzMlQTklMkMlMjBKLiUyMGFuZCUyMCVDMyU4NWdlcmZhbGslMkMlMjBQLkouJTIwYW5kJTIwUm9zc2klMkMlMjBNLiUyMiUyQyUwQSUyMCUyMCUyMCUyMHBsYWNlJTNEQm9vayUyQyUwQSUyMCUyMCUyMCUyMHBwJTNEJTIyMS0zMTAlMjIlMkMlMEElMjAlMjAlMjAlMjBlbnRyeXR5cGUlM0QlMjJib29rJTIyJTJDJTBBJTIwJTIwJTIwJTIwbGluayUzRCUyMmh0dHBzJTNBLy93d3cuc2NvcHVzLmNvbS9pbndhcmQvcmVjb3JkLnVyaSUzRmVpZCUzRDItczIuMC04NDk1NTcxODg3NCUyNmRvaSUzRDEwLjEwMDclMjUyZjk3OC0zLTY0Mi00MTQ2Ny0xJTI2cGFydG5lcklEJTNENDAlMjZtZDUlM0QxY2RlOWYyZTM1NTBjZTBkYzc2Y2MyYzYwZDFhZWEyOCUyMiUyQyUwQSUyMCUyMCUyMCUyMElEJTNEJTIySGVuZGVyc29uLVNlbGxlcnMyMDE0MSUyMiUyQyUwQSUyMCUyMCUyMCUyMHNjb3B1czIwMTYlM0QlMjIxJTIyJTJDJTBBJTIwJTIwJTIwJTIwcGxhY2V4JTNEJTIyU2l0dWF0aW9uYWwlMjBNZXRob2QlMjBFbmdpbmVlcmluZyUyMiUyQyUwQSUyOSUyOSUwQSUyNyUyNyUyNyUyOSUzQg==\")));\n",
       "    "
      ],
      "text/plain": [
       "<IPython.core.display.Javascript object>"
      ]
     },
     "metadata": {},
     "output_type": "display_data"
    },
    {
     "data": {
      "application/javascript": [
       "$('span:contains(\"# Temp\")').closest('.cell').remove();"
      ],
      "text/plain": [
       "<IPython.core.display.Javascript object>"
      ]
     },
     "metadata": {},
     "output_type": "display_data"
    },
    {
     "data": {
      "application/javascript": [
       "\n",
       "        $('span:contains(\"# Temp\")').closest('.cell').remove();\n",
       "        var code = IPython.notebook.insert_cell_below('code');\n",
       "        var prompt = code.element.find(\".input_prompt\");\n",
       "        prompt.append('<br><button style=\"height: 100%; width: 54px;\">Run</button>');\n",
       "        prompt.on(\"click\", \"button\", function(){\n",
       "            code.execute();\n",
       "        });\n",
       "        code.set_text(decodeURIComponent(window.atob(\"JTIzJTIwVGVtcCUwQWluc2VydCUyOCUyNyUyNyUyNyUwQXVudGVya2FsbXN0ZWluZXIyMDE0YSUyMCUzRCUyMERCJTI4V29ya1VucmVsYXRlZCUyOCUwQSUyMCUyMCUyMCUyMDIwMTQlMkMlMjAlMjJBJTIwdGF4b25vbXklMjBmb3IlMjByZXF1aXJlbWVudHMlMjBlbmdpbmVlcmluZyUyMGFuZCUyMHNvZnR3YXJlJTIwdGVzdCUyMGFsaWdubWVudCUyMiUyQyUwQSUyMCUyMCUyMCUyMGRpc3BsYXklM0QlMjJ1bnRlcmthbG1zdGVpbmVyJTIyJTJDJTBBJTIwJTIwJTIwJTIwYXV0aG9ycyUzRCUyMlVudGVya2FsbXN0ZWluZXIlMkMlMjBNLiUyMGFuZCUyMEZlbGR0JTJDJTIwUi4lMjBhbmQlMjBHb3JzY2hlayUyQyUyMFQuJTIyJTJDJTBBJTIwJTIwJTIwJTIwcGxhY2UlM0RUb1NFJTJDJTBBJTIwJTIwJTIwJTIwZW50cnl0eXBlJTNEJTIyYXJ0aWNsZSUyMiUyQyUwQSUyMCUyMCUyMCUyMHZvbHVtZSUzRCUyMjIzJTIyJTJDJTBBJTIwJTIwJTIwJTIwbnVtYmVyJTNEJTIyMiUyMiUyQyUwQSUyMCUyMCUyMCUyMGFydF9udW1iZXIlM0QlMjIxNiUyMiUyQyUwQSUyMCUyMCUyMCUyMGxpbmslM0QlMjJodHRwcyUzQS8vd3d3LnNjb3B1cy5jb20vaW53YXJkL3JlY29yZC51cmklM0ZlaWQlM0QyLXMyLjAtODQ4OTc5NzU1MDYlMjZkb2klM0QxMC4xMTQ1JTI1MmYyNTIzMDg4JTI2cGFydG5lcklEJTNENDAlMjZtZDUlM0RjMTExNGVmY2E2NzZhZjk4OTUwNzRmZDc3YmNlYjBlYSUyMiUyQyUwQSUyMCUyMCUyMCUyMElEJTNEJTIyVW50ZXJrYWxtc3RlaW5lcjIwMTQlMjIlMkMlMEElMjAlMjAlMjAlMjBzY29wdXMyMDE2JTNEJTIyMSUyMiUyQyUwQSUyMCUyMCUyMCUyMHBsYWNleCUzRCUyMkFDTSUyMFRyYW5zYWN0aW9ucyUyMG9uJTIwU29mdHdhcmUlMjBFbmdpbmVlcmluZyUyMGFuZCUyME1ldGhvZG9sb2d5JTIyJTJDJTBBJTI5JTI5JTBBJTI3JTI3JTI3JTI5JTNC\")));\n",
       "    "
      ],
      "text/plain": [
       "<IPython.core.display.Javascript object>"
      ]
     },
     "metadata": {},
     "output_type": "display_data"
    },
    {
     "data": {
      "application/javascript": [
       "$('span:contains(\"# Temp\")').closest('.cell').remove();"
      ],
      "text/plain": [
       "<IPython.core.display.Javascript object>"
      ]
     },
     "metadata": {},
     "output_type": "display_data"
    },
    {
     "data": {
      "application/javascript": [
       "\n",
       "        $('span:contains(\"# Temp\")').closest('.cell').remove();\n",
       "        var code = IPython.notebook.insert_cell_below('code');\n",
       "        var prompt = code.element.find(\".input_prompt\");\n",
       "        prompt.append('<br><button style=\"height: 100%; width: 54px;\">Run</button>');\n",
       "        prompt.on(\"click\", \"button\", function(){\n",
       "            code.execute();\n",
       "        });\n",
       "        code.set_text(decodeURIComponent(window.atob(\"JTIzJTIwVGVtcCUwQWluc2VydCUyOCUyNyUyNyUyNyUwQXVudGVya2FsbXN0ZWluZXIyMDE0YSUyMCUzRCUyMERCJTI4V29ya1VucmVsYXRlZCUyOCUwQSUyMCUyMCUyMCUyMDIwMTQlMkMlMjAlMjJBJTIwdGF4b25vbXklMjBmb3IlMjByZXF1aXJlbWVudHMlMjBlbmdpbmVlcmluZyUyMGFuZCUyMHNvZnR3YXJlJTIwdGVzdCUyMGFsaWdubWVudCUyMiUyQyUwQSUyMCUyMCUyMCUyMGRpc3BsYXklM0QlMjJ1bnRlcmthbG1zdGVpbmVyJTIyJTJDJTBBJTIwJTIwJTIwJTIwYXV0aG9ycyUzRCUyMlVudGVya2FsbXN0ZWluZXIlMkMlMjBNLiUyMGFuZCUyMEZlbGR0JTJDJTIwUi4lMjBhbmQlMjBHb3JzY2hlayUyQyUyMFQuJTIyJTJDJTBBJTIwJTIwJTIwJTIwcGxhY2UlM0RUb1NFJTJDJTBBJTIwJTIwJTIwJTIwZW50cnl0eXBlJTNEJTIyYXJ0aWNsZSUyMiUyQyUwQSUyMCUyMCUyMCUyMHZvbHVtZSUzRCUyMjIzJTIyJTJDJTBBJTIwJTIwJTIwJTIwbnVtYmVyJTNEJTIyMiUyMiUyQyUwQSUyMCUyMCUyMCUyMGFydF9udW1iZXIlM0QlMjIxNiUyMiUyQyUwQSUyMCUyMCUyMCUyMGxpbmslM0QlMjJodHRwcyUzQS8vd3d3LnNjb3B1cy5jb20vaW53YXJkL3JlY29yZC51cmklM0ZlaWQlM0QyLXMyLjAtODQ4OTc5NzU1MDYlMjZkb2klM0QxMC4xMTQ1JTI1MmYyNTIzMDg4JTI2cGFydG5lcklEJTNENDAlMjZtZDUlM0RjMTExNGVmY2E2NzZhZjk4OTUwNzRmZDc3YmNlYjBlYSUyMiUyQyUwQSUyMCUyMCUyMCUyMElEJTNEJTIyVW50ZXJrYWxtc3RlaW5lcjIwMTQlMjIlMkMlMEElMjAlMjAlMjAlMjBzY29wdXMyMDE2JTNEJTIyMSUyMiUyQyUwQSUyMCUyMCUyMCUyMHBsYWNleCUzRCUyMkFDTSUyMFRyYW5zYWN0aW9ucyUyMG9uJTIwU29mdHdhcmUlMjBFbmdpbmVlcmluZyUyMGFuZCUyME1ldGhvZG9sb2d5JTIyJTJDJTBBJTI5JTI5JTBBJTI3JTI3JTI3JTI5JTNC\")));\n",
       "    "
      ],
      "text/plain": [
       "<IPython.core.display.Javascript object>"
      ]
     },
     "metadata": {},
     "output_type": "display_data"
    },
    {
     "data": {
      "application/javascript": [
       "$('span:contains(\"# Temp\")').closest('.cell').remove();"
      ],
      "text/plain": [
       "<IPython.core.display.Javascript object>"
      ]
     },
     "metadata": {},
     "output_type": "display_data"
    },
    {
     "data": {
      "application/javascript": [
       "\n",
       "        $('span:contains(\"# Temp\")').closest('.cell').remove();\n",
       "        var code = IPython.notebook.insert_cell_below('code');\n",
       "        var prompt = code.element.find(\".input_prompt\");\n",
       "        prompt.append('<br><button style=\"height: 100%; width: 54px;\">Run</button>');\n",
       "        prompt.on(\"click\", \"button\", function(){\n",
       "            code.execute();\n",
       "        });\n",
       "        code.set_text(decodeURIComponent(window.atob(\"JTIzJTIwVGVtcCUwQWluc2VydCUyOCUyNyUyNyUyNyUyNyUyNyUyNyUyOSUzQiUwQXNldF9hdHRyaWJ1dGUlMjglMjdiYXJjZWxsb3MyMDEzYSUyNyUyQyUyMCUyN2xpbmslMjclMkMlMjAlMjdodHRwcyUzQS8vd3d3LnNjb3B1cy5jb20vaW53YXJkL3JlY29yZC51cmklM0ZlaWQlM0QyLXMyLjAtODQ4OTMxNDUwNTglMjZkb2klM0QxMC4xMDA3JTI1MmZzMTMxNzMtMDEzLTAxMDYteCUyNnBhcnRuZXJJRCUzRDQwJTI2bWQ1JTNEYjc3MDIyNzU4ZDFmYjcwZTZjNWY3ODdhMjRiYjQ5MDAlMjclMjklM0IlMEFzZXRfYXR0cmlidXRlJTI4JTI3YmFyY2VsbG9zMjAxM2ElMjclMkMlMjAlMjdzY29wdXMyMDE2JTI3JTJDJTIwJTI3MSUyNyUyOSUzQg==\")));\n",
       "    "
      ],
      "text/plain": [
       "<IPython.core.display.Javascript object>"
      ]
     },
     "metadata": {},
     "output_type": "display_data"
    },
    {
     "data": {
      "application/javascript": [
       "$('span:contains(\"# Temp\")').closest('.cell').remove();"
      ],
      "text/plain": [
       "<IPython.core.display.Javascript object>"
      ]
     },
     "metadata": {},
     "output_type": "display_data"
    },
    {
     "data": {
      "application/javascript": [
       "\n",
       "        $('span:contains(\"# Temp\")').closest('.cell').remove();\n",
       "        var code = IPython.notebook.insert_cell_below('code');\n",
       "        var prompt = code.element.find(\".input_prompt\");\n",
       "        prompt.append('<br><button style=\"height: 100%; width: 54px;\">Run</button>');\n",
       "        prompt.on(\"click\", \"button\", function(){\n",
       "            code.execute();\n",
       "        });\n",
       "        code.set_text(decodeURIComponent(window.atob(\"JTIzJTIwVGVtcCUwQWluc2VydCUyOCUyNyUyNyUyNyUyNyUyNyUyNyUyOSUzQiUwQXNldF9hdHRyaWJ1dGUlMjglMjdiYXJjZWxsb3MyMDEzYSUyNyUyQyUyMCUyN2xpbmslMjclMkMlMjAlMjdodHRwcyUzQS8vd3d3LnNjb3B1cy5jb20vaW53YXJkL3JlY29yZC51cmklM0ZlaWQlM0QyLXMyLjAtODQ4OTMxNDUwNTglMjZkb2klM0QxMC4xMDA3JTI1MmZzMTMxNzMtMDEzLTAxMDYteCUyNnBhcnRuZXJJRCUzRDQwJTI2bWQ1JTNEYjc3MDIyNzU4ZDFmYjcwZTZjNWY3ODdhMjRiYjQ5MDAlMjclMjklM0IlMEFzZXRfYXR0cmlidXRlJTI4JTI3YmFyY2VsbG9zMjAxM2ElMjclMkMlMjAlMjdzY29wdXMyMDE2JTI3JTJDJTIwJTI3MSUyNyUyOSUzQg==\")));\n",
       "    "
      ],
      "text/plain": [
       "<IPython.core.display.Javascript object>"
      ]
     },
     "metadata": {},
     "output_type": "display_data"
    },
    {
     "data": {
      "application/javascript": [
       "$('span:contains(\"# Temp\")').closest('.cell').remove();"
      ],
      "text/plain": [
       "<IPython.core.display.Javascript object>"
      ]
     },
     "metadata": {},
     "output_type": "display_data"
    },
    {
     "data": {
      "application/javascript": [
       "\n",
       "        $('span:contains(\"# Temp\")').closest('.cell').remove();\n",
       "        var code = IPython.notebook.insert_cell_below('code');\n",
       "        var prompt = code.element.find(\".input_prompt\");\n",
       "        prompt.append('<br><button style=\"height: 100%; width: 54px;\">Run</button>');\n",
       "        prompt.on(\"click\", \"button\", function(){\n",
       "            code.execute();\n",
       "        });\n",
       "        code.set_text(decodeURIComponent(window.atob(\"JTIzJTIwVGVtcCUwQWluc2VydCUyOCUyNyUyNyUyNyUyNyUyNyUyNyUyOSUzQiUwQXNldF9hdHRyaWJ1dGUlMjglMjdiZWNrZXIyMDEzYSUyNyUyQyUyMCUyN3ZvbHVtZSUyNyUyQyUyMCUyNzgyOTUlMjBMTkNTJTI3JTI5JTNCJTBBc2V0X2F0dHJpYnV0ZSUyOCUyN2JlY2tlcjIwMTNhJTI3JTJDJTIwJTI3bGluayUyNyUyQyUyMCUyN2h0dHBzJTNBLy93d3cuc2NvcHVzLmNvbS9pbndhcmQvcmVjb3JkLnVyaSUzRmVpZCUzRDItczIuMC04NDg5Mzc4ODQyNCUyNmRvaSUzRDEwLjEwMDclMjUyZjk3OC0zLTMxOS0wNDI0NC0yXzExJTI2cGFydG5lcklEJTNENDAlMjZtZDUlM0RhOGM0Y2Q5NzM5MGM5NTY2Yjc2NzllMTk5MWZmZTIxYiUyNyUyOSUzQiUwQXNldF9hdHRyaWJ1dGUlMjglMjdiZWNrZXIyMDEzYSUyNyUyQyUyMCUyN3Njb3B1czIwMTYlMjclMkMlMjAlMjcxJTI3JTI5JTNC\")));\n",
       "    "
      ],
      "text/plain": [
       "<IPython.core.display.Javascript object>"
      ]
     },
     "metadata": {},
     "output_type": "display_data"
    },
    {
     "data": {
      "application/javascript": [
       "$('span:contains(\"# Temp\")').closest('.cell').remove();"
      ],
      "text/plain": [
       "<IPython.core.display.Javascript object>"
      ]
     },
     "metadata": {},
     "output_type": "display_data"
    },
    {
     "data": {
      "application/javascript": [
       "\n",
       "        $('span:contains(\"# Temp\")').closest('.cell').remove();\n",
       "        var code = IPython.notebook.insert_cell_below('code');\n",
       "        var prompt = code.element.find(\".input_prompt\");\n",
       "        prompt.append('<br><button style=\"height: 100%; width: 54px;\">Run</button>');\n",
       "        prompt.on(\"click\", \"button\", function(){\n",
       "            code.execute();\n",
       "        });\n",
       "        code.set_text(decodeURIComponent(window.atob(\"JTIzJTIwVGVtcCUwQWluc2VydCUyOCUyNyUyNyUyNyUyNyUyNyUyNyUyOSUzQiUwQXNldF9hdHRyaWJ1dGUlMjglMjdiZWNrZXIyMDEzYSUyNyUyQyUyMCUyN3ZvbHVtZSUyNyUyQyUyMCUyNzgyOTUlMjBMTkNTJTI3JTI5JTNCJTBBc2V0X2F0dHJpYnV0ZSUyOCUyN2JlY2tlcjIwMTNhJTI3JTJDJTIwJTI3bGluayUyNyUyQyUyMCUyN2h0dHBzJTNBLy93d3cuc2NvcHVzLmNvbS9pbndhcmQvcmVjb3JkLnVyaSUzRmVpZCUzRDItczIuMC04NDg5Mzc4ODQyNCUyNmRvaSUzRDEwLjEwMDclMjUyZjk3OC0zLTMxOS0wNDI0NC0yXzExJTI2cGFydG5lcklEJTNENDAlMjZtZDUlM0RhOGM0Y2Q5NzM5MGM5NTY2Yjc2NzllMTk5MWZmZTIxYiUyNyUyOSUzQiUwQXNldF9hdHRyaWJ1dGUlMjglMjdiZWNrZXIyMDEzYSUyNyUyQyUyMCUyN3Njb3B1czIwMTYlMjclMkMlMjAlMjcxJTI3JTI5JTNC\")));\n",
       "    "
      ],
      "text/plain": [
       "<IPython.core.display.Javascript object>"
      ]
     },
     "metadata": {},
     "output_type": "display_data"
    },
    {
     "data": {
      "application/javascript": [
       "$('span:contains(\"# Temp\")').closest('.cell').remove();"
      ],
      "text/plain": [
       "<IPython.core.display.Javascript object>"
      ]
     },
     "metadata": {},
     "output_type": "display_data"
    },
    {
     "data": {
      "application/javascript": [
       "\n",
       "        $('span:contains(\"# Temp\")').closest('.cell').remove();\n",
       "        var code = IPython.notebook.insert_cell_below('code');\n",
       "        var prompt = code.element.find(\".input_prompt\");\n",
       "        prompt.append('<br><button style=\"height: 100%; width: 54px;\">Run</button>');\n",
       "        prompt.on(\"click\", \"button\", function(){\n",
       "            code.execute();\n",
       "        });\n",
       "        code.set_text(decodeURIComponent(window.atob(\"JTIzJTIwVGVtcCUwQWluc2VydCUyOCUyNyUyNyUyNyUyNyUyNyUyNyUyOSUzQiUwQXNldF9hdHRyaWJ1dGUlMjglMjdzdGFsbGluZ2VyMjAxM2ElMjclMkMlMjAlMjdsaW5rJTI3JTJDJTIwJTI3aHR0cHMlM0EvL3d3dy5zY29wdXMuY29tL2lud2FyZC9yZWNvcmQudXJpJTNGZWlkJTNEMi1zMi4wLTg0ODg0NTAxODk2JTI2ZG9pJTNEMTAuMTAxNiUyNTJmai5jc2kuMjAxMy4wNy4wMDYlMjZwYXJ0bmVySUQlM0Q0MCUyNm1kNSUzRGIyNTFmNjI3MTE5MTk3ZWE1MmY0NTY1ZmEwNWY5ZTI2JTI3JTI5JTNCJTBBc2V0X2F0dHJpYnV0ZSUyOCUyN3N0YWxsaW5nZXIyMDEzYSUyNyUyQyUyMCUyN3Njb3B1czIwMTYlMjclMkMlMjAlMjcxJTI3JTI5JTNC\")));\n",
       "    "
      ],
      "text/plain": [
       "<IPython.core.display.Javascript object>"
      ]
     },
     "metadata": {},
     "output_type": "display_data"
    },
    {
     "data": {
      "application/javascript": [
       "$('span:contains(\"# Temp\")').closest('.cell').remove();"
      ],
      "text/plain": [
       "<IPython.core.display.Javascript object>"
      ]
     },
     "metadata": {},
     "output_type": "display_data"
    },
    {
     "data": {
      "application/javascript": [
       "\n",
       "        $('span:contains(\"# Temp\")').closest('.cell').remove();\n",
       "        var code = IPython.notebook.insert_cell_below('code');\n",
       "        var prompt = code.element.find(\".input_prompt\");\n",
       "        prompt.append('<br><button style=\"height: 100%; width: 54px;\">Run</button>');\n",
       "        prompt.on(\"click\", \"button\", function(){\n",
       "            code.execute();\n",
       "        });\n",
       "        code.set_text(decodeURIComponent(window.atob(\"JTIzJTIwVGVtcCUwQWluc2VydCUyOCUyNyUyNyUyNyUyNyUyNyUyNyUyOSUzQiUwQXNldF9hdHRyaWJ1dGUlMjglMjdzdGFsbGluZ2VyMjAxM2ElMjclMkMlMjAlMjdsaW5rJTI3JTJDJTIwJTI3aHR0cHMlM0EvL3d3dy5zY29wdXMuY29tL2lud2FyZC9yZWNvcmQudXJpJTNGZWlkJTNEMi1zMi4wLTg0ODg0NTAxODk2JTI2ZG9pJTNEMTAuMTAxNiUyNTJmai5jc2kuMjAxMy4wNy4wMDYlMjZwYXJ0bmVySUQlM0Q0MCUyNm1kNSUzRGIyNTFmNjI3MTE5MTk3ZWE1MmY0NTY1ZmEwNWY5ZTI2JTI3JTI5JTNCJTBBc2V0X2F0dHJpYnV0ZSUyOCUyN3N0YWxsaW5nZXIyMDEzYSUyNyUyQyUyMCUyN3Njb3B1czIwMTYlMjclMkMlMjAlMjcxJTI3JTI5JTNC\")));\n",
       "    "
      ],
      "text/plain": [
       "<IPython.core.display.Javascript object>"
      ]
     },
     "metadata": {},
     "output_type": "display_data"
    },
    {
     "data": {
      "application/javascript": [
       "$('span:contains(\"# Temp\")').closest('.cell').remove();"
      ],
      "text/plain": [
       "<IPython.core.display.Javascript object>"
      ]
     },
     "metadata": {},
     "output_type": "display_data"
    },
    {
     "data": {
      "application/javascript": [
       "\n",
       "        $('span:contains(\"# Temp\")').closest('.cell').remove();\n",
       "        var code = IPython.notebook.insert_cell_below('code');\n",
       "        var prompt = code.element.find(\".input_prompt\");\n",
       "        prompt.append('<br><button style=\"height: 100%; width: 54px;\">Run</button>');\n",
       "        prompt.on(\"click\", \"button\", function(){\n",
       "            code.execute();\n",
       "        });\n",
       "        code.set_text(decodeURIComponent(window.atob(\"JTIzJTIwVGVtcCUwQWluc2VydCUyOCUyNyUyNyUyNyUyNyUyNyUyNyUyOSUzQiUwQXNldF9hdHRyaWJ1dGUlMjglMjdwZXJuc3QlQzMlQTVsMjAxM2ElMjclMkMlMjAlMjdsaW5rJTI3JTJDJTIwJTI3aHR0cHMlM0EvL3d3dy5zY29wdXMuY29tL2lud2FyZC9yZWNvcmQudXJpJTNGZWlkJTNEMi1zMi4wLTg0ODg0MTYxNzY0JTI2ZG9pJTNEMTAuMTAxNiUyNTJmai5qc3MuMjAxMy4wNi4wMzUlMjZwYXJ0bmVySUQlM0Q0MCUyNm1kNSUzRDc2Njk4ZDdhYzNlOWU4MzAzYTNhODc2ODA0NmU2ZWNjJTI3JTI5JTNCJTBBc2V0X2F0dHJpYnV0ZSUyOCUyN3Blcm5zdCVDMyVBNWwyMDEzYSUyNyUyQyUyMCUyN3Njb3B1czIwMTYlMjclMkMlMjAlMjcxJTI3JTI5JTNC\")));\n",
       "    "
      ],
      "text/plain": [
       "<IPython.core.display.Javascript object>"
      ]
     },
     "metadata": {},
     "output_type": "display_data"
    },
    {
     "data": {
      "application/javascript": [
       "$('span:contains(\"# Temp\")').closest('.cell').remove();"
      ],
      "text/plain": [
       "<IPython.core.display.Javascript object>"
      ]
     },
     "metadata": {},
     "output_type": "display_data"
    },
    {
     "data": {
      "application/javascript": [
       "\n",
       "        $('span:contains(\"# Temp\")').closest('.cell').remove();\n",
       "        var code = IPython.notebook.insert_cell_below('code');\n",
       "        var prompt = code.element.find(\".input_prompt\");\n",
       "        prompt.append('<br><button style=\"height: 100%; width: 54px;\">Run</button>');\n",
       "        prompt.on(\"click\", \"button\", function(){\n",
       "            code.execute();\n",
       "        });\n",
       "        code.set_text(decodeURIComponent(window.atob(\"JTIzJTIwVGVtcCUwQWluc2VydCUyOCUyNyUyNyUyNyUyNyUyNyUyNyUyOSUzQiUwQXNldF9hdHRyaWJ1dGUlMjglMjdwZXJuc3QlQzMlQTVsMjAxM2ElMjclMkMlMjAlMjdsaW5rJTI3JTJDJTIwJTI3aHR0cHMlM0EvL3d3dy5zY29wdXMuY29tL2lud2FyZC9yZWNvcmQudXJpJTNGZWlkJTNEMi1zMi4wLTg0ODg0MTYxNzY0JTI2ZG9pJTNEMTAuMTAxNiUyNTJmai5qc3MuMjAxMy4wNi4wMzUlMjZwYXJ0bmVySUQlM0Q0MCUyNm1kNSUzRDc2Njk4ZDdhYzNlOWU4MzAzYTNhODc2ODA0NmU2ZWNjJTI3JTI5JTNCJTBBc2V0X2F0dHJpYnV0ZSUyOCUyN3Blcm5zdCVDMyVBNWwyMDEzYSUyNyUyQyUyMCUyN3Njb3B1czIwMTYlMjclMkMlMjAlMjcxJTI3JTI5JTNC\")));\n",
       "    "
      ],
      "text/plain": [
       "<IPython.core.display.Javascript object>"
      ]
     },
     "metadata": {},
     "output_type": "display_data"
    },
    {
     "data": {
      "application/javascript": [
       "$('span:contains(\"# Temp\")').closest('.cell').remove();"
      ],
      "text/plain": [
       "<IPython.core.display.Javascript object>"
      ]
     },
     "metadata": {},
     "output_type": "display_data"
    },
    {
     "data": {
      "application/javascript": [
       "\n",
       "        $('span:contains(\"# Temp\")').closest('.cell').remove();\n",
       "        var code = IPython.notebook.insert_cell_below('code');\n",
       "        var prompt = code.element.find(\".input_prompt\");\n",
       "        prompt.append('<br><button style=\"height: 100%; width: 54px;\">Run</button>');\n",
       "        prompt.on(\"click\", \"button\", function(){\n",
       "            code.execute();\n",
       "        });\n",
       "        code.set_text(decodeURIComponent(window.atob(\"JTIzJTIwVGVtcCUwQWluc2VydCUyOCUyNyUyNyUyNyUyNyUyNyUyNyUyOSUzQiUwQXNldF9hdHRyaWJ1dGUlMjglMjdnYXJjJUMzJUFEYTIwMTNhJTI3JTJDJTIwJTI3bGluayUyNyUyQyUyMCUyN2h0dHBzJTNBLy93d3cuc2NvcHVzLmNvbS9pbndhcmQvcmVjb3JkLnVyaSUzRmVpZCUzRDItczIuMC04NDg4NDQ5OTA3MSUyNmRvaSUzRDEwLjEwMTYlMjUyZmouY3NpLjIwMTMuMDcuMDA0JTI2cGFydG5lcklEJTNENDAlMjZtZDUlM0RmNjU1MWQ0NTA4NmE4OTcyYjM2NTE2NzAzNjczYWFkNyUyNyUyOSUzQiUwQXNldF9hdHRyaWJ1dGUlMjglMjdnYXJjJUMzJUFEYTIwMTNhJTI3JTJDJTIwJTI3c2NvcHVzMjAxNiUyNyUyQyUyMCUyNzElMjclMjklM0I=\")));\n",
       "    "
      ],
      "text/plain": [
       "<IPython.core.display.Javascript object>"
      ]
     },
     "metadata": {},
     "output_type": "display_data"
    },
    {
     "data": {
      "application/javascript": [
       "$('span:contains(\"# Temp\")').closest('.cell').remove();"
      ],
      "text/plain": [
       "<IPython.core.display.Javascript object>"
      ]
     },
     "metadata": {},
     "output_type": "display_data"
    },
    {
     "data": {
      "application/javascript": [
       "\n",
       "        $('span:contains(\"# Temp\")').closest('.cell').remove();\n",
       "        var code = IPython.notebook.insert_cell_below('code');\n",
       "        var prompt = code.element.find(\".input_prompt\");\n",
       "        prompt.append('<br><button style=\"height: 100%; width: 54px;\">Run</button>');\n",
       "        prompt.on(\"click\", \"button\", function(){\n",
       "            code.execute();\n",
       "        });\n",
       "        code.set_text(decodeURIComponent(window.atob(\"JTIzJTIwVGVtcCUwQWluc2VydCUyOCUyNyUyNyUyNyUyNyUyNyUyNyUyOSUzQiUwQXNldF9hdHRyaWJ1dGUlMjglMjdnYXJjJUMzJUFEYTIwMTNhJTI3JTJDJTIwJTI3bGluayUyNyUyQyUyMCUyN2h0dHBzJTNBLy93d3cuc2NvcHVzLmNvbS9pbndhcmQvcmVjb3JkLnVyaSUzRmVpZCUzRDItczIuMC04NDg4NDQ5OTA3MSUyNmRvaSUzRDEwLjEwMTYlMjUyZmouY3NpLjIwMTMuMDcuMDA0JTI2cGFydG5lcklEJTNENDAlMjZtZDUlM0RmNjU1MWQ0NTA4NmE4OTcyYjM2NTE2NzAzNjczYWFkNyUyNyUyOSUzQiUwQXNldF9hdHRyaWJ1dGUlMjglMjdnYXJjJUMzJUFEYTIwMTNhJTI3JTJDJTIwJTI3c2NvcHVzMjAxNiUyNyUyQyUyMCUyNzElMjclMjklM0I=\")));\n",
       "    "
      ],
      "text/plain": [
       "<IPython.core.display.Javascript object>"
      ]
     },
     "metadata": {},
     "output_type": "display_data"
    },
    {
     "data": {
      "application/javascript": [
       "$('span:contains(\"# Temp\")').closest('.cell').remove();"
      ],
      "text/plain": [
       "<IPython.core.display.Javascript object>"
      ]
     },
     "metadata": {},
     "output_type": "display_data"
    },
    {
     "data": {
      "application/javascript": [
       "\n",
       "        $('span:contains(\"# Temp\")').closest('.cell').remove();\n",
       "        var code = IPython.notebook.insert_cell_below('code');\n",
       "        var prompt = code.element.find(\".input_prompt\");\n",
       "        prompt.append('<br><button style=\"height: 100%; width: 54px;\">Run</button>');\n",
       "        prompt.on(\"click\", \"button\", function(){\n",
       "            code.execute();\n",
       "        });\n",
       "        code.set_text(decodeURIComponent(window.atob(\"JTIzJTIwVGVtcCUwQWluc2VydCUyOCUyNyUyNyUyNyUyNyUyNyUyNyUyOSUzQiUwQXNldF9hdHRyaWJ1dGUlMjglMjdidWdsaW9uZTIwMTNhJTI3JTJDJTIwJTI3bGluayUyNyUyQyUyMCUyN2h0dHBzJTNBLy93d3cuc2NvcHVzLmNvbS9pbndhcmQvcmVjb3JkLnVyaSUzRmVpZCUzRDItczIuMC04NDg4NDUwMTYzOSUyNmRvaSUzRDEwLjEwMTYlMjUyZmouY3NpLjIwMTMuMDcuMDA4JTI2cGFydG5lcklEJTNENDAlMjZtZDUlM0QyMWI0ODc3ZTg1ZDEyYzA1ZGIxNWVjODBhZmYxZTMzYiUyNyUyOSUzQiUwQXNldF9hdHRyaWJ1dGUlMjglMjdidWdsaW9uZTIwMTNhJTI3JTJDJTIwJTI3c2NvcHVzMjAxNiUyNyUyQyUyMCUyNzElMjclMjklM0I=\")));\n",
       "    "
      ],
      "text/plain": [
       "<IPython.core.display.Javascript object>"
      ]
     },
     "metadata": {},
     "output_type": "display_data"
    },
    {
     "data": {
      "application/javascript": [
       "$('span:contains(\"# Temp\")').closest('.cell').remove();"
      ],
      "text/plain": [
       "<IPython.core.display.Javascript object>"
      ]
     },
     "metadata": {},
     "output_type": "display_data"
    },
    {
     "data": {
      "application/javascript": [
       "\n",
       "        $('span:contains(\"# Temp\")').closest('.cell').remove();\n",
       "        var code = IPython.notebook.insert_cell_below('code');\n",
       "        var prompt = code.element.find(\".input_prompt\");\n",
       "        prompt.append('<br><button style=\"height: 100%; width: 54px;\">Run</button>');\n",
       "        prompt.on(\"click\", \"button\", function(){\n",
       "            code.execute();\n",
       "        });\n",
       "        code.set_text(decodeURIComponent(window.atob(\"JTIzJTIwVGVtcCUwQWluc2VydCUyOCUyNyUyNyUyNyUyNyUyNyUyNyUyOSUzQiUwQXNldF9hdHRyaWJ1dGUlMjglMjdidWdsaW9uZTIwMTNhJTI3JTJDJTIwJTI3bGluayUyNyUyQyUyMCUyN2h0dHBzJTNBLy93d3cuc2NvcHVzLmNvbS9pbndhcmQvcmVjb3JkLnVyaSUzRmVpZCUzRDItczIuMC04NDg4NDUwMTYzOSUyNmRvaSUzRDEwLjEwMTYlMjUyZmouY3NpLjIwMTMuMDcuMDA4JTI2cGFydG5lcklEJTNENDAlMjZtZDUlM0QyMWI0ODc3ZTg1ZDEyYzA1ZGIxNWVjODBhZmYxZTMzYiUyNyUyOSUzQiUwQXNldF9hdHRyaWJ1dGUlMjglMjdidWdsaW9uZTIwMTNhJTI3JTJDJTIwJTI3c2NvcHVzMjAxNiUyNyUyQyUyMCUyNzElMjclMjklM0I=\")));\n",
       "    "
      ],
      "text/plain": [
       "<IPython.core.display.Javascript object>"
      ]
     },
     "metadata": {},
     "output_type": "display_data"
    },
    {
     "data": {
      "application/javascript": [
       "$('span:contains(\"# Temp\")').closest('.cell').remove();"
      ],
      "text/plain": [
       "<IPython.core.display.Javascript object>"
      ]
     },
     "metadata": {},
     "output_type": "display_data"
    },
    {
     "data": {
      "application/javascript": [
       "\n",
       "        $('span:contains(\"# Temp\")').closest('.cell').remove();\n",
       "        var code = IPython.notebook.insert_cell_below('code');\n",
       "        var prompt = code.element.find(\".input_prompt\");\n",
       "        prompt.append('<br><button style=\"height: 100%; width: 54px;\">Run</button>');\n",
       "        prompt.on(\"click\", \"button\", function(){\n",
       "            code.execute();\n",
       "        });\n",
       "        code.set_text(decodeURIComponent(window.atob(\"JTIzJTIwVGVtcCUwQWluc2VydCUyOCUyNyUyNyUyNyUyNyUyNyUyNyUyOSUzQiUwQXNldF9hdHRyaWJ1dGUlMjglMjdqZW5lcnMyMDEzYiUyNyUyQyUyMCUyN3BwJTI3JTJDJTIwJTI3MTUtMjQlMjclMjklM0IlMEFzZXRfYXR0cmlidXRlJTI4JTI3amVuZXJzMjAxM2IlMjclMkMlMjAlMjdsaW5rJTI3JTJDJTIwJTI3aHR0cHMlM0EvL3d3dy5zY29wdXMuY29tL2lud2FyZC9yZWNvcmQudXJpJTNGZWlkJTNEMi1zMi4wLTg0ODg1MTY3NjA5JTI2ZG9pJTNEMTAuNTI3NyUyNTJmZS1JbmYxMzAxMDIlMjZwYXJ0bmVySUQlM0Q0MCUyNm1kNSUzRGU1OThhODZhYTRlM2I3NTMzMTVhNjQ0ZjVlMDIzZGQzJTI3JTI5JTNCJTBBc2V0X2F0dHJpYnV0ZSUyOCUyN2plbmVyczIwMTNiJTI3JTJDJTIwJTI3c2NvcHVzMjAxNiUyNyUyQyUyMCUyNzElMjclMjklM0I=\")));\n",
       "    "
      ],
      "text/plain": [
       "<IPython.core.display.Javascript object>"
      ]
     },
     "metadata": {},
     "output_type": "display_data"
    },
    {
     "data": {
      "application/javascript": [
       "$('span:contains(\"# Temp\")').closest('.cell').remove();"
      ],
      "text/plain": [
       "<IPython.core.display.Javascript object>"
      ]
     },
     "metadata": {},
     "output_type": "display_data"
    },
    {
     "data": {
      "application/javascript": [
       "\n",
       "        $('span:contains(\"# Temp\")').closest('.cell').remove();\n",
       "        var code = IPython.notebook.insert_cell_below('code');\n",
       "        var prompt = code.element.find(\".input_prompt\");\n",
       "        prompt.append('<br><button style=\"height: 100%; width: 54px;\">Run</button>');\n",
       "        prompt.on(\"click\", \"button\", function(){\n",
       "            code.execute();\n",
       "        });\n",
       "        code.set_text(decodeURIComponent(window.atob(\"JTIzJTIwVGVtcCUwQWluc2VydCUyOCUyNyUyNyUyNyUyNyUyNyUyNyUyOSUzQiUwQXNldF9hdHRyaWJ1dGUlMjglMjdqZW5lcnMyMDEzYiUyNyUyQyUyMCUyN3BwJTI3JTJDJTIwJTI3MTUtMjQlMjclMjklM0IlMEFzZXRfYXR0cmlidXRlJTI4JTI3amVuZXJzMjAxM2IlMjclMkMlMjAlMjdsaW5rJTI3JTJDJTIwJTI3aHR0cHMlM0EvL3d3dy5zY29wdXMuY29tL2lud2FyZC9yZWNvcmQudXJpJTNGZWlkJTNEMi1zMi4wLTg0ODg1MTY3NjA5JTI2ZG9pJTNEMTAuNTI3NyUyNTJmZS1JbmYxMzAxMDIlMjZwYXJ0bmVySUQlM0Q0MCUyNm1kNSUzRGU1OThhODZhYTRlM2I3NTMzMTVhNjQ0ZjVlMDIzZGQzJTI3JTI5JTNCJTBBc2V0X2F0dHJpYnV0ZSUyOCUyN2plbmVyczIwMTNiJTI3JTJDJTIwJTI3c2NvcHVzMjAxNiUyNyUyQyUyMCUyNzElMjclMjklM0I=\")));\n",
       "    "
      ],
      "text/plain": [
       "<IPython.core.display.Javascript object>"
      ]
     },
     "metadata": {},
     "output_type": "display_data"
    },
    {
     "data": {
      "application/javascript": [
       "$('span:contains(\"# Temp\")').closest('.cell').remove();"
      ],
      "text/plain": [
       "<IPython.core.display.Javascript object>"
      ]
     },
     "metadata": {},
     "output_type": "display_data"
    },
    {
     "data": {
      "application/javascript": [
       "\n",
       "        $('span:contains(\"# Temp\")').closest('.cell').remove();\n",
       "        var code = IPython.notebook.insert_cell_below('code');\n",
       "        var prompt = code.element.find(\".input_prompt\");\n",
       "        prompt.append('<br><button style=\"height: 100%; width: 54px;\">Run</button>');\n",
       "        prompt.on(\"click\", \"button\", function(){\n",
       "            code.execute();\n",
       "        });\n",
       "        code.set_text(decodeURIComponent(window.atob(\"JTIzJTIwVGVtcCUwQWluc2VydCUyOCUyNyUyNyUyNyUyNyUyNyUyNyUyOSUzQiUwQXNldF9hdHRyaWJ1dGUlMjglMjdtZW5vbGxpMjAxM2ElMjclMkMlMjAlMjdsaW5rJTI3JTJDJTIwJTI3aHR0cHMlM0EvL3d3dy5zY29wdXMuY29tL2lud2FyZC9yZWNvcmQudXJpJTNGZWlkJTNEMi1zMi4wLTg0ODk0MTUwNzEwJTI2ZG9pJTNEMTAuMTE0MiUyNTJmUzAyMTgxOTQwMTM1MDAzNTYlMjZwYXJ0bmVySUQlM0Q0MCUyNm1kNSUzRGUzYzBkM2FlZGM3NmJlZGI1ODE2NGIyMzNiZjM3OWZkJTI3JTI5JTNCJTBBc2V0X2F0dHJpYnV0ZSUyOCUyN21lbm9sbGkyMDEzYSUyNyUyQyUyMCUyN3Njb3B1czIwMTYlMjclMkMlMjAlMjcxJTI3JTI5JTNC\")));\n",
       "    "
      ],
      "text/plain": [
       "<IPython.core.display.Javascript object>"
      ]
     },
     "metadata": {},
     "output_type": "display_data"
    },
    {
     "data": {
      "application/javascript": [
       "$('span:contains(\"# Temp\")').closest('.cell').remove();"
      ],
      "text/plain": [
       "<IPython.core.display.Javascript object>"
      ]
     },
     "metadata": {},
     "output_type": "display_data"
    },
    {
     "data": {
      "application/javascript": [
       "\n",
       "        $('span:contains(\"# Temp\")').closest('.cell').remove();\n",
       "        var code = IPython.notebook.insert_cell_below('code');\n",
       "        var prompt = code.element.find(\".input_prompt\");\n",
       "        prompt.append('<br><button style=\"height: 100%; width: 54px;\">Run</button>');\n",
       "        prompt.on(\"click\", \"button\", function(){\n",
       "            code.execute();\n",
       "        });\n",
       "        code.set_text(decodeURIComponent(window.atob(\"JTIzJTIwVGVtcCUwQWluc2VydCUyOCUyNyUyNyUyNyUyNyUyNyUyNyUyOSUzQiUwQXNldF9hdHRyaWJ1dGUlMjglMjdtZW5vbGxpMjAxM2ElMjclMkMlMjAlMjdsaW5rJTI3JTJDJTIwJTI3aHR0cHMlM0EvL3d3dy5zY29wdXMuY29tL2lud2FyZC9yZWNvcmQudXJpJTNGZWlkJTNEMi1zMi4wLTg0ODk0MTUwNzEwJTI2ZG9pJTNEMTAuMTE0MiUyNTJmUzAyMTgxOTQwMTM1MDAzNTYlMjZwYXJ0bmVySUQlM0Q0MCUyNm1kNSUzRGUzYzBkM2FlZGM3NmJlZGI1ODE2NGIyMzNiZjM3OWZkJTI3JTI5JTNCJTBBc2V0X2F0dHJpYnV0ZSUyOCUyN21lbm9sbGkyMDEzYSUyNyUyQyUyMCUyN3Njb3B1czIwMTYlMjclMkMlMjAlMjcxJTI3JTI5JTNC\")));\n",
       "    "
      ],
      "text/plain": [
       "<IPython.core.display.Javascript object>"
      ]
     },
     "metadata": {},
     "output_type": "display_data"
    },
    {
     "data": {
      "application/javascript": [
       "$('span:contains(\"# Temp\")').closest('.cell').remove();"
      ],
      "text/plain": [
       "<IPython.core.display.Javascript object>"
      ]
     },
     "metadata": {},
     "output_type": "display_data"
    },
    {
     "data": {
      "application/javascript": [
       "\n",
       "        $('span:contains(\"# Temp\")').closest('.cell').remove();\n",
       "        var code = IPython.notebook.insert_cell_below('code');\n",
       "        var prompt = code.element.find(\".input_prompt\");\n",
       "        prompt.append('<br><button style=\"height: 100%; width: 54px;\">Run</button>');\n",
       "        prompt.on(\"click\", \"button\", function(){\n",
       "            code.execute();\n",
       "        });\n",
       "        code.set_text(decodeURIComponent(window.atob(\"JTIzJTIwVGVtcCUwQWluc2VydCUyOCUyNyUyNyUyNyUwQWNhcnJpbGxvMjAxM2ElMjAlM0QlMjBEQiUyOFdvcmtVbnJlbGF0ZWQlMjglMEElMjAlMjAlMjAlMjAyMDEzJTJDJTIwJTIyRW5naW5lZXJpbmclMjBhbmQlMjByZWVuZ2luZWVyaW5nJTIwb2YlMjB0ZWNobm9sb2d5JTIwZW5oYW5jZWQlMjBsZWFybmluZyUyMHNjZW5hcmlvcyUyMHVzaW5nJTIwY29udGV4dCUyMGF3YXJlbmVzcyUyMHByb2Nlc3NlcyUyMiUyQyUwQSUyMCUyMCUyMCUyMGRpc3BsYXklM0QlMjJjYXJyaWxsbyUyMiUyQyUwQSUyMCUyMCUyMCUyMGF1dGhvcnMlM0QlMjJEZSUyMENhcnJpbGxvJTJDJTIwQy5JLlAuJTIwYW5kJTIwSmFjb2JvbmklMkMlMjBQLiUyMGFuZCUyMENob3F1ZXQlMkMlMjBDLiUyMGFuZCUyMExla2lyYSUyQyUyMEEuJTIwYW5kJTIwRGVzcHIlQzMlQTlzJTJDJTIwQy4lMjBhbmQlMjBPdXJhaWJhJTJDJTIwRS5BLiUyMGFuZCUyMElrc2FsJTJDJTIwUy4lMjBhbmQlMjBUaGktTmdvYyUyQyUyMEQuUC4lMjIlMkMlMEElMjAlMjAlMjAlMjBwbGFjZSUzREJvb2slMkMlMEElMjAlMjAlMjAlMjBwcCUzRCUyMjEyODktMTMxMyUyMiUyQyUwQSUyMCUyMCUyMCUyMGVudHJ5dHlwZSUzRCUyMmJvb2slMjIlMkMlMEElMjAlMjAlMjAlMjB2b2x1bWUlM0QlMjIzLTQlMjIlMkMlMEElMjAlMjAlMjAlMjBsaW5rJTNEJTIyaHR0cHMlM0EvL3d3dy5zY29wdXMuY29tL2lud2FyZC9yZWNvcmQudXJpJTNGZWlkJTNEMi1zMi4wLTg0OTQ0Njc2ODAzJTI2ZG9pJTNEMTAuNDAxOCUyNTJmOTc4LTEtNDY2Ni00MzAxLTcuY2gwNjMlMjZwYXJ0bmVySUQlM0Q0MCUyNm1kNSUzRDAxYjkyMDNiOTlkOWJkN2E2NTViNzlmOTk3OTQ0OTUxJTIyJTJDJTBBJTIwJTIwJTIwJTIwSUQlM0QlMjJEZUNhcnJpbGxvMjAxMzEyODklMjIlMkMlMEElMjAlMjAlMjAlMjBzY29wdXMyMDE2JTNEJTIyMSUyMiUyQyUwQSUyMCUyMCUyMCUyMHBsYWNleCUzRCUyMlNvZnR3YXJlJTIwRGVzaWduJTIwYW5kJTIwRGV2ZWxvcG1lbnQlM0ElMjBDb25jZXB0cyUyQyUyME1ldGhvZG9sb2dpZXMlMkMlMjBUb29scyUyQyUyMGFuZCUyMEFwcGxpY2F0aW9ucyUyMiUyQyUwQSUyOSUyOSUwQSUyNyUyNyUyNyUyOSUzQg==\")));\n",
       "    "
      ],
      "text/plain": [
       "<IPython.core.display.Javascript object>"
      ]
     },
     "metadata": {},
     "output_type": "display_data"
    },
    {
     "data": {
      "application/javascript": [
       "$('span:contains(\"# Temp\")').closest('.cell').remove();"
      ],
      "text/plain": [
       "<IPython.core.display.Javascript object>"
      ]
     },
     "metadata": {},
     "output_type": "display_data"
    },
    {
     "data": {
      "application/javascript": [
       "\n",
       "        $('span:contains(\"# Temp\")').closest('.cell').remove();\n",
       "        var code = IPython.notebook.insert_cell_below('code');\n",
       "        var prompt = code.element.find(\".input_prompt\");\n",
       "        prompt.append('<br><button style=\"height: 100%; width: 54px;\">Run</button>');\n",
       "        prompt.on(\"click\", \"button\", function(){\n",
       "            code.execute();\n",
       "        });\n",
       "        code.set_text(decodeURIComponent(window.atob(\"JTIzJTIwVGVtcCUwQWluc2VydCUyOCUyNyUyNyUyNyUwQWNhcnJpbGxvMjAxM2ElMjAlM0QlMjBEQiUyOFdvcmtVbnJlbGF0ZWQlMjglMEElMjAlMjAlMjAlMjAyMDEzJTJDJTIwJTIyRW5naW5lZXJpbmclMjBhbmQlMjByZWVuZ2luZWVyaW5nJTIwb2YlMjB0ZWNobm9sb2d5JTIwZW5oYW5jZWQlMjBsZWFybmluZyUyMHNjZW5hcmlvcyUyMHVzaW5nJTIwY29udGV4dCUyMGF3YXJlbmVzcyUyMHByb2Nlc3NlcyUyMiUyQyUwQSUyMCUyMCUyMCUyMGRpc3BsYXklM0QlMjJjYXJyaWxsbyUyMiUyQyUwQSUyMCUyMCUyMCUyMGF1dGhvcnMlM0QlMjJEZSUyMENhcnJpbGxvJTJDJTIwQy5JLlAuJTIwYW5kJTIwSmFjb2JvbmklMkMlMjBQLiUyMGFuZCUyMENob3F1ZXQlMkMlMjBDLiUyMGFuZCUyMExla2lyYSUyQyUyMEEuJTIwYW5kJTIwRGVzcHIlQzMlQTlzJTJDJTIwQy4lMjBhbmQlMjBPdXJhaWJhJTJDJTIwRS5BLiUyMGFuZCUyMElrc2FsJTJDJTIwUy4lMjBhbmQlMjBUaGktTmdvYyUyQyUyMEQuUC4lMjIlMkMlMEElMjAlMjAlMjAlMjBwbGFjZSUzREJvb2slMkMlMEElMjAlMjAlMjAlMjBwcCUzRCUyMjEyODktMTMxMyUyMiUyQyUwQSUyMCUyMCUyMCUyMGVudHJ5dHlwZSUzRCUyMmJvb2slMjIlMkMlMEElMjAlMjAlMjAlMjB2b2x1bWUlM0QlMjIzLTQlMjIlMkMlMEElMjAlMjAlMjAlMjBsaW5rJTNEJTIyaHR0cHMlM0EvL3d3dy5zY29wdXMuY29tL2lud2FyZC9yZWNvcmQudXJpJTNGZWlkJTNEMi1zMi4wLTg0OTQ0Njc2ODAzJTI2ZG9pJTNEMTAuNDAxOCUyNTJmOTc4LTEtNDY2Ni00MzAxLTcuY2gwNjMlMjZwYXJ0bmVySUQlM0Q0MCUyNm1kNSUzRDAxYjkyMDNiOTlkOWJkN2E2NTViNzlmOTk3OTQ0OTUxJTIyJTJDJTBBJTIwJTIwJTIwJTIwSUQlM0QlMjJEZUNhcnJpbGxvMjAxMzEyODklMjIlMkMlMEElMjAlMjAlMjAlMjBzY29wdXMyMDE2JTNEJTIyMSUyMiUyQyUwQSUyMCUyMCUyMCUyMHBsYWNleCUzRCUyMlNvZnR3YXJlJTIwRGVzaWduJTIwYW5kJTIwRGV2ZWxvcG1lbnQlM0ElMjBDb25jZXB0cyUyQyUyME1ldGhvZG9sb2dpZXMlMkMlMjBUb29scyUyQyUyMGFuZCUyMEFwcGxpY2F0aW9ucyUyMiUyQyUwQSUyOSUyOSUwQSUyNyUyNyUyNyUyOSUzQg==\")));\n",
       "    "
      ],
      "text/plain": [
       "<IPython.core.display.Javascript object>"
      ]
     },
     "metadata": {},
     "output_type": "display_data"
    },
    {
     "data": {
      "application/javascript": [
       "$('span:contains(\"# Temp\")').closest('.cell').remove();"
      ],
      "text/plain": [
       "<IPython.core.display.Javascript object>"
      ]
     },
     "metadata": {},
     "output_type": "display_data"
    },
    {
     "data": {
      "application/javascript": [
       "\n",
       "        $('span:contains(\"# Temp\")').closest('.cell').remove();\n",
       "        var code = IPython.notebook.insert_cell_below('code');\n",
       "        var prompt = code.element.find(\".input_prompt\");\n",
       "        prompt.append('<br><button style=\"height: 100%; width: 54px;\">Run</button>');\n",
       "        prompt.on(\"click\", \"button\", function(){\n",
       "            code.execute();\n",
       "        });\n",
       "        code.set_text(decodeURIComponent(window.atob(\"JTIzJTIwVGVtcCUwQWluc2VydCUyOCUyNyUyNyUyNyUwQW1vcm9zMjAxM2ElMjAlM0QlMjBEQiUyOFdvcmtVbnJlbGF0ZWQlMjglMEElMjAlMjAlMjAlMjAyMDEzJTJDJTIwJTIyVHJhbnNmb3JtaW5nJTIwYW5kJTIwdHJhY2luZyUyMHJldXNlZCUyMHJlcXVpcmVtZW50cyUyMG1vZGVscyUyMHRvJTIwaG9tZSUyMGF1dG9tYXRpb24lMjBtb2RlbHMlMjIlMkMlMEElMjAlMjAlMjAlMjBkaXNwbGF5JTNEJTIybW9yb3MlMjIlMkMlMEElMjAlMjAlMjAlMjBhdXRob3JzJTNEJTIyTW9yb3MlMkMlMjBCLiUyMGFuZCUyMFRvdmFsJTJDJTIwQS4lMjBhbmQlMjBSb3NpcXVlJTJDJTIwRi4lMjBhbmQlMjBTJUMzJUExbmNoZXolMkMlMjBQLiUyMiUyQyUwQSUyMCUyMCUyMCUyMHBsYWNlJTNESVNUJTJDJTBBJTIwJTIwJTIwJTIwcHAlM0QlMjI5NDEtOTY1JTIyJTJDJTBBJTIwJTIwJTIwJTIwZW50cnl0eXBlJTNEJTIyYXJ0aWNsZSUyMiUyQyUwQSUyMCUyMCUyMCUyMHZvbHVtZSUzRCUyMjU1JTIyJTJDJTBBJTIwJTIwJTIwJTIwbnVtYmVyJTNEJTIyNiUyMiUyQyUwQSUyMCUyMCUyMCUyMGxpbmslM0QlMjJodHRwcyUzQS8vd3d3LnNjb3B1cy5jb20vaW53YXJkL3JlY29yZC51cmklM0ZlaWQlM0QyLXMyLjAtODQ4NzYyODMzMjQlMjZkb2klM0QxMC4xMDE2JTI1MmZqLmluZnNvZi4yMDEyLjEyLjAwMyUyNnBhcnRuZXJJRCUzRDQwJTI2bWQ1JTNEZTIzMDM0NWFmMGI5YTY0YjkyYzhjNTExMDMzMTAwMDElMjIlMkMlMEElMjAlMjAlMjAlMjBJRCUzRCUyMk1vcm9zMjAxMzk0MSUyMiUyQyUwQSUyMCUyMCUyMCUyMHNjb3B1czIwMTYlM0QlMjIxJTIyJTJDJTBBJTIwJTIwJTIwJTIwcGxhY2V4JTNEJTIySW5mb3JtYXRpb24lMjBhbmQlMjBTb2Z0d2FyZSUyMFRlY2hub2xvZ3klMjIlMkMlMEElMjklMjklMEElMjclMjclMjclMjklM0I=\")));\n",
       "    "
      ],
      "text/plain": [
       "<IPython.core.display.Javascript object>"
      ]
     },
     "metadata": {},
     "output_type": "display_data"
    },
    {
     "data": {
      "application/javascript": [
       "$('span:contains(\"# Temp\")').closest('.cell').remove();"
      ],
      "text/plain": [
       "<IPython.core.display.Javascript object>"
      ]
     },
     "metadata": {},
     "output_type": "display_data"
    },
    {
     "data": {
      "application/javascript": [
       "\n",
       "        $('span:contains(\"# Temp\")').closest('.cell').remove();\n",
       "        var code = IPython.notebook.insert_cell_below('code');\n",
       "        var prompt = code.element.find(\".input_prompt\");\n",
       "        prompt.append('<br><button style=\"height: 100%; width: 54px;\">Run</button>');\n",
       "        prompt.on(\"click\", \"button\", function(){\n",
       "            code.execute();\n",
       "        });\n",
       "        code.set_text(decodeURIComponent(window.atob(\"JTIzJTIwVGVtcCUwQWluc2VydCUyOCUyNyUyNyUyNyUwQW1vcm9zMjAxM2ElMjAlM0QlMjBEQiUyOFdvcmtVbnJlbGF0ZWQlMjglMEElMjAlMjAlMjAlMjAyMDEzJTJDJTIwJTIyVHJhbnNmb3JtaW5nJTIwYW5kJTIwdHJhY2luZyUyMHJldXNlZCUyMHJlcXVpcmVtZW50cyUyMG1vZGVscyUyMHRvJTIwaG9tZSUyMGF1dG9tYXRpb24lMjBtb2RlbHMlMjIlMkMlMEElMjAlMjAlMjAlMjBkaXNwbGF5JTNEJTIybW9yb3MlMjIlMkMlMEElMjAlMjAlMjAlMjBhdXRob3JzJTNEJTIyTW9yb3MlMkMlMjBCLiUyMGFuZCUyMFRvdmFsJTJDJTIwQS4lMjBhbmQlMjBSb3NpcXVlJTJDJTIwRi4lMjBhbmQlMjBTJUMzJUExbmNoZXolMkMlMjBQLiUyMiUyQyUwQSUyMCUyMCUyMCUyMHBsYWNlJTNESVNUJTJDJTBBJTIwJTIwJTIwJTIwcHAlM0QlMjI5NDEtOTY1JTIyJTJDJTBBJTIwJTIwJTIwJTIwZW50cnl0eXBlJTNEJTIyYXJ0aWNsZSUyMiUyQyUwQSUyMCUyMCUyMCUyMHZvbHVtZSUzRCUyMjU1JTIyJTJDJTBBJTIwJTIwJTIwJTIwbnVtYmVyJTNEJTIyNiUyMiUyQyUwQSUyMCUyMCUyMCUyMGxpbmslM0QlMjJodHRwcyUzQS8vd3d3LnNjb3B1cy5jb20vaW53YXJkL3JlY29yZC51cmklM0ZlaWQlM0QyLXMyLjAtODQ4NzYyODMzMjQlMjZkb2klM0QxMC4xMDE2JTI1MmZqLmluZnNvZi4yMDEyLjEyLjAwMyUyNnBhcnRuZXJJRCUzRDQwJTI2bWQ1JTNEZTIzMDM0NWFmMGI5YTY0YjkyYzhjNTExMDMzMTAwMDElMjIlMkMlMEElMjAlMjAlMjAlMjBJRCUzRCUyMk1vcm9zMjAxMzk0MSUyMiUyQyUwQSUyMCUyMCUyMCUyMHNjb3B1czIwMTYlM0QlMjIxJTIyJTJDJTBBJTIwJTIwJTIwJTIwcGxhY2V4JTNEJTIySW5mb3JtYXRpb24lMjBhbmQlMjBTb2Z0d2FyZSUyMFRlY2hub2xvZ3klMjIlMkMlMEElMjklMjklMEElMjclMjclMjclMjklM0I=\")));\n",
       "    "
      ],
      "text/plain": [
       "<IPython.core.display.Javascript object>"
      ]
     },
     "metadata": {},
     "output_type": "display_data"
    },
    {
     "data": {
      "application/javascript": [
       "$('span:contains(\"# Temp\")').closest('.cell').remove();"
      ],
      "text/plain": [
       "<IPython.core.display.Javascript object>"
      ]
     },
     "metadata": {},
     "output_type": "display_data"
    },
    {
     "data": {
      "application/javascript": [
       "\n",
       "        $('span:contains(\"# Temp\")').closest('.cell').remove();\n",
       "        var code = IPython.notebook.insert_cell_below('code');\n",
       "        var prompt = code.element.find(\".input_prompt\");\n",
       "        prompt.append('<br><button style=\"height: 100%; width: 54px;\">Run</button>');\n",
       "        prompt.on(\"click\", \"button\", function(){\n",
       "            code.execute();\n",
       "        });\n",
       "        code.set_text(decodeURIComponent(window.atob(\"JTIzJTIwVGVtcCUwQWluc2VydCUyOCUyNyUyNyUyNyUyNyUyNyUyNyUyOSUzQiUwQXNldF9hdHRyaWJ1dGUlMjglMjdlaXRvMjAxM2ElMjclMkMlMjAlMjd2b2x1bWUlMjclMkMlMjAlMjczNDklMjBDQ0lTJTI3JTI5JTNCJTBBc2V0X2F0dHJpYnV0ZSUyOCUyN2VpdG8yMDEzYSUyNyUyQyUyMCUyN2xpbmslMjclMkMlMjAlMjdodHRwcyUzQS8vd3d3LnNjb3B1cy5jb20vaW53YXJkL3JlY29yZC51cmklM0ZlaWQlM0QyLXMyLjAtODQ5MDQ1OTY0NTglMjZkb2klM0QxMC4xMDA3JTI1MmY5NzgtMy02NDItMzg4MzMtMF84JTI2cGFydG5lcklEJTNENDAlMjZtZDUlM0QzMDRjYjhhNmY2OGNjNTFlMTAxMDliMjAxNGNjOTI0OCUyNyUyOSUzQiUwQXNldF9hdHRyaWJ1dGUlMjglMjdlaXRvMjAxM2ElMjclMkMlMjAlMjdzY29wdXMyMDE2JTI3JTJDJTIwJTI3MSUyNyUyOSUzQg==\")));\n",
       "    "
      ],
      "text/plain": [
       "<IPython.core.display.Javascript object>"
      ]
     },
     "metadata": {},
     "output_type": "display_data"
    },
    {
     "data": {
      "application/javascript": [
       "$('span:contains(\"# Temp\")').closest('.cell').remove();"
      ],
      "text/plain": [
       "<IPython.core.display.Javascript object>"
      ]
     },
     "metadata": {},
     "output_type": "display_data"
    },
    {
     "data": {
      "application/javascript": [
       "\n",
       "        $('span:contains(\"# Temp\")').closest('.cell').remove();\n",
       "        var code = IPython.notebook.insert_cell_below('code');\n",
       "        var prompt = code.element.find(\".input_prompt\");\n",
       "        prompt.append('<br><button style=\"height: 100%; width: 54px;\">Run</button>');\n",
       "        prompt.on(\"click\", \"button\", function(){\n",
       "            code.execute();\n",
       "        });\n",
       "        code.set_text(decodeURIComponent(window.atob(\"JTIzJTIwVGVtcCUwQWluc2VydCUyOCUyNyUyNyUyNyUyNyUyNyUyNyUyOSUzQiUwQXNldF9hdHRyaWJ1dGUlMjglMjdlaXRvMjAxM2ElMjclMkMlMjAlMjd2b2x1bWUlMjclMkMlMjAlMjczNDklMjBDQ0lTJTI3JTI5JTNCJTBBc2V0X2F0dHJpYnV0ZSUyOCUyN2VpdG8yMDEzYSUyNyUyQyUyMCUyN2xpbmslMjclMkMlMjAlMjdodHRwcyUzQS8vd3d3LnNjb3B1cy5jb20vaW53YXJkL3JlY29yZC51cmklM0ZlaWQlM0QyLXMyLjAtODQ5MDQ1OTY0NTglMjZkb2klM0QxMC4xMDA3JTI1MmY5NzgtMy02NDItMzg4MzMtMF84JTI2cGFydG5lcklEJTNENDAlMjZtZDUlM0QzMDRjYjhhNmY2OGNjNTFlMTAxMDliMjAxNGNjOTI0OCUyNyUyOSUzQiUwQXNldF9hdHRyaWJ1dGUlMjglMjdlaXRvMjAxM2ElMjclMkMlMjAlMjdzY29wdXMyMDE2JTI3JTJDJTIwJTI3MSUyNyUyOSUzQg==\")));\n",
       "    "
      ],
      "text/plain": [
       "<IPython.core.display.Javascript object>"
      ]
     },
     "metadata": {},
     "output_type": "display_data"
    },
    {
     "data": {
      "application/javascript": [
       "$('span:contains(\"# Temp\")').closest('.cell').remove();"
      ],
      "text/plain": [
       "<IPython.core.display.Javascript object>"
      ]
     },
     "metadata": {},
     "output_type": "display_data"
    },
    {
     "data": {
      "application/javascript": [
       "\n",
       "        $('span:contains(\"# Temp\")').closest('.cell').remove();\n",
       "        var code = IPython.notebook.insert_cell_below('code');\n",
       "        var prompt = code.element.find(\".input_prompt\");\n",
       "        prompt.append('<br><button style=\"height: 100%; width: 54px;\">Run</button>');\n",
       "        prompt.on(\"click\", \"button\", function(){\n",
       "            code.execute();\n",
       "        });\n",
       "        code.set_text(decodeURIComponent(window.atob(\"JTIzJTIwVGVtcCUwQWluc2VydCUyOCUyNyUyNyUyNyUwQXR1cmJhbjIwMTNhJTIwJTNEJTIwREIlMjhXb3JrVW5yZWxhdGVkJTI4JTBBJTIwJTIwJTIwJTIwMjAxMyUyQyUyMCUyMlRvb2wtYmFzZWQlMjByZXF1aXJlbWVudCUyMHRyYWNlYWJpbGl0eSUyMGJldHdlZW4lMjByZXF1aXJlbWVudCUyMGFuZCUyMGRlc2lnbiUyMGFydGlmYWN0cyUyMiUyQyUwQSUyMCUyMCUyMCUyMGRpc3BsYXklM0QlMjJ0dXJiYW4lMjIlMkMlMEElMjAlMjAlMjAlMjBhdXRob3JzJTNEJTIyVHVyYmFuJTJDJTIwQi4lMjBhbmQlMjBXb2xmZiUyQyUyMEMuJTIyJTJDJTBBJTIwJTIwJTIwJTIwcGxhY2UlM0RCb29rJTJDJTBBJTIwJTIwJTIwJTIwcHAlM0QlMjIxLTQzOSUyMiUyQyUwQSUyMCUyMCUyMCUyMGVudHJ5dHlwZSUzRCUyMmJvb2slMjIlMkMlMEElMjAlMjAlMjAlMjBsaW5rJTNEJTIyaHR0cHMlM0EvL3d3dy5zY29wdXMuY29tL2lud2FyZC9yZWNvcmQudXJpJTNGZWlkJTNEMi1zMi4wLTg0OTY3MzMyOTE3JTI2ZG9pJTNEMTAuMTAwNyUyNTJmOTc4LTMtODM0OC0yNDc0LTUlMjZwYXJ0bmVySUQlM0Q0MCUyNm1kNSUzRGI5MGVhMWVmMjk1ZjJhOTg5ZTRiNzVhMmFhZDAzMzQyJTIyJTJDJTBBJTIwJTIwJTIwJTIwSUQlM0QlMjJUdXJiYW4yMDEzMSUyMiUyQyUwQSUyMCUyMCUyMCUyMHNjb3B1czIwMTYlM0QlMjIxJTIyJTJDJTBBJTIwJTIwJTIwJTIwcGxhY2V4JTNEJTIyVG9vbC1CYXNlZCUyMFJlcXVpcmVtZW50JTIwVHJhY2VhYmlsaXR5JTIwQmV0d2VlbiUyMFJlcXVpcmVtZW50JTIwYW5kJTIwRGVzaWduJTIwQXJ0aWZhY3RzJTIyJTJDJTBBJTI5JTI5JTBBJTI3JTI3JTI3JTI5JTNC\")));\n",
       "    "
      ],
      "text/plain": [
       "<IPython.core.display.Javascript object>"
      ]
     },
     "metadata": {},
     "output_type": "display_data"
    },
    {
     "data": {
      "application/javascript": [
       "$('span:contains(\"# Temp\")').closest('.cell').remove();"
      ],
      "text/plain": [
       "<IPython.core.display.Javascript object>"
      ]
     },
     "metadata": {},
     "output_type": "display_data"
    },
    {
     "data": {
      "application/javascript": [
       "\n",
       "        $('span:contains(\"# Temp\")').closest('.cell').remove();\n",
       "        var code = IPython.notebook.insert_cell_below('code');\n",
       "        var prompt = code.element.find(\".input_prompt\");\n",
       "        prompt.append('<br><button style=\"height: 100%; width: 54px;\">Run</button>');\n",
       "        prompt.on(\"click\", \"button\", function(){\n",
       "            code.execute();\n",
       "        });\n",
       "        code.set_text(decodeURIComponent(window.atob(\"JTIzJTIwVGVtcCUwQWluc2VydCUyOCUyNyUyNyUyNyUwQXR1cmJhbjIwMTNhJTIwJTNEJTIwREIlMjhXb3JrVW5yZWxhdGVkJTI4JTBBJTIwJTIwJTIwJTIwMjAxMyUyQyUyMCUyMlRvb2wtYmFzZWQlMjByZXF1aXJlbWVudCUyMHRyYWNlYWJpbGl0eSUyMGJldHdlZW4lMjByZXF1aXJlbWVudCUyMGFuZCUyMGRlc2lnbiUyMGFydGlmYWN0cyUyMiUyQyUwQSUyMCUyMCUyMCUyMGRpc3BsYXklM0QlMjJ0dXJiYW4lMjIlMkMlMEElMjAlMjAlMjAlMjBhdXRob3JzJTNEJTIyVHVyYmFuJTJDJTIwQi4lMjBhbmQlMjBXb2xmZiUyQyUyMEMuJTIyJTJDJTBBJTIwJTIwJTIwJTIwcGxhY2UlM0RCb29rJTJDJTBBJTIwJTIwJTIwJTIwcHAlM0QlMjIxLTQzOSUyMiUyQyUwQSUyMCUyMCUyMCUyMGVudHJ5dHlwZSUzRCUyMmJvb2slMjIlMkMlMEElMjAlMjAlMjAlMjBsaW5rJTNEJTIyaHR0cHMlM0EvL3d3dy5zY29wdXMuY29tL2lud2FyZC9yZWNvcmQudXJpJTNGZWlkJTNEMi1zMi4wLTg0OTY3MzMyOTE3JTI2ZG9pJTNEMTAuMTAwNyUyNTJmOTc4LTMtODM0OC0yNDc0LTUlMjZwYXJ0bmVySUQlM0Q0MCUyNm1kNSUzRGI5MGVhMWVmMjk1ZjJhOTg5ZTRiNzVhMmFhZDAzMzQyJTIyJTJDJTBBJTIwJTIwJTIwJTIwSUQlM0QlMjJUdXJiYW4yMDEzMSUyMiUyQyUwQSUyMCUyMCUyMCUyMHNjb3B1czIwMTYlM0QlMjIxJTIyJTJDJTBBJTIwJTIwJTIwJTIwcGxhY2V4JTNEJTIyVG9vbC1CYXNlZCUyMFJlcXVpcmVtZW50JTIwVHJhY2VhYmlsaXR5JTIwQmV0d2VlbiUyMFJlcXVpcmVtZW50JTIwYW5kJTIwRGVzaWduJTIwQXJ0aWZhY3RzJTIyJTJDJTBBJTI5JTI5JTBBJTI3JTI3JTI3JTI5JTNC\")));\n",
       "    "
      ],
      "text/plain": [
       "<IPython.core.display.Javascript object>"
      ]
     },
     "metadata": {},
     "output_type": "display_data"
    },
    {
     "data": {
      "application/javascript": [
       "$('span:contains(\"# Temp\")').closest('.cell').remove();"
      ],
      "text/plain": [
       "<IPython.core.display.Javascript object>"
      ]
     },
     "metadata": {},
     "output_type": "display_data"
    },
    {
     "data": {
      "application/javascript": [
       "\n",
       "        $('span:contains(\"# Temp\")').closest('.cell').remove();\n",
       "        var code = IPython.notebook.insert_cell_below('code');\n",
       "        var prompt = code.element.find(\".input_prompt\");\n",
       "        prompt.append('<br><button style=\"height: 100%; width: 54px;\">Run</button>');\n",
       "        prompt.on(\"click\", \"button\", function(){\n",
       "            code.execute();\n",
       "        });\n",
       "        code.set_text(decodeURIComponent(window.atob(\"JTIzJTIwVGVtcCUwQWluc2VydCUyOCUyNyUyNyUyNyUwQXR1cmJhbjIwMTNhJTIwJTNEJTIwREIlMjhXb3JrVW5yZWxhdGVkJTI4JTBBJTIwJTIwJTIwJTIwMjAxMyUyQyUyMCUyMlRvb2wtYmFzZWQlMjByZXF1aXJlbWVudCUyMHRyYWNlYWJpbGl0eSUyMGJldHdlZW4lMjByZXF1aXJlbWVudCUyMGFuZCUyMGRlc2lnbiUyMGFydGlmYWN0cyUyMiUyQyUwQSUyMCUyMCUyMCUyMGRpc3BsYXklM0QlMjJ0dXJiYW4lMjIlMkMlMEElMjAlMjAlMjAlMjBhdXRob3JzJTNEJTIyVHVyYmFuJTJDJTIwQi4lMjIlMkMlMEElMjAlMjAlMjAlMjBwbGFjZSUzREJvb2slMkMlMEElMjAlMjAlMjAlMjBwcCUzRCUyMjEtNDM5JTIyJTJDJTBBJTIwJTIwJTIwJTIwZW50cnl0eXBlJTNEJTIyYm9vayUyMiUyQyUwQSUyMCUyMCUyMCUyMHZvbHVtZSUzRCUyMjk3ODM4MzQ4MjQ3NDUlMjIlMkMlMEElMjAlMjAlMjAlMjBsaW5rJTNEJTIyaHR0cHMlM0EvL3d3dy5zY29wdXMuY29tL2lud2FyZC9yZWNvcmQudXJpJTNGZWlkJTNEMi1zMi4wLTg0OTUwNDE3NTk0JTI2ZG9pJTNEMTAuMTAwNyUyNTJmOTc4LTMtODM0OC0yNDc0LTUlMjZwYXJ0bmVySUQlM0Q0MCUyNm1kNSUzRDM1ODI3MDhmYmEyMzFmZWM0MGUwNjk1YTA5OGZiNTc1JTIyJTJDJTBBJTIwJTIwJTIwJTIwSUQlM0QlMjJUdXJiYW4yMDEzMSUyMiUyQyUwQSUyMCUyMCUyMCUyMHNjb3B1czIwMTYlM0QlMjIxJTIyJTJDJTBBJTIwJTIwJTIwJTIwcGxhY2V4JTNEJTIyU3ByaW5nZXIlMjA0JTIyJTJDJTBBJTI5JTI5JTBBJTI3JTI3JTI3JTI5JTNC\")));\n",
       "    "
      ],
      "text/plain": [
       "<IPython.core.display.Javascript object>"
      ]
     },
     "metadata": {},
     "output_type": "display_data"
    },
    {
     "data": {
      "application/javascript": [
       "$('span:contains(\"# Temp\")').closest('.cell').remove();"
      ],
      "text/plain": [
       "<IPython.core.display.Javascript object>"
      ]
     },
     "metadata": {},
     "output_type": "display_data"
    },
    {
     "data": {
      "application/javascript": [
       "\n",
       "        $('span:contains(\"# Temp\")').closest('.cell').remove();\n",
       "        var code = IPython.notebook.insert_cell_below('code');\n",
       "        var prompt = code.element.find(\".input_prompt\");\n",
       "        prompt.append('<br><button style=\"height: 100%; width: 54px;\">Run</button>');\n",
       "        prompt.on(\"click\", \"button\", function(){\n",
       "            code.execute();\n",
       "        });\n",
       "        code.set_text(decodeURIComponent(window.atob(\"JTIzJTIwVGVtcCUwQWluc2VydCUyOCUyNyUyNyUyNyUwQXR1cmJhbjIwMTNhJTIwJTNEJTIwREIlMjhXb3JrVW5yZWxhdGVkJTI4JTBBJTIwJTIwJTIwJTIwMjAxMyUyQyUyMCUyMlRvb2wtYmFzZWQlMjByZXF1aXJlbWVudCUyMHRyYWNlYWJpbGl0eSUyMGJldHdlZW4lMjByZXF1aXJlbWVudCUyMGFuZCUyMGRlc2lnbiUyMGFydGlmYWN0cyUyMiUyQyUwQSUyMCUyMCUyMCUyMGRpc3BsYXklM0QlMjJ0dXJiYW4lMjIlMkMlMEElMjAlMjAlMjAlMjBhdXRob3JzJTNEJTIyVHVyYmFuJTJDJTIwQi4lMjIlMkMlMEElMjAlMjAlMjAlMjBwbGFjZSUzREJvb2slMkMlMEElMjAlMjAlMjAlMjBwcCUzRCUyMjEtNDM5JTIyJTJDJTBBJTIwJTIwJTIwJTIwZW50cnl0eXBlJTNEJTIyYm9vayUyMiUyQyUwQSUyMCUyMCUyMCUyMHZvbHVtZSUzRCUyMjk3ODM4MzQ4MjQ3NDUlMjIlMkMlMEElMjAlMjAlMjAlMjBsaW5rJTNEJTIyaHR0cHMlM0EvL3d3dy5zY29wdXMuY29tL2lud2FyZC9yZWNvcmQudXJpJTNGZWlkJTNEMi1zMi4wLTg0OTUwNDE3NTk0JTI2ZG9pJTNEMTAuMTAwNyUyNTJmOTc4LTMtODM0OC0yNDc0LTUlMjZwYXJ0bmVySUQlM0Q0MCUyNm1kNSUzRDM1ODI3MDhmYmEyMzFmZWM0MGUwNjk1YTA5OGZiNTc1JTIyJTJDJTBBJTIwJTIwJTIwJTIwSUQlM0QlMjJUdXJiYW4yMDEzMSUyMiUyQyUwQSUyMCUyMCUyMCUyMHNjb3B1czIwMTYlM0QlMjIxJTIyJTJDJTBBJTIwJTIwJTIwJTIwcGxhY2V4JTNEJTIyU3ByaW5nZXIlMjA0JTIyJTJDJTBBJTI5JTI5JTBBJTI3JTI3JTI3JTI5JTNC\")));\n",
       "    "
      ],
      "text/plain": [
       "<IPython.core.display.Javascript object>"
      ]
     },
     "metadata": {},
     "output_type": "display_data"
    },
    {
     "data": {
      "application/javascript": [
       "$('span:contains(\"# Temp\")').closest('.cell').remove();"
      ],
      "text/plain": [
       "<IPython.core.display.Javascript object>"
      ]
     },
     "metadata": {},
     "output_type": "display_data"
    },
    {
     "data": {
      "application/javascript": [
       "\n",
       "        $('span:contains(\"# Temp\")').closest('.cell').remove();\n",
       "        var code = IPython.notebook.insert_cell_below('code');\n",
       "        var prompt = code.element.find(\".input_prompt\");\n",
       "        prompt.append('<br><button style=\"height: 100%; width: 54px;\">Run</button>');\n",
       "        prompt.on(\"click\", \"button\", function(){\n",
       "            code.execute();\n",
       "        });\n",
       "        code.set_text(decodeURIComponent(window.atob(\"JTIzJTIwVGVtcCUwQWluc2VydCUyOCUyNyUyNyUyNyUyNyUyNyUyNyUyOSUzQiUwQXNldF9hdHRyaWJ1dGUlMjglMjdiYXJjZWxsb3MyMDEyYSUyNyUyQyUyMCUyN2FydF9udW1iZXIlMjclMkMlMjAlMjc2NDA2MjE2JTI3JTI5JTNCJTBBc2V0X2F0dHJpYnV0ZSUyOCUyN2JhcmNlbGxvczIwMTJhJTI3JTJDJTIwJTI3bGluayUyNyUyQyUyMCUyN2h0dHBzJTNBLy93d3cuc2NvcHVzLmNvbS9pbndhcmQvcmVjb3JkLnVyaSUzRmVpZCUzRDItczIuMC04NDg3MzQzMTYxNyUyNmRvaSUzRDEwLjExMDklMjUyZkVET0NXLjIwMTIuMjQlMjZwYXJ0bmVySUQlM0Q0MCUyNm1kNSUzRGRmYmUyYjE1NGNhOWUxMGJlNGMzOWUyZWY5YTQ5MzdjJTI3JTI5JTNCJTBBc2V0X2F0dHJpYnV0ZSUyOCUyN2JhcmNlbGxvczIwMTJhJTI3JTJDJTIwJTI3c2NvcHVzMjAxNiUyNyUyQyUyMCUyNzElMjclMjklM0I=\")));\n",
       "    "
      ],
      "text/plain": [
       "<IPython.core.display.Javascript object>"
      ]
     },
     "metadata": {},
     "output_type": "display_data"
    },
    {
     "data": {
      "application/javascript": [
       "$('span:contains(\"# Temp\")').closest('.cell').remove();"
      ],
      "text/plain": [
       "<IPython.core.display.Javascript object>"
      ]
     },
     "metadata": {},
     "output_type": "display_data"
    },
    {
     "data": {
      "application/javascript": [
       "\n",
       "        $('span:contains(\"# Temp\")').closest('.cell').remove();\n",
       "        var code = IPython.notebook.insert_cell_below('code');\n",
       "        var prompt = code.element.find(\".input_prompt\");\n",
       "        prompt.append('<br><button style=\"height: 100%; width: 54px;\">Run</button>');\n",
       "        prompt.on(\"click\", \"button\", function(){\n",
       "            code.execute();\n",
       "        });\n",
       "        code.set_text(decodeURIComponent(window.atob(\"JTIzJTIwVGVtcCUwQWluc2VydCUyOCUyNyUyNyUyNyUyNyUyNyUyNyUyOSUzQiUwQXNldF9hdHRyaWJ1dGUlMjglMjdiYXJjZWxsb3MyMDEyYSUyNyUyQyUyMCUyN2FydF9udW1iZXIlMjclMkMlMjAlMjc2NDA2MjE2JTI3JTI5JTNCJTBBc2V0X2F0dHJpYnV0ZSUyOCUyN2JhcmNlbGxvczIwMTJhJTI3JTJDJTIwJTI3bGluayUyNyUyQyUyMCUyN2h0dHBzJTNBLy93d3cuc2NvcHVzLmNvbS9pbndhcmQvcmVjb3JkLnVyaSUzRmVpZCUzRDItczIuMC04NDg3MzQzMTYxNyUyNmRvaSUzRDEwLjExMDklMjUyZkVET0NXLjIwMTIuMjQlMjZwYXJ0bmVySUQlM0Q0MCUyNm1kNSUzRGRmYmUyYjE1NGNhOWUxMGJlNGMzOWUyZWY5YTQ5MzdjJTI3JTI5JTNCJTBBc2V0X2F0dHJpYnV0ZSUyOCUyN2JhcmNlbGxvczIwMTJhJTI3JTJDJTIwJTI3c2NvcHVzMjAxNiUyNyUyQyUyMCUyNzElMjclMjklM0I=\")));\n",
       "    "
      ],
      "text/plain": [
       "<IPython.core.display.Javascript object>"
      ]
     },
     "metadata": {},
     "output_type": "display_data"
    },
    {
     "data": {
      "application/javascript": [
       "$('span:contains(\"# Temp\")').closest('.cell').remove();"
      ],
      "text/plain": [
       "<IPython.core.display.Javascript object>"
      ]
     },
     "metadata": {},
     "output_type": "display_data"
    },
    {
     "data": {
      "application/javascript": [
       "\n",
       "        $('span:contains(\"# Temp\")').closest('.cell').remove();\n",
       "        var code = IPython.notebook.insert_cell_below('code');\n",
       "        var prompt = code.element.find(\".input_prompt\");\n",
       "        prompt.append('<br><button style=\"height: 100%; width: 54px;\">Run</button>');\n",
       "        prompt.on(\"click\", \"button\", function(){\n",
       "            code.execute();\n",
       "        });\n",
       "        code.set_text(decodeURIComponent(window.atob(\"JTIzJTIwVGVtcCUwQWluc2VydCUyOCUyNyUyNyUyNyUyNyUyNyUyNyUyOSUzQiUwQXNldF9hdHRyaWJ1dGUlMjglMjdsZWFsMjAxMmElMjclMkMlMjAlMjdhcnRfbnVtYmVyJTI3JTJDJTIwJTI3NjQyNjkxNyUyNyUyOSUzQiUwQXNldF9hdHRyaWJ1dGUlMjglMjdsZWFsMjAxMmElMjclMkMlMjAlMjdsaW5rJTI3JTJDJTIwJTI3aHR0cHMlM0EvL3d3dy5zY29wdXMuY29tL2lud2FyZC9yZWNvcmQudXJpJTNGZWlkJTNEMi1zMi4wLTg0ODc0MzE5MDkyJTI2ZG9pJTNEMTAuMTEwOSUyNTJmQ0xFSS4yMDEyLjY0MjY5MTclMjZwYXJ0bmVySUQlM0Q0MCUyNm1kNSUzRDJiYTJiYTdiMTY3MTRiNjM1NzFmNDUwODhkMDFhOTg0JTI3JTI5JTNCJTBBc2V0X2F0dHJpYnV0ZSUyOCUyN2xlYWwyMDEyYSUyNyUyQyUyMCUyN3Njb3B1czIwMTYlMjclMkMlMjAlMjcxJTI3JTI5JTNC\")));\n",
       "    "
      ],
      "text/plain": [
       "<IPython.core.display.Javascript object>"
      ]
     },
     "metadata": {},
     "output_type": "display_data"
    },
    {
     "data": {
      "application/javascript": [
       "$('span:contains(\"# Temp\")').closest('.cell').remove();"
      ],
      "text/plain": [
       "<IPython.core.display.Javascript object>"
      ]
     },
     "metadata": {},
     "output_type": "display_data"
    },
    {
     "data": {
      "application/javascript": [
       "\n",
       "        $('span:contains(\"# Temp\")').closest('.cell').remove();\n",
       "        var code = IPython.notebook.insert_cell_below('code');\n",
       "        var prompt = code.element.find(\".input_prompt\");\n",
       "        prompt.append('<br><button style=\"height: 100%; width: 54px;\">Run</button>');\n",
       "        prompt.on(\"click\", \"button\", function(){\n",
       "            code.execute();\n",
       "        });\n",
       "        code.set_text(decodeURIComponent(window.atob(\"JTIzJTIwVGVtcCUwQWluc2VydCUyOCUyNyUyNyUyNyUyNyUyNyUyNyUyOSUzQiUwQXNldF9hdHRyaWJ1dGUlMjglMjdsZWFsMjAxMmElMjclMkMlMjAlMjdhcnRfbnVtYmVyJTI3JTJDJTIwJTI3NjQyNjkxNyUyNyUyOSUzQiUwQXNldF9hdHRyaWJ1dGUlMjglMjdsZWFsMjAxMmElMjclMkMlMjAlMjdsaW5rJTI3JTJDJTIwJTI3aHR0cHMlM0EvL3d3dy5zY29wdXMuY29tL2lud2FyZC9yZWNvcmQudXJpJTNGZWlkJTNEMi1zMi4wLTg0ODc0MzE5MDkyJTI2ZG9pJTNEMTAuMTEwOSUyNTJmQ0xFSS4yMDEyLjY0MjY5MTclMjZwYXJ0bmVySUQlM0Q0MCUyNm1kNSUzRDJiYTJiYTdiMTY3MTRiNjM1NzFmNDUwODhkMDFhOTg0JTI3JTI5JTNCJTBBc2V0X2F0dHJpYnV0ZSUyOCUyN2xlYWwyMDEyYSUyNyUyQyUyMCUyN3Njb3B1czIwMTYlMjclMkMlMjAlMjcxJTI3JTI5JTNC\")));\n",
       "    "
      ],
      "text/plain": [
       "<IPython.core.display.Javascript object>"
      ]
     },
     "metadata": {},
     "output_type": "display_data"
    },
    {
     "data": {
      "application/javascript": [
       "$('span:contains(\"# Temp\")').closest('.cell').remove();"
      ],
      "text/plain": [
       "<IPython.core.display.Javascript object>"
      ]
     },
     "metadata": {},
     "output_type": "display_data"
    },
    {
     "data": {
      "application/javascript": [
       "\n",
       "        $('span:contains(\"# Temp\")').closest('.cell').remove();\n",
       "        var code = IPython.notebook.insert_cell_below('code');\n",
       "        var prompt = code.element.find(\".input_prompt\");\n",
       "        prompt.append('<br><button style=\"height: 100%; width: 54px;\">Run</button>');\n",
       "        prompt.on(\"click\", \"button\", function(){\n",
       "            code.execute();\n",
       "        });\n",
       "        code.set_text(decodeURIComponent(window.atob(\"JTIzJTIwVGVtcCUwQWluc2VydCUyOCUyNyUyNyUyNyUyNyUyNyUyNyUyOSUzQiUwQXNldF9hdHRyaWJ1dGUlMjglMjdrZWxlbWVuMjAxMmElMjclMkMlMjAlMjdsaW5rJTI3JTJDJTIwJTI3aHR0cHMlM0EvL3d3dy5zY29wdXMuY29tL2lud2FyZC9yZWNvcmQudXJpJTNGZWlkJTNEMi1zMi4wLTg0ODc2MTg4Mjg4JTI2ZG9pJTNEMTAuMTAwMiUyNTJmc21yLjU0OSUyNnBhcnRuZXJJRCUzRDQwJTI2bWQ1JTNEMTBiZjc2Mjc1YTA3ZTQ3ZTI0Mzk2OGU4Y2ViZTY3YzUlMjclMjklM0IlMEFzZXRfYXR0cmlidXRlJTI4JTI3a2VsZW1lbjIwMTJhJTI3JTJDJTIwJTI3c2NvcHVzMjAxNiUyNyUyQyUyMCUyNzElMjclMjklM0I=\")));\n",
       "    "
      ],
      "text/plain": [
       "<IPython.core.display.Javascript object>"
      ]
     },
     "metadata": {},
     "output_type": "display_data"
    },
    {
     "data": {
      "application/javascript": [
       "$('span:contains(\"# Temp\")').closest('.cell').remove();"
      ],
      "text/plain": [
       "<IPython.core.display.Javascript object>"
      ]
     },
     "metadata": {},
     "output_type": "display_data"
    },
    {
     "data": {
      "application/javascript": [
       "\n",
       "        $('span:contains(\"# Temp\")').closest('.cell').remove();\n",
       "        var code = IPython.notebook.insert_cell_below('code');\n",
       "        var prompt = code.element.find(\".input_prompt\");\n",
       "        prompt.append('<br><button style=\"height: 100%; width: 54px;\">Run</button>');\n",
       "        prompt.on(\"click\", \"button\", function(){\n",
       "            code.execute();\n",
       "        });\n",
       "        code.set_text(decodeURIComponent(window.atob(\"JTIzJTIwVGVtcCUwQWluc2VydCUyOCUyNyUyNyUyNyUyNyUyNyUyNyUyOSUzQiUwQXNldF9hdHRyaWJ1dGUlMjglMjdrZWxlbWVuMjAxMmElMjclMkMlMjAlMjdsaW5rJTI3JTJDJTIwJTI3aHR0cHMlM0EvL3d3dy5zY29wdXMuY29tL2lud2FyZC9yZWNvcmQudXJpJTNGZWlkJTNEMi1zMi4wLTg0ODc2MTg4Mjg4JTI2ZG9pJTNEMTAuMTAwMiUyNTJmc21yLjU0OSUyNnBhcnRuZXJJRCUzRDQwJTI2bWQ1JTNEMTBiZjc2Mjc1YTA3ZTQ3ZTI0Mzk2OGU4Y2ViZTY3YzUlMjclMjklM0IlMEFzZXRfYXR0cmlidXRlJTI4JTI3a2VsZW1lbjIwMTJhJTI3JTJDJTIwJTI3c2NvcHVzMjAxNiUyNyUyQyUyMCUyNzElMjclMjklM0I=\")));\n",
       "    "
      ],
      "text/plain": [
       "<IPython.core.display.Javascript object>"
      ]
     },
     "metadata": {},
     "output_type": "display_data"
    },
    {
     "data": {
      "application/javascript": [
       "$('span:contains(\"# Temp\")').closest('.cell').remove();"
      ],
      "text/plain": [
       "<IPython.core.display.Javascript object>"
      ]
     },
     "metadata": {},
     "output_type": "display_data"
    },
    {
     "data": {
      "application/javascript": [
       "\n",
       "        $('span:contains(\"# Temp\")').closest('.cell').remove();\n",
       "        var code = IPython.notebook.insert_cell_below('code');\n",
       "        var prompt = code.element.find(\".input_prompt\");\n",
       "        prompt.append('<br><button style=\"height: 100%; width: 54px;\">Run</button>');\n",
       "        prompt.on(\"click\", \"button\", function(){\n",
       "            code.execute();\n",
       "        });\n",
       "        code.set_text(decodeURIComponent(window.atob(\"JTIzJTIwVGVtcCUwQWluc2VydCUyOCUyNyUyNyUyNyUyNyUyNyUyNyUyOSUzQiUwQXNldF9hdHRyaWJ1dGUlMjglMjdydW5ncmF0cmkyMDEyYSUyNyUyQyUyMCUyN3BwJTI3JTJDJTIwJTI3MTI3LTEzNyUyNyUyOSUzQiUwQXNldF9hdHRyaWJ1dGUlMjglMjdydW5ncmF0cmkyMDEyYSUyNyUyQyUyMCUyN2xpbmslMjclMkMlMjAlMjdodHRwcyUzQS8vd3d3LnNjb3B1cy5jb20vaW53YXJkL3JlY29yZC51cmklM0ZlaWQlM0QyLXMyLjAtODQ4NjkyMTMxNDQlMjZkb2klM0QxMC40MTU2JTI1MmZqY2l0LnZvbDcuaXNzdWUyMC4xNiUyNnBhcnRuZXJJRCUzRDQwJTI2bWQ1JTNEMTk0NDU2ZjBkMTViMDA3Y2U3Y2YzMmY1ODllMzY5NjglMjclMjklM0IlMEFzZXRfYXR0cmlidXRlJTI4JTI3cnVuZ3JhdHJpMjAxMmElMjclMkMlMjAlMjdzY29wdXMyMDE2JTI3JTJDJTIwJTI3MSUyNyUyOSUzQg==\")));\n",
       "    "
      ],
      "text/plain": [
       "<IPython.core.display.Javascript object>"
      ]
     },
     "metadata": {},
     "output_type": "display_data"
    },
    {
     "data": {
      "application/javascript": [
       "$('span:contains(\"# Temp\")').closest('.cell').remove();"
      ],
      "text/plain": [
       "<IPython.core.display.Javascript object>"
      ]
     },
     "metadata": {},
     "output_type": "display_data"
    },
    {
     "data": {
      "application/javascript": [
       "\n",
       "        $('span:contains(\"# Temp\")').closest('.cell').remove();\n",
       "        var code = IPython.notebook.insert_cell_below('code');\n",
       "        var prompt = code.element.find(\".input_prompt\");\n",
       "        prompt.append('<br><button style=\"height: 100%; width: 54px;\">Run</button>');\n",
       "        prompt.on(\"click\", \"button\", function(){\n",
       "            code.execute();\n",
       "        });\n",
       "        code.set_text(decodeURIComponent(window.atob(\"JTIzJTIwVGVtcCUwQWluc2VydCUyOCUyNyUyNyUyNyUyNyUyNyUyNyUyOSUzQiUwQXNldF9hdHRyaWJ1dGUlMjglMjdydW5ncmF0cmkyMDEyYSUyNyUyQyUyMCUyN3BwJTI3JTJDJTIwJTI3MTI3LTEzNyUyNyUyOSUzQiUwQXNldF9hdHRyaWJ1dGUlMjglMjdydW5ncmF0cmkyMDEyYSUyNyUyQyUyMCUyN2xpbmslMjclMkMlMjAlMjdodHRwcyUzQS8vd3d3LnNjb3B1cy5jb20vaW53YXJkL3JlY29yZC51cmklM0ZlaWQlM0QyLXMyLjAtODQ4NjkyMTMxNDQlMjZkb2klM0QxMC40MTU2JTI1MmZqY2l0LnZvbDcuaXNzdWUyMC4xNiUyNnBhcnRuZXJJRCUzRDQwJTI2bWQ1JTNEMTk0NDU2ZjBkMTViMDA3Y2U3Y2YzMmY1ODllMzY5NjglMjclMjklM0IlMEFzZXRfYXR0cmlidXRlJTI4JTI3cnVuZ3JhdHJpMjAxMmElMjclMkMlMjAlMjdzY29wdXMyMDE2JTI3JTJDJTIwJTI3MSUyNyUyOSUzQg==\")));\n",
       "    "
      ],
      "text/plain": [
       "<IPython.core.display.Javascript object>"
      ]
     },
     "metadata": {},
     "output_type": "display_data"
    },
    {
     "data": {
      "application/javascript": [
       "$('span:contains(\"# Temp\")').closest('.cell').remove();"
      ],
      "text/plain": [
       "<IPython.core.display.Javascript object>"
      ]
     },
     "metadata": {},
     "output_type": "display_data"
    },
    {
     "data": {
      "application/javascript": [
       "\n",
       "        $('span:contains(\"# Temp\")').closest('.cell').remove();\n",
       "        var code = IPython.notebook.insert_cell_below('code');\n",
       "        var prompt = code.element.find(\".input_prompt\");\n",
       "        prompt.append('<br><button style=\"height: 100%; width: 54px;\">Run</button>');\n",
       "        prompt.on(\"click\", \"button\", function(){\n",
       "            code.execute();\n",
       "        });\n",
       "        code.set_text(decodeURIComponent(window.atob(\"JTIzJTIwVGVtcCUwQWluc2VydCUyOCUyNyUyNyUyNyUyNyUyNyUyNyUyOSUzQiUwQXNldF9hdHRyaWJ1dGUlMjglMjdjYWZmZXJ5MjAxMmElMjclMkMlMjAlMjd2b2x1bWUlMjclMkMlMjAlMjc5NzgxNDQ3MTIyMzk1JTI3JTI5JTNCJTBBc2V0X2F0dHJpYnV0ZSUyOCUyN2NhZmZlcnkyMDEyYSUyNyUyQyUyMCUyN2xpbmslMjclMkMlMjAlMjdodHRwcyUzQS8vd3d3LnNjb3B1cy5jb20vaW53YXJkL3JlY29yZC51cmklM0ZlaWQlM0QyLXMyLjAtODQ5MjIwMzM4MDQlMjZkb2klM0QxMC4xMDA3JTI1MmY5NzgtMS00NDcxLTIyMzktNV8xNSUyNnBhcnRuZXJJRCUzRDQwJTI2bWQ1JTNEYmE0MzEyYjc5ZWQ3MjYwNmI4MGZmMDUyYmE5ZDkxOWElMjclMjklM0IlMEFzZXRfYXR0cmlidXRlJTI4JTI3Y2FmZmVyeTIwMTJhJTI3JTJDJTIwJTI3c2NvcHVzMjAxNiUyNyUyQyUyMCUyNzElMjclMjklM0I=\")));\n",
       "    "
      ],
      "text/plain": [
       "<IPython.core.display.Javascript object>"
      ]
     },
     "metadata": {},
     "output_type": "display_data"
    },
    {
     "data": {
      "application/javascript": [
       "$('span:contains(\"# Temp\")').closest('.cell').remove();"
      ],
      "text/plain": [
       "<IPython.core.display.Javascript object>"
      ]
     },
     "metadata": {},
     "output_type": "display_data"
    },
    {
     "data": {
      "application/javascript": [
       "\n",
       "        $('span:contains(\"# Temp\")').closest('.cell').remove();\n",
       "        var code = IPython.notebook.insert_cell_below('code');\n",
       "        var prompt = code.element.find(\".input_prompt\");\n",
       "        prompt.append('<br><button style=\"height: 100%; width: 54px;\">Run</button>');\n",
       "        prompt.on(\"click\", \"button\", function(){\n",
       "            code.execute();\n",
       "        });\n",
       "        code.set_text(decodeURIComponent(window.atob(\"JTIzJTIwVGVtcCUwQWluc2VydCUyOCUyNyUyNyUyNyUyNyUyNyUyNyUyOSUzQiUwQXNldF9hdHRyaWJ1dGUlMjglMjdjYWZmZXJ5MjAxMmElMjclMkMlMjAlMjd2b2x1bWUlMjclMkMlMjAlMjc5NzgxNDQ3MTIyMzk1JTI3JTI5JTNCJTBBc2V0X2F0dHJpYnV0ZSUyOCUyN2NhZmZlcnkyMDEyYSUyNyUyQyUyMCUyN2xpbmslMjclMkMlMjAlMjdodHRwcyUzQS8vd3d3LnNjb3B1cy5jb20vaW53YXJkL3JlY29yZC51cmklM0ZlaWQlM0QyLXMyLjAtODQ5MjIwMzM4MDQlMjZkb2klM0QxMC4xMDA3JTI1MmY5NzgtMS00NDcxLTIyMzktNV8xNSUyNnBhcnRuZXJJRCUzRDQwJTI2bWQ1JTNEYmE0MzEyYjc5ZWQ3MjYwNmI4MGZmMDUyYmE5ZDkxOWElMjclMjklM0IlMEFzZXRfYXR0cmlidXRlJTI4JTI3Y2FmZmVyeTIwMTJhJTI3JTJDJTIwJTI3c2NvcHVzMjAxNiUyNyUyQyUyMCUyNzElMjclMjklM0I=\")));\n",
       "    "
      ],
      "text/plain": [
       "<IPython.core.display.Javascript object>"
      ]
     },
     "metadata": {},
     "output_type": "display_data"
    },
    {
     "data": {
      "application/javascript": [
       "$('span:contains(\"# Temp\")').closest('.cell').remove();"
      ],
      "text/plain": [
       "<IPython.core.display.Javascript object>"
      ]
     },
     "metadata": {},
     "output_type": "display_data"
    },
    {
     "data": {
      "application/javascript": [
       "\n",
       "        $('span:contains(\"# Temp\")').closest('.cell').remove();\n",
       "        var code = IPython.notebook.insert_cell_below('code');\n",
       "        var prompt = code.element.find(\".input_prompt\");\n",
       "        prompt.append('<br><button style=\"height: 100%; width: 54px;\">Run</button>');\n",
       "        prompt.on(\"click\", \"button\", function(){\n",
       "            code.execute();\n",
       "        });\n",
       "        code.set_text(decodeURIComponent(window.atob(\"JTIzJTIwVGVtcCUwQWluc2VydCUyOCUyNyUyNyUyNyUyNyUyNyUyNyUyOSUzQiUwQXNldF9hdHRyaWJ1dGUlMjglMjdtaWxlcjIwMTJhJTI3JTJDJTIwJTI3dm9sdW1lJTI3JTJDJTIwJTI3MzAxJTIwQ0NJUyUyNyUyOSUzQiUwQXNldF9hdHRyaWJ1dGUlMjglMjdtaWxlcjIwMTJhJTI3JTJDJTIwJTI3bGluayUyNyUyQyUyMCUyN2h0dHBzJTNBLy93d3cuc2NvcHVzLmNvbS9pbndhcmQvcmVjb3JkLnVyaSUzRmVpZCUzRDItczIuMC04NDg2NDI0MTU5NCUyNmRvaSUzRDEwLjEwMDclMjUyZjk3OC0zLTY0Mi0zMTE5OS00XzEzJTI2cGFydG5lcklEJTNENDAlMjZtZDUlM0QxMjFkMmMxOTQxOTYyNzlhOTAyZjI5MTc2ZDk2NmQ2YyUyNyUyOSUzQiUwQXNldF9hdHRyaWJ1dGUlMjglMjdtaWxlcjIwMTJhJTI3JTJDJTIwJTI3c2NvcHVzMjAxNiUyNyUyQyUyMCUyNzElMjclMjklM0I=\")));\n",
       "    "
      ],
      "text/plain": [
       "<IPython.core.display.Javascript object>"
      ]
     },
     "metadata": {},
     "output_type": "display_data"
    },
    {
     "data": {
      "application/javascript": [
       "$('span:contains(\"# Temp\")').closest('.cell').remove();"
      ],
      "text/plain": [
       "<IPython.core.display.Javascript object>"
      ]
     },
     "metadata": {},
     "output_type": "display_data"
    },
    {
     "data": {
      "application/javascript": [
       "\n",
       "        $('span:contains(\"# Temp\")').closest('.cell').remove();\n",
       "        var code = IPython.notebook.insert_cell_below('code');\n",
       "        var prompt = code.element.find(\".input_prompt\");\n",
       "        prompt.append('<br><button style=\"height: 100%; width: 54px;\">Run</button>');\n",
       "        prompt.on(\"click\", \"button\", function(){\n",
       "            code.execute();\n",
       "        });\n",
       "        code.set_text(decodeURIComponent(window.atob(\"JTIzJTIwVGVtcCUwQWluc2VydCUyOCUyNyUyNyUyNyUyNyUyNyUyNyUyOSUzQiUwQXNldF9hdHRyaWJ1dGUlMjglMjdtaWxlcjIwMTJhJTI3JTJDJTIwJTI3dm9sdW1lJTI3JTJDJTIwJTI3MzAxJTIwQ0NJUyUyNyUyOSUzQiUwQXNldF9hdHRyaWJ1dGUlMjglMjdtaWxlcjIwMTJhJTI3JTJDJTIwJTI3bGluayUyNyUyQyUyMCUyN2h0dHBzJTNBLy93d3cuc2NvcHVzLmNvbS9pbndhcmQvcmVjb3JkLnVyaSUzRmVpZCUzRDItczIuMC04NDg2NDI0MTU5NCUyNmRvaSUzRDEwLjEwMDclMjUyZjk3OC0zLTY0Mi0zMTE5OS00XzEzJTI2cGFydG5lcklEJTNENDAlMjZtZDUlM0QxMjFkMmMxOTQxOTYyNzlhOTAyZjI5MTc2ZDk2NmQ2YyUyNyUyOSUzQiUwQXNldF9hdHRyaWJ1dGUlMjglMjdtaWxlcjIwMTJhJTI3JTJDJTIwJTI3c2NvcHVzMjAxNiUyNyUyQyUyMCUyNzElMjclMjklM0I=\")));\n",
       "    "
      ],
      "text/plain": [
       "<IPython.core.display.Javascript object>"
      ]
     },
     "metadata": {},
     "output_type": "display_data"
    },
    {
     "data": {
      "application/javascript": [
       "$('span:contains(\"# Temp\")').closest('.cell').remove();"
      ],
      "text/plain": [
       "<IPython.core.display.Javascript object>"
      ]
     },
     "metadata": {},
     "output_type": "display_data"
    },
    {
     "data": {
      "application/javascript": [
       "\n",
       "        $('span:contains(\"# Temp\")').closest('.cell').remove();\n",
       "        var code = IPython.notebook.insert_cell_below('code');\n",
       "        var prompt = code.element.find(\".input_prompt\");\n",
       "        prompt.append('<br><button style=\"height: 100%; width: 54px;\">Run</button>');\n",
       "        prompt.on(\"click\", \"button\", function(){\n",
       "            code.execute();\n",
       "        });\n",
       "        code.set_text(decodeURIComponent(window.atob(\"JTIzJTIwVGVtcCUwQWluc2VydCUyOCUyNyUyNyUyNyUyNyUyNyUyNyUyOSUzQiUwQXNldF9hdHRyaWJ1dGUlMjglMjd6YXJvdXIyMDEyYSUyNyUyQyUyMCUyN2FydF9udW1iZXIlMjclMkMlMjAlMjc2MjE2NjgxJTI3JTI5JTNCJTBBc2V0X2F0dHJpYnV0ZSUyOCUyN3phcm91cjIwMTJhJTI3JTJDJTIwJTI3bGluayUyNyUyQyUyMCUyN2h0dHBzJTNBLy93d3cuc2NvcHVzLmNvbS9pbndhcmQvcmVjb3JkLnVyaSUzRmVpZCUzRDItczIuMC04NDg2MzY3MjA4MSUyNmRvaSUzRDEwLjExMDklMjUyZklDSVRlUy4yMDEyLjYyMTY2ODElMjZwYXJ0bmVySUQlM0Q0MCUyNm1kNSUzRGNkNTEyNTAxM2IxOTFkZmVjYTJhMDFhMDAzODcyODBkJTI3JTI5JTNCJTBBc2V0X2F0dHJpYnV0ZSUyOCUyN3phcm91cjIwMTJhJTI3JTJDJTIwJTI3c2NvcHVzMjAxNiUyNyUyQyUyMCUyNzElMjclMjklM0I=\")));\n",
       "    "
      ],
      "text/plain": [
       "<IPython.core.display.Javascript object>"
      ]
     },
     "metadata": {},
     "output_type": "display_data"
    },
    {
     "data": {
      "application/javascript": [
       "$('span:contains(\"# Temp\")').closest('.cell').remove();"
      ],
      "text/plain": [
       "<IPython.core.display.Javascript object>"
      ]
     },
     "metadata": {},
     "output_type": "display_data"
    },
    {
     "data": {
      "application/javascript": [
       "\n",
       "        $('span:contains(\"# Temp\")').closest('.cell').remove();\n",
       "        var code = IPython.notebook.insert_cell_below('code');\n",
       "        var prompt = code.element.find(\".input_prompt\");\n",
       "        prompt.append('<br><button style=\"height: 100%; width: 54px;\">Run</button>');\n",
       "        prompt.on(\"click\", \"button\", function(){\n",
       "            code.execute();\n",
       "        });\n",
       "        code.set_text(decodeURIComponent(window.atob(\"JTIzJTIwVGVtcCUwQWluc2VydCUyOCUyNyUyNyUyNyUyNyUyNyUyNyUyOSUzQiUwQXNldF9hdHRyaWJ1dGUlMjglMjd6YXJvdXIyMDEyYSUyNyUyQyUyMCUyN2FydF9udW1iZXIlMjclMkMlMjAlMjc2MjE2NjgxJTI3JTI5JTNCJTBBc2V0X2F0dHJpYnV0ZSUyOCUyN3phcm91cjIwMTJhJTI3JTJDJTIwJTI3bGluayUyNyUyQyUyMCUyN2h0dHBzJTNBLy93d3cuc2NvcHVzLmNvbS9pbndhcmQvcmVjb3JkLnVyaSUzRmVpZCUzRDItczIuMC04NDg2MzY3MjA4MSUyNmRvaSUzRDEwLjExMDklMjUyZklDSVRlUy4yMDEyLjYyMTY2ODElMjZwYXJ0bmVySUQlM0Q0MCUyNm1kNSUzRGNkNTEyNTAxM2IxOTFkZmVjYTJhMDFhMDAzODcyODBkJTI3JTI5JTNCJTBBc2V0X2F0dHJpYnV0ZSUyOCUyN3phcm91cjIwMTJhJTI3JTJDJTIwJTI3c2NvcHVzMjAxNiUyNyUyQyUyMCUyNzElMjclMjklM0I=\")));\n",
       "    "
      ],
      "text/plain": [
       "<IPython.core.display.Javascript object>"
      ]
     },
     "metadata": {},
     "output_type": "display_data"
    },
    {
     "data": {
      "application/javascript": [
       "$('span:contains(\"# Temp\")').closest('.cell').remove();"
      ],
      "text/plain": [
       "<IPython.core.display.Javascript object>"
      ]
     },
     "metadata": {},
     "output_type": "display_data"
    },
    {
     "data": {
      "application/javascript": [
       "\n",
       "        $('span:contains(\"# Temp\")').closest('.cell').remove();\n",
       "        var code = IPython.notebook.insert_cell_below('code');\n",
       "        var prompt = code.element.find(\".input_prompt\");\n",
       "        prompt.append('<br><button style=\"height: 100%; width: 54px;\">Run</button>');\n",
       "        prompt.on(\"click\", \"button\", function(){\n",
       "            code.execute();\n",
       "        });\n",
       "        code.set_text(decodeURIComponent(window.atob(\"JTIzJTIwVGVtcCUwQWluc2VydCUyOCUyNyUyNyUyNyUwQWNob2kyMDEyYSUyMCUzRCUyMERCJTI4V29ya1VucmVsYXRlZCUyOCUwQSUyMCUyMCUyMCUyMDIwMTIlMkMlMjAlMjJTZW1hbnRpYyUyMHByb2Nlc3MlMjBtYW5hZ2VtZW50JTIwZW52aXJvbm1lbnQlMjIlMkMlMEElMjAlMjAlMjAlMjBkaXNwbGF5JTNEJTIyY2hvaSUyMiUyQyUwQSUyMCUyMCUyMCUyMGF1dGhvcnMlM0QlMjJDaG9pJTJDJTIwUy4lMjIlMkMlMEElMjAlMjAlMjAlMjBwbGFjZSUzREZBS0UlMkMlMEElMjAlMjAlMjAlMjBwcCUzRCUyMjEwNi0xMTAlMjIlMkMlMEElMjAlMjAlMjAlMjBlbnRyeXR5cGUlM0QlMjJjb25mZXJlbmNlJTIyJTJDJTBBJTIwJTIwJTIwJTIwYXJ0X251bWJlciUzRCUyMjYxNzIxMDclMjIlMkMlMEElMjAlMjAlMjAlMjBsaW5rJTNEJTIyaHR0cHMlM0EvL3d3dy5zY29wdXMuY29tL2lud2FyZC9yZWNvcmQudXJpJTNGZWlkJTNEMi1zMi4wLTg0ODYwNDcwOTU2JTI2ZG9pJTNEMTAuMTEwOSUyNTJmVUNNQS4yMDExLjMxJTI2cGFydG5lcklEJTNENDAlMjZtZDUlM0Q4NzdmZmZjMDg2ZWZkNmQyYWZjYWQ1MDEyNjdjYzA0YyUyMiUyQyUwQSUyMCUyMCUyMCUyMElEJTNEJTIyQ2hvaTIwMTIxMDYlMjIlMkMlMEElMjAlMjAlMjAlMjBzY29wdXMyMDE2JTNEJTIyMSUyMiUyQyUwQSUyMCUyMCUyMCUyMHBsYWNleCUzRCUyMlByb2NlZWRpbmdzJTIwLSUyMDIwMTElMjBJbnRlcm5hdGlvbmFsJTIwQ29uZmVyZW5jZSUyMG9uJTIwVWJpcXVpdG91cyUyMENvbXB1dGluZyUyMGFuZCUyME11bHRpbWVkaWElMjBBcHBsaWNhdGlvbnMlMkMlMjBVQ01BJTIwMjAxMSUyMiUyQyUwQSUyOSUyOSUwQSUyNyUyNyUyNyUyOSUzQg==\")));\n",
       "    "
      ],
      "text/plain": [
       "<IPython.core.display.Javascript object>"
      ]
     },
     "metadata": {},
     "output_type": "display_data"
    },
    {
     "data": {
      "application/javascript": [
       "$('span:contains(\"# Temp\")').closest('.cell').remove();"
      ],
      "text/plain": [
       "<IPython.core.display.Javascript object>"
      ]
     },
     "metadata": {},
     "output_type": "display_data"
    },
    {
     "data": {
      "application/javascript": [
       "\n",
       "        $('span:contains(\"# Temp\")').closest('.cell').remove();\n",
       "        var code = IPython.notebook.insert_cell_below('code');\n",
       "        var prompt = code.element.find(\".input_prompt\");\n",
       "        prompt.append('<br><button style=\"height: 100%; width: 54px;\">Run</button>');\n",
       "        prompt.on(\"click\", \"button\", function(){\n",
       "            code.execute();\n",
       "        });\n",
       "        code.set_text(decodeURIComponent(window.atob(\"JTIzJTIwVGVtcCUwQWluc2VydCUyOCUyNyUyNyUyNyUwQWNob2kyMDEyYSUyMCUzRCUyMERCJTI4V29ya1VucmVsYXRlZCUyOCUwQSUyMCUyMCUyMCUyMDIwMTIlMkMlMjAlMjJTZW1hbnRpYyUyMHByb2Nlc3MlMjBtYW5hZ2VtZW50JTIwZW52aXJvbm1lbnQlMjIlMkMlMEElMjAlMjAlMjAlMjBkaXNwbGF5JTNEJTIyY2hvaSUyMiUyQyUwQSUyMCUyMCUyMCUyMGF1dGhvcnMlM0QlMjJDaG9pJTJDJTIwUy4lMjIlMkMlMEElMjAlMjAlMjAlMjBwbGFjZSUzREZBS0UlMkMlMEElMjAlMjAlMjAlMjBwcCUzRCUyMjEwNi0xMTAlMjIlMkMlMEElMjAlMjAlMjAlMjBlbnRyeXR5cGUlM0QlMjJjb25mZXJlbmNlJTIyJTJDJTBBJTIwJTIwJTIwJTIwYXJ0X251bWJlciUzRCUyMjYxNzIxMDclMjIlMkMlMEElMjAlMjAlMjAlMjBsaW5rJTNEJTIyaHR0cHMlM0EvL3d3dy5zY29wdXMuY29tL2lud2FyZC9yZWNvcmQudXJpJTNGZWlkJTNEMi1zMi4wLTg0ODYwNDcwOTU2JTI2ZG9pJTNEMTAuMTEwOSUyNTJmVUNNQS4yMDExLjMxJTI2cGFydG5lcklEJTNENDAlMjZtZDUlM0Q4NzdmZmZjMDg2ZWZkNmQyYWZjYWQ1MDEyNjdjYzA0YyUyMiUyQyUwQSUyMCUyMCUyMCUyMElEJTNEJTIyQ2hvaTIwMTIxMDYlMjIlMkMlMEElMjAlMjAlMjAlMjBzY29wdXMyMDE2JTNEJTIyMSUyMiUyQyUwQSUyMCUyMCUyMCUyMHBsYWNleCUzRCUyMlByb2NlZWRpbmdzJTIwLSUyMDIwMTElMjBJbnRlcm5hdGlvbmFsJTIwQ29uZmVyZW5jZSUyMG9uJTIwVWJpcXVpdG91cyUyMENvbXB1dGluZyUyMGFuZCUyME11bHRpbWVkaWElMjBBcHBsaWNhdGlvbnMlMkMlMjBVQ01BJTIwMjAxMSUyMiUyQyUwQSUyOSUyOSUwQSUyNyUyNyUyNyUyOSUzQg==\")));\n",
       "    "
      ],
      "text/plain": [
       "<IPython.core.display.Javascript object>"
      ]
     },
     "metadata": {},
     "output_type": "display_data"
    },
    {
     "data": {
      "application/javascript": [
       "$('span:contains(\"# Temp\")').closest('.cell').remove();"
      ],
      "text/plain": [
       "<IPython.core.display.Javascript object>"
      ]
     },
     "metadata": {},
     "output_type": "display_data"
    },
    {
     "data": {
      "application/javascript": [
       "\n",
       "        $('span:contains(\"# Temp\")').closest('.cell').remove();\n",
       "        var code = IPython.notebook.insert_cell_below('code');\n",
       "        var prompt = code.element.find(\".input_prompt\");\n",
       "        prompt.append('<br><button style=\"height: 100%; width: 54px;\">Run</button>');\n",
       "        prompt.on(\"click\", \"button\", function(){\n",
       "            code.execute();\n",
       "        });\n",
       "        code.set_text(decodeURIComponent(window.atob(\"JTIzJTIwVGVtcCUwQWluc2VydCUyOCUyNyUyNyUyNyUyNyUyNyUyNyUyOSUzQiUwQXNldF9hdHRyaWJ1dGUlMjglMjdhcHJpbDIwMTJhJTI3JTJDJTIwJTI3cGFnZV9jb3VudCUyNyUyQyUyMCUyNzMxMiUyNyUyOSUzQiUwQXNldF9hdHRyaWJ1dGUlMjglMjdhcHJpbDIwMTJhJTI3JTJDJTIwJTI3bGluayUyNyUyQyUyMCUyN2h0dHBzJTNBLy93d3cuc2NvcHVzLmNvbS9pbndhcmQvcmVjb3JkLnVyaSUzRmVpZCUzRDItczIuMC04NDg5MTU4MjE2MSUyNmRvaSUzRDEwLjEwMDIlMjUyZjk3ODA0NzAyNTgwMzMlMjZwYXJ0bmVySUQlM0Q0MCUyNm1kNSUzRGU3MmM4ZWU1MjI3MGI0YzA2OGI2YWQ1ODYxYzkxNjkxJTI3JTI5JTNCJTBBc2V0X2F0dHJpYnV0ZSUyOCUyN2FwcmlsMjAxMmElMjclMkMlMjAlMjdzY29wdXMyMDE2JTI3JTJDJTIwJTI3MSUyNyUyOSUzQg==\")));\n",
       "    "
      ],
      "text/plain": [
       "<IPython.core.display.Javascript object>"
      ]
     },
     "metadata": {},
     "output_type": "display_data"
    },
    {
     "data": {
      "application/javascript": [
       "$('span:contains(\"# Temp\")').closest('.cell').remove();"
      ],
      "text/plain": [
       "<IPython.core.display.Javascript object>"
      ]
     },
     "metadata": {},
     "output_type": "display_data"
    },
    {
     "data": {
      "application/javascript": [
       "\n",
       "        $('span:contains(\"# Temp\")').closest('.cell').remove();\n",
       "        var code = IPython.notebook.insert_cell_below('code');\n",
       "        var prompt = code.element.find(\".input_prompt\");\n",
       "        prompt.append('<br><button style=\"height: 100%; width: 54px;\">Run</button>');\n",
       "        prompt.on(\"click\", \"button\", function(){\n",
       "            code.execute();\n",
       "        });\n",
       "        code.set_text(decodeURIComponent(window.atob(\"JTIzJTIwVGVtcCUwQWluc2VydCUyOCUyNyUyNyUyNyUyNyUyNyUyNyUyOSUzQiUwQXNldF9hdHRyaWJ1dGUlMjglMjdhcHJpbDIwMTJhJTI3JTJDJTIwJTI3cGFnZV9jb3VudCUyNyUyQyUyMCUyNzMxMiUyNyUyOSUzQiUwQXNldF9hdHRyaWJ1dGUlMjglMjdhcHJpbDIwMTJhJTI3JTJDJTIwJTI3bGluayUyNyUyQyUyMCUyN2h0dHBzJTNBLy93d3cuc2NvcHVzLmNvbS9pbndhcmQvcmVjb3JkLnVyaSUzRmVpZCUzRDItczIuMC04NDg5MTU4MjE2MSUyNmRvaSUzRDEwLjEwMDIlMjUyZjk3ODA0NzAyNTgwMzMlMjZwYXJ0bmVySUQlM0Q0MCUyNm1kNSUzRGU3MmM4ZWU1MjI3MGI0YzA2OGI2YWQ1ODYxYzkxNjkxJTI3JTI5JTNCJTBBc2V0X2F0dHJpYnV0ZSUyOCUyN2FwcmlsMjAxMmElMjclMkMlMjAlMjdzY29wdXMyMDE2JTI3JTJDJTIwJTI3MSUyNyUyOSUzQg==\")));\n",
       "    "
      ],
      "text/plain": [
       "<IPython.core.display.Javascript object>"
      ]
     },
     "metadata": {},
     "output_type": "display_data"
    },
    {
     "data": {
      "application/javascript": [
       "$('span:contains(\"# Temp\")').closest('.cell').remove();"
      ],
      "text/plain": [
       "<IPython.core.display.Javascript object>"
      ]
     },
     "metadata": {},
     "output_type": "display_data"
    },
    {
     "data": {
      "application/javascript": [
       "\n",
       "        $('span:contains(\"# Temp\")').closest('.cell').remove();\n",
       "        var code = IPython.notebook.insert_cell_below('code');\n",
       "        var prompt = code.element.find(\".input_prompt\");\n",
       "        prompt.append('<br><button style=\"height: 100%; width: 54px;\">Run</button>');\n",
       "        prompt.on(\"click\", \"button\", function(){\n",
       "            code.execute();\n",
       "        });\n",
       "        code.set_text(decodeURIComponent(window.atob(\"JTIzJTIwVGVtcCUwQWluc2VydCUyOCUyNyUyNyUyNyUyNyUyNyUyNyUyOSUzQiUwQXNldF9hdHRyaWJ1dGUlMjglMjd1bnRlcmthbG1zdGVpbmVyMjAxMmElMjclMkMlMjAlMjdhcnRfbnVtYmVyJTI3JTJDJTIwJTI3NTcyODgzMiUyNyUyOSUzQiUwQXNldF9hdHRyaWJ1dGUlMjglMjd1bnRlcmthbG1zdGVpbmVyMjAxMmElMjclMkMlMjAlMjdsaW5rJTI3JTJDJTIwJTI3aHR0cHMlM0EvL3d3dy5zY29wdXMuY29tL2lud2FyZC9yZWNvcmQudXJpJTNGZWlkJTNEMi1zMi4wLTg0ODU5NzQ3Mjg2JTI2ZG9pJTNEMTAuMTEwOSUyNTJmVFNFLjIwMTEuMjYlMjZwYXJ0bmVySUQlM0Q0MCUyNm1kNSUzRGY4YzM0MDQxNjg0MDY3M2M1OGJjMmRkZmIyYjdiMDk4JTI3JTI5JTNCJTBBc2V0X2F0dHJpYnV0ZSUyOCUyN3VudGVya2FsbXN0ZWluZXIyMDEyYSUyNyUyQyUyMCUyN3Njb3B1czIwMTYlMjclMkMlMjAlMjcxJTI3JTI5JTNC\")));\n",
       "    "
      ],
      "text/plain": [
       "<IPython.core.display.Javascript object>"
      ]
     },
     "metadata": {},
     "output_type": "display_data"
    },
    {
     "data": {
      "application/javascript": [
       "$('span:contains(\"# Temp\")').closest('.cell').remove();"
      ],
      "text/plain": [
       "<IPython.core.display.Javascript object>"
      ]
     },
     "metadata": {},
     "output_type": "display_data"
    },
    {
     "data": {
      "application/javascript": [
       "\n",
       "        $('span:contains(\"# Temp\")').closest('.cell').remove();\n",
       "        var code = IPython.notebook.insert_cell_below('code');\n",
       "        var prompt = code.element.find(\".input_prompt\");\n",
       "        prompt.append('<br><button style=\"height: 100%; width: 54px;\">Run</button>');\n",
       "        prompt.on(\"click\", \"button\", function(){\n",
       "            code.execute();\n",
       "        });\n",
       "        code.set_text(decodeURIComponent(window.atob(\"JTIzJTIwVGVtcCUwQWluc2VydCUyOCUyNyUyNyUyNyUyNyUyNyUyNyUyOSUzQiUwQXNldF9hdHRyaWJ1dGUlMjglMjd1bnRlcmthbG1zdGVpbmVyMjAxMmElMjclMkMlMjAlMjdhcnRfbnVtYmVyJTI3JTJDJTIwJTI3NTcyODgzMiUyNyUyOSUzQiUwQXNldF9hdHRyaWJ1dGUlMjglMjd1bnRlcmthbG1zdGVpbmVyMjAxMmElMjclMkMlMjAlMjdsaW5rJTI3JTJDJTIwJTI3aHR0cHMlM0EvL3d3dy5zY29wdXMuY29tL2lud2FyZC9yZWNvcmQudXJpJTNGZWlkJTNEMi1zMi4wLTg0ODU5NzQ3Mjg2JTI2ZG9pJTNEMTAuMTEwOSUyNTJmVFNFLjIwMTEuMjYlMjZwYXJ0bmVySUQlM0Q0MCUyNm1kNSUzRGY4YzM0MDQxNjg0MDY3M2M1OGJjMmRkZmIyYjdiMDk4JTI3JTI5JTNCJTBBc2V0X2F0dHJpYnV0ZSUyOCUyN3VudGVya2FsbXN0ZWluZXIyMDEyYSUyNyUyQyUyMCUyN3Njb3B1czIwMTYlMjclMkMlMjAlMjcxJTI3JTI5JTNC\")));\n",
       "    "
      ],
      "text/plain": [
       "<IPython.core.display.Javascript object>"
      ]
     },
     "metadata": {},
     "output_type": "display_data"
    },
    {
     "data": {
      "application/javascript": [
       "$('span:contains(\"# Temp\")').closest('.cell').remove();"
      ],
      "text/plain": [
       "<IPython.core.display.Javascript object>"
      ]
     },
     "metadata": {},
     "output_type": "display_data"
    },
    {
     "data": {
      "application/javascript": [
       "\n",
       "        $('span:contains(\"# Temp\")').closest('.cell').remove();\n",
       "        var code = IPython.notebook.insert_cell_below('code');\n",
       "        var prompt = code.element.find(\".input_prompt\");\n",
       "        prompt.append('<br><button style=\"height: 100%; width: 54px;\">Run</button>');\n",
       "        prompt.on(\"click\", \"button\", function(){\n",
       "            code.execute();\n",
       "        });\n",
       "        code.set_text(decodeURIComponent(window.atob(\"JTIzJTIwVGVtcCUwQWluc2VydCUyOCUyNyUyNyUyNyUyNyUyNyUyNyUyOSUzQiUwQXNldF9hdHRyaWJ1dGUlMjglMjdnYXplbDIwMTJhJTI3JTJDJTIwJTI3bGluayUyNyUyQyUyMCUyN2h0dHBzJTNBLy93d3cuc2NvcHVzLmNvbS9pbndhcmQvcmVjb3JkLnVyaSUzRmVpZCUzRDItczIuMC04NDg1NjU4MjMxMiUyNnBhcnRuZXJJRCUzRDQwJTI2bWQ1JTNEMjQxOTlkYjk0NjQyYTczNDQxYjk5ZDQyM2FkNjE2YmUlMjclMjklM0IlMEFzZXRfYXR0cmlidXRlJTI4JTI3Z2F6ZWwyMDEyYSUyNyUyQyUyMCUyN3Njb3B1czIwMTYlMjclMkMlMjAlMjcxJTI3JTI5JTNC\")));\n",
       "    "
      ],
      "text/plain": [
       "<IPython.core.display.Javascript object>"
      ]
     },
     "metadata": {},
     "output_type": "display_data"
    },
    {
     "data": {
      "application/javascript": [
       "$('span:contains(\"# Temp\")').closest('.cell').remove();"
      ],
      "text/plain": [
       "<IPython.core.display.Javascript object>"
      ]
     },
     "metadata": {},
     "output_type": "display_data"
    },
    {
     "data": {
      "application/javascript": [
       "\n",
       "        $('span:contains(\"# Temp\")').closest('.cell').remove();\n",
       "        var code = IPython.notebook.insert_cell_below('code');\n",
       "        var prompt = code.element.find(\".input_prompt\");\n",
       "        prompt.append('<br><button style=\"height: 100%; width: 54px;\">Run</button>');\n",
       "        prompt.on(\"click\", \"button\", function(){\n",
       "            code.execute();\n",
       "        });\n",
       "        code.set_text(decodeURIComponent(window.atob(\"JTIzJTIwVGVtcCUwQWluc2VydCUyOCUyNyUyNyUyNyUyNyUyNyUyNyUyOSUzQiUwQXNldF9hdHRyaWJ1dGUlMjglMjdnYXplbDIwMTJhJTI3JTJDJTIwJTI3bGluayUyNyUyQyUyMCUyN2h0dHBzJTNBLy93d3cuc2NvcHVzLmNvbS9pbndhcmQvcmVjb3JkLnVyaSUzRmVpZCUzRDItczIuMC04NDg1NjU4MjMxMiUyNnBhcnRuZXJJRCUzRDQwJTI2bWQ1JTNEMjQxOTlkYjk0NjQyYTczNDQxYjk5ZDQyM2FkNjE2YmUlMjclMjklM0IlMEFzZXRfYXR0cmlidXRlJTI4JTI3Z2F6ZWwyMDEyYSUyNyUyQyUyMCUyN3Njb3B1czIwMTYlMjclMkMlMjAlMjcxJTI3JTI5JTNC\")));\n",
       "    "
      ],
      "text/plain": [
       "<IPython.core.display.Javascript object>"
      ]
     },
     "metadata": {},
     "output_type": "display_data"
    },
    {
     "data": {
      "application/javascript": [
       "$('span:contains(\"# Temp\")').closest('.cell').remove();"
      ],
      "text/plain": [
       "<IPython.core.display.Javascript object>"
      ]
     },
     "metadata": {},
     "output_type": "display_data"
    },
    {
     "data": {
      "application/javascript": [
       "\n",
       "        $('span:contains(\"# Temp\")').closest('.cell').remove();\n",
       "        var code = IPython.notebook.insert_cell_below('code');\n",
       "        var prompt = code.element.find(\".input_prompt\");\n",
       "        prompt.append('<br><button style=\"height: 100%; width: 54px;\">Run</button>');\n",
       "        prompt.on(\"click\", \"button\", function(){\n",
       "            code.execute();\n",
       "        });\n",
       "        code.set_text(decodeURIComponent(window.atob(\"JTIzJTIwVGVtcCUwQWluc2VydCUyOCUyNyUyNyUyNyUyNyUyNyUyNyUyOSUzQiUwQXNldF9hdHRyaWJ1dGUlMjglMjdoZTIwMTJhJTI3JTJDJTIwJTI3dm9sdW1lJTI3JTJDJTIwJTI3MTE0JTI3JTI5JTNCJTBBc2V0X2F0dHJpYnV0ZSUyOCUyN2hlMjAxMmElMjclMkMlMjAlMjdsaW5rJTI3JTJDJTIwJTI3aHR0cHMlM0EvL3d3dy5zY29wdXMuY29tL2lud2FyZC9yZWNvcmQudXJpJTNGZWlkJTNEMi1zMi4wLTg0ODU2MjUzMTYxJTI2ZG9pJTNEMTAuMTAwNyUyNTJmOTc4LTMtNjQyLTAzNzE4LTRfNjIlMjZwYXJ0bmVySUQlM0Q0MCUyNm1kNSUzRGYzZmRmNDM0MGZkMTY5ZmQ5OWMxNWYwYTkwYTMwYWJiJTI3JTI5JTNCJTBBc2V0X2F0dHJpYnV0ZSUyOCUyN2hlMjAxMmElMjclMkMlMjAlMjdzY29wdXMyMDE2JTI3JTJDJTIwJTI3MSUyNyUyOSUzQg==\")));\n",
       "    "
      ],
      "text/plain": [
       "<IPython.core.display.Javascript object>"
      ]
     },
     "metadata": {},
     "output_type": "display_data"
    },
    {
     "data": {
      "application/javascript": [
       "$('span:contains(\"# Temp\")').closest('.cell').remove();"
      ],
      "text/plain": [
       "<IPython.core.display.Javascript object>"
      ]
     },
     "metadata": {},
     "output_type": "display_data"
    },
    {
     "data": {
      "application/javascript": [
       "\n",
       "        $('span:contains(\"# Temp\")').closest('.cell').remove();\n",
       "        var code = IPython.notebook.insert_cell_below('code');\n",
       "        var prompt = code.element.find(\".input_prompt\");\n",
       "        prompt.append('<br><button style=\"height: 100%; width: 54px;\">Run</button>');\n",
       "        prompt.on(\"click\", \"button\", function(){\n",
       "            code.execute();\n",
       "        });\n",
       "        code.set_text(decodeURIComponent(window.atob(\"JTIzJTIwVGVtcCUwQWluc2VydCUyOCUyNyUyNyUyNyUyNyUyNyUyNyUyOSUzQiUwQXNldF9hdHRyaWJ1dGUlMjglMjdoZTIwMTJhJTI3JTJDJTIwJTI3dm9sdW1lJTI3JTJDJTIwJTI3MTE0JTI3JTI5JTNCJTBBc2V0X2F0dHJpYnV0ZSUyOCUyN2hlMjAxMmElMjclMkMlMjAlMjdsaW5rJTI3JTJDJTIwJTI3aHR0cHMlM0EvL3d3dy5zY29wdXMuY29tL2lud2FyZC9yZWNvcmQudXJpJTNGZWlkJTNEMi1zMi4wLTg0ODU2MjUzMTYxJTI2ZG9pJTNEMTAuMTAwNyUyNTJmOTc4LTMtNjQyLTAzNzE4LTRfNjIlMjZwYXJ0bmVySUQlM0Q0MCUyNm1kNSUzRGYzZmRmNDM0MGZkMTY5ZmQ5OWMxNWYwYTkwYTMwYWJiJTI3JTI5JTNCJTBBc2V0X2F0dHJpYnV0ZSUyOCUyN2hlMjAxMmElMjclMkMlMjAlMjdzY29wdXMyMDE2JTI3JTJDJTIwJTI3MSUyNyUyOSUzQg==\")));\n",
       "    "
      ],
      "text/plain": [
       "<IPython.core.display.Javascript object>"
      ]
     },
     "metadata": {},
     "output_type": "display_data"
    },
    {
     "data": {
      "application/javascript": [
       "$('span:contains(\"# Temp\")').closest('.cell').remove();"
      ],
      "text/plain": [
       "<IPython.core.display.Javascript object>"
      ]
     },
     "metadata": {},
     "output_type": "display_data"
    },
    {
     "data": {
      "application/javascript": [
       "\n",
       "        $('span:contains(\"# Temp\")').closest('.cell').remove();\n",
       "        var code = IPython.notebook.insert_cell_below('code');\n",
       "        var prompt = code.element.find(\".input_prompt\");\n",
       "        prompt.append('<br><button style=\"height: 100%; width: 54px;\">Run</button>');\n",
       "        prompt.on(\"click\", \"button\", function(){\n",
       "            code.execute();\n",
       "        });\n",
       "        code.set_text(decodeURIComponent(window.atob(\"JTIzJTIwVGVtcCUwQWluc2VydCUyOCUyNyUyNyUyNyUyNyUyNyUyNyUyOSUzQiUwQXNldF9hdHRyaWJ1dGUlMjglMjdyaWZhdXQyMDExYiUyNyUyQyUyMCUyN2FydF9udW1iZXIlMjclMkMlMjAlMjc2MDUwMjY4JTI3JTI5JTNCJTBBc2V0X2F0dHJpYnV0ZSUyOCUyN3JpZmF1dDIwMTFiJTI3JTJDJTIwJTI3bGluayUyNyUyQyUyMCUyN2h0dHBzJTNBLy93d3cuc2NvcHVzLmNvbS9pbndhcmQvcmVjb3JkLnVyaSUzRmVpZCUzRDItczIuMC04MDg1NTEyOTUxMSUyNmRvaSUzRDEwLjExMDklMjUyZlJFTEFXLjIwMTEuNjA1MDI2OCUyNnBhcnRuZXJJRCUzRDQwJTI2bWQ1JTNEOGY2MDkwM2ZmNGY0MWVjOTIyMDMyOWFmZDk2ZmM5ODklMjclMjklM0IlMEFzZXRfYXR0cmlidXRlJTI4JTI3cmlmYXV0MjAxMWIlMjclMkMlMjAlMjdzY29wdXMyMDE2JTI3JTJDJTIwJTI3MSUyNyUyOSUzQg==\")));\n",
       "    "
      ],
      "text/plain": [
       "<IPython.core.display.Javascript object>"
      ]
     },
     "metadata": {},
     "output_type": "display_data"
    },
    {
     "data": {
      "application/javascript": [
       "$('span:contains(\"# Temp\")').closest('.cell').remove();"
      ],
      "text/plain": [
       "<IPython.core.display.Javascript object>"
      ]
     },
     "metadata": {},
     "output_type": "display_data"
    },
    {
     "data": {
      "application/javascript": [
       "\n",
       "        $('span:contains(\"# Temp\")').closest('.cell').remove();\n",
       "        var code = IPython.notebook.insert_cell_below('code');\n",
       "        var prompt = code.element.find(\".input_prompt\");\n",
       "        prompt.append('<br><button style=\"height: 100%; width: 54px;\">Run</button>');\n",
       "        prompt.on(\"click\", \"button\", function(){\n",
       "            code.execute();\n",
       "        });\n",
       "        code.set_text(decodeURIComponent(window.atob(\"JTIzJTIwVGVtcCUwQWluc2VydCUyOCUyNyUyNyUyNyUyNyUyNyUyNyUyOSUzQiUwQXNldF9hdHRyaWJ1dGUlMjglMjdyaWZhdXQyMDExYiUyNyUyQyUyMCUyN2FydF9udW1iZXIlMjclMkMlMjAlMjc2MDUwMjY4JTI3JTI5JTNCJTBBc2V0X2F0dHJpYnV0ZSUyOCUyN3JpZmF1dDIwMTFiJTI3JTJDJTIwJTI3bGluayUyNyUyQyUyMCUyN2h0dHBzJTNBLy93d3cuc2NvcHVzLmNvbS9pbndhcmQvcmVjb3JkLnVyaSUzRmVpZCUzRDItczIuMC04MDg1NTEyOTUxMSUyNmRvaSUzRDEwLjExMDklMjUyZlJFTEFXLjIwMTEuNjA1MDI2OCUyNnBhcnRuZXJJRCUzRDQwJTI2bWQ1JTNEOGY2MDkwM2ZmNGY0MWVjOTIyMDMyOWFmZDk2ZmM5ODklMjclMjklM0IlMEFzZXRfYXR0cmlidXRlJTI4JTI3cmlmYXV0MjAxMWIlMjclMkMlMjAlMjdzY29wdXMyMDE2JTI3JTJDJTIwJTI3MSUyNyUyOSUzQg==\")));\n",
       "    "
      ],
      "text/plain": [
       "<IPython.core.display.Javascript object>"
      ]
     },
     "metadata": {},
     "output_type": "display_data"
    },
    {
     "data": {
      "application/javascript": [
       "$('span:contains(\"# Temp\")').closest('.cell').remove();"
      ],
      "text/plain": [
       "<IPython.core.display.Javascript object>"
      ]
     },
     "metadata": {},
     "output_type": "display_data"
    },
    {
     "data": {
      "application/javascript": [
       "\n",
       "        $('span:contains(\"# Temp\")').closest('.cell').remove();\n",
       "        var code = IPython.notebook.insert_cell_below('code');\n",
       "        var prompt = code.element.find(\".input_prompt\");\n",
       "        prompt.append('<br><button style=\"height: 100%; width: 54px;\">Run</button>');\n",
       "        prompt.on(\"click\", \"button\", function(){\n",
       "            code.execute();\n",
       "        });\n",
       "        code.set_text(decodeURIComponent(window.atob(\"JTIzJTIwVGVtcCUwQWluc2VydCUyOCUyNyUyNyUyNyUyNyUyNyUyNyUyOSUzQiUwQXNldF9hdHRyaWJ1dGUlMjglMjdoYXVjazIwMTFhJTI3JTJDJTIwJTI3dm9sdW1lJTI3JTJDJTIwJTI3Njc1OSUyMExOQ1MlMjclMjklM0IlMEFzZXRfYXR0cmlidXRlJTI4JTI3aGF1Y2syMDExYSUyNyUyQyUyMCUyN2xpbmslMjclMkMlMjAlMjdodHRwcyUzQS8vd3d3LnNjb3B1cy5jb20vaW53YXJkL3JlY29yZC51cmklM0ZlaWQlM0QyLXMyLjAtNzk5NjAzMDI3MjIlMjZkb2klM0QxMC4xMDA3JTI1MmY5NzgtMy02NDItMjE4NDMtOV82JTI2cGFydG5lcklEJTNENDAlMjZtZDUlM0QxN2JhMTRlM2UxYTViYTMxNzZjZTk5MjEwZjdhYmNmOCUyNyUyOSUzQiUwQXNldF9hdHRyaWJ1dGUlMjglMjdoYXVjazIwMTFhJTI3JTJDJTIwJTI3c2NvcHVzMjAxNiUyNyUyQyUyMCUyNzElMjclMjklM0I=\")));\n",
       "    "
      ],
      "text/plain": [
       "<IPython.core.display.Javascript object>"
      ]
     },
     "metadata": {},
     "output_type": "display_data"
    },
    {
     "data": {
      "application/javascript": [
       "$('span:contains(\"# Temp\")').closest('.cell').remove();"
      ],
      "text/plain": [
       "<IPython.core.display.Javascript object>"
      ]
     },
     "metadata": {},
     "output_type": "display_data"
    },
    {
     "data": {
      "application/javascript": [
       "\n",
       "        $('span:contains(\"# Temp\")').closest('.cell').remove();\n",
       "        var code = IPython.notebook.insert_cell_below('code');\n",
       "        var prompt = code.element.find(\".input_prompt\");\n",
       "        prompt.append('<br><button style=\"height: 100%; width: 54px;\">Run</button>');\n",
       "        prompt.on(\"click\", \"button\", function(){\n",
       "            code.execute();\n",
       "        });\n",
       "        code.set_text(decodeURIComponent(window.atob(\"JTIzJTIwVGVtcCUwQWluc2VydCUyOCUyNyUyNyUyNyUyNyUyNyUyNyUyOSUzQiUwQXNldF9hdHRyaWJ1dGUlMjglMjdoYXVjazIwMTFhJTI3JTJDJTIwJTI3dm9sdW1lJTI3JTJDJTIwJTI3Njc1OSUyMExOQ1MlMjclMjklM0IlMEFzZXRfYXR0cmlidXRlJTI4JTI3aGF1Y2syMDExYSUyNyUyQyUyMCUyN2xpbmslMjclMkMlMjAlMjdodHRwcyUzQS8vd3d3LnNjb3B1cy5jb20vaW53YXJkL3JlY29yZC51cmklM0ZlaWQlM0QyLXMyLjAtNzk5NjAzMDI3MjIlMjZkb2klM0QxMC4xMDA3JTI1MmY5NzgtMy02NDItMjE4NDMtOV82JTI2cGFydG5lcklEJTNENDAlMjZtZDUlM0QxN2JhMTRlM2UxYTViYTMxNzZjZTk5MjEwZjdhYmNmOCUyNyUyOSUzQiUwQXNldF9hdHRyaWJ1dGUlMjglMjdoYXVjazIwMTFhJTI3JTJDJTIwJTI3c2NvcHVzMjAxNiUyNyUyQyUyMCUyNzElMjclMjklM0I=\")));\n",
       "    "
      ],
      "text/plain": [
       "<IPython.core.display.Javascript object>"
      ]
     },
     "metadata": {},
     "output_type": "display_data"
    },
    {
     "data": {
      "application/javascript": [
       "$('span:contains(\"# Temp\")').closest('.cell').remove();"
      ],
      "text/plain": [
       "<IPython.core.display.Javascript object>"
      ]
     },
     "metadata": {},
     "output_type": "display_data"
    },
    {
     "data": {
      "application/javascript": [
       "\n",
       "        $('span:contains(\"# Temp\")').closest('.cell').remove();\n",
       "        var code = IPython.notebook.insert_cell_below('code');\n",
       "        var prompt = code.element.find(\".input_prompt\");\n",
       "        prompt.append('<br><button style=\"height: 100%; width: 54px;\">Run</button>');\n",
       "        prompt.on(\"click\", \"button\", function(){\n",
       "            code.execute();\n",
       "        });\n",
       "        code.set_text(decodeURIComponent(window.atob(\"JTIzJTIwVGVtcCUwQWluc2VydCUyOCUyNyUyNyUyNyUyNyUyNyUyNyUyOSUzQiUwQXNldF9hdHRyaWJ1dGUlMjglMjdoZW5kZXJzb24yMDExYSUyNyUyQyUyMCUyN3ZvbHVtZSUyNyUyQyUyMCUyNzY1MjAlMjclMjklM0IlMEFzZXRfYXR0cmlidXRlJTI4JTI3aGVuZGVyc29uMjAxMWElMjclMkMlMjAlMjdsaW5rJTI3JTJDJTIwJTI3aHR0cHMlM0EvL3d3dy5zY29wdXMuY29tL2lud2FyZC9yZWNvcmQudXJpJTNGZWlkJTNEMi1zMi4wLTc5OTU2MDc0OTI3JTI2ZG9pJTNEMTAuMTAwNyUyNTJmOTc4LTMtNjQyLTE3NTA1LTNfNSUyNnBhcnRuZXJJRCUzRDQwJTI2bWQ1JTNEY2M0NWZkN2I3OTE0ZDJjNWE3ZmUzNWJmMDUyZjYxMTAlMjclMjklM0IlMEFzZXRfYXR0cmlidXRlJTI4JTI3aGVuZGVyc29uMjAxMWElMjclMkMlMjAlMjdzY29wdXMyMDE2JTI3JTJDJTIwJTI3MSUyNyUyOSUzQg==\")));\n",
       "    "
      ],
      "text/plain": [
       "<IPython.core.display.Javascript object>"
      ]
     },
     "metadata": {},
     "output_type": "display_data"
    },
    {
     "data": {
      "application/javascript": [
       "$('span:contains(\"# Temp\")').closest('.cell').remove();"
      ],
      "text/plain": [
       "<IPython.core.display.Javascript object>"
      ]
     },
     "metadata": {},
     "output_type": "display_data"
    },
    {
     "data": {
      "application/javascript": [
       "\n",
       "        $('span:contains(\"# Temp\")').closest('.cell').remove();\n",
       "        var code = IPython.notebook.insert_cell_below('code');\n",
       "        var prompt = code.element.find(\".input_prompt\");\n",
       "        prompt.append('<br><button style=\"height: 100%; width: 54px;\">Run</button>');\n",
       "        prompt.on(\"click\", \"button\", function(){\n",
       "            code.execute();\n",
       "        });\n",
       "        code.set_text(decodeURIComponent(window.atob(\"JTIzJTIwVGVtcCUwQWluc2VydCUyOCUyNyUyNyUyNyUyNyUyNyUyNyUyOSUzQiUwQXNldF9hdHRyaWJ1dGUlMjglMjdoZW5kZXJzb24yMDExYSUyNyUyQyUyMCUyN3ZvbHVtZSUyNyUyQyUyMCUyNzY1MjAlMjclMjklM0IlMEFzZXRfYXR0cmlidXRlJTI4JTI3aGVuZGVyc29uMjAxMWElMjclMkMlMjAlMjdsaW5rJTI3JTJDJTIwJTI3aHR0cHMlM0EvL3d3dy5zY29wdXMuY29tL2lud2FyZC9yZWNvcmQudXJpJTNGZWlkJTNEMi1zMi4wLTc5OTU2MDc0OTI3JTI2ZG9pJTNEMTAuMTAwNyUyNTJmOTc4LTMtNjQyLTE3NTA1LTNfNSUyNnBhcnRuZXJJRCUzRDQwJTI2bWQ1JTNEY2M0NWZkN2I3OTE0ZDJjNWE3ZmUzNWJmMDUyZjYxMTAlMjclMjklM0IlMEFzZXRfYXR0cmlidXRlJTI4JTI3aGVuZGVyc29uMjAxMWElMjclMkMlMjAlMjdzY29wdXMyMDE2JTI3JTJDJTIwJTI3MSUyNyUyOSUzQg==\")));\n",
       "    "
      ],
      "text/plain": [
       "<IPython.core.display.Javascript object>"
      ]
     },
     "metadata": {},
     "output_type": "display_data"
    },
    {
     "data": {
      "application/javascript": [
       "$('span:contains(\"# Temp\")').closest('.cell').remove();"
      ],
      "text/plain": [
       "<IPython.core.display.Javascript object>"
      ]
     },
     "metadata": {},
     "output_type": "display_data"
    },
    {
     "data": {
      "application/javascript": [
       "\n",
       "        $('span:contains(\"# Temp\")').closest('.cell').remove();\n",
       "        var code = IPython.notebook.insert_cell_below('code');\n",
       "        var prompt = code.element.find(\".input_prompt\");\n",
       "        prompt.append('<br><button style=\"height: 100%; width: 54px;\">Run</button>');\n",
       "        prompt.on(\"click\", \"button\", function(){\n",
       "            code.execute();\n",
       "        });\n",
       "        code.set_text(decodeURIComponent(window.atob(\"JTIzJTIwVGVtcCUwQWluc2VydCUyOCUyNyUyNyUyNyUyNyUyNyUyNyUyOSUzQiUwQXNldF9hdHRyaWJ1dGUlMjglMjdzYW50b3MyMDExYSUyNyUyQyUyMCUyN2xpbmslMjclMkMlMjAlMjdodHRwcyUzQS8vd3d3LnNjb3B1cy5jb20vaW53YXJkL3JlY29yZC51cmklM0ZlaWQlM0QyLXMyLjAtNzk5NTU2Mzg3NjclMjZkb2klM0QxMC4xMDE2JTI1MmZCOTc4LTAtMTItMzg1NTEwLTcuMDAwMDUtOSUyNnBhcnRuZXJJRCUzRDQwJTI2bWQ1JTNEOTQ4NWJhYzlkMzRmMTY5MzIwZWE2ZDkzMDY2ZDc3MTIlMjclMjklM0IlMEFzZXRfYXR0cmlidXRlJTI4JTI3c2FudG9zMjAxMWElMjclMkMlMjAlMjdzY29wdXMyMDE2JTI3JTJDJTIwJTI3MSUyNyUyOSUzQg==\")));\n",
       "    "
      ],
      "text/plain": [
       "<IPython.core.display.Javascript object>"
      ]
     },
     "metadata": {},
     "output_type": "display_data"
    },
    {
     "data": {
      "application/javascript": [
       "$('span:contains(\"# Temp\")').closest('.cell').remove();"
      ],
      "text/plain": [
       "<IPython.core.display.Javascript object>"
      ]
     },
     "metadata": {},
     "output_type": "display_data"
    },
    {
     "data": {
      "application/javascript": [
       "\n",
       "        $('span:contains(\"# Temp\")').closest('.cell').remove();\n",
       "        var code = IPython.notebook.insert_cell_below('code');\n",
       "        var prompt = code.element.find(\".input_prompt\");\n",
       "        prompt.append('<br><button style=\"height: 100%; width: 54px;\">Run</button>');\n",
       "        prompt.on(\"click\", \"button\", function(){\n",
       "            code.execute();\n",
       "        });\n",
       "        code.set_text(decodeURIComponent(window.atob(\"JTIzJTIwVGVtcCUwQWluc2VydCUyOCUyNyUyNyUyNyUyNyUyNyUyNyUyOSUzQiUwQXNldF9hdHRyaWJ1dGUlMjglMjdzYW50b3MyMDExYSUyNyUyQyUyMCUyN2xpbmslMjclMkMlMjAlMjdodHRwcyUzQS8vd3d3LnNjb3B1cy5jb20vaW53YXJkL3JlY29yZC51cmklM0ZlaWQlM0QyLXMyLjAtNzk5NTU2Mzg3NjclMjZkb2klM0QxMC4xMDE2JTI1MmZCOTc4LTAtMTItMzg1NTEwLTcuMDAwMDUtOSUyNnBhcnRuZXJJRCUzRDQwJTI2bWQ1JTNEOTQ4NWJhYzlkMzRmMTY5MzIwZWE2ZDkzMDY2ZDc3MTIlMjclMjklM0IlMEFzZXRfYXR0cmlidXRlJTI4JTI3c2FudG9zMjAxMWElMjclMkMlMjAlMjdzY29wdXMyMDE2JTI3JTJDJTIwJTI3MSUyNyUyOSUzQg==\")));\n",
       "    "
      ],
      "text/plain": [
       "<IPython.core.display.Javascript object>"
      ]
     },
     "metadata": {},
     "output_type": "display_data"
    },
    {
     "data": {
      "application/javascript": [
       "$('span:contains(\"# Temp\")').closest('.cell').remove();"
      ],
      "text/plain": [
       "<IPython.core.display.Javascript object>"
      ]
     },
     "metadata": {},
     "output_type": "display_data"
    },
    {
     "data": {
      "application/javascript": [
       "\n",
       "        $('span:contains(\"# Temp\")').closest('.cell').remove();\n",
       "        var code = IPython.notebook.insert_cell_below('code');\n",
       "        var prompt = code.element.find(\".input_prompt\");\n",
       "        prompt.append('<br><button style=\"height: 100%; width: 54px;\">Run</button>');\n",
       "        prompt.on(\"click\", \"button\", function(){\n",
       "            code.execute();\n",
       "        });\n",
       "        code.set_text(decodeURIComponent(window.atob(\"JTIzJTIwVGVtcCUwQWluc2VydCUyOCUyNyUyNyUyNyUyNyUyNyUyNyUyOSUzQiUwQXNldF9hdHRyaWJ1dGUlMjglMjdsJUMzJUFEMjAxMWElMjclMkMlMjAlMjdsaW5rJTI3JTJDJTIwJTI3aHR0cHMlM0EvL3d3dy5zY29wdXMuY29tL2lud2FyZC9yZWNvcmQudXJpJTNGZWlkJTNEMi1zMi4wLTgwNzU1MTYzNjcxJTI2ZG9pJTNEMTAuMjI5OCUyNTJmQ1NJUzEwMTIzMDAxMUwlMjZwYXJ0bmVySUQlM0Q0MCUyNm1kNSUzRGZjNDk2OTg5ZDY5NDA5ZWUwMWFmYWM5Y2NkMDJmOWMyJTI3JTI5JTNCJTBBc2V0X2F0dHJpYnV0ZSUyOCUyN2wlQzMlQUQyMDExYSUyNyUyQyUyMCUyN3Njb3B1czIwMTYlMjclMkMlMjAlMjcxJTI3JTI5JTNC\")));\n",
       "    "
      ],
      "text/plain": [
       "<IPython.core.display.Javascript object>"
      ]
     },
     "metadata": {},
     "output_type": "display_data"
    },
    {
     "data": {
      "application/javascript": [
       "$('span:contains(\"# Temp\")').closest('.cell').remove();"
      ],
      "text/plain": [
       "<IPython.core.display.Javascript object>"
      ]
     },
     "metadata": {},
     "output_type": "display_data"
    },
    {
     "data": {
      "application/javascript": [
       "\n",
       "        $('span:contains(\"# Temp\")').closest('.cell').remove();\n",
       "        var code = IPython.notebook.insert_cell_below('code');\n",
       "        var prompt = code.element.find(\".input_prompt\");\n",
       "        prompt.append('<br><button style=\"height: 100%; width: 54px;\">Run</button>');\n",
       "        prompt.on(\"click\", \"button\", function(){\n",
       "            code.execute();\n",
       "        });\n",
       "        code.set_text(decodeURIComponent(window.atob(\"JTIzJTIwVGVtcCUwQWluc2VydCUyOCUyNyUyNyUyNyUyNyUyNyUyNyUyOSUzQiUwQXNldF9hdHRyaWJ1dGUlMjglMjdsJUMzJUFEMjAxMWElMjclMkMlMjAlMjdsaW5rJTI3JTJDJTIwJTI3aHR0cHMlM0EvL3d3dy5zY29wdXMuY29tL2lud2FyZC9yZWNvcmQudXJpJTNGZWlkJTNEMi1zMi4wLTgwNzU1MTYzNjcxJTI2ZG9pJTNEMTAuMjI5OCUyNTJmQ1NJUzEwMTIzMDAxMUwlMjZwYXJ0bmVySUQlM0Q0MCUyNm1kNSUzRGZjNDk2OTg5ZDY5NDA5ZWUwMWFmYWM5Y2NkMDJmOWMyJTI3JTI5JTNCJTBBc2V0X2F0dHJpYnV0ZSUyOCUyN2wlQzMlQUQyMDExYSUyNyUyQyUyMCUyN3Njb3B1czIwMTYlMjclMkMlMjAlMjcxJTI3JTI5JTNC\")));\n",
       "    "
      ],
      "text/plain": [
       "<IPython.core.display.Javascript object>"
      ]
     },
     "metadata": {},
     "output_type": "display_data"
    },
    {
     "data": {
      "application/javascript": [
       "$('span:contains(\"# Temp\")').closest('.cell').remove();"
      ],
      "text/plain": [
       "<IPython.core.display.Javascript object>"
      ]
     },
     "metadata": {},
     "output_type": "display_data"
    },
    {
     "data": {
      "application/javascript": [
       "\n",
       "        $('span:contains(\"# Temp\")').closest('.cell').remove();\n",
       "        var code = IPython.notebook.insert_cell_below('code');\n",
       "        var prompt = code.element.find(\".input_prompt\");\n",
       "        prompt.append('<br><button style=\"height: 100%; width: 54px;\">Run</button>');\n",
       "        prompt.on(\"click\", \"button\", function(){\n",
       "            code.execute();\n",
       "        });\n",
       "        code.set_text(decodeURIComponent(window.atob(\"JTIzJTIwVGVtcCUwQWluc2VydCUyOCUyNyUyNyUyNyUyNyUyNyUyNyUyOSUzQiUwQXNldF9hdHRyaWJ1dGUlMjglMjdkYXJhbW9sYTIwMTBhJTI3JTJDJTIwJTI3dm9sdW1lJTI3JTJDJTIwJTI3NjM4NSUyMExOQ1MlMjclMjklM0IlMEFzZXRfYXR0cmlidXRlJTI4JTI3ZGFyYW1vbGEyMDEwYSUyNyUyQyUyMCUyN2xpbmslMjclMkMlMjAlMjdodHRwcyUzQS8vd3d3LnNjb3B1cy5jb20vaW53YXJkL3JlY29yZC51cmklM0ZlaWQlM0QyLXMyLjAtNzg2NDk4MDUxMzglMjZkb2klM0QxMC4xMDA3JTI1MmY5NzgtMy02NDItMTY5ODUtNF81MCUyNnBhcnRuZXJJRCUzRDQwJTI2bWQ1JTNEMmFmOGM4NDQzZTNkYWM1NTBhZGE5NTNkZWFiMjcyYWUlMjclMjklM0IlMEFzZXRfYXR0cmlidXRlJTI4JTI3ZGFyYW1vbGEyMDEwYSUyNyUyQyUyMCUyN3Njb3B1czIwMTYlMjclMkMlMjAlMjcxJTI3JTI5JTNC\")));\n",
       "    "
      ],
      "text/plain": [
       "<IPython.core.display.Javascript object>"
      ]
     },
     "metadata": {},
     "output_type": "display_data"
    },
    {
     "data": {
      "application/javascript": [
       "$('span:contains(\"# Temp\")').closest('.cell').remove();"
      ],
      "text/plain": [
       "<IPython.core.display.Javascript object>"
      ]
     },
     "metadata": {},
     "output_type": "display_data"
    },
    {
     "data": {
      "application/javascript": [
       "\n",
       "        $('span:contains(\"# Temp\")').closest('.cell').remove();\n",
       "        var code = IPython.notebook.insert_cell_below('code');\n",
       "        var prompt = code.element.find(\".input_prompt\");\n",
       "        prompt.append('<br><button style=\"height: 100%; width: 54px;\">Run</button>');\n",
       "        prompt.on(\"click\", \"button\", function(){\n",
       "            code.execute();\n",
       "        });\n",
       "        code.set_text(decodeURIComponent(window.atob(\"JTIzJTIwVGVtcCUwQWluc2VydCUyOCUyNyUyNyUyNyUyNyUyNyUyNyUyOSUzQiUwQXNldF9hdHRyaWJ1dGUlMjglMjdkYXJhbW9sYTIwMTBhJTI3JTJDJTIwJTI3dm9sdW1lJTI3JTJDJTIwJTI3NjM4NSUyMExOQ1MlMjclMjklM0IlMEFzZXRfYXR0cmlidXRlJTI4JTI3ZGFyYW1vbGEyMDEwYSUyNyUyQyUyMCUyN2xpbmslMjclMkMlMjAlMjdodHRwcyUzQS8vd3d3LnNjb3B1cy5jb20vaW53YXJkL3JlY29yZC51cmklM0ZlaWQlM0QyLXMyLjAtNzg2NDk4MDUxMzglMjZkb2klM0QxMC4xMDA3JTI1MmY5NzgtMy02NDItMTY5ODUtNF81MCUyNnBhcnRuZXJJRCUzRDQwJTI2bWQ1JTNEMmFmOGM4NDQzZTNkYWM1NTBhZGE5NTNkZWFiMjcyYWUlMjclMjklM0IlMEFzZXRfYXR0cmlidXRlJTI4JTI3ZGFyYW1vbGEyMDEwYSUyNyUyQyUyMCUyN3Njb3B1czIwMTYlMjclMkMlMjAlMjcxJTI3JTI5JTNC\")));\n",
       "    "
      ],
      "text/plain": [
       "<IPython.core.display.Javascript object>"
      ]
     },
     "metadata": {},
     "output_type": "display_data"
    },
    {
     "data": {
      "application/javascript": [
       "$('span:contains(\"# Temp\")').closest('.cell').remove();"
      ],
      "text/plain": [
       "<IPython.core.display.Javascript object>"
      ]
     },
     "metadata": {},
     "output_type": "display_data"
    },
    {
     "data": {
      "application/javascript": [
       "\n",
       "        $('span:contains(\"# Temp\")').closest('.cell').remove();\n",
       "        var code = IPython.notebook.insert_cell_below('code');\n",
       "        var prompt = code.element.find(\".input_prompt\");\n",
       "        prompt.append('<br><button style=\"height: 100%; width: 54px;\">Run</button>');\n",
       "        prompt.on(\"click\", \"button\", function(){\n",
       "            code.execute();\n",
       "        });\n",
       "        code.set_text(decodeURIComponent(window.atob(\"JTIzJTIwVGVtcCUwQWluc2VydCUyOCUyNyUyNyUyNyUyNyUyNyUyNyUyOSUzQiUwQXNldF9hdHRyaWJ1dGUlMjglMjd0YXNzJUMzJUE5MjAxMGElMjclMkMlMjAlMjd2b2x1bWUlMjclMkMlMjAlMjc1NzY1JTIwTE5DUyUyNyUyOSUzQiUwQXNldF9hdHRyaWJ1dGUlMjglMjd0YXNzJUMzJUE5MjAxMGElMjclMkMlMjAlMjdsaW5rJTI3JTJDJTIwJTI3aHR0cHMlM0EvL3d3dy5zY29wdXMuY29tL2lud2FyZC9yZWNvcmQudXJpJTNGZWlkJTNEMi1zMi4wLTc4NjQ5NTE0MzkxJTI2ZG9pJTNEMTAuMTAwNyUyNTJmOTc4LTMtNjQyLTE3MzIyLTZfMTklMjZwYXJ0bmVySUQlM0Q0MCUyNm1kNSUzRGU0MDM4YTc1NzRmNDIzZTRmMmQ1Njc2OTY5NjIwMWYwJTI3JTI5JTNCJTBBc2V0X2F0dHJpYnV0ZSUyOCUyN3Rhc3MlQzMlQTkyMDEwYSUyNyUyQyUyMCUyN3Njb3B1czIwMTYlMjclMkMlMjAlMjcxJTI3JTI5JTNC\")));\n",
       "    "
      ],
      "text/plain": [
       "<IPython.core.display.Javascript object>"
      ]
     },
     "metadata": {},
     "output_type": "display_data"
    },
    {
     "data": {
      "application/javascript": [
       "$('span:contains(\"# Temp\")').closest('.cell').remove();"
      ],
      "text/plain": [
       "<IPython.core.display.Javascript object>"
      ]
     },
     "metadata": {},
     "output_type": "display_data"
    },
    {
     "data": {
      "application/javascript": [
       "\n",
       "        $('span:contains(\"# Temp\")').closest('.cell').remove();\n",
       "        var code = IPython.notebook.insert_cell_below('code');\n",
       "        var prompt = code.element.find(\".input_prompt\");\n",
       "        prompt.append('<br><button style=\"height: 100%; width: 54px;\">Run</button>');\n",
       "        prompt.on(\"click\", \"button\", function(){\n",
       "            code.execute();\n",
       "        });\n",
       "        code.set_text(decodeURIComponent(window.atob(\"JTIzJTIwVGVtcCUwQWluc2VydCUyOCUyNyUyNyUyNyUyNyUyNyUyNyUyOSUzQiUwQXNldF9hdHRyaWJ1dGUlMjglMjd0YXNzJUMzJUE5MjAxMGElMjclMkMlMjAlMjd2b2x1bWUlMjclMkMlMjAlMjc1NzY1JTIwTE5DUyUyNyUyOSUzQiUwQXNldF9hdHRyaWJ1dGUlMjglMjd0YXNzJUMzJUE5MjAxMGElMjclMkMlMjAlMjdsaW5rJTI3JTJDJTIwJTI3aHR0cHMlM0EvL3d3dy5zY29wdXMuY29tL2lud2FyZC9yZWNvcmQudXJpJTNGZWlkJTNEMi1zMi4wLTc4NjQ5NTE0MzkxJTI2ZG9pJTNEMTAuMTAwNyUyNTJmOTc4LTMtNjQyLTE3MzIyLTZfMTklMjZwYXJ0bmVySUQlM0Q0MCUyNm1kNSUzRGU0MDM4YTc1NzRmNDIzZTRmMmQ1Njc2OTY5NjIwMWYwJTI3JTI5JTNCJTBBc2V0X2F0dHJpYnV0ZSUyOCUyN3Rhc3MlQzMlQTkyMDEwYSUyNyUyQyUyMCUyN3Njb3B1czIwMTYlMjclMkMlMjAlMjcxJTI3JTI5JTNC\")));\n",
       "    "
      ],
      "text/plain": [
       "<IPython.core.display.Javascript object>"
      ]
     },
     "metadata": {},
     "output_type": "display_data"
    },
    {
     "data": {
      "application/javascript": [
       "$('span:contains(\"# Temp\")').closest('.cell').remove();"
      ],
      "text/plain": [
       "<IPython.core.display.Javascript object>"
      ]
     },
     "metadata": {},
     "output_type": "display_data"
    },
    {
     "data": {
      "application/javascript": [
       "\n",
       "        $('span:contains(\"# Temp\")').closest('.cell').remove();\n",
       "        var code = IPython.notebook.insert_cell_below('code');\n",
       "        var prompt = code.element.find(\".input_prompt\");\n",
       "        prompt.append('<br><button style=\"height: 100%; width: 54px;\">Run</button>');\n",
       "        prompt.on(\"click\", \"button\", function(){\n",
       "            code.execute();\n",
       "        });\n",
       "        code.set_text(decodeURIComponent(window.atob(\"JTIzJTIwVGVtcCUwQWluc2VydCUyOCUyNyUyNyUyNyUyNyUyNyUyNyUyOSUzQiUwQXNldF9hdHRyaWJ1dGUlMjglMjdoZW5kZXJzb24yMDEwYSUyNyUyQyUyMCUyN3BwJTI3JTJDJTIwJTI3NDI0LTQ3OCUyNyUyOSUzQiUwQXNldF9hdHRyaWJ1dGUlMjglMjdoZW5kZXJzb24yMDEwYSUyNyUyQyUyMCUyN3ZvbHVtZSUyNyUyQyUyMCUyNzE2JTI3JTI5JTNCJTBBc2V0X2F0dHJpYnV0ZSUyOCUyN2hlbmRlcnNvbjIwMTBhJTI3JTJDJTIwJTI3bnVtYmVyJTI3JTJDJTIwJTI3MyUyNyUyOSUzQiUwQXNldF9hdHRyaWJ1dGUlMjglMjdoZW5kZXJzb24yMDEwYSUyNyUyQyUyMCUyN2xpbmslMjclMkMlMjAlMjdodHRwcyUzQS8vd3d3LnNjb3B1cy5jb20vaW53YXJkL3JlY29yZC51cmklM0ZlaWQlM0QyLXMyLjAtNzc5NTEwODU2MTklMjZwYXJ0bmVySUQlM0Q0MCUyNm1kNSUzRDBlOTUyNzg5M2RhZjU5MWY0MTAzYWM3MmQ5ZmJlZjIxJTI3JTI5JTNCJTBBc2V0X2F0dHJpYnV0ZSUyOCUyN2hlbmRlcnNvbjIwMTBhJTI3JTJDJTIwJTI3c2NvcHVzMjAxNiUyNyUyQyUyMCUyNzElMjclMjklM0I=\")));\n",
       "    "
      ],
      "text/plain": [
       "<IPython.core.display.Javascript object>"
      ]
     },
     "metadata": {},
     "output_type": "display_data"
    },
    {
     "data": {
      "application/javascript": [
       "$('span:contains(\"# Temp\")').closest('.cell').remove();"
      ],
      "text/plain": [
       "<IPython.core.display.Javascript object>"
      ]
     },
     "metadata": {},
     "output_type": "display_data"
    },
    {
     "data": {
      "application/javascript": [
       "\n",
       "        $('span:contains(\"# Temp\")').closest('.cell').remove();\n",
       "        var code = IPython.notebook.insert_cell_below('code');\n",
       "        var prompt = code.element.find(\".input_prompt\");\n",
       "        prompt.append('<br><button style=\"height: 100%; width: 54px;\">Run</button>');\n",
       "        prompt.on(\"click\", \"button\", function(){\n",
       "            code.execute();\n",
       "        });\n",
       "        code.set_text(decodeURIComponent(window.atob(\"JTIzJTIwVGVtcCUwQWluc2VydCUyOCUyNyUyNyUyNyUyNyUyNyUyNyUyOSUzQiUwQXNldF9hdHRyaWJ1dGUlMjglMjdoZW5kZXJzb24yMDEwYSUyNyUyQyUyMCUyN3BwJTI3JTJDJTIwJTI3NDI0LTQ3OCUyNyUyOSUzQiUwQXNldF9hdHRyaWJ1dGUlMjglMjdoZW5kZXJzb24yMDEwYSUyNyUyQyUyMCUyN3ZvbHVtZSUyNyUyQyUyMCUyNzE2JTI3JTI5JTNCJTBBc2V0X2F0dHJpYnV0ZSUyOCUyN2hlbmRlcnNvbjIwMTBhJTI3JTJDJTIwJTI3bnVtYmVyJTI3JTJDJTIwJTI3MyUyNyUyOSUzQiUwQXNldF9hdHRyaWJ1dGUlMjglMjdoZW5kZXJzb24yMDEwYSUyNyUyQyUyMCUyN2xpbmslMjclMkMlMjAlMjdodHRwcyUzQS8vd3d3LnNjb3B1cy5jb20vaW53YXJkL3JlY29yZC51cmklM0ZlaWQlM0QyLXMyLjAtNzc5NTEwODU2MTklMjZwYXJ0bmVySUQlM0Q0MCUyNm1kNSUzRDBlOTUyNzg5M2RhZjU5MWY0MTAzYWM3MmQ5ZmJlZjIxJTI3JTI5JTNCJTBBc2V0X2F0dHJpYnV0ZSUyOCUyN2hlbmRlcnNvbjIwMTBhJTI3JTJDJTIwJTI3c2NvcHVzMjAxNiUyNyUyQyUyMCUyNzElMjclMjklM0I=\")));\n",
       "    "
      ],
      "text/plain": [
       "<IPython.core.display.Javascript object>"
      ]
     },
     "metadata": {},
     "output_type": "display_data"
    },
    {
     "data": {
      "application/javascript": [
       "$('span:contains(\"# Temp\")').closest('.cell').remove();"
      ],
      "text/plain": [
       "<IPython.core.display.Javascript object>"
      ]
     },
     "metadata": {},
     "output_type": "display_data"
    },
    {
     "data": {
      "application/javascript": [
       "\n",
       "        $('span:contains(\"# Temp\")').closest('.cell').remove();\n",
       "        var code = IPython.notebook.insert_cell_below('code');\n",
       "        var prompt = code.element.find(\".input_prompt\");\n",
       "        prompt.append('<br><button style=\"height: 100%; width: 54px;\">Run</button>');\n",
       "        prompt.on(\"click\", \"button\", function(){\n",
       "            code.execute();\n",
       "        });\n",
       "        code.set_text(decodeURIComponent(window.atob(\"JTIzJTIwVGVtcCUwQWluc2VydCUyOCUyNyUyNyUyNyUwQXdvbHRlcjIwMTBhJTIwJTNEJTIwREIlMjhXb3JrVW5yZWxhdGVkJTI4JTBBJTIwJTIwJTIwJTIwMjAxMCUyQyUyMCUyMkFuJTIwYXBwcm9hY2glMjB0byUyMGNhcHR1cmUlMjBhdXRob3Jpc2F0aW9uJTIwcmVxdWlyZW1lbnRzJTIwaW4lMjBidXNpbmVzcyUyMHByb2Nlc3NlcyUyMiUyQyUwQSUyMCUyMCUyMCUyMGRpc3BsYXklM0QlMjJ3b2x0ZXIlMjIlMkMlMEElMjAlMjAlMjAlMjBhdXRob3JzJTNEJTIyV29sdGVyJTJDJTIwQy4lMjBhbmQlMjBNZWluZWwlMkMlMjBDLiUyMiUyQyUwQSUyMCUyMCUyMCUyMHBsYWNlJTNERkFLRSUyQyUwQSUyMCUyMCUyMCUyMHBwJTNEJTIyMzU5LTM3MyUyMiUyQyUwQSUyMCUyMCUyMCUyMGVudHJ5dHlwZSUzRCUyMmFydGljbGUlMjIlMkMlMEElMjAlMjAlMjAlMjB2b2x1bWUlM0QlMjIxNSUyMiUyQyUwQSUyMCUyMCUyMCUyMG51bWJlciUzRCUyMjQlMjIlMkMlMEElMjAlMjAlMjAlMjBsaW5rJTNEJTIyaHR0cHMlM0EvL3d3dy5zY29wdXMuY29tL2lud2FyZC9yZWNvcmQudXJpJTNGZWlkJTNEMi1zMi4wLTc5NDUxNDY5MDc4JTI2ZG9pJTNEMTAuMTAwNyUyNTJmczAwNzY2LTAxMC0wMTAzLXklMjZwYXJ0bmVySUQlM0Q0MCUyNm1kNSUzRDRjYjI1YWI0ZGI1YWU1NzU5MDU4ZTk1ODllNGZmNjU5JTIyJTJDJTBBJTIwJTIwJTIwJTIwSUQlM0QlMjJXb2x0ZXIyMDEwMzU5JTIyJTJDJTBBJTIwJTIwJTIwJTIwc2NvcHVzMjAxNiUzRCUyMjElMjIlMkMlMEElMjAlMjAlMjAlMjBwbGFjZXglM0QlMjJSZXF1aXJlbWVudHMlMjBFbmdpbmVlcmluZyUyMiUyQyUwQSUyOSUyOSUwQSUyNyUyNyUyNyUyOSUzQg==\")));\n",
       "    "
      ],
      "text/plain": [
       "<IPython.core.display.Javascript object>"
      ]
     },
     "metadata": {},
     "output_type": "display_data"
    },
    {
     "data": {
      "application/javascript": [
       "$('span:contains(\"# Temp\")').closest('.cell').remove();"
      ],
      "text/plain": [
       "<IPython.core.display.Javascript object>"
      ]
     },
     "metadata": {},
     "output_type": "display_data"
    },
    {
     "data": {
      "application/javascript": [
       "\n",
       "        $('span:contains(\"# Temp\")').closest('.cell').remove();\n",
       "        var code = IPython.notebook.insert_cell_below('code');\n",
       "        var prompt = code.element.find(\".input_prompt\");\n",
       "        prompt.append('<br><button style=\"height: 100%; width: 54px;\">Run</button>');\n",
       "        prompt.on(\"click\", \"button\", function(){\n",
       "            code.execute();\n",
       "        });\n",
       "        code.set_text(decodeURIComponent(window.atob(\"JTIzJTIwVGVtcCUwQWluc2VydCUyOCUyNyUyNyUyNyUwQXdvbHRlcjIwMTBhJTIwJTNEJTIwREIlMjhXb3JrVW5yZWxhdGVkJTI4JTBBJTIwJTIwJTIwJTIwMjAxMCUyQyUyMCUyMkFuJTIwYXBwcm9hY2glMjB0byUyMGNhcHR1cmUlMjBhdXRob3Jpc2F0aW9uJTIwcmVxdWlyZW1lbnRzJTIwaW4lMjBidXNpbmVzcyUyMHByb2Nlc3NlcyUyMiUyQyUwQSUyMCUyMCUyMCUyMGRpc3BsYXklM0QlMjJ3b2x0ZXIlMjIlMkMlMEElMjAlMjAlMjAlMjBhdXRob3JzJTNEJTIyV29sdGVyJTJDJTIwQy4lMjBhbmQlMjBNZWluZWwlMkMlMjBDLiUyMiUyQyUwQSUyMCUyMCUyMCUyMHBsYWNlJTNERkFLRSUyQyUwQSUyMCUyMCUyMCUyMHBwJTNEJTIyMzU5LTM3MyUyMiUyQyUwQSUyMCUyMCUyMCUyMGVudHJ5dHlwZSUzRCUyMmFydGljbGUlMjIlMkMlMEElMjAlMjAlMjAlMjB2b2x1bWUlM0QlMjIxNSUyMiUyQyUwQSUyMCUyMCUyMCUyMG51bWJlciUzRCUyMjQlMjIlMkMlMEElMjAlMjAlMjAlMjBsaW5rJTNEJTIyaHR0cHMlM0EvL3d3dy5zY29wdXMuY29tL2lud2FyZC9yZWNvcmQudXJpJTNGZWlkJTNEMi1zMi4wLTc5NDUxNDY5MDc4JTI2ZG9pJTNEMTAuMTAwNyUyNTJmczAwNzY2LTAxMC0wMTAzLXklMjZwYXJ0bmVySUQlM0Q0MCUyNm1kNSUzRDRjYjI1YWI0ZGI1YWU1NzU5MDU4ZTk1ODllNGZmNjU5JTIyJTJDJTBBJTIwJTIwJTIwJTIwSUQlM0QlMjJXb2x0ZXIyMDEwMzU5JTIyJTJDJTBBJTIwJTIwJTIwJTIwc2NvcHVzMjAxNiUzRCUyMjElMjIlMkMlMEElMjAlMjAlMjAlMjBwbGFjZXglM0QlMjJSZXF1aXJlbWVudHMlMjBFbmdpbmVlcmluZyUyMiUyQyUwQSUyOSUyOSUwQSUyNyUyNyUyNyUyOSUzQg==\")));\n",
       "    "
      ],
      "text/plain": [
       "<IPython.core.display.Javascript object>"
      ]
     },
     "metadata": {},
     "output_type": "display_data"
    },
    {
     "data": {
      "application/javascript": [
       "$('span:contains(\"# Temp\")').closest('.cell').remove();"
      ],
      "text/plain": [
       "<IPython.core.display.Javascript object>"
      ]
     },
     "metadata": {},
     "output_type": "display_data"
    },
    {
     "data": {
      "application/javascript": [
       "\n",
       "        $('span:contains(\"# Temp\")').closest('.cell').remove();\n",
       "        var code = IPython.notebook.insert_cell_below('code');\n",
       "        var prompt = code.element.find(\".input_prompt\");\n",
       "        prompt.append('<br><button style=\"height: 100%; width: 54px;\">Run</button>');\n",
       "        prompt.on(\"click\", \"button\", function(){\n",
       "            code.execute();\n",
       "        });\n",
       "        code.set_text(decodeURIComponent(window.atob(\"JTIzJTIwVGVtcCUwQWluc2VydCUyOCUyNyUyNyUyNyUwQWJhcmNlbGxvczIwMTBiJTIwJTNEJTIwREIlMjhXb3JrVW5yZWxhdGVkJTI4JTBBJTIwJTIwJTIwJTIwMjAxMCUyQyUyMCUyMkElMjB3ZWxsLWZvdW5kZWQlMjBzb2Z0d2FyZSUyMG1lYXN1cmVtZW50JTIwb250b2xvZ3klMjIlMkMlMEElMjAlMjAlMjAlMjBkaXNwbGF5JTNEJTIyYmFyY2VsbG9zJTIwYiUyMiUyQyUwQSUyMCUyMCUyMCUyMGF1dGhvcnMlM0QlMjJCYXJjZWxsb3MlMkMlMjBNLlAuJTIwYW5kJTIwRmFsYm8lMkMlMjBSLkQuQS4lMjBhbmQlMjBEYWwlMjBNb3JvJTJDJTIwUi4lMjIlMkMlMEElMjAlMjAlMjAlMjBwbGFjZSUzREZBS0UlMkMlMEElMjAlMjAlMjAlMjBwcCUzRCUyMjIxMy0yMjYlMjIlMkMlMEElMjAlMjAlMjAlMjBlbnRyeXR5cGUlM0QlMjJhcnRpY2xlJTIyJTJDJTBBJTIwJTIwJTIwJTIwdm9sdW1lJTNEJTIyMjA5JTIyJTJDJTBBJTIwJTIwJTIwJTIwbGluayUzRCUyMmh0dHBzJTNBLy93d3cuc2NvcHVzLmNvbS9pbndhcmQvcmVjb3JkLnVyaSUzRmVpZCUzRDItczIuMC03Nzk1MDk5MDg2MCUyNmRvaSUzRDEwLjMyMzMlMjUyZjk3OC0xLTYwNzUwLTUzNS04LTIxMyUyNnBhcnRuZXJJRCUzRDQwJTI2bWQ1JTNEMTgwNzFmMGQyZWEzOTk5OGVlODk3Mjk3OTcxNDA0ZjklMjIlMkMlMEElMjAlMjAlMjAlMjBJRCUzRCUyMkJhcmNlbGxvczIwMTAyMTMlMjIlMkMlMEElMjAlMjAlMjAlMjBzY29wdXMyMDE2JTNEJTIyMSUyMiUyQyUwQSUyMCUyMCUyMCUyMHBsYWNleCUzRCUyMkZyb250aWVycyUyMGluJTIwQXJ0aWZpY2lhbCUyMEludGVsbGlnZW5jZSUyMGFuZCUyMEFwcGxpY2F0aW9ucyUyMiUyQyUwQSUyOSUyOSUwQSUyNyUyNyUyNyUyOSUzQg==\")));\n",
       "    "
      ],
      "text/plain": [
       "<IPython.core.display.Javascript object>"
      ]
     },
     "metadata": {},
     "output_type": "display_data"
    },
    {
     "data": {
      "application/javascript": [
       "$('span:contains(\"# Temp\")').closest('.cell').remove();"
      ],
      "text/plain": [
       "<IPython.core.display.Javascript object>"
      ]
     },
     "metadata": {},
     "output_type": "display_data"
    },
    {
     "data": {
      "application/javascript": [
       "\n",
       "        $('span:contains(\"# Temp\")').closest('.cell').remove();\n",
       "        var code = IPython.notebook.insert_cell_below('code');\n",
       "        var prompt = code.element.find(\".input_prompt\");\n",
       "        prompt.append('<br><button style=\"height: 100%; width: 54px;\">Run</button>');\n",
       "        prompt.on(\"click\", \"button\", function(){\n",
       "            code.execute();\n",
       "        });\n",
       "        code.set_text(decodeURIComponent(window.atob(\"JTIzJTIwVGVtcCUwQWluc2VydCUyOCUyNyUyNyUyNyUwQWJhcmNlbGxvczIwMTBiJTIwJTNEJTIwREIlMjhXb3JrVW5yZWxhdGVkJTI4JTBBJTIwJTIwJTIwJTIwMjAxMCUyQyUyMCUyMkElMjB3ZWxsLWZvdW5kZWQlMjBzb2Z0d2FyZSUyMG1lYXN1cmVtZW50JTIwb250b2xvZ3klMjIlMkMlMEElMjAlMjAlMjAlMjBkaXNwbGF5JTNEJTIyYmFyY2VsbG9zJTIwYiUyMiUyQyUwQSUyMCUyMCUyMCUyMGF1dGhvcnMlM0QlMjJCYXJjZWxsb3MlMkMlMjBNLlAuJTIwYW5kJTIwRmFsYm8lMkMlMjBSLkQuQS4lMjBhbmQlMjBEYWwlMjBNb3JvJTJDJTIwUi4lMjIlMkMlMEElMjAlMjAlMjAlMjBwbGFjZSUzREZBS0UlMkMlMEElMjAlMjAlMjAlMjBwcCUzRCUyMjIxMy0yMjYlMjIlMkMlMEElMjAlMjAlMjAlMjBlbnRyeXR5cGUlM0QlMjJhcnRpY2xlJTIyJTJDJTBBJTIwJTIwJTIwJTIwdm9sdW1lJTNEJTIyMjA5JTIyJTJDJTBBJTIwJTIwJTIwJTIwbGluayUzRCUyMmh0dHBzJTNBLy93d3cuc2NvcHVzLmNvbS9pbndhcmQvcmVjb3JkLnVyaSUzRmVpZCUzRDItczIuMC03Nzk1MDk5MDg2MCUyNmRvaSUzRDEwLjMyMzMlMjUyZjk3OC0xLTYwNzUwLTUzNS04LTIxMyUyNnBhcnRuZXJJRCUzRDQwJTI2bWQ1JTNEMTgwNzFmMGQyZWEzOTk5OGVlODk3Mjk3OTcxNDA0ZjklMjIlMkMlMEElMjAlMjAlMjAlMjBJRCUzRCUyMkJhcmNlbGxvczIwMTAyMTMlMjIlMkMlMEElMjAlMjAlMjAlMjBzY29wdXMyMDE2JTNEJTIyMSUyMiUyQyUwQSUyMCUyMCUyMCUyMHBsYWNleCUzRCUyMkZyb250aWVycyUyMGluJTIwQXJ0aWZpY2lhbCUyMEludGVsbGlnZW5jZSUyMGFuZCUyMEFwcGxpY2F0aW9ucyUyMiUyQyUwQSUyOSUyOSUwQSUyNyUyNyUyNyUyOSUzQg==\")));\n",
       "    "
      ],
      "text/plain": [
       "<IPython.core.display.Javascript object>"
      ]
     },
     "metadata": {},
     "output_type": "display_data"
    },
    {
     "data": {
      "application/javascript": [
       "$('span:contains(\"# Temp\")').closest('.cell').remove();"
      ],
      "text/plain": [
       "<IPython.core.display.Javascript object>"
      ]
     },
     "metadata": {},
     "output_type": "display_data"
    },
    {
     "data": {
      "application/javascript": [
       "\n",
       "        $('span:contains(\"# Temp\")').closest('.cell').remove();\n",
       "        var code = IPython.notebook.insert_cell_below('code');\n",
       "        var prompt = code.element.find(\".input_prompt\");\n",
       "        prompt.append('<br><button style=\"height: 100%; width: 54px;\">Run</button>');\n",
       "        prompt.on(\"click\", \"button\", function(){\n",
       "            code.execute();\n",
       "        });\n",
       "        code.set_text(decodeURIComponent(window.atob(\"JTIzJTIwVGVtcCUwQWluc2VydCUyOCUyNyUyNyUyNyUyNyUyNyUyNyUyOSUzQiUwQXNldF9hdHRyaWJ1dGUlMjglMjdrZXRvMjAxMGElMjclMkMlMjAlMjdsaW5rJTI3JTJDJTIwJTI3aHR0cHMlM0EvL3d3dy5zY29wdXMuY29tL2lud2FyZC9yZWNvcmQudXJpJTNGZWlkJTNEMi1zMi4wLTc3OTUwOTg3Njg0JTI2ZG9pJTNEMTAuMzIzMyUyNTJmOTc4LTEtNjA3NTAtNDc3LTEtMjk5JTI2cGFydG5lcklEJTNENDAlMjZtZDUlM0QwMzMxNDI1ODk5MjZjYzQ1M2MxMzNkNWEwNDI1MDkwMyUyNyUyOSUzQiUwQXNldF9hdHRyaWJ1dGUlMjglMjdrZXRvMjAxMGElMjclMkMlMjAlMjdzY29wdXMyMDE2JTI3JTJDJTIwJTI3MSUyNyUyOSUzQg==\")));\n",
       "    "
      ],
      "text/plain": [
       "<IPython.core.display.Javascript object>"
      ]
     },
     "metadata": {},
     "output_type": "display_data"
    },
    {
     "data": {
      "application/javascript": [
       "$('span:contains(\"# Temp\")').closest('.cell').remove();"
      ],
      "text/plain": [
       "<IPython.core.display.Javascript object>"
      ]
     },
     "metadata": {},
     "output_type": "display_data"
    },
    {
     "data": {
      "application/javascript": [
       "\n",
       "        $('span:contains(\"# Temp\")').closest('.cell').remove();\n",
       "        var code = IPython.notebook.insert_cell_below('code');\n",
       "        var prompt = code.element.find(\".input_prompt\");\n",
       "        prompt.append('<br><button style=\"height: 100%; width: 54px;\">Run</button>');\n",
       "        prompt.on(\"click\", \"button\", function(){\n",
       "            code.execute();\n",
       "        });\n",
       "        code.set_text(decodeURIComponent(window.atob(\"JTIzJTIwVGVtcCUwQWluc2VydCUyOCUyNyUyNyUyNyUyNyUyNyUyNyUyOSUzQiUwQXNldF9hdHRyaWJ1dGUlMjglMjdrZXRvMjAxMGElMjclMkMlMjAlMjdsaW5rJTI3JTJDJTIwJTI3aHR0cHMlM0EvL3d3dy5zY29wdXMuY29tL2lud2FyZC9yZWNvcmQudXJpJTNGZWlkJTNEMi1zMi4wLTc3OTUwOTg3Njg0JTI2ZG9pJTNEMTAuMzIzMyUyNTJmOTc4LTEtNjA3NTAtNDc3LTEtMjk5JTI2cGFydG5lcklEJTNENDAlMjZtZDUlM0QwMzMxNDI1ODk5MjZjYzQ1M2MxMzNkNWEwNDI1MDkwMyUyNyUyOSUzQiUwQXNldF9hdHRyaWJ1dGUlMjglMjdrZXRvMjAxMGElMjclMkMlMjAlMjdzY29wdXMyMDE2JTI3JTJDJTIwJTI3MSUyNyUyOSUzQg==\")));\n",
       "    "
      ],
      "text/plain": [
       "<IPython.core.display.Javascript object>"
      ]
     },
     "metadata": {},
     "output_type": "display_data"
    },
    {
     "data": {
      "application/javascript": [
       "$('span:contains(\"# Temp\")').closest('.cell').remove();"
      ],
      "text/plain": [
       "<IPython.core.display.Javascript object>"
      ]
     },
     "metadata": {},
     "output_type": "display_data"
    },
    {
     "data": {
      "application/javascript": [
       "\n",
       "        $('span:contains(\"# Temp\")').closest('.cell').remove();\n",
       "        var code = IPython.notebook.insert_cell_below('code');\n",
       "        var prompt = code.element.find(\".input_prompt\");\n",
       "        prompt.append('<br><button style=\"height: 100%; width: 54px;\">Run</button>');\n",
       "        prompt.on(\"click\", \"button\", function(){\n",
       "            code.execute();\n",
       "        });\n",
       "        code.set_text(decodeURIComponent(window.atob(\"JTIzJTIwVGVtcCUwQWluc2VydCUyOCUyNyUyNyUyNyUyNyUyNyUyNyUyOSUzQiUwQXNldF9hdHRyaWJ1dGUlMjglMjdqYWFra29sYTIwMTBhJTI3JTJDJTIwJTI3bGluayUyNyUyQyUyMCUyN2h0dHBzJTNBLy93d3cuc2NvcHVzLmNvbS9pbndhcmQvcmVjb3JkLnVyaSUzRmVpZCUzRDItczIuMC03Nzk1MjA5MjAzNiUyNmRvaSUzRDEwLjEwMDclMjUyZnMxMTIxOS0wMDktOTA5MS14JTI2cGFydG5lcklEJTNENDAlMjZtZDUlM0QwMjJkZDdkZThkMDc3ODQ1NmNkZTdmMTczNjgzNTJhOSUyNyUyOSUzQiUwQXNldF9hdHRyaWJ1dGUlMjglMjdqYWFra29sYTIwMTBhJTI3JTJDJTIwJTI3c2NvcHVzMjAxNiUyNyUyQyUyMCUyNzElMjclMjklM0I=\")));\n",
       "    "
      ],
      "text/plain": [
       "<IPython.core.display.Javascript object>"
      ]
     },
     "metadata": {},
     "output_type": "display_data"
    },
    {
     "data": {
      "application/javascript": [
       "$('span:contains(\"# Temp\")').closest('.cell').remove();"
      ],
      "text/plain": [
       "<IPython.core.display.Javascript object>"
      ]
     },
     "metadata": {},
     "output_type": "display_data"
    },
    {
     "data": {
      "application/javascript": [
       "\n",
       "        $('span:contains(\"# Temp\")').closest('.cell').remove();\n",
       "        var code = IPython.notebook.insert_cell_below('code');\n",
       "        var prompt = code.element.find(\".input_prompt\");\n",
       "        prompt.append('<br><button style=\"height: 100%; width: 54px;\">Run</button>');\n",
       "        prompt.on(\"click\", \"button\", function(){\n",
       "            code.execute();\n",
       "        });\n",
       "        code.set_text(decodeURIComponent(window.atob(\"JTIzJTIwVGVtcCUwQWluc2VydCUyOCUyNyUyNyUyNyUyNyUyNyUyNyUyOSUzQiUwQXNldF9hdHRyaWJ1dGUlMjglMjdqYWFra29sYTIwMTBhJTI3JTJDJTIwJTI3bGluayUyNyUyQyUyMCUyN2h0dHBzJTNBLy93d3cuc2NvcHVzLmNvbS9pbndhcmQvcmVjb3JkLnVyaSUzRmVpZCUzRDItczIuMC03Nzk1MjA5MjAzNiUyNmRvaSUzRDEwLjEwMDclMjUyZnMxMTIxOS0wMDktOTA5MS14JTI2cGFydG5lcklEJTNENDAlMjZtZDUlM0QwMjJkZDdkZThkMDc3ODQ1NmNkZTdmMTczNjgzNTJhOSUyNyUyOSUzQiUwQXNldF9hdHRyaWJ1dGUlMjglMjdqYWFra29sYTIwMTBhJTI3JTJDJTIwJTI3c2NvcHVzMjAxNiUyNyUyQyUyMCUyNzElMjclMjklM0I=\")));\n",
       "    "
      ],
      "text/plain": [
       "<IPython.core.display.Javascript object>"
      ]
     },
     "metadata": {},
     "output_type": "display_data"
    },
    {
     "data": {
      "application/javascript": [
       "$('span:contains(\"# Temp\")').closest('.cell').remove();"
      ],
      "text/plain": [
       "<IPython.core.display.Javascript object>"
      ]
     },
     "metadata": {},
     "output_type": "display_data"
    },
    {
     "data": {
      "application/javascript": [
       "\n",
       "        $('span:contains(\"# Temp\")').closest('.cell').remove();\n",
       "        var code = IPython.notebook.insert_cell_below('code');\n",
       "        var prompt = code.element.find(\".input_prompt\");\n",
       "        prompt.append('<br><button style=\"height: 100%; width: 54px;\">Run</button>');\n",
       "        prompt.on(\"click\", \"button\", function(){\n",
       "            code.execute();\n",
       "        });\n",
       "        code.set_text(decodeURIComponent(window.atob(\"JTIzJTIwVGVtcCUwQWluc2VydCUyOCUyNyUyNyUyNyUwQXBhcmRvMjAwOWElMjAlM0QlMjBEQiUyOFdvcmtVbnJlbGF0ZWQlMjglMEElMjAlMjAlMjAlMjAyMDA5JTJDJTIwJTIySG9tb2dlbml6YXRpb24lMjBvZiUyMG1vZGVscyUyMGluJTIwaW1wcm92ZWQlMjBlbnZpcm9ubWVudHMlMjBtdWx0aWZyYW1lJTIwcHJvY2Vzc2VzJTIwJTVCSG9tb2dlbml6YWNpJUMzJUIzbiUyMGRlJTIwbWFyY29zJTIwZW4lMjBhbWJpZW50ZXMlMjBkZSUyMG1lam9yYSUyMGRlJTIwcHJvY2Vzb3MlMjBtdWx0aW1hcmNvJTVEJTIyJTJDJTBBJTIwJTIwJTIwJTIwZGlzcGxheSUzRCUyMnBhcmRvJTIyJTJDJTBBJTIwJTIwJTIwJTIwYXV0aG9ycyUzRCUyMlBhcmRvJTJDJTIwQy4lMjBhbmQlMjBQaW5vJTJDJTIwRi5KLiUyMGFuZCUyMEdhcmMlQzMlQURhJTJDJTIwRi4lMjBhbmQlMjBQaWF0dGluaSUyQyUyME0uJTIyJTJDJTBBJTIwJTIwJTIwJTIwcGxhY2UlM0RGQUtFJTJDJTBBJTIwJTIwJTIwJTIwZW50cnl0eXBlJTNEJTIyY29uZmVyZW5jZSUyMiUyQyUwQSUyMCUyMCUyMCUyMGxpbmslM0QlMjJodHRwcyUzQS8vd3d3LnNjb3B1cy5jb20vaW53YXJkL3JlY29yZC51cmklM0ZlaWQlM0QyLXMyLjAtODQ4OTAzOTgyNTAlMjZwYXJ0bmVySUQlM0Q0MCUyNm1kNSUzRGVhNGM3Y2I0Mzc0ZmIxODU1NDJjNTdhYWZlNTU5MWFjJTIyJTJDJTBBJTIwJTIwJTIwJTIwSUQlM0QlMjJQYXJkbzIwMDklMjIlMkMlMEElMjAlMjAlMjAlMjBzY29wdXMyMDE2JTNEJTIyMSUyMiUyQyUwQSUyMCUyMCUyMCUyMHBsYWNleCUzRCUyMjEydGglMjBJYmVyb2FtZXJpY2FuJTIwQ29uZmVyZW5jZSUyMG9uJTIwUmVxdWlyZW1lbnRzJTIwRW5naW5lZXJpbmclMjBhbmQlMjBTb2Z0d2FyZSUyMEVudmlyb25tZW50cyUyQyUyMElERUFTJTIwMjAwOSUyMiUyQyUwQSUyOSUyOSUwQSUyNyUyNyUyNyUyOSUzQg==\")));\n",
       "    "
      ],
      "text/plain": [
       "<IPython.core.display.Javascript object>"
      ]
     },
     "metadata": {},
     "output_type": "display_data"
    },
    {
     "data": {
      "application/javascript": [
       "$('span:contains(\"# Temp\")').closest('.cell').remove();"
      ],
      "text/plain": [
       "<IPython.core.display.Javascript object>"
      ]
     },
     "metadata": {},
     "output_type": "display_data"
    },
    {
     "data": {
      "application/javascript": [
       "\n",
       "        $('span:contains(\"# Temp\")').closest('.cell').remove();\n",
       "        var code = IPython.notebook.insert_cell_below('code');\n",
       "        var prompt = code.element.find(\".input_prompt\");\n",
       "        prompt.append('<br><button style=\"height: 100%; width: 54px;\">Run</button>');\n",
       "        prompt.on(\"click\", \"button\", function(){\n",
       "            code.execute();\n",
       "        });\n",
       "        code.set_text(decodeURIComponent(window.atob(\"JTIzJTIwVGVtcCUwQWluc2VydCUyOCUyNyUyNyUyNyUwQXBhcmRvMjAwOWElMjAlM0QlMjBEQiUyOFdvcmtVbnJlbGF0ZWQlMjglMEElMjAlMjAlMjAlMjAyMDA5JTJDJTIwJTIySG9tb2dlbml6YXRpb24lMjBvZiUyMG1vZGVscyUyMGluJTIwaW1wcm92ZWQlMjBlbnZpcm9ubWVudHMlMjBtdWx0aWZyYW1lJTIwcHJvY2Vzc2VzJTIwJTVCSG9tb2dlbml6YWNpJUMzJUIzbiUyMGRlJTIwbWFyY29zJTIwZW4lMjBhbWJpZW50ZXMlMjBkZSUyMG1lam9yYSUyMGRlJTIwcHJvY2Vzb3MlMjBtdWx0aW1hcmNvJTVEJTIyJTJDJTBBJTIwJTIwJTIwJTIwZGlzcGxheSUzRCUyMnBhcmRvJTIyJTJDJTBBJTIwJTIwJTIwJTIwYXV0aG9ycyUzRCUyMlBhcmRvJTJDJTIwQy4lMjBhbmQlMjBQaW5vJTJDJTIwRi5KLiUyMGFuZCUyMEdhcmMlQzMlQURhJTJDJTIwRi4lMjBhbmQlMjBQaWF0dGluaSUyQyUyME0uJTIyJTJDJTBBJTIwJTIwJTIwJTIwcGxhY2UlM0RGQUtFJTJDJTBBJTIwJTIwJTIwJTIwZW50cnl0eXBlJTNEJTIyY29uZmVyZW5jZSUyMiUyQyUwQSUyMCUyMCUyMCUyMGxpbmslM0QlMjJodHRwcyUzQS8vd3d3LnNjb3B1cy5jb20vaW53YXJkL3JlY29yZC51cmklM0ZlaWQlM0QyLXMyLjAtODQ4OTAzOTgyNTAlMjZwYXJ0bmVySUQlM0Q0MCUyNm1kNSUzRGVhNGM3Y2I0Mzc0ZmIxODU1NDJjNTdhYWZlNTU5MWFjJTIyJTJDJTBBJTIwJTIwJTIwJTIwSUQlM0QlMjJQYXJkbzIwMDklMjIlMkMlMEElMjAlMjAlMjAlMjBzY29wdXMyMDE2JTNEJTIyMSUyMiUyQyUwQSUyMCUyMCUyMCUyMHBsYWNleCUzRCUyMjEydGglMjBJYmVyb2FtZXJpY2FuJTIwQ29uZmVyZW5jZSUyMG9uJTIwUmVxdWlyZW1lbnRzJTIwRW5naW5lZXJpbmclMjBhbmQlMjBTb2Z0d2FyZSUyMEVudmlyb25tZW50cyUyQyUyMElERUFTJTIwMjAwOSUyMiUyQyUwQSUyOSUyOSUwQSUyNyUyNyUyNyUyOSUzQg==\")));\n",
       "    "
      ],
      "text/plain": [
       "<IPython.core.display.Javascript object>"
      ]
     },
     "metadata": {},
     "output_type": "display_data"
    },
    {
     "data": {
      "application/javascript": [
       "$('span:contains(\"# Temp\")').closest('.cell').remove();"
      ],
      "text/plain": [
       "<IPython.core.display.Javascript object>"
      ]
     },
     "metadata": {},
     "output_type": "display_data"
    },
    {
     "data": {
      "application/javascript": [
       "\n",
       "        $('span:contains(\"# Temp\")').closest('.cell').remove();\n",
       "        var code = IPython.notebook.insert_cell_below('code');\n",
       "        var prompt = code.element.find(\".input_prompt\");\n",
       "        prompt.append('<br><button style=\"height: 100%; width: 54px;\">Run</button>');\n",
       "        prompt.on(\"click\", \"button\", function(){\n",
       "            code.execute();\n",
       "        });\n",
       "        code.set_text(decodeURIComponent(window.atob(\"JTIzJTIwVGVtcCUwQWluc2VydCUyOCUyNyUyNyUyNyUwQWxpMjAwOWElMjAlM0QlMjBEQiUyOFdvcmtVbnJlbGF0ZWQlMjglMEElMjAlMjAlMjAlMjAyMDA5JTJDJTIwJTIyQW4lMjBhcHByb2FjaCUyMHRvJTIwbW9kZWxsaW5nJTIwc29mdHdhcmUlMjBldm9sdXRpb24lMjBwcm9jZXNzZXMlMjIlMkMlMEElMjAlMjAlMjAlMjBkaXNwbGF5JTNEJTIybGklMjIlMkMlMEElMjAlMjAlMjAlMjBhdXRob3JzJTNEJTIyTGklMkMlMjBULiUyMiUyQyUwQSUyMCUyMCUyMCUyMHBsYWNlJTNEQm9vayUyQyUwQSUyMCUyMCUyMCUyMHBwJTNEJTIyMS0yMTMlMjIlMkMlMEElMjAlMjAlMjAlMjBlbnRyeXR5cGUlM0QlMjJib29rJTIyJTJDJTBBJTIwJTIwJTIwJTIwbGluayUzRCUyMmh0dHBzJTNBLy93d3cuc2NvcHVzLmNvbS9pbndhcmQvcmVjb3JkLnVyaSUzRmVpZCUzRDItczIuMC04NDg5NTIyNDAwMiUyNmRvaSUzRDEwLjEwMDclMjUyZjk3OC0zLTU0MC03OTQ2NC02JTI2cGFydG5lcklEJTNENDAlMjZtZDUlM0QzN2ExZTI1NWZhOTE2MGM2ZWQ1Y2Y2ODM4N2U1MDgwZiUyMiUyQyUwQSUyMCUyMCUyMCUyMElEJTNEJTIyTGkyMDA5MSUyMiUyQyUwQSUyMCUyMCUyMCUyMHNjb3B1czIwMTYlM0QlMjIxJTIyJTJDJTBBJTIwJTIwJTIwJTIwcGxhY2V4JTNEJTIyQW4lMjBBcHByb2FjaCUyMHRvJTIwTW9kZWxsaW5nJTIwU29mdHdhcmUlMjBFdm9sdXRpb24lMjBQcm9jZXNzZXMlMjIlMkMlMEElMjklMjklMEElMjclMjclMjclMjklM0I=\")));\n",
       "    "
      ],
      "text/plain": [
       "<IPython.core.display.Javascript object>"
      ]
     },
     "metadata": {},
     "output_type": "display_data"
    },
    {
     "data": {
      "application/javascript": [
       "$('span:contains(\"# Temp\")').closest('.cell').remove();"
      ],
      "text/plain": [
       "<IPython.core.display.Javascript object>"
      ]
     },
     "metadata": {},
     "output_type": "display_data"
    },
    {
     "data": {
      "application/javascript": [
       "\n",
       "        $('span:contains(\"# Temp\")').closest('.cell').remove();\n",
       "        var code = IPython.notebook.insert_cell_below('code');\n",
       "        var prompt = code.element.find(\".input_prompt\");\n",
       "        prompt.append('<br><button style=\"height: 100%; width: 54px;\">Run</button>');\n",
       "        prompt.on(\"click\", \"button\", function(){\n",
       "            code.execute();\n",
       "        });\n",
       "        code.set_text(decodeURIComponent(window.atob(\"JTIzJTIwVGVtcCUwQWluc2VydCUyOCUyNyUyNyUyNyUwQWxpMjAwOWElMjAlM0QlMjBEQiUyOFdvcmtVbnJlbGF0ZWQlMjglMEElMjAlMjAlMjAlMjAyMDA5JTJDJTIwJTIyQW4lMjBhcHByb2FjaCUyMHRvJTIwbW9kZWxsaW5nJTIwc29mdHdhcmUlMjBldm9sdXRpb24lMjBwcm9jZXNzZXMlMjIlMkMlMEElMjAlMjAlMjAlMjBkaXNwbGF5JTNEJTIybGklMjIlMkMlMEElMjAlMjAlMjAlMjBhdXRob3JzJTNEJTIyTGklMkMlMjBULiUyMiUyQyUwQSUyMCUyMCUyMCUyMHBsYWNlJTNEQm9vayUyQyUwQSUyMCUyMCUyMCUyMHBwJTNEJTIyMS0yMTMlMjIlMkMlMEElMjAlMjAlMjAlMjBlbnRyeXR5cGUlM0QlMjJib29rJTIyJTJDJTBBJTIwJTIwJTIwJTIwbGluayUzRCUyMmh0dHBzJTNBLy93d3cuc2NvcHVzLmNvbS9pbndhcmQvcmVjb3JkLnVyaSUzRmVpZCUzRDItczIuMC04NDg5NTIyNDAwMiUyNmRvaSUzRDEwLjEwMDclMjUyZjk3OC0zLTU0MC03OTQ2NC02JTI2cGFydG5lcklEJTNENDAlMjZtZDUlM0QzN2ExZTI1NWZhOTE2MGM2ZWQ1Y2Y2ODM4N2U1MDgwZiUyMiUyQyUwQSUyMCUyMCUyMCUyMElEJTNEJTIyTGkyMDA5MSUyMiUyQyUwQSUyMCUyMCUyMCUyMHNjb3B1czIwMTYlM0QlMjIxJTIyJTJDJTBBJTIwJTIwJTIwJTIwcGxhY2V4JTNEJTIyQW4lMjBBcHByb2FjaCUyMHRvJTIwTW9kZWxsaW5nJTIwU29mdHdhcmUlMjBFdm9sdXRpb24lMjBQcm9jZXNzZXMlMjIlMkMlMEElMjklMjklMEElMjclMjclMjclMjklM0I=\")));\n",
       "    "
      ],
      "text/plain": [
       "<IPython.core.display.Javascript object>"
      ]
     },
     "metadata": {},
     "output_type": "display_data"
    },
    {
     "data": {
      "application/javascript": [
       "$('span:contains(\"# Temp\")').closest('.cell').remove();"
      ],
      "text/plain": [
       "<IPython.core.display.Javascript object>"
      ]
     },
     "metadata": {},
     "output_type": "display_data"
    },
    {
     "data": {
      "application/javascript": [
       "\n",
       "        $('span:contains(\"# Temp\")').closest('.cell').remove();\n",
       "        var code = IPython.notebook.insert_cell_below('code');\n",
       "        var prompt = code.element.find(\".input_prompt\");\n",
       "        prompt.append('<br><button style=\"height: 100%; width: 54px;\">Run</button>');\n",
       "        prompt.on(\"click\", \"button\", function(){\n",
       "            code.execute();\n",
       "        });\n",
       "        code.set_text(decodeURIComponent(window.atob(\"JTIzJTIwVGVtcCUwQWluc2VydCUyOCUyNyUyNyUyNyUwQXJvZHIlQzMlQURndWV6MjAwOWIlMjAlM0QlMjBEQiUyOFdvcmtVbnJlbGF0ZWQlMjglMEElMjAlMjAlMjAlMjAyMDA5JTJDJTIwJTIyRGVmaW5pbmclMjBTUEVNJTIwMiUyMHByb2Nlc3MlMjBjb25zdHJhaW50cyUyMHdpdGglMjBzZW1hbnRpYyUyMHJ1bGVzJTIwdXNpbmclMjBTV1JMJTIyJTJDJTBBJTIwJTIwJTIwJTIwZGlzcGxheSUzRCUyMnJvZHIlQzMlQURndWV6JTIwYiUyMiUyQyUwQSUyMCUyMCUyMCUyMGF1dGhvcnMlM0QlMjJSb2RyJUMzJUFEZ3VleiUyQyUyMEQuJTIwYW5kJTIwU2ljaWxpYSUyQyUyME0uLUEuJTIyJTJDJTBBJTIwJTIwJTIwJTIwcGxhY2UlM0RGQUtFJTJDJTBBJTIwJTIwJTIwJTIwcHAlM0QlMjI5NS0xMDQlMjIlMkMlMEElMjAlMjAlMjAlMjBlbnRyeXR5cGUlM0QlMjJjb25mZXJlbmNlJTIyJTJDJTBBJTIwJTIwJTIwJTIwdm9sdW1lJTNEJTIyNDYwJTIyJTJDJTBBJTIwJTIwJTIwJTIwbGluayUzRCUyMmh0dHBzJTNBLy93d3cuc2NvcHVzLmNvbS9pbndhcmQvcmVjb3JkLnVyaSUzRmVpZCUzRDItczIuMC04NDg4NzA5NzIxOSUyNnBhcnRuZXJJRCUzRDQwJTI2bWQ1JTNEZWI4ODJiYjc0MDI0YzM2MzBiMWY3MTBlYjhiNjJmNmUlMjIlMkMlMEElMjAlMjAlMjAlMjBJRCUzRCUyMlJvZHIlQzMlQURndWV6MjAwOTk1JTIyJTJDJTBBJTIwJTIwJTIwJTIwc2NvcHVzMjAxNiUzRCUyMjElMjIlMkMlMEElMjAlMjAlMjAlMjBwbGFjZXglM0QlMjJDRVVSJTIwV29ya3Nob3AlMjBQcm9jZWVkaW5ncyUyMiUyQyUwQSUyOSUyOSUwQSUyNyUyNyUyNyUyOSUzQg==\")));\n",
       "    "
      ],
      "text/plain": [
       "<IPython.core.display.Javascript object>"
      ]
     },
     "metadata": {},
     "output_type": "display_data"
    },
    {
     "data": {
      "application/javascript": [
       "$('span:contains(\"# Temp\")').closest('.cell').remove();"
      ],
      "text/plain": [
       "<IPython.core.display.Javascript object>"
      ]
     },
     "metadata": {},
     "output_type": "display_data"
    },
    {
     "data": {
      "application/javascript": [
       "\n",
       "        $('span:contains(\"# Temp\")').closest('.cell').remove();\n",
       "        var code = IPython.notebook.insert_cell_below('code');\n",
       "        var prompt = code.element.find(\".input_prompt\");\n",
       "        prompt.append('<br><button style=\"height: 100%; width: 54px;\">Run</button>');\n",
       "        prompt.on(\"click\", \"button\", function(){\n",
       "            code.execute();\n",
       "        });\n",
       "        code.set_text(decodeURIComponent(window.atob(\"JTIzJTIwVGVtcCUwQWluc2VydCUyOCUyNyUyNyUyNyUwQXJvZHIlQzMlQURndWV6MjAwOWIlMjAlM0QlMjBEQiUyOFdvcmtVbnJlbGF0ZWQlMjglMEElMjAlMjAlMjAlMjAyMDA5JTJDJTIwJTIyRGVmaW5pbmclMjBTUEVNJTIwMiUyMHByb2Nlc3MlMjBjb25zdHJhaW50cyUyMHdpdGglMjBzZW1hbnRpYyUyMHJ1bGVzJTIwdXNpbmclMjBTV1JMJTIyJTJDJTBBJTIwJTIwJTIwJTIwZGlzcGxheSUzRCUyMnJvZHIlQzMlQURndWV6JTIwYiUyMiUyQyUwQSUyMCUyMCUyMCUyMGF1dGhvcnMlM0QlMjJSb2RyJUMzJUFEZ3VleiUyQyUyMEQuJTIwYW5kJTIwU2ljaWxpYSUyQyUyME0uLUEuJTIyJTJDJTBBJTIwJTIwJTIwJTIwcGxhY2UlM0RGQUtFJTJDJTBBJTIwJTIwJTIwJTIwcHAlM0QlMjI5NS0xMDQlMjIlMkMlMEElMjAlMjAlMjAlMjBlbnRyeXR5cGUlM0QlMjJjb25mZXJlbmNlJTIyJTJDJTBBJTIwJTIwJTIwJTIwdm9sdW1lJTNEJTIyNDYwJTIyJTJDJTBBJTIwJTIwJTIwJTIwbGluayUzRCUyMmh0dHBzJTNBLy93d3cuc2NvcHVzLmNvbS9pbndhcmQvcmVjb3JkLnVyaSUzRmVpZCUzRDItczIuMC04NDg4NzA5NzIxOSUyNnBhcnRuZXJJRCUzRDQwJTI2bWQ1JTNEZWI4ODJiYjc0MDI0YzM2MzBiMWY3MTBlYjhiNjJmNmUlMjIlMkMlMEElMjAlMjAlMjAlMjBJRCUzRCUyMlJvZHIlQzMlQURndWV6MjAwOTk1JTIyJTJDJTBBJTIwJTIwJTIwJTIwc2NvcHVzMjAxNiUzRCUyMjElMjIlMkMlMEElMjAlMjAlMjAlMjBwbGFjZXglM0QlMjJDRVVSJTIwV29ya3Nob3AlMjBQcm9jZWVkaW5ncyUyMiUyQyUwQSUyOSUyOSUwQSUyNyUyNyUyNyUyOSUzQg==\")));\n",
       "    "
      ],
      "text/plain": [
       "<IPython.core.display.Javascript object>"
      ]
     },
     "metadata": {},
     "output_type": "display_data"
    },
    {
     "data": {
      "application/javascript": [
       "$('span:contains(\"# Temp\")').closest('.cell').remove();"
      ],
      "text/plain": [
       "<IPython.core.display.Javascript object>"
      ]
     },
     "metadata": {},
     "output_type": "display_data"
    },
    {
     "data": {
      "application/javascript": [
       "\n",
       "        $('span:contains(\"# Temp\")').closest('.cell').remove();\n",
       "        var code = IPython.notebook.insert_cell_below('code');\n",
       "        var prompt = code.element.find(\".input_prompt\");\n",
       "        prompt.append('<br><button style=\"height: 100%; width: 54px;\">Run</button>');\n",
       "        prompt.on(\"click\", \"button\", function(){\n",
       "            code.execute();\n",
       "        });\n",
       "        code.set_text(decodeURIComponent(window.atob(\"JTIzJTIwVGVtcCUwQWluc2VydCUyOCUyNyUyNyUyNyUwQXJvbWFub3YyMDA5YSUyMCUzRCUyMERCJTI4V29ya1VucmVsYXRlZCUyOCUwQSUyMCUyMCUyMCUyMDIwMDklMkMlMjAlMjJBbiUyMGFwcHJvYWNoJTIwZm9yJTIwZGVzaWduaW5nJTIwb2YlMjBlbnRlcnByaXNlJTIwSVQlMjBsYW5kc2NhcGVzJTIwdG8lMjBwZXJmb3JtJTIwcXVhbnRpdGF2ZSUyMGluZm9ybWF0aW9uJTIwc2VjdXJpdHklMjByaXNrJTIwYXNzZXNzbWVudCUyMiUyQyUwQSUyMCUyMCUyMCUyMGRpc3BsYXklM0QlMjJyb21hbm92JTIyJTJDJTBBJTIwJTIwJTIwJTIwYXV0aG9ycyUzRCUyMlJvbWFub3YlMkMlMjBBLiUyMGFuZCUyME9rYW1vdG8lMkMlMjBFLiUyMiUyQyUwQSUyMCUyMCUyMCUyMHBsYWNlJTNERkFLRSUyQyUwQSUyMCUyMCUyMCUyMHBwJTNEJTIyMzEzLTMxOCUyMiUyQyUwQSUyMCUyMCUyMCUyMGVudHJ5dHlwZSUzRCUyMmNvbmZlcmVuY2UlMjIlMkMlMEElMjAlMjAlMjAlMjBsaW5rJTNEJTIyaHR0cHMlM0EvL3d3dy5zY29wdXMuY29tL2lud2FyZC9yZWNvcmQudXJpJTNGZWlkJTNEMi1zMi4wLTc0NTQ5MTQzNzkxJTI2cGFydG5lcklEJTNENDAlMjZtZDUlM0QzMjc2M2E5YzQ5ZjE2NTlkOTU4Mjg3ZmUxMTM1MThmMSUyMiUyQyUwQSUyMCUyMCUyMCUyMElEJTNEJTIyUm9tYW5vdjIwMDkzMTMlMjIlMkMlMEElMjAlMjAlMjAlMjBzY29wdXMyMDE2JTNEJTIyMSUyMiUyQyUwQSUyMCUyMCUyMCUyMHBsYWNleCUzRCUyMklDRVRFJTIwMjAwOSUyMC0lMjBJbnRlcm5hdGlvbmFsJTIwSm9pbnQlMjBDb25mZXJlbmNlJTIwb24lMjBlLUJ1c2luZXNzJTIwYW5kJTIwVGVsZWNvbW11bmljYXRpb25zJTIyJTJDJTBBJTI5JTI5JTBBJTI3JTI3JTI3JTI5JTNC\")));\n",
       "    "
      ],
      "text/plain": [
       "<IPython.core.display.Javascript object>"
      ]
     },
     "metadata": {},
     "output_type": "display_data"
    },
    {
     "data": {
      "application/javascript": [
       "$('span:contains(\"# Temp\")').closest('.cell').remove();"
      ],
      "text/plain": [
       "<IPython.core.display.Javascript object>"
      ]
     },
     "metadata": {},
     "output_type": "display_data"
    },
    {
     "data": {
      "application/javascript": [
       "\n",
       "        $('span:contains(\"# Temp\")').closest('.cell').remove();\n",
       "        var code = IPython.notebook.insert_cell_below('code');\n",
       "        var prompt = code.element.find(\".input_prompt\");\n",
       "        prompt.append('<br><button style=\"height: 100%; width: 54px;\">Run</button>');\n",
       "        prompt.on(\"click\", \"button\", function(){\n",
       "            code.execute();\n",
       "        });\n",
       "        code.set_text(decodeURIComponent(window.atob(\"JTIzJTIwVGVtcCUwQWluc2VydCUyOCUyNyUyNyUyNyUwQXJvbWFub3YyMDA5YSUyMCUzRCUyMERCJTI4V29ya1VucmVsYXRlZCUyOCUwQSUyMCUyMCUyMCUyMDIwMDklMkMlMjAlMjJBbiUyMGFwcHJvYWNoJTIwZm9yJTIwZGVzaWduaW5nJTIwb2YlMjBlbnRlcnByaXNlJTIwSVQlMjBsYW5kc2NhcGVzJTIwdG8lMjBwZXJmb3JtJTIwcXVhbnRpdGF2ZSUyMGluZm9ybWF0aW9uJTIwc2VjdXJpdHklMjByaXNrJTIwYXNzZXNzbWVudCUyMiUyQyUwQSUyMCUyMCUyMCUyMGRpc3BsYXklM0QlMjJyb21hbm92JTIyJTJDJTBBJTIwJTIwJTIwJTIwYXV0aG9ycyUzRCUyMlJvbWFub3YlMkMlMjBBLiUyMGFuZCUyME9rYW1vdG8lMkMlMjBFLiUyMiUyQyUwQSUyMCUyMCUyMCUyMHBsYWNlJTNERkFLRSUyQyUwQSUyMCUyMCUyMCUyMHBwJTNEJTIyMzEzLTMxOCUyMiUyQyUwQSUyMCUyMCUyMCUyMGVudHJ5dHlwZSUzRCUyMmNvbmZlcmVuY2UlMjIlMkMlMEElMjAlMjAlMjAlMjBsaW5rJTNEJTIyaHR0cHMlM0EvL3d3dy5zY29wdXMuY29tL2lud2FyZC9yZWNvcmQudXJpJTNGZWlkJTNEMi1zMi4wLTc0NTQ5MTQzNzkxJTI2cGFydG5lcklEJTNENDAlMjZtZDUlM0QzMjc2M2E5YzQ5ZjE2NTlkOTU4Mjg3ZmUxMTM1MThmMSUyMiUyQyUwQSUyMCUyMCUyMCUyMElEJTNEJTIyUm9tYW5vdjIwMDkzMTMlMjIlMkMlMEElMjAlMjAlMjAlMjBzY29wdXMyMDE2JTNEJTIyMSUyMiUyQyUwQSUyMCUyMCUyMCUyMHBsYWNleCUzRCUyMklDRVRFJTIwMjAwOSUyMC0lMjBJbnRlcm5hdGlvbmFsJTIwSm9pbnQlMjBDb25mZXJlbmNlJTIwb24lMjBlLUJ1c2luZXNzJTIwYW5kJTIwVGVsZWNvbW11bmljYXRpb25zJTIyJTJDJTBBJTI5JTI5JTBBJTI3JTI3JTI3JTI5JTNC\")));\n",
       "    "
      ],
      "text/plain": [
       "<IPython.core.display.Javascript object>"
      ]
     },
     "metadata": {},
     "output_type": "display_data"
    },
    {
     "data": {
      "application/javascript": [
       "$('span:contains(\"# Temp\")').closest('.cell').remove();"
      ],
      "text/plain": [
       "<IPython.core.display.Javascript object>"
      ]
     },
     "metadata": {},
     "output_type": "display_data"
    },
    {
     "data": {
      "application/javascript": [
       "\n",
       "        $('span:contains(\"# Temp\")').closest('.cell').remove();\n",
       "        var code = IPython.notebook.insert_cell_below('code');\n",
       "        var prompt = code.element.find(\".input_prompt\");\n",
       "        prompt.append('<br><button style=\"height: 100%; width: 54px;\">Run</button>');\n",
       "        prompt.on(\"click\", \"button\", function(){\n",
       "            code.execute();\n",
       "        });\n",
       "        code.set_text(decodeURIComponent(window.atob(\"JTIzJTIwVGVtcCUwQWluc2VydCUyOCUyNyUyNyUyNyUwQXJvbWFub3YyMDA5YSUyMCUzRCUyMERCJTI4V29ya1VucmVsYXRlZCUyOCUwQSUyMCUyMCUyMCUyMDIwMDklMkMlMjAlMjJBbiUyMGFwcHJvYWNoJTIwZm9yJTIwZGVzaWduaW5nJTIwb2YlMjBlbnRlcnByaXNlJTIwaXQlMjBsYW5kc2NhcGVzJTIwdG8lMjBwZXJmb3JtJTIwcXVhbnRpdGF2ZSUyMGluZm9ybWF0aW9uJTIwc2VjdXJpdHklMjByaXNrJTIwYXNzZXNzbWVudCUyMiUyQyUwQSUyMCUyMCUyMCUyMGRpc3BsYXklM0QlMjJyb21hbm92JTIyJTJDJTBBJTIwJTIwJTIwJTIwYXV0aG9ycyUzRCUyMlJvbWFub3YlMkMlMjBBLiUyMGFuZCUyME9rYW1vdG8lMkMlMjBFLiUyMiUyQyUwQSUyMCUyMCUyMCUyMHBsYWNlJTNERkFLRSUyQyUwQSUyMCUyMCUyMCUyMHBwJTNEJTIyMzEzLTMxOCUyMiUyQyUwQSUyMCUyMCUyMCUyMGVudHJ5dHlwZSUzRCUyMmNvbmZlcmVuY2UlMjIlMkMlMEElMjAlMjAlMjAlMjBsaW5rJTNEJTIyaHR0cHMlM0EvL3d3dy5zY29wdXMuY29tL2lud2FyZC9yZWNvcmQudXJpJTNGZWlkJTNEMi1zMi4wLTc0NTQ5MjE3MDQ4JTI2cGFydG5lcklEJTNENDAlMjZtZDUlM0QzODgwZGE4OTNkMjQ4NmUyYzc1ZDNhZDhiZWYyZDZjMyUyMiUyQyUwQSUyMCUyMCUyMCUyMElEJTNEJTIyUm9tYW5vdjIwMDkzMTMlMjIlMkMlMEElMjAlMjAlMjAlMjBzY29wdXMyMDE2JTNEJTIyMSUyMiUyQyUwQSUyMCUyMCUyMCUyMHBsYWNleCUzRCUyMlNFQ1JZUFQlMjAyMDA5JTIwLSUyMEludGVybmF0aW9uYWwlMjBDb25mZXJlbmNlJTIwb24lMjBTZWN1cml0eSUyMGFuZCUyMENyeXB0b2dyYXBoeSUyQyUyMFByb2NlZWRpbmdzJTIyJTJDJTBBJTI5JTI5JTBBJTI3JTI3JTI3JTI5JTNC\")));\n",
       "    "
      ],
      "text/plain": [
       "<IPython.core.display.Javascript object>"
      ]
     },
     "metadata": {},
     "output_type": "display_data"
    },
    {
     "data": {
      "application/javascript": [
       "$('span:contains(\"# Temp\")').closest('.cell').remove();"
      ],
      "text/plain": [
       "<IPython.core.display.Javascript object>"
      ]
     },
     "metadata": {},
     "output_type": "display_data"
    },
    {
     "data": {
      "application/javascript": [
       "\n",
       "        $('span:contains(\"# Temp\")').closest('.cell').remove();\n",
       "        var code = IPython.notebook.insert_cell_below('code');\n",
       "        var prompt = code.element.find(\".input_prompt\");\n",
       "        prompt.append('<br><button style=\"height: 100%; width: 54px;\">Run</button>');\n",
       "        prompt.on(\"click\", \"button\", function(){\n",
       "            code.execute();\n",
       "        });\n",
       "        code.set_text(decodeURIComponent(window.atob(\"JTIzJTIwVGVtcCUwQWluc2VydCUyOCUyNyUyNyUyNyUwQXJvbWFub3YyMDA5YSUyMCUzRCUyMERCJTI4V29ya1VucmVsYXRlZCUyOCUwQSUyMCUyMCUyMCUyMDIwMDklMkMlMjAlMjJBbiUyMGFwcHJvYWNoJTIwZm9yJTIwZGVzaWduaW5nJTIwb2YlMjBlbnRlcnByaXNlJTIwaXQlMjBsYW5kc2NhcGVzJTIwdG8lMjBwZXJmb3JtJTIwcXVhbnRpdGF2ZSUyMGluZm9ybWF0aW9uJTIwc2VjdXJpdHklMjByaXNrJTIwYXNzZXNzbWVudCUyMiUyQyUwQSUyMCUyMCUyMCUyMGRpc3BsYXklM0QlMjJyb21hbm92JTIyJTJDJTBBJTIwJTIwJTIwJTIwYXV0aG9ycyUzRCUyMlJvbWFub3YlMkMlMjBBLiUyMGFuZCUyME9rYW1vdG8lMkMlMjBFLiUyMiUyQyUwQSUyMCUyMCUyMCUyMHBsYWNlJTNERkFLRSUyQyUwQSUyMCUyMCUyMCUyMHBwJTNEJTIyMzEzLTMxOCUyMiUyQyUwQSUyMCUyMCUyMCUyMGVudHJ5dHlwZSUzRCUyMmNvbmZlcmVuY2UlMjIlMkMlMEElMjAlMjAlMjAlMjBsaW5rJTNEJTIyaHR0cHMlM0EvL3d3dy5zY29wdXMuY29tL2lud2FyZC9yZWNvcmQudXJpJTNGZWlkJTNEMi1zMi4wLTc0NTQ5MjE3MDQ4JTI2cGFydG5lcklEJTNENDAlMjZtZDUlM0QzODgwZGE4OTNkMjQ4NmUyYzc1ZDNhZDhiZWYyZDZjMyUyMiUyQyUwQSUyMCUyMCUyMCUyMElEJTNEJTIyUm9tYW5vdjIwMDkzMTMlMjIlMkMlMEElMjAlMjAlMjAlMjBzY29wdXMyMDE2JTNEJTIyMSUyMiUyQyUwQSUyMCUyMCUyMCUyMHBsYWNleCUzRCUyMlNFQ1JZUFQlMjAyMDA5JTIwLSUyMEludGVybmF0aW9uYWwlMjBDb25mZXJlbmNlJTIwb24lMjBTZWN1cml0eSUyMGFuZCUyMENyeXB0b2dyYXBoeSUyQyUyMFByb2NlZWRpbmdzJTIyJTJDJTBBJTI5JTI5JTBBJTI3JTI3JTI3JTI5JTNC\")));\n",
       "    "
      ],
      "text/plain": [
       "<IPython.core.display.Javascript object>"
      ]
     },
     "metadata": {},
     "output_type": "display_data"
    },
    {
     "data": {
      "application/javascript": [
       "$('span:contains(\"# Temp\")').closest('.cell').remove();"
      ],
      "text/plain": [
       "<IPython.core.display.Javascript object>"
      ]
     },
     "metadata": {},
     "output_type": "display_data"
    },
    {
     "data": {
      "application/javascript": [
       "\n",
       "        $('span:contains(\"# Temp\")').closest('.cell').remove();\n",
       "        var code = IPython.notebook.insert_cell_below('code');\n",
       "        var prompt = code.element.find(\".input_prompt\");\n",
       "        prompt.append('<br><button style=\"height: 100%; width: 54px;\">Run</button>');\n",
       "        prompt.on(\"click\", \"button\", function(){\n",
       "            code.execute();\n",
       "        });\n",
       "        code.set_text(decodeURIComponent(window.atob(\"JTIzJTIwVGVtcCUwQWluc2VydCUyOCUyNyUyNyUyNyUwQWFybWJydXN0MjAwOWIlMjAlM0QlMjBEQiUyOFdvcmtVbnJlbGF0ZWQlMjglMEElMjAlMjAlMjAlMjAyMDA5JTJDJTIwJTIyRXN0YWJsaXNoaW5nJTIwYW5kJTIwbWFpbnRhaW5pbmclMjB0cmFjZWFiaWxpdHklMjBiZXR3ZWVuJTIwbGFyZ2UlMjBhZXJvc3BhY2UlMjBwcm9jZXNzJTIwc3RhbmRhcmRzJTIyJTJDJTBBJTIwJTIwJTIwJTIwZGlzcGxheSUzRCUyMmFybWJydXN0JTIwYiUyMiUyQyUwQSUyMCUyMCUyMCUyMGF1dGhvcnMlM0QlMjJBcm1icnVzdCUyQyUyME8uJTIwYW5kJTIwT2NhbXBvJTJDJTIwQS4lMjBhbmQlMjBNJUMzJUJDbmNoJTJDJTIwSi4lMjBhbmQlMjBLYXRhaGlyYSUyQyUyME0uJTIwYW5kJTIwS29pc2hpJTJDJTIwWS4lMjBhbmQlMjBNaXlhbW90byUyQyUyMFkuJTIyJTJDJTBBJTIwJTIwJTIwJTIwcGxhY2UlM0RGQUtFJTJDJTBBJTIwJTIwJTIwJTIwcHAlM0QlMjIzNi00MCUyMiUyQyUwQSUyMCUyMCUyMCUyMGVudHJ5dHlwZSUzRCUyMmNvbmZlcmVuY2UlMjIlMkMlMEElMjAlMjAlMjAlMjBhcnRfbnVtYmVyJTNEJTIyNTA2OTU4MSUyMiUyQyUwQSUyMCUyMCUyMCUyMGxpbmslM0QlMjJodHRwcyUzQS8vd3d3LnNjb3B1cy5jb20vaW53YXJkL3JlY29yZC51cmklM0ZlaWQlM0QyLXMyLjAtNzAzNDk5MDI3NzIlMjZkb2klM0QxMC4xMTA5JTI1MmZURUZTRS4yMDA5LjUwNjk1ODElMjZwYXJ0bmVySUQlM0Q0MCUyNm1kNSUzRGYyNmY3MTY5YTQ0ZTQyZTExM2I2NDRmMmUyN2M2MzgwJTIyJTJDJTBBJTIwJTIwJTIwJTIwSUQlM0QlMjJBcm1icnVzdDIwMDkzNiUyMiUyQyUwQSUyMCUyMCUyMCUyMHNjb3B1czIwMTYlM0QlMjIxJTIyJTJDJTBBJTIwJTIwJTIwJTIwcGxhY2V4JTNEJTIyUHJvY2VlZGluZ3MlMjBvZiUyMHRoZSUyMDIwMDklMjBJQ1NFJTIwV29ya3Nob3AlMjBvbiUyMFRyYWNlYWJpbGl0eSUyMGluJTIwRW1lcmdpbmclMjBGb3JtcyUyMG9mJTIwU29mdHdhcmUlMjBFbmdpbmVlcmluZyUyQyUyMFRFRlNFJTIwMjAwOSUyMiUyQyUwQSUyOSUyOSUwQSUyNyUyNyUyNyUyOSUzQg==\")));\n",
       "    "
      ],
      "text/plain": [
       "<IPython.core.display.Javascript object>"
      ]
     },
     "metadata": {},
     "output_type": "display_data"
    },
    {
     "data": {
      "application/javascript": [
       "$('span:contains(\"# Temp\")').closest('.cell').remove();"
      ],
      "text/plain": [
       "<IPython.core.display.Javascript object>"
      ]
     },
     "metadata": {},
     "output_type": "display_data"
    },
    {
     "data": {
      "application/javascript": [
       "\n",
       "        $('span:contains(\"# Temp\")').closest('.cell').remove();\n",
       "        var code = IPython.notebook.insert_cell_below('code');\n",
       "        var prompt = code.element.find(\".input_prompt\");\n",
       "        prompt.append('<br><button style=\"height: 100%; width: 54px;\">Run</button>');\n",
       "        prompt.on(\"click\", \"button\", function(){\n",
       "            code.execute();\n",
       "        });\n",
       "        code.set_text(decodeURIComponent(window.atob(\"JTIzJTIwVGVtcCUwQWluc2VydCUyOCUyNyUyNyUyNyUwQWFybWJydXN0MjAwOWIlMjAlM0QlMjBEQiUyOFdvcmtVbnJlbGF0ZWQlMjglMEElMjAlMjAlMjAlMjAyMDA5JTJDJTIwJTIyRXN0YWJsaXNoaW5nJTIwYW5kJTIwbWFpbnRhaW5pbmclMjB0cmFjZWFiaWxpdHklMjBiZXR3ZWVuJTIwbGFyZ2UlMjBhZXJvc3BhY2UlMjBwcm9jZXNzJTIwc3RhbmRhcmRzJTIyJTJDJTBBJTIwJTIwJTIwJTIwZGlzcGxheSUzRCUyMmFybWJydXN0JTIwYiUyMiUyQyUwQSUyMCUyMCUyMCUyMGF1dGhvcnMlM0QlMjJBcm1icnVzdCUyQyUyME8uJTIwYW5kJTIwT2NhbXBvJTJDJTIwQS4lMjBhbmQlMjBNJUMzJUJDbmNoJTJDJTIwSi4lMjBhbmQlMjBLYXRhaGlyYSUyQyUyME0uJTIwYW5kJTIwS29pc2hpJTJDJTIwWS4lMjBhbmQlMjBNaXlhbW90byUyQyUyMFkuJTIyJTJDJTBBJTIwJTIwJTIwJTIwcGxhY2UlM0RGQUtFJTJDJTBBJTIwJTIwJTIwJTIwcHAlM0QlMjIzNi00MCUyMiUyQyUwQSUyMCUyMCUyMCUyMGVudHJ5dHlwZSUzRCUyMmNvbmZlcmVuY2UlMjIlMkMlMEElMjAlMjAlMjAlMjBhcnRfbnVtYmVyJTNEJTIyNTA2OTU4MSUyMiUyQyUwQSUyMCUyMCUyMCUyMGxpbmslM0QlMjJodHRwcyUzQS8vd3d3LnNjb3B1cy5jb20vaW53YXJkL3JlY29yZC51cmklM0ZlaWQlM0QyLXMyLjAtNzAzNDk5MDI3NzIlMjZkb2klM0QxMC4xMTA5JTI1MmZURUZTRS4yMDA5LjUwNjk1ODElMjZwYXJ0bmVySUQlM0Q0MCUyNm1kNSUzRGYyNmY3MTY5YTQ0ZTQyZTExM2I2NDRmMmUyN2M2MzgwJTIyJTJDJTBBJTIwJTIwJTIwJTIwSUQlM0QlMjJBcm1icnVzdDIwMDkzNiUyMiUyQyUwQSUyMCUyMCUyMCUyMHNjb3B1czIwMTYlM0QlMjIxJTIyJTJDJTBBJTIwJTIwJTIwJTIwcGxhY2V4JTNEJTIyUHJvY2VlZGluZ3MlMjBvZiUyMHRoZSUyMDIwMDklMjBJQ1NFJTIwV29ya3Nob3AlMjBvbiUyMFRyYWNlYWJpbGl0eSUyMGluJTIwRW1lcmdpbmclMjBGb3JtcyUyMG9mJTIwU29mdHdhcmUlMjBFbmdpbmVlcmluZyUyQyUyMFRFRlNFJTIwMjAwOSUyMiUyQyUwQSUyOSUyOSUwQSUyNyUyNyUyNyUyOSUzQg==\")));\n",
       "    "
      ],
      "text/plain": [
       "<IPython.core.display.Javascript object>"
      ]
     },
     "metadata": {},
     "output_type": "display_data"
    },
    {
     "data": {
      "application/javascript": [
       "$('span:contains(\"# Temp\")').closest('.cell').remove();"
      ],
      "text/plain": [
       "<IPython.core.display.Javascript object>"
      ]
     },
     "metadata": {},
     "output_type": "display_data"
    },
    {
     "data": {
      "application/javascript": [
       "\n",
       "        $('span:contains(\"# Temp\")').closest('.cell').remove();\n",
       "        var code = IPython.notebook.insert_cell_below('code');\n",
       "        var prompt = code.element.find(\".input_prompt\");\n",
       "        prompt.append('<br><button style=\"height: 100%; width: 54px;\">Run</button>');\n",
       "        prompt.on(\"click\", \"button\", function(){\n",
       "            code.execute();\n",
       "        });\n",
       "        code.set_text(decodeURIComponent(window.atob(\"JTIzJTIwVGVtcCUwQWluc2VydCUyOCUyNyUyNyUyNyUyNyUyNyUyNyUyOSUzQiUwQXNldF9hdHRyaWJ1dGUlMjglMjdzaHZhaWtvMjAwOWElMjclMkMlMjAlMjd2b2x1bWUlMjclMkMlMjAlMjc1NjkzJTIwTE5DUyUyNyUyOSUzQiUwQXNldF9hdHRyaWJ1dGUlMjglMjdzaHZhaWtvMjAwOWElMjclMkMlMjAlMjdsaW5rJTI3JTJDJTIwJTI3aHR0cHMlM0EvL3d3dy5zY29wdXMuY29tL2lud2FyZC9yZWNvcmQudXJpJTNGZWlkJTNEMi1zMi4wLTcwMzQ5MzI2Mjk3JTI2ZG9pJTNEMTAuMTAwNyUyNTJmOTc4LTMtNjQyLTAzNTE2LTZfMjglMjZwYXJ0bmVySUQlM0Q0MCUyNm1kNSUzRGUyMmNiNzRkYzY4OWRjMzliZDU2MTc1ZjM2NTE3MTZmJTI3JTI5JTNCJTBBc2V0X2F0dHJpYnV0ZSUyOCUyN3NodmFpa28yMDA5YSUyNyUyQyUyMCUyN3Njb3B1czIwMTYlMjclMkMlMjAlMjcxJTI3JTI5JTNC\")));\n",
       "    "
      ],
      "text/plain": [
       "<IPython.core.display.Javascript object>"
      ]
     },
     "metadata": {},
     "output_type": "display_data"
    },
    {
     "data": {
      "application/javascript": [
       "$('span:contains(\"# Temp\")').closest('.cell').remove();"
      ],
      "text/plain": [
       "<IPython.core.display.Javascript object>"
      ]
     },
     "metadata": {},
     "output_type": "display_data"
    },
    {
     "data": {
      "application/javascript": [
       "\n",
       "        $('span:contains(\"# Temp\")').closest('.cell').remove();\n",
       "        var code = IPython.notebook.insert_cell_below('code');\n",
       "        var prompt = code.element.find(\".input_prompt\");\n",
       "        prompt.append('<br><button style=\"height: 100%; width: 54px;\">Run</button>');\n",
       "        prompt.on(\"click\", \"button\", function(){\n",
       "            code.execute();\n",
       "        });\n",
       "        code.set_text(decodeURIComponent(window.atob(\"JTIzJTIwVGVtcCUwQWluc2VydCUyOCUyNyUyNyUyNyUyNyUyNyUyNyUyOSUzQiUwQXNldF9hdHRyaWJ1dGUlMjglMjdzaHZhaWtvMjAwOWElMjclMkMlMjAlMjd2b2x1bWUlMjclMkMlMjAlMjc1NjkzJTIwTE5DUyUyNyUyOSUzQiUwQXNldF9hdHRyaWJ1dGUlMjglMjdzaHZhaWtvMjAwOWElMjclMkMlMjAlMjdsaW5rJTI3JTJDJTIwJTI3aHR0cHMlM0EvL3d3dy5zY29wdXMuY29tL2lud2FyZC9yZWNvcmQudXJpJTNGZWlkJTNEMi1zMi4wLTcwMzQ5MzI2Mjk3JTI2ZG9pJTNEMTAuMTAwNyUyNTJmOTc4LTMtNjQyLTAzNTE2LTZfMjglMjZwYXJ0bmVySUQlM0Q0MCUyNm1kNSUzRGUyMmNiNzRkYzY4OWRjMzliZDU2MTc1ZjM2NTE3MTZmJTI3JTI5JTNCJTBBc2V0X2F0dHJpYnV0ZSUyOCUyN3NodmFpa28yMDA5YSUyNyUyQyUyMCUyN3Njb3B1czIwMTYlMjclMkMlMjAlMjcxJTI3JTI5JTNC\")));\n",
       "    "
      ],
      "text/plain": [
       "<IPython.core.display.Javascript object>"
      ]
     },
     "metadata": {},
     "output_type": "display_data"
    },
    {
     "data": {
      "application/javascript": [
       "$('span:contains(\"# Temp\")').closest('.cell').remove();"
      ],
      "text/plain": [
       "<IPython.core.display.Javascript object>"
      ]
     },
     "metadata": {},
     "output_type": "display_data"
    },
    {
     "data": {
      "application/javascript": [
       "\n",
       "        $('span:contains(\"# Temp\")').closest('.cell').remove();\n",
       "        var code = IPython.notebook.insert_cell_below('code');\n",
       "        var prompt = code.element.find(\".input_prompt\");\n",
       "        prompt.append('<br><button style=\"height: 100%; width: 54px;\">Run</button>');\n",
       "        prompt.on(\"click\", \"button\", function(){\n",
       "            code.execute();\n",
       "        });\n",
       "        code.set_text(decodeURIComponent(window.atob(\"JTIzJTIwVGVtcCUwQWluc2VydCUyOCUyNyUyNyUyNyUyNyUyNyUyNyUyOSUzQiUwQXNldF9hdHRyaWJ1dGUlMjglMjdzZWlnZXJyb3RoMjAwOWElMjclMkMlMjAlMjdhcnRfbnVtYmVyJTI3JTJDJTIwJTI3NDc1NTgwMSUyNyUyOSUzQiUwQXNldF9hdHRyaWJ1dGUlMjglMjdzZWlnZXJyb3RoMjAwOWElMjclMkMlMjAlMjdsaW5rJTI3JTJDJTIwJTI3aHR0cHMlM0EvL3d3dy5zY29wdXMuY29tL2lud2FyZC9yZWNvcmQudXJpJTNGZWlkJTNEMi1zMi4wLTc4NjUwNzYwMzYxJTI2ZG9pJTNEMTAuMTEwOSUyNTJmSElDU1MuMjAwOS45NiUyNnBhcnRuZXJJRCUzRDQwJTI2bWQ1JTNEMWU0ZjQ1Y2FlYzc0MzViZmExNDQ5MTY4ZDE2NzkyYTYlMjclMjklM0IlMEFzZXRfYXR0cmlidXRlJTI4JTI3c2VpZ2Vycm90aDIwMDlhJTI3JTJDJTIwJTI3c2NvcHVzMjAxNiUyNyUyQyUyMCUyNzElMjclMjklM0I=\")));\n",
       "    "
      ],
      "text/plain": [
       "<IPython.core.display.Javascript object>"
      ]
     },
     "metadata": {},
     "output_type": "display_data"
    },
    {
     "data": {
      "application/javascript": [
       "$('span:contains(\"# Temp\")').closest('.cell').remove();"
      ],
      "text/plain": [
       "<IPython.core.display.Javascript object>"
      ]
     },
     "metadata": {},
     "output_type": "display_data"
    },
    {
     "data": {
      "application/javascript": [
       "\n",
       "        $('span:contains(\"# Temp\")').closest('.cell').remove();\n",
       "        var code = IPython.notebook.insert_cell_below('code');\n",
       "        var prompt = code.element.find(\".input_prompt\");\n",
       "        prompt.append('<br><button style=\"height: 100%; width: 54px;\">Run</button>');\n",
       "        prompt.on(\"click\", \"button\", function(){\n",
       "            code.execute();\n",
       "        });\n",
       "        code.set_text(decodeURIComponent(window.atob(\"JTIzJTIwVGVtcCUwQWluc2VydCUyOCUyNyUyNyUyNyUyNyUyNyUyNyUyOSUzQiUwQXNldF9hdHRyaWJ1dGUlMjglMjdzZWlnZXJyb3RoMjAwOWElMjclMkMlMjAlMjdhcnRfbnVtYmVyJTI3JTJDJTIwJTI3NDc1NTgwMSUyNyUyOSUzQiUwQXNldF9hdHRyaWJ1dGUlMjglMjdzZWlnZXJyb3RoMjAwOWElMjclMkMlMjAlMjdsaW5rJTI3JTJDJTIwJTI3aHR0cHMlM0EvL3d3dy5zY29wdXMuY29tL2lud2FyZC9yZWNvcmQudXJpJTNGZWlkJTNEMi1zMi4wLTc4NjUwNzYwMzYxJTI2ZG9pJTNEMTAuMTEwOSUyNTJmSElDU1MuMjAwOS45NiUyNnBhcnRuZXJJRCUzRDQwJTI2bWQ1JTNEMWU0ZjQ1Y2FlYzc0MzViZmExNDQ5MTY4ZDE2NzkyYTYlMjclMjklM0IlMEFzZXRfYXR0cmlidXRlJTI4JTI3c2VpZ2Vycm90aDIwMDlhJTI3JTJDJTIwJTI3c2NvcHVzMjAxNiUyNyUyQyUyMCUyNzElMjclMjklM0I=\")));\n",
       "    "
      ],
      "text/plain": [
       "<IPython.core.display.Javascript object>"
      ]
     },
     "metadata": {},
     "output_type": "display_data"
    },
    {
     "data": {
      "application/javascript": [
       "$('span:contains(\"# Temp\")').closest('.cell').remove();"
      ],
      "text/plain": [
       "<IPython.core.display.Javascript object>"
      ]
     },
     "metadata": {},
     "output_type": "display_data"
    },
    {
     "data": {
      "application/javascript": [
       "\n",
       "        $('span:contains(\"# Temp\")').closest('.cell').remove();\n",
       "        var code = IPython.notebook.insert_cell_below('code');\n",
       "        var prompt = code.element.find(\".input_prompt\");\n",
       "        prompt.append('<br><button style=\"height: 100%; width: 54px;\">Run</button>');\n",
       "        prompt.on(\"click\", \"button\", function(){\n",
       "            code.execute();\n",
       "        });\n",
       "        code.set_text(decodeURIComponent(window.atob(\"JTIzJTIwVGVtcCUwQWluc2VydCUyOCUyNyUyNyUyNyUyNyUyNyUyNyUyOSUzQiUwQXNldF9hdHRyaWJ1dGUlMjglMjdmYWxibzIwMDlhJTI3JTJDJTIwJTI3bGluayUyNyUyQyUyMCUyN2h0dHBzJTNBLy93d3cuc2NvcHVzLmNvbS9pbndhcmQvcmVjb3JkLnVyaSUzRmVpZCUzRDItczIuMC03Nzk1MDI1MDUzOSUyNmRvaSUzRDEwLjE1MDQlMjUyZklKQlBJTS4yMDA5LjAzMjI4MSUyNnBhcnRuZXJJRCUzRDQwJTI2bWQ1JTNEZGY5OTlmMzBkOTYwMDJlMmNmMjBhZjAwNWEyNDQyNGUlMjclMjklM0IlMEFzZXRfYXR0cmlidXRlJTI4JTI3ZmFsYm8yMDA5YSUyNyUyQyUyMCUyN3Njb3B1czIwMTYlMjclMkMlMjAlMjcxJTI3JTI5JTNC\")));\n",
       "    "
      ],
      "text/plain": [
       "<IPython.core.display.Javascript object>"
      ]
     },
     "metadata": {},
     "output_type": "display_data"
    },
    {
     "data": {
      "application/javascript": [
       "$('span:contains(\"# Temp\")').closest('.cell').remove();"
      ],
      "text/plain": [
       "<IPython.core.display.Javascript object>"
      ]
     },
     "metadata": {},
     "output_type": "display_data"
    },
    {
     "data": {
      "application/javascript": [
       "\n",
       "        $('span:contains(\"# Temp\")').closest('.cell').remove();\n",
       "        var code = IPython.notebook.insert_cell_below('code');\n",
       "        var prompt = code.element.find(\".input_prompt\");\n",
       "        prompt.append('<br><button style=\"height: 100%; width: 54px;\">Run</button>');\n",
       "        prompt.on(\"click\", \"button\", function(){\n",
       "            code.execute();\n",
       "        });\n",
       "        code.set_text(decodeURIComponent(window.atob(\"JTIzJTIwVGVtcCUwQWluc2VydCUyOCUyNyUyNyUyNyUyNyUyNyUyNyUyOSUzQiUwQXNldF9hdHRyaWJ1dGUlMjglMjdmYWxibzIwMDlhJTI3JTJDJTIwJTI3bGluayUyNyUyQyUyMCUyN2h0dHBzJTNBLy93d3cuc2NvcHVzLmNvbS9pbndhcmQvcmVjb3JkLnVyaSUzRmVpZCUzRDItczIuMC03Nzk1MDI1MDUzOSUyNmRvaSUzRDEwLjE1MDQlMjUyZklKQlBJTS4yMDA5LjAzMjI4MSUyNnBhcnRuZXJJRCUzRDQwJTI2bWQ1JTNEZGY5OTlmMzBkOTYwMDJlMmNmMjBhZjAwNWEyNDQyNGUlMjclMjklM0IlMEFzZXRfYXR0cmlidXRlJTI4JTI3ZmFsYm8yMDA5YSUyNyUyQyUyMCUyN3Njb3B1czIwMTYlMjclMkMlMjAlMjcxJTI3JTI5JTNC\")));\n",
       "    "
      ],
      "text/plain": [
       "<IPython.core.display.Javascript object>"
      ]
     },
     "metadata": {},
     "output_type": "display_data"
    },
    {
     "data": {
      "application/javascript": [
       "$('span:contains(\"# Temp\")').closest('.cell').remove();"
      ],
      "text/plain": [
       "<IPython.core.display.Javascript object>"
      ]
     },
     "metadata": {},
     "output_type": "display_data"
    },
    {
     "data": {
      "application/javascript": [
       "\n",
       "        $('span:contains(\"# Temp\")').closest('.cell').remove();\n",
       "        var code = IPython.notebook.insert_cell_below('code');\n",
       "        var prompt = code.element.find(\".input_prompt\");\n",
       "        prompt.append('<br><button style=\"height: 100%; width: 54px;\">Run</button>');\n",
       "        prompt.on(\"click\", \"button\", function(){\n",
       "            code.execute();\n",
       "        });\n",
       "        code.set_text(decodeURIComponent(window.atob(\"JTIzJTIwVGVtcCUwQWluc2VydCUyOCUyNyUyNyUyNyUyNyUyNyUyNyUyOSUzQiUwQXNldF9hdHRyaWJ1dGUlMjglMjdzb3RvMjAwOGElMjclMkMlMjAlMjdsaW5rJTI3JTJDJTIwJTI3aHR0cHMlM0EvL3d3dy5zY29wdXMuY29tL2lud2FyZC9yZWNvcmQudXJpJTNGZWlkJTNEMi1zMi4wLTc5OTU5NDUzMTgyJTI2ZG9pJTNEMTAuMTE0NSUyNTJmMTM3MDE1Mi4xMzcwMTYyJTI2cGFydG5lcklEJTNENDAlMjZtZDUlM0Q5ZjU4N2Y2ZjYyZGMxMWE3MmRiOTM1NDMyOTIyZTMyNCUyNyUyOSUzQiUwQXNldF9hdHRyaWJ1dGUlMjglMjdzb3RvMjAwOGElMjclMkMlMjAlMjdzY29wdXMyMDE2JTI3JTJDJTIwJTI3MSUyNyUyOSUzQg==\")));\n",
       "    "
      ],
      "text/plain": [
       "<IPython.core.display.Javascript object>"
      ]
     },
     "metadata": {},
     "output_type": "display_data"
    },
    {
     "data": {
      "application/javascript": [
       "$('span:contains(\"# Temp\")').closest('.cell').remove();"
      ],
      "text/plain": [
       "<IPython.core.display.Javascript object>"
      ]
     },
     "metadata": {},
     "output_type": "display_data"
    },
    {
     "data": {
      "application/javascript": [
       "\n",
       "        $('span:contains(\"# Temp\")').closest('.cell').remove();\n",
       "        var code = IPython.notebook.insert_cell_below('code');\n",
       "        var prompt = code.element.find(\".input_prompt\");\n",
       "        prompt.append('<br><button style=\"height: 100%; width: 54px;\">Run</button>');\n",
       "        prompt.on(\"click\", \"button\", function(){\n",
       "            code.execute();\n",
       "        });\n",
       "        code.set_text(decodeURIComponent(window.atob(\"JTIzJTIwVGVtcCUwQWluc2VydCUyOCUyNyUyNyUyNyUyNyUyNyUyNyUyOSUzQiUwQXNldF9hdHRyaWJ1dGUlMjglMjdzb3RvMjAwOGElMjclMkMlMjAlMjdsaW5rJTI3JTJDJTIwJTI3aHR0cHMlM0EvL3d3dy5zY29wdXMuY29tL2lud2FyZC9yZWNvcmQudXJpJTNGZWlkJTNEMi1zMi4wLTc5OTU5NDUzMTgyJTI2ZG9pJTNEMTAuMTE0NSUyNTJmMTM3MDE1Mi4xMzcwMTYyJTI2cGFydG5lcklEJTNENDAlMjZtZDUlM0Q5ZjU4N2Y2ZjYyZGMxMWE3MmRiOTM1NDMyOTIyZTMyNCUyNyUyOSUzQiUwQXNldF9hdHRyaWJ1dGUlMjglMjdzb3RvMjAwOGElMjclMkMlMjAlMjdzY29wdXMyMDE2JTI3JTJDJTIwJTI3MSUyNyUyOSUzQg==\")));\n",
       "    "
      ],
      "text/plain": [
       "<IPython.core.display.Javascript object>"
      ]
     },
     "metadata": {},
     "output_type": "display_data"
    },
    {
     "data": {
      "application/javascript": [
       "$('span:contains(\"# Temp\")').closest('.cell').remove();"
      ],
      "text/plain": [
       "<IPython.core.display.Javascript object>"
      ]
     },
     "metadata": {},
     "output_type": "display_data"
    },
    {
     "data": {
      "application/javascript": [
       "\n",
       "        $('span:contains(\"# Temp\")').closest('.cell').remove();\n",
       "        var code = IPython.notebook.insert_cell_below('code');\n",
       "        var prompt = code.element.find(\".input_prompt\");\n",
       "        prompt.append('<br><button style=\"height: 100%; width: 54px;\">Run</button>');\n",
       "        prompt.on(\"click\", \"button\", function(){\n",
       "            code.execute();\n",
       "        });\n",
       "        code.set_text(decodeURIComponent(window.atob(\"JTIzJTIwVGVtcCUwQWluc2VydCUyOCUyNyUyNyUyNyUyNyUyNyUyNyUyOSUzQiUwQXNldF9hdHRyaWJ1dGUlMjglMjdjYWJhbGxlcm8yMDA4YSUyNyUyQyUyMCUyN2xpbmslMjclMkMlMjAlMjdodHRwcyUzQS8vd3d3LnNjb3B1cy5jb20vaW53YXJkL3JlY29yZC51cmklM0ZlaWQlM0QyLXMyLjAtNjQ4NDkwOTAwMjclMjZwYXJ0bmVySUQlM0Q0MCUyNm1kNSUzRDhjOWQzOWU4ZGRlODgyNDhkNWRiOGRhMGFmNjRkZDIzJTI3JTI5JTNCJTBBc2V0X2F0dHJpYnV0ZSUyOCUyN2NhYmFsbGVybzIwMDhhJTI3JTJDJTIwJTI3c2NvcHVzMjAxNiUyNyUyQyUyMCUyNzElMjclMjklM0I=\")));\n",
       "    "
      ],
      "text/plain": [
       "<IPython.core.display.Javascript object>"
      ]
     },
     "metadata": {},
     "output_type": "display_data"
    },
    {
     "data": {
      "application/javascript": [
       "$('span:contains(\"# Temp\")').closest('.cell').remove();"
      ],
      "text/plain": [
       "<IPython.core.display.Javascript object>"
      ]
     },
     "metadata": {},
     "output_type": "display_data"
    },
    {
     "data": {
      "application/javascript": [
       "\n",
       "        $('span:contains(\"# Temp\")').closest('.cell').remove();\n",
       "        var code = IPython.notebook.insert_cell_below('code');\n",
       "        var prompt = code.element.find(\".input_prompt\");\n",
       "        prompt.append('<br><button style=\"height: 100%; width: 54px;\">Run</button>');\n",
       "        prompt.on(\"click\", \"button\", function(){\n",
       "            code.execute();\n",
       "        });\n",
       "        code.set_text(decodeURIComponent(window.atob(\"JTIzJTIwVGVtcCUwQWluc2VydCUyOCUyNyUyNyUyNyUyNyUyNyUyNyUyOSUzQiUwQXNldF9hdHRyaWJ1dGUlMjglMjdjYWJhbGxlcm8yMDA4YSUyNyUyQyUyMCUyN2xpbmslMjclMkMlMjAlMjdodHRwcyUzQS8vd3d3LnNjb3B1cy5jb20vaW53YXJkL3JlY29yZC51cmklM0ZlaWQlM0QyLXMyLjAtNjQ4NDkwOTAwMjclMjZwYXJ0bmVySUQlM0Q0MCUyNm1kNSUzRDhjOWQzOWU4ZGRlODgyNDhkNWRiOGRhMGFmNjRkZDIzJTI3JTI5JTNCJTBBc2V0X2F0dHJpYnV0ZSUyOCUyN2NhYmFsbGVybzIwMDhhJTI3JTJDJTIwJTI3c2NvcHVzMjAxNiUyNyUyQyUyMCUyNzElMjclMjklM0I=\")));\n",
       "    "
      ],
      "text/plain": [
       "<IPython.core.display.Javascript object>"
      ]
     },
     "metadata": {},
     "output_type": "display_data"
    },
    {
     "data": {
      "application/javascript": [
       "$('span:contains(\"# Temp\")').closest('.cell').remove();"
      ],
      "text/plain": [
       "<IPython.core.display.Javascript object>"
      ]
     },
     "metadata": {},
     "output_type": "display_data"
    },
    {
     "data": {
      "application/javascript": [
       "\n",
       "        $('span:contains(\"# Temp\")').closest('.cell').remove();\n",
       "        var code = IPython.notebook.insert_cell_below('code');\n",
       "        var prompt = code.element.find(\".input_prompt\");\n",
       "        prompt.append('<br><button style=\"height: 100%; width: 54px;\">Run</button>');\n",
       "        prompt.on(\"click\", \"button\", function(){\n",
       "            code.execute();\n",
       "        });\n",
       "        code.set_text(decodeURIComponent(window.atob(\"JTIzJTIwVGVtcCUwQWluc2VydCUyOCUyNyUyNyUyNyUyNyUyNyUyNyUyOSUzQiUwQXNldF9hdHRyaWJ1dGUlMjglMjdyeXUyMDA4YSUyNyUyQyUyMCUyN2FydF9udW1iZXIlMjclMkMlMjAlMjc0NTI5ODc3JTI3JTI5JTNCJTBBc2V0X2F0dHJpYnV0ZSUyOCUyN3J5dTIwMDhhJTI3JTJDJTIwJTI3bGluayUyNyUyQyUyMCUyN2h0dHBzJTNBLy93d3cuc2NvcHVzLmNvbS9pbndhcmQvcmVjb3JkLnVyaSUzRmVpZCUzRDItczIuMC01MTM0OTEzNzEzMiUyNmRvaSUzRDEwLjExMDklMjUyZklDSVMuMjAwOC43OCUyNnBhcnRuZXJJRCUzRDQwJTI2bWQ1JTNEZTQxOWU3ZGZjMjI0ZmE4Y2QzYmYwOGI2ZTViNDcxMDglMjclMjklM0IlMEFzZXRfYXR0cmlidXRlJTI4JTI3cnl1MjAwOGElMjclMkMlMjAlMjdzY29wdXMyMDE2JTI3JTJDJTIwJTI3MSUyNyUyOSUzQg==\")));\n",
       "    "
      ],
      "text/plain": [
       "<IPython.core.display.Javascript object>"
      ]
     },
     "metadata": {},
     "output_type": "display_data"
    },
    {
     "data": {
      "application/javascript": [
       "$('span:contains(\"# Temp\")').closest('.cell').remove();"
      ],
      "text/plain": [
       "<IPython.core.display.Javascript object>"
      ]
     },
     "metadata": {},
     "output_type": "display_data"
    },
    {
     "data": {
      "application/javascript": [
       "\n",
       "        $('span:contains(\"# Temp\")').closest('.cell').remove();\n",
       "        var code = IPython.notebook.insert_cell_below('code');\n",
       "        var prompt = code.element.find(\".input_prompt\");\n",
       "        prompt.append('<br><button style=\"height: 100%; width: 54px;\">Run</button>');\n",
       "        prompt.on(\"click\", \"button\", function(){\n",
       "            code.execute();\n",
       "        });\n",
       "        code.set_text(decodeURIComponent(window.atob(\"JTIzJTIwVGVtcCUwQWluc2VydCUyOCUyNyUyNyUyNyUyNyUyNyUyNyUyOSUzQiUwQXNldF9hdHRyaWJ1dGUlMjglMjdyeXUyMDA4YSUyNyUyQyUyMCUyN2FydF9udW1iZXIlMjclMkMlMjAlMjc0NTI5ODc3JTI3JTI5JTNCJTBBc2V0X2F0dHJpYnV0ZSUyOCUyN3J5dTIwMDhhJTI3JTJDJTIwJTI3bGluayUyNyUyQyUyMCUyN2h0dHBzJTNBLy93d3cuc2NvcHVzLmNvbS9pbndhcmQvcmVjb3JkLnVyaSUzRmVpZCUzRDItczIuMC01MTM0OTEzNzEzMiUyNmRvaSUzRDEwLjExMDklMjUyZklDSVMuMjAwOC43OCUyNnBhcnRuZXJJRCUzRDQwJTI2bWQ1JTNEZTQxOWU3ZGZjMjI0ZmE4Y2QzYmYwOGI2ZTViNDcxMDglMjclMjklM0IlMEFzZXRfYXR0cmlidXRlJTI4JTI3cnl1MjAwOGElMjclMkMlMjAlMjdzY29wdXMyMDE2JTI3JTJDJTIwJTI3MSUyNyUyOSUzQg==\")));\n",
       "    "
      ],
      "text/plain": [
       "<IPython.core.display.Javascript object>"
      ]
     },
     "metadata": {},
     "output_type": "display_data"
    },
    {
     "data": {
      "application/javascript": [
       "$('span:contains(\"# Temp\")').closest('.cell').remove();"
      ],
      "text/plain": [
       "<IPython.core.display.Javascript object>"
      ]
     },
     "metadata": {},
     "output_type": "display_data"
    },
    {
     "data": {
      "application/javascript": [
       "\n",
       "        $('span:contains(\"# Temp\")').closest('.cell').remove();\n",
       "        var code = IPython.notebook.insert_cell_below('code');\n",
       "        var prompt = code.element.find(\".input_prompt\");\n",
       "        prompt.append('<br><button style=\"height: 100%; width: 54px;\">Run</button>');\n",
       "        prompt.on(\"click\", \"button\", function(){\n",
       "            code.execute();\n",
       "        });\n",
       "        code.set_text(decodeURIComponent(window.atob(\"JTIzJTIwVGVtcCUwQWluc2VydCUyOCUyNyUyNyUyNyUwQWJvcnNvaTIwMDhiJTIwJTNEJTIwREIlMjhXb3JrVW5yZWxhdGVkJTI4JTBBJTIwJTIwJTIwJTIwMjAwOCUyQyUyMCUyMkElMjBtZXRob2QlMjB0byUyMGRlZmluZSUyMGFuJTIwb2JqZWN0JTIwb3JpZW50ZWQlMjBzb2Z0d2FyZSUyMHByb2Nlc3MlMjBhcmNoaXRlY3R1cmUlMjIlMkMlMEElMjAlMjAlMjAlMjBkaXNwbGF5JTNEJTIyYm9yc29pJTIwYiUyMiUyQyUwQSUyMCUyMCUyMCUyMGF1dGhvcnMlM0QlMjJCb3Jzb2klMkMlMjBCLlQuJTIwYW5kJTIwQmVjZXJyYSUyQyUyMEouTC5SLiUyMiUyQyUwQSUyMCUyMCUyMCUyMHBsYWNlJTNEU0VDJTJDJTBBJTIwJTIwJTIwJTIwcHAlM0QlMjI2NTAtNjU1JTIyJTJDJTBBJTIwJTIwJTIwJTIwZW50cnl0eXBlJTNEJTIyY29uZmVyZW5jZSUyMiUyQyUwQSUyMCUyMCUyMCUyMGFydF9udW1iZXIlM0QlMjI0NDgzMjU4JTIyJTJDJTBBJTIwJTIwJTIwJTIwbGluayUzRCUyMmh0dHBzJTNBLy93d3cuc2NvcHVzLmNvbS9pbndhcmQvcmVjb3JkLnVyaSUzRmVpZCUzRDItczIuMC01MDM0OTA4NzQwMSUyNmRvaSUzRDEwLjExMDklMjUyZkFTV0VDLjIwMDguNDQ4MzI1OCUyNnBhcnRuZXJJRCUzRDQwJTI2bWQ1JTNEMjE2Yzk4MWM5ODRiMmM1ZmY3ZTk5MmY5MTBhNDI3NTUlMjIlMkMlMEElMjAlMjAlMjAlMjBJRCUzRCUyMkJvcnNvaTIwMDg2NTAlMjIlMkMlMEElMjAlMjAlMjAlMjBzY29wdXMyMDE2JTNEJTIyMSUyMiUyQyUwQSUyMCUyMCUyMCUyMHBsYWNleCUzRCUyMlByb2NlZWRpbmdzJTIwb2YlMjB0aGUlMjBBdXN0cmFsaWFuJTIwU29mdHdhcmUlMjBFbmdpbmVlcmluZyUyMENvbmZlcmVuY2UlMkMlMjBBU1dFQyUyMiUyQyUwQSUyOSUyOSUwQSUyNyUyNyUyNyUyOSUzQg==\")));\n",
       "    "
      ],
      "text/plain": [
       "<IPython.core.display.Javascript object>"
      ]
     },
     "metadata": {},
     "output_type": "display_data"
    },
    {
     "data": {
      "application/javascript": [
       "$('span:contains(\"# Temp\")').closest('.cell').remove();"
      ],
      "text/plain": [
       "<IPython.core.display.Javascript object>"
      ]
     },
     "metadata": {},
     "output_type": "display_data"
    },
    {
     "data": {
      "application/javascript": [
       "\n",
       "        $('span:contains(\"# Temp\")').closest('.cell').remove();\n",
       "        var code = IPython.notebook.insert_cell_below('code');\n",
       "        var prompt = code.element.find(\".input_prompt\");\n",
       "        prompt.append('<br><button style=\"height: 100%; width: 54px;\">Run</button>');\n",
       "        prompt.on(\"click\", \"button\", function(){\n",
       "            code.execute();\n",
       "        });\n",
       "        code.set_text(decodeURIComponent(window.atob(\"JTIzJTIwVGVtcCUwQWluc2VydCUyOCUyNyUyNyUyNyUwQWJvcnNvaTIwMDhiJTIwJTNEJTIwREIlMjhXb3JrVW5yZWxhdGVkJTI4JTBBJTIwJTIwJTIwJTIwMjAwOCUyQyUyMCUyMkElMjBtZXRob2QlMjB0byUyMGRlZmluZSUyMGFuJTIwb2JqZWN0JTIwb3JpZW50ZWQlMjBzb2Z0d2FyZSUyMHByb2Nlc3MlMjBhcmNoaXRlY3R1cmUlMjIlMkMlMEElMjAlMjAlMjAlMjBkaXNwbGF5JTNEJTIyYm9yc29pJTIwYiUyMiUyQyUwQSUyMCUyMCUyMCUyMGF1dGhvcnMlM0QlMjJCb3Jzb2klMkMlMjBCLlQuJTIwYW5kJTIwQmVjZXJyYSUyQyUyMEouTC5SLiUyMiUyQyUwQSUyMCUyMCUyMCUyMHBsYWNlJTNEU0VDJTJDJTBBJTIwJTIwJTIwJTIwcHAlM0QlMjI2NTAtNjU1JTIyJTJDJTBBJTIwJTIwJTIwJTIwZW50cnl0eXBlJTNEJTIyY29uZmVyZW5jZSUyMiUyQyUwQSUyMCUyMCUyMCUyMGFydF9udW1iZXIlM0QlMjI0NDgzMjU4JTIyJTJDJTBBJTIwJTIwJTIwJTIwbGluayUzRCUyMmh0dHBzJTNBLy93d3cuc2NvcHVzLmNvbS9pbndhcmQvcmVjb3JkLnVyaSUzRmVpZCUzRDItczIuMC01MDM0OTA4NzQwMSUyNmRvaSUzRDEwLjExMDklMjUyZkFTV0VDLjIwMDguNDQ4MzI1OCUyNnBhcnRuZXJJRCUzRDQwJTI2bWQ1JTNEMjE2Yzk4MWM5ODRiMmM1ZmY3ZTk5MmY5MTBhNDI3NTUlMjIlMkMlMEElMjAlMjAlMjAlMjBJRCUzRCUyMkJvcnNvaTIwMDg2NTAlMjIlMkMlMEElMjAlMjAlMjAlMjBzY29wdXMyMDE2JTNEJTIyMSUyMiUyQyUwQSUyMCUyMCUyMCUyMHBsYWNleCUzRCUyMlByb2NlZWRpbmdzJTIwb2YlMjB0aGUlMjBBdXN0cmFsaWFuJTIwU29mdHdhcmUlMjBFbmdpbmVlcmluZyUyMENvbmZlcmVuY2UlMkMlMjBBU1dFQyUyMiUyQyUwQSUyOSUyOSUwQSUyNyUyNyUyNyUyOSUzQg==\")));\n",
       "    "
      ],
      "text/plain": [
       "<IPython.core.display.Javascript object>"
      ]
     },
     "metadata": {},
     "output_type": "display_data"
    },
    {
     "data": {
      "application/javascript": [
       "$('span:contains(\"# Temp\")').closest('.cell').remove();"
      ],
      "text/plain": [
       "<IPython.core.display.Javascript object>"
      ]
     },
     "metadata": {},
     "output_type": "display_data"
    },
    {
     "data": {
      "application/javascript": [
       "\n",
       "        $('span:contains(\"# Temp\")').closest('.cell').remove();\n",
       "        var code = IPython.notebook.insert_cell_below('code');\n",
       "        var prompt = code.element.find(\".input_prompt\");\n",
       "        prompt.append('<br><button style=\"height: 100%; width: 54px;\">Run</button>');\n",
       "        prompt.on(\"click\", \"button\", function(){\n",
       "            code.execute();\n",
       "        });\n",
       "        code.set_text(decodeURIComponent(window.atob(\"JTIzJTIwVGVtcCUwQWluc2VydCUyOCUyNyUyNyUyNyUyNyUyNyUyNyUyOSUzQiUwQXNldF9hdHRyaWJ1dGUlMjglMjdwaW5vMjAwOGElMjclMkMlMjAlMjdsaW5rJTI3JTJDJTIwJTI3aHR0cHMlM0EvL3d3dy5zY29wdXMuY29tL2lud2FyZC9yZWNvcmQudXJpJTNGZWlkJTNEMi1zMi4wLTQyMTQ5MTQ0MTY1JTI2ZG9pJTNEMTAuMTAwNyUyNTJmczExMjE5LTAwNy05MDM4LXolMjZwYXJ0bmVySUQlM0Q0MCUyNm1kNSUzRDc4NzNjODRmZjAzODRkYjQwYjFlYmFiMmRiMDMwYWUzJTI3JTI5JTNCJTBBc2V0X2F0dHJpYnV0ZSUyOCUyN3Bpbm8yMDA4YSUyNyUyQyUyMCUyN3Njb3B1czIwMTYlMjclMkMlMjAlMjcxJTI3JTI5JTNC\")));\n",
       "    "
      ],
      "text/plain": [
       "<IPython.core.display.Javascript object>"
      ]
     },
     "metadata": {},
     "output_type": "display_data"
    },
    {
     "data": {
      "application/javascript": [
       "$('span:contains(\"# Temp\")').closest('.cell').remove();"
      ],
      "text/plain": [
       "<IPython.core.display.Javascript object>"
      ]
     },
     "metadata": {},
     "output_type": "display_data"
    },
    {
     "data": {
      "application/javascript": [
       "\n",
       "        $('span:contains(\"# Temp\")').closest('.cell').remove();\n",
       "        var code = IPython.notebook.insert_cell_below('code');\n",
       "        var prompt = code.element.find(\".input_prompt\");\n",
       "        prompt.append('<br><button style=\"height: 100%; width: 54px;\">Run</button>');\n",
       "        prompt.on(\"click\", \"button\", function(){\n",
       "            code.execute();\n",
       "        });\n",
       "        code.set_text(decodeURIComponent(window.atob(\"JTIzJTIwVGVtcCUwQWluc2VydCUyOCUyNyUyNyUyNyUyNyUyNyUyNyUyOSUzQiUwQXNldF9hdHRyaWJ1dGUlMjglMjdwaW5vMjAwOGElMjclMkMlMjAlMjdsaW5rJTI3JTJDJTIwJTI3aHR0cHMlM0EvL3d3dy5zY29wdXMuY29tL2lud2FyZC9yZWNvcmQudXJpJTNGZWlkJTNEMi1zMi4wLTQyMTQ5MTQ0MTY1JTI2ZG9pJTNEMTAuMTAwNyUyNTJmczExMjE5LTAwNy05MDM4LXolMjZwYXJ0bmVySUQlM0Q0MCUyNm1kNSUzRDc4NzNjODRmZjAzODRkYjQwYjFlYmFiMmRiMDMwYWUzJTI3JTI5JTNCJTBBc2V0X2F0dHJpYnV0ZSUyOCUyN3Bpbm8yMDA4YSUyNyUyQyUyMCUyN3Njb3B1czIwMTYlMjclMkMlMjAlMjcxJTI3JTI5JTNC\")));\n",
       "    "
      ],
      "text/plain": [
       "<IPython.core.display.Javascript object>"
      ]
     },
     "metadata": {},
     "output_type": "display_data"
    },
    {
     "data": {
      "application/javascript": [
       "$('span:contains(\"# Temp\")').closest('.cell').remove();"
      ],
      "text/plain": [
       "<IPython.core.display.Javascript object>"
      ]
     },
     "metadata": {},
     "output_type": "display_data"
    },
    {
     "data": {
      "application/javascript": [
       "\n",
       "        $('span:contains(\"# Temp\")').closest('.cell').remove();\n",
       "        var code = IPython.notebook.insert_cell_below('code');\n",
       "        var prompt = code.element.find(\".input_prompt\");\n",
       "        prompt.append('<br><button style=\"height: 100%; width: 54px;\">Run</button>');\n",
       "        prompt.on(\"click\", \"button\", function(){\n",
       "            code.execute();\n",
       "        });\n",
       "        code.set_text(decodeURIComponent(window.atob(\"JTIzJTIwVGVtcCUwQWluc2VydCUyOCUyNyUyNyUyNyUwQXJpZmF1dDIwMDhjJTIwJTNEJTIwREIlMjhXb3JrVW5yZWxhdGVkJTI4JTBBJTIwJTIwJTIwJTIwMjAwOCUyQyUyMCUyMklTTy9JRUMlMjAxNTUwNCUyQyUyMGElMjBiYXNpcyUyMGZvciUyMGdlbmVyYWxseSUyMGFjY2VwdGVkJTIwc291bmQlMjBwcm9jZXNzJTIwbW9kZWxzJTIwaW4lMjBmaW5hbmNpYWwlMjBpbnN0aXR1dGlvbnMlMjBhJTIwY2FzZSUyMHN0dWR5JTIwYWJvdXQlMjB2ZW50dXJlJTIwY2FwaXRhbCUyMGZ1bmQlMjBtYW5hZ2VtZW50JTIyJTJDJTBBJTIwJTIwJTIwJTIwZGlzcGxheSUzRCUyMnJpZmF1dCUyMGMlMjIlMkMlMEElMjAlMjAlMjAlMjBhdXRob3JzJTNEJTIyUmlmYXV0JTJDJTIwQS4lMjBhbmQlMjBQaWNhcmQlMkMlMjBNLiUyMGFuZCUyMERpJTIwUmVuem8lMkMlMjBCLiUyMiUyQyUwQSUyMCUyMCUyMCUyMHBsYWNlJTNESUNTUElDRCUyQyUwQSUyMCUyMCUyMCUyMGVudHJ5dHlwZSUzRCUyMmNvbmZlcmVuY2UlMjIlMkMlMEElMjAlMjAlMjAlMjBsaW5rJTNEJTIyaHR0cHMlM0EvL3d3dy5zY29wdXMuY29tL2lud2FyZC9yZWNvcmQudXJpJTNGZWlkJTNEMi1zMi4wLTg0OTIzOTI0MTUwJTI2cGFydG5lcklEJTNENDAlMjZtZDUlM0QxZjZiNmYwMmEzMzEyOTE3NGM3MzJmNDhiY2NkMTU0MSUyMiUyQyUwQSUyMCUyMCUyMCUyMElEJTNEJTIyUmlmYXV0MjAwOCUyMiUyQyUwQSUyMCUyMCUyMCUyMHNjb3B1czIwMTYlM0QlMjIxJTIyJTJDJTBBJTIwJTIwJTIwJTIwcGxhY2V4JTNEJTIyOHRoJTIwSW50ZXJuYXRpb25hbCUyMFNQSUNFJTIwQ29uZmVyZW5jZSUyMG9uJTIwU29mdHdhcmUlMjBQcm9jZXNzJTIwSW1wcm92ZW1lbnQlMjBhbmQlMjBDYXBhYmlsaXR5JTIwRGV0ZXJtaW5hdGlvbiUyQyUyMFNQSUNFJTIwMjAwOCUyMiUyQyUwQSUyOSUyOSUwQSUyNyUyNyUyNyUyOSUzQg==\")));\n",
       "    "
      ],
      "text/plain": [
       "<IPython.core.display.Javascript object>"
      ]
     },
     "metadata": {},
     "output_type": "display_data"
    },
    {
     "data": {
      "application/javascript": [
       "$('span:contains(\"# Temp\")').closest('.cell').remove();"
      ],
      "text/plain": [
       "<IPython.core.display.Javascript object>"
      ]
     },
     "metadata": {},
     "output_type": "display_data"
    },
    {
     "data": {
      "application/javascript": [
       "\n",
       "        $('span:contains(\"# Temp\")').closest('.cell').remove();\n",
       "        var code = IPython.notebook.insert_cell_below('code');\n",
       "        var prompt = code.element.find(\".input_prompt\");\n",
       "        prompt.append('<br><button style=\"height: 100%; width: 54px;\">Run</button>');\n",
       "        prompt.on(\"click\", \"button\", function(){\n",
       "            code.execute();\n",
       "        });\n",
       "        code.set_text(decodeURIComponent(window.atob(\"JTIzJTIwVGVtcCUwQWluc2VydCUyOCUyNyUyNyUyNyUwQXJpZmF1dDIwMDhjJTIwJTNEJTIwREIlMjhXb3JrVW5yZWxhdGVkJTI4JTBBJTIwJTIwJTIwJTIwMjAwOCUyQyUyMCUyMklTTy9JRUMlMjAxNTUwNCUyQyUyMGElMjBiYXNpcyUyMGZvciUyMGdlbmVyYWxseSUyMGFjY2VwdGVkJTIwc291bmQlMjBwcm9jZXNzJTIwbW9kZWxzJTIwaW4lMjBmaW5hbmNpYWwlMjBpbnN0aXR1dGlvbnMlMjBhJTIwY2FzZSUyMHN0dWR5JTIwYWJvdXQlMjB2ZW50dXJlJTIwY2FwaXRhbCUyMGZ1bmQlMjBtYW5hZ2VtZW50JTIyJTJDJTBBJTIwJTIwJTIwJTIwZGlzcGxheSUzRCUyMnJpZmF1dCUyMGMlMjIlMkMlMEElMjAlMjAlMjAlMjBhdXRob3JzJTNEJTIyUmlmYXV0JTJDJTIwQS4lMjBhbmQlMjBQaWNhcmQlMkMlMjBNLiUyMGFuZCUyMERpJTIwUmVuem8lMkMlMjBCLiUyMiUyQyUwQSUyMCUyMCUyMCUyMHBsYWNlJTNESUNTUElDRCUyQyUwQSUyMCUyMCUyMCUyMGVudHJ5dHlwZSUzRCUyMmNvbmZlcmVuY2UlMjIlMkMlMEElMjAlMjAlMjAlMjBsaW5rJTNEJTIyaHR0cHMlM0EvL3d3dy5zY29wdXMuY29tL2lud2FyZC9yZWNvcmQudXJpJTNGZWlkJTNEMi1zMi4wLTg0OTIzOTI0MTUwJTI2cGFydG5lcklEJTNENDAlMjZtZDUlM0QxZjZiNmYwMmEzMzEyOTE3NGM3MzJmNDhiY2NkMTU0MSUyMiUyQyUwQSUyMCUyMCUyMCUyMElEJTNEJTIyUmlmYXV0MjAwOCUyMiUyQyUwQSUyMCUyMCUyMCUyMHNjb3B1czIwMTYlM0QlMjIxJTIyJTJDJTBBJTIwJTIwJTIwJTIwcGxhY2V4JTNEJTIyOHRoJTIwSW50ZXJuYXRpb25hbCUyMFNQSUNFJTIwQ29uZmVyZW5jZSUyMG9uJTIwU29mdHdhcmUlMjBQcm9jZXNzJTIwSW1wcm92ZW1lbnQlMjBhbmQlMjBDYXBhYmlsaXR5JTIwRGV0ZXJtaW5hdGlvbiUyQyUyMFNQSUNFJTIwMjAwOCUyMiUyQyUwQSUyOSUyOSUwQSUyNyUyNyUyNyUyOSUzQg==\")));\n",
       "    "
      ],
      "text/plain": [
       "<IPython.core.display.Javascript object>"
      ]
     },
     "metadata": {},
     "output_type": "display_data"
    },
    {
     "data": {
      "application/javascript": [
       "$('span:contains(\"# Temp\")').closest('.cell').remove();"
      ],
      "text/plain": [
       "<IPython.core.display.Javascript object>"
      ]
     },
     "metadata": {},
     "output_type": "display_data"
    },
    {
     "data": {
      "application/javascript": [
       "\n",
       "        $('span:contains(\"# Temp\")').closest('.cell').remove();\n",
       "        var code = IPython.notebook.insert_cell_below('code');\n",
       "        var prompt = code.element.find(\".input_prompt\");\n",
       "        prompt.append('<br><button style=\"height: 100%; width: 54px;\">Run</button>');\n",
       "        prompt.on(\"click\", \"button\", function(){\n",
       "            code.execute();\n",
       "        });\n",
       "        code.set_text(decodeURIComponent(window.atob(\"JTIzJTIwVGVtcCUwQWluc2VydCUyOCUyNyUyNyUyNyUwQWFucXVldGlsMjAwN2ElMjAlM0QlMjBEQiUyOFdvcmtVbnJlbGF0ZWQlMjglMEElMjAlMjAlMjAlMjAyMDA3JTJDJTIwJTIyQXN5bmNocm9ub3VzJTIwbWVyZ2luZyUyMG9mJTIwc29mdHdhcmUlMjBvbnRvbG9naWVzJTNBJTIwQW4lMjBleHBlcmllbmNlJTIyJTJDJTBBJTIwJTIwJTIwJTIwZGlzcGxheSUzRCUyMmFucXVldGlsJTIyJTJDJTBBJTIwJTIwJTIwJTIwYXV0aG9ycyUzRCUyMkFucXVldGlsJTJDJTIwTi4lMjBhbmQlMjBWaXpjYSVDMyVBRG5vJTJDJTIwQS4lMjBhbmQlMjBSdWl6JTJDJTIwRi4lMjBhbmQlMjBPbGl2ZWlyYSUyQyUyMEsuJTIwYW5kJTIwUGlhdHRpbmklMkMlMjBNLiUyMiUyQyUwQSUyMCUyMCUyMCUyMHBsYWNlJTNERkFLRSUyQyUwQSUyMCUyMCUyMCUyMHBwJTNEJTIyOTktMTA2JTIyJTJDJTBBJTIwJTIwJTIwJTIwZW50cnl0eXBlJTNEJTIyY29uZmVyZW5jZSUyMiUyQyUwQSUyMCUyMCUyMCUyMGxpbmslM0QlMjJodHRwcyUzQS8vd3d3LnNjb3B1cy5jb20vaW53YXJkL3JlY29yZC51cmklM0ZlaWQlM0QyLXMyLjAtODQ4ODMwNzkzOTYlMjZwYXJ0bmVySUQlM0Q0MCUyNm1kNSUzRGM0YTZhYWQxNWIxOTJlMTIxMGU1M2U5YzU5M2QxY2I4JTIyJTJDJTBBJTIwJTIwJTIwJTIwSUQlM0QlMjJBbnF1ZXRpbDIwMDc5OSUyMiUyQyUwQSUyMCUyMCUyMCUyMHNjb3B1czIwMTYlM0QlMjIxJTIyJTJDJTBBJTIwJTIwJTIwJTIwcGxhY2V4JTNEJTIyVkklMjBKb3JuYWRhcyUyMEliZXJvYW1lcmljYW5hcyUyMGRlJTIwSW5nZW5pZXJpYSUyMGRlJTIwU29mdHdhcmUlMjBlJTIwSW5nZW5pZXJpYSUyMGRlbCUyMENvbm9jaW1pZW50byUyMDIwMDclMkMlMjBKSUlTSUMlMjAyMDA3JTIyJTJDJTBBJTI5JTI5JTBBJTI3JTI3JTI3JTI5JTNC\")));\n",
       "    "
      ],
      "text/plain": [
       "<IPython.core.display.Javascript object>"
      ]
     },
     "metadata": {},
     "output_type": "display_data"
    },
    {
     "data": {
      "application/javascript": [
       "$('span:contains(\"# Temp\")').closest('.cell').remove();"
      ],
      "text/plain": [
       "<IPython.core.display.Javascript object>"
      ]
     },
     "metadata": {},
     "output_type": "display_data"
    },
    {
     "data": {
      "application/javascript": [
       "\n",
       "        $('span:contains(\"# Temp\")').closest('.cell').remove();\n",
       "        var code = IPython.notebook.insert_cell_below('code');\n",
       "        var prompt = code.element.find(\".input_prompt\");\n",
       "        prompt.append('<br><button style=\"height: 100%; width: 54px;\">Run</button>');\n",
       "        prompt.on(\"click\", \"button\", function(){\n",
       "            code.execute();\n",
       "        });\n",
       "        code.set_text(decodeURIComponent(window.atob(\"JTIzJTIwVGVtcCUwQWluc2VydCUyOCUyNyUyNyUyNyUwQWFucXVldGlsMjAwN2ElMjAlM0QlMjBEQiUyOFdvcmtVbnJlbGF0ZWQlMjglMEElMjAlMjAlMjAlMjAyMDA3JTJDJTIwJTIyQXN5bmNocm9ub3VzJTIwbWVyZ2luZyUyMG9mJTIwc29mdHdhcmUlMjBvbnRvbG9naWVzJTNBJTIwQW4lMjBleHBlcmllbmNlJTIyJTJDJTBBJTIwJTIwJTIwJTIwZGlzcGxheSUzRCUyMmFucXVldGlsJTIyJTJDJTBBJTIwJTIwJTIwJTIwYXV0aG9ycyUzRCUyMkFucXVldGlsJTJDJTIwTi4lMjBhbmQlMjBWaXpjYSVDMyVBRG5vJTJDJTIwQS4lMjBhbmQlMjBSdWl6JTJDJTIwRi4lMjBhbmQlMjBPbGl2ZWlyYSUyQyUyMEsuJTIwYW5kJTIwUGlhdHRpbmklMkMlMjBNLiUyMiUyQyUwQSUyMCUyMCUyMCUyMHBsYWNlJTNERkFLRSUyQyUwQSUyMCUyMCUyMCUyMHBwJTNEJTIyOTktMTA2JTIyJTJDJTBBJTIwJTIwJTIwJTIwZW50cnl0eXBlJTNEJTIyY29uZmVyZW5jZSUyMiUyQyUwQSUyMCUyMCUyMCUyMGxpbmslM0QlMjJodHRwcyUzQS8vd3d3LnNjb3B1cy5jb20vaW53YXJkL3JlY29yZC51cmklM0ZlaWQlM0QyLXMyLjAtODQ4ODMwNzkzOTYlMjZwYXJ0bmVySUQlM0Q0MCUyNm1kNSUzRGM0YTZhYWQxNWIxOTJlMTIxMGU1M2U5YzU5M2QxY2I4JTIyJTJDJTBBJTIwJTIwJTIwJTIwSUQlM0QlMjJBbnF1ZXRpbDIwMDc5OSUyMiUyQyUwQSUyMCUyMCUyMCUyMHNjb3B1czIwMTYlM0QlMjIxJTIyJTJDJTBBJTIwJTIwJTIwJTIwcGxhY2V4JTNEJTIyVkklMjBKb3JuYWRhcyUyMEliZXJvYW1lcmljYW5hcyUyMGRlJTIwSW5nZW5pZXJpYSUyMGRlJTIwU29mdHdhcmUlMjBlJTIwSW5nZW5pZXJpYSUyMGRlbCUyMENvbm9jaW1pZW50byUyMDIwMDclMkMlMjBKSUlTSUMlMjAyMDA3JTIyJTJDJTBBJTI5JTI5JTBBJTI3JTI3JTI3JTI5JTNC\")));\n",
       "    "
      ],
      "text/plain": [
       "<IPython.core.display.Javascript object>"
      ]
     },
     "metadata": {},
     "output_type": "display_data"
    },
    {
     "data": {
      "application/javascript": [
       "$('span:contains(\"# Temp\")').closest('.cell').remove();"
      ],
      "text/plain": [
       "<IPython.core.display.Javascript object>"
      ]
     },
     "metadata": {},
     "output_type": "display_data"
    },
    {
     "data": {
      "application/javascript": [
       "\n",
       "        $('span:contains(\"# Temp\")').closest('.cell').remove();\n",
       "        var code = IPython.notebook.insert_cell_below('code');\n",
       "        var prompt = code.element.find(\".input_prompt\");\n",
       "        prompt.append('<br><button style=\"height: 100%; width: 54px;\">Run</button>');\n",
       "        prompt.on(\"click\", \"button\", function(){\n",
       "            code.execute();\n",
       "        });\n",
       "        code.set_text(decodeURIComponent(window.atob(\"JTIzJTIwVGVtcCUwQWluc2VydCUyOCUyNyUyNyUyNyUwQWFsYmVydHluMjAwN2IlMjAlM0QlMjBEQiUyOFdvcmtVbnJlbGF0ZWQlMjglMEElMjAlMjAlMjAlMjAyMDA3JTJDJTIwJTIyQSUyMEh5YnJpZCUyME1ldGhvZCUyMGZvciUyMEUtcHJvY2VzcyUyMFNlbGVjdGlvbiUyMiUyQyUwQSUyMCUyMCUyMCUyMGRpc3BsYXklM0QlMjJhbGJlcnR5biUyMGIlMjIlMkMlMEElMjAlMjAlMjAlMjBhdXRob3JzJTNEJTIyQWxiZXJ0eW4lMkMlMjBGLiUyMGFuZCUyMEthc2NoZWslMkMlMjBSLiUyMiUyQyUwQSUyMCUyMCUyMCUyMHBsYWNlJTNERkFLRSUyQyUwQSUyMCUyMCUyMCUyMHBwJTNEJTIyMTc5LTE4OCUyMiUyQyUwQSUyMCUyMCUyMCUyMGVudHJ5dHlwZSUzRCUyMmNvbmZlcmVuY2UlMjIlMkMlMEElMjAlMjAlMjAlMjBsaW5rJTNEJTIyaHR0cHMlM0EvL3d3dy5zY29wdXMuY29tL2lud2FyZC9yZWNvcmQudXJpJTNGZWlkJTNEMi1zMi4wLTg0ODY5MTExMTg5JTI2cGFydG5lcklEJTNENDAlMjZtZDUlM0RlNmExY2MzN2IzOWQ5NDFiMzMzZDBiYzg0ZjhiNWRkMCUyMiUyQyUwQSUyMCUyMCUyMCUyMElEJTNEJTIyQWxiZXJ0eW4yMDA3MTc5JTIyJTJDJTBBJTIwJTIwJTIwJTIwc2NvcHVzMjAxNiUzRCUyMjElMjIlMkMlMEElMjAlMjAlMjAlMjBwbGFjZXglM0QlMjJBQ0lTJTIwMjAwNyUyMFByb2NlZWRpbmdzJTIwLSUyMDE4dGglMjBBdXN0cmFsYXNpYW4lMjBDb25mZXJlbmNlJTIwb24lMjBJbmZvcm1hdGlvbiUyMFN5c3RlbXMlMjIlMkMlMEElMjklMjklMEElMjclMjclMjclMjklM0I=\")));\n",
       "    "
      ],
      "text/plain": [
       "<IPython.core.display.Javascript object>"
      ]
     },
     "metadata": {},
     "output_type": "display_data"
    },
    {
     "data": {
      "application/javascript": [
       "$('span:contains(\"# Temp\")').closest('.cell').remove();"
      ],
      "text/plain": [
       "<IPython.core.display.Javascript object>"
      ]
     },
     "metadata": {},
     "output_type": "display_data"
    },
    {
     "data": {
      "application/javascript": [
       "\n",
       "        $('span:contains(\"# Temp\")').closest('.cell').remove();\n",
       "        var code = IPython.notebook.insert_cell_below('code');\n",
       "        var prompt = code.element.find(\".input_prompt\");\n",
       "        prompt.append('<br><button style=\"height: 100%; width: 54px;\">Run</button>');\n",
       "        prompt.on(\"click\", \"button\", function(){\n",
       "            code.execute();\n",
       "        });\n",
       "        code.set_text(decodeURIComponent(window.atob(\"JTIzJTIwVGVtcCUwQWluc2VydCUyOCUyNyUyNyUyNyUwQWFsYmVydHluMjAwN2IlMjAlM0QlMjBEQiUyOFdvcmtVbnJlbGF0ZWQlMjglMEElMjAlMjAlMjAlMjAyMDA3JTJDJTIwJTIyQSUyMEh5YnJpZCUyME1ldGhvZCUyMGZvciUyMEUtcHJvY2VzcyUyMFNlbGVjdGlvbiUyMiUyQyUwQSUyMCUyMCUyMCUyMGRpc3BsYXklM0QlMjJhbGJlcnR5biUyMGIlMjIlMkMlMEElMjAlMjAlMjAlMjBhdXRob3JzJTNEJTIyQWxiZXJ0eW4lMkMlMjBGLiUyMGFuZCUyMEthc2NoZWslMkMlMjBSLiUyMiUyQyUwQSUyMCUyMCUyMCUyMHBsYWNlJTNERkFLRSUyQyUwQSUyMCUyMCUyMCUyMHBwJTNEJTIyMTc5LTE4OCUyMiUyQyUwQSUyMCUyMCUyMCUyMGVudHJ5dHlwZSUzRCUyMmNvbmZlcmVuY2UlMjIlMkMlMEElMjAlMjAlMjAlMjBsaW5rJTNEJTIyaHR0cHMlM0EvL3d3dy5zY29wdXMuY29tL2lud2FyZC9yZWNvcmQudXJpJTNGZWlkJTNEMi1zMi4wLTg0ODY5MTExMTg5JTI2cGFydG5lcklEJTNENDAlMjZtZDUlM0RlNmExY2MzN2IzOWQ5NDFiMzMzZDBiYzg0ZjhiNWRkMCUyMiUyQyUwQSUyMCUyMCUyMCUyMElEJTNEJTIyQWxiZXJ0eW4yMDA3MTc5JTIyJTJDJTBBJTIwJTIwJTIwJTIwc2NvcHVzMjAxNiUzRCUyMjElMjIlMkMlMEElMjAlMjAlMjAlMjBwbGFjZXglM0QlMjJBQ0lTJTIwMjAwNyUyMFByb2NlZWRpbmdzJTIwLSUyMDE4dGglMjBBdXN0cmFsYXNpYW4lMjBDb25mZXJlbmNlJTIwb24lMjBJbmZvcm1hdGlvbiUyMFN5c3RlbXMlMjIlMkMlMEElMjklMjklMEElMjclMjclMjclMjklM0I=\")));\n",
       "    "
      ],
      "text/plain": [
       "<IPython.core.display.Javascript object>"
      ]
     },
     "metadata": {},
     "output_type": "display_data"
    },
    {
     "data": {
      "application/javascript": [
       "$('span:contains(\"# Temp\")').closest('.cell').remove();"
      ],
      "text/plain": [
       "<IPython.core.display.Javascript object>"
      ]
     },
     "metadata": {},
     "output_type": "display_data"
    },
    {
     "data": {
      "application/javascript": [
       "\n",
       "        $('span:contains(\"# Temp\")').closest('.cell').remove();\n",
       "        var code = IPython.notebook.insert_cell_below('code');\n",
       "        var prompt = code.element.find(\".input_prompt\");\n",
       "        prompt.append('<br><button style=\"height: 100%; width: 54px;\">Run</button>');\n",
       "        prompt.on(\"click\", \"button\", function(){\n",
       "            code.execute();\n",
       "        });\n",
       "        code.set_text(decodeURIComponent(window.atob(\"JTIzJTIwVGVtcCUwQWluc2VydCUyOCUyNyUyNyUyNyUyNyUyNyUyNyUyOSUzQiUwQXNldF9hdHRyaWJ1dGUlMjglMjdpa3JhbTIwMDdhJTI3JTJDJTIwJTI3bGluayUyNyUyQyUyMCUyN2h0dHBzJTNBLy93d3cuc2NvcHVzLmNvbS9pbndhcmQvcmVjb3JkLnVyaSUzRmVpZCUzRDItczIuMC01NjE0OTExMjU5NSUyNnBhcnRuZXJJRCUzRDQwJTI2bWQ1JTNENzU0MjU0Nzk1NGM5NTExNWViY2I2MjRlMTg1NGRiMjglMjclMjklM0IlMEFzZXRfYXR0cmlidXRlJTI4JTI3aWtyYW0yMDA3YSUyNyUyQyUyMCUyN3Njb3B1czIwMTYlMjclMkMlMjAlMjcxJTI3JTI5JTNC\")));\n",
       "    "
      ],
      "text/plain": [
       "<IPython.core.display.Javascript object>"
      ]
     },
     "metadata": {},
     "output_type": "display_data"
    },
    {
     "data": {
      "application/javascript": [
       "$('span:contains(\"# Temp\")').closest('.cell').remove();"
      ],
      "text/plain": [
       "<IPython.core.display.Javascript object>"
      ]
     },
     "metadata": {},
     "output_type": "display_data"
    },
    {
     "data": {
      "application/javascript": [
       "\n",
       "        $('span:contains(\"# Temp\")').closest('.cell').remove();\n",
       "        var code = IPython.notebook.insert_cell_below('code');\n",
       "        var prompt = code.element.find(\".input_prompt\");\n",
       "        prompt.append('<br><button style=\"height: 100%; width: 54px;\">Run</button>');\n",
       "        prompt.on(\"click\", \"button\", function(){\n",
       "            code.execute();\n",
       "        });\n",
       "        code.set_text(decodeURIComponent(window.atob(\"JTIzJTIwVGVtcCUwQWluc2VydCUyOCUyNyUyNyUyNyUyNyUyNyUyNyUyOSUzQiUwQXNldF9hdHRyaWJ1dGUlMjglMjdpa3JhbTIwMDdhJTI3JTJDJTIwJTI3bGluayUyNyUyQyUyMCUyN2h0dHBzJTNBLy93d3cuc2NvcHVzLmNvbS9pbndhcmQvcmVjb3JkLnVyaSUzRmVpZCUzRDItczIuMC01NjE0OTExMjU5NSUyNnBhcnRuZXJJRCUzRDQwJTI2bWQ1JTNENzU0MjU0Nzk1NGM5NTExNWViY2I2MjRlMTg1NGRiMjglMjclMjklM0IlMEFzZXRfYXR0cmlidXRlJTI4JTI3aWtyYW0yMDA3YSUyNyUyQyUyMCUyN3Njb3B1czIwMTYlMjclMkMlMjAlMjcxJTI3JTI5JTNC\")));\n",
       "    "
      ],
      "text/plain": [
       "<IPython.core.display.Javascript object>"
      ]
     },
     "metadata": {},
     "output_type": "display_data"
    },
    {
     "data": {
      "application/javascript": [
       "$('span:contains(\"# Temp\")').closest('.cell').remove();"
      ],
      "text/plain": [
       "<IPython.core.display.Javascript object>"
      ]
     },
     "metadata": {},
     "output_type": "display_data"
    },
    {
     "data": {
      "application/javascript": [
       "\n",
       "        $('span:contains(\"# Temp\")').closest('.cell').remove();\n",
       "        var code = IPython.notebook.insert_cell_below('code');\n",
       "        var prompt = code.element.find(\".input_prompt\");\n",
       "        prompt.append('<br><button style=\"height: 100%; width: 54px;\">Run</button>');\n",
       "        prompt.on(\"click\", \"button\", function(){\n",
       "            code.execute();\n",
       "        });\n",
       "        code.set_text(decodeURIComponent(window.atob(\"JTIzJTIwVGVtcCUwQWluc2VydCUyOCUyNyUyNyUyNyUyNyUyNyUyNyUyOSUzQiUwQXNldF9hdHRyaWJ1dGUlMjglMjdrdW1hcmFwZWxpMjAwN2IlMjclMkMlMjAlMjdwcCUyNyUyQyUyMCUyNzI0NS0yNTMlMjclMjklM0IlMEFzZXRfYXR0cmlidXRlJTI4JTI3a3VtYXJhcGVsaTIwMDdiJTI3JTJDJTIwJTI3bGluayUyNyUyQyUyMCUyN2h0dHBzJTNBLy93d3cuc2NvcHVzLmNvbS9pbndhcmQvcmVjb3JkLnVyaSUzRmVpZCUzRDItczIuMC0zOTE0OTEzODY3MSUyNnBhcnRuZXJJRCUzRDQwJTI2bWQ1JTNEZjY2NmJkMzZjNGRkMzZmYTRmZTU3ZDk3YWNkOTMxMDAlMjclMjklM0IlMEFzZXRfYXR0cmlidXRlJTI4JTI3a3VtYXJhcGVsaTIwMDdiJTI3JTJDJTIwJTI3c2NvcHVzMjAxNiUyNyUyQyUyMCUyNzElMjclMjklM0I=\")));\n",
       "    "
      ],
      "text/plain": [
       "<IPython.core.display.Javascript object>"
      ]
     },
     "metadata": {},
     "output_type": "display_data"
    },
    {
     "data": {
      "application/javascript": [
       "$('span:contains(\"# Temp\")').closest('.cell').remove();"
      ],
      "text/plain": [
       "<IPython.core.display.Javascript object>"
      ]
     },
     "metadata": {},
     "output_type": "display_data"
    },
    {
     "data": {
      "application/javascript": [
       "\n",
       "        $('span:contains(\"# Temp\")').closest('.cell').remove();\n",
       "        var code = IPython.notebook.insert_cell_below('code');\n",
       "        var prompt = code.element.find(\".input_prompt\");\n",
       "        prompt.append('<br><button style=\"height: 100%; width: 54px;\">Run</button>');\n",
       "        prompt.on(\"click\", \"button\", function(){\n",
       "            code.execute();\n",
       "        });\n",
       "        code.set_text(decodeURIComponent(window.atob(\"JTIzJTIwVGVtcCUwQWluc2VydCUyOCUyNyUyNyUyNyUyNyUyNyUyNyUyOSUzQiUwQXNldF9hdHRyaWJ1dGUlMjglMjdrdW1hcmFwZWxpMjAwN2IlMjclMkMlMjAlMjdwcCUyNyUyQyUyMCUyNzI0NS0yNTMlMjclMjklM0IlMEFzZXRfYXR0cmlidXRlJTI4JTI3a3VtYXJhcGVsaTIwMDdiJTI3JTJDJTIwJTI3bGluayUyNyUyQyUyMCUyN2h0dHBzJTNBLy93d3cuc2NvcHVzLmNvbS9pbndhcmQvcmVjb3JkLnVyaSUzRmVpZCUzRDItczIuMC0zOTE0OTEzODY3MSUyNnBhcnRuZXJJRCUzRDQwJTI2bWQ1JTNEZjY2NmJkMzZjNGRkMzZmYTRmZTU3ZDk3YWNkOTMxMDAlMjclMjklM0IlMEFzZXRfYXR0cmlidXRlJTI4JTI3a3VtYXJhcGVsaTIwMDdiJTI3JTJDJTIwJTI3c2NvcHVzMjAxNiUyNyUyQyUyMCUyNzElMjclMjklM0I=\")));\n",
       "    "
      ],
      "text/plain": [
       "<IPython.core.display.Javascript object>"
      ]
     },
     "metadata": {},
     "output_type": "display_data"
    },
    {
     "data": {
      "application/javascript": [
       "$('span:contains(\"# Temp\")').closest('.cell').remove();"
      ],
      "text/plain": [
       "<IPython.core.display.Javascript object>"
      ]
     },
     "metadata": {},
     "output_type": "display_data"
    },
    {
     "data": {
      "application/javascript": [
       "\n",
       "        $('span:contains(\"# Temp\")').closest('.cell').remove();\n",
       "        var code = IPython.notebook.insert_cell_below('code');\n",
       "        var prompt = code.element.find(\".input_prompt\");\n",
       "        prompt.append('<br><button style=\"height: 100%; width: 54px;\">Run</button>');\n",
       "        prompt.on(\"click\", \"button\", function(){\n",
       "            code.execute();\n",
       "        });\n",
       "        code.set_text(decodeURIComponent(window.atob(\"JTIzJTIwVGVtcCUwQWluc2VydCUyOCUyNyUyNyUyNyUyNyUyNyUyNyUyOSUzQiUwQXNldF9hdHRyaWJ1dGUlMjglMjdrdW1hcmFwZWxpMjAwN2ElMjclMkMlMjAlMjdsaW5rJTI3JTJDJTIwJTI3aHR0cHMlM0EvL3d3dy5zY29wdXMuY29tL2lud2FyZC9yZWNvcmQudXJpJTNGZWlkJTNEMi1zMi4wLTgwMDUxNzU3NjAzJTI2ZG9pJTNEMTAuMTA4MCUyNTJmMTQ2MzkyMzA2MDEwOTc3MDUlMjZwYXJ0bmVySUQlM0Q0MCUyNm1kNSUzRDY4NGNiZDUwZjJiNGVhMzE5MDExYTE5NzNkYzE3NjAzJTI3JTI5JTNCJTBBc2V0X2F0dHJpYnV0ZSUyOCUyN2t1bWFyYXBlbGkyMDA3YSUyNyUyQyUyMCUyN3Njb3B1czIwMTYlMjclMkMlMjAlMjcxJTI3JTI5JTNC\")));\n",
       "    "
      ],
      "text/plain": [
       "<IPython.core.display.Javascript object>"
      ]
     },
     "metadata": {},
     "output_type": "display_data"
    },
    {
     "data": {
      "application/javascript": [
       "$('span:contains(\"# Temp\")').closest('.cell').remove();"
      ],
      "text/plain": [
       "<IPython.core.display.Javascript object>"
      ]
     },
     "metadata": {},
     "output_type": "display_data"
    },
    {
     "data": {
      "application/javascript": [
       "\n",
       "        $('span:contains(\"# Temp\")').closest('.cell').remove();\n",
       "        var code = IPython.notebook.insert_cell_below('code');\n",
       "        var prompt = code.element.find(\".input_prompt\");\n",
       "        prompt.append('<br><button style=\"height: 100%; width: 54px;\">Run</button>');\n",
       "        prompt.on(\"click\", \"button\", function(){\n",
       "            code.execute();\n",
       "        });\n",
       "        code.set_text(decodeURIComponent(window.atob(\"JTIzJTIwVGVtcCUwQWluc2VydCUyOCUyNyUyNyUyNyUyNyUyNyUyNyUyOSUzQiUwQXNldF9hdHRyaWJ1dGUlMjglMjdrdW1hcmFwZWxpMjAwN2ElMjclMkMlMjAlMjdsaW5rJTI3JTJDJTIwJTI3aHR0cHMlM0EvL3d3dy5zY29wdXMuY29tL2lud2FyZC9yZWNvcmQudXJpJTNGZWlkJTNEMi1zMi4wLTgwMDUxNzU3NjAzJTI2ZG9pJTNEMTAuMTA4MCUyNTJmMTQ2MzkyMzA2MDEwOTc3MDUlMjZwYXJ0bmVySUQlM0Q0MCUyNm1kNSUzRDY4NGNiZDUwZjJiNGVhMzE5MDExYTE5NzNkYzE3NjAzJTI3JTI5JTNCJTBBc2V0X2F0dHJpYnV0ZSUyOCUyN2t1bWFyYXBlbGkyMDA3YSUyNyUyQyUyMCUyN3Njb3B1czIwMTYlMjclMkMlMjAlMjcxJTI3JTI5JTNC\")));\n",
       "    "
      ],
      "text/plain": [
       "<IPython.core.display.Javascript object>"
      ]
     },
     "metadata": {},
     "output_type": "display_data"
    },
    {
     "data": {
      "application/javascript": [
       "$('span:contains(\"# Temp\")').closest('.cell').remove();"
      ],
      "text/plain": [
       "<IPython.core.display.Javascript object>"
      ]
     },
     "metadata": {},
     "output_type": "display_data"
    },
    {
     "data": {
      "application/javascript": [
       "\n",
       "        $('span:contains(\"# Temp\")').closest('.cell').remove();\n",
       "        var code = IPython.notebook.insert_cell_below('code');\n",
       "        var prompt = code.element.find(\".input_prompt\");\n",
       "        prompt.append('<br><button style=\"height: 100%; width: 54px;\">Run</button>');\n",
       "        prompt.on(\"click\", \"button\", function(){\n",
       "            code.execute();\n",
       "        });\n",
       "        code.set_text(decodeURIComponent(window.atob(\"JTIzJTIwVGVtcCUwQWluc2VydCUyOCUyNyUyNyUyNyUyNyUyNyUyNyUyOSUzQiUwQXNldF9hdHRyaWJ1dGUlMjglMjdiZXJ0b2EyMDA2YSUyNyUyQyUyMCUyN2xpbmslMjclMkMlMjAlMjdodHRwcyUzQS8vd3d3LnNjb3B1cy5jb20vaW53YXJkL3JlY29yZC51cmklM0ZlaWQlM0QyLXMyLjAtODQ4OTIzNTA4NjQlMjZkb2klM0QxMC4xMDA3JTI1MmYzLTU0MC0zNDUxOC0zXzYlMjZwYXJ0bmVySUQlM0Q0MCUyNm1kNSUzRGI3OTE0YjU3NzNmYTIzNWMyNmQ5OWEyZDIyMzdmM2I0JTI3JTI5JTNCJTBBc2V0X2F0dHJpYnV0ZSUyOCUyN2JlcnRvYTIwMDZhJTI3JTJDJTIwJTI3c2NvcHVzMjAxNiUyNyUyQyUyMCUyNzElMjclMjklM0I=\")));\n",
       "    "
      ],
      "text/plain": [
       "<IPython.core.display.Javascript object>"
      ]
     },
     "metadata": {},
     "output_type": "display_data"
    },
    {
     "data": {
      "application/javascript": [
       "$('span:contains(\"# Temp\")').closest('.cell').remove();"
      ],
      "text/plain": [
       "<IPython.core.display.Javascript object>"
      ]
     },
     "metadata": {},
     "output_type": "display_data"
    },
    {
     "data": {
      "application/javascript": [
       "\n",
       "        $('span:contains(\"# Temp\")').closest('.cell').remove();\n",
       "        var code = IPython.notebook.insert_cell_below('code');\n",
       "        var prompt = code.element.find(\".input_prompt\");\n",
       "        prompt.append('<br><button style=\"height: 100%; width: 54px;\">Run</button>');\n",
       "        prompt.on(\"click\", \"button\", function(){\n",
       "            code.execute();\n",
       "        });\n",
       "        code.set_text(decodeURIComponent(window.atob(\"JTIzJTIwVGVtcCUwQWluc2VydCUyOCUyNyUyNyUyNyUyNyUyNyUyNyUyOSUzQiUwQXNldF9hdHRyaWJ1dGUlMjglMjdiZXJ0b2EyMDA2YSUyNyUyQyUyMCUyN2xpbmslMjclMkMlMjAlMjdodHRwcyUzQS8vd3d3LnNjb3B1cy5jb20vaW53YXJkL3JlY29yZC51cmklM0ZlaWQlM0QyLXMyLjAtODQ4OTIzNTA4NjQlMjZkb2klM0QxMC4xMDA3JTI1MmYzLTU0MC0zNDUxOC0zXzYlMjZwYXJ0bmVySUQlM0Q0MCUyNm1kNSUzRGI3OTE0YjU3NzNmYTIzNWMyNmQ5OWEyZDIyMzdmM2I0JTI3JTI5JTNCJTBBc2V0X2F0dHJpYnV0ZSUyOCUyN2JlcnRvYTIwMDZhJTI3JTJDJTIwJTI3c2NvcHVzMjAxNiUyNyUyQyUyMCUyNzElMjclMjklM0I=\")));\n",
       "    "
      ],
      "text/plain": [
       "<IPython.core.display.Javascript object>"
      ]
     },
     "metadata": {},
     "output_type": "display_data"
    },
    {
     "data": {
      "application/javascript": [
       "$('span:contains(\"# Temp\")').closest('.cell').remove();"
      ],
      "text/plain": [
       "<IPython.core.display.Javascript object>"
      ]
     },
     "metadata": {},
     "output_type": "display_data"
    },
    {
     "data": {
      "application/javascript": [
       "\n",
       "        $('span:contains(\"# Temp\")').closest('.cell').remove();\n",
       "        var code = IPython.notebook.insert_cell_below('code');\n",
       "        var prompt = code.element.find(\".input_prompt\");\n",
       "        prompt.append('<br><button style=\"height: 100%; width: 54px;\">Run</button>');\n",
       "        prompt.on(\"click\", \"button\", function(){\n",
       "            code.execute();\n",
       "        });\n",
       "        code.set_text(decodeURIComponent(window.atob(\"JTIzJTIwVGVtcCUwQWluc2VydCUyOCUyNyUyNyUyNyUwQXJ1aXoyMDA2YSUyMCUzRCUyMERCJTI4V29ya1VucmVsYXRlZCUyOCUwQSUyMCUyMCUyMCUyMDIwMDYlMkMlMjAlMjJVc2luZyUyMG9udG9sb2dpZXMlMjBpbiUyMHNvZnR3YXJlJTIwZW5naW5lZXJpbmclMjBhbmQlMjB0ZWNobm9sb2d5JTIyJTJDJTBBJTIwJTIwJTIwJTIwZGlzcGxheSUzRCUyMnJ1aXolMjIlMkMlMEElMjAlMjAlMjAlMjBhdXRob3JzJTNEJTIyUnVpeiUyQyUyMEYuJTIwYW5kJTIwSGlsZXJhJTJDJTIwSi5SLiUyMiUyQyUwQSUyMCUyMCUyMCUyMHBsYWNlJTNEQm9vayUyQyUwQSUyMCUyMCUyMCUyMHBwJTNEJTIyNDktMTAyJTIyJTJDJTBBJTIwJTIwJTIwJTIwZW50cnl0eXBlJTNEJTIyYm9vayUyMiUyQyUwQSUyMCUyMCUyMCUyMGxpbmslM0QlMjJodHRwcyUzQS8vd3d3LnNjb3B1cy5jb20vaW53YXJkL3JlY29yZC51cmklM0ZlaWQlM0QyLXMyLjAtODQ4OTIyOTgzNTAlMjZkb2klM0QxMC4xMDA3JTI1MmYzLTU0MC0zNDUxOC0zXzIlMjZwYXJ0bmVySUQlM0Q0MCUyNm1kNSUzRDkwZjY3Nzg0MjBkNGZiY2M5NGE4ZDA5MDgzYzNiMjY1JTIyJTJDJTBBJTIwJTIwJTIwJTIwSUQlM0QlMjJSdWl6MjAwNjQ5JTIyJTJDJTBBJTIwJTIwJTIwJTIwc2NvcHVzMjAxNiUzRCUyMjElMjIlMkMlMEElMjAlMjAlMjAlMjBwbGFjZXglM0QlMjJPbnRvbG9naWVzJTIwZm9yJTIwU29mdHdhcmUlMjBFbmdpbmVlcmluZyUyMGFuZCUyMFNvZnR3YXJlJTIwVGVjaG5vbG9neSUyMiUyQyUwQSUyOSUyOSUwQSUyNyUyNyUyNyUyOSUzQg==\")));\n",
       "    "
      ],
      "text/plain": [
       "<IPython.core.display.Javascript object>"
      ]
     },
     "metadata": {},
     "output_type": "display_data"
    },
    {
     "data": {
      "application/javascript": [
       "$('span:contains(\"# Temp\")').closest('.cell').remove();"
      ],
      "text/plain": [
       "<IPython.core.display.Javascript object>"
      ]
     },
     "metadata": {},
     "output_type": "display_data"
    },
    {
     "data": {
      "application/javascript": [
       "\n",
       "        $('span:contains(\"# Temp\")').closest('.cell').remove();\n",
       "        var code = IPython.notebook.insert_cell_below('code');\n",
       "        var prompt = code.element.find(\".input_prompt\");\n",
       "        prompt.append('<br><button style=\"height: 100%; width: 54px;\">Run</button>');\n",
       "        prompt.on(\"click\", \"button\", function(){\n",
       "            code.execute();\n",
       "        });\n",
       "        code.set_text(decodeURIComponent(window.atob(\"JTIzJTIwVGVtcCUwQWluc2VydCUyOCUyNyUyNyUyNyUwQXJ1aXoyMDA2YSUyMCUzRCUyMERCJTI4V29ya1VucmVsYXRlZCUyOCUwQSUyMCUyMCUyMCUyMDIwMDYlMkMlMjAlMjJVc2luZyUyMG9udG9sb2dpZXMlMjBpbiUyMHNvZnR3YXJlJTIwZW5naW5lZXJpbmclMjBhbmQlMjB0ZWNobm9sb2d5JTIyJTJDJTBBJTIwJTIwJTIwJTIwZGlzcGxheSUzRCUyMnJ1aXolMjIlMkMlMEElMjAlMjAlMjAlMjBhdXRob3JzJTNEJTIyUnVpeiUyQyUyMEYuJTIwYW5kJTIwSGlsZXJhJTJDJTIwSi5SLiUyMiUyQyUwQSUyMCUyMCUyMCUyMHBsYWNlJTNEQm9vayUyQyUwQSUyMCUyMCUyMCUyMHBwJTNEJTIyNDktMTAyJTIyJTJDJTBBJTIwJTIwJTIwJTIwZW50cnl0eXBlJTNEJTIyYm9vayUyMiUyQyUwQSUyMCUyMCUyMCUyMGxpbmslM0QlMjJodHRwcyUzQS8vd3d3LnNjb3B1cy5jb20vaW53YXJkL3JlY29yZC51cmklM0ZlaWQlM0QyLXMyLjAtODQ4OTIyOTgzNTAlMjZkb2klM0QxMC4xMDA3JTI1MmYzLTU0MC0zNDUxOC0zXzIlMjZwYXJ0bmVySUQlM0Q0MCUyNm1kNSUzRDkwZjY3Nzg0MjBkNGZiY2M5NGE4ZDA5MDgzYzNiMjY1JTIyJTJDJTBBJTIwJTIwJTIwJTIwSUQlM0QlMjJSdWl6MjAwNjQ5JTIyJTJDJTBBJTIwJTIwJTIwJTIwc2NvcHVzMjAxNiUzRCUyMjElMjIlMkMlMEElMjAlMjAlMjAlMjBwbGFjZXglM0QlMjJPbnRvbG9naWVzJTIwZm9yJTIwU29mdHdhcmUlMjBFbmdpbmVlcmluZyUyMGFuZCUyMFNvZnR3YXJlJTIwVGVjaG5vbG9neSUyMiUyQyUwQSUyOSUyOSUwQSUyNyUyNyUyNyUyOSUzQg==\")));\n",
       "    "
      ],
      "text/plain": [
       "<IPython.core.display.Javascript object>"
      ]
     },
     "metadata": {},
     "output_type": "display_data"
    },
    {
     "data": {
      "application/javascript": [
       "$('span:contains(\"# Temp\")').closest('.cell').remove();"
      ],
      "text/plain": [
       "<IPython.core.display.Javascript object>"
      ]
     },
     "metadata": {},
     "output_type": "display_data"
    },
    {
     "data": {
      "application/javascript": [
       "\n",
       "        $('span:contains(\"# Temp\")').closest('.cell').remove();\n",
       "        var code = IPython.notebook.insert_cell_below('code');\n",
       "        var prompt = code.element.find(\".input_prompt\");\n",
       "        prompt.append('<br><button style=\"height: 100%; width: 54px;\">Run</button>');\n",
       "        prompt.on(\"click\", \"button\", function(){\n",
       "            code.execute();\n",
       "        });\n",
       "        code.set_text(decodeURIComponent(window.atob(\"JTIzJTIwVGVtcCUwQWluc2VydCUyOCUyNyUyNyUyNyUwQXBhbG9tJUMzJUE0a2kyMDA2YiUyMCUzRCUyMERCJTI4V29ya1VucmVsYXRlZCUyOCUwQSUyMCUyMCUyMCUyMDIwMDYlMkMlMjAlMjJBJTIwcHJvY2Vzcy1vbnRvbG9naWNhbCUyMG1vZGVsJTIwZm9yJTIwc29mdHdhcmUlMjBlbmdpbmVlcmluZyUyMiUyQyUwQSUyMCUyMCUyMCUyMGRpc3BsYXklM0QlMjJwYWxvbSVDMyVBNGtpJTIwYiUyMiUyQyUwQSUyMCUyMCUyMCUyMGF1dGhvcnMlM0QlMjJQYWxvbSVDMyVBNGtpJTJDJTIwSi4lMjBhbmQlMjBLZXRvJTJDJTIwSC4lMjIlMkMlMEElMjAlMjAlMjAlMjBwbGFjZSUzREZBS0UlMkMlMEElMjAlMjAlMjAlMjBwcCUzRCUyMjcyMC03MjYlMjIlMkMlMEElMjAlMjAlMjAlMjBlbnRyeXR5cGUlM0QlMjJjb25mZXJlbmNlJTIyJTJDJTBBJTIwJTIwJTIwJTIwdm9sdW1lJTNEJTIyMjQwJTIyJTJDJTBBJTIwJTIwJTIwJTIwbGluayUzRCUyMmh0dHBzJTNBLy93d3cuc2NvcHVzLmNvbS9pbndhcmQvcmVjb3JkLnVyaSUzRmVpZCUzRDItczIuMC04NDg4NDc1MjA0NSUyNnBhcnRuZXJJRCUzRDQwJTI2bWQ1JTNEMTJlMTgxNjNjYjc3YTE2NWMwNjZlYjY1YzY3NDM5MTYlMjIlMkMlMEElMjAlMjAlMjAlMjBJRCUzRCUyMlBhbG9tJUMzJUE0a2kyMDA2NzIwJTIyJTJDJTBBJTIwJTIwJTIwJTIwc2NvcHVzMjAxNiUzRCUyMjElMjIlMkMlMEElMjAlMjAlMjAlMjBwbGFjZXglM0QlMjJDRVVSJTIwV29ya3Nob3AlMjBQcm9jZWVkaW5ncyUyMiUyQyUwQSUyOSUyOSUwQSUyNyUyNyUyNyUyOSUzQg==\")));\n",
       "    "
      ],
      "text/plain": [
       "<IPython.core.display.Javascript object>"
      ]
     },
     "metadata": {},
     "output_type": "display_data"
    },
    {
     "data": {
      "application/javascript": [
       "$('span:contains(\"# Temp\")').closest('.cell').remove();"
      ],
      "text/plain": [
       "<IPython.core.display.Javascript object>"
      ]
     },
     "metadata": {},
     "output_type": "display_data"
    },
    {
     "data": {
      "application/javascript": [
       "\n",
       "        $('span:contains(\"# Temp\")').closest('.cell').remove();\n",
       "        var code = IPython.notebook.insert_cell_below('code');\n",
       "        var prompt = code.element.find(\".input_prompt\");\n",
       "        prompt.append('<br><button style=\"height: 100%; width: 54px;\">Run</button>');\n",
       "        prompt.on(\"click\", \"button\", function(){\n",
       "            code.execute();\n",
       "        });\n",
       "        code.set_text(decodeURIComponent(window.atob(\"JTIzJTIwVGVtcCUwQWluc2VydCUyOCUyNyUyNyUyNyUwQXBhbG9tJUMzJUE0a2kyMDA2YiUyMCUzRCUyMERCJTI4V29ya1VucmVsYXRlZCUyOCUwQSUyMCUyMCUyMCUyMDIwMDYlMkMlMjAlMjJBJTIwcHJvY2Vzcy1vbnRvbG9naWNhbCUyMG1vZGVsJTIwZm9yJTIwc29mdHdhcmUlMjBlbmdpbmVlcmluZyUyMiUyQyUwQSUyMCUyMCUyMCUyMGRpc3BsYXklM0QlMjJwYWxvbSVDMyVBNGtpJTIwYiUyMiUyQyUwQSUyMCUyMCUyMCUyMGF1dGhvcnMlM0QlMjJQYWxvbSVDMyVBNGtpJTJDJTIwSi4lMjBhbmQlMjBLZXRvJTJDJTIwSC4lMjIlMkMlMEElMjAlMjAlMjAlMjBwbGFjZSUzREZBS0UlMkMlMEElMjAlMjAlMjAlMjBwcCUzRCUyMjcyMC03MjYlMjIlMkMlMEElMjAlMjAlMjAlMjBlbnRyeXR5cGUlM0QlMjJjb25mZXJlbmNlJTIyJTJDJTBBJTIwJTIwJTIwJTIwdm9sdW1lJTNEJTIyMjQwJTIyJTJDJTBBJTIwJTIwJTIwJTIwbGluayUzRCUyMmh0dHBzJTNBLy93d3cuc2NvcHVzLmNvbS9pbndhcmQvcmVjb3JkLnVyaSUzRmVpZCUzRDItczIuMC04NDg4NDc1MjA0NSUyNnBhcnRuZXJJRCUzRDQwJTI2bWQ1JTNEMTJlMTgxNjNjYjc3YTE2NWMwNjZlYjY1YzY3NDM5MTYlMjIlMkMlMEElMjAlMjAlMjAlMjBJRCUzRCUyMlBhbG9tJUMzJUE0a2kyMDA2NzIwJTIyJTJDJTBBJTIwJTIwJTIwJTIwc2NvcHVzMjAxNiUzRCUyMjElMjIlMkMlMEElMjAlMjAlMjAlMjBwbGFjZXglM0QlMjJDRVVSJTIwV29ya3Nob3AlMjBQcm9jZWVkaW5ncyUyMiUyQyUwQSUyOSUyOSUwQSUyNyUyNyUyNyUyOSUzQg==\")));\n",
       "    "
      ],
      "text/plain": [
       "<IPython.core.display.Javascript object>"
      ]
     },
     "metadata": {},
     "output_type": "display_data"
    },
    {
     "data": {
      "application/javascript": [
       "$('span:contains(\"# Temp\")').closest('.cell').remove();"
      ],
      "text/plain": [
       "<IPython.core.display.Javascript object>"
      ]
     },
     "metadata": {},
     "output_type": "display_data"
    },
    {
     "data": {
      "application/javascript": [
       "\n",
       "        $('span:contains(\"# Temp\")').closest('.cell').remove();\n",
       "        var code = IPython.notebook.insert_cell_below('code');\n",
       "        var prompt = code.element.find(\".input_prompt\");\n",
       "        prompt.append('<br><button style=\"height: 100%; width: 54px;\">Run</button>');\n",
       "        prompt.on(\"click\", \"button\", function(){\n",
       "            code.execute();\n",
       "        });\n",
       "        code.set_text(decodeURIComponent(window.atob(\"JTIzJTIwVGVtcCUwQWluc2VydCUyOCUyNyUyNyUyNyUyNyUyNyUyNyUyOSUzQiUwQXNldF9hdHRyaWJ1dGUlMjglMjdnb256YWxlejIwMDZhJTI3JTJDJTIwJTI3bGluayUyNyUyQyUyMCUyN2h0dHBzJTNBLy93d3cuc2NvcHVzLmNvbS9pbndhcmQvcmVjb3JkLnVyaSUzRmVpZCUzRDItczIuMC0zODA0OTAyNDQ2OCUyNmRvaSUzRDEwLjEwMDclMjUyZjMtNTQwLTM0NTE4LTNfNCUyNnBhcnRuZXJJRCUzRDQwJTI2bWQ1JTNEOGMxYjIxZjcxOWMxODc4ZTE5YjRjYmI5NjJhZDFkYTMlMjclMjklM0IlMEFzZXRfYXR0cmlidXRlJTI4JTI3Z29uemFsZXoyMDA2YSUyNyUyQyUyMCUyN3Njb3B1czIwMTYlMjclMkMlMjAlMjcxJTI3JTI5JTNC\")));\n",
       "    "
      ],
      "text/plain": [
       "<IPython.core.display.Javascript object>"
      ]
     },
     "metadata": {},
     "output_type": "display_data"
    },
    {
     "data": {
      "application/javascript": [
       "$('span:contains(\"# Temp\")').closest('.cell').remove();"
      ],
      "text/plain": [
       "<IPython.core.display.Javascript object>"
      ]
     },
     "metadata": {},
     "output_type": "display_data"
    },
    {
     "data": {
      "application/javascript": [
       "\n",
       "        $('span:contains(\"# Temp\")').closest('.cell').remove();\n",
       "        var code = IPython.notebook.insert_cell_below('code');\n",
       "        var prompt = code.element.find(\".input_prompt\");\n",
       "        prompt.append('<br><button style=\"height: 100%; width: 54px;\">Run</button>');\n",
       "        prompt.on(\"click\", \"button\", function(){\n",
       "            code.execute();\n",
       "        });\n",
       "        code.set_text(decodeURIComponent(window.atob(\"JTIzJTIwVGVtcCUwQWluc2VydCUyOCUyNyUyNyUyNyUyNyUyNyUyNyUyOSUzQiUwQXNldF9hdHRyaWJ1dGUlMjglMjdnb256YWxlejIwMDZhJTI3JTJDJTIwJTI3bGluayUyNyUyQyUyMCUyN2h0dHBzJTNBLy93d3cuc2NvcHVzLmNvbS9pbndhcmQvcmVjb3JkLnVyaSUzRmVpZCUzRDItczIuMC0zODA0OTAyNDQ2OCUyNmRvaSUzRDEwLjEwMDclMjUyZjMtNTQwLTM0NTE4LTNfNCUyNnBhcnRuZXJJRCUzRDQwJTI2bWQ1JTNEOGMxYjIxZjcxOWMxODc4ZTE5YjRjYmI5NjJhZDFkYTMlMjclMjklM0IlMEFzZXRfYXR0cmlidXRlJTI4JTI3Z29uemFsZXoyMDA2YSUyNyUyQyUyMCUyN3Njb3B1czIwMTYlMjclMkMlMjAlMjcxJTI3JTI5JTNC\")));\n",
       "    "
      ],
      "text/plain": [
       "<IPython.core.display.Javascript object>"
      ]
     },
     "metadata": {},
     "output_type": "display_data"
    },
    {
     "data": {
      "application/javascript": [
       "$('span:contains(\"# Temp\")').closest('.cell').remove();"
      ],
      "text/plain": [
       "<IPython.core.display.Javascript object>"
      ]
     },
     "metadata": {},
     "output_type": "display_data"
    },
    {
     "data": {
      "application/javascript": [
       "\n",
       "        $('span:contains(\"# Temp\")').closest('.cell').remove();\n",
       "        var code = IPython.notebook.insert_cell_below('code');\n",
       "        var prompt = code.element.find(\".input_prompt\");\n",
       "        prompt.append('<br><button style=\"height: 100%; width: 54px;\">Run</button>');\n",
       "        prompt.on(\"click\", \"button\", function(){\n",
       "            code.execute();\n",
       "        });\n",
       "        code.set_text(decodeURIComponent(window.atob(\"JTIzJTIwVGVtcCUwQWluc2VydCUyOCUyNyUyNyUyNyUyNyUyNyUyNyUyOSUzQiUwQXNldF9hdHRyaWJ1dGUlMjglMjdjYW5mb3JhMjAwNmElMjclMkMlMjAlMjdsaW5rJTI3JTJDJTIwJTI3aHR0cHMlM0EvL3d3dy5zY29wdXMuY29tL2lud2FyZC9yZWNvcmQudXJpJTNGZWlkJTNEMi1zMi4wLTMzNjQ0ODA4MDU5JTI2ZG9pJTNEMTAuMTAwMiUyNTJmc3BlLjY5NyUyNnBhcnRuZXJJRCUzRDQwJTI2bWQ1JTNEZTg0OTczOGViNzQ5ZDEwNzViMTBkMWE3OGJiYWFiN2MlMjclMjklM0IlMEFzZXRfYXR0cmlidXRlJTI4JTI3Y2FuZm9yYTIwMDZhJTI3JTJDJTIwJTI3c2NvcHVzMjAxNiUyNyUyQyUyMCUyNzElMjclMjklM0I=\")));\n",
       "    "
      ],
      "text/plain": [
       "<IPython.core.display.Javascript object>"
      ]
     },
     "metadata": {},
     "output_type": "display_data"
    },
    {
     "data": {
      "application/javascript": [
       "$('span:contains(\"# Temp\")').closest('.cell').remove();"
      ],
      "text/plain": [
       "<IPython.core.display.Javascript object>"
      ]
     },
     "metadata": {},
     "output_type": "display_data"
    },
    {
     "data": {
      "application/javascript": [
       "\n",
       "        $('span:contains(\"# Temp\")').closest('.cell').remove();\n",
       "        var code = IPython.notebook.insert_cell_below('code');\n",
       "        var prompt = code.element.find(\".input_prompt\");\n",
       "        prompt.append('<br><button style=\"height: 100%; width: 54px;\">Run</button>');\n",
       "        prompt.on(\"click\", \"button\", function(){\n",
       "            code.execute();\n",
       "        });\n",
       "        code.set_text(decodeURIComponent(window.atob(\"JTIzJTIwVGVtcCUwQWluc2VydCUyOCUyNyUyNyUyNyUyNyUyNyUyNyUyOSUzQiUwQXNldF9hdHRyaWJ1dGUlMjglMjdjYW5mb3JhMjAwNmElMjclMkMlMjAlMjdsaW5rJTI3JTJDJTIwJTI3aHR0cHMlM0EvL3d3dy5zY29wdXMuY29tL2lud2FyZC9yZWNvcmQudXJpJTNGZWlkJTNEMi1zMi4wLTMzNjQ0ODA4MDU5JTI2ZG9pJTNEMTAuMTAwMiUyNTJmc3BlLjY5NyUyNnBhcnRuZXJJRCUzRDQwJTI2bWQ1JTNEZTg0OTczOGViNzQ5ZDEwNzViMTBkMWE3OGJiYWFiN2MlMjclMjklM0IlMEFzZXRfYXR0cmlidXRlJTI4JTI3Y2FuZm9yYTIwMDZhJTI3JTJDJTIwJTI3c2NvcHVzMjAxNiUyNyUyQyUyMCUyNzElMjclMjklM0I=\")));\n",
       "    "
      ],
      "text/plain": [
       "<IPython.core.display.Javascript object>"
      ]
     },
     "metadata": {},
     "output_type": "display_data"
    },
    {
     "data": {
      "application/javascript": [
       "$('span:contains(\"# Temp\")').closest('.cell').remove();"
      ],
      "text/plain": [
       "<IPython.core.display.Javascript object>"
      ]
     },
     "metadata": {},
     "output_type": "display_data"
    },
    {
     "data": {
      "application/javascript": [
       "\n",
       "        $('span:contains(\"# Temp\")').closest('.cell').remove();\n",
       "        var code = IPython.notebook.insert_cell_below('code');\n",
       "        var prompt = code.element.find(\".input_prompt\");\n",
       "        prompt.append('<br><button style=\"height: 100%; width: 54px;\">Run</button>');\n",
       "        prompt.on(\"click\", \"button\", function(){\n",
       "            code.execute();\n",
       "        });\n",
       "        code.set_text(decodeURIComponent(window.atob(\"JTIzJTIwVGVtcCUwQWluc2VydCUyOCUyNyUyNyUyNyUyNyUyNyUyNyUyOSUzQiUwQXNldF9hdHRyaWJ1dGUlMjglMjdmZXJyZWlyYTIwMDZhJTI3JTJDJTIwJTI3dm9sdW1lJTI3JTJDJTIwJTI3NDI1NyUyMExOQ1MlMjclMjklM0IlMEFzZXRfYXR0cmlidXRlJTI4JTI3ZmVycmVpcmEyMDA2YSUyNyUyQyUyMCUyN2xpbmslMjclMkMlMjAlMjdodHRwcyUzQS8vd3d3LnNjb3B1cy5jb20vaW53YXJkL3JlY29yZC51cmklM0ZlaWQlM0QyLXMyLjAtMzM4NDUyNDI1MzQlMjZwYXJ0bmVySUQlM0Q0MCUyNm1kNSUzRDNjMzNiNDE3ODk0YzI5OWMwMmJlYzc3NjVlNGYyODYyJTI3JTI5JTNCJTBBc2V0X2F0dHJpYnV0ZSUyOCUyN2ZlcnJlaXJhMjAwNmElMjclMkMlMjAlMjdzY29wdXMyMDE2JTI3JTJDJTIwJTI3MSUyNyUyOSUzQg==\")));\n",
       "    "
      ],
      "text/plain": [
       "<IPython.core.display.Javascript object>"
      ]
     },
     "metadata": {},
     "output_type": "display_data"
    },
    {
     "data": {
      "application/javascript": [
       "$('span:contains(\"# Temp\")').closest('.cell').remove();"
      ],
      "text/plain": [
       "<IPython.core.display.Javascript object>"
      ]
     },
     "metadata": {},
     "output_type": "display_data"
    },
    {
     "data": {
      "application/javascript": [
       "\n",
       "        $('span:contains(\"# Temp\")').closest('.cell').remove();\n",
       "        var code = IPython.notebook.insert_cell_below('code');\n",
       "        var prompt = code.element.find(\".input_prompt\");\n",
       "        prompt.append('<br><button style=\"height: 100%; width: 54px;\">Run</button>');\n",
       "        prompt.on(\"click\", \"button\", function(){\n",
       "            code.execute();\n",
       "        });\n",
       "        code.set_text(decodeURIComponent(window.atob(\"JTIzJTIwVGVtcCUwQWluc2VydCUyOCUyNyUyNyUyNyUyNyUyNyUyNyUyOSUzQiUwQXNldF9hdHRyaWJ1dGUlMjglMjdmZXJyZWlyYTIwMDZhJTI3JTJDJTIwJTI3dm9sdW1lJTI3JTJDJTIwJTI3NDI1NyUyMExOQ1MlMjclMjklM0IlMEFzZXRfYXR0cmlidXRlJTI4JTI3ZmVycmVpcmEyMDA2YSUyNyUyQyUyMCUyN2xpbmslMjclMkMlMjAlMjdodHRwcyUzQS8vd3d3LnNjb3B1cy5jb20vaW53YXJkL3JlY29yZC51cmklM0ZlaWQlM0QyLXMyLjAtMzM4NDUyNDI1MzQlMjZwYXJ0bmVySUQlM0Q0MCUyNm1kNSUzRDNjMzNiNDE3ODk0YzI5OWMwMmJlYzc3NjVlNGYyODYyJTI3JTI5JTNCJTBBc2V0X2F0dHJpYnV0ZSUyOCUyN2ZlcnJlaXJhMjAwNmElMjclMkMlMjAlMjdzY29wdXMyMDE2JTI3JTJDJTIwJTI3MSUyNyUyOSUzQg==\")));\n",
       "    "
      ],
      "text/plain": [
       "<IPython.core.display.Javascript object>"
      ]
     },
     "metadata": {},
     "output_type": "display_data"
    },
    {
     "data": {
      "application/javascript": [
       "$('span:contains(\"# Temp\")').closest('.cell').remove();"
      ],
      "text/plain": [
       "<IPython.core.display.Javascript object>"
      ]
     },
     "metadata": {},
     "output_type": "display_data"
    },
    {
     "data": {
      "application/javascript": [
       "\n",
       "        $('span:contains(\"# Temp\")').closest('.cell').remove();\n",
       "        var code = IPython.notebook.insert_cell_below('code');\n",
       "        var prompt = code.element.find(\".input_prompt\");\n",
       "        prompt.append('<br><button style=\"height: 100%; width: 54px;\">Run</button>');\n",
       "        prompt.on(\"click\", \"button\", function(){\n",
       "            code.execute();\n",
       "        });\n",
       "        code.set_text(decodeURIComponent(window.atob(\"JTIzJTIwVGVtcCUwQWluc2VydCUyOCUyNyUyNyUyNyUyNyUyNyUyNyUyOSUzQiUwQXNldF9hdHRyaWJ1dGUlMjglMjdhaG9uZW4yMDA2YSUyNyUyQyUyMCUyN3ZvbHVtZSUyNyUyQyUyMCUyNzQwMzQlMjBMTkNTJTI3JTI5JTNCJTBBc2V0X2F0dHJpYnV0ZSUyOCUyN2Fob25lbjIwMDZhJTI3JTJDJTIwJTI3bGluayUyNyUyQyUyMCUyN2h0dHBzJTNBLy93d3cuc2NvcHVzLmNvbS9pbndhcmQvcmVjb3JkLnVyaSUzRmVpZCUzRDItczIuMC0zMzc0NjIxNzQ1OCUyNnBhcnRuZXJJRCUzRDQwJTI2bWQ1JTNEYzNmNjkwNjUyYzFiMmY5NTRkZDIzYTRlZTYxMTg0OWYlMjclMjklM0IlMEFzZXRfYXR0cmlidXRlJTI4JTI3YWhvbmVuMjAwNmElMjclMkMlMjAlMjdzY29wdXMyMDE2JTI3JTJDJTIwJTI3MSUyNyUyOSUzQg==\")));\n",
       "    "
      ],
      "text/plain": [
       "<IPython.core.display.Javascript object>"
      ]
     },
     "metadata": {},
     "output_type": "display_data"
    },
    {
     "data": {
      "application/javascript": [
       "$('span:contains(\"# Temp\")').closest('.cell').remove();"
      ],
      "text/plain": [
       "<IPython.core.display.Javascript object>"
      ]
     },
     "metadata": {},
     "output_type": "display_data"
    },
    {
     "data": {
      "application/javascript": [
       "\n",
       "        $('span:contains(\"# Temp\")').closest('.cell').remove();\n",
       "        var code = IPython.notebook.insert_cell_below('code');\n",
       "        var prompt = code.element.find(\".input_prompt\");\n",
       "        prompt.append('<br><button style=\"height: 100%; width: 54px;\">Run</button>');\n",
       "        prompt.on(\"click\", \"button\", function(){\n",
       "            code.execute();\n",
       "        });\n",
       "        code.set_text(decodeURIComponent(window.atob(\"JTIzJTIwVGVtcCUwQWluc2VydCUyOCUyNyUyNyUyNyUyNyUyNyUyNyUyOSUzQiUwQXNldF9hdHRyaWJ1dGUlMjglMjdhaG9uZW4yMDA2YSUyNyUyQyUyMCUyN3ZvbHVtZSUyNyUyQyUyMCUyNzQwMzQlMjBMTkNTJTI3JTI5JTNCJTBBc2V0X2F0dHJpYnV0ZSUyOCUyN2Fob25lbjIwMDZhJTI3JTJDJTIwJTI3bGluayUyNyUyQyUyMCUyN2h0dHBzJTNBLy93d3cuc2NvcHVzLmNvbS9pbndhcmQvcmVjb3JkLnVyaSUzRmVpZCUzRDItczIuMC0zMzc0NjIxNzQ1OCUyNnBhcnRuZXJJRCUzRDQwJTI2bWQ1JTNEYzNmNjkwNjUyYzFiMmY5NTRkZDIzYTRlZTYxMTg0OWYlMjclMjklM0IlMEFzZXRfYXR0cmlidXRlJTI4JTI3YWhvbmVuMjAwNmElMjclMkMlMjAlMjdzY29wdXMyMDE2JTI3JTJDJTIwJTI3MSUyNyUyOSUzQg==\")));\n",
       "    "
      ],
      "text/plain": [
       "<IPython.core.display.Javascript object>"
      ]
     },
     "metadata": {},
     "output_type": "display_data"
    },
    {
     "data": {
      "application/javascript": [
       "$('span:contains(\"# Temp\")').closest('.cell').remove();"
      ],
      "text/plain": [
       "<IPython.core.display.Javascript object>"
      ]
     },
     "metadata": {},
     "output_type": "display_data"
    },
    {
     "data": {
      "application/javascript": [
       "\n",
       "        $('span:contains(\"# Temp\")').closest('.cell').remove();\n",
       "        var code = IPython.notebook.insert_cell_below('code');\n",
       "        var prompt = code.element.find(\".input_prompt\");\n",
       "        prompt.append('<br><button style=\"height: 100%; width: 54px;\">Run</button>');\n",
       "        prompt.on(\"click\", \"button\", function(){\n",
       "            code.execute();\n",
       "        });\n",
       "        code.set_text(decodeURIComponent(window.atob(\"JTIzJTIwVGVtcCUwQWluc2VydCUyOCUyNyUyNyUyNyUyNyUyNyUyNyUyOSUzQiUwQXNldF9hdHRyaWJ1dGUlMjglMjdhcHJpbDIwMDVhJTI3JTJDJTIwJTI3bGluayUyNyUyQyUyMCUyN2h0dHBzJTNBLy93d3cuc2NvcHVzLmNvbS9pbndhcmQvcmVjb3JkLnVyaSUzRmVpZCUzRDItczIuMC0yMDQ0NDQ2MjM2MSUyNmRvaSUzRDEwLjEwMDIlMjUyZnNtci4zMTElMjZwYXJ0bmVySUQlM0Q0MCUyNm1kNSUzRDBkY2MyYWZjNjA2MDczNDdkZjViOWY2MGU5MzAxMDY2JTI3JTI5JTNCJTBBc2V0X2F0dHJpYnV0ZSUyOCUyN2FwcmlsMjAwNWElMjclMkMlMjAlMjdzY29wdXMyMDE2JTI3JTJDJTIwJTI3MSUyNyUyOSUzQg==\")));\n",
       "    "
      ],
      "text/plain": [
       "<IPython.core.display.Javascript object>"
      ]
     },
     "metadata": {},
     "output_type": "display_data"
    },
    {
     "data": {
      "application/javascript": [
       "$('span:contains(\"# Temp\")').closest('.cell').remove();"
      ],
      "text/plain": [
       "<IPython.core.display.Javascript object>"
      ]
     },
     "metadata": {},
     "output_type": "display_data"
    },
    {
     "data": {
      "application/javascript": [
       "\n",
       "        $('span:contains(\"# Temp\")').closest('.cell').remove();\n",
       "        var code = IPython.notebook.insert_cell_below('code');\n",
       "        var prompt = code.element.find(\".input_prompt\");\n",
       "        prompt.append('<br><button style=\"height: 100%; width: 54px;\">Run</button>');\n",
       "        prompt.on(\"click\", \"button\", function(){\n",
       "            code.execute();\n",
       "        });\n",
       "        code.set_text(decodeURIComponent(window.atob(\"JTIzJTIwVGVtcCUwQWluc2VydCUyOCUyNyUyNyUyNyUyNyUyNyUyNyUyOSUzQiUwQXNldF9hdHRyaWJ1dGUlMjglMjdhcHJpbDIwMDVhJTI3JTJDJTIwJTI3bGluayUyNyUyQyUyMCUyN2h0dHBzJTNBLy93d3cuc2NvcHVzLmNvbS9pbndhcmQvcmVjb3JkLnVyaSUzRmVpZCUzRDItczIuMC0yMDQ0NDQ2MjM2MSUyNmRvaSUzRDEwLjEwMDIlMjUyZnNtci4zMTElMjZwYXJ0bmVySUQlM0Q0MCUyNm1kNSUzRDBkY2MyYWZjNjA2MDczNDdkZjViOWY2MGU5MzAxMDY2JTI3JTI5JTNCJTBBc2V0X2F0dHJpYnV0ZSUyOCUyN2FwcmlsMjAwNWElMjclMkMlMjAlMjdzY29wdXMyMDE2JTI3JTJDJTIwJTI3MSUyNyUyOSUzQg==\")));\n",
       "    "
      ],
      "text/plain": [
       "<IPython.core.display.Javascript object>"
      ]
     },
     "metadata": {},
     "output_type": "display_data"
    },
    {
     "data": {
      "application/javascript": [
       "$('span:contains(\"# Temp\")').closest('.cell').remove();"
      ],
      "text/plain": [
       "<IPython.core.display.Javascript object>"
      ]
     },
     "metadata": {},
     "output_type": "display_data"
    },
    {
     "data": {
      "application/javascript": [
       "\n",
       "        $('span:contains(\"# Temp\")').closest('.cell').remove();\n",
       "        var code = IPython.notebook.insert_cell_below('code');\n",
       "        var prompt = code.element.find(\".input_prompt\");\n",
       "        prompt.append('<br><button style=\"height: 100%; width: 54px;\">Run</button>');\n",
       "        prompt.on(\"click\", \"button\", function(){\n",
       "            code.execute();\n",
       "        });\n",
       "        code.set_text(decodeURIComponent(window.atob(\"JTIzJTIwVGVtcCUwQWluc2VydCUyOCUyNyUyNyUyNyUyNyUyNyUyNyUyOSUzQiUwQXNldF9hdHRyaWJ1dGUlMjglMjdydWl6MjAwNGElMjclMkMlMjAlMjdsaW5rJTI3JTJDJTIwJTI3aHR0cHMlM0EvL3d3dy5zY29wdXMuY29tL2lud2FyZC9yZWNvcmQudXJpJTNGZWlkJTNEMi1zMi4wLTQwNDMxNjQ5NTUlMjZkb2klM0QxMC4xMTQyJTI1MmZTMDIxODE5NDAwNDAwMTY0NiUyNnBhcnRuZXJJRCUzRDQwJTI2bWQ1JTNENjgyZDlmMTkzOTM4MWMzMjM4MGJkNmY3MTE5YzNlNzMlMjclMjklM0IlMEFzZXRfYXR0cmlidXRlJTI4JTI3cnVpejIwMDRhJTI3JTJDJTIwJTI3c2NvcHVzMjAxNiUyNyUyQyUyMCUyNzElMjclMjklM0I=\")));\n",
       "    "
      ],
      "text/plain": [
       "<IPython.core.display.Javascript object>"
      ]
     },
     "metadata": {},
     "output_type": "display_data"
    },
    {
     "data": {
      "application/javascript": [
       "$('span:contains(\"# Temp\")').closest('.cell').remove();"
      ],
      "text/plain": [
       "<IPython.core.display.Javascript object>"
      ]
     },
     "metadata": {},
     "output_type": "display_data"
    },
    {
     "data": {
      "application/javascript": [
       "\n",
       "        $('span:contains(\"# Temp\")').closest('.cell').remove();\n",
       "        var code = IPython.notebook.insert_cell_below('code');\n",
       "        var prompt = code.element.find(\".input_prompt\");\n",
       "        prompt.append('<br><button style=\"height: 100%; width: 54px;\">Run</button>');\n",
       "        prompt.on(\"click\", \"button\", function(){\n",
       "            code.execute();\n",
       "        });\n",
       "        code.set_text(decodeURIComponent(window.atob(\"JTIzJTIwVGVtcCUwQWluc2VydCUyOCUyNyUyNyUyNyUyNyUyNyUyNyUyOSUzQiUwQXNldF9hdHRyaWJ1dGUlMjglMjdydWl6MjAwNGElMjclMkMlMjAlMjdsaW5rJTI3JTJDJTIwJTI3aHR0cHMlM0EvL3d3dy5zY29wdXMuY29tL2lud2FyZC9yZWNvcmQudXJpJTNGZWlkJTNEMi1zMi4wLTQwNDMxNjQ5NTUlMjZkb2klM0QxMC4xMTQyJTI1MmZTMDIxODE5NDAwNDAwMTY0NiUyNnBhcnRuZXJJRCUzRDQwJTI2bWQ1JTNENjgyZDlmMTkzOTM4MWMzMjM4MGJkNmY3MTE5YzNlNzMlMjclMjklM0IlMEFzZXRfYXR0cmlidXRlJTI4JTI3cnVpejIwMDRhJTI3JTJDJTIwJTI3c2NvcHVzMjAxNiUyNyUyQyUyMCUyNzElMjclMjklM0I=\")));\n",
       "    "
      ],
      "text/plain": [
       "<IPython.core.display.Javascript object>"
      ]
     },
     "metadata": {},
     "output_type": "display_data"
    },
    {
     "data": {
      "application/javascript": [
       "$('span:contains(\"# Temp\")').closest('.cell').remove();"
      ],
      "text/plain": [
       "<IPython.core.display.Javascript object>"
      ]
     },
     "metadata": {},
     "output_type": "display_data"
    },
    {
     "data": {
      "application/javascript": [
       "\n",
       "        $('span:contains(\"# Temp\")').closest('.cell').remove();\n",
       "        var code = IPython.notebook.insert_cell_below('code');\n",
       "        var prompt = code.element.find(\".input_prompt\");\n",
       "        prompt.append('<br><button style=\"height: 100%; width: 54px;\">Run</button>');\n",
       "        prompt.on(\"click\", \"button\", function(){\n",
       "            code.execute();\n",
       "        });\n",
       "        code.set_text(decodeURIComponent(window.atob(\"JTIzJTIwVGVtcCUwQWluc2VydCUyOCUyNyUyNyUyNyUyNyUyNyUyNyUyOSUzQiUwQXNldF9hdHRyaWJ1dGUlMjglMjdydWl6MjAwMmElMjclMkMlMjAlMjd2b2x1bWUlMjclMkMlMjAlMjcyNTU5JTI3JTI5JTNCJTBBc2V0X2F0dHJpYnV0ZSUyOCUyN3J1aXoyMDAyYSUyNyUyQyUyMCUyN2xpbmslMjclMkMlMjAlMjdodHRwcyUzQS8vd3d3LnNjb3B1cy5jb20vaW53YXJkL3JlY29yZC51cmklM0ZlaWQlM0QyLXMyLjAtODQ5NDk5NDY4NTclMjZwYXJ0bmVySUQlM0Q0MCUyNm1kNSUzRDJkYjNlMjk0ZmI3OWZiYmQ2NWI2ZDJlMTRlMDk2NDJjJTI3JTI5JTNCJTBBc2V0X2F0dHJpYnV0ZSUyOCUyN3J1aXoyMDAyYSUyNyUyQyUyMCUyN3Njb3B1czIwMTYlMjclMkMlMjAlMjcxJTI3JTI5JTNC\")));\n",
       "    "
      ],
      "text/plain": [
       "<IPython.core.display.Javascript object>"
      ]
     },
     "metadata": {},
     "output_type": "display_data"
    },
    {
     "data": {
      "application/javascript": [
       "$('span:contains(\"# Temp\")').closest('.cell').remove();"
      ],
      "text/plain": [
       "<IPython.core.display.Javascript object>"
      ]
     },
     "metadata": {},
     "output_type": "display_data"
    },
    {
     "data": {
      "application/javascript": [
       "\n",
       "        $('span:contains(\"# Temp\")').closest('.cell').remove();\n",
       "        var code = IPython.notebook.insert_cell_below('code');\n",
       "        var prompt = code.element.find(\".input_prompt\");\n",
       "        prompt.append('<br><button style=\"height: 100%; width: 54px;\">Run</button>');\n",
       "        prompt.on(\"click\", \"button\", function(){\n",
       "            code.execute();\n",
       "        });\n",
       "        code.set_text(decodeURIComponent(window.atob(\"JTIzJTIwVGVtcCUwQWluc2VydCUyOCUyNyUyNyUyNyUyNyUyNyUyNyUyOSUzQiUwQXNldF9hdHRyaWJ1dGUlMjglMjdydWl6MjAwMmElMjclMkMlMjAlMjd2b2x1bWUlMjclMkMlMjAlMjcyNTU5JTI3JTI5JTNCJTBBc2V0X2F0dHJpYnV0ZSUyOCUyN3J1aXoyMDAyYSUyNyUyQyUyMCUyN2xpbmslMjclMkMlMjAlMjdodHRwcyUzQS8vd3d3LnNjb3B1cy5jb20vaW53YXJkL3JlY29yZC51cmklM0ZlaWQlM0QyLXMyLjAtODQ5NDk5NDY4NTclMjZwYXJ0bmVySUQlM0Q0MCUyNm1kNSUzRDJkYjNlMjk0ZmI3OWZiYmQ2NWI2ZDJlMTRlMDk2NDJjJTI3JTI5JTNCJTBBc2V0X2F0dHJpYnV0ZSUyOCUyN3J1aXoyMDAyYSUyNyUyQyUyMCUyN3Njb3B1czIwMTYlMjclMkMlMjAlMjcxJTI3JTI5JTNC\")));\n",
       "    "
      ],
      "text/plain": [
       "<IPython.core.display.Javascript object>"
      ]
     },
     "metadata": {},
     "output_type": "display_data"
    },
    {
     "data": {
      "application/javascript": [
       "$('span:contains(\"# Temp\")').closest('.cell').remove();"
      ],
      "text/plain": [
       "<IPython.core.display.Javascript object>"
      ]
     },
     "metadata": {},
     "output_type": "display_data"
    },
    {
     "data": {
      "application/javascript": [
       "\n",
       "        $('span:contains(\"# Temp\")').closest('.cell').remove();\n",
       "        var code = IPython.notebook.insert_cell_below('code');\n",
       "        var prompt = code.element.find(\".input_prompt\");\n",
       "        prompt.append('<br><button style=\"height: 100%; width: 54px;\">Run</button>');\n",
       "        prompt.on(\"click\", \"button\", function(){\n",
       "            code.execute();\n",
       "        });\n",
       "        code.set_text(decodeURIComponent(window.atob(\"JTIzJTIwVGVtcCUwQWluc2VydCUyOCUyNyUyNyUyNyUwQWthamtvMjAwMmElMjAlM0QlMjBEQiUyOFdvcmtVbnJlbGF0ZWQlMjglMEElMjAlMjAlMjAlMjAyMDAyJTJDJTIwJTIyQ29ycmVjdGl2ZSUyMG1haW50ZW5hbmNlJTIwbWF0dXJpdHklMjBtb2RlbCUzQSUyMFByb2JsZW0lMjBtYW5hZ2VtZW50JTIyJTJDJTBBJTIwJTIwJTIwJTIwZGlzcGxheSUzRCUyMmthamtvJTIyJTJDJTBBJTIwJTIwJTIwJTIwYXV0aG9ycyUzRCUyMkthamtvLU1hdHRzc29uJTJDJTIwTS4lMjIlMkMlMEElMjAlMjAlMjAlMjBwbGFjZSUzREZBS0UlMkMlMEElMjAlMjAlMjAlMjBwcCUzRCUyMjQ4Ni00OTAlMjIlMkMlMEElMjAlMjAlMjAlMjBlbnRyeXR5cGUlM0QlMjJjb25mZXJlbmNlJTIyJTJDJTBBJTIwJTIwJTIwJTIwbGluayUzRCUyMmh0dHBzJTNBLy93d3cuc2NvcHVzLmNvbS9pbndhcmQvcmVjb3JkLnVyaSUzRmVpZCUzRDItczIuMC0wMDM2NDQyNDYyJTI2cGFydG5lcklEJTNENDAlMjZtZDUlM0Q3YTBiMDkxYzBjMmJjZTQ3MjMzY2M3ZGFkYTcxNTY0MSUyMiUyQyUwQSUyMCUyMCUyMCUyMElEJTNEJTIyS2Fqa28tTWF0dHNzb24yMDAyNDg2JTIyJTJDJTBBJTIwJTIwJTIwJTIwc2NvcHVzMjAxNiUzRCUyMjElMjIlMkMlMEElMjAlMjAlMjAlMjBwbGFjZXglM0QlMjJDb25mZXJlbmNlJTIwb24lMjBTb2Z0d2FyZSUyME1haW50ZW5hbmNlJTIyJTJDJTBBJTI5JTI5JTBBJTI3JTI3JTI3JTI5JTNC\")));\n",
       "    "
      ],
      "text/plain": [
       "<IPython.core.display.Javascript object>"
      ]
     },
     "metadata": {},
     "output_type": "display_data"
    },
    {
     "data": {
      "application/javascript": [
       "$('span:contains(\"# Temp\")').closest('.cell').remove();"
      ],
      "text/plain": [
       "<IPython.core.display.Javascript object>"
      ]
     },
     "metadata": {},
     "output_type": "display_data"
    },
    {
     "data": {
      "application/javascript": [
       "\n",
       "        $('span:contains(\"# Temp\")').closest('.cell').remove();\n",
       "        var code = IPython.notebook.insert_cell_below('code');\n",
       "        var prompt = code.element.find(\".input_prompt\");\n",
       "        prompt.append('<br><button style=\"height: 100%; width: 54px;\">Run</button>');\n",
       "        prompt.on(\"click\", \"button\", function(){\n",
       "            code.execute();\n",
       "        });\n",
       "        code.set_text(decodeURIComponent(window.atob(\"JTIzJTIwVGVtcCUwQWluc2VydCUyOCUyNyUyNyUyNyUwQWthamtvMjAwMmElMjAlM0QlMjBEQiUyOFdvcmtVbnJlbGF0ZWQlMjglMEElMjAlMjAlMjAlMjAyMDAyJTJDJTIwJTIyQ29ycmVjdGl2ZSUyMG1haW50ZW5hbmNlJTIwbWF0dXJpdHklMjBtb2RlbCUzQSUyMFByb2JsZW0lMjBtYW5hZ2VtZW50JTIyJTJDJTBBJTIwJTIwJTIwJTIwZGlzcGxheSUzRCUyMmthamtvJTIyJTJDJTBBJTIwJTIwJTIwJTIwYXV0aG9ycyUzRCUyMkthamtvLU1hdHRzc29uJTJDJTIwTS4lMjIlMkMlMEElMjAlMjAlMjAlMjBwbGFjZSUzREZBS0UlMkMlMEElMjAlMjAlMjAlMjBwcCUzRCUyMjQ4Ni00OTAlMjIlMkMlMEElMjAlMjAlMjAlMjBlbnRyeXR5cGUlM0QlMjJjb25mZXJlbmNlJTIyJTJDJTBBJTIwJTIwJTIwJTIwbGluayUzRCUyMmh0dHBzJTNBLy93d3cuc2NvcHVzLmNvbS9pbndhcmQvcmVjb3JkLnVyaSUzRmVpZCUzRDItczIuMC0wMDM2NDQyNDYyJTI2cGFydG5lcklEJTNENDAlMjZtZDUlM0Q3YTBiMDkxYzBjMmJjZTQ3MjMzY2M3ZGFkYTcxNTY0MSUyMiUyQyUwQSUyMCUyMCUyMCUyMElEJTNEJTIyS2Fqa28tTWF0dHNzb24yMDAyNDg2JTIyJTJDJTBBJTIwJTIwJTIwJTIwc2NvcHVzMjAxNiUzRCUyMjElMjIlMkMlMEElMjAlMjAlMjAlMjBwbGFjZXglM0QlMjJDb25mZXJlbmNlJTIwb24lMjBTb2Z0d2FyZSUyME1haW50ZW5hbmNlJTIyJTJDJTBBJTI5JTI5JTBBJTI3JTI3JTI3JTI5JTNC\")));\n",
       "    "
      ],
      "text/plain": [
       "<IPython.core.display.Javascript object>"
      ]
     },
     "metadata": {},
     "output_type": "display_data"
    },
    {
     "data": {
      "application/javascript": [
       "$('span:contains(\"# Temp\")').closest('.cell').remove();"
      ],
      "text/plain": [
       "<IPython.core.display.Javascript object>"
      ]
     },
     "metadata": {},
     "output_type": "display_data"
    },
    {
     "data": {
      "application/javascript": [
       "\n",
       "        $('span:contains(\"# Temp\")').closest('.cell').remove();\n",
       "        var code = IPython.notebook.insert_cell_below('code');\n",
       "        var prompt = code.element.find(\".input_prompt\");\n",
       "        prompt.append('<br><button style=\"height: 100%; width: 54px;\">Run</button>');\n",
       "        prompt.on(\"click\", \"button\", function(){\n",
       "            code.execute();\n",
       "        });\n",
       "        code.set_text(decodeURIComponent(window.atob(\"JTIzJTIwVGVtcCUwQWluc2VydCUyOCUyNyUyNyUyNyUwQWJlcnp0aXNzMjAwMmElMjAlM0QlMjBEQiUyOFdvcmtVbnJlbGF0ZWQlMjglMEElMjAlMjAlMjAlMjAyMDAyJTJDJTIwJTIyQ2FwYWJpbGl0eSUyMG1hdHVyaXR5JTIwZm9yJTIwa25vd2xlZGdlJTIwbWFuYWdlbWVudCUyMiUyQyUwQSUyMCUyMCUyMCUyMGRpc3BsYXklM0QlMjJiZXJ6dGlzcyUyMiUyQyUwQSUyMCUyMCUyMCUyMGF1dGhvcnMlM0QlMjJCZXJ6dGlzcyUyQyUyMEEuVC4lMjIlMkMlMEElMjAlMjAlMjAlMjBwbGFjZSUzREZBS0UlMkMlMEElMjAlMjAlMjAlMjBwcCUzRCUyMjE2Mi0xNjYlMjIlMkMlMEElMjAlMjAlMjAlMjBlbnRyeXR5cGUlM0QlMjJjb25mZXJlbmNlJTIyJTJDJTBBJTIwJTIwJTIwJTIwdm9sdW1lJTNEJTIyMjAwMi1KYW51YXJ5JTIyJTJDJTBBJTIwJTIwJTIwJTIwYXJ0X251bWJlciUzRCUyMjEwNDU4OTMlMjIlMkMlMEElMjAlMjAlMjAlMjBsaW5rJTNEJTIyaHR0cHMlM0EvL3d3dy5zY29wdXMuY29tL2lud2FyZC9yZWNvcmQudXJpJTNGZWlkJTNEMi1zMi4wLTg0OTQ4NjcxNjI1JTI2ZG9pJTNEMTAuMTEwOSUyNTJmREVYQS4yMDAyLjEwNDU4OTMlMjZwYXJ0bmVySUQlM0Q0MCUyNm1kNSUzRDIxY2RhNjM1ODM3YTZiNTEyZjMzZWZiMGQ4NDY3ZDA0JTIyJTJDJTBBJTIwJTIwJTIwJTIwSUQlM0QlMjJCZXJ6dGlzczIwMDIxNjIlMjIlMkMlMEElMjAlMjAlMjAlMjBzY29wdXMyMDE2JTNEJTIyMSUyMiUyQyUwQSUyMCUyMCUyMCUyMHBsYWNleCUzRCUyMlByb2NlZWRpbmdzJTIwLSUyMEludGVybmF0aW9uYWwlMjBXb3Jrc2hvcCUyMG9uJTIwRGF0YWJhc2UlMjBhbmQlMjBFeHBlcnQlMjBTeXN0ZW1zJTIwQXBwbGljYXRpb25zJTJDJTIwREVYQSUyMiUyQyUwQSUyOSUyOSUwQSUyNyUyNyUyNyUyOSUzQg==\")));\n",
       "    "
      ],
      "text/plain": [
       "<IPython.core.display.Javascript object>"
      ]
     },
     "metadata": {},
     "output_type": "display_data"
    },
    {
     "data": {
      "application/javascript": [
       "$('span:contains(\"# Temp\")').closest('.cell').remove();"
      ],
      "text/plain": [
       "<IPython.core.display.Javascript object>"
      ]
     },
     "metadata": {},
     "output_type": "display_data"
    },
    {
     "data": {
      "application/javascript": [
       "\n",
       "        $('span:contains(\"# Temp\")').closest('.cell').remove();\n",
       "        var code = IPython.notebook.insert_cell_below('code');\n",
       "        var prompt = code.element.find(\".input_prompt\");\n",
       "        prompt.append('<br><button style=\"height: 100%; width: 54px;\">Run</button>');\n",
       "        prompt.on(\"click\", \"button\", function(){\n",
       "            code.execute();\n",
       "        });\n",
       "        code.set_text(decodeURIComponent(window.atob(\"JTIzJTIwVGVtcCUwQWluc2VydCUyOCUyNyUyNyUyNyUwQWJlcnp0aXNzMjAwMmElMjAlM0QlMjBEQiUyOFdvcmtVbnJlbGF0ZWQlMjglMEElMjAlMjAlMjAlMjAyMDAyJTJDJTIwJTIyQ2FwYWJpbGl0eSUyMG1hdHVyaXR5JTIwZm9yJTIwa25vd2xlZGdlJTIwbWFuYWdlbWVudCUyMiUyQyUwQSUyMCUyMCUyMCUyMGRpc3BsYXklM0QlMjJiZXJ6dGlzcyUyMiUyQyUwQSUyMCUyMCUyMCUyMGF1dGhvcnMlM0QlMjJCZXJ6dGlzcyUyQyUyMEEuVC4lMjIlMkMlMEElMjAlMjAlMjAlMjBwbGFjZSUzREZBS0UlMkMlMEElMjAlMjAlMjAlMjBwcCUzRCUyMjE2Mi0xNjYlMjIlMkMlMEElMjAlMjAlMjAlMjBlbnRyeXR5cGUlM0QlMjJjb25mZXJlbmNlJTIyJTJDJTBBJTIwJTIwJTIwJTIwdm9sdW1lJTNEJTIyMjAwMi1KYW51YXJ5JTIyJTJDJTBBJTIwJTIwJTIwJTIwYXJ0X251bWJlciUzRCUyMjEwNDU4OTMlMjIlMkMlMEElMjAlMjAlMjAlMjBsaW5rJTNEJTIyaHR0cHMlM0EvL3d3dy5zY29wdXMuY29tL2lud2FyZC9yZWNvcmQudXJpJTNGZWlkJTNEMi1zMi4wLTg0OTQ4NjcxNjI1JTI2ZG9pJTNEMTAuMTEwOSUyNTJmREVYQS4yMDAyLjEwNDU4OTMlMjZwYXJ0bmVySUQlM0Q0MCUyNm1kNSUzRDIxY2RhNjM1ODM3YTZiNTEyZjMzZWZiMGQ4NDY3ZDA0JTIyJTJDJTBBJTIwJTIwJTIwJTIwSUQlM0QlMjJCZXJ6dGlzczIwMDIxNjIlMjIlMkMlMEElMjAlMjAlMjAlMjBzY29wdXMyMDE2JTNEJTIyMSUyMiUyQyUwQSUyMCUyMCUyMCUyMHBsYWNleCUzRCUyMlByb2NlZWRpbmdzJTIwLSUyMEludGVybmF0aW9uYWwlMjBXb3Jrc2hvcCUyMG9uJTIwRGF0YWJhc2UlMjBhbmQlMjBFeHBlcnQlMjBTeXN0ZW1zJTIwQXBwbGljYXRpb25zJTJDJTIwREVYQSUyMiUyQyUwQSUyOSUyOSUwQSUyNyUyNyUyNyUyOSUzQg==\")));\n",
       "    "
      ],
      "text/plain": [
       "<IPython.core.display.Javascript object>"
      ]
     },
     "metadata": {},
     "output_type": "display_data"
    },
    {
     "data": {
      "application/javascript": [
       "$('span:contains(\"# Temp\")').closest('.cell').remove();"
      ],
      "text/plain": [
       "<IPython.core.display.Javascript object>"
      ]
     },
     "metadata": {},
     "output_type": "display_data"
    },
    {
     "data": {
      "application/javascript": [
       "\n",
       "        $('span:contains(\"# Temp\")').closest('.cell').remove();\n",
       "        var code = IPython.notebook.insert_cell_below('code');\n",
       "        var prompt = code.element.find(\".input_prompt\");\n",
       "        prompt.append('<br><button style=\"height: 100%; width: 54px;\">Run</button>');\n",
       "        prompt.on(\"click\", \"button\", function(){\n",
       "            code.execute();\n",
       "        });\n",
       "        code.set_text(decodeURIComponent(window.atob(\"JTIzJTIwVGVtcCUwQWluc2VydCUyOCUyNyUyNyUyNyUwQWthamtvMjAwMmElMjAlM0QlMjBEQiUyOFdvcmtVbnJlbGF0ZWQlMjglMEElMjAlMjAlMjAlMjAyMDAyJTJDJTIwJTIyQ29ycmVjdGl2ZSUyMG1haW50ZW5hbmNlJTIwbWF0dXJpdHklMjBtb2RlbCUzQSUyMFByb2JsZW0lMjBtYW5hZ2VtZW50JTIyJTJDJTBBJTIwJTIwJTIwJTIwZGlzcGxheSUzRCUyMmthamtvJTIyJTJDJTBBJTIwJTIwJTIwJTIwYXV0aG9ycyUzRCUyMkthamtvLU1hdHRzc29uJTJDJTIwTS4lMjIlMkMlMEElMjAlMjAlMjAlMjBwbGFjZSUzREZBS0UlMkMlMEElMjAlMjAlMjAlMjBwcCUzRCUyMjQ4Ni00OTAlMjIlMkMlMEElMjAlMjAlMjAlMjBlbnRyeXR5cGUlM0QlMjJjb25mZXJlbmNlJTIyJTJDJTBBJTIwJTIwJTIwJTIwbGluayUzRCUyMmh0dHBzJTNBLy93d3cuc2NvcHVzLmNvbS9pbndhcmQvcmVjb3JkLnVyaSUzRmVpZCUzRDItczIuMC0wMDM2NDQyNDYyJTI2cGFydG5lcklEJTNENDAlMjZtZDUlM0Q3YTBiMDkxYzBjMmJjZTQ3MjMzY2M3ZGFkYTcxNTY0MSUyMiUyQyUwQSUyMCUyMCUyMCUyMElEJTNEJTIyS2Fqa28tTWF0dHNzb24yMDAyNDg2JTIyJTJDJTBBJTIwJTIwJTIwJTIwc2NvcHVzMjAxNiUzRCUyMjElMjIlMkMlMEElMjAlMjAlMjAlMjBwbGFjZXglM0QlMjJDb25mZXJlbmNlJTIwb24lMjBTb2Z0d2FyZSUyME1haW50ZW5hbmNlJTIyJTJDJTBBJTI5JTI5JTBBJTI3JTI3JTI3JTI5JTNC\")));\n",
       "    "
      ],
      "text/plain": [
       "<IPython.core.display.Javascript object>"
      ]
     },
     "metadata": {},
     "output_type": "display_data"
    },
    {
     "data": {
      "application/javascript": [
       "$('span:contains(\"# Temp\")').closest('.cell').remove();"
      ],
      "text/plain": [
       "<IPython.core.display.Javascript object>"
      ]
     },
     "metadata": {},
     "output_type": "display_data"
    },
    {
     "data": {
      "application/javascript": [
       "\n",
       "        $('span:contains(\"# Temp\")').closest('.cell').remove();\n",
       "        var code = IPython.notebook.insert_cell_below('code');\n",
       "        var prompt = code.element.find(\".input_prompt\");\n",
       "        prompt.append('<br><button style=\"height: 100%; width: 54px;\">Run</button>');\n",
       "        prompt.on(\"click\", \"button\", function(){\n",
       "            code.execute();\n",
       "        });\n",
       "        code.set_text(decodeURIComponent(window.atob(\"JTIzJTIwVGVtcCUwQWluc2VydCUyOCUyNyUyNyUyNyUwQWthamtvMjAwMmElMjAlM0QlMjBEQiUyOFdvcmtVbnJlbGF0ZWQlMjglMEElMjAlMjAlMjAlMjAyMDAyJTJDJTIwJTIyQ29ycmVjdGl2ZSUyMG1haW50ZW5hbmNlJTIwbWF0dXJpdHklMjBtb2RlbCUzQSUyMFByb2JsZW0lMjBtYW5hZ2VtZW50JTIyJTJDJTBBJTIwJTIwJTIwJTIwZGlzcGxheSUzRCUyMmthamtvJTIyJTJDJTBBJTIwJTIwJTIwJTIwYXV0aG9ycyUzRCUyMkthamtvLU1hdHRzc29uJTJDJTIwTS4lMjIlMkMlMEElMjAlMjAlMjAlMjBwbGFjZSUzREZBS0UlMkMlMEElMjAlMjAlMjAlMjBwcCUzRCUyMjQ4Ni00OTAlMjIlMkMlMEElMjAlMjAlMjAlMjBlbnRyeXR5cGUlM0QlMjJjb25mZXJlbmNlJTIyJTJDJTBBJTIwJTIwJTIwJTIwbGluayUzRCUyMmh0dHBzJTNBLy93d3cuc2NvcHVzLmNvbS9pbndhcmQvcmVjb3JkLnVyaSUzRmVpZCUzRDItczIuMC0wMDM2NDQyNDYyJTI2cGFydG5lcklEJTNENDAlMjZtZDUlM0Q3YTBiMDkxYzBjMmJjZTQ3MjMzY2M3ZGFkYTcxNTY0MSUyMiUyQyUwQSUyMCUyMCUyMCUyMElEJTNEJTIyS2Fqa28tTWF0dHNzb24yMDAyNDg2JTIyJTJDJTBBJTIwJTIwJTIwJTIwc2NvcHVzMjAxNiUzRCUyMjElMjIlMkMlMEElMjAlMjAlMjAlMjBwbGFjZXglM0QlMjJDb25mZXJlbmNlJTIwb24lMjBTb2Z0d2FyZSUyME1haW50ZW5hbmNlJTIyJTJDJTBBJTI5JTI5JTBBJTI3JTI3JTI3JTI5JTNC\")));\n",
       "    "
      ],
      "text/plain": [
       "<IPython.core.display.Javascript object>"
      ]
     },
     "metadata": {},
     "output_type": "display_data"
    },
    {
     "data": {
      "application/javascript": [
       "$('span:contains(\"# Temp\")').closest('.cell').remove();"
      ],
      "text/plain": [
       "<IPython.core.display.Javascript object>"
      ]
     },
     "metadata": {},
     "output_type": "display_data"
    },
    {
     "data": {
      "application/javascript": [
       "\n",
       "        $('span:contains(\"# Temp\")').closest('.cell').remove();\n",
       "        var code = IPython.notebook.insert_cell_below('code');\n",
       "        var prompt = code.element.find(\".input_prompt\");\n",
       "        prompt.append('<br><button style=\"height: 100%; width: 54px;\">Run</button>');\n",
       "        prompt.on(\"click\", \"button\", function(){\n",
       "            code.execute();\n",
       "        });\n",
       "        code.set_text(decodeURIComponent(window.atob(\"JTIzJTIwVGVtcCUwQWluc2VydCUyOCUyNyUyNyUyNyUyNyUyNyUyNyUyOSUzQg==\")));\n",
       "    "
      ],
      "text/plain": [
       "<IPython.core.display.Javascript object>"
      ]
     },
     "metadata": {},
     "output_type": "display_data"
    },
    {
     "data": {
      "application/javascript": [
       "$('span:contains(\"# Temp\")').closest('.cell').remove();"
      ],
      "text/plain": [
       "<IPython.core.display.Javascript object>"
      ]
     },
     "metadata": {},
     "output_type": "display_data"
    },
    {
     "data": {
      "application/javascript": [
       "\n",
       "        $('span:contains(\"# Temp\")').closest('.cell').remove();\n",
       "        var code = IPython.notebook.insert_cell_below('code');\n",
       "        var prompt = code.element.find(\".input_prompt\");\n",
       "        prompt.append('<br><button style=\"height: 100%; width: 54px;\">Run</button>');\n",
       "        prompt.on(\"click\", \"button\", function(){\n",
       "            code.execute();\n",
       "        });\n",
       "        code.set_text(decodeURIComponent(window.atob(\"JTIzJTIwVGVtcCUwQWluc2VydCUyOCUyNyUyNyUyNyUyNyUyNyUyNyUyOSUzQg==\")));\n",
       "    "
      ],
      "text/plain": [
       "<IPython.core.display.Javascript object>"
      ]
     },
     "metadata": {},
     "output_type": "display_data"
    },
    {
     "data": {
      "application/javascript": [
       "$('span:contains(\"# Temp\")').closest('.cell').remove();"
      ],
      "text/plain": [
       "<IPython.core.display.Javascript object>"
      ]
     },
     "metadata": {},
     "output_type": "display_data"
    },
    {
     "data": {
      "application/javascript": [
       "\n",
       "        $('span:contains(\"# Temp\")').closest('.cell').remove();\n",
       "        var code = IPython.notebook.insert_cell_below('code');\n",
       "        var prompt = code.element.find(\".input_prompt\");\n",
       "        prompt.append('<br><button style=\"height: 100%; width: 54px;\">Run</button>');\n",
       "        prompt.on(\"click\", \"button\", function(){\n",
       "            code.execute();\n",
       "        });\n",
       "        code.set_text(decodeURIComponent(window.atob(\"JTIzJTIwVGVtcCUwQWluc2VydCUyOCUyNyUyNyUyNyUyNyUyNyUyNyUyOSUzQg==\")));\n",
       "    "
      ],
      "text/plain": [
       "<IPython.core.display.Javascript object>"
      ]
     },
     "metadata": {},
     "output_type": "display_data"
    },
    {
     "data": {
      "application/javascript": [
       "$('span:contains(\"# Temp\")').closest('.cell').remove();"
      ],
      "text/plain": [
       "<IPython.core.display.Javascript object>"
      ]
     },
     "metadata": {},
     "output_type": "display_data"
    },
    {
     "data": {
      "application/javascript": [
       "\n",
       "        $('span:contains(\"# Temp\")').closest('.cell').remove();\n",
       "        var code = IPython.notebook.insert_cell_below('code');\n",
       "        var prompt = code.element.find(\".input_prompt\");\n",
       "        prompt.append('<br><button style=\"height: 100%; width: 54px;\">Run</button>');\n",
       "        prompt.on(\"click\", \"button\", function(){\n",
       "            code.execute();\n",
       "        });\n",
       "        code.set_text(decodeURIComponent(window.atob(\"JTIzJTIwVGVtcCUwQWluc2VydCUyOCUyNyUyNyUyNyUyNyUyNyUyNyUyOSUzQg==\")));\n",
       "    "
      ],
      "text/plain": [
       "<IPython.core.display.Javascript object>"
      ]
     },
     "metadata": {},
     "output_type": "display_data"
    },
    {
     "data": {
      "application/javascript": [
       "$('span:contains(\"# Temp\")').closest('.cell').remove();"
      ],
      "text/plain": [
       "<IPython.core.display.Javascript object>"
      ]
     },
     "metadata": {},
     "output_type": "display_data"
    },
    {
     "data": {
      "application/javascript": [
       "\n",
       "        $('span:contains(\"# Temp\")').closest('.cell').remove();\n",
       "        var code = IPython.notebook.insert_cell_below('code');\n",
       "        var prompt = code.element.find(\".input_prompt\");\n",
       "        prompt.append('<br><button style=\"height: 100%; width: 54px;\">Run</button>');\n",
       "        prompt.on(\"click\", \"button\", function(){\n",
       "            code.execute();\n",
       "        });\n",
       "        code.set_text(decodeURIComponent(window.atob(\"JTIzJTIwVGVtcCUwQWluc2VydCUyOCUyNyUyNyUyNyUyNyUyNyUyNyUyOSUzQg==\")));\n",
       "    "
      ],
      "text/plain": [
       "<IPython.core.display.Javascript object>"
      ]
     },
     "metadata": {},
     "output_type": "display_data"
    },
    {
     "data": {
      "application/javascript": [
       "$('span:contains(\"# Temp\")').closest('.cell').remove();"
      ],
      "text/plain": [
       "<IPython.core.display.Javascript object>"
      ]
     },
     "metadata": {},
     "output_type": "display_data"
    },
    {
     "data": {
      "application/javascript": [
       "\n",
       "        $('span:contains(\"# Temp\")').closest('.cell').remove();\n",
       "        var code = IPython.notebook.insert_cell_below('code');\n",
       "        var prompt = code.element.find(\".input_prompt\");\n",
       "        prompt.append('<br><button style=\"height: 100%; width: 54px;\">Run</button>');\n",
       "        prompt.on(\"click\", \"button\", function(){\n",
       "            code.execute();\n",
       "        });\n",
       "        code.set_text(decodeURIComponent(window.atob(\"JTIzJTIwVGVtcCUwQWluc2VydCUyOCUyNyUyNyUyNyUyNyUyNyUyNyUyOSUzQg==\")));\n",
       "    "
      ],
      "text/plain": [
       "<IPython.core.display.Javascript object>"
      ]
     },
     "metadata": {},
     "output_type": "display_data"
    },
    {
     "data": {
      "application/javascript": [
       "$('span:contains(\"# Temp\")').closest('.cell').remove();"
      ],
      "text/plain": [
       "<IPython.core.display.Javascript object>"
      ]
     },
     "metadata": {},
     "output_type": "display_data"
    },
    {
     "data": {
      "application/javascript": [
       "\n",
       "        $('span:contains(\"# Temp\")').closest('.cell').remove();\n",
       "        var code = IPython.notebook.insert_cell_below('code');\n",
       "        var prompt = code.element.find(\".input_prompt\");\n",
       "        prompt.append('<br><button style=\"height: 100%; width: 54px;\">Run</button>');\n",
       "        prompt.on(\"click\", \"button\", function(){\n",
       "            code.execute();\n",
       "        });\n",
       "        code.set_text(decodeURIComponent(window.atob(\"JTIzJTIwVGVtcCUwQWluc2VydCUyOCUyNyUyNyUyNyUyNyUyNyUyNyUyOSUzQg==\")));\n",
       "    "
      ],
      "text/plain": [
       "<IPython.core.display.Javascript object>"
      ]
     },
     "metadata": {},
     "output_type": "display_data"
    },
    {
     "data": {
      "application/javascript": [
       "$('span:contains(\"# Temp\")').closest('.cell').remove();"
      ],
      "text/plain": [
       "<IPython.core.display.Javascript object>"
      ]
     },
     "metadata": {},
     "output_type": "display_data"
    },
    {
     "data": {
      "application/javascript": [
       "\n",
       "        $('span:contains(\"# Temp\")').closest('.cell').remove();\n",
       "        var code = IPython.notebook.insert_cell_below('code');\n",
       "        var prompt = code.element.find(\".input_prompt\");\n",
       "        prompt.append('<br><button style=\"height: 100%; width: 54px;\">Run</button>');\n",
       "        prompt.on(\"click\", \"button\", function(){\n",
       "            code.execute();\n",
       "        });\n",
       "        code.set_text(decodeURIComponent(window.atob(\"JTIzJTIwVGVtcCUwQWluc2VydCUyOCUyNyUyNyUyNyUyNyUyNyUyNyUyOSUzQg==\")));\n",
       "    "
      ],
      "text/plain": [
       "<IPython.core.display.Javascript object>"
      ]
     },
     "metadata": {},
     "output_type": "display_data"
    },
    {
     "data": {
      "application/javascript": [
       "$('span:contains(\"# Temp\")').closest('.cell').remove();"
      ],
      "text/plain": [
       "<IPython.core.display.Javascript object>"
      ]
     },
     "metadata": {},
     "output_type": "display_data"
    },
    {
     "data": {
      "application/javascript": [
       "\n",
       "        $('span:contains(\"# Temp\")').closest('.cell').remove();\n",
       "        var code = IPython.notebook.insert_cell_below('code');\n",
       "        var prompt = code.element.find(\".input_prompt\");\n",
       "        prompt.append('<br><button style=\"height: 100%; width: 54px;\">Run</button>');\n",
       "        prompt.on(\"click\", \"button\", function(){\n",
       "            code.execute();\n",
       "        });\n",
       "        code.set_text(decodeURIComponent(window.atob(\"JTIzJTIwVGVtcCUwQWluc2VydCUyOCUyNyUyNyUyNyUyNyUyNyUyNyUyOSUzQg==\")));\n",
       "    "
      ],
      "text/plain": [
       "<IPython.core.display.Javascript object>"
      ]
     },
     "metadata": {},
     "output_type": "display_data"
    },
    {
     "data": {
      "application/javascript": [
       "$('span:contains(\"# Temp\")').closest('.cell').remove();"
      ],
      "text/plain": [
       "<IPython.core.display.Javascript object>"
      ]
     },
     "metadata": {},
     "output_type": "display_data"
    },
    {
     "data": {
      "application/javascript": [
       "\n",
       "        $('span:contains(\"# Temp\")').closest('.cell').remove();\n",
       "        var code = IPython.notebook.insert_cell_below('code');\n",
       "        var prompt = code.element.find(\".input_prompt\");\n",
       "        prompt.append('<br><button style=\"height: 100%; width: 54px;\">Run</button>');\n",
       "        prompt.on(\"click\", \"button\", function(){\n",
       "            code.execute();\n",
       "        });\n",
       "        code.set_text(decodeURIComponent(window.atob(\"JTIzJTIwVGVtcCUwQWluc2VydCUyOCUyNyUyNyUyNyUyNyUyNyUyNyUyOSUzQg==\")));\n",
       "    "
      ],
      "text/plain": [
       "<IPython.core.display.Javascript object>"
      ]
     },
     "metadata": {},
     "output_type": "display_data"
    },
    {
     "data": {
      "application/javascript": [
       "$('span:contains(\"# Temp\")').closest('.cell').remove();"
      ],
      "text/plain": [
       "<IPython.core.display.Javascript object>"
      ]
     },
     "metadata": {},
     "output_type": "display_data"
    },
    {
     "data": {
      "application/javascript": [
       "\n",
       "        $('span:contains(\"# Temp\")').closest('.cell').remove();\n",
       "        var code = IPython.notebook.insert_cell_below('code');\n",
       "        var prompt = code.element.find(\".input_prompt\");\n",
       "        prompt.append('<br><button style=\"height: 100%; width: 54px;\">Run</button>');\n",
       "        prompt.on(\"click\", \"button\", function(){\n",
       "            code.execute();\n",
       "        });\n",
       "        code.set_text(decodeURIComponent(window.atob(\"JTIzJTIwVGVtcCUwQWluc2VydCUyOCUyNyUyNyUyNyUyNyUyNyUyNyUyOSUzQg==\")));\n",
       "    "
      ],
      "text/plain": [
       "<IPython.core.display.Javascript object>"
      ]
     },
     "metadata": {},
     "output_type": "display_data"
    },
    {
     "data": {
      "application/javascript": [
       "$('span:contains(\"# Temp\")').closest('.cell').remove();"
      ],
      "text/plain": [
       "<IPython.core.display.Javascript object>"
      ]
     },
     "metadata": {},
     "output_type": "display_data"
    },
    {
     "data": {
      "application/javascript": [
       "\n",
       "        $('span:contains(\"# Temp\")').closest('.cell').remove();\n",
       "        var code = IPython.notebook.insert_cell_below('code');\n",
       "        var prompt = code.element.find(\".input_prompt\");\n",
       "        prompt.append('<br><button style=\"height: 100%; width: 54px;\">Run</button>');\n",
       "        prompt.on(\"click\", \"button\", function(){\n",
       "            code.execute();\n",
       "        });\n",
       "        code.set_text(decodeURIComponent(window.atob(\"JTIzJTIwVGVtcCUwQWluc2VydCUyOCUyNyUyNyUyNyUyNyUyNyUyNyUyOSUzQg==\")));\n",
       "    "
      ],
      "text/plain": [
       "<IPython.core.display.Javascript object>"
      ]
     },
     "metadata": {},
     "output_type": "display_data"
    },
    {
     "data": {
      "application/javascript": [
       "$('span:contains(\"# Temp\")').closest('.cell').remove();"
      ],
      "text/plain": [
       "<IPython.core.display.Javascript object>"
      ]
     },
     "metadata": {},
     "output_type": "display_data"
    },
    {
     "data": {
      "application/javascript": [
       "\n",
       "        $('span:contains(\"# Temp\")').closest('.cell').remove();\n",
       "        var code = IPython.notebook.insert_cell_below('code');\n",
       "        var prompt = code.element.find(\".input_prompt\");\n",
       "        prompt.append('<br><button style=\"height: 100%; width: 54px;\">Run</button>');\n",
       "        prompt.on(\"click\", \"button\", function(){\n",
       "            code.execute();\n",
       "        });\n",
       "        code.set_text(decodeURIComponent(window.atob(\"JTIzJTIwVGVtcCUwQWluc2VydCUyOCUyNyUyNyUyNyUyNyUyNyUyNyUyOSUzQg==\")));\n",
       "    "
      ],
      "text/plain": [
       "<IPython.core.display.Javascript object>"
      ]
     },
     "metadata": {},
     "output_type": "display_data"
    },
    {
     "data": {
      "application/javascript": [
       "$('span:contains(\"# Temp\")').closest('.cell').remove();"
      ],
      "text/plain": [
       "<IPython.core.display.Javascript object>"
      ]
     },
     "metadata": {},
     "output_type": "display_data"
    },
    {
     "data": {
      "application/javascript": [
       "\n",
       "        $('span:contains(\"# Temp\")').closest('.cell').remove();\n",
       "        var code = IPython.notebook.insert_cell_below('code');\n",
       "        var prompt = code.element.find(\".input_prompt\");\n",
       "        prompt.append('<br><button style=\"height: 100%; width: 54px;\">Run</button>');\n",
       "        prompt.on(\"click\", \"button\", function(){\n",
       "            code.execute();\n",
       "        });\n",
       "        code.set_text(decodeURIComponent(window.atob(\"JTIzJTIwVGVtcCUwQWluc2VydCUyOCUyNyUyNyUyNyUyNyUyNyUyNyUyOSUzQg==\")));\n",
       "    "
      ],
      "text/plain": [
       "<IPython.core.display.Javascript object>"
      ]
     },
     "metadata": {},
     "output_type": "display_data"
    },
    {
     "data": {
      "application/javascript": [
       "$('span:contains(\"# Temp\")').closest('.cell').remove();"
      ],
      "text/plain": [
       "<IPython.core.display.Javascript object>"
      ]
     },
     "metadata": {},
     "output_type": "display_data"
    },
    {
     "data": {
      "application/javascript": [
       "\n",
       "        $('span:contains(\"# Temp\")').closest('.cell').remove();\n",
       "        var code = IPython.notebook.insert_cell_below('code');\n",
       "        var prompt = code.element.find(\".input_prompt\");\n",
       "        prompt.append('<br><button style=\"height: 100%; width: 54px;\">Run</button>');\n",
       "        prompt.on(\"click\", \"button\", function(){\n",
       "            code.execute();\n",
       "        });\n",
       "        code.set_text(decodeURIComponent(window.atob(\"JTIzJTIwVGVtcCUwQWluc2VydCUyOCUyNyUyNyUyNyUwQXBhbG9tJUMzJUE0a2kyMDA2YiUyMCUzRCUyMERCJTI4V29ya1VucmVsYXRlZCUyOCUwQSUyMCUyMCUyMCUyMDIwMDYlMkMlMjAlMjJBJTIwcHJvY2Vzcy1vbnRvbG9naWNhbCUyMG1vZGVsJTIwZm9yJTIwc29mdHdhcmUlMjBlbmdpbmVlcmluZyUyMiUyQyUwQSUyMCUyMCUyMCUyMGRpc3BsYXklM0QlMjJwYWxvbSVDMyVBNGtpJTIwYiUyMiUyQyUwQSUyMCUyMCUyMCUyMGF1dGhvcnMlM0QlMjJQYWxvbSVDMyVBNGtpJTJDJTIwSi4lMjBhbmQlMjBLZXRvJTJDJTIwSC4lMjIlMkMlMEElMjAlMjAlMjAlMjBwbGFjZSUzREZBS0UlMkMlMEElMjAlMjAlMjAlMjBwcCUzRCUyMjcyMC03MjYlMjIlMkMlMEElMjAlMjAlMjAlMjBlbnRyeXR5cGUlM0QlMjJjb25mZXJlbmNlJTIyJTJDJTBBJTIwJTIwJTIwJTIwdm9sdW1lJTNEJTIyMjQwJTIyJTJDJTBBJTIwJTIwJTIwJTIwbGluayUzRCUyMmh0dHBzJTNBLy93d3cuc2NvcHVzLmNvbS9pbndhcmQvcmVjb3JkLnVyaSUzRmVpZCUzRDItczIuMC04NDg4NDc1MjA0NSUyNnBhcnRuZXJJRCUzRDQwJTI2bWQ1JTNEMTJlMTgxNjNjYjc3YTE2NWMwNjZlYjY1YzY3NDM5MTYlMjIlMkMlMEElMjAlMjAlMjAlMjBJRCUzRCUyMlBhbG9tJUMzJUE0a2kyMDA2NzIwJTIyJTJDJTBBJTIwJTIwJTIwJTIwc2NvcHVzMjAxNiUzRCUyMjElMjIlMkMlMEElMjAlMjAlMjAlMjBwbGFjZXglM0QlMjJDRVVSJTIwV29ya3Nob3AlMjBQcm9jZWVkaW5ncyUyMiUyQyUwQSUyOSUyOSUwQSUyNyUyNyUyNyUyOSUzQg==\")));\n",
       "    "
      ],
      "text/plain": [
       "<IPython.core.display.Javascript object>"
      ]
     },
     "metadata": {},
     "output_type": "display_data"
    },
    {
     "data": {
      "application/javascript": [
       "$('span:contains(\"# Temp\")').closest('.cell').remove();"
      ],
      "text/plain": [
       "<IPython.core.display.Javascript object>"
      ]
     },
     "metadata": {},
     "output_type": "display_data"
    },
    {
     "data": {
      "application/javascript": [
       "\n",
       "        $('span:contains(\"# Temp\")').closest('.cell').remove();\n",
       "        var code = IPython.notebook.insert_cell_below('code');\n",
       "        var prompt = code.element.find(\".input_prompt\");\n",
       "        prompt.append('<br><button style=\"height: 100%; width: 54px;\">Run</button>');\n",
       "        prompt.on(\"click\", \"button\", function(){\n",
       "            code.execute();\n",
       "        });\n",
       "        code.set_text(decodeURIComponent(window.atob(\"JTIzJTIwVGVtcCUwQWluc2VydCUyOCUyNyUyNyUyNyUwQXBhbG9tJUMzJUE0a2kyMDA2YiUyMCUzRCUyMERCJTI4V29ya1VucmVsYXRlZCUyOCUwQSUyMCUyMCUyMCUyMDIwMDYlMkMlMjAlMjJBJTIwcHJvY2Vzcy1vbnRvbG9naWNhbCUyMG1vZGVsJTIwZm9yJTIwc29mdHdhcmUlMjBlbmdpbmVlcmluZyUyMiUyQyUwQSUyMCUyMCUyMCUyMGRpc3BsYXklM0QlMjJwYWxvbSVDMyVBNGtpJTIwYiUyMiUyQyUwQSUyMCUyMCUyMCUyMGF1dGhvcnMlM0QlMjJQYWxvbSVDMyVBNGtpJTJDJTIwSi4lMjBhbmQlMjBLZXRvJTJDJTIwSC4lMjIlMkMlMEElMjAlMjAlMjAlMjBwbGFjZSUzREZBS0UlMkMlMEElMjAlMjAlMjAlMjBwcCUzRCUyMjcyMC03MjYlMjIlMkMlMEElMjAlMjAlMjAlMjBlbnRyeXR5cGUlM0QlMjJjb25mZXJlbmNlJTIyJTJDJTBBJTIwJTIwJTIwJTIwdm9sdW1lJTNEJTIyMjQwJTIyJTJDJTBBJTIwJTIwJTIwJTIwbGluayUzRCUyMmh0dHBzJTNBLy93d3cuc2NvcHVzLmNvbS9pbndhcmQvcmVjb3JkLnVyaSUzRmVpZCUzRDItczIuMC04NDg4NDc1MjA0NSUyNnBhcnRuZXJJRCUzRDQwJTI2bWQ1JTNEMTJlMTgxNjNjYjc3YTE2NWMwNjZlYjY1YzY3NDM5MTYlMjIlMkMlMEElMjAlMjAlMjAlMjBJRCUzRCUyMlBhbG9tJUMzJUE0a2kyMDA2NzIwJTIyJTJDJTBBJTIwJTIwJTIwJTIwc2NvcHVzMjAxNiUzRCUyMjElMjIlMkMlMEElMjAlMjAlMjAlMjBwbGFjZXglM0QlMjJDRVVSJTIwV29ya3Nob3AlMjBQcm9jZWVkaW5ncyUyMiUyQyUwQSUyOSUyOSUwQSUyNyUyNyUyNyUyOSUzQg==\")));\n",
       "    "
      ],
      "text/plain": [
       "<IPython.core.display.Javascript object>"
      ]
     },
     "metadata": {},
     "output_type": "display_data"
    },
    {
     "data": {
      "application/javascript": [
       "$('span:contains(\"# Temp\")').closest('.cell').remove();"
      ],
      "text/plain": [
       "<IPython.core.display.Javascript object>"
      ]
     },
     "metadata": {},
     "output_type": "display_data"
    },
    {
     "data": {
      "application/javascript": [
       "\n",
       "        $('span:contains(\"# Temp\")').closest('.cell').remove();\n",
       "        var code = IPython.notebook.insert_cell_below('code');\n",
       "        var prompt = code.element.find(\".input_prompt\");\n",
       "        prompt.append('<br><button style=\"height: 100%; width: 54px;\">Run</button>');\n",
       "        prompt.on(\"click\", \"button\", function(){\n",
       "            code.execute();\n",
       "        });\n",
       "        code.set_text(decodeURIComponent(window.atob(\"JTIzJTIwVGVtcCUwQWluc2VydCUyOCUyNyUyNyUyNyUwQXJ1aXoyMDA2YSUyMCUzRCUyMERCJTI4V29ya1VucmVsYXRlZCUyOCUwQSUyMCUyMCUyMCUyMDIwMDYlMkMlMjAlMjJVc2luZyUyMG9udG9sb2dpZXMlMjBpbiUyMHNvZnR3YXJlJTIwZW5naW5lZXJpbmclMjBhbmQlMjB0ZWNobm9sb2d5JTIyJTJDJTBBJTIwJTIwJTIwJTIwZGlzcGxheSUzRCUyMnJ1aXolMjIlMkMlMEElMjAlMjAlMjAlMjBhdXRob3JzJTNEJTIyUnVpeiUyQyUyMEYuJTIwYW5kJTIwSGlsZXJhJTJDJTIwSi5SLiUyMiUyQyUwQSUyMCUyMCUyMCUyMHBsYWNlJTNEQm9vayUyQyUwQSUyMCUyMCUyMCUyMHBwJTNEJTIyNDktMTAyJTIyJTJDJTBBJTIwJTIwJTIwJTIwZW50cnl0eXBlJTNEJTIyYm9vayUyMiUyQyUwQSUyMCUyMCUyMCUyMGxpbmslM0QlMjJodHRwcyUzQS8vd3d3LnNjb3B1cy5jb20vaW53YXJkL3JlY29yZC51cmklM0ZlaWQlM0QyLXMyLjAtODQ4OTIyOTgzNTAlMjZkb2klM0QxMC4xMDA3JTI1MmYzLTU0MC0zNDUxOC0zXzIlMjZwYXJ0bmVySUQlM0Q0MCUyNm1kNSUzRDkwZjY3Nzg0MjBkNGZiY2M5NGE4ZDA5MDgzYzNiMjY1JTIyJTJDJTBBJTIwJTIwJTIwJTIwSUQlM0QlMjJSdWl6MjAwNjQ5JTIyJTJDJTBBJTIwJTIwJTIwJTIwc2NvcHVzMjAxNiUzRCUyMjElMjIlMkMlMEElMjAlMjAlMjAlMjBwbGFjZXglM0QlMjJPbnRvbG9naWVzJTIwZm9yJTIwU29mdHdhcmUlMjBFbmdpbmVlcmluZyUyMGFuZCUyMFNvZnR3YXJlJTIwVGVjaG5vbG9neSUyMiUyQyUwQSUyOSUyOSUwQSUyNyUyNyUyNyUyOSUzQg==\")));\n",
       "    "
      ],
      "text/plain": [
       "<IPython.core.display.Javascript object>"
      ]
     },
     "metadata": {},
     "output_type": "display_data"
    },
    {
     "data": {
      "application/javascript": [
       "$('span:contains(\"# Temp\")').closest('.cell').remove();"
      ],
      "text/plain": [
       "<IPython.core.display.Javascript object>"
      ]
     },
     "metadata": {},
     "output_type": "display_data"
    },
    {
     "data": {
      "application/javascript": [
       "\n",
       "        $('span:contains(\"# Temp\")').closest('.cell').remove();\n",
       "        var code = IPython.notebook.insert_cell_below('code');\n",
       "        var prompt = code.element.find(\".input_prompt\");\n",
       "        prompt.append('<br><button style=\"height: 100%; width: 54px;\">Run</button>');\n",
       "        prompt.on(\"click\", \"button\", function(){\n",
       "            code.execute();\n",
       "        });\n",
       "        code.set_text(decodeURIComponent(window.atob(\"JTIzJTIwVGVtcCUwQWluc2VydCUyOCUyNyUyNyUyNyUwQXJ1aXoyMDA2YSUyMCUzRCUyMERCJTI4V29ya1VucmVsYXRlZCUyOCUwQSUyMCUyMCUyMCUyMDIwMDYlMkMlMjAlMjJVc2luZyUyMG9udG9sb2dpZXMlMjBpbiUyMHNvZnR3YXJlJTIwZW5naW5lZXJpbmclMjBhbmQlMjB0ZWNobm9sb2d5JTIyJTJDJTBBJTIwJTIwJTIwJTIwZGlzcGxheSUzRCUyMnJ1aXolMjIlMkMlMEElMjAlMjAlMjAlMjBhdXRob3JzJTNEJTIyUnVpeiUyQyUyMEYuJTIwYW5kJTIwSGlsZXJhJTJDJTIwSi5SLiUyMiUyQyUwQSUyMCUyMCUyMCUyMHBsYWNlJTNEQm9vayUyQyUwQSUyMCUyMCUyMCUyMHBwJTNEJTIyNDktMTAyJTIyJTJDJTBBJTIwJTIwJTIwJTIwZW50cnl0eXBlJTNEJTIyYm9vayUyMiUyQyUwQSUyMCUyMCUyMCUyMGxpbmslM0QlMjJodHRwcyUzQS8vd3d3LnNjb3B1cy5jb20vaW53YXJkL3JlY29yZC51cmklM0ZlaWQlM0QyLXMyLjAtODQ4OTIyOTgzNTAlMjZkb2klM0QxMC4xMDA3JTI1MmYzLTU0MC0zNDUxOC0zXzIlMjZwYXJ0bmVySUQlM0Q0MCUyNm1kNSUzRDkwZjY3Nzg0MjBkNGZiY2M5NGE4ZDA5MDgzYzNiMjY1JTIyJTJDJTBBJTIwJTIwJTIwJTIwSUQlM0QlMjJSdWl6MjAwNjQ5JTIyJTJDJTBBJTIwJTIwJTIwJTIwc2NvcHVzMjAxNiUzRCUyMjElMjIlMkMlMEElMjAlMjAlMjAlMjBwbGFjZXglM0QlMjJPbnRvbG9naWVzJTIwZm9yJTIwU29mdHdhcmUlMjBFbmdpbmVlcmluZyUyMGFuZCUyMFNvZnR3YXJlJTIwVGVjaG5vbG9neSUyMiUyQyUwQSUyOSUyOSUwQSUyNyUyNyUyNyUyOSUzQg==\")));\n",
       "    "
      ],
      "text/plain": [
       "<IPython.core.display.Javascript object>"
      ]
     },
     "metadata": {},
     "output_type": "display_data"
    },
    {
     "data": {
      "application/javascript": [
       "$('span:contains(\"# Temp\")').closest('.cell').remove();"
      ],
      "text/plain": [
       "<IPython.core.display.Javascript object>"
      ]
     },
     "metadata": {},
     "output_type": "display_data"
    },
    {
     "data": {
      "application/javascript": [
       "\n",
       "        $('span:contains(\"# Temp\")').closest('.cell').remove();\n",
       "        var code = IPython.notebook.insert_cell_below('code');\n",
       "        var prompt = code.element.find(\".input_prompt\");\n",
       "        prompt.append('<br><button style=\"height: 100%; width: 54px;\">Run</button>');\n",
       "        prompt.on(\"click\", \"button\", function(){\n",
       "            code.execute();\n",
       "        });\n",
       "        code.set_text(decodeURIComponent(window.atob(\"JTIzJTIwVGVtcCUwQWluc2VydCUyOCUyNyUyNyUyNyUyNyUyNyUyNyUyOSUzQg==\")));\n",
       "    "
      ],
      "text/plain": [
       "<IPython.core.display.Javascript object>"
      ]
     },
     "metadata": {},
     "output_type": "display_data"
    },
    {
     "data": {
      "application/javascript": [
       "$('span:contains(\"# Temp\")').closest('.cell').remove();"
      ],
      "text/plain": [
       "<IPython.core.display.Javascript object>"
      ]
     },
     "metadata": {},
     "output_type": "display_data"
    },
    {
     "data": {
      "application/javascript": [
       "\n",
       "        $('span:contains(\"# Temp\")').closest('.cell').remove();\n",
       "        var code = IPython.notebook.insert_cell_below('code');\n",
       "        var prompt = code.element.find(\".input_prompt\");\n",
       "        prompt.append('<br><button style=\"height: 100%; width: 54px;\">Run</button>');\n",
       "        prompt.on(\"click\", \"button\", function(){\n",
       "            code.execute();\n",
       "        });\n",
       "        code.set_text(decodeURIComponent(window.atob(\"JTIzJTIwVGVtcCUwQWluc2VydCUyOCUyNyUyNyUyNyUyNyUyNyUyNyUyOSUzQg==\")));\n",
       "    "
      ],
      "text/plain": [
       "<IPython.core.display.Javascript object>"
      ]
     },
     "metadata": {},
     "output_type": "display_data"
    },
    {
     "data": {
      "application/javascript": [
       "$('span:contains(\"# Temp\")').closest('.cell').remove();"
      ],
      "text/plain": [
       "<IPython.core.display.Javascript object>"
      ]
     },
     "metadata": {},
     "output_type": "display_data"
    },
    {
     "data": {
      "application/javascript": [
       "\n",
       "        $('span:contains(\"# Temp\")').closest('.cell').remove();\n",
       "        var code = IPython.notebook.insert_cell_below('code');\n",
       "        var prompt = code.element.find(\".input_prompt\");\n",
       "        prompt.append('<br><button style=\"height: 100%; width: 54px;\">Run</button>');\n",
       "        prompt.on(\"click\", \"button\", function(){\n",
       "            code.execute();\n",
       "        });\n",
       "        code.set_text(decodeURIComponent(window.atob(\"JTIzJTIwVGVtcCUwQWluc2VydCUyOCUyNyUyNyUyNyUyNyUyNyUyNyUyOSUzQg==\")));\n",
       "    "
      ],
      "text/plain": [
       "<IPython.core.display.Javascript object>"
      ]
     },
     "metadata": {},
     "output_type": "display_data"
    },
    {
     "data": {
      "application/javascript": [
       "$('span:contains(\"# Temp\")').closest('.cell').remove();"
      ],
      "text/plain": [
       "<IPython.core.display.Javascript object>"
      ]
     },
     "metadata": {},
     "output_type": "display_data"
    },
    {
     "data": {
      "application/javascript": [
       "\n",
       "        $('span:contains(\"# Temp\")').closest('.cell').remove();\n",
       "        var code = IPython.notebook.insert_cell_below('code');\n",
       "        var prompt = code.element.find(\".input_prompt\");\n",
       "        prompt.append('<br><button style=\"height: 100%; width: 54px;\">Run</button>');\n",
       "        prompt.on(\"click\", \"button\", function(){\n",
       "            code.execute();\n",
       "        });\n",
       "        code.set_text(decodeURIComponent(window.atob(\"JTIzJTIwVGVtcCUwQWluc2VydCUyOCUyNyUyNyUyNyUyNyUyNyUyNyUyOSUzQg==\")));\n",
       "    "
      ],
      "text/plain": [
       "<IPython.core.display.Javascript object>"
      ]
     },
     "metadata": {},
     "output_type": "display_data"
    },
    {
     "data": {
      "application/javascript": [
       "$('span:contains(\"# Temp\")').closest('.cell').remove();"
      ],
      "text/plain": [
       "<IPython.core.display.Javascript object>"
      ]
     },
     "metadata": {},
     "output_type": "display_data"
    },
    {
     "data": {
      "application/javascript": [
       "\n",
       "        $('span:contains(\"# Temp\")').closest('.cell').remove();\n",
       "        var code = IPython.notebook.insert_cell_below('code');\n",
       "        var prompt = code.element.find(\".input_prompt\");\n",
       "        prompt.append('<br><button style=\"height: 100%; width: 54px;\">Run</button>');\n",
       "        prompt.on(\"click\", \"button\", function(){\n",
       "            code.execute();\n",
       "        });\n",
       "        code.set_text(decodeURIComponent(window.atob(\"JTIzJTIwVGVtcCUwQWluc2VydCUyOCUyNyUyNyUyNyUyNyUyNyUyNyUyOSUzQg==\")));\n",
       "    "
      ],
      "text/plain": [
       "<IPython.core.display.Javascript object>"
      ]
     },
     "metadata": {},
     "output_type": "display_data"
    },
    {
     "data": {
      "application/javascript": [
       "$('span:contains(\"# Temp\")').closest('.cell').remove();"
      ],
      "text/plain": [
       "<IPython.core.display.Javascript object>"
      ]
     },
     "metadata": {},
     "output_type": "display_data"
    },
    {
     "data": {
      "application/javascript": [
       "\n",
       "        $('span:contains(\"# Temp\")').closest('.cell').remove();\n",
       "        var code = IPython.notebook.insert_cell_below('code');\n",
       "        var prompt = code.element.find(\".input_prompt\");\n",
       "        prompt.append('<br><button style=\"height: 100%; width: 54px;\">Run</button>');\n",
       "        prompt.on(\"click\", \"button\", function(){\n",
       "            code.execute();\n",
       "        });\n",
       "        code.set_text(decodeURIComponent(window.atob(\"JTIzJTIwVGVtcCUwQWluc2VydCUyOCUyNyUyNyUyNyUyNyUyNyUyNyUyOSUzQg==\")));\n",
       "    "
      ],
      "text/plain": [
       "<IPython.core.display.Javascript object>"
      ]
     },
     "metadata": {},
     "output_type": "display_data"
    },
    {
     "data": {
      "application/javascript": [
       "$('span:contains(\"# Temp\")').closest('.cell').remove();"
      ],
      "text/plain": [
       "<IPython.core.display.Javascript object>"
      ]
     },
     "metadata": {},
     "output_type": "display_data"
    },
    {
     "data": {
      "application/javascript": [
       "\n",
       "        $('span:contains(\"# Temp\")').closest('.cell').remove();\n",
       "        var code = IPython.notebook.insert_cell_below('code');\n",
       "        var prompt = code.element.find(\".input_prompt\");\n",
       "        prompt.append('<br><button style=\"height: 100%; width: 54px;\">Run</button>');\n",
       "        prompt.on(\"click\", \"button\", function(){\n",
       "            code.execute();\n",
       "        });\n",
       "        code.set_text(decodeURIComponent(window.atob(\"JTIzJTIwVGVtcCUwQWluc2VydCUyOCUyNyUyNyUyNyUyNyUyNyUyNyUyOSUzQg==\")));\n",
       "    "
      ],
      "text/plain": [
       "<IPython.core.display.Javascript object>"
      ]
     },
     "metadata": {},
     "output_type": "display_data"
    },
    {
     "data": {
      "application/javascript": [
       "$('span:contains(\"# Temp\")').closest('.cell').remove();"
      ],
      "text/plain": [
       "<IPython.core.display.Javascript object>"
      ]
     },
     "metadata": {},
     "output_type": "display_data"
    },
    {
     "data": {
      "application/javascript": [
       "\n",
       "        $('span:contains(\"# Temp\")').closest('.cell').remove();\n",
       "        var code = IPython.notebook.insert_cell_below('code');\n",
       "        var prompt = code.element.find(\".input_prompt\");\n",
       "        prompt.append('<br><button style=\"height: 100%; width: 54px;\">Run</button>');\n",
       "        prompt.on(\"click\", \"button\", function(){\n",
       "            code.execute();\n",
       "        });\n",
       "        code.set_text(decodeURIComponent(window.atob(\"JTIzJTIwVGVtcCUwQWluc2VydCUyOCUyNyUyNyUyNyUyNyUyNyUyNyUyOSUzQg==\")));\n",
       "    "
      ],
      "text/plain": [
       "<IPython.core.display.Javascript object>"
      ]
     },
     "metadata": {},
     "output_type": "display_data"
    },
    {
     "data": {
      "application/javascript": [
       "$('span:contains(\"# Temp\")').closest('.cell').remove();"
      ],
      "text/plain": [
       "<IPython.core.display.Javascript object>"
      ]
     },
     "metadata": {},
     "output_type": "display_data"
    },
    {
     "data": {
      "application/javascript": [
       "\n",
       "        $('span:contains(\"# Temp\")').closest('.cell').remove();\n",
       "        var code = IPython.notebook.insert_cell_below('code');\n",
       "        var prompt = code.element.find(\".input_prompt\");\n",
       "        prompt.append('<br><button style=\"height: 100%; width: 54px;\">Run</button>');\n",
       "        prompt.on(\"click\", \"button\", function(){\n",
       "            code.execute();\n",
       "        });\n",
       "        code.set_text(decodeURIComponent(window.atob(\"JTIzJTIwVGVtcCUwQWluc2VydCUyOCUyNyUyNyUyNyUwQWFsYmVydHluMjAwN2IlMjAlM0QlMjBEQiUyOFdvcmtVbnJlbGF0ZWQlMjglMEElMjAlMjAlMjAlMjAyMDA3JTJDJTIwJTIyQSUyMEh5YnJpZCUyME1ldGhvZCUyMGZvciUyMEUtcHJvY2VzcyUyMFNlbGVjdGlvbiUyMiUyQyUwQSUyMCUyMCUyMCUyMGRpc3BsYXklM0QlMjJhbGJlcnR5biUyMGIlMjIlMkMlMEElMjAlMjAlMjAlMjBhdXRob3JzJTNEJTIyQWxiZXJ0eW4lMkMlMjBGLiUyMGFuZCUyMEthc2NoZWslMkMlMjBSLiUyMiUyQyUwQSUyMCUyMCUyMCUyMHBsYWNlJTNERkFLRSUyQyUwQSUyMCUyMCUyMCUyMHBwJTNEJTIyMTc5LTE4OCUyMiUyQyUwQSUyMCUyMCUyMCUyMGVudHJ5dHlwZSUzRCUyMmNvbmZlcmVuY2UlMjIlMkMlMEElMjAlMjAlMjAlMjBsaW5rJTNEJTIyaHR0cHMlM0EvL3d3dy5zY29wdXMuY29tL2lud2FyZC9yZWNvcmQudXJpJTNGZWlkJTNEMi1zMi4wLTg0ODY5MTExMTg5JTI2cGFydG5lcklEJTNENDAlMjZtZDUlM0RlNmExY2MzN2IzOWQ5NDFiMzMzZDBiYzg0ZjhiNWRkMCUyMiUyQyUwQSUyMCUyMCUyMCUyMElEJTNEJTIyQWxiZXJ0eW4yMDA3MTc5JTIyJTJDJTBBJTIwJTIwJTIwJTIwc2NvcHVzMjAxNiUzRCUyMjElMjIlMkMlMEElMjAlMjAlMjAlMjBwbGFjZXglM0QlMjJBQ0lTJTIwMjAwNyUyMFByb2NlZWRpbmdzJTIwLSUyMDE4dGglMjBBdXN0cmFsYXNpYW4lMjBDb25mZXJlbmNlJTIwb24lMjBJbmZvcm1hdGlvbiUyMFN5c3RlbXMlMjIlMkMlMEElMjklMjklMEElMjclMjclMjclMjklM0I=\")));\n",
       "    "
      ],
      "text/plain": [
       "<IPython.core.display.Javascript object>"
      ]
     },
     "metadata": {},
     "output_type": "display_data"
    },
    {
     "data": {
      "application/javascript": [
       "$('span:contains(\"# Temp\")').closest('.cell').remove();"
      ],
      "text/plain": [
       "<IPython.core.display.Javascript object>"
      ]
     },
     "metadata": {},
     "output_type": "display_data"
    },
    {
     "data": {
      "application/javascript": [
       "\n",
       "        $('span:contains(\"# Temp\")').closest('.cell').remove();\n",
       "        var code = IPython.notebook.insert_cell_below('code');\n",
       "        var prompt = code.element.find(\".input_prompt\");\n",
       "        prompt.append('<br><button style=\"height: 100%; width: 54px;\">Run</button>');\n",
       "        prompt.on(\"click\", \"button\", function(){\n",
       "            code.execute();\n",
       "        });\n",
       "        code.set_text(decodeURIComponent(window.atob(\"JTIzJTIwVGVtcCUwQWluc2VydCUyOCUyNyUyNyUyNyUwQWFsYmVydHluMjAwN2IlMjAlM0QlMjBEQiUyOFdvcmtVbnJlbGF0ZWQlMjglMEElMjAlMjAlMjAlMjAyMDA3JTJDJTIwJTIyQSUyMEh5YnJpZCUyME1ldGhvZCUyMGZvciUyMEUtcHJvY2VzcyUyMFNlbGVjdGlvbiUyMiUyQyUwQSUyMCUyMCUyMCUyMGRpc3BsYXklM0QlMjJhbGJlcnR5biUyMGIlMjIlMkMlMEElMjAlMjAlMjAlMjBhdXRob3JzJTNEJTIyQWxiZXJ0eW4lMkMlMjBGLiUyMGFuZCUyMEthc2NoZWslMkMlMjBSLiUyMiUyQyUwQSUyMCUyMCUyMCUyMHBsYWNlJTNERkFLRSUyQyUwQSUyMCUyMCUyMCUyMHBwJTNEJTIyMTc5LTE4OCUyMiUyQyUwQSUyMCUyMCUyMCUyMGVudHJ5dHlwZSUzRCUyMmNvbmZlcmVuY2UlMjIlMkMlMEElMjAlMjAlMjAlMjBsaW5rJTNEJTIyaHR0cHMlM0EvL3d3dy5zY29wdXMuY29tL2lud2FyZC9yZWNvcmQudXJpJTNGZWlkJTNEMi1zMi4wLTg0ODY5MTExMTg5JTI2cGFydG5lcklEJTNENDAlMjZtZDUlM0RlNmExY2MzN2IzOWQ5NDFiMzMzZDBiYzg0ZjhiNWRkMCUyMiUyQyUwQSUyMCUyMCUyMCUyMElEJTNEJTIyQWxiZXJ0eW4yMDA3MTc5JTIyJTJDJTBBJTIwJTIwJTIwJTIwc2NvcHVzMjAxNiUzRCUyMjElMjIlMkMlMEElMjAlMjAlMjAlMjBwbGFjZXglM0QlMjJBQ0lTJTIwMjAwNyUyMFByb2NlZWRpbmdzJTIwLSUyMDE4dGglMjBBdXN0cmFsYXNpYW4lMjBDb25mZXJlbmNlJTIwb24lMjBJbmZvcm1hdGlvbiUyMFN5c3RlbXMlMjIlMkMlMEElMjklMjklMEElMjclMjclMjclMjklM0I=\")));\n",
       "    "
      ],
      "text/plain": [
       "<IPython.core.display.Javascript object>"
      ]
     },
     "metadata": {},
     "output_type": "display_data"
    },
    {
     "data": {
      "application/javascript": [
       "$('span:contains(\"# Temp\")').closest('.cell').remove();"
      ],
      "text/plain": [
       "<IPython.core.display.Javascript object>"
      ]
     },
     "metadata": {},
     "output_type": "display_data"
    },
    {
     "data": {
      "application/javascript": [
       "\n",
       "        $('span:contains(\"# Temp\")').closest('.cell').remove();\n",
       "        var code = IPython.notebook.insert_cell_below('code');\n",
       "        var prompt = code.element.find(\".input_prompt\");\n",
       "        prompt.append('<br><button style=\"height: 100%; width: 54px;\">Run</button>');\n",
       "        prompt.on(\"click\", \"button\", function(){\n",
       "            code.execute();\n",
       "        });\n",
       "        code.set_text(decodeURIComponent(window.atob(\"JTIzJTIwVGVtcCUwQWluc2VydCUyOCUyNyUyNyUyNyUwQWFucXVldGlsMjAwN2ElMjAlM0QlMjBEQiUyOFdvcmtVbnJlbGF0ZWQlMjglMEElMjAlMjAlMjAlMjAyMDA3JTJDJTIwJTIyQXN5bmNocm9ub3VzJTIwbWVyZ2luZyUyMG9mJTIwc29mdHdhcmUlMjBvbnRvbG9naWVzJTNBJTIwQW4lMjBleHBlcmllbmNlJTIyJTJDJTBBJTIwJTIwJTIwJTIwZGlzcGxheSUzRCUyMmFucXVldGlsJTIyJTJDJTBBJTIwJTIwJTIwJTIwYXV0aG9ycyUzRCUyMkFucXVldGlsJTJDJTIwTi4lMjBhbmQlMjBWaXpjYSVDMyVBRG5vJTJDJTIwQS4lMjBhbmQlMjBSdWl6JTJDJTIwRi4lMjBhbmQlMjBPbGl2ZWlyYSUyQyUyMEsuJTIwYW5kJTIwUGlhdHRpbmklMkMlMjBNLiUyMiUyQyUwQSUyMCUyMCUyMCUyMHBsYWNlJTNERkFLRSUyQyUwQSUyMCUyMCUyMCUyMHBwJTNEJTIyOTktMTA2JTIyJTJDJTBBJTIwJTIwJTIwJTIwZW50cnl0eXBlJTNEJTIyY29uZmVyZW5jZSUyMiUyQyUwQSUyMCUyMCUyMCUyMGxpbmslM0QlMjJodHRwcyUzQS8vd3d3LnNjb3B1cy5jb20vaW53YXJkL3JlY29yZC51cmklM0ZlaWQlM0QyLXMyLjAtODQ4ODMwNzkzOTYlMjZwYXJ0bmVySUQlM0Q0MCUyNm1kNSUzRGM0YTZhYWQxNWIxOTJlMTIxMGU1M2U5YzU5M2QxY2I4JTIyJTJDJTBBJTIwJTIwJTIwJTIwSUQlM0QlMjJBbnF1ZXRpbDIwMDc5OSUyMiUyQyUwQSUyMCUyMCUyMCUyMHNjb3B1czIwMTYlM0QlMjIxJTIyJTJDJTBBJTIwJTIwJTIwJTIwcGxhY2V4JTNEJTIyVkklMjBKb3JuYWRhcyUyMEliZXJvYW1lcmljYW5hcyUyMGRlJTIwSW5nZW5pZXJpYSUyMGRlJTIwU29mdHdhcmUlMjBlJTIwSW5nZW5pZXJpYSUyMGRlbCUyMENvbm9jaW1pZW50byUyMDIwMDclMkMlMjBKSUlTSUMlMjAyMDA3JTIyJTJDJTBBJTI5JTI5JTBBJTI3JTI3JTI3JTI5JTNC\")));\n",
       "    "
      ],
      "text/plain": [
       "<IPython.core.display.Javascript object>"
      ]
     },
     "metadata": {},
     "output_type": "display_data"
    },
    {
     "data": {
      "application/javascript": [
       "$('span:contains(\"# Temp\")').closest('.cell').remove();"
      ],
      "text/plain": [
       "<IPython.core.display.Javascript object>"
      ]
     },
     "metadata": {},
     "output_type": "display_data"
    },
    {
     "data": {
      "application/javascript": [
       "\n",
       "        $('span:contains(\"# Temp\")').closest('.cell').remove();\n",
       "        var code = IPython.notebook.insert_cell_below('code');\n",
       "        var prompt = code.element.find(\".input_prompt\");\n",
       "        prompt.append('<br><button style=\"height: 100%; width: 54px;\">Run</button>');\n",
       "        prompt.on(\"click\", \"button\", function(){\n",
       "            code.execute();\n",
       "        });\n",
       "        code.set_text(decodeURIComponent(window.atob(\"JTIzJTIwVGVtcCUwQWluc2VydCUyOCUyNyUyNyUyNyUwQWFucXVldGlsMjAwN2ElMjAlM0QlMjBEQiUyOFdvcmtVbnJlbGF0ZWQlMjglMEElMjAlMjAlMjAlMjAyMDA3JTJDJTIwJTIyQXN5bmNocm9ub3VzJTIwbWVyZ2luZyUyMG9mJTIwc29mdHdhcmUlMjBvbnRvbG9naWVzJTNBJTIwQW4lMjBleHBlcmllbmNlJTIyJTJDJTBBJTIwJTIwJTIwJTIwZGlzcGxheSUzRCUyMmFucXVldGlsJTIyJTJDJTBBJTIwJTIwJTIwJTIwYXV0aG9ycyUzRCUyMkFucXVldGlsJTJDJTIwTi4lMjBhbmQlMjBWaXpjYSVDMyVBRG5vJTJDJTIwQS4lMjBhbmQlMjBSdWl6JTJDJTIwRi4lMjBhbmQlMjBPbGl2ZWlyYSUyQyUyMEsuJTIwYW5kJTIwUGlhdHRpbmklMkMlMjBNLiUyMiUyQyUwQSUyMCUyMCUyMCUyMHBsYWNlJTNERkFLRSUyQyUwQSUyMCUyMCUyMCUyMHBwJTNEJTIyOTktMTA2JTIyJTJDJTBBJTIwJTIwJTIwJTIwZW50cnl0eXBlJTNEJTIyY29uZmVyZW5jZSUyMiUyQyUwQSUyMCUyMCUyMCUyMGxpbmslM0QlMjJodHRwcyUzQS8vd3d3LnNjb3B1cy5jb20vaW53YXJkL3JlY29yZC51cmklM0ZlaWQlM0QyLXMyLjAtODQ4ODMwNzkzOTYlMjZwYXJ0bmVySUQlM0Q0MCUyNm1kNSUzRGM0YTZhYWQxNWIxOTJlMTIxMGU1M2U5YzU5M2QxY2I4JTIyJTJDJTBBJTIwJTIwJTIwJTIwSUQlM0QlMjJBbnF1ZXRpbDIwMDc5OSUyMiUyQyUwQSUyMCUyMCUyMCUyMHNjb3B1czIwMTYlM0QlMjIxJTIyJTJDJTBBJTIwJTIwJTIwJTIwcGxhY2V4JTNEJTIyVkklMjBKb3JuYWRhcyUyMEliZXJvYW1lcmljYW5hcyUyMGRlJTIwSW5nZW5pZXJpYSUyMGRlJTIwU29mdHdhcmUlMjBlJTIwSW5nZW5pZXJpYSUyMGRlbCUyMENvbm9jaW1pZW50byUyMDIwMDclMkMlMjBKSUlTSUMlMjAyMDA3JTIyJTJDJTBBJTI5JTI5JTBBJTI3JTI3JTI3JTI5JTNC\")));\n",
       "    "
      ],
      "text/plain": [
       "<IPython.core.display.Javascript object>"
      ]
     },
     "metadata": {},
     "output_type": "display_data"
    },
    {
     "data": {
      "application/javascript": [
       "$('span:contains(\"# Temp\")').closest('.cell').remove();"
      ],
      "text/plain": [
       "<IPython.core.display.Javascript object>"
      ]
     },
     "metadata": {},
     "output_type": "display_data"
    },
    {
     "data": {
      "application/javascript": [
       "\n",
       "        $('span:contains(\"# Temp\")').closest('.cell').remove();\n",
       "        var code = IPython.notebook.insert_cell_below('code');\n",
       "        var prompt = code.element.find(\".input_prompt\");\n",
       "        prompt.append('<br><button style=\"height: 100%; width: 54px;\">Run</button>');\n",
       "        prompt.on(\"click\", \"button\", function(){\n",
       "            code.execute();\n",
       "        });\n",
       "        code.set_text(decodeURIComponent(window.atob(\"JTIzJTIwVGVtcCUwQWluc2VydCUyOCUyNyUyNyUyNyUwQXJpZmF1dDIwMDhjJTIwJTNEJTIwREIlMjhXb3JrVW5yZWxhdGVkJTI4JTBBJTIwJTIwJTIwJTIwMjAwOCUyQyUyMCUyMklTTy9JRUMlMjAxNTUwNCUyQyUyMGElMjBiYXNpcyUyMGZvciUyMGdlbmVyYWxseSUyMGFjY2VwdGVkJTIwc291bmQlMjBwcm9jZXNzJTIwbW9kZWxzJTIwaW4lMjBmaW5hbmNpYWwlMjBpbnN0aXR1dGlvbnMlMjBhJTIwY2FzZSUyMHN0dWR5JTIwYWJvdXQlMjB2ZW50dXJlJTIwY2FwaXRhbCUyMGZ1bmQlMjBtYW5hZ2VtZW50JTIyJTJDJTBBJTIwJTIwJTIwJTIwZGlzcGxheSUzRCUyMnJpZmF1dCUyMGMlMjIlMkMlMEElMjAlMjAlMjAlMjBhdXRob3JzJTNEJTIyUmlmYXV0JTJDJTIwQS4lMjBhbmQlMjBQaWNhcmQlMkMlMjBNLiUyMGFuZCUyMERpJTIwUmVuem8lMkMlMjBCLiUyMiUyQyUwQSUyMCUyMCUyMCUyMHBsYWNlJTNESUNTUElDRCUyQyUwQSUyMCUyMCUyMCUyMGVudHJ5dHlwZSUzRCUyMmNvbmZlcmVuY2UlMjIlMkMlMEElMjAlMjAlMjAlMjBsaW5rJTNEJTIyaHR0cHMlM0EvL3d3dy5zY29wdXMuY29tL2lud2FyZC9yZWNvcmQudXJpJTNGZWlkJTNEMi1zMi4wLTg0OTIzOTI0MTUwJTI2cGFydG5lcklEJTNENDAlMjZtZDUlM0QxZjZiNmYwMmEzMzEyOTE3NGM3MzJmNDhiY2NkMTU0MSUyMiUyQyUwQSUyMCUyMCUyMCUyMElEJTNEJTIyUmlmYXV0MjAwOCUyMiUyQyUwQSUyMCUyMCUyMCUyMHNjb3B1czIwMTYlM0QlMjIxJTIyJTJDJTBBJTIwJTIwJTIwJTIwcGxhY2V4JTNEJTIyOHRoJTIwSW50ZXJuYXRpb25hbCUyMFNQSUNFJTIwQ29uZmVyZW5jZSUyMG9uJTIwU29mdHdhcmUlMjBQcm9jZXNzJTIwSW1wcm92ZW1lbnQlMjBhbmQlMjBDYXBhYmlsaXR5JTIwRGV0ZXJtaW5hdGlvbiUyQyUyMFNQSUNFJTIwMjAwOCUyMiUyQyUwQSUyOSUyOSUwQSUyNyUyNyUyNyUyOSUzQg==\")));\n",
       "    "
      ],
      "text/plain": [
       "<IPython.core.display.Javascript object>"
      ]
     },
     "metadata": {},
     "output_type": "display_data"
    },
    {
     "data": {
      "application/javascript": [
       "$('span:contains(\"# Temp\")').closest('.cell').remove();"
      ],
      "text/plain": [
       "<IPython.core.display.Javascript object>"
      ]
     },
     "metadata": {},
     "output_type": "display_data"
    },
    {
     "data": {
      "application/javascript": [
       "\n",
       "        $('span:contains(\"# Temp\")').closest('.cell').remove();\n",
       "        var code = IPython.notebook.insert_cell_below('code');\n",
       "        var prompt = code.element.find(\".input_prompt\");\n",
       "        prompt.append('<br><button style=\"height: 100%; width: 54px;\">Run</button>');\n",
       "        prompt.on(\"click\", \"button\", function(){\n",
       "            code.execute();\n",
       "        });\n",
       "        code.set_text(decodeURIComponent(window.atob(\"JTIzJTIwVGVtcCUwQWluc2VydCUyOCUyNyUyNyUyNyUwQXJpZmF1dDIwMDhjJTIwJTNEJTIwREIlMjhXb3JrVW5yZWxhdGVkJTI4JTBBJTIwJTIwJTIwJTIwMjAwOCUyQyUyMCUyMklTTy9JRUMlMjAxNTUwNCUyQyUyMGElMjBiYXNpcyUyMGZvciUyMGdlbmVyYWxseSUyMGFjY2VwdGVkJTIwc291bmQlMjBwcm9jZXNzJTIwbW9kZWxzJTIwaW4lMjBmaW5hbmNpYWwlMjBpbnN0aXR1dGlvbnMlMjBhJTIwY2FzZSUyMHN0dWR5JTIwYWJvdXQlMjB2ZW50dXJlJTIwY2FwaXRhbCUyMGZ1bmQlMjBtYW5hZ2VtZW50JTIyJTJDJTBBJTIwJTIwJTIwJTIwZGlzcGxheSUzRCUyMnJpZmF1dCUyMGMlMjIlMkMlMEElMjAlMjAlMjAlMjBhdXRob3JzJTNEJTIyUmlmYXV0JTJDJTIwQS4lMjBhbmQlMjBQaWNhcmQlMkMlMjBNLiUyMGFuZCUyMERpJTIwUmVuem8lMkMlMjBCLiUyMiUyQyUwQSUyMCUyMCUyMCUyMHBsYWNlJTNESUNTUElDRCUyQyUwQSUyMCUyMCUyMCUyMGVudHJ5dHlwZSUzRCUyMmNvbmZlcmVuY2UlMjIlMkMlMEElMjAlMjAlMjAlMjBsaW5rJTNEJTIyaHR0cHMlM0EvL3d3dy5zY29wdXMuY29tL2lud2FyZC9yZWNvcmQudXJpJTNGZWlkJTNEMi1zMi4wLTg0OTIzOTI0MTUwJTI2cGFydG5lcklEJTNENDAlMjZtZDUlM0QxZjZiNmYwMmEzMzEyOTE3NGM3MzJmNDhiY2NkMTU0MSUyMiUyQyUwQSUyMCUyMCUyMCUyMElEJTNEJTIyUmlmYXV0MjAwOCUyMiUyQyUwQSUyMCUyMCUyMCUyMHNjb3B1czIwMTYlM0QlMjIxJTIyJTJDJTBBJTIwJTIwJTIwJTIwcGxhY2V4JTNEJTIyOHRoJTIwSW50ZXJuYXRpb25hbCUyMFNQSUNFJTIwQ29uZmVyZW5jZSUyMG9uJTIwU29mdHdhcmUlMjBQcm9jZXNzJTIwSW1wcm92ZW1lbnQlMjBhbmQlMjBDYXBhYmlsaXR5JTIwRGV0ZXJtaW5hdGlvbiUyQyUyMFNQSUNFJTIwMjAwOCUyMiUyQyUwQSUyOSUyOSUwQSUyNyUyNyUyNyUyOSUzQg==\")));\n",
       "    "
      ],
      "text/plain": [
       "<IPython.core.display.Javascript object>"
      ]
     },
     "metadata": {},
     "output_type": "display_data"
    },
    {
     "data": {
      "application/javascript": [
       "$('span:contains(\"# Temp\")').closest('.cell').remove();"
      ],
      "text/plain": [
       "<IPython.core.display.Javascript object>"
      ]
     },
     "metadata": {},
     "output_type": "display_data"
    },
    {
     "data": {
      "application/javascript": [
       "\n",
       "        $('span:contains(\"# Temp\")').closest('.cell').remove();\n",
       "        var code = IPython.notebook.insert_cell_below('code');\n",
       "        var prompt = code.element.find(\".input_prompt\");\n",
       "        prompt.append('<br><button style=\"height: 100%; width: 54px;\">Run</button>');\n",
       "        prompt.on(\"click\", \"button\", function(){\n",
       "            code.execute();\n",
       "        });\n",
       "        code.set_text(decodeURIComponent(window.atob(\"JTIzJTIwVGVtcCUwQWluc2VydCUyOCUyNyUyNyUyNyUyNyUyNyUyNyUyOSUzQg==\")));\n",
       "    "
      ],
      "text/plain": [
       "<IPython.core.display.Javascript object>"
      ]
     },
     "metadata": {},
     "output_type": "display_data"
    },
    {
     "data": {
      "application/javascript": [
       "$('span:contains(\"# Temp\")').closest('.cell').remove();"
      ],
      "text/plain": [
       "<IPython.core.display.Javascript object>"
      ]
     },
     "metadata": {},
     "output_type": "display_data"
    },
    {
     "data": {
      "application/javascript": [
       "\n",
       "        $('span:contains(\"# Temp\")').closest('.cell').remove();\n",
       "        var code = IPython.notebook.insert_cell_below('code');\n",
       "        var prompt = code.element.find(\".input_prompt\");\n",
       "        prompt.append('<br><button style=\"height: 100%; width: 54px;\">Run</button>');\n",
       "        prompt.on(\"click\", \"button\", function(){\n",
       "            code.execute();\n",
       "        });\n",
       "        code.set_text(decodeURIComponent(window.atob(\"JTIzJTIwVGVtcCUwQWluc2VydCUyOCUyNyUyNyUyNyUyNyUyNyUyNyUyOSUzQg==\")));\n",
       "    "
      ],
      "text/plain": [
       "<IPython.core.display.Javascript object>"
      ]
     },
     "metadata": {},
     "output_type": "display_data"
    },
    {
     "data": {
      "application/javascript": [
       "$('span:contains(\"# Temp\")').closest('.cell').remove();"
      ],
      "text/plain": [
       "<IPython.core.display.Javascript object>"
      ]
     },
     "metadata": {},
     "output_type": "display_data"
    },
    {
     "data": {
      "application/javascript": [
       "\n",
       "        $('span:contains(\"# Temp\")').closest('.cell').remove();\n",
       "        var code = IPython.notebook.insert_cell_below('code');\n",
       "        var prompt = code.element.find(\".input_prompt\");\n",
       "        prompt.append('<br><button style=\"height: 100%; width: 54px;\">Run</button>');\n",
       "        prompt.on(\"click\", \"button\", function(){\n",
       "            code.execute();\n",
       "        });\n",
       "        code.set_text(decodeURIComponent(window.atob(\"JTIzJTIwVGVtcCUwQWluc2VydCUyOCUyNyUyNyUyNyUwQWJvcnNvaTIwMDhiJTIwJTNEJTIwREIlMjhXb3JrVW5yZWxhdGVkJTI4JTBBJTIwJTIwJTIwJTIwMjAwOCUyQyUyMCUyMkElMjBtZXRob2QlMjB0byUyMGRlZmluZSUyMGFuJTIwb2JqZWN0JTIwb3JpZW50ZWQlMjBzb2Z0d2FyZSUyMHByb2Nlc3MlMjBhcmNoaXRlY3R1cmUlMjIlMkMlMEElMjAlMjAlMjAlMjBkaXNwbGF5JTNEJTIyYm9yc29pJTIwYiUyMiUyQyUwQSUyMCUyMCUyMCUyMGF1dGhvcnMlM0QlMjJCb3Jzb2klMkMlMjBCLlQuJTIwYW5kJTIwQmVjZXJyYSUyQyUyMEouTC5SLiUyMiUyQyUwQSUyMCUyMCUyMCUyMHBsYWNlJTNEU0VDJTJDJTBBJTIwJTIwJTIwJTIwcHAlM0QlMjI2NTAtNjU1JTIyJTJDJTBBJTIwJTIwJTIwJTIwZW50cnl0eXBlJTNEJTIyY29uZmVyZW5jZSUyMiUyQyUwQSUyMCUyMCUyMCUyMGFydF9udW1iZXIlM0QlMjI0NDgzMjU4JTIyJTJDJTBBJTIwJTIwJTIwJTIwbGluayUzRCUyMmh0dHBzJTNBLy93d3cuc2NvcHVzLmNvbS9pbndhcmQvcmVjb3JkLnVyaSUzRmVpZCUzRDItczIuMC01MDM0OTA4NzQwMSUyNmRvaSUzRDEwLjExMDklMjUyZkFTV0VDLjIwMDguNDQ4MzI1OCUyNnBhcnRuZXJJRCUzRDQwJTI2bWQ1JTNEMjE2Yzk4MWM5ODRiMmM1ZmY3ZTk5MmY5MTBhNDI3NTUlMjIlMkMlMEElMjAlMjAlMjAlMjBJRCUzRCUyMkJvcnNvaTIwMDg2NTAlMjIlMkMlMEElMjAlMjAlMjAlMjBzY29wdXMyMDE2JTNEJTIyMSUyMiUyQyUwQSUyMCUyMCUyMCUyMHBsYWNleCUzRCUyMlByb2NlZWRpbmdzJTIwb2YlMjB0aGUlMjBBdXN0cmFsaWFuJTIwU29mdHdhcmUlMjBFbmdpbmVlcmluZyUyMENvbmZlcmVuY2UlMkMlMjBBU1dFQyUyMiUyQyUwQSUyOSUyOSUwQSUyNyUyNyUyNyUyOSUzQg==\")));\n",
       "    "
      ],
      "text/plain": [
       "<IPython.core.display.Javascript object>"
      ]
     },
     "metadata": {},
     "output_type": "display_data"
    },
    {
     "data": {
      "application/javascript": [
       "$('span:contains(\"# Temp\")').closest('.cell').remove();"
      ],
      "text/plain": [
       "<IPython.core.display.Javascript object>"
      ]
     },
     "metadata": {},
     "output_type": "display_data"
    },
    {
     "data": {
      "application/javascript": [
       "\n",
       "        $('span:contains(\"# Temp\")').closest('.cell').remove();\n",
       "        var code = IPython.notebook.insert_cell_below('code');\n",
       "        var prompt = code.element.find(\".input_prompt\");\n",
       "        prompt.append('<br><button style=\"height: 100%; width: 54px;\">Run</button>');\n",
       "        prompt.on(\"click\", \"button\", function(){\n",
       "            code.execute();\n",
       "        });\n",
       "        code.set_text(decodeURIComponent(window.atob(\"JTIzJTIwVGVtcCUwQWluc2VydCUyOCUyNyUyNyUyNyUwQWJvcnNvaTIwMDhiJTIwJTNEJTIwREIlMjhXb3JrVW5yZWxhdGVkJTI4JTBBJTIwJTIwJTIwJTIwMjAwOCUyQyUyMCUyMkElMjBtZXRob2QlMjB0byUyMGRlZmluZSUyMGFuJTIwb2JqZWN0JTIwb3JpZW50ZWQlMjBzb2Z0d2FyZSUyMHByb2Nlc3MlMjBhcmNoaXRlY3R1cmUlMjIlMkMlMEElMjAlMjAlMjAlMjBkaXNwbGF5JTNEJTIyYm9yc29pJTIwYiUyMiUyQyUwQSUyMCUyMCUyMCUyMGF1dGhvcnMlM0QlMjJCb3Jzb2klMkMlMjBCLlQuJTIwYW5kJTIwQmVjZXJyYSUyQyUyMEouTC5SLiUyMiUyQyUwQSUyMCUyMCUyMCUyMHBsYWNlJTNEU0VDJTJDJTBBJTIwJTIwJTIwJTIwcHAlM0QlMjI2NTAtNjU1JTIyJTJDJTBBJTIwJTIwJTIwJTIwZW50cnl0eXBlJTNEJTIyY29uZmVyZW5jZSUyMiUyQyUwQSUyMCUyMCUyMCUyMGFydF9udW1iZXIlM0QlMjI0NDgzMjU4JTIyJTJDJTBBJTIwJTIwJTIwJTIwbGluayUzRCUyMmh0dHBzJTNBLy93d3cuc2NvcHVzLmNvbS9pbndhcmQvcmVjb3JkLnVyaSUzRmVpZCUzRDItczIuMC01MDM0OTA4NzQwMSUyNmRvaSUzRDEwLjExMDklMjUyZkFTV0VDLjIwMDguNDQ4MzI1OCUyNnBhcnRuZXJJRCUzRDQwJTI2bWQ1JTNEMjE2Yzk4MWM5ODRiMmM1ZmY3ZTk5MmY5MTBhNDI3NTUlMjIlMkMlMEElMjAlMjAlMjAlMjBJRCUzRCUyMkJvcnNvaTIwMDg2NTAlMjIlMkMlMEElMjAlMjAlMjAlMjBzY29wdXMyMDE2JTNEJTIyMSUyMiUyQyUwQSUyMCUyMCUyMCUyMHBsYWNleCUzRCUyMlByb2NlZWRpbmdzJTIwb2YlMjB0aGUlMjBBdXN0cmFsaWFuJTIwU29mdHdhcmUlMjBFbmdpbmVlcmluZyUyMENvbmZlcmVuY2UlMkMlMjBBU1dFQyUyMiUyQyUwQSUyOSUyOSUwQSUyNyUyNyUyNyUyOSUzQg==\")));\n",
       "    "
      ],
      "text/plain": [
       "<IPython.core.display.Javascript object>"
      ]
     },
     "metadata": {},
     "output_type": "display_data"
    },
    {
     "data": {
      "application/javascript": [
       "$('span:contains(\"# Temp\")').closest('.cell').remove();"
      ],
      "text/plain": [
       "<IPython.core.display.Javascript object>"
      ]
     },
     "metadata": {},
     "output_type": "display_data"
    },
    {
     "data": {
      "application/javascript": [
       "\n",
       "        $('span:contains(\"# Temp\")').closest('.cell').remove();\n",
       "        var code = IPython.notebook.insert_cell_below('code');\n",
       "        var prompt = code.element.find(\".input_prompt\");\n",
       "        prompt.append('<br><button style=\"height: 100%; width: 54px;\">Run</button>');\n",
       "        prompt.on(\"click\", \"button\", function(){\n",
       "            code.execute();\n",
       "        });\n",
       "        code.set_text(decodeURIComponent(window.atob(\"JTIzJTIwVGVtcCUwQWluc2VydCUyOCUyNyUyNyUyNyUyNyUyNyUyNyUyOSUzQg==\")));\n",
       "    "
      ],
      "text/plain": [
       "<IPython.core.display.Javascript object>"
      ]
     },
     "metadata": {},
     "output_type": "display_data"
    },
    {
     "data": {
      "application/javascript": [
       "$('span:contains(\"# Temp\")').closest('.cell').remove();"
      ],
      "text/plain": [
       "<IPython.core.display.Javascript object>"
      ]
     },
     "metadata": {},
     "output_type": "display_data"
    },
    {
     "data": {
      "application/javascript": [
       "\n",
       "        $('span:contains(\"# Temp\")').closest('.cell').remove();\n",
       "        var code = IPython.notebook.insert_cell_below('code');\n",
       "        var prompt = code.element.find(\".input_prompt\");\n",
       "        prompt.append('<br><button style=\"height: 100%; width: 54px;\">Run</button>');\n",
       "        prompt.on(\"click\", \"button\", function(){\n",
       "            code.execute();\n",
       "        });\n",
       "        code.set_text(decodeURIComponent(window.atob(\"JTIzJTIwVGVtcCUwQWluc2VydCUyOCUyNyUyNyUyNyUyNyUyNyUyNyUyOSUzQg==\")));\n",
       "    "
      ],
      "text/plain": [
       "<IPython.core.display.Javascript object>"
      ]
     },
     "metadata": {},
     "output_type": "display_data"
    },
    {
     "data": {
      "application/javascript": [
       "$('span:contains(\"# Temp\")').closest('.cell').remove();"
      ],
      "text/plain": [
       "<IPython.core.display.Javascript object>"
      ]
     },
     "metadata": {},
     "output_type": "display_data"
    },
    {
     "data": {
      "application/javascript": [
       "\n",
       "        $('span:contains(\"# Temp\")').closest('.cell').remove();\n",
       "        var code = IPython.notebook.insert_cell_below('code');\n",
       "        var prompt = code.element.find(\".input_prompt\");\n",
       "        prompt.append('<br><button style=\"height: 100%; width: 54px;\">Run</button>');\n",
       "        prompt.on(\"click\", \"button\", function(){\n",
       "            code.execute();\n",
       "        });\n",
       "        code.set_text(decodeURIComponent(window.atob(\"JTIzJTIwVGVtcCUwQWluc2VydCUyOCUyNyUyNyUyNyUyNyUyNyUyNyUyOSUzQg==\")));\n",
       "    "
      ],
      "text/plain": [
       "<IPython.core.display.Javascript object>"
      ]
     },
     "metadata": {},
     "output_type": "display_data"
    },
    {
     "data": {
      "application/javascript": [
       "$('span:contains(\"# Temp\")').closest('.cell').remove();"
      ],
      "text/plain": [
       "<IPython.core.display.Javascript object>"
      ]
     },
     "metadata": {},
     "output_type": "display_data"
    },
    {
     "data": {
      "application/javascript": [
       "\n",
       "        $('span:contains(\"# Temp\")').closest('.cell').remove();\n",
       "        var code = IPython.notebook.insert_cell_below('code');\n",
       "        var prompt = code.element.find(\".input_prompt\");\n",
       "        prompt.append('<br><button style=\"height: 100%; width: 54px;\">Run</button>');\n",
       "        prompt.on(\"click\", \"button\", function(){\n",
       "            code.execute();\n",
       "        });\n",
       "        code.set_text(decodeURIComponent(window.atob(\"JTIzJTIwVGVtcCUwQWluc2VydCUyOCUyNyUyNyUyNyUyNyUyNyUyNyUyOSUzQg==\")));\n",
       "    "
      ],
      "text/plain": [
       "<IPython.core.display.Javascript object>"
      ]
     },
     "metadata": {},
     "output_type": "display_data"
    },
    {
     "data": {
      "application/javascript": [
       "$('span:contains(\"# Temp\")').closest('.cell').remove();"
      ],
      "text/plain": [
       "<IPython.core.display.Javascript object>"
      ]
     },
     "metadata": {},
     "output_type": "display_data"
    },
    {
     "data": {
      "application/javascript": [
       "\n",
       "        $('span:contains(\"# Temp\")').closest('.cell').remove();\n",
       "        var code = IPython.notebook.insert_cell_below('code');\n",
       "        var prompt = code.element.find(\".input_prompt\");\n",
       "        prompt.append('<br><button style=\"height: 100%; width: 54px;\">Run</button>');\n",
       "        prompt.on(\"click\", \"button\", function(){\n",
       "            code.execute();\n",
       "        });\n",
       "        code.set_text(decodeURIComponent(window.atob(\"JTIzJTIwVGVtcCUwQWluc2VydCUyOCUyNyUyNyUyNyUyNyUyNyUyNyUyOSUzQg==\")));\n",
       "    "
      ],
      "text/plain": [
       "<IPython.core.display.Javascript object>"
      ]
     },
     "metadata": {},
     "output_type": "display_data"
    },
    {
     "data": {
      "application/javascript": [
       "$('span:contains(\"# Temp\")').closest('.cell').remove();"
      ],
      "text/plain": [
       "<IPython.core.display.Javascript object>"
      ]
     },
     "metadata": {},
     "output_type": "display_data"
    },
    {
     "data": {
      "application/javascript": [
       "\n",
       "        $('span:contains(\"# Temp\")').closest('.cell').remove();\n",
       "        var code = IPython.notebook.insert_cell_below('code');\n",
       "        var prompt = code.element.find(\".input_prompt\");\n",
       "        prompt.append('<br><button style=\"height: 100%; width: 54px;\">Run</button>');\n",
       "        prompt.on(\"click\", \"button\", function(){\n",
       "            code.execute();\n",
       "        });\n",
       "        code.set_text(decodeURIComponent(window.atob(\"JTIzJTIwVGVtcCUwQWluc2VydCUyOCUyNyUyNyUyNyUyNyUyNyUyNyUyOSUzQg==\")));\n",
       "    "
      ],
      "text/plain": [
       "<IPython.core.display.Javascript object>"
      ]
     },
     "metadata": {},
     "output_type": "display_data"
    },
    {
     "data": {
      "application/javascript": [
       "$('span:contains(\"# Temp\")').closest('.cell').remove();"
      ],
      "text/plain": [
       "<IPython.core.display.Javascript object>"
      ]
     },
     "metadata": {},
     "output_type": "display_data"
    },
    {
     "data": {
      "application/javascript": [
       "\n",
       "        $('span:contains(\"# Temp\")').closest('.cell').remove();\n",
       "        var code = IPython.notebook.insert_cell_below('code');\n",
       "        var prompt = code.element.find(\".input_prompt\");\n",
       "        prompt.append('<br><button style=\"height: 100%; width: 54px;\">Run</button>');\n",
       "        prompt.on(\"click\", \"button\", function(){\n",
       "            code.execute();\n",
       "        });\n",
       "        code.set_text(decodeURIComponent(window.atob(\"JTIzJTIwVGVtcCUwQWluc2VydCUyOCUyNyUyNyUyNyUyNyUyNyUyNyUyOSUzQg==\")));\n",
       "    "
      ],
      "text/plain": [
       "<IPython.core.display.Javascript object>"
      ]
     },
     "metadata": {},
     "output_type": "display_data"
    },
    {
     "data": {
      "application/javascript": [
       "$('span:contains(\"# Temp\")').closest('.cell').remove();"
      ],
      "text/plain": [
       "<IPython.core.display.Javascript object>"
      ]
     },
     "metadata": {},
     "output_type": "display_data"
    },
    {
     "data": {
      "application/javascript": [
       "\n",
       "        $('span:contains(\"# Temp\")').closest('.cell').remove();\n",
       "        var code = IPython.notebook.insert_cell_below('code');\n",
       "        var prompt = code.element.find(\".input_prompt\");\n",
       "        prompt.append('<br><button style=\"height: 100%; width: 54px;\">Run</button>');\n",
       "        prompt.on(\"click\", \"button\", function(){\n",
       "            code.execute();\n",
       "        });\n",
       "        code.set_text(decodeURIComponent(window.atob(\"JTIzJTIwVGVtcCUwQWluc2VydCUyOCUyNyUyNyUyNyUyNyUyNyUyNyUyOSUzQg==\")));\n",
       "    "
      ],
      "text/plain": [
       "<IPython.core.display.Javascript object>"
      ]
     },
     "metadata": {},
     "output_type": "display_data"
    },
    {
     "data": {
      "application/javascript": [
       "$('span:contains(\"# Temp\")').closest('.cell').remove();"
      ],
      "text/plain": [
       "<IPython.core.display.Javascript object>"
      ]
     },
     "metadata": {},
     "output_type": "display_data"
    },
    {
     "data": {
      "application/javascript": [
       "\n",
       "        $('span:contains(\"# Temp\")').closest('.cell').remove();\n",
       "        var code = IPython.notebook.insert_cell_below('code');\n",
       "        var prompt = code.element.find(\".input_prompt\");\n",
       "        prompt.append('<br><button style=\"height: 100%; width: 54px;\">Run</button>');\n",
       "        prompt.on(\"click\", \"button\", function(){\n",
       "            code.execute();\n",
       "        });\n",
       "        code.set_text(decodeURIComponent(window.atob(\"JTIzJTIwVGVtcCUwQWluc2VydCUyOCUyNyUyNyUyNyUyNyUyNyUyNyUyOSUzQg==\")));\n",
       "    "
      ],
      "text/plain": [
       "<IPython.core.display.Javascript object>"
      ]
     },
     "metadata": {},
     "output_type": "display_data"
    },
    {
     "data": {
      "application/javascript": [
       "$('span:contains(\"# Temp\")').closest('.cell').remove();"
      ],
      "text/plain": [
       "<IPython.core.display.Javascript object>"
      ]
     },
     "metadata": {},
     "output_type": "display_data"
    },
    {
     "data": {
      "application/javascript": [
       "\n",
       "        $('span:contains(\"# Temp\")').closest('.cell').remove();\n",
       "        var code = IPython.notebook.insert_cell_below('code');\n",
       "        var prompt = code.element.find(\".input_prompt\");\n",
       "        prompt.append('<br><button style=\"height: 100%; width: 54px;\">Run</button>');\n",
       "        prompt.on(\"click\", \"button\", function(){\n",
       "            code.execute();\n",
       "        });\n",
       "        code.set_text(decodeURIComponent(window.atob(\"JTIzJTIwVGVtcCUwQWluc2VydCUyOCUyNyUyNyUyNyUyNyUyNyUyNyUyOSUzQg==\")));\n",
       "    "
      ],
      "text/plain": [
       "<IPython.core.display.Javascript object>"
      ]
     },
     "metadata": {},
     "output_type": "display_data"
    },
    {
     "data": {
      "application/javascript": [
       "$('span:contains(\"# Temp\")').closest('.cell').remove();"
      ],
      "text/plain": [
       "<IPython.core.display.Javascript object>"
      ]
     },
     "metadata": {},
     "output_type": "display_data"
    },
    {
     "data": {
      "application/javascript": [
       "\n",
       "        $('span:contains(\"# Temp\")').closest('.cell').remove();\n",
       "        var code = IPython.notebook.insert_cell_below('code');\n",
       "        var prompt = code.element.find(\".input_prompt\");\n",
       "        prompt.append('<br><button style=\"height: 100%; width: 54px;\">Run</button>');\n",
       "        prompt.on(\"click\", \"button\", function(){\n",
       "            code.execute();\n",
       "        });\n",
       "        code.set_text(decodeURIComponent(window.atob(\"JTIzJTIwVGVtcCUwQWluc2VydCUyOCUyNyUyNyUyNyUyNyUyNyUyNyUyOSUzQg==\")));\n",
       "    "
      ],
      "text/plain": [
       "<IPython.core.display.Javascript object>"
      ]
     },
     "metadata": {},
     "output_type": "display_data"
    },
    {
     "data": {
      "application/javascript": [
       "$('span:contains(\"# Temp\")').closest('.cell').remove();"
      ],
      "text/plain": [
       "<IPython.core.display.Javascript object>"
      ]
     },
     "metadata": {},
     "output_type": "display_data"
    },
    {
     "data": {
      "application/javascript": [
       "\n",
       "        $('span:contains(\"# Temp\")').closest('.cell').remove();\n",
       "        var code = IPython.notebook.insert_cell_below('code');\n",
       "        var prompt = code.element.find(\".input_prompt\");\n",
       "        prompt.append('<br><button style=\"height: 100%; width: 54px;\">Run</button>');\n",
       "        prompt.on(\"click\", \"button\", function(){\n",
       "            code.execute();\n",
       "        });\n",
       "        code.set_text(decodeURIComponent(window.atob(\"JTIzJTIwVGVtcCUwQWluc2VydCUyOCUyNyUyNyUyNyUyNyUyNyUyNyUyOSUzQg==\")));\n",
       "    "
      ],
      "text/plain": [
       "<IPython.core.display.Javascript object>"
      ]
     },
     "metadata": {},
     "output_type": "display_data"
    },
    {
     "data": {
      "application/javascript": [
       "$('span:contains(\"# Temp\")').closest('.cell').remove();"
      ],
      "text/plain": [
       "<IPython.core.display.Javascript object>"
      ]
     },
     "metadata": {},
     "output_type": "display_data"
    },
    {
     "data": {
      "application/javascript": [
       "\n",
       "        $('span:contains(\"# Temp\")').closest('.cell').remove();\n",
       "        var code = IPython.notebook.insert_cell_below('code');\n",
       "        var prompt = code.element.find(\".input_prompt\");\n",
       "        prompt.append('<br><button style=\"height: 100%; width: 54px;\">Run</button>');\n",
       "        prompt.on(\"click\", \"button\", function(){\n",
       "            code.execute();\n",
       "        });\n",
       "        code.set_text(decodeURIComponent(window.atob(\"JTIzJTIwVGVtcCUwQWluc2VydCUyOCUyNyUyNyUyNyUwQWFybWJydXN0MjAwOWIlMjAlM0QlMjBEQiUyOFdvcmtVbnJlbGF0ZWQlMjglMEElMjAlMjAlMjAlMjAyMDA5JTJDJTIwJTIyRXN0YWJsaXNoaW5nJTIwYW5kJTIwbWFpbnRhaW5pbmclMjB0cmFjZWFiaWxpdHklMjBiZXR3ZWVuJTIwbGFyZ2UlMjBhZXJvc3BhY2UlMjBwcm9jZXNzJTIwc3RhbmRhcmRzJTIyJTJDJTBBJTIwJTIwJTIwJTIwZGlzcGxheSUzRCUyMmFybWJydXN0JTIwYiUyMiUyQyUwQSUyMCUyMCUyMCUyMGF1dGhvcnMlM0QlMjJBcm1icnVzdCUyQyUyME8uJTIwYW5kJTIwT2NhbXBvJTJDJTIwQS4lMjBhbmQlMjBNJUMzJUJDbmNoJTJDJTIwSi4lMjBhbmQlMjBLYXRhaGlyYSUyQyUyME0uJTIwYW5kJTIwS29pc2hpJTJDJTIwWS4lMjBhbmQlMjBNaXlhbW90byUyQyUyMFkuJTIyJTJDJTBBJTIwJTIwJTIwJTIwcGxhY2UlM0RGQUtFJTJDJTBBJTIwJTIwJTIwJTIwcHAlM0QlMjIzNi00MCUyMiUyQyUwQSUyMCUyMCUyMCUyMGVudHJ5dHlwZSUzRCUyMmNvbmZlcmVuY2UlMjIlMkMlMEElMjAlMjAlMjAlMjBhcnRfbnVtYmVyJTNEJTIyNTA2OTU4MSUyMiUyQyUwQSUyMCUyMCUyMCUyMGxpbmslM0QlMjJodHRwcyUzQS8vd3d3LnNjb3B1cy5jb20vaW53YXJkL3JlY29yZC51cmklM0ZlaWQlM0QyLXMyLjAtNzAzNDk5MDI3NzIlMjZkb2klM0QxMC4xMTA5JTI1MmZURUZTRS4yMDA5LjUwNjk1ODElMjZwYXJ0bmVySUQlM0Q0MCUyNm1kNSUzRGYyNmY3MTY5YTQ0ZTQyZTExM2I2NDRmMmUyN2M2MzgwJTIyJTJDJTBBJTIwJTIwJTIwJTIwSUQlM0QlMjJBcm1icnVzdDIwMDkzNiUyMiUyQyUwQSUyMCUyMCUyMCUyMHNjb3B1czIwMTYlM0QlMjIxJTIyJTJDJTBBJTIwJTIwJTIwJTIwcGxhY2V4JTNEJTIyUHJvY2VlZGluZ3MlMjBvZiUyMHRoZSUyMDIwMDklMjBJQ1NFJTIwV29ya3Nob3AlMjBvbiUyMFRyYWNlYWJpbGl0eSUyMGluJTIwRW1lcmdpbmclMjBGb3JtcyUyMG9mJTIwU29mdHdhcmUlMjBFbmdpbmVlcmluZyUyQyUyMFRFRlNFJTIwMjAwOSUyMiUyQyUwQSUyOSUyOSUwQSUyNyUyNyUyNyUyOSUzQg==\")));\n",
       "    "
      ],
      "text/plain": [
       "<IPython.core.display.Javascript object>"
      ]
     },
     "metadata": {},
     "output_type": "display_data"
    },
    {
     "data": {
      "application/javascript": [
       "$('span:contains(\"# Temp\")').closest('.cell').remove();"
      ],
      "text/plain": [
       "<IPython.core.display.Javascript object>"
      ]
     },
     "metadata": {},
     "output_type": "display_data"
    },
    {
     "data": {
      "application/javascript": [
       "\n",
       "        $('span:contains(\"# Temp\")').closest('.cell').remove();\n",
       "        var code = IPython.notebook.insert_cell_below('code');\n",
       "        var prompt = code.element.find(\".input_prompt\");\n",
       "        prompt.append('<br><button style=\"height: 100%; width: 54px;\">Run</button>');\n",
       "        prompt.on(\"click\", \"button\", function(){\n",
       "            code.execute();\n",
       "        });\n",
       "        code.set_text(decodeURIComponent(window.atob(\"JTIzJTIwVGVtcCUwQWluc2VydCUyOCUyNyUyNyUyNyUwQWFybWJydXN0MjAwOWIlMjAlM0QlMjBEQiUyOFdvcmtVbnJlbGF0ZWQlMjglMEElMjAlMjAlMjAlMjAyMDA5JTJDJTIwJTIyRXN0YWJsaXNoaW5nJTIwYW5kJTIwbWFpbnRhaW5pbmclMjB0cmFjZWFiaWxpdHklMjBiZXR3ZWVuJTIwbGFyZ2UlMjBhZXJvc3BhY2UlMjBwcm9jZXNzJTIwc3RhbmRhcmRzJTIyJTJDJTBBJTIwJTIwJTIwJTIwZGlzcGxheSUzRCUyMmFybWJydXN0JTIwYiUyMiUyQyUwQSUyMCUyMCUyMCUyMGF1dGhvcnMlM0QlMjJBcm1icnVzdCUyQyUyME8uJTIwYW5kJTIwT2NhbXBvJTJDJTIwQS4lMjBhbmQlMjBNJUMzJUJDbmNoJTJDJTIwSi4lMjBhbmQlMjBLYXRhaGlyYSUyQyUyME0uJTIwYW5kJTIwS29pc2hpJTJDJTIwWS4lMjBhbmQlMjBNaXlhbW90byUyQyUyMFkuJTIyJTJDJTBBJTIwJTIwJTIwJTIwcGxhY2UlM0RGQUtFJTJDJTBBJTIwJTIwJTIwJTIwcHAlM0QlMjIzNi00MCUyMiUyQyUwQSUyMCUyMCUyMCUyMGVudHJ5dHlwZSUzRCUyMmNvbmZlcmVuY2UlMjIlMkMlMEElMjAlMjAlMjAlMjBhcnRfbnVtYmVyJTNEJTIyNTA2OTU4MSUyMiUyQyUwQSUyMCUyMCUyMCUyMGxpbmslM0QlMjJodHRwcyUzQS8vd3d3LnNjb3B1cy5jb20vaW53YXJkL3JlY29yZC51cmklM0ZlaWQlM0QyLXMyLjAtNzAzNDk5MDI3NzIlMjZkb2klM0QxMC4xMTA5JTI1MmZURUZTRS4yMDA5LjUwNjk1ODElMjZwYXJ0bmVySUQlM0Q0MCUyNm1kNSUzRGYyNmY3MTY5YTQ0ZTQyZTExM2I2NDRmMmUyN2M2MzgwJTIyJTJDJTBBJTIwJTIwJTIwJTIwSUQlM0QlMjJBcm1icnVzdDIwMDkzNiUyMiUyQyUwQSUyMCUyMCUyMCUyMHNjb3B1czIwMTYlM0QlMjIxJTIyJTJDJTBBJTIwJTIwJTIwJTIwcGxhY2V4JTNEJTIyUHJvY2VlZGluZ3MlMjBvZiUyMHRoZSUyMDIwMDklMjBJQ1NFJTIwV29ya3Nob3AlMjBvbiUyMFRyYWNlYWJpbGl0eSUyMGluJTIwRW1lcmdpbmclMjBGb3JtcyUyMG9mJTIwU29mdHdhcmUlMjBFbmdpbmVlcmluZyUyQyUyMFRFRlNFJTIwMjAwOSUyMiUyQyUwQSUyOSUyOSUwQSUyNyUyNyUyNyUyOSUzQg==\")));\n",
       "    "
      ],
      "text/plain": [
       "<IPython.core.display.Javascript object>"
      ]
     },
     "metadata": {},
     "output_type": "display_data"
    },
    {
     "data": {
      "application/javascript": [
       "$('span:contains(\"# Temp\")').closest('.cell').remove();"
      ],
      "text/plain": [
       "<IPython.core.display.Javascript object>"
      ]
     },
     "metadata": {},
     "output_type": "display_data"
    },
    {
     "data": {
      "application/javascript": [
       "\n",
       "        $('span:contains(\"# Temp\")').closest('.cell').remove();\n",
       "        var code = IPython.notebook.insert_cell_below('code');\n",
       "        var prompt = code.element.find(\".input_prompt\");\n",
       "        prompt.append('<br><button style=\"height: 100%; width: 54px;\">Run</button>');\n",
       "        prompt.on(\"click\", \"button\", function(){\n",
       "            code.execute();\n",
       "        });\n",
       "        code.set_text(decodeURIComponent(window.atob(\"JTIzJTIwVGVtcCUwQWluc2VydCUyOCUyNyUyNyUyNyUwQXJvbWFub3YyMDA5YSUyMCUzRCUyMERCJTI4V29ya1VucmVsYXRlZCUyOCUwQSUyMCUyMCUyMCUyMDIwMDklMkMlMjAlMjJBbiUyMGFwcHJvYWNoJTIwZm9yJTIwZGVzaWduaW5nJTIwb2YlMjBlbnRlcnByaXNlJTIwaXQlMjBsYW5kc2NhcGVzJTIwdG8lMjBwZXJmb3JtJTIwcXVhbnRpdGF2ZSUyMGluZm9ybWF0aW9uJTIwc2VjdXJpdHklMjByaXNrJTIwYXNzZXNzbWVudCUyMiUyQyUwQSUyMCUyMCUyMCUyMGRpc3BsYXklM0QlMjJyb21hbm92JTIyJTJDJTBBJTIwJTIwJTIwJTIwYXV0aG9ycyUzRCUyMlJvbWFub3YlMkMlMjBBLiUyMGFuZCUyME9rYW1vdG8lMkMlMjBFLiUyMiUyQyUwQSUyMCUyMCUyMCUyMHBsYWNlJTNERkFLRSUyQyUwQSUyMCUyMCUyMCUyMHBwJTNEJTIyMzEzLTMxOCUyMiUyQyUwQSUyMCUyMCUyMCUyMGVudHJ5dHlwZSUzRCUyMmNvbmZlcmVuY2UlMjIlMkMlMEElMjAlMjAlMjAlMjBsaW5rJTNEJTIyaHR0cHMlM0EvL3d3dy5zY29wdXMuY29tL2lud2FyZC9yZWNvcmQudXJpJTNGZWlkJTNEMi1zMi4wLTc0NTQ5MjE3MDQ4JTI2cGFydG5lcklEJTNENDAlMjZtZDUlM0QzODgwZGE4OTNkMjQ4NmUyYzc1ZDNhZDhiZWYyZDZjMyUyMiUyQyUwQSUyMCUyMCUyMCUyMElEJTNEJTIyUm9tYW5vdjIwMDkzMTMlMjIlMkMlMEElMjAlMjAlMjAlMjBzY29wdXMyMDE2JTNEJTIyMSUyMiUyQyUwQSUyMCUyMCUyMCUyMHBsYWNleCUzRCUyMlNFQ1JZUFQlMjAyMDA5JTIwLSUyMEludGVybmF0aW9uYWwlMjBDb25mZXJlbmNlJTIwb24lMjBTZWN1cml0eSUyMGFuZCUyMENyeXB0b2dyYXBoeSUyQyUyMFByb2NlZWRpbmdzJTIyJTJDJTBBJTI5JTI5JTBBJTI3JTI3JTI3JTI5JTNC\")));\n",
       "    "
      ],
      "text/plain": [
       "<IPython.core.display.Javascript object>"
      ]
     },
     "metadata": {},
     "output_type": "display_data"
    },
    {
     "data": {
      "application/javascript": [
       "$('span:contains(\"# Temp\")').closest('.cell').remove();"
      ],
      "text/plain": [
       "<IPython.core.display.Javascript object>"
      ]
     },
     "metadata": {},
     "output_type": "display_data"
    },
    {
     "data": {
      "application/javascript": [
       "\n",
       "        $('span:contains(\"# Temp\")').closest('.cell').remove();\n",
       "        var code = IPython.notebook.insert_cell_below('code');\n",
       "        var prompt = code.element.find(\".input_prompt\");\n",
       "        prompt.append('<br><button style=\"height: 100%; width: 54px;\">Run</button>');\n",
       "        prompt.on(\"click\", \"button\", function(){\n",
       "            code.execute();\n",
       "        });\n",
       "        code.set_text(decodeURIComponent(window.atob(\"JTIzJTIwVGVtcCUwQWluc2VydCUyOCUyNyUyNyUyNyUwQXJvbWFub3YyMDA5YSUyMCUzRCUyMERCJTI4V29ya1VucmVsYXRlZCUyOCUwQSUyMCUyMCUyMCUyMDIwMDklMkMlMjAlMjJBbiUyMGFwcHJvYWNoJTIwZm9yJTIwZGVzaWduaW5nJTIwb2YlMjBlbnRlcnByaXNlJTIwaXQlMjBsYW5kc2NhcGVzJTIwdG8lMjBwZXJmb3JtJTIwcXVhbnRpdGF2ZSUyMGluZm9ybWF0aW9uJTIwc2VjdXJpdHklMjByaXNrJTIwYXNzZXNzbWVudCUyMiUyQyUwQSUyMCUyMCUyMCUyMGRpc3BsYXklM0QlMjJyb21hbm92JTIyJTJDJTBBJTIwJTIwJTIwJTIwYXV0aG9ycyUzRCUyMlJvbWFub3YlMkMlMjBBLiUyMGFuZCUyME9rYW1vdG8lMkMlMjBFLiUyMiUyQyUwQSUyMCUyMCUyMCUyMHBsYWNlJTNERkFLRSUyQyUwQSUyMCUyMCUyMCUyMHBwJTNEJTIyMzEzLTMxOCUyMiUyQyUwQSUyMCUyMCUyMCUyMGVudHJ5dHlwZSUzRCUyMmNvbmZlcmVuY2UlMjIlMkMlMEElMjAlMjAlMjAlMjBsaW5rJTNEJTIyaHR0cHMlM0EvL3d3dy5zY29wdXMuY29tL2lud2FyZC9yZWNvcmQudXJpJTNGZWlkJTNEMi1zMi4wLTc0NTQ5MjE3MDQ4JTI2cGFydG5lcklEJTNENDAlMjZtZDUlM0QzODgwZGE4OTNkMjQ4NmUyYzc1ZDNhZDhiZWYyZDZjMyUyMiUyQyUwQSUyMCUyMCUyMCUyMElEJTNEJTIyUm9tYW5vdjIwMDkzMTMlMjIlMkMlMEElMjAlMjAlMjAlMjBzY29wdXMyMDE2JTNEJTIyMSUyMiUyQyUwQSUyMCUyMCUyMCUyMHBsYWNleCUzRCUyMlNFQ1JZUFQlMjAyMDA5JTIwLSUyMEludGVybmF0aW9uYWwlMjBDb25mZXJlbmNlJTIwb24lMjBTZWN1cml0eSUyMGFuZCUyMENyeXB0b2dyYXBoeSUyQyUyMFByb2NlZWRpbmdzJTIyJTJDJTBBJTI5JTI5JTBBJTI3JTI3JTI3JTI5JTNC\")));\n",
       "    "
      ],
      "text/plain": [
       "<IPython.core.display.Javascript object>"
      ]
     },
     "metadata": {},
     "output_type": "display_data"
    },
    {
     "data": {
      "application/javascript": [
       "$('span:contains(\"# Temp\")').closest('.cell').remove();"
      ],
      "text/plain": [
       "<IPython.core.display.Javascript object>"
      ]
     },
     "metadata": {},
     "output_type": "display_data"
    },
    {
     "data": {
      "application/javascript": [
       "\n",
       "        $('span:contains(\"# Temp\")').closest('.cell').remove();\n",
       "        var code = IPython.notebook.insert_cell_below('code');\n",
       "        var prompt = code.element.find(\".input_prompt\");\n",
       "        prompt.append('<br><button style=\"height: 100%; width: 54px;\">Run</button>');\n",
       "        prompt.on(\"click\", \"button\", function(){\n",
       "            code.execute();\n",
       "        });\n",
       "        code.set_text(decodeURIComponent(window.atob(\"JTIzJTIwVGVtcCUwQWluc2VydCUyOCUyNyUyNyUyNyUwQXJvbWFub3YyMDA5YSUyMCUzRCUyMERCJTI4V29ya1VucmVsYXRlZCUyOCUwQSUyMCUyMCUyMCUyMDIwMDklMkMlMjAlMjJBbiUyMGFwcHJvYWNoJTIwZm9yJTIwZGVzaWduaW5nJTIwb2YlMjBlbnRlcnByaXNlJTIwSVQlMjBsYW5kc2NhcGVzJTIwdG8lMjBwZXJmb3JtJTIwcXVhbnRpdGF2ZSUyMGluZm9ybWF0aW9uJTIwc2VjdXJpdHklMjByaXNrJTIwYXNzZXNzbWVudCUyMiUyQyUwQSUyMCUyMCUyMCUyMGRpc3BsYXklM0QlMjJyb21hbm92JTIyJTJDJTBBJTIwJTIwJTIwJTIwYXV0aG9ycyUzRCUyMlJvbWFub3YlMkMlMjBBLiUyMGFuZCUyME9rYW1vdG8lMkMlMjBFLiUyMiUyQyUwQSUyMCUyMCUyMCUyMHBsYWNlJTNERkFLRSUyQyUwQSUyMCUyMCUyMCUyMHBwJTNEJTIyMzEzLTMxOCUyMiUyQyUwQSUyMCUyMCUyMCUyMGVudHJ5dHlwZSUzRCUyMmNvbmZlcmVuY2UlMjIlMkMlMEElMjAlMjAlMjAlMjBsaW5rJTNEJTIyaHR0cHMlM0EvL3d3dy5zY29wdXMuY29tL2lud2FyZC9yZWNvcmQudXJpJTNGZWlkJTNEMi1zMi4wLTc0NTQ5MTQzNzkxJTI2cGFydG5lcklEJTNENDAlMjZtZDUlM0QzMjc2M2E5YzQ5ZjE2NTlkOTU4Mjg3ZmUxMTM1MThmMSUyMiUyQyUwQSUyMCUyMCUyMCUyMElEJTNEJTIyUm9tYW5vdjIwMDkzMTMlMjIlMkMlMEElMjAlMjAlMjAlMjBzY29wdXMyMDE2JTNEJTIyMSUyMiUyQyUwQSUyMCUyMCUyMCUyMHBsYWNleCUzRCUyMklDRVRFJTIwMjAwOSUyMC0lMjBJbnRlcm5hdGlvbmFsJTIwSm9pbnQlMjBDb25mZXJlbmNlJTIwb24lMjBlLUJ1c2luZXNzJTIwYW5kJTIwVGVsZWNvbW11bmljYXRpb25zJTIyJTJDJTBBJTI5JTI5JTBBJTI3JTI3JTI3JTI5JTNC\")));\n",
       "    "
      ],
      "text/plain": [
       "<IPython.core.display.Javascript object>"
      ]
     },
     "metadata": {},
     "output_type": "display_data"
    },
    {
     "data": {
      "application/javascript": [
       "$('span:contains(\"# Temp\")').closest('.cell').remove();"
      ],
      "text/plain": [
       "<IPython.core.display.Javascript object>"
      ]
     },
     "metadata": {},
     "output_type": "display_data"
    },
    {
     "data": {
      "application/javascript": [
       "\n",
       "        $('span:contains(\"# Temp\")').closest('.cell').remove();\n",
       "        var code = IPython.notebook.insert_cell_below('code');\n",
       "        var prompt = code.element.find(\".input_prompt\");\n",
       "        prompt.append('<br><button style=\"height: 100%; width: 54px;\">Run</button>');\n",
       "        prompt.on(\"click\", \"button\", function(){\n",
       "            code.execute();\n",
       "        });\n",
       "        code.set_text(decodeURIComponent(window.atob(\"JTIzJTIwVGVtcCUwQWluc2VydCUyOCUyNyUyNyUyNyUwQXJvbWFub3YyMDA5YSUyMCUzRCUyMERCJTI4V29ya1VucmVsYXRlZCUyOCUwQSUyMCUyMCUyMCUyMDIwMDklMkMlMjAlMjJBbiUyMGFwcHJvYWNoJTIwZm9yJTIwZGVzaWduaW5nJTIwb2YlMjBlbnRlcnByaXNlJTIwSVQlMjBsYW5kc2NhcGVzJTIwdG8lMjBwZXJmb3JtJTIwcXVhbnRpdGF2ZSUyMGluZm9ybWF0aW9uJTIwc2VjdXJpdHklMjByaXNrJTIwYXNzZXNzbWVudCUyMiUyQyUwQSUyMCUyMCUyMCUyMGRpc3BsYXklM0QlMjJyb21hbm92JTIyJTJDJTBBJTIwJTIwJTIwJTIwYXV0aG9ycyUzRCUyMlJvbWFub3YlMkMlMjBBLiUyMGFuZCUyME9rYW1vdG8lMkMlMjBFLiUyMiUyQyUwQSUyMCUyMCUyMCUyMHBsYWNlJTNERkFLRSUyQyUwQSUyMCUyMCUyMCUyMHBwJTNEJTIyMzEzLTMxOCUyMiUyQyUwQSUyMCUyMCUyMCUyMGVudHJ5dHlwZSUzRCUyMmNvbmZlcmVuY2UlMjIlMkMlMEElMjAlMjAlMjAlMjBsaW5rJTNEJTIyaHR0cHMlM0EvL3d3dy5zY29wdXMuY29tL2lud2FyZC9yZWNvcmQudXJpJTNGZWlkJTNEMi1zMi4wLTc0NTQ5MTQzNzkxJTI2cGFydG5lcklEJTNENDAlMjZtZDUlM0QzMjc2M2E5YzQ5ZjE2NTlkOTU4Mjg3ZmUxMTM1MThmMSUyMiUyQyUwQSUyMCUyMCUyMCUyMElEJTNEJTIyUm9tYW5vdjIwMDkzMTMlMjIlMkMlMEElMjAlMjAlMjAlMjBzY29wdXMyMDE2JTNEJTIyMSUyMiUyQyUwQSUyMCUyMCUyMCUyMHBsYWNleCUzRCUyMklDRVRFJTIwMjAwOSUyMC0lMjBJbnRlcm5hdGlvbmFsJTIwSm9pbnQlMjBDb25mZXJlbmNlJTIwb24lMjBlLUJ1c2luZXNzJTIwYW5kJTIwVGVsZWNvbW11bmljYXRpb25zJTIyJTJDJTBBJTI5JTI5JTBBJTI3JTI3JTI3JTI5JTNC\")));\n",
       "    "
      ],
      "text/plain": [
       "<IPython.core.display.Javascript object>"
      ]
     },
     "metadata": {},
     "output_type": "display_data"
    },
    {
     "data": {
      "application/javascript": [
       "$('span:contains(\"# Temp\")').closest('.cell').remove();"
      ],
      "text/plain": [
       "<IPython.core.display.Javascript object>"
      ]
     },
     "metadata": {},
     "output_type": "display_data"
    },
    {
     "data": {
      "application/javascript": [
       "\n",
       "        $('span:contains(\"# Temp\")').closest('.cell').remove();\n",
       "        var code = IPython.notebook.insert_cell_below('code');\n",
       "        var prompt = code.element.find(\".input_prompt\");\n",
       "        prompt.append('<br><button style=\"height: 100%; width: 54px;\">Run</button>');\n",
       "        prompt.on(\"click\", \"button\", function(){\n",
       "            code.execute();\n",
       "        });\n",
       "        code.set_text(decodeURIComponent(window.atob(\"JTIzJTIwVGVtcCUwQWluc2VydCUyOCUyNyUyNyUyNyUwQXJvZHIlQzMlQURndWV6MjAwOWIlMjAlM0QlMjBEQiUyOFdvcmtVbnJlbGF0ZWQlMjglMEElMjAlMjAlMjAlMjAyMDA5JTJDJTIwJTIyRGVmaW5pbmclMjBTUEVNJTIwMiUyMHByb2Nlc3MlMjBjb25zdHJhaW50cyUyMHdpdGglMjBzZW1hbnRpYyUyMHJ1bGVzJTIwdXNpbmclMjBTV1JMJTIyJTJDJTBBJTIwJTIwJTIwJTIwZGlzcGxheSUzRCUyMnJvZHIlQzMlQURndWV6JTIwYiUyMiUyQyUwQSUyMCUyMCUyMCUyMGF1dGhvcnMlM0QlMjJSb2RyJUMzJUFEZ3VleiUyQyUyMEQuJTIwYW5kJTIwU2ljaWxpYSUyQyUyME0uLUEuJTIyJTJDJTBBJTIwJTIwJTIwJTIwcGxhY2UlM0RGQUtFJTJDJTBBJTIwJTIwJTIwJTIwcHAlM0QlMjI5NS0xMDQlMjIlMkMlMEElMjAlMjAlMjAlMjBlbnRyeXR5cGUlM0QlMjJjb25mZXJlbmNlJTIyJTJDJTBBJTIwJTIwJTIwJTIwdm9sdW1lJTNEJTIyNDYwJTIyJTJDJTBBJTIwJTIwJTIwJTIwbGluayUzRCUyMmh0dHBzJTNBLy93d3cuc2NvcHVzLmNvbS9pbndhcmQvcmVjb3JkLnVyaSUzRmVpZCUzRDItczIuMC04NDg4NzA5NzIxOSUyNnBhcnRuZXJJRCUzRDQwJTI2bWQ1JTNEZWI4ODJiYjc0MDI0YzM2MzBiMWY3MTBlYjhiNjJmNmUlMjIlMkMlMEElMjAlMjAlMjAlMjBJRCUzRCUyMlJvZHIlQzMlQURndWV6MjAwOTk1JTIyJTJDJTBBJTIwJTIwJTIwJTIwc2NvcHVzMjAxNiUzRCUyMjElMjIlMkMlMEElMjAlMjAlMjAlMjBwbGFjZXglM0QlMjJDRVVSJTIwV29ya3Nob3AlMjBQcm9jZWVkaW5ncyUyMiUyQyUwQSUyOSUyOSUwQSUyNyUyNyUyNyUyOSUzQg==\")));\n",
       "    "
      ],
      "text/plain": [
       "<IPython.core.display.Javascript object>"
      ]
     },
     "metadata": {},
     "output_type": "display_data"
    },
    {
     "data": {
      "application/javascript": [
       "$('span:contains(\"# Temp\")').closest('.cell').remove();"
      ],
      "text/plain": [
       "<IPython.core.display.Javascript object>"
      ]
     },
     "metadata": {},
     "output_type": "display_data"
    },
    {
     "data": {
      "application/javascript": [
       "\n",
       "        $('span:contains(\"# Temp\")').closest('.cell').remove();\n",
       "        var code = IPython.notebook.insert_cell_below('code');\n",
       "        var prompt = code.element.find(\".input_prompt\");\n",
       "        prompt.append('<br><button style=\"height: 100%; width: 54px;\">Run</button>');\n",
       "        prompt.on(\"click\", \"button\", function(){\n",
       "            code.execute();\n",
       "        });\n",
       "        code.set_text(decodeURIComponent(window.atob(\"JTIzJTIwVGVtcCUwQWluc2VydCUyOCUyNyUyNyUyNyUwQXJvZHIlQzMlQURndWV6MjAwOWIlMjAlM0QlMjBEQiUyOFdvcmtVbnJlbGF0ZWQlMjglMEElMjAlMjAlMjAlMjAyMDA5JTJDJTIwJTIyRGVmaW5pbmclMjBTUEVNJTIwMiUyMHByb2Nlc3MlMjBjb25zdHJhaW50cyUyMHdpdGglMjBzZW1hbnRpYyUyMHJ1bGVzJTIwdXNpbmclMjBTV1JMJTIyJTJDJTBBJTIwJTIwJTIwJTIwZGlzcGxheSUzRCUyMnJvZHIlQzMlQURndWV6JTIwYiUyMiUyQyUwQSUyMCUyMCUyMCUyMGF1dGhvcnMlM0QlMjJSb2RyJUMzJUFEZ3VleiUyQyUyMEQuJTIwYW5kJTIwU2ljaWxpYSUyQyUyME0uLUEuJTIyJTJDJTBBJTIwJTIwJTIwJTIwcGxhY2UlM0RGQUtFJTJDJTBBJTIwJTIwJTIwJTIwcHAlM0QlMjI5NS0xMDQlMjIlMkMlMEElMjAlMjAlMjAlMjBlbnRyeXR5cGUlM0QlMjJjb25mZXJlbmNlJTIyJTJDJTBBJTIwJTIwJTIwJTIwdm9sdW1lJTNEJTIyNDYwJTIyJTJDJTBBJTIwJTIwJTIwJTIwbGluayUzRCUyMmh0dHBzJTNBLy93d3cuc2NvcHVzLmNvbS9pbndhcmQvcmVjb3JkLnVyaSUzRmVpZCUzRDItczIuMC04NDg4NzA5NzIxOSUyNnBhcnRuZXJJRCUzRDQwJTI2bWQ1JTNEZWI4ODJiYjc0MDI0YzM2MzBiMWY3MTBlYjhiNjJmNmUlMjIlMkMlMEElMjAlMjAlMjAlMjBJRCUzRCUyMlJvZHIlQzMlQURndWV6MjAwOTk1JTIyJTJDJTBBJTIwJTIwJTIwJTIwc2NvcHVzMjAxNiUzRCUyMjElMjIlMkMlMEElMjAlMjAlMjAlMjBwbGFjZXglM0QlMjJDRVVSJTIwV29ya3Nob3AlMjBQcm9jZWVkaW5ncyUyMiUyQyUwQSUyOSUyOSUwQSUyNyUyNyUyNyUyOSUzQg==\")));\n",
       "    "
      ],
      "text/plain": [
       "<IPython.core.display.Javascript object>"
      ]
     },
     "metadata": {},
     "output_type": "display_data"
    },
    {
     "data": {
      "application/javascript": [
       "$('span:contains(\"# Temp\")').closest('.cell').remove();"
      ],
      "text/plain": [
       "<IPython.core.display.Javascript object>"
      ]
     },
     "metadata": {},
     "output_type": "display_data"
    },
    {
     "data": {
      "application/javascript": [
       "\n",
       "        $('span:contains(\"# Temp\")').closest('.cell').remove();\n",
       "        var code = IPython.notebook.insert_cell_below('code');\n",
       "        var prompt = code.element.find(\".input_prompt\");\n",
       "        prompt.append('<br><button style=\"height: 100%; width: 54px;\">Run</button>');\n",
       "        prompt.on(\"click\", \"button\", function(){\n",
       "            code.execute();\n",
       "        });\n",
       "        code.set_text(decodeURIComponent(window.atob(\"JTIzJTIwVGVtcCUwQWluc2VydCUyOCUyNyUyNyUyNyUwQWxpMjAwOWElMjAlM0QlMjBEQiUyOFdvcmtVbnJlbGF0ZWQlMjglMEElMjAlMjAlMjAlMjAyMDA5JTJDJTIwJTIyQW4lMjBhcHByb2FjaCUyMHRvJTIwbW9kZWxsaW5nJTIwc29mdHdhcmUlMjBldm9sdXRpb24lMjBwcm9jZXNzZXMlMjIlMkMlMEElMjAlMjAlMjAlMjBkaXNwbGF5JTNEJTIybGklMjIlMkMlMEElMjAlMjAlMjAlMjBhdXRob3JzJTNEJTIyTGklMkMlMjBULiUyMiUyQyUwQSUyMCUyMCUyMCUyMHBsYWNlJTNEQm9vayUyQyUwQSUyMCUyMCUyMCUyMHBwJTNEJTIyMS0yMTMlMjIlMkMlMEElMjAlMjAlMjAlMjBlbnRyeXR5cGUlM0QlMjJib29rJTIyJTJDJTBBJTIwJTIwJTIwJTIwbGluayUzRCUyMmh0dHBzJTNBLy93d3cuc2NvcHVzLmNvbS9pbndhcmQvcmVjb3JkLnVyaSUzRmVpZCUzRDItczIuMC04NDg5NTIyNDAwMiUyNmRvaSUzRDEwLjEwMDclMjUyZjk3OC0zLTU0MC03OTQ2NC02JTI2cGFydG5lcklEJTNENDAlMjZtZDUlM0QzN2ExZTI1NWZhOTE2MGM2ZWQ1Y2Y2ODM4N2U1MDgwZiUyMiUyQyUwQSUyMCUyMCUyMCUyMElEJTNEJTIyTGkyMDA5MSUyMiUyQyUwQSUyMCUyMCUyMCUyMHNjb3B1czIwMTYlM0QlMjIxJTIyJTJDJTBBJTIwJTIwJTIwJTIwcGxhY2V4JTNEJTIyQW4lMjBBcHByb2FjaCUyMHRvJTIwTW9kZWxsaW5nJTIwU29mdHdhcmUlMjBFdm9sdXRpb24lMjBQcm9jZXNzZXMlMjIlMkMlMEElMjklMjklMEElMjclMjclMjclMjklM0I=\")));\n",
       "    "
      ],
      "text/plain": [
       "<IPython.core.display.Javascript object>"
      ]
     },
     "metadata": {},
     "output_type": "display_data"
    },
    {
     "data": {
      "application/javascript": [
       "$('span:contains(\"# Temp\")').closest('.cell').remove();"
      ],
      "text/plain": [
       "<IPython.core.display.Javascript object>"
      ]
     },
     "metadata": {},
     "output_type": "display_data"
    },
    {
     "data": {
      "application/javascript": [
       "\n",
       "        $('span:contains(\"# Temp\")').closest('.cell').remove();\n",
       "        var code = IPython.notebook.insert_cell_below('code');\n",
       "        var prompt = code.element.find(\".input_prompt\");\n",
       "        prompt.append('<br><button style=\"height: 100%; width: 54px;\">Run</button>');\n",
       "        prompt.on(\"click\", \"button\", function(){\n",
       "            code.execute();\n",
       "        });\n",
       "        code.set_text(decodeURIComponent(window.atob(\"JTIzJTIwVGVtcCUwQWluc2VydCUyOCUyNyUyNyUyNyUwQWxpMjAwOWElMjAlM0QlMjBEQiUyOFdvcmtVbnJlbGF0ZWQlMjglMEElMjAlMjAlMjAlMjAyMDA5JTJDJTIwJTIyQW4lMjBhcHByb2FjaCUyMHRvJTIwbW9kZWxsaW5nJTIwc29mdHdhcmUlMjBldm9sdXRpb24lMjBwcm9jZXNzZXMlMjIlMkMlMEElMjAlMjAlMjAlMjBkaXNwbGF5JTNEJTIybGklMjIlMkMlMEElMjAlMjAlMjAlMjBhdXRob3JzJTNEJTIyTGklMkMlMjBULiUyMiUyQyUwQSUyMCUyMCUyMCUyMHBsYWNlJTNEQm9vayUyQyUwQSUyMCUyMCUyMCUyMHBwJTNEJTIyMS0yMTMlMjIlMkMlMEElMjAlMjAlMjAlMjBlbnRyeXR5cGUlM0QlMjJib29rJTIyJTJDJTBBJTIwJTIwJTIwJTIwbGluayUzRCUyMmh0dHBzJTNBLy93d3cuc2NvcHVzLmNvbS9pbndhcmQvcmVjb3JkLnVyaSUzRmVpZCUzRDItczIuMC04NDg5NTIyNDAwMiUyNmRvaSUzRDEwLjEwMDclMjUyZjk3OC0zLTU0MC03OTQ2NC02JTI2cGFydG5lcklEJTNENDAlMjZtZDUlM0QzN2ExZTI1NWZhOTE2MGM2ZWQ1Y2Y2ODM4N2U1MDgwZiUyMiUyQyUwQSUyMCUyMCUyMCUyMElEJTNEJTIyTGkyMDA5MSUyMiUyQyUwQSUyMCUyMCUyMCUyMHNjb3B1czIwMTYlM0QlMjIxJTIyJTJDJTBBJTIwJTIwJTIwJTIwcGxhY2V4JTNEJTIyQW4lMjBBcHByb2FjaCUyMHRvJTIwTW9kZWxsaW5nJTIwU29mdHdhcmUlMjBFdm9sdXRpb24lMjBQcm9jZXNzZXMlMjIlMkMlMEElMjklMjklMEElMjclMjclMjclMjklM0I=\")));\n",
       "    "
      ],
      "text/plain": [
       "<IPython.core.display.Javascript object>"
      ]
     },
     "metadata": {},
     "output_type": "display_data"
    },
    {
     "data": {
      "application/javascript": [
       "$('span:contains(\"# Temp\")').closest('.cell').remove();"
      ],
      "text/plain": [
       "<IPython.core.display.Javascript object>"
      ]
     },
     "metadata": {},
     "output_type": "display_data"
    },
    {
     "data": {
      "application/javascript": [
       "\n",
       "        $('span:contains(\"# Temp\")').closest('.cell').remove();\n",
       "        var code = IPython.notebook.insert_cell_below('code');\n",
       "        var prompt = code.element.find(\".input_prompt\");\n",
       "        prompt.append('<br><button style=\"height: 100%; width: 54px;\">Run</button>');\n",
       "        prompt.on(\"click\", \"button\", function(){\n",
       "            code.execute();\n",
       "        });\n",
       "        code.set_text(decodeURIComponent(window.atob(\"JTIzJTIwVGVtcCUwQWluc2VydCUyOCUyNyUyNyUyNyUwQXBhcmRvMjAwOWElMjAlM0QlMjBEQiUyOFdvcmtVbnJlbGF0ZWQlMjglMEElMjAlMjAlMjAlMjAyMDA5JTJDJTIwJTIySG9tb2dlbml6YXRpb24lMjBvZiUyMG1vZGVscyUyMGluJTIwaW1wcm92ZWQlMjBlbnZpcm9ubWVudHMlMjBtdWx0aWZyYW1lJTIwcHJvY2Vzc2VzJTIwJTVCSG9tb2dlbml6YWNpJUMzJUIzbiUyMGRlJTIwbWFyY29zJTIwZW4lMjBhbWJpZW50ZXMlMjBkZSUyMG1lam9yYSUyMGRlJTIwcHJvY2Vzb3MlMjBtdWx0aW1hcmNvJTVEJTIyJTJDJTBBJTIwJTIwJTIwJTIwZGlzcGxheSUzRCUyMnBhcmRvJTIyJTJDJTBBJTIwJTIwJTIwJTIwYXV0aG9ycyUzRCUyMlBhcmRvJTJDJTIwQy4lMjBhbmQlMjBQaW5vJTJDJTIwRi5KLiUyMGFuZCUyMEdhcmMlQzMlQURhJTJDJTIwRi4lMjBhbmQlMjBQaWF0dGluaSUyQyUyME0uJTIyJTJDJTBBJTIwJTIwJTIwJTIwcGxhY2UlM0RGQUtFJTJDJTBBJTIwJTIwJTIwJTIwZW50cnl0eXBlJTNEJTIyY29uZmVyZW5jZSUyMiUyQyUwQSUyMCUyMCUyMCUyMGxpbmslM0QlMjJodHRwcyUzQS8vd3d3LnNjb3B1cy5jb20vaW53YXJkL3JlY29yZC51cmklM0ZlaWQlM0QyLXMyLjAtODQ4OTAzOTgyNTAlMjZwYXJ0bmVySUQlM0Q0MCUyNm1kNSUzRGVhNGM3Y2I0Mzc0ZmIxODU1NDJjNTdhYWZlNTU5MWFjJTIyJTJDJTBBJTIwJTIwJTIwJTIwSUQlM0QlMjJQYXJkbzIwMDklMjIlMkMlMEElMjAlMjAlMjAlMjBzY29wdXMyMDE2JTNEJTIyMSUyMiUyQyUwQSUyMCUyMCUyMCUyMHBsYWNleCUzRCUyMjEydGglMjBJYmVyb2FtZXJpY2FuJTIwQ29uZmVyZW5jZSUyMG9uJTIwUmVxdWlyZW1lbnRzJTIwRW5naW5lZXJpbmclMjBhbmQlMjBTb2Z0d2FyZSUyMEVudmlyb25tZW50cyUyQyUyMElERUFTJTIwMjAwOSUyMiUyQyUwQSUyOSUyOSUwQSUyNyUyNyUyNyUyOSUzQg==\")));\n",
       "    "
      ],
      "text/plain": [
       "<IPython.core.display.Javascript object>"
      ]
     },
     "metadata": {},
     "output_type": "display_data"
    },
    {
     "data": {
      "application/javascript": [
       "$('span:contains(\"# Temp\")').closest('.cell').remove();"
      ],
      "text/plain": [
       "<IPython.core.display.Javascript object>"
      ]
     },
     "metadata": {},
     "output_type": "display_data"
    },
    {
     "data": {
      "application/javascript": [
       "\n",
       "        $('span:contains(\"# Temp\")').closest('.cell').remove();\n",
       "        var code = IPython.notebook.insert_cell_below('code');\n",
       "        var prompt = code.element.find(\".input_prompt\");\n",
       "        prompt.append('<br><button style=\"height: 100%; width: 54px;\">Run</button>');\n",
       "        prompt.on(\"click\", \"button\", function(){\n",
       "            code.execute();\n",
       "        });\n",
       "        code.set_text(decodeURIComponent(window.atob(\"JTIzJTIwVGVtcCUwQWluc2VydCUyOCUyNyUyNyUyNyUwQXBhcmRvMjAwOWElMjAlM0QlMjBEQiUyOFdvcmtVbnJlbGF0ZWQlMjglMEElMjAlMjAlMjAlMjAyMDA5JTJDJTIwJTIySG9tb2dlbml6YXRpb24lMjBvZiUyMG1vZGVscyUyMGluJTIwaW1wcm92ZWQlMjBlbnZpcm9ubWVudHMlMjBtdWx0aWZyYW1lJTIwcHJvY2Vzc2VzJTIwJTVCSG9tb2dlbml6YWNpJUMzJUIzbiUyMGRlJTIwbWFyY29zJTIwZW4lMjBhbWJpZW50ZXMlMjBkZSUyMG1lam9yYSUyMGRlJTIwcHJvY2Vzb3MlMjBtdWx0aW1hcmNvJTVEJTIyJTJDJTBBJTIwJTIwJTIwJTIwZGlzcGxheSUzRCUyMnBhcmRvJTIyJTJDJTBBJTIwJTIwJTIwJTIwYXV0aG9ycyUzRCUyMlBhcmRvJTJDJTIwQy4lMjBhbmQlMjBQaW5vJTJDJTIwRi5KLiUyMGFuZCUyMEdhcmMlQzMlQURhJTJDJTIwRi4lMjBhbmQlMjBQaWF0dGluaSUyQyUyME0uJTIyJTJDJTBBJTIwJTIwJTIwJTIwcGxhY2UlM0RGQUtFJTJDJTBBJTIwJTIwJTIwJTIwZW50cnl0eXBlJTNEJTIyY29uZmVyZW5jZSUyMiUyQyUwQSUyMCUyMCUyMCUyMGxpbmslM0QlMjJodHRwcyUzQS8vd3d3LnNjb3B1cy5jb20vaW53YXJkL3JlY29yZC51cmklM0ZlaWQlM0QyLXMyLjAtODQ4OTAzOTgyNTAlMjZwYXJ0bmVySUQlM0Q0MCUyNm1kNSUzRGVhNGM3Y2I0Mzc0ZmIxODU1NDJjNTdhYWZlNTU5MWFjJTIyJTJDJTBBJTIwJTIwJTIwJTIwSUQlM0QlMjJQYXJkbzIwMDklMjIlMkMlMEElMjAlMjAlMjAlMjBzY29wdXMyMDE2JTNEJTIyMSUyMiUyQyUwQSUyMCUyMCUyMCUyMHBsYWNleCUzRCUyMjEydGglMjBJYmVyb2FtZXJpY2FuJTIwQ29uZmVyZW5jZSUyMG9uJTIwUmVxdWlyZW1lbnRzJTIwRW5naW5lZXJpbmclMjBhbmQlMjBTb2Z0d2FyZSUyMEVudmlyb25tZW50cyUyQyUyMElERUFTJTIwMjAwOSUyMiUyQyUwQSUyOSUyOSUwQSUyNyUyNyUyNyUyOSUzQg==\")));\n",
       "    "
      ],
      "text/plain": [
       "<IPython.core.display.Javascript object>"
      ]
     },
     "metadata": {},
     "output_type": "display_data"
    },
    {
     "data": {
      "application/javascript": [
       "$('span:contains(\"# Temp\")').closest('.cell').remove();"
      ],
      "text/plain": [
       "<IPython.core.display.Javascript object>"
      ]
     },
     "metadata": {},
     "output_type": "display_data"
    },
    {
     "data": {
      "application/javascript": [
       "\n",
       "        $('span:contains(\"# Temp\")').closest('.cell').remove();\n",
       "        var code = IPython.notebook.insert_cell_below('code');\n",
       "        var prompt = code.element.find(\".input_prompt\");\n",
       "        prompt.append('<br><button style=\"height: 100%; width: 54px;\">Run</button>');\n",
       "        prompt.on(\"click\", \"button\", function(){\n",
       "            code.execute();\n",
       "        });\n",
       "        code.set_text(decodeURIComponent(window.atob(\"JTIzJTIwVGVtcCUwQWluc2VydCUyOCUyNyUyNyUyNyUyNyUyNyUyNyUyOSUzQg==\")));\n",
       "    "
      ],
      "text/plain": [
       "<IPython.core.display.Javascript object>"
      ]
     },
     "metadata": {},
     "output_type": "display_data"
    },
    {
     "data": {
      "application/javascript": [
       "$('span:contains(\"# Temp\")').closest('.cell').remove();"
      ],
      "text/plain": [
       "<IPython.core.display.Javascript object>"
      ]
     },
     "metadata": {},
     "output_type": "display_data"
    },
    {
     "data": {
      "application/javascript": [
       "\n",
       "        $('span:contains(\"# Temp\")').closest('.cell').remove();\n",
       "        var code = IPython.notebook.insert_cell_below('code');\n",
       "        var prompt = code.element.find(\".input_prompt\");\n",
       "        prompt.append('<br><button style=\"height: 100%; width: 54px;\">Run</button>');\n",
       "        prompt.on(\"click\", \"button\", function(){\n",
       "            code.execute();\n",
       "        });\n",
       "        code.set_text(decodeURIComponent(window.atob(\"JTIzJTIwVGVtcCUwQWluc2VydCUyOCUyNyUyNyUyNyUyNyUyNyUyNyUyOSUzQg==\")));\n",
       "    "
      ],
      "text/plain": [
       "<IPython.core.display.Javascript object>"
      ]
     },
     "metadata": {},
     "output_type": "display_data"
    },
    {
     "data": {
      "application/javascript": [
       "$('span:contains(\"# Temp\")').closest('.cell').remove();"
      ],
      "text/plain": [
       "<IPython.core.display.Javascript object>"
      ]
     },
     "metadata": {},
     "output_type": "display_data"
    },
    {
     "data": {
      "application/javascript": [
       "\n",
       "        $('span:contains(\"# Temp\")').closest('.cell').remove();\n",
       "        var code = IPython.notebook.insert_cell_below('code');\n",
       "        var prompt = code.element.find(\".input_prompt\");\n",
       "        prompt.append('<br><button style=\"height: 100%; width: 54px;\">Run</button>');\n",
       "        prompt.on(\"click\", \"button\", function(){\n",
       "            code.execute();\n",
       "        });\n",
       "        code.set_text(decodeURIComponent(window.atob(\"JTIzJTIwVGVtcCUwQWluc2VydCUyOCUyNyUyNyUyNyUyNyUyNyUyNyUyOSUzQg==\")));\n",
       "    "
      ],
      "text/plain": [
       "<IPython.core.display.Javascript object>"
      ]
     },
     "metadata": {},
     "output_type": "display_data"
    },
    {
     "data": {
      "application/javascript": [
       "$('span:contains(\"# Temp\")').closest('.cell').remove();"
      ],
      "text/plain": [
       "<IPython.core.display.Javascript object>"
      ]
     },
     "metadata": {},
     "output_type": "display_data"
    },
    {
     "data": {
      "application/javascript": [
       "\n",
       "        $('span:contains(\"# Temp\")').closest('.cell').remove();\n",
       "        var code = IPython.notebook.insert_cell_below('code');\n",
       "        var prompt = code.element.find(\".input_prompt\");\n",
       "        prompt.append('<br><button style=\"height: 100%; width: 54px;\">Run</button>');\n",
       "        prompt.on(\"click\", \"button\", function(){\n",
       "            code.execute();\n",
       "        });\n",
       "        code.set_text(decodeURIComponent(window.atob(\"JTIzJTIwVGVtcCUwQWluc2VydCUyOCUyNyUyNyUyNyUyNyUyNyUyNyUyOSUzQg==\")));\n",
       "    "
      ],
      "text/plain": [
       "<IPython.core.display.Javascript object>"
      ]
     },
     "metadata": {},
     "output_type": "display_data"
    },
    {
     "data": {
      "application/javascript": [
       "$('span:contains(\"# Temp\")').closest('.cell').remove();"
      ],
      "text/plain": [
       "<IPython.core.display.Javascript object>"
      ]
     },
     "metadata": {},
     "output_type": "display_data"
    },
    {
     "data": {
      "application/javascript": [
       "\n",
       "        $('span:contains(\"# Temp\")').closest('.cell').remove();\n",
       "        var code = IPython.notebook.insert_cell_below('code');\n",
       "        var prompt = code.element.find(\".input_prompt\");\n",
       "        prompt.append('<br><button style=\"height: 100%; width: 54px;\">Run</button>');\n",
       "        prompt.on(\"click\", \"button\", function(){\n",
       "            code.execute();\n",
       "        });\n",
       "        code.set_text(decodeURIComponent(window.atob(\"JTIzJTIwVGVtcCUwQWluc2VydCUyOCUyNyUyNyUyNyUwQWJhcmNlbGxvczIwMTBiJTIwJTNEJTIwREIlMjhXb3JrVW5yZWxhdGVkJTI4JTBBJTIwJTIwJTIwJTIwMjAxMCUyQyUyMCUyMkElMjB3ZWxsLWZvdW5kZWQlMjBzb2Z0d2FyZSUyMG1lYXN1cmVtZW50JTIwb250b2xvZ3klMjIlMkMlMEElMjAlMjAlMjAlMjBkaXNwbGF5JTNEJTIyYmFyY2VsbG9zJTIwYiUyMiUyQyUwQSUyMCUyMCUyMCUyMGF1dGhvcnMlM0QlMjJCYXJjZWxsb3MlMkMlMjBNLlAuJTIwYW5kJTIwRmFsYm8lMkMlMjBSLkQuQS4lMjBhbmQlMjBEYWwlMjBNb3JvJTJDJTIwUi4lMjIlMkMlMEElMjAlMjAlMjAlMjBwbGFjZSUzREZBS0UlMkMlMEElMjAlMjAlMjAlMjBwcCUzRCUyMjIxMy0yMjYlMjIlMkMlMEElMjAlMjAlMjAlMjBlbnRyeXR5cGUlM0QlMjJhcnRpY2xlJTIyJTJDJTBBJTIwJTIwJTIwJTIwdm9sdW1lJTNEJTIyMjA5JTIyJTJDJTBBJTIwJTIwJTIwJTIwbGluayUzRCUyMmh0dHBzJTNBLy93d3cuc2NvcHVzLmNvbS9pbndhcmQvcmVjb3JkLnVyaSUzRmVpZCUzRDItczIuMC03Nzk1MDk5MDg2MCUyNmRvaSUzRDEwLjMyMzMlMjUyZjk3OC0xLTYwNzUwLTUzNS04LTIxMyUyNnBhcnRuZXJJRCUzRDQwJTI2bWQ1JTNEMTgwNzFmMGQyZWEzOTk5OGVlODk3Mjk3OTcxNDA0ZjklMjIlMkMlMEElMjAlMjAlMjAlMjBJRCUzRCUyMkJhcmNlbGxvczIwMTAyMTMlMjIlMkMlMEElMjAlMjAlMjAlMjBzY29wdXMyMDE2JTNEJTIyMSUyMiUyQyUwQSUyMCUyMCUyMCUyMHBsYWNleCUzRCUyMkZyb250aWVycyUyMGluJTIwQXJ0aWZpY2lhbCUyMEludGVsbGlnZW5jZSUyMGFuZCUyMEFwcGxpY2F0aW9ucyUyMiUyQyUwQSUyOSUyOSUwQSUyNyUyNyUyNyUyOSUzQg==\")));\n",
       "    "
      ],
      "text/plain": [
       "<IPython.core.display.Javascript object>"
      ]
     },
     "metadata": {},
     "output_type": "display_data"
    },
    {
     "data": {
      "application/javascript": [
       "$('span:contains(\"# Temp\")').closest('.cell').remove();"
      ],
      "text/plain": [
       "<IPython.core.display.Javascript object>"
      ]
     },
     "metadata": {},
     "output_type": "display_data"
    },
    {
     "data": {
      "application/javascript": [
       "\n",
       "        $('span:contains(\"# Temp\")').closest('.cell').remove();\n",
       "        var code = IPython.notebook.insert_cell_below('code');\n",
       "        var prompt = code.element.find(\".input_prompt\");\n",
       "        prompt.append('<br><button style=\"height: 100%; width: 54px;\">Run</button>');\n",
       "        prompt.on(\"click\", \"button\", function(){\n",
       "            code.execute();\n",
       "        });\n",
       "        code.set_text(decodeURIComponent(window.atob(\"JTIzJTIwVGVtcCUwQWluc2VydCUyOCUyNyUyNyUyNyUwQWJhcmNlbGxvczIwMTBiJTIwJTNEJTIwREIlMjhXb3JrVW5yZWxhdGVkJTI4JTBBJTIwJTIwJTIwJTIwMjAxMCUyQyUyMCUyMkElMjB3ZWxsLWZvdW5kZWQlMjBzb2Z0d2FyZSUyMG1lYXN1cmVtZW50JTIwb250b2xvZ3klMjIlMkMlMEElMjAlMjAlMjAlMjBkaXNwbGF5JTNEJTIyYmFyY2VsbG9zJTIwYiUyMiUyQyUwQSUyMCUyMCUyMCUyMGF1dGhvcnMlM0QlMjJCYXJjZWxsb3MlMkMlMjBNLlAuJTIwYW5kJTIwRmFsYm8lMkMlMjBSLkQuQS4lMjBhbmQlMjBEYWwlMjBNb3JvJTJDJTIwUi4lMjIlMkMlMEElMjAlMjAlMjAlMjBwbGFjZSUzREZBS0UlMkMlMEElMjAlMjAlMjAlMjBwcCUzRCUyMjIxMy0yMjYlMjIlMkMlMEElMjAlMjAlMjAlMjBlbnRyeXR5cGUlM0QlMjJhcnRpY2xlJTIyJTJDJTBBJTIwJTIwJTIwJTIwdm9sdW1lJTNEJTIyMjA5JTIyJTJDJTBBJTIwJTIwJTIwJTIwbGluayUzRCUyMmh0dHBzJTNBLy93d3cuc2NvcHVzLmNvbS9pbndhcmQvcmVjb3JkLnVyaSUzRmVpZCUzRDItczIuMC03Nzk1MDk5MDg2MCUyNmRvaSUzRDEwLjMyMzMlMjUyZjk3OC0xLTYwNzUwLTUzNS04LTIxMyUyNnBhcnRuZXJJRCUzRDQwJTI2bWQ1JTNEMTgwNzFmMGQyZWEzOTk5OGVlODk3Mjk3OTcxNDA0ZjklMjIlMkMlMEElMjAlMjAlMjAlMjBJRCUzRCUyMkJhcmNlbGxvczIwMTAyMTMlMjIlMkMlMEElMjAlMjAlMjAlMjBzY29wdXMyMDE2JTNEJTIyMSUyMiUyQyUwQSUyMCUyMCUyMCUyMHBsYWNleCUzRCUyMkZyb250aWVycyUyMGluJTIwQXJ0aWZpY2lhbCUyMEludGVsbGlnZW5jZSUyMGFuZCUyMEFwcGxpY2F0aW9ucyUyMiUyQyUwQSUyOSUyOSUwQSUyNyUyNyUyNyUyOSUzQg==\")));\n",
       "    "
      ],
      "text/plain": [
       "<IPython.core.display.Javascript object>"
      ]
     },
     "metadata": {},
     "output_type": "display_data"
    },
    {
     "data": {
      "application/javascript": [
       "$('span:contains(\"# Temp\")').closest('.cell').remove();"
      ],
      "text/plain": [
       "<IPython.core.display.Javascript object>"
      ]
     },
     "metadata": {},
     "output_type": "display_data"
    },
    {
     "data": {
      "application/javascript": [
       "\n",
       "        $('span:contains(\"# Temp\")').closest('.cell').remove();\n",
       "        var code = IPython.notebook.insert_cell_below('code');\n",
       "        var prompt = code.element.find(\".input_prompt\");\n",
       "        prompt.append('<br><button style=\"height: 100%; width: 54px;\">Run</button>');\n",
       "        prompt.on(\"click\", \"button\", function(){\n",
       "            code.execute();\n",
       "        });\n",
       "        code.set_text(decodeURIComponent(window.atob(\"JTIzJTIwVGVtcCUwQWluc2VydCUyOCUyNyUyNyUyNyUwQXdvbHRlcjIwMTBhJTIwJTNEJTIwREIlMjhXb3JrVW5yZWxhdGVkJTI4JTBBJTIwJTIwJTIwJTIwMjAxMCUyQyUyMCUyMkFuJTIwYXBwcm9hY2glMjB0byUyMGNhcHR1cmUlMjBhdXRob3Jpc2F0aW9uJTIwcmVxdWlyZW1lbnRzJTIwaW4lMjBidXNpbmVzcyUyMHByb2Nlc3NlcyUyMiUyQyUwQSUyMCUyMCUyMCUyMGRpc3BsYXklM0QlMjJ3b2x0ZXIlMjIlMkMlMEElMjAlMjAlMjAlMjBhdXRob3JzJTNEJTIyV29sdGVyJTJDJTIwQy4lMjBhbmQlMjBNZWluZWwlMkMlMjBDLiUyMiUyQyUwQSUyMCUyMCUyMCUyMHBsYWNlJTNERkFLRSUyQyUwQSUyMCUyMCUyMCUyMHBwJTNEJTIyMzU5LTM3MyUyMiUyQyUwQSUyMCUyMCUyMCUyMGVudHJ5dHlwZSUzRCUyMmFydGljbGUlMjIlMkMlMEElMjAlMjAlMjAlMjB2b2x1bWUlM0QlMjIxNSUyMiUyQyUwQSUyMCUyMCUyMCUyMG51bWJlciUzRCUyMjQlMjIlMkMlMEElMjAlMjAlMjAlMjBsaW5rJTNEJTIyaHR0cHMlM0EvL3d3dy5zY29wdXMuY29tL2lud2FyZC9yZWNvcmQudXJpJTNGZWlkJTNEMi1zMi4wLTc5NDUxNDY5MDc4JTI2ZG9pJTNEMTAuMTAwNyUyNTJmczAwNzY2LTAxMC0wMTAzLXklMjZwYXJ0bmVySUQlM0Q0MCUyNm1kNSUzRDRjYjI1YWI0ZGI1YWU1NzU5MDU4ZTk1ODllNGZmNjU5JTIyJTJDJTBBJTIwJTIwJTIwJTIwSUQlM0QlMjJXb2x0ZXIyMDEwMzU5JTIyJTJDJTBBJTIwJTIwJTIwJTIwc2NvcHVzMjAxNiUzRCUyMjElMjIlMkMlMEElMjAlMjAlMjAlMjBwbGFjZXglM0QlMjJSZXF1aXJlbWVudHMlMjBFbmdpbmVlcmluZyUyMiUyQyUwQSUyOSUyOSUwQSUyNyUyNyUyNyUyOSUzQg==\")));\n",
       "    "
      ],
      "text/plain": [
       "<IPython.core.display.Javascript object>"
      ]
     },
     "metadata": {},
     "output_type": "display_data"
    },
    {
     "data": {
      "application/javascript": [
       "$('span:contains(\"# Temp\")').closest('.cell').remove();"
      ],
      "text/plain": [
       "<IPython.core.display.Javascript object>"
      ]
     },
     "metadata": {},
     "output_type": "display_data"
    },
    {
     "data": {
      "application/javascript": [
       "\n",
       "        $('span:contains(\"# Temp\")').closest('.cell').remove();\n",
       "        var code = IPython.notebook.insert_cell_below('code');\n",
       "        var prompt = code.element.find(\".input_prompt\");\n",
       "        prompt.append('<br><button style=\"height: 100%; width: 54px;\">Run</button>');\n",
       "        prompt.on(\"click\", \"button\", function(){\n",
       "            code.execute();\n",
       "        });\n",
       "        code.set_text(decodeURIComponent(window.atob(\"JTIzJTIwVGVtcCUwQWluc2VydCUyOCUyNyUyNyUyNyUwQXdvbHRlcjIwMTBhJTIwJTNEJTIwREIlMjhXb3JrVW5yZWxhdGVkJTI4JTBBJTIwJTIwJTIwJTIwMjAxMCUyQyUyMCUyMkFuJTIwYXBwcm9hY2glMjB0byUyMGNhcHR1cmUlMjBhdXRob3Jpc2F0aW9uJTIwcmVxdWlyZW1lbnRzJTIwaW4lMjBidXNpbmVzcyUyMHByb2Nlc3NlcyUyMiUyQyUwQSUyMCUyMCUyMCUyMGRpc3BsYXklM0QlMjJ3b2x0ZXIlMjIlMkMlMEElMjAlMjAlMjAlMjBhdXRob3JzJTNEJTIyV29sdGVyJTJDJTIwQy4lMjBhbmQlMjBNZWluZWwlMkMlMjBDLiUyMiUyQyUwQSUyMCUyMCUyMCUyMHBsYWNlJTNERkFLRSUyQyUwQSUyMCUyMCUyMCUyMHBwJTNEJTIyMzU5LTM3MyUyMiUyQyUwQSUyMCUyMCUyMCUyMGVudHJ5dHlwZSUzRCUyMmFydGljbGUlMjIlMkMlMEElMjAlMjAlMjAlMjB2b2x1bWUlM0QlMjIxNSUyMiUyQyUwQSUyMCUyMCUyMCUyMG51bWJlciUzRCUyMjQlMjIlMkMlMEElMjAlMjAlMjAlMjBsaW5rJTNEJTIyaHR0cHMlM0EvL3d3dy5zY29wdXMuY29tL2lud2FyZC9yZWNvcmQudXJpJTNGZWlkJTNEMi1zMi4wLTc5NDUxNDY5MDc4JTI2ZG9pJTNEMTAuMTAwNyUyNTJmczAwNzY2LTAxMC0wMTAzLXklMjZwYXJ0bmVySUQlM0Q0MCUyNm1kNSUzRDRjYjI1YWI0ZGI1YWU1NzU5MDU4ZTk1ODllNGZmNjU5JTIyJTJDJTBBJTIwJTIwJTIwJTIwSUQlM0QlMjJXb2x0ZXIyMDEwMzU5JTIyJTJDJTBBJTIwJTIwJTIwJTIwc2NvcHVzMjAxNiUzRCUyMjElMjIlMkMlMEElMjAlMjAlMjAlMjBwbGFjZXglM0QlMjJSZXF1aXJlbWVudHMlMjBFbmdpbmVlcmluZyUyMiUyQyUwQSUyOSUyOSUwQSUyNyUyNyUyNyUyOSUzQg==\")));\n",
       "    "
      ],
      "text/plain": [
       "<IPython.core.display.Javascript object>"
      ]
     },
     "metadata": {},
     "output_type": "display_data"
    },
    {
     "data": {
      "application/javascript": [
       "$('span:contains(\"# Temp\")').closest('.cell').remove();"
      ],
      "text/plain": [
       "<IPython.core.display.Javascript object>"
      ]
     },
     "metadata": {},
     "output_type": "display_data"
    },
    {
     "data": {
      "application/javascript": [
       "\n",
       "        $('span:contains(\"# Temp\")').closest('.cell').remove();\n",
       "        var code = IPython.notebook.insert_cell_below('code');\n",
       "        var prompt = code.element.find(\".input_prompt\");\n",
       "        prompt.append('<br><button style=\"height: 100%; width: 54px;\">Run</button>');\n",
       "        prompt.on(\"click\", \"button\", function(){\n",
       "            code.execute();\n",
       "        });\n",
       "        code.set_text(decodeURIComponent(window.atob(\"JTIzJTIwVGVtcCUwQWluc2VydCUyOCUyNyUyNyUyNyUyNyUyNyUyNyUyOSUzQg==\")));\n",
       "    "
      ],
      "text/plain": [
       "<IPython.core.display.Javascript object>"
      ]
     },
     "metadata": {},
     "output_type": "display_data"
    },
    {
     "data": {
      "application/javascript": [
       "$('span:contains(\"# Temp\")').closest('.cell').remove();"
      ],
      "text/plain": [
       "<IPython.core.display.Javascript object>"
      ]
     },
     "metadata": {},
     "output_type": "display_data"
    },
    {
     "data": {
      "application/javascript": [
       "\n",
       "        $('span:contains(\"# Temp\")').closest('.cell').remove();\n",
       "        var code = IPython.notebook.insert_cell_below('code');\n",
       "        var prompt = code.element.find(\".input_prompt\");\n",
       "        prompt.append('<br><button style=\"height: 100%; width: 54px;\">Run</button>');\n",
       "        prompt.on(\"click\", \"button\", function(){\n",
       "            code.execute();\n",
       "        });\n",
       "        code.set_text(decodeURIComponent(window.atob(\"JTIzJTIwVGVtcCUwQWluc2VydCUyOCUyNyUyNyUyNyUyNyUyNyUyNyUyOSUzQg==\")));\n",
       "    "
      ],
      "text/plain": [
       "<IPython.core.display.Javascript object>"
      ]
     },
     "metadata": {},
     "output_type": "display_data"
    },
    {
     "data": {
      "application/javascript": [
       "$('span:contains(\"# Temp\")').closest('.cell').remove();"
      ],
      "text/plain": [
       "<IPython.core.display.Javascript object>"
      ]
     },
     "metadata": {},
     "output_type": "display_data"
    },
    {
     "data": {
      "application/javascript": [
       "\n",
       "        $('span:contains(\"# Temp\")').closest('.cell').remove();\n",
       "        var code = IPython.notebook.insert_cell_below('code');\n",
       "        var prompt = code.element.find(\".input_prompt\");\n",
       "        prompt.append('<br><button style=\"height: 100%; width: 54px;\">Run</button>');\n",
       "        prompt.on(\"click\", \"button\", function(){\n",
       "            code.execute();\n",
       "        });\n",
       "        code.set_text(decodeURIComponent(window.atob(\"JTIzJTIwVGVtcCUwQWluc2VydCUyOCUyNyUyNyUyNyUyNyUyNyUyNyUyOSUzQg==\")));\n",
       "    "
      ],
      "text/plain": [
       "<IPython.core.display.Javascript object>"
      ]
     },
     "metadata": {},
     "output_type": "display_data"
    },
    {
     "data": {
      "application/javascript": [
       "$('span:contains(\"# Temp\")').closest('.cell').remove();"
      ],
      "text/plain": [
       "<IPython.core.display.Javascript object>"
      ]
     },
     "metadata": {},
     "output_type": "display_data"
    },
    {
     "data": {
      "application/javascript": [
       "\n",
       "        $('span:contains(\"# Temp\")').closest('.cell').remove();\n",
       "        var code = IPython.notebook.insert_cell_below('code');\n",
       "        var prompt = code.element.find(\".input_prompt\");\n",
       "        prompt.append('<br><button style=\"height: 100%; width: 54px;\">Run</button>');\n",
       "        prompt.on(\"click\", \"button\", function(){\n",
       "            code.execute();\n",
       "        });\n",
       "        code.set_text(decodeURIComponent(window.atob(\"JTIzJTIwVGVtcCUwQWluc2VydCUyOCUyNyUyNyUyNyUyNyUyNyUyNyUyOSUzQg==\")));\n",
       "    "
      ],
      "text/plain": [
       "<IPython.core.display.Javascript object>"
      ]
     },
     "metadata": {},
     "output_type": "display_data"
    },
    {
     "data": {
      "application/javascript": [
       "$('span:contains(\"# Temp\")').closest('.cell').remove();"
      ],
      "text/plain": [
       "<IPython.core.display.Javascript object>"
      ]
     },
     "metadata": {},
     "output_type": "display_data"
    },
    {
     "data": {
      "application/javascript": [
       "\n",
       "        $('span:contains(\"# Temp\")').closest('.cell').remove();\n",
       "        var code = IPython.notebook.insert_cell_below('code');\n",
       "        var prompt = code.element.find(\".input_prompt\");\n",
       "        prompt.append('<br><button style=\"height: 100%; width: 54px;\">Run</button>');\n",
       "        prompt.on(\"click\", \"button\", function(){\n",
       "            code.execute();\n",
       "        });\n",
       "        code.set_text(decodeURIComponent(window.atob(\"JTIzJTIwVGVtcCUwQWluc2VydCUyOCUyNyUyNyUyNyUyNyUyNyUyNyUyOSUzQg==\")));\n",
       "    "
      ],
      "text/plain": [
       "<IPython.core.display.Javascript object>"
      ]
     },
     "metadata": {},
     "output_type": "display_data"
    },
    {
     "data": {
      "application/javascript": [
       "$('span:contains(\"# Temp\")').closest('.cell').remove();"
      ],
      "text/plain": [
       "<IPython.core.display.Javascript object>"
      ]
     },
     "metadata": {},
     "output_type": "display_data"
    },
    {
     "data": {
      "application/javascript": [
       "\n",
       "        $('span:contains(\"# Temp\")').closest('.cell').remove();\n",
       "        var code = IPython.notebook.insert_cell_below('code');\n",
       "        var prompt = code.element.find(\".input_prompt\");\n",
       "        prompt.append('<br><button style=\"height: 100%; width: 54px;\">Run</button>');\n",
       "        prompt.on(\"click\", \"button\", function(){\n",
       "            code.execute();\n",
       "        });\n",
       "        code.set_text(decodeURIComponent(window.atob(\"JTIzJTIwVGVtcCUwQWluc2VydCUyOCUyNyUyNyUyNyUyNyUyNyUyNyUyOSUzQg==\")));\n",
       "    "
      ],
      "text/plain": [
       "<IPython.core.display.Javascript object>"
      ]
     },
     "metadata": {},
     "output_type": "display_data"
    },
    {
     "data": {
      "application/javascript": [
       "$('span:contains(\"# Temp\")').closest('.cell').remove();"
      ],
      "text/plain": [
       "<IPython.core.display.Javascript object>"
      ]
     },
     "metadata": {},
     "output_type": "display_data"
    },
    {
     "data": {
      "application/javascript": [
       "\n",
       "        $('span:contains(\"# Temp\")').closest('.cell').remove();\n",
       "        var code = IPython.notebook.insert_cell_below('code');\n",
       "        var prompt = code.element.find(\".input_prompt\");\n",
       "        prompt.append('<br><button style=\"height: 100%; width: 54px;\">Run</button>');\n",
       "        prompt.on(\"click\", \"button\", function(){\n",
       "            code.execute();\n",
       "        });\n",
       "        code.set_text(decodeURIComponent(window.atob(\"JTIzJTIwVGVtcCUwQWluc2VydCUyOCUyNyUyNyUyNyUyNyUyNyUyNyUyOSUzQg==\")));\n",
       "    "
      ],
      "text/plain": [
       "<IPython.core.display.Javascript object>"
      ]
     },
     "metadata": {},
     "output_type": "display_data"
    },
    {
     "data": {
      "application/javascript": [
       "$('span:contains(\"# Temp\")').closest('.cell').remove();"
      ],
      "text/plain": [
       "<IPython.core.display.Javascript object>"
      ]
     },
     "metadata": {},
     "output_type": "display_data"
    },
    {
     "data": {
      "application/javascript": [
       "\n",
       "        $('span:contains(\"# Temp\")').closest('.cell').remove();\n",
       "        var code = IPython.notebook.insert_cell_below('code');\n",
       "        var prompt = code.element.find(\".input_prompt\");\n",
       "        prompt.append('<br><button style=\"height: 100%; width: 54px;\">Run</button>');\n",
       "        prompt.on(\"click\", \"button\", function(){\n",
       "            code.execute();\n",
       "        });\n",
       "        code.set_text(decodeURIComponent(window.atob(\"JTIzJTIwVGVtcCUwQWluc2VydCUyOCUyNyUyNyUyNyUyNyUyNyUyNyUyOSUzQg==\")));\n",
       "    "
      ],
      "text/plain": [
       "<IPython.core.display.Javascript object>"
      ]
     },
     "metadata": {},
     "output_type": "display_data"
    },
    {
     "data": {
      "application/javascript": [
       "$('span:contains(\"# Temp\")').closest('.cell').remove();"
      ],
      "text/plain": [
       "<IPython.core.display.Javascript object>"
      ]
     },
     "metadata": {},
     "output_type": "display_data"
    },
    {
     "data": {
      "application/javascript": [
       "\n",
       "        $('span:contains(\"# Temp\")').closest('.cell').remove();\n",
       "        var code = IPython.notebook.insert_cell_below('code');\n",
       "        var prompt = code.element.find(\".input_prompt\");\n",
       "        prompt.append('<br><button style=\"height: 100%; width: 54px;\">Run</button>');\n",
       "        prompt.on(\"click\", \"button\", function(){\n",
       "            code.execute();\n",
       "        });\n",
       "        code.set_text(decodeURIComponent(window.atob(\"JTIzJTIwVGVtcCUwQWluc2VydCUyOCUyNyUyNyUyNyUyNyUyNyUyNyUyOSUzQg==\")));\n",
       "    "
      ],
      "text/plain": [
       "<IPython.core.display.Javascript object>"
      ]
     },
     "metadata": {},
     "output_type": "display_data"
    },
    {
     "data": {
      "application/javascript": [
       "$('span:contains(\"# Temp\")').closest('.cell').remove();"
      ],
      "text/plain": [
       "<IPython.core.display.Javascript object>"
      ]
     },
     "metadata": {},
     "output_type": "display_data"
    },
    {
     "data": {
      "application/javascript": [
       "\n",
       "        $('span:contains(\"# Temp\")').closest('.cell').remove();\n",
       "        var code = IPython.notebook.insert_cell_below('code');\n",
       "        var prompt = code.element.find(\".input_prompt\");\n",
       "        prompt.append('<br><button style=\"height: 100%; width: 54px;\">Run</button>');\n",
       "        prompt.on(\"click\", \"button\", function(){\n",
       "            code.execute();\n",
       "        });\n",
       "        code.set_text(decodeURIComponent(window.atob(\"JTIzJTIwVGVtcCUwQWluc2VydCUyOCUyNyUyNyUyNyUyNyUyNyUyNyUyOSUzQg==\")));\n",
       "    "
      ],
      "text/plain": [
       "<IPython.core.display.Javascript object>"
      ]
     },
     "metadata": {},
     "output_type": "display_data"
    },
    {
     "data": {
      "application/javascript": [
       "$('span:contains(\"# Temp\")').closest('.cell').remove();"
      ],
      "text/plain": [
       "<IPython.core.display.Javascript object>"
      ]
     },
     "metadata": {},
     "output_type": "display_data"
    },
    {
     "data": {
      "application/javascript": [
       "\n",
       "        $('span:contains(\"# Temp\")').closest('.cell').remove();\n",
       "        var code = IPython.notebook.insert_cell_below('code');\n",
       "        var prompt = code.element.find(\".input_prompt\");\n",
       "        prompt.append('<br><button style=\"height: 100%; width: 54px;\">Run</button>');\n",
       "        prompt.on(\"click\", \"button\", function(){\n",
       "            code.execute();\n",
       "        });\n",
       "        code.set_text(decodeURIComponent(window.atob(\"JTIzJTIwVGVtcCUwQWluc2VydCUyOCUyNyUyNyUyNyUyNyUyNyUyNyUyOSUzQg==\")));\n",
       "    "
      ],
      "text/plain": [
       "<IPython.core.display.Javascript object>"
      ]
     },
     "metadata": {},
     "output_type": "display_data"
    },
    {
     "data": {
      "application/javascript": [
       "$('span:contains(\"# Temp\")').closest('.cell').remove();"
      ],
      "text/plain": [
       "<IPython.core.display.Javascript object>"
      ]
     },
     "metadata": {},
     "output_type": "display_data"
    },
    {
     "data": {
      "application/javascript": [
       "\n",
       "        $('span:contains(\"# Temp\")').closest('.cell').remove();\n",
       "        var code = IPython.notebook.insert_cell_below('code');\n",
       "        var prompt = code.element.find(\".input_prompt\");\n",
       "        prompt.append('<br><button style=\"height: 100%; width: 54px;\">Run</button>');\n",
       "        prompt.on(\"click\", \"button\", function(){\n",
       "            code.execute();\n",
       "        });\n",
       "        code.set_text(decodeURIComponent(window.atob(\"JTIzJTIwVGVtcCUwQWluc2VydCUyOCUyNyUyNyUyNyUyNyUyNyUyNyUyOSUzQg==\")));\n",
       "    "
      ],
      "text/plain": [
       "<IPython.core.display.Javascript object>"
      ]
     },
     "metadata": {},
     "output_type": "display_data"
    },
    {
     "data": {
      "application/javascript": [
       "$('span:contains(\"# Temp\")').closest('.cell').remove();"
      ],
      "text/plain": [
       "<IPython.core.display.Javascript object>"
      ]
     },
     "metadata": {},
     "output_type": "display_data"
    },
    {
     "data": {
      "application/javascript": [
       "\n",
       "        $('span:contains(\"# Temp\")').closest('.cell').remove();\n",
       "        var code = IPython.notebook.insert_cell_below('code');\n",
       "        var prompt = code.element.find(\".input_prompt\");\n",
       "        prompt.append('<br><button style=\"height: 100%; width: 54px;\">Run</button>');\n",
       "        prompt.on(\"click\", \"button\", function(){\n",
       "            code.execute();\n",
       "        });\n",
       "        code.set_text(decodeURIComponent(window.atob(\"JTIzJTIwVGVtcCUwQWluc2VydCUyOCUyNyUyNyUyNyUyNyUyNyUyNyUyOSUzQg==\")));\n",
       "    "
      ],
      "text/plain": [
       "<IPython.core.display.Javascript object>"
      ]
     },
     "metadata": {},
     "output_type": "display_data"
    },
    {
     "data": {
      "application/javascript": [
       "$('span:contains(\"# Temp\")').closest('.cell').remove();"
      ],
      "text/plain": [
       "<IPython.core.display.Javascript object>"
      ]
     },
     "metadata": {},
     "output_type": "display_data"
    },
    {
     "data": {
      "application/javascript": [
       "\n",
       "        $('span:contains(\"# Temp\")').closest('.cell').remove();\n",
       "        var code = IPython.notebook.insert_cell_below('code');\n",
       "        var prompt = code.element.find(\".input_prompt\");\n",
       "        prompt.append('<br><button style=\"height: 100%; width: 54px;\">Run</button>');\n",
       "        prompt.on(\"click\", \"button\", function(){\n",
       "            code.execute();\n",
       "        });\n",
       "        code.set_text(decodeURIComponent(window.atob(\"JTIzJTIwVGVtcCUwQWluc2VydCUyOCUyNyUyNyUyNyUyNyUyNyUyNyUyOSUzQg==\")));\n",
       "    "
      ],
      "text/plain": [
       "<IPython.core.display.Javascript object>"
      ]
     },
     "metadata": {},
     "output_type": "display_data"
    },
    {
     "data": {
      "application/javascript": [
       "$('span:contains(\"# Temp\")').closest('.cell').remove();"
      ],
      "text/plain": [
       "<IPython.core.display.Javascript object>"
      ]
     },
     "metadata": {},
     "output_type": "display_data"
    },
    {
     "data": {
      "application/javascript": [
       "\n",
       "        $('span:contains(\"# Temp\")').closest('.cell').remove();\n",
       "        var code = IPython.notebook.insert_cell_below('code');\n",
       "        var prompt = code.element.find(\".input_prompt\");\n",
       "        prompt.append('<br><button style=\"height: 100%; width: 54px;\">Run</button>');\n",
       "        prompt.on(\"click\", \"button\", function(){\n",
       "            code.execute();\n",
       "        });\n",
       "        code.set_text(decodeURIComponent(window.atob(\"JTIzJTIwVGVtcCUwQWluc2VydCUyOCUyNyUyNyUyNyUyNyUyNyUyNyUyOSUzQg==\")));\n",
       "    "
      ],
      "text/plain": [
       "<IPython.core.display.Javascript object>"
      ]
     },
     "metadata": {},
     "output_type": "display_data"
    },
    {
     "data": {
      "application/javascript": [
       "$('span:contains(\"# Temp\")').closest('.cell').remove();"
      ],
      "text/plain": [
       "<IPython.core.display.Javascript object>"
      ]
     },
     "metadata": {},
     "output_type": "display_data"
    },
    {
     "data": {
      "application/javascript": [
       "\n",
       "        $('span:contains(\"# Temp\")').closest('.cell').remove();\n",
       "        var code = IPython.notebook.insert_cell_below('code');\n",
       "        var prompt = code.element.find(\".input_prompt\");\n",
       "        prompt.append('<br><button style=\"height: 100%; width: 54px;\">Run</button>');\n",
       "        prompt.on(\"click\", \"button\", function(){\n",
       "            code.execute();\n",
       "        });\n",
       "        code.set_text(decodeURIComponent(window.atob(\"JTIzJTIwVGVtcCUwQWluc2VydCUyOCUyNyUyNyUyNyUyNyUyNyUyNyUyOSUzQg==\")));\n",
       "    "
      ],
      "text/plain": [
       "<IPython.core.display.Javascript object>"
      ]
     },
     "metadata": {},
     "output_type": "display_data"
    },
    {
     "data": {
      "application/javascript": [
       "$('span:contains(\"# Temp\")').closest('.cell').remove();"
      ],
      "text/plain": [
       "<IPython.core.display.Javascript object>"
      ]
     },
     "metadata": {},
     "output_type": "display_data"
    },
    {
     "data": {
      "application/javascript": [
       "\n",
       "        $('span:contains(\"# Temp\")').closest('.cell').remove();\n",
       "        var code = IPython.notebook.insert_cell_below('code');\n",
       "        var prompt = code.element.find(\".input_prompt\");\n",
       "        prompt.append('<br><button style=\"height: 100%; width: 54px;\">Run</button>');\n",
       "        prompt.on(\"click\", \"button\", function(){\n",
       "            code.execute();\n",
       "        });\n",
       "        code.set_text(decodeURIComponent(window.atob(\"JTIzJTIwVGVtcCUwQWluc2VydCUyOCUyNyUyNyUyNyUyNyUyNyUyNyUyOSUzQg==\")));\n",
       "    "
      ],
      "text/plain": [
       "<IPython.core.display.Javascript object>"
      ]
     },
     "metadata": {},
     "output_type": "display_data"
    },
    {
     "data": {
      "application/javascript": [
       "$('span:contains(\"# Temp\")').closest('.cell').remove();"
      ],
      "text/plain": [
       "<IPython.core.display.Javascript object>"
      ]
     },
     "metadata": {},
     "output_type": "display_data"
    },
    {
     "data": {
      "application/javascript": [
       "\n",
       "        $('span:contains(\"# Temp\")').closest('.cell').remove();\n",
       "        var code = IPython.notebook.insert_cell_below('code');\n",
       "        var prompt = code.element.find(\".input_prompt\");\n",
       "        prompt.append('<br><button style=\"height: 100%; width: 54px;\">Run</button>');\n",
       "        prompt.on(\"click\", \"button\", function(){\n",
       "            code.execute();\n",
       "        });\n",
       "        code.set_text(decodeURIComponent(window.atob(\"JTIzJTIwVGVtcCUwQWluc2VydCUyOCUyNyUyNyUyNyUyNyUyNyUyNyUyOSUzQg==\")));\n",
       "    "
      ],
      "text/plain": [
       "<IPython.core.display.Javascript object>"
      ]
     },
     "metadata": {},
     "output_type": "display_data"
    },
    {
     "data": {
      "application/javascript": [
       "$('span:contains(\"# Temp\")').closest('.cell').remove();"
      ],
      "text/plain": [
       "<IPython.core.display.Javascript object>"
      ]
     },
     "metadata": {},
     "output_type": "display_data"
    },
    {
     "data": {
      "application/javascript": [
       "\n",
       "        $('span:contains(\"# Temp\")').closest('.cell').remove();\n",
       "        var code = IPython.notebook.insert_cell_below('code');\n",
       "        var prompt = code.element.find(\".input_prompt\");\n",
       "        prompt.append('<br><button style=\"height: 100%; width: 54px;\">Run</button>');\n",
       "        prompt.on(\"click\", \"button\", function(){\n",
       "            code.execute();\n",
       "        });\n",
       "        code.set_text(decodeURIComponent(window.atob(\"JTIzJTIwVGVtcCUwQWluc2VydCUyOCUyNyUyNyUyNyUyNyUyNyUyNyUyOSUzQg==\")));\n",
       "    "
      ],
      "text/plain": [
       "<IPython.core.display.Javascript object>"
      ]
     },
     "metadata": {},
     "output_type": "display_data"
    },
    {
     "data": {
      "application/javascript": [
       "$('span:contains(\"# Temp\")').closest('.cell').remove();"
      ],
      "text/plain": [
       "<IPython.core.display.Javascript object>"
      ]
     },
     "metadata": {},
     "output_type": "display_data"
    },
    {
     "data": {
      "application/javascript": [
       "\n",
       "        $('span:contains(\"# Temp\")').closest('.cell').remove();\n",
       "        var code = IPython.notebook.insert_cell_below('code');\n",
       "        var prompt = code.element.find(\".input_prompt\");\n",
       "        prompt.append('<br><button style=\"height: 100%; width: 54px;\">Run</button>');\n",
       "        prompt.on(\"click\", \"button\", function(){\n",
       "            code.execute();\n",
       "        });\n",
       "        code.set_text(decodeURIComponent(window.atob(\"JTIzJTIwVGVtcCUwQWluc2VydCUyOCUyNyUyNyUyNyUyNyUyNyUyNyUyOSUzQg==\")));\n",
       "    "
      ],
      "text/plain": [
       "<IPython.core.display.Javascript object>"
      ]
     },
     "metadata": {},
     "output_type": "display_data"
    },
    {
     "data": {
      "application/javascript": [
       "$('span:contains(\"# Temp\")').closest('.cell').remove();"
      ],
      "text/plain": [
       "<IPython.core.display.Javascript object>"
      ]
     },
     "metadata": {},
     "output_type": "display_data"
    },
    {
     "data": {
      "application/javascript": [
       "\n",
       "        $('span:contains(\"# Temp\")').closest('.cell').remove();\n",
       "        var code = IPython.notebook.insert_cell_below('code');\n",
       "        var prompt = code.element.find(\".input_prompt\");\n",
       "        prompt.append('<br><button style=\"height: 100%; width: 54px;\">Run</button>');\n",
       "        prompt.on(\"click\", \"button\", function(){\n",
       "            code.execute();\n",
       "        });\n",
       "        code.set_text(decodeURIComponent(window.atob(\"JTIzJTIwVGVtcCUwQWluc2VydCUyOCUyNyUyNyUyNyUyNyUyNyUyNyUyOSUzQg==\")));\n",
       "    "
      ],
      "text/plain": [
       "<IPython.core.display.Javascript object>"
      ]
     },
     "metadata": {},
     "output_type": "display_data"
    },
    {
     "data": {
      "application/javascript": [
       "$('span:contains(\"# Temp\")').closest('.cell').remove();"
      ],
      "text/plain": [
       "<IPython.core.display.Javascript object>"
      ]
     },
     "metadata": {},
     "output_type": "display_data"
    },
    {
     "data": {
      "application/javascript": [
       "\n",
       "        $('span:contains(\"# Temp\")').closest('.cell').remove();\n",
       "        var code = IPython.notebook.insert_cell_below('code');\n",
       "        var prompt = code.element.find(\".input_prompt\");\n",
       "        prompt.append('<br><button style=\"height: 100%; width: 54px;\">Run</button>');\n",
       "        prompt.on(\"click\", \"button\", function(){\n",
       "            code.execute();\n",
       "        });\n",
       "        code.set_text(decodeURIComponent(window.atob(\"JTIzJTIwVGVtcCUwQWluc2VydCUyOCUyNyUyNyUyNyUyNyUyNyUyNyUyOSUzQg==\")));\n",
       "    "
      ],
      "text/plain": [
       "<IPython.core.display.Javascript object>"
      ]
     },
     "metadata": {},
     "output_type": "display_data"
    },
    {
     "data": {
      "application/javascript": [
       "$('span:contains(\"# Temp\")').closest('.cell').remove();"
      ],
      "text/plain": [
       "<IPython.core.display.Javascript object>"
      ]
     },
     "metadata": {},
     "output_type": "display_data"
    },
    {
     "data": {
      "application/javascript": [
       "\n",
       "        $('span:contains(\"# Temp\")').closest('.cell').remove();\n",
       "        var code = IPython.notebook.insert_cell_below('code');\n",
       "        var prompt = code.element.find(\".input_prompt\");\n",
       "        prompt.append('<br><button style=\"height: 100%; width: 54px;\">Run</button>');\n",
       "        prompt.on(\"click\", \"button\", function(){\n",
       "            code.execute();\n",
       "        });\n",
       "        code.set_text(decodeURIComponent(window.atob(\"JTIzJTIwVGVtcCUwQWluc2VydCUyOCUyNyUyNyUyNyUyNyUyNyUyNyUyOSUzQg==\")));\n",
       "    "
      ],
      "text/plain": [
       "<IPython.core.display.Javascript object>"
      ]
     },
     "metadata": {},
     "output_type": "display_data"
    },
    {
     "data": {
      "application/javascript": [
       "$('span:contains(\"# Temp\")').closest('.cell').remove();"
      ],
      "text/plain": [
       "<IPython.core.display.Javascript object>"
      ]
     },
     "metadata": {},
     "output_type": "display_data"
    },
    {
     "data": {
      "application/javascript": [
       "\n",
       "        $('span:contains(\"# Temp\")').closest('.cell').remove();\n",
       "        var code = IPython.notebook.insert_cell_below('code');\n",
       "        var prompt = code.element.find(\".input_prompt\");\n",
       "        prompt.append('<br><button style=\"height: 100%; width: 54px;\">Run</button>');\n",
       "        prompt.on(\"click\", \"button\", function(){\n",
       "            code.execute();\n",
       "        });\n",
       "        code.set_text(decodeURIComponent(window.atob(\"JTIzJTIwVGVtcCUwQWluc2VydCUyOCUyNyUyNyUyNyUyNyUyNyUyNyUyOSUzQg==\")));\n",
       "    "
      ],
      "text/plain": [
       "<IPython.core.display.Javascript object>"
      ]
     },
     "metadata": {},
     "output_type": "display_data"
    },
    {
     "data": {
      "application/javascript": [
       "$('span:contains(\"# Temp\")').closest('.cell').remove();"
      ],
      "text/plain": [
       "<IPython.core.display.Javascript object>"
      ]
     },
     "metadata": {},
     "output_type": "display_data"
    },
    {
     "data": {
      "application/javascript": [
       "\n",
       "        $('span:contains(\"# Temp\")').closest('.cell').remove();\n",
       "        var code = IPython.notebook.insert_cell_below('code');\n",
       "        var prompt = code.element.find(\".input_prompt\");\n",
       "        prompt.append('<br><button style=\"height: 100%; width: 54px;\">Run</button>');\n",
       "        prompt.on(\"click\", \"button\", function(){\n",
       "            code.execute();\n",
       "        });\n",
       "        code.set_text(decodeURIComponent(window.atob(\"JTIzJTIwVGVtcCUwQWluc2VydCUyOCUyNyUyNyUyNyUwQWNob2kyMDEyYSUyMCUzRCUyMERCJTI4V29ya1VucmVsYXRlZCUyOCUwQSUyMCUyMCUyMCUyMDIwMTIlMkMlMjAlMjJTZW1hbnRpYyUyMHByb2Nlc3MlMjBtYW5hZ2VtZW50JTIwZW52aXJvbm1lbnQlMjIlMkMlMEElMjAlMjAlMjAlMjBkaXNwbGF5JTNEJTIyY2hvaSUyMiUyQyUwQSUyMCUyMCUyMCUyMGF1dGhvcnMlM0QlMjJDaG9pJTJDJTIwUy4lMjIlMkMlMEElMjAlMjAlMjAlMjBwbGFjZSUzREZBS0UlMkMlMEElMjAlMjAlMjAlMjBwcCUzRCUyMjEwNi0xMTAlMjIlMkMlMEElMjAlMjAlMjAlMjBlbnRyeXR5cGUlM0QlMjJjb25mZXJlbmNlJTIyJTJDJTBBJTIwJTIwJTIwJTIwYXJ0X251bWJlciUzRCUyMjYxNzIxMDclMjIlMkMlMEElMjAlMjAlMjAlMjBsaW5rJTNEJTIyaHR0cHMlM0EvL3d3dy5zY29wdXMuY29tL2lud2FyZC9yZWNvcmQudXJpJTNGZWlkJTNEMi1zMi4wLTg0ODYwNDcwOTU2JTI2ZG9pJTNEMTAuMTEwOSUyNTJmVUNNQS4yMDExLjMxJTI2cGFydG5lcklEJTNENDAlMjZtZDUlM0Q4NzdmZmZjMDg2ZWZkNmQyYWZjYWQ1MDEyNjdjYzA0YyUyMiUyQyUwQSUyMCUyMCUyMCUyMElEJTNEJTIyQ2hvaTIwMTIxMDYlMjIlMkMlMEElMjAlMjAlMjAlMjBzY29wdXMyMDE2JTNEJTIyMSUyMiUyQyUwQSUyMCUyMCUyMCUyMHBsYWNleCUzRCUyMlByb2NlZWRpbmdzJTIwLSUyMDIwMTElMjBJbnRlcm5hdGlvbmFsJTIwQ29uZmVyZW5jZSUyMG9uJTIwVWJpcXVpdG91cyUyMENvbXB1dGluZyUyMGFuZCUyME11bHRpbWVkaWElMjBBcHBsaWNhdGlvbnMlMkMlMjBVQ01BJTIwMjAxMSUyMiUyQyUwQSUyOSUyOSUwQSUyNyUyNyUyNyUyOSUzQg==\")));\n",
       "    "
      ],
      "text/plain": [
       "<IPython.core.display.Javascript object>"
      ]
     },
     "metadata": {},
     "output_type": "display_data"
    },
    {
     "data": {
      "application/javascript": [
       "$('span:contains(\"# Temp\")').closest('.cell').remove();"
      ],
      "text/plain": [
       "<IPython.core.display.Javascript object>"
      ]
     },
     "metadata": {},
     "output_type": "display_data"
    },
    {
     "data": {
      "application/javascript": [
       "\n",
       "        $('span:contains(\"# Temp\")').closest('.cell').remove();\n",
       "        var code = IPython.notebook.insert_cell_below('code');\n",
       "        var prompt = code.element.find(\".input_prompt\");\n",
       "        prompt.append('<br><button style=\"height: 100%; width: 54px;\">Run</button>');\n",
       "        prompt.on(\"click\", \"button\", function(){\n",
       "            code.execute();\n",
       "        });\n",
       "        code.set_text(decodeURIComponent(window.atob(\"JTIzJTIwVGVtcCUwQWluc2VydCUyOCUyNyUyNyUyNyUwQWNob2kyMDEyYSUyMCUzRCUyMERCJTI4V29ya1VucmVsYXRlZCUyOCUwQSUyMCUyMCUyMCUyMDIwMTIlMkMlMjAlMjJTZW1hbnRpYyUyMHByb2Nlc3MlMjBtYW5hZ2VtZW50JTIwZW52aXJvbm1lbnQlMjIlMkMlMEElMjAlMjAlMjAlMjBkaXNwbGF5JTNEJTIyY2hvaSUyMiUyQyUwQSUyMCUyMCUyMCUyMGF1dGhvcnMlM0QlMjJDaG9pJTJDJTIwUy4lMjIlMkMlMEElMjAlMjAlMjAlMjBwbGFjZSUzREZBS0UlMkMlMEElMjAlMjAlMjAlMjBwcCUzRCUyMjEwNi0xMTAlMjIlMkMlMEElMjAlMjAlMjAlMjBlbnRyeXR5cGUlM0QlMjJjb25mZXJlbmNlJTIyJTJDJTBBJTIwJTIwJTIwJTIwYXJ0X251bWJlciUzRCUyMjYxNzIxMDclMjIlMkMlMEElMjAlMjAlMjAlMjBsaW5rJTNEJTIyaHR0cHMlM0EvL3d3dy5zY29wdXMuY29tL2lud2FyZC9yZWNvcmQudXJpJTNGZWlkJTNEMi1zMi4wLTg0ODYwNDcwOTU2JTI2ZG9pJTNEMTAuMTEwOSUyNTJmVUNNQS4yMDExLjMxJTI2cGFydG5lcklEJTNENDAlMjZtZDUlM0Q4NzdmZmZjMDg2ZWZkNmQyYWZjYWQ1MDEyNjdjYzA0YyUyMiUyQyUwQSUyMCUyMCUyMCUyMElEJTNEJTIyQ2hvaTIwMTIxMDYlMjIlMkMlMEElMjAlMjAlMjAlMjBzY29wdXMyMDE2JTNEJTIyMSUyMiUyQyUwQSUyMCUyMCUyMCUyMHBsYWNleCUzRCUyMlByb2NlZWRpbmdzJTIwLSUyMDIwMTElMjBJbnRlcm5hdGlvbmFsJTIwQ29uZmVyZW5jZSUyMG9uJTIwVWJpcXVpdG91cyUyMENvbXB1dGluZyUyMGFuZCUyME11bHRpbWVkaWElMjBBcHBsaWNhdGlvbnMlMkMlMjBVQ01BJTIwMjAxMSUyMiUyQyUwQSUyOSUyOSUwQSUyNyUyNyUyNyUyOSUzQg==\")));\n",
       "    "
      ],
      "text/plain": [
       "<IPython.core.display.Javascript object>"
      ]
     },
     "metadata": {},
     "output_type": "display_data"
    },
    {
     "data": {
      "application/javascript": [
       "$('span:contains(\"# Temp\")').closest('.cell').remove();"
      ],
      "text/plain": [
       "<IPython.core.display.Javascript object>"
      ]
     },
     "metadata": {},
     "output_type": "display_data"
    },
    {
     "data": {
      "application/javascript": [
       "\n",
       "        $('span:contains(\"# Temp\")').closest('.cell').remove();\n",
       "        var code = IPython.notebook.insert_cell_below('code');\n",
       "        var prompt = code.element.find(\".input_prompt\");\n",
       "        prompt.append('<br><button style=\"height: 100%; width: 54px;\">Run</button>');\n",
       "        prompt.on(\"click\", \"button\", function(){\n",
       "            code.execute();\n",
       "        });\n",
       "        code.set_text(decodeURIComponent(window.atob(\"JTIzJTIwVGVtcCUwQWluc2VydCUyOCUyNyUyNyUyNyUyNyUyNyUyNyUyOSUzQg==\")));\n",
       "    "
      ],
      "text/plain": [
       "<IPython.core.display.Javascript object>"
      ]
     },
     "metadata": {},
     "output_type": "display_data"
    },
    {
     "data": {
      "application/javascript": [
       "$('span:contains(\"# Temp\")').closest('.cell').remove();"
      ],
      "text/plain": [
       "<IPython.core.display.Javascript object>"
      ]
     },
     "metadata": {},
     "output_type": "display_data"
    },
    {
     "data": {
      "application/javascript": [
       "\n",
       "        $('span:contains(\"# Temp\")').closest('.cell').remove();\n",
       "        var code = IPython.notebook.insert_cell_below('code');\n",
       "        var prompt = code.element.find(\".input_prompt\");\n",
       "        prompt.append('<br><button style=\"height: 100%; width: 54px;\">Run</button>');\n",
       "        prompt.on(\"click\", \"button\", function(){\n",
       "            code.execute();\n",
       "        });\n",
       "        code.set_text(decodeURIComponent(window.atob(\"JTIzJTIwVGVtcCUwQWluc2VydCUyOCUyNyUyNyUyNyUyNyUyNyUyNyUyOSUzQg==\")));\n",
       "    "
      ],
      "text/plain": [
       "<IPython.core.display.Javascript object>"
      ]
     },
     "metadata": {},
     "output_type": "display_data"
    },
    {
     "data": {
      "application/javascript": [
       "$('span:contains(\"# Temp\")').closest('.cell').remove();"
      ],
      "text/plain": [
       "<IPython.core.display.Javascript object>"
      ]
     },
     "metadata": {},
     "output_type": "display_data"
    },
    {
     "data": {
      "application/javascript": [
       "\n",
       "        $('span:contains(\"# Temp\")').closest('.cell').remove();\n",
       "        var code = IPython.notebook.insert_cell_below('code');\n",
       "        var prompt = code.element.find(\".input_prompt\");\n",
       "        prompt.append('<br><button style=\"height: 100%; width: 54px;\">Run</button>');\n",
       "        prompt.on(\"click\", \"button\", function(){\n",
       "            code.execute();\n",
       "        });\n",
       "        code.set_text(decodeURIComponent(window.atob(\"JTIzJTIwVGVtcCUwQWluc2VydCUyOCUyNyUyNyUyNyUyNyUyNyUyNyUyOSUzQg==\")));\n",
       "    "
      ],
      "text/plain": [
       "<IPython.core.display.Javascript object>"
      ]
     },
     "metadata": {},
     "output_type": "display_data"
    },
    {
     "data": {
      "application/javascript": [
       "$('span:contains(\"# Temp\")').closest('.cell').remove();"
      ],
      "text/plain": [
       "<IPython.core.display.Javascript object>"
      ]
     },
     "metadata": {},
     "output_type": "display_data"
    },
    {
     "data": {
      "application/javascript": [
       "\n",
       "        $('span:contains(\"# Temp\")').closest('.cell').remove();\n",
       "        var code = IPython.notebook.insert_cell_below('code');\n",
       "        var prompt = code.element.find(\".input_prompt\");\n",
       "        prompt.append('<br><button style=\"height: 100%; width: 54px;\">Run</button>');\n",
       "        prompt.on(\"click\", \"button\", function(){\n",
       "            code.execute();\n",
       "        });\n",
       "        code.set_text(decodeURIComponent(window.atob(\"JTIzJTIwVGVtcCUwQWluc2VydCUyOCUyNyUyNyUyNyUyNyUyNyUyNyUyOSUzQg==\")));\n",
       "    "
      ],
      "text/plain": [
       "<IPython.core.display.Javascript object>"
      ]
     },
     "metadata": {},
     "output_type": "display_data"
    },
    {
     "data": {
      "application/javascript": [
       "$('span:contains(\"# Temp\")').closest('.cell').remove();"
      ],
      "text/plain": [
       "<IPython.core.display.Javascript object>"
      ]
     },
     "metadata": {},
     "output_type": "display_data"
    },
    {
     "data": {
      "application/javascript": [
       "\n",
       "        $('span:contains(\"# Temp\")').closest('.cell').remove();\n",
       "        var code = IPython.notebook.insert_cell_below('code');\n",
       "        var prompt = code.element.find(\".input_prompt\");\n",
       "        prompt.append('<br><button style=\"height: 100%; width: 54px;\">Run</button>');\n",
       "        prompt.on(\"click\", \"button\", function(){\n",
       "            code.execute();\n",
       "        });\n",
       "        code.set_text(decodeURIComponent(window.atob(\"JTIzJTIwVGVtcCUwQWluc2VydCUyOCUyNyUyNyUyNyUyNyUyNyUyNyUyOSUzQg==\")));\n",
       "    "
      ],
      "text/plain": [
       "<IPython.core.display.Javascript object>"
      ]
     },
     "metadata": {},
     "output_type": "display_data"
    },
    {
     "data": {
      "application/javascript": [
       "$('span:contains(\"# Temp\")').closest('.cell').remove();"
      ],
      "text/plain": [
       "<IPython.core.display.Javascript object>"
      ]
     },
     "metadata": {},
     "output_type": "display_data"
    },
    {
     "data": {
      "application/javascript": [
       "\n",
       "        $('span:contains(\"# Temp\")').closest('.cell').remove();\n",
       "        var code = IPython.notebook.insert_cell_below('code');\n",
       "        var prompt = code.element.find(\".input_prompt\");\n",
       "        prompt.append('<br><button style=\"height: 100%; width: 54px;\">Run</button>');\n",
       "        prompt.on(\"click\", \"button\", function(){\n",
       "            code.execute();\n",
       "        });\n",
       "        code.set_text(decodeURIComponent(window.atob(\"JTIzJTIwVGVtcCUwQWluc2VydCUyOCUyNyUyNyUyNyUyNyUyNyUyNyUyOSUzQg==\")));\n",
       "    "
      ],
      "text/plain": [
       "<IPython.core.display.Javascript object>"
      ]
     },
     "metadata": {},
     "output_type": "display_data"
    },
    {
     "data": {
      "application/javascript": [
       "$('span:contains(\"# Temp\")').closest('.cell').remove();"
      ],
      "text/plain": [
       "<IPython.core.display.Javascript object>"
      ]
     },
     "metadata": {},
     "output_type": "display_data"
    },
    {
     "data": {
      "application/javascript": [
       "\n",
       "        $('span:contains(\"# Temp\")').closest('.cell').remove();\n",
       "        var code = IPython.notebook.insert_cell_below('code');\n",
       "        var prompt = code.element.find(\".input_prompt\");\n",
       "        prompt.append('<br><button style=\"height: 100%; width: 54px;\">Run</button>');\n",
       "        prompt.on(\"click\", \"button\", function(){\n",
       "            code.execute();\n",
       "        });\n",
       "        code.set_text(decodeURIComponent(window.atob(\"JTIzJTIwVGVtcCUwQWluc2VydCUyOCUyNyUyNyUyNyUyNyUyNyUyNyUyOSUzQg==\")));\n",
       "    "
      ],
      "text/plain": [
       "<IPython.core.display.Javascript object>"
      ]
     },
     "metadata": {},
     "output_type": "display_data"
    },
    {
     "data": {
      "application/javascript": [
       "$('span:contains(\"# Temp\")').closest('.cell').remove();"
      ],
      "text/plain": [
       "<IPython.core.display.Javascript object>"
      ]
     },
     "metadata": {},
     "output_type": "display_data"
    },
    {
     "data": {
      "application/javascript": [
       "\n",
       "        $('span:contains(\"# Temp\")').closest('.cell').remove();\n",
       "        var code = IPython.notebook.insert_cell_below('code');\n",
       "        var prompt = code.element.find(\".input_prompt\");\n",
       "        prompt.append('<br><button style=\"height: 100%; width: 54px;\">Run</button>');\n",
       "        prompt.on(\"click\", \"button\", function(){\n",
       "            code.execute();\n",
       "        });\n",
       "        code.set_text(decodeURIComponent(window.atob(\"JTIzJTIwVGVtcCUwQWluc2VydCUyOCUyNyUyNyUyNyUyNyUyNyUyNyUyOSUzQg==\")));\n",
       "    "
      ],
      "text/plain": [
       "<IPython.core.display.Javascript object>"
      ]
     },
     "metadata": {},
     "output_type": "display_data"
    },
    {
     "data": {
      "application/javascript": [
       "$('span:contains(\"# Temp\")').closest('.cell').remove();"
      ],
      "text/plain": [
       "<IPython.core.display.Javascript object>"
      ]
     },
     "metadata": {},
     "output_type": "display_data"
    },
    {
     "data": {
      "application/javascript": [
       "\n",
       "        $('span:contains(\"# Temp\")').closest('.cell').remove();\n",
       "        var code = IPython.notebook.insert_cell_below('code');\n",
       "        var prompt = code.element.find(\".input_prompt\");\n",
       "        prompt.append('<br><button style=\"height: 100%; width: 54px;\">Run</button>');\n",
       "        prompt.on(\"click\", \"button\", function(){\n",
       "            code.execute();\n",
       "        });\n",
       "        code.set_text(decodeURIComponent(window.atob(\"JTIzJTIwVGVtcCUwQWluc2VydCUyOCUyNyUyNyUyNyUyNyUyNyUyNyUyOSUzQg==\")));\n",
       "    "
      ],
      "text/plain": [
       "<IPython.core.display.Javascript object>"
      ]
     },
     "metadata": {},
     "output_type": "display_data"
    },
    {
     "data": {
      "application/javascript": [
       "$('span:contains(\"# Temp\")').closest('.cell').remove();"
      ],
      "text/plain": [
       "<IPython.core.display.Javascript object>"
      ]
     },
     "metadata": {},
     "output_type": "display_data"
    },
    {
     "data": {
      "application/javascript": [
       "\n",
       "        $('span:contains(\"# Temp\")').closest('.cell').remove();\n",
       "        var code = IPython.notebook.insert_cell_below('code');\n",
       "        var prompt = code.element.find(\".input_prompt\");\n",
       "        prompt.append('<br><button style=\"height: 100%; width: 54px;\">Run</button>');\n",
       "        prompt.on(\"click\", \"button\", function(){\n",
       "            code.execute();\n",
       "        });\n",
       "        code.set_text(decodeURIComponent(window.atob(\"JTIzJTIwVGVtcCUwQWluc2VydCUyOCUyNyUyNyUyNyUyNyUyNyUyNyUyOSUzQg==\")));\n",
       "    "
      ],
      "text/plain": [
       "<IPython.core.display.Javascript object>"
      ]
     },
     "metadata": {},
     "output_type": "display_data"
    },
    {
     "data": {
      "application/javascript": [
       "$('span:contains(\"# Temp\")').closest('.cell').remove();"
      ],
      "text/plain": [
       "<IPython.core.display.Javascript object>"
      ]
     },
     "metadata": {},
     "output_type": "display_data"
    },
    {
     "data": {
      "application/javascript": [
       "\n",
       "        $('span:contains(\"# Temp\")').closest('.cell').remove();\n",
       "        var code = IPython.notebook.insert_cell_below('code');\n",
       "        var prompt = code.element.find(\".input_prompt\");\n",
       "        prompt.append('<br><button style=\"height: 100%; width: 54px;\">Run</button>');\n",
       "        prompt.on(\"click\", \"button\", function(){\n",
       "            code.execute();\n",
       "        });\n",
       "        code.set_text(decodeURIComponent(window.atob(\"JTIzJTIwVGVtcCUwQWluc2VydCUyOCUyNyUyNyUyNyUyNyUyNyUyNyUyOSUzQg==\")));\n",
       "    "
      ],
      "text/plain": [
       "<IPython.core.display.Javascript object>"
      ]
     },
     "metadata": {},
     "output_type": "display_data"
    },
    {
     "data": {
      "application/javascript": [
       "$('span:contains(\"# Temp\")').closest('.cell').remove();"
      ],
      "text/plain": [
       "<IPython.core.display.Javascript object>"
      ]
     },
     "metadata": {},
     "output_type": "display_data"
    },
    {
     "data": {
      "application/javascript": [
       "\n",
       "        $('span:contains(\"# Temp\")').closest('.cell').remove();\n",
       "        var code = IPython.notebook.insert_cell_below('code');\n",
       "        var prompt = code.element.find(\".input_prompt\");\n",
       "        prompt.append('<br><button style=\"height: 100%; width: 54px;\">Run</button>');\n",
       "        prompt.on(\"click\", \"button\", function(){\n",
       "            code.execute();\n",
       "        });\n",
       "        code.set_text(decodeURIComponent(window.atob(\"JTIzJTIwVGVtcCUwQWluc2VydCUyOCUyNyUyNyUyNyUyNyUyNyUyNyUyOSUzQg==\")));\n",
       "    "
      ],
      "text/plain": [
       "<IPython.core.display.Javascript object>"
      ]
     },
     "metadata": {},
     "output_type": "display_data"
    },
    {
     "data": {
      "application/javascript": [
       "$('span:contains(\"# Temp\")').closest('.cell').remove();"
      ],
      "text/plain": [
       "<IPython.core.display.Javascript object>"
      ]
     },
     "metadata": {},
     "output_type": "display_data"
    },
    {
     "data": {
      "application/javascript": [
       "\n",
       "        $('span:contains(\"# Temp\")').closest('.cell').remove();\n",
       "        var code = IPython.notebook.insert_cell_below('code');\n",
       "        var prompt = code.element.find(\".input_prompt\");\n",
       "        prompt.append('<br><button style=\"height: 100%; width: 54px;\">Run</button>');\n",
       "        prompt.on(\"click\", \"button\", function(){\n",
       "            code.execute();\n",
       "        });\n",
       "        code.set_text(decodeURIComponent(window.atob(\"JTIzJTIwVGVtcCUwQWluc2VydCUyOCUyNyUyNyUyNyUyNyUyNyUyNyUyOSUzQg==\")));\n",
       "    "
      ],
      "text/plain": [
       "<IPython.core.display.Javascript object>"
      ]
     },
     "metadata": {},
     "output_type": "display_data"
    },
    {
     "data": {
      "application/javascript": [
       "$('span:contains(\"# Temp\")').closest('.cell').remove();"
      ],
      "text/plain": [
       "<IPython.core.display.Javascript object>"
      ]
     },
     "metadata": {},
     "output_type": "display_data"
    },
    {
     "data": {
      "application/javascript": [
       "\n",
       "        $('span:contains(\"# Temp\")').closest('.cell').remove();\n",
       "        var code = IPython.notebook.insert_cell_below('code');\n",
       "        var prompt = code.element.find(\".input_prompt\");\n",
       "        prompt.append('<br><button style=\"height: 100%; width: 54px;\">Run</button>');\n",
       "        prompt.on(\"click\", \"button\", function(){\n",
       "            code.execute();\n",
       "        });\n",
       "        code.set_text(decodeURIComponent(window.atob(\"JTIzJTIwVGVtcCUwQWluc2VydCUyOCUyNyUyNyUyNyUyNyUyNyUyNyUyOSUzQg==\")));\n",
       "    "
      ],
      "text/plain": [
       "<IPython.core.display.Javascript object>"
      ]
     },
     "metadata": {},
     "output_type": "display_data"
    },
    {
     "data": {
      "application/javascript": [
       "$('span:contains(\"# Temp\")').closest('.cell').remove();"
      ],
      "text/plain": [
       "<IPython.core.display.Javascript object>"
      ]
     },
     "metadata": {},
     "output_type": "display_data"
    },
    {
     "data": {
      "application/javascript": [
       "\n",
       "        $('span:contains(\"# Temp\")').closest('.cell').remove();\n",
       "        var code = IPython.notebook.insert_cell_below('code');\n",
       "        var prompt = code.element.find(\".input_prompt\");\n",
       "        prompt.append('<br><button style=\"height: 100%; width: 54px;\">Run</button>');\n",
       "        prompt.on(\"click\", \"button\", function(){\n",
       "            code.execute();\n",
       "        });\n",
       "        code.set_text(decodeURIComponent(window.atob(\"JTIzJTIwVGVtcCUwQWluc2VydCUyOCUyNyUyNyUyNyUwQXR1cmJhbjIwMTNhJTIwJTNEJTIwREIlMjhXb3JrVW5yZWxhdGVkJTI4JTBBJTIwJTIwJTIwJTIwMjAxMyUyQyUyMCUyMlRvb2wtYmFzZWQlMjByZXF1aXJlbWVudCUyMHRyYWNlYWJpbGl0eSUyMGJldHdlZW4lMjByZXF1aXJlbWVudCUyMGFuZCUyMGRlc2lnbiUyMGFydGlmYWN0cyUyMiUyQyUwQSUyMCUyMCUyMCUyMGRpc3BsYXklM0QlMjJ0dXJiYW4lMjIlMkMlMEElMjAlMjAlMjAlMjBhdXRob3JzJTNEJTIyVHVyYmFuJTJDJTIwQi4lMjIlMkMlMEElMjAlMjAlMjAlMjBwbGFjZSUzREJvb2slMkMlMEElMjAlMjAlMjAlMjBwcCUzRCUyMjEtNDM5JTIyJTJDJTBBJTIwJTIwJTIwJTIwZW50cnl0eXBlJTNEJTIyYm9vayUyMiUyQyUwQSUyMCUyMCUyMCUyMHZvbHVtZSUzRCUyMjk3ODM4MzQ4MjQ3NDUlMjIlMkMlMEElMjAlMjAlMjAlMjBsaW5rJTNEJTIyaHR0cHMlM0EvL3d3dy5zY29wdXMuY29tL2lud2FyZC9yZWNvcmQudXJpJTNGZWlkJTNEMi1zMi4wLTg0OTUwNDE3NTk0JTI2ZG9pJTNEMTAuMTAwNyUyNTJmOTc4LTMtODM0OC0yNDc0LTUlMjZwYXJ0bmVySUQlM0Q0MCUyNm1kNSUzRDM1ODI3MDhmYmEyMzFmZWM0MGUwNjk1YTA5OGZiNTc1JTIyJTJDJTBBJTIwJTIwJTIwJTIwSUQlM0QlMjJUdXJiYW4yMDEzMSUyMiUyQyUwQSUyMCUyMCUyMCUyMHNjb3B1czIwMTYlM0QlMjIxJTIyJTJDJTBBJTIwJTIwJTIwJTIwcGxhY2V4JTNEJTIyU3ByaW5nZXIlMjA0JTIyJTJDJTBBJTI5JTI5JTBBJTI3JTI3JTI3JTI5JTNC\")));\n",
       "    "
      ],
      "text/plain": [
       "<IPython.core.display.Javascript object>"
      ]
     },
     "metadata": {},
     "output_type": "display_data"
    },
    {
     "data": {
      "application/javascript": [
       "$('span:contains(\"# Temp\")').closest('.cell').remove();"
      ],
      "text/plain": [
       "<IPython.core.display.Javascript object>"
      ]
     },
     "metadata": {},
     "output_type": "display_data"
    },
    {
     "data": {
      "application/javascript": [
       "\n",
       "        $('span:contains(\"# Temp\")').closest('.cell').remove();\n",
       "        var code = IPython.notebook.insert_cell_below('code');\n",
       "        var prompt = code.element.find(\".input_prompt\");\n",
       "        prompt.append('<br><button style=\"height: 100%; width: 54px;\">Run</button>');\n",
       "        prompt.on(\"click\", \"button\", function(){\n",
       "            code.execute();\n",
       "        });\n",
       "        code.set_text(decodeURIComponent(window.atob(\"JTIzJTIwVGVtcCUwQWluc2VydCUyOCUyNyUyNyUyNyUwQXR1cmJhbjIwMTNhJTIwJTNEJTIwREIlMjhXb3JrVW5yZWxhdGVkJTI4JTBBJTIwJTIwJTIwJTIwMjAxMyUyQyUyMCUyMlRvb2wtYmFzZWQlMjByZXF1aXJlbWVudCUyMHRyYWNlYWJpbGl0eSUyMGJldHdlZW4lMjByZXF1aXJlbWVudCUyMGFuZCUyMGRlc2lnbiUyMGFydGlmYWN0cyUyMiUyQyUwQSUyMCUyMCUyMCUyMGRpc3BsYXklM0QlMjJ0dXJiYW4lMjIlMkMlMEElMjAlMjAlMjAlMjBhdXRob3JzJTNEJTIyVHVyYmFuJTJDJTIwQi4lMjIlMkMlMEElMjAlMjAlMjAlMjBwbGFjZSUzREJvb2slMkMlMEElMjAlMjAlMjAlMjBwcCUzRCUyMjEtNDM5JTIyJTJDJTBBJTIwJTIwJTIwJTIwZW50cnl0eXBlJTNEJTIyYm9vayUyMiUyQyUwQSUyMCUyMCUyMCUyMHZvbHVtZSUzRCUyMjk3ODM4MzQ4MjQ3NDUlMjIlMkMlMEElMjAlMjAlMjAlMjBsaW5rJTNEJTIyaHR0cHMlM0EvL3d3dy5zY29wdXMuY29tL2lud2FyZC9yZWNvcmQudXJpJTNGZWlkJTNEMi1zMi4wLTg0OTUwNDE3NTk0JTI2ZG9pJTNEMTAuMTAwNyUyNTJmOTc4LTMtODM0OC0yNDc0LTUlMjZwYXJ0bmVySUQlM0Q0MCUyNm1kNSUzRDM1ODI3MDhmYmEyMzFmZWM0MGUwNjk1YTA5OGZiNTc1JTIyJTJDJTBBJTIwJTIwJTIwJTIwSUQlM0QlMjJUdXJiYW4yMDEzMSUyMiUyQyUwQSUyMCUyMCUyMCUyMHNjb3B1czIwMTYlM0QlMjIxJTIyJTJDJTBBJTIwJTIwJTIwJTIwcGxhY2V4JTNEJTIyU3ByaW5nZXIlMjA0JTIyJTJDJTBBJTI5JTI5JTBBJTI3JTI3JTI3JTI5JTNC\")));\n",
       "    "
      ],
      "text/plain": [
       "<IPython.core.display.Javascript object>"
      ]
     },
     "metadata": {},
     "output_type": "display_data"
    },
    {
     "data": {
      "application/javascript": [
       "$('span:contains(\"# Temp\")').closest('.cell').remove();"
      ],
      "text/plain": [
       "<IPython.core.display.Javascript object>"
      ]
     },
     "metadata": {},
     "output_type": "display_data"
    },
    {
     "data": {
      "application/javascript": [
       "\n",
       "        $('span:contains(\"# Temp\")').closest('.cell').remove();\n",
       "        var code = IPython.notebook.insert_cell_below('code');\n",
       "        var prompt = code.element.find(\".input_prompt\");\n",
       "        prompt.append('<br><button style=\"height: 100%; width: 54px;\">Run</button>');\n",
       "        prompt.on(\"click\", \"button\", function(){\n",
       "            code.execute();\n",
       "        });\n",
       "        code.set_text(decodeURIComponent(window.atob(\"JTIzJTIwVGVtcCUwQWluc2VydCUyOCUyNyUyNyUyNyUwQXR1cmJhbjIwMTNhJTIwJTNEJTIwREIlMjhXb3JrVW5yZWxhdGVkJTI4JTBBJTIwJTIwJTIwJTIwMjAxMyUyQyUyMCUyMlRvb2wtYmFzZWQlMjByZXF1aXJlbWVudCUyMHRyYWNlYWJpbGl0eSUyMGJldHdlZW4lMjByZXF1aXJlbWVudCUyMGFuZCUyMGRlc2lnbiUyMGFydGlmYWN0cyUyMiUyQyUwQSUyMCUyMCUyMCUyMGRpc3BsYXklM0QlMjJ0dXJiYW4lMjIlMkMlMEElMjAlMjAlMjAlMjBhdXRob3JzJTNEJTIyVHVyYmFuJTJDJTIwQi4lMjBhbmQlMjBXb2xmZiUyQyUyMEMuJTIyJTJDJTBBJTIwJTIwJTIwJTIwcGxhY2UlM0RCb29rJTJDJTBBJTIwJTIwJTIwJTIwcHAlM0QlMjIxLTQzOSUyMiUyQyUwQSUyMCUyMCUyMCUyMGVudHJ5dHlwZSUzRCUyMmJvb2slMjIlMkMlMEElMjAlMjAlMjAlMjBsaW5rJTNEJTIyaHR0cHMlM0EvL3d3dy5zY29wdXMuY29tL2lud2FyZC9yZWNvcmQudXJpJTNGZWlkJTNEMi1zMi4wLTg0OTY3MzMyOTE3JTI2ZG9pJTNEMTAuMTAwNyUyNTJmOTc4LTMtODM0OC0yNDc0LTUlMjZwYXJ0bmVySUQlM0Q0MCUyNm1kNSUzRGI5MGVhMWVmMjk1ZjJhOTg5ZTRiNzVhMmFhZDAzMzQyJTIyJTJDJTBBJTIwJTIwJTIwJTIwSUQlM0QlMjJUdXJiYW4yMDEzMSUyMiUyQyUwQSUyMCUyMCUyMCUyMHNjb3B1czIwMTYlM0QlMjIxJTIyJTJDJTBBJTIwJTIwJTIwJTIwcGxhY2V4JTNEJTIyVG9vbC1CYXNlZCUyMFJlcXVpcmVtZW50JTIwVHJhY2VhYmlsaXR5JTIwQmV0d2VlbiUyMFJlcXVpcmVtZW50JTIwYW5kJTIwRGVzaWduJTIwQXJ0aWZhY3RzJTIyJTJDJTBBJTI5JTI5JTBBJTI3JTI3JTI3JTI5JTNC\")));\n",
       "    "
      ],
      "text/plain": [
       "<IPython.core.display.Javascript object>"
      ]
     },
     "metadata": {},
     "output_type": "display_data"
    },
    {
     "data": {
      "application/javascript": [
       "$('span:contains(\"# Temp\")').closest('.cell').remove();"
      ],
      "text/plain": [
       "<IPython.core.display.Javascript object>"
      ]
     },
     "metadata": {},
     "output_type": "display_data"
    },
    {
     "data": {
      "application/javascript": [
       "\n",
       "        $('span:contains(\"# Temp\")').closest('.cell').remove();\n",
       "        var code = IPython.notebook.insert_cell_below('code');\n",
       "        var prompt = code.element.find(\".input_prompt\");\n",
       "        prompt.append('<br><button style=\"height: 100%; width: 54px;\">Run</button>');\n",
       "        prompt.on(\"click\", \"button\", function(){\n",
       "            code.execute();\n",
       "        });\n",
       "        code.set_text(decodeURIComponent(window.atob(\"JTIzJTIwVGVtcCUwQWluc2VydCUyOCUyNyUyNyUyNyUwQXR1cmJhbjIwMTNhJTIwJTNEJTIwREIlMjhXb3JrVW5yZWxhdGVkJTI4JTBBJTIwJTIwJTIwJTIwMjAxMyUyQyUyMCUyMlRvb2wtYmFzZWQlMjByZXF1aXJlbWVudCUyMHRyYWNlYWJpbGl0eSUyMGJldHdlZW4lMjByZXF1aXJlbWVudCUyMGFuZCUyMGRlc2lnbiUyMGFydGlmYWN0cyUyMiUyQyUwQSUyMCUyMCUyMCUyMGRpc3BsYXklM0QlMjJ0dXJiYW4lMjIlMkMlMEElMjAlMjAlMjAlMjBhdXRob3JzJTNEJTIyVHVyYmFuJTJDJTIwQi4lMjBhbmQlMjBXb2xmZiUyQyUyMEMuJTIyJTJDJTBBJTIwJTIwJTIwJTIwcGxhY2UlM0RCb29rJTJDJTBBJTIwJTIwJTIwJTIwcHAlM0QlMjIxLTQzOSUyMiUyQyUwQSUyMCUyMCUyMCUyMGVudHJ5dHlwZSUzRCUyMmJvb2slMjIlMkMlMEElMjAlMjAlMjAlMjBsaW5rJTNEJTIyaHR0cHMlM0EvL3d3dy5zY29wdXMuY29tL2lud2FyZC9yZWNvcmQudXJpJTNGZWlkJTNEMi1zMi4wLTg0OTY3MzMyOTE3JTI2ZG9pJTNEMTAuMTAwNyUyNTJmOTc4LTMtODM0OC0yNDc0LTUlMjZwYXJ0bmVySUQlM0Q0MCUyNm1kNSUzRGI5MGVhMWVmMjk1ZjJhOTg5ZTRiNzVhMmFhZDAzMzQyJTIyJTJDJTBBJTIwJTIwJTIwJTIwSUQlM0QlMjJUdXJiYW4yMDEzMSUyMiUyQyUwQSUyMCUyMCUyMCUyMHNjb3B1czIwMTYlM0QlMjIxJTIyJTJDJTBBJTIwJTIwJTIwJTIwcGxhY2V4JTNEJTIyVG9vbC1CYXNlZCUyMFJlcXVpcmVtZW50JTIwVHJhY2VhYmlsaXR5JTIwQmV0d2VlbiUyMFJlcXVpcmVtZW50JTIwYW5kJTIwRGVzaWduJTIwQXJ0aWZhY3RzJTIyJTJDJTBBJTI5JTI5JTBBJTI3JTI3JTI3JTI5JTNC\")));\n",
       "    "
      ],
      "text/plain": [
       "<IPython.core.display.Javascript object>"
      ]
     },
     "metadata": {},
     "output_type": "display_data"
    },
    {
     "data": {
      "application/javascript": [
       "$('span:contains(\"# Temp\")').closest('.cell').remove();"
      ],
      "text/plain": [
       "<IPython.core.display.Javascript object>"
      ]
     },
     "metadata": {},
     "output_type": "display_data"
    },
    {
     "data": {
      "application/javascript": [
       "\n",
       "        $('span:contains(\"# Temp\")').closest('.cell').remove();\n",
       "        var code = IPython.notebook.insert_cell_below('code');\n",
       "        var prompt = code.element.find(\".input_prompt\");\n",
       "        prompt.append('<br><button style=\"height: 100%; width: 54px;\">Run</button>');\n",
       "        prompt.on(\"click\", \"button\", function(){\n",
       "            code.execute();\n",
       "        });\n",
       "        code.set_text(decodeURIComponent(window.atob(\"JTIzJTIwVGVtcCUwQWluc2VydCUyOCUyNyUyNyUyNyUyNyUyNyUyNyUyOSUzQg==\")));\n",
       "    "
      ],
      "text/plain": [
       "<IPython.core.display.Javascript object>"
      ]
     },
     "metadata": {},
     "output_type": "display_data"
    },
    {
     "data": {
      "application/javascript": [
       "$('span:contains(\"# Temp\")').closest('.cell').remove();"
      ],
      "text/plain": [
       "<IPython.core.display.Javascript object>"
      ]
     },
     "metadata": {},
     "output_type": "display_data"
    },
    {
     "data": {
      "application/javascript": [
       "\n",
       "        $('span:contains(\"# Temp\")').closest('.cell').remove();\n",
       "        var code = IPython.notebook.insert_cell_below('code');\n",
       "        var prompt = code.element.find(\".input_prompt\");\n",
       "        prompt.append('<br><button style=\"height: 100%; width: 54px;\">Run</button>');\n",
       "        prompt.on(\"click\", \"button\", function(){\n",
       "            code.execute();\n",
       "        });\n",
       "        code.set_text(decodeURIComponent(window.atob(\"JTIzJTIwVGVtcCUwQWluc2VydCUyOCUyNyUyNyUyNyUyNyUyNyUyNyUyOSUzQg==\")));\n",
       "    "
      ],
      "text/plain": [
       "<IPython.core.display.Javascript object>"
      ]
     },
     "metadata": {},
     "output_type": "display_data"
    },
    {
     "data": {
      "application/javascript": [
       "$('span:contains(\"# Temp\")').closest('.cell').remove();"
      ],
      "text/plain": [
       "<IPython.core.display.Javascript object>"
      ]
     },
     "metadata": {},
     "output_type": "display_data"
    },
    {
     "data": {
      "application/javascript": [
       "\n",
       "        $('span:contains(\"# Temp\")').closest('.cell').remove();\n",
       "        var code = IPython.notebook.insert_cell_below('code');\n",
       "        var prompt = code.element.find(\".input_prompt\");\n",
       "        prompt.append('<br><button style=\"height: 100%; width: 54px;\">Run</button>');\n",
       "        prompt.on(\"click\", \"button\", function(){\n",
       "            code.execute();\n",
       "        });\n",
       "        code.set_text(decodeURIComponent(window.atob(\"JTIzJTIwVGVtcCUwQWluc2VydCUyOCUyNyUyNyUyNyUwQW1vcm9zMjAxM2ElMjAlM0QlMjBEQiUyOFdvcmtVbnJlbGF0ZWQlMjglMEElMjAlMjAlMjAlMjAyMDEzJTJDJTIwJTIyVHJhbnNmb3JtaW5nJTIwYW5kJTIwdHJhY2luZyUyMHJldXNlZCUyMHJlcXVpcmVtZW50cyUyMG1vZGVscyUyMHRvJTIwaG9tZSUyMGF1dG9tYXRpb24lMjBtb2RlbHMlMjIlMkMlMEElMjAlMjAlMjAlMjBkaXNwbGF5JTNEJTIybW9yb3MlMjIlMkMlMEElMjAlMjAlMjAlMjBhdXRob3JzJTNEJTIyTW9yb3MlMkMlMjBCLiUyMGFuZCUyMFRvdmFsJTJDJTIwQS4lMjBhbmQlMjBSb3NpcXVlJTJDJTIwRi4lMjBhbmQlMjBTJUMzJUExbmNoZXolMkMlMjBQLiUyMiUyQyUwQSUyMCUyMCUyMCUyMHBsYWNlJTNESVNUJTJDJTBBJTIwJTIwJTIwJTIwcHAlM0QlMjI5NDEtOTY1JTIyJTJDJTBBJTIwJTIwJTIwJTIwZW50cnl0eXBlJTNEJTIyYXJ0aWNsZSUyMiUyQyUwQSUyMCUyMCUyMCUyMHZvbHVtZSUzRCUyMjU1JTIyJTJDJTBBJTIwJTIwJTIwJTIwbnVtYmVyJTNEJTIyNiUyMiUyQyUwQSUyMCUyMCUyMCUyMGxpbmslM0QlMjJodHRwcyUzQS8vd3d3LnNjb3B1cy5jb20vaW53YXJkL3JlY29yZC51cmklM0ZlaWQlM0QyLXMyLjAtODQ4NzYyODMzMjQlMjZkb2klM0QxMC4xMDE2JTI1MmZqLmluZnNvZi4yMDEyLjEyLjAwMyUyNnBhcnRuZXJJRCUzRDQwJTI2bWQ1JTNEZTIzMDM0NWFmMGI5YTY0YjkyYzhjNTExMDMzMTAwMDElMjIlMkMlMEElMjAlMjAlMjAlMjBJRCUzRCUyMk1vcm9zMjAxMzk0MSUyMiUyQyUwQSUyMCUyMCUyMCUyMHNjb3B1czIwMTYlM0QlMjIxJTIyJTJDJTBBJTIwJTIwJTIwJTIwcGxhY2V4JTNEJTIySW5mb3JtYXRpb24lMjBhbmQlMjBTb2Z0d2FyZSUyMFRlY2hub2xvZ3klMjIlMkMlMEElMjklMjklMEElMjclMjclMjclMjklM0I=\")));\n",
       "    "
      ],
      "text/plain": [
       "<IPython.core.display.Javascript object>"
      ]
     },
     "metadata": {},
     "output_type": "display_data"
    },
    {
     "data": {
      "application/javascript": [
       "$('span:contains(\"# Temp\")').closest('.cell').remove();"
      ],
      "text/plain": [
       "<IPython.core.display.Javascript object>"
      ]
     },
     "metadata": {},
     "output_type": "display_data"
    },
    {
     "data": {
      "application/javascript": [
       "\n",
       "        $('span:contains(\"# Temp\")').closest('.cell').remove();\n",
       "        var code = IPython.notebook.insert_cell_below('code');\n",
       "        var prompt = code.element.find(\".input_prompt\");\n",
       "        prompt.append('<br><button style=\"height: 100%; width: 54px;\">Run</button>');\n",
       "        prompt.on(\"click\", \"button\", function(){\n",
       "            code.execute();\n",
       "        });\n",
       "        code.set_text(decodeURIComponent(window.atob(\"JTIzJTIwVGVtcCUwQWluc2VydCUyOCUyNyUyNyUyNyUwQW1vcm9zMjAxM2ElMjAlM0QlMjBEQiUyOFdvcmtVbnJlbGF0ZWQlMjglMEElMjAlMjAlMjAlMjAyMDEzJTJDJTIwJTIyVHJhbnNmb3JtaW5nJTIwYW5kJTIwdHJhY2luZyUyMHJldXNlZCUyMHJlcXVpcmVtZW50cyUyMG1vZGVscyUyMHRvJTIwaG9tZSUyMGF1dG9tYXRpb24lMjBtb2RlbHMlMjIlMkMlMEElMjAlMjAlMjAlMjBkaXNwbGF5JTNEJTIybW9yb3MlMjIlMkMlMEElMjAlMjAlMjAlMjBhdXRob3JzJTNEJTIyTW9yb3MlMkMlMjBCLiUyMGFuZCUyMFRvdmFsJTJDJTIwQS4lMjBhbmQlMjBSb3NpcXVlJTJDJTIwRi4lMjBhbmQlMjBTJUMzJUExbmNoZXolMkMlMjBQLiUyMiUyQyUwQSUyMCUyMCUyMCUyMHBsYWNlJTNESVNUJTJDJTBBJTIwJTIwJTIwJTIwcHAlM0QlMjI5NDEtOTY1JTIyJTJDJTBBJTIwJTIwJTIwJTIwZW50cnl0eXBlJTNEJTIyYXJ0aWNsZSUyMiUyQyUwQSUyMCUyMCUyMCUyMHZvbHVtZSUzRCUyMjU1JTIyJTJDJTBBJTIwJTIwJTIwJTIwbnVtYmVyJTNEJTIyNiUyMiUyQyUwQSUyMCUyMCUyMCUyMGxpbmslM0QlMjJodHRwcyUzQS8vd3d3LnNjb3B1cy5jb20vaW53YXJkL3JlY29yZC51cmklM0ZlaWQlM0QyLXMyLjAtODQ4NzYyODMzMjQlMjZkb2klM0QxMC4xMDE2JTI1MmZqLmluZnNvZi4yMDEyLjEyLjAwMyUyNnBhcnRuZXJJRCUzRDQwJTI2bWQ1JTNEZTIzMDM0NWFmMGI5YTY0YjkyYzhjNTExMDMzMTAwMDElMjIlMkMlMEElMjAlMjAlMjAlMjBJRCUzRCUyMk1vcm9zMjAxMzk0MSUyMiUyQyUwQSUyMCUyMCUyMCUyMHNjb3B1czIwMTYlM0QlMjIxJTIyJTJDJTBBJTIwJTIwJTIwJTIwcGxhY2V4JTNEJTIySW5mb3JtYXRpb24lMjBhbmQlMjBTb2Z0d2FyZSUyMFRlY2hub2xvZ3klMjIlMkMlMEElMjklMjklMEElMjclMjclMjclMjklM0I=\")));\n",
       "    "
      ],
      "text/plain": [
       "<IPython.core.display.Javascript object>"
      ]
     },
     "metadata": {},
     "output_type": "display_data"
    },
    {
     "data": {
      "application/javascript": [
       "$('span:contains(\"# Temp\")').closest('.cell').remove();"
      ],
      "text/plain": [
       "<IPython.core.display.Javascript object>"
      ]
     },
     "metadata": {},
     "output_type": "display_data"
    },
    {
     "data": {
      "application/javascript": [
       "\n",
       "        $('span:contains(\"# Temp\")').closest('.cell').remove();\n",
       "        var code = IPython.notebook.insert_cell_below('code');\n",
       "        var prompt = code.element.find(\".input_prompt\");\n",
       "        prompt.append('<br><button style=\"height: 100%; width: 54px;\">Run</button>');\n",
       "        prompt.on(\"click\", \"button\", function(){\n",
       "            code.execute();\n",
       "        });\n",
       "        code.set_text(decodeURIComponent(window.atob(\"JTIzJTIwVGVtcCUwQWluc2VydCUyOCUyNyUyNyUyNyUwQWNhcnJpbGxvMjAxM2ElMjAlM0QlMjBEQiUyOFdvcmtVbnJlbGF0ZWQlMjglMEElMjAlMjAlMjAlMjAyMDEzJTJDJTIwJTIyRW5naW5lZXJpbmclMjBhbmQlMjByZWVuZ2luZWVyaW5nJTIwb2YlMjB0ZWNobm9sb2d5JTIwZW5oYW5jZWQlMjBsZWFybmluZyUyMHNjZW5hcmlvcyUyMHVzaW5nJTIwY29udGV4dCUyMGF3YXJlbmVzcyUyMHByb2Nlc3NlcyUyMiUyQyUwQSUyMCUyMCUyMCUyMGRpc3BsYXklM0QlMjJjYXJyaWxsbyUyMiUyQyUwQSUyMCUyMCUyMCUyMGF1dGhvcnMlM0QlMjJEZSUyMENhcnJpbGxvJTJDJTIwQy5JLlAuJTIwYW5kJTIwSmFjb2JvbmklMkMlMjBQLiUyMGFuZCUyMENob3F1ZXQlMkMlMjBDLiUyMGFuZCUyMExla2lyYSUyQyUyMEEuJTIwYW5kJTIwRGVzcHIlQzMlQTlzJTJDJTIwQy4lMjBhbmQlMjBPdXJhaWJhJTJDJTIwRS5BLiUyMGFuZCUyMElrc2FsJTJDJTIwUy4lMjBhbmQlMjBUaGktTmdvYyUyQyUyMEQuUC4lMjIlMkMlMEElMjAlMjAlMjAlMjBwbGFjZSUzREJvb2slMkMlMEElMjAlMjAlMjAlMjBwcCUzRCUyMjEyODktMTMxMyUyMiUyQyUwQSUyMCUyMCUyMCUyMGVudHJ5dHlwZSUzRCUyMmJvb2slMjIlMkMlMEElMjAlMjAlMjAlMjB2b2x1bWUlM0QlMjIzLTQlMjIlMkMlMEElMjAlMjAlMjAlMjBsaW5rJTNEJTIyaHR0cHMlM0EvL3d3dy5zY29wdXMuY29tL2lud2FyZC9yZWNvcmQudXJpJTNGZWlkJTNEMi1zMi4wLTg0OTQ0Njc2ODAzJTI2ZG9pJTNEMTAuNDAxOCUyNTJmOTc4LTEtNDY2Ni00MzAxLTcuY2gwNjMlMjZwYXJ0bmVySUQlM0Q0MCUyNm1kNSUzRDAxYjkyMDNiOTlkOWJkN2E2NTViNzlmOTk3OTQ0OTUxJTIyJTJDJTBBJTIwJTIwJTIwJTIwSUQlM0QlMjJEZUNhcnJpbGxvMjAxMzEyODklMjIlMkMlMEElMjAlMjAlMjAlMjBzY29wdXMyMDE2JTNEJTIyMSUyMiUyQyUwQSUyMCUyMCUyMCUyMHBsYWNleCUzRCUyMlNvZnR3YXJlJTIwRGVzaWduJTIwYW5kJTIwRGV2ZWxvcG1lbnQlM0ElMjBDb25jZXB0cyUyQyUyME1ldGhvZG9sb2dpZXMlMkMlMjBUb29scyUyQyUyMGFuZCUyMEFwcGxpY2F0aW9ucyUyMiUyQyUwQSUyOSUyOSUwQSUyNyUyNyUyNyUyOSUzQg==\")));\n",
       "    "
      ],
      "text/plain": [
       "<IPython.core.display.Javascript object>"
      ]
     },
     "metadata": {},
     "output_type": "display_data"
    },
    {
     "data": {
      "application/javascript": [
       "$('span:contains(\"# Temp\")').closest('.cell').remove();"
      ],
      "text/plain": [
       "<IPython.core.display.Javascript object>"
      ]
     },
     "metadata": {},
     "output_type": "display_data"
    },
    {
     "data": {
      "application/javascript": [
       "\n",
       "        $('span:contains(\"# Temp\")').closest('.cell').remove();\n",
       "        var code = IPython.notebook.insert_cell_below('code');\n",
       "        var prompt = code.element.find(\".input_prompt\");\n",
       "        prompt.append('<br><button style=\"height: 100%; width: 54px;\">Run</button>');\n",
       "        prompt.on(\"click\", \"button\", function(){\n",
       "            code.execute();\n",
       "        });\n",
       "        code.set_text(decodeURIComponent(window.atob(\"JTIzJTIwVGVtcCUwQWluc2VydCUyOCUyNyUyNyUyNyUwQWNhcnJpbGxvMjAxM2ElMjAlM0QlMjBEQiUyOFdvcmtVbnJlbGF0ZWQlMjglMEElMjAlMjAlMjAlMjAyMDEzJTJDJTIwJTIyRW5naW5lZXJpbmclMjBhbmQlMjByZWVuZ2luZWVyaW5nJTIwb2YlMjB0ZWNobm9sb2d5JTIwZW5oYW5jZWQlMjBsZWFybmluZyUyMHNjZW5hcmlvcyUyMHVzaW5nJTIwY29udGV4dCUyMGF3YXJlbmVzcyUyMHByb2Nlc3NlcyUyMiUyQyUwQSUyMCUyMCUyMCUyMGRpc3BsYXklM0QlMjJjYXJyaWxsbyUyMiUyQyUwQSUyMCUyMCUyMCUyMGF1dGhvcnMlM0QlMjJEZSUyMENhcnJpbGxvJTJDJTIwQy5JLlAuJTIwYW5kJTIwSmFjb2JvbmklMkMlMjBQLiUyMGFuZCUyMENob3F1ZXQlMkMlMjBDLiUyMGFuZCUyMExla2lyYSUyQyUyMEEuJTIwYW5kJTIwRGVzcHIlQzMlQTlzJTJDJTIwQy4lMjBhbmQlMjBPdXJhaWJhJTJDJTIwRS5BLiUyMGFuZCUyMElrc2FsJTJDJTIwUy4lMjBhbmQlMjBUaGktTmdvYyUyQyUyMEQuUC4lMjIlMkMlMEElMjAlMjAlMjAlMjBwbGFjZSUzREJvb2slMkMlMEElMjAlMjAlMjAlMjBwcCUzRCUyMjEyODktMTMxMyUyMiUyQyUwQSUyMCUyMCUyMCUyMGVudHJ5dHlwZSUzRCUyMmJvb2slMjIlMkMlMEElMjAlMjAlMjAlMjB2b2x1bWUlM0QlMjIzLTQlMjIlMkMlMEElMjAlMjAlMjAlMjBsaW5rJTNEJTIyaHR0cHMlM0EvL3d3dy5zY29wdXMuY29tL2lud2FyZC9yZWNvcmQudXJpJTNGZWlkJTNEMi1zMi4wLTg0OTQ0Njc2ODAzJTI2ZG9pJTNEMTAuNDAxOCUyNTJmOTc4LTEtNDY2Ni00MzAxLTcuY2gwNjMlMjZwYXJ0bmVySUQlM0Q0MCUyNm1kNSUzRDAxYjkyMDNiOTlkOWJkN2E2NTViNzlmOTk3OTQ0OTUxJTIyJTJDJTBBJTIwJTIwJTIwJTIwSUQlM0QlMjJEZUNhcnJpbGxvMjAxMzEyODklMjIlMkMlMEElMjAlMjAlMjAlMjBzY29wdXMyMDE2JTNEJTIyMSUyMiUyQyUwQSUyMCUyMCUyMCUyMHBsYWNleCUzRCUyMlNvZnR3YXJlJTIwRGVzaWduJTIwYW5kJTIwRGV2ZWxvcG1lbnQlM0ElMjBDb25jZXB0cyUyQyUyME1ldGhvZG9sb2dpZXMlMkMlMjBUb29scyUyQyUyMGFuZCUyMEFwcGxpY2F0aW9ucyUyMiUyQyUwQSUyOSUyOSUwQSUyNyUyNyUyNyUyOSUzQg==\")));\n",
       "    "
      ],
      "text/plain": [
       "<IPython.core.display.Javascript object>"
      ]
     },
     "metadata": {},
     "output_type": "display_data"
    },
    {
     "data": {
      "application/javascript": [
       "$('span:contains(\"# Temp\")').closest('.cell').remove();"
      ],
      "text/plain": [
       "<IPython.core.display.Javascript object>"
      ]
     },
     "metadata": {},
     "output_type": "display_data"
    },
    {
     "data": {
      "application/javascript": [
       "\n",
       "        $('span:contains(\"# Temp\")').closest('.cell').remove();\n",
       "        var code = IPython.notebook.insert_cell_below('code');\n",
       "        var prompt = code.element.find(\".input_prompt\");\n",
       "        prompt.append('<br><button style=\"height: 100%; width: 54px;\">Run</button>');\n",
       "        prompt.on(\"click\", \"button\", function(){\n",
       "            code.execute();\n",
       "        });\n",
       "        code.set_text(decodeURIComponent(window.atob(\"JTIzJTIwVGVtcCUwQWluc2VydCUyOCUyNyUyNyUyNyUyNyUyNyUyNyUyOSUzQg==\")));\n",
       "    "
      ],
      "text/plain": [
       "<IPython.core.display.Javascript object>"
      ]
     },
     "metadata": {},
     "output_type": "display_data"
    },
    {
     "data": {
      "application/javascript": [
       "$('span:contains(\"# Temp\")').closest('.cell').remove();"
      ],
      "text/plain": [
       "<IPython.core.display.Javascript object>"
      ]
     },
     "metadata": {},
     "output_type": "display_data"
    },
    {
     "data": {
      "application/javascript": [
       "\n",
       "        $('span:contains(\"# Temp\")').closest('.cell').remove();\n",
       "        var code = IPython.notebook.insert_cell_below('code');\n",
       "        var prompt = code.element.find(\".input_prompt\");\n",
       "        prompt.append('<br><button style=\"height: 100%; width: 54px;\">Run</button>');\n",
       "        prompt.on(\"click\", \"button\", function(){\n",
       "            code.execute();\n",
       "        });\n",
       "        code.set_text(decodeURIComponent(window.atob(\"JTIzJTIwVGVtcCUwQWluc2VydCUyOCUyNyUyNyUyNyUyNyUyNyUyNyUyOSUzQg==\")));\n",
       "    "
      ],
      "text/plain": [
       "<IPython.core.display.Javascript object>"
      ]
     },
     "metadata": {},
     "output_type": "display_data"
    },
    {
     "data": {
      "application/javascript": [
       "$('span:contains(\"# Temp\")').closest('.cell').remove();"
      ],
      "text/plain": [
       "<IPython.core.display.Javascript object>"
      ]
     },
     "metadata": {},
     "output_type": "display_data"
    },
    {
     "data": {
      "application/javascript": [
       "\n",
       "        $('span:contains(\"# Temp\")').closest('.cell').remove();\n",
       "        var code = IPython.notebook.insert_cell_below('code');\n",
       "        var prompt = code.element.find(\".input_prompt\");\n",
       "        prompt.append('<br><button style=\"height: 100%; width: 54px;\">Run</button>');\n",
       "        prompt.on(\"click\", \"button\", function(){\n",
       "            code.execute();\n",
       "        });\n",
       "        code.set_text(decodeURIComponent(window.atob(\"JTIzJTIwVGVtcCUwQWluc2VydCUyOCUyNyUyNyUyNyUyNyUyNyUyNyUyOSUzQg==\")));\n",
       "    "
      ],
      "text/plain": [
       "<IPython.core.display.Javascript object>"
      ]
     },
     "metadata": {},
     "output_type": "display_data"
    },
    {
     "data": {
      "application/javascript": [
       "$('span:contains(\"# Temp\")').closest('.cell').remove();"
      ],
      "text/plain": [
       "<IPython.core.display.Javascript object>"
      ]
     },
     "metadata": {},
     "output_type": "display_data"
    },
    {
     "data": {
      "application/javascript": [
       "\n",
       "        $('span:contains(\"# Temp\")').closest('.cell').remove();\n",
       "        var code = IPython.notebook.insert_cell_below('code');\n",
       "        var prompt = code.element.find(\".input_prompt\");\n",
       "        prompt.append('<br><button style=\"height: 100%; width: 54px;\">Run</button>');\n",
       "        prompt.on(\"click\", \"button\", function(){\n",
       "            code.execute();\n",
       "        });\n",
       "        code.set_text(decodeURIComponent(window.atob(\"JTIzJTIwVGVtcCUwQWluc2VydCUyOCUyNyUyNyUyNyUyNyUyNyUyNyUyOSUzQg==\")));\n",
       "    "
      ],
      "text/plain": [
       "<IPython.core.display.Javascript object>"
      ]
     },
     "metadata": {},
     "output_type": "display_data"
    },
    {
     "data": {
      "application/javascript": [
       "$('span:contains(\"# Temp\")').closest('.cell').remove();"
      ],
      "text/plain": [
       "<IPython.core.display.Javascript object>"
      ]
     },
     "metadata": {},
     "output_type": "display_data"
    },
    {
     "data": {
      "application/javascript": [
       "\n",
       "        $('span:contains(\"# Temp\")').closest('.cell').remove();\n",
       "        var code = IPython.notebook.insert_cell_below('code');\n",
       "        var prompt = code.element.find(\".input_prompt\");\n",
       "        prompt.append('<br><button style=\"height: 100%; width: 54px;\">Run</button>');\n",
       "        prompt.on(\"click\", \"button\", function(){\n",
       "            code.execute();\n",
       "        });\n",
       "        code.set_text(decodeURIComponent(window.atob(\"JTIzJTIwVGVtcCUwQWluc2VydCUyOCUyNyUyNyUyNyUyNyUyNyUyNyUyOSUzQg==\")));\n",
       "    "
      ],
      "text/plain": [
       "<IPython.core.display.Javascript object>"
      ]
     },
     "metadata": {},
     "output_type": "display_data"
    },
    {
     "data": {
      "application/javascript": [
       "$('span:contains(\"# Temp\")').closest('.cell').remove();"
      ],
      "text/plain": [
       "<IPython.core.display.Javascript object>"
      ]
     },
     "metadata": {},
     "output_type": "display_data"
    },
    {
     "data": {
      "application/javascript": [
       "\n",
       "        $('span:contains(\"# Temp\")').closest('.cell').remove();\n",
       "        var code = IPython.notebook.insert_cell_below('code');\n",
       "        var prompt = code.element.find(\".input_prompt\");\n",
       "        prompt.append('<br><button style=\"height: 100%; width: 54px;\">Run</button>');\n",
       "        prompt.on(\"click\", \"button\", function(){\n",
       "            code.execute();\n",
       "        });\n",
       "        code.set_text(decodeURIComponent(window.atob(\"JTIzJTIwVGVtcCUwQWluc2VydCUyOCUyNyUyNyUyNyUyNyUyNyUyNyUyOSUzQg==\")));\n",
       "    "
      ],
      "text/plain": [
       "<IPython.core.display.Javascript object>"
      ]
     },
     "metadata": {},
     "output_type": "display_data"
    },
    {
     "data": {
      "application/javascript": [
       "$('span:contains(\"# Temp\")').closest('.cell').remove();"
      ],
      "text/plain": [
       "<IPython.core.display.Javascript object>"
      ]
     },
     "metadata": {},
     "output_type": "display_data"
    },
    {
     "data": {
      "application/javascript": [
       "\n",
       "        $('span:contains(\"# Temp\")').closest('.cell').remove();\n",
       "        var code = IPython.notebook.insert_cell_below('code');\n",
       "        var prompt = code.element.find(\".input_prompt\");\n",
       "        prompt.append('<br><button style=\"height: 100%; width: 54px;\">Run</button>');\n",
       "        prompt.on(\"click\", \"button\", function(){\n",
       "            code.execute();\n",
       "        });\n",
       "        code.set_text(decodeURIComponent(window.atob(\"JTIzJTIwVGVtcCUwQWluc2VydCUyOCUyNyUyNyUyNyUyNyUyNyUyNyUyOSUzQg==\")));\n",
       "    "
      ],
      "text/plain": [
       "<IPython.core.display.Javascript object>"
      ]
     },
     "metadata": {},
     "output_type": "display_data"
    },
    {
     "data": {
      "application/javascript": [
       "$('span:contains(\"# Temp\")').closest('.cell').remove();"
      ],
      "text/plain": [
       "<IPython.core.display.Javascript object>"
      ]
     },
     "metadata": {},
     "output_type": "display_data"
    },
    {
     "data": {
      "application/javascript": [
       "\n",
       "        $('span:contains(\"# Temp\")').closest('.cell').remove();\n",
       "        var code = IPython.notebook.insert_cell_below('code');\n",
       "        var prompt = code.element.find(\".input_prompt\");\n",
       "        prompt.append('<br><button style=\"height: 100%; width: 54px;\">Run</button>');\n",
       "        prompt.on(\"click\", \"button\", function(){\n",
       "            code.execute();\n",
       "        });\n",
       "        code.set_text(decodeURIComponent(window.atob(\"JTIzJTIwVGVtcCUwQWluc2VydCUyOCUyNyUyNyUyNyUyNyUyNyUyNyUyOSUzQg==\")));\n",
       "    "
      ],
      "text/plain": [
       "<IPython.core.display.Javascript object>"
      ]
     },
     "metadata": {},
     "output_type": "display_data"
    },
    {
     "data": {
      "application/javascript": [
       "$('span:contains(\"# Temp\")').closest('.cell').remove();"
      ],
      "text/plain": [
       "<IPython.core.display.Javascript object>"
      ]
     },
     "metadata": {},
     "output_type": "display_data"
    },
    {
     "data": {
      "application/javascript": [
       "\n",
       "        $('span:contains(\"# Temp\")').closest('.cell').remove();\n",
       "        var code = IPython.notebook.insert_cell_below('code');\n",
       "        var prompt = code.element.find(\".input_prompt\");\n",
       "        prompt.append('<br><button style=\"height: 100%; width: 54px;\">Run</button>');\n",
       "        prompt.on(\"click\", \"button\", function(){\n",
       "            code.execute();\n",
       "        });\n",
       "        code.set_text(decodeURIComponent(window.atob(\"JTIzJTIwVGVtcCUwQWluc2VydCUyOCUyNyUyNyUyNyUyNyUyNyUyNyUyOSUzQg==\")));\n",
       "    "
      ],
      "text/plain": [
       "<IPython.core.display.Javascript object>"
      ]
     },
     "metadata": {},
     "output_type": "display_data"
    },
    {
     "data": {
      "application/javascript": [
       "$('span:contains(\"# Temp\")').closest('.cell').remove();"
      ],
      "text/plain": [
       "<IPython.core.display.Javascript object>"
      ]
     },
     "metadata": {},
     "output_type": "display_data"
    },
    {
     "data": {
      "application/javascript": [
       "\n",
       "        $('span:contains(\"# Temp\")').closest('.cell').remove();\n",
       "        var code = IPython.notebook.insert_cell_below('code');\n",
       "        var prompt = code.element.find(\".input_prompt\");\n",
       "        prompt.append('<br><button style=\"height: 100%; width: 54px;\">Run</button>');\n",
       "        prompt.on(\"click\", \"button\", function(){\n",
       "            code.execute();\n",
       "        });\n",
       "        code.set_text(decodeURIComponent(window.atob(\"JTIzJTIwVGVtcCUwQWluc2VydCUyOCUyNyUyNyUyNyUyNyUyNyUyNyUyOSUzQg==\")));\n",
       "    "
      ],
      "text/plain": [
       "<IPython.core.display.Javascript object>"
      ]
     },
     "metadata": {},
     "output_type": "display_data"
    },
    {
     "data": {
      "application/javascript": [
       "$('span:contains(\"# Temp\")').closest('.cell').remove();"
      ],
      "text/plain": [
       "<IPython.core.display.Javascript object>"
      ]
     },
     "metadata": {},
     "output_type": "display_data"
    },
    {
     "data": {
      "application/javascript": [
       "\n",
       "        $('span:contains(\"# Temp\")').closest('.cell').remove();\n",
       "        var code = IPython.notebook.insert_cell_below('code');\n",
       "        var prompt = code.element.find(\".input_prompt\");\n",
       "        prompt.append('<br><button style=\"height: 100%; width: 54px;\">Run</button>');\n",
       "        prompt.on(\"click\", \"button\", function(){\n",
       "            code.execute();\n",
       "        });\n",
       "        code.set_text(decodeURIComponent(window.atob(\"JTIzJTIwVGVtcCUwQWluc2VydCUyOCUyNyUyNyUyNyUyNyUyNyUyNyUyOSUzQg==\")));\n",
       "    "
      ],
      "text/plain": [
       "<IPython.core.display.Javascript object>"
      ]
     },
     "metadata": {},
     "output_type": "display_data"
    },
    {
     "data": {
      "application/javascript": [
       "$('span:contains(\"# Temp\")').closest('.cell').remove();"
      ],
      "text/plain": [
       "<IPython.core.display.Javascript object>"
      ]
     },
     "metadata": {},
     "output_type": "display_data"
    },
    {
     "data": {
      "application/javascript": [
       "\n",
       "        $('span:contains(\"# Temp\")').closest('.cell').remove();\n",
       "        var code = IPython.notebook.insert_cell_below('code');\n",
       "        var prompt = code.element.find(\".input_prompt\");\n",
       "        prompt.append('<br><button style=\"height: 100%; width: 54px;\">Run</button>');\n",
       "        prompt.on(\"click\", \"button\", function(){\n",
       "            code.execute();\n",
       "        });\n",
       "        code.set_text(decodeURIComponent(window.atob(\"JTIzJTIwVGVtcCUwQWluc2VydCUyOCUyNyUyNyUyNyUyNyUyNyUyNyUyOSUzQg==\")));\n",
       "    "
      ],
      "text/plain": [
       "<IPython.core.display.Javascript object>"
      ]
     },
     "metadata": {},
     "output_type": "display_data"
    },
    {
     "data": {
      "application/javascript": [
       "$('span:contains(\"# Temp\")').closest('.cell').remove();"
      ],
      "text/plain": [
       "<IPython.core.display.Javascript object>"
      ]
     },
     "metadata": {},
     "output_type": "display_data"
    },
    {
     "data": {
      "application/javascript": [
       "\n",
       "        $('span:contains(\"# Temp\")').closest('.cell').remove();\n",
       "        var code = IPython.notebook.insert_cell_below('code');\n",
       "        var prompt = code.element.find(\".input_prompt\");\n",
       "        prompt.append('<br><button style=\"height: 100%; width: 54px;\">Run</button>');\n",
       "        prompt.on(\"click\", \"button\", function(){\n",
       "            code.execute();\n",
       "        });\n",
       "        code.set_text(decodeURIComponent(window.atob(\"JTIzJTIwVGVtcCUwQWluc2VydCUyOCUyNyUyNyUyNyUyNyUyNyUyNyUyOSUzQg==\")));\n",
       "    "
      ],
      "text/plain": [
       "<IPython.core.display.Javascript object>"
      ]
     },
     "metadata": {},
     "output_type": "display_data"
    },
    {
     "data": {
      "application/javascript": [
       "$('span:contains(\"# Temp\")').closest('.cell').remove();"
      ],
      "text/plain": [
       "<IPython.core.display.Javascript object>"
      ]
     },
     "metadata": {},
     "output_type": "display_data"
    },
    {
     "data": {
      "application/javascript": [
       "\n",
       "        $('span:contains(\"# Temp\")').closest('.cell').remove();\n",
       "        var code = IPython.notebook.insert_cell_below('code');\n",
       "        var prompt = code.element.find(\".input_prompt\");\n",
       "        prompt.append('<br><button style=\"height: 100%; width: 54px;\">Run</button>');\n",
       "        prompt.on(\"click\", \"button\", function(){\n",
       "            code.execute();\n",
       "        });\n",
       "        code.set_text(decodeURIComponent(window.atob(\"JTIzJTIwVGVtcCUwQWluc2VydCUyOCUyNyUyNyUyNyUyNyUyNyUyNyUyOSUzQg==\")));\n",
       "    "
      ],
      "text/plain": [
       "<IPython.core.display.Javascript object>"
      ]
     },
     "metadata": {},
     "output_type": "display_data"
    },
    {
     "data": {
      "application/javascript": [
       "$('span:contains(\"# Temp\")').closest('.cell').remove();"
      ],
      "text/plain": [
       "<IPython.core.display.Javascript object>"
      ]
     },
     "metadata": {},
     "output_type": "display_data"
    },
    {
     "data": {
      "application/javascript": [
       "\n",
       "        $('span:contains(\"# Temp\")').closest('.cell').remove();\n",
       "        var code = IPython.notebook.insert_cell_below('code');\n",
       "        var prompt = code.element.find(\".input_prompt\");\n",
       "        prompt.append('<br><button style=\"height: 100%; width: 54px;\">Run</button>');\n",
       "        prompt.on(\"click\", \"button\", function(){\n",
       "            code.execute();\n",
       "        });\n",
       "        code.set_text(decodeURIComponent(window.atob(\"JTIzJTIwVGVtcCUwQWluc2VydCUyOCUyNyUyNyUyNyUyNyUyNyUyNyUyOSUzQg==\")));\n",
       "    "
      ],
      "text/plain": [
       "<IPython.core.display.Javascript object>"
      ]
     },
     "metadata": {},
     "output_type": "display_data"
    },
    {
     "data": {
      "application/javascript": [
       "$('span:contains(\"# Temp\")').closest('.cell').remove();"
      ],
      "text/plain": [
       "<IPython.core.display.Javascript object>"
      ]
     },
     "metadata": {},
     "output_type": "display_data"
    },
    {
     "data": {
      "application/javascript": [
       "\n",
       "        $('span:contains(\"# Temp\")').closest('.cell').remove();\n",
       "        var code = IPython.notebook.insert_cell_below('code');\n",
       "        var prompt = code.element.find(\".input_prompt\");\n",
       "        prompt.append('<br><button style=\"height: 100%; width: 54px;\">Run</button>');\n",
       "        prompt.on(\"click\", \"button\", function(){\n",
       "            code.execute();\n",
       "        });\n",
       "        code.set_text(decodeURIComponent(window.atob(\"JTIzJTIwVGVtcCUwQWluc2VydCUyOCUyNyUyNyUyNyUyNyUyNyUyNyUyOSUzQg==\")));\n",
       "    "
      ],
      "text/plain": [
       "<IPython.core.display.Javascript object>"
      ]
     },
     "metadata": {},
     "output_type": "display_data"
    },
    {
     "data": {
      "application/javascript": [
       "$('span:contains(\"# Temp\")').closest('.cell').remove();"
      ],
      "text/plain": [
       "<IPython.core.display.Javascript object>"
      ]
     },
     "metadata": {},
     "output_type": "display_data"
    },
    {
     "data": {
      "application/javascript": [
       "\n",
       "        $('span:contains(\"# Temp\")').closest('.cell').remove();\n",
       "        var code = IPython.notebook.insert_cell_below('code');\n",
       "        var prompt = code.element.find(\".input_prompt\");\n",
       "        prompt.append('<br><button style=\"height: 100%; width: 54px;\">Run</button>');\n",
       "        prompt.on(\"click\", \"button\", function(){\n",
       "            code.execute();\n",
       "        });\n",
       "        code.set_text(decodeURIComponent(window.atob(\"JTIzJTIwVGVtcCUwQWluc2VydCUyOCUyNyUyNyUyNyUwQXVudGVya2FsbXN0ZWluZXIyMDE0YSUyMCUzRCUyMERCJTI4V29ya1VucmVsYXRlZCUyOCUwQSUyMCUyMCUyMCUyMDIwMTQlMkMlMjAlMjJBJTIwdGF4b25vbXklMjBmb3IlMjByZXF1aXJlbWVudHMlMjBlbmdpbmVlcmluZyUyMGFuZCUyMHNvZnR3YXJlJTIwdGVzdCUyMGFsaWdubWVudCUyMiUyQyUwQSUyMCUyMCUyMCUyMGRpc3BsYXklM0QlMjJ1bnRlcmthbG1zdGVpbmVyJTIyJTJDJTBBJTIwJTIwJTIwJTIwYXV0aG9ycyUzRCUyMlVudGVya2FsbXN0ZWluZXIlMkMlMjBNLiUyMGFuZCUyMEZlbGR0JTJDJTIwUi4lMjBhbmQlMjBHb3JzY2hlayUyQyUyMFQuJTIyJTJDJTBBJTIwJTIwJTIwJTIwcGxhY2UlM0RUb1NFJTJDJTBBJTIwJTIwJTIwJTIwZW50cnl0eXBlJTNEJTIyYXJ0aWNsZSUyMiUyQyUwQSUyMCUyMCUyMCUyMHZvbHVtZSUzRCUyMjIzJTIyJTJDJTBBJTIwJTIwJTIwJTIwbnVtYmVyJTNEJTIyMiUyMiUyQyUwQSUyMCUyMCUyMCUyMGFydF9udW1iZXIlM0QlMjIxNiUyMiUyQyUwQSUyMCUyMCUyMCUyMGxpbmslM0QlMjJodHRwcyUzQS8vd3d3LnNjb3B1cy5jb20vaW53YXJkL3JlY29yZC51cmklM0ZlaWQlM0QyLXMyLjAtODQ4OTc5NzU1MDYlMjZkb2klM0QxMC4xMTQ1JTI1MmYyNTIzMDg4JTI2cGFydG5lcklEJTNENDAlMjZtZDUlM0RjMTExNGVmY2E2NzZhZjk4OTUwNzRmZDc3YmNlYjBlYSUyMiUyQyUwQSUyMCUyMCUyMCUyMElEJTNEJTIyVW50ZXJrYWxtc3RlaW5lcjIwMTQlMjIlMkMlMEElMjAlMjAlMjAlMjBzY29wdXMyMDE2JTNEJTIyMSUyMiUyQyUwQSUyMCUyMCUyMCUyMHBsYWNleCUzRCUyMkFDTSUyMFRyYW5zYWN0aW9ucyUyMG9uJTIwU29mdHdhcmUlMjBFbmdpbmVlcmluZyUyMGFuZCUyME1ldGhvZG9sb2d5JTIyJTJDJTBBJTI5JTI5JTBBJTI3JTI3JTI3JTI5JTNC\")));\n",
       "    "
      ],
      "text/plain": [
       "<IPython.core.display.Javascript object>"
      ]
     },
     "metadata": {},
     "output_type": "display_data"
    },
    {
     "data": {
      "application/javascript": [
       "$('span:contains(\"# Temp\")').closest('.cell').remove();"
      ],
      "text/plain": [
       "<IPython.core.display.Javascript object>"
      ]
     },
     "metadata": {},
     "output_type": "display_data"
    },
    {
     "data": {
      "application/javascript": [
       "\n",
       "        $('span:contains(\"# Temp\")').closest('.cell').remove();\n",
       "        var code = IPython.notebook.insert_cell_below('code');\n",
       "        var prompt = code.element.find(\".input_prompt\");\n",
       "        prompt.append('<br><button style=\"height: 100%; width: 54px;\">Run</button>');\n",
       "        prompt.on(\"click\", \"button\", function(){\n",
       "            code.execute();\n",
       "        });\n",
       "        code.set_text(decodeURIComponent(window.atob(\"JTIzJTIwVGVtcCUwQWluc2VydCUyOCUyNyUyNyUyNyUwQXVudGVya2FsbXN0ZWluZXIyMDE0YSUyMCUzRCUyMERCJTI4V29ya1VucmVsYXRlZCUyOCUwQSUyMCUyMCUyMCUyMDIwMTQlMkMlMjAlMjJBJTIwdGF4b25vbXklMjBmb3IlMjByZXF1aXJlbWVudHMlMjBlbmdpbmVlcmluZyUyMGFuZCUyMHNvZnR3YXJlJTIwdGVzdCUyMGFsaWdubWVudCUyMiUyQyUwQSUyMCUyMCUyMCUyMGRpc3BsYXklM0QlMjJ1bnRlcmthbG1zdGVpbmVyJTIyJTJDJTBBJTIwJTIwJTIwJTIwYXV0aG9ycyUzRCUyMlVudGVya2FsbXN0ZWluZXIlMkMlMjBNLiUyMGFuZCUyMEZlbGR0JTJDJTIwUi4lMjBhbmQlMjBHb3JzY2hlayUyQyUyMFQuJTIyJTJDJTBBJTIwJTIwJTIwJTIwcGxhY2UlM0RUb1NFJTJDJTBBJTIwJTIwJTIwJTIwZW50cnl0eXBlJTNEJTIyYXJ0aWNsZSUyMiUyQyUwQSUyMCUyMCUyMCUyMHZvbHVtZSUzRCUyMjIzJTIyJTJDJTBBJTIwJTIwJTIwJTIwbnVtYmVyJTNEJTIyMiUyMiUyQyUwQSUyMCUyMCUyMCUyMGFydF9udW1iZXIlM0QlMjIxNiUyMiUyQyUwQSUyMCUyMCUyMCUyMGxpbmslM0QlMjJodHRwcyUzQS8vd3d3LnNjb3B1cy5jb20vaW53YXJkL3JlY29yZC51cmklM0ZlaWQlM0QyLXMyLjAtODQ4OTc5NzU1MDYlMjZkb2klM0QxMC4xMTQ1JTI1MmYyNTIzMDg4JTI2cGFydG5lcklEJTNENDAlMjZtZDUlM0RjMTExNGVmY2E2NzZhZjk4OTUwNzRmZDc3YmNlYjBlYSUyMiUyQyUwQSUyMCUyMCUyMCUyMElEJTNEJTIyVW50ZXJrYWxtc3RlaW5lcjIwMTQlMjIlMkMlMEElMjAlMjAlMjAlMjBzY29wdXMyMDE2JTNEJTIyMSUyMiUyQyUwQSUyMCUyMCUyMCUyMHBsYWNleCUzRCUyMkFDTSUyMFRyYW5zYWN0aW9ucyUyMG9uJTIwU29mdHdhcmUlMjBFbmdpbmVlcmluZyUyMGFuZCUyME1ldGhvZG9sb2d5JTIyJTJDJTBBJTI5JTI5JTBBJTI3JTI3JTI3JTI5JTNC\")));\n",
       "    "
      ],
      "text/plain": [
       "<IPython.core.display.Javascript object>"
      ]
     },
     "metadata": {},
     "output_type": "display_data"
    },
    {
     "data": {
      "application/javascript": [
       "$('span:contains(\"# Temp\")').closest('.cell').remove();"
      ],
      "text/plain": [
       "<IPython.core.display.Javascript object>"
      ]
     },
     "metadata": {},
     "output_type": "display_data"
    },
    {
     "data": {
      "application/javascript": [
       "\n",
       "        $('span:contains(\"# Temp\")').closest('.cell').remove();\n",
       "        var code = IPython.notebook.insert_cell_below('code');\n",
       "        var prompt = code.element.find(\".input_prompt\");\n",
       "        prompt.append('<br><button style=\"height: 100%; width: 54px;\">Run</button>');\n",
       "        prompt.on(\"click\", \"button\", function(){\n",
       "            code.execute();\n",
       "        });\n",
       "        code.set_text(decodeURIComponent(window.atob(\"JTIzJTIwVGVtcCUwQWluc2VydCUyOCUyNyUyNyUyNyUwQWhlbmRlcnNvbjIwMTRmJTIwJTNEJTIwREIlMjhXb3JrVW5yZWxhdGVkJTI4JTBBJTIwJTIwJTIwJTIwMjAxNCUyQyUyMCUyMlNpdHVhdGlvbmFsJTIwbWV0aG9kJTIwZW5naW5lZXJpbmclMjIlMkMlMEElMjAlMjAlMjAlMjBkaXNwbGF5JTNEJTIyaGVuZGVyc29uJTIwZiUyMiUyQyUwQSUyMCUyMCUyMCUyMGF1dGhvcnMlM0QlMjJIZW5kZXJzb24tU2VsbGVycyUyQyUyMEIuJTIwYW5kJTIwUmFseXQlQzMlQTklMkMlMjBKLiUyMGFuZCUyMCVDMyU4NWdlcmZhbGslMkMlMjBQLkouJTIwYW5kJTIwUm9zc2klMkMlMjBNLiUyMiUyQyUwQSUyMCUyMCUyMCUyMHBsYWNlJTNEQm9vayUyQyUwQSUyMCUyMCUyMCUyMHBwJTNEJTIyMS0zMTAlMjIlMkMlMEElMjAlMjAlMjAlMjBlbnRyeXR5cGUlM0QlMjJib29rJTIyJTJDJTBBJTIwJTIwJTIwJTIwbGluayUzRCUyMmh0dHBzJTNBLy93d3cuc2NvcHVzLmNvbS9pbndhcmQvcmVjb3JkLnVyaSUzRmVpZCUzRDItczIuMC04NDk1NTcxODg3NCUyNmRvaSUzRDEwLjEwMDclMjUyZjk3OC0zLTY0Mi00MTQ2Ny0xJTI2cGFydG5lcklEJTNENDAlMjZtZDUlM0QxY2RlOWYyZTM1NTBjZTBkYzc2Y2MyYzYwZDFhZWEyOCUyMiUyQyUwQSUyMCUyMCUyMCUyMElEJTNEJTIySGVuZGVyc29uLVNlbGxlcnMyMDE0MSUyMiUyQyUwQSUyMCUyMCUyMCUyMHNjb3B1czIwMTYlM0QlMjIxJTIyJTJDJTBBJTIwJTIwJTIwJTIwcGxhY2V4JTNEJTIyU2l0dWF0aW9uYWwlMjBNZXRob2QlMjBFbmdpbmVlcmluZyUyMiUyQyUwQSUyOSUyOSUwQSUyNyUyNyUyNyUyOSUzQg==\")));\n",
       "    "
      ],
      "text/plain": [
       "<IPython.core.display.Javascript object>"
      ]
     },
     "metadata": {},
     "output_type": "display_data"
    },
    {
     "data": {
      "application/javascript": [
       "$('span:contains(\"# Temp\")').closest('.cell').remove();"
      ],
      "text/plain": [
       "<IPython.core.display.Javascript object>"
      ]
     },
     "metadata": {},
     "output_type": "display_data"
    },
    {
     "data": {
      "application/javascript": [
       "\n",
       "        $('span:contains(\"# Temp\")').closest('.cell').remove();\n",
       "        var code = IPython.notebook.insert_cell_below('code');\n",
       "        var prompt = code.element.find(\".input_prompt\");\n",
       "        prompt.append('<br><button style=\"height: 100%; width: 54px;\">Run</button>');\n",
       "        prompt.on(\"click\", \"button\", function(){\n",
       "            code.execute();\n",
       "        });\n",
       "        code.set_text(decodeURIComponent(window.atob(\"JTIzJTIwVGVtcCUwQWluc2VydCUyOCUyNyUyNyUyNyUwQWhlbmRlcnNvbjIwMTRmJTIwJTNEJTIwREIlMjhXb3JrVW5yZWxhdGVkJTI4JTBBJTIwJTIwJTIwJTIwMjAxNCUyQyUyMCUyMlNpdHVhdGlvbmFsJTIwbWV0aG9kJTIwZW5naW5lZXJpbmclMjIlMkMlMEElMjAlMjAlMjAlMjBkaXNwbGF5JTNEJTIyaGVuZGVyc29uJTIwZiUyMiUyQyUwQSUyMCUyMCUyMCUyMGF1dGhvcnMlM0QlMjJIZW5kZXJzb24tU2VsbGVycyUyQyUyMEIuJTIwYW5kJTIwUmFseXQlQzMlQTklMkMlMjBKLiUyMGFuZCUyMCVDMyU4NWdlcmZhbGslMkMlMjBQLkouJTIwYW5kJTIwUm9zc2klMkMlMjBNLiUyMiUyQyUwQSUyMCUyMCUyMCUyMHBsYWNlJTNEQm9vayUyQyUwQSUyMCUyMCUyMCUyMHBwJTNEJTIyMS0zMTAlMjIlMkMlMEElMjAlMjAlMjAlMjBlbnRyeXR5cGUlM0QlMjJib29rJTIyJTJDJTBBJTIwJTIwJTIwJTIwbGluayUzRCUyMmh0dHBzJTNBLy93d3cuc2NvcHVzLmNvbS9pbndhcmQvcmVjb3JkLnVyaSUzRmVpZCUzRDItczIuMC04NDk1NTcxODg3NCUyNmRvaSUzRDEwLjEwMDclMjUyZjk3OC0zLTY0Mi00MTQ2Ny0xJTI2cGFydG5lcklEJTNENDAlMjZtZDUlM0QxY2RlOWYyZTM1NTBjZTBkYzc2Y2MyYzYwZDFhZWEyOCUyMiUyQyUwQSUyMCUyMCUyMCUyMElEJTNEJTIySGVuZGVyc29uLVNlbGxlcnMyMDE0MSUyMiUyQyUwQSUyMCUyMCUyMCUyMHNjb3B1czIwMTYlM0QlMjIxJTIyJTJDJTBBJTIwJTIwJTIwJTIwcGxhY2V4JTNEJTIyU2l0dWF0aW9uYWwlMjBNZXRob2QlMjBFbmdpbmVlcmluZyUyMiUyQyUwQSUyOSUyOSUwQSUyNyUyNyUyNyUyOSUzQg==\")));\n",
       "    "
      ],
      "text/plain": [
       "<IPython.core.display.Javascript object>"
      ]
     },
     "metadata": {},
     "output_type": "display_data"
    },
    {
     "data": {
      "application/javascript": [
       "$('span:contains(\"# Temp\")').closest('.cell').remove();"
      ],
      "text/plain": [
       "<IPython.core.display.Javascript object>"
      ]
     },
     "metadata": {},
     "output_type": "display_data"
    },
    {
     "data": {
      "application/javascript": [
       "\n",
       "        $('span:contains(\"# Temp\")').closest('.cell').remove();\n",
       "        var code = IPython.notebook.insert_cell_below('code');\n",
       "        var prompt = code.element.find(\".input_prompt\");\n",
       "        prompt.append('<br><button style=\"height: 100%; width: 54px;\">Run</button>');\n",
       "        prompt.on(\"click\", \"button\", function(){\n",
       "            code.execute();\n",
       "        });\n",
       "        code.set_text(decodeURIComponent(window.atob(\"JTIzJTIwVGVtcCUwQWluc2VydCUyOCUyNyUyNyUyNyUyNyUyNyUyNyUyOSUzQg==\")));\n",
       "    "
      ],
      "text/plain": [
       "<IPython.core.display.Javascript object>"
      ]
     },
     "metadata": {},
     "output_type": "display_data"
    },
    {
     "data": {
      "application/javascript": [
       "$('span:contains(\"# Temp\")').closest('.cell').remove();"
      ],
      "text/plain": [
       "<IPython.core.display.Javascript object>"
      ]
     },
     "metadata": {},
     "output_type": "display_data"
    },
    {
     "data": {
      "application/javascript": [
       "\n",
       "        $('span:contains(\"# Temp\")').closest('.cell').remove();\n",
       "        var code = IPython.notebook.insert_cell_below('code');\n",
       "        var prompt = code.element.find(\".input_prompt\");\n",
       "        prompt.append('<br><button style=\"height: 100%; width: 54px;\">Run</button>');\n",
       "        prompt.on(\"click\", \"button\", function(){\n",
       "            code.execute();\n",
       "        });\n",
       "        code.set_text(decodeURIComponent(window.atob(\"JTIzJTIwVGVtcCUwQWluc2VydCUyOCUyNyUyNyUyNyUyNyUyNyUyNyUyOSUzQg==\")));\n",
       "    "
      ],
      "text/plain": [
       "<IPython.core.display.Javascript object>"
      ]
     },
     "metadata": {},
     "output_type": "display_data"
    },
    {
     "data": {
      "application/javascript": [
       "$('span:contains(\"# Temp\")').closest('.cell').remove();"
      ],
      "text/plain": [
       "<IPython.core.display.Javascript object>"
      ]
     },
     "metadata": {},
     "output_type": "display_data"
    },
    {
     "data": {
      "application/javascript": [
       "\n",
       "        $('span:contains(\"# Temp\")').closest('.cell').remove();\n",
       "        var code = IPython.notebook.insert_cell_below('code');\n",
       "        var prompt = code.element.find(\".input_prompt\");\n",
       "        prompt.append('<br><button style=\"height: 100%; width: 54px;\">Run</button>');\n",
       "        prompt.on(\"click\", \"button\", function(){\n",
       "            code.execute();\n",
       "        });\n",
       "        code.set_text(decodeURIComponent(window.atob(\"JTIzJTIwVGVtcCUwQWluc2VydCUyOCUyNyUyNyUyNyUyNyUyNyUyNyUyOSUzQg==\")));\n",
       "    "
      ],
      "text/plain": [
       "<IPython.core.display.Javascript object>"
      ]
     },
     "metadata": {},
     "output_type": "display_data"
    },
    {
     "data": {
      "application/javascript": [
       "$('span:contains(\"# Temp\")').closest('.cell').remove();"
      ],
      "text/plain": [
       "<IPython.core.display.Javascript object>"
      ]
     },
     "metadata": {},
     "output_type": "display_data"
    },
    {
     "data": {
      "application/javascript": [
       "\n",
       "        $('span:contains(\"# Temp\")').closest('.cell').remove();\n",
       "        var code = IPython.notebook.insert_cell_below('code');\n",
       "        var prompt = code.element.find(\".input_prompt\");\n",
       "        prompt.append('<br><button style=\"height: 100%; width: 54px;\">Run</button>');\n",
       "        prompt.on(\"click\", \"button\", function(){\n",
       "            code.execute();\n",
       "        });\n",
       "        code.set_text(decodeURIComponent(window.atob(\"JTIzJTIwVGVtcCUwQWluc2VydCUyOCUyNyUyNyUyNyUyNyUyNyUyNyUyOSUzQg==\")));\n",
       "    "
      ],
      "text/plain": [
       "<IPython.core.display.Javascript object>"
      ]
     },
     "metadata": {},
     "output_type": "display_data"
    },
    {
     "data": {
      "application/javascript": [
       "$('span:contains(\"# Temp\")').closest('.cell').remove();"
      ],
      "text/plain": [
       "<IPython.core.display.Javascript object>"
      ]
     },
     "metadata": {},
     "output_type": "display_data"
    },
    {
     "data": {
      "application/javascript": [
       "\n",
       "        $('span:contains(\"# Temp\")').closest('.cell').remove();\n",
       "        var code = IPython.notebook.insert_cell_below('code');\n",
       "        var prompt = code.element.find(\".input_prompt\");\n",
       "        prompt.append('<br><button style=\"height: 100%; width: 54px;\">Run</button>');\n",
       "        prompt.on(\"click\", \"button\", function(){\n",
       "            code.execute();\n",
       "        });\n",
       "        code.set_text(decodeURIComponent(window.atob(\"JTIzJTIwVGVtcCUwQWluc2VydCUyOCUyNyUyNyUyNyUyNyUyNyUyNyUyOSUzQg==\")));\n",
       "    "
      ],
      "text/plain": [
       "<IPython.core.display.Javascript object>"
      ]
     },
     "metadata": {},
     "output_type": "display_data"
    },
    {
     "data": {
      "application/javascript": [
       "$('span:contains(\"# Temp\")').closest('.cell').remove();"
      ],
      "text/plain": [
       "<IPython.core.display.Javascript object>"
      ]
     },
     "metadata": {},
     "output_type": "display_data"
    },
    {
     "data": {
      "application/javascript": [
       "\n",
       "        $('span:contains(\"# Temp\")').closest('.cell').remove();\n",
       "        var code = IPython.notebook.insert_cell_below('code');\n",
       "        var prompt = code.element.find(\".input_prompt\");\n",
       "        prompt.append('<br><button style=\"height: 100%; width: 54px;\">Run</button>');\n",
       "        prompt.on(\"click\", \"button\", function(){\n",
       "            code.execute();\n",
       "        });\n",
       "        code.set_text(decodeURIComponent(window.atob(\"JTIzJTIwVGVtcCUwQWluc2VydCUyOCUyNyUyNyUyNyUyNyUyNyUyNyUyOSUzQg==\")));\n",
       "    "
      ],
      "text/plain": [
       "<IPython.core.display.Javascript object>"
      ]
     },
     "metadata": {},
     "output_type": "display_data"
    },
    {
     "data": {
      "application/javascript": [
       "$('span:contains(\"# Temp\")').closest('.cell').remove();"
      ],
      "text/plain": [
       "<IPython.core.display.Javascript object>"
      ]
     },
     "metadata": {},
     "output_type": "display_data"
    },
    {
     "data": {
      "application/javascript": [
       "\n",
       "        $('span:contains(\"# Temp\")').closest('.cell').remove();\n",
       "        var code = IPython.notebook.insert_cell_below('code');\n",
       "        var prompt = code.element.find(\".input_prompt\");\n",
       "        prompt.append('<br><button style=\"height: 100%; width: 54px;\">Run</button>');\n",
       "        prompt.on(\"click\", \"button\", function(){\n",
       "            code.execute();\n",
       "        });\n",
       "        code.set_text(decodeURIComponent(window.atob(\"JTIzJTIwVGVtcCUwQWluc2VydCUyOCUyNyUyNyUyNyUyNyUyNyUyNyUyOSUzQg==\")));\n",
       "    "
      ],
      "text/plain": [
       "<IPython.core.display.Javascript object>"
      ]
     },
     "metadata": {},
     "output_type": "display_data"
    },
    {
     "data": {
      "application/javascript": [
       "$('span:contains(\"# Temp\")').closest('.cell').remove();"
      ],
      "text/plain": [
       "<IPython.core.display.Javascript object>"
      ]
     },
     "metadata": {},
     "output_type": "display_data"
    },
    {
     "data": {
      "application/javascript": [
       "\n",
       "        $('span:contains(\"# Temp\")').closest('.cell').remove();\n",
       "        var code = IPython.notebook.insert_cell_below('code');\n",
       "        var prompt = code.element.find(\".input_prompt\");\n",
       "        prompt.append('<br><button style=\"height: 100%; width: 54px;\">Run</button>');\n",
       "        prompt.on(\"click\", \"button\", function(){\n",
       "            code.execute();\n",
       "        });\n",
       "        code.set_text(decodeURIComponent(window.atob(\"JTIzJTIwVGVtcCUwQWluc2VydCUyOCUyNyUyNyUyNyUyNyUyNyUyNyUyOSUzQg==\")));\n",
       "    "
      ],
      "text/plain": [
       "<IPython.core.display.Javascript object>"
      ]
     },
     "metadata": {},
     "output_type": "display_data"
    },
    {
     "data": {
      "application/javascript": [
       "$('span:contains(\"# Temp\")').closest('.cell').remove();"
      ],
      "text/plain": [
       "<IPython.core.display.Javascript object>"
      ]
     },
     "metadata": {},
     "output_type": "display_data"
    },
    {
     "data": {
      "application/javascript": [
       "\n",
       "        $('span:contains(\"# Temp\")').closest('.cell').remove();\n",
       "        var code = IPython.notebook.insert_cell_below('code');\n",
       "        var prompt = code.element.find(\".input_prompt\");\n",
       "        prompt.append('<br><button style=\"height: 100%; width: 54px;\">Run</button>');\n",
       "        prompt.on(\"click\", \"button\", function(){\n",
       "            code.execute();\n",
       "        });\n",
       "        code.set_text(decodeURIComponent(window.atob(\"JTIzJTIwVGVtcCUwQWluc2VydCUyOCUyNyUyNyUyNyUyNyUyNyUyNyUyOSUzQg==\")));\n",
       "    "
      ],
      "text/plain": [
       "<IPython.core.display.Javascript object>"
      ]
     },
     "metadata": {},
     "output_type": "display_data"
    },
    {
     "data": {
      "application/javascript": [
       "$('span:contains(\"# Temp\")').closest('.cell').remove();"
      ],
      "text/plain": [
       "<IPython.core.display.Javascript object>"
      ]
     },
     "metadata": {},
     "output_type": "display_data"
    },
    {
     "data": {
      "application/javascript": [
       "\n",
       "        $('span:contains(\"# Temp\")').closest('.cell').remove();\n",
       "        var code = IPython.notebook.insert_cell_below('code');\n",
       "        var prompt = code.element.find(\".input_prompt\");\n",
       "        prompt.append('<br><button style=\"height: 100%; width: 54px;\">Run</button>');\n",
       "        prompt.on(\"click\", \"button\", function(){\n",
       "            code.execute();\n",
       "        });\n",
       "        code.set_text(decodeURIComponent(window.atob(\"JTIzJTIwVGVtcCUwQWluc2VydCUyOCUyNyUyNyUyNyUyNyUyNyUyNyUyOSUzQg==\")));\n",
       "    "
      ],
      "text/plain": [
       "<IPython.core.display.Javascript object>"
      ]
     },
     "metadata": {},
     "output_type": "display_data"
    },
    {
     "data": {
      "application/javascript": [
       "$('span:contains(\"# Temp\")').closest('.cell').remove();"
      ],
      "text/plain": [
       "<IPython.core.display.Javascript object>"
      ]
     },
     "metadata": {},
     "output_type": "display_data"
    },
    {
     "data": {
      "application/javascript": [
       "\n",
       "        $('span:contains(\"# Temp\")').closest('.cell').remove();\n",
       "        var code = IPython.notebook.insert_cell_below('code');\n",
       "        var prompt = code.element.find(\".input_prompt\");\n",
       "        prompt.append('<br><button style=\"height: 100%; width: 54px;\">Run</button>');\n",
       "        prompt.on(\"click\", \"button\", function(){\n",
       "            code.execute();\n",
       "        });\n",
       "        code.set_text(decodeURIComponent(window.atob(\"JTIzJTIwVGVtcCUwQWluc2VydCUyOCUyNyUyNyUyNyUwQWdvbiVDMyVBN2FsdmVzMjAxNGElMjAlM0QlMjBEQiUyOFdvcmtVbnJlbGF0ZWQlMjglMEElMjAlMjAlMjAlMjAyMDE0JTJDJTIwJTIyQ29tcGFyaW5nJTIwYWdpbGl0eSUyMGFuYWx5c2lzJTIwdGVjaG5pcXVlcyUzQSUyMEFnaWxBQyUyMGZyYW1ld29yayUyMHZlcnN1cyUyMGFkJTIwaG9jJTIwYXBwcm9hY2glMjIlMkMlMEElMjAlMjAlMjAlMjBkaXNwbGF5JTNEJTIyZ29uJUMzJUE3YWx2ZXMlMjIlMkMlMEElMjAlMjAlMjAlMjBhdXRob3JzJTNEJTIyR29uJUMzJUE3YWx2ZXMlMkMlMjBNLkIuJTIwYW5kJTIwUGFpdmElMkMlMjBELk0uQi4lMjBhbmQlMjBDYW1hcmdvJTJDJTIwVi5WLiUyMGFuZCUyMENhZ25pbiUyQyUyME0uSS4lMjIlMkMlMEElMjAlMjAlMjAlMjBwbGFjZSUzREZBS0UlMkMlMEElMjAlMjAlMjAlMjBwcCUzRCUyMjU0Ni01NjElMjIlMkMlMEElMjAlMjAlMjAlMjBlbnRyeXR5cGUlM0QlMjJhcnRpY2xlJTIyJTJDJTBBJTIwJTIwJTIwJTIwdm9sdW1lJTNEJTIyODU4NCUyMExOQ1MlMjIlMkMlMEElMjAlMjAlMjAlMjBudW1iZXIlM0QlMjJQQVJUJTIwNiUyMiUyQyUwQSUyMCUyMCUyMCUyMGxpbmslM0QlMjJodHRwcyUzQS8vd3d3LnNjb3B1cy5jb20vaW53YXJkL3JlY29yZC51cmklM0ZlaWQlM0QyLXMyLjAtODQ5MDQ4NjMzNjElMjZkb2klM0QxMC4xMDA3JTI1MmY5NzgtMy0zMTktMDkxNTMtMl80MSUyNnBhcnRuZXJJRCUzRDQwJTI2bWQ1JTNENDE2NTJjMGY2Y2VlMzc2M2M4MmFmYWNlZDgyOGI2Y2QlMjIlMkMlMEElMjAlMjAlMjAlMjBJRCUzRCUyMkdvbiVDMyVBN2FsdmVzMjAxNDU0NiUyMiUyQyUwQSUyMCUyMCUyMCUyMHNjb3B1czIwMTYlM0QlMjIxJTIyJTJDJTBBJTIwJTIwJTIwJTIwcGxhY2V4JTNEJTIyTGVjdHVyZSUyME5vdGVzJTIwaW4lMjBDb21wdXRlciUyMFNjaWVuY2UlMjAlMjhpbmNsdWRpbmclMjBzdWJzZXJpZXMlMjBMZWN0dXJlJTIwTm90ZXMlMjBpbiUyMEFydGlmaWNpYWwlMjBJbnRlbGxpZ2VuY2UlMjBhbmQlMjBMZWN0dXJlJTIwTm90ZXMlMjBpbiUyMEJpb2luZm9ybWF0aWNzJTI5JTIyJTJDJTBBJTI5JTI5JTBBJTI3JTI3JTI3JTI5JTNC\")));\n",
       "    "
      ],
      "text/plain": [
       "<IPython.core.display.Javascript object>"
      ]
     },
     "metadata": {},
     "output_type": "display_data"
    },
    {
     "data": {
      "application/javascript": [
       "$('span:contains(\"# Temp\")').closest('.cell').remove();"
      ],
      "text/plain": [
       "<IPython.core.display.Javascript object>"
      ]
     },
     "metadata": {},
     "output_type": "display_data"
    },
    {
     "data": {
      "application/javascript": [
       "\n",
       "        $('span:contains(\"# Temp\")').closest('.cell').remove();\n",
       "        var code = IPython.notebook.insert_cell_below('code');\n",
       "        var prompt = code.element.find(\".input_prompt\");\n",
       "        prompt.append('<br><button style=\"height: 100%; width: 54px;\">Run</button>');\n",
       "        prompt.on(\"click\", \"button\", function(){\n",
       "            code.execute();\n",
       "        });\n",
       "        code.set_text(decodeURIComponent(window.atob(\"JTIzJTIwVGVtcCUwQWluc2VydCUyOCUyNyUyNyUyNyUwQWdvbiVDMyVBN2FsdmVzMjAxNGElMjAlM0QlMjBEQiUyOFdvcmtVbnJlbGF0ZWQlMjglMEElMjAlMjAlMjAlMjAyMDE0JTJDJTIwJTIyQ29tcGFyaW5nJTIwYWdpbGl0eSUyMGFuYWx5c2lzJTIwdGVjaG5pcXVlcyUzQSUyMEFnaWxBQyUyMGZyYW1ld29yayUyMHZlcnN1cyUyMGFkJTIwaG9jJTIwYXBwcm9hY2glMjIlMkMlMEElMjAlMjAlMjAlMjBkaXNwbGF5JTNEJTIyZ29uJUMzJUE3YWx2ZXMlMjIlMkMlMEElMjAlMjAlMjAlMjBhdXRob3JzJTNEJTIyR29uJUMzJUE3YWx2ZXMlMkMlMjBNLkIuJTIwYW5kJTIwUGFpdmElMkMlMjBELk0uQi4lMjBhbmQlMjBDYW1hcmdvJTJDJTIwVi5WLiUyMGFuZCUyMENhZ25pbiUyQyUyME0uSS4lMjIlMkMlMEElMjAlMjAlMjAlMjBwbGFjZSUzREZBS0UlMkMlMEElMjAlMjAlMjAlMjBwcCUzRCUyMjU0Ni01NjElMjIlMkMlMEElMjAlMjAlMjAlMjBlbnRyeXR5cGUlM0QlMjJhcnRpY2xlJTIyJTJDJTBBJTIwJTIwJTIwJTIwdm9sdW1lJTNEJTIyODU4NCUyMExOQ1MlMjIlMkMlMEElMjAlMjAlMjAlMjBudW1iZXIlM0QlMjJQQVJUJTIwNiUyMiUyQyUwQSUyMCUyMCUyMCUyMGxpbmslM0QlMjJodHRwcyUzQS8vd3d3LnNjb3B1cy5jb20vaW53YXJkL3JlY29yZC51cmklM0ZlaWQlM0QyLXMyLjAtODQ5MDQ4NjMzNjElMjZkb2klM0QxMC4xMDA3JTI1MmY5NzgtMy0zMTktMDkxNTMtMl80MSUyNnBhcnRuZXJJRCUzRDQwJTI2bWQ1JTNENDE2NTJjMGY2Y2VlMzc2M2M4MmFmYWNlZDgyOGI2Y2QlMjIlMkMlMEElMjAlMjAlMjAlMjBJRCUzRCUyMkdvbiVDMyVBN2FsdmVzMjAxNDU0NiUyMiUyQyUwQSUyMCUyMCUyMCUyMHNjb3B1czIwMTYlM0QlMjIxJTIyJTJDJTBBJTIwJTIwJTIwJTIwcGxhY2V4JTNEJTIyTGVjdHVyZSUyME5vdGVzJTIwaW4lMjBDb21wdXRlciUyMFNjaWVuY2UlMjAlMjhpbmNsdWRpbmclMjBzdWJzZXJpZXMlMjBMZWN0dXJlJTIwTm90ZXMlMjBpbiUyMEFydGlmaWNpYWwlMjBJbnRlbGxpZ2VuY2UlMjBhbmQlMjBMZWN0dXJlJTIwTm90ZXMlMjBpbiUyMEJpb2luZm9ybWF0aWNzJTI5JTIyJTJDJTBBJTI5JTI5JTBBJTI3JTI3JTI3JTI5JTNC\")));\n",
       "    "
      ],
      "text/plain": [
       "<IPython.core.display.Javascript object>"
      ]
     },
     "metadata": {},
     "output_type": "display_data"
    },
    {
     "data": {
      "application/javascript": [
       "$('span:contains(\"# Temp\")').closest('.cell').remove();"
      ],
      "text/plain": [
       "<IPython.core.display.Javascript object>"
      ]
     },
     "metadata": {},
     "output_type": "display_data"
    },
    {
     "data": {
      "application/javascript": [
       "\n",
       "        $('span:contains(\"# Temp\")').closest('.cell').remove();\n",
       "        var code = IPython.notebook.insert_cell_below('code');\n",
       "        var prompt = code.element.find(\".input_prompt\");\n",
       "        prompt.append('<br><button style=\"height: 100%; width: 54px;\">Run</button>');\n",
       "        prompt.on(\"click\", \"button\", function(){\n",
       "            code.execute();\n",
       "        });\n",
       "        code.set_text(decodeURIComponent(window.atob(\"JTIzJTIwVGVtcCUwQWluc2VydCUyOCUyNyUyNyUyNyUwQW1pcm5hMjAxNGIlMjAlM0QlMjBEQiUyOFdvcmtVbnJlbGF0ZWQlMjglMEElMjAlMjAlMjAlMjAyMDE0JTJDJTIwJTIyRXZvbHZpbmclMjBwcm9jZXNzJTIwaW1wcm92ZW1lbnQlMjB1c2luZyUyMG11bHRpLW1vZGVsJTIwZW52aXJvbWVudHMlMjBhbmQlMjBrbm93bGVkZ2UlMjBtYW5hZ2VtZW50JTIwJTVCRXZvbHVjaW9uYW5kbyUyMGxhJTIwbWVqb3JhJTIwZGUlMjBwcm9jZXNvcyUyMGJhc2FkYSUyMGVuJTIwZWwlMjB1c28lMjBkZSUyMGVudG9ybm9zJTIwbXVsdGltb2RlbG8lMjB5JTIwbGElMjBnZXN0aSVDMyVCM24lMjBkZWwlMjBjb25vY2ltaWVudG8lNUQlMjIlMkMlMEElMjAlMjAlMjAlMjBkaXNwbGF5JTNEJTIybWlybmElMjBiJTIyJTJDJTBBJTIwJTIwJTIwJTIwYXV0aG9ycyUzRCUyMk1pcm5hJTJDJTIwTS4lMjBhbmQlMjBKZXpyZWVsJTJDJTIwTS4lMjBhbmQlMjBFZHJpc2klMkMlMjBNLiUyMiUyQyUwQSUyMCUyMCUyMCUyMHBsYWNlJTNERkFLRSUyQyUwQSUyMCUyMCUyMCUyMGVudHJ5dHlwZSUzRCUyMmNvbmZlcmVuY2UlMjIlMkMlMEElMjAlMjAlMjAlMjBhcnRfbnVtYmVyJTNEJTIyNjg3Njk3MSUyMiUyQyUwQSUyMCUyMCUyMCUyMGxpbmslM0QlMjJodHRwcyUzQS8vd3d3LnNjb3B1cy5jb20vaW53YXJkL3JlY29yZC51cmklM0ZlaWQlM0QyLXMyLjAtODQ5MDY2OTE3MTAlMjZkb2klM0QxMC4xMTA5JTI1MmZDSVNUSS4yMDE0LjY4NzY5NzElMjZwYXJ0bmVySUQlM0Q0MCUyNm1kNSUzRDgyZTMzNDBiZWRhZDg3NjNiZDM0ODc2MDAwNGUwY2M2JTIyJTJDJTBBJTIwJTIwJTIwJTIwSUQlM0QlMjJNaXJuYTIwMTQlMjIlMkMlMEElMjAlMjAlMjAlMjBzY29wdXMyMDE2JTNEJTIyMSUyMiUyQyUwQSUyMCUyMCUyMCUyMHBsYWNleCUzRCUyMkliZXJpYW4lMjBDb25mZXJlbmNlJTIwb24lMjBJbmZvcm1hdGlvbiUyMFN5c3RlbXMlMjBhbmQlMjBUZWNobm9sb2dpZXMlMkMlMjBDSVNUSSUyMiUyQyUwQSUyOSUyOSUwQSUyNyUyNyUyNyUyOSUzQg==\")));\n",
       "    "
      ],
      "text/plain": [
       "<IPython.core.display.Javascript object>"
      ]
     },
     "metadata": {},
     "output_type": "display_data"
    },
    {
     "data": {
      "application/javascript": [
       "$('span:contains(\"# Temp\")').closest('.cell').remove();"
      ],
      "text/plain": [
       "<IPython.core.display.Javascript object>"
      ]
     },
     "metadata": {},
     "output_type": "display_data"
    },
    {
     "data": {
      "application/javascript": [
       "\n",
       "        $('span:contains(\"# Temp\")').closest('.cell').remove();\n",
       "        var code = IPython.notebook.insert_cell_below('code');\n",
       "        var prompt = code.element.find(\".input_prompt\");\n",
       "        prompt.append('<br><button style=\"height: 100%; width: 54px;\">Run</button>');\n",
       "        prompt.on(\"click\", \"button\", function(){\n",
       "            code.execute();\n",
       "        });\n",
       "        code.set_text(decodeURIComponent(window.atob(\"JTIzJTIwVGVtcCUwQWluc2VydCUyOCUyNyUyNyUyNyUwQW1pcm5hMjAxNGIlMjAlM0QlMjBEQiUyOFdvcmtVbnJlbGF0ZWQlMjglMEElMjAlMjAlMjAlMjAyMDE0JTJDJTIwJTIyRXZvbHZpbmclMjBwcm9jZXNzJTIwaW1wcm92ZW1lbnQlMjB1c2luZyUyMG11bHRpLW1vZGVsJTIwZW52aXJvbWVudHMlMjBhbmQlMjBrbm93bGVkZ2UlMjBtYW5hZ2VtZW50JTIwJTVCRXZvbHVjaW9uYW5kbyUyMGxhJTIwbWVqb3JhJTIwZGUlMjBwcm9jZXNvcyUyMGJhc2FkYSUyMGVuJTIwZWwlMjB1c28lMjBkZSUyMGVudG9ybm9zJTIwbXVsdGltb2RlbG8lMjB5JTIwbGElMjBnZXN0aSVDMyVCM24lMjBkZWwlMjBjb25vY2ltaWVudG8lNUQlMjIlMkMlMEElMjAlMjAlMjAlMjBkaXNwbGF5JTNEJTIybWlybmElMjBiJTIyJTJDJTBBJTIwJTIwJTIwJTIwYXV0aG9ycyUzRCUyMk1pcm5hJTJDJTIwTS4lMjBhbmQlMjBKZXpyZWVsJTJDJTIwTS4lMjBhbmQlMjBFZHJpc2klMkMlMjBNLiUyMiUyQyUwQSUyMCUyMCUyMCUyMHBsYWNlJTNERkFLRSUyQyUwQSUyMCUyMCUyMCUyMGVudHJ5dHlwZSUzRCUyMmNvbmZlcmVuY2UlMjIlMkMlMEElMjAlMjAlMjAlMjBhcnRfbnVtYmVyJTNEJTIyNjg3Njk3MSUyMiUyQyUwQSUyMCUyMCUyMCUyMGxpbmslM0QlMjJodHRwcyUzQS8vd3d3LnNjb3B1cy5jb20vaW53YXJkL3JlY29yZC51cmklM0ZlaWQlM0QyLXMyLjAtODQ5MDY2OTE3MTAlMjZkb2klM0QxMC4xMTA5JTI1MmZDSVNUSS4yMDE0LjY4NzY5NzElMjZwYXJ0bmVySUQlM0Q0MCUyNm1kNSUzRDgyZTMzNDBiZWRhZDg3NjNiZDM0ODc2MDAwNGUwY2M2JTIyJTJDJTBBJTIwJTIwJTIwJTIwSUQlM0QlMjJNaXJuYTIwMTQlMjIlMkMlMEElMjAlMjAlMjAlMjBzY29wdXMyMDE2JTNEJTIyMSUyMiUyQyUwQSUyMCUyMCUyMCUyMHBsYWNleCUzRCUyMkliZXJpYW4lMjBDb25mZXJlbmNlJTIwb24lMjBJbmZvcm1hdGlvbiUyMFN5c3RlbXMlMjBhbmQlMjBUZWNobm9sb2dpZXMlMkMlMjBDSVNUSSUyMiUyQyUwQSUyOSUyOSUwQSUyNyUyNyUyNyUyOSUzQg==\")));\n",
       "    "
      ],
      "text/plain": [
       "<IPython.core.display.Javascript object>"
      ]
     },
     "metadata": {},
     "output_type": "display_data"
    },
    {
     "data": {
      "application/javascript": [
       "$('span:contains(\"# Temp\")').closest('.cell').remove();"
      ],
      "text/plain": [
       "<IPython.core.display.Javascript object>"
      ]
     },
     "metadata": {},
     "output_type": "display_data"
    },
    {
     "data": {
      "application/javascript": [
       "\n",
       "        $('span:contains(\"# Temp\")').closest('.cell').remove();\n",
       "        var code = IPython.notebook.insert_cell_below('code');\n",
       "        var prompt = code.element.find(\".input_prompt\");\n",
       "        prompt.append('<br><button style=\"height: 100%; width: 54px;\">Run</button>');\n",
       "        prompt.on(\"click\", \"button\", function(){\n",
       "            code.execute();\n",
       "        });\n",
       "        code.set_text(decodeURIComponent(window.atob(\"JTIzJTIwVGVtcCUwQWluc2VydCUyOCUyNyUyNyUyNyUyNyUyNyUyNyUyOSUzQg==\")));\n",
       "    "
      ],
      "text/plain": [
       "<IPython.core.display.Javascript object>"
      ]
     },
     "metadata": {},
     "output_type": "display_data"
    },
    {
     "data": {
      "application/javascript": [
       "$('span:contains(\"# Temp\")').closest('.cell').remove();"
      ],
      "text/plain": [
       "<IPython.core.display.Javascript object>"
      ]
     },
     "metadata": {},
     "output_type": "display_data"
    },
    {
     "data": {
      "application/javascript": [
       "\n",
       "        $('span:contains(\"# Temp\")').closest('.cell').remove();\n",
       "        var code = IPython.notebook.insert_cell_below('code');\n",
       "        var prompt = code.element.find(\".input_prompt\");\n",
       "        prompt.append('<br><button style=\"height: 100%; width: 54px;\">Run</button>');\n",
       "        prompt.on(\"click\", \"button\", function(){\n",
       "            code.execute();\n",
       "        });\n",
       "        code.set_text(decodeURIComponent(window.atob(\"JTIzJTIwVGVtcCUwQWluc2VydCUyOCUyNyUyNyUyNyUyNyUyNyUyNyUyOSUzQg==\")));\n",
       "    "
      ],
      "text/plain": [
       "<IPython.core.display.Javascript object>"
      ]
     },
     "metadata": {},
     "output_type": "display_data"
    },
    {
     "data": {
      "application/javascript": [
       "$('span:contains(\"# Temp\")').closest('.cell').remove();"
      ],
      "text/plain": [
       "<IPython.core.display.Javascript object>"
      ]
     },
     "metadata": {},
     "output_type": "display_data"
    },
    {
     "data": {
      "application/javascript": [
       "\n",
       "        $('span:contains(\"# Temp\")').closest('.cell').remove();\n",
       "        var code = IPython.notebook.insert_cell_below('code');\n",
       "        var prompt = code.element.find(\".input_prompt\");\n",
       "        prompt.append('<br><button style=\"height: 100%; width: 54px;\">Run</button>');\n",
       "        prompt.on(\"click\", \"button\", function(){\n",
       "            code.execute();\n",
       "        });\n",
       "        code.set_text(decodeURIComponent(window.atob(\"JTIzJTIwVGVtcCUwQWluc2VydCUyOCUyNyUyNyUyNyUyNyUyNyUyNyUyOSUzQg==\")));\n",
       "    "
      ],
      "text/plain": [
       "<IPython.core.display.Javascript object>"
      ]
     },
     "metadata": {},
     "output_type": "display_data"
    },
    {
     "data": {
      "application/javascript": [
       "$('span:contains(\"# Temp\")').closest('.cell').remove();"
      ],
      "text/plain": [
       "<IPython.core.display.Javascript object>"
      ]
     },
     "metadata": {},
     "output_type": "display_data"
    },
    {
     "data": {
      "application/javascript": [
       "\n",
       "        $('span:contains(\"# Temp\")').closest('.cell').remove();\n",
       "        var code = IPython.notebook.insert_cell_below('code');\n",
       "        var prompt = code.element.find(\".input_prompt\");\n",
       "        prompt.append('<br><button style=\"height: 100%; width: 54px;\">Run</button>');\n",
       "        prompt.on(\"click\", \"button\", function(){\n",
       "            code.execute();\n",
       "        });\n",
       "        code.set_text(decodeURIComponent(window.atob(\"JTIzJTIwVGVtcCUwQWluc2VydCUyOCUyNyUyNyUyNyUyNyUyNyUyNyUyOSUzQg==\")));\n",
       "    "
      ],
      "text/plain": [
       "<IPython.core.display.Javascript object>"
      ]
     },
     "metadata": {},
     "output_type": "display_data"
    },
    {
     "data": {
      "application/javascript": [
       "$('span:contains(\"# Temp\")').closest('.cell').remove();"
      ],
      "text/plain": [
       "<IPython.core.display.Javascript object>"
      ]
     },
     "metadata": {},
     "output_type": "display_data"
    },
    {
     "data": {
      "application/javascript": [
       "\n",
       "        $('span:contains(\"# Temp\")').closest('.cell').remove();\n",
       "        var code = IPython.notebook.insert_cell_below('code');\n",
       "        var prompt = code.element.find(\".input_prompt\");\n",
       "        prompt.append('<br><button style=\"height: 100%; width: 54px;\">Run</button>');\n",
       "        prompt.on(\"click\", \"button\", function(){\n",
       "            code.execute();\n",
       "        });\n",
       "        code.set_text(decodeURIComponent(window.atob(\"JTIzJTIwVGVtcCUwQWluc2VydCUyOCUyNyUyNyUyNyUwQWF5YWxldzIwMTRiJTIwJTNEJTIwREIlMjhXb3JrVW5yZWxhdGVkJTI4JTBBJTIwJTIwJTIwJTIwMjAxNCUyQyUyMCUyMlNvZnR3YXJlJTIwcHJvY2VzcyUyMHByYWN0aWNlcyUyMGluJTIwc21hbGwlMjBzb2Z0d2FyZSUyMGNvbXBhbmllcyUyMGluJTIwYm90c3dhbmElMjIlMkMlMEElMjAlMjAlMjAlMjBkaXNwbGF5JTNEJTIyYXlhbGV3JTIwYiUyMiUyQyUwQSUyMCUyMCUyMCUyMGF1dGhvcnMlM0QlMjJBeWFsZXclMkMlMjBZLiUyMGFuZCUyME1vdGxoYWxhJTJDJTIwSy4lMjIlMkMlMEElMjAlMjAlMjAlMjBwbGFjZSUzREZBS0UlMkMlMEElMjAlMjAlMjAlMjBwcCUzRCUyMjQ5LTU3JTIyJTJDJTBBJTIwJTIwJTIwJTIwZW50cnl0eXBlJTNEJTIyY29uZmVyZW5jZSUyMiUyQyUwQSUyMCUyMCUyMCUyMGFydF9udW1iZXIlM0QlMjI2OTc2NjYyJTIyJTJDJTBBJTIwJTIwJTIwJTIwbGluayUzRCUyMmh0dHBzJTNBLy93d3cuc2NvcHVzLmNvbS9pbndhcmQvcmVjb3JkLnVyaSUzRmVpZCUzRDItczIuMC04NDkxOTgyODEwMyUyNmRvaSUzRDEwLjExMDklMjUyZklDQ1NBLjIwMTQuMjAlMjZwYXJ0bmVySUQlM0Q0MCUyNm1kNSUzRGE1MTQ4ZmVhYmQyYzM4NTY2YWUzYzc1YTg0OGJhYjc4JTIyJTJDJTBBJTIwJTIwJTIwJTIwSUQlM0QlMjJBeWFsZXcyMDE0NDklMjIlMkMlMEElMjAlMjAlMjAlMjBzY29wdXMyMDE2JTNEJTIyMSUyMiUyQyUwQSUyMCUyMCUyMCUyMHBsYWNleCUzRCUyMlByb2NlZWRpbmdzJTIwLSUyMDE0dGglMjBJbnRlcm5hdGlvbmFsJTIwQ29uZmVyZW5jZSUyMG9uJTIwQ29tcHV0YXRpb25hbCUyMFNjaWVuY2UlMjBhbmQlMjBJdHMlMjBBcHBsaWNhdGlvbnMlMkMlMjBJQ0NTQSUyMDIwMTQlMjIlMkMlMEElMjklMjklMEElMjclMjclMjclMjklM0I=\")));\n",
       "    "
      ],
      "text/plain": [
       "<IPython.core.display.Javascript object>"
      ]
     },
     "metadata": {},
     "output_type": "display_data"
    },
    {
     "data": {
      "application/javascript": [
       "$('span:contains(\"# Temp\")').closest('.cell').remove();"
      ],
      "text/plain": [
       "<IPython.core.display.Javascript object>"
      ]
     },
     "metadata": {},
     "output_type": "display_data"
    },
    {
     "data": {
      "application/javascript": [
       "\n",
       "        $('span:contains(\"# Temp\")').closest('.cell').remove();\n",
       "        var code = IPython.notebook.insert_cell_below('code');\n",
       "        var prompt = code.element.find(\".input_prompt\");\n",
       "        prompt.append('<br><button style=\"height: 100%; width: 54px;\">Run</button>');\n",
       "        prompt.on(\"click\", \"button\", function(){\n",
       "            code.execute();\n",
       "        });\n",
       "        code.set_text(decodeURIComponent(window.atob(\"JTIzJTIwVGVtcCUwQWluc2VydCUyOCUyNyUyNyUyNyUwQWF5YWxldzIwMTRiJTIwJTNEJTIwREIlMjhXb3JrVW5yZWxhdGVkJTI4JTBBJTIwJTIwJTIwJTIwMjAxNCUyQyUyMCUyMlNvZnR3YXJlJTIwcHJvY2VzcyUyMHByYWN0aWNlcyUyMGluJTIwc21hbGwlMjBzb2Z0d2FyZSUyMGNvbXBhbmllcyUyMGluJTIwYm90c3dhbmElMjIlMkMlMEElMjAlMjAlMjAlMjBkaXNwbGF5JTNEJTIyYXlhbGV3JTIwYiUyMiUyQyUwQSUyMCUyMCUyMCUyMGF1dGhvcnMlM0QlMjJBeWFsZXclMkMlMjBZLiUyMGFuZCUyME1vdGxoYWxhJTJDJTIwSy4lMjIlMkMlMEElMjAlMjAlMjAlMjBwbGFjZSUzREZBS0UlMkMlMEElMjAlMjAlMjAlMjBwcCUzRCUyMjQ5LTU3JTIyJTJDJTBBJTIwJTIwJTIwJTIwZW50cnl0eXBlJTNEJTIyY29uZmVyZW5jZSUyMiUyQyUwQSUyMCUyMCUyMCUyMGFydF9udW1iZXIlM0QlMjI2OTc2NjYyJTIyJTJDJTBBJTIwJTIwJTIwJTIwbGluayUzRCUyMmh0dHBzJTNBLy93d3cuc2NvcHVzLmNvbS9pbndhcmQvcmVjb3JkLnVyaSUzRmVpZCUzRDItczIuMC04NDkxOTgyODEwMyUyNmRvaSUzRDEwLjExMDklMjUyZklDQ1NBLjIwMTQuMjAlMjZwYXJ0bmVySUQlM0Q0MCUyNm1kNSUzRGE1MTQ4ZmVhYmQyYzM4NTY2YWUzYzc1YTg0OGJhYjc4JTIyJTJDJTBBJTIwJTIwJTIwJTIwSUQlM0QlMjJBeWFsZXcyMDE0NDklMjIlMkMlMEElMjAlMjAlMjAlMjBzY29wdXMyMDE2JTNEJTIyMSUyMiUyQyUwQSUyMCUyMCUyMCUyMHBsYWNleCUzRCUyMlByb2NlZWRpbmdzJTIwLSUyMDE0dGglMjBJbnRlcm5hdGlvbmFsJTIwQ29uZmVyZW5jZSUyMG9uJTIwQ29tcHV0YXRpb25hbCUyMFNjaWVuY2UlMjBhbmQlMjBJdHMlMjBBcHBsaWNhdGlvbnMlMkMlMjBJQ0NTQSUyMDIwMTQlMjIlMkMlMEElMjklMjklMEElMjclMjclMjclMjklM0I=\")));\n",
       "    "
      ],
      "text/plain": [
       "<IPython.core.display.Javascript object>"
      ]
     },
     "metadata": {},
     "output_type": "display_data"
    },
    {
     "data": {
      "application/javascript": [
       "$('span:contains(\"# Temp\")').closest('.cell').remove();"
      ],
      "text/plain": [
       "<IPython.core.display.Javascript object>"
      ]
     },
     "metadata": {},
     "output_type": "display_data"
    },
    {
     "data": {
      "application/javascript": [
       "\n",
       "        $('span:contains(\"# Temp\")').closest('.cell').remove();\n",
       "        var code = IPython.notebook.insert_cell_below('code');\n",
       "        var prompt = code.element.find(\".input_prompt\");\n",
       "        prompt.append('<br><button style=\"height: 100%; width: 54px;\">Run</button>');\n",
       "        prompt.on(\"click\", \"button\", function(){\n",
       "            code.execute();\n",
       "        });\n",
       "        code.set_text(decodeURIComponent(window.atob(\"JTIzJTIwVGVtcCUwQWluc2VydCUyOCUyNyUyNyUyNyUyNyUyNyUyNyUyOSUzQg==\")));\n",
       "    "
      ],
      "text/plain": [
       "<IPython.core.display.Javascript object>"
      ]
     },
     "metadata": {},
     "output_type": "display_data"
    },
    {
     "data": {
      "application/javascript": [
       "$('span:contains(\"# Temp\")').closest('.cell').remove();"
      ],
      "text/plain": [
       "<IPython.core.display.Javascript object>"
      ]
     },
     "metadata": {},
     "output_type": "display_data"
    },
    {
     "data": {
      "application/javascript": [
       "\n",
       "        $('span:contains(\"# Temp\")').closest('.cell').remove();\n",
       "        var code = IPython.notebook.insert_cell_below('code');\n",
       "        var prompt = code.element.find(\".input_prompt\");\n",
       "        prompt.append('<br><button style=\"height: 100%; width: 54px;\">Run</button>');\n",
       "        prompt.on(\"click\", \"button\", function(){\n",
       "            code.execute();\n",
       "        });\n",
       "        code.set_text(decodeURIComponent(window.atob(\"JTIzJTIwVGVtcCUwQWluc2VydCUyOCUyNyUyNyUyNyUyNyUyNyUyNyUyOSUzQg==\")));\n",
       "    "
      ],
      "text/plain": [
       "<IPython.core.display.Javascript object>"
      ]
     },
     "metadata": {},
     "output_type": "display_data"
    },
    {
     "data": {
      "application/javascript": [
       "$('span:contains(\"# Temp\")').closest('.cell').remove();"
      ],
      "text/plain": [
       "<IPython.core.display.Javascript object>"
      ]
     },
     "metadata": {},
     "output_type": "display_data"
    },
    {
     "data": {
      "application/javascript": [
       "\n",
       "        $('span:contains(\"# Temp\")').closest('.cell').remove();\n",
       "        var code = IPython.notebook.insert_cell_below('code');\n",
       "        var prompt = code.element.find(\".input_prompt\");\n",
       "        prompt.append('<br><button style=\"height: 100%; width: 54px;\">Run</button>');\n",
       "        prompt.on(\"click\", \"button\", function(){\n",
       "            code.execute();\n",
       "        });\n",
       "        code.set_text(decodeURIComponent(window.atob(\"JTIzJTIwVGVtcCUwQWluc2VydCUyOCUyNyUyNyUyNyUyNyUyNyUyNyUyOSUzQg==\")));\n",
       "    "
      ],
      "text/plain": [
       "<IPython.core.display.Javascript object>"
      ]
     },
     "metadata": {},
     "output_type": "display_data"
    },
    {
     "data": {
      "application/javascript": [
       "$('span:contains(\"# Temp\")').closest('.cell').remove();"
      ],
      "text/plain": [
       "<IPython.core.display.Javascript object>"
      ]
     },
     "metadata": {},
     "output_type": "display_data"
    },
    {
     "data": {
      "application/javascript": [
       "\n",
       "        $('span:contains(\"# Temp\")').closest('.cell').remove();\n",
       "        var code = IPython.notebook.insert_cell_below('code');\n",
       "        var prompt = code.element.find(\".input_prompt\");\n",
       "        prompt.append('<br><button style=\"height: 100%; width: 54px;\">Run</button>');\n",
       "        prompt.on(\"click\", \"button\", function(){\n",
       "            code.execute();\n",
       "        });\n",
       "        code.set_text(decodeURIComponent(window.atob(\"JTIzJTIwVGVtcCUwQWluc2VydCUyOCUyNyUyNyUyNyUyNyUyNyUyNyUyOSUzQg==\")));\n",
       "    "
      ],
      "text/plain": [
       "<IPython.core.display.Javascript object>"
      ]
     },
     "metadata": {},
     "output_type": "display_data"
    },
    {
     "data": {
      "application/javascript": [
       "$('span:contains(\"# Temp\")').closest('.cell').remove();"
      ],
      "text/plain": [
       "<IPython.core.display.Javascript object>"
      ]
     },
     "metadata": {},
     "output_type": "display_data"
    },
    {
     "data": {
      "application/javascript": [
       "\n",
       "        $('span:contains(\"# Temp\")').closest('.cell').remove();\n",
       "        var code = IPython.notebook.insert_cell_below('code');\n",
       "        var prompt = code.element.find(\".input_prompt\");\n",
       "        prompt.append('<br><button style=\"height: 100%; width: 54px;\">Run</button>');\n",
       "        prompt.on(\"click\", \"button\", function(){\n",
       "            code.execute();\n",
       "        });\n",
       "        code.set_text(decodeURIComponent(window.atob(\"JTIzJTIwVGVtcCUwQWluc2VydCUyOCUyNyUyNyUyNyUyNyUyNyUyNyUyOSUzQg==\")));\n",
       "    "
      ],
      "text/plain": [
       "<IPython.core.display.Javascript object>"
      ]
     },
     "metadata": {},
     "output_type": "display_data"
    },
    {
     "data": {
      "application/javascript": [
       "$('span:contains(\"# Temp\")').closest('.cell').remove();"
      ],
      "text/plain": [
       "<IPython.core.display.Javascript object>"
      ]
     },
     "metadata": {},
     "output_type": "display_data"
    },
    {
     "data": {
      "application/javascript": [
       "\n",
       "        $('span:contains(\"# Temp\")').closest('.cell').remove();\n",
       "        var code = IPython.notebook.insert_cell_below('code');\n",
       "        var prompt = code.element.find(\".input_prompt\");\n",
       "        prompt.append('<br><button style=\"height: 100%; width: 54px;\">Run</button>');\n",
       "        prompt.on(\"click\", \"button\", function(){\n",
       "            code.execute();\n",
       "        });\n",
       "        code.set_text(decodeURIComponent(window.atob(\"JTIzJTIwVGVtcCUwQWluc2VydCUyOCUyNyUyNyUyNyUyNyUyNyUyNyUyOSUzQg==\")));\n",
       "    "
      ],
      "text/plain": [
       "<IPython.core.display.Javascript object>"
      ]
     },
     "metadata": {},
     "output_type": "display_data"
    },
    {
     "data": {
      "application/javascript": [
       "$('span:contains(\"# Temp\")').closest('.cell').remove();"
      ],
      "text/plain": [
       "<IPython.core.display.Javascript object>"
      ]
     },
     "metadata": {},
     "output_type": "display_data"
    },
    {
     "data": {
      "application/javascript": [
       "\n",
       "        $('span:contains(\"# Temp\")').closest('.cell').remove();\n",
       "        var code = IPython.notebook.insert_cell_below('code');\n",
       "        var prompt = code.element.find(\".input_prompt\");\n",
       "        prompt.append('<br><button style=\"height: 100%; width: 54px;\">Run</button>');\n",
       "        prompt.on(\"click\", \"button\", function(){\n",
       "            code.execute();\n",
       "        });\n",
       "        code.set_text(decodeURIComponent(window.atob(\"JTIzJTIwVGVtcCUwQWluc2VydCUyOCUyNyUyNyUyNyUyNyUyNyUyNyUyOSUzQg==\")));\n",
       "    "
      ],
      "text/plain": [
       "<IPython.core.display.Javascript object>"
      ]
     },
     "metadata": {},
     "output_type": "display_data"
    },
    {
     "data": {
      "application/javascript": [
       "$('span:contains(\"# Temp\")').closest('.cell').remove();"
      ],
      "text/plain": [
       "<IPython.core.display.Javascript object>"
      ]
     },
     "metadata": {},
     "output_type": "display_data"
    },
    {
     "data": {
      "application/javascript": [
       "\n",
       "        $('span:contains(\"# Temp\")').closest('.cell').remove();\n",
       "        var code = IPython.notebook.insert_cell_below('code');\n",
       "        var prompt = code.element.find(\".input_prompt\");\n",
       "        prompt.append('<br><button style=\"height: 100%; width: 54px;\">Run</button>');\n",
       "        prompt.on(\"click\", \"button\", function(){\n",
       "            code.execute();\n",
       "        });\n",
       "        code.set_text(decodeURIComponent(window.atob(\"JTIzJTIwVGVtcCUwQWluc2VydCUyOCUyNyUyNyUyNyUyNyUyNyUyNyUyOSUzQg==\")));\n",
       "    "
      ],
      "text/plain": [
       "<IPython.core.display.Javascript object>"
      ]
     },
     "metadata": {},
     "output_type": "display_data"
    },
    {
     "data": {
      "application/javascript": [
       "$('span:contains(\"# Temp\")').closest('.cell').remove();"
      ],
      "text/plain": [
       "<IPython.core.display.Javascript object>"
      ]
     },
     "metadata": {},
     "output_type": "display_data"
    },
    {
     "data": {
      "application/javascript": [
       "\n",
       "        $('span:contains(\"# Temp\")').closest('.cell').remove();\n",
       "        var code = IPython.notebook.insert_cell_below('code');\n",
       "        var prompt = code.element.find(\".input_prompt\");\n",
       "        prompt.append('<br><button style=\"height: 100%; width: 54px;\">Run</button>');\n",
       "        prompt.on(\"click\", \"button\", function(){\n",
       "            code.execute();\n",
       "        });\n",
       "        code.set_text(decodeURIComponent(window.atob(\"JTIzJTIwVGVtcCUwQWluc2VydCUyOCUyNyUyNyUyNyUyNyUyNyUyNyUyOSUzQg==\")));\n",
       "    "
      ],
      "text/plain": [
       "<IPython.core.display.Javascript object>"
      ]
     },
     "metadata": {},
     "output_type": "display_data"
    },
    {
     "data": {
      "application/javascript": [
       "$('span:contains(\"# Temp\")').closest('.cell').remove();"
      ],
      "text/plain": [
       "<IPython.core.display.Javascript object>"
      ]
     },
     "metadata": {},
     "output_type": "display_data"
    },
    {
     "data": {
      "application/javascript": [
       "\n",
       "        $('span:contains(\"# Temp\")').closest('.cell').remove();\n",
       "        var code = IPython.notebook.insert_cell_below('code');\n",
       "        var prompt = code.element.find(\".input_prompt\");\n",
       "        prompt.append('<br><button style=\"height: 100%; width: 54px;\">Run</button>');\n",
       "        prompt.on(\"click\", \"button\", function(){\n",
       "            code.execute();\n",
       "        });\n",
       "        code.set_text(decodeURIComponent(window.atob(\"JTIzJTIwVGVtcCUwQWluc2VydCUyOCUyNyUyNyUyNyUyNyUyNyUyNyUyOSUzQg==\")));\n",
       "    "
      ],
      "text/plain": [
       "<IPython.core.display.Javascript object>"
      ]
     },
     "metadata": {},
     "output_type": "display_data"
    },
    {
     "data": {
      "application/javascript": [
       "$('span:contains(\"# Temp\")').closest('.cell').remove();"
      ],
      "text/plain": [
       "<IPython.core.display.Javascript object>"
      ]
     },
     "metadata": {},
     "output_type": "display_data"
    },
    {
     "data": {
      "application/javascript": [
       "\n",
       "        $('span:contains(\"# Temp\")').closest('.cell').remove();\n",
       "        var code = IPython.notebook.insert_cell_below('code');\n",
       "        var prompt = code.element.find(\".input_prompt\");\n",
       "        prompt.append('<br><button style=\"height: 100%; width: 54px;\">Run</button>');\n",
       "        prompt.on(\"click\", \"button\", function(){\n",
       "            code.execute();\n",
       "        });\n",
       "        code.set_text(decodeURIComponent(window.atob(\"JTIzJTIwVGVtcCUwQWluc2VydCUyOCUyNyUyNyUyNyUyNyUyNyUyNyUyOSUzQg==\")));\n",
       "    "
      ],
      "text/plain": [
       "<IPython.core.display.Javascript object>"
      ]
     },
     "metadata": {},
     "output_type": "display_data"
    },
    {
     "data": {
      "application/javascript": [
       "$('span:contains(\"# Temp\")').closest('.cell').remove();"
      ],
      "text/plain": [
       "<IPython.core.display.Javascript object>"
      ]
     },
     "metadata": {},
     "output_type": "display_data"
    },
    {
     "data": {
      "application/javascript": [
       "\n",
       "        $('span:contains(\"# Temp\")').closest('.cell').remove();\n",
       "        var code = IPython.notebook.insert_cell_below('code');\n",
       "        var prompt = code.element.find(\".input_prompt\");\n",
       "        prompt.append('<br><button style=\"height: 100%; width: 54px;\">Run</button>');\n",
       "        prompt.on(\"click\", \"button\", function(){\n",
       "            code.execute();\n",
       "        });\n",
       "        code.set_text(decodeURIComponent(window.atob(\"JTIzJTIwVGVtcCUwQWluc2VydCUyOCUyNyUyNyUyNyUyNyUyNyUyNyUyOSUzQg==\")));\n",
       "    "
      ],
      "text/plain": [
       "<IPython.core.display.Javascript object>"
      ]
     },
     "metadata": {},
     "output_type": "display_data"
    },
    {
     "data": {
      "application/javascript": [
       "$('span:contains(\"# Temp\")').closest('.cell').remove();"
      ],
      "text/plain": [
       "<IPython.core.display.Javascript object>"
      ]
     },
     "metadata": {},
     "output_type": "display_data"
    },
    {
     "data": {
      "application/javascript": [
       "\n",
       "        $('span:contains(\"# Temp\")').closest('.cell').remove();\n",
       "        var code = IPython.notebook.insert_cell_below('code');\n",
       "        var prompt = code.element.find(\".input_prompt\");\n",
       "        prompt.append('<br><button style=\"height: 100%; width: 54px;\">Run</button>');\n",
       "        prompt.on(\"click\", \"button\", function(){\n",
       "            code.execute();\n",
       "        });\n",
       "        code.set_text(decodeURIComponent(window.atob(\"JTIzJTIwVGVtcCUwQWluc2VydCUyOCUyNyUyNyUyNyUyNyUyNyUyNyUyOSUzQg==\")));\n",
       "    "
      ],
      "text/plain": [
       "<IPython.core.display.Javascript object>"
      ]
     },
     "metadata": {},
     "output_type": "display_data"
    },
    {
     "data": {
      "application/javascript": [
       "$('span:contains(\"# Temp\")').closest('.cell').remove();"
      ],
      "text/plain": [
       "<IPython.core.display.Javascript object>"
      ]
     },
     "metadata": {},
     "output_type": "display_data"
    },
    {
     "data": {
      "application/javascript": [
       "\n",
       "        $('span:contains(\"# Temp\")').closest('.cell').remove();\n",
       "        var code = IPython.notebook.insert_cell_below('code');\n",
       "        var prompt = code.element.find(\".input_prompt\");\n",
       "        prompt.append('<br><button style=\"height: 100%; width: 54px;\">Run</button>');\n",
       "        prompt.on(\"click\", \"button\", function(){\n",
       "            code.execute();\n",
       "        });\n",
       "        code.set_text(decodeURIComponent(window.atob(\"JTIzJTIwVGVtcCUwQWluc2VydCUyOCUyNyUyNyUyNyUyNyUyNyUyNyUyOSUzQg==\")));\n",
       "    "
      ],
      "text/plain": [
       "<IPython.core.display.Javascript object>"
      ]
     },
     "metadata": {},
     "output_type": "display_data"
    },
    {
     "data": {
      "application/javascript": [
       "$('span:contains(\"# Temp\")').closest('.cell').remove();"
      ],
      "text/plain": [
       "<IPython.core.display.Javascript object>"
      ]
     },
     "metadata": {},
     "output_type": "display_data"
    },
    {
     "data": {
      "application/javascript": [
       "\n",
       "        $('span:contains(\"# Temp\")').closest('.cell').remove();\n",
       "        var code = IPython.notebook.insert_cell_below('code');\n",
       "        var prompt = code.element.find(\".input_prompt\");\n",
       "        prompt.append('<br><button style=\"height: 100%; width: 54px;\">Run</button>');\n",
       "        prompt.on(\"click\", \"button\", function(){\n",
       "            code.execute();\n",
       "        });\n",
       "        code.set_text(decodeURIComponent(window.atob(\"JTIzJTIwVGVtcCUwQWluc2VydCUyOCUyNyUyNyUyNyUyNyUyNyUyNyUyOSUzQg==\")));\n",
       "    "
      ],
      "text/plain": [
       "<IPython.core.display.Javascript object>"
      ]
     },
     "metadata": {},
     "output_type": "display_data"
    },
    {
     "data": {
      "application/javascript": [
       "$('span:contains(\"# Temp\")').closest('.cell').remove();"
      ],
      "text/plain": [
       "<IPython.core.display.Javascript object>"
      ]
     },
     "metadata": {},
     "output_type": "display_data"
    },
    {
     "data": {
      "application/javascript": [
       "\n",
       "        $('span:contains(\"# Temp\")').closest('.cell').remove();\n",
       "        var code = IPython.notebook.insert_cell_below('code');\n",
       "        var prompt = code.element.find(\".input_prompt\");\n",
       "        prompt.append('<br><button style=\"height: 100%; width: 54px;\">Run</button>');\n",
       "        prompt.on(\"click\", \"button\", function(){\n",
       "            code.execute();\n",
       "        });\n",
       "        code.set_text(decodeURIComponent(window.atob(\"JTIzJTIwVGVtcCUwQWluc2VydCUyOCUyNyUyNyUyNyUyNyUyNyUyNyUyOSUzQg==\")));\n",
       "    "
      ],
      "text/plain": [
       "<IPython.core.display.Javascript object>"
      ]
     },
     "metadata": {},
     "output_type": "display_data"
    },
    {
     "data": {
      "application/javascript": [
       "$('span:contains(\"# Temp\")').closest('.cell').remove();"
      ],
      "text/plain": [
       "<IPython.core.display.Javascript object>"
      ]
     },
     "metadata": {},
     "output_type": "display_data"
    },
    {
     "data": {
      "application/javascript": [
       "\n",
       "        $('span:contains(\"# Temp\")').closest('.cell').remove();\n",
       "        var code = IPython.notebook.insert_cell_below('code');\n",
       "        var prompt = code.element.find(\".input_prompt\");\n",
       "        prompt.append('<br><button style=\"height: 100%; width: 54px;\">Run</button>');\n",
       "        prompt.on(\"click\", \"button\", function(){\n",
       "            code.execute();\n",
       "        });\n",
       "        code.set_text(decodeURIComponent(window.atob(\"JTIzJTIwVGVtcCUwQWluc2VydCUyOCUyNyUyNyUyNyUyNyUyNyUyNyUyOSUzQg==\")));\n",
       "    "
      ],
      "text/plain": [
       "<IPython.core.display.Javascript object>"
      ]
     },
     "metadata": {},
     "output_type": "display_data"
    },
    {
     "data": {
      "application/javascript": [
       "$('span:contains(\"# Temp\")').closest('.cell').remove();"
      ],
      "text/plain": [
       "<IPython.core.display.Javascript object>"
      ]
     },
     "metadata": {},
     "output_type": "display_data"
    },
    {
     "data": {
      "application/javascript": [
       "\n",
       "        $('span:contains(\"# Temp\")').closest('.cell').remove();\n",
       "        var code = IPython.notebook.insert_cell_below('code');\n",
       "        var prompt = code.element.find(\".input_prompt\");\n",
       "        prompt.append('<br><button style=\"height: 100%; width: 54px;\">Run</button>');\n",
       "        prompt.on(\"click\", \"button\", function(){\n",
       "            code.execute();\n",
       "        });\n",
       "        code.set_text(decodeURIComponent(window.atob(\"JTIzJTIwVGVtcCUwQWluc2VydCUyOCUyNyUyNyUyNyUyNyUyNyUyNyUyOSUzQg==\")));\n",
       "    "
      ],
      "text/plain": [
       "<IPython.core.display.Javascript object>"
      ]
     },
     "metadata": {},
     "output_type": "display_data"
    },
    {
     "data": {
      "application/javascript": [
       "$('span:contains(\"# Temp\")').closest('.cell').remove();"
      ],
      "text/plain": [
       "<IPython.core.display.Javascript object>"
      ]
     },
     "metadata": {},
     "output_type": "display_data"
    },
    {
     "data": {
      "application/javascript": [
       "\n",
       "        $('span:contains(\"# Temp\")').closest('.cell').remove();\n",
       "        var code = IPython.notebook.insert_cell_below('code');\n",
       "        var prompt = code.element.find(\".input_prompt\");\n",
       "        prompt.append('<br><button style=\"height: 100%; width: 54px;\">Run</button>');\n",
       "        prompt.on(\"click\", \"button\", function(){\n",
       "            code.execute();\n",
       "        });\n",
       "        code.set_text(decodeURIComponent(window.atob(\"JTIzJTIwVGVtcCUwQWluc2VydCUyOCUyNyUyNyUyNyUyNyUyNyUyNyUyOSUzQg==\")));\n",
       "    "
      ],
      "text/plain": [
       "<IPython.core.display.Javascript object>"
      ]
     },
     "metadata": {},
     "output_type": "display_data"
    },
    {
     "data": {
      "application/javascript": [
       "$('span:contains(\"# Temp\")').closest('.cell').remove();"
      ],
      "text/plain": [
       "<IPython.core.display.Javascript object>"
      ]
     },
     "metadata": {},
     "output_type": "display_data"
    },
    {
     "data": {
      "application/javascript": [
       "\n",
       "        $('span:contains(\"# Temp\")').closest('.cell').remove();\n",
       "        var code = IPython.notebook.insert_cell_below('code');\n",
       "        var prompt = code.element.find(\".input_prompt\");\n",
       "        prompt.append('<br><button style=\"height: 100%; width: 54px;\">Run</button>');\n",
       "        prompt.on(\"click\", \"button\", function(){\n",
       "            code.execute();\n",
       "        });\n",
       "        code.set_text(decodeURIComponent(window.atob(\"JTIzJTIwVGVtcCUwQWluc2VydCUyOCUyNyUyNyUyNyUyNyUyNyUyNyUyOSUzQg==\")));\n",
       "    "
      ],
      "text/plain": [
       "<IPython.core.display.Javascript object>"
      ]
     },
     "metadata": {},
     "output_type": "display_data"
    },
    {
     "data": {
      "application/javascript": [
       "$('span:contains(\"# Temp\")').closest('.cell').remove();"
      ],
      "text/plain": [
       "<IPython.core.display.Javascript object>"
      ]
     },
     "metadata": {},
     "output_type": "display_data"
    },
    {
     "data": {
      "application/javascript": [
       "\n",
       "        $('span:contains(\"# Temp\")').closest('.cell').remove();\n",
       "        var code = IPython.notebook.insert_cell_below('code');\n",
       "        var prompt = code.element.find(\".input_prompt\");\n",
       "        prompt.append('<br><button style=\"height: 100%; width: 54px;\">Run</button>');\n",
       "        prompt.on(\"click\", \"button\", function(){\n",
       "            code.execute();\n",
       "        });\n",
       "        code.set_text(decodeURIComponent(window.atob(\"JTIzJTIwVGVtcCUwQWluc2VydCUyOCUyNyUyNyUyNyUwQXNoYWgyMDE1YSUyMCUzRCUyMERCJTI4V29ya1VucmVsYXRlZCUyOCUwQSUyMCUyMCUyMCUyMDIwMTUlMkMlMjAlMjJMZWFuJTIwcXVhbGl0eSUyMGltcHJvdmVtZW50JTIwbW9kZWwlMjBmb3IlMjBxdWFsaXR5JTIwcHJhY3RpY2VzJTIwaW4lMjBzb2Z0d2FyZSUyMGluZHVzdHJ5JTIwaW4lMjBQYWtpc3RhbiUyMiUyQyUwQSUyMCUyMCUyMCUyMGRpc3BsYXklM0QlMjJzaGFoJTIyJTJDJTBBJTIwJTIwJTIwJTIwYXV0aG9ycyUzRCUyMlNoYWglMkMlMjBGLlQuJTIwYW5kJTIwU2hhbWFpbCUyQyUyMFMuJTIwYW5kJTIwQWhtYWQlMjBBa2h0YXIlMkMlMjBOLiUyMiUyQyUwQSUyMCUyMCUyMCUyMHBsYWNlJTNESlNFUCUyQyUwQSUyMCUyMCUyMCUyMHBwJTNEJTIyMjM3LTI1NCUyMiUyQyUwQSUyMCUyMCUyMCUyMGVudHJ5dHlwZSUzRCUyMmFydGljbGUlMjIlMkMlMEElMjAlMjAlMjAlMjB2b2x1bWUlM0QlMjIyNyUyMiUyQyUwQSUyMCUyMCUyMCUyMG51bWJlciUzRCUyMjQlMjIlMkMlMEElMjAlMjAlMjAlMjBsaW5rJTNEJTIyaHR0cHMlM0EvL3d3dy5zY29wdXMuY29tL2lud2FyZC9yZWNvcmQudXJpJTNGZWlkJTNEMi1zMi4wLTg0OTczNDM5ODM2JTI2ZG9pJTNEMTAuMTAwMiUyNTJmc21yLjE3MDklMjZwYXJ0bmVySUQlM0Q0MCUyNm1kNSUzRDExYmMyOTBkMDI0YzQ4MDM5ZmI0NzcyMmFmMDkzNjc5JTIyJTJDJTBBJTIwJTIwJTIwJTIwSUQlM0QlMjJTaGFoMjAxNTIzNyUyMiUyQyUwQSUyMCUyMCUyMCUyMHNjb3B1czIwMTYlM0QlMjIxJTIyJTJDJTBBJTIwJTIwJTIwJTIwcGxhY2V4JTNEJTIySm91cm5hbCUyMG9mJTIwU29mdHdhcmUlM0ElMjBFdm9sdXRpb24lMjBhbmQlMjBQcm9jZXNzJTIyJTJDJTBBJTI5JTI5JTBBJTI3JTI3JTI3JTI5JTNC\")));\n",
       "    "
      ],
      "text/plain": [
       "<IPython.core.display.Javascript object>"
      ]
     },
     "metadata": {},
     "output_type": "display_data"
    },
    {
     "data": {
      "application/javascript": [
       "$('span:contains(\"# Temp\")').closest('.cell').remove();"
      ],
      "text/plain": [
       "<IPython.core.display.Javascript object>"
      ]
     },
     "metadata": {},
     "output_type": "display_data"
    },
    {
     "data": {
      "application/javascript": [
       "\n",
       "        $('span:contains(\"# Temp\")').closest('.cell').remove();\n",
       "        var code = IPython.notebook.insert_cell_below('code');\n",
       "        var prompt = code.element.find(\".input_prompt\");\n",
       "        prompt.append('<br><button style=\"height: 100%; width: 54px;\">Run</button>');\n",
       "        prompt.on(\"click\", \"button\", function(){\n",
       "            code.execute();\n",
       "        });\n",
       "        code.set_text(decodeURIComponent(window.atob(\"JTIzJTIwVGVtcCUwQWluc2VydCUyOCUyNyUyNyUyNyUwQXNoYWgyMDE1YSUyMCUzRCUyMERCJTI4V29ya1VucmVsYXRlZCUyOCUwQSUyMCUyMCUyMCUyMDIwMTUlMkMlMjAlMjJMZWFuJTIwcXVhbGl0eSUyMGltcHJvdmVtZW50JTIwbW9kZWwlMjBmb3IlMjBxdWFsaXR5JTIwcHJhY3RpY2VzJTIwaW4lMjBzb2Z0d2FyZSUyMGluZHVzdHJ5JTIwaW4lMjBQYWtpc3RhbiUyMiUyQyUwQSUyMCUyMCUyMCUyMGRpc3BsYXklM0QlMjJzaGFoJTIyJTJDJTBBJTIwJTIwJTIwJTIwYXV0aG9ycyUzRCUyMlNoYWglMkMlMjBGLlQuJTIwYW5kJTIwU2hhbWFpbCUyQyUyMFMuJTIwYW5kJTIwQWhtYWQlMjBBa2h0YXIlMkMlMjBOLiUyMiUyQyUwQSUyMCUyMCUyMCUyMHBsYWNlJTNESlNFUCUyQyUwQSUyMCUyMCUyMCUyMHBwJTNEJTIyMjM3LTI1NCUyMiUyQyUwQSUyMCUyMCUyMCUyMGVudHJ5dHlwZSUzRCUyMmFydGljbGUlMjIlMkMlMEElMjAlMjAlMjAlMjB2b2x1bWUlM0QlMjIyNyUyMiUyQyUwQSUyMCUyMCUyMCUyMG51bWJlciUzRCUyMjQlMjIlMkMlMEElMjAlMjAlMjAlMjBsaW5rJTNEJTIyaHR0cHMlM0EvL3d3dy5zY29wdXMuY29tL2lud2FyZC9yZWNvcmQudXJpJTNGZWlkJTNEMi1zMi4wLTg0OTczNDM5ODM2JTI2ZG9pJTNEMTAuMTAwMiUyNTJmc21yLjE3MDklMjZwYXJ0bmVySUQlM0Q0MCUyNm1kNSUzRDExYmMyOTBkMDI0YzQ4MDM5ZmI0NzcyMmFmMDkzNjc5JTIyJTJDJTBBJTIwJTIwJTIwJTIwSUQlM0QlMjJTaGFoMjAxNTIzNyUyMiUyQyUwQSUyMCUyMCUyMCUyMHNjb3B1czIwMTYlM0QlMjIxJTIyJTJDJTBBJTIwJTIwJTIwJTIwcGxhY2V4JTNEJTIySm91cm5hbCUyMG9mJTIwU29mdHdhcmUlM0ElMjBFdm9sdXRpb24lMjBhbmQlMjBQcm9jZXNzJTIyJTJDJTBBJTI5JTI5JTBBJTI3JTI3JTI3JTI5JTNC\")));\n",
       "    "
      ],
      "text/plain": [
       "<IPython.core.display.Javascript object>"
      ]
     },
     "metadata": {},
     "output_type": "display_data"
    },
    {
     "data": {
      "application/javascript": [
       "$('span:contains(\"# Temp\")').closest('.cell').remove();"
      ],
      "text/plain": [
       "<IPython.core.display.Javascript object>"
      ]
     },
     "metadata": {},
     "output_type": "display_data"
    },
    {
     "data": {
      "application/javascript": [
       "\n",
       "        $('span:contains(\"# Temp\")').closest('.cell').remove();\n",
       "        var code = IPython.notebook.insert_cell_below('code');\n",
       "        var prompt = code.element.find(\".input_prompt\");\n",
       "        prompt.append('<br><button style=\"height: 100%; width: 54px;\">Run</button>');\n",
       "        prompt.on(\"click\", \"button\", function(){\n",
       "            code.execute();\n",
       "        });\n",
       "        code.set_text(decodeURIComponent(window.atob(\"JTIzJTIwVGVtcCUwQWluc2VydCUyOCUyNyUyNyUyNyUyNyUyNyUyNyUyOSUzQg==\")));\n",
       "    "
      ],
      "text/plain": [
       "<IPython.core.display.Javascript object>"
      ]
     },
     "metadata": {},
     "output_type": "display_data"
    },
    {
     "data": {
      "application/javascript": [
       "$('span:contains(\"# Temp\")').closest('.cell').remove();"
      ],
      "text/plain": [
       "<IPython.core.display.Javascript object>"
      ]
     },
     "metadata": {},
     "output_type": "display_data"
    },
    {
     "data": {
      "application/javascript": [
       "\n",
       "        $('span:contains(\"# Temp\")').closest('.cell').remove();\n",
       "        var code = IPython.notebook.insert_cell_below('code');\n",
       "        var prompt = code.element.find(\".input_prompt\");\n",
       "        prompt.append('<br><button style=\"height: 100%; width: 54px;\">Run</button>');\n",
       "        prompt.on(\"click\", \"button\", function(){\n",
       "            code.execute();\n",
       "        });\n",
       "        code.set_text(decodeURIComponent(window.atob(\"JTIzJTIwVGVtcCUwQWluc2VydCUyOCUyNyUyNyUyNyUyNyUyNyUyNyUyOSUzQg==\")));\n",
       "    "
      ],
      "text/plain": [
       "<IPython.core.display.Javascript object>"
      ]
     },
     "metadata": {},
     "output_type": "display_data"
    },
    {
     "data": {
      "application/javascript": [
       "$('span:contains(\"# Temp\")').closest('.cell').remove();"
      ],
      "text/plain": [
       "<IPython.core.display.Javascript object>"
      ]
     },
     "metadata": {},
     "output_type": "display_data"
    },
    {
     "data": {
      "application/javascript": [
       "\n",
       "        $('span:contains(\"# Temp\")').closest('.cell').remove();\n",
       "        var code = IPython.notebook.insert_cell_below('code');\n",
       "        var prompt = code.element.find(\".input_prompt\");\n",
       "        prompt.append('<br><button style=\"height: 100%; width: 54px;\">Run</button>');\n",
       "        prompt.on(\"click\", \"button\", function(){\n",
       "            code.execute();\n",
       "        });\n",
       "        code.set_text(decodeURIComponent(window.atob(\"JTIzJTIwVGVtcCUwQWluc2VydCUyOCUyNyUyNyUyNyUyNyUyNyUyNyUyOSUzQg==\")));\n",
       "    "
      ],
      "text/plain": [
       "<IPython.core.display.Javascript object>"
      ]
     },
     "metadata": {},
     "output_type": "display_data"
    },
    {
     "data": {
      "application/javascript": [
       "$('span:contains(\"# Temp\")').closest('.cell').remove();"
      ],
      "text/plain": [
       "<IPython.core.display.Javascript object>"
      ]
     },
     "metadata": {},
     "output_type": "display_data"
    },
    {
     "data": {
      "application/javascript": [
       "\n",
       "        $('span:contains(\"# Temp\")').closest('.cell').remove();\n",
       "        var code = IPython.notebook.insert_cell_below('code');\n",
       "        var prompt = code.element.find(\".input_prompt\");\n",
       "        prompt.append('<br><button style=\"height: 100%; width: 54px;\">Run</button>');\n",
       "        prompt.on(\"click\", \"button\", function(){\n",
       "            code.execute();\n",
       "        });\n",
       "        code.set_text(decodeURIComponent(window.atob(\"JTIzJTIwVGVtcCUwQWluc2VydCUyOCUyNyUyNyUyNyUyNyUyNyUyNyUyOSUzQg==\")));\n",
       "    "
      ],
      "text/plain": [
       "<IPython.core.display.Javascript object>"
      ]
     },
     "metadata": {},
     "output_type": "display_data"
    },
    {
     "data": {
      "application/javascript": [
       "$('span:contains(\"# Temp\")').closest('.cell').remove();"
      ],
      "text/plain": [
       "<IPython.core.display.Javascript object>"
      ]
     },
     "metadata": {},
     "output_type": "display_data"
    },
    {
     "data": {
      "application/javascript": [
       "\n",
       "        $('span:contains(\"# Temp\")').closest('.cell').remove();\n",
       "        var code = IPython.notebook.insert_cell_below('code');\n",
       "        var prompt = code.element.find(\".input_prompt\");\n",
       "        prompt.append('<br><button style=\"height: 100%; width: 54px;\">Run</button>');\n",
       "        prompt.on(\"click\", \"button\", function(){\n",
       "            code.execute();\n",
       "        });\n",
       "        code.set_text(decodeURIComponent(window.atob(\"JTIzJTIwVGVtcCUwQWluc2VydCUyOCUyNyUyNyUyNyUyNyUyNyUyNyUyOSUzQg==\")));\n",
       "    "
      ],
      "text/plain": [
       "<IPython.core.display.Javascript object>"
      ]
     },
     "metadata": {},
     "output_type": "display_data"
    },
    {
     "data": {
      "application/javascript": [
       "$('span:contains(\"# Temp\")').closest('.cell').remove();"
      ],
      "text/plain": [
       "<IPython.core.display.Javascript object>"
      ]
     },
     "metadata": {},
     "output_type": "display_data"
    },
    {
     "data": {
      "application/javascript": [
       "\n",
       "        $('span:contains(\"# Temp\")').closest('.cell').remove();\n",
       "        var code = IPython.notebook.insert_cell_below('code');\n",
       "        var prompt = code.element.find(\".input_prompt\");\n",
       "        prompt.append('<br><button style=\"height: 100%; width: 54px;\">Run</button>');\n",
       "        prompt.on(\"click\", \"button\", function(){\n",
       "            code.execute();\n",
       "        });\n",
       "        code.set_text(decodeURIComponent(window.atob(\"JTIzJTIwVGVtcCUwQWluc2VydCUyOCUyNyUyNyUyNyUyNyUyNyUyNyUyOSUzQg==\")));\n",
       "    "
      ],
      "text/plain": [
       "<IPython.core.display.Javascript object>"
      ]
     },
     "metadata": {},
     "output_type": "display_data"
    },
    {
     "data": {
      "application/javascript": [
       "$('span:contains(\"# Temp\")').closest('.cell').remove();"
      ],
      "text/plain": [
       "<IPython.core.display.Javascript object>"
      ]
     },
     "metadata": {},
     "output_type": "display_data"
    },
    {
     "data": {
      "application/javascript": [
       "\n",
       "        $('span:contains(\"# Temp\")').closest('.cell').remove();\n",
       "        var code = IPython.notebook.insert_cell_below('code');\n",
       "        var prompt = code.element.find(\".input_prompt\");\n",
       "        prompt.append('<br><button style=\"height: 100%; width: 54px;\">Run</button>');\n",
       "        prompt.on(\"click\", \"button\", function(){\n",
       "            code.execute();\n",
       "        });\n",
       "        code.set_text(decodeURIComponent(window.atob(\"JTIzJTIwVGVtcCUwQWluc2VydCUyOCUyNyUyNyUyNyUyNyUyNyUyNyUyOSUzQg==\")));\n",
       "    "
      ],
      "text/plain": [
       "<IPython.core.display.Javascript object>"
      ]
     },
     "metadata": {},
     "output_type": "display_data"
    },
    {
     "data": {
      "application/javascript": [
       "$('span:contains(\"# Temp\")').closest('.cell').remove();"
      ],
      "text/plain": [
       "<IPython.core.display.Javascript object>"
      ]
     },
     "metadata": {},
     "output_type": "display_data"
    },
    {
     "data": {
      "application/javascript": [
       "\n",
       "        $('span:contains(\"# Temp\")').closest('.cell').remove();\n",
       "        var code = IPython.notebook.insert_cell_below('code');\n",
       "        var prompt = code.element.find(\".input_prompt\");\n",
       "        prompt.append('<br><button style=\"height: 100%; width: 54px;\">Run</button>');\n",
       "        prompt.on(\"click\", \"button\", function(){\n",
       "            code.execute();\n",
       "        });\n",
       "        code.set_text(decodeURIComponent(window.atob(\"JTIzJTIwVGVtcCUwQWluc2VydCUyOCUyNyUyNyUyNyUyNyUyNyUyNyUyOSUzQg==\")));\n",
       "    "
      ],
      "text/plain": [
       "<IPython.core.display.Javascript object>"
      ]
     },
     "metadata": {},
     "output_type": "display_data"
    },
    {
     "data": {
      "application/javascript": [
       "$('span:contains(\"# Temp\")').closest('.cell').remove();"
      ],
      "text/plain": [
       "<IPython.core.display.Javascript object>"
      ]
     },
     "metadata": {},
     "output_type": "display_data"
    },
    {
     "data": {
      "application/javascript": [
       "\n",
       "        $('span:contains(\"# Temp\")').closest('.cell').remove();\n",
       "        var code = IPython.notebook.insert_cell_below('code');\n",
       "        var prompt = code.element.find(\".input_prompt\");\n",
       "        prompt.append('<br><button style=\"height: 100%; width: 54px;\">Run</button>');\n",
       "        prompt.on(\"click\", \"button\", function(){\n",
       "            code.execute();\n",
       "        });\n",
       "        code.set_text(decodeURIComponent(window.atob(\"JTIzJTIwVGVtcCUwQWluc2VydCUyOCUyNyUyNyUyNyUyNyUyNyUyNyUyOSUzQg==\")));\n",
       "    "
      ],
      "text/plain": [
       "<IPython.core.display.Javascript object>"
      ]
     },
     "metadata": {},
     "output_type": "display_data"
    },
    {
     "data": {
      "application/javascript": [
       "$('span:contains(\"# Temp\")').closest('.cell').remove();"
      ],
      "text/plain": [
       "<IPython.core.display.Javascript object>"
      ]
     },
     "metadata": {},
     "output_type": "display_data"
    },
    {
     "data": {
      "application/javascript": [
       "\n",
       "        $('span:contains(\"# Temp\")').closest('.cell').remove();\n",
       "        var code = IPython.notebook.insert_cell_below('code');\n",
       "        var prompt = code.element.find(\".input_prompt\");\n",
       "        prompt.append('<br><button style=\"height: 100%; width: 54px;\">Run</button>');\n",
       "        prompt.on(\"click\", \"button\", function(){\n",
       "            code.execute();\n",
       "        });\n",
       "        code.set_text(decodeURIComponent(window.atob(\"JTIzJTIwVGVtcCUwQWluc2VydCUyOCUyNyUyNyUyNyUyNyUyNyUyNyUyOSUzQg==\")));\n",
       "    "
      ],
      "text/plain": [
       "<IPython.core.display.Javascript object>"
      ]
     },
     "metadata": {},
     "output_type": "display_data"
    },
    {
     "data": {
      "application/javascript": [
       "$('span:contains(\"# Temp\")').closest('.cell').remove();"
      ],
      "text/plain": [
       "<IPython.core.display.Javascript object>"
      ]
     },
     "metadata": {},
     "output_type": "display_data"
    },
    {
     "data": {
      "application/javascript": [
       "\n",
       "        $('span:contains(\"# Temp\")').closest('.cell').remove();\n",
       "        var code = IPython.notebook.insert_cell_below('code');\n",
       "        var prompt = code.element.find(\".input_prompt\");\n",
       "        prompt.append('<br><button style=\"height: 100%; width: 54px;\">Run</button>');\n",
       "        prompt.on(\"click\", \"button\", function(){\n",
       "            code.execute();\n",
       "        });\n",
       "        code.set_text(decodeURIComponent(window.atob(\"JTIzJTIwVGVtcCUwQWluc2VydCUyOCUyNyUyNyUyNyUyNyUyNyUyNyUyOSUzQg==\")));\n",
       "    "
      ],
      "text/plain": [
       "<IPython.core.display.Javascript object>"
      ]
     },
     "metadata": {},
     "output_type": "display_data"
    },
    {
     "data": {
      "application/javascript": [
       "$('span:contains(\"# Temp\")').closest('.cell').remove();"
      ],
      "text/plain": [
       "<IPython.core.display.Javascript object>"
      ]
     },
     "metadata": {},
     "output_type": "display_data"
    },
    {
     "data": {
      "application/javascript": [
       "\n",
       "        $('span:contains(\"# Temp\")').closest('.cell').remove();\n",
       "        var code = IPython.notebook.insert_cell_below('code');\n",
       "        var prompt = code.element.find(\".input_prompt\");\n",
       "        prompt.append('<br><button style=\"height: 100%; width: 54px;\">Run</button>');\n",
       "        prompt.on(\"click\", \"button\", function(){\n",
       "            code.execute();\n",
       "        });\n",
       "        code.set_text(decodeURIComponent(window.atob(\"JTIzJTIwVGVtcCUwQWluc2VydCUyOCUyNyUyNyUyNyUyNyUyNyUyNyUyOSUzQg==\")));\n",
       "    "
      ],
      "text/plain": [
       "<IPython.core.display.Javascript object>"
      ]
     },
     "metadata": {},
     "output_type": "display_data"
    },
    {
     "data": {
      "application/javascript": [
       "$('span:contains(\"# Temp\")').closest('.cell').remove();"
      ],
      "text/plain": [
       "<IPython.core.display.Javascript object>"
      ]
     },
     "metadata": {},
     "output_type": "display_data"
    },
    {
     "data": {
      "application/javascript": [
       "\n",
       "        $('span:contains(\"# Temp\")').closest('.cell').remove();\n",
       "        var code = IPython.notebook.insert_cell_below('code');\n",
       "        var prompt = code.element.find(\".input_prompt\");\n",
       "        prompt.append('<br><button style=\"height: 100%; width: 54px;\">Run</button>');\n",
       "        prompt.on(\"click\", \"button\", function(){\n",
       "            code.execute();\n",
       "        });\n",
       "        code.set_text(decodeURIComponent(window.atob(\"JTIzJTIwVGVtcCUwQWluc2VydCUyOCUyNyUyNyUyNyUyNyUyNyUyNyUyOSUzQg==\")));\n",
       "    "
      ],
      "text/plain": [
       "<IPython.core.display.Javascript object>"
      ]
     },
     "metadata": {},
     "output_type": "display_data"
    },
    {
     "data": {
      "application/javascript": [
       "$('span:contains(\"# Temp\")').closest('.cell').remove();"
      ],
      "text/plain": [
       "<IPython.core.display.Javascript object>"
      ]
     },
     "metadata": {},
     "output_type": "display_data"
    },
    {
     "data": {
      "application/javascript": [
       "\n",
       "        $('span:contains(\"# Temp\")').closest('.cell').remove();\n",
       "        var code = IPython.notebook.insert_cell_below('code');\n",
       "        var prompt = code.element.find(\".input_prompt\");\n",
       "        prompt.append('<br><button style=\"height: 100%; width: 54px;\">Run</button>');\n",
       "        prompt.on(\"click\", \"button\", function(){\n",
       "            code.execute();\n",
       "        });\n",
       "        code.set_text(decodeURIComponent(window.atob(\"JTIzJTIwVGVtcCUwQWluc2VydCUyOCUyNyUyNyUyNyUyNyUyNyUyNyUyOSUzQg==\")));\n",
       "    "
      ],
      "text/plain": [
       "<IPython.core.display.Javascript object>"
      ]
     },
     "metadata": {},
     "output_type": "display_data"
    },
    {
     "data": {
      "application/javascript": [
       "$('span:contains(\"# Temp\")').closest('.cell').remove();"
      ],
      "text/plain": [
       "<IPython.core.display.Javascript object>"
      ]
     },
     "metadata": {},
     "output_type": "display_data"
    },
    {
     "data": {
      "application/javascript": [
       "\n",
       "        $('span:contains(\"# Temp\")').closest('.cell').remove();\n",
       "        var code = IPython.notebook.insert_cell_below('code');\n",
       "        var prompt = code.element.find(\".input_prompt\");\n",
       "        prompt.append('<br><button style=\"height: 100%; width: 54px;\">Run</button>');\n",
       "        prompt.on(\"click\", \"button\", function(){\n",
       "            code.execute();\n",
       "        });\n",
       "        code.set_text(decodeURIComponent(window.atob(\"JTIzJTIwVGVtcCUwQWluc2VydCUyOCUyNyUyNyUyNyUyNyUyNyUyNyUyOSUzQg==\")));\n",
       "    "
      ],
      "text/plain": [
       "<IPython.core.display.Javascript object>"
      ]
     },
     "metadata": {},
     "output_type": "display_data"
    },
    {
     "data": {
      "application/javascript": [
       "$('span:contains(\"# Temp\")').closest('.cell').remove();"
      ],
      "text/plain": [
       "<IPython.core.display.Javascript object>"
      ]
     },
     "metadata": {},
     "output_type": "display_data"
    },
    {
     "data": {
      "application/javascript": [
       "\n",
       "        $('span:contains(\"# Temp\")').closest('.cell').remove();\n",
       "        var code = IPython.notebook.insert_cell_below('code');\n",
       "        var prompt = code.element.find(\".input_prompt\");\n",
       "        prompt.append('<br><button style=\"height: 100%; width: 54px;\">Run</button>');\n",
       "        prompt.on(\"click\", \"button\", function(){\n",
       "            code.execute();\n",
       "        });\n",
       "        code.set_text(decodeURIComponent(window.atob(\"JTIzJTIwVGVtcCUwQWluc2VydCUyOCUyNyUyNyUyNyUyNyUyNyUyNyUyOSUzQg==\")));\n",
       "    "
      ],
      "text/plain": [
       "<IPython.core.display.Javascript object>"
      ]
     },
     "metadata": {},
     "output_type": "display_data"
    },
    {
     "data": {
      "application/javascript": [
       "$('span:contains(\"# Temp\")').closest('.cell').remove();"
      ],
      "text/plain": [
       "<IPython.core.display.Javascript object>"
      ]
     },
     "metadata": {},
     "output_type": "display_data"
    },
    {
     "data": {
      "application/javascript": [
       "\n",
       "        $('span:contains(\"# Temp\")').closest('.cell').remove();\n",
       "        var code = IPython.notebook.insert_cell_below('code');\n",
       "        var prompt = code.element.find(\".input_prompt\");\n",
       "        prompt.append('<br><button style=\"height: 100%; width: 54px;\">Run</button>');\n",
       "        prompt.on(\"click\", \"button\", function(){\n",
       "            code.execute();\n",
       "        });\n",
       "        code.set_text(decodeURIComponent(window.atob(\"JTIzJTIwVGVtcCUwQWluc2VydCUyOCUyNyUyNyUyNyUyNyUyNyUyNyUyOSUzQg==\")));\n",
       "    "
      ],
      "text/plain": [
       "<IPython.core.display.Javascript object>"
      ]
     },
     "metadata": {},
     "output_type": "display_data"
    },
    {
     "data": {
      "application/javascript": [
       "$('span:contains(\"# Temp\")').closest('.cell').remove();"
      ],
      "text/plain": [
       "<IPython.core.display.Javascript object>"
      ]
     },
     "metadata": {},
     "output_type": "display_data"
    },
    {
     "data": {
      "application/javascript": [
       "\n",
       "        $('span:contains(\"# Temp\")').closest('.cell').remove();\n",
       "        var code = IPython.notebook.insert_cell_below('code');\n",
       "        var prompt = code.element.find(\".input_prompt\");\n",
       "        prompt.append('<br><button style=\"height: 100%; width: 54px;\">Run</button>');\n",
       "        prompt.on(\"click\", \"button\", function(){\n",
       "            code.execute();\n",
       "        });\n",
       "        code.set_text(decodeURIComponent(window.atob(\"JTIzJTIwVGVtcCUwQWluc2VydCUyOCUyNyUyNyUyNyUyNyUyNyUyNyUyOSUzQg==\")));\n",
       "    "
      ],
      "text/plain": [
       "<IPython.core.display.Javascript object>"
      ]
     },
     "metadata": {},
     "output_type": "display_data"
    },
    {
     "data": {
      "application/javascript": [
       "$('span:contains(\"# Temp\")').closest('.cell').remove();"
      ],
      "text/plain": [
       "<IPython.core.display.Javascript object>"
      ]
     },
     "metadata": {},
     "output_type": "display_data"
    },
    {
     "data": {
      "application/javascript": [
       "\n",
       "        $('span:contains(\"# Temp\")').closest('.cell').remove();\n",
       "        var code = IPython.notebook.insert_cell_below('code');\n",
       "        var prompt = code.element.find(\".input_prompt\");\n",
       "        prompt.append('<br><button style=\"height: 100%; width: 54px;\">Run</button>');\n",
       "        prompt.on(\"click\", \"button\", function(){\n",
       "            code.execute();\n",
       "        });\n",
       "        code.set_text(decodeURIComponent(window.atob(\"JTIzJTIwVGVtcCUwQWluc2VydCUyOCUyNyUyNyUyNyUyNyUyNyUyNyUyOSUzQg==\")));\n",
       "    "
      ],
      "text/plain": [
       "<IPython.core.display.Javascript object>"
      ]
     },
     "metadata": {},
     "output_type": "display_data"
    },
    {
     "data": {
      "application/javascript": [
       "$('span:contains(\"# Temp\")').closest('.cell').remove();"
      ],
      "text/plain": [
       "<IPython.core.display.Javascript object>"
      ]
     },
     "metadata": {},
     "output_type": "display_data"
    },
    {
     "data": {
      "application/javascript": [
       "\n",
       "        $('span:contains(\"# Temp\")').closest('.cell').remove();\n",
       "        var code = IPython.notebook.insert_cell_below('code');\n",
       "        var prompt = code.element.find(\".input_prompt\");\n",
       "        prompt.append('<br><button style=\"height: 100%; width: 54px;\">Run</button>');\n",
       "        prompt.on(\"click\", \"button\", function(){\n",
       "            code.execute();\n",
       "        });\n",
       "        code.set_text(decodeURIComponent(window.atob(\"JTIzJTIwVGVtcCUwQWluc2VydCUyOCUyNyUyNyUyNyUyNyUyNyUyNyUyOSUzQg==\")));\n",
       "    "
      ],
      "text/plain": [
       "<IPython.core.display.Javascript object>"
      ]
     },
     "metadata": {},
     "output_type": "display_data"
    },
    {
     "data": {
      "application/javascript": [
       "$('span:contains(\"# Temp\")').closest('.cell').remove();"
      ],
      "text/plain": [
       "<IPython.core.display.Javascript object>"
      ]
     },
     "metadata": {},
     "output_type": "display_data"
    },
    {
     "data": {
      "application/javascript": [
       "\n",
       "        $('span:contains(\"# Temp\")').closest('.cell').remove();\n",
       "        var code = IPython.notebook.insert_cell_below('code');\n",
       "        var prompt = code.element.find(\".input_prompt\");\n",
       "        prompt.append('<br><button style=\"height: 100%; width: 54px;\">Run</button>');\n",
       "        prompt.on(\"click\", \"button\", function(){\n",
       "            code.execute();\n",
       "        });\n",
       "        code.set_text(decodeURIComponent(window.atob(\"JTIzJTIwVGVtcCUwQWluc2VydCUyOCUyNyUyNyUyNyUwQW5ldmVzMjAxNmElMjAlM0QlMjBEQiUyOFdvcmtVbnJlbGF0ZWQlMjglMEElMjAlMjAlMjAlMjAyMDE2JTJDJTIwJTIyUmlzayUyMG1hbmFnZW1lbnQlMjBhcHBsaWVkJTIwdG8lMjBTb2Z0d2FyZSUyMGRldmVsb3BtZW50JTIwcHJvamVjdHMlMjBpbiUyMGluY3ViYXRlZCUyMHRlY2hub2xvZ3ktYmFzZWQlMjBjb21wYW5pZXMlM0ElMjBMaXRlcmF0dXJlJTIwcmV2aWV3JTJDJTIwY2xhc3NpZmljYXRpb24lMkMlMjBhbmQlMjBhbmFseXNpcyUyMiUyQyUwQSUyMCUyMCUyMCUyMGRpc3BsYXklM0QlMjJuZXZlcyUyMiUyQyUwQSUyMCUyMCUyMCUyMGF1dGhvcnMlM0QlMjJOZXZlcyUyQyUyMFMuTS4lMjBhbmQlMjBEYSUyMFNpbHZhJTJDJTIwQy5FLlMuJTIyJTJDJTBBJTIwJTIwJTIwJTIwcGxhY2UlM0RQcm9kdWNhbyUyQyUwQSUyMCUyMCUyMCUyMHBwJTNEJTIyNzk4LTgxNCUyMiUyQyUwQSUyMCUyMCUyMCUyMGVudHJ5dHlwZSUzRCUyMmFydGljbGUlMjIlMkMlMEElMjAlMjAlMjAlMjB2b2x1bWUlM0QlMjIyMyUyMiUyQyUwQSUyMCUyMCUyMCUyMG51bWJlciUzRCUyMjQlMjIlMkMlMEElMjAlMjAlMjAlMjBsaW5rJTNEJTIyaHR0cHMlM0EvL3d3dy5zY29wdXMuY29tL2lud2FyZC9yZWNvcmQudXJpJTNGZWlkJTNEMi1zMi4wLTg1MDA3MzY5MDI4JTI2ZG9pJTNEMTAuMTU5MCUyNTJmMDEwNC01MzBYNDcyLTE1JTI2cGFydG5lcklEJTNENDAlMjZtZDUlM0Q4OWU0M2U3OTQ0MTY0Y2VjNDczMjJlZDY0ZjdkNmQwOSUyMiUyQyUwQSUyMCUyMCUyMCUyMElEJTNEJTIyTmV2ZXMyMDE2Nzk4JTIyJTJDJTBBJTIwJTIwJTIwJTIwc2NvcHVzMjAxNiUzRCUyMjElMjIlMkMlMEElMjAlMjAlMjAlMjBwbGFjZXglM0QlMjJHZXN0YW8lMjBlJTIwUHJvZHVjYW8lMjIlMkMlMEElMjklMjklMEElMjclMjclMjclMjklM0I=\")));\n",
       "    "
      ],
      "text/plain": [
       "<IPython.core.display.Javascript object>"
      ]
     },
     "metadata": {},
     "output_type": "display_data"
    },
    {
     "data": {
      "application/javascript": [
       "$('span:contains(\"# Temp\")').closest('.cell').remove();"
      ],
      "text/plain": [
       "<IPython.core.display.Javascript object>"
      ]
     },
     "metadata": {},
     "output_type": "display_data"
    },
    {
     "data": {
      "application/javascript": [
       "\n",
       "        $('span:contains(\"# Temp\")').closest('.cell').remove();\n",
       "        var code = IPython.notebook.insert_cell_below('code');\n",
       "        var prompt = code.element.find(\".input_prompt\");\n",
       "        prompt.append('<br><button style=\"height: 100%; width: 54px;\">Run</button>');\n",
       "        prompt.on(\"click\", \"button\", function(){\n",
       "            code.execute();\n",
       "        });\n",
       "        code.set_text(decodeURIComponent(window.atob(\"JTIzJTIwVGVtcCUwQWluc2VydCUyOCUyNyUyNyUyNyUwQW5ldmVzMjAxNmElMjAlM0QlMjBEQiUyOFdvcmtVbnJlbGF0ZWQlMjglMEElMjAlMjAlMjAlMjAyMDE2JTJDJTIwJTIyUmlzayUyMG1hbmFnZW1lbnQlMjBhcHBsaWVkJTIwdG8lMjBTb2Z0d2FyZSUyMGRldmVsb3BtZW50JTIwcHJvamVjdHMlMjBpbiUyMGluY3ViYXRlZCUyMHRlY2hub2xvZ3ktYmFzZWQlMjBjb21wYW5pZXMlM0ElMjBMaXRlcmF0dXJlJTIwcmV2aWV3JTJDJTIwY2xhc3NpZmljYXRpb24lMkMlMjBhbmQlMjBhbmFseXNpcyUyMiUyQyUwQSUyMCUyMCUyMCUyMGRpc3BsYXklM0QlMjJuZXZlcyUyMiUyQyUwQSUyMCUyMCUyMCUyMGF1dGhvcnMlM0QlMjJOZXZlcyUyQyUyMFMuTS4lMjBhbmQlMjBEYSUyMFNpbHZhJTJDJTIwQy5FLlMuJTIyJTJDJTBBJTIwJTIwJTIwJTIwcGxhY2UlM0RQcm9kdWNhbyUyQyUwQSUyMCUyMCUyMCUyMHBwJTNEJTIyNzk4LTgxNCUyMiUyQyUwQSUyMCUyMCUyMCUyMGVudHJ5dHlwZSUzRCUyMmFydGljbGUlMjIlMkMlMEElMjAlMjAlMjAlMjB2b2x1bWUlM0QlMjIyMyUyMiUyQyUwQSUyMCUyMCUyMCUyMG51bWJlciUzRCUyMjQlMjIlMkMlMEElMjAlMjAlMjAlMjBsaW5rJTNEJTIyaHR0cHMlM0EvL3d3dy5zY29wdXMuY29tL2lud2FyZC9yZWNvcmQudXJpJTNGZWlkJTNEMi1zMi4wLTg1MDA3MzY5MDI4JTI2ZG9pJTNEMTAuMTU5MCUyNTJmMDEwNC01MzBYNDcyLTE1JTI2cGFydG5lcklEJTNENDAlMjZtZDUlM0Q4OWU0M2U3OTQ0MTY0Y2VjNDczMjJlZDY0ZjdkNmQwOSUyMiUyQyUwQSUyMCUyMCUyMCUyMElEJTNEJTIyTmV2ZXMyMDE2Nzk4JTIyJTJDJTBBJTIwJTIwJTIwJTIwc2NvcHVzMjAxNiUzRCUyMjElMjIlMkMlMEElMjAlMjAlMjAlMjBwbGFjZXglM0QlMjJHZXN0YW8lMjBlJTIwUHJvZHVjYW8lMjIlMkMlMEElMjklMjklMEElMjclMjclMjclMjklM0I=\")));\n",
       "    "
      ],
      "text/plain": [
       "<IPython.core.display.Javascript object>"
      ]
     },
     "metadata": {},
     "output_type": "display_data"
    },
    {
     "data": {
      "application/javascript": [
       "$('span:contains(\"# Temp\")').closest('.cell').remove();"
      ],
      "text/plain": [
       "<IPython.core.display.Javascript object>"
      ]
     },
     "metadata": {},
     "output_type": "display_data"
    },
    {
     "data": {
      "application/javascript": [
       "\n",
       "        $('span:contains(\"# Temp\")').closest('.cell').remove();\n",
       "        var code = IPython.notebook.insert_cell_below('code');\n",
       "        var prompt = code.element.find(\".input_prompt\");\n",
       "        prompt.append('<br><button style=\"height: 100%; width: 54px;\">Run</button>');\n",
       "        prompt.on(\"click\", \"button\", function(){\n",
       "            code.execute();\n",
       "        });\n",
       "        code.set_text(decodeURIComponent(window.atob(\"JTIzJTIwVGVtcCUwQWluc2VydCUyOCUyNyUyNyUyNyUyNyUyNyUyNyUyOSUzQg==\")));\n",
       "    "
      ],
      "text/plain": [
       "<IPython.core.display.Javascript object>"
      ]
     },
     "metadata": {},
     "output_type": "display_data"
    },
    {
     "data": {
      "application/javascript": [
       "$('span:contains(\"# Temp\")').closest('.cell').remove();"
      ],
      "text/plain": [
       "<IPython.core.display.Javascript object>"
      ]
     },
     "metadata": {},
     "output_type": "display_data"
    },
    {
     "data": {
      "application/javascript": [
       "\n",
       "        $('span:contains(\"# Temp\")').closest('.cell').remove();\n",
       "        var code = IPython.notebook.insert_cell_below('code');\n",
       "        var prompt = code.element.find(\".input_prompt\");\n",
       "        prompt.append('<br><button style=\"height: 100%; width: 54px;\">Run</button>');\n",
       "        prompt.on(\"click\", \"button\", function(){\n",
       "            code.execute();\n",
       "        });\n",
       "        code.set_text(decodeURIComponent(window.atob(\"JTIzJTIwVGVtcCUwQWluc2VydCUyOCUyNyUyNyUyNyUyNyUyNyUyNyUyOSUzQg==\")));\n",
       "    "
      ],
      "text/plain": [
       "<IPython.core.display.Javascript object>"
      ]
     },
     "metadata": {},
     "output_type": "display_data"
    },
    {
     "data": {
      "application/javascript": [
       "$('span:contains(\"# Temp\")').closest('.cell').remove();"
      ],
      "text/plain": [
       "<IPython.core.display.Javascript object>"
      ]
     },
     "metadata": {},
     "output_type": "display_data"
    },
    {
     "data": {
      "application/javascript": [
       "\n",
       "        $('span:contains(\"# Temp\")').closest('.cell').remove();\n",
       "        var code = IPython.notebook.insert_cell_below('code');\n",
       "        var prompt = code.element.find(\".input_prompt\");\n",
       "        prompt.append('<br><button style=\"height: 100%; width: 54px;\">Run</button>');\n",
       "        prompt.on(\"click\", \"button\", function(){\n",
       "            code.execute();\n",
       "        });\n",
       "        code.set_text(decodeURIComponent(window.atob(\"JTIzJTIwVGVtcCUwQWluc2VydCUyOCUyNyUyNyUyNyUyNyUyNyUyNyUyOSUzQg==\")));\n",
       "    "
      ],
      "text/plain": [
       "<IPython.core.display.Javascript object>"
      ]
     },
     "metadata": {},
     "output_type": "display_data"
    },
    {
     "data": {
      "application/javascript": [
       "$('span:contains(\"# Temp\")').closest('.cell').remove();"
      ],
      "text/plain": [
       "<IPython.core.display.Javascript object>"
      ]
     },
     "metadata": {},
     "output_type": "display_data"
    },
    {
     "data": {
      "application/javascript": [
       "\n",
       "        $('span:contains(\"# Temp\")').closest('.cell').remove();\n",
       "        var code = IPython.notebook.insert_cell_below('code');\n",
       "        var prompt = code.element.find(\".input_prompt\");\n",
       "        prompt.append('<br><button style=\"height: 100%; width: 54px;\">Run</button>');\n",
       "        prompt.on(\"click\", \"button\", function(){\n",
       "            code.execute();\n",
       "        });\n",
       "        code.set_text(decodeURIComponent(window.atob(\"JTIzJTIwVGVtcCUwQWluc2VydCUyOCUyNyUyNyUyNyUyNyUyNyUyNyUyOSUzQg==\")));\n",
       "    "
      ],
      "text/plain": [
       "<IPython.core.display.Javascript object>"
      ]
     },
     "metadata": {},
     "output_type": "display_data"
    }
   ],
   "source": [
    "from custom_snowballing import UnrelatedInsert\n",
    "UnrelatedInsert(\"scopus2016\", articles=article_list)"
   ]
  },
  {
   "cell_type": "code",
   "execution_count": null,
   "metadata": {
    "collapsed": true
   },
   "outputs": [],
   "source": [
    "# Temp\n",
    "insert('''''');"
   ]
  },
  {
   "cell_type": "code",
   "execution_count": null,
   "metadata": {
    "collapsed": true
   },
   "outputs": [],
   "source": []
  }
 ],
 "metadata": {
  "kernelspec": {
   "display_name": "Python 3",
   "language": "python",
   "name": "python3"
  },
  "language_info": {
   "codemirror_mode": {
    "name": "ipython",
    "version": 3
   },
   "file_extension": ".py",
   "mimetype": "text/x-python",
   "name": "python",
   "nbconvert_exporter": "python",
   "pygments_lexer": "ipython3",
   "version": "3.6.0"
  },
  "toc": {
   "nav_menu": {
    "height": "12px",
    "width": "252px"
   },
   "number_sections": true,
   "sideBar": true,
   "skip_h1_title": false,
   "toc_cell": false,
   "toc_position": {},
   "toc_section_display": "block",
   "toc_window_display": false
  }
 },
 "nbformat": 4,
 "nbformat_minor": 2
}
