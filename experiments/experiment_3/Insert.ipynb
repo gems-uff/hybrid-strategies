{
 "cells": [
  {
   "cell_type": "code",
   "execution_count": 1,
   "metadata": {
    "collapsed": true
   },
   "outputs": [],
   "source": [
    "import database\n",
    "import custom_jupyter_utils\n",
    "from snowballing.operations import load_work, reload, work_by_varname\n",
    "from snowballing.snowballing import Converter\n",
    "from snowballing.snowballing import ArticleNavigator\n",
    "from snowballing.dbmanager import insert, set_attribute"
   ]
  },
  {
   "cell_type": "code",
   "execution_count": 2,
   "metadata": {
    "scrolled": false
   },
   "outputs": [
    {
     "data": {
      "application/vnd.jupyter.widget-view+json": {
       "model_id": "cc854c6f66504b0ba1813a18b0d08390",
       "version_major": 2,
       "version_minor": 0
      },
      "text/html": [
       "<p>Failed to display Jupyter Widget of type <code>VBox</code>.</p>\n",
       "<p>\n",
       "  If you're reading this message in Jupyter Notebook or JupyterLab, it may mean\n",
       "  that the widgets JavaScript is still loading. If this message persists, it\n",
       "  likely means that the widgets JavaScript library is either not installed or\n",
       "  not enabled. See the <a href=\"https://ipywidgets.readthedocs.io/en/stable/user_install.html\">Jupyter\n",
       "  Widgets Documentation</a> for setup instructions.\n",
       "</p>\n",
       "<p>\n",
       "  If you're reading this message in another notebook frontend (for example, a static\n",
       "  rendering on GitHub or <a href=\"https://nbviewer.jupyter.org/\">NBViewer</a>),\n",
       "  it may mean that your frontend doesn't currently support widgets.\n",
       "</p>\n"
      ],
      "text/plain": [
       "VBox(children=(HBox(children=(Dropdown(options={'BibTeX': 'bibtex', 'Text': 'text', '[N] author name place other year': 'citation', 'Quoted': 'quoted'}, value='bibtex'), Button(description='Set article_list variable', style=ButtonStyle()), Label(value=''))), HBox(children=(Textarea(value='', layout=Layout(height='500px', width='50%')), Textarea(value='', layout=Layout(height='500px', width='50%'))))))"
      ]
     },
     "metadata": {},
     "output_type": "display_data"
    }
   ],
   "source": [
    "Converter(\"bibtex\")"
   ]
  },
  {
   "cell_type": "code",
   "execution_count": 3,
   "metadata": {},
   "outputs": [
    {
     "data": {
      "text/plain": [
       "35"
      ]
     },
     "execution_count": 3,
     "metadata": {},
     "output_type": "execute_result"
    }
   ],
   "source": [
    "len(article_list)"
   ]
  },
  {
   "cell_type": "code",
   "execution_count": 4,
   "metadata": {
    "collapsed": true
   },
   "outputs": [],
   "source": [
    "from snowballing.operations import reload\n",
    "reload()\n"
   ]
  },
  {
   "cell_type": "code",
   "execution_count": null,
   "metadata": {
    "collapsed": true
   },
   "outputs": [],
   "source": []
  },
  {
   "cell_type": "code",
   "execution_count": null,
   "metadata": {
    "collapsed": true,
    "scrolled": false
   },
   "outputs": [],
   "source": [
    "ArticleNavigator??"
   ]
  },
  {
   "cell_type": "code",
   "execution_count": null,
   "metadata": {
    "collapsed": true
   },
   "outputs": [],
   "source": []
  },
  {
   "cell_type": "code",
   "execution_count": null,
   "metadata": {
    "collapsed": true
   },
   "outputs": [],
   "source": []
  },
  {
   "cell_type": "code",
   "execution_count": null,
   "metadata": {
    "collapsed": true
   },
   "outputs": [],
   "source": [
    "ArticleNavigator(articles=article_list)"
   ]
  },
  {
   "cell_type": "code",
   "execution_count": null,
   "metadata": {
    "collapsed": true
   },
   "outputs": [],
   "source": []
  },
  {
   "cell_type": "code",
   "execution_count": null,
   "metadata": {
    "collapsed": true
   },
   "outputs": [],
   "source": [
    "ArticleNavigator??"
   ]
  },
  {
   "cell_type": "code",
   "execution_count": null,
   "metadata": {
    "collapsed": true
   },
   "outputs": [],
   "source": []
  },
  {
   "cell_type": "code",
   "execution_count": 5,
   "metadata": {},
   "outputs": [
    {
     "data": {
      "application/vnd.jupyter.widget-view+json": {
       "model_id": "e4aa493120334e6da039132187dbef40",
       "version_major": 2,
       "version_minor": 0
      },
      "text/html": [
       "<p>Failed to display Jupyter Widget of type <code>VBox</code>.</p>\n",
       "<p>\n",
       "  If you're reading this message in Jupyter Notebook or JupyterLab, it may mean\n",
       "  that the widgets JavaScript is still loading. If this message persists, it\n",
       "  likely means that the widgets JavaScript library is either not installed or\n",
       "  not enabled. See the <a href=\"https://ipywidgets.readthedocs.io/en/stable/user_install.html\">Jupyter\n",
       "  Widgets Documentation</a> for setup instructions.\n",
       "</p>\n",
       "<p>\n",
       "  If you're reading this message in another notebook frontend (for example, a static\n",
       "  rendering on GitHub or <a href=\"https://nbviewer.jupyter.org/\">NBViewer</a>),\n",
       "  it may mean that your frontend doesn't currently support widgets.\n",
       "</p>\n"
      ],
      "text/plain": [
       "VBox(children=(HBox(children=(Button(description='Previous Article', disabled=True, icon='caret-left', style=ButtonStyle()), Button(description='Reload Article', icon='refresh', style=ButtonStyle()), Button(description='Next Article', icon='caret-right', style=ButtonStyle()))), HBox(children=(Dropdown(description='Type', index=3, options=('Work', 'WorkSnowball', 'WorkOk', 'WorkUnrelated', 'WorkNoFile', 'WorkLang', 'Site', 'Email'), value='WorkUnrelated'), ToggleButton(value=False, description='File'))), HBox(children=(Text(value='', description='Due'), Text(value='', description='Place'))), HBox(children=(Text(value='', description='Year'), Text(value='', description='Prefix Var'))), HBox(children=(Text(value='', description='PDFPage'), Text(value='', description='Related'))), HBox(children=(Text(value='', description='Display'), Text(value='', description='Summary'))), HBox(children=(Text(value='', description='Star'), Text(value='', description='Link'))), HBox(children=(Text(value='1', description='gs2016'),)), HBox(children=(Button(description='Reload Article', icon='refresh', style=ButtonStyle()), IntSlider(value=0, max=34), Label(value='1/35'))), Output()))"
      ]
     },
     "metadata": {},
     "output_type": "display_data"
    },
    {
     "data": {
      "application/javascript": [
       "$('span:contains(\"# Temp\")').closest('.cell').remove();"
      ],
      "text/plain": [
       "<IPython.core.display.Javascript object>"
      ]
     },
     "metadata": {},
     "output_type": "display_data"
    },
    {
     "data": {
      "application/javascript": [
       "\n",
       "        $('span:contains(\"# Temp\")').closest('.cell').remove();\n",
       "        var code = IPython.notebook.insert_cell_below('code');\n",
       "        var prompt = code.element.find(\".input_prompt\");\n",
       "        prompt.append('<br><button style=\"height: 100%; width: 54px;\">Run</button>');\n",
       "        prompt.on(\"click\", \"button\", function(){\n",
       "            code.execute();\n",
       "        });\n",
       "        code.set_text(decodeURIComponent(window.atob(\"JTIzJTIwVGVtcCUwQWluc2VydCUyOCUyNyUyNyUyNyUwQWVpdG8yMDE3YSUyMCUzRCUyMERCJTI4V29ya1VucmVsYXRlZCUyOCUwQSUyMCUyMCUyMCUyMDIwMTclMkMlMjAlMjJEZWFsaW5nJTIwd2l0aCUyMHNvZnR3YXJlJTIwcHJvY2VzcyUyMHJlcXVpcmVtZW50cyUyMGNvbXBsZXhpdHklM0ElMjBhbiUyMGluZm9ybWF0aW9uJTIwYWNjZXNzJTIwcHJvcG9zYWwlMjBiYXNlZCUyMG9uJTIwc2VtYW50aWMlMjB0ZWNobm9sb2dpZXMlMjIlMkMlMEElMjAlMjAlMjAlMjBkaXNwbGF5JTNEJTIyZWl0byUyMiUyQyUwQSUyMCUyMCUyMCUyMGF1dGhvcnMlM0QlMjJFaXRvLUJydW4lMkMlMjBSaWNhcmRvJTIwYW5kJTIwQW1lc2N1YSUyQyUyMEFudG9uaW8lMjIlMkMlMEElMjAlMjAlMjAlMjBwbGFjZSUzREZBS0UlMkMlMEElMjAlMjAlMjAlMjBwcCUzRCUyMjUyNy0tNTQyJTIyJTJDJTBBJTIwJTIwJTIwJTIwZW50cnl0eXBlJTNEJTIyYXJ0aWNsZSUyMiUyQyUwQSUyMCUyMCUyMCUyMHZvbHVtZSUzRCUyMjIyJTIyJTJDJTBBJTIwJTIwJTIwJTIwbnVtYmVyJTNEJTIyNCUyMiUyQyUwQSUyMCUyMCUyMCUyMHB1Ymxpc2hlciUzRCUyMlNwcmluZ2VyJTIyJTJDJTBBJTIwJTIwJTIwJTIwSUQlM0QlMjJlaXRvMjAxN2RlYWxpbmclMjIlMkMlMEElMjAlMjAlMjAlMjBnczIwMTYlM0QlMjIxJTIyJTJDJTBBJTIwJTIwJTIwJTIwcGxhY2V4JTNEJTIyUmVxdWlyZW1lbnRzJTIwRW5naW5lZXJpbmclMjIlMkMlMEElMjklMjklMEElMjclMjclMjclMjklM0I=\")));\n",
       "    "
      ],
      "text/plain": [
       "<IPython.core.display.Javascript object>"
      ]
     },
     "metadata": {},
     "output_type": "display_data"
    },
    {
     "data": {
      "application/javascript": [
       "$('span:contains(\"# Temp\")').closest('.cell').remove();"
      ],
      "text/plain": [
       "<IPython.core.display.Javascript object>"
      ]
     },
     "metadata": {},
     "output_type": "display_data"
    },
    {
     "data": {
      "application/javascript": [
       "\n",
       "        $('span:contains(\"# Temp\")').closest('.cell').remove();\n",
       "        var code = IPython.notebook.insert_cell_below('code');\n",
       "        var prompt = code.element.find(\".input_prompt\");\n",
       "        prompt.append('<br><button style=\"height: 100%; width: 54px;\">Run</button>');\n",
       "        prompt.on(\"click\", \"button\", function(){\n",
       "            code.execute();\n",
       "        });\n",
       "        code.set_text(decodeURIComponent(window.atob(\"JTIzJTIwVGVtcCUwQWluc2VydCUyOCUyNyUyNyUyNyUwQWVzY2Fsb25hMjAxNGElMjAlM0QlMjBEQiUyOFdvcmtVbnJlbGF0ZWQlMjglMEElMjAlMjAlMjAlMjAyMDE0JTJDJTIwJTIySW5mb3JtYXRpb24lMjBzeXN0ZW0lMjBkZXZlbG9wbWVudCUzQSUyMEltcHJvdmluZyUyMGVudGVycHJpc2UlMjBjb21tdW5pY2F0aW9uJTIyJTJDJTBBJTIwJTIwJTIwJTIwZGlzcGxheSUzRCUyMmVzY2Fsb25hJTIyJTJDJTBBJTIwJTIwJTIwJTIwYXV0aG9ycyUzRCUyMkVzY2Fsb25hJTJDJTIwTWFyJUMzJUFEYSUyMEpvcyVDMyVBOSUyMGFuZCUyMEFyYWclQzMlQjNuJTJDJTIwR3VzdGF2byUyMGFuZCUyMExpbmdlciUyQyUyMEhlbnJ5JTIwYW5kJTIwTGFuZyUyQyUyME1pY2hhZWwlMjBhbmQlMjBCYXJyeSUyQyUyMENocmlzJTIwYW5kJTIwU2NobmVpZGVyJTJDJTIwQ2hyaXN0b3BoJTIyJTJDJTBBJTIwJTIwJTIwJTIwcGxhY2UlM0RCb29rJTJDJTBBJTIwJTIwJTIwJTIwZW50cnl0eXBlJTNEJTIyYm9vayUyMiUyQyUwQSUyMCUyMCUyMCUyMHB1Ymxpc2hlciUzRCUyMlNwcmluZ2VyJTIyJTJDJTBBJTIwJTIwJTIwJTIwSUQlM0QlMjJlc2NhbG9uYTIwMTRpbmZvcm1hdGlvbiUyMiUyQyUwQSUyMCUyMCUyMCUyMGdzMjAxNiUzRCUyMjElMjIlMkMlMEElMjAlMjAlMjAlMjBwbGFjZXglM0QlMjIlMjIlMkMlMEElMjklMjklMEElMjclMjclMjclMjklM0I=\")));\n",
       "    "
      ],
      "text/plain": [
       "<IPython.core.display.Javascript object>"
      ]
     },
     "metadata": {},
     "output_type": "display_data"
    },
    {
     "data": {
      "application/javascript": [
       "$('span:contains(\"# Temp\")').closest('.cell').remove();"
      ],
      "text/plain": [
       "<IPython.core.display.Javascript object>"
      ]
     },
     "metadata": {},
     "output_type": "display_data"
    },
    {
     "data": {
      "application/javascript": [
       "\n",
       "        $('span:contains(\"# Temp\")').closest('.cell').remove();\n",
       "        var code = IPython.notebook.insert_cell_below('code');\n",
       "        var prompt = code.element.find(\".input_prompt\");\n",
       "        prompt.append('<br><button style=\"height: 100%; width: 54px;\">Run</button>');\n",
       "        prompt.on(\"click\", \"button\", function(){\n",
       "            code.execute();\n",
       "        });\n",
       "        code.set_text(decodeURIComponent(window.atob(\"JTIzJTIwVGVtcCUwQWluc2VydCUyOCUyNyUyNyUyNyUwQWVzY2Fsb25hMjAxNGElMjAlM0QlMjBEQiUyOFdvcmtVbnJlbGF0ZWQlMjglMEElMjAlMjAlMjAlMjAyMDE0JTJDJTIwJTIySW5mb3JtYXRpb24lMjBzeXN0ZW0lMjBkZXZlbG9wbWVudCUzQSUyMEltcHJvdmluZyUyMGVudGVycHJpc2UlMjBjb21tdW5pY2F0aW9uJTIyJTJDJTBBJTIwJTIwJTIwJTIwZGlzcGxheSUzRCUyMmVzY2Fsb25hJTIyJTJDJTBBJTIwJTIwJTIwJTIwYXV0aG9ycyUzRCUyMkVzY2Fsb25hJTJDJTIwTWFyJUMzJUFEYSUyMEpvcyVDMyVBOSUyMGFuZCUyMEFyYWclQzMlQjNuJTJDJTIwR3VzdGF2byUyMGFuZCUyMExpbmdlciUyQyUyMEhlbnJ5JTIwYW5kJTIwTGFuZyUyQyUyME1pY2hhZWwlMjBhbmQlMjBCYXJyeSUyQyUyMENocmlzJTIwYW5kJTIwU2NobmVpZGVyJTJDJTIwQ2hyaXN0b3BoJTIyJTJDJTBBJTIwJTIwJTIwJTIwcGxhY2UlM0RCb29rJTJDJTBBJTIwJTIwJTIwJTIwZW50cnl0eXBlJTNEJTIyYm9vayUyMiUyQyUwQSUyMCUyMCUyMCUyMHB1Ymxpc2hlciUzRCUyMlNwcmluZ2VyJTIyJTJDJTBBJTIwJTIwJTIwJTIwSUQlM0QlMjJlc2NhbG9uYTIwMTRpbmZvcm1hdGlvbiUyMiUyQyUwQSUyMCUyMCUyMCUyMGdzMjAxNiUzRCUyMjElMjIlMkMlMEElMjAlMjAlMjAlMjBwbGFjZXglM0QlMjIlMjIlMkMlMEElMjklMjklMEElMjclMjclMjclMjklM0I=\")));\n",
       "    "
      ],
      "text/plain": [
       "<IPython.core.display.Javascript object>"
      ]
     },
     "metadata": {},
     "output_type": "display_data"
    },
    {
     "data": {
      "application/javascript": [
       "$('span:contains(\"# Temp\")').closest('.cell').remove();"
      ],
      "text/plain": [
       "<IPython.core.display.Javascript object>"
      ]
     },
     "metadata": {},
     "output_type": "display_data"
    },
    {
     "data": {
      "application/javascript": [
       "\n",
       "        $('span:contains(\"# Temp\")').closest('.cell').remove();\n",
       "        var code = IPython.notebook.insert_cell_below('code');\n",
       "        var prompt = code.element.find(\".input_prompt\");\n",
       "        prompt.append('<br><button style=\"height: 100%; width: 54px;\">Run</button>');\n",
       "        prompt.on(\"click\", \"button\", function(){\n",
       "            code.execute();\n",
       "        });\n",
       "        code.set_text(decodeURIComponent(window.atob(\"JTIzJTIwVGVtcCUwQWluc2VydCUyOCUyNyUyNyUyNyUwQW11JUMzJUIxb3oyMDE0YiUyMCUzRCUyMERCJTI4V29ya1VucmVsYXRlZCUyOCUwQSUyMCUyMCUyMCUyMDIwMTQlMkMlMjAlMjJUb3dhcmRzJTIwS25vd2xlZGdlJTIwTWFuYWdlbWVudCUyMHRvJTIwU3VwcG9ydCUyMERlY2lzaW9uJTIwTWFraW5nJTIwZm9yJTIwU29mdHdhcmUlMjBQcm9jZXNzJTIwRGV2ZWxvcG1lbnQlMjIlMkMlMEElMjAlMjAlMjAlMjBkaXNwbGF5JTNEJTIybXUlQzMlQjFveiUyMGIlMjIlMkMlMEElMjAlMjAlMjAlMjBhdXRob3JzJTNEJTIyTXUlQzMlQjFveiUyQyUyMEVkcmlzaSUyMGFuZCUyMENhcCVDMyVCM24tR2FyYyVDMyVBRGElMkMlMjBFbGlzYWJldGglMjIlMkMlMEElMjAlMjAlMjAlMjBwbGFjZSUzREZBS0UlMkMlMEElMjAlMjAlMjAlMjBwcCUzRCUyMjE2MS0tMTc5JTIyJTJDJTBBJTIwJTIwJTIwJTIwZW50cnl0eXBlJTNEJTIyaW5jb2xsZWN0aW9uJTIyJTJDJTBBJTIwJTIwJTIwJTIwcHVibGlzaGVyJTNEJTIySUdJJTIwR2xvYmFsJTIyJTJDJTBBJTIwJTIwJTIwJTIwSUQlM0QlMjJtdW5vejIwMTR0b3dhcmRzJTIyJTJDJTBBJTIwJTIwJTIwJTIwZ3MyMDE2JTNEJTIyMSUyMiUyQyUwQSUyMCUyMCUyMCUyMHBsYWNleCUzRCUyMkFnaWxlJTIwRXN0aW1hdGlvbiUyMFRlY2huaXF1ZXMlMjBhbmQlMjBJbm5vdmF0aXZlJTIwQXBwcm9hY2hlcyUyMHRvJTIwU29mdHdhcmUlMjBQcm9jZXNzJTIwSW1wcm92ZW1lbnQlMjIlMkMlMEElMjklMjklMEElMjclMjclMjclMjklM0I=\")));\n",
       "    "
      ],
      "text/plain": [
       "<IPython.core.display.Javascript object>"
      ]
     },
     "metadata": {},
     "output_type": "display_data"
    },
    {
     "data": {
      "application/javascript": [
       "$('span:contains(\"# Temp\")').closest('.cell').remove();"
      ],
      "text/plain": [
       "<IPython.core.display.Javascript object>"
      ]
     },
     "metadata": {},
     "output_type": "display_data"
    },
    {
     "data": {
      "application/javascript": [
       "\n",
       "        $('span:contains(\"# Temp\")').closest('.cell').remove();\n",
       "        var code = IPython.notebook.insert_cell_below('code');\n",
       "        var prompt = code.element.find(\".input_prompt\");\n",
       "        prompt.append('<br><button style=\"height: 100%; width: 54px;\">Run</button>');\n",
       "        prompt.on(\"click\", \"button\", function(){\n",
       "            code.execute();\n",
       "        });\n",
       "        code.set_text(decodeURIComponent(window.atob(\"JTIzJTIwVGVtcCUwQWluc2VydCUyOCUyNyUyNyUyNyUwQW11JUMzJUIxb3oyMDE0YiUyMCUzRCUyMERCJTI4V29ya1VucmVsYXRlZCUyOCUwQSUyMCUyMCUyMCUyMDIwMTQlMkMlMjAlMjJUb3dhcmRzJTIwS25vd2xlZGdlJTIwTWFuYWdlbWVudCUyMHRvJTIwU3VwcG9ydCUyMERlY2lzaW9uJTIwTWFraW5nJTIwZm9yJTIwU29mdHdhcmUlMjBQcm9jZXNzJTIwRGV2ZWxvcG1lbnQlMjIlMkMlMEElMjAlMjAlMjAlMjBkaXNwbGF5JTNEJTIybXUlQzMlQjFveiUyMGIlMjIlMkMlMEElMjAlMjAlMjAlMjBhdXRob3JzJTNEJTIyTXUlQzMlQjFveiUyQyUyMEVkcmlzaSUyMGFuZCUyMENhcCVDMyVCM24tR2FyYyVDMyVBRGElMkMlMjBFbGlzYWJldGglMjIlMkMlMEElMjAlMjAlMjAlMjBwbGFjZSUzREZBS0UlMkMlMEElMjAlMjAlMjAlMjBwcCUzRCUyMjE2MS0tMTc5JTIyJTJDJTBBJTIwJTIwJTIwJTIwZW50cnl0eXBlJTNEJTIyaW5jb2xsZWN0aW9uJTIyJTJDJTBBJTIwJTIwJTIwJTIwcHVibGlzaGVyJTNEJTIySUdJJTIwR2xvYmFsJTIyJTJDJTBBJTIwJTIwJTIwJTIwSUQlM0QlMjJtdW5vejIwMTR0b3dhcmRzJTIyJTJDJTBBJTIwJTIwJTIwJTIwZ3MyMDE2JTNEJTIyMSUyMiUyQyUwQSUyMCUyMCUyMCUyMHBsYWNleCUzRCUyMkFnaWxlJTIwRXN0aW1hdGlvbiUyMFRlY2huaXF1ZXMlMjBhbmQlMjBJbm5vdmF0aXZlJTIwQXBwcm9hY2hlcyUyMHRvJTIwU29mdHdhcmUlMjBQcm9jZXNzJTIwSW1wcm92ZW1lbnQlMjIlMkMlMEElMjklMjklMEElMjclMjclMjclMjklM0I=\")));\n",
       "    "
      ],
      "text/plain": [
       "<IPython.core.display.Javascript object>"
      ]
     },
     "metadata": {},
     "output_type": "display_data"
    },
    {
     "data": {
      "application/javascript": [
       "$('span:contains(\"# Temp\")').closest('.cell').remove();"
      ],
      "text/plain": [
       "<IPython.core.display.Javascript object>"
      ]
     },
     "metadata": {},
     "output_type": "display_data"
    },
    {
     "data": {
      "application/javascript": [
       "\n",
       "        $('span:contains(\"# Temp\")').closest('.cell').remove();\n",
       "        var code = IPython.notebook.insert_cell_below('code');\n",
       "        var prompt = code.element.find(\".input_prompt\");\n",
       "        prompt.append('<br><button style=\"height: 100%; width: 54px;\">Run</button>');\n",
       "        prompt.on(\"click\", \"button\", function(){\n",
       "            code.execute();\n",
       "        });\n",
       "        code.set_text(decodeURIComponent(window.atob(\"JTIzJTIwVGVtcCUwQWluc2VydCUyOCUyNyUyNyUyNyUwQW1lZGluYTIwMDhhJTIwJTNEJTIwREIlMjhXb3JrVW5yZWxhdGVkJTI4JTBBJTIwJTIwJTIwJTIwMjAwOCUyQyUyMCUyMkElMjBDb2xsYWJvcmF0aXZlJTIwRnJhbWV3b3JrJTIwdG8lMjBTdXBwb3J0JTIwU29mdHdhcmUlMjBQcm9jZXNzJTIwSW1wcm92ZW1lbnQlMjBCYXNlZCUyMG9uJTIwdGhlJTIwUmV1c2UlMjBvZiUyMFByb2Nlc3MlMjBBc3NldHMuJTIyJTJDJTBBJTIwJTIwJTIwJTIwZGlzcGxheSUzRCUyMm1lZGluYSUyMiUyQyUwQSUyMCUyMCUyMCUyMGF1dGhvcnMlM0QlMjJNZWRpbmEtRG9tJUMzJUFEbmd1ZXolMkMlMjBGdWVuc2FudGElMjBhbmQlMjBSYW1vcyUyQyUyMEphdmllciUyMFNhbGRhJUMzJUIxYSUyMGFuZCUyME1vcmEtU290byUyQyUyMEFydHVybyUyMGFuZCUyMFNhbnotRXN0ZWJhbiUyQyUyMEFuYSUyMGFuZCUyMFNlZ3VyYSUyQyUyME1hcmlhJTIwSXNhYmVsJTIwUyVDMyVBMW5jaGV6JTIyJTJDJTBBJTIwJTIwJTIwJTIwcGxhY2UlM0RGQUtFJTJDJTBBJTIwJTIwJTIwJTIwcHAlM0QlMjIyODMtLTI4OSUyMiUyQyUwQSUyMCUyMCUyMCUyMGVudHJ5dHlwZSUzRCUyMmlucHJvY2VlZGluZ3MlMjIlMkMlMEElMjAlMjAlMjAlMjBJRCUzRCUyMm1lZGluYTIwMDhjb2xsYWJvcmF0aXZlJTIyJTJDJTBBJTIwJTIwJTIwJTIwZ3MyMDE2JTNEJTIyMSUyMiUyQyUwQSUyMCUyMCUyMCUyMHBsYWNleCUzRCUyMklDU09GVCUyMCUyOFBML0RQUy9LRSUyOSUyMiUyQyUwQSUyOSUyOSUwQSUyNyUyNyUyNyUyOSUzQg==\")));\n",
       "    "
      ],
      "text/plain": [
       "<IPython.core.display.Javascript object>"
      ]
     },
     "metadata": {},
     "output_type": "display_data"
    },
    {
     "data": {
      "application/javascript": [
       "$('span:contains(\"# Temp\")').closest('.cell').remove();"
      ],
      "text/plain": [
       "<IPython.core.display.Javascript object>"
      ]
     },
     "metadata": {},
     "output_type": "display_data"
    },
    {
     "data": {
      "application/javascript": [
       "\n",
       "        $('span:contains(\"# Temp\")').closest('.cell').remove();\n",
       "        var code = IPython.notebook.insert_cell_below('code');\n",
       "        var prompt = code.element.find(\".input_prompt\");\n",
       "        prompt.append('<br><button style=\"height: 100%; width: 54px;\">Run</button>');\n",
       "        prompt.on(\"click\", \"button\", function(){\n",
       "            code.execute();\n",
       "        });\n",
       "        code.set_text(decodeURIComponent(window.atob(\"JTIzJTIwVGVtcCUwQWluc2VydCUyOCUyNyUyNyUyNyUwQW1lZGluYTIwMDhhJTIwJTNEJTIwREIlMjhXb3JrVW5yZWxhdGVkJTI4JTBBJTIwJTIwJTIwJTIwMjAwOCUyQyUyMCUyMkElMjBDb2xsYWJvcmF0aXZlJTIwRnJhbWV3b3JrJTIwdG8lMjBTdXBwb3J0JTIwU29mdHdhcmUlMjBQcm9jZXNzJTIwSW1wcm92ZW1lbnQlMjBCYXNlZCUyMG9uJTIwdGhlJTIwUmV1c2UlMjBvZiUyMFByb2Nlc3MlMjBBc3NldHMuJTIyJTJDJTBBJTIwJTIwJTIwJTIwZGlzcGxheSUzRCUyMm1lZGluYSUyMiUyQyUwQSUyMCUyMCUyMCUyMGF1dGhvcnMlM0QlMjJNZWRpbmEtRG9tJUMzJUFEbmd1ZXolMkMlMjBGdWVuc2FudGElMjBhbmQlMjBSYW1vcyUyQyUyMEphdmllciUyMFNhbGRhJUMzJUIxYSUyMGFuZCUyME1vcmEtU290byUyQyUyMEFydHVybyUyMGFuZCUyMFNhbnotRXN0ZWJhbiUyQyUyMEFuYSUyMGFuZCUyMFNlZ3VyYSUyQyUyME1hcmlhJTIwSXNhYmVsJTIwUyVDMyVBMW5jaGV6JTIyJTJDJTBBJTIwJTIwJTIwJTIwcGxhY2UlM0RGQUtFJTJDJTBBJTIwJTIwJTIwJTIwcHAlM0QlMjIyODMtLTI4OSUyMiUyQyUwQSUyMCUyMCUyMCUyMGVudHJ5dHlwZSUzRCUyMmlucHJvY2VlZGluZ3MlMjIlMkMlMEElMjAlMjAlMjAlMjBJRCUzRCUyMm1lZGluYTIwMDhjb2xsYWJvcmF0aXZlJTIyJTJDJTBBJTIwJTIwJTIwJTIwZ3MyMDE2JTNEJTIyMSUyMiUyQyUwQSUyMCUyMCUyMCUyMHBsYWNleCUzRCUyMklDU09GVCUyMCUyOFBML0RQUy9LRSUyOSUyMiUyQyUwQSUyOSUyOSUwQSUyNyUyNyUyNyUyOSUzQg==\")));\n",
       "    "
      ],
      "text/plain": [
       "<IPython.core.display.Javascript object>"
      ]
     },
     "metadata": {},
     "output_type": "display_data"
    },
    {
     "data": {
      "application/javascript": [
       "$('span:contains(\"# Temp\")').closest('.cell').remove();"
      ],
      "text/plain": [
       "<IPython.core.display.Javascript object>"
      ]
     },
     "metadata": {},
     "output_type": "display_data"
    },
    {
     "data": {
      "application/javascript": [
       "\n",
       "        $('span:contains(\"# Temp\")').closest('.cell').remove();\n",
       "        var code = IPython.notebook.insert_cell_below('code');\n",
       "        var prompt = code.element.find(\".input_prompt\");\n",
       "        prompt.append('<br><button style=\"height: 100%; width: 54px;\">Run</button>');\n",
       "        prompt.on(\"click\", \"button\", function(){\n",
       "            code.execute();\n",
       "        });\n",
       "        code.set_text(decodeURIComponent(window.atob(\"JTIzJTIwVGVtcCUwQWluc2VydCUyOCUyNyUyNyUyNyUwQXBlbGR6aXVzMjAxNGElMjAlM0QlMjBEQiUyOFdvcmtVbnJlbGF0ZWQlMjglMEElMjAlMjAlMjAlMjAyMDE0JTJDJTIwJTIyVG9vbCUyMGZvciUyMFVzYWdlJTIwb2YlMjBNdWx0aXBsZSUyMFByb2Nlc3MlMjBBc3Nlc3NtZW50JTIwTW9kZWxzJTIyJTJDJTBBJTIwJTIwJTIwJTIwZGlzcGxheSUzRCUyMnBlbGR6aXVzJTIyJTJDJTBBJTIwJTIwJTIwJTIwYXV0aG9ycyUzRCUyMlBlbGR6aXVzJTJDJTIwU3Rhc3lzJTIwYW5kJTIwUmFnYWlzaXMlMkMlMjBTYXVsaXVzJTIyJTJDJTBBJTIwJTIwJTIwJTIwcGxhY2UlM0RJQ1NQSUNEJTJDJTBBJTIwJTIwJTIwJTIwcHAlM0QlMjIxMDYtLTExNyUyMiUyQyUwQSUyMCUyMCUyMCUyMGVudHJ5dHlwZSUzRCUyMmlucHJvY2VlZGluZ3MlMjIlMkMlMEElMjAlMjAlMjAlMjBvcmdhbml6YXRpb24lM0QlMjJTcHJpbmdlciUyMiUyQyUwQSUyMCUyMCUyMCUyMElEJTNEJTIycGVsZHppdXMyMDE0dG9vbCUyMiUyQyUwQSUyMCUyMCUyMCUyMGdzMjAxNiUzRCUyMjElMjIlMkMlMEElMjAlMjAlMjAlMjBwbGFjZXglM0QlMjJJbnRlcm5hdGlvbmFsJTIwQ29uZmVyZW5jZSUyMG9uJTIwU29mdHdhcmUlMjBQcm9jZXNzJTIwSW1wcm92ZW1lbnQlMjBhbmQlMjBDYXBhYmlsaXR5JTIwRGV0ZXJtaW5hdGlvbiUyMiUyQyUwQSUyOSUyOSUwQSUyNyUyNyUyNyUyOSUzQg==\")));\n",
       "    "
      ],
      "text/plain": [
       "<IPython.core.display.Javascript object>"
      ]
     },
     "metadata": {},
     "output_type": "display_data"
    },
    {
     "data": {
      "application/javascript": [
       "$('span:contains(\"# Temp\")').closest('.cell').remove();"
      ],
      "text/plain": [
       "<IPython.core.display.Javascript object>"
      ]
     },
     "metadata": {},
     "output_type": "display_data"
    },
    {
     "data": {
      "application/javascript": [
       "\n",
       "        $('span:contains(\"# Temp\")').closest('.cell').remove();\n",
       "        var code = IPython.notebook.insert_cell_below('code');\n",
       "        var prompt = code.element.find(\".input_prompt\");\n",
       "        prompt.append('<br><button style=\"height: 100%; width: 54px;\">Run</button>');\n",
       "        prompt.on(\"click\", \"button\", function(){\n",
       "            code.execute();\n",
       "        });\n",
       "        code.set_text(decodeURIComponent(window.atob(\"JTIzJTIwVGVtcCUwQWluc2VydCUyOCUyNyUyNyUyNyUwQXBlbGR6aXVzMjAxNGElMjAlM0QlMjBEQiUyOFdvcmtVbnJlbGF0ZWQlMjglMEElMjAlMjAlMjAlMjAyMDE0JTJDJTIwJTIyVG9vbCUyMGZvciUyMFVzYWdlJTIwb2YlMjBNdWx0aXBsZSUyMFByb2Nlc3MlMjBBc3Nlc3NtZW50JTIwTW9kZWxzJTIyJTJDJTBBJTIwJTIwJTIwJTIwZGlzcGxheSUzRCUyMnBlbGR6aXVzJTIyJTJDJTBBJTIwJTIwJTIwJTIwYXV0aG9ycyUzRCUyMlBlbGR6aXVzJTJDJTIwU3Rhc3lzJTIwYW5kJTIwUmFnYWlzaXMlMkMlMjBTYXVsaXVzJTIyJTJDJTBBJTIwJTIwJTIwJTIwcGxhY2UlM0RJQ1NQSUNEJTJDJTBBJTIwJTIwJTIwJTIwcHAlM0QlMjIxMDYtLTExNyUyMiUyQyUwQSUyMCUyMCUyMCUyMGVudHJ5dHlwZSUzRCUyMmlucHJvY2VlZGluZ3MlMjIlMkMlMEElMjAlMjAlMjAlMjBvcmdhbml6YXRpb24lM0QlMjJTcHJpbmdlciUyMiUyQyUwQSUyMCUyMCUyMCUyMElEJTNEJTIycGVsZHppdXMyMDE0dG9vbCUyMiUyQyUwQSUyMCUyMCUyMCUyMGdzMjAxNiUzRCUyMjElMjIlMkMlMEElMjAlMjAlMjAlMjBwbGFjZXglM0QlMjJJbnRlcm5hdGlvbmFsJTIwQ29uZmVyZW5jZSUyMG9uJTIwU29mdHdhcmUlMjBQcm9jZXNzJTIwSW1wcm92ZW1lbnQlMjBhbmQlMjBDYXBhYmlsaXR5JTIwRGV0ZXJtaW5hdGlvbiUyMiUyQyUwQSUyOSUyOSUwQSUyNyUyNyUyNyUyOSUzQg==\")));\n",
       "    "
      ],
      "text/plain": [
       "<IPython.core.display.Javascript object>"
      ]
     },
     "metadata": {},
     "output_type": "display_data"
    },
    {
     "data": {
      "application/javascript": [
       "$('span:contains(\"# Temp\")').closest('.cell').remove();"
      ],
      "text/plain": [
       "<IPython.core.display.Javascript object>"
      ]
     },
     "metadata": {},
     "output_type": "display_data"
    },
    {
     "data": {
      "application/javascript": [
       "\n",
       "        $('span:contains(\"# Temp\")').closest('.cell').remove();\n",
       "        var code = IPython.notebook.insert_cell_below('code');\n",
       "        var prompt = code.element.find(\".input_prompt\");\n",
       "        prompt.append('<br><button style=\"height: 100%; width: 54px;\">Run</button>');\n",
       "        prompt.on(\"click\", \"button\", function(){\n",
       "            code.execute();\n",
       "        });\n",
       "        code.set_text(decodeURIComponent(window.atob(\"JTIzJTIwVGVtcCUwQWluc2VydCUyOCUyNyUyNyUyNyUwQXZhc2NvbmNlbG9zMjAwNmElMjAlM0QlMjBEQiUyOFdvcmtVbnJlbGF0ZWQlMjglMEElMjAlMjAlMjAlMjAyMDA2JTJDJTIwJTIyQSUyMHByb2Nlc3MlMjBtZXRhLW1vZGVsJTIwaW4lMjBhJTIwZ3JhZHVhbCUyMHNvZnR3YXJlJTIwcHJvY2VzcyUyMGltcGxlbWVudGF0aW9uJTIwZW52aXJvbm1lbnQlMjBwcm9jZXNzJTIwbWV0YS1tb2RlbCUyMGZvciUyMGElMjBzb2Z0d2FyZSUyMHByb2Nlc3MlMjBkZWZpbml0aW9uJTIwYW5kJTIwaW1wcm92ZW1lbnQuJTIyJTJDJTBBJTIwJTIwJTIwJTIwZGlzcGxheSUzRCUyMnZhc2NvbmNlbG9zJTIyJTJDJTBBJTIwJTIwJTIwJTIwYXV0aG9ycyUzRCUyMmRlJTIwVmFzY29uY2Vsb3MlMkMlMjBBbGV4YW5kcmUlMjBNYXJjb3MlMjBMaW5zJTIyJTJDJTBBJTIwJTIwJTIwJTIwcGxhY2UlM0RGQUtFJTJDJTBBJTIwJTIwJTIwJTIwZW50cnl0eXBlJTNEJTIyYXJ0aWNsZSUyMiUyQyUwQSUyMCUyMCUyMCUyMElEJTNEJTIyZGVwcm9jZXNzJTIyJTJDJTBBJTIwJTIwJTIwJTIwZ3MyMDE2JTNEJTIyMSUyMiUyQyUwQSUyMCUyMCUyMCUyMHBsYWNleCUzRCUyMlByb2NlZWRpbmdzJTIwb24lMjBUaGUlMjBGaXJzdCUyMEludGVybmF0aW9uYWwlMjBXb3Jrc2hvcCUyMG9uJTIwTWV0YW1vZGVsbGluZy0tVXRpbGl6YXRpb24lMjBpbiUyMFNvZnR3YXJlJTIwRW5naW5lZXJpbmctLU1VU0UlMkMlMjBTZXQlQzMlQkFiYWwtUG9ydHVnYWwlMjIlMkMlMEElMjklMjklMEElMjclMjclMjclMjklM0I=\")));\n",
       "    "
      ],
      "text/plain": [
       "<IPython.core.display.Javascript object>"
      ]
     },
     "metadata": {},
     "output_type": "display_data"
    },
    {
     "data": {
      "application/javascript": [
       "$('span:contains(\"# Temp\")').closest('.cell').remove();"
      ],
      "text/plain": [
       "<IPython.core.display.Javascript object>"
      ]
     },
     "metadata": {},
     "output_type": "display_data"
    },
    {
     "data": {
      "application/javascript": [
       "\n",
       "        $('span:contains(\"# Temp\")').closest('.cell').remove();\n",
       "        var code = IPython.notebook.insert_cell_below('code');\n",
       "        var prompt = code.element.find(\".input_prompt\");\n",
       "        prompt.append('<br><button style=\"height: 100%; width: 54px;\">Run</button>');\n",
       "        prompt.on(\"click\", \"button\", function(){\n",
       "            code.execute();\n",
       "        });\n",
       "        code.set_text(decodeURIComponent(window.atob(\"JTIzJTIwVGVtcCUwQWluc2VydCUyOCUyNyUyNyUyNyUwQXZhc2NvbmNlbG9zMjAwNmElMjAlM0QlMjBEQiUyOFdvcmtVbnJlbGF0ZWQlMjglMEElMjAlMjAlMjAlMjAyMDA2JTJDJTIwJTIyQSUyMHByb2Nlc3MlMjBtZXRhLW1vZGVsJTIwaW4lMjBhJTIwZ3JhZHVhbCUyMHNvZnR3YXJlJTIwcHJvY2VzcyUyMGltcGxlbWVudGF0aW9uJTIwZW52aXJvbm1lbnQlMjBwcm9jZXNzJTIwbWV0YS1tb2RlbCUyMGZvciUyMGElMjBzb2Z0d2FyZSUyMHByb2Nlc3MlMjBkZWZpbml0aW9uJTIwYW5kJTIwaW1wcm92ZW1lbnQuJTIyJTJDJTBBJTIwJTIwJTIwJTIwZGlzcGxheSUzRCUyMnZhc2NvbmNlbG9zJTIyJTJDJTBBJTIwJTIwJTIwJTIwYXV0aG9ycyUzRCUyMmRlJTIwVmFzY29uY2Vsb3MlMkMlMjBBbGV4YW5kcmUlMjBNYXJjb3MlMjBMaW5zJTIyJTJDJTBBJTIwJTIwJTIwJTIwcGxhY2UlM0RGQUtFJTJDJTBBJTIwJTIwJTIwJTIwZW50cnl0eXBlJTNEJTIyYXJ0aWNsZSUyMiUyQyUwQSUyMCUyMCUyMCUyMElEJTNEJTIyZGVwcm9jZXNzJTIyJTJDJTBBJTIwJTIwJTIwJTIwZ3MyMDE2JTNEJTIyMSUyMiUyQyUwQSUyMCUyMCUyMCUyMHBsYWNleCUzRCUyMlByb2NlZWRpbmdzJTIwb24lMjBUaGUlMjBGaXJzdCUyMEludGVybmF0aW9uYWwlMjBXb3Jrc2hvcCUyMG9uJTIwTWV0YW1vZGVsbGluZy0tVXRpbGl6YXRpb24lMjBpbiUyMFNvZnR3YXJlJTIwRW5naW5lZXJpbmctLU1VU0UlMkMlMjBTZXQlQzMlQkFiYWwtUG9ydHVnYWwlMjIlMkMlMEElMjklMjklMEElMjclMjclMjclMjklM0I=\")));\n",
       "    "
      ],
      "text/plain": [
       "<IPython.core.display.Javascript object>"
      ]
     },
     "metadata": {},
     "output_type": "display_data"
    },
    {
     "data": {
      "application/javascript": [
       "$('span:contains(\"# Temp\")').closest('.cell').remove();"
      ],
      "text/plain": [
       "<IPython.core.display.Javascript object>"
      ]
     },
     "metadata": {},
     "output_type": "display_data"
    },
    {
     "data": {
      "application/javascript": [
       "\n",
       "        $('span:contains(\"# Temp\")').closest('.cell').remove();\n",
       "        var code = IPython.notebook.insert_cell_below('code');\n",
       "        var prompt = code.element.find(\".input_prompt\");\n",
       "        prompt.append('<br><button style=\"height: 100%; width: 54px;\">Run</button>');\n",
       "        prompt.on(\"click\", \"button\", function(){\n",
       "            code.execute();\n",
       "        });\n",
       "        code.set_text(decodeURIComponent(window.atob(\"JTIzJTIwVGVtcCUwQWluc2VydCUyOCUyNyUyNyUyNyUwQWNvbG9tbzIwMTZhJTIwJTNEJTIwREIlMjhXb3JrVW5yZWxhdGVkJTI4JTBBJTIwJTIwJTIwJTIwMjAxNiUyQyUyMCUyMlRvd2FyZHMlMjBTdXBwb3J0aW5nJTIwSW50ZXJuYXRpb25hbCUyMFN0YW5kYXJkLUJhc2VkJTIwU29mdHdhcmUlMjBFbmdpbmVlcmluZyUyMEFwcHJvYWNoZXMlMjBVc2luZyUyMFNlbWFudGljJTIwV2ViJTIwVGVjaG5vbG9naWVzJTNBJTIwQSUyMFN5c3RlbWF0aWMlMjBMaXRlcmF0dXJlJTIwUmV2aWV3JTIyJTJDJTBBJTIwJTIwJTIwJTIwZGlzcGxheSUzRCUyMmNvbG9tbyUyMiUyQyUwQSUyMCUyMCUyMCUyMGF1dGhvcnMlM0QlMjJDb2xvbW8tUGFsYWNpb3MlMkMlMjBSaWNhcmRvJTIwYW5kJTIwQ29sb21iby1NZW5kb3phJTJDJTIwTHVpcyUyME9tYXIlMjBhbmQlMjBWYWxlbmNpYS1HYXJjJUMzJUFEYSUyQyUyMFJhZmFlbCUyMiUyQyUwQSUyMCUyMCUyMCUyMHBsYWNlJTNERkFLRSUyQyUwQSUyMCUyMCUyMCUyMHBwJTNEJTIyMTY5LS0xODMlMjIlMkMlMEElMjAlMjAlMjAlMjBlbnRyeXR5cGUlM0QlMjJpbnByb2NlZWRpbmdzJTIyJTJDJTBBJTIwJTIwJTIwJTIwb3JnYW5pemF0aW9uJTNEJTIyU3ByaW5nZXIlMjIlMkMlMEElMjAlMjAlMjAlMjBJRCUzRCUyMmNvbG9tbzIwMTZ0b3dhcmRzJTIyJTJDJTBBJTIwJTIwJTIwJTIwZ3MyMDE2JTNEJTIyMSUyMiUyQyUwQSUyMCUyMCUyMCUyMHBsYWNleCUzRCUyMkludGVybmF0aW9uYWwlMjBDb25mZXJlbmNlJTIwb24lMjBUZWNobm9sb2dpZXMlMjBhbmQlMjBJbm5vdmF0aW9uJTIyJTJDJTBBJTI5JTI5JTBBJTI3JTI3JTI3JTI5JTNC\")));\n",
       "    "
      ],
      "text/plain": [
       "<IPython.core.display.Javascript object>"
      ]
     },
     "metadata": {},
     "output_type": "display_data"
    },
    {
     "data": {
      "application/javascript": [
       "$('span:contains(\"# Temp\")').closest('.cell').remove();"
      ],
      "text/plain": [
       "<IPython.core.display.Javascript object>"
      ]
     },
     "metadata": {},
     "output_type": "display_data"
    },
    {
     "data": {
      "application/javascript": [
       "\n",
       "        $('span:contains(\"# Temp\")').closest('.cell').remove();\n",
       "        var code = IPython.notebook.insert_cell_below('code');\n",
       "        var prompt = code.element.find(\".input_prompt\");\n",
       "        prompt.append('<br><button style=\"height: 100%; width: 54px;\">Run</button>');\n",
       "        prompt.on(\"click\", \"button\", function(){\n",
       "            code.execute();\n",
       "        });\n",
       "        code.set_text(decodeURIComponent(window.atob(\"JTIzJTIwVGVtcCUwQWluc2VydCUyOCUyNyUyNyUyNyUwQWNvbG9tbzIwMTZhJTIwJTNEJTIwREIlMjhXb3JrVW5yZWxhdGVkJTI4JTBBJTIwJTIwJTIwJTIwMjAxNiUyQyUyMCUyMlRvd2FyZHMlMjBTdXBwb3J0aW5nJTIwSW50ZXJuYXRpb25hbCUyMFN0YW5kYXJkLUJhc2VkJTIwU29mdHdhcmUlMjBFbmdpbmVlcmluZyUyMEFwcHJvYWNoZXMlMjBVc2luZyUyMFNlbWFudGljJTIwV2ViJTIwVGVjaG5vbG9naWVzJTNBJTIwQSUyMFN5c3RlbWF0aWMlMjBMaXRlcmF0dXJlJTIwUmV2aWV3JTIyJTJDJTBBJTIwJTIwJTIwJTIwZGlzcGxheSUzRCUyMmNvbG9tbyUyMiUyQyUwQSUyMCUyMCUyMCUyMGF1dGhvcnMlM0QlMjJDb2xvbW8tUGFsYWNpb3MlMkMlMjBSaWNhcmRvJTIwYW5kJTIwQ29sb21iby1NZW5kb3phJTJDJTIwTHVpcyUyME9tYXIlMjBhbmQlMjBWYWxlbmNpYS1HYXJjJUMzJUFEYSUyQyUyMFJhZmFlbCUyMiUyQyUwQSUyMCUyMCUyMCUyMHBsYWNlJTNERkFLRSUyQyUwQSUyMCUyMCUyMCUyMHBwJTNEJTIyMTY5LS0xODMlMjIlMkMlMEElMjAlMjAlMjAlMjBlbnRyeXR5cGUlM0QlMjJpbnByb2NlZWRpbmdzJTIyJTJDJTBBJTIwJTIwJTIwJTIwb3JnYW5pemF0aW9uJTNEJTIyU3ByaW5nZXIlMjIlMkMlMEElMjAlMjAlMjAlMjBJRCUzRCUyMmNvbG9tbzIwMTZ0b3dhcmRzJTIyJTJDJTBBJTIwJTIwJTIwJTIwZ3MyMDE2JTNEJTIyMSUyMiUyQyUwQSUyMCUyMCUyMCUyMHBsYWNleCUzRCUyMkludGVybmF0aW9uYWwlMjBDb25mZXJlbmNlJTIwb24lMjBUZWNobm9sb2dpZXMlMjBhbmQlMjBJbm5vdmF0aW9uJTIyJTJDJTBBJTI5JTI5JTBBJTI3JTI3JTI3JTI5JTNC\")));\n",
       "    "
      ],
      "text/plain": [
       "<IPython.core.display.Javascript object>"
      ]
     },
     "metadata": {},
     "output_type": "display_data"
    },
    {
     "data": {
      "application/javascript": [
       "$('span:contains(\"# Temp\")').closest('.cell').remove();"
      ],
      "text/plain": [
       "<IPython.core.display.Javascript object>"
      ]
     },
     "metadata": {},
     "output_type": "display_data"
    },
    {
     "data": {
      "application/javascript": [
       "\n",
       "        $('span:contains(\"# Temp\")').closest('.cell').remove();\n",
       "        var code = IPython.notebook.insert_cell_below('code');\n",
       "        var prompt = code.element.find(\".input_prompt\");\n",
       "        prompt.append('<br><button style=\"height: 100%; width: 54px;\">Run</button>');\n",
       "        prompt.on(\"click\", \"button\", function(){\n",
       "            code.execute();\n",
       "        });\n",
       "        code.set_text(decodeURIComponent(window.atob(\"JTIzJTIwVGVtcCUwQWluc2VydCUyOCUyNyUyNyUyNyUwQXJ1eTIwMTViJTIwJTNEJTIwREIlMjhXb3JrVW5yZWxhdGVkJTI4JTBBJTIwJTIwJTIwJTIwMjAxNSUyQyUyMCUyMkFuJTIwSVNPLWJhc2VkJTIwc29mdHdhcmUlMjBwcm9jZXNzJTIwb250b2xvZ3klMjBwYXR0ZXJuJTIwbGFuZ3VhZ2UlMjBhbmQlMjBpdHMlMjBhcHBsaWNhdGlvbiUyMGZvciUyMGhhcm1vbml6aW5nJTIwc3RhbmRhcmRzJTIyJTJDJTBBJTIwJTIwJTIwJTIwZGlzcGxheSUzRCUyMnJ1eSUyMGIlMjIlMkMlMEElMjAlMjAlMjAlMjBhdXRob3JzJTNEJTIyUnV5JTJDJTIwRmFiaWFubyUyMEIlMjBhbmQlMjBGYWxibyUyQyUyMFJpY2FyZG8lMjBBJTIwYW5kJTIwQmFyY2VsbG9zJTJDJTIwTW9uYWxlc3NhJTIwUCUyMGFuZCUyMEd1aXp6YXJkaSUyQyUyMEdpYW5jYXJsbyUyMGFuZCUyMFF1aXJpbm8lMkMlMjBHbGFpY2UlMjBLUyUyMiUyQyUwQSUyMCUyMCUyMCUyMHBsYWNlJTNERkFLRSUyQyUwQSUyMCUyMCUyMCUyMHBwJTNEJTIyMjctLTQwJTIyJTJDJTBBJTIwJTIwJTIwJTIwZW50cnl0eXBlJTNEJTIyYXJ0aWNsZSUyMiUyQyUwQSUyMCUyMCUyMCUyMHZvbHVtZSUzRCUyMjE1JTIyJTJDJTBBJTIwJTIwJTIwJTIwbnVtYmVyJTNEJTIyMiUyMiUyQyUwQSUyMCUyMCUyMCUyMHB1Ymxpc2hlciUzRCUyMkFDTSUyMiUyQyUwQSUyMCUyMCUyMCUyMElEJTNEJTIycnV5MjAxNWlzbyUyMiUyQyUwQSUyMCUyMCUyMCUyMGdzMjAxNiUzRCUyMjElMjIlMkMlMEElMjAlMjAlMjAlMjBwbGFjZXglM0QlMjJBQ00lMjBTSUdBUFAlMjBBcHBsaWVkJTIwQ29tcHV0aW5nJTIwUmV2aWV3JTIyJTJDJTBBJTI5JTI5JTBBJTI3JTI3JTI3JTI5JTNC\")));\n",
       "    "
      ],
      "text/plain": [
       "<IPython.core.display.Javascript object>"
      ]
     },
     "metadata": {},
     "output_type": "display_data"
    },
    {
     "data": {
      "application/javascript": [
       "$('span:contains(\"# Temp\")').closest('.cell').remove();"
      ],
      "text/plain": [
       "<IPython.core.display.Javascript object>"
      ]
     },
     "metadata": {},
     "output_type": "display_data"
    },
    {
     "data": {
      "application/javascript": [
       "\n",
       "        $('span:contains(\"# Temp\")').closest('.cell').remove();\n",
       "        var code = IPython.notebook.insert_cell_below('code');\n",
       "        var prompt = code.element.find(\".input_prompt\");\n",
       "        prompt.append('<br><button style=\"height: 100%; width: 54px;\">Run</button>');\n",
       "        prompt.on(\"click\", \"button\", function(){\n",
       "            code.execute();\n",
       "        });\n",
       "        code.set_text(decodeURIComponent(window.atob(\"JTIzJTIwVGVtcCUwQWluc2VydCUyOCUyNyUyNyUyNyUwQXJ1eTIwMTViJTIwJTNEJTIwREIlMjhXb3JrVW5yZWxhdGVkJTI4JTBBJTIwJTIwJTIwJTIwMjAxNSUyQyUyMCUyMkFuJTIwSVNPLWJhc2VkJTIwc29mdHdhcmUlMjBwcm9jZXNzJTIwb250b2xvZ3klMjBwYXR0ZXJuJTIwbGFuZ3VhZ2UlMjBhbmQlMjBpdHMlMjBhcHBsaWNhdGlvbiUyMGZvciUyMGhhcm1vbml6aW5nJTIwc3RhbmRhcmRzJTIyJTJDJTBBJTIwJTIwJTIwJTIwZGlzcGxheSUzRCUyMnJ1eSUyMGIlMjIlMkMlMEElMjAlMjAlMjAlMjBhdXRob3JzJTNEJTIyUnV5JTJDJTIwRmFiaWFubyUyMEIlMjBhbmQlMjBGYWxibyUyQyUyMFJpY2FyZG8lMjBBJTIwYW5kJTIwQmFyY2VsbG9zJTJDJTIwTW9uYWxlc3NhJTIwUCUyMGFuZCUyMEd1aXp6YXJkaSUyQyUyMEdpYW5jYXJsbyUyMGFuZCUyMFF1aXJpbm8lMkMlMjBHbGFpY2UlMjBLUyUyMiUyQyUwQSUyMCUyMCUyMCUyMHBsYWNlJTNERkFLRSUyQyUwQSUyMCUyMCUyMCUyMHBwJTNEJTIyMjctLTQwJTIyJTJDJTBBJTIwJTIwJTIwJTIwZW50cnl0eXBlJTNEJTIyYXJ0aWNsZSUyMiUyQyUwQSUyMCUyMCUyMCUyMHZvbHVtZSUzRCUyMjE1JTIyJTJDJTBBJTIwJTIwJTIwJTIwbnVtYmVyJTNEJTIyMiUyMiUyQyUwQSUyMCUyMCUyMCUyMHB1Ymxpc2hlciUzRCUyMkFDTSUyMiUyQyUwQSUyMCUyMCUyMCUyMElEJTNEJTIycnV5MjAxNWlzbyUyMiUyQyUwQSUyMCUyMCUyMCUyMGdzMjAxNiUzRCUyMjElMjIlMkMlMEElMjAlMjAlMjAlMjBwbGFjZXglM0QlMjJBQ00lMjBTSUdBUFAlMjBBcHBsaWVkJTIwQ29tcHV0aW5nJTIwUmV2aWV3JTIyJTJDJTBBJTI5JTI5JTBBJTI3JTI3JTI3JTI5JTNC\")));\n",
       "    "
      ],
      "text/plain": [
       "<IPython.core.display.Javascript object>"
      ]
     },
     "metadata": {},
     "output_type": "display_data"
    },
    {
     "data": {
      "application/javascript": [
       "$('span:contains(\"# Temp\")').closest('.cell').remove();"
      ],
      "text/plain": [
       "<IPython.core.display.Javascript object>"
      ]
     },
     "metadata": {},
     "output_type": "display_data"
    },
    {
     "data": {
      "application/javascript": [
       "\n",
       "        $('span:contains(\"# Temp\")').closest('.cell').remove();\n",
       "        var code = IPython.notebook.insert_cell_below('code');\n",
       "        var prompt = code.element.find(\".input_prompt\");\n",
       "        prompt.append('<br><button style=\"height: 100%; width: 54px;\">Run</button>');\n",
       "        prompt.on(\"click\", \"button\", function(){\n",
       "            code.execute();\n",
       "        });\n",
       "        code.set_text(decodeURIComponent(window.atob(\"JTIzJTIwVGVtcCUwQWluc2VydCUyOCUyNyUyNyUyNyUwQW1lZGluYTBhJTIwJTNEJTIwREIlMjhXb3JrVW5yZWxhdGVkJTI4JTBBJTIwJTIwJTIwJTIwMCUyQyUyMCUyMkFwcHJvYWNoaW5nJTIwU29mdHdhcmUlMjBQcm9jZXNzJTIwSW1wcm92ZW1lbnQlMjB0byUyME9yZ2FuaXphdGlvbnMlMjB0aHJvdWdoJTIwdGhlJTIwUmV1c2UlMjBvZiUyMHRoZWlyJTIwUHJvY2Vzc2VzJTIwYW5kJTIwUHJvZHVjdHMlMjIlMkMlMEElMjAlMjAlMjAlMjBkaXNwbGF5JTNEJTIybWVkaW5hJTIyJTJDJTBBJTIwJTIwJTIwJTIwYXV0aG9ycyUzRCUyMk1lZGluYS1Eb20lQzMlQURuZ3VleiUyQyUyMEZ1ZW5zYW50YSUyMGFuZCUyMFNhbmNoZXotU2VndXJhJTJDJTIwTWFyaWEtSXNhYmVsJTIwYW5kJTIwTW9yYS1Tb3RvJTJDJTIwQXJ0dXJvJTIwYW5kJTIwR3V6bWFuJTJDJTIwSmF2aWVyJTIwR2FyYyVDMyVBRGElMjBhbmQlMjBBbWVzY3VhJTJDJTIwQW50b25pbyUyMiUyQyUwQSUyMCUyMCUyMCUyMHBsYWNlJTNERkFLRSUyQyUwQSUyMCUyMCUyMCUyMGVudHJ5dHlwZSUzRCUyMmFydGljbGUlMjIlMkMlMEElMjAlMjAlMjAlMjBJRCUzRCUyMm1lZGluYWFwcHJvYWNoaW5nJTIyJTJDJTBBJTIwJTIwJTIwJTIwZ3MyMDE2JTNEJTIyMSUyMiUyQyUwQSUyMCUyMCUyMCUyMHBsYWNleCUzRCUyMiUyMiUyQyUwQSUyOSUyOSUwQSUyNyUyNyUyNyUyOSUzQg==\")));\n",
       "    "
      ],
      "text/plain": [
       "<IPython.core.display.Javascript object>"
      ]
     },
     "metadata": {},
     "output_type": "display_data"
    },
    {
     "data": {
      "application/javascript": [
       "$('span:contains(\"# Temp\")').closest('.cell').remove();"
      ],
      "text/plain": [
       "<IPython.core.display.Javascript object>"
      ]
     },
     "metadata": {},
     "output_type": "display_data"
    },
    {
     "data": {
      "application/javascript": [
       "\n",
       "        $('span:contains(\"# Temp\")').closest('.cell').remove();\n",
       "        var code = IPython.notebook.insert_cell_below('code');\n",
       "        var prompt = code.element.find(\".input_prompt\");\n",
       "        prompt.append('<br><button style=\"height: 100%; width: 54px;\">Run</button>');\n",
       "        prompt.on(\"click\", \"button\", function(){\n",
       "            code.execute();\n",
       "        });\n",
       "        code.set_text(decodeURIComponent(window.atob(\"JTIzJTIwVGVtcCUwQWluc2VydCUyOCUyNyUyNyUyNyUwQW1lZGluYTBhJTIwJTNEJTIwREIlMjhXb3JrVW5yZWxhdGVkJTI4JTBBJTIwJTIwJTIwJTIwMCUyQyUyMCUyMkFwcHJvYWNoaW5nJTIwU29mdHdhcmUlMjBQcm9jZXNzJTIwSW1wcm92ZW1lbnQlMjB0byUyME9yZ2FuaXphdGlvbnMlMjB0aHJvdWdoJTIwdGhlJTIwUmV1c2UlMjBvZiUyMHRoZWlyJTIwUHJvY2Vzc2VzJTIwYW5kJTIwUHJvZHVjdHMlMjIlMkMlMEElMjAlMjAlMjAlMjBkaXNwbGF5JTNEJTIybWVkaW5hJTIyJTJDJTBBJTIwJTIwJTIwJTIwYXV0aG9ycyUzRCUyMk1lZGluYS1Eb20lQzMlQURuZ3VleiUyQyUyMEZ1ZW5zYW50YSUyMGFuZCUyMFNhbmNoZXotU2VndXJhJTJDJTIwTWFyaWEtSXNhYmVsJTIwYW5kJTIwTW9yYS1Tb3RvJTJDJTIwQXJ0dXJvJTIwYW5kJTIwR3V6bWFuJTJDJTIwSmF2aWVyJTIwR2FyYyVDMyVBRGElMjBhbmQlMjBBbWVzY3VhJTJDJTIwQW50b25pbyUyMiUyQyUwQSUyMCUyMCUyMCUyMHBsYWNlJTNERkFLRSUyQyUwQSUyMCUyMCUyMCUyMGVudHJ5dHlwZSUzRCUyMmFydGljbGUlMjIlMkMlMEElMjAlMjAlMjAlMjBJRCUzRCUyMm1lZGluYWFwcHJvYWNoaW5nJTIyJTJDJTBBJTIwJTIwJTIwJTIwZ3MyMDE2JTNEJTIyMSUyMiUyQyUwQSUyMCUyMCUyMCUyMHBsYWNleCUzRCUyMiUyMiUyQyUwQSUyOSUyOSUwQSUyNyUyNyUyNyUyOSUzQg==\")));\n",
       "    "
      ],
      "text/plain": [
       "<IPython.core.display.Javascript object>"
      ]
     },
     "metadata": {},
     "output_type": "display_data"
    },
    {
     "data": {
      "application/javascript": [
       "$('span:contains(\"# Temp\")').closest('.cell').remove();"
      ],
      "text/plain": [
       "<IPython.core.display.Javascript object>"
      ]
     },
     "metadata": {},
     "output_type": "display_data"
    },
    {
     "data": {
      "application/javascript": [
       "\n",
       "        $('span:contains(\"# Temp\")').closest('.cell').remove();\n",
       "        var code = IPython.notebook.insert_cell_below('code');\n",
       "        var prompt = code.element.find(\".input_prompt\");\n",
       "        prompt.append('<br><button style=\"height: 100%; width: 54px;\">Run</button>');\n",
       "        prompt.on(\"click\", \"button\", function(){\n",
       "            code.execute();\n",
       "        });\n",
       "        code.set_text(decodeURIComponent(window.atob(\"JTIzJTIwVGVtcCUwQWluc2VydCUyOCUyNyUyNyUyNyUwQWhlMjAxMmElMjAlM0QlMjBEQiUyOFdvcmtVbnJlbGF0ZWQlMjglMEElMjAlMjAlMjAlMjAyMDEyJTJDJTIwJTIyU29mdHdhcmUlMjBQcm9jZXNzJTIwTWFuYWdlbWVudCUyMEFzc2Vzc21lbnQlMjBUb3dhcmRzJTIwQ01NJTIwYSUyMFN5c3RlbWF0aWMlMjBBcHByb2FjaCUyMHRvJTIwT3B0aW1pemUlMjBJbnRlcm5hbCUyMFByb2Nlc3MlMjBJbXByb3ZlbWVudCUyMiUyQyUwQSUyMCUyMCUyMCUyMGRpc3BsYXklM0QlMjJoZSUyMiUyQyUwQSUyMCUyMCUyMCUyMGF1dGhvcnMlM0QlMjJIZSUyQyUyMFpob25nc2hpJTIwYW5kJTIwWm91JTJDJTIwRG9uZ3NoZW5nJTIwYW5kJTIwb3RoZXJzJTIyJTJDJTBBJTIwJTIwJTIwJTIwcGxhY2UlM0RGQUtFJTJDJTBBJTIwJTIwJTIwJTIwcHAlM0QlMjI0OTktLTUwNSUyMiUyQyUwQSUyMCUyMCUyMCUyMGVudHJ5dHlwZSUzRCUyMmluY29sbGVjdGlvbiUyMiUyQyUwQSUyMCUyMCUyMCUyMHB1Ymxpc2hlciUzRCUyMlNwcmluZ2VyJTIyJTJDJTBBJTIwJTIwJTIwJTIwSUQlM0QlMjJoZTIwMTJzb2Z0d2FyZSUyMiUyQyUwQSUyMCUyMCUyMCUyMGdzMjAxNiUzRCUyMjElMjIlMkMlMEElMjAlMjAlMjAlMjBwbGFjZXglM0QlMjJTb2Z0d2FyZSUyMEVuZ2luZWVyaW5nJTIwYW5kJTIwS25vd2xlZGdlJTIwRW5naW5lZXJpbmclM0ElMjBUaGVvcnklMjBhbmQlMjBQcmFjdGljZSUyMiUyQyUwQSUyOSUyOSUwQSUyNyUyNyUyNyUyOSUzQg==\")));\n",
       "    "
      ],
      "text/plain": [
       "<IPython.core.display.Javascript object>"
      ]
     },
     "metadata": {},
     "output_type": "display_data"
    },
    {
     "data": {
      "application/javascript": [
       "$('span:contains(\"# Temp\")').closest('.cell').remove();"
      ],
      "text/plain": [
       "<IPython.core.display.Javascript object>"
      ]
     },
     "metadata": {},
     "output_type": "display_data"
    },
    {
     "data": {
      "application/javascript": [
       "\n",
       "        $('span:contains(\"# Temp\")').closest('.cell').remove();\n",
       "        var code = IPython.notebook.insert_cell_below('code');\n",
       "        var prompt = code.element.find(\".input_prompt\");\n",
       "        prompt.append('<br><button style=\"height: 100%; width: 54px;\">Run</button>');\n",
       "        prompt.on(\"click\", \"button\", function(){\n",
       "            code.execute();\n",
       "        });\n",
       "        code.set_text(decodeURIComponent(window.atob(\"JTIzJTIwVGVtcCUwQWluc2VydCUyOCUyNyUyNyUyNyUwQWhlMjAxMmElMjAlM0QlMjBEQiUyOFdvcmtVbnJlbGF0ZWQlMjglMEElMjAlMjAlMjAlMjAyMDEyJTJDJTIwJTIyU29mdHdhcmUlMjBQcm9jZXNzJTIwTWFuYWdlbWVudCUyMEFzc2Vzc21lbnQlMjBUb3dhcmRzJTIwQ01NJTIwYSUyMFN5c3RlbWF0aWMlMjBBcHByb2FjaCUyMHRvJTIwT3B0aW1pemUlMjBJbnRlcm5hbCUyMFByb2Nlc3MlMjBJbXByb3ZlbWVudCUyMiUyQyUwQSUyMCUyMCUyMCUyMGRpc3BsYXklM0QlMjJoZSUyMiUyQyUwQSUyMCUyMCUyMCUyMGF1dGhvcnMlM0QlMjJIZSUyQyUyMFpob25nc2hpJTIwYW5kJTIwWm91JTJDJTIwRG9uZ3NoZW5nJTIwYW5kJTIwb3RoZXJzJTIyJTJDJTBBJTIwJTIwJTIwJTIwcGxhY2UlM0RGQUtFJTJDJTBBJTIwJTIwJTIwJTIwcHAlM0QlMjI0OTktLTUwNSUyMiUyQyUwQSUyMCUyMCUyMCUyMGVudHJ5dHlwZSUzRCUyMmluY29sbGVjdGlvbiUyMiUyQyUwQSUyMCUyMCUyMCUyMHB1Ymxpc2hlciUzRCUyMlNwcmluZ2VyJTIyJTJDJTBBJTIwJTIwJTIwJTIwSUQlM0QlMjJoZTIwMTJzb2Z0d2FyZSUyMiUyQyUwQSUyMCUyMCUyMCUyMGdzMjAxNiUzRCUyMjElMjIlMkMlMEElMjAlMjAlMjAlMjBwbGFjZXglM0QlMjJTb2Z0d2FyZSUyMEVuZ2luZWVyaW5nJTIwYW5kJTIwS25vd2xlZGdlJTIwRW5naW5lZXJpbmclM0ElMjBUaGVvcnklMjBhbmQlMjBQcmFjdGljZSUyMiUyQyUwQSUyOSUyOSUwQSUyNyUyNyUyNyUyOSUzQg==\")));\n",
       "    "
      ],
      "text/plain": [
       "<IPython.core.display.Javascript object>"
      ]
     },
     "metadata": {},
     "output_type": "display_data"
    },
    {
     "data": {
      "application/javascript": [
       "$('span:contains(\"# Temp\")').closest('.cell').remove();"
      ],
      "text/plain": [
       "<IPython.core.display.Javascript object>"
      ]
     },
     "metadata": {},
     "output_type": "display_data"
    },
    {
     "data": {
      "application/javascript": [
       "\n",
       "        $('span:contains(\"# Temp\")').closest('.cell').remove();\n",
       "        var code = IPython.notebook.insert_cell_below('code');\n",
       "        var prompt = code.element.find(\".input_prompt\");\n",
       "        prompt.append('<br><button style=\"height: 100%; width: 54px;\">Run</button>');\n",
       "        prompt.on(\"click\", \"button\", function(){\n",
       "            code.execute();\n",
       "        });\n",
       "        code.set_text(decodeURIComponent(window.atob(\"JTIzJTIwVGVtcCUwQWluc2VydCUyOCUyNyUyNyUyNyUwQWJlcm0lQzMlQjNuMjAwOWElMjAlM0QlMjBEQiUyOFdvcmtVbnJlbGF0ZWQlMjglMEElMjAlMjAlMjAlMjAyMDA5JTJDJTIwJTIyU29mdHdhcmUlMjBQcm9jZXNzJTIwQXNzZXQlMjBMaWJyYXJpZXMlMjBVc2luZyUyMEtub3dsZWRnZSUyMFJlcG9zaXRvcmllcyUyMiUyQyUwQSUyMCUyMCUyMCUyMGRpc3BsYXklM0QlMjJiZXJtJUMzJUIzbiUyMiUyQyUwQSUyMCUyMCUyMCUyMGF1dGhvcnMlM0QlMjJCZXJtJUMzJUIzbi1Bbmdhcml0YSUyQyUyMExlb25hcmRvJTIwYW5kJTIwQW1lc2N1YS1TZWNvJTJDJTIwQW50b25pbyUyMGFuZCUyMFMlQzMlQTFuY2hlei1TZWd1cmElMkMlMjBNYXJpYSUyMElzYWJlbCUyMGFuZCUyMEdhcmMlQzMlQURhLUd1em0lQzMlQTFuJTJDJTIwSmF2aWVyJTIyJTJDJTBBJTIwJTIwJTIwJTIwcGxhY2UlM0RGQUtFJTJDJTBBJTIwJTIwJTIwJTIwcHAlM0QlMjI0NjUtLTQ3NSUyMiUyQyUwQSUyMCUyMCUyMCUyMGVudHJ5dHlwZSUzRCUyMmluY29sbGVjdGlvbiUyMiUyQyUwQSUyMCUyMCUyMCUyMHB1Ymxpc2hlciUzRCUyMklHSSUyMEdsb2JhbCUyMiUyQyUwQSUyMCUyMCUyMCUyMElEJTNEJTIyYmVybW9uMjAwOXNvZnR3YXJlJTIyJTJDJTBBJTIwJTIwJTIwJTIwZ3MyMDE2JTNEJTIyMSUyMiUyQyUwQSUyMCUyMCUyMCUyMHBsYWNleCUzRCUyMkhhbmRib29rJTIwb2YlMjBSZXNlYXJjaCUyMG9uJTIwRGlnaXRhbCUyMExpYnJhcmllcyUzQSUyMERlc2lnbiUyQyUyMERldmVsb3BtZW50JTJDJTIwYW5kJTIwSW1wYWN0JTIyJTJDJTBBJTI5JTI5JTBBJTI3JTI3JTI3JTI5JTNC\")));\n",
       "    "
      ],
      "text/plain": [
       "<IPython.core.display.Javascript object>"
      ]
     },
     "metadata": {},
     "output_type": "display_data"
    },
    {
     "data": {
      "application/javascript": [
       "$('span:contains(\"# Temp\")').closest('.cell').remove();"
      ],
      "text/plain": [
       "<IPython.core.display.Javascript object>"
      ]
     },
     "metadata": {},
     "output_type": "display_data"
    },
    {
     "data": {
      "application/javascript": [
       "\n",
       "        $('span:contains(\"# Temp\")').closest('.cell').remove();\n",
       "        var code = IPython.notebook.insert_cell_below('code');\n",
       "        var prompt = code.element.find(\".input_prompt\");\n",
       "        prompt.append('<br><button style=\"height: 100%; width: 54px;\">Run</button>');\n",
       "        prompt.on(\"click\", \"button\", function(){\n",
       "            code.execute();\n",
       "        });\n",
       "        code.set_text(decodeURIComponent(window.atob(\"JTIzJTIwVGVtcCUwQWluc2VydCUyOCUyNyUyNyUyNyUwQWJlcm0lQzMlQjNuMjAwOWElMjAlM0QlMjBEQiUyOFdvcmtVbnJlbGF0ZWQlMjglMEElMjAlMjAlMjAlMjAyMDA5JTJDJTIwJTIyU29mdHdhcmUlMjBQcm9jZXNzJTIwQXNzZXQlMjBMaWJyYXJpZXMlMjBVc2luZyUyMEtub3dsZWRnZSUyMFJlcG9zaXRvcmllcyUyMiUyQyUwQSUyMCUyMCUyMCUyMGRpc3BsYXklM0QlMjJiZXJtJUMzJUIzbiUyMiUyQyUwQSUyMCUyMCUyMCUyMGF1dGhvcnMlM0QlMjJCZXJtJUMzJUIzbi1Bbmdhcml0YSUyQyUyMExlb25hcmRvJTIwYW5kJTIwQW1lc2N1YS1TZWNvJTJDJTIwQW50b25pbyUyMGFuZCUyMFMlQzMlQTFuY2hlei1TZWd1cmElMkMlMjBNYXJpYSUyMElzYWJlbCUyMGFuZCUyMEdhcmMlQzMlQURhLUd1em0lQzMlQTFuJTJDJTIwSmF2aWVyJTIyJTJDJTBBJTIwJTIwJTIwJTIwcGxhY2UlM0RGQUtFJTJDJTBBJTIwJTIwJTIwJTIwcHAlM0QlMjI0NjUtLTQ3NSUyMiUyQyUwQSUyMCUyMCUyMCUyMGVudHJ5dHlwZSUzRCUyMmluY29sbGVjdGlvbiUyMiUyQyUwQSUyMCUyMCUyMCUyMHB1Ymxpc2hlciUzRCUyMklHSSUyMEdsb2JhbCUyMiUyQyUwQSUyMCUyMCUyMCUyMElEJTNEJTIyYmVybW9uMjAwOXNvZnR3YXJlJTIyJTJDJTBBJTIwJTIwJTIwJTIwZ3MyMDE2JTNEJTIyMSUyMiUyQyUwQSUyMCUyMCUyMCUyMHBsYWNleCUzRCUyMkhhbmRib29rJTIwb2YlMjBSZXNlYXJjaCUyMG9uJTIwRGlnaXRhbCUyMExpYnJhcmllcyUzQSUyMERlc2lnbiUyQyUyMERldmVsb3BtZW50JTJDJTIwYW5kJTIwSW1wYWN0JTIyJTJDJTBBJTI5JTI5JTBBJTI3JTI3JTI3JTI5JTNC\")));\n",
       "    "
      ],
      "text/plain": [
       "<IPython.core.display.Javascript object>"
      ]
     },
     "metadata": {},
     "output_type": "display_data"
    },
    {
     "data": {
      "application/javascript": [
       "$('span:contains(\"# Temp\")').closest('.cell').remove();"
      ],
      "text/plain": [
       "<IPython.core.display.Javascript object>"
      ]
     },
     "metadata": {},
     "output_type": "display_data"
    },
    {
     "data": {
      "application/javascript": [
       "\n",
       "        $('span:contains(\"# Temp\")').closest('.cell').remove();\n",
       "        var code = IPython.notebook.insert_cell_below('code');\n",
       "        var prompt = code.element.find(\".input_prompt\");\n",
       "        prompt.append('<br><button style=\"height: 100%; width: 54px;\">Run</button>');\n",
       "        prompt.on(\"click\", \"button\", function(){\n",
       "            code.execute();\n",
       "        });\n",
       "        code.set_text(decodeURIComponent(window.atob(\"JTIzJTIwVGVtcCUwQWluc2VydCUyOCUyNyUyNyUyNyUwQWNob2kyMDExYSUyMCUzRCUyMERCJTI4V29ya1VucmVsYXRlZCUyOCUwQSUyMCUyMCUyMCUyMDIwMTElMkMlMjAlMjJTZW1hbnRpYyUyMHByb2Nlc3MlMjBtYW5hZ2VtZW50JTIwZW52aXJvbm1lbnQlMjIlMkMlMEElMjAlMjAlMjAlMjBkaXNwbGF5JTNEJTIyY2hvaSUyMiUyQyUwQSUyMCUyMCUyMCUyMGF1dGhvcnMlM0QlMjJDaG9pJTJDJTIwU2V1bmdZb3VuZyUyMiUyQyUwQSUyMCUyMCUyMCUyMHBsYWNlJTNERkFLRSUyQyUwQSUyMCUyMCUyMCUyMHBwJTNEJTIyMTA2LS0xMTAlMjIlMkMlMEElMjAlMjAlMjAlMjBlbnRyeXR5cGUlM0QlMjJpbnByb2NlZWRpbmdzJTIyJTJDJTBBJTIwJTIwJTIwJTIwb3JnYW5pemF0aW9uJTNEJTIySUVFRSUyMiUyQyUwQSUyMCUyMCUyMCUyMElEJTNEJTIyY2hvaTIwMTFzZW1hbnRpYyUyMiUyQyUwQSUyMCUyMCUyMCUyMGdzMjAxNiUzRCUyMjElMjIlMkMlMEElMjAlMjAlMjAlMjBwbGFjZXglM0QlMjJVYmlxdWl0b3VzJTIwQ29tcHV0aW5nJTIwYW5kJTIwTXVsdGltZWRpYSUyMEFwcGxpY2F0aW9ucyUyMCUyOFVDTUElMjklMkMlMjAyMDExJTIwSW50ZXJuYXRpb25hbCUyMENvbmZlcmVuY2UlMjBvbiUyMiUyQyUwQSUyOSUyOSUwQSUyNyUyNyUyNyUyOSUzQg==\")));\n",
       "    "
      ],
      "text/plain": [
       "<IPython.core.display.Javascript object>"
      ]
     },
     "metadata": {},
     "output_type": "display_data"
    },
    {
     "data": {
      "application/javascript": [
       "$('span:contains(\"# Temp\")').closest('.cell').remove();"
      ],
      "text/plain": [
       "<IPython.core.display.Javascript object>"
      ]
     },
     "metadata": {},
     "output_type": "display_data"
    },
    {
     "data": {
      "application/javascript": [
       "\n",
       "        $('span:contains(\"# Temp\")').closest('.cell').remove();\n",
       "        var code = IPython.notebook.insert_cell_below('code');\n",
       "        var prompt = code.element.find(\".input_prompt\");\n",
       "        prompt.append('<br><button style=\"height: 100%; width: 54px;\">Run</button>');\n",
       "        prompt.on(\"click\", \"button\", function(){\n",
       "            code.execute();\n",
       "        });\n",
       "        code.set_text(decodeURIComponent(window.atob(\"JTIzJTIwVGVtcCUwQWluc2VydCUyOCUyNyUyNyUyNyUwQWNob2kyMDExYSUyMCUzRCUyMERCJTI4V29ya1VucmVsYXRlZCUyOCUwQSUyMCUyMCUyMCUyMDIwMTElMkMlMjAlMjJTZW1hbnRpYyUyMHByb2Nlc3MlMjBtYW5hZ2VtZW50JTIwZW52aXJvbm1lbnQlMjIlMkMlMEElMjAlMjAlMjAlMjBkaXNwbGF5JTNEJTIyY2hvaSUyMiUyQyUwQSUyMCUyMCUyMCUyMGF1dGhvcnMlM0QlMjJDaG9pJTJDJTIwU2V1bmdZb3VuZyUyMiUyQyUwQSUyMCUyMCUyMCUyMHBsYWNlJTNERkFLRSUyQyUwQSUyMCUyMCUyMCUyMHBwJTNEJTIyMTA2LS0xMTAlMjIlMkMlMEElMjAlMjAlMjAlMjBlbnRyeXR5cGUlM0QlMjJpbnByb2NlZWRpbmdzJTIyJTJDJTBBJTIwJTIwJTIwJTIwb3JnYW5pemF0aW9uJTNEJTIySUVFRSUyMiUyQyUwQSUyMCUyMCUyMCUyMElEJTNEJTIyY2hvaTIwMTFzZW1hbnRpYyUyMiUyQyUwQSUyMCUyMCUyMCUyMGdzMjAxNiUzRCUyMjElMjIlMkMlMEElMjAlMjAlMjAlMjBwbGFjZXglM0QlMjJVYmlxdWl0b3VzJTIwQ29tcHV0aW5nJTIwYW5kJTIwTXVsdGltZWRpYSUyMEFwcGxpY2F0aW9ucyUyMCUyOFVDTUElMjklMkMlMjAyMDExJTIwSW50ZXJuYXRpb25hbCUyMENvbmZlcmVuY2UlMjBvbiUyMiUyQyUwQSUyOSUyOSUwQSUyNyUyNyUyNyUyOSUzQg==\")));\n",
       "    "
      ],
      "text/plain": [
       "<IPython.core.display.Javascript object>"
      ]
     },
     "metadata": {},
     "output_type": "display_data"
    },
    {
     "data": {
      "application/javascript": [
       "$('span:contains(\"# Temp\")').closest('.cell').remove();"
      ],
      "text/plain": [
       "<IPython.core.display.Javascript object>"
      ]
     },
     "metadata": {},
     "output_type": "display_data"
    },
    {
     "data": {
      "application/javascript": [
       "\n",
       "        $('span:contains(\"# Temp\")').closest('.cell').remove();\n",
       "        var code = IPython.notebook.insert_cell_below('code');\n",
       "        var prompt = code.element.find(\".input_prompt\");\n",
       "        prompt.append('<br><button style=\"height: 100%; width: 54px;\">Run</button>');\n",
       "        prompt.on(\"click\", \"button\", function(){\n",
       "            code.execute();\n",
       "        });\n",
       "        code.set_text(decodeURIComponent(window.atob(\"JTIzJTIwVGVtcCUwQWluc2VydCUyOCUyNyUyNyUyNyUwQWN1YWRyYWRvMjAwOGElMjAlM0QlMjBEQiUyOFdvcmtVbnJlbGF0ZWQlMjglMEElMjAlMjAlMjAlMjAyMDA4JTJDJTIwJTIyU29mdHdhcmUlMjBQcm9jZXNzJTIwYW5kJTIwUHJvZHVjdCUyME1lYXN1cmVtZW50JTIyJTJDJTBBJTIwJTIwJTIwJTIwZGlzcGxheSUzRCUyMmN1YWRyYWRvJTIyJTJDJTBBJTIwJTIwJTIwJTIwYXV0aG9ycyUzRCUyMkN1YWRyYWRvLUdhbGxlZ28lMkMlMjBKdWFuJTIwSiUyMGFuZCUyMER1bWtlJTJDJTIwUmVuJUMzJUE5JTIwQnJhdW5nYXJ0ZW4lMjBSZWluZXIlMjBSJTIwYW5kJTIwQWJyYW4lMkMlMjBBbGFpbiUyMiUyQyUwQSUyMCUyMCUyMCUyMHBsYWNlJTNERkFLRSUyQyUwQSUyMCUyMCUyMCUyMGVudHJ5dHlwZSUzRCUyMmFydGljbGUlMjIlMkMlMEElMjAlMjAlMjAlMjBwdWJsaXNoZXIlM0QlMjJTcHJpbmdlciUyMiUyQyUwQSUyMCUyMCUyMCUyMElEJTNEJTIyY3VhZHJhZG8yMDA4c29mdHdhcmUlMjIlMkMlMEElMjAlMjAlMjAlMjBnczIwMTYlM0QlMjIxJTIyJTJDJTBBJTIwJTIwJTIwJTIwcGxhY2V4JTNEJTIyJTIyJTJDJTBBJTI5JTI5JTBBJTI3JTI3JTI3JTI5JTNC\")));\n",
       "    "
      ],
      "text/plain": [
       "<IPython.core.display.Javascript object>"
      ]
     },
     "metadata": {},
     "output_type": "display_data"
    },
    {
     "data": {
      "application/javascript": [
       "$('span:contains(\"# Temp\")').closest('.cell').remove();"
      ],
      "text/plain": [
       "<IPython.core.display.Javascript object>"
      ]
     },
     "metadata": {},
     "output_type": "display_data"
    },
    {
     "data": {
      "application/javascript": [
       "\n",
       "        $('span:contains(\"# Temp\")').closest('.cell').remove();\n",
       "        var code = IPython.notebook.insert_cell_below('code');\n",
       "        var prompt = code.element.find(\".input_prompt\");\n",
       "        prompt.append('<br><button style=\"height: 100%; width: 54px;\">Run</button>');\n",
       "        prompt.on(\"click\", \"button\", function(){\n",
       "            code.execute();\n",
       "        });\n",
       "        code.set_text(decodeURIComponent(window.atob(\"JTIzJTIwVGVtcCUwQWluc2VydCUyOCUyNyUyNyUyNyUwQWN1YWRyYWRvMjAwOGElMjAlM0QlMjBEQiUyOFdvcmtVbnJlbGF0ZWQlMjglMEElMjAlMjAlMjAlMjAyMDA4JTJDJTIwJTIyU29mdHdhcmUlMjBQcm9jZXNzJTIwYW5kJTIwUHJvZHVjdCUyME1lYXN1cmVtZW50JTIyJTJDJTBBJTIwJTIwJTIwJTIwZGlzcGxheSUzRCUyMmN1YWRyYWRvJTIyJTJDJTBBJTIwJTIwJTIwJTIwYXV0aG9ycyUzRCUyMkN1YWRyYWRvLUdhbGxlZ28lMkMlMjBKdWFuJTIwSiUyMGFuZCUyMER1bWtlJTJDJTIwUmVuJUMzJUE5JTIwQnJhdW5nYXJ0ZW4lMjBSZWluZXIlMjBSJTIwYW5kJTIwQWJyYW4lMkMlMjBBbGFpbiUyMiUyQyUwQSUyMCUyMCUyMCUyMHBsYWNlJTNERkFLRSUyQyUwQSUyMCUyMCUyMCUyMGVudHJ5dHlwZSUzRCUyMmFydGljbGUlMjIlMkMlMEElMjAlMjAlMjAlMjBwdWJsaXNoZXIlM0QlMjJTcHJpbmdlciUyMiUyQyUwQSUyMCUyMCUyMCUyMElEJTNEJTIyY3VhZHJhZG8yMDA4c29mdHdhcmUlMjIlMkMlMEElMjAlMjAlMjAlMjBnczIwMTYlM0QlMjIxJTIyJTJDJTBBJTIwJTIwJTIwJTIwcGxhY2V4JTNEJTIyJTIyJTJDJTBBJTI5JTI5JTBBJTI3JTI3JTI3JTI5JTNC\")));\n",
       "    "
      ],
      "text/plain": [
       "<IPython.core.display.Javascript object>"
      ]
     },
     "metadata": {},
     "output_type": "display_data"
    },
    {
     "data": {
      "application/javascript": [
       "$('span:contains(\"# Temp\")').closest('.cell').remove();"
      ],
      "text/plain": [
       "<IPython.core.display.Javascript object>"
      ]
     },
     "metadata": {},
     "output_type": "display_data"
    },
    {
     "data": {
      "application/javascript": [
       "\n",
       "        $('span:contains(\"# Temp\")').closest('.cell').remove();\n",
       "        var code = IPython.notebook.insert_cell_below('code');\n",
       "        var prompt = code.element.find(\".input_prompt\");\n",
       "        prompt.append('<br><button style=\"height: 100%; width: 54px;\">Run</button>');\n",
       "        prompt.on(\"click\", \"button\", function(){\n",
       "            code.execute();\n",
       "        });\n",
       "        code.set_text(decodeURIComponent(window.atob(\"JTIzJTIwVGVtcCUwQWluc2VydCUyOCUyNyUyNyUyNyUwQWxlYWwyMDEyYSUyMCUzRCUyMERCJTI4V29ya1VucmVsYXRlZCUyOCUwQSUyMCUyMCUyMCUyMDIwMTIlMkMlMjAlMjJPbnRvbG9neSUyMGJhc2VkJTIwc29mdHdhcmUlMjBkZXZlbG9wbWVudCUyMGdvb2QlMjBwcmFjdGljZXMlMjBzZWxlY3Rpb24lMjBmb3IlMjBhZG9wdGlvbiUyMGluJTIwbWljcm8tZW50ZXJwcmlzZXMlMjIlMkMlMEElMjAlMjAlMjAlMjBkaXNwbGF5JTNEJTIybGVhbCUyMiUyQyUwQSUyMCUyMCUyMCUyMGF1dGhvcnMlM0QlMjJkZSUyMENhc3RybyUyMExlYWwlMkMlMjBBbmRyJUMzJUE5JTIwTHVpeiUyMGFuZCUyMEJyYWdhJTJDJTIwSm9zJUMzJUE5JTIwTHVpcyUyMGFuZCUyMFNvYXJlcyUyQyUyMExpemlhbmUlMjBTYW50b3MlMjBhbmQlMjBTYXRsZXIlMkMlMjBCcnVubyUyMFRvcnJlcyUyMiUyQyUwQSUyMCUyMCUyMCUyMHBsYWNlJTNERkFLRSUyQyUwQSUyMCUyMCUyMCUyMHBwJTNEJTIyMS0tOCUyMiUyQyUwQSUyMCUyMCUyMCUyMGVudHJ5dHlwZSUzRCUyMmlucHJvY2VlZGluZ3MlMjIlMkMlMEElMjAlMjAlMjAlMjBvcmdhbml6YXRpb24lM0QlMjJJRUVFJTIyJTJDJTBBJTIwJTIwJTIwJTIwSUQlM0QlMjJkZTIwMTJvbnRvbG9neSUyMiUyQyUwQSUyMCUyMCUyMCUyMGdzMjAxNiUzRCUyMjElMjIlMkMlMEElMjAlMjAlMjAlMjBwbGFjZXglM0QlMjJJbmZvcm1hdGljYSUyMCUyOENMRUklMjklMkMlMjAyMDEyJTIwWFhYVklJSSUyMENvbmZlcmVuY2lhJTIwTGF0aW5vYW1lcmljYW5hJTIwRW4lMjIlMkMlMEElMjklMjklMEElMjclMjclMjclMjklM0I=\")));\n",
       "    "
      ],
      "text/plain": [
       "<IPython.core.display.Javascript object>"
      ]
     },
     "metadata": {},
     "output_type": "display_data"
    },
    {
     "data": {
      "application/javascript": [
       "$('span:contains(\"# Temp\")').closest('.cell').remove();"
      ],
      "text/plain": [
       "<IPython.core.display.Javascript object>"
      ]
     },
     "metadata": {},
     "output_type": "display_data"
    },
    {
     "data": {
      "application/javascript": [
       "\n",
       "        $('span:contains(\"# Temp\")').closest('.cell').remove();\n",
       "        var code = IPython.notebook.insert_cell_below('code');\n",
       "        var prompt = code.element.find(\".input_prompt\");\n",
       "        prompt.append('<br><button style=\"height: 100%; width: 54px;\">Run</button>');\n",
       "        prompt.on(\"click\", \"button\", function(){\n",
       "            code.execute();\n",
       "        });\n",
       "        code.set_text(decodeURIComponent(window.atob(\"JTIzJTIwVGVtcCUwQWluc2VydCUyOCUyNyUyNyUyNyUwQWxlYWwyMDEyYSUyMCUzRCUyMERCJTI4V29ya1VucmVsYXRlZCUyOCUwQSUyMCUyMCUyMCUyMDIwMTIlMkMlMjAlMjJPbnRvbG9neSUyMGJhc2VkJTIwc29mdHdhcmUlMjBkZXZlbG9wbWVudCUyMGdvb2QlMjBwcmFjdGljZXMlMjBzZWxlY3Rpb24lMjBmb3IlMjBhZG9wdGlvbiUyMGluJTIwbWljcm8tZW50ZXJwcmlzZXMlMjIlMkMlMEElMjAlMjAlMjAlMjBkaXNwbGF5JTNEJTIybGVhbCUyMiUyQyUwQSUyMCUyMCUyMCUyMGF1dGhvcnMlM0QlMjJkZSUyMENhc3RybyUyMExlYWwlMkMlMjBBbmRyJUMzJUE5JTIwTHVpeiUyMGFuZCUyMEJyYWdhJTJDJTIwSm9zJUMzJUE5JTIwTHVpcyUyMGFuZCUyMFNvYXJlcyUyQyUyMExpemlhbmUlMjBTYW50b3MlMjBhbmQlMjBTYXRsZXIlMkMlMjBCcnVubyUyMFRvcnJlcyUyMiUyQyUwQSUyMCUyMCUyMCUyMHBsYWNlJTNERkFLRSUyQyUwQSUyMCUyMCUyMCUyMHBwJTNEJTIyMS0tOCUyMiUyQyUwQSUyMCUyMCUyMCUyMGVudHJ5dHlwZSUzRCUyMmlucHJvY2VlZGluZ3MlMjIlMkMlMEElMjAlMjAlMjAlMjBvcmdhbml6YXRpb24lM0QlMjJJRUVFJTIyJTJDJTBBJTIwJTIwJTIwJTIwSUQlM0QlMjJkZTIwMTJvbnRvbG9neSUyMiUyQyUwQSUyMCUyMCUyMCUyMGdzMjAxNiUzRCUyMjElMjIlMkMlMEElMjAlMjAlMjAlMjBwbGFjZXglM0QlMjJJbmZvcm1hdGljYSUyMCUyOENMRUklMjklMkMlMjAyMDEyJTIwWFhYVklJSSUyMENvbmZlcmVuY2lhJTIwTGF0aW5vYW1lcmljYW5hJTIwRW4lMjIlMkMlMEElMjklMjklMEElMjclMjclMjclMjklM0I=\")));\n",
       "    "
      ],
      "text/plain": [
       "<IPython.core.display.Javascript object>"
      ]
     },
     "metadata": {},
     "output_type": "display_data"
    },
    {
     "data": {
      "application/javascript": [
       "$('span:contains(\"# Temp\")').closest('.cell').remove();"
      ],
      "text/plain": [
       "<IPython.core.display.Javascript object>"
      ]
     },
     "metadata": {},
     "output_type": "display_data"
    },
    {
     "data": {
      "application/javascript": [
       "\n",
       "        $('span:contains(\"# Temp\")').closest('.cell').remove();\n",
       "        var code = IPython.notebook.insert_cell_below('code');\n",
       "        var prompt = code.element.find(\".input_prompt\");\n",
       "        prompt.append('<br><button style=\"height: 100%; width: 54px;\">Run</button>');\n",
       "        prompt.on(\"click\", \"button\", function(){\n",
       "            code.execute();\n",
       "        });\n",
       "        code.set_text(decodeURIComponent(window.atob(\"JTIzJTIwVGVtcCUwQWluc2VydCUyOCUyNyUyNyUyNyUwQWtyZWluZXIyMDE2YSUyMCUzRCUyMERCJTI4V29ya1VucmVsYXRlZCUyOCUwQSUyMCUyMCUyMCUyMDIwMTYlMkMlMjAlMjJTeXN0ZW1zJTJDJTIwU29mdHdhcmUlMjBhbmQlMjBTZXJ2aWNlcyUyMFByb2Nlc3MlMjBJbXByb3ZlbWVudCUyMiUyQyUwQSUyMCUyMCUyMCUyMGRpc3BsYXklM0QlMjJrcmVpbmVyJTIyJTJDJTBBJTIwJTIwJTIwJTIwYXV0aG9ycyUzRCUyMktyZWluZXIlMkMlMjBDaHJpc3RpYW4lMjBhbmQlMjBPJTI3Q29ubm9yJTJDJTIwUm9yeSUyMFYlMjBhbmQlMjBQb3RoJTJDJTIwQWxleGFuZGVyJTIwYW5kJTIwTWVzc25hcnolMkMlMjBSaWNoYXJkJTIyJTJDJTBBJTIwJTIwJTIwJTIwcGxhY2UlM0RCb29rJTJDJTBBJTIwJTIwJTIwJTIwZW50cnl0eXBlJTNEJTIyYm9vayUyMiUyQyUwQSUyMCUyMCUyMCUyMHB1Ymxpc2hlciUzRCUyMlNwcmluZ2VyJTIyJTJDJTBBJTIwJTIwJTIwJTIwSUQlM0QlMjJrcmVpbmVyMjAxNnN5c3RlbXMlMjIlMkMlMEElMjAlMjAlMjAlMjBnczIwMTYlM0QlMjIxJTIyJTJDJTBBJTIwJTIwJTIwJTIwcGxhY2V4JTNEJTIyJTIyJTJDJTBBJTI5JTI5JTBBJTI3JTI3JTI3JTI5JTNC\")));\n",
       "    "
      ],
      "text/plain": [
       "<IPython.core.display.Javascript object>"
      ]
     },
     "metadata": {},
     "output_type": "display_data"
    },
    {
     "data": {
      "application/javascript": [
       "$('span:contains(\"# Temp\")').closest('.cell').remove();"
      ],
      "text/plain": [
       "<IPython.core.display.Javascript object>"
      ]
     },
     "metadata": {},
     "output_type": "display_data"
    },
    {
     "data": {
      "application/javascript": [
       "\n",
       "        $('span:contains(\"# Temp\")').closest('.cell').remove();\n",
       "        var code = IPython.notebook.insert_cell_below('code');\n",
       "        var prompt = code.element.find(\".input_prompt\");\n",
       "        prompt.append('<br><button style=\"height: 100%; width: 54px;\">Run</button>');\n",
       "        prompt.on(\"click\", \"button\", function(){\n",
       "            code.execute();\n",
       "        });\n",
       "        code.set_text(decodeURIComponent(window.atob(\"JTIzJTIwVGVtcCUwQWluc2VydCUyOCUyNyUyNyUyNyUwQWtyZWluZXIyMDE2YSUyMCUzRCUyMERCJTI4V29ya1VucmVsYXRlZCUyOCUwQSUyMCUyMCUyMCUyMDIwMTYlMkMlMjAlMjJTeXN0ZW1zJTJDJTIwU29mdHdhcmUlMjBhbmQlMjBTZXJ2aWNlcyUyMFByb2Nlc3MlMjBJbXByb3ZlbWVudCUyMiUyQyUwQSUyMCUyMCUyMCUyMGRpc3BsYXklM0QlMjJrcmVpbmVyJTIyJTJDJTBBJTIwJTIwJTIwJTIwYXV0aG9ycyUzRCUyMktyZWluZXIlMkMlMjBDaHJpc3RpYW4lMjBhbmQlMjBPJTI3Q29ubm9yJTJDJTIwUm9yeSUyMFYlMjBhbmQlMjBQb3RoJTJDJTIwQWxleGFuZGVyJTIwYW5kJTIwTWVzc25hcnolMkMlMjBSaWNoYXJkJTIyJTJDJTBBJTIwJTIwJTIwJTIwcGxhY2UlM0RCb29rJTJDJTBBJTIwJTIwJTIwJTIwZW50cnl0eXBlJTNEJTIyYm9vayUyMiUyQyUwQSUyMCUyMCUyMCUyMHB1Ymxpc2hlciUzRCUyMlNwcmluZ2VyJTIyJTJDJTBBJTIwJTIwJTIwJTIwSUQlM0QlMjJrcmVpbmVyMjAxNnN5c3RlbXMlMjIlMkMlMEElMjAlMjAlMjAlMjBnczIwMTYlM0QlMjIxJTIyJTJDJTBBJTIwJTIwJTIwJTIwcGxhY2V4JTNEJTIyJTIyJTJDJTBBJTI5JTI5JTBBJTI3JTI3JTI3JTI5JTNC\")));\n",
       "    "
      ],
      "text/plain": [
       "<IPython.core.display.Javascript object>"
      ]
     },
     "metadata": {},
     "output_type": "display_data"
    },
    {
     "data": {
      "application/javascript": [
       "$('span:contains(\"# Temp\")').closest('.cell').remove();"
      ],
      "text/plain": [
       "<IPython.core.display.Javascript object>"
      ]
     },
     "metadata": {},
     "output_type": "display_data"
    },
    {
     "data": {
      "application/javascript": [
       "\n",
       "        $('span:contains(\"# Temp\")').closest('.cell').remove();\n",
       "        var code = IPython.notebook.insert_cell_below('code');\n",
       "        var prompt = code.element.find(\".input_prompt\");\n",
       "        prompt.append('<br><button style=\"height: 100%; width: 54px;\">Run</button>');\n",
       "        prompt.on(\"click\", \"button\", function(){\n",
       "            code.execute();\n",
       "        });\n",
       "        code.set_text(decodeURIComponent(window.atob(\"JTIzJTIwVGVtcCUwQWluc2VydCUyOCUyNyUyNyUyNyUwQXAlQzMlQURjaGEyMDE2YSUyMCUzRCUyMERCJTI4V29ya1VucmVsYXRlZCUyOCUwQSUyMCUyMCUyMCUyMDIwMTYlMkMlMjAlMjJBbG0lMjB0b29sJTIwZGF0YSUyMHVzYWdlJTIwaW4lMjBzb2Z0d2FyZSUyMHByb2Nlc3MlMjBtZXRhbW9kZWxpbmclMjIlMkMlMEElMjAlMjAlMjAlMjBkaXNwbGF5JTNEJTIycCVDMyVBRGNoYSUyMiUyQyUwQSUyMCUyMCUyMCUyMGF1dGhvcnMlM0QlMjJQJUMzJUFEY2hhJTJDJTIwUGV0ciUyMGFuZCUyMEJyYWRhJTJDJTIwUHJlbWVrJTIyJTJDJTBBJTIwJTIwJTIwJTIwcGxhY2UlM0RTRUFBJTJDJTBBJTIwJTIwJTIwJTIwcHAlM0QlMjIxLS04JTIyJTJDJTBBJTIwJTIwJTIwJTIwZW50cnl0eXBlJTNEJTIyaW5wcm9jZWVkaW5ncyUyMiUyQyUwQSUyMCUyMCUyMCUyMG9yZ2FuaXphdGlvbiUzRCUyMklFRUUlMjIlMkMlMEElMjAlMjAlMjAlMjBJRCUzRCUyMnBpY2hhMjAxNmFsbSUyMiUyQyUwQSUyMCUyMCUyMCUyMGdzMjAxNiUzRCUyMjElMjIlMkMlMEElMjAlMjAlMjAlMjBwbGFjZXglM0QlMjJTb2Z0d2FyZSUyMEVuZ2luZWVyaW5nJTIwYW5kJTIwQWR2YW5jZWQlMjBBcHBsaWNhdGlvbnMlMjAlMjhTRUFBJTI5JTJDJTIwMjAxNiUyMDQydGglMjBFdXJvbWljcm8lMjBDb25mZXJlbmNlJTIwb24lMjIlMkMlMEElMjklMjklMEElMjclMjclMjclMjklM0I=\")));\n",
       "    "
      ],
      "text/plain": [
       "<IPython.core.display.Javascript object>"
      ]
     },
     "metadata": {},
     "output_type": "display_data"
    },
    {
     "data": {
      "application/javascript": [
       "$('span:contains(\"# Temp\")').closest('.cell').remove();"
      ],
      "text/plain": [
       "<IPython.core.display.Javascript object>"
      ]
     },
     "metadata": {},
     "output_type": "display_data"
    },
    {
     "data": {
      "application/javascript": [
       "\n",
       "        $('span:contains(\"# Temp\")').closest('.cell').remove();\n",
       "        var code = IPython.notebook.insert_cell_below('code');\n",
       "        var prompt = code.element.find(\".input_prompt\");\n",
       "        prompt.append('<br><button style=\"height: 100%; width: 54px;\">Run</button>');\n",
       "        prompt.on(\"click\", \"button\", function(){\n",
       "            code.execute();\n",
       "        });\n",
       "        code.set_text(decodeURIComponent(window.atob(\"JTIzJTIwVGVtcCUwQWluc2VydCUyOCUyNyUyNyUyNyUwQXAlQzMlQURjaGEyMDE2YSUyMCUzRCUyMERCJTI4V29ya1VucmVsYXRlZCUyOCUwQSUyMCUyMCUyMCUyMDIwMTYlMkMlMjAlMjJBbG0lMjB0b29sJTIwZGF0YSUyMHVzYWdlJTIwaW4lMjBzb2Z0d2FyZSUyMHByb2Nlc3MlMjBtZXRhbW9kZWxpbmclMjIlMkMlMEElMjAlMjAlMjAlMjBkaXNwbGF5JTNEJTIycCVDMyVBRGNoYSUyMiUyQyUwQSUyMCUyMCUyMCUyMGF1dGhvcnMlM0QlMjJQJUMzJUFEY2hhJTJDJTIwUGV0ciUyMGFuZCUyMEJyYWRhJTJDJTIwUHJlbWVrJTIyJTJDJTBBJTIwJTIwJTIwJTIwcGxhY2UlM0RTRUFBJTJDJTBBJTIwJTIwJTIwJTIwcHAlM0QlMjIxLS04JTIyJTJDJTBBJTIwJTIwJTIwJTIwZW50cnl0eXBlJTNEJTIyaW5wcm9jZWVkaW5ncyUyMiUyQyUwQSUyMCUyMCUyMCUyMG9yZ2FuaXphdGlvbiUzRCUyMklFRUUlMjIlMkMlMEElMjAlMjAlMjAlMjBJRCUzRCUyMnBpY2hhMjAxNmFsbSUyMiUyQyUwQSUyMCUyMCUyMCUyMGdzMjAxNiUzRCUyMjElMjIlMkMlMEElMjAlMjAlMjAlMjBwbGFjZXglM0QlMjJTb2Z0d2FyZSUyMEVuZ2luZWVyaW5nJTIwYW5kJTIwQWR2YW5jZWQlMjBBcHBsaWNhdGlvbnMlMjAlMjhTRUFBJTI5JTJDJTIwMjAxNiUyMDQydGglMjBFdXJvbWljcm8lMjBDb25mZXJlbmNlJTIwb24lMjIlMkMlMEElMjklMjklMEElMjclMjclMjclMjklM0I=\")));\n",
       "    "
      ],
      "text/plain": [
       "<IPython.core.display.Javascript object>"
      ]
     },
     "metadata": {},
     "output_type": "display_data"
    },
    {
     "data": {
      "application/javascript": [
       "$('span:contains(\"# Temp\")').closest('.cell').remove();"
      ],
      "text/plain": [
       "<IPython.core.display.Javascript object>"
      ]
     },
     "metadata": {},
     "output_type": "display_data"
    },
    {
     "data": {
      "application/javascript": [
       "\n",
       "        $('span:contains(\"# Temp\")').closest('.cell').remove();\n",
       "        var code = IPython.notebook.insert_cell_below('code');\n",
       "        var prompt = code.element.find(\".input_prompt\");\n",
       "        prompt.append('<br><button style=\"height: 100%; width: 54px;\">Run</button>');\n",
       "        prompt.on(\"click\", \"button\", function(){\n",
       "            code.execute();\n",
       "        });\n",
       "        code.set_text(decodeURIComponent(window.atob(\"JTIzJTIwVGVtcCUwQWluc2VydCUyOCUyNyUyNyUyNyUwQWJvbmF6emkyMDA5YSUyMCUzRCUyMERCJTI4V29ya1VucmVsYXRlZCUyOCUwQSUyMCUyMCUyMCUyMDIwMDklMkMlMjAlMjJDb21wbGlhbmNlJTIwbWFuYWdlbWVudCUyMGlzJTIwYmVjb21pbmclMjBhJTIwbWFqb3IlMjBpc3N1ZSUyMGluJTIwSVMlMjBkZXNpZ24lMjIlMkMlMEElMjAlMjAlMjAlMjBkaXNwbGF5JTNEJTIyYm9uYXp6aSUyMiUyQyUwQSUyMCUyMCUyMCUyMGF1dGhvcnMlM0QlMjJCb25henppJTJDJTIwUmljY2FyZG8lMjBhbmQlMjBIdXNzYW1pJTJDJTIwTG90ZmklMjBhbmQlMjBQaWduZXVyJTJDJTIwWXZlcyUyMiUyQyUwQSUyMCUyMCUyMCUyMHBsYWNlJTNERkFLRSUyQyUwQSUyMCUyMCUyMCUyMHBwJTNEJTIyMzkxLS0zOTglMjIlMkMlMEElMjAlMjAlMjAlMjBlbnRyeXR5cGUlM0QlMjJpbmNvbGxlY3Rpb24lMjIlMkMlMEElMjAlMjAlMjAlMjBwdWJsaXNoZXIlM0QlMjJTcHJpbmdlciUyMiUyQyUwQSUyMCUyMCUyMCUyMElEJTNEJTIyYm9uYXp6aTIwMDljb21wbGlhbmNlJTIyJTJDJTBBJTIwJTIwJTIwJTIwZ3MyMDE2JTNEJTIyMSUyMiUyQyUwQSUyMCUyMCUyMCUyMHBsYWNleCUzRCUyMkluZm9ybWF0aW9uJTIwc3lzdGVtcyUzQSUyMFBlb3BsZSUyQyUyMG9yZ2FuaXphdGlvbnMlMkMlMjBpbnN0aXR1dGlvbnMlMkMlMjBhbmQlMjB0ZWNobm9sb2dpZXMlMjIlMkMlMEElMjklMjklMEElMjclMjclMjclMjklM0I=\")));\n",
       "    "
      ],
      "text/plain": [
       "<IPython.core.display.Javascript object>"
      ]
     },
     "metadata": {},
     "output_type": "display_data"
    },
    {
     "data": {
      "application/javascript": [
       "$('span:contains(\"# Temp\")').closest('.cell').remove();"
      ],
      "text/plain": [
       "<IPython.core.display.Javascript object>"
      ]
     },
     "metadata": {},
     "output_type": "display_data"
    },
    {
     "data": {
      "application/javascript": [
       "\n",
       "        $('span:contains(\"# Temp\")').closest('.cell').remove();\n",
       "        var code = IPython.notebook.insert_cell_below('code');\n",
       "        var prompt = code.element.find(\".input_prompt\");\n",
       "        prompt.append('<br><button style=\"height: 100%; width: 54px;\">Run</button>');\n",
       "        prompt.on(\"click\", \"button\", function(){\n",
       "            code.execute();\n",
       "        });\n",
       "        code.set_text(decodeURIComponent(window.atob(\"JTIzJTIwVGVtcCUwQWluc2VydCUyOCUyNyUyNyUyNyUwQWJvbmF6emkyMDA5YSUyMCUzRCUyMERCJTI4V29ya1VucmVsYXRlZCUyOCUwQSUyMCUyMCUyMCUyMDIwMDklMkMlMjAlMjJDb21wbGlhbmNlJTIwbWFuYWdlbWVudCUyMGlzJTIwYmVjb21pbmclMjBhJTIwbWFqb3IlMjBpc3N1ZSUyMGluJTIwSVMlMjBkZXNpZ24lMjIlMkMlMEElMjAlMjAlMjAlMjBkaXNwbGF5JTNEJTIyYm9uYXp6aSUyMiUyQyUwQSUyMCUyMCUyMCUyMGF1dGhvcnMlM0QlMjJCb25henppJTJDJTIwUmljY2FyZG8lMjBhbmQlMjBIdXNzYW1pJTJDJTIwTG90ZmklMjBhbmQlMjBQaWduZXVyJTJDJTIwWXZlcyUyMiUyQyUwQSUyMCUyMCUyMCUyMHBsYWNlJTNERkFLRSUyQyUwQSUyMCUyMCUyMCUyMHBwJTNEJTIyMzkxLS0zOTglMjIlMkMlMEElMjAlMjAlMjAlMjBlbnRyeXR5cGUlM0QlMjJpbmNvbGxlY3Rpb24lMjIlMkMlMEElMjAlMjAlMjAlMjBwdWJsaXNoZXIlM0QlMjJTcHJpbmdlciUyMiUyQyUwQSUyMCUyMCUyMCUyMElEJTNEJTIyYm9uYXp6aTIwMDljb21wbGlhbmNlJTIyJTJDJTBBJTIwJTIwJTIwJTIwZ3MyMDE2JTNEJTIyMSUyMiUyQyUwQSUyMCUyMCUyMCUyMHBsYWNleCUzRCUyMkluZm9ybWF0aW9uJTIwc3lzdGVtcyUzQSUyMFBlb3BsZSUyQyUyMG9yZ2FuaXphdGlvbnMlMkMlMjBpbnN0aXR1dGlvbnMlMkMlMjBhbmQlMjB0ZWNobm9sb2dpZXMlMjIlMkMlMEElMjklMjklMEElMjclMjclMjclMjklM0I=\")));\n",
       "    "
      ],
      "text/plain": [
       "<IPython.core.display.Javascript object>"
      ]
     },
     "metadata": {},
     "output_type": "display_data"
    },
    {
     "data": {
      "application/javascript": [
       "$('span:contains(\"# Temp\")').closest('.cell').remove();"
      ],
      "text/plain": [
       "<IPython.core.display.Javascript object>"
      ]
     },
     "metadata": {},
     "output_type": "display_data"
    },
    {
     "data": {
      "application/javascript": [
       "\n",
       "        $('span:contains(\"# Temp\")').closest('.cell').remove();\n",
       "        var code = IPython.notebook.insert_cell_below('code');\n",
       "        var prompt = code.element.find(\".input_prompt\");\n",
       "        prompt.append('<br><button style=\"height: 100%; width: 54px;\">Run</button>');\n",
       "        prompt.on(\"click\", \"button\", function(){\n",
       "            code.execute();\n",
       "        });\n",
       "        code.set_text(decodeURIComponent(window.atob(\"JTIzJTIwVGVtcCUwQWluc2VydCUyOCUyNyUyNyUyNyUwQW1vbnRvbmkwYSUyMCUzRCUyMERCJTI4V29ya1VucmVsYXRlZCUyOCUwQSUyMCUyMCUyMCUyMDAlMkMlMjAlMjJQcm9qZXRvJTIwNi4xMi1UYWJhJTIwV29ya3N0YXRpb24lM0ElMjBTdXBwb3J0aW5nJTIwU29mdHdhcmUlMjBQcm9jZXNzJTIwRGVwbG95bWVudCUyMGJhc2VkJTIwb24lMjBDTU1JJTIwYW5kJTIwTVItTVBTMSUyMiUyQyUwQSUyMCUyMCUyMCUyMGRpc3BsYXklM0QlMjJtb250b25pJTIyJTJDJTBBJTIwJTIwJTIwJTIwYXV0aG9ycyUzRCUyMk1vbnRvbmklMkMlMjBNYXJpYW5vJTIwYW5kJTIwUm9jaGElMkMlMjBBbmElMjBSZWdpbmElMjBhbmQlMjBTYW50b3MlMkMlMjBHbGVpc29uJTIwYW5kJTIwRmlndWVpcmVkbyUyQyUyMFMlQzMlQTF2aW8lMjBhbmQlMjBCYXJyZXRvJTJDJTIwQWhpbHRvbiUyMGFuZCUyMFNvYXJlcyUyQyUyMEFuZHIlQzMlQTlhJTIwYW5kJTIwQ2VyZGVpcmFsJTJDJTIwQ3Jpc3RpbmElMjBhbmQlMjBMdXBvJTJDJTIwUGV0ZXIlMjIlMkMlMEElMjAlMjAlMjAlMjBwbGFjZSUzREZBS0UlMkMlMEElMjAlMjAlMjAlMjBlbnRyeXR5cGUlM0QlMjJhcnRpY2xlJTIyJTJDJTBBJTIwJTIwJTIwJTIwcHVibGlzaGVyJTNEJTIyQ2l0ZXNlZXIlMjIlMkMlMEElMjAlMjAlMjAlMjBJRCUzRCUyMm1vbnRvbmlwcm9qZXRvJTIyJTJDJTBBJTIwJTIwJTIwJTIwZ3MyMDE2JTNEJTIyMSUyMiUyQyUwQSUyMCUyMCUyMCUyMHBsYWNleCUzRCUyMiUyMiUyQyUwQSUyOSUyOSUwQSUyNyUyNyUyNyUyOSUzQg==\")));\n",
       "    "
      ],
      "text/plain": [
       "<IPython.core.display.Javascript object>"
      ]
     },
     "metadata": {},
     "output_type": "display_data"
    },
    {
     "data": {
      "application/javascript": [
       "$('span:contains(\"# Temp\")').closest('.cell').remove();"
      ],
      "text/plain": [
       "<IPython.core.display.Javascript object>"
      ]
     },
     "metadata": {},
     "output_type": "display_data"
    },
    {
     "data": {
      "application/javascript": [
       "\n",
       "        $('span:contains(\"# Temp\")').closest('.cell').remove();\n",
       "        var code = IPython.notebook.insert_cell_below('code');\n",
       "        var prompt = code.element.find(\".input_prompt\");\n",
       "        prompt.append('<br><button style=\"height: 100%; width: 54px;\">Run</button>');\n",
       "        prompt.on(\"click\", \"button\", function(){\n",
       "            code.execute();\n",
       "        });\n",
       "        code.set_text(decodeURIComponent(window.atob(\"JTIzJTIwVGVtcCUwQWluc2VydCUyOCUyNyUyNyUyNyUwQW1vbnRvbmkwYSUyMCUzRCUyMERCJTI4V29ya1VucmVsYXRlZCUyOCUwQSUyMCUyMCUyMCUyMDAlMkMlMjAlMjJQcm9qZXRvJTIwNi4xMi1UYWJhJTIwV29ya3N0YXRpb24lM0ElMjBTdXBwb3J0aW5nJTIwU29mdHdhcmUlMjBQcm9jZXNzJTIwRGVwbG95bWVudCUyMGJhc2VkJTIwb24lMjBDTU1JJTIwYW5kJTIwTVItTVBTMSUyMiUyQyUwQSUyMCUyMCUyMCUyMGRpc3BsYXklM0QlMjJtb250b25pJTIyJTJDJTBBJTIwJTIwJTIwJTIwYXV0aG9ycyUzRCUyMk1vbnRvbmklMkMlMjBNYXJpYW5vJTIwYW5kJTIwUm9jaGElMkMlMjBBbmElMjBSZWdpbmElMjBhbmQlMjBTYW50b3MlMkMlMjBHbGVpc29uJTIwYW5kJTIwRmlndWVpcmVkbyUyQyUyMFMlQzMlQTF2aW8lMjBhbmQlMjBCYXJyZXRvJTJDJTIwQWhpbHRvbiUyMGFuZCUyMFNvYXJlcyUyQyUyMEFuZHIlQzMlQTlhJTIwYW5kJTIwQ2VyZGVpcmFsJTJDJTIwQ3Jpc3RpbmElMjBhbmQlMjBMdXBvJTJDJTIwUGV0ZXIlMjIlMkMlMEElMjAlMjAlMjAlMjBwbGFjZSUzREZBS0UlMkMlMEElMjAlMjAlMjAlMjBlbnRyeXR5cGUlM0QlMjJhcnRpY2xlJTIyJTJDJTBBJTIwJTIwJTIwJTIwcHVibGlzaGVyJTNEJTIyQ2l0ZXNlZXIlMjIlMkMlMEElMjAlMjAlMjAlMjBJRCUzRCUyMm1vbnRvbmlwcm9qZXRvJTIyJTJDJTBBJTIwJTIwJTIwJTIwZ3MyMDE2JTNEJTIyMSUyMiUyQyUwQSUyMCUyMCUyMCUyMHBsYWNleCUzRCUyMiUyMiUyQyUwQSUyOSUyOSUwQSUyNyUyNyUyNyUyOSUzQg==\")));\n",
       "    "
      ],
      "text/plain": [
       "<IPython.core.display.Javascript object>"
      ]
     },
     "metadata": {},
     "output_type": "display_data"
    },
    {
     "data": {
      "application/javascript": [
       "$('span:contains(\"# Temp\")').closest('.cell').remove();"
      ],
      "text/plain": [
       "<IPython.core.display.Javascript object>"
      ]
     },
     "metadata": {},
     "output_type": "display_data"
    },
    {
     "data": {
      "application/javascript": [
       "\n",
       "        $('span:contains(\"# Temp\")').closest('.cell').remove();\n",
       "        var code = IPython.notebook.insert_cell_below('code');\n",
       "        var prompt = code.element.find(\".input_prompt\");\n",
       "        prompt.append('<br><button style=\"height: 100%; width: 54px;\">Run</button>');\n",
       "        prompt.on(\"click\", \"button\", function(){\n",
       "            code.execute();\n",
       "        });\n",
       "        code.set_text(decodeURIComponent(window.atob(\"JTIzJTIwVGVtcCUwQWluc2VydCUyOCUyNyUyNyUyNyUwQXBlcmVpcmEyMDA3YSUyMCUzRCUyMERCJTI4V29ya1VucmVsYXRlZCUyOCUwQSUyMCUyMCUyMCUyMDIwMDclMkMlMjAlMjJBJTIwc3lzdGVtYXRpYyUyMGFwcHJvYWNoJTIwdG8lMjBwcm9jZXNzJTIwdGFpbG9yaW5nJTIyJTJDJTBBJTIwJTIwJTIwJTIwZGlzcGxheSUzRCUyMnBlcmVpcmElMjIlMkMlMEElMjAlMjAlMjAlMjBhdXRob3JzJTNEJTIyUGVyZWlyYSUyQyUyMEVsaWFuYSUyMEIlMjBhbmQlMjBCYXN0b3MlMkMlMjBSaWNhcmRvJTIwTSUyMGFuZCUyME9saXZlaXJhJTJDJTIwVG9hY3klMjBDJTIyJTJDJTBBJTIwJTIwJTIwJTIwcGxhY2UlM0RGQUtFJTJDJTBBJTIwJTIwJTIwJTIwcHAlM0QlMjI3MS0tNzglMjIlMkMlMEElMjAlMjAlMjAlMjBlbnRyeXR5cGUlM0QlMjJpbnByb2NlZWRpbmdzJTIyJTJDJTBBJTIwJTIwJTIwJTIwb3JnYW5pemF0aW9uJTNEJTIySUVFRSUyMiUyQyUwQSUyMCUyMCUyMCUyMElEJTNEJTIycGVyZWlyYTIwMDdzeXN0ZW1hdGljJTIyJTJDJTBBJTIwJTIwJTIwJTIwZ3MyMDE2JTNEJTIyMSUyMiUyQyUwQSUyMCUyMCUyMCUyMHBsYWNleCUzRCUyMlN5c3RlbXMlMjBFbmdpbmVlcmluZyUyMGFuZCUyME1vZGVsaW5nJTJDJTIwMjAwNy4lMjBJQ1NFTSUyNzA3LiUyMEludGVybmF0aW9uYWwlMjBDb25mZXJlbmNlJTIwb24lMjIlMkMlMEElMjklMjklMEElMjclMjclMjclMjklM0I=\")));\n",
       "    "
      ],
      "text/plain": [
       "<IPython.core.display.Javascript object>"
      ]
     },
     "metadata": {},
     "output_type": "display_data"
    },
    {
     "data": {
      "application/javascript": [
       "$('span:contains(\"# Temp\")').closest('.cell').remove();"
      ],
      "text/plain": [
       "<IPython.core.display.Javascript object>"
      ]
     },
     "metadata": {},
     "output_type": "display_data"
    },
    {
     "data": {
      "application/javascript": [
       "\n",
       "        $('span:contains(\"# Temp\")').closest('.cell').remove();\n",
       "        var code = IPython.notebook.insert_cell_below('code');\n",
       "        var prompt = code.element.find(\".input_prompt\");\n",
       "        prompt.append('<br><button style=\"height: 100%; width: 54px;\">Run</button>');\n",
       "        prompt.on(\"click\", \"button\", function(){\n",
       "            code.execute();\n",
       "        });\n",
       "        code.set_text(decodeURIComponent(window.atob(\"JTIzJTIwVGVtcCUwQWluc2VydCUyOCUyNyUyNyUyNyUwQXBlcmVpcmEyMDA3YSUyMCUzRCUyMERCJTI4V29ya1VucmVsYXRlZCUyOCUwQSUyMCUyMCUyMCUyMDIwMDclMkMlMjAlMjJBJTIwc3lzdGVtYXRpYyUyMGFwcHJvYWNoJTIwdG8lMjBwcm9jZXNzJTIwdGFpbG9yaW5nJTIyJTJDJTBBJTIwJTIwJTIwJTIwZGlzcGxheSUzRCUyMnBlcmVpcmElMjIlMkMlMEElMjAlMjAlMjAlMjBhdXRob3JzJTNEJTIyUGVyZWlyYSUyQyUyMEVsaWFuYSUyMEIlMjBhbmQlMjBCYXN0b3MlMkMlMjBSaWNhcmRvJTIwTSUyMGFuZCUyME9saXZlaXJhJTJDJTIwVG9hY3klMjBDJTIyJTJDJTBBJTIwJTIwJTIwJTIwcGxhY2UlM0RGQUtFJTJDJTBBJTIwJTIwJTIwJTIwcHAlM0QlMjI3MS0tNzglMjIlMkMlMEElMjAlMjAlMjAlMjBlbnRyeXR5cGUlM0QlMjJpbnByb2NlZWRpbmdzJTIyJTJDJTBBJTIwJTIwJTIwJTIwb3JnYW5pemF0aW9uJTNEJTIySUVFRSUyMiUyQyUwQSUyMCUyMCUyMCUyMElEJTNEJTIycGVyZWlyYTIwMDdzeXN0ZW1hdGljJTIyJTJDJTBBJTIwJTIwJTIwJTIwZ3MyMDE2JTNEJTIyMSUyMiUyQyUwQSUyMCUyMCUyMCUyMHBsYWNleCUzRCUyMlN5c3RlbXMlMjBFbmdpbmVlcmluZyUyMGFuZCUyME1vZGVsaW5nJTJDJTIwMjAwNy4lMjBJQ1NFTSUyNzA3LiUyMEludGVybmF0aW9uYWwlMjBDb25mZXJlbmNlJTIwb24lMjIlMkMlMEElMjklMjklMEElMjclMjclMjclMjklM0I=\")));\n",
       "    "
      ],
      "text/plain": [
       "<IPython.core.display.Javascript object>"
      ]
     },
     "metadata": {},
     "output_type": "display_data"
    },
    {
     "data": {
      "application/javascript": [
       "$('span:contains(\"# Temp\")').closest('.cell').remove();"
      ],
      "text/plain": [
       "<IPython.core.display.Javascript object>"
      ]
     },
     "metadata": {},
     "output_type": "display_data"
    },
    {
     "data": {
      "application/javascript": [
       "\n",
       "        $('span:contains(\"# Temp\")').closest('.cell').remove();\n",
       "        var code = IPython.notebook.insert_cell_below('code');\n",
       "        var prompt = code.element.find(\".input_prompt\");\n",
       "        prompt.append('<br><button style=\"height: 100%; width: 54px;\">Run</button>');\n",
       "        prompt.on(\"click\", \"button\", function(){\n",
       "            code.execute();\n",
       "        });\n",
       "        code.set_text(decodeURIComponent(window.atob(\"JTIzJTIwVGVtcCUwQWluc2VydCUyOCUyNyUyNyUyNyUwQWFkZWRqb3VtYTIwMTJhJTIwJTNEJTIwREIlMjhXb3JrVW5yZWxhdGVkJTI4JTBBJTIwJTIwJTIwJTIwMjAxMiUyQyUyMCUyMkFuJTIwZXhwZXJpbWVudCUyMG9uJTIwbWVyZ2luZyUyMHF1YWxpdHklMjBhc3Nlc3NtZW50JTIwaW4lMjBhdXRvbW90aXZlJTIwZG9tYWluJTIyJTJDJTBBJTIwJTIwJTIwJTIwZGlzcGxheSUzRCUyMmFkZWRqb3VtYSUyMiUyQyUwQSUyMCUyMCUyMCUyMGF1dGhvcnMlM0QlMjJBZGVkam91bWElMkMlMjBNb3JheW8lMjBhbmQlMjBEdWJvaXMlMkMlMjBIdWJlcnQlMjBhbmQlMjBUZXJyaWVyJTJDJTIwRnJhbiU3QiVDMyVBNyU3RG9pcyUyMGFuZCUyMEtpdG91bmklMkMlMjBUYXJlayUyMiUyQyUwQSUyMCUyMCUyMCUyMHBsYWNlJTNESUNTUElDRCUyQyUwQSUyMCUyMCUyMCUyMHBwJTNEJTIyMTA3LS0xMTclMjIlMkMlMEElMjAlMjAlMjAlMjBlbnRyeXR5cGUlM0QlMjJpbnByb2NlZWRpbmdzJTIyJTJDJTBBJTIwJTIwJTIwJTIwb3JnYW5pemF0aW9uJTNEJTIyU3ByaW5nZXIlMjIlMkMlMEElMjAlMjAlMjAlMjBJRCUzRCUyMmFkZWRqb3VtYTIwMTJleHBlcmltZW50JTIyJTJDJTBBJTIwJTIwJTIwJTIwZ3MyMDE2JTNEJTIyMSUyMiUyQyUwQSUyMCUyMCUyMCUyMHBsYWNleCUzRCUyMkludGVybmF0aW9uYWwlMjBDb25mZXJlbmNlJTIwb24lMjBTb2Z0d2FyZSUyMFByb2Nlc3MlMjBJbXByb3ZlbWVudCUyMGFuZCUyMENhcGFiaWxpdHklMjBEZXRlcm1pbmF0aW9uJTIyJTJDJTBBJTI5JTI5JTBBJTI3JTI3JTI3JTI5JTNC\")));\n",
       "    "
      ],
      "text/plain": [
       "<IPython.core.display.Javascript object>"
      ]
     },
     "metadata": {},
     "output_type": "display_data"
    },
    {
     "data": {
      "application/javascript": [
       "$('span:contains(\"# Temp\")').closest('.cell').remove();"
      ],
      "text/plain": [
       "<IPython.core.display.Javascript object>"
      ]
     },
     "metadata": {},
     "output_type": "display_data"
    },
    {
     "data": {
      "application/javascript": [
       "\n",
       "        $('span:contains(\"# Temp\")').closest('.cell').remove();\n",
       "        var code = IPython.notebook.insert_cell_below('code');\n",
       "        var prompt = code.element.find(\".input_prompt\");\n",
       "        prompt.append('<br><button style=\"height: 100%; width: 54px;\">Run</button>');\n",
       "        prompt.on(\"click\", \"button\", function(){\n",
       "            code.execute();\n",
       "        });\n",
       "        code.set_text(decodeURIComponent(window.atob(\"JTIzJTIwVGVtcCUwQWluc2VydCUyOCUyNyUyNyUyNyUwQWFkZWRqb3VtYTIwMTJhJTIwJTNEJTIwREIlMjhXb3JrVW5yZWxhdGVkJTI4JTBBJTIwJTIwJTIwJTIwMjAxMiUyQyUyMCUyMkFuJTIwZXhwZXJpbWVudCUyMG9uJTIwbWVyZ2luZyUyMHF1YWxpdHklMjBhc3Nlc3NtZW50JTIwaW4lMjBhdXRvbW90aXZlJTIwZG9tYWluJTIyJTJDJTBBJTIwJTIwJTIwJTIwZGlzcGxheSUzRCUyMmFkZWRqb3VtYSUyMiUyQyUwQSUyMCUyMCUyMCUyMGF1dGhvcnMlM0QlMjJBZGVkam91bWElMkMlMjBNb3JheW8lMjBhbmQlMjBEdWJvaXMlMkMlMjBIdWJlcnQlMjBhbmQlMjBUZXJyaWVyJTJDJTIwRnJhbiU3QiVDMyVBNyU3RG9pcyUyMGFuZCUyMEtpdG91bmklMkMlMjBUYXJlayUyMiUyQyUwQSUyMCUyMCUyMCUyMHBsYWNlJTNESUNTUElDRCUyQyUwQSUyMCUyMCUyMCUyMHBwJTNEJTIyMTA3LS0xMTclMjIlMkMlMEElMjAlMjAlMjAlMjBlbnRyeXR5cGUlM0QlMjJpbnByb2NlZWRpbmdzJTIyJTJDJTBBJTIwJTIwJTIwJTIwb3JnYW5pemF0aW9uJTNEJTIyU3ByaW5nZXIlMjIlMkMlMEElMjAlMjAlMjAlMjBJRCUzRCUyMmFkZWRqb3VtYTIwMTJleHBlcmltZW50JTIyJTJDJTBBJTIwJTIwJTIwJTIwZ3MyMDE2JTNEJTIyMSUyMiUyQyUwQSUyMCUyMCUyMCUyMHBsYWNleCUzRCUyMkludGVybmF0aW9uYWwlMjBDb25mZXJlbmNlJTIwb24lMjBTb2Z0d2FyZSUyMFByb2Nlc3MlMjBJbXByb3ZlbWVudCUyMGFuZCUyMENhcGFiaWxpdHklMjBEZXRlcm1pbmF0aW9uJTIyJTJDJTBBJTI5JTI5JTBBJTI3JTI3JTI3JTI5JTNC\")));\n",
       "    "
      ],
      "text/plain": [
       "<IPython.core.display.Javascript object>"
      ]
     },
     "metadata": {},
     "output_type": "display_data"
    },
    {
     "data": {
      "application/javascript": [
       "$('span:contains(\"# Temp\")').closest('.cell').remove();"
      ],
      "text/plain": [
       "<IPython.core.display.Javascript object>"
      ]
     },
     "metadata": {},
     "output_type": "display_data"
    },
    {
     "data": {
      "application/javascript": [
       "\n",
       "        $('span:contains(\"# Temp\")').closest('.cell').remove();\n",
       "        var code = IPython.notebook.insert_cell_below('code');\n",
       "        var prompt = code.element.find(\".input_prompt\");\n",
       "        prompt.append('<br><button style=\"height: 100%; width: 54px;\">Run</button>');\n",
       "        prompt.on(\"click\", \"button\", function(){\n",
       "            code.execute();\n",
       "        });\n",
       "        code.set_text(decodeURIComponent(window.atob(\"JTIzJTIwVGVtcCUwQWluc2VydCUyOCUyNyUyNyUyNyUwQWd1JUMzJUE5ZHJpYTIwMDhhJTIwJTNEJTIwREIlMjhXb3JrVW5yZWxhdGVkJTI4JTBBJTIwJTIwJTIwJTIwMjAwOCUyQyUyMCUyMkludGVyb3BlcmFiaWxpdHklMjBtYXR1cml0eSUyMG1vZGVscy0tc3VydmV5JTIwYW5kJTIwY29tcGFyaXNvbi0tJTIyJTJDJTBBJTIwJTIwJTIwJTIwZGlzcGxheSUzRCUyMmd1JUMzJUE5ZHJpYSUyMiUyQyUwQSUyMCUyMCUyMCUyMGF1dGhvcnMlM0QlMjJHdSVDMyVBOWRyaWElMkMlMjBXaWRlZCUyMGFuZCUyME5hdWRldCUyQyUyMFlhbm5pY2slMjBhbmQlMjBDaGVuJTJDJTIwRGF2aWQlMjIlMkMlMEElMjAlMjAlMjAlMjBwbGFjZSUzREZBS0UlMkMlMEElMjAlMjAlMjAlMjBwcCUzRCUyMjI3My0tMjgyJTIyJTJDJTBBJTIwJTIwJTIwJTIwZW50cnl0eXBlJTNEJTIyaW5wcm9jZWVkaW5ncyUyMiUyQyUwQSUyMCUyMCUyMCUyMG9yZ2FuaXphdGlvbiUzRCUyMlNwcmluZ2VyJTIyJTJDJTBBJTIwJTIwJTIwJTIwSUQlM0QlMjJndWVkcmlhMjAwOGludGVyb3BlcmFiaWxpdHklMjIlMkMlMEElMjAlMjAlMjAlMjBnczIwMTYlM0QlMjIxJTIyJTJDJTBBJTIwJTIwJTIwJTIwcGxhY2V4JTNEJTIyT1RNJTIwQ29uZmVkZXJhdGVkJTIwSW50ZXJuYXRpb25hbCUyMENvbmZlcmVuY2VzJTVDJTIyJTIwT24lMjB0aGUlMjBNb3ZlJTIwdG8lMjBNZWFuaW5nZnVsJTIwSW50ZXJuZXQlMjBTeXN0ZW1zJTVDJTIyJTIyJTJDJTBBJTI5JTI5JTBBJTI3JTI3JTI3JTI5JTNC\")));\n",
       "    "
      ],
      "text/plain": [
       "<IPython.core.display.Javascript object>"
      ]
     },
     "metadata": {},
     "output_type": "display_data"
    },
    {
     "data": {
      "application/javascript": [
       "$('span:contains(\"# Temp\")').closest('.cell').remove();"
      ],
      "text/plain": [
       "<IPython.core.display.Javascript object>"
      ]
     },
     "metadata": {},
     "output_type": "display_data"
    },
    {
     "data": {
      "application/javascript": [
       "\n",
       "        $('span:contains(\"# Temp\")').closest('.cell').remove();\n",
       "        var code = IPython.notebook.insert_cell_below('code');\n",
       "        var prompt = code.element.find(\".input_prompt\");\n",
       "        prompt.append('<br><button style=\"height: 100%; width: 54px;\">Run</button>');\n",
       "        prompt.on(\"click\", \"button\", function(){\n",
       "            code.execute();\n",
       "        });\n",
       "        code.set_text(decodeURIComponent(window.atob(\"JTIzJTIwVGVtcCUwQWluc2VydCUyOCUyNyUyNyUyNyUwQWd1JUMzJUE5ZHJpYTIwMDhhJTIwJTNEJTIwREIlMjhXb3JrVW5yZWxhdGVkJTI4JTBBJTIwJTIwJTIwJTIwMjAwOCUyQyUyMCUyMkludGVyb3BlcmFiaWxpdHklMjBtYXR1cml0eSUyMG1vZGVscy0tc3VydmV5JTIwYW5kJTIwY29tcGFyaXNvbi0tJTIyJTJDJTBBJTIwJTIwJTIwJTIwZGlzcGxheSUzRCUyMmd1JUMzJUE5ZHJpYSUyMiUyQyUwQSUyMCUyMCUyMCUyMGF1dGhvcnMlM0QlMjJHdSVDMyVBOWRyaWElMkMlMjBXaWRlZCUyMGFuZCUyME5hdWRldCUyQyUyMFlhbm5pY2slMjBhbmQlMjBDaGVuJTJDJTIwRGF2aWQlMjIlMkMlMEElMjAlMjAlMjAlMjBwbGFjZSUzREZBS0UlMkMlMEElMjAlMjAlMjAlMjBwcCUzRCUyMjI3My0tMjgyJTIyJTJDJTBBJTIwJTIwJTIwJTIwZW50cnl0eXBlJTNEJTIyaW5wcm9jZWVkaW5ncyUyMiUyQyUwQSUyMCUyMCUyMCUyMG9yZ2FuaXphdGlvbiUzRCUyMlNwcmluZ2VyJTIyJTJDJTBBJTIwJTIwJTIwJTIwSUQlM0QlMjJndWVkcmlhMjAwOGludGVyb3BlcmFiaWxpdHklMjIlMkMlMEElMjAlMjAlMjAlMjBnczIwMTYlM0QlMjIxJTIyJTJDJTBBJTIwJTIwJTIwJTIwcGxhY2V4JTNEJTIyT1RNJTIwQ29uZmVkZXJhdGVkJTIwSW50ZXJuYXRpb25hbCUyMENvbmZlcmVuY2VzJTVDJTIyJTIwT24lMjB0aGUlMjBNb3ZlJTIwdG8lMjBNZWFuaW5nZnVsJTIwSW50ZXJuZXQlMjBTeXN0ZW1zJTVDJTIyJTIyJTJDJTBBJTI5JTI5JTBBJTI3JTI3JTI3JTI5JTNC\")));\n",
       "    "
      ],
      "text/plain": [
       "<IPython.core.display.Javascript object>"
      ]
     },
     "metadata": {},
     "output_type": "display_data"
    },
    {
     "data": {
      "application/javascript": [
       "$('span:contains(\"# Temp\")').closest('.cell').remove();"
      ],
      "text/plain": [
       "<IPython.core.display.Javascript object>"
      ]
     },
     "metadata": {},
     "output_type": "display_data"
    },
    {
     "data": {
      "application/javascript": [
       "\n",
       "        $('span:contains(\"# Temp\")').closest('.cell').remove();\n",
       "        var code = IPython.notebook.insert_cell_below('code');\n",
       "        var prompt = code.element.find(\".input_prompt\");\n",
       "        prompt.append('<br><button style=\"height: 100%; width: 54px;\">Run</button>');\n",
       "        prompt.on(\"click\", \"button\", function(){\n",
       "            code.execute();\n",
       "        });\n",
       "        code.set_text(decodeURIComponent(window.atob(\"JTIzJTIwVGVtcCUwQWluc2VydCUyOCUyNyUyNyUyNyUwQW1hdGEyMDE0YSUyMCUzRCUyMERCJTI4V29ya1VucmVsYXRlZCUyOCUwQSUyMCUyMCUyMCUyMDIwMTQlMkMlMjAlMjJLbm93bGVkZ2UlMjBNYW5hZ2VtZW50JTIwaW4lMjBQcm9jZXNzJTIwSW1wcm92ZW1lbnQlMjBhbmQlMjBCZXN0JTIwUHJhY3RpY2VzJTIwU2hhcmluZyUyMiUyQyUwQSUyMCUyMCUyMCUyMGRpc3BsYXklM0QlMjJtYXRhJTIyJTJDJTBBJTIwJTIwJTIwJTIwYXV0aG9ycyUzRCUyMk1hdGElMkMlMjBFZHJpc2klMjBNdW5veiUyMGFuZCUyME1hdGElMkMlMjBNaXJuYSUyMEElMjBNdW5veiUyMGFuZCUyMENhcG9uJTJDJTIwRWxpc2FiZXQlMjBhbmQlMjBNaXJhbmRhJTJDJTIwSmV6cmVlbCUyME1lamlhJTIyJTJDJTBBJTIwJTIwJTIwJTIwcGxhY2UlM0RGQUtFJTJDJTBBJTIwJTIwJTIwJTIwcHAlM0QlMjI0NjktLTQ3NCUyMiUyQyUwQSUyMCUyMCUyMCUyMGVudHJ5dHlwZSUzRCUyMmFydGljbGUlMjIlMkMlMEElMjAlMjAlMjAlMjB2b2x1bWUlM0QlMjIxMiUyMiUyQyUwQSUyMCUyMCUyMCUyMG51bWJlciUzRCUyMjMlMjIlMkMlMEElMjAlMjAlMjAlMjBwdWJsaXNoZXIlM0QlMjJJRUVFJTIyJTJDJTBBJTIwJTIwJTIwJTIwSUQlM0QlMjJtYXRhMjAxNGtub3dsZWRnZSUyMiUyQyUwQSUyMCUyMCUyMCUyMGdzMjAxNiUzRCUyMjElMjIlMkMlMEElMjAlMjAlMjAlMjBwbGFjZXglM0QlMjJJRUVFJTIwTGF0aW4lMjBBbWVyaWNhJTIwVHJhbnNhY3Rpb25zJTIyJTJDJTBBJTI5JTI5JTBBJTI3JTI3JTI3JTI5JTNC\")));\n",
       "    "
      ],
      "text/plain": [
       "<IPython.core.display.Javascript object>"
      ]
     },
     "metadata": {},
     "output_type": "display_data"
    },
    {
     "data": {
      "application/javascript": [
       "$('span:contains(\"# Temp\")').closest('.cell').remove();"
      ],
      "text/plain": [
       "<IPython.core.display.Javascript object>"
      ]
     },
     "metadata": {},
     "output_type": "display_data"
    },
    {
     "data": {
      "application/javascript": [
       "\n",
       "        $('span:contains(\"# Temp\")').closest('.cell').remove();\n",
       "        var code = IPython.notebook.insert_cell_below('code');\n",
       "        var prompt = code.element.find(\".input_prompt\");\n",
       "        prompt.append('<br><button style=\"height: 100%; width: 54px;\">Run</button>');\n",
       "        prompt.on(\"click\", \"button\", function(){\n",
       "            code.execute();\n",
       "        });\n",
       "        code.set_text(decodeURIComponent(window.atob(\"JTIzJTIwVGVtcCUwQWluc2VydCUyOCUyNyUyNyUyNyUwQW1hdGEyMDE0YSUyMCUzRCUyMERCJTI4V29ya1VucmVsYXRlZCUyOCUwQSUyMCUyMCUyMCUyMDIwMTQlMkMlMjAlMjJLbm93bGVkZ2UlMjBNYW5hZ2VtZW50JTIwaW4lMjBQcm9jZXNzJTIwSW1wcm92ZW1lbnQlMjBhbmQlMjBCZXN0JTIwUHJhY3RpY2VzJTIwU2hhcmluZyUyMiUyQyUwQSUyMCUyMCUyMCUyMGRpc3BsYXklM0QlMjJtYXRhJTIyJTJDJTBBJTIwJTIwJTIwJTIwYXV0aG9ycyUzRCUyMk1hdGElMkMlMjBFZHJpc2klMjBNdW5veiUyMGFuZCUyME1hdGElMkMlMjBNaXJuYSUyMEElMjBNdW5veiUyMGFuZCUyMENhcG9uJTJDJTIwRWxpc2FiZXQlMjBhbmQlMjBNaXJhbmRhJTJDJTIwSmV6cmVlbCUyME1lamlhJTIyJTJDJTBBJTIwJTIwJTIwJTIwcGxhY2UlM0RGQUtFJTJDJTBBJTIwJTIwJTIwJTIwcHAlM0QlMjI0NjktLTQ3NCUyMiUyQyUwQSUyMCUyMCUyMCUyMGVudHJ5dHlwZSUzRCUyMmFydGljbGUlMjIlMkMlMEElMjAlMjAlMjAlMjB2b2x1bWUlM0QlMjIxMiUyMiUyQyUwQSUyMCUyMCUyMCUyMG51bWJlciUzRCUyMjMlMjIlMkMlMEElMjAlMjAlMjAlMjBwdWJsaXNoZXIlM0QlMjJJRUVFJTIyJTJDJTBBJTIwJTIwJTIwJTIwSUQlM0QlMjJtYXRhMjAxNGtub3dsZWRnZSUyMiUyQyUwQSUyMCUyMCUyMCUyMGdzMjAxNiUzRCUyMjElMjIlMkMlMEElMjAlMjAlMjAlMjBwbGFjZXglM0QlMjJJRUVFJTIwTGF0aW4lMjBBbWVyaWNhJTIwVHJhbnNhY3Rpb25zJTIyJTJDJTBBJTI5JTI5JTBBJTI3JTI3JTI3JTI5JTNC\")));\n",
       "    "
      ],
      "text/plain": [
       "<IPython.core.display.Javascript object>"
      ]
     },
     "metadata": {},
     "output_type": "display_data"
    },
    {
     "data": {
      "application/javascript": [
       "$('span:contains(\"# Temp\")').closest('.cell').remove();"
      ],
      "text/plain": [
       "<IPython.core.display.Javascript object>"
      ]
     },
     "metadata": {},
     "output_type": "display_data"
    },
    {
     "data": {
      "application/javascript": [
       "\n",
       "        $('span:contains(\"# Temp\")').closest('.cell').remove();\n",
       "        var code = IPython.notebook.insert_cell_below('code');\n",
       "        var prompt = code.element.find(\".input_prompt\");\n",
       "        prompt.append('<br><button style=\"height: 100%; width: 54px;\">Run</button>');\n",
       "        prompt.on(\"click\", \"button\", function(){\n",
       "            code.execute();\n",
       "        });\n",
       "        code.set_text(decodeURIComponent(window.atob(\"JTIzJTIwVGVtcCUwQWluc2VydCUyOCUyNyUyNyUyNyUwQWtpbTIwMDlhJTIwJTNEJTIwREIlMjhXb3JrVW5yZWxhdGVkJTI4JTBBJTIwJTIwJTIwJTIwMjAwOSUyQyUyMCUyMkd1aWRlbGluZS1iYXNlZCUyMFByb2Nlc3MlMjBNYW5hZ2VtZW50JTIwRW52aXJvbm1lbnQlMjIlMkMlMEElMjAlMjAlMjAlMjBkaXNwbGF5JTNEJTIya2ltJTIyJTJDJTBBJTIwJTIwJTIwJTIwYXV0aG9ycyUzRCUyMktpbSUyQyUyMEplb25nLUFoJTIyJTJDJTBBJTIwJTIwJTIwJTIwcGxhY2UlM0RGQUtFJTJDJTBBJTIwJTIwJTIwJTIwcHAlM0QlMjI0Ny0tNTYlMjIlMkMlMEElMjAlMjAlMjAlMjBlbnRyeXR5cGUlM0QlMjJhcnRpY2xlJTIyJTJDJTBBJTIwJTIwJTIwJTIwdm9sdW1lJTNEJTIyNiUyMiUyQyUwQSUyMCUyMCUyMCUyMG51bWJlciUzRCUyMjElMjIlMkMlMEElMjAlMjAlMjAlMjBJRCUzRCUyMmtpbTIwMDlndWlkZWxpbmUlMjIlMkMlMEElMjAlMjAlMjAlMjBnczIwMTYlM0QlMjIxJTIyJTJDJTBBJTIwJTIwJTIwJTIwcGxhY2V4JTNEJTIyJUVCJUIzJUI0JUVDJTk1JTg4JUVBJUIzJUI1JUVEJTk1JTk5JUVDJTk3JUIwJUVBJUI1JUFDJUVCJTg1JUJDJUVCJUFDJUI4JUVDJUE3JTgwJTIyJTJDJTBBJTI5JTI5JTBBJTI3JTI3JTI3JTI5JTNC\")));\n",
       "    "
      ],
      "text/plain": [
       "<IPython.core.display.Javascript object>"
      ]
     },
     "metadata": {},
     "output_type": "display_data"
    },
    {
     "data": {
      "application/javascript": [
       "$('span:contains(\"# Temp\")').closest('.cell').remove();"
      ],
      "text/plain": [
       "<IPython.core.display.Javascript object>"
      ]
     },
     "metadata": {},
     "output_type": "display_data"
    },
    {
     "data": {
      "application/javascript": [
       "\n",
       "        $('span:contains(\"# Temp\")').closest('.cell').remove();\n",
       "        var code = IPython.notebook.insert_cell_below('code');\n",
       "        var prompt = code.element.find(\".input_prompt\");\n",
       "        prompt.append('<br><button style=\"height: 100%; width: 54px;\">Run</button>');\n",
       "        prompt.on(\"click\", \"button\", function(){\n",
       "            code.execute();\n",
       "        });\n",
       "        code.set_text(decodeURIComponent(window.atob(\"JTIzJTIwVGVtcCUwQWluc2VydCUyOCUyNyUyNyUyNyUwQWtpbTIwMDlhJTIwJTNEJTIwREIlMjhXb3JrVW5yZWxhdGVkJTI4JTBBJTIwJTIwJTIwJTIwMjAwOSUyQyUyMCUyMkd1aWRlbGluZS1iYXNlZCUyMFByb2Nlc3MlMjBNYW5hZ2VtZW50JTIwRW52aXJvbm1lbnQlMjIlMkMlMEElMjAlMjAlMjAlMjBkaXNwbGF5JTNEJTIya2ltJTIyJTJDJTBBJTIwJTIwJTIwJTIwYXV0aG9ycyUzRCUyMktpbSUyQyUyMEplb25nLUFoJTIyJTJDJTBBJTIwJTIwJTIwJTIwcGxhY2UlM0RGQUtFJTJDJTBBJTIwJTIwJTIwJTIwcHAlM0QlMjI0Ny0tNTYlMjIlMkMlMEElMjAlMjAlMjAlMjBlbnRyeXR5cGUlM0QlMjJhcnRpY2xlJTIyJTJDJTBBJTIwJTIwJTIwJTIwdm9sdW1lJTNEJTIyNiUyMiUyQyUwQSUyMCUyMCUyMCUyMG51bWJlciUzRCUyMjElMjIlMkMlMEElMjAlMjAlMjAlMjBJRCUzRCUyMmtpbTIwMDlndWlkZWxpbmUlMjIlMkMlMEElMjAlMjAlMjAlMjBnczIwMTYlM0QlMjIxJTIyJTJDJTBBJTIwJTIwJTIwJTIwcGxhY2V4JTNEJTIyJUVCJUIzJUI0JUVDJTk1JTg4JUVBJUIzJUI1JUVEJTk1JTk5JUVDJTk3JUIwJUVBJUI1JUFDJUVCJTg1JUJDJUVCJUFDJUI4JUVDJUE3JTgwJTIyJTJDJTBBJTI5JTI5JTBBJTI3JTI3JTI3JTI5JTNC\")));\n",
       "    "
      ],
      "text/plain": [
       "<IPython.core.display.Javascript object>"
      ]
     },
     "metadata": {},
     "output_type": "display_data"
    },
    {
     "data": {
      "application/javascript": [
       "$('span:contains(\"# Temp\")').closest('.cell').remove();"
      ],
      "text/plain": [
       "<IPython.core.display.Javascript object>"
      ]
     },
     "metadata": {},
     "output_type": "display_data"
    },
    {
     "data": {
      "application/javascript": [
       "\n",
       "        $('span:contains(\"# Temp\")').closest('.cell').remove();\n",
       "        var code = IPython.notebook.insert_cell_below('code');\n",
       "        var prompt = code.element.find(\".input_prompt\");\n",
       "        prompt.append('<br><button style=\"height: 100%; width: 54px;\">Run</button>');\n",
       "        prompt.on(\"click\", \"button\", function(){\n",
       "            code.execute();\n",
       "        });\n",
       "        code.set_text(decodeURIComponent(window.atob(\"JTIzJTIwVGVtcCUwQWluc2VydCUyOCUyNyUyNyUyNyUwQXBhcmRvMjAxNWElMjAlM0QlMjBEQiUyOFdvcmtVbnJlbGF0ZWQlMjglMEElMjAlMjAlMjAlMjAyMDE1JTJDJTIwJTIyQSUyMDM2MC1kZWdyZWUlMjBwcm9jZXNzJTIwaW1wcm92ZW1lbnQlMjBhcHByb2FjaCUyMGJhc2VkJTIwb24lMjBtdWx0aXBsZSUyMG1vZGVscyUyMiUyQyUwQSUyMCUyMCUyMCUyMGRpc3BsYXklM0QlMjJwYXJkbyUyMiUyQyUwQSUyMCUyMCUyMCUyMGF1dGhvcnMlM0QlMjJQYXJkby1DYWx2YWNoZSUyQyUyMEMlQzMlQTlzYXIlMjBKZXMlQzMlQkFzJTIwYW5kJTIwR2FyYyVDMyVBRGEtUnViaW8lMkMlMjBGJUMzJUE5bGl4JTIwT3NjYXIlMjBhbmQlMjBQaWF0dGluaS1WZWx0aHVpcyUyQyUyME1hcmlvJTIwR2VyYXJkbyUyMGFuZCUyMFBpbm8tQ29ycmVhJTJDJTIwRnJhbmNpc2NvJTIwSm9zJUMzJUE5JTIwYW5kJTIwQmFsZGFzc2FycmUlMkMlMjBNYXJpYSUyMFRlcmVzYSUyMiUyQyUwQSUyMCUyMCUyMCUyMHBsYWNlJTNERkFLRSUyQyUwQSUyMCUyMCUyMCUyMHBwJTNEJTIyOTUtLTEwNCUyMiUyQyUwQSUyMCUyMCUyMCUyMGVudHJ5dHlwZSUzRCUyMmFydGljbGUlMjIlMkMlMEElMjAlMjAlMjAlMjBudW1iZXIlM0QlMjI3NyUyMiUyQyUwQSUyMCUyMCUyMCUyMHB1Ymxpc2hlciUzRCUyMlVuaXZlcnNpZGFkJTIwZGUlMjBBbnRpb3F1aWElMjIlMkMlMEElMjAlMjAlMjAlMjBJRCUzRCUyMnBhcmRvMjAxNTM2MCUyMiUyQyUwQSUyMCUyMCUyMCUyMGdzMjAxNiUzRCUyMjElMjIlMkMlMEElMjAlMjAlMjAlMjBwbGFjZXglM0QlMjJSZXZpc3RhJTIwRmFjdWx0YWQlMjBkZSUyMEluZ2VuaWVyJUMzJUFEYSUyMFVuaXZlcnNpZGFkJTIwZGUlMjBBbnRpb3F1aWElMjIlMkMlMEElMjklMjklMEElMjclMjclMjclMjklM0I=\")));\n",
       "    "
      ],
      "text/plain": [
       "<IPython.core.display.Javascript object>"
      ]
     },
     "metadata": {},
     "output_type": "display_data"
    },
    {
     "data": {
      "application/javascript": [
       "$('span:contains(\"# Temp\")').closest('.cell').remove();"
      ],
      "text/plain": [
       "<IPython.core.display.Javascript object>"
      ]
     },
     "metadata": {},
     "output_type": "display_data"
    },
    {
     "data": {
      "application/javascript": [
       "\n",
       "        $('span:contains(\"# Temp\")').closest('.cell').remove();\n",
       "        var code = IPython.notebook.insert_cell_below('code');\n",
       "        var prompt = code.element.find(\".input_prompt\");\n",
       "        prompt.append('<br><button style=\"height: 100%; width: 54px;\">Run</button>');\n",
       "        prompt.on(\"click\", \"button\", function(){\n",
       "            code.execute();\n",
       "        });\n",
       "        code.set_text(decodeURIComponent(window.atob(\"JTIzJTIwVGVtcCUwQWluc2VydCUyOCUyNyUyNyUyNyUwQXBhcmRvMjAxNWElMjAlM0QlMjBEQiUyOFdvcmtVbnJlbGF0ZWQlMjglMEElMjAlMjAlMjAlMjAyMDE1JTJDJTIwJTIyQSUyMDM2MC1kZWdyZWUlMjBwcm9jZXNzJTIwaW1wcm92ZW1lbnQlMjBhcHByb2FjaCUyMGJhc2VkJTIwb24lMjBtdWx0aXBsZSUyMG1vZGVscyUyMiUyQyUwQSUyMCUyMCUyMCUyMGRpc3BsYXklM0QlMjJwYXJkbyUyMiUyQyUwQSUyMCUyMCUyMCUyMGF1dGhvcnMlM0QlMjJQYXJkby1DYWx2YWNoZSUyQyUyMEMlQzMlQTlzYXIlMjBKZXMlQzMlQkFzJTIwYW5kJTIwR2FyYyVDMyVBRGEtUnViaW8lMkMlMjBGJUMzJUE5bGl4JTIwT3NjYXIlMjBhbmQlMjBQaWF0dGluaS1WZWx0aHVpcyUyQyUyME1hcmlvJTIwR2VyYXJkbyUyMGFuZCUyMFBpbm8tQ29ycmVhJTJDJTIwRnJhbmNpc2NvJTIwSm9zJUMzJUE5JTIwYW5kJTIwQmFsZGFzc2FycmUlMkMlMjBNYXJpYSUyMFRlcmVzYSUyMiUyQyUwQSUyMCUyMCUyMCUyMHBsYWNlJTNERkFLRSUyQyUwQSUyMCUyMCUyMCUyMHBwJTNEJTIyOTUtLTEwNCUyMiUyQyUwQSUyMCUyMCUyMCUyMGVudHJ5dHlwZSUzRCUyMmFydGljbGUlMjIlMkMlMEElMjAlMjAlMjAlMjBudW1iZXIlM0QlMjI3NyUyMiUyQyUwQSUyMCUyMCUyMCUyMHB1Ymxpc2hlciUzRCUyMlVuaXZlcnNpZGFkJTIwZGUlMjBBbnRpb3F1aWElMjIlMkMlMEElMjAlMjAlMjAlMjBJRCUzRCUyMnBhcmRvMjAxNTM2MCUyMiUyQyUwQSUyMCUyMCUyMCUyMGdzMjAxNiUzRCUyMjElMjIlMkMlMEElMjAlMjAlMjAlMjBwbGFjZXglM0QlMjJSZXZpc3RhJTIwRmFjdWx0YWQlMjBkZSUyMEluZ2VuaWVyJUMzJUFEYSUyMFVuaXZlcnNpZGFkJTIwZGUlMjBBbnRpb3F1aWElMjIlMkMlMEElMjklMjklMEElMjclMjclMjclMjklM0I=\")));\n",
       "    "
      ],
      "text/plain": [
       "<IPython.core.display.Javascript object>"
      ]
     },
     "metadata": {},
     "output_type": "display_data"
    },
    {
     "data": {
      "application/javascript": [
       "$('span:contains(\"# Temp\")').closest('.cell').remove();"
      ],
      "text/plain": [
       "<IPython.core.display.Javascript object>"
      ]
     },
     "metadata": {},
     "output_type": "display_data"
    },
    {
     "data": {
      "application/javascript": [
       "\n",
       "        $('span:contains(\"# Temp\")').closest('.cell').remove();\n",
       "        var code = IPython.notebook.insert_cell_below('code');\n",
       "        var prompt = code.element.find(\".input_prompt\");\n",
       "        prompt.append('<br><button style=\"height: 100%; width: 54px;\">Run</button>');\n",
       "        prompt.on(\"click\", \"button\", function(){\n",
       "            code.execute();\n",
       "        });\n",
       "        code.set_text(decodeURIComponent(window.atob(\"JTIzJTIwVGVtcCUwQWluc2VydCUyOCUyNyUyNyUyNyUwQSUyMCUyMCUyMCUyMDIwMTVhJTIwJTNEJTIwREIlMjhXb3JrVW5yZWxhdGVkJTI4JTBBJTIwJTIwJTIwJTIwJTIwJTIwJTIwJTIwMjAxNSUyQyUyMCUyMkh1bWFuJTIwUmVzb3VyY2UlMjBBc3Nlc3NtZW50JTIwaW4lMjBTb2Z0d2FyZSUyMFByb2plY3RzJTIyJTJDJTBBJTIwJTIwJTIwJTIwJTIwJTIwJTIwJTIwZGlzcGxheSUzRCUyMiUyMiUyQyUwQSUyMCUyMCUyMCUyMCUyMCUyMCUyMCUyMGF1dGhvcnMlM0QlMjIlN0JHZXJvZ2lhbm5pcyUyQyUyMFZhc3NpbGlzJTIwQyUyMGFuZCUyMEthcmFnZW9yZ29zJTJDJTIwQW50aG9ueSUyMGFuZCUyMFJhcHRpJTJDJTIwRWxsaSUyMGFuZCUyMEZpdHNpbGlzJTJDJTIwUGFub3MlN0QlMEFqb3VybmFsJTNEJTdCUHJvYy4lMjBvZiUyMHRoZSUyMDV0aCUyMEludC4lMjBDb25mLiUyMG9uJTIwJTIwJTIwSW5kdXN0cmlhbCUyMCUyMCUyMEVuZ2luZWVyaW5nJTIwJTIwJTIwYW5kJTIwJTIwJTIwT3BlcmF0aW9ucyUyMCUyMCUyME1hbmFnZW1lbnQlMjhJRU9NJTIwMjAxNSUyOSUyQyUyMCUyMElFRUUlMkMlMjBEdWJhaSUyQyUyMFVBRSUyQyUyME1hcmNoJTIwMjAxNSU3RCUyMiUyQyUwQSUyMCUyMCUyMCUyMCUyMCUyMCUyMCUyMHBsYWNlJTNERkFLRSUyQyUwQSUyMCUyMCUyMCUyMCUyMCUyMCUyMCUyMGVudHJ5dHlwZSUzRCUyMmFydGljbGUlMjIlMkMlMEElMjAlMjAlMjAlMjAlMjAlMjAlMjAlMjBJRCUzRCUyMmdlcm9naWFubmlzaHVtYW4lMjIlMkMlMEElMjAlMjAlMjAlMjAlMjAlMjAlMjAlMjBnczIwMTYlM0QlMjIxJTIyJTJDJTBBJTIwJTIwJTIwJTIwJTIwJTIwJTIwJTIwcGxhY2V4JTNEJTIyJTIyJTJDJTBBJTIwJTIwJTIwJTIwJTI5JTI5JTBBJTI3JTI3JTI3JTI5JTNC\")));\n",
       "    "
      ],
      "text/plain": [
       "<IPython.core.display.Javascript object>"
      ]
     },
     "metadata": {},
     "output_type": "display_data"
    },
    {
     "data": {
      "application/javascript": [
       "$('span:contains(\"# Temp\")').closest('.cell').remove();"
      ],
      "text/plain": [
       "<IPython.core.display.Javascript object>"
      ]
     },
     "metadata": {},
     "output_type": "display_data"
    },
    {
     "data": {
      "application/javascript": [
       "\n",
       "        $('span:contains(\"# Temp\")').closest('.cell').remove();\n",
       "        var code = IPython.notebook.insert_cell_below('code');\n",
       "        var prompt = code.element.find(\".input_prompt\");\n",
       "        prompt.append('<br><button style=\"height: 100%; width: 54px;\">Run</button>');\n",
       "        prompt.on(\"click\", \"button\", function(){\n",
       "            code.execute();\n",
       "        });\n",
       "        code.set_text(decodeURIComponent(window.atob(\"JTIzJTIwVGVtcCUwQWluc2VydCUyOCUyNyUyNyUyNyUwQSUyMCUyMCUyMCUyMDIwMTVhJTIwJTNEJTIwREIlMjhXb3JrVW5yZWxhdGVkJTI4JTBBJTIwJTIwJTIwJTIwJTIwJTIwJTIwJTIwMjAxNSUyQyUyMCUyMkh1bWFuJTIwUmVzb3VyY2UlMjBBc3Nlc3NtZW50JTIwaW4lMjBTb2Z0d2FyZSUyMFByb2plY3RzJTIyJTJDJTBBJTIwJTIwJTIwJTIwJTIwJTIwJTIwJTIwZGlzcGxheSUzRCUyMiUyMiUyQyUwQSUyMCUyMCUyMCUyMCUyMCUyMCUyMCUyMGF1dGhvcnMlM0QlMjIlN0JHZXJvZ2lhbm5pcyUyQyUyMFZhc3NpbGlzJTIwQyUyMGFuZCUyMEthcmFnZW9yZ29zJTJDJTIwQW50aG9ueSUyMGFuZCUyMFJhcHRpJTJDJTIwRWxsaSUyMGFuZCUyMEZpdHNpbGlzJTJDJTIwUGFub3MlN0QlMEFqb3VybmFsJTNEJTdCUHJvYy4lMjBvZiUyMHRoZSUyMDV0aCUyMEludC4lMjBDb25mLiUyMG9uJTIwJTIwJTIwSW5kdXN0cmlhbCUyMCUyMCUyMEVuZ2luZWVyaW5nJTIwJTIwJTIwYW5kJTIwJTIwJTIwT3BlcmF0aW9ucyUyMCUyMCUyME1hbmFnZW1lbnQlMjhJRU9NJTIwMjAxNSUyOSUyQyUyMCUyMElFRUUlMkMlMjBEdWJhaSUyQyUyMFVBRSUyQyUyME1hcmNoJTIwMjAxNSU3RCUyMiUyQyUwQSUyMCUyMCUyMCUyMCUyMCUyMCUyMCUyMHBsYWNlJTNERkFLRSUyQyUwQSUyMCUyMCUyMCUyMCUyMCUyMCUyMCUyMGVudHJ5dHlwZSUzRCUyMmFydGljbGUlMjIlMkMlMEElMjAlMjAlMjAlMjAlMjAlMjAlMjAlMjBJRCUzRCUyMmdlcm9naWFubmlzaHVtYW4lMjIlMkMlMEElMjAlMjAlMjAlMjAlMjAlMjAlMjAlMjBnczIwMTYlM0QlMjIxJTIyJTJDJTBBJTIwJTIwJTIwJTIwJTIwJTIwJTIwJTIwcGxhY2V4JTNEJTIyJTIyJTJDJTBBJTIwJTIwJTIwJTIwJTI5JTI5JTBBJTI3JTI3JTI3JTI5JTNC\")));\n",
       "    "
      ],
      "text/plain": [
       "<IPython.core.display.Javascript object>"
      ]
     },
     "metadata": {},
     "output_type": "display_data"
    },
    {
     "data": {
      "application/javascript": [
       "$('span:contains(\"# Temp\")').closest('.cell').remove();"
      ],
      "text/plain": [
       "<IPython.core.display.Javascript object>"
      ]
     },
     "metadata": {},
     "output_type": "display_data"
    },
    {
     "data": {
      "application/javascript": [
       "\n",
       "        $('span:contains(\"# Temp\")').closest('.cell').remove();\n",
       "        var code = IPython.notebook.insert_cell_below('code');\n",
       "        var prompt = code.element.find(\".input_prompt\");\n",
       "        prompt.append('<br><button style=\"height: 100%; width: 54px;\">Run</button>');\n",
       "        prompt.on(\"click\", \"button\", function(){\n",
       "            code.execute();\n",
       "        });\n",
       "        code.set_text(decodeURIComponent(window.atob(\"JTIzJTIwVGVtcCUwQWluc2VydCUyOCUyNyUyNyUyNyUwQWdhcmMlQzMlQURhMjAwNmElMjAlM0QlMjBEQiUyOFdvcmtVbnJlbGF0ZWQlMjglMEElMjAlMjAlMjAlMjAyMDA2JTJDJTIwJTIyVG93YXJkcyUyMGElMjBjb25zaXN0ZW50JTIwdGVybWlub2xvZ3klMjBmb3IlMjBzb2Z0d2FyZSUyMG1lYXN1cmVtZW50JTIyJTJDJTBBJTIwJTIwJTIwJTIwZGlzcGxheSUzRCUyMmdhcmMlQzMlQURhJTIyJTJDJTBBJTIwJTIwJTIwJTIwYXV0aG9ycyUzRCUyMkdhcmMlQzMlQURhJTJDJTIwRiVDMyVBOWxpeCUyMGFuZCUyMEJlcnRvYSUyQyUyME1hbnVlbCUyMEYlMjBhbmQlMjBDYWxlcm8lMkMlMjBDb3JhbCUyMGFuZCUyMFZhbGxlY2lsbG8lMkMlMjBBbnRvbmlvJTIwYW5kJTIwUnVpeiUyQyUyMEZyYW5jaXNjbyUyMGFuZCUyMFBpYXR0aW5pJTJDJTIwTWFyaW8lMjBhbmQlMjBHZW5lcm8lMkMlMjBNYXJjZWxhJTIyJTJDJTBBJTIwJTIwJTIwJTIwcGxhY2UlM0RJU1QlMkMlMEElMjAlMjAlMjAlMjBwcCUzRCUyMjYzMS0tNjQ0JTIyJTJDJTBBJTIwJTIwJTIwJTIwZW50cnl0eXBlJTNEJTIyYXJ0aWNsZSUyMiUyQyUwQSUyMCUyMCUyMCUyMHZvbHVtZSUzRCUyMjQ4JTIyJTJDJTBBJTIwJTIwJTIwJTIwbnVtYmVyJTNEJTIyOCUyMiUyQyUwQSUyMCUyMCUyMCUyMHB1Ymxpc2hlciUzRCUyMkVsc2V2aWVyJTIyJTJDJTBBJTIwJTIwJTIwJTIwSUQlM0QlMjJnYXJjaWEyMDA2dG93YXJkcyUyMiUyQyUwQSUyMCUyMCUyMCUyMGdzMjAxNiUzRCUyMjElMjIlMkMlMEElMjAlMjAlMjAlMjBwbGFjZXglM0QlMjJJbmZvcm1hdGlvbiUyMGFuZCUyMFNvZnR3YXJlJTIwVGVjaG5vbG9neSUyMiUyQyUwQSUyOSUyOSUwQSUyNyUyNyUyNyUyOSUzQg==\")));\n",
       "    "
      ],
      "text/plain": [
       "<IPython.core.display.Javascript object>"
      ]
     },
     "metadata": {},
     "output_type": "display_data"
    },
    {
     "data": {
      "application/javascript": [
       "$('span:contains(\"# Temp\")').closest('.cell').remove();"
      ],
      "text/plain": [
       "<IPython.core.display.Javascript object>"
      ]
     },
     "metadata": {},
     "output_type": "display_data"
    },
    {
     "data": {
      "application/javascript": [
       "\n",
       "        $('span:contains(\"# Temp\")').closest('.cell').remove();\n",
       "        var code = IPython.notebook.insert_cell_below('code');\n",
       "        var prompt = code.element.find(\".input_prompt\");\n",
       "        prompt.append('<br><button style=\"height: 100%; width: 54px;\">Run</button>');\n",
       "        prompt.on(\"click\", \"button\", function(){\n",
       "            code.execute();\n",
       "        });\n",
       "        code.set_text(decodeURIComponent(window.atob(\"JTIzJTIwVGVtcCUwQWluc2VydCUyOCUyNyUyNyUyNyUwQWdhcmMlQzMlQURhMjAwNmElMjAlM0QlMjBEQiUyOFdvcmtVbnJlbGF0ZWQlMjglMEElMjAlMjAlMjAlMjAyMDA2JTJDJTIwJTIyVG93YXJkcyUyMGElMjBjb25zaXN0ZW50JTIwdGVybWlub2xvZ3klMjBmb3IlMjBzb2Z0d2FyZSUyMG1lYXN1cmVtZW50JTIyJTJDJTBBJTIwJTIwJTIwJTIwZGlzcGxheSUzRCUyMmdhcmMlQzMlQURhJTIyJTJDJTBBJTIwJTIwJTIwJTIwYXV0aG9ycyUzRCUyMkdhcmMlQzMlQURhJTJDJTIwRiVDMyVBOWxpeCUyMGFuZCUyMEJlcnRvYSUyQyUyME1hbnVlbCUyMEYlMjBhbmQlMjBDYWxlcm8lMkMlMjBDb3JhbCUyMGFuZCUyMFZhbGxlY2lsbG8lMkMlMjBBbnRvbmlvJTIwYW5kJTIwUnVpeiUyQyUyMEZyYW5jaXNjbyUyMGFuZCUyMFBpYXR0aW5pJTJDJTIwTWFyaW8lMjBhbmQlMjBHZW5lcm8lMkMlMjBNYXJjZWxhJTIyJTJDJTBBJTIwJTIwJTIwJTIwcGxhY2UlM0RJU1QlMkMlMEElMjAlMjAlMjAlMjBwcCUzRCUyMjYzMS0tNjQ0JTIyJTJDJTBBJTIwJTIwJTIwJTIwZW50cnl0eXBlJTNEJTIyYXJ0aWNsZSUyMiUyQyUwQSUyMCUyMCUyMCUyMHZvbHVtZSUzRCUyMjQ4JTIyJTJDJTBBJTIwJTIwJTIwJTIwbnVtYmVyJTNEJTIyOCUyMiUyQyUwQSUyMCUyMCUyMCUyMHB1Ymxpc2hlciUzRCUyMkVsc2V2aWVyJTIyJTJDJTBBJTIwJTIwJTIwJTIwSUQlM0QlMjJnYXJjaWEyMDA2dG93YXJkcyUyMiUyQyUwQSUyMCUyMCUyMCUyMGdzMjAxNiUzRCUyMjElMjIlMkMlMEElMjAlMjAlMjAlMjBwbGFjZXglM0QlMjJJbmZvcm1hdGlvbiUyMGFuZCUyMFNvZnR3YXJlJTIwVGVjaG5vbG9neSUyMiUyQyUwQSUyOSUyOSUwQSUyNyUyNyUyNyUyOSUzQg==\")));\n",
       "    "
      ],
      "text/plain": [
       "<IPython.core.display.Javascript object>"
      ]
     },
     "metadata": {},
     "output_type": "display_data"
    },
    {
     "data": {
      "application/javascript": [
       "$('span:contains(\"# Temp\")').closest('.cell').remove();"
      ],
      "text/plain": [
       "<IPython.core.display.Javascript object>"
      ]
     },
     "metadata": {},
     "output_type": "display_data"
    },
    {
     "data": {
      "application/javascript": [
       "\n",
       "        $('span:contains(\"# Temp\")').closest('.cell').remove();\n",
       "        var code = IPython.notebook.insert_cell_below('code');\n",
       "        var prompt = code.element.find(\".input_prompt\");\n",
       "        prompt.append('<br><button style=\"height: 100%; width: 54px;\">Run</button>');\n",
       "        prompt.on(\"click\", \"button\", function(){\n",
       "            code.execute();\n",
       "        });\n",
       "        code.set_text(decodeURIComponent(window.atob(\"JTIzJTIwVGVtcCUwQWluc2VydCUyOCUyNyUyNyUyNyUwQSUyMCUyMCUyMCUyMDIwMTVhJTIwJTNEJTIwREIlMjhXb3JrVW5yZWxhdGVkJTI4JTBBJTIwJTIwJTIwJTIwJTIwJTIwJTIwJTIwMjAxNSUyQyUyMCUyMkh1bWFuJTIwUmVzb3VyY2UlMjBBc3Nlc3NtZW50JTIwaW4lMjBTb2Z0d2FyZSUyMFByb2plY3RzJTIyJTJDJTBBJTIwJTIwJTIwJTIwJTIwJTIwJTIwJTIwZGlzcGxheSUzRCUyMiUyMiUyQyUwQSUyMCUyMCUyMCUyMCUyMCUyMCUyMCUyMGF1dGhvcnMlM0QlMjIlN0JHZXJvZ2lhbm5pcyUyQyUyMFZhc3NpbGlzJTIwQyUyMGFuZCUyMEthcmFnZW9yZ29zJTJDJTIwQW50aG9ueSUyMGFuZCUyMFJhcHRpJTJDJTIwRWxsaSUyMGFuZCUyMEZpdHNpbGlzJTJDJTIwUGFub3MlN0QlMEFqb3VybmFsJTNEJTdCUHJvYy4lMjBvZiUyMHRoZSUyMDV0aCUyMEludC4lMjBDb25mLiUyMG9uJTIwJTIwJTIwSW5kdXN0cmlhbCUyMCUyMCUyMEVuZ2luZWVyaW5nJTIwJTIwJTIwYW5kJTIwJTIwJTIwT3BlcmF0aW9ucyUyMCUyMCUyME1hbmFnZW1lbnQlMjhJRU9NJTIwMjAxNSUyOSUyQyUyMCUyMElFRUUlMkMlMjBEdWJhaSUyQyUyMFVBRSUyQyUyME1hcmNoJTIwMjAxNSU3RCUyMiUyQyUwQSUyMCUyMCUyMCUyMCUyMCUyMCUyMCUyMHBsYWNlJTNERkFLRSUyQyUwQSUyMCUyMCUyMCUyMCUyMCUyMCUyMCUyMGVudHJ5dHlwZSUzRCUyMmFydGljbGUlMjIlMkMlMEElMjAlMjAlMjAlMjAlMjAlMjAlMjAlMjBJRCUzRCUyMmdlcm9naWFubmlzaHVtYW4lMjIlMkMlMEElMjAlMjAlMjAlMjAlMjAlMjAlMjAlMjBnczIwMTYlM0QlMjIxJTIyJTJDJTBBJTIwJTIwJTIwJTIwJTIwJTIwJTIwJTIwcGxhY2V4JTNEJTIyJTIyJTJDJTBBJTIwJTIwJTIwJTIwJTI5JTI5JTBBJTI3JTI3JTI3JTI5JTNC\")));\n",
       "    "
      ],
      "text/plain": [
       "<IPython.core.display.Javascript object>"
      ]
     },
     "metadata": {},
     "output_type": "display_data"
    },
    {
     "data": {
      "application/javascript": [
       "$('span:contains(\"# Temp\")').closest('.cell').remove();"
      ],
      "text/plain": [
       "<IPython.core.display.Javascript object>"
      ]
     },
     "metadata": {},
     "output_type": "display_data"
    },
    {
     "data": {
      "application/javascript": [
       "\n",
       "        $('span:contains(\"# Temp\")').closest('.cell').remove();\n",
       "        var code = IPython.notebook.insert_cell_below('code');\n",
       "        var prompt = code.element.find(\".input_prompt\");\n",
       "        prompt.append('<br><button style=\"height: 100%; width: 54px;\">Run</button>');\n",
       "        prompt.on(\"click\", \"button\", function(){\n",
       "            code.execute();\n",
       "        });\n",
       "        code.set_text(decodeURIComponent(window.atob(\"JTIzJTIwVGVtcCUwQWluc2VydCUyOCUyNyUyNyUyNyUwQSUyMCUyMCUyMCUyMDIwMTVhJTIwJTNEJTIwREIlMjhXb3JrVW5yZWxhdGVkJTI4JTBBJTIwJTIwJTIwJTIwJTIwJTIwJTIwJTIwMjAxNSUyQyUyMCUyMkh1bWFuJTIwUmVzb3VyY2UlMjBBc3Nlc3NtZW50JTIwaW4lMjBTb2Z0d2FyZSUyMFByb2plY3RzJTIyJTJDJTBBJTIwJTIwJTIwJTIwJTIwJTIwJTIwJTIwZGlzcGxheSUzRCUyMiUyMiUyQyUwQSUyMCUyMCUyMCUyMCUyMCUyMCUyMCUyMGF1dGhvcnMlM0QlMjIlN0JHZXJvZ2lhbm5pcyUyQyUyMFZhc3NpbGlzJTIwQyUyMGFuZCUyMEthcmFnZW9yZ29zJTJDJTIwQW50aG9ueSUyMGFuZCUyMFJhcHRpJTJDJTIwRWxsaSUyMGFuZCUyMEZpdHNpbGlzJTJDJTIwUGFub3MlN0QlMEFqb3VybmFsJTNEJTdCUHJvYy4lMjBvZiUyMHRoZSUyMDV0aCUyMEludC4lMjBDb25mLiUyMG9uJTIwJTIwJTIwSW5kdXN0cmlhbCUyMCUyMCUyMEVuZ2luZWVyaW5nJTIwJTIwJTIwYW5kJTIwJTIwJTIwT3BlcmF0aW9ucyUyMCUyMCUyME1hbmFnZW1lbnQlMjhJRU9NJTIwMjAxNSUyOSUyQyUyMCUyMElFRUUlMkMlMjBEdWJhaSUyQyUyMFVBRSUyQyUyME1hcmNoJTIwMjAxNSU3RCUyMiUyQyUwQSUyMCUyMCUyMCUyMCUyMCUyMCUyMCUyMHBsYWNlJTNERkFLRSUyQyUwQSUyMCUyMCUyMCUyMCUyMCUyMCUyMCUyMGVudHJ5dHlwZSUzRCUyMmFydGljbGUlMjIlMkMlMEElMjAlMjAlMjAlMjAlMjAlMjAlMjAlMjBJRCUzRCUyMmdlcm9naWFubmlzaHVtYW4lMjIlMkMlMEElMjAlMjAlMjAlMjAlMjAlMjAlMjAlMjBnczIwMTYlM0QlMjIxJTIyJTJDJTBBJTIwJTIwJTIwJTIwJTIwJTIwJTIwJTIwcGxhY2V4JTNEJTIyJTIyJTJDJTBBJTIwJTIwJTIwJTIwJTI5JTI5JTBBJTI3JTI3JTI3JTI5JTNC\")));\n",
       "    "
      ],
      "text/plain": [
       "<IPython.core.display.Javascript object>"
      ]
     },
     "metadata": {},
     "output_type": "display_data"
    },
    {
     "data": {
      "application/javascript": [
       "$('span:contains(\"# Temp\")').closest('.cell').remove();"
      ],
      "text/plain": [
       "<IPython.core.display.Javascript object>"
      ]
     },
     "metadata": {},
     "output_type": "display_data"
    },
    {
     "data": {
      "application/javascript": [
       "\n",
       "        $('span:contains(\"# Temp\")').closest('.cell').remove();\n",
       "        var code = IPython.notebook.insert_cell_below('code');\n",
       "        var prompt = code.element.find(\".input_prompt\");\n",
       "        prompt.append('<br><button style=\"height: 100%; width: 54px;\">Run</button>');\n",
       "        prompt.on(\"click\", \"button\", function(){\n",
       "            code.execute();\n",
       "        });\n",
       "        code.set_text(decodeURIComponent(window.atob(\"JTIzJTIwVGVtcCUwQWluc2VydCUyOCUyNyUyNyUyNyUwQWdhcmMlQzMlQURhMjAwNmElMjAlM0QlMjBEQiUyOFdvcmtVbnJlbGF0ZWQlMjglMEElMjAlMjAlMjAlMjAyMDA2JTJDJTIwJTIyVG93YXJkcyUyMGElMjBjb25zaXN0ZW50JTIwdGVybWlub2xvZ3klMjBmb3IlMjBzb2Z0d2FyZSUyMG1lYXN1cmVtZW50JTIyJTJDJTBBJTIwJTIwJTIwJTIwZGlzcGxheSUzRCUyMmdhcmMlQzMlQURhJTIyJTJDJTBBJTIwJTIwJTIwJTIwYXV0aG9ycyUzRCUyMkdhcmMlQzMlQURhJTJDJTIwRiVDMyVBOWxpeCUyMGFuZCUyMEJlcnRvYSUyQyUyME1hbnVlbCUyMEYlMjBhbmQlMjBDYWxlcm8lMkMlMjBDb3JhbCUyMGFuZCUyMFZhbGxlY2lsbG8lMkMlMjBBbnRvbmlvJTIwYW5kJTIwUnVpeiUyQyUyMEZyYW5jaXNjbyUyMGFuZCUyMFBpYXR0aW5pJTJDJTIwTWFyaW8lMjBhbmQlMjBHZW5lcm8lMkMlMjBNYXJjZWxhJTIyJTJDJTBBJTIwJTIwJTIwJTIwcGxhY2UlM0RJU1QlMkMlMEElMjAlMjAlMjAlMjBwcCUzRCUyMjYzMS0tNjQ0JTIyJTJDJTBBJTIwJTIwJTIwJTIwZW50cnl0eXBlJTNEJTIyYXJ0aWNsZSUyMiUyQyUwQSUyMCUyMCUyMCUyMHZvbHVtZSUzRCUyMjQ4JTIyJTJDJTBBJTIwJTIwJTIwJTIwbnVtYmVyJTNEJTIyOCUyMiUyQyUwQSUyMCUyMCUyMCUyMHB1Ymxpc2hlciUzRCUyMkVsc2V2aWVyJTIyJTJDJTBBJTIwJTIwJTIwJTIwSUQlM0QlMjJnYXJjaWEyMDA2dG93YXJkcyUyMiUyQyUwQSUyMCUyMCUyMCUyMGdzMjAxNiUzRCUyMjElMjIlMkMlMEElMjAlMjAlMjAlMjBwbGFjZXglM0QlMjJJbmZvcm1hdGlvbiUyMGFuZCUyMFNvZnR3YXJlJTIwVGVjaG5vbG9neSUyMiUyQyUwQSUyOSUyOSUwQSUyNyUyNyUyNyUyOSUzQg==\")));\n",
       "    "
      ],
      "text/plain": [
       "<IPython.core.display.Javascript object>"
      ]
     },
     "metadata": {},
     "output_type": "display_data"
    },
    {
     "data": {
      "application/javascript": [
       "$('span:contains(\"# Temp\")').closest('.cell').remove();"
      ],
      "text/plain": [
       "<IPython.core.display.Javascript object>"
      ]
     },
     "metadata": {},
     "output_type": "display_data"
    },
    {
     "data": {
      "application/javascript": [
       "\n",
       "        $('span:contains(\"# Temp\")').closest('.cell').remove();\n",
       "        var code = IPython.notebook.insert_cell_below('code');\n",
       "        var prompt = code.element.find(\".input_prompt\");\n",
       "        prompt.append('<br><button style=\"height: 100%; width: 54px;\">Run</button>');\n",
       "        prompt.on(\"click\", \"button\", function(){\n",
       "            code.execute();\n",
       "        });\n",
       "        code.set_text(decodeURIComponent(window.atob(\"JTIzJTIwVGVtcCUwQWluc2VydCUyOCUyNyUyNyUyNyUwQWdhcmMlQzMlQURhMjAwNmElMjAlM0QlMjBEQiUyOFdvcmtVbnJlbGF0ZWQlMjglMEElMjAlMjAlMjAlMjAyMDA2JTJDJTIwJTIyVG93YXJkcyUyMGElMjBjb25zaXN0ZW50JTIwdGVybWlub2xvZ3klMjBmb3IlMjBzb2Z0d2FyZSUyMG1lYXN1cmVtZW50JTIyJTJDJTBBJTIwJTIwJTIwJTIwZGlzcGxheSUzRCUyMmdhcmMlQzMlQURhJTIyJTJDJTBBJTIwJTIwJTIwJTIwYXV0aG9ycyUzRCUyMkdhcmMlQzMlQURhJTJDJTIwRiVDMyVBOWxpeCUyMGFuZCUyMEJlcnRvYSUyQyUyME1hbnVlbCUyMEYlMjBhbmQlMjBDYWxlcm8lMkMlMjBDb3JhbCUyMGFuZCUyMFZhbGxlY2lsbG8lMkMlMjBBbnRvbmlvJTIwYW5kJTIwUnVpeiUyQyUyMEZyYW5jaXNjbyUyMGFuZCUyMFBpYXR0aW5pJTJDJTIwTWFyaW8lMjBhbmQlMjBHZW5lcm8lMkMlMjBNYXJjZWxhJTIyJTJDJTBBJTIwJTIwJTIwJTIwcGxhY2UlM0RJU1QlMkMlMEElMjAlMjAlMjAlMjBwcCUzRCUyMjYzMS0tNjQ0JTIyJTJDJTBBJTIwJTIwJTIwJTIwZW50cnl0eXBlJTNEJTIyYXJ0aWNsZSUyMiUyQyUwQSUyMCUyMCUyMCUyMHZvbHVtZSUzRCUyMjQ4JTIyJTJDJTBBJTIwJTIwJTIwJTIwbnVtYmVyJTNEJTIyOCUyMiUyQyUwQSUyMCUyMCUyMCUyMHB1Ymxpc2hlciUzRCUyMkVsc2V2aWVyJTIyJTJDJTBBJTIwJTIwJTIwJTIwSUQlM0QlMjJnYXJjaWEyMDA2dG93YXJkcyUyMiUyQyUwQSUyMCUyMCUyMCUyMGdzMjAxNiUzRCUyMjElMjIlMkMlMEElMjAlMjAlMjAlMjBwbGFjZXglM0QlMjJJbmZvcm1hdGlvbiUyMGFuZCUyMFNvZnR3YXJlJTIwVGVjaG5vbG9neSUyMiUyQyUwQSUyOSUyOSUwQSUyNyUyNyUyNyUyOSUzQg==\")));\n",
       "    "
      ],
      "text/plain": [
       "<IPython.core.display.Javascript object>"
      ]
     },
     "metadata": {},
     "output_type": "display_data"
    },
    {
     "data": {
      "application/javascript": [
       "$('span:contains(\"# Temp\")').closest('.cell').remove();"
      ],
      "text/plain": [
       "<IPython.core.display.Javascript object>"
      ]
     },
     "metadata": {},
     "output_type": "display_data"
    },
    {
     "data": {
      "application/javascript": [
       "\n",
       "        $('span:contains(\"# Temp\")').closest('.cell').remove();\n",
       "        var code = IPython.notebook.insert_cell_below('code');\n",
       "        var prompt = code.element.find(\".input_prompt\");\n",
       "        prompt.append('<br><button style=\"height: 100%; width: 54px;\">Run</button>');\n",
       "        prompt.on(\"click\", \"button\", function(){\n",
       "            code.execute();\n",
       "        });\n",
       "        code.set_text(decodeURIComponent(window.atob(\"JTIzJTIwVGVtcCUwQWluc2VydCUyOCUyNyUyNyUyNyUwQSUyMCUyMCUyMCUyMDIwMTVhJTIwJTNEJTIwREIlMjhXb3JrVW5yZWxhdGVkJTI4JTBBJTIwJTIwJTIwJTIwJTIwJTIwJTIwJTIwMjAxNSUyQyUyMCUyMkh1bWFuJTIwUmVzb3VyY2UlMjBBc3Nlc3NtZW50JTIwaW4lMjBTb2Z0d2FyZSUyMFByb2plY3RzJTIyJTJDJTBBJTIwJTIwJTIwJTIwJTIwJTIwJTIwJTIwZGlzcGxheSUzRCUyMiUyMiUyQyUwQSUyMCUyMCUyMCUyMCUyMCUyMCUyMCUyMGF1dGhvcnMlM0QlMjIlN0JHZXJvZ2lhbm5pcyUyQyUyMFZhc3NpbGlzJTIwQyUyMGFuZCUyMEthcmFnZW9yZ29zJTJDJTIwQW50aG9ueSUyMGFuZCUyMFJhcHRpJTJDJTIwRWxsaSUyMGFuZCUyMEZpdHNpbGlzJTJDJTIwUGFub3MlN0QlMEFqb3VybmFsJTNEJTdCUHJvYy4lMjBvZiUyMHRoZSUyMDV0aCUyMEludC4lMjBDb25mLiUyMG9uJTIwJTIwJTIwSW5kdXN0cmlhbCUyMCUyMCUyMEVuZ2luZWVyaW5nJTIwJTIwJTIwYW5kJTIwJTIwJTIwT3BlcmF0aW9ucyUyMCUyMCUyME1hbmFnZW1lbnQlMjhJRU9NJTIwMjAxNSUyOSUyQyUyMCUyMElFRUUlMkMlMjBEdWJhaSUyQyUyMFVBRSUyQyUyME1hcmNoJTIwMjAxNSU3RCUyMiUyQyUwQSUyMCUyMCUyMCUyMCUyMCUyMCUyMCUyMHBsYWNlJTNERkFLRSUyQyUwQSUyMCUyMCUyMCUyMCUyMCUyMCUyMCUyMGVudHJ5dHlwZSUzRCUyMmFydGljbGUlMjIlMkMlMEElMjAlMjAlMjAlMjAlMjAlMjAlMjAlMjBJRCUzRCUyMmdlcm9naWFubmlzaHVtYW4lMjIlMkMlMEElMjAlMjAlMjAlMjAlMjAlMjAlMjAlMjBnczIwMTYlM0QlMjIxJTIyJTJDJTBBJTIwJTIwJTIwJTIwJTIwJTIwJTIwJTIwcGxhY2V4JTNEJTIyJTIyJTJDJTBBJTIwJTIwJTIwJTIwJTI5JTI5JTBBJTI3JTI3JTI3JTI5JTNC\")));\n",
       "    "
      ],
      "text/plain": [
       "<IPython.core.display.Javascript object>"
      ]
     },
     "metadata": {},
     "output_type": "display_data"
    },
    {
     "data": {
      "application/javascript": [
       "$('span:contains(\"# Temp\")').closest('.cell').remove();"
      ],
      "text/plain": [
       "<IPython.core.display.Javascript object>"
      ]
     },
     "metadata": {},
     "output_type": "display_data"
    },
    {
     "data": {
      "application/javascript": [
       "\n",
       "        $('span:contains(\"# Temp\")').closest('.cell').remove();\n",
       "        var code = IPython.notebook.insert_cell_below('code');\n",
       "        var prompt = code.element.find(\".input_prompt\");\n",
       "        prompt.append('<br><button style=\"height: 100%; width: 54px;\">Run</button>');\n",
       "        prompt.on(\"click\", \"button\", function(){\n",
       "            code.execute();\n",
       "        });\n",
       "        code.set_text(decodeURIComponent(window.atob(\"JTIzJTIwVGVtcCUwQWluc2VydCUyOCUyNyUyNyUyNyUwQSUyMCUyMCUyMCUyMDIwMTVhJTIwJTNEJTIwREIlMjhXb3JrVW5yZWxhdGVkJTI4JTBBJTIwJTIwJTIwJTIwJTIwJTIwJTIwJTIwMjAxNSUyQyUyMCUyMkh1bWFuJTIwUmVzb3VyY2UlMjBBc3Nlc3NtZW50JTIwaW4lMjBTb2Z0d2FyZSUyMFByb2plY3RzJTIyJTJDJTBBJTIwJTIwJTIwJTIwJTIwJTIwJTIwJTIwZGlzcGxheSUzRCUyMiUyMiUyQyUwQSUyMCUyMCUyMCUyMCUyMCUyMCUyMCUyMGF1dGhvcnMlM0QlMjIlN0JHZXJvZ2lhbm5pcyUyQyUyMFZhc3NpbGlzJTIwQyUyMGFuZCUyMEthcmFnZW9yZ29zJTJDJTIwQW50aG9ueSUyMGFuZCUyMFJhcHRpJTJDJTIwRWxsaSUyMGFuZCUyMEZpdHNpbGlzJTJDJTIwUGFub3MlN0QlMEFqb3VybmFsJTNEJTdCUHJvYy4lMjBvZiUyMHRoZSUyMDV0aCUyMEludC4lMjBDb25mLiUyMG9uJTIwJTIwJTIwSW5kdXN0cmlhbCUyMCUyMCUyMEVuZ2luZWVyaW5nJTIwJTIwJTIwYW5kJTIwJTIwJTIwT3BlcmF0aW9ucyUyMCUyMCUyME1hbmFnZW1lbnQlMjhJRU9NJTIwMjAxNSUyOSUyQyUyMCUyMElFRUUlMkMlMjBEdWJhaSUyQyUyMFVBRSUyQyUyME1hcmNoJTIwMjAxNSU3RCUyMiUyQyUwQSUyMCUyMCUyMCUyMCUyMCUyMCUyMCUyMHBsYWNlJTNERkFLRSUyQyUwQSUyMCUyMCUyMCUyMCUyMCUyMCUyMCUyMGVudHJ5dHlwZSUzRCUyMmFydGljbGUlMjIlMkMlMEElMjAlMjAlMjAlMjAlMjAlMjAlMjAlMjBJRCUzRCUyMmdlcm9naWFubmlzaHVtYW4lMjIlMkMlMEElMjAlMjAlMjAlMjAlMjAlMjAlMjAlMjBnczIwMTYlM0QlMjIxJTIyJTJDJTBBJTIwJTIwJTIwJTIwJTIwJTIwJTIwJTIwcGxhY2V4JTNEJTIyJTIyJTJDJTBBJTIwJTIwJTIwJTIwJTI5JTI5JTBBJTI3JTI3JTI3JTI5JTNC\")));\n",
       "    "
      ],
      "text/plain": [
       "<IPython.core.display.Javascript object>"
      ]
     },
     "metadata": {},
     "output_type": "display_data"
    },
    {
     "data": {
      "application/javascript": [
       "$('span:contains(\"# Temp\")').closest('.cell').remove();"
      ],
      "text/plain": [
       "<IPython.core.display.Javascript object>"
      ]
     },
     "metadata": {},
     "output_type": "display_data"
    },
    {
     "data": {
      "application/javascript": [
       "\n",
       "        $('span:contains(\"# Temp\")').closest('.cell').remove();\n",
       "        var code = IPython.notebook.insert_cell_below('code');\n",
       "        var prompt = code.element.find(\".input_prompt\");\n",
       "        prompt.append('<br><button style=\"height: 100%; width: 54px;\">Run</button>');\n",
       "        prompt.on(\"click\", \"button\", function(){\n",
       "            code.execute();\n",
       "        });\n",
       "        code.set_text(decodeURIComponent(window.atob(\"JTIzJTIwVGVtcCUwQWluc2VydCUyOCUyNyUyNyUyNyUwQWdhcmMlQzMlQURhMjAwNmElMjAlM0QlMjBEQiUyOFdvcmtVbnJlbGF0ZWQlMjglMEElMjAlMjAlMjAlMjAyMDA2JTJDJTIwJTIyVG93YXJkcyUyMGElMjBjb25zaXN0ZW50JTIwdGVybWlub2xvZ3klMjBmb3IlMjBzb2Z0d2FyZSUyMG1lYXN1cmVtZW50JTIyJTJDJTBBJTIwJTIwJTIwJTIwZGlzcGxheSUzRCUyMmdhcmMlQzMlQURhJTIyJTJDJTBBJTIwJTIwJTIwJTIwYXV0aG9ycyUzRCUyMkdhcmMlQzMlQURhJTJDJTIwRiVDMyVBOWxpeCUyMGFuZCUyMEJlcnRvYSUyQyUyME1hbnVlbCUyMEYlMjBhbmQlMjBDYWxlcm8lMkMlMjBDb3JhbCUyMGFuZCUyMFZhbGxlY2lsbG8lMkMlMjBBbnRvbmlvJTIwYW5kJTIwUnVpeiUyQyUyMEZyYW5jaXNjbyUyMGFuZCUyMFBpYXR0aW5pJTJDJTIwTWFyaW8lMjBhbmQlMjBHZW5lcm8lMkMlMjBNYXJjZWxhJTIyJTJDJTBBJTIwJTIwJTIwJTIwcGxhY2UlM0RJU1QlMkMlMEElMjAlMjAlMjAlMjBwcCUzRCUyMjYzMS0tNjQ0JTIyJTJDJTBBJTIwJTIwJTIwJTIwZW50cnl0eXBlJTNEJTIyYXJ0aWNsZSUyMiUyQyUwQSUyMCUyMCUyMCUyMHZvbHVtZSUzRCUyMjQ4JTIyJTJDJTBBJTIwJTIwJTIwJTIwbnVtYmVyJTNEJTIyOCUyMiUyQyUwQSUyMCUyMCUyMCUyMHB1Ymxpc2hlciUzRCUyMkVsc2V2aWVyJTIyJTJDJTBBJTIwJTIwJTIwJTIwSUQlM0QlMjJnYXJjaWEyMDA2dG93YXJkcyUyMiUyQyUwQSUyMCUyMCUyMCUyMGdzMjAxNiUzRCUyMjElMjIlMkMlMEElMjAlMjAlMjAlMjBwbGFjZXglM0QlMjJJbmZvcm1hdGlvbiUyMGFuZCUyMFNvZnR3YXJlJTIwVGVjaG5vbG9neSUyMiUyQyUwQSUyOSUyOSUwQSUyNyUyNyUyNyUyOSUzQg==\")));\n",
       "    "
      ],
      "text/plain": [
       "<IPython.core.display.Javascript object>"
      ]
     },
     "metadata": {},
     "output_type": "display_data"
    },
    {
     "data": {
      "application/javascript": [
       "$('span:contains(\"# Temp\")').closest('.cell').remove();"
      ],
      "text/plain": [
       "<IPython.core.display.Javascript object>"
      ]
     },
     "metadata": {},
     "output_type": "display_data"
    },
    {
     "data": {
      "application/javascript": [
       "\n",
       "        $('span:contains(\"# Temp\")').closest('.cell').remove();\n",
       "        var code = IPython.notebook.insert_cell_below('code');\n",
       "        var prompt = code.element.find(\".input_prompt\");\n",
       "        prompt.append('<br><button style=\"height: 100%; width: 54px;\">Run</button>');\n",
       "        prompt.on(\"click\", \"button\", function(){\n",
       "            code.execute();\n",
       "        });\n",
       "        code.set_text(decodeURIComponent(window.atob(\"JTIzJTIwVGVtcCUwQWluc2VydCUyOCUyNyUyNyUyNyUwQWdhcmMlQzMlQURhMjAwNmElMjAlM0QlMjBEQiUyOFdvcmtVbnJlbGF0ZWQlMjglMEElMjAlMjAlMjAlMjAyMDA2JTJDJTIwJTIyVG93YXJkcyUyMGElMjBjb25zaXN0ZW50JTIwdGVybWlub2xvZ3klMjBmb3IlMjBzb2Z0d2FyZSUyMG1lYXN1cmVtZW50JTIyJTJDJTBBJTIwJTIwJTIwJTIwZGlzcGxheSUzRCUyMmdhcmMlQzMlQURhJTIyJTJDJTBBJTIwJTIwJTIwJTIwYXV0aG9ycyUzRCUyMkdhcmMlQzMlQURhJTJDJTIwRiVDMyVBOWxpeCUyMGFuZCUyMEJlcnRvYSUyQyUyME1hbnVlbCUyMEYlMjBhbmQlMjBDYWxlcm8lMkMlMjBDb3JhbCUyMGFuZCUyMFZhbGxlY2lsbG8lMkMlMjBBbnRvbmlvJTIwYW5kJTIwUnVpeiUyQyUyMEZyYW5jaXNjbyUyMGFuZCUyMFBpYXR0aW5pJTJDJTIwTWFyaW8lMjBhbmQlMjBHZW5lcm8lMkMlMjBNYXJjZWxhJTIyJTJDJTBBJTIwJTIwJTIwJTIwcGxhY2UlM0RJU1QlMkMlMEElMjAlMjAlMjAlMjBwcCUzRCUyMjYzMS0tNjQ0JTIyJTJDJTBBJTIwJTIwJTIwJTIwZW50cnl0eXBlJTNEJTIyYXJ0aWNsZSUyMiUyQyUwQSUyMCUyMCUyMCUyMHZvbHVtZSUzRCUyMjQ4JTIyJTJDJTBBJTIwJTIwJTIwJTIwbnVtYmVyJTNEJTIyOCUyMiUyQyUwQSUyMCUyMCUyMCUyMHB1Ymxpc2hlciUzRCUyMkVsc2V2aWVyJTIyJTJDJTBBJTIwJTIwJTIwJTIwSUQlM0QlMjJnYXJjaWEyMDA2dG93YXJkcyUyMiUyQyUwQSUyMCUyMCUyMCUyMGdzMjAxNiUzRCUyMjElMjIlMkMlMEElMjAlMjAlMjAlMjBwbGFjZXglM0QlMjJJbmZvcm1hdGlvbiUyMGFuZCUyMFNvZnR3YXJlJTIwVGVjaG5vbG9neSUyMiUyQyUwQSUyOSUyOSUwQSUyNyUyNyUyNyUyOSUzQg==\")));\n",
       "    "
      ],
      "text/plain": [
       "<IPython.core.display.Javascript object>"
      ]
     },
     "metadata": {},
     "output_type": "display_data"
    },
    {
     "data": {
      "application/javascript": [
       "$('span:contains(\"# Temp\")').closest('.cell').remove();"
      ],
      "text/plain": [
       "<IPython.core.display.Javascript object>"
      ]
     },
     "metadata": {},
     "output_type": "display_data"
    },
    {
     "data": {
      "application/javascript": [
       "\n",
       "        $('span:contains(\"# Temp\")').closest('.cell').remove();\n",
       "        var code = IPython.notebook.insert_cell_below('code');\n",
       "        var prompt = code.element.find(\".input_prompt\");\n",
       "        prompt.append('<br><button style=\"height: 100%; width: 54px;\">Run</button>');\n",
       "        prompt.on(\"click\", \"button\", function(){\n",
       "            code.execute();\n",
       "        });\n",
       "        code.set_text(decodeURIComponent(window.atob(\"JTIzJTIwVGVtcCUwQWluc2VydCUyOCUyNyUyNyUyNyUwQWJhcmNlbGxvczIwMTJhJTIwJTNEJTIwREIlMjhXb3JrVW5yZWxhdGVkJTI4JTBBJTIwJTIwJTIwJTIwMjAxMiUyQyUyMCUyMlVzaW5nJTIwYSUyMHJlZmVyZW5jZSUyMGRvbWFpbiUyMG9udG9sb2d5JTIwZm9yJTIwZGV2ZWxvcGluZyUyMGElMjBzb2Z0d2FyZSUyMG1lYXN1cmVtZW50JTIwc3RyYXRlZ3klMjBmb3IlMjBoaWdoJTIwbWF0dXJpdHklMjBvcmdhbml6YXRpb25zJTIyJTJDJTBBJTIwJTIwJTIwJTIwZGlzcGxheSUzRCUyMmJhcmNlbGxvcyUyMiUyQyUwQSUyMCUyMCUyMCUyMGF1dGhvcnMlM0QlMjJCYXJjZWxsb3MlMkMlMjBNb25hbGVzc2ElMjBQZXJpbmklMjBhbmQlMjBkZSUyMEElMjBGYWxibyUyQyUyMFJpY2FyZG8lMjBhbmQlMjBkYSUyMFJvY2hhJTJDJTIwQW5hJTIwUmVnaW5hJTIwQyUyMiUyQyUwQSUyMCUyMCUyMCUyMHBsYWNlJTNERkFLRSUyQyUwQSUyMCUyMCUyMCUyMHBwJTNEJTIyMTE0LS0xMjMlMjIlMkMlMEElMjAlMjAlMjAlMjBlbnRyeXR5cGUlM0QlMjJpbnByb2NlZWRpbmdzJTIyJTJDJTBBJTIwJTIwJTIwJTIwb3JnYW5pemF0aW9uJTNEJTIySUVFRSUyMiUyQyUwQSUyMCUyMCUyMCUyMElEJTNEJTIyYmFyY2VsbG9zMjAxMnVzaW5nJTIyJTJDJTBBJTIwJTIwJTIwJTIwZ3MyMDE2JTNEJTIyMSUyMiUyQyUwQSUyMCUyMCUyMCUyMHBsYWNleCUzRCUyMkVudGVycHJpc2UlMjBEaXN0cmlidXRlZCUyME9iamVjdCUyMENvbXB1dGluZyUyMENvbmZlcmVuY2UlMjBXb3Jrc2hvcHMlMjAlMjhFRE9DVyUyOSUyQyUyMDIwMTIlMjBJRUVFJTIwMTZ0aCUyMEludGVybmF0aW9uYWwlMjIlMkMlMEElMjklMjklMEElMjclMjclMjclMjklM0I=\")));\n",
       "    "
      ],
      "text/plain": [
       "<IPython.core.display.Javascript object>"
      ]
     },
     "metadata": {},
     "output_type": "display_data"
    },
    {
     "data": {
      "application/javascript": [
       "$('span:contains(\"# Temp\")').closest('.cell').remove();"
      ],
      "text/plain": [
       "<IPython.core.display.Javascript object>"
      ]
     },
     "metadata": {},
     "output_type": "display_data"
    },
    {
     "data": {
      "application/javascript": [
       "\n",
       "        $('span:contains(\"# Temp\")').closest('.cell').remove();\n",
       "        var code = IPython.notebook.insert_cell_below('code');\n",
       "        var prompt = code.element.find(\".input_prompt\");\n",
       "        prompt.append('<br><button style=\"height: 100%; width: 54px;\">Run</button>');\n",
       "        prompt.on(\"click\", \"button\", function(){\n",
       "            code.execute();\n",
       "        });\n",
       "        code.set_text(decodeURIComponent(window.atob(\"JTIzJTIwVGVtcCUwQWluc2VydCUyOCUyNyUyNyUyNyUwQWJhcmNlbGxvczIwMTJhJTIwJTNEJTIwREIlMjhXb3JrVW5yZWxhdGVkJTI4JTBBJTIwJTIwJTIwJTIwMjAxMiUyQyUyMCUyMlVzaW5nJTIwYSUyMHJlZmVyZW5jZSUyMGRvbWFpbiUyMG9udG9sb2d5JTIwZm9yJTIwZGV2ZWxvcGluZyUyMGElMjBzb2Z0d2FyZSUyMG1lYXN1cmVtZW50JTIwc3RyYXRlZ3klMjBmb3IlMjBoaWdoJTIwbWF0dXJpdHklMjBvcmdhbml6YXRpb25zJTIyJTJDJTBBJTIwJTIwJTIwJTIwZGlzcGxheSUzRCUyMmJhcmNlbGxvcyUyMiUyQyUwQSUyMCUyMCUyMCUyMGF1dGhvcnMlM0QlMjJCYXJjZWxsb3MlMkMlMjBNb25hbGVzc2ElMjBQZXJpbmklMjBhbmQlMjBkZSUyMEElMjBGYWxibyUyQyUyMFJpY2FyZG8lMjBhbmQlMjBkYSUyMFJvY2hhJTJDJTIwQW5hJTIwUmVnaW5hJTIwQyUyMiUyQyUwQSUyMCUyMCUyMCUyMHBsYWNlJTNERkFLRSUyQyUwQSUyMCUyMCUyMCUyMHBwJTNEJTIyMTE0LS0xMjMlMjIlMkMlMEElMjAlMjAlMjAlMjBlbnRyeXR5cGUlM0QlMjJpbnByb2NlZWRpbmdzJTIyJTJDJTBBJTIwJTIwJTIwJTIwb3JnYW5pemF0aW9uJTNEJTIySUVFRSUyMiUyQyUwQSUyMCUyMCUyMCUyMElEJTNEJTIyYmFyY2VsbG9zMjAxMnVzaW5nJTIyJTJDJTBBJTIwJTIwJTIwJTIwZ3MyMDE2JTNEJTIyMSUyMiUyQyUwQSUyMCUyMCUyMCUyMHBsYWNleCUzRCUyMkVudGVycHJpc2UlMjBEaXN0cmlidXRlZCUyME9iamVjdCUyMENvbXB1dGluZyUyMENvbmZlcmVuY2UlMjBXb3Jrc2hvcHMlMjAlMjhFRE9DVyUyOSUyQyUyMDIwMTIlMjBJRUVFJTIwMTZ0aCUyMEludGVybmF0aW9uYWwlMjIlMkMlMEElMjklMjklMEElMjclMjclMjclMjklM0I=\")));\n",
       "    "
      ],
      "text/plain": [
       "<IPython.core.display.Javascript object>"
      ]
     },
     "metadata": {},
     "output_type": "display_data"
    },
    {
     "data": {
      "application/javascript": [
       "$('span:contains(\"# Temp\")').closest('.cell').remove();"
      ],
      "text/plain": [
       "<IPython.core.display.Javascript object>"
      ]
     },
     "metadata": {},
     "output_type": "display_data"
    },
    {
     "data": {
      "application/javascript": [
       "\n",
       "        $('span:contains(\"# Temp\")').closest('.cell').remove();\n",
       "        var code = IPython.notebook.insert_cell_below('code');\n",
       "        var prompt = code.element.find(\".input_prompt\");\n",
       "        prompt.append('<br><button style=\"height: 100%; width: 54px;\">Run</button>');\n",
       "        prompt.on(\"click\", \"button\", function(){\n",
       "            code.execute();\n",
       "        });\n",
       "        code.set_text(decodeURIComponent(window.atob(\"JTIzJTIwVGVtcCUwQWluc2VydCUyOCUyNyUyNyUyNyUwQWNhZmZlcnkyMDEyYSUyMCUzRCUyMERCJTI4V29ya1VucmVsYXRlZCUyOCUwQSUyMCUyMCUyMCUyMDIwMTIlMkMlMjAlMjJNZWRpY2FsJTIwZGV2aWNlJTIwc29mdHdhcmUlMjB0cmFjZWFiaWxpdHklMjIlMkMlMEElMjAlMjAlMjAlMjBkaXNwbGF5JTNEJTIyY2FmZmVyeSUyMiUyQyUwQSUyMCUyMCUyMCUyMGF1dGhvcnMlM0QlMjJNYyUyMENhZmZlcnklMkMlMjBGZXJnYWwlMjBhbmQlMjBDYXNleSUyQyUyMFZhbGVudGluZSUyMGFuZCUyMFNpdmFrdW1hciUyQyUyME1TJTIwYW5kJTIwQ29sZW1hbiUyQyUyMEdlcnJ5JTIwYW5kJTIwRG9ubmVsbHklMkMlMjBQZXRlciUyMGFuZCUyMEJ1cnRvbiUyQyUyMEpvaG4lMjIlMkMlMEElMjAlMjAlMjAlMjBwbGFjZSUzREZBS0UlMkMlMEElMjAlMjAlMjAlMjBwcCUzRCUyMjMyMS0tMzM5JTIyJTJDJTBBJTIwJTIwJTIwJTIwZW50cnl0eXBlJTNEJTIyaW5jb2xsZWN0aW9uJTIyJTJDJTBBJTIwJTIwJTIwJTIwcHVibGlzaGVyJTNEJTIyU3ByaW5nZXIlMjIlMkMlMEElMjAlMjAlMjAlMjBJRCUzRCUyMm1jMjAxMm1lZGljYWwlMjIlMkMlMEElMjAlMjAlMjAlMjBnczIwMTYlM0QlMjIxJTIyJTJDJTBBJTIwJTIwJTIwJTIwcGxhY2V4JTNEJTIyU29mdHdhcmUlMjBhbmQlMjBTeXN0ZW1zJTIwVHJhY2VhYmlsaXR5JTIyJTJDJTBBJTI5JTI5JTBBJTI3JTI3JTI3JTI5JTNC\")));\n",
       "    "
      ],
      "text/plain": [
       "<IPython.core.display.Javascript object>"
      ]
     },
     "metadata": {},
     "output_type": "display_data"
    },
    {
     "data": {
      "application/javascript": [
       "$('span:contains(\"# Temp\")').closest('.cell').remove();"
      ],
      "text/plain": [
       "<IPython.core.display.Javascript object>"
      ]
     },
     "metadata": {},
     "output_type": "display_data"
    },
    {
     "data": {
      "application/javascript": [
       "\n",
       "        $('span:contains(\"# Temp\")').closest('.cell').remove();\n",
       "        var code = IPython.notebook.insert_cell_below('code');\n",
       "        var prompt = code.element.find(\".input_prompt\");\n",
       "        prompt.append('<br><button style=\"height: 100%; width: 54px;\">Run</button>');\n",
       "        prompt.on(\"click\", \"button\", function(){\n",
       "            code.execute();\n",
       "        });\n",
       "        code.set_text(decodeURIComponent(window.atob(\"JTIzJTIwVGVtcCUwQWluc2VydCUyOCUyNyUyNyUyNyUwQWNhZmZlcnkyMDEyYSUyMCUzRCUyMERCJTI4V29ya1VucmVsYXRlZCUyOCUwQSUyMCUyMCUyMCUyMDIwMTIlMkMlMjAlMjJNZWRpY2FsJTIwZGV2aWNlJTIwc29mdHdhcmUlMjB0cmFjZWFiaWxpdHklMjIlMkMlMEElMjAlMjAlMjAlMjBkaXNwbGF5JTNEJTIyY2FmZmVyeSUyMiUyQyUwQSUyMCUyMCUyMCUyMGF1dGhvcnMlM0QlMjJNYyUyMENhZmZlcnklMkMlMjBGZXJnYWwlMjBhbmQlMjBDYXNleSUyQyUyMFZhbGVudGluZSUyMGFuZCUyMFNpdmFrdW1hciUyQyUyME1TJTIwYW5kJTIwQ29sZW1hbiUyQyUyMEdlcnJ5JTIwYW5kJTIwRG9ubmVsbHklMkMlMjBQZXRlciUyMGFuZCUyMEJ1cnRvbiUyQyUyMEpvaG4lMjIlMkMlMEElMjAlMjAlMjAlMjBwbGFjZSUzREZBS0UlMkMlMEElMjAlMjAlMjAlMjBwcCUzRCUyMjMyMS0tMzM5JTIyJTJDJTBBJTIwJTIwJTIwJTIwZW50cnl0eXBlJTNEJTIyaW5jb2xsZWN0aW9uJTIyJTJDJTBBJTIwJTIwJTIwJTIwcHVibGlzaGVyJTNEJTIyU3ByaW5nZXIlMjIlMkMlMEElMjAlMjAlMjAlMjBJRCUzRCUyMm1jMjAxMm1lZGljYWwlMjIlMkMlMEElMjAlMjAlMjAlMjBnczIwMTYlM0QlMjIxJTIyJTJDJTBBJTIwJTIwJTIwJTIwcGxhY2V4JTNEJTIyU29mdHdhcmUlMjBhbmQlMjBTeXN0ZW1zJTIwVHJhY2VhYmlsaXR5JTIyJTJDJTBBJTI5JTI5JTBBJTI3JTI3JTI3JTI5JTNC\")));\n",
       "    "
      ],
      "text/plain": [
       "<IPython.core.display.Javascript object>"
      ]
     },
     "metadata": {},
     "output_type": "display_data"
    },
    {
     "data": {
      "application/javascript": [
       "$('span:contains(\"# Temp\")').closest('.cell').remove();"
      ],
      "text/plain": [
       "<IPython.core.display.Javascript object>"
      ]
     },
     "metadata": {},
     "output_type": "display_data"
    },
    {
     "data": {
      "application/javascript": [
       "\n",
       "        $('span:contains(\"# Temp\")').closest('.cell').remove();\n",
       "        var code = IPython.notebook.insert_cell_below('code');\n",
       "        var prompt = code.element.find(\".input_prompt\");\n",
       "        prompt.append('<br><button style=\"height: 100%; width: 54px;\">Run</button>');\n",
       "        prompt.on(\"click\", \"button\", function(){\n",
       "            code.execute();\n",
       "        });\n",
       "        code.set_text(decodeURIComponent(window.atob(\"JTIzJTIwVGVtcCUwQWluc2VydCUyOCUyNyUyNyUyNyUwQWtldG8yMDEwYSUyMCUzRCUyMERCJTI4V29ya1VucmVsYXRlZCUyOCUwQSUyMCUyMCUyMCUyMDIwMTAlMkMlMjAlMjJUb3dhcmRzJTIwdGhlJTIwcHJvY2Vzcy1vbnRvbG9naWNhbCUyMG1vZGVsbGluZyUyMiUyQyUwQSUyMCUyMCUyMCUyMGRpc3BsYXklM0QlMjJrZXRvJTIyJTJDJTBBJTIwJTIwJTIwJTIwYXV0aG9ycyUzRCUyMktldG8lMkMlMjBIYXJyaSUyMGFuZCUyMFBhbG9tJUMzJUE0a2klMkMlMjBKYXJpJTIwYW5kJTIwSmFha2tvbGElMkMlMjBIYW5udSUyMGFuZCUyMFBvaGpvaXNyYW50YSUyQyUyMFBPJTIyJTJDJTBBJTIwJTIwJTIwJTIwcGxhY2UlM0RGQUtFJTJDJTBBJTIwJTIwJTIwJTIwcHAlM0QlMjIyOTklMjIlMkMlMEElMjAlMjAlMjAlMjBlbnRyeXR5cGUlM0QlMjJhcnRpY2xlJTIyJTJDJTBBJTIwJTIwJTIwJTIwdm9sdW1lJTNEJTIyMjA2JTIyJTJDJTBBJTIwJTIwJTIwJTIwcHVibGlzaGVyJTNEJTIySU9TJTIwUHJlc3MlMjIlMkMlMEElMjAlMjAlMjAlMjBJRCUzRCUyMmtldG8yMDEwdG93YXJkcyUyMiUyQyUwQSUyMCUyMCUyMCUyMGdzMjAxNiUzRCUyMjElMjIlMkMlMEElMjAlMjAlMjAlMjBwbGFjZXglM0QlMjJJbmZvcm1hdGlvbiUyME1vZGVsbGluZyUyMGFuZCUyMEtub3dsZWRnZSUyMEJhc2VzJTIwWFhJJTIyJTJDJTBBJTI5JTI5JTBBJTI3JTI3JTI3JTI5JTNC\")));\n",
       "    "
      ],
      "text/plain": [
       "<IPython.core.display.Javascript object>"
      ]
     },
     "metadata": {},
     "output_type": "display_data"
    },
    {
     "data": {
      "application/javascript": [
       "$('span:contains(\"# Temp\")').closest('.cell').remove();"
      ],
      "text/plain": [
       "<IPython.core.display.Javascript object>"
      ]
     },
     "metadata": {},
     "output_type": "display_data"
    },
    {
     "data": {
      "application/javascript": [
       "\n",
       "        $('span:contains(\"# Temp\")').closest('.cell').remove();\n",
       "        var code = IPython.notebook.insert_cell_below('code');\n",
       "        var prompt = code.element.find(\".input_prompt\");\n",
       "        prompt.append('<br><button style=\"height: 100%; width: 54px;\">Run</button>');\n",
       "        prompt.on(\"click\", \"button\", function(){\n",
       "            code.execute();\n",
       "        });\n",
       "        code.set_text(decodeURIComponent(window.atob(\"JTIzJTIwVGVtcCUwQWluc2VydCUyOCUyNyUyNyUyNyUwQWtldG8yMDEwYSUyMCUzRCUyMERCJTI4V29ya1VucmVsYXRlZCUyOCUwQSUyMCUyMCUyMCUyMDIwMTAlMkMlMjAlMjJUb3dhcmRzJTIwdGhlJTIwcHJvY2Vzcy1vbnRvbG9naWNhbCUyMG1vZGVsbGluZyUyMiUyQyUwQSUyMCUyMCUyMCUyMGRpc3BsYXklM0QlMjJrZXRvJTIyJTJDJTBBJTIwJTIwJTIwJTIwYXV0aG9ycyUzRCUyMktldG8lMkMlMjBIYXJyaSUyMGFuZCUyMFBhbG9tJUMzJUE0a2klMkMlMjBKYXJpJTIwYW5kJTIwSmFha2tvbGElMkMlMjBIYW5udSUyMGFuZCUyMFBvaGpvaXNyYW50YSUyQyUyMFBPJTIyJTJDJTBBJTIwJTIwJTIwJTIwcGxhY2UlM0RGQUtFJTJDJTBBJTIwJTIwJTIwJTIwcHAlM0QlMjIyOTklMjIlMkMlMEElMjAlMjAlMjAlMjBlbnRyeXR5cGUlM0QlMjJhcnRpY2xlJTIyJTJDJTBBJTIwJTIwJTIwJTIwdm9sdW1lJTNEJTIyMjA2JTIyJTJDJTBBJTIwJTIwJTIwJTIwcHVibGlzaGVyJTNEJTIySU9TJTIwUHJlc3MlMjIlMkMlMEElMjAlMjAlMjAlMjBJRCUzRCUyMmtldG8yMDEwdG93YXJkcyUyMiUyQyUwQSUyMCUyMCUyMCUyMGdzMjAxNiUzRCUyMjElMjIlMkMlMEElMjAlMjAlMjAlMjBwbGFjZXglM0QlMjJJbmZvcm1hdGlvbiUyME1vZGVsbGluZyUyMGFuZCUyMEtub3dsZWRnZSUyMEJhc2VzJTIwWFhJJTIyJTJDJTBBJTI5JTI5JTBBJTI3JTI3JTI3JTI5JTNC\")));\n",
       "    "
      ],
      "text/plain": [
       "<IPython.core.display.Javascript object>"
      ]
     },
     "metadata": {},
     "output_type": "display_data"
    },
    {
     "data": {
      "application/javascript": [
       "$('span:contains(\"# Temp\")').closest('.cell').remove();"
      ],
      "text/plain": [
       "<IPython.core.display.Javascript object>"
      ]
     },
     "metadata": {},
     "output_type": "display_data"
    },
    {
     "data": {
      "application/javascript": [
       "\n",
       "        $('span:contains(\"# Temp\")').closest('.cell').remove();\n",
       "        var code = IPython.notebook.insert_cell_below('code');\n",
       "        var prompt = code.element.find(\".input_prompt\");\n",
       "        prompt.append('<br><button style=\"height: 100%; width: 54px;\">Run</button>');\n",
       "        prompt.on(\"click\", \"button\", function(){\n",
       "            code.execute();\n",
       "        });\n",
       "        code.set_text(decodeURIComponent(window.atob(\"JTIzJTIwVGVtcCUwQWluc2VydCUyOCUyNyUyNyUyNyUwQXR1ZmZsZXkyMDA5YSUyMCUzRCUyMERCJTI4V29ya1VucmVsYXRlZCUyOCUwQSUyMCUyMCUyMCUyMDIwMDklMkMlMjAlMjJBcHBseWluZyUyMERlc2lnbiUyMFJlc2VhcmNoJTIwaW4lMjBTb2Z0d2FyZSUyMEVuZ2luZWVyaW5nJTIwdG8lMjBEZXZlbG9wJTIwYSUyMFByb2Nlc3MlMjBSZWZlcmVuY2UlMjBNb2RlbCUyMiUyQyUwQSUyMCUyMCUyMCUyMGRpc3BsYXklM0QlMjJ0dWZmbGV5JTIyJTJDJTBBJTIwJTIwJTIwJTIwYXV0aG9ycyUzRCUyMlR1ZmZsZXklMkMlMjBEYXZpZCUyMiUyQyUwQSUyMCUyMCUyMCUyMHBsYWNlJTNESUNTRSUyQyUwQSUyMCUyMCUyMCUyMGVudHJ5dHlwZSUzRCUyMmFydGljbGUlMjIlMkMlMEElMjAlMjAlMjAlMjBJRCUzRCUyMnR1ZmZsZXlhcHBseWluZyUyMiUyQyUwQSUyMCUyMCUyMCUyMGdzMjAxNiUzRCUyMjElMjIlMkMlMEElMjAlMjAlMjAlMjBwbGFjZXglM0QlMjJJQ1NFJTIyJTJDJTBBJTI5JTI5JTBBJTI3JTI3JTI3JTI5JTNC\")));\n",
       "    "
      ],
      "text/plain": [
       "<IPython.core.display.Javascript object>"
      ]
     },
     "metadata": {},
     "output_type": "display_data"
    },
    {
     "data": {
      "application/javascript": [
       "$('span:contains(\"# Temp\")').closest('.cell').remove();"
      ],
      "text/plain": [
       "<IPython.core.display.Javascript object>"
      ]
     },
     "metadata": {},
     "output_type": "display_data"
    },
    {
     "data": {
      "application/javascript": [
       "\n",
       "        $('span:contains(\"# Temp\")').closest('.cell').remove();\n",
       "        var code = IPython.notebook.insert_cell_below('code');\n",
       "        var prompt = code.element.find(\".input_prompt\");\n",
       "        prompt.append('<br><button style=\"height: 100%; width: 54px;\">Run</button>');\n",
       "        prompt.on(\"click\", \"button\", function(){\n",
       "            code.execute();\n",
       "        });\n",
       "        code.set_text(decodeURIComponent(window.atob(\"JTIzJTIwVGVtcCUwQWluc2VydCUyOCUyNyUyNyUyNyUwQXR1ZmZsZXkyMDA5YSUyMCUzRCUyMERCJTI4V29ya1VucmVsYXRlZCUyOCUwQSUyMCUyMCUyMCUyMDIwMDklMkMlMjAlMjJBcHBseWluZyUyMERlc2lnbiUyMFJlc2VhcmNoJTIwaW4lMjBTb2Z0d2FyZSUyMEVuZ2luZWVyaW5nJTIwdG8lMjBEZXZlbG9wJTIwYSUyMFByb2Nlc3MlMjBSZWZlcmVuY2UlMjBNb2RlbCUyMiUyQyUwQSUyMCUyMCUyMCUyMGRpc3BsYXklM0QlMjJ0dWZmbGV5JTIyJTJDJTBBJTIwJTIwJTIwJTIwYXV0aG9ycyUzRCUyMlR1ZmZsZXklMkMlMjBEYXZpZCUyMiUyQyUwQSUyMCUyMCUyMCUyMHBsYWNlJTNESUNTRSUyQyUwQSUyMCUyMCUyMCUyMGVudHJ5dHlwZSUzRCUyMmFydGljbGUlMjIlMkMlMEElMjAlMjAlMjAlMjBJRCUzRCUyMnR1ZmZsZXlhcHBseWluZyUyMiUyQyUwQSUyMCUyMCUyMCUyMGdzMjAxNiUzRCUyMjElMjIlMkMlMEElMjAlMjAlMjAlMjBwbGFjZXglM0QlMjJJQ1NFJTIyJTJDJTBBJTI5JTI5JTBBJTI3JTI3JTI3JTI5JTNC\")));\n",
       "    "
      ],
      "text/plain": [
       "<IPython.core.display.Javascript object>"
      ]
     },
     "metadata": {},
     "output_type": "display_data"
    },
    {
     "data": {
      "application/javascript": [
       "$('span:contains(\"# Temp\")').closest('.cell').remove();"
      ],
      "text/plain": [
       "<IPython.core.display.Javascript object>"
      ]
     },
     "metadata": {},
     "output_type": "display_data"
    },
    {
     "data": {
      "application/javascript": [
       "\n",
       "        $('span:contains(\"# Temp\")').closest('.cell').remove();\n",
       "        var code = IPython.notebook.insert_cell_below('code');\n",
       "        var prompt = code.element.find(\".input_prompt\");\n",
       "        prompt.append('<br><button style=\"height: 100%; width: 54px;\">Run</button>');\n",
       "        prompt.on(\"click\", \"button\", function(){\n",
       "            code.execute();\n",
       "        });\n",
       "        code.set_text(decodeURIComponent(window.atob(\"JTIzJTIwVGVtcCUwQWluc2VydCUyOCUyNyUyNyUyNyUwQWdvbnphbGV6MjAwNmElMjAlM0QlMjBEQiUyOFdvcmtVbnJlbGF0ZWQlMjglMEElMjAlMjAlMjAlMjAyMDA2JTJDJTIwJTIyQW4lMjBvbnRvbG9neSUyMGZvciUyMHNvZnR3YXJlJTIwZGV2ZWxvcG1lbnQlMjBtZXRob2RvbG9naWVzJTIwYW5kJTIwZW5kZWF2b3VycyUyMiUyQyUwQSUyMCUyMCUyMCUyMGRpc3BsYXklM0QlMjJnb256YWxleiUyMiUyQyUwQSUyMCUyMCUyMCUyMGF1dGhvcnMlM0QlMjJHb256YWxlei1QZXJleiUyQyUyMEMlQzMlQTlzYXIlMjBhbmQlMjBIZW5kZXJzb24tU2VsbGVycyUyQyUyMEJyaWFuJTIyJTJDJTBBJTIwJTIwJTIwJTIwcGxhY2UlM0RGQUtFJTJDJTBBJTIwJTIwJTIwJTIwcHAlM0QlMjIxMjMtLTE1MSUyMiUyQyUwQSUyMCUyMCUyMCUyMGVudHJ5dHlwZSUzRCUyMmluY29sbGVjdGlvbiUyMiUyQyUwQSUyMCUyMCUyMCUyMHB1Ymxpc2hlciUzRCUyMlNwcmluZ2VyJTIyJTJDJTBBJTIwJTIwJTIwJTIwSUQlM0QlMjJnb256YWxlejIwMDZvbnRvbG9neSUyMiUyQyUwQSUyMCUyMCUyMCUyMGdzMjAxNiUzRCUyMjElMjIlMkMlMEElMjAlMjAlMjAlMjBwbGFjZXglM0QlMjJPbnRvbG9naWVzJTIwZm9yJTIwU29mdHdhcmUlMjBFbmdpbmVlcmluZyUyMGFuZCUyMFNvZnR3YXJlJTIwVGVjaG5vbG9neSUyMiUyQyUwQSUyOSUyOSUwQSUyNyUyNyUyNyUyOSUzQg==\")));\n",
       "    "
      ],
      "text/plain": [
       "<IPython.core.display.Javascript object>"
      ]
     },
     "metadata": {},
     "output_type": "display_data"
    },
    {
     "data": {
      "application/javascript": [
       "$('span:contains(\"# Temp\")').closest('.cell').remove();"
      ],
      "text/plain": [
       "<IPython.core.display.Javascript object>"
      ]
     },
     "metadata": {},
     "output_type": "display_data"
    },
    {
     "data": {
      "application/javascript": [
       "\n",
       "        $('span:contains(\"# Temp\")').closest('.cell').remove();\n",
       "        var code = IPython.notebook.insert_cell_below('code');\n",
       "        var prompt = code.element.find(\".input_prompt\");\n",
       "        prompt.append('<br><button style=\"height: 100%; width: 54px;\">Run</button>');\n",
       "        prompt.on(\"click\", \"button\", function(){\n",
       "            code.execute();\n",
       "        });\n",
       "        code.set_text(decodeURIComponent(window.atob(\"JTIzJTIwVGVtcCUwQWluc2VydCUyOCUyNyUyNyUyNyUwQWdvbnphbGV6MjAwNmElMjAlM0QlMjBEQiUyOFdvcmtVbnJlbGF0ZWQlMjglMEElMjAlMjAlMjAlMjAyMDA2JTJDJTIwJTIyQW4lMjBvbnRvbG9neSUyMGZvciUyMHNvZnR3YXJlJTIwZGV2ZWxvcG1lbnQlMjBtZXRob2RvbG9naWVzJTIwYW5kJTIwZW5kZWF2b3VycyUyMiUyQyUwQSUyMCUyMCUyMCUyMGRpc3BsYXklM0QlMjJnb256YWxleiUyMiUyQyUwQSUyMCUyMCUyMCUyMGF1dGhvcnMlM0QlMjJHb256YWxlei1QZXJleiUyQyUyMEMlQzMlQTlzYXIlMjBhbmQlMjBIZW5kZXJzb24tU2VsbGVycyUyQyUyMEJyaWFuJTIyJTJDJTBBJTIwJTIwJTIwJTIwcGxhY2UlM0RGQUtFJTJDJTBBJTIwJTIwJTIwJTIwcHAlM0QlMjIxMjMtLTE1MSUyMiUyQyUwQSUyMCUyMCUyMCUyMGVudHJ5dHlwZSUzRCUyMmluY29sbGVjdGlvbiUyMiUyQyUwQSUyMCUyMCUyMCUyMHB1Ymxpc2hlciUzRCUyMlNwcmluZ2VyJTIyJTJDJTBBJTIwJTIwJTIwJTIwSUQlM0QlMjJnb256YWxlejIwMDZvbnRvbG9neSUyMiUyQyUwQSUyMCUyMCUyMCUyMGdzMjAxNiUzRCUyMjElMjIlMkMlMEElMjAlMjAlMjAlMjBwbGFjZXglM0QlMjJPbnRvbG9naWVzJTIwZm9yJTIwU29mdHdhcmUlMjBFbmdpbmVlcmluZyUyMGFuZCUyMFNvZnR3YXJlJTIwVGVjaG5vbG9neSUyMiUyQyUwQSUyOSUyOSUwQSUyNyUyNyUyNyUyOSUzQg==\")));\n",
       "    "
      ],
      "text/plain": [
       "<IPython.core.display.Javascript object>"
      ]
     },
     "metadata": {},
     "output_type": "display_data"
    },
    {
     "data": {
      "application/javascript": [
       "$('span:contains(\"# Temp\")').closest('.cell').remove();"
      ],
      "text/plain": [
       "<IPython.core.display.Javascript object>"
      ]
     },
     "metadata": {},
     "output_type": "display_data"
    },
    {
     "data": {
      "application/javascript": [
       "\n",
       "        $('span:contains(\"# Temp\")').closest('.cell').remove();\n",
       "        var code = IPython.notebook.insert_cell_below('code');\n",
       "        var prompt = code.element.find(\".input_prompt\");\n",
       "        prompt.append('<br><button style=\"height: 100%; width: 54px;\">Run</button>');\n",
       "        prompt.on(\"click\", \"button\", function(){\n",
       "            code.execute();\n",
       "        });\n",
       "        code.set_text(decodeURIComponent(window.atob(\"JTIzJTIwVGVtcCUwQWluc2VydCUyOCUyNyUyNyUyNyUwQXN0b2phbm92MjAxNmElMjAlM0QlMjBEQiUyOFdvcmtVbnJlbGF0ZWQlMjglMEElMjAlMjAlMjAlMjAyMDE2JTJDJTIwJTIyRXhwbG9yaW5nJTIwc29mdHdhcmUlMjBtYWludGVuYW5jZSUyMHByb2Nlc3MlMjBjaGFyYWN0ZXJpc3RpY3MlMjBieSUyMHVzaW5nJTIwaW5kdWN0aXZlJTIwdGhlbWF0aWMlMjBhbmFseXNpcyUyMiUyQyUwQSUyMCUyMCUyMCUyMGRpc3BsYXklM0QlMjJzdG9qYW5vdiUyMiUyQyUwQSUyMCUyMCUyMCUyMGF1dGhvcnMlM0QlMjJTdG9qYW5vdiUyQyUyMFplbGprbyUyMGFuZCUyMFN0b2phbm92JTJDJTIwSmVsZW5hJTIyJTJDJTBBJTIwJTIwJTIwJTIwcGxhY2UlM0RGQUtFJTJDJTBBJTIwJTIwJTIwJTIwZW50cnl0eXBlJTNEJTIyYXJ0aWNsZSUyMiUyQyUwQSUyMCUyMCUyMCUyMElEJTNEJTIyc3RvamFub3YyMDE2ZXhwbG9yaW5nJTIyJTJDJTBBJTIwJTIwJTIwJTIwZ3MyMDE2JTNEJTIyMSUyMiUyQyUwQSUyMCUyMCUyMCUyMHBsYWNleCUzRCUyMkludGVybmF0aW9uYWwlMjBjb25mZXJlbmNlJTIwb24lMjBBcHBsaWVkJTIwSW50ZXJuZXQlMjBhbmQlMjBJbmZvcm1hdGlvbiUyMFRlY2hub2xvZ2llcyUyMC0lMjBBSUlUJTIwMjAxNiUyMiUyQyUwQSUyOSUyOSUwQSUyNyUyNyUyNyUyOSUzQg==\")));\n",
       "    "
      ],
      "text/plain": [
       "<IPython.core.display.Javascript object>"
      ]
     },
     "metadata": {},
     "output_type": "display_data"
    },
    {
     "data": {
      "application/javascript": [
       "$('span:contains(\"# Temp\")').closest('.cell').remove();"
      ],
      "text/plain": [
       "<IPython.core.display.Javascript object>"
      ]
     },
     "metadata": {},
     "output_type": "display_data"
    },
    {
     "data": {
      "application/javascript": [
       "\n",
       "        $('span:contains(\"# Temp\")').closest('.cell').remove();\n",
       "        var code = IPython.notebook.insert_cell_below('code');\n",
       "        var prompt = code.element.find(\".input_prompt\");\n",
       "        prompt.append('<br><button style=\"height: 100%; width: 54px;\">Run</button>');\n",
       "        prompt.on(\"click\", \"button\", function(){\n",
       "            code.execute();\n",
       "        });\n",
       "        code.set_text(decodeURIComponent(window.atob(\"JTIzJTIwVGVtcCUwQWluc2VydCUyOCUyNyUyNyUyNyUwQXN0b2phbm92MjAxNmElMjAlM0QlMjBEQiUyOFdvcmtVbnJlbGF0ZWQlMjglMEElMjAlMjAlMjAlMjAyMDE2JTJDJTIwJTIyRXhwbG9yaW5nJTIwc29mdHdhcmUlMjBtYWludGVuYW5jZSUyMHByb2Nlc3MlMjBjaGFyYWN0ZXJpc3RpY3MlMjBieSUyMHVzaW5nJTIwaW5kdWN0aXZlJTIwdGhlbWF0aWMlMjBhbmFseXNpcyUyMiUyQyUwQSUyMCUyMCUyMCUyMGRpc3BsYXklM0QlMjJzdG9qYW5vdiUyMiUyQyUwQSUyMCUyMCUyMCUyMGF1dGhvcnMlM0QlMjJTdG9qYW5vdiUyQyUyMFplbGprbyUyMGFuZCUyMFN0b2phbm92JTJDJTIwSmVsZW5hJTIyJTJDJTBBJTIwJTIwJTIwJTIwcGxhY2UlM0RGQUtFJTJDJTBBJTIwJTIwJTIwJTIwZW50cnl0eXBlJTNEJTIyYXJ0aWNsZSUyMiUyQyUwQSUyMCUyMCUyMCUyMElEJTNEJTIyc3RvamFub3YyMDE2ZXhwbG9yaW5nJTIyJTJDJTBBJTIwJTIwJTIwJTIwZ3MyMDE2JTNEJTIyMSUyMiUyQyUwQSUyMCUyMCUyMCUyMHBsYWNleCUzRCUyMkludGVybmF0aW9uYWwlMjBjb25mZXJlbmNlJTIwb24lMjBBcHBsaWVkJTIwSW50ZXJuZXQlMjBhbmQlMjBJbmZvcm1hdGlvbiUyMFRlY2hub2xvZ2llcyUyMC0lMjBBSUlUJTIwMjAxNiUyMiUyQyUwQSUyOSUyOSUwQSUyNyUyNyUyNyUyOSUzQg==\")));\n",
       "    "
      ],
      "text/plain": [
       "<IPython.core.display.Javascript object>"
      ]
     },
     "metadata": {},
     "output_type": "display_data"
    },
    {
     "data": {
      "application/javascript": [
       "$('span:contains(\"# Temp\")').closest('.cell').remove();"
      ],
      "text/plain": [
       "<IPython.core.display.Javascript object>"
      ]
     },
     "metadata": {},
     "output_type": "display_data"
    },
    {
     "data": {
      "application/javascript": [
       "\n",
       "        $('span:contains(\"# Temp\")').closest('.cell').remove();\n",
       "        var code = IPython.notebook.insert_cell_below('code');\n",
       "        var prompt = code.element.find(\".input_prompt\");\n",
       "        prompt.append('<br><button style=\"height: 100%; width: 54px;\">Run</button>');\n",
       "        prompt.on(\"click\", \"button\", function(){\n",
       "            code.execute();\n",
       "        });\n",
       "        code.set_text(decodeURIComponent(window.atob(\"JTIzJTIwVGVtcCUwQWluc2VydCUyOCUyNyUyNyUyNyUwQW1pbGVyMjAxMmElMjAlM0QlMjBEQiUyOFdvcmtVbnJlbGF0ZWQlMjglMEElMjAlMjAlMjAlMjAyMDEyJTJDJTIwJTIySW1wcm92ZW1lbnQlMjBvZiUyMFRhc2slMjBNYW5hZ2VtZW50JTIwd2l0aCUyMFByb2Nlc3MlMjBNb2RlbHMlMjBpbiUyMFNtYWxsJTIwYW5kJTIwTWVkaXVtJTIwU29mdHdhcmUlMjBDb21wYW5pZXMlMjIlMkMlMEElMjAlMjAlMjAlMjBkaXNwbGF5JTNEJTIybWlsZXIlMjIlMkMlMEElMjAlMjAlMjAlMjBhdXRob3JzJTNEJTIyTWlsZXIlMkMlMjBKYWt1YiUyMGFuZCUyMFdlc28lQzUlODJvd3NrYSUyQyUyMEhhbm5hJTIyJTJDJTBBJTIwJTIwJTIwJTIwcGxhY2UlM0RGQUtFJTJDJTBBJTIwJTIwJTIwJTIwcHAlM0QlMjIxNDUtLTE1NiUyMiUyQyUwQSUyMCUyMCUyMCUyMGVudHJ5dHlwZSUzRCUyMmlucHJvY2VlZGluZ3MlMjIlMkMlMEElMjAlMjAlMjAlMjBvcmdhbml6YXRpb24lM0QlMjJTcHJpbmdlciUyMiUyQyUwQSUyMCUyMCUyMCUyMElEJTNEJTIybWlsZXIyMDEyaW1wcm92ZW1lbnQlMjIlMkMlMEElMjAlMjAlMjAlMjBnczIwMTYlM0QlMjIxJTIyJTJDJTBBJTIwJTIwJTIwJTIwcGxhY2V4JTNEJTIyRXVyb3BlYW4lMjBDb25mZXJlbmNlJTIwb24lMjBTb2Z0d2FyZSUyMFByb2Nlc3MlMjBJbXByb3ZlbWVudCUyMiUyQyUwQSUyOSUyOSUwQSUyNyUyNyUyNyUyOSUzQg==\")));\n",
       "    "
      ],
      "text/plain": [
       "<IPython.core.display.Javascript object>"
      ]
     },
     "metadata": {},
     "output_type": "display_data"
    },
    {
     "data": {
      "application/javascript": [
       "$('span:contains(\"# Temp\")').closest('.cell').remove();"
      ],
      "text/plain": [
       "<IPython.core.display.Javascript object>"
      ]
     },
     "metadata": {},
     "output_type": "display_data"
    },
    {
     "data": {
      "application/javascript": [
       "\n",
       "        $('span:contains(\"# Temp\")').closest('.cell').remove();\n",
       "        var code = IPython.notebook.insert_cell_below('code');\n",
       "        var prompt = code.element.find(\".input_prompt\");\n",
       "        prompt.append('<br><button style=\"height: 100%; width: 54px;\">Run</button>');\n",
       "        prompt.on(\"click\", \"button\", function(){\n",
       "            code.execute();\n",
       "        });\n",
       "        code.set_text(decodeURIComponent(window.atob(\"JTIzJTIwVGVtcCUwQWluc2VydCUyOCUyNyUyNyUyNyUwQW1pbGVyMjAxMmElMjAlM0QlMjBEQiUyOFdvcmtVbnJlbGF0ZWQlMjglMEElMjAlMjAlMjAlMjAyMDEyJTJDJTIwJTIySW1wcm92ZW1lbnQlMjBvZiUyMFRhc2slMjBNYW5hZ2VtZW50JTIwd2l0aCUyMFByb2Nlc3MlMjBNb2RlbHMlMjBpbiUyMFNtYWxsJTIwYW5kJTIwTWVkaXVtJTIwU29mdHdhcmUlMjBDb21wYW5pZXMlMjIlMkMlMEElMjAlMjAlMjAlMjBkaXNwbGF5JTNEJTIybWlsZXIlMjIlMkMlMEElMjAlMjAlMjAlMjBhdXRob3JzJTNEJTIyTWlsZXIlMkMlMjBKYWt1YiUyMGFuZCUyMFdlc28lQzUlODJvd3NrYSUyQyUyMEhhbm5hJTIyJTJDJTBBJTIwJTIwJTIwJTIwcGxhY2UlM0RGQUtFJTJDJTBBJTIwJTIwJTIwJTIwcHAlM0QlMjIxNDUtLTE1NiUyMiUyQyUwQSUyMCUyMCUyMCUyMGVudHJ5dHlwZSUzRCUyMmlucHJvY2VlZGluZ3MlMjIlMkMlMEElMjAlMjAlMjAlMjBvcmdhbml6YXRpb24lM0QlMjJTcHJpbmdlciUyMiUyQyUwQSUyMCUyMCUyMCUyMElEJTNEJTIybWlsZXIyMDEyaW1wcm92ZW1lbnQlMjIlMkMlMEElMjAlMjAlMjAlMjBnczIwMTYlM0QlMjIxJTIyJTJDJTBBJTIwJTIwJTIwJTIwcGxhY2V4JTNEJTIyRXVyb3BlYW4lMjBDb25mZXJlbmNlJTIwb24lMjBTb2Z0d2FyZSUyMFByb2Nlc3MlMjBJbXByb3ZlbWVudCUyMiUyQyUwQSUyOSUyOSUwQSUyNyUyNyUyNyUyOSUzQg==\")));\n",
       "    "
      ],
      "text/plain": [
       "<IPython.core.display.Javascript object>"
      ]
     },
     "metadata": {},
     "output_type": "display_data"
    },
    {
     "data": {
      "application/javascript": [
       "$('span:contains(\"# Temp\")').closest('.cell').remove();"
      ],
      "text/plain": [
       "<IPython.core.display.Javascript object>"
      ]
     },
     "metadata": {},
     "output_type": "display_data"
    },
    {
     "data": {
      "application/javascript": [
       "\n",
       "        $('span:contains(\"# Temp\")').closest('.cell').remove();\n",
       "        var code = IPython.notebook.insert_cell_below('code');\n",
       "        var prompt = code.element.find(\".input_prompt\");\n",
       "        prompt.append('<br><button style=\"height: 100%; width: 54px;\">Run</button>');\n",
       "        prompt.on(\"click\", \"button\", function(){\n",
       "            code.execute();\n",
       "        });\n",
       "        code.set_text(decodeURIComponent(window.atob(\"JTIzJTIwVGVtcCUwQWluc2VydCUyOCUyNyUyNyUyNyUwQXNvdG8yMDA4YSUyMCUzRCUyMERCJTI4V29ya1VucmVsYXRlZCUyOCUwQSUyMCUyMCUyMCUyMDIwMDglMkMlMjAlMjJVc2luZyUyMG1vZGVsJTIwY29tcGFyaXNvbiUyMHRvJTIwbWFpbnRhaW4lMjBtb2RlbC10by1zdGFuZGFyZCUyMGNvbXBsaWFuY2UlMjIlMkMlMEElMjAlMjAlMjAlMjBkaXNwbGF5JTNEJTIyc290byUyMiUyQyUwQSUyMCUyMCUyMCUyMGF1dGhvcnMlM0QlMjJTb3RvJTJDJTIwTWFydCVDMyVBRG4lMjBhbmQlMjBNJUMzJUJDbmNoJTJDJTIwSiVDMyVCQ3JnZW4lMjIlMkMlMEElMjAlMjAlMjAlMjBwbGFjZSUzREZBS0UlMkMlMEElMjAlMjAlMjAlMjBwcCUzRCUyMjM1LS00MCUyMiUyQyUwQSUyMCUyMCUyMCUyMGVudHJ5dHlwZSUzRCUyMmlucHJvY2VlZGluZ3MlMjIlMkMlMEElMjAlMjAlMjAlMjBvcmdhbml6YXRpb24lM0QlMjJBQ00lMjIlMkMlMEElMjAlMjAlMjAlMjBJRCUzRCUyMnNvdG8yMDA4dXNpbmclMjIlMkMlMEElMjAlMjAlMjAlMjBnczIwMTYlM0QlMjIxJTIyJTJDJTBBJTIwJTIwJTIwJTIwcGxhY2V4JTNEJTIyUHJvY2VlZGluZ3MlMjBvZiUyMHRoZSUyMDIwMDglMjBpbnRlcm5hdGlvbmFsJTIwd29ya3Nob3AlMjBvbiUyMENvbXBhcmlzb24lMjBhbmQlMjB2ZXJzaW9uaW5nJTIwb2YlMjBzb2Z0d2FyZSUyMG1vZGVscyUyMiUyQyUwQSUyOSUyOSUwQSUyNyUyNyUyNyUyOSUzQg==\")));\n",
       "    "
      ],
      "text/plain": [
       "<IPython.core.display.Javascript object>"
      ]
     },
     "metadata": {},
     "output_type": "display_data"
    },
    {
     "data": {
      "application/javascript": [
       "$('span:contains(\"# Temp\")').closest('.cell').remove();"
      ],
      "text/plain": [
       "<IPython.core.display.Javascript object>"
      ]
     },
     "metadata": {},
     "output_type": "display_data"
    },
    {
     "data": {
      "application/javascript": [
       "\n",
       "        $('span:contains(\"# Temp\")').closest('.cell').remove();\n",
       "        var code = IPython.notebook.insert_cell_below('code');\n",
       "        var prompt = code.element.find(\".input_prompt\");\n",
       "        prompt.append('<br><button style=\"height: 100%; width: 54px;\">Run</button>');\n",
       "        prompt.on(\"click\", \"button\", function(){\n",
       "            code.execute();\n",
       "        });\n",
       "        code.set_text(decodeURIComponent(window.atob(\"JTIzJTIwVGVtcCUwQWluc2VydCUyOCUyNyUyNyUyNyUwQXNvdG8yMDA4YSUyMCUzRCUyMERCJTI4V29ya1VucmVsYXRlZCUyOCUwQSUyMCUyMCUyMCUyMDIwMDglMkMlMjAlMjJVc2luZyUyMG1vZGVsJTIwY29tcGFyaXNvbiUyMHRvJTIwbWFpbnRhaW4lMjBtb2RlbC10by1zdGFuZGFyZCUyMGNvbXBsaWFuY2UlMjIlMkMlMEElMjAlMjAlMjAlMjBkaXNwbGF5JTNEJTIyc290byUyMiUyQyUwQSUyMCUyMCUyMCUyMGF1dGhvcnMlM0QlMjJTb3RvJTJDJTIwTWFydCVDMyVBRG4lMjBhbmQlMjBNJUMzJUJDbmNoJTJDJTIwSiVDMyVCQ3JnZW4lMjIlMkMlMEElMjAlMjAlMjAlMjBwbGFjZSUzREZBS0UlMkMlMEElMjAlMjAlMjAlMjBwcCUzRCUyMjM1LS00MCUyMiUyQyUwQSUyMCUyMCUyMCUyMGVudHJ5dHlwZSUzRCUyMmlucHJvY2VlZGluZ3MlMjIlMkMlMEElMjAlMjAlMjAlMjBvcmdhbml6YXRpb24lM0QlMjJBQ00lMjIlMkMlMEElMjAlMjAlMjAlMjBJRCUzRCUyMnNvdG8yMDA4dXNpbmclMjIlMkMlMEElMjAlMjAlMjAlMjBnczIwMTYlM0QlMjIxJTIyJTJDJTBBJTIwJTIwJTIwJTIwcGxhY2V4JTNEJTIyUHJvY2VlZGluZ3MlMjBvZiUyMHRoZSUyMDIwMDglMjBpbnRlcm5hdGlvbmFsJTIwd29ya3Nob3AlMjBvbiUyMENvbXBhcmlzb24lMjBhbmQlMjB2ZXJzaW9uaW5nJTIwb2YlMjBzb2Z0d2FyZSUyMG1vZGVscyUyMiUyQyUwQSUyOSUyOSUwQSUyNyUyNyUyNyUyOSUzQg==\")));\n",
       "    "
      ],
      "text/plain": [
       "<IPython.core.display.Javascript object>"
      ]
     },
     "metadata": {},
     "output_type": "display_data"
    },
    {
     "data": {
      "application/javascript": [
       "$('span:contains(\"# Temp\")').closest('.cell').remove();"
      ],
      "text/plain": [
       "<IPython.core.display.Javascript object>"
      ]
     },
     "metadata": {},
     "output_type": "display_data"
    },
    {
     "data": {
      "application/javascript": [
       "\n",
       "        $('span:contains(\"# Temp\")').closest('.cell').remove();\n",
       "        var code = IPython.notebook.insert_cell_below('code');\n",
       "        var prompt = code.element.find(\".input_prompt\");\n",
       "        prompt.append('<br><button style=\"height: 100%; width: 54px;\">Run</button>');\n",
       "        prompt.on(\"click\", \"button\", function(){\n",
       "            code.execute();\n",
       "        });\n",
       "        code.set_text(decodeURIComponent(window.atob(\"JTIzJTIwVGVtcCUwQWluc2VydCUyOCUyNyUyNyUyNyUwQWtvemluYTIwMTNhJTIwJTNEJTIwREIlMjhXb3JrVW5yZWxhdGVkJTI4JTBBJTIwJTIwJTIwJTIwMjAxMyUyQyUyMCUyMkN1c3RvbWl6aW5nJTIwb2YlMjB0aGUlMjBTb2Z0d2FyZSUyME9yZ2FuaXphdGlvbiUyME1hdHVyaXR5JTIwTGV2ZWwlMjBBc3Nlc3NtZW50cyUyMFVzaW5nJTIwU0NUJTIwQmFzZWQlMjBHZW5lcmF0b3IlMjIlMkMlMEElMjAlMjAlMjAlMjBkaXNwbGF5JTNEJTIya296aW5hJTIyJTJDJTBBJTIwJTIwJTIwJTIwYXV0aG9ycyUzRCUyMktvemluYSUyQyUyME1lbGl0YSUyMGFuZCUyMFJhZG8lN0IlQzUlQTElN0RldmklN0JjJUNDJTgxJTdEJTJDJTIwRGFuaWplbCUyMGFuZCUyME1hZ2RhbGVuaSU3QmMlQ0MlODElN0QlMkMlMjBJdmFuJTIyJTJDJTBBJTIwJTIwJTIwJTIwcGxhY2UlM0RGQUtFJTJDJTBBJTIwJTIwJTIwJTIwZW50cnl0eXBlJTNEJTIyYXJ0aWNsZSUyMiUyQyUwQSUyMCUyMCUyMCUyMElEJTNEJTIya296aW5hMjAxM2N1c3RvbWl6aW5nJTIyJTJDJTBBJTIwJTIwJTIwJTIwZ3MyMDE2JTNEJTIyMSUyMiUyQyUwQSUyMCUyMCUyMCUyMHBsYWNleCUzRCUyMjI0cmQlMjBDZW50cmFsJTIwRXVyb3BlYW4lMjBDb25mZXJlbmNlJTIwb24lMjBJbmZvcm1hdGlvbiUyMGFuZCUyMEludGVsbGlnZW50JTIwU3lzdGVtcyUyMiUyQyUwQSUyOSUyOSUwQSUyNyUyNyUyNyUyOSUzQg==\")));\n",
       "    "
      ],
      "text/plain": [
       "<IPython.core.display.Javascript object>"
      ]
     },
     "metadata": {},
     "output_type": "display_data"
    },
    {
     "data": {
      "application/javascript": [
       "$('span:contains(\"# Temp\")').closest('.cell').remove();"
      ],
      "text/plain": [
       "<IPython.core.display.Javascript object>"
      ]
     },
     "metadata": {},
     "output_type": "display_data"
    },
    {
     "data": {
      "application/javascript": [
       "\n",
       "        $('span:contains(\"# Temp\")').closest('.cell').remove();\n",
       "        var code = IPython.notebook.insert_cell_below('code');\n",
       "        var prompt = code.element.find(\".input_prompt\");\n",
       "        prompt.append('<br><button style=\"height: 100%; width: 54px;\">Run</button>');\n",
       "        prompt.on(\"click\", \"button\", function(){\n",
       "            code.execute();\n",
       "        });\n",
       "        code.set_text(decodeURIComponent(window.atob(\"JTIzJTIwVGVtcCUwQWluc2VydCUyOCUyNyUyNyUyNyUwQWtvemluYTIwMTNhJTIwJTNEJTIwREIlMjhXb3JrVW5yZWxhdGVkJTI4JTBBJTIwJTIwJTIwJTIwMjAxMyUyQyUyMCUyMkN1c3RvbWl6aW5nJTIwb2YlMjB0aGUlMjBTb2Z0d2FyZSUyME9yZ2FuaXphdGlvbiUyME1hdHVyaXR5JTIwTGV2ZWwlMjBBc3Nlc3NtZW50cyUyMFVzaW5nJTIwU0NUJTIwQmFzZWQlMjBHZW5lcmF0b3IlMjIlMkMlMEElMjAlMjAlMjAlMjBkaXNwbGF5JTNEJTIya296aW5hJTIyJTJDJTBBJTIwJTIwJTIwJTIwYXV0aG9ycyUzRCUyMktvemluYSUyQyUyME1lbGl0YSUyMGFuZCUyMFJhZG8lN0IlQzUlQTElN0RldmklN0JjJUNDJTgxJTdEJTJDJTIwRGFuaWplbCUyMGFuZCUyME1hZ2RhbGVuaSU3QmMlQ0MlODElN0QlMkMlMjBJdmFuJTIyJTJDJTBBJTIwJTIwJTIwJTIwcGxhY2UlM0RGQUtFJTJDJTBBJTIwJTIwJTIwJTIwZW50cnl0eXBlJTNEJTIyYXJ0aWNsZSUyMiUyQyUwQSUyMCUyMCUyMCUyMElEJTNEJTIya296aW5hMjAxM2N1c3RvbWl6aW5nJTIyJTJDJTBBJTIwJTIwJTIwJTIwZ3MyMDE2JTNEJTIyMSUyMiUyQyUwQSUyMCUyMCUyMCUyMHBsYWNleCUzRCUyMjI0cmQlMjBDZW50cmFsJTIwRXVyb3BlYW4lMjBDb25mZXJlbmNlJTIwb24lMjBJbmZvcm1hdGlvbiUyMGFuZCUyMEludGVsbGlnZW50JTIwU3lzdGVtcyUyMiUyQyUwQSUyOSUyOSUwQSUyNyUyNyUyNyUyOSUzQg==\")));\n",
       "    "
      ],
      "text/plain": [
       "<IPython.core.display.Javascript object>"
      ]
     },
     "metadata": {},
     "output_type": "display_data"
    }
   ],
   "source": [
    "from custom_snowballing import UnrelatedInsert\n",
    "UnrelatedInsert(\"gs2016\", articles=article_list)"
   ]
  },
  {
   "cell_type": "code",
   "execution_count": 42,
   "metadata": {},
   "outputs": [
    {
     "name": "stdout",
     "output_type": "stream",
     "text": [
      "-Insert: kozina2013a\n"
     ]
    }
   ],
   "source": [
    "# Temp\n",
    "insert('''\n",
    "kozina2013a = DB(WorkUnrelated(\n",
    "    2013, \"Customizing of the Software Organization Maturity Level Assessments Using SCT Based Generator\",\n",
    "    display=\"kozina\",\n",
    "    authors=\"Kozina, Melita and Rado{š}evi{ć}, Danijel and Magdaleni{ć}, Ivan\",\n",
    "    place=FAKE,\n",
    "    entrytype=\"article\",\n",
    "    ID=\"kozina2013customizing\",\n",
    "    gs2016=\"1\",\n",
    "    placex=\"24rd Central European Conference on Information and Intelligent Systems\",\n",
    "))\n",
    "''');"
   ]
  },
  {
   "cell_type": "code",
   "execution_count": null,
   "metadata": {
    "collapsed": true
   },
   "outputs": [],
   "source": []
  }
 ],
 "metadata": {
  "kernelspec": {
   "display_name": "Python 3",
   "language": "python",
   "name": "python3"
  },
  "language_info": {
   "codemirror_mode": {
    "name": "ipython",
    "version": 3
   },
   "file_extension": ".py",
   "mimetype": "text/x-python",
   "name": "python",
   "nbconvert_exporter": "python",
   "pygments_lexer": "ipython3",
   "version": "3.6.0"
  },
  "toc": {
   "nav_menu": {
    "height": "12px",
    "width": "252px"
   },
   "number_sections": true,
   "sideBar": true,
   "skip_h1_title": false,
   "toc_cell": false,
   "toc_position": {},
   "toc_section_display": "block",
   "toc_window_display": false
  }
 },
 "nbformat": 4,
 "nbformat_minor": 2
}
