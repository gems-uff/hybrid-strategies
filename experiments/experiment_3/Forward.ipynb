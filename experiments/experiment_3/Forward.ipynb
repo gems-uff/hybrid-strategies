{
 "cells": [
  {
   "cell_type": "code",
   "execution_count": 1,
   "metadata": {
    "collapsed": true
   },
   "outputs": [],
   "source": [
    "import database\n",
    "from snowballing.operations import load_work, reload, work_by_varname\n",
    "from snowballing.selenium_scholar import SeleniumScholarQuerier\n",
    "from snowballing.snowballing import ForwardSnowballing\n",
    "from snowballing.dbmanager import insert, set_attribute\n",
    "from custom_snowballing import UnrelatedForward"
   ]
  },
  {
   "cell_type": "code",
   "execution_count": 2,
   "metadata": {
    "collapsed": true
   },
   "outputs": [],
   "source": [
    "querier = SeleniumScholarQuerier()"
   ]
  },
  {
   "cell_type": "code",
   "execution_count": 3,
   "metadata": {
    "scrolled": true
   },
   "outputs": [
    {
     "name": "stderr",
     "output_type": "stream",
     "text": [
      "[ INFO]  settings applied\n"
     ]
    }
   ],
   "source": [
    "querier.apply_settings(20, 4);"
   ]
  },
  {
   "cell_type": "code",
   "execution_count": 5,
   "metadata": {},
   "outputs": [],
   "source": [
    "#manager = ForwardSnowballing(querier, \"mendes2004a\", start=60)\n",
    "import importlib\n",
    "import custom_snowballing\n",
    "importlib.reload(custom_snowballing)\n",
    "from custom_snowballing import UnrelatedForward\n",
    "manager = UnrelatedForward(querier, \"liao2005a\", start=0)"
   ]
  },
  {
   "cell_type": "code",
   "execution_count": 6,
   "metadata": {
    "scrolled": false
   },
   "outputs": [
    {
     "data": {
      "application/vnd.jupyter.widget-view+json": {
       "model_id": "3562059b617f4afa93c6fa296d6e59c8",
       "version_major": 2,
       "version_minor": 0
      },
      "text/html": [
       "<p>Failed to display Jupyter Widget of type <code>Tab</code>.</p>\n",
       "<p>\n",
       "  If you're reading this message in Jupyter Notebook or JupyterLab, it may mean\n",
       "  that the widgets JavaScript is still loading. If this message persists, it\n",
       "  likely means that the widgets JavaScript library is either not installed or\n",
       "  not enabled. See the <a href=\"https://ipywidgets.readthedocs.io/en/stable/user_install.html\">Jupyter\n",
       "  Widgets Documentation</a> for setup instructions.\n",
       "</p>\n",
       "<p>\n",
       "  If you're reading this message in another notebook frontend (for example, a static\n",
       "  rendering on GitHub or <a href=\"https://nbviewer.jupyter.org/\">NBViewer</a>),\n",
       "  it may mean that your frontend doesn't currently support widgets.\n",
       "</p>\n"
      ],
      "text/plain": [
       "Tab(children=(VBox(children=(HBox(children=(Button(description='Previous Page', disabled=True, icon='arrow-left', style=ButtonStyle()), Button(description='Reload', icon='refresh', style=ButtonStyle()), Button(description='Next Page', icon='arrow-right', style=ButtonStyle()), ToggleButton(value=False, description='Debug'), Label(value='0'))), Output())), VBox(children=(HBox(children=(Button(description='Previous Article', disabled=True, icon='caret-left', style=ButtonStyle()), Button(description='Reload Article', icon='refresh', style=ButtonStyle()), Button(description='Next Article', disabled=True, icon='caret-right', style=ButtonStyle()))), HBox(children=(Button(description='Unrelated: Scripts', style=ButtonStyle()), Button(description='Unrelated: Provenance', style=ButtonStyle()), Button(description='Both', style=ButtonStyle()), Button(description='Ok', style=ButtonStyle()))), HBox(children=(Dropdown(description='Type', index=3, options=('Work', 'WorkSnowball', 'WorkOk', 'WorkUnrelated', 'WorkNoFile', 'WorkLang', 'Site', 'Email'), value='WorkUnrelated'), ToggleButton(value=False, description='File'))), HBox(children=(Text(value='', description='Due'), Text(value='', description='Place'))), HBox(children=(Text(value='', description='Year'), Text(value='', description='Prefix Var'))), HBox(children=(Text(value='', description='PDFPage'), Text(value='', description='Related'))), HBox(children=(Text(value='', description='Display'), Text(value='', description='Summary'))), HBox(children=(Text(value='', description='Star'), Text(value='', description='Link'))), HBox(children=(Button(description='Reload Article', icon='refresh', style=ButtonStyle()), IntSlider(value=0, max=0), Label(value='0/0'))), Output()))), _titles={'0': 'Page', '1': 'Article'})"
      ]
     },
     "metadata": {},
     "output_type": "display_data"
    },
    {
     "data": {
      "application/javascript": [
       "$('span:contains(\"# Temp\")').closest('.cell').remove();"
      ],
      "text/plain": [
       "<IPython.core.display.Javascript object>"
      ]
     },
     "metadata": {},
     "output_type": "display_data"
    },
    {
     "data": {
      "application/javascript": [
       "$('span:contains(\"# Temp\")').closest('.cell').remove();"
      ],
      "text/plain": [
       "<IPython.core.display.Javascript object>"
      ]
     },
     "metadata": {},
     "output_type": "display_data"
    },
    {
     "data": {
      "application/javascript": [
       "\n",
       "        $('span:contains(\"# Temp\")').closest('.cell').remove();\n",
       "        var code = IPython.notebook.insert_cell_below('code');\n",
       "        code.set_text(decodeURIComponent(window.atob(\"JTIzJTIwVGVtcCUwQWluc2VydCUyOCUyNyUyNyUyNyUwQXRldXRlYmVyZzIwMTNhJTIwJTNEJTIwREIlMjhXb3JrVW5yZWxhdGVkJTI4JTBBJTIwJTIwJTIwJTIwMjAxMyUyQyUyMCUyMlNlbWFudGljJTIwcHJvY2VzcyUyMGJlbmNobWFya2luZyUyMHRvJTIwaW1wcm92ZSUyMHByb2Nlc3MlMjBwZXJmb3JtYW5jZSUyMiUyQyUwQSUyMCUyMCUyMCUyMGRpc3BsYXklM0QlMjJ0ZXV0ZWJlcmclMjIlMkMlMEElMjAlMjAlMjAlMjBhdXRob3JzJTNEJTIyVGV1dGViZXJnJTJDJTIwRnJhbmslMjBhbmQlMjBLbHV0aCUyQyUyME1hcnRpbiUyMGFuZCUyMEFobGVtYW5uJTJDJTIwRnJlZGVyaWslMjBhbmQlMjBTbW9sbmlrJTJDJTIwU3RlZmFuJTIyJTJDJTBBJTIwJTIwJTIwJTIwcGxhY2UlM0RGQUtFJTJDJTBBJTIwJTIwJTIwJTIwcHAlM0QlMjI0ODQtLTUxMSUyMiUyQyUwQSUyMCUyMCUyMCUyMGVudHJ5dHlwZSUzRCUyMmFydGljbGUlMjIlMkMlMEElMjAlMjAlMjAlMjB2b2x1bWUlM0QlMjIyMCUyMiUyQyUwQSUyMCUyMCUyMCUyMG51bWJlciUzRCUyMjQlMjIlMkMlMEElMjAlMjAlMjAlMjBwdWJsaXNoZXIlM0QlMjJFbWVyYWxkJTIwR3JvdXAlMjBQdWJsaXNoaW5nJTIwTGltaXRlZCUyMiUyQyUwQSUyMCUyMCUyMCUyMElEJTNEJTIydGV1dGViZXJnMjAxM3NlbWFudGljJTIyJTJDJTBBJTIwJTIwJTIwJTIwY2x1c3Rlcl9pZCUzRCUyMjE0MjQwNTE4MTE1MDgxNTc5NTklMjIlMkMlMEElMjAlMjAlMjAlMjBzY2hvbGFyJTNEJTIyaHR0cCUzQS8vc2Nob2xhci5nb29nbGUuY29tL3NjaG9sYXIlM0ZjaXRlcyUzRDE0MjQwNTE4MTE1MDgxNTc5NTklMjZhc19zZHQlM0QyMDA1JTI2c2Npb2R0JTNEMCUyQzUlMjZobCUzRGVuJTIyJTJDJTBBJTIwJTIwJTIwJTIwcGxhY2V4JTNEJTIyQmVuY2htYXJraW5nJTNBJTIwQW4lMjBJbnRlcm5hdGlvbmFsJTIwSm91cm5hbCUyMiUyQyUwQSUyOSUyOSUwQSUwQURCJTI4Q2l0YXRpb24lMjglMEElMjAlMjAlMjAlMjB0ZXV0ZWJlcmcyMDEzYSUyQyUyMGxpYW8yMDA1YSUyQyUyMHJlZiUzRCUyMiUyMiUyQyUwQSUyMCUyMCUyMCUyMGNvbnRleHRzJTNEJTVCJTBBJTBBJTIwJTIwJTIwJTIwJTVEJTJDJTBBJTI5JTI5JTBBJTBBJTI3JTI3JTI3JTJDJTIwY2l0YXRpb25zJTNEJTI3bGlhbzIwMDVhJTI3JTI5JTNC\")));\n",
       "    "
      ],
      "text/plain": [
       "<IPython.core.display.Javascript object>"
      ]
     },
     "metadata": {},
     "output_type": "display_data"
    },
    {
     "data": {
      "application/javascript": [
       "$('span:contains(\"# Temp\")').closest('.cell').remove();"
      ],
      "text/plain": [
       "<IPython.core.display.Javascript object>"
      ]
     },
     "metadata": {},
     "output_type": "display_data"
    },
    {
     "data": {
      "application/javascript": [
       "\n",
       "        $('span:contains(\"# Temp\")').closest('.cell').remove();\n",
       "        var code = IPython.notebook.insert_cell_below('code');\n",
       "        code.set_text(decodeURIComponent(window.atob(\"JTIzJTIwVGVtcCUwQWluc2VydCUyOCUyNyUyNyUyNyUwQXBhcmRvMjAxNGElMjAlM0QlMjBEQiUyOFdvcmtVbnJlbGF0ZWQlMjglMEElMjAlMjAlMjAlMjAyMDE0JTJDJTIwJTIyQSUyMHJlZmVyZW5jZSUyMG9udG9sb2d5JTIwZm9yJTIwaGFybW9uaXppbmclMjBwcm9jZXNzLXJlZmVyZW5jZSUyMG1vZGVscyUyMiUyQyUwQSUyMCUyMCUyMCUyMGRpc3BsYXklM0QlMjJwYXJkbyUyMiUyQyUwQSUyMCUyMCUyMCUyMGF1dGhvcnMlM0QlMjJQYXJkby1DYWx2YWNoZSUyQyUyMEMlQzMlQTlzYXIlMjBKZXMlQzMlQkFzJTIwYW5kJTIwR2FyYyVDMyVBRGEtUnViaW8lMkMlMjBGJUMzJUE5bGl4JTIwT3NjYXIlMjBhbmQlMjBQaWF0dGluaS1WZWx0aHVpcyUyQyUyME1hcmlvJTIwYW5kJTIwUGluby1Db3JyZWElMkMlMjBGcmFuY2lzY28lMjBKb3MlQzMlQTklMjBhbmQlMjBCYWxkYXNzYXJyZSUyQyUyME1hciVDMyVBRGElMjBUZXJlc2ElMjIlMkMlMEElMjAlMjAlMjAlMjBwbGFjZSUzREZBS0UlMkMlMEElMjAlMjAlMjAlMjBwcCUzRCUyMjI5LS00MiUyMiUyQyUwQSUyMCUyMCUyMCUyMGVudHJ5dHlwZSUzRCUyMmFydGljbGUlMjIlMkMlMEElMjAlMjAlMjAlMjBudW1iZXIlM0QlMjI3MyUyMiUyQyUwQSUyMCUyMCUyMCUyMHB1Ymxpc2hlciUzRCUyMlVuaXZlcnNpZGFkJTIwZGUlMjBBbnRpb3F1aWElMjIlMkMlMEElMjAlMjAlMjAlMjBJRCUzRCUyMnBhcmRvMjAxNHJlZmVyZW5jZSUyMiUyQyUwQSUyMCUyMCUyMCUyMGNsdXN0ZXJfaWQlM0QlMjI4OTY4MDU2NzU4ODQ0NjYwMzgxJTIyJTJDJTBBJTIwJTIwJTIwJTIwc2Nob2xhciUzRCUyMmh0dHAlM0EvL3NjaG9sYXIuZ29vZ2xlLmNvbS9zY2hvbGFyJTNGY2l0ZXMlM0Q4OTY4MDU2NzU4ODQ0NjYwMzgxJTI2YXNfc2R0JTNEMjAwNSUyNnNjaW9kdCUzRDAlMkM1JTI2aGwlM0RlbiUyMiUyQyUwQSUyMCUyMCUyMCUyMHBsYWNleCUzRCUyMlJldmlzdGElMjBGYWN1bHRhZCUyMGRlJTIwSW5nZW5pZXIlQzMlQURhJTIwVW5pdmVyc2lkYWQlMjBkZSUyMEFudGlvcXVpYSUyMiUyQyUwQSUyOSUyOSUwQSUwQURCJTI4Q2l0YXRpb24lMjglMEElMjAlMjAlMjAlMjBwYXJkbzIwMTRhJTJDJTIwbGlhbzIwMDVhJTJDJTIwcmVmJTNEJTIyJTIyJTJDJTBBJTIwJTIwJTIwJTIwY29udGV4dHMlM0QlNUIlMEElMEElMjAlMjAlMjAlMjAlNUQlMkMlMEElMjklMjklMEElMEElMjclMjclMjclMkMlMjBjaXRhdGlvbnMlM0QlMjdsaWFvMjAwNWElMjclMjklM0I=\")));\n",
       "    "
      ],
      "text/plain": [
       "<IPython.core.display.Javascript object>"
      ]
     },
     "metadata": {},
     "output_type": "display_data"
    },
    {
     "data": {
      "application/javascript": [
       "$('span:contains(\"# Temp\")').closest('.cell').remove();"
      ],
      "text/plain": [
       "<IPython.core.display.Javascript object>"
      ]
     },
     "metadata": {},
     "output_type": "display_data"
    },
    {
     "data": {
      "application/javascript": [
       "\n",
       "        $('span:contains(\"# Temp\")').closest('.cell').remove();\n",
       "        var code = IPython.notebook.insert_cell_below('code');\n",
       "        code.set_text(decodeURIComponent(window.atob(\"JTIzJTIwVGVtcCUwQWluc2VydCUyOCUyNyUyNyUyNyUwQXBhcmRvMjAxNGElMjAlM0QlMjBEQiUyOFdvcmtVbnJlbGF0ZWQlMjglMEElMjAlMjAlMjAlMjAyMDE0JTJDJTIwJTIyQSUyMHJlZmVyZW5jZSUyMG9udG9sb2d5JTIwZm9yJTIwaGFybW9uaXppbmclMjBwcm9jZXNzLXJlZmVyZW5jZSUyMG1vZGVscyUyMiUyQyUwQSUyMCUyMCUyMCUyMGRpc3BsYXklM0QlMjJwYXJkbyUyMiUyQyUwQSUyMCUyMCUyMCUyMGF1dGhvcnMlM0QlMjJQYXJkby1DYWx2YWNoZSUyQyUyMEMlQzMlQTlzYXIlMjBKZXMlQzMlQkFzJTIwYW5kJTIwR2FyYyVDMyVBRGEtUnViaW8lMkMlMjBGJUMzJUE5bGl4JTIwT3NjYXIlMjBhbmQlMjBQaWF0dGluaS1WZWx0aHVpcyUyQyUyME1hcmlvJTIwYW5kJTIwUGluby1Db3JyZWElMkMlMjBGcmFuY2lzY28lMjBKb3MlQzMlQTklMjBhbmQlMjBCYWxkYXNzYXJyZSUyQyUyME1hciVDMyVBRGElMjBUZXJlc2ElMjIlMkMlMEElMjAlMjAlMjAlMjBwbGFjZSUzREZBS0UlMkMlMEElMjAlMjAlMjAlMjBwcCUzRCUyMjI5LS00MiUyMiUyQyUwQSUyMCUyMCUyMCUyMGVudHJ5dHlwZSUzRCUyMmFydGljbGUlMjIlMkMlMEElMjAlMjAlMjAlMjBudW1iZXIlM0QlMjI3MyUyMiUyQyUwQSUyMCUyMCUyMCUyMHB1Ymxpc2hlciUzRCUyMlVuaXZlcnNpZGFkJTIwZGUlMjBBbnRpb3F1aWElMjIlMkMlMEElMjAlMjAlMjAlMjBJRCUzRCUyMnBhcmRvMjAxNHJlZmVyZW5jZSUyMiUyQyUwQSUyMCUyMCUyMCUyMGNsdXN0ZXJfaWQlM0QlMjI4OTY4MDU2NzU4ODQ0NjYwMzgxJTIyJTJDJTBBJTIwJTIwJTIwJTIwc2Nob2xhciUzRCUyMmh0dHAlM0EvL3NjaG9sYXIuZ29vZ2xlLmNvbS9zY2hvbGFyJTNGY2l0ZXMlM0Q4OTY4MDU2NzU4ODQ0NjYwMzgxJTI2YXNfc2R0JTNEMjAwNSUyNnNjaW9kdCUzRDAlMkM1JTI2aGwlM0RlbiUyMiUyQyUwQSUyMCUyMCUyMCUyMHBsYWNleCUzRCUyMlJldmlzdGElMjBGYWN1bHRhZCUyMGRlJTIwSW5nZW5pZXIlQzMlQURhJTIwVW5pdmVyc2lkYWQlMjBkZSUyMEFudGlvcXVpYSUyMiUyQyUwQSUyOSUyOSUwQSUwQURCJTI4Q2l0YXRpb24lMjglMEElMjAlMjAlMjAlMjBwYXJkbzIwMTRhJTJDJTIwbGlhbzIwMDVhJTJDJTIwcmVmJTNEJTIyJTIyJTJDJTBBJTIwJTIwJTIwJTIwY29udGV4dHMlM0QlNUIlMEElMEElMjAlMjAlMjAlMjAlNUQlMkMlMEElMjklMjklMEElMEElMjclMjclMjclMkMlMjBjaXRhdGlvbnMlM0QlMjdsaWFvMjAwNWElMjclMjklM0I=\")));\n",
       "    "
      ],
      "text/plain": [
       "<IPython.core.display.Javascript object>"
      ]
     },
     "metadata": {},
     "output_type": "display_data"
    },
    {
     "data": {
      "application/javascript": [
       "$('span:contains(\"# Temp\")').closest('.cell').remove();"
      ],
      "text/plain": [
       "<IPython.core.display.Javascript object>"
      ]
     },
     "metadata": {},
     "output_type": "display_data"
    },
    {
     "data": {
      "application/javascript": [
       "\n",
       "        $('span:contains(\"# Temp\")').closest('.cell').remove();\n",
       "        var code = IPython.notebook.insert_cell_below('code');\n",
       "        code.set_text(decodeURIComponent(window.atob(\"JTIzJTIwVGVtcCUwQWluc2VydCUyOCUyNyUyNyUyNyUwQWZhZGlsYTIwMDlhJTIwJTNEJTIwREIlMjhXb3JrVW5yZWxhdGVkJTI4JTBBJTIwJTIwJTIwJTIwMjAwOSUyQyUyMCUyMlJldXNpbmclMjBoZXRlcm9nZW5lb3VzJTIwc29mdHdhcmUlMjBwcm9jZXNzJTIwbW9kZWxzJTIyJTJDJTBBJTIwJTIwJTIwJTIwZGlzcGxheSUzRCUyMmZhZGlsYSUyMiUyQyUwQSUyMCUyMCUyMCUyMGF1dGhvcnMlM0QlMjJGYWRpbGElMkMlMjBBb3Vzc2F0JTIwYW5kJTIwTW9oYW1lZCUyQyUyMEFobWVkJTIwTmFjZXIlMjIlMkMlMEElMjAlMjAlMjAlMjBwbGFjZSUzREZBS0UlMkMlMEElMjAlMjAlMjAlMjBwcCUzRCUyMjI5MS0tMjk0JTIyJTJDJTBBJTIwJTIwJTIwJTIwZW50cnl0eXBlJTNEJTIyaW5wcm9jZWVkaW5ncyUyMiUyQyUwQSUyMCUyMCUyMCUyMG9yZ2FuaXphdGlvbiUzRCUyMklFRUUlMjIlMkMlMEElMjAlMjAlMjAlMjBJRCUzRCUyMmZhZGlsYTIwMDlyZXVzaW5nJTIyJTJDJTBBJTIwJTIwJTIwJTIwY2x1c3Rlcl9pZCUzRCUyMjU3OTAzMDcxODcyMDA5MzQxMTIlMjIlMkMlMEElMjAlMjAlMjAlMjBzY2hvbGFyJTNEJTIyaHR0cCUzQS8vc2Nob2xhci5nb29nbGUuY29tL3NjaG9sYXIlM0ZjaXRlcyUzRDU3OTAzMDcxODcyMDA5MzQxMTIlMjZhc19zZHQlM0QyMDA1JTI2c2Npb2R0JTNEMCUyQzUlMjZobCUzRGVuJTIyJTJDJTBBJTIwJTIwJTIwJTIwcGxhY2V4JTNEJTIyQ29tcHV0ZXJzJTIwYW5kJTIwQ29tbXVuaWNhdGlvbnMlMkMlMjAyMDA5LiUyMElTQ0MlMjAyMDA5LiUyMElFRUUlMjBTeW1wb3NpdW0lMjBvbiUyMiUyQyUwQSUyOSUyOSUwQSUwQURCJTI4Q2l0YXRpb24lMjglMEElMjAlMjAlMjAlMjBmYWRpbGEyMDA5YSUyQyUyMGxpYW8yMDA1YSUyQyUyMHJlZiUzRCUyMiUyMiUyQyUwQSUyMCUyMCUyMCUyMGNvbnRleHRzJTNEJTVCJTBBJTBBJTIwJTIwJTIwJTIwJTVEJTJDJTBBJTI5JTI5JTBBJTBBJTI3JTI3JTI3JTJDJTIwY2l0YXRpb25zJTNEJTI3bGlhbzIwMDVhJTI3JTI5JTNC\")));\n",
       "    "
      ],
      "text/plain": [
       "<IPython.core.display.Javascript object>"
      ]
     },
     "metadata": {},
     "output_type": "display_data"
    },
    {
     "data": {
      "application/javascript": [
       "$('span:contains(\"# Temp\")').closest('.cell').remove();"
      ],
      "text/plain": [
       "<IPython.core.display.Javascript object>"
      ]
     },
     "metadata": {},
     "output_type": "display_data"
    },
    {
     "data": {
      "application/javascript": [
       "\n",
       "        $('span:contains(\"# Temp\")').closest('.cell').remove();\n",
       "        var code = IPython.notebook.insert_cell_below('code');\n",
       "        code.set_text(decodeURIComponent(window.atob(\"JTIzJTIwVGVtcCUwQWluc2VydCUyOCUyNyUyNyUyNyUwQWZhZGlsYTIwMDlhJTIwJTNEJTIwREIlMjhXb3JrVW5yZWxhdGVkJTI4JTBBJTIwJTIwJTIwJTIwMjAwOSUyQyUyMCUyMlJldXNpbmclMjBoZXRlcm9nZW5lb3VzJTIwc29mdHdhcmUlMjBwcm9jZXNzJTIwbW9kZWxzJTIyJTJDJTBBJTIwJTIwJTIwJTIwZGlzcGxheSUzRCUyMmZhZGlsYSUyMiUyQyUwQSUyMCUyMCUyMCUyMGF1dGhvcnMlM0QlMjJGYWRpbGElMkMlMjBBb3Vzc2F0JTIwYW5kJTIwTW9oYW1lZCUyQyUyMEFobWVkJTIwTmFjZXIlMjIlMkMlMEElMjAlMjAlMjAlMjBwbGFjZSUzREZBS0UlMkMlMEElMjAlMjAlMjAlMjBwcCUzRCUyMjI5MS0tMjk0JTIyJTJDJTBBJTIwJTIwJTIwJTIwZW50cnl0eXBlJTNEJTIyaW5wcm9jZWVkaW5ncyUyMiUyQyUwQSUyMCUyMCUyMCUyMG9yZ2FuaXphdGlvbiUzRCUyMklFRUUlMjIlMkMlMEElMjAlMjAlMjAlMjBJRCUzRCUyMmZhZGlsYTIwMDlyZXVzaW5nJTIyJTJDJTBBJTIwJTIwJTIwJTIwY2x1c3Rlcl9pZCUzRCUyMjU3OTAzMDcxODcyMDA5MzQxMTIlMjIlMkMlMEElMjAlMjAlMjAlMjBzY2hvbGFyJTNEJTIyaHR0cCUzQS8vc2Nob2xhci5nb29nbGUuY29tL3NjaG9sYXIlM0ZjaXRlcyUzRDU3OTAzMDcxODcyMDA5MzQxMTIlMjZhc19zZHQlM0QyMDA1JTI2c2Npb2R0JTNEMCUyQzUlMjZobCUzRGVuJTIyJTJDJTBBJTIwJTIwJTIwJTIwcGxhY2V4JTNEJTIyQ29tcHV0ZXJzJTIwYW5kJTIwQ29tbXVuaWNhdGlvbnMlMkMlMjAyMDA5LiUyMElTQ0MlMjAyMDA5LiUyMElFRUUlMjBTeW1wb3NpdW0lMjBvbiUyMiUyQyUwQSUyOSUyOSUwQSUwQURCJTI4Q2l0YXRpb24lMjglMEElMjAlMjAlMjAlMjBmYWRpbGEyMDA5YSUyQyUyMGxpYW8yMDA1YSUyQyUyMHJlZiUzRCUyMiUyMiUyQyUwQSUyMCUyMCUyMCUyMGNvbnRleHRzJTNEJTVCJTBBJTBBJTIwJTIwJTIwJTIwJTVEJTJDJTBBJTI5JTI5JTBBJTBBJTI3JTI3JTI3JTJDJTIwY2l0YXRpb25zJTNEJTI3bGlhbzIwMDVhJTI3JTI5JTNC\")));\n",
       "    "
      ],
      "text/plain": [
       "<IPython.core.display.Javascript object>"
      ]
     },
     "metadata": {},
     "output_type": "display_data"
    },
    {
     "data": {
      "application/javascript": [
       "$('span:contains(\"# Temp\")').closest('.cell').remove();"
      ],
      "text/plain": [
       "<IPython.core.display.Javascript object>"
      ]
     },
     "metadata": {},
     "output_type": "display_data"
    },
    {
     "data": {
      "application/javascript": [
       "\n",
       "        $('span:contains(\"# Temp\")').closest('.cell').remove();\n",
       "        var code = IPython.notebook.insert_cell_below('code');\n",
       "        code.set_text(decodeURIComponent(window.atob(\"JTIzJTIwVGVtcCUwQWluc2VydCUyOCUyNyUyNyUyNyUwQURCJTI4Q2l0YXRpb24lMjglMEElMjAlMjAlMjAlMjBiaWJpMjAxNGElMkMlMjBsaWFvMjAwNWElMkMlMjByZWYlM0QlMjIlMjIlMkMlMEElMjAlMjAlMjAlMjBjb250ZXh0cyUzRCU1QiUwQSUwQSUyMCUyMCUyMCUyMCU1RCUyQyUwQSUyOSUyOSUwQSUwQSUyNyUyNyUyNyUyQyUyMGNpdGF0aW9ucyUzRCUyN2xpYW8yMDA1YSUyNyUyOSUzQg==\")));\n",
       "    "
      ],
      "text/plain": [
       "<IPython.core.display.Javascript object>"
      ]
     },
     "metadata": {},
     "output_type": "display_data"
    },
    {
     "data": {
      "application/javascript": [
       "$('span:contains(\"# Temp\")').closest('.cell').remove();"
      ],
      "text/plain": [
       "<IPython.core.display.Javascript object>"
      ]
     },
     "metadata": {},
     "output_type": "display_data"
    },
    {
     "data": {
      "application/javascript": [
       "\n",
       "        $('span:contains(\"# Temp\")').closest('.cell').remove();\n",
       "        var code = IPython.notebook.insert_cell_below('code');\n",
       "        code.set_text(decodeURIComponent(window.atob(\"JTIzJTIwVGVtcCUwQWluc2VydCUyOCUyNyUyNyUyNyUwQURCJTI4Q2l0YXRpb24lMjglMEElMjAlMjAlMjAlMjBiaWJpMjAxNGElMkMlMjBsaWFvMjAwNWElMkMlMjByZWYlM0QlMjIlMjIlMkMlMEElMjAlMjAlMjAlMjBjb250ZXh0cyUzRCU1QiUwQSUwQSUyMCUyMCUyMCUyMCU1RCUyQyUwQSUyOSUyOSUwQSUwQSUyNyUyNyUyNyUyQyUyMGNpdGF0aW9ucyUzRCUyN2xpYW8yMDA1YSUyNyUyOSUzQg==\")));\n",
       "    "
      ],
      "text/plain": [
       "<IPython.core.display.Javascript object>"
      ]
     },
     "metadata": {},
     "output_type": "display_data"
    },
    {
     "data": {
      "application/javascript": [
       "$('span:contains(\"# Temp\")').closest('.cell').remove();"
      ],
      "text/plain": [
       "<IPython.core.display.Javascript object>"
      ]
     },
     "metadata": {},
     "output_type": "display_data"
    },
    {
     "data": {
      "application/javascript": [
       "\n",
       "        $('span:contains(\"# Temp\")').closest('.cell').remove();\n",
       "        var code = IPython.notebook.insert_cell_below('code');\n",
       "        code.set_text(decodeURIComponent(window.atob(\"JTIzJTIwVGVtcCUwQWluc2VydCUyOCUyNyUyNyUyNyUwQURCJTI4Q2l0YXRpb24lMjglMEElMjAlMjAlMjAlMjBtYXJ0b2dsaWEyMDExYSUyQyUyMGxpYW8yMDA1YSUyQyUyMHJlZiUzRCUyMiUyMiUyQyUwQSUyMCUyMCUyMCUyMGNvbnRleHRzJTNEJTVCJTBBJTBBJTIwJTIwJTIwJTIwJTVEJTJDJTBBJTI5JTI5JTBBJTBBJTI3JTI3JTI3JTJDJTIwY2l0YXRpb25zJTNEJTI3bGlhbzIwMDVhJTI3JTI5JTNCJTBBc2V0X2F0dHJpYnV0ZSUyOCUyN21hcnRvZ2xpYTIwMTFhJTI3JTJDJTIwJTI3Y2x1c3Rlcl9pZCUyNyUyQyUyMCUyNzI4ODA5MzQwMDU4ODA5NTc5MjklMjclMjklM0IlMEFzZXRfYXR0cmlidXRlJTI4JTI3bWFydG9nbGlhMjAxMWElMjclMkMlMjAlMjdzY2hvbGFyJTI3JTJDJTIwJTI3aHR0cCUzQS8vc2Nob2xhci5nb29nbGUuY29tL3NjaG9sYXIlM0ZjaXRlcyUzRDI4ODA5MzQwMDU4ODA5NTc5MjklMjZhc19zZHQlM0QyMDA1JTI2c2Npb2R0JTNEMCUyQzUlMjZobCUzRGVuJTI3JTI5JTNC\")));\n",
       "    "
      ],
      "text/plain": [
       "<IPython.core.display.Javascript object>"
      ]
     },
     "metadata": {},
     "output_type": "display_data"
    },
    {
     "data": {
      "application/javascript": [
       "$('span:contains(\"# Temp\")').closest('.cell').remove();"
      ],
      "text/plain": [
       "<IPython.core.display.Javascript object>"
      ]
     },
     "metadata": {},
     "output_type": "display_data"
    },
    {
     "data": {
      "application/javascript": [
       "\n",
       "        $('span:contains(\"# Temp\")').closest('.cell').remove();\n",
       "        var code = IPython.notebook.insert_cell_below('code');\n",
       "        code.set_text(decodeURIComponent(window.atob(\"JTIzJTIwVGVtcCUwQWluc2VydCUyOCUyNyUyNyUyNyUwQURCJTI4Q2l0YXRpb24lMjglMEElMjAlMjAlMjAlMjBtYXJ0b2dsaWEyMDExYSUyQyUyMGxpYW8yMDA1YSUyQyUyMHJlZiUzRCUyMiUyMiUyQyUwQSUyMCUyMCUyMCUyMGNvbnRleHRzJTNEJTVCJTBBJTBBJTIwJTIwJTIwJTIwJTVEJTJDJTBBJTI5JTI5JTBBJTBBJTI3JTI3JTI3JTJDJTIwY2l0YXRpb25zJTNEJTI3bGlhbzIwMDVhJTI3JTI5JTNCJTBBc2V0X2F0dHJpYnV0ZSUyOCUyN21hcnRvZ2xpYTIwMTFhJTI3JTJDJTIwJTI3Y2x1c3Rlcl9pZCUyNyUyQyUyMCUyNzI4ODA5MzQwMDU4ODA5NTc5MjklMjclMjklM0IlMEFzZXRfYXR0cmlidXRlJTI4JTI3bWFydG9nbGlhMjAxMWElMjclMkMlMjAlMjdzY2hvbGFyJTI3JTJDJTIwJTI3aHR0cCUzQS8vc2Nob2xhci5nb29nbGUuY29tL3NjaG9sYXIlM0ZjaXRlcyUzRDI4ODA5MzQwMDU4ODA5NTc5MjklMjZhc19zZHQlM0QyMDA1JTI2c2Npb2R0JTNEMCUyQzUlMjZobCUzRGVuJTI3JTI5JTNC\")));\n",
       "    "
      ],
      "text/plain": [
       "<IPython.core.display.Javascript object>"
      ]
     },
     "metadata": {},
     "output_type": "display_data"
    },
    {
     "data": {
      "application/javascript": [
       "$('span:contains(\"# Temp\")').closest('.cell').remove();"
      ],
      "text/plain": [
       "<IPython.core.display.Javascript object>"
      ]
     },
     "metadata": {},
     "output_type": "display_data"
    },
    {
     "data": {
      "application/javascript": [
       "\n",
       "        $('span:contains(\"# Temp\")').closest('.cell').remove();\n",
       "        var code = IPython.notebook.insert_cell_below('code');\n",
       "        code.set_text(decodeURIComponent(window.atob(\"JTIzJTIwVGVtcCUwQWluc2VydCUyOCUyNyUyNyUyNyUwQWplbmVyczIwMTJiJTIwJTNEJTIwREIlMjhXb3JrVW5yZWxhdGVkJTI4JTBBJTIwJTIwJTIwJTIwMjAxMiUyQyUyMCUyMkF1dG9tYXRlZCUyMGNvbXBhcmlzb24lMjBvZiUyMHByb2Nlc3MlMjBpbXByb3ZlbWVudCUyMHJlZmVyZW5jZSUyMG1vZGVscyUyMGJhc2VkJTIwb24lMjBzaW1pbGFyaXR5JTIwbWV0cmljcyUyMiUyQyUwQSUyMCUyMCUyMCUyMGRpc3BsYXklM0QlMjJqZW5lcnMlMjBiJTIyJTJDJTBBJTIwJTIwJTIwJTIwYXV0aG9ycyUzRCUyMkplbmVycyUyQyUyMFNpbW9uYSUyMGFuZCUyMExpY2h0ZXIlMkMlMjBIb3JzdCUyMGFuZCUyMFB5YXRrb3ZhJTJDJTIwRWxlbmElMjIlMkMlMEElMjAlMjAlMjAlMjBwbGFjZSUzRFNFQyUyQyUwQSUyMCUyMCUyMCUyMHBwJTNEJTIyNzQzLS03NDglMjIlMkMlMEElMjAlMjAlMjAlMjBlbnRyeXR5cGUlM0QlMjJpbnByb2NlZWRpbmdzJTIyJTJDJTBBJTIwJTIwJTIwJTIwdm9sdW1lJTNEJTIyMSUyMiUyQyUwQSUyMCUyMCUyMCUyMG9yZ2FuaXphdGlvbiUzRCUyMklFRUUlMjIlMkMlMEElMjAlMjAlMjAlMjBJRCUzRCUyMmplbmVyczIwMTJhdXRvbWF0ZWQlMjIlMkMlMEElMjAlMjAlMjAlMjBjbHVzdGVyX2lkJTNEJTIyMTIxODgxNjk1NjIyNTE3ODM1MjclMjIlMkMlMEElMjAlMjAlMjAlMjBzY2hvbGFyJTNEJTIyaHR0cCUzQS8vc2Nob2xhci5nb29nbGUuY29tL3NjaG9sYXIlM0ZjaXRlcyUzRDEyMTg4MTY5NTYyMjUxNzgzNTI3JTI2YXNfc2R0JTNEMjAwNSUyNnNjaW9kdCUzRDAlMkM1JTI2aGwlM0RlbiUyMiUyQyUwQSUyMCUyMCUyMCUyMHBsYWNleCUzRCUyMlNvZnR3YXJlJTIwRW5naW5lZXJpbmclMjBDb25mZXJlbmNlJTIwJTI4QVBTRUMlMjklMkMlMjAyMDEyJTIwMTl0aCUyMEFzaWEtUGFjaWZpYyUyMiUyQyUwQSUyOSUyOSUwQSUwQURCJTI4Q2l0YXRpb24lMjglMEElMjAlMjAlMjAlMjBqZW5lcnMyMDEyYiUyQyUyMGxpYW8yMDA1YSUyQyUyMHJlZiUzRCUyMiUyMiUyQyUwQSUyMCUyMCUyMCUyMGNvbnRleHRzJTNEJTVCJTBBJTBBJTIwJTIwJTIwJTIwJTVEJTJDJTBBJTI5JTI5JTBBJTBBJTI3JTI3JTI3JTJDJTIwY2l0YXRpb25zJTNEJTI3bGlhbzIwMDVhJTI3JTI5JTNC\")));\n",
       "    "
      ],
      "text/plain": [
       "<IPython.core.display.Javascript object>"
      ]
     },
     "metadata": {},
     "output_type": "display_data"
    },
    {
     "data": {
      "application/javascript": [
       "$('span:contains(\"# Temp\")').closest('.cell').remove();"
      ],
      "text/plain": [
       "<IPython.core.display.Javascript object>"
      ]
     },
     "metadata": {},
     "output_type": "display_data"
    },
    {
     "data": {
      "application/javascript": [
       "\n",
       "        $('span:contains(\"# Temp\")').closest('.cell').remove();\n",
       "        var code = IPython.notebook.insert_cell_below('code');\n",
       "        code.set_text(decodeURIComponent(window.atob(\"JTIzJTIwVGVtcCUwQWluc2VydCUyOCUyNyUyNyUyNyUwQWplbmVyczIwMTJiJTIwJTNEJTIwREIlMjhXb3JrVW5yZWxhdGVkJTI4JTBBJTIwJTIwJTIwJTIwMjAxMiUyQyUyMCUyMkF1dG9tYXRlZCUyMGNvbXBhcmlzb24lMjBvZiUyMHByb2Nlc3MlMjBpbXByb3ZlbWVudCUyMHJlZmVyZW5jZSUyMG1vZGVscyUyMGJhc2VkJTIwb24lMjBzaW1pbGFyaXR5JTIwbWV0cmljcyUyMiUyQyUwQSUyMCUyMCUyMCUyMGRpc3BsYXklM0QlMjJqZW5lcnMlMjBiJTIyJTJDJTBBJTIwJTIwJTIwJTIwYXV0aG9ycyUzRCUyMkplbmVycyUyQyUyMFNpbW9uYSUyMGFuZCUyMExpY2h0ZXIlMkMlMjBIb3JzdCUyMGFuZCUyMFB5YXRrb3ZhJTJDJTIwRWxlbmElMjIlMkMlMEElMjAlMjAlMjAlMjBwbGFjZSUzRFNFQyUyQyUwQSUyMCUyMCUyMCUyMHBwJTNEJTIyNzQzLS03NDglMjIlMkMlMEElMjAlMjAlMjAlMjBlbnRyeXR5cGUlM0QlMjJpbnByb2NlZWRpbmdzJTIyJTJDJTBBJTIwJTIwJTIwJTIwdm9sdW1lJTNEJTIyMSUyMiUyQyUwQSUyMCUyMCUyMCUyMG9yZ2FuaXphdGlvbiUzRCUyMklFRUUlMjIlMkMlMEElMjAlMjAlMjAlMjBJRCUzRCUyMmplbmVyczIwMTJhdXRvbWF0ZWQlMjIlMkMlMEElMjAlMjAlMjAlMjBjbHVzdGVyX2lkJTNEJTIyMTIxODgxNjk1NjIyNTE3ODM1MjclMjIlMkMlMEElMjAlMjAlMjAlMjBzY2hvbGFyJTNEJTIyaHR0cCUzQS8vc2Nob2xhci5nb29nbGUuY29tL3NjaG9sYXIlM0ZjaXRlcyUzRDEyMTg4MTY5NTYyMjUxNzgzNTI3JTI2YXNfc2R0JTNEMjAwNSUyNnNjaW9kdCUzRDAlMkM1JTI2aGwlM0RlbiUyMiUyQyUwQSUyMCUyMCUyMCUyMHBsYWNleCUzRCUyMlNvZnR3YXJlJTIwRW5naW5lZXJpbmclMjBDb25mZXJlbmNlJTIwJTI4QVBTRUMlMjklMkMlMjAyMDEyJTIwMTl0aCUyMEFzaWEtUGFjaWZpYyUyMiUyQyUwQSUyOSUyOSUwQSUwQURCJTI4Q2l0YXRpb24lMjglMEElMjAlMjAlMjAlMjBqZW5lcnMyMDEyYiUyQyUyMGxpYW8yMDA1YSUyQyUyMHJlZiUzRCUyMiUyMiUyQyUwQSUyMCUyMCUyMCUyMGNvbnRleHRzJTNEJTVCJTBBJTBBJTIwJTIwJTIwJTIwJTVEJTJDJTBBJTI5JTI5JTBBJTBBJTI3JTI3JTI3JTJDJTIwY2l0YXRpb25zJTNEJTI3bGlhbzIwMDVhJTI3JTI5JTNC\")));\n",
       "    "
      ],
      "text/plain": [
       "<IPython.core.display.Javascript object>"
      ]
     },
     "metadata": {},
     "output_type": "display_data"
    },
    {
     "data": {
      "application/javascript": [
       "$('span:contains(\"# Temp\")').closest('.cell').remove();"
      ],
      "text/plain": [
       "<IPython.core.display.Javascript object>"
      ]
     },
     "metadata": {},
     "output_type": "display_data"
    },
    {
     "data": {
      "application/javascript": [
       "\n",
       "        $('span:contains(\"# Temp\")').closest('.cell').remove();\n",
       "        var code = IPython.notebook.insert_cell_below('code');\n",
       "        code.set_text(decodeURIComponent(window.atob(\"JTIzJTIwVGVtcCUwQWluc2VydCUyOCUyNyUyNyUyNyUwQURCJTI4Q2l0YXRpb24lMjglMEElMjAlMjAlMjAlMjBqZW5lcnMyMDEzYiUyQyUyMGxpYW8yMDA1YSUyQyUyMHJlZiUzRCUyMiUyMiUyQyUwQSUyMCUyMCUyMCUyMGNvbnRleHRzJTNEJTVCJTBBJTBBJTIwJTIwJTIwJTIwJTVEJTJDJTBBJTI5JTI5JTBBJTBBJTI3JTI3JTI3JTJDJTIwY2l0YXRpb25zJTNEJTI3bGlhbzIwMDVhJTI3JTI5JTNCJTBBc2V0X2F0dHJpYnV0ZSUyOCUyN2plbmVyczIwMTNiJTI3JTJDJTIwJTI3Y2x1c3Rlcl9pZCUyNyUyQyUyMCUyNzQ0NzQzNjc0MjM3Mjk4NjI2OTElMjclMjklM0IlMEFzZXRfYXR0cmlidXRlJTI4JTI3amVuZXJzMjAxM2IlMjclMkMlMjAlMjdzY2hvbGFyJTI3JTJDJTIwJTI3aHR0cCUzQS8vc2Nob2xhci5nb29nbGUuY29tL3NjaG9sYXIlM0ZjaXRlcyUzRDQ0NzQzNjc0MjM3Mjk4NjI2OTElMjZhc19zZHQlM0QyMDA1JTI2c2Npb2R0JTNEMCUyQzUlMjZobCUzRGVuJTI3JTI5JTNC\")));\n",
       "    "
      ],
      "text/plain": [
       "<IPython.core.display.Javascript object>"
      ]
     },
     "metadata": {},
     "output_type": "display_data"
    },
    {
     "data": {
      "application/javascript": [
       "$('span:contains(\"# Temp\")').closest('.cell').remove();"
      ],
      "text/plain": [
       "<IPython.core.display.Javascript object>"
      ]
     },
     "metadata": {},
     "output_type": "display_data"
    },
    {
     "data": {
      "application/javascript": [
       "\n",
       "        $('span:contains(\"# Temp\")').closest('.cell').remove();\n",
       "        var code = IPython.notebook.insert_cell_below('code');\n",
       "        code.set_text(decodeURIComponent(window.atob(\"JTIzJTIwVGVtcCUwQWluc2VydCUyOCUyNyUyNyUyNyUwQURCJTI4Q2l0YXRpb24lMjglMEElMjAlMjAlMjAlMjBqZW5lcnMyMDEzYiUyQyUyMGxpYW8yMDA1YSUyQyUyMHJlZiUzRCUyMiUyMiUyQyUwQSUyMCUyMCUyMCUyMGNvbnRleHRzJTNEJTVCJTBBJTBBJTIwJTIwJTIwJTIwJTVEJTJDJTBBJTI5JTI5JTBBJTBBJTI3JTI3JTI3JTJDJTIwY2l0YXRpb25zJTNEJTI3bGlhbzIwMDVhJTI3JTI5JTNCJTBBc2V0X2F0dHJpYnV0ZSUyOCUyN2plbmVyczIwMTNiJTI3JTJDJTIwJTI3Y2x1c3Rlcl9pZCUyNyUyQyUyMCUyNzQ0NzQzNjc0MjM3Mjk4NjI2OTElMjclMjklM0IlMEFzZXRfYXR0cmlidXRlJTI4JTI3amVuZXJzMjAxM2IlMjclMkMlMjAlMjdzY2hvbGFyJTI3JTJDJTIwJTI3aHR0cCUzQS8vc2Nob2xhci5nb29nbGUuY29tL3NjaG9sYXIlM0ZjaXRlcyUzRDQ0NzQzNjc0MjM3Mjk4NjI2OTElMjZhc19zZHQlM0QyMDA1JTI2c2Npb2R0JTNEMCUyQzUlMjZobCUzRGVuJTI3JTI5JTNC\")));\n",
       "    "
      ],
      "text/plain": [
       "<IPython.core.display.Javascript object>"
      ]
     },
     "metadata": {},
     "output_type": "display_data"
    },
    {
     "data": {
      "application/javascript": [
       "$('span:contains(\"# Temp\")').closest('.cell').remove();"
      ],
      "text/plain": [
       "<IPython.core.display.Javascript object>"
      ]
     },
     "metadata": {},
     "output_type": "display_data"
    },
    {
     "data": {
      "application/javascript": [
       "\n",
       "        $('span:contains(\"# Temp\")').closest('.cell').remove();\n",
       "        var code = IPython.notebook.insert_cell_below('code');\n",
       "        code.set_text(decodeURIComponent(window.atob(\"JTIzJTIwVGVtcCUwQWluc2VydCUyOCUyNyUyNyUyNyUwQURCJTI4Q2l0YXRpb24lMjglMEElMjAlMjAlMjAlMjBtb3JhMjAxMGElMkMlMjBsaWFvMjAwNWElMkMlMjByZWYlM0QlMjIlMjIlMkMlMEElMjAlMjAlMjAlMjBjb250ZXh0cyUzRCU1QiUwQSUwQSUyMCUyMCUyMCUyMCU1RCUyQyUwQSUyOSUyOSUwQSUwQSUyNyUyNyUyNyUyQyUyMGNpdGF0aW9ucyUzRCUyN2xpYW8yMDA1YSUyNyUyOSUzQiUwQXNldF9hdHRyaWJ1dGUlMjglMjdtb3JhMjAxMGElMjclMkMlMjAlMjdjbHVzdGVyX2lkJTI3JTJDJTIwJTI3NDQ5Njc3NTY3MTY1NjExNTYzNyUyNyUyOSUzQiUwQXNldF9hdHRyaWJ1dGUlMjglMjdtb3JhMjAxMGElMjclMkMlMjAlMjdzY2hvbGFyJTI3JTJDJTIwJTI3aHR0cCUzQS8vc2Nob2xhci5nb29nbGUuY29tL3NjaG9sYXIlM0ZjaXRlcyUzRDQ0OTY3NzU2NzE2NTYxMTU2MzclMjZhc19zZHQlM0QyMDA1JTI2c2Npb2R0JTNEMCUyQzUlMjZobCUzRGVuJTI3JTI5JTNC\")));\n",
       "    "
      ],
      "text/plain": [
       "<IPython.core.display.Javascript object>"
      ]
     },
     "metadata": {},
     "output_type": "display_data"
    },
    {
     "data": {
      "application/javascript": [
       "$('span:contains(\"# Temp\")').closest('.cell').remove();"
      ],
      "text/plain": [
       "<IPython.core.display.Javascript object>"
      ]
     },
     "metadata": {},
     "output_type": "display_data"
    },
    {
     "data": {
      "application/javascript": [
       "\n",
       "        $('span:contains(\"# Temp\")').closest('.cell').remove();\n",
       "        var code = IPython.notebook.insert_cell_below('code');\n",
       "        code.set_text(decodeURIComponent(window.atob(\"JTIzJTIwVGVtcCUwQWluc2VydCUyOCUyNyUyNyUyNyUwQURCJTI4Q2l0YXRpb24lMjglMEElMjAlMjAlMjAlMjBtb3JhMjAxMGElMkMlMjBsaWFvMjAwNWElMkMlMjByZWYlM0QlMjIlMjIlMkMlMEElMjAlMjAlMjAlMjBjb250ZXh0cyUzRCU1QiUwQSUwQSUyMCUyMCUyMCUyMCU1RCUyQyUwQSUyOSUyOSUwQSUwQSUyNyUyNyUyNyUyQyUyMGNpdGF0aW9ucyUzRCUyN2xpYW8yMDA1YSUyNyUyOSUzQiUwQXNldF9hdHRyaWJ1dGUlMjglMjdtb3JhMjAxMGElMjclMkMlMjAlMjdjbHVzdGVyX2lkJTI3JTJDJTIwJTI3NDQ5Njc3NTY3MTY1NjExNTYzNyUyNyUyOSUzQiUwQXNldF9hdHRyaWJ1dGUlMjglMjdtb3JhMjAxMGElMjclMkMlMjAlMjdzY2hvbGFyJTI3JTJDJTIwJTI3aHR0cCUzQS8vc2Nob2xhci5nb29nbGUuY29tL3NjaG9sYXIlM0ZjaXRlcyUzRDQ0OTY3NzU2NzE2NTYxMTU2MzclMjZhc19zZHQlM0QyMDA1JTI2c2Npb2R0JTNEMCUyQzUlMjZobCUzRGVuJTI3JTI5JTNC\")));\n",
       "    "
      ],
      "text/plain": [
       "<IPython.core.display.Javascript object>"
      ]
     },
     "metadata": {},
     "output_type": "display_data"
    },
    {
     "data": {
      "application/javascript": [
       "$('span:contains(\"# Temp\")').closest('.cell').remove();"
      ],
      "text/plain": [
       "<IPython.core.display.Javascript object>"
      ]
     },
     "metadata": {},
     "output_type": "display_data"
    },
    {
     "data": {
      "application/javascript": [
       "\n",
       "        $('span:contains(\"# Temp\")').closest('.cell').remove();\n",
       "        var code = IPython.notebook.insert_cell_below('code');\n",
       "        code.set_text(decodeURIComponent(window.atob(\"JTIzJTIwVGVtcCUwQWluc2VydCUyOCUyNyUyNyUyNyUwQURCJTI4Q2l0YXRpb24lMjglMEElMjAlMjAlMjAlMjBoYW1yaTIwMTVhJTJDJTIwbGlhbzIwMDVhJTJDJTIwcmVmJTNEJTIyJTIyJTJDJTBBJTIwJTIwJTIwJTIwY29udGV4dHMlM0QlNUIlMEElMEElMjAlMjAlMjAlMjAlNUQlMkMlMEElMjklMjklMEElMEElMjclMjclMjclMkMlMjBjaXRhdGlvbnMlM0QlMjdsaWFvMjAwNWElMjclMjklM0I=\")));\n",
       "    "
      ],
      "text/plain": [
       "<IPython.core.display.Javascript object>"
      ]
     },
     "metadata": {},
     "output_type": "display_data"
    },
    {
     "data": {
      "application/javascript": [
       "$('span:contains(\"# Temp\")').closest('.cell').remove();"
      ],
      "text/plain": [
       "<IPython.core.display.Javascript object>"
      ]
     },
     "metadata": {},
     "output_type": "display_data"
    },
    {
     "data": {
      "application/javascript": [
       "\n",
       "        $('span:contains(\"# Temp\")').closest('.cell').remove();\n",
       "        var code = IPython.notebook.insert_cell_below('code');\n",
       "        code.set_text(decodeURIComponent(window.atob(\"JTIzJTIwVGVtcCUwQWluc2VydCUyOCUyNyUyNyUyNyUwQURCJTI4Q2l0YXRpb24lMjglMEElMjAlMjAlMjAlMjBoYW1yaTIwMTVhJTJDJTIwbGlhbzIwMDVhJTJDJTIwcmVmJTNEJTIyJTIyJTJDJTBBJTIwJTIwJTIwJTIwY29udGV4dHMlM0QlNUIlMEElMEElMjAlMjAlMjAlMjAlNUQlMkMlMEElMjklMjklMEElMEElMjclMjclMjclMkMlMjBjaXRhdGlvbnMlM0QlMjdsaWFvMjAwNWElMjclMjklM0I=\")));\n",
       "    "
      ],
      "text/plain": [
       "<IPython.core.display.Javascript object>"
      ]
     },
     "metadata": {},
     "output_type": "display_data"
    },
    {
     "data": {
      "application/javascript": [
       "$('span:contains(\"# Temp\")').closest('.cell').remove();"
      ],
      "text/plain": [
       "<IPython.core.display.Javascript object>"
      ]
     },
     "metadata": {},
     "output_type": "display_data"
    },
    {
     "data": {
      "application/javascript": [
       "\n",
       "        $('span:contains(\"# Temp\")').closest('.cell').remove();\n",
       "        var code = IPython.notebook.insert_cell_below('code');\n",
       "        code.set_text(decodeURIComponent(window.atob(\"JTIzJTIwVGVtcCUwQWluc2VydCUyOCUyNyUyNyUyNyUwQWFvdXNzYXQyMDEyYiUyMCUzRCUyMERCJTI4V29ya1VucmVsYXRlZCUyOCUwQSUyMCUyMCUyMCUyMDIwMTIlMkMlMjAlMjJBJTIwRG9tYWluJTIwT250b2xvZ3klMjBmb3IlMjBTb2Z0d2FyZSUyMFByb2Nlc3MlMjBBcmNoaXRlY3R1cmUlMjBEZXNjcmlwdGlvbiUyMiUyQyUwQSUyMCUyMCUyMCUyMGRpc3BsYXklM0QlMjJhb3Vzc2F0JTIwYiUyMiUyQyUwQSUyMCUyMCUyMCUyMGF1dGhvcnMlM0QlMjJBb3Vzc2F0JTJDJTIwRmFkaWxhJTIwYW5kJTIwT3Vzc2FsYWglMkMlMjBNb3VyYWQlMjBDaGFiYW5lJTIwYW5kJTIwQWhtZWQtTmFjZXIlMkMlMjBNb2hhbWVkJTIyJTJDJTBBJTIwJTIwJTIwJTIwcGxhY2UlM0RGQUtFJTJDJTBBJTIwJTIwJTIwJTIwZW50cnl0eXBlJTNEJTIyaW5wcm9jZWVkaW5ncyUyMiUyQyUwQSUyMCUyMCUyMCUyMElEJTNEJTIyYW91c3NhdDIwMTJkb21haW4lMjIlMkMlMEElMjAlMjAlMjAlMjBjbHVzdGVyX2lkJTNEJTIyOTI1MjYzMjQzOTI3NzM1NDAzMyUyMiUyQyUwQSUyMCUyMCUyMCUyMHNjaG9sYXIlM0QlMjJodHRwJTNBLy9zY2hvbGFyLmdvb2dsZS5jb20vc2Nob2xhciUzRmNpdGVzJTNEOTI1MjYzMjQzOTI3NzM1NDAzMyUyNmFzX3NkdCUzRDIwMDUlMjZzY2lvZHQlM0QwJTJDNSUyNmhsJTNEZW4lMjIlMkMlMEElMjAlMjAlMjAlMjBwbGFjZXglM0QlMjI3dGglMjBJbnRlcm5hdGlvbmFsJTIwQ29uZmVyZW5jZSUyMG9uJTIwRXZhbHVhdGlvbiUyMG9mJTIwTm92ZWwlMjBTb2Z0d2FyZSUyMEFwcHJvYWNoZXMlMjB0byUyMFNvZnR3YXJlJTIwRW5naW5lZXJpbmclMjIlMkMlMEElMjklMjklMEElMEFEQiUyOENpdGF0aW9uJTI4JTBBJTIwJTIwJTIwJTIwYW91c3NhdDIwMTJiJTJDJTIwbGlhbzIwMDVhJTJDJTIwcmVmJTNEJTIyJTIyJTJDJTBBJTIwJTIwJTIwJTIwY29udGV4dHMlM0QlNUIlMEElMEElMjAlMjAlMjAlMjAlNUQlMkMlMEElMjklMjklMEElMEElMjclMjclMjclMkMlMjBjaXRhdGlvbnMlM0QlMjdsaWFvMjAwNWElMjclMjklM0I=\")));\n",
       "    "
      ],
      "text/plain": [
       "<IPython.core.display.Javascript object>"
      ]
     },
     "metadata": {},
     "output_type": "display_data"
    },
    {
     "data": {
      "application/javascript": [
       "$('span:contains(\"# Temp\")').closest('.cell').remove();"
      ],
      "text/plain": [
       "<IPython.core.display.Javascript object>"
      ]
     },
     "metadata": {},
     "output_type": "display_data"
    },
    {
     "data": {
      "application/javascript": [
       "\n",
       "        $('span:contains(\"# Temp\")').closest('.cell').remove();\n",
       "        var code = IPython.notebook.insert_cell_below('code');\n",
       "        code.set_text(decodeURIComponent(window.atob(\"JTIzJTIwVGVtcCUwQWluc2VydCUyOCUyNyUyNyUyNyUwQWFvdXNzYXQyMDEyYiUyMCUzRCUyMERCJTI4V29ya1VucmVsYXRlZCUyOCUwQSUyMCUyMCUyMCUyMDIwMTIlMkMlMjAlMjJBJTIwRG9tYWluJTIwT250b2xvZ3klMjBmb3IlMjBTb2Z0d2FyZSUyMFByb2Nlc3MlMjBBcmNoaXRlY3R1cmUlMjBEZXNjcmlwdGlvbiUyMiUyQyUwQSUyMCUyMCUyMCUyMGRpc3BsYXklM0QlMjJhb3Vzc2F0JTIwYiUyMiUyQyUwQSUyMCUyMCUyMCUyMGF1dGhvcnMlM0QlMjJBb3Vzc2F0JTJDJTIwRmFkaWxhJTIwYW5kJTIwT3Vzc2FsYWglMkMlMjBNb3VyYWQlMjBDaGFiYW5lJTIwYW5kJTIwQWhtZWQtTmFjZXIlMkMlMjBNb2hhbWVkJTIyJTJDJTBBJTIwJTIwJTIwJTIwcGxhY2UlM0RGQUtFJTJDJTBBJTIwJTIwJTIwJTIwZW50cnl0eXBlJTNEJTIyaW5wcm9jZWVkaW5ncyUyMiUyQyUwQSUyMCUyMCUyMCUyMElEJTNEJTIyYW91c3NhdDIwMTJkb21haW4lMjIlMkMlMEElMjAlMjAlMjAlMjBjbHVzdGVyX2lkJTNEJTIyOTI1MjYzMjQzOTI3NzM1NDAzMyUyMiUyQyUwQSUyMCUyMCUyMCUyMHNjaG9sYXIlM0QlMjJodHRwJTNBLy9zY2hvbGFyLmdvb2dsZS5jb20vc2Nob2xhciUzRmNpdGVzJTNEOTI1MjYzMjQzOTI3NzM1NDAzMyUyNmFzX3NkdCUzRDIwMDUlMjZzY2lvZHQlM0QwJTJDNSUyNmhsJTNEZW4lMjIlMkMlMEElMjAlMjAlMjAlMjBwbGFjZXglM0QlMjI3dGglMjBJbnRlcm5hdGlvbmFsJTIwQ29uZmVyZW5jZSUyMG9uJTIwRXZhbHVhdGlvbiUyMG9mJTIwTm92ZWwlMjBTb2Z0d2FyZSUyMEFwcHJvYWNoZXMlMjB0byUyMFNvZnR3YXJlJTIwRW5naW5lZXJpbmclMjIlMkMlMEElMjklMjklMEElMEFEQiUyOENpdGF0aW9uJTI4JTBBJTIwJTIwJTIwJTIwYW91c3NhdDIwMTJiJTJDJTIwbGlhbzIwMDVhJTJDJTIwcmVmJTNEJTIyJTIyJTJDJTBBJTIwJTIwJTIwJTIwY29udGV4dHMlM0QlNUIlMEElMEElMjAlMjAlMjAlMjAlNUQlMkMlMEElMjklMjklMEElMEElMjclMjclMjclMkMlMjBjaXRhdGlvbnMlM0QlMjdsaWFvMjAwNWElMjclMjklM0I=\")));\n",
       "    "
      ],
      "text/plain": [
       "<IPython.core.display.Javascript object>"
      ]
     },
     "metadata": {},
     "output_type": "display_data"
    },
    {
     "data": {
      "application/javascript": [
       "$('span:contains(\"# Temp\")').closest('.cell').remove();"
      ],
      "text/plain": [
       "<IPython.core.display.Javascript object>"
      ]
     },
     "metadata": {},
     "output_type": "display_data"
    },
    {
     "data": {
      "application/javascript": [
       "\n",
       "        $('span:contains(\"# Temp\")').closest('.cell').remove();\n",
       "        var code = IPython.notebook.insert_cell_below('code');\n",
       "        code.set_text(decodeURIComponent(window.atob(\"JTIzJTIwVGVtcCUwQWluc2VydCUyOCUyNyUyNyUyNyUwQWplbmVyczIwMTJjJTIwJTNEJTIwREIlMjhXb3JrVW5yZWxhdGVkJTI4JTBBJTIwJTIwJTIwJTIwMjAxMiUyQyUyMCUyMk1ldHJpYyUyMGJhc2VkJTIwY29tcGFyaXNvbiUyMG9mJTIwcmVmZXJlbmNlJTIwbW9kZWxzJTIwYmFzZWQlMjBvbiUyMHNpbWlsYXJpdHklMjIlMkMlMEElMjAlMjAlMjAlMjBkaXNwbGF5JTNEJTIyamVuZXJzJTIwYyUyMiUyQyUwQSUyMCUyMCUyMCUyMGF1dGhvcnMlM0QlMjJKZW5lcnMlMkMlMjBTaW1vbmElMjBhbmQlMjBMaWNodGVyJTJDJTIwSG9yc3QlMjBhbmQlMjBQeWF0a292YSUyQyUyMEVsZW5hJTIyJTJDJTBBJTIwJTIwJTIwJTIwcGxhY2UlM0RGQUtFJTJDJTBBJTIwJTIwJTIwJTIwcHAlM0QlMjI1MCUyMiUyQyUwQSUyMCUyMCUyMCUyMGVudHJ5dHlwZSUzRCUyMmFydGljbGUlMjIlMkMlMEElMjAlMjAlMjAlMjB2b2x1bWUlM0QlMjI2JTIyJTJDJTBBJTIwJTIwJTIwJTIwbnVtYmVyJTNEJTIyMjElMjIlMkMlMEElMjAlMjAlMjAlMjBwdWJsaXNoZXIlM0QlMjJBZHZhbmNlZCUyMEluc3RpdHV0ZXMlMjBvZiUyMENvbnZlcmdlbmNlJTIwSW5mb3JtYXRpb24lMjBUZWNobm9sb2d5JTIyJTJDJTBBJTIwJTIwJTIwJTIwSUQlM0QlMjJqZW5lcnMyMDEybWV0cmljJTIyJTJDJTBBJTIwJTIwJTIwJTIwY2x1c3Rlcl9pZCUzRCUyMjE3NDQ2NjI3MTYyMjEwNjEzMTA2JTIyJTJDJTBBJTIwJTIwJTIwJTIwc2Nob2xhciUzRCUyMmh0dHAlM0EvL3NjaG9sYXIuZ29vZ2xlLmNvbS9zY2hvbGFyJTNGY2l0ZXMlM0QxNzQ0NjYyNzE2MjIxMDYxMzEwNiUyNmFzX3NkdCUzRDIwMDUlMjZzY2lvZHQlM0QwJTJDNSUyNmhsJTNEZW4lMjIlMkMlMEElMjAlMjAlMjAlMjBwbGFjZXglM0QlMjJJbnRlcm5hdGlvbmFsJTIwSm91cm5hbCUyMG9mJTIwRGlnaXRhbCUyMENvbnRlbnQlMjBUZWNobm9sb2d5JTIwYW5kJTIwaXRzJTIwQXBwbGljYXRpb25zJTIyJTJDJTBBJTI5JTI5JTBBJTBBREIlMjhDaXRhdGlvbiUyOCUwQSUyMCUyMCUyMCUyMGplbmVyczIwMTJjJTJDJTIwbGlhbzIwMDVhJTJDJTIwcmVmJTNEJTIyJTIyJTJDJTBBJTIwJTIwJTIwJTIwY29udGV4dHMlM0QlNUIlMEElMEElMjAlMjAlMjAlMjAlNUQlMkMlMEElMjklMjklMEElMEElMjclMjclMjclMkMlMjBjaXRhdGlvbnMlM0QlMjdsaWFvMjAwNWElMjclMjklM0I=\")));\n",
       "    "
      ],
      "text/plain": [
       "<IPython.core.display.Javascript object>"
      ]
     },
     "metadata": {},
     "output_type": "display_data"
    },
    {
     "data": {
      "application/javascript": [
       "$('span:contains(\"# Temp\")').closest('.cell').remove();"
      ],
      "text/plain": [
       "<IPython.core.display.Javascript object>"
      ]
     },
     "metadata": {},
     "output_type": "display_data"
    },
    {
     "data": {
      "application/javascript": [
       "\n",
       "        $('span:contains(\"# Temp\")').closest('.cell').remove();\n",
       "        var code = IPython.notebook.insert_cell_below('code');\n",
       "        code.set_text(decodeURIComponent(window.atob(\"JTIzJTIwVGVtcCUwQWluc2VydCUyOCUyNyUyNyUyNyUwQWplbmVyczIwMTJjJTIwJTNEJTIwREIlMjhXb3JrVW5yZWxhdGVkJTI4JTBBJTIwJTIwJTIwJTIwMjAxMiUyQyUyMCUyMk1ldHJpYyUyMGJhc2VkJTIwY29tcGFyaXNvbiUyMG9mJTIwcmVmZXJlbmNlJTIwbW9kZWxzJTIwYmFzZWQlMjBvbiUyMHNpbWlsYXJpdHklMjIlMkMlMEElMjAlMjAlMjAlMjBkaXNwbGF5JTNEJTIyamVuZXJzJTIwYyUyMiUyQyUwQSUyMCUyMCUyMCUyMGF1dGhvcnMlM0QlMjJKZW5lcnMlMkMlMjBTaW1vbmElMjBhbmQlMjBMaWNodGVyJTJDJTIwSG9yc3QlMjBhbmQlMjBQeWF0a292YSUyQyUyMEVsZW5hJTIyJTJDJTBBJTIwJTIwJTIwJTIwcGxhY2UlM0RGQUtFJTJDJTBBJTIwJTIwJTIwJTIwcHAlM0QlMjI1MCUyMiUyQyUwQSUyMCUyMCUyMCUyMGVudHJ5dHlwZSUzRCUyMmFydGljbGUlMjIlMkMlMEElMjAlMjAlMjAlMjB2b2x1bWUlM0QlMjI2JTIyJTJDJTBBJTIwJTIwJTIwJTIwbnVtYmVyJTNEJTIyMjElMjIlMkMlMEElMjAlMjAlMjAlMjBwdWJsaXNoZXIlM0QlMjJBZHZhbmNlZCUyMEluc3RpdHV0ZXMlMjBvZiUyMENvbnZlcmdlbmNlJTIwSW5mb3JtYXRpb24lMjBUZWNobm9sb2d5JTIyJTJDJTBBJTIwJTIwJTIwJTIwSUQlM0QlMjJqZW5lcnMyMDEybWV0cmljJTIyJTJDJTBBJTIwJTIwJTIwJTIwY2x1c3Rlcl9pZCUzRCUyMjE3NDQ2NjI3MTYyMjEwNjEzMTA2JTIyJTJDJTBBJTIwJTIwJTIwJTIwc2Nob2xhciUzRCUyMmh0dHAlM0EvL3NjaG9sYXIuZ29vZ2xlLmNvbS9zY2hvbGFyJTNGY2l0ZXMlM0QxNzQ0NjYyNzE2MjIxMDYxMzEwNiUyNmFzX3NkdCUzRDIwMDUlMjZzY2lvZHQlM0QwJTJDNSUyNmhsJTNEZW4lMjIlMkMlMEElMjAlMjAlMjAlMjBwbGFjZXglM0QlMjJJbnRlcm5hdGlvbmFsJTIwSm91cm5hbCUyMG9mJTIwRGlnaXRhbCUyMENvbnRlbnQlMjBUZWNobm9sb2d5JTIwYW5kJTIwaXRzJTIwQXBwbGljYXRpb25zJTIyJTJDJTBBJTI5JTI5JTBBJTBBREIlMjhDaXRhdGlvbiUyOCUwQSUyMCUyMCUyMCUyMGplbmVyczIwMTJjJTJDJTIwbGlhbzIwMDVhJTJDJTIwcmVmJTNEJTIyJTIyJTJDJTBBJTIwJTIwJTIwJTIwY29udGV4dHMlM0QlNUIlMEElMEElMjAlMjAlMjAlMjAlNUQlMkMlMEElMjklMjklMEElMEElMjclMjclMjclMkMlMjBjaXRhdGlvbnMlM0QlMjdsaWFvMjAwNWElMjclMjklM0I=\")));\n",
       "    "
      ],
      "text/plain": [
       "<IPython.core.display.Javascript object>"
      ]
     },
     "metadata": {},
     "output_type": "display_data"
    },
    {
     "data": {
      "application/javascript": [
       "$('span:contains(\"# Temp\")').closest('.cell').remove();"
      ],
      "text/plain": [
       "<IPython.core.display.Javascript object>"
      ]
     },
     "metadata": {},
     "output_type": "display_data"
    },
    {
     "data": {
      "application/javascript": [
       "\n",
       "        $('span:contains(\"# Temp\")').closest('.cell').remove();\n",
       "        var code = IPython.notebook.insert_cell_below('code');\n",
       "        code.set_text(decodeURIComponent(window.atob(\"JTIzJTIwVGVtcCUwQWluc2VydCUyOCUyNyUyNyUyNyUwQWRlbWlyc295MjAxM2ElMjAlM0QlMjBEQiUyOFdvcmtVbnJlbGF0ZWQlMjglMEElMjAlMjAlMjAlMjAyMDEzJTJDJTIwJTIyVXNpbmclMjBTZW1hbnRpYyUyMEtub3dsZWRnZSUyME1hbmFnZW1lbnQlMjBTeXN0ZW1zJTIwdG8lMjBPdmVyY29tZSUyMEluZm9ybWF0aW9uJTIwT3ZlcmxvYWQlMjBQcm9ibGVtcyUyMGluJTIwU29mdHdhcmUlMjBFbmdpbmVlcmluZyUyMiUyQyUwQSUyMCUyMCUyMCUyMGRpc3BsYXklM0QlMjJkZW1pcnNveSUyMiUyQyUwQSUyMCUyMCUyMCUyMGF1dGhvcnMlM0QlMjJEZW1pcnNveSUyQyUyMEFsaSUyMiUyQyUwQSUyMCUyMCUyMCUyMHBsYWNlJTNERkFLRSUyQyUwQSUyMCUyMCUyMCUyMGVudHJ5dHlwZSUzRCUyMm1pc2MlMjIlMkMlMEElMjAlMjAlMjAlMjBJRCUzRCUyMmRlbWlyc295MjAxM3VzaW5nJTIyJTJDJTBBJTIwJTIwJTIwJTIwY2x1c3Rlcl9pZCUzRCUyMjExMjI3NzI3MTEwMjE3MTMzMTA2JTIyJTJDJTBBJTIwJTIwJTIwJTIwc2Nob2xhciUzRCUyMmh0dHAlM0EvL3NjaG9sYXIuZ29vZ2xlLmNvbS9zY2hvbGFyJTNGY2l0ZXMlM0QxMTIyNzcyNzExMDIxNzEzMzEwNiUyNmFzX3NkdCUzRDIwMDUlMjZzY2lvZHQlM0QwJTJDNSUyNmhsJTNEZW4lMjIlMkMlMEElMjAlMjAlMjAlMjBwbGFjZXglM0QlMjIlMjIlMkMlMEElMjklMjklMEElMEFEQiUyOENpdGF0aW9uJTI4JTBBJTIwJTIwJTIwJTIwZGVtaXJzb3kyMDEzYSUyQyUyMGxpYW8yMDA1YSUyQyUyMHJlZiUzRCUyMiUyMiUyQyUwQSUyMCUyMCUyMCUyMGNvbnRleHRzJTNEJTVCJTBBJTBBJTIwJTIwJTIwJTIwJTVEJTJDJTBBJTI5JTI5JTBBJTBBJTI3JTI3JTI3JTJDJTIwY2l0YXRpb25zJTNEJTI3bGlhbzIwMDVhJTI3JTI5JTNC\")));\n",
       "    "
      ],
      "text/plain": [
       "<IPython.core.display.Javascript object>"
      ]
     },
     "metadata": {},
     "output_type": "display_data"
    },
    {
     "data": {
      "application/javascript": [
       "$('span:contains(\"# Temp\")').closest('.cell').remove();"
      ],
      "text/plain": [
       "<IPython.core.display.Javascript object>"
      ]
     },
     "metadata": {},
     "output_type": "display_data"
    },
    {
     "data": {
      "application/javascript": [
       "\n",
       "        $('span:contains(\"# Temp\")').closest('.cell').remove();\n",
       "        var code = IPython.notebook.insert_cell_below('code');\n",
       "        code.set_text(decodeURIComponent(window.atob(\"JTIzJTIwVGVtcCUwQWluc2VydCUyOCUyNyUyNyUyNyUwQWRlbWlyc295MjAxM2ElMjAlM0QlMjBEQiUyOFdvcmtVbnJlbGF0ZWQlMjglMEElMjAlMjAlMjAlMjAyMDEzJTJDJTIwJTIyVXNpbmclMjBTZW1hbnRpYyUyMEtub3dsZWRnZSUyME1hbmFnZW1lbnQlMjBTeXN0ZW1zJTIwdG8lMjBPdmVyY29tZSUyMEluZm9ybWF0aW9uJTIwT3ZlcmxvYWQlMjBQcm9ibGVtcyUyMGluJTIwU29mdHdhcmUlMjBFbmdpbmVlcmluZyUyMiUyQyUwQSUyMCUyMCUyMCUyMGRpc3BsYXklM0QlMjJkZW1pcnNveSUyMiUyQyUwQSUyMCUyMCUyMCUyMGF1dGhvcnMlM0QlMjJEZW1pcnNveSUyQyUyMEFsaSUyMiUyQyUwQSUyMCUyMCUyMCUyMHBsYWNlJTNERkFLRSUyQyUwQSUyMCUyMCUyMCUyMGVudHJ5dHlwZSUzRCUyMm1pc2MlMjIlMkMlMEElMjAlMjAlMjAlMjBJRCUzRCUyMmRlbWlyc295MjAxM3VzaW5nJTIyJTJDJTBBJTIwJTIwJTIwJTIwY2x1c3Rlcl9pZCUzRCUyMjExMjI3NzI3MTEwMjE3MTMzMTA2JTIyJTJDJTBBJTIwJTIwJTIwJTIwc2Nob2xhciUzRCUyMmh0dHAlM0EvL3NjaG9sYXIuZ29vZ2xlLmNvbS9zY2hvbGFyJTNGY2l0ZXMlM0QxMTIyNzcyNzExMDIxNzEzMzEwNiUyNmFzX3NkdCUzRDIwMDUlMjZzY2lvZHQlM0QwJTJDNSUyNmhsJTNEZW4lMjIlMkMlMEElMjAlMjAlMjAlMjBwbGFjZXglM0QlMjIlMjIlMkMlMEElMjklMjklMEElMEFEQiUyOENpdGF0aW9uJTI4JTBBJTIwJTIwJTIwJTIwZGVtaXJzb3kyMDEzYSUyQyUyMGxpYW8yMDA1YSUyQyUyMHJlZiUzRCUyMiUyMiUyQyUwQSUyMCUyMCUyMCUyMGNvbnRleHRzJTNEJTVCJTBBJTBBJTIwJTIwJTIwJTIwJTVEJTJDJTBBJTI5JTI5JTBBJTBBJTI3JTI3JTI3JTJDJTIwY2l0YXRpb25zJTNEJTI3bGlhbzIwMDVhJTI3JTI5JTNC\")));\n",
       "    "
      ],
      "text/plain": [
       "<IPython.core.display.Javascript object>"
      ]
     },
     "metadata": {},
     "output_type": "display_data"
    },
    {
     "data": {
      "application/javascript": [
       "$('span:contains(\"# Temp\")').closest('.cell').remove();"
      ],
      "text/plain": [
       "<IPython.core.display.Javascript object>"
      ]
     },
     "metadata": {},
     "output_type": "display_data"
    },
    {
     "data": {
      "application/javascript": [
       "\n",
       "        $('span:contains(\"# Temp\")').closest('.cell').remove();\n",
       "        var code = IPython.notebook.insert_cell_below('code');\n",
       "        code.set_text(decodeURIComponent(window.atob(\"JTIzJTIwVGVtcCUwQWluc2VydCUyOCUyNyUyNyUyNyUwQURCJTI4Q2l0YXRpb24lMjglMEElMjAlMjAlMjAlMjBtb3JhMjAxM2ElMkMlMjBsaWFvMjAwNWElMkMlMjByZWYlM0QlMjIlMjIlMkMlMEElMjAlMjAlMjAlMjBjb250ZXh0cyUzRCU1QiUwQSUwQSUyMCUyMCUyMCUyMCU1RCUyQyUwQSUyOSUyOSUwQSUwQSUyNyUyNyUyNyUyQyUyMGNpdGF0aW9ucyUzRCUyN2xpYW8yMDA1YSUyNyUyOSUzQg==\")));\n",
       "    "
      ],
      "text/plain": [
       "<IPython.core.display.Javascript object>"
      ]
     },
     "metadata": {},
     "output_type": "display_data"
    },
    {
     "data": {
      "application/javascript": [
       "$('span:contains(\"# Temp\")').closest('.cell').remove();"
      ],
      "text/plain": [
       "<IPython.core.display.Javascript object>"
      ]
     },
     "metadata": {},
     "output_type": "display_data"
    },
    {
     "data": {
      "application/javascript": [
       "\n",
       "        $('span:contains(\"# Temp\")').closest('.cell').remove();\n",
       "        var code = IPython.notebook.insert_cell_below('code');\n",
       "        code.set_text(decodeURIComponent(window.atob(\"JTIzJTIwVGVtcCUwQWluc2VydCUyOCUyNyUyNyUyNyUwQURCJTI4Q2l0YXRpb24lMjglMEElMjAlMjAlMjAlMjBtb3JhMjAxM2ElMkMlMjBsaWFvMjAwNWElMkMlMjByZWYlM0QlMjIlMjIlMkMlMEElMjAlMjAlMjAlMjBjb250ZXh0cyUzRCU1QiUwQSUwQSUyMCUyMCUyMCUyMCU1RCUyQyUwQSUyOSUyOSUwQSUwQSUyNyUyNyUyNyUyQyUyMGNpdGF0aW9ucyUzRCUyN2xpYW8yMDA1YSUyNyUyOSUzQg==\")));\n",
       "    "
      ],
      "text/plain": [
       "<IPython.core.display.Javascript object>"
      ]
     },
     "metadata": {},
     "output_type": "display_data"
    },
    {
     "data": {
      "application/javascript": [
       "$('span:contains(\"# Temp\")').closest('.cell').remove();"
      ],
      "text/plain": [
       "<IPython.core.display.Javascript object>"
      ]
     },
     "metadata": {},
     "output_type": "display_data"
    },
    {
     "data": {
      "application/javascript": [
       "\n",
       "        $('span:contains(\"# Temp\")').closest('.cell').remove();\n",
       "        var code = IPython.notebook.insert_cell_below('code');\n",
       "        code.set_text(decodeURIComponent(window.atob(\"JTIzJTIwVGVtcCUwQWluc2VydCUyOCUyNyUyNyUyNyUwQURCJTI4Q2l0YXRpb24lMjglMEElMjAlMjAlMjAlMjB0YXJoYW4yMDE3YSUyQyUyMGxpYW8yMDA1YSUyQyUyMHJlZiUzRCUyMiUyMiUyQyUwQSUyMCUyMCUyMCUyMGNvbnRleHRzJTNEJTVCJTBBJTBBJTIwJTIwJTIwJTIwJTVEJTJDJTBBJTI5JTI5JTBBJTBBJTI3JTI3JTI3JTJDJTIwY2l0YXRpb25zJTNEJTI3bGlhbzIwMDVhJTI3JTI5JTNC\")));\n",
       "    "
      ],
      "text/plain": [
       "<IPython.core.display.Javascript object>"
      ]
     },
     "metadata": {},
     "output_type": "display_data"
    },
    {
     "data": {
      "application/javascript": [
       "$('span:contains(\"# Temp\")').closest('.cell').remove();"
      ],
      "text/plain": [
       "<IPython.core.display.Javascript object>"
      ]
     },
     "metadata": {},
     "output_type": "display_data"
    },
    {
     "data": {
      "application/javascript": [
       "\n",
       "        $('span:contains(\"# Temp\")').closest('.cell').remove();\n",
       "        var code = IPython.notebook.insert_cell_below('code');\n",
       "        code.set_text(decodeURIComponent(window.atob(\"JTIzJTIwVGVtcCUwQWluc2VydCUyOCUyNyUyNyUyNyUwQURCJTI4Q2l0YXRpb24lMjglMEElMjAlMjAlMjAlMjB0YXJoYW4yMDE3YSUyQyUyMGxpYW8yMDA1YSUyQyUyMHJlZiUzRCUyMiUyMiUyQyUwQSUyMCUyMCUyMCUyMGNvbnRleHRzJTNEJTVCJTBBJTBBJTIwJTIwJTIwJTIwJTVEJTJDJTBBJTI5JTI5JTBBJTBBJTI3JTI3JTI3JTJDJTIwY2l0YXRpb25zJTNEJTI3bGlhbzIwMDVhJTI3JTI5JTNC\")));\n",
       "    "
      ],
      "text/plain": [
       "<IPython.core.display.Javascript object>"
      ]
     },
     "metadata": {},
     "output_type": "display_data"
    },
    {
     "data": {
      "application/javascript": [
       "$('span:contains(\"# Temp\")').closest('.cell').remove();"
      ],
      "text/plain": [
       "<IPython.core.display.Javascript object>"
      ]
     },
     "metadata": {},
     "output_type": "display_data"
    },
    {
     "data": {
      "application/javascript": [
       "\n",
       "        $('span:contains(\"# Temp\")').closest('.cell').remove();\n",
       "        var code = IPython.notebook.insert_cell_below('code');\n",
       "        code.set_text(decodeURIComponent(window.atob(\"JTIzJTIwVGVtcCUwQWluc2VydCUyOCUyNyUyNyUyNyUwQURCJTI4Q2l0YXRpb24lMjglMEElMjAlMjAlMjAlMjBjb2xvbW8yMDA4YiUyQyUyMGxpYW8yMDA1YSUyQyUyMHJlZiUzRCUyMiUyMiUyQyUwQSUyMCUyMCUyMCUyMGNvbnRleHRzJTNEJTVCJTBBJTBBJTIwJTIwJTIwJTIwJTVEJTJDJTBBJTI5JTI5JTBBJTBBJTI3JTI3JTI3JTJDJTIwY2l0YXRpb25zJTNEJTI3bGlhbzIwMDVhJTI3JTI5JTNCJTBBc2V0X2F0dHJpYnV0ZSUyOCUyN2NvbG9tbzIwMDhiJTI3JTJDJTIwJTI3Y2x1c3Rlcl9pZCUyNyUyQyUyMCUyNzE2Njc3NDQwMjgyNzYxNTc0NDc5JTI3JTI5JTNCJTBBc2V0X2F0dHJpYnV0ZSUyOCUyN2NvbG9tbzIwMDhiJTI3JTJDJTIwJTI3c2Nob2xhciUyNyUyQyUyMCUyN2h0dHAlM0EvL3NjaG9sYXIuZ29vZ2xlLmNvbS9zY2hvbGFyJTNGY2l0ZXMlM0QxNjY3NzQ0MDI4Mjc2MTU3NDQ3OSUyNmFzX3NkdCUzRDIwMDUlMjZzY2lvZHQlM0QwJTJDNSUyNmhsJTNEZW4lMjclMjklM0I=\")));\n",
       "    "
      ],
      "text/plain": [
       "<IPython.core.display.Javascript object>"
      ]
     },
     "metadata": {},
     "output_type": "display_data"
    },
    {
     "data": {
      "application/javascript": [
       "$('span:contains(\"# Temp\")').closest('.cell').remove();"
      ],
      "text/plain": [
       "<IPython.core.display.Javascript object>"
      ]
     },
     "metadata": {},
     "output_type": "display_data"
    },
    {
     "data": {
      "application/javascript": [
       "\n",
       "        $('span:contains(\"# Temp\")').closest('.cell').remove();\n",
       "        var code = IPython.notebook.insert_cell_below('code');\n",
       "        code.set_text(decodeURIComponent(window.atob(\"JTIzJTIwVGVtcCUwQWluc2VydCUyOCUyNyUyNyUyNyUwQURCJTI4Q2l0YXRpb24lMjglMEElMjAlMjAlMjAlMjBjb2xvbW8yMDA4YiUyQyUyMGxpYW8yMDA1YSUyQyUyMHJlZiUzRCUyMiUyMiUyQyUwQSUyMCUyMCUyMCUyMGNvbnRleHRzJTNEJTVCJTBBJTBBJTIwJTIwJTIwJTIwJTVEJTJDJTBBJTI5JTI5JTBBJTBBJTI3JTI3JTI3JTJDJTIwY2l0YXRpb25zJTNEJTI3bGlhbzIwMDVhJTI3JTI5JTNCJTBBc2V0X2F0dHJpYnV0ZSUyOCUyN2NvbG9tbzIwMDhiJTI3JTJDJTIwJTI3Y2x1c3Rlcl9pZCUyNyUyQyUyMCUyNzE2Njc3NDQwMjgyNzYxNTc0NDc5JTI3JTI5JTNCJTBBc2V0X2F0dHJpYnV0ZSUyOCUyN2NvbG9tbzIwMDhiJTI3JTJDJTIwJTI3c2Nob2xhciUyNyUyQyUyMCUyN2h0dHAlM0EvL3NjaG9sYXIuZ29vZ2xlLmNvbS9zY2hvbGFyJTNGY2l0ZXMlM0QxNjY3NzQ0MDI4Mjc2MTU3NDQ3OSUyNmFzX3NkdCUzRDIwMDUlMjZzY2lvZHQlM0QwJTJDNSUyNmhsJTNEZW4lMjclMjklM0I=\")));\n",
       "    "
      ],
      "text/plain": [
       "<IPython.core.display.Javascript object>"
      ]
     },
     "metadata": {},
     "output_type": "display_data"
    },
    {
     "data": {
      "application/javascript": [
       "$('span:contains(\"# Temp\")').closest('.cell').remove();"
      ],
      "text/plain": [
       "<IPython.core.display.Javascript object>"
      ]
     },
     "metadata": {},
     "output_type": "display_data"
    },
    {
     "data": {
      "application/javascript": [
       "\n",
       "        $('span:contains(\"# Temp\")').closest('.cell').remove();\n",
       "        var code = IPython.notebook.insert_cell_below('code');\n",
       "        code.set_text(decodeURIComponent(window.atob(\"JTIzJTIwVGVtcCUwQWluc2VydCUyOCUyNyUyNyUyNyUwQXBhcmRvMGElMjAlM0QlMjBEQiUyOFdvcmtVbnJlbGF0ZWQlMjglMEElMjAlMjAlMjAlMjAwJTJDJTIwJTIyQSUyMHJlZmVyZW5jZSUyMG9udG9sb2d5JTIwZm9yJTIwaGFybW9uaXppbmclMjBwcm9jZXNzLXJlZmVyZW5jZSUyMG1vZGVscyUyMFVuYSUyMG9udG9sb2clQzMlQURhJTIwZGUlMjByZWZlcmVuY2lhJTIwcGFyYSUyMGxhJTIwYXJtb25pemFjaSVDMyVCM24lMjBkZSUyMG1vZGVsb3MlMjBkZSUyMHJlZmVyZW5jaWElMjBkZSUyMHByb2Nlc29zJTIyJTJDJTBBJTIwJTIwJTIwJTIwZGlzcGxheSUzRCUyMnBhcmRvJTIyJTJDJTBBJTIwJTIwJTIwJTIwYXV0aG9ycyUzRCUyMlBhcmRvLUNhbHZhY2hlJTJDJTIwQyVDMyVBOXNhciUyMEplcyVDMyVCQXMlMjBhbmQlMjBHYXJjJUMzJUFEYS1SdWJpbyUyQyUyMEYlQzMlQTlsaXglMjBPc2NhciUyMGFuZCUyMFBpYXR0aW5pLVZlbHRodWlzJTJDJTIwTWFyaW8lMjBhbmQlMjBQaW5vLUNvcnJlYSUyQyUyMEZyYW5jaXNjbyUyMEpvcyVDMyVBOSUyMGFuZCUyMEJhbGRhc3NhcnJlJTJDJTIwTWFyJUMzJUFEYSUyMFRlcmVzYSUyMiUyQyUwQSUyMCUyMCUyMCUyMHBsYWNlJTNERkFLRSUyQyUwQSUyMCUyMCUyMCUyMGVudHJ5dHlwZSUzRCUyMmFydGljbGUlMjIlMkMlMEElMjAlMjAlMjAlMjBJRCUzRCUyMnBhcmRvcmVmZXJlbmNlJTIyJTJDJTBBJTIwJTIwJTIwJTIwY2x1c3Rlcl9pZCUzRCUyMjgxNTU4Nzg2ODAwOTY0NjQyMDIlMjIlMkMlMEElMjAlMjAlMjAlMjBzY2hvbGFyJTNEJTIyaHR0cCUzQS8vc2Nob2xhci5nb29nbGUuY29tL3NjaG9sYXIlM0ZjaXRlcyUzRDgxNTU4Nzg2ODAwOTY0NjQyMDIlMjZhc19zZHQlM0QyMDA1JTI2c2Npb2R0JTNEMCUyQzUlMjZobCUzRGVuJTIyJTJDJTBBJTIwJTIwJTIwJTIwcGxhY2V4JTNEJTIyJTIyJTJDJTBBJTI5JTI5JTBBJTBBREIlMjhDaXRhdGlvbiUyOCUwQSUyMCUyMCUyMCUyMHBhcmRvMGElMkMlMjBsaWFvMjAwNWElMkMlMjByZWYlM0QlMjIlMjIlMkMlMEElMjAlMjAlMjAlMjBjb250ZXh0cyUzRCU1QiUwQSUwQSUyMCUyMCUyMCUyMCU1RCUyQyUwQSUyOSUyOSUwQSUwQSUyNyUyNyUyNyUyQyUyMGNpdGF0aW9ucyUzRCUyN2xpYW8yMDA1YSUyNyUyOSUzQg==\")));\n",
       "    "
      ],
      "text/plain": [
       "<IPython.core.display.Javascript object>"
      ]
     },
     "metadata": {},
     "output_type": "display_data"
    },
    {
     "data": {
      "application/javascript": [
       "$('span:contains(\"# Temp\")').closest('.cell').remove();"
      ],
      "text/plain": [
       "<IPython.core.display.Javascript object>"
      ]
     },
     "metadata": {},
     "output_type": "display_data"
    },
    {
     "data": {
      "application/javascript": [
       "\n",
       "        $('span:contains(\"# Temp\")').closest('.cell').remove();\n",
       "        var code = IPython.notebook.insert_cell_below('code');\n",
       "        code.set_text(decodeURIComponent(window.atob(\"JTIzJTIwVGVtcCUwQWluc2VydCUyOCUyNyUyNyUyNyUwQXBhcmRvMGElMjAlM0QlMjBEQiUyOFdvcmtVbnJlbGF0ZWQlMjglMEElMjAlMjAlMjAlMjAwJTJDJTIwJTIyQSUyMHJlZmVyZW5jZSUyMG9udG9sb2d5JTIwZm9yJTIwaGFybW9uaXppbmclMjBwcm9jZXNzLXJlZmVyZW5jZSUyMG1vZGVscyUyMFVuYSUyMG9udG9sb2clQzMlQURhJTIwZGUlMjByZWZlcmVuY2lhJTIwcGFyYSUyMGxhJTIwYXJtb25pemFjaSVDMyVCM24lMjBkZSUyMG1vZGVsb3MlMjBkZSUyMHJlZmVyZW5jaWElMjBkZSUyMHByb2Nlc29zJTIyJTJDJTBBJTIwJTIwJTIwJTIwZGlzcGxheSUzRCUyMnBhcmRvJTIyJTJDJTBBJTIwJTIwJTIwJTIwYXV0aG9ycyUzRCUyMlBhcmRvLUNhbHZhY2hlJTJDJTIwQyVDMyVBOXNhciUyMEplcyVDMyVCQXMlMjBhbmQlMjBHYXJjJUMzJUFEYS1SdWJpbyUyQyUyMEYlQzMlQTlsaXglMjBPc2NhciUyMGFuZCUyMFBpYXR0aW5pLVZlbHRodWlzJTJDJTIwTWFyaW8lMjBhbmQlMjBQaW5vLUNvcnJlYSUyQyUyMEZyYW5jaXNjbyUyMEpvcyVDMyVBOSUyMGFuZCUyMEJhbGRhc3NhcnJlJTJDJTIwTWFyJUMzJUFEYSUyMFRlcmVzYSUyMiUyQyUwQSUyMCUyMCUyMCUyMHBsYWNlJTNERkFLRSUyQyUwQSUyMCUyMCUyMCUyMGVudHJ5dHlwZSUzRCUyMmFydGljbGUlMjIlMkMlMEElMjAlMjAlMjAlMjBJRCUzRCUyMnBhcmRvcmVmZXJlbmNlJTIyJTJDJTBBJTIwJTIwJTIwJTIwY2x1c3Rlcl9pZCUzRCUyMjgxNTU4Nzg2ODAwOTY0NjQyMDIlMjIlMkMlMEElMjAlMjAlMjAlMjBzY2hvbGFyJTNEJTIyaHR0cCUzQS8vc2Nob2xhci5nb29nbGUuY29tL3NjaG9sYXIlM0ZjaXRlcyUzRDgxNTU4Nzg2ODAwOTY0NjQyMDIlMjZhc19zZHQlM0QyMDA1JTI2c2Npb2R0JTNEMCUyQzUlMjZobCUzRGVuJTIyJTJDJTBBJTIwJTIwJTIwJTIwcGxhY2V4JTNEJTIyJTIyJTJDJTBBJTI5JTI5JTBBJTBBREIlMjhDaXRhdGlvbiUyOCUwQSUyMCUyMCUyMCUyMHBhcmRvMGElMkMlMjBsaWFvMjAwNWElMkMlMjByZWYlM0QlMjIlMjIlMkMlMEElMjAlMjAlMjAlMjBjb250ZXh0cyUzRCU1QiUwQSUwQSUyMCUyMCUyMCUyMCU1RCUyQyUwQSUyOSUyOSUwQSUwQSUyNyUyNyUyNyUyQyUyMGNpdGF0aW9ucyUzRCUyN2xpYW8yMDA1YSUyNyUyOSUzQg==\")));\n",
       "    "
      ],
      "text/plain": [
       "<IPython.core.display.Javascript object>"
      ]
     },
     "metadata": {},
     "output_type": "display_data"
    },
    {
     "data": {
      "application/javascript": [
       "$('span:contains(\"# Temp\")').closest('.cell').remove();"
      ],
      "text/plain": [
       "<IPython.core.display.Javascript object>"
      ]
     },
     "metadata": {},
     "output_type": "display_data"
    },
    {
     "data": {
      "application/javascript": [
       "\n",
       "        $('span:contains(\"# Temp\")').closest('.cell').remove();\n",
       "        var code = IPython.notebook.insert_cell_below('code');\n",
       "        code.set_text(decodeURIComponent(window.atob(\"JTIzJTIwVGVtcCUwQWluc2VydCUyOCUyNyUyNyUyNyUwQXNvdXphMjAxMmElMjAlM0QlMjBEQiUyOFdvcmtVbnJlbGF0ZWQlMjglMEElMjAlMjAlMjAlMjAyMDEyJTJDJTIwJTIySW5mZXJyaW5nJTIwYWN0aXZpdGllcyUyMG9mJTIwYW4lMjBhY3RvciUyMGJ5JTIwbWVhbnMlMjBvZiUyMGNvbnRleHQlMjBvbnRvbG9naWVzJTIyJTJDJTBBJTIwJTIwJTIwJTIwZGlzcGxheSUzRCUyMnNvdXphJTIyJTJDJTBBJTIwJTIwJTIwJTIwYXV0aG9ycyUzRCUyMmRlJTIwU291emElMkMlMjBKb3NpdmFuJTIwUGVyZWlyYSUyMGFuZCUyMEx1Z28lMkMlMjBHdXN0YXZvJTIwQWxiZXJ0byUyMEdpbSVDMyVBOW5leiUyMGFuZCUyMFRhY2xhJTJDJTIwQ2VzYXIlMjBBdWd1c3RvJTIyJTJDJTBBJTIwJTIwJTIwJTIwcGxhY2UlM0RGQUtFJTJDJTBBJTIwJTIwJTIwJTIwcHAlM0QlMjIxLS0xMCUyMiUyQyUwQSUyMCUyMCUyMCUyMGVudHJ5dHlwZSUzRCUyMmlucHJvY2VlZGluZ3MlMjIlMkMlMEElMjAlMjAlMjAlMjBvcmdhbml6YXRpb24lM0QlMjJJRUVFJTIyJTJDJTBBJTIwJTIwJTIwJTIwSUQlM0QlMjJkZTIwMTJpbmZlcnJpbmclMjIlMkMlMEElMjAlMjAlMjAlMjBjbHVzdGVyX2lkJTNEJTIyNzI5MDkxMDA0NTU5MTg0NjI1MiUyMiUyQyUwQSUyMCUyMCUyMCUyMHNjaG9sYXIlM0QlMjJodHRwJTNBLy9zY2hvbGFyLmdvb2dsZS5jb20vc2Nob2xhciUzRmNpdGVzJTNENzI5MDkxMDA0NTU5MTg0NjI1MiUyNmFzX3NkdCUzRDIwMDUlMjZzY2lvZHQlM0QwJTJDNSUyNmhsJTNEZW4lMjIlMkMlMEElMjAlMjAlMjAlMjBwbGFjZXglM0QlMjJJbmZvcm1hdGljYSUyMCUyOENMRUklMjklMkMlMjAyMDEyJTIwWFhYVklJSSUyMENvbmZlcmVuY2lhJTIwTGF0aW5vYW1lcmljYW5hJTIwRW4lMjIlMkMlMEElMjklMjklMEElMEFEQiUyOENpdGF0aW9uJTI4JTBBJTIwJTIwJTIwJTIwc291emEyMDEyYSUyQyUyMGxpYW8yMDA1YSUyQyUyMHJlZiUzRCUyMiUyMiUyQyUwQSUyMCUyMCUyMCUyMGNvbnRleHRzJTNEJTVCJTBBJTBBJTIwJTIwJTIwJTIwJTVEJTJDJTBBJTI5JTI5JTBBJTBBJTI3JTI3JTI3JTJDJTIwY2l0YXRpb25zJTNEJTI3bGlhbzIwMDVhJTI3JTI5JTNC\")));\n",
       "    "
      ],
      "text/plain": [
       "<IPython.core.display.Javascript object>"
      ]
     },
     "metadata": {},
     "output_type": "display_data"
    },
    {
     "data": {
      "application/javascript": [
       "$('span:contains(\"# Temp\")').closest('.cell').remove();"
      ],
      "text/plain": [
       "<IPython.core.display.Javascript object>"
      ]
     },
     "metadata": {},
     "output_type": "display_data"
    },
    {
     "data": {
      "application/javascript": [
       "\n",
       "        $('span:contains(\"# Temp\")').closest('.cell').remove();\n",
       "        var code = IPython.notebook.insert_cell_below('code');\n",
       "        code.set_text(decodeURIComponent(window.atob(\"JTIzJTIwVGVtcCUwQWluc2VydCUyOCUyNyUyNyUyNyUwQXNvdXphMjAxMmElMjAlM0QlMjBEQiUyOFdvcmtVbnJlbGF0ZWQlMjglMEElMjAlMjAlMjAlMjAyMDEyJTJDJTIwJTIySW5mZXJyaW5nJTIwYWN0aXZpdGllcyUyMG9mJTIwYW4lMjBhY3RvciUyMGJ5JTIwbWVhbnMlMjBvZiUyMGNvbnRleHQlMjBvbnRvbG9naWVzJTIyJTJDJTBBJTIwJTIwJTIwJTIwZGlzcGxheSUzRCUyMnNvdXphJTIyJTJDJTBBJTIwJTIwJTIwJTIwYXV0aG9ycyUzRCUyMmRlJTIwU291emElMkMlMjBKb3NpdmFuJTIwUGVyZWlyYSUyMGFuZCUyMEx1Z28lMkMlMjBHdXN0YXZvJTIwQWxiZXJ0byUyMEdpbSVDMyVBOW5leiUyMGFuZCUyMFRhY2xhJTJDJTIwQ2VzYXIlMjBBdWd1c3RvJTIyJTJDJTBBJTIwJTIwJTIwJTIwcGxhY2UlM0RGQUtFJTJDJTBBJTIwJTIwJTIwJTIwcHAlM0QlMjIxLS0xMCUyMiUyQyUwQSUyMCUyMCUyMCUyMGVudHJ5dHlwZSUzRCUyMmlucHJvY2VlZGluZ3MlMjIlMkMlMEElMjAlMjAlMjAlMjBvcmdhbml6YXRpb24lM0QlMjJJRUVFJTIyJTJDJTBBJTIwJTIwJTIwJTIwSUQlM0QlMjJkZTIwMTJpbmZlcnJpbmclMjIlMkMlMEElMjAlMjAlMjAlMjBjbHVzdGVyX2lkJTNEJTIyNzI5MDkxMDA0NTU5MTg0NjI1MiUyMiUyQyUwQSUyMCUyMCUyMCUyMHNjaG9sYXIlM0QlMjJodHRwJTNBLy9zY2hvbGFyLmdvb2dsZS5jb20vc2Nob2xhciUzRmNpdGVzJTNENzI5MDkxMDA0NTU5MTg0NjI1MiUyNmFzX3NkdCUzRDIwMDUlMjZzY2lvZHQlM0QwJTJDNSUyNmhsJTNEZW4lMjIlMkMlMEElMjAlMjAlMjAlMjBwbGFjZXglM0QlMjJJbmZvcm1hdGljYSUyMCUyOENMRUklMjklMkMlMjAyMDEyJTIwWFhYVklJSSUyMENvbmZlcmVuY2lhJTIwTGF0aW5vYW1lcmljYW5hJTIwRW4lMjIlMkMlMEElMjklMjklMEElMEFEQiUyOENpdGF0aW9uJTI4JTBBJTIwJTIwJTIwJTIwc291emEyMDEyYSUyQyUyMGxpYW8yMDA1YSUyQyUyMHJlZiUzRCUyMiUyMiUyQyUwQSUyMCUyMCUyMCUyMGNvbnRleHRzJTNEJTVCJTBBJTBBJTIwJTIwJTIwJTIwJTVEJTJDJTBBJTI5JTI5JTBBJTBBJTI3JTI3JTI3JTJDJTIwY2l0YXRpb25zJTNEJTI3bGlhbzIwMDVhJTI3JTI5JTNC\")));\n",
       "    "
      ],
      "text/plain": [
       "<IPython.core.display.Javascript object>"
      ]
     },
     "metadata": {},
     "output_type": "display_data"
    },
    {
     "data": {
      "application/javascript": [
       "$('span:contains(\"# Temp\")').closest('.cell').remove();"
      ],
      "text/plain": [
       "<IPython.core.display.Javascript object>"
      ]
     },
     "metadata": {},
     "output_type": "display_data"
    },
    {
     "data": {
      "application/javascript": [
       "\n",
       "        $('span:contains(\"# Temp\")').closest('.cell').remove();\n",
       "        var code = IPython.notebook.insert_cell_below('code');\n",
       "        code.set_text(decodeURIComponent(window.atob(\"JTIzJTIwVGVtcCUwQWluc2VydCUyOCUyNyUyNyUyNyUwQXB5c2hraW4yMDE1YSUyMCUzRCUyMERCJTI4V29ya1VucmVsYXRlZCUyOCUwQSUyMCUyMCUyMCUyMDIwMTUlMkMlMjAlMjJVbmRlcnN0YW5kaW5nJTIwc29mdHdhcmUlMjBwcm92aXNpb25pbmclM0ElMjBBbiUyMG9udG9sb2dpY2FsJTIwdmlldyUyMiUyQyUwQSUyMCUyMCUyMCUyMGRpc3BsYXklM0QlMjJweXNoa2luJTIyJTJDJTBBJTIwJTIwJTIwJTIwYXV0aG9ycyUzRCUyMlB5c2hraW4lMkMlMjBFdmdlbnklMjBhbmQlMjBLdXpuZXRzb3YlMkMlMjBBbmRyZXklMjBhbmQlMjBLbHl1ZXYlMkMlMjBWaXRhbHklMjIlMkMlMEElMjAlMjAlMjAlMjBwbGFjZSUzREZBS0UlMkMlMEElMjAlMjAlMjAlMjBwcCUzRCUyMjg0LS0xMTElMjIlMkMlMEElMjAlMjAlMjAlMjBlbnRyeXR5cGUlM0QlMjJpbnByb2NlZWRpbmdzJTIyJTJDJTBBJTIwJTIwJTIwJTIwb3JnYW5pemF0aW9uJTNEJTIyU3ByaW5nZXIlMjIlMkMlMEElMjAlMjAlMjAlMjBJRCUzRCUyMnB5c2hraW4yMDE1dW5kZXJzdGFuZGluZyUyMiUyQyUwQSUyMCUyMCUyMCUyMGNsdXN0ZXJfaWQlM0QlMjIxMjI4MzgyOTg0Njg2NTEyMzI3MSUyMiUyQyUwQSUyMCUyMCUyMCUyMHNjaG9sYXIlM0QlMjJodHRwJTNBLy9zY2hvbGFyLmdvb2dsZS5jb20vc2Nob2xhciUzRmNpdGVzJTNEMTIyODM4Mjk4NDY4NjUxMjMyNzElMjZhc19zZHQlM0QyMDA1JTI2c2Npb2R0JTNEMCUyQzUlMjZobCUzRGVuJTIyJTJDJTBBJTIwJTIwJTIwJTIwcGxhY2V4JTNEJTIySW50ZXJuYXRpb25hbCUyMFdvcmtzaG9wJTIwb24lMjBEYXRhYmFzZXMlMjBpbiUyME5ldHdvcmtlZCUyMEluZm9ybWF0aW9uJTIwU3lzdGVtcyUyMiUyQyUwQSUyOSUyOSUwQSUwQURCJTI4Q2l0YXRpb24lMjglMEElMjAlMjAlMjAlMjBweXNoa2luMjAxNWElMkMlMjBsaWFvMjAwNWElMkMlMjByZWYlM0QlMjIlMjIlMkMlMEElMjAlMjAlMjAlMjBjb250ZXh0cyUzRCU1QiUwQSUwQSUyMCUyMCUyMCUyMCU1RCUyQyUwQSUyOSUyOSUwQSUwQSUyNyUyNyUyNyUyQyUyMGNpdGF0aW9ucyUzRCUyN2xpYW8yMDA1YSUyNyUyOSUzQg==\")));\n",
       "    "
      ],
      "text/plain": [
       "<IPython.core.display.Javascript object>"
      ]
     },
     "metadata": {},
     "output_type": "display_data"
    },
    {
     "data": {
      "application/javascript": [
       "$('span:contains(\"# Temp\")').closest('.cell').remove();"
      ],
      "text/plain": [
       "<IPython.core.display.Javascript object>"
      ]
     },
     "metadata": {},
     "output_type": "display_data"
    },
    {
     "data": {
      "application/javascript": [
       "\n",
       "        $('span:contains(\"# Temp\")').closest('.cell').remove();\n",
       "        var code = IPython.notebook.insert_cell_below('code');\n",
       "        code.set_text(decodeURIComponent(window.atob(\"JTIzJTIwVGVtcCUwQWluc2VydCUyOCUyNyUyNyUyNyUwQXB5c2hraW4yMDE1YSUyMCUzRCUyMERCJTI4V29ya1VucmVsYXRlZCUyOCUwQSUyMCUyMCUyMCUyMDIwMTUlMkMlMjAlMjJVbmRlcnN0YW5kaW5nJTIwc29mdHdhcmUlMjBwcm92aXNpb25pbmclM0ElMjBBbiUyMG9udG9sb2dpY2FsJTIwdmlldyUyMiUyQyUwQSUyMCUyMCUyMCUyMGRpc3BsYXklM0QlMjJweXNoa2luJTIyJTJDJTBBJTIwJTIwJTIwJTIwYXV0aG9ycyUzRCUyMlB5c2hraW4lMkMlMjBFdmdlbnklMjBhbmQlMjBLdXpuZXRzb3YlMkMlMjBBbmRyZXklMjBhbmQlMjBLbHl1ZXYlMkMlMjBWaXRhbHklMjIlMkMlMEElMjAlMjAlMjAlMjBwbGFjZSUzREZBS0UlMkMlMEElMjAlMjAlMjAlMjBwcCUzRCUyMjg0LS0xMTElMjIlMkMlMEElMjAlMjAlMjAlMjBlbnRyeXR5cGUlM0QlMjJpbnByb2NlZWRpbmdzJTIyJTJDJTBBJTIwJTIwJTIwJTIwb3JnYW5pemF0aW9uJTNEJTIyU3ByaW5nZXIlMjIlMkMlMEElMjAlMjAlMjAlMjBJRCUzRCUyMnB5c2hraW4yMDE1dW5kZXJzdGFuZGluZyUyMiUyQyUwQSUyMCUyMCUyMCUyMGNsdXN0ZXJfaWQlM0QlMjIxMjI4MzgyOTg0Njg2NTEyMzI3MSUyMiUyQyUwQSUyMCUyMCUyMCUyMHNjaG9sYXIlM0QlMjJodHRwJTNBLy9zY2hvbGFyLmdvb2dsZS5jb20vc2Nob2xhciUzRmNpdGVzJTNEMTIyODM4Mjk4NDY4NjUxMjMyNzElMjZhc19zZHQlM0QyMDA1JTI2c2Npb2R0JTNEMCUyQzUlMjZobCUzRGVuJTIyJTJDJTBBJTIwJTIwJTIwJTIwcGxhY2V4JTNEJTIySW50ZXJuYXRpb25hbCUyMFdvcmtzaG9wJTIwb24lMjBEYXRhYmFzZXMlMjBpbiUyME5ldHdvcmtlZCUyMEluZm9ybWF0aW9uJTIwU3lzdGVtcyUyMiUyQyUwQSUyOSUyOSUwQSUwQURCJTI4Q2l0YXRpb24lMjglMEElMjAlMjAlMjAlMjBweXNoa2luMjAxNWElMkMlMjBsaWFvMjAwNWElMkMlMjByZWYlM0QlMjIlMjIlMkMlMEElMjAlMjAlMjAlMjBjb250ZXh0cyUzRCU1QiUwQSUwQSUyMCUyMCUyMCUyMCU1RCUyQyUwQSUyOSUyOSUwQSUwQSUyNyUyNyUyNyUyQyUyMGNpdGF0aW9ucyUzRCUyN2xpYW8yMDA1YSUyNyUyOSUzQg==\")));\n",
       "    "
      ],
      "text/plain": [
       "<IPython.core.display.Javascript object>"
      ]
     },
     "metadata": {},
     "output_type": "display_data"
    },
    {
     "data": {
      "application/javascript": [
       "$('span:contains(\"# Temp\")').closest('.cell').remove();"
      ],
      "text/plain": [
       "<IPython.core.display.Javascript object>"
      ]
     },
     "metadata": {},
     "output_type": "display_data"
    },
    {
     "data": {
      "application/javascript": [
       "\n",
       "        $('span:contains(\"# Temp\")').closest('.cell').remove();\n",
       "        var code = IPython.notebook.insert_cell_below('code');\n",
       "        code.set_text(decodeURIComponent(window.atob(\"JTIzJTIwVGVtcCUwQWluc2VydCUyOCUyNyUyNyUyNyUwQWtsdXRoMjAxM2ElMjAlM0QlMjBEQiUyOFdvcmtVbnJlbGF0ZWQlMjglMEElMjAlMjAlMjAlMjAyMDEzJTJDJTIwJTIyU2VtYW50aXNjaGVzJTIwQmVuY2htYXJraW5nJTIwdm9uJTIwR2VzY2glQzMlQTRmdHNwcm96ZXNzZW4lM0ElMjBLb256ZXB0aW9uJTJDJTIwRXZhbHVhdGlvbiUyMHVuZCUyMEFud2VuZHVuZ3Nwb3RlbnppYWxlJTIyJTJDJTBBJTIwJTIwJTIwJTIwZGlzcGxheSUzRCUyMmtsdXRoJTIyJTJDJTBBJTIwJTIwJTIwJTIwYXV0aG9ycyUzRCUyMktsdXRoJTJDJTIwTWFydGluJTIyJTJDJTBBJTIwJTIwJTIwJTIwcGxhY2UlM0RCb29rJTJDJTBBJTIwJTIwJTIwJTIwZW50cnl0eXBlJTNEJTIyYm9vayUyMiUyQyUwQSUyMCUyMCUyMCUyMHB1Ymxpc2hlciUzRCUyMkJvRC0tQm9va3MlMjBvbiUyMERlbWFuZCUyMiUyQyUwQSUyMCUyMCUyMCUyMElEJTNEJTIya2x1dGgyMDEzc2VtYW50aXNjaGVzJTIyJTJDJTBBJTIwJTIwJTIwJTIwY2x1c3Rlcl9pZCUzRCUyMjE3MjUxMTc4NDQwNTYxMTIzMDg3JTIyJTJDJTBBJTIwJTIwJTIwJTIwc2Nob2xhciUzRCUyMmh0dHAlM0EvL3NjaG9sYXIuZ29vZ2xlLmNvbS9zY2hvbGFyJTNGY2l0ZXMlM0QxNzI1MTE3ODQ0MDU2MTEyMzA4NyUyNmFzX3NkdCUzRDIwMDUlMjZzY2lvZHQlM0QwJTJDNSUyNmhsJTNEZW4lMjIlMkMlMEElMjAlMjAlMjAlMjBwbGFjZXglM0QlMjIlMjIlMkMlMEElMjklMjklMEElMEFEQiUyOENpdGF0aW9uJTI4JTBBJTIwJTIwJTIwJTIwa2x1dGgyMDEzYSUyQyUyMGxpYW8yMDA1YSUyQyUyMHJlZiUzRCUyMiUyMiUyQyUwQSUyMCUyMCUyMCUyMGNvbnRleHRzJTNEJTVCJTBBJTBBJTIwJTIwJTIwJTIwJTVEJTJDJTBBJTI5JTI5JTBBJTBBJTI3JTI3JTI3JTJDJTIwY2l0YXRpb25zJTNEJTI3bGlhbzIwMDVhJTI3JTI5JTNC\")));\n",
       "    "
      ],
      "text/plain": [
       "<IPython.core.display.Javascript object>"
      ]
     },
     "metadata": {},
     "output_type": "display_data"
    },
    {
     "data": {
      "application/javascript": [
       "$('span:contains(\"# Temp\")').closest('.cell').remove();"
      ],
      "text/plain": [
       "<IPython.core.display.Javascript object>"
      ]
     },
     "metadata": {},
     "output_type": "display_data"
    },
    {
     "data": {
      "application/javascript": [
       "\n",
       "        $('span:contains(\"# Temp\")').closest('.cell').remove();\n",
       "        var code = IPython.notebook.insert_cell_below('code');\n",
       "        code.set_text(decodeURIComponent(window.atob(\"JTIzJTIwVGVtcCUwQWluc2VydCUyOCUyNyUyNyUyNyUwQWtsdXRoMjAxM2ElMjAlM0QlMjBEQiUyOFdvcmtVbnJlbGF0ZWQlMjglMEElMjAlMjAlMjAlMjAyMDEzJTJDJTIwJTIyU2VtYW50aXNjaGVzJTIwQmVuY2htYXJraW5nJTIwdm9uJTIwR2VzY2glQzMlQTRmdHNwcm96ZXNzZW4lM0ElMjBLb256ZXB0aW9uJTJDJTIwRXZhbHVhdGlvbiUyMHVuZCUyMEFud2VuZHVuZ3Nwb3RlbnppYWxlJTIyJTJDJTBBJTIwJTIwJTIwJTIwZGlzcGxheSUzRCUyMmtsdXRoJTIyJTJDJTBBJTIwJTIwJTIwJTIwYXV0aG9ycyUzRCUyMktsdXRoJTJDJTIwTWFydGluJTIyJTJDJTBBJTIwJTIwJTIwJTIwcGxhY2UlM0RCb29rJTJDJTBBJTIwJTIwJTIwJTIwZW50cnl0eXBlJTNEJTIyYm9vayUyMiUyQyUwQSUyMCUyMCUyMCUyMHB1Ymxpc2hlciUzRCUyMkJvRC0tQm9va3MlMjBvbiUyMERlbWFuZCUyMiUyQyUwQSUyMCUyMCUyMCUyMElEJTNEJTIya2x1dGgyMDEzc2VtYW50aXNjaGVzJTIyJTJDJTBBJTIwJTIwJTIwJTIwY2x1c3Rlcl9pZCUzRCUyMjE3MjUxMTc4NDQwNTYxMTIzMDg3JTIyJTJDJTBBJTIwJTIwJTIwJTIwc2Nob2xhciUzRCUyMmh0dHAlM0EvL3NjaG9sYXIuZ29vZ2xlLmNvbS9zY2hvbGFyJTNGY2l0ZXMlM0QxNzI1MTE3ODQ0MDU2MTEyMzA4NyUyNmFzX3NkdCUzRDIwMDUlMjZzY2lvZHQlM0QwJTJDNSUyNmhsJTNEZW4lMjIlMkMlMEElMjAlMjAlMjAlMjBwbGFjZXglM0QlMjIlMjIlMkMlMEElMjklMjklMEElMEFEQiUyOENpdGF0aW9uJTI4JTBBJTIwJTIwJTIwJTIwa2x1dGgyMDEzYSUyQyUyMGxpYW8yMDA1YSUyQyUyMHJlZiUzRCUyMiUyMiUyQyUwQSUyMCUyMCUyMCUyMGNvbnRleHRzJTNEJTVCJTBBJTBBJTIwJTIwJTIwJTIwJTVEJTJDJTBBJTI5JTI5JTBBJTBBJTI3JTI3JTI3JTJDJTIwY2l0YXRpb25zJTNEJTI3bGlhbzIwMDVhJTI3JTI5JTNC\")));\n",
       "    "
      ],
      "text/plain": [
       "<IPython.core.display.Javascript object>"
      ]
     },
     "metadata": {},
     "output_type": "display_data"
    },
    {
     "data": {
      "application/javascript": [
       "$('span:contains(\"# Temp\")').closest('.cell').remove();"
      ],
      "text/plain": [
       "<IPython.core.display.Javascript object>"
      ]
     },
     "metadata": {},
     "output_type": "display_data"
    },
    {
     "data": {
      "application/javascript": [
       "\n",
       "        $('span:contains(\"# Temp\")').closest('.cell').remove();\n",
       "        var code = IPython.notebook.insert_cell_below('code');\n",
       "        code.set_text(decodeURIComponent(window.atob(\"JTIzJTIwVGVtcCUwQWluc2VydCUyOCUyNyUyNyUyNyUwQWFobWFkMjAwOWElMjAlM0QlMjBEQiUyOFdvcmtVbnJlbGF0ZWQlMjglMEElMjAlMjAlMjAlMjAyMDA5JTJDJTIwJTIyVG93YXJkcyUyMGFuJTIwT250b2xvZ3klMjBmb3IlMjBSZXF1aXJlbWVudHMlMjBFbmdpbmVlcmluZyUyMFByb2Nlc3MlMjBpbiUyMEUtR292ZXJubWVudCUyMEFwcGxpY2F0aW9ucyUyMiUyQyUwQSUyMCUyMCUyMCUyMGRpc3BsYXklM0QlMjJhaG1hZCUyMiUyQyUwQSUyMCUyMCUyMCUyMGF1dGhvcnMlM0QlMjJBaG1hZCUyQyUyME1vaGFtbWFkJTIwTml6YXIlMjIlMkMlMEElMjAlMjAlMjAlMjBwbGFjZSUzRFRoZXNpcyUyQyUwQSUyMCUyMCUyMCUyMGVudHJ5dHlwZSUzRCUyMnBoZHRoZXNpcyUyMiUyQyUwQSUyMCUyMCUyMCUyMElEJTNEJTIyYWhtYWQyMDA5dG93YXJkcyUyMiUyQyUwQSUyMCUyMCUyMCUyMGxvY2FsJTNEJTIyRmFoYWQlMjBCaW4lMjBTdWx0YW4lMjBVbml2ZXJzaXR5JTIyJTJDJTBBJTIwJTIwJTIwJTIwcGxhY2V4JTNEJTIyJTIyJTJDJTBBJTI5JTI5JTBBJTBBREIlMjhDaXRhdGlvbiUyOCUwQSUyMCUyMCUyMCUyMGFobWFkMjAwOWElMkMlMjBsaWFvMjAwNWElMkMlMjByZWYlM0QlMjIlMjIlMkMlMEElMjAlMjAlMjAlMjBjb250ZXh0cyUzRCU1QiUwQSUwQSUyMCUyMCUyMCUyMCU1RCUyQyUwQSUyOSUyOSUwQSUwQSUyNyUyNyUyNyUyQyUyMGNpdGF0aW9ucyUzRCUyN2xpYW8yMDA1YSUyNyUyOSUzQg==\")));\n",
       "    "
      ],
      "text/plain": [
       "<IPython.core.display.Javascript object>"
      ]
     },
     "metadata": {},
     "output_type": "display_data"
    },
    {
     "data": {
      "application/javascript": [
       "$('span:contains(\"# Temp\")').closest('.cell').remove();"
      ],
      "text/plain": [
       "<IPython.core.display.Javascript object>"
      ]
     },
     "metadata": {},
     "output_type": "display_data"
    },
    {
     "data": {
      "application/javascript": [
       "\n",
       "        $('span:contains(\"# Temp\")').closest('.cell').remove();\n",
       "        var code = IPython.notebook.insert_cell_below('code');\n",
       "        code.set_text(decodeURIComponent(window.atob(\"JTIzJTIwVGVtcCUwQWluc2VydCUyOCUyNyUyNyUyNyUwQWFobWFkMjAwOWElMjAlM0QlMjBEQiUyOFdvcmtVbnJlbGF0ZWQlMjglMEElMjAlMjAlMjAlMjAyMDA5JTJDJTIwJTIyVG93YXJkcyUyMGFuJTIwT250b2xvZ3klMjBmb3IlMjBSZXF1aXJlbWVudHMlMjBFbmdpbmVlcmluZyUyMFByb2Nlc3MlMjBpbiUyMEUtR292ZXJubWVudCUyMEFwcGxpY2F0aW9ucyUyMiUyQyUwQSUyMCUyMCUyMCUyMGRpc3BsYXklM0QlMjJhaG1hZCUyMiUyQyUwQSUyMCUyMCUyMCUyMGF1dGhvcnMlM0QlMjJBaG1hZCUyQyUyME1vaGFtbWFkJTIwTml6YXIlMjIlMkMlMEElMjAlMjAlMjAlMjBwbGFjZSUzRFRoZXNpcyUyQyUwQSUyMCUyMCUyMCUyMGVudHJ5dHlwZSUzRCUyMnBoZHRoZXNpcyUyMiUyQyUwQSUyMCUyMCUyMCUyMElEJTNEJTIyYWhtYWQyMDA5dG93YXJkcyUyMiUyQyUwQSUyMCUyMCUyMCUyMGxvY2FsJTNEJTIyRmFoYWQlMjBCaW4lMjBTdWx0YW4lMjBVbml2ZXJzaXR5JTIyJTJDJTBBJTIwJTIwJTIwJTIwcGxhY2V4JTNEJTIyJTIyJTJDJTBBJTI5JTI5JTBBJTBBREIlMjhDaXRhdGlvbiUyOCUwQSUyMCUyMCUyMCUyMGFobWFkMjAwOWElMkMlMjBsaWFvMjAwNWElMkMlMjByZWYlM0QlMjIlMjIlMkMlMEElMjAlMjAlMjAlMjBjb250ZXh0cyUzRCU1QiUwQSUwQSUyMCUyMCUyMCUyMCU1RCUyQyUwQSUyOSUyOSUwQSUwQSUyNyUyNyUyNyUyQyUyMGNpdGF0aW9ucyUzRCUyN2xpYW8yMDA1YSUyNyUyOSUzQg==\")));\n",
       "    "
      ],
      "text/plain": [
       "<IPython.core.display.Javascript object>"
      ]
     },
     "metadata": {},
     "output_type": "display_data"
    },
    {
     "data": {
      "application/javascript": [
       "$('span:contains(\"# Temp\")').closest('.cell').remove();"
      ],
      "text/plain": [
       "<IPython.core.display.Javascript object>"
      ]
     },
     "metadata": {},
     "output_type": "display_data"
    },
    {
     "data": {
      "application/javascript": [
       "\n",
       "        $('span:contains(\"# Temp\")').closest('.cell').remove();\n",
       "        var code = IPython.notebook.insert_cell_below('code');\n",
       "        code.set_text(decodeURIComponent(window.atob(\"JTIzJTIwVGVtcCUwQWluc2VydCUyOCUyNyUyNyUyNyUwQWNvbG9tbzBhJTIwJTNEJTIwREIlMjhXb3JrVW5yZWxhdGVkJTI4JTBBJTIwJTIwJTIwJTIwMCUyQyUyMCUyMlNvY2lhbCUyMEdsb2JhbCUyMFJlcG9zaXRvcnklM0ElMjBTb2Z0d2FyZSUyMFByb2plY3QlMjBLbm93bGVkZ2UlMjBNYW5hZ2VtZW50JTIwdXNpbmclMjBTZW1hbnRpYyUyMEFubm90YXRpb24lMjBhbmQlMjBTb2NpYWwlMjBXZWIlMjIlMkMlMEElMjAlMjAlMjAlMjBkaXNwbGF5JTNEJTIyY29sb21vJTIyJTJDJTBBJTIwJTIwJTIwJTIwYXV0aG9ycyUzRCUyMkNvbG9tby1QYWxhY2lvcyUyQyUyMFJpY2FyZG8lMjBhbmQlMjBHJUMzJUIzbWV6LUJlcmIlQzMlQURzJTJDJTIwSnVhbiUyME1pZ3VlbCUyMGFuZCUyMEdhcmMlQzMlQURhLUNyZXNwbyUyQyUyMCVDMyU4MW5nZWwlMjBhbmQlMjBQdWVibGEtUyVDMyVBMW5jaGV6JTJDJTIwSW5tYWN1bGFkYSUyMiUyQyUwQSUyMCUyMCUyMCUyMHBsYWNlJTNERkFLRSUyQyUwQSUyMCUyMCUyMCUyMGVudHJ5dHlwZSUzRCUyMmFydGljbGUlMjIlMkMlMEElMjAlMjAlMjAlMjBJRCUzRCUyMmNvbG9tb3NvY2lhbCUyMiUyQyUwQSUyMCUyMCUyMCUyMHBsYWNleCUzRCUyMiUyMiUyQyUwQSUyOSUyOSUwQSUwQURCJTI4Q2l0YXRpb24lMjglMEElMjAlMjAlMjAlMjBjb2xvbW8wYSUyQyUyMGxpYW8yMDA1YSUyQyUyMHJlZiUzRCUyMiUyMiUyQyUwQSUyMCUyMCUyMCUyMGNvbnRleHRzJTNEJTVCJTBBJTBBJTIwJTIwJTIwJTIwJTVEJTJDJTBBJTI5JTI5JTBBJTBBJTI3JTI3JTI3JTJDJTIwY2l0YXRpb25zJTNEJTI3bGlhbzIwMDVhJTI3JTI5JTNC\")));\n",
       "    "
      ],
      "text/plain": [
       "<IPython.core.display.Javascript object>"
      ]
     },
     "metadata": {},
     "output_type": "display_data"
    },
    {
     "data": {
      "application/javascript": [
       "$('span:contains(\"# Temp\")').closest('.cell').remove();"
      ],
      "text/plain": [
       "<IPython.core.display.Javascript object>"
      ]
     },
     "metadata": {},
     "output_type": "display_data"
    },
    {
     "data": {
      "application/javascript": [
       "\n",
       "        $('span:contains(\"# Temp\")').closest('.cell').remove();\n",
       "        var code = IPython.notebook.insert_cell_below('code');\n",
       "        code.set_text(decodeURIComponent(window.atob(\"JTIzJTIwVGVtcCUwQWluc2VydCUyOCUyNyUyNyUyNyUwQWNvbG9tbzBhJTIwJTNEJTIwREIlMjhXb3JrVW5yZWxhdGVkJTI4JTBBJTIwJTIwJTIwJTIwMCUyQyUyMCUyMlNvY2lhbCUyMEdsb2JhbCUyMFJlcG9zaXRvcnklM0ElMjBTb2Z0d2FyZSUyMFByb2plY3QlMjBLbm93bGVkZ2UlMjBNYW5hZ2VtZW50JTIwdXNpbmclMjBTZW1hbnRpYyUyMEFubm90YXRpb24lMjBhbmQlMjBTb2NpYWwlMjBXZWIlMjIlMkMlMEElMjAlMjAlMjAlMjBkaXNwbGF5JTNEJTIyY29sb21vJTIyJTJDJTBBJTIwJTIwJTIwJTIwYXV0aG9ycyUzRCUyMkNvbG9tby1QYWxhY2lvcyUyQyUyMFJpY2FyZG8lMjBhbmQlMjBHJUMzJUIzbWV6LUJlcmIlQzMlQURzJTJDJTIwSnVhbiUyME1pZ3VlbCUyMGFuZCUyMEdhcmMlQzMlQURhLUNyZXNwbyUyQyUyMCVDMyU4MW5nZWwlMjBhbmQlMjBQdWVibGEtUyVDMyVBMW5jaGV6JTJDJTIwSW5tYWN1bGFkYSUyMiUyQyUwQSUyMCUyMCUyMCUyMHBsYWNlJTNERkFLRSUyQyUwQSUyMCUyMCUyMCUyMGVudHJ5dHlwZSUzRCUyMmFydGljbGUlMjIlMkMlMEElMjAlMjAlMjAlMjBJRCUzRCUyMmNvbG9tb3NvY2lhbCUyMiUyQyUwQSUyMCUyMCUyMCUyMHBsYWNleCUzRCUyMiUyMiUyQyUwQSUyOSUyOSUwQSUwQURCJTI4Q2l0YXRpb24lMjglMEElMjAlMjAlMjAlMjBjb2xvbW8wYSUyQyUyMGxpYW8yMDA1YSUyQyUyMHJlZiUzRCUyMiUyMiUyQyUwQSUyMCUyMCUyMCUyMGNvbnRleHRzJTNEJTVCJTBBJTBBJTIwJTIwJTIwJTIwJTVEJTJDJTBBJTI5JTI5JTBBJTBBJTI3JTI3JTI3JTJDJTIwY2l0YXRpb25zJTNEJTI3bGlhbzIwMDVhJTI3JTI5JTNC\")));\n",
       "    "
      ],
      "text/plain": [
       "<IPython.core.display.Javascript object>"
      ]
     },
     "metadata": {},
     "output_type": "display_data"
    },
    {
     "data": {
      "application/javascript": [
       "$('span:contains(\"# Temp\")').closest('.cell').remove();"
      ],
      "text/plain": [
       "<IPython.core.display.Javascript object>"
      ]
     },
     "metadata": {},
     "output_type": "display_data"
    },
    {
     "data": {
      "application/javascript": [
       "\n",
       "        $('span:contains(\"# Temp\")').closest('.cell').remove();\n",
       "        var code = IPython.notebook.insert_cell_below('code');\n",
       "        code.set_text(decodeURIComponent(window.atob(\"JTIzJTIwVGVtcCUwQWluc2VydCUyOCUyNyUyNyUyNyUwQURCJTI4Q2l0YXRpb24lMjglMEElMjAlMjAlMjAlMjByb29uZ3NhbmdqYW4yMDE3YSUyQyUyMGxpYW8yMDA1YSUyQyUyMHJlZiUzRCUyMiUyMiUyQyUwQSUyMCUyMCUyMCUyMGNvbnRleHRzJTNEJTVCJTBBJTBBJTIwJTIwJTIwJTIwJTVEJTJDJTBBJTI5JTI5JTBBJTBBJTI3JTI3JTI3JTJDJTIwY2l0YXRpb25zJTNEJTI3bGlhbzIwMDVhJTI3JTI5JTNC\")));\n",
       "    "
      ],
      "text/plain": [
       "<IPython.core.display.Javascript object>"
      ]
     },
     "metadata": {},
     "output_type": "display_data"
    },
    {
     "data": {
      "application/javascript": [
       "$('span:contains(\"# Temp\")').closest('.cell').remove();"
      ],
      "text/plain": [
       "<IPython.core.display.Javascript object>"
      ]
     },
     "metadata": {},
     "output_type": "display_data"
    },
    {
     "data": {
      "application/javascript": [
       "\n",
       "        $('span:contains(\"# Temp\")').closest('.cell').remove();\n",
       "        var code = IPython.notebook.insert_cell_below('code');\n",
       "        code.set_text(decodeURIComponent(window.atob(\"JTIzJTIwVGVtcCUwQWluc2VydCUyOCUyNyUyNyUyNyUwQURCJTI4Q2l0YXRpb24lMjglMEElMjAlMjAlMjAlMjByb29uZ3NhbmdqYW4yMDE3YSUyQyUyMGxpYW8yMDA1YSUyQyUyMHJlZiUzRCUyMiUyMiUyQyUwQSUyMCUyMCUyMCUyMGNvbnRleHRzJTNEJTVCJTBBJTBBJTIwJTIwJTIwJTIwJTVEJTJDJTBBJTI5JTI5JTBBJTBBJTI3JTI3JTI3JTJDJTIwY2l0YXRpb25zJTNEJTI3bGlhbzIwMDVhJTI3JTI5JTNC\")));\n",
       "    "
      ],
      "text/plain": [
       "<IPython.core.display.Javascript object>"
      ]
     },
     "metadata": {},
     "output_type": "display_data"
    },
    {
     "data": {
      "application/javascript": [
       "$('span:contains(\"# Temp\")').closest('.cell').remove();"
      ],
      "text/plain": [
       "<IPython.core.display.Javascript object>"
      ]
     },
     "metadata": {},
     "output_type": "display_data"
    },
    {
     "data": {
      "application/javascript": [
       "\n",
       "        $('span:contains(\"# Temp\")').closest('.cell').remove();\n",
       "        var code = IPython.notebook.insert_cell_below('code');\n",
       "        code.set_text(decodeURIComponent(window.atob(\"JTIzJTIwVGVtcCUwQWluc2VydCUyOCUyNyUyNyUyNyUwQWxvdXJpbmhvMjAxN2ElMjAlM0QlMjBEQiUyOFdvcmtVbnJlbGF0ZWQlMjglMEElMjAlMjAlMjAlMjAyMDE3JTJDJTIwJTIyTWFwcGluZyUyMG9mJTIwRW50ZXJwcmlzZSUyMEdvdmVybmFuY2UlMjBvZiUyMElUJTIwUHJhY3RpY2VzJTIwTWV0YW1vZGVscyUyMiUyQyUwQSUyMCUyMCUyMCUyMGRpc3BsYXklM0QlMjJsb3VyaW5obyUyMiUyQyUwQSUyMCUyMCUyMCUyMGF1dGhvcnMlM0QlMjJMb3VyaW5obyUyQyUyMFJlbmF0byUyMGFuZCUyMEFsbWVpZGElMkMlMjBSYWZhZWwlMjBhbmQlMjBkYSUyMFNpbHZhJTJDJTIwTWlndWVsJTIwTWlyYSUyMGFuZCUyMFBpbnRvJTJDJTIwUGVkcm8lMjBhbmQlMjBCYXJhZm9ydCUyQyUyMEJlYXRyaXglMjIlMkMlMEElMjAlMjAlMjAlMjBwbGFjZSUzREZBS0UlMkMlMEElMjAlMjAlMjAlMjBwcCUzRCUyMjQ5Mi0tNTA1JTIyJTJDJTBBJTIwJTIwJTIwJTIwZW50cnl0eXBlJTNEJTIyaW5wcm9jZWVkaW5ncyUyMiUyQyUwQSUyMCUyMCUyMCUyMG9yZ2FuaXphdGlvbiUzRCUyMlNwcmluZ2VyJTIyJTJDJTBBJTIwJTIwJTIwJTIwSUQlM0QlMjJsb3VyaW5obzIwMTdtYXBwaW5nJTIyJTJDJTBBJTIwJTIwJTIwJTIwcGxhY2V4JTNEJTIyRXVyb3BlYW4lMkMlMjBNZWRpdGVycmFuZWFuJTJDJTIwYW5kJTIwTWlkZGxlJTIwRWFzdGVybiUyMENvbmZlcmVuY2UlMjBvbiUyMEluZm9ybWF0aW9uJTIwU3lzdGVtcyUyMiUyQyUwQSUyOSUyOSUwQSUwQURCJTI4Q2l0YXRpb24lMjglMEElMjAlMjAlMjAlMjBsb3VyaW5obzIwMTdhJTJDJTIwbGlhbzIwMDVhJTJDJTIwcmVmJTNEJTIyJTIyJTJDJTBBJTIwJTIwJTIwJTIwY29udGV4dHMlM0QlNUIlMEElMEElMjAlMjAlMjAlMjAlNUQlMkMlMEElMjklMjklMEElMEElMjclMjclMjclMkMlMjBjaXRhdGlvbnMlM0QlMjdsaWFvMjAwNWElMjclMjklM0I=\")));\n",
       "    "
      ],
      "text/plain": [
       "<IPython.core.display.Javascript object>"
      ]
     },
     "metadata": {},
     "output_type": "display_data"
    },
    {
     "data": {
      "application/javascript": [
       "$('span:contains(\"# Temp\")').closest('.cell').remove();"
      ],
      "text/plain": [
       "<IPython.core.display.Javascript object>"
      ]
     },
     "metadata": {},
     "output_type": "display_data"
    },
    {
     "data": {
      "application/javascript": [
       "\n",
       "        $('span:contains(\"# Temp\")').closest('.cell').remove();\n",
       "        var code = IPython.notebook.insert_cell_below('code');\n",
       "        code.set_text(decodeURIComponent(window.atob(\"JTIzJTIwVGVtcCUwQWluc2VydCUyOCUyNyUyNyUyNyUwQWxvdXJpbmhvMjAxN2ElMjAlM0QlMjBEQiUyOFdvcmtVbnJlbGF0ZWQlMjglMEElMjAlMjAlMjAlMjAyMDE3JTJDJTIwJTIyTWFwcGluZyUyMG9mJTIwRW50ZXJwcmlzZSUyMEdvdmVybmFuY2UlMjBvZiUyMElUJTIwUHJhY3RpY2VzJTIwTWV0YW1vZGVscyUyMiUyQyUwQSUyMCUyMCUyMCUyMGRpc3BsYXklM0QlMjJsb3VyaW5obyUyMiUyQyUwQSUyMCUyMCUyMCUyMGF1dGhvcnMlM0QlMjJMb3VyaW5obyUyQyUyMFJlbmF0byUyMGFuZCUyMEFsbWVpZGElMkMlMjBSYWZhZWwlMjBhbmQlMjBkYSUyMFNpbHZhJTJDJTIwTWlndWVsJTIwTWlyYSUyMGFuZCUyMFBpbnRvJTJDJTIwUGVkcm8lMjBhbmQlMjBCYXJhZm9ydCUyQyUyMEJlYXRyaXglMjIlMkMlMEElMjAlMjAlMjAlMjBwbGFjZSUzREZBS0UlMkMlMEElMjAlMjAlMjAlMjBwcCUzRCUyMjQ5Mi0tNTA1JTIyJTJDJTBBJTIwJTIwJTIwJTIwZW50cnl0eXBlJTNEJTIyaW5wcm9jZWVkaW5ncyUyMiUyQyUwQSUyMCUyMCUyMCUyMG9yZ2FuaXphdGlvbiUzRCUyMlNwcmluZ2VyJTIyJTJDJTBBJTIwJTIwJTIwJTIwSUQlM0QlMjJsb3VyaW5obzIwMTdtYXBwaW5nJTIyJTJDJTBBJTIwJTIwJTIwJTIwcGxhY2V4JTNEJTIyRXVyb3BlYW4lMkMlMjBNZWRpdGVycmFuZWFuJTJDJTIwYW5kJTIwTWlkZGxlJTIwRWFzdGVybiUyMENvbmZlcmVuY2UlMjBvbiUyMEluZm9ybWF0aW9uJTIwU3lzdGVtcyUyMiUyQyUwQSUyOSUyOSUwQSUwQURCJTI4Q2l0YXRpb24lMjglMEElMjAlMjAlMjAlMjBsb3VyaW5obzIwMTdhJTJDJTIwbGlhbzIwMDVhJTJDJTIwcmVmJTNEJTIyJTIyJTJDJTBBJTIwJTIwJTIwJTIwY29udGV4dHMlM0QlNUIlMEElMEElMjAlMjAlMjAlMjAlNUQlMkMlMEElMjklMjklMEElMEElMjclMjclMjclMkMlMjBjaXRhdGlvbnMlM0QlMjdsaWFvMjAwNWElMjclMjklM0I=\")));\n",
       "    "
      ],
      "text/plain": [
       "<IPython.core.display.Javascript object>"
      ]
     },
     "metadata": {},
     "output_type": "display_data"
    },
    {
     "data": {
      "application/javascript": [
       "$('span:contains(\"# Temp\")').closest('.cell').remove();"
      ],
      "text/plain": [
       "<IPython.core.display.Javascript object>"
      ]
     },
     "metadata": {},
     "output_type": "display_data"
    },
    {
     "data": {
      "application/javascript": [
       "\n",
       "        $('span:contains(\"# Temp\")').closest('.cell').remove();\n",
       "        var code = IPython.notebook.insert_cell_below('code');\n",
       "        code.set_text(decodeURIComponent(window.atob(\"JTIzJTIwVGVtcCUwQWluc2VydCUyOCUyNyUyNyUyNyUwQWJhbGFqaTIwMTJhJTIwJTNEJTIwREIlMjhXb3JrVW5yZWxhdGVkJTI4JTBBJTIwJTIwJTIwJTIwMjAxMiUyQyUyMCUyMk9udG9sb2d5JTIwQ29uY2VwdHMlMjBmb3IlMjBSZXF1aXJlbWVudHMlMjBFbmdpbmVlcmluZyUyMFByb2Nlc3MlMjBJbiUyMEUtR292ZXJubWVudCUyMEFwcGxpY2F0aW9ucyUyMiUyQyUwQSUyMCUyMCUyMCUyMGRpc3BsYXklM0QlMjJiYWxhamklMjIlMkMlMEElMjAlMjAlMjAlMjBhdXRob3JzJTNEJTIyQmFsYWppJTJDJTIwR04lMjIlMkMlMEElMjAlMjAlMjAlMjBwbGFjZSUzREZBS0UlMkMlMEElMjAlMjAlMjAlMjBlbnRyeXR5cGUlM0QlMjJhcnRpY2xlJTIyJTJDJTBBJTIwJTIwJTIwJTIwcHVibGlzaGVyJTNEJTIyU1JNJTIwVW5pdmVyc2l0eSUyMiUyQyUwQSUyMCUyMCUyMCUyMElEJTNEJTIyYmFsYWppMjAxMm9udG9sb2d5JTIyJTJDJTBBJTIwJTIwJTIwJTIwcGxhY2V4JTNEJTIyJTIyJTJDJTBBJTI5JTI5JTBBJTBBREIlMjhDaXRhdGlvbiUyOCUwQSUyMCUyMCUyMCUyMGJhbGFqaTIwMTJhJTJDJTIwbGlhbzIwMDVhJTJDJTIwcmVmJTNEJTIyJTIyJTJDJTBBJTIwJTIwJTIwJTIwY29udGV4dHMlM0QlNUIlMEElMEElMjAlMjAlMjAlMjAlNUQlMkMlMEElMjklMjklMEElMEElMjclMjclMjclMkMlMjBjaXRhdGlvbnMlM0QlMjdsaWFvMjAwNWElMjclMjklM0I=\")));\n",
       "    "
      ],
      "text/plain": [
       "<IPython.core.display.Javascript object>"
      ]
     },
     "metadata": {},
     "output_type": "display_data"
    },
    {
     "data": {
      "application/javascript": [
       "$('span:contains(\"# Temp\")').closest('.cell').remove();"
      ],
      "text/plain": [
       "<IPython.core.display.Javascript object>"
      ]
     },
     "metadata": {},
     "output_type": "display_data"
    },
    {
     "data": {
      "application/javascript": [
       "\n",
       "        $('span:contains(\"# Temp\")').closest('.cell').remove();\n",
       "        var code = IPython.notebook.insert_cell_below('code');\n",
       "        code.set_text(decodeURIComponent(window.atob(\"JTIzJTIwVGVtcCUwQWluc2VydCUyOCUyNyUyNyUyNyUwQWJhbGFqaTIwMTJhJTIwJTNEJTIwREIlMjhXb3JrVW5yZWxhdGVkJTI4JTBBJTIwJTIwJTIwJTIwMjAxMiUyQyUyMCUyMk9udG9sb2d5JTIwQ29uY2VwdHMlMjBmb3IlMjBSZXF1aXJlbWVudHMlMjBFbmdpbmVlcmluZyUyMFByb2Nlc3MlMjBJbiUyMEUtR292ZXJubWVudCUyMEFwcGxpY2F0aW9ucyUyMiUyQyUwQSUyMCUyMCUyMCUyMGRpc3BsYXklM0QlMjJiYWxhamklMjIlMkMlMEElMjAlMjAlMjAlMjBhdXRob3JzJTNEJTIyQmFsYWppJTJDJTIwR04lMjIlMkMlMEElMjAlMjAlMjAlMjBwbGFjZSUzREZBS0UlMkMlMEElMjAlMjAlMjAlMjBlbnRyeXR5cGUlM0QlMjJhcnRpY2xlJTIyJTJDJTBBJTIwJTIwJTIwJTIwcHVibGlzaGVyJTNEJTIyU1JNJTIwVW5pdmVyc2l0eSUyMiUyQyUwQSUyMCUyMCUyMCUyMElEJTNEJTIyYmFsYWppMjAxMm9udG9sb2d5JTIyJTJDJTBBJTIwJTIwJTIwJTIwcGxhY2V4JTNEJTIyJTIyJTJDJTBBJTI5JTI5JTBBJTBBREIlMjhDaXRhdGlvbiUyOCUwQSUyMCUyMCUyMCUyMGJhbGFqaTIwMTJhJTJDJTIwbGlhbzIwMDVhJTJDJTIwcmVmJTNEJTIyJTIyJTJDJTBBJTIwJTIwJTIwJTIwY29udGV4dHMlM0QlNUIlMEElMEElMjAlMjAlMjAlMjAlNUQlMkMlMEElMjklMjklMEElMEElMjclMjclMjclMkMlMjBjaXRhdGlvbnMlM0QlMjdsaWFvMjAwNWElMjclMjklM0I=\")));\n",
       "    "
      ],
      "text/plain": [
       "<IPython.core.display.Javascript object>"
      ]
     },
     "metadata": {},
     "output_type": "display_data"
    },
    {
     "data": {
      "application/javascript": [
       "$('span:contains(\"# Temp\")').closest('.cell').remove();"
      ],
      "text/plain": [
       "<IPython.core.display.Javascript object>"
      ]
     },
     "metadata": {},
     "output_type": "display_data"
    },
    {
     "data": {
      "application/javascript": [
       "\n",
       "        $('span:contains(\"# Temp\")').closest('.cell').remove();\n",
       "        var code = IPython.notebook.insert_cell_below('code');\n",
       "        code.set_text(decodeURIComponent(window.atob(\"JTIzJTIwVGVtcCUwQWluc2VydCUyOCUyNyUyNyUyNyUwQWFhdTBhJTIwJTNEJTIwREIlMjhXb3JrVW5yZWxhdGVkJTI4JTBBJTIwJTIwJTIwJTIwMCUyQyUyMCUyMlByb2plY3QlMjB0aXRsZSUzQSUyMEtub3dsZWRnZSUyMGluJTIwYSUyMFdpa2klMjIlMkMlMEElMjAlMjAlMjAlMjBkaXNwbGF5JTNEJTIyYWF1JTIyJTJDJTBBJTIwJTIwJTIwJTIwYXV0aG9ycyUzRCUyMkFBVSUyQyUyMEthcnN0ZW4lMjBKYWhuJTIwYW5kJTIwQUFVJTJDJTIwUGV0ZXIlMjBBeGVsJTIwTmllbHNlbiUyMGFuZCUyMEFBVSUyQyUyMEFuZHJlYXMlMjBNdW5rLU1hZHNlbiUyMGFuZCUyMFBlZGVyc2VuJTJDJTIwS2VsZCUyMGFuZCUyMEFBVSUyQyUyMExvZ2ljYSUyMiUyQyUwQSUyMCUyMCUyMCUyMHBsYWNlJTNERkFLRSUyQyUwQSUyMCUyMCUyMCUyMGVudHJ5dHlwZSUzRCUyMmFydGljbGUlMjIlMkMlMEElMjAlMjAlMjAlMjBJRCUzRCUyMmFhdXByb2plY3QlMjIlMkMlMEElMjAlMjAlMjAlMjBwbGFjZXglM0QlMjIlMjIlMkMlMEElMjklMjklMEElMEFEQiUyOENpdGF0aW9uJTI4JTBBJTIwJTIwJTIwJTIwYWF1MGElMkMlMjBsaWFvMjAwNWElMkMlMjByZWYlM0QlMjIlMjIlMkMlMEElMjAlMjAlMjAlMjBjb250ZXh0cyUzRCU1QiUwQSUwQSUyMCUyMCUyMCUyMCU1RCUyQyUwQSUyOSUyOSUwQSUwQSUyNyUyNyUyNyUyQyUyMGNpdGF0aW9ucyUzRCUyN2xpYW8yMDA1YSUyNyUyOSUzQg==\")));\n",
       "    "
      ],
      "text/plain": [
       "<IPython.core.display.Javascript object>"
      ]
     },
     "metadata": {},
     "output_type": "display_data"
    },
    {
     "data": {
      "application/javascript": [
       "$('span:contains(\"# Temp\")').closest('.cell').remove();"
      ],
      "text/plain": [
       "<IPython.core.display.Javascript object>"
      ]
     },
     "metadata": {},
     "output_type": "display_data"
    },
    {
     "data": {
      "application/javascript": [
       "\n",
       "        $('span:contains(\"# Temp\")').closest('.cell').remove();\n",
       "        var code = IPython.notebook.insert_cell_below('code');\n",
       "        code.set_text(decodeURIComponent(window.atob(\"JTIzJTIwVGVtcCUwQWluc2VydCUyOCUyNyUyNyUyNyUwQWFhdTBhJTIwJTNEJTIwREIlMjhXb3JrVW5yZWxhdGVkJTI4JTBBJTIwJTIwJTIwJTIwMCUyQyUyMCUyMlByb2plY3QlMjB0aXRsZSUzQSUyMEtub3dsZWRnZSUyMGluJTIwYSUyMFdpa2klMjIlMkMlMEElMjAlMjAlMjAlMjBkaXNwbGF5JTNEJTIyYWF1JTIyJTJDJTBBJTIwJTIwJTIwJTIwYXV0aG9ycyUzRCUyMkFBVSUyQyUyMEthcnN0ZW4lMjBKYWhuJTIwYW5kJTIwQUFVJTJDJTIwUGV0ZXIlMjBBeGVsJTIwTmllbHNlbiUyMGFuZCUyMEFBVSUyQyUyMEFuZHJlYXMlMjBNdW5rLU1hZHNlbiUyMGFuZCUyMFBlZGVyc2VuJTJDJTIwS2VsZCUyMGFuZCUyMEFBVSUyQyUyMExvZ2ljYSUyMiUyQyUwQSUyMCUyMCUyMCUyMHBsYWNlJTNERkFLRSUyQyUwQSUyMCUyMCUyMCUyMGVudHJ5dHlwZSUzRCUyMmFydGljbGUlMjIlMkMlMEElMjAlMjAlMjAlMjBJRCUzRCUyMmFhdXByb2plY3QlMjIlMkMlMEElMjAlMjAlMjAlMjBwbGFjZXglM0QlMjIlMjIlMkMlMEElMjklMjklMEElMEFEQiUyOENpdGF0aW9uJTI4JTBBJTIwJTIwJTIwJTIwYWF1MGElMkMlMjBsaWFvMjAwNWElMkMlMjByZWYlM0QlMjIlMjIlMkMlMEElMjAlMjAlMjAlMjBjb250ZXh0cyUzRCU1QiUwQSUwQSUyMCUyMCUyMCUyMCU1RCUyQyUwQSUyOSUyOSUwQSUwQSUyNyUyNyUyNyUyQyUyMGNpdGF0aW9ucyUzRCUyN2xpYW8yMDA1YSUyNyUyOSUzQg==\")));\n",
       "    "
      ],
      "text/plain": [
       "<IPython.core.display.Javascript object>"
      ]
     },
     "metadata": {},
     "output_type": "display_data"
    },
    {
     "data": {
      "application/javascript": [
       "$('span:contains(\"# Temp\")').closest('.cell').remove();"
      ],
      "text/plain": [
       "<IPython.core.display.Javascript object>"
      ]
     },
     "metadata": {},
     "output_type": "display_data"
    },
    {
     "data": {
      "application/javascript": [
       "\n",
       "        $('span:contains(\"# Temp\")').closest('.cell').remove();\n",
       "        var code = IPython.notebook.insert_cell_below('code');\n",
       "        code.set_text(decodeURIComponent(window.atob(\"JTIzJTIwVGVtcCUwQWluc2VydCUyOCUyNyUyNyUyNyUwQTIwMTZhJTIwJTNEJTIwREIlMjhXb3JrVW5yZWxhdGVkJTI4JTBBJTIwJTIwJTIwJTIwMjAxNiUyQyUyMCUyMlRIRSUyMFJFU0VBUkNIJTIwT04lMjBNT0RFTCUyMFRSQU5TRk9STUFUSU9OUyUyQyUyMEJBU0VEJTIwT04lMjBET01BSU4lMjBNRVRBTU9ERUwlMkMlMjBGT1IlMjBERVNJR05JTkclMjBSRVFVSVJFTUVOVFMlMjBTUEVDSUZJQ0FUSU9OUyUyMiUyQyUwQSUyMCUyMCUyMCUyMGRpc3BsYXklM0QlMjIlMjIlMkMlMEElMjAlMjAlMjAlMjBhdXRob3JzJTNEJTIyJTdCJUM1JUJEJTdEZW1haXR5dCVDNCU5NyUyQyUyME5lcmluZ2ElMjIlMkMlMEElMjAlMjAlMjAlMjBwbGFjZSUzREZBS0UlMkMlMEElMjAlMjAlMjAlMjBlbnRyeXR5cGUlM0QlMjJhcnRpY2xlJTIyJTJDJTBBJTIwJTIwJTIwJTIwSUQlM0QlMjJ2emVtYWl0eXRlMjAxNnJlc2VhcmNoJTIyJTJDJTBBJTIwJTIwJTIwJTIwcGxhY2V4JTNEJTIyJTIyJTJDJTBBJTI5JTI5JTBBJTBBREIlMjhDaXRhdGlvbiUyOCUwQSUyMCUyMCUyMCUyMDIwMTZhJTJDJTIwbGlhbzIwMDVhJTJDJTIwcmVmJTNEJTIyJTIyJTJDJTBBJTIwJTIwJTIwJTIwY29udGV4dHMlM0QlNUIlMEElMEElMjAlMjAlMjAlMjAlNUQlMkMlMEElMjklMjklMEElMEElMjclMjclMjclMkMlMjBjaXRhdGlvbnMlM0QlMjdsaWFvMjAwNWElMjclMjklM0I=\")));\n",
       "    "
      ],
      "text/plain": [
       "<IPython.core.display.Javascript object>"
      ]
     },
     "metadata": {},
     "output_type": "display_data"
    },
    {
     "data": {
      "application/javascript": [
       "$('span:contains(\"# Temp\")').closest('.cell').remove();"
      ],
      "text/plain": [
       "<IPython.core.display.Javascript object>"
      ]
     },
     "metadata": {},
     "output_type": "display_data"
    },
    {
     "data": {
      "application/javascript": [
       "\n",
       "        $('span:contains(\"# Temp\")').closest('.cell').remove();\n",
       "        var code = IPython.notebook.insert_cell_below('code');\n",
       "        code.set_text(decodeURIComponent(window.atob(\"JTIzJTIwVGVtcCUwQWluc2VydCUyOCUyNyUyNyUyNyUwQTIwMTZhJTIwJTNEJTIwREIlMjhXb3JrVW5yZWxhdGVkJTI4JTBBJTIwJTIwJTIwJTIwMjAxNiUyQyUyMCUyMlRIRSUyMFJFU0VBUkNIJTIwT04lMjBNT0RFTCUyMFRSQU5TRk9STUFUSU9OUyUyQyUyMEJBU0VEJTIwT04lMjBET01BSU4lMjBNRVRBTU9ERUwlMkMlMjBGT1IlMjBERVNJR05JTkclMjBSRVFVSVJFTUVOVFMlMjBTUEVDSUZJQ0FUSU9OUyUyMiUyQyUwQSUyMCUyMCUyMCUyMGRpc3BsYXklM0QlMjIlMjIlMkMlMEElMjAlMjAlMjAlMjBhdXRob3JzJTNEJTIyJTdCJUM1JUJEJTdEZW1haXR5dCVDNCU5NyUyQyUyME5lcmluZ2ElMjIlMkMlMEElMjAlMjAlMjAlMjBwbGFjZSUzREZBS0UlMkMlMEElMjAlMjAlMjAlMjBlbnRyeXR5cGUlM0QlMjJhcnRpY2xlJTIyJTJDJTBBJTIwJTIwJTIwJTIwSUQlM0QlMjJ2emVtYWl0eXRlMjAxNnJlc2VhcmNoJTIyJTJDJTBBJTIwJTIwJTIwJTIwcGxhY2V4JTNEJTIyJTIyJTJDJTBBJTI5JTI5JTBBJTBBREIlMjhDaXRhdGlvbiUyOCUwQSUyMCUyMCUyMCUyMDIwMTZhJTJDJTIwbGlhbzIwMDVhJTJDJTIwcmVmJTNEJTIyJTIyJTJDJTBBJTIwJTIwJTIwJTIwY29udGV4dHMlM0QlNUIlMEElMEElMjAlMjAlMjAlMjAlNUQlMkMlMEElMjklMjklMEElMEElMjclMjclMjclMkMlMjBjaXRhdGlvbnMlM0QlMjdsaWFvMjAwNWElMjclMjklM0I=\")));\n",
       "    "
      ],
      "text/plain": [
       "<IPython.core.display.Javascript object>"
      ]
     },
     "metadata": {},
     "output_type": "display_data"
    },
    {
     "data": {
      "application/javascript": [
       "$('span:contains(\"# Temp\")').closest('.cell').remove();"
      ],
      "text/plain": [
       "<IPython.core.display.Javascript object>"
      ]
     },
     "metadata": {},
     "output_type": "display_data"
    },
    {
     "data": {
      "application/javascript": [
       "\n",
       "        $('span:contains(\"# Temp\")').closest('.cell').remove();\n",
       "        var code = IPython.notebook.insert_cell_below('code');\n",
       "        code.set_text(decodeURIComponent(window.atob(\"JTIzJTIwVGVtcCUwQWluc2VydCUyOCUyNyUyNyUyNyUwQWxpdTBhJTIwJTNEJTIwREIlMjhXb3JrVW5yZWxhdGVkJTI4JTBBJTIwJTIwJTIwJTIwMCUyQyUyMCUyMkElMjBGcmFtZXdvcmslMjBvZiUyME9udG9sb2d5LXN1cHBvcnRlZCUyMEtub3dsZWRnZSUyMFJlcHJlc2VudGF0aW9uJTIwaW4lMjBTb2Z0d2FyZSUyMFByb2Nlc3MlMjIlMkMlMEElMjAlMjAlMjAlMjBkaXNwbGF5JTNEJTIybGl1JTIyJTJDJTBBJTIwJTIwJTIwJTIwYXV0aG9ycyUzRCUyMkxpdSUyQyUyMEppYW55aW5nJTIwSGUlMjBIYWlodWElMjBZYW4lMjBDaGFvJTIwYW5kJTIwSmluJTJDJTIwTWFvemhvbmclMjIlMkMlMEElMjAlMjAlMjAlMjBwbGFjZSUzREZBS0UlMkMlMEElMjAlMjAlMjAlMjBlbnRyeXR5cGUlM0QlMjJhcnRpY2xlJTIyJTJDJTBBJTIwJTIwJTIwJTIwSUQlM0QlMjJsaXVmcmFtZXdvcmslMjIlMkMlMEElMjAlMjAlMjAlMjBwbGFjZXglM0QlMjIlMjIlMkMlMEElMjklMjklMEElMEFEQiUyOENpdGF0aW9uJTI4JTBBJTIwJTIwJTIwJTIwbGl1MGElMkMlMjBsaWFvMjAwNWElMkMlMjByZWYlM0QlMjIlMjIlMkMlMEElMjAlMjAlMjAlMjBjb250ZXh0cyUzRCU1QiUwQSUwQSUyMCUyMCUyMCUyMCU1RCUyQyUwQSUyOSUyOSUwQSUwQSUyNyUyNyUyNyUyQyUyMGNpdGF0aW9ucyUzRCUyN2xpYW8yMDA1YSUyNyUyOSUzQg==\")));\n",
       "    "
      ],
      "text/plain": [
       "<IPython.core.display.Javascript object>"
      ]
     },
     "metadata": {},
     "output_type": "display_data"
    },
    {
     "data": {
      "application/javascript": [
       "$('span:contains(\"# Temp\")').closest('.cell').remove();"
      ],
      "text/plain": [
       "<IPython.core.display.Javascript object>"
      ]
     },
     "metadata": {},
     "output_type": "display_data"
    },
    {
     "data": {
      "application/javascript": [
       "\n",
       "        $('span:contains(\"# Temp\")').closest('.cell').remove();\n",
       "        var code = IPython.notebook.insert_cell_below('code');\n",
       "        code.set_text(decodeURIComponent(window.atob(\"JTIzJTIwVGVtcCUwQWluc2VydCUyOCUyNyUyNyUyNyUwQWxpdTBhJTIwJTNEJTIwREIlMjhXb3JrVW5yZWxhdGVkJTI4JTBBJTIwJTIwJTIwJTIwMCUyQyUyMCUyMkElMjBGcmFtZXdvcmslMjBvZiUyME9udG9sb2d5LXN1cHBvcnRlZCUyMEtub3dsZWRnZSUyMFJlcHJlc2VudGF0aW9uJTIwaW4lMjBTb2Z0d2FyZSUyMFByb2Nlc3MlMjIlMkMlMEElMjAlMjAlMjAlMjBkaXNwbGF5JTNEJTIybGl1JTIyJTJDJTBBJTIwJTIwJTIwJTIwYXV0aG9ycyUzRCUyMkxpdSUyQyUyMEppYW55aW5nJTIwSGUlMjBIYWlodWElMjBZYW4lMjBDaGFvJTIwYW5kJTIwSmluJTJDJTIwTWFvemhvbmclMjIlMkMlMEElMjAlMjAlMjAlMjBwbGFjZSUzREZBS0UlMkMlMEElMjAlMjAlMjAlMjBlbnRyeXR5cGUlM0QlMjJhcnRpY2xlJTIyJTJDJTBBJTIwJTIwJTIwJTIwSUQlM0QlMjJsaXVmcmFtZXdvcmslMjIlMkMlMEElMjAlMjAlMjAlMjBwbGFjZXglM0QlMjIlMjIlMkMlMEElMjklMjklMEElMEFEQiUyOENpdGF0aW9uJTI4JTBBJTIwJTIwJTIwJTIwbGl1MGElMkMlMjBsaWFvMjAwNWElMkMlMjByZWYlM0QlMjIlMjIlMkMlMEElMjAlMjAlMjAlMjBjb250ZXh0cyUzRCU1QiUwQSUwQSUyMCUyMCUyMCUyMCU1RCUyQyUwQSUyOSUyOSUwQSUwQSUyNyUyNyUyNyUyQyUyMGNpdGF0aW9ucyUzRCUyN2xpYW8yMDA1YSUyNyUyOSUzQg==\")));\n",
       "    "
      ],
      "text/plain": [
       "<IPython.core.display.Javascript object>"
      ]
     },
     "metadata": {},
     "output_type": "display_data"
    },
    {
     "data": {
      "application/javascript": [
       "$('span:contains(\"# Temp\")').closest('.cell').remove();"
      ],
      "text/plain": [
       "<IPython.core.display.Javascript object>"
      ]
     },
     "metadata": {},
     "output_type": "display_data"
    },
    {
     "data": {
      "application/javascript": [
       "\n",
       "        $('span:contains(\"# Temp\")').closest('.cell').remove();\n",
       "        var code = IPython.notebook.insert_cell_below('code');\n",
       "        code.set_text(decodeURIComponent(window.atob(\"JTIzJTIwVGVtcCUwQWluc2VydCUyOCUyNyUyNyUyNyUwQWNoYW5zeWxpbGF0aDBhJTIwJTNEJTIwREIlMjhXb3JrVW5yZWxhdGVkJTI4JTBBJTIwJTIwJTIwJTIwMCUyQyUyMCUyMkV2YWx1YXRpb24lMjBhbmQlMjBJbXByb3ZlbWVudCUyMG9mJTIwTW9TYUljJTIwUmVmZXJlbmNlJTIwTW9kZWxzJTIwQ29tcGFyaXNvbiUyMEFwcHJvYWNoJTIyJTJDJTBBJTIwJTIwJTIwJTIwZGlzcGxheSUzRCUyMmNoYW5zeWxpbGF0aCUyMiUyQyUwQSUyMCUyMCUyMCUyMGF1dGhvcnMlM0QlMjJDSEFOU1lMSUxBVEglMkMlMjBDaGl0dGFwaG9uZSUyMGFuZCUyMEpFTkVSUyUyQyUyMFNpbW9uYSUyMiUyQyUwQSUyMCUyMCUyMCUyMHBsYWNlJTNERkFLRSUyQyUwQSUyMCUyMCUyMCUyMGVudHJ5dHlwZSUzRCUyMmFydGljbGUlMjIlMkMlMEElMjAlMjAlMjAlMjBJRCUzRCUyMmNoYW5zeWxpbGF0aGV2YWx1YXRpb24lMjIlMkMlMEElMjAlMjAlMjAlMjBwbGFjZXglM0QlMjIlMjIlMkMlMEElMjklMjklMEElMEFEQiUyOENpdGF0aW9uJTI4JTBBJTIwJTIwJTIwJTIwY2hhbnN5bGlsYXRoMGElMkMlMjBsaWFvMjAwNWElMkMlMjByZWYlM0QlMjIlMjIlMkMlMEElMjAlMjAlMjAlMjBjb250ZXh0cyUzRCU1QiUwQSUwQSUyMCUyMCUyMCUyMCU1RCUyQyUwQSUyOSUyOSUwQSUwQSUyNyUyNyUyNyUyQyUyMGNpdGF0aW9ucyUzRCUyN2xpYW8yMDA1YSUyNyUyOSUzQg==\")));\n",
       "    "
      ],
      "text/plain": [
       "<IPython.core.display.Javascript object>"
      ]
     },
     "metadata": {},
     "output_type": "display_data"
    },
    {
     "data": {
      "application/javascript": [
       "$('span:contains(\"# Temp\")').closest('.cell').remove();"
      ],
      "text/plain": [
       "<IPython.core.display.Javascript object>"
      ]
     },
     "metadata": {},
     "output_type": "display_data"
    },
    {
     "data": {
      "application/javascript": [
       "\n",
       "        $('span:contains(\"# Temp\")').closest('.cell').remove();\n",
       "        var code = IPython.notebook.insert_cell_below('code');\n",
       "        code.set_text(decodeURIComponent(window.atob(\"JTIzJTIwVGVtcCUwQWluc2VydCUyOCUyNyUyNyUyNyUwQWNoYW5zeWxpbGF0aDBhJTIwJTNEJTIwREIlMjhXb3JrVW5yZWxhdGVkJTI4JTBBJTIwJTIwJTIwJTIwMCUyQyUyMCUyMkV2YWx1YXRpb24lMjBhbmQlMjBJbXByb3ZlbWVudCUyMG9mJTIwTW9TYUljJTIwUmVmZXJlbmNlJTIwTW9kZWxzJTIwQ29tcGFyaXNvbiUyMEFwcHJvYWNoJTIyJTJDJTBBJTIwJTIwJTIwJTIwZGlzcGxheSUzRCUyMmNoYW5zeWxpbGF0aCUyMiUyQyUwQSUyMCUyMCUyMCUyMGF1dGhvcnMlM0QlMjJDSEFOU1lMSUxBVEglMkMlMjBDaGl0dGFwaG9uZSUyMGFuZCUyMEpFTkVSUyUyQyUyMFNpbW9uYSUyMiUyQyUwQSUyMCUyMCUyMCUyMHBsYWNlJTNERkFLRSUyQyUwQSUyMCUyMCUyMCUyMGVudHJ5dHlwZSUzRCUyMmFydGljbGUlMjIlMkMlMEElMjAlMjAlMjAlMjBJRCUzRCUyMmNoYW5zeWxpbGF0aGV2YWx1YXRpb24lMjIlMkMlMEElMjAlMjAlMjAlMjBwbGFjZXglM0QlMjIlMjIlMkMlMEElMjklMjklMEElMEFEQiUyOENpdGF0aW9uJTI4JTBBJTIwJTIwJTIwJTIwY2hhbnN5bGlsYXRoMGElMkMlMjBsaWFvMjAwNWElMkMlMjByZWYlM0QlMjIlMjIlMkMlMEElMjAlMjAlMjAlMjBjb250ZXh0cyUzRCU1QiUwQSUwQSUyMCUyMCUyMCUyMCU1RCUyQyUwQSUyOSUyOSUwQSUwQSUyNyUyNyUyNyUyQyUyMGNpdGF0aW9ucyUzRCUyN2xpYW8yMDA1YSUyNyUyOSUzQg==\")));\n",
       "    "
      ],
      "text/plain": [
       "<IPython.core.display.Javascript object>"
      ]
     },
     "metadata": {},
     "output_type": "display_data"
    },
    {
     "data": {
      "application/javascript": [
       "$('span:contains(\"# Temp\")').closest('.cell').remove();"
      ],
      "text/plain": [
       "<IPython.core.display.Javascript object>"
      ]
     },
     "metadata": {},
     "output_type": "display_data"
    },
    {
     "data": {
      "application/javascript": [
       "\n",
       "        $('span:contains(\"# Temp\")').closest('.cell').remove();\n",
       "        var code = IPython.notebook.insert_cell_below('code');\n",
       "        code.set_text(decodeURIComponent(window.atob(\"JTIzJTIwVGVtcCUwQWluc2VydCUyOCUyNyUyNyUyNyUwQW5nd2VueWEyMDE2YSUyMCUzRCUyMERCJTI4V29ya1VucmVsYXRlZCUyOCUwQSUyMCUyMCUyMCUyMDIwMTYlMkMlMjAlMjJPbnRvbG9neSUyMERldmVsb3BtZW50JTIwYW5kJTIwdGhlJTIwUm9sZSUyMG9mJTIwS25vd2xlZGdlJTIwaW4lMjBFLUdvdmVybm1lbnQlMjBQcm9qZWN0JTIwTWFuYWdlbWVudCUzQSUyMEElMjBMZXNzb24lMjBmb3IlMjBEZXZlbG9waW5nJTIwQ291bnRyaWVzJTIyJTJDJTBBJTIwJTIwJTIwJTIwZGlzcGxheSUzRCUyMm5nd2VueWElMjIlMkMlMEElMjAlMjAlMjAlMjBhdXRob3JzJTNEJTIyTmd3ZW55YSUyQyUyMEJvbmdhbmklMjIlMkMlMEElMjAlMjAlMjAlMjBwbGFjZSUzREZBS0UlMkMlMEElMjAlMjAlMjAlMjBwcCUzRCUyMjI4OS0tMzEwJTIyJTJDJTBBJTIwJTIwJTIwJTIwZW50cnl0eXBlJTNEJTIyaW5jb2xsZWN0aW9uJTIyJTJDJTBBJTIwJTIwJTIwJTIwcHVibGlzaGVyJTNEJTIySUdJJTIwR2xvYmFsJTIyJTJDJTBBJTIwJTIwJTIwJTIwSUQlM0QlMjJuZ3dlbnlhMjAxNm9udG9sb2d5JTIyJTJDJTBBJTIwJTIwJTIwJTIwcGxhY2V4JTNEJTIyUG9saXRpY3MlMjBhbmQlMjBTb2NpYWwlMjBBY3RpdmlzbSUzQSUyMENvbmNlcHRzJTJDJTIwTWV0aG9kb2xvZ2llcyUyQyUyMFRvb2xzJTJDJTIwYW5kJTIwQXBwbGljYXRpb25zJTIyJTJDJTBBJTI5JTI5JTBBJTBBREIlMjhDaXRhdGlvbiUyOCUwQSUyMCUyMCUyMCUyMG5nd2VueWEyMDE2YSUyQyUyMGxpYW8yMDA1YSUyQyUyMHJlZiUzRCUyMiUyMiUyQyUwQSUyMCUyMCUyMCUyMGNvbnRleHRzJTNEJTVCJTBBJTBBJTIwJTIwJTIwJTIwJTVEJTJDJTBBJTI5JTI5JTBBJTBBJTI3JTI3JTI3JTJDJTIwY2l0YXRpb25zJTNEJTI3bGlhbzIwMDVhJTI3JTI5JTNC\")));\n",
       "    "
      ],
      "text/plain": [
       "<IPython.core.display.Javascript object>"
      ]
     },
     "metadata": {},
     "output_type": "display_data"
    },
    {
     "data": {
      "application/javascript": [
       "$('span:contains(\"# Temp\")').closest('.cell').remove();"
      ],
      "text/plain": [
       "<IPython.core.display.Javascript object>"
      ]
     },
     "metadata": {},
     "output_type": "display_data"
    },
    {
     "data": {
      "application/javascript": [
       "\n",
       "        $('span:contains(\"# Temp\")').closest('.cell').remove();\n",
       "        var code = IPython.notebook.insert_cell_below('code');\n",
       "        code.set_text(decodeURIComponent(window.atob(\"JTIzJTIwVGVtcCUwQWluc2VydCUyOCUyNyUyNyUyNyUwQW5nd2VueWEyMDE2YSUyMCUzRCUyMERCJTI4V29ya1VucmVsYXRlZCUyOCUwQSUyMCUyMCUyMCUyMDIwMTYlMkMlMjAlMjJPbnRvbG9neSUyMERldmVsb3BtZW50JTIwYW5kJTIwdGhlJTIwUm9sZSUyMG9mJTIwS25vd2xlZGdlJTIwaW4lMjBFLUdvdmVybm1lbnQlMjBQcm9qZWN0JTIwTWFuYWdlbWVudCUzQSUyMEElMjBMZXNzb24lMjBmb3IlMjBEZXZlbG9waW5nJTIwQ291bnRyaWVzJTIyJTJDJTBBJTIwJTIwJTIwJTIwZGlzcGxheSUzRCUyMm5nd2VueWElMjIlMkMlMEElMjAlMjAlMjAlMjBhdXRob3JzJTNEJTIyTmd3ZW55YSUyQyUyMEJvbmdhbmklMjIlMkMlMEElMjAlMjAlMjAlMjBwbGFjZSUzREZBS0UlMkMlMEElMjAlMjAlMjAlMjBwcCUzRCUyMjI4OS0tMzEwJTIyJTJDJTBBJTIwJTIwJTIwJTIwZW50cnl0eXBlJTNEJTIyaW5jb2xsZWN0aW9uJTIyJTJDJTBBJTIwJTIwJTIwJTIwcHVibGlzaGVyJTNEJTIySUdJJTIwR2xvYmFsJTIyJTJDJTBBJTIwJTIwJTIwJTIwSUQlM0QlMjJuZ3dlbnlhMjAxNm9udG9sb2d5JTIyJTJDJTBBJTIwJTIwJTIwJTIwcGxhY2V4JTNEJTIyUG9saXRpY3MlMjBhbmQlMjBTb2NpYWwlMjBBY3RpdmlzbSUzQSUyMENvbmNlcHRzJTJDJTIwTWV0aG9kb2xvZ2llcyUyQyUyMFRvb2xzJTJDJTIwYW5kJTIwQXBwbGljYXRpb25zJTIyJTJDJTBBJTI5JTI5JTBBJTBBREIlMjhDaXRhdGlvbiUyOCUwQSUyMCUyMCUyMCUyMG5nd2VueWEyMDE2YSUyQyUyMGxpYW8yMDA1YSUyQyUyMHJlZiUzRCUyMiUyMiUyQyUwQSUyMCUyMCUyMCUyMGNvbnRleHRzJTNEJTVCJTBBJTBBJTIwJTIwJTIwJTIwJTVEJTJDJTBBJTI5JTI5JTBBJTBBJTI3JTI3JTI3JTJDJTIwY2l0YXRpb25zJTNEJTI3bGlhbzIwMDVhJTI3JTI5JTNC\")));\n",
       "    "
      ],
      "text/plain": [
       "<IPython.core.display.Javascript object>"
      ]
     },
     "metadata": {},
     "output_type": "display_data"
    },
    {
     "data": {
      "application/javascript": [
       "$('span:contains(\"# Temp\")').closest('.cell').remove();"
      ],
      "text/plain": [
       "<IPython.core.display.Javascript object>"
      ]
     },
     "metadata": {},
     "output_type": "display_data"
    },
    {
     "data": {
      "application/javascript": [
       "\n",
       "        $('span:contains(\"# Temp\")').closest('.cell').remove();\n",
       "        var code = IPython.notebook.insert_cell_below('code');\n",
       "        code.set_text(decodeURIComponent(window.atob(\"JTIzJTIwVGVtcCUwQWluc2VydCUyOCUyNyUyNyUyNyUwQW5pemFyMGElMjAlM0QlMjBEQiUyOFdvcmtVbnJlbGF0ZWQlMjglMEElMjAlMjAlMjAlMjAwJTJDJTIwJTIyQW4lMjBPbnRvbG9neSUyMGZvciUyMFJlcXVpcmVtZW50cyUyMEVuZ2luZWVyaW5nJTIwUHJvY2VzcyUyMGluJTIwRS1Hb3Zlcm5tZW50JTIwQXBwbGljYXRpb25zJTIyJTJDJTBBJTIwJTIwJTIwJTIwZGlzcGxheSUzRCUyMm5pemFyJTIyJTJDJTBBJTIwJTIwJTIwJTIwYXV0aG9ycyUzRCUyMk5pemFyJTJDJTIwTW9oYW1tYWQlMjIlMkMlMEElMjAlMjAlMjAlMjBwbGFjZSUzREZBS0UlMkMlMEElMjAlMjAlMjAlMjBlbnRyeXR5cGUlM0QlMjJhcnRpY2xlJTIyJTJDJTBBJTIwJTIwJTIwJTIwSUQlM0QlMjJuaXphcm9udG9sb2d5JTIyJTJDJTBBJTIwJTIwJTIwJTIwcGxhY2V4JTNEJTIyJTIyJTJDJTBBJTI5JTI5JTBBJTBBREIlMjhDaXRhdGlvbiUyOCUwQSUyMCUyMCUyMCUyMG5pemFyMGElMkMlMjBsaWFvMjAwNWElMkMlMjByZWYlM0QlMjIlMjIlMkMlMEElMjAlMjAlMjAlMjBjb250ZXh0cyUzRCU1QiUwQSUwQSUyMCUyMCUyMCUyMCU1RCUyQyUwQSUyOSUyOSUwQSUwQSUyNyUyNyUyNyUyQyUyMGNpdGF0aW9ucyUzRCUyN2xpYW8yMDA1YSUyNyUyOSUzQg==\")));\n",
       "    "
      ],
      "text/plain": [
       "<IPython.core.display.Javascript object>"
      ]
     },
     "metadata": {},
     "output_type": "display_data"
    },
    {
     "data": {
      "application/javascript": [
       "$('span:contains(\"# Temp\")').closest('.cell').remove();"
      ],
      "text/plain": [
       "<IPython.core.display.Javascript object>"
      ]
     },
     "metadata": {},
     "output_type": "display_data"
    },
    {
     "data": {
      "application/javascript": [
       "\n",
       "        $('span:contains(\"# Temp\")').closest('.cell').remove();\n",
       "        var code = IPython.notebook.insert_cell_below('code');\n",
       "        code.set_text(decodeURIComponent(window.atob(\"JTIzJTIwVGVtcCUwQWluc2VydCUyOCUyNyUyNyUyNyUwQW5pemFyMGElMjAlM0QlMjBEQiUyOFdvcmtVbnJlbGF0ZWQlMjglMEElMjAlMjAlMjAlMjAwJTJDJTIwJTIyQW4lMjBPbnRvbG9neSUyMGZvciUyMFJlcXVpcmVtZW50cyUyMEVuZ2luZWVyaW5nJTIwUHJvY2VzcyUyMGluJTIwRS1Hb3Zlcm5tZW50JTIwQXBwbGljYXRpb25zJTIyJTJDJTBBJTIwJTIwJTIwJTIwZGlzcGxheSUzRCUyMm5pemFyJTIyJTJDJTBBJTIwJTIwJTIwJTIwYXV0aG9ycyUzRCUyMk5pemFyJTJDJTIwTW9oYW1tYWQlMjIlMkMlMEElMjAlMjAlMjAlMjBwbGFjZSUzREZBS0UlMkMlMEElMjAlMjAlMjAlMjBlbnRyeXR5cGUlM0QlMjJhcnRpY2xlJTIyJTJDJTBBJTIwJTIwJTIwJTIwSUQlM0QlMjJuaXphcm9udG9sb2d5JTIyJTJDJTBBJTIwJTIwJTIwJTIwcGxhY2V4JTNEJTIyJTIyJTJDJTBBJTI5JTI5JTBBJTBBREIlMjhDaXRhdGlvbiUyOCUwQSUyMCUyMCUyMCUyMG5pemFyMGElMkMlMjBsaWFvMjAwNWElMkMlMjByZWYlM0QlMjIlMjIlMkMlMEElMjAlMjAlMjAlMjBjb250ZXh0cyUzRCU1QiUwQSUwQSUyMCUyMCUyMCUyMCU1RCUyQyUwQSUyOSUyOSUwQSUwQSUyNyUyNyUyNyUyQyUyMGNpdGF0aW9ucyUzRCUyN2xpYW8yMDA1YSUyNyUyOSUzQg==\")));\n",
       "    "
      ],
      "text/plain": [
       "<IPython.core.display.Javascript object>"
      ]
     },
     "metadata": {},
     "output_type": "display_data"
    },
    {
     "data": {
      "application/javascript": [
       "$('span:contains(\"# Temp\")').closest('.cell').remove();"
      ],
      "text/plain": [
       "<IPython.core.display.Javascript object>"
      ]
     },
     "metadata": {},
     "output_type": "display_data"
    },
    {
     "data": {
      "application/javascript": [
       "\n",
       "        $('span:contains(\"# Temp\")').closest('.cell').remove();\n",
       "        var code = IPython.notebook.insert_cell_below('code');\n",
       "        code.set_text(decodeURIComponent(window.atob(\"JTIzJTIwVGVtcCUwQWluc2VydCUyOCUyNyUyNyUyNyUwQWNpYW5jYXJpbmkwYSUyMCUzRCUyMERCJTI4V29ya1VucmVsYXRlZCUyOCUwQSUyMCUyMCUyMCUyMDAlMkMlMjAlMjJBbiUyME9udG9sb2d5JTIwb2YlMjBTb2Z0d2FyZSUyMFF1YWxpdHklMjBSZWxhdGlvbmFsJTIwRmFjdG9ycyUyMGZyb20lMjBCYW5raW5nJTIwU3lzdGVtcyUyMiUyQyUwQSUyMCUyMCUyMCUyMGRpc3BsYXklM0QlMjJjaWFuY2FyaW5pJTIyJTJDJTBBJTIwJTIwJTIwJTIwYXV0aG9ycyUzRCUyMkNpYW5jYXJpbmklMkMlMjBQYW9sbyUyMGFuZCUyME51enpvbGVzZSUyQyUyMEFuZHJlYSUyMEdpb3Zhbm5pJTIwYW5kJTIwUHJlc3V0dGklMkMlMjBWYWxlbnRpbmElMjBhbmQlMjBSdXNzbyUyQyUyMERhbmllbCUyMiUyQyUwQSUyMCUyMCUyMCUyMHBsYWNlJTNERkFLRSUyQyUwQSUyMCUyMCUyMCUyMGVudHJ5dHlwZSUzRCUyMmFydGljbGUlMjIlMkMlMEElMjAlMjAlMjAlMjBJRCUzRCUyMmNpYW5jYXJpbmlvbnRvbG9neSUyMiUyQyUwQSUyMCUyMCUyMCUyMHBsYWNleCUzRCUyMiUyMiUyQyUwQSUyOSUyOSUwQSUwQURCJTI4Q2l0YXRpb24lMjglMEElMjAlMjAlMjAlMjBjaWFuY2FyaW5pMGElMkMlMjBsaWFvMjAwNWElMkMlMjByZWYlM0QlMjIlMjIlMkMlMEElMjAlMjAlMjAlMjBjb250ZXh0cyUzRCU1QiUwQSUwQSUyMCUyMCUyMCUyMCU1RCUyQyUwQSUyOSUyOSUwQSUwQSUyNyUyNyUyNyUyQyUyMGNpdGF0aW9ucyUzRCUyN2xpYW8yMDA1YSUyNyUyOSUzQg==\")));\n",
       "    "
      ],
      "text/plain": [
       "<IPython.core.display.Javascript object>"
      ]
     },
     "metadata": {},
     "output_type": "display_data"
    },
    {
     "data": {
      "application/javascript": [
       "$('span:contains(\"# Temp\")').closest('.cell').remove();"
      ],
      "text/plain": [
       "<IPython.core.display.Javascript object>"
      ]
     },
     "metadata": {},
     "output_type": "display_data"
    },
    {
     "data": {
      "application/javascript": [
       "\n",
       "        $('span:contains(\"# Temp\")').closest('.cell').remove();\n",
       "        var code = IPython.notebook.insert_cell_below('code');\n",
       "        code.set_text(decodeURIComponent(window.atob(\"JTIzJTIwVGVtcCUwQWluc2VydCUyOCUyNyUyNyUyNyUwQWNpYW5jYXJpbmkwYSUyMCUzRCUyMERCJTI4V29ya1VucmVsYXRlZCUyOCUwQSUyMCUyMCUyMCUyMDAlMkMlMjAlMjJBbiUyME9udG9sb2d5JTIwb2YlMjBTb2Z0d2FyZSUyMFF1YWxpdHklMjBSZWxhdGlvbmFsJTIwRmFjdG9ycyUyMGZyb20lMjBCYW5raW5nJTIwU3lzdGVtcyUyMiUyQyUwQSUyMCUyMCUyMCUyMGRpc3BsYXklM0QlMjJjaWFuY2FyaW5pJTIyJTJDJTBBJTIwJTIwJTIwJTIwYXV0aG9ycyUzRCUyMkNpYW5jYXJpbmklMkMlMjBQYW9sbyUyMGFuZCUyME51enpvbGVzZSUyQyUyMEFuZHJlYSUyMEdpb3Zhbm5pJTIwYW5kJTIwUHJlc3V0dGklMkMlMjBWYWxlbnRpbmElMjBhbmQlMjBSdXNzbyUyQyUyMERhbmllbCUyMiUyQyUwQSUyMCUyMCUyMCUyMHBsYWNlJTNERkFLRSUyQyUwQSUyMCUyMCUyMCUyMGVudHJ5dHlwZSUzRCUyMmFydGljbGUlMjIlMkMlMEElMjAlMjAlMjAlMjBJRCUzRCUyMmNpYW5jYXJpbmlvbnRvbG9neSUyMiUyQyUwQSUyMCUyMCUyMCUyMHBsYWNleCUzRCUyMiUyMiUyQyUwQSUyOSUyOSUwQSUwQURCJTI4Q2l0YXRpb24lMjglMEElMjAlMjAlMjAlMjBjaWFuY2FyaW5pMGElMkMlMjBsaWFvMjAwNWElMkMlMjByZWYlM0QlMjIlMjIlMkMlMEElMjAlMjAlMjAlMjBjb250ZXh0cyUzRCU1QiUwQSUwQSUyMCUyMCUyMCUyMCU1RCUyQyUwQSUyOSUyOSUwQSUwQSUyNyUyNyUyNyUyQyUyMGNpdGF0aW9ucyUzRCUyN2xpYW8yMDA1YSUyNyUyOSUzQg==\")));\n",
       "    "
      ],
      "text/plain": [
       "<IPython.core.display.Javascript object>"
      ]
     },
     "metadata": {},
     "output_type": "display_data"
    },
    {
     "data": {
      "application/javascript": [
       "$('span:contains(\"# Temp\")').closest('.cell').remove();"
      ],
      "text/plain": [
       "<IPython.core.display.Javascript object>"
      ]
     },
     "metadata": {},
     "output_type": "display_data"
    },
    {
     "data": {
      "application/javascript": [
       "\n",
       "        $('span:contains(\"# Temp\")').closest('.cell').remove();\n",
       "        var code = IPython.notebook.insert_cell_below('code');\n",
       "        code.set_text(decodeURIComponent(window.atob(\"JTIzJTIwVGVtcCUwQWluc2VydCUyOCUyNyUyNyUyNyUwQWFvdXNzYXQwYSUyMCUzRCUyMERCJTI4V29ya1VucmVsYXRlZCUyOCUwQSUyMCUyMCUyMCUyMDAlMkMlMjAlMjJBJTIwRG9tYWluJTIwT250b2xvZ3klMjBmb3IlMjBTb2Z0d2FyZSUyMFByb2Nlc3MlMjBBcmNoaXRlY3R1cmUlMjIlMkMlMEElMjAlMjAlMjAlMjBkaXNwbGF5JTNEJTIyYW91c3NhdCUyMiUyQyUwQSUyMCUyMCUyMCUyMGF1dGhvcnMlM0QlMjJBb3Vzc2F0JTJDJTIwRmFkaWxhJTIwYW5kJTIwT3Vzc2FsYWglMkMlMjBNb3VyYWQlMjBDaGFiYW5lJTIwYW5kJTIwQWhtZWQtTmFjZXIlMkMlMjBNb2hhbWVkJTIyJTJDJTBBJTIwJTIwJTIwJTIwcGxhY2UlM0RGQUtFJTJDJTBBJTIwJTIwJTIwJTIwZW50cnl0eXBlJTNEJTIyYXJ0aWNsZSUyMiUyQyUwQSUyMCUyMCUyMCUyMElEJTNEJTIyYW91c3NhdGRvbWFpbiUyMiUyQyUwQSUyMCUyMCUyMCUyMHBsYWNleCUzRCUyMiUyMiUyQyUwQSUyOSUyOSUwQSUwQURCJTI4Q2l0YXRpb24lMjglMEElMjAlMjAlMjAlMjBhb3Vzc2F0MGElMkMlMjBsaWFvMjAwNWElMkMlMjByZWYlM0QlMjIlMjIlMkMlMEElMjAlMjAlMjAlMjBjb250ZXh0cyUzRCU1QiUwQSUwQSUyMCUyMCUyMCUyMCU1RCUyQyUwQSUyOSUyOSUwQSUwQSUyNyUyNyUyNyUyQyUyMGNpdGF0aW9ucyUzRCUyN2xpYW8yMDA1YSUyNyUyOSUzQg==\")));\n",
       "    "
      ],
      "text/plain": [
       "<IPython.core.display.Javascript object>"
      ]
     },
     "metadata": {},
     "output_type": "display_data"
    },
    {
     "data": {
      "application/javascript": [
       "$('span:contains(\"# Temp\")').closest('.cell').remove();"
      ],
      "text/plain": [
       "<IPython.core.display.Javascript object>"
      ]
     },
     "metadata": {},
     "output_type": "display_data"
    },
    {
     "data": {
      "application/javascript": [
       "\n",
       "        $('span:contains(\"# Temp\")').closest('.cell').remove();\n",
       "        var code = IPython.notebook.insert_cell_below('code');\n",
       "        code.set_text(decodeURIComponent(window.atob(\"JTIzJTIwVGVtcCUwQWluc2VydCUyOCUyNyUyNyUyNyUwQWFvdXNzYXQwYSUyMCUzRCUyMERCJTI4V29ya1VucmVsYXRlZCUyOCUwQSUyMCUyMCUyMCUyMDAlMkMlMjAlMjJBJTIwRG9tYWluJTIwT250b2xvZ3klMjBmb3IlMjBTb2Z0d2FyZSUyMFByb2Nlc3MlMjBBcmNoaXRlY3R1cmUlMjIlMkMlMEElMjAlMjAlMjAlMjBkaXNwbGF5JTNEJTIyYW91c3NhdCUyMiUyQyUwQSUyMCUyMCUyMCUyMGF1dGhvcnMlM0QlMjJBb3Vzc2F0JTJDJTIwRmFkaWxhJTIwYW5kJTIwT3Vzc2FsYWglMkMlMjBNb3VyYWQlMjBDaGFiYW5lJTIwYW5kJTIwQWhtZWQtTmFjZXIlMkMlMjBNb2hhbWVkJTIyJTJDJTBBJTIwJTIwJTIwJTIwcGxhY2UlM0RGQUtFJTJDJTBBJTIwJTIwJTIwJTIwZW50cnl0eXBlJTNEJTIyYXJ0aWNsZSUyMiUyQyUwQSUyMCUyMCUyMCUyMElEJTNEJTIyYW91c3NhdGRvbWFpbiUyMiUyQyUwQSUyMCUyMCUyMCUyMHBsYWNleCUzRCUyMiUyMiUyQyUwQSUyOSUyOSUwQSUwQURCJTI4Q2l0YXRpb24lMjglMEElMjAlMjAlMjAlMjBhb3Vzc2F0MGElMkMlMjBsaWFvMjAwNWElMkMlMjByZWYlM0QlMjIlMjIlMkMlMEElMjAlMjAlMjAlMjBjb250ZXh0cyUzRCU1QiUwQSUwQSUyMCUyMCUyMCUyMCU1RCUyQyUwQSUyOSUyOSUwQSUwQSUyNyUyNyUyNyUyQyUyMGNpdGF0aW9ucyUzRCUyN2xpYW8yMDA1YSUyNyUyOSUzQg==\")));\n",
       "    "
      ],
      "text/plain": [
       "<IPython.core.display.Javascript object>"
      ]
     },
     "metadata": {},
     "output_type": "display_data"
    },
    {
     "data": {
      "application/javascript": [
       "$('span:contains(\"# Temp\")').closest('.cell').remove();"
      ],
      "text/plain": [
       "<IPython.core.display.Javascript object>"
      ]
     },
     "metadata": {},
     "output_type": "display_data"
    },
    {
     "data": {
      "application/javascript": [
       "\n",
       "        $('span:contains(\"# Temp\")').closest('.cell').remove();\n",
       "        var code = IPython.notebook.insert_cell_below('code');\n",
       "        code.set_text(decodeURIComponent(window.atob(\"JTIzJTIwVGVtcCUwQWluc2VydCUyOCUyNyUyNyUyNyUwQW5pZWxzZW4wYSUyMCUzRCUyMERCJTI4V29ya1VucmVsYXRlZCUyOCUwQSUyMCUyMCUyMCUyMDAlMkMlMjAlMjJQcm9qZWN0JTIwdGl0bGUlM0ElMjBLbm93bGVkZ2UlMjBpbiUyMGElMjBXaWtpJTIyJTJDJTBBJTIwJTIwJTIwJTIwZGlzcGxheSUzRCUyMm5pZWxzZW4lMjIlMkMlMEElMjAlMjAlMjAlMjBhdXRob3JzJTNEJTIyTmllbHNlbiUyQyUyMFBldGVyJTIwQXhlbCUyMGFuZCUyMERvbG9nJTJDJTIwUGV0ZXIlMjBhbmQlMjBCbHVtYXVlciUyQyUyMFJldmlld2VycyUyMEFuZHJlYXMlMjBhbmQlMjBTbXJ6JTJDJTIwUGF2ZWwlMjIlMkMlMEElMjAlMjAlMjAlMjBwbGFjZSUzREZBS0UlMkMlMEElMjAlMjAlMjAlMjBlbnRyeXR5cGUlM0QlMjJhcnRpY2xlJTIyJTJDJTBBJTIwJTIwJTIwJTIwSUQlM0QlMjJuaWVsc2VucHJvamVjdCUyMiUyQyUwQSUyMCUyMCUyMCUyMHBsYWNleCUzRCUyMiUyMiUyQyUwQSUyOSUyOSUwQSUwQURCJTI4Q2l0YXRpb24lMjglMEElMjAlMjAlMjAlMjBuaWVsc2VuMGElMkMlMjBsaWFvMjAwNWElMkMlMjByZWYlM0QlMjIlMjIlMkMlMEElMjAlMjAlMjAlMjBjb250ZXh0cyUzRCU1QiUwQSUwQSUyMCUyMCUyMCUyMCU1RCUyQyUwQSUyOSUyOSUwQSUwQSUyNyUyNyUyNyUyQyUyMGNpdGF0aW9ucyUzRCUyN2xpYW8yMDA1YSUyNyUyOSUzQg==\")));\n",
       "    "
      ],
      "text/plain": [
       "<IPython.core.display.Javascript object>"
      ]
     },
     "metadata": {},
     "output_type": "display_data"
    },
    {
     "data": {
      "application/javascript": [
       "$('span:contains(\"# Temp\")').closest('.cell').remove();"
      ],
      "text/plain": [
       "<IPython.core.display.Javascript object>"
      ]
     },
     "metadata": {},
     "output_type": "display_data"
    },
    {
     "data": {
      "application/javascript": [
       "\n",
       "        $('span:contains(\"# Temp\")').closest('.cell').remove();\n",
       "        var code = IPython.notebook.insert_cell_below('code');\n",
       "        code.set_text(decodeURIComponent(window.atob(\"JTIzJTIwVGVtcCUwQWluc2VydCUyOCUyNyUyNyUyNyUwQW5pZWxzZW4wYSUyMCUzRCUyMERCJTI4V29ya1VucmVsYXRlZCUyOCUwQSUyMCUyMCUyMCUyMDAlMkMlMjAlMjJQcm9qZWN0JTIwdGl0bGUlM0ElMjBLbm93bGVkZ2UlMjBpbiUyMGElMjBXaWtpJTIyJTJDJTBBJTIwJTIwJTIwJTIwZGlzcGxheSUzRCUyMm5pZWxzZW4lMjIlMkMlMEElMjAlMjAlMjAlMjBhdXRob3JzJTNEJTIyTmllbHNlbiUyQyUyMFBldGVyJTIwQXhlbCUyMGFuZCUyMERvbG9nJTJDJTIwUGV0ZXIlMjBhbmQlMjBCbHVtYXVlciUyQyUyMFJldmlld2VycyUyMEFuZHJlYXMlMjBhbmQlMjBTbXJ6JTJDJTIwUGF2ZWwlMjIlMkMlMEElMjAlMjAlMjAlMjBwbGFjZSUzREZBS0UlMkMlMEElMjAlMjAlMjAlMjBlbnRyeXR5cGUlM0QlMjJhcnRpY2xlJTIyJTJDJTBBJTIwJTIwJTIwJTIwSUQlM0QlMjJuaWVsc2VucHJvamVjdCUyMiUyQyUwQSUyMCUyMCUyMCUyMHBsYWNleCUzRCUyMiUyMiUyQyUwQSUyOSUyOSUwQSUwQURCJTI4Q2l0YXRpb24lMjglMEElMjAlMjAlMjAlMjBuaWVsc2VuMGElMkMlMjBsaWFvMjAwNWElMkMlMjByZWYlM0QlMjIlMjIlMkMlMEElMjAlMjAlMjAlMjBjb250ZXh0cyUzRCU1QiUwQSUwQSUyMCUyMCUyMCUyMCU1RCUyQyUwQSUyOSUyOSUwQSUwQSUyNyUyNyUyNyUyQyUyMGNpdGF0aW9ucyUzRCUyN2xpYW8yMDA1YSUyNyUyOSUzQg==\")));\n",
       "    "
      ],
      "text/plain": [
       "<IPython.core.display.Javascript object>"
      ]
     },
     "metadata": {},
     "output_type": "display_data"
    },
    {
     "data": {
      "application/javascript": [
       "$('span:contains(\"# Temp\")').closest('.cell').remove();"
      ],
      "text/plain": [
       "<IPython.core.display.Javascript object>"
      ]
     },
     "metadata": {},
     "output_type": "display_data"
    },
    {
     "data": {
      "application/javascript": [
       "\n",
       "        $('span:contains(\"# Temp\")').closest('.cell').remove();\n",
       "        var code = IPython.notebook.insert_cell_below('code');\n",
       "        code.set_text(decodeURIComponent(window.atob(\"JTIzJTIwVGVtcCUwQWluc2VydCUyOCUyNyUyNyUyNyUwQW5vcm9vemkyMDEyYSUyMCUzRCUyMERCJTI4V29ya1VucmVsYXRlZCUyOCUwQSUyMCUyMCUyMCUyMDIwMTIlMkMlMjAlMjJTUkFEJTNBJTIwYSUyMHNlbWFudGljJTIwcmFwaWQlMjBtZXRob2QlMjBmb3IlMjBzb2Z0d2FyZSUyMGRldmVsb3BtZW50JTIyJTJDJTBBJTIwJTIwJTIwJTIwZGlzcGxheSUzRCUyMm5vcm9vemklMjIlMkMlMEElMjAlMjAlMjAlMjBhdXRob3JzJTNEJTIyTm9yb296aSUyQyUyME1vcnRlemElMjBhbmQlMjBTYWVkaSUyQyUyMFNoaW1hJTIwYW5kJTIwVGFoZXJpYW4lMkMlMjBNb2hzZW4lMjBhbmQlMjBHaGFkaXBhc2hhJTJDJTIwS2hvc3JvJTIyJTJDJTBBJTIwJTIwJTIwJTIwcGxhY2UlM0RGQUtFJTJDJTBBJTIwJTIwJTIwJTIwcHAlM0QlMjIxMDQtLTEwOCUyMiUyQyUwQSUyMCUyMCUyMCUyMGVudHJ5dHlwZSUzRCUyMmlucHJvY2VlZGluZ3MlMjIlMkMlMEElMjAlMjAlMjAlMjBvcmdhbml6YXRpb24lM0QlMjJBQ00lMjIlMkMlMEElMjAlMjAlMjAlMjBJRCUzRCUyMm5vcm9vemkyMDEyc3JhZCUyMiUyQyUwQSUyMCUyMCUyMCUyMHBsYWNleCUzRCUyMlByb2NlZWRpbmdzJTIwb2YlMjB0aGUlMjBGaWZ0aCUyMEludGVybmF0aW9uYWwlMjBDJTJBJTIwQ29uZmVyZW5jZSUyMG9uJTIwQ29tcHV0ZXIlMjBTY2llbmNlJTIwYW5kJTIwU29mdHdhcmUlMjBFbmdpbmVlcmluZyUyMiUyQyUwQSUyOSUyOSUwQSUwQURCJTI4Q2l0YXRpb24lMjglMEElMjAlMjAlMjAlMjBub3Jvb3ppMjAxMmElMkMlMjBsaWFvMjAwNWElMkMlMjByZWYlM0QlMjIlMjIlMkMlMEElMjAlMjAlMjAlMjBjb250ZXh0cyUzRCU1QiUwQSUwQSUyMCUyMCUyMCUyMCU1RCUyQyUwQSUyOSUyOSUwQSUwQSUyNyUyNyUyNyUyQyUyMGNpdGF0aW9ucyUzRCUyN2xpYW8yMDA1YSUyNyUyOSUzQg==\")));\n",
       "    "
      ],
      "text/plain": [
       "<IPython.core.display.Javascript object>"
      ]
     },
     "metadata": {},
     "output_type": "display_data"
    },
    {
     "data": {
      "application/javascript": [
       "$('span:contains(\"# Temp\")').closest('.cell').remove();"
      ],
      "text/plain": [
       "<IPython.core.display.Javascript object>"
      ]
     },
     "metadata": {},
     "output_type": "display_data"
    },
    {
     "data": {
      "application/javascript": [
       "\n",
       "        $('span:contains(\"# Temp\")').closest('.cell').remove();\n",
       "        var code = IPython.notebook.insert_cell_below('code');\n",
       "        code.set_text(decodeURIComponent(window.atob(\"JTIzJTIwVGVtcCUwQWluc2VydCUyOCUyNyUyNyUyNyUwQW5vcm9vemkyMDEyYSUyMCUzRCUyMERCJTI4V29ya1VucmVsYXRlZCUyOCUwQSUyMCUyMCUyMCUyMDIwMTIlMkMlMjAlMjJTUkFEJTNBJTIwYSUyMHNlbWFudGljJTIwcmFwaWQlMjBtZXRob2QlMjBmb3IlMjBzb2Z0d2FyZSUyMGRldmVsb3BtZW50JTIyJTJDJTBBJTIwJTIwJTIwJTIwZGlzcGxheSUzRCUyMm5vcm9vemklMjIlMkMlMEElMjAlMjAlMjAlMjBhdXRob3JzJTNEJTIyTm9yb296aSUyQyUyME1vcnRlemElMjBhbmQlMjBTYWVkaSUyQyUyMFNoaW1hJTIwYW5kJTIwVGFoZXJpYW4lMkMlMjBNb2hzZW4lMjBhbmQlMjBHaGFkaXBhc2hhJTJDJTIwS2hvc3JvJTIyJTJDJTBBJTIwJTIwJTIwJTIwcGxhY2UlM0RGQUtFJTJDJTBBJTIwJTIwJTIwJTIwcHAlM0QlMjIxMDQtLTEwOCUyMiUyQyUwQSUyMCUyMCUyMCUyMGVudHJ5dHlwZSUzRCUyMmlucHJvY2VlZGluZ3MlMjIlMkMlMEElMjAlMjAlMjAlMjBvcmdhbml6YXRpb24lM0QlMjJBQ00lMjIlMkMlMEElMjAlMjAlMjAlMjBJRCUzRCUyMm5vcm9vemkyMDEyc3JhZCUyMiUyQyUwQSUyMCUyMCUyMCUyMHBsYWNleCUzRCUyMlByb2NlZWRpbmdzJTIwb2YlMjB0aGUlMjBGaWZ0aCUyMEludGVybmF0aW9uYWwlMjBDJTJBJTIwQ29uZmVyZW5jZSUyMG9uJTIwQ29tcHV0ZXIlMjBTY2llbmNlJTIwYW5kJTIwU29mdHdhcmUlMjBFbmdpbmVlcmluZyUyMiUyQyUwQSUyOSUyOSUwQSUwQURCJTI4Q2l0YXRpb24lMjglMEElMjAlMjAlMjAlMjBub3Jvb3ppMjAxMmElMkMlMjBsaWFvMjAwNWElMkMlMjByZWYlM0QlMjIlMjIlMkMlMEElMjAlMjAlMjAlMjBjb250ZXh0cyUzRCU1QiUwQSUwQSUyMCUyMCUyMCUyMCU1RCUyQyUwQSUyOSUyOSUwQSUwQSUyNyUyNyUyNyUyQyUyMGNpdGF0aW9ucyUzRCUyN2xpYW8yMDA1YSUyNyUyOSUzQg==\")));\n",
       "    "
      ],
      "text/plain": [
       "<IPython.core.display.Javascript object>"
      ]
     },
     "metadata": {},
     "output_type": "display_data"
    },
    {
     "data": {
      "application/javascript": [
       "$('span:contains(\"# Temp\")').closest('.cell').remove();"
      ],
      "text/plain": [
       "<IPython.core.display.Javascript object>"
      ]
     },
     "metadata": {},
     "output_type": "display_data"
    },
    {
     "data": {
      "application/javascript": [
       "\n",
       "        $('span:contains(\"# Temp\")').closest('.cell').remove();\n",
       "        var code = IPython.notebook.insert_cell_below('code');\n",
       "        code.set_text(decodeURIComponent(window.atob(\"JTIzJTIwVGVtcCUwQWluc2VydCUyOCUyNyUyNyUyNyUwQWJ1dGthMGElMjAlM0QlMjBEQiUyOFdvcmtVbnJlbGF0ZWQlMjglMEElMjAlMjAlMjAlMjAwJTJDJTIwJTIyS25vd2xlZGdlLWJhc2VkJTIwUmVwcmVzZW50YXRpb24lMjBmb3IlMjBNb2RlbGluZyUyMG9mJTIwU2VsZWN0ZWQlMjBTb2Z0d2FyZSUyMERldmVsb3BtZW50JTIwTWV0aG9kb2xvZ3klMjIlMkMlMEElMjAlMjAlMjAlMjBkaXNwbGF5JTNEJTIyYnV0a2ElMjIlMkMlMEElMjAlMjAlMjAlMjBhdXRob3JzJTNEJTIyQnV0a2ElMkMlMjBQZXRlciUyMiUyQyUwQSUyMCUyMCUyMCUyMHBsYWNlJTNERkFLRSUyQyUwQSUyMCUyMCUyMCUyMGVudHJ5dHlwZSUzRCUyMmFydGljbGUlMjIlMkMlMEElMjAlMjAlMjAlMjBJRCUzRCUyMmJ1dGtha25vd2xlZGdlJTIyJTJDJTBBJTIwJTIwJTIwJTIwcGxhY2V4JTNEJTIyJTIyJTJDJTBBJTI5JTI5JTBBJTBBREIlMjhDaXRhdGlvbiUyOCUwQSUyMCUyMCUyMCUyMGJ1dGthMGElMkMlMjBsaWFvMjAwNWElMkMlMjByZWYlM0QlMjIlMjIlMkMlMEElMjAlMjAlMjAlMjBjb250ZXh0cyUzRCU1QiUwQSUwQSUyMCUyMCUyMCUyMCU1RCUyQyUwQSUyOSUyOSUwQSUwQSUyNyUyNyUyNyUyQyUyMGNpdGF0aW9ucyUzRCUyN2xpYW8yMDA1YSUyNyUyOSUzQg==\")));\n",
       "    "
      ],
      "text/plain": [
       "<IPython.core.display.Javascript object>"
      ]
     },
     "metadata": {},
     "output_type": "display_data"
    },
    {
     "data": {
      "application/javascript": [
       "$('span:contains(\"# Temp\")').closest('.cell').remove();"
      ],
      "text/plain": [
       "<IPython.core.display.Javascript object>"
      ]
     },
     "metadata": {},
     "output_type": "display_data"
    },
    {
     "data": {
      "application/javascript": [
       "\n",
       "        $('span:contains(\"# Temp\")').closest('.cell').remove();\n",
       "        var code = IPython.notebook.insert_cell_below('code');\n",
       "        code.set_text(decodeURIComponent(window.atob(\"JTIzJTIwVGVtcCUwQWluc2VydCUyOCUyNyUyNyUyNyUwQWJ1dGthMGElMjAlM0QlMjBEQiUyOFdvcmtVbnJlbGF0ZWQlMjglMEElMjAlMjAlMjAlMjAwJTJDJTIwJTIyS25vd2xlZGdlLWJhc2VkJTIwUmVwcmVzZW50YXRpb24lMjBmb3IlMjBNb2RlbGluZyUyMG9mJTIwU2VsZWN0ZWQlMjBTb2Z0d2FyZSUyMERldmVsb3BtZW50JTIwTWV0aG9kb2xvZ3klMjIlMkMlMEElMjAlMjAlMjAlMjBkaXNwbGF5JTNEJTIyYnV0a2ElMjIlMkMlMEElMjAlMjAlMjAlMjBhdXRob3JzJTNEJTIyQnV0a2ElMkMlMjBQZXRlciUyMiUyQyUwQSUyMCUyMCUyMCUyMHBsYWNlJTNERkFLRSUyQyUwQSUyMCUyMCUyMCUyMGVudHJ5dHlwZSUzRCUyMmFydGljbGUlMjIlMkMlMEElMjAlMjAlMjAlMjBJRCUzRCUyMmJ1dGtha25vd2xlZGdlJTIyJTJDJTBBJTIwJTIwJTIwJTIwcGxhY2V4JTNEJTIyJTIyJTJDJTBBJTI5JTI5JTBBJTBBREIlMjhDaXRhdGlvbiUyOCUwQSUyMCUyMCUyMCUyMGJ1dGthMGElMkMlMjBsaWFvMjAwNWElMkMlMjByZWYlM0QlMjIlMjIlMkMlMEElMjAlMjAlMjAlMjBjb250ZXh0cyUzRCU1QiUwQSUwQSUyMCUyMCUyMCUyMCU1RCUyQyUwQSUyOSUyOSUwQSUwQSUyNyUyNyUyNyUyQyUyMGNpdGF0aW9ucyUzRCUyN2xpYW8yMDA1YSUyNyUyOSUzQg==\")));\n",
       "    "
      ],
      "text/plain": [
       "<IPython.core.display.Javascript object>"
      ]
     },
     "metadata": {},
     "output_type": "display_data"
    },
    {
     "data": {
      "application/javascript": [
       "$('span:contains(\"# Temp\")').closest('.cell').remove();"
      ],
      "text/plain": [
       "<IPython.core.display.Javascript object>"
      ]
     },
     "metadata": {},
     "output_type": "display_data"
    },
    {
     "data": {
      "application/javascript": [
       "\n",
       "        $('span:contains(\"# Temp\")').closest('.cell').remove();\n",
       "        var code = IPython.notebook.insert_cell_below('code');\n",
       "        code.set_text(decodeURIComponent(window.atob(\"JTIzJTIwVGVtcCUwQWluc2VydCUyOCUyNyUyNyUyNyUwQXNoYW50aGluaTIwMTNhJTIwJTNEJTIwREIlMjhXb3JrVW5yZWxhdGVkJTI4JTBBJTIwJTIwJTIwJTIwMjAxMyUyQyUyMCUyMkdFTkUlMjBPTlRPTE9HWSUyMFNJTUlMQVJJVFklMjBNRVRSSUMlMjBCQVNFRCUyME9OJTIwREFHJTIwVVNJTkclMjBESUFCRVRJQyUyMEdFTkUlMjIlMkMlMEElMjAlMjAlMjAlMjBkaXNwbGF5JTNEJTIyc2hhbnRoaW5pJTIyJTJDJTBBJTIwJTIwJTIwJTIwYXV0aG9ycyUzRCUyMlNoYW50aGluaSUyQyUyMFMlMjBCb29tYSUyMGFuZCUyMEJodXZhbmVzd2FyaSUyQyUyMFYlMjIlMkMlMEElMjAlMjAlMjAlMjBwbGFjZSUzREZBS0UlMkMlMEElMjAlMjAlMjAlMjBwcCUzRCUyMjEwOCUyMiUyQyUwQSUyMCUyMCUyMCUyMGVudHJ5dHlwZSUzRCUyMmFydGljbGUlMjIlMkMlMEElMjAlMjAlMjAlMjB2b2x1bWUlM0QlMjIyJTIyJTJDJTBBJTIwJTIwJTIwJTIwbnVtYmVyJTNEJTIyNSUyMiUyQyUwQSUyMCUyMCUyMCUyMHB1Ymxpc2hlciUzRCUyMkNPTVBVU09GVCUyQyUyMEFuJTIwSW50ZXJuYXRpb25hbCUyMEpvdXJuYWwlMjBvZiUyMEFkdmFuY2VkJTIwQ29tcHV0ZXIlMjBUZWNobm9sb2d5JTIyJTJDJTBBJTIwJTIwJTIwJTIwSUQlM0QlMjJzaGFudGhpbmkyMDEzZ2VuZSUyMiUyQyUwQSUyMCUyMCUyMCUyMHBsYWNleCUzRCUyMkNvbXB1c29mdCUyMiUyQyUwQSUyOSUyOSUwQSUwQURCJTI4Q2l0YXRpb24lMjglMEElMjAlMjAlMjAlMjBzaGFudGhpbmkyMDEzYSUyQyUyMGxpYW8yMDA1YSUyQyUyMHJlZiUzRCUyMiUyMiUyQyUwQSUyMCUyMCUyMCUyMGNvbnRleHRzJTNEJTVCJTBBJTBBJTIwJTIwJTIwJTIwJTVEJTJDJTBBJTI5JTI5JTBBJTBBJTI3JTI3JTI3JTJDJTIwY2l0YXRpb25zJTNEJTI3bGlhbzIwMDVhJTI3JTI5JTNC\")));\n",
       "    "
      ],
      "text/plain": [
       "<IPython.core.display.Javascript object>"
      ]
     },
     "metadata": {},
     "output_type": "display_data"
    },
    {
     "data": {
      "application/javascript": [
       "$('span:contains(\"# Temp\")').closest('.cell').remove();"
      ],
      "text/plain": [
       "<IPython.core.display.Javascript object>"
      ]
     },
     "metadata": {},
     "output_type": "display_data"
    },
    {
     "data": {
      "application/javascript": [
       "\n",
       "        $('span:contains(\"# Temp\")').closest('.cell').remove();\n",
       "        var code = IPython.notebook.insert_cell_below('code');\n",
       "        code.set_text(decodeURIComponent(window.atob(\"JTIzJTIwVGVtcCUwQWluc2VydCUyOCUyNyUyNyUyNyUwQXNoYW50aGluaTIwMTNhJTIwJTNEJTIwREIlMjhXb3JrVW5yZWxhdGVkJTI4JTBBJTIwJTIwJTIwJTIwMjAxMyUyQyUyMCUyMkdFTkUlMjBPTlRPTE9HWSUyMFNJTUlMQVJJVFklMjBNRVRSSUMlMjBCQVNFRCUyME9OJTIwREFHJTIwVVNJTkclMjBESUFCRVRJQyUyMEdFTkUlMjIlMkMlMEElMjAlMjAlMjAlMjBkaXNwbGF5JTNEJTIyc2hhbnRoaW5pJTIyJTJDJTBBJTIwJTIwJTIwJTIwYXV0aG9ycyUzRCUyMlNoYW50aGluaSUyQyUyMFMlMjBCb29tYSUyMGFuZCUyMEJodXZhbmVzd2FyaSUyQyUyMFYlMjIlMkMlMEElMjAlMjAlMjAlMjBwbGFjZSUzREZBS0UlMkMlMEElMjAlMjAlMjAlMjBwcCUzRCUyMjEwOCUyMiUyQyUwQSUyMCUyMCUyMCUyMGVudHJ5dHlwZSUzRCUyMmFydGljbGUlMjIlMkMlMEElMjAlMjAlMjAlMjB2b2x1bWUlM0QlMjIyJTIyJTJDJTBBJTIwJTIwJTIwJTIwbnVtYmVyJTNEJTIyNSUyMiUyQyUwQSUyMCUyMCUyMCUyMHB1Ymxpc2hlciUzRCUyMkNPTVBVU09GVCUyQyUyMEFuJTIwSW50ZXJuYXRpb25hbCUyMEpvdXJuYWwlMjBvZiUyMEFkdmFuY2VkJTIwQ29tcHV0ZXIlMjBUZWNobm9sb2d5JTIyJTJDJTBBJTIwJTIwJTIwJTIwSUQlM0QlMjJzaGFudGhpbmkyMDEzZ2VuZSUyMiUyQyUwQSUyMCUyMCUyMCUyMHBsYWNleCUzRCUyMkNvbXB1c29mdCUyMiUyQyUwQSUyOSUyOSUwQSUwQURCJTI4Q2l0YXRpb24lMjglMEElMjAlMjAlMjAlMjBzaGFudGhpbmkyMDEzYSUyQyUyMGxpYW8yMDA1YSUyQyUyMHJlZiUzRCUyMiUyMiUyQyUwQSUyMCUyMCUyMCUyMGNvbnRleHRzJTNEJTVCJTBBJTBBJTIwJTIwJTIwJTIwJTVEJTJDJTBBJTI5JTI5JTBBJTBBJTI3JTI3JTI3JTJDJTIwY2l0YXRpb25zJTNEJTI3bGlhbzIwMDVhJTI3JTI5JTNC\")));\n",
       "    "
      ],
      "text/plain": [
       "<IPython.core.display.Javascript object>"
      ]
     },
     "metadata": {},
     "output_type": "display_data"
    },
    {
     "data": {
      "application/javascript": [
       "$('span:contains(\"# Temp\")').closest('.cell').remove();"
      ],
      "text/plain": [
       "<IPython.core.display.Javascript object>"
      ]
     },
     "metadata": {},
     "output_type": "display_data"
    },
    {
     "data": {
      "application/javascript": [
       "\n",
       "        $('span:contains(\"# Temp\")').closest('.cell').remove();\n",
       "        var code = IPython.notebook.insert_cell_below('code');\n",
       "        code.set_text(decodeURIComponent(window.atob(\"JTIzJTIwVGVtcCUwQWluc2VydCUyOCUyNyUyNyUyNyUwQW1vcmFhMGElMjAlM0QlMjBEQiUyOFdvcmtVbnJlbGF0ZWQlMjglMEElMjAlMjAlMjAlMjAwJTJDJTIwJTIyT24lMjBvbnRvbG9neS1iYXNlZCUyMEtNUyUyMGZvciUyMGElMjBiZXR0ZXIlMjBhbmQlMjBmYXN0ZXIlMjB1bmRlcnN0YW5kaW5nJTIwb2YlMjBzZXJ2aWNlLW9yaWVudGVkJTIwc3RhbmRhcmRzJTIwYW5kJTIwbW9kZWxzJTIwb2YlMjBwcm9jZXNzZXMlMjBpbiUyMHRoZSUyMGRvbWFpbiUyMG9mJTIwU0UlMkMlMjBTd0UlMjBhbmQlMjBJVCUzQSUyMEElMjBjb25jZXB0dWFsJTIwc3VydmV5JTIyJTJDJTBBJTIwJTIwJTIwJTIwZGlzcGxheSUzRCUyMm1vcmFhJTIyJTJDJTBBJTIwJTIwJTIwJTIwYXV0aG9ycyUzRCUyMk1vcmFhJTJDJTIwTWFudWVsJTIwYW5kJTIwQ2VydmFudGVzLVAlQzMlQTlyZXpiJTJDJTIwRnJhbmNpc2NvJTIwYW5kJTIwR2Fycmlkb2MlMkMlMjBMZW9uYXJkbyUyMGFuZCUyMFdhbmdkJTJDJTIwRmVuJTIwYW5kJTIwQW5nZWwtU2ljaWxpYWUlMkMlMjBNaWd1ZWwlMjIlMkMlMEElMjAlMjAlMjAlMjBwbGFjZSUzREZBS0UlMkMlMEElMjAlMjAlMjAlMjBlbnRyeXR5cGUlM0QlMjJhcnRpY2xlJTIyJTJDJTBBJTIwJTIwJTIwJTIwSUQlM0QlMjJtb3JhYW9udG9sb2d5JTIyJTJDJTBBJTIwJTIwJTIwJTIwcGxhY2V4JTNEJTIyJTIyJTJDJTBBJTI5JTI5JTBBJTBBREIlMjhDaXRhdGlvbiUyOCUwQSUyMCUyMCUyMCUyMG1vcmFhMGElMkMlMjBsaWFvMjAwNWElMkMlMjByZWYlM0QlMjIlMjIlMkMlMEElMjAlMjAlMjAlMjBjb250ZXh0cyUzRCU1QiUwQSUwQSUyMCUyMCUyMCUyMCU1RCUyQyUwQSUyOSUyOSUwQSUwQSUyNyUyNyUyNyUyQyUyMGNpdGF0aW9ucyUzRCUyN2xpYW8yMDA1YSUyNyUyOSUzQg==\")));\n",
       "    "
      ],
      "text/plain": [
       "<IPython.core.display.Javascript object>"
      ]
     },
     "metadata": {},
     "output_type": "display_data"
    },
    {
     "data": {
      "application/javascript": [
       "$('span:contains(\"# Temp\")').closest('.cell').remove();"
      ],
      "text/plain": [
       "<IPython.core.display.Javascript object>"
      ]
     },
     "metadata": {},
     "output_type": "display_data"
    },
    {
     "data": {
      "application/javascript": [
       "\n",
       "        $('span:contains(\"# Temp\")').closest('.cell').remove();\n",
       "        var code = IPython.notebook.insert_cell_below('code');\n",
       "        code.set_text(decodeURIComponent(window.atob(\"JTIzJTIwVGVtcCUwQWluc2VydCUyOCUyNyUyNyUyNyUwQW1vcmFhMGElMjAlM0QlMjBEQiUyOFdvcmtVbnJlbGF0ZWQlMjglMEElMjAlMjAlMjAlMjAwJTJDJTIwJTIyT24lMjBvbnRvbG9neS1iYXNlZCUyMEtNUyUyMGZvciUyMGElMjBiZXR0ZXIlMjBhbmQlMjBmYXN0ZXIlMjB1bmRlcnN0YW5kaW5nJTIwb2YlMjBzZXJ2aWNlLW9yaWVudGVkJTIwc3RhbmRhcmRzJTIwYW5kJTIwbW9kZWxzJTIwb2YlMjBwcm9jZXNzZXMlMjBpbiUyMHRoZSUyMGRvbWFpbiUyMG9mJTIwU0UlMkMlMjBTd0UlMjBhbmQlMjBJVCUzQSUyMEElMjBjb25jZXB0dWFsJTIwc3VydmV5JTIyJTJDJTBBJTIwJTIwJTIwJTIwZGlzcGxheSUzRCUyMm1vcmFhJTIyJTJDJTBBJTIwJTIwJTIwJTIwYXV0aG9ycyUzRCUyMk1vcmFhJTJDJTIwTWFudWVsJTIwYW5kJTIwQ2VydmFudGVzLVAlQzMlQTlyZXpiJTJDJTIwRnJhbmNpc2NvJTIwYW5kJTIwR2Fycmlkb2MlMkMlMjBMZW9uYXJkbyUyMGFuZCUyMFdhbmdkJTJDJTIwRmVuJTIwYW5kJTIwQW5nZWwtU2ljaWxpYWUlMkMlMjBNaWd1ZWwlMjIlMkMlMEElMjAlMjAlMjAlMjBwbGFjZSUzREZBS0UlMkMlMEElMjAlMjAlMjAlMjBlbnRyeXR5cGUlM0QlMjJhcnRpY2xlJTIyJTJDJTBBJTIwJTIwJTIwJTIwSUQlM0QlMjJtb3JhYW9udG9sb2d5JTIyJTJDJTBBJTIwJTIwJTIwJTIwcGxhY2V4JTNEJTIyJTIyJTJDJTBBJTI5JTI5JTBBJTBBREIlMjhDaXRhdGlvbiUyOCUwQSUyMCUyMCUyMCUyMG1vcmFhMGElMkMlMjBsaWFvMjAwNWElMkMlMjByZWYlM0QlMjIlMjIlMkMlMEElMjAlMjAlMjAlMjBjb250ZXh0cyUzRCU1QiUwQSUwQSUyMCUyMCUyMCUyMCU1RCUyQyUwQSUyOSUyOSUwQSUwQSUyNyUyNyUyNyUyQyUyMGNpdGF0aW9ucyUzRCUyN2xpYW8yMDA1YSUyNyUyOSUzQg==\")));\n",
       "    "
      ],
      "text/plain": [
       "<IPython.core.display.Javascript object>"
      ]
     },
     "metadata": {},
     "output_type": "display_data"
    },
    {
     "data": {
      "application/javascript": [
       "$('span:contains(\"# Temp\")').closest('.cell').remove();"
      ],
      "text/plain": [
       "<IPython.core.display.Javascript object>"
      ]
     },
     "metadata": {},
     "output_type": "display_data"
    },
    {
     "data": {
      "application/javascript": [
       "\n",
       "        $('span:contains(\"# Temp\")').closest('.cell').remove();\n",
       "        var code = IPython.notebook.insert_cell_below('code');\n",
       "        code.set_text(decodeURIComponent(window.atob(\"JTIzJTIwVGVtcCUwQWluc2VydCUyOCUyNyUyNyUyNyUwQURCJTI4Q2l0YXRpb24lMjglMEElMjAlMjAlMjAlMjBmaXRzaWxpczIwMTVhJTJDJTIwbGlhbzIwMDVhJTJDJTIwcmVmJTNEJTIyJTIyJTJDJTBBJTIwJTIwJTIwJTIwY29udGV4dHMlM0QlNUIlMEElMEElMjAlMjAlMjAlMjAlNUQlMkMlMEElMjklMjklMEElMEElMjclMjclMjclMkMlMjBjaXRhdGlvbnMlM0QlMjdsaWFvMjAwNWElMjclMjklM0I=\")));\n",
       "    "
      ],
      "text/plain": [
       "<IPython.core.display.Javascript object>"
      ]
     },
     "metadata": {},
     "output_type": "display_data"
    },
    {
     "data": {
      "application/javascript": [
       "$('span:contains(\"# Temp\")').closest('.cell').remove();"
      ],
      "text/plain": [
       "<IPython.core.display.Javascript object>"
      ]
     },
     "metadata": {},
     "output_type": "display_data"
    },
    {
     "data": {
      "application/javascript": [
       "\n",
       "        $('span:contains(\"# Temp\")').closest('.cell').remove();\n",
       "        var code = IPython.notebook.insert_cell_below('code');\n",
       "        code.set_text(decodeURIComponent(window.atob(\"JTIzJTIwVGVtcCUwQWluc2VydCUyOCUyNyUyNyUyNyUwQURCJTI4Q2l0YXRpb24lMjglMEElMjAlMjAlMjAlMjBmaXRzaWxpczIwMTVhJTJDJTIwbGlhbzIwMDVhJTJDJTIwcmVmJTNEJTIyJTIyJTJDJTBBJTIwJTIwJTIwJTIwY29udGV4dHMlM0QlNUIlMEElMEElMjAlMjAlMjAlMjAlNUQlMkMlMEElMjklMjklMEElMEElMjclMjclMjclMkMlMjBjaXRhdGlvbnMlM0QlMjdsaWFvMjAwNWElMjclMjklM0I=\")));\n",
       "    "
      ],
      "text/plain": [
       "<IPython.core.display.Javascript object>"
      ]
     },
     "metadata": {},
     "output_type": "display_data"
    },
    {
     "data": {
      "application/javascript": [
       "$('span:contains(\"# Temp\")').closest('.cell').remove();"
      ],
      "text/plain": [
       "<IPython.core.display.Javascript object>"
      ]
     },
     "metadata": {},
     "output_type": "display_data"
    },
    {
     "data": {
      "application/javascript": [
       "\n",
       "        $('span:contains(\"# Temp\")').closest('.cell').remove();\n",
       "        var code = IPython.notebook.insert_cell_below('code');\n",
       "        code.set_text(decodeURIComponent(window.atob(\"JTIzJTIwVGVtcCUwQWluc2VydCUyOCUyNyUyNyUyNyUwQWNhZGF2aWQwYSUyMCUzRCUyMERCJTI4V29ya1VucmVsYXRlZCUyOCUwQSUyMCUyMCUyMCUyMDAlMkMlMjAlMjJJbnRlcm5hdGlvbmFsJTIwSm91cm5hbCUyMG9mJTIwTW9kZXJuJTIwRWR1Y2F0aW9uJTIwYW5kJTIwQ29tcHV0ZXIlMjBTY2llbmNlJTIwJTI4SUpNRUNTJTI5JTIyJTJDJTBBJTIwJTIwJTIwJTIwZGlzcGxheSUzRCUyMmNhZGF2aWQlMjIlMkMlMEElMjAlMjAlMjAlMjBhdXRob3JzJTNEJTIyQ2FkYXZpZCUyQyUyMEglQzMlQTljdG9yJTIwRiUyMiUyQyUwQSUyMCUyMCUyMCUyMHBsYWNlJTNERkFLRSUyQyUwQSUyMCUyMCUyMCUyMGVudHJ5dHlwZSUzRCUyMmFydGljbGUlMjIlMkMlMEElMjAlMjAlMjAlMjBJRCUzRCUyMmNhZGF2aWRpbnRlcm5hdGlvbmFsJTIyJTJDJTBBJTIwJTIwJTIwJTIwcGxhY2V4JTNEJTIyJTIyJTJDJTBBJTI5JTI5JTBBJTBBREIlMjhDaXRhdGlvbiUyOCUwQSUyMCUyMCUyMCUyMGNhZGF2aWQwYSUyQyUyMGxpYW8yMDA1YSUyQyUyMHJlZiUzRCUyMiUyMiUyQyUwQSUyMCUyMCUyMCUyMGNvbnRleHRzJTNEJTVCJTBBJTBBJTIwJTIwJTIwJTIwJTVEJTJDJTBBJTI5JTI5JTBBJTBBJTI3JTI3JTI3JTJDJTIwY2l0YXRpb25zJTNEJTI3bGlhbzIwMDVhJTI3JTI5JTNC\")));\n",
       "    "
      ],
      "text/plain": [
       "<IPython.core.display.Javascript object>"
      ]
     },
     "metadata": {},
     "output_type": "display_data"
    },
    {
     "data": {
      "application/javascript": [
       "$('span:contains(\"# Temp\")').closest('.cell').remove();"
      ],
      "text/plain": [
       "<IPython.core.display.Javascript object>"
      ]
     },
     "metadata": {},
     "output_type": "display_data"
    },
    {
     "data": {
      "application/javascript": [
       "\n",
       "        $('span:contains(\"# Temp\")').closest('.cell').remove();\n",
       "        var code = IPython.notebook.insert_cell_below('code');\n",
       "        code.set_text(decodeURIComponent(window.atob(\"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\")));\n",
       "    "
      ],
      "text/plain": [
       "<IPython.core.display.Javascript object>"
      ]
     },
     "metadata": {},
     "output_type": "display_data"
    },
    {
     "data": {
      "application/javascript": [
       "$('span:contains(\"# Temp\")').closest('.cell').remove();"
      ],
      "text/plain": [
       "<IPython.core.display.Javascript object>"
      ]
     },
     "metadata": {},
     "output_type": "display_data"
    },
    {
     "data": {
      "application/javascript": [
       "\n",
       "        $('span:contains(\"# Temp\")').closest('.cell').remove();\n",
       "        var code = IPython.notebook.insert_cell_below('code');\n",
       "        code.set_text(decodeURIComponent(window.atob(\"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\")));\n",
       "    "
      ],
      "text/plain": [
       "<IPython.core.display.Javascript object>"
      ]
     },
     "metadata": {},
     "output_type": "display_data"
    },
    {
     "data": {
      "application/javascript": [
       "$('span:contains(\"# Temp\")').closest('.cell').remove();"
      ],
      "text/plain": [
       "<IPython.core.display.Javascript object>"
      ]
     },
     "metadata": {},
     "output_type": "display_data"
    },
    {
     "data": {
      "application/javascript": [
       "\n",
       "        $('span:contains(\"# Temp\")').closest('.cell').remove();\n",
       "        var code = IPython.notebook.insert_cell_below('code');\n",
       "        code.set_text(decodeURIComponent(window.atob(\"JTIzJTIwVGVtcCUwQWluc2VydCUyOCUyNyUyNyUyNyUwQTIwMTFhJTIwJTNEJTIwREIlMjhXb3JrVW5yZWxhdGVkJTI4JTBBJTIwJTIwJTIwJTIwMjAxMSUyQyUyMCUyMk9udG9sb2ppbGVyaW4lMjBvdG9tYXRpayUyMG9sYXJhayUyMGUlN0IlQzUlOUYlN0RsZSU3QiVDNSU5RiU3RHRpcmlsbWVzaSUyMiUyQyUwQSUyMCUyMCUyMCUyMGRpc3BsYXklM0QlMjIlMjIlMkMlMEElMjAlMjAlMjAlMjBhdXRob3JzJTNEJTIyJTdCJUMzJTg3JTdEb2xhayUyQyUyMEFsaSUyMEFscGVyZW4lMjIlMkMlMEElMjAlMjAlMjAlMjBwbGFjZSUzRFRoZXNpcyUyQyUwQSUyMCUyMCUyMCUyMGVudHJ5dHlwZSUzRCUyMnBoZHRoZXNpcyUyMiUyQyUwQSUyMCUyMCUyMCUyMElEJTNEJTIyY2NvbGFrMjAxMW9udG9sb2ppbGVyaW4lMjIlMkMlMEElMjAlMjAlMjAlMjBsb2NhbCUzRCUyMllUJUMzJTlDJTIwRmVuJTIwQmlsaW1sZXJpJTIwRW5zdGl0JUMzJUJDcyVDMyVCQyUyMiUyQyUwQSUyMCUyMCUyMCUyMHBsYWNleCUzRCUyMiUyMiUyQyUwQSUyOSUyOSUwQSUwQURCJTI4Q2l0YXRpb24lMjglMEElMjAlMjAlMjAlMjAyMDExYSUyQyUyMGxpYW8yMDA1YSUyQyUyMHJlZiUzRCUyMiUyMiUyQyUwQSUyMCUyMCUyMCUyMGNvbnRleHRzJTNEJTVCJTBBJTBBJTIwJTIwJTIwJTIwJTVEJTJDJTBBJTI5JTI5JTBBJTBBJTI3JTI3JTI3JTJDJTIwY2l0YXRpb25zJTNEJTI3bGlhbzIwMDVhJTI3JTI5JTNC\")));\n",
       "    "
      ],
      "text/plain": [
       "<IPython.core.display.Javascript object>"
      ]
     },
     "metadata": {},
     "output_type": "display_data"
    },
    {
     "data": {
      "application/javascript": [
       "$('span:contains(\"# Temp\")').closest('.cell').remove();"
      ],
      "text/plain": [
       "<IPython.core.display.Javascript object>"
      ]
     },
     "metadata": {},
     "output_type": "display_data"
    },
    {
     "data": {
      "application/javascript": [
       "\n",
       "        $('span:contains(\"# Temp\")').closest('.cell').remove();\n",
       "        var code = IPython.notebook.insert_cell_below('code');\n",
       "        code.set_text(decodeURIComponent(window.atob(\"JTIzJTIwVGVtcCUwQWluc2VydCUyOCUyNyUyNyUyNyUwQTIwMTFhJTIwJTNEJTIwREIlMjhXb3JrVW5yZWxhdGVkJTI4JTBBJTIwJTIwJTIwJTIwMjAxMSUyQyUyMCUyMk9udG9sb2ppbGVyaW4lMjBvdG9tYXRpayUyMG9sYXJhayUyMGUlN0IlQzUlOUYlN0RsZSU3QiVDNSU5RiU3RHRpcmlsbWVzaSUyMiUyQyUwQSUyMCUyMCUyMCUyMGRpc3BsYXklM0QlMjIlMjIlMkMlMEElMjAlMjAlMjAlMjBhdXRob3JzJTNEJTIyJTdCJUMzJTg3JTdEb2xhayUyQyUyMEFsaSUyMEFscGVyZW4lMjIlMkMlMEElMjAlMjAlMjAlMjBwbGFjZSUzRFRoZXNpcyUyQyUwQSUyMCUyMCUyMCUyMGVudHJ5dHlwZSUzRCUyMnBoZHRoZXNpcyUyMiUyQyUwQSUyMCUyMCUyMCUyMElEJTNEJTIyY2NvbGFrMjAxMW9udG9sb2ppbGVyaW4lMjIlMkMlMEElMjAlMjAlMjAlMjBsb2NhbCUzRCUyMllUJUMzJTlDJTIwRmVuJTIwQmlsaW1sZXJpJTIwRW5zdGl0JUMzJUJDcyVDMyVCQyUyMiUyQyUwQSUyMCUyMCUyMCUyMHBsYWNleCUzRCUyMiUyMiUyQyUwQSUyOSUyOSUwQSUwQURCJTI4Q2l0YXRpb24lMjglMEElMjAlMjAlMjAlMjAyMDExYSUyQyUyMGxpYW8yMDA1YSUyQyUyMHJlZiUzRCUyMiUyMiUyQyUwQSUyMCUyMCUyMCUyMGNvbnRleHRzJTNEJTVCJTBBJTBBJTIwJTIwJTIwJTIwJTVEJTJDJTBBJTI5JTI5JTBBJTBBJTI3JTI3JTI3JTJDJTIwY2l0YXRpb25zJTNEJTI3bGlhbzIwMDVhJTI3JTI5JTNC\")));\n",
       "    "
      ],
      "text/plain": [
       "<IPython.core.display.Javascript object>"
      ]
     },
     "metadata": {},
     "output_type": "display_data"
    },
    {
     "data": {
      "application/javascript": [
       "$('span:contains(\"# Temp\")').closest('.cell').remove();"
      ],
      "text/plain": [
       "<IPython.core.display.Javascript object>"
      ]
     },
     "metadata": {},
     "output_type": "display_data"
    },
    {
     "data": {
      "application/javascript": [
       "\n",
       "        $('span:contains(\"# Temp\")').closest('.cell').remove();\n",
       "        var code = IPython.notebook.insert_cell_below('code');\n",
       "        code.set_text(decodeURIComponent(window.atob(\"JTIzJTIwVGVtcCUwQWluc2VydCUyOCUyNyUyNyUyNyUwQURCJTI4Q2l0YXRpb24lMjglMEElMjAlMjAlMjAlMjBhb3Vzc2F0MjAxMmElMkMlMjBsaWFvMjAwNWElMkMlMjByZWYlM0QlMjIlMjIlMkMlMEElMjAlMjAlMjAlMjBjb250ZXh0cyUzRCU1QiUwQSUwQSUyMCUyMCUyMCUyMCU1RCUyQyUwQSUyOSUyOSUwQSUwQSUyNyUyNyUyNyUyQyUyMGNpdGF0aW9ucyUzRCUyN2xpYW8yMDA1YSUyNyUyOSUzQg==\")));\n",
       "    "
      ],
      "text/plain": [
       "<IPython.core.display.Javascript object>"
      ]
     },
     "metadata": {},
     "output_type": "display_data"
    },
    {
     "data": {
      "application/javascript": [
       "$('span:contains(\"# Temp\")').closest('.cell').remove();"
      ],
      "text/plain": [
       "<IPython.core.display.Javascript object>"
      ]
     },
     "metadata": {},
     "output_type": "display_data"
    },
    {
     "data": {
      "application/javascript": [
       "\n",
       "        $('span:contains(\"# Temp\")').closest('.cell').remove();\n",
       "        var code = IPython.notebook.insert_cell_below('code');\n",
       "        code.set_text(decodeURIComponent(window.atob(\"JTIzJTIwVGVtcCUwQWluc2VydCUyOCUyNyUyNyUyNyUwQURCJTI4Q2l0YXRpb24lMjglMEElMjAlMjAlMjAlMjBhb3Vzc2F0MjAxMmElMkMlMjBsaWFvMjAwNWElMkMlMjByZWYlM0QlMjIlMjIlMkMlMEElMjAlMjAlMjAlMjBjb250ZXh0cyUzRCU1QiUwQSUwQSUyMCUyMCUyMCUyMCU1RCUyQyUwQSUyOSUyOSUwQSUwQSUyNyUyNyUyNyUyQyUyMGNpdGF0aW9ucyUzRCUyN2xpYW8yMDA1YSUyNyUyOSUzQg==\")));\n",
       "    "
      ],
      "text/plain": [
       "<IPython.core.display.Javascript object>"
      ]
     },
     "metadata": {},
     "output_type": "display_data"
    }
   ],
   "source": [
    "manager"
   ]
  },
  {
   "cell_type": "code",
   "execution_count": 48,
   "metadata": {},
   "outputs": [
    {
     "name": "stdout",
     "output_type": "stream",
     "text": [
      "-Insert Import: aoussat2012a\n",
      "-Insert Citation: aoussat2012a -> liao2005a\n"
     ]
    }
   ],
   "source": [
    "# Temp\n",
    "insert('''\n",
    "DB(Citation(\n",
    "    aoussat2012a, liao2005a, ref=\"\",\n",
    "    contexts=[\n",
    "\n",
    "    ],\n",
    "))\n",
    "\n",
    "''', citations='liao2005a');"
   ]
  },
  {
   "cell_type": "code",
   "execution_count": null,
   "metadata": {
    "collapsed": true
   },
   "outputs": [],
   "source": []
  },
  {
   "cell_type": "code",
   "execution_count": null,
   "metadata": {
    "collapsed": true
   },
   "outputs": [],
   "source": [
    "from snowballing.operations import reload\n",
    "reload()"
   ]
  },
  {
   "cell_type": "code",
   "execution_count": null,
   "metadata": {
    "collapsed": true
   },
   "outputs": [],
   "source": []
  }
 ],
 "metadata": {
  "kernelspec": {
   "display_name": "Python 3",
   "language": "python",
   "name": "python3"
  },
  "language_info": {
   "codemirror_mode": {
    "name": "ipython",
    "version": 3
   },
   "file_extension": ".py",
   "mimetype": "text/x-python",
   "name": "python",
   "nbconvert_exporter": "python",
   "pygments_lexer": "ipython3",
   "version": "3.6.0"
  },
  "toc": {
   "nav_menu": {
    "height": "12px",
    "width": "252px"
   },
   "number_sections": true,
   "sideBar": true,
   "skip_h1_title": false,
   "toc_cell": false,
   "toc_position": {},
   "toc_section_display": "block",
   "toc_window_display": false
  }
 },
 "nbformat": 4,
 "nbformat_minor": 1
}
