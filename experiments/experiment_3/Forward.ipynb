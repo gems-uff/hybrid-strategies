{
 "cells": [
  {
   "cell_type": "code",
   "execution_count": null,
   "metadata": {
    "collapsed": true
   },
   "outputs": [],
   "source": [
    "import database\n",
    "from snowballing.operations import load_work, reload, work_by_varname\n",
    "from snowballing.selenium_scholar import SeleniumScholarQuerier\n",
    "from snowballing.snowballing import ForwardSnowballing\n",
    "from snowballing.dbmanager import insert, set_attribute\n",
    "from custom_snowballing import UnrelatedForward"
   ]
  },
  {
   "cell_type": "code",
   "execution_count": 2,
   "metadata": {
    "collapsed": true
   },
   "outputs": [],
   "source": [
    "querier = SeleniumScholarQuerier()"
   ]
  },
  {
   "cell_type": "code",
   "execution_count": 3,
   "metadata": {
    "scrolled": true
   },
   "outputs": [
    {
     "name": "stderr",
     "output_type": "stream",
     "text": [
      "[ INFO]  settings applied\n"
     ]
    }
   ],
   "source": [
    "querier.apply_settings(20, 4);"
   ]
  },
  {
   "cell_type": "code",
   "execution_count": 4,
   "metadata": {},
   "outputs": [
    {
     "name": "stdout",
     "output_type": "stream",
     "text": [
      "Captcha: <ok>\n",
      "Captcha: <ok>\n"
     ]
    }
   ],
   "source": [
    "#manager = ForwardSnowballing(querier, \"mendes2004a\", start=60)\n",
    "import importlib\n",
    "import custom_snowballing\n",
    "importlib.reload(custom_snowballing)\n",
    "from custom_snowballing import UnrelatedForward\n",
    "manager = UnrelatedForward(querier, \"becker2008b\", start=0)"
   ]
  },
  {
   "cell_type": "code",
   "execution_count": 5,
   "metadata": {
    "scrolled": false
   },
   "outputs": [
    {
     "data": {
      "application/vnd.jupyter.widget-view+json": {
       "model_id": "11ae4a65b5864753b207978d2b7a508a",
       "version_major": 2,
       "version_minor": 0
      },
      "text/plain": [
       "A Jupyter Widget"
      ]
     },
     "metadata": {},
     "output_type": "display_data"
    },
    {
     "data": {
      "application/javascript": [
       "$('span:contains(\"# Temp\")').closest('.cell').remove();"
      ],
      "text/plain": [
       "<IPython.core.display.Javascript object>"
      ]
     },
     "metadata": {},
     "output_type": "display_data"
    },
    {
     "data": {
      "application/javascript": [
       "\n",
       "        $('span:contains(\"# Temp\")').closest('.cell').remove();\n",
       "        var code = IPython.notebook.insert_cell_below('code');\n",
       "        code.set_text(decodeURIComponent(window.atob(\"JTIzJTIwVGVtcCUwQWluc2VydCUyOCUyNyUyNyUyNyUwQURCJTI4Q2l0YXRpb24lMjglMEElMjAlMjAlMjAlMjB1bGxhaDIwMTRhJTJDJTIwYmVja2VyMjAwOGIlMkMlMjByZWYlM0QlMjIlMjIlMkMlMEElMjAlMjAlMjAlMjBjb250ZXh0cyUzRCU1QiUwQSUwQSUyMCUyMCUyMCUyMCU1RCUyQyUwQSUyOSUyOSUwQSUwQSUyNyUyNyUyNyUyQyUyMGNpdGF0aW9ucyUzRCUyN2JlY2tlcjIwMDhiJTI3JTI5JTNC\")));\n",
       "    "
      ],
      "text/plain": [
       "<IPython.core.display.Javascript object>"
      ]
     },
     "metadata": {},
     "output_type": "display_data"
    },
    {
     "data": {
      "application/javascript": [
       "$('span:contains(\"# Temp\")').closest('.cell').remove();"
      ],
      "text/plain": [
       "<IPython.core.display.Javascript object>"
      ]
     },
     "metadata": {},
     "output_type": "display_data"
    },
    {
     "data": {
      "application/javascript": [
       "\n",
       "        $('span:contains(\"# Temp\")').closest('.cell').remove();\n",
       "        var code = IPython.notebook.insert_cell_below('code');\n",
       "        code.set_text(decodeURIComponent(window.atob(\"JTIzJTIwVGVtcCUwQWluc2VydCUyOCUyNyUyNyUyNyUwQSVFRCU5NSU5QyVFRCU5OCU4MSVFQyU4OCU5ODIwMTNhJTIwJTNEJTIwREIlMjhXb3JrVW5yZWxhdGVkJTI4JTBBJTIwJTIwJTIwJTIwMjAxMyUyQyUyMCUyMiVFQyU4NiU4QyVFRCU5NCU4NCVFRCU4QSVCOCVFQyU5QiVBOCVFQyU5NiVCNCUyMCVFQSVCMCU5QyVFQyU4NCVBMCVFQyU5RCU4NCUyMCVFQyU5QyU4NCVFRCU5NSU5QyUyMCVFQyU4MiVBQyVFQyU5QSVBOSVFQyU5RSU5MCUyMCVFQSVCMiVCRCVFRCU5NyU5OCUyMCVFQyU4OCU5OCVFQyVBNCU4MCUyMCVFQSVCOCVCMCVFQiVCMCU5OCVFQyU5RCU5OCUyMEthbm8lMjAlRUIlQUElQTglRUIlOEQlQjglMjAlRUMlQTAlODElRUMlOUElQTklMjIlMkMlMEElMjAlMjAlMjAlMjBkaXNwbGF5JTNEJTIyJUVEJTk1JTlDJUVEJTk4JTgxJUVDJTg4JTk4JTIyJTJDJTBBJTIwJTIwJTIwJTIwYXV0aG9ycyUzRCUyMiVFRCU5NSU5QyVFRCU5OCU4MSVFQyU4OCU5OCUyMGFuZCUyMCVFQSVCOSU4MCVFQiVBQyVCOCVFRCU5NSU5OSUyMiUyQyUwQSUyMCUyMCUyMCUyMHBsYWNlJTNERkFLRSUyQyUwQSUyMCUyMCUyMCUyMHBwJTNEJTIyNTExLS01MTMlMjIlMkMlMEElMjAlMjAlMjAlMjBlbnRyeXR5cGUlM0QlMjJhcnRpY2xlJTIyJTJDJTBBJTIwJTIwJTIwJTIwSUQlM0QlMjIlRUQlOTUlOUMlRUQlOTglODElRUMlODglOTgyMDEzJUVDJTg2JThDJUVEJTk0JTg0JUVEJThBJUI4JUVDJTlCJUE4JUVDJTk2JUI0JTIyJTJDJTBBJTIwJTIwJTIwJTIwcGxhY2V4JTNEJTIyJUVEJTk1JTlDJUVBJUI1JUFEJUVDJUEwJTk1JUVCJUIzJUI0JUVBJUIzJUJDJUVEJTk1JTk5JUVEJTlBJThDJTIwJUVEJTk1JTk5JUVDJTg4JUEwJUVCJUIwJTlDJUVEJTkxJTlDJUVCJTg1JUJDJUVCJUFDJUI4JUVDJUE3JTkxJTIyJTJDJTBBJTI5JTI5JTBBJTBBREIlMjhDaXRhdGlvbiUyOCUwQSUyMCUyMCUyMCUyMCVFRCU5NSU5QyVFRCU5OCU4MSVFQyU4OCU5ODIwMTNhJTJDJTIwYmVja2VyMjAwOGIlMkMlMjByZWYlM0QlMjIlMjIlMkMlMEElMjAlMjAlMjAlMjBjb250ZXh0cyUzRCU1QiUwQSUwQSUyMCUyMCUyMCUyMCU1RCUyQyUwQSUyOSUyOSUwQSUwQSUyNyUyNyUyNyUyQyUyMGNpdGF0aW9ucyUzRCUyN2JlY2tlcjIwMDhiJTI3JTI5JTNC\")));\n",
       "    "
      ],
      "text/plain": [
       "<IPython.core.display.Javascript object>"
      ]
     },
     "metadata": {},
     "output_type": "display_data"
    },
    {
     "data": {
      "application/javascript": [
       "$('span:contains(\"# Temp\")').closest('.cell').remove();"
      ],
      "text/plain": [
       "<IPython.core.display.Javascript object>"
      ]
     },
     "metadata": {},
     "output_type": "display_data"
    },
    {
     "data": {
      "application/javascript": [
       "\n",
       "        $('span:contains(\"# Temp\")').closest('.cell').remove();\n",
       "        var code = IPython.notebook.insert_cell_below('code');\n",
       "        code.set_text(decodeURIComponent(window.atob(\"JTIzJTIwVGVtcCUwQWluc2VydCUyOCUyNyUyNyUyNyUwQSVFRCU5NSU5QyVFRCU5OCU4MSVFQyU4OCU5ODIwMTNhJTIwJTNEJTIwREIlMjhXb3JrVW5yZWxhdGVkJTI4JTBBJTIwJTIwJTIwJTIwMjAxMyUyQyUyMCUyMiVFQyU4NiU4QyVFRCU5NCU4NCVFRCU4QSVCOCVFQyU5QiVBOCVFQyU5NiVCNCUyMCVFQSVCMCU5QyVFQyU4NCVBMCVFQyU5RCU4NCUyMCVFQyU5QyU4NCVFRCU5NSU5QyUyMCVFQyU4MiVBQyVFQyU5QSVBOSVFQyU5RSU5MCUyMCVFQSVCMiVCRCVFRCU5NyU5OCUyMCVFQyU4OCU5OCVFQyVBNCU4MCUyMCVFQSVCOCVCMCVFQiVCMCU5OCVFQyU5RCU5OCUyMEthbm8lMjAlRUIlQUElQTglRUIlOEQlQjglMjAlRUMlQTAlODElRUMlOUElQTklMjIlMkMlMEElMjAlMjAlMjAlMjBkaXNwbGF5JTNEJTIyJUVEJTk1JTlDJUVEJTk4JTgxJUVDJTg4JTk4JTIyJTJDJTBBJTIwJTIwJTIwJTIwYXV0aG9ycyUzRCUyMiVFRCU5NSU5QyVFRCU5OCU4MSVFQyU4OCU5OCUyMGFuZCUyMCVFQSVCOSU4MCVFQiVBQyVCOCVFRCU5NSU5OSUyMiUyQyUwQSUyMCUyMCUyMCUyMHBsYWNlJTNERkFLRSUyQyUwQSUyMCUyMCUyMCUyMHBwJTNEJTIyNTExLS01MTMlMjIlMkMlMEElMjAlMjAlMjAlMjBlbnRyeXR5cGUlM0QlMjJhcnRpY2xlJTIyJTJDJTBBJTIwJTIwJTIwJTIwSUQlM0QlMjIlRUQlOTUlOUMlRUQlOTglODElRUMlODglOTgyMDEzJUVDJTg2JThDJUVEJTk0JTg0JUVEJThBJUI4JUVDJTlCJUE4JUVDJTk2JUI0JTIyJTJDJTBBJTIwJTIwJTIwJTIwcGxhY2V4JTNEJTIyJUVEJTk1JTlDJUVBJUI1JUFEJUVDJUEwJTk1JUVCJUIzJUI0JUVBJUIzJUJDJUVEJTk1JTk5JUVEJTlBJThDJTIwJUVEJTk1JTk5JUVDJTg4JUEwJUVCJUIwJTlDJUVEJTkxJTlDJUVCJTg1JUJDJUVCJUFDJUI4JUVDJUE3JTkxJTIyJTJDJTBBJTI5JTI5JTBBJTBBREIlMjhDaXRhdGlvbiUyOCUwQSUyMCUyMCUyMCUyMCVFRCU5NSU5QyVFRCU5OCU4MSVFQyU4OCU5ODIwMTNhJTJDJTIwYmVja2VyMjAwOGIlMkMlMjByZWYlM0QlMjIlMjIlMkMlMEElMjAlMjAlMjAlMjBjb250ZXh0cyUzRCU1QiUwQSUwQSUyMCUyMCUyMCUyMCU1RCUyQyUwQSUyOSUyOSUwQSUwQSUyNyUyNyUyNyUyQyUyMGNpdGF0aW9ucyUzRCUyN2JlY2tlcjIwMDhiJTI3JTI5JTNC\")));\n",
       "    "
      ],
      "text/plain": [
       "<IPython.core.display.Javascript object>"
      ]
     },
     "metadata": {},
     "output_type": "display_data"
    },
    {
     "data": {
      "application/javascript": [
       "$('span:contains(\"# Temp\")').closest('.cell').remove();"
      ],
      "text/plain": [
       "<IPython.core.display.Javascript object>"
      ]
     },
     "metadata": {},
     "output_type": "display_data"
    },
    {
     "data": {
      "application/javascript": [
       "\n",
       "        $('span:contains(\"# Temp\")').closest('.cell').remove();\n",
       "        var code = IPython.notebook.insert_cell_below('code');\n",
       "        code.set_text(decodeURIComponent(window.atob(\"JTIzJTIwVGVtcCUwQWluc2VydCUyOCUyNyUyNyUyNyUwQWxhbmcyMDEzYSUyMCUzRCUyMERCJTI4V29ya1VucmVsYXRlZCUyOCUwQSUyMCUyMCUyMCUyMDIwMTMlMkMlMjAlMjIlRUMlODYlOEMlRUQlOTQlODQlRUQlOEElQjglRUMlOUIlQTglRUMlOTYlQjQlMjAlRUElQjAlOUMlRUMlODQlQTAlRUMlOUQlODQlMjAlRUMlOUMlODQlRUQlOTUlOUMlMjAlRUMlODIlQUMlRUMlOUElQTklRUMlOUUlOTAlMjAlRUElQjIlQkQlRUQlOTclOTglMjAlRUMlODglOTglRUMlQTQlODAlMjAlRUElQjglQjAlRUIlQjAlOTglRUMlOUQlOTglMjBLYW5vJTIwJUVCJUFBJUE4JUVCJThEJUI4JTIwJUVDJUEwJTgxJUVDJTlBJUE5JTIyJTJDJTBBJTIwJTIwJTIwJTIwZGlzcGxheSUzRCUyMmxhbmclMjIlMkMlMEElMjAlMjAlMjAlMjBhdXRob3JzJTNEJTIyJUVEJTk1JTlDJUVEJTk4JTgxJUVDJTg4JTk4JTIwYW5kJTIwJUVBJUI5JTgwJUVCJUFDJUI4JUVEJTk1JTk5JTIyJTJDJTBBJTIwJTIwJTIwJTIwcGxhY2UlM0RGQUtFJTJDJTBBJTIwJTIwJTIwJTIwcHAlM0QlMjI1MTEtLTUxMyUyMiUyQyUwQSUyMCUyMCUyMCUyMGVudHJ5dHlwZSUzRCUyMmFydGljbGUlMjIlMkMlMEElMjAlMjAlMjAlMjBJRCUzRCUyMiVFRCU5NSU5QyVFRCU5OCU4MSVFQyU4OCU5ODIwMTMlRUMlODYlOEMlRUQlOTQlODQlRUQlOEElQjglRUMlOUIlQTglRUMlOTYlQjQlMjIlMkMlMEElMjAlMjAlMjAlMjBwbGFjZXglM0QlMjIlRUQlOTUlOUMlRUElQjUlQUQlRUMlQTAlOTUlRUIlQjMlQjQlRUElQjMlQkMlRUQlOTUlOTklRUQlOUElOEMlMjAlRUQlOTUlOTklRUMlODglQTAlRUIlQjAlOUMlRUQlOTElOUMlRUIlODUlQkMlRUIlQUMlQjglRUMlQTclOTElMjIlMkMlMEElMjklMjklMEElMEFEQiUyOENpdGF0aW9uJTI4JTBBJTIwJTIwJTIwJTIwbGFuZzIwMTNhJTJDJTIwYmVja2VyMjAwOGIlMkMlMjByZWYlM0QlMjIlMjIlMkMlMEElMjAlMjAlMjAlMjBjb250ZXh0cyUzRCU1QiUwQSUwQSUyMCUyMCUyMCUyMCU1RCUyQyUwQSUyOSUyOSUwQSUwQSUyNyUyNyUyNyUyQyUyMGNpdGF0aW9ucyUzRCUyN2JlY2tlcjIwMDhiJTI3JTI5JTNC\")));\n",
       "    "
      ],
      "text/plain": [
       "<IPython.core.display.Javascript object>"
      ]
     },
     "metadata": {},
     "output_type": "display_data"
    },
    {
     "data": {
      "application/javascript": [
       "$('span:contains(\"# Temp\")').closest('.cell').remove();"
      ],
      "text/plain": [
       "<IPython.core.display.Javascript object>"
      ]
     },
     "metadata": {},
     "output_type": "display_data"
    },
    {
     "data": {
      "application/javascript": [
       "\n",
       "        $('span:contains(\"# Temp\")').closest('.cell').remove();\n",
       "        var code = IPython.notebook.insert_cell_below('code');\n",
       "        code.set_text(decodeURIComponent(window.atob(\"JTIzJTIwVGVtcCUwQWluc2VydCUyOCUyNyUyNyUyNyUwQWxhbmcyMDEzYiUyMCUzRCUyMERCJTI4V29ya1VucmVsYXRlZCUyOCUwQSUyMCUyMCUyMCUyMDIwMTMlMkMlMjAlMjIlRUMlODYlOEMlRUQlOTQlODQlRUQlOEElQjglRUMlOUIlQTglRUMlOTYlQjQlMjAlRUElQjAlOUMlRUMlODQlQTAlRUMlOUQlODQlMjAlRUMlOUMlODQlRUQlOTUlOUMlMjAlRUMlODIlQUMlRUMlOUElQTklRUMlOUUlOTAlMjAlRUElQjclQjglRUIlQTMlQjklMjAlRUElQjglQjAlRUIlQjAlOTglRUMlOUQlOTglMjBLYW5vJTIwJUVCJUFBJUE4JUVCJThEJUI4JTIwJUVDJUEwJTgxJUVDJTlBJUE5JTIwJUVCJUIwJUE5JUVDJTk1JTg4JTIyJTJDJTBBJTIwJTIwJTIwJTIwZGlzcGxheSUzRCUyMmxhbmclMjIlMkMlMEElMjAlMjAlMjAlMjBhdXRob3JzJTNEJTIyJUVEJTk1JTlDJUVEJTk4JTgxJUVDJTg4JTk4JTIwYW5kJTIwJUVBJUI5JTgwJUVCJUFDJUI4JUVEJTk1JTk5JTIyJTJDJTBBJTIwJTIwJTIwJTIwcGxhY2UlM0RGQUtFJTJDJTBBJTIwJTIwJTIwJTIwcHAlM0QlMjI2NzUtLTY4MyUyMiUyQyUwQSUyMCUyMCUyMCUyMGVudHJ5dHlwZSUzRCUyMmFydGljbGUlMjIlMkMlMEElMjAlMjAlMjAlMjB2b2x1bWUlM0QlMjI0MCUyMiUyQyUwQSUyMCUyMCUyMCUyMG51bWJlciUzRCUyMjExJTIyJTJDJTBBJTIwJTIwJTIwJTIwSUQlM0QlMjIlRUQlOTUlOUMlRUQlOTglODElRUMlODglOTgyMDEzJUVDJTg2JThDJUVEJTk0JTg0JUVEJThBJUI4JUVDJTlCJUE4JUVDJTk2JUI0JTIyJTJDJTBBJTIwJTIwJTIwJTIwcGxhY2V4JTNEJTIyJUVDJUEwJTk1JUVCJUIzJUI0JUVBJUIzJUJDJUVEJTk1JTk5JUVEJTlBJThDJUVCJTg1JUJDJUVCJUFDJUI4JUVDJUE3JTgwJTNBJTIwJUVDJTg2JThDJUVEJTk0JTg0JUVEJThBJUI4JUVDJTlCJUE4JUVDJTk2JUI0JTIwJUVCJUIwJThGJTIwJUVDJTlEJTkxJUVDJTlBJUE5JTIyJTJDJTBBJTI5JTI5JTBBJTBBREIlMjhDaXRhdGlvbiUyOCUwQSUyMCUyMCUyMCUyMGxhbmcyMDEzYiUyQyUyMGJlY2tlcjIwMDhiJTJDJTIwcmVmJTNEJTIyJTIyJTJDJTBBJTIwJTIwJTIwJTIwY29udGV4dHMlM0QlNUIlMEElMEElMjAlMjAlMjAlMjAlNUQlMkMlMEElMjklMjklMEElMEElMjclMjclMjclMkMlMjBjaXRhdGlvbnMlM0QlMjdiZWNrZXIyMDA4YiUyNyUyOSUzQg==\")));\n",
       "    "
      ],
      "text/plain": [
       "<IPython.core.display.Javascript object>"
      ]
     },
     "metadata": {},
     "output_type": "display_data"
    },
    {
     "data": {
      "application/javascript": [
       "$('span:contains(\"# Temp\")').closest('.cell').remove();"
      ],
      "text/plain": [
       "<IPython.core.display.Javascript object>"
      ]
     },
     "metadata": {},
     "output_type": "display_data"
    },
    {
     "data": {
      "application/javascript": [
       "\n",
       "        $('span:contains(\"# Temp\")').closest('.cell').remove();\n",
       "        var code = IPython.notebook.insert_cell_below('code');\n",
       "        code.set_text(decodeURIComponent(window.atob(\"JTIzJTIwVGVtcCUwQWluc2VydCUyOCUyNyUyNyUyNyUwQSVFRCU5NSU5QyVFRCU5OCU4MSVFQyU4OCU5ODIwMTNhJTIwJTNEJTIwREIlMjhXb3JrVW5yZWxhdGVkJTI4JTBBJTIwJTIwJTIwJTIwMjAxMyUyQyUyMCUyMiVFQyU4NiU4QyVFRCU5NCU4NCVFRCU4QSVCOCVFQyU5QiVBOCVFQyU5NiVCNCUyMCVFQSVCMCU5QyVFQyU4NCVBMCVFQyU5RCU4NCUyMCVFQyU5QyU4NCVFRCU5NSU5QyUyMCVFQyU4MiVBQyVFQyU5QSVBOSVFQyU5RSU5MCUyMCVFQSVCNyVCOCVFQiVBMyVCOSUyMCVFQSVCOCVCMCVFQiVCMCU5OCVFQyU5RCU5OCUyMEthbm8lMjAlRUIlQUElQTglRUIlOEQlQjglMjAlRUMlQTAlODElRUMlOUElQTklMjAlRUIlQjAlQTklRUMlOTUlODglMjIlMkMlMEElMjAlMjAlMjAlMjBkaXNwbGF5JTNEJTIyJUVEJTk1JTlDJUVEJTk4JTgxJUVDJTg4JTk4JTIyJTJDJTBBJTIwJTIwJTIwJTIwYXV0aG9ycyUzRCUyMiVFRCU5NSU5QyVFRCU5OCU4MSVFQyU4OCU5OCUyMGFuZCUyMCVFQSVCOSU4MCVFQiVBQyVCOCVFRCU5NSU5OSUyMiUyQyUwQSUyMCUyMCUyMCUyMHBsYWNlJTNERkFLRSUyQyUwQSUyMCUyMCUyMCUyMHBwJTNEJTIyNjc1LS02ODMlMjIlMkMlMEElMjAlMjAlMjAlMjBlbnRyeXR5cGUlM0QlMjJhcnRpY2xlJTIyJTJDJTBBJTIwJTIwJTIwJTIwdm9sdW1lJTNEJTIyNDAlMjIlMkMlMEElMjAlMjAlMjAlMjBudW1iZXIlM0QlMjIxMSUyMiUyQyUwQSUyMCUyMCUyMCUyMElEJTNEJTIyJUVEJTk1JTlDJUVEJTk4JTgxJUVDJTg4JTk4MjAxMyVFQyU4NiU4QyVFRCU5NCU4NCVFRCU4QSVCOCVFQyU5QiVBOCVFQyU5NiVCNCUyMiUyQyUwQSUyMCUyMCUyMCUyMHBsYWNleCUzRCUyMiVFQyVBMCU5NSVFQiVCMyVCNCVFQSVCMyVCQyVFRCU5NSU5OSVFRCU5QSU4QyVFQiU4NSVCQyVFQiVBQyVCOCVFQyVBNyU4MCUzQSUyMCVFQyU4NiU4QyVFRCU5NCU4NCVFRCU4QSVCOCVFQyU5QiVBOCVFQyU5NiVCNCUyMCVFQiVCMCU4RiUyMCVFQyU5RCU5MSVFQyU5QSVBOSUyMiUyQyUwQSUyOSUyOSUwQSUwQURCJTI4Q2l0YXRpb24lMjglMEElMjAlMjAlMjAlMjAlRUQlOTUlOUMlRUQlOTglODElRUMlODglOTgyMDEzYSUyQyUyMGJlY2tlcjIwMDhiJTJDJTIwcmVmJTNEJTIyJTIyJTJDJTBBJTIwJTIwJTIwJTIwY29udGV4dHMlM0QlNUIlMEElMEElMjAlMjAlMjAlMjAlNUQlMkMlMEElMjklMjklMEElMEElMjclMjclMjclMkMlMjBjaXRhdGlvbnMlM0QlMjdiZWNrZXIyMDA4YiUyNyUyOSUzQg==\")));\n",
       "    "
      ],
      "text/plain": [
       "<IPython.core.display.Javascript object>"
      ]
     },
     "metadata": {},
     "output_type": "display_data"
    },
    {
     "data": {
      "application/javascript": [
       "$('span:contains(\"# Temp\")').closest('.cell').remove();"
      ],
      "text/plain": [
       "<IPython.core.display.Javascript object>"
      ]
     },
     "metadata": {},
     "output_type": "display_data"
    },
    {
     "data": {
      "application/javascript": [
       "\n",
       "        $('span:contains(\"# Temp\")').closest('.cell').remove();\n",
       "        var code = IPython.notebook.insert_cell_below('code');\n",
       "        code.set_text(decodeURIComponent(window.atob(\"JTIzJTIwVGVtcCUwQWluc2VydCUyOCUyNyUyNyUyNyUwQWxhbmcyMDEzYiUyMCUzRCUyMERCJTI4V29ya1VucmVsYXRlZCUyOCUwQSUyMCUyMCUyMCUyMDIwMTMlMkMlMjAlMjIlRUMlODYlOEMlRUQlOTQlODQlRUQlOEElQjglRUMlOUIlQTglRUMlOTYlQjQlMjAlRUElQjAlOUMlRUMlODQlQTAlRUMlOUQlODQlMjAlRUMlOUMlODQlRUQlOTUlOUMlMjAlRUMlODIlQUMlRUMlOUElQTklRUMlOUUlOTAlMjAlRUElQjclQjglRUIlQTMlQjklMjAlRUElQjglQjAlRUIlQjAlOTglRUMlOUQlOTglMjBLYW5vJTIwJUVCJUFBJUE4JUVCJThEJUI4JTIwJUVDJUEwJTgxJUVDJTlBJUE5JTIwJUVCJUIwJUE5JUVDJTk1JTg4JTIyJTJDJTBBJTIwJTIwJTIwJTIwZGlzcGxheSUzRCUyMmxhbmclMjIlMkMlMEElMjAlMjAlMjAlMjBhdXRob3JzJTNEJTIyJUVEJTk1JTlDJUVEJTk4JTgxJUVDJTg4JTk4JTIwYW5kJTIwJUVBJUI5JTgwJUVCJUFDJUI4JUVEJTk1JTk5JTIyJTJDJTBBJTIwJTIwJTIwJTIwcGxhY2UlM0RGQUtFJTJDJTBBJTIwJTIwJTIwJTIwcHAlM0QlMjI2NzUtLTY4MyUyMiUyQyUwQSUyMCUyMCUyMCUyMGVudHJ5dHlwZSUzRCUyMmFydGljbGUlMjIlMkMlMEElMjAlMjAlMjAlMjB2b2x1bWUlM0QlMjI0MCUyMiUyQyUwQSUyMCUyMCUyMCUyMG51bWJlciUzRCUyMjExJTIyJTJDJTBBJTIwJTIwJTIwJTIwSUQlM0QlMjIlRUQlOTUlOUMlRUQlOTglODElRUMlODglOTgyMDEzJUVDJTg2JThDJUVEJTk0JTg0JUVEJThBJUI4JUVDJTlCJUE4JUVDJTk2JUI0JTIyJTJDJTBBJTIwJTIwJTIwJTIwcGxhY2V4JTNEJTIyJUVDJUEwJTk1JUVCJUIzJUI0JUVBJUIzJUJDJUVEJTk1JTk5JUVEJTlBJThDJUVCJTg1JUJDJUVCJUFDJUI4JUVDJUE3JTgwJTNBJTIwJUVDJTg2JThDJUVEJTk0JTg0JUVEJThBJUI4JUVDJTlCJUE4JUVDJTk2JUI0JTIwJUVCJUIwJThGJTIwJUVDJTlEJTkxJUVDJTlBJUE5JTIyJTJDJTBBJTI5JTI5JTBBJTBBREIlMjhDaXRhdGlvbiUyOCUwQSUyMCUyMCUyMCUyMGxhbmcyMDEzYiUyQyUyMGJlY2tlcjIwMDhiJTJDJTIwcmVmJTNEJTIyJTIyJTJDJTBBJTIwJTIwJTIwJTIwY29udGV4dHMlM0QlNUIlMEElMEElMjAlMjAlMjAlMjAlNUQlMkMlMEElMjklMjklMEElMEElMjclMjclMjclMkMlMjBjaXRhdGlvbnMlM0QlMjdiZWNrZXIyMDA4YiUyNyUyOSUzQg==\")));\n",
       "    "
      ],
      "text/plain": [
       "<IPython.core.display.Javascript object>"
      ]
     },
     "metadata": {},
     "output_type": "display_data"
    },
    {
     "data": {
      "application/javascript": [
       "$('span:contains(\"# Temp\")').closest('.cell').remove();"
      ],
      "text/plain": [
       "<IPython.core.display.Javascript object>"
      ]
     },
     "metadata": {},
     "output_type": "display_data"
    },
    {
     "data": {
      "application/javascript": [
       "\n",
       "        $('span:contains(\"# Temp\")').closest('.cell').remove();\n",
       "        var code = IPython.notebook.insert_cell_below('code');\n",
       "        code.set_text(decodeURIComponent(window.atob(\"JTIzJTIwVGVtcCUwQWluc2VydCUyOCUyNyUyNyUyNyUwQWxhbmcwYSUyMCUzRCUyMERCJTI4V29ya1VucmVsYXRlZCUyOCUwQSUyMCUyMCUyMCUyMDAlMkMlMjAlMjJJTlNJR0hUUyUzQSUyMElOU0lHSFRTJTNBJTIwQU5BTFlTSVMlMjBPRiUyMFRIRSUyMFBBUkFESUdNJTIwT0YlMjBUSEUlMjBQUk9WSVNJT04lMjBPRiUyMElORk9STUFUSU9OJTIwVEVDSE5PTE9HWSUyMFNFUlZJQ0VTJTIwVE8lMjBUSEUlMjBCUkFaSUxJQU4lMjBGRURFUkFMJTIwUFVCTElDJTIwQURNSU5JU1RSQVRJT04uJTIyJTJDJTBBJTIwJTIwJTIwJTIwZGlzcGxheSUzRCUyMmxhbmclMjIlMkMlMEElMjAlMjAlMjAlMjBhdXRob3JzJTNEJTIyTW9yZWlyYSUyQyUyMFJlbmF0YSUyMFRlbGVzJTIyJTJDJTBBJTIwJTIwJTIwJTIwcGxhY2UlM0RGQUtFJTJDJTBBJTIwJTIwJTIwJTIwZW50cnl0eXBlJTNEJTIyYXJ0aWNsZSUyMiUyQyUwQSUyMCUyMCUyMCUyMElEJTNEJTIybW9yZWlyYWluc2lnaHRzJTIyJTJDJTBBJTIwJTIwJTIwJTIwcGxhY2V4JTNEJTIyJTIyJTJDJTBBJTI5JTI5JTBBJTBBREIlMjhDaXRhdGlvbiUyOCUwQSUyMCUyMCUyMCUyMGxhbmcwYSUyQyUyMGJlY2tlcjIwMDhiJTJDJTIwcmVmJTNEJTIyJTIyJTJDJTBBJTIwJTIwJTIwJTIwY29udGV4dHMlM0QlNUIlMEElMEElMjAlMjAlMjAlMjAlNUQlMkMlMEElMjklMjklMEElMEElMjclMjclMjclMkMlMjBjaXRhdGlvbnMlM0QlMjdiZWNrZXIyMDA4YiUyNyUyOSUzQg==\")));\n",
       "    "
      ],
      "text/plain": [
       "<IPython.core.display.Javascript object>"
      ]
     },
     "metadata": {},
     "output_type": "display_data"
    },
    {
     "data": {
      "application/javascript": [
       "$('span:contains(\"# Temp\")').closest('.cell').remove();"
      ],
      "text/plain": [
       "<IPython.core.display.Javascript object>"
      ]
     },
     "metadata": {},
     "output_type": "display_data"
    },
    {
     "data": {
      "application/javascript": [
       "\n",
       "        $('span:contains(\"# Temp\")').closest('.cell').remove();\n",
       "        var code = IPython.notebook.insert_cell_below('code');\n",
       "        code.set_text(decodeURIComponent(window.atob(\"JTIzJTIwVGVtcCUwQWluc2VydCUyOCUyNyUyNyUyNyUwQW1vcmVpcmEwYSUyMCUzRCUyMERCJTI4V29ya1VucmVsYXRlZCUyOCUwQSUyMCUyMCUyMCUyMDAlMkMlMjAlMjJJTlNJR0hUUyUzQSUyMElOU0lHSFRTJTNBJTIwQU5BTFlTSVMlMjBPRiUyMFRIRSUyMFBBUkFESUdNJTIwT0YlMjBUSEUlMjBQUk9WSVNJT04lMjBPRiUyMElORk9STUFUSU9OJTIwVEVDSE5PTE9HWSUyMFNFUlZJQ0VTJTIwVE8lMjBUSEUlMjBCUkFaSUxJQU4lMjBGRURFUkFMJTIwUFVCTElDJTIwQURNSU5JU1RSQVRJT04uJTIyJTJDJTBBJTIwJTIwJTIwJTIwZGlzcGxheSUzRCUyMm1vcmVpcmElMjIlMkMlMEElMjAlMjAlMjAlMjBhdXRob3JzJTNEJTIyTW9yZWlyYSUyQyUyMFJlbmF0YSUyMFRlbGVzJTIyJTJDJTBBJTIwJTIwJTIwJTIwcGxhY2UlM0RGQUtFJTJDJTBBJTIwJTIwJTIwJTIwZW50cnl0eXBlJTNEJTIyYXJ0aWNsZSUyMiUyQyUwQSUyMCUyMCUyMCUyMElEJTNEJTIybW9yZWlyYWluc2lnaHRzJTIyJTJDJTBBJTIwJTIwJTIwJTIwcGxhY2V4JTNEJTIyJTIyJTJDJTBBJTI5JTI5JTBBJTBBREIlMjhDaXRhdGlvbiUyOCUwQSUyMCUyMCUyMCUyMG1vcmVpcmEwYSUyQyUyMGJlY2tlcjIwMDhiJTJDJTIwcmVmJTNEJTIyJTIyJTJDJTBBJTIwJTIwJTIwJTIwY29udGV4dHMlM0QlNUIlMEElMEElMjAlMjAlMjAlMjAlNUQlMkMlMEElMjklMjklMEElMEElMjclMjclMjclMkMlMjBjaXRhdGlvbnMlM0QlMjdiZWNrZXIyMDA4YiUyNyUyOSUzQg==\")));\n",
       "    "
      ],
      "text/plain": [
       "<IPython.core.display.Javascript object>"
      ]
     },
     "metadata": {},
     "output_type": "display_data"
    },
    {
     "data": {
      "application/javascript": [
       "$('span:contains(\"# Temp\")').closest('.cell').remove();"
      ],
      "text/plain": [
       "<IPython.core.display.Javascript object>"
      ]
     },
     "metadata": {},
     "output_type": "display_data"
    },
    {
     "data": {
      "application/javascript": [
       "\n",
       "        $('span:contains(\"# Temp\")').closest('.cell').remove();\n",
       "        var code = IPython.notebook.insert_cell_below('code');\n",
       "        code.set_text(decodeURIComponent(window.atob(\"JTIzJTIwVGVtcCUwQWluc2VydCUyOCUyNyUyNyUyNyUwQURCJTI4Q2l0YXRpb24lMjglMEElMjAlMjAlMjAlMjBtb3JlaXJhMjAxN2ElMkMlMjBiZWNrZXIyMDA4YiUyQyUyMHJlZiUzRCUyMiUyMiUyQyUwQSUyMCUyMCUyMCUyMGNvbnRleHRzJTNEJTVCJTBBJTBBJTIwJTIwJTIwJTIwJTVEJTJDJTBBJTI5JTI5JTBBJTBBJTI3JTI3JTI3JTJDJTIwY2l0YXRpb25zJTNEJTI3YmVja2VyMjAwOGIlMjclMjklM0I=\")));\n",
       "    "
      ],
      "text/plain": [
       "<IPython.core.display.Javascript object>"
      ]
     },
     "metadata": {},
     "output_type": "display_data"
    },
    {
     "data": {
      "application/javascript": [
       "$('span:contains(\"# Temp\")').closest('.cell').remove();"
      ],
      "text/plain": [
       "<IPython.core.display.Javascript object>"
      ]
     },
     "metadata": {},
     "output_type": "display_data"
    },
    {
     "data": {
      "application/javascript": [
       "\n",
       "        $('span:contains(\"# Temp\")').closest('.cell').remove();\n",
       "        var code = IPython.notebook.insert_cell_below('code');\n",
       "        code.set_text(decodeURIComponent(window.atob(\"JTIzJTIwVGVtcCUwQWluc2VydCUyOCUyNyUyNyUyNyUwQURCJTI4Q2l0YXRpb24lMjglMEElMjAlMjAlMjAlMjBtb3JlaXJhMjAxN2IlMkMlMjBiZWNrZXIyMDA4YiUyQyUyMHJlZiUzRCUyMiUyMiUyQyUwQSUyMCUyMCUyMCUyMGNvbnRleHRzJTNEJTVCJTBBJTBBJTIwJTIwJTIwJTIwJTVEJTJDJTBBJTI5JTI5JTBBJTBBJTI3JTI3JTI3JTJDJTIwY2l0YXRpb25zJTNEJTI3YmVja2VyMjAwOGIlMjclMjklM0I=\")));\n",
       "    "
      ],
      "text/plain": [
       "<IPython.core.display.Javascript object>"
      ]
     },
     "metadata": {},
     "output_type": "display_data"
    },
    {
     "data": {
      "application/javascript": [
       "$('span:contains(\"# Temp\")').closest('.cell').remove();"
      ],
      "text/plain": [
       "<IPython.core.display.Javascript object>"
      ]
     },
     "metadata": {},
     "output_type": "display_data"
    }
   ],
   "source": [
    "manager"
   ]
  },
  {
   "cell_type": "code",
   "execution_count": null,
   "metadata": {
    "collapsed": true
   },
   "outputs": [],
   "source": []
  },
  {
   "cell_type": "code",
   "execution_count": null,
   "metadata": {
    "collapsed": true
   },
   "outputs": [],
   "source": [
    "from snowballing.operations import reload\n",
    "reload()"
   ]
  },
  {
   "cell_type": "code",
   "execution_count": null,
   "metadata": {
    "collapsed": true
   },
   "outputs": [],
   "source": []
  }
 ],
 "metadata": {
  "kernelspec": {
   "display_name": "Python 3",
   "language": "python",
   "name": "python3"
  },
  "language_info": {
   "codemirror_mode": {
    "name": "ipython",
    "version": 3
   },
   "file_extension": ".py",
   "mimetype": "text/x-python",
   "name": "python",
   "nbconvert_exporter": "python",
   "pygments_lexer": "ipython3",
   "version": "3.6.0"
  },
  "toc": {
   "nav_menu": {
    "height": "12px",
    "width": "252px"
   },
   "number_sections": true,
   "sideBar": true,
   "skip_h1_title": false,
   "toc_cell": false,
   "toc_position": {},
   "toc_section_display": "block",
   "toc_window_display": false
  }
 },
 "nbformat": 4,
 "nbformat_minor": 1
}
