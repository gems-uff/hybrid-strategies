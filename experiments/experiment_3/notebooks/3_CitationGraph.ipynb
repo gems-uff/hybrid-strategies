{
 "cells": [
  {
   "cell_type": "markdown",
   "metadata": {},
   "source": [
    "# Investigating Hybrid Strategies for Systematic Literature Review\n",
    "## Citation Graph\n",
    "**Experiment 3**"
   ]
  },
  {
   "cell_type": "code",
   "execution_count": 4,
   "metadata": {
    "collapsed": true,
    "scrolled": false
   },
   "outputs": [],
   "source": [
    "import os, sys\n",
    "sys.path.insert(1, os.path.join(sys.path[0], '..'))\n",
    "import database\n",
    "from hover_graph import HoverGraph as Graph\n",
    "from snowballing.operations import reload\n",
    "reload()"
   ]
  },
  {
   "cell_type": "code",
   "execution_count": 5,
   "metadata": {
    "scrolled": false
   },
   "outputs": [
    {
     "data": {
      "application/vnd.jupyter.widget-view+json": {
       "model_id": "c9f45894654d4dc4a46dec8243f84456",
       "version_major": 2,
       "version_minor": 0
      },
      "text/html": [
       "<p>Failed to display Jupyter Widget of type <code>HoverGraph</code>.</p>\n",
       "<p>\n",
       "  If you're reading this message in Jupyter Notebook or JupyterLab, it may mean\n",
       "  that the widgets JavaScript is still loading. If this message persists, it\n",
       "  likely means that the widgets JavaScript library is either not installed or\n",
       "  not enabled. See the <a href=\"https://ipywidgets.readthedocs.io/en/stable/user_install.html\">Jupyter\n",
       "  Widgets Documentation</a> for setup instructions.\n",
       "</p>\n",
       "<p>\n",
       "  If you're reading this message in another notebook frontend (for example, a static\n",
       "  rendering on GitHub or <a href=\"https://nbviewer.jupyter.org/\">NBViewer</a>),\n",
       "  it may mean that your frontend doesn't currently support widgets.\n",
       "</p>\n"
      ],
      "text/plain": [
       "HoverGraph(children=(HBox(children=(VBox(children=(Text(value='', description='Filter In'), Text(value='', description='Filter Out'), ToggleButton(value=True, description='WorkSnowball'), ToggleButton(value=False, description='WorkUnrelated'), ToggleButton(value=False, description='Work'), ToggleButton(value=False, description='WorkOk'), ToggleButton(value=False, description='WorkNoFile'), ToggleButton(value=False, description='WorkLang'), ToggleButton(value=False, description='Email'), HBox(children=(ColorPicker(value='#6DCE9E', description='WorkSnowball', layout=Layout(display='')), ColorPicker(value='white', layout=Layout(display='')))), HBox(children=(ColorPicker(value='#DE9BF9', description='WorkUnrelated', layout=Layout(display='none')), ColorPicker(value='white', layout=Layout(display='none')))), HBox(children=(ColorPicker(value='#FFD86E', description='Work', layout=Layout(display='none')), ColorPicker(value='black', layout=Layout(display='none')))), HBox(children=(ColorPicker(value='#68BDF6', description='WorkOk', layout=Layout(display='none')), ColorPicker(value='white', layout=Layout(display='none')))), HBox(children=(ColorPicker(value='#A5ABB6', description='WorkNoFile', layout=Layout(display='none')), ColorPicker(value='white', layout=Layout(display='none')))), HBox(children=(ColorPicker(value='#ff8040', description='WorkLang', layout=Layout(display='none')), ColorPicker(value='white', layout=Layout(display='none')))), HBox(children=(ColorPicker(value='#000080', description='Email', layout=Layout(display='none')), ColorPicker(value='white', layout=Layout(display='none')))), ToggleButton(value=False, description='Places'), ToggleButton(value=True, description='References'), Button(description='Draw', style=ButtonStyle()))), VBox(children=(IntSlider(value=21, description='R', max=70, min=5), IntSlider(value=59, description='Margin', max=170, min=5), IntSlider(value=21, description='M. Left', max=170, min=21), IntSlider(value=76, description='Dist. X', max=170, min=44), IntSlider(value=76, description='Dist. Y', max=170, min=44), IntSlider(value=5, description='Letters', max=5, min=1), IntSlider(value=30, description='By Year', max=50))))), Output()), layout=Layout(align_items='stretch', display='flex'))"
      ]
     },
     "metadata": {},
     "output_type": "display_data"
    }
   ],
   "source": [
    "Graph(\"graph\", delayed=True, max_by_year=30)"
   ]
  },
  {
   "cell_type": "code",
   "execution_count": 6,
   "metadata": {
    "collapsed": true
   },
   "outputs": [],
   "source": [
    "#import pdb\n",
    "#pdb.pm()\n",
    "\n",
    "#from snowballing.models import DB\n",
    "#{x for x in DB.work() if x.metakey.startswith(\"(\")}"
   ]
  }
 ],
 "metadata": {
  "celltoolbar": "Edit Metadata",
  "hide_input": true,
  "kernelspec": {
   "display_name": "Python 3",
   "language": "python",
   "name": "python3"
  },
  "language_info": {
   "codemirror_mode": {
    "name": "ipython",
    "version": 3
   },
   "file_extension": ".py",
   "mimetype": "text/x-python",
   "name": "python",
   "nbconvert_exporter": "python",
   "pygments_lexer": "ipython3",
   "version": "3.6.0"
  },
  "toc": {
   "nav_menu": {
    "height": "12px",
    "width": "252px"
   },
   "number_sections": true,
   "sideBar": true,
   "skip_h1_title": false,
   "toc_cell": false,
   "toc_position": {},
   "toc_section_display": "block",
   "toc_window_display": false
  },
  "widgets": {
   "state": {
    "a456ba2c1dd34363a70e1a6a41e52188": {
     "views": [
      {
       "cell_index": 1
      }
     ]
    }
   },
   "version": "1.2.0"
  }
 },
 "nbformat": 4,
 "nbformat_minor": 1
}
