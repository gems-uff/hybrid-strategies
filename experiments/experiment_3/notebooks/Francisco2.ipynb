{
 "cells": [
  {
   "cell_type": "code",
   "execution_count": 2,
   "metadata": {
    "collapsed": true
   },
   "outputs": [],
   "source": [
    "import os, sys\n",
    "sys.path.insert(1, os.path.join(sys.path[0], '..'))\n",
    "import database\n",
    "from hover_graph import HoverGraph as Graph\n",
    "from snowballing.operations import reload, compare_str, load_work_map_all_years\n",
    "from snowballing.dbmanager import set_attribute\n",
    "reload()\n",
    "import pandas as pd\n",
    "\n",
    "import math\n",
    "def isnan(num):\n",
    "    if isinstance(num, str):\n",
    "        return False\n",
    "    return math.isnan(num)\n",
    "ratio = 0.9\n",
    "from IPython.display import display, HTML\n",
    "\n",
    "def pretty_print(df):\n",
    "    return display( HTML( df.to_html().replace(\"\\\\n\",\"<br>\") ) )\n",
    "pd.set_option('display.max_colwidth', -1)\n",
    "todo = []"
   ]
  },
  {
   "cell_type": "markdown",
   "metadata": {},
   "source": [
    "# Eng village"
   ]
  },
  {
   "cell_type": "code",
   "execution_count": null,
   "metadata": {
    "collapsed": true,
    "scrolled": true
   },
   "outputs": [],
   "source": [
    "xls = pd.ExcelFile(\"review.xls\")\n",
    "df = pd.read_excel(xls, \"Eng village\",  header=None)\n",
    "df"
   ]
  },
  {
   "cell_type": "code",
   "execution_count": null,
   "metadata": {
    "collapsed": true
   },
   "outputs": [],
   "source": [
    "key = \"elcompendex2015\"\n",
    "result = []\n",
    "\n",
    "for i, row in df.iterrows():\n",
    "    top5 = sorted([\n",
    "        (compare_str(row.iloc[0].lower(), w.name.lower()), metakey)\n",
    "        for metakey, w in load_work_map_all_years()\n",
    "    ], reverse=True, key=lambda x:x[0])[:5]\n",
    "    \n",
    "    keys = [key]\n",
    "            \n",
    "    if top5[0][0] >= ratio:\n",
    "        print(\"-\", top5[0][1], keys)\n",
    "        for key in keys:\n",
    "            set_attribute(top5[0][1], key, \"1\")\n",
    "    else:\n",
    "        result.append([\n",
    "            row.iloc[0],\n",
    "            \"\\n\".join(\" - \".join(map(str, x)) for x in top5),\n",
    "            \"\\n\".join(keys)\n",
    "        ])\n",
    "\n",
    "result\n",
    "pretty_print(pd.DataFrame(result))"
   ]
  },
  {
   "cell_type": "code",
   "execution_count": null,
   "metadata": {
    "collapsed": true
   },
   "outputs": [],
   "source": [
    "reload()\n",
    "len({w for _, w in load_work_map_all_years() if int(getattr(w, key, 0))})"
   ]
  },
  {
   "cell_type": "markdown",
   "metadata": {
    "collapsed": true
   },
   "source": [
    "# IEEE"
   ]
  },
  {
   "cell_type": "code",
   "execution_count": null,
   "metadata": {
    "collapsed": true,
    "scrolled": true
   },
   "outputs": [],
   "source": [
    "xls = pd.ExcelFile(\"review.xls\")\n",
    "df = pd.read_excel(xls, \"IEEE\",  header=None)\n",
    "df"
   ]
  },
  {
   "cell_type": "code",
   "execution_count": null,
   "metadata": {
    "collapsed": true
   },
   "outputs": [],
   "source": [
    "key = \"ieee2015\"\n",
    "result = []\n",
    "\n",
    "for i, row in df.iterrows():\n",
    "    top5 = sorted([\n",
    "        (compare_str(row.iloc[0].lower(), w.name.lower()), metakey)\n",
    "        for metakey, w in load_work_map_all_years()\n",
    "    ], reverse=True, key=lambda x:x[0])[:5]\n",
    "    \n",
    "    keys = [key]\n",
    "            \n",
    "    if top5[0][0] >= ratio:\n",
    "        print(\"-\", top5[0][1], keys)\n",
    "        for key in keys:\n",
    "            set_attribute(top5[0][1], key, \"1\")\n",
    "    else:\n",
    "        result.append([\n",
    "            row.iloc[0],\n",
    "            \"\\n\".join(\" - \".join(map(str, x)) for x in top5),\n",
    "            \"\\n\".join(keys)\n",
    "        ])\n",
    "\n",
    "result\n",
    "pretty_print(pd.DataFrame(result))"
   ]
  },
  {
   "cell_type": "code",
   "execution_count": null,
   "metadata": {
    "collapsed": true,
    "scrolled": true
   },
   "outputs": [],
   "source": [
    "reload()\n",
    "len({w for _, w in load_work_map_all_years() if int(getattr(w, key, 0))})"
   ]
  },
  {
   "cell_type": "markdown",
   "metadata": {},
   "source": [
    "# Scopus"
   ]
  },
  {
   "cell_type": "code",
   "execution_count": 9,
   "metadata": {
    "scrolled": true
   },
   "outputs": [
    {
     "data": {
      "text/html": [
       "<div>\n",
       "<table border=\"1\" class=\"dataframe\">\n",
       "  <thead>\n",
       "    <tr style=\"text-align: right;\">\n",
       "      <th></th>\n",
       "      <th>0</th>\n",
       "    </tr>\n",
       "  </thead>\n",
       "  <tbody>\n",
       "    <tr>\n",
       "      <th>0</th>\n",
       "      <td>Critical success factors in software process improvement: A systematic review</td>\n",
       "    </tr>\n",
       "    <tr>\n",
       "      <th>1</th>\n",
       "      <td>Application of GQM+Strategies® in the Japanese space industry</td>\n",
       "    </tr>\n",
       "    <tr>\n",
       "      <th>2</th>\n",
       "      <td>Software engineering strategies: Aligning software process improvement with strategic goals</td>\n",
       "    </tr>\n",
       "    <tr>\n",
       "      <th>3</th>\n",
       "      <td>Linking software life cycle activities with product strategy and economics: Extending ISO/IEC 12207 with product management best practices</td>\n",
       "    </tr>\n",
       "    <tr>\n",
       "      <th>4</th>\n",
       "      <td>Alignment between the business strategy and the software processes improvement: A roadmap for the implementation [Alinhamento entre estratégia de negócios e melhoria de processos de software: Um roteiro de implementação]</td>\n",
       "    </tr>\n",
       "    <tr>\n",
       "      <th>5</th>\n",
       "      <td>Integration of strategic management, process improvement and quantitative measurement for managing the competitiveness of software engineering organizations</td>\n",
       "    </tr>\n",
       "    <tr>\n",
       "      <th>6</th>\n",
       "      <td>Software process improvement for the airline industry</td>\n",
       "    </tr>\n",
       "    <tr>\n",
       "      <th>7</th>\n",
       "      <td>Empirical evaluation of selected best practices in implementation of software process improvement</td>\n",
       "    </tr>\n",
       "    <tr>\n",
       "      <th>8</th>\n",
       "      <td>Software process improvement: Supporting the linking of the software and the business strategies</td>\n",
       "    </tr>\n",
       "    <tr>\n",
       "      <th>9</th>\n",
       "      <td>Using strategic planning for selection of SPI processes: An experience report</td>\n",
       "    </tr>\n",
       "    <tr>\n",
       "      <th>10</th>\n",
       "      <td>An approach to support the strategic alignment of software process improvement programs</td>\n",
       "    </tr>\n",
       "    <tr>\n",
       "      <th>11</th>\n",
       "      <td>A comparative study of SPI approaches with ProPAM</td>\n",
       "    </tr>\n",
       "    <tr>\n",
       "      <th>12</th>\n",
       "      <td>A low-overhead method for software process appraisal</td>\n",
       "    </tr>\n",
       "    <tr>\n",
       "      <th>13</th>\n",
       "      <td>Demanding change: How to remain in business despite IT</td>\n",
       "    </tr>\n",
       "    <tr>\n",
       "      <th>14</th>\n",
       "      <td>SPI: 'I can't get no satisfaction' - Directing process improvement to meet business needs</td>\n",
       "    </tr>\n",
       "  </tbody>\n",
       "</table>\n",
       "</div>"
      ],
      "text/plain": [
       "                                                                                                                                                                                                                               0\n",
       "0   Critical success factors in software process improvement: A systematic review                                                                                                                                               \n",
       "1   Application of GQM+Strategies® in the Japanese space industry                                                                                                                                                               \n",
       "2   Software engineering strategies: Aligning software process improvement with strategic goals                                                                                                                                 \n",
       "3   Linking software life cycle activities with product strategy and economics: Extending ISO/IEC 12207 with product management best practices                                                                                  \n",
       "4   Alignment between the business strategy and the software processes improvement: A roadmap for the implementation [Alinhamento entre estratégia de negócios e melhoria de processos de software: Um roteiro de implementação]\n",
       "5   Integration of strategic management, process improvement and quantitative measurement for managing the competitiveness of software engineering organizations                                                                \n",
       "6   Software process improvement for the airline industry                                                                                                                                                                       \n",
       "7   Empirical evaluation of selected best practices in implementation of software process improvement                                                                                                                           \n",
       "8   Software process improvement: Supporting the linking of the software and the business strategies                                                                                                                            \n",
       "9   Using strategic planning for selection of SPI processes: An experience report                                                                                                                                               \n",
       "10  An approach to support the strategic alignment of software process improvement programs                                                                                                                                     \n",
       "11  A comparative study of SPI approaches with ProPAM                                                                                                                                                                           \n",
       "12  A low-overhead method for software process appraisal                                                                                                                                                                        \n",
       "13  Demanding change: How to remain in business despite IT                                                                                                                                                                      \n",
       "14  SPI: 'I can't get no satisfaction' - Directing process improvement to meet business needs                                                                                                                                   "
      ]
     },
     "execution_count": 9,
     "metadata": {},
     "output_type": "execute_result"
    }
   ],
   "source": [
    "xls = pd.ExcelFile(\"review.xls\")\n",
    "df = pd.read_excel(xls, \"SCOPUS\",  header=None)\n",
    "df"
   ]
  },
  {
   "cell_type": "code",
   "execution_count": 10,
   "metadata": {},
   "outputs": [
    {
     "name": "stdout",
     "output_type": "stream",
     "text": [
      "- bayona2012a ['scopus2015']\n",
      "- plösch2011a ['scopus2015']\n",
      "- stallinger2011a ['scopus2015']\n",
      "- asato2011a ['scopus2015']\n",
      "- guzmán2010a ['scopus2015']\n",
      "- zalzala2010a ['scopus2015']\n",
      "- galinac2009a ['scopus2015']\n",
      "- albuquerque2009a ['scopus2015']\n",
      "- vieira2009a ['scopus2015']\n",
      "- becker2008a ['scopus2015']\n",
      "- martins2007a ['scopus2015']\n",
      "- wilkie2007a ['scopus2015']\n",
      "- veryard1998a ['scopus2015']\n",
      "- reiblein1997a ['scopus2015']\n"
     ]
    },
    {
     "data": {
      "text/html": [
       "<table border=\"1\" class=\"dataframe\">\n",
       "  <thead>\n",
       "    <tr style=\"text-align: right;\">\n",
       "      <th></th>\n",
       "      <th>0</th>\n",
       "      <th>1</th>\n",
       "      <th>2</th>\n",
       "    </tr>\n",
       "  </thead>\n",
       "  <tbody>\n",
       "    <tr>\n",
       "      <th>0</th>\n",
       "      <td>Application of GQM+Strategies® in the Japanese space industry</td>\n",
       "      <td>0.8695652173913043 - kaneko2011a<br>0.6412213740458015 - lópez2016a<br>0.640625 - cocozza2014a<br>0.5777777777777777 - basili2013a<br>0.5714285714285714 - mandić2012b</td>\n",
       "      <td>scopus2015</td>\n",
       "    </tr>\n",
       "  </tbody>\n",
       "</table>"
      ],
      "text/plain": [
       "<IPython.core.display.HTML object>"
      ]
     },
     "metadata": {},
     "output_type": "display_data"
    }
   ],
   "source": [
    "key = \"scopus2015\"\n",
    "result = []\n",
    "\n",
    "for i, row in df.iterrows():\n",
    "    top5 = sorted([\n",
    "        (compare_str(row.iloc[0].lower(), w.name.lower()), metakey)\n",
    "        for metakey, w in load_work_map_all_years()\n",
    "    ], reverse=True, key=lambda x:x[0])[:5]\n",
    "    \n",
    "    keys = [key]\n",
    "            \n",
    "    if top5[0][0] >= ratio:\n",
    "        print(\"-\", top5[0][1], keys)\n",
    "        for key in keys:\n",
    "            set_attribute(top5[0][1], key, \"1\")\n",
    "    else:\n",
    "        result.append([\n",
    "            row.iloc[0],\n",
    "            \"\\n\".join(\" - \".join(map(str, x)) for x in top5),\n",
    "            \"\\n\".join(keys)\n",
    "        ])\n",
    "\n",
    "result\n",
    "pretty_print(pd.DataFrame(result))"
   ]
  },
  {
   "cell_type": "code",
   "execution_count": null,
   "metadata": {
    "collapsed": true
   },
   "outputs": [],
   "source": [
    "reload()\n",
    "len({w for _, w in load_work_map_all_years() if int(getattr(w, key, 0))})"
   ]
  },
  {
   "cell_type": "markdown",
   "metadata": {},
   "source": [
    "# Springer"
   ]
  },
  {
   "cell_type": "code",
   "execution_count": null,
   "metadata": {
    "collapsed": true,
    "scrolled": true
   },
   "outputs": [],
   "source": [
    "xls = pd.ExcelFile(\"review.xls\")\n",
    "df = pd.read_excel(xls, \"SPRINGER\",  header=None)\n",
    "df"
   ]
  },
  {
   "cell_type": "code",
   "execution_count": null,
   "metadata": {
    "collapsed": true
   },
   "outputs": [],
   "source": [
    "key = \"springer2015\"\n",
    "result = []\n",
    "\n",
    "for i, row in df.iterrows():\n",
    "    top5 = sorted([\n",
    "        (compare_str(row.iloc[0].lower(), w.name.lower()), metakey, int(getattr(w, key, 0)))\n",
    "        for metakey, w in load_work_map_all_years()\n",
    "    ], reverse=True, key=lambda x:x[0])[:5]\n",
    "    \n",
    "    keys = [key]\n",
    "    \n",
    "    if top5[0][0] >= 0.8 and top5[0][-1]:\n",
    "        print(\">\", top5[0][1], keys)\n",
    "    elif top5[0][0] >= ratio:\n",
    "        print(\"-\", top5[0][1], keys)\n",
    "        for key in keys:\n",
    "            set_attribute(top5[0][1], key, \"1\")\n",
    "    else:\n",
    "        result.append([\n",
    "            row.iloc[0],\n",
    "            \"\\n\".join(\" - \".join(map(str, x)) for x in top5),\n",
    "            \"\\n\".join(keys)\n",
    "        ])\n",
    "\n",
    "result\n",
    "pretty_print(pd.DataFrame(result))"
   ]
  },
  {
   "cell_type": "code",
   "execution_count": null,
   "metadata": {
    "collapsed": true
   },
   "outputs": [],
   "source": [
    "reload()\n",
    "len({w for _, w in load_work_map_all_years() if int(getattr(w, key, 0))})"
   ]
  },
  {
   "cell_type": "code",
   "execution_count": null,
   "metadata": {
    "collapsed": true
   },
   "outputs": [],
   "source": [
    "todo += result"
   ]
  },
  {
   "cell_type": "markdown",
   "metadata": {},
   "source": [
    "# Web of Science"
   ]
  },
  {
   "cell_type": "code",
   "execution_count": 6,
   "metadata": {
    "scrolled": true
   },
   "outputs": [
    {
     "data": {
      "text/html": [
       "<div>\n",
       "<table border=\"1\" class=\"dataframe\">\n",
       "  <thead>\n",
       "    <tr style=\"text-align: right;\">\n",
       "      <th></th>\n",
       "      <th>0</th>\n",
       "    </tr>\n",
       "  </thead>\n",
       "  <tbody>\n",
       "    <tr>\n",
       "      <th>0</th>\n",
       "      <td>Designing a Strategic Measurement Program for Software Engineering Organizations: Discovering Difficulties and Problems</td>\n",
       "    </tr>\n",
       "    <tr>\n",
       "      <th>1</th>\n",
       "      <td>Critical Success Factors in Software Process Improvement: A Systematic Review</td>\n",
       "    </tr>\n",
       "    <tr>\n",
       "      <th>2</th>\n",
       "      <td>Linking Software Life Cycle Activities with Product Strategy and Economics: Extending ISO/IEC 12207 with Product Management Best Practices</td>\n",
       "    </tr>\n",
       "    <tr>\n",
       "      <th>3</th>\n",
       "      <td>Software Engineering Strategies: Aligning Software Process Improvement with Strategic Goals</td>\n",
       "    </tr>\n",
       "    <tr>\n",
       "      <th>4</th>\n",
       "      <td>Integration of strategic management, process improvement and quantitative measurement for managing the competitiveness of software engineering organizations</td>\n",
       "    </tr>\n",
       "    <tr>\n",
       "      <th>5</th>\n",
       "      <td>Software Process Improvement for the Airline Industry</td>\n",
       "    </tr>\n",
       "    <tr>\n",
       "      <th>6</th>\n",
       "      <td>Software Process Improvement: Supporting the Linking of the Software and the Business Strategies</td>\n",
       "    </tr>\n",
       "    <tr>\n",
       "      <th>7</th>\n",
       "      <td>AN APPROACH TO SUPPORT THE STRATEGIC ALIGNMENT OF SOFTWARE PROCESS IMPROVEMENT PROGRAMS</td>\n",
       "    </tr>\n",
       "    <tr>\n",
       "      <th>8</th>\n",
       "      <td>ProPAMet: A Metric for Process and Project Alignment</td>\n",
       "    </tr>\n",
       "    <tr>\n",
       "      <th>9</th>\n",
       "      <td>A comparative study of SPI approaches with ProPAM</td>\n",
       "    </tr>\n",
       "  </tbody>\n",
       "</table>\n",
       "</div>"
      ],
      "text/plain": [
       "                                                                                                                                                              0\n",
       "0  Designing a Strategic Measurement Program for Software Engineering Organizations: Discovering Difficulties and Problems                                     \n",
       "1  Critical Success Factors in Software Process Improvement: A Systematic Review                                                                               \n",
       "2  Linking Software Life Cycle Activities with Product Strategy and Economics: Extending ISO/IEC 12207 with Product Management Best Practices                  \n",
       "3  Software Engineering Strategies: Aligning Software Process Improvement with Strategic Goals                                                                 \n",
       "4  Integration of strategic management, process improvement and quantitative measurement for managing the competitiveness of software engineering organizations\n",
       "5  Software Process Improvement for the Airline Industry                                                                                                       \n",
       "6  Software Process Improvement: Supporting the Linking of the Software and the Business Strategies                                                            \n",
       "7  AN APPROACH TO SUPPORT THE STRATEGIC ALIGNMENT OF SOFTWARE PROCESS IMPROVEMENT PROGRAMS                                                                     \n",
       "8  ProPAMet: A Metric for Process and Project Alignment                                                                                                        \n",
       "9  A comparative study of SPI approaches with ProPAM                                                                                                           "
      ]
     },
     "execution_count": 6,
     "metadata": {},
     "output_type": "execute_result"
    }
   ],
   "source": [
    "xls = pd.ExcelFile(\"review.xls\")\n",
    "df = pd.read_excel(xls, \"WEB OF SCIENCE\",  header=None)\n",
    "df"
   ]
  },
  {
   "cell_type": "code",
   "execution_count": 7,
   "metadata": {
    "scrolled": true
   },
   "outputs": [
    {
     "name": "stdout",
     "output_type": "stream",
     "text": [
      "> mitrehernández2014a ['webofscience2015']\n",
      "> bayona2012a ['webofscience2015']\n",
      "> stallinger2011a ['webofscience2015']\n",
      "> plösch2011a ['webofscience2015']\n",
      "> guzmán2010a ['webofscience2015']\n",
      "> zalzala2010a ['webofscience2015']\n",
      "> albuquerque2009a ['webofscience2015']\n",
      "> becker2008a ['webofscience2015']\n",
      "> martins2008a ['webofscience2015']\n",
      "> martins2007a ['webofscience2015']\n"
     ]
    },
    {
     "data": {
      "text/html": [
       "<table border=\"1\" class=\"dataframe\">\n",
       "  <thead>\n",
       "    <tr style=\"text-align: right;\">\n",
       "      <th></th>\n",
       "    </tr>\n",
       "  </thead>\n",
       "  <tbody>\n",
       "  </tbody>\n",
       "</table>"
      ],
      "text/plain": [
       "<IPython.core.display.HTML object>"
      ]
     },
     "metadata": {},
     "output_type": "display_data"
    }
   ],
   "source": [
    "key = \"webofscience2015\"\n",
    "result = []\n",
    "\n",
    "for i, row in df.iterrows():\n",
    "    top5 = sorted([\n",
    "        (compare_str(row.iloc[0].lower(), w.name.lower()), metakey, int(getattr(w, key, 0)))\n",
    "        for metakey, w in load_work_map_all_years()\n",
    "    ], reverse=True, key=lambda x:x[0])[:5]\n",
    "    \n",
    "    keys = [key]\n",
    "    \n",
    "    if top5[0][0] >= 0.8 and top5[0][-1]:\n",
    "        print(\">\", top5[0][1], keys)\n",
    "    elif top5[0][0] >= ratio:\n",
    "        print(\"-\", top5[0][1], keys)\n",
    "        for key in keys:\n",
    "            set_attribute(top5[0][1], key, \"1\")\n",
    "    else:\n",
    "        result.append([\n",
    "            row.iloc[0],\n",
    "            \"\\n\".join(\" - \".join(map(str, x)) for x in top5),\n",
    "            \"\\n\".join(keys)\n",
    "        ])\n",
    "\n",
    "result\n",
    "pretty_print(pd.DataFrame(result))"
   ]
  },
  {
   "cell_type": "code",
   "execution_count": 8,
   "metadata": {},
   "outputs": [
    {
     "data": {
      "text/plain": [
       "10"
      ]
     },
     "execution_count": 8,
     "metadata": {},
     "output_type": "execute_result"
    }
   ],
   "source": [
    "reload()\n",
    "len({w for _, w in load_work_map_all_years() if int(getattr(w, key, 0))})"
   ]
  },
  {
   "cell_type": "markdown",
   "metadata": {},
   "source": [
    "# Science Direct"
   ]
  },
  {
   "cell_type": "code",
   "execution_count": null,
   "metadata": {
    "collapsed": true,
    "scrolled": true
   },
   "outputs": [],
   "source": [
    "xls = pd.ExcelFile(\"review.xls\")\n",
    "df = pd.read_excel(xls, \"Science Direct\",  header=None)\n",
    "df"
   ]
  },
  {
   "cell_type": "code",
   "execution_count": null,
   "metadata": {
    "collapsed": true,
    "scrolled": true
   },
   "outputs": [],
   "source": [
    "key = \"sciencedirect2015\"\n",
    "result = []\n",
    "\n",
    "for i, row in df.iterrows():\n",
    "    top5 = sorted([\n",
    "        (compare_str(row.iloc[0].lower(), w.name.lower()), metakey, int(getattr(w, key, 0)))\n",
    "        for metakey, w in load_work_map_all_years()\n",
    "    ], reverse=True, key=lambda x:x[0])[:5]\n",
    "    \n",
    "    keys = [key]\n",
    "    \n",
    "    if top5[0][0] >= 0.8 and top5[0][-1]:\n",
    "        print(\">\", top5[0][1], keys)\n",
    "    elif top5[0][0] >= ratio:\n",
    "        print(\"-\", top5[0][1], keys)\n",
    "        for key in keys:\n",
    "            set_attribute(top5[0][1], key, \"1\")\n",
    "    else:\n",
    "        result.append([\n",
    "            row.iloc[0],\n",
    "            \"\\n\".join(\" - \".join(map(str, x)) for x in top5),\n",
    "            \"\\n\".join(keys)\n",
    "        ])\n",
    "\n",
    "result\n",
    "pretty_print(pd.DataFrame(result))"
   ]
  },
  {
   "cell_type": "code",
   "execution_count": null,
   "metadata": {
    "collapsed": true
   },
   "outputs": [],
   "source": [
    "reload()\n",
    "len({w for _, w in load_work_map_all_years() if int(getattr(w, key, 0))})"
   ]
  },
  {
   "cell_type": "code",
   "execution_count": null,
   "metadata": {
    "collapsed": true
   },
   "outputs": [],
   "source": [
    "todo += result"
   ]
  },
  {
   "cell_type": "markdown",
   "metadata": {},
   "source": [
    "# ACM"
   ]
  },
  {
   "cell_type": "code",
   "execution_count": 14,
   "metadata": {
    "scrolled": true
   },
   "outputs": [
    {
     "data": {
      "text/html": [
       "<div>\n",
       "<table border=\"1\" class=\"dataframe\">\n",
       "  <thead>\n",
       "    <tr style=\"text-align: right;\">\n",
       "      <th></th>\n",
       "      <th>0</th>\n",
       "    </tr>\n",
       "  </thead>\n",
       "  <tbody>\n",
       "    <tr>\n",
       "      <th>0</th>\n",
       "      <td>Gauging acceptance of software metrics: Comparing perspectives of managers and developers</td>\n",
       "    </tr>\n",
       "    <tr>\n",
       "      <th>1</th>\n",
       "      <td>Brazilian public software: beyond sharing</td>\n",
       "    </tr>\n",
       "    <tr>\n",
       "      <th>2</th>\n",
       "      <td>The agile practices impact model: idea, concept, and application scenario</td>\n",
       "    </tr>\n",
       "    <tr>\n",
       "      <th>3</th>\n",
       "      <td>A pattern system of underlying theories for process improvement</td>\n",
       "    </tr>\n",
       "    <tr>\n",
       "      <th>4</th>\n",
       "      <td>Managing ERP configuration variants: an experience report</td>\n",
       "    </tr>\n",
       "    <tr>\n",
       "      <th>5</th>\n",
       "      <td>Using a functional size measurement procedure to evaluate the quality of models in MDD environments</td>\n",
       "    </tr>\n",
       "    <tr>\n",
       "      <th>6</th>\n",
       "      <td>Value­based software engineering: reinventing</td>\n",
       "    </tr>\n",
       "    <tr>\n",
       "      <th>7</th>\n",
       "      <td>An approach to identify commonalities in web application engineering for a web content  management system</td>\n",
       "    </tr>\n",
       "    <tr>\n",
       "      <th>8</th>\n",
       "      <td>Free/open source software development</td>\n",
       "    </tr>\n",
       "    <tr>\n",
       "      <th>9</th>\n",
       "      <td>Studying software organizations: in search of a method</td>\n",
       "    </tr>\n",
       "    <tr>\n",
       "      <th>10</th>\n",
       "      <td>Strategically balanced process adoption</td>\n",
       "    </tr>\n",
       "    <tr>\n",
       "      <th>11</th>\n",
       "      <td>A software process engineering approach to improving software team productivity using  socioeconomic mechanism design</td>\n",
       "    </tr>\n",
       "    <tr>\n",
       "      <th>12</th>\n",
       "      <td>A comprehensive product line scoping approach and its validation</td>\n",
       "    </tr>\n",
       "    <tr>\n",
       "      <th>13</th>\n",
       "      <td>Process­driven feature modeling for variability management of project environment configurations</td>\n",
       "    </tr>\n",
       "    <tr>\n",
       "      <th>14</th>\n",
       "      <td>Introducing usability activities into open source software development projects: a participative  approach</td>\n",
       "    </tr>\n",
       "    <tr>\n",
       "      <th>15</th>\n",
       "      <td>Enablers and inhibitors for speed with reuse</td>\n",
       "    </tr>\n",
       "    <tr>\n",
       "      <th>16</th>\n",
       "      <td>Consequences of business growth on software processes</td>\n",
       "    </tr>\n",
       "    <tr>\n",
       "      <th>17</th>\n",
       "      <td>An empirical study on the utility of formal routines to transfer knowledge and experience</td>\n",
       "    </tr>\n",
       "    <tr>\n",
       "      <th>18</th>\n",
       "      <td>Business impact of process improvements</td>\n",
       "    </tr>\n",
       "    <tr>\n",
       "      <th>19</th>\n",
       "      <td>Capturing business benefits from process improvement: four fallacies and what to do about them</td>\n",
       "    </tr>\n",
       "    <tr>\n",
       "      <th>20</th>\n",
       "      <td>Two's company, three's a crowd: a case study of crowdsourcing software development</td>\n",
       "    </tr>\n",
       "    <tr>\n",
       "      <th>21</th>\n",
       "      <td>Towards global market­driven software development processes: an industrial case study</td>\n",
       "    </tr>\n",
       "    <tr>\n",
       "      <th>22</th>\n",
       "      <td>An empirical study of industrial requirements engineering process assessment and improvement</td>\n",
       "    </tr>\n",
       "    <tr>\n",
       "      <th>23</th>\n",
       "      <td>Modeling business processes to generate artifacts for software development: a methodology</td>\n",
       "    </tr>\n",
       "    <tr>\n",
       "      <th>24</th>\n",
       "      <td>A multiple case study on the impact of pair programming on product quality</td>\n",
       "    </tr>\n",
       "    <tr>\n",
       "      <th>25</th>\n",
       "      <td>Key processes to start software process improvement in small companies</td>\n",
       "    </tr>\n",
       "    <tr>\n",
       "      <th>26</th>\n",
       "      <td>Relating requirements and feature configurations: a systematic approach</td>\n",
       "    </tr>\n",
       "    <tr>\n",
       "      <th>27</th>\n",
       "      <td>A process for driving the harmonization of models</td>\n",
       "    </tr>\n",
       "    <tr>\n",
       "      <th>28</th>\n",
       "      <td>Joint implicit alignment work of interaction designers and software developers</td>\n",
       "    </tr>\n",
       "    <tr>\n",
       "      <th>29</th>\n",
       "      <td>Software process reflexivity and business performance: initial results from an empirical study</td>\n",
       "    </tr>\n",
       "    <tr>\n",
       "      <th>...</th>\n",
       "      <td>...</td>\n",
       "    </tr>\n",
       "    <tr>\n",
       "      <th>70</th>\n",
       "      <td>Information needs for software development analytics</td>\n",
       "    </tr>\n",
       "    <tr>\n",
       "      <th>71</th>\n",
       "      <td>Some observations on software quality</td>\n",
       "    </tr>\n",
       "    <tr>\n",
       "      <th>72</th>\n",
       "      <td>Utilizing GQM+Strategies for business value analysis: an approach for evaluating business goals</td>\n",
       "    </tr>\n",
       "    <tr>\n",
       "      <th>73</th>\n",
       "      <td>Semantic representation of context models: a framework for analyzing and understanding</td>\n",
       "    </tr>\n",
       "    <tr>\n",
       "      <th>74</th>\n",
       "      <td>Writing and Reading Software Documentation: How the development process may affect  understanding</td>\n",
       "    </tr>\n",
       "    <tr>\n",
       "      <th>75</th>\n",
       "      <td>\"Figure out how to code with the hands of others\": recognizing cultural blind spots in global  software development</td>\n",
       "    </tr>\n",
       "    <tr>\n",
       "      <th>76</th>\n",
       "      <td>Optimizing IT process management</td>\n",
       "    </tr>\n",
       "    <tr>\n",
       "      <th>77</th>\n",
       "      <td>Free/open source software development: recent research results and emerging opportunities</td>\n",
       "    </tr>\n",
       "    <tr>\n",
       "      <th>78</th>\n",
       "      <td>On the use of machine­assisted knowledge discovery to analyze and reengineer measurement  frameworks</td>\n",
       "    </tr>\n",
       "    <tr>\n",
       "      <th>79</th>\n",
       "      <td>Balancing four factors in system development projects</td>\n",
       "    </tr>\n",
       "    <tr>\n",
       "      <th>80</th>\n",
       "      <td>E­government: exploring the different dimensions of challenges, implementation, and success factors</td>\n",
       "    </tr>\n",
       "    <tr>\n",
       "      <th>81</th>\n",
       "      <td>Agile in India: challenges and lessons learned</td>\n",
       "    </tr>\n",
       "    <tr>\n",
       "      <th>82</th>\n",
       "      <td>Migrating towards evolving software product lines: challenges of an SME in a core customer­ driven  industrial systems engineering context</td>\n",
       "    </tr>\n",
       "    <tr>\n",
       "      <th>83</th>\n",
       "      <td>SimPal: a design study on a framework for flexible safety­critical software development</td>\n",
       "    </tr>\n",
       "    <tr>\n",
       "      <th>84</th>\n",
       "      <td>The public software ecosystem: exploratory survey</td>\n",
       "    </tr>\n",
       "    <tr>\n",
       "      <th>85</th>\n",
       "      <td>In search of the sweet spot: agile open collaborative corporate software development</td>\n",
       "    </tr>\n",
       "    <tr>\n",
       "      <th>86</th>\n",
       "      <td>Using the IDEAL software process improvement model for the implementation of automotive  SPICE</td>\n",
       "    </tr>\n",
       "    <tr>\n",
       "      <th>87</th>\n",
       "      <td>Assessing team performance from a socio­technical congruence perspective</td>\n",
       "    </tr>\n",
       "    <tr>\n",
       "      <th>88</th>\n",
       "      <td>Trends and emerging areas of agile research: the report on XP2014 PhD symposium</td>\n",
       "    </tr>\n",
       "    <tr>\n",
       "      <th>89</th>\n",
       "      <td>Continuous software engineering and beyond: trends and challenges</td>\n",
       "    </tr>\n",
       "    <tr>\n",
       "      <th>90</th>\n",
       "      <td>Communication factors for speed and reuse in large­scale agile software development</td>\n",
       "    </tr>\n",
       "    <tr>\n",
       "      <th>91</th>\n",
       "      <td>Commitment development in software process improvement: critical misconceptions</td>\n",
       "    </tr>\n",
       "    <tr>\n",
       "      <th>92</th>\n",
       "      <td>Identifying the factors that influence task allocation in global software development: preliminary results</td>\n",
       "    </tr>\n",
       "    <tr>\n",
       "      <th>93</th>\n",
       "      <td>People management in software industry: the key to success</td>\n",
       "    </tr>\n",
       "    <tr>\n",
       "      <th>94</th>\n",
       "      <td>Surprise: user­controlled granular privacy and security for personal data in SmarterContext</td>\n",
       "    </tr>\n",
       "    <tr>\n",
       "      <th>95</th>\n",
       "      <td>Software reuse in agile development organizations: a conceptual management tool</td>\n",
       "    </tr>\n",
       "    <tr>\n",
       "      <th>96</th>\n",
       "      <td>The value of design rationale information</td>\n",
       "    </tr>\n",
       "    <tr>\n",
       "      <th>97</th>\n",
       "      <td>Product derivation for solution­driven product line engineering</td>\n",
       "    </tr>\n",
       "    <tr>\n",
       "      <th>98</th>\n",
       "      <td>Assessing capability for justice information sharing</td>\n",
       "    </tr>\n",
       "    <tr>\n",
       "      <th>99</th>\n",
       "      <td>Introducing TDD on a free libre open source software project: a simulation experiment</td>\n",
       "    </tr>\n",
       "  </tbody>\n",
       "</table>\n",
       "<p>100 rows × 1 columns</p>\n",
       "</div>"
      ],
      "text/plain": [
       "                                                                                                                                             0\n",
       "0   Gauging acceptance of software metrics: Comparing perspectives of managers and developers                                                 \n",
       "1   Brazilian public software: beyond sharing                                                                                                 \n",
       "2   The agile practices impact model: idea, concept, and application scenario                                                                 \n",
       "3   A pattern system of underlying theories for process improvement                                                                           \n",
       "4   Managing ERP configuration variants: an experience report                                                                                 \n",
       "5   Using a functional size measurement procedure to evaluate the quality of models in MDD environments                                       \n",
       "6   Value­based software engineering: reinventing                                                                                             \n",
       "7   An approach to identify commonalities in web application engineering for a web content  management system                                 \n",
       "8   Free/open source software development                                                                                                     \n",
       "9   Studying software organizations: in search of a method                                                                                    \n",
       "10  Strategically balanced process adoption                                                                                                   \n",
       "11  A software process engineering approach to improving software team productivity using  socioeconomic mechanism design                     \n",
       "12  A comprehensive product line scoping approach and its validation                                                                          \n",
       "13  Process­driven feature modeling for variability management of project environment configurations                                          \n",
       "14  Introducing usability activities into open source software development projects: a participative  approach                                \n",
       "15  Enablers and inhibitors for speed with reuse                                                                                              \n",
       "16  Consequences of business growth on software processes                                                                                     \n",
       "17  An empirical study on the utility of formal routines to transfer knowledge and experience                                                 \n",
       "18  Business impact of process improvements                                                                                                   \n",
       "19  Capturing business benefits from process improvement: four fallacies and what to do about them                                            \n",
       "20  Two's company, three's a crowd: a case study of crowdsourcing software development                                                        \n",
       "21  Towards global market­driven software development processes: an industrial case study                                                     \n",
       "22  An empirical study of industrial requirements engineering process assessment and improvement                                              \n",
       "23  Modeling business processes to generate artifacts for software development: a methodology                                                 \n",
       "24  A multiple case study on the impact of pair programming on product quality                                                                \n",
       "25  Key processes to start software process improvement in small companies                                                                    \n",
       "26  Relating requirements and feature configurations: a systematic approach                                                                   \n",
       "27  A process for driving the harmonization of models                                                                                         \n",
       "28  Joint implicit alignment work of interaction designers and software developers                                                            \n",
       "29  Software process reflexivity and business performance: initial results from an empirical study                                            \n",
       "..                                                                                             ...                                            \n",
       "70  Information needs for software development analytics                                                                                      \n",
       "71  Some observations on software quality                                                                                                     \n",
       "72  Utilizing GQM+Strategies for business value analysis: an approach for evaluating business goals                                           \n",
       "73  Semantic representation of context models: a framework for analyzing and understanding                                                    \n",
       "74  Writing and Reading Software Documentation: How the development process may affect  understanding                                         \n",
       "75  \"Figure out how to code with the hands of others\": recognizing cultural blind spots in global  software development                       \n",
       "76  Optimizing IT process management                                                                                                          \n",
       "77  Free/open source software development: recent research results and emerging opportunities                                                 \n",
       "78  On the use of machine­assisted knowledge discovery to analyze and reengineer measurement  frameworks                                      \n",
       "79  Balancing four factors in system development projects                                                                                     \n",
       "80  E­government: exploring the different dimensions of challenges, implementation, and success factors                                       \n",
       "81  Agile in India: challenges and lessons learned                                                                                            \n",
       "82  Migrating towards evolving software product lines: challenges of an SME in a core customer­ driven  industrial systems engineering context\n",
       "83  SimPal: a design study on a framework for flexible safety­critical software development                                                   \n",
       "84  The public software ecosystem: exploratory survey                                                                                         \n",
       "85  In search of the sweet spot: agile open collaborative corporate software development                                                      \n",
       "86  Using the IDEAL software process improvement model for the implementation of automotive  SPICE                                            \n",
       "87  Assessing team performance from a socio­technical congruence perspective                                                                  \n",
       "88  Trends and emerging areas of agile research: the report on XP2014 PhD symposium                                                           \n",
       "89  Continuous software engineering and beyond: trends and challenges                                                                         \n",
       "90  Communication factors for speed and reuse in large­scale agile software development                                                       \n",
       "91  Commitment development in software process improvement: critical misconceptions                                                           \n",
       "92  Identifying the factors that influence task allocation in global software development: preliminary results                                \n",
       "93  People management in software industry: the key to success                                                                                \n",
       "94  Surprise: user­controlled granular privacy and security for personal data in SmarterContext                                               \n",
       "95  Software reuse in agile development organizations: a conceptual management tool                                                           \n",
       "96  The value of design rationale information                                                                                                 \n",
       "97  Product derivation for solution­driven product line engineering                                                                           \n",
       "98  Assessing capability for justice information sharing                                                                                      \n",
       "99  Introducing TDD on a free libre open source software project: a simulation experiment                                                     \n",
       "\n",
       "[100 rows x 1 columns]"
      ]
     },
     "execution_count": 14,
     "metadata": {},
     "output_type": "execute_result"
    }
   ],
   "source": [
    "xls = pd.ExcelFile(\"review.xls\")\n",
    "df = pd.read_excel(xls, \"ACM\",  header=None)\n",
    "df"
   ]
  },
  {
   "cell_type": "code",
   "execution_count": 15,
   "metadata": {
    "scrolled": true
   },
   "outputs": [
    {
     "name": "stdout",
     "output_type": "stream",
     "text": [
      "> umarji2009a ['acm2015']\n",
      "> alves2010a ['acm2015']\n",
      "> diebold2015a ['acm2015']\n",
      "> hilst2010a ['acm2015']\n",
      "> leitner2010a ['acm2015']\n",
      "> marín2013a ['acm2015']\n",
      "> boehm2003d ['acm2015']\n",
      "> souer2010a ['acm2015']\n",
      "> scacchi2007a ['acm2015']\n",
      "> srinivasan2010a ['acm2015']\n",
      "> esfahani2011a ['acm2015']\n",
      "> yilmaz2011a ['acm2015']\n",
      "> schmid2002a ['acm2015']\n",
      "> moser2010a ['acm2015']\n",
      "> rajanen2012a ['acm2015']\n",
      "> martini2012a ['acm2015']\n",
      "> nikitina2010a ['acm2015']\n",
      "> conradi2001a ['acm2015']\n",
      "> paulisch2008a ['acm2015']\n",
      "> bannerman2008a ['acm2015']\n",
      "> stol2014a ['acm2015']\n",
      "> jantunen2006a ['acm2015']\n",
      "> sommerville2005a ['acm2015']\n",
      "> aysolmaz2014a ['acm2015']\n",
      "> hulkko2005a ['acm2015']\n",
      "> pino2009c ['acm2015']\n",
      "> tun2009a ['acm2015']\n",
      "> pardo2010a ['acm2015']\n",
      "> brown2012a ['acm2015']\n",
      "> o2015a ['acm2015']\n",
      "> maheshwari2011a ['acm2015']\n",
      "> fagerholm2012a ['acm2015']\n",
      "> souer2008a ['acm2015']\n",
      "> ramsin2008a ['acm2015']\n",
      "> mkhomazi2011a ['acm2015']\n",
      "> boustedt2008a ['acm2015']\n",
      "> mcleod2011a ['acm2015']\n",
      "> luzuriaga2008a ['acm2015']\n",
      "> imtiaz2012a ['acm2015']\n",
      "> avila2007a ['acm2015']\n",
      "> lavazza2005a ['acm2015']\n",
      "> ferreira2007a ['acm2015']\n",
      "> komuro2006a ['acm2015']\n",
      "> zahedi2014a ['acm2015']\n",
      "> whitehead2007a ['acm2015']\n",
      "> duszynski2011a ['acm2015']\n",
      "> al2014b ['acm2015']\n",
      "> virtanen2013a ['acm2015']\n",
      "> shoemaker2003a ['acm2015']\n",
      "> oConnor2015a ['acm2015']\n",
      "> kirk2014a ['acm2015']\n",
      "> benestad2011a ['acm2015']\n",
      "> felderer2014c ['acm2015']\n",
      "> rech2011a ['acm2015']\n",
      "> becker2008b ['acm2015']\n",
      "> kautz2000a ['acm2015']\n",
      "> barcellos2013b ['acm2015']\n",
      "> engel2001a ['acm2015']\n",
      "> fuggetta2014a ['acm2015']\n",
      "> desai2009a ['acm2015']\n",
      "> harter2000a ['acm2015']\n",
      "> daneva2001b ['acm2015']\n",
      "> mettler2009a ['acm2015']\n",
      "> chouseinoglou2012a ['acm2015']\n",
      "> alkadhi2014a ['acm2015']\n",
      "> macmahon2013a ['acm2015']\n",
      "> dybå2012a ['acm2015']\n",
      "> bourimi2014a ['acm2015']\n",
      "> wiesche2014a ['acm2015']\n",
      "> buse2012a ['acm2015']\n",
      "> ward1999a ['acm2015']\n",
      "> mandić2010b ['acm2015']\n",
      "> najar2009a ['acm2015']\n",
      "> boer2009a ['acm2015']\n",
      "> matthiesen2014a ['acm2015']\n",
      "> lee2010b ['acm2015']\n",
      "> scacchi2007b ['acm2015']\n",
      "> bhandari1995a ['acm2015']\n",
      "> subramanian2009a ['acm2015']\n",
      "> mishra2012a ['acm2015']\n",
      "> srinivasan2010b ['acm2015']\n",
      "> stallinger2011b ['acm2015']\n",
      "> notander2013a ['acm2015']\n",
      "> cardoso2013a ['acm2015']\n",
      "> theunissen2005a ['acm2015']\n",
      "> klendauer2012a ['acm2015']\n",
      "> jiang2012a ['acm2015']\n",
      "> falessi2014a ['acm2015']\n",
      "> fitzgerald2014a ['acm2015']\n",
      "> martini2013a ['acm2015']\n",
      "> abrahamsson2001b ['acm2015']\n",
      "> mahmood2015a ['acm2015']\n",
      "> mishra2010a ['acm2015']\n",
      "> muñoz2012a ['acm2015']\n",
      "> spoelstra2011a ['acm2015']\n",
      "> falessi2013a ['acm2015']\n",
      "> elsner2009a ['acm2015']\n",
      "> cresswell2007a ['acm2015']\n",
      "> turnu2004a ['acm2015']\n"
     ]
    },
    {
     "data": {
      "text/html": [
       "<table border=\"1\" class=\"dataframe\">\n",
       "  <thead>\n",
       "    <tr style=\"text-align: right;\">\n",
       "      <th></th>\n",
       "      <th>0</th>\n",
       "      <th>1</th>\n",
       "      <th>2</th>\n",
       "    </tr>\n",
       "  </thead>\n",
       "  <tbody>\n",
       "    <tr>\n",
       "      <th>0</th>\n",
       "      <td>Frontmatter (TOC, Letters, Election results, Software Reliability Resources, ICSE 2005)</td>\n",
       "      <td>0.46540880503144655 - virtanen2013a - 1<br>0.4642857142857143 - rus1999b - 0<br>0.45714285714285713 - hongying2011a - 0<br>0.4519774011299435 - hansen2004a - 0<br>0.45121951219512196 - marcus2005a - 0</td>\n",
       "      <td>acm2015</td>\n",
       "    </tr>\n",
       "  </tbody>\n",
       "</table>"
      ],
      "text/plain": [
       "<IPython.core.display.HTML object>"
      ]
     },
     "metadata": {},
     "output_type": "display_data"
    }
   ],
   "source": [
    "key = \"acm2015\"\n",
    "result = []\n",
    "\n",
    "for i, row in df.iterrows():\n",
    "    top5 = sorted([\n",
    "        (compare_str(row.iloc[0].lower(), w.name.lower()), metakey, int(getattr(w, key, 0)))\n",
    "        for metakey, w in load_work_map_all_years()\n",
    "    ], reverse=True, key=lambda x:x[0])[:5]\n",
    "    \n",
    "    keys = [key]\n",
    "    \n",
    "    if top5[0][0] >= 0.8 and top5[0][-1]:\n",
    "        print(\">\", top5[0][1], keys)\n",
    "    elif top5[0][0] >= ratio:\n",
    "        print(\"-\", top5[0][1], keys)\n",
    "        for key in keys:\n",
    "            set_attribute(top5[0][1], key, \"1\")\n",
    "    else:\n",
    "        result.append([\n",
    "            row.iloc[0],\n",
    "            \"\\n\".join(\" - \".join(map(str, x)) for x in top5),\n",
    "            \"\\n\".join(keys)\n",
    "        ])\n",
    "\n",
    "result\n",
    "pretty_print(pd.DataFrame(result))"
   ]
  },
  {
   "cell_type": "code",
   "execution_count": 16,
   "metadata": {},
   "outputs": [
    {
     "data": {
      "text/plain": [
       "100"
      ]
     },
     "execution_count": 16,
     "metadata": {},
     "output_type": "execute_result"
    }
   ],
   "source": [
    "reload()\n",
    "len({w for _, w in load_work_map_all_years() if int(getattr(w, key, 0))})"
   ]
  },
  {
   "cell_type": "code",
   "execution_count": null,
   "metadata": {
    "collapsed": true
   },
   "outputs": [],
   "source": [
    "todo += result"
   ]
  },
  {
   "cell_type": "code",
   "execution_count": null,
   "metadata": {
    "collapsed": true
   },
   "outputs": [],
   "source": [
    "len(todo)"
   ]
  },
  {
   "cell_type": "code",
   "execution_count": null,
   "metadata": {
    "collapsed": true
   },
   "outputs": [],
   "source": [
    "df = pd.DataFrame(todo)"
   ]
  },
  {
   "cell_type": "code",
   "execution_count": null,
   "metadata": {
    "collapsed": true
   },
   "outputs": [],
   "source": [
    "df.to_csv(\"../todo_francisco.csv\")"
   ]
  },
  {
   "cell_type": "code",
   "execution_count": null,
   "metadata": {
    "collapsed": true
   },
   "outputs": [],
   "source": [
    "df.to_excel(\"../todo_francisco.xlsx\")"
   ]
  },
  {
   "cell_type": "code",
   "execution_count": null,
   "metadata": {
    "collapsed": true
   },
   "outputs": [],
   "source": []
  }
 ],
 "metadata": {
  "kernelspec": {
   "display_name": "Python 3",
   "language": "python",
   "name": "python3"
  },
  "language_info": {
   "codemirror_mode": {
    "name": "ipython",
    "version": 3
   },
   "file_extension": ".py",
   "mimetype": "text/x-python",
   "name": "python",
   "nbconvert_exporter": "python",
   "pygments_lexer": "ipython3",
   "version": "3.6.0"
  },
  "toc": {
   "nav_menu": {},
   "number_sections": true,
   "sideBar": true,
   "skip_h1_title": false,
   "toc_cell": false,
   "toc_position": {},
   "toc_section_display": "block",
   "toc_window_display": false
  }
 },
 "nbformat": 4,
 "nbformat_minor": 2
}
