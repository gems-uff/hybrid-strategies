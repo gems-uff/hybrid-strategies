{
 "cells": [
  {
   "cell_type": "code",
   "execution_count": 1,
   "metadata": {},
   "outputs": [],
   "source": [
    "import database\n",
    "import custom_jupyter_utils\n",
    "from snowballing.operations import load_work, reload, work_by_varname\n",
    "from snowballing.selenium_scholar import SeleniumScholarQuerier\n",
    "from snowballing.snowballing import SearchScholar\n",
    "from snowballing.dbmanager import insert, set_attribute"
   ]
  },
  {
   "cell_type": "code",
   "execution_count": 2,
   "metadata": {},
   "outputs": [
    {
     "name": "stderr",
     "output_type": "stream",
     "text": [
      "[ INFO]  settings applied\n"
     ]
    },
    {
     "data": {
      "text/plain": [
       "<snowballing.selenium_scholar.SeleniumScholarQuerier at 0x22260afbba8>"
      ]
     },
     "execution_count": 2,
     "metadata": {},
     "output_type": "execute_result"
    }
   ],
   "source": [
    "querier = SeleniumScholarQuerier()\n",
    "querier.apply_settings(10, 4)"
   ]
  },
  {
   "cell_type": "code",
   "execution_count": 3,
   "metadata": {
    "collapsed": true
   },
   "outputs": [],
   "source": [
    "from custom_snowballing import UnrelatedInsert\n",
    "manager = SearchScholar(querier, navigator=UnrelatedInsert, navargs=(\"gs2016\",))"
   ]
  },
  {
   "cell_type": "code",
   "execution_count": null,
   "metadata": {
    "collapsed": true
   },
   "outputs": [],
   "source": [
    "x = \"a\""
   ]
  },
  {
   "cell_type": "code",
   "execution_count": null,
   "metadata": {
    "collapsed": true
   },
   "outputs": [],
   "source": [
    "x.__"
   ]
  },
  {
   "cell_type": "code",
   "execution_count": null,
   "metadata": {
    "collapsed": true
   },
   "outputs": [],
   "source": []
  },
  {
   "cell_type": "code",
   "execution_count": 4,
   "metadata": {},
   "outputs": [
    {
     "data": {
      "application/vnd.jupyter.widget-view+json": {
       "model_id": "28cf5d0b3a9a4326b2481f1ea018b66c",
       "version_major": 2,
       "version_minor": 0
      },
      "text/html": [
       "<p>Failed to display Jupyter Widget of type <code>VBox</code>.</p>\n",
       "<p>\n",
       "  If you're reading this message in Jupyter Notebook or JupyterLab, it may mean\n",
       "  that the widgets JavaScript is still loading. If this message persists, it\n",
       "  likely means that the widgets JavaScript library is either not installed or\n",
       "  not enabled. See the <a href=\"https://ipywidgets.readthedocs.io/en/stable/user_install.html\">Jupyter\n",
       "  Widgets Documentation</a> for setup instructions.\n",
       "</p>\n",
       "<p>\n",
       "  If you're reading this message in another notebook frontend (for example, a static\n",
       "  rendering on GitHub or <a href=\"https://nbviewer.jupyter.org/\">NBViewer</a>),\n",
       "  it may mean that your frontend doesn't currently support widgets.\n",
       "</p>\n"
      ],
      "text/plain": [
       "VBox(children=(Text(value='', layout=Layout(width='99%')), Button(description='Search', icon='search', style=ButtonStyle()), Tab(children=(VBox(children=(HBox(children=(Button(description='Previous Page', icon='arrow-left', style=ButtonStyle()), Button(description='Reload', icon='refresh', style=ButtonStyle()), Button(description='Next Page', icon='arrow-right', style=ButtonStyle()), ToggleButton(value=False, description='Debug'), Label(value=''))), Output())), VBox(children=(HBox(children=(Button(description='Previous Article', disabled=True, icon='caret-left', style=ButtonStyle()), Button(description='Reload Article', icon='refresh', style=ButtonStyle()), Button(description='Next Article', disabled=True, icon='caret-right', style=ButtonStyle()))), HBox(children=(Dropdown(description='Type', index=3, options=('Work', 'WorkSnowball', 'WorkOk', 'WorkUnrelated', 'WorkNoFile', 'WorkLang', 'Site', 'Email'), value='WorkUnrelated'), ToggleButton(value=False, description='File'))), HBox(children=(Text(value='', description='Due'), Text(value='', description='Place'))), HBox(children=(Text(value='', description='Year'), Text(value='', description='Prefix Var'))), HBox(children=(Text(value='', description='PDFPage'), Text(value='', description='Related'))), HBox(children=(Text(value='', description='Display'), Text(value='', description='Summary'))), HBox(children=(Text(value='', description='Star'), Text(value='', description='Link'))), HBox(children=(Text(value='1', description='gs2016'),)), HBox(children=(Button(description='Reload Article', icon='refresh', style=ButtonStyle()), IntSlider(value=0, max=0), Label(value='0/0'))), Output()))), _titles={'0': 'Page', '1': 'Article'})))"
      ]
     },
     "metadata": {},
     "output_type": "display_data"
    },
    {
     "ename": "AttributeError",
     "evalue": "'NoneType' object has no attribute 'next_page'",
     "output_type": "error",
     "traceback": [
      "\u001b[1;31m---------------------------------------------------------------------------\u001b[0m",
      "\u001b[1;31mAttributeError\u001b[0m                            Traceback (most recent call last)",
      "\u001b[1;32mc:\\erica\\snowballing\\snowballing\\snowballing.py\u001b[0m in \u001b[0;36msearch\u001b[1;34m(self, b)\u001b[0m\n\u001b[0;32m    864\u001b[0m         \u001b[0mself\u001b[0m\u001b[1;33m.\u001b[0m\u001b[0mquery\u001b[0m\u001b[1;33m.\u001b[0m\u001b[0mset_words\u001b[0m\u001b[1;33m(\u001b[0m\u001b[0mself\u001b[0m\u001b[1;33m.\u001b[0m\u001b[0msearch_text_widget\u001b[0m\u001b[1;33m.\u001b[0m\u001b[0mvalue\u001b[0m\u001b[1;33m)\u001b[0m\u001b[1;33m\u001b[0m\u001b[0m\n\u001b[0;32m    865\u001b[0m         \u001b[1;31m#self.query.set_num_page_results(20)\u001b[0m\u001b[1;33m\u001b[0m\u001b[1;33m\u001b[0m\u001b[0m\n\u001b[1;32m--> 866\u001b[1;33m         \u001b[0mself\u001b[0m\u001b[1;33m.\u001b[0m\u001b[0mreload\u001b[0m\u001b[1;33m(\u001b[0m\u001b[0mb\u001b[0m\u001b[1;33m)\u001b[0m\u001b[1;33m\u001b[0m\u001b[0m\n\u001b[0m\u001b[0;32m    867\u001b[0m \u001b[1;33m\u001b[0m\u001b[0m\n\u001b[0;32m    868\u001b[0m     \u001b[1;32mdef\u001b[0m \u001b[0mnext_page\u001b[0m\u001b[1;33m(\u001b[0m\u001b[0mself\u001b[0m\u001b[1;33m,\u001b[0m \u001b[0mb\u001b[0m\u001b[1;33m)\u001b[0m\u001b[1;33m:\u001b[0m\u001b[1;33m\u001b[0m\u001b[0m\n",
      "\u001b[1;32mc:\\erica\\snowballing\\snowballing\\snowballing.py\u001b[0m in \u001b[0;36mreload\u001b[1;34m(self, b, show)\u001b[0m\n\u001b[0;32m    895\u001b[0m             \u001b[0mself\u001b[0m\u001b[1;33m.\u001b[0m\u001b[0mtab_widget\u001b[0m\u001b[1;33m.\u001b[0m\u001b[0mselected_index\u001b[0m \u001b[1;33m=\u001b[0m \u001b[1;36m1\u001b[0m\u001b[1;33m\u001b[0m\u001b[0m\n\u001b[0;32m    896\u001b[0m \u001b[1;33m\u001b[0m\u001b[0m\n\u001b[1;32m--> 897\u001b[1;33m         \u001b[0mself\u001b[0m\u001b[1;33m.\u001b[0m\u001b[0mnext_page_widget\u001b[0m\u001b[1;33m.\u001b[0m\u001b[0mdisabled\u001b[0m \u001b[1;33m=\u001b[0m \u001b[0mself\u001b[0m\u001b[1;33m.\u001b[0m\u001b[0mquerier\u001b[0m\u001b[1;33m.\u001b[0m\u001b[0mresult\u001b[0m\u001b[1;33m.\u001b[0m\u001b[0mnext_page\u001b[0m \u001b[1;32mis\u001b[0m \u001b[1;32mNone\u001b[0m\u001b[1;33m\u001b[0m\u001b[0m\n\u001b[0m\u001b[0;32m    898\u001b[0m         \u001b[0mself\u001b[0m\u001b[1;33m.\u001b[0m\u001b[0mprevious_page_widget\u001b[0m\u001b[1;33m.\u001b[0m\u001b[0mdisabled\u001b[0m \u001b[1;33m=\u001b[0m \u001b[0mself\u001b[0m\u001b[1;33m.\u001b[0m\u001b[0mquerier\u001b[0m\u001b[1;33m.\u001b[0m\u001b[0mresult\u001b[0m\u001b[1;33m.\u001b[0m\u001b[0mprev_page\u001b[0m \u001b[1;32mis\u001b[0m \u001b[1;32mNone\u001b[0m\u001b[1;33m\u001b[0m\u001b[0m\n\u001b[0;32m    899\u001b[0m \u001b[1;33m\u001b[0m\u001b[0m\n",
      "\u001b[1;31mAttributeError\u001b[0m: 'NoneType' object has no attribute 'next_page'"
     ]
    },
    {
     "ename": "AttributeError",
     "evalue": "'NoneType' object has no attribute 'next_page'",
     "output_type": "error",
     "traceback": [
      "\u001b[1;31m---------------------------------------------------------------------------\u001b[0m",
      "\u001b[1;31mAttributeError\u001b[0m                            Traceback (most recent call last)",
      "\u001b[1;32mc:\\erica\\snowballing\\snowballing\\snowballing.py\u001b[0m in \u001b[0;36msearch\u001b[1;34m(self, b)\u001b[0m\n\u001b[0;32m    864\u001b[0m         \u001b[0mself\u001b[0m\u001b[1;33m.\u001b[0m\u001b[0mquery\u001b[0m\u001b[1;33m.\u001b[0m\u001b[0mset_words\u001b[0m\u001b[1;33m(\u001b[0m\u001b[0mself\u001b[0m\u001b[1;33m.\u001b[0m\u001b[0msearch_text_widget\u001b[0m\u001b[1;33m.\u001b[0m\u001b[0mvalue\u001b[0m\u001b[1;33m)\u001b[0m\u001b[1;33m\u001b[0m\u001b[0m\n\u001b[0;32m    865\u001b[0m         \u001b[1;31m#self.query.set_num_page_results(20)\u001b[0m\u001b[1;33m\u001b[0m\u001b[1;33m\u001b[0m\u001b[0m\n\u001b[1;32m--> 866\u001b[1;33m         \u001b[0mself\u001b[0m\u001b[1;33m.\u001b[0m\u001b[0mreload\u001b[0m\u001b[1;33m(\u001b[0m\u001b[0mb\u001b[0m\u001b[1;33m)\u001b[0m\u001b[1;33m\u001b[0m\u001b[0m\n\u001b[0m\u001b[0;32m    867\u001b[0m \u001b[1;33m\u001b[0m\u001b[0m\n\u001b[0;32m    868\u001b[0m     \u001b[1;32mdef\u001b[0m \u001b[0mnext_page\u001b[0m\u001b[1;33m(\u001b[0m\u001b[0mself\u001b[0m\u001b[1;33m,\u001b[0m \u001b[0mb\u001b[0m\u001b[1;33m)\u001b[0m\u001b[1;33m:\u001b[0m\u001b[1;33m\u001b[0m\u001b[0m\n",
      "\u001b[1;32mc:\\erica\\snowballing\\snowballing\\snowballing.py\u001b[0m in \u001b[0;36mreload\u001b[1;34m(self, b, show)\u001b[0m\n\u001b[0;32m    895\u001b[0m             \u001b[0mself\u001b[0m\u001b[1;33m.\u001b[0m\u001b[0mtab_widget\u001b[0m\u001b[1;33m.\u001b[0m\u001b[0mselected_index\u001b[0m \u001b[1;33m=\u001b[0m \u001b[1;36m1\u001b[0m\u001b[1;33m\u001b[0m\u001b[0m\n\u001b[0;32m    896\u001b[0m \u001b[1;33m\u001b[0m\u001b[0m\n\u001b[1;32m--> 897\u001b[1;33m         \u001b[0mself\u001b[0m\u001b[1;33m.\u001b[0m\u001b[0mnext_page_widget\u001b[0m\u001b[1;33m.\u001b[0m\u001b[0mdisabled\u001b[0m \u001b[1;33m=\u001b[0m \u001b[0mself\u001b[0m\u001b[1;33m.\u001b[0m\u001b[0mquerier\u001b[0m\u001b[1;33m.\u001b[0m\u001b[0mresult\u001b[0m\u001b[1;33m.\u001b[0m\u001b[0mnext_page\u001b[0m \u001b[1;32mis\u001b[0m \u001b[1;32mNone\u001b[0m\u001b[1;33m\u001b[0m\u001b[0m\n\u001b[0m\u001b[0;32m    898\u001b[0m         \u001b[0mself\u001b[0m\u001b[1;33m.\u001b[0m\u001b[0mprevious_page_widget\u001b[0m\u001b[1;33m.\u001b[0m\u001b[0mdisabled\u001b[0m \u001b[1;33m=\u001b[0m \u001b[0mself\u001b[0m\u001b[1;33m.\u001b[0m\u001b[0mquerier\u001b[0m\u001b[1;33m.\u001b[0m\u001b[0mresult\u001b[0m\u001b[1;33m.\u001b[0m\u001b[0mprev_page\u001b[0m \u001b[1;32mis\u001b[0m \u001b[1;32mNone\u001b[0m\u001b[1;33m\u001b[0m\u001b[0m\n\u001b[0;32m    899\u001b[0m \u001b[1;33m\u001b[0m\u001b[0m\n",
      "\u001b[1;31mAttributeError\u001b[0m: 'NoneType' object has no attribute 'next_page'"
     ]
    },
    {
     "data": {
      "application/javascript": [
       "$('span:contains(\"# Temp\")').closest('.cell').remove();"
      ],
      "text/plain": [
       "<IPython.core.display.Javascript object>"
      ]
     },
     "metadata": {},
     "output_type": "display_data"
    },
    {
     "data": {
      "application/javascript": [
       "$('span:contains(\"# Temp\")').closest('.cell').remove();"
      ],
      "text/plain": [
       "<IPython.core.display.Javascript object>"
      ]
     },
     "metadata": {},
     "output_type": "display_data"
    },
    {
     "data": {
      "application/javascript": [
       "$('span:contains(\"# Temp\")').closest('.cell').remove();"
      ],
      "text/plain": [
       "<IPython.core.display.Javascript object>"
      ]
     },
     "metadata": {},
     "output_type": "display_data"
    },
    {
     "data": {
      "application/javascript": [
       "\n",
       "        $('span:contains(\"# Temp\")').closest('.cell').remove();\n",
       "        var code = IPython.notebook.insert_cell_below('code');\n",
       "        var prompt = code.element.find(\".input_prompt\");\n",
       "        prompt.append('<br><button style=\"height: 100%; width: 54px;\">Run</button>');\n",
       "        prompt.on(\"click\", \"button\", function(){\n",
       "            code.execute();\n",
       "        });\n",
       "        code.set_text(decodeURIComponent(window.atob(\"JTIzJTIwVGVtcCUwQWluc2VydCUyOCUyNyUyNyUyNyUwQWxpYW8yMDA1YSUyMCUzRCUyMERCJTI4V29ya1VucmVsYXRlZCUyOCUwQSUyMCUyMCUyMCUyMDIwMDUlMkMlMjAlMjJBJTIwc29mdHdhcmUlMjBwcm9jZXNzJTIwb250b2xvZ3klMjBhbmQlMjBpdHMlMjBhcHBsaWNhdGlvbiUyMiUyQyUwQSUyMCUyMCUyMCUyMGRpc3BsYXklM0QlMjJsaWFvJTIyJTJDJTBBJTIwJTIwJTIwJTIwYXV0aG9ycyUzRCUyMkxpYW8lMkMlMjBMaSUyMGFuZCUyMFF1JTJDJTIwWXV6aG9uZyUyMGFuZCUyMExldW5nJTJDJTIwSCUyMiUyQyUwQSUyMCUyMCUyMCUyMHBsYWNlJTNERkFLRSUyQyUwQSUyMCUyMCUyMCUyMHBwJTNEJTIyNi0tMTAlMjIlMkMlMEElMjAlMjAlMjAlMjBlbnRyeXR5cGUlM0QlMjJpbnByb2NlZWRpbmdzJTIyJTJDJTBBJTIwJTIwJTIwJTIwSUQlM0QlMjJsaWFvMjAwNXNvZnR3YXJlJTIyJTJDJTBBJTIwJTIwJTIwJTIwY2x1c3Rlcl9pZCUzRCUyMjE0MTMyMTA4NTc4MDc0MzU4OTE2JTIyJTJDJTBBJTIwJTIwJTIwJTIwc2Nob2xhciUzRCUyMmh0dHAlM0EvL3NjaG9sYXIuZ29vZ2xlLmNvbS9zY2hvbGFyJTNGY2l0ZXMlM0QxNDEzMjEwODU3ODA3NDM1ODkxNiUyNmFzX3NkdCUzRDIwMDUlMjZzY2lvZHQlM0QwJTJDNSUyNmhsJTNEZW4lMjIlMkMlMEElMjAlMjAlMjAlMjBnczIwMTYlM0QlMjIxJTIyJTJDJTBBJTIwJTIwJTIwJTIwcGxhY2V4JTNEJTIySVNXQzIwMDUlMjBXb3Jrc2hvcCUyMG9uJTIwU2VtYW50aWMlMjBXZWIlMjBFbmFibGVkJTIwU29mdHdhcmUlMjBFbmdpbmVlcmluZyUyMiUyQyUwQSUyOSUyOSUwQSUyNyUyNyUyNyUyOSUzQg==\")));\n",
       "    "
      ],
      "text/plain": [
       "<IPython.core.display.Javascript object>"
      ]
     },
     "metadata": {},
     "output_type": "display_data"
    },
    {
     "data": {
      "application/javascript": [
       "\n",
       "        $('span:contains(\"# Temp\")').closest('.cell').remove();\n",
       "        var code = IPython.notebook.insert_cell_below('code');\n",
       "        var prompt = code.element.find(\".input_prompt\");\n",
       "        prompt.append('<br><button style=\"height: 100%; width: 54px;\">Run</button>');\n",
       "        prompt.on(\"click\", \"button\", function(){\n",
       "            code.execute();\n",
       "        });\n",
       "        code.set_text(decodeURIComponent(window.atob(\"JTIzJTIwVGVtcCUwQWluc2VydCUyOCUyNyUyNyUyNyUwQWdhemVsMjAxMmElMjAlM0QlMjBEQiUyOFdvcmtVbnJlbGF0ZWQlMjglMEElMjAlMjAlMjAlMjAyMDEyJTJDJTIwJTIyQW4lMjBvbnRvbG9neSUyMGJhc2VkJTIwaW5mcmFzdHJ1Y3R1cmUlMjB0byUyMHN1cHBvcnQlMjBDTU1JLWJhc2VkJTIwc29mdHdhcmUlMjBwcm9jZXNzJTIwYXNzZXNzbWVudCUyMiUyQyUwQSUyMCUyMCUyMCUyMGRpc3BsYXklM0QlMjJnYXplbCUyMiUyQyUwQSUyMCUyMCUyMCUyMGF1dGhvcnMlM0QlMjJHYXplbCUyQyUyMFNlbWElMjBhbmQlMjBTZXplciUyQyUyMEVicnUlMjBBayU3QiVDMyVBNyU3RGFwaW5hciUyMGFuZCUyMFRhcmhhbiUyQyUyMEF5Y2ElMjIlMkMlMEElMjAlMjAlMjAlMjBwbGFjZSUzREZBS0UlMkMlMEElMjAlMjAlMjAlMjBwcCUzRCUyMjE1NS0tMTY0JTIyJTJDJTBBJTIwJTIwJTIwJTIwZW50cnl0eXBlJTNEJTIyYXJ0aWNsZSUyMiUyQyUwQSUyMCUyMCUyMCUyMHZvbHVtZSUzRCUyMjI1JTIyJTJDJTBBJTIwJTIwJTIwJTIwbnVtYmVyJTNEJTIyMSUyMiUyQyUwQSUyMCUyMCUyMCUyMElEJTNEJTIyZ2F6ZWwyMDEyb250b2xvZ3klMjIlMkMlMEElMjAlMjAlMjAlMjBjbHVzdGVyX2lkJTNEJTIyMTMwODY5NTc2MzgyMDQzMDQxMTklMjIlMkMlMEElMjAlMjAlMjAlMjBzY2hvbGFyJTNEJTIyaHR0cCUzQS8vc2Nob2xhci5nb29nbGUuY29tL3NjaG9sYXIlM0ZjaXRlcyUzRDEzMDg2OTU3NjM4MjA0MzA0MTE5JTI2YXNfc2R0JTNEMjAwNSUyNnNjaW9kdCUzRDAlMkM1JTI2aGwlM0RlbiUyMiUyQyUwQSUyMCUyMCUyMCUyMGdzMjAxNiUzRCUyMjElMjIlMkMlMEElMjAlMjAlMjAlMjBwbGFjZXglM0QlMjJHYXppJTIwVW5pdmVyc2l0eSUyMEpvdXJuYWwlMjBvZiUyMFNjaWVuY2UlMjIlMkMlMEElMjklMjklMEElMjclMjclMjclMjklM0I=\")));\n",
       "    "
      ],
      "text/plain": [
       "<IPython.core.display.Javascript object>"
      ]
     },
     "metadata": {},
     "output_type": "display_data"
    },
    {
     "data": {
      "application/javascript": [
       "$('span:contains(\"# Temp\")').closest('.cell').remove();"
      ],
      "text/plain": [
       "<IPython.core.display.Javascript object>"
      ]
     },
     "metadata": {},
     "output_type": "display_data"
    },
    {
     "data": {
      "application/javascript": [
       "\n",
       "        $('span:contains(\"# Temp\")').closest('.cell').remove();\n",
       "        var code = IPython.notebook.insert_cell_below('code');\n",
       "        var prompt = code.element.find(\".input_prompt\");\n",
       "        prompt.append('<br><button style=\"height: 100%; width: 54px;\">Run</button>');\n",
       "        prompt.on(\"click\", \"button\", function(){\n",
       "            code.execute();\n",
       "        });\n",
       "        code.set_text(decodeURIComponent(window.atob(\"JTIzJTIwVGVtcCUwQWluc2VydCUyOCUyNyUyNyUyNyUwQWdhemVsMjAxMmElMjAlM0QlMjBEQiUyOFdvcmtVbnJlbGF0ZWQlMjglMEElMjAlMjAlMjAlMjAyMDEyJTJDJTIwJTIyQW4lMjBvbnRvbG9neSUyMGJhc2VkJTIwaW5mcmFzdHJ1Y3R1cmUlMjB0byUyMHN1cHBvcnQlMjBDTU1JLWJhc2VkJTIwc29mdHdhcmUlMjBwcm9jZXNzJTIwYXNzZXNzbWVudCUyMiUyQyUwQSUyMCUyMCUyMCUyMGRpc3BsYXklM0QlMjJnYXplbCUyMiUyQyUwQSUyMCUyMCUyMCUyMGF1dGhvcnMlM0QlMjJHYXplbCUyQyUyMFNlbWElMjBhbmQlMjBTZXplciUyQyUyMEVicnUlMjBBayU3QiVDMyVBNyU3RGFwaW5hciUyMGFuZCUyMFRhcmhhbiUyQyUyMEF5Y2ElMjIlMkMlMEElMjAlMjAlMjAlMjBwbGFjZSUzREZBS0UlMkMlMEElMjAlMjAlMjAlMjBwcCUzRCUyMjE1NS0tMTY0JTIyJTJDJTBBJTIwJTIwJTIwJTIwZW50cnl0eXBlJTNEJTIyYXJ0aWNsZSUyMiUyQyUwQSUyMCUyMCUyMCUyMHZvbHVtZSUzRCUyMjI1JTIyJTJDJTBBJTIwJTIwJTIwJTIwbnVtYmVyJTNEJTIyMSUyMiUyQyUwQSUyMCUyMCUyMCUyMElEJTNEJTIyZ2F6ZWwyMDEyb250b2xvZ3klMjIlMkMlMEElMjAlMjAlMjAlMjBjbHVzdGVyX2lkJTNEJTIyMTMwODY5NTc2MzgyMDQzMDQxMTklMjIlMkMlMEElMjAlMjAlMjAlMjBzY2hvbGFyJTNEJTIyaHR0cCUzQS8vc2Nob2xhci5nb29nbGUuY29tL3NjaG9sYXIlM0ZjaXRlcyUzRDEzMDg2OTU3NjM4MjA0MzA0MTE5JTI2YXNfc2R0JTNEMjAwNSUyNnNjaW9kdCUzRDAlMkM1JTI2aGwlM0RlbiUyMiUyQyUwQSUyMCUyMCUyMCUyMGdzMjAxNiUzRCUyMjElMjIlMkMlMEElMjAlMjAlMjAlMjBwbGFjZXglM0QlMjJHYXppJTIwVW5pdmVyc2l0eSUyMEpvdXJuYWwlMjBvZiUyMFNjaWVuY2UlMjIlMkMlMEElMjklMjklMEElMjclMjclMjclMjklM0I=\")));\n",
       "    "
      ],
      "text/plain": [
       "<IPython.core.display.Javascript object>"
      ]
     },
     "metadata": {},
     "output_type": "display_data"
    },
    {
     "data": {
      "application/javascript": [
       "\n",
       "        $('span:contains(\"# Temp\")').closest('.cell').remove();\n",
       "        var code = IPython.notebook.insert_cell_below('code');\n",
       "        var prompt = code.element.find(\".input_prompt\");\n",
       "        prompt.append('<br><button style=\"height: 100%; width: 54px;\">Run</button>');\n",
       "        prompt.on(\"click\", \"button\", function(){\n",
       "            code.execute();\n",
       "        });\n",
       "        code.set_text(decodeURIComponent(window.atob(\"JTIzJTIwVGVtcCUwQWluc2VydCUyOCUyNyUyNyUyNyUwQXJ5dTIwMDhhJTIwJTNEJTIwREIlMjhXb3JrVW5yZWxhdGVkJTI4JTBBJTIwJTIwJTIwJTIwMjAwOCUyQyUyMCUyMkElMjBzdHJhdGVnaWMlMjB0ZXN0JTIwcHJvY2VzcyUyMGltcHJvdmVtZW50JTIwYXBwcm9hY2glMjB1c2luZyUyMGFuJTIwb250b2xvZ2ljYWwlMjBkZXNjcmlwdGlvbiUyMGZvciUyME1ORC1UTU0lMjIlMkMlMEElMjAlMjAlMjAlMjBkaXNwbGF5JTNEJTIycnl1JTIyJTJDJTBBJTIwJTIwJTIwJTIwYXV0aG9ycyUzRCUyMlJ5dSUyQyUyMEhveWVvbiUyMGFuZCUyMFJ5dSUyQyUyMERvbmctS3VrJTIwYW5kJTIwQmFpayUyQyUyMEpvbmdtb29uJTIyJTJDJTBBJTIwJTIwJTIwJTIwcGxhY2UlM0RGQUtFJTJDJTBBJTIwJTIwJTIwJTIwcHAlM0QlMjI1NjEtLTU2NiUyMiUyQyUwQSUyMCUyMCUyMCUyMGVudHJ5dHlwZSUzRCUyMmlucHJvY2VlZGluZ3MlMjIlMkMlMEElMjAlMjAlMjAlMjBvcmdhbml6YXRpb24lM0QlMjJJRUVFJTIyJTJDJTBBJTIwJTIwJTIwJTIwSUQlM0QlMjJyeXUyMDA4c3RyYXRlZ2ljJTIyJTJDJTBBJTIwJTIwJTIwJTIwY2x1c3Rlcl9pZCUzRCUyMjE0NjI5MDUwMTA4ODA5NDIyMzE4JTIyJTJDJTBBJTIwJTIwJTIwJTIwc2Nob2xhciUzRCUyMmh0dHAlM0EvL3NjaG9sYXIuZ29vZ2xlLmNvbS9zY2hvbGFyJTNGY2l0ZXMlM0QxNDYyOTA1MDEwODgwOTQyMjMxOCUyNmFzX3NkdCUzRDIwMDUlMjZzY2lvZHQlM0QwJTJDNSUyNmhsJTNEZW4lMjIlMkMlMEElMjAlMjAlMjAlMjBnczIwMTYlM0QlMjIxJTIyJTJDJTBBJTIwJTIwJTIwJTIwcGxhY2V4JTNEJTIyQ29tcHV0ZXIlMjBhbmQlMjBJbmZvcm1hdGlvbiUyMFNjaWVuY2UlMkMlMjAyMDA4LiUyMElDSVMlMjAwOC4lMjBTZXZlbnRoJTIwSUVFRS9BQ0lTJTIwSW50ZXJuYXRpb25hbCUyMENvbmZlcmVuY2UlMjBvbiUyMiUyQyUwQSUyOSUyOSUwQSUyNyUyNyUyNyUyOSUzQg==\")));\n",
       "    "
      ],
      "text/plain": [
       "<IPython.core.display.Javascript object>"
      ]
     },
     "metadata": {},
     "output_type": "display_data"
    },
    {
     "data": {
      "application/javascript": [
       "\n",
       "        $('span:contains(\"# Temp\")').closest('.cell').remove();\n",
       "        var code = IPython.notebook.insert_cell_below('code');\n",
       "        var prompt = code.element.find(\".input_prompt\");\n",
       "        prompt.append('<br><button style=\"height: 100%; width: 54px;\">Run</button>');\n",
       "        prompt.on(\"click\", \"button\", function(){\n",
       "            code.execute();\n",
       "        });\n",
       "        code.set_text(decodeURIComponent(window.atob(\"JTIzJTIwVGVtcCUwQWluc2VydCUyOCUyNyUyNyUyNyUwQTIwMTBhJTIwJTNEJTIwREIlMjhXb3JrVW5yZWxhdGVkJTI4JTBBJTIwJTIwJTIwJTIwMjAxMCUyQyUyMCUyMkJ1aWxkaW5nJTIwcHJvY2VzcyUyMGRlZmluaXRpb24lMjB3aXRoJTIwb250b2xvZ3klMjBiYWNrZ3JvdW5kJTIyJTJDJTBBJTIwJTIwJTIwJTIwZGlzcGxheSUzRCUyMiUyMiUyQyUwQSUyMCUyMCUyMCUyMGF1dGhvcnMlM0QlMjIlN0IlQzUlQTAlN0R0b2xmYSUyQyUyMFN2YXRvcGx1ayUyMGFuZCUyMEtvJTdCJUM1JUJFJTdEdXN6bmlrJTJDJTIwSmFuJTIwYW5kJTIwS28lN0IlQzUlQTElN0RpbiVDMyVBMXIlMkMlMjBNaWNoYWwlMjBhbmQlMjBEdSU3QiVDNSVCRSU3RCVDMyVBRCUyQyUyME1hcmllJTIwYW5kJTIwJTdCJUM0JThDJTdEJUMzJUFEaGFsb3YlQzMlQTElMkMlMjBNYXJ0aW5hJTIwYW5kJTIwVm9uZHIlQzMlQTFrJTJDJTIwSXZvJTIyJTJDJTBBJTIwJTIwJTIwJTIwcGxhY2UlM0RGQUtFJTJDJTBBJTIwJTIwJTIwJTIwcHAlM0QlMjIzMjgtLTMzNCUyMiUyQyUwQSUyMCUyMCUyMCUyMGVudHJ5dHlwZSUzRCUyMmlucHJvY2VlZGluZ3MlMjIlMkMlMEElMjAlMjAlMjAlMjBvcmdhbml6YXRpb24lM0QlMjJJRUVFJTIyJTJDJTBBJTIwJTIwJTIwJTIwSUQlM0QlMjJ2c3RvbGZhMjAxMGJ1aWxkaW5nJTIyJTJDJTBBJTIwJTIwJTIwJTIwY2x1c3Rlcl9pZCUzRCUyMjEwMzA4Njk2Mzc1MzE5MDU5MDg1JTIyJTJDJTBBJTIwJTIwJTIwJTIwc2Nob2xhciUzRCUyMmh0dHAlM0EvL3NjaG9sYXIuZ29vZ2xlLmNvbS9zY2hvbGFyJTNGY2l0ZXMlM0QxMDMwODY5NjM3NTMxOTA1OTA4NSUyNmFzX3NkdCUzRDIwMDUlMjZzY2lvZHQlM0QwJTJDNSUyNmhsJTNEZW4lMjIlMkMlMEElMjAlMjAlMjAlMjBnczIwMTYlM0QlMjIxJTIyJTJDJTBBJTIwJTIwJTIwJTIwcGxhY2V4JTNEJTIyQ29tcHV0ZXIlMjBJbmZvcm1hdGlvbiUyMFN5c3RlbXMlMjBhbmQlMjBJbmR1c3RyaWFsJTIwTWFuYWdlbWVudCUyMEFwcGxpY2F0aW9ucyUyMCUyOENJU0lNJTI5JTJDJTIwMjAxMCUyMEludGVybmF0aW9uYWwlMjBDb25mZXJlbmNlJTIwb24lMjIlMkMlMEElMjklMjklMEElMjclMjclMjclMjklM0I=\")));\n",
       "    "
      ],
      "text/plain": [
       "<IPython.core.display.Javascript object>"
      ]
     },
     "metadata": {},
     "output_type": "display_data"
    },
    {
     "data": {
      "application/javascript": [
       "\n",
       "        $('span:contains(\"# Temp\")').closest('.cell').remove();\n",
       "        var code = IPython.notebook.insert_cell_below('code');\n",
       "        var prompt = code.element.find(\".input_prompt\");\n",
       "        prompt.append('<br><button style=\"height: 100%; width: 54px;\">Run</button>');\n",
       "        prompt.on(\"click\", \"button\", function(){\n",
       "            code.execute();\n",
       "        });\n",
       "        code.set_text(decodeURIComponent(window.atob(\"JTIzJTIwVGVtcCUwQWluc2VydCUyOCUyNyUyNyUyNyUwQWdyYW1ib3cyMDEzYSUyMCUzRCUyMERCJTI4V29ya1VucmVsYXRlZCUyOCUwQSUyMCUyMCUyMCUyMDIwMTMlMkMlMjAlMjJBdXRvbWF0ZWQlMjBzb2Z0d2FyZSUyMGVuZ2luZWVyaW5nJTIwcHJvY2VzcyUyMGFzc2Vzc21lbnQlM0ElMjBzdXBwb3J0aW5nJTIwZGl2ZXJzZSUyMG1vZGVscyUyMHVzaW5nJTIwYW4lMjBvbnRvbG9neSUyMiUyQyUwQSUyMCUyMCUyMCUyMGRpc3BsYXklM0QlMjJncmFtYm93JTIyJTJDJTBBJTIwJTIwJTIwJTIwYXV0aG9ycyUzRCUyMkdyYW1ib3clMkMlMjBHcmVnb3IlMjBhbmQlMjBPYmVyaGF1c2VyJTJDJTIwUm95JTIwYW5kJTIwUmVpY2hlcnQlMkMlMjBNYW5mcmVkJTIyJTJDJTBBJTIwJTIwJTIwJTIwcGxhY2UlM0RGQUtFJTJDJTBBJTIwJTIwJTIwJTIwcHAlM0QlMjIyMTMtLTIyNCUyMiUyQyUwQSUyMCUyMCUyMCUyMGVudHJ5dHlwZSUzRCUyMmFydGljbGUlMjIlMkMlMEElMjAlMjAlMjAlMjB2b2x1bWUlM0QlMjI2JTIyJTJDJTBBJTIwJTIwJTIwJTIwbnVtYmVyJTNEJTIyMSUyMCUyNiUyMDIlMjIlMkMlMEElMjAlMjAlMjAlMjBJRCUzRCUyMmdyYW1ib3cyMDEzYXV0b21hdGVkJTIyJTJDJTBBJTIwJTIwJTIwJTIwY2x1c3Rlcl9pZCUzRCUyMjYyMzY0NjYyMzk1NDQ1NDk1NzAlMjIlMkMlMEElMjAlMjAlMjAlMjBzY2hvbGFyJTNEJTIyaHR0cCUzQS8vc2Nob2xhci5nb29nbGUuY29tL3NjaG9sYXIlM0ZjaXRlcyUzRDYyMzY0NjYyMzk1NDQ1NDk1NzAlMjZhc19zZHQlM0QyMDA1JTI2c2Npb2R0JTNEMCUyQzUlMjZobCUzRGVuJTIyJTJDJTBBJTIwJTIwJTIwJTIwZ3MyMDE2JTNEJTIyMSUyMiUyQyUwQSUyMCUyMCUyMCUyMHBsYWNleCUzRCUyMkludCUyN2wlMjBKb3VybmFsJTIwb24lMjBBZHZhbmNlcyUyMGluJTIwU29mdHdhcmUlMjIlMkMlMEElMjklMjklMEElMjclMjclMjclMjklM0I=\")));\n",
       "    "
      ],
      "text/plain": [
       "<IPython.core.display.Javascript object>"
      ]
     },
     "metadata": {},
     "output_type": "display_data"
    },
    {
     "data": {
      "application/javascript": [
       "$('span:contains(\"# Temp\")').closest('.cell').remove();"
      ],
      "text/plain": [
       "<IPython.core.display.Javascript object>"
      ]
     },
     "metadata": {},
     "output_type": "display_data"
    },
    {
     "data": {
      "application/javascript": [
       "\n",
       "        $('span:contains(\"# Temp\")').closest('.cell').remove();\n",
       "        var code = IPython.notebook.insert_cell_below('code');\n",
       "        var prompt = code.element.find(\".input_prompt\");\n",
       "        prompt.append('<br><button style=\"height: 100%; width: 54px;\">Run</button>');\n",
       "        prompt.on(\"click\", \"button\", function(){\n",
       "            code.execute();\n",
       "        });\n",
       "        code.set_text(decodeURIComponent(window.atob(\"JTIzJTIwVGVtcCUwQWluc2VydCUyOCUyNyUyNyUyNyUwQWdyYW1ib3cyMDEzYSUyMCUzRCUyMERCJTI4V29ya1Nub3diYWxsJTI4JTBBJTIwJTIwJTIwJTIwMjAxMyUyQyUyMCUyMkF1dG9tYXRlZCUyMHNvZnR3YXJlJTIwZW5naW5lZXJpbmclMjBwcm9jZXNzJTIwYXNzZXNzbWVudCUzQSUyMHN1cHBvcnRpbmclMjBkaXZlcnNlJTIwbW9kZWxzJTIwdXNpbmclMjBhbiUyMG9udG9sb2d5JTIyJTJDJTBBJTIwJTIwJTIwJTIwZGlzcGxheSUzRCUyMmdyYW1ib3clMjIlMkMlMEElMjAlMjAlMjAlMjBhdXRob3JzJTNEJTIyR3JhbWJvdyUyQyUyMEdyZWdvciUyMGFuZCUyME9iZXJoYXVzZXIlMkMlMjBSb3klMjBhbmQlMjBSZWljaGVydCUyQyUyME1hbmZyZWQlMjIlMkMlMEElMjAlMjAlMjAlMjBwbGFjZSUzREZBS0UlMkMlMEElMjAlMjAlMjAlMjBwcCUzRCUyMjIxMy0tMjI0JTIyJTJDJTBBJTIwJTIwJTIwJTIwZW50cnl0eXBlJTNEJTIyYXJ0aWNsZSUyMiUyQyUwQSUyMCUyMCUyMCUyMHZvbHVtZSUzRCUyMjYlMjIlMkMlMEElMjAlMjAlMjAlMjBudW1iZXIlM0QlMjIxJTIwJTI2JTIwMiUyMiUyQyUwQSUyMCUyMCUyMCUyMElEJTNEJTIyZ3JhbWJvdzIwMTNhdXRvbWF0ZWQlMjIlMkMlMEElMjAlMjAlMjAlMjBjbHVzdGVyX2lkJTNEJTIyNjIzNjQ2NjIzOTU0NDU0OTU3MCUyMiUyQyUwQSUyMCUyMCUyMCUyMHNjaG9sYXIlM0QlMjJodHRwJTNBLy9zY2hvbGFyLmdvb2dsZS5jb20vc2Nob2xhciUzRmNpdGVzJTNENjIzNjQ2NjIzOTU0NDU0OTU3MCUyNmFzX3NkdCUzRDIwMDUlMjZzY2lvZHQlM0QwJTJDNSUyNmhsJTNEZW4lMjIlMkMlMEElMjAlMjAlMjAlMjBnczIwMTYlM0QlMjIxJTIyJTJDJTBBJTIwJTIwJTIwJTIwcGxhY2V4JTNEJTIySW50JTI3bCUyMEpvdXJuYWwlMjBvbiUyMEFkdmFuY2VzJTIwaW4lMjBTb2Z0d2FyZSUyMiUyQyUwQSUyOSUyOSUwQSUyNyUyNyUyNyUyOSUzQg==\")));\n",
       "    "
      ],
      "text/plain": [
       "<IPython.core.display.Javascript object>"
      ]
     },
     "metadata": {},
     "output_type": "display_data"
    },
    {
     "data": {
      "application/javascript": [
       "\n",
       "        $('span:contains(\"# Temp\")').closest('.cell').remove();\n",
       "        var code = IPython.notebook.insert_cell_below('code');\n",
       "        var prompt = code.element.find(\".input_prompt\");\n",
       "        prompt.append('<br><button style=\"height: 100%; width: 54px;\">Run</button>');\n",
       "        prompt.on(\"click\", \"button\", function(){\n",
       "            code.execute();\n",
       "        });\n",
       "        code.set_text(decodeURIComponent(window.atob(\"JTIzJTIwVGVtcCUwQWluc2VydCUyOCUyNyUyNyUyNyUwQXNveWRhbjIwMTJhJTIwJTNEJTIwREIlMjhXb3JrU25vd2JhbGwlMjglMEElMjAlMjAlMjAlMjAyMDEyJTJDJTIwJTIyQSUyMHBhcnRpYWwlMjBmb3JtYWxpemF0aW9uJTIwb2YlMjB0aGUlMjBDTU1JLURFViVFMiU4MCU5NEElMjBjYXBhYmlsaXR5JTIwbWF0dXJpdHklMjBtb2RlbCUyMGZvciUyMGRldmVsb3BtZW50JTIyJTJDJTBBJTIwJTIwJTIwJTIwZGlzcGxheSUzRCUyMnNveWRhbiUyMiUyQyUwQSUyMCUyMCUyMCUyMGF1dGhvcnMlM0QlMjJTb3lkYW4lMkMlMjBHb2toYW4lMjBIYWxpdCUyMGFuZCUyMEtva2FyJTJDJTIwTWllY3p5c2xhdyUyME0lMjIlMkMlMEElMjAlMjAlMjAlMjBwbGFjZSUzREZBS0UlMkMlMEElMjAlMjAlMjAlMjBwcCUzRCUyMjc3NyUyMiUyQyUwQSUyMCUyMCUyMCUyMGVudHJ5dHlwZSUzRCUyMmFydGljbGUlMjIlMkMlMEElMjAlMjAlMjAlMjB2b2x1bWUlM0QlMjI1JTIyJTJDJTBBJTIwJTIwJTIwJTIwbnVtYmVyJTNEJTIyMTAlMjIlMkMlMEElMjAlMjAlMjAlMjBwdWJsaXNoZXIlM0QlMjJTY2llbnRpZmljJTIwUmVzZWFyY2glMjBQdWJsaXNoaW5nJTIyJTJDJTBBJTIwJTIwJTIwJTIwSUQlM0QlMjJzb3lkYW4yMDEycGFydGlhbCUyMiUyQyUwQSUyMCUyMCUyMCUyMGNsdXN0ZXJfaWQlM0QlMjI4NzUzMzYxODMxODk3NzA3MTk2JTIyJTJDJTBBJTIwJTIwJTIwJTIwc2Nob2xhciUzRCUyMmh0dHAlM0EvL3NjaG9sYXIuZ29vZ2xlLmNvbS9zY2hvbGFyJTNGY2l0ZXMlM0Q4NzUzMzYxODMxODk3NzA3MTk2JTI2YXNfc2R0JTNEMjAwNSUyNnNjaW9kdCUzRDAlMkM1JTI2aGwlM0RlbiUyMiUyQyUwQSUyMCUyMCUyMCUyMGdzMjAxNiUzRCUyMjElMjIlMkMlMEElMjAlMjAlMjAlMjBwbGFjZXglM0QlMjJKb3VybmFsJTIwb2YlMjBTb2Z0d2FyZSUyMEVuZ2luZWVyaW5nJTIwYW5kJTIwQXBwbGljYXRpb25zJTIyJTJDJTBBJTI5JTI5JTBBJTI3JTI3JTI3JTI5JTNC\")));\n",
       "    "
      ],
      "text/plain": [
       "<IPython.core.display.Javascript object>"
      ]
     },
     "metadata": {},
     "output_type": "display_data"
    },
    {
     "data": {
      "application/javascript": [
       "\n",
       "        $('span:contains(\"# Temp\")').closest('.cell').remove();\n",
       "        var code = IPython.notebook.insert_cell_below('code');\n",
       "        var prompt = code.element.find(\".input_prompt\");\n",
       "        prompt.append('<br><button style=\"height: 100%; width: 54px;\">Run</button>');\n",
       "        prompt.on(\"click\", \"button\", function(){\n",
       "            code.execute();\n",
       "        });\n",
       "        code.set_text(decodeURIComponent(window.atob(\"JTIzJTIwVGVtcCUwQWluc2VydCUyOCUyNyUyNyUyNyUwQWdyYW1ib3cyMDEyYSUyMCUzRCUyMERCJTI4V29ya1Nub3diYWxsJTI4JTBBJTIwJTIwJTIwJTIwMjAxMiUyQyUyMCUyMlRvd2FyZHMlMjBhdXRvbWF0ZWQlMjBwcm9jZXNzJTIwYXNzZXNzbWVudCUyMGluJTIwc29mdHdhcmUlMjBlbmdpbmVlcmluZyUyMiUyQyUwQSUyMCUyMCUyMCUyMGRpc3BsYXklM0QlMjJncmFtYm93JTIyJTJDJTBBJTIwJTIwJTIwJTIwYXV0aG9ycyUzRCUyMkdyYW1ib3clMkMlMjBHcmVnb3IlMjBhbmQlMjBPYmVyaGF1c2VyJTJDJTIwUm95JTIwYW5kJTIwUmVpY2hlcnQlMkMlMjBNYW5mcmVkJTIyJTJDJTBBJTIwJTIwJTIwJTIwcGxhY2UlM0RGQUtFJTJDJTBBJTIwJTIwJTIwJTIwZW50cnl0eXBlJTNEJTIyYXJ0aWNsZSUyMiUyQyUwQSUyMCUyMCUyMCUyMElEJTNEJTIyZ3JhbWJvdzIwMTJ0b3dhcmRzJTIyJTJDJTBBJTIwJTIwJTIwJTIwY2x1c3Rlcl9pZCUzRCUyMjEwMTQzMjExNDg2NDM0NTMzNTMwJTIyJTJDJTBBJTIwJTIwJTIwJTIwc2Nob2xhciUzRCUyMmh0dHAlM0EvL3NjaG9sYXIuZ29vZ2xlLmNvbS9zY2hvbGFyJTNGY2l0ZXMlM0QxMDE0MzIxMTQ4NjQzNDUzMzUzMCUyNmFzX3NkdCUzRDIwMDUlMjZzY2lvZHQlM0QwJTJDNSUyNmhsJTNEZW4lMjIlMkMlMEElMjAlMjAlMjAlMjBnczIwMTYlM0QlMjIxJTIyJTJDJTBBJTIwJTIwJTIwJTIwcGxhY2V4JTNEJTIyJTIyJTJDJTBBJTI5JTI5JTBBJTI3JTI3JTI3JTI5JTNC\")));\n",
       "    "
      ],
      "text/plain": [
       "<IPython.core.display.Javascript object>"
      ]
     },
     "metadata": {},
     "output_type": "display_data"
    },
    {
     "data": {
      "application/javascript": [
       "\n",
       "        $('span:contains(\"# Temp\")').closest('.cell').remove();\n",
       "        var code = IPython.notebook.insert_cell_below('code');\n",
       "        var prompt = code.element.find(\".input_prompt\");\n",
       "        prompt.append('<br><button style=\"height: 100%; width: 54px;\">Run</button>');\n",
       "        prompt.on(\"click\", \"button\", function(){\n",
       "            code.execute();\n",
       "        });\n",
       "        code.set_text(decodeURIComponent(window.atob(\"JTIzJTIwVGVtcCUwQWluc2VydCUyOCUyNyUyNyUyNyUwQWxpYW8yMDA1YiUyMCUzRCUyMERCJTI4V29ya1Nub3diYWxsJTI4JTBBJTIwJTIwJTIwJTIwMjAwNSUyQyUyMCUyMkFuJTIwT250b2xvZ3ktYmFzZWQlMjBBcHByb2FjaCUyMHRvJTIwRXhwcmVzcyUyMFNvZnR3YXJlJTIwUHJvY2Vzc2VzJTIyJTJDJTBBJTIwJTIwJTIwJTIwZGlzcGxheSUzRCUyMmxpYW8lMjBiJTIyJTJDJTBBJTIwJTIwJTIwJTIwYXV0aG9ycyUzRCUyMkxpYW8lMkMlMjBMaSUyMGFuZCUyMFF1JTJDJTIwWXV6aG9uZyUyMGFuZCUyMExldW5nJTJDJTIwSCUyMiUyQyUwQSUyMCUyMCUyMCUyMHBsYWNlJTNERkFLRSUyQyUwQSUyMCUyMCUyMCUyMGVudHJ5dHlwZSUzRCUyMm1pc2MlMjIlMkMlMEElMjAlMjAlMjAlMjBwdWJsaXNoZXIlM0QlMjJJU0ZTVCUyMiUyQyUwQSUyMCUyMCUyMCUyMElEJTNEJTIybGlhbzIwMDVvbnRvbG9neSUyMiUyQyUwQSUyMCUyMCUyMCUyMGNsdXN0ZXJfaWQlM0QlMjIxNzgxMjcwMTI4MzAzMzUyMjU1NiUyMiUyQyUwQSUyMCUyMCUyMCUyMHNjaG9sYXIlM0QlMjJodHRwJTNBLy9zY2hvbGFyLmdvb2dsZS5jb20vc2Nob2xhciUzRmNpdGVzJTNEMTc4MTI3MDEyODMwMzM1MjI1NTYlMjZhc19zZHQlM0QyMDA1JTI2c2Npb2R0JTNEMCUyQzUlMjZobCUzRGVuJTIyJTJDJTBBJTIwJTIwJTIwJTIwZ3MyMDE2JTNEJTIyMSUyMiUyQyUwQSUyMCUyMCUyMCUyMHBsYWNleCUzRCUyMiUyMiUyQyUwQSUyOSUyOSUwQSUyNyUyNyUyNyUyOSUzQg==\")));\n",
       "    "
      ],
      "text/plain": [
       "<IPython.core.display.Javascript object>"
      ]
     },
     "metadata": {},
     "output_type": "display_data"
    },
    {
     "data": {
      "application/javascript": [
       "\n",
       "        $('span:contains(\"# Temp\")').closest('.cell').remove();\n",
       "        var code = IPython.notebook.insert_cell_below('code');\n",
       "        var prompt = code.element.find(\".input_prompt\");\n",
       "        prompt.append('<br><button style=\"height: 100%; width: 54px;\">Run</button>');\n",
       "        prompt.on(\"click\", \"button\", function(){\n",
       "            code.execute();\n",
       "        });\n",
       "        code.set_text(decodeURIComponent(window.atob(\"JTIzJTIwVGVtcCUwQWluc2VydCUyOCUyNyUyNyUyNyUwQWthYmFhbGUyMDE2YSUyMCUzRCUyMERCJTI4V29ya1Nub3diYWxsJTI4JTBBJTIwJTIwJTIwJTIwMjAxNiUyQyUyMCUyMlJlcHJlc2VudGluZyUyMFNvZnR3YXJlJTIwUHJvY2VzcyUyMGluJTIwRGVzY3JpcHRpb24lMjBMb2dpY3MlM0ElMjBuJTIwT250b2xvZ3klMjBwcHJvYWNoJTIwZm9yJTIwU29mdHdhcmUlMjBQcm9jZXNzJTIwUmVhc29uaW5nJTIwYW5kJTIwVmVyaWZpY2F0aW9uJTIyJTJDJTBBJTIwJTIwJTIwJTIwZGlzcGxheSUzRCUyMmthYmFhbGUlMjIlMkMlMEElMjAlMjAlMjAlMjBhdXRob3JzJTNEJTIyS2FiYWFsZSUyQyUyMEVkd2FyZCUyMGFuZCUyMFdlbiUyQyUyMExpYW4lMjBhbmQlMjBXYW5nJTJDJTIwWmhlJTIwYW5kJTIwUm91dCUyQyUyMFRlcnJ5JTIyJTJDJTBBJTIwJTIwJTIwJTIwcGxhY2UlM0RJQ1NQSUNEJTJDJTBBJTIwJTIwJTIwJTIwcHAlM0QlMjIzNjItLTM3NiUyMiUyQyUwQSUyMCUyMCUyMCUyMGVudHJ5dHlwZSUzRCUyMmlucHJvY2VlZGluZ3MlMjIlMkMlMEElMjAlMjAlMjAlMjBvcmdhbml6YXRpb24lM0QlMjJTcHJpbmdlciUyMiUyQyUwQSUyMCUyMCUyMCUyMElEJTNEJTIya2FiYWFsZTIwMTZyZXByZXNlbnRpbmclMjIlMkMlMEElMjAlMjAlMjAlMjBjbHVzdGVyX2lkJTNEJTIyMTY0ODA3MTUwNTYwNDAyNTI4OTAlMjIlMkMlMEElMjAlMjAlMjAlMjBzY2hvbGFyJTNEJTIyaHR0cCUzQS8vc2Nob2xhci5nb29nbGUuY29tL3NjaG9sYXIlM0ZjaXRlcyUzRDE2NDgwNzE1MDU2MDQwMjUyODkwJTI2YXNfc2R0JTNEMjAwNSUyNnNjaW9kdCUzRDAlMkM1JTI2aGwlM0RlbiUyMiUyQyUwQSUyMCUyMCUyMCUyMGdzMjAxNiUzRCUyMjElMjIlMkMlMEElMjAlMjAlMjAlMjBwbGFjZXglM0QlMjJJbnRlcm5hdGlvbmFsJTIwQ29uZmVyZW5jZSUyMG9uJTIwU29mdHdhcmUlMjBQcm9jZXNzJTIwSW1wcm92ZW1lbnQlMjBhbmQlMjBDYXBhYmlsaXR5JTIwRGV0ZXJtaW5hdGlvbiUyMiUyQyUwQSUyOSUyOSUwQSUyNyUyNyUyNyUyOSUzQg==\")));\n",
       "    "
      ],
      "text/plain": [
       "<IPython.core.display.Javascript object>"
      ]
     },
     "metadata": {},
     "output_type": "display_data"
    },
    {
     "data": {
      "application/javascript": [
       "\n",
       "        $('span:contains(\"# Temp\")').closest('.cell').remove();\n",
       "        var code = IPython.notebook.insert_cell_below('code');\n",
       "        var prompt = code.element.find(\".input_prompt\");\n",
       "        prompt.append('<br><button style=\"height: 100%; width: 54px;\">Run</button>');\n",
       "        prompt.on(\"click\", \"button\", function(){\n",
       "            code.execute();\n",
       "        });\n",
       "        code.set_text(decodeURIComponent(window.atob(\"JTIzJTIwVGVtcCUwQWluc2VydCUyOCUyNyUyNyUyNyUwQXJ1bmdyYXRyaTIwMDhhJTIwJTNEJTIwREIlMjhXb3JrU25vd2JhbGwlMjglMEElMjAlMjAlMjAlMjAyMDA4JTJDJTIwJTIyUHJvamVjdCUyMGFzc2V0cyUyMG9udG9sb2d5JTIwJTI4UEFPJTI5JTIwdG8lMjBzdXBwb3J0JTIwZ2FwJTIwYW5hbHlzaXMlMjBmb3IlMjBvcmdhbml6YXRpb24lMjBwcm9jZXNzJTIwaW1wcm92ZW1lbnQlMjBiYXNlZCUyMG9uJTIwQ01NSSUyMHYuJTIwMS4yJTIyJTJDJTBBJTIwJTIwJTIwJTIwZGlzcGxheSUzRCUyMnJ1bmdyYXRyaSUyMiUyQyUwQSUyMCUyMCUyMCUyMGF1dGhvcnMlM0QlMjJSdW5ncmF0cmklMkMlMjBTdXdhbml0JTIwYW5kJTIwVXNhbmF2YXNpbiUyQyUyMFNhc2lwb3JuJTIyJTJDJTBBJTIwJTIwJTIwJTIwcGxhY2UlM0RJQ1NFJTJDJTBBJTIwJTIwJTIwJTIwcHAlM0QlMjI3Ni0tODclMjIlMkMlMEElMjAlMjAlMjAlMjBlbnRyeXR5cGUlM0QlMjJpbnByb2NlZWRpbmdzJTIyJTJDJTBBJTIwJTIwJTIwJTIwb3JnYW5pemF0aW9uJTNEJTIyU3ByaW5nZXIlMjIlMkMlMEElMjAlMjAlMjAlMjBJRCUzRCUyMnJ1bmdyYXRyaTIwMDhwcm9qZWN0JTIyJTJDJTBBJTIwJTIwJTIwJTIwY2x1c3Rlcl9pZCUzRCUyMjk1NDg4NzE5MDgwMzk1MDMwNDAlMjIlMkMlMEElMjAlMjAlMjAlMjBzY2hvbGFyJTNEJTIyaHR0cCUzQS8vc2Nob2xhci5nb29nbGUuY29tL3NjaG9sYXIlM0ZjaXRlcyUzRDk1NDg4NzE5MDgwMzk1MDMwNDAlMjZhc19zZHQlM0QyMDA1JTI2c2Npb2R0JTNEMCUyQzUlMjZobCUzRGVuJTIyJTJDJTBBJTIwJTIwJTIwJTIwZ3MyMDE2JTNEJTIyMSUyMiUyQyUwQSUyMCUyMCUyMCUyMHBsYWNleCUzRCUyMkludGVybmF0aW9uYWwlMjBDb25mZXJlbmNlJTIwb24lMjBTb2Z0d2FyZSUyMFByb2Nlc3MlMjIlMkMlMEElMjklMjklMEElMjclMjclMjclMjklM0I=\")));\n",
       "    "
      ],
      "text/plain": [
       "<IPython.core.display.Javascript object>"
      ]
     },
     "metadata": {},
     "output_type": "display_data"
    },
    {
     "data": {
      "application/javascript": [
       "\n",
       "        $('span:contains(\"# Temp\")').closest('.cell').remove();\n",
       "        var code = IPython.notebook.insert_cell_below('code');\n",
       "        var prompt = code.element.find(\".input_prompt\");\n",
       "        prompt.append('<br><button style=\"height: 100%; width: 54px;\">Run</button>');\n",
       "        prompt.on(\"click\", \"button\", function(){\n",
       "            code.execute();\n",
       "        });\n",
       "        code.set_text(decodeURIComponent(window.atob(\"JTIzJTIwVGVtcCUwQWluc2VydCUyOCUyNyUyNyUyNyUwQWdhemVsMjAwOWElMjAlM0QlMjBEQiUyOFdvcmtTbm93YmFsbCUyOCUwQSUyMCUyMCUyMCUyMDIwMDklMkMlMjAlMjJBJTIwQ01NSSUyME9udG9sb2d5JTIwZm9yJTIwQW4lMjBPbnRvbG9neS1CYXNlZCUyMFNvZnR3YXJlJTIwUHJvY2VzcyUyMEFzc2Vzc21lbnQlMjBUb29sJTIyJTJDJTBBJTIwJTIwJTIwJTIwZGlzcGxheSUzRCUyMmdhemVsJTIyJTJDJTBBJTIwJTIwJTIwJTIwYXV0aG9ycyUzRCUyMkdhemVsJTJDJTIwU2VtYSUyMGFuZCUyMFRhcmhhbiUyQyUyMEF5JTdCJUMzJUE3JTdEYSUyMGFuZCUyMFNlemVyJTJDJTIwRWJydSUyMiUyQyUwQSUyMCUyMCUyMCUyMHBsYWNlJTNERkFLRSUyQyUwQSUyMCUyMCUyMCUyMGVudHJ5dHlwZSUzRCUyMmlucHJvY2VlZGluZ3MlMjIlMkMlMEElMjAlMjAlMjAlMjB2b2x1bWUlM0QlMjI5JTIyJTJDJTBBJTIwJTIwJTIwJTIwSUQlM0QlMjJnYXplbDIwMDljbW1pJTIyJTJDJTBBJTIwJTIwJTIwJTIwY2x1c3Rlcl9pZCUzRCUyMjY4MzM2ODEyMjY0NDM4MDA1ODIlMjIlMkMlMEElMjAlMjAlMjAlMjBzY2hvbGFyJTNEJTIyaHR0cCUzQS8vc2Nob2xhci5nb29nbGUuY29tL3NjaG9sYXIlM0ZjaXRlcyUzRDY4MzM2ODEyMjY0NDM4MDA1ODIlMjZhc19zZHQlM0QyMDA1JTI2c2Npb2R0JTNEMCUyQzUlMjZobCUzRGVuJTIyJTJDJTBBJTIwJTIwJTIwJTIwZ3MyMDE2JTNEJTIyMSUyMiUyQyUwQSUyMCUyMCUyMCUyMHBsYWNleCUzRCUyMnByb2NlZWRpbmdzJTIwb2YlMjB0aGUlMjAxNnRoJTIwRXVyb1NQSTIlMjBDb25mZXJlbmNlJTIyJTJDJTBBJTI5JTI5JTBBJTI3JTI3JTI3JTI5JTNC\")));\n",
       "    "
      ],
      "text/plain": [
       "<IPython.core.display.Javascript object>"
      ]
     },
     "metadata": {},
     "output_type": "display_data"
    },
    {
     "data": {
      "application/javascript": [
       "\n",
       "        $('span:contains(\"# Temp\")').closest('.cell').remove();\n",
       "        var code = IPython.notebook.insert_cell_below('code');\n",
       "        var prompt = code.element.find(\".input_prompt\");\n",
       "        prompt.append('<br><button style=\"height: 100%; width: 54px;\">Run</button>');\n",
       "        prompt.on(\"click\", \"button\", function(){\n",
       "            code.execute();\n",
       "        });\n",
       "        code.set_text(decodeURIComponent(window.atob(\"JTIzJTIwVGVtcCUwQWluc2VydCUyOCUyNyUyNyUyNyUwQXNveWRhbjIwMDZhJTIwJTNEJTIwREIlMjhXb3JrU25vd2JhbGwlMjglMEElMjAlMjAlMjAlMjAyMDA2JTJDJTIwJTIyQW4lMjBPV0wlMjBvbnRvbG9neSUyMGZvciUyMHJlcHJlc2VudGluZyUyMHRoZSUyMENNTUktU1clMjBtb2RlbCUyMiUyQyUwQSUyMCUyMCUyMCUyMGRpc3BsYXklM0QlMjJzb3lkYW4lMjIlMkMlMEElMjAlMjAlMjAlMjBhdXRob3JzJTNEJTIyU295ZGFuJTJDJTIwR29raGFuJTIwSGFsaXQlMjBhbmQlMjBLb2thciUyQyUyME0lMjIlMkMlMEElMjAlMjAlMjAlMjBwbGFjZSUzREZBS0UlMkMlMEElMjAlMjAlMjAlMjBlbnRyeXR5cGUlM0QlMjJpbnByb2NlZWRpbmdzJTIyJTJDJTBBJTIwJTIwJTIwJTIwb3JnYW5pemF0aW9uJTNEJTIyQ2l0ZXNlZXIlMjIlMkMlMEElMjAlMjAlMjAlMjBJRCUzRCUyMnNveWRhbjIwMDZvd2wlMjIlMkMlMEElMjAlMjAlMjAlMjBjbHVzdGVyX2lkJTNEJTIyOTAyOTcxNDUyMDY2OTcxOTg2OCUyMiUyQyUwQSUyMCUyMCUyMCUyMHNjaG9sYXIlM0QlMjJodHRwJTNBLy9zY2hvbGFyLmdvb2dsZS5jb20vc2Nob2xhciUzRmNpdGVzJTNEOTAyOTcxNDUyMDY2OTcxOTg2OCUyNmFzX3NkdCUzRDIwMDUlMjZzY2lvZHQlM0QwJTJDNSUyNmhsJTNEZW4lMjIlMkMlMEElMjAlMjAlMjAlMjBnczIwMTYlM0QlMjIxJTIyJTJDJTBBJTIwJTIwJTIwJTIwcGxhY2V4JTNEJTIyV29ya3Nob3AlMjBvbiUyMFNlbWFudGljJTIwV2ViJTIwRW5hYmxlZCUyMFNvZnR3YXJlJTIwRW5naW5lZXJpbmclMjAlMjhTV0VTRSUyOSUyMiUyQyUwQSUyOSUyOSUwQSUyNyUyNyUyNyUyOSUzQg==\")));\n",
       "    "
      ],
      "text/plain": [
       "<IPython.core.display.Javascript object>"
      ]
     },
     "metadata": {},
     "output_type": "display_data"
    },
    {
     "data": {
      "application/javascript": [
       "\n",
       "        $('span:contains(\"# Temp\")').closest('.cell').remove();\n",
       "        var code = IPython.notebook.insert_cell_below('code');\n",
       "        var prompt = code.element.find(\".input_prompt\");\n",
       "        prompt.append('<br><button style=\"height: 100%; width: 54px;\">Run</button>');\n",
       "        prompt.on(\"click\", \"button\", function(){\n",
       "            code.execute();\n",
       "        });\n",
       "        code.set_text(decodeURIComponent(window.atob(\"JTIzJTIwVGVtcCUwQWluc2VydCUyOCUyNyUyNyUyNyUwQWxlZTIwMDlhJTIwJTNEJTIwREIlMjhXb3JrU25vd2JhbGwlMjglMEElMjAlMjAlMjAlMjAyMDA5JTJDJTIwJTIyT250b2xvZ3ktYmFzZWQlMjBjb21wdXRhdGlvbmFsJTIwaW50ZWxsaWdlbnQlMjBtdWx0aS1hZ2VudCUyMGFuZCUyMGl0cyUyMGFwcGxpY2F0aW9uJTIwdG8lMjBDTU1JJTIwYXNzZXNzbWVudCUyMiUyQyUwQSUyMCUyMCUyMCUyMGRpc3BsYXklM0QlMjJsZWUlMjIlMkMlMEElMjAlMjAlMjAlMjBhdXRob3JzJTNEJTIyTGVlJTJDJTIwQ2hhbmctU2hpbmclMjBhbmQlMjBXYW5nJTJDJTIwTWVpLUh1aSUyMiUyQyUwQSUyMCUyMCUyMCUyMHBsYWNlJTNERkFLRSUyQyUwQSUyMCUyMCUyMCUyMHBwJTNEJTIyMjAzLS0yMTklMjIlMkMlMEElMjAlMjAlMjAlMjBlbnRyeXR5cGUlM0QlMjJhcnRpY2xlJTIyJTJDJTBBJTIwJTIwJTIwJTIwdm9sdW1lJTNEJTIyMzAlMjIlMkMlMEElMjAlMjAlMjAlMjBudW1iZXIlM0QlMjIzJTIyJTJDJTBBJTIwJTIwJTIwJTIwcHVibGlzaGVyJTNEJTIyU3ByaW5nZXIlMjIlMkMlMEElMjAlMjAlMjAlMjBJRCUzRCUyMmxlZTIwMDlvbnRvbG9neSUyMiUyQyUwQSUyMCUyMCUyMCUyMGNsdXN0ZXJfaWQlM0QlMjIxNTkzNDAwODU5MDM0NjQ0MTcxNCUyMiUyQyUwQSUyMCUyMCUyMCUyMHNjaG9sYXIlM0QlMjJodHRwJTNBLy9zY2hvbGFyLmdvb2dsZS5jb20vc2Nob2xhciUzRmNpdGVzJTNEMTU5MzQwMDg1OTAzNDY0NDE3MTQlMjZhc19zZHQlM0QyMDA1JTI2c2Npb2R0JTNEMCUyQzUlMjZobCUzRGVuJTIyJTJDJTBBJTIwJTIwJTIwJTIwZ3MyMDE2JTNEJTIyMSUyMiUyQyUwQSUyMCUyMCUyMCUyMHBsYWNleCUzRCUyMkFwcGxpZWQlMjBJbnRlbGxpZ2VuY2UlMjIlMkMlMEElMjklMjklMEElMjclMjclMjclMjklM0I=\")));\n",
       "    "
      ],
      "text/plain": [
       "<IPython.core.display.Javascript object>"
      ]
     },
     "metadata": {},
     "output_type": "display_data"
    },
    {
     "data": {
      "application/javascript": [
       "\n",
       "        $('span:contains(\"# Temp\")').closest('.cell').remove();\n",
       "        var code = IPython.notebook.insert_cell_below('code');\n",
       "        var prompt = code.element.find(\".input_prompt\");\n",
       "        prompt.append('<br><button style=\"height: 100%; width: 54px;\">Run</button>');\n",
       "        prompt.on(\"click\", \"button\", function(){\n",
       "            code.execute();\n",
       "        });\n",
       "        code.set_text(decodeURIComponent(window.atob(\"JTIzJTIwVGVtcCUwQWluc2VydCUyOCUyNyUyNyUyNyUwQWxlZTIwMDhhJTIwJTNEJTIwREIlMjhXb3JrU25vd2JhbGwlMjglMEElMjAlMjAlMjAlMjAyMDA4JTJDJTIwJTIyT250b2xvZ3ktYmFzZWQlMjBpbnRlbGxpZ2VudCUyMGRlY2lzaW9uJTIwc3VwcG9ydCUyMGFnZW50JTIwZm9yJTIwQ01NSSUyMHByb2plY3QlMjBtb25pdG9yaW5nJTIwYW5kJTIwY29udHJvbCUyMiUyQyUwQSUyMCUyMCUyMCUyMGRpc3BsYXklM0QlMjJsZWUlMjIlMkMlMEElMjAlMjAlMjAlMjBhdXRob3JzJTNEJTIyTGVlJTJDJTIwQ2hhbmctU2hpbmclMjBhbmQlMjBXYW5nJTJDJTIwTWVpLUh1aSUyMGFuZCUyMENoZW4lMkMlMjBKdWktSmVuJTIyJTJDJTBBJTIwJTIwJTIwJTIwcGxhY2UlM0RGQUtFJTJDJTBBJTIwJTIwJTIwJTIwcHAlM0QlMjI2Mi0tNzYlMjIlMkMlMEElMjAlMjAlMjAlMjBlbnRyeXR5cGUlM0QlMjJhcnRpY2xlJTIyJTJDJTBBJTIwJTIwJTIwJTIwdm9sdW1lJTNEJTIyNDglMjIlMkMlMEElMjAlMjAlMjAlMjBudW1iZXIlM0QlMjIxJTIyJTJDJTBBJTIwJTIwJTIwJTIwcHVibGlzaGVyJTNEJTIyRWxzZXZpZXIlMjIlMkMlMEElMjAlMjAlMjAlMjBJRCUzRCUyMmxlZTIwMDhvbnRvbG9neSUyMiUyQyUwQSUyMCUyMCUyMCUyMGNsdXN0ZXJfaWQlM0QlMjIyOTQxMjQxMTE0ODU4ODkyMzMzJTIyJTJDJTBBJTIwJTIwJTIwJTIwc2Nob2xhciUzRCUyMmh0dHAlM0EvL3NjaG9sYXIuZ29vZ2xlLmNvbS9zY2hvbGFyJTNGY2l0ZXMlM0QyOTQxMjQxMTE0ODU4ODkyMzMzJTI2YXNfc2R0JTNEMjAwNSUyNnNjaW9kdCUzRDAlMkM1JTI2aGwlM0RlbiUyMiUyQyUwQSUyMCUyMCUyMCUyMGdzMjAxNiUzRCUyMjElMjIlMkMlMEElMjAlMjAlMjAlMjBwbGFjZXglM0QlMjJJbnRlcm5hdGlvbmFsJTIwSm91cm5hbCUyMG9mJTIwQXBwcm94aW1hdGUlMjBSZWFzb25pbmclMjIlMkMlMEElMjklMjklMEElMjclMjclMjclMjklM0I=\")));\n",
       "    "
      ],
      "text/plain": [
       "<IPython.core.display.Javascript object>"
      ]
     },
     "metadata": {},
     "output_type": "display_data"
    }
   ],
   "source": [
    "manager.browser()"
   ]
  },
  {
   "cell_type": "code",
   "execution_count": 18,
   "metadata": {},
   "outputs": [
    {
     "name": "stdout",
     "output_type": "stream",
     "text": [
      "-Insert: lee2008a\n"
     ]
    }
   ],
   "source": [
    "# Temp\n",
    "insert('''\n",
    "lee2008a = DB(WorkSnowball(\n",
    "    2008, \"Ontology-based intelligent decision support agent for CMMI project monitoring and control\",\n",
    "    display=\"lee\",\n",
    "    authors=\"Lee, Chang-Shing and Wang, Mei-Hui and Chen, Jui-Jen\",\n",
    "    place=FAKE,\n",
    "    pp=\"62--76\",\n",
    "    entrytype=\"article\",\n",
    "    volume=\"48\",\n",
    "    number=\"1\",\n",
    "    publisher=\"Elsevier\",\n",
    "    ID=\"lee2008ontology\",\n",
    "    cluster_id=\"2941241114858892333\",\n",
    "    scholar=\"http://scholar.google.com/scholar?cites=2941241114858892333&as_sdt=2005&sciodt=0,5&hl=en\",\n",
    "    selected_snowballing=\"1\",\n",
    "    selected_order=\"14\",\n",
    "    final_selected=\"1\",\n",
    "    placex=\"International Journal of Approximate Reasoning\",\n",
    "))\n",
    "''');"
   ]
  },
  {
   "cell_type": "code",
   "execution_count": null,
   "metadata": {
    "collapsed": true
   },
   "outputs": [],
   "source": []
  }
 ],
 "metadata": {
  "kernelspec": {
   "display_name": "Python 3",
   "language": "python",
   "name": "python3"
  },
  "language_info": {
   "codemirror_mode": {
    "name": "ipython",
    "version": 3
   },
   "file_extension": ".py",
   "mimetype": "text/x-python",
   "name": "python",
   "nbconvert_exporter": "python",
   "pygments_lexer": "ipython3",
   "version": "3.6.0"
  },
  "toc": {
   "nav_menu": {},
   "number_sections": true,
   "sideBar": true,
   "skip_h1_title": false,
   "toc_cell": false,
   "toc_position": {},
   "toc_section_display": "block",
   "toc_window_display": false
  }
 },
 "nbformat": 4,
 "nbformat_minor": 2
}
