{
 "cells": [
  {
   "cell_type": "code",
   "execution_count": 20,
   "metadata": {
    "collapsed": true
   },
   "outputs": [],
   "source": [
    "import database\n",
    "from snowballing.operations import load_work, reload, work_by_varname\n",
    "from snowballing.snowballing import Converter\n",
    "from snowballing.dbmanager import insert, set_attribute"
   ]
  },
  {
   "cell_type": "code",
   "execution_count": null,
   "metadata": {
    "collapsed": true
   },
   "outputs": [],
   "source": [
    "# Temp\n",
    "insert('''\n",
    "patel2004a = DB(WorkUnrelated(\n",
    "    2004, \"OWL:  Web  Ontology  Language  Semantics and Abstract Syntax\",\n",
    "    display=\"patel\",\n",
    "    authors=\"Patel-Schneider,  P.F.,  Hayes,  P.,  Horrocks,  I.  (eds.)\",\n",
    "    place=FAKE,\n",
    "    placex=\"W3C Recommendation\",\n",
    "))\n",
    "\n",
    "DB(Citation(\n",
    "    liao2005a, patel2004a, ref=\"[15]\",\n",
    "    contexts=[\n",
    "\n",
    "    ],\n",
    "))\n",
    "\n",
    "''', citations='liao2005a');"
   ]
  },
  {
   "cell_type": "code",
   "execution_count": 21,
   "metadata": {
    "scrolled": false
   },
   "outputs": [
    {
     "data": {
      "application/vnd.jupyter.widget-view+json": {
       "model_id": "f8856147d2704ddb8750ce7edb7ae01c",
       "version_major": 2,
       "version_minor": 0
      },
      "text/html": [
       "<p>Failed to display Jupyter Widget of type <code>VBox</code>.</p>\n",
       "<p>\n",
       "  If you're reading this message in Jupyter Notebook or JupyterLab, it may mean\n",
       "  that the widgets JavaScript is still loading. If this message persists, it\n",
       "  likely means that the widgets JavaScript library is either not installed or\n",
       "  not enabled. See the <a href=\"https://ipywidgets.readthedocs.io/en/stable/user_install.html\">Jupyter\n",
       "  Widgets Documentation</a> for setup instructions.\n",
       "</p>\n",
       "<p>\n",
       "  If you're reading this message in another notebook frontend (for example, a static\n",
       "  rendering on GitHub or <a href=\"https://nbviewer.jupyter.org/\">NBViewer</a>),\n",
       "  it may mean that your frontend doesn't currently support widgets.\n",
       "</p>\n"
      ],
      "text/plain": [
       "VBox(children=(HBox(children=(Dropdown(index=1, options={'BibTeX': 'bibtex', 'Text': 'text', '[N] author name place other year': 'citation', 'Quoted': 'quoted'}, value='text'), Button(description='Set article_list variable', disabled=True, style=ButtonStyle()), Label(value=''))), HBox(children=(Textarea(value='', layout=Layout(height='500px', width='50%')), Textarea(value='', layout=Layout(height='500px', width='50%'))))))"
      ]
     },
     "metadata": {},
     "output_type": "display_data"
    }
   ],
   "source": [
    "Converter().browser()"
   ]
  },
  {
   "cell_type": "code",
   "execution_count": null,
   "metadata": {
    "collapsed": true
   },
   "outputs": [],
   "source": [
    "Converter().browser()"
   ]
  },
  {
   "cell_type": "code",
   "execution_count": 3,
   "metadata": {},
   "outputs": [
    {
     "data": {
      "text/plain": [
       "15"
      ]
     },
     "execution_count": 3,
     "metadata": {},
     "output_type": "execute_result"
    }
   ],
   "source": [
    "len(article_list)"
   ]
  },
  {
   "cell_type": "code",
   "execution_count": null,
   "metadata": {
    "collapsed": true
   },
   "outputs": [],
   "source": [
    "#from database.work.y2015 import li2015a"
   ]
  },
  {
   "cell_type": "code",
   "execution_count": null,
   "metadata": {
    "collapsed": true
   },
   "outputs": [],
   "source": [
    "#int(getattr(li2015a, 'scopus', 0))"
   ]
  },
  {
   "cell_type": "code",
   "execution_count": null,
   "metadata": {
    "collapsed": true
   },
   "outputs": [],
   "source": [
    "#print(article_list)"
   ]
  },
  {
   "cell_type": "code",
   "execution_count": null,
   "metadata": {
    "collapsed": true
   },
   "outputs": [],
   "source": []
  },
  {
   "cell_type": "code",
   "execution_count": null,
   "metadata": {
    "collapsed": true
   },
   "outputs": [],
   "source": []
  },
  {
   "cell_type": "code",
   "execution_count": null,
   "metadata": {
    "collapsed": true
   },
   "outputs": [],
   "source": []
  },
  {
   "cell_type": "code",
   "execution_count": null,
   "metadata": {
    "collapsed": true
   },
   "outputs": [],
   "source": []
  },
  {
   "cell_type": "code",
   "execution_count": 4,
   "metadata": {},
   "outputs": [
    {
     "data": {
      "application/vnd.jupyter.widget-view+json": {
       "model_id": "9d0ed8f7972c4aa9aef83eb6b54d2d8e",
       "version_major": 2,
       "version_minor": 0
      },
      "text/html": [
       "<p>Failed to display Jupyter Widget of type <code>VBox</code>.</p>\n",
       "<p>\n",
       "  If you're reading this message in Jupyter Notebook or JupyterLab, it may mean\n",
       "  that the widgets JavaScript is still loading. If this message persists, it\n",
       "  likely means that the widgets JavaScript library is either not installed or\n",
       "  not enabled. See the <a href=\"https://ipywidgets.readthedocs.io/en/stable/user_install.html\">Jupyter\n",
       "  Widgets Documentation</a> for setup instructions.\n",
       "</p>\n",
       "<p>\n",
       "  If you're reading this message in another notebook frontend (for example, a static\n",
       "  rendering on GitHub or <a href=\"https://nbviewer.jupyter.org/\">NBViewer</a>),\n",
       "  it may mean that your frontend doesn't currently support widgets.\n",
       "</p>\n"
      ],
      "text/plain": [
       "VBox(children=(HBox(children=(Button(description='Previous Article', disabled=True, icon='caret-left', style=ButtonStyle()), Button(description='Reload Article', icon='refresh', style=ButtonStyle()), Button(description='Next Article', icon='caret-right', style=ButtonStyle()))), HBox(children=(Button(description='Unrelated: Scripts', style=ButtonStyle()), Button(description='Unrelated: Provenance', style=ButtonStyle()), Button(description='Both', style=ButtonStyle()), Button(description='Ok', style=ButtonStyle()))), HBox(children=(Dropdown(description='Type', index=3, options=('Work', 'WorkSnowball', 'WorkOk', 'WorkUnrelated', 'WorkNoFile', 'WorkLang', 'Site', 'Email'), value='WorkUnrelated'), ToggleButton(value=False, description='File'))), HBox(children=(Text(value='', description='Due'), Text(value='', description='Place'))), HBox(children=(Text(value='', description='Year'), Text(value='', description='Prefix Var'))), HBox(children=(Text(value='', description='PDFPage'), Text(value='', description='Related'))), HBox(children=(Text(value='', description='Display'), Text(value='', description='Summary'))), HBox(children=(Text(value='', description='Star'), Text(value='', description='Link'))), HBox(children=(Button(description='Reload Article', icon='refresh', style=ButtonStyle()), IntSlider(value=0, max=14), Label(value='1/15'))), Output()))"
      ]
     },
     "metadata": {},
     "output_type": "display_data"
    },
    {
     "data": {
      "application/javascript": [
       "$('span:contains(\"# Temp\")').closest('.cell').remove();"
      ],
      "text/plain": [
       "<IPython.core.display.Javascript object>"
      ]
     },
     "metadata": {},
     "output_type": "display_data"
    },
    {
     "data": {
      "application/javascript": [
       "\n",
       "        $('span:contains(\"# Temp\")').closest('.cell').remove();\n",
       "        var code = IPython.notebook.insert_cell_below('code');\n",
       "        code.set_text(decodeURIComponent(window.atob(\"JTIzJTIwVGVtcCUwQWluc2VydCUyOCUyNyUyNyUyNyUwQTE5OTNhJTIwJTNEJTIwREIlMjhXb3JrVW5yZWxhdGVkJTI4JTBBJTIwJTIwJTIwJTIwMTk5MyUyQyUyMCUyMkNNTSUyMCUyMENhcGFiaWxpdHklMjAlMjBNYXR1cml0eSUyME1vZGVsJTIwU00lMjBmb3IlMjBTb2Z0d2FyZS4lMjBWZXJzaW9uJTIwMS4xJTIyJTJDJTBBJTIwJTIwJTIwJTIwZGlzcGxheSUzRCUyMiUyMiUyQyUwQSUyMCUyMCUyMCUyMGF1dGhvcnMlM0QlMjJQYXVsayUyMCUyME0uQy4lMkMlMjAlMjBDdXJ0aXMlMkMlMjAlMjBCLiUyQyUyMCUyMENocmlzc2lzJTJDJTIwJTIwTS5CLiUyQyUyMCUyMFdlYmVyJTJDJTIwJTIwQy5WLiUyMiUyQyUwQSUyMCUyMCUyMCUyMHBsYWNlJTNERUJTRSUyQyUwQSUyMCUyMCUyMCUyMG90aGVyMSUzRCUyMkNNVS9TRUklMjIlMkMlMEElMjAlMjAlMjAlMjBwbGFjZXglM0QlMjJUZWNobmljYWwlMjBSZXBvcnQlMjIlMkMlMEElMjklMjklMEElMEFEQiUyOENpdGF0aW9uJTI4JTBBJTIwJTIwJTIwJTIwbGlhbzIwMDVhJTJDJTIwMTk5M2ElMkMlMjByZWYlM0QlMjIlNUIxJTVEJTIyJTJDJTBBJTIwJTIwJTIwJTIwY29udGV4dHMlM0QlNUIlMEElMEElMjAlMjAlMjAlMjAlNUQlMkMlMEElMjklMjklMEElMEElMjclMjclMjclMkMlMjBjaXRhdGlvbnMlM0QlMjdsaWFvMjAwNWElMjclMjklM0I=\")));\n",
       "    "
      ],
      "text/plain": [
       "<IPython.core.display.Javascript object>"
      ]
     },
     "metadata": {},
     "output_type": "display_data"
    },
    {
     "data": {
      "application/javascript": [
       "$('span:contains(\"# Temp\")').closest('.cell').remove();"
      ],
      "text/plain": [
       "<IPython.core.display.Javascript object>"
      ]
     },
     "metadata": {},
     "output_type": "display_data"
    },
    {
     "data": {
      "application/javascript": [
       "\n",
       "        $('span:contains(\"# Temp\")').closest('.cell').remove();\n",
       "        var code = IPython.notebook.insert_cell_below('code');\n",
       "        code.set_text(decodeURIComponent(window.atob(\"JTIzJTIwVGVtcCUwQWluc2VydCUyOCUyNyUyNyUyNyUwQTE1NTA0MTk5OGElMjAlM0QlMjBEQiUyOFdvcmtVbnJlbGF0ZWQlMjglMEElMjAlMjAlMjAlMjAxOTk4JTJDJTIwJTIyU3RhbmRhcmQlMjAlMjBGb3IlMjAlMjBTb2Z0d2FyZSUyMCUyMFByb2Nlc3MlMjAlMjBBc3Nlc3NtZW50JTIwJTIwJTI4UGFydHMlMjAlMjAxLTklMjklMjIlMkMlMEElMjAlMjAlMjAlMjBkaXNwbGF5JTNEJTIyMTU1MDQlMjIlMkMlMEElMjAlMjAlMjAlMjBhdXRob3JzJTNEJTIySVNPL0lFQyUyMCUyMDE1NTA0JTIyJTJDJTBBJTIwJTIwJTIwJTIwcGxhY2UlM0RGQUtFJTJDJTBBJTIwJTIwJTIwJTIwb3RoZXIxJTNEJTIySW50ZXJuYXRpb25hbCUyMFN0JTIwYW5kYXJkcyUyMG9yZ2FuaXphdGlvbiUyMiUyQyUwQSUyMCUyMCUyMCUyMHBsYWNleCUzRCUyMklTTy9JRUMlMjBUZWNobmljYWwlMjBSZXBvcnQlMjAlMjhUUiUyOSUyMiUyQyUwQSUyOSUyOSUwQSUwQURCJTI4Q2l0YXRpb24lMjglMEElMjAlMjAlMjAlMjBsaWFvMjAwNWElMkMlMjAxNTUwNDE5OThhJTJDJTIwcmVmJTNEJTIyJTVCMiU1RCUyMiUyQyUwQSUyMCUyMCUyMCUyMGNvbnRleHRzJTNEJTVCJTBBJTBBJTIwJTIwJTIwJTIwJTVEJTJDJTBBJTI5JTI5JTBBJTBBJTI3JTI3JTI3JTJDJTIwY2l0YXRpb25zJTNEJTI3bGlhbzIwMDVhJTI3JTI5JTNC\")));\n",
       "    "
      ],
      "text/plain": [
       "<IPython.core.display.Javascript object>"
      ]
     },
     "metadata": {},
     "output_type": "display_data"
    },
    {
     "data": {
      "application/javascript": [
       "$('span:contains(\"# Temp\")').closest('.cell').remove();"
      ],
      "text/plain": [
       "<IPython.core.display.Javascript object>"
      ]
     },
     "metadata": {},
     "output_type": "display_data"
    },
    {
     "data": {
      "application/javascript": [
       "\n",
       "        $('span:contains(\"# Temp\")').closest('.cell').remove();\n",
       "        var code = IPython.notebook.insert_cell_below('code');\n",
       "        code.set_text(decodeURIComponent(window.atob(\"JTIzJTIwVGVtcCUwQWluc2VydCUyOCUyNyUyNyUyNyUwQTE1NTA0MTk5OGElMjAlM0QlMjBEQiUyOFdvcmtVbnJlbGF0ZWQlMjglMEElMjAlMjAlMjAlMjAxOTk4JTJDJTIwJTIyU3RhbmRhcmQlMjAlMjBGb3IlMjAlMjBTb2Z0d2FyZSUyMCUyMFByb2Nlc3MlMjAlMjBBc3Nlc3NtZW50JTIwJTIwJTI4UGFydHMlMjAlMjAxLTklMjklMjIlMkMlMEElMjAlMjAlMjAlMjBkaXNwbGF5JTNEJTIyMTU1MDQlMjIlMkMlMEElMjAlMjAlMjAlMjBhdXRob3JzJTNEJTIySVNPL0lFQyUyMCUyMDE1NTA0JTIyJTJDJTBBJTIwJTIwJTIwJTIwcGxhY2UlM0RGQUtFJTJDJTBBJTIwJTIwJTIwJTIwb3RoZXIxJTNEJTIySW50ZXJuYXRpb25hbCUyMFN0JTIwYW5kYXJkcyUyMG9yZ2FuaXphdGlvbiUyMiUyQyUwQSUyMCUyMCUyMCUyMHBsYWNleCUzRCUyMklTTy9JRUMlMjBUZWNobmljYWwlMjBSZXBvcnQlMjAlMjhUUiUyOSUyMiUyQyUwQSUyOSUyOSUwQSUwQURCJTI4Q2l0YXRpb24lMjglMEElMjAlMjAlMjAlMjBsaWFvMjAwNWElMkMlMjAxNTUwNDE5OThhJTJDJTIwcmVmJTNEJTIyJTVCMiU1RCUyMiUyQyUwQSUyMCUyMCUyMCUyMGNvbnRleHRzJTNEJTVCJTBBJTBBJTIwJTIwJTIwJTIwJTVEJTJDJTBBJTI5JTI5JTBBJTBBJTI3JTI3JTI3JTJDJTIwY2l0YXRpb25zJTNEJTI3bGlhbzIwMDVhJTI3JTI5JTNC\")));\n",
       "    "
      ],
      "text/plain": [
       "<IPython.core.display.Javascript object>"
      ]
     },
     "metadata": {},
     "output_type": "display_data"
    },
    {
     "data": {
      "application/javascript": [
       "$('span:contains(\"# Temp\")').closest('.cell').remove();"
      ],
      "text/plain": [
       "<IPython.core.display.Javascript object>"
      ]
     },
     "metadata": {},
     "output_type": "display_data"
    },
    {
     "data": {
      "application/javascript": [
       "\n",
       "        $('span:contains(\"# Temp\")').closest('.cell').remove();\n",
       "        var code = IPython.notebook.insert_cell_below('code');\n",
       "        code.set_text(decodeURIComponent(window.atob(\"JTIzJTIwVGVtcCUwQWluc2VydCUyOCUyNyUyNyUyNyUwQWhhYXNlMTk5NGElMjAlM0QlMjBEQiUyOFdvcmtVbnJlbGF0ZWQlMjglMEElMjAlMjAlMjAlMjAxOTk0JTJDJTIwJTIyQm9vdHN0cmFwJTNBJTIwRmluZS1UdW5pbmclMjBQcm9jZXNzJTIwQXNzZXNzbWVudC4lMjIlMkMlMEElMjAlMjAlMjAlMjBkaXNwbGF5JTNEJTIyaGFhc2UlMjIlMkMlMEElMjAlMjAlMjAlMjBhdXRob3JzJTNEJTIySGFhc2UlMkMlMjBWLiUyQyUyME1lc3NuYXJ6JTJDJTIwUi4lMkMlMjBLb2NoJTJDJTIwRy4lMkNldCUyMGFsJTIyJTJDJTBBJTIwJTIwJTIwJTIwcGxhY2UlM0RJRUVFUyUyQyUwQSUyMCUyMCUyMCUyMHBsYWNleCUzRCUyMklFRUUlMjBTb2Z0d2FyZSUyMiUyQyUwQSUyOSUyOSUwQSUwQURCJTI4Q2l0YXRpb24lMjglMEElMjAlMjAlMjAlMjBsaWFvMjAwNWElMkMlMjBoYWFzZTE5OTRhJTJDJTIwcmVmJTNEJTIyJTVCMyU1RCUyMiUyQyUwQSUyMCUyMCUyMCUyMGNvbnRleHRzJTNEJTVCJTBBJTBBJTIwJTIwJTIwJTIwJTVEJTJDJTBBJTI5JTI5JTBBJTBBJTI3JTI3JTI3JTJDJTIwY2l0YXRpb25zJTNEJTI3bGlhbzIwMDVhJTI3JTI5JTNC\")));\n",
       "    "
      ],
      "text/plain": [
       "<IPython.core.display.Javascript object>"
      ]
     },
     "metadata": {},
     "output_type": "display_data"
    },
    {
     "data": {
      "application/javascript": [
       "$('span:contains(\"# Temp\")').closest('.cell').remove();"
      ],
      "text/plain": [
       "<IPython.core.display.Javascript object>"
      ]
     },
     "metadata": {},
     "output_type": "display_data"
    },
    {
     "data": {
      "application/javascript": [
       "\n",
       "        $('span:contains(\"# Temp\")').closest('.cell').remove();\n",
       "        var code = IPython.notebook.insert_cell_below('code');\n",
       "        code.set_text(decodeURIComponent(window.atob(\"JTIzJTIwVGVtcCUwQWluc2VydCUyOCUyNyUyNyUyNyUwQWhhYXNlMTk5NGElMjAlM0QlMjBEQiUyOFdvcmtVbnJlbGF0ZWQlMjglMEElMjAlMjAlMjAlMjAxOTk0JTJDJTIwJTIyQm9vdHN0cmFwJTNBJTIwRmluZS1UdW5pbmclMjBQcm9jZXNzJTIwQXNzZXNzbWVudC4lMjIlMkMlMEElMjAlMjAlMjAlMjBkaXNwbGF5JTNEJTIyaGFhc2UlMjIlMkMlMEElMjAlMjAlMjAlMjBhdXRob3JzJTNEJTIySGFhc2UlMkMlMjBWLiUyQyUyME1lc3NuYXJ6JTJDJTIwUi4lMkMlMjBLb2NoJTJDJTIwRy4lMkNldCUyMGFsJTIyJTJDJTBBJTIwJTIwJTIwJTIwcGxhY2UlM0RJRUVFUyUyQyUwQSUyMCUyMCUyMCUyMHBsYWNleCUzRCUyMklFRUUlMjBTb2Z0d2FyZSUyMiUyQyUwQSUyOSUyOSUwQSUwQURCJTI4Q2l0YXRpb24lMjglMEElMjAlMjAlMjAlMjBsaWFvMjAwNWElMkMlMjBoYWFzZTE5OTRhJTJDJTIwcmVmJTNEJTIyJTVCMyU1RCUyMiUyQyUwQSUyMCUyMCUyMCUyMGNvbnRleHRzJTNEJTVCJTBBJTBBJTIwJTIwJTIwJTIwJTVEJTJDJTBBJTI5JTI5JTBBJTBBJTI3JTI3JTI3JTJDJTIwY2l0YXRpb25zJTNEJTI3bGlhbzIwMDVhJTI3JTI5JTNC\")));\n",
       "    "
      ],
      "text/plain": [
       "<IPython.core.display.Javascript object>"
      ]
     },
     "metadata": {},
     "output_type": "display_data"
    },
    {
     "data": {
      "application/javascript": [
       "$('span:contains(\"# Temp\")').closest('.cell').remove();"
      ],
      "text/plain": [
       "<IPython.core.display.Javascript object>"
      ]
     },
     "metadata": {},
     "output_type": "display_data"
    },
    {
     "data": {
      "application/javascript": [
       "\n",
       "        $('span:contains(\"# Temp\")').closest('.cell').remove();\n",
       "        var code = IPython.notebook.insert_cell_below('code');\n",
       "        code.set_text(decodeURIComponent(window.atob(\"JTIzJTIwVGVtcCUwQWluc2VydCUyOCUyNyUyNyUyNyUwQXdhbmcyMDAwYSUyMCUzRCUyMERCJTI4V29ya1VucmVsYXRlZCUyOCUwQSUyMCUyMCUyMCUyMDIwMDAlMkMlMjAlMjJTb2Z0d2FyZSUyMCUyMEVuZ2luZWVyaW5nJTIyJTJDJTBBJTIwJTIwJTIwJTIwZGlzcGxheSUzRCUyMndhbmclMjIlMkMlMEElMjAlMjAlMjAlMjBhdXRob3JzJTNEJTIyV2FuZyUyQyUyMCUyMFkuWC4lMkMlMjAlMjBLaW5nJTJDJTIwJTIwRy4lMjIlMkMlMEElMjAlMjAlMjAlMjBwbGFjZSUzREZBS0UlMkMlMEElMjAlMjAlMjAlMjBvdGhlcjElM0QlMjJDUkMlMjBQcmVzcyUyMExMQyUyMiUyQyUwQSUyMCUyMCUyMCUyMHBsYWNleCUzRCUyMlByb2Nlc3Nlcy0lMjAlMjBQcmluY2lwbGVzJTIwJTIwYW5kJTIwJTIwQXBwbGljYXRpb25zJTIyJTJDJTBBJTI5JTI5JTBBJTBBREIlMjhDaXRhdGlvbiUyOCUwQSUyMCUyMCUyMCUyMGxpYW8yMDA1YSUyQyUyMHdhbmcyMDAwYSUyQyUyMHJlZiUzRCUyMiU1QjQlNUQlMjIlMkMlMEElMjAlMjAlMjAlMjBjb250ZXh0cyUzRCU1QiUwQSUwQSUyMCUyMCUyMCUyMCU1RCUyQyUwQSUyOSUyOSUwQSUwQSUyNyUyNyUyNyUyQyUyMGNpdGF0aW9ucyUzRCUyN2xpYW8yMDA1YSUyNyUyOSUzQg==\")));\n",
       "    "
      ],
      "text/plain": [
       "<IPython.core.display.Javascript object>"
      ]
     },
     "metadata": {},
     "output_type": "display_data"
    },
    {
     "data": {
      "application/javascript": [
       "$('span:contains(\"# Temp\")').closest('.cell').remove();"
      ],
      "text/plain": [
       "<IPython.core.display.Javascript object>"
      ]
     },
     "metadata": {},
     "output_type": "display_data"
    },
    {
     "data": {
      "application/javascript": [
       "\n",
       "        $('span:contains(\"# Temp\")').closest('.cell').remove();\n",
       "        var code = IPython.notebook.insert_cell_below('code');\n",
       "        code.set_text(decodeURIComponent(window.atob(\"JTIzJTIwVGVtcCUwQWluc2VydCUyOCUyNyUyNyUyNyUwQXdhbmcyMDAwYSUyMCUzRCUyMERCJTI4V29ya1VucmVsYXRlZCUyOCUwQSUyMCUyMCUyMCUyMDIwMDAlMkMlMjAlMjJTb2Z0d2FyZSUyMCUyMEVuZ2luZWVyaW5nJTIyJTJDJTBBJTIwJTIwJTIwJTIwZGlzcGxheSUzRCUyMndhbmclMjIlMkMlMEElMjAlMjAlMjAlMjBhdXRob3JzJTNEJTIyV2FuZyUyQyUyMCUyMFkuWC4lMkMlMjAlMjBLaW5nJTJDJTIwJTIwRy4lMjIlMkMlMEElMjAlMjAlMjAlMjBwbGFjZSUzREZBS0UlMkMlMEElMjAlMjAlMjAlMjBvdGhlcjElM0QlMjJDUkMlMjBQcmVzcyUyMExMQyUyMiUyQyUwQSUyMCUyMCUyMCUyMHBsYWNleCUzRCUyMlByb2Nlc3Nlcy0lMjAlMjBQcmluY2lwbGVzJTIwJTIwYW5kJTIwJTIwQXBwbGljYXRpb25zJTIyJTJDJTBBJTI5JTI5JTBBJTBBREIlMjhDaXRhdGlvbiUyOCUwQSUyMCUyMCUyMCUyMGxpYW8yMDA1YSUyQyUyMHdhbmcyMDAwYSUyQyUyMHJlZiUzRCUyMiU1QjQlNUQlMjIlMkMlMEElMjAlMjAlMjAlMjBjb250ZXh0cyUzRCU1QiUwQSUwQSUyMCUyMCUyMCUyMCU1RCUyQyUwQSUyOSUyOSUwQSUwQSUyNyUyNyUyNyUyQyUyMGNpdGF0aW9ucyUzRCUyN2xpYW8yMDA1YSUyNyUyOSUzQg==\")));\n",
       "    "
      ],
      "text/plain": [
       "<IPython.core.display.Javascript object>"
      ]
     },
     "metadata": {},
     "output_type": "display_data"
    },
    {
     "data": {
      "application/javascript": [
       "$('span:contains(\"# Temp\")').closest('.cell').remove();"
      ],
      "text/plain": [
       "<IPython.core.display.Javascript object>"
      ]
     },
     "metadata": {},
     "output_type": "display_data"
    },
    {
     "data": {
      "application/javascript": [
       "\n",
       "        $('span:contains(\"# Temp\")').closest('.cell').remove();\n",
       "        var code = IPython.notebook.insert_cell_below('code');\n",
       "        code.set_text(decodeURIComponent(window.atob(\"JTIzJTIwVGVtcCUwQWluc2VydCUyOCUyNyUyNyUyNyUwQWNtdS9zZWkyMDAyYSUyMCUzRCUyMERCJTI4V29ya1VucmVsYXRlZCUyOCUwQSUyMCUyMCUyMCUyMDIwMDIlMkMlMjAlMjJDYXBhYmlsaXR5JTIwTWF0dXJpdHklMjBNb2RlbCUyMiUyQyUwQSUyMCUyMCUyMCUyMGRpc3BsYXklM0QlMjJjbXUvc2VpJTIyJTJDJTBBJTIwJTIwJTIwJTIwYXV0aG9ycyUzRCUyMkNNVS9TRUklMjIlMkMlMEElMjAlMjAlMjAlMjBwbGFjZSUzREZBS0UlMkMlMEElMjAlMjAlMjAlMjBvdGhlcjElM0QlMjJWZXJzaW9uJTIwMS4xJTIyJTJDJTBBJTIwJTIwJTIwJTIwb3RoZXIyJTNEJTIyQ01NSSUyMFNNJTIwZm9yJTIwU29mdHdhcmUlMjBFbmdpbmVlcmluZyUyMCUyOENNTUktU1cvU0UvSVBQRC9TUyUyQyUyMFYxLjElMjklMjBDb250aW51b3VzJTIwUmVwcmVzZW50YXRpb24lMjIlMkMlMEElMjAlMjAlMjAlMjBwbGFjZXglM0QlMjJJbnRlZ3JhdGlvbiUyMCUyOENNTUlTTSUyOSUyMiUyQyUwQSUyOSUyOSUwQSUwQURCJTI4Q2l0YXRpb24lMjglMEElMjAlMjAlMjAlMjBsaWFvMjAwNWElMkMlMjBjbXUvc2VpMjAwMmElMkMlMjByZWYlM0QlMjIlNUI1JTVEJTIyJTJDJTBBJTIwJTIwJTIwJTIwY29udGV4dHMlM0QlNUIlMEElMEElMjAlMjAlMjAlMjAlNUQlMkMlMEElMjklMjklMEElMEElMjclMjclMjclMkMlMjBjaXRhdGlvbnMlM0QlMjdsaWFvMjAwNWElMjclMjklM0I=\")));\n",
       "    "
      ],
      "text/plain": [
       "<IPython.core.display.Javascript object>"
      ]
     },
     "metadata": {},
     "output_type": "display_data"
    },
    {
     "data": {
      "application/javascript": [
       "$('span:contains(\"# Temp\")').closest('.cell').remove();"
      ],
      "text/plain": [
       "<IPython.core.display.Javascript object>"
      ]
     },
     "metadata": {},
     "output_type": "display_data"
    },
    {
     "data": {
      "application/javascript": [
       "\n",
       "        $('span:contains(\"# Temp\")').closest('.cell').remove();\n",
       "        var code = IPython.notebook.insert_cell_below('code');\n",
       "        code.set_text(decodeURIComponent(window.atob(\"JTIzJTIwVGVtcCUwQWluc2VydCUyOCUyNyUyNyUyNyUwQWNtdS9zZWkyMDAyYSUyMCUzRCUyMERCJTI4V29ya1VucmVsYXRlZCUyOCUwQSUyMCUyMCUyMCUyMDIwMDIlMkMlMjAlMjJDYXBhYmlsaXR5JTIwTWF0dXJpdHklMjBNb2RlbCUyMiUyQyUwQSUyMCUyMCUyMCUyMGRpc3BsYXklM0QlMjJjbXUvc2VpJTIyJTJDJTBBJTIwJTIwJTIwJTIwYXV0aG9ycyUzRCUyMkNNVS9TRUklMjIlMkMlMEElMjAlMjAlMjAlMjBwbGFjZSUzREZBS0UlMkMlMEElMjAlMjAlMjAlMjBvdGhlcjElM0QlMjJWZXJzaW9uJTIwMS4xJTIyJTJDJTBBJTIwJTIwJTIwJTIwb3RoZXIyJTNEJTIyQ01NSSUyMFNNJTIwZm9yJTIwU29mdHdhcmUlMjBFbmdpbmVlcmluZyUyMCUyOENNTUktU1cvU0UvSVBQRC9TUyUyQyUyMFYxLjElMjklMjBDb250aW51b3VzJTIwUmVwcmVzZW50YXRpb24lMjIlMkMlMEElMjAlMjAlMjAlMjBwbGFjZXglM0QlMjJJbnRlZ3JhdGlvbiUyMCUyOENNTUlTTSUyOSUyMiUyQyUwQSUyOSUyOSUwQSUwQURCJTI4Q2l0YXRpb24lMjglMEElMjAlMjAlMjAlMjBsaWFvMjAwNWElMkMlMjBjbXUvc2VpMjAwMmElMkMlMjByZWYlM0QlMjIlNUI1JTVEJTIyJTJDJTBBJTIwJTIwJTIwJTIwY29udGV4dHMlM0QlNUIlMEElMEElMjAlMjAlMjAlMjAlNUQlMkMlMEElMjklMjklMEElMEElMjclMjclMjclMkMlMjBjaXRhdGlvbnMlM0QlMjdsaWFvMjAwNWElMjclMjklM0I=\")));\n",
       "    "
      ],
      "text/plain": [
       "<IPython.core.display.Javascript object>"
      ]
     },
     "metadata": {},
     "output_type": "display_data"
    },
    {
     "data": {
      "application/javascript": [
       "$('span:contains(\"# Temp\")').closest('.cell').remove();"
      ],
      "text/plain": [
       "<IPython.core.display.Javascript object>"
      ]
     },
     "metadata": {},
     "output_type": "display_data"
    },
    {
     "data": {
      "application/javascript": [
       "\n",
       "        $('span:contains(\"# Temp\")').closest('.cell').remove();\n",
       "        var code = IPython.notebook.insert_cell_below('code');\n",
       "        code.set_text(decodeURIComponent(window.atob(\"JTIzJTIwVGVtcCUwQWluc2VydCUyOCUyNyUyNyUyNyUwQWNvbnJhZGkyMDAyYSUyMCUzRCUyMERCJTI4V29ya1VucmVsYXRlZCUyOCUwQSUyMCUyMCUyMCUyMDIwMDIlMkMlMjAlMjJJbXByb3ZpbmclMjBzb2Z0d2FyZSUyMHByb2Nlc3MlMjBpbXByb3ZlbWVudCUyMiUyQyUwQSUyMCUyMCUyMCUyMGRpc3BsYXklM0QlMjJjb25yYWRpJTIyJTJDJTBBJTIwJTIwJTIwJTIwYXV0aG9ycyUzRCUyMkNvbnJhZGklMkMlMjBSLiUyQyUyMEZ1Z2dldHRhJTJDJTIwQS4lMjIlMkMlMEElMjAlMjAlMjAlMjBwbGFjZSUzRElFRUVTJTJDJTBBJTIwJTIwJTIwJTIwcGxhY2V4JTNEJTIySUVFRSUyMFNvZnR3YXJlJTIyJTJDJTBBJTI5JTI5JTBBJTBBREIlMjhDaXRhdGlvbiUyOCUwQSUyMCUyMCUyMCUyMGxpYW8yMDA1YSUyQyUyMGNvbnJhZGkyMDAyYSUyQyUyMHJlZiUzRCUyMiU1QjYlNUQlMjIlMkMlMEElMjAlMjAlMjAlMjBjb250ZXh0cyUzRCU1QiUwQSUwQSUyMCUyMCUyMCUyMCU1RCUyQyUwQSUyOSUyOSUwQSUwQSUyNyUyNyUyNyUyQyUyMGNpdGF0aW9ucyUzRCUyN2xpYW8yMDA1YSUyNyUyOSUzQg==\")));\n",
       "    "
      ],
      "text/plain": [
       "<IPython.core.display.Javascript object>"
      ]
     },
     "metadata": {},
     "output_type": "display_data"
    },
    {
     "data": {
      "application/javascript": [
       "$('span:contains(\"# Temp\")').closest('.cell').remove();"
      ],
      "text/plain": [
       "<IPython.core.display.Javascript object>"
      ]
     },
     "metadata": {},
     "output_type": "display_data"
    },
    {
     "data": {
      "application/javascript": [
       "\n",
       "        $('span:contains(\"# Temp\")').closest('.cell').remove();\n",
       "        var code = IPython.notebook.insert_cell_below('code');\n",
       "        code.set_text(decodeURIComponent(window.atob(\"JTIzJTIwVGVtcCUwQWluc2VydCUyOCUyNyUyNyUyNyUwQWNvbnJhZGkyMDAyYSUyMCUzRCUyMERCJTI4V29ya1VucmVsYXRlZCUyOCUwQSUyMCUyMCUyMCUyMDIwMDIlMkMlMjAlMjJJbXByb3ZpbmclMjBzb2Z0d2FyZSUyMHByb2Nlc3MlMjBpbXByb3ZlbWVudCUyMiUyQyUwQSUyMCUyMCUyMCUyMGRpc3BsYXklM0QlMjJjb25yYWRpJTIyJTJDJTBBJTIwJTIwJTIwJTIwYXV0aG9ycyUzRCUyMkNvbnJhZGklMkMlMjBSLiUyQyUyMEZ1Z2dldHRhJTJDJTIwQS4lMjIlMkMlMEElMjAlMjAlMjAlMjBwbGFjZSUzRElFRUVTJTJDJTBBJTIwJTIwJTIwJTIwcGxhY2V4JTNEJTIySUVFRSUyMFNvZnR3YXJlJTIyJTJDJTBBJTI5JTI5JTBBJTBBREIlMjhDaXRhdGlvbiUyOCUwQSUyMCUyMCUyMCUyMGxpYW8yMDA1YSUyQyUyMGNvbnJhZGkyMDAyYSUyQyUyMHJlZiUzRCUyMiU1QjYlNUQlMjIlMkMlMEElMjAlMjAlMjAlMjBjb250ZXh0cyUzRCU1QiUwQSUwQSUyMCUyMCUyMCUyMCU1RCUyQyUwQSUyOSUyOSUwQSUwQSUyNyUyNyUyNyUyQyUyMGNpdGF0aW9ucyUzRCUyN2xpYW8yMDA1YSUyNyUyOSUzQg==\")));\n",
       "    "
      ],
      "text/plain": [
       "<IPython.core.display.Javascript object>"
      ]
     },
     "metadata": {},
     "output_type": "display_data"
    },
    {
     "data": {
      "application/javascript": [
       "$('span:contains(\"# Temp\")').closest('.cell').remove();"
      ],
      "text/plain": [
       "<IPython.core.display.Javascript object>"
      ]
     },
     "metadata": {},
     "output_type": "display_data"
    },
    {
     "data": {
      "application/javascript": [
       "\n",
       "        $('span:contains(\"# Temp\")').closest('.cell').remove();\n",
       "        var code = IPython.notebook.insert_cell_below('code');\n",
       "        code.set_text(decodeURIComponent(window.atob(\"JTIzJTIwVGVtcCUwQWluc2VydCUyOCUyNyUyNyUyNyUwQWxvcGV6MjAwMWElMjAlM0QlMjBEQiUyOFdvcmtVbnJlbGF0ZWQlMjglMEElMjAlMjAlMjAlMjAyMDAxJTJDJTIwJTIydGhlJTIwJTIwU29mdHdhcmUlMjAlMjBQcm9jZXNzJTNBJTIwJTIwRXZhbHVhdGlvbiUyMCUyMGFuZCUyMCUyMEltcHJvdmVtZW50JTIyJTJDJTBBJTIwJTIwJTIwJTIwZGlzcGxheSUzRCUyMmxvcGV6JTIyJTJDJTBBJTIwJTIwJTIwJTIwYXV0aG9ycyUzRCUyMkxvcGV6JTJDJTIwJTIwTS4lMjIlMkMlMEElMjAlMjAlMjAlMjBwbGFjZSUzREZBS0UlMkMlMEElMjAlMjAlMjAlMjBvdGhlcjElM0QlMjJDeWJlcm5ldGljcyUyMCUyMGFuZCUyMCUyMEluZm9ybWF0aWNzJTIyJTJDJTBBJTIwJTIwJTIwJTIwb3RoZXIyJTNEJTIySVNBUy1TQ0lzJTIyJTJDJTBBJTIwJTIwJTIwJTIwcGxhY2V4JTNEJTIyUHJvY2VlZGluZ3MlMjAlMjBvZiUyMCUyMFdvcmxkJTIwJTIwTXVsdGklMjAlMjBjb25mZXJlbmNlJTIwJTIwb24lMjAlMjBTeXN0ZW1pY3MlMjIlMkMlMEElMjklMjklMEElMEFEQiUyOENpdGF0aW9uJTI4JTBBJTIwJTIwJTIwJTIwbGlhbzIwMDVhJTJDJTIwbG9wZXoyMDAxYSUyQyUyMHJlZiUzRCUyMiU1QjclNUQlMjIlMkMlMEElMjAlMjAlMjAlMjBjb250ZXh0cyUzRCU1QiUwQSUwQSUyMCUyMCUyMCUyMCU1RCUyQyUwQSUyOSUyOSUwQSUwQSUyNyUyNyUyNyUyQyUyMGNpdGF0aW9ucyUzRCUyN2xpYW8yMDA1YSUyNyUyOSUzQg==\")));\n",
       "    "
      ],
      "text/plain": [
       "<IPython.core.display.Javascript object>"
      ]
     },
     "metadata": {},
     "output_type": "display_data"
    },
    {
     "data": {
      "application/javascript": [
       "$('span:contains(\"# Temp\")').closest('.cell').remove();"
      ],
      "text/plain": [
       "<IPython.core.display.Javascript object>"
      ]
     },
     "metadata": {},
     "output_type": "display_data"
    },
    {
     "data": {
      "application/javascript": [
       "\n",
       "        $('span:contains(\"# Temp\")').closest('.cell').remove();\n",
       "        var code = IPython.notebook.insert_cell_below('code');\n",
       "        code.set_text(decodeURIComponent(window.atob(\"JTIzJTIwVGVtcCUwQWluc2VydCUyOCUyNyUyNyUyNyUwQWxvcGV6MjAwMWElMjAlM0QlMjBEQiUyOFdvcmtVbnJlbGF0ZWQlMjglMEElMjAlMjAlMjAlMjAyMDAxJTJDJTIwJTIydGhlJTIwJTIwU29mdHdhcmUlMjAlMjBQcm9jZXNzJTNBJTIwJTIwRXZhbHVhdGlvbiUyMCUyMGFuZCUyMCUyMEltcHJvdmVtZW50JTIyJTJDJTBBJTIwJTIwJTIwJTIwZGlzcGxheSUzRCUyMmxvcGV6JTIyJTJDJTBBJTIwJTIwJTIwJTIwYXV0aG9ycyUzRCUyMkxvcGV6JTJDJTIwJTIwTS4lMjIlMkMlMEElMjAlMjAlMjAlMjBwbGFjZSUzREZBS0UlMkMlMEElMjAlMjAlMjAlMjBvdGhlcjElM0QlMjJDeWJlcm5ldGljcyUyMCUyMGFuZCUyMCUyMEluZm9ybWF0aWNzJTIyJTJDJTBBJTIwJTIwJTIwJTIwb3RoZXIyJTNEJTIySVNBUy1TQ0lzJTIyJTJDJTBBJTIwJTIwJTIwJTIwcGxhY2V4JTNEJTIyUHJvY2VlZGluZ3MlMjAlMjBvZiUyMCUyMFdvcmxkJTIwJTIwTXVsdGklMjAlMjBjb25mZXJlbmNlJTIwJTIwb24lMjAlMjBTeXN0ZW1pY3MlMjIlMkMlMEElMjklMjklMEElMEFEQiUyOENpdGF0aW9uJTI4JTBBJTIwJTIwJTIwJTIwbGlhbzIwMDVhJTJDJTIwbG9wZXoyMDAxYSUyQyUyMHJlZiUzRCUyMiU1QjclNUQlMjIlMkMlMEElMjAlMjAlMjAlMjBjb250ZXh0cyUzRCU1QiUwQSUwQSUyMCUyMCUyMCUyMCU1RCUyQyUwQSUyOSUyOSUwQSUwQSUyNyUyNyUyNyUyQyUyMGNpdGF0aW9ucyUzRCUyN2xpYW8yMDA1YSUyNyUyOSUzQg==\")));\n",
       "    "
      ],
      "text/plain": [
       "<IPython.core.display.Javascript object>"
      ]
     },
     "metadata": {},
     "output_type": "display_data"
    },
    {
     "data": {
      "application/javascript": [
       "$('span:contains(\"# Temp\")').closest('.cell').remove();"
      ],
      "text/plain": [
       "<IPython.core.display.Javascript object>"
      ]
     },
     "metadata": {},
     "output_type": "display_data"
    },
    {
     "data": {
      "application/javascript": [
       "\n",
       "        $('span:contains(\"# Temp\")').closest('.cell').remove();\n",
       "        var code = IPython.notebook.insert_cell_below('code');\n",
       "        code.set_text(decodeURIComponent(window.atob(\"JTIzJTIwVGVtcCUwQWluc2VydCUyOCUyNyUyNyUyNyUwQTE5OTRhJTIwJTNEJTIwREIlMjhXb3JrVW5yZWxhdGVkJTI4JTBBJTIwJTIwJTIwJTIwMTk5NCUyQyUyMCUyMkVQT1MlM0ElMjAlMjBPYmplY3Qtb3JpZW50ZWQlMjAlMjBjb29wZXJhdGl2ZSUyMCUyMHByb2Nlc3MlMjAlMjBtb2RlbGluZyUyMiUyQyUwQSUyMCUyMCUyMCUyMGRpc3BsYXklM0QlMjIlMjIlMkMlMEElMjAlMjAlMjAlMjBhdXRob3JzJTNEJTIyQ29ucmFkaSUyMCUyMFIuJTJDJTIwJTIwSGFnYXNldGglMjAlMjBNLiUyQyUyMCUyMExhcnNlbiUyMCUyMEouTy4lMkMlMjAlMjBldCUyMCUyMGFsLiUyMiUyQyUwQSUyMCUyMCUyMCUyMHBsYWNlJTNERkFLRSUyQyUwQSUyMCUyMCUyMCUyMHBsYWNleCUzRCUyMlNvZnR3YXJlJTIwUHJvY2VzcyUyME1vZGVsaW5nJTIwYW5kJTIwVGVjaG5vbG9neSUyMiUyQyUwQSUyOSUyOSUwQSUwQURCJTI4Q2l0YXRpb24lMjglMEElMjAlMjAlMjAlMjBsaWFvMjAwNWElMkMlMjAxOTk0YSUyQyUyMHJlZiUzRCUyMiU1QjglNUQlMjIlMkMlMEElMjAlMjAlMjAlMjBjb250ZXh0cyUzRCU1QiUwQSUwQSUyMCUyMCUyMCUyMCU1RCUyQyUwQSUyOSUyOSUwQSUwQSUyNyUyNyUyNyUyQyUyMGNpdGF0aW9ucyUzRCUyN2xpYW8yMDA1YSUyNyUyOSUzQg==\")));\n",
       "    "
      ],
      "text/plain": [
       "<IPython.core.display.Javascript object>"
      ]
     },
     "metadata": {},
     "output_type": "display_data"
    },
    {
     "data": {
      "application/javascript": [
       "$('span:contains(\"# Temp\")').closest('.cell').remove();"
      ],
      "text/plain": [
       "<IPython.core.display.Javascript object>"
      ]
     },
     "metadata": {},
     "output_type": "display_data"
    },
    {
     "data": {
      "application/javascript": [
       "\n",
       "        $('span:contains(\"# Temp\")').closest('.cell').remove();\n",
       "        var code = IPython.notebook.insert_cell_below('code');\n",
       "        code.set_text(decodeURIComponent(window.atob(\"JTIzJTIwVGVtcCUwQWluc2VydCUyOCUyNyUyNyUyNyUwQTE5OTRhJTIwJTNEJTIwREIlMjhXb3JrVW5yZWxhdGVkJTI4JTBBJTIwJTIwJTIwJTIwMTk5NCUyQyUyMCUyMkVQT1MlM0ElMjAlMjBPYmplY3Qtb3JpZW50ZWQlMjAlMjBjb29wZXJhdGl2ZSUyMCUyMHByb2Nlc3MlMjAlMjBtb2RlbGluZyUyMiUyQyUwQSUyMCUyMCUyMCUyMGRpc3BsYXklM0QlMjIlMjIlMkMlMEElMjAlMjAlMjAlMjBhdXRob3JzJTNEJTIyQ29ucmFkaSUyMCUyMFIuJTJDJTIwJTIwSGFnYXNldGglMjAlMjBNLiUyQyUyMCUyMExhcnNlbiUyMCUyMEouTy4lMkMlMjAlMjBldCUyMCUyMGFsLiUyMiUyQyUwQSUyMCUyMCUyMCUyMHBsYWNlJTNERkFLRSUyQyUwQSUyMCUyMCUyMCUyMHBsYWNleCUzRCUyMlNvZnR3YXJlJTIwUHJvY2VzcyUyME1vZGVsaW5nJTIwYW5kJTIwVGVjaG5vbG9neSUyMiUyQyUwQSUyOSUyOSUwQSUwQURCJTI4Q2l0YXRpb24lMjglMEElMjAlMjAlMjAlMjBsaWFvMjAwNWElMkMlMjAxOTk0YSUyQyUyMHJlZiUzRCUyMiU1QjglNUQlMjIlMkMlMEElMjAlMjAlMjAlMjBjb250ZXh0cyUzRCU1QiUwQSUwQSUyMCUyMCUyMCUyMCU1RCUyQyUwQSUyOSUyOSUwQSUwQSUyNyUyNyUyNyUyQyUyMGNpdGF0aW9ucyUzRCUyN2xpYW8yMDA1YSUyNyUyOSUzQg==\")));\n",
       "    "
      ],
      "text/plain": [
       "<IPython.core.display.Javascript object>"
      ]
     },
     "metadata": {},
     "output_type": "display_data"
    },
    {
     "data": {
      "application/javascript": [
       "$('span:contains(\"# Temp\")').closest('.cell').remove();"
      ],
      "text/plain": [
       "<IPython.core.display.Javascript object>"
      ]
     },
     "metadata": {},
     "output_type": "display_data"
    },
    {
     "data": {
      "application/javascript": [
       "\n",
       "        $('span:contains(\"# Temp\")').closest('.cell').remove();\n",
       "        var code = IPython.notebook.insert_cell_below('code');\n",
       "        code.set_text(decodeURIComponent(window.atob(\"JTIzJTIwVGVtcCUwQWluc2VydCUyOCUyNyUyNyUyNyUwQWJlbjE5OTNhJTIwJTNEJTIwREIlMjhXb3JrVW5yZWxhdGVkJTI4JTBBJTIwJTIwJTIwJTIwMTk5MyUyQyUyMCUyMlByb2Nlc3MlMjBFdm9sdXRpb24lMjBpbiUyMHRoZSUyME1hcnZlbCUyMEVudmlyb25tZW50JTIyJTJDJTBBJTIwJTIwJTIwJTIwZGlzcGxheSUzRCUyMmJlbiUyMiUyQyUwQSUyMCUyMCUyMCUyMGF1dGhvcnMlM0QlMjJCZW4tU2hhdWwlMkMlMjBJLlouJTJDJTIwS2Fpc2VyJTJDJTIwRy5FLiUyMiUyQyUwQSUyMCUyMCUyMCUyMHBsYWNlJTNERkFLRSUyQyUwQSUyMCUyMCUyMCUyMHBsYWNleCUzRCUyMlByb2NlZWRpbmdzJTIwb2YlMjAlMjAlMjA4dGglMjAlMjAlMjBJbnRlcm5hdGlvbmFsJTIwJTIwJTIwU29mdHdhcmUlMjAlMjAlMjBQcm9jZXNzJTIwJTIwJTIwV29ya3Nob3AlM0ElMjAlMjAlMjBTdGF0ZSUyMCUyMCUyMG9mJTIwJTIwJTIwdGhlJTIwJTIwJTIwUHJhY3RpY2UlMjAlMjAlMjBpbiUyMCUyMCUyMFByb2Nlc3MlMjBUZWNobm9sb2d5JTIyJTJDJTBBJTI5JTI5JTBBJTBBREIlMjhDaXRhdGlvbiUyOCUwQSUyMCUyMCUyMCUyMGxpYW8yMDA1YSUyQyUyMGJlbjE5OTNhJTJDJTIwcmVmJTNEJTIyJTVCOSU1RCUyMiUyQyUwQSUyMCUyMCUyMCUyMGNvbnRleHRzJTNEJTVCJTBBJTBBJTIwJTIwJTIwJTIwJTVEJTJDJTBBJTI5JTI5JTBBJTBBJTI3JTI3JTI3JTJDJTIwY2l0YXRpb25zJTNEJTI3bGlhbzIwMDVhJTI3JTI5JTNC\")));\n",
       "    "
      ],
      "text/plain": [
       "<IPython.core.display.Javascript object>"
      ]
     },
     "metadata": {},
     "output_type": "display_data"
    },
    {
     "data": {
      "application/javascript": [
       "$('span:contains(\"# Temp\")').closest('.cell').remove();"
      ],
      "text/plain": [
       "<IPython.core.display.Javascript object>"
      ]
     },
     "metadata": {},
     "output_type": "display_data"
    },
    {
     "data": {
      "application/javascript": [
       "\n",
       "        $('span:contains(\"# Temp\")').closest('.cell').remove();\n",
       "        var code = IPython.notebook.insert_cell_below('code');\n",
       "        code.set_text(decodeURIComponent(window.atob(\"JTIzJTIwVGVtcCUwQWluc2VydCUyOCUyNyUyNyUyNyUwQWJlbjE5OTNhJTIwJTNEJTIwREIlMjhXb3JrVW5yZWxhdGVkJTI4JTBBJTIwJTIwJTIwJTIwMTk5MyUyQyUyMCUyMlByb2Nlc3MlMjBFdm9sdXRpb24lMjBpbiUyMHRoZSUyME1hcnZlbCUyMEVudmlyb25tZW50JTIyJTJDJTBBJTIwJTIwJTIwJTIwZGlzcGxheSUzRCUyMmJlbiUyMiUyQyUwQSUyMCUyMCUyMCUyMGF1dGhvcnMlM0QlMjJCZW4tU2hhdWwlMkMlMjBJLlouJTJDJTIwS2Fpc2VyJTJDJTIwRy5FLiUyMiUyQyUwQSUyMCUyMCUyMCUyMHBsYWNlJTNERkFLRSUyQyUwQSUyMCUyMCUyMCUyMHBsYWNleCUzRCUyMlByb2NlZWRpbmdzJTIwb2YlMjAlMjAlMjA4dGglMjAlMjAlMjBJbnRlcm5hdGlvbmFsJTIwJTIwJTIwU29mdHdhcmUlMjAlMjAlMjBQcm9jZXNzJTIwJTIwJTIwV29ya3Nob3AlM0ElMjAlMjAlMjBTdGF0ZSUyMCUyMCUyMG9mJTIwJTIwJTIwdGhlJTIwJTIwJTIwUHJhY3RpY2UlMjAlMjAlMjBpbiUyMCUyMCUyMFByb2Nlc3MlMjBUZWNobm9sb2d5JTIyJTJDJTBBJTI5JTI5JTBBJTBBREIlMjhDaXRhdGlvbiUyOCUwQSUyMCUyMCUyMCUyMGxpYW8yMDA1YSUyQyUyMGJlbjE5OTNhJTJDJTIwcmVmJTNEJTIyJTVCOSU1RCUyMiUyQyUwQSUyMCUyMCUyMCUyMGNvbnRleHRzJTNEJTVCJTBBJTBBJTIwJTIwJTIwJTIwJTVEJTJDJTBBJTI5JTI5JTBBJTBBJTI3JTI3JTI3JTJDJTIwY2l0YXRpb25zJTNEJTI3bGlhbzIwMDVhJTI3JTI5JTNC\")));\n",
       "    "
      ],
      "text/plain": [
       "<IPython.core.display.Javascript object>"
      ]
     },
     "metadata": {},
     "output_type": "display_data"
    },
    {
     "data": {
      "application/javascript": [
       "$('span:contains(\"# Temp\")').closest('.cell').remove();"
      ],
      "text/plain": [
       "<IPython.core.display.Javascript object>"
      ]
     },
     "metadata": {},
     "output_type": "display_data"
    },
    {
     "data": {
      "application/javascript": [
       "\n",
       "        $('span:contains(\"# Temp\")').closest('.cell').remove();\n",
       "        var code = IPython.notebook.insert_cell_below('code');\n",
       "        code.set_text(decodeURIComponent(window.atob(\"JTIzJTIwVGVtcCUwQWluc2VydCUyOCUyNyUyNyUyNyUwQWJhbmRpbmVsbGkxOTkzYSUyMCUzRCUyMERCJTI4V29ya1VucmVsYXRlZCUyOCUwQSUyMCUyMCUyMCUyMDE5OTMlMkMlMjAlMjJDb29wZXJhdGlvbiUyMCUyMHN1cHBvcnQlMjAlMjBpbiUyMCUyMHRoZSUyMCUyMFNQQURFJTIwRW52aXJvbm1lbnQlM0ElMjAlMjAlMjBBJTIwJTIwJTIwQ2FzZSUyMCUyMCUyMFN0dWR5JTIyJTJDJTBBJTIwJTIwJTIwJTIwZGlzcGxheSUzRCUyMmJhbmRpbmVsbGklMjIlMkMlMEElMjAlMjAlMjAlMjBhdXRob3JzJTNEJTIyQmFuZGluZWxsaSUyQyUyMCUyMFMuJTJDJTIwJTIwQnJhZ2ElMkMlMjAlMjBNLiUyQyUyMCUyMEZ1Z2dldHRhJTJDJTIwJTIwQS4lMkMlMjAlMjBMYXZhenphJTJDJTIwJTIwTC4lMjIlMkMlMEElMjAlMjAlMjAlMjBwbGFjZSUzREZBS0UlMkMlMEElMjAlMjAlMjAlMjBwbGFjZXglM0QlMjJQcm9jZWVkaW5nJTIwJTIwJTIwb2YlMjAlMjAlMjBXb3Jrc2hvcCUyMCUyMCUyMG9uJTIwJTIwJTIwQ29tcHV0ZXIlMjAlMjAlMjBTdXBwb3J0ZWQlMjBDb29wZXJhdGl2ZSUyMFdvcmslMjBQZXRyaSUyME5ldHMlMjBhbmQlMjBSZWxhdGVkJTIwRm9ybWFsaXNtcyUyMiUyQyUwQSUyOSUyOSUwQSUwQURCJTI4Q2l0YXRpb24lMjglMEElMjAlMjAlMjAlMjBsaWFvMjAwNWElMkMlMjBiYW5kaW5lbGxpMTk5M2ElMkMlMjByZWYlM0QlMjIlNUIxMCU1RCUyMiUyQyUwQSUyMCUyMCUyMCUyMGNvbnRleHRzJTNEJTVCJTBBJTBBJTIwJTIwJTIwJTIwJTVEJTJDJTBBJTI5JTI5JTBBJTBBJTI3JTI3JTI3JTJDJTIwY2l0YXRpb25zJTNEJTI3bGlhbzIwMDVhJTI3JTI5JTNC\")));\n",
       "    "
      ],
      "text/plain": [
       "<IPython.core.display.Javascript object>"
      ]
     },
     "metadata": {},
     "output_type": "display_data"
    },
    {
     "data": {
      "application/javascript": [
       "$('span:contains(\"# Temp\")').closest('.cell').remove();"
      ],
      "text/plain": [
       "<IPython.core.display.Javascript object>"
      ]
     },
     "metadata": {},
     "output_type": "display_data"
    },
    {
     "data": {
      "application/javascript": [
       "\n",
       "        $('span:contains(\"# Temp\")').closest('.cell').remove();\n",
       "        var code = IPython.notebook.insert_cell_below('code');\n",
       "        code.set_text(decodeURIComponent(window.atob(\"JTIzJTIwVGVtcCUwQWluc2VydCUyOCUyNyUyNyUyNyUwQWJhbmRpbmVsbGkxOTkzYSUyMCUzRCUyMERCJTI4V29ya1VucmVsYXRlZCUyOCUwQSUyMCUyMCUyMCUyMDE5OTMlMkMlMjAlMjJDb29wZXJhdGlvbiUyMCUyMHN1cHBvcnQlMjAlMjBpbiUyMCUyMHRoZSUyMCUyMFNQQURFJTIwRW52aXJvbm1lbnQlM0ElMjAlMjAlMjBBJTIwJTIwJTIwQ2FzZSUyMCUyMCUyMFN0dWR5JTIyJTJDJTBBJTIwJTIwJTIwJTIwZGlzcGxheSUzRCUyMmJhbmRpbmVsbGklMjIlMkMlMEElMjAlMjAlMjAlMjBhdXRob3JzJTNEJTIyQmFuZGluZWxsaSUyQyUyMCUyMFMuJTJDJTIwJTIwQnJhZ2ElMkMlMjAlMjBNLiUyQyUyMCUyMEZ1Z2dldHRhJTJDJTIwJTIwQS4lMkMlMjAlMjBMYXZhenphJTJDJTIwJTIwTC4lMjIlMkMlMEElMjAlMjAlMjAlMjBwbGFjZSUzREZBS0UlMkMlMEElMjAlMjAlMjAlMjBwbGFjZXglM0QlMjJQcm9jZWVkaW5nJTIwJTIwJTIwb2YlMjAlMjAlMjBXb3Jrc2hvcCUyMCUyMCUyMG9uJTIwJTIwJTIwQ29tcHV0ZXIlMjAlMjAlMjBTdXBwb3J0ZWQlMjBDb29wZXJhdGl2ZSUyMFdvcmslMjBQZXRyaSUyME5ldHMlMjBhbmQlMjBSZWxhdGVkJTIwRm9ybWFsaXNtcyUyMiUyQyUwQSUyOSUyOSUwQSUwQURCJTI4Q2l0YXRpb24lMjglMEElMjAlMjAlMjAlMjBsaWFvMjAwNWElMkMlMjBiYW5kaW5lbGxpMTk5M2ElMkMlMjByZWYlM0QlMjIlNUIxMCU1RCUyMiUyQyUwQSUyMCUyMCUyMCUyMGNvbnRleHRzJTNEJTVCJTBBJTBBJTIwJTIwJTIwJTIwJTVEJTJDJTBBJTI5JTI5JTBBJTBBJTI3JTI3JTI3JTJDJTIwY2l0YXRpb25zJTNEJTI3bGlhbzIwMDVhJTI3JTI5JTNC\")));\n",
       "    "
      ],
      "text/plain": [
       "<IPython.core.display.Javascript object>"
      ]
     },
     "metadata": {},
     "output_type": "display_data"
    },
    {
     "data": {
      "application/javascript": [
       "$('span:contains(\"# Temp\")').closest('.cell').remove();"
      ],
      "text/plain": [
       "<IPython.core.display.Javascript object>"
      ]
     },
     "metadata": {},
     "output_type": "display_data"
    },
    {
     "data": {
      "application/javascript": [
       "\n",
       "        $('span:contains(\"# Temp\")').closest('.cell').remove();\n",
       "        var code = IPython.notebook.insert_cell_below('code');\n",
       "        code.set_text(decodeURIComponent(window.atob(\"JTIzJTIwVGVtcCUwQWluc2VydCUyOCUyNyUyNyUyNyUwQWRlbmcyMDAzYSUyMCUzRCUyMERCJTI4V29ya1VucmVsYXRlZCUyOCUwQSUyMCUyMCUyMCUyMDIwMDMlMkMlMjAlMjJNdWx0aW1lZGlhJTIwJTIwU29mdHdhcmUlMjBFbmdpbmVlcmluZyUyMiUyQyUwQSUyMCUyMCUyMCUyMGRpc3BsYXklM0QlMjJkZW5nJTIyJTJDJTBBJTIwJTIwJTIwJTIwYXV0aG9ycyUzRCUyMkRlbmclMkMlMjBELiUyQyUyMFdhbmclMkMlMjBULiUyQyUyMFNoZXUlMkMlMjBQLkMuLVkuJTJDJTIwTWFlemF3YSUyQyUyMEguJTJDJTIwVHN1bm9kYSUyQyUyMEYuJTJDJTIwT25vbWElMkMlMjBBLksuJTNBJTIwRFBTU0VFJTNBJTIwYSUyMGRpc3RyaWJ1dGVkJTIwJTIwcHJvYWN0aXZlJTIwJTIwc2VtYW50aWMlMjBzb2Z0d2FyZSUyMCUyMGVuZ2luZWVyaW5nJTIwJTIwZW52aXJvbm1lbnQlMjIlMkMlMEElMjAlMjAlMjAlMjBwbGFjZSUzREZBS0UlMkMlMEElMjAlMjAlMjAlMjBwbGFjZXglM0QlMjJwcm9jZWVkaW5ncyUyMG9mJTIwdGhlJTIwRmlmdGglMjBJbnRlcm5hdGlvbmFsJTIwU3ltcG9zaXVtJTIyJTJDJTBBJTI5JTI5JTBBJTBBREIlMjhDaXRhdGlvbiUyOCUwQSUyMCUyMCUyMCUyMGxpYW8yMDA1YSUyQyUyMGRlbmcyMDAzYSUyQyUyMHJlZiUzRCUyMiU1QjExJTVEJTIyJTJDJTBBJTIwJTIwJTIwJTIwY29udGV4dHMlM0QlNUIlMEElMEElMjAlMjAlMjAlMjAlNUQlMkMlMEElMjklMjklMEElMEElMjclMjclMjclMkMlMjBjaXRhdGlvbnMlM0QlMjdsaWFvMjAwNWElMjclMjklM0I=\")));\n",
       "    "
      ],
      "text/plain": [
       "<IPython.core.display.Javascript object>"
      ]
     },
     "metadata": {},
     "output_type": "display_data"
    },
    {
     "data": {
      "application/javascript": [
       "$('span:contains(\"# Temp\")').closest('.cell').remove();"
      ],
      "text/plain": [
       "<IPython.core.display.Javascript object>"
      ]
     },
     "metadata": {},
     "output_type": "display_data"
    },
    {
     "data": {
      "application/javascript": [
       "\n",
       "        $('span:contains(\"# Temp\")').closest('.cell').remove();\n",
       "        var code = IPython.notebook.insert_cell_below('code');\n",
       "        code.set_text(decodeURIComponent(window.atob(\"JTIzJTIwVGVtcCUwQWluc2VydCUyOCUyNyUyNyUyNyUwQWRlbmcyMDAzYSUyMCUzRCUyMERCJTI4V29ya1VucmVsYXRlZCUyOCUwQSUyMCUyMCUyMCUyMDIwMDMlMkMlMjAlMjJNdWx0aW1lZGlhJTIwJTIwU29mdHdhcmUlMjBFbmdpbmVlcmluZyUyMiUyQyUwQSUyMCUyMCUyMCUyMGRpc3BsYXklM0QlMjJkZW5nJTIyJTJDJTBBJTIwJTIwJTIwJTIwYXV0aG9ycyUzRCUyMkRlbmclMkMlMjBELiUyQyUyMFdhbmclMkMlMjBULiUyQyUyMFNoZXUlMkMlMjBQLkMuLVkuJTJDJTIwTWFlemF3YSUyQyUyMEguJTJDJTIwVHN1bm9kYSUyQyUyMEYuJTJDJTIwT25vbWElMkMlMjBBLksuJTNBJTIwRFBTU0VFJTNBJTIwYSUyMGRpc3RyaWJ1dGVkJTIwJTIwcHJvYWN0aXZlJTIwJTIwc2VtYW50aWMlMjBzb2Z0d2FyZSUyMCUyMGVuZ2luZWVyaW5nJTIwJTIwZW52aXJvbm1lbnQlMjIlMkMlMEElMjAlMjAlMjAlMjBwbGFjZSUzREZBS0UlMkMlMEElMjAlMjAlMjAlMjBwbGFjZXglM0QlMjJwcm9jZWVkaW5ncyUyMG9mJTIwdGhlJTIwRmlmdGglMjBJbnRlcm5hdGlvbmFsJTIwU3ltcG9zaXVtJTIyJTJDJTBBJTI5JTI5JTBBJTBBREIlMjhDaXRhdGlvbiUyOCUwQSUyMCUyMCUyMCUyMGxpYW8yMDA1YSUyQyUyMGRlbmcyMDAzYSUyQyUyMHJlZiUzRCUyMiU1QjExJTVEJTIyJTJDJTBBJTIwJTIwJTIwJTIwY29udGV4dHMlM0QlNUIlMEElMEElMjAlMjAlMjAlMjAlNUQlMkMlMEElMjklMjklMEElMEElMjclMjclMjclMkMlMjBjaXRhdGlvbnMlM0QlMjdsaWFvMjAwNWElMjclMjklM0I=\")));\n",
       "    "
      ],
      "text/plain": [
       "<IPython.core.display.Javascript object>"
      ]
     },
     "metadata": {},
     "output_type": "display_data"
    },
    {
     "data": {
      "application/javascript": [
       "$('span:contains(\"# Temp\")').closest('.cell').remove();"
      ],
      "text/plain": [
       "<IPython.core.display.Javascript object>"
      ]
     },
     "metadata": {},
     "output_type": "display_data"
    },
    {
     "data": {
      "application/javascript": [
       "\n",
       "        $('span:contains(\"# Temp\")').closest('.cell').remove();\n",
       "        var code = IPython.notebook.insert_cell_below('code');\n",
       "        code.set_text(decodeURIComponent(window.atob(\"JTIzJTIwVGVtcCUwQWluc2VydCUyOCUyNyUyNyUyNyUwQWFsb25zbzE5OTVhJTIwJTNEJTIwREIlMjhXb3JrVW5yZWxhdGVkJTI4JTBBJTIwJTIwJTIwJTIwMTk5NSUyQyUyMCUyMklERVJTJTNBJTIwYW4lMjBpbnRlZ3JhdGVkJTIwZW52aXJvbm1lbnQlMjBmb3IlMjB0aGUlMjBkZXZlbG9wbWVudCUyMG9mJTIwaGFyZCUyMHJlYWwtdGltZSUyMHN5c3RlbXMlMjIlMkMlMEElMjAlMjAlMjAlMjBkaXNwbGF5JTNEJTIyYWxvbnNvJTIyJTJDJTBBJTIwJTIwJTIwJTIwYXV0aG9ycyUzRCUyMkFsb25zbyUyQyUyMEEuJTJDJTIwQ2hyaXN0ZW5zZW4lMkMlMjBILiUyQyUyMEJhcmVzaSUyQyUyMEwuJTJDJTIwSGVpa2tpbmVuJTJDJTIwTS4lMjIlMkMlMEElMjAlMjAlMjAlMjBwbGFjZSUzREZBS0UlMkMlMEElMjAlMjAlMjAlMjBvdGhlcjElM0QlMjJQcm9jZWVkaW5ncyUyMG9mJTIwU2V2ZW50aCUyMEV1cm9taWNybyUyMFdvcmtzaG9wJTIyJTJDJTBBJTIwJTIwJTIwJTIwcGxhY2V4JTNEJTIyUmVhbC1UaW1lJTIwU3lzdGVtcyUyMiUyQyUwQSUyOSUyOSUwQSUwQURCJTI4Q2l0YXRpb24lMjglMEElMjAlMjAlMjAlMjBsaWFvMjAwNWElMkMlMjBhbG9uc28xOTk1YSUyQyUyMHJlZiUzRCUyMiU1QjEyJTVEJTIyJTJDJTBBJTIwJTIwJTIwJTIwY29udGV4dHMlM0QlNUIlMEElMEElMjAlMjAlMjAlMjAlNUQlMkMlMEElMjklMjklMEElMEElMjclMjclMjclMkMlMjBjaXRhdGlvbnMlM0QlMjdsaWFvMjAwNWElMjclMjklM0I=\")));\n",
       "    "
      ],
      "text/plain": [
       "<IPython.core.display.Javascript object>"
      ]
     },
     "metadata": {},
     "output_type": "display_data"
    },
    {
     "data": {
      "application/javascript": [
       "$('span:contains(\"# Temp\")').closest('.cell').remove();"
      ],
      "text/plain": [
       "<IPython.core.display.Javascript object>"
      ]
     },
     "metadata": {},
     "output_type": "display_data"
    },
    {
     "data": {
      "application/javascript": [
       "\n",
       "        $('span:contains(\"# Temp\")').closest('.cell').remove();\n",
       "        var code = IPython.notebook.insert_cell_below('code');\n",
       "        code.set_text(decodeURIComponent(window.atob(\"JTIzJTIwVGVtcCUwQWluc2VydCUyOCUyNyUyNyUyNyUwQWFsb25zbzE5OTVhJTIwJTNEJTIwREIlMjhXb3JrVW5yZWxhdGVkJTI4JTBBJTIwJTIwJTIwJTIwMTk5NSUyQyUyMCUyMklERVJTJTNBJTIwYW4lMjBpbnRlZ3JhdGVkJTIwZW52aXJvbm1lbnQlMjBmb3IlMjB0aGUlMjBkZXZlbG9wbWVudCUyMG9mJTIwaGFyZCUyMHJlYWwtdGltZSUyMHN5c3RlbXMlMjIlMkMlMEElMjAlMjAlMjAlMjBkaXNwbGF5JTNEJTIyYWxvbnNvJTIyJTJDJTBBJTIwJTIwJTIwJTIwYXV0aG9ycyUzRCUyMkFsb25zbyUyQyUyMEEuJTJDJTIwQ2hyaXN0ZW5zZW4lMkMlMjBILiUyQyUyMEJhcmVzaSUyQyUyMEwuJTJDJTIwSGVpa2tpbmVuJTJDJTIwTS4lMjIlMkMlMEElMjAlMjAlMjAlMjBwbGFjZSUzREZBS0UlMkMlMEElMjAlMjAlMjAlMjBvdGhlcjElM0QlMjJQcm9jZWVkaW5ncyUyMG9mJTIwU2V2ZW50aCUyMEV1cm9taWNybyUyMFdvcmtzaG9wJTIyJTJDJTBBJTIwJTIwJTIwJTIwcGxhY2V4JTNEJTIyUmVhbC1UaW1lJTIwU3lzdGVtcyUyMiUyQyUwQSUyOSUyOSUwQSUwQURCJTI4Q2l0YXRpb24lMjglMEElMjAlMjAlMjAlMjBsaWFvMjAwNWElMkMlMjBhbG9uc28xOTk1YSUyQyUyMHJlZiUzRCUyMiU1QjEyJTVEJTIyJTJDJTBBJTIwJTIwJTIwJTIwY29udGV4dHMlM0QlNUIlMEElMEElMjAlMjAlMjAlMjAlNUQlMkMlMEElMjklMjklMEElMEElMjclMjclMjclMkMlMjBjaXRhdGlvbnMlM0QlMjdsaWFvMjAwNWElMjclMjklM0I=\")));\n",
       "    "
      ],
      "text/plain": [
       "<IPython.core.display.Javascript object>"
      ]
     },
     "metadata": {},
     "output_type": "display_data"
    },
    {
     "data": {
      "application/javascript": [
       "$('span:contains(\"# Temp\")').closest('.cell').remove();"
      ],
      "text/plain": [
       "<IPython.core.display.Javascript object>"
      ]
     },
     "metadata": {},
     "output_type": "display_data"
    },
    {
     "data": {
      "application/javascript": [
       "\n",
       "        $('span:contains(\"# Temp\")').closest('.cell').remove();\n",
       "        var code = IPython.notebook.insert_cell_below('code');\n",
       "        code.set_text(decodeURIComponent(window.atob(\"JTIzJTIwVGVtcCUwQWluc2VydCUyOCUyNyUyNyUyNyUwQWxpYW8yMDA0YSUyMCUzRCUyMERCJTI4V29ya1VucmVsYXRlZCUyOCUwQSUyMCUyMCUyMCUyMDIwMDQlMkMlMjAlMjJBdXRvbWF0ZWQlMjAlMjBTdXBwb3J0JTIwJTIwb2YlMjAlMjBRdWFsaXR5JTIwJTIwSW1wcm92ZW1lbnQlMjIlMkMlMEElMjAlMjAlMjAlMjBkaXNwbGF5JTNEJTIybGlhbyUyMiUyQyUwQSUyMCUyMCUyMCUyMGF1dGhvcnMlM0QlMjJMaWFvJTJDJTIwJTIwTC4lMkMlMjAlMjBMZXVuZyUyQyUyMCUyMEguSy5OLiUyQyUyMCUyMFF1JTJDJTIwJTIwWS5aLiUyMiUyQyUwQSUyMCUyMCUyMCUyMHBsYWNlJTNERkFLRSUyQyUwQSUyMCUyMCUyMCUyMHBsYWNleCUzRCUyMnByb2NlZWRpbmdzJTIwJTIwJTIwJTIwJTIwb2YlMjAlMjAlMjAlMjAlMjBUaGUlMjAlMjAlMjAlMjAlMjA4dGglMjAlMjAlMjAlMjAlMjBJQVNURUQlMjAlMjAlMjAlMjAlMjBJbnRlcm5hdGlvbmFsJTIwJTIwJTIwJTIwJTIwQ29uZmVyZW5jZSUyMCUyMCUyMCUyMCUyMG9uJTIwJTIwJTIwJTIwJTIwU09GVFdBUkUlMjBFTkdJTkVFUklORyUyMEFORCUyMEFQUExJQ0FUSU9OUyUyMiUyQyUwQSUyOSUyOSUwQSUwQURCJTI4Q2l0YXRpb24lMjglMEElMjAlMjAlMjAlMjBsaWFvMjAwNWElMkMlMjBsaWFvMjAwNGElMkMlMjByZWYlM0QlMjIlNUIxMyU1RCUyMiUyQyUwQSUyMCUyMCUyMCUyMGNvbnRleHRzJTNEJTVCJTBBJTBBJTIwJTIwJTIwJTIwJTVEJTJDJTBBJTI5JTI5JTBBJTBBJTI3JTI3JTI3JTJDJTIwY2l0YXRpb25zJTNEJTI3bGlhbzIwMDVhJTI3JTI5JTNC\")));\n",
       "    "
      ],
      "text/plain": [
       "<IPython.core.display.Javascript object>"
      ]
     },
     "metadata": {},
     "output_type": "display_data"
    },
    {
     "data": {
      "application/javascript": [
       "$('span:contains(\"# Temp\")').closest('.cell').remove();"
      ],
      "text/plain": [
       "<IPython.core.display.Javascript object>"
      ]
     },
     "metadata": {},
     "output_type": "display_data"
    },
    {
     "data": {
      "application/javascript": [
       "\n",
       "        $('span:contains(\"# Temp\")').closest('.cell').remove();\n",
       "        var code = IPython.notebook.insert_cell_below('code');\n",
       "        code.set_text(decodeURIComponent(window.atob(\"JTIzJTIwVGVtcCUwQWluc2VydCUyOCUyNyUyNyUyNyUwQWxpYW8yMDA0YSUyMCUzRCUyMERCJTI4V29ya1VucmVsYXRlZCUyOCUwQSUyMCUyMCUyMCUyMDIwMDQlMkMlMjAlMjJBdXRvbWF0ZWQlMjAlMjBTdXBwb3J0JTIwJTIwb2YlMjAlMjBRdWFsaXR5JTIwJTIwSW1wcm92ZW1lbnQlMjIlMkMlMEElMjAlMjAlMjAlMjBkaXNwbGF5JTNEJTIybGlhbyUyMiUyQyUwQSUyMCUyMCUyMCUyMGF1dGhvcnMlM0QlMjJMaWFvJTJDJTIwJTIwTC4lMkMlMjAlMjBMZXVuZyUyQyUyMCUyMEguSy5OLiUyQyUyMCUyMFF1JTJDJTIwJTIwWS5aLiUyMiUyQyUwQSUyMCUyMCUyMCUyMHBsYWNlJTNERkFLRSUyQyUwQSUyMCUyMCUyMCUyMHBsYWNleCUzRCUyMnByb2NlZWRpbmdzJTIwJTIwJTIwJTIwJTIwb2YlMjAlMjAlMjAlMjAlMjBUaGUlMjAlMjAlMjAlMjAlMjA4dGglMjAlMjAlMjAlMjAlMjBJQVNURUQlMjAlMjAlMjAlMjAlMjBJbnRlcm5hdGlvbmFsJTIwJTIwJTIwJTIwJTIwQ29uZmVyZW5jZSUyMCUyMCUyMCUyMCUyMG9uJTIwJTIwJTIwJTIwJTIwU09GVFdBUkUlMjBFTkdJTkVFUklORyUyMEFORCUyMEFQUExJQ0FUSU9OUyUyMiUyQyUwQSUyOSUyOSUwQSUwQURCJTI4Q2l0YXRpb24lMjglMEElMjAlMjAlMjAlMjBsaWFvMjAwNWElMkMlMjBsaWFvMjAwNGElMkMlMjByZWYlM0QlMjIlNUIxMyU1RCUyMiUyQyUwQSUyMCUyMCUyMCUyMGNvbnRleHRzJTNEJTVCJTBBJTBBJTIwJTIwJTIwJTIwJTVEJTJDJTBBJTI5JTI5JTBBJTBBJTI3JTI3JTI3JTJDJTIwY2l0YXRpb25zJTNEJTI3bGlhbzIwMDVhJTI3JTI5JTNC\")));\n",
       "    "
      ],
      "text/plain": [
       "<IPython.core.display.Javascript object>"
      ]
     },
     "metadata": {},
     "output_type": "display_data"
    },
    {
     "data": {
      "application/javascript": [
       "$('span:contains(\"# Temp\")').closest('.cell').remove();"
      ],
      "text/plain": [
       "<IPython.core.display.Javascript object>"
      ]
     },
     "metadata": {},
     "output_type": "display_data"
    },
    {
     "data": {
      "application/javascript": [
       "\n",
       "        $('span:contains(\"# Temp\")').closest('.cell').remove();\n",
       "        var code = IPython.notebook.insert_cell_below('code');\n",
       "        code.set_text(decodeURIComponent(window.atob(\"JTIzJTIwVGVtcCUwQWluc2VydCUyOCUyNyUyNyUyNyUwQWNoYW5kcmFzZWthcmFuMTk5OWElMjAlM0QlMjBEQiUyOFdvcmtVbnJlbGF0ZWQlMjglMEElMjAlMjAlMjAlMjAxOTk5JTJDJTIwJTIyV2hhdCUyMEFyZSUyME9udG9sb2dpZXMlMkMlMjBhbmQlMjBXaHklMjBEbyUyMHdlJTIwTmVlZCUyMFRoZW0lM0YlMjIlMkMlMEElMjAlMjAlMjAlMjBkaXNwbGF5JTNEJTIyY2hhbmRyYXNla2FyYW4lMjIlMkMlMEElMjAlMjAlMjAlMjBhdXRob3JzJTNEJTIyQ2hhbmRyYXNla2FyYW4lMkMlMjBCLiUyQyUyMEpvc2VwaHNvbiUyQyUyMEouUi4lMkMlMjBCZW5qYW1pbnMlMkMlMjBWLlIuJTIyJTJDJTBBJTIwJTIwJTIwJTIwcGxhY2UlM0RGQUtFJTJDJTBBJTIwJTIwJTIwJTIwcGxhY2V4JTNEJTIySUVFRSUyMEludGVsbGlnZW50JTIwU3lzdGVtcyUyMFZvbC4lMjAxNCUyQyUyMElzc3VlJTIwMSUyMiUyQyUwQSUyOSUyOSUwQSUwQURCJTI4Q2l0YXRpb24lMjglMEElMjAlMjAlMjAlMjBsaWFvMjAwNWElMkMlMjBjaGFuZHJhc2VrYXJhbjE5OTlhJTJDJTIwcmVmJTNEJTIyJTVCMTQlNUQlMjIlMkMlMEElMjAlMjAlMjAlMjBjb250ZXh0cyUzRCU1QiUwQSUwQSUyMCUyMCUyMCUyMCU1RCUyQyUwQSUyOSUyOSUwQSUwQSUyNyUyNyUyNyUyQyUyMGNpdGF0aW9ucyUzRCUyN2xpYW8yMDA1YSUyNyUyOSUzQg==\")));\n",
       "    "
      ],
      "text/plain": [
       "<IPython.core.display.Javascript object>"
      ]
     },
     "metadata": {},
     "output_type": "display_data"
    },
    {
     "data": {
      "application/javascript": [
       "$('span:contains(\"# Temp\")').closest('.cell').remove();"
      ],
      "text/plain": [
       "<IPython.core.display.Javascript object>"
      ]
     },
     "metadata": {},
     "output_type": "display_data"
    },
    {
     "data": {
      "application/javascript": [
       "\n",
       "        $('span:contains(\"# Temp\")').closest('.cell').remove();\n",
       "        var code = IPython.notebook.insert_cell_below('code');\n",
       "        code.set_text(decodeURIComponent(window.atob(\"JTIzJTIwVGVtcCUwQWluc2VydCUyOCUyNyUyNyUyNyUwQWNoYW5kcmFzZWthcmFuMTk5OWElMjAlM0QlMjBEQiUyOFdvcmtVbnJlbGF0ZWQlMjglMEElMjAlMjAlMjAlMjAxOTk5JTJDJTIwJTIyV2hhdCUyMEFyZSUyME9udG9sb2dpZXMlMkMlMjBhbmQlMjBXaHklMjBEbyUyMHdlJTIwTmVlZCUyMFRoZW0lM0YlMjIlMkMlMEElMjAlMjAlMjAlMjBkaXNwbGF5JTNEJTIyY2hhbmRyYXNla2FyYW4lMjIlMkMlMEElMjAlMjAlMjAlMjBhdXRob3JzJTNEJTIyQ2hhbmRyYXNla2FyYW4lMkMlMjBCLiUyQyUyMEpvc2VwaHNvbiUyQyUyMEouUi4lMkMlMjBCZW5qYW1pbnMlMkMlMjBWLlIuJTIyJTJDJTBBJTIwJTIwJTIwJTIwcGxhY2UlM0RGQUtFJTJDJTBBJTIwJTIwJTIwJTIwcGxhY2V4JTNEJTIySUVFRSUyMEludGVsbGlnZW50JTIwU3lzdGVtcyUyMFZvbC4lMjAxNCUyQyUyMElzc3VlJTIwMSUyMiUyQyUwQSUyOSUyOSUwQSUwQURCJTI4Q2l0YXRpb24lMjglMEElMjAlMjAlMjAlMjBsaWFvMjAwNWElMkMlMjBjaGFuZHJhc2VrYXJhbjE5OTlhJTJDJTIwcmVmJTNEJTIyJTVCMTQlNUQlMjIlMkMlMEElMjAlMjAlMjAlMjBjb250ZXh0cyUzRCU1QiUwQSUwQSUyMCUyMCUyMCUyMCU1RCUyQyUwQSUyOSUyOSUwQSUwQSUyNyUyNyUyNyUyQyUyMGNpdGF0aW9ucyUzRCUyN2xpYW8yMDA1YSUyNyUyOSUzQg==\")));\n",
       "    "
      ],
      "text/plain": [
       "<IPython.core.display.Javascript object>"
      ]
     },
     "metadata": {},
     "output_type": "display_data"
    },
    {
     "data": {
      "application/javascript": [
       "$('span:contains(\"# Temp\")').closest('.cell').remove();"
      ],
      "text/plain": [
       "<IPython.core.display.Javascript object>"
      ]
     },
     "metadata": {},
     "output_type": "display_data"
    },
    {
     "data": {
      "application/javascript": [
       "\n",
       "        $('span:contains(\"# Temp\")').closest('.cell').remove();\n",
       "        var code = IPython.notebook.insert_cell_below('code');\n",
       "        code.set_text(decodeURIComponent(window.atob(\"JTIzJTIwVGVtcCUwQWluc2VydCUyOCUyNyUyNyUyNyUwQXBhdGVsMjAwNGElMjAlM0QlMjBEQiUyOFdvcmtVbnJlbGF0ZWQlMjglMEElMjAlMjAlMjAlMjAyMDA0JTJDJTIwJTIyT1dMJTNBJTIwJTIwV2ViJTIwJTIwT250b2xvZ3klMjAlMjBMYW5ndWFnZSUyMCUyMFNlbWFudGljcyUyMGFuZCUyMEFic3RyYWN0JTIwU3ludGF4JTIyJTJDJTBBJTIwJTIwJTIwJTIwZGlzcGxheSUzRCUyMnBhdGVsJTIyJTJDJTBBJTIwJTIwJTIwJTIwYXV0aG9ycyUzRCUyMlBhdGVsLVNjaG5laWRlciUyQyUyMCUyMFAuRi4lMkMlMjAlMjBIYXllcyUyQyUyMCUyMFAuJTJDJTIwJTIwSG9ycm9ja3MlMkMlMjAlMjBJLiUyMCUyMCUyOGVkcy4lMjklMjIlMkMlMEElMjAlMjAlMjAlMjBwbGFjZSUzREZBS0UlMkMlMEElMjAlMjAlMjAlMjBwbGFjZXglM0QlMjJXM0MlMjBSZWNvbW1lbmRhdGlvbiUyMiUyQyUwQSUyOSUyOSUwQSUwQURCJTI4Q2l0YXRpb24lMjglMEElMjAlMjAlMjAlMjBsaWFvMjAwNWElMkMlMjBwYXRlbDIwMDRhJTJDJTIwcmVmJTNEJTIyJTVCMTUlNUQlMjIlMkMlMEElMjAlMjAlMjAlMjBjb250ZXh0cyUzRCU1QiUwQSUwQSUyMCUyMCUyMCUyMCU1RCUyQyUwQSUyOSUyOSUwQSUwQSUyNyUyNyUyNyUyQyUyMGNpdGF0aW9ucyUzRCUyN2xpYW8yMDA1YSUyNyUyOSUzQg==\")));\n",
       "    "
      ],
      "text/plain": [
       "<IPython.core.display.Javascript object>"
      ]
     },
     "metadata": {},
     "output_type": "display_data"
    },
    {
     "data": {
      "application/javascript": [
       "$('span:contains(\"# Temp\")').closest('.cell').remove();"
      ],
      "text/plain": [
       "<IPython.core.display.Javascript object>"
      ]
     },
     "metadata": {},
     "output_type": "display_data"
    },
    {
     "data": {
      "application/javascript": [
       "\n",
       "        $('span:contains(\"# Temp\")').closest('.cell').remove();\n",
       "        var code = IPython.notebook.insert_cell_below('code');\n",
       "        code.set_text(decodeURIComponent(window.atob(\"JTIzJTIwVGVtcCUwQWluc2VydCUyOCUyNyUyNyUyNyUwQXBhdGVsMjAwNGElMjAlM0QlMjBEQiUyOFdvcmtVbnJlbGF0ZWQlMjglMEElMjAlMjAlMjAlMjAyMDA0JTJDJTIwJTIyT1dMJTNBJTIwJTIwV2ViJTIwJTIwT250b2xvZ3klMjAlMjBMYW5ndWFnZSUyMCUyMFNlbWFudGljcyUyMGFuZCUyMEFic3RyYWN0JTIwU3ludGF4JTIyJTJDJTBBJTIwJTIwJTIwJTIwZGlzcGxheSUzRCUyMnBhdGVsJTIyJTJDJTBBJTIwJTIwJTIwJTIwYXV0aG9ycyUzRCUyMlBhdGVsLVNjaG5laWRlciUyQyUyMCUyMFAuRi4lMkMlMjAlMjBIYXllcyUyQyUyMCUyMFAuJTJDJTIwJTIwSG9ycm9ja3MlMkMlMjAlMjBJLiUyMCUyMCUyOGVkcy4lMjklMjIlMkMlMEElMjAlMjAlMjAlMjBwbGFjZSUzREZBS0UlMkMlMEElMjAlMjAlMjAlMjBwbGFjZXglM0QlMjJXM0MlMjBSZWNvbW1lbmRhdGlvbiUyMiUyQyUwQSUyOSUyOSUwQSUwQURCJTI4Q2l0YXRpb24lMjglMEElMjAlMjAlMjAlMjBsaWFvMjAwNWElMkMlMjBwYXRlbDIwMDRhJTJDJTIwcmVmJTNEJTIyJTVCMTUlNUQlMjIlMkMlMEElMjAlMjAlMjAlMjBjb250ZXh0cyUzRCU1QiUwQSUwQSUyMCUyMCUyMCUyMCU1RCUyQyUwQSUyOSUyOSUwQSUwQSUyNyUyNyUyNyUyQyUyMGNpdGF0aW9ucyUzRCUyN2xpYW8yMDA1YSUyNyUyOSUzQg==\")));\n",
       "    "
      ],
      "text/plain": [
       "<IPython.core.display.Javascript object>"
      ]
     },
     "metadata": {},
     "output_type": "display_data"
    }
   ],
   "source": [
    "import importlib\n",
    "import custom_snowballing\n",
    "importlib.reload(custom_snowballing)\n",
    "from custom_snowballing import UnrelatedBackward\n",
    "UnrelatedBackward(\"liao2005a\", articles=article_list)"
   ]
  }
 ],
 "metadata": {
  "kernelspec": {
   "display_name": "Python 3",
   "language": "python",
   "name": "python3"
  },
  "language_info": {
   "codemirror_mode": {
    "name": "ipython",
    "version": 3
   },
   "file_extension": ".py",
   "mimetype": "text/x-python",
   "name": "python",
   "nbconvert_exporter": "python",
   "pygments_lexer": "ipython3",
   "version": "3.6.0"
  },
  "toc": {
   "nav_menu": {
    "height": "12px",
    "width": "252px"
   },
   "number_sections": true,
   "sideBar": true,
   "skip_h1_title": false,
   "toc_cell": false,
   "toc_position": {},
   "toc_section_display": "block",
   "toc_window_display": false
  }
 },
 "nbformat": 4,
 "nbformat_minor": 2
}
