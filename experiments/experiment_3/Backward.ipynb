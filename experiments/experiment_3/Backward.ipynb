{
 "cells": [
  {
   "cell_type": "code",
   "execution_count": 1,
   "metadata": {
    "collapsed": true
   },
   "outputs": [],
   "source": [
    "import database\n",
    "from snowballing.operations import load_work, reload, work_by_varname\n",
    "from snowballing.snowballing import Converter\n",
    "from snowballing.dbmanager import insert, set_attribute"
   ]
  },
  {
   "cell_type": "code",
   "execution_count": 2,
   "metadata": {
    "scrolled": true
   },
   "outputs": [
    {
     "data": {
      "application/vnd.jupyter.widget-view+json": {
       "model_id": "6ef40c6d3d9647b596ab5fd205eb39fd",
       "version_major": 2,
       "version_minor": 0
      },
      "text/html": [
       "<p>Failed to display Jupyter Widget of type <code>VBox</code>.</p>\n",
       "<p>\n",
       "  If you're reading this message in Jupyter Notebook or JupyterLab, it may mean\n",
       "  that the widgets JavaScript is still loading. If this message persists, it\n",
       "  likely means that the widgets JavaScript library is either not installed or\n",
       "  not enabled. See the <a href=\"https://ipywidgets.readthedocs.io/en/stable/user_install.html\">Jupyter\n",
       "  Widgets Documentation</a> for setup instructions.\n",
       "</p>\n",
       "<p>\n",
       "  If you're reading this message in another notebook frontend (for example, a static\n",
       "  rendering on GitHub or <a href=\"https://nbviewer.jupyter.org/\">NBViewer</a>),\n",
       "  it may mean that your frontend doesn't currently support widgets.\n",
       "</p>\n"
      ],
      "text/plain": [
       "VBox(children=(HBox(children=(Dropdown(index=1, options={'BibTeX': 'bibtex', 'Text': 'text', '[N] author name place other year': 'citation', 'Quoted': 'quoted'}, value='text'), Button(description='Set article_list variable', disabled=True, style=ButtonStyle()), Label(value=''))), HBox(children=(Textarea(value='', layout=Layout(height='500px', width='50%')), Textarea(value='', layout=Layout(height='500px', width='50%'))))))"
      ]
     },
     "metadata": {},
     "output_type": "display_data"
    }
   ],
   "source": [
    "Converter().browser()"
   ]
  },
  {
   "cell_type": "code",
   "execution_count": null,
   "metadata": {
    "collapsed": true
   },
   "outputs": [],
   "source": [
    "Converter().browser()"
   ]
  },
  {
   "cell_type": "code",
   "execution_count": 7,
   "metadata": {},
   "outputs": [
    {
     "data": {
      "text/plain": [
       "24"
      ]
     },
     "execution_count": 7,
     "metadata": {},
     "output_type": "execute_result"
    }
   ],
   "source": [
    "len(article_list)"
   ]
  },
  {
   "cell_type": "code",
   "execution_count": null,
   "metadata": {
    "collapsed": true
   },
   "outputs": [],
   "source": [
    "#from database.work.y2015 import li2015a"
   ]
  },
  {
   "cell_type": "code",
   "execution_count": null,
   "metadata": {
    "collapsed": true
   },
   "outputs": [],
   "source": [
    "#int(getattr(li2015a, 'scopus', 0))"
   ]
  },
  {
   "cell_type": "code",
   "execution_count": null,
   "metadata": {
    "collapsed": true
   },
   "outputs": [],
   "source": [
    "#print(article_list)"
   ]
  },
  {
   "cell_type": "code",
   "execution_count": null,
   "metadata": {
    "collapsed": true
   },
   "outputs": [],
   "source": []
  },
  {
   "cell_type": "code",
   "execution_count": null,
   "metadata": {
    "collapsed": true
   },
   "outputs": [],
   "source": []
  },
  {
   "cell_type": "code",
   "execution_count": null,
   "metadata": {
    "collapsed": true
   },
   "outputs": [],
   "source": []
  },
  {
   "cell_type": "code",
   "execution_count": null,
   "metadata": {
    "collapsed": true
   },
   "outputs": [],
   "source": []
  },
  {
   "cell_type": "code",
   "execution_count": 8,
   "metadata": {},
   "outputs": [
    {
     "data": {
      "application/vnd.jupyter.widget-view+json": {
       "model_id": "d62d58b7486a48a6afabb857678e4294",
       "version_major": 2,
       "version_minor": 0
      },
      "text/html": [
       "<p>Failed to display Jupyter Widget of type <code>VBox</code>.</p>\n",
       "<p>\n",
       "  If you're reading this message in Jupyter Notebook or JupyterLab, it may mean\n",
       "  that the widgets JavaScript is still loading. If this message persists, it\n",
       "  likely means that the widgets JavaScript library is either not installed or\n",
       "  not enabled. See the <a href=\"https://ipywidgets.readthedocs.io/en/stable/user_install.html\">Jupyter\n",
       "  Widgets Documentation</a> for setup instructions.\n",
       "</p>\n",
       "<p>\n",
       "  If you're reading this message in another notebook frontend (for example, a static\n",
       "  rendering on GitHub or <a href=\"https://nbviewer.jupyter.org/\">NBViewer</a>),\n",
       "  it may mean that your frontend doesn't currently support widgets.\n",
       "</p>\n"
      ],
      "text/plain": [
       "VBox(children=(HBox(children=(Button(description='Previous Article', disabled=True, icon='caret-left', style=ButtonStyle()), Button(description='Reload Article', icon='refresh', style=ButtonStyle()), Button(description='Next Article', icon='caret-right', style=ButtonStyle()))), HBox(children=(Button(description='Unrelated: Scripts', style=ButtonStyle()), Button(description='Unrelated: Provenance', style=ButtonStyle()), Button(description='Both', style=ButtonStyle()), Button(description='Ok', style=ButtonStyle()))), HBox(children=(Dropdown(description='Type', index=3, options=('Work', 'WorkSnowball', 'WorkOk', 'WorkUnrelated', 'WorkNoFile', 'WorkLang', 'Site', 'Email'), value='WorkUnrelated'), ToggleButton(value=False, description='File'))), HBox(children=(Text(value='', description='Due'), Text(value='', description='Place'))), HBox(children=(Text(value='', description='Year'), Text(value='', description='Prefix Var'))), HBox(children=(Text(value='', description='PDFPage'), Text(value='', description='Related'))), HBox(children=(Text(value='', description='Display'), Text(value='', description='Summary'))), HBox(children=(Text(value='', description='Star'), Text(value='', description='Link'))), HBox(children=(Button(description='Reload Article', icon='refresh', style=ButtonStyle()), IntSlider(value=0, max=23), Label(value='1/24'))), Output()))"
      ]
     },
     "metadata": {},
     "output_type": "display_data"
    },
    {
     "data": {
      "application/javascript": [
       "$('span:contains(\"# Temp\")').closest('.cell').remove();"
      ],
      "text/plain": [
       "<IPython.core.display.Javascript object>"
      ]
     },
     "metadata": {},
     "output_type": "display_data"
    },
    {
     "data": {
      "application/javascript": [
       "\n",
       "        $('span:contains(\"# Temp\")').closest('.cell').remove();\n",
       "        var code = IPython.notebook.insert_cell_below('code');\n",
       "        code.set_text(decodeURIComponent(window.atob(\"JTIzJTIwVGVtcCUwQWluc2VydCUyOCUyNyUyNyUyNyUwQURCJTI4Q2l0YXRpb24lMjglMEElMjAlMjAlMjAlMjBnYXplbDIwMDlhJTJDJTIwaHVtcGhyZXkxOTk1YSUyQyUyMHJlZiUzRCUyMjEuJTIyJTJDJTBBJTIwJTIwJTIwJTIwY29udGV4dHMlM0QlNUIlMEElMEElMjAlMjAlMjAlMjAlNUQlMkMlMEElMjklMjklMEElMEElMjclMjclMjclMkMlMjBjaXRhdGlvbnMlM0QlMjdnYXplbDIwMDlhJTI3JTI5JTNC\")));\n",
       "    "
      ],
      "text/plain": [
       "<IPython.core.display.Javascript object>"
      ]
     },
     "metadata": {},
     "output_type": "display_data"
    },
    {
     "data": {
      "application/javascript": [
       "$('span:contains(\"# Temp\")').closest('.cell').remove();"
      ],
      "text/plain": [
       "<IPython.core.display.Javascript object>"
      ]
     },
     "metadata": {},
     "output_type": "display_data"
    },
    {
     "data": {
      "application/javascript": [
       "\n",
       "        $('span:contains(\"# Temp\")').closest('.cell').remove();\n",
       "        var code = IPython.notebook.insert_cell_below('code');\n",
       "        code.set_text(decodeURIComponent(window.atob(\"JTIzJTIwVGVtcCUwQWluc2VydCUyOCUyNyUyNyUyNyUwQW9tZzIwMDhhJTIwJTNEJTIwREIlMjhXb3JrVW5yZWxhdGVkJTI4JTBBJTIwJTIwJTIwJTIwMjAwOCUyQyUyMCUyMlNvZnR3YXJlJTIwJTI2JTIwU3lzdGVtcyUyMFByb2Nlc3MlMjBFbmdpbmVlcmluZyUyME1ldGFtb2RlbCUyMFNwZWNpZmljYXRpb24lMjAlMjhTUEVNJTI5JTJDJTIyJTJDJTBBJTIwJTIwJTIwJTIwZGlzcGxheSUzRCUyMm9tZyUyMiUyQyUwQSUyMCUyMCUyMCUyMGF1dGhvcnMlM0QlMjJPTUclMjIlMkMlMEElMjAlMjAlMjAlMjBwbGFjZSUzREZBS0UlMkMlMEElMjAlMjAlMjAlMjBvdGhlcjElM0QlMjJPTUclMjBEb2N1bWVudCUyME51bWJlciUzQSUyMGZvcm1hbC8yMDA4LTA0LTAxJTJDJTIyJTJDJTBBJTIwJTIwJTIwJTIwb3RoZXIyJTNEJTIyT2JqZWN0JTIwTWFuYWdlbWVudCUyMEdyb3VwJTIwJTI4T01HJTI5JTJDJTIyJTJDJTBBJTIwJTIwJTIwJTIwcGxhY2V4JTNEJTIydmVyc2lvbiUyMDIuMCUyQyUyMiUyQyUwQSUyOSUyOSUwQSUwQURCJTI4Q2l0YXRpb24lMjglMEElMjAlMjAlMjAlMjBnYXplbDIwMDlhJTJDJTIwb21nMjAwOGElMkMlMjByZWYlM0QlMjIyLiUyMiUyQyUwQSUyMCUyMCUyMCUyMGNvbnRleHRzJTNEJTVCJTBBJTBBJTIwJTIwJTIwJTIwJTVEJTJDJTBBJTI5JTI5JTBBJTBBJTI3JTI3JTI3JTJDJTIwY2l0YXRpb25zJTNEJTI3Z2F6ZWwyMDA5YSUyNyUyOSUzQg==\")));\n",
       "    "
      ],
      "text/plain": [
       "<IPython.core.display.Javascript object>"
      ]
     },
     "metadata": {},
     "output_type": "display_data"
    },
    {
     "data": {
      "application/javascript": [
       "$('span:contains(\"# Temp\")').closest('.cell').remove();"
      ],
      "text/plain": [
       "<IPython.core.display.Javascript object>"
      ]
     },
     "metadata": {},
     "output_type": "display_data"
    },
    {
     "data": {
      "application/javascript": [
       "\n",
       "        $('span:contains(\"# Temp\")').closest('.cell').remove();\n",
       "        var code = IPython.notebook.insert_cell_below('code');\n",
       "        code.set_text(decodeURIComponent(window.atob(\"JTIzJTIwVGVtcCUwQWluc2VydCUyOCUyNyUyNyUyNyUwQW9tZzIwMDhhJTIwJTNEJTIwREIlMjhXb3JrVW5yZWxhdGVkJTI4JTBBJTIwJTIwJTIwJTIwMjAwOCUyQyUyMCUyMlNvZnR3YXJlJTIwJTI2JTIwU3lzdGVtcyUyMFByb2Nlc3MlMjBFbmdpbmVlcmluZyUyME1ldGFtb2RlbCUyMFNwZWNpZmljYXRpb24lMjAlMjhTUEVNJTI5JTJDJTIyJTJDJTBBJTIwJTIwJTIwJTIwZGlzcGxheSUzRCUyMm9tZyUyMiUyQyUwQSUyMCUyMCUyMCUyMGF1dGhvcnMlM0QlMjJPTUclMjIlMkMlMEElMjAlMjAlMjAlMjBwbGFjZSUzREZBS0UlMkMlMEElMjAlMjAlMjAlMjBvdGhlcjElM0QlMjJPTUclMjBEb2N1bWVudCUyME51bWJlciUzQSUyMGZvcm1hbC8yMDA4LTA0LTAxJTJDJTIyJTJDJTBBJTIwJTIwJTIwJTIwb3RoZXIyJTNEJTIyT2JqZWN0JTIwTWFuYWdlbWVudCUyMEdyb3VwJTIwJTI4T01HJTI5JTJDJTIyJTJDJTBBJTIwJTIwJTIwJTIwcGxhY2V4JTNEJTIydmVyc2lvbiUyMDIuMCUyQyUyMiUyQyUwQSUyOSUyOSUwQSUwQURCJTI4Q2l0YXRpb24lMjglMEElMjAlMjAlMjAlMjBnYXplbDIwMDlhJTJDJTIwb21nMjAwOGElMkMlMjByZWYlM0QlMjIyLiUyMiUyQyUwQSUyMCUyMCUyMCUyMGNvbnRleHRzJTNEJTVCJTBBJTBBJTIwJTIwJTIwJTIwJTVEJTJDJTBBJTI5JTI5JTBBJTBBJTI3JTI3JTI3JTJDJTIwY2l0YXRpb25zJTNEJTI3Z2F6ZWwyMDA5YSUyNyUyOSUzQg==\")));\n",
       "    "
      ],
      "text/plain": [
       "<IPython.core.display.Javascript object>"
      ]
     },
     "metadata": {},
     "output_type": "display_data"
    },
    {
     "data": {
      "application/javascript": [
       "$('span:contains(\"# Temp\")').closest('.cell').remove();"
      ],
      "text/plain": [
       "<IPython.core.display.Javascript object>"
      ]
     },
     "metadata": {},
     "output_type": "display_data"
    },
    {
     "data": {
      "application/javascript": [
       "\n",
       "        $('span:contains(\"# Temp\")').closest('.cell').remove();\n",
       "        var code = IPython.notebook.insert_cell_below('code');\n",
       "        code.set_text(decodeURIComponent(window.atob(\"JTIzJTIwVGVtcCUwQWluc2VydCUyOCUyNyUyNyUyNyUwQWlzbzIwMDhiJTIwJTNEJTIwREIlMjhXb3JrVW5yZWxhdGVkJTI4JTBBJTIwJTIwJTIwJTIwMjAwOCUyQyUyMCUyMklTTy9JRUMlMjAxNTUwNCUzQSUyMiUyQyUwQSUyMCUyMCUyMCUyMGRpc3BsYXklM0QlMjJpc28lMjBiJTIyJTJDJTBBJTIwJTIwJTIwJTIwYXV0aG9ycyUzRCUyMklTTyUyMiUyQyUwQSUyMCUyMCUyMCUyMHBsYWNlJTNERkFLRSUyQyUwQSUyMCUyMCUyMCUyMG90aGVyMSUzRCUyMjIwMDMtMjAwOCUyMiUyQyUwQSUyMCUyMCUyMCUyMHBsYWNleCUzRCUyMkluZm9ybWF0aW9uJTIwVGVjaG5vbG9neSUyMC0tJTIwUHJvY2VzcyUyMEFzc2Vzc21lbnQlMkMlMjIlMkMlMEElMjklMjklMEElMEFEQiUyOENpdGF0aW9uJTI4JTBBJTIwJTIwJTIwJTIwZ2F6ZWwyMDA5YSUyQyUyMGlzbzIwMDhiJTJDJTIwcmVmJTNEJTIyMy4lMjIlMkMlMEElMjAlMjAlMjAlMjBjb250ZXh0cyUzRCU1QiUwQSUwQSUyMCUyMCUyMCUyMCU1RCUyQyUwQSUyOSUyOSUwQSUwQSUyNyUyNyUyNyUyQyUyMGNpdGF0aW9ucyUzRCUyN2dhemVsMjAwOWElMjclMjklM0I=\")));\n",
       "    "
      ],
      "text/plain": [
       "<IPython.core.display.Javascript object>"
      ]
     },
     "metadata": {},
     "output_type": "display_data"
    },
    {
     "data": {
      "application/javascript": [
       "$('span:contains(\"# Temp\")').closest('.cell').remove();"
      ],
      "text/plain": [
       "<IPython.core.display.Javascript object>"
      ]
     },
     "metadata": {},
     "output_type": "display_data"
    },
    {
     "data": {
      "application/javascript": [
       "\n",
       "        $('span:contains(\"# Temp\")').closest('.cell').remove();\n",
       "        var code = IPython.notebook.insert_cell_below('code');\n",
       "        code.set_text(decodeURIComponent(window.atob(\"JTIzJTIwVGVtcCUwQWluc2VydCUyOCUyNyUyNyUyNyUwQWlzbzIwMDhiJTIwJTNEJTIwREIlMjhXb3JrVW5yZWxhdGVkJTI4JTBBJTIwJTIwJTIwJTIwMjAwOCUyQyUyMCUyMklTTy9JRUMlMjAxNTUwNCUzQSUyMiUyQyUwQSUyMCUyMCUyMCUyMGRpc3BsYXklM0QlMjJpc28lMjBiJTIyJTJDJTBBJTIwJTIwJTIwJTIwYXV0aG9ycyUzRCUyMklTTyUyMiUyQyUwQSUyMCUyMCUyMCUyMHBsYWNlJTNERkFLRSUyQyUwQSUyMCUyMCUyMCUyMG90aGVyMSUzRCUyMjIwMDMtMjAwOCUyMiUyQyUwQSUyMCUyMCUyMCUyMHBsYWNleCUzRCUyMkluZm9ybWF0aW9uJTIwVGVjaG5vbG9neSUyMC0tJTIwUHJvY2VzcyUyMEFzc2Vzc21lbnQlMkMlMjIlMkMlMEElMjklMjklMEElMEFEQiUyOENpdGF0aW9uJTI4JTBBJTIwJTIwJTIwJTIwZ2F6ZWwyMDA5YSUyQyUyMGlzbzIwMDhiJTJDJTIwcmVmJTNEJTIyMy4lMjIlMkMlMEElMjAlMjAlMjAlMjBjb250ZXh0cyUzRCU1QiUwQSUwQSUyMCUyMCUyMCUyMCU1RCUyQyUwQSUyOSUyOSUwQSUwQSUyNyUyNyUyNyUyQyUyMGNpdGF0aW9ucyUzRCUyN2dhemVsMjAwOWElMjclMjklM0I=\")));\n",
       "    "
      ],
      "text/plain": [
       "<IPython.core.display.Javascript object>"
      ]
     },
     "metadata": {},
     "output_type": "display_data"
    },
    {
     "data": {
      "application/javascript": [
       "$('span:contains(\"# Temp\")').closest('.cell').remove();"
      ],
      "text/plain": [
       "<IPython.core.display.Javascript object>"
      ]
     },
     "metadata": {},
     "output_type": "display_data"
    },
    {
     "data": {
      "application/javascript": [
       "\n",
       "        $('span:contains(\"# Temp\")').closest('.cell').remove();\n",
       "        var code = IPython.notebook.insert_cell_below('code');\n",
       "        code.set_text(decodeURIComponent(window.atob(\"JTIzJTIwVGVtcCUwQWluc2VydCUyOCUyNyUyNyUyNyUwQXNlaTIwMDZhJTIwJTNEJTIwREIlMjhXb3JrVW5yZWxhdGVkJTI4JTBBJTIwJTIwJTIwJTIwMjAwNiUyQyUyMCUyMkNNTUklMjBQcm9kdWN0JTIwVGVhbSUzQSUyMENNTUklMjBmb3IlMjBEZXZlbG9wbWVudC4lMjIlMkMlMEElMjAlMjAlMjAlMjBkaXNwbGF5JTNEJTIyc2VpJTIyJTJDJTBBJTIwJTIwJTIwJTIwYXV0aG9ycyUzRCUyMkNNVSUyMFNFSSUyMiUyQyUwQSUyMCUyMCUyMCUyMHBsYWNlJTNERkFLRSUyQyUwQSUyMCUyMCUyMCUyMHBsYWNleCUzRCUyMkNNTUktU0UvU1clMjBWMS4yJTJDJTIwQ01VL1NFSS0yMDA2LVRSLTAwOCUyQyUyMiUyQyUwQSUyOSUyOSUwQSUwQURCJTI4Q2l0YXRpb24lMjglMEElMjAlMjAlMjAlMjBnYXplbDIwMDlhJTJDJTIwc2VpMjAwNmElMkMlMjByZWYlM0QlMjI0LiUyMiUyQyUwQSUyMCUyMCUyMCUyMGNvbnRleHRzJTNEJTVCJTBBJTBBJTIwJTIwJTIwJTIwJTVEJTJDJTBBJTI5JTI5JTBBJTBBJTI3JTI3JTI3JTJDJTIwY2l0YXRpb25zJTNEJTI3Z2F6ZWwyMDA5YSUyNyUyOSUzQg==\")));\n",
       "    "
      ],
      "text/plain": [
       "<IPython.core.display.Javascript object>"
      ]
     },
     "metadata": {},
     "output_type": "display_data"
    },
    {
     "data": {
      "application/javascript": [
       "$('span:contains(\"# Temp\")').closest('.cell').remove();"
      ],
      "text/plain": [
       "<IPython.core.display.Javascript object>"
      ]
     },
     "metadata": {},
     "output_type": "display_data"
    },
    {
     "data": {
      "application/javascript": [
       "\n",
       "        $('span:contains(\"# Temp\")').closest('.cell').remove();\n",
       "        var code = IPython.notebook.insert_cell_below('code');\n",
       "        code.set_text(decodeURIComponent(window.atob(\"JTIzJTIwVGVtcCUwQWluc2VydCUyOCUyNyUyNyUyNyUwQXNlaTIwMDZhJTIwJTNEJTIwREIlMjhXb3JrVW5yZWxhdGVkJTI4JTBBJTIwJTIwJTIwJTIwMjAwNiUyQyUyMCUyMkNNTUklMjBQcm9kdWN0JTIwVGVhbSUzQSUyMENNTUklMjBmb3IlMjBEZXZlbG9wbWVudC4lMjIlMkMlMEElMjAlMjAlMjAlMjBkaXNwbGF5JTNEJTIyc2VpJTIyJTJDJTBBJTIwJTIwJTIwJTIwYXV0aG9ycyUzRCUyMkNNVSUyMFNFSSUyMiUyQyUwQSUyMCUyMCUyMCUyMHBsYWNlJTNERkFLRSUyQyUwQSUyMCUyMCUyMCUyMHBsYWNleCUzRCUyMkNNTUktU0UvU1clMjBWMS4yJTJDJTIwQ01VL1NFSS0yMDA2LVRSLTAwOCUyQyUyMiUyQyUwQSUyOSUyOSUwQSUwQURCJTI4Q2l0YXRpb24lMjglMEElMjAlMjAlMjAlMjBnYXplbDIwMDlhJTJDJTIwc2VpMjAwNmElMkMlMjByZWYlM0QlMjI0LiUyMiUyQyUwQSUyMCUyMCUyMCUyMGNvbnRleHRzJTNEJTVCJTBBJTBBJTIwJTIwJTIwJTIwJTVEJTJDJTBBJTI5JTI5JTBBJTBBJTI3JTI3JTI3JTJDJTIwY2l0YXRpb25zJTNEJTI3Z2F6ZWwyMDA5YSUyNyUyOSUzQg==\")));\n",
       "    "
      ],
      "text/plain": [
       "<IPython.core.display.Javascript object>"
      ]
     },
     "metadata": {},
     "output_type": "display_data"
    },
    {
     "data": {
      "application/javascript": [
       "$('span:contains(\"# Temp\")').closest('.cell').remove();"
      ],
      "text/plain": [
       "<IPython.core.display.Javascript object>"
      ]
     },
     "metadata": {},
     "output_type": "display_data"
    },
    {
     "data": {
      "application/javascript": [
       "\n",
       "        $('span:contains(\"# Temp\")').closest('.cell').remove();\n",
       "        var code = IPython.notebook.insert_cell_below('code');\n",
       "        code.set_text(decodeURIComponent(window.atob(\"JTIzJTIwVGVtcCUwQWluc2VydCUyOCUyNyUyNyUyNyUwQXRhZ3VlMjAwNGElMjAlM0QlMjBEQiUyOFdvcmtVbnJlbGF0ZWQlMjglMEElMjAlMjAlMjAlMjAyMDA0JTJDJTIwJTIyTi5SLiUyMFRoZSUyMFF1YWxpdHklMjBUb29sYm94JTJDJTIyJTJDJTBBJTIwJTIwJTIwJTIwZGlzcGxheSUzRCUyMnRhZ3VlJTIyJTJDJTBBJTIwJTIwJTIwJTIwYXV0aG9ycyUzRCUyMlRhZ3VlJTIyJTJDJTBBJTIwJTIwJTIwJTIwcGxhY2UlM0RGQUtFJTJDJTBBJTIwJTIwJTIwJTIwb3RoZXIxJTNEJTIyMjAwNCUyQyUyMHBwLiUyMDM5MC0zOTIlMkMlMjBJU0JOJTIwOTc4LTAtODczODktNjM5LTkuJTIyJTJDJTBBJTIwJTIwJTIwJTIwcGxhY2V4JTNEJTIyMm5kJTIwRWQuJTJDJTIwQVNRJTIwUXVhbGl0eSUyMFByZXNzJTJDJTIyJTJDJTBBJTI5JTI5JTBBJTBBREIlMjhDaXRhdGlvbiUyOCUwQSUyMCUyMCUyMCUyMGdhemVsMjAwOWElMkMlMjB0YWd1ZTIwMDRhJTJDJTIwcmVmJTNEJTIyNS4lMjIlMkMlMEElMjAlMjAlMjAlMjBjb250ZXh0cyUzRCU1QiUwQSUwQSUyMCUyMCUyMCUyMCU1RCUyQyUwQSUyOSUyOSUwQSUwQSUyNyUyNyUyNyUyQyUyMGNpdGF0aW9ucyUzRCUyN2dhemVsMjAwOWElMjclMjklM0I=\")));\n",
       "    "
      ],
      "text/plain": [
       "<IPython.core.display.Javascript object>"
      ]
     },
     "metadata": {},
     "output_type": "display_data"
    },
    {
     "data": {
      "application/javascript": [
       "$('span:contains(\"# Temp\")').closest('.cell').remove();"
      ],
      "text/plain": [
       "<IPython.core.display.Javascript object>"
      ]
     },
     "metadata": {},
     "output_type": "display_data"
    },
    {
     "data": {
      "application/javascript": [
       "\n",
       "        $('span:contains(\"# Temp\")').closest('.cell').remove();\n",
       "        var code = IPython.notebook.insert_cell_below('code');\n",
       "        code.set_text(decodeURIComponent(window.atob(\"JTIzJTIwVGVtcCUwQWluc2VydCUyOCUyNyUyNyUyNyUwQXRhZ3VlMjAwNGElMjAlM0QlMjBEQiUyOFdvcmtVbnJlbGF0ZWQlMjglMEElMjAlMjAlMjAlMjAyMDA0JTJDJTIwJTIyTi5SLiUyMFRoZSUyMFF1YWxpdHklMjBUb29sYm94JTJDJTIyJTJDJTBBJTIwJTIwJTIwJTIwZGlzcGxheSUzRCUyMnRhZ3VlJTIyJTJDJTBBJTIwJTIwJTIwJTIwYXV0aG9ycyUzRCUyMlRhZ3VlJTIyJTJDJTBBJTIwJTIwJTIwJTIwcGxhY2UlM0RGQUtFJTJDJTBBJTIwJTIwJTIwJTIwb3RoZXIxJTNEJTIyMjAwNCUyQyUyMHBwLiUyMDM5MC0zOTIlMkMlMjBJU0JOJTIwOTc4LTAtODczODktNjM5LTkuJTIyJTJDJTBBJTIwJTIwJTIwJTIwcGxhY2V4JTNEJTIyMm5kJTIwRWQuJTJDJTIwQVNRJTIwUXVhbGl0eSUyMFByZXNzJTJDJTIyJTJDJTBBJTI5JTI5JTBBJTBBREIlMjhDaXRhdGlvbiUyOCUwQSUyMCUyMCUyMCUyMGdhemVsMjAwOWElMkMlMjB0YWd1ZTIwMDRhJTJDJTIwcmVmJTNEJTIyNS4lMjIlMkMlMEElMjAlMjAlMjAlMjBjb250ZXh0cyUzRCU1QiUwQSUwQSUyMCUyMCUyMCUyMCU1RCUyQyUwQSUyOSUyOSUwQSUwQSUyNyUyNyUyNyUyQyUyMGNpdGF0aW9ucyUzRCUyN2dhemVsMjAwOWElMjclMjklM0I=\")));\n",
       "    "
      ],
      "text/plain": [
       "<IPython.core.display.Javascript object>"
      ]
     },
     "metadata": {},
     "output_type": "display_data"
    },
    {
     "data": {
      "application/javascript": [
       "$('span:contains(\"# Temp\")').closest('.cell').remove();"
      ],
      "text/plain": [
       "<IPython.core.display.Javascript object>"
      ]
     },
     "metadata": {},
     "output_type": "display_data"
    },
    {
     "data": {
      "application/javascript": [
       "\n",
       "        $('span:contains(\"# Temp\")').closest('.cell').remove();\n",
       "        var code = IPython.notebook.insert_cell_below('code');\n",
       "        code.set_text(decodeURIComponent(window.atob(\"JTIzJTIwVGVtcCUwQWluc2VydCUyOCUyNyUyNyUyNyUwQWlzbzIwMDBhJTIwJTNEJTIwREIlMjhXb3JrVW5yZWxhdGVkJTI4JTBBJTIwJTIwJTIwJTIwMjAwMCUyQyUyMCUyMiVFMiU4MCU5Q0lTTyUyMDkwMDElM0EyMDAwJTIwUXVhbGl0eSUyME1hbmFnZW1lbnQlMjBTeXN0ZW1zJTIwLS0lMjBSZXF1aXJlbWVudCVFMiU4MCU5RCUyQyUyMiUyQyUwQSUyMCUyMCUyMCUyMGRpc3BsYXklM0QlMjJpc28lMjIlMkMlMEElMjAlMjAlMjAlMjBhdXRob3JzJTNEJTIySVNPJTIyJTJDJTBBJTIwJTIwJTIwJTIwcGxhY2UlM0RGQUtFJTJDJTBBJTIwJTIwJTIwJTIwcGxhY2V4JTNEJTIyYWNjZXNzZWQlMjBzaXRlJTIyJTJDJTBBJTI5JTI5JTBBJTBBREIlMjhDaXRhdGlvbiUyOCUwQSUyMCUyMCUyMCUyMGdhemVsMjAwOWElMkMlMjBpc28yMDAwYSUyQyUyMHJlZiUzRCUyMjYuJTIyJTJDJTBBJTIwJTIwJTIwJTIwY29udGV4dHMlM0QlNUIlMEElMEElMjAlMjAlMjAlMjAlNUQlMkMlMEElMjklMjklMEElMEElMjclMjclMjclMkMlMjBjaXRhdGlvbnMlM0QlMjdnYXplbDIwMDlhJTI3JTI5JTNC\")));\n",
       "    "
      ],
      "text/plain": [
       "<IPython.core.display.Javascript object>"
      ]
     },
     "metadata": {},
     "output_type": "display_data"
    },
    {
     "data": {
      "application/javascript": [
       "$('span:contains(\"# Temp\")').closest('.cell').remove();"
      ],
      "text/plain": [
       "<IPython.core.display.Javascript object>"
      ]
     },
     "metadata": {},
     "output_type": "display_data"
    },
    {
     "data": {
      "application/javascript": [
       "\n",
       "        $('span:contains(\"# Temp\")').closest('.cell').remove();\n",
       "        var code = IPython.notebook.insert_cell_below('code');\n",
       "        code.set_text(decodeURIComponent(window.atob(\"JTIzJTIwVGVtcCUwQWluc2VydCUyOCUyNyUyNyUyNyUwQWlzbzIwMDBhJTIwJTNEJTIwREIlMjhXb3JrVW5yZWxhdGVkJTI4JTBBJTIwJTIwJTIwJTIwMjAwMCUyQyUyMCUyMiVFMiU4MCU5Q0lTTyUyMDkwMDElM0EyMDAwJTIwUXVhbGl0eSUyME1hbmFnZW1lbnQlMjBTeXN0ZW1zJTIwLS0lMjBSZXF1aXJlbWVudCVFMiU4MCU5RCUyQyUyMiUyQyUwQSUyMCUyMCUyMCUyMGRpc3BsYXklM0QlMjJpc28lMjIlMkMlMEElMjAlMjAlMjAlMjBhdXRob3JzJTNEJTIySVNPJTIyJTJDJTBBJTIwJTIwJTIwJTIwcGxhY2UlM0RGQUtFJTJDJTBBJTIwJTIwJTIwJTIwcGxhY2V4JTNEJTIyYWNjZXNzZWQlMjBzaXRlJTIyJTJDJTBBJTI5JTI5JTBBJTBBREIlMjhDaXRhdGlvbiUyOCUwQSUyMCUyMCUyMCUyMGdhemVsMjAwOWElMkMlMjBpc28yMDAwYSUyQyUyMHJlZiUzRCUyMjYuJTIyJTJDJTBBJTIwJTIwJTIwJTIwY29udGV4dHMlM0QlNUIlMEElMEElMjAlMjAlMjAlMjAlNUQlMkMlMEElMjklMjklMEElMEElMjclMjclMjclMkMlMjBjaXRhdGlvbnMlM0QlMjdnYXplbDIwMDlhJTI3JTI5JTNC\")));\n",
       "    "
      ],
      "text/plain": [
       "<IPython.core.display.Javascript object>"
      ]
     },
     "metadata": {},
     "output_type": "display_data"
    },
    {
     "data": {
      "application/javascript": [
       "$('span:contains(\"# Temp\")').closest('.cell').remove();"
      ],
      "text/plain": [
       "<IPython.core.display.Javascript object>"
      ]
     },
     "metadata": {},
     "output_type": "display_data"
    },
    {
     "data": {
      "application/javascript": [
       "\n",
       "        $('span:contains(\"# Temp\")').closest('.cell').remove();\n",
       "        var code = IPython.notebook.insert_cell_below('code');\n",
       "        code.set_text(decodeURIComponent(window.atob(\"JTIzJTIwVGVtcCUwQWluc2VydCUyOCUyNyUyNyUyNyUwQURCJTI4Q2l0YXRpb24lMjglMEElMjAlMjAlMjAlMjBnYXplbDIwMDlhJTJDJTIwdzNjMjAwNGMlMkMlMjByZWYlM0QlMjI3LiUyMiUyQyUwQSUyMCUyMCUyMCUyMGNvbnRleHRzJTNEJTVCJTBBJTBBJTIwJTIwJTIwJTIwJTVEJTJDJTBBJTI5JTI5JTBBJTBBJTI3JTI3JTI3JTJDJTIwY2l0YXRpb25zJTNEJTI3Z2F6ZWwyMDA5YSUyNyUyOSUzQg==\")));\n",
       "    "
      ],
      "text/plain": [
       "<IPython.core.display.Javascript object>"
      ]
     },
     "metadata": {},
     "output_type": "display_data"
    },
    {
     "data": {
      "application/javascript": [
       "$('span:contains(\"# Temp\")').closest('.cell').remove();"
      ],
      "text/plain": [
       "<IPython.core.display.Javascript object>"
      ]
     },
     "metadata": {},
     "output_type": "display_data"
    },
    {
     "data": {
      "application/javascript": [
       "\n",
       "        $('span:contains(\"# Temp\")').closest('.cell').remove();\n",
       "        var code = IPython.notebook.insert_cell_below('code');\n",
       "        code.set_text(decodeURIComponent(window.atob(\"JTIzJTIwVGVtcCUwQWluc2VydCUyOCUyNyUyNyUyNyUwQURCJTI4Q2l0YXRpb24lMjglMEElMjAlMjAlMjAlMjBnYXplbDIwMDlhJTJDJTIwdzNjMjAwNGMlMkMlMjByZWYlM0QlMjI3LiUyMiUyQyUwQSUyMCUyMCUyMCUyMGNvbnRleHRzJTNEJTVCJTBBJTBBJTIwJTIwJTIwJTIwJTVEJTJDJTBBJTI5JTI5JTBBJTBBJTI3JTI3JTI3JTJDJTIwY2l0YXRpb25zJTNEJTI3Z2F6ZWwyMDA5YSUyNyUyOSUzQg==\")));\n",
       "    "
      ],
      "text/plain": [
       "<IPython.core.display.Javascript object>"
      ]
     },
     "metadata": {},
     "output_type": "display_data"
    },
    {
     "data": {
      "application/javascript": [
       "$('span:contains(\"# Temp\")').closest('.cell').remove();"
      ],
      "text/plain": [
       "<IPython.core.display.Javascript object>"
      ]
     },
     "metadata": {},
     "output_type": "display_data"
    },
    {
     "data": {
      "application/javascript": [
       "\n",
       "        $('span:contains(\"# Temp\")').closest('.cell').remove();\n",
       "        var code = IPython.notebook.insert_cell_below('code');\n",
       "        code.set_text(decodeURIComponent(window.atob(\"JTIzJTIwVGVtcCUwQWluc2VydCUyOCUyNyUyNyUyNyUwQXByb3QlQzMlQTlnJUMzJUE5MjAwOWElMjAlM0QlMjBEQiUyOFdvcmtVbnJlbGF0ZWQlMjglMEElMjAlMjAlMjAlMjAyMDA5JTJDJTIwJTIyUHJvdCVDMyVBOWclQzMlQTktT1dMJTIwT250b2xvZ3klMjBFZGl0b3IlMjAlMjhWZXJzaW9uJTIwJTNBJTIwMy4zLjElMjklMjIlMkMlMEElMjAlMjAlMjAlMjBkaXNwbGF5JTNEJTIycHJvdCVDMyVBOWclQzMlQTklMjIlMkMlMEElMjAlMjAlMjAlMjBhdXRob3JzJTNEJTIyUHJvdCVDMyVBOWclQzMlQTklMjIlMkMlMEElMjAlMjAlMjAlMjBwbGFjZSUzREZBS0UlMkMlMEElMjAlMjAlMjAlMjBwbGFjZXglM0QlMjJodHRwJTNBLy9wcm90ZWdlLnN0YW5mb3JkLmVkdS9vdmVydmlldy9wcm90ZWdlLW93bC5odG1sJTIyJTJDJTBBJTI5JTI5JTBBJTBBREIlMjhDaXRhdGlvbiUyOCUwQSUyMCUyMCUyMCUyMGdhemVsMjAwOWElMkMlMjBwcm90JUMzJUE5ZyVDMyVBOTIwMDlhJTJDJTIwcmVmJTNEJTIyOC4lMjIlMkMlMEElMjAlMjAlMjAlMjBjb250ZXh0cyUzRCU1QiUwQSUwQSUyMCUyMCUyMCUyMCU1RCUyQyUwQSUyOSUyOSUwQSUwQSUyNyUyNyUyNyUyQyUyMGNpdGF0aW9ucyUzRCUyN2dhemVsMjAwOWElMjclMjklM0I=\")));\n",
       "    "
      ],
      "text/plain": [
       "<IPython.core.display.Javascript object>"
      ]
     },
     "metadata": {},
     "output_type": "display_data"
    },
    {
     "data": {
      "application/javascript": [
       "$('span:contains(\"# Temp\")').closest('.cell').remove();"
      ],
      "text/plain": [
       "<IPython.core.display.Javascript object>"
      ]
     },
     "metadata": {},
     "output_type": "display_data"
    },
    {
     "data": {
      "application/javascript": [
       "\n",
       "        $('span:contains(\"# Temp\")').closest('.cell').remove();\n",
       "        var code = IPython.notebook.insert_cell_below('code');\n",
       "        code.set_text(decodeURIComponent(window.atob(\"JTIzJTIwVGVtcCUwQWluc2VydCUyOCUyNyUyNyUyNyUwQXByb3QlQzMlQTlnJUMzJUE5MjAwOWElMjAlM0QlMjBEQiUyOFdvcmtVbnJlbGF0ZWQlMjglMEElMjAlMjAlMjAlMjAyMDA5JTJDJTIwJTIyUHJvdCVDMyVBOWclQzMlQTktT1dMJTIwT250b2xvZ3klMjBFZGl0b3IlMjAlMjhWZXJzaW9uJTIwJTNBJTIwMy4zLjElMjklMjIlMkMlMEElMjAlMjAlMjAlMjBkaXNwbGF5JTNEJTIycHJvdCVDMyVBOWclQzMlQTklMjIlMkMlMEElMjAlMjAlMjAlMjBhdXRob3JzJTNEJTIyUHJvdCVDMyVBOWclQzMlQTklMjIlMkMlMEElMjAlMjAlMjAlMjBwbGFjZSUzREZBS0UlMkMlMEElMjAlMjAlMjAlMjBwbGFjZXglM0QlMjJodHRwJTNBLy9wcm90ZWdlLnN0YW5mb3JkLmVkdS9vdmVydmlldy9wcm90ZWdlLW93bC5odG1sJTIyJTJDJTBBJTI5JTI5JTBBJTBBREIlMjhDaXRhdGlvbiUyOCUwQSUyMCUyMCUyMCUyMGdhemVsMjAwOWElMkMlMjBwcm90JUMzJUE5ZyVDMyVBOTIwMDlhJTJDJTIwcmVmJTNEJTIyOC4lMjIlMkMlMEElMjAlMjAlMjAlMjBjb250ZXh0cyUzRCU1QiUwQSUwQSUyMCUyMCUyMCUyMCU1RCUyQyUwQSUyOSUyOSUwQSUwQSUyNyUyNyUyNyUyQyUyMGNpdGF0aW9ucyUzRCUyN2dhemVsMjAwOWElMjclMjklM0I=\")));\n",
       "    "
      ],
      "text/plain": [
       "<IPython.core.display.Javascript object>"
      ]
     },
     "metadata": {},
     "output_type": "display_data"
    },
    {
     "data": {
      "application/javascript": [
       "$('span:contains(\"# Temp\")').closest('.cell').remove();"
      ],
      "text/plain": [
       "<IPython.core.display.Javascript object>"
      ]
     },
     "metadata": {},
     "output_type": "display_data"
    },
    {
     "data": {
      "application/javascript": [
       "\n",
       "        $('span:contains(\"# Temp\")').closest('.cell').remove();\n",
       "        var code = IPython.notebook.insert_cell_below('code');\n",
       "        code.set_text(decodeURIComponent(window.atob(\"JTIzJTIwVGVtcCUwQWluc2VydCUyOCUyNyUyNyUyNyUwQWVjbGlwc2UyMDA5YSUyMCUzRCUyMERCJTI4V29ya1VucmVsYXRlZCUyOCUwQSUyMCUyMCUyMCUyMDIwMDklMkMlMjAlMjJodHRwJTNBLy93d3cuZWNsaXBzZS5vcmcvJTIyJTJDJTBBJTIwJTIwJTIwJTIwZGlzcGxheSUzRCUyMmVjbGlwc2UlMjIlMkMlMEElMjAlMjAlMjAlMjBhdXRob3JzJTNEJTIyRWNsaXBzZSUyMiUyQyUwQSUyMCUyMCUyMCUyMHBsYWNlJTNERkFLRSUyQyUwQSUyMCUyMCUyMCUyMHBsYWNleCUzRCUyMmFjY2Vzc2VkJTIwc2l0ZSUyMiUyQyUwQSUyOSUyOSUwQSUwQURCJTI4Q2l0YXRpb24lMjglMEElMjAlMjAlMjAlMjBnYXplbDIwMDlhJTJDJTIwZWNsaXBzZTIwMDlhJTJDJTIwcmVmJTNEJTIyOS4lMjIlMkMlMEElMjAlMjAlMjAlMjBjb250ZXh0cyUzRCU1QiUwQSUwQSUyMCUyMCUyMCUyMCU1RCUyQyUwQSUyOSUyOSUwQSUwQSUyNyUyNyUyNyUyQyUyMGNpdGF0aW9ucyUzRCUyN2dhemVsMjAwOWElMjclMjklM0I=\")));\n",
       "    "
      ],
      "text/plain": [
       "<IPython.core.display.Javascript object>"
      ]
     },
     "metadata": {},
     "output_type": "display_data"
    },
    {
     "data": {
      "application/javascript": [
       "$('span:contains(\"# Temp\")').closest('.cell').remove();"
      ],
      "text/plain": [
       "<IPython.core.display.Javascript object>"
      ]
     },
     "metadata": {},
     "output_type": "display_data"
    },
    {
     "data": {
      "application/javascript": [
       "\n",
       "        $('span:contains(\"# Temp\")').closest('.cell').remove();\n",
       "        var code = IPython.notebook.insert_cell_below('code');\n",
       "        code.set_text(decodeURIComponent(window.atob(\"JTIzJTIwVGVtcCUwQWluc2VydCUyOCUyNyUyNyUyNyUwQWVjbGlwc2UyMDA5YSUyMCUzRCUyMERCJTI4V29ya1VucmVsYXRlZCUyOCUwQSUyMCUyMCUyMCUyMDIwMDklMkMlMjAlMjJodHRwJTNBLy93d3cuZWNsaXBzZS5vcmcvJTIyJTJDJTBBJTIwJTIwJTIwJTIwZGlzcGxheSUzRCUyMmVjbGlwc2UlMjIlMkMlMEElMjAlMjAlMjAlMjBhdXRob3JzJTNEJTIyRWNsaXBzZSUyMiUyQyUwQSUyMCUyMCUyMCUyMHBsYWNlJTNERkFLRSUyQyUwQSUyMCUyMCUyMCUyMHBsYWNleCUzRCUyMmFjY2Vzc2VkJTIwc2l0ZSUyMiUyQyUwQSUyOSUyOSUwQSUwQURCJTI4Q2l0YXRpb24lMjglMEElMjAlMjAlMjAlMjBnYXplbDIwMDlhJTJDJTIwZWNsaXBzZTIwMDlhJTJDJTIwcmVmJTNEJTIyOS4lMjIlMkMlMEElMjAlMjAlMjAlMjBjb250ZXh0cyUzRCU1QiUwQSUwQSUyMCUyMCUyMCUyMCU1RCUyQyUwQSUyOSUyOSUwQSUwQSUyNyUyNyUyNyUyQyUyMGNpdGF0aW9ucyUzRCUyN2dhemVsMjAwOWElMjclMjklM0I=\")));\n",
       "    "
      ],
      "text/plain": [
       "<IPython.core.display.Javascript object>"
      ]
     },
     "metadata": {},
     "output_type": "display_data"
    },
    {
     "data": {
      "application/javascript": [
       "$('span:contains(\"# Temp\")').closest('.cell').remove();"
      ],
      "text/plain": [
       "<IPython.core.display.Javascript object>"
      ]
     },
     "metadata": {},
     "output_type": "display_data"
    },
    {
     "data": {
      "application/javascript": [
       "\n",
       "        $('span:contains(\"# Temp\")').closest('.cell').remove();\n",
       "        var code = IPython.notebook.insert_cell_below('code');\n",
       "        code.set_text(decodeURIComponent(window.atob(\"JTIzJTIwVGVtcCUwQWluc2VydCUyOCUyNyUyNyUyNyUwQWVwZjIwMDlhJTIwJTNEJTIwREIlMjhXb3JrVW5yZWxhdGVkJTI4JTBBJTIwJTIwJTIwJTIwMjAwOSUyQyUyMCUyMkVjbGlwc2UlMjBQcm9jZXNzJTIwRnJhbWV3b3JrJTIwUHJvamVjdCUyMCUyOEVQRiUyOS4lMjIlMkMlMEElMjAlMjAlMjAlMjBkaXNwbGF5JTNEJTIyZXBmJTIyJTJDJTBBJTIwJTIwJTIwJTIwYXV0aG9ycyUzRCUyMkVQRiUyMiUyQyUwQSUyMCUyMCUyMCUyMHBsYWNlJTNERkFLRSUyQyUwQSUyMCUyMCUyMCUyMHBsYWNleCUzRCUyMmh0dHAlM0EvL3d3dy5lY2xpcHNlLm9yZy9lcGYvJTIyJTJDJTBBJTI5JTI5JTBBJTBBREIlMjhDaXRhdGlvbiUyOCUwQSUyMCUyMCUyMCUyMGdhemVsMjAwOWElMkMlMjBlcGYyMDA5YSUyQyUyMHJlZiUzRCUyMjEwLiUyMiUyQyUwQSUyMCUyMCUyMCUyMGNvbnRleHRzJTNEJTVCJTBBJTBBJTIwJTIwJTIwJTIwJTVEJTJDJTBBJTI5JTI5JTBBJTBBJTI3JTI3JTI3JTJDJTIwY2l0YXRpb25zJTNEJTI3Z2F6ZWwyMDA5YSUyNyUyOSUzQg==\")));\n",
       "    "
      ],
      "text/plain": [
       "<IPython.core.display.Javascript object>"
      ]
     },
     "metadata": {},
     "output_type": "display_data"
    },
    {
     "data": {
      "application/javascript": [
       "$('span:contains(\"# Temp\")').closest('.cell').remove();"
      ],
      "text/plain": [
       "<IPython.core.display.Javascript object>"
      ]
     },
     "metadata": {},
     "output_type": "display_data"
    },
    {
     "data": {
      "application/javascript": [
       "\n",
       "        $('span:contains(\"# Temp\")').closest('.cell').remove();\n",
       "        var code = IPython.notebook.insert_cell_below('code');\n",
       "        code.set_text(decodeURIComponent(window.atob(\"JTIzJTIwVGVtcCUwQWluc2VydCUyOCUyNyUyNyUyNyUwQWVwZjIwMDlhJTIwJTNEJTIwREIlMjhXb3JrVW5yZWxhdGVkJTI4JTBBJTIwJTIwJTIwJTIwMjAwOSUyQyUyMCUyMkVjbGlwc2UlMjBQcm9jZXNzJTIwRnJhbWV3b3JrJTIwUHJvamVjdCUyMCUyOEVQRiUyOS4lMjIlMkMlMEElMjAlMjAlMjAlMjBkaXNwbGF5JTNEJTIyZXBmJTIyJTJDJTBBJTIwJTIwJTIwJTIwYXV0aG9ycyUzRCUyMkVQRiUyMiUyQyUwQSUyMCUyMCUyMCUyMHBsYWNlJTNERkFLRSUyQyUwQSUyMCUyMCUyMCUyMHBsYWNleCUzRCUyMmh0dHAlM0EvL3d3dy5lY2xpcHNlLm9yZy9lcGYvJTIyJTJDJTBBJTI5JTI5JTBBJTBBREIlMjhDaXRhdGlvbiUyOCUwQSUyMCUyMCUyMCUyMGdhemVsMjAwOWElMkMlMjBlcGYyMDA5YSUyQyUyMHJlZiUzRCUyMjEwLiUyMiUyQyUwQSUyMCUyMCUyMCUyMGNvbnRleHRzJTNEJTVCJTBBJTBBJTIwJTIwJTIwJTIwJTVEJTJDJTBBJTI5JTI5JTBBJTBBJTI3JTI3JTI3JTJDJTIwY2l0YXRpb25zJTNEJTI3Z2F6ZWwyMDA5YSUyNyUyOSUzQg==\")));\n",
       "    "
      ],
      "text/plain": [
       "<IPython.core.display.Javascript object>"
      ]
     },
     "metadata": {},
     "output_type": "display_data"
    },
    {
     "data": {
      "application/javascript": [
       "$('span:contains(\"# Temp\")').closest('.cell').remove();"
      ],
      "text/plain": [
       "<IPython.core.display.Javascript object>"
      ]
     },
     "metadata": {},
     "output_type": "display_data"
    },
    {
     "data": {
      "application/javascript": [
       "\n",
       "        $('span:contains(\"# Temp\")').closest('.cell').remove();\n",
       "        var code = IPython.notebook.insert_cell_below('code');\n",
       "        code.set_text(decodeURIComponent(window.atob(\"JTIzJTIwVGVtcCUwQWluc2VydCUyOCUyNyUyNyUyNyUwQWNtdXNlaTIwMDlhJTIwJTNEJTIwREIlMjhXb3JrVW5yZWxhdGVkJTI4JTBBJTIwJTIwJTIwJTIwMjAwOSUyQyUyMCUyMkNNTUklMjBQcm9kdWN0JTIwVGVhbSUzQSUyMENNTUklMjBmb3IlMjBTZXJ2aWNlcy4lMjIlMkMlMEElMjAlMjAlMjAlMjBkaXNwbGF5JTNEJTIyY211c2VpJTIyJTJDJTBBJTIwJTIwJTIwJTIwYXV0aG9ycyUzRCUyMkNNVVNFSSUyMiUyQyUwQSUyMCUyMCUyMCUyMHBsYWNlJTNERkFLRSUyQyUwQSUyMCUyMCUyMCUyMHBsYWNleCUzRCUyMkNNTUktU1ZDJTIwVjEuMiUyQyUyMENNVS9TRUktMjAwOS1UUi0wMDElMkMlMjBGZWJydWFyeSUyMiUyQyUwQSUyOSUyOSUwQSUwQURCJTI4Q2l0YXRpb24lMjglMEElMjAlMjAlMjAlMjBnYXplbDIwMDlhJTJDJTIwY211c2VpMjAwOWElMkMlMjByZWYlM0QlMjIxMS4lMjIlMkMlMEElMjAlMjAlMjAlMjBjb250ZXh0cyUzRCU1QiUwQSUwQSUyMCUyMCUyMCUyMCU1RCUyQyUwQSUyOSUyOSUwQSUwQSUyNyUyNyUyNyUyQyUyMGNpdGF0aW9ucyUzRCUyN2dhemVsMjAwOWElMjclMjklM0I=\")));\n",
       "    "
      ],
      "text/plain": [
       "<IPython.core.display.Javascript object>"
      ]
     },
     "metadata": {},
     "output_type": "display_data"
    },
    {
     "data": {
      "application/javascript": [
       "$('span:contains(\"# Temp\")').closest('.cell').remove();"
      ],
      "text/plain": [
       "<IPython.core.display.Javascript object>"
      ]
     },
     "metadata": {},
     "output_type": "display_data"
    },
    {
     "data": {
      "application/javascript": [
       "\n",
       "        $('span:contains(\"# Temp\")').closest('.cell').remove();\n",
       "        var code = IPython.notebook.insert_cell_below('code');\n",
       "        code.set_text(decodeURIComponent(window.atob(\"JTIzJTIwVGVtcCUwQWluc2VydCUyOCUyNyUyNyUyNyUwQWNtdXNlaTIwMDlhJTIwJTNEJTIwREIlMjhXb3JrVW5yZWxhdGVkJTI4JTBBJTIwJTIwJTIwJTIwMjAwOSUyQyUyMCUyMkNNTUklMjBQcm9kdWN0JTIwVGVhbSUzQSUyMENNTUklMjBmb3IlMjBTZXJ2aWNlcy4lMjIlMkMlMEElMjAlMjAlMjAlMjBkaXNwbGF5JTNEJTIyY211c2VpJTIyJTJDJTBBJTIwJTIwJTIwJTIwYXV0aG9ycyUzRCUyMkNNVVNFSSUyMiUyQyUwQSUyMCUyMCUyMCUyMHBsYWNlJTNERkFLRSUyQyUwQSUyMCUyMCUyMCUyMHBsYWNleCUzRCUyMkNNTUktU1ZDJTIwVjEuMiUyQyUyMENNVS9TRUktMjAwOS1UUi0wMDElMkMlMjBGZWJydWFyeSUyMiUyQyUwQSUyOSUyOSUwQSUwQURCJTI4Q2l0YXRpb24lMjglMEElMjAlMjAlMjAlMjBnYXplbDIwMDlhJTJDJTIwY211c2VpMjAwOWElMkMlMjByZWYlM0QlMjIxMS4lMjIlMkMlMEElMjAlMjAlMjAlMjBjb250ZXh0cyUzRCU1QiUwQSUwQSUyMCUyMCUyMCUyMCU1RCUyQyUwQSUyOSUyOSUwQSUwQSUyNyUyNyUyNyUyQyUyMGNpdGF0aW9ucyUzRCUyN2dhemVsMjAwOWElMjclMjklM0I=\")));\n",
       "    "
      ],
      "text/plain": [
       "<IPython.core.display.Javascript object>"
      ]
     },
     "metadata": {},
     "output_type": "display_data"
    },
    {
     "data": {
      "application/javascript": [
       "$('span:contains(\"# Temp\")').closest('.cell').remove();"
      ],
      "text/plain": [
       "<IPython.core.display.Javascript object>"
      ]
     },
     "metadata": {},
     "output_type": "display_data"
    },
    {
     "data": {
      "application/javascript": [
       "\n",
       "        $('span:contains(\"# Temp\")').closest('.cell').remove();\n",
       "        var code = IPython.notebook.insert_cell_below('code');\n",
       "        code.set_text(decodeURIComponent(window.atob(\"JTIzJTIwVGVtcCUwQWluc2VydCUyOCUyNyUyNyUyNyUwQWNtdXNlaTIwMDdhJTIwJTNEJTIwREIlMjhXb3JrVW5yZWxhdGVkJTI4JTBBJTIwJTIwJTIwJTIwMjAwNyUyQyUyMCUyMkNNTUklMjBQcm9kdWN0JTIwVGVhbSUzQSUyMENNTUklMjBmb3IlMjBBY3F1aXNpdGlvbi4lMjIlMkMlMEElMjAlMjAlMjAlMjBkaXNwbGF5JTNEJTIyY211c2VpJTIyJTJDJTBBJTIwJTIwJTIwJTIwYXV0aG9ycyUzRCUyMkNNVVNFSSUyMiUyQyUwQSUyMCUyMCUyMCUyMHBsYWNlJTNERkFLRSUyQyUwQSUyMCUyMCUyMCUyMHBsYWNleCUzRCUyMkNNTUktQUNRJTIwVjEuMiUyQyUyMENNVS9TRUktMjAwNy1UUi0wMTclMkMlMjBOb3ZlbWJlciUyMiUyQyUwQSUyOSUyOSUwQSUwQURCJTI4Q2l0YXRpb24lMjglMEElMjAlMjAlMjAlMjBnYXplbDIwMDlhJTJDJTIwY211c2VpMjAwN2ElMkMlMjByZWYlM0QlMjIxMi4lMjIlMkMlMEElMjAlMjAlMjAlMjBjb250ZXh0cyUzRCU1QiUwQSUwQSUyMCUyMCUyMCUyMCU1RCUyQyUwQSUyOSUyOSUwQSUwQSUyNyUyNyUyNyUyQyUyMGNpdGF0aW9ucyUzRCUyN2dhemVsMjAwOWElMjclMjklM0I=\")));\n",
       "    "
      ],
      "text/plain": [
       "<IPython.core.display.Javascript object>"
      ]
     },
     "metadata": {},
     "output_type": "display_data"
    },
    {
     "data": {
      "application/javascript": [
       "$('span:contains(\"# Temp\")').closest('.cell').remove();"
      ],
      "text/plain": [
       "<IPython.core.display.Javascript object>"
      ]
     },
     "metadata": {},
     "output_type": "display_data"
    },
    {
     "data": {
      "application/javascript": [
       "\n",
       "        $('span:contains(\"# Temp\")').closest('.cell').remove();\n",
       "        var code = IPython.notebook.insert_cell_below('code');\n",
       "        code.set_text(decodeURIComponent(window.atob(\"JTIzJTIwVGVtcCUwQWluc2VydCUyOCUyNyUyNyUyNyUwQWNtdXNlaTIwMDdhJTIwJTNEJTIwREIlMjhXb3JrVW5yZWxhdGVkJTI4JTBBJTIwJTIwJTIwJTIwMjAwNyUyQyUyMCUyMkNNTUklMjBQcm9kdWN0JTIwVGVhbSUzQSUyMENNTUklMjBmb3IlMjBBY3F1aXNpdGlvbi4lMjIlMkMlMEElMjAlMjAlMjAlMjBkaXNwbGF5JTNEJTIyY211c2VpJTIyJTJDJTBBJTIwJTIwJTIwJTIwYXV0aG9ycyUzRCUyMkNNVVNFSSUyMiUyQyUwQSUyMCUyMCUyMCUyMHBsYWNlJTNERkFLRSUyQyUwQSUyMCUyMCUyMCUyMHBsYWNleCUzRCUyMkNNTUktQUNRJTIwVjEuMiUyQyUyMENNVS9TRUktMjAwNy1UUi0wMTclMkMlMjBOb3ZlbWJlciUyMiUyQyUwQSUyOSUyOSUwQSUwQURCJTI4Q2l0YXRpb24lMjglMEElMjAlMjAlMjAlMjBnYXplbDIwMDlhJTJDJTIwY211c2VpMjAwN2ElMkMlMjByZWYlM0QlMjIxMi4lMjIlMkMlMEElMjAlMjAlMjAlMjBjb250ZXh0cyUzRCU1QiUwQSUwQSUyMCUyMCUyMCUyMCU1RCUyQyUwQSUyOSUyOSUwQSUwQSUyNyUyNyUyNyUyQyUyMGNpdGF0aW9ucyUzRCUyN2dhemVsMjAwOWElMjclMjklM0I=\")));\n",
       "    "
      ],
      "text/plain": [
       "<IPython.core.display.Javascript object>"
      ]
     },
     "metadata": {},
     "output_type": "display_data"
    },
    {
     "data": {
      "application/javascript": [
       "$('span:contains(\"# Temp\")').closest('.cell').remove();"
      ],
      "text/plain": [
       "<IPython.core.display.Javascript object>"
      ]
     },
     "metadata": {},
     "output_type": "display_data"
    },
    {
     "data": {
      "application/javascript": [
       "\n",
       "        $('span:contains(\"# Temp\")').closest('.cell').remove();\n",
       "        var code = IPython.notebook.insert_cell_below('code');\n",
       "        code.set_text(decodeURIComponent(window.atob(\"JTIzJTIwVGVtcCUwQWluc2VydCUyOCUyNyUyNyUyNyUwQURCJTI4Q2l0YXRpb24lMjglMEElMjAlMjAlMjAlMjBnYXplbDIwMDlhJTJDJTIwY2hhbmRyYXNla2FyYW4xOTk5YSUyQyUyMHJlZiUzRCUyMjEzLiUyMiUyQyUwQSUyMCUyMCUyMCUyMGNvbnRleHRzJTNEJTVCJTBBJTBBJTIwJTIwJTIwJTIwJTVEJTJDJTBBJTI5JTI5JTBBJTBBJTI3JTI3JTI3JTJDJTIwY2l0YXRpb25zJTNEJTI3Z2F6ZWwyMDA5YSUyNyUyOSUzQg==\")));\n",
       "    "
      ],
      "text/plain": [
       "<IPython.core.display.Javascript object>"
      ]
     },
     "metadata": {},
     "output_type": "display_data"
    },
    {
     "data": {
      "application/javascript": [
       "$('span:contains(\"# Temp\")').closest('.cell').remove();"
      ],
      "text/plain": [
       "<IPython.core.display.Javascript object>"
      ]
     },
     "metadata": {},
     "output_type": "display_data"
    },
    {
     "data": {
      "application/javascript": [
       "\n",
       "        $('span:contains(\"# Temp\")').closest('.cell').remove();\n",
       "        var code = IPython.notebook.insert_cell_below('code');\n",
       "        code.set_text(decodeURIComponent(window.atob(\"JTIzJTIwVGVtcCUwQWluc2VydCUyOCUyNyUyNyUyNyUwQURCJTI4Q2l0YXRpb24lMjglMEElMjAlMjAlMjAlMjBnYXplbDIwMDlhJTJDJTIwY2hhbmRyYXNla2FyYW4xOTk5YSUyQyUyMHJlZiUzRCUyMjEzLiUyMiUyQyUwQSUyMCUyMCUyMCUyMGNvbnRleHRzJTNEJTVCJTBBJTBBJTIwJTIwJTIwJTIwJTVEJTJDJTBBJTI5JTI5JTBBJTBBJTI3JTI3JTI3JTJDJTIwY2l0YXRpb25zJTNEJTI3Z2F6ZWwyMDA5YSUyNyUyOSUzQg==\")));\n",
       "    "
      ],
      "text/plain": [
       "<IPython.core.display.Javascript object>"
      ]
     },
     "metadata": {},
     "output_type": "display_data"
    },
    {
     "data": {
      "application/javascript": [
       "$('span:contains(\"# Temp\")').closest('.cell').remove();"
      ],
      "text/plain": [
       "<IPython.core.display.Javascript object>"
      ]
     },
     "metadata": {},
     "output_type": "display_data"
    },
    {
     "data": {
      "application/javascript": [
       "\n",
       "        $('span:contains(\"# Temp\")').closest('.cell').remove();\n",
       "        var code = IPython.notebook.insert_cell_below('code');\n",
       "        code.set_text(decodeURIComponent(window.atob(\"JTIzJTIwVGVtcCUwQWluc2VydCUyOCUyNyUyNyUyNyUwQWZlaWxlcjE5OTNhJTIwJTNEJTIwREIlMjhXb3JrVW5yZWxhdGVkJTI4JTBBJTIwJTIwJTIwJTIwMTk5MyUyQyUyMCUyMlNvZnR3YXJlJTIwcHJvY2VzcyUyMGRldmVsb3BtZW50JTIwYW5kJTIwZW5hY3RtZW50JTNBJTIwQ29uY2VwdHMlMjBhbmQlMjBEZWZpbml0aW9ucy4lMjIlMkMlMEElMjAlMjAlMjAlMjBkaXNwbGF5JTNEJTIyZmVpbGVyJTIyJTJDJTBBJTIwJTIwJTIwJTIwYXV0aG9ycyUzRCUyMlAuJTIwSC4lMjBGZWlsZXIlMkMlMjBXLiUyMFMuJTIwSHVtcGhyZXklMjIlMkMlMEElMjAlMjAlMjAlMjBwbGFjZSUzREZBS0UlMkMlMEElMjAlMjAlMjAlMjBwbGFjZXglM0QlMjJQcm9jZWVkaW5ncyUyMG9mJTIwdGhlJTIwU2Vjb25kJTIwSW50ZXJuYXRpb25hbCUyMENvbmZlcmVuY2UlMjBvbiUyMFNvZnR3YXJlJTIwUHJvY2VzcyUyQyUyMEZlYnJ1YXJ5JTIyJTJDJTBBJTI5JTI5JTBBJTBBREIlMjhDaXRhdGlvbiUyOCUwQSUyMCUyMCUyMCUyMGdhemVsMjAwOWElMkMlMjBmZWlsZXIxOTkzYSUyQyUyMHJlZiUzRCUyMjE0LiUyMiUyQyUwQSUyMCUyMCUyMCUyMGNvbnRleHRzJTNEJTVCJTBBJTBBJTIwJTIwJTIwJTIwJTVEJTJDJTBBJTI5JTI5JTBBJTBBJTI3JTI3JTI3JTJDJTIwY2l0YXRpb25zJTNEJTI3Z2F6ZWwyMDA5YSUyNyUyOSUzQg==\")));\n",
       "    "
      ],
      "text/plain": [
       "<IPython.core.display.Javascript object>"
      ]
     },
     "metadata": {},
     "output_type": "display_data"
    },
    {
     "data": {
      "application/javascript": [
       "$('span:contains(\"# Temp\")').closest('.cell').remove();"
      ],
      "text/plain": [
       "<IPython.core.display.Javascript object>"
      ]
     },
     "metadata": {},
     "output_type": "display_data"
    },
    {
     "data": {
      "application/javascript": [
       "\n",
       "        $('span:contains(\"# Temp\")').closest('.cell').remove();\n",
       "        var code = IPython.notebook.insert_cell_below('code');\n",
       "        code.set_text(decodeURIComponent(window.atob(\"JTIzJTIwVGVtcCUwQWluc2VydCUyOCUyNyUyNyUyNyUwQWZlaWxlcjE5OTNhJTIwJTNEJTIwREIlMjhXb3JrVW5yZWxhdGVkJTI4JTBBJTIwJTIwJTIwJTIwMTk5MyUyQyUyMCUyMlNvZnR3YXJlJTIwcHJvY2VzcyUyMGRldmVsb3BtZW50JTIwYW5kJTIwZW5hY3RtZW50JTNBJTIwQ29uY2VwdHMlMjBhbmQlMjBEZWZpbml0aW9ucy4lMjIlMkMlMEElMjAlMjAlMjAlMjBkaXNwbGF5JTNEJTIyZmVpbGVyJTIyJTJDJTBBJTIwJTIwJTIwJTIwYXV0aG9ycyUzRCUyMlAuJTIwSC4lMjBGZWlsZXIlMkMlMjBXLiUyMFMuJTIwSHVtcGhyZXklMjIlMkMlMEElMjAlMjAlMjAlMjBwbGFjZSUzREZBS0UlMkMlMEElMjAlMjAlMjAlMjBwbGFjZXglM0QlMjJQcm9jZWVkaW5ncyUyMG9mJTIwdGhlJTIwU2Vjb25kJTIwSW50ZXJuYXRpb25hbCUyMENvbmZlcmVuY2UlMjBvbiUyMFNvZnR3YXJlJTIwUHJvY2VzcyUyQyUyMEZlYnJ1YXJ5JTIyJTJDJTBBJTI5JTI5JTBBJTBBREIlMjhDaXRhdGlvbiUyOCUwQSUyMCUyMCUyMCUyMGdhemVsMjAwOWElMkMlMjBmZWlsZXIxOTkzYSUyQyUyMHJlZiUzRCUyMjE0LiUyMiUyQyUwQSUyMCUyMCUyMCUyMGNvbnRleHRzJTNEJTVCJTBBJTBBJTIwJTIwJTIwJTIwJTVEJTJDJTBBJTI5JTI5JTBBJTBBJTI3JTI3JTI3JTJDJTIwY2l0YXRpb25zJTNEJTI3Z2F6ZWwyMDA5YSUyNyUyOSUzQg==\")));\n",
       "    "
      ],
      "text/plain": [
       "<IPython.core.display.Javascript object>"
      ]
     },
     "metadata": {},
     "output_type": "display_data"
    },
    {
     "data": {
      "application/javascript": [
       "$('span:contains(\"# Temp\")').closest('.cell').remove();"
      ],
      "text/plain": [
       "<IPython.core.display.Javascript object>"
      ]
     },
     "metadata": {},
     "output_type": "display_data"
    },
    {
     "data": {
      "application/javascript": [
       "\n",
       "        $('span:contains(\"# Temp\")').closest('.cell').remove();\n",
       "        var code = IPython.notebook.insert_cell_below('code');\n",
       "        code.set_text(decodeURIComponent(window.atob(\"JTIzJTIwVGVtcCUwQWluc2VydCUyOCUyNyUyNyUyNyUwQURCJTI4Q2l0YXRpb24lMjglMEElMjAlMjAlMjAlMjBnYXplbDIwMDlhJTJDJTIwbGlhbzIwMDVhJTJDJTIwcmVmJTNEJTIyMTUuJTIyJTJDJTBBJTIwJTIwJTIwJTIwY29udGV4dHMlM0QlNUIlMEElMEElMjAlMjAlMjAlMjAlNUQlMkMlMEElMjklMjklMEElMEElMjclMjclMjclMkMlMjBjaXRhdGlvbnMlM0QlMjdnYXplbDIwMDlhJTI3JTI5JTNC\")));\n",
       "    "
      ],
      "text/plain": [
       "<IPython.core.display.Javascript object>"
      ]
     },
     "metadata": {},
     "output_type": "display_data"
    },
    {
     "data": {
      "application/javascript": [
       "$('span:contains(\"# Temp\")').closest('.cell').remove();"
      ],
      "text/plain": [
       "<IPython.core.display.Javascript object>"
      ]
     },
     "metadata": {},
     "output_type": "display_data"
    },
    {
     "data": {
      "application/javascript": [
       "\n",
       "        $('span:contains(\"# Temp\")').closest('.cell').remove();\n",
       "        var code = IPython.notebook.insert_cell_below('code');\n",
       "        code.set_text(decodeURIComponent(window.atob(\"JTIzJTIwVGVtcCUwQWluc2VydCUyOCUyNyUyNyUyNyUwQURCJTI4Q2l0YXRpb24lMjglMEElMjAlMjAlMjAlMjBnYXplbDIwMDlhJTJDJTIwbGlhbzIwMDVhJTJDJTIwcmVmJTNEJTIyMTUuJTIyJTJDJTBBJTIwJTIwJTIwJTIwY29udGV4dHMlM0QlNUIlMEElMEElMjAlMjAlMjAlMjAlNUQlMkMlMEElMjklMjklMEElMEElMjclMjclMjclMkMlMjBjaXRhdGlvbnMlM0QlMjdnYXplbDIwMDlhJTI3JTI5JTNC\")));\n",
       "    "
      ],
      "text/plain": [
       "<IPython.core.display.Javascript object>"
      ]
     },
     "metadata": {},
     "output_type": "display_data"
    },
    {
     "data": {
      "application/javascript": [
       "$('span:contains(\"# Temp\")').closest('.cell').remove();"
      ],
      "text/plain": [
       "<IPython.core.display.Javascript object>"
      ]
     },
     "metadata": {},
     "output_type": "display_data"
    },
    {
     "data": {
      "application/javascript": [
       "\n",
       "        $('span:contains(\"# Temp\")').closest('.cell').remove();\n",
       "        var code = IPython.notebook.insert_cell_below('code');\n",
       "        code.set_text(decodeURIComponent(window.atob(\"JTIzJTIwVGVtcCUwQWluc2VydCUyOCUyNyUyNyUyNyUwQURCJTI4Q2l0YXRpb24lMjglMEElMjAlMjAlMjAlMjBnYXplbDIwMDlhJTJDJTIwc295ZGFuMjAwNmElMkMlMjByZWYlM0QlMjIxNi4lMjIlMkMlMEElMjAlMjAlMjAlMjBjb250ZXh0cyUzRCU1QiUwQSUwQSUyMCUyMCUyMCUyMCU1RCUyQyUwQSUyOSUyOSUwQSUwQSUyNyUyNyUyNyUyQyUyMGNpdGF0aW9ucyUzRCUyN2dhemVsMjAwOWElMjclMjklM0I=\")));\n",
       "    "
      ],
      "text/plain": [
       "<IPython.core.display.Javascript object>"
      ]
     },
     "metadata": {},
     "output_type": "display_data"
    },
    {
     "data": {
      "application/javascript": [
       "$('span:contains(\"# Temp\")').closest('.cell').remove();"
      ],
      "text/plain": [
       "<IPython.core.display.Javascript object>"
      ]
     },
     "metadata": {},
     "output_type": "display_data"
    },
    {
     "data": {
      "application/javascript": [
       "\n",
       "        $('span:contains(\"# Temp\")').closest('.cell').remove();\n",
       "        var code = IPython.notebook.insert_cell_below('code');\n",
       "        code.set_text(decodeURIComponent(window.atob(\"JTIzJTIwVGVtcCUwQWluc2VydCUyOCUyNyUyNyUyNyUwQURCJTI4Q2l0YXRpb24lMjglMEElMjAlMjAlMjAlMjBnYXplbDIwMDlhJTJDJTIwc295ZGFuMjAwNmElMkMlMjByZWYlM0QlMjIxNi4lMjIlMkMlMEElMjAlMjAlMjAlMjBjb250ZXh0cyUzRCU1QiUwQSUwQSUyMCUyMCUyMCUyMCU1RCUyQyUwQSUyOSUyOSUwQSUwQSUyNyUyNyUyNyUyQyUyMGNpdGF0aW9ucyUzRCUyN2dhemVsMjAwOWElMjclMjklM0I=\")));\n",
       "    "
      ],
      "text/plain": [
       "<IPython.core.display.Javascript object>"
      ]
     },
     "metadata": {},
     "output_type": "display_data"
    },
    {
     "data": {
      "application/javascript": [
       "$('span:contains(\"# Temp\")').closest('.cell').remove();"
      ],
      "text/plain": [
       "<IPython.core.display.Javascript object>"
      ]
     },
     "metadata": {},
     "output_type": "display_data"
    },
    {
     "data": {
      "application/javascript": [
       "\n",
       "        $('span:contains(\"# Temp\")').closest('.cell').remove();\n",
       "        var code = IPython.notebook.insert_cell_below('code');\n",
       "        code.set_text(decodeURIComponent(window.atob(\"JTIzJTIwVGVtcCUwQWluc2VydCUyOCUyNyUyNyUyNyUwQXNoYXJpZmxvbzIwMDhhJTIwJTNEJTIwREIlMjhXb3JrVW5yZWxhdGVkJTI4JTBBJTIwJTIwJTIwJTIwMjAwOCUyQyUyMCUyMkFuJTIwT250b2xvZ3klMjBmb3IlMjBDTU1JLUFDUSUyME1vZGVsJTIyJTJDJTBBJTIwJTIwJTIwJTIwZGlzcGxheSUzRCUyMnNoYXJpZmxvbyUyMiUyQyUwQSUyMCUyMCUyMCUyMGF1dGhvcnMlM0QlMjJBLkEuU2hhcmlmbG9vJTJDJTIwWS5Nb3RhemVkaSUyQyUyME0uU2hhbXNmYXJkJTJDJTIwUi5EZWhraGFyZ2hhbmklMjIlMkMlMEElMjAlMjAlMjAlMjBwbGFjZSUzREZBS0UlMkMlMEElMjAlMjAlMjAlMjBwbGFjZXglM0QlMjIzcmQlMjBJbnRlcm5hdGlvbmFsJTIwQ29uZmVyZW5jZSUyMG9uJTIwSW5mb3JtYXRpb24lMjBhbmQlMjBDb21tdW5pY2F0aW9uJTIwVGVjaG5vbG9naWVzJTNBJTIwRnJvbSUyMFRoZW9yeSUyMHRvJTIwQXBwbGljYXRpb25zJTIwJTI4SUNUVEElMjklMkMlMjBBcHJpbCUyMiUyQyUwQSUyOSUyOSUwQSUwQURCJTI4Q2l0YXRpb24lMjglMEElMjAlMjAlMjAlMjBnYXplbDIwMDlhJTJDJTIwc2hhcmlmbG9vMjAwOGElMkMlMjByZWYlM0QlMjIxNy4lMjIlMkMlMEElMjAlMjAlMjAlMjBjb250ZXh0cyUzRCU1QiUwQSUwQSUyMCUyMCUyMCUyMCU1RCUyQyUwQSUyOSUyOSUwQSUwQSUyNyUyNyUyNyUyQyUyMGNpdGF0aW9ucyUzRCUyN2dhemVsMjAwOWElMjclMjklM0I=\")));\n",
       "    "
      ],
      "text/plain": [
       "<IPython.core.display.Javascript object>"
      ]
     },
     "metadata": {},
     "output_type": "display_data"
    },
    {
     "data": {
      "application/javascript": [
       "$('span:contains(\"# Temp\")').closest('.cell').remove();"
      ],
      "text/plain": [
       "<IPython.core.display.Javascript object>"
      ]
     },
     "metadata": {},
     "output_type": "display_data"
    },
    {
     "data": {
      "application/javascript": [
       "\n",
       "        $('span:contains(\"# Temp\")').closest('.cell').remove();\n",
       "        var code = IPython.notebook.insert_cell_below('code');\n",
       "        code.set_text(decodeURIComponent(window.atob(\"JTIzJTIwVGVtcCUwQWluc2VydCUyOCUyNyUyNyUyNyUwQXNoYXJpZmxvbzIwMDhhJTIwJTNEJTIwREIlMjhXb3JrVW5yZWxhdGVkJTI4JTBBJTIwJTIwJTIwJTIwMjAwOCUyQyUyMCUyMkFuJTIwT250b2xvZ3klMjBmb3IlMjBDTU1JLUFDUSUyME1vZGVsJTIyJTJDJTBBJTIwJTIwJTIwJTIwZGlzcGxheSUzRCUyMnNoYXJpZmxvbyUyMiUyQyUwQSUyMCUyMCUyMCUyMGF1dGhvcnMlM0QlMjJBLkEuU2hhcmlmbG9vJTJDJTIwWS5Nb3RhemVkaSUyQyUyME0uU2hhbXNmYXJkJTJDJTIwUi5EZWhraGFyZ2hhbmklMjIlMkMlMEElMjAlMjAlMjAlMjBwbGFjZSUzREZBS0UlMkMlMEElMjAlMjAlMjAlMjBwbGFjZXglM0QlMjIzcmQlMjBJbnRlcm5hdGlvbmFsJTIwQ29uZmVyZW5jZSUyMG9uJTIwSW5mb3JtYXRpb24lMjBhbmQlMjBDb21tdW5pY2F0aW9uJTIwVGVjaG5vbG9naWVzJTNBJTIwRnJvbSUyMFRoZW9yeSUyMHRvJTIwQXBwbGljYXRpb25zJTIwJTI4SUNUVEElMjklMkMlMjBBcHJpbCUyMiUyQyUwQSUyOSUyOSUwQSUwQURCJTI4Q2l0YXRpb24lMjglMEElMjAlMjAlMjAlMjBnYXplbDIwMDlhJTJDJTIwc2hhcmlmbG9vMjAwOGElMkMlMjByZWYlM0QlMjIxNy4lMjIlMkMlMEElMjAlMjAlMjAlMjBjb250ZXh0cyUzRCU1QiUwQSUwQSUyMCUyMCUyMCUyMCU1RCUyQyUwQSUyOSUyOSUwQSUwQSUyNyUyNyUyNyUyQyUyMGNpdGF0aW9ucyUzRCUyN2dhemVsMjAwOWElMjclMjklM0I=\")));\n",
       "    "
      ],
      "text/plain": [
       "<IPython.core.display.Javascript object>"
      ]
     },
     "metadata": {},
     "output_type": "display_data"
    },
    {
     "data": {
      "application/javascript": [
       "$('span:contains(\"# Temp\")').closest('.cell').remove();"
      ],
      "text/plain": [
       "<IPython.core.display.Javascript object>"
      ]
     },
     "metadata": {},
     "output_type": "display_data"
    },
    {
     "data": {
      "application/javascript": [
       "\n",
       "        $('span:contains(\"# Temp\")').closest('.cell').remove();\n",
       "        var code = IPython.notebook.insert_cell_below('code');\n",
       "        code.set_text(decodeURIComponent(window.atob(\"JTIzJTIwVGVtcCUwQWluc2VydCUyOCUyNyUyNyUyNyUwQXN1bW8yMDA5YSUyMCUzRCUyMERCJTI4V29ya1VucmVsYXRlZCUyOCUwQSUyMCUyMCUyMCUyMDIwMDklMkMlMjAlMjJTdWdnZXN0ZWQlMjBVcHBlciUyME1lcmdlZCUyME9udG9sb2d5JTIwJTI4U1VNTyUyOSUyMiUyQyUwQSUyMCUyMCUyMCUyMGRpc3BsYXklM0QlMjJzdW1vJTIyJTJDJTBBJTIwJTIwJTIwJTIwYXV0aG9ycyUzRCUyMlNVTU8lMjIlMkMlMEElMjAlMjAlMjAlMjBwbGFjZSUzREZBS0UlMkMlMEElMjAlMjAlMjAlMjBwbGFjZXglM0QlMjJ3d3cub250b2xvZ3lwb3J0YWwub3JnJTIyJTJDJTBBJTI5JTI5JTBBJTBBREIlMjhDaXRhdGlvbiUyOCUwQSUyMCUyMCUyMCUyMGdhemVsMjAwOWElMkMlMjBzdW1vMjAwOWElMkMlMjByZWYlM0QlMjIxOC4lMjIlMkMlMEElMjAlMjAlMjAlMjBjb250ZXh0cyUzRCU1QiUwQSUwQSUyMCUyMCUyMCUyMCU1RCUyQyUwQSUyOSUyOSUwQSUwQSUyNyUyNyUyNyUyQyUyMGNpdGF0aW9ucyUzRCUyN2dhemVsMjAwOWElMjclMjklM0I=\")));\n",
       "    "
      ],
      "text/plain": [
       "<IPython.core.display.Javascript object>"
      ]
     },
     "metadata": {},
     "output_type": "display_data"
    },
    {
     "data": {
      "application/javascript": [
       "$('span:contains(\"# Temp\")').closest('.cell').remove();"
      ],
      "text/plain": [
       "<IPython.core.display.Javascript object>"
      ]
     },
     "metadata": {},
     "output_type": "display_data"
    },
    {
     "data": {
      "application/javascript": [
       "\n",
       "        $('span:contains(\"# Temp\")').closest('.cell').remove();\n",
       "        var code = IPython.notebook.insert_cell_below('code');\n",
       "        code.set_text(decodeURIComponent(window.atob(\"JTIzJTIwVGVtcCUwQWluc2VydCUyOCUyNyUyNyUyNyUwQXN1bW8yMDA5YSUyMCUzRCUyMERCJTI4V29ya1VucmVsYXRlZCUyOCUwQSUyMCUyMCUyMCUyMDIwMDklMkMlMjAlMjJTdWdnZXN0ZWQlMjBVcHBlciUyME1lcmdlZCUyME9udG9sb2d5JTIwJTI4U1VNTyUyOSUyMiUyQyUwQSUyMCUyMCUyMCUyMGRpc3BsYXklM0QlMjJzdW1vJTIyJTJDJTBBJTIwJTIwJTIwJTIwYXV0aG9ycyUzRCUyMlNVTU8lMjIlMkMlMEElMjAlMjAlMjAlMjBwbGFjZSUzREZBS0UlMkMlMEElMjAlMjAlMjAlMjBwbGFjZXglM0QlMjJ3d3cub250b2xvZ3lwb3J0YWwub3JnJTIyJTJDJTBBJTI5JTI5JTBBJTBBREIlMjhDaXRhdGlvbiUyOCUwQSUyMCUyMCUyMCUyMGdhemVsMjAwOWElMkMlMjBzdW1vMjAwOWElMkMlMjByZWYlM0QlMjIxOC4lMjIlMkMlMEElMjAlMjAlMjAlMjBjb250ZXh0cyUzRCU1QiUwQSUwQSUyMCUyMCUyMCUyMCU1RCUyQyUwQSUyOSUyOSUwQSUwQSUyNyUyNyUyNyUyQyUyMGNpdGF0aW9ucyUzRCUyN2dhemVsMjAwOWElMjclMjklM0I=\")));\n",
       "    "
      ],
      "text/plain": [
       "<IPython.core.display.Javascript object>"
      ]
     },
     "metadata": {},
     "output_type": "display_data"
    },
    {
     "data": {
      "application/javascript": [
       "$('span:contains(\"# Temp\")').closest('.cell').remove();"
      ],
      "text/plain": [
       "<IPython.core.display.Javascript object>"
      ]
     },
     "metadata": {},
     "output_type": "display_data"
    },
    {
     "data": {
      "application/javascript": [
       "\n",
       "        $('span:contains(\"# Temp\")').closest('.cell').remove();\n",
       "        var code = IPython.notebook.insert_cell_below('code');\n",
       "        code.set_text(decodeURIComponent(window.atob(\"JTIzJTIwVGVtcCUwQWluc2VydCUyOCUyNyUyNyUyNyUwQWRwYW5zMjAwOWElMjAlM0QlMjBEQiUyOFdvcmtVbnJlbGF0ZWQlMjglMEElMjAlMjAlMjAlMjAyMDA5JTJDJTIwJTIyS25vd2xlZGdlJTIwSW50ZXJjaGFuZ2UlMjBGb3JtYXQlMjBkcmFmdCUyMHByb3Bvc2VkJTIwQW1lcmljYW4lMjBOYXRpb25hbCUyMFN0YW5kYXJkJTIwJTI4ZHBBTlMlMjklMjIlMkMlMEElMjAlMjAlMjAlMjBkaXNwbGF5JTNEJTIyZHBhbnMlMjIlMkMlMEElMjAlMjAlMjAlMjBhdXRob3JzJTNEJTIyZHBBTlMlMjIlMkMlMEElMjAlMjAlMjAlMjBwbGFjZSUzREZBS0UlMkMlMEElMjAlMjAlMjAlMjBwbGFjZXglM0QlMjJOQ0lUUy5UMi85OC0wMDQlMkMlMjBFZC4lMjIlMkMlMEElMjklMjklMEElMEFEQiUyOENpdGF0aW9uJTI4JTBBJTIwJTIwJTIwJTIwZ2F6ZWwyMDA5YSUyQyUyMGRwYW5zMjAwOWElMkMlMjByZWYlM0QlMjIxOS4lMjIlMkMlMEElMjAlMjAlMjAlMjBjb250ZXh0cyUzRCU1QiUwQSUwQSUyMCUyMCUyMCUyMCU1RCUyQyUwQSUyOSUyOSUwQSUwQSUyNyUyNyUyNyUyQyUyMGNpdGF0aW9ucyUzRCUyN2dhemVsMjAwOWElMjclMjklM0I=\")));\n",
       "    "
      ],
      "text/plain": [
       "<IPython.core.display.Javascript object>"
      ]
     },
     "metadata": {},
     "output_type": "display_data"
    },
    {
     "data": {
      "application/javascript": [
       "$('span:contains(\"# Temp\")').closest('.cell').remove();"
      ],
      "text/plain": [
       "<IPython.core.display.Javascript object>"
      ]
     },
     "metadata": {},
     "output_type": "display_data"
    },
    {
     "data": {
      "application/javascript": [
       "\n",
       "        $('span:contains(\"# Temp\")').closest('.cell').remove();\n",
       "        var code = IPython.notebook.insert_cell_below('code');\n",
       "        code.set_text(decodeURIComponent(window.atob(\"JTIzJTIwVGVtcCUwQWluc2VydCUyOCUyNyUyNyUyNyUwQWRwYW5zMjAwOWElMjAlM0QlMjBEQiUyOFdvcmtVbnJlbGF0ZWQlMjglMEElMjAlMjAlMjAlMjAyMDA5JTJDJTIwJTIyS25vd2xlZGdlJTIwSW50ZXJjaGFuZ2UlMjBGb3JtYXQlMjBkcmFmdCUyMHByb3Bvc2VkJTIwQW1lcmljYW4lMjBOYXRpb25hbCUyMFN0YW5kYXJkJTIwJTI4ZHBBTlMlMjklMjIlMkMlMEElMjAlMjAlMjAlMjBkaXNwbGF5JTNEJTIyZHBhbnMlMjIlMkMlMEElMjAlMjAlMjAlMjBhdXRob3JzJTNEJTIyZHBBTlMlMjIlMkMlMEElMjAlMjAlMjAlMjBwbGFjZSUzREZBS0UlMkMlMEElMjAlMjAlMjAlMjBwbGFjZXglM0QlMjJOQ0lUUy5UMi85OC0wMDQlMkMlMjBFZC4lMjIlMkMlMEElMjklMjklMEElMEFEQiUyOENpdGF0aW9uJTI4JTBBJTIwJTIwJTIwJTIwZ2F6ZWwyMDA5YSUyQyUyMGRwYW5zMjAwOWElMkMlMjByZWYlM0QlMjIxOS4lMjIlMkMlMEElMjAlMjAlMjAlMjBjb250ZXh0cyUzRCU1QiUwQSUwQSUyMCUyMCUyMCUyMCU1RCUyQyUwQSUyOSUyOSUwQSUwQSUyNyUyNyUyNyUyQyUyMGNpdGF0aW9ucyUzRCUyN2dhemVsMjAwOWElMjclMjklM0I=\")));\n",
       "    "
      ],
      "text/plain": [
       "<IPython.core.display.Javascript object>"
      ]
     },
     "metadata": {},
     "output_type": "display_data"
    },
    {
     "data": {
      "application/javascript": [
       "$('span:contains(\"# Temp\")').closest('.cell').remove();"
      ],
      "text/plain": [
       "<IPython.core.display.Javascript object>"
      ]
     },
     "metadata": {},
     "output_type": "display_data"
    },
    {
     "data": {
      "application/javascript": [
       "\n",
       "        $('span:contains(\"# Temp\")').closest('.cell').remove();\n",
       "        var code = IPython.notebook.insert_cell_below('code');\n",
       "        code.set_text(decodeURIComponent(window.atob(\"JTIzJTIwVGVtcCUwQWluc2VydCUyOCUyNyUyNyUyNyUwQWxlZTIwMDdjJTIwJTNEJTIwREIlMjhXb3JrVW5yZWxhdGVkJTI4JTBBJTIwJTIwJTIwJTIwMjAwNyUyQyUyMCUyMk9udG9sb2d5LWJhc2VkJTIwQ29tcHV0YXRpb25hbCUyMEludGVsbGlnZW50JTIwTXVsdGktYWdlbnQlMjBhbmQlMjBJdHMlMjBBcHBsaWNhdGlvbiUyMHRvJTIwQ01NSSUyMEFzc2Vzc21lbnQuJTIyJTJDJTBBJTIwJTIwJTIwJTIwZGlzcGxheSUzRCUyMmxlZSUyMGMlMjIlMkMlMEElMjAlMjAlMjAlMjBhdXRob3JzJTNEJTIyQy5TLiUyMExlZSUyQyUyME0uSC4lMjBXYW5nLiUyMiUyQyUwQSUyMCUyMCUyMCUyMHBsYWNlJTNERkFLRSUyQyUwQSUyMCUyMCUyMCUyMHBsYWNleCUzRCUyMlNwcmluZ2VyJTIwU2NpZW5jZSUyQkJ1c2luZXNzJTIwTWVkaWElMkMlMjBMTEMlMjIlMkMlMEElMjklMjklMEElMEFEQiUyOENpdGF0aW9uJTI4JTBBJTIwJTIwJTIwJTIwZ2F6ZWwyMDA5YSUyQyUyMGxlZTIwMDdjJTJDJTIwcmVmJTNEJTIyMjAuJTIyJTJDJTBBJTIwJTIwJTIwJTIwY29udGV4dHMlM0QlNUIlMEElMEElMjAlMjAlMjAlMjAlNUQlMkMlMEElMjklMjklMEElMEElMjclMjclMjclMkMlMjBjaXRhdGlvbnMlM0QlMjdnYXplbDIwMDlhJTI3JTI5JTNC\")));\n",
       "    "
      ],
      "text/plain": [
       "<IPython.core.display.Javascript object>"
      ]
     },
     "metadata": {},
     "output_type": "display_data"
    },
    {
     "data": {
      "application/javascript": [
       "$('span:contains(\"# Temp\")').closest('.cell').remove();"
      ],
      "text/plain": [
       "<IPython.core.display.Javascript object>"
      ]
     },
     "metadata": {},
     "output_type": "display_data"
    },
    {
     "data": {
      "application/javascript": [
       "\n",
       "        $('span:contains(\"# Temp\")').closest('.cell').remove();\n",
       "        var code = IPython.notebook.insert_cell_below('code');\n",
       "        code.set_text(decodeURIComponent(window.atob(\"JTIzJTIwVGVtcCUwQWluc2VydCUyOCUyNyUyNyUyNyUwQWxlZTIwMDdjJTIwJTNEJTIwREIlMjhXb3JrVW5yZWxhdGVkJTI4JTBBJTIwJTIwJTIwJTIwMjAwNyUyQyUyMCUyMk9udG9sb2d5LWJhc2VkJTIwQ29tcHV0YXRpb25hbCUyMEludGVsbGlnZW50JTIwTXVsdGktYWdlbnQlMjBhbmQlMjBJdHMlMjBBcHBsaWNhdGlvbiUyMHRvJTIwQ01NSSUyMEFzc2Vzc21lbnQuJTIyJTJDJTBBJTIwJTIwJTIwJTIwZGlzcGxheSUzRCUyMmxlZSUyMGMlMjIlMkMlMEElMjAlMjAlMjAlMjBhdXRob3JzJTNEJTIyQy5TLiUyMExlZSUyQyUyME0uSC4lMjBXYW5nLiUyMiUyQyUwQSUyMCUyMCUyMCUyMHBsYWNlJTNERkFLRSUyQyUwQSUyMCUyMCUyMCUyMHBsYWNleCUzRCUyMlNwcmluZ2VyJTIwU2NpZW5jZSUyQkJ1c2luZXNzJTIwTWVkaWElMkMlMjBMTEMlMjIlMkMlMEElMjklMjklMEElMEFEQiUyOENpdGF0aW9uJTI4JTBBJTIwJTIwJTIwJTIwZ2F6ZWwyMDA5YSUyQyUyMGxlZTIwMDdjJTJDJTIwcmVmJTNEJTIyMjAuJTIyJTJDJTBBJTIwJTIwJTIwJTIwY29udGV4dHMlM0QlNUIlMEElMEElMjAlMjAlMjAlMjAlNUQlMkMlMEElMjklMjklMEElMEElMjclMjclMjclMkMlMjBjaXRhdGlvbnMlM0QlMjdnYXplbDIwMDlhJTI3JTI5JTNC\")));\n",
       "    "
      ],
      "text/plain": [
       "<IPython.core.display.Javascript object>"
      ]
     },
     "metadata": {},
     "output_type": "display_data"
    },
    {
     "data": {
      "application/javascript": [
       "$('span:contains(\"# Temp\")').closest('.cell').remove();"
      ],
      "text/plain": [
       "<IPython.core.display.Javascript object>"
      ]
     },
     "metadata": {},
     "output_type": "display_data"
    },
    {
     "data": {
      "application/javascript": [
       "\n",
       "        $('span:contains(\"# Temp\")').closest('.cell').remove();\n",
       "        var code = IPython.notebook.insert_cell_below('code');\n",
       "        code.set_text(decodeURIComponent(window.atob(\"JTIzJTIwVGVtcCUwQWluc2VydCUyOCUyNyUyNyUyNyUwQURCJTI4Q2l0YXRpb24lMjglMEElMjAlMjAlMjAlMjBnYXplbDIwMDlhJTJDJTIwbGVlMjAwOGElMkMlMjByZWYlM0QlMjIyMS4lMjIlMkMlMEElMjAlMjAlMjAlMjBjb250ZXh0cyUzRCU1QiUwQSUwQSUyMCUyMCUyMCUyMCU1RCUyQyUwQSUyOSUyOSUwQSUwQSUyNyUyNyUyNyUyQyUyMGNpdGF0aW9ucyUzRCUyN2dhemVsMjAwOWElMjclMjklM0I=\")));\n",
       "    "
      ],
      "text/plain": [
       "<IPython.core.display.Javascript object>"
      ]
     },
     "metadata": {},
     "output_type": "display_data"
    },
    {
     "data": {
      "application/javascript": [
       "$('span:contains(\"# Temp\")').closest('.cell').remove();"
      ],
      "text/plain": [
       "<IPython.core.display.Javascript object>"
      ]
     },
     "metadata": {},
     "output_type": "display_data"
    },
    {
     "data": {
      "application/javascript": [
       "\n",
       "        $('span:contains(\"# Temp\")').closest('.cell').remove();\n",
       "        var code = IPython.notebook.insert_cell_below('code');\n",
       "        code.set_text(decodeURIComponent(window.atob(\"JTIzJTIwVGVtcCUwQWluc2VydCUyOCUyNyUyNyUyNyUwQURCJTI4Q2l0YXRpb24lMjglMEElMjAlMjAlMjAlMjBnYXplbDIwMDlhJTJDJTIwbGVlMjAwOGElMkMlMjByZWYlM0QlMjIyMS4lMjIlMkMlMEElMjAlMjAlMjAlMjBjb250ZXh0cyUzRCU1QiUwQSUwQSUyMCUyMCUyMCUyMCU1RCUyQyUwQSUyOSUyOSUwQSUwQSUyNyUyNyUyNyUyQyUyMGNpdGF0aW9ucyUzRCUyN2dhemVsMjAwOWElMjclMjklM0I=\")));\n",
       "    "
      ],
      "text/plain": [
       "<IPython.core.display.Javascript object>"
      ]
     },
     "metadata": {},
     "output_type": "display_data"
    },
    {
     "data": {
      "application/javascript": [
       "$('span:contains(\"# Temp\")').closest('.cell').remove();"
      ],
      "text/plain": [
       "<IPython.core.display.Javascript object>"
      ]
     },
     "metadata": {},
     "output_type": "display_data"
    },
    {
     "data": {
      "application/javascript": [
       "\n",
       "        $('span:contains(\"# Temp\")').closest('.cell').remove();\n",
       "        var code = IPython.notebook.insert_cell_below('code');\n",
       "        code.set_text(decodeURIComponent(window.atob(\"JTIzJTIwVGVtcCUwQWluc2VydCUyOCUyNyUyNyUyNyUwQWlzbzIwMDhjJTIwJTNEJTIwREIlMjhXb3JrVW5yZWxhdGVkJTI4JTBBJTIwJTIwJTIwJTIwMjAwOCUyQyUyMCUyMklTTyUyMElFQyUyMDEyMjA3JTNBJTIwU3lzdGVtcyUyMGFuZCUyMHNvZnR3YXJlJTIwZW5nLiUyMC0tJTIwU29mdHdhcmUlMjBsaWZlJTIwY3ljbGUlMjBwcm9jZXNzZXMlMkMlMjIlMkMlMEElMjAlMjAlMjAlMjBkaXNwbGF5JTNEJTIyaXNvJTIwYyUyMiUyQyUwQSUyMCUyMCUyMCUyMGF1dGhvcnMlM0QlMjJJU08lMkMlMjIlMkMlMEElMjAlMjAlMjAlMjBwbGFjZSUzREZBS0UlMkMlMEElMjAlMjAlMjAlMjBwbGFjZXglM0QlMjJzaXRlJTIyJTJDJTBBJTI5JTI5JTBBJTBBREIlMjhDaXRhdGlvbiUyOCUwQSUyMCUyMCUyMCUyMGdhemVsMjAwOWElMkMlMjBpc28yMDA4YyUyQyUyMHJlZiUzRCUyMjIyLiUyMiUyQyUwQSUyMCUyMCUyMCUyMGNvbnRleHRzJTNEJTVCJTBBJTBBJTIwJTIwJTIwJTIwJTVEJTJDJTBBJTI5JTI5JTBBJTBBJTI3JTI3JTI3JTJDJTIwY2l0YXRpb25zJTNEJTI3Z2F6ZWwyMDA5YSUyNyUyOSUzQg==\")));\n",
       "    "
      ],
      "text/plain": [
       "<IPython.core.display.Javascript object>"
      ]
     },
     "metadata": {},
     "output_type": "display_data"
    },
    {
     "data": {
      "application/javascript": [
       "$('span:contains(\"# Temp\")').closest('.cell').remove();"
      ],
      "text/plain": [
       "<IPython.core.display.Javascript object>"
      ]
     },
     "metadata": {},
     "output_type": "display_data"
    },
    {
     "data": {
      "application/javascript": [
       "\n",
       "        $('span:contains(\"# Temp\")').closest('.cell').remove();\n",
       "        var code = IPython.notebook.insert_cell_below('code');\n",
       "        code.set_text(decodeURIComponent(window.atob(\"JTIzJTIwVGVtcCUwQWluc2VydCUyOCUyNyUyNyUyNyUwQWlzbzIwMDhjJTIwJTNEJTIwREIlMjhXb3JrVW5yZWxhdGVkJTI4JTBBJTIwJTIwJTIwJTIwMjAwOCUyQyUyMCUyMklTTyUyMElFQyUyMDEyMjA3JTNBJTIwU3lzdGVtcyUyMGFuZCUyMHNvZnR3YXJlJTIwZW5nLiUyMC0tJTIwU29mdHdhcmUlMjBsaWZlJTIwY3ljbGUlMjBwcm9jZXNzZXMlMkMlMjIlMkMlMEElMjAlMjAlMjAlMjBkaXNwbGF5JTNEJTIyaXNvJTIwYyUyMiUyQyUwQSUyMCUyMCUyMCUyMGF1dGhvcnMlM0QlMjJJU08lMkMlMjIlMkMlMEElMjAlMjAlMjAlMjBwbGFjZSUzREZBS0UlMkMlMEElMjAlMjAlMjAlMjBwbGFjZXglM0QlMjJzaXRlJTIyJTJDJTBBJTI5JTI5JTBBJTBBREIlMjhDaXRhdGlvbiUyOCUwQSUyMCUyMCUyMCUyMGdhemVsMjAwOWElMkMlMjBpc28yMDA4YyUyQyUyMHJlZiUzRCUyMjIyLiUyMiUyQyUwQSUyMCUyMCUyMCUyMGNvbnRleHRzJTNEJTVCJTBBJTBBJTIwJTIwJTIwJTIwJTVEJTJDJTBBJTI5JTI5JTBBJTBBJTI3JTI3JTI3JTJDJTIwY2l0YXRpb25zJTNEJTI3Z2F6ZWwyMDA5YSUyNyUyOSUzQg==\")));\n",
       "    "
      ],
      "text/plain": [
       "<IPython.core.display.Javascript object>"
      ]
     },
     "metadata": {},
     "output_type": "display_data"
    },
    {
     "data": {
      "application/javascript": [
       "$('span:contains(\"# Temp\")').closest('.cell').remove();"
      ],
      "text/plain": [
       "<IPython.core.display.Javascript object>"
      ]
     },
     "metadata": {},
     "output_type": "display_data"
    },
    {
     "data": {
      "application/javascript": [
       "\n",
       "        $('span:contains(\"# Temp\")').closest('.cell').remove();\n",
       "        var code = IPython.notebook.insert_cell_below('code');\n",
       "        code.set_text(decodeURIComponent(window.atob(\"JTIzJTIwVGVtcCUwQWluc2VydCUyOCUyNyUyNyUyNyUwQWlzbzIwMDhkJTIwJTNEJTIwREIlMjhXb3JrVW5yZWxhdGVkJTI4JTBBJTIwJTIwJTIwJTIwMjAwOCUyQyUyMCUyMklTTyUyMElFQyUyMDE1Mjg4JTNBJTIwU3lzdGVtcyUyMGFuZCUyMHNvZnR3YXJlJTIwZW5nLiUyMC0tJTIwU3lzdGVtJTIwbGlmZSUyMGN5Y2xlJTIwcHJvY2Vzc2VzJTJDJTIyJTJDJTBBJTIwJTIwJTIwJTIwZGlzcGxheSUzRCUyMmlzbyUyMGQlMjIlMkMlMEElMjAlMjAlMjAlMjBhdXRob3JzJTNEJTIySVNPJTJDJTIyJTJDJTBBJTIwJTIwJTIwJTIwcGxhY2UlM0RGQUtFJTJDJTBBJTIwJTIwJTIwJTIwcGxhY2V4JTNEJTIyc2l0ZSUyMiUyQyUwQSUyOSUyOSUwQSUwQURCJTI4Q2l0YXRpb24lMjglMEElMjAlMjAlMjAlMjBnYXplbDIwMDlhJTJDJTIwaXNvMjAwOGQlMkMlMjByZWYlM0QlMjIyMy4lMjIlMkMlMEElMjAlMjAlMjAlMjBjb250ZXh0cyUzRCU1QiUwQSUwQSUyMCUyMCUyMCUyMCU1RCUyQyUwQSUyOSUyOSUwQSUwQSUyNyUyNyUyNyUyQyUyMGNpdGF0aW9ucyUzRCUyN2dhemVsMjAwOWElMjclMjklM0I=\")));\n",
       "    "
      ],
      "text/plain": [
       "<IPython.core.display.Javascript object>"
      ]
     },
     "metadata": {},
     "output_type": "display_data"
    },
    {
     "data": {
      "application/javascript": [
       "$('span:contains(\"# Temp\")').closest('.cell').remove();"
      ],
      "text/plain": [
       "<IPython.core.display.Javascript object>"
      ]
     },
     "metadata": {},
     "output_type": "display_data"
    },
    {
     "data": {
      "application/javascript": [
       "\n",
       "        $('span:contains(\"# Temp\")').closest('.cell').remove();\n",
       "        var code = IPython.notebook.insert_cell_below('code');\n",
       "        code.set_text(decodeURIComponent(window.atob(\"JTIzJTIwVGVtcCUwQWluc2VydCUyOCUyNyUyNyUyNyUwQWlzbzIwMDhkJTIwJTNEJTIwREIlMjhXb3JrVW5yZWxhdGVkJTI4JTBBJTIwJTIwJTIwJTIwMjAwOCUyQyUyMCUyMklTTyUyMElFQyUyMDE1Mjg4JTNBJTIwU3lzdGVtcyUyMGFuZCUyMHNvZnR3YXJlJTIwZW5nLiUyMC0tJTIwU3lzdGVtJTIwbGlmZSUyMGN5Y2xlJTIwcHJvY2Vzc2VzJTJDJTIyJTJDJTBBJTIwJTIwJTIwJTIwZGlzcGxheSUzRCUyMmlzbyUyMGQlMjIlMkMlMEElMjAlMjAlMjAlMjBhdXRob3JzJTNEJTIySVNPJTJDJTIyJTJDJTBBJTIwJTIwJTIwJTIwcGxhY2UlM0RGQUtFJTJDJTBBJTIwJTIwJTIwJTIwcGxhY2V4JTNEJTIyc2l0ZSUyMiUyQyUwQSUyOSUyOSUwQSUwQURCJTI4Q2l0YXRpb24lMjglMEElMjAlMjAlMjAlMjBnYXplbDIwMDlhJTJDJTIwaXNvMjAwOGQlMkMlMjByZWYlM0QlMjIyMy4lMjIlMkMlMEElMjAlMjAlMjAlMjBjb250ZXh0cyUzRCU1QiUwQSUwQSUyMCUyMCUyMCUyMCU1RCUyQyUwQSUyOSUyOSUwQSUwQSUyNyUyNyUyNyUyQyUyMGNpdGF0aW9ucyUzRCUyN2dhemVsMjAwOWElMjclMjklM0I=\")));\n",
       "    "
      ],
      "text/plain": [
       "<IPython.core.display.Javascript object>"
      ]
     },
     "metadata": {},
     "output_type": "display_data"
    }
   ],
   "source": [
    "import importlib\n",
    "import custom_snowballing\n",
    "importlib.reload(custom_snowballing)\n",
    "from custom_snowballing import UnrelatedBackward\n",
    "UnrelatedBackward(\"gazel2009a\", articles=article_list)"
   ]
  },
  {
   "cell_type": "code",
   "execution_count": 31,
   "metadata": {},
   "outputs": [
    {
     "name": "stdout",
     "output_type": "stream",
     "text": [
      "-Insert: iso2008d\n",
      "-Insert Import: iso2008d\n",
      "-Insert Citation: gazel2009a -> iso2008d\n"
     ]
    }
   ],
   "source": [
    "# Temp\n",
    "insert('''\n",
    "iso2008d = DB(WorkUnrelated(\n",
    "    2008, \"ISO IEC 15288: Systems and software eng. -- System life cycle processes\",\n",
    "    display=\"iso d\",\n",
    "    authors=\"ISO,\",\n",
    "    place=FAKE,\n",
    "    placex=\"site\",\n",
    "))\n",
    "\n",
    "DB(Citation(\n",
    "    gazel2009a, iso2008d, ref=\"23.\",\n",
    "    contexts=[\n",
    "\n",
    "    ],\n",
    "))\n",
    "\n",
    "''', citations='gazel2009a');"
   ]
  },
  {
   "cell_type": "code",
   "execution_count": null,
   "metadata": {
    "collapsed": true
   },
   "outputs": [],
   "source": []
  }
 ],
 "metadata": {
  "kernelspec": {
   "display_name": "Python 3",
   "language": "python",
   "name": "python3"
  },
  "language_info": {
   "codemirror_mode": {
    "name": "ipython",
    "version": 3
   },
   "file_extension": ".py",
   "mimetype": "text/x-python",
   "name": "python",
   "nbconvert_exporter": "python",
   "pygments_lexer": "ipython3",
   "version": "3.6.0"
  },
  "toc": {
   "nav_menu": {
    "height": "12px",
    "width": "252px"
   },
   "number_sections": true,
   "sideBar": true,
   "skip_h1_title": false,
   "toc_cell": false,
   "toc_position": {},
   "toc_section_display": "block",
   "toc_window_display": false
  }
 },
 "nbformat": 4,
 "nbformat_minor": 2
}
