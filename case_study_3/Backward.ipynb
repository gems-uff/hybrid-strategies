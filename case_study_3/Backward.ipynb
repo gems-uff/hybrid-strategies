{
 "cells": [
  {
   "cell_type": "code",
   "execution_count": 1,
   "metadata": {
    "collapsed": true
   },
   "outputs": [],
   "source": [
    "import database\n",
    "from snowballing.operations import load_work, reload, work_by_varname\n",
    "from snowballing.snowballing import Converter\n",
    "from snowballing.snowballing import BackwardSnowballing\n",
    "from snowballing.dbmanager import insert, set_attribute"
   ]
  },
  {
   "cell_type": "code",
   "execution_count": 2,
   "metadata": {
    "scrolled": false
   },
   "outputs": [
    {
     "data": {
      "application/vnd.jupyter.widget-view+json": {
       "model_id": "648e3869bf2c4fb483366213e1c060b9",
       "version_major": 2,
       "version_minor": 0
      },
      "text/html": [
       "<p>Failed to display Jupyter Widget of type <code>VBox</code>.</p>\n",
       "<p>\n",
       "  If you're reading this message in Jupyter Notebook or JupyterLab, it may mean\n",
       "  that the widgets JavaScript is still loading. If this message persists, it\n",
       "  likely means that the widgets JavaScript library is either not installed or\n",
       "  not enabled. See the <a href=\"https://ipywidgets.readthedocs.io/en/stable/user_install.html\">Jupyter\n",
       "  Widgets Documentation</a> for setup instructions.\n",
       "</p>\n",
       "<p>\n",
       "  If you're reading this message in another notebook frontend (for example, a static\n",
       "  rendering on GitHub or <a href=\"https://nbviewer.jupyter.org/\">NBViewer</a>),\n",
       "  it may mean that your frontend doesn't currently support widgets.\n",
       "</p>\n"
      ],
      "text/plain": [
       "VBox(children=(HBox(children=(Dropdown(index=1, options={'BibTeX': 'bibtex', 'Text': 'text', '[N] author name place other year': 'citation', 'Quoted': 'quoted'}, value='text'), Button(description='Set article_list variable', disabled=True, style=ButtonStyle()), Label(value=''))), HBox(children=(Textarea(value='', layout=Layout(height='500px', width='50%')), Textarea(value='', layout=Layout(height='500px', width='50%'))))))"
      ]
     },
     "metadata": {},
     "output_type": "display_data"
    }
   ],
   "source": [
    "Converter().browser()"
   ]
  },
  {
   "cell_type": "code",
   "execution_count": 3,
   "metadata": {},
   "outputs": [
    {
     "data": {
      "text/plain": [
       "19"
      ]
     },
     "execution_count": 3,
     "metadata": {},
     "output_type": "execute_result"
    }
   ],
   "source": [
    "len(article_list)"
   ]
  },
  {
   "cell_type": "code",
   "execution_count": 4,
   "metadata": {},
   "outputs": [],
   "source": [
    "#from database.work.y2015 import li2015a"
   ]
  },
  {
   "cell_type": "code",
   "execution_count": 5,
   "metadata": {},
   "outputs": [],
   "source": [
    "#int(getattr(li2015a, 'scopus', 0))"
   ]
  },
  {
   "cell_type": "code",
   "execution_count": 6,
   "metadata": {},
   "outputs": [
    {
     "name": "stdout",
     "output_type": "stream",
     "text": [
      "[{'name': 'Assessment and comparison of common software cost estimation modeling techniques', 'authors': 'Briand, Lionel C. and El Emam, Khaled and Maxwell, Katrina D. and Surmann, Dagmar and Wieczorek, Isabella', 'year': 1999, 'pp': '313-323', 'place1': 'International Conference on Software Engineering', 'entrytype': 'conference', 'place': 'ICSE', 'display': 'briand', 'pyref': 'briand1999a', 'note': 'cited By 124', 'ID': 'Briand1999313', '_work_type': 'Work'}, {'name': 'Replicated assessment and comparison of common software cost modeling techniques', 'authors': 'Briand, Lionel C. and Langley, Tristen and Wieczorek, Isabella', 'year': 2000, 'pp': '377-386', 'place1': 'International Conference on Software Engineering', 'entrytype': 'conference', 'place': 'ICSE', 'display': 'briand', 'pyref': 'briand2000a', 'note': 'cited By 137', 'ID': 'Briand2000377', '_work_type': 'Work'}, {'name': 'Software Engineering Metrics and Models', 'authors': 'Conte, S.D. and Dunsmore, H.E. and Shen, V.Y.', 'year': 1986, 'place1': 'Benjamin-Cummings', 'entrytype': 'article', 'place': 'BC', 'display': 'conte', 'pyref': 'conte1986a', 'note': 'cited By 710', 'ID': 'Conte1986', '_work_type': 'Work'}, {'name': 'The limits of CBR in software project estimation', 'authors': 'Delany, S.J. and Cunningham, P. and Wilke, W.', 'year': 1998, 'place1': 'German Workshop on Case-Based Reasoning', 'entrytype': 'article', 'display': 'delany', 'pyref': 'delany1998a', 'place': 'GWCBR', 'note': 'cited By 5', 'ID': 'Delany1998', '_work_type': 'Work'}, {'name': 'A comparison of software effort estimation techniques: Using function points with neural networks, case-based reasoning and regression models', 'authors': 'Finnie, G.R. and Wittig, G.E. and Desharnais, J.-M.', 'year': 1997, 'pp': '281-289', 'place1': 'Journal of Systems and Software', 'entrytype': 'article', 'place': 'JSS', 'display': 'finnie', 'pyref': 'finnie1997a', 'volume': '39', 'number': '3', 'note': 'cited By 151', 'ID': 'Finnie1997281', '_work_type': 'Work'}, {'name': 'A comparison of techniques for developing predictive models of software metrics', 'authors': 'Gray, A.R. and MacDonell, S.G.', 'year': 1997, 'pp': '425-437', 'place1': 'Information and Software Technology', 'entrytype': 'article', 'place': 'IST', 'display': 'gray', 'pyref': 'gray1997a', 'volume': '39', 'number': '6', 'doi': '10.1016/S0950-5849(96)00006-7', 'note': 'cited By 94', 'ID': 'Gray1997425', '_work_type': 'Work'}, {'name': 'Regression with dummy variables', 'authors': 'Hardy, M.A.', 'year': 1993, 'place1': 'Regression with Dummy Variables', 'entrytype': 'article', 'display': 'hardy', 'pyref': 'hardy1993a', 'note': 'cited By 377', 'ID': 'Hardy1993', '_work_type': 'Work'}, {'name': 'Function point sizing: Structure, validity and applicability', 'authors': 'Jeffery, R. and Stathis, J.', 'year': 1996, 'pp': '11-30', 'place1': 'Empirical Software Engineering', 'entrytype': 'article', 'place': 'ESE', 'display': 'jeffery', 'pyref': 'jeffery1996a', 'volume': '1', 'number': '1', 'note': 'cited By 31', 'ID': 'Jeffery199611', '_work_type': 'Work'}, {'name': 'Empirical study of the correlations between function point elements', 'authors': 'Lokan, Chris J.', 'year': 1999, 'pp': '200-206', 'place1': 'International Software Metrics Symposium', 'entrytype': 'conference', 'place': 'ISMS', 'display': 'lokan', 'pyref': 'lokan1999a', 'note': 'cited By 20', 'ID': 'Lokan1999200', '_work_type': 'Work'}, {'name': 'Performance evaluation of general and company specific models in software development effort estimation', 'authors': 'Maxwell, K. and Van Wassenhove, L. and Dutta, S.', 'year': 1999, 'pp': '787-803', 'place1': 'Management Science', 'entrytype': 'article', 'place': 'MS', 'display': 'maxwell', 'pyref': 'maxwell1999a', 'volume': '45', 'number': '6', 'note': 'cited By 46', 'ID': 'Maxwell1999787', '_work_type': 'Work'}, {'name': 'Benchmarking software development productivity', 'authors': 'Maxwell, K.D. and Forselius, P.', 'year': 2000, 'pp': '80-88', 'place1': 'IEEE Software', 'entrytype': 'article', 'place': 'IEEES', 'display': 'maxwell', 'pyref': 'maxwell2000a', 'volume': '17', 'number': '1', 'doi': '10.1109/52.820015', 'note': 'cited By 67', 'ID': 'Maxwell200080', '_work_type': 'Work'}, {'name': 'Examining the feasibility of a case-based reasoning model for software effort estimation', 'authors': 'Mukhopadhyay, T. and Vicinanza, S.S. and Prietula, M.J.', 'year': 1992, 'pp': '155-170', 'place1': 'Management Information Systems', 'entrytype': 'article', 'place': 'MIS', 'display': 'mukhopadhyay', 'pyref': 'mukhopadhyay1992a', 'volume': '16', 'number': '2', 'note': 'cited By 147', 'ID': 'Mukhopadhyay1992155', '_work_type': 'Work'}, {'name': 'Comparative Study of Project Effort Estimation Methods by Using Public Domain Multi-Organizational and Organization-specific Project Data', 'authors': 'Ruhe, M.', 'year': 2000, 'place1': 'CAESAR', 'entrytype': 'article', 'display': 'ruhe', 'pyref': 'ruhe2000a', 'note': 'cited By 1', 'ID': 'Ruhe2000', '_work_type': 'Work'}, {'name': 'Mathematical Statistics and Data Analysis', 'authors': 'Rice, J.A.', 'year': 1995, 'place1': 'Duxbury Press', 'entrytype': 'article', 'display': 'rice', 'pyref': 'rice1995a', 'note': 'cited By 1987', 'ID': 'Rice1995', '_work_type': 'Work'}, {'name': 'Understanding regression analysis: An introductory guide', 'authors': 'Schroeder, L. and Sjoquist, D. and Stephan, P.', 'year': 1986, 'place1': 'Quantitative Applications in the Social Sciences', 'entrytype': 'article', 'display': 'schroeder', 'pyref': 'schroeder1986a', 'number': '57', 'note': 'cited By 6', 'ID': 'Schroeder1986', '_work_type': 'Work'}, {'name': 'Estimating software project effort using analogies', 'authors': 'Shepperd, M. and Schofield, C.', 'year': 1997, 'pp': '736-743', 'place1': 'IEEE Transactions on Software Engineering', 'entrytype': 'article', 'place': 'ToSE', 'display': 'shepperd', 'pyref': 'shepperd1997a', 'volume': '23', 'number': '11', 'doi': '10.1109/32.637387', 'note': 'cited By 530', 'ID': 'Shepperd1997736', '_work_type': 'Work'}, {'name': 'Software Project Estimation: a Workbook for Macro-Estimation of Software Development Effort and Duration', 'authors': 'Hill, P', 'year': 1999, 'place1': 'ISBSG', 'entrytype': 'article', 'display': 'hill', 'pyref': 'hill1999a', 'note': 'cited By 1', 'ID': 'Hill1999', '_work_type': 'Work'}, {'name': 'Empirical study of analogy-based software effort estimation', 'authors': 'Walkerden, F. and Jeffery, R.', 'year': 1999, 'pp': '135-158', 'place1': 'Empirical Software Engineering', 'entrytype': 'article', 'place': 'ESE', 'display': 'walkerden', 'pyref': 'walkerden1999a', 'volume': '4', 'number': '2', 'doi': '10.1023/A:1009872202035', 'note': 'cited By 142', 'ID': 'Walkerden1999135', '_work_type': 'Work'}, {'name': 'Computer Systems That Learn\\njournal=Morgan Kaufmann', 'authors': 'Weiss, S.M. and Kulikowski, C.A.', 'year': 1991, 'place1': '', 'entrytype': 'article', 'display': 'weiss', 'pyref': 'weiss1991a', 'note': 'cited By 1150', 'ID': 'Weiss1991', '_work_type': 'Work'}]\n"
     ]
    }
   ],
   "source": [
    "print(article_list)"
   ]
  },
  {
   "cell_type": "code",
   "execution_count": null,
   "metadata": {
    "collapsed": true
   },
   "outputs": [],
   "source": []
  },
  {
   "cell_type": "code",
   "execution_count": 7,
   "metadata": {},
   "outputs": [
    {
     "data": {
      "application/vnd.jupyter.widget-view+json": {
       "model_id": "e1c09916e556465a8c92b1fa55a4c682",
       "version_major": 2,
       "version_minor": 0
      },
      "text/html": [
       "<p>Failed to display Jupyter Widget of type <code>VBox</code>.</p>\n",
       "<p>\n",
       "  If you're reading this message in Jupyter Notebook or JupyterLab, it may mean\n",
       "  that the widgets JavaScript is still loading. If this message persists, it\n",
       "  likely means that the widgets JavaScript library is either not installed or\n",
       "  not enabled. See the <a href=\"https://ipywidgets.readthedocs.io/en/stable/user_install.html\">Jupyter\n",
       "  Widgets Documentation</a> for setup instructions.\n",
       "</p>\n",
       "<p>\n",
       "  If you're reading this message in another notebook frontend (for example, a static\n",
       "  rendering on GitHub or <a href=\"https://nbviewer.jupyter.org/\">NBViewer</a>),\n",
       "  it may mean that your frontend doesn't currently support widgets.\n",
       "</p>\n"
      ],
      "text/plain": [
       "VBox(children=(HBox(children=(Button(description='Previous Article', disabled=True, icon='caret-left', style=ButtonStyle()), Button(description='Reload Article', icon='refresh', style=ButtonStyle()), Button(description='Next Article', icon='caret-right', style=ButtonStyle()))), HBox(children=(Button(description='Unrelated: Scripts', style=ButtonStyle()), Button(description='Unrelated: Provenance', style=ButtonStyle()), Button(description='Both', style=ButtonStyle()), Button(description='Ok', style=ButtonStyle()))), HBox(children=(Dropdown(description='Type', options=('Work', 'WorkSnowball', 'WorkForward', 'WorkBackward', 'WorkOk', 'WorkUnrelated', 'WorkNoFile', 'WorkLang', 'Site', 'Email'), value='Work'), ToggleButton(value=False, description='File'))), HBox(children=(Text(value='', description='Due'), Text(value='', description='Place'))), HBox(children=(Text(value='', description='Year'), Text(value='', description='Prefix Var'))), HBox(children=(Text(value='', description='PDFPage'), Text(value='', description='Related'))), HBox(children=(Text(value='', description='Display'), Text(value='', description='Summary'))), HBox(children=(Text(value='', description='Star'), Text(value='', description='Link'))), HBox(children=(Button(description='Reload Article', icon='refresh', style=ButtonStyle()), IntSlider(value=0, max=18), Label(value='1/19'))), Output()))"
      ]
     },
     "metadata": {},
     "output_type": "display_data"
    },
    {
     "data": {
      "application/javascript": [
       "$('span:contains(\"# Temp\")').closest('.cell').remove();"
      ],
      "text/plain": [
       "<IPython.core.display.Javascript object>"
      ]
     },
     "metadata": {},
     "output_type": "display_data"
    },
    {
     "data": {
      "application/javascript": [
       "\n",
       "        $('span:contains(\"# Temp\")').closest('.cell').remove();\n",
       "        var code = IPython.notebook.insert_cell_below('code');\n",
       "        code.set_text(atob(\"IyBUZW1wCmluc2VydCgnJycKREIoQ2l0YXRpb24oCiAgICBqZWZmZXJ5MjAwMGEsIGJyaWFuZDE5OTlhLCByZWY9IiIsCiAgICBjb250ZXh0cz1bCgogICAgXSwKKSkKCicnJywgY2l0YXRpb25zPSdqZWZmZXJ5MjAwMGEnKTs=\"));\n",
       "    "
      ],
      "text/plain": [
       "<IPython.core.display.Javascript object>"
      ]
     },
     "metadata": {},
     "output_type": "display_data"
    },
    {
     "data": {
      "application/javascript": [
       "$('span:contains(\"# Temp\")').closest('.cell').remove();"
      ],
      "text/plain": [
       "<IPython.core.display.Javascript object>"
      ]
     },
     "metadata": {},
     "output_type": "display_data"
    },
    {
     "data": {
      "application/javascript": [
       "\n",
       "        $('span:contains(\"# Temp\")').closest('.cell').remove();\n",
       "        var code = IPython.notebook.insert_cell_below('code');\n",
       "        code.set_text(atob(\"IyBUZW1wCmluc2VydCgnJycKREIoQ2l0YXRpb24oCiAgICBqZWZmZXJ5MjAwMGEsIGJyaWFuZDIwMDBhLCByZWY9IiIsCiAgICBjb250ZXh0cz1bCgogICAgXSwKKSkKCicnJywgY2l0YXRpb25zPSdqZWZmZXJ5MjAwMGEnKTs=\"));\n",
       "    "
      ],
      "text/plain": [
       "<IPython.core.display.Javascript object>"
      ]
     },
     "metadata": {},
     "output_type": "display_data"
    },
    {
     "data": {
      "application/javascript": [
       "$('span:contains(\"# Temp\")').closest('.cell').remove();"
      ],
      "text/plain": [
       "<IPython.core.display.Javascript object>"
      ]
     },
     "metadata": {},
     "output_type": "display_data"
    },
    {
     "data": {
      "application/javascript": [
       "\n",
       "        $('span:contains(\"# Temp\")').closest('.cell').remove();\n",
       "        var code = IPython.notebook.insert_cell_below('code');\n",
       "        code.set_text(atob(\"IyBUZW1wCmluc2VydCgnJycKREIoQ2l0YXRpb24oCiAgICBqZWZmZXJ5MjAwMGEsIGJyaWFuZDIwMDBhLCByZWY9IiIsCiAgICBjb250ZXh0cz1bCgogICAgXSwKKSkKCicnJywgY2l0YXRpb25zPSdqZWZmZXJ5MjAwMGEnKTs=\"));\n",
       "    "
      ],
      "text/plain": [
       "<IPython.core.display.Javascript object>"
      ]
     },
     "metadata": {},
     "output_type": "display_data"
    },
    {
     "data": {
      "application/javascript": [
       "$('span:contains(\"# Temp\")').closest('.cell').remove();"
      ],
      "text/plain": [
       "<IPython.core.display.Javascript object>"
      ]
     },
     "metadata": {},
     "output_type": "display_data"
    },
    {
     "data": {
      "application/javascript": [
       "\n",
       "        $('span:contains(\"# Temp\")').closest('.cell').remove();\n",
       "        var code = IPython.notebook.insert_cell_below('code');\n",
       "        code.set_text(atob(\"IyBUZW1wCmluc2VydCgnJycKREIoQ2l0YXRpb24oCiAgICBqZWZmZXJ5MjAwMGEsIGJyaWFuZDIwMDBhLCByZWY9IiIsCiAgICBjb250ZXh0cz1bCgogICAgXSwKKSkKCicnJywgY2l0YXRpb25zPSdqZWZmZXJ5MjAwMGEnKTs=\"));\n",
       "    "
      ],
      "text/plain": [
       "<IPython.core.display.Javascript object>"
      ]
     },
     "metadata": {},
     "output_type": "display_data"
    },
    {
     "data": {
      "application/javascript": [
       "$('span:contains(\"# Temp\")').closest('.cell').remove();"
      ],
      "text/plain": [
       "<IPython.core.display.Javascript object>"
      ]
     },
     "metadata": {},
     "output_type": "display_data"
    },
    {
     "data": {
      "application/javascript": [
       "\n",
       "        $('span:contains(\"# Temp\")').closest('.cell').remove();\n",
       "        var code = IPython.notebook.insert_cell_below('code');\n",
       "        code.set_text(atob(\"IyBUZW1wCmluc2VydCgnJycKREIoQ2l0YXRpb24oCiAgICBqZWZmZXJ5MjAwMGEsIGNvbnRlMTk4NmEsIHJlZj0iIiwKICAgIGNvbnRleHRzPVsKCiAgICBdLAopKQoKJycnLCBjaXRhdGlvbnM9J2plZmZlcnkyMDAwYScpOw==\"));\n",
       "    "
      ],
      "text/plain": [
       "<IPython.core.display.Javascript object>"
      ]
     },
     "metadata": {},
     "output_type": "display_data"
    },
    {
     "data": {
      "application/javascript": [
       "$('span:contains(\"# Temp\")').closest('.cell').remove();"
      ],
      "text/plain": [
       "<IPython.core.display.Javascript object>"
      ]
     },
     "metadata": {},
     "output_type": "display_data"
    },
    {
     "data": {
      "application/javascript": [
       "\n",
       "        $('span:contains(\"# Temp\")').closest('.cell').remove();\n",
       "        var code = IPython.notebook.insert_cell_below('code');\n",
       "        code.set_text(atob(\"IyBUZW1wCmluc2VydCgnJycKREIoQ2l0YXRpb24oCiAgICBqZWZmZXJ5MjAwMGEsIGNvbnRlMTk4NmEsIHJlZj0iIiwKICAgIGNvbnRleHRzPVsKCiAgICBdLAopKQoKJycnLCBjaXRhdGlvbnM9J2plZmZlcnkyMDAwYScpOw==\"));\n",
       "    "
      ],
      "text/plain": [
       "<IPython.core.display.Javascript object>"
      ]
     },
     "metadata": {},
     "output_type": "display_data"
    },
    {
     "data": {
      "application/javascript": [
       "$('span:contains(\"# Temp\")').closest('.cell').remove();"
      ],
      "text/plain": [
       "<IPython.core.display.Javascript object>"
      ]
     },
     "metadata": {},
     "output_type": "display_data"
    },
    {
     "data": {
      "application/javascript": [
       "\n",
       "        $('span:contains(\"# Temp\")').closest('.cell').remove();\n",
       "        var code = IPython.notebook.insert_cell_below('code');\n",
       "        code.set_text(atob(\"IyBUZW1wCmluc2VydCgnJycKREIoQ2l0YXRpb24oCiAgICBqZWZmZXJ5MjAwMGEsIGNvbnRlMTk4NmEsIHJlZj0iIiwKICAgIGNvbnRleHRzPVsKCiAgICBdLAopKQoKJycnLCBjaXRhdGlvbnM9J2plZmZlcnkyMDAwYScpOw==\"));\n",
       "    "
      ],
      "text/plain": [
       "<IPython.core.display.Javascript object>"
      ]
     },
     "metadata": {},
     "output_type": "display_data"
    },
    {
     "data": {
      "application/javascript": [
       "$('span:contains(\"# Temp\")').closest('.cell').remove();"
      ],
      "text/plain": [
       "<IPython.core.display.Javascript object>"
      ]
     },
     "metadata": {},
     "output_type": "display_data"
    },
    {
     "data": {
      "application/javascript": [
       "\n",
       "        $('span:contains(\"# Temp\")').closest('.cell').remove();\n",
       "        var code = IPython.notebook.insert_cell_below('code');\n",
       "        code.set_text(atob(\"IyBUZW1wCmluc2VydCgnJycKZGVsYW55MTk5OGEgPSBEQihXb3JrT2soCiAgICAxOTk4LCAiVGhlIGxpbWl0cyBvZiBDQlIgaW4gc29mdHdhcmUgcHJvamVjdCBlc3RpbWF0aW9uIiwKICAgIGRpc3BsYXk9ImRlbGFueSIsCiAgICBhdXRob3JzPSJEZWxhbnksIFMuSi4gYW5kIEN1bm5pbmdoYW0sIFAuIGFuZCBXaWxrZSwgVy4iLAogICAgcGxhY2U9R1dDQlIsCiAgICBlbnRyeXR5cGU9ImFydGljbGUiLAogICAgbm90ZT0iY2l0ZWQgQnkgNSIsCiAgICBJRD0iRGVsYW55MTk5OCIsCikpCgpEQihDaXRhdGlvbigKICAgIGplZmZlcnkyMDAwYSwgZGVsYW55MTk5OGEsIHJlZj0iIiwKICAgIGNvbnRleHRzPVsKCiAgICBdLAopKQoKJycnLCBjaXRhdGlvbnM9J2plZmZlcnkyMDAwYScpOw==\"));\n",
       "    "
      ],
      "text/plain": [
       "<IPython.core.display.Javascript object>"
      ]
     },
     "metadata": {},
     "output_type": "display_data"
    },
    {
     "data": {
      "application/javascript": [
       "$('span:contains(\"# Temp\")').closest('.cell').remove();"
      ],
      "text/plain": [
       "<IPython.core.display.Javascript object>"
      ]
     },
     "metadata": {},
     "output_type": "display_data"
    },
    {
     "data": {
      "application/javascript": [
       "\n",
       "        $('span:contains(\"# Temp\")').closest('.cell').remove();\n",
       "        var code = IPython.notebook.insert_cell_below('code');\n",
       "        code.set_text(atob(\"IyBUZW1wCmluc2VydCgnJycKZGVsYW55MTk5OGEgPSBEQihXb3JrKAogICAgMTk5OCwgIlRoZSBsaW1pdHMgb2YgQ0JSIGluIHNvZnR3YXJlIHByb2plY3QgZXN0aW1hdGlvbiIsCiAgICBkaXNwbGF5PSJkZWxhbnkiLAogICAgYXV0aG9ycz0iRGVsYW55LCBTLkouIGFuZCBDdW5uaW5naGFtLCBQLiBhbmQgV2lsa2UsIFcuIiwKICAgIHBsYWNlPUdXQ0JSLAogICAgZW50cnl0eXBlPSJhcnRpY2xlIiwKICAgIG5vdGU9ImNpdGVkIEJ5IDUiLAogICAgSUQ9IkRlbGFueTE5OTgiLAopKQoKREIoQ2l0YXRpb24oCiAgICBqZWZmZXJ5MjAwMGEsIGRlbGFueTE5OThhLCByZWY9IiIsCiAgICBjb250ZXh0cz1bCgogICAgXSwKKSkKCicnJywgY2l0YXRpb25zPSdqZWZmZXJ5MjAwMGEnKTs=\"));\n",
       "    "
      ],
      "text/plain": [
       "<IPython.core.display.Javascript object>"
      ]
     },
     "metadata": {},
     "output_type": "display_data"
    },
    {
     "data": {
      "application/javascript": [
       "$('span:contains(\"# Temp\")').closest('.cell').remove();"
      ],
      "text/plain": [
       "<IPython.core.display.Javascript object>"
      ]
     },
     "metadata": {},
     "output_type": "display_data"
    },
    {
     "data": {
      "application/javascript": [
       "\n",
       "        $('span:contains(\"# Temp\")').closest('.cell').remove();\n",
       "        var code = IPython.notebook.insert_cell_below('code');\n",
       "        code.set_text(atob(\"IyBUZW1wCmluc2VydCgnJycKZGVsYW55MTk5OGEgPSBEQihXb3JrT2soCiAgICAxOTk4LCAiVGhlIGxpbWl0cyBvZiBDQlIgaW4gc29mdHdhcmUgcHJvamVjdCBlc3RpbWF0aW9uIiwKICAgIGRpc3BsYXk9ImRlbGFueSIsCiAgICBhdXRob3JzPSJEZWxhbnksIFMuSi4gYW5kIEN1bm5pbmdoYW0sIFAuIGFuZCBXaWxrZSwgVy4iLAogICAgcGxhY2U9R1dDQlIsCiAgICBlbnRyeXR5cGU9ImFydGljbGUiLAogICAgbm90ZT0iY2l0ZWQgQnkgNSIsCiAgICBJRD0iRGVsYW55MTk5OCIsCikpCgpEQihDaXRhdGlvbigKICAgIGplZmZlcnkyMDAwYSwgZGVsYW55MTk5OGEsIHJlZj0iIiwKICAgIGNvbnRleHRzPVsKCiAgICBdLAopKQoKJycnLCBjaXRhdGlvbnM9J2plZmZlcnkyMDAwYScpOw==\"));\n",
       "    "
      ],
      "text/plain": [
       "<IPython.core.display.Javascript object>"
      ]
     },
     "metadata": {},
     "output_type": "display_data"
    },
    {
     "data": {
      "application/javascript": [
       "$('span:contains(\"# Temp\")').closest('.cell').remove();"
      ],
      "text/plain": [
       "<IPython.core.display.Javascript object>"
      ]
     },
     "metadata": {},
     "output_type": "display_data"
    },
    {
     "data": {
      "application/javascript": [
       "\n",
       "        $('span:contains(\"# Temp\")').closest('.cell').remove();\n",
       "        var code = IPython.notebook.insert_cell_below('code');\n",
       "        code.set_text(atob(\"IyBUZW1wCmluc2VydCgnJycKZmlubmllMTk5N2EgPSBEQihXb3JrT2soCiAgICAxOTk3LCAiQSBjb21wYXJpc29uIG9mIHNvZnR3YXJlIGVmZm9ydCBlc3RpbWF0aW9uIHRlY2huaXF1ZXM6IFVzaW5nIGZ1bmN0aW9uIHBvaW50cyB3aXRoIG5ldXJhbCBuZXR3b3JrcywgY2FzZS1iYXNlZCByZWFzb25pbmcgYW5kIHJlZ3Jlc3Npb24gbW9kZWxzIiwKICAgIGRpc3BsYXk9ImZpbm5pZSIsCiAgICBhdXRob3JzPSJGaW5uaWUsIEcuUi4gYW5kIFdpdHRpZywgRy5FLiBhbmQgRGVzaGFybmFpcywgSi4tTS4iLAogICAgcGxhY2U9SlNTLAogICAgcHA9IjI4MS0yODkiLAogICAgZW50cnl0eXBlPSJhcnRpY2xlIiwKICAgIHZvbHVtZT0iMzkiLAogICAgbnVtYmVyPSIzIiwKICAgIG5vdGU9ImNpdGVkIEJ5IDE1MSIsCiAgICBJRD0iRmlubmllMTk5NzI4MSIsCikpCgpEQihDaXRhdGlvbigKICAgIGplZmZlcnkyMDAwYSwgZmlubmllMTk5N2EsIHJlZj0iIiwKICAgIGNvbnRleHRzPVsKCiAgICBdLAopKQoKJycnLCBjaXRhdGlvbnM9J2plZmZlcnkyMDAwYScpOw==\"));\n",
       "    "
      ],
      "text/plain": [
       "<IPython.core.display.Javascript object>"
      ]
     },
     "metadata": {},
     "output_type": "display_data"
    },
    {
     "data": {
      "application/javascript": [
       "$('span:contains(\"# Temp\")').closest('.cell').remove();"
      ],
      "text/plain": [
       "<IPython.core.display.Javascript object>"
      ]
     },
     "metadata": {},
     "output_type": "display_data"
    },
    {
     "data": {
      "application/javascript": [
       "\n",
       "        $('span:contains(\"# Temp\")').closest('.cell').remove();\n",
       "        var code = IPython.notebook.insert_cell_below('code');\n",
       "        code.set_text(atob(\"IyBUZW1wCmluc2VydCgnJycKZmlubmllMTk5N2EgPSBEQihXb3JrKAogICAgMTk5NywgIkEgY29tcGFyaXNvbiBvZiBzb2Z0d2FyZSBlZmZvcnQgZXN0aW1hdGlvbiB0ZWNobmlxdWVzOiBVc2luZyBmdW5jdGlvbiBwb2ludHMgd2l0aCBuZXVyYWwgbmV0d29ya3MsIGNhc2UtYmFzZWQgcmVhc29uaW5nIGFuZCByZWdyZXNzaW9uIG1vZGVscyIsCiAgICBkaXNwbGF5PSJmaW5uaWUiLAogICAgYXV0aG9ycz0iRmlubmllLCBHLlIuIGFuZCBXaXR0aWcsIEcuRS4gYW5kIERlc2hhcm5haXMsIEouLU0uIiwKICAgIHBsYWNlPUpTUywKICAgIHBwPSIyODEtMjg5IiwKICAgIGVudHJ5dHlwZT0iYXJ0aWNsZSIsCiAgICB2b2x1bWU9IjM5IiwKICAgIG51bWJlcj0iMyIsCiAgICBub3RlPSJjaXRlZCBCeSAxNTEiLAogICAgSUQ9IkZpbm5pZTE5OTcyODEiLAopKQoKREIoQ2l0YXRpb24oCiAgICBqZWZmZXJ5MjAwMGEsIGZpbm5pZTE5OTdhLCByZWY9IiIsCiAgICBjb250ZXh0cz1bCgogICAgXSwKKSkKCicnJywgY2l0YXRpb25zPSdqZWZmZXJ5MjAwMGEnKTs=\"));\n",
       "    "
      ],
      "text/plain": [
       "<IPython.core.display.Javascript object>"
      ]
     },
     "metadata": {},
     "output_type": "display_data"
    },
    {
     "data": {
      "application/javascript": [
       "$('span:contains(\"# Temp\")').closest('.cell').remove();"
      ],
      "text/plain": [
       "<IPython.core.display.Javascript object>"
      ]
     },
     "metadata": {},
     "output_type": "display_data"
    },
    {
     "data": {
      "application/javascript": [
       "\n",
       "        $('span:contains(\"# Temp\")').closest('.cell').remove();\n",
       "        var code = IPython.notebook.insert_cell_below('code');\n",
       "        code.set_text(atob(\"IyBUZW1wCmluc2VydCgnJycKZmlubmllMTk5N2EgPSBEQihXb3JrT2soCiAgICAxOTk3LCAiQSBjb21wYXJpc29uIG9mIHNvZnR3YXJlIGVmZm9ydCBlc3RpbWF0aW9uIHRlY2huaXF1ZXM6IFVzaW5nIGZ1bmN0aW9uIHBvaW50cyB3aXRoIG5ldXJhbCBuZXR3b3JrcywgY2FzZS1iYXNlZCByZWFzb25pbmcgYW5kIHJlZ3Jlc3Npb24gbW9kZWxzIiwKICAgIGRpc3BsYXk9ImZpbm5pZSIsCiAgICBhdXRob3JzPSJGaW5uaWUsIEcuUi4gYW5kIFdpdHRpZywgRy5FLiBhbmQgRGVzaGFybmFpcywgSi4tTS4iLAogICAgcGxhY2U9SlNTLAogICAgcHA9IjI4MS0yODkiLAogICAgZW50cnl0eXBlPSJhcnRpY2xlIiwKICAgIHZvbHVtZT0iMzkiLAogICAgbnVtYmVyPSIzIiwKICAgIG5vdGU9ImNpdGVkIEJ5IDE1MSIsCiAgICBJRD0iRmlubmllMTk5NzI4MSIsCikpCgpEQihDaXRhdGlvbigKICAgIGplZmZlcnkyMDAwYSwgZmlubmllMTk5N2EsIHJlZj0iIiwKICAgIGNvbnRleHRzPVsKCiAgICBdLAopKQoKJycnLCBjaXRhdGlvbnM9J2plZmZlcnkyMDAwYScpOw==\"));\n",
       "    "
      ],
      "text/plain": [
       "<IPython.core.display.Javascript object>"
      ]
     },
     "metadata": {},
     "output_type": "display_data"
    },
    {
     "data": {
      "application/javascript": [
       "$('span:contains(\"# Temp\")').closest('.cell').remove();"
      ],
      "text/plain": [
       "<IPython.core.display.Javascript object>"
      ]
     },
     "metadata": {},
     "output_type": "display_data"
    },
    {
     "data": {
      "application/javascript": [
       "\n",
       "        $('span:contains(\"# Temp\")').closest('.cell').remove();\n",
       "        var code = IPython.notebook.insert_cell_below('code');\n",
       "        code.set_text(atob(\"IyBUZW1wCmluc2VydCgnJycKZ3JheTE5OTdhID0gREIoV29ya09rKAogICAgMTk5NywgIkEgY29tcGFyaXNvbiBvZiB0ZWNobmlxdWVzIGZvciBkZXZlbG9waW5nIHByZWRpY3RpdmUgbW9kZWxzIG9mIHNvZnR3YXJlIG1ldHJpY3MiLAogICAgZGlzcGxheT0iZ3JheSIsCiAgICBhdXRob3JzPSJHcmF5LCBBLlIuIGFuZCBNYWNEb25lbGwsIFMuRy4iLAogICAgcGxhY2U9SVNULAogICAgcHA9IjQyNS00MzciLAogICAgZW50cnl0eXBlPSJhcnRpY2xlIiwKICAgIHZvbHVtZT0iMzkiLAogICAgbnVtYmVyPSI2IiwKICAgIGRvaT0iMTAuMTAxNi9TMDk1MC01ODQ5KDk2KTAwMDA2LTciLAogICAgbm90ZT0iY2l0ZWQgQnkgOTQiLAogICAgSUQ9IkdyYXkxOTk3NDI1IiwKKSkKCkRCKENpdGF0aW9uKAogICAgamVmZmVyeTIwMDBhLCBncmF5MTk5N2EsIHJlZj0iIiwKICAgIGNvbnRleHRzPVsKCiAgICBdLAopKQoKJycnLCBjaXRhdGlvbnM9J2plZmZlcnkyMDAwYScpOw==\"));\n",
       "    "
      ],
      "text/plain": [
       "<IPython.core.display.Javascript object>"
      ]
     },
     "metadata": {},
     "output_type": "display_data"
    },
    {
     "data": {
      "application/javascript": [
       "$('span:contains(\"# Temp\")').closest('.cell').remove();"
      ],
      "text/plain": [
       "<IPython.core.display.Javascript object>"
      ]
     },
     "metadata": {},
     "output_type": "display_data"
    },
    {
     "data": {
      "application/javascript": [
       "\n",
       "        $('span:contains(\"# Temp\")').closest('.cell').remove();\n",
       "        var code = IPython.notebook.insert_cell_below('code');\n",
       "        code.set_text(atob(\"IyBUZW1wCmluc2VydCgnJycKZ3JheTE5OTdhID0gREIoV29yaygKICAgIDE5OTcsICJBIGNvbXBhcmlzb24gb2YgdGVjaG5pcXVlcyBmb3IgZGV2ZWxvcGluZyBwcmVkaWN0aXZlIG1vZGVscyBvZiBzb2Z0d2FyZSBtZXRyaWNzIiwKICAgIGRpc3BsYXk9ImdyYXkiLAogICAgYXV0aG9ycz0iR3JheSwgQS5SLiBhbmQgTWFjRG9uZWxsLCBTLkcuIiwKICAgIHBsYWNlPUlTVCwKICAgIHBwPSI0MjUtNDM3IiwKICAgIGVudHJ5dHlwZT0iYXJ0aWNsZSIsCiAgICB2b2x1bWU9IjM5IiwKICAgIG51bWJlcj0iNiIsCiAgICBkb2k9IjEwLjEwMTYvUzA5NTAtNTg0OSg5NikwMDAwNi03IiwKICAgIG5vdGU9ImNpdGVkIEJ5IDk0IiwKICAgIElEPSJHcmF5MTk5NzQyNSIsCikpCgpEQihDaXRhdGlvbigKICAgIGplZmZlcnkyMDAwYSwgZ3JheTE5OTdhLCByZWY9IiIsCiAgICBjb250ZXh0cz1bCgogICAgXSwKKSkKCicnJywgY2l0YXRpb25zPSdqZWZmZXJ5MjAwMGEnKTs=\"));\n",
       "    "
      ],
      "text/plain": [
       "<IPython.core.display.Javascript object>"
      ]
     },
     "metadata": {},
     "output_type": "display_data"
    },
    {
     "data": {
      "application/javascript": [
       "$('span:contains(\"# Temp\")').closest('.cell').remove();"
      ],
      "text/plain": [
       "<IPython.core.display.Javascript object>"
      ]
     },
     "metadata": {},
     "output_type": "display_data"
    },
    {
     "data": {
      "application/javascript": [
       "\n",
       "        $('span:contains(\"# Temp\")').closest('.cell').remove();\n",
       "        var code = IPython.notebook.insert_cell_below('code');\n",
       "        code.set_text(atob(\"IyBUZW1wCmluc2VydCgnJycKZ3JheTE5OTdhID0gREIoV29ya09rKAogICAgMTk5NywgIkEgY29tcGFyaXNvbiBvZiB0ZWNobmlxdWVzIGZvciBkZXZlbG9waW5nIHByZWRpY3RpdmUgbW9kZWxzIG9mIHNvZnR3YXJlIG1ldHJpY3MiLAogICAgZGlzcGxheT0iZ3JheSIsCiAgICBhdXRob3JzPSJHcmF5LCBBLlIuIGFuZCBNYWNEb25lbGwsIFMuRy4iLAogICAgcGxhY2U9SVNULAogICAgcHA9IjQyNS00MzciLAogICAgZW50cnl0eXBlPSJhcnRpY2xlIiwKICAgIHZvbHVtZT0iMzkiLAogICAgbnVtYmVyPSI2IiwKICAgIGRvaT0iMTAuMTAxNi9TMDk1MC01ODQ5KDk2KTAwMDA2LTciLAogICAgbm90ZT0iY2l0ZWQgQnkgOTQiLAogICAgSUQ9IkdyYXkxOTk3NDI1IiwKKSkKCkRCKENpdGF0aW9uKAogICAgamVmZmVyeTIwMDBhLCBncmF5MTk5N2EsIHJlZj0iIiwKICAgIGNvbnRleHRzPVsKCiAgICBdLAopKQoKJycnLCBjaXRhdGlvbnM9J2plZmZlcnkyMDAwYScpOw==\"));\n",
       "    "
      ],
      "text/plain": [
       "<IPython.core.display.Javascript object>"
      ]
     },
     "metadata": {},
     "output_type": "display_data"
    },
    {
     "data": {
      "application/javascript": [
       "$('span:contains(\"# Temp\")').closest('.cell').remove();"
      ],
      "text/plain": [
       "<IPython.core.display.Javascript object>"
      ]
     },
     "metadata": {},
     "output_type": "display_data"
    },
    {
     "data": {
      "application/javascript": [
       "\n",
       "        $('span:contains(\"# Temp\")').closest('.cell').remove();\n",
       "        var code = IPython.notebook.insert_cell_below('code');\n",
       "        code.set_text(atob(\"IyBUZW1wCmluc2VydCgnJycKaGFyZHkxOTkzYSA9IERCKFdvcmtPaygKICAgIDE5OTMsICJSZWdyZXNzaW9uIHdpdGggZHVtbXkgdmFyaWFibGVzIiwKICAgIGRpc3BsYXk9ImhhcmR5IiwKICAgIGF1dGhvcnM9IkhhcmR5LCBNLkEuIiwKICAgIHBsYWNlMT0iUmVncmVzc2lvbiB3aXRoIER1bW15IFZhcmlhYmxlcyIsCiAgICBlbnRyeXR5cGU9ImFydGljbGUiLAogICAgbm90ZT0iY2l0ZWQgQnkgMzc3IiwKICAgIElEPSJIYXJkeTE5OTMiLAopKQoKREIoQ2l0YXRpb24oCiAgICBqZWZmZXJ5MjAwMGEsIGhhcmR5MTk5M2EsIHJlZj0iIiwKICAgIGNvbnRleHRzPVsKCiAgICBdLAopKQoKJycnLCBjaXRhdGlvbnM9J2plZmZlcnkyMDAwYScpOw==\"));\n",
       "    "
      ],
      "text/plain": [
       "<IPython.core.display.Javascript object>"
      ]
     },
     "metadata": {},
     "output_type": "display_data"
    },
    {
     "data": {
      "application/javascript": [
       "$('span:contains(\"# Temp\")').closest('.cell').remove();"
      ],
      "text/plain": [
       "<IPython.core.display.Javascript object>"
      ]
     },
     "metadata": {},
     "output_type": "display_data"
    },
    {
     "data": {
      "application/javascript": [
       "\n",
       "        $('span:contains(\"# Temp\")').closest('.cell').remove();\n",
       "        var code = IPython.notebook.insert_cell_below('code');\n",
       "        code.set_text(atob(\"IyBUZW1wCmluc2VydCgnJycKaGFyZHkxOTkzYSA9IERCKFdvcmsoCiAgICAxOTkzLCAiUmVncmVzc2lvbiB3aXRoIGR1bW15IHZhcmlhYmxlcyIsCiAgICBkaXNwbGF5PSJoYXJkeSIsCiAgICBhdXRob3JzPSJIYXJkeSwgTS5BLiIsCiAgICBwbGFjZTE9IlJlZ3Jlc3Npb24gd2l0aCBEdW1teSBWYXJpYWJsZXMiLAogICAgZW50cnl0eXBlPSJhcnRpY2xlIiwKICAgIG5vdGU9ImNpdGVkIEJ5IDM3NyIsCiAgICBJRD0iSGFyZHkxOTkzIiwKKSkKCkRCKENpdGF0aW9uKAogICAgamVmZmVyeTIwMDBhLCBoYXJkeTE5OTNhLCByZWY9IiIsCiAgICBjb250ZXh0cz1bCgogICAgXSwKKSkKCicnJywgY2l0YXRpb25zPSdqZWZmZXJ5MjAwMGEnKTs=\"));\n",
       "    "
      ],
      "text/plain": [
       "<IPython.core.display.Javascript object>"
      ]
     },
     "metadata": {},
     "output_type": "display_data"
    },
    {
     "data": {
      "application/javascript": [
       "$('span:contains(\"# Temp\")').closest('.cell').remove();"
      ],
      "text/plain": [
       "<IPython.core.display.Javascript object>"
      ]
     },
     "metadata": {},
     "output_type": "display_data"
    },
    {
     "data": {
      "application/javascript": [
       "\n",
       "        $('span:contains(\"# Temp\")').closest('.cell').remove();\n",
       "        var code = IPython.notebook.insert_cell_below('code');\n",
       "        code.set_text(atob(\"IyBUZW1wCmluc2VydCgnJycKaGFyZHkxOTkzYSA9IERCKFdvcmtPaygKICAgIDE5OTMsICJSZWdyZXNzaW9uIHdpdGggZHVtbXkgdmFyaWFibGVzIiwKICAgIGRpc3BsYXk9ImhhcmR5IiwKICAgIGF1dGhvcnM9IkhhcmR5LCBNLkEuIiwKICAgIHBsYWNlMT0iUmVncmVzc2lvbiB3aXRoIER1bW15IFZhcmlhYmxlcyIsCiAgICBlbnRyeXR5cGU9ImFydGljbGUiLAogICAgbm90ZT0iY2l0ZWQgQnkgMzc3IiwKICAgIElEPSJIYXJkeTE5OTMiLAopKQoKREIoQ2l0YXRpb24oCiAgICBqZWZmZXJ5MjAwMGEsIGhhcmR5MTk5M2EsIHJlZj0iIiwKICAgIGNvbnRleHRzPVsKCiAgICBdLAopKQoKJycnLCBjaXRhdGlvbnM9J2plZmZlcnkyMDAwYScpOw==\"));\n",
       "    "
      ],
      "text/plain": [
       "<IPython.core.display.Javascript object>"
      ]
     },
     "metadata": {},
     "output_type": "display_data"
    },
    {
     "data": {
      "application/javascript": [
       "$('span:contains(\"# Temp\")').closest('.cell').remove();"
      ],
      "text/plain": [
       "<IPython.core.display.Javascript object>"
      ]
     },
     "metadata": {},
     "output_type": "display_data"
    },
    {
     "data": {
      "application/javascript": [
       "\n",
       "        $('span:contains(\"# Temp\")').closest('.cell').remove();\n",
       "        var code = IPython.notebook.insert_cell_below('code');\n",
       "        code.set_text(atob(\"IyBUZW1wCmluc2VydCgnJycKamVmZmVyeTE5OTZhID0gREIoV29ya09rKAogICAgMTk5NiwgIkZ1bmN0aW9uIHBvaW50IHNpemluZzogU3RydWN0dXJlLCB2YWxpZGl0eSBhbmQgYXBwbGljYWJpbGl0eSIsCiAgICBkaXNwbGF5PSJqZWZmZXJ5IiwKICAgIGF1dGhvcnM9IkplZmZlcnksIFIuIGFuZCBTdGF0aGlzLCBKLiIsCiAgICBwbGFjZT1FU0UsCiAgICBwcD0iMTEtMzAiLAogICAgZW50cnl0eXBlPSJhcnRpY2xlIiwKICAgIHZvbHVtZT0iMSIsCiAgICBudW1iZXI9IjEiLAogICAgbm90ZT0iY2l0ZWQgQnkgMzEiLAogICAgSUQ9IkplZmZlcnkxOTk2MTEiLAopKQoKREIoQ2l0YXRpb24oCiAgICBqZWZmZXJ5MjAwMGEsIGplZmZlcnkxOTk2YSwgcmVmPSIiLAogICAgY29udGV4dHM9WwoKICAgIF0sCikpCgonJycsIGNpdGF0aW9ucz0namVmZmVyeTIwMDBhJyk7\"));\n",
       "    "
      ],
      "text/plain": [
       "<IPython.core.display.Javascript object>"
      ]
     },
     "metadata": {},
     "output_type": "display_data"
    },
    {
     "data": {
      "application/javascript": [
       "$('span:contains(\"# Temp\")').closest('.cell').remove();"
      ],
      "text/plain": [
       "<IPython.core.display.Javascript object>"
      ]
     },
     "metadata": {},
     "output_type": "display_data"
    },
    {
     "data": {
      "application/javascript": [
       "\n",
       "        $('span:contains(\"# Temp\")').closest('.cell').remove();\n",
       "        var code = IPython.notebook.insert_cell_below('code');\n",
       "        code.set_text(atob(\"IyBUZW1wCmluc2VydCgnJycKamVmZmVyeTE5OTZhID0gREIoV29yaygKICAgIDE5OTYsICJGdW5jdGlvbiBwb2ludCBzaXppbmc6IFN0cnVjdHVyZSwgdmFsaWRpdHkgYW5kIGFwcGxpY2FiaWxpdHkiLAogICAgZGlzcGxheT0iamVmZmVyeSIsCiAgICBhdXRob3JzPSJKZWZmZXJ5LCBSLiBhbmQgU3RhdGhpcywgSi4iLAogICAgcGxhY2U9RVNFLAogICAgcHA9IjExLTMwIiwKICAgIGVudHJ5dHlwZT0iYXJ0aWNsZSIsCiAgICB2b2x1bWU9IjEiLAogICAgbnVtYmVyPSIxIiwKICAgIG5vdGU9ImNpdGVkIEJ5IDMxIiwKICAgIElEPSJKZWZmZXJ5MTk5NjExIiwKKSkKCkRCKENpdGF0aW9uKAogICAgamVmZmVyeTIwMDBhLCBqZWZmZXJ5MTk5NmEsIHJlZj0iIiwKICAgIGNvbnRleHRzPVsKCiAgICBdLAopKQoKJycnLCBjaXRhdGlvbnM9J2plZmZlcnkyMDAwYScpOw==\"));\n",
       "    "
      ],
      "text/plain": [
       "<IPython.core.display.Javascript object>"
      ]
     },
     "metadata": {},
     "output_type": "display_data"
    },
    {
     "data": {
      "application/javascript": [
       "$('span:contains(\"# Temp\")').closest('.cell').remove();"
      ],
      "text/plain": [
       "<IPython.core.display.Javascript object>"
      ]
     },
     "metadata": {},
     "output_type": "display_data"
    },
    {
     "data": {
      "application/javascript": [
       "\n",
       "        $('span:contains(\"# Temp\")').closest('.cell').remove();\n",
       "        var code = IPython.notebook.insert_cell_below('code');\n",
       "        code.set_text(atob(\"IyBUZW1wCmluc2VydCgnJycKamVmZmVyeTE5OTZhID0gREIoV29ya09rKAogICAgMTk5NiwgIkZ1bmN0aW9uIHBvaW50IHNpemluZzogU3RydWN0dXJlLCB2YWxpZGl0eSBhbmQgYXBwbGljYWJpbGl0eSIsCiAgICBkaXNwbGF5PSJqZWZmZXJ5IiwKICAgIGF1dGhvcnM9IkplZmZlcnksIFIuIGFuZCBTdGF0aGlzLCBKLiIsCiAgICBwbGFjZT1FU0UsCiAgICBwcD0iMTEtMzAiLAogICAgZW50cnl0eXBlPSJhcnRpY2xlIiwKICAgIHZvbHVtZT0iMSIsCiAgICBudW1iZXI9IjEiLAogICAgbm90ZT0iY2l0ZWQgQnkgMzEiLAogICAgSUQ9IkplZmZlcnkxOTk2MTEiLAopKQoKREIoQ2l0YXRpb24oCiAgICBqZWZmZXJ5MjAwMGEsIGplZmZlcnkxOTk2YSwgcmVmPSIiLAogICAgY29udGV4dHM9WwoKICAgIF0sCikpCgonJycsIGNpdGF0aW9ucz0namVmZmVyeTIwMDBhJyk7\"));\n",
       "    "
      ],
      "text/plain": [
       "<IPython.core.display.Javascript object>"
      ]
     },
     "metadata": {},
     "output_type": "display_data"
    },
    {
     "data": {
      "application/javascript": [
       "$('span:contains(\"# Temp\")').closest('.cell').remove();"
      ],
      "text/plain": [
       "<IPython.core.display.Javascript object>"
      ]
     },
     "metadata": {},
     "output_type": "display_data"
    },
    {
     "data": {
      "application/javascript": [
       "\n",
       "        $('span:contains(\"# Temp\")').closest('.cell').remove();\n",
       "        var code = IPython.notebook.insert_cell_below('code');\n",
       "        code.set_text(atob(\"IyBUZW1wCmluc2VydCgnJycKbG9rYW4xOTk5YSA9IERCKFdvcmtPaygKICAgIDE5OTksICJFbXBpcmljYWwgc3R1ZHkgb2YgdGhlIGNvcnJlbGF0aW9ucyBiZXR3ZWVuIGZ1bmN0aW9uIHBvaW50IGVsZW1lbnRzIiwKICAgIGRpc3BsYXk9Imxva2FuIiwKICAgIGF1dGhvcnM9Ikxva2FuLCBDaHJpcyBKLiIsCiAgICBwbGFjZT1JU01TLAogICAgcHA9IjIwMC0yMDYiLAogICAgZW50cnl0eXBlPSJjb25mZXJlbmNlIiwKICAgIG5vdGU9ImNpdGVkIEJ5IDIwIiwKICAgIElEPSJMb2thbjE5OTkyMDAiLAopKQoKREIoQ2l0YXRpb24oCiAgICBqZWZmZXJ5MjAwMGEsIGxva2FuMTk5OWEsIHJlZj0iIiwKICAgIGNvbnRleHRzPVsKCiAgICBdLAopKQoKJycnLCBjaXRhdGlvbnM9J2plZmZlcnkyMDAwYScpOw==\"));\n",
       "    "
      ],
      "text/plain": [
       "<IPython.core.display.Javascript object>"
      ]
     },
     "metadata": {},
     "output_type": "display_data"
    },
    {
     "data": {
      "application/javascript": [
       "$('span:contains(\"# Temp\")').closest('.cell').remove();"
      ],
      "text/plain": [
       "<IPython.core.display.Javascript object>"
      ]
     },
     "metadata": {},
     "output_type": "display_data"
    },
    {
     "data": {
      "application/javascript": [
       "\n",
       "        $('span:contains(\"# Temp\")').closest('.cell').remove();\n",
       "        var code = IPython.notebook.insert_cell_below('code');\n",
       "        code.set_text(atob(\"IyBUZW1wCmluc2VydCgnJycKbG9rYW4xOTk5YSA9IERCKFdvcmsoCiAgICAxOTk5LCAiRW1waXJpY2FsIHN0dWR5IG9mIHRoZSBjb3JyZWxhdGlvbnMgYmV0d2VlbiBmdW5jdGlvbiBwb2ludCBlbGVtZW50cyIsCiAgICBkaXNwbGF5PSJsb2thbiIsCiAgICBhdXRob3JzPSJMb2thbiwgQ2hyaXMgSi4iLAogICAgcGxhY2U9SVNNUywKICAgIHBwPSIyMDAtMjA2IiwKICAgIGVudHJ5dHlwZT0iY29uZmVyZW5jZSIsCiAgICBub3RlPSJjaXRlZCBCeSAyMCIsCiAgICBJRD0iTG9rYW4xOTk5MjAwIiwKKSkKCkRCKENpdGF0aW9uKAogICAgamVmZmVyeTIwMDBhLCBsb2thbjE5OTlhLCByZWY9IiIsCiAgICBjb250ZXh0cz1bCgogICAgXSwKKSkKCicnJywgY2l0YXRpb25zPSdqZWZmZXJ5MjAwMGEnKTs=\"));\n",
       "    "
      ],
      "text/plain": [
       "<IPython.core.display.Javascript object>"
      ]
     },
     "metadata": {},
     "output_type": "display_data"
    },
    {
     "data": {
      "application/javascript": [
       "$('span:contains(\"# Temp\")').closest('.cell').remove();"
      ],
      "text/plain": [
       "<IPython.core.display.Javascript object>"
      ]
     },
     "metadata": {},
     "output_type": "display_data"
    },
    {
     "data": {
      "application/javascript": [
       "$('span:contains(\"# Temp\")').closest('.cell').remove();"
      ],
      "text/plain": [
       "<IPython.core.display.Javascript object>"
      ]
     },
     "metadata": {},
     "output_type": "display_data"
    },
    {
     "data": {
      "application/javascript": [
       "$('span:contains(\"# Temp\")').closest('.cell').remove();"
      ],
      "text/plain": [
       "<IPython.core.display.Javascript object>"
      ]
     },
     "metadata": {},
     "output_type": "display_data"
    },
    {
     "data": {
      "application/javascript": [
       "\n",
       "        $('span:contains(\"# Temp\")').closest('.cell').remove();\n",
       "        var code = IPython.notebook.insert_cell_below('code');\n",
       "        code.set_text(atob(\"IyBUZW1wCmluc2VydCgnJycKbG9rYW4xOTk5YSA9IERCKFdvcmsoCiAgICAxOTk5LCAiRW1waXJpY2FsIHN0dWR5IG9mIHRoZSBjb3JyZWxhdGlvbnMgYmV0d2VlbiBmdW5jdGlvbiBwb2ludCBlbGVtZW50cyIsCiAgICBkaXNwbGF5PSJsb2thbiIsCiAgICBhdXRob3JzPSJMb2thbiwgQ2hyaXMgSi4iLAogICAgcGxhY2U9SVNNUywKICAgIHBwPSIyMDAtMjA2IiwKICAgIGVudHJ5dHlwZT0iY29uZmVyZW5jZSIsCiAgICBub3RlPSJjaXRlZCBCeSAyMCIsCiAgICBJRD0iTG9rYW4xOTk5MjAwIiwKKSkKCkRCKENpdGF0aW9uKAogICAgamVmZmVyeTIwMDBhLCBsb2thbjE5OTlhLCByZWY9IiIsCiAgICBjb250ZXh0cz1bCgogICAgXSwKKSkKCicnJywgY2l0YXRpb25zPSdqZWZmZXJ5MjAwMGEnKTs=\"));\n",
       "    "
      ],
      "text/plain": [
       "<IPython.core.display.Javascript object>"
      ]
     },
     "metadata": {},
     "output_type": "display_data"
    },
    {
     "data": {
      "application/javascript": [
       "$('span:contains(\"# Temp\")').closest('.cell').remove();"
      ],
      "text/plain": [
       "<IPython.core.display.Javascript object>"
      ]
     },
     "metadata": {},
     "output_type": "display_data"
    },
    {
     "data": {
      "application/javascript": [
       "\n",
       "        $('span:contains(\"# Temp\")').closest('.cell').remove();\n",
       "        var code = IPython.notebook.insert_cell_below('code');\n",
       "        code.set_text(atob(\"IyBUZW1wCmluc2VydCgnJycKbG9rYW4xOTk5YSA9IERCKFdvcmsoCiAgICAxOTk5LCAiRW1waXJpY2FsIHN0dWR5IG9mIHRoZSBjb3JyZWxhdGlvbnMgYmV0d2VlbiBmdW5jdGlvbiBwb2ludCBlbGVtZW50cyIsCiAgICBkaXNwbGF5PSJsb2thbiIsCiAgICBhdXRob3JzPSJMb2thbiwgQ2hyaXMgSi4iLAogICAgcGxhY2U9SVNNUywKICAgIHBwPSIyMDAtMjA2IiwKICAgIGVudHJ5dHlwZT0iY29uZmVyZW5jZSIsCiAgICBub3RlPSJjaXRlZCBCeSAyMCIsCiAgICBJRD0iTG9rYW4xOTk5MjAwIiwKKSkKCkRCKENpdGF0aW9uKAogICAgamVmZmVyeTIwMDBhLCBsb2thbjE5OTlhLCByZWY9IiIsCiAgICBjb250ZXh0cz1bCgogICAgXSwKKSkKCicnJywgY2l0YXRpb25zPSdqZWZmZXJ5MjAwMGEnKTs=\"));\n",
       "    "
      ],
      "text/plain": [
       "<IPython.core.display.Javascript object>"
      ]
     },
     "metadata": {},
     "output_type": "display_data"
    },
    {
     "data": {
      "application/javascript": [
       "$('span:contains(\"# Temp\")').closest('.cell').remove();"
      ],
      "text/plain": [
       "<IPython.core.display.Javascript object>"
      ]
     },
     "metadata": {},
     "output_type": "display_data"
    },
    {
     "data": {
      "application/javascript": [
       "\n",
       "        $('span:contains(\"# Temp\")').closest('.cell').remove();\n",
       "        var code = IPython.notebook.insert_cell_below('code');\n",
       "        code.set_text(atob(\"IyBUZW1wCmluc2VydCgnJycKbG9rYW4xOTk5YSA9IERCKFdvcmtPaygKICAgIDE5OTksICJFbXBpcmljYWwgc3R1ZHkgb2YgdGhlIGNvcnJlbGF0aW9ucyBiZXR3ZWVuIGZ1bmN0aW9uIHBvaW50IGVsZW1lbnRzIiwKICAgIGRpc3BsYXk9Imxva2FuIiwKICAgIGF1dGhvcnM9Ikxva2FuLCBDaHJpcyBKLiIsCiAgICBwbGFjZT1JU01TLAogICAgcHA9IjIwMC0yMDYiLAogICAgZW50cnl0eXBlPSJjb25mZXJlbmNlIiwKICAgIG5vdGU9ImNpdGVkIEJ5IDIwIiwKICAgIElEPSJMb2thbjE5OTkyMDAiLAopKQoKREIoQ2l0YXRpb24oCiAgICBqZWZmZXJ5MjAwMGEsIGxva2FuMTk5OWEsIHJlZj0iIiwKICAgIGNvbnRleHRzPVsKCiAgICBdLAopKQoKJycnLCBjaXRhdGlvbnM9J2plZmZlcnkyMDAwYScpOw==\"));\n",
       "    "
      ],
      "text/plain": [
       "<IPython.core.display.Javascript object>"
      ]
     },
     "metadata": {},
     "output_type": "display_data"
    },
    {
     "data": {
      "application/javascript": [
       "$('span:contains(\"# Temp\")').closest('.cell').remove();"
      ],
      "text/plain": [
       "<IPython.core.display.Javascript object>"
      ]
     },
     "metadata": {},
     "output_type": "display_data"
    },
    {
     "data": {
      "application/javascript": [
       "\n",
       "        $('span:contains(\"# Temp\")').closest('.cell').remove();\n",
       "        var code = IPython.notebook.insert_cell_below('code');\n",
       "        code.set_text(atob(\"IyBUZW1wCmluc2VydCgnJycKREIoQ2l0YXRpb24oCiAgICBqZWZmZXJ5MjAwMGEsIG1heHdlbGwxOTk5YSwgcmVmPSIiLAogICAgY29udGV4dHM9WwoKICAgIF0sCikpCgonJycsIGNpdGF0aW9ucz0namVmZmVyeTIwMDBhJyk7\"));\n",
       "    "
      ],
      "text/plain": [
       "<IPython.core.display.Javascript object>"
      ]
     },
     "metadata": {},
     "output_type": "display_data"
    },
    {
     "data": {
      "application/javascript": [
       "$('span:contains(\"# Temp\")').closest('.cell').remove();"
      ],
      "text/plain": [
       "<IPython.core.display.Javascript object>"
      ]
     },
     "metadata": {},
     "output_type": "display_data"
    },
    {
     "data": {
      "application/javascript": [
       "\n",
       "        $('span:contains(\"# Temp\")').closest('.cell').remove();\n",
       "        var code = IPython.notebook.insert_cell_below('code');\n",
       "        code.set_text(atob(\"IyBUZW1wCmluc2VydCgnJycKREIoQ2l0YXRpb24oCiAgICBqZWZmZXJ5MjAwMGEsIG1heHdlbGwxOTk5YSwgcmVmPSIiLAogICAgY29udGV4dHM9WwoKICAgIF0sCikpCgonJycsIGNpdGF0aW9ucz0namVmZmVyeTIwMDBhJyk7\"));\n",
       "    "
      ],
      "text/plain": [
       "<IPython.core.display.Javascript object>"
      ]
     },
     "metadata": {},
     "output_type": "display_data"
    },
    {
     "data": {
      "application/javascript": [
       "$('span:contains(\"# Temp\")').closest('.cell').remove();"
      ],
      "text/plain": [
       "<IPython.core.display.Javascript object>"
      ]
     },
     "metadata": {},
     "output_type": "display_data"
    },
    {
     "data": {
      "application/javascript": [
       "\n",
       "        $('span:contains(\"# Temp\")').closest('.cell').remove();\n",
       "        var code = IPython.notebook.insert_cell_below('code');\n",
       "        code.set_text(atob(\"IyBUZW1wCmluc2VydCgnJycKbWF4d2VsbDIwMDBhID0gREIoV29ya09rKAogICAgMjAwMCwgIkJlbmNobWFya2luZyBzb2Z0d2FyZSBkZXZlbG9wbWVudCBwcm9kdWN0aXZpdHkiLAogICAgZGlzcGxheT0ibWF4d2VsbCIsCiAgICBhdXRob3JzPSJNYXh3ZWxsLCBLLkQuIGFuZCBGb3JzZWxpdXMsIFAuIiwKICAgIHBsYWNlPUlFRUVTLAogICAgcHA9IjgwLTg4IiwKICAgIGVudHJ5dHlwZT0iYXJ0aWNsZSIsCiAgICB2b2x1bWU9IjE3IiwKICAgIG51bWJlcj0iMSIsCiAgICBkb2k9IjEwLjExMDkvNTIuODIwMDE1IiwKICAgIG5vdGU9ImNpdGVkIEJ5IDY3IiwKICAgIElEPSJNYXh3ZWxsMjAwMDgwIiwKKSkKCkRCKENpdGF0aW9uKAogICAgamVmZmVyeTIwMDBhLCBtYXh3ZWxsMjAwMGEsIHJlZj0iIiwKICAgIGNvbnRleHRzPVsKCiAgICBdLAopKQoKJycnLCBjaXRhdGlvbnM9J2plZmZlcnkyMDAwYScpOw==\"));\n",
       "    "
      ],
      "text/plain": [
       "<IPython.core.display.Javascript object>"
      ]
     },
     "metadata": {},
     "output_type": "display_data"
    },
    {
     "data": {
      "application/javascript": [
       "$('span:contains(\"# Temp\")').closest('.cell').remove();"
      ],
      "text/plain": [
       "<IPython.core.display.Javascript object>"
      ]
     },
     "metadata": {},
     "output_type": "display_data"
    },
    {
     "data": {
      "application/javascript": [
       "\n",
       "        $('span:contains(\"# Temp\")').closest('.cell').remove();\n",
       "        var code = IPython.notebook.insert_cell_below('code');\n",
       "        code.set_text(atob(\"IyBUZW1wCmluc2VydCgnJycKbWF4d2VsbDIwMDBhID0gREIoV29yaygKICAgIDIwMDAsICJCZW5jaG1hcmtpbmcgc29mdHdhcmUgZGV2ZWxvcG1lbnQgcHJvZHVjdGl2aXR5IiwKICAgIGRpc3BsYXk9Im1heHdlbGwiLAogICAgYXV0aG9ycz0iTWF4d2VsbCwgSy5ELiBhbmQgRm9yc2VsaXVzLCBQLiIsCiAgICBwbGFjZT1JRUVFUywKICAgIHBwPSI4MC04OCIsCiAgICBlbnRyeXR5cGU9ImFydGljbGUiLAogICAgdm9sdW1lPSIxNyIsCiAgICBudW1iZXI9IjEiLAogICAgZG9pPSIxMC4xMTA5LzUyLjgyMDAxNSIsCiAgICBub3RlPSJjaXRlZCBCeSA2NyIsCiAgICBJRD0iTWF4d2VsbDIwMDA4MCIsCikpCgpEQihDaXRhdGlvbigKICAgIGplZmZlcnkyMDAwYSwgbWF4d2VsbDIwMDBhLCByZWY9IiIsCiAgICBjb250ZXh0cz1bCgogICAgXSwKKSkKCicnJywgY2l0YXRpb25zPSdqZWZmZXJ5MjAwMGEnKTs=\"));\n",
       "    "
      ],
      "text/plain": [
       "<IPython.core.display.Javascript object>"
      ]
     },
     "metadata": {},
     "output_type": "display_data"
    },
    {
     "data": {
      "application/javascript": [
       "$('span:contains(\"# Temp\")').closest('.cell').remove();"
      ],
      "text/plain": [
       "<IPython.core.display.Javascript object>"
      ]
     },
     "metadata": {},
     "output_type": "display_data"
    },
    {
     "data": {
      "application/javascript": [
       "\n",
       "        $('span:contains(\"# Temp\")').closest('.cell').remove();\n",
       "        var code = IPython.notebook.insert_cell_below('code');\n",
       "        code.set_text(atob(\"IyBUZW1wCmluc2VydCgnJycKbWF4d2VsbDIwMDBhID0gREIoV29ya09rKAogICAgMjAwMCwgIkJlbmNobWFya2luZyBzb2Z0d2FyZSBkZXZlbG9wbWVudCBwcm9kdWN0aXZpdHkiLAogICAgZGlzcGxheT0ibWF4d2VsbCIsCiAgICBhdXRob3JzPSJNYXh3ZWxsLCBLLkQuIGFuZCBGb3JzZWxpdXMsIFAuIiwKICAgIHBsYWNlPUlFRUVTLAogICAgcHA9IjgwLTg4IiwKICAgIGVudHJ5dHlwZT0iYXJ0aWNsZSIsCiAgICB2b2x1bWU9IjE3IiwKICAgIG51bWJlcj0iMSIsCiAgICBkb2k9IjEwLjExMDkvNTIuODIwMDE1IiwKICAgIG5vdGU9ImNpdGVkIEJ5IDY3IiwKICAgIElEPSJNYXh3ZWxsMjAwMDgwIiwKKSkKCkRCKENpdGF0aW9uKAogICAgamVmZmVyeTIwMDBhLCBtYXh3ZWxsMjAwMGEsIHJlZj0iIiwKICAgIGNvbnRleHRzPVsKCiAgICBdLAopKQoKJycnLCBjaXRhdGlvbnM9J2plZmZlcnkyMDAwYScpOw==\"));\n",
       "    "
      ],
      "text/plain": [
       "<IPython.core.display.Javascript object>"
      ]
     },
     "metadata": {},
     "output_type": "display_data"
    },
    {
     "data": {
      "application/javascript": [
       "$('span:contains(\"# Temp\")').closest('.cell').remove();"
      ],
      "text/plain": [
       "<IPython.core.display.Javascript object>"
      ]
     },
     "metadata": {},
     "output_type": "display_data"
    },
    {
     "data": {
      "application/javascript": [
       "\n",
       "        $('span:contains(\"# Temp\")').closest('.cell').remove();\n",
       "        var code = IPython.notebook.insert_cell_below('code');\n",
       "        code.set_text(atob(\"IyBUZW1wCmluc2VydCgnJycKbXVraG9wYWRoeWF5MTk5MmEgPSBEQihXb3JrT2soCiAgICAxOTkyLCAiRXhhbWluaW5nIHRoZSBmZWFzaWJpbGl0eSBvZiBhIGNhc2UtYmFzZWQgcmVhc29uaW5nIG1vZGVsIGZvciBzb2Z0d2FyZSBlZmZvcnQgZXN0aW1hdGlvbiIsCiAgICBkaXNwbGF5PSJtdWtob3BhZGh5YXkiLAogICAgYXV0aG9ycz0iTXVraG9wYWRoeWF5LCBULiBhbmQgVmljaW5hbnphLCBTLlMuIGFuZCBQcmlldHVsYSwgTS5KLiIsCiAgICBwbGFjZT1NSVMsCiAgICBwcD0iMTU1LTE3MCIsCiAgICBlbnRyeXR5cGU9ImFydGljbGUiLAogICAgdm9sdW1lPSIxNiIsCiAgICBudW1iZXI9IjIiLAogICAgbm90ZT0iY2l0ZWQgQnkgMTQ3IiwKICAgIElEPSJNdWtob3BhZGh5YXkxOTkyMTU1IiwKKSkKCkRCKENpdGF0aW9uKAogICAgamVmZmVyeTIwMDBhLCBtdWtob3BhZGh5YXkxOTkyYSwgcmVmPSIiLAogICAgY29udGV4dHM9WwoKICAgIF0sCikpCgonJycsIGNpdGF0aW9ucz0namVmZmVyeTIwMDBhJyk7\"));\n",
       "    "
      ],
      "text/plain": [
       "<IPython.core.display.Javascript object>"
      ]
     },
     "metadata": {},
     "output_type": "display_data"
    },
    {
     "data": {
      "application/javascript": [
       "$('span:contains(\"# Temp\")').closest('.cell').remove();"
      ],
      "text/plain": [
       "<IPython.core.display.Javascript object>"
      ]
     },
     "metadata": {},
     "output_type": "display_data"
    },
    {
     "data": {
      "application/javascript": [
       "\n",
       "        $('span:contains(\"# Temp\")').closest('.cell').remove();\n",
       "        var code = IPython.notebook.insert_cell_below('code');\n",
       "        code.set_text(atob(\"IyBUZW1wCmluc2VydCgnJycKbXVraG9wYWRoeWF5MTk5MmEgPSBEQihXb3JrKAogICAgMTk5MiwgIkV4YW1pbmluZyB0aGUgZmVhc2liaWxpdHkgb2YgYSBjYXNlLWJhc2VkIHJlYXNvbmluZyBtb2RlbCBmb3Igc29mdHdhcmUgZWZmb3J0IGVzdGltYXRpb24iLAogICAgZGlzcGxheT0ibXVraG9wYWRoeWF5IiwKICAgIGF1dGhvcnM9Ik11a2hvcGFkaHlheSwgVC4gYW5kIFZpY2luYW56YSwgUy5TLiBhbmQgUHJpZXR1bGEsIE0uSi4iLAogICAgcGxhY2U9TUlTLAogICAgcHA9IjE1NS0xNzAiLAogICAgZW50cnl0eXBlPSJhcnRpY2xlIiwKICAgIHZvbHVtZT0iMTYiLAogICAgbnVtYmVyPSIyIiwKICAgIG5vdGU9ImNpdGVkIEJ5IDE0NyIsCiAgICBJRD0iTXVraG9wYWRoeWF5MTk5MjE1NSIsCikpCgpEQihDaXRhdGlvbigKICAgIGplZmZlcnkyMDAwYSwgbXVraG9wYWRoeWF5MTk5MmEsIHJlZj0iIiwKICAgIGNvbnRleHRzPVsKCiAgICBdLAopKQoKJycnLCBjaXRhdGlvbnM9J2plZmZlcnkyMDAwYScpOw==\"));\n",
       "    "
      ],
      "text/plain": [
       "<IPython.core.display.Javascript object>"
      ]
     },
     "metadata": {},
     "output_type": "display_data"
    },
    {
     "data": {
      "application/javascript": [
       "$('span:contains(\"# Temp\")').closest('.cell').remove();"
      ],
      "text/plain": [
       "<IPython.core.display.Javascript object>"
      ]
     },
     "metadata": {},
     "output_type": "display_data"
    },
    {
     "data": {
      "application/javascript": [
       "\n",
       "        $('span:contains(\"# Temp\")').closest('.cell').remove();\n",
       "        var code = IPython.notebook.insert_cell_below('code');\n",
       "        code.set_text(atob(\"IyBUZW1wCmluc2VydCgnJycKbXVraG9wYWRoeWF5MTk5MmEgPSBEQihXb3JrT2soCiAgICAxOTkyLCAiRXhhbWluaW5nIHRoZSBmZWFzaWJpbGl0eSBvZiBhIGNhc2UtYmFzZWQgcmVhc29uaW5nIG1vZGVsIGZvciBzb2Z0d2FyZSBlZmZvcnQgZXN0aW1hdGlvbiIsCiAgICBkaXNwbGF5PSJtdWtob3BhZGh5YXkiLAogICAgYXV0aG9ycz0iTXVraG9wYWRoeWF5LCBULiBhbmQgVmljaW5hbnphLCBTLlMuIGFuZCBQcmlldHVsYSwgTS5KLiIsCiAgICBwbGFjZT1NSVMsCiAgICBwcD0iMTU1LTE3MCIsCiAgICBlbnRyeXR5cGU9ImFydGljbGUiLAogICAgdm9sdW1lPSIxNiIsCiAgICBudW1iZXI9IjIiLAogICAgbm90ZT0iY2l0ZWQgQnkgMTQ3IiwKICAgIElEPSJNdWtob3BhZGh5YXkxOTkyMTU1IiwKKSkKCkRCKENpdGF0aW9uKAogICAgamVmZmVyeTIwMDBhLCBtdWtob3BhZGh5YXkxOTkyYSwgcmVmPSIiLAogICAgY29udGV4dHM9WwoKICAgIF0sCikpCgonJycsIGNpdGF0aW9ucz0namVmZmVyeTIwMDBhJyk7\"));\n",
       "    "
      ],
      "text/plain": [
       "<IPython.core.display.Javascript object>"
      ]
     },
     "metadata": {},
     "output_type": "display_data"
    },
    {
     "data": {
      "application/javascript": [
       "$('span:contains(\"# Temp\")').closest('.cell').remove();"
      ],
      "text/plain": [
       "<IPython.core.display.Javascript object>"
      ]
     },
     "metadata": {},
     "output_type": "display_data"
    },
    {
     "data": {
      "application/javascript": [
       "\n",
       "        $('span:contains(\"# Temp\")').closest('.cell').remove();\n",
       "        var code = IPython.notebook.insert_cell_below('code');\n",
       "        code.set_text(atob(\"IyBUZW1wCmluc2VydCgnJycKcnVoZTIwMDBhID0gREIoV29ya09rKAogICAgMjAwMCwgIkNvbXBhcmF0aXZlIFN0dWR5IG9mIFByb2plY3QgRWZmb3J0IEVzdGltYXRpb24gTWV0aG9kcyBieSBVc2luZyBQdWJsaWMgRG9tYWluIE11bHRpLU9yZ2FuaXphdGlvbmFsIGFuZCBPcmdhbml6YXRpb24tc3BlY2lmaWMgUHJvamVjdCBEYXRhIiwKICAgIGRpc3BsYXk9InJ1aGUiLAogICAgYXV0aG9ycz0iUnVoZSwgTS4iLAogICAgcGxhY2U9Q0FFU0FSLAogICAgZW50cnl0eXBlPSJhcnRpY2xlIiwKICAgIG5vdGU9ImNpdGVkIEJ5IDEiLAogICAgSUQ9IlJ1aGUyMDAwIiwKKSkKCkRCKENpdGF0aW9uKAogICAgamVmZmVyeTIwMDBhLCBydWhlMjAwMGEsIHJlZj0iIiwKICAgIGNvbnRleHRzPVsKCiAgICBdLAopKQoKJycnLCBjaXRhdGlvbnM9J2plZmZlcnkyMDAwYScpOw==\"));\n",
       "    "
      ],
      "text/plain": [
       "<IPython.core.display.Javascript object>"
      ]
     },
     "metadata": {},
     "output_type": "display_data"
    },
    {
     "data": {
      "application/javascript": [
       "$('span:contains(\"# Temp\")').closest('.cell').remove();"
      ],
      "text/plain": [
       "<IPython.core.display.Javascript object>"
      ]
     },
     "metadata": {},
     "output_type": "display_data"
    },
    {
     "data": {
      "application/javascript": [
       "\n",
       "        $('span:contains(\"# Temp\")').closest('.cell').remove();\n",
       "        var code = IPython.notebook.insert_cell_below('code');\n",
       "        code.set_text(atob(\"IyBUZW1wCmluc2VydCgnJycKcnVoZTIwMDBhID0gREIoV29yaygKICAgIDIwMDAsICJDb21wYXJhdGl2ZSBTdHVkeSBvZiBQcm9qZWN0IEVmZm9ydCBFc3RpbWF0aW9uIE1ldGhvZHMgYnkgVXNpbmcgUHVibGljIERvbWFpbiBNdWx0aS1Pcmdhbml6YXRpb25hbCBhbmQgT3JnYW5pemF0aW9uLXNwZWNpZmljIFByb2plY3QgRGF0YSIsCiAgICBkaXNwbGF5PSJydWhlIiwKICAgIGF1dGhvcnM9IlJ1aGUsIE0uIiwKICAgIHBsYWNlPUNBRVNBUiwKICAgIGVudHJ5dHlwZT0iYXJ0aWNsZSIsCiAgICBub3RlPSJjaXRlZCBCeSAxIiwKICAgIElEPSJSdWhlMjAwMCIsCikpCgpEQihDaXRhdGlvbigKICAgIGplZmZlcnkyMDAwYSwgcnVoZTIwMDBhLCByZWY9IiIsCiAgICBjb250ZXh0cz1bCgogICAgXSwKKSkKCicnJywgY2l0YXRpb25zPSdqZWZmZXJ5MjAwMGEnKTs=\"));\n",
       "    "
      ],
      "text/plain": [
       "<IPython.core.display.Javascript object>"
      ]
     },
     "metadata": {},
     "output_type": "display_data"
    },
    {
     "data": {
      "application/javascript": [
       "$('span:contains(\"# Temp\")').closest('.cell').remove();"
      ],
      "text/plain": [
       "<IPython.core.display.Javascript object>"
      ]
     },
     "metadata": {},
     "output_type": "display_data"
    },
    {
     "data": {
      "application/javascript": [
       "\n",
       "        $('span:contains(\"# Temp\")').closest('.cell').remove();\n",
       "        var code = IPython.notebook.insert_cell_below('code');\n",
       "        code.set_text(atob(\"IyBUZW1wCmluc2VydCgnJycKcnVoZTIwMDBhID0gREIoV29ya09rKAogICAgMjAwMCwgIkNvbXBhcmF0aXZlIFN0dWR5IG9mIFByb2plY3QgRWZmb3J0IEVzdGltYXRpb24gTWV0aG9kcyBieSBVc2luZyBQdWJsaWMgRG9tYWluIE11bHRpLU9yZ2FuaXphdGlvbmFsIGFuZCBPcmdhbml6YXRpb24tc3BlY2lmaWMgUHJvamVjdCBEYXRhIiwKICAgIGRpc3BsYXk9InJ1aGUiLAogICAgYXV0aG9ycz0iUnVoZSwgTS4iLAogICAgcGxhY2U9Q0FFU0FSLAogICAgZW50cnl0eXBlPSJhcnRpY2xlIiwKICAgIG5vdGU9ImNpdGVkIEJ5IDEiLAogICAgSUQ9IlJ1aGUyMDAwIiwKKSkKCkRCKENpdGF0aW9uKAogICAgamVmZmVyeTIwMDBhLCBydWhlMjAwMGEsIHJlZj0iIiwKICAgIGNvbnRleHRzPVsKCiAgICBdLAopKQoKJycnLCBjaXRhdGlvbnM9J2plZmZlcnkyMDAwYScpOw==\"));\n",
       "    "
      ],
      "text/plain": [
       "<IPython.core.display.Javascript object>"
      ]
     },
     "metadata": {},
     "output_type": "display_data"
    },
    {
     "data": {
      "application/javascript": [
       "$('span:contains(\"# Temp\")').closest('.cell').remove();"
      ],
      "text/plain": [
       "<IPython.core.display.Javascript object>"
      ]
     },
     "metadata": {},
     "output_type": "display_data"
    },
    {
     "data": {
      "application/javascript": [
       "\n",
       "        $('span:contains(\"# Temp\")').closest('.cell').remove();\n",
       "        var code = IPython.notebook.insert_cell_below('code');\n",
       "        code.set_text(atob(\"IyBUZW1wCmluc2VydCgnJycKcmljZTE5OTVhID0gREIoV29ya09rKAogICAgMTk5NSwgIk1hdGhlbWF0aWNhbCBTdGF0aXN0aWNzIGFuZCBEYXRhIEFuYWx5c2lzIiwKICAgIGRpc3BsYXk9InJpY2UiLAogICAgYXV0aG9ycz0iUmljZSwgSi5BLiIsCiAgICBwbGFjZT1EUCwKICAgIGVudHJ5dHlwZT0iYXJ0aWNsZSIsCiAgICBub3RlPSJjaXRlZCBCeSAxOTg3IiwKICAgIElEPSJSaWNlMTk5NSIsCikpCgpEQihDaXRhdGlvbigKICAgIGplZmZlcnkyMDAwYSwgcmljZTE5OTVhLCByZWY9IiIsCiAgICBjb250ZXh0cz1bCgogICAgXSwKKSkKCicnJywgY2l0YXRpb25zPSdqZWZmZXJ5MjAwMGEnKTs=\"));\n",
       "    "
      ],
      "text/plain": [
       "<IPython.core.display.Javascript object>"
      ]
     },
     "metadata": {},
     "output_type": "display_data"
    },
    {
     "data": {
      "application/javascript": [
       "$('span:contains(\"# Temp\")').closest('.cell').remove();"
      ],
      "text/plain": [
       "<IPython.core.display.Javascript object>"
      ]
     },
     "metadata": {},
     "output_type": "display_data"
    },
    {
     "data": {
      "application/javascript": [
       "\n",
       "        $('span:contains(\"# Temp\")').closest('.cell').remove();\n",
       "        var code = IPython.notebook.insert_cell_below('code');\n",
       "        code.set_text(atob(\"IyBUZW1wCmluc2VydCgnJycKcmljZTE5OTVhID0gREIoV29yaygKICAgIDE5OTUsICJNYXRoZW1hdGljYWwgU3RhdGlzdGljcyBhbmQgRGF0YSBBbmFseXNpcyIsCiAgICBkaXNwbGF5PSJyaWNlIiwKICAgIGF1dGhvcnM9IlJpY2UsIEouQS4iLAogICAgcGxhY2U9RFAsCiAgICBlbnRyeXR5cGU9ImFydGljbGUiLAogICAgbm90ZT0iY2l0ZWQgQnkgMTk4NyIsCiAgICBJRD0iUmljZTE5OTUiLAopKQoKREIoQ2l0YXRpb24oCiAgICBqZWZmZXJ5MjAwMGEsIHJpY2UxOTk1YSwgcmVmPSIiLAogICAgY29udGV4dHM9WwoKICAgIF0sCikpCgonJycsIGNpdGF0aW9ucz0namVmZmVyeTIwMDBhJyk7\"));\n",
       "    "
      ],
      "text/plain": [
       "<IPython.core.display.Javascript object>"
      ]
     },
     "metadata": {},
     "output_type": "display_data"
    },
    {
     "data": {
      "application/javascript": [
       "$('span:contains(\"# Temp\")').closest('.cell').remove();"
      ],
      "text/plain": [
       "<IPython.core.display.Javascript object>"
      ]
     },
     "metadata": {},
     "output_type": "display_data"
    },
    {
     "data": {
      "application/javascript": [
       "\n",
       "        $('span:contains(\"# Temp\")').closest('.cell').remove();\n",
       "        var code = IPython.notebook.insert_cell_below('code');\n",
       "        code.set_text(atob(\"IyBUZW1wCmluc2VydCgnJycKcmljZTE5OTVhID0gREIoV29ya09rKAogICAgMTk5NSwgIk1hdGhlbWF0aWNhbCBTdGF0aXN0aWNzIGFuZCBEYXRhIEFuYWx5c2lzIiwKICAgIGRpc3BsYXk9InJpY2UiLAogICAgYXV0aG9ycz0iUmljZSwgSi5BLiIsCiAgICBwbGFjZT1EUCwKICAgIGVudHJ5dHlwZT0iYXJ0aWNsZSIsCiAgICBub3RlPSJjaXRlZCBCeSAxOTg3IiwKICAgIElEPSJSaWNlMTk5NSIsCikpCgpEQihDaXRhdGlvbigKICAgIGplZmZlcnkyMDAwYSwgcmljZTE5OTVhLCByZWY9IiIsCiAgICBjb250ZXh0cz1bCgogICAgXSwKKSkKCicnJywgY2l0YXRpb25zPSdqZWZmZXJ5MjAwMGEnKTs=\"));\n",
       "    "
      ],
      "text/plain": [
       "<IPython.core.display.Javascript object>"
      ]
     },
     "metadata": {},
     "output_type": "display_data"
    },
    {
     "data": {
      "application/javascript": [
       "$('span:contains(\"# Temp\")').closest('.cell').remove();"
      ],
      "text/plain": [
       "<IPython.core.display.Javascript object>"
      ]
     },
     "metadata": {},
     "output_type": "display_data"
    },
    {
     "data": {
      "application/javascript": [
       "\n",
       "        $('span:contains(\"# Temp\")').closest('.cell').remove();\n",
       "        var code = IPython.notebook.insert_cell_below('code');\n",
       "        code.set_text(atob(\"IyBUZW1wCmluc2VydCgnJycKc2Nocm9lZGVyMTk4NmEgPSBEQihXb3JrT2soCiAgICAxOTg2LCAiVW5kZXJzdGFuZGluZyByZWdyZXNzaW9uIGFuYWx5c2lzOiBBbiBpbnRyb2R1Y3RvcnkgZ3VpZGUiLAogICAgZGlzcGxheT0ic2Nocm9lZGVyIiwKICAgIGF1dGhvcnM9IlNjaHJvZWRlciwgTC4gYW5kIFNqb3F1aXN0LCBELiBhbmQgU3RlcGhhbiwgUC4iLAogICAgcGxhY2U9UUFTUywKICAgIGVudHJ5dHlwZT0iYXJ0aWNsZSIsCiAgICBudW1iZXI9IjU3IiwKICAgIG5vdGU9ImNpdGVkIEJ5IDYiLAogICAgSUQ9IlNjaHJvZWRlcjE5ODYiLAopKQoKREIoQ2l0YXRpb24oCiAgICBqZWZmZXJ5MjAwMGEsIHNjaHJvZWRlcjE5ODZhLCByZWY9IiIsCiAgICBjb250ZXh0cz1bCgogICAgXSwKKSkKCicnJywgY2l0YXRpb25zPSdqZWZmZXJ5MjAwMGEnKTs=\"));\n",
       "    "
      ],
      "text/plain": [
       "<IPython.core.display.Javascript object>"
      ]
     },
     "metadata": {},
     "output_type": "display_data"
    },
    {
     "data": {
      "application/javascript": [
       "$('span:contains(\"# Temp\")').closest('.cell').remove();"
      ],
      "text/plain": [
       "<IPython.core.display.Javascript object>"
      ]
     },
     "metadata": {},
     "output_type": "display_data"
    },
    {
     "data": {
      "application/javascript": [
       "\n",
       "        $('span:contains(\"# Temp\")').closest('.cell').remove();\n",
       "        var code = IPython.notebook.insert_cell_below('code');\n",
       "        code.set_text(atob(\"IyBUZW1wCmluc2VydCgnJycKc2Nocm9lZGVyMTk4NmEgPSBEQihXb3JrKAogICAgMTk4NiwgIlVuZGVyc3RhbmRpbmcgcmVncmVzc2lvbiBhbmFseXNpczogQW4gaW50cm9kdWN0b3J5IGd1aWRlIiwKICAgIGRpc3BsYXk9InNjaHJvZWRlciIsCiAgICBhdXRob3JzPSJTY2hyb2VkZXIsIEwuIGFuZCBTam9xdWlzdCwgRC4gYW5kIFN0ZXBoYW4sIFAuIiwKICAgIHBsYWNlPVFBU1MsCiAgICBlbnRyeXR5cGU9ImFydGljbGUiLAogICAgbnVtYmVyPSI1NyIsCiAgICBub3RlPSJjaXRlZCBCeSA2IiwKICAgIElEPSJTY2hyb2VkZXIxOTg2IiwKKSkKCkRCKENpdGF0aW9uKAogICAgamVmZmVyeTIwMDBhLCBzY2hyb2VkZXIxOTg2YSwgcmVmPSIiLAogICAgY29udGV4dHM9WwoKICAgIF0sCikpCgonJycsIGNpdGF0aW9ucz0namVmZmVyeTIwMDBhJyk7\"));\n",
       "    "
      ],
      "text/plain": [
       "<IPython.core.display.Javascript object>"
      ]
     },
     "metadata": {},
     "output_type": "display_data"
    },
    {
     "data": {
      "application/javascript": [
       "$('span:contains(\"# Temp\")').closest('.cell').remove();"
      ],
      "text/plain": [
       "<IPython.core.display.Javascript object>"
      ]
     },
     "metadata": {},
     "output_type": "display_data"
    },
    {
     "data": {
      "application/javascript": [
       "\n",
       "        $('span:contains(\"# Temp\")').closest('.cell').remove();\n",
       "        var code = IPython.notebook.insert_cell_below('code');\n",
       "        code.set_text(atob(\"IyBUZW1wCmluc2VydCgnJycKc2Nocm9lZGVyMTk4NmEgPSBEQihXb3JrT2soCiAgICAxOTg2LCAiVW5kZXJzdGFuZGluZyByZWdyZXNzaW9uIGFuYWx5c2lzOiBBbiBpbnRyb2R1Y3RvcnkgZ3VpZGUiLAogICAgZGlzcGxheT0ic2Nocm9lZGVyIiwKICAgIGF1dGhvcnM9IlNjaHJvZWRlciwgTC4gYW5kIFNqb3F1aXN0LCBELiBhbmQgU3RlcGhhbiwgUC4iLAogICAgcGxhY2U9UUFTUywKICAgIGVudHJ5dHlwZT0iYXJ0aWNsZSIsCiAgICBudW1iZXI9IjU3IiwKICAgIG5vdGU9ImNpdGVkIEJ5IDYiLAogICAgSUQ9IlNjaHJvZWRlcjE5ODYiLAopKQoKREIoQ2l0YXRpb24oCiAgICBqZWZmZXJ5MjAwMGEsIHNjaHJvZWRlcjE5ODZhLCByZWY9IiIsCiAgICBjb250ZXh0cz1bCgogICAgXSwKKSkKCicnJywgY2l0YXRpb25zPSdqZWZmZXJ5MjAwMGEnKTs=\"));\n",
       "    "
      ],
      "text/plain": [
       "<IPython.core.display.Javascript object>"
      ]
     },
     "metadata": {},
     "output_type": "display_data"
    },
    {
     "data": {
      "application/javascript": [
       "$('span:contains(\"# Temp\")').closest('.cell').remove();"
      ],
      "text/plain": [
       "<IPython.core.display.Javascript object>"
      ]
     },
     "metadata": {},
     "output_type": "display_data"
    },
    {
     "data": {
      "application/javascript": [
       "\n",
       "        $('span:contains(\"# Temp\")').closest('.cell').remove();\n",
       "        var code = IPython.notebook.insert_cell_below('code');\n",
       "        code.set_text(atob(\"IyBUZW1wCmluc2VydCgnJycKc2hlcHBlcmQxOTk3YSA9IERCKFdvcmtPaygKICAgIDE5OTcsICJFc3RpbWF0aW5nIHNvZnR3YXJlIHByb2plY3QgZWZmb3J0IHVzaW5nIGFuYWxvZ2llcyIsCiAgICBkaXNwbGF5PSJzaGVwcGVyZCIsCiAgICBhdXRob3JzPSJTaGVwcGVyZCwgTS4gYW5kIFNjaG9maWVsZCwgQy4iLAogICAgcGxhY2U9VG9TRSwKICAgIHBwPSI3MzYtNzQzIiwKICAgIGVudHJ5dHlwZT0iYXJ0aWNsZSIsCiAgICB2b2x1bWU9IjIzIiwKICAgIG51bWJlcj0iMTEiLAogICAgZG9pPSIxMC4xMTA5LzMyLjYzNzM4NyIsCiAgICBub3RlPSJjaXRlZCBCeSA1MzAiLAogICAgSUQ9IlNoZXBwZXJkMTk5NzczNiIsCikpCgpEQihDaXRhdGlvbigKICAgIGplZmZlcnkyMDAwYSwgc2hlcHBlcmQxOTk3YSwgcmVmPSIiLAogICAgY29udGV4dHM9WwoKICAgIF0sCikpCgonJycsIGNpdGF0aW9ucz0namVmZmVyeTIwMDBhJyk7\"));\n",
       "    "
      ],
      "text/plain": [
       "<IPython.core.display.Javascript object>"
      ]
     },
     "metadata": {},
     "output_type": "display_data"
    },
    {
     "data": {
      "application/javascript": [
       "$('span:contains(\"# Temp\")').closest('.cell').remove();"
      ],
      "text/plain": [
       "<IPython.core.display.Javascript object>"
      ]
     },
     "metadata": {},
     "output_type": "display_data"
    },
    {
     "data": {
      "application/javascript": [
       "\n",
       "        $('span:contains(\"# Temp\")').closest('.cell').remove();\n",
       "        var code = IPython.notebook.insert_cell_below('code');\n",
       "        code.set_text(atob(\"IyBUZW1wCmluc2VydCgnJycKc2hlcHBlcmQxOTk3YSA9IERCKFdvcmsoCiAgICAxOTk3LCAiRXN0aW1hdGluZyBzb2Z0d2FyZSBwcm9qZWN0IGVmZm9ydCB1c2luZyBhbmFsb2dpZXMiLAogICAgZGlzcGxheT0ic2hlcHBlcmQiLAogICAgYXV0aG9ycz0iU2hlcHBlcmQsIE0uIGFuZCBTY2hvZmllbGQsIEMuIiwKICAgIHBsYWNlPVRvU0UsCiAgICBwcD0iNzM2LTc0MyIsCiAgICBlbnRyeXR5cGU9ImFydGljbGUiLAogICAgdm9sdW1lPSIyMyIsCiAgICBudW1iZXI9IjExIiwKICAgIGRvaT0iMTAuMTEwOS8zMi42MzczODciLAogICAgbm90ZT0iY2l0ZWQgQnkgNTMwIiwKICAgIElEPSJTaGVwcGVyZDE5OTc3MzYiLAopKQoKREIoQ2l0YXRpb24oCiAgICBqZWZmZXJ5MjAwMGEsIHNoZXBwZXJkMTk5N2EsIHJlZj0iIiwKICAgIGNvbnRleHRzPVsKCiAgICBdLAopKQoKJycnLCBjaXRhdGlvbnM9J2plZmZlcnkyMDAwYScpOw==\"));\n",
       "    "
      ],
      "text/plain": [
       "<IPython.core.display.Javascript object>"
      ]
     },
     "metadata": {},
     "output_type": "display_data"
    },
    {
     "data": {
      "application/javascript": [
       "$('span:contains(\"# Temp\")').closest('.cell').remove();"
      ],
      "text/plain": [
       "<IPython.core.display.Javascript object>"
      ]
     },
     "metadata": {},
     "output_type": "display_data"
    },
    {
     "data": {
      "application/javascript": [
       "\n",
       "        $('span:contains(\"# Temp\")').closest('.cell').remove();\n",
       "        var code = IPython.notebook.insert_cell_below('code');\n",
       "        code.set_text(atob(\"IyBUZW1wCmluc2VydCgnJycKc2hlcHBlcmQxOTk3YSA9IERCKFdvcmtPaygKICAgIDE5OTcsICJFc3RpbWF0aW5nIHNvZnR3YXJlIHByb2plY3QgZWZmb3J0IHVzaW5nIGFuYWxvZ2llcyIsCiAgICBkaXNwbGF5PSJzaGVwcGVyZCIsCiAgICBhdXRob3JzPSJTaGVwcGVyZCwgTS4gYW5kIFNjaG9maWVsZCwgQy4iLAogICAgcGxhY2U9VG9TRSwKICAgIHBwPSI3MzYtNzQzIiwKICAgIGVudHJ5dHlwZT0iYXJ0aWNsZSIsCiAgICB2b2x1bWU9IjIzIiwKICAgIG51bWJlcj0iMTEiLAogICAgZG9pPSIxMC4xMTA5LzMyLjYzNzM4NyIsCiAgICBub3RlPSJjaXRlZCBCeSA1MzAiLAogICAgSUQ9IlNoZXBwZXJkMTk5NzczNiIsCikpCgpEQihDaXRhdGlvbigKICAgIGplZmZlcnkyMDAwYSwgc2hlcHBlcmQxOTk3YSwgcmVmPSIiLAogICAgY29udGV4dHM9WwoKICAgIF0sCikpCgonJycsIGNpdGF0aW9ucz0namVmZmVyeTIwMDBhJyk7\"));\n",
       "    "
      ],
      "text/plain": [
       "<IPython.core.display.Javascript object>"
      ]
     },
     "metadata": {},
     "output_type": "display_data"
    },
    {
     "data": {
      "application/javascript": [
       "$('span:contains(\"# Temp\")').closest('.cell').remove();"
      ],
      "text/plain": [
       "<IPython.core.display.Javascript object>"
      ]
     },
     "metadata": {},
     "output_type": "display_data"
    },
    {
     "data": {
      "application/javascript": [
       "\n",
       "        $('span:contains(\"# Temp\")').closest('.cell').remove();\n",
       "        var code = IPython.notebook.insert_cell_below('code');\n",
       "        code.set_text(atob(\"IyBUZW1wCmluc2VydCgnJycKaGlsbDE5OTlhID0gREIoV29ya09rKAogICAgMTk5OSwgIlNvZnR3YXJlIFByb2plY3QgRXN0aW1hdGlvbjogYSBXb3JrYm9vayBmb3IgTWFjcm8tRXN0aW1hdGlvbiBvZiBTb2Z0d2FyZSBEZXZlbG9wbWVudCBFZmZvcnQgYW5kIER1cmF0aW9uIiwKICAgIGRpc3BsYXk9ImhpbGwiLAogICAgYXV0aG9ycz0iSGlsbCwgUCIsCiAgICBwbGFjZTE9IklTQlNHIiwKICAgIGVudHJ5dHlwZT0iYXJ0aWNsZSIsCiAgICBub3RlPSJjaXRlZCBCeSAxIiwKICAgIElEPSJIaWxsMTk5OSIsCikpCgpEQihDaXRhdGlvbigKICAgIGplZmZlcnkyMDAwYSwgaGlsbDE5OTlhLCByZWY9IiIsCiAgICBjb250ZXh0cz1bCgogICAgXSwKKSkKCicnJywgY2l0YXRpb25zPSdqZWZmZXJ5MjAwMGEnKTs=\"));\n",
       "    "
      ],
      "text/plain": [
       "<IPython.core.display.Javascript object>"
      ]
     },
     "metadata": {},
     "output_type": "display_data"
    },
    {
     "data": {
      "application/javascript": [
       "$('span:contains(\"# Temp\")').closest('.cell').remove();"
      ],
      "text/plain": [
       "<IPython.core.display.Javascript object>"
      ]
     },
     "metadata": {},
     "output_type": "display_data"
    },
    {
     "data": {
      "application/javascript": [
       "\n",
       "        $('span:contains(\"# Temp\")').closest('.cell').remove();\n",
       "        var code = IPython.notebook.insert_cell_below('code');\n",
       "        code.set_text(atob(\"IyBUZW1wCmluc2VydCgnJycKaGlsbDE5OTlhID0gREIoV29yaygKICAgIDE5OTksICJTb2Z0d2FyZSBQcm9qZWN0IEVzdGltYXRpb246IGEgV29ya2Jvb2sgZm9yIE1hY3JvLUVzdGltYXRpb24gb2YgU29mdHdhcmUgRGV2ZWxvcG1lbnQgRWZmb3J0IGFuZCBEdXJhdGlvbiIsCiAgICBkaXNwbGF5PSJoaWxsIiwKICAgIGF1dGhvcnM9IkhpbGwsIFAiLAogICAgcGxhY2UxPSJJU0JTRyIsCiAgICBlbnRyeXR5cGU9ImFydGljbGUiLAogICAgbm90ZT0iY2l0ZWQgQnkgMSIsCiAgICBJRD0iSGlsbDE5OTkiLAopKQoKREIoQ2l0YXRpb24oCiAgICBqZWZmZXJ5MjAwMGEsIGhpbGwxOTk5YSwgcmVmPSIiLAogICAgY29udGV4dHM9WwoKICAgIF0sCikpCgonJycsIGNpdGF0aW9ucz0namVmZmVyeTIwMDBhJyk7\"));\n",
       "    "
      ],
      "text/plain": [
       "<IPython.core.display.Javascript object>"
      ]
     },
     "metadata": {},
     "output_type": "display_data"
    },
    {
     "data": {
      "application/javascript": [
       "$('span:contains(\"# Temp\")').closest('.cell').remove();"
      ],
      "text/plain": [
       "<IPython.core.display.Javascript object>"
      ]
     },
     "metadata": {},
     "output_type": "display_data"
    },
    {
     "data": {
      "application/javascript": [
       "\n",
       "        $('span:contains(\"# Temp\")').closest('.cell').remove();\n",
       "        var code = IPython.notebook.insert_cell_below('code');\n",
       "        code.set_text(atob(\"IyBUZW1wCmluc2VydCgnJycKaGlsbDE5OTlhID0gREIoV29ya09rKAogICAgMTk5OSwgIlNvZnR3YXJlIFByb2plY3QgRXN0aW1hdGlvbjogYSBXb3JrYm9vayBmb3IgTWFjcm8tRXN0aW1hdGlvbiBvZiBTb2Z0d2FyZSBEZXZlbG9wbWVudCBFZmZvcnQgYW5kIER1cmF0aW9uIiwKICAgIGRpc3BsYXk9ImhpbGwiLAogICAgYXV0aG9ycz0iSGlsbCwgUCIsCiAgICBwbGFjZTE9IklTQlNHIiwKICAgIGVudHJ5dHlwZT0iYXJ0aWNsZSIsCiAgICBub3RlPSJjaXRlZCBCeSAxIiwKICAgIElEPSJIaWxsMTk5OSIsCikpCgpEQihDaXRhdGlvbigKICAgIGplZmZlcnkyMDAwYSwgaGlsbDE5OTlhLCByZWY9IiIsCiAgICBjb250ZXh0cz1bCgogICAgXSwKKSkKCicnJywgY2l0YXRpb25zPSdqZWZmZXJ5MjAwMGEnKTs=\"));\n",
       "    "
      ],
      "text/plain": [
       "<IPython.core.display.Javascript object>"
      ]
     },
     "metadata": {},
     "output_type": "display_data"
    },
    {
     "data": {
      "application/javascript": [
       "$('span:contains(\"# Temp\")').closest('.cell').remove();"
      ],
      "text/plain": [
       "<IPython.core.display.Javascript object>"
      ]
     },
     "metadata": {},
     "output_type": "display_data"
    },
    {
     "data": {
      "application/javascript": [
       "\n",
       "        $('span:contains(\"# Temp\")').closest('.cell').remove();\n",
       "        var code = IPython.notebook.insert_cell_below('code');\n",
       "        code.set_text(atob(\"IyBUZW1wCmluc2VydCgnJycKd2Fsa2VyZGVuMTk5OWEgPSBEQihXb3JrT2soCiAgICAxOTk5LCAiRW1waXJpY2FsIHN0dWR5IG9mIGFuYWxvZ3ktYmFzZWQgc29mdHdhcmUgZWZmb3J0IGVzdGltYXRpb24iLAogICAgZGlzcGxheT0id2Fsa2VyZGVuIiwKICAgIGF1dGhvcnM9IldhbGtlcmRlbiwgRi4gYW5kIEplZmZlcnksIFIuIiwKICAgIHBsYWNlPUVTRSwKICAgIHBwPSIxMzUtMTU4IiwKICAgIGVudHJ5dHlwZT0iYXJ0aWNsZSIsCiAgICB2b2x1bWU9IjQiLAogICAgbnVtYmVyPSIyIiwKICAgIGRvaT0iMTAuMTAyMy9BOjEwMDk4NzIyMDIwMzUiLAogICAgbm90ZT0iY2l0ZWQgQnkgMTQyIiwKICAgIElEPSJXYWxrZXJkZW4xOTk5MTM1IiwKKSkKCkRCKENpdGF0aW9uKAogICAgamVmZmVyeTIwMDBhLCB3YWxrZXJkZW4xOTk5YSwgcmVmPSIiLAogICAgY29udGV4dHM9WwoKICAgIF0sCikpCgonJycsIGNpdGF0aW9ucz0namVmZmVyeTIwMDBhJyk7\"));\n",
       "    "
      ],
      "text/plain": [
       "<IPython.core.display.Javascript object>"
      ]
     },
     "metadata": {},
     "output_type": "display_data"
    },
    {
     "data": {
      "application/javascript": [
       "$('span:contains(\"# Temp\")').closest('.cell').remove();"
      ],
      "text/plain": [
       "<IPython.core.display.Javascript object>"
      ]
     },
     "metadata": {},
     "output_type": "display_data"
    },
    {
     "data": {
      "application/javascript": [
       "\n",
       "        $('span:contains(\"# Temp\")').closest('.cell').remove();\n",
       "        var code = IPython.notebook.insert_cell_below('code');\n",
       "        code.set_text(atob(\"IyBUZW1wCmluc2VydCgnJycKd2Fsa2VyZGVuMTk5OWEgPSBEQihXb3JrKAogICAgMTk5OSwgIkVtcGlyaWNhbCBzdHVkeSBvZiBhbmFsb2d5LWJhc2VkIHNvZnR3YXJlIGVmZm9ydCBlc3RpbWF0aW9uIiwKICAgIGRpc3BsYXk9IndhbGtlcmRlbiIsCiAgICBhdXRob3JzPSJXYWxrZXJkZW4sIEYuIGFuZCBKZWZmZXJ5LCBSLiIsCiAgICBwbGFjZT1FU0UsCiAgICBwcD0iMTM1LTE1OCIsCiAgICBlbnRyeXR5cGU9ImFydGljbGUiLAogICAgdm9sdW1lPSI0IiwKICAgIG51bWJlcj0iMiIsCiAgICBkb2k9IjEwLjEwMjMvQToxMDA5ODcyMjAyMDM1IiwKICAgIG5vdGU9ImNpdGVkIEJ5IDE0MiIsCiAgICBJRD0iV2Fsa2VyZGVuMTk5OTEzNSIsCikpCgpEQihDaXRhdGlvbigKICAgIGplZmZlcnkyMDAwYSwgd2Fsa2VyZGVuMTk5OWEsIHJlZj0iIiwKICAgIGNvbnRleHRzPVsKCiAgICBdLAopKQoKJycnLCBjaXRhdGlvbnM9J2plZmZlcnkyMDAwYScpOw==\"));\n",
       "    "
      ],
      "text/plain": [
       "<IPython.core.display.Javascript object>"
      ]
     },
     "metadata": {},
     "output_type": "display_data"
    },
    {
     "data": {
      "application/javascript": [
       "$('span:contains(\"# Temp\")').closest('.cell').remove();"
      ],
      "text/plain": [
       "<IPython.core.display.Javascript object>"
      ]
     },
     "metadata": {},
     "output_type": "display_data"
    },
    {
     "data": {
      "application/javascript": [
       "\n",
       "        $('span:contains(\"# Temp\")').closest('.cell').remove();\n",
       "        var code = IPython.notebook.insert_cell_below('code');\n",
       "        code.set_text(atob(\"IyBUZW1wCmluc2VydCgnJycKd2Fsa2VyZGVuMTk5OWEgPSBEQihXb3JrT2soCiAgICAxOTk5LCAiRW1waXJpY2FsIHN0dWR5IG9mIGFuYWxvZ3ktYmFzZWQgc29mdHdhcmUgZWZmb3J0IGVzdGltYXRpb24iLAogICAgZGlzcGxheT0id2Fsa2VyZGVuIiwKICAgIGF1dGhvcnM9IldhbGtlcmRlbiwgRi4gYW5kIEplZmZlcnksIFIuIiwKICAgIHBsYWNlPUVTRSwKICAgIHBwPSIxMzUtMTU4IiwKICAgIGVudHJ5dHlwZT0iYXJ0aWNsZSIsCiAgICB2b2x1bWU9IjQiLAogICAgbnVtYmVyPSIyIiwKICAgIGRvaT0iMTAuMTAyMy9BOjEwMDk4NzIyMDIwMzUiLAogICAgbm90ZT0iY2l0ZWQgQnkgMTQyIiwKICAgIElEPSJXYWxrZXJkZW4xOTk5MTM1IiwKKSkKCkRCKENpdGF0aW9uKAogICAgamVmZmVyeTIwMDBhLCB3YWxrZXJkZW4xOTk5YSwgcmVmPSIiLAogICAgY29udGV4dHM9WwoKICAgIF0sCikpCgonJycsIGNpdGF0aW9ucz0namVmZmVyeTIwMDBhJyk7\"));\n",
       "    "
      ],
      "text/plain": [
       "<IPython.core.display.Javascript object>"
      ]
     },
     "metadata": {},
     "output_type": "display_data"
    },
    {
     "data": {
      "application/javascript": [
       "$('span:contains(\"# Temp\")').closest('.cell').remove();"
      ],
      "text/plain": [
       "<IPython.core.display.Javascript object>"
      ]
     },
     "metadata": {},
     "output_type": "display_data"
    },
    {
     "data": {
      "application/javascript": [
       "\n",
       "        $('span:contains(\"# Temp\")').closest('.cell').remove();\n",
       "        var code = IPython.notebook.insert_cell_below('code');\n",
       "        code.set_text(atob(\"IyBUZW1wCmluc2VydCgnJycKICAgIHdlaXNzMTk5MWEgPSBEQihXb3JrT2soCiAgICAgICAgMTk5MSwgIkNvbXB1dGVyIFN5c3RlbXMgVGhhdCBMZWFybgpqb3VybmFsPU1vcmdhbiBLYXVmbWFubiIsCiAgICAgICAgZGlzcGxheT0id2Vpc3MiLAogICAgICAgIGF1dGhvcnM9IldlaXNzLCBTLk0uIGFuZCBLdWxpa293c2tpLCBDLkEuIiwKICAgICAgICBwbGFjZTE9IiIsCiAgICAgICAgZW50cnl0eXBlPSJhcnRpY2xlIiwKICAgICAgICBub3RlPSJjaXRlZCBCeSAxMTUwIiwKICAgICAgICBJRD0iV2Vpc3MxOTkxIiwKICAgICkpCgpEQihDaXRhdGlvbigKICAgIGplZmZlcnkyMDAwYSwgd2Vpc3MxOTkxYSwgcmVmPSIiLAogICAgY29udGV4dHM9WwoKICAgIF0sCikpCgonJycsIGNpdGF0aW9ucz0namVmZmVyeTIwMDBhJyk7\"));\n",
       "    "
      ],
      "text/plain": [
       "<IPython.core.display.Javascript object>"
      ]
     },
     "metadata": {},
     "output_type": "display_data"
    },
    {
     "data": {
      "application/javascript": [
       "$('span:contains(\"# Temp\")').closest('.cell').remove();"
      ],
      "text/plain": [
       "<IPython.core.display.Javascript object>"
      ]
     },
     "metadata": {},
     "output_type": "display_data"
    },
    {
     "data": {
      "application/javascript": [
       "\n",
       "        $('span:contains(\"# Temp\")').closest('.cell').remove();\n",
       "        var code = IPython.notebook.insert_cell_below('code');\n",
       "        code.set_text(atob(\"IyBUZW1wCmluc2VydCgnJycKICAgIHdlaXNzMTk5MWEgPSBEQihXb3JrKAogICAgICAgIDE5OTEsICJDb21wdXRlciBTeXN0ZW1zIFRoYXQgTGVhcm4Kam91cm5hbD1Nb3JnYW4gS2F1Zm1hbm4iLAogICAgICAgIGRpc3BsYXk9IndlaXNzIiwKICAgICAgICBhdXRob3JzPSJXZWlzcywgUy5NLiBhbmQgS3VsaWtvd3NraSwgQy5BLiIsCiAgICAgICAgcGxhY2UxPSIiLAogICAgICAgIGVudHJ5dHlwZT0iYXJ0aWNsZSIsCiAgICAgICAgbm90ZT0iY2l0ZWQgQnkgMTE1MCIsCiAgICAgICAgSUQ9IldlaXNzMTk5MSIsCiAgICApKQoKREIoQ2l0YXRpb24oCiAgICBqZWZmZXJ5MjAwMGEsIHdlaXNzMTk5MWEsIHJlZj0iIiwKICAgIGNvbnRleHRzPVsKCiAgICBdLAopKQoKJycnLCBjaXRhdGlvbnM9J2plZmZlcnkyMDAwYScpOw==\"));\n",
       "    "
      ],
      "text/plain": [
       "<IPython.core.display.Javascript object>"
      ]
     },
     "metadata": {},
     "output_type": "display_data"
    },
    {
     "data": {
      "application/javascript": [
       "$('span:contains(\"# Temp\")').closest('.cell').remove();"
      ],
      "text/plain": [
       "<IPython.core.display.Javascript object>"
      ]
     },
     "metadata": {},
     "output_type": "display_data"
    },
    {
     "data": {
      "application/javascript": [
       "\n",
       "        $('span:contains(\"# Temp\")').closest('.cell').remove();\n",
       "        var code = IPython.notebook.insert_cell_below('code');\n",
       "        code.set_text(atob(\"IyBUZW1wCmluc2VydCgnJycKICAgIHdlaXNzMTk5MWEgPSBEQihXb3JrT2soCiAgICAgICAgMTk5MSwgIkNvbXB1dGVyIFN5c3RlbXMgVGhhdCBMZWFybgpqb3VybmFsPU1vcmdhbiBLYXVmbWFubiIsCiAgICAgICAgZGlzcGxheT0id2Vpc3MiLAogICAgICAgIGF1dGhvcnM9IldlaXNzLCBTLk0uIGFuZCBLdWxpa293c2tpLCBDLkEuIiwKICAgICAgICBwbGFjZTE9IiIsCiAgICAgICAgZW50cnl0eXBlPSJhcnRpY2xlIiwKICAgICAgICBub3RlPSJjaXRlZCBCeSAxMTUwIiwKICAgICAgICBJRD0iV2Vpc3MxOTkxIiwKICAgICkpCgpEQihDaXRhdGlvbigKICAgIGplZmZlcnkyMDAwYSwgd2Vpc3MxOTkxYSwgcmVmPSIiLAogICAgY29udGV4dHM9WwoKICAgIF0sCikpCgonJycsIGNpdGF0aW9ucz0namVmZmVyeTIwMDBhJyk7\"));\n",
       "    "
      ],
      "text/plain": [
       "<IPython.core.display.Javascript object>"
      ]
     },
     "metadata": {},
     "output_type": "display_data"
    },
    {
     "data": {
      "application/javascript": [
       "$('span:contains(\"# Temp\")').closest('.cell').remove();"
      ],
      "text/plain": [
       "<IPython.core.display.Javascript object>"
      ]
     },
     "metadata": {},
     "output_type": "display_data"
    },
    {
     "data": {
      "application/javascript": [
       "\n",
       "        $('span:contains(\"# Temp\")').closest('.cell').remove();\n",
       "        var code = IPython.notebook.insert_cell_below('code');\n",
       "        code.set_text(atob(\"IyBUZW1wCmluc2VydCgnJycKICAgIHdlaXNzMTk5MWEgPSBEQihXb3JrT2soCiAgICAgICAgMTk5MSwgIkNvbXB1dGVyIFN5c3RlbXMgVGhhdCBMZWFybgpqb3VybmFsPU1vcmdhbiBLYXVmbWFubiIsCiAgICAgICAgZGlzcGxheT0id2Vpc3MiLAogICAgICAgIGF1dGhvcnM9IldlaXNzLCBTLk0uIGFuZCBLdWxpa293c2tpLCBDLkEuIiwKICAgICAgICBwbGFjZTE9IiIsCiAgICAgICAgZW50cnl0eXBlPSJhcnRpY2xlIiwKICAgICAgICBub3RlPSJjaXRlZCBCeSAxMTUwIiwKICAgICAgICBJRD0iV2Vpc3MxOTkxIiwKICAgICkpCgpEQihDaXRhdGlvbigKICAgIGplZmZlcnkyMDAwYSwgd2Vpc3MxOTkxYSwgcmVmPSIiLAogICAgY29udGV4dHM9WwoKICAgIF0sCikpCgonJycsIGNpdGF0aW9ucz0namVmZmVyeTIwMDBhJyk7\"));\n",
       "    "
      ],
      "text/plain": [
       "<IPython.core.display.Javascript object>"
      ]
     },
     "metadata": {},
     "output_type": "display_data"
    }
   ],
   "source": [
    "BackwardSnowballing(\"jeffery2000a\", articles=article_list)"
   ]
  },
  {
   "cell_type": "code",
   "execution_count": 33,
   "metadata": {},
   "outputs": [
    {
     "name": "stdout",
     "output_type": "stream",
     "text": [
      "-Insert: weiss1991a\n",
      "-Insert Import: weiss1991a\n",
      "-Insert Citation: jeffery2000a -> weiss1991a\n"
     ]
    }
   ],
   "source": [
    "# Temp\n",
    "insert('''\n",
    "weiss1991a = DB(WorkOk(\n",
    "    1991, \"Computer Systems That Lean\",\n",
    "    display=\"weiss\",\n",
    "    authors=\"Weiss, S.M. and Kulikowski, C.A.\",\n",
    "    place1=\"\",\n",
    "    entrytype=\"article\",\n",
    "    note=\"cited By 1150\",\n",
    "    ID=\"Weiss1991\",\n",
    "    ))\n",
    "\n",
    "DB(Citation(\n",
    "    jeffery2000a, weiss1991a, ref=\"\",\n",
    "    contexts=[\n",
    "\n",
    "    ],\n",
    "))\n",
    "\n",
    "''', citations='jeffery2000a');"
   ]
  },
  {
   "cell_type": "code",
   "execution_count": null,
   "metadata": {
    "collapsed": true
   },
   "outputs": [],
   "source": []
  }
 ],
 "metadata": {
  "kernelspec": {
   "display_name": "Python 3",
   "language": "python",
   "name": "python3"
  },
  "language_info": {
   "codemirror_mode": {
    "name": "ipython",
    "version": 3
   },
   "file_extension": ".py",
   "mimetype": "text/x-python",
   "name": "python",
   "nbconvert_exporter": "python",
   "pygments_lexer": "ipython3",
   "version": "3.6.0"
  },
  "toc": {
   "nav_menu": {
    "height": "12px",
    "width": "252px"
   },
   "navigate_menu": true,
   "number_sections": true,
   "sideBar": true,
   "threshold": 4,
   "toc_cell": false,
   "toc_section_display": "block",
   "toc_window_display": false
  }
 },
 "nbformat": 4,
 "nbformat_minor": 2
}
