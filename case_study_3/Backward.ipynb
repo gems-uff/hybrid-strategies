{
 "cells": [
  {
   "cell_type": "code",
   "execution_count": 1,
   "metadata": {
    "collapsed": true
   },
   "outputs": [],
   "source": [
    "import database\n",
    "from snowballing.operations import load_work, reload, work_by_varname\n",
    "from snowballing.snowballing import Converter\n",
    "from snowballing.snowballing import BackwardSnowballing\n",
    "from snowballing.dbmanager import insert, set_attribute"
   ]
  },
  {
   "cell_type": "code",
   "execution_count": 2,
   "metadata": {
    "scrolled": true
   },
   "outputs": [
    {
     "data": {
      "application/vnd.jupyter.widget-view+json": {
       "model_id": "c1de7d7c71f34bd9949c889de6f20278",
       "version_major": 2,
       "version_minor": 0
      },
      "text/html": [
       "<p>Failed to display Jupyter Widget of type <code>VBox</code>.</p>\n",
       "<p>\n",
       "  If you're reading this message in Jupyter Notebook or JupyterLab, it may mean\n",
       "  that the widgets JavaScript is still loading. If this message persists, it\n",
       "  likely means that the widgets JavaScript library is either not installed or\n",
       "  not enabled. See the <a href=\"https://ipywidgets.readthedocs.io/en/stable/user_install.html\">Jupyter\n",
       "  Widgets Documentation</a> for setup instructions.\n",
       "</p>\n",
       "<p>\n",
       "  If you're reading this message in another notebook frontend (for example, a static\n",
       "  rendering on GitHub or <a href=\"https://nbviewer.jupyter.org/\">NBViewer</a>),\n",
       "  it may mean that your frontend doesn't currently support widgets.\n",
       "</p>\n"
      ],
      "text/plain": [
       "VBox(children=(HBox(children=(Dropdown(index=1, options={'BibTeX': 'bibtex', 'Text': 'text', '[N] author name place other year': 'citation', 'Quoted': 'quoted'}, value='text'), Button(description='Set article_list variable', disabled=True, style=ButtonStyle()), Label(value=''))), HBox(children=(Textarea(value='', layout=Layout(height='500px', width='50%')), Textarea(value='', layout=Layout(height='500px', width='50%'))))))"
      ]
     },
     "metadata": {},
     "output_type": "display_data"
    }
   ],
   "source": [
    "Converter().browser()"
   ]
  },
  {
   "cell_type": "code",
   "execution_count": 3,
   "metadata": {},
   "outputs": [
    {
     "data": {
      "text/plain": [
       "17"
      ]
     },
     "execution_count": 3,
     "metadata": {},
     "output_type": "execute_result"
    }
   ],
   "source": [
    "len(article_list)"
   ]
  },
  {
   "cell_type": "code",
   "execution_count": 4,
   "metadata": {},
   "outputs": [],
   "source": [
    "#from database.work.y2015 import li2015a"
   ]
  },
  {
   "cell_type": "code",
   "execution_count": 5,
   "metadata": {},
   "outputs": [],
   "source": [
    "#int(getattr(li2015a, 'scopus', 0))"
   ]
  },
  {
   "cell_type": "code",
   "execution_count": 6,
   "metadata": {},
   "outputs": [
    {
     "name": "stdout",
     "output_type": "stream",
     "text": [
      "[{'name': 'Assessment and comparison of common software cost estimation modeling techniques', 'authors': 'Briand, Lionel C. and El Emam, Khaled and Maxwell, Katrina D. and Surmann, Dagmar and Wieczorek, Isabella', 'year': 1999, 'pp': '313-323', 'place1': 'Proceedings - International Conference on Software Engineering', 'entrytype': 'conference', 'place': 'ICSE', 'display': 'briand', 'pyref': 'briand1999a', 'note': 'cited By 124', 'ID': 'Briand1999313', '_work_type': 'Work'}, {'name': 'Replicated assessment and comparison of common software cost modeling techniques', 'authors': 'Briand, Lionel C. and Langley, Tristen and Wieczorek, Isabella', 'year': 2000, 'pp': '377-386', 'place1': 'Proceedings - International Conference on Software Engineering', 'entrytype': 'conference', 'place': 'ICSE', 'display': 'briand', 'pyref': 'briand2000a', 'note': 'cited By 137', 'ID': 'Briand2000377', '_work_type': 'Work'}, {'name': \"WWW2000: The developer's view and a practitioner's approach to web engineering\", 'authors': 'Christodoulou, S.P. and Zafiris, P.A. and Papatheodorou, T.S.', 'year': 2000, 'pp': '75-92', 'place1': 'ICSE', 'entrytype': 'article', 'place': 'ICSE', 'display': 'christodoulou', 'pyref': 'christodoulou2000a', 'note': 'cited By 30', 'ID': 'Christodoulou200075', '_work_type': 'Work'}, {'name': 'Detection of Influential Observation in Linear Regression', 'authors': 'Cook, R.D.', 'year': 1977, 'pp': '15-18', 'place1': 'Technometrics', 'entrytype': 'article', 'place': 'Tec', 'display': 'cook', 'pyref': 'cook1977a', 'volume': '19', 'number': '1', 'doi': '10.1080/00401706.1977.10489493', 'note': 'cited By 1314', 'ID': 'Cook197715', '_work_type': 'Work'}, {'name': 'Comparative study of two software development cost modeling techniques using multi-organizational and company-specific data', 'authors': 'Jeffery, R. and Ruhe, M. and Wieczorek, I.', 'year': 2000, 'pp': '1009-1016', 'place1': 'Information and Software Technology', 'entrytype': 'article', 'place': 'IST', 'display': 'jeffery', 'pyref': 'jeffery2000a', 'volume': '42', 'number': '14', 'doi': '10.1016/S0950-5849(00)00153-1', 'note': 'cited By 111', 'ID': 'Jeffery20001009', '_work_type': 'Work'}, {'name': 'Using public domain metrics to estimate software development effort', 'authors': 'Jeffery, R. and Ruhe, M. and Wieczorek, I.', 'year': 2001, 'pp': '16-27', 'place1': 'International Software Metrics Symposium, Proceedings', 'entrytype': 'conference', 'place': 'ISMS', 'display': 'jeffery', 'pyref': 'jeffery2001a', 'note': 'cited By 110', 'ID': 'Jeffery200116', '_work_type': 'Work'}, {'name': 'An Empirical Validation of Software Cost Estimation Models', 'authors': 'Kemerer, C.F.', 'year': 1987, 'pp': '416-429', 'place1': 'Communications of the ACM', 'entrytype': 'article', 'place': 'CACM', 'display': 'kemerer', 'pyref': 'kemerer1987a', 'volume': '30', 'number': '5', 'doi': '10.1145/22899.22906', 'note': 'cited By 458', 'ID': 'Kemerer1987416', '_work_type': 'Work'}, {'name': 'A procedure for analyzing unbalanced datasets', 'authors': 'Kitchenham, B.', 'year': 1998, 'pp': '278-301', 'place1': 'IEEE Transactions on Software Engineering', 'entrytype': 'article', 'place': 'ToSE', 'display': 'kitchenham', 'pyref': 'kitchenham1998a', 'volume': '24', 'number': '4', 'doi': '10.1109/32.677185', 'note': 'cited By 69', 'ID': 'Kitchenham1998278', '_work_type': 'Work'}, {'name': 'A comparison of cross-company and within-company effort estimation models for web applications', 'authors': 'Kitchenham, B.A. and Mendes, E.', 'year': 2004, 'pp': '47-55', 'place1': 'EASE', 'entrytype': 'article', 'place': 'EASE', 'display': 'kitchenham', 'pyref': 'kitchenham2004a', 'note': 'cited By 41', 'ID': 'Kitchenham200447', '_work_type': 'Work'}, {'name': 'SOFTWARE COST MODELS.', 'authors': 'Kitchenham, B.A. and Taylor, N.R.', 'year': 1984, 'pp': '73-102', 'place1': 'ICL technical journal', 'entrytype': 'article', 'place': 'ICL', 'display': 'kitchenham', 'pyref': 'kitchenham1984a', 'volume': '4', 'number': '1', 'note': 'cited By 39', 'ID': 'Kitchenham198473', '_work_type': 'Work'}, {'name': 'What accuracy statistics really measure', 'authors': 'Kitchenham, B.A. and Pickard, L.M. and MacDonell, S.G. and Shepperd, M.J.', 'year': 2001, 'pp': '81-85', 'place1': 'IEEE Software', 'entrytype': 'article', 'place': 'IEEES', 'display': 'kitchenham', 'pyref': 'kitchenham2001a', 'volume': '148', 'number': '3', 'doi': '10.1049/ip-sen:20010506', 'note': 'cited By 229', 'ID': 'Kitchenham200181', '_work_type': 'Work'}, {'name': 'Applied Statistics for Software Managers', 'authors': 'Maxwell, K.', 'year': 2002, 'place1': 'Applied Statistics for Software Managers', 'entrytype': 'article', 'place': 'ASSM', 'display': 'maxwell', 'pyref': 'maxwell2002a', 'note': 'cited By 134', 'ID': 'Maxwell2002', '_work_type': 'Work'}, {'name': 'Investigating early web size measures for web cost estimation', 'authors': 'Mendes, E. and Mosley, N. and Counsell, S.', 'year': 2003, 'pp': '1-22', 'place1': 'EASE', 'entrytype': 'article', 'place': 'EASE', 'display': 'mendes', 'pyref': 'mendes2003a', 'note': 'cited By 26', 'ID': 'Mendes20031', '_work_type': 'Work'}, {'name': 'A replicated assessment of the use of adaptation rules to improve Web cost estimation', 'authors': 'Mendes, E. and Mosley, N. and Counsell, S.', 'year': 2003, 'pp': '100-109', 'place1': 'International Symposium on Empirical Software Engineering', 'entrytype': 'conference', 'place': 'ESEM', 'display': 'mendes', 'pyref': 'mendes2003a', 'doi': '10.1109/ISESE.2003.1237969', 'art_number': '1237969', 'note': 'cited By 36', 'ID': 'Mendes2003100', '_work_type': 'Work'}, {'name': 'Using simulation to evaluate prediction techniques', 'authors': 'Shepperd, M. and Kadoda, G.', 'year': 2001, 'pp': '349-359', 'place1': 'International Software Metrics Symposium', 'entrytype': 'conference', 'place': 'ISMS', 'display': 'shepperd', 'pyref': 'shepperd2001a', 'note': 'cited By 60', 'ID': 'Shepperd2001349', '_work_type': 'Work'}, {'name': 'How valuable is company-specific data compared to multi-company data for software cost estimation?', 'authors': 'Wieczorek, I. and Ruhe, M.', 'year': 2002, 'pp': '237-246', 'place1': 'International Software Metrics Symposium', 'entrytype': 'conference', 'place': 'ISMS', 'display': 'wieczorek', 'pyref': 'wieczorek2002a', 'volume': '2002-January', 'doi': '10.1109/METRIC.2002.1011342', 'art_number': '1011342', 'note': 'cited By 29', 'ID': 'Wieczorek2002237', '_work_type': 'Work'}, {'name': 'Individual comparisons by ranking methods', 'authors': 'Wilcoxon, F.', 'year': 1945, 'pp': '80-83', 'place1': 'Biometrics', 'entrytype': 'article', 'place': 'BI', 'display': 'wilcoxon', 'pyref': 'wilcoxon1945a', 'volume': '1', 'note': 'cited By 5271', 'ID': 'Wilcoxon194580', '_work_type': 'Work'}]\n"
     ]
    }
   ],
   "source": [
    "print(article_list)"
   ]
  },
  {
   "cell_type": "code",
   "execution_count": null,
   "metadata": {
    "collapsed": true
   },
   "outputs": [],
   "source": []
  },
  {
   "cell_type": "code",
   "execution_count": 7,
   "metadata": {},
   "outputs": [
    {
     "data": {
      "application/vnd.jupyter.widget-view+json": {
       "model_id": "b84ef100f97d41bea7bf3d255de4d53f",
       "version_major": 2,
       "version_minor": 0
      },
      "text/html": [
       "<p>Failed to display Jupyter Widget of type <code>VBox</code>.</p>\n",
       "<p>\n",
       "  If you're reading this message in Jupyter Notebook or JupyterLab, it may mean\n",
       "  that the widgets JavaScript is still loading. If this message persists, it\n",
       "  likely means that the widgets JavaScript library is either not installed or\n",
       "  not enabled. See the <a href=\"https://ipywidgets.readthedocs.io/en/stable/user_install.html\">Jupyter\n",
       "  Widgets Documentation</a> for setup instructions.\n",
       "</p>\n",
       "<p>\n",
       "  If you're reading this message in another notebook frontend (for example, a static\n",
       "  rendering on GitHub or <a href=\"https://nbviewer.jupyter.org/\">NBViewer</a>),\n",
       "  it may mean that your frontend doesn't currently support widgets.\n",
       "</p>\n"
      ],
      "text/plain": [
       "VBox(children=(HBox(children=(Button(description='Previous Article', disabled=True, icon='caret-left', style=ButtonStyle()), Button(description='Reload Article', icon='refresh', style=ButtonStyle()), Button(description='Next Article', icon='caret-right', style=ButtonStyle()))), HBox(children=(Button(description='Unrelated: Scripts', style=ButtonStyle()), Button(description='Unrelated: Provenance', style=ButtonStyle()), Button(description='Both', style=ButtonStyle()), Button(description='Ok', style=ButtonStyle()))), HBox(children=(Dropdown(description='Type', options=('Work', 'WorkSnowball', 'WorkForward', 'WorkBackward', 'WorkOk', 'WorkUnrelated', 'WorkNoFile', 'WorkLang', 'Site', 'Email'), value='Work'), ToggleButton(value=False, description='File'))), HBox(children=(Text(value='', description='Due'), Text(value='', description='Place'))), HBox(children=(Text(value='', description='Year'), Text(value='', description='Prefix Var'))), HBox(children=(Text(value='', description='PDFPage'), Text(value='', description='Related'))), HBox(children=(Text(value='', description='Display'), Text(value='', description='Summary'))), HBox(children=(Text(value='', description='Star'), Text(value='', description='Link'))), HBox(children=(Button(description='Reload Article', icon='refresh', style=ButtonStyle()), IntSlider(value=0, max=16), Label(value='1/17'))), Output()))"
      ]
     },
     "metadata": {},
     "output_type": "display_data"
    },
    {
     "data": {
      "application/javascript": [
       "$('span:contains(\"# Temp\")').closest('.cell').remove();"
      ],
      "text/plain": [
       "<IPython.core.display.Javascript object>"
      ]
     },
     "metadata": {},
     "output_type": "display_data"
    },
    {
     "data": {
      "application/javascript": [
       "\n",
       "        $('span:contains(\"# Temp\")').closest('.cell').remove();\n",
       "        var code = IPython.notebook.insert_cell_below('code');\n",
       "        code.set_text(atob(\"IyBUZW1wCmluc2VydCgnJycKREIoQ2l0YXRpb24oCiAgICBtZW5kZXMyMDA0YSwgYnJpYW5kMTk5OWEsIHJlZj0iIiwKICAgIGNvbnRleHRzPVsKCiAgICBdLAopKQoKJycnLCBjaXRhdGlvbnM9J21lbmRlczIwMDRhJyk7\"));\n",
       "    "
      ],
      "text/plain": [
       "<IPython.core.display.Javascript object>"
      ]
     },
     "metadata": {},
     "output_type": "display_data"
    },
    {
     "data": {
      "application/javascript": [
       "$('span:contains(\"# Temp\")').closest('.cell').remove();"
      ],
      "text/plain": [
       "<IPython.core.display.Javascript object>"
      ]
     },
     "metadata": {},
     "output_type": "display_data"
    },
    {
     "data": {
      "application/javascript": [
       "\n",
       "        $('span:contains(\"# Temp\")').closest('.cell').remove();\n",
       "        var code = IPython.notebook.insert_cell_below('code');\n",
       "        code.set_text(atob(\"IyBUZW1wCmluc2VydCgnJycKYnJpYW5kMjAwMGEgPSBEQihXb3JrT2soCiAgICAyMDAwLCAiUmVwbGljYXRlZCBhc3Nlc3NtZW50IGFuZCBjb21wYXJpc29uIG9mIGNvbW1vbiBzb2Z0d2FyZSBjb3N0IG1vZGVsaW5nIHRlY2huaXF1ZXMiLAogICAgZGlzcGxheT0iYnJpYW5kIiwKICAgIGF1dGhvcnM9IkJyaWFuZCwgTGlvbmVsIEMuIGFuZCBMYW5nbGV5LCBUcmlzdGVuIGFuZCBXaWVjem9yZWssIElzYWJlbGxhIiwKICAgIHBsYWNlPUlDU0UsCiAgICBwcD0iMzc3LTM4NiIsCiAgICBlbnRyeXR5cGU9ImNvbmZlcmVuY2UiLAogICAgbm90ZT0iY2l0ZWQgQnkgMTM3IiwKICAgIElEPSJCcmlhbmQyMDAwMzc3IiwKKSkKCkRCKENpdGF0aW9uKAogICAgbWVuZGVzMjAwNGEsIGJyaWFuZDIwMDBhLCByZWY9IiIsCiAgICBjb250ZXh0cz1bCgogICAgXSwKKSkKCicnJywgY2l0YXRpb25zPSdtZW5kZXMyMDA0YScpOw==\"));\n",
       "    "
      ],
      "text/plain": [
       "<IPython.core.display.Javascript object>"
      ]
     },
     "metadata": {},
     "output_type": "display_data"
    },
    {
     "data": {
      "application/javascript": [
       "$('span:contains(\"# Temp\")').closest('.cell').remove();"
      ],
      "text/plain": [
       "<IPython.core.display.Javascript object>"
      ]
     },
     "metadata": {},
     "output_type": "display_data"
    },
    {
     "data": {
      "application/javascript": [
       "\n",
       "        $('span:contains(\"# Temp\")').closest('.cell').remove();\n",
       "        var code = IPython.notebook.insert_cell_below('code');\n",
       "        code.set_text(atob(\"IyBUZW1wCmluc2VydCgnJycKYnJpYW5kMjAwMGEgPSBEQihXb3JrKAogICAgMjAwMCwgIlJlcGxpY2F0ZWQgYXNzZXNzbWVudCBhbmQgY29tcGFyaXNvbiBvZiBjb21tb24gc29mdHdhcmUgY29zdCBtb2RlbGluZyB0ZWNobmlxdWVzIiwKICAgIGRpc3BsYXk9ImJyaWFuZCIsCiAgICBhdXRob3JzPSJCcmlhbmQsIExpb25lbCBDLiBhbmQgTGFuZ2xleSwgVHJpc3RlbiBhbmQgV2llY3pvcmVrLCBJc2FiZWxsYSIsCiAgICBwbGFjZT1JQ1NFLAogICAgcHA9IjM3Ny0zODYiLAogICAgZW50cnl0eXBlPSJjb25mZXJlbmNlIiwKICAgIG5vdGU9ImNpdGVkIEJ5IDEzNyIsCiAgICBJRD0iQnJpYW5kMjAwMDM3NyIsCikpCgpEQihDaXRhdGlvbigKICAgIG1lbmRlczIwMDRhLCBicmlhbmQyMDAwYSwgcmVmPSIiLAogICAgY29udGV4dHM9WwoKICAgIF0sCikpCgonJycsIGNpdGF0aW9ucz0nbWVuZGVzMjAwNGEnKTs=\"));\n",
       "    "
      ],
      "text/plain": [
       "<IPython.core.display.Javascript object>"
      ]
     },
     "metadata": {},
     "output_type": "display_data"
    },
    {
     "data": {
      "application/javascript": [
       "$('span:contains(\"# Temp\")').closest('.cell').remove();"
      ],
      "text/plain": [
       "<IPython.core.display.Javascript object>"
      ]
     },
     "metadata": {},
     "output_type": "display_data"
    },
    {
     "data": {
      "application/javascript": [
       "\n",
       "        $('span:contains(\"# Temp\")').closest('.cell').remove();\n",
       "        var code = IPython.notebook.insert_cell_below('code');\n",
       "        code.set_text(atob(\"IyBUZW1wCmluc2VydCgnJycKYnJpYW5kMjAwMGEgPSBEQihXb3JrT2soCiAgICAyMDAwLCAiUmVwbGljYXRlZCBhc3Nlc3NtZW50IGFuZCBjb21wYXJpc29uIG9mIGNvbW1vbiBzb2Z0d2FyZSBjb3N0IG1vZGVsaW5nIHRlY2huaXF1ZXMiLAogICAgZGlzcGxheT0iYnJpYW5kIiwKICAgIGF1dGhvcnM9IkJyaWFuZCwgTGlvbmVsIEMuIGFuZCBMYW5nbGV5LCBUcmlzdGVuIGFuZCBXaWVjem9yZWssIElzYWJlbGxhIiwKICAgIHBsYWNlPUlDU0UsCiAgICBwcD0iMzc3LTM4NiIsCiAgICBlbnRyeXR5cGU9ImNvbmZlcmVuY2UiLAogICAgbm90ZT0iY2l0ZWQgQnkgMTM3IiwKICAgIElEPSJCcmlhbmQyMDAwMzc3IiwKKSkKCkRCKENpdGF0aW9uKAogICAgbWVuZGVzMjAwNGEsIGJyaWFuZDIwMDBhLCByZWY9IiIsCiAgICBjb250ZXh0cz1bCgogICAgXSwKKSkKCicnJywgY2l0YXRpb25zPSdtZW5kZXMyMDA0YScpOw==\"));\n",
       "    "
      ],
      "text/plain": [
       "<IPython.core.display.Javascript object>"
      ]
     },
     "metadata": {},
     "output_type": "display_data"
    },
    {
     "data": {
      "application/javascript": [
       "$('span:contains(\"# Temp\")').closest('.cell').remove();"
      ],
      "text/plain": [
       "<IPython.core.display.Javascript object>"
      ]
     },
     "metadata": {},
     "output_type": "display_data"
    },
    {
     "data": {
      "application/javascript": [
       "\n",
       "        $('span:contains(\"# Temp\")').closest('.cell').remove();\n",
       "        var code = IPython.notebook.insert_cell_below('code');\n",
       "        code.set_text(atob(\"IyBUZW1wCmluc2VydCgnJycKY2hyaXN0b2RvdWxvdTIwMDBhID0gREIoV29ya09rKAogICAgMjAwMCwgIldXVzIwMDA6IFRoZSBkZXZlbG9wZXIncyB2aWV3IGFuZCBhIHByYWN0aXRpb25lcidzIGFwcHJvYWNoIHRvIHdlYiBlbmdpbmVlcmluZyIsCiAgICBkaXNwbGF5PSJjaHJpc3RvZG91bG91IiwKICAgIGF1dGhvcnM9IkNocmlzdG9kb3Vsb3UsIFMuUC4gYW5kIFphZmlyaXMsIFAuQS4gYW5kIFBhcGF0aGVvZG9yb3UsIFQuUy4iLAogICAgcGxhY2U9SUNTRSwKICAgIHBwPSI3NS05MiIsCiAgICBlbnRyeXR5cGU9ImFydGljbGUiLAogICAgbm90ZT0iY2l0ZWQgQnkgMzAiLAogICAgSUQ9IkNocmlzdG9kb3Vsb3UyMDAwNzUiLAopKQoKREIoQ2l0YXRpb24oCiAgICBtZW5kZXMyMDA0YSwgY2hyaXN0b2RvdWxvdTIwMDBhLCByZWY9IiIsCiAgICBjb250ZXh0cz1bCgogICAgXSwKKSkKCicnJywgY2l0YXRpb25zPSdtZW5kZXMyMDA0YScpOw==\"));\n",
       "    "
      ],
      "text/plain": [
       "<IPython.core.display.Javascript object>"
      ]
     },
     "metadata": {},
     "output_type": "display_data"
    },
    {
     "data": {
      "application/javascript": [
       "$('span:contains(\"# Temp\")').closest('.cell').remove();"
      ],
      "text/plain": [
       "<IPython.core.display.Javascript object>"
      ]
     },
     "metadata": {},
     "output_type": "display_data"
    },
    {
     "data": {
      "application/javascript": [
       "\n",
       "        $('span:contains(\"# Temp\")').closest('.cell').remove();\n",
       "        var code = IPython.notebook.insert_cell_below('code');\n",
       "        code.set_text(atob(\"IyBUZW1wCmluc2VydCgnJycKY2hyaXN0b2RvdWxvdTIwMDBhID0gREIoV29yaygKICAgIDIwMDAsICJXV1cyMDAwOiBUaGUgZGV2ZWxvcGVyJ3MgdmlldyBhbmQgYSBwcmFjdGl0aW9uZXIncyBhcHByb2FjaCB0byB3ZWIgZW5naW5lZXJpbmciLAogICAgZGlzcGxheT0iY2hyaXN0b2RvdWxvdSIsCiAgICBhdXRob3JzPSJDaHJpc3RvZG91bG91LCBTLlAuIGFuZCBaYWZpcmlzLCBQLkEuIGFuZCBQYXBhdGhlb2Rvcm91LCBULlMuIiwKICAgIHBsYWNlPUlDU0UsCiAgICBwcD0iNzUtOTIiLAogICAgZW50cnl0eXBlPSJhcnRpY2xlIiwKICAgIG5vdGU9ImNpdGVkIEJ5IDMwIiwKICAgIElEPSJDaHJpc3RvZG91bG91MjAwMDc1IiwKKSkKCkRCKENpdGF0aW9uKAogICAgbWVuZGVzMjAwNGEsIGNocmlzdG9kb3Vsb3UyMDAwYSwgcmVmPSIiLAogICAgY29udGV4dHM9WwoKICAgIF0sCikpCgonJycsIGNpdGF0aW9ucz0nbWVuZGVzMjAwNGEnKTs=\"));\n",
       "    "
      ],
      "text/plain": [
       "<IPython.core.display.Javascript object>"
      ]
     },
     "metadata": {},
     "output_type": "display_data"
    },
    {
     "data": {
      "application/javascript": [
       "$('span:contains(\"# Temp\")').closest('.cell').remove();"
      ],
      "text/plain": [
       "<IPython.core.display.Javascript object>"
      ]
     },
     "metadata": {},
     "output_type": "display_data"
    },
    {
     "data": {
      "application/javascript": [
       "\n",
       "        $('span:contains(\"# Temp\")').closest('.cell').remove();\n",
       "        var code = IPython.notebook.insert_cell_below('code');\n",
       "        code.set_text(atob(\"IyBUZW1wCmluc2VydCgnJycKREIoQ2l0YXRpb24oCiAgICBtZW5kZXMyMDA0YSwgY29vazE5NzdhLCByZWY9IiIsCiAgICBjb250ZXh0cz1bCgogICAgXSwKKSkKCicnJywgY2l0YXRpb25zPSdtZW5kZXMyMDA0YScpOw==\"));\n",
       "    "
      ],
      "text/plain": [
       "<IPython.core.display.Javascript object>"
      ]
     },
     "metadata": {},
     "output_type": "display_data"
    },
    {
     "data": {
      "application/javascript": [
       "$('span:contains(\"# Temp\")').closest('.cell').remove();"
      ],
      "text/plain": [
       "<IPython.core.display.Javascript object>"
      ]
     },
     "metadata": {},
     "output_type": "display_data"
    },
    {
     "data": {
      "application/javascript": [
       "\n",
       "        $('span:contains(\"# Temp\")').closest('.cell').remove();\n",
       "        var code = IPython.notebook.insert_cell_below('code');\n",
       "        code.set_text(atob(\"IyBUZW1wCmluc2VydCgnJycKREIoQ2l0YXRpb24oCiAgICBtZW5kZXMyMDA0YSwgY29vazE5NzdhLCByZWY9IiIsCiAgICBjb250ZXh0cz1bCgogICAgXSwKKSkKCicnJywgY2l0YXRpb25zPSdtZW5kZXMyMDA0YScpOw==\"));\n",
       "    "
      ],
      "text/plain": [
       "<IPython.core.display.Javascript object>"
      ]
     },
     "metadata": {},
     "output_type": "display_data"
    },
    {
     "data": {
      "application/javascript": [
       "$('span:contains(\"# Temp\")').closest('.cell').remove();"
      ],
      "text/plain": [
       "<IPython.core.display.Javascript object>"
      ]
     },
     "metadata": {},
     "output_type": "display_data"
    },
    {
     "data": {
      "application/javascript": [
       "\n",
       "        $('span:contains(\"# Temp\")').closest('.cell').remove();\n",
       "        var code = IPython.notebook.insert_cell_below('code');\n",
       "        code.set_text(atob(\"IyBUZW1wCmluc2VydCgnJycKREIoQ2l0YXRpb24oCiAgICBtZW5kZXMyMDA0YSwgamVmZmVyeTIwMDBhLCByZWY9IiIsCiAgICBjb250ZXh0cz1bCgogICAgXSwKKSkKCicnJywgY2l0YXRpb25zPSdtZW5kZXMyMDA0YScpOw==\"));\n",
       "    "
      ],
      "text/plain": [
       "<IPython.core.display.Javascript object>"
      ]
     },
     "metadata": {},
     "output_type": "display_data"
    },
    {
     "data": {
      "application/javascript": [
       "$('span:contains(\"# Temp\")').closest('.cell').remove();"
      ],
      "text/plain": [
       "<IPython.core.display.Javascript object>"
      ]
     },
     "metadata": {},
     "output_type": "display_data"
    },
    {
     "data": {
      "application/javascript": [
       "\n",
       "        $('span:contains(\"# Temp\")').closest('.cell').remove();\n",
       "        var code = IPython.notebook.insert_cell_below('code');\n",
       "        code.set_text(atob(\"IyBUZW1wCmluc2VydCgnJycKREIoQ2l0YXRpb24oCiAgICBtZW5kZXMyMDA0YSwgamVmZmVyeTIwMDBhLCByZWY9IiIsCiAgICBjb250ZXh0cz1bCgogICAgXSwKKSkKCicnJywgY2l0YXRpb25zPSdtZW5kZXMyMDA0YScpOw==\"));\n",
       "    "
      ],
      "text/plain": [
       "<IPython.core.display.Javascript object>"
      ]
     },
     "metadata": {},
     "output_type": "display_data"
    },
    {
     "data": {
      "application/javascript": [
       "$('span:contains(\"# Temp\")').closest('.cell').remove();"
      ],
      "text/plain": [
       "<IPython.core.display.Javascript object>"
      ]
     },
     "metadata": {},
     "output_type": "display_data"
    },
    {
     "data": {
      "application/javascript": [
       "\n",
       "        $('span:contains(\"# Temp\")').closest('.cell').remove();\n",
       "        var code = IPython.notebook.insert_cell_below('code');\n",
       "        code.set_text(atob(\"IyBUZW1wCmluc2VydCgnJycKREIoQ2l0YXRpb24oCiAgICBtZW5kZXMyMDA0YSwgamVmZmVyeTIwMDBhLCByZWY9IiIsCiAgICBjb250ZXh0cz1bCgogICAgXSwKKSkKCicnJywgY2l0YXRpb25zPSdtZW5kZXMyMDA0YScpOw==\"));\n",
       "    "
      ],
      "text/plain": [
       "<IPython.core.display.Javascript object>"
      ]
     },
     "metadata": {},
     "output_type": "display_data"
    },
    {
     "data": {
      "application/javascript": [
       "$('span:contains(\"# Temp\")').closest('.cell').remove();"
      ],
      "text/plain": [
       "<IPython.core.display.Javascript object>"
      ]
     },
     "metadata": {},
     "output_type": "display_data"
    },
    {
     "data": {
      "application/javascript": [
       "\n",
       "        $('span:contains(\"# Temp\")').closest('.cell').remove();\n",
       "        var code = IPython.notebook.insert_cell_below('code');\n",
       "        code.set_text(atob(\"IyBUZW1wCmluc2VydCgnJycKREIoQ2l0YXRpb24oCiAgICBtZW5kZXMyMDA0YSwgamVmZmVyeTIwMDFhLCByZWY9IiIsCiAgICBjb250ZXh0cz1bCgogICAgXSwKKSkKCicnJywgY2l0YXRpb25zPSdtZW5kZXMyMDA0YScpOw==\"));\n",
       "    "
      ],
      "text/plain": [
       "<IPython.core.display.Javascript object>"
      ]
     },
     "metadata": {},
     "output_type": "display_data"
    },
    {
     "data": {
      "application/javascript": [
       "$('span:contains(\"# Temp\")').closest('.cell').remove();"
      ],
      "text/plain": [
       "<IPython.core.display.Javascript object>"
      ]
     },
     "metadata": {},
     "output_type": "display_data"
    },
    {
     "data": {
      "application/javascript": [
       "\n",
       "        $('span:contains(\"# Temp\")').closest('.cell').remove();\n",
       "        var code = IPython.notebook.insert_cell_below('code');\n",
       "        code.set_text(atob(\"IyBUZW1wCmluc2VydCgnJycKREIoQ2l0YXRpb24oCiAgICBtZW5kZXMyMDA0YSwgamVmZmVyeTIwMDFhLCByZWY9IiIsCiAgICBjb250ZXh0cz1bCgogICAgXSwKKSkKCicnJywgY2l0YXRpb25zPSdtZW5kZXMyMDA0YScpOw==\"));\n",
       "    "
      ],
      "text/plain": [
       "<IPython.core.display.Javascript object>"
      ]
     },
     "metadata": {},
     "output_type": "display_data"
    },
    {
     "data": {
      "application/javascript": [
       "$('span:contains(\"# Temp\")').closest('.cell').remove();"
      ],
      "text/plain": [
       "<IPython.core.display.Javascript object>"
      ]
     },
     "metadata": {},
     "output_type": "display_data"
    },
    {
     "data": {
      "application/javascript": [
       "\n",
       "        $('span:contains(\"# Temp\")').closest('.cell').remove();\n",
       "        var code = IPython.notebook.insert_cell_below('code');\n",
       "        code.set_text(atob(\"IyBUZW1wCmluc2VydCgnJycKa2VtZXJlcjE5ODdhID0gREIoV29ya09rKAogICAgMTk4NywgIkFuIEVtcGlyaWNhbCBWYWxpZGF0aW9uIG9mIFNvZnR3YXJlIENvc3QgRXN0aW1hdGlvbiBNb2RlbHMiLAogICAgZGlzcGxheT0ia2VtZXJlciIsCiAgICBhdXRob3JzPSJLZW1lcmVyLCBDLkYuIiwKICAgIHBsYWNlPUNBQ00sCiAgICBwcD0iNDE2LTQyOSIsCiAgICBlbnRyeXR5cGU9ImFydGljbGUiLAogICAgdm9sdW1lPSIzMCIsCiAgICBudW1iZXI9IjUiLAogICAgZG9pPSIxMC4xMTQ1LzIyODk5LjIyOTA2IiwKICAgIG5vdGU9ImNpdGVkIEJ5IDQ1OCIsCiAgICBJRD0iS2VtZXJlcjE5ODc0MTYiLAopKQoKREIoQ2l0YXRpb24oCiAgICBtZW5kZXMyMDA0YSwga2VtZXJlcjE5ODdhLCByZWY9IiIsCiAgICBjb250ZXh0cz1bCgogICAgXSwKKSkKCicnJywgY2l0YXRpb25zPSdtZW5kZXMyMDA0YScpOw==\"));\n",
       "    "
      ],
      "text/plain": [
       "<IPython.core.display.Javascript object>"
      ]
     },
     "metadata": {},
     "output_type": "display_data"
    },
    {
     "data": {
      "application/javascript": [
       "$('span:contains(\"# Temp\")').closest('.cell').remove();"
      ],
      "text/plain": [
       "<IPython.core.display.Javascript object>"
      ]
     },
     "metadata": {},
     "output_type": "display_data"
    },
    {
     "data": {
      "application/javascript": [
       "\n",
       "        $('span:contains(\"# Temp\")').closest('.cell').remove();\n",
       "        var code = IPython.notebook.insert_cell_below('code');\n",
       "        code.set_text(atob(\"IyBUZW1wCmluc2VydCgnJycKa2VtZXJlcjE5ODdhID0gREIoV29yaygKICAgIDE5ODcsICJBbiBFbXBpcmljYWwgVmFsaWRhdGlvbiBvZiBTb2Z0d2FyZSBDb3N0IEVzdGltYXRpb24gTW9kZWxzIiwKICAgIGRpc3BsYXk9ImtlbWVyZXIiLAogICAgYXV0aG9ycz0iS2VtZXJlciwgQy5GLiIsCiAgICBwbGFjZT1DQUNNLAogICAgcHA9IjQxNi00MjkiLAogICAgZW50cnl0eXBlPSJhcnRpY2xlIiwKICAgIHZvbHVtZT0iMzAiLAogICAgbnVtYmVyPSI1IiwKICAgIGRvaT0iMTAuMTE0NS8yMjg5OS4yMjkwNiIsCiAgICBub3RlPSJjaXRlZCBCeSA0NTgiLAogICAgSUQ9IktlbWVyZXIxOTg3NDE2IiwKKSkKCkRCKENpdGF0aW9uKAogICAgbWVuZGVzMjAwNGEsIGtlbWVyZXIxOTg3YSwgcmVmPSIiLAogICAgY29udGV4dHM9WwoKICAgIF0sCikpCgonJycsIGNpdGF0aW9ucz0nbWVuZGVzMjAwNGEnKTs=\"));\n",
       "    "
      ],
      "text/plain": [
       "<IPython.core.display.Javascript object>"
      ]
     },
     "metadata": {},
     "output_type": "display_data"
    },
    {
     "data": {
      "application/javascript": [
       "$('span:contains(\"# Temp\")').closest('.cell').remove();"
      ],
      "text/plain": [
       "<IPython.core.display.Javascript object>"
      ]
     },
     "metadata": {},
     "output_type": "display_data"
    },
    {
     "data": {
      "application/javascript": [
       "\n",
       "        $('span:contains(\"# Temp\")').closest('.cell').remove();\n",
       "        var code = IPython.notebook.insert_cell_below('code');\n",
       "        code.set_text(atob(\"IyBUZW1wCmluc2VydCgnJycKa2VtZXJlcjE5ODdhID0gREIoV29ya09rKAogICAgMTk4NywgIkFuIEVtcGlyaWNhbCBWYWxpZGF0aW9uIG9mIFNvZnR3YXJlIENvc3QgRXN0aW1hdGlvbiBNb2RlbHMiLAogICAgZGlzcGxheT0ia2VtZXJlciIsCiAgICBhdXRob3JzPSJLZW1lcmVyLCBDLkYuIiwKICAgIHBsYWNlPUNBQ00sCiAgICBwcD0iNDE2LTQyOSIsCiAgICBlbnRyeXR5cGU9ImFydGljbGUiLAogICAgdm9sdW1lPSIzMCIsCiAgICBudW1iZXI9IjUiLAogICAgZG9pPSIxMC4xMTQ1LzIyODk5LjIyOTA2IiwKICAgIG5vdGU9ImNpdGVkIEJ5IDQ1OCIsCiAgICBJRD0iS2VtZXJlcjE5ODc0MTYiLAopKQoKREIoQ2l0YXRpb24oCiAgICBtZW5kZXMyMDA0YSwga2VtZXJlcjE5ODdhLCByZWY9IiIsCiAgICBjb250ZXh0cz1bCgogICAgXSwKKSkKCicnJywgY2l0YXRpb25zPSdtZW5kZXMyMDA0YScpOw==\"));\n",
       "    "
      ],
      "text/plain": [
       "<IPython.core.display.Javascript object>"
      ]
     },
     "metadata": {},
     "output_type": "display_data"
    },
    {
     "data": {
      "application/javascript": [
       "$('span:contains(\"# Temp\")').closest('.cell').remove();"
      ],
      "text/plain": [
       "<IPython.core.display.Javascript object>"
      ]
     },
     "metadata": {},
     "output_type": "display_data"
    },
    {
     "data": {
      "application/javascript": [
       "\n",
       "        $('span:contains(\"# Temp\")').closest('.cell').remove();\n",
       "        var code = IPython.notebook.insert_cell_below('code');\n",
       "        code.set_text(atob(\"IyBUZW1wCmluc2VydCgnJycKREIoQ2l0YXRpb24oCiAgICBtZW5kZXMyMDA0YSwga2l0Y2hlbmhhbTE5OThhLCByZWY9IiIsCiAgICBjb250ZXh0cz1bCgogICAgXSwKKSkKCicnJywgY2l0YXRpb25zPSdtZW5kZXMyMDA0YScpOw==\"));\n",
       "    "
      ],
      "text/plain": [
       "<IPython.core.display.Javascript object>"
      ]
     },
     "metadata": {},
     "output_type": "display_data"
    },
    {
     "data": {
      "application/javascript": [
       "$('span:contains(\"# Temp\")').closest('.cell').remove();"
      ],
      "text/plain": [
       "<IPython.core.display.Javascript object>"
      ]
     },
     "metadata": {},
     "output_type": "display_data"
    },
    {
     "data": {
      "application/javascript": [
       "\n",
       "        $('span:contains(\"# Temp\")').closest('.cell').remove();\n",
       "        var code = IPython.notebook.insert_cell_below('code');\n",
       "        code.set_text(atob(\"IyBUZW1wCmluc2VydCgnJycKREIoQ2l0YXRpb24oCiAgICBtZW5kZXMyMDA0YSwga2l0Y2hlbmhhbTE5OThhLCByZWY9IiIsCiAgICBjb250ZXh0cz1bCgogICAgXSwKKSkKCicnJywgY2l0YXRpb25zPSdtZW5kZXMyMDA0YScpOw==\"));\n",
       "    "
      ],
      "text/plain": [
       "<IPython.core.display.Javascript object>"
      ]
     },
     "metadata": {},
     "output_type": "display_data"
    },
    {
     "data": {
      "application/javascript": [
       "$('span:contains(\"# Temp\")').closest('.cell').remove();"
      ],
      "text/plain": [
       "<IPython.core.display.Javascript object>"
      ]
     },
     "metadata": {},
     "output_type": "display_data"
    },
    {
     "data": {
      "application/javascript": [
       "\n",
       "        $('span:contains(\"# Temp\")').closest('.cell').remove();\n",
       "        var code = IPython.notebook.insert_cell_below('code');\n",
       "        code.set_text(atob(\"IyBUZW1wCmluc2VydCgnJycKREIoQ2l0YXRpb24oCiAgICBtZW5kZXMyMDA0YSwga2l0Y2hlbmhhbTIwMDRhLCByZWY9IiIsCiAgICBjb250ZXh0cz1bCgogICAgXSwKKSkKCicnJywgY2l0YXRpb25zPSdtZW5kZXMyMDA0YScpOw==\"));\n",
       "    "
      ],
      "text/plain": [
       "<IPython.core.display.Javascript object>"
      ]
     },
     "metadata": {},
     "output_type": "display_data"
    },
    {
     "data": {
      "application/javascript": [
       "$('span:contains(\"# Temp\")').closest('.cell').remove();"
      ],
      "text/plain": [
       "<IPython.core.display.Javascript object>"
      ]
     },
     "metadata": {},
     "output_type": "display_data"
    },
    {
     "data": {
      "application/javascript": [
       "\n",
       "        $('span:contains(\"# Temp\")').closest('.cell').remove();\n",
       "        var code = IPython.notebook.insert_cell_below('code');\n",
       "        code.set_text(atob(\"IyBUZW1wCmluc2VydCgnJycKREIoQ2l0YXRpb24oCiAgICBtZW5kZXMyMDA0YSwga2l0Y2hlbmhhbTIwMDRhLCByZWY9IiIsCiAgICBjb250ZXh0cz1bCgogICAgXSwKKSkKCicnJywgY2l0YXRpb25zPSdtZW5kZXMyMDA0YScpOw==\"));\n",
       "    "
      ],
      "text/plain": [
       "<IPython.core.display.Javascript object>"
      ]
     },
     "metadata": {},
     "output_type": "display_data"
    },
    {
     "data": {
      "application/javascript": [
       "$('span:contains(\"# Temp\")').closest('.cell').remove();"
      ],
      "text/plain": [
       "<IPython.core.display.Javascript object>"
      ]
     },
     "metadata": {},
     "output_type": "display_data"
    },
    {
     "data": {
      "application/javascript": [
       "\n",
       "        $('span:contains(\"# Temp\")').closest('.cell').remove();\n",
       "        var code = IPython.notebook.insert_cell_below('code');\n",
       "        code.set_text(atob(\"IyBUZW1wCmluc2VydCgnJycKa2l0Y2hlbmhhbTE5ODRhID0gREIoV29yaygKICAgIDE5ODQsICJTT0ZUV0FSRSBDT1NUIE1PREVMUy4iLAogICAgZGlzcGxheT0ia2l0Y2hlbmhhbSIsCiAgICBhdXRob3JzPSJLaXRjaGVuaGFtLCBCLkEuIGFuZCBUYXlsb3IsIE4uUi4iLAogICAgcGxhY2U9SUNMLAogICAgcHA9IjczLTEwMiIsCiAgICBlbnRyeXR5cGU9ImFydGljbGUiLAogICAgdm9sdW1lPSI0IiwKICAgIG51bWJlcj0iMSIsCiAgICBub3RlPSJjaXRlZCBCeSAzOSIsCiAgICBJRD0iS2l0Y2hlbmhhbTE5ODQ3MyIsCikpCgpEQihDaXRhdGlvbigKICAgIG1lbmRlczIwMDRhLCBraXRjaGVuaGFtMTk4NGEsIHJlZj0iIiwKICAgIGNvbnRleHRzPVsKCiAgICBdLAopKQoKJycnLCBjaXRhdGlvbnM9J21lbmRlczIwMDRhJyk7\"));\n",
       "    "
      ],
      "text/plain": [
       "<IPython.core.display.Javascript object>"
      ]
     },
     "metadata": {},
     "output_type": "display_data"
    },
    {
     "data": {
      "application/javascript": [
       "$('span:contains(\"# Temp\")').closest('.cell').remove();"
      ],
      "text/plain": [
       "<IPython.core.display.Javascript object>"
      ]
     },
     "metadata": {},
     "output_type": "display_data"
    },
    {
     "data": {
      "application/javascript": [
       "\n",
       "        $('span:contains(\"# Temp\")').closest('.cell').remove();\n",
       "        var code = IPython.notebook.insert_cell_below('code');\n",
       "        code.set_text(atob(\"IyBUZW1wCmluc2VydCgnJycKa2l0Y2hlbmhhbTE5ODRhID0gREIoV29yaygKICAgIDE5ODQsICJTT0ZUV0FSRSBDT1NUIE1PREVMUy4iLAogICAgZGlzcGxheT0ia2l0Y2hlbmhhbSIsCiAgICBhdXRob3JzPSJLaXRjaGVuaGFtLCBCLkEuIGFuZCBUYXlsb3IsIE4uUi4iLAogICAgcGxhY2U9SUNMLAogICAgcHA9IjczLTEwMiIsCiAgICBlbnRyeXR5cGU9ImFydGljbGUiLAogICAgdm9sdW1lPSI0IiwKICAgIG51bWJlcj0iMSIsCiAgICBub3RlPSJjaXRlZCBCeSAzOSIsCiAgICBJRD0iS2l0Y2hlbmhhbTE5ODQ3MyIsCikpCgpEQihDaXRhdGlvbigKICAgIG1lbmRlczIwMDRhLCBraXRjaGVuaGFtMTk4NGEsIHJlZj0iIiwKICAgIGNvbnRleHRzPVsKCiAgICBdLAopKQoKJycnLCBjaXRhdGlvbnM9J21lbmRlczIwMDRhJyk7\"));\n",
       "    "
      ],
      "text/plain": [
       "<IPython.core.display.Javascript object>"
      ]
     },
     "metadata": {},
     "output_type": "display_data"
    },
    {
     "data": {
      "application/javascript": [
       "$('span:contains(\"# Temp\")').closest('.cell').remove();"
      ],
      "text/plain": [
       "<IPython.core.display.Javascript object>"
      ]
     },
     "metadata": {},
     "output_type": "display_data"
    },
    {
     "data": {
      "application/javascript": [
       "\n",
       "        $('span:contains(\"# Temp\")').closest('.cell').remove();\n",
       "        var code = IPython.notebook.insert_cell_below('code');\n",
       "        code.set_text(atob(\"IyBUZW1wCmluc2VydCgnJycKa2l0Y2hlbmhhbTE5ODRhID0gREIoV29ya09rKAogICAgMTk4NCwgIlNPRlRXQVJFIENPU1QgTU9ERUxTLiIsCiAgICBkaXNwbGF5PSJraXRjaGVuaGFtIiwKICAgIGF1dGhvcnM9IktpdGNoZW5oYW0sIEIuQS4gYW5kIFRheWxvciwgTi5SLiIsCiAgICBwbGFjZT1JQ0wsCiAgICBwcD0iNzMtMTAyIiwKICAgIGVudHJ5dHlwZT0iYXJ0aWNsZSIsCiAgICB2b2x1bWU9IjQiLAogICAgbnVtYmVyPSIxIiwKICAgIG5vdGU9ImNpdGVkIEJ5IDM5IiwKICAgIElEPSJLaXRjaGVuaGFtMTk4NDczIiwKKSkKCkRCKENpdGF0aW9uKAogICAgbWVuZGVzMjAwNGEsIGtpdGNoZW5oYW0xOTg0YSwgcmVmPSIiLAogICAgY29udGV4dHM9WwoKICAgIF0sCikpCgonJycsIGNpdGF0aW9ucz0nbWVuZGVzMjAwNGEnKTs=\"));\n",
       "    "
      ],
      "text/plain": [
       "<IPython.core.display.Javascript object>"
      ]
     },
     "metadata": {},
     "output_type": "display_data"
    },
    {
     "data": {
      "application/javascript": [
       "$('span:contains(\"# Temp\")').closest('.cell').remove();"
      ],
      "text/plain": [
       "<IPython.core.display.Javascript object>"
      ]
     },
     "metadata": {},
     "output_type": "display_data"
    },
    {
     "data": {
      "application/javascript": [
       "\n",
       "        $('span:contains(\"# Temp\")').closest('.cell').remove();\n",
       "        var code = IPython.notebook.insert_cell_below('code');\n",
       "        code.set_text(atob(\"IyBUZW1wCmluc2VydCgnJycKREIoQ2l0YXRpb24oCiAgICBtZW5kZXMyMDA0YSwga2l0Y2hlbmhhbTIwMDFhLCByZWY9IiIsCiAgICBjb250ZXh0cz1bCgogICAgXSwKKSkKCicnJywgY2l0YXRpb25zPSdtZW5kZXMyMDA0YScpOw==\"));\n",
       "    "
      ],
      "text/plain": [
       "<IPython.core.display.Javascript object>"
      ]
     },
     "metadata": {},
     "output_type": "display_data"
    },
    {
     "data": {
      "application/javascript": [
       "$('span:contains(\"# Temp\")').closest('.cell').remove();"
      ],
      "text/plain": [
       "<IPython.core.display.Javascript object>"
      ]
     },
     "metadata": {},
     "output_type": "display_data"
    },
    {
     "data": {
      "application/javascript": [
       "\n",
       "        $('span:contains(\"# Temp\")').closest('.cell').remove();\n",
       "        var code = IPython.notebook.insert_cell_below('code');\n",
       "        code.set_text(atob(\"IyBUZW1wCmluc2VydCgnJycKREIoQ2l0YXRpb24oCiAgICBtZW5kZXMyMDA0YSwga2l0Y2hlbmhhbTIwMDFhLCByZWY9IiIsCiAgICBjb250ZXh0cz1bCgogICAgXSwKKSkKCicnJywgY2l0YXRpb25zPSdtZW5kZXMyMDA0YScpOw==\"));\n",
       "    "
      ],
      "text/plain": [
       "<IPython.core.display.Javascript object>"
      ]
     },
     "metadata": {},
     "output_type": "display_data"
    },
    {
     "data": {
      "application/javascript": [
       "$('span:contains(\"# Temp\")').closest('.cell').remove();"
      ],
      "text/plain": [
       "<IPython.core.display.Javascript object>"
      ]
     },
     "metadata": {},
     "output_type": "display_data"
    },
    {
     "data": {
      "application/javascript": [
       "\n",
       "        $('span:contains(\"# Temp\")').closest('.cell').remove();\n",
       "        var code = IPython.notebook.insert_cell_below('code');\n",
       "        code.set_text(atob(\"IyBUZW1wCmluc2VydCgnJycKREIoQ2l0YXRpb24oCiAgICBtZW5kZXMyMDA0YSwgbWF4d2VsbDIwMDJhLCByZWY9IiIsCiAgICBjb250ZXh0cz1bCgogICAgXSwKKSkKCicnJywgY2l0YXRpb25zPSdtZW5kZXMyMDA0YScpOw==\"));\n",
       "    "
      ],
      "text/plain": [
       "<IPython.core.display.Javascript object>"
      ]
     },
     "metadata": {},
     "output_type": "display_data"
    },
    {
     "data": {
      "application/javascript": [
       "$('span:contains(\"# Temp\")').closest('.cell').remove();"
      ],
      "text/plain": [
       "<IPython.core.display.Javascript object>"
      ]
     },
     "metadata": {},
     "output_type": "display_data"
    },
    {
     "data": {
      "application/javascript": [
       "\n",
       "        $('span:contains(\"# Temp\")').closest('.cell').remove();\n",
       "        var code = IPython.notebook.insert_cell_below('code');\n",
       "        code.set_text(atob(\"IyBUZW1wCmluc2VydCgnJycKREIoQ2l0YXRpb24oCiAgICBtZW5kZXMyMDA0YSwgbWF4d2VsbDIwMDJhLCByZWY9IiIsCiAgICBjb250ZXh0cz1bCgogICAgXSwKKSkKCicnJywgY2l0YXRpb25zPSdtZW5kZXMyMDA0YScpOw==\"));\n",
       "    "
      ],
      "text/plain": [
       "<IPython.core.display.Javascript object>"
      ]
     },
     "metadata": {},
     "output_type": "display_data"
    },
    {
     "data": {
      "application/javascript": [
       "$('span:contains(\"# Temp\")').closest('.cell').remove();"
      ],
      "text/plain": [
       "<IPython.core.display.Javascript object>"
      ]
     },
     "metadata": {},
     "output_type": "display_data"
    },
    {
     "data": {
      "application/javascript": [
       "\n",
       "        $('span:contains(\"# Temp\")').closest('.cell').remove();\n",
       "        var code = IPython.notebook.insert_cell_below('code');\n",
       "        code.set_text(atob(\"IyBUZW1wCmluc2VydCgnJycKREIoQ2l0YXRpb24oCiAgICBtZW5kZXMyMDA0YSwgbWVuZGVzMjAwM2EsIHJlZj0iIiwKICAgIGNvbnRleHRzPVsKCiAgICBdLAopKQoKJycnLCBjaXRhdGlvbnM9J21lbmRlczIwMDRhJyk7\"));\n",
       "    "
      ],
      "text/plain": [
       "<IPython.core.display.Javascript object>"
      ]
     },
     "metadata": {},
     "output_type": "display_data"
    },
    {
     "data": {
      "application/javascript": [
       "$('span:contains(\"# Temp\")').closest('.cell').remove();"
      ],
      "text/plain": [
       "<IPython.core.display.Javascript object>"
      ]
     },
     "metadata": {},
     "output_type": "display_data"
    },
    {
     "data": {
      "application/javascript": [
       "\n",
       "        $('span:contains(\"# Temp\")').closest('.cell').remove();\n",
       "        var code = IPython.notebook.insert_cell_below('code');\n",
       "        code.set_text(atob(\"IyBUZW1wCmluc2VydCgnJycKREIoQ2l0YXRpb24oCiAgICBtZW5kZXMyMDA0YSwgbWVuZGVzMjAwM2EsIHJlZj0iIiwKICAgIGNvbnRleHRzPVsKCiAgICBdLAopKQoKJycnLCBjaXRhdGlvbnM9J21lbmRlczIwMDRhJyk7\"));\n",
       "    "
      ],
      "text/plain": [
       "<IPython.core.display.Javascript object>"
      ]
     },
     "metadata": {},
     "output_type": "display_data"
    },
    {
     "data": {
      "application/javascript": [
       "$('span:contains(\"# Temp\")').closest('.cell').remove();"
      ],
      "text/plain": [
       "<IPython.core.display.Javascript object>"
      ]
     },
     "metadata": {},
     "output_type": "display_data"
    },
    {
     "data": {
      "application/javascript": [
       "\n",
       "        $('span:contains(\"# Temp\")').closest('.cell').remove();\n",
       "        var code = IPython.notebook.insert_cell_below('code');\n",
       "        code.set_text(atob(\"IyBUZW1wCmluc2VydCgnJycKbWVuZGVzMjAwM2IgPSBEQihXb3JrKAogICAgMjAwMywgIkEgcmVwbGljYXRlZCBhc3Nlc3NtZW50IG9mIHRoZSB1c2Ugb2YgYWRhcHRhdGlvbiBydWxlcyB0byBpbXByb3ZlIFdlYiBjb3N0IGVzdGltYXRpb24iLAogICAgZGlzcGxheT0ibWVuZGVzIGIiLAogICAgYXV0aG9ycz0iTWVuZGVzLCBFLiBhbmQgTW9zbGV5LCBOLiBhbmQgQ291bnNlbGwsIFMuIiwKICAgIHBsYWNlPUVTRU0sCiAgICBwcD0iMTAwLTEwOSIsCiAgICBlbnRyeXR5cGU9ImNvbmZlcmVuY2UiLAogICAgZG9pPSIxMC4xMTA5L0lTRVNFLjIwMDMuMTIzNzk2OSIsCiAgICBhcnRfbnVtYmVyPSIxMjM3OTY5IiwKICAgIG5vdGU9ImNpdGVkIEJ5IDM2IiwKICAgIElEPSJNZW5kZXMyMDAzMTAwIiwKKSkKCkRCKENpdGF0aW9uKAogICAgbWVuZGVzMjAwNGEsIG1lbmRlczIwMDNiLCByZWY9IiIsCiAgICBjb250ZXh0cz1bCgogICAgXSwKKSkKCicnJywgY2l0YXRpb25zPSdtZW5kZXMyMDA0YScpOw==\"));\n",
       "    "
      ],
      "text/plain": [
       "<IPython.core.display.Javascript object>"
      ]
     },
     "metadata": {},
     "output_type": "display_data"
    },
    {
     "data": {
      "application/javascript": [
       "$('span:contains(\"# Temp\")').closest('.cell').remove();"
      ],
      "text/plain": [
       "<IPython.core.display.Javascript object>"
      ]
     },
     "metadata": {},
     "output_type": "display_data"
    },
    {
     "data": {
      "application/javascript": [
       "\n",
       "        $('span:contains(\"# Temp\")').closest('.cell').remove();\n",
       "        var code = IPython.notebook.insert_cell_below('code');\n",
       "        code.set_text(atob(\"IyBUZW1wCmluc2VydCgnJycKbWVuZGVzMjAwM2IgPSBEQihXb3JrKAogICAgMjAwMywgIkEgcmVwbGljYXRlZCBhc3Nlc3NtZW50IG9mIHRoZSB1c2Ugb2YgYWRhcHRhdGlvbiBydWxlcyB0byBpbXByb3ZlIFdlYiBjb3N0IGVzdGltYXRpb24iLAogICAgZGlzcGxheT0ibWVuZGVzIGIiLAogICAgYXV0aG9ycz0iTWVuZGVzLCBFLiBhbmQgTW9zbGV5LCBOLiBhbmQgQ291bnNlbGwsIFMuIiwKICAgIHBsYWNlPUVTRU0sCiAgICBwcD0iMTAwLTEwOSIsCiAgICBlbnRyeXR5cGU9ImNvbmZlcmVuY2UiLAogICAgZG9pPSIxMC4xMTA5L0lTRVNFLjIwMDMuMTIzNzk2OSIsCiAgICBhcnRfbnVtYmVyPSIxMjM3OTY5IiwKICAgIG5vdGU9ImNpdGVkIEJ5IDM2IiwKICAgIElEPSJNZW5kZXMyMDAzMTAwIiwKKSkKCkRCKENpdGF0aW9uKAogICAgbWVuZGVzMjAwNGEsIG1lbmRlczIwMDNiLCByZWY9IiIsCiAgICBjb250ZXh0cz1bCgogICAgXSwKKSkKCicnJywgY2l0YXRpb25zPSdtZW5kZXMyMDA0YScpOw==\"));\n",
       "    "
      ],
      "text/plain": [
       "<IPython.core.display.Javascript object>"
      ]
     },
     "metadata": {},
     "output_type": "display_data"
    },
    {
     "data": {
      "application/javascript": [
       "$('span:contains(\"# Temp\")').closest('.cell').remove();"
      ],
      "text/plain": [
       "<IPython.core.display.Javascript object>"
      ]
     },
     "metadata": {},
     "output_type": "display_data"
    },
    {
     "data": {
      "application/javascript": [
       "\n",
       "        $('span:contains(\"# Temp\")').closest('.cell').remove();\n",
       "        var code = IPython.notebook.insert_cell_below('code');\n",
       "        code.set_text(atob(\"IyBUZW1wCmluc2VydCgnJycKbWVuZGVzMjAwM2IgPSBEQihXb3JrT2soCiAgICAyMDAzLCAiQSByZXBsaWNhdGVkIGFzc2Vzc21lbnQgb2YgdGhlIHVzZSBvZiBhZGFwdGF0aW9uIHJ1bGVzIHRvIGltcHJvdmUgV2ViIGNvc3QgZXN0aW1hdGlvbiIsCiAgICBkaXNwbGF5PSJtZW5kZXMgYiIsCiAgICBhdXRob3JzPSJNZW5kZXMsIEUuIGFuZCBNb3NsZXksIE4uIGFuZCBDb3Vuc2VsbCwgUy4iLAogICAgcGxhY2U9RVNFTSwKICAgIHBwPSIxMDAtMTA5IiwKICAgIGVudHJ5dHlwZT0iY29uZmVyZW5jZSIsCiAgICBkb2k9IjEwLjExMDkvSVNFU0UuMjAwMy4xMjM3OTY5IiwKICAgIGFydF9udW1iZXI9IjEyMzc5NjkiLAogICAgbm90ZT0iY2l0ZWQgQnkgMzYiLAogICAgSUQ9Ik1lbmRlczIwMDMxMDAiLAopKQoKREIoQ2l0YXRpb24oCiAgICBtZW5kZXMyMDA0YSwgbWVuZGVzMjAwM2IsIHJlZj0iIiwKICAgIGNvbnRleHRzPVsKCiAgICBdLAopKQoKJycnLCBjaXRhdGlvbnM9J21lbmRlczIwMDRhJyk7\"));\n",
       "    "
      ],
      "text/plain": [
       "<IPython.core.display.Javascript object>"
      ]
     },
     "metadata": {},
     "output_type": "display_data"
    },
    {
     "data": {
      "application/javascript": [
       "$('span:contains(\"# Temp\")').closest('.cell').remove();"
      ],
      "text/plain": [
       "<IPython.core.display.Javascript object>"
      ]
     },
     "metadata": {},
     "output_type": "display_data"
    },
    {
     "data": {
      "application/javascript": [
       "\n",
       "        $('span:contains(\"# Temp\")').closest('.cell').remove();\n",
       "        var code = IPython.notebook.insert_cell_below('code');\n",
       "        code.set_text(atob(\"IyBUZW1wCmluc2VydCgnJycKREIoQ2l0YXRpb24oCiAgICBtZW5kZXMyMDA0YSwgc2hlcHBlcmQyMDAxYSwgcmVmPSIiLAogICAgY29udGV4dHM9WwoKICAgIF0sCikpCgonJycsIGNpdGF0aW9ucz0nbWVuZGVzMjAwNGEnKTs=\"));\n",
       "    "
      ],
      "text/plain": [
       "<IPython.core.display.Javascript object>"
      ]
     },
     "metadata": {},
     "output_type": "display_data"
    },
    {
     "data": {
      "application/javascript": [
       "$('span:contains(\"# Temp\")').closest('.cell').remove();"
      ],
      "text/plain": [
       "<IPython.core.display.Javascript object>"
      ]
     },
     "metadata": {},
     "output_type": "display_data"
    },
    {
     "data": {
      "application/javascript": [
       "\n",
       "        $('span:contains(\"# Temp\")').closest('.cell').remove();\n",
       "        var code = IPython.notebook.insert_cell_below('code');\n",
       "        code.set_text(atob(\"IyBUZW1wCmluc2VydCgnJycKREIoQ2l0YXRpb24oCiAgICBtZW5kZXMyMDA0YSwgc2hlcHBlcmQyMDAxYSwgcmVmPSIiLAogICAgY29udGV4dHM9WwoKICAgIF0sCikpCgonJycsIGNpdGF0aW9ucz0nbWVuZGVzMjAwNGEnKTs=\"));\n",
       "    "
      ],
      "text/plain": [
       "<IPython.core.display.Javascript object>"
      ]
     },
     "metadata": {},
     "output_type": "display_data"
    },
    {
     "data": {
      "application/javascript": [
       "$('span:contains(\"# Temp\")').closest('.cell').remove();"
      ],
      "text/plain": [
       "<IPython.core.display.Javascript object>"
      ]
     },
     "metadata": {},
     "output_type": "display_data"
    },
    {
     "data": {
      "application/javascript": [
       "\n",
       "        $('span:contains(\"# Temp\")').closest('.cell').remove();\n",
       "        var code = IPython.notebook.insert_cell_below('code');\n",
       "        code.set_text(atob(\"IyBUZW1wCmluc2VydCgnJycKd2llY3pvcmVrMjAwMmEgPSBEQihXb3JrKAogICAgMjAwMiwgIkhvdyB2YWx1YWJsZSBpcyBjb21wYW55LXNwZWNpZmljIGRhdGEgY29tcGFyZWQgdG8gbXVsdGktY29tcGFueSBkYXRhIGZvciBzb2Z0d2FyZSBjb3N0IGVzdGltYXRpb24/IiwKICAgIGRpc3BsYXk9IndpZWN6b3JlayIsCiAgICBhdXRob3JzPSJXaWVjem9yZWssIEkuIGFuZCBSdWhlLCBNLiIsCiAgICBwbGFjZT1JU01TLAogICAgcHA9IjIzNy0yNDYiLAogICAgZW50cnl0eXBlPSJjb25mZXJlbmNlIiwKICAgIHZvbHVtZT0iMjAwMi1KYW51YXJ5IiwKICAgIGRvaT0iMTAuMTEwOS9NRVRSSUMuMjAwMi4xMDExMzQyIiwKICAgIGFydF9udW1iZXI9IjEwMTEzNDIiLAogICAgbm90ZT0iY2l0ZWQgQnkgMjkiLAogICAgSUQ9IldpZWN6b3JlazIwMDIyMzciLAopKQoKREIoQ2l0YXRpb24oCiAgICBtZW5kZXMyMDA0YSwgd2llY3pvcmVrMjAwMmEsIHJlZj0iIiwKICAgIGNvbnRleHRzPVsKCiAgICBdLAopKQoKJycnLCBjaXRhdGlvbnM9J21lbmRlczIwMDRhJyk7\"));\n",
       "    "
      ],
      "text/plain": [
       "<IPython.core.display.Javascript object>"
      ]
     },
     "metadata": {},
     "output_type": "display_data"
    },
    {
     "data": {
      "application/javascript": [
       "$('span:contains(\"# Temp\")').closest('.cell').remove();"
      ],
      "text/plain": [
       "<IPython.core.display.Javascript object>"
      ]
     },
     "metadata": {},
     "output_type": "display_data"
    },
    {
     "data": {
      "application/javascript": [
       "\n",
       "        $('span:contains(\"# Temp\")').closest('.cell').remove();\n",
       "        var code = IPython.notebook.insert_cell_below('code');\n",
       "        code.set_text(atob(\"IyBUZW1wCmluc2VydCgnJycKd2llY3pvcmVrMjAwMmEgPSBEQihXb3JrKAogICAgMjAwMiwgIkhvdyB2YWx1YWJsZSBpcyBjb21wYW55LXNwZWNpZmljIGRhdGEgY29tcGFyZWQgdG8gbXVsdGktY29tcGFueSBkYXRhIGZvciBzb2Z0d2FyZSBjb3N0IGVzdGltYXRpb24/IiwKICAgIGRpc3BsYXk9IndpZWN6b3JlayIsCiAgICBhdXRob3JzPSJXaWVjem9yZWssIEkuIGFuZCBSdWhlLCBNLiIsCiAgICBwbGFjZT1JU01TLAogICAgcHA9IjIzNy0yNDYiLAogICAgZW50cnl0eXBlPSJjb25mZXJlbmNlIiwKICAgIHZvbHVtZT0iMjAwMi1KYW51YXJ5IiwKICAgIGRvaT0iMTAuMTEwOS9NRVRSSUMuMjAwMi4xMDExMzQyIiwKICAgIGFydF9udW1iZXI9IjEwMTEzNDIiLAogICAgbm90ZT0iY2l0ZWQgQnkgMjkiLAogICAgSUQ9IldpZWN6b3JlazIwMDIyMzciLAopKQoKREIoQ2l0YXRpb24oCiAgICBtZW5kZXMyMDA0YSwgd2llY3pvcmVrMjAwMmEsIHJlZj0iIiwKICAgIGNvbnRleHRzPVsKCiAgICBdLAopKQoKJycnLCBjaXRhdGlvbnM9J21lbmRlczIwMDRhJyk7\"));\n",
       "    "
      ],
      "text/plain": [
       "<IPython.core.display.Javascript object>"
      ]
     },
     "metadata": {},
     "output_type": "display_data"
    },
    {
     "data": {
      "application/javascript": [
       "$('span:contains(\"# Temp\")').closest('.cell').remove();"
      ],
      "text/plain": [
       "<IPython.core.display.Javascript object>"
      ]
     },
     "metadata": {},
     "output_type": "display_data"
    },
    {
     "data": {
      "application/javascript": [
       "\n",
       "        $('span:contains(\"# Temp\")').closest('.cell').remove();\n",
       "        var code = IPython.notebook.insert_cell_below('code');\n",
       "        code.set_text(atob(\"IyBUZW1wCmluc2VydCgnJycKd2llY3pvcmVrMjAwMmEgPSBEQihXb3JrT2soCiAgICAyMDAyLCAiSG93IHZhbHVhYmxlIGlzIGNvbXBhbnktc3BlY2lmaWMgZGF0YSBjb21wYXJlZCB0byBtdWx0aS1jb21wYW55IGRhdGEgZm9yIHNvZnR3YXJlIGNvc3QgZXN0aW1hdGlvbj8iLAogICAgZGlzcGxheT0id2llY3pvcmVrIiwKICAgIGF1dGhvcnM9IldpZWN6b3JlaywgSS4gYW5kIFJ1aGUsIE0uIiwKICAgIHBsYWNlPUlTTVMsCiAgICBwcD0iMjM3LTI0NiIsCiAgICBlbnRyeXR5cGU9ImNvbmZlcmVuY2UiLAogICAgdm9sdW1lPSIyMDAyLUphbnVhcnkiLAogICAgZG9pPSIxMC4xMTA5L01FVFJJQy4yMDAyLjEwMTEzNDIiLAogICAgYXJ0X251bWJlcj0iMTAxMTM0MiIsCiAgICBub3RlPSJjaXRlZCBCeSAyOSIsCiAgICBJRD0iV2llY3pvcmVrMjAwMjIzNyIsCikpCgpEQihDaXRhdGlvbigKICAgIG1lbmRlczIwMDRhLCB3aWVjem9yZWsyMDAyYSwgcmVmPSIiLAogICAgY29udGV4dHM9WwoKICAgIF0sCikpCgonJycsIGNpdGF0aW9ucz0nbWVuZGVzMjAwNGEnKTs=\"));\n",
       "    "
      ],
      "text/plain": [
       "<IPython.core.display.Javascript object>"
      ]
     },
     "metadata": {},
     "output_type": "display_data"
    },
    {
     "data": {
      "application/javascript": [
       "$('span:contains(\"# Temp\")').closest('.cell').remove();"
      ],
      "text/plain": [
       "<IPython.core.display.Javascript object>"
      ]
     },
     "metadata": {},
     "output_type": "display_data"
    },
    {
     "data": {
      "application/javascript": [
       "\n",
       "        $('span:contains(\"# Temp\")').closest('.cell').remove();\n",
       "        var code = IPython.notebook.insert_cell_below('code');\n",
       "        code.set_text(atob(\"IyBUZW1wCmluc2VydCgnJycKd2lsY294b24xOTQ1YSA9IERCKFdvcmtPaygKICAgIDE5NDUsICJJbmRpdmlkdWFsIGNvbXBhcmlzb25zIGJ5IHJhbmtpbmcgbWV0aG9kcyIsCiAgICBkaXNwbGF5PSJ3aWxjb3hvbiIsCiAgICBhdXRob3JzPSJXaWxjb3hvbiwgRi4iLAogICAgcGxhY2U9QkksCiAgICBwcD0iODAtODMiLAogICAgZW50cnl0eXBlPSJhcnRpY2xlIiwKICAgIHZvbHVtZT0iMSIsCiAgICBub3RlPSJjaXRlZCBCeSA1MjcxIiwKICAgIElEPSJXaWxjb3hvbjE5NDU4MCIsCikpCgpEQihDaXRhdGlvbigKICAgIG1lbmRlczIwMDRhLCB3aWxjb3hvbjE5NDVhLCByZWY9IiIsCiAgICBjb250ZXh0cz1bCgogICAgXSwKKSkKCicnJywgY2l0YXRpb25zPSdtZW5kZXMyMDA0YScpOw==\"));\n",
       "    "
      ],
      "text/plain": [
       "<IPython.core.display.Javascript object>"
      ]
     },
     "metadata": {},
     "output_type": "display_data"
    },
    {
     "data": {
      "application/javascript": [
       "$('span:contains(\"# Temp\")').closest('.cell').remove();"
      ],
      "text/plain": [
       "<IPython.core.display.Javascript object>"
      ]
     },
     "metadata": {},
     "output_type": "display_data"
    },
    {
     "data": {
      "application/javascript": [
       "\n",
       "        $('span:contains(\"# Temp\")').closest('.cell').remove();\n",
       "        var code = IPython.notebook.insert_cell_below('code');\n",
       "        code.set_text(atob(\"IyBUZW1wCmluc2VydCgnJycKd2lsY294b24xOTQ1YSA9IERCKFdvcmsoCiAgICAxOTQ1LCAiSW5kaXZpZHVhbCBjb21wYXJpc29ucyBieSByYW5raW5nIG1ldGhvZHMiLAogICAgZGlzcGxheT0id2lsY294b24iLAogICAgYXV0aG9ycz0iV2lsY294b24sIEYuIiwKICAgIHBsYWNlPUJJLAogICAgcHA9IjgwLTgzIiwKICAgIGVudHJ5dHlwZT0iYXJ0aWNsZSIsCiAgICB2b2x1bWU9IjEiLAogICAgbm90ZT0iY2l0ZWQgQnkgNTI3MSIsCiAgICBJRD0iV2lsY294b24xOTQ1ODAiLAopKQoKREIoQ2l0YXRpb24oCiAgICBtZW5kZXMyMDA0YSwgd2lsY294b24xOTQ1YSwgcmVmPSIiLAogICAgY29udGV4dHM9WwoKICAgIF0sCikpCgonJycsIGNpdGF0aW9ucz0nbWVuZGVzMjAwNGEnKTs=\"));\n",
       "    "
      ],
      "text/plain": [
       "<IPython.core.display.Javascript object>"
      ]
     },
     "metadata": {},
     "output_type": "display_data"
    },
    {
     "data": {
      "application/javascript": [
       "$('span:contains(\"# Temp\")').closest('.cell').remove();"
      ],
      "text/plain": [
       "<IPython.core.display.Javascript object>"
      ]
     },
     "metadata": {},
     "output_type": "display_data"
    },
    {
     "data": {
      "application/javascript": [
       "\n",
       "        $('span:contains(\"# Temp\")').closest('.cell').remove();\n",
       "        var code = IPython.notebook.insert_cell_below('code');\n",
       "        code.set_text(atob(\"IyBUZW1wCmluc2VydCgnJycKd2lsY294b24xOTQ1YSA9IERCKFdvcmtPaygKICAgIDE5NDUsICJJbmRpdmlkdWFsIGNvbXBhcmlzb25zIGJ5IHJhbmtpbmcgbWV0aG9kcyIsCiAgICBkaXNwbGF5PSJ3aWxjb3hvbiIsCiAgICBhdXRob3JzPSJXaWxjb3hvbiwgRi4iLAogICAgcGxhY2U9QkksCiAgICBwcD0iODAtODMiLAogICAgZW50cnl0eXBlPSJhcnRpY2xlIiwKICAgIHZvbHVtZT0iMSIsCiAgICBub3RlPSJjaXRlZCBCeSA1MjcxIiwKICAgIElEPSJXaWxjb3hvbjE5NDU4MCIsCikpCgpEQihDaXRhdGlvbigKICAgIG1lbmRlczIwMDRhLCB3aWxjb3hvbjE5NDVhLCByZWY9IiIsCiAgICBjb250ZXh0cz1bCgogICAgXSwKKSkKCicnJywgY2l0YXRpb25zPSdtZW5kZXMyMDA0YScpOw==\"));\n",
       "    "
      ],
      "text/plain": [
       "<IPython.core.display.Javascript object>"
      ]
     },
     "metadata": {},
     "output_type": "display_data"
    }
   ],
   "source": [
    "BackwardSnowballing(\"mendes2004a\", articles=article_list)"
   ]
  },
  {
   "cell_type": "code",
   "execution_count": 24,
   "metadata": {},
   "outputs": [
    {
     "name": "stdout",
     "output_type": "stream",
     "text": [
      "-Insert: wilcoxon1945a\n",
      "-Insert Import: wilcoxon1945a\n",
      "-Insert Citation: mendes2004a -> wilcoxon1945a\n"
     ]
    }
   ],
   "source": [
    "# Temp\n",
    "insert('''\n",
    "wilcoxon1945a = DB(WorkOk(\n",
    "    1945, \"Individual comparisons by ranking methods\",\n",
    "    display=\"wilcoxon\",\n",
    "    authors=\"Wilcoxon, F.\",\n",
    "    place=BI,\n",
    "    pp=\"80-83\",\n",
    "    entrytype=\"article\",\n",
    "    volume=\"1\",\n",
    "    note=\"cited By 5271\",\n",
    "    ID=\"Wilcoxon194580\",\n",
    "))\n",
    "\n",
    "DB(Citation(\n",
    "    mendes2004a, wilcoxon1945a, ref=\"\",\n",
    "    contexts=[\n",
    "\n",
    "    ],\n",
    "))\n",
    "\n",
    "''', citations='mendes2004a');"
   ]
  },
  {
   "cell_type": "code",
   "execution_count": null,
   "metadata": {
    "collapsed": true
   },
   "outputs": [],
   "source": []
  }
 ],
 "metadata": {
  "kernelspec": {
   "display_name": "Python 3",
   "language": "python",
   "name": "python3"
  },
  "language_info": {
   "codemirror_mode": {
    "name": "ipython",
    "version": 3
   },
   "file_extension": ".py",
   "mimetype": "text/x-python",
   "name": "python",
   "nbconvert_exporter": "python",
   "pygments_lexer": "ipython3",
   "version": "3.6.0"
  },
  "toc": {
   "nav_menu": {
    "height": "12px",
    "width": "252px"
   },
   "navigate_menu": true,
   "number_sections": true,
   "sideBar": true,
   "threshold": 4,
   "toc_cell": false,
   "toc_section_display": "block",
   "toc_window_display": false
  }
 },
 "nbformat": 4,
 "nbformat_minor": 2
}
