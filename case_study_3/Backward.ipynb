{
 "cells": [
  {
   "cell_type": "code",
   "execution_count": 1,
   "metadata": {
    "collapsed": true
   },
   "outputs": [],
   "source": [
    "import database\n",
    "from snowballing.operations import load_work, reload, work_by_varname\n",
    "from snowballing.snowballing import Converter\n",
    "from snowballing.snowballing import BackwardSnowballing\n",
    "from snowballing.dbmanager import insert, set_attribute"
   ]
  },
  {
   "cell_type": "code",
   "execution_count": 2,
   "metadata": {
    "scrolled": false
   },
   "outputs": [
    {
     "data": {
      "application/vnd.jupyter.widget-view+json": {
       "model_id": "c1de7d7c71f34bd9949c889de6f20278",
       "version_major": 2,
       "version_minor": 0
      },
      "text/html": [
       "<p>Failed to display Jupyter Widget of type <code>VBox</code>.</p>\n",
       "<p>\n",
       "  If you're reading this message in Jupyter Notebook or JupyterLab, it may mean\n",
       "  that the widgets JavaScript is still loading. If this message persists, it\n",
       "  likely means that the widgets JavaScript library is either not installed or\n",
       "  not enabled. See the <a href=\"https://ipywidgets.readthedocs.io/en/stable/user_install.html\">Jupyter\n",
       "  Widgets Documentation</a> for setup instructions.\n",
       "</p>\n",
       "<p>\n",
       "  If you're reading this message in another notebook frontend (for example, a static\n",
       "  rendering on GitHub or <a href=\"https://nbviewer.jupyter.org/\">NBViewer</a>),\n",
       "  it may mean that your frontend doesn't currently support widgets.\n",
       "</p>\n"
      ],
      "text/plain": [
       "VBox(children=(HBox(children=(Dropdown(index=1, options={'BibTeX': 'bibtex', 'Text': 'text', '[N] author name place other year': 'citation', 'Quoted': 'quoted'}, value='text'), Button(description='Set article_list variable', disabled=True, style=ButtonStyle()), Label(value=''))), HBox(children=(Textarea(value='', layout=Layout(height='500px', width='50%')), Textarea(value='', layout=Layout(height='500px', width='50%'))))))"
      ]
     },
     "metadata": {},
     "output_type": "display_data"
    }
   ],
   "source": [
    "Converter().browser()"
   ]
  },
  {
   "cell_type": "code",
   "execution_count": 25,
   "metadata": {},
   "outputs": [
    {
     "data": {
      "text/plain": [
       "19"
      ]
     },
     "execution_count": 25,
     "metadata": {},
     "output_type": "execute_result"
    }
   ],
   "source": [
    "len(article_list)"
   ]
  },
  {
   "cell_type": "code",
   "execution_count": 4,
   "metadata": {},
   "outputs": [],
   "source": [
    "#from database.work.y2015 import li2015a"
   ]
  },
  {
   "cell_type": "code",
   "execution_count": 5,
   "metadata": {},
   "outputs": [],
   "source": [
    "#int(getattr(li2015a, 'scopus', 0))"
   ]
  },
  {
   "cell_type": "code",
   "execution_count": 26,
   "metadata": {},
   "outputs": [
    {
     "name": "stdout",
     "output_type": "stream",
     "text": [
      "[{'name': 'On the relative value of cross-company and within-company data for defect prediction', 'authors': 'Turhan, B. and Menzies, T. and Bener, A.B. and Di Stefano, J.', 'year': 2009, 'pp': '540-578', 'place1': 'Empirical Software Engineering', 'entrytype': 'article', 'place': 'ESE', 'display': 'turhan', 'pyref': 'turhan2009b', 'note': 'cited By 167', 'volume': '14', 'number': '5', 'doi': '10.1007/s10664-008-9103-7', 'ID': 'Conte1986', '_work_type': 'Work'}, {'name': 'Statistical power analysis for the behavioral sciences', 'authors': 'Cohen, J.', 'year': 1988, 'place1': 'Lawrence Erlbaum Associates', 'entrytype': 'article', 'place': 'LEA', 'display': 'cohen', 'pyref': 'cohen1988b', 'note': 'cited By 85', 'ID': 'Cohen1988', '_work_type': 'Work'}, {'name': 'Detection of Influential Observation in Linear Regression', 'authors': 'Cook, R.D.', 'year': 1977, 'pp': '15-18', 'place1': 'Technometrics', 'entrytype': 'article', 'place': 'Tec', 'display': 'cook', 'pyref': 'cook1977b', 'volume': '19', 'number': '1', 'doi': '10.1080/00401706.1977.10489493', 'note': 'cited By 1314', 'ID': 'Cook197715', '_work_type': 'Work'}, {'name': 'A procedure for analyzing unbalanced datasets', 'authors': 'Kitchenham, B.', 'year': 1998, 'pp': '278-301', 'place1': 'IEEE Transactions on Software Engineering', 'entrytype': 'article', 'place': 'ToSE', 'display': 'kitchenham', 'pyref': 'kitchenham1998b', 'volume': '24', 'number': '4', 'doi': '10.1109/32.677185', 'note': 'cited By 69', 'ID': 'Kitchenham1998278', '_work_type': 'Work'}, {'name': 'Case Studies for Method and Tool Evaluation', 'authors': 'Kitchenham, B. and Pickard, L. and Pfleeger, S.L.', 'year': 1995, 'pp': '52-62', 'place1': 'IEEE Software', 'entrytype': 'article', 'place': 'IEEES', 'display': 'kitchenham', 'pyref': 'kitchenham1995b', 'volume': '12', 'number': '4', 'doi': '10.1109/52.391832', 'note': 'cited By 266', 'ID': 'Kitchenham199552', '_work_type': 'Work'}, {'name': 'Cross versus within-company cost estimation studies: A systematic review', 'authors': 'Kitchenham, B.A. and Mendes, E. and Travassos, G.H.', 'year': 2007, 'pp': '316-329', 'place1': 'IEEE Transactions on Software Engineering', 'entrytype': 'article', 'place': 'ToSE', 'display': 'kitchenham', 'pyref': 'kitchenham2007b', 'volume': '33', 'number': '5', 'doi': '10.1109/TSE.2007.1001', 'note': 'cited By 175', 'ID': 'Kitchenham200181', '_work_type': 'Work'}, {'name': 'When to use data from other projects for effort estimation', 'authors': 'Kocaguneli, E. and Gay, G. and Menzies, T. and Yang, Y. and Eung, J.W.K.', 'year': 2010, 'pp': '321-324', 'place1': \"ASE'10 - Proceedings of the IEEE/ACM International Conference on Automated Software Engineering\", 'entrytype': 'conference', 'place': 'ICASE', 'display': 'kocaguneli', 'pyref': 'kocaguneli2010b', 'doi': '10.1145/1858996.1859061', 'note': 'cited By 22', 'ID': 'Kocaguneli2010321', '_work_type': 'Work'}, {'name': 'How to find relevant data for effort estimation?', 'authors': 'Kocaguneli, E. and Menzies, T.', 'year': 2011, 'pp': '255-264', 'place1': 'International Symposium on Empirical Software Engineering and Measurement', 'entrytype': 'conference', 'place': 'ESEM', 'display': 'kocaguneli', 'pyref': 'kocaguneli2011b', 'art_number': '6092574', 'note': 'cited By 24', 'ID': 'Kocaguneli2011255', '_work_type': 'Work'}, {'name': 'Exploiting the essential assumptions of analogy-based effort estimation', 'authors': 'Kocaguneli, E. and Menzies, T. and Bener, A.B. and Keung, J.W.', 'year': 2012, 'pp': '425-438', 'place1': 'IEEE Transactions on Software Engineering', 'entrytype': 'article', 'place': 'ToSE', 'display': 'kocaguneli', 'pyref': 'kocaguneli2012b', 'volume': '38', 'number': '2', 'doi': '10.1109/TSE.2011.27', 'art_number': '5728833', 'note': 'cited By 79', 'ID': 'Kocaguneli2012425', '_work_type': 'Work'}, {'name': 'A study of project selection and feature weighting for analogy based software cost estimation', 'authors': 'Li, Y.F. and Xie, M. and Goh, T.N.', 'year': 2009, 'pp': '241-252', 'place1': 'Journal of Systems and Software', 'entrytype': 'article', 'place': 'JSS', 'display': 'li', 'pyref': 'li2009b', 'volume': '82', 'number': '2', 'doi': '10.1016/j.jss.2008.06.001', 'note': 'cited By 93', 'ID': 'Li2009241', '_work_type': 'Work'}, {'name': 'Applied Statistics for Software Managers', 'authors': 'Maxwell, K.', 'year': 2002, 'place1': 'Applied Statistics for Software Managers', 'entrytype': 'article', 'place': 'ASSM', 'display': 'maxwell', 'pyref': 'maxwell2002b', 'note': 'cited By 134', 'ID': 'Maxwell2002', '_work_type': 'Work'}, {'name': 'Comparison of Web size measures for predicting Web design and authoring effort', 'authors': 'Mendes, E. and Mosley, N. and Counsell, S.', 'year': 2002, 'pp': '86-92', 'place1': 'IEE Proceedings: Software', 'entrytype': 'article', 'display': 'mendes', 'pyref': 'mendes2002b', 'volume': '149', 'number': '3', 'doi': '10.1049/ip-sen:20020337', 'note': 'cited By 48', 'ID': 'Mendes200286', '_work_type': 'Work'}, {'name': 'Investigating early web size measures for web cost estimation', 'authors': 'Mendes, E. and Mosley, N. and Counsell, S.', 'year': 2003, 'pp': '1-22', 'place1': \"Proceedings of the EASE'2003 Conference\", 'entrytype': 'article', 'display': 'mendes', 'pyref': 'mendes2003c', 'note': 'cited By 26', 'ID': 'Mendes20031', '_work_type': 'Work'}, {'name': 'Investigating Web size metrics for early Web cost estimation', 'authors': 'Mendes, E. and Mosley, N. and Counsell, S.', 'year': 2005, 'pp': '157-172', 'place1': 'Journal of Systems and Software', 'entrytype': 'article', 'place': 'JSS', 'display': 'mendes', 'pyref': 'mendes2005c', 'volume': '77', 'number': '2', 'doi': '10.1016/j.jss.2004.08.034', 'note': 'cited By 58', 'ID': 'Mendes2005157', '_work_type': 'Work'}, {'name': 'Further comparison of cross-company and within-company effort estimation models for Web applications', 'authors': 'Mendes, E. and Kitchenham, B.', 'year': 2004, 'pp': '348-357', 'place1': 'Proceedings - International Software Metrics Symposium', 'entrytype': 'conference', 'place': 'ISMS', 'display': 'mendes', 'pyref': 'mendes2004b', 'doi': '10.1109/METRIC.2004.1357920', 'note': 'cited By 76', 'ID': 'Mendes2004348', '_work_type': 'Work'}, {'name': 'Effort estimation: How valuable is it for a web company to use a cross-company data set, compared to using its own single-company data set?', 'authors': 'Mendes, E. and Di Martino, S. and Ferrucci, F. and Gravino, C.', 'year': 2007, 'pp': '963-972', 'place1': '16th International World Wide Web Conference, WWW2007', 'entrytype': 'conference', 'place': 'WWW', 'display': 'mendes', 'pyref': 'mendes2007b', 'doi': '10.1145/1242572.1242702', 'note': 'cited By 19', 'ID': 'Mendes2007963', '_work_type': 'Work'}, {'name': 'Cross-company vs. single-company web effort models using the Tukutuku database: An extended study', 'authors': 'Mendes, E. and Di Martino, S. and Ferrucci, F. and Gravino, C.', 'year': 2008, 'pp': '673-690', 'place1': 'Journal of Systems and Software', 'entrytype': 'article', 'place': 'JSS', 'display': 'mendes', 'pyref': 'mendes2008c', 'volume': '81', 'number': '5', 'doi': '10.1016/j.jss.2007.07.044', 'note': 'cited By 21', 'ID': 'Mendes2008673', '_work_type': 'Work'}, {'name': 'Local vs. global models for effort estimation and defect prediction', 'authors': 'Menzies, T. and Butcher, A. and Marcus, A. and Zimmermann, T. and Cok, D.', 'year': 2011, 'pp': '343-351', 'place1': '2011 26th IEEE/ACM International Conference on Automated Software Engineering, ASE 2011, Proceedings', 'entrytype': 'conference', 'display': 'menzies', 'pyref': 'menzies2011b', 'doi': '10.1109/ASE.2011.6100072', 'art_number': '6100072', 'note': 'cited By 56', 'ID': 'Menzies2011343', '_work_type': 'Work'}, {'name': 'Using simulation to evaluate prediction techniques', 'authors': 'Shepperd, M. and Kadoda, G.', 'year': 2001, 'pp': '349-359', 'place1': 'International Software Metrics Symposium, Proceedings', 'entrytype': 'conference', 'place': 'ISMS', 'display': 'shepperd', 'pyref': 'shepperd2001b', 'note': 'cited By 60', 'ID': 'Shepperd2001349', '_work_type': 'Work'}]\n"
     ]
    }
   ],
   "source": [
    "print(article_list)"
   ]
  },
  {
   "cell_type": "code",
   "execution_count": null,
   "metadata": {
    "collapsed": true
   },
   "outputs": [],
   "source": []
  },
  {
   "cell_type": "code",
   "execution_count": 27,
   "metadata": {},
   "outputs": [
    {
     "data": {
      "application/vnd.jupyter.widget-view+json": {
       "model_id": "29a3f86cdf944adea32e66b7248b5b43",
       "version_major": 2,
       "version_minor": 0
      },
      "text/html": [
       "<p>Failed to display Jupyter Widget of type <code>VBox</code>.</p>\n",
       "<p>\n",
       "  If you're reading this message in Jupyter Notebook or JupyterLab, it may mean\n",
       "  that the widgets JavaScript is still loading. If this message persists, it\n",
       "  likely means that the widgets JavaScript library is either not installed or\n",
       "  not enabled. See the <a href=\"https://ipywidgets.readthedocs.io/en/stable/user_install.html\">Jupyter\n",
       "  Widgets Documentation</a> for setup instructions.\n",
       "</p>\n",
       "<p>\n",
       "  If you're reading this message in another notebook frontend (for example, a static\n",
       "  rendering on GitHub or <a href=\"https://nbviewer.jupyter.org/\">NBViewer</a>),\n",
       "  it may mean that your frontend doesn't currently support widgets.\n",
       "</p>\n"
      ],
      "text/plain": [
       "VBox(children=(HBox(children=(Button(description='Previous Article', disabled=True, icon='caret-left', style=ButtonStyle()), Button(description='Reload Article', icon='refresh', style=ButtonStyle()), Button(description='Next Article', disabled=True, icon='caret-right', style=ButtonStyle()))), HBox(children=(Button(description='Unrelated: Scripts', style=ButtonStyle()), Button(description='Unrelated: Provenance', style=ButtonStyle()), Button(description='Both', style=ButtonStyle()), Button(description='Ok', style=ButtonStyle()))), HBox(children=(Dropdown(description='Type', options=('Work', 'WorkSnowball', 'WorkForward', 'WorkBackward', 'WorkOk', 'WorkUnrelated', 'WorkNoFile', 'WorkLang', 'Site', 'Email'), value='Work'), ToggleButton(value=False, description='File'))), HBox(children=(Text(value='', description='Due'), Text(value='', description='Place'))), HBox(children=(Text(value='', description='Year'), Text(value='', description='Prefix Var'))), HBox(children=(Text(value='', description='PDFPage'), Text(value='', description='Related'))), HBox(children=(Text(value='', description='Display'), Text(value='', description='Summary'))), HBox(children=(Text(value='', description='Star'), Text(value='', description='Link'))), HBox(children=(Button(description='Reload Article', icon='refresh', style=ButtonStyle()), IntSlider(value=0, max=0), Label(value='0/0'))), Output()))"
      ]
     },
     "metadata": {},
     "output_type": "display_data"
    },
    {
     "data": {
      "application/javascript": [
       "$('span:contains(\"# Temp\")').closest('.cell').remove();"
      ],
      "text/plain": [
       "<IPython.core.display.Javascript object>"
      ]
     },
     "metadata": {},
     "output_type": "display_data"
    },
    {
     "data": {
      "application/javascript": [
       "$('span:contains(\"# Temp\")').closest('.cell').remove();"
      ],
      "text/plain": [
       "<IPython.core.display.Javascript object>"
      ]
     },
     "metadata": {},
     "output_type": "display_data"
    },
    {
     "data": {
      "application/javascript": [
       "$('span:contains(\"# Temp\")').closest('.cell').remove();"
      ],
      "text/plain": [
       "<IPython.core.display.Javascript object>"
      ]
     },
     "metadata": {},
     "output_type": "display_data"
    },
    {
     "data": {
      "application/javascript": [
       "$('span:contains(\"# Temp\")').closest('.cell').remove();"
      ],
      "text/plain": [
       "<IPython.core.display.Javascript object>"
      ]
     },
     "metadata": {},
     "output_type": "display_data"
    },
    {
     "data": {
      "application/javascript": [
       "$('span:contains(\"# Temp\")').closest('.cell').remove();"
      ],
      "text/plain": [
       "<IPython.core.display.Javascript object>"
      ]
     },
     "metadata": {},
     "output_type": "display_data"
    },
    {
     "data": {
      "application/javascript": [
       "$('span:contains(\"# Temp\")').closest('.cell').remove();"
      ],
      "text/plain": [
       "<IPython.core.display.Javascript object>"
      ]
     },
     "metadata": {},
     "output_type": "display_data"
    }
   ],
   "source": [
    "BackwardSnowballing(\"ferrucci2012a\", articles=article_list)"
   ]
  },
  {
   "cell_type": "code",
   "execution_count": null,
   "metadata": {
    "collapsed": true
   },
   "outputs": [],
   "source": []
  }
 ],
 "metadata": {
  "kernelspec": {
   "display_name": "Python 3",
   "language": "python",
   "name": "python3"
  },
  "language_info": {
   "codemirror_mode": {
    "name": "ipython",
    "version": 3
   },
   "file_extension": ".py",
   "mimetype": "text/x-python",
   "name": "python",
   "nbconvert_exporter": "python",
   "pygments_lexer": "ipython3",
   "version": "3.6.0"
  },
  "toc": {
   "nav_menu": {
    "height": "12px",
    "width": "252px"
   },
   "navigate_menu": true,
   "number_sections": true,
   "sideBar": true,
   "threshold": 4,
   "toc_cell": false,
   "toc_section_display": "block",
   "toc_window_display": false
  }
 },
 "nbformat": 4,
 "nbformat_minor": 2
}
