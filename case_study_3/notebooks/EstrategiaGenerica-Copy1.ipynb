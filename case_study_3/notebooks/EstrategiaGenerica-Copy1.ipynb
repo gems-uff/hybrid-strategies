{
 "cells": [
  {
   "cell_type": "code",
   "execution_count": 2,
   "metadata": {},
   "outputs": [],
   "source": [
    "import os, sys\n",
    "sys.path.insert(1, os.path.join(sys.path[0], '..'))\n",
    "import database\n",
    "from snowballing.operations import reload, work_by_varname, load_work_map_all_years\n",
    "from snowballing.strategies import Strategy, State\n",
    "from functools import reduce\n",
    "from matplotlib_venn import venn2, venn2_circles\n",
    "from matplotlib import pyplot as plt\n",
    "\n",
    "reload()\n",
    "# !pip install matplotlib-venn"
   ]
  },
  {
   "cell_type": "code",
   "execution_count": 3,
   "metadata": {
    "collapsed": true
   },
   "outputs": [],
   "source": [
    "from snowballing.operations import metakey, metakey_title\n",
    "\n",
    "def busca(*libraries, seed=None, filter_function=None):\n",
    "    filter_function = filter_function or (lambda x: x.category in (\"snowball\",))\n",
    "    if seed is not None:\n",
    "        iterable = ((1, work_by_varname(x)) for x in seed)\n",
    "    else:\n",
    "        iterable = load_work_map_all_years()\n",
    "    seedset = set()\n",
    "    visited = set()\n",
    "    for _, work in iterable:\n",
    "        for library in libraries:\n",
    "            if int(getattr(work, library, 0)):\n",
    "                visited.add(work)\n",
    "                if filter_function(work):\n",
    "                    seedset.add(work)\n",
    "                break\n",
    "    return seedset, filter_function, visited\n",
    "\n",
    "def descreve_delta(strategy, state, name):\n",
    "    target = state.find(name)\n",
    "    previous_related = reduce(lambda x, y: x | y, (s.related for s in target.previous[0]), set())\n",
    "    for work in previous_related:\n",
    "        backward = set(strategy.ref[work]) & target.delta_visited\n",
    "        if backward:\n",
    "            print('backward', work.metakey)\n",
    "            for ref in backward:\n",
    "                print('-', ref.metakey, 'related' if ref in target.delta_related else '')\n",
    "        forward = set(strategy.rev_ref[work]) & target.delta_visited\n",
    "        if forward:\n",
    "            print('forward', work.metakey)\n",
    "            for ref in forward:\n",
    "                print('-', ref.metakey, 'related' if ref in target.delta_related else '')\n",
    "\n",
    "def separa_backward_forward(state):\n",
    "    backward = set()\n",
    "    forward = set()\n",
    "    stack = [state]\n",
    "    visited = {id(state)}\n",
    "    while stack:\n",
    "        current = stack.pop()\n",
    "        if current.previous:\n",
    "            if current.previous[1] == \"backward\":\n",
    "                backward |= current.delta_related\n",
    "            if current.previous[1] == \"forward\":\n",
    "                forward |= current.delta_related\n",
    "                \n",
    "            antecessors = current.previous[0]\n",
    "            for previous in antecessors:\n",
    "                if id(previous) not in visited:\n",
    "                    visited.add(id(previous))\n",
    "                    stack.append(previous)\n",
    "    return backward, forward\n",
    "\n",
    "def encontraria(strategy, state):\n",
    "    backward = set()\n",
    "    forward = set()\n",
    "    for work in state.related - state.find(\"s0\").related:\n",
    "        backward |= (set(strategy.ref[work]) & state.related)\n",
    "        forward |= (set(strategy.rev_ref[work]) & state.related)\n",
    "    return backward, forward\n",
    "\n",
    "#busca(\"scopus\", seed=[\"wohlin2014a\", \"briand2000a\"], filter_function=lambda x: True)\n",
    "#busca(\"scopus\", filter_function=lambda x: False)"
   ]
  },
  {
   "cell_type": "markdown",
   "metadata": {},
   "source": [
    "### Snowballing - Busca via FS e BS no Artigo mais Citado (Seed Set = 1)\n",
    "\n",
    "Não realiza busca em DL.\n",
    "Realiza uma busca, via Forward e/ou via Backward para encontrar artigos do seed set no artigo mais citado, exemplo, mendes2004a."
   ]
  },
  {
   "cell_type": "markdown",
   "metadata": {},
   "source": [
    "### Forward"
   ]
  },
  {
   "cell_type": "code",
   "execution_count": 4,
   "metadata": {
    "scrolled": true
   },
   "outputs": [
    {
     "data": {
      "text/plain": [
       "{Web effort estimation: The value of cross-company data set compared to single-company data set,\n",
       " Building software cost estimation models using homogenous data}"
      ]
     },
     "execution_count": 4,
     "metadata": {},
     "output_type": "execute_result"
    }
   ],
   "source": [
    "### Delta Related = Conector do nó\n",
    "strategy = Strategy({work_by_varname(\"mendes2004a\")})\n",
    "strategy.forward().delta_related"
   ]
  },
  {
   "cell_type": "code",
   "execution_count": 5,
   "metadata": {
    "scrolled": true
   },
   "outputs": [
    {
     "data": {
      "text/plain": [
       "{'briand1999a',\n",
       " 'briand2000a',\n",
       " 'christodoulou2000a',\n",
       " 'cook1977a',\n",
       " 'jeffery2000a',\n",
       " 'jeffery2001a',\n",
       " 'kemerer1987a',\n",
       " 'kitchenham1984a',\n",
       " 'kitchenham1998a',\n",
       " 'kitchenham2001a',\n",
       " 'kitchenham2004a',\n",
       " 'maxwell2002a',\n",
       " 'mendes2003a',\n",
       " 'mendes2003b',\n",
       " 'mendes2004a',\n",
       " 'shepperd2001a',\n",
       " 'wieczorek2002a',\n",
       " 'wilcoxon1945a'}"
      ]
     },
     "execution_count": 5,
     "metadata": {},
     "output_type": "execute_result"
    }
   ],
   "source": [
    "\n",
    "{x.metakey for x in strategy.backward().visited}\n"
   ]
  },
  {
   "cell_type": "code",
   "execution_count": 6,
   "metadata": {
    "scrolled": true
   },
   "outputs": [
    {
     "data": {
      "image/svg+xml": [
       "<?xml version=\"1.0\" encoding=\"UTF-8\" standalone=\"no\"?>\r\n",
       "<!DOCTYPE svg PUBLIC \"-//W3C//DTD SVG 1.1//EN\"\r\n",
       " \"http://www.w3.org/Graphics/SVG/1.1/DTD/svg11.dtd\">\r\n",
       "<!-- Generated by graphviz version 2.38.0 (20140413.2041)\r\n",
       " -->\r\n",
       "<!-- Title: G Pages: 1 -->\r\n",
       "<svg width=\"296pt\" height=\"90pt\"\r\n",
       " viewBox=\"0.00 0.00 295.99 90.48\" xmlns=\"http://www.w3.org/2000/svg\" xmlns:xlink=\"http://www.w3.org/1999/xlink\">\r\n",
       "<g id=\"graph0\" class=\"graph\" transform=\"scale(1 1) rotate(0) translate(4 86.4767)\">\r\n",
       "<title>G</title>\r\n",
       "<polygon fill=\"white\" stroke=\"none\" points=\"-4,4 -4,-86.4767 291.99,-86.4767 291.99,4 -4,4\"/>\r\n",
       "<!-- s1 -->\r\n",
       "<g id=\"node1\" class=\"node\"><title>s1</title>\r\n",
       "<ellipse fill=\"none\" stroke=\"black\" cx=\"236.371\" cy=\"-37.4767\" rx=\"51.7379\" ry=\"37.4533\"/>\r\n",
       "<text text-anchor=\"middle\" x=\"236.371\" y=\"-48.7767\" font-family=\"Times New Roman,serif\" font-size=\"14.00\">s1</text>\r\n",
       "<text text-anchor=\"middle\" x=\"236.371\" y=\"-33.7767\" font-family=\"Times New Roman,serif\" font-size=\"14.00\">visited: 61</text>\r\n",
       "<text text-anchor=\"middle\" x=\"236.371\" y=\"-18.7767\" font-family=\"Times New Roman,serif\" font-size=\"14.00\">related: 3</text>\r\n",
       "</g>\r\n",
       "<!-- s0 -->\r\n",
       "<g id=\"node2\" class=\"node\"><title>s0</title>\r\n",
       "<ellipse fill=\"none\" stroke=\"black\" cx=\"47.3762\" cy=\"-37.4767\" rx=\"47.2526\" ry=\"37.4533\"/>\r\n",
       "<text text-anchor=\"middle\" x=\"47.3762\" y=\"-48.7767\" font-family=\"Times New Roman,serif\" font-size=\"14.00\">s0</text>\r\n",
       "<text text-anchor=\"middle\" x=\"47.3762\" y=\"-33.7767\" font-family=\"Times New Roman,serif\" font-size=\"14.00\">visited: 1</text>\r\n",
       "<text text-anchor=\"middle\" x=\"47.3762\" y=\"-18.7767\" font-family=\"Times New Roman,serif\" font-size=\"14.00\">related: 1</text>\r\n",
       "</g>\r\n",
       "<!-- s1&#45;&gt;s0 -->\r\n",
       "<g id=\"edge1\" class=\"edge\"><title>s1&#45;&gt;s0</title>\r\n",
       "<path fill=\"none\" stroke=\"black\" d=\"M184.274,-37.4767C159.753,-37.4767 130.296,-37.4767 105.085,-37.4767\"/>\r\n",
       "<polygon fill=\"black\" stroke=\"black\" points=\"104.93,-33.9768 94.9301,-37.4767 104.93,-40.9768 104.93,-33.9768\"/>\r\n",
       "<text text-anchor=\"middle\" x=\"139.752\" y=\"-71.2767\" font-family=\"Times New Roman,serif\" font-size=\"14.00\">forward</text>\r\n",
       "<text text-anchor=\"middle\" x=\"139.752\" y=\"-56.2767\" font-family=\"Times New Roman,serif\" font-size=\"14.00\">found: 60</text>\r\n",
       "<text text-anchor=\"middle\" x=\"139.752\" y=\"-41.2767\" font-family=\"Times New Roman,serif\" font-size=\"14.00\">related: 2</text>\r\n",
       "</g>\r\n",
       "</g>\r\n",
       "</svg>\r\n"
      ],
      "text/plain": [
       "Step(name='start', new_references=1, new_related=1, total_visited=1, total_related=1, source='', target='s0')\n",
       "Step(name='forward', new_references=60, new_related=2, total_visited=61, total_related=3, source='s0', target='s1')"
      ],
      "text/vnd.graphviz": [
       "digraph G {\n",
       "  rankdir=\"RL\";\n",
       "\n",
       "  s1 [label=\"s1\\nvisited: 61\\nrelated: 3\"];\n",
       "  s1 -> s0 [label=\"forward\\nfound: 60\\nrelated: 2\"];\n",
       "\n",
       "  s0 [label=\"s0\\nvisited: 1\\nrelated: 1\"];\n",
       "\n",
       "}"
      ]
     },
     "metadata": {},
     "output_type": "display_data"
    }
   ],
   "source": [
    "### Grafo\n",
    "strategy = Strategy({work_by_varname(\"mendes2004a\")})\n",
    "State.last_id = 0\n",
    "strategy.forward()"
   ]
  },
  {
   "cell_type": "code",
   "execution_count": 7,
   "metadata": {
    "scrolled": true
   },
   "outputs": [
    {
     "data": {
      "text/plain": [
       "{Further comparison of cross-company and within-company effort estimation models for web applications,\n",
       " Web effort estimation: The value of cross-company data set compared to single-company data set,\n",
       " Building software cost estimation models using homogenous data}"
      ]
     },
     "execution_count": 7,
     "metadata": {},
     "output_type": "execute_result"
    }
   ],
   "source": [
    "### Related do S1\n",
    "strategy = Strategy({work_by_varname(\"mendes2004a\")})\n",
    "State.last_id = 0\n",
    "strategy.forward().related"
   ]
  },
  {
   "cell_type": "markdown",
   "metadata": {},
   "source": [
    "### Backward"
   ]
  },
  {
   "cell_type": "code",
   "execution_count": 8,
   "metadata": {
    "scrolled": true
   },
   "outputs": [
    {
     "data": {
      "text/plain": [
       "{A comparison of cross-company and within-company effort estimation models for web applications}"
      ]
     },
     "execution_count": 8,
     "metadata": {},
     "output_type": "execute_result"
    }
   ],
   "source": [
    "strategy = Strategy({work_by_varname(\"mendes2004a\")})\n",
    "State.last_id = 0\n",
    "strategy.backward().delta_related"
   ]
  },
  {
   "cell_type": "code",
   "execution_count": 9,
   "metadata": {
    "scrolled": true
   },
   "outputs": [
    {
     "data": {
      "text/plain": [
       "{Detection of influential observation in linear regression,\n",
       " What accuracy statistics really measure,\n",
       " Using simulation to evaluate prediction techniques,\n",
       " A replicated assessment of the use of adaptation rules to improve Web cost estimation,\n",
       " Software cost models,\n",
       " How valuable is company-specific data compared to multi-company data for software cost estimation?,\n",
       " Investigating early web size measures for web cost estimation,\n",
       " Assessment and comparison of common software cost estimation modeling techniques,\n",
       " Applied statistics for software managers,\n",
       " A comparative study of two software development cost modeling techniques using multi-organizational and company-specific data,\n",
       " Further comparison of cross-company and within-company effort estimation models for web applications,\n",
       " An empirical validation of software cost estimation models,\n",
       " A replicated assessment and comparison of common software cost modeling techniques,\n",
       " A comparison of cross-company and within-company effort estimation models for web applications,\n",
       " Individual comparisons by ranking methods,\n",
       " WWW2000: The Developer's view and a practitioner's approach to Web Engineering,\n",
       " Using public domain metrics to estimate software development effort,\n",
       " A procedure for analyzing unbalanced datasets}"
      ]
     },
     "execution_count": 9,
     "metadata": {},
     "output_type": "execute_result"
    }
   ],
   "source": [
    "strategy = Strategy({work_by_varname(\"mendes2004a\")})\n",
    "State.last_id = 0\n",
    "strategy.backward().visited"
   ]
  },
  {
   "cell_type": "code",
   "execution_count": 10,
   "metadata": {
    "scrolled": true
   },
   "outputs": [
    {
     "data": {
      "image/svg+xml": [
       "<?xml version=\"1.0\" encoding=\"UTF-8\" standalone=\"no\"?>\r\n",
       "<!DOCTYPE svg PUBLIC \"-//W3C//DTD SVG 1.1//EN\"\r\n",
       " \"http://www.w3.org/Graphics/SVG/1.1/DTD/svg11.dtd\">\r\n",
       "<!-- Generated by graphviz version 2.38.0 (20140413.2041)\r\n",
       " -->\r\n",
       "<!-- Title: G Pages: 1 -->\r\n",
       "<svg width=\"297pt\" height=\"90pt\"\r\n",
       " viewBox=\"0.00 0.00 296.99 90.48\" xmlns=\"http://www.w3.org/2000/svg\" xmlns:xlink=\"http://www.w3.org/1999/xlink\">\r\n",
       "<g id=\"graph0\" class=\"graph\" transform=\"scale(1 1) rotate(0) translate(4 86.4767)\">\r\n",
       "<title>G</title>\r\n",
       "<polygon fill=\"white\" stroke=\"none\" points=\"-4,4 -4,-86.4767 292.99,-86.4767 292.99,4 -4,4\"/>\r\n",
       "<!-- s1 -->\r\n",
       "<g id=\"node1\" class=\"node\"><title>s1</title>\r\n",
       "<ellipse fill=\"none\" stroke=\"black\" cx=\"237.371\" cy=\"-37.4767\" rx=\"51.7379\" ry=\"37.4533\"/>\r\n",
       "<text text-anchor=\"middle\" x=\"237.371\" y=\"-48.7767\" font-family=\"Times New Roman,serif\" font-size=\"14.00\">s1</text>\r\n",
       "<text text-anchor=\"middle\" x=\"237.371\" y=\"-33.7767\" font-family=\"Times New Roman,serif\" font-size=\"14.00\">visited: 18</text>\r\n",
       "<text text-anchor=\"middle\" x=\"237.371\" y=\"-18.7767\" font-family=\"Times New Roman,serif\" font-size=\"14.00\">related: 2</text>\r\n",
       "</g>\r\n",
       "<!-- s0 -->\r\n",
       "<g id=\"node2\" class=\"node\"><title>s0</title>\r\n",
       "<ellipse fill=\"none\" stroke=\"black\" cx=\"47.3762\" cy=\"-37.4767\" rx=\"47.2526\" ry=\"37.4533\"/>\r\n",
       "<text text-anchor=\"middle\" x=\"47.3762\" y=\"-48.7767\" font-family=\"Times New Roman,serif\" font-size=\"14.00\">s0</text>\r\n",
       "<text text-anchor=\"middle\" x=\"47.3762\" y=\"-33.7767\" font-family=\"Times New Roman,serif\" font-size=\"14.00\">visited: 1</text>\r\n",
       "<text text-anchor=\"middle\" x=\"47.3762\" y=\"-18.7767\" font-family=\"Times New Roman,serif\" font-size=\"14.00\">related: 1</text>\r\n",
       "</g>\r\n",
       "<!-- s1&#45;&gt;s0 -->\r\n",
       "<g id=\"edge1\" class=\"edge\"><title>s1&#45;&gt;s0</title>\r\n",
       "<path fill=\"none\" stroke=\"black\" d=\"M185.497,-37.4767C160.648,-37.4767 130.665,-37.4767 105.082,-37.4767\"/>\r\n",
       "<polygon fill=\"black\" stroke=\"black\" points=\"104.783,-33.9768 94.7827,-37.4767 104.783,-40.9768 104.783,-33.9768\"/>\r\n",
       "<text text-anchor=\"middle\" x=\"140.252\" y=\"-71.2767\" font-family=\"Times New Roman,serif\" font-size=\"14.00\">backward</text>\r\n",
       "<text text-anchor=\"middle\" x=\"140.252\" y=\"-56.2767\" font-family=\"Times New Roman,serif\" font-size=\"14.00\">found: 17</text>\r\n",
       "<text text-anchor=\"middle\" x=\"140.252\" y=\"-41.2767\" font-family=\"Times New Roman,serif\" font-size=\"14.00\">related: 1</text>\r\n",
       "</g>\r\n",
       "</g>\r\n",
       "</svg>\r\n"
      ],
      "text/plain": [
       "Step(name='start', new_references=1, new_related=1, total_visited=1, total_related=1, source='', target='s0')\n",
       "Step(name='backward', new_references=17, new_related=1, total_visited=18, total_related=2, source='s0', target='s1')"
      ],
      "text/vnd.graphviz": [
       "digraph G {\n",
       "  rankdir=\"RL\";\n",
       "\n",
       "  s1 [label=\"s1\\nvisited: 18\\nrelated: 2\"];\n",
       "  s1 -> s0 [label=\"backward\\nfound: 17\\nrelated: 1\"];\n",
       "\n",
       "  s0 [label=\"s0\\nvisited: 1\\nrelated: 1\"];\n",
       "\n",
       "}"
      ]
     },
     "metadata": {},
     "output_type": "display_data"
    }
   ],
   "source": [
    "strategy = Strategy({work_by_varname(\"mendes2004a\")})\n",
    "State.last_id = 0\n",
    "strategy.backward()"
   ]
  },
  {
   "cell_type": "code",
   "execution_count": 11,
   "metadata": {
    "scrolled": true
   },
   "outputs": [
    {
     "data": {
      "text/plain": [
       "'s1'"
      ]
     },
     "execution_count": 11,
     "metadata": {},
     "output_type": "execute_result"
    }
   ],
   "source": [
    "strategy = Strategy({work_by_varname(\"mendes2004a\")})\n",
    "State.last_id = 0\n",
    "strategy.backward().name"
   ]
  },
  {
   "cell_type": "markdown",
   "metadata": {},
   "source": [
    "### Snowballing - Forward and Backward - Union (N vezes)"
   ]
  },
  {
   "cell_type": "code",
   "execution_count": 12,
   "metadata": {
    "scrolled": true
   },
   "outputs": [
    {
     "data": {
      "image/svg+xml": [
       "<?xml version=\"1.0\" encoding=\"UTF-8\" standalone=\"no\"?>\r\n",
       "<!DOCTYPE svg PUBLIC \"-//W3C//DTD SVG 1.1//EN\"\r\n",
       " \"http://www.w3.org/Graphics/SVG/1.1/DTD/svg11.dtd\">\r\n",
       "<!-- Generated by graphviz version 2.38.0 (20140413.2041)\r\n",
       " -->\r\n",
       "<!-- Title: G Pages: 1 -->\r\n",
       "<svg width=\"872pt\" height=\"185pt\"\r\n",
       " viewBox=\"0.00 0.00 871.70 184.95\" xmlns=\"http://www.w3.org/2000/svg\" xmlns:xlink=\"http://www.w3.org/1999/xlink\">\r\n",
       "<g id=\"graph0\" class=\"graph\" transform=\"scale(1 1) rotate(0) translate(4 180.953)\">\r\n",
       "<title>G</title>\r\n",
       "<polygon fill=\"white\" stroke=\"none\" points=\"-4,4 -4,-180.953 867.703,-180.953 867.703,4 -4,4\"/>\r\n",
       "<!-- s6 -->\r\n",
       "<g id=\"node1\" class=\"node\"><title>s6</title>\r\n",
       "<ellipse fill=\"none\" stroke=\"black\" cx=\"812.084\" cy=\"-86.4767\" rx=\"51.7379\" ry=\"37.4533\"/>\r\n",
       "<text text-anchor=\"middle\" x=\"812.084\" y=\"-97.7767\" font-family=\"Times New Roman,serif\" font-size=\"14.00\">s6</text>\r\n",
       "<text text-anchor=\"middle\" x=\"812.084\" y=\"-82.7767\" font-family=\"Times New Roman,serif\" font-size=\"14.00\">visited: 99</text>\r\n",
       "<text text-anchor=\"middle\" x=\"812.084\" y=\"-67.7767\" font-family=\"Times New Roman,serif\" font-size=\"14.00\">related: 4</text>\r\n",
       "</g>\r\n",
       "<!-- s4 -->\r\n",
       "<g id=\"node2\" class=\"node\"><title>s4</title>\r\n",
       "<ellipse fill=\"none\" stroke=\"black\" cx=\"621.846\" cy=\"-130.477\" rx=\"51.7379\" ry=\"37.4533\"/>\r\n",
       "<text text-anchor=\"middle\" x=\"621.846\" y=\"-141.777\" font-family=\"Times New Roman,serif\" font-size=\"14.00\">s4</text>\r\n",
       "<text text-anchor=\"middle\" x=\"621.846\" y=\"-126.777\" font-family=\"Times New Roman,serif\" font-size=\"14.00\">visited: 88</text>\r\n",
       "<text text-anchor=\"middle\" x=\"621.846\" y=\"-111.777\" font-family=\"Times New Roman,serif\" font-size=\"14.00\">related: 4</text>\r\n",
       "</g>\r\n",
       "<!-- s6&#45;&gt;s4 -->\r\n",
       "<g id=\"edge1\" class=\"edge\"><title>s6&#45;&gt;s4</title>\r\n",
       "<path fill=\"none\" stroke=\"black\" d=\"M762.608,-97.8078C737.687,-103.633 707.133,-110.775 680.956,-116.894\"/>\r\n",
       "<polygon fill=\"black\" stroke=\"black\" points=\"680.099,-113.5 671.158,-119.184 681.692,-120.316 680.099,-113.5\"/>\r\n",
       "<text text-anchor=\"middle\" x=\"716.965\" y=\"-147.277\" font-family=\"Times New Roman,serif\" font-size=\"14.00\">union</text>\r\n",
       "<text text-anchor=\"middle\" x=\"716.965\" y=\"-132.277\" font-family=\"Times New Roman,serif\" font-size=\"14.00\">found: 0</text>\r\n",
       "<text text-anchor=\"middle\" x=\"716.965\" y=\"-117.277\" font-family=\"Times New Roman,serif\" font-size=\"14.00\">related: 0</text>\r\n",
       "</g>\r\n",
       "<!-- s5 -->\r\n",
       "<g id=\"node3\" class=\"node\"><title>s5</title>\r\n",
       "<ellipse fill=\"none\" stroke=\"black\" cx=\"621.846\" cy=\"-37.4767\" rx=\"51.7379\" ry=\"37.4533\"/>\r\n",
       "<text text-anchor=\"middle\" x=\"621.846\" y=\"-48.7767\" font-family=\"Times New Roman,serif\" font-size=\"14.00\">s5</text>\r\n",
       "<text text-anchor=\"middle\" x=\"621.846\" y=\"-33.7767\" font-family=\"Times New Roman,serif\" font-size=\"14.00\">visited: 89</text>\r\n",
       "<text text-anchor=\"middle\" x=\"621.846\" y=\"-18.7767\" font-family=\"Times New Roman,serif\" font-size=\"14.00\">related: 4</text>\r\n",
       "</g>\r\n",
       "<!-- s6&#45;&gt;s5 -->\r\n",
       "<g id=\"edge2\" class=\"edge\"><title>s6&#45;&gt;s5</title>\r\n",
       "<path fill=\"none\" stroke=\"black\" d=\"M769.756,-64.8235C760.934,-60.8822 751.537,-57.1718 742.465,-54.4767 723.631,-48.8817 702.566,-45.1051 683.424,-42.5653\"/>\r\n",
       "<polygon fill=\"black\" stroke=\"black\" points=\"683.667,-39.0689 673.313,-41.3124 682.807,-46.0157 683.667,-39.0689\"/>\r\n",
       "<text text-anchor=\"middle\" x=\"716.965\" y=\"-88.2767\" font-family=\"Times New Roman,serif\" font-size=\"14.00\">union</text>\r\n",
       "<text text-anchor=\"middle\" x=\"716.965\" y=\"-73.2767\" font-family=\"Times New Roman,serif\" font-size=\"14.00\">found: 0</text>\r\n",
       "<text text-anchor=\"middle\" x=\"716.965\" y=\"-58.2767\" font-family=\"Times New Roman,serif\" font-size=\"14.00\">related: 0</text>\r\n",
       "</g>\r\n",
       "<!-- s3 -->\r\n",
       "<g id=\"node4\" class=\"node\"><title>s3</title>\r\n",
       "<ellipse fill=\"none\" stroke=\"black\" cx=\"427.609\" cy=\"-86.4767\" rx=\"51.7379\" ry=\"37.4533\"/>\r\n",
       "<text text-anchor=\"middle\" x=\"427.609\" y=\"-97.7767\" font-family=\"Times New Roman,serif\" font-size=\"14.00\">s3</text>\r\n",
       "<text text-anchor=\"middle\" x=\"427.609\" y=\"-82.7767\" font-family=\"Times New Roman,serif\" font-size=\"14.00\">visited: 78</text>\r\n",
       "<text text-anchor=\"middle\" x=\"427.609\" y=\"-67.7767\" font-family=\"Times New Roman,serif\" font-size=\"14.00\">related: 4</text>\r\n",
       "</g>\r\n",
       "<!-- s4&#45;&gt;s3 -->\r\n",
       "<g id=\"edge3\" class=\"edge\"><title>s4&#45;&gt;s3</title>\r\n",
       "<path fill=\"none\" stroke=\"black\" d=\"M572.337,-119.374C546.382,-113.433 514.232,-106.074 486.924,-99.8241\"/>\r\n",
       "<polygon fill=\"black\" stroke=\"black\" points=\"487.632,-96.3956 477.103,-97.5762 486.07,-103.219 487.632,-96.3956\"/>\r\n",
       "<text text-anchor=\"middle\" x=\"524.727\" y=\"-147.277\" font-family=\"Times New Roman,serif\" font-size=\"14.00\">forward</text>\r\n",
       "<text text-anchor=\"middle\" x=\"524.727\" y=\"-132.277\" font-family=\"Times New Roman,serif\" font-size=\"14.00\">found: 10</text>\r\n",
       "<text text-anchor=\"middle\" x=\"524.727\" y=\"-117.277\" font-family=\"Times New Roman,serif\" font-size=\"14.00\">related: 0</text>\r\n",
       "</g>\r\n",
       "<!-- s5&#45;&gt;s3 -->\r\n",
       "<g id=\"edge4\" class=\"edge\"><title>s5&#45;&gt;s3</title>\r\n",
       "<path fill=\"none\" stroke=\"black\" d=\"M570.203,-40.988C547.547,-43.4354 520.709,-47.5584 497.227,-54.4767 491.27,-56.2319 485.174,-58.4293 479.193,-60.8459\"/>\r\n",
       "<polygon fill=\"black\" stroke=\"black\" points=\"477.757,-57.6536 469.927,-64.7918 480.499,-64.0939 477.757,-57.6536\"/>\r\n",
       "<text text-anchor=\"middle\" x=\"524.727\" y=\"-88.2767\" font-family=\"Times New Roman,serif\" font-size=\"14.00\">backward</text>\r\n",
       "<text text-anchor=\"middle\" x=\"524.727\" y=\"-73.2767\" font-family=\"Times New Roman,serif\" font-size=\"14.00\">found: 11</text>\r\n",
       "<text text-anchor=\"middle\" x=\"524.727\" y=\"-58.2767\" font-family=\"Times New Roman,serif\" font-size=\"14.00\">related: 0</text>\r\n",
       "</g>\r\n",
       "<!-- s1 -->\r\n",
       "<g id=\"node5\" class=\"node\"><title>s1</title>\r\n",
       "<ellipse fill=\"none\" stroke=\"black\" cx=\"237.371\" cy=\"-139.477\" rx=\"51.7379\" ry=\"37.4533\"/>\r\n",
       "<text text-anchor=\"middle\" x=\"237.371\" y=\"-150.777\" font-family=\"Times New Roman,serif\" font-size=\"14.00\">s1</text>\r\n",
       "<text text-anchor=\"middle\" x=\"237.371\" y=\"-135.777\" font-family=\"Times New Roman,serif\" font-size=\"14.00\">visited: 61</text>\r\n",
       "<text text-anchor=\"middle\" x=\"237.371\" y=\"-120.777\" font-family=\"Times New Roman,serif\" font-size=\"14.00\">related: 3</text>\r\n",
       "</g>\r\n",
       "<!-- s3&#45;&gt;s1 -->\r\n",
       "<g id=\"edge5\" class=\"edge\"><title>s3&#45;&gt;s1</title>\r\n",
       "<path fill=\"none\" stroke=\"black\" d=\"M381.044,-103.117C373.389,-105.71 365.494,-108.26 357.99,-110.477 338.269,-116.3 316.473,-121.843 296.948,-126.494\"/>\r\n",
       "<polygon fill=\"black\" stroke=\"black\" points=\"295.901,-123.145 286.968,-128.841 297.504,-129.959 295.901,-123.145\"/>\r\n",
       "<text text-anchor=\"middle\" x=\"332.49\" y=\"-157.277\" font-family=\"Times New Roman,serif\" font-size=\"14.00\">union</text>\r\n",
       "<text text-anchor=\"middle\" x=\"332.49\" y=\"-142.277\" font-family=\"Times New Roman,serif\" font-size=\"14.00\">found: 0</text>\r\n",
       "<text text-anchor=\"middle\" x=\"332.49\" y=\"-127.277\" font-family=\"Times New Roman,serif\" font-size=\"14.00\">related: 0</text>\r\n",
       "</g>\r\n",
       "<!-- s2 -->\r\n",
       "<g id=\"node6\" class=\"node\"><title>s2</title>\r\n",
       "<ellipse fill=\"none\" stroke=\"black\" cx=\"237.371\" cy=\"-46.4767\" rx=\"51.7379\" ry=\"37.4533\"/>\r\n",
       "<text text-anchor=\"middle\" x=\"237.371\" y=\"-57.7767\" font-family=\"Times New Roman,serif\" font-size=\"14.00\">s2</text>\r\n",
       "<text text-anchor=\"middle\" x=\"237.371\" y=\"-42.7767\" font-family=\"Times New Roman,serif\" font-size=\"14.00\">visited: 18</text>\r\n",
       "<text text-anchor=\"middle\" x=\"237.371\" y=\"-27.7767\" font-family=\"Times New Roman,serif\" font-size=\"14.00\">related: 2</text>\r\n",
       "</g>\r\n",
       "<!-- s3&#45;&gt;s2 -->\r\n",
       "<g id=\"edge6\" class=\"edge\"><title>s3&#45;&gt;s2</title>\r\n",
       "<path fill=\"none\" stroke=\"black\" d=\"M380.338,-71.3583C372.911,-69.2091 365.273,-67.1608 357.99,-65.4767 338.801,-61.0392 317.64,-57.3053 298.52,-54.3543\"/>\r\n",
       "<polygon fill=\"black\" stroke=\"black\" points=\"298.84,-50.8633 288.431,-52.8395 297.801,-57.7857 298.84,-50.8633\"/>\r\n",
       "<text text-anchor=\"middle\" x=\"332.49\" y=\"-99.2767\" font-family=\"Times New Roman,serif\" font-size=\"14.00\">union</text>\r\n",
       "<text text-anchor=\"middle\" x=\"332.49\" y=\"-84.2767\" font-family=\"Times New Roman,serif\" font-size=\"14.00\">found: 0</text>\r\n",
       "<text text-anchor=\"middle\" x=\"332.49\" y=\"-69.2767\" font-family=\"Times New Roman,serif\" font-size=\"14.00\">related: 0</text>\r\n",
       "</g>\r\n",
       "<!-- s0 -->\r\n",
       "<g id=\"node7\" class=\"node\"><title>s0</title>\r\n",
       "<ellipse fill=\"none\" stroke=\"black\" cx=\"47.3762\" cy=\"-95.4767\" rx=\"47.2526\" ry=\"37.4533\"/>\r\n",
       "<text text-anchor=\"middle\" x=\"47.3762\" y=\"-106.777\" font-family=\"Times New Roman,serif\" font-size=\"14.00\">s0</text>\r\n",
       "<text text-anchor=\"middle\" x=\"47.3762\" y=\"-91.7767\" font-family=\"Times New Roman,serif\" font-size=\"14.00\">visited: 1</text>\r\n",
       "<text text-anchor=\"middle\" x=\"47.3762\" y=\"-76.7767\" font-family=\"Times New Roman,serif\" font-size=\"14.00\">related: 1</text>\r\n",
       "</g>\r\n",
       "<!-- s1&#45;&gt;s0 -->\r\n",
       "<g id=\"edge7\" class=\"edge\"><title>s1&#45;&gt;s0</title>\r\n",
       "<path fill=\"none\" stroke=\"black\" d=\"M187.958,-128.146C162.008,-122.072 129.942,-114.567 103.091,-108.283\"/>\r\n",
       "<polygon fill=\"black\" stroke=\"black\" points=\"103.614,-104.81 93.0792,-105.939 102.018,-111.626 103.614,-104.81\"/>\r\n",
       "<text text-anchor=\"middle\" x=\"140.252\" y=\"-156.277\" font-family=\"Times New Roman,serif\" font-size=\"14.00\">forward</text>\r\n",
       "<text text-anchor=\"middle\" x=\"140.252\" y=\"-141.277\" font-family=\"Times New Roman,serif\" font-size=\"14.00\">found: 60</text>\r\n",
       "<text text-anchor=\"middle\" x=\"140.252\" y=\"-126.277\" font-family=\"Times New Roman,serif\" font-size=\"14.00\">related: 2</text>\r\n",
       "</g>\r\n",
       "<!-- s2&#45;&gt;s0 -->\r\n",
       "<g id=\"edge8\" class=\"edge\"><title>s2&#45;&gt;s0</title>\r\n",
       "<path fill=\"none\" stroke=\"black\" d=\"M185.57,-48.4583C162.884,-50.4019 136.067,-54.1796 112.752,-61.4767 106.736,-63.3596 100.621,-65.7994 94.673,-68.5076\"/>\r\n",
       "<polygon fill=\"black\" stroke=\"black\" points=\"92.9815,-65.4378 85.5031,-72.9428 96.0294,-71.7395 92.9815,-65.4378\"/>\r\n",
       "<text text-anchor=\"middle\" x=\"140.252\" y=\"-95.2767\" font-family=\"Times New Roman,serif\" font-size=\"14.00\">backward</text>\r\n",
       "<text text-anchor=\"middle\" x=\"140.252\" y=\"-80.2767\" font-family=\"Times New Roman,serif\" font-size=\"14.00\">found: 17</text>\r\n",
       "<text text-anchor=\"middle\" x=\"140.252\" y=\"-65.2767\" font-family=\"Times New Roman,serif\" font-size=\"14.00\">related: 1</text>\r\n",
       "</g>\r\n",
       "</g>\r\n",
       "</svg>\r\n"
      ],
      "text/plain": [
       "Step(name='start', new_references=1, new_related=1, total_visited=1, total_related=1, source='', target='s0')\n",
       "Step(name='backward', new_references=17, new_related=1, total_visited=18, total_related=2, source='s0', target='s2')\n",
       "Step(name='forward', new_references=60, new_related=2, total_visited=61, total_related=3, source='s0', target='s1')\n",
       "Step(name='union', new_references=0, new_related=0, total_visited=78, total_related=4, source='s1|s2', target='s3')\n",
       "Step(name='backward', new_references=11, new_related=0, total_visited=89, total_related=4, source='s3', target='s5')\n",
       "Step(name='forward', new_references=10, new_related=0, total_visited=88, total_related=4, source='s3', target='s4')\n",
       "Step(name='union', new_references=0, new_related=0, total_visited=99, total_related=4, source='s4|s5', target='s6')"
      ],
      "text/vnd.graphviz": [
       "digraph G {\n",
       "  rankdir=\"RL\";\n",
       "\n",
       "  s6 [label=\"s6\\nvisited: 99\\nrelated: 4\"];\n",
       "  s6 -> s4 [label=\"union\\nfound: 0\\nrelated: 0\"];\n",
       "  s6 -> s5 [label=\"union\\nfound: 0\\nrelated: 0\"];\n",
       "\n",
       "  s4 [label=\"s4\\nvisited: 88\\nrelated: 4\"];\n",
       "  s4 -> s3 [label=\"forward\\nfound: 10\\nrelated: 0\"];\n",
       "\n",
       "  s5 [label=\"s5\\nvisited: 89\\nrelated: 4\"];\n",
       "  s5 -> s3 [label=\"backward\\nfound: 11\\nrelated: 0\"];\n",
       "\n",
       "  s3 [label=\"s3\\nvisited: 78\\nrelated: 4\"];\n",
       "  s3 -> s1 [label=\"union\\nfound: 0\\nrelated: 0\"];\n",
       "  s3 -> s2 [label=\"union\\nfound: 0\\nrelated: 0\"];\n",
       "\n",
       "  s1 [label=\"s1\\nvisited: 61\\nrelated: 3\"];\n",
       "  s1 -> s0 [label=\"forward\\nfound: 60\\nrelated: 2\"];\n",
       "\n",
       "  s2 [label=\"s2\\nvisited: 18\\nrelated: 2\"];\n",
       "  s2 -> s0 [label=\"backward\\nfound: 17\\nrelated: 1\"];\n",
       "\n",
       "  s0 [label=\"s0\\nvisited: 1\\nrelated: 1\"];\n",
       "\n",
       "}"
      ]
     },
     "metadata": {},
     "output_type": "display_data"
    }
   ],
   "source": [
    "State.last_id = 0\n",
    "state = strategy.sfbu()\n",
    "state"
   ]
  },
  {
   "cell_type": "code",
   "execution_count": 114,
   "metadata": {},
   "outputs": [
    {
     "data": {
      "text/plain": [
       "[['kitchenham2004a - A comparison of cross-company and within-company effort estimation models for web applications'],\n",
       " ['premraj2007a - Building software cost estimation models using homogenous data']]"
      ]
     },
     "execution_count": 114,
     "metadata": {},
     "output_type": "execute_result"
    }
   ],
   "source": [
    "separa_backward_forward(state) @ metakey_title\n"
   ]
  },
  {
   "cell_type": "code",
   "execution_count": 13,
   "metadata": {},
   "outputs": [
    {
     "data": {
      "text/plain": [
       "98"
      ]
     },
     "execution_count": 13,
     "metadata": {},
     "output_type": "execute_result"
    }
   ],
   "source": [
    "#Total de visitados = visitados no final - visitados no início\n",
    "len(state.visited - state.find(\"s0\").visited)"
   ]
  },
  {
   "cell_type": "code",
   "execution_count": 14,
   "metadata": {},
   "outputs": [
    {
     "data": {
      "text/plain": [
       "{A comparison of cross-company and within-company effort estimation models for web applications,\n",
       " Web effort estimation: The value of cross-company data set compared to single-company data set,\n",
       " Building software cost estimation models using homogenous data}"
      ]
     },
     "execution_count": 14,
     "metadata": {},
     "output_type": "execute_result"
    }
   ],
   "source": [
    "# Descrição dos Relacionados = relacionados no final - relacionados no início\n",
    "state.related - state.find(\"s0\").related"
   ]
  },
  {
   "cell_type": "code",
   "execution_count": 15,
   "metadata": {},
   "outputs": [
    {
     "name": "stdout",
     "output_type": "stream",
     "text": [
      "Relacionados:\n"
     ]
    },
    {
     "data": {
      "text/plain": [
       "{Exploiting the essential assumptions of analogy-based effort estimation,\n",
       " How to find relevant data for effort estimation?,\n",
       " The need for web engineering: An introduction,\n",
       " Local vs. global models for effort estimation and defect prediction,\n",
       " Case studies for method and tool evaluation,\n",
       " On the relative value of cross-company and within-company data for defect prediction,\n",
       " Web cost estimation and productivity benchmarking,\n",
       " Software engineering metrics and models,\n",
       " A study of project selection and feature weighting for analogy based software cost estimation,\n",
       " Comparison of Web size measures for predicting Web design and authoring effort,\n",
       " Statistical power analysis for the behavioral sciences}"
      ]
     },
     "execution_count": 15,
     "metadata": {},
     "output_type": "execute_result"
    }
   ],
   "source": [
    "#Encontrados no found - i.e., na iteração. Sem duplicados.\n",
    "print(\"Relacionados:\")\n",
    "state.find(\"s5\").delta_visited"
   ]
  },
  {
   "cell_type": "code",
   "execution_count": 16,
   "metadata": {},
   "outputs": [
    {
     "name": "stdout",
     "output_type": "stream",
     "text": [
      "Relacionados:\n"
     ]
    },
    {
     "data": {
      "text/plain": [
       "set()"
      ]
     },
     "execution_count": 16,
     "metadata": {},
     "output_type": "execute_result"
    }
   ],
   "source": [
    "print(\"Relacionados:\")\n",
    "state.find(\"s5\").delta_visited - state.find(\"s5\").delta_visited"
   ]
  },
  {
   "cell_type": "code",
   "execution_count": 17,
   "metadata": {},
   "outputs": [
    {
     "data": {
      "text/plain": [
       "{Further comparison of cross-company and within-company effort estimation models for web applications,\n",
       " A comparison of cross-company and within-company effort estimation models for web applications,\n",
       " Web effort estimation: The value of cross-company data set compared to single-company data set,\n",
       " Building software cost estimation models using homogenous data}"
      ]
     },
     "execution_count": 17,
     "metadata": {},
     "output_type": "execute_result"
    }
   ],
   "source": [
    "# Relacionados no Estado s4\n",
    "state.find(\"s4\").related"
   ]
  },
  {
   "cell_type": "code",
   "execution_count": 18,
   "metadata": {},
   "outputs": [
    {
     "name": "stdout",
     "output_type": "stream",
     "text": [
      "Relacionados:\n"
     ]
    },
    {
     "data": {
      "text/plain": [
       "{Effort estimation of web-based applications using machine learning techniques,\n",
       " An Empirical Analysis of Three-Stage Data-Preprocessing for Analogy-Based Software Effort Estimation on the ISBSG Data,\n",
       " From Function Points to COSMIC-A Transfer Learning Approach for Effort Estimation,\n",
       " Empirical Assessment of Machine Learning Models for Effort Estimation of Web-based Applications,\n",
       " Systematic literature review on effort estimation for Open Sources (OSS) web application development,\n",
       " Sharing data and models in software engineering,\n",
       " Mining app stores: Extracting technical, business and customer rating information for analysis and prediction,\n",
       " A comparison of cross-versus single-company effort prediction models for web projects,\n",
       " La práctica de la estimación en empresas y áreas de Sistemas,\n",
       " An empirical analysis of data preprocessing for machine learning-based software cost estimation}"
      ]
     },
     "execution_count": 18,
     "metadata": {},
     "output_type": "execute_result"
    }
   ],
   "source": [
    "# Found = 10, i.e., Visitados para chegar ao estado s4, sem incluir os duplicados - existentes na base.\n",
    "print(\"Relacionados:\")\n",
    "state.find(\"s4\").delta_visited"
   ]
  },
  {
   "cell_type": "code",
   "execution_count": 19,
   "metadata": {},
   "outputs": [
    {
     "name": "stdout",
     "output_type": "stream",
     "text": [
      "Visitados:\n"
     ]
    },
    {
     "data": {
      "text/plain": [
       "{Further comparison of cross-company and within-company effort estimation models for web applications}"
      ]
     },
     "execution_count": 19,
     "metadata": {},
     "output_type": "execute_result"
    }
   ],
   "source": [
    "print(\"Visitados:\")\n",
    "state.find(\"s0\").visited"
   ]
  },
  {
   "cell_type": "code",
   "execution_count": 20,
   "metadata": {},
   "outputs": [
    {
     "data": {
      "text/plain": [
       "set()"
      ]
     },
     "execution_count": 20,
     "metadata": {},
     "output_type": "execute_result"
    }
   ],
   "source": [
    "#Visualização de Backward\n",
    "#state.related & set(strategy.ref[work_by_varname(\"mendes2004a\")])\n",
    "\n",
    "state.find(\"s0\").related & set(strategy.ref[work_by_varname(\"mendes2004a\")])"
   ]
  },
  {
   "cell_type": "markdown",
   "metadata": {},
   "source": [
    "## Estratégias"
   ]
  },
  {
   "cell_type": "markdown",
   "metadata": {},
   "source": [
    "### Estratégia 1 - Busca em todas Digital Libraries (DL)"
   ]
  },
  {
   "cell_type": "code",
   "execution_count": 25,
   "metadata": {},
   "outputs": [
    {
     "data": {
      "text/plain": [
       "4"
      ]
     },
     "execution_count": 25,
     "metadata": {},
     "output_type": "execute_result"
    }
   ],
   "source": [
    "len ([x for _, x in load_work_map_all_years() if x.category == \"snowball\"])"
   ]
  },
  {
   "cell_type": "code",
   "execution_count": 183,
   "metadata": {},
   "outputs": [
    {
     "data": {
      "image/svg+xml": [
       "<?xml version=\"1.0\" encoding=\"UTF-8\" standalone=\"no\"?>\r\n",
       "<!DOCTYPE svg PUBLIC \"-//W3C//DTD SVG 1.1//EN\"\r\n",
       " \"http://www.w3.org/Graphics/SVG/1.1/DTD/svg11.dtd\">\r\n",
       "<!-- Generated by graphviz version 2.38.0 (20140413.2041)\r\n",
       " -->\r\n",
       "<!-- Title: G Pages: 1 -->\r\n",
       "<svg width=\"103pt\" height=\"83pt\"\r\n",
       " viewBox=\"0.00 0.00 102.75 82.95\" xmlns=\"http://www.w3.org/2000/svg\" xmlns:xlink=\"http://www.w3.org/1999/xlink\">\r\n",
       "<g id=\"graph0\" class=\"graph\" transform=\"scale(1 1) rotate(0) translate(4 78.9533)\">\r\n",
       "<title>G</title>\r\n",
       "<polygon fill=\"white\" stroke=\"none\" points=\"-4,4 -4,-78.9533 98.7523,-78.9533 98.7523,4 -4,4\"/>\r\n",
       "<!-- s0 -->\r\n",
       "<g id=\"node1\" class=\"node\"><title>s0</title>\r\n",
       "<ellipse fill=\"none\" stroke=\"black\" cx=\"47.3762\" cy=\"-37.4767\" rx=\"47.2526\" ry=\"37.4533\"/>\r\n",
       "<text text-anchor=\"middle\" x=\"47.3762\" y=\"-48.7767\" font-family=\"Times New Roman,serif\" font-size=\"14.00\">s0</text>\r\n",
       "<text text-anchor=\"middle\" x=\"47.3762\" y=\"-33.7767\" font-family=\"Times New Roman,serif\" font-size=\"14.00\">visited: 4</text>\r\n",
       "<text text-anchor=\"middle\" x=\"47.3762\" y=\"-18.7767\" font-family=\"Times New Roman,serif\" font-size=\"14.00\">related: 2</text>\r\n",
       "</g>\r\n",
       "</g>\r\n",
       "</svg>\r\n"
      ],
      "text/plain": [
       "Step(name='start', new_references=4, new_related=2, total_visited=4, total_related=2, source='', target='s0')"
      ],
      "text/vnd.graphviz": [
       "digraph G {\n",
       "  rankdir=\"RL\";\n",
       "\n",
       "  s0 [label=\"s0\\nvisited: 4\\nrelated: 2\"];\n",
       "\n",
       "}"
      ]
     },
     "metadata": {},
     "output_type": "display_data"
    }
   ],
   "source": [
    "reload()\n",
    "TOTAL = [x for _, x in load_work_map_all_years() if x.category == \"snowball\"]\n",
    "filter_function = lambda x: x.category in (\"snowball\", \"forward\", \"backward\")\n",
    "\n",
    "strategy = Strategy(*busca(\"scopus\", filter_function=filter_function))\n",
    "\n",
    "state = strategy.initial\n",
    "strategy.initial.visited\n",
    "\n",
    "#strategy.initial.name\n",
    "state\n"
   ]
  },
  {
   "cell_type": "code",
   "execution_count": 185,
   "metadata": {},
   "outputs": [
    {
     "data": {
      "image/svg+xml": [
       "<?xml version=\"1.0\" encoding=\"UTF-8\" standalone=\"no\"?>\r\n",
       "<!DOCTYPE svg PUBLIC \"-//W3C//DTD SVG 1.1//EN\"\r\n",
       " \"http://www.w3.org/Graphics/SVG/1.1/DTD/svg11.dtd\">\r\n",
       "<!-- Generated by graphviz version 2.38.0 (20140413.2041)\r\n",
       " -->\r\n",
       "<!-- Title: G Pages: 1 -->\r\n",
       "<svg width=\"285pt\" height=\"269pt\"\r\n",
       " viewBox=\"0.00 0.00 284.50 268.95\" xmlns=\"http://www.w3.org/2000/svg\" xmlns:xlink=\"http://www.w3.org/1999/xlink\">\r\n",
       "<g id=\"graph0\" class=\"graph\" transform=\"scale(1 1) rotate(0) translate(4 264.953)\">\r\n",
       "<title>G</title>\r\n",
       "<polygon fill=\"white\" stroke=\"none\" points=\"-4,4 -4,-264.953 280.505,-264.953 280.505,4 -4,4\"/>\r\n",
       "<!-- s0 -->\r\n",
       "<g id=\"node1\" class=\"node\"><title>s0</title>\r\n",
       "<ellipse fill=\"none\" stroke=\"black\" cx=\"229.128\" cy=\"-130.477\" rx=\"47.2526\" ry=\"37.4533\"/>\r\n",
       "<text text-anchor=\"middle\" x=\"229.128\" y=\"-141.777\" font-family=\"Times New Roman,serif\" font-size=\"14.00\">s0</text>\r\n",
       "<text text-anchor=\"middle\" x=\"229.128\" y=\"-126.777\" font-family=\"Times New Roman,serif\" font-size=\"14.00\">visited: 5</text>\r\n",
       "<text text-anchor=\"middle\" x=\"229.128\" y=\"-111.777\" font-family=\"Times New Roman,serif\" font-size=\"14.00\">related: 2</text>\r\n",
       "</g>\r\n",
       "<!-- acm -->\r\n",
       "<g id=\"node2\" class=\"node\"><title>acm</title>\r\n",
       "<ellipse fill=\"none\" stroke=\"black\" cx=\"47.3762\" cy=\"-223.477\" rx=\"47.2526\" ry=\"37.4533\"/>\r\n",
       "<text text-anchor=\"middle\" x=\"47.3762\" y=\"-234.777\" font-family=\"Times New Roman,serif\" font-size=\"14.00\">acm</text>\r\n",
       "<text text-anchor=\"middle\" x=\"47.3762\" y=\"-219.777\" font-family=\"Times New Roman,serif\" font-size=\"14.00\">visited: 2</text>\r\n",
       "<text text-anchor=\"middle\" x=\"47.3762\" y=\"-204.777\" font-family=\"Times New Roman,serif\" font-size=\"14.00\">related: 1</text>\r\n",
       "</g>\r\n",
       "<!-- s0&#45;&gt;acm -->\r\n",
       "<g id=\"edge1\" class=\"edge\"><title>s0&#45;&gt;acm</title>\r\n",
       "<path fill=\"none\" stroke=\"black\" d=\"M196.294,-157.563C186.287,-165.278 174.923,-173.265 163.752,-179.477 144.27,-190.31 121.578,-199.602 101.5,-206.817\"/>\r\n",
       "<polygon fill=\"black\" stroke=\"black\" points=\"100.157,-203.579 91.8782,-210.19 102.473,-210.185 100.157,-203.579\"/>\r\n",
       "<text text-anchor=\"middle\" x=\"138.252\" y=\"-235.277\" font-family=\"Times New Roman,serif\" font-size=\"14.00\">union</text>\r\n",
       "<text text-anchor=\"middle\" x=\"138.252\" y=\"-220.277\" font-family=\"Times New Roman,serif\" font-size=\"14.00\">found: 0</text>\r\n",
       "<text text-anchor=\"middle\" x=\"138.252\" y=\"-205.277\" font-family=\"Times New Roman,serif\" font-size=\"14.00\">related: 0</text>\r\n",
       "</g>\r\n",
       "<!-- scopus -->\r\n",
       "<g id=\"node3\" class=\"node\"><title>scopus</title>\r\n",
       "<ellipse fill=\"none\" stroke=\"black\" cx=\"47.3762\" cy=\"-130.477\" rx=\"47.2526\" ry=\"37.4533\"/>\r\n",
       "<text text-anchor=\"middle\" x=\"47.3762\" y=\"-141.777\" font-family=\"Times New Roman,serif\" font-size=\"14.00\">scopus</text>\r\n",
       "<text text-anchor=\"middle\" x=\"47.3762\" y=\"-126.777\" font-family=\"Times New Roman,serif\" font-size=\"14.00\">visited: 4</text>\r\n",
       "<text text-anchor=\"middle\" x=\"47.3762\" y=\"-111.777\" font-family=\"Times New Roman,serif\" font-size=\"14.00\">related: 2</text>\r\n",
       "</g>\r\n",
       "<!-- s0&#45;&gt;scopus -->\r\n",
       "<g id=\"edge2\" class=\"edge\"><title>s0&#45;&gt;scopus</title>\r\n",
       "<path fill=\"none\" stroke=\"black\" d=\"M181.37,-130.477C158.069,-130.477 129.7,-130.477 105.158,-130.477\"/>\r\n",
       "<polygon fill=\"black\" stroke=\"black\" points=\"104.901,-126.977 94.9006,-130.477 104.901,-133.977 104.901,-126.977\"/>\r\n",
       "<text text-anchor=\"middle\" x=\"138.252\" y=\"-164.277\" font-family=\"Times New Roman,serif\" font-size=\"14.00\">union</text>\r\n",
       "<text text-anchor=\"middle\" x=\"138.252\" y=\"-149.277\" font-family=\"Times New Roman,serif\" font-size=\"14.00\">found: 0</text>\r\n",
       "<text text-anchor=\"middle\" x=\"138.252\" y=\"-134.277\" font-family=\"Times New Roman,serif\" font-size=\"14.00\">related: 0</text>\r\n",
       "</g>\r\n",
       "<!-- gs -->\r\n",
       "<g id=\"node4\" class=\"node\"><title>gs</title>\r\n",
       "<ellipse fill=\"none\" stroke=\"black\" cx=\"47.3762\" cy=\"-37.4767\" rx=\"47.2526\" ry=\"37.4533\"/>\r\n",
       "<text text-anchor=\"middle\" x=\"47.3762\" y=\"-48.7767\" font-family=\"Times New Roman,serif\" font-size=\"14.00\">gs</text>\r\n",
       "<text text-anchor=\"middle\" x=\"47.3762\" y=\"-33.7767\" font-family=\"Times New Roman,serif\" font-size=\"14.00\">visited: 0</text>\r\n",
       "<text text-anchor=\"middle\" x=\"47.3762\" y=\"-18.7767\" font-family=\"Times New Roman,serif\" font-size=\"14.00\">related: 0</text>\r\n",
       "</g>\r\n",
       "<!-- s0&#45;&gt;gs -->\r\n",
       "<g id=\"edge3\" class=\"edge\"><title>s0&#45;&gt;gs</title>\r\n",
       "<path fill=\"none\" stroke=\"black\" d=\"M196.294,-103.391C186.287,-95.6751 174.923,-87.6881 163.752,-81.4767 144.27,-70.6436 121.578,-61.3515 101.5,-54.1359\"/>\r\n",
       "<polygon fill=\"black\" stroke=\"black\" points=\"102.473,-50.7683 91.8782,-50.7629 100.157,-57.3742 102.473,-50.7683\"/>\r\n",
       "<text text-anchor=\"middle\" x=\"138.252\" y=\"-115.277\" font-family=\"Times New Roman,serif\" font-size=\"14.00\">union</text>\r\n",
       "<text text-anchor=\"middle\" x=\"138.252\" y=\"-100.277\" font-family=\"Times New Roman,serif\" font-size=\"14.00\">found: 0</text>\r\n",
       "<text text-anchor=\"middle\" x=\"138.252\" y=\"-85.2767\" font-family=\"Times New Roman,serif\" font-size=\"14.00\">related: 0</text>\r\n",
       "</g>\r\n",
       "</g>\r\n",
       "</svg>\r\n"
      ],
      "text/plain": [
       "Step(name='start', new_references=0, new_related=0, total_visited=0, total_related=0, source='', target='gs')\n",
       "Step(name='start', new_references=4, new_related=2, total_visited=4, total_related=2, source='', target='scopus')\n",
       "Step(name='start', new_references=2, new_related=1, total_visited=2, total_related=1, source='', target='acm')\n",
       "Step(name='union', new_references=0, new_related=0, total_visited=5, total_related=2, source='acm|scopus|gs', target='s0')"
      ],
      "text/vnd.graphviz": [
       "digraph G {\n",
       "  rankdir=\"RL\";\n",
       "\n",
       "  s0 [label=\"s0\\nvisited: 5\\nrelated: 2\"];\n",
       "  s0 -> acm [label=\"union\\nfound: 0\\nrelated: 0\"];\n",
       "  s0 -> scopus [label=\"union\\nfound: 0\\nrelated: 0\"];\n",
       "  s0 -> gs [label=\"union\\nfound: 0\\nrelated: 0\"];\n",
       "\n",
       "  acm [label=\"acm\\nvisited: 2\\nrelated: 1\"];\n",
       "\n",
       "  scopus [label=\"scopus\\nvisited: 4\\nrelated: 2\"];\n",
       "\n",
       "  gs [label=\"gs\\nvisited: 0\\nrelated: 0\"];\n",
       "\n",
       "}"
      ]
     },
     "metadata": {},
     "output_type": "display_data"
    }
   ],
   "source": [
    "from snowballing.strategies import State\n",
    "\n",
    "reload()\n",
    "def busca_completa(libs, filter_function):\n",
    "    union = None\n",
    "    for dl in libs:\n",
    "        strategy = Strategy(*busca(dl, filter_function=filter_function))\n",
    "        strategy.initial.name = dl\n",
    "        if union is None:\n",
    "            union = strategy.initial.derive(\"union\", name=\"s0\")\n",
    "        else:\n",
    "            union.visited.update(strategy.initial.visited)\n",
    "            union.related.update(strategy.initial.related)\n",
    "            union.previous[0].append(strategy.initial)\n",
    "\n",
    "    State.last_id = 0\n",
    "    strategy.initial = union\n",
    "    return strategy\n",
    "\n",
    "strategy = busca_completa([\"acm\", \"scopus\", \"gs\"], filter_function)\n",
    "#strategy.initial.find(\"acm\")\n",
    "strategy.initial"
   ]
  },
  {
   "cell_type": "code",
   "execution_count": 186,
   "metadata": {},
   "outputs": [
    {
     "name": "stdout",
     "output_type": "stream",
     "text": [
      "Precision E1\n",
      "0.5\n",
      "Recall E1\n",
      "0.5\n"
     ]
    }
   ],
   "source": [
    "array = []\n",
    "\n",
    "name = \"E1\"\n",
    "print (\"Precision \" + name)\n",
    "EP = len (state.related) / len (state.visited)\n",
    "print (EP)\n",
    "print (\"Recall \" + name)\n",
    "ER = len (state.related) / len (TOTAL)\n",
    "print (ER)\n",
    "\n",
    "array.append((name, EP, ER))"
   ]
  },
  {
   "cell_type": "markdown",
   "metadata": {},
   "source": [
    "### Estratégia 2 - Busca em todas Digital Libraries + Snowballing (Guideline - sfbu)"
   ]
  },
  {
   "cell_type": "code",
   "execution_count": 95,
   "metadata": {},
   "outputs": [
    {
     "data": {
      "image/svg+xml": [
       "<?xml version=\"1.0\" encoding=\"UTF-8\" standalone=\"no\"?>\r\n",
       "<!DOCTYPE svg PUBLIC \"-//W3C//DTD SVG 1.1//EN\"\r\n",
       " \"http://www.w3.org/Graphics/SVG/1.1/DTD/svg11.dtd\">\r\n",
       "<!-- Generated by graphviz version 2.38.0 (20140413.2041)\r\n",
       " -->\r\n",
       "<!-- Title: G Pages: 1 -->\r\n",
       "<svg width=\"1053pt\" height=\"188pt\"\r\n",
       " viewBox=\"0.00 0.00 1053.45 187.95\" xmlns=\"http://www.w3.org/2000/svg\" xmlns:xlink=\"http://www.w3.org/1999/xlink\">\r\n",
       "<g id=\"graph0\" class=\"graph\" transform=\"scale(1 1) rotate(0) translate(4 183.953)\">\r\n",
       "<title>G</title>\r\n",
       "<polygon fill=\"white\" stroke=\"none\" points=\"-4,4 -4,-183.953 1049.45,-183.953 1049.45,4 -4,4\"/>\r\n",
       "<!-- s6 -->\r\n",
       "<g id=\"node1\" class=\"node\"><title>s6</title>\r\n",
       "<ellipse fill=\"none\" stroke=\"black\" cx=\"993.836\" cy=\"-86.4767\" rx=\"51.7379\" ry=\"37.4533\"/>\r\n",
       "<text text-anchor=\"middle\" x=\"993.836\" y=\"-97.7767\" font-family=\"Times New Roman,serif\" font-size=\"14.00\">s6</text>\r\n",
       "<text text-anchor=\"middle\" x=\"993.836\" y=\"-82.7767\" font-family=\"Times New Roman,serif\" font-size=\"14.00\">visited: 99</text>\r\n",
       "<text text-anchor=\"middle\" x=\"993.836\" y=\"-67.7767\" font-family=\"Times New Roman,serif\" font-size=\"14.00\">related: 4</text>\r\n",
       "</g>\r\n",
       "<!-- s4 -->\r\n",
       "<g id=\"node2\" class=\"node\"><title>s4</title>\r\n",
       "<ellipse fill=\"none\" stroke=\"black\" cx=\"803.599\" cy=\"-130.477\" rx=\"51.7379\" ry=\"37.4533\"/>\r\n",
       "<text text-anchor=\"middle\" x=\"803.599\" y=\"-141.777\" font-family=\"Times New Roman,serif\" font-size=\"14.00\">s4</text>\r\n",
       "<text text-anchor=\"middle\" x=\"803.599\" y=\"-126.777\" font-family=\"Times New Roman,serif\" font-size=\"14.00\">visited: 99</text>\r\n",
       "<text text-anchor=\"middle\" x=\"803.599\" y=\"-111.777\" font-family=\"Times New Roman,serif\" font-size=\"14.00\">related: 4</text>\r\n",
       "</g>\r\n",
       "<!-- s6&#45;&gt;s4 -->\r\n",
       "<g id=\"edge1\" class=\"edge\"><title>s6&#45;&gt;s4</title>\r\n",
       "<path fill=\"none\" stroke=\"black\" d=\"M944.36,-97.8078C919.439,-103.633 888.885,-110.775 862.708,-116.894\"/>\r\n",
       "<polygon fill=\"black\" stroke=\"black\" points=\"861.851,-113.5 852.91,-119.184 863.444,-120.316 861.851,-113.5\"/>\r\n",
       "<text text-anchor=\"middle\" x=\"898.717\" y=\"-147.277\" font-family=\"Times New Roman,serif\" font-size=\"14.00\">union</text>\r\n",
       "<text text-anchor=\"middle\" x=\"898.717\" y=\"-132.277\" font-family=\"Times New Roman,serif\" font-size=\"14.00\">found: 0</text>\r\n",
       "<text text-anchor=\"middle\" x=\"898.717\" y=\"-117.277\" font-family=\"Times New Roman,serif\" font-size=\"14.00\">related: 0</text>\r\n",
       "</g>\r\n",
       "<!-- s5 -->\r\n",
       "<g id=\"node3\" class=\"node\"><title>s5</title>\r\n",
       "<ellipse fill=\"none\" stroke=\"black\" cx=\"803.599\" cy=\"-37.4767\" rx=\"51.7379\" ry=\"37.4533\"/>\r\n",
       "<text text-anchor=\"middle\" x=\"803.599\" y=\"-48.7767\" font-family=\"Times New Roman,serif\" font-size=\"14.00\">s5</text>\r\n",
       "<text text-anchor=\"middle\" x=\"803.599\" y=\"-33.7767\" font-family=\"Times New Roman,serif\" font-size=\"14.00\">visited: 99</text>\r\n",
       "<text text-anchor=\"middle\" x=\"803.599\" y=\"-18.7767\" font-family=\"Times New Roman,serif\" font-size=\"14.00\">related: 4</text>\r\n",
       "</g>\r\n",
       "<!-- s6&#45;&gt;s5 -->\r\n",
       "<g id=\"edge2\" class=\"edge\"><title>s6&#45;&gt;s5</title>\r\n",
       "<path fill=\"none\" stroke=\"black\" d=\"M951.508,-64.8235C942.687,-60.8822 933.29,-57.1718 924.217,-54.4767 905.384,-48.8817 884.318,-45.1051 865.176,-42.5653\"/>\r\n",
       "<polygon fill=\"black\" stroke=\"black\" points=\"865.42,-39.0689 855.065,-41.3124 864.559,-46.0157 865.42,-39.0689\"/>\r\n",
       "<text text-anchor=\"middle\" x=\"898.717\" y=\"-88.2767\" font-family=\"Times New Roman,serif\" font-size=\"14.00\">union</text>\r\n",
       "<text text-anchor=\"middle\" x=\"898.717\" y=\"-73.2767\" font-family=\"Times New Roman,serif\" font-size=\"14.00\">found: 0</text>\r\n",
       "<text text-anchor=\"middle\" x=\"898.717\" y=\"-58.2767\" font-family=\"Times New Roman,serif\" font-size=\"14.00\">related: 0</text>\r\n",
       "</g>\r\n",
       "<!-- s3 -->\r\n",
       "<g id=\"node4\" class=\"node\"><title>s3</title>\r\n",
       "<ellipse fill=\"none\" stroke=\"black\" cx=\"609.361\" cy=\"-86.4767\" rx=\"51.7379\" ry=\"37.4533\"/>\r\n",
       "<text text-anchor=\"middle\" x=\"609.361\" y=\"-97.7767\" font-family=\"Times New Roman,serif\" font-size=\"14.00\">s3</text>\r\n",
       "<text text-anchor=\"middle\" x=\"609.361\" y=\"-82.7767\" font-family=\"Times New Roman,serif\" font-size=\"14.00\">visited: 99</text>\r\n",
       "<text text-anchor=\"middle\" x=\"609.361\" y=\"-67.7767\" font-family=\"Times New Roman,serif\" font-size=\"14.00\">related: 4</text>\r\n",
       "</g>\r\n",
       "<!-- s4&#45;&gt;s3 -->\r\n",
       "<g id=\"edge3\" class=\"edge\"><title>s4&#45;&gt;s3</title>\r\n",
       "<path fill=\"none\" stroke=\"black\" d=\"M754.089,-119.374C728.135,-113.433 695.984,-106.074 668.676,-99.8241\"/>\r\n",
       "<polygon fill=\"black\" stroke=\"black\" points=\"669.384,-96.3956 658.855,-97.5762 667.822,-103.219 669.384,-96.3956\"/>\r\n",
       "<text text-anchor=\"middle\" x=\"706.48\" y=\"-147.277\" font-family=\"Times New Roman,serif\" font-size=\"14.00\">forward</text>\r\n",
       "<text text-anchor=\"middle\" x=\"706.48\" y=\"-132.277\" font-family=\"Times New Roman,serif\" font-size=\"14.00\">found: 0</text>\r\n",
       "<text text-anchor=\"middle\" x=\"706.48\" y=\"-117.277\" font-family=\"Times New Roman,serif\" font-size=\"14.00\">related: 0</text>\r\n",
       "</g>\r\n",
       "<!-- s5&#45;&gt;s3 -->\r\n",
       "<g id=\"edge4\" class=\"edge\"><title>s5&#45;&gt;s3</title>\r\n",
       "<path fill=\"none\" stroke=\"black\" d=\"M751.919,-40.3639C729.256,-42.5867 702.423,-46.5194 678.98,-53.4767 672.909,-55.2784 666.707,-57.5614 660.636,-60.0825\"/>\r\n",
       "<polygon fill=\"black\" stroke=\"black\" points=\"658.992,-56.9818 651.241,-64.2052 661.805,-63.3918 658.992,-56.9818\"/>\r\n",
       "<text text-anchor=\"middle\" x=\"706.48\" y=\"-87.2767\" font-family=\"Times New Roman,serif\" font-size=\"14.00\">backward</text>\r\n",
       "<text text-anchor=\"middle\" x=\"706.48\" y=\"-72.2767\" font-family=\"Times New Roman,serif\" font-size=\"14.00\">found: 0</text>\r\n",
       "<text text-anchor=\"middle\" x=\"706.48\" y=\"-57.2767\" font-family=\"Times New Roman,serif\" font-size=\"14.00\">related: 0</text>\r\n",
       "</g>\r\n",
       "<!-- s1 -->\r\n",
       "<g id=\"node5\" class=\"node\"><title>s1</title>\r\n",
       "<ellipse fill=\"none\" stroke=\"black\" cx=\"419.123\" cy=\"-139.477\" rx=\"51.7379\" ry=\"37.4533\"/>\r\n",
       "<text text-anchor=\"middle\" x=\"419.123\" y=\"-150.777\" font-family=\"Times New Roman,serif\" font-size=\"14.00\">s1</text>\r\n",
       "<text text-anchor=\"middle\" x=\"419.123\" y=\"-135.777\" font-family=\"Times New Roman,serif\" font-size=\"14.00\">visited: 73</text>\r\n",
       "<text text-anchor=\"middle\" x=\"419.123\" y=\"-120.777\" font-family=\"Times New Roman,serif\" font-size=\"14.00\">related: 3</text>\r\n",
       "</g>\r\n",
       "<!-- s3&#45;&gt;s1 -->\r\n",
       "<g id=\"edge5\" class=\"edge\"><title>s3&#45;&gt;s1</title>\r\n",
       "<path fill=\"none\" stroke=\"black\" d=\"M562.796,-103.117C555.141,-105.71 547.247,-108.26 539.742,-110.477 520.022,-116.3 498.226,-121.843 478.701,-126.494\"/>\r\n",
       "<polygon fill=\"black\" stroke=\"black\" points=\"477.653,-123.145 468.72,-128.841 479.256,-129.959 477.653,-123.145\"/>\r\n",
       "<text text-anchor=\"middle\" x=\"514.242\" y=\"-157.277\" font-family=\"Times New Roman,serif\" font-size=\"14.00\">union</text>\r\n",
       "<text text-anchor=\"middle\" x=\"514.242\" y=\"-142.277\" font-family=\"Times New Roman,serif\" font-size=\"14.00\">found: 0</text>\r\n",
       "<text text-anchor=\"middle\" x=\"514.242\" y=\"-127.277\" font-family=\"Times New Roman,serif\" font-size=\"14.00\">related: 0</text>\r\n",
       "</g>\r\n",
       "<!-- s2 -->\r\n",
       "<g id=\"node6\" class=\"node\"><title>s2</title>\r\n",
       "<ellipse fill=\"none\" stroke=\"black\" cx=\"419.123\" cy=\"-46.4767\" rx=\"51.7379\" ry=\"37.4533\"/>\r\n",
       "<text text-anchor=\"middle\" x=\"419.123\" y=\"-57.7767\" font-family=\"Times New Roman,serif\" font-size=\"14.00\">s2</text>\r\n",
       "<text text-anchor=\"middle\" x=\"419.123\" y=\"-42.7767\" font-family=\"Times New Roman,serif\" font-size=\"14.00\">visited: 36</text>\r\n",
       "<text text-anchor=\"middle\" x=\"419.123\" y=\"-27.7767\" font-family=\"Times New Roman,serif\" font-size=\"14.00\">related: 3</text>\r\n",
       "</g>\r\n",
       "<!-- s3&#45;&gt;s2 -->\r\n",
       "<g id=\"edge6\" class=\"edge\"><title>s3&#45;&gt;s2</title>\r\n",
       "<path fill=\"none\" stroke=\"black\" d=\"M562.091,-71.3583C554.663,-69.2091 547.025,-67.1608 539.742,-65.4767 520.553,-61.0392 499.392,-57.3053 480.272,-54.3543\"/>\r\n",
       "<polygon fill=\"black\" stroke=\"black\" points=\"480.592,-50.8633 470.184,-52.8395 479.553,-57.7857 480.592,-50.8633\"/>\r\n",
       "<text text-anchor=\"middle\" x=\"514.242\" y=\"-99.2767\" font-family=\"Times New Roman,serif\" font-size=\"14.00\">union</text>\r\n",
       "<text text-anchor=\"middle\" x=\"514.242\" y=\"-84.2767\" font-family=\"Times New Roman,serif\" font-size=\"14.00\">found: 0</text>\r\n",
       "<text text-anchor=\"middle\" x=\"514.242\" y=\"-69.2767\" font-family=\"Times New Roman,serif\" font-size=\"14.00\">related: 0</text>\r\n",
       "</g>\r\n",
       "<!-- s0 -->\r\n",
       "<g id=\"node7\" class=\"node\"><title>s0</title>\r\n",
       "<ellipse fill=\"none\" stroke=\"black\" cx=\"229.128\" cy=\"-95.4767\" rx=\"47.2526\" ry=\"37.4533\"/>\r\n",
       "<text text-anchor=\"middle\" x=\"229.128\" y=\"-106.777\" font-family=\"Times New Roman,serif\" font-size=\"14.00\">s0</text>\r\n",
       "<text text-anchor=\"middle\" x=\"229.128\" y=\"-91.7767\" font-family=\"Times New Roman,serif\" font-size=\"14.00\">visited: 5</text>\r\n",
       "<text text-anchor=\"middle\" x=\"229.128\" y=\"-76.7767\" font-family=\"Times New Roman,serif\" font-size=\"14.00\">related: 2</text>\r\n",
       "</g>\r\n",
       "<!-- s1&#45;&gt;s0 -->\r\n",
       "<g id=\"edge7\" class=\"edge\"><title>s1&#45;&gt;s0</title>\r\n",
       "<path fill=\"none\" stroke=\"black\" d=\"M369.71,-128.146C343.76,-122.072 311.694,-114.567 284.843,-108.283\"/>\r\n",
       "<polygon fill=\"black\" stroke=\"black\" points=\"285.366,-104.81 274.831,-105.939 283.771,-111.626 285.366,-104.81\"/>\r\n",
       "<text text-anchor=\"middle\" x=\"322.005\" y=\"-156.277\" font-family=\"Times New Roman,serif\" font-size=\"14.00\">forward</text>\r\n",
       "<text text-anchor=\"middle\" x=\"322.005\" y=\"-141.277\" font-family=\"Times New Roman,serif\" font-size=\"14.00\">found: 68</text>\r\n",
       "<text text-anchor=\"middle\" x=\"322.005\" y=\"-126.277\" font-family=\"Times New Roman,serif\" font-size=\"14.00\">related: 1</text>\r\n",
       "</g>\r\n",
       "<!-- s2&#45;&gt;s0 -->\r\n",
       "<g id=\"edge8\" class=\"edge\"><title>s2&#45;&gt;s0</title>\r\n",
       "<path fill=\"none\" stroke=\"black\" d=\"M367.323,-48.4583C344.637,-50.4019 317.819,-54.1796 294.505,-61.4767 288.488,-63.3596 282.373,-65.7994 276.425,-68.5076\"/>\r\n",
       "<polygon fill=\"black\" stroke=\"black\" points=\"274.734,-65.4378 267.255,-72.9428 277.782,-71.7395 274.734,-65.4378\"/>\r\n",
       "<text text-anchor=\"middle\" x=\"322.005\" y=\"-95.2767\" font-family=\"Times New Roman,serif\" font-size=\"14.00\">backward</text>\r\n",
       "<text text-anchor=\"middle\" x=\"322.005\" y=\"-80.2767\" font-family=\"Times New Roman,serif\" font-size=\"14.00\">found: 31</text>\r\n",
       "<text text-anchor=\"middle\" x=\"322.005\" y=\"-65.2767\" font-family=\"Times New Roman,serif\" font-size=\"14.00\">related: 1</text>\r\n",
       "</g>\r\n",
       "<!-- acm -->\r\n",
       "<g id=\"node8\" class=\"node\"><title>acm</title>\r\n",
       "<ellipse fill=\"none\" stroke=\"black\" cx=\"47.3762\" cy=\"-142.477\" rx=\"47.2526\" ry=\"37.4533\"/>\r\n",
       "<text text-anchor=\"middle\" x=\"47.3762\" y=\"-153.777\" font-family=\"Times New Roman,serif\" font-size=\"14.00\">acm</text>\r\n",
       "<text text-anchor=\"middle\" x=\"47.3762\" y=\"-138.777\" font-family=\"Times New Roman,serif\" font-size=\"14.00\">visited: 2</text>\r\n",
       "<text text-anchor=\"middle\" x=\"47.3762\" y=\"-123.777\" font-family=\"Times New Roman,serif\" font-size=\"14.00\">related: 1</text>\r\n",
       "</g>\r\n",
       "<!-- s0&#45;&gt;acm -->\r\n",
       "<g id=\"edge9\" class=\"edge\"><title>s0&#45;&gt;acm</title>\r\n",
       "<path fill=\"none\" stroke=\"black\" d=\"M186.952,-112.742C179.322,-115.575 171.359,-118.294 163.752,-120.477 144.562,-125.983 123.176,-130.495 104.079,-133.968\"/>\r\n",
       "<polygon fill=\"black\" stroke=\"black\" points=\"103.271,-130.557 94.0306,-135.74 104.486,-137.45 103.271,-130.557\"/>\r\n",
       "<text text-anchor=\"middle\" x=\"138.252\" y=\"-165.277\" font-family=\"Times New Roman,serif\" font-size=\"14.00\">union</text>\r\n",
       "<text text-anchor=\"middle\" x=\"138.252\" y=\"-150.277\" font-family=\"Times New Roman,serif\" font-size=\"14.00\">found: 0</text>\r\n",
       "<text text-anchor=\"middle\" x=\"138.252\" y=\"-135.277\" font-family=\"Times New Roman,serif\" font-size=\"14.00\">related: 0</text>\r\n",
       "</g>\r\n",
       "<!-- scopus -->\r\n",
       "<g id=\"node9\" class=\"node\"><title>scopus</title>\r\n",
       "<ellipse fill=\"none\" stroke=\"black\" cx=\"47.3762\" cy=\"-49.4767\" rx=\"47.2526\" ry=\"37.4533\"/>\r\n",
       "<text text-anchor=\"middle\" x=\"47.3762\" y=\"-60.7767\" font-family=\"Times New Roman,serif\" font-size=\"14.00\">scopus</text>\r\n",
       "<text text-anchor=\"middle\" x=\"47.3762\" y=\"-45.7767\" font-family=\"Times New Roman,serif\" font-size=\"14.00\">visited: 4</text>\r\n",
       "<text text-anchor=\"middle\" x=\"47.3762\" y=\"-30.7767\" font-family=\"Times New Roman,serif\" font-size=\"14.00\">related: 2</text>\r\n",
       "</g>\r\n",
       "<!-- s0&#45;&gt;scopus -->\r\n",
       "<g id=\"edge10\" class=\"edge\"><title>s0&#45;&gt;scopus</title>\r\n",
       "<path fill=\"none\" stroke=\"black\" d=\"M184.98,-81.554C177.914,-79.4233 170.649,-77.3219 163.752,-75.4767 144.159,-70.2343 122.508,-65.1664 103.304,-60.919\"/>\r\n",
       "<polygon fill=\"black\" stroke=\"black\" points=\"104.026,-57.4941 93.509,-58.776 102.53,-64.3324 104.026,-57.4941\"/>\r\n",
       "<text text-anchor=\"middle\" x=\"138.252\" y=\"-109.277\" font-family=\"Times New Roman,serif\" font-size=\"14.00\">union</text>\r\n",
       "<text text-anchor=\"middle\" x=\"138.252\" y=\"-94.2767\" font-family=\"Times New Roman,serif\" font-size=\"14.00\">found: 0</text>\r\n",
       "<text text-anchor=\"middle\" x=\"138.252\" y=\"-79.2767\" font-family=\"Times New Roman,serif\" font-size=\"14.00\">related: 0</text>\r\n",
       "</g>\r\n",
       "</g>\r\n",
       "</svg>\r\n"
      ],
      "text/plain": [
       "Step(name='start', new_references=4, new_related=2, total_visited=4, total_related=2, source='', target='scopus')\n",
       "Step(name='start', new_references=2, new_related=1, total_visited=2, total_related=1, source='', target='acm')\n",
       "Step(name='union', new_references=0, new_related=0, total_visited=5, total_related=2, source='acm|scopus', target='s0')\n",
       "Step(name='backward', new_references=31, new_related=1, total_visited=36, total_related=3, source='s0', target='s2')\n",
       "Step(name='forward', new_references=68, new_related=1, total_visited=73, total_related=3, source='s0', target='s1')\n",
       "Step(name='union', new_references=0, new_related=0, total_visited=99, total_related=4, source='s1|s2', target='s3')\n",
       "Step(name='backward', new_references=0, new_related=0, total_visited=99, total_related=4, source='s3', target='s5')\n",
       "Step(name='forward', new_references=0, new_related=0, total_visited=99, total_related=4, source='s3', target='s4')\n",
       "Step(name='union', new_references=0, new_related=0, total_visited=99, total_related=4, source='s4|s5', target='s6')"
      ],
      "text/vnd.graphviz": [
       "digraph G {\n",
       "  rankdir=\"RL\";\n",
       "\n",
       "  s6 [label=\"s6\\nvisited: 99\\nrelated: 4\"];\n",
       "  s6 -> s4 [label=\"union\\nfound: 0\\nrelated: 0\"];\n",
       "  s6 -> s5 [label=\"union\\nfound: 0\\nrelated: 0\"];\n",
       "\n",
       "  s4 [label=\"s4\\nvisited: 99\\nrelated: 4\"];\n",
       "  s4 -> s3 [label=\"forward\\nfound: 0\\nrelated: 0\"];\n",
       "\n",
       "  s5 [label=\"s5\\nvisited: 99\\nrelated: 4\"];\n",
       "  s5 -> s3 [label=\"backward\\nfound: 0\\nrelated: 0\"];\n",
       "\n",
       "  s3 [label=\"s3\\nvisited: 99\\nrelated: 4\"];\n",
       "  s3 -> s1 [label=\"union\\nfound: 0\\nrelated: 0\"];\n",
       "  s3 -> s2 [label=\"union\\nfound: 0\\nrelated: 0\"];\n",
       "\n",
       "  s1 [label=\"s1\\nvisited: 73\\nrelated: 3\"];\n",
       "  s1 -> s0 [label=\"forward\\nfound: 68\\nrelated: 1\"];\n",
       "\n",
       "  s2 [label=\"s2\\nvisited: 36\\nrelated: 3\"];\n",
       "  s2 -> s0 [label=\"backward\\nfound: 31\\nrelated: 1\"];\n",
       "\n",
       "  s0 [label=\"s0\\nvisited: 5\\nrelated: 2\"];\n",
       "  s0 -> acm [label=\"union\\nfound: 0\\nrelated: 0\"];\n",
       "  s0 -> scopus [label=\"union\\nfound: 0\\nrelated: 0\"];\n",
       "\n",
       "  acm [label=\"acm\\nvisited: 2\\nrelated: 1\"];\n",
       "\n",
       "  scopus [label=\"scopus\\nvisited: 4\\nrelated: 2\"];\n",
       "\n",
       "}"
      ]
     },
     "metadata": {},
     "output_type": "display_data"
    }
   ],
   "source": [
    "reload()\n",
    "filter_function = lambda x: x.category in (\"snowball\", \"forward\", \"backward\")\n",
    "\n",
    "strategy = busca_completa([\"acm\", \"scopus\"], filter_function)\n",
    "#Strategy(*busca(\"acm\",\"scopus\", filter_function=filter_function))\n",
    "\n",
    "state = strategy.sfbu()\n",
    "#state = strategy.bbff()\n",
    "#state = strategy.ffbb()\n",
    "#state = strategy.s2ffbb2u()\n",
    "\n",
    "state"
   ]
  },
  {
   "cell_type": "markdown",
   "metadata": {},
   "source": [
    "### Resumo "
   ]
  },
  {
   "cell_type": "markdown",
   "metadata": {},
   "source": [
    "#### Resumo da Busca em DL"
   ]
  },
  {
   "cell_type": "code",
   "execution_count": 163,
   "metadata": {},
   "outputs": [
    {
     "data": {
      "image/svg+xml": [
       "<?xml version=\"1.0\" encoding=\"UTF-8\" standalone=\"no\"?>\r\n",
       "<!DOCTYPE svg PUBLIC \"-//W3C//DTD SVG 1.1//EN\"\r\n",
       " \"http://www.w3.org/Graphics/SVG/1.1/DTD/svg11.dtd\">\r\n",
       "<!-- Generated by graphviz version 2.38.0 (20140413.2041)\r\n",
       " -->\r\n",
       "<!-- Title: G Pages: 1 -->\r\n",
       "<svg width=\"103pt\" height=\"83pt\"\r\n",
       " viewBox=\"0.00 0.00 102.75 82.95\" xmlns=\"http://www.w3.org/2000/svg\" xmlns:xlink=\"http://www.w3.org/1999/xlink\">\r\n",
       "<g id=\"graph0\" class=\"graph\" transform=\"scale(1 1) rotate(0) translate(4 78.9533)\">\r\n",
       "<title>G</title>\r\n",
       "<polygon fill=\"white\" stroke=\"none\" points=\"-4,4 -4,-78.9533 98.7523,-78.9533 98.7523,4 -4,4\"/>\r\n",
       "<!-- acm -->\r\n",
       "<g id=\"node1\" class=\"node\"><title>acm</title>\r\n",
       "<ellipse fill=\"none\" stroke=\"black\" cx=\"47.3762\" cy=\"-37.4767\" rx=\"47.2526\" ry=\"37.4533\"/>\r\n",
       "<text text-anchor=\"middle\" x=\"47.3762\" y=\"-48.7767\" font-family=\"Times New Roman,serif\" font-size=\"14.00\">acm</text>\r\n",
       "<text text-anchor=\"middle\" x=\"47.3762\" y=\"-33.7767\" font-family=\"Times New Roman,serif\" font-size=\"14.00\">visited: 2</text>\r\n",
       "<text text-anchor=\"middle\" x=\"47.3762\" y=\"-18.7767\" font-family=\"Times New Roman,serif\" font-size=\"14.00\">related: 1</text>\r\n",
       "</g>\r\n",
       "</g>\r\n",
       "</svg>\r\n"
      ],
      "text/plain": [
       "Step(name='start', new_references=2, new_related=1, total_visited=2, total_related=1, source='', target='acm')"
      ],
      "text/vnd.graphviz": [
       "digraph G {\n",
       "  rankdir=\"RL\";\n",
       "\n",
       "  acm [label=\"acm\\nvisited: 2\\nrelated: 1\"];\n",
       "\n",
       "}"
      ]
     },
     "metadata": {},
     "output_type": "display_data"
    }
   ],
   "source": [
    "strategy.initial.find(\"acm\")"
   ]
  },
  {
   "cell_type": "code",
   "execution_count": 164,
   "metadata": {},
   "outputs": [
    {
     "data": {
      "text/plain": [
       "{Further comparison of cross-company and within-company effort estimation models for web applications,\n",
       " Cross-vs. within-company cost estimation studies revisited: an extended systematic review}"
      ]
     },
     "execution_count": 164,
     "metadata": {},
     "output_type": "execute_result"
    }
   ],
   "source": [
    "# Visitados ACM\n",
    "strategy.initial.find(\"acm\").visited"
   ]
  },
  {
   "cell_type": "code",
   "execution_count": 173,
   "metadata": {},
   "outputs": [
    {
     "data": {
      "text/plain": [
       "{Further comparison of cross-company and within-company effort estimation models for web applications}"
      ]
     },
     "execution_count": 173,
     "metadata": {},
     "output_type": "execute_result"
    }
   ],
   "source": [
    "# Relacionados ACM - encontrado no seed set\n",
    "strategy.initial.find(\"acm\").related"
   ]
  },
  {
   "cell_type": "code",
   "execution_count": 165,
   "metadata": {},
   "outputs": [
    {
     "data": {
      "image/svg+xml": [
       "<?xml version=\"1.0\" encoding=\"UTF-8\" standalone=\"no\"?>\r\n",
       "<!DOCTYPE svg PUBLIC \"-//W3C//DTD SVG 1.1//EN\"\r\n",
       " \"http://www.w3.org/Graphics/SVG/1.1/DTD/svg11.dtd\">\r\n",
       "<!-- Generated by graphviz version 2.38.0 (20140413.2041)\r\n",
       " -->\r\n",
       "<!-- Title: G Pages: 1 -->\r\n",
       "<svg width=\"103pt\" height=\"83pt\"\r\n",
       " viewBox=\"0.00 0.00 102.75 82.95\" xmlns=\"http://www.w3.org/2000/svg\" xmlns:xlink=\"http://www.w3.org/1999/xlink\">\r\n",
       "<g id=\"graph0\" class=\"graph\" transform=\"scale(1 1) rotate(0) translate(4 78.9533)\">\r\n",
       "<title>G</title>\r\n",
       "<polygon fill=\"white\" stroke=\"none\" points=\"-4,4 -4,-78.9533 98.7523,-78.9533 98.7523,4 -4,4\"/>\r\n",
       "<!-- scopus -->\r\n",
       "<g id=\"node1\" class=\"node\"><title>scopus</title>\r\n",
       "<ellipse fill=\"none\" stroke=\"black\" cx=\"47.3762\" cy=\"-37.4767\" rx=\"47.2526\" ry=\"37.4533\"/>\r\n",
       "<text text-anchor=\"middle\" x=\"47.3762\" y=\"-48.7767\" font-family=\"Times New Roman,serif\" font-size=\"14.00\">scopus</text>\r\n",
       "<text text-anchor=\"middle\" x=\"47.3762\" y=\"-33.7767\" font-family=\"Times New Roman,serif\" font-size=\"14.00\">visited: 4</text>\r\n",
       "<text text-anchor=\"middle\" x=\"47.3762\" y=\"-18.7767\" font-family=\"Times New Roman,serif\" font-size=\"14.00\">related: 2</text>\r\n",
       "</g>\r\n",
       "</g>\r\n",
       "</svg>\r\n"
      ],
      "text/plain": [
       "Step(name='start', new_references=4, new_related=2, total_visited=4, total_related=2, source='', target='scopus')"
      ],
      "text/vnd.graphviz": [
       "digraph G {\n",
       "  rankdir=\"RL\";\n",
       "\n",
       "  scopus [label=\"scopus\\nvisited: 4\\nrelated: 2\"];\n",
       "\n",
       "}"
      ]
     },
     "metadata": {},
     "output_type": "display_data"
    }
   ],
   "source": [
    "strategy.initial.find(\"scopus\")"
   ]
  },
  {
   "cell_type": "code",
   "execution_count": 178,
   "metadata": {},
   "outputs": [
    {
     "name": "stdout",
     "output_type": "stream",
     "text": [
      "Visitados Scopus:\n"
     ]
    },
    {
     "data": {
      "text/plain": [
       "{Further comparison of cross-company and within-company effort estimation models for web applications,\n",
       " Using public domain metrics to estimate software development effort,\n",
       " Web effort estimation: The value of cross-company data set compared to single-company data set,\n",
       " A comparative study of two software development cost modeling techniques using multi-organizational and company-specific data}"
      ]
     },
     "execution_count": 178,
     "metadata": {},
     "output_type": "execute_result"
    }
   ],
   "source": [
    "print(\"Visitados Scopus:\")\n",
    "strategy.initial.find(\"scopus\").visited"
   ]
  },
  {
   "cell_type": "code",
   "execution_count": 175,
   "metadata": {},
   "outputs": [
    {
     "name": "stdout",
     "output_type": "stream",
     "text": [
      "Relacionados Scopus - encontrado no seed set:\n"
     ]
    },
    {
     "data": {
      "text/plain": [
       "{Further comparison of cross-company and within-company effort estimation models for web applications,\n",
       " Web effort estimation: The value of cross-company data set compared to single-company data set}"
      ]
     },
     "execution_count": 175,
     "metadata": {},
     "output_type": "execute_result"
    }
   ],
   "source": [
    "print(\"Relacionados Scopus - encontrado no seed set:\")\n",
    "strategy.initial.find(\"scopus\").related"
   ]
  },
  {
   "cell_type": "code",
   "execution_count": 179,
   "metadata": {},
   "outputs": [
    {
     "name": "stdout",
     "output_type": "stream",
     "text": [
      "Artigo comum a ACM e Scopus:\n"
     ]
    },
    {
     "data": {
      "text/plain": [
       "{Further comparison of cross-company and within-company effort estimation models for web applications}"
      ]
     },
     "execution_count": 179,
     "metadata": {},
     "output_type": "execute_result"
    }
   ],
   "source": [
    "print(\"Artigo comum a ACM e Scopus:\")\n",
    "strategy.initial.find(\"acm\").visited & strategy.initial.find(\"scopus\").visited"
   ]
  },
  {
   "cell_type": "markdown",
   "metadata": {},
   "source": [
    "#### Resumo do Snowballing"
   ]
  },
  {
   "cell_type": "code",
   "execution_count": 180,
   "metadata": {},
   "outputs": [
    {
     "name": "stdout",
     "output_type": "stream",
     "text": [
      "Total visitados:\n"
     ]
    },
    {
     "data": {
      "text/plain": [
       "94"
      ]
     },
     "execution_count": 180,
     "metadata": {},
     "output_type": "execute_result"
    }
   ],
   "source": [
    "#Total de visitados = visitados no final - visitados no início\n",
    "print (\"Total visitados:\")\n",
    "len(state.visited - state.find(\"s0\").visited)"
   ]
  },
  {
   "cell_type": "code",
   "execution_count": 112,
   "metadata": {},
   "outputs": [
    {
     "name": "stdout",
     "output_type": "stream",
     "text": [
      "Total Relacionados: Lista dos que foram encontrados via Snowballing\n"
     ]
    },
    {
     "data": {
      "text/plain": [
       "{A comparison of cross-company and within-company effort estimation models for web applications,\n",
       " Building software cost estimation models using homogenous data}"
      ]
     },
     "execution_count": 112,
     "metadata": {},
     "output_type": "execute_result"
    }
   ],
   "source": [
    "# Descrição dos Relacionados = relacionados no final - relacionados no início\n",
    "print (\"Total Relacionados: Lista dos que foram encontrados via Snowballing\")\n",
    "state.related - state.find(\"s0\").related"
   ]
  },
  {
   "cell_type": "code",
   "execution_count": 146,
   "metadata": {},
   "outputs": [
    {
     "name": "stdout",
     "output_type": "stream",
     "text": [
      "Encontrados via somente Snowballing:\n"
     ]
    },
    {
     "data": {
      "text/plain": [
       "['kitchenham2004a - A comparison of cross-company and within-company effort estimation models for web applications',\n",
       " 'premraj2007a - Building software cost estimation models using homogenous data']"
      ]
     },
     "execution_count": 146,
     "metadata": {},
     "output_type": "execute_result"
    }
   ],
   "source": [
    "print (\"Encontrados via somente Snowballing:\")\n",
    "diff_related = state.related - state.find(\"s0\").related\n",
    "diff_related @ metakey_title"
   ]
  },
  {
   "cell_type": "markdown",
   "metadata": {},
   "source": [
    "### Detalhamento por Estado / Aresta"
   ]
  },
  {
   "cell_type": "markdown",
   "metadata": {},
   "source": [
    "### Estado S0"
   ]
  },
  {
   "cell_type": "markdown",
   "metadata": {},
   "source": [
    "#### Visitados"
   ]
  },
  {
   "cell_type": "code",
   "execution_count": 100,
   "metadata": {},
   "outputs": [
    {
     "name": "stdout",
     "output_type": "stream",
     "text": [
      "Visitados no Estado 0:\n"
     ]
    },
    {
     "data": {
      "text/plain": [
       "{Web effort estimation: The value of cross-company data set compared to single-company data set,\n",
       " A comparative study of two software development cost modeling techniques using multi-organizational and company-specific data,\n",
       " Further comparison of cross-company and within-company effort estimation models for web applications,\n",
       " Using public domain metrics to estimate software development effort,\n",
       " Cross-vs. within-company cost estimation studies revisited: an extended systematic review}"
      ]
     },
     "execution_count": 100,
     "metadata": {},
     "output_type": "execute_result"
    }
   ],
   "source": [
    "#S0 - Visitados\n",
    "print(\"Visitados no Estado 0:\")\n",
    "state.find(\"s0\").visited"
   ]
  },
  {
   "cell_type": "markdown",
   "metadata": {},
   "source": [
    "#### Relacionados - Seed Set"
   ]
  },
  {
   "cell_type": "code",
   "execution_count": 132,
   "metadata": {},
   "outputs": [
    {
     "name": "stdout",
     "output_type": "stream",
     "text": [
      "Relacionados no Estado 0: Seed Set\n"
     ]
    },
    {
     "data": {
      "text/plain": [
       "['mendes2004a - Further comparison of cross-company and within-company effort estimation models for web applications',\n",
       " 'ferrucci2012a - Web effort estimation: The value of cross-company data set compared to single-company data set']"
      ]
     },
     "execution_count": 132,
     "metadata": {},
     "output_type": "execute_result"
    }
   ],
   "source": [
    "#S0 - Relacionados - Encontrados via busca e que existem na lista dos Incluídos da SLR existente - são os seed set!\n",
    "print(\"Relacionados no Estado 0: Seed Set\")\n",
    "state.find(\"s0\").related @ metakey_title"
   ]
  },
  {
   "cell_type": "markdown",
   "metadata": {},
   "source": [
    "### Aresta s0 -> s2 (Backward - Iteração 1)"
   ]
  },
  {
   "cell_type": "code",
   "execution_count": 153,
   "metadata": {},
   "outputs": [
    {
     "name": "stdout",
     "output_type": "stream",
     "text": [
      "Backward - Qtd Referencias dos artigos visitados para chegar ao Estado 2, a partir do Estado 0:\n"
     ]
    },
    {
     "data": {
      "text/plain": [
       "{The need for web engineering: An introduction,\n",
       " A comparison of cross-company and within-company effort estimation models for web applications,\n",
       " Investigating early web size measures for web cost estimation,\n",
       " On the relative value of cross-company and within-company data for defect prediction,\n",
       " Software engineering metrics and models,\n",
       " Statistical power analysis for the behavioral sciences,\n",
       " When to use data from other projects for effort estimation,\n",
       " Exploiting the essential assumptions of analogy-based effort estimation,\n",
       " A replicated assessment of the use of adaptation rules to improve Web cost estimation,\n",
       " Case studies for method and tool evaluation,\n",
       " Using simulation to evaluate prediction techniques,\n",
       " A procedure for analyzing unbalanced datasets,\n",
       " Detection of influential observation in linear regression,\n",
       " Local vs. global models for effort estimation and defect prediction,\n",
       " Web cost estimation and productivity benchmarking,\n",
       " A replicated assessment and comparison of common software cost modeling techniques,\n",
       " A study of project selection and feature weighting for analogy based software cost estimation,\n",
       " What accuracy statistics really measure,\n",
       " How valuable is company-specific data compared to multi-company data for software cost estimation?,\n",
       " Assessment and comparison of common software cost estimation modeling techniques,\n",
       " Individual comparisons by ranking methods,\n",
       " How to find relevant data for effort estimation?,\n",
       " Software cost models,\n",
       " Applied statistics for software managers,\n",
       " An empirical validation of software cost estimation models,\n",
       " Cross-company vs. single-company web effort models using the Tukutuku database: An extended study,\n",
       " Comparison of Web size measures for predicting Web design and authoring effort,\n",
       " Cross versus within-company cost estimation studies: A systematic review,\n",
       " Effort estimation: how valuable is it for a web company to use a cross-company data set, compared to using its own single-company data set?,\n",
       " WWW2000: The Developer's view and a practitioner's approach to Web Engineering,\n",
       " Investigating Web size metrics for early Web cost estimation}"
      ]
     },
     "execution_count": 153,
     "metadata": {},
     "output_type": "execute_result"
    }
   ],
   "source": [
    "# S2 - Backward (Found) - Visitados na iteração 1\n",
    "print(\"Backward - Qtd Referencias dos artigos visitados para chegar ao Estado 2, a partir do Estado 0:\")\n",
    "state.find(\"s2\").delta_visited"
   ]
  },
  {
   "cell_type": "code",
   "execution_count": 152,
   "metadata": {},
   "outputs": [
    {
     "name": "stdout",
     "output_type": "stream",
     "text": [
      "Relacionados encontrados via Backward, para chegar ao Estado 2, a partir do Estado 0:\n"
     ]
    },
    {
     "data": {
      "text/plain": [
       "['kitchenham2004a - A comparison of cross-company and within-company effort estimation models for web applications']"
      ]
     },
     "execution_count": 152,
     "metadata": {},
     "output_type": "execute_result"
    }
   ],
   "source": [
    "# S2 - Backward (Related) - Encontrados na iteração 1, via snowballing, que não foi encontrado via busca para o seed set.\n",
    "print(\"Relacionados encontrados via Backward, para chegar ao Estado 2, a partir do Estado 0:\")\n",
    "state.find(\"s2\").delta_related @ metakey_title"
   ]
  },
  {
   "cell_type": "markdown",
   "metadata": {},
   "source": [
    "### Aresta s0 -> s1 (Forward - Iteração 1)"
   ]
  },
  {
   "cell_type": "code",
   "execution_count": 151,
   "metadata": {},
   "outputs": [
    {
     "name": "stdout",
     "output_type": "stream",
     "text": [
      "Relacionados encontrados via Forward, para chegar ao Estado 1, a partir do Estado 0:\n"
     ]
    },
    {
     "data": {
      "text/plain": [
       "['premraj2007a - Building software cost estimation models using homogenous data']"
      ]
     },
     "execution_count": 151,
     "metadata": {},
     "output_type": "execute_result"
    }
   ],
   "source": [
    "# S1 - Forward (Related) - Encontrados na iteração 1\n",
    "print(\"Relacionados encontrados via Forward, para chegar ao Estado 1, a partir do Estado 0:\")\n",
    "state.find(\"s1\").delta_related @ metakey_title"
   ]
  },
  {
   "cell_type": "markdown",
   "metadata": {},
   "source": [
    "### Relacionados - Encontrados Via Backward e Forward"
   ]
  },
  {
   "cell_type": "code",
   "execution_count": 128,
   "metadata": {},
   "outputs": [
    {
     "name": "stdout",
     "output_type": "stream",
     "text": [
      "Encontrados via Backward e Forward:\n"
     ]
    },
    {
     "data": {
      "text/plain": [
       "[['kitchenham2004a - A comparison of cross-company and within-company effort estimation models for web applications'],\n",
       " ['premraj2007a - Building software cost estimation models using homogenous data']]"
      ]
     },
     "execution_count": 128,
     "metadata": {},
     "output_type": "execute_result"
    }
   ],
   "source": [
    "print (\"Encontrados via Backward e Forward:\")\n",
    "separa_backward_forward(state) @ metakey_title"
   ]
  },
  {
   "cell_type": "code",
   "execution_count": 156,
   "metadata": {},
   "outputs": [],
   "source": [
    "sets = separa_backward_forward(state)\n",
    "sets = encontraria(strategy, state)\n",
    "v = venn2(sets, set_labels = ('Backward', 'Forward'))\n",
    "c = venn2_circles(sets)\n",
    "plt.title('Diagrama de Venn')\n",
    "plt.show()"
   ]
  },
  {
   "cell_type": "code",
   "execution_count": 157,
   "metadata": {},
   "outputs": [
    {
     "name": "stdout",
     "output_type": "stream",
     "text": [
      "Backward ['mendes2004a']\n",
      "Forward ['mendes2004a', 'ferrucci2012a']\n"
     ]
    }
   ],
   "source": [
    "#Backward - Execução de backward em sets[0]\n",
    "print(\"Backward\", sets[0] @ metakey)\n",
    "print(\"Forward\", sets[1] @ metakey)"
   ]
  },
  {
   "cell_type": "code",
   "execution_count": 158,
   "metadata": {
    "collapsed": true
   },
   "outputs": [],
   "source": [
    "x = v.get_patch_by_id('100')"
   ]
  },
  {
   "cell_type": "code",
   "execution_count": 159,
   "metadata": {
    "collapsed": true
   },
   "outputs": [],
   "source": [
    "x.set_linestyle = \"black\""
   ]
  },
  {
   "cell_type": "code",
   "execution_count": 142,
   "metadata": {},
   "outputs": [],
   "source": [
    "#[x.metakey for x in state.find(\"s0\").related]"
   ]
  },
  {
   "cell_type": "markdown",
   "metadata": {},
   "source": [
    "### Execução de Backward (Aresta S0 -> S2) em cada artigo relacionado do S0"
   ]
  },
  {
   "cell_type": "code",
   "execution_count": 139,
   "metadata": {},
   "outputs": [
    {
     "name": "stdout",
     "output_type": "stream",
     "text": [
      "Descreve o S0 -> S2:\n",
      " Execução de Backward em cada artigo do related \n",
      "\n",
      "backward mendes2004a\n",
      "- cook1977a \n",
      "- kitchenham2001a \n",
      "- mendes2003b \n",
      "- kitchenham1984a \n",
      "- wieczorek2002a \n",
      "- mendes2003a \n",
      "- briand1999a \n",
      "- maxwell2002a \n",
      "- christodoulou2000a \n",
      "- kemerer1987a \n",
      "- briand2000a \n",
      "- kitchenham2004a related\n",
      "- wilcoxon1945a \n",
      "- shepperd2001a \n",
      "- kitchenham1998a \n",
      "forward mendes2004a\n",
      "- kocaguneli2010a \n",
      "- kitchenham2007a \n",
      "- mendes2007a \n",
      "- mendes2008b \n",
      "- mendes2005b \n",
      "backward ferrucci2012a\n",
      "- mendes2005a \n",
      "- kitchenham2004a related\n",
      "- kitchenham2001a \n",
      "- mendes2003a \n",
      "- turhan2009a \n",
      "- conte1986a \n",
      "- kocaguneli2011a \n",
      "- cohen1988a \n",
      "- kocaguneli2010a \n",
      "- kocaguneli2012a \n",
      "- maxwell2002a \n",
      "- kitchenham1995a \n",
      "- mendes2008b \n",
      "- shepperd2001a \n",
      "- mendes2002a \n",
      "- kitchenham1998a \n",
      "- cook1977a \n",
      "- kitchenham2007a \n",
      "- mendes2007a \n",
      "- menzies2011a \n",
      "- mendes2008a \n",
      "- li2009a \n",
      "- mendes2005b \n"
     ]
    }
   ],
   "source": [
    "print(\"Descreve o S0 -> S2:\\n Execução de Backward em cada artigo do related \\n\")\n",
    "descreve_delta(strategy, state, \"s2\")"
   ]
  },
  {
   "cell_type": "markdown",
   "metadata": {},
   "source": [
    "### Execução de Forward em cada artigo relacionado do S1"
   ]
  },
  {
   "cell_type": "code",
   "execution_count": 141,
   "metadata": {},
   "outputs": [
    {
     "name": "stdout",
     "output_type": "stream",
     "text": [
      "Descreve o S0 -> S1:\n",
      " Execução de Forward em cada artigo do related \n",
      "\n",
      "forward mendes2004a\n",
      "- mendes2007c \n",
      "- mendes2007d \n",
      "- watanabe2008a \n",
      "- ferrucci2015a \n",
      "- baresi2007a \n",
      "- costagliola2006a \n",
      "- ferrucci2008a \n",
      "- baker2010a \n",
      "- corazza2013a \n",
      "- wen2012a \n",
      "- ferrucci2009a \n",
      "- martino2016a \n",
      "- lang2009a \n",
      "- corazza2009a \n",
      "- keung2008b \n",
      "- lokan2008a \n",
      "- premraj2005a \n",
      "- martino2011a \n",
      "- abrahão2010a \n",
      "- ferrucci2010a \n",
      "- francese2015a \n",
      "- wieringa2015a \n",
      "- marco2012a \n",
      "- mendes2005c \n",
      "- matos2013a \n",
      "- shepperd2012a \n",
      "- al2006a \n",
      "- mittas2010b \n",
      "- martino2009a \n",
      "- huang2008a \n",
      "- corazza2011a \n",
      "- kitchenham2006a \n",
      "- kocaguneli2010a \n",
      "- keung2009a \n",
      "- buglione2010a \n",
      "- minku2015a \n",
      "- mair2005a \n",
      "- mittas2015a \n",
      "- mendes2008b \n",
      "- premraj2007a related\n",
      "- mendes2007b \n",
      "- mendes2009b \n",
      "- lall2006a \n",
      "- mendes2008d \n",
      "- kitchenham2007a \n",
      "- azhar2013a \n",
      "- lokan2006a \n",
      "- mendes2007a \n",
      "- mittas2010a \n",
      "- keung2008a \n",
      "- marco2013a \n",
      "- mendes2009a \n",
      "- mendes2008e \n",
      "- costagliola2006b \n",
      "- zimmermann2009a \n",
      "- ferrucci2010b \n",
      "- mendes2005b \n",
      "- martino2007a \n",
      "backward ferrucci2012a\n",
      "- kocaguneli2010a \n",
      "- kitchenham2007a \n",
      "- mendes2007a \n",
      "- mendes2008b \n",
      "- mendes2005b \n",
      "forward ferrucci2012a\n",
      "- satapathy2016a \n",
      "- huang2017a \n",
      "- minku2015a \n",
      "- corazza2015a \n",
      "- satapathy2017a \n",
      "- lee2016a \n",
      "- menzies2014a \n",
      "- finkelstein2013a \n",
      "- turhan2014a \n",
      "- dapozo2016a \n",
      "- huang2015a \n"
     ]
    }
   ],
   "source": [
    "print(\"Descreve o S0 -> S1:\\n Execução de Forward em cada artigo do related \\n\")\n",
    "descreve_delta(strategy, state, \"s1\")"
   ]
  },
  {
   "cell_type": "markdown",
   "metadata": {},
   "source": [
    "### Resumo do Precision e Recall"
   ]
  },
  {
   "cell_type": "code",
   "execution_count": 36,
   "metadata": {},
   "outputs": [
    {
     "name": "stdout",
     "output_type": "stream",
     "text": [
      "Precision na Busca E2: 0.40%\n",
      "\n",
      "Precision no Snowballing E2: 0.02%\n",
      "Precision no Snowballing E2 - Forward - 1 iteração: 0.01%\n",
      "Precision no Snowballing E2 - Backward - 1 iteração: 0.03%\n",
      "\n",
      "Precision E2 (Busca + Snowballing): 0.04%\n",
      "Precision E2\n",
      "0.04040404040404041\n",
      "Recall E2\n",
      "1.0\n"
     ]
    }
   ],
   "source": [
    "E2P = len (strategy.initial.related) / len (strategy.initial.visited)\n",
    "#print (len (strategy.initial.related))\n",
    "#print (len (strategy.initial.visited))\n",
    "#print (E2P)\n",
    "print (\"Precision na Busca E2: %.2f%%\" % E2P)\n",
    "\n",
    "#print (\"Precision no Snowballing - E2:\")\n",
    "#print(len(state.related - state.find(\"s0\").related))\n",
    "#print(len(state.visited - state.find(\"s0\").visited))\n",
    "\n",
    "E2PS = len(state.related - state.find(\"s0\").related) / len(state.visited - state.find(\"s0\").visited)\n",
    "\n",
    "print (\"\\n\"\"Precision no Snowballing E2: %.2f%%\" % E2PS)\n",
    "\n",
    "print(\"Precision no Snowballing E2 - Forward - 1 iteração: %.2f%%\" % (len (state.find(\"s1\").delta_related) / len (state.find(\"s1\").delta_visited)))\n",
    "\n",
    "print(\"Precision no Snowballing E2 - Backward - 1 iteração: %.2f%%\" % (len (state.find(\"s2\").delta_related) / len (state.find(\"s2\").delta_visited)))\n",
    "\n",
    "print(\"\\n\"\"Precision E2 (Busca + Snowballing): %.2f%%\" % (len(state.related) / len(state.visited)))\n",
    "\n",
    "#len (state.find(\"s1\").related)\n",
    "\n",
    "#len (state.find(\"s1\").delta_related)\n",
    "#len (state.find(\"s1\").delta_visited)\n",
    "\n",
    "\n",
    "name = \"E2\"\n",
    "print (\"Precision \" + name)\n",
    "EP = len (state.related) / len (state.visited)\n",
    "print (EP)\n",
    "print (\"Recall \" + name)\n",
    "ER = len (state.related) / len (TOTAL)\n",
    "print (ER)\n",
    "\n",
    "array.append((name, EP, ER))"
   ]
  },
  {
   "cell_type": "code",
   "execution_count": null,
   "metadata": {
    "collapsed": true
   },
   "outputs": [],
   "source": []
  },
  {
   "cell_type": "markdown",
   "metadata": {},
   "source": [
    "### Estratégia 3 - Busca Informal (Google Scholar) + Snowballing (Guideline - sfbu)"
   ]
  },
  {
   "cell_type": "code",
   "execution_count": 37,
   "metadata": {},
   "outputs": [
    {
     "data": {
      "image/svg+xml": [
       "<?xml version=\"1.0\" encoding=\"UTF-8\" standalone=\"no\"?>\r\n",
       "<!DOCTYPE svg PUBLIC \"-//W3C//DTD SVG 1.1//EN\"\r\n",
       " \"http://www.w3.org/Graphics/SVG/1.1/DTD/svg11.dtd\">\r\n",
       "<!-- Generated by graphviz version 2.38.0 (20140413.2041)\r\n",
       " -->\r\n",
       "<!-- Title: G Pages: 1 -->\r\n",
       "<svg width=\"470pt\" height=\"176pt\"\r\n",
       " viewBox=\"0.00 0.00 470.26 175.95\" xmlns=\"http://www.w3.org/2000/svg\" xmlns:xlink=\"http://www.w3.org/1999/xlink\">\r\n",
       "<g id=\"graph0\" class=\"graph\" transform=\"scale(1 1) rotate(0) translate(4 171.953)\">\r\n",
       "<title>G</title>\r\n",
       "<polygon fill=\"white\" stroke=\"none\" points=\"-4,4 -4,-171.953 466.257,-171.953 466.257,4 -4,4\"/>\r\n",
       "<!-- s3 -->\r\n",
       "<g id=\"node1\" class=\"node\"><title>s3</title>\r\n",
       "<ellipse fill=\"none\" stroke=\"black\" cx=\"414.881\" cy=\"-86.4767\" rx=\"47.2526\" ry=\"37.4533\"/>\r\n",
       "<text text-anchor=\"middle\" x=\"414.881\" y=\"-97.7767\" font-family=\"Times New Roman,serif\" font-size=\"14.00\">s3</text>\r\n",
       "<text text-anchor=\"middle\" x=\"414.881\" y=\"-82.7767\" font-family=\"Times New Roman,serif\" font-size=\"14.00\">visited: 0</text>\r\n",
       "<text text-anchor=\"middle\" x=\"414.881\" y=\"-67.7767\" font-family=\"Times New Roman,serif\" font-size=\"14.00\">related: 0</text>\r\n",
       "</g>\r\n",
       "<!-- s1 -->\r\n",
       "<g id=\"node2\" class=\"node\"><title>s1</title>\r\n",
       "<ellipse fill=\"none\" stroke=\"black\" cx=\"233.128\" cy=\"-130.477\" rx=\"47.2526\" ry=\"37.4533\"/>\r\n",
       "<text text-anchor=\"middle\" x=\"233.128\" y=\"-141.777\" font-family=\"Times New Roman,serif\" font-size=\"14.00\">s1</text>\r\n",
       "<text text-anchor=\"middle\" x=\"233.128\" y=\"-126.777\" font-family=\"Times New Roman,serif\" font-size=\"14.00\">visited: 0</text>\r\n",
       "<text text-anchor=\"middle\" x=\"233.128\" y=\"-111.777\" font-family=\"Times New Roman,serif\" font-size=\"14.00\">related: 0</text>\r\n",
       "</g>\r\n",
       "<!-- s3&#45;&gt;s1 -->\r\n",
       "<g id=\"edge1\" class=\"edge\"><title>s3&#45;&gt;s1</title>\r\n",
       "<path fill=\"none\" stroke=\"black\" d=\"M369.448,-97.3531C345.034,-103.329 314.549,-110.791 288.698,-117.119\"/>\r\n",
       "<polygon fill=\"black\" stroke=\"black\" points=\"287.554,-113.796 278.673,-119.573 289.219,-120.595 287.554,-113.796\"/>\r\n",
       "<text text-anchor=\"middle\" x=\"324.005\" y=\"-147.277\" font-family=\"Times New Roman,serif\" font-size=\"14.00\">union</text>\r\n",
       "<text text-anchor=\"middle\" x=\"324.005\" y=\"-132.277\" font-family=\"Times New Roman,serif\" font-size=\"14.00\">found: 0</text>\r\n",
       "<text text-anchor=\"middle\" x=\"324.005\" y=\"-117.277\" font-family=\"Times New Roman,serif\" font-size=\"14.00\">related: 0</text>\r\n",
       "</g>\r\n",
       "<!-- s2 -->\r\n",
       "<g id=\"node3\" class=\"node\"><title>s2</title>\r\n",
       "<ellipse fill=\"none\" stroke=\"black\" cx=\"233.128\" cy=\"-37.4767\" rx=\"47.2526\" ry=\"37.4533\"/>\r\n",
       "<text text-anchor=\"middle\" x=\"233.128\" y=\"-48.7767\" font-family=\"Times New Roman,serif\" font-size=\"14.00\">s2</text>\r\n",
       "<text text-anchor=\"middle\" x=\"233.128\" y=\"-33.7767\" font-family=\"Times New Roman,serif\" font-size=\"14.00\">visited: 0</text>\r\n",
       "<text text-anchor=\"middle\" x=\"233.128\" y=\"-18.7767\" font-family=\"Times New Roman,serif\" font-size=\"14.00\">related: 0</text>\r\n",
       "</g>\r\n",
       "<!-- s3&#45;&gt;s2 -->\r\n",
       "<g id=\"edge2\" class=\"edge\"><title>s3&#45;&gt;s2</title>\r\n",
       "<path fill=\"none\" stroke=\"black\" d=\"M375.895,-65.1417C367.415,-61.079 358.318,-57.2396 349.505,-54.4767 330.672,-48.5725 309.452,-44.6998 290.394,-42.1675\"/>\r\n",
       "<polygon fill=\"black\" stroke=\"black\" points=\"290.708,-38.6798 280.355,-40.9281 289.851,-45.6271 290.708,-38.6798\"/>\r\n",
       "<text text-anchor=\"middle\" x=\"324.005\" y=\"-88.2767\" font-family=\"Times New Roman,serif\" font-size=\"14.00\">union</text>\r\n",
       "<text text-anchor=\"middle\" x=\"324.005\" y=\"-73.2767\" font-family=\"Times New Roman,serif\" font-size=\"14.00\">found: 0</text>\r\n",
       "<text text-anchor=\"middle\" x=\"324.005\" y=\"-58.2767\" font-family=\"Times New Roman,serif\" font-size=\"14.00\">related: 0</text>\r\n",
       "</g>\r\n",
       "<!-- s0 -->\r\n",
       "<g id=\"node4\" class=\"node\"><title>s0</title>\r\n",
       "<ellipse fill=\"none\" stroke=\"black\" cx=\"47.3762\" cy=\"-86.4767\" rx=\"47.2526\" ry=\"37.4533\"/>\r\n",
       "<text text-anchor=\"middle\" x=\"47.3762\" y=\"-97.7767\" font-family=\"Times New Roman,serif\" font-size=\"14.00\">s0</text>\r\n",
       "<text text-anchor=\"middle\" x=\"47.3762\" y=\"-82.7767\" font-family=\"Times New Roman,serif\" font-size=\"14.00\">visited: 0</text>\r\n",
       "<text text-anchor=\"middle\" x=\"47.3762\" y=\"-67.7767\" font-family=\"Times New Roman,serif\" font-size=\"14.00\">related: 0</text>\r\n",
       "</g>\r\n",
       "<!-- s1&#45;&gt;s0 -->\r\n",
       "<g id=\"edge3\" class=\"edge\"><title>s1&#45;&gt;s0</title>\r\n",
       "<path fill=\"none\" stroke=\"black\" d=\"M187.647,-119.825C162.218,-113.736 130.118,-106.05 103.146,-99.5915\"/>\r\n",
       "<polygon fill=\"black\" stroke=\"black\" points=\"103.625,-96.1072 93.0847,-97.1822 101.995,-102.915 103.625,-96.1072\"/>\r\n",
       "<text text-anchor=\"middle\" x=\"140.252\" y=\"-148.277\" font-family=\"Times New Roman,serif\" font-size=\"14.00\">forward</text>\r\n",
       "<text text-anchor=\"middle\" x=\"140.252\" y=\"-133.277\" font-family=\"Times New Roman,serif\" font-size=\"14.00\">found: 0</text>\r\n",
       "<text text-anchor=\"middle\" x=\"140.252\" y=\"-118.277\" font-family=\"Times New Roman,serif\" font-size=\"14.00\">related: 0</text>\r\n",
       "</g>\r\n",
       "<!-- s2&#45;&gt;s0 -->\r\n",
       "<g id=\"edge4\" class=\"edge\"><title>s2&#45;&gt;s0</title>\r\n",
       "<path fill=\"none\" stroke=\"black\" d=\"M185.701,-40.0118C163.271,-42.1617 136.199,-46.1346 112.752,-53.4767 106.994,-55.2799 101.129,-57.5686 95.4009,-60.0972\"/>\r\n",
       "<polygon fill=\"black\" stroke=\"black\" points=\"93.5018,-57.1219 85.9328,-64.5355 96.4729,-63.4601 93.5018,-57.1219\"/>\r\n",
       "<text text-anchor=\"middle\" x=\"140.252\" y=\"-87.2767\" font-family=\"Times New Roman,serif\" font-size=\"14.00\">backward</text>\r\n",
       "<text text-anchor=\"middle\" x=\"140.252\" y=\"-72.2767\" font-family=\"Times New Roman,serif\" font-size=\"14.00\">found: 0</text>\r\n",
       "<text text-anchor=\"middle\" x=\"140.252\" y=\"-57.2767\" font-family=\"Times New Roman,serif\" font-size=\"14.00\">related: 0</text>\r\n",
       "</g>\r\n",
       "</g>\r\n",
       "</svg>\r\n"
      ],
      "text/plain": [
       "Step(name='start', new_references=0, new_related=0, total_visited=0, total_related=0, source='', target='s0')\n",
       "Step(name='backward', new_references=0, new_related=0, total_visited=0, total_related=0, source='s0', target='s2')\n",
       "Step(name='forward', new_references=0, new_related=0, total_visited=0, total_related=0, source='s0', target='s1')\n",
       "Step(name='union', new_references=0, new_related=0, total_visited=0, total_related=0, source='s1|s2', target='s3')"
      ],
      "text/vnd.graphviz": [
       "digraph G {\n",
       "  rankdir=\"RL\";\n",
       "\n",
       "  s3 [label=\"s3\\nvisited: 0\\nrelated: 0\"];\n",
       "  s3 -> s1 [label=\"union\\nfound: 0\\nrelated: 0\"];\n",
       "  s3 -> s2 [label=\"union\\nfound: 0\\nrelated: 0\"];\n",
       "\n",
       "  s1 [label=\"s1\\nvisited: 0\\nrelated: 0\"];\n",
       "  s1 -> s0 [label=\"forward\\nfound: 0\\nrelated: 0\"];\n",
       "\n",
       "  s2 [label=\"s2\\nvisited: 0\\nrelated: 0\"];\n",
       "  s2 -> s0 [label=\"backward\\nfound: 0\\nrelated: 0\"];\n",
       "\n",
       "  s0 [label=\"s0\\nvisited: 0\\nrelated: 0\"];\n",
       "\n",
       "}"
      ]
     },
     "metadata": {},
     "output_type": "display_data"
    }
   ],
   "source": [
    "reload()\n",
    "filter_function = lambda x: x.category in (\"snowball\", \"forward\", \"backward\")\n",
    "\n",
    "strategy = Strategy(*busca(\"gs\", filter_function=filter_function))\n",
    "state = strategy.sfbu()\n",
    "state"
   ]
  },
  {
   "cell_type": "code",
   "execution_count": 39,
   "metadata": {},
   "outputs": [
    {
     "name": "stdout",
     "output_type": "stream",
     "text": [
      "Precision E3\n"
     ]
    },
    {
     "ename": "ZeroDivisionError",
     "evalue": "division by zero",
     "output_type": "error",
     "traceback": [
      "\u001b[1;31m---------------------------------------------------------------------------\u001b[0m",
      "\u001b[1;31mZeroDivisionError\u001b[0m                         Traceback (most recent call last)",
      "\u001b[1;32m<ipython-input-39-877b415a516b>\u001b[0m in \u001b[0;36m<module>\u001b[1;34m()\u001b[0m\n\u001b[0;32m      1\u001b[0m \u001b[0mname\u001b[0m \u001b[1;33m=\u001b[0m \u001b[1;34m\"E3\"\u001b[0m\u001b[1;33m\u001b[0m\u001b[0m\n\u001b[0;32m      2\u001b[0m \u001b[0mprint\u001b[0m \u001b[1;33m(\u001b[0m\u001b[1;34m\"Precision \"\u001b[0m \u001b[1;33m+\u001b[0m \u001b[0mname\u001b[0m\u001b[1;33m)\u001b[0m\u001b[1;33m\u001b[0m\u001b[0m\n\u001b[1;32m----> 3\u001b[1;33m \u001b[0mEP\u001b[0m \u001b[1;33m=\u001b[0m \u001b[0mlen\u001b[0m \u001b[1;33m(\u001b[0m\u001b[0mstate\u001b[0m\u001b[1;33m.\u001b[0m\u001b[0mrelated\u001b[0m\u001b[1;33m)\u001b[0m \u001b[1;33m/\u001b[0m \u001b[0mlen\u001b[0m \u001b[1;33m(\u001b[0m\u001b[0mstate\u001b[0m\u001b[1;33m.\u001b[0m\u001b[0mvisited\u001b[0m\u001b[1;33m)\u001b[0m\u001b[1;33m\u001b[0m\u001b[0m\n\u001b[0m\u001b[0;32m      4\u001b[0m \u001b[0mprint\u001b[0m \u001b[1;33m(\u001b[0m\u001b[0mEP\u001b[0m\u001b[1;33m)\u001b[0m\u001b[1;33m\u001b[0m\u001b[0m\n\u001b[0;32m      5\u001b[0m \u001b[0mprint\u001b[0m \u001b[1;33m(\u001b[0m\u001b[1;34m\"Recall \"\u001b[0m \u001b[1;33m+\u001b[0m \u001b[0mname\u001b[0m\u001b[1;33m)\u001b[0m\u001b[1;33m\u001b[0m\u001b[0m\n",
      "\u001b[1;31mZeroDivisionError\u001b[0m: division by zero"
     ]
    }
   ],
   "source": [
    "name = \"E3\"\n",
    "print (\"Precision \" + name)\n",
    "EP = len (state.related) / len (state.visited)\n",
    "print (EP)\n",
    "print (\"Recall \" + name)\n",
    "ER = len (state.related) / len (TOTAL)\n",
    "print (ER)\n",
    "\n",
    "array.append((name, EP, ER))"
   ]
  },
  {
   "cell_type": "markdown",
   "metadata": {},
   "source": [
    "### Estratégia 4 - Busca em Scopus + Snowballing (Guideline - sfbu)"
   ]
  },
  {
   "cell_type": "code",
   "execution_count": 40,
   "metadata": {},
   "outputs": [
    {
     "data": {
      "image/svg+xml": [
       "<?xml version=\"1.0\" encoding=\"UTF-8\" standalone=\"no\"?>\r\n",
       "<!DOCTYPE svg PUBLIC \"-//W3C//DTD SVG 1.1//EN\"\r\n",
       " \"http://www.w3.org/Graphics/SVG/1.1/DTD/svg11.dtd\">\r\n",
       "<!-- Generated by graphviz version 2.38.0 (20140413.2041)\r\n",
       " -->\r\n",
       "<!-- Title: G Pages: 1 -->\r\n",
       "<svg width=\"872pt\" height=\"185pt\"\r\n",
       " viewBox=\"0.00 0.00 871.70 184.95\" xmlns=\"http://www.w3.org/2000/svg\" xmlns:xlink=\"http://www.w3.org/1999/xlink\">\r\n",
       "<g id=\"graph0\" class=\"graph\" transform=\"scale(1 1) rotate(0) translate(4 180.953)\">\r\n",
       "<title>G</title>\r\n",
       "<polygon fill=\"white\" stroke=\"none\" points=\"-4,4 -4,-180.953 867.703,-180.953 867.703,4 -4,4\"/>\r\n",
       "<!-- s6 -->\r\n",
       "<g id=\"node1\" class=\"node\"><title>s6</title>\r\n",
       "<ellipse fill=\"none\" stroke=\"black\" cx=\"812.084\" cy=\"-86.4767\" rx=\"51.7379\" ry=\"37.4533\"/>\r\n",
       "<text text-anchor=\"middle\" x=\"812.084\" y=\"-97.7767\" font-family=\"Times New Roman,serif\" font-size=\"14.00\">s6</text>\r\n",
       "<text text-anchor=\"middle\" x=\"812.084\" y=\"-82.7767\" font-family=\"Times New Roman,serif\" font-size=\"14.00\">visited: 99</text>\r\n",
       "<text text-anchor=\"middle\" x=\"812.084\" y=\"-67.7767\" font-family=\"Times New Roman,serif\" font-size=\"14.00\">related: 4</text>\r\n",
       "</g>\r\n",
       "<!-- s4 -->\r\n",
       "<g id=\"node2\" class=\"node\"><title>s4</title>\r\n",
       "<ellipse fill=\"none\" stroke=\"black\" cx=\"621.846\" cy=\"-130.477\" rx=\"51.7379\" ry=\"37.4533\"/>\r\n",
       "<text text-anchor=\"middle\" x=\"621.846\" y=\"-141.777\" font-family=\"Times New Roman,serif\" font-size=\"14.00\">s4</text>\r\n",
       "<text text-anchor=\"middle\" x=\"621.846\" y=\"-126.777\" font-family=\"Times New Roman,serif\" font-size=\"14.00\">visited: 99</text>\r\n",
       "<text text-anchor=\"middle\" x=\"621.846\" y=\"-111.777\" font-family=\"Times New Roman,serif\" font-size=\"14.00\">related: 4</text>\r\n",
       "</g>\r\n",
       "<!-- s6&#45;&gt;s4 -->\r\n",
       "<g id=\"edge1\" class=\"edge\"><title>s6&#45;&gt;s4</title>\r\n",
       "<path fill=\"none\" stroke=\"black\" d=\"M762.608,-97.8078C737.687,-103.633 707.133,-110.775 680.956,-116.894\"/>\r\n",
       "<polygon fill=\"black\" stroke=\"black\" points=\"680.099,-113.5 671.158,-119.184 681.692,-120.316 680.099,-113.5\"/>\r\n",
       "<text text-anchor=\"middle\" x=\"716.965\" y=\"-147.277\" font-family=\"Times New Roman,serif\" font-size=\"14.00\">union</text>\r\n",
       "<text text-anchor=\"middle\" x=\"716.965\" y=\"-132.277\" font-family=\"Times New Roman,serif\" font-size=\"14.00\">found: 0</text>\r\n",
       "<text text-anchor=\"middle\" x=\"716.965\" y=\"-117.277\" font-family=\"Times New Roman,serif\" font-size=\"14.00\">related: 0</text>\r\n",
       "</g>\r\n",
       "<!-- s5 -->\r\n",
       "<g id=\"node3\" class=\"node\"><title>s5</title>\r\n",
       "<ellipse fill=\"none\" stroke=\"black\" cx=\"621.846\" cy=\"-37.4767\" rx=\"51.7379\" ry=\"37.4533\"/>\r\n",
       "<text text-anchor=\"middle\" x=\"621.846\" y=\"-48.7767\" font-family=\"Times New Roman,serif\" font-size=\"14.00\">s5</text>\r\n",
       "<text text-anchor=\"middle\" x=\"621.846\" y=\"-33.7767\" font-family=\"Times New Roman,serif\" font-size=\"14.00\">visited: 99</text>\r\n",
       "<text text-anchor=\"middle\" x=\"621.846\" y=\"-18.7767\" font-family=\"Times New Roman,serif\" font-size=\"14.00\">related: 4</text>\r\n",
       "</g>\r\n",
       "<!-- s6&#45;&gt;s5 -->\r\n",
       "<g id=\"edge2\" class=\"edge\"><title>s6&#45;&gt;s5</title>\r\n",
       "<path fill=\"none\" stroke=\"black\" d=\"M769.756,-64.8235C760.934,-60.8822 751.537,-57.1718 742.465,-54.4767 723.631,-48.8817 702.566,-45.1051 683.424,-42.5653\"/>\r\n",
       "<polygon fill=\"black\" stroke=\"black\" points=\"683.667,-39.0689 673.313,-41.3124 682.807,-46.0157 683.667,-39.0689\"/>\r\n",
       "<text text-anchor=\"middle\" x=\"716.965\" y=\"-88.2767\" font-family=\"Times New Roman,serif\" font-size=\"14.00\">union</text>\r\n",
       "<text text-anchor=\"middle\" x=\"716.965\" y=\"-73.2767\" font-family=\"Times New Roman,serif\" font-size=\"14.00\">found: 0</text>\r\n",
       "<text text-anchor=\"middle\" x=\"716.965\" y=\"-58.2767\" font-family=\"Times New Roman,serif\" font-size=\"14.00\">related: 0</text>\r\n",
       "</g>\r\n",
       "<!-- s3 -->\r\n",
       "<g id=\"node4\" class=\"node\"><title>s3</title>\r\n",
       "<ellipse fill=\"none\" stroke=\"black\" cx=\"427.609\" cy=\"-86.4767\" rx=\"51.7379\" ry=\"37.4533\"/>\r\n",
       "<text text-anchor=\"middle\" x=\"427.609\" y=\"-97.7767\" font-family=\"Times New Roman,serif\" font-size=\"14.00\">s3</text>\r\n",
       "<text text-anchor=\"middle\" x=\"427.609\" y=\"-82.7767\" font-family=\"Times New Roman,serif\" font-size=\"14.00\">visited: 99</text>\r\n",
       "<text text-anchor=\"middle\" x=\"427.609\" y=\"-67.7767\" font-family=\"Times New Roman,serif\" font-size=\"14.00\">related: 4</text>\r\n",
       "</g>\r\n",
       "<!-- s4&#45;&gt;s3 -->\r\n",
       "<g id=\"edge3\" class=\"edge\"><title>s4&#45;&gt;s3</title>\r\n",
       "<path fill=\"none\" stroke=\"black\" d=\"M572.337,-119.374C546.382,-113.433 514.232,-106.074 486.924,-99.8241\"/>\r\n",
       "<polygon fill=\"black\" stroke=\"black\" points=\"487.632,-96.3956 477.103,-97.5762 486.07,-103.219 487.632,-96.3956\"/>\r\n",
       "<text text-anchor=\"middle\" x=\"524.727\" y=\"-147.277\" font-family=\"Times New Roman,serif\" font-size=\"14.00\">forward</text>\r\n",
       "<text text-anchor=\"middle\" x=\"524.727\" y=\"-132.277\" font-family=\"Times New Roman,serif\" font-size=\"14.00\">found: 0</text>\r\n",
       "<text text-anchor=\"middle\" x=\"524.727\" y=\"-117.277\" font-family=\"Times New Roman,serif\" font-size=\"14.00\">related: 0</text>\r\n",
       "</g>\r\n",
       "<!-- s5&#45;&gt;s3 -->\r\n",
       "<g id=\"edge4\" class=\"edge\"><title>s5&#45;&gt;s3</title>\r\n",
       "<path fill=\"none\" stroke=\"black\" d=\"M570.203,-40.988C547.547,-43.4354 520.709,-47.5584 497.227,-54.4767 491.27,-56.2319 485.174,-58.4293 479.193,-60.8459\"/>\r\n",
       "<polygon fill=\"black\" stroke=\"black\" points=\"477.757,-57.6536 469.927,-64.7918 480.499,-64.0939 477.757,-57.6536\"/>\r\n",
       "<text text-anchor=\"middle\" x=\"524.727\" y=\"-88.2767\" font-family=\"Times New Roman,serif\" font-size=\"14.00\">backward</text>\r\n",
       "<text text-anchor=\"middle\" x=\"524.727\" y=\"-73.2767\" font-family=\"Times New Roman,serif\" font-size=\"14.00\">found: 0</text>\r\n",
       "<text text-anchor=\"middle\" x=\"524.727\" y=\"-58.2767\" font-family=\"Times New Roman,serif\" font-size=\"14.00\">related: 0</text>\r\n",
       "</g>\r\n",
       "<!-- s1 -->\r\n",
       "<g id=\"node5\" class=\"node\"><title>s1</title>\r\n",
       "<ellipse fill=\"none\" stroke=\"black\" cx=\"237.371\" cy=\"-139.477\" rx=\"51.7379\" ry=\"37.4533\"/>\r\n",
       "<text text-anchor=\"middle\" x=\"237.371\" y=\"-150.777\" font-family=\"Times New Roman,serif\" font-size=\"14.00\">s1</text>\r\n",
       "<text text-anchor=\"middle\" x=\"237.371\" y=\"-135.777\" font-family=\"Times New Roman,serif\" font-size=\"14.00\">visited: 73</text>\r\n",
       "<text text-anchor=\"middle\" x=\"237.371\" y=\"-120.777\" font-family=\"Times New Roman,serif\" font-size=\"14.00\">related: 3</text>\r\n",
       "</g>\r\n",
       "<!-- s3&#45;&gt;s1 -->\r\n",
       "<g id=\"edge5\" class=\"edge\"><title>s3&#45;&gt;s1</title>\r\n",
       "<path fill=\"none\" stroke=\"black\" d=\"M381.044,-103.117C373.389,-105.71 365.494,-108.26 357.99,-110.477 338.269,-116.3 316.473,-121.843 296.948,-126.494\"/>\r\n",
       "<polygon fill=\"black\" stroke=\"black\" points=\"295.901,-123.145 286.968,-128.841 297.504,-129.959 295.901,-123.145\"/>\r\n",
       "<text text-anchor=\"middle\" x=\"332.49\" y=\"-157.277\" font-family=\"Times New Roman,serif\" font-size=\"14.00\">union</text>\r\n",
       "<text text-anchor=\"middle\" x=\"332.49\" y=\"-142.277\" font-family=\"Times New Roman,serif\" font-size=\"14.00\">found: 0</text>\r\n",
       "<text text-anchor=\"middle\" x=\"332.49\" y=\"-127.277\" font-family=\"Times New Roman,serif\" font-size=\"14.00\">related: 0</text>\r\n",
       "</g>\r\n",
       "<!-- s2 -->\r\n",
       "<g id=\"node6\" class=\"node\"><title>s2</title>\r\n",
       "<ellipse fill=\"none\" stroke=\"black\" cx=\"237.371\" cy=\"-46.4767\" rx=\"51.7379\" ry=\"37.4533\"/>\r\n",
       "<text text-anchor=\"middle\" x=\"237.371\" y=\"-57.7767\" font-family=\"Times New Roman,serif\" font-size=\"14.00\">s2</text>\r\n",
       "<text text-anchor=\"middle\" x=\"237.371\" y=\"-42.7767\" font-family=\"Times New Roman,serif\" font-size=\"14.00\">visited: 35</text>\r\n",
       "<text text-anchor=\"middle\" x=\"237.371\" y=\"-27.7767\" font-family=\"Times New Roman,serif\" font-size=\"14.00\">related: 3</text>\r\n",
       "</g>\r\n",
       "<!-- s3&#45;&gt;s2 -->\r\n",
       "<g id=\"edge6\" class=\"edge\"><title>s3&#45;&gt;s2</title>\r\n",
       "<path fill=\"none\" stroke=\"black\" d=\"M380.338,-71.3583C372.911,-69.2091 365.273,-67.1608 357.99,-65.4767 338.801,-61.0392 317.64,-57.3053 298.52,-54.3543\"/>\r\n",
       "<polygon fill=\"black\" stroke=\"black\" points=\"298.84,-50.8633 288.431,-52.8395 297.801,-57.7857 298.84,-50.8633\"/>\r\n",
       "<text text-anchor=\"middle\" x=\"332.49\" y=\"-99.2767\" font-family=\"Times New Roman,serif\" font-size=\"14.00\">union</text>\r\n",
       "<text text-anchor=\"middle\" x=\"332.49\" y=\"-84.2767\" font-family=\"Times New Roman,serif\" font-size=\"14.00\">found: 0</text>\r\n",
       "<text text-anchor=\"middle\" x=\"332.49\" y=\"-69.2767\" font-family=\"Times New Roman,serif\" font-size=\"14.00\">related: 0</text>\r\n",
       "</g>\r\n",
       "<!-- s0 -->\r\n",
       "<g id=\"node7\" class=\"node\"><title>s0</title>\r\n",
       "<ellipse fill=\"none\" stroke=\"black\" cx=\"47.3762\" cy=\"-95.4767\" rx=\"47.2526\" ry=\"37.4533\"/>\r\n",
       "<text text-anchor=\"middle\" x=\"47.3762\" y=\"-106.777\" font-family=\"Times New Roman,serif\" font-size=\"14.00\">s0</text>\r\n",
       "<text text-anchor=\"middle\" x=\"47.3762\" y=\"-91.7767\" font-family=\"Times New Roman,serif\" font-size=\"14.00\">visited: 4</text>\r\n",
       "<text text-anchor=\"middle\" x=\"47.3762\" y=\"-76.7767\" font-family=\"Times New Roman,serif\" font-size=\"14.00\">related: 2</text>\r\n",
       "</g>\r\n",
       "<!-- s1&#45;&gt;s0 -->\r\n",
       "<g id=\"edge7\" class=\"edge\"><title>s1&#45;&gt;s0</title>\r\n",
       "<path fill=\"none\" stroke=\"black\" d=\"M187.958,-128.146C162.008,-122.072 129.942,-114.567 103.091,-108.283\"/>\r\n",
       "<polygon fill=\"black\" stroke=\"black\" points=\"103.614,-104.81 93.0792,-105.939 102.018,-111.626 103.614,-104.81\"/>\r\n",
       "<text text-anchor=\"middle\" x=\"140.252\" y=\"-156.277\" font-family=\"Times New Roman,serif\" font-size=\"14.00\">forward</text>\r\n",
       "<text text-anchor=\"middle\" x=\"140.252\" y=\"-141.277\" font-family=\"Times New Roman,serif\" font-size=\"14.00\">found: 69</text>\r\n",
       "<text text-anchor=\"middle\" x=\"140.252\" y=\"-126.277\" font-family=\"Times New Roman,serif\" font-size=\"14.00\">related: 1</text>\r\n",
       "</g>\r\n",
       "<!-- s2&#45;&gt;s0 -->\r\n",
       "<g id=\"edge8\" class=\"edge\"><title>s2&#45;&gt;s0</title>\r\n",
       "<path fill=\"none\" stroke=\"black\" d=\"M185.57,-48.4583C162.884,-50.4019 136.067,-54.1796 112.752,-61.4767 106.736,-63.3596 100.621,-65.7994 94.673,-68.5076\"/>\r\n",
       "<polygon fill=\"black\" stroke=\"black\" points=\"92.9815,-65.4378 85.5031,-72.9428 96.0294,-71.7395 92.9815,-65.4378\"/>\r\n",
       "<text text-anchor=\"middle\" x=\"140.252\" y=\"-95.2767\" font-family=\"Times New Roman,serif\" font-size=\"14.00\">backward</text>\r\n",
       "<text text-anchor=\"middle\" x=\"140.252\" y=\"-80.2767\" font-family=\"Times New Roman,serif\" font-size=\"14.00\">found: 31</text>\r\n",
       "<text text-anchor=\"middle\" x=\"140.252\" y=\"-65.2767\" font-family=\"Times New Roman,serif\" font-size=\"14.00\">related: 1</text>\r\n",
       "</g>\r\n",
       "</g>\r\n",
       "</svg>\r\n"
      ],
      "text/plain": [
       "Step(name='start', new_references=4, new_related=2, total_visited=4, total_related=2, source='', target='s0')\n",
       "Step(name='backward', new_references=31, new_related=1, total_visited=35, total_related=3, source='s0', target='s2')\n",
       "Step(name='forward', new_references=69, new_related=1, total_visited=73, total_related=3, source='s0', target='s1')\n",
       "Step(name='union', new_references=0, new_related=0, total_visited=99, total_related=4, source='s1|s2', target='s3')\n",
       "Step(name='backward', new_references=0, new_related=0, total_visited=99, total_related=4, source='s3', target='s5')\n",
       "Step(name='forward', new_references=0, new_related=0, total_visited=99, total_related=4, source='s3', target='s4')\n",
       "Step(name='union', new_references=0, new_related=0, total_visited=99, total_related=4, source='s4|s5', target='s6')"
      ],
      "text/vnd.graphviz": [
       "digraph G {\n",
       "  rankdir=\"RL\";\n",
       "\n",
       "  s6 [label=\"s6\\nvisited: 99\\nrelated: 4\"];\n",
       "  s6 -> s4 [label=\"union\\nfound: 0\\nrelated: 0\"];\n",
       "  s6 -> s5 [label=\"union\\nfound: 0\\nrelated: 0\"];\n",
       "\n",
       "  s4 [label=\"s4\\nvisited: 99\\nrelated: 4\"];\n",
       "  s4 -> s3 [label=\"forward\\nfound: 0\\nrelated: 0\"];\n",
       "\n",
       "  s5 [label=\"s5\\nvisited: 99\\nrelated: 4\"];\n",
       "  s5 -> s3 [label=\"backward\\nfound: 0\\nrelated: 0\"];\n",
       "\n",
       "  s3 [label=\"s3\\nvisited: 99\\nrelated: 4\"];\n",
       "  s3 -> s1 [label=\"union\\nfound: 0\\nrelated: 0\"];\n",
       "  s3 -> s2 [label=\"union\\nfound: 0\\nrelated: 0\"];\n",
       "\n",
       "  s1 [label=\"s1\\nvisited: 73\\nrelated: 3\"];\n",
       "  s1 -> s0 [label=\"forward\\nfound: 69\\nrelated: 1\"];\n",
       "\n",
       "  s2 [label=\"s2\\nvisited: 35\\nrelated: 3\"];\n",
       "  s2 -> s0 [label=\"backward\\nfound: 31\\nrelated: 1\"];\n",
       "\n",
       "  s0 [label=\"s0\\nvisited: 4\\nrelated: 2\"];\n",
       "\n",
       "}"
      ]
     },
     "metadata": {},
     "output_type": "display_data"
    }
   ],
   "source": [
    "reload()\n",
    "filter_function = lambda x: x.category in (\"snowball\", \"forward\", \"backward\")\n",
    "\n",
    "strategy = Strategy(*busca(\"scopus\", filter_function=filter_function))\n",
    "state = strategy.sfbu()\n",
    "state"
   ]
  },
  {
   "cell_type": "code",
   "execution_count": 41,
   "metadata": {},
   "outputs": [
    {
     "name": "stdout",
     "output_type": "stream",
     "text": [
      "Precision E4\n",
      "0.04040404040404041\n",
      "Recall E4\n",
      "1.0\n"
     ]
    }
   ],
   "source": [
    "name = \"E4\"\n",
    "print (\"Precision \" + name)\n",
    "EP = len (state.related) / len (state.visited)\n",
    "print (EP)\n",
    "print (\"Recall \" + name)\n",
    "ER = len (state.related) / len (TOTAL)\n",
    "print (ER)\n",
    "\n",
    "array.append((name, EP, ER))"
   ]
  },
  {
   "cell_type": "code",
   "execution_count": 42,
   "metadata": {},
   "outputs": [
    {
     "data": {
      "text/plain": [
       "{Further comparison of cross-company and within-company effort estimation models for web applications,\n",
       " Web effort estimation: The value of cross-company data set compared to single-company data set}"
      ]
     },
     "execution_count": 42,
     "metadata": {},
     "output_type": "execute_result"
    }
   ],
   "source": [
    "state.find(\"s0\").related"
   ]
  },
  {
   "cell_type": "code",
   "execution_count": 43,
   "metadata": {},
   "outputs": [
    {
     "data": {
      "text/plain": [
       "{Further comparison of cross-company and within-company effort estimation models for web applications,\n",
       " A comparison of cross-company and within-company effort estimation models for web applications,\n",
       " Web effort estimation: The value of cross-company data set compared to single-company data set}"
      ]
     },
     "execution_count": 43,
     "metadata": {},
     "output_type": "execute_result"
    }
   ],
   "source": [
    "state.find(\"s2\").related"
   ]
  },
  {
   "cell_type": "code",
   "execution_count": 44,
   "metadata": {},
   "outputs": [
    {
     "data": {
      "text/plain": [
       "{Further comparison of cross-company and within-company effort estimation models for web applications,\n",
       " Using public domain metrics to estimate software development effort,\n",
       " Web effort estimation: The value of cross-company data set compared to single-company data set,\n",
       " A comparative study of two software development cost modeling techniques using multi-organizational and company-specific data}"
      ]
     },
     "execution_count": 44,
     "metadata": {},
     "output_type": "execute_result"
    }
   ],
   "source": [
    "state.find(\"s0\").visited"
   ]
  },
  {
   "cell_type": "code",
   "execution_count": 45,
   "metadata": {},
   "outputs": [
    {
     "data": {
      "text/plain": [
       "{A comparison of cross-company and within-company effort estimation models for web applications}"
      ]
     },
     "execution_count": 45,
     "metadata": {},
     "output_type": "execute_result"
    }
   ],
   "source": [
    "# Com backward de mendes2004a é possível encontrar 2 (resultado da celula)\n",
    "state.related & set(strategy.ref[work_by_varname(\"mendes2004a\")])"
   ]
  },
  {
   "cell_type": "code",
   "execution_count": 46,
   "metadata": {},
   "outputs": [
    {
     "data": {
      "text/plain": [
       "{A comparison of cross-company and within-company effort estimation models for web applications}"
      ]
     },
     "execution_count": 46,
     "metadata": {},
     "output_type": "execute_result"
    }
   ],
   "source": [
    "# Com backward de ... em S2, encontrou 1 (resultado da celula)\n",
    "state.find(\"s2\").delta_related & set(strategy.ref[work_by_varname(\"mendes2004a\")])"
   ]
  },
  {
   "cell_type": "code",
   "execution_count": 47,
   "metadata": {},
   "outputs": [
    {
     "data": {
      "text/plain": [
       "{Building software cost estimation models using homogenous data}"
      ]
     },
     "execution_count": 47,
     "metadata": {},
     "output_type": "execute_result"
    }
   ],
   "source": [
    "# Com forward de ... em S1, encontrou 1 (resultado da celula)\n",
    "state.find(\"s1\").delta_related & set(strategy.rev_ref[work_by_varname(\"mendes2004a\")])"
   ]
  },
  {
   "cell_type": "code",
   "execution_count": 48,
   "metadata": {},
   "outputs": [
    {
     "data": {
      "text/plain": [
       "69"
      ]
     },
     "execution_count": 48,
     "metadata": {},
     "output_type": "execute_result"
    }
   ],
   "source": [
    "len(state.find(\"s1\").delta_visited)"
   ]
  },
  {
   "cell_type": "code",
   "execution_count": 49,
   "metadata": {},
   "outputs": [
    {
     "data": {
      "text/plain": [
       "60"
      ]
     },
     "execution_count": 49,
     "metadata": {},
     "output_type": "execute_result"
    }
   ],
   "source": [
    "#len(state.find(\"s1\").delta_visited & set(strategy.rev_ref[work_by_varname(\"mendes2004a\")]))\n",
    "# forward\n",
    "len(set(strategy.rev_ref[work_by_varname(\"mendes2004a\")]))"
   ]
  },
  {
   "cell_type": "code",
   "execution_count": 50,
   "metadata": {},
   "outputs": [
    {
     "data": {
      "text/plain": [
       "17"
      ]
     },
     "execution_count": 50,
     "metadata": {},
     "output_type": "execute_result"
    }
   ],
   "source": [
    "# backward\n",
    "len(set(strategy.ref[work_by_varname(\"mendes2004a\")]))"
   ]
  },
  {
   "cell_type": "code",
   "execution_count": 51,
   "metadata": {},
   "outputs": [
    {
     "data": {
      "text/plain": [
       "{Further comparison of cross-company and within-company effort estimation models for web applications,\n",
       " Web effort estimation: The value of cross-company data set compared to single-company data set}"
      ]
     },
     "execution_count": 51,
     "metadata": {},
     "output_type": "execute_result"
    }
   ],
   "source": [
    "search_state = strategy.initial\n",
    "search_state.related"
   ]
  },
  {
   "cell_type": "markdown",
   "metadata": {},
   "source": [
    "### Estratégia 5 - Busca em Scopus + Snowballing (Short Paper - s2ffbb2u)"
   ]
  },
  {
   "cell_type": "code",
   "execution_count": 52,
   "metadata": {},
   "outputs": [
    {
     "data": {
      "image/svg+xml": [
       "<?xml version=\"1.0\" encoding=\"UTF-8\" standalone=\"no\"?>\r\n",
       "<!DOCTYPE svg PUBLIC \"-//W3C//DTD SVG 1.1//EN\"\r\n",
       " \"http://www.w3.org/Graphics/SVG/1.1/DTD/svg11.dtd\">\r\n",
       "<!-- Generated by graphviz version 2.38.0 (20140413.2041)\r\n",
       " -->\r\n",
       "<!-- Title: G Pages: 1 -->\r\n",
       "<svg width=\"681pt\" height=\"183pt\"\r\n",
       " viewBox=\"0.00 0.00 681.47 183.48\" xmlns=\"http://www.w3.org/2000/svg\" xmlns:xlink=\"http://www.w3.org/1999/xlink\">\r\n",
       "<g id=\"graph0\" class=\"graph\" transform=\"scale(1 1) rotate(0) translate(4 179.477)\">\r\n",
       "<title>G</title>\r\n",
       "<polygon fill=\"white\" stroke=\"none\" points=\"-4,4 -4,-179.477 677.465,-179.477 677.465,4 -4,4\"/>\r\n",
       "<!-- s5 -->\r\n",
       "<g id=\"node1\" class=\"node\"><title>s5</title>\r\n",
       "<ellipse fill=\"none\" stroke=\"black\" cx=\"621.846\" cy=\"-86.4767\" rx=\"51.7379\" ry=\"37.4533\"/>\r\n",
       "<text text-anchor=\"middle\" x=\"621.846\" y=\"-97.7767\" font-family=\"Times New Roman,serif\" font-size=\"14.00\">s5</text>\r\n",
       "<text text-anchor=\"middle\" x=\"621.846\" y=\"-82.7767\" font-family=\"Times New Roman,serif\" font-size=\"14.00\">visited: 99</text>\r\n",
       "<text text-anchor=\"middle\" x=\"621.846\" y=\"-67.7767\" font-family=\"Times New Roman,serif\" font-size=\"14.00\">related: 4</text>\r\n",
       "</g>\r\n",
       "<!-- s2 -->\r\n",
       "<g id=\"node2\" class=\"node\"><title>s2</title>\r\n",
       "<ellipse fill=\"none\" stroke=\"black\" cx=\"431.609\" cy=\"-130.477\" rx=\"51.7379\" ry=\"37.4533\"/>\r\n",
       "<text text-anchor=\"middle\" x=\"431.609\" y=\"-141.777\" font-family=\"Times New Roman,serif\" font-size=\"14.00\">s2</text>\r\n",
       "<text text-anchor=\"middle\" x=\"431.609\" y=\"-126.777\" font-family=\"Times New Roman,serif\" font-size=\"14.00\">visited: 73</text>\r\n",
       "<text text-anchor=\"middle\" x=\"431.609\" y=\"-111.777\" font-family=\"Times New Roman,serif\" font-size=\"14.00\">related: 3</text>\r\n",
       "</g>\r\n",
       "<!-- s5&#45;&gt;s2 -->\r\n",
       "<g id=\"edge1\" class=\"edge\"><title>s5&#45;&gt;s2</title>\r\n",
       "<path fill=\"none\" stroke=\"black\" d=\"M572.37,-97.8078C547.45,-103.633 516.896,-110.775 490.718,-116.894\"/>\r\n",
       "<polygon fill=\"black\" stroke=\"black\" points=\"489.861,-113.5 480.92,-119.184 491.454,-120.316 489.861,-113.5\"/>\r\n",
       "<text text-anchor=\"middle\" x=\"526.727\" y=\"-147.277\" font-family=\"Times New Roman,serif\" font-size=\"14.00\">union</text>\r\n",
       "<text text-anchor=\"middle\" x=\"526.727\" y=\"-132.277\" font-family=\"Times New Roman,serif\" font-size=\"14.00\">found: 0</text>\r\n",
       "<text text-anchor=\"middle\" x=\"526.727\" y=\"-117.277\" font-family=\"Times New Roman,serif\" font-size=\"14.00\">related: 0</text>\r\n",
       "</g>\r\n",
       "<!-- s4 -->\r\n",
       "<g id=\"node3\" class=\"node\"><title>s4</title>\r\n",
       "<ellipse fill=\"none\" stroke=\"black\" cx=\"431.609\" cy=\"-37.4767\" rx=\"51.7379\" ry=\"37.4533\"/>\r\n",
       "<text text-anchor=\"middle\" x=\"431.609\" y=\"-48.7767\" font-family=\"Times New Roman,serif\" font-size=\"14.00\">s4</text>\r\n",
       "<text text-anchor=\"middle\" x=\"431.609\" y=\"-33.7767\" font-family=\"Times New Roman,serif\" font-size=\"14.00\">visited: 35</text>\r\n",
       "<text text-anchor=\"middle\" x=\"431.609\" y=\"-18.7767\" font-family=\"Times New Roman,serif\" font-size=\"14.00\">related: 3</text>\r\n",
       "</g>\r\n",
       "<!-- s5&#45;&gt;s4 -->\r\n",
       "<g id=\"edge2\" class=\"edge\"><title>s5&#45;&gt;s4</title>\r\n",
       "<path fill=\"none\" stroke=\"black\" d=\"M579.518,-64.8235C570.697,-60.8822 561.3,-57.1718 552.227,-54.4767 533.394,-48.8817 512.328,-45.1051 493.186,-42.5653\"/>\r\n",
       "<polygon fill=\"black\" stroke=\"black\" points=\"493.43,-39.0689 483.075,-41.3124 492.569,-46.0157 493.43,-39.0689\"/>\r\n",
       "<text text-anchor=\"middle\" x=\"526.727\" y=\"-88.2767\" font-family=\"Times New Roman,serif\" font-size=\"14.00\">union</text>\r\n",
       "<text text-anchor=\"middle\" x=\"526.727\" y=\"-73.2767\" font-family=\"Times New Roman,serif\" font-size=\"14.00\">found: 0</text>\r\n",
       "<text text-anchor=\"middle\" x=\"526.727\" y=\"-58.2767\" font-family=\"Times New Roman,serif\" font-size=\"14.00\">related: 0</text>\r\n",
       "</g>\r\n",
       "<!-- s1 -->\r\n",
       "<g id=\"node4\" class=\"node\"><title>s1</title>\r\n",
       "<ellipse fill=\"none\" stroke=\"black\" cx=\"237.371\" cy=\"-130.477\" rx=\"51.7379\" ry=\"37.4533\"/>\r\n",
       "<text text-anchor=\"middle\" x=\"237.371\" y=\"-141.777\" font-family=\"Times New Roman,serif\" font-size=\"14.00\">s1</text>\r\n",
       "<text text-anchor=\"middle\" x=\"237.371\" y=\"-126.777\" font-family=\"Times New Roman,serif\" font-size=\"14.00\">visited: 73</text>\r\n",
       "<text text-anchor=\"middle\" x=\"237.371\" y=\"-111.777\" font-family=\"Times New Roman,serif\" font-size=\"14.00\">related: 3</text>\r\n",
       "</g>\r\n",
       "<!-- s2&#45;&gt;s1 -->\r\n",
       "<g id=\"edge3\" class=\"edge\"><title>s2&#45;&gt;s1</title>\r\n",
       "<path fill=\"none\" stroke=\"black\" d=\"M379.849,-130.477C355.102,-130.477 325.15,-130.477 299.188,-130.477\"/>\r\n",
       "<polygon fill=\"black\" stroke=\"black\" points=\"299.082,-126.977 289.082,-130.477 299.082,-133.977 299.082,-126.977\"/>\r\n",
       "<text text-anchor=\"middle\" x=\"334.49\" y=\"-164.277\" font-family=\"Times New Roman,serif\" font-size=\"14.00\">forward</text>\r\n",
       "<text text-anchor=\"middle\" x=\"334.49\" y=\"-149.277\" font-family=\"Times New Roman,serif\" font-size=\"14.00\">found: 0</text>\r\n",
       "<text text-anchor=\"middle\" x=\"334.49\" y=\"-134.277\" font-family=\"Times New Roman,serif\" font-size=\"14.00\">related: 0</text>\r\n",
       "</g>\r\n",
       "<!-- s3 -->\r\n",
       "<g id=\"node5\" class=\"node\"><title>s3</title>\r\n",
       "<ellipse fill=\"none\" stroke=\"black\" cx=\"237.371\" cy=\"-37.4767\" rx=\"51.7379\" ry=\"37.4533\"/>\r\n",
       "<text text-anchor=\"middle\" x=\"237.371\" y=\"-48.7767\" font-family=\"Times New Roman,serif\" font-size=\"14.00\">s3</text>\r\n",
       "<text text-anchor=\"middle\" x=\"237.371\" y=\"-33.7767\" font-family=\"Times New Roman,serif\" font-size=\"14.00\">visited: 35</text>\r\n",
       "<text text-anchor=\"middle\" x=\"237.371\" y=\"-18.7767\" font-family=\"Times New Roman,serif\" font-size=\"14.00\">related: 3</text>\r\n",
       "</g>\r\n",
       "<!-- s4&#45;&gt;s3 -->\r\n",
       "<g id=\"edge4\" class=\"edge\"><title>s4&#45;&gt;s3</title>\r\n",
       "<path fill=\"none\" stroke=\"black\" d=\"M379.849,-37.4767C355.102,-37.4767 325.15,-37.4767 299.188,-37.4767\"/>\r\n",
       "<polygon fill=\"black\" stroke=\"black\" points=\"299.082,-33.9768 289.082,-37.4767 299.082,-40.9768 299.082,-33.9768\"/>\r\n",
       "<text text-anchor=\"middle\" x=\"334.49\" y=\"-71.2767\" font-family=\"Times New Roman,serif\" font-size=\"14.00\">backward</text>\r\n",
       "<text text-anchor=\"middle\" x=\"334.49\" y=\"-56.2767\" font-family=\"Times New Roman,serif\" font-size=\"14.00\">found: 0</text>\r\n",
       "<text text-anchor=\"middle\" x=\"334.49\" y=\"-41.2767\" font-family=\"Times New Roman,serif\" font-size=\"14.00\">related: 0</text>\r\n",
       "</g>\r\n",
       "<!-- s0 -->\r\n",
       "<g id=\"node6\" class=\"node\"><title>s0</title>\r\n",
       "<ellipse fill=\"none\" stroke=\"black\" cx=\"47.3762\" cy=\"-86.4767\" rx=\"47.2526\" ry=\"37.4533\"/>\r\n",
       "<text text-anchor=\"middle\" x=\"47.3762\" y=\"-97.7767\" font-family=\"Times New Roman,serif\" font-size=\"14.00\">s0</text>\r\n",
       "<text text-anchor=\"middle\" x=\"47.3762\" y=\"-82.7767\" font-family=\"Times New Roman,serif\" font-size=\"14.00\">visited: 4</text>\r\n",
       "<text text-anchor=\"middle\" x=\"47.3762\" y=\"-67.7767\" font-family=\"Times New Roman,serif\" font-size=\"14.00\">related: 2</text>\r\n",
       "</g>\r\n",
       "<!-- s1&#45;&gt;s0 -->\r\n",
       "<g id=\"edge5\" class=\"edge\"><title>s1&#45;&gt;s0</title>\r\n",
       "<path fill=\"none\" stroke=\"black\" d=\"M187.958,-119.146C162.008,-113.072 129.942,-105.567 103.091,-99.2826\"/>\r\n",
       "<polygon fill=\"black\" stroke=\"black\" points=\"103.614,-95.8104 93.0792,-96.9394 102.018,-102.626 103.614,-95.8104\"/>\r\n",
       "<text text-anchor=\"middle\" x=\"140.252\" y=\"-147.277\" font-family=\"Times New Roman,serif\" font-size=\"14.00\">forward</text>\r\n",
       "<text text-anchor=\"middle\" x=\"140.252\" y=\"-132.277\" font-family=\"Times New Roman,serif\" font-size=\"14.00\">found: 69</text>\r\n",
       "<text text-anchor=\"middle\" x=\"140.252\" y=\"-117.277\" font-family=\"Times New Roman,serif\" font-size=\"14.00\">related: 1</text>\r\n",
       "</g>\r\n",
       "<!-- s3&#45;&gt;s0 -->\r\n",
       "<g id=\"edge6\" class=\"edge\"><title>s3&#45;&gt;s0</title>\r\n",
       "<path fill=\"none\" stroke=\"black\" d=\"M185.607,-40.0855C162.928,-42.2544 136.105,-46.222 112.752,-53.4767 106.99,-55.2668 101.122,-57.5475 95.3929,-60.0714\"/>\r\n",
       "<polygon fill=\"black\" stroke=\"black\" points=\"93.4957,-57.095 85.9233,-64.505 96.4639,-63.4345 93.4957,-57.095\"/>\r\n",
       "<text text-anchor=\"middle\" x=\"140.252\" y=\"-87.2767\" font-family=\"Times New Roman,serif\" font-size=\"14.00\">backward</text>\r\n",
       "<text text-anchor=\"middle\" x=\"140.252\" y=\"-72.2767\" font-family=\"Times New Roman,serif\" font-size=\"14.00\">found: 31</text>\r\n",
       "<text text-anchor=\"middle\" x=\"140.252\" y=\"-57.2767\" font-family=\"Times New Roman,serif\" font-size=\"14.00\">related: 1</text>\r\n",
       "</g>\r\n",
       "</g>\r\n",
       "</svg>\r\n"
      ],
      "text/plain": [
       "Step(name='start', new_references=4, new_related=2, total_visited=4, total_related=2, source='', target='s0')\n",
       "Step(name='backward', new_references=31, new_related=1, total_visited=35, total_related=3, source='s0', target='s3')\n",
       "Step(name='forward', new_references=69, new_related=1, total_visited=73, total_related=3, source='s0', target='s1')\n",
       "Step(name='backward', new_references=0, new_related=0, total_visited=35, total_related=3, source='s3', target='s4')\n",
       "Step(name='forward', new_references=0, new_related=0, total_visited=73, total_related=3, source='s1', target='s2')\n",
       "Step(name='union', new_references=0, new_related=0, total_visited=99, total_related=4, source='s2|s4', target='s5')"
      ],
      "text/vnd.graphviz": [
       "digraph G {\n",
       "  rankdir=\"RL\";\n",
       "\n",
       "  s5 [label=\"s5\\nvisited: 99\\nrelated: 4\"];\n",
       "  s5 -> s2 [label=\"union\\nfound: 0\\nrelated: 0\"];\n",
       "  s5 -> s4 [label=\"union\\nfound: 0\\nrelated: 0\"];\n",
       "\n",
       "  s2 [label=\"s2\\nvisited: 73\\nrelated: 3\"];\n",
       "  s2 -> s1 [label=\"forward\\nfound: 0\\nrelated: 0\"];\n",
       "\n",
       "  s4 [label=\"s4\\nvisited: 35\\nrelated: 3\"];\n",
       "  s4 -> s3 [label=\"backward\\nfound: 0\\nrelated: 0\"];\n",
       "\n",
       "  s1 [label=\"s1\\nvisited: 73\\nrelated: 3\"];\n",
       "  s1 -> s0 [label=\"forward\\nfound: 69\\nrelated: 1\"];\n",
       "\n",
       "  s3 [label=\"s3\\nvisited: 35\\nrelated: 3\"];\n",
       "  s3 -> s0 [label=\"backward\\nfound: 31\\nrelated: 1\"];\n",
       "\n",
       "  s0 [label=\"s0\\nvisited: 4\\nrelated: 2\"];\n",
       "\n",
       "}"
      ]
     },
     "metadata": {},
     "output_type": "display_data"
    }
   ],
   "source": [
    "reload()\n",
    "filter_function = lambda x: x.category in (\"snowball\", \"forward\", \"backward\")\n",
    "\n",
    "strategy = Strategy(*busca(\"scopus\", filter_function=filter_function))\n",
    "state = strategy.s2bbff2u()\n",
    "state"
   ]
  },
  {
   "cell_type": "code",
   "execution_count": 53,
   "metadata": {},
   "outputs": [
    {
     "name": "stdout",
     "output_type": "stream",
     "text": [
      "Precision E5\n",
      "0.04040404040404041\n",
      "Recall E5\n",
      "1.0\n"
     ]
    }
   ],
   "source": [
    "name = \"E5\"\n",
    "print (\"Precision \" + name)\n",
    "EP = len (state.related) / len (state.visited)\n",
    "print (EP)\n",
    "print (\"Recall \" + name)\n",
    "ER = len (state.related) / len (TOTAL)\n",
    "print (ER)\n",
    "\n",
    "array.append((name, EP, ER))"
   ]
  },
  {
   "cell_type": "code",
   "execution_count": 54,
   "metadata": {},
   "outputs": [
    {
     "data": {
      "text/plain": [
       "{Further comparison of cross-company and within-company effort estimation models for web applications,\n",
       " Web effort estimation: The value of cross-company data set compared to single-company data set}"
      ]
     },
     "execution_count": 54,
     "metadata": {},
     "output_type": "execute_result"
    }
   ],
   "source": [
    "state.find(\"s0\").related "
   ]
  },
  {
   "cell_type": "code",
   "execution_count": 55,
   "metadata": {},
   "outputs": [
    {
     "data": {
      "text/plain": [
       "{Further comparison of cross-company and within-company effort estimation models for web applications,\n",
       " Web effort estimation: The value of cross-company data set compared to single-company data set,\n",
       " Building software cost estimation models using homogenous data}"
      ]
     },
     "execution_count": 55,
     "metadata": {},
     "output_type": "execute_result"
    }
   ],
   "source": [
    "state.find(\"s1\").related "
   ]
  },
  {
   "cell_type": "code",
   "execution_count": 56,
   "metadata": {},
   "outputs": [
    {
     "data": {
      "text/plain": [
       "{Web effort estimation: The value of cross-company data set compared to single-company data set,\n",
       " Further comparison of cross-company and within-company effort estimation models for web applications,\n",
       " A comparison of cross-company and within-company effort estimation models for web applications,\n",
       " Building software cost estimation models using homogenous data}"
      ]
     },
     "execution_count": 56,
     "metadata": {},
     "output_type": "execute_result"
    }
   ],
   "source": [
    "state.find(\"s5\").related "
   ]
  },
  {
   "cell_type": "code",
   "execution_count": 57,
   "metadata": {},
   "outputs": [
    {
     "data": {
      "text/plain": [
       "{Further comparison of cross-company and within-company effort estimation models for web applications,\n",
       " Web effort estimation: The value of cross-company data set compared to single-company data set}"
      ]
     },
     "execution_count": 57,
     "metadata": {},
     "output_type": "execute_result"
    }
   ],
   "source": [
    "sx, sy = state.previous[0]\n",
    "\n",
    "sx.related & sy.related\n"
   ]
  },
  {
   "cell_type": "code",
   "execution_count": 58,
   "metadata": {},
   "outputs": [
    {
     "data": {
      "text/plain": [
       "'s2'"
      ]
     },
     "execution_count": 58,
     "metadata": {},
     "output_type": "execute_result"
    }
   ],
   "source": [
    "sx.name"
   ]
  },
  {
   "cell_type": "code",
   "execution_count": 59,
   "metadata": {},
   "outputs": [
    {
     "data": {
      "text/plain": [
       "'s4'"
      ]
     },
     "execution_count": 59,
     "metadata": {},
     "output_type": "execute_result"
    }
   ],
   "source": [
    "sy.name"
   ]
  },
  {
   "cell_type": "markdown",
   "metadata": {},
   "source": [
    "### Estratégia 6 - Busca em Scopus + Snowballing (JF - bbff)"
   ]
  },
  {
   "cell_type": "code",
   "execution_count": 60,
   "metadata": {},
   "outputs": [
    {
     "data": {
      "image/svg+xml": [
       "<?xml version=\"1.0\" encoding=\"UTF-8\" standalone=\"no\"?>\r\n",
       "<!DOCTYPE svg PUBLIC \"-//W3C//DTD SVG 1.1//EN\"\r\n",
       " \"http://www.w3.org/Graphics/SVG/1.1/DTD/svg11.dtd\">\r\n",
       "<!-- Generated by graphviz version 2.38.0 (20140413.2041)\r\n",
       " -->\r\n",
       "<!-- Title: G Pages: 1 -->\r\n",
       "<svg width=\"875pt\" height=\"90pt\"\r\n",
       " viewBox=\"0.00 0.00 874.70 90.48\" xmlns=\"http://www.w3.org/2000/svg\" xmlns:xlink=\"http://www.w3.org/1999/xlink\">\r\n",
       "<g id=\"graph0\" class=\"graph\" transform=\"scale(1 1) rotate(0) translate(4 86.4767)\">\r\n",
       "<title>G</title>\r\n",
       "<polygon fill=\"white\" stroke=\"none\" points=\"-4,4 -4,-86.4767 870.703,-86.4767 870.703,4 -4,4\"/>\r\n",
       "<!-- s4 -->\r\n",
       "<g id=\"node1\" class=\"node\"><title>s4</title>\r\n",
       "<ellipse fill=\"none\" stroke=\"black\" cx=\"815.084\" cy=\"-37.4767\" rx=\"51.7379\" ry=\"37.4533\"/>\r\n",
       "<text text-anchor=\"middle\" x=\"815.084\" y=\"-48.7767\" font-family=\"Times New Roman,serif\" font-size=\"14.00\">s4</text>\r\n",
       "<text text-anchor=\"middle\" x=\"815.084\" y=\"-33.7767\" font-family=\"Times New Roman,serif\" font-size=\"14.00\">visited: 99</text>\r\n",
       "<text text-anchor=\"middle\" x=\"815.084\" y=\"-18.7767\" font-family=\"Times New Roman,serif\" font-size=\"14.00\">related: 4</text>\r\n",
       "</g>\r\n",
       "<!-- s3 -->\r\n",
       "<g id=\"node2\" class=\"node\"><title>s3</title>\r\n",
       "<ellipse fill=\"none\" stroke=\"black\" cx=\"624.846\" cy=\"-37.4767\" rx=\"51.7379\" ry=\"37.4533\"/>\r\n",
       "<text text-anchor=\"middle\" x=\"624.846\" y=\"-48.7767\" font-family=\"Times New Roman,serif\" font-size=\"14.00\">s3</text>\r\n",
       "<text text-anchor=\"middle\" x=\"624.846\" y=\"-33.7767\" font-family=\"Times New Roman,serif\" font-size=\"14.00\">visited: 99</text>\r\n",
       "<text text-anchor=\"middle\" x=\"624.846\" y=\"-18.7767\" font-family=\"Times New Roman,serif\" font-size=\"14.00\">related: 4</text>\r\n",
       "</g>\r\n",
       "<!-- s4&#45;&gt;s3 -->\r\n",
       "<g id=\"edge1\" class=\"edge\"><title>s4&#45;&gt;s3</title>\r\n",
       "<path fill=\"none\" stroke=\"black\" d=\"M763.144,-37.4767C739.612,-37.4767 711.482,-37.4767 686.829,-37.4767\"/>\r\n",
       "<polygon fill=\"black\" stroke=\"black\" points=\"686.5,-33.9768 676.5,-37.4767 686.5,-40.9768 686.5,-33.9768\"/>\r\n",
       "<text text-anchor=\"middle\" x=\"719.965\" y=\"-71.2767\" font-family=\"Times New Roman,serif\" font-size=\"14.00\">forward</text>\r\n",
       "<text text-anchor=\"middle\" x=\"719.965\" y=\"-56.2767\" font-family=\"Times New Roman,serif\" font-size=\"14.00\">found: 0</text>\r\n",
       "<text text-anchor=\"middle\" x=\"719.965\" y=\"-41.2767\" font-family=\"Times New Roman,serif\" font-size=\"14.00\">related: 0</text>\r\n",
       "</g>\r\n",
       "<!-- s2 -->\r\n",
       "<g id=\"node3\" class=\"node\"><title>s2</title>\r\n",
       "<ellipse fill=\"none\" stroke=\"black\" cx=\"431.609\" cy=\"-37.4767\" rx=\"51.7379\" ry=\"37.4533\"/>\r\n",
       "<text text-anchor=\"middle\" x=\"431.609\" y=\"-48.7767\" font-family=\"Times New Roman,serif\" font-size=\"14.00\">s2</text>\r\n",
       "<text text-anchor=\"middle\" x=\"431.609\" y=\"-33.7767\" font-family=\"Times New Roman,serif\" font-size=\"14.00\">visited: 35</text>\r\n",
       "<text text-anchor=\"middle\" x=\"431.609\" y=\"-18.7767\" font-family=\"Times New Roman,serif\" font-size=\"14.00\">related: 3</text>\r\n",
       "</g>\r\n",
       "<!-- s3&#45;&gt;s2 -->\r\n",
       "<g id=\"edge2\" class=\"edge\"><title>s3&#45;&gt;s2</title>\r\n",
       "<path fill=\"none\" stroke=\"black\" d=\"M573.1,-37.4767C548.581,-37.4767 518.97,-37.4767 493.268,-37.4767\"/>\r\n",
       "<polygon fill=\"black\" stroke=\"black\" points=\"493.26,-33.9768 483.26,-37.4767 493.26,-40.9768 493.26,-33.9768\"/>\r\n",
       "<text text-anchor=\"middle\" x=\"528.227\" y=\"-71.2767\" font-family=\"Times New Roman,serif\" font-size=\"14.00\">forward</text>\r\n",
       "<text text-anchor=\"middle\" x=\"528.227\" y=\"-56.2767\" font-family=\"Times New Roman,serif\" font-size=\"14.00\">found: 64</text>\r\n",
       "<text text-anchor=\"middle\" x=\"528.227\" y=\"-41.2767\" font-family=\"Times New Roman,serif\" font-size=\"14.00\">related: 1</text>\r\n",
       "</g>\r\n",
       "<!-- s1 -->\r\n",
       "<g id=\"node4\" class=\"node\"><title>s1</title>\r\n",
       "<ellipse fill=\"none\" stroke=\"black\" cx=\"237.371\" cy=\"-37.4767\" rx=\"51.7379\" ry=\"37.4533\"/>\r\n",
       "<text text-anchor=\"middle\" x=\"237.371\" y=\"-48.7767\" font-family=\"Times New Roman,serif\" font-size=\"14.00\">s1</text>\r\n",
       "<text text-anchor=\"middle\" x=\"237.371\" y=\"-33.7767\" font-family=\"Times New Roman,serif\" font-size=\"14.00\">visited: 35</text>\r\n",
       "<text text-anchor=\"middle\" x=\"237.371\" y=\"-18.7767\" font-family=\"Times New Roman,serif\" font-size=\"14.00\">related: 3</text>\r\n",
       "</g>\r\n",
       "<!-- s2&#45;&gt;s1 -->\r\n",
       "<g id=\"edge3\" class=\"edge\"><title>s2&#45;&gt;s1</title>\r\n",
       "<path fill=\"none\" stroke=\"black\" d=\"M379.849,-37.4767C355.102,-37.4767 325.15,-37.4767 299.188,-37.4767\"/>\r\n",
       "<polygon fill=\"black\" stroke=\"black\" points=\"299.082,-33.9768 289.082,-37.4767 299.082,-40.9768 299.082,-33.9768\"/>\r\n",
       "<text text-anchor=\"middle\" x=\"334.49\" y=\"-71.2767\" font-family=\"Times New Roman,serif\" font-size=\"14.00\">backward</text>\r\n",
       "<text text-anchor=\"middle\" x=\"334.49\" y=\"-56.2767\" font-family=\"Times New Roman,serif\" font-size=\"14.00\">found: 0</text>\r\n",
       "<text text-anchor=\"middle\" x=\"334.49\" y=\"-41.2767\" font-family=\"Times New Roman,serif\" font-size=\"14.00\">related: 0</text>\r\n",
       "</g>\r\n",
       "<!-- s0 -->\r\n",
       "<g id=\"node5\" class=\"node\"><title>s0</title>\r\n",
       "<ellipse fill=\"none\" stroke=\"black\" cx=\"47.3762\" cy=\"-37.4767\" rx=\"47.2526\" ry=\"37.4533\"/>\r\n",
       "<text text-anchor=\"middle\" x=\"47.3762\" y=\"-48.7767\" font-family=\"Times New Roman,serif\" font-size=\"14.00\">s0</text>\r\n",
       "<text text-anchor=\"middle\" x=\"47.3762\" y=\"-33.7767\" font-family=\"Times New Roman,serif\" font-size=\"14.00\">visited: 4</text>\r\n",
       "<text text-anchor=\"middle\" x=\"47.3762\" y=\"-18.7767\" font-family=\"Times New Roman,serif\" font-size=\"14.00\">related: 2</text>\r\n",
       "</g>\r\n",
       "<!-- s1&#45;&gt;s0 -->\r\n",
       "<g id=\"edge4\" class=\"edge\"><title>s1&#45;&gt;s0</title>\r\n",
       "<path fill=\"none\" stroke=\"black\" d=\"M185.497,-37.4767C160.648,-37.4767 130.665,-37.4767 105.082,-37.4767\"/>\r\n",
       "<polygon fill=\"black\" stroke=\"black\" points=\"104.783,-33.9768 94.7827,-37.4767 104.783,-40.9768 104.783,-33.9768\"/>\r\n",
       "<text text-anchor=\"middle\" x=\"140.252\" y=\"-71.2767\" font-family=\"Times New Roman,serif\" font-size=\"14.00\">backward</text>\r\n",
       "<text text-anchor=\"middle\" x=\"140.252\" y=\"-56.2767\" font-family=\"Times New Roman,serif\" font-size=\"14.00\">found: 31</text>\r\n",
       "<text text-anchor=\"middle\" x=\"140.252\" y=\"-41.2767\" font-family=\"Times New Roman,serif\" font-size=\"14.00\">related: 1</text>\r\n",
       "</g>\r\n",
       "</g>\r\n",
       "</svg>\r\n"
      ],
      "text/plain": [
       "Step(name='start', new_references=4, new_related=2, total_visited=4, total_related=2, source='', target='s0')\n",
       "Step(name='backward', new_references=31, new_related=1, total_visited=35, total_related=3, source='s0', target='s1')\n",
       "Step(name='backward', new_references=0, new_related=0, total_visited=35, total_related=3, source='s1', target='s2')\n",
       "Step(name='forward', new_references=64, new_related=1, total_visited=99, total_related=4, source='s2', target='s3')\n",
       "Step(name='forward', new_references=0, new_related=0, total_visited=99, total_related=4, source='s3', target='s4')"
      ],
      "text/vnd.graphviz": [
       "digraph G {\n",
       "  rankdir=\"RL\";\n",
       "\n",
       "  s4 [label=\"s4\\nvisited: 99\\nrelated: 4\"];\n",
       "  s4 -> s3 [label=\"forward\\nfound: 0\\nrelated: 0\"];\n",
       "\n",
       "  s3 [label=\"s3\\nvisited: 99\\nrelated: 4\"];\n",
       "  s3 -> s2 [label=\"forward\\nfound: 64\\nrelated: 1\"];\n",
       "\n",
       "  s2 [label=\"s2\\nvisited: 35\\nrelated: 3\"];\n",
       "  s2 -> s1 [label=\"backward\\nfound: 0\\nrelated: 0\"];\n",
       "\n",
       "  s1 [label=\"s1\\nvisited: 35\\nrelated: 3\"];\n",
       "  s1 -> s0 [label=\"backward\\nfound: 31\\nrelated: 1\"];\n",
       "\n",
       "  s0 [label=\"s0\\nvisited: 4\\nrelated: 2\"];\n",
       "\n",
       "}"
      ]
     },
     "metadata": {},
     "output_type": "display_data"
    }
   ],
   "source": [
    "reload()\n",
    "filter_function = lambda x: x.category in (\"snowball\", \"forward\", \"backward\")\n",
    "\n",
    "strategy = Strategy(*busca(\"scopus\", filter_function=filter_function))\n",
    "state = strategy.bbff()\n",
    "state"
   ]
  },
  {
   "cell_type": "code",
   "execution_count": 61,
   "metadata": {},
   "outputs": [
    {
     "name": "stdout",
     "output_type": "stream",
     "text": [
      "Precision E6\n",
      "0.04040404040404041\n",
      "Recall E6\n",
      "1.0\n"
     ]
    }
   ],
   "source": [
    "name = \"E6\"\n",
    "print (\"Precision \" + name)\n",
    "EP = len (state.related) / len (state.visited)\n",
    "print (EP)\n",
    "print (\"Recall \" + name)\n",
    "ER = len (state.related) / len (TOTAL)\n",
    "print (ER)\n",
    "\n",
    "array.append((name, EP, ER))"
   ]
  },
  {
   "cell_type": "markdown",
   "metadata": {},
   "source": [
    "### Estratégia 7 - Busca em Scopus + Snowballing (JF - ffbb)"
   ]
  },
  {
   "cell_type": "code",
   "execution_count": 62,
   "metadata": {},
   "outputs": [
    {
     "data": {
      "image/svg+xml": [
       "<?xml version=\"1.0\" encoding=\"UTF-8\" standalone=\"no\"?>\r\n",
       "<!DOCTYPE svg PUBLIC \"-//W3C//DTD SVG 1.1//EN\"\r\n",
       " \"http://www.w3.org/Graphics/SVG/1.1/DTD/svg11.dtd\">\r\n",
       "<!-- Generated by graphviz version 2.38.0 (20140413.2041)\r\n",
       " -->\r\n",
       "<!-- Title: G Pages: 1 -->\r\n",
       "<svg width=\"875pt\" height=\"90pt\"\r\n",
       " viewBox=\"0.00 0.00 874.70 90.48\" xmlns=\"http://www.w3.org/2000/svg\" xmlns:xlink=\"http://www.w3.org/1999/xlink\">\r\n",
       "<g id=\"graph0\" class=\"graph\" transform=\"scale(1 1) rotate(0) translate(4 86.4767)\">\r\n",
       "<title>G</title>\r\n",
       "<polygon fill=\"white\" stroke=\"none\" points=\"-4,4 -4,-86.4767 870.703,-86.4767 870.703,4 -4,4\"/>\r\n",
       "<!-- s4 -->\r\n",
       "<g id=\"node1\" class=\"node\"><title>s4</title>\r\n",
       "<ellipse fill=\"none\" stroke=\"black\" cx=\"815.084\" cy=\"-37.4767\" rx=\"51.7379\" ry=\"37.4533\"/>\r\n",
       "<text text-anchor=\"middle\" x=\"815.084\" y=\"-48.7767\" font-family=\"Times New Roman,serif\" font-size=\"14.00\">s4</text>\r\n",
       "<text text-anchor=\"middle\" x=\"815.084\" y=\"-33.7767\" font-family=\"Times New Roman,serif\" font-size=\"14.00\">visited: 99</text>\r\n",
       "<text text-anchor=\"middle\" x=\"815.084\" y=\"-18.7767\" font-family=\"Times New Roman,serif\" font-size=\"14.00\">related: 4</text>\r\n",
       "</g>\r\n",
       "<!-- s3 -->\r\n",
       "<g id=\"node2\" class=\"node\"><title>s3</title>\r\n",
       "<ellipse fill=\"none\" stroke=\"black\" cx=\"620.846\" cy=\"-37.4767\" rx=\"51.7379\" ry=\"37.4533\"/>\r\n",
       "<text text-anchor=\"middle\" x=\"620.846\" y=\"-48.7767\" font-family=\"Times New Roman,serif\" font-size=\"14.00\">s3</text>\r\n",
       "<text text-anchor=\"middle\" x=\"620.846\" y=\"-33.7767\" font-family=\"Times New Roman,serif\" font-size=\"14.00\">visited: 99</text>\r\n",
       "<text text-anchor=\"middle\" x=\"620.846\" y=\"-18.7767\" font-family=\"Times New Roman,serif\" font-size=\"14.00\">related: 4</text>\r\n",
       "</g>\r\n",
       "<!-- s4&#45;&gt;s3 -->\r\n",
       "<g id=\"edge1\" class=\"edge\"><title>s4&#45;&gt;s3</title>\r\n",
       "<path fill=\"none\" stroke=\"black\" d=\"M763.324,-37.4767C738.577,-37.4767 708.625,-37.4767 682.663,-37.4767\"/>\r\n",
       "<polygon fill=\"black\" stroke=\"black\" points=\"682.557,-33.9768 672.557,-37.4767 682.557,-40.9768 682.557,-33.9768\"/>\r\n",
       "<text text-anchor=\"middle\" x=\"717.965\" y=\"-71.2767\" font-family=\"Times New Roman,serif\" font-size=\"14.00\">backward</text>\r\n",
       "<text text-anchor=\"middle\" x=\"717.965\" y=\"-56.2767\" font-family=\"Times New Roman,serif\" font-size=\"14.00\">found: 0</text>\r\n",
       "<text text-anchor=\"middle\" x=\"717.965\" y=\"-41.2767\" font-family=\"Times New Roman,serif\" font-size=\"14.00\">related: 0</text>\r\n",
       "</g>\r\n",
       "<!-- s2 -->\r\n",
       "<g id=\"node3\" class=\"node\"><title>s2</title>\r\n",
       "<ellipse fill=\"none\" stroke=\"black\" cx=\"426.609\" cy=\"-37.4767\" rx=\"51.7379\" ry=\"37.4533\"/>\r\n",
       "<text text-anchor=\"middle\" x=\"426.609\" y=\"-48.7767\" font-family=\"Times New Roman,serif\" font-size=\"14.00\">s2</text>\r\n",
       "<text text-anchor=\"middle\" x=\"426.609\" y=\"-33.7767\" font-family=\"Times New Roman,serif\" font-size=\"14.00\">visited: 73</text>\r\n",
       "<text text-anchor=\"middle\" x=\"426.609\" y=\"-18.7767\" font-family=\"Times New Roman,serif\" font-size=\"14.00\">related: 3</text>\r\n",
       "</g>\r\n",
       "<!-- s3&#45;&gt;s2 -->\r\n",
       "<g id=\"edge2\" class=\"edge\"><title>s3&#45;&gt;s2</title>\r\n",
       "<path fill=\"none\" stroke=\"black\" d=\"M569.087,-37.4767C544.339,-37.4767 514.387,-37.4767 488.425,-37.4767\"/>\r\n",
       "<polygon fill=\"black\" stroke=\"black\" points=\"488.319,-33.9768 478.319,-37.4767 488.319,-40.9768 488.319,-33.9768\"/>\r\n",
       "<text text-anchor=\"middle\" x=\"523.727\" y=\"-71.2767\" font-family=\"Times New Roman,serif\" font-size=\"14.00\">backward</text>\r\n",
       "<text text-anchor=\"middle\" x=\"523.727\" y=\"-56.2767\" font-family=\"Times New Roman,serif\" font-size=\"14.00\">found: 26</text>\r\n",
       "<text text-anchor=\"middle\" x=\"523.727\" y=\"-41.2767\" font-family=\"Times New Roman,serif\" font-size=\"14.00\">related: 1</text>\r\n",
       "</g>\r\n",
       "<!-- s1 -->\r\n",
       "<g id=\"node4\" class=\"node\"><title>s1</title>\r\n",
       "<ellipse fill=\"none\" stroke=\"black\" cx=\"236.371\" cy=\"-37.4767\" rx=\"51.7379\" ry=\"37.4533\"/>\r\n",
       "<text text-anchor=\"middle\" x=\"236.371\" y=\"-48.7767\" font-family=\"Times New Roman,serif\" font-size=\"14.00\">s1</text>\r\n",
       "<text text-anchor=\"middle\" x=\"236.371\" y=\"-33.7767\" font-family=\"Times New Roman,serif\" font-size=\"14.00\">visited: 73</text>\r\n",
       "<text text-anchor=\"middle\" x=\"236.371\" y=\"-18.7767\" font-family=\"Times New Roman,serif\" font-size=\"14.00\">related: 3</text>\r\n",
       "</g>\r\n",
       "<!-- s2&#45;&gt;s1 -->\r\n",
       "<g id=\"edge3\" class=\"edge\"><title>s2&#45;&gt;s1</title>\r\n",
       "<path fill=\"none\" stroke=\"black\" d=\"M374.669,-37.4767C351.137,-37.4767 323.007,-37.4767 298.354,-37.4767\"/>\r\n",
       "<polygon fill=\"black\" stroke=\"black\" points=\"298.025,-33.9768 288.025,-37.4767 298.025,-40.9768 298.025,-33.9768\"/>\r\n",
       "<text text-anchor=\"middle\" x=\"331.49\" y=\"-71.2767\" font-family=\"Times New Roman,serif\" font-size=\"14.00\">forward</text>\r\n",
       "<text text-anchor=\"middle\" x=\"331.49\" y=\"-56.2767\" font-family=\"Times New Roman,serif\" font-size=\"14.00\">found: 0</text>\r\n",
       "<text text-anchor=\"middle\" x=\"331.49\" y=\"-41.2767\" font-family=\"Times New Roman,serif\" font-size=\"14.00\">related: 0</text>\r\n",
       "</g>\r\n",
       "<!-- s0 -->\r\n",
       "<g id=\"node5\" class=\"node\"><title>s0</title>\r\n",
       "<ellipse fill=\"none\" stroke=\"black\" cx=\"47.3762\" cy=\"-37.4767\" rx=\"47.2526\" ry=\"37.4533\"/>\r\n",
       "<text text-anchor=\"middle\" x=\"47.3762\" y=\"-48.7767\" font-family=\"Times New Roman,serif\" font-size=\"14.00\">s0</text>\r\n",
       "<text text-anchor=\"middle\" x=\"47.3762\" y=\"-33.7767\" font-family=\"Times New Roman,serif\" font-size=\"14.00\">visited: 4</text>\r\n",
       "<text text-anchor=\"middle\" x=\"47.3762\" y=\"-18.7767\" font-family=\"Times New Roman,serif\" font-size=\"14.00\">related: 2</text>\r\n",
       "</g>\r\n",
       "<!-- s1&#45;&gt;s0 -->\r\n",
       "<g id=\"edge4\" class=\"edge\"><title>s1&#45;&gt;s0</title>\r\n",
       "<path fill=\"none\" stroke=\"black\" d=\"M184.274,-37.4767C159.753,-37.4767 130.296,-37.4767 105.085,-37.4767\"/>\r\n",
       "<polygon fill=\"black\" stroke=\"black\" points=\"104.93,-33.9768 94.9301,-37.4767 104.93,-40.9768 104.93,-33.9768\"/>\r\n",
       "<text text-anchor=\"middle\" x=\"139.752\" y=\"-71.2767\" font-family=\"Times New Roman,serif\" font-size=\"14.00\">forward</text>\r\n",
       "<text text-anchor=\"middle\" x=\"139.752\" y=\"-56.2767\" font-family=\"Times New Roman,serif\" font-size=\"14.00\">found: 69</text>\r\n",
       "<text text-anchor=\"middle\" x=\"139.752\" y=\"-41.2767\" font-family=\"Times New Roman,serif\" font-size=\"14.00\">related: 1</text>\r\n",
       "</g>\r\n",
       "</g>\r\n",
       "</svg>\r\n"
      ],
      "text/plain": [
       "Step(name='start', new_references=4, new_related=2, total_visited=4, total_related=2, source='', target='s0')\n",
       "Step(name='forward', new_references=69, new_related=1, total_visited=73, total_related=3, source='s0', target='s1')\n",
       "Step(name='forward', new_references=0, new_related=0, total_visited=73, total_related=3, source='s1', target='s2')\n",
       "Step(name='backward', new_references=26, new_related=1, total_visited=99, total_related=4, source='s2', target='s3')\n",
       "Step(name='backward', new_references=0, new_related=0, total_visited=99, total_related=4, source='s3', target='s4')"
      ],
      "text/vnd.graphviz": [
       "digraph G {\n",
       "  rankdir=\"RL\";\n",
       "\n",
       "  s4 [label=\"s4\\nvisited: 99\\nrelated: 4\"];\n",
       "  s4 -> s3 [label=\"backward\\nfound: 0\\nrelated: 0\"];\n",
       "\n",
       "  s3 [label=\"s3\\nvisited: 99\\nrelated: 4\"];\n",
       "  s3 -> s2 [label=\"backward\\nfound: 26\\nrelated: 1\"];\n",
       "\n",
       "  s2 [label=\"s2\\nvisited: 73\\nrelated: 3\"];\n",
       "  s2 -> s1 [label=\"forward\\nfound: 0\\nrelated: 0\"];\n",
       "\n",
       "  s1 [label=\"s1\\nvisited: 73\\nrelated: 3\"];\n",
       "  s1 -> s0 [label=\"forward\\nfound: 69\\nrelated: 1\"];\n",
       "\n",
       "  s0 [label=\"s0\\nvisited: 4\\nrelated: 2\"];\n",
       "\n",
       "}"
      ]
     },
     "metadata": {},
     "output_type": "display_data"
    }
   ],
   "source": [
    "reload()\n",
    "filter_function = lambda x: x.category in (\"snowball\", \"forward\", \"backward\")\n",
    "\n",
    "strategy = Strategy(*busca(\"scopus\", filter_function=filter_function))\n",
    "state = strategy.ffbb()\n",
    "state"
   ]
  },
  {
   "cell_type": "code",
   "execution_count": 63,
   "metadata": {},
   "outputs": [
    {
     "name": "stdout",
     "output_type": "stream",
     "text": [
      "Precision E7\n",
      "0.04040404040404041\n",
      "Recall E7\n",
      "1.0\n"
     ]
    }
   ],
   "source": [
    "name = \"E7\"\n",
    "print (\"Precision \" + name)\n",
    "EP = len (state.related) / len (state.visited)\n",
    "print (EP)\n",
    "print (\"Recall \" + name)\n",
    "ER = len (state.related) / len (TOTAL)\n",
    "print (ER)\n",
    "\n",
    "array.append((name, EP, ER))"
   ]
  },
  {
   "cell_type": "markdown",
   "metadata": {},
   "source": [
    "### Análise das Estratégias"
   ]
  },
  {
   "cell_type": "code",
   "execution_count": 64,
   "metadata": {
    "collapsed": true
   },
   "outputs": [],
   "source": [
    "%matplotlib notebook\n",
    "import pandas as pd"
   ]
  },
  {
   "cell_type": "code",
   "execution_count": 65,
   "metadata": {},
   "outputs": [
    {
     "data": {
      "text/html": [
       "<div>\n",
       "<table border=\"1\" class=\"dataframe\">\n",
       "  <thead>\n",
       "    <tr style=\"text-align: right;\">\n",
       "      <th></th>\n",
       "      <th>Estratégia</th>\n",
       "      <th>Precision</th>\n",
       "      <th>Recall</th>\n",
       "    </tr>\n",
       "    <tr>\n",
       "      <th>Estratégia</th>\n",
       "      <th></th>\n",
       "      <th></th>\n",
       "      <th></th>\n",
       "    </tr>\n",
       "  </thead>\n",
       "  <tbody>\n",
       "    <tr>\n",
       "      <th>E1</th>\n",
       "      <td>E1</td>\n",
       "      <td>0.500000</td>\n",
       "      <td>0.5</td>\n",
       "    </tr>\n",
       "    <tr>\n",
       "      <th>E2</th>\n",
       "      <td>E2</td>\n",
       "      <td>0.040404</td>\n",
       "      <td>1.0</td>\n",
       "    </tr>\n",
       "    <tr>\n",
       "      <th>E4</th>\n",
       "      <td>E4</td>\n",
       "      <td>0.040404</td>\n",
       "      <td>1.0</td>\n",
       "    </tr>\n",
       "    <tr>\n",
       "      <th>E5</th>\n",
       "      <td>E5</td>\n",
       "      <td>0.040404</td>\n",
       "      <td>1.0</td>\n",
       "    </tr>\n",
       "    <tr>\n",
       "      <th>E6</th>\n",
       "      <td>E6</td>\n",
       "      <td>0.040404</td>\n",
       "      <td>1.0</td>\n",
       "    </tr>\n",
       "    <tr>\n",
       "      <th>E7</th>\n",
       "      <td>E7</td>\n",
       "      <td>0.040404</td>\n",
       "      <td>1.0</td>\n",
       "    </tr>\n",
       "  </tbody>\n",
       "</table>\n",
       "</div>"
      ],
      "text/plain": [
       "           Estratégia  Precision  Recall\n",
       "Estratégia                              \n",
       "E1                 E1   0.500000     0.5\n",
       "E2                 E2   0.040404     1.0\n",
       "E4                 E4   0.040404     1.0\n",
       "E5                 E5   0.040404     1.0\n",
       "E6                 E6   0.040404     1.0\n",
       "E7                 E7   0.040404     1.0"
      ]
     },
     "execution_count": 65,
     "metadata": {},
     "output_type": "execute_result"
    }
   ],
   "source": [
    "df = pd.DataFrame (array,columns = ['Estratégia','Precision','Recall'])\n",
    "df.index = df['Estratégia']\n",
    "df"
   ]
  },
  {
   "cell_type": "code",
   "execution_count": null,
   "metadata": {
    "collapsed": true
   },
   "outputs": [],
   "source": []
  },
  {
   "cell_type": "code",
   "execution_count": 66,
   "metadata": {
    "scrolled": false
   },
   "outputs": [
    {
     "data": {
      "application/javascript": [
       "/* Put everything inside the global mpl namespace */\n",
       "window.mpl = {};\n",
       "\n",
       "\n",
       "mpl.get_websocket_type = function() {\n",
       "    if (typeof(WebSocket) !== 'undefined') {\n",
       "        return WebSocket;\n",
       "    } else if (typeof(MozWebSocket) !== 'undefined') {\n",
       "        return MozWebSocket;\n",
       "    } else {\n",
       "        alert('Your browser does not have WebSocket support.' +\n",
       "              'Please try Chrome, Safari or Firefox ≥ 6. ' +\n",
       "              'Firefox 4 and 5 are also supported but you ' +\n",
       "              'have to enable WebSockets in about:config.');\n",
       "    };\n",
       "}\n",
       "\n",
       "mpl.figure = function(figure_id, websocket, ondownload, parent_element) {\n",
       "    this.id = figure_id;\n",
       "\n",
       "    this.ws = websocket;\n",
       "\n",
       "    this.supports_binary = (this.ws.binaryType != undefined);\n",
       "\n",
       "    if (!this.supports_binary) {\n",
       "        var warnings = document.getElementById(\"mpl-warnings\");\n",
       "        if (warnings) {\n",
       "            warnings.style.display = 'block';\n",
       "            warnings.textContent = (\n",
       "                \"This browser does not support binary websocket messages. \" +\n",
       "                    \"Performance may be slow.\");\n",
       "        }\n",
       "    }\n",
       "\n",
       "    this.imageObj = new Image();\n",
       "\n",
       "    this.context = undefined;\n",
       "    this.message = undefined;\n",
       "    this.canvas = undefined;\n",
       "    this.rubberband_canvas = undefined;\n",
       "    this.rubberband_context = undefined;\n",
       "    this.format_dropdown = undefined;\n",
       "\n",
       "    this.image_mode = 'full';\n",
       "\n",
       "    this.root = $('<div/>');\n",
       "    this._root_extra_style(this.root)\n",
       "    this.root.attr('style', 'display: inline-block');\n",
       "\n",
       "    $(parent_element).append(this.root);\n",
       "\n",
       "    this._init_header(this);\n",
       "    this._init_canvas(this);\n",
       "    this._init_toolbar(this);\n",
       "\n",
       "    var fig = this;\n",
       "\n",
       "    this.waiting = false;\n",
       "\n",
       "    this.ws.onopen =  function () {\n",
       "            fig.send_message(\"supports_binary\", {value: fig.supports_binary});\n",
       "            fig.send_message(\"send_image_mode\", {});\n",
       "            if (mpl.ratio != 1) {\n",
       "                fig.send_message(\"set_dpi_ratio\", {'dpi_ratio': mpl.ratio});\n",
       "            }\n",
       "            fig.send_message(\"refresh\", {});\n",
       "        }\n",
       "\n",
       "    this.imageObj.onload = function() {\n",
       "            if (fig.image_mode == 'full') {\n",
       "                // Full images could contain transparency (where diff images\n",
       "                // almost always do), so we need to clear the canvas so that\n",
       "                // there is no ghosting.\n",
       "                fig.context.clearRect(0, 0, fig.canvas.width, fig.canvas.height);\n",
       "            }\n",
       "            fig.context.drawImage(fig.imageObj, 0, 0);\n",
       "        };\n",
       "\n",
       "    this.imageObj.onunload = function() {\n",
       "        this.ws.close();\n",
       "    }\n",
       "\n",
       "    this.ws.onmessage = this._make_on_message_function(this);\n",
       "\n",
       "    this.ondownload = ondownload;\n",
       "}\n",
       "\n",
       "mpl.figure.prototype._init_header = function() {\n",
       "    var titlebar = $(\n",
       "        '<div class=\"ui-dialog-titlebar ui-widget-header ui-corner-all ' +\n",
       "        'ui-helper-clearfix\"/>');\n",
       "    var titletext = $(\n",
       "        '<div class=\"ui-dialog-title\" style=\"width: 100%; ' +\n",
       "        'text-align: center; padding: 3px;\"/>');\n",
       "    titlebar.append(titletext)\n",
       "    this.root.append(titlebar);\n",
       "    this.header = titletext[0];\n",
       "}\n",
       "\n",
       "\n",
       "\n",
       "mpl.figure.prototype._canvas_extra_style = function(canvas_div) {\n",
       "\n",
       "}\n",
       "\n",
       "\n",
       "mpl.figure.prototype._root_extra_style = function(canvas_div) {\n",
       "\n",
       "}\n",
       "\n",
       "mpl.figure.prototype._init_canvas = function() {\n",
       "    var fig = this;\n",
       "\n",
       "    var canvas_div = $('<div/>');\n",
       "\n",
       "    canvas_div.attr('style', 'position: relative; clear: both; outline: 0');\n",
       "\n",
       "    function canvas_keyboard_event(event) {\n",
       "        return fig.key_event(event, event['data']);\n",
       "    }\n",
       "\n",
       "    canvas_div.keydown('key_press', canvas_keyboard_event);\n",
       "    canvas_div.keyup('key_release', canvas_keyboard_event);\n",
       "    this.canvas_div = canvas_div\n",
       "    this._canvas_extra_style(canvas_div)\n",
       "    this.root.append(canvas_div);\n",
       "\n",
       "    var canvas = $('<canvas/>');\n",
       "    canvas.addClass('mpl-canvas');\n",
       "    canvas.attr('style', \"left: 0; top: 0; z-index: 0; outline: 0\")\n",
       "\n",
       "    this.canvas = canvas[0];\n",
       "    this.context = canvas[0].getContext(\"2d\");\n",
       "\n",
       "    var backingStore = this.context.backingStorePixelRatio ||\n",
       "\tthis.context.webkitBackingStorePixelRatio ||\n",
       "\tthis.context.mozBackingStorePixelRatio ||\n",
       "\tthis.context.msBackingStorePixelRatio ||\n",
       "\tthis.context.oBackingStorePixelRatio ||\n",
       "\tthis.context.backingStorePixelRatio || 1;\n",
       "\n",
       "    mpl.ratio = (window.devicePixelRatio || 1) / backingStore;\n",
       "\n",
       "    var rubberband = $('<canvas/>');\n",
       "    rubberband.attr('style', \"position: absolute; left: 0; top: 0; z-index: 1;\")\n",
       "\n",
       "    var pass_mouse_events = true;\n",
       "\n",
       "    canvas_div.resizable({\n",
       "        start: function(event, ui) {\n",
       "            pass_mouse_events = false;\n",
       "        },\n",
       "        resize: function(event, ui) {\n",
       "            fig.request_resize(ui.size.width, ui.size.height);\n",
       "        },\n",
       "        stop: function(event, ui) {\n",
       "            pass_mouse_events = true;\n",
       "            fig.request_resize(ui.size.width, ui.size.height);\n",
       "        },\n",
       "    });\n",
       "\n",
       "    function mouse_event_fn(event) {\n",
       "        if (pass_mouse_events)\n",
       "            return fig.mouse_event(event, event['data']);\n",
       "    }\n",
       "\n",
       "    rubberband.mousedown('button_press', mouse_event_fn);\n",
       "    rubberband.mouseup('button_release', mouse_event_fn);\n",
       "    // Throttle sequential mouse events to 1 every 20ms.\n",
       "    rubberband.mousemove('motion_notify', mouse_event_fn);\n",
       "\n",
       "    rubberband.mouseenter('figure_enter', mouse_event_fn);\n",
       "    rubberband.mouseleave('figure_leave', mouse_event_fn);\n",
       "\n",
       "    canvas_div.on(\"wheel\", function (event) {\n",
       "        event = event.originalEvent;\n",
       "        event['data'] = 'scroll'\n",
       "        if (event.deltaY < 0) {\n",
       "            event.step = 1;\n",
       "        } else {\n",
       "            event.step = -1;\n",
       "        }\n",
       "        mouse_event_fn(event);\n",
       "    });\n",
       "\n",
       "    canvas_div.append(canvas);\n",
       "    canvas_div.append(rubberband);\n",
       "\n",
       "    this.rubberband = rubberband;\n",
       "    this.rubberband_canvas = rubberband[0];\n",
       "    this.rubberband_context = rubberband[0].getContext(\"2d\");\n",
       "    this.rubberband_context.strokeStyle = \"#000000\";\n",
       "\n",
       "    this._resize_canvas = function(width, height) {\n",
       "        // Keep the size of the canvas, canvas container, and rubber band\n",
       "        // canvas in synch.\n",
       "        canvas_div.css('width', width)\n",
       "        canvas_div.css('height', height)\n",
       "\n",
       "        canvas.attr('width', width * mpl.ratio);\n",
       "        canvas.attr('height', height * mpl.ratio);\n",
       "        canvas.attr('style', 'width: ' + width + 'px; height: ' + height + 'px;');\n",
       "\n",
       "        rubberband.attr('width', width);\n",
       "        rubberband.attr('height', height);\n",
       "    }\n",
       "\n",
       "    // Set the figure to an initial 600x600px, this will subsequently be updated\n",
       "    // upon first draw.\n",
       "    this._resize_canvas(600, 600);\n",
       "\n",
       "    // Disable right mouse context menu.\n",
       "    $(this.rubberband_canvas).bind(\"contextmenu\",function(e){\n",
       "        return false;\n",
       "    });\n",
       "\n",
       "    function set_focus () {\n",
       "        canvas.focus();\n",
       "        canvas_div.focus();\n",
       "    }\n",
       "\n",
       "    window.setTimeout(set_focus, 100);\n",
       "}\n",
       "\n",
       "mpl.figure.prototype._init_toolbar = function() {\n",
       "    var fig = this;\n",
       "\n",
       "    var nav_element = $('<div/>')\n",
       "    nav_element.attr('style', 'width: 100%');\n",
       "    this.root.append(nav_element);\n",
       "\n",
       "    // Define a callback function for later on.\n",
       "    function toolbar_event(event) {\n",
       "        return fig.toolbar_button_onclick(event['data']);\n",
       "    }\n",
       "    function toolbar_mouse_event(event) {\n",
       "        return fig.toolbar_button_onmouseover(event['data']);\n",
       "    }\n",
       "\n",
       "    for(var toolbar_ind in mpl.toolbar_items) {\n",
       "        var name = mpl.toolbar_items[toolbar_ind][0];\n",
       "        var tooltip = mpl.toolbar_items[toolbar_ind][1];\n",
       "        var image = mpl.toolbar_items[toolbar_ind][2];\n",
       "        var method_name = mpl.toolbar_items[toolbar_ind][3];\n",
       "\n",
       "        if (!name) {\n",
       "            // put a spacer in here.\n",
       "            continue;\n",
       "        }\n",
       "        var button = $('<button/>');\n",
       "        button.addClass('ui-button ui-widget ui-state-default ui-corner-all ' +\n",
       "                        'ui-button-icon-only');\n",
       "        button.attr('role', 'button');\n",
       "        button.attr('aria-disabled', 'false');\n",
       "        button.click(method_name, toolbar_event);\n",
       "        button.mouseover(tooltip, toolbar_mouse_event);\n",
       "\n",
       "        var icon_img = $('<span/>');\n",
       "        icon_img.addClass('ui-button-icon-primary ui-icon');\n",
       "        icon_img.addClass(image);\n",
       "        icon_img.addClass('ui-corner-all');\n",
       "\n",
       "        var tooltip_span = $('<span/>');\n",
       "        tooltip_span.addClass('ui-button-text');\n",
       "        tooltip_span.html(tooltip);\n",
       "\n",
       "        button.append(icon_img);\n",
       "        button.append(tooltip_span);\n",
       "\n",
       "        nav_element.append(button);\n",
       "    }\n",
       "\n",
       "    var fmt_picker_span = $('<span/>');\n",
       "\n",
       "    var fmt_picker = $('<select/>');\n",
       "    fmt_picker.addClass('mpl-toolbar-option ui-widget ui-widget-content');\n",
       "    fmt_picker_span.append(fmt_picker);\n",
       "    nav_element.append(fmt_picker_span);\n",
       "    this.format_dropdown = fmt_picker[0];\n",
       "\n",
       "    for (var ind in mpl.extensions) {\n",
       "        var fmt = mpl.extensions[ind];\n",
       "        var option = $(\n",
       "            '<option/>', {selected: fmt === mpl.default_extension}).html(fmt);\n",
       "        fmt_picker.append(option)\n",
       "    }\n",
       "\n",
       "    // Add hover states to the ui-buttons\n",
       "    $( \".ui-button\" ).hover(\n",
       "        function() { $(this).addClass(\"ui-state-hover\");},\n",
       "        function() { $(this).removeClass(\"ui-state-hover\");}\n",
       "    );\n",
       "\n",
       "    var status_bar = $('<span class=\"mpl-message\"/>');\n",
       "    nav_element.append(status_bar);\n",
       "    this.message = status_bar[0];\n",
       "}\n",
       "\n",
       "mpl.figure.prototype.request_resize = function(x_pixels, y_pixels) {\n",
       "    // Request matplotlib to resize the figure. Matplotlib will then trigger a resize in the client,\n",
       "    // which will in turn request a refresh of the image.\n",
       "    this.send_message('resize', {'width': x_pixels, 'height': y_pixels});\n",
       "}\n",
       "\n",
       "mpl.figure.prototype.send_message = function(type, properties) {\n",
       "    properties['type'] = type;\n",
       "    properties['figure_id'] = this.id;\n",
       "    this.ws.send(JSON.stringify(properties));\n",
       "}\n",
       "\n",
       "mpl.figure.prototype.send_draw_message = function() {\n",
       "    if (!this.waiting) {\n",
       "        this.waiting = true;\n",
       "        this.ws.send(JSON.stringify({type: \"draw\", figure_id: this.id}));\n",
       "    }\n",
       "}\n",
       "\n",
       "\n",
       "mpl.figure.prototype.handle_save = function(fig, msg) {\n",
       "    var format_dropdown = fig.format_dropdown;\n",
       "    var format = format_dropdown.options[format_dropdown.selectedIndex].value;\n",
       "    fig.ondownload(fig, format);\n",
       "}\n",
       "\n",
       "\n",
       "mpl.figure.prototype.handle_resize = function(fig, msg) {\n",
       "    var size = msg['size'];\n",
       "    if (size[0] != fig.canvas.width || size[1] != fig.canvas.height) {\n",
       "        fig._resize_canvas(size[0], size[1]);\n",
       "        fig.send_message(\"refresh\", {});\n",
       "    };\n",
       "}\n",
       "\n",
       "mpl.figure.prototype.handle_rubberband = function(fig, msg) {\n",
       "    var x0 = msg['x0'] / mpl.ratio;\n",
       "    var y0 = (fig.canvas.height - msg['y0']) / mpl.ratio;\n",
       "    var x1 = msg['x1'] / mpl.ratio;\n",
       "    var y1 = (fig.canvas.height - msg['y1']) / mpl.ratio;\n",
       "    x0 = Math.floor(x0) + 0.5;\n",
       "    y0 = Math.floor(y0) + 0.5;\n",
       "    x1 = Math.floor(x1) + 0.5;\n",
       "    y1 = Math.floor(y1) + 0.5;\n",
       "    var min_x = Math.min(x0, x1);\n",
       "    var min_y = Math.min(y0, y1);\n",
       "    var width = Math.abs(x1 - x0);\n",
       "    var height = Math.abs(y1 - y0);\n",
       "\n",
       "    fig.rubberband_context.clearRect(\n",
       "        0, 0, fig.canvas.width, fig.canvas.height);\n",
       "\n",
       "    fig.rubberband_context.strokeRect(min_x, min_y, width, height);\n",
       "}\n",
       "\n",
       "mpl.figure.prototype.handle_figure_label = function(fig, msg) {\n",
       "    // Updates the figure title.\n",
       "    fig.header.textContent = msg['label'];\n",
       "}\n",
       "\n",
       "mpl.figure.prototype.handle_cursor = function(fig, msg) {\n",
       "    var cursor = msg['cursor'];\n",
       "    switch(cursor)\n",
       "    {\n",
       "    case 0:\n",
       "        cursor = 'pointer';\n",
       "        break;\n",
       "    case 1:\n",
       "        cursor = 'default';\n",
       "        break;\n",
       "    case 2:\n",
       "        cursor = 'crosshair';\n",
       "        break;\n",
       "    case 3:\n",
       "        cursor = 'move';\n",
       "        break;\n",
       "    }\n",
       "    fig.rubberband_canvas.style.cursor = cursor;\n",
       "}\n",
       "\n",
       "mpl.figure.prototype.handle_message = function(fig, msg) {\n",
       "    fig.message.textContent = msg['message'];\n",
       "}\n",
       "\n",
       "mpl.figure.prototype.handle_draw = function(fig, msg) {\n",
       "    // Request the server to send over a new figure.\n",
       "    fig.send_draw_message();\n",
       "}\n",
       "\n",
       "mpl.figure.prototype.handle_image_mode = function(fig, msg) {\n",
       "    fig.image_mode = msg['mode'];\n",
       "}\n",
       "\n",
       "mpl.figure.prototype.updated_canvas_event = function() {\n",
       "    // Called whenever the canvas gets updated.\n",
       "    this.send_message(\"ack\", {});\n",
       "}\n",
       "\n",
       "// A function to construct a web socket function for onmessage handling.\n",
       "// Called in the figure constructor.\n",
       "mpl.figure.prototype._make_on_message_function = function(fig) {\n",
       "    return function socket_on_message(evt) {\n",
       "        if (evt.data instanceof Blob) {\n",
       "            /* FIXME: We get \"Resource interpreted as Image but\n",
       "             * transferred with MIME type text/plain:\" errors on\n",
       "             * Chrome.  But how to set the MIME type?  It doesn't seem\n",
       "             * to be part of the websocket stream */\n",
       "            evt.data.type = \"image/png\";\n",
       "\n",
       "            /* Free the memory for the previous frames */\n",
       "            if (fig.imageObj.src) {\n",
       "                (window.URL || window.webkitURL).revokeObjectURL(\n",
       "                    fig.imageObj.src);\n",
       "            }\n",
       "\n",
       "            fig.imageObj.src = (window.URL || window.webkitURL).createObjectURL(\n",
       "                evt.data);\n",
       "            fig.updated_canvas_event();\n",
       "            fig.waiting = false;\n",
       "            return;\n",
       "        }\n",
       "        else if (typeof evt.data === 'string' && evt.data.slice(0, 21) == \"data:image/png;base64\") {\n",
       "            fig.imageObj.src = evt.data;\n",
       "            fig.updated_canvas_event();\n",
       "            fig.waiting = false;\n",
       "            return;\n",
       "        }\n",
       "\n",
       "        var msg = JSON.parse(evt.data);\n",
       "        var msg_type = msg['type'];\n",
       "\n",
       "        // Call the  \"handle_{type}\" callback, which takes\n",
       "        // the figure and JSON message as its only arguments.\n",
       "        try {\n",
       "            var callback = fig[\"handle_\" + msg_type];\n",
       "        } catch (e) {\n",
       "            console.log(\"No handler for the '\" + msg_type + \"' message type: \", msg);\n",
       "            return;\n",
       "        }\n",
       "\n",
       "        if (callback) {\n",
       "            try {\n",
       "                // console.log(\"Handling '\" + msg_type + \"' message: \", msg);\n",
       "                callback(fig, msg);\n",
       "            } catch (e) {\n",
       "                console.log(\"Exception inside the 'handler_\" + msg_type + \"' callback:\", e, e.stack, msg);\n",
       "            }\n",
       "        }\n",
       "    };\n",
       "}\n",
       "\n",
       "// from http://stackoverflow.com/questions/1114465/getting-mouse-location-in-canvas\n",
       "mpl.findpos = function(e) {\n",
       "    //this section is from http://www.quirksmode.org/js/events_properties.html\n",
       "    var targ;\n",
       "    if (!e)\n",
       "        e = window.event;\n",
       "    if (e.target)\n",
       "        targ = e.target;\n",
       "    else if (e.srcElement)\n",
       "        targ = e.srcElement;\n",
       "    if (targ.nodeType == 3) // defeat Safari bug\n",
       "        targ = targ.parentNode;\n",
       "\n",
       "    // jQuery normalizes the pageX and pageY\n",
       "    // pageX,Y are the mouse positions relative to the document\n",
       "    // offset() returns the position of the element relative to the document\n",
       "    var x = e.pageX - $(targ).offset().left;\n",
       "    var y = e.pageY - $(targ).offset().top;\n",
       "\n",
       "    return {\"x\": x, \"y\": y};\n",
       "};\n",
       "\n",
       "/*\n",
       " * return a copy of an object with only non-object keys\n",
       " * we need this to avoid circular references\n",
       " * http://stackoverflow.com/a/24161582/3208463\n",
       " */\n",
       "function simpleKeys (original) {\n",
       "  return Object.keys(original).reduce(function (obj, key) {\n",
       "    if (typeof original[key] !== 'object')\n",
       "        obj[key] = original[key]\n",
       "    return obj;\n",
       "  }, {});\n",
       "}\n",
       "\n",
       "mpl.figure.prototype.mouse_event = function(event, name) {\n",
       "    var canvas_pos = mpl.findpos(event)\n",
       "\n",
       "    if (name === 'button_press')\n",
       "    {\n",
       "        this.canvas.focus();\n",
       "        this.canvas_div.focus();\n",
       "    }\n",
       "\n",
       "    var x = canvas_pos.x * mpl.ratio;\n",
       "    var y = canvas_pos.y * mpl.ratio;\n",
       "\n",
       "    this.send_message(name, {x: x, y: y, button: event.button,\n",
       "                             step: event.step,\n",
       "                             guiEvent: simpleKeys(event)});\n",
       "\n",
       "    /* This prevents the web browser from automatically changing to\n",
       "     * the text insertion cursor when the button is pressed.  We want\n",
       "     * to control all of the cursor setting manually through the\n",
       "     * 'cursor' event from matplotlib */\n",
       "    event.preventDefault();\n",
       "    return false;\n",
       "}\n",
       "\n",
       "mpl.figure.prototype._key_event_extra = function(event, name) {\n",
       "    // Handle any extra behaviour associated with a key event\n",
       "}\n",
       "\n",
       "mpl.figure.prototype.key_event = function(event, name) {\n",
       "\n",
       "    // Prevent repeat events\n",
       "    if (name == 'key_press')\n",
       "    {\n",
       "        if (event.which === this._key)\n",
       "            return;\n",
       "        else\n",
       "            this._key = event.which;\n",
       "    }\n",
       "    if (name == 'key_release')\n",
       "        this._key = null;\n",
       "\n",
       "    var value = '';\n",
       "    if (event.ctrlKey && event.which != 17)\n",
       "        value += \"ctrl+\";\n",
       "    if (event.altKey && event.which != 18)\n",
       "        value += \"alt+\";\n",
       "    if (event.shiftKey && event.which != 16)\n",
       "        value += \"shift+\";\n",
       "\n",
       "    value += 'k';\n",
       "    value += event.which.toString();\n",
       "\n",
       "    this._key_event_extra(event, name);\n",
       "\n",
       "    this.send_message(name, {key: value,\n",
       "                             guiEvent: simpleKeys(event)});\n",
       "    return false;\n",
       "}\n",
       "\n",
       "mpl.figure.prototype.toolbar_button_onclick = function(name) {\n",
       "    if (name == 'download') {\n",
       "        this.handle_save(this, null);\n",
       "    } else {\n",
       "        this.send_message(\"toolbar_button\", {name: name});\n",
       "    }\n",
       "};\n",
       "\n",
       "mpl.figure.prototype.toolbar_button_onmouseover = function(tooltip) {\n",
       "    this.message.textContent = tooltip;\n",
       "};\n",
       "mpl.toolbar_items = [[\"Home\", \"Reset original view\", \"fa fa-home icon-home\", \"home\"], [\"Back\", \"Back to  previous view\", \"fa fa-arrow-left icon-arrow-left\", \"back\"], [\"Forward\", \"Forward to next view\", \"fa fa-arrow-right icon-arrow-right\", \"forward\"], [\"\", \"\", \"\", \"\"], [\"Pan\", \"Pan axes with left mouse, zoom with right\", \"fa fa-arrows icon-move\", \"pan\"], [\"Zoom\", \"Zoom to rectangle\", \"fa fa-square-o icon-check-empty\", \"zoom\"], [\"\", \"\", \"\", \"\"], [\"Download\", \"Download plot\", \"fa fa-floppy-o icon-save\", \"download\"]];\n",
       "\n",
       "mpl.extensions = [\"eps\", \"jpeg\", \"pdf\", \"png\", \"ps\", \"raw\", \"svg\", \"tif\"];\n",
       "\n",
       "mpl.default_extension = \"png\";var comm_websocket_adapter = function(comm) {\n",
       "    // Create a \"websocket\"-like object which calls the given IPython comm\n",
       "    // object with the appropriate methods. Currently this is a non binary\n",
       "    // socket, so there is still some room for performance tuning.\n",
       "    var ws = {};\n",
       "\n",
       "    ws.close = function() {\n",
       "        comm.close()\n",
       "    };\n",
       "    ws.send = function(m) {\n",
       "        //console.log('sending', m);\n",
       "        comm.send(m);\n",
       "    };\n",
       "    // Register the callback with on_msg.\n",
       "    comm.on_msg(function(msg) {\n",
       "        //console.log('receiving', msg['content']['data'], msg);\n",
       "        // Pass the mpl event to the overriden (by mpl) onmessage function.\n",
       "        ws.onmessage(msg['content']['data'])\n",
       "    });\n",
       "    return ws;\n",
       "}\n",
       "\n",
       "mpl.mpl_figure_comm = function(comm, msg) {\n",
       "    // This is the function which gets called when the mpl process\n",
       "    // starts-up an IPython Comm through the \"matplotlib\" channel.\n",
       "\n",
       "    var id = msg.content.data.id;\n",
       "    // Get hold of the div created by the display call when the Comm\n",
       "    // socket was opened in Python.\n",
       "    var element = $(\"#\" + id);\n",
       "    var ws_proxy = comm_websocket_adapter(comm)\n",
       "\n",
       "    function ondownload(figure, format) {\n",
       "        window.open(figure.imageObj.src);\n",
       "    }\n",
       "\n",
       "    var fig = new mpl.figure(id, ws_proxy,\n",
       "                           ondownload,\n",
       "                           element.get(0));\n",
       "\n",
       "    // Call onopen now - mpl needs it, as it is assuming we've passed it a real\n",
       "    // web socket which is closed, not our websocket->open comm proxy.\n",
       "    ws_proxy.onopen();\n",
       "\n",
       "    fig.parent_element = element.get(0);\n",
       "    fig.cell_info = mpl.find_output_cell(\"<div id='\" + id + \"'></div>\");\n",
       "    if (!fig.cell_info) {\n",
       "        console.error(\"Failed to find cell for figure\", id, fig);\n",
       "        return;\n",
       "    }\n",
       "\n",
       "    var output_index = fig.cell_info[2]\n",
       "    var cell = fig.cell_info[0];\n",
       "\n",
       "};\n",
       "\n",
       "mpl.figure.prototype.handle_close = function(fig, msg) {\n",
       "    var width = fig.canvas.width/mpl.ratio\n",
       "    fig.root.unbind('remove')\n",
       "\n",
       "    // Update the output cell to use the data from the current canvas.\n",
       "    fig.push_to_output();\n",
       "    var dataURL = fig.canvas.toDataURL();\n",
       "    // Re-enable the keyboard manager in IPython - without this line, in FF,\n",
       "    // the notebook keyboard shortcuts fail.\n",
       "    IPython.keyboard_manager.enable()\n",
       "    $(fig.parent_element).html('<img src=\"' + dataURL + '\" width=\"' + width + '\">');\n",
       "    fig.close_ws(fig, msg);\n",
       "}\n",
       "\n",
       "mpl.figure.prototype.close_ws = function(fig, msg){\n",
       "    fig.send_message('closing', msg);\n",
       "    // fig.ws.close()\n",
       "}\n",
       "\n",
       "mpl.figure.prototype.push_to_output = function(remove_interactive) {\n",
       "    // Turn the data on the canvas into data in the output cell.\n",
       "    var width = this.canvas.width/mpl.ratio\n",
       "    var dataURL = this.canvas.toDataURL();\n",
       "    this.cell_info[1]['text/html'] = '<img src=\"' + dataURL + '\" width=\"' + width + '\">';\n",
       "}\n",
       "\n",
       "mpl.figure.prototype.updated_canvas_event = function() {\n",
       "    // Tell IPython that the notebook contents must change.\n",
       "    IPython.notebook.set_dirty(true);\n",
       "    this.send_message(\"ack\", {});\n",
       "    var fig = this;\n",
       "    // Wait a second, then push the new image to the DOM so\n",
       "    // that it is saved nicely (might be nice to debounce this).\n",
       "    setTimeout(function () { fig.push_to_output() }, 1000);\n",
       "}\n",
       "\n",
       "mpl.figure.prototype._init_toolbar = function() {\n",
       "    var fig = this;\n",
       "\n",
       "    var nav_element = $('<div/>')\n",
       "    nav_element.attr('style', 'width: 100%');\n",
       "    this.root.append(nav_element);\n",
       "\n",
       "    // Define a callback function for later on.\n",
       "    function toolbar_event(event) {\n",
       "        return fig.toolbar_button_onclick(event['data']);\n",
       "    }\n",
       "    function toolbar_mouse_event(event) {\n",
       "        return fig.toolbar_button_onmouseover(event['data']);\n",
       "    }\n",
       "\n",
       "    for(var toolbar_ind in mpl.toolbar_items){\n",
       "        var name = mpl.toolbar_items[toolbar_ind][0];\n",
       "        var tooltip = mpl.toolbar_items[toolbar_ind][1];\n",
       "        var image = mpl.toolbar_items[toolbar_ind][2];\n",
       "        var method_name = mpl.toolbar_items[toolbar_ind][3];\n",
       "\n",
       "        if (!name) { continue; };\n",
       "\n",
       "        var button = $('<button class=\"btn btn-default\" href=\"#\" title=\"' + name + '\"><i class=\"fa ' + image + ' fa-lg\"></i></button>');\n",
       "        button.click(method_name, toolbar_event);\n",
       "        button.mouseover(tooltip, toolbar_mouse_event);\n",
       "        nav_element.append(button);\n",
       "    }\n",
       "\n",
       "    // Add the status bar.\n",
       "    var status_bar = $('<span class=\"mpl-message\" style=\"text-align:right; float: right;\"/>');\n",
       "    nav_element.append(status_bar);\n",
       "    this.message = status_bar[0];\n",
       "\n",
       "    // Add the close button to the window.\n",
       "    var buttongrp = $('<div class=\"btn-group inline pull-right\"></div>');\n",
       "    var button = $('<button class=\"btn btn-mini btn-primary\" href=\"#\" title=\"Stop Interaction\"><i class=\"fa fa-power-off icon-remove icon-large\"></i></button>');\n",
       "    button.click(function (evt) { fig.handle_close(fig, {}); } );\n",
       "    button.mouseover('Stop Interaction', toolbar_mouse_event);\n",
       "    buttongrp.append(button);\n",
       "    var titlebar = this.root.find($('.ui-dialog-titlebar'));\n",
       "    titlebar.prepend(buttongrp);\n",
       "}\n",
       "\n",
       "mpl.figure.prototype._root_extra_style = function(el){\n",
       "    var fig = this\n",
       "    el.on(\"remove\", function(){\n",
       "\tfig.close_ws(fig, {});\n",
       "    });\n",
       "}\n",
       "\n",
       "mpl.figure.prototype._canvas_extra_style = function(el){\n",
       "    // this is important to make the div 'focusable\n",
       "    el.attr('tabindex', 0)\n",
       "    // reach out to IPython and tell the keyboard manager to turn it's self\n",
       "    // off when our div gets focus\n",
       "\n",
       "    // location in version 3\n",
       "    if (IPython.notebook.keyboard_manager) {\n",
       "        IPython.notebook.keyboard_manager.register_events(el);\n",
       "    }\n",
       "    else {\n",
       "        // location in version 2\n",
       "        IPython.keyboard_manager.register_events(el);\n",
       "    }\n",
       "\n",
       "}\n",
       "\n",
       "mpl.figure.prototype._key_event_extra = function(event, name) {\n",
       "    var manager = IPython.notebook.keyboard_manager;\n",
       "    if (!manager)\n",
       "        manager = IPython.keyboard_manager;\n",
       "\n",
       "    // Check for shift+enter\n",
       "    if (event.shiftKey && event.which == 13) {\n",
       "        this.canvas_div.blur();\n",
       "        // select the cell after this one\n",
       "        var index = IPython.notebook.find_cell_index(this.cell_info[0]);\n",
       "        IPython.notebook.select(index + 1);\n",
       "    }\n",
       "}\n",
       "\n",
       "mpl.figure.prototype.handle_save = function(fig, msg) {\n",
       "    fig.ondownload(fig, null);\n",
       "}\n",
       "\n",
       "\n",
       "mpl.find_output_cell = function(html_output) {\n",
       "    // Return the cell and output element which can be found *uniquely* in the notebook.\n",
       "    // Note - this is a bit hacky, but it is done because the \"notebook_saving.Notebook\"\n",
       "    // IPython event is triggered only after the cells have been serialised, which for\n",
       "    // our purposes (turning an active figure into a static one), is too late.\n",
       "    var cells = IPython.notebook.get_cells();\n",
       "    var ncells = cells.length;\n",
       "    for (var i=0; i<ncells; i++) {\n",
       "        var cell = cells[i];\n",
       "        if (cell.cell_type === 'code'){\n",
       "            for (var j=0; j<cell.output_area.outputs.length; j++) {\n",
       "                var data = cell.output_area.outputs[j];\n",
       "                if (data.data) {\n",
       "                    // IPython >= 3 moved mimebundle to data attribute of output\n",
       "                    data = data.data;\n",
       "                }\n",
       "                if (data['text/html'] == html_output) {\n",
       "                    return [cell, data, j];\n",
       "                }\n",
       "            }\n",
       "        }\n",
       "    }\n",
       "}\n",
       "\n",
       "// Register the function which deals with the matplotlib target/channel.\n",
       "// The kernel may be null if the page has been refreshed.\n",
       "if (IPython.notebook.kernel != null) {\n",
       "    IPython.notebook.kernel.comm_manager.register_target('matplotlib', mpl.mpl_figure_comm);\n",
       "}\n"
      ],
      "text/plain": [
       "<IPython.core.display.Javascript object>"
      ]
     },
     "metadata": {},
     "output_type": "display_data"
    },
    {
     "data": {
      "text/html": [
       "<img src=\"data:image/png;base64,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\" width=\"640\">"
      ],
      "text/plain": [
       "<IPython.core.display.HTML object>"
      ]
     },
     "metadata": {},
     "output_type": "display_data"
    }
   ],
   "source": [
    "import matplotlib.pyplot as plt\n",
    "ax = df.plot.bar(title =\"Precision e Recall das Estratégias\")\n",
    "plt.tight_layout()\n"
   ]
  },
  {
   "cell_type": "markdown",
   "metadata": {},
   "source": [
    "## Antigo"
   ]
  },
  {
   "cell_type": "code",
   "execution_count": 67,
   "metadata": {
    "collapsed": true
   },
   "outputs": [],
   "source": [
    "\n",
    "s5 = state.find(\"s5\")\n",
    "s5"
   ]
  },
  {
   "cell_type": "code",
   "execution_count": null,
   "metadata": {
    "collapsed": true
   },
   "outputs": [],
   "source": []
  },
  {
   "cell_type": "code",
   "execution_count": 68,
   "metadata": {},
   "outputs": [
    {
     "ename": "AttributeError",
     "evalue": "'NoneType' object has no attribute 'delta_related'",
     "output_type": "error",
     "traceback": [
      "\u001b[1;31m---------------------------------------------------------------------------\u001b[0m",
      "\u001b[1;31mAttributeError\u001b[0m                            Traceback (most recent call last)",
      "\u001b[1;32m<ipython-input-68-93c283a26e43>\u001b[0m in \u001b[0;36m<module>\u001b[1;34m()\u001b[0m\n\u001b[1;32m----> 1\u001b[1;33m \u001b[0ms5\u001b[0m\u001b[1;33m.\u001b[0m\u001b[0mdelta_related\u001b[0m\u001b[1;33m\u001b[0m\u001b[0m\n\u001b[0m",
      "\u001b[1;31mAttributeError\u001b[0m: 'NoneType' object has no attribute 'delta_related'"
     ]
    }
   ],
   "source": [
    "s5.delta_related"
   ]
  },
  {
   "cell_type": "code",
   "execution_count": 69,
   "metadata": {},
   "outputs": [
    {
     "ename": "IndexError",
     "evalue": "list index out of range",
     "output_type": "error",
     "traceback": [
      "\u001b[1;31m---------------------------------------------------------------------------\u001b[0m",
      "\u001b[1;31mIndexError\u001b[0m                                Traceback (most recent call last)",
      "\u001b[1;32m<ipython-input-69-7931cc825261>\u001b[0m in \u001b[0;36m<module>\u001b[1;34m()\u001b[0m\n\u001b[1;32m----> 1\u001b[1;33m \u001b[0mstate\u001b[0m\u001b[1;33m.\u001b[0m\u001b[0mprevious\u001b[0m\u001b[1;33m[\u001b[0m\u001b[1;36m0\u001b[0m\u001b[1;33m]\u001b[0m\u001b[1;33m[\u001b[0m\u001b[1;36m1\u001b[0m\u001b[1;33m]\u001b[0m\u001b[1;33m.\u001b[0m\u001b[0mprevious\u001b[0m\u001b[1;33m[\u001b[0m\u001b[1;36m0\u001b[0m\u001b[1;33m]\u001b[0m\u001b[1;33m[\u001b[0m\u001b[1;36m0\u001b[0m\u001b[1;33m]\u001b[0m\u001b[1;33m.\u001b[0m\u001b[0mrelated\u001b[0m\u001b[1;33m\u001b[0m\u001b[0m\n\u001b[0m",
      "\u001b[1;31mIndexError\u001b[0m: list index out of range"
     ]
    }
   ],
   "source": [
    "state.previous[0][1].previous[0][0].related"
   ]
  },
  {
   "cell_type": "code",
   "execution_count": 70,
   "metadata": {},
   "outputs": [
    {
     "data": {
      "image/svg+xml": [
       "<?xml version=\"1.0\" encoding=\"UTF-8\" standalone=\"no\"?>\r\n",
       "<!DOCTYPE svg PUBLIC \"-//W3C//DTD SVG 1.1//EN\"\r\n",
       " \"http://www.w3.org/Graphics/SVG/1.1/DTD/svg11.dtd\">\r\n",
       "<!-- Generated by graphviz version 2.38.0 (20140413.2041)\r\n",
       " -->\r\n",
       "<!-- Title: G Pages: 1 -->\r\n",
       "<svg width=\"875pt\" height=\"90pt\"\r\n",
       " viewBox=\"0.00 0.00 874.70 90.48\" xmlns=\"http://www.w3.org/2000/svg\" xmlns:xlink=\"http://www.w3.org/1999/xlink\">\r\n",
       "<g id=\"graph0\" class=\"graph\" transform=\"scale(1 1) rotate(0) translate(4 86.4767)\">\r\n",
       "<title>G</title>\r\n",
       "<polygon fill=\"white\" stroke=\"none\" points=\"-4,4 -4,-86.4767 870.703,-86.4767 870.703,4 -4,4\"/>\r\n",
       "<!-- s4 -->\r\n",
       "<g id=\"node1\" class=\"node\"><title>s4</title>\r\n",
       "<ellipse fill=\"none\" stroke=\"black\" cx=\"815.084\" cy=\"-37.4767\" rx=\"51.7379\" ry=\"37.4533\"/>\r\n",
       "<text text-anchor=\"middle\" x=\"815.084\" y=\"-48.7767\" font-family=\"Times New Roman,serif\" font-size=\"14.00\">s4</text>\r\n",
       "<text text-anchor=\"middle\" x=\"815.084\" y=\"-33.7767\" font-family=\"Times New Roman,serif\" font-size=\"14.00\">visited: 99</text>\r\n",
       "<text text-anchor=\"middle\" x=\"815.084\" y=\"-18.7767\" font-family=\"Times New Roman,serif\" font-size=\"14.00\">related: 4</text>\r\n",
       "</g>\r\n",
       "<!-- s3 -->\r\n",
       "<g id=\"node2\" class=\"node\"><title>s3</title>\r\n",
       "<ellipse fill=\"none\" stroke=\"black\" cx=\"620.846\" cy=\"-37.4767\" rx=\"51.7379\" ry=\"37.4533\"/>\r\n",
       "<text text-anchor=\"middle\" x=\"620.846\" y=\"-48.7767\" font-family=\"Times New Roman,serif\" font-size=\"14.00\">s3</text>\r\n",
       "<text text-anchor=\"middle\" x=\"620.846\" y=\"-33.7767\" font-family=\"Times New Roman,serif\" font-size=\"14.00\">visited: 99</text>\r\n",
       "<text text-anchor=\"middle\" x=\"620.846\" y=\"-18.7767\" font-family=\"Times New Roman,serif\" font-size=\"14.00\">related: 4</text>\r\n",
       "</g>\r\n",
       "<!-- s4&#45;&gt;s3 -->\r\n",
       "<g id=\"edge1\" class=\"edge\"><title>s4&#45;&gt;s3</title>\r\n",
       "<path fill=\"none\" stroke=\"black\" d=\"M763.324,-37.4767C738.577,-37.4767 708.625,-37.4767 682.663,-37.4767\"/>\r\n",
       "<polygon fill=\"black\" stroke=\"black\" points=\"682.557,-33.9768 672.557,-37.4767 682.557,-40.9768 682.557,-33.9768\"/>\r\n",
       "<text text-anchor=\"middle\" x=\"717.965\" y=\"-71.2767\" font-family=\"Times New Roman,serif\" font-size=\"14.00\">backward</text>\r\n",
       "<text text-anchor=\"middle\" x=\"717.965\" y=\"-56.2767\" font-family=\"Times New Roman,serif\" font-size=\"14.00\">found: 0</text>\r\n",
       "<text text-anchor=\"middle\" x=\"717.965\" y=\"-41.2767\" font-family=\"Times New Roman,serif\" font-size=\"14.00\">related: 0</text>\r\n",
       "</g>\r\n",
       "<!-- s2 -->\r\n",
       "<g id=\"node3\" class=\"node\"><title>s2</title>\r\n",
       "<ellipse fill=\"none\" stroke=\"black\" cx=\"426.609\" cy=\"-37.4767\" rx=\"51.7379\" ry=\"37.4533\"/>\r\n",
       "<text text-anchor=\"middle\" x=\"426.609\" y=\"-48.7767\" font-family=\"Times New Roman,serif\" font-size=\"14.00\">s2</text>\r\n",
       "<text text-anchor=\"middle\" x=\"426.609\" y=\"-33.7767\" font-family=\"Times New Roman,serif\" font-size=\"14.00\">visited: 73</text>\r\n",
       "<text text-anchor=\"middle\" x=\"426.609\" y=\"-18.7767\" font-family=\"Times New Roman,serif\" font-size=\"14.00\">related: 3</text>\r\n",
       "</g>\r\n",
       "<!-- s3&#45;&gt;s2 -->\r\n",
       "<g id=\"edge2\" class=\"edge\"><title>s3&#45;&gt;s2</title>\r\n",
       "<path fill=\"none\" stroke=\"black\" d=\"M569.087,-37.4767C544.339,-37.4767 514.387,-37.4767 488.425,-37.4767\"/>\r\n",
       "<polygon fill=\"black\" stroke=\"black\" points=\"488.319,-33.9768 478.319,-37.4767 488.319,-40.9768 488.319,-33.9768\"/>\r\n",
       "<text text-anchor=\"middle\" x=\"523.727\" y=\"-71.2767\" font-family=\"Times New Roman,serif\" font-size=\"14.00\">backward</text>\r\n",
       "<text text-anchor=\"middle\" x=\"523.727\" y=\"-56.2767\" font-family=\"Times New Roman,serif\" font-size=\"14.00\">found: 26</text>\r\n",
       "<text text-anchor=\"middle\" x=\"523.727\" y=\"-41.2767\" font-family=\"Times New Roman,serif\" font-size=\"14.00\">related: 1</text>\r\n",
       "</g>\r\n",
       "<!-- s1 -->\r\n",
       "<g id=\"node4\" class=\"node\"><title>s1</title>\r\n",
       "<ellipse fill=\"none\" stroke=\"black\" cx=\"236.371\" cy=\"-37.4767\" rx=\"51.7379\" ry=\"37.4533\"/>\r\n",
       "<text text-anchor=\"middle\" x=\"236.371\" y=\"-48.7767\" font-family=\"Times New Roman,serif\" font-size=\"14.00\">s1</text>\r\n",
       "<text text-anchor=\"middle\" x=\"236.371\" y=\"-33.7767\" font-family=\"Times New Roman,serif\" font-size=\"14.00\">visited: 73</text>\r\n",
       "<text text-anchor=\"middle\" x=\"236.371\" y=\"-18.7767\" font-family=\"Times New Roman,serif\" font-size=\"14.00\">related: 3</text>\r\n",
       "</g>\r\n",
       "<!-- s2&#45;&gt;s1 -->\r\n",
       "<g id=\"edge3\" class=\"edge\"><title>s2&#45;&gt;s1</title>\r\n",
       "<path fill=\"none\" stroke=\"black\" d=\"M374.669,-37.4767C351.137,-37.4767 323.007,-37.4767 298.354,-37.4767\"/>\r\n",
       "<polygon fill=\"black\" stroke=\"black\" points=\"298.025,-33.9768 288.025,-37.4767 298.025,-40.9768 298.025,-33.9768\"/>\r\n",
       "<text text-anchor=\"middle\" x=\"331.49\" y=\"-71.2767\" font-family=\"Times New Roman,serif\" font-size=\"14.00\">forward</text>\r\n",
       "<text text-anchor=\"middle\" x=\"331.49\" y=\"-56.2767\" font-family=\"Times New Roman,serif\" font-size=\"14.00\">found: 0</text>\r\n",
       "<text text-anchor=\"middle\" x=\"331.49\" y=\"-41.2767\" font-family=\"Times New Roman,serif\" font-size=\"14.00\">related: 0</text>\r\n",
       "</g>\r\n",
       "<!-- s0 -->\r\n",
       "<g id=\"node5\" class=\"node\"><title>s0</title>\r\n",
       "<ellipse fill=\"none\" stroke=\"black\" cx=\"47.3762\" cy=\"-37.4767\" rx=\"47.2526\" ry=\"37.4533\"/>\r\n",
       "<text text-anchor=\"middle\" x=\"47.3762\" y=\"-48.7767\" font-family=\"Times New Roman,serif\" font-size=\"14.00\">s0</text>\r\n",
       "<text text-anchor=\"middle\" x=\"47.3762\" y=\"-33.7767\" font-family=\"Times New Roman,serif\" font-size=\"14.00\">visited: 4</text>\r\n",
       "<text text-anchor=\"middle\" x=\"47.3762\" y=\"-18.7767\" font-family=\"Times New Roman,serif\" font-size=\"14.00\">related: 2</text>\r\n",
       "</g>\r\n",
       "<!-- s1&#45;&gt;s0 -->\r\n",
       "<g id=\"edge4\" class=\"edge\"><title>s1&#45;&gt;s0</title>\r\n",
       "<path fill=\"none\" stroke=\"black\" d=\"M184.274,-37.4767C159.753,-37.4767 130.296,-37.4767 105.085,-37.4767\"/>\r\n",
       "<polygon fill=\"black\" stroke=\"black\" points=\"104.93,-33.9768 94.9301,-37.4767 104.93,-40.9768 104.93,-33.9768\"/>\r\n",
       "<text text-anchor=\"middle\" x=\"139.752\" y=\"-71.2767\" font-family=\"Times New Roman,serif\" font-size=\"14.00\">forward</text>\r\n",
       "<text text-anchor=\"middle\" x=\"139.752\" y=\"-56.2767\" font-family=\"Times New Roman,serif\" font-size=\"14.00\">found: 69</text>\r\n",
       "<text text-anchor=\"middle\" x=\"139.752\" y=\"-41.2767\" font-family=\"Times New Roman,serif\" font-size=\"14.00\">related: 1</text>\r\n",
       "</g>\r\n",
       "</g>\r\n",
       "</svg>\r\n"
      ],
      "text/plain": [
       "Step(name='start', new_references=4, new_related=2, total_visited=4, total_related=2, source='', target='s0')\n",
       "Step(name='forward', new_references=69, new_related=1, total_visited=73, total_related=3, source='s0', target='s1')\n",
       "Step(name='forward', new_references=0, new_related=0, total_visited=73, total_related=3, source='s1', target='s2')\n",
       "Step(name='backward', new_references=26, new_related=1, total_visited=99, total_related=4, source='s2', target='s3')\n",
       "Step(name='backward', new_references=0, new_related=0, total_visited=99, total_related=4, source='s3', target='s4')"
      ],
      "text/vnd.graphviz": [
       "digraph G {\n",
       "  rankdir=\"RL\";\n",
       "\n",
       "  s4 [label=\"s4\\nvisited: 99\\nrelated: 4\"];\n",
       "  s4 -> s3 [label=\"backward\\nfound: 0\\nrelated: 0\"];\n",
       "\n",
       "  s3 [label=\"s3\\nvisited: 99\\nrelated: 4\"];\n",
       "  s3 -> s2 [label=\"backward\\nfound: 26\\nrelated: 1\"];\n",
       "\n",
       "  s2 [label=\"s2\\nvisited: 73\\nrelated: 3\"];\n",
       "  s2 -> s1 [label=\"forward\\nfound: 0\\nrelated: 0\"];\n",
       "\n",
       "  s1 [label=\"s1\\nvisited: 73\\nrelated: 3\"];\n",
       "  s1 -> s0 [label=\"forward\\nfound: 69\\nrelated: 1\"];\n",
       "\n",
       "  s0 [label=\"s0\\nvisited: 4\\nrelated: 2\"];\n",
       "\n",
       "}"
      ]
     },
     "metadata": {},
     "output_type": "display_data"
    }
   ],
   "source": [
    "state"
   ]
  },
  {
   "cell_type": "code",
   "execution_count": 71,
   "metadata": {
    "collapsed": true
   },
   "outputs": [],
   "source": [
    "s1 = state.find(\"s1\")\n",
    "total = sum(1 for _, w in load_work_map_all_years() if w.category == \"snowball\")"
   ]
  },
  {
   "cell_type": "code",
   "execution_count": 72,
   "metadata": {},
   "outputs": [
    {
     "data": {
      "text/plain": [
       "0.014492753623188406"
      ]
     },
     "execution_count": 72,
     "metadata": {},
     "output_type": "execute_result"
    }
   ],
   "source": [
    "len(s1.delta_related) / len(s1.delta_visited)"
   ]
  },
  {
   "cell_type": "code",
   "execution_count": 73,
   "metadata": {},
   "outputs": [
    {
     "data": {
      "text/plain": [
       "0.25"
      ]
     },
     "execution_count": 73,
     "metadata": {},
     "output_type": "execute_result"
    }
   ],
   "source": [
    "len(s1.delta_related) / total"
   ]
  },
  {
   "cell_type": "code",
   "execution_count": 74,
   "metadata": {},
   "outputs": [
    {
     "data": {
      "text/plain": [
       "0.04040404040404041"
      ]
     },
     "execution_count": 74,
     "metadata": {},
     "output_type": "execute_result"
    }
   ],
   "source": [
    "len(state.related) / len(state.visited)"
   ]
  },
  {
   "cell_type": "code",
   "execution_count": 75,
   "metadata": {},
   "outputs": [
    {
     "data": {
      "text/plain": [
       "1.0"
      ]
     },
     "execution_count": 75,
     "metadata": {},
     "output_type": "execute_result"
    }
   ],
   "source": [
    "len(state.related) / total"
   ]
  },
  {
   "cell_type": "code",
   "execution_count": 76,
   "metadata": {},
   "outputs": [
    {
     "data": {
      "text/plain": [
       "deque([Step(name='start', new_references=4, new_related=2, total_visited=4, total_related=2, source='', target='s0'),\n",
       "       Step(name='forward', new_references=69, new_related=1, total_visited=73, total_related=3, source='s0', target='s1'),\n",
       "       Step(name='forward', new_references=0, new_related=0, total_visited=73, total_related=3, source='s1', target='s2'),\n",
       "       Step(name='backward', new_references=26, new_related=1, total_visited=99, total_related=4, source='s2', target='s3'),\n",
       "       Step(name='backward', new_references=0, new_related=0, total_visited=99, total_related=4, source='s3', target='s4')])"
      ]
     },
     "execution_count": 76,
     "metadata": {},
     "output_type": "execute_result"
    }
   ],
   "source": [
    "state.log"
   ]
  },
  {
   "cell_type": "code",
   "execution_count": 77,
   "metadata": {},
   "outputs": [
    {
     "data": {
      "text/plain": [
       "99"
      ]
     },
     "execution_count": 77,
     "metadata": {},
     "output_type": "execute_result"
    }
   ],
   "source": [
    "len(state.visited)"
   ]
  },
  {
   "cell_type": "code",
   "execution_count": 78,
   "metadata": {
    "collapsed": true
   },
   "outputs": [],
   "source": [
    "with open(\"output/snowballing.provn\", \"w\") as provn:\n",
    "    provn.write(state.provn)"
   ]
  },
  {
   "cell_type": "code",
   "execution_count": 79,
   "metadata": {
    "collapsed": true
   },
   "outputs": [],
   "source": [
    "!provconvert.bat -infile output/snowballing.provn -outfile output/snowballing.dot"
   ]
  },
  {
   "cell_type": "code",
   "execution_count": 80,
   "metadata": {
    "collapsed": true
   },
   "outputs": [],
   "source": [
    "with open(\"output/snowballing.dot\", \"r\") as prov_dot:\n",
    "    text = prov_dot.read().replace('rankdir=\"BT\";', 'rankdir=\"RL\"; ranksep=\"0.1\";')\n",
    "with open(\"output/snowballing.dot\", \"w\") as prov_dot:\n",
    "    prov_dot.write(text)"
   ]
  },
  {
   "cell_type": "code",
   "execution_count": 81,
   "metadata": {
    "collapsed": true
   },
   "outputs": [],
   "source": [
    "!dot -Tpng output/snowballing.dot -ooutput/snowballing.png\n",
    "!dot -Tsvg output/snowballing.dot -ooutput/snowballing.svg\n",
    "#!inkscape -D -z --file=output/snowballing.svg --export-pdf=output/snowballing.pdf"
   ]
  },
  {
   "cell_type": "code",
   "execution_count": 82,
   "metadata": {},
   "outputs": [
    {
     "data": {
      "image/png": "[encoded data removed]",
      "text/plain": [
       "<IPython.core.display.Image object>"
      ]
     },
     "execution_count": 82,
     "metadata": {},
     "output_type": "execute_result"
    }
   ],
   "source": [
    "from IPython.display import Image\n",
    "Image(\"output/snowballing.png\")"
   ]
  },
  {
   "cell_type": "code",
   "execution_count": 83,
   "metadata": {
    "collapsed": true
   },
   "outputs": [],
   "source": [
    "log = state.log"
   ]
  },
  {
   "cell_type": "code",
   "execution_count": 84,
   "metadata": {},
   "outputs": [
    {
     "data": {
      "text/plain": [
       "36"
      ]
     },
     "execution_count": 84,
     "metadata": {},
     "output_type": "execute_result"
    }
   ],
   "source": [
    "len([x for _, x in load_work_map_all_years() if x.category in ('snowball','ok','backward')])"
   ]
  },
  {
   "cell_type": "code",
   "execution_count": 85,
   "metadata": {},
   "outputs": [
    {
     "name": "stdout",
     "output_type": "stream",
     "text": [
      "precision 1/2\n",
      "precision 1/69\n"
     ]
    },
    {
     "ename": "ZeroDivisionError",
     "evalue": "Fraction(0, 0)",
     "output_type": "error",
     "traceback": [
      "\u001b[1;31m---------------------------------------------------------------------------\u001b[0m",
      "\u001b[1;31mZeroDivisionError\u001b[0m                         Traceback (most recent call last)",
      "\u001b[1;32m<ipython-input-85-a822a677160b>\u001b[0m in \u001b[0;36m<module>\u001b[1;34m()\u001b[0m\n\u001b[0;32m      1\u001b[0m \u001b[1;32mfrom\u001b[0m \u001b[0mfractions\u001b[0m \u001b[1;32mimport\u001b[0m \u001b[0mFraction\u001b[0m\u001b[1;33m\u001b[0m\u001b[0m\n\u001b[0;32m      2\u001b[0m \u001b[1;32mfor\u001b[0m \u001b[0mstep\u001b[0m \u001b[1;32min\u001b[0m \u001b[0mlog\u001b[0m\u001b[1;33m:\u001b[0m\u001b[1;33m\u001b[0m\u001b[0m\n\u001b[1;32m----> 3\u001b[1;33m     \u001b[0mprint\u001b[0m\u001b[1;33m(\u001b[0m\u001b[1;34m\"precision\"\u001b[0m\u001b[1;33m,\u001b[0m \u001b[0mFraction\u001b[0m\u001b[1;33m(\u001b[0m\u001b[0mstep\u001b[0m\u001b[1;33m.\u001b[0m\u001b[0mnew_related\u001b[0m\u001b[1;33m,\u001b[0m \u001b[0mstep\u001b[0m\u001b[1;33m.\u001b[0m\u001b[0mnew_references\u001b[0m\u001b[1;33m)\u001b[0m\u001b[1;33m)\u001b[0m\u001b[1;33m\u001b[0m\u001b[0m\n\u001b[0m",
      "\u001b[1;32mC:\\ProgramData\\Anaconda3\\lib\\fractions.py\u001b[0m in \u001b[0;36m__new__\u001b[1;34m(cls, numerator, denominator, _normalize)\u001b[0m\n\u001b[0;32m    176\u001b[0m \u001b[1;33m\u001b[0m\u001b[0m\n\u001b[0;32m    177\u001b[0m         \u001b[1;32mif\u001b[0m \u001b[0mdenominator\u001b[0m \u001b[1;33m==\u001b[0m \u001b[1;36m0\u001b[0m\u001b[1;33m:\u001b[0m\u001b[1;33m\u001b[0m\u001b[0m\n\u001b[1;32m--> 178\u001b[1;33m             \u001b[1;32mraise\u001b[0m \u001b[0mZeroDivisionError\u001b[0m\u001b[1;33m(\u001b[0m\u001b[1;34m'Fraction(%s, 0)'\u001b[0m \u001b[1;33m%\u001b[0m \u001b[0mnumerator\u001b[0m\u001b[1;33m)\u001b[0m\u001b[1;33m\u001b[0m\u001b[0m\n\u001b[0m\u001b[0;32m    179\u001b[0m         \u001b[1;32mif\u001b[0m \u001b[0m_normalize\u001b[0m\u001b[1;33m:\u001b[0m\u001b[1;33m\u001b[0m\u001b[0m\n\u001b[0;32m    180\u001b[0m             \u001b[1;32mif\u001b[0m \u001b[0mtype\u001b[0m\u001b[1;33m(\u001b[0m\u001b[0mnumerator\u001b[0m\u001b[1;33m)\u001b[0m \u001b[1;32mis\u001b[0m \u001b[0mint\u001b[0m \u001b[1;32mis\u001b[0m \u001b[0mtype\u001b[0m\u001b[1;33m(\u001b[0m\u001b[0mdenominator\u001b[0m\u001b[1;33m)\u001b[0m\u001b[1;33m:\u001b[0m\u001b[1;33m\u001b[0m\u001b[0m\n",
      "\u001b[1;31mZeroDivisionError\u001b[0m: Fraction(0, 0)"
     ]
    }
   ],
   "source": [
    "from fractions import Fraction\n",
    "for step in log:\n",
    "    print(\"precision\", Fraction(step.new_related, step.new_references))"
   ]
  },
  {
   "cell_type": "code",
   "execution_count": null,
   "metadata": {
    "collapsed": true
   },
   "outputs": [],
   "source": [
    "len([x for x in state.visited if x.category in {\"snowball\"}])"
   ]
  },
  {
   "cell_type": "code",
   "execution_count": null,
   "metadata": {
    "collapsed": true
   },
   "outputs": [],
   "source": [
    "from snowballing.approaches import get_approaches\n",
    "len(get_approaches())"
   ]
  },
  {
   "cell_type": "code",
   "execution_count": 86,
   "metadata": {},
   "outputs": [
    {
     "name": "stdout",
     "output_type": "stream",
     "text": [
      "Digital Library, Referencias, Citações, Qtd Backward, Qtd Forward\n",
      "(0, 0, 0, 0, 0)\n",
      "start 4\n",
      "forward 69\n",
      "forward 0\n",
      "backward 26\n",
      "visitados 99\n"
     ]
    }
   ],
   "source": [
    "visited = state.visited\n",
    "len([(x, x.year) for x in state.visited\n",
    "     if x.category in {\"nofile\"}\n",
    "     if x.place.name != \"Tech Report\"\n",
    "     if x.place.name != \"Book\"\n",
    "     if x.place.name != \"Patent\"\n",
    "     if x.place.name == \"Conference\"\n",
    "     if x.display != x.place.acronym\n",
    "    ])\n",
    "#count = 0\n",
    "#for x in visited:\n",
    "#     if hasattr(x, 'dglibrary'):\n",
    "#        print(x.dglibrary)\n",
    "#        count = 1 + count\n",
    "#print (count)\n",
    "len([\n",
    "    (x, x.year) for x in visited\n",
    "     if hasattr(x, 'dglibrary') and x.dglibrary==\"Scopus\"\n",
    "    \n",
    "])\n",
    "\n",
    "def count_ref(library,obj):\n",
    "    len_dglibrary = len([(x, x.year) for x in obj\n",
    "                             if hasattr(x, 'dglibrary') and library in x.dglibrary  \n",
    "                        ])\n",
    "    len_backward = len([(x, x.year) for x in obj\n",
    "                             if x.category==\"backward\"  \n",
    "                        ])\n",
    "    len_forward = len([(x, x.year) for x in obj\n",
    "                             if x.category==\"forward\"  \n",
    "                        ])\n",
    "    qtdref=0\n",
    "    qtdcitations=0\n",
    "    for x in obj:\n",
    "        qtdref=qtdref + int(getattr(x, \"references\", 0))\n",
    "        \n",
    "    scopus = sum(int(getattr(x, \"scopus\", 0)) for x in obj)\n",
    "            \n",
    "    for x in obj:\n",
    "        qtdcitations=qtdcitations + int(getattr(x, \"citations\", 0))\n",
    "    return len_dglibrary,qtdref,qtdcitations,len_backward,len_forward\n",
    "     \n",
    "\n",
    "print (\"Digital Library, Referencias, Citações, Qtd Backward, Qtd Forward\")\n",
    "print(count_ref(\"Scopus\",visited))\n",
    "\n",
    "log\n",
    "\n",
    "print (log[0].name, log[0].new_references)\n",
    "print(log[1].name, log[1].new_references)\n",
    "print(log[2].name, log[2].new_references)\n",
    "print(log[3].name, log[3].new_references)\n",
    "print(\"visitados\", len(visited))"
   ]
  },
  {
   "cell_type": "code",
   "execution_count": 87,
   "metadata": {},
   "outputs": [
    {
     "data": {
      "text/plain": [
       "0"
      ]
     },
     "execution_count": 87,
     "metadata": {},
     "output_type": "execute_result"
    }
   ],
   "source": [
    "len([x for x in visited if x.category in {\"lang\"}])"
   ]
  },
  {
   "cell_type": "code",
   "execution_count": 88,
   "metadata": {},
   "outputs": [
    {
     "data": {
      "text/plain": [
       "0"
      ]
     },
     "execution_count": 88,
     "metadata": {},
     "output_type": "execute_result"
    }
   ],
   "source": [
    "len([x for x in visited if x.category in {\"site\"}])"
   ]
  },
  {
   "cell_type": "code",
   "execution_count": 89,
   "metadata": {},
   "outputs": [
    {
     "data": {
      "text/plain": [
       "0"
      ]
     },
     "execution_count": 89,
     "metadata": {},
     "output_type": "execute_result"
    }
   ],
   "source": [
    "len([x for x in visited\n",
    "     if x.place.name == \"Tech Report\"\n",
    "    ])"
   ]
  },
  {
   "cell_type": "code",
   "execution_count": 90,
   "metadata": {},
   "outputs": [
    {
     "data": {
      "text/plain": [
       "0"
      ]
     },
     "execution_count": 90,
     "metadata": {},
     "output_type": "execute_result"
    }
   ],
   "source": [
    "len([x for x in visited\n",
    "     if x.place.name == \"ESEM\"\n",
    "    ])"
   ]
  },
  {
   "cell_type": "code",
   "execution_count": 91,
   "metadata": {},
   "outputs": [
    {
     "data": {
      "text/plain": [
       "{'ok', 'snowball', 'unrelated'}"
      ]
     },
     "execution_count": 91,
     "metadata": {},
     "output_type": "execute_result"
    }
   ],
   "source": [
    "{x.category for x in visited}"
   ]
  },
  {
   "cell_type": "code",
   "execution_count": 92,
   "metadata": {
    "scrolled": true
   },
   "outputs": [
    {
     "data": {
      "text/plain": [
       "[]"
      ]
     },
     "execution_count": 92,
     "metadata": {},
     "output_type": "execute_result"
    }
   ],
   "source": [
    "[(x.year, x.authors, x.name, x.place.name, x.request) for x in visited\n",
    " if x.category in {\"nofile\"}\n",
    " if x.place.name != \"Tech Report\"\n",
    " if x.place.name != \"Book\"\n",
    " if x.place.name != \"Patent\"\n",
    " if x.display != x.place.acronym]"
   ]
  },
  {
   "cell_type": "code",
   "execution_count": null,
   "metadata": {
    "collapsed": true
   },
   "outputs": [],
   "source": [
    "len(_)"
   ]
  },
  {
   "cell_type": "code",
   "execution_count": null,
   "metadata": {
    "collapsed": true
   },
   "outputs": [],
   "source": []
  },
  {
   "cell_type": "code",
   "execution_count": null,
   "metadata": {
    "collapsed": true
   },
   "outputs": [],
   "source": []
  }
 ],
 "metadata": {
  "kernelspec": {
   "display_name": "Python 3",
   "language": "python",
   "name": "python3"
  },
  "language_info": {
   "codemirror_mode": {
    "name": "ipython",
    "version": 3
   },
   "file_extension": ".py",
   "mimetype": "text/x-python",
   "name": "python",
   "nbconvert_exporter": "python",
   "pygments_lexer": "ipython3",
   "version": "3.6.0"
  },
  "toc": {
   "nav_menu": {
    "height": "12px",
    "width": "252px"
   },
   "number_sections": true,
   "sideBar": true,
   "skip_h1_title": false,
   "toc_cell": false,
   "toc_position": {
    "height": "555px",
    "left": "0px",
    "right": "1438px",
    "top": "107px",
    "width": "44px"
   },
   "toc_section_display": "block",
   "toc_window_display": false
  }
 },
 "nbformat": 4,
 "nbformat_minor": 2
}
