{
 "cells": [
  {
   "cell_type": "code",
   "execution_count": 1,
   "metadata": {
    "collapsed": true
   },
   "outputs": [],
   "source": [
    "import os, sys\n",
    "sys.path.insert(1, os.path.join(sys.path[0], '..'))\n",
    "import database\n",
    "from snowballing.operations import reload, work_by_varname, load_work_map_all_years\n",
    "from snowballing.strategies import Strategy, State\n",
    "from functools import reduce\n",
    "from matplotlib_venn import venn2, venn2_circles\n",
    "from matplotlib import pyplot as plt\n",
    "\n",
    "reload()\n",
    "# !pip install matplotlib-venn"
   ]
  },
  {
   "cell_type": "code",
   "execution_count": 2,
   "metadata": {},
   "outputs": [],
   "source": [
    "from snowballing.operations import metakey, metakey_title\n",
    "\n",
    "def busca(*libraries, seed=None, filter_function=None):\n",
    "    filter_function = filter_function or (lambda x: x.category in (\"snowball\",))\n",
    "    if seed is not None:\n",
    "        iterable = ((1, work_by_varname(x)) for x in seed)\n",
    "    else:\n",
    "        iterable = load_work_map_all_years()\n",
    "    seedset = set()\n",
    "    visited = set()\n",
    "    for _, work in iterable:\n",
    "        for library in libraries:\n",
    "            if int(getattr(work, library, 0)):\n",
    "                visited.add(work)\n",
    "                if filter_function(work):\n",
    "                    seedset.add(work)\n",
    "                break\n",
    "    return seedset, filter_function, visited\n",
    "\n",
    "def descreve_delta(strategy, state, name):\n",
    "    target = state.find(name)\n",
    "    previous_related = reduce(lambda x, y: x | y, (s.related for s in target.previous[0]), set())\n",
    "    for work in previous_related:\n",
    "        backward = set(strategy.ref[work]) & target.delta_visited\n",
    "        if backward:\n",
    "            print('backward', work.metakey)\n",
    "            for ref in backward:\n",
    "                print('-', ref.metakey, 'related' if ref in target.delta_related else '')\n",
    "        forward = set(strategy.rev_ref[work]) & target.delta_visited\n",
    "        if forward:\n",
    "            print('forward', work.metakey)\n",
    "            for ref in forward:\n",
    "                print('-', ref.metakey, 'related' if ref in target.delta_related else '')\n",
    "\n",
    "def separa_backward_forward(state):\n",
    "    backward = set()\n",
    "    forward = set()\n",
    "    stack = [state]\n",
    "    visited = {id(state)}\n",
    "    while stack:\n",
    "        current = stack.pop()\n",
    "        if current.previous:\n",
    "            if current.previous[1] == \"backward\":\n",
    "                backward |= current.delta_related\n",
    "            if current.previous[1] == \"forward\":\n",
    "                forward |= current.delta_related\n",
    "                \n",
    "            antecessors = current.previous[0]\n",
    "            for previous in antecessors:\n",
    "                if id(previous) not in visited:\n",
    "                    visited.add(id(previous))\n",
    "                    stack.append(previous)\n",
    "    return backward, forward\n",
    "\n",
    "def encontraria(strategy, state):\n",
    "    backward = set()\n",
    "    forward = set()\n",
    "    for work in state.related - state.find(\"s0\").related:\n",
    "        backward |= (set(strategy.ref[work]) & state.related)\n",
    "        forward |= (set(strategy.rev_ref[work]) & state.related)\n",
    "    return backward, forward\n",
    "\n",
    "#busca(\"scopus\", seed=[\"wohlin2014a\", \"briand2000a\"], filter_function=lambda x: True)\n",
    "#busca(\"scopus\", filter_function=lambda x: False)"
   ]
  },
  {
   "cell_type": "markdown",
   "metadata": {},
   "source": [
    "### Snowballing - Busca via FS e BS no Artigo mais Citado (Seed Set = 1)\n",
    "\n",
    "Não realiza busca em DL.\n",
    "Realiza uma busca, via Forward e/ou via Backward para encontrar artigos do seed set no artigo mais citado, exemplo, mendes2004a."
   ]
  },
  {
   "cell_type": "markdown",
   "metadata": {},
   "source": [
    "### Forward"
   ]
  },
  {
   "cell_type": "code",
   "execution_count": 3,
   "metadata": {
    "scrolled": true
   },
   "outputs": [
    {
     "data": {
      "text/plain": [
       "{Web effort estimation: The value of cross-company data set compared to single-company data set,\n",
       " Building software cost estimation models using homogenous data}"
      ]
     },
     "execution_count": 3,
     "metadata": {},
     "output_type": "execute_result"
    }
   ],
   "source": [
    "### Delta Related = Conector do nó\n",
    "strategy = Strategy({work_by_varname(\"mendes2004a\")})\n",
    "strategy.forward().delta_related"
   ]
  },
  {
   "cell_type": "code",
   "execution_count": 4,
   "metadata": {
    "scrolled": true
   },
   "outputs": [
    {
     "data": {
      "text/plain": [
       "{'briand1999a',\n",
       " 'briand2000a',\n",
       " 'christodoulou2000a',\n",
       " 'cook1977a',\n",
       " 'jeffery2000a',\n",
       " 'jeffery2001a',\n",
       " 'kemerer1987a',\n",
       " 'kitchenham1984a',\n",
       " 'kitchenham1998a',\n",
       " 'kitchenham2001a',\n",
       " 'kitchenham2004a',\n",
       " 'maxwell2002a',\n",
       " 'mendes2003a',\n",
       " 'mendes2003b',\n",
       " 'mendes2004a',\n",
       " 'shepperd2001a',\n",
       " 'wieczorek2002a',\n",
       " 'wilcoxon1945a'}"
      ]
     },
     "execution_count": 4,
     "metadata": {},
     "output_type": "execute_result"
    }
   ],
   "source": [
    "\n",
    "{x.metakey for x in strategy.backward().visited}\n"
   ]
  },
  {
   "cell_type": "code",
   "execution_count": 5,
   "metadata": {
    "scrolled": true
   },
   "outputs": [
    {
     "data": {
      "image/svg+xml": [
       "<?xml version=\"1.0\" encoding=\"UTF-8\" standalone=\"no\"?>\r\n",
       "<!DOCTYPE svg PUBLIC \"-//W3C//DTD SVG 1.1//EN\"\r\n",
       " \"http://www.w3.org/Graphics/SVG/1.1/DTD/svg11.dtd\">\r\n",
       "<!-- Generated by graphviz version 2.38.0 (20140413.2041)\r\n",
       " -->\r\n",
       "<!-- Title: G Pages: 1 -->\r\n",
       "<svg width=\"296pt\" height=\"90pt\"\r\n",
       " viewBox=\"0.00 0.00 295.99 90.48\" xmlns=\"http://www.w3.org/2000/svg\" xmlns:xlink=\"http://www.w3.org/1999/xlink\">\r\n",
       "<g id=\"graph0\" class=\"graph\" transform=\"scale(1 1) rotate(0) translate(4 86.4767)\">\r\n",
       "<title>G</title>\r\n",
       "<polygon fill=\"white\" stroke=\"none\" points=\"-4,4 -4,-86.4767 291.99,-86.4767 291.99,4 -4,4\"/>\r\n",
       "<!-- s1 -->\r\n",
       "<g id=\"node1\" class=\"node\"><title>s1</title>\r\n",
       "<ellipse fill=\"none\" stroke=\"black\" cx=\"236.371\" cy=\"-37.4767\" rx=\"51.7379\" ry=\"37.4533\"/>\r\n",
       "<text text-anchor=\"middle\" x=\"236.371\" y=\"-48.7767\" font-family=\"Times New Roman,serif\" font-size=\"14.00\">s1</text>\r\n",
       "<text text-anchor=\"middle\" x=\"236.371\" y=\"-33.7767\" font-family=\"Times New Roman,serif\" font-size=\"14.00\">visited: 61</text>\r\n",
       "<text text-anchor=\"middle\" x=\"236.371\" y=\"-18.7767\" font-family=\"Times New Roman,serif\" font-size=\"14.00\">related: 3</text>\r\n",
       "</g>\r\n",
       "<!-- s0 -->\r\n",
       "<g id=\"node2\" class=\"node\"><title>s0</title>\r\n",
       "<ellipse fill=\"none\" stroke=\"black\" cx=\"47.3762\" cy=\"-37.4767\" rx=\"47.2526\" ry=\"37.4533\"/>\r\n",
       "<text text-anchor=\"middle\" x=\"47.3762\" y=\"-48.7767\" font-family=\"Times New Roman,serif\" font-size=\"14.00\">s0</text>\r\n",
       "<text text-anchor=\"middle\" x=\"47.3762\" y=\"-33.7767\" font-family=\"Times New Roman,serif\" font-size=\"14.00\">visited: 1</text>\r\n",
       "<text text-anchor=\"middle\" x=\"47.3762\" y=\"-18.7767\" font-family=\"Times New Roman,serif\" font-size=\"14.00\">related: 1</text>\r\n",
       "</g>\r\n",
       "<!-- s1&#45;&gt;s0 -->\r\n",
       "<g id=\"edge1\" class=\"edge\"><title>s1&#45;&gt;s0</title>\r\n",
       "<path fill=\"none\" stroke=\"black\" d=\"M184.274,-37.4767C159.753,-37.4767 130.296,-37.4767 105.085,-37.4767\"/>\r\n",
       "<polygon fill=\"black\" stroke=\"black\" points=\"104.93,-33.9768 94.9301,-37.4767 104.93,-40.9768 104.93,-33.9768\"/>\r\n",
       "<text text-anchor=\"middle\" x=\"139.752\" y=\"-71.2767\" font-family=\"Times New Roman,serif\" font-size=\"14.00\">forward</text>\r\n",
       "<text text-anchor=\"middle\" x=\"139.752\" y=\"-56.2767\" font-family=\"Times New Roman,serif\" font-size=\"14.00\">found: 60</text>\r\n",
       "<text text-anchor=\"middle\" x=\"139.752\" y=\"-41.2767\" font-family=\"Times New Roman,serif\" font-size=\"14.00\">related: 2</text>\r\n",
       "</g>\r\n",
       "</g>\r\n",
       "</svg>\r\n"
      ],
      "text/plain": [
       "Step(name='start', new_references=1, new_related=1, total_visited=1, total_related=1, source='', target='s0')\n",
       "Step(name='forward', new_references=60, new_related=2, total_visited=61, total_related=3, source='s0', target='s1')"
      ],
      "text/vnd.graphviz": [
       "digraph G {\n",
       "  rankdir=\"RL\";\n",
       "\n",
       "  s1 [label=\"s1\\nvisited: 61\\nrelated: 3\"];\n",
       "  s1 -> s0 [label=\"forward\\nfound: 60\\nrelated: 2\"];\n",
       "\n",
       "  s0 [label=\"s0\\nvisited: 1\\nrelated: 1\"];\n",
       "\n",
       "}"
      ]
     },
     "metadata": {},
     "output_type": "display_data"
    }
   ],
   "source": [
    "### Grafo\n",
    "strategy = Strategy({work_by_varname(\"mendes2004a\")})\n",
    "State.last_id = 0\n",
    "strategy.forward()"
   ]
  },
  {
   "cell_type": "code",
   "execution_count": 6,
   "metadata": {
    "scrolled": true
   },
   "outputs": [
    {
     "data": {
      "text/plain": [
       "{Web effort estimation: The value of cross-company data set compared to single-company data set,\n",
       " Building software cost estimation models using homogenous data,\n",
       " Further comparison of cross-company and within-company effort estimation models for web applications}"
      ]
     },
     "execution_count": 6,
     "metadata": {},
     "output_type": "execute_result"
    }
   ],
   "source": [
    "### Related do S1\n",
    "strategy = Strategy({work_by_varname(\"mendes2004a\")})\n",
    "State.last_id = 0\n",
    "strategy.forward().related"
   ]
  },
  {
   "cell_type": "markdown",
   "metadata": {},
   "source": [
    "### Backward"
   ]
  },
  {
   "cell_type": "code",
   "execution_count": 7,
   "metadata": {
    "scrolled": true
   },
   "outputs": [
    {
     "data": {
      "text/plain": [
       "{A comparison of cross-company and within-company effort estimation models for web applications}"
      ]
     },
     "execution_count": 7,
     "metadata": {},
     "output_type": "execute_result"
    }
   ],
   "source": [
    "strategy = Strategy({work_by_varname(\"mendes2004a\")})\n",
    "State.last_id = 0\n",
    "strategy.backward().delta_related"
   ]
  },
  {
   "cell_type": "code",
   "execution_count": 8,
   "metadata": {
    "scrolled": true
   },
   "outputs": [
    {
     "data": {
      "text/plain": [
       "{A comparison of cross-company and within-company effort estimation models for web applications,\n",
       " An empirical validation of software cost estimation models,\n",
       " A replicated assessment of the use of adaptation rules to improve Web cost estimation,\n",
       " Using simulation to evaluate prediction techniques,\n",
       " WWW2000: The Developer's view and a practitioner's approach to Web Engineering,\n",
       " A comparative study of two software development cost modeling techniques using multi-organizational and company-specific data,\n",
       " What accuracy statistics really measure,\n",
       " Further comparison of cross-company and within-company effort estimation models for web applications,\n",
       " Using public domain metrics to estimate software development effort,\n",
       " Assessment and comparison of common software cost estimation modeling techniques,\n",
       " Applied statistics for software managers,\n",
       " Software cost models,\n",
       " Individual comparisons by ranking methods,\n",
       " How valuable is company-specific data compared to multi-company data for software cost estimation?,\n",
       " A procedure for analyzing unbalanced datasets,\n",
       " Investigating early web size measures for web cost estimation,\n",
       " Detection of influential observation in linear regression,\n",
       " A replicated assessment and comparison of common software cost modeling techniques}"
      ]
     },
     "execution_count": 8,
     "metadata": {},
     "output_type": "execute_result"
    }
   ],
   "source": [
    "strategy = Strategy({work_by_varname(\"mendes2004a\")})\n",
    "State.last_id = 0\n",
    "strategy.backward().visited"
   ]
  },
  {
   "cell_type": "code",
   "execution_count": 9,
   "metadata": {
    "scrolled": true
   },
   "outputs": [
    {
     "data": {
      "image/svg+xml": [
       "<?xml version=\"1.0\" encoding=\"UTF-8\" standalone=\"no\"?>\r\n",
       "<!DOCTYPE svg PUBLIC \"-//W3C//DTD SVG 1.1//EN\"\r\n",
       " \"http://www.w3.org/Graphics/SVG/1.1/DTD/svg11.dtd\">\r\n",
       "<!-- Generated by graphviz version 2.38.0 (20140413.2041)\r\n",
       " -->\r\n",
       "<!-- Title: G Pages: 1 -->\r\n",
       "<svg width=\"297pt\" height=\"90pt\"\r\n",
       " viewBox=\"0.00 0.00 296.99 90.48\" xmlns=\"http://www.w3.org/2000/svg\" xmlns:xlink=\"http://www.w3.org/1999/xlink\">\r\n",
       "<g id=\"graph0\" class=\"graph\" transform=\"scale(1 1) rotate(0) translate(4 86.4767)\">\r\n",
       "<title>G</title>\r\n",
       "<polygon fill=\"white\" stroke=\"none\" points=\"-4,4 -4,-86.4767 292.99,-86.4767 292.99,4 -4,4\"/>\r\n",
       "<!-- s1 -->\r\n",
       "<g id=\"node1\" class=\"node\"><title>s1</title>\r\n",
       "<ellipse fill=\"none\" stroke=\"black\" cx=\"237.371\" cy=\"-37.4767\" rx=\"51.7379\" ry=\"37.4533\"/>\r\n",
       "<text text-anchor=\"middle\" x=\"237.371\" y=\"-48.7767\" font-family=\"Times New Roman,serif\" font-size=\"14.00\">s1</text>\r\n",
       "<text text-anchor=\"middle\" x=\"237.371\" y=\"-33.7767\" font-family=\"Times New Roman,serif\" font-size=\"14.00\">visited: 18</text>\r\n",
       "<text text-anchor=\"middle\" x=\"237.371\" y=\"-18.7767\" font-family=\"Times New Roman,serif\" font-size=\"14.00\">related: 2</text>\r\n",
       "</g>\r\n",
       "<!-- s0 -->\r\n",
       "<g id=\"node2\" class=\"node\"><title>s0</title>\r\n",
       "<ellipse fill=\"none\" stroke=\"black\" cx=\"47.3762\" cy=\"-37.4767\" rx=\"47.2526\" ry=\"37.4533\"/>\r\n",
       "<text text-anchor=\"middle\" x=\"47.3762\" y=\"-48.7767\" font-family=\"Times New Roman,serif\" font-size=\"14.00\">s0</text>\r\n",
       "<text text-anchor=\"middle\" x=\"47.3762\" y=\"-33.7767\" font-family=\"Times New Roman,serif\" font-size=\"14.00\">visited: 1</text>\r\n",
       "<text text-anchor=\"middle\" x=\"47.3762\" y=\"-18.7767\" font-family=\"Times New Roman,serif\" font-size=\"14.00\">related: 1</text>\r\n",
       "</g>\r\n",
       "<!-- s1&#45;&gt;s0 -->\r\n",
       "<g id=\"edge1\" class=\"edge\"><title>s1&#45;&gt;s0</title>\r\n",
       "<path fill=\"none\" stroke=\"black\" d=\"M185.497,-37.4767C160.648,-37.4767 130.665,-37.4767 105.082,-37.4767\"/>\r\n",
       "<polygon fill=\"black\" stroke=\"black\" points=\"104.783,-33.9768 94.7827,-37.4767 104.783,-40.9768 104.783,-33.9768\"/>\r\n",
       "<text text-anchor=\"middle\" x=\"140.252\" y=\"-71.2767\" font-family=\"Times New Roman,serif\" font-size=\"14.00\">backward</text>\r\n",
       "<text text-anchor=\"middle\" x=\"140.252\" y=\"-56.2767\" font-family=\"Times New Roman,serif\" font-size=\"14.00\">found: 17</text>\r\n",
       "<text text-anchor=\"middle\" x=\"140.252\" y=\"-41.2767\" font-family=\"Times New Roman,serif\" font-size=\"14.00\">related: 1</text>\r\n",
       "</g>\r\n",
       "</g>\r\n",
       "</svg>\r\n"
      ],
      "text/plain": [
       "Step(name='start', new_references=1, new_related=1, total_visited=1, total_related=1, source='', target='s0')\n",
       "Step(name='backward', new_references=17, new_related=1, total_visited=18, total_related=2, source='s0', target='s1')"
      ],
      "text/vnd.graphviz": [
       "digraph G {\n",
       "  rankdir=\"RL\";\n",
       "\n",
       "  s1 [label=\"s1\\nvisited: 18\\nrelated: 2\"];\n",
       "  s1 -> s0 [label=\"backward\\nfound: 17\\nrelated: 1\"];\n",
       "\n",
       "  s0 [label=\"s0\\nvisited: 1\\nrelated: 1\"];\n",
       "\n",
       "}"
      ]
     },
     "metadata": {},
     "output_type": "display_data"
    }
   ],
   "source": [
    "strategy = Strategy({work_by_varname(\"mendes2004a\")})\n",
    "State.last_id = 0\n",
    "strategy.backward()"
   ]
  },
  {
   "cell_type": "code",
   "execution_count": 10,
   "metadata": {
    "scrolled": true
   },
   "outputs": [
    {
     "data": {
      "text/plain": [
       "'s1'"
      ]
     },
     "execution_count": 10,
     "metadata": {},
     "output_type": "execute_result"
    }
   ],
   "source": [
    "strategy = Strategy({work_by_varname(\"mendes2004a\")})\n",
    "State.last_id = 0\n",
    "strategy.backward().name"
   ]
  },
  {
   "cell_type": "markdown",
   "metadata": {},
   "source": [
    "### Snowballing - Forward and Backward - Union (N vezes)"
   ]
  },
  {
   "cell_type": "code",
   "execution_count": 11,
   "metadata": {
    "scrolled": true
   },
   "outputs": [
    {
     "data": {
      "image/svg+xml": [
       "<?xml version=\"1.0\" encoding=\"UTF-8\" standalone=\"no\"?>\r\n",
       "<!DOCTYPE svg PUBLIC \"-//W3C//DTD SVG 1.1//EN\"\r\n",
       " \"http://www.w3.org/Graphics/SVG/1.1/DTD/svg11.dtd\">\r\n",
       "<!-- Generated by graphviz version 2.38.0 (20140413.2041)\r\n",
       " -->\r\n",
       "<!-- Title: G Pages: 1 -->\r\n",
       "<svg width=\"872pt\" height=\"185pt\"\r\n",
       " viewBox=\"0.00 0.00 871.70 184.95\" xmlns=\"http://www.w3.org/2000/svg\" xmlns:xlink=\"http://www.w3.org/1999/xlink\">\r\n",
       "<g id=\"graph0\" class=\"graph\" transform=\"scale(1 1) rotate(0) translate(4 180.953)\">\r\n",
       "<title>G</title>\r\n",
       "<polygon fill=\"white\" stroke=\"none\" points=\"-4,4 -4,-180.953 867.703,-180.953 867.703,4 -4,4\"/>\r\n",
       "<!-- s6 -->\r\n",
       "<g id=\"node1\" class=\"node\"><title>s6</title>\r\n",
       "<ellipse fill=\"none\" stroke=\"black\" cx=\"812.084\" cy=\"-86.4767\" rx=\"51.7379\" ry=\"37.4533\"/>\r\n",
       "<text text-anchor=\"middle\" x=\"812.084\" y=\"-97.7767\" font-family=\"Times New Roman,serif\" font-size=\"14.00\">s6</text>\r\n",
       "<text text-anchor=\"middle\" x=\"812.084\" y=\"-82.7767\" font-family=\"Times New Roman,serif\" font-size=\"14.00\">visited: 99</text>\r\n",
       "<text text-anchor=\"middle\" x=\"812.084\" y=\"-67.7767\" font-family=\"Times New Roman,serif\" font-size=\"14.00\">related: 4</text>\r\n",
       "</g>\r\n",
       "<!-- s4 -->\r\n",
       "<g id=\"node2\" class=\"node\"><title>s4</title>\r\n",
       "<ellipse fill=\"none\" stroke=\"black\" cx=\"621.846\" cy=\"-130.477\" rx=\"51.7379\" ry=\"37.4533\"/>\r\n",
       "<text text-anchor=\"middle\" x=\"621.846\" y=\"-141.777\" font-family=\"Times New Roman,serif\" font-size=\"14.00\">s4</text>\r\n",
       "<text text-anchor=\"middle\" x=\"621.846\" y=\"-126.777\" font-family=\"Times New Roman,serif\" font-size=\"14.00\">visited: 88</text>\r\n",
       "<text text-anchor=\"middle\" x=\"621.846\" y=\"-111.777\" font-family=\"Times New Roman,serif\" font-size=\"14.00\">related: 4</text>\r\n",
       "</g>\r\n",
       "<!-- s6&#45;&gt;s4 -->\r\n",
       "<g id=\"edge1\" class=\"edge\"><title>s6&#45;&gt;s4</title>\r\n",
       "<path fill=\"none\" stroke=\"black\" d=\"M762.608,-97.8078C737.687,-103.633 707.133,-110.775 680.956,-116.894\"/>\r\n",
       "<polygon fill=\"black\" stroke=\"black\" points=\"680.099,-113.5 671.158,-119.184 681.692,-120.316 680.099,-113.5\"/>\r\n",
       "<text text-anchor=\"middle\" x=\"716.965\" y=\"-147.277\" font-family=\"Times New Roman,serif\" font-size=\"14.00\">union</text>\r\n",
       "<text text-anchor=\"middle\" x=\"716.965\" y=\"-132.277\" font-family=\"Times New Roman,serif\" font-size=\"14.00\">found: 0</text>\r\n",
       "<text text-anchor=\"middle\" x=\"716.965\" y=\"-117.277\" font-family=\"Times New Roman,serif\" font-size=\"14.00\">related: 0</text>\r\n",
       "</g>\r\n",
       "<!-- s5 -->\r\n",
       "<g id=\"node3\" class=\"node\"><title>s5</title>\r\n",
       "<ellipse fill=\"none\" stroke=\"black\" cx=\"621.846\" cy=\"-37.4767\" rx=\"51.7379\" ry=\"37.4533\"/>\r\n",
       "<text text-anchor=\"middle\" x=\"621.846\" y=\"-48.7767\" font-family=\"Times New Roman,serif\" font-size=\"14.00\">s5</text>\r\n",
       "<text text-anchor=\"middle\" x=\"621.846\" y=\"-33.7767\" font-family=\"Times New Roman,serif\" font-size=\"14.00\">visited: 89</text>\r\n",
       "<text text-anchor=\"middle\" x=\"621.846\" y=\"-18.7767\" font-family=\"Times New Roman,serif\" font-size=\"14.00\">related: 4</text>\r\n",
       "</g>\r\n",
       "<!-- s6&#45;&gt;s5 -->\r\n",
       "<g id=\"edge2\" class=\"edge\"><title>s6&#45;&gt;s5</title>\r\n",
       "<path fill=\"none\" stroke=\"black\" d=\"M769.756,-64.8235C760.934,-60.8822 751.537,-57.1718 742.465,-54.4767 723.631,-48.8817 702.566,-45.1051 683.424,-42.5653\"/>\r\n",
       "<polygon fill=\"black\" stroke=\"black\" points=\"683.667,-39.0689 673.313,-41.3124 682.807,-46.0157 683.667,-39.0689\"/>\r\n",
       "<text text-anchor=\"middle\" x=\"716.965\" y=\"-88.2767\" font-family=\"Times New Roman,serif\" font-size=\"14.00\">union</text>\r\n",
       "<text text-anchor=\"middle\" x=\"716.965\" y=\"-73.2767\" font-family=\"Times New Roman,serif\" font-size=\"14.00\">found: 0</text>\r\n",
       "<text text-anchor=\"middle\" x=\"716.965\" y=\"-58.2767\" font-family=\"Times New Roman,serif\" font-size=\"14.00\">related: 0</text>\r\n",
       "</g>\r\n",
       "<!-- s3 -->\r\n",
       "<g id=\"node4\" class=\"node\"><title>s3</title>\r\n",
       "<ellipse fill=\"none\" stroke=\"black\" cx=\"427.609\" cy=\"-86.4767\" rx=\"51.7379\" ry=\"37.4533\"/>\r\n",
       "<text text-anchor=\"middle\" x=\"427.609\" y=\"-97.7767\" font-family=\"Times New Roman,serif\" font-size=\"14.00\">s3</text>\r\n",
       "<text text-anchor=\"middle\" x=\"427.609\" y=\"-82.7767\" font-family=\"Times New Roman,serif\" font-size=\"14.00\">visited: 78</text>\r\n",
       "<text text-anchor=\"middle\" x=\"427.609\" y=\"-67.7767\" font-family=\"Times New Roman,serif\" font-size=\"14.00\">related: 4</text>\r\n",
       "</g>\r\n",
       "<!-- s4&#45;&gt;s3 -->\r\n",
       "<g id=\"edge3\" class=\"edge\"><title>s4&#45;&gt;s3</title>\r\n",
       "<path fill=\"none\" stroke=\"black\" d=\"M572.337,-119.374C546.382,-113.433 514.232,-106.074 486.924,-99.8241\"/>\r\n",
       "<polygon fill=\"black\" stroke=\"black\" points=\"487.632,-96.3956 477.103,-97.5762 486.07,-103.219 487.632,-96.3956\"/>\r\n",
       "<text text-anchor=\"middle\" x=\"524.727\" y=\"-147.277\" font-family=\"Times New Roman,serif\" font-size=\"14.00\">forward</text>\r\n",
       "<text text-anchor=\"middle\" x=\"524.727\" y=\"-132.277\" font-family=\"Times New Roman,serif\" font-size=\"14.00\">found: 10</text>\r\n",
       "<text text-anchor=\"middle\" x=\"524.727\" y=\"-117.277\" font-family=\"Times New Roman,serif\" font-size=\"14.00\">related: 0</text>\r\n",
       "</g>\r\n",
       "<!-- s5&#45;&gt;s3 -->\r\n",
       "<g id=\"edge4\" class=\"edge\"><title>s5&#45;&gt;s3</title>\r\n",
       "<path fill=\"none\" stroke=\"black\" d=\"M570.203,-40.988C547.547,-43.4354 520.709,-47.5584 497.227,-54.4767 491.27,-56.2319 485.174,-58.4293 479.193,-60.8459\"/>\r\n",
       "<polygon fill=\"black\" stroke=\"black\" points=\"477.757,-57.6536 469.927,-64.7918 480.499,-64.0939 477.757,-57.6536\"/>\r\n",
       "<text text-anchor=\"middle\" x=\"524.727\" y=\"-88.2767\" font-family=\"Times New Roman,serif\" font-size=\"14.00\">backward</text>\r\n",
       "<text text-anchor=\"middle\" x=\"524.727\" y=\"-73.2767\" font-family=\"Times New Roman,serif\" font-size=\"14.00\">found: 11</text>\r\n",
       "<text text-anchor=\"middle\" x=\"524.727\" y=\"-58.2767\" font-family=\"Times New Roman,serif\" font-size=\"14.00\">related: 0</text>\r\n",
       "</g>\r\n",
       "<!-- s1 -->\r\n",
       "<g id=\"node5\" class=\"node\"><title>s1</title>\r\n",
       "<ellipse fill=\"none\" stroke=\"black\" cx=\"237.371\" cy=\"-139.477\" rx=\"51.7379\" ry=\"37.4533\"/>\r\n",
       "<text text-anchor=\"middle\" x=\"237.371\" y=\"-150.777\" font-family=\"Times New Roman,serif\" font-size=\"14.00\">s1</text>\r\n",
       "<text text-anchor=\"middle\" x=\"237.371\" y=\"-135.777\" font-family=\"Times New Roman,serif\" font-size=\"14.00\">visited: 61</text>\r\n",
       "<text text-anchor=\"middle\" x=\"237.371\" y=\"-120.777\" font-family=\"Times New Roman,serif\" font-size=\"14.00\">related: 3</text>\r\n",
       "</g>\r\n",
       "<!-- s3&#45;&gt;s1 -->\r\n",
       "<g id=\"edge5\" class=\"edge\"><title>s3&#45;&gt;s1</title>\r\n",
       "<path fill=\"none\" stroke=\"black\" d=\"M381.044,-103.117C373.389,-105.71 365.494,-108.26 357.99,-110.477 338.269,-116.3 316.473,-121.843 296.948,-126.494\"/>\r\n",
       "<polygon fill=\"black\" stroke=\"black\" points=\"295.901,-123.145 286.968,-128.841 297.504,-129.959 295.901,-123.145\"/>\r\n",
       "<text text-anchor=\"middle\" x=\"332.49\" y=\"-157.277\" font-family=\"Times New Roman,serif\" font-size=\"14.00\">union</text>\r\n",
       "<text text-anchor=\"middle\" x=\"332.49\" y=\"-142.277\" font-family=\"Times New Roman,serif\" font-size=\"14.00\">found: 0</text>\r\n",
       "<text text-anchor=\"middle\" x=\"332.49\" y=\"-127.277\" font-family=\"Times New Roman,serif\" font-size=\"14.00\">related: 0</text>\r\n",
       "</g>\r\n",
       "<!-- s2 -->\r\n",
       "<g id=\"node6\" class=\"node\"><title>s2</title>\r\n",
       "<ellipse fill=\"none\" stroke=\"black\" cx=\"237.371\" cy=\"-46.4767\" rx=\"51.7379\" ry=\"37.4533\"/>\r\n",
       "<text text-anchor=\"middle\" x=\"237.371\" y=\"-57.7767\" font-family=\"Times New Roman,serif\" font-size=\"14.00\">s2</text>\r\n",
       "<text text-anchor=\"middle\" x=\"237.371\" y=\"-42.7767\" font-family=\"Times New Roman,serif\" font-size=\"14.00\">visited: 18</text>\r\n",
       "<text text-anchor=\"middle\" x=\"237.371\" y=\"-27.7767\" font-family=\"Times New Roman,serif\" font-size=\"14.00\">related: 2</text>\r\n",
       "</g>\r\n",
       "<!-- s3&#45;&gt;s2 -->\r\n",
       "<g id=\"edge6\" class=\"edge\"><title>s3&#45;&gt;s2</title>\r\n",
       "<path fill=\"none\" stroke=\"black\" d=\"M380.338,-71.3583C372.911,-69.2091 365.273,-67.1608 357.99,-65.4767 338.801,-61.0392 317.64,-57.3053 298.52,-54.3543\"/>\r\n",
       "<polygon fill=\"black\" stroke=\"black\" points=\"298.84,-50.8633 288.431,-52.8395 297.801,-57.7857 298.84,-50.8633\"/>\r\n",
       "<text text-anchor=\"middle\" x=\"332.49\" y=\"-99.2767\" font-family=\"Times New Roman,serif\" font-size=\"14.00\">union</text>\r\n",
       "<text text-anchor=\"middle\" x=\"332.49\" y=\"-84.2767\" font-family=\"Times New Roman,serif\" font-size=\"14.00\">found: 0</text>\r\n",
       "<text text-anchor=\"middle\" x=\"332.49\" y=\"-69.2767\" font-family=\"Times New Roman,serif\" font-size=\"14.00\">related: 0</text>\r\n",
       "</g>\r\n",
       "<!-- s0 -->\r\n",
       "<g id=\"node7\" class=\"node\"><title>s0</title>\r\n",
       "<ellipse fill=\"none\" stroke=\"black\" cx=\"47.3762\" cy=\"-95.4767\" rx=\"47.2526\" ry=\"37.4533\"/>\r\n",
       "<text text-anchor=\"middle\" x=\"47.3762\" y=\"-106.777\" font-family=\"Times New Roman,serif\" font-size=\"14.00\">s0</text>\r\n",
       "<text text-anchor=\"middle\" x=\"47.3762\" y=\"-91.7767\" font-family=\"Times New Roman,serif\" font-size=\"14.00\">visited: 1</text>\r\n",
       "<text text-anchor=\"middle\" x=\"47.3762\" y=\"-76.7767\" font-family=\"Times New Roman,serif\" font-size=\"14.00\">related: 1</text>\r\n",
       "</g>\r\n",
       "<!-- s1&#45;&gt;s0 -->\r\n",
       "<g id=\"edge7\" class=\"edge\"><title>s1&#45;&gt;s0</title>\r\n",
       "<path fill=\"none\" stroke=\"black\" d=\"M187.958,-128.146C162.008,-122.072 129.942,-114.567 103.091,-108.283\"/>\r\n",
       "<polygon fill=\"black\" stroke=\"black\" points=\"103.614,-104.81 93.0792,-105.939 102.018,-111.626 103.614,-104.81\"/>\r\n",
       "<text text-anchor=\"middle\" x=\"140.252\" y=\"-156.277\" font-family=\"Times New Roman,serif\" font-size=\"14.00\">forward</text>\r\n",
       "<text text-anchor=\"middle\" x=\"140.252\" y=\"-141.277\" font-family=\"Times New Roman,serif\" font-size=\"14.00\">found: 60</text>\r\n",
       "<text text-anchor=\"middle\" x=\"140.252\" y=\"-126.277\" font-family=\"Times New Roman,serif\" font-size=\"14.00\">related: 2</text>\r\n",
       "</g>\r\n",
       "<!-- s2&#45;&gt;s0 -->\r\n",
       "<g id=\"edge8\" class=\"edge\"><title>s2&#45;&gt;s0</title>\r\n",
       "<path fill=\"none\" stroke=\"black\" d=\"M185.57,-48.4583C162.884,-50.4019 136.067,-54.1796 112.752,-61.4767 106.736,-63.3596 100.621,-65.7994 94.673,-68.5076\"/>\r\n",
       "<polygon fill=\"black\" stroke=\"black\" points=\"92.9815,-65.4378 85.5031,-72.9428 96.0294,-71.7395 92.9815,-65.4378\"/>\r\n",
       "<text text-anchor=\"middle\" x=\"140.252\" y=\"-95.2767\" font-family=\"Times New Roman,serif\" font-size=\"14.00\">backward</text>\r\n",
       "<text text-anchor=\"middle\" x=\"140.252\" y=\"-80.2767\" font-family=\"Times New Roman,serif\" font-size=\"14.00\">found: 17</text>\r\n",
       "<text text-anchor=\"middle\" x=\"140.252\" y=\"-65.2767\" font-family=\"Times New Roman,serif\" font-size=\"14.00\">related: 1</text>\r\n",
       "</g>\r\n",
       "</g>\r\n",
       "</svg>\r\n"
      ],
      "text/plain": [
       "Step(name='start', new_references=1, new_related=1, total_visited=1, total_related=1, source='', target='s0')\n",
       "Step(name='backward', new_references=17, new_related=1, total_visited=18, total_related=2, source='s0', target='s2')\n",
       "Step(name='forward', new_references=60, new_related=2, total_visited=61, total_related=3, source='s0', target='s1')\n",
       "Step(name='union', new_references=0, new_related=0, total_visited=78, total_related=4, source='s1|s2', target='s3')\n",
       "Step(name='backward', new_references=11, new_related=0, total_visited=89, total_related=4, source='s3', target='s5')\n",
       "Step(name='forward', new_references=10, new_related=0, total_visited=88, total_related=4, source='s3', target='s4')\n",
       "Step(name='union', new_references=0, new_related=0, total_visited=99, total_related=4, source='s4|s5', target='s6')"
      ],
      "text/vnd.graphviz": [
       "digraph G {\n",
       "  rankdir=\"RL\";\n",
       "\n",
       "  s6 [label=\"s6\\nvisited: 99\\nrelated: 4\"];\n",
       "  s6 -> s4 [label=\"union\\nfound: 0\\nrelated: 0\"];\n",
       "  s6 -> s5 [label=\"union\\nfound: 0\\nrelated: 0\"];\n",
       "\n",
       "  s4 [label=\"s4\\nvisited: 88\\nrelated: 4\"];\n",
       "  s4 -> s3 [label=\"forward\\nfound: 10\\nrelated: 0\"];\n",
       "\n",
       "  s5 [label=\"s5\\nvisited: 89\\nrelated: 4\"];\n",
       "  s5 -> s3 [label=\"backward\\nfound: 11\\nrelated: 0\"];\n",
       "\n",
       "  s3 [label=\"s3\\nvisited: 78\\nrelated: 4\"];\n",
       "  s3 -> s1 [label=\"union\\nfound: 0\\nrelated: 0\"];\n",
       "  s3 -> s2 [label=\"union\\nfound: 0\\nrelated: 0\"];\n",
       "\n",
       "  s1 [label=\"s1\\nvisited: 61\\nrelated: 3\"];\n",
       "  s1 -> s0 [label=\"forward\\nfound: 60\\nrelated: 2\"];\n",
       "\n",
       "  s2 [label=\"s2\\nvisited: 18\\nrelated: 2\"];\n",
       "  s2 -> s0 [label=\"backward\\nfound: 17\\nrelated: 1\"];\n",
       "\n",
       "  s0 [label=\"s0\\nvisited: 1\\nrelated: 1\"];\n",
       "\n",
       "}"
      ]
     },
     "metadata": {},
     "output_type": "display_data"
    }
   ],
   "source": [
    "State.last_id = 0\n",
    "state = strategy.sfbu()\n",
    "state"
   ]
  },
  {
   "cell_type": "code",
   "execution_count": null,
   "metadata": {},
   "outputs": [],
   "source": [
    "\n",
    "\n"
   ]
  },
  {
   "cell_type": "code",
   "execution_count": 12,
   "metadata": {},
   "outputs": [
    {
     "data": {
      "text/plain": [
       "98"
      ]
     },
     "execution_count": 12,
     "metadata": {},
     "output_type": "execute_result"
    }
   ],
   "source": [
    "len(state.visited - state.find(\"s0\").visited)"
   ]
  },
  {
   "cell_type": "code",
   "execution_count": 13,
   "metadata": {},
   "outputs": [
    {
     "data": {
      "text/plain": [
       "{A comparison of cross-company and within-company effort estimation models for web applications,\n",
       " Web effort estimation: The value of cross-company data set compared to single-company data set,\n",
       " Building software cost estimation models using homogenous data}"
      ]
     },
     "execution_count": 13,
     "metadata": {},
     "output_type": "execute_result"
    }
   ],
   "source": [
    "state.related - state.find(\"s0\").related"
   ]
  },
  {
   "cell_type": "code",
   "execution_count": 14,
   "metadata": {},
   "outputs": [
    {
     "name": "stdout",
     "output_type": "stream",
     "text": [
      "Relacionados:\n"
     ]
    },
    {
     "data": {
      "text/plain": [
       "{Case studies for method and tool evaluation,\n",
       " Local vs. global models for effort estimation and defect prediction,\n",
       " On the relative value of cross-company and within-company data for defect prediction,\n",
       " Exploiting the essential assumptions of analogy-based effort estimation,\n",
       " Software engineering metrics and models,\n",
       " How to find relevant data for effort estimation?,\n",
       " The need for web engineering: An introduction,\n",
       " A study of project selection and feature weighting for analogy based software cost estimation,\n",
       " Comparison of Web size measures for predicting Web design and authoring effort,\n",
       " Web cost estimation and productivity benchmarking,\n",
       " Statistical power analysis for the behavioral sciences}"
      ]
     },
     "execution_count": 14,
     "metadata": {},
     "output_type": "execute_result"
    }
   ],
   "source": [
    "print(\"Relacionados:\")\n",
    "state.find(\"s5\").delta_visited"
   ]
  },
  {
   "cell_type": "code",
   "execution_count": 15,
   "metadata": {},
   "outputs": [
    {
     "name": "stdout",
     "output_type": "stream",
     "text": [
      "Relacionados:\n"
     ]
    },
    {
     "data": {
      "text/plain": [
       "set()"
      ]
     },
     "execution_count": 15,
     "metadata": {},
     "output_type": "execute_result"
    }
   ],
   "source": [
    "print(\"Relacionados:\")\n",
    "state.find(\"s5\").delta_visited - state.find(\"s5\").delta_visited"
   ]
  },
  {
   "cell_type": "code",
   "execution_count": 16,
   "metadata": {},
   "outputs": [
    {
     "data": {
      "text/plain": [
       "{A comparison of cross-company and within-company effort estimation models for web applications,\n",
       " Web effort estimation: The value of cross-company data set compared to single-company data set,\n",
       " Building software cost estimation models using homogenous data,\n",
       " Further comparison of cross-company and within-company effort estimation models for web applications}"
      ]
     },
     "execution_count": 16,
     "metadata": {},
     "output_type": "execute_result"
    }
   ],
   "source": [
    "state.find(\"s4\").related"
   ]
  },
  {
   "cell_type": "code",
   "execution_count": 17,
   "metadata": {},
   "outputs": [
    {
     "name": "stdout",
     "output_type": "stream",
     "text": [
      "Relacionados:\n"
     ]
    },
    {
     "data": {
      "text/plain": [
       "{Effort estimation of web-based applications using machine learning techniques,\n",
       " Sharing data and models in software engineering,\n",
       " A comparison of cross-versus single-company effort prediction models for web projects,\n",
       " An Empirical Analysis of Three-Stage Data-Preprocessing for Analogy-Based Software Effort Estimation on the ISBSG Data,\n",
       " An empirical analysis of data preprocessing for machine learning-based software cost estimation,\n",
       " Mining app stores: Extracting technical, business and customer rating information for analysis and prediction,\n",
       " La práctica de la estimación en empresas y áreas de Sistemas,\n",
       " Empirical Assessment of Machine Learning Models for Effort Estimation of Web-based Applications,\n",
       " From Function Points to COSMIC-A Transfer Learning Approach for Effort Estimation,\n",
       " Systematic literature review on effort estimation for Open Sources (OSS) web application development}"
      ]
     },
     "execution_count": 17,
     "metadata": {},
     "output_type": "execute_result"
    }
   ],
   "source": [
    "print(\"Relacionados:\")\n",
    "state.find(\"s4\").delta_visited"
   ]
  },
  {
   "cell_type": "code",
   "execution_count": 18,
   "metadata": {},
   "outputs": [
    {
     "name": "stdout",
     "output_type": "stream",
     "text": [
      "Visitados:\n"
     ]
    },
    {
     "data": {
      "text/plain": [
       "{Further comparison of cross-company and within-company effort estimation models for web applications}"
      ]
     },
     "execution_count": 18,
     "metadata": {},
     "output_type": "execute_result"
    }
   ],
   "source": [
    "print(\"Visitados:\")\n",
    "state.find(\"s0\").visited"
   ]
  },
  {
   "cell_type": "code",
   "execution_count": 19,
   "metadata": {},
   "outputs": [
    {
     "data": {
      "text/plain": [
       "set()"
      ]
     },
     "execution_count": 19,
     "metadata": {},
     "output_type": "execute_result"
    }
   ],
   "source": [
    "#Visualização de Backward\n",
    "#state.related & set(strategy.ref[work_by_varname(\"mendes2004a\")])\n",
    "\n",
    "state.find(\"s0\").related & set(strategy.ref[work_by_varname(\"mendes2004a\")])"
   ]
  },
  {
   "cell_type": "markdown",
   "metadata": {},
   "source": [
    "## Estratégias"
   ]
  },
  {
   "cell_type": "markdown",
   "metadata": {},
   "source": [
    "### Estratégia 1 - Busca em todas Digital Libraries (DL)"
   ]
  },
  {
   "cell_type": "code",
   "execution_count": 20,
   "metadata": {},
   "outputs": [
    {
     "data": {
      "image/svg+xml": [
       "<?xml version=\"1.0\" encoding=\"UTF-8\" standalone=\"no\"?>\r\n",
       "<!DOCTYPE svg PUBLIC \"-//W3C//DTD SVG 1.1//EN\"\r\n",
       " \"http://www.w3.org/Graphics/SVG/1.1/DTD/svg11.dtd\">\r\n",
       "<!-- Generated by graphviz version 2.38.0 (20140413.2041)\r\n",
       " -->\r\n",
       "<!-- Title: G Pages: 1 -->\r\n",
       "<svg width=\"103pt\" height=\"83pt\"\r\n",
       " viewBox=\"0.00 0.00 102.75 82.95\" xmlns=\"http://www.w3.org/2000/svg\" xmlns:xlink=\"http://www.w3.org/1999/xlink\">\r\n",
       "<g id=\"graph0\" class=\"graph\" transform=\"scale(1 1) rotate(0) translate(4 78.9533)\">\r\n",
       "<title>G</title>\r\n",
       "<polygon fill=\"white\" stroke=\"none\" points=\"-4,4 -4,-78.9533 98.7523,-78.9533 98.7523,4 -4,4\"/>\r\n",
       "<!-- s0 -->\r\n",
       "<g id=\"node1\" class=\"node\"><title>s0</title>\r\n",
       "<ellipse fill=\"none\" stroke=\"black\" cx=\"47.3762\" cy=\"-37.4767\" rx=\"47.2526\" ry=\"37.4533\"/>\r\n",
       "<text text-anchor=\"middle\" x=\"47.3762\" y=\"-48.7767\" font-family=\"Times New Roman,serif\" font-size=\"14.00\">s0</text>\r\n",
       "<text text-anchor=\"middle\" x=\"47.3762\" y=\"-33.7767\" font-family=\"Times New Roman,serif\" font-size=\"14.00\">visited: 4</text>\r\n",
       "<text text-anchor=\"middle\" x=\"47.3762\" y=\"-18.7767\" font-family=\"Times New Roman,serif\" font-size=\"14.00\">related: 2</text>\r\n",
       "</g>\r\n",
       "</g>\r\n",
       "</svg>\r\n"
      ],
      "text/plain": [
       "Step(name='start', new_references=4, new_related=2, total_visited=4, total_related=2, source='', target='s0')"
      ],
      "text/vnd.graphviz": [
       "digraph G {\n",
       "  rankdir=\"RL\";\n",
       "\n",
       "  s0 [label=\"s0\\nvisited: 4\\nrelated: 2\"];\n",
       "\n",
       "}"
      ]
     },
     "metadata": {},
     "output_type": "display_data"
    }
   ],
   "source": [
    "reload()\n",
    "filter_function = lambda x: x.category in (\"snowball\", \"forward\", \"backward\")\n",
    "\n",
    "strategy = Strategy(*busca(\"scopus\", filter_function=filter_function))\n",
    "\n",
    "state = strategy\n",
    "strategy.initial\n",
    "\n",
    "#strategy.initial.name"
   ]
  },
  {
   "cell_type": "code",
   "execution_count": 21,
   "metadata": {},
   "outputs": [
    {
     "data": {
      "image/svg+xml": [
       "<?xml version=\"1.0\" encoding=\"UTF-8\" standalone=\"no\"?>\r\n",
       "<!DOCTYPE svg PUBLIC \"-//W3C//DTD SVG 1.1//EN\"\r\n",
       " \"http://www.w3.org/Graphics/SVG/1.1/DTD/svg11.dtd\">\r\n",
       "<!-- Generated by graphviz version 2.38.0 (20140413.2041)\r\n",
       " -->\r\n",
       "<!-- Title: G Pages: 1 -->\r\n",
       "<svg width=\"285pt\" height=\"269pt\"\r\n",
       " viewBox=\"0.00 0.00 284.50 268.95\" xmlns=\"http://www.w3.org/2000/svg\" xmlns:xlink=\"http://www.w3.org/1999/xlink\">\r\n",
       "<g id=\"graph0\" class=\"graph\" transform=\"scale(1 1) rotate(0) translate(4 264.953)\">\r\n",
       "<title>G</title>\r\n",
       "<polygon fill=\"white\" stroke=\"none\" points=\"-4,4 -4,-264.953 280.505,-264.953 280.505,4 -4,4\"/>\r\n",
       "<!-- s0 -->\r\n",
       "<g id=\"node1\" class=\"node\"><title>s0</title>\r\n",
       "<ellipse fill=\"none\" stroke=\"black\" cx=\"229.128\" cy=\"-130.477\" rx=\"47.2526\" ry=\"37.4533\"/>\r\n",
       "<text text-anchor=\"middle\" x=\"229.128\" y=\"-141.777\" font-family=\"Times New Roman,serif\" font-size=\"14.00\">s0</text>\r\n",
       "<text text-anchor=\"middle\" x=\"229.128\" y=\"-126.777\" font-family=\"Times New Roman,serif\" font-size=\"14.00\">visited: 5</text>\r\n",
       "<text text-anchor=\"middle\" x=\"229.128\" y=\"-111.777\" font-family=\"Times New Roman,serif\" font-size=\"14.00\">related: 2</text>\r\n",
       "</g>\r\n",
       "<!-- acm -->\r\n",
       "<g id=\"node2\" class=\"node\"><title>acm</title>\r\n",
       "<ellipse fill=\"none\" stroke=\"black\" cx=\"47.3762\" cy=\"-223.477\" rx=\"47.2526\" ry=\"37.4533\"/>\r\n",
       "<text text-anchor=\"middle\" x=\"47.3762\" y=\"-234.777\" font-family=\"Times New Roman,serif\" font-size=\"14.00\">acm</text>\r\n",
       "<text text-anchor=\"middle\" x=\"47.3762\" y=\"-219.777\" font-family=\"Times New Roman,serif\" font-size=\"14.00\">visited: 2</text>\r\n",
       "<text text-anchor=\"middle\" x=\"47.3762\" y=\"-204.777\" font-family=\"Times New Roman,serif\" font-size=\"14.00\">related: 1</text>\r\n",
       "</g>\r\n",
       "<!-- s0&#45;&gt;acm -->\r\n",
       "<g id=\"edge1\" class=\"edge\"><title>s0&#45;&gt;acm</title>\r\n",
       "<path fill=\"none\" stroke=\"black\" d=\"M196.294,-157.563C186.287,-165.278 174.923,-173.265 163.752,-179.477 144.27,-190.31 121.578,-199.602 101.5,-206.817\"/>\r\n",
       "<polygon fill=\"black\" stroke=\"black\" points=\"100.157,-203.579 91.8782,-210.19 102.473,-210.185 100.157,-203.579\"/>\r\n",
       "<text text-anchor=\"middle\" x=\"138.252\" y=\"-235.277\" font-family=\"Times New Roman,serif\" font-size=\"14.00\">union</text>\r\n",
       "<text text-anchor=\"middle\" x=\"138.252\" y=\"-220.277\" font-family=\"Times New Roman,serif\" font-size=\"14.00\">found: 0</text>\r\n",
       "<text text-anchor=\"middle\" x=\"138.252\" y=\"-205.277\" font-family=\"Times New Roman,serif\" font-size=\"14.00\">related: 0</text>\r\n",
       "</g>\r\n",
       "<!-- scopus -->\r\n",
       "<g id=\"node3\" class=\"node\"><title>scopus</title>\r\n",
       "<ellipse fill=\"none\" stroke=\"black\" cx=\"47.3762\" cy=\"-130.477\" rx=\"47.2526\" ry=\"37.4533\"/>\r\n",
       "<text text-anchor=\"middle\" x=\"47.3762\" y=\"-141.777\" font-family=\"Times New Roman,serif\" font-size=\"14.00\">scopus</text>\r\n",
       "<text text-anchor=\"middle\" x=\"47.3762\" y=\"-126.777\" font-family=\"Times New Roman,serif\" font-size=\"14.00\">visited: 4</text>\r\n",
       "<text text-anchor=\"middle\" x=\"47.3762\" y=\"-111.777\" font-family=\"Times New Roman,serif\" font-size=\"14.00\">related: 2</text>\r\n",
       "</g>\r\n",
       "<!-- s0&#45;&gt;scopus -->\r\n",
       "<g id=\"edge2\" class=\"edge\"><title>s0&#45;&gt;scopus</title>\r\n",
       "<path fill=\"none\" stroke=\"black\" d=\"M181.37,-130.477C158.069,-130.477 129.7,-130.477 105.158,-130.477\"/>\r\n",
       "<polygon fill=\"black\" stroke=\"black\" points=\"104.901,-126.977 94.9006,-130.477 104.901,-133.977 104.901,-126.977\"/>\r\n",
       "<text text-anchor=\"middle\" x=\"138.252\" y=\"-164.277\" font-family=\"Times New Roman,serif\" font-size=\"14.00\">union</text>\r\n",
       "<text text-anchor=\"middle\" x=\"138.252\" y=\"-149.277\" font-family=\"Times New Roman,serif\" font-size=\"14.00\">found: 0</text>\r\n",
       "<text text-anchor=\"middle\" x=\"138.252\" y=\"-134.277\" font-family=\"Times New Roman,serif\" font-size=\"14.00\">related: 0</text>\r\n",
       "</g>\r\n",
       "<!-- gs -->\r\n",
       "<g id=\"node4\" class=\"node\"><title>gs</title>\r\n",
       "<ellipse fill=\"none\" stroke=\"black\" cx=\"47.3762\" cy=\"-37.4767\" rx=\"47.2526\" ry=\"37.4533\"/>\r\n",
       "<text text-anchor=\"middle\" x=\"47.3762\" y=\"-48.7767\" font-family=\"Times New Roman,serif\" font-size=\"14.00\">gs</text>\r\n",
       "<text text-anchor=\"middle\" x=\"47.3762\" y=\"-33.7767\" font-family=\"Times New Roman,serif\" font-size=\"14.00\">visited: 0</text>\r\n",
       "<text text-anchor=\"middle\" x=\"47.3762\" y=\"-18.7767\" font-family=\"Times New Roman,serif\" font-size=\"14.00\">related: 0</text>\r\n",
       "</g>\r\n",
       "<!-- s0&#45;&gt;gs -->\r\n",
       "<g id=\"edge3\" class=\"edge\"><title>s0&#45;&gt;gs</title>\r\n",
       "<path fill=\"none\" stroke=\"black\" d=\"M196.294,-103.391C186.287,-95.6751 174.923,-87.6881 163.752,-81.4767 144.27,-70.6436 121.578,-61.3515 101.5,-54.1359\"/>\r\n",
       "<polygon fill=\"black\" stroke=\"black\" points=\"102.473,-50.7683 91.8782,-50.7629 100.157,-57.3742 102.473,-50.7683\"/>\r\n",
       "<text text-anchor=\"middle\" x=\"138.252\" y=\"-115.277\" font-family=\"Times New Roman,serif\" font-size=\"14.00\">union</text>\r\n",
       "<text text-anchor=\"middle\" x=\"138.252\" y=\"-100.277\" font-family=\"Times New Roman,serif\" font-size=\"14.00\">found: 0</text>\r\n",
       "<text text-anchor=\"middle\" x=\"138.252\" y=\"-85.2767\" font-family=\"Times New Roman,serif\" font-size=\"14.00\">related: 0</text>\r\n",
       "</g>\r\n",
       "</g>\r\n",
       "</svg>\r\n"
      ],
      "text/plain": [
       "Step(name='start', new_references=0, new_related=0, total_visited=0, total_related=0, source='', target='gs')\n",
       "Step(name='start', new_references=4, new_related=2, total_visited=4, total_related=2, source='', target='scopus')\n",
       "Step(name='start', new_references=2, new_related=1, total_visited=2, total_related=1, source='', target='acm')\n",
       "Step(name='union', new_references=0, new_related=0, total_visited=5, total_related=2, source='acm|scopus|gs', target='s0')"
      ],
      "text/vnd.graphviz": [
       "digraph G {\n",
       "  rankdir=\"RL\";\n",
       "\n",
       "  s0 [label=\"s0\\nvisited: 5\\nrelated: 2\"];\n",
       "  s0 -> acm [label=\"union\\nfound: 0\\nrelated: 0\"];\n",
       "  s0 -> scopus [label=\"union\\nfound: 0\\nrelated: 0\"];\n",
       "  s0 -> gs [label=\"union\\nfound: 0\\nrelated: 0\"];\n",
       "\n",
       "  acm [label=\"acm\\nvisited: 2\\nrelated: 1\"];\n",
       "\n",
       "  scopus [label=\"scopus\\nvisited: 4\\nrelated: 2\"];\n",
       "\n",
       "  gs [label=\"gs\\nvisited: 0\\nrelated: 0\"];\n",
       "\n",
       "}"
      ]
     },
     "metadata": {},
     "output_type": "display_data"
    }
   ],
   "source": [
    "from snowballing.strategies import State\n",
    "\n",
    "reload()\n",
    "def busca_completa(libs, filter_function):\n",
    "    union = None\n",
    "    for dl in libs:\n",
    "        strategy = Strategy(*busca(dl, filter_function=filter_function))\n",
    "        strategy.initial.name = dl\n",
    "        if union is None:\n",
    "            union = strategy.initial.derive(\"union\", name=\"s0\")\n",
    "        else:\n",
    "            union.visited.update(strategy.initial.visited)\n",
    "            union.related.update(strategy.initial.related)\n",
    "            union.previous[0].append(strategy.initial)\n",
    "\n",
    "    State.last_id = 0\n",
    "    strategy.initial = union\n",
    "    return strategy\n",
    "\n",
    "strategy = busca_completa([\"acm\", \"scopus\", \"gs\"], filter_function)\n",
    "#strategy.initial.find(\"acm\")\n",
    "strategy.initial"
   ]
  },
  {
   "cell_type": "code",
   "execution_count": null,
   "metadata": {
    "collapsed": true
   },
   "outputs": [],
   "source": []
  },
  {
   "cell_type": "code",
   "execution_count": 22,
   "metadata": {},
   "outputs": [
    {
     "data": {
      "image/svg+xml": [
       "<?xml version=\"1.0\" encoding=\"UTF-8\" standalone=\"no\"?>\r\n",
       "<!DOCTYPE svg PUBLIC \"-//W3C//DTD SVG 1.1//EN\"\r\n",
       " \"http://www.w3.org/Graphics/SVG/1.1/DTD/svg11.dtd\">\r\n",
       "<!-- Generated by graphviz version 2.38.0 (20140413.2041)\r\n",
       " -->\r\n",
       "<!-- Title: G Pages: 1 -->\r\n",
       "<svg width=\"103pt\" height=\"83pt\"\r\n",
       " viewBox=\"0.00 0.00 102.75 82.95\" xmlns=\"http://www.w3.org/2000/svg\" xmlns:xlink=\"http://www.w3.org/1999/xlink\">\r\n",
       "<g id=\"graph0\" class=\"graph\" transform=\"scale(1 1) rotate(0) translate(4 78.9533)\">\r\n",
       "<title>G</title>\r\n",
       "<polygon fill=\"white\" stroke=\"none\" points=\"-4,4 -4,-78.9533 98.7523,-78.9533 98.7523,4 -4,4\"/>\r\n",
       "<!-- s0 -->\r\n",
       "<g id=\"node1\" class=\"node\"><title>s0</title>\r\n",
       "<ellipse fill=\"none\" stroke=\"black\" cx=\"47.3762\" cy=\"-37.4767\" rx=\"47.2526\" ry=\"37.4533\"/>\r\n",
       "<text text-anchor=\"middle\" x=\"47.3762\" y=\"-48.7767\" font-family=\"Times New Roman,serif\" font-size=\"14.00\">s0</text>\r\n",
       "<text text-anchor=\"middle\" x=\"47.3762\" y=\"-33.7767\" font-family=\"Times New Roman,serif\" font-size=\"14.00\">visited: 4</text>\r\n",
       "<text text-anchor=\"middle\" x=\"47.3762\" y=\"-18.7767\" font-family=\"Times New Roman,serif\" font-size=\"14.00\">related: 2</text>\r\n",
       "</g>\r\n",
       "</g>\r\n",
       "</svg>\r\n"
      ],
      "text/plain": [
       "Step(name='start', new_references=4, new_related=2, total_visited=4, total_related=2, source='', target='s0')"
      ],
      "text/vnd.graphviz": [
       "digraph G {\n",
       "  rankdir=\"RL\";\n",
       "\n",
       "  s0 [label=\"s0\\nvisited: 4\\nrelated: 2\"];\n",
       "\n",
       "}"
      ]
     },
     "metadata": {},
     "output_type": "display_data"
    }
   ],
   "source": [
    "reload()\n",
    "TOTAL = [x for _, x in load_work_map_all_years() if x.category == \"snowball\"]\n",
    "filter_function = lambda x: x.category in (\"snowball\", \"forward\", \"backward\")\n",
    "\n",
    "strategy = Strategy(*busca(\"scopus\", filter_function=filter_function))\n",
    "\n",
    "state = strategy.initial\n",
    "strategy.initial.visited\n",
    "state"
   ]
  },
  {
   "cell_type": "code",
   "execution_count": 23,
   "metadata": {},
   "outputs": [
    {
     "name": "stdout",
     "output_type": "stream",
     "text": [
      "Precision E1\n",
      "0.5\n",
      "Recall E1\n",
      "0.5\n"
     ]
    }
   ],
   "source": [
    "array = []\n",
    "\n",
    "name = \"E1\"\n",
    "print (\"Precision \" + name)\n",
    "EP = len (state.related) / len (state.visited)\n",
    "print (EP)\n",
    "print (\"Recall \" + name)\n",
    "ER = len (state.related) / len (TOTAL)\n",
    "print (ER)\n",
    "\n",
    "array.append((name, EP, ER))"
   ]
  },
  {
   "cell_type": "code",
   "execution_count": 24,
   "metadata": {},
   "outputs": [
    {
     "data": {
      "text/plain": [
       "4"
      ]
     },
     "execution_count": 24,
     "metadata": {},
     "output_type": "execute_result"
    }
   ],
   "source": [
    "len ([x for _, x in load_work_map_all_years() if x.category == \"snowball\"])"
   ]
  },
  {
   "cell_type": "code",
   "execution_count": null,
   "metadata": {
    "collapsed": true
   },
   "outputs": [],
   "source": []
  },
  {
   "cell_type": "markdown",
   "metadata": {},
   "source": [
    "### Estratégia 2 - Busca em todas Digital Libraries + Snowballing (Guideline - sfbu)"
   ]
  },
  {
   "cell_type": "code",
   "execution_count": 39,
   "metadata": {},
   "outputs": [
    {
     "data": {
      "image/svg+xml": [
       "<?xml version=\"1.0\" encoding=\"UTF-8\" standalone=\"no\"?>\r\n",
       "<!DOCTYPE svg PUBLIC \"-//W3C//DTD SVG 1.1//EN\"\r\n",
       " \"http://www.w3.org/Graphics/SVG/1.1/DTD/svg11.dtd\">\r\n",
       "<!-- Generated by graphviz version 2.38.0 (20140413.2041)\r\n",
       " -->\r\n",
       "<!-- Title: G Pages: 1 -->\r\n",
       "<svg width=\"1053pt\" height=\"188pt\"\r\n",
       " viewBox=\"0.00 0.00 1053.45 187.95\" xmlns=\"http://www.w3.org/2000/svg\" xmlns:xlink=\"http://www.w3.org/1999/xlink\">\r\n",
       "<g id=\"graph0\" class=\"graph\" transform=\"scale(1 1) rotate(0) translate(4 183.953)\">\r\n",
       "<title>G</title>\r\n",
       "<polygon fill=\"white\" stroke=\"none\" points=\"-4,4 -4,-183.953 1049.45,-183.953 1049.45,4 -4,4\"/>\r\n",
       "<!-- s6 -->\r\n",
       "<g id=\"node1\" class=\"node\"><title>s6</title>\r\n",
       "<ellipse fill=\"none\" stroke=\"black\" cx=\"993.836\" cy=\"-86.4767\" rx=\"51.7379\" ry=\"37.4533\"/>\r\n",
       "<text text-anchor=\"middle\" x=\"993.836\" y=\"-97.7767\" font-family=\"Times New Roman,serif\" font-size=\"14.00\">s6</text>\r\n",
       "<text text-anchor=\"middle\" x=\"993.836\" y=\"-82.7767\" font-family=\"Times New Roman,serif\" font-size=\"14.00\">visited: 99</text>\r\n",
       "<text text-anchor=\"middle\" x=\"993.836\" y=\"-67.7767\" font-family=\"Times New Roman,serif\" font-size=\"14.00\">related: 4</text>\r\n",
       "</g>\r\n",
       "<!-- s4 -->\r\n",
       "<g id=\"node2\" class=\"node\"><title>s4</title>\r\n",
       "<ellipse fill=\"none\" stroke=\"black\" cx=\"803.599\" cy=\"-130.477\" rx=\"51.7379\" ry=\"37.4533\"/>\r\n",
       "<text text-anchor=\"middle\" x=\"803.599\" y=\"-141.777\" font-family=\"Times New Roman,serif\" font-size=\"14.00\">s4</text>\r\n",
       "<text text-anchor=\"middle\" x=\"803.599\" y=\"-126.777\" font-family=\"Times New Roman,serif\" font-size=\"14.00\">visited: 99</text>\r\n",
       "<text text-anchor=\"middle\" x=\"803.599\" y=\"-111.777\" font-family=\"Times New Roman,serif\" font-size=\"14.00\">related: 4</text>\r\n",
       "</g>\r\n",
       "<!-- s6&#45;&gt;s4 -->\r\n",
       "<g id=\"edge1\" class=\"edge\"><title>s6&#45;&gt;s4</title>\r\n",
       "<path fill=\"none\" stroke=\"black\" d=\"M944.36,-97.8078C919.439,-103.633 888.885,-110.775 862.708,-116.894\"/>\r\n",
       "<polygon fill=\"black\" stroke=\"black\" points=\"861.851,-113.5 852.91,-119.184 863.444,-120.316 861.851,-113.5\"/>\r\n",
       "<text text-anchor=\"middle\" x=\"898.717\" y=\"-147.277\" font-family=\"Times New Roman,serif\" font-size=\"14.00\">union</text>\r\n",
       "<text text-anchor=\"middle\" x=\"898.717\" y=\"-132.277\" font-family=\"Times New Roman,serif\" font-size=\"14.00\">found: 0</text>\r\n",
       "<text text-anchor=\"middle\" x=\"898.717\" y=\"-117.277\" font-family=\"Times New Roman,serif\" font-size=\"14.00\">related: 0</text>\r\n",
       "</g>\r\n",
       "<!-- s5 -->\r\n",
       "<g id=\"node3\" class=\"node\"><title>s5</title>\r\n",
       "<ellipse fill=\"none\" stroke=\"black\" cx=\"803.599\" cy=\"-37.4767\" rx=\"51.7379\" ry=\"37.4533\"/>\r\n",
       "<text text-anchor=\"middle\" x=\"803.599\" y=\"-48.7767\" font-family=\"Times New Roman,serif\" font-size=\"14.00\">s5</text>\r\n",
       "<text text-anchor=\"middle\" x=\"803.599\" y=\"-33.7767\" font-family=\"Times New Roman,serif\" font-size=\"14.00\">visited: 99</text>\r\n",
       "<text text-anchor=\"middle\" x=\"803.599\" y=\"-18.7767\" font-family=\"Times New Roman,serif\" font-size=\"14.00\">related: 4</text>\r\n",
       "</g>\r\n",
       "<!-- s6&#45;&gt;s5 -->\r\n",
       "<g id=\"edge2\" class=\"edge\"><title>s6&#45;&gt;s5</title>\r\n",
       "<path fill=\"none\" stroke=\"black\" d=\"M951.508,-64.8235C942.687,-60.8822 933.29,-57.1718 924.217,-54.4767 905.384,-48.8817 884.318,-45.1051 865.176,-42.5653\"/>\r\n",
       "<polygon fill=\"black\" stroke=\"black\" points=\"865.42,-39.0689 855.065,-41.3124 864.559,-46.0157 865.42,-39.0689\"/>\r\n",
       "<text text-anchor=\"middle\" x=\"898.717\" y=\"-88.2767\" font-family=\"Times New Roman,serif\" font-size=\"14.00\">union</text>\r\n",
       "<text text-anchor=\"middle\" x=\"898.717\" y=\"-73.2767\" font-family=\"Times New Roman,serif\" font-size=\"14.00\">found: 0</text>\r\n",
       "<text text-anchor=\"middle\" x=\"898.717\" y=\"-58.2767\" font-family=\"Times New Roman,serif\" font-size=\"14.00\">related: 0</text>\r\n",
       "</g>\r\n",
       "<!-- s3 -->\r\n",
       "<g id=\"node4\" class=\"node\"><title>s3</title>\r\n",
       "<ellipse fill=\"none\" stroke=\"black\" cx=\"609.361\" cy=\"-86.4767\" rx=\"51.7379\" ry=\"37.4533\"/>\r\n",
       "<text text-anchor=\"middle\" x=\"609.361\" y=\"-97.7767\" font-family=\"Times New Roman,serif\" font-size=\"14.00\">s3</text>\r\n",
       "<text text-anchor=\"middle\" x=\"609.361\" y=\"-82.7767\" font-family=\"Times New Roman,serif\" font-size=\"14.00\">visited: 99</text>\r\n",
       "<text text-anchor=\"middle\" x=\"609.361\" y=\"-67.7767\" font-family=\"Times New Roman,serif\" font-size=\"14.00\">related: 4</text>\r\n",
       "</g>\r\n",
       "<!-- s4&#45;&gt;s3 -->\r\n",
       "<g id=\"edge3\" class=\"edge\"><title>s4&#45;&gt;s3</title>\r\n",
       "<path fill=\"none\" stroke=\"black\" d=\"M754.089,-119.374C728.135,-113.433 695.984,-106.074 668.676,-99.8241\"/>\r\n",
       "<polygon fill=\"black\" stroke=\"black\" points=\"669.384,-96.3956 658.855,-97.5762 667.822,-103.219 669.384,-96.3956\"/>\r\n",
       "<text text-anchor=\"middle\" x=\"706.48\" y=\"-147.277\" font-family=\"Times New Roman,serif\" font-size=\"14.00\">forward</text>\r\n",
       "<text text-anchor=\"middle\" x=\"706.48\" y=\"-132.277\" font-family=\"Times New Roman,serif\" font-size=\"14.00\">found: 0</text>\r\n",
       "<text text-anchor=\"middle\" x=\"706.48\" y=\"-117.277\" font-family=\"Times New Roman,serif\" font-size=\"14.00\">related: 0</text>\r\n",
       "</g>\r\n",
       "<!-- s5&#45;&gt;s3 -->\r\n",
       "<g id=\"edge4\" class=\"edge\"><title>s5&#45;&gt;s3</title>\r\n",
       "<path fill=\"none\" stroke=\"black\" d=\"M751.919,-40.3639C729.256,-42.5867 702.423,-46.5194 678.98,-53.4767 672.909,-55.2784 666.707,-57.5614 660.636,-60.0825\"/>\r\n",
       "<polygon fill=\"black\" stroke=\"black\" points=\"658.992,-56.9818 651.241,-64.2052 661.805,-63.3918 658.992,-56.9818\"/>\r\n",
       "<text text-anchor=\"middle\" x=\"706.48\" y=\"-87.2767\" font-family=\"Times New Roman,serif\" font-size=\"14.00\">backward</text>\r\n",
       "<text text-anchor=\"middle\" x=\"706.48\" y=\"-72.2767\" font-family=\"Times New Roman,serif\" font-size=\"14.00\">found: 0</text>\r\n",
       "<text text-anchor=\"middle\" x=\"706.48\" y=\"-57.2767\" font-family=\"Times New Roman,serif\" font-size=\"14.00\">related: 0</text>\r\n",
       "</g>\r\n",
       "<!-- s1 -->\r\n",
       "<g id=\"node5\" class=\"node\"><title>s1</title>\r\n",
       "<ellipse fill=\"none\" stroke=\"black\" cx=\"419.123\" cy=\"-139.477\" rx=\"51.7379\" ry=\"37.4533\"/>\r\n",
       "<text text-anchor=\"middle\" x=\"419.123\" y=\"-150.777\" font-family=\"Times New Roman,serif\" font-size=\"14.00\">s1</text>\r\n",
       "<text text-anchor=\"middle\" x=\"419.123\" y=\"-135.777\" font-family=\"Times New Roman,serif\" font-size=\"14.00\">visited: 73</text>\r\n",
       "<text text-anchor=\"middle\" x=\"419.123\" y=\"-120.777\" font-family=\"Times New Roman,serif\" font-size=\"14.00\">related: 3</text>\r\n",
       "</g>\r\n",
       "<!-- s3&#45;&gt;s1 -->\r\n",
       "<g id=\"edge5\" class=\"edge\"><title>s3&#45;&gt;s1</title>\r\n",
       "<path fill=\"none\" stroke=\"black\" d=\"M562.796,-103.117C555.141,-105.71 547.247,-108.26 539.742,-110.477 520.022,-116.3 498.226,-121.843 478.701,-126.494\"/>\r\n",
       "<polygon fill=\"black\" stroke=\"black\" points=\"477.653,-123.145 468.72,-128.841 479.256,-129.959 477.653,-123.145\"/>\r\n",
       "<text text-anchor=\"middle\" x=\"514.242\" y=\"-157.277\" font-family=\"Times New Roman,serif\" font-size=\"14.00\">union</text>\r\n",
       "<text text-anchor=\"middle\" x=\"514.242\" y=\"-142.277\" font-family=\"Times New Roman,serif\" font-size=\"14.00\">found: 0</text>\r\n",
       "<text text-anchor=\"middle\" x=\"514.242\" y=\"-127.277\" font-family=\"Times New Roman,serif\" font-size=\"14.00\">related: 0</text>\r\n",
       "</g>\r\n",
       "<!-- s2 -->\r\n",
       "<g id=\"node6\" class=\"node\"><title>s2</title>\r\n",
       "<ellipse fill=\"none\" stroke=\"black\" cx=\"419.123\" cy=\"-46.4767\" rx=\"51.7379\" ry=\"37.4533\"/>\r\n",
       "<text text-anchor=\"middle\" x=\"419.123\" y=\"-57.7767\" font-family=\"Times New Roman,serif\" font-size=\"14.00\">s2</text>\r\n",
       "<text text-anchor=\"middle\" x=\"419.123\" y=\"-42.7767\" font-family=\"Times New Roman,serif\" font-size=\"14.00\">visited: 36</text>\r\n",
       "<text text-anchor=\"middle\" x=\"419.123\" y=\"-27.7767\" font-family=\"Times New Roman,serif\" font-size=\"14.00\">related: 3</text>\r\n",
       "</g>\r\n",
       "<!-- s3&#45;&gt;s2 -->\r\n",
       "<g id=\"edge6\" class=\"edge\"><title>s3&#45;&gt;s2</title>\r\n",
       "<path fill=\"none\" stroke=\"black\" d=\"M562.091,-71.3583C554.663,-69.2091 547.025,-67.1608 539.742,-65.4767 520.553,-61.0392 499.392,-57.3053 480.272,-54.3543\"/>\r\n",
       "<polygon fill=\"black\" stroke=\"black\" points=\"480.592,-50.8633 470.184,-52.8395 479.553,-57.7857 480.592,-50.8633\"/>\r\n",
       "<text text-anchor=\"middle\" x=\"514.242\" y=\"-99.2767\" font-family=\"Times New Roman,serif\" font-size=\"14.00\">union</text>\r\n",
       "<text text-anchor=\"middle\" x=\"514.242\" y=\"-84.2767\" font-family=\"Times New Roman,serif\" font-size=\"14.00\">found: 0</text>\r\n",
       "<text text-anchor=\"middle\" x=\"514.242\" y=\"-69.2767\" font-family=\"Times New Roman,serif\" font-size=\"14.00\">related: 0</text>\r\n",
       "</g>\r\n",
       "<!-- s0 -->\r\n",
       "<g id=\"node7\" class=\"node\"><title>s0</title>\r\n",
       "<ellipse fill=\"none\" stroke=\"black\" cx=\"229.128\" cy=\"-95.4767\" rx=\"47.2526\" ry=\"37.4533\"/>\r\n",
       "<text text-anchor=\"middle\" x=\"229.128\" y=\"-106.777\" font-family=\"Times New Roman,serif\" font-size=\"14.00\">s0</text>\r\n",
       "<text text-anchor=\"middle\" x=\"229.128\" y=\"-91.7767\" font-family=\"Times New Roman,serif\" font-size=\"14.00\">visited: 5</text>\r\n",
       "<text text-anchor=\"middle\" x=\"229.128\" y=\"-76.7767\" font-family=\"Times New Roman,serif\" font-size=\"14.00\">related: 2</text>\r\n",
       "</g>\r\n",
       "<!-- s1&#45;&gt;s0 -->\r\n",
       "<g id=\"edge7\" class=\"edge\"><title>s1&#45;&gt;s0</title>\r\n",
       "<path fill=\"none\" stroke=\"black\" d=\"M369.71,-128.146C343.76,-122.072 311.694,-114.567 284.843,-108.283\"/>\r\n",
       "<polygon fill=\"black\" stroke=\"black\" points=\"285.366,-104.81 274.831,-105.939 283.771,-111.626 285.366,-104.81\"/>\r\n",
       "<text text-anchor=\"middle\" x=\"322.005\" y=\"-156.277\" font-family=\"Times New Roman,serif\" font-size=\"14.00\">forward</text>\r\n",
       "<text text-anchor=\"middle\" x=\"322.005\" y=\"-141.277\" font-family=\"Times New Roman,serif\" font-size=\"14.00\">found: 68</text>\r\n",
       "<text text-anchor=\"middle\" x=\"322.005\" y=\"-126.277\" font-family=\"Times New Roman,serif\" font-size=\"14.00\">related: 1</text>\r\n",
       "</g>\r\n",
       "<!-- s2&#45;&gt;s0 -->\r\n",
       "<g id=\"edge8\" class=\"edge\"><title>s2&#45;&gt;s0</title>\r\n",
       "<path fill=\"none\" stroke=\"black\" d=\"M367.323,-48.4583C344.637,-50.4019 317.819,-54.1796 294.505,-61.4767 288.488,-63.3596 282.373,-65.7994 276.425,-68.5076\"/>\r\n",
       "<polygon fill=\"black\" stroke=\"black\" points=\"274.734,-65.4378 267.255,-72.9428 277.782,-71.7395 274.734,-65.4378\"/>\r\n",
       "<text text-anchor=\"middle\" x=\"322.005\" y=\"-95.2767\" font-family=\"Times New Roman,serif\" font-size=\"14.00\">backward</text>\r\n",
       "<text text-anchor=\"middle\" x=\"322.005\" y=\"-80.2767\" font-family=\"Times New Roman,serif\" font-size=\"14.00\">found: 31</text>\r\n",
       "<text text-anchor=\"middle\" x=\"322.005\" y=\"-65.2767\" font-family=\"Times New Roman,serif\" font-size=\"14.00\">related: 1</text>\r\n",
       "</g>\r\n",
       "<!-- acm -->\r\n",
       "<g id=\"node8\" class=\"node\"><title>acm</title>\r\n",
       "<ellipse fill=\"none\" stroke=\"black\" cx=\"47.3762\" cy=\"-142.477\" rx=\"47.2526\" ry=\"37.4533\"/>\r\n",
       "<text text-anchor=\"middle\" x=\"47.3762\" y=\"-153.777\" font-family=\"Times New Roman,serif\" font-size=\"14.00\">acm</text>\r\n",
       "<text text-anchor=\"middle\" x=\"47.3762\" y=\"-138.777\" font-family=\"Times New Roman,serif\" font-size=\"14.00\">visited: 2</text>\r\n",
       "<text text-anchor=\"middle\" x=\"47.3762\" y=\"-123.777\" font-family=\"Times New Roman,serif\" font-size=\"14.00\">related: 1</text>\r\n",
       "</g>\r\n",
       "<!-- s0&#45;&gt;acm -->\r\n",
       "<g id=\"edge9\" class=\"edge\"><title>s0&#45;&gt;acm</title>\r\n",
       "<path fill=\"none\" stroke=\"black\" d=\"M186.952,-112.742C179.322,-115.575 171.359,-118.294 163.752,-120.477 144.562,-125.983 123.176,-130.495 104.079,-133.968\"/>\r\n",
       "<polygon fill=\"black\" stroke=\"black\" points=\"103.271,-130.557 94.0306,-135.74 104.486,-137.45 103.271,-130.557\"/>\r\n",
       "<text text-anchor=\"middle\" x=\"138.252\" y=\"-165.277\" font-family=\"Times New Roman,serif\" font-size=\"14.00\">union</text>\r\n",
       "<text text-anchor=\"middle\" x=\"138.252\" y=\"-150.277\" font-family=\"Times New Roman,serif\" font-size=\"14.00\">found: 0</text>\r\n",
       "<text text-anchor=\"middle\" x=\"138.252\" y=\"-135.277\" font-family=\"Times New Roman,serif\" font-size=\"14.00\">related: 0</text>\r\n",
       "</g>\r\n",
       "<!-- scopus -->\r\n",
       "<g id=\"node9\" class=\"node\"><title>scopus</title>\r\n",
       "<ellipse fill=\"none\" stroke=\"black\" cx=\"47.3762\" cy=\"-49.4767\" rx=\"47.2526\" ry=\"37.4533\"/>\r\n",
       "<text text-anchor=\"middle\" x=\"47.3762\" y=\"-60.7767\" font-family=\"Times New Roman,serif\" font-size=\"14.00\">scopus</text>\r\n",
       "<text text-anchor=\"middle\" x=\"47.3762\" y=\"-45.7767\" font-family=\"Times New Roman,serif\" font-size=\"14.00\">visited: 4</text>\r\n",
       "<text text-anchor=\"middle\" x=\"47.3762\" y=\"-30.7767\" font-family=\"Times New Roman,serif\" font-size=\"14.00\">related: 2</text>\r\n",
       "</g>\r\n",
       "<!-- s0&#45;&gt;scopus -->\r\n",
       "<g id=\"edge10\" class=\"edge\"><title>s0&#45;&gt;scopus</title>\r\n",
       "<path fill=\"none\" stroke=\"black\" d=\"M184.98,-81.554C177.914,-79.4233 170.649,-77.3219 163.752,-75.4767 144.159,-70.2343 122.508,-65.1664 103.304,-60.919\"/>\r\n",
       "<polygon fill=\"black\" stroke=\"black\" points=\"104.026,-57.4941 93.509,-58.776 102.53,-64.3324 104.026,-57.4941\"/>\r\n",
       "<text text-anchor=\"middle\" x=\"138.252\" y=\"-109.277\" font-family=\"Times New Roman,serif\" font-size=\"14.00\">union</text>\r\n",
       "<text text-anchor=\"middle\" x=\"138.252\" y=\"-94.2767\" font-family=\"Times New Roman,serif\" font-size=\"14.00\">found: 0</text>\r\n",
       "<text text-anchor=\"middle\" x=\"138.252\" y=\"-79.2767\" font-family=\"Times New Roman,serif\" font-size=\"14.00\">related: 0</text>\r\n",
       "</g>\r\n",
       "</g>\r\n",
       "</svg>\r\n"
      ],
      "text/plain": [
       "Step(name='start', new_references=4, new_related=2, total_visited=4, total_related=2, source='', target='scopus')\n",
       "Step(name='start', new_references=2, new_related=1, total_visited=2, total_related=1, source='', target='acm')\n",
       "Step(name='union', new_references=0, new_related=0, total_visited=5, total_related=2, source='acm|scopus', target='s0')\n",
       "Step(name='backward', new_references=31, new_related=1, total_visited=36, total_related=3, source='s0', target='s2')\n",
       "Step(name='forward', new_references=68, new_related=1, total_visited=73, total_related=3, source='s0', target='s1')\n",
       "Step(name='union', new_references=0, new_related=0, total_visited=99, total_related=4, source='s1|s2', target='s3')\n",
       "Step(name='backward', new_references=0, new_related=0, total_visited=99, total_related=4, source='s3', target='s5')\n",
       "Step(name='forward', new_references=0, new_related=0, total_visited=99, total_related=4, source='s3', target='s4')\n",
       "Step(name='union', new_references=0, new_related=0, total_visited=99, total_related=4, source='s4|s5', target='s6')"
      ],
      "text/vnd.graphviz": [
       "digraph G {\n",
       "  rankdir=\"RL\";\n",
       "\n",
       "  s6 [label=\"s6\\nvisited: 99\\nrelated: 4\"];\n",
       "  s6 -> s4 [label=\"union\\nfound: 0\\nrelated: 0\"];\n",
       "  s6 -> s5 [label=\"union\\nfound: 0\\nrelated: 0\"];\n",
       "\n",
       "  s4 [label=\"s4\\nvisited: 99\\nrelated: 4\"];\n",
       "  s4 -> s3 [label=\"forward\\nfound: 0\\nrelated: 0\"];\n",
       "\n",
       "  s5 [label=\"s5\\nvisited: 99\\nrelated: 4\"];\n",
       "  s5 -> s3 [label=\"backward\\nfound: 0\\nrelated: 0\"];\n",
       "\n",
       "  s3 [label=\"s3\\nvisited: 99\\nrelated: 4\"];\n",
       "  s3 -> s1 [label=\"union\\nfound: 0\\nrelated: 0\"];\n",
       "  s3 -> s2 [label=\"union\\nfound: 0\\nrelated: 0\"];\n",
       "\n",
       "  s1 [label=\"s1\\nvisited: 73\\nrelated: 3\"];\n",
       "  s1 -> s0 [label=\"forward\\nfound: 68\\nrelated: 1\"];\n",
       "\n",
       "  s2 [label=\"s2\\nvisited: 36\\nrelated: 3\"];\n",
       "  s2 -> s0 [label=\"backward\\nfound: 31\\nrelated: 1\"];\n",
       "\n",
       "  s0 [label=\"s0\\nvisited: 5\\nrelated: 2\"];\n",
       "  s0 -> acm [label=\"union\\nfound: 0\\nrelated: 0\"];\n",
       "  s0 -> scopus [label=\"union\\nfound: 0\\nrelated: 0\"];\n",
       "\n",
       "  acm [label=\"acm\\nvisited: 2\\nrelated: 1\"];\n",
       "\n",
       "  scopus [label=\"scopus\\nvisited: 4\\nrelated: 2\"];\n",
       "\n",
       "}"
      ]
     },
     "metadata": {},
     "output_type": "display_data"
    }
   ],
   "source": [
    "reload()\n",
    "filter_function = lambda x: x.category in (\"snowball\", \"forward\", \"backward\")\n",
    "\n",
    "strategy = busca_completa([\"acm\", \"scopus\"], filter_function)\n",
    "#Strategy(*busca(\"acm\",\"scopus\", filter_function=filter_function))\n",
    "\n",
    "state = strategy.sfbu()\n",
    "#state = strategy.bbff()\n",
    "#state = strategy.ffbb()\n",
    "#state = strategy.s2ffbb2u()\n",
    "\n",
    "state"
   ]
  },
  {
   "cell_type": "code",
   "execution_count": null,
   "metadata": {
    "collapsed": true
   },
   "outputs": [],
   "source": []
  },
  {
   "cell_type": "code",
   "execution_count": 40,
   "metadata": {},
   "outputs": [
    {
     "data": {
      "text/plain": [
       "[['kitchenham2004a - A comparison of cross-company and within-company effort estimation models for web applications'],\n",
       " ['premraj2007a - Building software cost estimation models using homogenous data']]"
      ]
     },
     "execution_count": 40,
     "metadata": {},
     "output_type": "execute_result"
    }
   ],
   "source": [
    "separa_backward_forward(state) @ metakey_title"
   ]
  },
  {
   "cell_type": "code",
   "execution_count": 41,
   "metadata": {},
   "outputs": [
    {
     "data": {
      "image/png": "[encoded data removed]",
      "text/plain": [
       "<matplotlib.figure.Figure at 0x1cb678c1da0>"
      ]
     },
     "metadata": {},
     "output_type": "display_data"
    }
   ],
   "source": [
    "sets = separa_backward_forward(state)\n",
    "sets = encontraria(strategy, state)\n",
    "v = venn2(sets, set_labels = ('Backward', 'Forward'))\n",
    "c = venn2_circles(sets)\n",
    "plt.title('subplot 2')\n",
    "plt.show()"
   ]
  },
  {
   "cell_type": "code",
   "execution_count": 42,
   "metadata": {},
   "outputs": [
    {
     "name": "stdout",
     "output_type": "stream",
     "text": [
      "Backward ['mendes2004a']\n",
      "Forward ['ferrucci2012a', 'mendes2004a']\n"
     ]
    }
   ],
   "source": [
    "print(\"Backward\", sets[0] @ metakey)\n",
    "print(\"Forward\", sets[1] @ metakey)"
   ]
  },
  {
   "cell_type": "code",
   "execution_count": 43,
   "metadata": {
    "collapsed": true
   },
   "outputs": [],
   "source": [
    "x = v.get_patch_by_id('100')"
   ]
  },
  {
   "cell_type": "code",
   "execution_count": 44,
   "metadata": {
    "collapsed": true
   },
   "outputs": [],
   "source": [
    "x.set_linestyle = \"black\""
   ]
  },
  {
   "cell_type": "code",
   "execution_count": 45,
   "metadata": {},
   "outputs": [
    {
     "data": {
      "text/plain": [
       "['ferrucci2012a', 'mendes2004a']"
      ]
     },
     "execution_count": 45,
     "metadata": {},
     "output_type": "execute_result"
    }
   ],
   "source": [
    "state.find(\"s0\").related @ metakey"
   ]
  },
  {
   "cell_type": "code",
   "execution_count": 46,
   "metadata": {},
   "outputs": [
    {
     "data": {
      "text/plain": [
       "['ferrucci2012a', 'mendes2004a']"
      ]
     },
     "execution_count": 46,
     "metadata": {},
     "output_type": "execute_result"
    }
   ],
   "source": [
    "[x.metakey for x in state.find(\"s0\").related]"
   ]
  },
  {
   "cell_type": "code",
   "execution_count": 48,
   "metadata": {},
   "outputs": [
    {
     "data": {
      "text/plain": [
       "['kitchenham2004a - A comparison of cross-company and within-company effort estimation models for web applications',\n",
       " 'premraj2007a - Building software cost estimation models using homogenous data']"
      ]
     },
     "execution_count": 48,
     "metadata": {},
     "output_type": "execute_result"
    }
   ],
   "source": [
    "diff_related = state.related - state.find(\"s0\").related\n",
    "diff_related @ metakey_title"
   ]
  },
  {
   "cell_type": "code",
   "execution_count": 34,
   "metadata": {},
   "outputs": [
    {
     "name": "stdout",
     "output_type": "stream",
     "text": [
      "backward ferrucci2012a\n",
      "- kitchenham2001a \n",
      "- turhan2009a \n",
      "- kocaguneli2011a \n",
      "- mendes2002a \n",
      "- cohen1988a \n",
      "- kitchenham2004a related\n",
      "- menzies2011a \n",
      "- kocaguneli2012a \n",
      "- li2009a \n",
      "- kocaguneli2010a \n",
      "- mendes2008a \n",
      "- conte1986a \n",
      "- kitchenham1998a \n",
      "- mendes2003a \n",
      "- shepperd2001a \n",
      "- kitchenham1995a \n",
      "- mendes2007a \n",
      "- kitchenham2007a \n",
      "- mendes2008b \n",
      "- mendes2005a \n",
      "- maxwell2002a \n",
      "- mendes2005b \n",
      "- cook1977a \n",
      "backward mendes2004a\n",
      "- kitchenham2004a related\n",
      "- kemerer1987a \n",
      "- mendes2003b \n",
      "- shepperd2001a \n",
      "- christodoulou2000a \n",
      "- kitchenham2001a \n",
      "- briand1999a \n",
      "- maxwell2002a \n",
      "- kitchenham1984a \n",
      "- wilcoxon1945a \n",
      "- wieczorek2002a \n",
      "- kitchenham1998a \n",
      "- mendes2003a \n",
      "- cook1977a \n",
      "- briand2000a \n",
      "forward mendes2004a\n",
      "- mendes2007a \n",
      "- kitchenham2007a \n",
      "- mendes2008b \n",
      "- mendes2005b \n",
      "- kocaguneli2010a \n"
     ]
    }
   ],
   "source": [
    " descreve_delta(strategy, state, \"s2\")"
   ]
  },
  {
   "cell_type": "code",
   "execution_count": 35,
   "metadata": {},
   "outputs": [
    {
     "name": "stdout",
     "output_type": "stream",
     "text": [
      "Precision na Busca E2: 0.40%\n",
      "\n",
      "Precision no Snowballing E2: 0.02%\n",
      "Precision no Snowballing E2 - Forward - 1 iteração: 0.01%\n",
      "Precision no Snowballing E2 - Backward - 1 iteração: 0.03%\n",
      "\n",
      "Precision E2 (Busca + Snowballing): 0.04%\n",
      "Precision E2\n",
      "0.04040404040404041\n",
      "Recall E2\n",
      "1.0\n"
     ]
    }
   ],
   "source": [
    "E2P = len (strategy.initial.related) / len (strategy.initial.visited)\n",
    "#print (len (strategy.initial.related))\n",
    "#print (len (strategy.initial.visited))\n",
    "#print (E2P)\n",
    "print (\"Precision na Busca E2: %.2f%%\" % E2P)\n",
    "\n",
    "#print (\"Precision no Snowballing - E2:\")\n",
    "#print(len(state.related - state.find(\"s0\").related))\n",
    "#print(len(state.visited - state.find(\"s0\").visited))\n",
    "\n",
    "E2PS = len(state.related - state.find(\"s0\").related) / len(state.visited - state.find(\"s0\").visited)\n",
    "\n",
    "print (\"\\n\"\"Precision no Snowballing E2: %.2f%%\" % E2PS)\n",
    "\n",
    "print(\"Precision no Snowballing E2 - Forward - 1 iteração: %.2f%%\" % (len (state.find(\"s1\").delta_related) / len (state.find(\"s1\").delta_visited)))\n",
    "\n",
    "print(\"Precision no Snowballing E2 - Backward - 1 iteração: %.2f%%\" % (len (state.find(\"s2\").delta_related) / len (state.find(\"s2\").delta_visited)))\n",
    "\n",
    "print(\"\\n\"\"Precision E2 (Busca + Snowballing): %.2f%%\" % (len(state.related) / len(state.visited)))\n",
    "\n",
    "#len (state.find(\"s1\").related)\n",
    "\n",
    "#len (state.find(\"s1\").delta_related)\n",
    "#len (state.find(\"s1\").delta_visited)\n",
    "\n",
    "\n",
    "name = \"E2\"\n",
    "print (\"Precision \" + name)\n",
    "EP = len (state.related) / len (state.visited)\n",
    "print (EP)\n",
    "print (\"Recall \" + name)\n",
    "ER = len (state.related) / len (TOTAL)\n",
    "print (ER)\n",
    "\n",
    "array.append((name, EP, ER))"
   ]
  },
  {
   "cell_type": "code",
   "execution_count": null,
   "metadata": {
    "collapsed": true
   },
   "outputs": [],
   "source": []
  },
  {
   "cell_type": "markdown",
   "metadata": {},
   "source": [
    "### Estratégia 3 - Busca Informal (Google Scholar) + Snowballing (Guideline - sfbu)"
   ]
  },
  {
   "cell_type": "code",
   "execution_count": 36,
   "metadata": {},
   "outputs": [
    {
     "data": {
      "image/svg+xml": [
       "<?xml version=\"1.0\" encoding=\"UTF-8\" standalone=\"no\"?>\r\n",
       "<!DOCTYPE svg PUBLIC \"-//W3C//DTD SVG 1.1//EN\"\r\n",
       " \"http://www.w3.org/Graphics/SVG/1.1/DTD/svg11.dtd\">\r\n",
       "<!-- Generated by graphviz version 2.38.0 (20140413.2041)\r\n",
       " -->\r\n",
       "<!-- Title: G Pages: 1 -->\r\n",
       "<svg width=\"470pt\" height=\"176pt\"\r\n",
       " viewBox=\"0.00 0.00 470.26 175.95\" xmlns=\"http://www.w3.org/2000/svg\" xmlns:xlink=\"http://www.w3.org/1999/xlink\">\r\n",
       "<g id=\"graph0\" class=\"graph\" transform=\"scale(1 1) rotate(0) translate(4 171.953)\">\r\n",
       "<title>G</title>\r\n",
       "<polygon fill=\"white\" stroke=\"none\" points=\"-4,4 -4,-171.953 466.257,-171.953 466.257,4 -4,4\"/>\r\n",
       "<!-- s3 -->\r\n",
       "<g id=\"node1\" class=\"node\"><title>s3</title>\r\n",
       "<ellipse fill=\"none\" stroke=\"black\" cx=\"414.881\" cy=\"-86.4767\" rx=\"47.2526\" ry=\"37.4533\"/>\r\n",
       "<text text-anchor=\"middle\" x=\"414.881\" y=\"-97.7767\" font-family=\"Times New Roman,serif\" font-size=\"14.00\">s3</text>\r\n",
       "<text text-anchor=\"middle\" x=\"414.881\" y=\"-82.7767\" font-family=\"Times New Roman,serif\" font-size=\"14.00\">visited: 0</text>\r\n",
       "<text text-anchor=\"middle\" x=\"414.881\" y=\"-67.7767\" font-family=\"Times New Roman,serif\" font-size=\"14.00\">related: 0</text>\r\n",
       "</g>\r\n",
       "<!-- s1 -->\r\n",
       "<g id=\"node2\" class=\"node\"><title>s1</title>\r\n",
       "<ellipse fill=\"none\" stroke=\"black\" cx=\"233.128\" cy=\"-130.477\" rx=\"47.2526\" ry=\"37.4533\"/>\r\n",
       "<text text-anchor=\"middle\" x=\"233.128\" y=\"-141.777\" font-family=\"Times New Roman,serif\" font-size=\"14.00\">s1</text>\r\n",
       "<text text-anchor=\"middle\" x=\"233.128\" y=\"-126.777\" font-family=\"Times New Roman,serif\" font-size=\"14.00\">visited: 0</text>\r\n",
       "<text text-anchor=\"middle\" x=\"233.128\" y=\"-111.777\" font-family=\"Times New Roman,serif\" font-size=\"14.00\">related: 0</text>\r\n",
       "</g>\r\n",
       "<!-- s3&#45;&gt;s1 -->\r\n",
       "<g id=\"edge1\" class=\"edge\"><title>s3&#45;&gt;s1</title>\r\n",
       "<path fill=\"none\" stroke=\"black\" d=\"M369.448,-97.3531C345.034,-103.329 314.549,-110.791 288.698,-117.119\"/>\r\n",
       "<polygon fill=\"black\" stroke=\"black\" points=\"287.554,-113.796 278.673,-119.573 289.219,-120.595 287.554,-113.796\"/>\r\n",
       "<text text-anchor=\"middle\" x=\"324.005\" y=\"-147.277\" font-family=\"Times New Roman,serif\" font-size=\"14.00\">union</text>\r\n",
       "<text text-anchor=\"middle\" x=\"324.005\" y=\"-132.277\" font-family=\"Times New Roman,serif\" font-size=\"14.00\">found: 0</text>\r\n",
       "<text text-anchor=\"middle\" x=\"324.005\" y=\"-117.277\" font-family=\"Times New Roman,serif\" font-size=\"14.00\">related: 0</text>\r\n",
       "</g>\r\n",
       "<!-- s2 -->\r\n",
       "<g id=\"node3\" class=\"node\"><title>s2</title>\r\n",
       "<ellipse fill=\"none\" stroke=\"black\" cx=\"233.128\" cy=\"-37.4767\" rx=\"47.2526\" ry=\"37.4533\"/>\r\n",
       "<text text-anchor=\"middle\" x=\"233.128\" y=\"-48.7767\" font-family=\"Times New Roman,serif\" font-size=\"14.00\">s2</text>\r\n",
       "<text text-anchor=\"middle\" x=\"233.128\" y=\"-33.7767\" font-family=\"Times New Roman,serif\" font-size=\"14.00\">visited: 0</text>\r\n",
       "<text text-anchor=\"middle\" x=\"233.128\" y=\"-18.7767\" font-family=\"Times New Roman,serif\" font-size=\"14.00\">related: 0</text>\r\n",
       "</g>\r\n",
       "<!-- s3&#45;&gt;s2 -->\r\n",
       "<g id=\"edge2\" class=\"edge\"><title>s3&#45;&gt;s2</title>\r\n",
       "<path fill=\"none\" stroke=\"black\" d=\"M375.895,-65.1417C367.415,-61.079 358.318,-57.2396 349.505,-54.4767 330.672,-48.5725 309.452,-44.6998 290.394,-42.1675\"/>\r\n",
       "<polygon fill=\"black\" stroke=\"black\" points=\"290.708,-38.6798 280.355,-40.9281 289.851,-45.6271 290.708,-38.6798\"/>\r\n",
       "<text text-anchor=\"middle\" x=\"324.005\" y=\"-88.2767\" font-family=\"Times New Roman,serif\" font-size=\"14.00\">union</text>\r\n",
       "<text text-anchor=\"middle\" x=\"324.005\" y=\"-73.2767\" font-family=\"Times New Roman,serif\" font-size=\"14.00\">found: 0</text>\r\n",
       "<text text-anchor=\"middle\" x=\"324.005\" y=\"-58.2767\" font-family=\"Times New Roman,serif\" font-size=\"14.00\">related: 0</text>\r\n",
       "</g>\r\n",
       "<!-- s0 -->\r\n",
       "<g id=\"node4\" class=\"node\"><title>s0</title>\r\n",
       "<ellipse fill=\"none\" stroke=\"black\" cx=\"47.3762\" cy=\"-86.4767\" rx=\"47.2526\" ry=\"37.4533\"/>\r\n",
       "<text text-anchor=\"middle\" x=\"47.3762\" y=\"-97.7767\" font-family=\"Times New Roman,serif\" font-size=\"14.00\">s0</text>\r\n",
       "<text text-anchor=\"middle\" x=\"47.3762\" y=\"-82.7767\" font-family=\"Times New Roman,serif\" font-size=\"14.00\">visited: 0</text>\r\n",
       "<text text-anchor=\"middle\" x=\"47.3762\" y=\"-67.7767\" font-family=\"Times New Roman,serif\" font-size=\"14.00\">related: 0</text>\r\n",
       "</g>\r\n",
       "<!-- s1&#45;&gt;s0 -->\r\n",
       "<g id=\"edge3\" class=\"edge\"><title>s1&#45;&gt;s0</title>\r\n",
       "<path fill=\"none\" stroke=\"black\" d=\"M187.647,-119.825C162.218,-113.736 130.118,-106.05 103.146,-99.5915\"/>\r\n",
       "<polygon fill=\"black\" stroke=\"black\" points=\"103.625,-96.1072 93.0847,-97.1822 101.995,-102.915 103.625,-96.1072\"/>\r\n",
       "<text text-anchor=\"middle\" x=\"140.252\" y=\"-148.277\" font-family=\"Times New Roman,serif\" font-size=\"14.00\">forward</text>\r\n",
       "<text text-anchor=\"middle\" x=\"140.252\" y=\"-133.277\" font-family=\"Times New Roman,serif\" font-size=\"14.00\">found: 0</text>\r\n",
       "<text text-anchor=\"middle\" x=\"140.252\" y=\"-118.277\" font-family=\"Times New Roman,serif\" font-size=\"14.00\">related: 0</text>\r\n",
       "</g>\r\n",
       "<!-- s2&#45;&gt;s0 -->\r\n",
       "<g id=\"edge4\" class=\"edge\"><title>s2&#45;&gt;s0</title>\r\n",
       "<path fill=\"none\" stroke=\"black\" d=\"M185.701,-40.0118C163.271,-42.1617 136.199,-46.1346 112.752,-53.4767 106.994,-55.2799 101.129,-57.5686 95.4009,-60.0972\"/>\r\n",
       "<polygon fill=\"black\" stroke=\"black\" points=\"93.5018,-57.1219 85.9328,-64.5355 96.4729,-63.4601 93.5018,-57.1219\"/>\r\n",
       "<text text-anchor=\"middle\" x=\"140.252\" y=\"-87.2767\" font-family=\"Times New Roman,serif\" font-size=\"14.00\">backward</text>\r\n",
       "<text text-anchor=\"middle\" x=\"140.252\" y=\"-72.2767\" font-family=\"Times New Roman,serif\" font-size=\"14.00\">found: 0</text>\r\n",
       "<text text-anchor=\"middle\" x=\"140.252\" y=\"-57.2767\" font-family=\"Times New Roman,serif\" font-size=\"14.00\">related: 0</text>\r\n",
       "</g>\r\n",
       "</g>\r\n",
       "</svg>\r\n"
      ],
      "text/plain": [
       "Step(name='start', new_references=0, new_related=0, total_visited=0, total_related=0, source='', target='s0')\n",
       "Step(name='backward', new_references=0, new_related=0, total_visited=0, total_related=0, source='s0', target='s2')\n",
       "Step(name='forward', new_references=0, new_related=0, total_visited=0, total_related=0, source='s0', target='s1')\n",
       "Step(name='union', new_references=0, new_related=0, total_visited=0, total_related=0, source='s1|s2', target='s3')"
      ],
      "text/vnd.graphviz": [
       "digraph G {\n",
       "  rankdir=\"RL\";\n",
       "\n",
       "  s3 [label=\"s3\\nvisited: 0\\nrelated: 0\"];\n",
       "  s3 -> s1 [label=\"union\\nfound: 0\\nrelated: 0\"];\n",
       "  s3 -> s2 [label=\"union\\nfound: 0\\nrelated: 0\"];\n",
       "\n",
       "  s1 [label=\"s1\\nvisited: 0\\nrelated: 0\"];\n",
       "  s1 -> s0 [label=\"forward\\nfound: 0\\nrelated: 0\"];\n",
       "\n",
       "  s2 [label=\"s2\\nvisited: 0\\nrelated: 0\"];\n",
       "  s2 -> s0 [label=\"backward\\nfound: 0\\nrelated: 0\"];\n",
       "\n",
       "  s0 [label=\"s0\\nvisited: 0\\nrelated: 0\"];\n",
       "\n",
       "}"
      ]
     },
     "metadata": {},
     "output_type": "display_data"
    }
   ],
   "source": [
    "reload()\n",
    "filter_function = lambda x: x.category in (\"snowball\", \"forward\", \"backward\")\n",
    "\n",
    "strategy = Strategy(*busca(\"gs\", filter_function=filter_function))\n",
    "state = strategy.sfbu()\n",
    "state"
   ]
  },
  {
   "cell_type": "code",
   "execution_count": 37,
   "metadata": {},
   "outputs": [
    {
     "name": "stdout",
     "output_type": "stream",
     "text": [
      "Precision E3\n"
     ]
    },
    {
     "ename": "ZeroDivisionError",
     "evalue": "division by zero",
     "output_type": "error",
     "traceback": [
      "\u001b[1;31m---------------------------------------------------------------------------\u001b[0m",
      "\u001b[1;31mZeroDivisionError\u001b[0m                         Traceback (most recent call last)",
      "\u001b[1;32m<ipython-input-37-877b415a516b>\u001b[0m in \u001b[0;36m<module>\u001b[1;34m()\u001b[0m\n\u001b[0;32m      1\u001b[0m \u001b[0mname\u001b[0m \u001b[1;33m=\u001b[0m \u001b[1;34m\"E3\"\u001b[0m\u001b[1;33m\u001b[0m\u001b[0m\n\u001b[0;32m      2\u001b[0m \u001b[0mprint\u001b[0m \u001b[1;33m(\u001b[0m\u001b[1;34m\"Precision \"\u001b[0m \u001b[1;33m+\u001b[0m \u001b[0mname\u001b[0m\u001b[1;33m)\u001b[0m\u001b[1;33m\u001b[0m\u001b[0m\n\u001b[1;32m----> 3\u001b[1;33m \u001b[0mEP\u001b[0m \u001b[1;33m=\u001b[0m \u001b[0mlen\u001b[0m \u001b[1;33m(\u001b[0m\u001b[0mstate\u001b[0m\u001b[1;33m.\u001b[0m\u001b[0mrelated\u001b[0m\u001b[1;33m)\u001b[0m \u001b[1;33m/\u001b[0m \u001b[0mlen\u001b[0m \u001b[1;33m(\u001b[0m\u001b[0mstate\u001b[0m\u001b[1;33m.\u001b[0m\u001b[0mvisited\u001b[0m\u001b[1;33m)\u001b[0m\u001b[1;33m\u001b[0m\u001b[0m\n\u001b[0m\u001b[0;32m      4\u001b[0m \u001b[0mprint\u001b[0m \u001b[1;33m(\u001b[0m\u001b[0mEP\u001b[0m\u001b[1;33m)\u001b[0m\u001b[1;33m\u001b[0m\u001b[0m\n\u001b[0;32m      5\u001b[0m \u001b[0mprint\u001b[0m \u001b[1;33m(\u001b[0m\u001b[1;34m\"Recall \"\u001b[0m \u001b[1;33m+\u001b[0m \u001b[0mname\u001b[0m\u001b[1;33m)\u001b[0m\u001b[1;33m\u001b[0m\u001b[0m\n",
      "\u001b[1;31mZeroDivisionError\u001b[0m: division by zero"
     ]
    }
   ],
   "source": [
    "name = \"E3\"\n",
    "print (\"Precision \" + name)\n",
    "EP = len (state.related) / len (state.visited)\n",
    "print (EP)\n",
    "print (\"Recall \" + name)\n",
    "ER = len (state.related) / len (TOTAL)\n",
    "print (ER)\n",
    "\n",
    "array.append((name, EP, ER))"
   ]
  },
  {
   "cell_type": "markdown",
   "metadata": {},
   "source": [
    "### Estratégia 4 - Busca em Scopus + Snowballing (Guideline - sfbu)"
   ]
  },
  {
   "cell_type": "code",
   "execution_count": null,
   "metadata": {},
   "outputs": [],
   "source": [
    "reload()\n",
    "filter_function = lambda x: x.category in (\"snowball\", \"forward\", \"backward\")\n",
    "\n",
    "strategy = Strategy(*busca(\"scopus\", filter_function=filter_function))\n",
    "state = strategy.sfbu()\n",
    "state"
   ]
  },
  {
   "cell_type": "code",
   "execution_count": null,
   "metadata": {},
   "outputs": [],
   "source": [
    "name = \"E4\"\n",
    "print (\"Precision \" + name)\n",
    "EP = len (state.related) / len (state.visited)\n",
    "print (EP)\n",
    "print (\"Recall \" + name)\n",
    "ER = len (state.related) / len (TOTAL)\n",
    "print (ER)\n",
    "\n",
    "array.append((name, EP, ER))"
   ]
  },
  {
   "cell_type": "code",
   "execution_count": null,
   "metadata": {},
   "outputs": [],
   "source": [
    "state.find(\"s0\").related"
   ]
  },
  {
   "cell_type": "code",
   "execution_count": null,
   "metadata": {},
   "outputs": [],
   "source": [
    "state.find(\"s2\").related"
   ]
  },
  {
   "cell_type": "code",
   "execution_count": null,
   "metadata": {},
   "outputs": [],
   "source": [
    "state.find(\"s0\").visited"
   ]
  },
  {
   "cell_type": "code",
   "execution_count": null,
   "metadata": {},
   "outputs": [],
   "source": [
    "# Com backward de mendes2004a é possível encontrar 2 (resultado da celula)\n",
    "state.related & set(strategy.ref[work_by_varname(\"mendes2004a\")])"
   ]
  },
  {
   "cell_type": "code",
   "execution_count": null,
   "metadata": {},
   "outputs": [],
   "source": [
    "# Com backward de ... em S2, encontrou 1 (resultado da celula)\n",
    "state.find(\"s2\").delta_related & set(strategy.ref[work_by_varname(\"mendes2004a\")])"
   ]
  },
  {
   "cell_type": "code",
   "execution_count": null,
   "metadata": {},
   "outputs": [],
   "source": [
    "# Com forward de ... em S1, encontrou 1 (resultado da celula)\n",
    "state.find(\"s1\").delta_related & set(strategy.rev_ref[work_by_varname(\"mendes2004a\")])"
   ]
  },
  {
   "cell_type": "code",
   "execution_count": null,
   "metadata": {},
   "outputs": [],
   "source": [
    "len(state.find(\"s1\").delta_visited)"
   ]
  },
  {
   "cell_type": "code",
   "execution_count": null,
   "metadata": {},
   "outputs": [],
   "source": [
    "#len(state.find(\"s1\").delta_visited & set(strategy.rev_ref[work_by_varname(\"mendes2004a\")]))\n",
    "# forward\n",
    "len(set(strategy.rev_ref[work_by_varname(\"mendes2004a\")]))"
   ]
  },
  {
   "cell_type": "code",
   "execution_count": null,
   "metadata": {},
   "outputs": [],
   "source": [
    "# backward\n",
    "len(set(strategy.ref[work_by_varname(\"mendes2004a\")]))"
   ]
  },
  {
   "cell_type": "code",
   "execution_count": null,
   "metadata": {},
   "outputs": [],
   "source": [
    "search_state = strategy.initial\n",
    "search_state.related"
   ]
  },
  {
   "cell_type": "markdown",
   "metadata": {},
   "source": [
    "### Estratégia 5 - Busca em Scopus + Snowballing (Short Paper - s2ffbb2u)"
   ]
  },
  {
   "cell_type": "code",
   "execution_count": null,
   "metadata": {},
   "outputs": [],
   "source": [
    "reload()\n",
    "filter_function = lambda x: x.category in (\"snowball\", \"forward\", \"backward\")\n",
    "\n",
    "strategy = Strategy(*busca(\"scopus\", filter_function=filter_function))\n",
    "state = strategy.s2bbff2u()\n",
    "state"
   ]
  },
  {
   "cell_type": "code",
   "execution_count": null,
   "metadata": {},
   "outputs": [],
   "source": [
    "name = \"E5\"\n",
    "print (\"Precision \" + name)\n",
    "EP = len (state.related) / len (state.visited)\n",
    "print (EP)\n",
    "print (\"Recall \" + name)\n",
    "ER = len (state.related) / len (TOTAL)\n",
    "print (ER)\n",
    "\n",
    "array.append((name, EP, ER))"
   ]
  },
  {
   "cell_type": "code",
   "execution_count": null,
   "metadata": {},
   "outputs": [],
   "source": [
    "state.find(\"s0\").related "
   ]
  },
  {
   "cell_type": "code",
   "execution_count": null,
   "metadata": {},
   "outputs": [],
   "source": [
    "state.find(\"s1\").related "
   ]
  },
  {
   "cell_type": "code",
   "execution_count": null,
   "metadata": {},
   "outputs": [],
   "source": [
    "state.find(\"s5\").related "
   ]
  },
  {
   "cell_type": "code",
   "execution_count": null,
   "metadata": {},
   "outputs": [],
   "source": [
    "sx, sy = state.previous[0]\n",
    "\n",
    "sx.related & sy.related\n"
   ]
  },
  {
   "cell_type": "code",
   "execution_count": null,
   "metadata": {},
   "outputs": [],
   "source": [
    "sx.name"
   ]
  },
  {
   "cell_type": "code",
   "execution_count": null,
   "metadata": {},
   "outputs": [],
   "source": [
    "sy.name"
   ]
  },
  {
   "cell_type": "markdown",
   "metadata": {},
   "source": [
    "### Estratégia 6 - Busca em Scopus + Snowballing (JF - bbff)"
   ]
  },
  {
   "cell_type": "code",
   "execution_count": null,
   "metadata": {},
   "outputs": [],
   "source": [
    "reload()\n",
    "filter_function = lambda x: x.category in (\"snowball\", \"forward\", \"backward\")\n",
    "\n",
    "strategy = Strategy(*busca(\"scopus\", filter_function=filter_function))\n",
    "state = strategy.bbff()\n",
    "state"
   ]
  },
  {
   "cell_type": "code",
   "execution_count": null,
   "metadata": {},
   "outputs": [],
   "source": [
    "name = \"E6\"\n",
    "print (\"Precision \" + name)\n",
    "EP = len (state.related) / len (state.visited)\n",
    "print (EP)\n",
    "print (\"Recall \" + name)\n",
    "ER = len (state.related) / len (TOTAL)\n",
    "print (ER)\n",
    "\n",
    "array.append((name, EP, ER))"
   ]
  },
  {
   "cell_type": "markdown",
   "metadata": {},
   "source": [
    "### Estratégia 7 - Busca em Scopus + Snowballing (JF - ffbb)"
   ]
  },
  {
   "cell_type": "code",
   "execution_count": null,
   "metadata": {},
   "outputs": [],
   "source": [
    "reload()\n",
    "filter_function = lambda x: x.category in (\"snowball\", \"forward\", \"backward\")\n",
    "\n",
    "strategy = Strategy(*busca(\"scopus\", filter_function=filter_function))\n",
    "state = strategy.ffbb()\n",
    "state"
   ]
  },
  {
   "cell_type": "code",
   "execution_count": null,
   "metadata": {},
   "outputs": [],
   "source": [
    "name = \"E7\"\n",
    "print (\"Precision \" + name)\n",
    "EP = len (state.related) / len (state.visited)\n",
    "print (EP)\n",
    "print (\"Recall \" + name)\n",
    "ER = len (state.related) / len (TOTAL)\n",
    "print (ER)\n",
    "\n",
    "array.append((name, EP, ER))"
   ]
  },
  {
   "cell_type": "markdown",
   "metadata": {},
   "source": [
    "### Análise das Estratégias"
   ]
  },
  {
   "cell_type": "code",
   "execution_count": null,
   "metadata": {
    "collapsed": true
   },
   "outputs": [],
   "source": [
    "%matplotlib notebook\n",
    "import pandas as pd"
   ]
  },
  {
   "cell_type": "code",
   "execution_count": null,
   "metadata": {},
   "outputs": [],
   "source": [
    "df = pd.DataFrame (array,columns = ['Estratégia','Precision','Recall'])\n",
    "df.index = df['Estratégia']\n",
    "df"
   ]
  },
  {
   "cell_type": "code",
   "execution_count": null,
   "metadata": {
    "collapsed": true
   },
   "outputs": [],
   "source": []
  },
  {
   "cell_type": "code",
   "execution_count": null,
   "metadata": {},
   "outputs": [],
   "source": [
    "import matplotlib.pyplot as plt\n",
    "ax = df.plot.bar(title =\"Precision e Recall das Estratégias\")\n",
    "plt.tight_layout()\n"
   ]
  },
  {
   "cell_type": "markdown",
   "metadata": {},
   "source": [
    "## Antigo"
   ]
  },
  {
   "cell_type": "code",
   "execution_count": null,
   "metadata": {
    "collapsed": true
   },
   "outputs": [],
   "source": [
    "\n",
    "s5 = state.find(\"s5\")\n",
    "s5"
   ]
  },
  {
   "cell_type": "code",
   "execution_count": null,
   "metadata": {
    "collapsed": true
   },
   "outputs": [],
   "source": []
  },
  {
   "cell_type": "code",
   "execution_count": null,
   "metadata": {
    "collapsed": true
   },
   "outputs": [],
   "source": [
    "s5.delta_related"
   ]
  },
  {
   "cell_type": "code",
   "execution_count": null,
   "metadata": {
    "collapsed": true
   },
   "outputs": [],
   "source": [
    "state.previous[0][1].previous[0][0].related"
   ]
  },
  {
   "cell_type": "code",
   "execution_count": null,
   "metadata": {
    "collapsed": true
   },
   "outputs": [],
   "source": [
    "state"
   ]
  },
  {
   "cell_type": "code",
   "execution_count": null,
   "metadata": {
    "collapsed": true
   },
   "outputs": [],
   "source": [
    "s1 = state.find(\"s1\")\n",
    "total = sum(1 for _, w in load_work_map_all_years() if w.category == \"snowball\")"
   ]
  },
  {
   "cell_type": "code",
   "execution_count": null,
   "metadata": {
    "collapsed": true
   },
   "outputs": [],
   "source": [
    "len(s1.delta_related) / len(s1.delta_visited)"
   ]
  },
  {
   "cell_type": "code",
   "execution_count": null,
   "metadata": {
    "collapsed": true
   },
   "outputs": [],
   "source": [
    "len(s1.delta_related) / total"
   ]
  },
  {
   "cell_type": "code",
   "execution_count": null,
   "metadata": {
    "collapsed": true
   },
   "outputs": [],
   "source": [
    "len(state.related) / len(state.visited)"
   ]
  },
  {
   "cell_type": "code",
   "execution_count": null,
   "metadata": {
    "collapsed": true
   },
   "outputs": [],
   "source": [
    "len(state.related) / total"
   ]
  },
  {
   "cell_type": "code",
   "execution_count": null,
   "metadata": {
    "collapsed": true
   },
   "outputs": [],
   "source": [
    "state.log"
   ]
  },
  {
   "cell_type": "code",
   "execution_count": null,
   "metadata": {
    "collapsed": true
   },
   "outputs": [],
   "source": [
    "len(state.visited)"
   ]
  },
  {
   "cell_type": "code",
   "execution_count": null,
   "metadata": {
    "collapsed": true
   },
   "outputs": [],
   "source": [
    "with open(\"output/snowballing.provn\", \"w\") as provn:\n",
    "    provn.write(state.provn)"
   ]
  },
  {
   "cell_type": "code",
   "execution_count": null,
   "metadata": {
    "collapsed": true
   },
   "outputs": [],
   "source": [
    "!provconvert.bat -infile output/snowballing.provn -outfile output/snowballing.dot"
   ]
  },
  {
   "cell_type": "code",
   "execution_count": null,
   "metadata": {
    "collapsed": true
   },
   "outputs": [],
   "source": [
    "with open(\"output/snowballing.dot\", \"r\") as prov_dot:\n",
    "    text = prov_dot.read().replace('rankdir=\"BT\";', 'rankdir=\"RL\"; ranksep=\"0.1\";')\n",
    "with open(\"output/snowballing.dot\", \"w\") as prov_dot:\n",
    "    prov_dot.write(text)"
   ]
  },
  {
   "cell_type": "code",
   "execution_count": null,
   "metadata": {
    "collapsed": true
   },
   "outputs": [],
   "source": [
    "!dot -Tpng output/snowballing.dot -ooutput/snowballing.png\n",
    "!dot -Tsvg output/snowballing.dot -ooutput/snowballing.svg\n",
    "#!inkscape -D -z --file=output/snowballing.svg --export-pdf=output/snowballing.pdf"
   ]
  },
  {
   "cell_type": "code",
   "execution_count": null,
   "metadata": {
    "collapsed": true
   },
   "outputs": [],
   "source": [
    "from IPython.display import Image\n",
    "Image(\"output/snowballing.png\")"
   ]
  },
  {
   "cell_type": "code",
   "execution_count": null,
   "metadata": {
    "collapsed": true
   },
   "outputs": [],
   "source": [
    "log = state.log"
   ]
  },
  {
   "cell_type": "code",
   "execution_count": null,
   "metadata": {
    "collapsed": true
   },
   "outputs": [],
   "source": [
    "len([x for _, x in load_work_map_all_years() if x.category in ('snowball','ok','backward')])"
   ]
  },
  {
   "cell_type": "code",
   "execution_count": null,
   "metadata": {
    "collapsed": true
   },
   "outputs": [],
   "source": [
    "from fractions import Fraction\n",
    "for step in log:\n",
    "    print(\"precision\", Fraction(step.new_related, step.new_references))"
   ]
  },
  {
   "cell_type": "code",
   "execution_count": null,
   "metadata": {
    "collapsed": true
   },
   "outputs": [],
   "source": [
    "len([x for x in state.visited if x.category in {\"snowball\"}])"
   ]
  },
  {
   "cell_type": "code",
   "execution_count": null,
   "metadata": {
    "collapsed": true
   },
   "outputs": [],
   "source": [
    "from snowballing.approaches import get_approaches\n",
    "len(get_approaches())"
   ]
  },
  {
   "cell_type": "code",
   "execution_count": null,
   "metadata": {
    "collapsed": true
   },
   "outputs": [],
   "source": [
    "visited = state.visited\n",
    "len([(x, x.year) for x in state.visited\n",
    "     if x.category in {\"nofile\"}\n",
    "     if x.place.name != \"Tech Report\"\n",
    "     if x.place.name != \"Book\"\n",
    "     if x.place.name != \"Patent\"\n",
    "     if x.place.name == \"Conference\"\n",
    "     if x.display != x.place.acronym\n",
    "    ])\n",
    "#count = 0\n",
    "#for x in visited:\n",
    "#     if hasattr(x, 'dglibrary'):\n",
    "#        print(x.dglibrary)\n",
    "#        count = 1 + count\n",
    "#print (count)\n",
    "len([\n",
    "    (x, x.year) for x in visited\n",
    "     if hasattr(x, 'dglibrary') and x.dglibrary==\"Scopus\"\n",
    "    \n",
    "])\n",
    "\n",
    "def count_ref(library,obj):\n",
    "    len_dglibrary = len([(x, x.year) for x in obj\n",
    "                             if hasattr(x, 'dglibrary') and library in x.dglibrary  \n",
    "                        ])\n",
    "    len_backward = len([(x, x.year) for x in obj\n",
    "                             if x.category==\"backward\"  \n",
    "                        ])\n",
    "    len_forward = len([(x, x.year) for x in obj\n",
    "                             if x.category==\"forward\"  \n",
    "                        ])\n",
    "    qtdref=0\n",
    "    qtdcitations=0\n",
    "    for x in obj:\n",
    "        qtdref=qtdref + int(getattr(x, \"references\", 0))\n",
    "        \n",
    "    scopus = sum(int(getattr(x, \"scopus\", 0)) for x in obj)\n",
    "            \n",
    "    for x in obj:\n",
    "        qtdcitations=qtdcitations + int(getattr(x, \"citations\", 0))\n",
    "    return len_dglibrary,qtdref,qtdcitations,len_backward,len_forward\n",
    "     \n",
    "\n",
    "print (\"Digital Library, Referencias, Citações, Qtd Backward, Qtd Forward\")\n",
    "print(count_ref(\"Scopus\",visited))\n",
    "\n",
    "log\n",
    "\n",
    "print (log[0].name, log[0].new_references)\n",
    "print(log[1].name, log[1].new_references)\n",
    "print(log[2].name, log[2].new_references)\n",
    "print(log[3].name, log[3].new_references)\n",
    "print(\"visitados\", len(visited))"
   ]
  },
  {
   "cell_type": "code",
   "execution_count": null,
   "metadata": {
    "collapsed": true
   },
   "outputs": [],
   "source": [
    "len([x for x in visited if x.category in {\"lang\"}])"
   ]
  },
  {
   "cell_type": "code",
   "execution_count": null,
   "metadata": {
    "collapsed": true
   },
   "outputs": [],
   "source": [
    "len([x for x in visited if x.category in {\"site\"}])"
   ]
  },
  {
   "cell_type": "code",
   "execution_count": null,
   "metadata": {
    "collapsed": true
   },
   "outputs": [],
   "source": [
    "len([x for x in visited\n",
    "     if x.place.name == \"Tech Report\"\n",
    "    ])"
   ]
  },
  {
   "cell_type": "code",
   "execution_count": null,
   "metadata": {
    "collapsed": true
   },
   "outputs": [],
   "source": [
    "len([x for x in visited\n",
    "     if x.place.name == \"ESEM\"\n",
    "    ])"
   ]
  },
  {
   "cell_type": "code",
   "execution_count": null,
   "metadata": {
    "collapsed": true
   },
   "outputs": [],
   "source": [
    "{x.category for x in visited}"
   ]
  },
  {
   "cell_type": "code",
   "execution_count": null,
   "metadata": {
    "collapsed": true,
    "scrolled": true
   },
   "outputs": [],
   "source": [
    "[(x.year, x.authors, x.name, x.place.name, x.request) for x in visited\n",
    " if x.category in {\"nofile\"}\n",
    " if x.place.name != \"Tech Report\"\n",
    " if x.place.name != \"Book\"\n",
    " if x.place.name != \"Patent\"\n",
    " if x.display != x.place.acronym]"
   ]
  },
  {
   "cell_type": "code",
   "execution_count": null,
   "metadata": {
    "collapsed": true
   },
   "outputs": [],
   "source": [
    "len(_)"
   ]
  },
  {
   "cell_type": "code",
   "execution_count": null,
   "metadata": {
    "collapsed": true
   },
   "outputs": [],
   "source": []
  },
  {
   "cell_type": "code",
   "execution_count": null,
   "metadata": {
    "collapsed": true
   },
   "outputs": [],
   "source": []
  }
 ],
 "metadata": {
  "kernelspec": {
   "display_name": "Python 3",
   "language": "python",
   "name": "python3"
  },
  "language_info": {
   "codemirror_mode": {
    "name": "ipython",
    "version": 3
   },
   "file_extension": ".py",
   "mimetype": "text/x-python",
   "name": "python",
   "nbconvert_exporter": "python",
   "pygments_lexer": "ipython3",
   "version": "3.6.3"
  },
  "toc": {
   "nav_menu": {
    "height": "12px",
    "width": "252px"
   },
   "number_sections": true,
   "sideBar": true,
   "skip_h1_title": false,
   "toc_cell": false,
   "toc_position": {
    "height": "831px",
    "left": "0px",
    "right": "1438px",
    "top": "107px",
    "width": "242px"
   },
   "toc_section_display": "block",
   "toc_window_display": true
  }
 },
 "nbformat": 4,
 "nbformat_minor": 2
}
