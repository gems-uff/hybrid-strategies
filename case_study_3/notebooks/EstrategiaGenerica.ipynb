{
 "cells": [
  {
   "cell_type": "code",
   "execution_count": 147,
   "metadata": {
    "collapsed": true
   },
   "outputs": [],
   "source": [
    "import os, sys\n",
    "sys.path.insert(1, os.path.join(sys.path[0], '..'))\n",
    "import database\n",
    "from snowballing.operations import reload, work_by_varname, load_work_map_all_years\n",
    "from snowballing.strategies import Strategy, State\n",
    "from functools import reduce\n",
    "from matplotlib_venn import venn2, venn2_circles\n",
    "from matplotlib import pyplot as plt\n",
    "\n",
    "reload()\n",
    "# !pip install matplotlib-venn"
   ]
  },
  {
   "cell_type": "code",
   "execution_count": 188,
   "metadata": {
    "collapsed": true
   },
   "outputs": [],
   "source": [
    "from snowballing.models import Work\n",
    "\n",
    "class Metakey(object):\n",
    "    \n",
    "    def __rmatmul__(self, x):\n",
    "        if hasattr(x, '__iter__'):\n",
    "            return [y @ self for y in x]\n",
    "        return x.metakey\n",
    "\n",
    "class MetakeyTitle(object):\n",
    "    \n",
    "    def __rmatmul__(self, x):\n",
    "        if hasattr(x, '__iter__'):\n",
    "            return [y @ self for y in x]\n",
    "        return \"{0.metakey} - {0.name}\".format(x)\n",
    "\n",
    "    \n",
    "metakey = Metakey()\n",
    "metakey_title = MetakeyTitle()\n",
    "\n",
    "def busca(*libraries, seed=None, filter_function=None):\n",
    "    filter_function = filter_function or (lambda x: x.category in (\"snowball\",))\n",
    "    if seed is not None:\n",
    "        iterable = ((1, work_by_varname(x)) for x in seed)\n",
    "    else:\n",
    "        iterable = load_work_map_all_years()\n",
    "    seedset = set()\n",
    "    visited = set()\n",
    "    for _, work in iterable:\n",
    "        for library in libraries:\n",
    "            if int(getattr(work, library, 0)):\n",
    "                visited.add(work)\n",
    "                if filter_function(work):\n",
    "                    seedset.add(work)\n",
    "                break\n",
    "    return seedset, filter_function, visited\n",
    "\n",
    "def descreve_delta(strategy, state, name):\n",
    "    target = state.find(name)\n",
    "    previous_related = reduce(lambda x, y: x | y, (s.related for s in target.previous[0]), set())\n",
    "    for work in previous_related:\n",
    "        backward = set(strategy.ref[work]) & target.delta_visited\n",
    "        if backward:\n",
    "            print('backward', work.metakey)\n",
    "            for ref in backward:\n",
    "                print('-', ref.metakey, 'related' if ref in target.delta_related else '')\n",
    "        forward = set(strategy.rev_ref[work]) & target.delta_visited\n",
    "        if forward:\n",
    "            print('forward', work.metakey)\n",
    "            for ref in forward:\n",
    "                print('-', ref.metakey, 'related' if ref in target.delta_related else '')\n",
    "\n",
    "def separa_backward_forward(state):\n",
    "    backward = set()\n",
    "    forward = set()\n",
    "    stack = [state]\n",
    "    visited = {id(state)}\n",
    "    while stack:\n",
    "        current = stack.pop()\n",
    "        if current.previous:\n",
    "            if current.previous[1] == \"backward\":\n",
    "                backward |= current.delta_related\n",
    "            if current.previous[1] == \"forward\":\n",
    "                forward |= current.delta_related\n",
    "                \n",
    "            antecessors = current.previous[0]\n",
    "            for previous in antecessors:\n",
    "                if id(previous) not in visited:\n",
    "                    visited.add(id(previous))\n",
    "                    stack.append(previous)\n",
    "    return backward, forward\n",
    "\n",
    "def encontraria(strategy, state):\n",
    "    backward = set()\n",
    "    forward = set()\n",
    "    for work in state.related - state.find(\"s0\").related:\n",
    "        backward |= (set(strategy.ref[work]) & state.related)\n",
    "        forward |= (set(strategy.rev_ref[work]) & state.related)\n",
    "    return backward, forward\n",
    "\n",
    "#busca(\"scopus\", seed=[\"wohlin2014a\", \"briand2000a\"], filter_function=lambda x: True)\n",
    "#busca(\"scopus\", filter_function=lambda x: False)"
   ]
  },
  {
   "cell_type": "markdown",
   "metadata": {},
   "source": [
    "### Snowballing - Busca via FS e BS no Artigo mais Citado (Seed Set = 1)\n",
    "\n",
    "Não realiza busca em DL.\n",
    "Realiza uma busca, via Forward e/ou via Backward para encontrar artigos do seed set no artigo mais citado, exemplo, mendes2004a."
   ]
  },
  {
   "cell_type": "markdown",
   "metadata": {},
   "source": [
    "### Forward"
   ]
  },
  {
   "cell_type": "code",
   "execution_count": 64,
   "metadata": {
    "scrolled": true
   },
   "outputs": [
    {
     "data": {
      "text/plain": [
       "{Building software cost estimation models using homogenous data,\n",
       " Web effort estimation: The value of cross-company data set compared to single-company data set}"
      ]
     },
     "execution_count": 64,
     "metadata": {},
     "output_type": "execute_result"
    }
   ],
   "source": [
    "### Delta Related = Conector do nó\n",
    "strategy = Strategy({work_by_varname(\"mendes2004a\")})\n",
    "strategy.forward().delta_related"
   ]
  },
  {
   "cell_type": "code",
   "execution_count": 65,
   "metadata": {
    "scrolled": true
   },
   "outputs": [
    {
     "data": {
      "text/plain": [
       "{'briand1999a',\n",
       " 'briand2000a',\n",
       " 'christodoulou2000a',\n",
       " 'cook1977a',\n",
       " 'jeffery2000a',\n",
       " 'jeffery2001a',\n",
       " 'kemerer1987a',\n",
       " 'kitchenham1984a',\n",
       " 'kitchenham1998a',\n",
       " 'kitchenham2001a',\n",
       " 'kitchenham2004a',\n",
       " 'maxwell2002a',\n",
       " 'mendes2003a',\n",
       " 'mendes2003b',\n",
       " 'mendes2004a',\n",
       " 'shepperd2001a',\n",
       " 'wieczorek2002a',\n",
       " 'wilcoxon1945a'}"
      ]
     },
     "execution_count": 65,
     "metadata": {},
     "output_type": "execute_result"
    }
   ],
   "source": [
    "\n",
    "{x.metakey for x in strategy.backward().visited}\n"
   ]
  },
  {
   "cell_type": "code",
   "execution_count": 66,
   "metadata": {
    "scrolled": true
   },
   "outputs": [
    {
     "data": {
      "image/svg+xml": [
       "<?xml version=\"1.0\" encoding=\"UTF-8\" standalone=\"no\"?>\r\n",
       "<!DOCTYPE svg PUBLIC \"-//W3C//DTD SVG 1.1//EN\"\r\n",
       " \"http://www.w3.org/Graphics/SVG/1.1/DTD/svg11.dtd\">\r\n",
       "<!-- Generated by graphviz version 2.38.0 (20140413.2041)\r\n",
       " -->\r\n",
       "<!-- Title: G Pages: 1 -->\r\n",
       "<svg width=\"296pt\" height=\"90pt\"\r\n",
       " viewBox=\"0.00 0.00 295.99 90.48\" xmlns=\"http://www.w3.org/2000/svg\" xmlns:xlink=\"http://www.w3.org/1999/xlink\">\r\n",
       "<g id=\"graph0\" class=\"graph\" transform=\"scale(1 1) rotate(0) translate(4 86.4767)\">\r\n",
       "<title>G</title>\r\n",
       "<polygon fill=\"white\" stroke=\"none\" points=\"-4,4 -4,-86.4767 291.99,-86.4767 291.99,4 -4,4\"/>\r\n",
       "<!-- s1 -->\r\n",
       "<g id=\"node1\" class=\"node\"><title>s1</title>\r\n",
       "<ellipse fill=\"none\" stroke=\"black\" cx=\"236.371\" cy=\"-37.4767\" rx=\"51.7379\" ry=\"37.4533\"/>\r\n",
       "<text text-anchor=\"middle\" x=\"236.371\" y=\"-48.7767\" font-family=\"Times New Roman,serif\" font-size=\"14.00\">s1</text>\r\n",
       "<text text-anchor=\"middle\" x=\"236.371\" y=\"-33.7767\" font-family=\"Times New Roman,serif\" font-size=\"14.00\">visited: 61</text>\r\n",
       "<text text-anchor=\"middle\" x=\"236.371\" y=\"-18.7767\" font-family=\"Times New Roman,serif\" font-size=\"14.00\">related: 3</text>\r\n",
       "</g>\r\n",
       "<!-- s0 -->\r\n",
       "<g id=\"node2\" class=\"node\"><title>s0</title>\r\n",
       "<ellipse fill=\"none\" stroke=\"black\" cx=\"47.3762\" cy=\"-37.4767\" rx=\"47.2526\" ry=\"37.4533\"/>\r\n",
       "<text text-anchor=\"middle\" x=\"47.3762\" y=\"-48.7767\" font-family=\"Times New Roman,serif\" font-size=\"14.00\">s0</text>\r\n",
       "<text text-anchor=\"middle\" x=\"47.3762\" y=\"-33.7767\" font-family=\"Times New Roman,serif\" font-size=\"14.00\">visited: 1</text>\r\n",
       "<text text-anchor=\"middle\" x=\"47.3762\" y=\"-18.7767\" font-family=\"Times New Roman,serif\" font-size=\"14.00\">related: 1</text>\r\n",
       "</g>\r\n",
       "<!-- s1&#45;&gt;s0 -->\r\n",
       "<g id=\"edge1\" class=\"edge\"><title>s1&#45;&gt;s0</title>\r\n",
       "<path fill=\"none\" stroke=\"black\" d=\"M184.274,-37.4767C159.753,-37.4767 130.296,-37.4767 105.085,-37.4767\"/>\r\n",
       "<polygon fill=\"black\" stroke=\"black\" points=\"104.93,-33.9768 94.9301,-37.4767 104.93,-40.9768 104.93,-33.9768\"/>\r\n",
       "<text text-anchor=\"middle\" x=\"139.752\" y=\"-71.2767\" font-family=\"Times New Roman,serif\" font-size=\"14.00\">forward</text>\r\n",
       "<text text-anchor=\"middle\" x=\"139.752\" y=\"-56.2767\" font-family=\"Times New Roman,serif\" font-size=\"14.00\">found: 60</text>\r\n",
       "<text text-anchor=\"middle\" x=\"139.752\" y=\"-41.2767\" font-family=\"Times New Roman,serif\" font-size=\"14.00\">related: 2</text>\r\n",
       "</g>\r\n",
       "</g>\r\n",
       "</svg>\r\n"
      ],
      "text/plain": [
       "Step(name='start', new_references=1, new_related=1, total_visited=1, total_related=1, source='', target='s0')\n",
       "Step(name='forward', new_references=60, new_related=2, total_visited=61, total_related=3, source='s0', target='s1')"
      ],
      "text/vnd.graphviz": [
       "digraph G {\n",
       "  rankdir=\"RL\";\n",
       "\n",
       "  s1 [label=\"s1\\nvisited: 61\\nrelated: 3\"];\n",
       "  s1 -> s0 [label=\"forward\\nfound: 60\\nrelated: 2\"];\n",
       "\n",
       "  s0 [label=\"s0\\nvisited: 1\\nrelated: 1\"];\n",
       "\n",
       "}"
      ]
     },
     "metadata": {},
     "output_type": "display_data"
    }
   ],
   "source": [
    "### Grafo\n",
    "strategy = Strategy({work_by_varname(\"mendes2004a\")})\n",
    "State.last_id = 0\n",
    "strategy.forward()"
   ]
  },
  {
   "cell_type": "code",
   "execution_count": 67,
   "metadata": {
    "scrolled": true
   },
   "outputs": [
    {
     "data": {
      "text/plain": [
       "{Building software cost estimation models using homogenous data,\n",
       " Web effort estimation: The value of cross-company data set compared to single-company data set,\n",
       " Further comparison of cross-company and within-company effort estimation models for web applications}"
      ]
     },
     "execution_count": 67,
     "metadata": {},
     "output_type": "execute_result"
    }
   ],
   "source": [
    "### Related do S1\n",
    "strategy = Strategy({work_by_varname(\"mendes2004a\")})\n",
    "State.last_id = 0\n",
    "strategy.forward().related"
   ]
  },
  {
   "cell_type": "markdown",
   "metadata": {},
   "source": [
    "### Backward"
   ]
  },
  {
   "cell_type": "code",
   "execution_count": 68,
   "metadata": {
    "scrolled": true
   },
   "outputs": [
    {
     "data": {
      "text/plain": [
       "{A comparison of cross-company and within-company effort estimation models for web applications}"
      ]
     },
     "execution_count": 68,
     "metadata": {},
     "output_type": "execute_result"
    }
   ],
   "source": [
    "strategy = Strategy({work_by_varname(\"mendes2004a\")})\n",
    "State.last_id = 0\n",
    "strategy.backward().delta_related"
   ]
  },
  {
   "cell_type": "code",
   "execution_count": 69,
   "metadata": {
    "scrolled": true
   },
   "outputs": [
    {
     "data": {
      "text/plain": [
       "{An empirical validation of software cost estimation models,\n",
       " Assessment and comparison of common software cost estimation modeling techniques,\n",
       " A replicated assessment and comparison of common software cost modeling techniques,\n",
       " A procedure for analyzing unbalanced datasets,\n",
       " Further comparison of cross-company and within-company effort estimation models for web applications,\n",
       " What accuracy statistics really measure,\n",
       " How valuable is company-specific data compared to multi-company data for software cost estimation?,\n",
       " Using public domain metrics to estimate software development effort,\n",
       " WWW2000: The Developer's view and a practitioner's approach to Web Engineering,\n",
       " Using simulation to evaluate prediction techniques,\n",
       " Applied statistics for software managers,\n",
       " Individual comparisons by ranking methods,\n",
       " A comparative study of two software development cost modeling techniques using multi-organizational and company-specific data,\n",
       " A comparison of cross-company and within-company effort estimation models for web applications,\n",
       " Software cost models,\n",
       " A replicated assessment of the use of adaptation rules to improve Web cost estimation,\n",
       " Detection of influential observation in linear regression,\n",
       " Investigating early web size measures for web cost estimation}"
      ]
     },
     "execution_count": 69,
     "metadata": {},
     "output_type": "execute_result"
    }
   ],
   "source": [
    "strategy = Strategy({work_by_varname(\"mendes2004a\")})\n",
    "State.last_id = 0\n",
    "strategy.backward().visited"
   ]
  },
  {
   "cell_type": "code",
   "execution_count": 70,
   "metadata": {
    "scrolled": true
   },
   "outputs": [
    {
     "data": {
      "image/svg+xml": [
       "<?xml version=\"1.0\" encoding=\"UTF-8\" standalone=\"no\"?>\r\n",
       "<!DOCTYPE svg PUBLIC \"-//W3C//DTD SVG 1.1//EN\"\r\n",
       " \"http://www.w3.org/Graphics/SVG/1.1/DTD/svg11.dtd\">\r\n",
       "<!-- Generated by graphviz version 2.38.0 (20140413.2041)\r\n",
       " -->\r\n",
       "<!-- Title: G Pages: 1 -->\r\n",
       "<svg width=\"297pt\" height=\"90pt\"\r\n",
       " viewBox=\"0.00 0.00 296.99 90.48\" xmlns=\"http://www.w3.org/2000/svg\" xmlns:xlink=\"http://www.w3.org/1999/xlink\">\r\n",
       "<g id=\"graph0\" class=\"graph\" transform=\"scale(1 1) rotate(0) translate(4 86.4767)\">\r\n",
       "<title>G</title>\r\n",
       "<polygon fill=\"white\" stroke=\"none\" points=\"-4,4 -4,-86.4767 292.99,-86.4767 292.99,4 -4,4\"/>\r\n",
       "<!-- s1 -->\r\n",
       "<g id=\"node1\" class=\"node\"><title>s1</title>\r\n",
       "<ellipse fill=\"none\" stroke=\"black\" cx=\"237.371\" cy=\"-37.4767\" rx=\"51.7379\" ry=\"37.4533\"/>\r\n",
       "<text text-anchor=\"middle\" x=\"237.371\" y=\"-48.7767\" font-family=\"Times New Roman,serif\" font-size=\"14.00\">s1</text>\r\n",
       "<text text-anchor=\"middle\" x=\"237.371\" y=\"-33.7767\" font-family=\"Times New Roman,serif\" font-size=\"14.00\">visited: 18</text>\r\n",
       "<text text-anchor=\"middle\" x=\"237.371\" y=\"-18.7767\" font-family=\"Times New Roman,serif\" font-size=\"14.00\">related: 2</text>\r\n",
       "</g>\r\n",
       "<!-- s0 -->\r\n",
       "<g id=\"node2\" class=\"node\"><title>s0</title>\r\n",
       "<ellipse fill=\"none\" stroke=\"black\" cx=\"47.3762\" cy=\"-37.4767\" rx=\"47.2526\" ry=\"37.4533\"/>\r\n",
       "<text text-anchor=\"middle\" x=\"47.3762\" y=\"-48.7767\" font-family=\"Times New Roman,serif\" font-size=\"14.00\">s0</text>\r\n",
       "<text text-anchor=\"middle\" x=\"47.3762\" y=\"-33.7767\" font-family=\"Times New Roman,serif\" font-size=\"14.00\">visited: 1</text>\r\n",
       "<text text-anchor=\"middle\" x=\"47.3762\" y=\"-18.7767\" font-family=\"Times New Roman,serif\" font-size=\"14.00\">related: 1</text>\r\n",
       "</g>\r\n",
       "<!-- s1&#45;&gt;s0 -->\r\n",
       "<g id=\"edge1\" class=\"edge\"><title>s1&#45;&gt;s0</title>\r\n",
       "<path fill=\"none\" stroke=\"black\" d=\"M185.497,-37.4767C160.648,-37.4767 130.665,-37.4767 105.082,-37.4767\"/>\r\n",
       "<polygon fill=\"black\" stroke=\"black\" points=\"104.783,-33.9768 94.7827,-37.4767 104.783,-40.9768 104.783,-33.9768\"/>\r\n",
       "<text text-anchor=\"middle\" x=\"140.252\" y=\"-71.2767\" font-family=\"Times New Roman,serif\" font-size=\"14.00\">backward</text>\r\n",
       "<text text-anchor=\"middle\" x=\"140.252\" y=\"-56.2767\" font-family=\"Times New Roman,serif\" font-size=\"14.00\">found: 17</text>\r\n",
       "<text text-anchor=\"middle\" x=\"140.252\" y=\"-41.2767\" font-family=\"Times New Roman,serif\" font-size=\"14.00\">related: 1</text>\r\n",
       "</g>\r\n",
       "</g>\r\n",
       "</svg>\r\n"
      ],
      "text/plain": [
       "Step(name='start', new_references=1, new_related=1, total_visited=1, total_related=1, source='', target='s0')\n",
       "Step(name='backward', new_references=17, new_related=1, total_visited=18, total_related=2, source='s0', target='s1')"
      ],
      "text/vnd.graphviz": [
       "digraph G {\n",
       "  rankdir=\"RL\";\n",
       "\n",
       "  s1 [label=\"s1\\nvisited: 18\\nrelated: 2\"];\n",
       "  s1 -> s0 [label=\"backward\\nfound: 17\\nrelated: 1\"];\n",
       "\n",
       "  s0 [label=\"s0\\nvisited: 1\\nrelated: 1\"];\n",
       "\n",
       "}"
      ]
     },
     "metadata": {},
     "output_type": "display_data"
    }
   ],
   "source": [
    "strategy = Strategy({work_by_varname(\"mendes2004a\")})\n",
    "State.last_id = 0\n",
    "strategy.backward()"
   ]
  },
  {
   "cell_type": "code",
   "execution_count": 71,
   "metadata": {
    "scrolled": true
   },
   "outputs": [
    {
     "data": {
      "text/plain": [
       "'s1'"
      ]
     },
     "execution_count": 71,
     "metadata": {},
     "output_type": "execute_result"
    }
   ],
   "source": [
    "strategy = Strategy({work_by_varname(\"mendes2004a\")})\n",
    "State.last_id = 0\n",
    "strategy.backward().name"
   ]
  },
  {
   "cell_type": "markdown",
   "metadata": {},
   "source": [
    "### Snowballing - Forward and Backward - Union (N vezes)"
   ]
  },
  {
   "cell_type": "code",
   "execution_count": 72,
   "metadata": {
    "scrolled": true
   },
   "outputs": [
    {
     "data": {
      "image/svg+xml": [
       "<?xml version=\"1.0\" encoding=\"UTF-8\" standalone=\"no\"?>\r\n",
       "<!DOCTYPE svg PUBLIC \"-//W3C//DTD SVG 1.1//EN\"\r\n",
       " \"http://www.w3.org/Graphics/SVG/1.1/DTD/svg11.dtd\">\r\n",
       "<!-- Generated by graphviz version 2.38.0 (20140413.2041)\r\n",
       " -->\r\n",
       "<!-- Title: G Pages: 1 -->\r\n",
       "<svg width=\"872pt\" height=\"185pt\"\r\n",
       " viewBox=\"0.00 0.00 871.70 184.95\" xmlns=\"http://www.w3.org/2000/svg\" xmlns:xlink=\"http://www.w3.org/1999/xlink\">\r\n",
       "<g id=\"graph0\" class=\"graph\" transform=\"scale(1 1) rotate(0) translate(4 180.953)\">\r\n",
       "<title>G</title>\r\n",
       "<polygon fill=\"white\" stroke=\"none\" points=\"-4,4 -4,-180.953 867.703,-180.953 867.703,4 -4,4\"/>\r\n",
       "<!-- s6 -->\r\n",
       "<g id=\"node1\" class=\"node\"><title>s6</title>\r\n",
       "<ellipse fill=\"none\" stroke=\"black\" cx=\"812.084\" cy=\"-86.4767\" rx=\"51.7379\" ry=\"37.4533\"/>\r\n",
       "<text text-anchor=\"middle\" x=\"812.084\" y=\"-97.7767\" font-family=\"Times New Roman,serif\" font-size=\"14.00\">s6</text>\r\n",
       "<text text-anchor=\"middle\" x=\"812.084\" y=\"-82.7767\" font-family=\"Times New Roman,serif\" font-size=\"14.00\">visited: 99</text>\r\n",
       "<text text-anchor=\"middle\" x=\"812.084\" y=\"-67.7767\" font-family=\"Times New Roman,serif\" font-size=\"14.00\">related: 4</text>\r\n",
       "</g>\r\n",
       "<!-- s4 -->\r\n",
       "<g id=\"node2\" class=\"node\"><title>s4</title>\r\n",
       "<ellipse fill=\"none\" stroke=\"black\" cx=\"621.846\" cy=\"-130.477\" rx=\"51.7379\" ry=\"37.4533\"/>\r\n",
       "<text text-anchor=\"middle\" x=\"621.846\" y=\"-141.777\" font-family=\"Times New Roman,serif\" font-size=\"14.00\">s4</text>\r\n",
       "<text text-anchor=\"middle\" x=\"621.846\" y=\"-126.777\" font-family=\"Times New Roman,serif\" font-size=\"14.00\">visited: 88</text>\r\n",
       "<text text-anchor=\"middle\" x=\"621.846\" y=\"-111.777\" font-family=\"Times New Roman,serif\" font-size=\"14.00\">related: 4</text>\r\n",
       "</g>\r\n",
       "<!-- s6&#45;&gt;s4 -->\r\n",
       "<g id=\"edge1\" class=\"edge\"><title>s6&#45;&gt;s4</title>\r\n",
       "<path fill=\"none\" stroke=\"black\" d=\"M762.608,-97.8078C737.687,-103.633 707.133,-110.775 680.956,-116.894\"/>\r\n",
       "<polygon fill=\"black\" stroke=\"black\" points=\"680.099,-113.5 671.158,-119.184 681.692,-120.316 680.099,-113.5\"/>\r\n",
       "<text text-anchor=\"middle\" x=\"716.965\" y=\"-147.277\" font-family=\"Times New Roman,serif\" font-size=\"14.00\">union</text>\r\n",
       "<text text-anchor=\"middle\" x=\"716.965\" y=\"-132.277\" font-family=\"Times New Roman,serif\" font-size=\"14.00\">found: 0</text>\r\n",
       "<text text-anchor=\"middle\" x=\"716.965\" y=\"-117.277\" font-family=\"Times New Roman,serif\" font-size=\"14.00\">related: 0</text>\r\n",
       "</g>\r\n",
       "<!-- s5 -->\r\n",
       "<g id=\"node3\" class=\"node\"><title>s5</title>\r\n",
       "<ellipse fill=\"none\" stroke=\"black\" cx=\"621.846\" cy=\"-37.4767\" rx=\"51.7379\" ry=\"37.4533\"/>\r\n",
       "<text text-anchor=\"middle\" x=\"621.846\" y=\"-48.7767\" font-family=\"Times New Roman,serif\" font-size=\"14.00\">s5</text>\r\n",
       "<text text-anchor=\"middle\" x=\"621.846\" y=\"-33.7767\" font-family=\"Times New Roman,serif\" font-size=\"14.00\">visited: 89</text>\r\n",
       "<text text-anchor=\"middle\" x=\"621.846\" y=\"-18.7767\" font-family=\"Times New Roman,serif\" font-size=\"14.00\">related: 4</text>\r\n",
       "</g>\r\n",
       "<!-- s6&#45;&gt;s5 -->\r\n",
       "<g id=\"edge2\" class=\"edge\"><title>s6&#45;&gt;s5</title>\r\n",
       "<path fill=\"none\" stroke=\"black\" d=\"M769.756,-64.8235C760.934,-60.8822 751.537,-57.1718 742.465,-54.4767 723.631,-48.8817 702.566,-45.1051 683.424,-42.5653\"/>\r\n",
       "<polygon fill=\"black\" stroke=\"black\" points=\"683.667,-39.0689 673.313,-41.3124 682.807,-46.0157 683.667,-39.0689\"/>\r\n",
       "<text text-anchor=\"middle\" x=\"716.965\" y=\"-88.2767\" font-family=\"Times New Roman,serif\" font-size=\"14.00\">union</text>\r\n",
       "<text text-anchor=\"middle\" x=\"716.965\" y=\"-73.2767\" font-family=\"Times New Roman,serif\" font-size=\"14.00\">found: 0</text>\r\n",
       "<text text-anchor=\"middle\" x=\"716.965\" y=\"-58.2767\" font-family=\"Times New Roman,serif\" font-size=\"14.00\">related: 0</text>\r\n",
       "</g>\r\n",
       "<!-- s3 -->\r\n",
       "<g id=\"node4\" class=\"node\"><title>s3</title>\r\n",
       "<ellipse fill=\"none\" stroke=\"black\" cx=\"427.609\" cy=\"-86.4767\" rx=\"51.7379\" ry=\"37.4533\"/>\r\n",
       "<text text-anchor=\"middle\" x=\"427.609\" y=\"-97.7767\" font-family=\"Times New Roman,serif\" font-size=\"14.00\">s3</text>\r\n",
       "<text text-anchor=\"middle\" x=\"427.609\" y=\"-82.7767\" font-family=\"Times New Roman,serif\" font-size=\"14.00\">visited: 78</text>\r\n",
       "<text text-anchor=\"middle\" x=\"427.609\" y=\"-67.7767\" font-family=\"Times New Roman,serif\" font-size=\"14.00\">related: 4</text>\r\n",
       "</g>\r\n",
       "<!-- s4&#45;&gt;s3 -->\r\n",
       "<g id=\"edge3\" class=\"edge\"><title>s4&#45;&gt;s3</title>\r\n",
       "<path fill=\"none\" stroke=\"black\" d=\"M572.337,-119.374C546.382,-113.433 514.232,-106.074 486.924,-99.8241\"/>\r\n",
       "<polygon fill=\"black\" stroke=\"black\" points=\"487.632,-96.3956 477.103,-97.5762 486.07,-103.219 487.632,-96.3956\"/>\r\n",
       "<text text-anchor=\"middle\" x=\"524.727\" y=\"-147.277\" font-family=\"Times New Roman,serif\" font-size=\"14.00\">forward</text>\r\n",
       "<text text-anchor=\"middle\" x=\"524.727\" y=\"-132.277\" font-family=\"Times New Roman,serif\" font-size=\"14.00\">found: 10</text>\r\n",
       "<text text-anchor=\"middle\" x=\"524.727\" y=\"-117.277\" font-family=\"Times New Roman,serif\" font-size=\"14.00\">related: 0</text>\r\n",
       "</g>\r\n",
       "<!-- s5&#45;&gt;s3 -->\r\n",
       "<g id=\"edge4\" class=\"edge\"><title>s5&#45;&gt;s3</title>\r\n",
       "<path fill=\"none\" stroke=\"black\" d=\"M570.203,-40.988C547.547,-43.4354 520.709,-47.5584 497.227,-54.4767 491.27,-56.2319 485.174,-58.4293 479.193,-60.8459\"/>\r\n",
       "<polygon fill=\"black\" stroke=\"black\" points=\"477.757,-57.6536 469.927,-64.7918 480.499,-64.0939 477.757,-57.6536\"/>\r\n",
       "<text text-anchor=\"middle\" x=\"524.727\" y=\"-88.2767\" font-family=\"Times New Roman,serif\" font-size=\"14.00\">backward</text>\r\n",
       "<text text-anchor=\"middle\" x=\"524.727\" y=\"-73.2767\" font-family=\"Times New Roman,serif\" font-size=\"14.00\">found: 11</text>\r\n",
       "<text text-anchor=\"middle\" x=\"524.727\" y=\"-58.2767\" font-family=\"Times New Roman,serif\" font-size=\"14.00\">related: 0</text>\r\n",
       "</g>\r\n",
       "<!-- s1 -->\r\n",
       "<g id=\"node5\" class=\"node\"><title>s1</title>\r\n",
       "<ellipse fill=\"none\" stroke=\"black\" cx=\"237.371\" cy=\"-139.477\" rx=\"51.7379\" ry=\"37.4533\"/>\r\n",
       "<text text-anchor=\"middle\" x=\"237.371\" y=\"-150.777\" font-family=\"Times New Roman,serif\" font-size=\"14.00\">s1</text>\r\n",
       "<text text-anchor=\"middle\" x=\"237.371\" y=\"-135.777\" font-family=\"Times New Roman,serif\" font-size=\"14.00\">visited: 61</text>\r\n",
       "<text text-anchor=\"middle\" x=\"237.371\" y=\"-120.777\" font-family=\"Times New Roman,serif\" font-size=\"14.00\">related: 3</text>\r\n",
       "</g>\r\n",
       "<!-- s3&#45;&gt;s1 -->\r\n",
       "<g id=\"edge5\" class=\"edge\"><title>s3&#45;&gt;s1</title>\r\n",
       "<path fill=\"none\" stroke=\"black\" d=\"M381.044,-103.117C373.389,-105.71 365.494,-108.26 357.99,-110.477 338.269,-116.3 316.473,-121.843 296.948,-126.494\"/>\r\n",
       "<polygon fill=\"black\" stroke=\"black\" points=\"295.901,-123.145 286.968,-128.841 297.504,-129.959 295.901,-123.145\"/>\r\n",
       "<text text-anchor=\"middle\" x=\"332.49\" y=\"-157.277\" font-family=\"Times New Roman,serif\" font-size=\"14.00\">union</text>\r\n",
       "<text text-anchor=\"middle\" x=\"332.49\" y=\"-142.277\" font-family=\"Times New Roman,serif\" font-size=\"14.00\">found: 0</text>\r\n",
       "<text text-anchor=\"middle\" x=\"332.49\" y=\"-127.277\" font-family=\"Times New Roman,serif\" font-size=\"14.00\">related: 0</text>\r\n",
       "</g>\r\n",
       "<!-- s2 -->\r\n",
       "<g id=\"node6\" class=\"node\"><title>s2</title>\r\n",
       "<ellipse fill=\"none\" stroke=\"black\" cx=\"237.371\" cy=\"-46.4767\" rx=\"51.7379\" ry=\"37.4533\"/>\r\n",
       "<text text-anchor=\"middle\" x=\"237.371\" y=\"-57.7767\" font-family=\"Times New Roman,serif\" font-size=\"14.00\">s2</text>\r\n",
       "<text text-anchor=\"middle\" x=\"237.371\" y=\"-42.7767\" font-family=\"Times New Roman,serif\" font-size=\"14.00\">visited: 18</text>\r\n",
       "<text text-anchor=\"middle\" x=\"237.371\" y=\"-27.7767\" font-family=\"Times New Roman,serif\" font-size=\"14.00\">related: 2</text>\r\n",
       "</g>\r\n",
       "<!-- s3&#45;&gt;s2 -->\r\n",
       "<g id=\"edge6\" class=\"edge\"><title>s3&#45;&gt;s2</title>\r\n",
       "<path fill=\"none\" stroke=\"black\" d=\"M380.338,-71.3583C372.911,-69.2091 365.273,-67.1608 357.99,-65.4767 338.801,-61.0392 317.64,-57.3053 298.52,-54.3543\"/>\r\n",
       "<polygon fill=\"black\" stroke=\"black\" points=\"298.84,-50.8633 288.431,-52.8395 297.801,-57.7857 298.84,-50.8633\"/>\r\n",
       "<text text-anchor=\"middle\" x=\"332.49\" y=\"-99.2767\" font-family=\"Times New Roman,serif\" font-size=\"14.00\">union</text>\r\n",
       "<text text-anchor=\"middle\" x=\"332.49\" y=\"-84.2767\" font-family=\"Times New Roman,serif\" font-size=\"14.00\">found: 0</text>\r\n",
       "<text text-anchor=\"middle\" x=\"332.49\" y=\"-69.2767\" font-family=\"Times New Roman,serif\" font-size=\"14.00\">related: 0</text>\r\n",
       "</g>\r\n",
       "<!-- s0 -->\r\n",
       "<g id=\"node7\" class=\"node\"><title>s0</title>\r\n",
       "<ellipse fill=\"none\" stroke=\"black\" cx=\"47.3762\" cy=\"-95.4767\" rx=\"47.2526\" ry=\"37.4533\"/>\r\n",
       "<text text-anchor=\"middle\" x=\"47.3762\" y=\"-106.777\" font-family=\"Times New Roman,serif\" font-size=\"14.00\">s0</text>\r\n",
       "<text text-anchor=\"middle\" x=\"47.3762\" y=\"-91.7767\" font-family=\"Times New Roman,serif\" font-size=\"14.00\">visited: 1</text>\r\n",
       "<text text-anchor=\"middle\" x=\"47.3762\" y=\"-76.7767\" font-family=\"Times New Roman,serif\" font-size=\"14.00\">related: 1</text>\r\n",
       "</g>\r\n",
       "<!-- s1&#45;&gt;s0 -->\r\n",
       "<g id=\"edge7\" class=\"edge\"><title>s1&#45;&gt;s0</title>\r\n",
       "<path fill=\"none\" stroke=\"black\" d=\"M187.958,-128.146C162.008,-122.072 129.942,-114.567 103.091,-108.283\"/>\r\n",
       "<polygon fill=\"black\" stroke=\"black\" points=\"103.614,-104.81 93.0792,-105.939 102.018,-111.626 103.614,-104.81\"/>\r\n",
       "<text text-anchor=\"middle\" x=\"140.252\" y=\"-156.277\" font-family=\"Times New Roman,serif\" font-size=\"14.00\">forward</text>\r\n",
       "<text text-anchor=\"middle\" x=\"140.252\" y=\"-141.277\" font-family=\"Times New Roman,serif\" font-size=\"14.00\">found: 60</text>\r\n",
       "<text text-anchor=\"middle\" x=\"140.252\" y=\"-126.277\" font-family=\"Times New Roman,serif\" font-size=\"14.00\">related: 2</text>\r\n",
       "</g>\r\n",
       "<!-- s2&#45;&gt;s0 -->\r\n",
       "<g id=\"edge8\" class=\"edge\"><title>s2&#45;&gt;s0</title>\r\n",
       "<path fill=\"none\" stroke=\"black\" d=\"M185.57,-48.4583C162.884,-50.4019 136.067,-54.1796 112.752,-61.4767 106.736,-63.3596 100.621,-65.7994 94.673,-68.5076\"/>\r\n",
       "<polygon fill=\"black\" stroke=\"black\" points=\"92.9815,-65.4378 85.5031,-72.9428 96.0294,-71.7395 92.9815,-65.4378\"/>\r\n",
       "<text text-anchor=\"middle\" x=\"140.252\" y=\"-95.2767\" font-family=\"Times New Roman,serif\" font-size=\"14.00\">backward</text>\r\n",
       "<text text-anchor=\"middle\" x=\"140.252\" y=\"-80.2767\" font-family=\"Times New Roman,serif\" font-size=\"14.00\">found: 17</text>\r\n",
       "<text text-anchor=\"middle\" x=\"140.252\" y=\"-65.2767\" font-family=\"Times New Roman,serif\" font-size=\"14.00\">related: 1</text>\r\n",
       "</g>\r\n",
       "</g>\r\n",
       "</svg>\r\n"
      ],
      "text/plain": [
       "Step(name='start', new_references=1, new_related=1, total_visited=1, total_related=1, source='', target='s0')\n",
       "Step(name='backward', new_references=17, new_related=1, total_visited=18, total_related=2, source='s0', target='s2')\n",
       "Step(name='forward', new_references=60, new_related=2, total_visited=61, total_related=3, source='s0', target='s1')\n",
       "Step(name='union', new_references=0, new_related=0, total_visited=78, total_related=4, source='s1|s2', target='s3')\n",
       "Step(name='backward', new_references=11, new_related=0, total_visited=89, total_related=4, source='s3', target='s5')\n",
       "Step(name='forward', new_references=10, new_related=0, total_visited=88, total_related=4, source='s3', target='s4')\n",
       "Step(name='union', new_references=0, new_related=0, total_visited=99, total_related=4, source='s4|s5', target='s6')"
      ],
      "text/vnd.graphviz": [
       "digraph G {\n",
       "  rankdir=\"RL\";\n",
       "\n",
       "  s6 [label=\"s6\\nvisited: 99\\nrelated: 4\"];\n",
       "  s6 -> s4 [label=\"union\\nfound: 0\\nrelated: 0\"];\n",
       "  s6 -> s5 [label=\"union\\nfound: 0\\nrelated: 0\"];\n",
       "\n",
       "  s4 [label=\"s4\\nvisited: 88\\nrelated: 4\"];\n",
       "  s4 -> s3 [label=\"forward\\nfound: 10\\nrelated: 0\"];\n",
       "\n",
       "  s5 [label=\"s5\\nvisited: 89\\nrelated: 4\"];\n",
       "  s5 -> s3 [label=\"backward\\nfound: 11\\nrelated: 0\"];\n",
       "\n",
       "  s3 [label=\"s3\\nvisited: 78\\nrelated: 4\"];\n",
       "  s3 -> s1 [label=\"union\\nfound: 0\\nrelated: 0\"];\n",
       "  s3 -> s2 [label=\"union\\nfound: 0\\nrelated: 0\"];\n",
       "\n",
       "  s1 [label=\"s1\\nvisited: 61\\nrelated: 3\"];\n",
       "  s1 -> s0 [label=\"forward\\nfound: 60\\nrelated: 2\"];\n",
       "\n",
       "  s2 [label=\"s2\\nvisited: 18\\nrelated: 2\"];\n",
       "  s2 -> s0 [label=\"backward\\nfound: 17\\nrelated: 1\"];\n",
       "\n",
       "  s0 [label=\"s0\\nvisited: 1\\nrelated: 1\"];\n",
       "\n",
       "}"
      ]
     },
     "metadata": {},
     "output_type": "display_data"
    }
   ],
   "source": [
    "State.last_id = 0\n",
    "state = strategy.sfbu()\n",
    "state"
   ]
  },
  {
   "cell_type": "code",
   "execution_count": null,
   "metadata": {},
   "outputs": [],
   "source": [
    "\n",
    "\n"
   ]
  },
  {
   "cell_type": "code",
   "execution_count": 73,
   "metadata": {},
   "outputs": [
    {
     "data": {
      "text/plain": [
       "98"
      ]
     },
     "execution_count": 73,
     "metadata": {},
     "output_type": "execute_result"
    }
   ],
   "source": [
    "len(state.visited - state.find(\"s0\").visited)"
   ]
  },
  {
   "cell_type": "code",
   "execution_count": 74,
   "metadata": {},
   "outputs": [
    {
     "data": {
      "text/plain": [
       "{Building software cost estimation models using homogenous data,\n",
       " Web effort estimation: The value of cross-company data set compared to single-company data set,\n",
       " A comparison of cross-company and within-company effort estimation models for web applications}"
      ]
     },
     "execution_count": 74,
     "metadata": {},
     "output_type": "execute_result"
    }
   ],
   "source": [
    "state.related - state.find(\"s0\").related"
   ]
  },
  {
   "cell_type": "code",
   "execution_count": 75,
   "metadata": {},
   "outputs": [
    {
     "name": "stdout",
     "output_type": "stream",
     "text": [
      "Relacionados:\n"
     ]
    },
    {
     "data": {
      "text/plain": [
       "{How to find relevant data for effort estimation?,\n",
       " Exploiting the essential assumptions of analogy-based effort estimation,\n",
       " Statistical power analysis for the behavioral sciences,\n",
       " Software engineering metrics and models,\n",
       " A study of project selection and feature weighting for analogy based software cost estimation,\n",
       " Case studies for method and tool evaluation,\n",
       " Web cost estimation and productivity benchmarking,\n",
       " Local vs. global models for effort estimation and defect prediction,\n",
       " On the relative value of cross-company and within-company data for defect prediction,\n",
       " Comparison of Web size measures for predicting Web design and authoring effort,\n",
       " The need for web engineering: An introduction}"
      ]
     },
     "execution_count": 75,
     "metadata": {},
     "output_type": "execute_result"
    }
   ],
   "source": [
    "print(\"Relacionados:\")\n",
    "state.find(\"s5\").delta_visited"
   ]
  },
  {
   "cell_type": "code",
   "execution_count": 76,
   "metadata": {},
   "outputs": [
    {
     "name": "stdout",
     "output_type": "stream",
     "text": [
      "Relacionados:\n"
     ]
    },
    {
     "data": {
      "text/plain": [
       "set()"
      ]
     },
     "execution_count": 76,
     "metadata": {},
     "output_type": "execute_result"
    }
   ],
   "source": [
    "print(\"Relacionados:\")\n",
    "state.find(\"s5\").delta_visited - state.find(\"s5\").delta_visited"
   ]
  },
  {
   "cell_type": "code",
   "execution_count": 77,
   "metadata": {},
   "outputs": [
    {
     "data": {
      "text/plain": [
       "{Building software cost estimation models using homogenous data,\n",
       " Web effort estimation: The value of cross-company data set compared to single-company data set,\n",
       " A comparison of cross-company and within-company effort estimation models for web applications,\n",
       " Further comparison of cross-company and within-company effort estimation models for web applications}"
      ]
     },
     "execution_count": 77,
     "metadata": {},
     "output_type": "execute_result"
    }
   ],
   "source": [
    "state.find(\"s4\").related"
   ]
  },
  {
   "cell_type": "code",
   "execution_count": 78,
   "metadata": {},
   "outputs": [
    {
     "name": "stdout",
     "output_type": "stream",
     "text": [
      "Relacionados:\n"
     ]
    },
    {
     "data": {
      "text/plain": [
       "{From Function Points to COSMIC-A Transfer Learning Approach for Effort Estimation,\n",
       " An empirical analysis of data preprocessing for machine learning-based software cost estimation,\n",
       " La práctica de la estimación en empresas y áreas de Sistemas,\n",
       " Mining app stores: Extracting technical, business and customer rating information for analysis and prediction,\n",
       " Sharing data and models in software engineering,\n",
       " Empirical Assessment of Machine Learning Models for Effort Estimation of Web-based Applications,\n",
       " A comparison of cross-versus single-company effort prediction models for web projects,\n",
       " An Empirical Analysis of Three-Stage Data-Preprocessing for Analogy-Based Software Effort Estimation on the ISBSG Data,\n",
       " Systematic literature review on effort estimation for Open Sources (OSS) web application development,\n",
       " Effort estimation of web-based applications using machine learning techniques}"
      ]
     },
     "execution_count": 78,
     "metadata": {},
     "output_type": "execute_result"
    }
   ],
   "source": [
    "print(\"Relacionados:\")\n",
    "state.find(\"s4\").delta_visited"
   ]
  },
  {
   "cell_type": "code",
   "execution_count": 120,
   "metadata": {},
   "outputs": [
    {
     "name": "stdout",
     "output_type": "stream",
     "text": [
      "Visitados:\n"
     ]
    },
    {
     "data": {
      "text/plain": [
       "{Cross-vs. within-company cost estimation studies revisited: an extended systematic review,\n",
       " Further comparison of cross-company and within-company effort estimation models for web applications,\n",
       " A comparative study of two software development cost modeling techniques using multi-organizational and company-specific data,\n",
       " Web effort estimation: The value of cross-company data set compared to single-company data set,\n",
       " Using public domain metrics to estimate software development effort}"
      ]
     },
     "execution_count": 120,
     "metadata": {},
     "output_type": "execute_result"
    }
   ],
   "source": [
    "print(\"Visitados:\")\n",
    "state.find(\"s0\").visited"
   ]
  },
  {
   "cell_type": "code",
   "execution_count": 80,
   "metadata": {},
   "outputs": [
    {
     "data": {
      "text/plain": [
       "set()"
      ]
     },
     "execution_count": 80,
     "metadata": {},
     "output_type": "execute_result"
    }
   ],
   "source": [
    "#Visualização de Backward\n",
    "#state.related & set(strategy.ref[work_by_varname(\"mendes2004a\")])\n",
    "\n",
    "state.find(\"s0\").related & set(strategy.ref[work_by_varname(\"mendes2004a\")])"
   ]
  },
  {
   "cell_type": "markdown",
   "metadata": {},
   "source": [
    "## Estratégias"
   ]
  },
  {
   "cell_type": "markdown",
   "metadata": {},
   "source": [
    "### Estratégia 1 - Busca em todas Digital Libraries (DL)"
   ]
  },
  {
   "cell_type": "code",
   "execution_count": 81,
   "metadata": {},
   "outputs": [
    {
     "data": {
      "image/svg+xml": [
       "<?xml version=\"1.0\" encoding=\"UTF-8\" standalone=\"no\"?>\r\n",
       "<!DOCTYPE svg PUBLIC \"-//W3C//DTD SVG 1.1//EN\"\r\n",
       " \"http://www.w3.org/Graphics/SVG/1.1/DTD/svg11.dtd\">\r\n",
       "<!-- Generated by graphviz version 2.38.0 (20140413.2041)\r\n",
       " -->\r\n",
       "<!-- Title: G Pages: 1 -->\r\n",
       "<svg width=\"103pt\" height=\"83pt\"\r\n",
       " viewBox=\"0.00 0.00 102.75 82.95\" xmlns=\"http://www.w3.org/2000/svg\" xmlns:xlink=\"http://www.w3.org/1999/xlink\">\r\n",
       "<g id=\"graph0\" class=\"graph\" transform=\"scale(1 1) rotate(0) translate(4 78.9533)\">\r\n",
       "<title>G</title>\r\n",
       "<polygon fill=\"white\" stroke=\"none\" points=\"-4,4 -4,-78.9533 98.7523,-78.9533 98.7523,4 -4,4\"/>\r\n",
       "<!-- s0 -->\r\n",
       "<g id=\"node1\" class=\"node\"><title>s0</title>\r\n",
       "<ellipse fill=\"none\" stroke=\"black\" cx=\"47.3762\" cy=\"-37.4767\" rx=\"47.2526\" ry=\"37.4533\"/>\r\n",
       "<text text-anchor=\"middle\" x=\"47.3762\" y=\"-48.7767\" font-family=\"Times New Roman,serif\" font-size=\"14.00\">s0</text>\r\n",
       "<text text-anchor=\"middle\" x=\"47.3762\" y=\"-33.7767\" font-family=\"Times New Roman,serif\" font-size=\"14.00\">visited: 4</text>\r\n",
       "<text text-anchor=\"middle\" x=\"47.3762\" y=\"-18.7767\" font-family=\"Times New Roman,serif\" font-size=\"14.00\">related: 2</text>\r\n",
       "</g>\r\n",
       "</g>\r\n",
       "</svg>\r\n"
      ],
      "text/plain": [
       "Step(name='start', new_references=4, new_related=2, total_visited=4, total_related=2, source='', target='s0')"
      ],
      "text/vnd.graphviz": [
       "digraph G {\n",
       "  rankdir=\"RL\";\n",
       "\n",
       "  s0 [label=\"s0\\nvisited: 4\\nrelated: 2\"];\n",
       "\n",
       "}"
      ]
     },
     "metadata": {},
     "output_type": "display_data"
    }
   ],
   "source": [
    "reload()\n",
    "filter_function = lambda x: x.category in (\"snowball\", \"forward\", \"backward\")\n",
    "\n",
    "strategy = Strategy(*busca(\"scopus\", filter_function=filter_function))\n",
    "\n",
    "state = strategy\n",
    "strategy.initial\n",
    "\n",
    "#strategy.initial.name"
   ]
  },
  {
   "cell_type": "code",
   "execution_count": 82,
   "metadata": {},
   "outputs": [
    {
     "data": {
      "image/svg+xml": [
       "<?xml version=\"1.0\" encoding=\"UTF-8\" standalone=\"no\"?>\r\n",
       "<!DOCTYPE svg PUBLIC \"-//W3C//DTD SVG 1.1//EN\"\r\n",
       " \"http://www.w3.org/Graphics/SVG/1.1/DTD/svg11.dtd\">\r\n",
       "<!-- Generated by graphviz version 2.38.0 (20140413.2041)\r\n",
       " -->\r\n",
       "<!-- Title: G Pages: 1 -->\r\n",
       "<svg width=\"285pt\" height=\"269pt\"\r\n",
       " viewBox=\"0.00 0.00 284.50 268.95\" xmlns=\"http://www.w3.org/2000/svg\" xmlns:xlink=\"http://www.w3.org/1999/xlink\">\r\n",
       "<g id=\"graph0\" class=\"graph\" transform=\"scale(1 1) rotate(0) translate(4 264.953)\">\r\n",
       "<title>G</title>\r\n",
       "<polygon fill=\"white\" stroke=\"none\" points=\"-4,4 -4,-264.953 280.505,-264.953 280.505,4 -4,4\"/>\r\n",
       "<!-- s0 -->\r\n",
       "<g id=\"node1\" class=\"node\"><title>s0</title>\r\n",
       "<ellipse fill=\"none\" stroke=\"black\" cx=\"229.128\" cy=\"-130.477\" rx=\"47.2526\" ry=\"37.4533\"/>\r\n",
       "<text text-anchor=\"middle\" x=\"229.128\" y=\"-141.777\" font-family=\"Times New Roman,serif\" font-size=\"14.00\">s0</text>\r\n",
       "<text text-anchor=\"middle\" x=\"229.128\" y=\"-126.777\" font-family=\"Times New Roman,serif\" font-size=\"14.00\">visited: 5</text>\r\n",
       "<text text-anchor=\"middle\" x=\"229.128\" y=\"-111.777\" font-family=\"Times New Roman,serif\" font-size=\"14.00\">related: 2</text>\r\n",
       "</g>\r\n",
       "<!-- acm -->\r\n",
       "<g id=\"node2\" class=\"node\"><title>acm</title>\r\n",
       "<ellipse fill=\"none\" stroke=\"black\" cx=\"47.3762\" cy=\"-223.477\" rx=\"47.2526\" ry=\"37.4533\"/>\r\n",
       "<text text-anchor=\"middle\" x=\"47.3762\" y=\"-234.777\" font-family=\"Times New Roman,serif\" font-size=\"14.00\">acm</text>\r\n",
       "<text text-anchor=\"middle\" x=\"47.3762\" y=\"-219.777\" font-family=\"Times New Roman,serif\" font-size=\"14.00\">visited: 2</text>\r\n",
       "<text text-anchor=\"middle\" x=\"47.3762\" y=\"-204.777\" font-family=\"Times New Roman,serif\" font-size=\"14.00\">related: 1</text>\r\n",
       "</g>\r\n",
       "<!-- s0&#45;&gt;acm -->\r\n",
       "<g id=\"edge1\" class=\"edge\"><title>s0&#45;&gt;acm</title>\r\n",
       "<path fill=\"none\" stroke=\"black\" d=\"M196.294,-157.563C186.287,-165.278 174.923,-173.265 163.752,-179.477 144.27,-190.31 121.578,-199.602 101.5,-206.817\"/>\r\n",
       "<polygon fill=\"black\" stroke=\"black\" points=\"100.157,-203.579 91.8782,-210.19 102.473,-210.185 100.157,-203.579\"/>\r\n",
       "<text text-anchor=\"middle\" x=\"138.252\" y=\"-235.277\" font-family=\"Times New Roman,serif\" font-size=\"14.00\">union</text>\r\n",
       "<text text-anchor=\"middle\" x=\"138.252\" y=\"-220.277\" font-family=\"Times New Roman,serif\" font-size=\"14.00\">found: 0</text>\r\n",
       "<text text-anchor=\"middle\" x=\"138.252\" y=\"-205.277\" font-family=\"Times New Roman,serif\" font-size=\"14.00\">related: 0</text>\r\n",
       "</g>\r\n",
       "<!-- scopus -->\r\n",
       "<g id=\"node3\" class=\"node\"><title>scopus</title>\r\n",
       "<ellipse fill=\"none\" stroke=\"black\" cx=\"47.3762\" cy=\"-130.477\" rx=\"47.2526\" ry=\"37.4533\"/>\r\n",
       "<text text-anchor=\"middle\" x=\"47.3762\" y=\"-141.777\" font-family=\"Times New Roman,serif\" font-size=\"14.00\">scopus</text>\r\n",
       "<text text-anchor=\"middle\" x=\"47.3762\" y=\"-126.777\" font-family=\"Times New Roman,serif\" font-size=\"14.00\">visited: 4</text>\r\n",
       "<text text-anchor=\"middle\" x=\"47.3762\" y=\"-111.777\" font-family=\"Times New Roman,serif\" font-size=\"14.00\">related: 2</text>\r\n",
       "</g>\r\n",
       "<!-- s0&#45;&gt;scopus -->\r\n",
       "<g id=\"edge2\" class=\"edge\"><title>s0&#45;&gt;scopus</title>\r\n",
       "<path fill=\"none\" stroke=\"black\" d=\"M181.37,-130.477C158.069,-130.477 129.7,-130.477 105.158,-130.477\"/>\r\n",
       "<polygon fill=\"black\" stroke=\"black\" points=\"104.901,-126.977 94.9006,-130.477 104.901,-133.977 104.901,-126.977\"/>\r\n",
       "<text text-anchor=\"middle\" x=\"138.252\" y=\"-164.277\" font-family=\"Times New Roman,serif\" font-size=\"14.00\">union</text>\r\n",
       "<text text-anchor=\"middle\" x=\"138.252\" y=\"-149.277\" font-family=\"Times New Roman,serif\" font-size=\"14.00\">found: 0</text>\r\n",
       "<text text-anchor=\"middle\" x=\"138.252\" y=\"-134.277\" font-family=\"Times New Roman,serif\" font-size=\"14.00\">related: 0</text>\r\n",
       "</g>\r\n",
       "<!-- gs -->\r\n",
       "<g id=\"node4\" class=\"node\"><title>gs</title>\r\n",
       "<ellipse fill=\"none\" stroke=\"black\" cx=\"47.3762\" cy=\"-37.4767\" rx=\"47.2526\" ry=\"37.4533\"/>\r\n",
       "<text text-anchor=\"middle\" x=\"47.3762\" y=\"-48.7767\" font-family=\"Times New Roman,serif\" font-size=\"14.00\">gs</text>\r\n",
       "<text text-anchor=\"middle\" x=\"47.3762\" y=\"-33.7767\" font-family=\"Times New Roman,serif\" font-size=\"14.00\">visited: 0</text>\r\n",
       "<text text-anchor=\"middle\" x=\"47.3762\" y=\"-18.7767\" font-family=\"Times New Roman,serif\" font-size=\"14.00\">related: 0</text>\r\n",
       "</g>\r\n",
       "<!-- s0&#45;&gt;gs -->\r\n",
       "<g id=\"edge3\" class=\"edge\"><title>s0&#45;&gt;gs</title>\r\n",
       "<path fill=\"none\" stroke=\"black\" d=\"M196.294,-103.391C186.287,-95.6751 174.923,-87.6881 163.752,-81.4767 144.27,-70.6436 121.578,-61.3515 101.5,-54.1359\"/>\r\n",
       "<polygon fill=\"black\" stroke=\"black\" points=\"102.473,-50.7683 91.8782,-50.7629 100.157,-57.3742 102.473,-50.7683\"/>\r\n",
       "<text text-anchor=\"middle\" x=\"138.252\" y=\"-115.277\" font-family=\"Times New Roman,serif\" font-size=\"14.00\">union</text>\r\n",
       "<text text-anchor=\"middle\" x=\"138.252\" y=\"-100.277\" font-family=\"Times New Roman,serif\" font-size=\"14.00\">found: 0</text>\r\n",
       "<text text-anchor=\"middle\" x=\"138.252\" y=\"-85.2767\" font-family=\"Times New Roman,serif\" font-size=\"14.00\">related: 0</text>\r\n",
       "</g>\r\n",
       "</g>\r\n",
       "</svg>\r\n"
      ],
      "text/plain": [
       "Step(name='start', new_references=0, new_related=0, total_visited=0, total_related=0, source='', target='gs')\n",
       "Step(name='start', new_references=4, new_related=2, total_visited=4, total_related=2, source='', target='scopus')\n",
       "Step(name='start', new_references=2, new_related=1, total_visited=2, total_related=1, source='', target='acm')\n",
       "Step(name='union', new_references=0, new_related=0, total_visited=5, total_related=2, source='acm|scopus|gs', target='s0')"
      ],
      "text/vnd.graphviz": [
       "digraph G {\n",
       "  rankdir=\"RL\";\n",
       "\n",
       "  s0 [label=\"s0\\nvisited: 5\\nrelated: 2\"];\n",
       "  s0 -> acm [label=\"union\\nfound: 0\\nrelated: 0\"];\n",
       "  s0 -> scopus [label=\"union\\nfound: 0\\nrelated: 0\"];\n",
       "  s0 -> gs [label=\"union\\nfound: 0\\nrelated: 0\"];\n",
       "\n",
       "  acm [label=\"acm\\nvisited: 2\\nrelated: 1\"];\n",
       "\n",
       "  scopus [label=\"scopus\\nvisited: 4\\nrelated: 2\"];\n",
       "\n",
       "  gs [label=\"gs\\nvisited: 0\\nrelated: 0\"];\n",
       "\n",
       "}"
      ]
     },
     "metadata": {},
     "output_type": "display_data"
    }
   ],
   "source": [
    "from snowballing.strategies import State\n",
    "\n",
    "reload()\n",
    "def busca_completa(libs, filter_function):\n",
    "    union = None\n",
    "    for dl in libs:\n",
    "        strategy = Strategy(*busca(dl, filter_function=filter_function))\n",
    "        strategy.initial.name = dl\n",
    "        if union is None:\n",
    "            union = strategy.initial.derive(\"union\", name=\"s0\")\n",
    "        else:\n",
    "            union.visited.update(strategy.initial.visited)\n",
    "            union.related.update(strategy.initial.related)\n",
    "            union.previous[0].append(strategy.initial)\n",
    "\n",
    "    State.last_id = 0\n",
    "    strategy.initial = union\n",
    "    return strategy\n",
    "\n",
    "strategy = busca_completa([\"acm\", \"scopus\", \"gs\"], filter_function)\n",
    "#strategy.initial.find(\"acm\")\n",
    "strategy.initial"
   ]
  },
  {
   "cell_type": "code",
   "execution_count": null,
   "metadata": {
    "collapsed": true
   },
   "outputs": [],
   "source": []
  },
  {
   "cell_type": "code",
   "execution_count": 83,
   "metadata": {},
   "outputs": [
    {
     "data": {
      "image/svg+xml": [
       "<?xml version=\"1.0\" encoding=\"UTF-8\" standalone=\"no\"?>\r\n",
       "<!DOCTYPE svg PUBLIC \"-//W3C//DTD SVG 1.1//EN\"\r\n",
       " \"http://www.w3.org/Graphics/SVG/1.1/DTD/svg11.dtd\">\r\n",
       "<!-- Generated by graphviz version 2.38.0 (20140413.2041)\r\n",
       " -->\r\n",
       "<!-- Title: G Pages: 1 -->\r\n",
       "<svg width=\"103pt\" height=\"83pt\"\r\n",
       " viewBox=\"0.00 0.00 102.75 82.95\" xmlns=\"http://www.w3.org/2000/svg\" xmlns:xlink=\"http://www.w3.org/1999/xlink\">\r\n",
       "<g id=\"graph0\" class=\"graph\" transform=\"scale(1 1) rotate(0) translate(4 78.9533)\">\r\n",
       "<title>G</title>\r\n",
       "<polygon fill=\"white\" stroke=\"none\" points=\"-4,4 -4,-78.9533 98.7523,-78.9533 98.7523,4 -4,4\"/>\r\n",
       "<!-- s0 -->\r\n",
       "<g id=\"node1\" class=\"node\"><title>s0</title>\r\n",
       "<ellipse fill=\"none\" stroke=\"black\" cx=\"47.3762\" cy=\"-37.4767\" rx=\"47.2526\" ry=\"37.4533\"/>\r\n",
       "<text text-anchor=\"middle\" x=\"47.3762\" y=\"-48.7767\" font-family=\"Times New Roman,serif\" font-size=\"14.00\">s0</text>\r\n",
       "<text text-anchor=\"middle\" x=\"47.3762\" y=\"-33.7767\" font-family=\"Times New Roman,serif\" font-size=\"14.00\">visited: 4</text>\r\n",
       "<text text-anchor=\"middle\" x=\"47.3762\" y=\"-18.7767\" font-family=\"Times New Roman,serif\" font-size=\"14.00\">related: 2</text>\r\n",
       "</g>\r\n",
       "</g>\r\n",
       "</svg>\r\n"
      ],
      "text/plain": [
       "Step(name='start', new_references=4, new_related=2, total_visited=4, total_related=2, source='', target='s0')"
      ],
      "text/vnd.graphviz": [
       "digraph G {\n",
       "  rankdir=\"RL\";\n",
       "\n",
       "  s0 [label=\"s0\\nvisited: 4\\nrelated: 2\"];\n",
       "\n",
       "}"
      ]
     },
     "metadata": {},
     "output_type": "display_data"
    }
   ],
   "source": [
    "reload()\n",
    "TOTAL = [x for _, x in load_work_map_all_years() if x.category == \"snowball\"]\n",
    "filter_function = lambda x: x.category in (\"snowball\", \"forward\", \"backward\")\n",
    "\n",
    "strategy = Strategy(*busca(\"scopus\", filter_function=filter_function))\n",
    "\n",
    "state = strategy.initial\n",
    "strategy.initial.visited\n",
    "state"
   ]
  },
  {
   "cell_type": "code",
   "execution_count": 84,
   "metadata": {},
   "outputs": [
    {
     "name": "stdout",
     "output_type": "stream",
     "text": [
      "Precision E1\n",
      "0.5\n",
      "Recall E1\n",
      "0.5\n"
     ]
    }
   ],
   "source": [
    "array = []\n",
    "\n",
    "name = \"E1\"\n",
    "print (\"Precision \" + name)\n",
    "EP = len (state.related) / len (state.visited)\n",
    "print (EP)\n",
    "print (\"Recall \" + name)\n",
    "ER = len (state.related) / len (TOTAL)\n",
    "print (ER)\n",
    "\n",
    "array.append((name, EP, ER))"
   ]
  },
  {
   "cell_type": "code",
   "execution_count": 85,
   "metadata": {},
   "outputs": [
    {
     "data": {
      "text/plain": [
       "4"
      ]
     },
     "execution_count": 85,
     "metadata": {},
     "output_type": "execute_result"
    }
   ],
   "source": [
    "len ([x for _, x in load_work_map_all_years() if x.category == \"snowball\"])"
   ]
  },
  {
   "cell_type": "code",
   "execution_count": null,
   "metadata": {
    "collapsed": true
   },
   "outputs": [],
   "source": []
  },
  {
   "cell_type": "markdown",
   "metadata": {},
   "source": [
    "### Estratégia 2 - Busca em todas Digital Libraries + Snowballing (Guideline - sfbu)"
   ]
  },
  {
   "cell_type": "code",
   "execution_count": 104,
   "metadata": {},
   "outputs": [
    {
     "data": {
      "image/svg+xml": [
       "<?xml version=\"1.0\" encoding=\"UTF-8\" standalone=\"no\"?>\r\n",
       "<!DOCTYPE svg PUBLIC \"-//W3C//DTD SVG 1.1//EN\"\r\n",
       " \"http://www.w3.org/Graphics/SVG/1.1/DTD/svg11.dtd\">\r\n",
       "<!-- Generated by graphviz version 2.38.0 (20140413.2041)\r\n",
       " -->\r\n",
       "<!-- Title: G Pages: 1 -->\r\n",
       "<svg width=\"1053pt\" height=\"188pt\"\r\n",
       " viewBox=\"0.00 0.00 1053.45 187.95\" xmlns=\"http://www.w3.org/2000/svg\" xmlns:xlink=\"http://www.w3.org/1999/xlink\">\r\n",
       "<g id=\"graph0\" class=\"graph\" transform=\"scale(1 1) rotate(0) translate(4 183.953)\">\r\n",
       "<title>G</title>\r\n",
       "<polygon fill=\"white\" stroke=\"none\" points=\"-4,4 -4,-183.953 1049.45,-183.953 1049.45,4 -4,4\"/>\r\n",
       "<!-- s6 -->\r\n",
       "<g id=\"node1\" class=\"node\"><title>s6</title>\r\n",
       "<ellipse fill=\"none\" stroke=\"black\" cx=\"993.836\" cy=\"-86.4767\" rx=\"51.7379\" ry=\"37.4533\"/>\r\n",
       "<text text-anchor=\"middle\" x=\"993.836\" y=\"-97.7767\" font-family=\"Times New Roman,serif\" font-size=\"14.00\">s6</text>\r\n",
       "<text text-anchor=\"middle\" x=\"993.836\" y=\"-82.7767\" font-family=\"Times New Roman,serif\" font-size=\"14.00\">visited: 99</text>\r\n",
       "<text text-anchor=\"middle\" x=\"993.836\" y=\"-67.7767\" font-family=\"Times New Roman,serif\" font-size=\"14.00\">related: 4</text>\r\n",
       "</g>\r\n",
       "<!-- s4 -->\r\n",
       "<g id=\"node2\" class=\"node\"><title>s4</title>\r\n",
       "<ellipse fill=\"none\" stroke=\"black\" cx=\"803.599\" cy=\"-130.477\" rx=\"51.7379\" ry=\"37.4533\"/>\r\n",
       "<text text-anchor=\"middle\" x=\"803.599\" y=\"-141.777\" font-family=\"Times New Roman,serif\" font-size=\"14.00\">s4</text>\r\n",
       "<text text-anchor=\"middle\" x=\"803.599\" y=\"-126.777\" font-family=\"Times New Roman,serif\" font-size=\"14.00\">visited: 99</text>\r\n",
       "<text text-anchor=\"middle\" x=\"803.599\" y=\"-111.777\" font-family=\"Times New Roman,serif\" font-size=\"14.00\">related: 4</text>\r\n",
       "</g>\r\n",
       "<!-- s6&#45;&gt;s4 -->\r\n",
       "<g id=\"edge1\" class=\"edge\"><title>s6&#45;&gt;s4</title>\r\n",
       "<path fill=\"none\" stroke=\"black\" d=\"M944.36,-97.8078C919.439,-103.633 888.885,-110.775 862.708,-116.894\"/>\r\n",
       "<polygon fill=\"black\" stroke=\"black\" points=\"861.851,-113.5 852.91,-119.184 863.444,-120.316 861.851,-113.5\"/>\r\n",
       "<text text-anchor=\"middle\" x=\"898.717\" y=\"-147.277\" font-family=\"Times New Roman,serif\" font-size=\"14.00\">union</text>\r\n",
       "<text text-anchor=\"middle\" x=\"898.717\" y=\"-132.277\" font-family=\"Times New Roman,serif\" font-size=\"14.00\">found: 0</text>\r\n",
       "<text text-anchor=\"middle\" x=\"898.717\" y=\"-117.277\" font-family=\"Times New Roman,serif\" font-size=\"14.00\">related: 0</text>\r\n",
       "</g>\r\n",
       "<!-- s5 -->\r\n",
       "<g id=\"node3\" class=\"node\"><title>s5</title>\r\n",
       "<ellipse fill=\"none\" stroke=\"black\" cx=\"803.599\" cy=\"-37.4767\" rx=\"51.7379\" ry=\"37.4533\"/>\r\n",
       "<text text-anchor=\"middle\" x=\"803.599\" y=\"-48.7767\" font-family=\"Times New Roman,serif\" font-size=\"14.00\">s5</text>\r\n",
       "<text text-anchor=\"middle\" x=\"803.599\" y=\"-33.7767\" font-family=\"Times New Roman,serif\" font-size=\"14.00\">visited: 99</text>\r\n",
       "<text text-anchor=\"middle\" x=\"803.599\" y=\"-18.7767\" font-family=\"Times New Roman,serif\" font-size=\"14.00\">related: 4</text>\r\n",
       "</g>\r\n",
       "<!-- s6&#45;&gt;s5 -->\r\n",
       "<g id=\"edge2\" class=\"edge\"><title>s6&#45;&gt;s5</title>\r\n",
       "<path fill=\"none\" stroke=\"black\" d=\"M951.508,-64.8235C942.687,-60.8822 933.29,-57.1718 924.217,-54.4767 905.384,-48.8817 884.318,-45.1051 865.176,-42.5653\"/>\r\n",
       "<polygon fill=\"black\" stroke=\"black\" points=\"865.42,-39.0689 855.065,-41.3124 864.559,-46.0157 865.42,-39.0689\"/>\r\n",
       "<text text-anchor=\"middle\" x=\"898.717\" y=\"-88.2767\" font-family=\"Times New Roman,serif\" font-size=\"14.00\">union</text>\r\n",
       "<text text-anchor=\"middle\" x=\"898.717\" y=\"-73.2767\" font-family=\"Times New Roman,serif\" font-size=\"14.00\">found: 0</text>\r\n",
       "<text text-anchor=\"middle\" x=\"898.717\" y=\"-58.2767\" font-family=\"Times New Roman,serif\" font-size=\"14.00\">related: 0</text>\r\n",
       "</g>\r\n",
       "<!-- s3 -->\r\n",
       "<g id=\"node4\" class=\"node\"><title>s3</title>\r\n",
       "<ellipse fill=\"none\" stroke=\"black\" cx=\"609.361\" cy=\"-86.4767\" rx=\"51.7379\" ry=\"37.4533\"/>\r\n",
       "<text text-anchor=\"middle\" x=\"609.361\" y=\"-97.7767\" font-family=\"Times New Roman,serif\" font-size=\"14.00\">s3</text>\r\n",
       "<text text-anchor=\"middle\" x=\"609.361\" y=\"-82.7767\" font-family=\"Times New Roman,serif\" font-size=\"14.00\">visited: 99</text>\r\n",
       "<text text-anchor=\"middle\" x=\"609.361\" y=\"-67.7767\" font-family=\"Times New Roman,serif\" font-size=\"14.00\">related: 4</text>\r\n",
       "</g>\r\n",
       "<!-- s4&#45;&gt;s3 -->\r\n",
       "<g id=\"edge3\" class=\"edge\"><title>s4&#45;&gt;s3</title>\r\n",
       "<path fill=\"none\" stroke=\"black\" d=\"M754.089,-119.374C728.135,-113.433 695.984,-106.074 668.676,-99.8241\"/>\r\n",
       "<polygon fill=\"black\" stroke=\"black\" points=\"669.384,-96.3956 658.855,-97.5762 667.822,-103.219 669.384,-96.3956\"/>\r\n",
       "<text text-anchor=\"middle\" x=\"706.48\" y=\"-147.277\" font-family=\"Times New Roman,serif\" font-size=\"14.00\">forward</text>\r\n",
       "<text text-anchor=\"middle\" x=\"706.48\" y=\"-132.277\" font-family=\"Times New Roman,serif\" font-size=\"14.00\">found: 0</text>\r\n",
       "<text text-anchor=\"middle\" x=\"706.48\" y=\"-117.277\" font-family=\"Times New Roman,serif\" font-size=\"14.00\">related: 0</text>\r\n",
       "</g>\r\n",
       "<!-- s5&#45;&gt;s3 -->\r\n",
       "<g id=\"edge4\" class=\"edge\"><title>s5&#45;&gt;s3</title>\r\n",
       "<path fill=\"none\" stroke=\"black\" d=\"M751.919,-40.3639C729.256,-42.5867 702.423,-46.5194 678.98,-53.4767 672.909,-55.2784 666.707,-57.5614 660.636,-60.0825\"/>\r\n",
       "<polygon fill=\"black\" stroke=\"black\" points=\"658.992,-56.9818 651.241,-64.2052 661.805,-63.3918 658.992,-56.9818\"/>\r\n",
       "<text text-anchor=\"middle\" x=\"706.48\" y=\"-87.2767\" font-family=\"Times New Roman,serif\" font-size=\"14.00\">backward</text>\r\n",
       "<text text-anchor=\"middle\" x=\"706.48\" y=\"-72.2767\" font-family=\"Times New Roman,serif\" font-size=\"14.00\">found: 0</text>\r\n",
       "<text text-anchor=\"middle\" x=\"706.48\" y=\"-57.2767\" font-family=\"Times New Roman,serif\" font-size=\"14.00\">related: 0</text>\r\n",
       "</g>\r\n",
       "<!-- s1 -->\r\n",
       "<g id=\"node5\" class=\"node\"><title>s1</title>\r\n",
       "<ellipse fill=\"none\" stroke=\"black\" cx=\"419.123\" cy=\"-139.477\" rx=\"51.7379\" ry=\"37.4533\"/>\r\n",
       "<text text-anchor=\"middle\" x=\"419.123\" y=\"-150.777\" font-family=\"Times New Roman,serif\" font-size=\"14.00\">s1</text>\r\n",
       "<text text-anchor=\"middle\" x=\"419.123\" y=\"-135.777\" font-family=\"Times New Roman,serif\" font-size=\"14.00\">visited: 73</text>\r\n",
       "<text text-anchor=\"middle\" x=\"419.123\" y=\"-120.777\" font-family=\"Times New Roman,serif\" font-size=\"14.00\">related: 3</text>\r\n",
       "</g>\r\n",
       "<!-- s3&#45;&gt;s1 -->\r\n",
       "<g id=\"edge5\" class=\"edge\"><title>s3&#45;&gt;s1</title>\r\n",
       "<path fill=\"none\" stroke=\"black\" d=\"M562.796,-103.117C555.141,-105.71 547.247,-108.26 539.742,-110.477 520.022,-116.3 498.226,-121.843 478.701,-126.494\"/>\r\n",
       "<polygon fill=\"black\" stroke=\"black\" points=\"477.653,-123.145 468.72,-128.841 479.256,-129.959 477.653,-123.145\"/>\r\n",
       "<text text-anchor=\"middle\" x=\"514.242\" y=\"-157.277\" font-family=\"Times New Roman,serif\" font-size=\"14.00\">union</text>\r\n",
       "<text text-anchor=\"middle\" x=\"514.242\" y=\"-142.277\" font-family=\"Times New Roman,serif\" font-size=\"14.00\">found: 0</text>\r\n",
       "<text text-anchor=\"middle\" x=\"514.242\" y=\"-127.277\" font-family=\"Times New Roman,serif\" font-size=\"14.00\">related: 0</text>\r\n",
       "</g>\r\n",
       "<!-- s2 -->\r\n",
       "<g id=\"node6\" class=\"node\"><title>s2</title>\r\n",
       "<ellipse fill=\"none\" stroke=\"black\" cx=\"419.123\" cy=\"-46.4767\" rx=\"51.7379\" ry=\"37.4533\"/>\r\n",
       "<text text-anchor=\"middle\" x=\"419.123\" y=\"-57.7767\" font-family=\"Times New Roman,serif\" font-size=\"14.00\">s2</text>\r\n",
       "<text text-anchor=\"middle\" x=\"419.123\" y=\"-42.7767\" font-family=\"Times New Roman,serif\" font-size=\"14.00\">visited: 36</text>\r\n",
       "<text text-anchor=\"middle\" x=\"419.123\" y=\"-27.7767\" font-family=\"Times New Roman,serif\" font-size=\"14.00\">related: 3</text>\r\n",
       "</g>\r\n",
       "<!-- s3&#45;&gt;s2 -->\r\n",
       "<g id=\"edge6\" class=\"edge\"><title>s3&#45;&gt;s2</title>\r\n",
       "<path fill=\"none\" stroke=\"black\" d=\"M562.091,-71.3583C554.663,-69.2091 547.025,-67.1608 539.742,-65.4767 520.553,-61.0392 499.392,-57.3053 480.272,-54.3543\"/>\r\n",
       "<polygon fill=\"black\" stroke=\"black\" points=\"480.592,-50.8633 470.184,-52.8395 479.553,-57.7857 480.592,-50.8633\"/>\r\n",
       "<text text-anchor=\"middle\" x=\"514.242\" y=\"-99.2767\" font-family=\"Times New Roman,serif\" font-size=\"14.00\">union</text>\r\n",
       "<text text-anchor=\"middle\" x=\"514.242\" y=\"-84.2767\" font-family=\"Times New Roman,serif\" font-size=\"14.00\">found: 0</text>\r\n",
       "<text text-anchor=\"middle\" x=\"514.242\" y=\"-69.2767\" font-family=\"Times New Roman,serif\" font-size=\"14.00\">related: 0</text>\r\n",
       "</g>\r\n",
       "<!-- s0 -->\r\n",
       "<g id=\"node7\" class=\"node\"><title>s0</title>\r\n",
       "<ellipse fill=\"none\" stroke=\"black\" cx=\"229.128\" cy=\"-95.4767\" rx=\"47.2526\" ry=\"37.4533\"/>\r\n",
       "<text text-anchor=\"middle\" x=\"229.128\" y=\"-106.777\" font-family=\"Times New Roman,serif\" font-size=\"14.00\">s0</text>\r\n",
       "<text text-anchor=\"middle\" x=\"229.128\" y=\"-91.7767\" font-family=\"Times New Roman,serif\" font-size=\"14.00\">visited: 5</text>\r\n",
       "<text text-anchor=\"middle\" x=\"229.128\" y=\"-76.7767\" font-family=\"Times New Roman,serif\" font-size=\"14.00\">related: 2</text>\r\n",
       "</g>\r\n",
       "<!-- s1&#45;&gt;s0 -->\r\n",
       "<g id=\"edge7\" class=\"edge\"><title>s1&#45;&gt;s0</title>\r\n",
       "<path fill=\"none\" stroke=\"black\" d=\"M369.71,-128.146C343.76,-122.072 311.694,-114.567 284.843,-108.283\"/>\r\n",
       "<polygon fill=\"black\" stroke=\"black\" points=\"285.366,-104.81 274.831,-105.939 283.771,-111.626 285.366,-104.81\"/>\r\n",
       "<text text-anchor=\"middle\" x=\"322.005\" y=\"-156.277\" font-family=\"Times New Roman,serif\" font-size=\"14.00\">forward</text>\r\n",
       "<text text-anchor=\"middle\" x=\"322.005\" y=\"-141.277\" font-family=\"Times New Roman,serif\" font-size=\"14.00\">found: 68</text>\r\n",
       "<text text-anchor=\"middle\" x=\"322.005\" y=\"-126.277\" font-family=\"Times New Roman,serif\" font-size=\"14.00\">related: 1</text>\r\n",
       "</g>\r\n",
       "<!-- s2&#45;&gt;s0 -->\r\n",
       "<g id=\"edge8\" class=\"edge\"><title>s2&#45;&gt;s0</title>\r\n",
       "<path fill=\"none\" stroke=\"black\" d=\"M367.323,-48.4583C344.637,-50.4019 317.819,-54.1796 294.505,-61.4767 288.488,-63.3596 282.373,-65.7994 276.425,-68.5076\"/>\r\n",
       "<polygon fill=\"black\" stroke=\"black\" points=\"274.734,-65.4378 267.255,-72.9428 277.782,-71.7395 274.734,-65.4378\"/>\r\n",
       "<text text-anchor=\"middle\" x=\"322.005\" y=\"-95.2767\" font-family=\"Times New Roman,serif\" font-size=\"14.00\">backward</text>\r\n",
       "<text text-anchor=\"middle\" x=\"322.005\" y=\"-80.2767\" font-family=\"Times New Roman,serif\" font-size=\"14.00\">found: 31</text>\r\n",
       "<text text-anchor=\"middle\" x=\"322.005\" y=\"-65.2767\" font-family=\"Times New Roman,serif\" font-size=\"14.00\">related: 1</text>\r\n",
       "</g>\r\n",
       "<!-- acm -->\r\n",
       "<g id=\"node8\" class=\"node\"><title>acm</title>\r\n",
       "<ellipse fill=\"none\" stroke=\"black\" cx=\"47.3762\" cy=\"-142.477\" rx=\"47.2526\" ry=\"37.4533\"/>\r\n",
       "<text text-anchor=\"middle\" x=\"47.3762\" y=\"-153.777\" font-family=\"Times New Roman,serif\" font-size=\"14.00\">acm</text>\r\n",
       "<text text-anchor=\"middle\" x=\"47.3762\" y=\"-138.777\" font-family=\"Times New Roman,serif\" font-size=\"14.00\">visited: 2</text>\r\n",
       "<text text-anchor=\"middle\" x=\"47.3762\" y=\"-123.777\" font-family=\"Times New Roman,serif\" font-size=\"14.00\">related: 1</text>\r\n",
       "</g>\r\n",
       "<!-- s0&#45;&gt;acm -->\r\n",
       "<g id=\"edge9\" class=\"edge\"><title>s0&#45;&gt;acm</title>\r\n",
       "<path fill=\"none\" stroke=\"black\" d=\"M186.952,-112.742C179.322,-115.575 171.359,-118.294 163.752,-120.477 144.562,-125.983 123.176,-130.495 104.079,-133.968\"/>\r\n",
       "<polygon fill=\"black\" stroke=\"black\" points=\"103.271,-130.557 94.0306,-135.74 104.486,-137.45 103.271,-130.557\"/>\r\n",
       "<text text-anchor=\"middle\" x=\"138.252\" y=\"-165.277\" font-family=\"Times New Roman,serif\" font-size=\"14.00\">union</text>\r\n",
       "<text text-anchor=\"middle\" x=\"138.252\" y=\"-150.277\" font-family=\"Times New Roman,serif\" font-size=\"14.00\">found: 0</text>\r\n",
       "<text text-anchor=\"middle\" x=\"138.252\" y=\"-135.277\" font-family=\"Times New Roman,serif\" font-size=\"14.00\">related: 0</text>\r\n",
       "</g>\r\n",
       "<!-- scopus -->\r\n",
       "<g id=\"node9\" class=\"node\"><title>scopus</title>\r\n",
       "<ellipse fill=\"none\" stroke=\"black\" cx=\"47.3762\" cy=\"-49.4767\" rx=\"47.2526\" ry=\"37.4533\"/>\r\n",
       "<text text-anchor=\"middle\" x=\"47.3762\" y=\"-60.7767\" font-family=\"Times New Roman,serif\" font-size=\"14.00\">scopus</text>\r\n",
       "<text text-anchor=\"middle\" x=\"47.3762\" y=\"-45.7767\" font-family=\"Times New Roman,serif\" font-size=\"14.00\">visited: 4</text>\r\n",
       "<text text-anchor=\"middle\" x=\"47.3762\" y=\"-30.7767\" font-family=\"Times New Roman,serif\" font-size=\"14.00\">related: 2</text>\r\n",
       "</g>\r\n",
       "<!-- s0&#45;&gt;scopus -->\r\n",
       "<g id=\"edge10\" class=\"edge\"><title>s0&#45;&gt;scopus</title>\r\n",
       "<path fill=\"none\" stroke=\"black\" d=\"M184.98,-81.554C177.914,-79.4233 170.649,-77.3219 163.752,-75.4767 144.159,-70.2343 122.508,-65.1664 103.304,-60.919\"/>\r\n",
       "<polygon fill=\"black\" stroke=\"black\" points=\"104.026,-57.4941 93.509,-58.776 102.53,-64.3324 104.026,-57.4941\"/>\r\n",
       "<text text-anchor=\"middle\" x=\"138.252\" y=\"-109.277\" font-family=\"Times New Roman,serif\" font-size=\"14.00\">union</text>\r\n",
       "<text text-anchor=\"middle\" x=\"138.252\" y=\"-94.2767\" font-family=\"Times New Roman,serif\" font-size=\"14.00\">found: 0</text>\r\n",
       "<text text-anchor=\"middle\" x=\"138.252\" y=\"-79.2767\" font-family=\"Times New Roman,serif\" font-size=\"14.00\">related: 0</text>\r\n",
       "</g>\r\n",
       "</g>\r\n",
       "</svg>\r\n"
      ],
      "text/plain": [
       "Step(name='start', new_references=4, new_related=2, total_visited=4, total_related=2, source='', target='scopus')\n",
       "Step(name='start', new_references=2, new_related=1, total_visited=2, total_related=1, source='', target='acm')\n",
       "Step(name='union', new_references=0, new_related=0, total_visited=5, total_related=2, source='acm|scopus', target='s0')\n",
       "Step(name='backward', new_references=31, new_related=1, total_visited=36, total_related=3, source='s0', target='s2')\n",
       "Step(name='forward', new_references=68, new_related=1, total_visited=73, total_related=3, source='s0', target='s1')\n",
       "Step(name='union', new_references=0, new_related=0, total_visited=99, total_related=4, source='s1|s2', target='s3')\n",
       "Step(name='backward', new_references=0, new_related=0, total_visited=99, total_related=4, source='s3', target='s5')\n",
       "Step(name='forward', new_references=0, new_related=0, total_visited=99, total_related=4, source='s3', target='s4')\n",
       "Step(name='union', new_references=0, new_related=0, total_visited=99, total_related=4, source='s4|s5', target='s6')"
      ],
      "text/vnd.graphviz": [
       "digraph G {\n",
       "  rankdir=\"RL\";\n",
       "\n",
       "  s6 [label=\"s6\\nvisited: 99\\nrelated: 4\"];\n",
       "  s6 -> s4 [label=\"union\\nfound: 0\\nrelated: 0\"];\n",
       "  s6 -> s5 [label=\"union\\nfound: 0\\nrelated: 0\"];\n",
       "\n",
       "  s4 [label=\"s4\\nvisited: 99\\nrelated: 4\"];\n",
       "  s4 -> s3 [label=\"forward\\nfound: 0\\nrelated: 0\"];\n",
       "\n",
       "  s5 [label=\"s5\\nvisited: 99\\nrelated: 4\"];\n",
       "  s5 -> s3 [label=\"backward\\nfound: 0\\nrelated: 0\"];\n",
       "\n",
       "  s3 [label=\"s3\\nvisited: 99\\nrelated: 4\"];\n",
       "  s3 -> s1 [label=\"union\\nfound: 0\\nrelated: 0\"];\n",
       "  s3 -> s2 [label=\"union\\nfound: 0\\nrelated: 0\"];\n",
       "\n",
       "  s1 [label=\"s1\\nvisited: 73\\nrelated: 3\"];\n",
       "  s1 -> s0 [label=\"forward\\nfound: 68\\nrelated: 1\"];\n",
       "\n",
       "  s2 [label=\"s2\\nvisited: 36\\nrelated: 3\"];\n",
       "  s2 -> s0 [label=\"backward\\nfound: 31\\nrelated: 1\"];\n",
       "\n",
       "  s0 [label=\"s0\\nvisited: 5\\nrelated: 2\"];\n",
       "  s0 -> acm [label=\"union\\nfound: 0\\nrelated: 0\"];\n",
       "  s0 -> scopus [label=\"union\\nfound: 0\\nrelated: 0\"];\n",
       "\n",
       "  acm [label=\"acm\\nvisited: 2\\nrelated: 1\"];\n",
       "\n",
       "  scopus [label=\"scopus\\nvisited: 4\\nrelated: 2\"];\n",
       "\n",
       "}"
      ]
     },
     "metadata": {},
     "output_type": "display_data"
    }
   ],
   "source": [
    "reload()\n",
    "filter_function = lambda x: x.category in (\"snowball\", \"forward\", \"backward\")\n",
    "\n",
    "strategy = busca_completa([\"acm\", \"scopus\"], filter_function)\n",
    "#Strategy(*busca(\"acm\",\"scopus\", filter_function=filter_function))\n",
    "\n",
    "state = strategy.sfbu()\n",
    "#state = strategy.bbff()\n",
    "#state = strategy.ffbb()\n",
    "#state = strategy.s2ffbb2u()\n",
    "\n",
    "state"
   ]
  },
  {
   "cell_type": "code",
   "execution_count": 164,
   "metadata": {
    "collapsed": true
   },
   "outputs": [],
   "source": []
  },
  {
   "cell_type": "code",
   "execution_count": 180,
   "metadata": {},
   "outputs": [
    {
     "data": {
      "text/plain": [
       "[['kitchenham2004a - A comparison of cross-company and within-company effort estimation models for web applications'],\n",
       " ['premraj2007a - Building software cost estimation models using homogenous data']]"
      ]
     },
     "execution_count": 180,
     "metadata": {},
     "output_type": "execute_result"
    }
   ],
   "source": [
    "separa_backward_forward(state) @ metakey_title"
   ]
  },
  {
   "cell_type": "code",
   "execution_count": 187,
   "metadata": {},
   "outputs": [
    {
     "data": {
      "image/png": "[encoded data removed]",
      "text/plain": [
       "<matplotlib.figure.Figure at 0x1178a408da0>"
      ]
     },
     "metadata": {},
     "output_type": "display_data"
    }
   ],
   "source": [
    "sets = separa_backward_forward(state)\n",
    "sets = encontraria(strategy, state)\n",
    "v = venn2(sets, set_labels = ('Backward', 'Forward'))\n",
    "c = venn2_circles(sets)\n",
    "plt.title('subplot 2')\n",
    "plt.show()"
   ]
  },
  {
   "cell_type": "code",
   "execution_count": 186,
   "metadata": {},
   "outputs": [
    {
     "name": "stdout",
     "output_type": "stream",
     "text": [
      "Backward ['mendes2004a']\n",
      "Forward ['ferrucci2012a', 'mendes2004a']\n"
     ]
    }
   ],
   "source": [
    "print(\"Backward\", sets[0] @ metakey)\n",
    "print(\"Forward\", sets[1] @ metakey)"
   ]
  },
  {
   "cell_type": "code",
   "execution_count": 140,
   "metadata": {
    "collapsed": true
   },
   "outputs": [],
   "source": [
    "x = v.get_patch_by_id('100')"
   ]
  },
  {
   "cell_type": "code",
   "execution_count": 141,
   "metadata": {
    "collapsed": true
   },
   "outputs": [],
   "source": [
    "x.set_linestyle = \"black\""
   ]
  },
  {
   "cell_type": "code",
   "execution_count": 110,
   "metadata": {},
   "outputs": [
    {
     "data": {
      "text/plain": [
       "['ferrucci2012a', 'mendes2004a']"
      ]
     },
     "execution_count": 110,
     "metadata": {},
     "output_type": "execute_result"
    }
   ],
   "source": [
    "state.find(\"s0\").related @ metakey"
   ]
  },
  {
   "cell_type": "code",
   "execution_count": 94,
   "metadata": {},
   "outputs": [
    {
     "data": {
      "text/plain": [
       "['ferrucci2012a', 'mendes2004a']"
      ]
     },
     "execution_count": 94,
     "metadata": {},
     "output_type": "execute_result"
    }
   ],
   "source": [
    "[x.metakey for x in state.find(\"s0\").related]"
   ]
  },
  {
   "cell_type": "code",
   "execution_count": 95,
   "metadata": {},
   "outputs": [
    {
     "data": {
      "text/plain": [
       "['premraj2007a', 'kitchenham2004a']"
      ]
     },
     "execution_count": 95,
     "metadata": {},
     "output_type": "execute_result"
    }
   ],
   "source": [
    "diff_related = state.related - state.find(\"s0\").related\n",
    "[x.metakey for x in diff_related]"
   ]
  },
  {
   "cell_type": "code",
   "execution_count": 190,
   "metadata": {},
   "outputs": [
    {
     "name": "stdout",
     "output_type": "stream",
     "text": [
      "backward ferrucci2012a\n",
      "- kocaguneli2012a \n",
      "- kitchenham1998a \n",
      "- mendes2005b \n",
      "- mendes2008a \n",
      "- shepperd2001a \n",
      "- mendes2003a \n",
      "- cohen1988a \n",
      "- kocaguneli2010a \n",
      "- mendes2002a \n",
      "- menzies2011a \n",
      "- conte1986a \n",
      "- kitchenham2001a \n",
      "- mendes2007a \n",
      "- kitchenham1995a \n",
      "- kitchenham2007a \n",
      "- maxwell2002a \n",
      "- turhan2009a \n",
      "- kocaguneli2011a \n",
      "- cook1977a \n",
      "- li2009a \n",
      "- mendes2008b \n",
      "- kitchenham2004a related\n",
      "- mendes2005a \n",
      "backward mendes2004a\n",
      "- kemerer1987a \n",
      "- briand1999a \n",
      "- briand2000a \n",
      "- kitchenham1998a \n",
      "- kitchenham2001a \n",
      "- wieczorek2002a \n",
      "- kitchenham2004a related\n",
      "- christodoulou2000a \n",
      "- shepperd2001a \n",
      "- maxwell2002a \n",
      "- wilcoxon1945a \n",
      "- kitchenham1984a \n",
      "- mendes2003b \n",
      "- cook1977a \n",
      "- mendes2003a \n",
      "forward mendes2004a\n",
      "- mendes2007a \n",
      "- kocaguneli2010a \n",
      "- mendes2005b \n",
      "- kitchenham2007a \n",
      "- mendes2008b \n"
     ]
    }
   ],
   "source": [
    " descreve_delta(strategy, state, \"s2\")"
   ]
  },
  {
   "cell_type": "code",
   "execution_count": 59,
   "metadata": {},
   "outputs": [
    {
     "name": "stdout",
     "output_type": "stream",
     "text": [
      "Precision na Busca E2: 0.40%\n",
      "\n",
      "Precision no Snowballing E2: 0.02%\n",
      "Precision no Snowballing E2 - Forward - 1 iteração: 0.01%\n",
      "Precision no Snowballing E2 - Backward - 1 iteração: 0.03%\n",
      "\n",
      "Precision E2 (Busca + Snowballing): 0.04%\n",
      "Precision E2\n",
      "0.04040404040404041\n",
      "Recall E2\n",
      "1.0\n"
     ]
    }
   ],
   "source": [
    "E2P = len (strategy.initial.related) / len (strategy.initial.visited)\n",
    "#print (len (strategy.initial.related))\n",
    "#print (len (strategy.initial.visited))\n",
    "#print (E2P)\n",
    "print (\"Precision na Busca E2: %.2f%%\" % E2P)\n",
    "\n",
    "#print (\"Precision no Snowballing - E2:\")\n",
    "#print(len(state.related - state.find(\"s0\").related))\n",
    "#print(len(state.visited - state.find(\"s0\").visited))\n",
    "\n",
    "E2PS = len(state.related - state.find(\"s0\").related) / len(state.visited - state.find(\"s0\").visited)\n",
    "\n",
    "print (\"\\n\"\"Precision no Snowballing E2: %.2f%%\" % E2PS)\n",
    "\n",
    "print(\"Precision no Snowballing E2 - Forward - 1 iteração: %.2f%%\" % (len (state.find(\"s1\").delta_related) / len (state.find(\"s1\").delta_visited)))\n",
    "\n",
    "print(\"Precision no Snowballing E2 - Backward - 1 iteração: %.2f%%\" % (len (state.find(\"s2\").delta_related) / len (state.find(\"s2\").delta_visited)))\n",
    "\n",
    "print(\"\\n\"\"Precision E2 (Busca + Snowballing): %.2f%%\" % (len(state.related) / len(state.visited)))\n",
    "\n",
    "#len (state.find(\"s1\").related)\n",
    "\n",
    "#len (state.find(\"s1\").delta_related)\n",
    "#len (state.find(\"s1\").delta_visited)\n",
    "\n",
    "\n",
    "name = \"E2\"\n",
    "print (\"Precision \" + name)\n",
    "EP = len (state.related) / len (state.visited)\n",
    "print (EP)\n",
    "print (\"Recall \" + name)\n",
    "ER = len (state.related) / len (TOTAL)\n",
    "print (ER)\n",
    "\n",
    "array.append((name, EP, ER))"
   ]
  },
  {
   "cell_type": "code",
   "execution_count": null,
   "metadata": {
    "collapsed": true
   },
   "outputs": [],
   "source": []
  },
  {
   "cell_type": "markdown",
   "metadata": {},
   "source": [
    "### Estratégia 3 - Busca Informal (Google Scholar) + Snowballing (Guideline - sfbu)"
   ]
  },
  {
   "cell_type": "code",
   "execution_count": 29,
   "metadata": {},
   "outputs": [
    {
     "data": {
      "image/svg+xml": [
       "<?xml version=\"1.0\" encoding=\"UTF-8\" standalone=\"no\"?>\r\n",
       "<!DOCTYPE svg PUBLIC \"-//W3C//DTD SVG 1.1//EN\"\r\n",
       " \"http://www.w3.org/Graphics/SVG/1.1/DTD/svg11.dtd\">\r\n",
       "<!-- Generated by graphviz version 2.38.0 (20140413.2041)\r\n",
       " -->\r\n",
       "<!-- Title: G Pages: 1 -->\r\n",
       "<svg width=\"470pt\" height=\"176pt\"\r\n",
       " viewBox=\"0.00 0.00 470.26 175.95\" xmlns=\"http://www.w3.org/2000/svg\" xmlns:xlink=\"http://www.w3.org/1999/xlink\">\r\n",
       "<g id=\"graph0\" class=\"graph\" transform=\"scale(1 1) rotate(0) translate(4 171.953)\">\r\n",
       "<title>G</title>\r\n",
       "<polygon fill=\"white\" stroke=\"none\" points=\"-4,4 -4,-171.953 466.257,-171.953 466.257,4 -4,4\"/>\r\n",
       "<!-- s3 -->\r\n",
       "<g id=\"node1\" class=\"node\"><title>s3</title>\r\n",
       "<ellipse fill=\"none\" stroke=\"black\" cx=\"414.881\" cy=\"-86.4767\" rx=\"47.2526\" ry=\"37.4533\"/>\r\n",
       "<text text-anchor=\"middle\" x=\"414.881\" y=\"-97.7767\" font-family=\"Times New Roman,serif\" font-size=\"14.00\">s3</text>\r\n",
       "<text text-anchor=\"middle\" x=\"414.881\" y=\"-82.7767\" font-family=\"Times New Roman,serif\" font-size=\"14.00\">visited: 0</text>\r\n",
       "<text text-anchor=\"middle\" x=\"414.881\" y=\"-67.7767\" font-family=\"Times New Roman,serif\" font-size=\"14.00\">related: 0</text>\r\n",
       "</g>\r\n",
       "<!-- s1 -->\r\n",
       "<g id=\"node2\" class=\"node\"><title>s1</title>\r\n",
       "<ellipse fill=\"none\" stroke=\"black\" cx=\"233.128\" cy=\"-130.477\" rx=\"47.2526\" ry=\"37.4533\"/>\r\n",
       "<text text-anchor=\"middle\" x=\"233.128\" y=\"-141.777\" font-family=\"Times New Roman,serif\" font-size=\"14.00\">s1</text>\r\n",
       "<text text-anchor=\"middle\" x=\"233.128\" y=\"-126.777\" font-family=\"Times New Roman,serif\" font-size=\"14.00\">visited: 0</text>\r\n",
       "<text text-anchor=\"middle\" x=\"233.128\" y=\"-111.777\" font-family=\"Times New Roman,serif\" font-size=\"14.00\">related: 0</text>\r\n",
       "</g>\r\n",
       "<!-- s3&#45;&gt;s1 -->\r\n",
       "<g id=\"edge1\" class=\"edge\"><title>s3&#45;&gt;s1</title>\r\n",
       "<path fill=\"none\" stroke=\"black\" d=\"M369.448,-97.3531C345.034,-103.329 314.549,-110.791 288.698,-117.119\"/>\r\n",
       "<polygon fill=\"black\" stroke=\"black\" points=\"287.554,-113.796 278.673,-119.573 289.219,-120.595 287.554,-113.796\"/>\r\n",
       "<text text-anchor=\"middle\" x=\"324.005\" y=\"-147.277\" font-family=\"Times New Roman,serif\" font-size=\"14.00\">union</text>\r\n",
       "<text text-anchor=\"middle\" x=\"324.005\" y=\"-132.277\" font-family=\"Times New Roman,serif\" font-size=\"14.00\">found: 0</text>\r\n",
       "<text text-anchor=\"middle\" x=\"324.005\" y=\"-117.277\" font-family=\"Times New Roman,serif\" font-size=\"14.00\">related: 0</text>\r\n",
       "</g>\r\n",
       "<!-- s2 -->\r\n",
       "<g id=\"node3\" class=\"node\"><title>s2</title>\r\n",
       "<ellipse fill=\"none\" stroke=\"black\" cx=\"233.128\" cy=\"-37.4767\" rx=\"47.2526\" ry=\"37.4533\"/>\r\n",
       "<text text-anchor=\"middle\" x=\"233.128\" y=\"-48.7767\" font-family=\"Times New Roman,serif\" font-size=\"14.00\">s2</text>\r\n",
       "<text text-anchor=\"middle\" x=\"233.128\" y=\"-33.7767\" font-family=\"Times New Roman,serif\" font-size=\"14.00\">visited: 0</text>\r\n",
       "<text text-anchor=\"middle\" x=\"233.128\" y=\"-18.7767\" font-family=\"Times New Roman,serif\" font-size=\"14.00\">related: 0</text>\r\n",
       "</g>\r\n",
       "<!-- s3&#45;&gt;s2 -->\r\n",
       "<g id=\"edge2\" class=\"edge\"><title>s3&#45;&gt;s2</title>\r\n",
       "<path fill=\"none\" stroke=\"black\" d=\"M375.895,-65.1417C367.415,-61.079 358.318,-57.2396 349.505,-54.4767 330.672,-48.5725 309.452,-44.6998 290.394,-42.1675\"/>\r\n",
       "<polygon fill=\"black\" stroke=\"black\" points=\"290.708,-38.6798 280.355,-40.9281 289.851,-45.6271 290.708,-38.6798\"/>\r\n",
       "<text text-anchor=\"middle\" x=\"324.005\" y=\"-88.2767\" font-family=\"Times New Roman,serif\" font-size=\"14.00\">union</text>\r\n",
       "<text text-anchor=\"middle\" x=\"324.005\" y=\"-73.2767\" font-family=\"Times New Roman,serif\" font-size=\"14.00\">found: 0</text>\r\n",
       "<text text-anchor=\"middle\" x=\"324.005\" y=\"-58.2767\" font-family=\"Times New Roman,serif\" font-size=\"14.00\">related: 0</text>\r\n",
       "</g>\r\n",
       "<!-- s0 -->\r\n",
       "<g id=\"node4\" class=\"node\"><title>s0</title>\r\n",
       "<ellipse fill=\"none\" stroke=\"black\" cx=\"47.3762\" cy=\"-86.4767\" rx=\"47.2526\" ry=\"37.4533\"/>\r\n",
       "<text text-anchor=\"middle\" x=\"47.3762\" y=\"-97.7767\" font-family=\"Times New Roman,serif\" font-size=\"14.00\">s0</text>\r\n",
       "<text text-anchor=\"middle\" x=\"47.3762\" y=\"-82.7767\" font-family=\"Times New Roman,serif\" font-size=\"14.00\">visited: 0</text>\r\n",
       "<text text-anchor=\"middle\" x=\"47.3762\" y=\"-67.7767\" font-family=\"Times New Roman,serif\" font-size=\"14.00\">related: 0</text>\r\n",
       "</g>\r\n",
       "<!-- s1&#45;&gt;s0 -->\r\n",
       "<g id=\"edge3\" class=\"edge\"><title>s1&#45;&gt;s0</title>\r\n",
       "<path fill=\"none\" stroke=\"black\" d=\"M187.647,-119.825C162.218,-113.736 130.118,-106.05 103.146,-99.5915\"/>\r\n",
       "<polygon fill=\"black\" stroke=\"black\" points=\"103.625,-96.1072 93.0847,-97.1822 101.995,-102.915 103.625,-96.1072\"/>\r\n",
       "<text text-anchor=\"middle\" x=\"140.252\" y=\"-148.277\" font-family=\"Times New Roman,serif\" font-size=\"14.00\">forward</text>\r\n",
       "<text text-anchor=\"middle\" x=\"140.252\" y=\"-133.277\" font-family=\"Times New Roman,serif\" font-size=\"14.00\">found: 0</text>\r\n",
       "<text text-anchor=\"middle\" x=\"140.252\" y=\"-118.277\" font-family=\"Times New Roman,serif\" font-size=\"14.00\">related: 0</text>\r\n",
       "</g>\r\n",
       "<!-- s2&#45;&gt;s0 -->\r\n",
       "<g id=\"edge4\" class=\"edge\"><title>s2&#45;&gt;s0</title>\r\n",
       "<path fill=\"none\" stroke=\"black\" d=\"M185.701,-40.0118C163.271,-42.1617 136.199,-46.1346 112.752,-53.4767 106.994,-55.2799 101.129,-57.5686 95.4009,-60.0972\"/>\r\n",
       "<polygon fill=\"black\" stroke=\"black\" points=\"93.5018,-57.1219 85.9328,-64.5355 96.4729,-63.4601 93.5018,-57.1219\"/>\r\n",
       "<text text-anchor=\"middle\" x=\"140.252\" y=\"-87.2767\" font-family=\"Times New Roman,serif\" font-size=\"14.00\">backward</text>\r\n",
       "<text text-anchor=\"middle\" x=\"140.252\" y=\"-72.2767\" font-family=\"Times New Roman,serif\" font-size=\"14.00\">found: 0</text>\r\n",
       "<text text-anchor=\"middle\" x=\"140.252\" y=\"-57.2767\" font-family=\"Times New Roman,serif\" font-size=\"14.00\">related: 0</text>\r\n",
       "</g>\r\n",
       "</g>\r\n",
       "</svg>\r\n"
      ],
      "text/plain": [
       "Step(name='start', new_references=0, new_related=0, total_visited=0, total_related=0, source='', target='s0')\n",
       "Step(name='backward', new_references=0, new_related=0, total_visited=0, total_related=0, source='s0', target='s2')\n",
       "Step(name='forward', new_references=0, new_related=0, total_visited=0, total_related=0, source='s0', target='s1')\n",
       "Step(name='union', new_references=0, new_related=0, total_visited=0, total_related=0, source='s1|s2', target='s3')"
      ],
      "text/vnd.graphviz": [
       "digraph G {\n",
       "  rankdir=\"RL\";\n",
       "\n",
       "  s3 [label=\"s3\\nvisited: 0\\nrelated: 0\"];\n",
       "  s3 -> s1 [label=\"union\\nfound: 0\\nrelated: 0\"];\n",
       "  s3 -> s2 [label=\"union\\nfound: 0\\nrelated: 0\"];\n",
       "\n",
       "  s1 [label=\"s1\\nvisited: 0\\nrelated: 0\"];\n",
       "  s1 -> s0 [label=\"forward\\nfound: 0\\nrelated: 0\"];\n",
       "\n",
       "  s2 [label=\"s2\\nvisited: 0\\nrelated: 0\"];\n",
       "  s2 -> s0 [label=\"backward\\nfound: 0\\nrelated: 0\"];\n",
       "\n",
       "  s0 [label=\"s0\\nvisited: 0\\nrelated: 0\"];\n",
       "\n",
       "}"
      ]
     },
     "metadata": {},
     "output_type": "display_data"
    }
   ],
   "source": [
    "reload()\n",
    "filter_function = lambda x: x.category in (\"snowball\", \"forward\", \"backward\")\n",
    "\n",
    "strategy = Strategy(*busca(\"gs\", filter_function=filter_function))\n",
    "state = strategy.sfbu()\n",
    "state"
   ]
  },
  {
   "cell_type": "code",
   "execution_count": 30,
   "metadata": {},
   "outputs": [
    {
     "name": "stdout",
     "output_type": "stream",
     "text": [
      "Precision E3\n"
     ]
    },
    {
     "ename": "ZeroDivisionError",
     "evalue": "division by zero",
     "output_type": "error",
     "traceback": [
      "\u001b[1;31m---------------------------------------------------------------------------\u001b[0m",
      "\u001b[1;31mZeroDivisionError\u001b[0m                         Traceback (most recent call last)",
      "\u001b[1;32m<ipython-input-30-877b415a516b>\u001b[0m in \u001b[0;36m<module>\u001b[1;34m()\u001b[0m\n\u001b[0;32m      1\u001b[0m \u001b[0mname\u001b[0m \u001b[1;33m=\u001b[0m \u001b[1;34m\"E3\"\u001b[0m\u001b[1;33m\u001b[0m\u001b[0m\n\u001b[0;32m      2\u001b[0m \u001b[0mprint\u001b[0m \u001b[1;33m(\u001b[0m\u001b[1;34m\"Precision \"\u001b[0m \u001b[1;33m+\u001b[0m \u001b[0mname\u001b[0m\u001b[1;33m)\u001b[0m\u001b[1;33m\u001b[0m\u001b[0m\n\u001b[1;32m----> 3\u001b[1;33m \u001b[0mEP\u001b[0m \u001b[1;33m=\u001b[0m \u001b[0mlen\u001b[0m \u001b[1;33m(\u001b[0m\u001b[0mstate\u001b[0m\u001b[1;33m.\u001b[0m\u001b[0mrelated\u001b[0m\u001b[1;33m)\u001b[0m \u001b[1;33m/\u001b[0m \u001b[0mlen\u001b[0m \u001b[1;33m(\u001b[0m\u001b[0mstate\u001b[0m\u001b[1;33m.\u001b[0m\u001b[0mvisited\u001b[0m\u001b[1;33m)\u001b[0m\u001b[1;33m\u001b[0m\u001b[0m\n\u001b[0m\u001b[0;32m      4\u001b[0m \u001b[0mprint\u001b[0m \u001b[1;33m(\u001b[0m\u001b[0mEP\u001b[0m\u001b[1;33m)\u001b[0m\u001b[1;33m\u001b[0m\u001b[0m\n\u001b[0;32m      5\u001b[0m \u001b[0mprint\u001b[0m \u001b[1;33m(\u001b[0m\u001b[1;34m\"Recall \"\u001b[0m \u001b[1;33m+\u001b[0m \u001b[0mname\u001b[0m\u001b[1;33m)\u001b[0m\u001b[1;33m\u001b[0m\u001b[0m\n",
      "\u001b[1;31mZeroDivisionError\u001b[0m: division by zero"
     ]
    }
   ],
   "source": [
    "name = \"E3\"\n",
    "print (\"Precision \" + name)\n",
    "EP = len (state.related) / len (state.visited)\n",
    "print (EP)\n",
    "print (\"Recall \" + name)\n",
    "ER = len (state.related) / len (TOTAL)\n",
    "print (ER)\n",
    "\n",
    "array.append((name, EP, ER))"
   ]
  },
  {
   "cell_type": "markdown",
   "metadata": {},
   "source": [
    "### Estratégia 4 - Busca em Scopus + Snowballing (Guideline - sfbu)"
   ]
  },
  {
   "cell_type": "code",
   "execution_count": 31,
   "metadata": {},
   "outputs": [
    {
     "data": {
      "image/svg+xml": [
       "<?xml version=\"1.0\" encoding=\"UTF-8\" standalone=\"no\"?>\r\n",
       "<!DOCTYPE svg PUBLIC \"-//W3C//DTD SVG 1.1//EN\"\r\n",
       " \"http://www.w3.org/Graphics/SVG/1.1/DTD/svg11.dtd\">\r\n",
       "<!-- Generated by graphviz version 2.38.0 (20140413.2041)\r\n",
       " -->\r\n",
       "<!-- Title: G Pages: 1 -->\r\n",
       "<svg width=\"872pt\" height=\"185pt\"\r\n",
       " viewBox=\"0.00 0.00 871.70 184.95\" xmlns=\"http://www.w3.org/2000/svg\" xmlns:xlink=\"http://www.w3.org/1999/xlink\">\r\n",
       "<g id=\"graph0\" class=\"graph\" transform=\"scale(1 1) rotate(0) translate(4 180.953)\">\r\n",
       "<title>G</title>\r\n",
       "<polygon fill=\"white\" stroke=\"none\" points=\"-4,4 -4,-180.953 867.703,-180.953 867.703,4 -4,4\"/>\r\n",
       "<!-- s6 -->\r\n",
       "<g id=\"node1\" class=\"node\"><title>s6</title>\r\n",
       "<ellipse fill=\"none\" stroke=\"black\" cx=\"812.084\" cy=\"-86.4767\" rx=\"51.7379\" ry=\"37.4533\"/>\r\n",
       "<text text-anchor=\"middle\" x=\"812.084\" y=\"-97.7767\" font-family=\"Times New Roman,serif\" font-size=\"14.00\">s6</text>\r\n",
       "<text text-anchor=\"middle\" x=\"812.084\" y=\"-82.7767\" font-family=\"Times New Roman,serif\" font-size=\"14.00\">visited: 99</text>\r\n",
       "<text text-anchor=\"middle\" x=\"812.084\" y=\"-67.7767\" font-family=\"Times New Roman,serif\" font-size=\"14.00\">related: 4</text>\r\n",
       "</g>\r\n",
       "<!-- s4 -->\r\n",
       "<g id=\"node2\" class=\"node\"><title>s4</title>\r\n",
       "<ellipse fill=\"none\" stroke=\"black\" cx=\"621.846\" cy=\"-130.477\" rx=\"51.7379\" ry=\"37.4533\"/>\r\n",
       "<text text-anchor=\"middle\" x=\"621.846\" y=\"-141.777\" font-family=\"Times New Roman,serif\" font-size=\"14.00\">s4</text>\r\n",
       "<text text-anchor=\"middle\" x=\"621.846\" y=\"-126.777\" font-family=\"Times New Roman,serif\" font-size=\"14.00\">visited: 99</text>\r\n",
       "<text text-anchor=\"middle\" x=\"621.846\" y=\"-111.777\" font-family=\"Times New Roman,serif\" font-size=\"14.00\">related: 4</text>\r\n",
       "</g>\r\n",
       "<!-- s6&#45;&gt;s4 -->\r\n",
       "<g id=\"edge1\" class=\"edge\"><title>s6&#45;&gt;s4</title>\r\n",
       "<path fill=\"none\" stroke=\"black\" d=\"M762.608,-97.8078C737.687,-103.633 707.133,-110.775 680.956,-116.894\"/>\r\n",
       "<polygon fill=\"black\" stroke=\"black\" points=\"680.099,-113.5 671.158,-119.184 681.692,-120.316 680.099,-113.5\"/>\r\n",
       "<text text-anchor=\"middle\" x=\"716.965\" y=\"-147.277\" font-family=\"Times New Roman,serif\" font-size=\"14.00\">union</text>\r\n",
       "<text text-anchor=\"middle\" x=\"716.965\" y=\"-132.277\" font-family=\"Times New Roman,serif\" font-size=\"14.00\">found: 0</text>\r\n",
       "<text text-anchor=\"middle\" x=\"716.965\" y=\"-117.277\" font-family=\"Times New Roman,serif\" font-size=\"14.00\">related: 0</text>\r\n",
       "</g>\r\n",
       "<!-- s5 -->\r\n",
       "<g id=\"node3\" class=\"node\"><title>s5</title>\r\n",
       "<ellipse fill=\"none\" stroke=\"black\" cx=\"621.846\" cy=\"-37.4767\" rx=\"51.7379\" ry=\"37.4533\"/>\r\n",
       "<text text-anchor=\"middle\" x=\"621.846\" y=\"-48.7767\" font-family=\"Times New Roman,serif\" font-size=\"14.00\">s5</text>\r\n",
       "<text text-anchor=\"middle\" x=\"621.846\" y=\"-33.7767\" font-family=\"Times New Roman,serif\" font-size=\"14.00\">visited: 99</text>\r\n",
       "<text text-anchor=\"middle\" x=\"621.846\" y=\"-18.7767\" font-family=\"Times New Roman,serif\" font-size=\"14.00\">related: 4</text>\r\n",
       "</g>\r\n",
       "<!-- s6&#45;&gt;s5 -->\r\n",
       "<g id=\"edge2\" class=\"edge\"><title>s6&#45;&gt;s5</title>\r\n",
       "<path fill=\"none\" stroke=\"black\" d=\"M769.756,-64.8235C760.934,-60.8822 751.537,-57.1718 742.465,-54.4767 723.631,-48.8817 702.566,-45.1051 683.424,-42.5653\"/>\r\n",
       "<polygon fill=\"black\" stroke=\"black\" points=\"683.667,-39.0689 673.313,-41.3124 682.807,-46.0157 683.667,-39.0689\"/>\r\n",
       "<text text-anchor=\"middle\" x=\"716.965\" y=\"-88.2767\" font-family=\"Times New Roman,serif\" font-size=\"14.00\">union</text>\r\n",
       "<text text-anchor=\"middle\" x=\"716.965\" y=\"-73.2767\" font-family=\"Times New Roman,serif\" font-size=\"14.00\">found: 0</text>\r\n",
       "<text text-anchor=\"middle\" x=\"716.965\" y=\"-58.2767\" font-family=\"Times New Roman,serif\" font-size=\"14.00\">related: 0</text>\r\n",
       "</g>\r\n",
       "<!-- s3 -->\r\n",
       "<g id=\"node4\" class=\"node\"><title>s3</title>\r\n",
       "<ellipse fill=\"none\" stroke=\"black\" cx=\"427.609\" cy=\"-86.4767\" rx=\"51.7379\" ry=\"37.4533\"/>\r\n",
       "<text text-anchor=\"middle\" x=\"427.609\" y=\"-97.7767\" font-family=\"Times New Roman,serif\" font-size=\"14.00\">s3</text>\r\n",
       "<text text-anchor=\"middle\" x=\"427.609\" y=\"-82.7767\" font-family=\"Times New Roman,serif\" font-size=\"14.00\">visited: 99</text>\r\n",
       "<text text-anchor=\"middle\" x=\"427.609\" y=\"-67.7767\" font-family=\"Times New Roman,serif\" font-size=\"14.00\">related: 4</text>\r\n",
       "</g>\r\n",
       "<!-- s4&#45;&gt;s3 -->\r\n",
       "<g id=\"edge3\" class=\"edge\"><title>s4&#45;&gt;s3</title>\r\n",
       "<path fill=\"none\" stroke=\"black\" d=\"M572.337,-119.374C546.382,-113.433 514.232,-106.074 486.924,-99.8241\"/>\r\n",
       "<polygon fill=\"black\" stroke=\"black\" points=\"487.632,-96.3956 477.103,-97.5762 486.07,-103.219 487.632,-96.3956\"/>\r\n",
       "<text text-anchor=\"middle\" x=\"524.727\" y=\"-147.277\" font-family=\"Times New Roman,serif\" font-size=\"14.00\">forward</text>\r\n",
       "<text text-anchor=\"middle\" x=\"524.727\" y=\"-132.277\" font-family=\"Times New Roman,serif\" font-size=\"14.00\">found: 0</text>\r\n",
       "<text text-anchor=\"middle\" x=\"524.727\" y=\"-117.277\" font-family=\"Times New Roman,serif\" font-size=\"14.00\">related: 0</text>\r\n",
       "</g>\r\n",
       "<!-- s5&#45;&gt;s3 -->\r\n",
       "<g id=\"edge4\" class=\"edge\"><title>s5&#45;&gt;s3</title>\r\n",
       "<path fill=\"none\" stroke=\"black\" d=\"M570.203,-40.988C547.547,-43.4354 520.709,-47.5584 497.227,-54.4767 491.27,-56.2319 485.174,-58.4293 479.193,-60.8459\"/>\r\n",
       "<polygon fill=\"black\" stroke=\"black\" points=\"477.757,-57.6536 469.927,-64.7918 480.499,-64.0939 477.757,-57.6536\"/>\r\n",
       "<text text-anchor=\"middle\" x=\"524.727\" y=\"-88.2767\" font-family=\"Times New Roman,serif\" font-size=\"14.00\">backward</text>\r\n",
       "<text text-anchor=\"middle\" x=\"524.727\" y=\"-73.2767\" font-family=\"Times New Roman,serif\" font-size=\"14.00\">found: 0</text>\r\n",
       "<text text-anchor=\"middle\" x=\"524.727\" y=\"-58.2767\" font-family=\"Times New Roman,serif\" font-size=\"14.00\">related: 0</text>\r\n",
       "</g>\r\n",
       "<!-- s1 -->\r\n",
       "<g id=\"node5\" class=\"node\"><title>s1</title>\r\n",
       "<ellipse fill=\"none\" stroke=\"black\" cx=\"237.371\" cy=\"-139.477\" rx=\"51.7379\" ry=\"37.4533\"/>\r\n",
       "<text text-anchor=\"middle\" x=\"237.371\" y=\"-150.777\" font-family=\"Times New Roman,serif\" font-size=\"14.00\">s1</text>\r\n",
       "<text text-anchor=\"middle\" x=\"237.371\" y=\"-135.777\" font-family=\"Times New Roman,serif\" font-size=\"14.00\">visited: 73</text>\r\n",
       "<text text-anchor=\"middle\" x=\"237.371\" y=\"-120.777\" font-family=\"Times New Roman,serif\" font-size=\"14.00\">related: 3</text>\r\n",
       "</g>\r\n",
       "<!-- s3&#45;&gt;s1 -->\r\n",
       "<g id=\"edge5\" class=\"edge\"><title>s3&#45;&gt;s1</title>\r\n",
       "<path fill=\"none\" stroke=\"black\" d=\"M381.044,-103.117C373.389,-105.71 365.494,-108.26 357.99,-110.477 338.269,-116.3 316.473,-121.843 296.948,-126.494\"/>\r\n",
       "<polygon fill=\"black\" stroke=\"black\" points=\"295.901,-123.145 286.968,-128.841 297.504,-129.959 295.901,-123.145\"/>\r\n",
       "<text text-anchor=\"middle\" x=\"332.49\" y=\"-157.277\" font-family=\"Times New Roman,serif\" font-size=\"14.00\">union</text>\r\n",
       "<text text-anchor=\"middle\" x=\"332.49\" y=\"-142.277\" font-family=\"Times New Roman,serif\" font-size=\"14.00\">found: 0</text>\r\n",
       "<text text-anchor=\"middle\" x=\"332.49\" y=\"-127.277\" font-family=\"Times New Roman,serif\" font-size=\"14.00\">related: 0</text>\r\n",
       "</g>\r\n",
       "<!-- s2 -->\r\n",
       "<g id=\"node6\" class=\"node\"><title>s2</title>\r\n",
       "<ellipse fill=\"none\" stroke=\"black\" cx=\"237.371\" cy=\"-46.4767\" rx=\"51.7379\" ry=\"37.4533\"/>\r\n",
       "<text text-anchor=\"middle\" x=\"237.371\" y=\"-57.7767\" font-family=\"Times New Roman,serif\" font-size=\"14.00\">s2</text>\r\n",
       "<text text-anchor=\"middle\" x=\"237.371\" y=\"-42.7767\" font-family=\"Times New Roman,serif\" font-size=\"14.00\">visited: 35</text>\r\n",
       "<text text-anchor=\"middle\" x=\"237.371\" y=\"-27.7767\" font-family=\"Times New Roman,serif\" font-size=\"14.00\">related: 3</text>\r\n",
       "</g>\r\n",
       "<!-- s3&#45;&gt;s2 -->\r\n",
       "<g id=\"edge6\" class=\"edge\"><title>s3&#45;&gt;s2</title>\r\n",
       "<path fill=\"none\" stroke=\"black\" d=\"M380.338,-71.3583C372.911,-69.2091 365.273,-67.1608 357.99,-65.4767 338.801,-61.0392 317.64,-57.3053 298.52,-54.3543\"/>\r\n",
       "<polygon fill=\"black\" stroke=\"black\" points=\"298.84,-50.8633 288.431,-52.8395 297.801,-57.7857 298.84,-50.8633\"/>\r\n",
       "<text text-anchor=\"middle\" x=\"332.49\" y=\"-99.2767\" font-family=\"Times New Roman,serif\" font-size=\"14.00\">union</text>\r\n",
       "<text text-anchor=\"middle\" x=\"332.49\" y=\"-84.2767\" font-family=\"Times New Roman,serif\" font-size=\"14.00\">found: 0</text>\r\n",
       "<text text-anchor=\"middle\" x=\"332.49\" y=\"-69.2767\" font-family=\"Times New Roman,serif\" font-size=\"14.00\">related: 0</text>\r\n",
       "</g>\r\n",
       "<!-- s0 -->\r\n",
       "<g id=\"node7\" class=\"node\"><title>s0</title>\r\n",
       "<ellipse fill=\"none\" stroke=\"black\" cx=\"47.3762\" cy=\"-95.4767\" rx=\"47.2526\" ry=\"37.4533\"/>\r\n",
       "<text text-anchor=\"middle\" x=\"47.3762\" y=\"-106.777\" font-family=\"Times New Roman,serif\" font-size=\"14.00\">s0</text>\r\n",
       "<text text-anchor=\"middle\" x=\"47.3762\" y=\"-91.7767\" font-family=\"Times New Roman,serif\" font-size=\"14.00\">visited: 4</text>\r\n",
       "<text text-anchor=\"middle\" x=\"47.3762\" y=\"-76.7767\" font-family=\"Times New Roman,serif\" font-size=\"14.00\">related: 2</text>\r\n",
       "</g>\r\n",
       "<!-- s1&#45;&gt;s0 -->\r\n",
       "<g id=\"edge7\" class=\"edge\"><title>s1&#45;&gt;s0</title>\r\n",
       "<path fill=\"none\" stroke=\"black\" d=\"M187.958,-128.146C162.008,-122.072 129.942,-114.567 103.091,-108.283\"/>\r\n",
       "<polygon fill=\"black\" stroke=\"black\" points=\"103.614,-104.81 93.0792,-105.939 102.018,-111.626 103.614,-104.81\"/>\r\n",
       "<text text-anchor=\"middle\" x=\"140.252\" y=\"-156.277\" font-family=\"Times New Roman,serif\" font-size=\"14.00\">forward</text>\r\n",
       "<text text-anchor=\"middle\" x=\"140.252\" y=\"-141.277\" font-family=\"Times New Roman,serif\" font-size=\"14.00\">found: 69</text>\r\n",
       "<text text-anchor=\"middle\" x=\"140.252\" y=\"-126.277\" font-family=\"Times New Roman,serif\" font-size=\"14.00\">related: 1</text>\r\n",
       "</g>\r\n",
       "<!-- s2&#45;&gt;s0 -->\r\n",
       "<g id=\"edge8\" class=\"edge\"><title>s2&#45;&gt;s0</title>\r\n",
       "<path fill=\"none\" stroke=\"black\" d=\"M185.57,-48.4583C162.884,-50.4019 136.067,-54.1796 112.752,-61.4767 106.736,-63.3596 100.621,-65.7994 94.673,-68.5076\"/>\r\n",
       "<polygon fill=\"black\" stroke=\"black\" points=\"92.9815,-65.4378 85.5031,-72.9428 96.0294,-71.7395 92.9815,-65.4378\"/>\r\n",
       "<text text-anchor=\"middle\" x=\"140.252\" y=\"-95.2767\" font-family=\"Times New Roman,serif\" font-size=\"14.00\">backward</text>\r\n",
       "<text text-anchor=\"middle\" x=\"140.252\" y=\"-80.2767\" font-family=\"Times New Roman,serif\" font-size=\"14.00\">found: 31</text>\r\n",
       "<text text-anchor=\"middle\" x=\"140.252\" y=\"-65.2767\" font-family=\"Times New Roman,serif\" font-size=\"14.00\">related: 1</text>\r\n",
       "</g>\r\n",
       "</g>\r\n",
       "</svg>\r\n"
      ],
      "text/plain": [
       "Step(name='start', new_references=4, new_related=2, total_visited=4, total_related=2, source='', target='s0')\n",
       "Step(name='backward', new_references=31, new_related=1, total_visited=35, total_related=3, source='s0', target='s2')\n",
       "Step(name='forward', new_references=69, new_related=1, total_visited=73, total_related=3, source='s0', target='s1')\n",
       "Step(name='union', new_references=0, new_related=0, total_visited=99, total_related=4, source='s1|s2', target='s3')\n",
       "Step(name='backward', new_references=0, new_related=0, total_visited=99, total_related=4, source='s3', target='s5')\n",
       "Step(name='forward', new_references=0, new_related=0, total_visited=99, total_related=4, source='s3', target='s4')\n",
       "Step(name='union', new_references=0, new_related=0, total_visited=99, total_related=4, source='s4|s5', target='s6')"
      ],
      "text/vnd.graphviz": [
       "digraph G {\n",
       "  rankdir=\"RL\";\n",
       "\n",
       "  s6 [label=\"s6\\nvisited: 99\\nrelated: 4\"];\n",
       "  s6 -> s4 [label=\"union\\nfound: 0\\nrelated: 0\"];\n",
       "  s6 -> s5 [label=\"union\\nfound: 0\\nrelated: 0\"];\n",
       "\n",
       "  s4 [label=\"s4\\nvisited: 99\\nrelated: 4\"];\n",
       "  s4 -> s3 [label=\"forward\\nfound: 0\\nrelated: 0\"];\n",
       "\n",
       "  s5 [label=\"s5\\nvisited: 99\\nrelated: 4\"];\n",
       "  s5 -> s3 [label=\"backward\\nfound: 0\\nrelated: 0\"];\n",
       "\n",
       "  s3 [label=\"s3\\nvisited: 99\\nrelated: 4\"];\n",
       "  s3 -> s1 [label=\"union\\nfound: 0\\nrelated: 0\"];\n",
       "  s3 -> s2 [label=\"union\\nfound: 0\\nrelated: 0\"];\n",
       "\n",
       "  s1 [label=\"s1\\nvisited: 73\\nrelated: 3\"];\n",
       "  s1 -> s0 [label=\"forward\\nfound: 69\\nrelated: 1\"];\n",
       "\n",
       "  s2 [label=\"s2\\nvisited: 35\\nrelated: 3\"];\n",
       "  s2 -> s0 [label=\"backward\\nfound: 31\\nrelated: 1\"];\n",
       "\n",
       "  s0 [label=\"s0\\nvisited: 4\\nrelated: 2\"];\n",
       "\n",
       "}"
      ]
     },
     "metadata": {},
     "output_type": "display_data"
    }
   ],
   "source": [
    "reload()\n",
    "filter_function = lambda x: x.category in (\"snowball\", \"forward\", \"backward\")\n",
    "\n",
    "strategy = Strategy(*busca(\"scopus\", filter_function=filter_function))\n",
    "state = strategy.sfbu()\n",
    "state"
   ]
  },
  {
   "cell_type": "code",
   "execution_count": 32,
   "metadata": {},
   "outputs": [
    {
     "name": "stdout",
     "output_type": "stream",
     "text": [
      "Precision E4\n",
      "0.04040404040404041\n",
      "Recall E4\n",
      "1.0\n"
     ]
    }
   ],
   "source": [
    "name = \"E4\"\n",
    "print (\"Precision \" + name)\n",
    "EP = len (state.related) / len (state.visited)\n",
    "print (EP)\n",
    "print (\"Recall \" + name)\n",
    "ER = len (state.related) / len (TOTAL)\n",
    "print (ER)\n",
    "\n",
    "array.append((name, EP, ER))"
   ]
  },
  {
   "cell_type": "code",
   "execution_count": 33,
   "metadata": {},
   "outputs": [
    {
     "data": {
      "text/plain": [
       "{Further comparison of cross-company and within-company effort estimation models for web applications,\n",
       " Web effort estimation: The value of cross-company data set compared to single-company data set}"
      ]
     },
     "execution_count": 33,
     "metadata": {},
     "output_type": "execute_result"
    }
   ],
   "source": [
    "state.find(\"s0\").related"
   ]
  },
  {
   "cell_type": "code",
   "execution_count": 34,
   "metadata": {},
   "outputs": [
    {
     "data": {
      "text/plain": [
       "{Further comparison of cross-company and within-company effort estimation models for web applications,\n",
       " A comparison of cross-company and within-company effort estimation models for web applications,\n",
       " Web effort estimation: The value of cross-company data set compared to single-company data set}"
      ]
     },
     "execution_count": 34,
     "metadata": {},
     "output_type": "execute_result"
    }
   ],
   "source": [
    "state.find(\"s2\").related"
   ]
  },
  {
   "cell_type": "code",
   "execution_count": 35,
   "metadata": {},
   "outputs": [
    {
     "data": {
      "text/plain": [
       "{A comparative study of two software development cost modeling techniques using multi-organizational and company-specific data,\n",
       " Further comparison of cross-company and within-company effort estimation models for web applications,\n",
       " Using public domain metrics to estimate software development effort,\n",
       " Web effort estimation: The value of cross-company data set compared to single-company data set}"
      ]
     },
     "execution_count": 35,
     "metadata": {},
     "output_type": "execute_result"
    }
   ],
   "source": [
    "state.find(\"s0\").visited"
   ]
  },
  {
   "cell_type": "code",
   "execution_count": 36,
   "metadata": {},
   "outputs": [
    {
     "data": {
      "text/plain": [
       "{A comparison of cross-company and within-company effort estimation models for web applications}"
      ]
     },
     "execution_count": 36,
     "metadata": {},
     "output_type": "execute_result"
    }
   ],
   "source": [
    "# Com backward de mendes2004a é possível encontrar 2 (resultado da celula)\n",
    "state.related & set(strategy.ref[work_by_varname(\"mendes2004a\")])"
   ]
  },
  {
   "cell_type": "code",
   "execution_count": 37,
   "metadata": {},
   "outputs": [
    {
     "data": {
      "text/plain": [
       "{A comparison of cross-company and within-company effort estimation models for web applications}"
      ]
     },
     "execution_count": 37,
     "metadata": {},
     "output_type": "execute_result"
    }
   ],
   "source": [
    "# Com backward de ... em S2, encontrou 1 (resultado da celula)\n",
    "state.find(\"s2\").delta_related & set(strategy.ref[work_by_varname(\"mendes2004a\")])"
   ]
  },
  {
   "cell_type": "code",
   "execution_count": 38,
   "metadata": {},
   "outputs": [
    {
     "data": {
      "text/plain": [
       "{Building software cost estimation models using homogenous data}"
      ]
     },
     "execution_count": 38,
     "metadata": {},
     "output_type": "execute_result"
    }
   ],
   "source": [
    "# Com forward de ... em S1, encontrou 1 (resultado da celula)\n",
    "state.find(\"s1\").delta_related & set(strategy.rev_ref[work_by_varname(\"mendes2004a\")])"
   ]
  },
  {
   "cell_type": "code",
   "execution_count": 39,
   "metadata": {},
   "outputs": [
    {
     "data": {
      "text/plain": [
       "69"
      ]
     },
     "execution_count": 39,
     "metadata": {},
     "output_type": "execute_result"
    }
   ],
   "source": [
    "len(state.find(\"s1\").delta_visited)"
   ]
  },
  {
   "cell_type": "code",
   "execution_count": 40,
   "metadata": {},
   "outputs": [
    {
     "data": {
      "text/plain": [
       "60"
      ]
     },
     "execution_count": 40,
     "metadata": {},
     "output_type": "execute_result"
    }
   ],
   "source": [
    "#len(state.find(\"s1\").delta_visited & set(strategy.rev_ref[work_by_varname(\"mendes2004a\")]))\n",
    "# forward\n",
    "len(set(strategy.rev_ref[work_by_varname(\"mendes2004a\")]))"
   ]
  },
  {
   "cell_type": "code",
   "execution_count": 41,
   "metadata": {},
   "outputs": [
    {
     "data": {
      "text/plain": [
       "17"
      ]
     },
     "execution_count": 41,
     "metadata": {},
     "output_type": "execute_result"
    }
   ],
   "source": [
    "# backward\n",
    "len(set(strategy.ref[work_by_varname(\"mendes2004a\")]))"
   ]
  },
  {
   "cell_type": "code",
   "execution_count": 42,
   "metadata": {},
   "outputs": [
    {
     "data": {
      "text/plain": [
       "{Further comparison of cross-company and within-company effort estimation models for web applications,\n",
       " Web effort estimation: The value of cross-company data set compared to single-company data set}"
      ]
     },
     "execution_count": 42,
     "metadata": {},
     "output_type": "execute_result"
    }
   ],
   "source": [
    "search_state = strategy.initial\n",
    "search_state.related"
   ]
  },
  {
   "cell_type": "markdown",
   "metadata": {},
   "source": [
    "### Estratégia 5 - Busca em Scopus + Snowballing (Short Paper - s2ffbb2u)"
   ]
  },
  {
   "cell_type": "code",
   "execution_count": 96,
   "metadata": {},
   "outputs": [
    {
     "data": {
      "image/svg+xml": [
       "<?xml version=\"1.0\" encoding=\"UTF-8\" standalone=\"no\"?>\r\n",
       "<!DOCTYPE svg PUBLIC \"-//W3C//DTD SVG 1.1//EN\"\r\n",
       " \"http://www.w3.org/Graphics/SVG/1.1/DTD/svg11.dtd\">\r\n",
       "<!-- Generated by graphviz version 2.38.0 (20140413.2041)\r\n",
       " -->\r\n",
       "<!-- Title: G Pages: 1 -->\r\n",
       "<svg width=\"681pt\" height=\"183pt\"\r\n",
       " viewBox=\"0.00 0.00 681.47 183.48\" xmlns=\"http://www.w3.org/2000/svg\" xmlns:xlink=\"http://www.w3.org/1999/xlink\">\r\n",
       "<g id=\"graph0\" class=\"graph\" transform=\"scale(1 1) rotate(0) translate(4 179.477)\">\r\n",
       "<title>G</title>\r\n",
       "<polygon fill=\"white\" stroke=\"none\" points=\"-4,4 -4,-179.477 677.465,-179.477 677.465,4 -4,4\"/>\r\n",
       "<!-- s5 -->\r\n",
       "<g id=\"node1\" class=\"node\"><title>s5</title>\r\n",
       "<ellipse fill=\"none\" stroke=\"black\" cx=\"621.846\" cy=\"-86.4767\" rx=\"51.7379\" ry=\"37.4533\"/>\r\n",
       "<text text-anchor=\"middle\" x=\"621.846\" y=\"-97.7767\" font-family=\"Times New Roman,serif\" font-size=\"14.00\">s5</text>\r\n",
       "<text text-anchor=\"middle\" x=\"621.846\" y=\"-82.7767\" font-family=\"Times New Roman,serif\" font-size=\"14.00\">visited: 99</text>\r\n",
       "<text text-anchor=\"middle\" x=\"621.846\" y=\"-67.7767\" font-family=\"Times New Roman,serif\" font-size=\"14.00\">related: 4</text>\r\n",
       "</g>\r\n",
       "<!-- s2 -->\r\n",
       "<g id=\"node2\" class=\"node\"><title>s2</title>\r\n",
       "<ellipse fill=\"none\" stroke=\"black\" cx=\"431.609\" cy=\"-130.477\" rx=\"51.7379\" ry=\"37.4533\"/>\r\n",
       "<text text-anchor=\"middle\" x=\"431.609\" y=\"-141.777\" font-family=\"Times New Roman,serif\" font-size=\"14.00\">s2</text>\r\n",
       "<text text-anchor=\"middle\" x=\"431.609\" y=\"-126.777\" font-family=\"Times New Roman,serif\" font-size=\"14.00\">visited: 73</text>\r\n",
       "<text text-anchor=\"middle\" x=\"431.609\" y=\"-111.777\" font-family=\"Times New Roman,serif\" font-size=\"14.00\">related: 3</text>\r\n",
       "</g>\r\n",
       "<!-- s5&#45;&gt;s2 -->\r\n",
       "<g id=\"edge1\" class=\"edge\"><title>s5&#45;&gt;s2</title>\r\n",
       "<path fill=\"none\" stroke=\"black\" d=\"M572.37,-97.8078C547.45,-103.633 516.896,-110.775 490.718,-116.894\"/>\r\n",
       "<polygon fill=\"black\" stroke=\"black\" points=\"489.861,-113.5 480.92,-119.184 491.454,-120.316 489.861,-113.5\"/>\r\n",
       "<text text-anchor=\"middle\" x=\"526.727\" y=\"-147.277\" font-family=\"Times New Roman,serif\" font-size=\"14.00\">union</text>\r\n",
       "<text text-anchor=\"middle\" x=\"526.727\" y=\"-132.277\" font-family=\"Times New Roman,serif\" font-size=\"14.00\">found: 0</text>\r\n",
       "<text text-anchor=\"middle\" x=\"526.727\" y=\"-117.277\" font-family=\"Times New Roman,serif\" font-size=\"14.00\">related: 0</text>\r\n",
       "</g>\r\n",
       "<!-- s4 -->\r\n",
       "<g id=\"node3\" class=\"node\"><title>s4</title>\r\n",
       "<ellipse fill=\"none\" stroke=\"black\" cx=\"431.609\" cy=\"-37.4767\" rx=\"51.7379\" ry=\"37.4533\"/>\r\n",
       "<text text-anchor=\"middle\" x=\"431.609\" y=\"-48.7767\" font-family=\"Times New Roman,serif\" font-size=\"14.00\">s4</text>\r\n",
       "<text text-anchor=\"middle\" x=\"431.609\" y=\"-33.7767\" font-family=\"Times New Roman,serif\" font-size=\"14.00\">visited: 35</text>\r\n",
       "<text text-anchor=\"middle\" x=\"431.609\" y=\"-18.7767\" font-family=\"Times New Roman,serif\" font-size=\"14.00\">related: 3</text>\r\n",
       "</g>\r\n",
       "<!-- s5&#45;&gt;s4 -->\r\n",
       "<g id=\"edge2\" class=\"edge\"><title>s5&#45;&gt;s4</title>\r\n",
       "<path fill=\"none\" stroke=\"black\" d=\"M579.518,-64.8235C570.697,-60.8822 561.3,-57.1718 552.227,-54.4767 533.394,-48.8817 512.328,-45.1051 493.186,-42.5653\"/>\r\n",
       "<polygon fill=\"black\" stroke=\"black\" points=\"493.43,-39.0689 483.075,-41.3124 492.569,-46.0157 493.43,-39.0689\"/>\r\n",
       "<text text-anchor=\"middle\" x=\"526.727\" y=\"-88.2767\" font-family=\"Times New Roman,serif\" font-size=\"14.00\">union</text>\r\n",
       "<text text-anchor=\"middle\" x=\"526.727\" y=\"-73.2767\" font-family=\"Times New Roman,serif\" font-size=\"14.00\">found: 0</text>\r\n",
       "<text text-anchor=\"middle\" x=\"526.727\" y=\"-58.2767\" font-family=\"Times New Roman,serif\" font-size=\"14.00\">related: 0</text>\r\n",
       "</g>\r\n",
       "<!-- s1 -->\r\n",
       "<g id=\"node4\" class=\"node\"><title>s1</title>\r\n",
       "<ellipse fill=\"none\" stroke=\"black\" cx=\"237.371\" cy=\"-130.477\" rx=\"51.7379\" ry=\"37.4533\"/>\r\n",
       "<text text-anchor=\"middle\" x=\"237.371\" y=\"-141.777\" font-family=\"Times New Roman,serif\" font-size=\"14.00\">s1</text>\r\n",
       "<text text-anchor=\"middle\" x=\"237.371\" y=\"-126.777\" font-family=\"Times New Roman,serif\" font-size=\"14.00\">visited: 73</text>\r\n",
       "<text text-anchor=\"middle\" x=\"237.371\" y=\"-111.777\" font-family=\"Times New Roman,serif\" font-size=\"14.00\">related: 3</text>\r\n",
       "</g>\r\n",
       "<!-- s2&#45;&gt;s1 -->\r\n",
       "<g id=\"edge3\" class=\"edge\"><title>s2&#45;&gt;s1</title>\r\n",
       "<path fill=\"none\" stroke=\"black\" d=\"M379.849,-130.477C355.102,-130.477 325.15,-130.477 299.188,-130.477\"/>\r\n",
       "<polygon fill=\"black\" stroke=\"black\" points=\"299.082,-126.977 289.082,-130.477 299.082,-133.977 299.082,-126.977\"/>\r\n",
       "<text text-anchor=\"middle\" x=\"334.49\" y=\"-164.277\" font-family=\"Times New Roman,serif\" font-size=\"14.00\">forward</text>\r\n",
       "<text text-anchor=\"middle\" x=\"334.49\" y=\"-149.277\" font-family=\"Times New Roman,serif\" font-size=\"14.00\">found: 0</text>\r\n",
       "<text text-anchor=\"middle\" x=\"334.49\" y=\"-134.277\" font-family=\"Times New Roman,serif\" font-size=\"14.00\">related: 0</text>\r\n",
       "</g>\r\n",
       "<!-- s3 -->\r\n",
       "<g id=\"node5\" class=\"node\"><title>s3</title>\r\n",
       "<ellipse fill=\"none\" stroke=\"black\" cx=\"237.371\" cy=\"-37.4767\" rx=\"51.7379\" ry=\"37.4533\"/>\r\n",
       "<text text-anchor=\"middle\" x=\"237.371\" y=\"-48.7767\" font-family=\"Times New Roman,serif\" font-size=\"14.00\">s3</text>\r\n",
       "<text text-anchor=\"middle\" x=\"237.371\" y=\"-33.7767\" font-family=\"Times New Roman,serif\" font-size=\"14.00\">visited: 35</text>\r\n",
       "<text text-anchor=\"middle\" x=\"237.371\" y=\"-18.7767\" font-family=\"Times New Roman,serif\" font-size=\"14.00\">related: 3</text>\r\n",
       "</g>\r\n",
       "<!-- s4&#45;&gt;s3 -->\r\n",
       "<g id=\"edge4\" class=\"edge\"><title>s4&#45;&gt;s3</title>\r\n",
       "<path fill=\"none\" stroke=\"black\" d=\"M379.849,-37.4767C355.102,-37.4767 325.15,-37.4767 299.188,-37.4767\"/>\r\n",
       "<polygon fill=\"black\" stroke=\"black\" points=\"299.082,-33.9768 289.082,-37.4767 299.082,-40.9768 299.082,-33.9768\"/>\r\n",
       "<text text-anchor=\"middle\" x=\"334.49\" y=\"-71.2767\" font-family=\"Times New Roman,serif\" font-size=\"14.00\">backward</text>\r\n",
       "<text text-anchor=\"middle\" x=\"334.49\" y=\"-56.2767\" font-family=\"Times New Roman,serif\" font-size=\"14.00\">found: 0</text>\r\n",
       "<text text-anchor=\"middle\" x=\"334.49\" y=\"-41.2767\" font-family=\"Times New Roman,serif\" font-size=\"14.00\">related: 0</text>\r\n",
       "</g>\r\n",
       "<!-- s0 -->\r\n",
       "<g id=\"node6\" class=\"node\"><title>s0</title>\r\n",
       "<ellipse fill=\"none\" stroke=\"black\" cx=\"47.3762\" cy=\"-86.4767\" rx=\"47.2526\" ry=\"37.4533\"/>\r\n",
       "<text text-anchor=\"middle\" x=\"47.3762\" y=\"-97.7767\" font-family=\"Times New Roman,serif\" font-size=\"14.00\">s0</text>\r\n",
       "<text text-anchor=\"middle\" x=\"47.3762\" y=\"-82.7767\" font-family=\"Times New Roman,serif\" font-size=\"14.00\">visited: 4</text>\r\n",
       "<text text-anchor=\"middle\" x=\"47.3762\" y=\"-67.7767\" font-family=\"Times New Roman,serif\" font-size=\"14.00\">related: 2</text>\r\n",
       "</g>\r\n",
       "<!-- s1&#45;&gt;s0 -->\r\n",
       "<g id=\"edge5\" class=\"edge\"><title>s1&#45;&gt;s0</title>\r\n",
       "<path fill=\"none\" stroke=\"black\" d=\"M187.958,-119.146C162.008,-113.072 129.942,-105.567 103.091,-99.2826\"/>\r\n",
       "<polygon fill=\"black\" stroke=\"black\" points=\"103.614,-95.8104 93.0792,-96.9394 102.018,-102.626 103.614,-95.8104\"/>\r\n",
       "<text text-anchor=\"middle\" x=\"140.252\" y=\"-147.277\" font-family=\"Times New Roman,serif\" font-size=\"14.00\">forward</text>\r\n",
       "<text text-anchor=\"middle\" x=\"140.252\" y=\"-132.277\" font-family=\"Times New Roman,serif\" font-size=\"14.00\">found: 69</text>\r\n",
       "<text text-anchor=\"middle\" x=\"140.252\" y=\"-117.277\" font-family=\"Times New Roman,serif\" font-size=\"14.00\">related: 1</text>\r\n",
       "</g>\r\n",
       "<!-- s3&#45;&gt;s0 -->\r\n",
       "<g id=\"edge6\" class=\"edge\"><title>s3&#45;&gt;s0</title>\r\n",
       "<path fill=\"none\" stroke=\"black\" d=\"M185.607,-40.0855C162.928,-42.2544 136.105,-46.222 112.752,-53.4767 106.99,-55.2668 101.122,-57.5475 95.3929,-60.0714\"/>\r\n",
       "<polygon fill=\"black\" stroke=\"black\" points=\"93.4957,-57.095 85.9233,-64.505 96.4639,-63.4345 93.4957,-57.095\"/>\r\n",
       "<text text-anchor=\"middle\" x=\"140.252\" y=\"-87.2767\" font-family=\"Times New Roman,serif\" font-size=\"14.00\">backward</text>\r\n",
       "<text text-anchor=\"middle\" x=\"140.252\" y=\"-72.2767\" font-family=\"Times New Roman,serif\" font-size=\"14.00\">found: 31</text>\r\n",
       "<text text-anchor=\"middle\" x=\"140.252\" y=\"-57.2767\" font-family=\"Times New Roman,serif\" font-size=\"14.00\">related: 1</text>\r\n",
       "</g>\r\n",
       "</g>\r\n",
       "</svg>\r\n"
      ],
      "text/plain": [
       "Step(name='start', new_references=4, new_related=2, total_visited=4, total_related=2, source='', target='s0')\n",
       "Step(name='backward', new_references=31, new_related=1, total_visited=35, total_related=3, source='s0', target='s3')\n",
       "Step(name='forward', new_references=69, new_related=1, total_visited=73, total_related=3, source='s0', target='s1')\n",
       "Step(name='backward', new_references=0, new_related=0, total_visited=35, total_related=3, source='s3', target='s4')\n",
       "Step(name='forward', new_references=0, new_related=0, total_visited=73, total_related=3, source='s1', target='s2')\n",
       "Step(name='union', new_references=0, new_related=0, total_visited=99, total_related=4, source='s2|s4', target='s5')"
      ],
      "text/vnd.graphviz": [
       "digraph G {\n",
       "  rankdir=\"RL\";\n",
       "\n",
       "  s5 [label=\"s5\\nvisited: 99\\nrelated: 4\"];\n",
       "  s5 -> s2 [label=\"union\\nfound: 0\\nrelated: 0\"];\n",
       "  s5 -> s4 [label=\"union\\nfound: 0\\nrelated: 0\"];\n",
       "\n",
       "  s2 [label=\"s2\\nvisited: 73\\nrelated: 3\"];\n",
       "  s2 -> s1 [label=\"forward\\nfound: 0\\nrelated: 0\"];\n",
       "\n",
       "  s4 [label=\"s4\\nvisited: 35\\nrelated: 3\"];\n",
       "  s4 -> s3 [label=\"backward\\nfound: 0\\nrelated: 0\"];\n",
       "\n",
       "  s1 [label=\"s1\\nvisited: 73\\nrelated: 3\"];\n",
       "  s1 -> s0 [label=\"forward\\nfound: 69\\nrelated: 1\"];\n",
       "\n",
       "  s3 [label=\"s3\\nvisited: 35\\nrelated: 3\"];\n",
       "  s3 -> s0 [label=\"backward\\nfound: 31\\nrelated: 1\"];\n",
       "\n",
       "  s0 [label=\"s0\\nvisited: 4\\nrelated: 2\"];\n",
       "\n",
       "}"
      ]
     },
     "metadata": {},
     "output_type": "display_data"
    }
   ],
   "source": [
    "reload()\n",
    "filter_function = lambda x: x.category in (\"snowball\", \"forward\", \"backward\")\n",
    "\n",
    "strategy = Strategy(*busca(\"scopus\", filter_function=filter_function))\n",
    "state = strategy.s2bbff2u()\n",
    "state"
   ]
  },
  {
   "cell_type": "code",
   "execution_count": 63,
   "metadata": {},
   "outputs": [
    {
     "name": "stdout",
     "output_type": "stream",
     "text": [
      "Precision E5\n",
      "0.04040404040404041\n",
      "Recall E5\n",
      "1.0\n"
     ]
    }
   ],
   "source": [
    "name = \"E5\"\n",
    "print (\"Precision \" + name)\n",
    "EP = len (state.related) / len (state.visited)\n",
    "print (EP)\n",
    "print (\"Recall \" + name)\n",
    "ER = len (state.related) / len (TOTAL)\n",
    "print (ER)\n",
    "\n",
    "array.append((name, EP, ER))"
   ]
  },
  {
   "cell_type": "code",
   "execution_count": 64,
   "metadata": {},
   "outputs": [
    {
     "data": {
      "text/plain": [
       "{Further comparison of cross-company and within-company effort estimation models for web applications,\n",
       " Web effort estimation: The value of cross-company data set compared to single-company data set}"
      ]
     },
     "execution_count": 64,
     "metadata": {},
     "output_type": "execute_result"
    }
   ],
   "source": [
    "state.find(\"s0\").related "
   ]
  },
  {
   "cell_type": "code",
   "execution_count": 65,
   "metadata": {},
   "outputs": [
    {
     "data": {
      "text/plain": [
       "{Further comparison of cross-company and within-company effort estimation models for web applications,\n",
       " Web effort estimation: The value of cross-company data set compared to single-company data set,\n",
       " Building software cost estimation models using homogenous data}"
      ]
     },
     "execution_count": 65,
     "metadata": {},
     "output_type": "execute_result"
    }
   ],
   "source": [
    "state.find(\"s1\").related "
   ]
  },
  {
   "cell_type": "code",
   "execution_count": 66,
   "metadata": {},
   "outputs": [
    {
     "data": {
      "text/plain": [
       "{Web effort estimation: The value of cross-company data set compared to single-company data set,\n",
       " Building software cost estimation models using homogenous data,\n",
       " A comparison of cross-company and within-company effort estimation models for web applications,\n",
       " Further comparison of cross-company and within-company effort estimation models for web applications}"
      ]
     },
     "execution_count": 66,
     "metadata": {},
     "output_type": "execute_result"
    }
   ],
   "source": [
    "state.find(\"s5\").related "
   ]
  },
  {
   "cell_type": "code",
   "execution_count": 67,
   "metadata": {},
   "outputs": [
    {
     "data": {
      "text/plain": [
       "{Further comparison of cross-company and within-company effort estimation models for web applications,\n",
       " Web effort estimation: The value of cross-company data set compared to single-company data set}"
      ]
     },
     "execution_count": 67,
     "metadata": {},
     "output_type": "execute_result"
    }
   ],
   "source": [
    "sx, sy = state.previous[0]\n",
    "\n",
    "sx.related & sy.related\n"
   ]
  },
  {
   "cell_type": "code",
   "execution_count": 46,
   "metadata": {},
   "outputs": [
    {
     "data": {
      "text/plain": [
       "'s2'"
      ]
     },
     "execution_count": 46,
     "metadata": {},
     "output_type": "execute_result"
    }
   ],
   "source": [
    "sx.name"
   ]
  },
  {
   "cell_type": "code",
   "execution_count": 54,
   "metadata": {},
   "outputs": [
    {
     "data": {
      "text/plain": [
       "'s4'"
      ]
     },
     "execution_count": 54,
     "metadata": {},
     "output_type": "execute_result"
    }
   ],
   "source": [
    "sy.name"
   ]
  },
  {
   "cell_type": "markdown",
   "metadata": {},
   "source": [
    "### Estratégia 6 - Busca em Scopus + Snowballing (JF - bbff)"
   ]
  },
  {
   "cell_type": "code",
   "execution_count": 47,
   "metadata": {},
   "outputs": [
    {
     "data": {
      "image/svg+xml": [
       "<?xml version=\"1.0\" encoding=\"UTF-8\" standalone=\"no\"?>\r\n",
       "<!DOCTYPE svg PUBLIC \"-//W3C//DTD SVG 1.1//EN\"\r\n",
       " \"http://www.w3.org/Graphics/SVG/1.1/DTD/svg11.dtd\">\r\n",
       "<!-- Generated by graphviz version 2.38.0 (20140413.2041)\r\n",
       " -->\r\n",
       "<!-- Title: G Pages: 1 -->\r\n",
       "<svg width=\"875pt\" height=\"90pt\"\r\n",
       " viewBox=\"0.00 0.00 874.70 90.48\" xmlns=\"http://www.w3.org/2000/svg\" xmlns:xlink=\"http://www.w3.org/1999/xlink\">\r\n",
       "<g id=\"graph0\" class=\"graph\" transform=\"scale(1 1) rotate(0) translate(4 86.4767)\">\r\n",
       "<title>G</title>\r\n",
       "<polygon fill=\"white\" stroke=\"none\" points=\"-4,4 -4,-86.4767 870.703,-86.4767 870.703,4 -4,4\"/>\r\n",
       "<!-- s4 -->\r\n",
       "<g id=\"node1\" class=\"node\"><title>s4</title>\r\n",
       "<ellipse fill=\"none\" stroke=\"black\" cx=\"815.084\" cy=\"-37.4767\" rx=\"51.7379\" ry=\"37.4533\"/>\r\n",
       "<text text-anchor=\"middle\" x=\"815.084\" y=\"-48.7767\" font-family=\"Times New Roman,serif\" font-size=\"14.00\">s4</text>\r\n",
       "<text text-anchor=\"middle\" x=\"815.084\" y=\"-33.7767\" font-family=\"Times New Roman,serif\" font-size=\"14.00\">visited: 99</text>\r\n",
       "<text text-anchor=\"middle\" x=\"815.084\" y=\"-18.7767\" font-family=\"Times New Roman,serif\" font-size=\"14.00\">related: 4</text>\r\n",
       "</g>\r\n",
       "<!-- s3 -->\r\n",
       "<g id=\"node2\" class=\"node\"><title>s3</title>\r\n",
       "<ellipse fill=\"none\" stroke=\"black\" cx=\"624.846\" cy=\"-37.4767\" rx=\"51.7379\" ry=\"37.4533\"/>\r\n",
       "<text text-anchor=\"middle\" x=\"624.846\" y=\"-48.7767\" font-family=\"Times New Roman,serif\" font-size=\"14.00\">s3</text>\r\n",
       "<text text-anchor=\"middle\" x=\"624.846\" y=\"-33.7767\" font-family=\"Times New Roman,serif\" font-size=\"14.00\">visited: 99</text>\r\n",
       "<text text-anchor=\"middle\" x=\"624.846\" y=\"-18.7767\" font-family=\"Times New Roman,serif\" font-size=\"14.00\">related: 4</text>\r\n",
       "</g>\r\n",
       "<!-- s4&#45;&gt;s3 -->\r\n",
       "<g id=\"edge1\" class=\"edge\"><title>s4&#45;&gt;s3</title>\r\n",
       "<path fill=\"none\" stroke=\"black\" d=\"M763.144,-37.4767C739.612,-37.4767 711.482,-37.4767 686.829,-37.4767\"/>\r\n",
       "<polygon fill=\"black\" stroke=\"black\" points=\"686.5,-33.9768 676.5,-37.4767 686.5,-40.9768 686.5,-33.9768\"/>\r\n",
       "<text text-anchor=\"middle\" x=\"719.965\" y=\"-71.2767\" font-family=\"Times New Roman,serif\" font-size=\"14.00\">forward</text>\r\n",
       "<text text-anchor=\"middle\" x=\"719.965\" y=\"-56.2767\" font-family=\"Times New Roman,serif\" font-size=\"14.00\">found: 0</text>\r\n",
       "<text text-anchor=\"middle\" x=\"719.965\" y=\"-41.2767\" font-family=\"Times New Roman,serif\" font-size=\"14.00\">related: 0</text>\r\n",
       "</g>\r\n",
       "<!-- s2 -->\r\n",
       "<g id=\"node3\" class=\"node\"><title>s2</title>\r\n",
       "<ellipse fill=\"none\" stroke=\"black\" cx=\"431.609\" cy=\"-37.4767\" rx=\"51.7379\" ry=\"37.4533\"/>\r\n",
       "<text text-anchor=\"middle\" x=\"431.609\" y=\"-48.7767\" font-family=\"Times New Roman,serif\" font-size=\"14.00\">s2</text>\r\n",
       "<text text-anchor=\"middle\" x=\"431.609\" y=\"-33.7767\" font-family=\"Times New Roman,serif\" font-size=\"14.00\">visited: 35</text>\r\n",
       "<text text-anchor=\"middle\" x=\"431.609\" y=\"-18.7767\" font-family=\"Times New Roman,serif\" font-size=\"14.00\">related: 3</text>\r\n",
       "</g>\r\n",
       "<!-- s3&#45;&gt;s2 -->\r\n",
       "<g id=\"edge2\" class=\"edge\"><title>s3&#45;&gt;s2</title>\r\n",
       "<path fill=\"none\" stroke=\"black\" d=\"M573.1,-37.4767C548.581,-37.4767 518.97,-37.4767 493.268,-37.4767\"/>\r\n",
       "<polygon fill=\"black\" stroke=\"black\" points=\"493.26,-33.9768 483.26,-37.4767 493.26,-40.9768 493.26,-33.9768\"/>\r\n",
       "<text text-anchor=\"middle\" x=\"528.227\" y=\"-71.2767\" font-family=\"Times New Roman,serif\" font-size=\"14.00\">forward</text>\r\n",
       "<text text-anchor=\"middle\" x=\"528.227\" y=\"-56.2767\" font-family=\"Times New Roman,serif\" font-size=\"14.00\">found: 64</text>\r\n",
       "<text text-anchor=\"middle\" x=\"528.227\" y=\"-41.2767\" font-family=\"Times New Roman,serif\" font-size=\"14.00\">related: 1</text>\r\n",
       "</g>\r\n",
       "<!-- s1 -->\r\n",
       "<g id=\"node4\" class=\"node\"><title>s1</title>\r\n",
       "<ellipse fill=\"none\" stroke=\"black\" cx=\"237.371\" cy=\"-37.4767\" rx=\"51.7379\" ry=\"37.4533\"/>\r\n",
       "<text text-anchor=\"middle\" x=\"237.371\" y=\"-48.7767\" font-family=\"Times New Roman,serif\" font-size=\"14.00\">s1</text>\r\n",
       "<text text-anchor=\"middle\" x=\"237.371\" y=\"-33.7767\" font-family=\"Times New Roman,serif\" font-size=\"14.00\">visited: 35</text>\r\n",
       "<text text-anchor=\"middle\" x=\"237.371\" y=\"-18.7767\" font-family=\"Times New Roman,serif\" font-size=\"14.00\">related: 3</text>\r\n",
       "</g>\r\n",
       "<!-- s2&#45;&gt;s1 -->\r\n",
       "<g id=\"edge3\" class=\"edge\"><title>s2&#45;&gt;s1</title>\r\n",
       "<path fill=\"none\" stroke=\"black\" d=\"M379.849,-37.4767C355.102,-37.4767 325.15,-37.4767 299.188,-37.4767\"/>\r\n",
       "<polygon fill=\"black\" stroke=\"black\" points=\"299.082,-33.9768 289.082,-37.4767 299.082,-40.9768 299.082,-33.9768\"/>\r\n",
       "<text text-anchor=\"middle\" x=\"334.49\" y=\"-71.2767\" font-family=\"Times New Roman,serif\" font-size=\"14.00\">backward</text>\r\n",
       "<text text-anchor=\"middle\" x=\"334.49\" y=\"-56.2767\" font-family=\"Times New Roman,serif\" font-size=\"14.00\">found: 0</text>\r\n",
       "<text text-anchor=\"middle\" x=\"334.49\" y=\"-41.2767\" font-family=\"Times New Roman,serif\" font-size=\"14.00\">related: 0</text>\r\n",
       "</g>\r\n",
       "<!-- s0 -->\r\n",
       "<g id=\"node5\" class=\"node\"><title>s0</title>\r\n",
       "<ellipse fill=\"none\" stroke=\"black\" cx=\"47.3762\" cy=\"-37.4767\" rx=\"47.2526\" ry=\"37.4533\"/>\r\n",
       "<text text-anchor=\"middle\" x=\"47.3762\" y=\"-48.7767\" font-family=\"Times New Roman,serif\" font-size=\"14.00\">s0</text>\r\n",
       "<text text-anchor=\"middle\" x=\"47.3762\" y=\"-33.7767\" font-family=\"Times New Roman,serif\" font-size=\"14.00\">visited: 4</text>\r\n",
       "<text text-anchor=\"middle\" x=\"47.3762\" y=\"-18.7767\" font-family=\"Times New Roman,serif\" font-size=\"14.00\">related: 2</text>\r\n",
       "</g>\r\n",
       "<!-- s1&#45;&gt;s0 -->\r\n",
       "<g id=\"edge4\" class=\"edge\"><title>s1&#45;&gt;s0</title>\r\n",
       "<path fill=\"none\" stroke=\"black\" d=\"M185.497,-37.4767C160.648,-37.4767 130.665,-37.4767 105.082,-37.4767\"/>\r\n",
       "<polygon fill=\"black\" stroke=\"black\" points=\"104.783,-33.9768 94.7827,-37.4767 104.783,-40.9768 104.783,-33.9768\"/>\r\n",
       "<text text-anchor=\"middle\" x=\"140.252\" y=\"-71.2767\" font-family=\"Times New Roman,serif\" font-size=\"14.00\">backward</text>\r\n",
       "<text text-anchor=\"middle\" x=\"140.252\" y=\"-56.2767\" font-family=\"Times New Roman,serif\" font-size=\"14.00\">found: 31</text>\r\n",
       "<text text-anchor=\"middle\" x=\"140.252\" y=\"-41.2767\" font-family=\"Times New Roman,serif\" font-size=\"14.00\">related: 1</text>\r\n",
       "</g>\r\n",
       "</g>\r\n",
       "</svg>\r\n"
      ],
      "text/plain": [
       "Step(name='start', new_references=4, new_related=2, total_visited=4, total_related=2, source='', target='s0')\n",
       "Step(name='backward', new_references=31, new_related=1, total_visited=35, total_related=3, source='s0', target='s1')\n",
       "Step(name='backward', new_references=0, new_related=0, total_visited=35, total_related=3, source='s1', target='s2')\n",
       "Step(name='forward', new_references=64, new_related=1, total_visited=99, total_related=4, source='s2', target='s3')\n",
       "Step(name='forward', new_references=0, new_related=0, total_visited=99, total_related=4, source='s3', target='s4')"
      ],
      "text/vnd.graphviz": [
       "digraph G {\n",
       "  rankdir=\"RL\";\n",
       "\n",
       "  s4 [label=\"s4\\nvisited: 99\\nrelated: 4\"];\n",
       "  s4 -> s3 [label=\"forward\\nfound: 0\\nrelated: 0\"];\n",
       "\n",
       "  s3 [label=\"s3\\nvisited: 99\\nrelated: 4\"];\n",
       "  s3 -> s2 [label=\"forward\\nfound: 64\\nrelated: 1\"];\n",
       "\n",
       "  s2 [label=\"s2\\nvisited: 35\\nrelated: 3\"];\n",
       "  s2 -> s1 [label=\"backward\\nfound: 0\\nrelated: 0\"];\n",
       "\n",
       "  s1 [label=\"s1\\nvisited: 35\\nrelated: 3\"];\n",
       "  s1 -> s0 [label=\"backward\\nfound: 31\\nrelated: 1\"];\n",
       "\n",
       "  s0 [label=\"s0\\nvisited: 4\\nrelated: 2\"];\n",
       "\n",
       "}"
      ]
     },
     "metadata": {},
     "output_type": "display_data"
    }
   ],
   "source": [
    "reload()\n",
    "filter_function = lambda x: x.category in (\"snowball\", \"forward\", \"backward\")\n",
    "\n",
    "strategy = Strategy(*busca(\"scopus\", filter_function=filter_function))\n",
    "state = strategy.bbff()\n",
    "state"
   ]
  },
  {
   "cell_type": "code",
   "execution_count": 48,
   "metadata": {},
   "outputs": [
    {
     "name": "stdout",
     "output_type": "stream",
     "text": [
      "Precision E6\n",
      "0.04040404040404041\n",
      "Recall E6\n",
      "1.0\n"
     ]
    }
   ],
   "source": [
    "name = \"E6\"\n",
    "print (\"Precision \" + name)\n",
    "EP = len (state.related) / len (state.visited)\n",
    "print (EP)\n",
    "print (\"Recall \" + name)\n",
    "ER = len (state.related) / len (TOTAL)\n",
    "print (ER)\n",
    "\n",
    "array.append((name, EP, ER))"
   ]
  },
  {
   "cell_type": "markdown",
   "metadata": {},
   "source": [
    "### Estratégia 7 - Busca em Scopus + Snowballing (JF - ffbb)"
   ]
  },
  {
   "cell_type": "code",
   "execution_count": 49,
   "metadata": {},
   "outputs": [
    {
     "data": {
      "image/svg+xml": [
       "<?xml version=\"1.0\" encoding=\"UTF-8\" standalone=\"no\"?>\r\n",
       "<!DOCTYPE svg PUBLIC \"-//W3C//DTD SVG 1.1//EN\"\r\n",
       " \"http://www.w3.org/Graphics/SVG/1.1/DTD/svg11.dtd\">\r\n",
       "<!-- Generated by graphviz version 2.38.0 (20140413.2041)\r\n",
       " -->\r\n",
       "<!-- Title: G Pages: 1 -->\r\n",
       "<svg width=\"875pt\" height=\"90pt\"\r\n",
       " viewBox=\"0.00 0.00 874.70 90.48\" xmlns=\"http://www.w3.org/2000/svg\" xmlns:xlink=\"http://www.w3.org/1999/xlink\">\r\n",
       "<g id=\"graph0\" class=\"graph\" transform=\"scale(1 1) rotate(0) translate(4 86.4767)\">\r\n",
       "<title>G</title>\r\n",
       "<polygon fill=\"white\" stroke=\"none\" points=\"-4,4 -4,-86.4767 870.703,-86.4767 870.703,4 -4,4\"/>\r\n",
       "<!-- s4 -->\r\n",
       "<g id=\"node1\" class=\"node\"><title>s4</title>\r\n",
       "<ellipse fill=\"none\" stroke=\"black\" cx=\"815.084\" cy=\"-37.4767\" rx=\"51.7379\" ry=\"37.4533\"/>\r\n",
       "<text text-anchor=\"middle\" x=\"815.084\" y=\"-48.7767\" font-family=\"Times New Roman,serif\" font-size=\"14.00\">s4</text>\r\n",
       "<text text-anchor=\"middle\" x=\"815.084\" y=\"-33.7767\" font-family=\"Times New Roman,serif\" font-size=\"14.00\">visited: 99</text>\r\n",
       "<text text-anchor=\"middle\" x=\"815.084\" y=\"-18.7767\" font-family=\"Times New Roman,serif\" font-size=\"14.00\">related: 4</text>\r\n",
       "</g>\r\n",
       "<!-- s3 -->\r\n",
       "<g id=\"node2\" class=\"node\"><title>s3</title>\r\n",
       "<ellipse fill=\"none\" stroke=\"black\" cx=\"620.846\" cy=\"-37.4767\" rx=\"51.7379\" ry=\"37.4533\"/>\r\n",
       "<text text-anchor=\"middle\" x=\"620.846\" y=\"-48.7767\" font-family=\"Times New Roman,serif\" font-size=\"14.00\">s3</text>\r\n",
       "<text text-anchor=\"middle\" x=\"620.846\" y=\"-33.7767\" font-family=\"Times New Roman,serif\" font-size=\"14.00\">visited: 99</text>\r\n",
       "<text text-anchor=\"middle\" x=\"620.846\" y=\"-18.7767\" font-family=\"Times New Roman,serif\" font-size=\"14.00\">related: 4</text>\r\n",
       "</g>\r\n",
       "<!-- s4&#45;&gt;s3 -->\r\n",
       "<g id=\"edge1\" class=\"edge\"><title>s4&#45;&gt;s3</title>\r\n",
       "<path fill=\"none\" stroke=\"black\" d=\"M763.324,-37.4767C738.577,-37.4767 708.625,-37.4767 682.663,-37.4767\"/>\r\n",
       "<polygon fill=\"black\" stroke=\"black\" points=\"682.557,-33.9768 672.557,-37.4767 682.557,-40.9768 682.557,-33.9768\"/>\r\n",
       "<text text-anchor=\"middle\" x=\"717.965\" y=\"-71.2767\" font-family=\"Times New Roman,serif\" font-size=\"14.00\">backward</text>\r\n",
       "<text text-anchor=\"middle\" x=\"717.965\" y=\"-56.2767\" font-family=\"Times New Roman,serif\" font-size=\"14.00\">found: 0</text>\r\n",
       "<text text-anchor=\"middle\" x=\"717.965\" y=\"-41.2767\" font-family=\"Times New Roman,serif\" font-size=\"14.00\">related: 0</text>\r\n",
       "</g>\r\n",
       "<!-- s2 -->\r\n",
       "<g id=\"node3\" class=\"node\"><title>s2</title>\r\n",
       "<ellipse fill=\"none\" stroke=\"black\" cx=\"426.609\" cy=\"-37.4767\" rx=\"51.7379\" ry=\"37.4533\"/>\r\n",
       "<text text-anchor=\"middle\" x=\"426.609\" y=\"-48.7767\" font-family=\"Times New Roman,serif\" font-size=\"14.00\">s2</text>\r\n",
       "<text text-anchor=\"middle\" x=\"426.609\" y=\"-33.7767\" font-family=\"Times New Roman,serif\" font-size=\"14.00\">visited: 73</text>\r\n",
       "<text text-anchor=\"middle\" x=\"426.609\" y=\"-18.7767\" font-family=\"Times New Roman,serif\" font-size=\"14.00\">related: 3</text>\r\n",
       "</g>\r\n",
       "<!-- s3&#45;&gt;s2 -->\r\n",
       "<g id=\"edge2\" class=\"edge\"><title>s3&#45;&gt;s2</title>\r\n",
       "<path fill=\"none\" stroke=\"black\" d=\"M569.087,-37.4767C544.339,-37.4767 514.387,-37.4767 488.425,-37.4767\"/>\r\n",
       "<polygon fill=\"black\" stroke=\"black\" points=\"488.319,-33.9768 478.319,-37.4767 488.319,-40.9768 488.319,-33.9768\"/>\r\n",
       "<text text-anchor=\"middle\" x=\"523.727\" y=\"-71.2767\" font-family=\"Times New Roman,serif\" font-size=\"14.00\">backward</text>\r\n",
       "<text text-anchor=\"middle\" x=\"523.727\" y=\"-56.2767\" font-family=\"Times New Roman,serif\" font-size=\"14.00\">found: 26</text>\r\n",
       "<text text-anchor=\"middle\" x=\"523.727\" y=\"-41.2767\" font-family=\"Times New Roman,serif\" font-size=\"14.00\">related: 1</text>\r\n",
       "</g>\r\n",
       "<!-- s1 -->\r\n",
       "<g id=\"node4\" class=\"node\"><title>s1</title>\r\n",
       "<ellipse fill=\"none\" stroke=\"black\" cx=\"236.371\" cy=\"-37.4767\" rx=\"51.7379\" ry=\"37.4533\"/>\r\n",
       "<text text-anchor=\"middle\" x=\"236.371\" y=\"-48.7767\" font-family=\"Times New Roman,serif\" font-size=\"14.00\">s1</text>\r\n",
       "<text text-anchor=\"middle\" x=\"236.371\" y=\"-33.7767\" font-family=\"Times New Roman,serif\" font-size=\"14.00\">visited: 73</text>\r\n",
       "<text text-anchor=\"middle\" x=\"236.371\" y=\"-18.7767\" font-family=\"Times New Roman,serif\" font-size=\"14.00\">related: 3</text>\r\n",
       "</g>\r\n",
       "<!-- s2&#45;&gt;s1 -->\r\n",
       "<g id=\"edge3\" class=\"edge\"><title>s2&#45;&gt;s1</title>\r\n",
       "<path fill=\"none\" stroke=\"black\" d=\"M374.669,-37.4767C351.137,-37.4767 323.007,-37.4767 298.354,-37.4767\"/>\r\n",
       "<polygon fill=\"black\" stroke=\"black\" points=\"298.025,-33.9768 288.025,-37.4767 298.025,-40.9768 298.025,-33.9768\"/>\r\n",
       "<text text-anchor=\"middle\" x=\"331.49\" y=\"-71.2767\" font-family=\"Times New Roman,serif\" font-size=\"14.00\">forward</text>\r\n",
       "<text text-anchor=\"middle\" x=\"331.49\" y=\"-56.2767\" font-family=\"Times New Roman,serif\" font-size=\"14.00\">found: 0</text>\r\n",
       "<text text-anchor=\"middle\" x=\"331.49\" y=\"-41.2767\" font-family=\"Times New Roman,serif\" font-size=\"14.00\">related: 0</text>\r\n",
       "</g>\r\n",
       "<!-- s0 -->\r\n",
       "<g id=\"node5\" class=\"node\"><title>s0</title>\r\n",
       "<ellipse fill=\"none\" stroke=\"black\" cx=\"47.3762\" cy=\"-37.4767\" rx=\"47.2526\" ry=\"37.4533\"/>\r\n",
       "<text text-anchor=\"middle\" x=\"47.3762\" y=\"-48.7767\" font-family=\"Times New Roman,serif\" font-size=\"14.00\">s0</text>\r\n",
       "<text text-anchor=\"middle\" x=\"47.3762\" y=\"-33.7767\" font-family=\"Times New Roman,serif\" font-size=\"14.00\">visited: 4</text>\r\n",
       "<text text-anchor=\"middle\" x=\"47.3762\" y=\"-18.7767\" font-family=\"Times New Roman,serif\" font-size=\"14.00\">related: 2</text>\r\n",
       "</g>\r\n",
       "<!-- s1&#45;&gt;s0 -->\r\n",
       "<g id=\"edge4\" class=\"edge\"><title>s1&#45;&gt;s0</title>\r\n",
       "<path fill=\"none\" stroke=\"black\" d=\"M184.274,-37.4767C159.753,-37.4767 130.296,-37.4767 105.085,-37.4767\"/>\r\n",
       "<polygon fill=\"black\" stroke=\"black\" points=\"104.93,-33.9768 94.9301,-37.4767 104.93,-40.9768 104.93,-33.9768\"/>\r\n",
       "<text text-anchor=\"middle\" x=\"139.752\" y=\"-71.2767\" font-family=\"Times New Roman,serif\" font-size=\"14.00\">forward</text>\r\n",
       "<text text-anchor=\"middle\" x=\"139.752\" y=\"-56.2767\" font-family=\"Times New Roman,serif\" font-size=\"14.00\">found: 69</text>\r\n",
       "<text text-anchor=\"middle\" x=\"139.752\" y=\"-41.2767\" font-family=\"Times New Roman,serif\" font-size=\"14.00\">related: 1</text>\r\n",
       "</g>\r\n",
       "</g>\r\n",
       "</svg>\r\n"
      ],
      "text/plain": [
       "Step(name='start', new_references=4, new_related=2, total_visited=4, total_related=2, source='', target='s0')\n",
       "Step(name='forward', new_references=69, new_related=1, total_visited=73, total_related=3, source='s0', target='s1')\n",
       "Step(name='forward', new_references=0, new_related=0, total_visited=73, total_related=3, source='s1', target='s2')\n",
       "Step(name='backward', new_references=26, new_related=1, total_visited=99, total_related=4, source='s2', target='s3')\n",
       "Step(name='backward', new_references=0, new_related=0, total_visited=99, total_related=4, source='s3', target='s4')"
      ],
      "text/vnd.graphviz": [
       "digraph G {\n",
       "  rankdir=\"RL\";\n",
       "\n",
       "  s4 [label=\"s4\\nvisited: 99\\nrelated: 4\"];\n",
       "  s4 -> s3 [label=\"backward\\nfound: 0\\nrelated: 0\"];\n",
       "\n",
       "  s3 [label=\"s3\\nvisited: 99\\nrelated: 4\"];\n",
       "  s3 -> s2 [label=\"backward\\nfound: 26\\nrelated: 1\"];\n",
       "\n",
       "  s2 [label=\"s2\\nvisited: 73\\nrelated: 3\"];\n",
       "  s2 -> s1 [label=\"forward\\nfound: 0\\nrelated: 0\"];\n",
       "\n",
       "  s1 [label=\"s1\\nvisited: 73\\nrelated: 3\"];\n",
       "  s1 -> s0 [label=\"forward\\nfound: 69\\nrelated: 1\"];\n",
       "\n",
       "  s0 [label=\"s0\\nvisited: 4\\nrelated: 2\"];\n",
       "\n",
       "}"
      ]
     },
     "metadata": {},
     "output_type": "display_data"
    }
   ],
   "source": [
    "reload()\n",
    "filter_function = lambda x: x.category in (\"snowball\", \"forward\", \"backward\")\n",
    "\n",
    "strategy = Strategy(*busca(\"scopus\", filter_function=filter_function))\n",
    "state = strategy.ffbb()\n",
    "state"
   ]
  },
  {
   "cell_type": "code",
   "execution_count": 50,
   "metadata": {},
   "outputs": [
    {
     "name": "stdout",
     "output_type": "stream",
     "text": [
      "Precision E7\n",
      "0.04040404040404041\n",
      "Recall E7\n",
      "1.0\n"
     ]
    }
   ],
   "source": [
    "name = \"E7\"\n",
    "print (\"Precision \" + name)\n",
    "EP = len (state.related) / len (state.visited)\n",
    "print (EP)\n",
    "print (\"Recall \" + name)\n",
    "ER = len (state.related) / len (TOTAL)\n",
    "print (ER)\n",
    "\n",
    "array.append((name, EP, ER))"
   ]
  },
  {
   "cell_type": "markdown",
   "metadata": {},
   "source": [
    "### Análise das Estratégias"
   ]
  },
  {
   "cell_type": "code",
   "execution_count": 51,
   "metadata": {
    "collapsed": true
   },
   "outputs": [],
   "source": [
    "%matplotlib notebook\n",
    "import pandas as pd"
   ]
  },
  {
   "cell_type": "code",
   "execution_count": 52,
   "metadata": {},
   "outputs": [
    {
     "data": {
      "text/html": [
       "<div>\n",
       "<table border=\"1\" class=\"dataframe\">\n",
       "  <thead>\n",
       "    <tr style=\"text-align: right;\">\n",
       "      <th></th>\n",
       "      <th>Estratégia</th>\n",
       "      <th>Precision</th>\n",
       "      <th>Recall</th>\n",
       "    </tr>\n",
       "    <tr>\n",
       "      <th>Estratégia</th>\n",
       "      <th></th>\n",
       "      <th></th>\n",
       "      <th></th>\n",
       "    </tr>\n",
       "  </thead>\n",
       "  <tbody>\n",
       "    <tr>\n",
       "      <th>E1</th>\n",
       "      <td>E1</td>\n",
       "      <td>0.500000</td>\n",
       "      <td>0.5</td>\n",
       "    </tr>\n",
       "    <tr>\n",
       "      <th>E2</th>\n",
       "      <td>E2</td>\n",
       "      <td>0.040404</td>\n",
       "      <td>1.0</td>\n",
       "    </tr>\n",
       "    <tr>\n",
       "      <th>E4</th>\n",
       "      <td>E4</td>\n",
       "      <td>0.040404</td>\n",
       "      <td>1.0</td>\n",
       "    </tr>\n",
       "    <tr>\n",
       "      <th>E5</th>\n",
       "      <td>E5</td>\n",
       "      <td>0.040404</td>\n",
       "      <td>1.0</td>\n",
       "    </tr>\n",
       "    <tr>\n",
       "      <th>E6</th>\n",
       "      <td>E6</td>\n",
       "      <td>0.040404</td>\n",
       "      <td>1.0</td>\n",
       "    </tr>\n",
       "    <tr>\n",
       "      <th>E7</th>\n",
       "      <td>E7</td>\n",
       "      <td>0.040404</td>\n",
       "      <td>1.0</td>\n",
       "    </tr>\n",
       "  </tbody>\n",
       "</table>\n",
       "</div>"
      ],
      "text/plain": [
       "           Estratégia  Precision  Recall\n",
       "Estratégia                              \n",
       "E1                 E1   0.500000     0.5\n",
       "E2                 E2   0.040404     1.0\n",
       "E4                 E4   0.040404     1.0\n",
       "E5                 E5   0.040404     1.0\n",
       "E6                 E6   0.040404     1.0\n",
       "E7                 E7   0.040404     1.0"
      ]
     },
     "execution_count": 52,
     "metadata": {},
     "output_type": "execute_result"
    }
   ],
   "source": [
    "df = pd.DataFrame (array,columns = ['Estratégia','Precision','Recall'])\n",
    "df.index = df['Estratégia']\n",
    "df"
   ]
  },
  {
   "cell_type": "code",
   "execution_count": null,
   "metadata": {
    "collapsed": true
   },
   "outputs": [],
   "source": []
  },
  {
   "cell_type": "code",
   "execution_count": 53,
   "metadata": {},
   "outputs": [
    {
     "data": {
      "application/javascript": [
       "/* Put everything inside the global mpl namespace */\n",
       "window.mpl = {};\n",
       "\n",
       "\n",
       "mpl.get_websocket_type = function() {\n",
       "    if (typeof(WebSocket) !== 'undefined') {\n",
       "        return WebSocket;\n",
       "    } else if (typeof(MozWebSocket) !== 'undefined') {\n",
       "        return MozWebSocket;\n",
       "    } else {\n",
       "        alert('Your browser does not have WebSocket support.' +\n",
       "              'Please try Chrome, Safari or Firefox ≥ 6. ' +\n",
       "              'Firefox 4 and 5 are also supported but you ' +\n",
       "              'have to enable WebSockets in about:config.');\n",
       "    };\n",
       "}\n",
       "\n",
       "mpl.figure = function(figure_id, websocket, ondownload, parent_element) {\n",
       "    this.id = figure_id;\n",
       "\n",
       "    this.ws = websocket;\n",
       "\n",
       "    this.supports_binary = (this.ws.binaryType != undefined);\n",
       "\n",
       "    if (!this.supports_binary) {\n",
       "        var warnings = document.getElementById(\"mpl-warnings\");\n",
       "        if (warnings) {\n",
       "            warnings.style.display = 'block';\n",
       "            warnings.textContent = (\n",
       "                \"This browser does not support binary websocket messages. \" +\n",
       "                    \"Performance may be slow.\");\n",
       "        }\n",
       "    }\n",
       "\n",
       "    this.imageObj = new Image();\n",
       "\n",
       "    this.context = undefined;\n",
       "    this.message = undefined;\n",
       "    this.canvas = undefined;\n",
       "    this.rubberband_canvas = undefined;\n",
       "    this.rubberband_context = undefined;\n",
       "    this.format_dropdown = undefined;\n",
       "\n",
       "    this.image_mode = 'full';\n",
       "\n",
       "    this.root = $('<div/>');\n",
       "    this._root_extra_style(this.root)\n",
       "    this.root.attr('style', 'display: inline-block');\n",
       "\n",
       "    $(parent_element).append(this.root);\n",
       "\n",
       "    this._init_header(this);\n",
       "    this._init_canvas(this);\n",
       "    this._init_toolbar(this);\n",
       "\n",
       "    var fig = this;\n",
       "\n",
       "    this.waiting = false;\n",
       "\n",
       "    this.ws.onopen =  function () {\n",
       "            fig.send_message(\"supports_binary\", {value: fig.supports_binary});\n",
       "            fig.send_message(\"send_image_mode\", {});\n",
       "            if (mpl.ratio != 1) {\n",
       "                fig.send_message(\"set_dpi_ratio\", {'dpi_ratio': mpl.ratio});\n",
       "            }\n",
       "            fig.send_message(\"refresh\", {});\n",
       "        }\n",
       "\n",
       "    this.imageObj.onload = function() {\n",
       "            if (fig.image_mode == 'full') {\n",
       "                // Full images could contain transparency (where diff images\n",
       "                // almost always do), so we need to clear the canvas so that\n",
       "                // there is no ghosting.\n",
       "                fig.context.clearRect(0, 0, fig.canvas.width, fig.canvas.height);\n",
       "            }\n",
       "            fig.context.drawImage(fig.imageObj, 0, 0);\n",
       "        };\n",
       "\n",
       "    this.imageObj.onunload = function() {\n",
       "        this.ws.close();\n",
       "    }\n",
       "\n",
       "    this.ws.onmessage = this._make_on_message_function(this);\n",
       "\n",
       "    this.ondownload = ondownload;\n",
       "}\n",
       "\n",
       "mpl.figure.prototype._init_header = function() {\n",
       "    var titlebar = $(\n",
       "        '<div class=\"ui-dialog-titlebar ui-widget-header ui-corner-all ' +\n",
       "        'ui-helper-clearfix\"/>');\n",
       "    var titletext = $(\n",
       "        '<div class=\"ui-dialog-title\" style=\"width: 100%; ' +\n",
       "        'text-align: center; padding: 3px;\"/>');\n",
       "    titlebar.append(titletext)\n",
       "    this.root.append(titlebar);\n",
       "    this.header = titletext[0];\n",
       "}\n",
       "\n",
       "\n",
       "\n",
       "mpl.figure.prototype._canvas_extra_style = function(canvas_div) {\n",
       "\n",
       "}\n",
       "\n",
       "\n",
       "mpl.figure.prototype._root_extra_style = function(canvas_div) {\n",
       "\n",
       "}\n",
       "\n",
       "mpl.figure.prototype._init_canvas = function() {\n",
       "    var fig = this;\n",
       "\n",
       "    var canvas_div = $('<div/>');\n",
       "\n",
       "    canvas_div.attr('style', 'position: relative; clear: both; outline: 0');\n",
       "\n",
       "    function canvas_keyboard_event(event) {\n",
       "        return fig.key_event(event, event['data']);\n",
       "    }\n",
       "\n",
       "    canvas_div.keydown('key_press', canvas_keyboard_event);\n",
       "    canvas_div.keyup('key_release', canvas_keyboard_event);\n",
       "    this.canvas_div = canvas_div\n",
       "    this._canvas_extra_style(canvas_div)\n",
       "    this.root.append(canvas_div);\n",
       "\n",
       "    var canvas = $('<canvas/>');\n",
       "    canvas.addClass('mpl-canvas');\n",
       "    canvas.attr('style', \"left: 0; top: 0; z-index: 0; outline: 0\")\n",
       "\n",
       "    this.canvas = canvas[0];\n",
       "    this.context = canvas[0].getContext(\"2d\");\n",
       "\n",
       "    var backingStore = this.context.backingStorePixelRatio ||\n",
       "\tthis.context.webkitBackingStorePixelRatio ||\n",
       "\tthis.context.mozBackingStorePixelRatio ||\n",
       "\tthis.context.msBackingStorePixelRatio ||\n",
       "\tthis.context.oBackingStorePixelRatio ||\n",
       "\tthis.context.backingStorePixelRatio || 1;\n",
       "\n",
       "    mpl.ratio = (window.devicePixelRatio || 1) / backingStore;\n",
       "\n",
       "    var rubberband = $('<canvas/>');\n",
       "    rubberband.attr('style', \"position: absolute; left: 0; top: 0; z-index: 1;\")\n",
       "\n",
       "    var pass_mouse_events = true;\n",
       "\n",
       "    canvas_div.resizable({\n",
       "        start: function(event, ui) {\n",
       "            pass_mouse_events = false;\n",
       "        },\n",
       "        resize: function(event, ui) {\n",
       "            fig.request_resize(ui.size.width, ui.size.height);\n",
       "        },\n",
       "        stop: function(event, ui) {\n",
       "            pass_mouse_events = true;\n",
       "            fig.request_resize(ui.size.width, ui.size.height);\n",
       "        },\n",
       "    });\n",
       "\n",
       "    function mouse_event_fn(event) {\n",
       "        if (pass_mouse_events)\n",
       "            return fig.mouse_event(event, event['data']);\n",
       "    }\n",
       "\n",
       "    rubberband.mousedown('button_press', mouse_event_fn);\n",
       "    rubberband.mouseup('button_release', mouse_event_fn);\n",
       "    // Throttle sequential mouse events to 1 every 20ms.\n",
       "    rubberband.mousemove('motion_notify', mouse_event_fn);\n",
       "\n",
       "    rubberband.mouseenter('figure_enter', mouse_event_fn);\n",
       "    rubberband.mouseleave('figure_leave', mouse_event_fn);\n",
       "\n",
       "    canvas_div.on(\"wheel\", function (event) {\n",
       "        event = event.originalEvent;\n",
       "        event['data'] = 'scroll'\n",
       "        if (event.deltaY < 0) {\n",
       "            event.step = 1;\n",
       "        } else {\n",
       "            event.step = -1;\n",
       "        }\n",
       "        mouse_event_fn(event);\n",
       "    });\n",
       "\n",
       "    canvas_div.append(canvas);\n",
       "    canvas_div.append(rubberband);\n",
       "\n",
       "    this.rubberband = rubberband;\n",
       "    this.rubberband_canvas = rubberband[0];\n",
       "    this.rubberband_context = rubberband[0].getContext(\"2d\");\n",
       "    this.rubberband_context.strokeStyle = \"#000000\";\n",
       "\n",
       "    this._resize_canvas = function(width, height) {\n",
       "        // Keep the size of the canvas, canvas container, and rubber band\n",
       "        // canvas in synch.\n",
       "        canvas_div.css('width', width)\n",
       "        canvas_div.css('height', height)\n",
       "\n",
       "        canvas.attr('width', width * mpl.ratio);\n",
       "        canvas.attr('height', height * mpl.ratio);\n",
       "        canvas.attr('style', 'width: ' + width + 'px; height: ' + height + 'px;');\n",
       "\n",
       "        rubberband.attr('width', width);\n",
       "        rubberband.attr('height', height);\n",
       "    }\n",
       "\n",
       "    // Set the figure to an initial 600x600px, this will subsequently be updated\n",
       "    // upon first draw.\n",
       "    this._resize_canvas(600, 600);\n",
       "\n",
       "    // Disable right mouse context menu.\n",
       "    $(this.rubberband_canvas).bind(\"contextmenu\",function(e){\n",
       "        return false;\n",
       "    });\n",
       "\n",
       "    function set_focus () {\n",
       "        canvas.focus();\n",
       "        canvas_div.focus();\n",
       "    }\n",
       "\n",
       "    window.setTimeout(set_focus, 100);\n",
       "}\n",
       "\n",
       "mpl.figure.prototype._init_toolbar = function() {\n",
       "    var fig = this;\n",
       "\n",
       "    var nav_element = $('<div/>')\n",
       "    nav_element.attr('style', 'width: 100%');\n",
       "    this.root.append(nav_element);\n",
       "\n",
       "    // Define a callback function for later on.\n",
       "    function toolbar_event(event) {\n",
       "        return fig.toolbar_button_onclick(event['data']);\n",
       "    }\n",
       "    function toolbar_mouse_event(event) {\n",
       "        return fig.toolbar_button_onmouseover(event['data']);\n",
       "    }\n",
       "\n",
       "    for(var toolbar_ind in mpl.toolbar_items) {\n",
       "        var name = mpl.toolbar_items[toolbar_ind][0];\n",
       "        var tooltip = mpl.toolbar_items[toolbar_ind][1];\n",
       "        var image = mpl.toolbar_items[toolbar_ind][2];\n",
       "        var method_name = mpl.toolbar_items[toolbar_ind][3];\n",
       "\n",
       "        if (!name) {\n",
       "            // put a spacer in here.\n",
       "            continue;\n",
       "        }\n",
       "        var button = $('<button/>');\n",
       "        button.addClass('ui-button ui-widget ui-state-default ui-corner-all ' +\n",
       "                        'ui-button-icon-only');\n",
       "        button.attr('role', 'button');\n",
       "        button.attr('aria-disabled', 'false');\n",
       "        button.click(method_name, toolbar_event);\n",
       "        button.mouseover(tooltip, toolbar_mouse_event);\n",
       "\n",
       "        var icon_img = $('<span/>');\n",
       "        icon_img.addClass('ui-button-icon-primary ui-icon');\n",
       "        icon_img.addClass(image);\n",
       "        icon_img.addClass('ui-corner-all');\n",
       "\n",
       "        var tooltip_span = $('<span/>');\n",
       "        tooltip_span.addClass('ui-button-text');\n",
       "        tooltip_span.html(tooltip);\n",
       "\n",
       "        button.append(icon_img);\n",
       "        button.append(tooltip_span);\n",
       "\n",
       "        nav_element.append(button);\n",
       "    }\n",
       "\n",
       "    var fmt_picker_span = $('<span/>');\n",
       "\n",
       "    var fmt_picker = $('<select/>');\n",
       "    fmt_picker.addClass('mpl-toolbar-option ui-widget ui-widget-content');\n",
       "    fmt_picker_span.append(fmt_picker);\n",
       "    nav_element.append(fmt_picker_span);\n",
       "    this.format_dropdown = fmt_picker[0];\n",
       "\n",
       "    for (var ind in mpl.extensions) {\n",
       "        var fmt = mpl.extensions[ind];\n",
       "        var option = $(\n",
       "            '<option/>', {selected: fmt === mpl.default_extension}).html(fmt);\n",
       "        fmt_picker.append(option)\n",
       "    }\n",
       "\n",
       "    // Add hover states to the ui-buttons\n",
       "    $( \".ui-button\" ).hover(\n",
       "        function() { $(this).addClass(\"ui-state-hover\");},\n",
       "        function() { $(this).removeClass(\"ui-state-hover\");}\n",
       "    );\n",
       "\n",
       "    var status_bar = $('<span class=\"mpl-message\"/>');\n",
       "    nav_element.append(status_bar);\n",
       "    this.message = status_bar[0];\n",
       "}\n",
       "\n",
       "mpl.figure.prototype.request_resize = function(x_pixels, y_pixels) {\n",
       "    // Request matplotlib to resize the figure. Matplotlib will then trigger a resize in the client,\n",
       "    // which will in turn request a refresh of the image.\n",
       "    this.send_message('resize', {'width': x_pixels, 'height': y_pixels});\n",
       "}\n",
       "\n",
       "mpl.figure.prototype.send_message = function(type, properties) {\n",
       "    properties['type'] = type;\n",
       "    properties['figure_id'] = this.id;\n",
       "    this.ws.send(JSON.stringify(properties));\n",
       "}\n",
       "\n",
       "mpl.figure.prototype.send_draw_message = function() {\n",
       "    if (!this.waiting) {\n",
       "        this.waiting = true;\n",
       "        this.ws.send(JSON.stringify({type: \"draw\", figure_id: this.id}));\n",
       "    }\n",
       "}\n",
       "\n",
       "\n",
       "mpl.figure.prototype.handle_save = function(fig, msg) {\n",
       "    var format_dropdown = fig.format_dropdown;\n",
       "    var format = format_dropdown.options[format_dropdown.selectedIndex].value;\n",
       "    fig.ondownload(fig, format);\n",
       "}\n",
       "\n",
       "\n",
       "mpl.figure.prototype.handle_resize = function(fig, msg) {\n",
       "    var size = msg['size'];\n",
       "    if (size[0] != fig.canvas.width || size[1] != fig.canvas.height) {\n",
       "        fig._resize_canvas(size[0], size[1]);\n",
       "        fig.send_message(\"refresh\", {});\n",
       "    };\n",
       "}\n",
       "\n",
       "mpl.figure.prototype.handle_rubberband = function(fig, msg) {\n",
       "    var x0 = msg['x0'] / mpl.ratio;\n",
       "    var y0 = (fig.canvas.height - msg['y0']) / mpl.ratio;\n",
       "    var x1 = msg['x1'] / mpl.ratio;\n",
       "    var y1 = (fig.canvas.height - msg['y1']) / mpl.ratio;\n",
       "    x0 = Math.floor(x0) + 0.5;\n",
       "    y0 = Math.floor(y0) + 0.5;\n",
       "    x1 = Math.floor(x1) + 0.5;\n",
       "    y1 = Math.floor(y1) + 0.5;\n",
       "    var min_x = Math.min(x0, x1);\n",
       "    var min_y = Math.min(y0, y1);\n",
       "    var width = Math.abs(x1 - x0);\n",
       "    var height = Math.abs(y1 - y0);\n",
       "\n",
       "    fig.rubberband_context.clearRect(\n",
       "        0, 0, fig.canvas.width, fig.canvas.height);\n",
       "\n",
       "    fig.rubberband_context.strokeRect(min_x, min_y, width, height);\n",
       "}\n",
       "\n",
       "mpl.figure.prototype.handle_figure_label = function(fig, msg) {\n",
       "    // Updates the figure title.\n",
       "    fig.header.textContent = msg['label'];\n",
       "}\n",
       "\n",
       "mpl.figure.prototype.handle_cursor = function(fig, msg) {\n",
       "    var cursor = msg['cursor'];\n",
       "    switch(cursor)\n",
       "    {\n",
       "    case 0:\n",
       "        cursor = 'pointer';\n",
       "        break;\n",
       "    case 1:\n",
       "        cursor = 'default';\n",
       "        break;\n",
       "    case 2:\n",
       "        cursor = 'crosshair';\n",
       "        break;\n",
       "    case 3:\n",
       "        cursor = 'move';\n",
       "        break;\n",
       "    }\n",
       "    fig.rubberband_canvas.style.cursor = cursor;\n",
       "}\n",
       "\n",
       "mpl.figure.prototype.handle_message = function(fig, msg) {\n",
       "    fig.message.textContent = msg['message'];\n",
       "}\n",
       "\n",
       "mpl.figure.prototype.handle_draw = function(fig, msg) {\n",
       "    // Request the server to send over a new figure.\n",
       "    fig.send_draw_message();\n",
       "}\n",
       "\n",
       "mpl.figure.prototype.handle_image_mode = function(fig, msg) {\n",
       "    fig.image_mode = msg['mode'];\n",
       "}\n",
       "\n",
       "mpl.figure.prototype.updated_canvas_event = function() {\n",
       "    // Called whenever the canvas gets updated.\n",
       "    this.send_message(\"ack\", {});\n",
       "}\n",
       "\n",
       "// A function to construct a web socket function for onmessage handling.\n",
       "// Called in the figure constructor.\n",
       "mpl.figure.prototype._make_on_message_function = function(fig) {\n",
       "    return function socket_on_message(evt) {\n",
       "        if (evt.data instanceof Blob) {\n",
       "            /* FIXME: We get \"Resource interpreted as Image but\n",
       "             * transferred with MIME type text/plain:\" errors on\n",
       "             * Chrome.  But how to set the MIME type?  It doesn't seem\n",
       "             * to be part of the websocket stream */\n",
       "            evt.data.type = \"image/png\";\n",
       "\n",
       "            /* Free the memory for the previous frames */\n",
       "            if (fig.imageObj.src) {\n",
       "                (window.URL || window.webkitURL).revokeObjectURL(\n",
       "                    fig.imageObj.src);\n",
       "            }\n",
       "\n",
       "            fig.imageObj.src = (window.URL || window.webkitURL).createObjectURL(\n",
       "                evt.data);\n",
       "            fig.updated_canvas_event();\n",
       "            fig.waiting = false;\n",
       "            return;\n",
       "        }\n",
       "        else if (typeof evt.data === 'string' && evt.data.slice(0, 21) == \"data:image/png;base64\") {\n",
       "            fig.imageObj.src = evt.data;\n",
       "            fig.updated_canvas_event();\n",
       "            fig.waiting = false;\n",
       "            return;\n",
       "        }\n",
       "\n",
       "        var msg = JSON.parse(evt.data);\n",
       "        var msg_type = msg['type'];\n",
       "\n",
       "        // Call the  \"handle_{type}\" callback, which takes\n",
       "        // the figure and JSON message as its only arguments.\n",
       "        try {\n",
       "            var callback = fig[\"handle_\" + msg_type];\n",
       "        } catch (e) {\n",
       "            console.log(\"No handler for the '\" + msg_type + \"' message type: \", msg);\n",
       "            return;\n",
       "        }\n",
       "\n",
       "        if (callback) {\n",
       "            try {\n",
       "                // console.log(\"Handling '\" + msg_type + \"' message: \", msg);\n",
       "                callback(fig, msg);\n",
       "            } catch (e) {\n",
       "                console.log(\"Exception inside the 'handler_\" + msg_type + \"' callback:\", e, e.stack, msg);\n",
       "            }\n",
       "        }\n",
       "    };\n",
       "}\n",
       "\n",
       "// from http://stackoverflow.com/questions/1114465/getting-mouse-location-in-canvas\n",
       "mpl.findpos = function(e) {\n",
       "    //this section is from http://www.quirksmode.org/js/events_properties.html\n",
       "    var targ;\n",
       "    if (!e)\n",
       "        e = window.event;\n",
       "    if (e.target)\n",
       "        targ = e.target;\n",
       "    else if (e.srcElement)\n",
       "        targ = e.srcElement;\n",
       "    if (targ.nodeType == 3) // defeat Safari bug\n",
       "        targ = targ.parentNode;\n",
       "\n",
       "    // jQuery normalizes the pageX and pageY\n",
       "    // pageX,Y are the mouse positions relative to the document\n",
       "    // offset() returns the position of the element relative to the document\n",
       "    var x = e.pageX - $(targ).offset().left;\n",
       "    var y = e.pageY - $(targ).offset().top;\n",
       "\n",
       "    return {\"x\": x, \"y\": y};\n",
       "};\n",
       "\n",
       "/*\n",
       " * return a copy of an object with only non-object keys\n",
       " * we need this to avoid circular references\n",
       " * http://stackoverflow.com/a/24161582/3208463\n",
       " */\n",
       "function simpleKeys (original) {\n",
       "  return Object.keys(original).reduce(function (obj, key) {\n",
       "    if (typeof original[key] !== 'object')\n",
       "        obj[key] = original[key]\n",
       "    return obj;\n",
       "  }, {});\n",
       "}\n",
       "\n",
       "mpl.figure.prototype.mouse_event = function(event, name) {\n",
       "    var canvas_pos = mpl.findpos(event)\n",
       "\n",
       "    if (name === 'button_press')\n",
       "    {\n",
       "        this.canvas.focus();\n",
       "        this.canvas_div.focus();\n",
       "    }\n",
       "\n",
       "    var x = canvas_pos.x * mpl.ratio;\n",
       "    var y = canvas_pos.y * mpl.ratio;\n",
       "\n",
       "    this.send_message(name, {x: x, y: y, button: event.button,\n",
       "                             step: event.step,\n",
       "                             guiEvent: simpleKeys(event)});\n",
       "\n",
       "    /* This prevents the web browser from automatically changing to\n",
       "     * the text insertion cursor when the button is pressed.  We want\n",
       "     * to control all of the cursor setting manually through the\n",
       "     * 'cursor' event from matplotlib */\n",
       "    event.preventDefault();\n",
       "    return false;\n",
       "}\n",
       "\n",
       "mpl.figure.prototype._key_event_extra = function(event, name) {\n",
       "    // Handle any extra behaviour associated with a key event\n",
       "}\n",
       "\n",
       "mpl.figure.prototype.key_event = function(event, name) {\n",
       "\n",
       "    // Prevent repeat events\n",
       "    if (name == 'key_press')\n",
       "    {\n",
       "        if (event.which === this._key)\n",
       "            return;\n",
       "        else\n",
       "            this._key = event.which;\n",
       "    }\n",
       "    if (name == 'key_release')\n",
       "        this._key = null;\n",
       "\n",
       "    var value = '';\n",
       "    if (event.ctrlKey && event.which != 17)\n",
       "        value += \"ctrl+\";\n",
       "    if (event.altKey && event.which != 18)\n",
       "        value += \"alt+\";\n",
       "    if (event.shiftKey && event.which != 16)\n",
       "        value += \"shift+\";\n",
       "\n",
       "    value += 'k';\n",
       "    value += event.which.toString();\n",
       "\n",
       "    this._key_event_extra(event, name);\n",
       "\n",
       "    this.send_message(name, {key: value,\n",
       "                             guiEvent: simpleKeys(event)});\n",
       "    return false;\n",
       "}\n",
       "\n",
       "mpl.figure.prototype.toolbar_button_onclick = function(name) {\n",
       "    if (name == 'download') {\n",
       "        this.handle_save(this, null);\n",
       "    } else {\n",
       "        this.send_message(\"toolbar_button\", {name: name});\n",
       "    }\n",
       "};\n",
       "\n",
       "mpl.figure.prototype.toolbar_button_onmouseover = function(tooltip) {\n",
       "    this.message.textContent = tooltip;\n",
       "};\n",
       "mpl.toolbar_items = [[\"Home\", \"Reset original view\", \"fa fa-home icon-home\", \"home\"], [\"Back\", \"Back to  previous view\", \"fa fa-arrow-left icon-arrow-left\", \"back\"], [\"Forward\", \"Forward to next view\", \"fa fa-arrow-right icon-arrow-right\", \"forward\"], [\"\", \"\", \"\", \"\"], [\"Pan\", \"Pan axes with left mouse, zoom with right\", \"fa fa-arrows icon-move\", \"pan\"], [\"Zoom\", \"Zoom to rectangle\", \"fa fa-square-o icon-check-empty\", \"zoom\"], [\"\", \"\", \"\", \"\"], [\"Download\", \"Download plot\", \"fa fa-floppy-o icon-save\", \"download\"]];\n",
       "\n",
       "mpl.extensions = [\"eps\", \"jpeg\", \"pdf\", \"png\", \"ps\", \"raw\", \"svg\", \"tif\"];\n",
       "\n",
       "mpl.default_extension = \"png\";var comm_websocket_adapter = function(comm) {\n",
       "    // Create a \"websocket\"-like object which calls the given IPython comm\n",
       "    // object with the appropriate methods. Currently this is a non binary\n",
       "    // socket, so there is still some room for performance tuning.\n",
       "    var ws = {};\n",
       "\n",
       "    ws.close = function() {\n",
       "        comm.close()\n",
       "    };\n",
       "    ws.send = function(m) {\n",
       "        //console.log('sending', m);\n",
       "        comm.send(m);\n",
       "    };\n",
       "    // Register the callback with on_msg.\n",
       "    comm.on_msg(function(msg) {\n",
       "        //console.log('receiving', msg['content']['data'], msg);\n",
       "        // Pass the mpl event to the overriden (by mpl) onmessage function.\n",
       "        ws.onmessage(msg['content']['data'])\n",
       "    });\n",
       "    return ws;\n",
       "}\n",
       "\n",
       "mpl.mpl_figure_comm = function(comm, msg) {\n",
       "    // This is the function which gets called when the mpl process\n",
       "    // starts-up an IPython Comm through the \"matplotlib\" channel.\n",
       "\n",
       "    var id = msg.content.data.id;\n",
       "    // Get hold of the div created by the display call when the Comm\n",
       "    // socket was opened in Python.\n",
       "    var element = $(\"#\" + id);\n",
       "    var ws_proxy = comm_websocket_adapter(comm)\n",
       "\n",
       "    function ondownload(figure, format) {\n",
       "        window.open(figure.imageObj.src);\n",
       "    }\n",
       "\n",
       "    var fig = new mpl.figure(id, ws_proxy,\n",
       "                           ondownload,\n",
       "                           element.get(0));\n",
       "\n",
       "    // Call onopen now - mpl needs it, as it is assuming we've passed it a real\n",
       "    // web socket which is closed, not our websocket->open comm proxy.\n",
       "    ws_proxy.onopen();\n",
       "\n",
       "    fig.parent_element = element.get(0);\n",
       "    fig.cell_info = mpl.find_output_cell(\"<div id='\" + id + \"'></div>\");\n",
       "    if (!fig.cell_info) {\n",
       "        console.error(\"Failed to find cell for figure\", id, fig);\n",
       "        return;\n",
       "    }\n",
       "\n",
       "    var output_index = fig.cell_info[2]\n",
       "    var cell = fig.cell_info[0];\n",
       "\n",
       "};\n",
       "\n",
       "mpl.figure.prototype.handle_close = function(fig, msg) {\n",
       "    var width = fig.canvas.width/mpl.ratio\n",
       "    fig.root.unbind('remove')\n",
       "\n",
       "    // Update the output cell to use the data from the current canvas.\n",
       "    fig.push_to_output();\n",
       "    var dataURL = fig.canvas.toDataURL();\n",
       "    // Re-enable the keyboard manager in IPython - without this line, in FF,\n",
       "    // the notebook keyboard shortcuts fail.\n",
       "    IPython.keyboard_manager.enable()\n",
       "    $(fig.parent_element).html('<img src=\"' + dataURL + '\" width=\"' + width + '\">');\n",
       "    fig.close_ws(fig, msg);\n",
       "}\n",
       "\n",
       "mpl.figure.prototype.close_ws = function(fig, msg){\n",
       "    fig.send_message('closing', msg);\n",
       "    // fig.ws.close()\n",
       "}\n",
       "\n",
       "mpl.figure.prototype.push_to_output = function(remove_interactive) {\n",
       "    // Turn the data on the canvas into data in the output cell.\n",
       "    var width = this.canvas.width/mpl.ratio\n",
       "    var dataURL = this.canvas.toDataURL();\n",
       "    this.cell_info[1]['text/html'] = '<img src=\"' + dataURL + '\" width=\"' + width + '\">';\n",
       "}\n",
       "\n",
       "mpl.figure.prototype.updated_canvas_event = function() {\n",
       "    // Tell IPython that the notebook contents must change.\n",
       "    IPython.notebook.set_dirty(true);\n",
       "    this.send_message(\"ack\", {});\n",
       "    var fig = this;\n",
       "    // Wait a second, then push the new image to the DOM so\n",
       "    // that it is saved nicely (might be nice to debounce this).\n",
       "    setTimeout(function () { fig.push_to_output() }, 1000);\n",
       "}\n",
       "\n",
       "mpl.figure.prototype._init_toolbar = function() {\n",
       "    var fig = this;\n",
       "\n",
       "    var nav_element = $('<div/>')\n",
       "    nav_element.attr('style', 'width: 100%');\n",
       "    this.root.append(nav_element);\n",
       "\n",
       "    // Define a callback function for later on.\n",
       "    function toolbar_event(event) {\n",
       "        return fig.toolbar_button_onclick(event['data']);\n",
       "    }\n",
       "    function toolbar_mouse_event(event) {\n",
       "        return fig.toolbar_button_onmouseover(event['data']);\n",
       "    }\n",
       "\n",
       "    for(var toolbar_ind in mpl.toolbar_items){\n",
       "        var name = mpl.toolbar_items[toolbar_ind][0];\n",
       "        var tooltip = mpl.toolbar_items[toolbar_ind][1];\n",
       "        var image = mpl.toolbar_items[toolbar_ind][2];\n",
       "        var method_name = mpl.toolbar_items[toolbar_ind][3];\n",
       "\n",
       "        if (!name) { continue; };\n",
       "\n",
       "        var button = $('<button class=\"btn btn-default\" href=\"#\" title=\"' + name + '\"><i class=\"fa ' + image + ' fa-lg\"></i></button>');\n",
       "        button.click(method_name, toolbar_event);\n",
       "        button.mouseover(tooltip, toolbar_mouse_event);\n",
       "        nav_element.append(button);\n",
       "    }\n",
       "\n",
       "    // Add the status bar.\n",
       "    var status_bar = $('<span class=\"mpl-message\" style=\"text-align:right; float: right;\"/>');\n",
       "    nav_element.append(status_bar);\n",
       "    this.message = status_bar[0];\n",
       "\n",
       "    // Add the close button to the window.\n",
       "    var buttongrp = $('<div class=\"btn-group inline pull-right\"></div>');\n",
       "    var button = $('<button class=\"btn btn-mini btn-primary\" href=\"#\" title=\"Stop Interaction\"><i class=\"fa fa-power-off icon-remove icon-large\"></i></button>');\n",
       "    button.click(function (evt) { fig.handle_close(fig, {}); } );\n",
       "    button.mouseover('Stop Interaction', toolbar_mouse_event);\n",
       "    buttongrp.append(button);\n",
       "    var titlebar = this.root.find($('.ui-dialog-titlebar'));\n",
       "    titlebar.prepend(buttongrp);\n",
       "}\n",
       "\n",
       "mpl.figure.prototype._root_extra_style = function(el){\n",
       "    var fig = this\n",
       "    el.on(\"remove\", function(){\n",
       "\tfig.close_ws(fig, {});\n",
       "    });\n",
       "}\n",
       "\n",
       "mpl.figure.prototype._canvas_extra_style = function(el){\n",
       "    // this is important to make the div 'focusable\n",
       "    el.attr('tabindex', 0)\n",
       "    // reach out to IPython and tell the keyboard manager to turn it's self\n",
       "    // off when our div gets focus\n",
       "\n",
       "    // location in version 3\n",
       "    if (IPython.notebook.keyboard_manager) {\n",
       "        IPython.notebook.keyboard_manager.register_events(el);\n",
       "    }\n",
       "    else {\n",
       "        // location in version 2\n",
       "        IPython.keyboard_manager.register_events(el);\n",
       "    }\n",
       "\n",
       "}\n",
       "\n",
       "mpl.figure.prototype._key_event_extra = function(event, name) {\n",
       "    var manager = IPython.notebook.keyboard_manager;\n",
       "    if (!manager)\n",
       "        manager = IPython.keyboard_manager;\n",
       "\n",
       "    // Check for shift+enter\n",
       "    if (event.shiftKey && event.which == 13) {\n",
       "        this.canvas_div.blur();\n",
       "        // select the cell after this one\n",
       "        var index = IPython.notebook.find_cell_index(this.cell_info[0]);\n",
       "        IPython.notebook.select(index + 1);\n",
       "    }\n",
       "}\n",
       "\n",
       "mpl.figure.prototype.handle_save = function(fig, msg) {\n",
       "    fig.ondownload(fig, null);\n",
       "}\n",
       "\n",
       "\n",
       "mpl.find_output_cell = function(html_output) {\n",
       "    // Return the cell and output element which can be found *uniquely* in the notebook.\n",
       "    // Note - this is a bit hacky, but it is done because the \"notebook_saving.Notebook\"\n",
       "    // IPython event is triggered only after the cells have been serialised, which for\n",
       "    // our purposes (turning an active figure into a static one), is too late.\n",
       "    var cells = IPython.notebook.get_cells();\n",
       "    var ncells = cells.length;\n",
       "    for (var i=0; i<ncells; i++) {\n",
       "        var cell = cells[i];\n",
       "        if (cell.cell_type === 'code'){\n",
       "            for (var j=0; j<cell.output_area.outputs.length; j++) {\n",
       "                var data = cell.output_area.outputs[j];\n",
       "                if (data.data) {\n",
       "                    // IPython >= 3 moved mimebundle to data attribute of output\n",
       "                    data = data.data;\n",
       "                }\n",
       "                if (data['text/html'] == html_output) {\n",
       "                    return [cell, data, j];\n",
       "                }\n",
       "            }\n",
       "        }\n",
       "    }\n",
       "}\n",
       "\n",
       "// Register the function which deals with the matplotlib target/channel.\n",
       "// The kernel may be null if the page has been refreshed.\n",
       "if (IPython.notebook.kernel != null) {\n",
       "    IPython.notebook.kernel.comm_manager.register_target('matplotlib', mpl.mpl_figure_comm);\n",
       "}\n"
      ],
      "text/plain": [
       "<IPython.core.display.Javascript object>"
      ]
     },
     "metadata": {},
     "output_type": "display_data"
    },
    {
     "data": {
      "text/html": [
       "<img src=\"data:image/png;base64,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\" width=\"640.0000080309417\">"
      ],
      "text/plain": [
       "<IPython.core.display.HTML object>"
      ]
     },
     "metadata": {},
     "output_type": "display_data"
    }
   ],
   "source": [
    "import matplotlib.pyplot as plt\n",
    "ax = df.plot.bar(title =\"Precision e Recall das Estratégias\")\n",
    "plt.tight_layout()\n"
   ]
  },
  {
   "cell_type": "markdown",
   "metadata": {},
   "source": [
    "## Antigo"
   ]
  },
  {
   "cell_type": "code",
   "execution_count": null,
   "metadata": {
    "collapsed": true
   },
   "outputs": [],
   "source": [
    "\n",
    "s5 = state.find(\"s5\")\n",
    "s5"
   ]
  },
  {
   "cell_type": "code",
   "execution_count": null,
   "metadata": {
    "collapsed": true
   },
   "outputs": [],
   "source": []
  },
  {
   "cell_type": "code",
   "execution_count": null,
   "metadata": {
    "collapsed": true
   },
   "outputs": [],
   "source": [
    "s5.delta_related"
   ]
  },
  {
   "cell_type": "code",
   "execution_count": null,
   "metadata": {
    "collapsed": true
   },
   "outputs": [],
   "source": [
    "state.previous[0][1].previous[0][0].related"
   ]
  },
  {
   "cell_type": "code",
   "execution_count": null,
   "metadata": {
    "collapsed": true
   },
   "outputs": [],
   "source": [
    "state"
   ]
  },
  {
   "cell_type": "code",
   "execution_count": null,
   "metadata": {
    "collapsed": true
   },
   "outputs": [],
   "source": [
    "s1 = state.find(\"s1\")\n",
    "total = sum(1 for _, w in load_work_map_all_years() if w.category == \"snowball\")"
   ]
  },
  {
   "cell_type": "code",
   "execution_count": null,
   "metadata": {
    "collapsed": true
   },
   "outputs": [],
   "source": [
    "len(s1.delta_related) / len(s1.delta_visited)"
   ]
  },
  {
   "cell_type": "code",
   "execution_count": null,
   "metadata": {
    "collapsed": true
   },
   "outputs": [],
   "source": [
    "len(s1.delta_related) / total"
   ]
  },
  {
   "cell_type": "code",
   "execution_count": null,
   "metadata": {
    "collapsed": true
   },
   "outputs": [],
   "source": [
    "len(state.related) / len(state.visited)"
   ]
  },
  {
   "cell_type": "code",
   "execution_count": null,
   "metadata": {
    "collapsed": true
   },
   "outputs": [],
   "source": [
    "len(state.related) / total"
   ]
  },
  {
   "cell_type": "code",
   "execution_count": null,
   "metadata": {
    "collapsed": true
   },
   "outputs": [],
   "source": [
    "state.log"
   ]
  },
  {
   "cell_type": "code",
   "execution_count": null,
   "metadata": {
    "collapsed": true
   },
   "outputs": [],
   "source": [
    "len(state.visited)"
   ]
  },
  {
   "cell_type": "code",
   "execution_count": null,
   "metadata": {
    "collapsed": true
   },
   "outputs": [],
   "source": [
    "with open(\"output/snowballing.provn\", \"w\") as provn:\n",
    "    provn.write(state.provn)"
   ]
  },
  {
   "cell_type": "code",
   "execution_count": null,
   "metadata": {
    "collapsed": true
   },
   "outputs": [],
   "source": [
    "!provconvert.bat -infile output/snowballing.provn -outfile output/snowballing.dot"
   ]
  },
  {
   "cell_type": "code",
   "execution_count": null,
   "metadata": {
    "collapsed": true
   },
   "outputs": [],
   "source": [
    "with open(\"output/snowballing.dot\", \"r\") as prov_dot:\n",
    "    text = prov_dot.read().replace('rankdir=\"BT\";', 'rankdir=\"RL\"; ranksep=\"0.1\";')\n",
    "with open(\"output/snowballing.dot\", \"w\") as prov_dot:\n",
    "    prov_dot.write(text)"
   ]
  },
  {
   "cell_type": "code",
   "execution_count": null,
   "metadata": {
    "collapsed": true
   },
   "outputs": [],
   "source": [
    "!dot -Tpng output/snowballing.dot -ooutput/snowballing.png\n",
    "!dot -Tsvg output/snowballing.dot -ooutput/snowballing.svg\n",
    "#!inkscape -D -z --file=output/snowballing.svg --export-pdf=output/snowballing.pdf"
   ]
  },
  {
   "cell_type": "code",
   "execution_count": null,
   "metadata": {
    "collapsed": true
   },
   "outputs": [],
   "source": [
    "from IPython.display import Image\n",
    "Image(\"output/snowballing.png\")"
   ]
  },
  {
   "cell_type": "code",
   "execution_count": null,
   "metadata": {
    "collapsed": true
   },
   "outputs": [],
   "source": [
    "log = state.log"
   ]
  },
  {
   "cell_type": "code",
   "execution_count": null,
   "metadata": {
    "collapsed": true
   },
   "outputs": [],
   "source": [
    "len([x for _, x in load_work_map_all_years() if x.category in ('snowball','ok','backward')])"
   ]
  },
  {
   "cell_type": "code",
   "execution_count": null,
   "metadata": {
    "collapsed": true
   },
   "outputs": [],
   "source": [
    "from fractions import Fraction\n",
    "for step in log:\n",
    "    print(\"precision\", Fraction(step.new_related, step.new_references))"
   ]
  },
  {
   "cell_type": "code",
   "execution_count": null,
   "metadata": {
    "collapsed": true
   },
   "outputs": [],
   "source": [
    "len([x for x in state.visited if x.category in {\"snowball\"}])"
   ]
  },
  {
   "cell_type": "code",
   "execution_count": null,
   "metadata": {
    "collapsed": true
   },
   "outputs": [],
   "source": [
    "from snowballing.approaches import get_approaches\n",
    "len(get_approaches())"
   ]
  },
  {
   "cell_type": "code",
   "execution_count": null,
   "metadata": {
    "collapsed": true
   },
   "outputs": [],
   "source": [
    "visited = state.visited\n",
    "len([(x, x.year) for x in state.visited\n",
    "     if x.category in {\"nofile\"}\n",
    "     if x.place.name != \"Tech Report\"\n",
    "     if x.place.name != \"Book\"\n",
    "     if x.place.name != \"Patent\"\n",
    "     if x.place.name == \"Conference\"\n",
    "     if x.display != x.place.acronym\n",
    "    ])\n",
    "#count = 0\n",
    "#for x in visited:\n",
    "#     if hasattr(x, 'dglibrary'):\n",
    "#        print(x.dglibrary)\n",
    "#        count = 1 + count\n",
    "#print (count)\n",
    "len([\n",
    "    (x, x.year) for x in visited\n",
    "     if hasattr(x, 'dglibrary') and x.dglibrary==\"Scopus\"\n",
    "    \n",
    "])\n",
    "\n",
    "def count_ref(library,obj):\n",
    "    len_dglibrary = len([(x, x.year) for x in obj\n",
    "                             if hasattr(x, 'dglibrary') and library in x.dglibrary  \n",
    "                        ])\n",
    "    len_backward = len([(x, x.year) for x in obj\n",
    "                             if x.category==\"backward\"  \n",
    "                        ])\n",
    "    len_forward = len([(x, x.year) for x in obj\n",
    "                             if x.category==\"forward\"  \n",
    "                        ])\n",
    "    qtdref=0\n",
    "    qtdcitations=0\n",
    "    for x in obj:\n",
    "        qtdref=qtdref + int(getattr(x, \"references\", 0))\n",
    "        \n",
    "    scopus = sum(int(getattr(x, \"scopus\", 0)) for x in obj)\n",
    "            \n",
    "    for x in obj:\n",
    "        qtdcitations=qtdcitations + int(getattr(x, \"citations\", 0))\n",
    "    return len_dglibrary,qtdref,qtdcitations,len_backward,len_forward\n",
    "     \n",
    "\n",
    "print (\"Digital Library, Referencias, Citações, Qtd Backward, Qtd Forward\")\n",
    "print(count_ref(\"Scopus\",visited))\n",
    "\n",
    "log\n",
    "\n",
    "print (log[0].name, log[0].new_references)\n",
    "print(log[1].name, log[1].new_references)\n",
    "print(log[2].name, log[2].new_references)\n",
    "print(log[3].name, log[3].new_references)\n",
    "print(\"visitados\", len(visited))"
   ]
  },
  {
   "cell_type": "code",
   "execution_count": null,
   "metadata": {
    "collapsed": true
   },
   "outputs": [],
   "source": [
    "len([x for x in visited if x.category in {\"lang\"}])"
   ]
  },
  {
   "cell_type": "code",
   "execution_count": null,
   "metadata": {
    "collapsed": true
   },
   "outputs": [],
   "source": [
    "len([x for x in visited if x.category in {\"site\"}])"
   ]
  },
  {
   "cell_type": "code",
   "execution_count": null,
   "metadata": {
    "collapsed": true
   },
   "outputs": [],
   "source": [
    "len([x for x in visited\n",
    "     if x.place.name == \"Tech Report\"\n",
    "    ])"
   ]
  },
  {
   "cell_type": "code",
   "execution_count": null,
   "metadata": {
    "collapsed": true
   },
   "outputs": [],
   "source": [
    "len([x for x in visited\n",
    "     if x.place.name == \"ESEM\"\n",
    "    ])"
   ]
  },
  {
   "cell_type": "code",
   "execution_count": null,
   "metadata": {
    "collapsed": true
   },
   "outputs": [],
   "source": [
    "{x.category for x in visited}"
   ]
  },
  {
   "cell_type": "code",
   "execution_count": null,
   "metadata": {
    "collapsed": true,
    "scrolled": true
   },
   "outputs": [],
   "source": [
    "[(x.year, x.authors, x.name, x.place.name, x.request) for x in visited\n",
    " if x.category in {\"nofile\"}\n",
    " if x.place.name != \"Tech Report\"\n",
    " if x.place.name != \"Book\"\n",
    " if x.place.name != \"Patent\"\n",
    " if x.display != x.place.acronym]"
   ]
  },
  {
   "cell_type": "code",
   "execution_count": null,
   "metadata": {
    "collapsed": true
   },
   "outputs": [],
   "source": [
    "len(_)"
   ]
  },
  {
   "cell_type": "code",
   "execution_count": null,
   "metadata": {
    "collapsed": true
   },
   "outputs": [],
   "source": []
  },
  {
   "cell_type": "code",
   "execution_count": null,
   "metadata": {
    "collapsed": true
   },
   "outputs": [],
   "source": []
  }
 ],
 "metadata": {
  "kernelspec": {
   "display_name": "Python 3",
   "language": "python",
   "name": "python3"
  },
  "language_info": {
   "codemirror_mode": {
    "name": "ipython",
    "version": 3
   },
   "file_extension": ".py",
   "mimetype": "text/x-python",
   "name": "python",
   "nbconvert_exporter": "python",
   "pygments_lexer": "ipython3",
   "version": "3.6.3"
  },
  "toc": {
   "nav_menu": {
    "height": "12px",
    "width": "252px"
   },
   "number_sections": true,
   "sideBar": true,
   "skip_h1_title": false,
   "toc_cell": false,
   "toc_position": {
    "height": "831px",
    "left": "0px",
    "right": "1438px",
    "top": "107px",
    "width": "242px"
   },
   "toc_section_display": "block",
   "toc_window_display": true
  }
 },
 "nbformat": 4,
 "nbformat_minor": 2
}
