{
 "cells": [
  {
   "cell_type": "code",
   "execution_count": 1,
   "metadata": {
    "collapsed": true
   },
   "outputs": [],
   "source": [
    "import database\n",
    "from snowballing.operations import load_work, reload, work_by_varname\n",
    "from snowballing.selenium_scholar import SeleniumScholarQuerier\n",
    "from snowballing.snowballing import ForwardSnowballing\n",
    "from snowballing.dbmanager import insert, set_attribute"
   ]
  },
  {
   "cell_type": "code",
   "execution_count": 2,
   "metadata": {
    "collapsed": true
   },
   "outputs": [],
   "source": [
    "querier = SeleniumScholarQuerier()"
   ]
  },
  {
   "cell_type": "code",
   "execution_count": 3,
   "metadata": {
    "scrolled": true
   },
   "outputs": [
    {
     "name": "stderr",
     "output_type": "stream",
     "text": [
      "[ INFO]  settings applied\n"
     ]
    }
   ],
   "source": [
    "querier.apply_settings(20, 4);"
   ]
  },
  {
   "cell_type": "code",
   "execution_count": 14,
   "metadata": {},
   "outputs": [],
   "source": [
    "manager = ForwardSnowballing(querier, \"mendes2004a\", start=0)"
   ]
  },
  {
   "cell_type": "code",
   "execution_count": 15,
   "metadata": {
    "scrolled": true
   },
   "outputs": [
    {
     "data": {
      "application/vnd.jupyter.widget-view+json": {
       "model_id": "e7caf7039a3749b498a86e1466b4e8c0",
       "version_major": 2,
       "version_minor": 0
      },
      "text/html": [
       "<p>Failed to display Jupyter Widget of type <code>Tab</code>.</p>\n",
       "<p>\n",
       "  If you're reading this message in Jupyter Notebook or JupyterLab, it may mean\n",
       "  that the widgets JavaScript is still loading. If this message persists, it\n",
       "  likely means that the widgets JavaScript library is either not installed or\n",
       "  not enabled. See the <a href=\"https://ipywidgets.readthedocs.io/en/stable/user_install.html\">Jupyter\n",
       "  Widgets Documentation</a> for setup instructions.\n",
       "</p>\n",
       "<p>\n",
       "  If you're reading this message in another notebook frontend (for example, a static\n",
       "  rendering on GitHub or <a href=\"https://nbviewer.jupyter.org/\">NBViewer</a>),\n",
       "  it may mean that your frontend doesn't currently support widgets.\n",
       "</p>\n"
      ],
      "text/plain": [
       "Tab(children=(VBox(children=(HBox(children=(Button(description='Previous Page', disabled=True, icon='arrow-left', style=ButtonStyle()), Button(description='Reload', icon='refresh', style=ButtonStyle()), Button(description='Next Page', icon='arrow-right', style=ButtonStyle()), ToggleButton(value=False, description='Debug'), Label(value='0'))), Output())), VBox(children=(HBox(children=(Button(description='Previous Article', disabled=True, icon='caret-left', style=ButtonStyle()), Button(description='Reload Article', icon='refresh', style=ButtonStyle()), Button(description='Next Article', icon='caret-right', style=ButtonStyle()))), HBox(children=(Button(description='Unrelated: Scripts', style=ButtonStyle()), Button(description='Unrelated: Provenance', style=ButtonStyle()), Button(description='Both', style=ButtonStyle()), Button(description='Ok', style=ButtonStyle()))), HBox(children=(Dropdown(description='Type', options=('Work', 'WorkSnowball', 'WorkForward', 'WorkBackward', 'WorkOk', 'WorkUnrelated', 'WorkNoFile', 'WorkLang', 'Site', 'Email'), value='Work'), ToggleButton(value=False, description='File'))), HBox(children=(Text(value='', description='Due'), Text(value='', description='Place'))), HBox(children=(Text(value='', description='Year'), Text(value='', description='Prefix Var'))), HBox(children=(Text(value='', description='PDFPage'), Text(value='', description='Related'))), HBox(children=(Text(value='', description='Display'), Text(value='', description='Summary'))), HBox(children=(Text(value='', description='Star'), Text(value='', description='Link'))), HBox(children=(Button(description='Reload Article', icon='refresh', style=ButtonStyle()), IntSlider(value=0, max=19), Label(value='1/20'))), Output()))), _titles={'0': 'Page', '1': 'Article'})"
      ]
     },
     "metadata": {},
     "output_type": "display_data"
    },
    {
     "data": {
      "application/javascript": [
       "$('span:contains(\"# Temp\")').closest('.cell').remove();"
      ],
      "text/plain": [
       "<IPython.core.display.Javascript object>"
      ]
     },
     "metadata": {},
     "output_type": "display_data"
    },
    {
     "data": {
      "application/javascript": [
       "\n",
       "        $('span:contains(\"# Temp\")').closest('.cell').remove();\n",
       "        var code = IPython.notebook.insert_cell_below('code');\n",
       "        code.set_text(atob(\"IyBUZW1wCmluc2VydCgnJycKemltbWVybWFubjIwMDlhID0gREIoV29yaygKICAgIDIwMDksICJDcm9zcy1wcm9qZWN0IGRlZmVjdCBwcmVkaWN0aW9uOiBhIGxhcmdlIHNjYWxlIGV4cGVyaW1lbnQgb24gZGF0YSB2cy4gZG9tYWluIHZzLiBwcm9jZXNzIiwKICAgIGRpc3BsYXk9InppbW1lcm1hbm4iLAogICAgYXV0aG9ycz0iWmltbWVybWFubiwgVGhvbWFzIGFuZCBOYWdhcHBhbiwgTmFjaGlhcHBhbiBhbmQgR2FsbCwgSGFyYWxkIGFuZCBHaWdlciwgRW1hbnVlbCBhbmQgTXVycGh5LCBCcmVuZGFuIiwKICAgIHBwPSI5MS0tMTAwIiwKICAgIHBsYWNlMT0iUHJvY2VlZGluZ3Mgb2YgdGhlIHRoZSA3dGggam9pbnQgbWVldGluZyBvZiB0aGUgRXVyb3BlYW4gc29mdHdhcmUgZW5naW5lZXJpbmcgY29uZmVyZW5jZSBhbmQgdGhlIEFDTSBTSUdTT0ZUIHN5bXBvc2l1bSBvbiBUaGUgZm91bmRhdGlvbnMgb2Ygc29mdHdhcmUgZW5naW5lZXJpbmciLAogICAgZW50cnl0eXBlPSJpbnByb2NlZWRpbmdzIiwKICAgIG9yZ2FuaXphdGlvbj0iQUNNIiwKICAgIElEPSJ6aW1tZXJtYW5uMjAwOWNyb3NzIiwKICAgIGNsdXN0ZXJfaWQ9IjE3NzkxNDY5ODUxMjcyMDEyNTk4IiwKICAgIHNjaG9sYXI9Imh0dHA6Ly9zY2hvbGFyLmdvb2dsZS5jb20vc2Nob2xhcj9jaXRlcz0xNzc5MTQ2OTg1MTI3MjAxMjU5OCZhc19zZHQ9MjAwNSZzY2lvZHQ9MCw1JmhsPWVuIiwKKSkKCkRCKENpdGF0aW9uKAogICAgemltbWVybWFubjIwMDlhLCBtZW5kZXMyMDA0YSwgcmVmPSIiLAogICAgY29udGV4dHM9WwoKICAgIF0sCikpCgonJycsIGNpdGF0aW9ucz0nbWVuZGVzMjAwNGEnKTs=\"));\n",
       "    "
      ],
      "text/plain": [
       "<IPython.core.display.Javascript object>"
      ]
     },
     "metadata": {},
     "output_type": "display_data"
    },
    {
     "data": {
      "application/javascript": [
       "$('span:contains(\"# Temp\")').closest('.cell').remove();"
      ],
      "text/plain": [
       "<IPython.core.display.Javascript object>"
      ]
     },
     "metadata": {},
     "output_type": "display_data"
    },
    {
     "data": {
      "application/javascript": [
       "\n",
       "        $('span:contains(\"# Temp\")').closest('.cell').remove();\n",
       "        var code = IPython.notebook.insert_cell_below('code');\n",
       "        code.set_text(atob(\"IyBUZW1wCmluc2VydCgnJycKemltbWVybWFubjIwMDlhID0gREIoV29ya1VucmVsYXRlZCgKICAgIDIwMDksICJDcm9zcy1wcm9qZWN0IGRlZmVjdCBwcmVkaWN0aW9uOiBhIGxhcmdlIHNjYWxlIGV4cGVyaW1lbnQgb24gZGF0YSB2cy4gZG9tYWluIHZzLiBwcm9jZXNzIiwKICAgIGRpc3BsYXk9InppbW1lcm1hbm4iLAogICAgYXV0aG9ycz0iWmltbWVybWFubiwgVGhvbWFzIGFuZCBOYWdhcHBhbiwgTmFjaGlhcHBhbiBhbmQgR2FsbCwgSGFyYWxkIGFuZCBHaWdlciwgRW1hbnVlbCBhbmQgTXVycGh5LCBCcmVuZGFuIiwKICAgIHBwPSI5MS0tMTAwIiwKICAgIHBsYWNlMT0iUHJvY2VlZGluZ3Mgb2YgdGhlIHRoZSA3dGggam9pbnQgbWVldGluZyBvZiB0aGUgRXVyb3BlYW4gc29mdHdhcmUgZW5naW5lZXJpbmcgY29uZmVyZW5jZSBhbmQgdGhlIEFDTSBTSUdTT0ZUIHN5bXBvc2l1bSBvbiBUaGUgZm91bmRhdGlvbnMgb2Ygc29mdHdhcmUgZW5naW5lZXJpbmciLAogICAgZW50cnl0eXBlPSJpbnByb2NlZWRpbmdzIiwKICAgIG9yZ2FuaXphdGlvbj0iQUNNIiwKICAgIElEPSJ6aW1tZXJtYW5uMjAwOWNyb3NzIiwKICAgIGNsdXN0ZXJfaWQ9IjE3NzkxNDY5ODUxMjcyMDEyNTk4IiwKICAgIHNjaG9sYXI9Imh0dHA6Ly9zY2hvbGFyLmdvb2dsZS5jb20vc2Nob2xhcj9jaXRlcz0xNzc5MTQ2OTg1MTI3MjAxMjU5OCZhc19zZHQ9MjAwNSZzY2lvZHQ9MCw1JmhsPWVuIiwKKSkKCkRCKENpdGF0aW9uKAogICAgemltbWVybWFubjIwMDlhLCBtZW5kZXMyMDA0YSwgcmVmPSIiLAogICAgY29udGV4dHM9WwoKICAgIF0sCikpCgonJycsIGNpdGF0aW9ucz0nbWVuZGVzMjAwNGEnKTs=\"));\n",
       "    "
      ],
      "text/plain": [
       "<IPython.core.display.Javascript object>"
      ]
     },
     "metadata": {},
     "output_type": "display_data"
    },
    {
     "data": {
      "application/javascript": [
       "$('span:contains(\"# Temp\")').closest('.cell').remove();"
      ],
      "text/plain": [
       "<IPython.core.display.Javascript object>"
      ]
     },
     "metadata": {},
     "output_type": "display_data"
    },
    {
     "data": {
      "application/javascript": [
       "\n",
       "        $('span:contains(\"# Temp\")').closest('.cell').remove();\n",
       "        var code = IPython.notebook.insert_cell_below('code');\n",
       "        code.set_text(atob(\"IyBUZW1wCmluc2VydCgnJycKemltbWVybWFubjIwMDlhID0gREIoV29ya1VucmVsYXRlZCgKICAgIDIwMDksICJDcm9zcy1wcm9qZWN0IGRlZmVjdCBwcmVkaWN0aW9uOiBhIGxhcmdlIHNjYWxlIGV4cGVyaW1lbnQgb24gZGF0YSB2cy4gZG9tYWluIHZzLiBwcm9jZXNzIiwKICAgIGRpc3BsYXk9InppbW1lcm1hbm4iLAogICAgYXV0aG9ycz0iWmltbWVybWFubiwgVGhvbWFzIGFuZCBOYWdhcHBhbiwgTmFjaGlhcHBhbiBhbmQgR2FsbCwgSGFyYWxkIGFuZCBHaWdlciwgRW1hbnVlbCBhbmQgTXVycGh5LCBCcmVuZGFuIiwKICAgIHBsYWNlPVNJR1NPRlQsCiAgICBwcD0iOTEtLTEwMCIsCiAgICBlbnRyeXR5cGU9ImlucHJvY2VlZGluZ3MiLAogICAgb3JnYW5pemF0aW9uPSJBQ00iLAogICAgSUQ9InppbW1lcm1hbm4yMDA5Y3Jvc3MiLAogICAgY2x1c3Rlcl9pZD0iMTc3OTE0Njk4NTEyNzIwMTI1OTgiLAogICAgc2Nob2xhcj0iaHR0cDovL3NjaG9sYXIuZ29vZ2xlLmNvbS9zY2hvbGFyP2NpdGVzPTE3NzkxNDY5ODUxMjcyMDEyNTk4JmFzX3NkdD0yMDA1JnNjaW9kdD0wLDUmaGw9ZW4iLAopKQoKREIoQ2l0YXRpb24oCiAgICB6aW1tZXJtYW5uMjAwOWEsIG1lbmRlczIwMDRhLCByZWY9IiIsCiAgICBjb250ZXh0cz1bCgogICAgXSwKKSkKCicnJywgY2l0YXRpb25zPSdtZW5kZXMyMDA0YScpOw==\"));\n",
       "    "
      ],
      "text/plain": [
       "<IPython.core.display.Javascript object>"
      ]
     },
     "metadata": {},
     "output_type": "display_data"
    },
    {
     "data": {
      "application/javascript": [
       "$('span:contains(\"# Temp\")').closest('.cell').remove();"
      ],
      "text/plain": [
       "<IPython.core.display.Javascript object>"
      ]
     },
     "metadata": {},
     "output_type": "display_data"
    },
    {
     "data": {
      "application/javascript": [
       "\n",
       "        $('span:contains(\"# Temp\")').closest('.cell').remove();\n",
       "        var code = IPython.notebook.insert_cell_below('code');\n",
       "        code.set_text(atob(\"IyBUZW1wCmluc2VydCgnJycKemltbWVybWFubjIwMDlhID0gREIoV29ya1VucmVsYXRlZCgKICAgIDIwMDksICJDcm9zcy1wcm9qZWN0IGRlZmVjdCBwcmVkaWN0aW9uOiBhIGxhcmdlIHNjYWxlIGV4cGVyaW1lbnQgb24gZGF0YSB2cy4gZG9tYWluIHZzLiBwcm9jZXNzIiwKICAgIGRpc3BsYXk9InppbW1lcm1hbm4iLAogICAgYXV0aG9ycz0iWmltbWVybWFubiwgVGhvbWFzIGFuZCBOYWdhcHBhbiwgTmFjaGlhcHBhbiBhbmQgR2FsbCwgSGFyYWxkIGFuZCBHaWdlciwgRW1hbnVlbCBhbmQgTXVycGh5LCBCcmVuZGFuIiwKICAgIHBwPSI5MS0tMTAwIiwKICAgIHBsYWNlMT0iUHJvY2VlZGluZ3Mgb2YgdGhlIHRoZSA3dGggam9pbnQgbWVldGluZyBvZiB0aGUgRXVyb3BlYW4gc29mdHdhcmUgZW5naW5lZXJpbmcgY29uZmVyZW5jZSBhbmQgdGhlIEFDTSBTSUdTT0ZUIHN5bXBvc2l1bSBvbiBUaGUgZm91bmRhdGlvbnMgb2Ygc29mdHdhcmUgZW5naW5lZXJpbmciLAogICAgZW50cnl0eXBlPSJpbnByb2NlZWRpbmdzIiwKICAgIG9yZ2FuaXphdGlvbj0iQUNNIiwKICAgIElEPSJ6aW1tZXJtYW5uMjAwOWNyb3NzIiwKICAgIGNsdXN0ZXJfaWQ9IjE3NzkxNDY5ODUxMjcyMDEyNTk4IiwKICAgIHNjaG9sYXI9Imh0dHA6Ly9zY2hvbGFyLmdvb2dsZS5jb20vc2Nob2xhcj9jaXRlcz0xNzc5MTQ2OTg1MTI3MjAxMjU5OCZhc19zZHQ9MjAwNSZzY2lvZHQ9MCw1JmhsPWVuIiwKKSkKCkRCKENpdGF0aW9uKAogICAgemltbWVybWFubjIwMDlhLCBtZW5kZXMyMDA0YSwgcmVmPSIiLAogICAgY29udGV4dHM9WwoKICAgIF0sCikpCgonJycsIGNpdGF0aW9ucz0nbWVuZGVzMjAwNGEnKTs=\"));\n",
       "    "
      ],
      "text/plain": [
       "<IPython.core.display.Javascript object>"
      ]
     },
     "metadata": {},
     "output_type": "display_data"
    },
    {
     "data": {
      "application/javascript": [
       "$('span:contains(\"# Temp\")').closest('.cell').remove();"
      ],
      "text/plain": [
       "<IPython.core.display.Javascript object>"
      ]
     },
     "metadata": {},
     "output_type": "display_data"
    },
    {
     "data": {
      "application/javascript": [
       "\n",
       "        $('span:contains(\"# Temp\")').closest('.cell').remove();\n",
       "        var code = IPython.notebook.insert_cell_below('code');\n",
       "        code.set_text(atob(\"IyBUZW1wCmluc2VydCgnJycKemltbWVybWFubjIwMDlhID0gREIoV29ya1VucmVsYXRlZCgKICAgIDIwMDksICJDcm9zcy1wcm9qZWN0IGRlZmVjdCBwcmVkaWN0aW9uOiBhIGxhcmdlIHNjYWxlIGV4cGVyaW1lbnQgb24gZGF0YSB2cy4gZG9tYWluIHZzLiBwcm9jZXNzIiwKICAgIGRpc3BsYXk9InppbW1lcm1hbm4iLAogICAgYXV0aG9ycz0iWmltbWVybWFubiwgVGhvbWFzIGFuZCBOYWdhcHBhbiwgTmFjaGlhcHBhbiBhbmQgR2FsbCwgSGFyYWxkIGFuZCBHaWdlciwgRW1hbnVlbCBhbmQgTXVycGh5LCBCcmVuZGFuIiwKICAgIHBsYWNlPVNJR1NPRlQsCiAgICBwcD0iOTEtLTEwMCIsCiAgICBlbnRyeXR5cGU9ImlucHJvY2VlZGluZ3MiLAogICAgb3JnYW5pemF0aW9uPSJBQ00iLAogICAgSUQ9InppbW1lcm1hbm4yMDA5Y3Jvc3MiLAogICAgY2x1c3Rlcl9pZD0iMTc3OTE0Njk4NTEyNzIwMTI1OTgiLAogICAgc2Nob2xhcj0iaHR0cDovL3NjaG9sYXIuZ29vZ2xlLmNvbS9zY2hvbGFyP2NpdGVzPTE3NzkxNDY5ODUxMjcyMDEyNTk4JmFzX3NkdD0yMDA1JnNjaW9kdD0wLDUmaGw9ZW4iLAopKQoKREIoQ2l0YXRpb24oCiAgICB6aW1tZXJtYW5uMjAwOWEsIG1lbmRlczIwMDRhLCByZWY9IiIsCiAgICBjb250ZXh0cz1bCgogICAgXSwKKSkKCicnJywgY2l0YXRpb25zPSdtZW5kZXMyMDA0YScpOw==\"));\n",
       "    "
      ],
      "text/plain": [
       "<IPython.core.display.Javascript object>"
      ]
     },
     "metadata": {},
     "output_type": "display_data"
    },
    {
     "data": {
      "application/javascript": [
       "$('span:contains(\"# Temp\")').closest('.cell').remove();"
      ],
      "text/plain": [
       "<IPython.core.display.Javascript object>"
      ]
     },
     "metadata": {},
     "output_type": "display_data"
    },
    {
     "data": {
      "application/javascript": [
       "\n",
       "        $('span:contains(\"# Temp\")').closest('.cell').remove();\n",
       "        var code = IPython.notebook.insert_cell_below('code');\n",
       "        code.set_text(atob(\"IyBUZW1wCmluc2VydCgnJycKREIoQ2l0YXRpb24oCiAgICBraXRjaGVuaGFtMjAwN2EsIG1lbmRlczIwMDRhLCByZWY9IiIsCiAgICBjb250ZXh0cz1bCgogICAgXSwKKSkKCicnJywgY2l0YXRpb25zPSdtZW5kZXMyMDA0YScpOwpzZXRfYXR0cmlidXRlKCdraXRjaGVuaGFtMjAwN2EnLCAnZXhjZXJwdCcsICdBYnN0cmFjdDogVGhlIG9iamVjdGl2ZSBvZiB0aGlzIHBhcGVyIGlzIHRvIGRldGVybWluZSB1bmRlciB3aGF0IGNpcmN1bXN0YW5jZXMgaW5kaXZpZHVhbCBvcmdhbml6YXRpb25zIHdvdWxkIGJlIGFibGUgdG8gcmVseSBvbiBjcm9zcy1jb21wYW55LWJhc2VkIGVzdGltYXRpb24gbW9kZWxzLiBXZSBwZXJmb3JtZWQgYSBzeXN0ZW1hdGljIHJldmlldyBvZiBzdHVkaWVzIHRoYXQgY29tcGFyZWQgcHJlZGljdGlvbnMgZnJvbSBjcm9zcy1jb21wYW55ICcpOw==\"));\n",
       "    "
      ],
      "text/plain": [
       "<IPython.core.display.Javascript object>"
      ]
     },
     "metadata": {},
     "output_type": "display_data"
    },
    {
     "data": {
      "application/javascript": [
       "$('span:contains(\"# Temp\")').closest('.cell').remove();"
      ],
      "text/plain": [
       "<IPython.core.display.Javascript object>"
      ]
     },
     "metadata": {},
     "output_type": "display_data"
    },
    {
     "data": {
      "application/javascript": [
       "\n",
       "        $('span:contains(\"# Temp\")').closest('.cell').remove();\n",
       "        var code = IPython.notebook.insert_cell_below('code');\n",
       "        code.set_text(atob(\"IyBUZW1wCmluc2VydCgnJycKREIoQ2l0YXRpb24oCiAgICBraXRjaGVuaGFtMjAwN2EsIG1lbmRlczIwMDRhLCByZWY9IiIsCiAgICBjb250ZXh0cz1bCgogICAgXSwKKSkKCicnJywgY2l0YXRpb25zPSdtZW5kZXMyMDA0YScpOwpzZXRfYXR0cmlidXRlKCdraXRjaGVuaGFtMjAwN2EnLCAnZXhjZXJwdCcsICdBYnN0cmFjdDogVGhlIG9iamVjdGl2ZSBvZiB0aGlzIHBhcGVyIGlzIHRvIGRldGVybWluZSB1bmRlciB3aGF0IGNpcmN1bXN0YW5jZXMgaW5kaXZpZHVhbCBvcmdhbml6YXRpb25zIHdvdWxkIGJlIGFibGUgdG8gcmVseSBvbiBjcm9zcy1jb21wYW55LWJhc2VkIGVzdGltYXRpb24gbW9kZWxzLiBXZSBwZXJmb3JtZWQgYSBzeXN0ZW1hdGljIHJldmlldyBvZiBzdHVkaWVzIHRoYXQgY29tcGFyZWQgcHJlZGljdGlvbnMgZnJvbSBjcm9zcy1jb21wYW55ICcpOw==\"));\n",
       "    "
      ],
      "text/plain": [
       "<IPython.core.display.Javascript object>"
      ]
     },
     "metadata": {},
     "output_type": "display_data"
    },
    {
     "data": {
      "application/javascript": [
       "$('span:contains(\"# Temp\")').closest('.cell').remove();"
      ],
      "text/plain": [
       "<IPython.core.display.Javascript object>"
      ]
     },
     "metadata": {},
     "output_type": "display_data"
    },
    {
     "data": {
      "application/javascript": [
       "\n",
       "        $('span:contains(\"# Temp\")').closest('.cell').remove();\n",
       "        var code = IPython.notebook.insert_cell_below('code');\n",
       "        code.set_text(atob(\"IyBUZW1wCmluc2VydCgnJycKREIoQ2l0YXRpb24oCiAgICBraXRjaGVuaGFtMjAwN2EsIG1lbmRlczIwMDRhLCByZWY9IiIsCiAgICBjb250ZXh0cz1bCgogICAgXSwKKSkKCicnJywgY2l0YXRpb25zPSdtZW5kZXMyMDA0YScpOwpzZXRfYXR0cmlidXRlKCdraXRjaGVuaGFtMjAwN2EnLCAnZXhjZXJwdCcsICdBYnN0cmFjdDogVGhlIG9iamVjdGl2ZSBvZiB0aGlzIHBhcGVyIGlzIHRvIGRldGVybWluZSB1bmRlciB3aGF0IGNpcmN1bXN0YW5jZXMgaW5kaXZpZHVhbCBvcmdhbml6YXRpb25zIHdvdWxkIGJlIGFibGUgdG8gcmVseSBvbiBjcm9zcy1jb21wYW55LWJhc2VkIGVzdGltYXRpb24gbW9kZWxzLiBXZSBwZXJmb3JtZWQgYSBzeXN0ZW1hdGljIHJldmlldyBvZiBzdHVkaWVzIHRoYXQgY29tcGFyZWQgcHJlZGljdGlvbnMgZnJvbSBjcm9zcy1jb21wYW55ICcpOw==\"));\n",
       "    "
      ],
      "text/plain": [
       "<IPython.core.display.Javascript object>"
      ]
     },
     "metadata": {},
     "output_type": "display_data"
    },
    {
     "data": {
      "application/javascript": [
       "$('span:contains(\"# Temp\")').closest('.cell').remove();"
      ],
      "text/plain": [
       "<IPython.core.display.Javascript object>"
      ]
     },
     "metadata": {},
     "output_type": "display_data"
    },
    {
     "data": {
      "application/javascript": [
       "\n",
       "        $('span:contains(\"# Temp\")').closest('.cell').remove();\n",
       "        var code = IPython.notebook.insert_cell_below('code');\n",
       "        code.set_text(atob(\"IyBUZW1wCmluc2VydCgnJycKd2VuMjAxMmEgPSBEQihXb3JrVW5yZWxhdGVkKAogICAgMjAxMiwgIlN5c3RlbWF0aWMgbGl0ZXJhdHVyZSByZXZpZXcgb2YgbWFjaGluZSBsZWFybmluZyBiYXNlZCBzb2Z0d2FyZSBkZXZlbG9wbWVudCBlZmZvcnQgZXN0aW1hdGlvbiBtb2RlbHMiLAogICAgZGlzcGxheT0id2VuIiwKICAgIGF1dGhvcnM9IldlbiwgSmlhbmZlbmcgYW5kIExpLCBTaGl4aWFuIGFuZCBMaW4sIFpoaXlvbmcgYW5kIEh1LCBZb25nIGFuZCBIdWFuZywgQ2hhbmdxaW4iLAogICAgcGxhY2U9SVNULAogICAgcHA9IjQxLS01OSIsCiAgICBlbnRyeXR5cGU9ImFydGljbGUiLAogICAgdm9sdW1lPSI1NCIsCiAgICBudW1iZXI9IjEiLAogICAgcHVibGlzaGVyPSJFbHNldmllciIsCiAgICBJRD0id2VuMjAxMnN5c3RlbWF0aWMiLAogICAgY2x1c3Rlcl9pZD0iMTMxOTQ4NDgyMDQ5MjU1MTQzNTYiLAogICAgc2Nob2xhcj0iaHR0cDovL3NjaG9sYXIuZ29vZ2xlLmNvbS9zY2hvbGFyP2NpdGVzPTEzMTk0ODQ4MjA0OTI1NTE0MzU2JmFzX3NkdD0yMDA1JnNjaW9kdD0wLDUmaGw9ZW4iLAopKQoKREIoQ2l0YXRpb24oCiAgICB3ZW4yMDEyYSwgbWVuZGVzMjAwNGEsIHJlZj0iIiwKICAgIGNvbnRleHRzPVsKCiAgICBdLAopKQoKJycnLCBjaXRhdGlvbnM9J21lbmRlczIwMDRhJyk7\"));\n",
       "    "
      ],
      "text/plain": [
       "<IPython.core.display.Javascript object>"
      ]
     },
     "metadata": {},
     "output_type": "display_data"
    },
    {
     "data": {
      "application/javascript": [
       "$('span:contains(\"# Temp\")').closest('.cell').remove();"
      ],
      "text/plain": [
       "<IPython.core.display.Javascript object>"
      ]
     },
     "metadata": {},
     "output_type": "display_data"
    },
    {
     "data": {
      "application/javascript": [
       "\n",
       "        $('span:contains(\"# Temp\")').closest('.cell').remove();\n",
       "        var code = IPython.notebook.insert_cell_below('code');\n",
       "        code.set_text(atob(\"IyBUZW1wCmluc2VydCgnJycKd2VuMjAxMmEgPSBEQihXb3JrKAogICAgMjAxMiwgIlN5c3RlbWF0aWMgbGl0ZXJhdHVyZSByZXZpZXcgb2YgbWFjaGluZSBsZWFybmluZyBiYXNlZCBzb2Z0d2FyZSBkZXZlbG9wbWVudCBlZmZvcnQgZXN0aW1hdGlvbiBtb2RlbHMiLAogICAgZGlzcGxheT0id2VuIiwKICAgIGF1dGhvcnM9IldlbiwgSmlhbmZlbmcgYW5kIExpLCBTaGl4aWFuIGFuZCBMaW4sIFpoaXlvbmcgYW5kIEh1LCBZb25nIGFuZCBIdWFuZywgQ2hhbmdxaW4iLAogICAgcGxhY2U9SVNULAogICAgcHA9IjQxLS01OSIsCiAgICBlbnRyeXR5cGU9ImFydGljbGUiLAogICAgdm9sdW1lPSI1NCIsCiAgICBudW1iZXI9IjEiLAogICAgcHVibGlzaGVyPSJFbHNldmllciIsCiAgICBJRD0id2VuMjAxMnN5c3RlbWF0aWMiLAogICAgY2x1c3Rlcl9pZD0iMTMxOTQ4NDgyMDQ5MjU1MTQzNTYiLAogICAgc2Nob2xhcj0iaHR0cDovL3NjaG9sYXIuZ29vZ2xlLmNvbS9zY2hvbGFyP2NpdGVzPTEzMTk0ODQ4MjA0OTI1NTE0MzU2JmFzX3NkdD0yMDA1JnNjaW9kdD0wLDUmaGw9ZW4iLAopKQoKREIoQ2l0YXRpb24oCiAgICB3ZW4yMDEyYSwgbWVuZGVzMjAwNGEsIHJlZj0iIiwKICAgIGNvbnRleHRzPVsKCiAgICBdLAopKQoKJycnLCBjaXRhdGlvbnM9J21lbmRlczIwMDRhJyk7\"));\n",
       "    "
      ],
      "text/plain": [
       "<IPython.core.display.Javascript object>"
      ]
     },
     "metadata": {},
     "output_type": "display_data"
    },
    {
     "data": {
      "application/javascript": [
       "$('span:contains(\"# Temp\")').closest('.cell').remove();"
      ],
      "text/plain": [
       "<IPython.core.display.Javascript object>"
      ]
     },
     "metadata": {},
     "output_type": "display_data"
    },
    {
     "data": {
      "application/javascript": [
       "\n",
       "        $('span:contains(\"# Temp\")').closest('.cell').remove();\n",
       "        var code = IPython.notebook.insert_cell_below('code');\n",
       "        code.set_text(atob(\"IyBUZW1wCmluc2VydCgnJycKd2VuMjAxMmEgPSBEQihXb3JrVW5yZWxhdGVkKAogICAgMjAxMiwgIlN5c3RlbWF0aWMgbGl0ZXJhdHVyZSByZXZpZXcgb2YgbWFjaGluZSBsZWFybmluZyBiYXNlZCBzb2Z0d2FyZSBkZXZlbG9wbWVudCBlZmZvcnQgZXN0aW1hdGlvbiBtb2RlbHMiLAogICAgZGlzcGxheT0id2VuIiwKICAgIGF1dGhvcnM9IldlbiwgSmlhbmZlbmcgYW5kIExpLCBTaGl4aWFuIGFuZCBMaW4sIFpoaXlvbmcgYW5kIEh1LCBZb25nIGFuZCBIdWFuZywgQ2hhbmdxaW4iLAogICAgcGxhY2U9SVNULAogICAgcHA9IjQxLS01OSIsCiAgICBlbnRyeXR5cGU9ImFydGljbGUiLAogICAgdm9sdW1lPSI1NCIsCiAgICBudW1iZXI9IjEiLAogICAgcHVibGlzaGVyPSJFbHNldmllciIsCiAgICBJRD0id2VuMjAxMnN5c3RlbWF0aWMiLAogICAgY2x1c3Rlcl9pZD0iMTMxOTQ4NDgyMDQ5MjU1MTQzNTYiLAogICAgc2Nob2xhcj0iaHR0cDovL3NjaG9sYXIuZ29vZ2xlLmNvbS9zY2hvbGFyP2NpdGVzPTEzMTk0ODQ4MjA0OTI1NTE0MzU2JmFzX3NkdD0yMDA1JnNjaW9kdD0wLDUmaGw9ZW4iLAopKQoKREIoQ2l0YXRpb24oCiAgICB3ZW4yMDEyYSwgbWVuZGVzMjAwNGEsIHJlZj0iIiwKICAgIGNvbnRleHRzPVsKCiAgICBdLAopKQoKJycnLCBjaXRhdGlvbnM9J21lbmRlczIwMDRhJyk7\"));\n",
       "    "
      ],
      "text/plain": [
       "<IPython.core.display.Javascript object>"
      ]
     },
     "metadata": {},
     "output_type": "display_data"
    },
    {
     "data": {
      "application/javascript": [
       "$('span:contains(\"# Temp\")').closest('.cell').remove();"
      ],
      "text/plain": [
       "<IPython.core.display.Javascript object>"
      ]
     },
     "metadata": {},
     "output_type": "display_data"
    },
    {
     "data": {
      "application/javascript": [
       "\n",
       "        $('span:contains(\"# Temp\")').closest('.cell').remove();\n",
       "        var code = IPython.notebook.insert_cell_below('code');\n",
       "        code.set_text(atob(\"IyBUZW1wCmluc2VydCgnJycKc2hlcHBlcmQyMDEyYSA9IERCKFdvcmtVbnJlbGF0ZWQoCiAgICAyMDEyLCAiRXZhbHVhdGluZyBwcmVkaWN0aW9uIHN5c3RlbXMgaW4gc29mdHdhcmUgcHJvamVjdCBlc3RpbWF0aW9uIiwKICAgIGRpc3BsYXk9InNoZXBwZXJkIiwKICAgIGF1dGhvcnM9IlNoZXBwZXJkLCBNYXJ0aW4gYW5kIE1hY0RvbmVsbCwgU3RldmUiLAogICAgcGxhY2U9SVNULAogICAgcHA9IjgyMC0tODI3IiwKICAgIGVudHJ5dHlwZT0iYXJ0aWNsZSIsCiAgICB2b2x1bWU9IjU0IiwKICAgIG51bWJlcj0iOCIsCiAgICBwdWJsaXNoZXI9IkVsc2V2aWVyIiwKICAgIElEPSJzaGVwcGVyZDIwMTJldmFsdWF0aW5nIiwKICAgIGNsdXN0ZXJfaWQ9IjE3MzA5NzkyMDUwNDQwNzQzMzUiLAogICAgc2Nob2xhcj0iaHR0cDovL3NjaG9sYXIuZ29vZ2xlLmNvbS9zY2hvbGFyP2NpdGVzPTE3MzA5NzkyMDUwNDQwNzQzMzUmYXNfc2R0PTIwMDUmc2Npb2R0PTAsNSZobD1lbiIsCikpCgpEQihDaXRhdGlvbigKICAgIHNoZXBwZXJkMjAxMmEsIG1lbmRlczIwMDRhLCByZWY9IiIsCiAgICBjb250ZXh0cz1bCgogICAgXSwKKSkKCicnJywgY2l0YXRpb25zPSdtZW5kZXMyMDA0YScpOw==\"));\n",
       "    "
      ],
      "text/plain": [
       "<IPython.core.display.Javascript object>"
      ]
     },
     "metadata": {},
     "output_type": "display_data"
    },
    {
     "data": {
      "application/javascript": [
       "$('span:contains(\"# Temp\")').closest('.cell').remove();"
      ],
      "text/plain": [
       "<IPython.core.display.Javascript object>"
      ]
     },
     "metadata": {},
     "output_type": "display_data"
    },
    {
     "data": {
      "application/javascript": [
       "\n",
       "        $('span:contains(\"# Temp\")').closest('.cell').remove();\n",
       "        var code = IPython.notebook.insert_cell_below('code');\n",
       "        code.set_text(atob(\"IyBUZW1wCmluc2VydCgnJycKc2hlcHBlcmQyMDEyYSA9IERCKFdvcmsoCiAgICAyMDEyLCAiRXZhbHVhdGluZyBwcmVkaWN0aW9uIHN5c3RlbXMgaW4gc29mdHdhcmUgcHJvamVjdCBlc3RpbWF0aW9uIiwKICAgIGRpc3BsYXk9InNoZXBwZXJkIiwKICAgIGF1dGhvcnM9IlNoZXBwZXJkLCBNYXJ0aW4gYW5kIE1hY0RvbmVsbCwgU3RldmUiLAogICAgcGxhY2U9SVNULAogICAgcHA9IjgyMC0tODI3IiwKICAgIGVudHJ5dHlwZT0iYXJ0aWNsZSIsCiAgICB2b2x1bWU9IjU0IiwKICAgIG51bWJlcj0iOCIsCiAgICBwdWJsaXNoZXI9IkVsc2V2aWVyIiwKICAgIElEPSJzaGVwcGVyZDIwMTJldmFsdWF0aW5nIiwKICAgIGNsdXN0ZXJfaWQ9IjE3MzA5NzkyMDUwNDQwNzQzMzUiLAogICAgc2Nob2xhcj0iaHR0cDovL3NjaG9sYXIuZ29vZ2xlLmNvbS9zY2hvbGFyP2NpdGVzPTE3MzA5NzkyMDUwNDQwNzQzMzUmYXNfc2R0PTIwMDUmc2Npb2R0PTAsNSZobD1lbiIsCikpCgpEQihDaXRhdGlvbigKICAgIHNoZXBwZXJkMjAxMmEsIG1lbmRlczIwMDRhLCByZWY9IiIsCiAgICBjb250ZXh0cz1bCgogICAgXSwKKSkKCicnJywgY2l0YXRpb25zPSdtZW5kZXMyMDA0YScpOw==\"));\n",
       "    "
      ],
      "text/plain": [
       "<IPython.core.display.Javascript object>"
      ]
     },
     "metadata": {},
     "output_type": "display_data"
    },
    {
     "data": {
      "application/javascript": [
       "$('span:contains(\"# Temp\")').closest('.cell').remove();"
      ],
      "text/plain": [
       "<IPython.core.display.Javascript object>"
      ]
     },
     "metadata": {},
     "output_type": "display_data"
    },
    {
     "data": {
      "application/javascript": [
       "\n",
       "        $('span:contains(\"# Temp\")').closest('.cell').remove();\n",
       "        var code = IPython.notebook.insert_cell_below('code');\n",
       "        code.set_text(atob(\"IyBUZW1wCmluc2VydCgnJycKc2hlcHBlcmQyMDEyYSA9IERCKFdvcmtVbnJlbGF0ZWQoCiAgICAyMDEyLCAiRXZhbHVhdGluZyBwcmVkaWN0aW9uIHN5c3RlbXMgaW4gc29mdHdhcmUgcHJvamVjdCBlc3RpbWF0aW9uIiwKICAgIGRpc3BsYXk9InNoZXBwZXJkIiwKICAgIGF1dGhvcnM9IlNoZXBwZXJkLCBNYXJ0aW4gYW5kIE1hY0RvbmVsbCwgU3RldmUiLAogICAgcGxhY2U9SVNULAogICAgcHA9IjgyMC0tODI3IiwKICAgIGVudHJ5dHlwZT0iYXJ0aWNsZSIsCiAgICB2b2x1bWU9IjU0IiwKICAgIG51bWJlcj0iOCIsCiAgICBwdWJsaXNoZXI9IkVsc2V2aWVyIiwKICAgIElEPSJzaGVwcGVyZDIwMTJldmFsdWF0aW5nIiwKICAgIGNsdXN0ZXJfaWQ9IjE3MzA5NzkyMDUwNDQwNzQzMzUiLAogICAgc2Nob2xhcj0iaHR0cDovL3NjaG9sYXIuZ29vZ2xlLmNvbS9zY2hvbGFyP2NpdGVzPTE3MzA5NzkyMDUwNDQwNzQzMzUmYXNfc2R0PTIwMDUmc2Npb2R0PTAsNSZobD1lbiIsCikpCgpEQihDaXRhdGlvbigKICAgIHNoZXBwZXJkMjAxMmEsIG1lbmRlczIwMDRhLCByZWY9IiIsCiAgICBjb250ZXh0cz1bCgogICAgXSwKKSkKCicnJywgY2l0YXRpb25zPSdtZW5kZXMyMDA0YScpOw==\"));\n",
       "    "
      ],
      "text/plain": [
       "<IPython.core.display.Javascript object>"
      ]
     },
     "metadata": {},
     "output_type": "display_data"
    },
    {
     "data": {
      "application/javascript": [
       "$('span:contains(\"# Temp\")').closest('.cell').remove();"
      ],
      "text/plain": [
       "<IPython.core.display.Javascript object>"
      ]
     },
     "metadata": {},
     "output_type": "display_data"
    },
    {
     "data": {
      "application/javascript": [
       "\n",
       "        $('span:contains(\"# Temp\")').closest('.cell').remove();\n",
       "        var code = IPython.notebook.insert_cell_below('code');\n",
       "        code.set_text(atob(\"IyBUZW1wCmluc2VydCgnJycKa2V1bmcyMDA4YSA9IERCKFdvcmtVbnJlbGF0ZWQoCiAgICAyMDA4LCAiQW5hbG9neS1YOiBQcm92aWRpbmcgc3RhdGlzdGljYWwgaW5mZXJlbmNlIHRvIGFuYWxvZ3ktYmFzZWQgc29mdHdhcmUgY29zdCBlc3RpbWF0aW9uIiwKICAgIGRpc3BsYXk9ImtldW5nIiwKICAgIGF1dGhvcnM9IktldW5nLCBKYWNreSBXYWkgYW5kIEtpdGNoZW5oYW0sIEJhcmJhcmEgQSBhbmQgSmVmZmVyeSwgRGF2aWQgUm9zcyIsCiAgICBwbGFjZT1Ub1NFLAogICAgcHA9IjQ3MS0tNDg0IiwKICAgIGVudHJ5dHlwZT0iYXJ0aWNsZSIsCiAgICB2b2x1bWU9IjM0IiwKICAgIG51bWJlcj0iNCIsCiAgICBwdWJsaXNoZXI9IklFRUUiLAogICAgSUQ9ImtldW5nMjAwOGFuYWxvZ3kiLAogICAgY2x1c3Rlcl9pZD0iMTIwMDkxODk0NDExMTY4NDU0MjQiLAogICAgc2Nob2xhcj0iaHR0cDovL3NjaG9sYXIuZ29vZ2xlLmNvbS9zY2hvbGFyP2NpdGVzPTEyMDA5MTg5NDQxMTE2ODQ1NDI0JmFzX3NkdD0yMDA1JnNjaW9kdD0wLDUmaGw9ZW4iLAopKQoKREIoQ2l0YXRpb24oCiAgICBrZXVuZzIwMDhhLCBtZW5kZXMyMDA0YSwgcmVmPSIiLAogICAgY29udGV4dHM9WwoKICAgIF0sCikpCgonJycsIGNpdGF0aW9ucz0nbWVuZGVzMjAwNGEnKTs=\"));\n",
       "    "
      ],
      "text/plain": [
       "<IPython.core.display.Javascript object>"
      ]
     },
     "metadata": {},
     "output_type": "display_data"
    },
    {
     "data": {
      "application/javascript": [
       "$('span:contains(\"# Temp\")').closest('.cell').remove();"
      ],
      "text/plain": [
       "<IPython.core.display.Javascript object>"
      ]
     },
     "metadata": {},
     "output_type": "display_data"
    },
    {
     "data": {
      "application/javascript": [
       "\n",
       "        $('span:contains(\"# Temp\")').closest('.cell').remove();\n",
       "        var code = IPython.notebook.insert_cell_below('code');\n",
       "        code.set_text(atob(\"IyBUZW1wCmluc2VydCgnJycKa2V1bmcyMDA4YSA9IERCKFdvcmsoCiAgICAyMDA4LCAiQW5hbG9neS1YOiBQcm92aWRpbmcgc3RhdGlzdGljYWwgaW5mZXJlbmNlIHRvIGFuYWxvZ3ktYmFzZWQgc29mdHdhcmUgY29zdCBlc3RpbWF0aW9uIiwKICAgIGRpc3BsYXk9ImtldW5nIiwKICAgIGF1dGhvcnM9IktldW5nLCBKYWNreSBXYWkgYW5kIEtpdGNoZW5oYW0sIEJhcmJhcmEgQSBhbmQgSmVmZmVyeSwgRGF2aWQgUm9zcyIsCiAgICBwbGFjZT1Ub1NFLAogICAgcHA9IjQ3MS0tNDg0IiwKICAgIGVudHJ5dHlwZT0iYXJ0aWNsZSIsCiAgICB2b2x1bWU9IjM0IiwKICAgIG51bWJlcj0iNCIsCiAgICBwdWJsaXNoZXI9IklFRUUiLAogICAgSUQ9ImtldW5nMjAwOGFuYWxvZ3kiLAogICAgY2x1c3Rlcl9pZD0iMTIwMDkxODk0NDExMTY4NDU0MjQiLAogICAgc2Nob2xhcj0iaHR0cDovL3NjaG9sYXIuZ29vZ2xlLmNvbS9zY2hvbGFyP2NpdGVzPTEyMDA5MTg5NDQxMTE2ODQ1NDI0JmFzX3NkdD0yMDA1JnNjaW9kdD0wLDUmaGw9ZW4iLAopKQoKREIoQ2l0YXRpb24oCiAgICBrZXVuZzIwMDhhLCBtZW5kZXMyMDA0YSwgcmVmPSIiLAogICAgY29udGV4dHM9WwoKICAgIF0sCikpCgonJycsIGNpdGF0aW9ucz0nbWVuZGVzMjAwNGEnKTs=\"));\n",
       "    "
      ],
      "text/plain": [
       "<IPython.core.display.Javascript object>"
      ]
     },
     "metadata": {},
     "output_type": "display_data"
    },
    {
     "data": {
      "application/javascript": [
       "$('span:contains(\"# Temp\")').closest('.cell').remove();"
      ],
      "text/plain": [
       "<IPython.core.display.Javascript object>"
      ]
     },
     "metadata": {},
     "output_type": "display_data"
    },
    {
     "data": {
      "application/javascript": [
       "\n",
       "        $('span:contains(\"# Temp\")').closest('.cell').remove();\n",
       "        var code = IPython.notebook.insert_cell_below('code');\n",
       "        code.set_text(atob(\"IyBUZW1wCmluc2VydCgnJycKa2V1bmcyMDA4YSA9IERCKFdvcmtVbnJlbGF0ZWQoCiAgICAyMDA4LCAiQW5hbG9neS1YOiBQcm92aWRpbmcgc3RhdGlzdGljYWwgaW5mZXJlbmNlIHRvIGFuYWxvZ3ktYmFzZWQgc29mdHdhcmUgY29zdCBlc3RpbWF0aW9uIiwKICAgIGRpc3BsYXk9ImtldW5nIiwKICAgIGF1dGhvcnM9IktldW5nLCBKYWNreSBXYWkgYW5kIEtpdGNoZW5oYW0sIEJhcmJhcmEgQSBhbmQgSmVmZmVyeSwgRGF2aWQgUm9zcyIsCiAgICBwbGFjZT1Ub1NFLAogICAgcHA9IjQ3MS0tNDg0IiwKICAgIGVudHJ5dHlwZT0iYXJ0aWNsZSIsCiAgICB2b2x1bWU9IjM0IiwKICAgIG51bWJlcj0iNCIsCiAgICBwdWJsaXNoZXI9IklFRUUiLAogICAgSUQ9ImtldW5nMjAwOGFuYWxvZ3kiLAogICAgY2x1c3Rlcl9pZD0iMTIwMDkxODk0NDExMTY4NDU0MjQiLAogICAgc2Nob2xhcj0iaHR0cDovL3NjaG9sYXIuZ29vZ2xlLmNvbS9zY2hvbGFyP2NpdGVzPTEyMDA5MTg5NDQxMTE2ODQ1NDI0JmFzX3NkdD0yMDA1JnNjaW9kdD0wLDUmaGw9ZW4iLAopKQoKREIoQ2l0YXRpb24oCiAgICBrZXVuZzIwMDhhLCBtZW5kZXMyMDA0YSwgcmVmPSIiLAogICAgY29udGV4dHM9WwoKICAgIF0sCikpCgonJycsIGNpdGF0aW9ucz0nbWVuZGVzMjAwNGEnKTs=\"));\n",
       "    "
      ],
      "text/plain": [
       "<IPython.core.display.Javascript object>"
      ]
     },
     "metadata": {},
     "output_type": "display_data"
    },
    {
     "data": {
      "application/javascript": [
       "$('span:contains(\"# Temp\")').closest('.cell').remove();"
      ],
      "text/plain": [
       "<IPython.core.display.Javascript object>"
      ]
     },
     "metadata": {},
     "output_type": "display_data"
    },
    {
     "data": {
      "application/javascript": [
       "\n",
       "        $('span:contains(\"# Temp\")').closest('.cell').remove();\n",
       "        var code = IPython.notebook.insert_cell_below('code');\n",
       "        code.set_text(atob(\"IyBUZW1wCmluc2VydCgnJycKa2l0Y2hlbmhhbTIwMDZhID0gREIoV29ya1VucmVsYXRlZCgKICAgIDIwMDYsICJBIHN5c3RlbWF0aWMgcmV2aWV3IG9mIGNyb3NzLXZzLiB3aXRoaW4tY29tcGFueSBjb3N0IGVzdGltYXRpb24gc3R1ZGllcyIsCiAgICBkaXNwbGF5PSJraXRjaGVuaGFtIiwKICAgIGF1dGhvcnM9IktpdGNoZW5oYW0sIEJhcmJhcmEgYW5kIE1lbmRlcywgRW1pbGlhIGFuZCBUcmF2YXNzb3MsIEd1aWxoZXJtZSBIIiwKICAgIHBsYWNlPUVBU0UsCiAgICBwcD0iODEtLTkwIiwKICAgIGVudHJ5dHlwZT0iaW5wcm9jZWVkaW5ncyIsCiAgICBvcmdhbml6YXRpb249IkJyaXRpc2ggQ29tcHV0ZXIgU29jaWV0eSIsCiAgICBJRD0ia2l0Y2hlbmhhbTIwMDZzeXN0ZW1hdGljIiwKICAgIGNsdXN0ZXJfaWQ9IjYwNjE5MDIxOTY2ODU3NjA3OTMiLAogICAgc2Nob2xhcj0iaHR0cDovL3NjaG9sYXIuZ29vZ2xlLmNvbS9zY2hvbGFyP2NpdGVzPTYwNjE5MDIxOTY2ODU3NjA3OTMmYXNfc2R0PTIwMDUmc2Npb2R0PTAsNSZobD1lbiIsCikpCgpEQihDaXRhdGlvbigKICAgIGtpdGNoZW5oYW0yMDA2YSwgbWVuZGVzMjAwNGEsIHJlZj0iIiwKICAgIGNvbnRleHRzPVsKCiAgICBdLAopKQoKJycnLCBjaXRhdGlvbnM9J21lbmRlczIwMDRhJyk7\"));\n",
       "    "
      ],
      "text/plain": [
       "<IPython.core.display.Javascript object>"
      ]
     },
     "metadata": {},
     "output_type": "display_data"
    },
    {
     "data": {
      "application/javascript": [
       "$('span:contains(\"# Temp\")').closest('.cell').remove();"
      ],
      "text/plain": [
       "<IPython.core.display.Javascript object>"
      ]
     },
     "metadata": {},
     "output_type": "display_data"
    },
    {
     "data": {
      "application/javascript": [
       "\n",
       "        $('span:contains(\"# Temp\")').closest('.cell').remove();\n",
       "        var code = IPython.notebook.insert_cell_below('code');\n",
       "        code.set_text(atob(\"IyBUZW1wCmluc2VydCgnJycKa2l0Y2hlbmhhbTIwMDZhID0gREIoV29yaygKICAgIDIwMDYsICJBIHN5c3RlbWF0aWMgcmV2aWV3IG9mIGNyb3NzLXZzLiB3aXRoaW4tY29tcGFueSBjb3N0IGVzdGltYXRpb24gc3R1ZGllcyIsCiAgICBkaXNwbGF5PSJraXRjaGVuaGFtIiwKICAgIGF1dGhvcnM9IktpdGNoZW5oYW0sIEJhcmJhcmEgYW5kIE1lbmRlcywgRW1pbGlhIGFuZCBUcmF2YXNzb3MsIEd1aWxoZXJtZSBIIiwKICAgIHBsYWNlPUVBU0UsCiAgICBwcD0iODEtLTkwIiwKICAgIGVudHJ5dHlwZT0iaW5wcm9jZWVkaW5ncyIsCiAgICBvcmdhbml6YXRpb249IkJyaXRpc2ggQ29tcHV0ZXIgU29jaWV0eSIsCiAgICBJRD0ia2l0Y2hlbmhhbTIwMDZzeXN0ZW1hdGljIiwKICAgIGNsdXN0ZXJfaWQ9IjYwNjE5MDIxOTY2ODU3NjA3OTMiLAogICAgc2Nob2xhcj0iaHR0cDovL3NjaG9sYXIuZ29vZ2xlLmNvbS9zY2hvbGFyP2NpdGVzPTYwNjE5MDIxOTY2ODU3NjA3OTMmYXNfc2R0PTIwMDUmc2Npb2R0PTAsNSZobD1lbiIsCikpCgpEQihDaXRhdGlvbigKICAgIGtpdGNoZW5oYW0yMDA2YSwgbWVuZGVzMjAwNGEsIHJlZj0iIiwKICAgIGNvbnRleHRzPVsKCiAgICBdLAopKQoKJycnLCBjaXRhdGlvbnM9J21lbmRlczIwMDRhJyk7\"));\n",
       "    "
      ],
      "text/plain": [
       "<IPython.core.display.Javascript object>"
      ]
     },
     "metadata": {},
     "output_type": "display_data"
    },
    {
     "data": {
      "application/javascript": [
       "$('span:contains(\"# Temp\")').closest('.cell').remove();"
      ],
      "text/plain": [
       "<IPython.core.display.Javascript object>"
      ]
     },
     "metadata": {},
     "output_type": "display_data"
    },
    {
     "data": {
      "application/javascript": [
       "\n",
       "        $('span:contains(\"# Temp\")').closest('.cell').remove();\n",
       "        var code = IPython.notebook.insert_cell_below('code');\n",
       "        code.set_text(atob(\"IyBUZW1wCmluc2VydCgnJycKa2l0Y2hlbmhhbTIwMDZhID0gREIoV29ya1VucmVsYXRlZCgKICAgIDIwMDYsICJBIHN5c3RlbWF0aWMgcmV2aWV3IG9mIGNyb3NzLXZzLiB3aXRoaW4tY29tcGFueSBjb3N0IGVzdGltYXRpb24gc3R1ZGllcyIsCiAgICBkaXNwbGF5PSJraXRjaGVuaGFtIiwKICAgIGF1dGhvcnM9IktpdGNoZW5oYW0sIEJhcmJhcmEgYW5kIE1lbmRlcywgRW1pbGlhIGFuZCBUcmF2YXNzb3MsIEd1aWxoZXJtZSBIIiwKICAgIHBsYWNlPUVBU0UsCiAgICBwcD0iODEtLTkwIiwKICAgIGVudHJ5dHlwZT0iaW5wcm9jZWVkaW5ncyIsCiAgICBvcmdhbml6YXRpb249IkJyaXRpc2ggQ29tcHV0ZXIgU29jaWV0eSIsCiAgICBJRD0ia2l0Y2hlbmhhbTIwMDZzeXN0ZW1hdGljIiwKICAgIGNsdXN0ZXJfaWQ9IjYwNjE5MDIxOTY2ODU3NjA3OTMiLAogICAgc2Nob2xhcj0iaHR0cDovL3NjaG9sYXIuZ29vZ2xlLmNvbS9zY2hvbGFyP2NpdGVzPTYwNjE5MDIxOTY2ODU3NjA3OTMmYXNfc2R0PTIwMDUmc2Npb2R0PTAsNSZobD1lbiIsCikpCgpEQihDaXRhdGlvbigKICAgIGtpdGNoZW5oYW0yMDA2YSwgbWVuZGVzMjAwNGEsIHJlZj0iIiwKICAgIGNvbnRleHRzPVsKCiAgICBdLAopKQoKJycnLCBjaXRhdGlvbnM9J21lbmRlczIwMDRhJyk7\"));\n",
       "    "
      ],
      "text/plain": [
       "<IPython.core.display.Javascript object>"
      ]
     },
     "metadata": {},
     "output_type": "display_data"
    },
    {
     "data": {
      "application/javascript": [
       "$('span:contains(\"# Temp\")').closest('.cell').remove();"
      ],
      "text/plain": [
       "<IPython.core.display.Javascript object>"
      ]
     },
     "metadata": {},
     "output_type": "display_data"
    },
    {
     "data": {
      "application/javascript": [
       "\n",
       "        $('span:contains(\"# Temp\")').closest('.cell').remove();\n",
       "        var code = IPython.notebook.insert_cell_below('code');\n",
       "        code.set_text(atob(\"IyBUZW1wCmluc2VydCgnJycKbWFpcjIwMDVhID0gREIoV29ya1VucmVsYXRlZCgKICAgIDIwMDUsICJUaGUgY29uc2lzdGVuY3kgb2YgZW1waXJpY2FsIGNvbXBhcmlzb25zIG9mIHJlZ3Jlc3Npb24gYW5kIGFuYWxvZ3ktYmFzZWQgc29mdHdhcmUgcHJvamVjdCBjb3N0IHByZWRpY3Rpb24iLAogICAgZGlzcGxheT0ibWFpciIsCiAgICBhdXRob3JzPSJNYWlyLCBDYXJvbHluIGFuZCBTaGVwcGVyZCwgTWFydGluIiwKICAgIHBsYWNlPUVTRU0sCiAgICBwcD0iMTAtLXBwIiwKICAgIGVudHJ5dHlwZT0iaW5wcm9jZWVkaW5ncyIsCiAgICBvcmdhbml6YXRpb249IklFRUUiLAogICAgSUQ9Im1haXIyMDA1Y29uc2lzdGVuY3kiLAogICAgY2x1c3Rlcl9pZD0iMTQ5Mzk2NTQ3MTEyNTMwMzg1NzEiLAogICAgc2Nob2xhcj0iaHR0cDovL3NjaG9sYXIuZ29vZ2xlLmNvbS9zY2hvbGFyP2NpdGVzPTE0OTM5NjU0NzExMjUzMDM4NTcxJmFzX3NkdD0yMDA1JnNjaW9kdD0wLDUmaGw9ZW4iLAopKQoKREIoQ2l0YXRpb24oCiAgICBtYWlyMjAwNWEsIG1lbmRlczIwMDRhLCByZWY9IiIsCiAgICBjb250ZXh0cz1bCgogICAgXSwKKSkKCicnJywgY2l0YXRpb25zPSdtZW5kZXMyMDA0YScpOw==\"));\n",
       "    "
      ],
      "text/plain": [
       "<IPython.core.display.Javascript object>"
      ]
     },
     "metadata": {},
     "output_type": "display_data"
    },
    {
     "data": {
      "application/javascript": [
       "$('span:contains(\"# Temp\")').closest('.cell').remove();"
      ],
      "text/plain": [
       "<IPython.core.display.Javascript object>"
      ]
     },
     "metadata": {},
     "output_type": "display_data"
    },
    {
     "data": {
      "application/javascript": [
       "\n",
       "        $('span:contains(\"# Temp\")').closest('.cell').remove();\n",
       "        var code = IPython.notebook.insert_cell_below('code');\n",
       "        code.set_text(atob(\"IyBUZW1wCmluc2VydCgnJycKbWFpcjIwMDVhID0gREIoV29yaygKICAgIDIwMDUsICJUaGUgY29uc2lzdGVuY3kgb2YgZW1waXJpY2FsIGNvbXBhcmlzb25zIG9mIHJlZ3Jlc3Npb24gYW5kIGFuYWxvZ3ktYmFzZWQgc29mdHdhcmUgcHJvamVjdCBjb3N0IHByZWRpY3Rpb24iLAogICAgZGlzcGxheT0ibWFpciIsCiAgICBhdXRob3JzPSJNYWlyLCBDYXJvbHluIGFuZCBTaGVwcGVyZCwgTWFydGluIiwKICAgIHBsYWNlPUVTRU0sCiAgICBwcD0iMTAtLXBwIiwKICAgIGVudHJ5dHlwZT0iaW5wcm9jZWVkaW5ncyIsCiAgICBvcmdhbml6YXRpb249IklFRUUiLAogICAgSUQ9Im1haXIyMDA1Y29uc2lzdGVuY3kiLAogICAgY2x1c3Rlcl9pZD0iMTQ5Mzk2NTQ3MTEyNTMwMzg1NzEiLAogICAgc2Nob2xhcj0iaHR0cDovL3NjaG9sYXIuZ29vZ2xlLmNvbS9zY2hvbGFyP2NpdGVzPTE0OTM5NjU0NzExMjUzMDM4NTcxJmFzX3NkdD0yMDA1JnNjaW9kdD0wLDUmaGw9ZW4iLAopKQoKREIoQ2l0YXRpb24oCiAgICBtYWlyMjAwNWEsIG1lbmRlczIwMDRhLCByZWY9IiIsCiAgICBjb250ZXh0cz1bCgogICAgXSwKKSkKCicnJywgY2l0YXRpb25zPSdtZW5kZXMyMDA0YScpOw==\"));\n",
       "    "
      ],
      "text/plain": [
       "<IPython.core.display.Javascript object>"
      ]
     },
     "metadata": {},
     "output_type": "display_data"
    },
    {
     "data": {
      "application/javascript": [
       "$('span:contains(\"# Temp\")').closest('.cell').remove();"
      ],
      "text/plain": [
       "<IPython.core.display.Javascript object>"
      ]
     },
     "metadata": {},
     "output_type": "display_data"
    },
    {
     "data": {
      "application/javascript": [
       "\n",
       "        $('span:contains(\"# Temp\")').closest('.cell').remove();\n",
       "        var code = IPython.notebook.insert_cell_below('code');\n",
       "        code.set_text(atob(\"IyBUZW1wCmluc2VydCgnJycKbWFpcjIwMDVhID0gREIoV29ya1VucmVsYXRlZCgKICAgIDIwMDUsICJUaGUgY29uc2lzdGVuY3kgb2YgZW1waXJpY2FsIGNvbXBhcmlzb25zIG9mIHJlZ3Jlc3Npb24gYW5kIGFuYWxvZ3ktYmFzZWQgc29mdHdhcmUgcHJvamVjdCBjb3N0IHByZWRpY3Rpb24iLAogICAgZGlzcGxheT0ibWFpciIsCiAgICBhdXRob3JzPSJNYWlyLCBDYXJvbHluIGFuZCBTaGVwcGVyZCwgTWFydGluIiwKICAgIHBsYWNlPUVTRU0sCiAgICBwcD0iMTAtLXBwIiwKICAgIGVudHJ5dHlwZT0iaW5wcm9jZWVkaW5ncyIsCiAgICBvcmdhbml6YXRpb249IklFRUUiLAogICAgSUQ9Im1haXIyMDA1Y29uc2lzdGVuY3kiLAogICAgY2x1c3Rlcl9pZD0iMTQ5Mzk2NTQ3MTEyNTMwMzg1NzEiLAogICAgc2Nob2xhcj0iaHR0cDovL3NjaG9sYXIuZ29vZ2xlLmNvbS9zY2hvbGFyP2NpdGVzPTE0OTM5NjU0NzExMjUzMDM4NTcxJmFzX3NkdD0yMDA1JnNjaW9kdD0wLDUmaGw9ZW4iLAopKQoKREIoQ2l0YXRpb24oCiAgICBtYWlyMjAwNWEsIG1lbmRlczIwMDRhLCByZWY9IiIsCiAgICBjb250ZXh0cz1bCgogICAgXSwKKSkKCicnJywgY2l0YXRpb25zPSdtZW5kZXMyMDA0YScpOw==\"));\n",
       "    "
      ],
      "text/plain": [
       "<IPython.core.display.Javascript object>"
      ]
     },
     "metadata": {},
     "output_type": "display_data"
    },
    {
     "data": {
      "application/javascript": [
       "$('span:contains(\"# Temp\")').closest('.cell').remove();"
      ],
      "text/plain": [
       "<IPython.core.display.Javascript object>"
      ]
     },
     "metadata": {},
     "output_type": "display_data"
    },
    {
     "data": {
      "application/javascript": [
       "\n",
       "        $('span:contains(\"# Temp\")').closest('.cell').remove();\n",
       "        var code = IPython.notebook.insert_cell_below('code');\n",
       "        code.set_text(atob(\"IyBUZW1wCmluc2VydCgnJycKREIoQ2l0YXRpb24oCiAgICBtZW5kZXMyMDA1YiwgbWVuZGVzMjAwNGEsIHJlZj0iIiwKICAgIGNvbnRleHRzPVsKCiAgICBdLAopKQoKJycnLCBjaXRhdGlvbnM9J21lbmRlczIwMDRhJyk7CnNldF9hdHRyaWJ1dGUoJ21lbmRlczIwMDViJywgJ2V4Y2VycHQnLCAnVGhpcyBwYXBlcidzIGFpbSBpcyB0byBicmluZyBsaWdodCB0byB0aGlzIGlzc3VlIGJ5IGlkZW50aWZ5aW5nIHNpemUgbWV0cmljcyBhbmQgY29zdCBkcml2ZXJzIGZvciBlYXJseSBXZWIgY29zdCBlc3RpbWF0aW9uIGJhc2VkIG9uIGN1cnJlbnQgcHJhY3RpY2VzIG9mIHNldmVyYWwgV2ViIENvbXBhbmllcyB3b3JsZHdpZGUuIFRoaXMgaXMgYWNoaWV2ZWQgdXNpbmcgdHdvIHN1cnZleXMgYW5kIGEgY2FzZSBzdHVkeS4gVGhlIGZpcnN0IHN1cnZleSAoUzEpIHVzZWQgYSBzZWFyY2ggJyk7\"));\n",
       "    "
      ],
      "text/plain": [
       "<IPython.core.display.Javascript object>"
      ]
     },
     "metadata": {},
     "output_type": "display_data"
    },
    {
     "data": {
      "application/javascript": [
       "$('span:contains(\"# Temp\")').closest('.cell').remove();"
      ],
      "text/plain": [
       "<IPython.core.display.Javascript object>"
      ]
     },
     "metadata": {},
     "output_type": "display_data"
    },
    {
     "data": {
      "application/javascript": [
       "\n",
       "        $('span:contains(\"# Temp\")').closest('.cell').remove();\n",
       "        var code = IPython.notebook.insert_cell_below('code');\n",
       "        code.set_text(atob(\"IyBUZW1wCmluc2VydCgnJycKREIoQ2l0YXRpb24oCiAgICBtZW5kZXMyMDA1YiwgbWVuZGVzMjAwNGEsIHJlZj0iIiwKICAgIGNvbnRleHRzPVsKCiAgICBdLAopKQoKJycnLCBjaXRhdGlvbnM9J21lbmRlczIwMDRhJyk7CnNldF9hdHRyaWJ1dGUoJ21lbmRlczIwMDViJywgJ2V4Y2VycHQnLCAnVGhpcyBwYXBlcidzIGFpbSBpcyB0byBicmluZyBsaWdodCB0byB0aGlzIGlzc3VlIGJ5IGlkZW50aWZ5aW5nIHNpemUgbWV0cmljcyBhbmQgY29zdCBkcml2ZXJzIGZvciBlYXJseSBXZWIgY29zdCBlc3RpbWF0aW9uIGJhc2VkIG9uIGN1cnJlbnQgcHJhY3RpY2VzIG9mIHNldmVyYWwgV2ViIENvbXBhbmllcyB3b3JsZHdpZGUuIFRoaXMgaXMgYWNoaWV2ZWQgdXNpbmcgdHdvIHN1cnZleXMgYW5kIGEgY2FzZSBzdHVkeS4gVGhlIGZpcnN0IHN1cnZleSAoUzEpIHVzZWQgYSBzZWFyY2ggJyk7\"));\n",
       "    "
      ],
      "text/plain": [
       "<IPython.core.display.Javascript object>"
      ]
     },
     "metadata": {},
     "output_type": "display_data"
    },
    {
     "data": {
      "application/javascript": [
       "$('span:contains(\"# Temp\")').closest('.cell').remove();"
      ],
      "text/plain": [
       "<IPython.core.display.Javascript object>"
      ]
     },
     "metadata": {},
     "output_type": "display_data"
    },
    {
     "data": {
      "application/javascript": [
       "\n",
       "        $('span:contains(\"# Temp\")').closest('.cell').remove();\n",
       "        var code = IPython.notebook.insert_cell_below('code');\n",
       "        code.set_text(atob(\"IyBUZW1wCmluc2VydCgnJycKREIoQ2l0YXRpb24oCiAgICBtZW5kZXMyMDA1YiwgbWVuZGVzMjAwNGEsIHJlZj0iIiwKICAgIGNvbnRleHRzPVsKCiAgICBdLAopKQoKJycnLCBjaXRhdGlvbnM9J21lbmRlczIwMDRhJyk7CnNldF9hdHRyaWJ1dGUoJ21lbmRlczIwMDViJywgJ2V4Y2VycHQnLCAnVGhpcyBwYXBlcidzIGFpbSBpcyB0byBicmluZyBsaWdodCB0byB0aGlzIGlzc3VlIGJ5IGlkZW50aWZ5aW5nIHNpemUgbWV0cmljcyBhbmQgY29zdCBkcml2ZXJzIGZvciBlYXJseSBXZWIgY29zdCBlc3RpbWF0aW9uIGJhc2VkIG9uIGN1cnJlbnQgcHJhY3RpY2VzIG9mIHNldmVyYWwgV2ViIENvbXBhbmllcyB3b3JsZHdpZGUuIFRoaXMgaXMgYWNoaWV2ZWQgdXNpbmcgdHdvIHN1cnZleXMgYW5kIGEgY2FzZSBzdHVkeS4gVGhlIGZpcnN0IHN1cnZleSAoUzEpIHVzZWQgYSBzZWFyY2ggJyk7\"));\n",
       "    "
      ],
      "text/plain": [
       "<IPython.core.display.Javascript object>"
      ]
     },
     "metadata": {},
     "output_type": "display_data"
    },
    {
     "data": {
      "application/javascript": [
       "$('span:contains(\"# Temp\")').closest('.cell').remove();"
      ],
      "text/plain": [
       "<IPython.core.display.Javascript object>"
      ]
     },
     "metadata": {},
     "output_type": "display_data"
    },
    {
     "data": {
      "application/javascript": [
       "\n",
       "        $('span:contains(\"# Temp\")').closest('.cell').remove();\n",
       "        var code = IPython.notebook.insert_cell_below('code');\n",
       "        code.set_text(atob(\"IyBUZW1wCmluc2VydCgnJycKbWVuZGVzMjAwOGQgPSBEQihXb3JrVW5yZWxhdGVkKAogICAgMjAwOCwgIkJheWVzaWFuIG5ldHdvcmsgbW9kZWxzIGZvciB3ZWIgZWZmb3J0IHByZWRpY3Rpb246IGEgY29tcGFyYXRpdmUgc3R1ZHkiLAogICAgZGlzcGxheT0ibWVuZGVzIGQiLAogICAgYXV0aG9ycz0iTWVuZGVzLCBFbWlsaWEgYW5kIE1vc2xleSwgTmlsZSIsCiAgICBwbGFjZT1Ub1NFLAogICAgcHA9IjcyMy0tNzM3IiwKICAgIGVudHJ5dHlwZT0iYXJ0aWNsZSIsCiAgICB2b2x1bWU9IjM0IiwKICAgIG51bWJlcj0iNiIsCiAgICBwdWJsaXNoZXI9IklFRUUiLAogICAgSUQ9Im1lbmRlczIwMDhiYXllc2lhbiIsCiAgICBjbHVzdGVyX2lkPSIxNDU4NjgxOTgxNDc1Njg1MTAwOCIsCiAgICBzY2hvbGFyPSJodHRwOi8vc2Nob2xhci5nb29nbGUuY29tL3NjaG9sYXI/Y2l0ZXM9MTQ1ODY4MTk4MTQ3NTY4NTEwMDgmYXNfc2R0PTIwMDUmc2Npb2R0PTAsNSZobD1lbiIsCikpCgpEQihDaXRhdGlvbigKICAgIG1lbmRlczIwMDhkLCBtZW5kZXMyMDA0YSwgcmVmPSIiLAogICAgY29udGV4dHM9WwoKICAgIF0sCikpCgonJycsIGNpdGF0aW9ucz0nbWVuZGVzMjAwNGEnKTs=\"));\n",
       "    "
      ],
      "text/plain": [
       "<IPython.core.display.Javascript object>"
      ]
     },
     "metadata": {},
     "output_type": "display_data"
    },
    {
     "data": {
      "application/javascript": [
       "$('span:contains(\"# Temp\")').closest('.cell').remove();"
      ],
      "text/plain": [
       "<IPython.core.display.Javascript object>"
      ]
     },
     "metadata": {},
     "output_type": "display_data"
    },
    {
     "data": {
      "application/javascript": [
       "\n",
       "        $('span:contains(\"# Temp\")').closest('.cell').remove();\n",
       "        var code = IPython.notebook.insert_cell_below('code');\n",
       "        code.set_text(atob(\"IyBUZW1wCmluc2VydCgnJycKbWVuZGVzMjAwOGQgPSBEQihXb3JrKAogICAgMjAwOCwgIkJheWVzaWFuIG5ldHdvcmsgbW9kZWxzIGZvciB3ZWIgZWZmb3J0IHByZWRpY3Rpb246IGEgY29tcGFyYXRpdmUgc3R1ZHkiLAogICAgZGlzcGxheT0ibWVuZGVzIGQiLAogICAgYXV0aG9ycz0iTWVuZGVzLCBFbWlsaWEgYW5kIE1vc2xleSwgTmlsZSIsCiAgICBwbGFjZT1Ub1NFLAogICAgcHA9IjcyMy0tNzM3IiwKICAgIGVudHJ5dHlwZT0iYXJ0aWNsZSIsCiAgICB2b2x1bWU9IjM0IiwKICAgIG51bWJlcj0iNiIsCiAgICBwdWJsaXNoZXI9IklFRUUiLAogICAgSUQ9Im1lbmRlczIwMDhiYXllc2lhbiIsCiAgICBjbHVzdGVyX2lkPSIxNDU4NjgxOTgxNDc1Njg1MTAwOCIsCiAgICBzY2hvbGFyPSJodHRwOi8vc2Nob2xhci5nb29nbGUuY29tL3NjaG9sYXI/Y2l0ZXM9MTQ1ODY4MTk4MTQ3NTY4NTEwMDgmYXNfc2R0PTIwMDUmc2Npb2R0PTAsNSZobD1lbiIsCikpCgpEQihDaXRhdGlvbigKICAgIG1lbmRlczIwMDhkLCBtZW5kZXMyMDA0YSwgcmVmPSIiLAogICAgY29udGV4dHM9WwoKICAgIF0sCikpCgonJycsIGNpdGF0aW9ucz0nbWVuZGVzMjAwNGEnKTs=\"));\n",
       "    "
      ],
      "text/plain": [
       "<IPython.core.display.Javascript object>"
      ]
     },
     "metadata": {},
     "output_type": "display_data"
    },
    {
     "data": {
      "application/javascript": [
       "$('span:contains(\"# Temp\")').closest('.cell').remove();"
      ],
      "text/plain": [
       "<IPython.core.display.Javascript object>"
      ]
     },
     "metadata": {},
     "output_type": "display_data"
    },
    {
     "data": {
      "application/javascript": [
       "\n",
       "        $('span:contains(\"# Temp\")').closest('.cell').remove();\n",
       "        var code = IPython.notebook.insert_cell_below('code');\n",
       "        code.set_text(atob(\"IyBUZW1wCmluc2VydCgnJycKbWVuZGVzMjAwOGQgPSBEQihXb3JrVW5yZWxhdGVkKAogICAgMjAwOCwgIkJheWVzaWFuIG5ldHdvcmsgbW9kZWxzIGZvciB3ZWIgZWZmb3J0IHByZWRpY3Rpb246IGEgY29tcGFyYXRpdmUgc3R1ZHkiLAogICAgZGlzcGxheT0ibWVuZGVzIGQiLAogICAgYXV0aG9ycz0iTWVuZGVzLCBFbWlsaWEgYW5kIE1vc2xleSwgTmlsZSIsCiAgICBwbGFjZT1Ub1NFLAogICAgcHA9IjcyMy0tNzM3IiwKICAgIGVudHJ5dHlwZT0iYXJ0aWNsZSIsCiAgICB2b2x1bWU9IjM0IiwKICAgIG51bWJlcj0iNiIsCiAgICBwdWJsaXNoZXI9IklFRUUiLAogICAgSUQ9Im1lbmRlczIwMDhiYXllc2lhbiIsCiAgICBjbHVzdGVyX2lkPSIxNDU4NjgxOTgxNDc1Njg1MTAwOCIsCiAgICBzY2hvbGFyPSJodHRwOi8vc2Nob2xhci5nb29nbGUuY29tL3NjaG9sYXI/Y2l0ZXM9MTQ1ODY4MTk4MTQ3NTY4NTEwMDgmYXNfc2R0PTIwMDUmc2Npb2R0PTAsNSZobD1lbiIsCikpCgpEQihDaXRhdGlvbigKICAgIG1lbmRlczIwMDhkLCBtZW5kZXMyMDA0YSwgcmVmPSIiLAogICAgY29udGV4dHM9WwoKICAgIF0sCikpCgonJycsIGNpdGF0aW9ucz0nbWVuZGVzMjAwNGEnKTs=\"));\n",
       "    "
      ],
      "text/plain": [
       "<IPython.core.display.Javascript object>"
      ]
     },
     "metadata": {},
     "output_type": "display_data"
    },
    {
     "data": {
      "application/javascript": [
       "$('span:contains(\"# Temp\")').closest('.cell').remove();"
      ],
      "text/plain": [
       "<IPython.core.display.Javascript object>"
      ]
     },
     "metadata": {},
     "output_type": "display_data"
    },
    {
     "data": {
      "application/javascript": [
       "\n",
       "        $('span:contains(\"# Temp\")').closest('.cell').remove();\n",
       "        var code = IPython.notebook.insert_cell_below('code');\n",
       "        code.set_text(atob(\"IyBUZW1wCmluc2VydCgnJycKcHJlbXJhajIwMDVhID0gREIoV29ya1VucmVsYXRlZCgKICAgIDIwMDUsICJBbiBlbXBpcmljYWwgYW5hbHlzaXMgb2Ygc29mdHdhcmUgcHJvZHVjdGl2aXR5IG92ZXIgdGltZSIsCiAgICBkaXNwbGF5PSJwcmVtcmFqIiwKICAgIGF1dGhvcnM9IlByZW1yYWosIFJhaHVsIGFuZCBTaGVwcGVyZCwgTWFydGluIGFuZCBLaXRjaGVuaGFtLCBCYXJiYXJhIGFuZCBGb3JzZWxpdXMsIFBla2thIiwKICAgIHBwPSIxMC0tcHAiLAogICAgcGxhY2UxPSJTb2Z0d2FyZSBNZXRyaWNzLCAyMDA1LiAxMXRoIElFRUUgSW50ZXJuYXRpb25hbCBTeW1wb3NpdW0iLAogICAgZW50cnl0eXBlPSJpbnByb2NlZWRpbmdzIiwKICAgIG9yZ2FuaXphdGlvbj0iSUVFRSIsCiAgICBJRD0icHJlbXJhajIwMDVlbXBpcmljYWwiLAogICAgY2x1c3Rlcl9pZD0iOTQwMzM1MTAzNDUyNTA0MjAyNSIsCiAgICBzY2hvbGFyPSJodHRwOi8vc2Nob2xhci5nb29nbGUuY29tL3NjaG9sYXI/Y2l0ZXM9OTQwMzM1MTAzNDUyNTA0MjAyNSZhc19zZHQ9MjAwNSZzY2lvZHQ9MCw1JmhsPWVuIiwKKSkKCkRCKENpdGF0aW9uKAogICAgcHJlbXJhajIwMDVhLCBtZW5kZXMyMDA0YSwgcmVmPSIiLAogICAgY29udGV4dHM9WwoKICAgIF0sCikpCgonJycsIGNpdGF0aW9ucz0nbWVuZGVzMjAwNGEnKTs=\"));\n",
       "    "
      ],
      "text/plain": [
       "<IPython.core.display.Javascript object>"
      ]
     },
     "metadata": {},
     "output_type": "display_data"
    },
    {
     "data": {
      "application/javascript": [
       "$('span:contains(\"# Temp\")').closest('.cell').remove();"
      ],
      "text/plain": [
       "<IPython.core.display.Javascript object>"
      ]
     },
     "metadata": {},
     "output_type": "display_data"
    },
    {
     "data": {
      "application/javascript": [
       "\n",
       "        $('span:contains(\"# Temp\")').closest('.cell').remove();\n",
       "        var code = IPython.notebook.insert_cell_below('code');\n",
       "        code.set_text(atob(\"IyBUZW1wCmluc2VydCgnJycKcHJlbXJhajIwMDVhID0gREIoV29yaygKICAgIDIwMDUsICJBbiBlbXBpcmljYWwgYW5hbHlzaXMgb2Ygc29mdHdhcmUgcHJvZHVjdGl2aXR5IG92ZXIgdGltZSIsCiAgICBkaXNwbGF5PSJwcmVtcmFqIiwKICAgIGF1dGhvcnM9IlByZW1yYWosIFJhaHVsIGFuZCBTaGVwcGVyZCwgTWFydGluIGFuZCBLaXRjaGVuaGFtLCBCYXJiYXJhIGFuZCBGb3JzZWxpdXMsIFBla2thIiwKICAgIHBwPSIxMC0tcHAiLAogICAgcGxhY2UxPSJTb2Z0d2FyZSBNZXRyaWNzLCAyMDA1LiAxMXRoIElFRUUgSW50ZXJuYXRpb25hbCBTeW1wb3NpdW0iLAogICAgZW50cnl0eXBlPSJpbnByb2NlZWRpbmdzIiwKICAgIG9yZ2FuaXphdGlvbj0iSUVFRSIsCiAgICBJRD0icHJlbXJhajIwMDVlbXBpcmljYWwiLAogICAgY2x1c3Rlcl9pZD0iOTQwMzM1MTAzNDUyNTA0MjAyNSIsCiAgICBzY2hvbGFyPSJodHRwOi8vc2Nob2xhci5nb29nbGUuY29tL3NjaG9sYXI/Y2l0ZXM9OTQwMzM1MTAzNDUyNTA0MjAyNSZhc19zZHQ9MjAwNSZzY2lvZHQ9MCw1JmhsPWVuIiwKKSkKCkRCKENpdGF0aW9uKAogICAgcHJlbXJhajIwMDVhLCBtZW5kZXMyMDA0YSwgcmVmPSIiLAogICAgY29udGV4dHM9WwoKICAgIF0sCikpCgonJycsIGNpdGF0aW9ucz0nbWVuZGVzMjAwNGEnKTs=\"));\n",
       "    "
      ],
      "text/plain": [
       "<IPython.core.display.Javascript object>"
      ]
     },
     "metadata": {},
     "output_type": "display_data"
    },
    {
     "data": {
      "application/javascript": [
       "$('span:contains(\"# Temp\")').closest('.cell').remove();"
      ],
      "text/plain": [
       "<IPython.core.display.Javascript object>"
      ]
     },
     "metadata": {},
     "output_type": "display_data"
    },
    {
     "data": {
      "application/javascript": [
       "\n",
       "        $('span:contains(\"# Temp\")').closest('.cell').remove();\n",
       "        var code = IPython.notebook.insert_cell_below('code');\n",
       "        code.set_text(atob(\"IyBUZW1wCmluc2VydCgnJycKcHJlbXJhajIwMDVhID0gREIoV29ya1VucmVsYXRlZCgKICAgIDIwMDUsICJBbiBlbXBpcmljYWwgYW5hbHlzaXMgb2Ygc29mdHdhcmUgcHJvZHVjdGl2aXR5IG92ZXIgdGltZSIsCiAgICBkaXNwbGF5PSJwcmVtcmFqIiwKICAgIGF1dGhvcnM9IlByZW1yYWosIFJhaHVsIGFuZCBTaGVwcGVyZCwgTWFydGluIGFuZCBLaXRjaGVuaGFtLCBCYXJiYXJhIGFuZCBGb3JzZWxpdXMsIFBla2thIiwKICAgIHBwPSIxMC0tcHAiLAogICAgcGxhY2UxPSJTb2Z0d2FyZSBNZXRyaWNzLCAyMDA1LiAxMXRoIElFRUUgSW50ZXJuYXRpb25hbCBTeW1wb3NpdW0iLAogICAgZW50cnl0eXBlPSJpbnByb2NlZWRpbmdzIiwKICAgIG9yZ2FuaXphdGlvbj0iSUVFRSIsCiAgICBJRD0icHJlbXJhajIwMDVlbXBpcmljYWwiLAogICAgY2x1c3Rlcl9pZD0iOTQwMzM1MTAzNDUyNTA0MjAyNSIsCiAgICBzY2hvbGFyPSJodHRwOi8vc2Nob2xhci5nb29nbGUuY29tL3NjaG9sYXI/Y2l0ZXM9OTQwMzM1MTAzNDUyNTA0MjAyNSZhc19zZHQ9MjAwNSZzY2lvZHQ9MCw1JmhsPWVuIiwKKSkKCkRCKENpdGF0aW9uKAogICAgcHJlbXJhajIwMDVhLCBtZW5kZXMyMDA0YSwgcmVmPSIiLAogICAgY29udGV4dHM9WwoKICAgIF0sCikpCgonJycsIGNpdGF0aW9ucz0nbWVuZGVzMjAwNGEnKTs=\"));\n",
       "    "
      ],
      "text/plain": [
       "<IPython.core.display.Javascript object>"
      ]
     },
     "metadata": {},
     "output_type": "display_data"
    },
    {
     "data": {
      "application/javascript": [
       "$('span:contains(\"# Temp\")').closest('.cell').remove();"
      ],
      "text/plain": [
       "<IPython.core.display.Javascript object>"
      ]
     },
     "metadata": {},
     "output_type": "display_data"
    },
    {
     "data": {
      "application/javascript": [
       "\n",
       "        $('span:contains(\"# Temp\")').closest('.cell').remove();\n",
       "        var code = IPython.notebook.insert_cell_below('code');\n",
       "        code.set_text(atob(\"IyBUZW1wCmluc2VydCgnJycKcHJlbXJhajIwMDVhID0gREIoV29ya1VucmVsYXRlZCgKICAgIDIwMDUsICJBbiBlbXBpcmljYWwgYW5hbHlzaXMgb2Ygc29mdHdhcmUgcHJvZHVjdGl2aXR5IG92ZXIgdGltZSIsCiAgICBkaXNwbGF5PSJwcmVtcmFqIiwKICAgIGF1dGhvcnM9IlByZW1yYWosIFJhaHVsIGFuZCBTaGVwcGVyZCwgTWFydGluIGFuZCBLaXRjaGVuaGFtLCBCYXJiYXJhIGFuZCBGb3JzZWxpdXMsIFBla2thIiwKICAgIHBwPSIxMC0tcHAiLAogICAgcGxhY2UxPSJTb2Z0d2FyZSBNZXRyaWNzLCAyMDA1LiAxMXRoIElFRUUgSW50ZXJuYXRpb25hbCBTeW1wb3NpdW0iLAogICAgZW50cnl0eXBlPSJpbnByb2NlZWRpbmdzIiwKICAgIG9yZ2FuaXphdGlvbj0iSUVFRSIsCiAgICBJRD0icHJlbXJhajIwMDVlbXBpcmljYWwiLAogICAgY2x1c3Rlcl9pZD0iOTQwMzM1MTAzNDUyNTA0MjAyNSIsCiAgICBzY2hvbGFyPSJodHRwOi8vc2Nob2xhci5nb29nbGUuY29tL3NjaG9sYXI/Y2l0ZXM9OTQwMzM1MTAzNDUyNTA0MjAyNSZhc19zZHQ9MjAwNSZzY2lvZHQ9MCw1JmhsPWVuIiwKKSkKCkRCKENpdGF0aW9uKAogICAgcHJlbXJhajIwMDVhLCBtZW5kZXMyMDA0YSwgcmVmPSIiLAogICAgY29udGV4dHM9WwoKICAgIF0sCikpCgonJycsIGNpdGF0aW9ucz0nbWVuZGVzMjAwNGEnKTs=\"));\n",
       "    "
      ],
      "text/plain": [
       "<IPython.core.display.Javascript object>"
      ]
     },
     "metadata": {},
     "output_type": "display_data"
    },
    {
     "data": {
      "application/javascript": [
       "$('span:contains(\"# Temp\")').closest('.cell').remove();"
      ],
      "text/plain": [
       "<IPython.core.display.Javascript object>"
      ]
     },
     "metadata": {},
     "output_type": "display_data"
    },
    {
     "data": {
      "application/javascript": [
       "\n",
       "        $('span:contains(\"# Temp\")').closest('.cell').remove();\n",
       "        var code = IPython.notebook.insert_cell_below('code');\n",
       "        code.set_text(atob(\"IyBUZW1wCmluc2VydCgnJycKcHJlbXJhajIwMDVhID0gREIoV29ya1VucmVsYXRlZCgKICAgIDIwMDUsICJBbiBlbXBpcmljYWwgYW5hbHlzaXMgb2Ygc29mdHdhcmUgcHJvZHVjdGl2aXR5IG92ZXIgdGltZSIsCiAgICBkaXNwbGF5PSJwcmVtcmFqIiwKICAgIGF1dGhvcnM9IlByZW1yYWosIFJhaHVsIGFuZCBTaGVwcGVyZCwgTWFydGluIGFuZCBLaXRjaGVuaGFtLCBCYXJiYXJhIGFuZCBGb3JzZWxpdXMsIFBla2thIiwKICAgIHBwPSIxMC0tcHAiLAogICAgcGxhY2UxPSJTb2Z0d2FyZSBNZXRyaWNzLCAyMDA1LiAxMXRoIElFRUUgSW50ZXJuYXRpb25hbCBTeW1wb3NpdW0iLAogICAgZW50cnl0eXBlPSJpbnByb2NlZWRpbmdzIiwKICAgIG9yZ2FuaXphdGlvbj0iSUVFRSIsCiAgICBJRD0icHJlbXJhajIwMDVlbXBpcmljYWwiLAogICAgY2x1c3Rlcl9pZD0iOTQwMzM1MTAzNDUyNTA0MjAyNSIsCiAgICBzY2hvbGFyPSJodHRwOi8vc2Nob2xhci5nb29nbGUuY29tL3NjaG9sYXI/Y2l0ZXM9OTQwMzM1MTAzNDUyNTA0MjAyNSZhc19zZHQ9MjAwNSZzY2lvZHQ9MCw1JmhsPWVuIiwKKSkKCkRCKENpdGF0aW9uKAogICAgcHJlbXJhajIwMDVhLCBtZW5kZXMyMDA0YSwgcmVmPSIiLAogICAgY29udGV4dHM9WwoKICAgIF0sCikpCgonJycsIGNpdGF0aW9ucz0nbWVuZGVzMjAwNGEnKTs=\"));\n",
       "    "
      ],
      "text/plain": [
       "<IPython.core.display.Javascript object>"
      ]
     },
     "metadata": {},
     "output_type": "display_data"
    },
    {
     "data": {
      "application/javascript": [
       "$('span:contains(\"# Temp\")').closest('.cell').remove();"
      ],
      "text/plain": [
       "<IPython.core.display.Javascript object>"
      ]
     },
     "metadata": {},
     "output_type": "display_data"
    },
    {
     "data": {
      "application/javascript": [
       "\n",
       "        $('span:contains(\"# Temp\")').closest('.cell').remove();\n",
       "        var code = IPython.notebook.insert_cell_below('code');\n",
       "        code.set_text(atob(\"IyBUZW1wCmluc2VydCgnJycKcHJlbXJhajIwMDVhID0gREIoV29ya1VucmVsYXRlZCgKICAgIDIwMDUsICJBbiBlbXBpcmljYWwgYW5hbHlzaXMgb2Ygc29mdHdhcmUgcHJvZHVjdGl2aXR5IG92ZXIgdGltZSIsCiAgICBkaXNwbGF5PSJwcmVtcmFqIiwKICAgIGF1dGhvcnM9IlByZW1yYWosIFJhaHVsIGFuZCBTaGVwcGVyZCwgTWFydGluIGFuZCBLaXRjaGVuaGFtLCBCYXJiYXJhIGFuZCBGb3JzZWxpdXMsIFBla2thIiwKICAgIHBwPSIxMC0tcHAiLAogICAgcGxhY2UxPSJTb2Z0d2FyZSBNZXRyaWNzLCAyMDA1LiAxMXRoIElFRUUgSW50ZXJuYXRpb25hbCBTeW1wb3NpdW0iLAogICAgZW50cnl0eXBlPSJpbnByb2NlZWRpbmdzIiwKICAgIG9yZ2FuaXphdGlvbj0iSUVFRSIsCiAgICBJRD0icHJlbXJhajIwMDVlbXBpcmljYWwiLAogICAgY2x1c3Rlcl9pZD0iOTQwMzM1MTAzNDUyNTA0MjAyNSIsCiAgICBzY2hvbGFyPSJodHRwOi8vc2Nob2xhci5nb29nbGUuY29tL3NjaG9sYXI/Y2l0ZXM9OTQwMzM1MTAzNDUyNTA0MjAyNSZhc19zZHQ9MjAwNSZzY2lvZHQ9MCw1JmhsPWVuIiwKKSkKCkRCKENpdGF0aW9uKAogICAgcHJlbXJhajIwMDVhLCBtZW5kZXMyMDA0YSwgcmVmPSIiLAogICAgY29udGV4dHM9WwoKICAgIF0sCikpCgonJycsIGNpdGF0aW9ucz0nbWVuZGVzMjAwNGEnKTs=\"));\n",
       "    "
      ],
      "text/plain": [
       "<IPython.core.display.Javascript object>"
      ]
     },
     "metadata": {},
     "output_type": "display_data"
    },
    {
     "data": {
      "application/javascript": [
       "$('span:contains(\"# Temp\")').closest('.cell').remove();"
      ],
      "text/plain": [
       "<IPython.core.display.Javascript object>"
      ]
     },
     "metadata": {},
     "output_type": "display_data"
    },
    {
     "data": {
      "application/javascript": [
       "\n",
       "        $('span:contains(\"# Temp\")').closest('.cell').remove();\n",
       "        var code = IPython.notebook.insert_cell_below('code');\n",
       "        code.set_text(atob(\"IyBUZW1wCmluc2VydCgnJycKbWVuZGVzMjAwNWMgPSBEQihXb3JrVW5yZWxhdGVkKAogICAgMjAwNSwgIkEgcmVwbGljYXRlZCBjb21wYXJpc29uIG9mIGNyb3NzLWNvbXBhbnkgYW5kIHdpdGhpbi1jb21wYW55IGVmZm9ydCBlc3RpbWF0aW9uIG1vZGVscyB1c2luZyB0aGUgSVNCU0cgZGF0YWJhc2UiLAogICAgZGlzcGxheT0ibWVuZGVzIGMiLAogICAgYXV0aG9ycz0iTWVuZGVzLCBFbWlsaWEgYW5kIExva2FuLCBDaHJpcyBhbmQgSGFycmlzb24sIFJvYmVydCBhbmQgVHJpZ2dzLCBDaHJpcyIsCiAgICBwcD0iMTAtLXBwIiwKICAgIHBsYWNlMT0iU29mdHdhcmUgTWV0cmljcywgMjAwNS4gMTF0aCBJRUVFIEludGVybmF0aW9uYWwgU3ltcG9zaXVtIiwKICAgIGVudHJ5dHlwZT0iaW5wcm9jZWVkaW5ncyIsCiAgICBvcmdhbml6YXRpb249IklFRUUiLAogICAgSUQ9Im1lbmRlczIwMDVyZXBsaWNhdGVkIiwKICAgIGNsdXN0ZXJfaWQ9IjUzNjk3NTA4ODM1OTgzMTM5MjEiLAogICAgc2Nob2xhcj0iaHR0cDovL3NjaG9sYXIuZ29vZ2xlLmNvbS9zY2hvbGFyP2NpdGVzPTUzNjk3NTA4ODM1OTgzMTM5MjEmYXNfc2R0PTIwMDUmc2Npb2R0PTAsNSZobD1lbiIsCikpCgpEQihDaXRhdGlvbigKICAgIG1lbmRlczIwMDVjLCBtZW5kZXMyMDA0YSwgcmVmPSIiLAogICAgY29udGV4dHM9WwoKICAgIF0sCikpCgonJycsIGNpdGF0aW9ucz0nbWVuZGVzMjAwNGEnKTs=\"));\n",
       "    "
      ],
      "text/plain": [
       "<IPython.core.display.Javascript object>"
      ]
     },
     "metadata": {},
     "output_type": "display_data"
    },
    {
     "data": {
      "application/javascript": [
       "$('span:contains(\"# Temp\")').closest('.cell').remove();"
      ],
      "text/plain": [
       "<IPython.core.display.Javascript object>"
      ]
     },
     "metadata": {},
     "output_type": "display_data"
    },
    {
     "data": {
      "application/javascript": [
       "\n",
       "        $('span:contains(\"# Temp\")').closest('.cell').remove();\n",
       "        var code = IPython.notebook.insert_cell_below('code');\n",
       "        code.set_text(atob(\"IyBUZW1wCmluc2VydCgnJycKbWVuZGVzMjAwNWMgPSBEQihXb3JrKAogICAgMjAwNSwgIkEgcmVwbGljYXRlZCBjb21wYXJpc29uIG9mIGNyb3NzLWNvbXBhbnkgYW5kIHdpdGhpbi1jb21wYW55IGVmZm9ydCBlc3RpbWF0aW9uIG1vZGVscyB1c2luZyB0aGUgSVNCU0cgZGF0YWJhc2UiLAogICAgZGlzcGxheT0ibWVuZGVzIGMiLAogICAgYXV0aG9ycz0iTWVuZGVzLCBFbWlsaWEgYW5kIExva2FuLCBDaHJpcyBhbmQgSGFycmlzb24sIFJvYmVydCBhbmQgVHJpZ2dzLCBDaHJpcyIsCiAgICBwcD0iMTAtLXBwIiwKICAgIHBsYWNlMT0iU29mdHdhcmUgTWV0cmljcywgMjAwNS4gMTF0aCBJRUVFIEludGVybmF0aW9uYWwgU3ltcG9zaXVtIiwKICAgIGVudHJ5dHlwZT0iaW5wcm9jZWVkaW5ncyIsCiAgICBvcmdhbml6YXRpb249IklFRUUiLAogICAgSUQ9Im1lbmRlczIwMDVyZXBsaWNhdGVkIiwKICAgIGNsdXN0ZXJfaWQ9IjUzNjk3NTA4ODM1OTgzMTM5MjEiLAogICAgc2Nob2xhcj0iaHR0cDovL3NjaG9sYXIuZ29vZ2xlLmNvbS9zY2hvbGFyP2NpdGVzPTUzNjk3NTA4ODM1OTgzMTM5MjEmYXNfc2R0PTIwMDUmc2Npb2R0PTAsNSZobD1lbiIsCikpCgpEQihDaXRhdGlvbigKICAgIG1lbmRlczIwMDVjLCBtZW5kZXMyMDA0YSwgcmVmPSIiLAogICAgY29udGV4dHM9WwoKICAgIF0sCikpCgonJycsIGNpdGF0aW9ucz0nbWVuZGVzMjAwNGEnKTs=\"));\n",
       "    "
      ],
      "text/plain": [
       "<IPython.core.display.Javascript object>"
      ]
     },
     "metadata": {},
     "output_type": "display_data"
    },
    {
     "data": {
      "application/javascript": [
       "$('span:contains(\"# Temp\")').closest('.cell').remove();"
      ],
      "text/plain": [
       "<IPython.core.display.Javascript object>"
      ]
     },
     "metadata": {},
     "output_type": "display_data"
    },
    {
     "data": {
      "application/javascript": [
       "\n",
       "        $('span:contains(\"# Temp\")').closest('.cell').remove();\n",
       "        var code = IPython.notebook.insert_cell_below('code');\n",
       "        code.set_text(atob(\"IyBUZW1wCmluc2VydCgnJycKd2F0YW5hYmUyMDA4YSA9IERCKFdvcmtVbnJlbGF0ZWQoCiAgICAyMDA4LCAiQWRhcHRpbmcgYSBmYXVsdCBwcmVkaWN0aW9uIG1vZGVsIHRvIGFsbG93IGludGVyIGxhbmd1YWdlcmV1c2UiLAogICAgZGlzcGxheT0id2F0YW5hYmUiLAogICAgYXV0aG9ycz0iV2F0YW5hYmUsIFNoaW55YSBhbmQgS2FpeWEsIEhhcnVoaWtvIGFuZCBLYWlqaXJpLCBLZW5qaSIsCiAgICBwcD0iMTktLTI0IiwKICAgIHBsYWNlMT0iUHJvY2VlZGluZ3Mgb2YgdGhlIDR0aCBpbnRlcm5hdGlvbmFsIHdvcmtzaG9wIG9uIFByZWRpY3RvciBtb2RlbHMgaW4gc29mdHdhcmUgZW5naW5lZXJpbmciLAogICAgZW50cnl0eXBlPSJpbnByb2NlZWRpbmdzIiwKICAgIG9yZ2FuaXphdGlvbj0iQUNNIiwKICAgIElEPSJ3YXRhbmFiZTIwMDhhZGFwdGluZyIsCiAgICBjbHVzdGVyX2lkPSIxMzg4MjY2NjEwOTU3ODg5NDE1MCIsCiAgICBzY2hvbGFyPSJodHRwOi8vc2Nob2xhci5nb29nbGUuY29tL3NjaG9sYXI/Y2l0ZXM9MTM4ODI2NjYxMDk1Nzg4OTQxNTAmYXNfc2R0PTIwMDUmc2Npb2R0PTAsNSZobD1lbiIsCikpCgpEQihDaXRhdGlvbigKICAgIHdhdGFuYWJlMjAwOGEsIG1lbmRlczIwMDRhLCByZWY9IiIsCiAgICBjb250ZXh0cz1bCgogICAgXSwKKSkKCicnJywgY2l0YXRpb25zPSdtZW5kZXMyMDA0YScpOw==\"));\n",
       "    "
      ],
      "text/plain": [
       "<IPython.core.display.Javascript object>"
      ]
     },
     "metadata": {},
     "output_type": "display_data"
    },
    {
     "data": {
      "application/javascript": [
       "$('span:contains(\"# Temp\")').closest('.cell').remove();"
      ],
      "text/plain": [
       "<IPython.core.display.Javascript object>"
      ]
     },
     "metadata": {},
     "output_type": "display_data"
    },
    {
     "data": {
      "application/javascript": [
       "\n",
       "        $('span:contains(\"# Temp\")').closest('.cell').remove();\n",
       "        var code = IPython.notebook.insert_cell_below('code');\n",
       "        code.set_text(atob(\"IyBUZW1wCmluc2VydCgnJycKd2F0YW5hYmUyMDA4YSA9IERCKFdvcmsoCiAgICAyMDA4LCAiQWRhcHRpbmcgYSBmYXVsdCBwcmVkaWN0aW9uIG1vZGVsIHRvIGFsbG93IGludGVyIGxhbmd1YWdlcmV1c2UiLAogICAgZGlzcGxheT0id2F0YW5hYmUiLAogICAgYXV0aG9ycz0iV2F0YW5hYmUsIFNoaW55YSBhbmQgS2FpeWEsIEhhcnVoaWtvIGFuZCBLYWlqaXJpLCBLZW5qaSIsCiAgICBwcD0iMTktLTI0IiwKICAgIHBsYWNlMT0iUHJvY2VlZGluZ3Mgb2YgdGhlIDR0aCBpbnRlcm5hdGlvbmFsIHdvcmtzaG9wIG9uIFByZWRpY3RvciBtb2RlbHMgaW4gc29mdHdhcmUgZW5naW5lZXJpbmciLAogICAgZW50cnl0eXBlPSJpbnByb2NlZWRpbmdzIiwKICAgIG9yZ2FuaXphdGlvbj0iQUNNIiwKICAgIElEPSJ3YXRhbmFiZTIwMDhhZGFwdGluZyIsCiAgICBjbHVzdGVyX2lkPSIxMzg4MjY2NjEwOTU3ODg5NDE1MCIsCiAgICBzY2hvbGFyPSJodHRwOi8vc2Nob2xhci5nb29nbGUuY29tL3NjaG9sYXI/Y2l0ZXM9MTM4ODI2NjYxMDk1Nzg4OTQxNTAmYXNfc2R0PTIwMDUmc2Npb2R0PTAsNSZobD1lbiIsCikpCgpEQihDaXRhdGlvbigKICAgIHdhdGFuYWJlMjAwOGEsIG1lbmRlczIwMDRhLCByZWY9IiIsCiAgICBjb250ZXh0cz1bCgogICAgXSwKKSkKCicnJywgY2l0YXRpb25zPSdtZW5kZXMyMDA0YScpOw==\"));\n",
       "    "
      ],
      "text/plain": [
       "<IPython.core.display.Javascript object>"
      ]
     },
     "metadata": {},
     "output_type": "display_data"
    },
    {
     "data": {
      "application/javascript": [
       "$('span:contains(\"# Temp\")').closest('.cell').remove();"
      ],
      "text/plain": [
       "<IPython.core.display.Javascript object>"
      ]
     },
     "metadata": {},
     "output_type": "display_data"
    },
    {
     "data": {
      "application/javascript": [
       "\n",
       "        $('span:contains(\"# Temp\")').closest('.cell').remove();\n",
       "        var code = IPython.notebook.insert_cell_below('code');\n",
       "        code.set_text(atob(\"IyBUZW1wCmluc2VydCgnJycKd2F0YW5hYmUyMDA4YSA9IERCKFdvcmtVbnJlbGF0ZWQoCiAgICAyMDA4LCAiQWRhcHRpbmcgYSBmYXVsdCBwcmVkaWN0aW9uIG1vZGVsIHRvIGFsbG93IGludGVyIGxhbmd1YWdlcmV1c2UiLAogICAgZGlzcGxheT0id2F0YW5hYmUiLAogICAgYXV0aG9ycz0iV2F0YW5hYmUsIFNoaW55YSBhbmQgS2FpeWEsIEhhcnVoaWtvIGFuZCBLYWlqaXJpLCBLZW5qaSIsCiAgICBwcD0iMTktLTI0IiwKICAgIHBsYWNlMT0iUHJvY2VlZGluZ3Mgb2YgdGhlIDR0aCBpbnRlcm5hdGlvbmFsIHdvcmtzaG9wIG9uIFByZWRpY3RvciBtb2RlbHMgaW4gc29mdHdhcmUgZW5naW5lZXJpbmciLAogICAgZW50cnl0eXBlPSJpbnByb2NlZWRpbmdzIiwKICAgIG9yZ2FuaXphdGlvbj0iQUNNIiwKICAgIElEPSJ3YXRhbmFiZTIwMDhhZGFwdGluZyIsCiAgICBjbHVzdGVyX2lkPSIxMzg4MjY2NjEwOTU3ODg5NDE1MCIsCiAgICBzY2hvbGFyPSJodHRwOi8vc2Nob2xhci5nb29nbGUuY29tL3NjaG9sYXI/Y2l0ZXM9MTM4ODI2NjYxMDk1Nzg4OTQxNTAmYXNfc2R0PTIwMDUmc2Npb2R0PTAsNSZobD1lbiIsCikpCgpEQihDaXRhdGlvbigKICAgIHdhdGFuYWJlMjAwOGEsIG1lbmRlczIwMDRhLCByZWY9IiIsCiAgICBjb250ZXh0cz1bCgogICAgXSwKKSkKCicnJywgY2l0YXRpb25zPSdtZW5kZXMyMDA0YScpOw==\"));\n",
       "    "
      ],
      "text/plain": [
       "<IPython.core.display.Javascript object>"
      ]
     },
     "metadata": {},
     "output_type": "display_data"
    },
    {
     "data": {
      "application/javascript": [
       "$('span:contains(\"# Temp\")').closest('.cell').remove();"
      ],
      "text/plain": [
       "<IPython.core.display.Javascript object>"
      ]
     },
     "metadata": {},
     "output_type": "display_data"
    },
    {
     "data": {
      "application/javascript": [
       "\n",
       "        $('span:contains(\"# Temp\")').closest('.cell').remove();\n",
       "        var code = IPython.notebook.insert_cell_below('code');\n",
       "        code.set_text(atob(\"IyBUZW1wCmluc2VydCgnJycKd2F0YW5hYmUyMDA4YSA9IERCKFdvcmtVbnJlbGF0ZWQoCiAgICAyMDA4LCAiQWRhcHRpbmcgYSBmYXVsdCBwcmVkaWN0aW9uIG1vZGVsIHRvIGFsbG93IGludGVyIGxhbmd1YWdlcmV1c2UiLAogICAgZGlzcGxheT0id2F0YW5hYmUiLAogICAgYXV0aG9ycz0iV2F0YW5hYmUsIFNoaW55YSBhbmQgS2FpeWEsIEhhcnVoaWtvIGFuZCBLYWlqaXJpLCBLZW5qaSIsCiAgICBwbGFjZT1QTVNFLAogICAgcHA9IjE5LS0yNCIsCiAgICBlbnRyeXR5cGU9ImlucHJvY2VlZGluZ3MiLAogICAgb3JnYW5pemF0aW9uPSJBQ00iLAogICAgSUQ9IndhdGFuYWJlMjAwOGFkYXB0aW5nIiwKICAgIGNsdXN0ZXJfaWQ9IjEzODgyNjY2MTA5NTc4ODk0MTUwIiwKICAgIHNjaG9sYXI9Imh0dHA6Ly9zY2hvbGFyLmdvb2dsZS5jb20vc2Nob2xhcj9jaXRlcz0xMzg4MjY2NjEwOTU3ODg5NDE1MCZhc19zZHQ9MjAwNSZzY2lvZHQ9MCw1JmhsPWVuIiwKKSkKCkRCKENpdGF0aW9uKAogICAgd2F0YW5hYmUyMDA4YSwgbWVuZGVzMjAwNGEsIHJlZj0iIiwKICAgIGNvbnRleHRzPVsKCiAgICBdLAopKQoKJycnLCBjaXRhdGlvbnM9J21lbmRlczIwMDRhJyk7\"));\n",
       "    "
      ],
      "text/plain": [
       "<IPython.core.display.Javascript object>"
      ]
     },
     "metadata": {},
     "output_type": "display_data"
    },
    {
     "data": {
      "application/javascript": [
       "$('span:contains(\"# Temp\")').closest('.cell').remove();"
      ],
      "text/plain": [
       "<IPython.core.display.Javascript object>"
      ]
     },
     "metadata": {},
     "output_type": "display_data"
    },
    {
     "data": {
      "application/javascript": [
       "\n",
       "        $('span:contains(\"# Temp\")').closest('.cell').remove();\n",
       "        var code = IPython.notebook.insert_cell_below('code');\n",
       "        code.set_text(atob(\"IyBUZW1wCmluc2VydCgnJycKY29zdGFnbGlvbGEyMDA2YSA9IERCKFdvcmtVbnJlbGF0ZWQoCiAgICAyMDA2LCAiRWZmb3J0IGVzdGltYXRpb24gbW9kZWxpbmcgdGVjaG5pcXVlczogYSBjYXNlIHN0dWR5IGZvciB3ZWIgYXBwbGljYXRpb25zIiwKICAgIGRpc3BsYXk9ImNvc3RhZ2xpb2xhIiwKICAgIGF1dGhvcnM9IkNvc3RhZ2xpb2xhLCBHZW5uYXJvIGFuZCBEaSBNYXJ0aW5vLCBTZXJnaW8gYW5kIEZlcnJ1Y2NpLCBGaWxvbWVuYSBhbmQgR3JhdmlubywgQ2FybWluZSBhbmQgVG9ydG9yYSwgR2Vub3ZlZmZhIGFuZCBWaXRpZWxsbywgR2l1bGlhbmEiLAogICAgcGxhY2U9SUNTRSwKICAgIHBwPSI5LS0xNiIsCiAgICBlbnRyeXR5cGU9ImlucHJvY2VlZGluZ3MiLAogICAgb3JnYW5pemF0aW9uPSJBQ00iLAogICAgSUQ9ImNvc3RhZ2xpb2xhMjAwNmVmZm9ydCIsCiAgICBjbHVzdGVyX2lkPSIxMzg4ODU5MTE3MjQzMjMzNDAwNCIsCiAgICBzY2hvbGFyPSJodHRwOi8vc2Nob2xhci5nb29nbGUuY29tL3NjaG9sYXI/Y2l0ZXM9MTM4ODg1OTExNzI0MzIzMzQwMDQmYXNfc2R0PTIwMDUmc2Npb2R0PTAsNSZobD1lbiIsCikpCgpEQihDaXRhdGlvbigKICAgIGNvc3RhZ2xpb2xhMjAwNmEsIG1lbmRlczIwMDRhLCByZWY9IiIsCiAgICBjb250ZXh0cz1bCgogICAgXSwKKSkKCicnJywgY2l0YXRpb25zPSdtZW5kZXMyMDA0YScpOw==\"));\n",
       "    "
      ],
      "text/plain": [
       "<IPython.core.display.Javascript object>"
      ]
     },
     "metadata": {},
     "output_type": "display_data"
    },
    {
     "data": {
      "application/javascript": [
       "$('span:contains(\"# Temp\")').closest('.cell').remove();"
      ],
      "text/plain": [
       "<IPython.core.display.Javascript object>"
      ]
     },
     "metadata": {},
     "output_type": "display_data"
    },
    {
     "data": {
      "application/javascript": [
       "\n",
       "        $('span:contains(\"# Temp\")').closest('.cell').remove();\n",
       "        var code = IPython.notebook.insert_cell_below('code');\n",
       "        code.set_text(atob(\"IyBUZW1wCmluc2VydCgnJycKY29zdGFnbGlvbGEyMDA2YSA9IERCKFdvcmsoCiAgICAyMDA2LCAiRWZmb3J0IGVzdGltYXRpb24gbW9kZWxpbmcgdGVjaG5pcXVlczogYSBjYXNlIHN0dWR5IGZvciB3ZWIgYXBwbGljYXRpb25zIiwKICAgIGRpc3BsYXk9ImNvc3RhZ2xpb2xhIiwKICAgIGF1dGhvcnM9IkNvc3RhZ2xpb2xhLCBHZW5uYXJvIGFuZCBEaSBNYXJ0aW5vLCBTZXJnaW8gYW5kIEZlcnJ1Y2NpLCBGaWxvbWVuYSBhbmQgR3JhdmlubywgQ2FybWluZSBhbmQgVG9ydG9yYSwgR2Vub3ZlZmZhIGFuZCBWaXRpZWxsbywgR2l1bGlhbmEiLAogICAgcGxhY2U9SUNTRSwKICAgIHBwPSI5LS0xNiIsCiAgICBlbnRyeXR5cGU9ImlucHJvY2VlZGluZ3MiLAogICAgb3JnYW5pemF0aW9uPSJBQ00iLAogICAgSUQ9ImNvc3RhZ2xpb2xhMjAwNmVmZm9ydCIsCiAgICBjbHVzdGVyX2lkPSIxMzg4ODU5MTE3MjQzMjMzNDAwNCIsCiAgICBzY2hvbGFyPSJodHRwOi8vc2Nob2xhci5nb29nbGUuY29tL3NjaG9sYXI/Y2l0ZXM9MTM4ODg1OTExNzI0MzIzMzQwMDQmYXNfc2R0PTIwMDUmc2Npb2R0PTAsNSZobD1lbiIsCikpCgpEQihDaXRhdGlvbigKICAgIGNvc3RhZ2xpb2xhMjAwNmEsIG1lbmRlczIwMDRhLCByZWY9IiIsCiAgICBjb250ZXh0cz1bCgogICAgXSwKKSkKCicnJywgY2l0YXRpb25zPSdtZW5kZXMyMDA0YScpOw==\"));\n",
       "    "
      ],
      "text/plain": [
       "<IPython.core.display.Javascript object>"
      ]
     },
     "metadata": {},
     "output_type": "display_data"
    },
    {
     "data": {
      "application/javascript": [
       "$('span:contains(\"# Temp\")').closest('.cell').remove();"
      ],
      "text/plain": [
       "<IPython.core.display.Javascript object>"
      ]
     },
     "metadata": {},
     "output_type": "display_data"
    },
    {
     "data": {
      "application/javascript": [
       "\n",
       "        $('span:contains(\"# Temp\")').closest('.cell').remove();\n",
       "        var code = IPython.notebook.insert_cell_below('code');\n",
       "        code.set_text(atob(\"IyBUZW1wCmluc2VydCgnJycKY29zdGFnbGlvbGEyMDA2YSA9IERCKFdvcmtVbnJlbGF0ZWQoCiAgICAyMDA2LCAiRWZmb3J0IGVzdGltYXRpb24gbW9kZWxpbmcgdGVjaG5pcXVlczogYSBjYXNlIHN0dWR5IGZvciB3ZWIgYXBwbGljYXRpb25zIiwKICAgIGRpc3BsYXk9ImNvc3RhZ2xpb2xhIiwKICAgIGF1dGhvcnM9IkNvc3RhZ2xpb2xhLCBHZW5uYXJvIGFuZCBEaSBNYXJ0aW5vLCBTZXJnaW8gYW5kIEZlcnJ1Y2NpLCBGaWxvbWVuYSBhbmQgR3JhdmlubywgQ2FybWluZSBhbmQgVG9ydG9yYSwgR2Vub3ZlZmZhIGFuZCBWaXRpZWxsbywgR2l1bGlhbmEiLAogICAgcGxhY2U9SUNTRSwKICAgIHBwPSI5LS0xNiIsCiAgICBlbnRyeXR5cGU9ImlucHJvY2VlZGluZ3MiLAogICAgb3JnYW5pemF0aW9uPSJBQ00iLAogICAgSUQ9ImNvc3RhZ2xpb2xhMjAwNmVmZm9ydCIsCiAgICBjbHVzdGVyX2lkPSIxMzg4ODU5MTE3MjQzMjMzNDAwNCIsCiAgICBzY2hvbGFyPSJodHRwOi8vc2Nob2xhci5nb29nbGUuY29tL3NjaG9sYXI/Y2l0ZXM9MTM4ODg1OTExNzI0MzIzMzQwMDQmYXNfc2R0PTIwMDUmc2Npb2R0PTAsNSZobD1lbiIsCikpCgpEQihDaXRhdGlvbigKICAgIGNvc3RhZ2xpb2xhMjAwNmEsIG1lbmRlczIwMDRhLCByZWY9IiIsCiAgICBjb250ZXh0cz1bCgogICAgXSwKKSkKCicnJywgY2l0YXRpb25zPSdtZW5kZXMyMDA0YScpOw==\"));\n",
       "    "
      ],
      "text/plain": [
       "<IPython.core.display.Javascript object>"
      ]
     },
     "metadata": {},
     "output_type": "display_data"
    },
    {
     "data": {
      "application/javascript": [
       "$('span:contains(\"# Temp\")').closest('.cell').remove();"
      ],
      "text/plain": [
       "<IPython.core.display.Javascript object>"
      ]
     },
     "metadata": {},
     "output_type": "display_data"
    },
    {
     "data": {
      "application/javascript": [
       "\n",
       "        $('span:contains(\"# Temp\")').closest('.cell').remove();\n",
       "        var code = IPython.notebook.insert_cell_below('code');\n",
       "        code.set_text(atob(\"IyBUZW1wCmluc2VydCgnJycKbG9rYW4yMDA2YSA9IERCKFdvcmtVbnJlbGF0ZWQoCiAgICAyMDA2LCAiQ3Jvc3MtY29tcGFueSBhbmQgc2luZ2xlLWNvbXBhbnkgZWZmb3J0IG1vZGVscyB1c2luZyB0aGUgSVNCU0cgZGF0YWJhc2U6IGEgZnVydGhlciByZXBsaWNhdGVkIHN0dWR5IiwKICAgIGRpc3BsYXk9Imxva2FuIiwKICAgIGF1dGhvcnM9Ikxva2FuLCBDaHJpcyBhbmQgTWVuZGVzLCBFbWlsaWEiLAogICAgcHA9Ijc1LS04NCIsCiAgICBwbGFjZTE9IlByb2NlZWRpbmdzIG9mIHRoZSAyMDA2IEFDTS9JRUVFIGludGVybmF0aW9uYWwgc3ltcG9zaXVtIG9uIEVtcGlyaWNhbCBzb2Z0d2FyZSBlbmdpbmVlcmluZyIsCiAgICBlbnRyeXR5cGU9ImlucHJvY2VlZGluZ3MiLAogICAgb3JnYW5pemF0aW9uPSJBQ00iLAogICAgSUQ9Imxva2FuMjAwNmNyb3NzIiwKICAgIGNsdXN0ZXJfaWQ9IjE3ODM5NzUxMTI5MjIyMDA4OTk5IiwKICAgIHNjaG9sYXI9Imh0dHA6Ly9zY2hvbGFyLmdvb2dsZS5jb20vc2Nob2xhcj9jaXRlcz0xNzgzOTc1MTEyOTIyMjAwODk5OSZhc19zZHQ9MjAwNSZzY2lvZHQ9MCw1JmhsPWVuIiwKKSkKCkRCKENpdGF0aW9uKAogICAgbG9rYW4yMDA2YSwgbWVuZGVzMjAwNGEsIHJlZj0iIiwKICAgIGNvbnRleHRzPVsKCiAgICBdLAopKQoKJycnLCBjaXRhdGlvbnM9J21lbmRlczIwMDRhJyk7\"));\n",
       "    "
      ],
      "text/plain": [
       "<IPython.core.display.Javascript object>"
      ]
     },
     "metadata": {},
     "output_type": "display_data"
    },
    {
     "data": {
      "application/javascript": [
       "$('span:contains(\"# Temp\")').closest('.cell').remove();"
      ],
      "text/plain": [
       "<IPython.core.display.Javascript object>"
      ]
     },
     "metadata": {},
     "output_type": "display_data"
    },
    {
     "data": {
      "application/javascript": [
       "\n",
       "        $('span:contains(\"# Temp\")').closest('.cell').remove();\n",
       "        var code = IPython.notebook.insert_cell_below('code');\n",
       "        code.set_text(atob(\"IyBUZW1wCmluc2VydCgnJycKbG9rYW4yMDA2YSA9IERCKFdvcmsoCiAgICAyMDA2LCAiQ3Jvc3MtY29tcGFueSBhbmQgc2luZ2xlLWNvbXBhbnkgZWZmb3J0IG1vZGVscyB1c2luZyB0aGUgSVNCU0cgZGF0YWJhc2U6IGEgZnVydGhlciByZXBsaWNhdGVkIHN0dWR5IiwKICAgIGRpc3BsYXk9Imxva2FuIiwKICAgIGF1dGhvcnM9Ikxva2FuLCBDaHJpcyBhbmQgTWVuZGVzLCBFbWlsaWEiLAogICAgcHA9Ijc1LS04NCIsCiAgICBwbGFjZTE9IlByb2NlZWRpbmdzIG9mIHRoZSAyMDA2IEFDTS9JRUVFIGludGVybmF0aW9uYWwgc3ltcG9zaXVtIG9uIEVtcGlyaWNhbCBzb2Z0d2FyZSBlbmdpbmVlcmluZyIsCiAgICBlbnRyeXR5cGU9ImlucHJvY2VlZGluZ3MiLAogICAgb3JnYW5pemF0aW9uPSJBQ00iLAogICAgSUQ9Imxva2FuMjAwNmNyb3NzIiwKICAgIGNsdXN0ZXJfaWQ9IjE3ODM5NzUxMTI5MjIyMDA4OTk5IiwKICAgIHNjaG9sYXI9Imh0dHA6Ly9zY2hvbGFyLmdvb2dsZS5jb20vc2Nob2xhcj9jaXRlcz0xNzgzOTc1MTEyOTIyMjAwODk5OSZhc19zZHQ9MjAwNSZzY2lvZHQ9MCw1JmhsPWVuIiwKKSkKCkRCKENpdGF0aW9uKAogICAgbG9rYW4yMDA2YSwgbWVuZGVzMjAwNGEsIHJlZj0iIiwKICAgIGNvbnRleHRzPVsKCiAgICBdLAopKQoKJycnLCBjaXRhdGlvbnM9J21lbmRlczIwMDRhJyk7\"));\n",
       "    "
      ],
      "text/plain": [
       "<IPython.core.display.Javascript object>"
      ]
     },
     "metadata": {},
     "output_type": "display_data"
    },
    {
     "data": {
      "application/javascript": [
       "$('span:contains(\"# Temp\")').closest('.cell').remove();"
      ],
      "text/plain": [
       "<IPython.core.display.Javascript object>"
      ]
     },
     "metadata": {},
     "output_type": "display_data"
    },
    {
     "data": {
      "application/javascript": [
       "\n",
       "        $('span:contains(\"# Temp\")').closest('.cell').remove();\n",
       "        var code = IPython.notebook.insert_cell_below('code');\n",
       "        code.set_text(atob(\"IyBUZW1wCmluc2VydCgnJycKbG9rYW4yMDA2YSA9IERCKFdvcmtVbnJlbGF0ZWQoCiAgICAyMDA2LCAiQ3Jvc3MtY29tcGFueSBhbmQgc2luZ2xlLWNvbXBhbnkgZWZmb3J0IG1vZGVscyB1c2luZyB0aGUgSVNCU0cgZGF0YWJhc2U6IGEgZnVydGhlciByZXBsaWNhdGVkIHN0dWR5IiwKICAgIGRpc3BsYXk9Imxva2FuIiwKICAgIGF1dGhvcnM9Ikxva2FuLCBDaHJpcyBhbmQgTWVuZGVzLCBFbWlsaWEiLAogICAgcHA9Ijc1LS04NCIsCiAgICBwbGFjZTE9IlByb2NlZWRpbmdzIG9mIHRoZSAyMDA2IEFDTS9JRUVFIGludGVybmF0aW9uYWwgc3ltcG9zaXVtIG9uIEVtcGlyaWNhbCBzb2Z0d2FyZSBlbmdpbmVlcmluZyIsCiAgICBlbnRyeXR5cGU9ImlucHJvY2VlZGluZ3MiLAogICAgb3JnYW5pemF0aW9uPSJBQ00iLAogICAgSUQ9Imxva2FuMjAwNmNyb3NzIiwKICAgIGNsdXN0ZXJfaWQ9IjE3ODM5NzUxMTI5MjIyMDA4OTk5IiwKICAgIHNjaG9sYXI9Imh0dHA6Ly9zY2hvbGFyLmdvb2dsZS5jb20vc2Nob2xhcj9jaXRlcz0xNzgzOTc1MTEyOTIyMjAwODk5OSZhc19zZHQ9MjAwNSZzY2lvZHQ9MCw1JmhsPWVuIiwKKSkKCkRCKENpdGF0aW9uKAogICAgbG9rYW4yMDA2YSwgbWVuZGVzMjAwNGEsIHJlZj0iIiwKICAgIGNvbnRleHRzPVsKCiAgICBdLAopKQoKJycnLCBjaXRhdGlvbnM9J21lbmRlczIwMDRhJyk7\"));\n",
       "    "
      ],
      "text/plain": [
       "<IPython.core.display.Javascript object>"
      ]
     },
     "metadata": {},
     "output_type": "display_data"
    },
    {
     "data": {
      "application/javascript": [
       "$('span:contains(\"# Temp\")').closest('.cell').remove();"
      ],
      "text/plain": [
       "<IPython.core.display.Javascript object>"
      ]
     },
     "metadata": {},
     "output_type": "display_data"
    },
    {
     "data": {
      "application/javascript": [
       "\n",
       "        $('span:contains(\"# Temp\")').closest('.cell').remove();\n",
       "        var code = IPython.notebook.insert_cell_below('code');\n",
       "        code.set_text(atob(\"IyBUZW1wCmluc2VydCgnJycKbWVuZGVzMjAwOGUgPSBEQihXb3JrVW5yZWxhdGVkKAogICAgMjAwOCwgIlJlcGxpY2F0aW5nIHN0dWRpZXMgb24gY3Jvc3MtdnMgc2luZ2xlLWNvbXBhbnkgZWZmb3J0IG1vZGVscyB1c2luZyB0aGUgSVNCU0cgRGF0YWJhc2UiLAogICAgZGlzcGxheT0ibWVuZGVzIGUiLAogICAgYXV0aG9ycz0iTWVuZGVzLCBFbWlsaWEgYW5kIExva2FuLCBDaHJpcyIsCiAgICBwbGFjZT1FU0UsCiAgICBwcD0iMy0tMzciLAogICAgZW50cnl0eXBlPSJhcnRpY2xlIiwKICAgIHZvbHVtZT0iMTMiLAogICAgbnVtYmVyPSIxIiwKICAgIHB1Ymxpc2hlcj0iU3ByaW5nZXIiLAogICAgSUQ9Im1lbmRlczIwMDhyZXBsaWNhdGluZyIsCiAgICBjbHVzdGVyX2lkPSIzNDcyNDA2MTM0MzU3ODk1NjciLAogICAgc2Nob2xhcj0iaHR0cDovL3NjaG9sYXIuZ29vZ2xlLmNvbS9zY2hvbGFyP2NpdGVzPTM0NzI0MDYxMzQzNTc4OTU2NyZhc19zZHQ9MjAwNSZzY2lvZHQ9MCw1JmhsPWVuIiwKKSkKCkRCKENpdGF0aW9uKAogICAgbWVuZGVzMjAwOGUsIG1lbmRlczIwMDRhLCByZWY9IiIsCiAgICBjb250ZXh0cz1bCgogICAgXSwKKSkKCicnJywgY2l0YXRpb25zPSdtZW5kZXMyMDA0YScpOw==\"));\n",
       "    "
      ],
      "text/plain": [
       "<IPython.core.display.Javascript object>"
      ]
     },
     "metadata": {},
     "output_type": "display_data"
    },
    {
     "data": {
      "application/javascript": [
       "$('span:contains(\"# Temp\")').closest('.cell').remove();"
      ],
      "text/plain": [
       "<IPython.core.display.Javascript object>"
      ]
     },
     "metadata": {},
     "output_type": "display_data"
    },
    {
     "data": {
      "application/javascript": [
       "\n",
       "        $('span:contains(\"# Temp\")').closest('.cell').remove();\n",
       "        var code = IPython.notebook.insert_cell_below('code');\n",
       "        code.set_text(atob(\"IyBUZW1wCmluc2VydCgnJycKbWVuZGVzMjAwOGUgPSBEQihXb3JrKAogICAgMjAwOCwgIlJlcGxpY2F0aW5nIHN0dWRpZXMgb24gY3Jvc3MtdnMgc2luZ2xlLWNvbXBhbnkgZWZmb3J0IG1vZGVscyB1c2luZyB0aGUgSVNCU0cgRGF0YWJhc2UiLAogICAgZGlzcGxheT0ibWVuZGVzIGUiLAogICAgYXV0aG9ycz0iTWVuZGVzLCBFbWlsaWEgYW5kIExva2FuLCBDaHJpcyIsCiAgICBwbGFjZT1FU0UsCiAgICBwcD0iMy0tMzciLAogICAgZW50cnl0eXBlPSJhcnRpY2xlIiwKICAgIHZvbHVtZT0iMTMiLAogICAgbnVtYmVyPSIxIiwKICAgIHB1Ymxpc2hlcj0iU3ByaW5nZXIiLAogICAgSUQ9Im1lbmRlczIwMDhyZXBsaWNhdGluZyIsCiAgICBjbHVzdGVyX2lkPSIzNDcyNDA2MTM0MzU3ODk1NjciLAogICAgc2Nob2xhcj0iaHR0cDovL3NjaG9sYXIuZ29vZ2xlLmNvbS9zY2hvbGFyP2NpdGVzPTM0NzI0MDYxMzQzNTc4OTU2NyZhc19zZHQ9MjAwNSZzY2lvZHQ9MCw1JmhsPWVuIiwKKSkKCkRCKENpdGF0aW9uKAogICAgbWVuZGVzMjAwOGUsIG1lbmRlczIwMDRhLCByZWY9IiIsCiAgICBjb250ZXh0cz1bCgogICAgXSwKKSkKCicnJywgY2l0YXRpb25zPSdtZW5kZXMyMDA0YScpOw==\"));\n",
       "    "
      ],
      "text/plain": [
       "<IPython.core.display.Javascript object>"
      ]
     },
     "metadata": {},
     "output_type": "display_data"
    },
    {
     "data": {
      "application/javascript": [
       "$('span:contains(\"# Temp\")').closest('.cell').remove();"
      ],
      "text/plain": [
       "<IPython.core.display.Javascript object>"
      ]
     },
     "metadata": {},
     "output_type": "display_data"
    },
    {
     "data": {
      "application/javascript": [
       "\n",
       "        $('span:contains(\"# Temp\")').closest('.cell').remove();\n",
       "        var code = IPython.notebook.insert_cell_below('code');\n",
       "        code.set_text(atob(\"IyBUZW1wCmluc2VydCgnJycKbWVuZGVzMjAwOGUgPSBEQihXb3JrVW5yZWxhdGVkKAogICAgMjAwOCwgIlJlcGxpY2F0aW5nIHN0dWRpZXMgb24gY3Jvc3MtdnMgc2luZ2xlLWNvbXBhbnkgZWZmb3J0IG1vZGVscyB1c2luZyB0aGUgSVNCU0cgRGF0YWJhc2UiLAogICAgZGlzcGxheT0ibWVuZGVzIGUiLAogICAgYXV0aG9ycz0iTWVuZGVzLCBFbWlsaWEgYW5kIExva2FuLCBDaHJpcyIsCiAgICBwbGFjZT1FU0UsCiAgICBwcD0iMy0tMzciLAogICAgZW50cnl0eXBlPSJhcnRpY2xlIiwKICAgIHZvbHVtZT0iMTMiLAogICAgbnVtYmVyPSIxIiwKICAgIHB1Ymxpc2hlcj0iU3ByaW5nZXIiLAogICAgSUQ9Im1lbmRlczIwMDhyZXBsaWNhdGluZyIsCiAgICBjbHVzdGVyX2lkPSIzNDcyNDA2MTM0MzU3ODk1NjciLAogICAgc2Nob2xhcj0iaHR0cDovL3NjaG9sYXIuZ29vZ2xlLmNvbS9zY2hvbGFyP2NpdGVzPTM0NzI0MDYxMzQzNTc4OTU2NyZhc19zZHQ9MjAwNSZzY2lvZHQ9MCw1JmhsPWVuIiwKKSkKCkRCKENpdGF0aW9uKAogICAgbWVuZGVzMjAwOGUsIG1lbmRlczIwMDRhLCByZWY9IiIsCiAgICBjb250ZXh0cz1bCgogICAgXSwKKSkKCicnJywgY2l0YXRpb25zPSdtZW5kZXMyMDA0YScpOw==\"));\n",
       "    "
      ],
      "text/plain": [
       "<IPython.core.display.Javascript object>"
      ]
     },
     "metadata": {},
     "output_type": "display_data"
    },
    {
     "data": {
      "application/javascript": [
       "$('span:contains(\"# Temp\")').closest('.cell').remove();"
      ],
      "text/plain": [
       "<IPython.core.display.Javascript object>"
      ]
     },
     "metadata": {},
     "output_type": "display_data"
    },
    {
     "data": {
      "application/javascript": [
       "\n",
       "        $('span:contains(\"# Temp\")').closest('.cell').remove();\n",
       "        var code = IPython.notebook.insert_cell_below('code');\n",
       "        code.set_text(atob(\"IyBUZW1wCmluc2VydCgnJycKYmFyZXNpMjAwN2EgPSBEQihXb3JrVW5yZWxhdGVkKAogICAgMjAwNywgIlRocmVlIGVtcGlyaWNhbCBzdHVkaWVzIG9uIGVzdGltYXRpbmcgdGhlIGRlc2lnbiBlZmZvcnQgb2YgV2ViIGFwcGxpY2F0aW9ucyIsCiAgICBkaXNwbGF5PSJiYXJlc2kiLAogICAgYXV0aG9ycz0iQmFyZXNpLCBMdWNpYW5vIGFuZCBNb3Jhc2NhLCBTYW5kcm8iLAogICAgcGxhY2U9VG9TRSwKICAgIHBwPSIxNSIsCiAgICBlbnRyeXR5cGU9ImFydGljbGUiLAogICAgdm9sdW1lPSIxNiIsCiAgICBudW1iZXI9IjQiLAogICAgcHVibGlzaGVyPSJBQ00iLAogICAgSUQ9ImJhcmVzaTIwMDd0aHJlZSIsCiAgICBjbHVzdGVyX2lkPSI2MDYxMDgyNDMxMzEyMTY2NDM4IiwKICAgIHNjaG9sYXI9Imh0dHA6Ly9zY2hvbGFyLmdvb2dsZS5jb20vc2Nob2xhcj9jaXRlcz02MDYxMDgyNDMxMzEyMTY2NDM4JmFzX3NkdD0yMDA1JnNjaW9kdD0wLDUmaGw9ZW4iLAopKQoKREIoQ2l0YXRpb24oCiAgICBiYXJlc2kyMDA3YSwgbWVuZGVzMjAwNGEsIHJlZj0iIiwKICAgIGNvbnRleHRzPVsKCiAgICBdLAopKQoKJycnLCBjaXRhdGlvbnM9J21lbmRlczIwMDRhJyk7\"));\n",
       "    "
      ],
      "text/plain": [
       "<IPython.core.display.Javascript object>"
      ]
     },
     "metadata": {},
     "output_type": "display_data"
    },
    {
     "data": {
      "application/javascript": [
       "$('span:contains(\"# Temp\")').closest('.cell').remove();"
      ],
      "text/plain": [
       "<IPython.core.display.Javascript object>"
      ]
     },
     "metadata": {},
     "output_type": "display_data"
    },
    {
     "data": {
      "application/javascript": [
       "\n",
       "        $('span:contains(\"# Temp\")').closest('.cell').remove();\n",
       "        var code = IPython.notebook.insert_cell_below('code');\n",
       "        code.set_text(atob(\"IyBUZW1wCmluc2VydCgnJycKYmFyZXNpMjAwN2EgPSBEQihXb3JrKAogICAgMjAwNywgIlRocmVlIGVtcGlyaWNhbCBzdHVkaWVzIG9uIGVzdGltYXRpbmcgdGhlIGRlc2lnbiBlZmZvcnQgb2YgV2ViIGFwcGxpY2F0aW9ucyIsCiAgICBkaXNwbGF5PSJiYXJlc2kiLAogICAgYXV0aG9ycz0iQmFyZXNpLCBMdWNpYW5vIGFuZCBNb3Jhc2NhLCBTYW5kcm8iLAogICAgcGxhY2U9VG9TRSwKICAgIHBwPSIxNSIsCiAgICBlbnRyeXR5cGU9ImFydGljbGUiLAogICAgdm9sdW1lPSIxNiIsCiAgICBudW1iZXI9IjQiLAogICAgcHVibGlzaGVyPSJBQ00iLAogICAgSUQ9ImJhcmVzaTIwMDd0aHJlZSIsCiAgICBjbHVzdGVyX2lkPSI2MDYxMDgyNDMxMzEyMTY2NDM4IiwKICAgIHNjaG9sYXI9Imh0dHA6Ly9zY2hvbGFyLmdvb2dsZS5jb20vc2Nob2xhcj9jaXRlcz02MDYxMDgyNDMxMzEyMTY2NDM4JmFzX3NkdD0yMDA1JnNjaW9kdD0wLDUmaGw9ZW4iLAopKQoKREIoQ2l0YXRpb24oCiAgICBiYXJlc2kyMDA3YSwgbWVuZGVzMjAwNGEsIHJlZj0iIiwKICAgIGNvbnRleHRzPVsKCiAgICBdLAopKQoKJycnLCBjaXRhdGlvbnM9J21lbmRlczIwMDRhJyk7\"));\n",
       "    "
      ],
      "text/plain": [
       "<IPython.core.display.Javascript object>"
      ]
     },
     "metadata": {},
     "output_type": "display_data"
    },
    {
     "data": {
      "application/javascript": [
       "$('span:contains(\"# Temp\")').closest('.cell').remove();"
      ],
      "text/plain": [
       "<IPython.core.display.Javascript object>"
      ]
     },
     "metadata": {},
     "output_type": "display_data"
    },
    {
     "data": {
      "application/javascript": [
       "\n",
       "        $('span:contains(\"# Temp\")').closest('.cell').remove();\n",
       "        var code = IPython.notebook.insert_cell_below('code');\n",
       "        code.set_text(atob(\"IyBUZW1wCmluc2VydCgnJycKYmFyZXNpMjAwN2EgPSBEQihXb3JrVW5yZWxhdGVkKAogICAgMjAwNywgIlRocmVlIGVtcGlyaWNhbCBzdHVkaWVzIG9uIGVzdGltYXRpbmcgdGhlIGRlc2lnbiBlZmZvcnQgb2YgV2ViIGFwcGxpY2F0aW9ucyIsCiAgICBkaXNwbGF5PSJiYXJlc2kiLAogICAgYXV0aG9ycz0iQmFyZXNpLCBMdWNpYW5vIGFuZCBNb3Jhc2NhLCBTYW5kcm8iLAogICAgcGxhY2U9VG9TRSwKICAgIHBwPSIxNSIsCiAgICBlbnRyeXR5cGU9ImFydGljbGUiLAogICAgdm9sdW1lPSIxNiIsCiAgICBudW1iZXI9IjQiLAogICAgcHVibGlzaGVyPSJBQ00iLAogICAgSUQ9ImJhcmVzaTIwMDd0aHJlZSIsCiAgICBjbHVzdGVyX2lkPSI2MDYxMDgyNDMxMzEyMTY2NDM4IiwKICAgIHNjaG9sYXI9Imh0dHA6Ly9zY2hvbGFyLmdvb2dsZS5jb20vc2Nob2xhcj9jaXRlcz02MDYxMDgyNDMxMzEyMTY2NDM4JmFzX3NkdD0yMDA1JnNjaW9kdD0wLDUmaGw9ZW4iLAopKQoKREIoQ2l0YXRpb24oCiAgICBiYXJlc2kyMDA3YSwgbWVuZGVzMjAwNGEsIHJlZj0iIiwKICAgIGNvbnRleHRzPVsKCiAgICBdLAopKQoKJycnLCBjaXRhdGlvbnM9J21lbmRlczIwMDRhJyk7\"));\n",
       "    "
      ],
      "text/plain": [
       "<IPython.core.display.Javascript object>"
      ]
     },
     "metadata": {},
     "output_type": "display_data"
    },
    {
     "data": {
      "application/javascript": [
       "$('span:contains(\"# Temp\")').closest('.cell').remove();"
      ],
      "text/plain": [
       "<IPython.core.display.Javascript object>"
      ]
     },
     "metadata": {},
     "output_type": "display_data"
    },
    {
     "data": {
      "application/javascript": [
       "\n",
       "        $('span:contains(\"# Temp\")').closest('.cell').remove();\n",
       "        var code = IPython.notebook.insert_cell_below('code');\n",
       "        code.set_text(atob(\"IyBUZW1wCmluc2VydCgnJycKREIoQ2l0YXRpb24oCiAgICBrb2NhZ3VuZWxpMjAxMGEsIG1lbmRlczIwMDRhLCByZWY9IiIsCiAgICBjb250ZXh0cz1bCgogICAgXSwKKSkKCicnJywgY2l0YXRpb25zPSdtZW5kZXMyMDA0YScpOwpzZXRfYXR0cmlidXRlKCdrb2NhZ3VuZWxpMjAxMGEnLCAnZXhjZXJwdCcsICdBYnN0cmFjdCBDb2xsZWN0aW5nIHRoZSBkYXRhIHJlcXVpcmVkIGZvciBxdWFsaXR5IHByZWRpY3Rpb24gd2l0aGluIGEgZGV2ZWxvcG1lbnQgdGVhbSBpcyB0aW1lLWNvbnN1bWluZyBhbmQgZXhwZW5zaXZlLiBBbiBhbHRlcm5hdGl2ZSB0byBtYWtlIHByZWRpY3Rpb25zIHVzaW5nIGRhdGEgdGhhdCBjcm9zc2VzIGZyb20gb3RoZXIgcHJvamVjdHMgb3IgZXZlbiBvdGhlciBjb21wYW5pZXMuIFdlIHNob3cgdGhhdCB3aXRoL3dpdGhvdXQgcmVsZXZhbmN5IGZpbHRlcmluZywgJyk7\"));\n",
       "    "
      ],
      "text/plain": [
       "<IPython.core.display.Javascript object>"
      ]
     },
     "metadata": {},
     "output_type": "display_data"
    },
    {
     "data": {
      "application/javascript": [
       "$('span:contains(\"# Temp\")').closest('.cell').remove();"
      ],
      "text/plain": [
       "<IPython.core.display.Javascript object>"
      ]
     },
     "metadata": {},
     "output_type": "display_data"
    },
    {
     "data": {
      "application/javascript": [
       "\n",
       "        $('span:contains(\"# Temp\")').closest('.cell').remove();\n",
       "        var code = IPython.notebook.insert_cell_below('code');\n",
       "        code.set_text(atob(\"IyBUZW1wCmluc2VydCgnJycKREIoQ2l0YXRpb24oCiAgICBrb2NhZ3VuZWxpMjAxMGEsIG1lbmRlczIwMDRhLCByZWY9IiIsCiAgICBjb250ZXh0cz1bCgogICAgXSwKKSkKCicnJywgY2l0YXRpb25zPSdtZW5kZXMyMDA0YScpOwpzZXRfYXR0cmlidXRlKCdrb2NhZ3VuZWxpMjAxMGEnLCAnZXhjZXJwdCcsICdBYnN0cmFjdCBDb2xsZWN0aW5nIHRoZSBkYXRhIHJlcXVpcmVkIGZvciBxdWFsaXR5IHByZWRpY3Rpb24gd2l0aGluIGEgZGV2ZWxvcG1lbnQgdGVhbSBpcyB0aW1lLWNvbnN1bWluZyBhbmQgZXhwZW5zaXZlLiBBbiBhbHRlcm5hdGl2ZSB0byBtYWtlIHByZWRpY3Rpb25zIHVzaW5nIGRhdGEgdGhhdCBjcm9zc2VzIGZyb20gb3RoZXIgcHJvamVjdHMgb3IgZXZlbiBvdGhlciBjb21wYW5pZXMuIFdlIHNob3cgdGhhdCB3aXRoL3dpdGhvdXQgcmVsZXZhbmN5IGZpbHRlcmluZywgJyk7\"));\n",
       "    "
      ],
      "text/plain": [
       "<IPython.core.display.Javascript object>"
      ]
     },
     "metadata": {},
     "output_type": "display_data"
    },
    {
     "data": {
      "application/javascript": [
       "$('span:contains(\"# Temp\")').closest('.cell').remove();"
      ],
      "text/plain": [
       "<IPython.core.display.Javascript object>"
      ]
     },
     "metadata": {},
     "output_type": "display_data"
    },
    {
     "data": {
      "application/javascript": [
       "\n",
       "        $('span:contains(\"# Temp\")').closest('.cell').remove();\n",
       "        var code = IPython.notebook.insert_cell_below('code');\n",
       "        code.set_text(atob(\"IyBUZW1wCmluc2VydCgnJycKREIoQ2l0YXRpb24oCiAgICBrb2NhZ3VuZWxpMjAxMGEsIG1lbmRlczIwMDRhLCByZWY9IiIsCiAgICBjb250ZXh0cz1bCgogICAgXSwKKSkKCicnJywgY2l0YXRpb25zPSdtZW5kZXMyMDA0YScpOwpzZXRfYXR0cmlidXRlKCdrb2NhZ3VuZWxpMjAxMGEnLCAnZXhjZXJwdCcsICdBYnN0cmFjdCBDb2xsZWN0aW5nIHRoZSBkYXRhIHJlcXVpcmVkIGZvciBxdWFsaXR5IHByZWRpY3Rpb24gd2l0aGluIGEgZGV2ZWxvcG1lbnQgdGVhbSBpcyB0aW1lLWNvbnN1bWluZyBhbmQgZXhwZW5zaXZlLiBBbiBhbHRlcm5hdGl2ZSB0byBtYWtlIHByZWRpY3Rpb25zIHVzaW5nIGRhdGEgdGhhdCBjcm9zc2VzIGZyb20gb3RoZXIgcHJvamVjdHMgb3IgZXZlbiBvdGhlciBjb21wYW5pZXMuIFdlIHNob3cgdGhhdCB3aXRoL3dpdGhvdXQgcmVsZXZhbmN5IGZpbHRlcmluZywgJyk7\"));\n",
       "    "
      ],
      "text/plain": [
       "<IPython.core.display.Javascript object>"
      ]
     },
     "metadata": {},
     "output_type": "display_data"
    },
    {
     "data": {
      "application/javascript": [
       "$('span:contains(\"# Temp\")').closest('.cell').remove();"
      ],
      "text/plain": [
       "<IPython.core.display.Javascript object>"
      ]
     },
     "metadata": {},
     "output_type": "display_data"
    },
    {
     "data": {
      "application/javascript": [
       "\n",
       "        $('span:contains(\"# Temp\")').closest('.cell').remove();\n",
       "        var code = IPython.notebook.insert_cell_below('code');\n",
       "        code.set_text(atob(\"IyBUZW1wCmluc2VydCgnJycKa2V1bmcyMDA5YSA9IERCKFdvcmtVbnJlbGF0ZWQoCiAgICAyMDA5LCAiU29mdHdhcmUgZGV2ZWxvcG1lbnQgY29zdCBlc3RpbWF0aW9uIHVzaW5nIGFuYWxvZ3k6IGEgcmV2aWV3IiwKICAgIGRpc3BsYXk9ImtldW5nIiwKICAgIGF1dGhvcnM9IktldW5nLCBKYWNreSIsCiAgICBwcD0iMzI3LS0zMzYiLAogICAgcGxhY2UxPSJTb2Z0d2FyZSBFbmdpbmVlcmluZyBDb25mZXJlbmNlLCAyMDA5LiBBU1dFQycwOS4gQXVzdHJhbGlhbiIsCiAgICBlbnRyeXR5cGU9ImlucHJvY2VlZGluZ3MiLAogICAgb3JnYW5pemF0aW9uPSJJRUVFIiwKICAgIElEPSJrZXVuZzIwMDlzb2Z0d2FyZSIsCiAgICBjbHVzdGVyX2lkPSI2NDE1NTE2MjcwNzIyNjQwMzk0IiwKICAgIHNjaG9sYXI9Imh0dHA6Ly9zY2hvbGFyLmdvb2dsZS5jb20vc2Nob2xhcj9jaXRlcz02NDE1NTE2MjcwNzIyNjQwMzk0JmFzX3NkdD0yMDA1JnNjaW9kdD0wLDUmaGw9ZW4iLAopKQoKREIoQ2l0YXRpb24oCiAgICBrZXVuZzIwMDlhLCBtZW5kZXMyMDA0YSwgcmVmPSIiLAogICAgY29udGV4dHM9WwoKICAgIF0sCikpCgonJycsIGNpdGF0aW9ucz0nbWVuZGVzMjAwNGEnKTs=\"));\n",
       "    "
      ],
      "text/plain": [
       "<IPython.core.display.Javascript object>"
      ]
     },
     "metadata": {},
     "output_type": "display_data"
    },
    {
     "data": {
      "application/javascript": [
       "$('span:contains(\"# Temp\")').closest('.cell').remove();"
      ],
      "text/plain": [
       "<IPython.core.display.Javascript object>"
      ]
     },
     "metadata": {},
     "output_type": "display_data"
    },
    {
     "data": {
      "application/javascript": [
       "\n",
       "        $('span:contains(\"# Temp\")').closest('.cell').remove();\n",
       "        var code = IPython.notebook.insert_cell_below('code');\n",
       "        code.set_text(atob(\"IyBUZW1wCmluc2VydCgnJycKa2V1bmcyMDA5YSA9IERCKFdvcmsoCiAgICAyMDA5LCAiU29mdHdhcmUgZGV2ZWxvcG1lbnQgY29zdCBlc3RpbWF0aW9uIHVzaW5nIGFuYWxvZ3k6IGEgcmV2aWV3IiwKICAgIGRpc3BsYXk9ImtldW5nIiwKICAgIGF1dGhvcnM9IktldW5nLCBKYWNreSIsCiAgICBwcD0iMzI3LS0zMzYiLAogICAgcGxhY2UxPSJTb2Z0d2FyZSBFbmdpbmVlcmluZyBDb25mZXJlbmNlLCAyMDA5LiBBU1dFQycwOS4gQXVzdHJhbGlhbiIsCiAgICBlbnRyeXR5cGU9ImlucHJvY2VlZGluZ3MiLAogICAgb3JnYW5pemF0aW9uPSJJRUVFIiwKICAgIElEPSJrZXVuZzIwMDlzb2Z0d2FyZSIsCiAgICBjbHVzdGVyX2lkPSI2NDE1NTE2MjcwNzIyNjQwMzk0IiwKICAgIHNjaG9sYXI9Imh0dHA6Ly9zY2hvbGFyLmdvb2dsZS5jb20vc2Nob2xhcj9jaXRlcz02NDE1NTE2MjcwNzIyNjQwMzk0JmFzX3NkdD0yMDA1JnNjaW9kdD0wLDUmaGw9ZW4iLAopKQoKREIoQ2l0YXRpb24oCiAgICBrZXVuZzIwMDlhLCBtZW5kZXMyMDA0YSwgcmVmPSIiLAogICAgY29udGV4dHM9WwoKICAgIF0sCikpCgonJycsIGNpdGF0aW9ucz0nbWVuZGVzMjAwNGEnKTs=\"));\n",
       "    "
      ],
      "text/plain": [
       "<IPython.core.display.Javascript object>"
      ]
     },
     "metadata": {},
     "output_type": "display_data"
    },
    {
     "data": {
      "application/javascript": [
       "$('span:contains(\"# Temp\")').closest('.cell').remove();"
      ],
      "text/plain": [
       "<IPython.core.display.Javascript object>"
      ]
     },
     "metadata": {},
     "output_type": "display_data"
    },
    {
     "data": {
      "application/javascript": [
       "\n",
       "        $('span:contains(\"# Temp\")').closest('.cell').remove();\n",
       "        var code = IPython.notebook.insert_cell_below('code');\n",
       "        code.set_text(atob(\"IyBUZW1wCmluc2VydCgnJycKa2V1bmcyMDA5YSA9IERCKFdvcmtVbnJlbGF0ZWQoCiAgICAyMDA5LCAiU29mdHdhcmUgZGV2ZWxvcG1lbnQgY29zdCBlc3RpbWF0aW9uIHVzaW5nIGFuYWxvZ3k6IGEgcmV2aWV3IiwKICAgIGRpc3BsYXk9ImtldW5nIiwKICAgIGF1dGhvcnM9IktldW5nLCBKYWNreSIsCiAgICBwcD0iMzI3LS0zMzYiLAogICAgcGxhY2UxPSJTb2Z0d2FyZSBFbmdpbmVlcmluZyBDb25mZXJlbmNlLCAyMDA5LiBBU1dFQycwOS4gQXVzdHJhbGlhbiIsCiAgICBlbnRyeXR5cGU9ImlucHJvY2VlZGluZ3MiLAogICAgb3JnYW5pemF0aW9uPSJJRUVFIiwKICAgIElEPSJrZXVuZzIwMDlzb2Z0d2FyZSIsCiAgICBjbHVzdGVyX2lkPSI2NDE1NTE2MjcwNzIyNjQwMzk0IiwKICAgIHNjaG9sYXI9Imh0dHA6Ly9zY2hvbGFyLmdvb2dsZS5jb20vc2Nob2xhcj9jaXRlcz02NDE1NTE2MjcwNzIyNjQwMzk0JmFzX3NkdD0yMDA1JnNjaW9kdD0wLDUmaGw9ZW4iLAopKQoKREIoQ2l0YXRpb24oCiAgICBrZXVuZzIwMDlhLCBtZW5kZXMyMDA0YSwgcmVmPSIiLAogICAgY29udGV4dHM9WwoKICAgIF0sCikpCgonJycsIGNpdGF0aW9ucz0nbWVuZGVzMjAwNGEnKTs=\"));\n",
       "    "
      ],
      "text/plain": [
       "<IPython.core.display.Javascript object>"
      ]
     },
     "metadata": {},
     "output_type": "display_data"
    },
    {
     "data": {
      "application/javascript": [
       "$('span:contains(\"# Temp\")').closest('.cell').remove();"
      ],
      "text/plain": [
       "<IPython.core.display.Javascript object>"
      ]
     },
     "metadata": {},
     "output_type": "display_data"
    },
    {
     "data": {
      "application/javascript": [
       "\n",
       "        $('span:contains(\"# Temp\")').closest('.cell').remove();\n",
       "        var code = IPython.notebook.insert_cell_below('code');\n",
       "        code.set_text(atob(\"IyBUZW1wCmluc2VydCgnJycKbWVuZGVzMjAwN2IgPSBEQihXb3JrVW5yZWxhdGVkKAogICAgMjAwNywgIkEgY29tcGFyaXNvbiBvZiB0ZWNobmlxdWVzIGZvciB3ZWIgZWZmb3J0IGVzdGltYXRpb24iLAogICAgZGlzcGxheT0ibWVuZGVzIGIiLAogICAgYXV0aG9ycz0iTWVuZGVzLCBFbWlsaWEiLAogICAgcGxhY2U9RVNFTSwKICAgIHBwPSIzMzQtLTM0MyIsCiAgICBlbnRyeXR5cGU9ImlucHJvY2VlZGluZ3MiLAogICAgb3JnYW5pemF0aW9uPSJJRUVFIiwKICAgIElEPSJtZW5kZXMyMDA3Y29tcGFyaXNvbiIsCiAgICBjbHVzdGVyX2lkPSIxMzMxMDAzNjE2OTIyNDA2MTk1MiIsCiAgICBzY2hvbGFyPSJodHRwOi8vc2Nob2xhci5nb29nbGUuY29tL3NjaG9sYXI/Y2l0ZXM9MTMzMTAwMzYxNjkyMjQwNjE5NTImYXNfc2R0PTIwMDUmc2Npb2R0PTAsNSZobD1lbiIsCikpCgpEQihDaXRhdGlvbigKICAgIG1lbmRlczIwMDdiLCBtZW5kZXMyMDA0YSwgcmVmPSIiLAogICAgY29udGV4dHM9WwoKICAgIF0sCikpCgonJycsIGNpdGF0aW9ucz0nbWVuZGVzMjAwNGEnKTs=\"));\n",
       "    "
      ],
      "text/plain": [
       "<IPython.core.display.Javascript object>"
      ]
     },
     "metadata": {},
     "output_type": "display_data"
    },
    {
     "data": {
      "application/javascript": [
       "$('span:contains(\"# Temp\")').closest('.cell').remove();"
      ],
      "text/plain": [
       "<IPython.core.display.Javascript object>"
      ]
     },
     "metadata": {},
     "output_type": "display_data"
    },
    {
     "data": {
      "application/javascript": [
       "\n",
       "        $('span:contains(\"# Temp\")').closest('.cell').remove();\n",
       "        var code = IPython.notebook.insert_cell_below('code');\n",
       "        code.set_text(atob(\"IyBUZW1wCmluc2VydCgnJycKbWVuZGVzMjAwN2IgPSBEQihXb3JrKAogICAgMjAwNywgIkEgY29tcGFyaXNvbiBvZiB0ZWNobmlxdWVzIGZvciB3ZWIgZWZmb3J0IGVzdGltYXRpb24iLAogICAgZGlzcGxheT0ibWVuZGVzIGIiLAogICAgYXV0aG9ycz0iTWVuZGVzLCBFbWlsaWEiLAogICAgcGxhY2U9RVNFTSwKICAgIHBwPSIzMzQtLTM0MyIsCiAgICBlbnRyeXR5cGU9ImlucHJvY2VlZGluZ3MiLAogICAgb3JnYW5pemF0aW9uPSJJRUVFIiwKICAgIElEPSJtZW5kZXMyMDA3Y29tcGFyaXNvbiIsCiAgICBjbHVzdGVyX2lkPSIxMzMxMDAzNjE2OTIyNDA2MTk1MiIsCiAgICBzY2hvbGFyPSJodHRwOi8vc2Nob2xhci5nb29nbGUuY29tL3NjaG9sYXI/Y2l0ZXM9MTMzMTAwMzYxNjkyMjQwNjE5NTImYXNfc2R0PTIwMDUmc2Npb2R0PTAsNSZobD1lbiIsCikpCgpEQihDaXRhdGlvbigKICAgIG1lbmRlczIwMDdiLCBtZW5kZXMyMDA0YSwgcmVmPSIiLAogICAgY29udGV4dHM9WwoKICAgIF0sCikpCgonJycsIGNpdGF0aW9ucz0nbWVuZGVzMjAwNGEnKTs=\"));\n",
       "    "
      ],
      "text/plain": [
       "<IPython.core.display.Javascript object>"
      ]
     },
     "metadata": {},
     "output_type": "display_data"
    },
    {
     "data": {
      "application/javascript": [
       "$('span:contains(\"# Temp\")').closest('.cell').remove();"
      ],
      "text/plain": [
       "<IPython.core.display.Javascript object>"
      ]
     },
     "metadata": {},
     "output_type": "display_data"
    },
    {
     "data": {
      "application/javascript": [
       "\n",
       "        $('span:contains(\"# Temp\")').closest('.cell').remove();\n",
       "        var code = IPython.notebook.insert_cell_below('code');\n",
       "        code.set_text(atob(\"IyBUZW1wCmluc2VydCgnJycKbWVuZGVzMjAwN2IgPSBEQihXb3JrT2soCiAgICAyMDA3LCAiQSBjb21wYXJpc29uIG9mIHRlY2huaXF1ZXMgZm9yIHdlYiBlZmZvcnQgZXN0aW1hdGlvbiIsCiAgICBkaXNwbGF5PSJtZW5kZXMgYiIsCiAgICBhdXRob3JzPSJNZW5kZXMsIEVtaWxpYSIsCiAgICBwbGFjZT1FU0VNLAogICAgcHA9IjMzNC0tMzQzIiwKICAgIGVudHJ5dHlwZT0iaW5wcm9jZWVkaW5ncyIsCiAgICBvcmdhbml6YXRpb249IklFRUUiLAogICAgSUQ9Im1lbmRlczIwMDdjb21wYXJpc29uIiwKICAgIGNsdXN0ZXJfaWQ9IjEzMzEwMDM2MTY5MjI0MDYxOTUyIiwKICAgIHNjaG9sYXI9Imh0dHA6Ly9zY2hvbGFyLmdvb2dsZS5jb20vc2Nob2xhcj9jaXRlcz0xMzMxMDAzNjE2OTIyNDA2MTk1MiZhc19zZHQ9MjAwNSZzY2lvZHQ9MCw1JmhsPWVuIiwKKSkKCkRCKENpdGF0aW9uKAogICAgbWVuZGVzMjAwN2IsIG1lbmRlczIwMDRhLCByZWY9IiIsCiAgICBjb250ZXh0cz1bCgogICAgXSwKKSkKCicnJywgY2l0YXRpb25zPSdtZW5kZXMyMDA0YScpOw==\"));\n",
       "    "
      ],
      "text/plain": [
       "<IPython.core.display.Javascript object>"
      ]
     },
     "metadata": {},
     "output_type": "display_data"
    },
    {
     "data": {
      "application/javascript": [
       "$('span:contains(\"# Temp\")').closest('.cell').remove();"
      ],
      "text/plain": [
       "<IPython.core.display.Javascript object>"
      ]
     },
     "metadata": {},
     "output_type": "display_data"
    },
    {
     "data": {
      "application/javascript": [
       "\n",
       "        $('span:contains(\"# Temp\")').closest('.cell').remove();\n",
       "        var code = IPython.notebook.insert_cell_below('code');\n",
       "        code.set_text(atob(\"IyBUZW1wCmluc2VydCgnJycKbWVuZGVzMjAwN2IgPSBEQihXb3JrVW5yZWxhdGVkKAogICAgMjAwNywgIkEgY29tcGFyaXNvbiBvZiB0ZWNobmlxdWVzIGZvciB3ZWIgZWZmb3J0IGVzdGltYXRpb24iLAogICAgZGlzcGxheT0ibWVuZGVzIGIiLAogICAgYXV0aG9ycz0iTWVuZGVzLCBFbWlsaWEiLAogICAgcGxhY2U9RVNFTSwKICAgIHBwPSIzMzQtLTM0MyIsCiAgICBlbnRyeXR5cGU9ImlucHJvY2VlZGluZ3MiLAogICAgb3JnYW5pemF0aW9uPSJJRUVFIiwKICAgIElEPSJtZW5kZXMyMDA3Y29tcGFyaXNvbiIsCiAgICBjbHVzdGVyX2lkPSIxMzMxMDAzNjE2OTIyNDA2MTk1MiIsCiAgICBzY2hvbGFyPSJodHRwOi8vc2Nob2xhci5nb29nbGUuY29tL3NjaG9sYXI/Y2l0ZXM9MTMzMTAwMzYxNjkyMjQwNjE5NTImYXNfc2R0PTIwMDUmc2Npb2R0PTAsNSZobD1lbiIsCikpCgpEQihDaXRhdGlvbigKICAgIG1lbmRlczIwMDdiLCBtZW5kZXMyMDA0YSwgcmVmPSIiLAogICAgY29udGV4dHM9WwoKICAgIF0sCikpCgonJycsIGNpdGF0aW9ucz0nbWVuZGVzMjAwNGEnKTs=\"));\n",
       "    "
      ],
      "text/plain": [
       "<IPython.core.display.Javascript object>"
      ]
     },
     "metadata": {},
     "output_type": "display_data"
    },
    {
     "data": {
      "application/javascript": [
       "$('span:contains(\"# Temp\")').closest('.cell').remove();"
      ],
      "text/plain": [
       "<IPython.core.display.Javascript object>"
      ]
     },
     "metadata": {},
     "output_type": "display_data"
    },
    {
     "data": {
      "application/javascript": [
       "\n",
       "        $('span:contains(\"# Temp\")').closest('.cell').remove();\n",
       "        var code = IPython.notebook.insert_cell_below('code');\n",
       "        code.set_text(atob(\"IyBUZW1wCmluc2VydCgnJycKREIoQ2l0YXRpb24oCiAgICBtZW5kZXMyMDA4YiwgbWVuZGVzMjAwNGEsIHJlZj0iIiwKICAgIGNvbnRleHRzPVsKCiAgICBdLAopKQoKJycnLCBjaXRhdGlvbnM9J21lbmRlczIwMDRhJyk7CnNldF9hdHRyaWJ1dGUoJ21lbmRlczIwMDhiJywgJ2V4Y2VycHQnLCAnSW4gMjAwNCBbS2l0Y2hlbmhhbSwgQkEsIE1lbmRlcywgRS4sIDIwMDRhLiBTb2Z0d2FyZSBwcm9kdWN0aXZpdHkgbWVhc3VyZW1lbnQgdXNpbmcgbXVsdGlwbGUgc2l6ZSBtZWFzdXJlcy4gSUVFRSBUcmFuc2FjdGlvbnMgb24gU29mdHdhcmUgRW5naW5lZXJpbmcgMzAgKDEyKSwgMTAyM5YxMDM1LCBLaXRjaGVuaGFtLCBCQSwgTWVuZGVzLCBFLiwgMjAwNGIuIEEgY29tcGFyaXNvbiBvZiBjcm9zcy1jb21wYW55IGFuZCBzaW5nbGUtY29tcGFueSAnKTs=\"));\n",
       "    "
      ],
      "text/plain": [
       "<IPython.core.display.Javascript object>"
      ]
     },
     "metadata": {},
     "output_type": "display_data"
    },
    {
     "data": {
      "application/javascript": [
       "$('span:contains(\"# Temp\")').closest('.cell').remove();"
      ],
      "text/plain": [
       "<IPython.core.display.Javascript object>"
      ]
     },
     "metadata": {},
     "output_type": "display_data"
    },
    {
     "data": {
      "application/javascript": [
       "\n",
       "        $('span:contains(\"# Temp\")').closest('.cell').remove();\n",
       "        var code = IPython.notebook.insert_cell_below('code');\n",
       "        code.set_text(atob(\"IyBUZW1wCmluc2VydCgnJycKREIoQ2l0YXRpb24oCiAgICBtZW5kZXMyMDA4YiwgbWVuZGVzMjAwNGEsIHJlZj0iIiwKICAgIGNvbnRleHRzPVsKCiAgICBdLAopKQoKJycnLCBjaXRhdGlvbnM9J21lbmRlczIwMDRhJyk7CnNldF9hdHRyaWJ1dGUoJ21lbmRlczIwMDhiJywgJ2V4Y2VycHQnLCAnSW4gMjAwNCBbS2l0Y2hlbmhhbSwgQkEsIE1lbmRlcywgRS4sIDIwMDRhLiBTb2Z0d2FyZSBwcm9kdWN0aXZpdHkgbWVhc3VyZW1lbnQgdXNpbmcgbXVsdGlwbGUgc2l6ZSBtZWFzdXJlcy4gSUVFRSBUcmFuc2FjdGlvbnMgb24gU29mdHdhcmUgRW5naW5lZXJpbmcgMzAgKDEyKSwgMTAyM5YxMDM1LCBLaXRjaGVuaGFtLCBCQSwgTWVuZGVzLCBFLiwgMjAwNGIuIEEgY29tcGFyaXNvbiBvZiBjcm9zcy1jb21wYW55IGFuZCBzaW5nbGUtY29tcGFueSAnKTs=\"));\n",
       "    "
      ],
      "text/plain": [
       "<IPython.core.display.Javascript object>"
      ]
     },
     "metadata": {},
     "output_type": "display_data"
    },
    {
     "data": {
      "application/javascript": [
       "$('span:contains(\"# Temp\")').closest('.cell').remove();"
      ],
      "text/plain": [
       "<IPython.core.display.Javascript object>"
      ]
     },
     "metadata": {},
     "output_type": "display_data"
    },
    {
     "data": {
      "application/javascript": [
       "\n",
       "        $('span:contains(\"# Temp\")').closest('.cell').remove();\n",
       "        var code = IPython.notebook.insert_cell_below('code');\n",
       "        code.set_text(atob(\"IyBUZW1wCmluc2VydCgnJycKREIoQ2l0YXRpb24oCiAgICBtZW5kZXMyMDA4YiwgbWVuZGVzMjAwNGEsIHJlZj0iIiwKICAgIGNvbnRleHRzPVsKCiAgICBdLAopKQoKJycnLCBjaXRhdGlvbnM9J21lbmRlczIwMDRhJyk7CnNldF9hdHRyaWJ1dGUoJ21lbmRlczIwMDhiJywgJ2V4Y2VycHQnLCAnSW4gMjAwNCBbS2l0Y2hlbmhhbSwgQkEsIE1lbmRlcywgRS4sIDIwMDRhLiBTb2Z0d2FyZSBwcm9kdWN0aXZpdHkgbWVhc3VyZW1lbnQgdXNpbmcgbXVsdGlwbGUgc2l6ZSBtZWFzdXJlcy4gSUVFRSBUcmFuc2FjdGlvbnMgb24gU29mdHdhcmUgRW5naW5lZXJpbmcgMzAgKDEyKSwgMTAyM5YxMDM1LCBLaXRjaGVuaGFtLCBCQSwgTWVuZGVzLCBFLiwgMjAwNGIuIEEgY29tcGFyaXNvbiBvZiBjcm9zcy1jb21wYW55IGFuZCBzaW5nbGUtY29tcGFueSAnKTs=\"));\n",
       "    "
      ],
      "text/plain": [
       "<IPython.core.display.Javascript object>"
      ]
     },
     "metadata": {},
     "output_type": "display_data"
    },
    {
     "data": {
      "application/javascript": [
       "$('span:contains(\"# Temp\")').closest('.cell').remove();"
      ],
      "text/plain": [
       "<IPython.core.display.Javascript object>"
      ]
     },
     "metadata": {},
     "output_type": "display_data"
    },
    {
     "data": {
      "application/javascript": [
       "\n",
       "        $('span:contains(\"# Temp\")').closest('.cell').remove();\n",
       "        var code = IPython.notebook.insert_cell_below('code');\n",
       "        code.set_text(atob(\"IyBUZW1wCmluc2VydCgnJycKREIoQ2l0YXRpb24oCiAgICBtZW5kZXMyMDA4YywgbWVuZGVzMjAwNGEsIHJlZj0iIiwKICAgIGNvbnRleHRzPVsKCiAgICBdLAopKQoKJycnLCBjaXRhdGlvbnM9J21lbmRlczIwMDRhJyk7CnNldF9hdHRyaWJ1dGUoJ21lbmRlczIwMDhjJywgJ2V4Y2VycHQnLCAnQWJzdHJhY3Q6IFRoZSBvYmplY3RpdmUgb2YgdGhpcyBwYXBlciBpcyB0byBmdXJ0aGVyIGludmVzdGlnYXRlIHRoZSB1c2Ugb2YgQmF5ZXNpYW4gTmV0d29ya3MgKEJOKSBmb3IgV2ViIGVmZm9ydCBlc3RpbWF0aW9uIHdoZW4gdXNpbmcgYSBjcm9zcy1jb21wYW55IGRhdGFzZXQuIEZvdXIgQk5zIHdlcmUgYnVpbHQ7IHR3byBhdXRvbWF0aWNhbGx5IHVzaW5nIHRoZSBIdWdpbiB0b29sIHdpdGggdHdvIHRyYWluaW5nIHNldHM7IHR3byB1c2luZyBhIHN0cnVjdHVyZSBlbGljaXRlZCBieSAnKTs=\"));\n",
       "    "
      ],
      "text/plain": [
       "<IPython.core.display.Javascript object>"
      ]
     },
     "metadata": {},
     "output_type": "display_data"
    }
   ],
   "source": [
    "manager\n"
   ]
  },
  {
   "cell_type": "code",
   "execution_count": null,
   "metadata": {
    "collapsed": true
   },
   "outputs": [],
   "source": [
    "# Temp\n",
    "insert('''\n",
    "DB(Citation(\n",
    "    mendes2008c, mendes2004a, ref=\"\",\n",
    "    contexts=[\n",
    "\n",
    "    ],\n",
    "))\n",
    "\n",
    "''', citations='mendes2004a');\n",
    "set_attribute('mendes2008c', 'excerpt', 'Abstract: The objective of this paper is to further investigate the use of Bayesian Networks (BN) for Web effort estimation when using a cross-company dataset. Four BNs were built; two automatically using the Hugin tool with two training sets; two using a structure elicited by ');"
   ]
  },
  {
   "cell_type": "code",
   "execution_count": null,
   "metadata": {
    "collapsed": true
   },
   "outputs": [],
   "source": []
  }
 ],
 "metadata": {
  "kernelspec": {
   "display_name": "Python 3",
   "language": "python",
   "name": "python3"
  },
  "language_info": {
   "codemirror_mode": {
    "name": "ipython",
    "version": 3
   },
   "file_extension": ".py",
   "mimetype": "text/x-python",
   "name": "python",
   "nbconvert_exporter": "python",
   "pygments_lexer": "ipython3",
   "version": "3.6.0"
  },
  "toc": {
   "nav_menu": {
    "height": "12px",
    "width": "252px"
   },
   "navigate_menu": true,
   "number_sections": true,
   "sideBar": true,
   "threshold": 4,
   "toc_cell": false,
   "toc_section_display": "block",
   "toc_window_display": false
  }
 },
 "nbformat": 4,
 "nbformat_minor": 1
}
