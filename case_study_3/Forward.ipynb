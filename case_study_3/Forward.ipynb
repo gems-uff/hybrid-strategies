{
 "cells": [
  {
   "cell_type": "code",
   "execution_count": 19,
   "metadata": {},
   "outputs": [],
   "source": [
    "import database\n",
    "from snowballing.operations import load_work, reload, work_by_varname\n",
    "from snowballing.selenium_scholar import SeleniumScholarQuerier\n",
    "from snowballing.snowballing import ForwardSnowballing\n",
    "from snowballing.dbmanager import insert, set_attribute\n",
    "from custom_snowballing import UnrelatedForward"
   ]
  },
  {
   "cell_type": "code",
   "execution_count": 2,
   "metadata": {
    "collapsed": true
   },
   "outputs": [],
   "source": [
    "querier = SeleniumScholarQuerier()"
   ]
  },
  {
   "cell_type": "code",
   "execution_count": 3,
   "metadata": {
    "scrolled": true
   },
   "outputs": [
    {
     "name": "stderr",
     "output_type": "stream",
     "text": [
      "[ INFO]  settings applied\n"
     ]
    }
   ],
   "source": [
    "querier.apply_settings(20, 4);"
   ]
  },
  {
   "cell_type": "code",
   "execution_count": 20,
   "metadata": {},
   "outputs": [],
   "source": [
    "#manager = ForwardSnowballing(querier, \"mendes2004a\", start=60)\n",
    "manager = UnrelatedForward(querier, \"mendes2004a\", start=60)"
   ]
  },
  {
   "cell_type": "code",
   "execution_count": 21,
   "metadata": {
    "scrolled": true
   },
   "outputs": [
    {
     "data": {
      "application/vnd.jupyter.widget-view+json": {
       "model_id": "b67e0a52de2e4aecbfc4fe181c7497f7",
       "version_major": 2,
       "version_minor": 0
      },
      "text/html": [
       "<p>Failed to display Jupyter Widget of type <code>Tab</code>.</p>\n",
       "<p>\n",
       "  If you're reading this message in Jupyter Notebook or JupyterLab, it may mean\n",
       "  that the widgets JavaScript is still loading. If this message persists, it\n",
       "  likely means that the widgets JavaScript library is either not installed or\n",
       "  not enabled. See the <a href=\"https://ipywidgets.readthedocs.io/en/stable/user_install.html\">Jupyter\n",
       "  Widgets Documentation</a> for setup instructions.\n",
       "</p>\n",
       "<p>\n",
       "  If you're reading this message in another notebook frontend (for example, a static\n",
       "  rendering on GitHub or <a href=\"https://nbviewer.jupyter.org/\">NBViewer</a>),\n",
       "  it may mean that your frontend doesn't currently support widgets.\n",
       "</p>\n"
      ],
      "text/plain": [
       "Tab(children=(VBox(children=(HBox(children=(Button(description='Previous Page', icon='arrow-left', style=ButtonStyle()), Button(description='Reload', icon='refresh', style=ButtonStyle()), Button(description='Next Page', icon='arrow-right', style=ButtonStyle()), ToggleButton(value=False, description='Debug'), Label(value='60'))), Output())), VBox(children=(HBox(children=(Button(description='Previous Article', disabled=True, icon='caret-left', style=ButtonStyle()), Button(description='Reload Article', icon='refresh', style=ButtonStyle()), Button(description='Next Article', icon='caret-right', style=ButtonStyle()))), HBox(children=(Button(description='Unrelated: Scripts', style=ButtonStyle()), Button(description='Unrelated: Provenance', style=ButtonStyle()), Button(description='Both', style=ButtonStyle()), Button(description='Ok', style=ButtonStyle()))), HBox(children=(Dropdown(description='Type', index=5, options=('Work', 'WorkSnowball', 'WorkForward', 'WorkBackward', 'WorkOk', 'WorkUnrelated', 'WorkNoFile', 'WorkLang', 'Site', 'Email'), value='WorkUnrelated'), ToggleButton(value=False, description='File'))), HBox(children=(Text(value='', description='Due'), Text(value='', description='Place'))), HBox(children=(Text(value='', description='Year'), Text(value='', description='Prefix Var'))), HBox(children=(Text(value='', description='PDFPage'), Text(value='', description='Related'))), HBox(children=(Text(value='', description='Display'), Text(value='', description='Summary'))), HBox(children=(Text(value='', description='Star'), Text(value='', description='Link'))), HBox(children=(Button(description='Reload Article', icon='refresh', style=ButtonStyle()), IntSlider(value=0, max=18), Label(value='1/19'))), Output()))), _titles={'0': 'Page', '1': 'Article'})"
      ]
     },
     "metadata": {},
     "output_type": "display_data"
    },
    {
     "data": {
      "application/javascript": [
       "$('span:contains(\"# Temp\")').closest('.cell').remove();"
      ],
      "text/plain": [
       "<IPython.core.display.Javascript object>"
      ]
     },
     "metadata": {},
     "output_type": "display_data"
    },
    {
     "data": {
      "application/javascript": [
       "\n",
       "        $('span:contains(\"# Temp\")').closest('.cell').remove();\n",
       "        var code = IPython.notebook.insert_cell_below('code');\n",
       "        code.set_text(atob(\"IyBUZW1wCmluc2VydCgnJycKZmVycnVjY2kyMDEwYyA9IERCKFdvcmtVbnJlbGF0ZWQoCiAgICAyMDEwLCAiRXN0aW1hdGluZyB3ZWIgYXBwbGljYXRpb24gZGV2ZWxvcG1lbnQgZWZmb3J0IHVzaW5nIGNvc21pYzogSW1wYWN0IG9mIHRoZSBiYXNlIGZ1bmN0aW9uYWwgY29tcG9uZW50IHR5cGVzIiwKICAgIGRpc3BsYXk9ImZlcnJ1Y2NpIGMiLAogICAgYXV0aG9ycz0iRmVycnVjY2ksIEZpbG9tZW5hIGFuZCBHcmF2aW5vLCBDYXJtaW5lIGFuZCBCdWdsaW9uZSwgTHVpZ2kiLAogICAgcHA9IjEwMy0tMTE2IiwKICAgIHBsYWNlMT0iU29mLiBNZWFzdXJlbWVudCBFdXJvcGVhbiBGb3J1bSIsCiAgICBlbnRyeXR5cGU9ImlucHJvY2VlZGluZ3MiLAogICAgSUQ9ImZlcnJ1Y2NpMjAxMGVzdGltYXRpbmciLAogICAgY2x1c3Rlcl9pZD0iMTQ1NjkwMDU1MDM5OTA0NzQ0NTAiLAogICAgc2Nob2xhcj0iaHR0cDovL3NjaG9sYXIuZ29vZ2xlLmNvbS9zY2hvbGFyP2NpdGVzPTE0NTY5MDA1NTAzOTkwNDc0NDUwJmFzX3NkdD0yMDA1JnNjaW9kdD0wLDUmaGw9ZW4iLAopKQoKREIoQ2l0YXRpb24oCiAgICBmZXJydWNjaTIwMTBjLCBtZW5kZXMyMDA0YSwgcmVmPSIiLAogICAgY29udGV4dHM9WwoKICAgIF0sCikpCgonJycsIGNpdGF0aW9ucz0nbWVuZGVzMjAwNGEnKTs=\"));\n",
       "    "
      ],
      "text/plain": [
       "<IPython.core.display.Javascript object>"
      ]
     },
     "metadata": {},
     "output_type": "display_data"
    }
   ],
   "source": [
    "manager"
   ]
  },
  {
   "cell_type": "code",
   "execution_count": null,
   "metadata": {
    "collapsed": true
   },
   "outputs": [],
   "source": [
    "# Temp\n",
    "insert('''\n",
    "ferrucci2010c = DB(WorkUnrelated(\n",
    "    2010, \"Estimating web application development effort using cosmic: Impact of the base functional component types\",\n",
    "    display=\"ferrucci c\",\n",
    "    authors=\"Ferrucci, Filomena and Gravino, Carmine and Buglione, Luigi\",\n",
    "    pp=\"103--116\",\n",
    "    place1=\"Sof. Measurement European Forum\",\n",
    "    entrytype=\"inproceedings\",\n",
    "    ID=\"ferrucci2010estimating\",\n",
    "    cluster_id=\"14569005503990474450\",\n",
    "    scholar=\"http://scholar.google.com/scholar?cites=14569005503990474450&as_sdt=2005&sciodt=0,5&hl=en\",\n",
    "))\n",
    "\n",
    "DB(Citation(\n",
    "    ferrucci2010c, mendes2004a, ref=\"\",\n",
    "    contexts=[\n",
    "\n",
    "    ],\n",
    "))\n",
    "\n",
    "''', citations='mendes2004a');"
   ]
  },
  {
   "cell_type": "code",
   "execution_count": null,
   "metadata": {
    "collapsed": true
   },
   "outputs": [],
   "source": []
  }
 ],
 "metadata": {
  "kernelspec": {
   "display_name": "Python 3",
   "language": "python",
   "name": "python3"
  },
  "language_info": {
   "codemirror_mode": {
    "name": "ipython",
    "version": 3
   },
   "file_extension": ".py",
   "mimetype": "text/x-python",
   "name": "python",
   "nbconvert_exporter": "python",
   "pygments_lexer": "ipython3",
   "version": "3.6.0"
  },
  "toc": {
   "nav_menu": {
    "height": "12px",
    "width": "252px"
   },
   "navigate_menu": true,
   "number_sections": true,
   "sideBar": true,
   "threshold": 4,
   "toc_cell": false,
   "toc_section_display": "block",
   "toc_window_display": false
  }
 },
 "nbformat": 4,
 "nbformat_minor": 1
}
