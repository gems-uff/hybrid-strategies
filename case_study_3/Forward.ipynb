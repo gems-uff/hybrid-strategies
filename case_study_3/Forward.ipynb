{
 "cells": [
  {
   "cell_type": "code",
   "execution_count": 1,
   "metadata": {
    "collapsed": true
   },
   "outputs": [],
   "source": [
    "import database\n",
    "from snowballing.operations import load_work, reload, work_by_varname\n",
    "from snowballing.selenium_scholar import SeleniumScholarQuerier\n",
    "from snowballing.snowballing import ForwardSnowballing\n",
    "from snowballing.dbmanager import insert, set_attribute"
   ]
  },
  {
   "cell_type": "code",
   "execution_count": 2,
   "metadata": {
    "collapsed": true
   },
   "outputs": [],
   "source": [
    "querier = SeleniumScholarQuerier()"
   ]
  },
  {
   "cell_type": "code",
   "execution_count": 3,
   "metadata": {
    "scrolled": true
   },
   "outputs": [
    {
     "name": "stderr",
     "output_type": "stream",
     "text": [
      "[ INFO]  settings applied\n"
     ]
    }
   ],
   "source": [
    "querier.apply_settings(20, 4);"
   ]
  },
  {
   "cell_type": "code",
   "execution_count": 14,
   "metadata": {},
   "outputs": [],
   "source": [
    "manager = ForwardSnowballing(querier, \"mendes2004a\", start=0)"
   ]
  },
  {
   "cell_type": "code",
   "execution_count": 15,
   "metadata": {
    "scrolled": true
   },
   "outputs": [
    {
     "data": {
      "application/vnd.jupyter.widget-view+json": {
       "model_id": "e7caf7039a3749b498a86e1466b4e8c0",
       "version_major": 2,
       "version_minor": 0
      },
      "text/html": [
       "<p>Failed to display Jupyter Widget of type <code>Tab</code>.</p>\n",
       "<p>\n",
       "  If you're reading this message in Jupyter Notebook or JupyterLab, it may mean\n",
       "  that the widgets JavaScript is still loading. If this message persists, it\n",
       "  likely means that the widgets JavaScript library is either not installed or\n",
       "  not enabled. See the <a href=\"https://ipywidgets.readthedocs.io/en/stable/user_install.html\">Jupyter\n",
       "  Widgets Documentation</a> for setup instructions.\n",
       "</p>\n",
       "<p>\n",
       "  If you're reading this message in another notebook frontend (for example, a static\n",
       "  rendering on GitHub or <a href=\"https://nbviewer.jupyter.org/\">NBViewer</a>),\n",
       "  it may mean that your frontend doesn't currently support widgets.\n",
       "</p>\n"
      ],
      "text/plain": [
       "Tab(children=(VBox(children=(HBox(children=(Button(description='Previous Page', disabled=True, icon='arrow-left', style=ButtonStyle()), Button(description='Reload', icon='refresh', style=ButtonStyle()), Button(description='Next Page', icon='arrow-right', style=ButtonStyle()), ToggleButton(value=False, description='Debug'), Label(value='0'))), Output())), VBox(children=(HBox(children=(Button(description='Previous Article', disabled=True, icon='caret-left', style=ButtonStyle()), Button(description='Reload Article', icon='refresh', style=ButtonStyle()), Button(description='Next Article', icon='caret-right', style=ButtonStyle()))), HBox(children=(Button(description='Unrelated: Scripts', style=ButtonStyle()), Button(description='Unrelated: Provenance', style=ButtonStyle()), Button(description='Both', style=ButtonStyle()), Button(description='Ok', style=ButtonStyle()))), HBox(children=(Dropdown(description='Type', options=('Work', 'WorkSnowball', 'WorkForward', 'WorkBackward', 'WorkOk', 'WorkUnrelated', 'WorkNoFile', 'WorkLang', 'Site', 'Email'), value='Work'), ToggleButton(value=False, description='File'))), HBox(children=(Text(value='', description='Due'), Text(value='', description='Place'))), HBox(children=(Text(value='', description='Year'), Text(value='', description='Prefix Var'))), HBox(children=(Text(value='', description='PDFPage'), Text(value='', description='Related'))), HBox(children=(Text(value='', description='Display'), Text(value='', description='Summary'))), HBox(children=(Text(value='', description='Star'), Text(value='', description='Link'))), HBox(children=(Button(description='Reload Article', icon='refresh', style=ButtonStyle()), IntSlider(value=0, max=19), Label(value='1/20'))), Output()))), _titles={'0': 'Page', '1': 'Article'})"
      ]
     },
     "metadata": {},
     "output_type": "display_data"
    },
    {
     "data": {
      "application/javascript": [
       "$('span:contains(\"# Temp\")').closest('.cell').remove();"
      ],
      "text/plain": [
       "<IPython.core.display.Javascript object>"
      ]
     },
     "metadata": {},
     "output_type": "display_data"
    },
    {
     "data": {
      "application/javascript": [
       "\n",
       "        $('span:contains(\"# Temp\")').closest('.cell').remove();\n",
       "        var code = IPython.notebook.insert_cell_below('code');\n",
       "        code.set_text(atob(\"IyBUZW1wCmluc2VydCgnJycKemltbWVybWFubjIwMDlhID0gREIoV29yaygKICAgIDIwMDksICJDcm9zcy1wcm9qZWN0IGRlZmVjdCBwcmVkaWN0aW9uOiBhIGxhcmdlIHNjYWxlIGV4cGVyaW1lbnQgb24gZGF0YSB2cy4gZG9tYWluIHZzLiBwcm9jZXNzIiwKICAgIGRpc3BsYXk9InppbW1lcm1hbm4iLAogICAgYXV0aG9ycz0iWmltbWVybWFubiwgVGhvbWFzIGFuZCBOYWdhcHBhbiwgTmFjaGlhcHBhbiBhbmQgR2FsbCwgSGFyYWxkIGFuZCBHaWdlciwgRW1hbnVlbCBhbmQgTXVycGh5LCBCcmVuZGFuIiwKICAgIHBwPSI5MS0tMTAwIiwKICAgIHBsYWNlMT0iUHJvY2VlZGluZ3Mgb2YgdGhlIHRoZSA3dGggam9pbnQgbWVldGluZyBvZiB0aGUgRXVyb3BlYW4gc29mdHdhcmUgZW5naW5lZXJpbmcgY29uZmVyZW5jZSBhbmQgdGhlIEFDTSBTSUdTT0ZUIHN5bXBvc2l1bSBvbiBUaGUgZm91bmRhdGlvbnMgb2Ygc29mdHdhcmUgZW5naW5lZXJpbmciLAogICAgZW50cnl0eXBlPSJpbnByb2NlZWRpbmdzIiwKICAgIG9yZ2FuaXphdGlvbj0iQUNNIiwKICAgIElEPSJ6aW1tZXJtYW5uMjAwOWNyb3NzIiwKICAgIGNsdXN0ZXJfaWQ9IjE3NzkxNDY5ODUxMjcyMDEyNTk4IiwKICAgIHNjaG9sYXI9Imh0dHA6Ly9zY2hvbGFyLmdvb2dsZS5jb20vc2Nob2xhcj9jaXRlcz0xNzc5MTQ2OTg1MTI3MjAxMjU5OCZhc19zZHQ9MjAwNSZzY2lvZHQ9MCw1JmhsPWVuIiwKKSkKCkRCKENpdGF0aW9uKAogICAgemltbWVybWFubjIwMDlhLCBtZW5kZXMyMDA0YSwgcmVmPSIiLAogICAgY29udGV4dHM9WwoKICAgIF0sCikpCgonJycsIGNpdGF0aW9ucz0nbWVuZGVzMjAwNGEnKTs=\"));\n",
       "    "
      ],
      "text/plain": [
       "<IPython.core.display.Javascript object>"
      ]
     },
     "metadata": {},
     "output_type": "display_data"
    },
    {
     "data": {
      "application/javascript": [
       "$('span:contains(\"# Temp\")').closest('.cell').remove();"
      ],
      "text/plain": [
       "<IPython.core.display.Javascript object>"
      ]
     },
     "metadata": {},
     "output_type": "display_data"
    },
    {
     "data": {
      "application/javascript": [
       "\n",
       "        $('span:contains(\"# Temp\")').closest('.cell').remove();\n",
       "        var code = IPython.notebook.insert_cell_below('code');\n",
       "        code.set_text(atob(\"IyBUZW1wCmluc2VydCgnJycKemltbWVybWFubjIwMDlhID0gREIoV29ya1VucmVsYXRlZCgKICAgIDIwMDksICJDcm9zcy1wcm9qZWN0IGRlZmVjdCBwcmVkaWN0aW9uOiBhIGxhcmdlIHNjYWxlIGV4cGVyaW1lbnQgb24gZGF0YSB2cy4gZG9tYWluIHZzLiBwcm9jZXNzIiwKICAgIGRpc3BsYXk9InppbW1lcm1hbm4iLAogICAgYXV0aG9ycz0iWmltbWVybWFubiwgVGhvbWFzIGFuZCBOYWdhcHBhbiwgTmFjaGlhcHBhbiBhbmQgR2FsbCwgSGFyYWxkIGFuZCBHaWdlciwgRW1hbnVlbCBhbmQgTXVycGh5LCBCcmVuZGFuIiwKICAgIHBwPSI5MS0tMTAwIiwKICAgIHBsYWNlMT0iUHJvY2VlZGluZ3Mgb2YgdGhlIHRoZSA3dGggam9pbnQgbWVldGluZyBvZiB0aGUgRXVyb3BlYW4gc29mdHdhcmUgZW5naW5lZXJpbmcgY29uZmVyZW5jZSBhbmQgdGhlIEFDTSBTSUdTT0ZUIHN5bXBvc2l1bSBvbiBUaGUgZm91bmRhdGlvbnMgb2Ygc29mdHdhcmUgZW5naW5lZXJpbmciLAogICAgZW50cnl0eXBlPSJpbnByb2NlZWRpbmdzIiwKICAgIG9yZ2FuaXphdGlvbj0iQUNNIiwKICAgIElEPSJ6aW1tZXJtYW5uMjAwOWNyb3NzIiwKICAgIGNsdXN0ZXJfaWQ9IjE3NzkxNDY5ODUxMjcyMDEyNTk4IiwKICAgIHNjaG9sYXI9Imh0dHA6Ly9zY2hvbGFyLmdvb2dsZS5jb20vc2Nob2xhcj9jaXRlcz0xNzc5MTQ2OTg1MTI3MjAxMjU5OCZhc19zZHQ9MjAwNSZzY2lvZHQ9MCw1JmhsPWVuIiwKKSkKCkRCKENpdGF0aW9uKAogICAgemltbWVybWFubjIwMDlhLCBtZW5kZXMyMDA0YSwgcmVmPSIiLAogICAgY29udGV4dHM9WwoKICAgIF0sCikpCgonJycsIGNpdGF0aW9ucz0nbWVuZGVzMjAwNGEnKTs=\"));\n",
       "    "
      ],
      "text/plain": [
       "<IPython.core.display.Javascript object>"
      ]
     },
     "metadata": {},
     "output_type": "display_data"
    },
    {
     "data": {
      "application/javascript": [
       "$('span:contains(\"# Temp\")').closest('.cell').remove();"
      ],
      "text/plain": [
       "<IPython.core.display.Javascript object>"
      ]
     },
     "metadata": {},
     "output_type": "display_data"
    },
    {
     "data": {
      "application/javascript": [
       "\n",
       "        $('span:contains(\"# Temp\")').closest('.cell').remove();\n",
       "        var code = IPython.notebook.insert_cell_below('code');\n",
       "        code.set_text(atob(\"IyBUZW1wCmluc2VydCgnJycKemltbWVybWFubjIwMDlhID0gREIoV29ya1VucmVsYXRlZCgKICAgIDIwMDksICJDcm9zcy1wcm9qZWN0IGRlZmVjdCBwcmVkaWN0aW9uOiBhIGxhcmdlIHNjYWxlIGV4cGVyaW1lbnQgb24gZGF0YSB2cy4gZG9tYWluIHZzLiBwcm9jZXNzIiwKICAgIGRpc3BsYXk9InppbW1lcm1hbm4iLAogICAgYXV0aG9ycz0iWmltbWVybWFubiwgVGhvbWFzIGFuZCBOYWdhcHBhbiwgTmFjaGlhcHBhbiBhbmQgR2FsbCwgSGFyYWxkIGFuZCBHaWdlciwgRW1hbnVlbCBhbmQgTXVycGh5LCBCcmVuZGFuIiwKICAgIHBsYWNlPVNJR1NPRlQsCiAgICBwcD0iOTEtLTEwMCIsCiAgICBlbnRyeXR5cGU9ImlucHJvY2VlZGluZ3MiLAogICAgb3JnYW5pemF0aW9uPSJBQ00iLAogICAgSUQ9InppbW1lcm1hbm4yMDA5Y3Jvc3MiLAogICAgY2x1c3Rlcl9pZD0iMTc3OTE0Njk4NTEyNzIwMTI1OTgiLAogICAgc2Nob2xhcj0iaHR0cDovL3NjaG9sYXIuZ29vZ2xlLmNvbS9zY2hvbGFyP2NpdGVzPTE3NzkxNDY5ODUxMjcyMDEyNTk4JmFzX3NkdD0yMDA1JnNjaW9kdD0wLDUmaGw9ZW4iLAopKQoKREIoQ2l0YXRpb24oCiAgICB6aW1tZXJtYW5uMjAwOWEsIG1lbmRlczIwMDRhLCByZWY9IiIsCiAgICBjb250ZXh0cz1bCgogICAgXSwKKSkKCicnJywgY2l0YXRpb25zPSdtZW5kZXMyMDA0YScpOw==\"));\n",
       "    "
      ],
      "text/plain": [
       "<IPython.core.display.Javascript object>"
      ]
     },
     "metadata": {},
     "output_type": "display_data"
    },
    {
     "data": {
      "application/javascript": [
       "$('span:contains(\"# Temp\")').closest('.cell').remove();"
      ],
      "text/plain": [
       "<IPython.core.display.Javascript object>"
      ]
     },
     "metadata": {},
     "output_type": "display_data"
    },
    {
     "data": {
      "application/javascript": [
       "\n",
       "        $('span:contains(\"# Temp\")').closest('.cell').remove();\n",
       "        var code = IPython.notebook.insert_cell_below('code');\n",
       "        code.set_text(atob(\"IyBUZW1wCmluc2VydCgnJycKemltbWVybWFubjIwMDlhID0gREIoV29ya1VucmVsYXRlZCgKICAgIDIwMDksICJDcm9zcy1wcm9qZWN0IGRlZmVjdCBwcmVkaWN0aW9uOiBhIGxhcmdlIHNjYWxlIGV4cGVyaW1lbnQgb24gZGF0YSB2cy4gZG9tYWluIHZzLiBwcm9jZXNzIiwKICAgIGRpc3BsYXk9InppbW1lcm1hbm4iLAogICAgYXV0aG9ycz0iWmltbWVybWFubiwgVGhvbWFzIGFuZCBOYWdhcHBhbiwgTmFjaGlhcHBhbiBhbmQgR2FsbCwgSGFyYWxkIGFuZCBHaWdlciwgRW1hbnVlbCBhbmQgTXVycGh5LCBCcmVuZGFuIiwKICAgIHBwPSI5MS0tMTAwIiwKICAgIHBsYWNlMT0iUHJvY2VlZGluZ3Mgb2YgdGhlIHRoZSA3dGggam9pbnQgbWVldGluZyBvZiB0aGUgRXVyb3BlYW4gc29mdHdhcmUgZW5naW5lZXJpbmcgY29uZmVyZW5jZSBhbmQgdGhlIEFDTSBTSUdTT0ZUIHN5bXBvc2l1bSBvbiBUaGUgZm91bmRhdGlvbnMgb2Ygc29mdHdhcmUgZW5naW5lZXJpbmciLAogICAgZW50cnl0eXBlPSJpbnByb2NlZWRpbmdzIiwKICAgIG9yZ2FuaXphdGlvbj0iQUNNIiwKICAgIElEPSJ6aW1tZXJtYW5uMjAwOWNyb3NzIiwKICAgIGNsdXN0ZXJfaWQ9IjE3NzkxNDY5ODUxMjcyMDEyNTk4IiwKICAgIHNjaG9sYXI9Imh0dHA6Ly9zY2hvbGFyLmdvb2dsZS5jb20vc2Nob2xhcj9jaXRlcz0xNzc5MTQ2OTg1MTI3MjAxMjU5OCZhc19zZHQ9MjAwNSZzY2lvZHQ9MCw1JmhsPWVuIiwKKSkKCkRCKENpdGF0aW9uKAogICAgemltbWVybWFubjIwMDlhLCBtZW5kZXMyMDA0YSwgcmVmPSIiLAogICAgY29udGV4dHM9WwoKICAgIF0sCikpCgonJycsIGNpdGF0aW9ucz0nbWVuZGVzMjAwNGEnKTs=\"));\n",
       "    "
      ],
      "text/plain": [
       "<IPython.core.display.Javascript object>"
      ]
     },
     "metadata": {},
     "output_type": "display_data"
    },
    {
     "data": {
      "application/javascript": [
       "$('span:contains(\"# Temp\")').closest('.cell').remove();"
      ],
      "text/plain": [
       "<IPython.core.display.Javascript object>"
      ]
     },
     "metadata": {},
     "output_type": "display_data"
    },
    {
     "data": {
      "application/javascript": [
       "\n",
       "        $('span:contains(\"# Temp\")').closest('.cell').remove();\n",
       "        var code = IPython.notebook.insert_cell_below('code');\n",
       "        code.set_text(atob(\"IyBUZW1wCmluc2VydCgnJycKemltbWVybWFubjIwMDlhID0gREIoV29ya1VucmVsYXRlZCgKICAgIDIwMDksICJDcm9zcy1wcm9qZWN0IGRlZmVjdCBwcmVkaWN0aW9uOiBhIGxhcmdlIHNjYWxlIGV4cGVyaW1lbnQgb24gZGF0YSB2cy4gZG9tYWluIHZzLiBwcm9jZXNzIiwKICAgIGRpc3BsYXk9InppbW1lcm1hbm4iLAogICAgYXV0aG9ycz0iWmltbWVybWFubiwgVGhvbWFzIGFuZCBOYWdhcHBhbiwgTmFjaGlhcHBhbiBhbmQgR2FsbCwgSGFyYWxkIGFuZCBHaWdlciwgRW1hbnVlbCBhbmQgTXVycGh5LCBCcmVuZGFuIiwKICAgIHBsYWNlPVNJR1NPRlQsCiAgICBwcD0iOTEtLTEwMCIsCiAgICBlbnRyeXR5cGU9ImlucHJvY2VlZGluZ3MiLAogICAgb3JnYW5pemF0aW9uPSJBQ00iLAogICAgSUQ9InppbW1lcm1hbm4yMDA5Y3Jvc3MiLAogICAgY2x1c3Rlcl9pZD0iMTc3OTE0Njk4NTEyNzIwMTI1OTgiLAogICAgc2Nob2xhcj0iaHR0cDovL3NjaG9sYXIuZ29vZ2xlLmNvbS9zY2hvbGFyP2NpdGVzPTE3NzkxNDY5ODUxMjcyMDEyNTk4JmFzX3NkdD0yMDA1JnNjaW9kdD0wLDUmaGw9ZW4iLAopKQoKREIoQ2l0YXRpb24oCiAgICB6aW1tZXJtYW5uMjAwOWEsIG1lbmRlczIwMDRhLCByZWY9IiIsCiAgICBjb250ZXh0cz1bCgogICAgXSwKKSkKCicnJywgY2l0YXRpb25zPSdtZW5kZXMyMDA0YScpOw==\"));\n",
       "    "
      ],
      "text/plain": [
       "<IPython.core.display.Javascript object>"
      ]
     },
     "metadata": {},
     "output_type": "display_data"
    },
    {
     "data": {
      "application/javascript": [
       "$('span:contains(\"# Temp\")').closest('.cell').remove();"
      ],
      "text/plain": [
       "<IPython.core.display.Javascript object>"
      ]
     },
     "metadata": {},
     "output_type": "display_data"
    },
    {
     "data": {
      "application/javascript": [
       "\n",
       "        $('span:contains(\"# Temp\")').closest('.cell').remove();\n",
       "        var code = IPython.notebook.insert_cell_below('code');\n",
       "        code.set_text(atob(\"IyBUZW1wCmluc2VydCgnJycKREIoQ2l0YXRpb24oCiAgICBraXRjaGVuaGFtMjAwN2EsIG1lbmRlczIwMDRhLCByZWY9IiIsCiAgICBjb250ZXh0cz1bCgogICAgXSwKKSkKCicnJywgY2l0YXRpb25zPSdtZW5kZXMyMDA0YScpOwpzZXRfYXR0cmlidXRlKCdraXRjaGVuaGFtMjAwN2EnLCAnZXhjZXJwdCcsICdBYnN0cmFjdDogVGhlIG9iamVjdGl2ZSBvZiB0aGlzIHBhcGVyIGlzIHRvIGRldGVybWluZSB1bmRlciB3aGF0IGNpcmN1bXN0YW5jZXMgaW5kaXZpZHVhbCBvcmdhbml6YXRpb25zIHdvdWxkIGJlIGFibGUgdG8gcmVseSBvbiBjcm9zcy1jb21wYW55LWJhc2VkIGVzdGltYXRpb24gbW9kZWxzLiBXZSBwZXJmb3JtZWQgYSBzeXN0ZW1hdGljIHJldmlldyBvZiBzdHVkaWVzIHRoYXQgY29tcGFyZWQgcHJlZGljdGlvbnMgZnJvbSBjcm9zcy1jb21wYW55ICcpOw==\"));\n",
       "    "
      ],
      "text/plain": [
       "<IPython.core.display.Javascript object>"
      ]
     },
     "metadata": {},
     "output_type": "display_data"
    },
    {
     "data": {
      "application/javascript": [
       "$('span:contains(\"# Temp\")').closest('.cell').remove();"
      ],
      "text/plain": [
       "<IPython.core.display.Javascript object>"
      ]
     },
     "metadata": {},
     "output_type": "display_data"
    },
    {
     "data": {
      "application/javascript": [
       "\n",
       "        $('span:contains(\"# Temp\")').closest('.cell').remove();\n",
       "        var code = IPython.notebook.insert_cell_below('code');\n",
       "        code.set_text(atob(\"IyBUZW1wCmluc2VydCgnJycKREIoQ2l0YXRpb24oCiAgICBraXRjaGVuaGFtMjAwN2EsIG1lbmRlczIwMDRhLCByZWY9IiIsCiAgICBjb250ZXh0cz1bCgogICAgXSwKKSkKCicnJywgY2l0YXRpb25zPSdtZW5kZXMyMDA0YScpOwpzZXRfYXR0cmlidXRlKCdraXRjaGVuaGFtMjAwN2EnLCAnZXhjZXJwdCcsICdBYnN0cmFjdDogVGhlIG9iamVjdGl2ZSBvZiB0aGlzIHBhcGVyIGlzIHRvIGRldGVybWluZSB1bmRlciB3aGF0IGNpcmN1bXN0YW5jZXMgaW5kaXZpZHVhbCBvcmdhbml6YXRpb25zIHdvdWxkIGJlIGFibGUgdG8gcmVseSBvbiBjcm9zcy1jb21wYW55LWJhc2VkIGVzdGltYXRpb24gbW9kZWxzLiBXZSBwZXJmb3JtZWQgYSBzeXN0ZW1hdGljIHJldmlldyBvZiBzdHVkaWVzIHRoYXQgY29tcGFyZWQgcHJlZGljdGlvbnMgZnJvbSBjcm9zcy1jb21wYW55ICcpOw==\"));\n",
       "    "
      ],
      "text/plain": [
       "<IPython.core.display.Javascript object>"
      ]
     },
     "metadata": {},
     "output_type": "display_data"
    },
    {
     "data": {
      "application/javascript": [
       "$('span:contains(\"# Temp\")').closest('.cell').remove();"
      ],
      "text/plain": [
       "<IPython.core.display.Javascript object>"
      ]
     },
     "metadata": {},
     "output_type": "display_data"
    },
    {
     "data": {
      "application/javascript": [
       "\n",
       "        $('span:contains(\"# Temp\")').closest('.cell').remove();\n",
       "        var code = IPython.notebook.insert_cell_below('code');\n",
       "        code.set_text(atob(\"IyBUZW1wCmluc2VydCgnJycKREIoQ2l0YXRpb24oCiAgICBraXRjaGVuaGFtMjAwN2EsIG1lbmRlczIwMDRhLCByZWY9IiIsCiAgICBjb250ZXh0cz1bCgogICAgXSwKKSkKCicnJywgY2l0YXRpb25zPSdtZW5kZXMyMDA0YScpOwpzZXRfYXR0cmlidXRlKCdraXRjaGVuaGFtMjAwN2EnLCAnZXhjZXJwdCcsICdBYnN0cmFjdDogVGhlIG9iamVjdGl2ZSBvZiB0aGlzIHBhcGVyIGlzIHRvIGRldGVybWluZSB1bmRlciB3aGF0IGNpcmN1bXN0YW5jZXMgaW5kaXZpZHVhbCBvcmdhbml6YXRpb25zIHdvdWxkIGJlIGFibGUgdG8gcmVseSBvbiBjcm9zcy1jb21wYW55LWJhc2VkIGVzdGltYXRpb24gbW9kZWxzLiBXZSBwZXJmb3JtZWQgYSBzeXN0ZW1hdGljIHJldmlldyBvZiBzdHVkaWVzIHRoYXQgY29tcGFyZWQgcHJlZGljdGlvbnMgZnJvbSBjcm9zcy1jb21wYW55ICcpOw==\"));\n",
       "    "
      ],
      "text/plain": [
       "<IPython.core.display.Javascript object>"
      ]
     },
     "metadata": {},
     "output_type": "display_data"
    },
    {
     "data": {
      "application/javascript": [
       "$('span:contains(\"# Temp\")').closest('.cell').remove();"
      ],
      "text/plain": [
       "<IPython.core.display.Javascript object>"
      ]
     },
     "metadata": {},
     "output_type": "display_data"
    },
    {
     "data": {
      "application/javascript": [
       "\n",
       "        $('span:contains(\"# Temp\")').closest('.cell').remove();\n",
       "        var code = IPython.notebook.insert_cell_below('code');\n",
       "        code.set_text(atob(\"IyBUZW1wCmluc2VydCgnJycKd2VuMjAxMmEgPSBEQihXb3JrVW5yZWxhdGVkKAogICAgMjAxMiwgIlN5c3RlbWF0aWMgbGl0ZXJhdHVyZSByZXZpZXcgb2YgbWFjaGluZSBsZWFybmluZyBiYXNlZCBzb2Z0d2FyZSBkZXZlbG9wbWVudCBlZmZvcnQgZXN0aW1hdGlvbiBtb2RlbHMiLAogICAgZGlzcGxheT0id2VuIiwKICAgIGF1dGhvcnM9IldlbiwgSmlhbmZlbmcgYW5kIExpLCBTaGl4aWFuIGFuZCBMaW4sIFpoaXlvbmcgYW5kIEh1LCBZb25nIGFuZCBIdWFuZywgQ2hhbmdxaW4iLAogICAgcGxhY2U9SVNULAogICAgcHA9IjQxLS01OSIsCiAgICBlbnRyeXR5cGU9ImFydGljbGUiLAogICAgdm9sdW1lPSI1NCIsCiAgICBudW1iZXI9IjEiLAogICAgcHVibGlzaGVyPSJFbHNldmllciIsCiAgICBJRD0id2VuMjAxMnN5c3RlbWF0aWMiLAogICAgY2x1c3Rlcl9pZD0iMTMxOTQ4NDgyMDQ5MjU1MTQzNTYiLAogICAgc2Nob2xhcj0iaHR0cDovL3NjaG9sYXIuZ29vZ2xlLmNvbS9zY2hvbGFyP2NpdGVzPTEzMTk0ODQ4MjA0OTI1NTE0MzU2JmFzX3NkdD0yMDA1JnNjaW9kdD0wLDUmaGw9ZW4iLAopKQoKREIoQ2l0YXRpb24oCiAgICB3ZW4yMDEyYSwgbWVuZGVzMjAwNGEsIHJlZj0iIiwKICAgIGNvbnRleHRzPVsKCiAgICBdLAopKQoKJycnLCBjaXRhdGlvbnM9J21lbmRlczIwMDRhJyk7\"));\n",
       "    "
      ],
      "text/plain": [
       "<IPython.core.display.Javascript object>"
      ]
     },
     "metadata": {},
     "output_type": "display_data"
    },
    {
     "data": {
      "application/javascript": [
       "$('span:contains(\"# Temp\")').closest('.cell').remove();"
      ],
      "text/plain": [
       "<IPython.core.display.Javascript object>"
      ]
     },
     "metadata": {},
     "output_type": "display_data"
    },
    {
     "data": {
      "application/javascript": [
       "\n",
       "        $('span:contains(\"# Temp\")').closest('.cell').remove();\n",
       "        var code = IPython.notebook.insert_cell_below('code');\n",
       "        code.set_text(atob(\"IyBUZW1wCmluc2VydCgnJycKd2VuMjAxMmEgPSBEQihXb3JrKAogICAgMjAxMiwgIlN5c3RlbWF0aWMgbGl0ZXJhdHVyZSByZXZpZXcgb2YgbWFjaGluZSBsZWFybmluZyBiYXNlZCBzb2Z0d2FyZSBkZXZlbG9wbWVudCBlZmZvcnQgZXN0aW1hdGlvbiBtb2RlbHMiLAogICAgZGlzcGxheT0id2VuIiwKICAgIGF1dGhvcnM9IldlbiwgSmlhbmZlbmcgYW5kIExpLCBTaGl4aWFuIGFuZCBMaW4sIFpoaXlvbmcgYW5kIEh1LCBZb25nIGFuZCBIdWFuZywgQ2hhbmdxaW4iLAogICAgcGxhY2U9SVNULAogICAgcHA9IjQxLS01OSIsCiAgICBlbnRyeXR5cGU9ImFydGljbGUiLAogICAgdm9sdW1lPSI1NCIsCiAgICBudW1iZXI9IjEiLAogICAgcHVibGlzaGVyPSJFbHNldmllciIsCiAgICBJRD0id2VuMjAxMnN5c3RlbWF0aWMiLAogICAgY2x1c3Rlcl9pZD0iMTMxOTQ4NDgyMDQ5MjU1MTQzNTYiLAogICAgc2Nob2xhcj0iaHR0cDovL3NjaG9sYXIuZ29vZ2xlLmNvbS9zY2hvbGFyP2NpdGVzPTEzMTk0ODQ4MjA0OTI1NTE0MzU2JmFzX3NkdD0yMDA1JnNjaW9kdD0wLDUmaGw9ZW4iLAopKQoKREIoQ2l0YXRpb24oCiAgICB3ZW4yMDEyYSwgbWVuZGVzMjAwNGEsIHJlZj0iIiwKICAgIGNvbnRleHRzPVsKCiAgICBdLAopKQoKJycnLCBjaXRhdGlvbnM9J21lbmRlczIwMDRhJyk7\"));\n",
       "    "
      ],
      "text/plain": [
       "<IPython.core.display.Javascript object>"
      ]
     },
     "metadata": {},
     "output_type": "display_data"
    },
    {
     "data": {
      "application/javascript": [
       "$('span:contains(\"# Temp\")').closest('.cell').remove();"
      ],
      "text/plain": [
       "<IPython.core.display.Javascript object>"
      ]
     },
     "metadata": {},
     "output_type": "display_data"
    },
    {
     "data": {
      "application/javascript": [
       "\n",
       "        $('span:contains(\"# Temp\")').closest('.cell').remove();\n",
       "        var code = IPython.notebook.insert_cell_below('code');\n",
       "        code.set_text(atob(\"IyBUZW1wCmluc2VydCgnJycKd2VuMjAxMmEgPSBEQihXb3JrVW5yZWxhdGVkKAogICAgMjAxMiwgIlN5c3RlbWF0aWMgbGl0ZXJhdHVyZSByZXZpZXcgb2YgbWFjaGluZSBsZWFybmluZyBiYXNlZCBzb2Z0d2FyZSBkZXZlbG9wbWVudCBlZmZvcnQgZXN0aW1hdGlvbiBtb2RlbHMiLAogICAgZGlzcGxheT0id2VuIiwKICAgIGF1dGhvcnM9IldlbiwgSmlhbmZlbmcgYW5kIExpLCBTaGl4aWFuIGFuZCBMaW4sIFpoaXlvbmcgYW5kIEh1LCBZb25nIGFuZCBIdWFuZywgQ2hhbmdxaW4iLAogICAgcGxhY2U9SVNULAogICAgcHA9IjQxLS01OSIsCiAgICBlbnRyeXR5cGU9ImFydGljbGUiLAogICAgdm9sdW1lPSI1NCIsCiAgICBudW1iZXI9IjEiLAogICAgcHVibGlzaGVyPSJFbHNldmllciIsCiAgICBJRD0id2VuMjAxMnN5c3RlbWF0aWMiLAogICAgY2x1c3Rlcl9pZD0iMTMxOTQ4NDgyMDQ5MjU1MTQzNTYiLAogICAgc2Nob2xhcj0iaHR0cDovL3NjaG9sYXIuZ29vZ2xlLmNvbS9zY2hvbGFyP2NpdGVzPTEzMTk0ODQ4MjA0OTI1NTE0MzU2JmFzX3NkdD0yMDA1JnNjaW9kdD0wLDUmaGw9ZW4iLAopKQoKREIoQ2l0YXRpb24oCiAgICB3ZW4yMDEyYSwgbWVuZGVzMjAwNGEsIHJlZj0iIiwKICAgIGNvbnRleHRzPVsKCiAgICBdLAopKQoKJycnLCBjaXRhdGlvbnM9J21lbmRlczIwMDRhJyk7\"));\n",
       "    "
      ],
      "text/plain": [
       "<IPython.core.display.Javascript object>"
      ]
     },
     "metadata": {},
     "output_type": "display_data"
    },
    {
     "data": {
      "application/javascript": [
       "$('span:contains(\"# Temp\")').closest('.cell').remove();"
      ],
      "text/plain": [
       "<IPython.core.display.Javascript object>"
      ]
     },
     "metadata": {},
     "output_type": "display_data"
    },
    {
     "data": {
      "application/javascript": [
       "\n",
       "        $('span:contains(\"# Temp\")').closest('.cell').remove();\n",
       "        var code = IPython.notebook.insert_cell_below('code');\n",
       "        code.set_text(atob(\"IyBUZW1wCmluc2VydCgnJycKc2hlcHBlcmQyMDEyYSA9IERCKFdvcmtVbnJlbGF0ZWQoCiAgICAyMDEyLCAiRXZhbHVhdGluZyBwcmVkaWN0aW9uIHN5c3RlbXMgaW4gc29mdHdhcmUgcHJvamVjdCBlc3RpbWF0aW9uIiwKICAgIGRpc3BsYXk9InNoZXBwZXJkIiwKICAgIGF1dGhvcnM9IlNoZXBwZXJkLCBNYXJ0aW4gYW5kIE1hY0RvbmVsbCwgU3RldmUiLAogICAgcGxhY2U9SVNULAogICAgcHA9IjgyMC0tODI3IiwKICAgIGVudHJ5dHlwZT0iYXJ0aWNsZSIsCiAgICB2b2x1bWU9IjU0IiwKICAgIG51bWJlcj0iOCIsCiAgICBwdWJsaXNoZXI9IkVsc2V2aWVyIiwKICAgIElEPSJzaGVwcGVyZDIwMTJldmFsdWF0aW5nIiwKICAgIGNsdXN0ZXJfaWQ9IjE3MzA5NzkyMDUwNDQwNzQzMzUiLAogICAgc2Nob2xhcj0iaHR0cDovL3NjaG9sYXIuZ29vZ2xlLmNvbS9zY2hvbGFyP2NpdGVzPTE3MzA5NzkyMDUwNDQwNzQzMzUmYXNfc2R0PTIwMDUmc2Npb2R0PTAsNSZobD1lbiIsCikpCgpEQihDaXRhdGlvbigKICAgIHNoZXBwZXJkMjAxMmEsIG1lbmRlczIwMDRhLCByZWY9IiIsCiAgICBjb250ZXh0cz1bCgogICAgXSwKKSkKCicnJywgY2l0YXRpb25zPSdtZW5kZXMyMDA0YScpOw==\"));\n",
       "    "
      ],
      "text/plain": [
       "<IPython.core.display.Javascript object>"
      ]
     },
     "metadata": {},
     "output_type": "display_data"
    },
    {
     "data": {
      "application/javascript": [
       "$('span:contains(\"# Temp\")').closest('.cell').remove();"
      ],
      "text/plain": [
       "<IPython.core.display.Javascript object>"
      ]
     },
     "metadata": {},
     "output_type": "display_data"
    },
    {
     "data": {
      "application/javascript": [
       "\n",
       "        $('span:contains(\"# Temp\")').closest('.cell').remove();\n",
       "        var code = IPython.notebook.insert_cell_below('code');\n",
       "        code.set_text(atob(\"IyBUZW1wCmluc2VydCgnJycKc2hlcHBlcmQyMDEyYSA9IERCKFdvcmsoCiAgICAyMDEyLCAiRXZhbHVhdGluZyBwcmVkaWN0aW9uIHN5c3RlbXMgaW4gc29mdHdhcmUgcHJvamVjdCBlc3RpbWF0aW9uIiwKICAgIGRpc3BsYXk9InNoZXBwZXJkIiwKICAgIGF1dGhvcnM9IlNoZXBwZXJkLCBNYXJ0aW4gYW5kIE1hY0RvbmVsbCwgU3RldmUiLAogICAgcGxhY2U9SVNULAogICAgcHA9IjgyMC0tODI3IiwKICAgIGVudHJ5dHlwZT0iYXJ0aWNsZSIsCiAgICB2b2x1bWU9IjU0IiwKICAgIG51bWJlcj0iOCIsCiAgICBwdWJsaXNoZXI9IkVsc2V2aWVyIiwKICAgIElEPSJzaGVwcGVyZDIwMTJldmFsdWF0aW5nIiwKICAgIGNsdXN0ZXJfaWQ9IjE3MzA5NzkyMDUwNDQwNzQzMzUiLAogICAgc2Nob2xhcj0iaHR0cDovL3NjaG9sYXIuZ29vZ2xlLmNvbS9zY2hvbGFyP2NpdGVzPTE3MzA5NzkyMDUwNDQwNzQzMzUmYXNfc2R0PTIwMDUmc2Npb2R0PTAsNSZobD1lbiIsCikpCgpEQihDaXRhdGlvbigKICAgIHNoZXBwZXJkMjAxMmEsIG1lbmRlczIwMDRhLCByZWY9IiIsCiAgICBjb250ZXh0cz1bCgogICAgXSwKKSkKCicnJywgY2l0YXRpb25zPSdtZW5kZXMyMDA0YScpOw==\"));\n",
       "    "
      ],
      "text/plain": [
       "<IPython.core.display.Javascript object>"
      ]
     },
     "metadata": {},
     "output_type": "display_data"
    },
    {
     "data": {
      "application/javascript": [
       "$('span:contains(\"# Temp\")').closest('.cell').remove();"
      ],
      "text/plain": [
       "<IPython.core.display.Javascript object>"
      ]
     },
     "metadata": {},
     "output_type": "display_data"
    },
    {
     "data": {
      "application/javascript": [
       "\n",
       "        $('span:contains(\"# Temp\")').closest('.cell').remove();\n",
       "        var code = IPython.notebook.insert_cell_below('code');\n",
       "        code.set_text(atob(\"IyBUZW1wCmluc2VydCgnJycKc2hlcHBlcmQyMDEyYSA9IERCKFdvcmtVbnJlbGF0ZWQoCiAgICAyMDEyLCAiRXZhbHVhdGluZyBwcmVkaWN0aW9uIHN5c3RlbXMgaW4gc29mdHdhcmUgcHJvamVjdCBlc3RpbWF0aW9uIiwKICAgIGRpc3BsYXk9InNoZXBwZXJkIiwKICAgIGF1dGhvcnM9IlNoZXBwZXJkLCBNYXJ0aW4gYW5kIE1hY0RvbmVsbCwgU3RldmUiLAogICAgcGxhY2U9SVNULAogICAgcHA9IjgyMC0tODI3IiwKICAgIGVudHJ5dHlwZT0iYXJ0aWNsZSIsCiAgICB2b2x1bWU9IjU0IiwKICAgIG51bWJlcj0iOCIsCiAgICBwdWJsaXNoZXI9IkVsc2V2aWVyIiwKICAgIElEPSJzaGVwcGVyZDIwMTJldmFsdWF0aW5nIiwKICAgIGNsdXN0ZXJfaWQ9IjE3MzA5NzkyMDUwNDQwNzQzMzUiLAogICAgc2Nob2xhcj0iaHR0cDovL3NjaG9sYXIuZ29vZ2xlLmNvbS9zY2hvbGFyP2NpdGVzPTE3MzA5NzkyMDUwNDQwNzQzMzUmYXNfc2R0PTIwMDUmc2Npb2R0PTAsNSZobD1lbiIsCikpCgpEQihDaXRhdGlvbigKICAgIHNoZXBwZXJkMjAxMmEsIG1lbmRlczIwMDRhLCByZWY9IiIsCiAgICBjb250ZXh0cz1bCgogICAgXSwKKSkKCicnJywgY2l0YXRpb25zPSdtZW5kZXMyMDA0YScpOw==\"));\n",
       "    "
      ],
      "text/plain": [
       "<IPython.core.display.Javascript object>"
      ]
     },
     "metadata": {},
     "output_type": "display_data"
    },
    {
     "data": {
      "application/javascript": [
       "$('span:contains(\"# Temp\")').closest('.cell').remove();"
      ],
      "text/plain": [
       "<IPython.core.display.Javascript object>"
      ]
     },
     "metadata": {},
     "output_type": "display_data"
    },
    {
     "data": {
      "application/javascript": [
       "\n",
       "        $('span:contains(\"# Temp\")').closest('.cell').remove();\n",
       "        var code = IPython.notebook.insert_cell_below('code');\n",
       "        code.set_text(atob(\"IyBUZW1wCmluc2VydCgnJycKa2V1bmcyMDA4YSA9IERCKFdvcmtVbnJlbGF0ZWQoCiAgICAyMDA4LCAiQW5hbG9neS1YOiBQcm92aWRpbmcgc3RhdGlzdGljYWwgaW5mZXJlbmNlIHRvIGFuYWxvZ3ktYmFzZWQgc29mdHdhcmUgY29zdCBlc3RpbWF0aW9uIiwKICAgIGRpc3BsYXk9ImtldW5nIiwKICAgIGF1dGhvcnM9IktldW5nLCBKYWNreSBXYWkgYW5kIEtpdGNoZW5oYW0sIEJhcmJhcmEgQSBhbmQgSmVmZmVyeSwgRGF2aWQgUm9zcyIsCiAgICBwbGFjZT1Ub1NFLAogICAgcHA9IjQ3MS0tNDg0IiwKICAgIGVudHJ5dHlwZT0iYXJ0aWNsZSIsCiAgICB2b2x1bWU9IjM0IiwKICAgIG51bWJlcj0iNCIsCiAgICBwdWJsaXNoZXI9IklFRUUiLAogICAgSUQ9ImtldW5nMjAwOGFuYWxvZ3kiLAogICAgY2x1c3Rlcl9pZD0iMTIwMDkxODk0NDExMTY4NDU0MjQiLAogICAgc2Nob2xhcj0iaHR0cDovL3NjaG9sYXIuZ29vZ2xlLmNvbS9zY2hvbGFyP2NpdGVzPTEyMDA5MTg5NDQxMTE2ODQ1NDI0JmFzX3NkdD0yMDA1JnNjaW9kdD0wLDUmaGw9ZW4iLAopKQoKREIoQ2l0YXRpb24oCiAgICBrZXVuZzIwMDhhLCBtZW5kZXMyMDA0YSwgcmVmPSIiLAogICAgY29udGV4dHM9WwoKICAgIF0sCikpCgonJycsIGNpdGF0aW9ucz0nbWVuZGVzMjAwNGEnKTs=\"));\n",
       "    "
      ],
      "text/plain": [
       "<IPython.core.display.Javascript object>"
      ]
     },
     "metadata": {},
     "output_type": "display_data"
    },
    {
     "data": {
      "application/javascript": [
       "$('span:contains(\"# Temp\")').closest('.cell').remove();"
      ],
      "text/plain": [
       "<IPython.core.display.Javascript object>"
      ]
     },
     "metadata": {},
     "output_type": "display_data"
    },
    {
     "data": {
      "application/javascript": [
       "\n",
       "        $('span:contains(\"# Temp\")').closest('.cell').remove();\n",
       "        var code = IPython.notebook.insert_cell_below('code');\n",
       "        code.set_text(atob(\"IyBUZW1wCmluc2VydCgnJycKa2V1bmcyMDA4YSA9IERCKFdvcmsoCiAgICAyMDA4LCAiQW5hbG9neS1YOiBQcm92aWRpbmcgc3RhdGlzdGljYWwgaW5mZXJlbmNlIHRvIGFuYWxvZ3ktYmFzZWQgc29mdHdhcmUgY29zdCBlc3RpbWF0aW9uIiwKICAgIGRpc3BsYXk9ImtldW5nIiwKICAgIGF1dGhvcnM9IktldW5nLCBKYWNreSBXYWkgYW5kIEtpdGNoZW5oYW0sIEJhcmJhcmEgQSBhbmQgSmVmZmVyeSwgRGF2aWQgUm9zcyIsCiAgICBwbGFjZT1Ub1NFLAogICAgcHA9IjQ3MS0tNDg0IiwKICAgIGVudHJ5dHlwZT0iYXJ0aWNsZSIsCiAgICB2b2x1bWU9IjM0IiwKICAgIG51bWJlcj0iNCIsCiAgICBwdWJsaXNoZXI9IklFRUUiLAogICAgSUQ9ImtldW5nMjAwOGFuYWxvZ3kiLAogICAgY2x1c3Rlcl9pZD0iMTIwMDkxODk0NDExMTY4NDU0MjQiLAogICAgc2Nob2xhcj0iaHR0cDovL3NjaG9sYXIuZ29vZ2xlLmNvbS9zY2hvbGFyP2NpdGVzPTEyMDA5MTg5NDQxMTE2ODQ1NDI0JmFzX3NkdD0yMDA1JnNjaW9kdD0wLDUmaGw9ZW4iLAopKQoKREIoQ2l0YXRpb24oCiAgICBrZXVuZzIwMDhhLCBtZW5kZXMyMDA0YSwgcmVmPSIiLAogICAgY29udGV4dHM9WwoKICAgIF0sCikpCgonJycsIGNpdGF0aW9ucz0nbWVuZGVzMjAwNGEnKTs=\"));\n",
       "    "
      ],
      "text/plain": [
       "<IPython.core.display.Javascript object>"
      ]
     },
     "metadata": {},
     "output_type": "display_data"
    },
    {
     "data": {
      "application/javascript": [
       "$('span:contains(\"# Temp\")').closest('.cell').remove();"
      ],
      "text/plain": [
       "<IPython.core.display.Javascript object>"
      ]
     },
     "metadata": {},
     "output_type": "display_data"
    },
    {
     "data": {
      "application/javascript": [
       "\n",
       "        $('span:contains(\"# Temp\")').closest('.cell').remove();\n",
       "        var code = IPython.notebook.insert_cell_below('code');\n",
       "        code.set_text(atob(\"IyBUZW1wCmluc2VydCgnJycKa2V1bmcyMDA4YSA9IERCKFdvcmtVbnJlbGF0ZWQoCiAgICAyMDA4LCAiQW5hbG9neS1YOiBQcm92aWRpbmcgc3RhdGlzdGljYWwgaW5mZXJlbmNlIHRvIGFuYWxvZ3ktYmFzZWQgc29mdHdhcmUgY29zdCBlc3RpbWF0aW9uIiwKICAgIGRpc3BsYXk9ImtldW5nIiwKICAgIGF1dGhvcnM9IktldW5nLCBKYWNreSBXYWkgYW5kIEtpdGNoZW5oYW0sIEJhcmJhcmEgQSBhbmQgSmVmZmVyeSwgRGF2aWQgUm9zcyIsCiAgICBwbGFjZT1Ub1NFLAogICAgcHA9IjQ3MS0tNDg0IiwKICAgIGVudHJ5dHlwZT0iYXJ0aWNsZSIsCiAgICB2b2x1bWU9IjM0IiwKICAgIG51bWJlcj0iNCIsCiAgICBwdWJsaXNoZXI9IklFRUUiLAogICAgSUQ9ImtldW5nMjAwOGFuYWxvZ3kiLAogICAgY2x1c3Rlcl9pZD0iMTIwMDkxODk0NDExMTY4NDU0MjQiLAogICAgc2Nob2xhcj0iaHR0cDovL3NjaG9sYXIuZ29vZ2xlLmNvbS9zY2hvbGFyP2NpdGVzPTEyMDA5MTg5NDQxMTE2ODQ1NDI0JmFzX3NkdD0yMDA1JnNjaW9kdD0wLDUmaGw9ZW4iLAopKQoKREIoQ2l0YXRpb24oCiAgICBrZXVuZzIwMDhhLCBtZW5kZXMyMDA0YSwgcmVmPSIiLAogICAgY29udGV4dHM9WwoKICAgIF0sCikpCgonJycsIGNpdGF0aW9ucz0nbWVuZGVzMjAwNGEnKTs=\"));\n",
       "    "
      ],
      "text/plain": [
       "<IPython.core.display.Javascript object>"
      ]
     },
     "metadata": {},
     "output_type": "display_data"
    },
    {
     "data": {
      "application/javascript": [
       "$('span:contains(\"# Temp\")').closest('.cell').remove();"
      ],
      "text/plain": [
       "<IPython.core.display.Javascript object>"
      ]
     },
     "metadata": {},
     "output_type": "display_data"
    },
    {
     "data": {
      "application/javascript": [
       "\n",
       "        $('span:contains(\"# Temp\")').closest('.cell').remove();\n",
       "        var code = IPython.notebook.insert_cell_below('code');\n",
       "        code.set_text(atob(\"IyBUZW1wCmluc2VydCgnJycKa2l0Y2hlbmhhbTIwMDZhID0gREIoV29ya1VucmVsYXRlZCgKICAgIDIwMDYsICJBIHN5c3RlbWF0aWMgcmV2aWV3IG9mIGNyb3NzLXZzLiB3aXRoaW4tY29tcGFueSBjb3N0IGVzdGltYXRpb24gc3R1ZGllcyIsCiAgICBkaXNwbGF5PSJraXRjaGVuaGFtIiwKICAgIGF1dGhvcnM9IktpdGNoZW5oYW0sIEJhcmJhcmEgYW5kIE1lbmRlcywgRW1pbGlhIGFuZCBUcmF2YXNzb3MsIEd1aWxoZXJtZSBIIiwKICAgIHBsYWNlPUVBU0UsCiAgICBwcD0iODEtLTkwIiwKICAgIGVudHJ5dHlwZT0iaW5wcm9jZWVkaW5ncyIsCiAgICBvcmdhbml6YXRpb249IkJyaXRpc2ggQ29tcHV0ZXIgU29jaWV0eSIsCiAgICBJRD0ia2l0Y2hlbmhhbTIwMDZzeXN0ZW1hdGljIiwKICAgIGNsdXN0ZXJfaWQ9IjYwNjE5MDIxOTY2ODU3NjA3OTMiLAogICAgc2Nob2xhcj0iaHR0cDovL3NjaG9sYXIuZ29vZ2xlLmNvbS9zY2hvbGFyP2NpdGVzPTYwNjE5MDIxOTY2ODU3NjA3OTMmYXNfc2R0PTIwMDUmc2Npb2R0PTAsNSZobD1lbiIsCikpCgpEQihDaXRhdGlvbigKICAgIGtpdGNoZW5oYW0yMDA2YSwgbWVuZGVzMjAwNGEsIHJlZj0iIiwKICAgIGNvbnRleHRzPVsKCiAgICBdLAopKQoKJycnLCBjaXRhdGlvbnM9J21lbmRlczIwMDRhJyk7\"));\n",
       "    "
      ],
      "text/plain": [
       "<IPython.core.display.Javascript object>"
      ]
     },
     "metadata": {},
     "output_type": "display_data"
    },
    {
     "data": {
      "application/javascript": [
       "$('span:contains(\"# Temp\")').closest('.cell').remove();"
      ],
      "text/plain": [
       "<IPython.core.display.Javascript object>"
      ]
     },
     "metadata": {},
     "output_type": "display_data"
    },
    {
     "data": {
      "application/javascript": [
       "\n",
       "        $('span:contains(\"# Temp\")').closest('.cell').remove();\n",
       "        var code = IPython.notebook.insert_cell_below('code');\n",
       "        code.set_text(atob(\"IyBUZW1wCmluc2VydCgnJycKa2l0Y2hlbmhhbTIwMDZhID0gREIoV29yaygKICAgIDIwMDYsICJBIHN5c3RlbWF0aWMgcmV2aWV3IG9mIGNyb3NzLXZzLiB3aXRoaW4tY29tcGFueSBjb3N0IGVzdGltYXRpb24gc3R1ZGllcyIsCiAgICBkaXNwbGF5PSJraXRjaGVuaGFtIiwKICAgIGF1dGhvcnM9IktpdGNoZW5oYW0sIEJhcmJhcmEgYW5kIE1lbmRlcywgRW1pbGlhIGFuZCBUcmF2YXNzb3MsIEd1aWxoZXJtZSBIIiwKICAgIHBsYWNlPUVBU0UsCiAgICBwcD0iODEtLTkwIiwKICAgIGVudHJ5dHlwZT0iaW5wcm9jZWVkaW5ncyIsCiAgICBvcmdhbml6YXRpb249IkJyaXRpc2ggQ29tcHV0ZXIgU29jaWV0eSIsCiAgICBJRD0ia2l0Y2hlbmhhbTIwMDZzeXN0ZW1hdGljIiwKICAgIGNsdXN0ZXJfaWQ9IjYwNjE5MDIxOTY2ODU3NjA3OTMiLAogICAgc2Nob2xhcj0iaHR0cDovL3NjaG9sYXIuZ29vZ2xlLmNvbS9zY2hvbGFyP2NpdGVzPTYwNjE5MDIxOTY2ODU3NjA3OTMmYXNfc2R0PTIwMDUmc2Npb2R0PTAsNSZobD1lbiIsCikpCgpEQihDaXRhdGlvbigKICAgIGtpdGNoZW5oYW0yMDA2YSwgbWVuZGVzMjAwNGEsIHJlZj0iIiwKICAgIGNvbnRleHRzPVsKCiAgICBdLAopKQoKJycnLCBjaXRhdGlvbnM9J21lbmRlczIwMDRhJyk7\"));\n",
       "    "
      ],
      "text/plain": [
       "<IPython.core.display.Javascript object>"
      ]
     },
     "metadata": {},
     "output_type": "display_data"
    },
    {
     "data": {
      "application/javascript": [
       "$('span:contains(\"# Temp\")').closest('.cell').remove();"
      ],
      "text/plain": [
       "<IPython.core.display.Javascript object>"
      ]
     },
     "metadata": {},
     "output_type": "display_data"
    },
    {
     "data": {
      "application/javascript": [
       "\n",
       "        $('span:contains(\"# Temp\")').closest('.cell').remove();\n",
       "        var code = IPython.notebook.insert_cell_below('code');\n",
       "        code.set_text(atob(\"IyBUZW1wCmluc2VydCgnJycKa2l0Y2hlbmhhbTIwMDZhID0gREIoV29ya1VucmVsYXRlZCgKICAgIDIwMDYsICJBIHN5c3RlbWF0aWMgcmV2aWV3IG9mIGNyb3NzLXZzLiB3aXRoaW4tY29tcGFueSBjb3N0IGVzdGltYXRpb24gc3R1ZGllcyIsCiAgICBkaXNwbGF5PSJraXRjaGVuaGFtIiwKICAgIGF1dGhvcnM9IktpdGNoZW5oYW0sIEJhcmJhcmEgYW5kIE1lbmRlcywgRW1pbGlhIGFuZCBUcmF2YXNzb3MsIEd1aWxoZXJtZSBIIiwKICAgIHBsYWNlPUVBU0UsCiAgICBwcD0iODEtLTkwIiwKICAgIGVudHJ5dHlwZT0iaW5wcm9jZWVkaW5ncyIsCiAgICBvcmdhbml6YXRpb249IkJyaXRpc2ggQ29tcHV0ZXIgU29jaWV0eSIsCiAgICBJRD0ia2l0Y2hlbmhhbTIwMDZzeXN0ZW1hdGljIiwKICAgIGNsdXN0ZXJfaWQ9IjYwNjE5MDIxOTY2ODU3NjA3OTMiLAogICAgc2Nob2xhcj0iaHR0cDovL3NjaG9sYXIuZ29vZ2xlLmNvbS9zY2hvbGFyP2NpdGVzPTYwNjE5MDIxOTY2ODU3NjA3OTMmYXNfc2R0PTIwMDUmc2Npb2R0PTAsNSZobD1lbiIsCikpCgpEQihDaXRhdGlvbigKICAgIGtpdGNoZW5oYW0yMDA2YSwgbWVuZGVzMjAwNGEsIHJlZj0iIiwKICAgIGNvbnRleHRzPVsKCiAgICBdLAopKQoKJycnLCBjaXRhdGlvbnM9J21lbmRlczIwMDRhJyk7\"));\n",
       "    "
      ],
      "text/plain": [
       "<IPython.core.display.Javascript object>"
      ]
     },
     "metadata": {},
     "output_type": "display_data"
    },
    {
     "data": {
      "application/javascript": [
       "$('span:contains(\"# Temp\")').closest('.cell').remove();"
      ],
      "text/plain": [
       "<IPython.core.display.Javascript object>"
      ]
     },
     "metadata": {},
     "output_type": "display_data"
    },
    {
     "data": {
      "application/javascript": [
       "\n",
       "        $('span:contains(\"# Temp\")').closest('.cell').remove();\n",
       "        var code = IPython.notebook.insert_cell_below('code');\n",
       "        code.set_text(atob(\"IyBUZW1wCmluc2VydCgnJycKbWFpcjIwMDVhID0gREIoV29ya1VucmVsYXRlZCgKICAgIDIwMDUsICJUaGUgY29uc2lzdGVuY3kgb2YgZW1waXJpY2FsIGNvbXBhcmlzb25zIG9mIHJlZ3Jlc3Npb24gYW5kIGFuYWxvZ3ktYmFzZWQgc29mdHdhcmUgcHJvamVjdCBjb3N0IHByZWRpY3Rpb24iLAogICAgZGlzcGxheT0ibWFpciIsCiAgICBhdXRob3JzPSJNYWlyLCBDYXJvbHluIGFuZCBTaGVwcGVyZCwgTWFydGluIiwKICAgIHBsYWNlPUVTRU0sCiAgICBwcD0iMTAtLXBwIiwKICAgIGVudHJ5dHlwZT0iaW5wcm9jZWVkaW5ncyIsCiAgICBvcmdhbml6YXRpb249IklFRUUiLAogICAgSUQ9Im1haXIyMDA1Y29uc2lzdGVuY3kiLAogICAgY2x1c3Rlcl9pZD0iMTQ5Mzk2NTQ3MTEyNTMwMzg1NzEiLAogICAgc2Nob2xhcj0iaHR0cDovL3NjaG9sYXIuZ29vZ2xlLmNvbS9zY2hvbGFyP2NpdGVzPTE0OTM5NjU0NzExMjUzMDM4NTcxJmFzX3NkdD0yMDA1JnNjaW9kdD0wLDUmaGw9ZW4iLAopKQoKREIoQ2l0YXRpb24oCiAgICBtYWlyMjAwNWEsIG1lbmRlczIwMDRhLCByZWY9IiIsCiAgICBjb250ZXh0cz1bCgogICAgXSwKKSkKCicnJywgY2l0YXRpb25zPSdtZW5kZXMyMDA0YScpOw==\"));\n",
       "    "
      ],
      "text/plain": [
       "<IPython.core.display.Javascript object>"
      ]
     },
     "metadata": {},
     "output_type": "display_data"
    },
    {
     "data": {
      "application/javascript": [
       "$('span:contains(\"# Temp\")').closest('.cell').remove();"
      ],
      "text/plain": [
       "<IPython.core.display.Javascript object>"
      ]
     },
     "metadata": {},
     "output_type": "display_data"
    },
    {
     "data": {
      "application/javascript": [
       "\n",
       "        $('span:contains(\"# Temp\")').closest('.cell').remove();\n",
       "        var code = IPython.notebook.insert_cell_below('code');\n",
       "        code.set_text(atob(\"IyBUZW1wCmluc2VydCgnJycKbWFpcjIwMDVhID0gREIoV29yaygKICAgIDIwMDUsICJUaGUgY29uc2lzdGVuY3kgb2YgZW1waXJpY2FsIGNvbXBhcmlzb25zIG9mIHJlZ3Jlc3Npb24gYW5kIGFuYWxvZ3ktYmFzZWQgc29mdHdhcmUgcHJvamVjdCBjb3N0IHByZWRpY3Rpb24iLAogICAgZGlzcGxheT0ibWFpciIsCiAgICBhdXRob3JzPSJNYWlyLCBDYXJvbHluIGFuZCBTaGVwcGVyZCwgTWFydGluIiwKICAgIHBsYWNlPUVTRU0sCiAgICBwcD0iMTAtLXBwIiwKICAgIGVudHJ5dHlwZT0iaW5wcm9jZWVkaW5ncyIsCiAgICBvcmdhbml6YXRpb249IklFRUUiLAogICAgSUQ9Im1haXIyMDA1Y29uc2lzdGVuY3kiLAogICAgY2x1c3Rlcl9pZD0iMTQ5Mzk2NTQ3MTEyNTMwMzg1NzEiLAogICAgc2Nob2xhcj0iaHR0cDovL3NjaG9sYXIuZ29vZ2xlLmNvbS9zY2hvbGFyP2NpdGVzPTE0OTM5NjU0NzExMjUzMDM4NTcxJmFzX3NkdD0yMDA1JnNjaW9kdD0wLDUmaGw9ZW4iLAopKQoKREIoQ2l0YXRpb24oCiAgICBtYWlyMjAwNWEsIG1lbmRlczIwMDRhLCByZWY9IiIsCiAgICBjb250ZXh0cz1bCgogICAgXSwKKSkKCicnJywgY2l0YXRpb25zPSdtZW5kZXMyMDA0YScpOw==\"));\n",
       "    "
      ],
      "text/plain": [
       "<IPython.core.display.Javascript object>"
      ]
     },
     "metadata": {},
     "output_type": "display_data"
    },
    {
     "data": {
      "application/javascript": [
       "$('span:contains(\"# Temp\")').closest('.cell').remove();"
      ],
      "text/plain": [
       "<IPython.core.display.Javascript object>"
      ]
     },
     "metadata": {},
     "output_type": "display_data"
    },
    {
     "data": {
      "application/javascript": [
       "\n",
       "        $('span:contains(\"# Temp\")').closest('.cell').remove();\n",
       "        var code = IPython.notebook.insert_cell_below('code');\n",
       "        code.set_text(atob(\"IyBUZW1wCmluc2VydCgnJycKbWFpcjIwMDVhID0gREIoV29ya1VucmVsYXRlZCgKICAgIDIwMDUsICJUaGUgY29uc2lzdGVuY3kgb2YgZW1waXJpY2FsIGNvbXBhcmlzb25zIG9mIHJlZ3Jlc3Npb24gYW5kIGFuYWxvZ3ktYmFzZWQgc29mdHdhcmUgcHJvamVjdCBjb3N0IHByZWRpY3Rpb24iLAogICAgZGlzcGxheT0ibWFpciIsCiAgICBhdXRob3JzPSJNYWlyLCBDYXJvbHluIGFuZCBTaGVwcGVyZCwgTWFydGluIiwKICAgIHBsYWNlPUVTRU0sCiAgICBwcD0iMTAtLXBwIiwKICAgIGVudHJ5dHlwZT0iaW5wcm9jZWVkaW5ncyIsCiAgICBvcmdhbml6YXRpb249IklFRUUiLAogICAgSUQ9Im1haXIyMDA1Y29uc2lzdGVuY3kiLAogICAgY2x1c3Rlcl9pZD0iMTQ5Mzk2NTQ3MTEyNTMwMzg1NzEiLAogICAgc2Nob2xhcj0iaHR0cDovL3NjaG9sYXIuZ29vZ2xlLmNvbS9zY2hvbGFyP2NpdGVzPTE0OTM5NjU0NzExMjUzMDM4NTcxJmFzX3NkdD0yMDA1JnNjaW9kdD0wLDUmaGw9ZW4iLAopKQoKREIoQ2l0YXRpb24oCiAgICBtYWlyMjAwNWEsIG1lbmRlczIwMDRhLCByZWY9IiIsCiAgICBjb250ZXh0cz1bCgogICAgXSwKKSkKCicnJywgY2l0YXRpb25zPSdtZW5kZXMyMDA0YScpOw==\"));\n",
       "    "
      ],
      "text/plain": [
       "<IPython.core.display.Javascript object>"
      ]
     },
     "metadata": {},
     "output_type": "display_data"
    },
    {
     "data": {
      "application/javascript": [
       "$('span:contains(\"# Temp\")').closest('.cell').remove();"
      ],
      "text/plain": [
       "<IPython.core.display.Javascript object>"
      ]
     },
     "metadata": {},
     "output_type": "display_data"
    },
    {
     "data": {
      "application/javascript": [
       "\n",
       "        $('span:contains(\"# Temp\")').closest('.cell').remove();\n",
       "        var code = IPython.notebook.insert_cell_below('code');\n",
       "        code.set_text(atob(\"IyBUZW1wCmluc2VydCgnJycKREIoQ2l0YXRpb24oCiAgICBtZW5kZXMyMDA1YiwgbWVuZGVzMjAwNGEsIHJlZj0iIiwKICAgIGNvbnRleHRzPVsKCiAgICBdLAopKQoKJycnLCBjaXRhdGlvbnM9J21lbmRlczIwMDRhJyk7CnNldF9hdHRyaWJ1dGUoJ21lbmRlczIwMDViJywgJ2V4Y2VycHQnLCAnVGhpcyBwYXBlcidzIGFpbSBpcyB0byBicmluZyBsaWdodCB0byB0aGlzIGlzc3VlIGJ5IGlkZW50aWZ5aW5nIHNpemUgbWV0cmljcyBhbmQgY29zdCBkcml2ZXJzIGZvciBlYXJseSBXZWIgY29zdCBlc3RpbWF0aW9uIGJhc2VkIG9uIGN1cnJlbnQgcHJhY3RpY2VzIG9mIHNldmVyYWwgV2ViIENvbXBhbmllcyB3b3JsZHdpZGUuIFRoaXMgaXMgYWNoaWV2ZWQgdXNpbmcgdHdvIHN1cnZleXMgYW5kIGEgY2FzZSBzdHVkeS4gVGhlIGZpcnN0IHN1cnZleSAoUzEpIHVzZWQgYSBzZWFyY2ggJyk7\"));\n",
       "    "
      ],
      "text/plain": [
       "<IPython.core.display.Javascript object>"
      ]
     },
     "metadata": {},
     "output_type": "display_data"
    },
    {
     "data": {
      "application/javascript": [
       "$('span:contains(\"# Temp\")').closest('.cell').remove();"
      ],
      "text/plain": [
       "<IPython.core.display.Javascript object>"
      ]
     },
     "metadata": {},
     "output_type": "display_data"
    },
    {
     "data": {
      "application/javascript": [
       "\n",
       "        $('span:contains(\"# Temp\")').closest('.cell').remove();\n",
       "        var code = IPython.notebook.insert_cell_below('code');\n",
       "        code.set_text(atob(\"IyBUZW1wCmluc2VydCgnJycKREIoQ2l0YXRpb24oCiAgICBtZW5kZXMyMDA1YiwgbWVuZGVzMjAwNGEsIHJlZj0iIiwKICAgIGNvbnRleHRzPVsKCiAgICBdLAopKQoKJycnLCBjaXRhdGlvbnM9J21lbmRlczIwMDRhJyk7CnNldF9hdHRyaWJ1dGUoJ21lbmRlczIwMDViJywgJ2V4Y2VycHQnLCAnVGhpcyBwYXBlcidzIGFpbSBpcyB0byBicmluZyBsaWdodCB0byB0aGlzIGlzc3VlIGJ5IGlkZW50aWZ5aW5nIHNpemUgbWV0cmljcyBhbmQgY29zdCBkcml2ZXJzIGZvciBlYXJseSBXZWIgY29zdCBlc3RpbWF0aW9uIGJhc2VkIG9uIGN1cnJlbnQgcHJhY3RpY2VzIG9mIHNldmVyYWwgV2ViIENvbXBhbmllcyB3b3JsZHdpZGUuIFRoaXMgaXMgYWNoaWV2ZWQgdXNpbmcgdHdvIHN1cnZleXMgYW5kIGEgY2FzZSBzdHVkeS4gVGhlIGZpcnN0IHN1cnZleSAoUzEpIHVzZWQgYSBzZWFyY2ggJyk7\"));\n",
       "    "
      ],
      "text/plain": [
       "<IPython.core.display.Javascript object>"
      ]
     },
     "metadata": {},
     "output_type": "display_data"
    },
    {
     "data": {
      "application/javascript": [
       "$('span:contains(\"# Temp\")').closest('.cell').remove();"
      ],
      "text/plain": [
       "<IPython.core.display.Javascript object>"
      ]
     },
     "metadata": {},
     "output_type": "display_data"
    },
    {
     "data": {
      "application/javascript": [
       "\n",
       "        $('span:contains(\"# Temp\")').closest('.cell').remove();\n",
       "        var code = IPython.notebook.insert_cell_below('code');\n",
       "        code.set_text(atob(\"IyBUZW1wCmluc2VydCgnJycKREIoQ2l0YXRpb24oCiAgICBtZW5kZXMyMDA1YiwgbWVuZGVzMjAwNGEsIHJlZj0iIiwKICAgIGNvbnRleHRzPVsKCiAgICBdLAopKQoKJycnLCBjaXRhdGlvbnM9J21lbmRlczIwMDRhJyk7CnNldF9hdHRyaWJ1dGUoJ21lbmRlczIwMDViJywgJ2V4Y2VycHQnLCAnVGhpcyBwYXBlcidzIGFpbSBpcyB0byBicmluZyBsaWdodCB0byB0aGlzIGlzc3VlIGJ5IGlkZW50aWZ5aW5nIHNpemUgbWV0cmljcyBhbmQgY29zdCBkcml2ZXJzIGZvciBlYXJseSBXZWIgY29zdCBlc3RpbWF0aW9uIGJhc2VkIG9uIGN1cnJlbnQgcHJhY3RpY2VzIG9mIHNldmVyYWwgV2ViIENvbXBhbmllcyB3b3JsZHdpZGUuIFRoaXMgaXMgYWNoaWV2ZWQgdXNpbmcgdHdvIHN1cnZleXMgYW5kIGEgY2FzZSBzdHVkeS4gVGhlIGZpcnN0IHN1cnZleSAoUzEpIHVzZWQgYSBzZWFyY2ggJyk7\"));\n",
       "    "
      ],
      "text/plain": [
       "<IPython.core.display.Javascript object>"
      ]
     },
     "metadata": {},
     "output_type": "display_data"
    },
    {
     "data": {
      "application/javascript": [
       "$('span:contains(\"# Temp\")').closest('.cell').remove();"
      ],
      "text/plain": [
       "<IPython.core.display.Javascript object>"
      ]
     },
     "metadata": {},
     "output_type": "display_data"
    },
    {
     "data": {
      "application/javascript": [
       "\n",
       "        $('span:contains(\"# Temp\")').closest('.cell').remove();\n",
       "        var code = IPython.notebook.insert_cell_below('code');\n",
       "        code.set_text(atob(\"IyBUZW1wCmluc2VydCgnJycKbWVuZGVzMjAwOGQgPSBEQihXb3JrVW5yZWxhdGVkKAogICAgMjAwOCwgIkJheWVzaWFuIG5ldHdvcmsgbW9kZWxzIGZvciB3ZWIgZWZmb3J0IHByZWRpY3Rpb246IGEgY29tcGFyYXRpdmUgc3R1ZHkiLAogICAgZGlzcGxheT0ibWVuZGVzIGQiLAogICAgYXV0aG9ycz0iTWVuZGVzLCBFbWlsaWEgYW5kIE1vc2xleSwgTmlsZSIsCiAgICBwbGFjZT1Ub1NFLAogICAgcHA9IjcyMy0tNzM3IiwKICAgIGVudHJ5dHlwZT0iYXJ0aWNsZSIsCiAgICB2b2x1bWU9IjM0IiwKICAgIG51bWJlcj0iNiIsCiAgICBwdWJsaXNoZXI9IklFRUUiLAogICAgSUQ9Im1lbmRlczIwMDhiYXllc2lhbiIsCiAgICBjbHVzdGVyX2lkPSIxNDU4NjgxOTgxNDc1Njg1MTAwOCIsCiAgICBzY2hvbGFyPSJodHRwOi8vc2Nob2xhci5nb29nbGUuY29tL3NjaG9sYXI/Y2l0ZXM9MTQ1ODY4MTk4MTQ3NTY4NTEwMDgmYXNfc2R0PTIwMDUmc2Npb2R0PTAsNSZobD1lbiIsCikpCgpEQihDaXRhdGlvbigKICAgIG1lbmRlczIwMDhkLCBtZW5kZXMyMDA0YSwgcmVmPSIiLAogICAgY29udGV4dHM9WwoKICAgIF0sCikpCgonJycsIGNpdGF0aW9ucz0nbWVuZGVzMjAwNGEnKTs=\"));\n",
       "    "
      ],
      "text/plain": [
       "<IPython.core.display.Javascript object>"
      ]
     },
     "metadata": {},
     "output_type": "display_data"
    },
    {
     "data": {
      "application/javascript": [
       "$('span:contains(\"# Temp\")').closest('.cell').remove();"
      ],
      "text/plain": [
       "<IPython.core.display.Javascript object>"
      ]
     },
     "metadata": {},
     "output_type": "display_data"
    },
    {
     "data": {
      "application/javascript": [
       "\n",
       "        $('span:contains(\"# Temp\")').closest('.cell').remove();\n",
       "        var code = IPython.notebook.insert_cell_below('code');\n",
       "        code.set_text(atob(\"IyBUZW1wCmluc2VydCgnJycKbWVuZGVzMjAwOGQgPSBEQihXb3JrKAogICAgMjAwOCwgIkJheWVzaWFuIG5ldHdvcmsgbW9kZWxzIGZvciB3ZWIgZWZmb3J0IHByZWRpY3Rpb246IGEgY29tcGFyYXRpdmUgc3R1ZHkiLAogICAgZGlzcGxheT0ibWVuZGVzIGQiLAogICAgYXV0aG9ycz0iTWVuZGVzLCBFbWlsaWEgYW5kIE1vc2xleSwgTmlsZSIsCiAgICBwbGFjZT1Ub1NFLAogICAgcHA9IjcyMy0tNzM3IiwKICAgIGVudHJ5dHlwZT0iYXJ0aWNsZSIsCiAgICB2b2x1bWU9IjM0IiwKICAgIG51bWJlcj0iNiIsCiAgICBwdWJsaXNoZXI9IklFRUUiLAogICAgSUQ9Im1lbmRlczIwMDhiYXllc2lhbiIsCiAgICBjbHVzdGVyX2lkPSIxNDU4NjgxOTgxNDc1Njg1MTAwOCIsCiAgICBzY2hvbGFyPSJodHRwOi8vc2Nob2xhci5nb29nbGUuY29tL3NjaG9sYXI/Y2l0ZXM9MTQ1ODY4MTk4MTQ3NTY4NTEwMDgmYXNfc2R0PTIwMDUmc2Npb2R0PTAsNSZobD1lbiIsCikpCgpEQihDaXRhdGlvbigKICAgIG1lbmRlczIwMDhkLCBtZW5kZXMyMDA0YSwgcmVmPSIiLAogICAgY29udGV4dHM9WwoKICAgIF0sCikpCgonJycsIGNpdGF0aW9ucz0nbWVuZGVzMjAwNGEnKTs=\"));\n",
       "    "
      ],
      "text/plain": [
       "<IPython.core.display.Javascript object>"
      ]
     },
     "metadata": {},
     "output_type": "display_data"
    },
    {
     "data": {
      "application/javascript": [
       "$('span:contains(\"# Temp\")').closest('.cell').remove();"
      ],
      "text/plain": [
       "<IPython.core.display.Javascript object>"
      ]
     },
     "metadata": {},
     "output_type": "display_data"
    },
    {
     "data": {
      "application/javascript": [
       "\n",
       "        $('span:contains(\"# Temp\")').closest('.cell').remove();\n",
       "        var code = IPython.notebook.insert_cell_below('code');\n",
       "        code.set_text(atob(\"IyBUZW1wCmluc2VydCgnJycKbWVuZGVzMjAwOGQgPSBEQihXb3JrVW5yZWxhdGVkKAogICAgMjAwOCwgIkJheWVzaWFuIG5ldHdvcmsgbW9kZWxzIGZvciB3ZWIgZWZmb3J0IHByZWRpY3Rpb246IGEgY29tcGFyYXRpdmUgc3R1ZHkiLAogICAgZGlzcGxheT0ibWVuZGVzIGQiLAogICAgYXV0aG9ycz0iTWVuZGVzLCBFbWlsaWEgYW5kIE1vc2xleSwgTmlsZSIsCiAgICBwbGFjZT1Ub1NFLAogICAgcHA9IjcyMy0tNzM3IiwKICAgIGVudHJ5dHlwZT0iYXJ0aWNsZSIsCiAgICB2b2x1bWU9IjM0IiwKICAgIG51bWJlcj0iNiIsCiAgICBwdWJsaXNoZXI9IklFRUUiLAogICAgSUQ9Im1lbmRlczIwMDhiYXllc2lhbiIsCiAgICBjbHVzdGVyX2lkPSIxNDU4NjgxOTgxNDc1Njg1MTAwOCIsCiAgICBzY2hvbGFyPSJodHRwOi8vc2Nob2xhci5nb29nbGUuY29tL3NjaG9sYXI/Y2l0ZXM9MTQ1ODY4MTk4MTQ3NTY4NTEwMDgmYXNfc2R0PTIwMDUmc2Npb2R0PTAsNSZobD1lbiIsCikpCgpEQihDaXRhdGlvbigKICAgIG1lbmRlczIwMDhkLCBtZW5kZXMyMDA0YSwgcmVmPSIiLAogICAgY29udGV4dHM9WwoKICAgIF0sCikpCgonJycsIGNpdGF0aW9ucz0nbWVuZGVzMjAwNGEnKTs=\"));\n",
       "    "
      ],
      "text/plain": [
       "<IPython.core.display.Javascript object>"
      ]
     },
     "metadata": {},
     "output_type": "display_data"
    },
    {
     "data": {
      "application/javascript": [
       "$('span:contains(\"# Temp\")').closest('.cell').remove();"
      ],
      "text/plain": [
       "<IPython.core.display.Javascript object>"
      ]
     },
     "metadata": {},
     "output_type": "display_data"
    },
    {
     "data": {
      "application/javascript": [
       "\n",
       "        $('span:contains(\"# Temp\")').closest('.cell').remove();\n",
       "        var code = IPython.notebook.insert_cell_below('code');\n",
       "        code.set_text(atob(\"IyBUZW1wCmluc2VydCgnJycKcHJlbXJhajIwMDVhID0gREIoV29ya1VucmVsYXRlZCgKICAgIDIwMDUsICJBbiBlbXBpcmljYWwgYW5hbHlzaXMgb2Ygc29mdHdhcmUgcHJvZHVjdGl2aXR5IG92ZXIgdGltZSIsCiAgICBkaXNwbGF5PSJwcmVtcmFqIiwKICAgIGF1dGhvcnM9IlByZW1yYWosIFJhaHVsIGFuZCBTaGVwcGVyZCwgTWFydGluIGFuZCBLaXRjaGVuaGFtLCBCYXJiYXJhIGFuZCBGb3JzZWxpdXMsIFBla2thIiwKICAgIHBwPSIxMC0tcHAiLAogICAgcGxhY2UxPSJTb2Z0d2FyZSBNZXRyaWNzLCAyMDA1LiAxMXRoIElFRUUgSW50ZXJuYXRpb25hbCBTeW1wb3NpdW0iLAogICAgZW50cnl0eXBlPSJpbnByb2NlZWRpbmdzIiwKICAgIG9yZ2FuaXphdGlvbj0iSUVFRSIsCiAgICBJRD0icHJlbXJhajIwMDVlbXBpcmljYWwiLAogICAgY2x1c3Rlcl9pZD0iOTQwMzM1MTAzNDUyNTA0MjAyNSIsCiAgICBzY2hvbGFyPSJodHRwOi8vc2Nob2xhci5nb29nbGUuY29tL3NjaG9sYXI/Y2l0ZXM9OTQwMzM1MTAzNDUyNTA0MjAyNSZhc19zZHQ9MjAwNSZzY2lvZHQ9MCw1JmhsPWVuIiwKKSkKCkRCKENpdGF0aW9uKAogICAgcHJlbXJhajIwMDVhLCBtZW5kZXMyMDA0YSwgcmVmPSIiLAogICAgY29udGV4dHM9WwoKICAgIF0sCikpCgonJycsIGNpdGF0aW9ucz0nbWVuZGVzMjAwNGEnKTs=\"));\n",
       "    "
      ],
      "text/plain": [
       "<IPython.core.display.Javascript object>"
      ]
     },
     "metadata": {},
     "output_type": "display_data"
    },
    {
     "data": {
      "application/javascript": [
       "$('span:contains(\"# Temp\")').closest('.cell').remove();"
      ],
      "text/plain": [
       "<IPython.core.display.Javascript object>"
      ]
     },
     "metadata": {},
     "output_type": "display_data"
    },
    {
     "data": {
      "application/javascript": [
       "\n",
       "        $('span:contains(\"# Temp\")').closest('.cell').remove();\n",
       "        var code = IPython.notebook.insert_cell_below('code');\n",
       "        code.set_text(atob(\"IyBUZW1wCmluc2VydCgnJycKcHJlbXJhajIwMDVhID0gREIoV29yaygKICAgIDIwMDUsICJBbiBlbXBpcmljYWwgYW5hbHlzaXMgb2Ygc29mdHdhcmUgcHJvZHVjdGl2aXR5IG92ZXIgdGltZSIsCiAgICBkaXNwbGF5PSJwcmVtcmFqIiwKICAgIGF1dGhvcnM9IlByZW1yYWosIFJhaHVsIGFuZCBTaGVwcGVyZCwgTWFydGluIGFuZCBLaXRjaGVuaGFtLCBCYXJiYXJhIGFuZCBGb3JzZWxpdXMsIFBla2thIiwKICAgIHBwPSIxMC0tcHAiLAogICAgcGxhY2UxPSJTb2Z0d2FyZSBNZXRyaWNzLCAyMDA1LiAxMXRoIElFRUUgSW50ZXJuYXRpb25hbCBTeW1wb3NpdW0iLAogICAgZW50cnl0eXBlPSJpbnByb2NlZWRpbmdzIiwKICAgIG9yZ2FuaXphdGlvbj0iSUVFRSIsCiAgICBJRD0icHJlbXJhajIwMDVlbXBpcmljYWwiLAogICAgY2x1c3Rlcl9pZD0iOTQwMzM1MTAzNDUyNTA0MjAyNSIsCiAgICBzY2hvbGFyPSJodHRwOi8vc2Nob2xhci5nb29nbGUuY29tL3NjaG9sYXI/Y2l0ZXM9OTQwMzM1MTAzNDUyNTA0MjAyNSZhc19zZHQ9MjAwNSZzY2lvZHQ9MCw1JmhsPWVuIiwKKSkKCkRCKENpdGF0aW9uKAogICAgcHJlbXJhajIwMDVhLCBtZW5kZXMyMDA0YSwgcmVmPSIiLAogICAgY29udGV4dHM9WwoKICAgIF0sCikpCgonJycsIGNpdGF0aW9ucz0nbWVuZGVzMjAwNGEnKTs=\"));\n",
       "    "
      ],
      "text/plain": [
       "<IPython.core.display.Javascript object>"
      ]
     },
     "metadata": {},
     "output_type": "display_data"
    },
    {
     "data": {
      "application/javascript": [
       "$('span:contains(\"# Temp\")').closest('.cell').remove();"
      ],
      "text/plain": [
       "<IPython.core.display.Javascript object>"
      ]
     },
     "metadata": {},
     "output_type": "display_data"
    },
    {
     "data": {
      "application/javascript": [
       "\n",
       "        $('span:contains(\"# Temp\")').closest('.cell').remove();\n",
       "        var code = IPython.notebook.insert_cell_below('code');\n",
       "        code.set_text(atob(\"IyBUZW1wCmluc2VydCgnJycKcHJlbXJhajIwMDVhID0gREIoV29ya1VucmVsYXRlZCgKICAgIDIwMDUsICJBbiBlbXBpcmljYWwgYW5hbHlzaXMgb2Ygc29mdHdhcmUgcHJvZHVjdGl2aXR5IG92ZXIgdGltZSIsCiAgICBkaXNwbGF5PSJwcmVtcmFqIiwKICAgIGF1dGhvcnM9IlByZW1yYWosIFJhaHVsIGFuZCBTaGVwcGVyZCwgTWFydGluIGFuZCBLaXRjaGVuaGFtLCBCYXJiYXJhIGFuZCBGb3JzZWxpdXMsIFBla2thIiwKICAgIHBwPSIxMC0tcHAiLAogICAgcGxhY2UxPSJTb2Z0d2FyZSBNZXRyaWNzLCAyMDA1LiAxMXRoIElFRUUgSW50ZXJuYXRpb25hbCBTeW1wb3NpdW0iLAogICAgZW50cnl0eXBlPSJpbnByb2NlZWRpbmdzIiwKICAgIG9yZ2FuaXphdGlvbj0iSUVFRSIsCiAgICBJRD0icHJlbXJhajIwMDVlbXBpcmljYWwiLAogICAgY2x1c3Rlcl9pZD0iOTQwMzM1MTAzNDUyNTA0MjAyNSIsCiAgICBzY2hvbGFyPSJodHRwOi8vc2Nob2xhci5nb29nbGUuY29tL3NjaG9sYXI/Y2l0ZXM9OTQwMzM1MTAzNDUyNTA0MjAyNSZhc19zZHQ9MjAwNSZzY2lvZHQ9MCw1JmhsPWVuIiwKKSkKCkRCKENpdGF0aW9uKAogICAgcHJlbXJhajIwMDVhLCBtZW5kZXMyMDA0YSwgcmVmPSIiLAogICAgY29udGV4dHM9WwoKICAgIF0sCikpCgonJycsIGNpdGF0aW9ucz0nbWVuZGVzMjAwNGEnKTs=\"));\n",
       "    "
      ],
      "text/plain": [
       "<IPython.core.display.Javascript object>"
      ]
     },
     "metadata": {},
     "output_type": "display_data"
    },
    {
     "data": {
      "application/javascript": [
       "$('span:contains(\"# Temp\")').closest('.cell').remove();"
      ],
      "text/plain": [
       "<IPython.core.display.Javascript object>"
      ]
     },
     "metadata": {},
     "output_type": "display_data"
    },
    {
     "data": {
      "application/javascript": [
       "\n",
       "        $('span:contains(\"# Temp\")').closest('.cell').remove();\n",
       "        var code = IPython.notebook.insert_cell_below('code');\n",
       "        code.set_text(atob(\"IyBUZW1wCmluc2VydCgnJycKcHJlbXJhajIwMDVhID0gREIoV29ya1VucmVsYXRlZCgKICAgIDIwMDUsICJBbiBlbXBpcmljYWwgYW5hbHlzaXMgb2Ygc29mdHdhcmUgcHJvZHVjdGl2aXR5IG92ZXIgdGltZSIsCiAgICBkaXNwbGF5PSJwcmVtcmFqIiwKICAgIGF1dGhvcnM9IlByZW1yYWosIFJhaHVsIGFuZCBTaGVwcGVyZCwgTWFydGluIGFuZCBLaXRjaGVuaGFtLCBCYXJiYXJhIGFuZCBGb3JzZWxpdXMsIFBla2thIiwKICAgIHBwPSIxMC0tcHAiLAogICAgcGxhY2UxPSJTb2Z0d2FyZSBNZXRyaWNzLCAyMDA1LiAxMXRoIElFRUUgSW50ZXJuYXRpb25hbCBTeW1wb3NpdW0iLAogICAgZW50cnl0eXBlPSJpbnByb2NlZWRpbmdzIiwKICAgIG9yZ2FuaXphdGlvbj0iSUVFRSIsCiAgICBJRD0icHJlbXJhajIwMDVlbXBpcmljYWwiLAogICAgY2x1c3Rlcl9pZD0iOTQwMzM1MTAzNDUyNTA0MjAyNSIsCiAgICBzY2hvbGFyPSJodHRwOi8vc2Nob2xhci5nb29nbGUuY29tL3NjaG9sYXI/Y2l0ZXM9OTQwMzM1MTAzNDUyNTA0MjAyNSZhc19zZHQ9MjAwNSZzY2lvZHQ9MCw1JmhsPWVuIiwKKSkKCkRCKENpdGF0aW9uKAogICAgcHJlbXJhajIwMDVhLCBtZW5kZXMyMDA0YSwgcmVmPSIiLAogICAgY29udGV4dHM9WwoKICAgIF0sCikpCgonJycsIGNpdGF0aW9ucz0nbWVuZGVzMjAwNGEnKTs=\"));\n",
       "    "
      ],
      "text/plain": [
       "<IPython.core.display.Javascript object>"
      ]
     },
     "metadata": {},
     "output_type": "display_data"
    },
    {
     "data": {
      "application/javascript": [
       "$('span:contains(\"# Temp\")').closest('.cell').remove();"
      ],
      "text/plain": [
       "<IPython.core.display.Javascript object>"
      ]
     },
     "metadata": {},
     "output_type": "display_data"
    },
    {
     "data": {
      "application/javascript": [
       "\n",
       "        $('span:contains(\"# Temp\")').closest('.cell').remove();\n",
       "        var code = IPython.notebook.insert_cell_below('code');\n",
       "        code.set_text(atob(\"IyBUZW1wCmluc2VydCgnJycKcHJlbXJhajIwMDVhID0gREIoV29ya1VucmVsYXRlZCgKICAgIDIwMDUsICJBbiBlbXBpcmljYWwgYW5hbHlzaXMgb2Ygc29mdHdhcmUgcHJvZHVjdGl2aXR5IG92ZXIgdGltZSIsCiAgICBkaXNwbGF5PSJwcmVtcmFqIiwKICAgIGF1dGhvcnM9IlByZW1yYWosIFJhaHVsIGFuZCBTaGVwcGVyZCwgTWFydGluIGFuZCBLaXRjaGVuaGFtLCBCYXJiYXJhIGFuZCBGb3JzZWxpdXMsIFBla2thIiwKICAgIHBwPSIxMC0tcHAiLAogICAgcGxhY2UxPSJTb2Z0d2FyZSBNZXRyaWNzLCAyMDA1LiAxMXRoIElFRUUgSW50ZXJuYXRpb25hbCBTeW1wb3NpdW0iLAogICAgZW50cnl0eXBlPSJpbnByb2NlZWRpbmdzIiwKICAgIG9yZ2FuaXphdGlvbj0iSUVFRSIsCiAgICBJRD0icHJlbXJhajIwMDVlbXBpcmljYWwiLAogICAgY2x1c3Rlcl9pZD0iOTQwMzM1MTAzNDUyNTA0MjAyNSIsCiAgICBzY2hvbGFyPSJodHRwOi8vc2Nob2xhci5nb29nbGUuY29tL3NjaG9sYXI/Y2l0ZXM9OTQwMzM1MTAzNDUyNTA0MjAyNSZhc19zZHQ9MjAwNSZzY2lvZHQ9MCw1JmhsPWVuIiwKKSkKCkRCKENpdGF0aW9uKAogICAgcHJlbXJhajIwMDVhLCBtZW5kZXMyMDA0YSwgcmVmPSIiLAogICAgY29udGV4dHM9WwoKICAgIF0sCikpCgonJycsIGNpdGF0aW9ucz0nbWVuZGVzMjAwNGEnKTs=\"));\n",
       "    "
      ],
      "text/plain": [
       "<IPython.core.display.Javascript object>"
      ]
     },
     "metadata": {},
     "output_type": "display_data"
    },
    {
     "data": {
      "application/javascript": [
       "$('span:contains(\"# Temp\")').closest('.cell').remove();"
      ],
      "text/plain": [
       "<IPython.core.display.Javascript object>"
      ]
     },
     "metadata": {},
     "output_type": "display_data"
    },
    {
     "data": {
      "application/javascript": [
       "\n",
       "        $('span:contains(\"# Temp\")').closest('.cell').remove();\n",
       "        var code = IPython.notebook.insert_cell_below('code');\n",
       "        code.set_text(atob(\"IyBUZW1wCmluc2VydCgnJycKcHJlbXJhajIwMDVhID0gREIoV29ya1VucmVsYXRlZCgKICAgIDIwMDUsICJBbiBlbXBpcmljYWwgYW5hbHlzaXMgb2Ygc29mdHdhcmUgcHJvZHVjdGl2aXR5IG92ZXIgdGltZSIsCiAgICBkaXNwbGF5PSJwcmVtcmFqIiwKICAgIGF1dGhvcnM9IlByZW1yYWosIFJhaHVsIGFuZCBTaGVwcGVyZCwgTWFydGluIGFuZCBLaXRjaGVuaGFtLCBCYXJiYXJhIGFuZCBGb3JzZWxpdXMsIFBla2thIiwKICAgIHBwPSIxMC0tcHAiLAogICAgcGxhY2UxPSJTb2Z0d2FyZSBNZXRyaWNzLCAyMDA1LiAxMXRoIElFRUUgSW50ZXJuYXRpb25hbCBTeW1wb3NpdW0iLAogICAgZW50cnl0eXBlPSJpbnByb2NlZWRpbmdzIiwKICAgIG9yZ2FuaXphdGlvbj0iSUVFRSIsCiAgICBJRD0icHJlbXJhajIwMDVlbXBpcmljYWwiLAogICAgY2x1c3Rlcl9pZD0iOTQwMzM1MTAzNDUyNTA0MjAyNSIsCiAgICBzY2hvbGFyPSJodHRwOi8vc2Nob2xhci5nb29nbGUuY29tL3NjaG9sYXI/Y2l0ZXM9OTQwMzM1MTAzNDUyNTA0MjAyNSZhc19zZHQ9MjAwNSZzY2lvZHQ9MCw1JmhsPWVuIiwKKSkKCkRCKENpdGF0aW9uKAogICAgcHJlbXJhajIwMDVhLCBtZW5kZXMyMDA0YSwgcmVmPSIiLAogICAgY29udGV4dHM9WwoKICAgIF0sCikpCgonJycsIGNpdGF0aW9ucz0nbWVuZGVzMjAwNGEnKTs=\"));\n",
       "    "
      ],
      "text/plain": [
       "<IPython.core.display.Javascript object>"
      ]
     },
     "metadata": {},
     "output_type": "display_data"
    },
    {
     "data": {
      "application/javascript": [
       "$('span:contains(\"# Temp\")').closest('.cell').remove();"
      ],
      "text/plain": [
       "<IPython.core.display.Javascript object>"
      ]
     },
     "metadata": {},
     "output_type": "display_data"
    },
    {
     "data": {
      "application/javascript": [
       "\n",
       "        $('span:contains(\"# Temp\")').closest('.cell').remove();\n",
       "        var code = IPython.notebook.insert_cell_below('code');\n",
       "        code.set_text(atob(\"IyBUZW1wCmluc2VydCgnJycKbWVuZGVzMjAwNWMgPSBEQihXb3JrVW5yZWxhdGVkKAogICAgMjAwNSwgIkEgcmVwbGljYXRlZCBjb21wYXJpc29uIG9mIGNyb3NzLWNvbXBhbnkgYW5kIHdpdGhpbi1jb21wYW55IGVmZm9ydCBlc3RpbWF0aW9uIG1vZGVscyB1c2luZyB0aGUgSVNCU0cgZGF0YWJhc2UiLAogICAgZGlzcGxheT0ibWVuZGVzIGMiLAogICAgYXV0aG9ycz0iTWVuZGVzLCBFbWlsaWEgYW5kIExva2FuLCBDaHJpcyBhbmQgSGFycmlzb24sIFJvYmVydCBhbmQgVHJpZ2dzLCBDaHJpcyIsCiAgICBwcD0iMTAtLXBwIiwKICAgIHBsYWNlMT0iU29mdHdhcmUgTWV0cmljcywgMjAwNS4gMTF0aCBJRUVFIEludGVybmF0aW9uYWwgU3ltcG9zaXVtIiwKICAgIGVudHJ5dHlwZT0iaW5wcm9jZWVkaW5ncyIsCiAgICBvcmdhbml6YXRpb249IklFRUUiLAogICAgSUQ9Im1lbmRlczIwMDVyZXBsaWNhdGVkIiwKICAgIGNsdXN0ZXJfaWQ9IjUzNjk3NTA4ODM1OTgzMTM5MjEiLAogICAgc2Nob2xhcj0iaHR0cDovL3NjaG9sYXIuZ29vZ2xlLmNvbS9zY2hvbGFyP2NpdGVzPTUzNjk3NTA4ODM1OTgzMTM5MjEmYXNfc2R0PTIwMDUmc2Npb2R0PTAsNSZobD1lbiIsCikpCgpEQihDaXRhdGlvbigKICAgIG1lbmRlczIwMDVjLCBtZW5kZXMyMDA0YSwgcmVmPSIiLAogICAgY29udGV4dHM9WwoKICAgIF0sCikpCgonJycsIGNpdGF0aW9ucz0nbWVuZGVzMjAwNGEnKTs=\"));\n",
       "    "
      ],
      "text/plain": [
       "<IPython.core.display.Javascript object>"
      ]
     },
     "metadata": {},
     "output_type": "display_data"
    },
    {
     "data": {
      "application/javascript": [
       "$('span:contains(\"# Temp\")').closest('.cell').remove();"
      ],
      "text/plain": [
       "<IPython.core.display.Javascript object>"
      ]
     },
     "metadata": {},
     "output_type": "display_data"
    },
    {
     "data": {
      "application/javascript": [
       "\n",
       "        $('span:contains(\"# Temp\")').closest('.cell').remove();\n",
       "        var code = IPython.notebook.insert_cell_below('code');\n",
       "        code.set_text(atob(\"IyBUZW1wCmluc2VydCgnJycKbWVuZGVzMjAwNWMgPSBEQihXb3JrKAogICAgMjAwNSwgIkEgcmVwbGljYXRlZCBjb21wYXJpc29uIG9mIGNyb3NzLWNvbXBhbnkgYW5kIHdpdGhpbi1jb21wYW55IGVmZm9ydCBlc3RpbWF0aW9uIG1vZGVscyB1c2luZyB0aGUgSVNCU0cgZGF0YWJhc2UiLAogICAgZGlzcGxheT0ibWVuZGVzIGMiLAogICAgYXV0aG9ycz0iTWVuZGVzLCBFbWlsaWEgYW5kIExva2FuLCBDaHJpcyBhbmQgSGFycmlzb24sIFJvYmVydCBhbmQgVHJpZ2dzLCBDaHJpcyIsCiAgICBwcD0iMTAtLXBwIiwKICAgIHBsYWNlMT0iU29mdHdhcmUgTWV0cmljcywgMjAwNS4gMTF0aCBJRUVFIEludGVybmF0aW9uYWwgU3ltcG9zaXVtIiwKICAgIGVudHJ5dHlwZT0iaW5wcm9jZWVkaW5ncyIsCiAgICBvcmdhbml6YXRpb249IklFRUUiLAogICAgSUQ9Im1lbmRlczIwMDVyZXBsaWNhdGVkIiwKICAgIGNsdXN0ZXJfaWQ9IjUzNjk3NTA4ODM1OTgzMTM5MjEiLAogICAgc2Nob2xhcj0iaHR0cDovL3NjaG9sYXIuZ29vZ2xlLmNvbS9zY2hvbGFyP2NpdGVzPTUzNjk3NTA4ODM1OTgzMTM5MjEmYXNfc2R0PTIwMDUmc2Npb2R0PTAsNSZobD1lbiIsCikpCgpEQihDaXRhdGlvbigKICAgIG1lbmRlczIwMDVjLCBtZW5kZXMyMDA0YSwgcmVmPSIiLAogICAgY29udGV4dHM9WwoKICAgIF0sCikpCgonJycsIGNpdGF0aW9ucz0nbWVuZGVzMjAwNGEnKTs=\"));\n",
       "    "
      ],
      "text/plain": [
       "<IPython.core.display.Javascript object>"
      ]
     },
     "metadata": {},
     "output_type": "display_data"
    },
    {
     "data": {
      "application/javascript": [
       "$('span:contains(\"# Temp\")').closest('.cell').remove();"
      ],
      "text/plain": [
       "<IPython.core.display.Javascript object>"
      ]
     },
     "metadata": {},
     "output_type": "display_data"
    },
    {
     "data": {
      "application/javascript": [
       "\n",
       "        $('span:contains(\"# Temp\")').closest('.cell').remove();\n",
       "        var code = IPython.notebook.insert_cell_below('code');\n",
       "        code.set_text(atob(\"IyBUZW1wCmluc2VydCgnJycKd2F0YW5hYmUyMDA4YSA9IERCKFdvcmtVbnJlbGF0ZWQoCiAgICAyMDA4LCAiQWRhcHRpbmcgYSBmYXVsdCBwcmVkaWN0aW9uIG1vZGVsIHRvIGFsbG93IGludGVyIGxhbmd1YWdlcmV1c2UiLAogICAgZGlzcGxheT0id2F0YW5hYmUiLAogICAgYXV0aG9ycz0iV2F0YW5hYmUsIFNoaW55YSBhbmQgS2FpeWEsIEhhcnVoaWtvIGFuZCBLYWlqaXJpLCBLZW5qaSIsCiAgICBwcD0iMTktLTI0IiwKICAgIHBsYWNlMT0iUHJvY2VlZGluZ3Mgb2YgdGhlIDR0aCBpbnRlcm5hdGlvbmFsIHdvcmtzaG9wIG9uIFByZWRpY3RvciBtb2RlbHMgaW4gc29mdHdhcmUgZW5naW5lZXJpbmciLAogICAgZW50cnl0eXBlPSJpbnByb2NlZWRpbmdzIiwKICAgIG9yZ2FuaXphdGlvbj0iQUNNIiwKICAgIElEPSJ3YXRhbmFiZTIwMDhhZGFwdGluZyIsCiAgICBjbHVzdGVyX2lkPSIxMzg4MjY2NjEwOTU3ODg5NDE1MCIsCiAgICBzY2hvbGFyPSJodHRwOi8vc2Nob2xhci5nb29nbGUuY29tL3NjaG9sYXI/Y2l0ZXM9MTM4ODI2NjYxMDk1Nzg4OTQxNTAmYXNfc2R0PTIwMDUmc2Npb2R0PTAsNSZobD1lbiIsCikpCgpEQihDaXRhdGlvbigKICAgIHdhdGFuYWJlMjAwOGEsIG1lbmRlczIwMDRhLCByZWY9IiIsCiAgICBjb250ZXh0cz1bCgogICAgXSwKKSkKCicnJywgY2l0YXRpb25zPSdtZW5kZXMyMDA0YScpOw==\"));\n",
       "    "
      ],
      "text/plain": [
       "<IPython.core.display.Javascript object>"
      ]
     },
     "metadata": {},
     "output_type": "display_data"
    },
    {
     "data": {
      "application/javascript": [
       "$('span:contains(\"# Temp\")').closest('.cell').remove();"
      ],
      "text/plain": [
       "<IPython.core.display.Javascript object>"
      ]
     },
     "metadata": {},
     "output_type": "display_data"
    },
    {
     "data": {
      "application/javascript": [
       "\n",
       "        $('span:contains(\"# Temp\")').closest('.cell').remove();\n",
       "        var code = IPython.notebook.insert_cell_below('code');\n",
       "        code.set_text(atob(\"IyBUZW1wCmluc2VydCgnJycKd2F0YW5hYmUyMDA4YSA9IERCKFdvcmsoCiAgICAyMDA4LCAiQWRhcHRpbmcgYSBmYXVsdCBwcmVkaWN0aW9uIG1vZGVsIHRvIGFsbG93IGludGVyIGxhbmd1YWdlcmV1c2UiLAogICAgZGlzcGxheT0id2F0YW5hYmUiLAogICAgYXV0aG9ycz0iV2F0YW5hYmUsIFNoaW55YSBhbmQgS2FpeWEsIEhhcnVoaWtvIGFuZCBLYWlqaXJpLCBLZW5qaSIsCiAgICBwcD0iMTktLTI0IiwKICAgIHBsYWNlMT0iUHJvY2VlZGluZ3Mgb2YgdGhlIDR0aCBpbnRlcm5hdGlvbmFsIHdvcmtzaG9wIG9uIFByZWRpY3RvciBtb2RlbHMgaW4gc29mdHdhcmUgZW5naW5lZXJpbmciLAogICAgZW50cnl0eXBlPSJpbnByb2NlZWRpbmdzIiwKICAgIG9yZ2FuaXphdGlvbj0iQUNNIiwKICAgIElEPSJ3YXRhbmFiZTIwMDhhZGFwdGluZyIsCiAgICBjbHVzdGVyX2lkPSIxMzg4MjY2NjEwOTU3ODg5NDE1MCIsCiAgICBzY2hvbGFyPSJodHRwOi8vc2Nob2xhci5nb29nbGUuY29tL3NjaG9sYXI/Y2l0ZXM9MTM4ODI2NjYxMDk1Nzg4OTQxNTAmYXNfc2R0PTIwMDUmc2Npb2R0PTAsNSZobD1lbiIsCikpCgpEQihDaXRhdGlvbigKICAgIHdhdGFuYWJlMjAwOGEsIG1lbmRlczIwMDRhLCByZWY9IiIsCiAgICBjb250ZXh0cz1bCgogICAgXSwKKSkKCicnJywgY2l0YXRpb25zPSdtZW5kZXMyMDA0YScpOw==\"));\n",
       "    "
      ],
      "text/plain": [
       "<IPython.core.display.Javascript object>"
      ]
     },
     "metadata": {},
     "output_type": "display_data"
    },
    {
     "data": {
      "application/javascript": [
       "$('span:contains(\"# Temp\")').closest('.cell').remove();"
      ],
      "text/plain": [
       "<IPython.core.display.Javascript object>"
      ]
     },
     "metadata": {},
     "output_type": "display_data"
    },
    {
     "data": {
      "application/javascript": [
       "\n",
       "        $('span:contains(\"# Temp\")').closest('.cell').remove();\n",
       "        var code = IPython.notebook.insert_cell_below('code');\n",
       "        code.set_text(atob(\"IyBUZW1wCmluc2VydCgnJycKd2F0YW5hYmUyMDA4YSA9IERCKFdvcmtVbnJlbGF0ZWQoCiAgICAyMDA4LCAiQWRhcHRpbmcgYSBmYXVsdCBwcmVkaWN0aW9uIG1vZGVsIHRvIGFsbG93IGludGVyIGxhbmd1YWdlcmV1c2UiLAogICAgZGlzcGxheT0id2F0YW5hYmUiLAogICAgYXV0aG9ycz0iV2F0YW5hYmUsIFNoaW55YSBhbmQgS2FpeWEsIEhhcnVoaWtvIGFuZCBLYWlqaXJpLCBLZW5qaSIsCiAgICBwcD0iMTktLTI0IiwKICAgIHBsYWNlMT0iUHJvY2VlZGluZ3Mgb2YgdGhlIDR0aCBpbnRlcm5hdGlvbmFsIHdvcmtzaG9wIG9uIFByZWRpY3RvciBtb2RlbHMgaW4gc29mdHdhcmUgZW5naW5lZXJpbmciLAogICAgZW50cnl0eXBlPSJpbnByb2NlZWRpbmdzIiwKICAgIG9yZ2FuaXphdGlvbj0iQUNNIiwKICAgIElEPSJ3YXRhbmFiZTIwMDhhZGFwdGluZyIsCiAgICBjbHVzdGVyX2lkPSIxMzg4MjY2NjEwOTU3ODg5NDE1MCIsCiAgICBzY2hvbGFyPSJodHRwOi8vc2Nob2xhci5nb29nbGUuY29tL3NjaG9sYXI/Y2l0ZXM9MTM4ODI2NjYxMDk1Nzg4OTQxNTAmYXNfc2R0PTIwMDUmc2Npb2R0PTAsNSZobD1lbiIsCikpCgpEQihDaXRhdGlvbigKICAgIHdhdGFuYWJlMjAwOGEsIG1lbmRlczIwMDRhLCByZWY9IiIsCiAgICBjb250ZXh0cz1bCgogICAgXSwKKSkKCicnJywgY2l0YXRpb25zPSdtZW5kZXMyMDA0YScpOw==\"));\n",
       "    "
      ],
      "text/plain": [
       "<IPython.core.display.Javascript object>"
      ]
     },
     "metadata": {},
     "output_type": "display_data"
    },
    {
     "data": {
      "application/javascript": [
       "$('span:contains(\"# Temp\")').closest('.cell').remove();"
      ],
      "text/plain": [
       "<IPython.core.display.Javascript object>"
      ]
     },
     "metadata": {},
     "output_type": "display_data"
    },
    {
     "data": {
      "application/javascript": [
       "\n",
       "        $('span:contains(\"# Temp\")').closest('.cell').remove();\n",
       "        var code = IPython.notebook.insert_cell_below('code');\n",
       "        code.set_text(atob(\"IyBUZW1wCmluc2VydCgnJycKd2F0YW5hYmUyMDA4YSA9IERCKFdvcmtVbnJlbGF0ZWQoCiAgICAyMDA4LCAiQWRhcHRpbmcgYSBmYXVsdCBwcmVkaWN0aW9uIG1vZGVsIHRvIGFsbG93IGludGVyIGxhbmd1YWdlcmV1c2UiLAogICAgZGlzcGxheT0id2F0YW5hYmUiLAogICAgYXV0aG9ycz0iV2F0YW5hYmUsIFNoaW55YSBhbmQgS2FpeWEsIEhhcnVoaWtvIGFuZCBLYWlqaXJpLCBLZW5qaSIsCiAgICBwbGFjZT1QTVNFLAogICAgcHA9IjE5LS0yNCIsCiAgICBlbnRyeXR5cGU9ImlucHJvY2VlZGluZ3MiLAogICAgb3JnYW5pemF0aW9uPSJBQ00iLAogICAgSUQ9IndhdGFuYWJlMjAwOGFkYXB0aW5nIiwKICAgIGNsdXN0ZXJfaWQ9IjEzODgyNjY2MTA5NTc4ODk0MTUwIiwKICAgIHNjaG9sYXI9Imh0dHA6Ly9zY2hvbGFyLmdvb2dsZS5jb20vc2Nob2xhcj9jaXRlcz0xMzg4MjY2NjEwOTU3ODg5NDE1MCZhc19zZHQ9MjAwNSZzY2lvZHQ9MCw1JmhsPWVuIiwKKSkKCkRCKENpdGF0aW9uKAogICAgd2F0YW5hYmUyMDA4YSwgbWVuZGVzMjAwNGEsIHJlZj0iIiwKICAgIGNvbnRleHRzPVsKCiAgICBdLAopKQoKJycnLCBjaXRhdGlvbnM9J21lbmRlczIwMDRhJyk7\"));\n",
       "    "
      ],
      "text/plain": [
       "<IPython.core.display.Javascript object>"
      ]
     },
     "metadata": {},
     "output_type": "display_data"
    },
    {
     "data": {
      "application/javascript": [
       "$('span:contains(\"# Temp\")').closest('.cell').remove();"
      ],
      "text/plain": [
       "<IPython.core.display.Javascript object>"
      ]
     },
     "metadata": {},
     "output_type": "display_data"
    },
    {
     "data": {
      "application/javascript": [
       "\n",
       "        $('span:contains(\"# Temp\")').closest('.cell').remove();\n",
       "        var code = IPython.notebook.insert_cell_below('code');\n",
       "        code.set_text(atob(\"IyBUZW1wCmluc2VydCgnJycKY29zdGFnbGlvbGEyMDA2YSA9IERCKFdvcmtVbnJlbGF0ZWQoCiAgICAyMDA2LCAiRWZmb3J0IGVzdGltYXRpb24gbW9kZWxpbmcgdGVjaG5pcXVlczogYSBjYXNlIHN0dWR5IGZvciB3ZWIgYXBwbGljYXRpb25zIiwKICAgIGRpc3BsYXk9ImNvc3RhZ2xpb2xhIiwKICAgIGF1dGhvcnM9IkNvc3RhZ2xpb2xhLCBHZW5uYXJvIGFuZCBEaSBNYXJ0aW5vLCBTZXJnaW8gYW5kIEZlcnJ1Y2NpLCBGaWxvbWVuYSBhbmQgR3JhdmlubywgQ2FybWluZSBhbmQgVG9ydG9yYSwgR2Vub3ZlZmZhIGFuZCBWaXRpZWxsbywgR2l1bGlhbmEiLAogICAgcGxhY2U9SUNTRSwKICAgIHBwPSI5LS0xNiIsCiAgICBlbnRyeXR5cGU9ImlucHJvY2VlZGluZ3MiLAogICAgb3JnYW5pemF0aW9uPSJBQ00iLAogICAgSUQ9ImNvc3RhZ2xpb2xhMjAwNmVmZm9ydCIsCiAgICBjbHVzdGVyX2lkPSIxMzg4ODU5MTE3MjQzMjMzNDAwNCIsCiAgICBzY2hvbGFyPSJodHRwOi8vc2Nob2xhci5nb29nbGUuY29tL3NjaG9sYXI/Y2l0ZXM9MTM4ODg1OTExNzI0MzIzMzQwMDQmYXNfc2R0PTIwMDUmc2Npb2R0PTAsNSZobD1lbiIsCikpCgpEQihDaXRhdGlvbigKICAgIGNvc3RhZ2xpb2xhMjAwNmEsIG1lbmRlczIwMDRhLCByZWY9IiIsCiAgICBjb250ZXh0cz1bCgogICAgXSwKKSkKCicnJywgY2l0YXRpb25zPSdtZW5kZXMyMDA0YScpOw==\"));\n",
       "    "
      ],
      "text/plain": [
       "<IPython.core.display.Javascript object>"
      ]
     },
     "metadata": {},
     "output_type": "display_data"
    },
    {
     "data": {
      "application/javascript": [
       "$('span:contains(\"# Temp\")').closest('.cell').remove();"
      ],
      "text/plain": [
       "<IPython.core.display.Javascript object>"
      ]
     },
     "metadata": {},
     "output_type": "display_data"
    },
    {
     "data": {
      "application/javascript": [
       "\n",
       "        $('span:contains(\"# Temp\")').closest('.cell').remove();\n",
       "        var code = IPython.notebook.insert_cell_below('code');\n",
       "        code.set_text(atob(\"IyBUZW1wCmluc2VydCgnJycKY29zdGFnbGlvbGEyMDA2YSA9IERCKFdvcmsoCiAgICAyMDA2LCAiRWZmb3J0IGVzdGltYXRpb24gbW9kZWxpbmcgdGVjaG5pcXVlczogYSBjYXNlIHN0dWR5IGZvciB3ZWIgYXBwbGljYXRpb25zIiwKICAgIGRpc3BsYXk9ImNvc3RhZ2xpb2xhIiwKICAgIGF1dGhvcnM9IkNvc3RhZ2xpb2xhLCBHZW5uYXJvIGFuZCBEaSBNYXJ0aW5vLCBTZXJnaW8gYW5kIEZlcnJ1Y2NpLCBGaWxvbWVuYSBhbmQgR3JhdmlubywgQ2FybWluZSBhbmQgVG9ydG9yYSwgR2Vub3ZlZmZhIGFuZCBWaXRpZWxsbywgR2l1bGlhbmEiLAogICAgcGxhY2U9SUNTRSwKICAgIHBwPSI5LS0xNiIsCiAgICBlbnRyeXR5cGU9ImlucHJvY2VlZGluZ3MiLAogICAgb3JnYW5pemF0aW9uPSJBQ00iLAogICAgSUQ9ImNvc3RhZ2xpb2xhMjAwNmVmZm9ydCIsCiAgICBjbHVzdGVyX2lkPSIxMzg4ODU5MTE3MjQzMjMzNDAwNCIsCiAgICBzY2hvbGFyPSJodHRwOi8vc2Nob2xhci5nb29nbGUuY29tL3NjaG9sYXI/Y2l0ZXM9MTM4ODg1OTExNzI0MzIzMzQwMDQmYXNfc2R0PTIwMDUmc2Npb2R0PTAsNSZobD1lbiIsCikpCgpEQihDaXRhdGlvbigKICAgIGNvc3RhZ2xpb2xhMjAwNmEsIG1lbmRlczIwMDRhLCByZWY9IiIsCiAgICBjb250ZXh0cz1bCgogICAgXSwKKSkKCicnJywgY2l0YXRpb25zPSdtZW5kZXMyMDA0YScpOw==\"));\n",
       "    "
      ],
      "text/plain": [
       "<IPython.core.display.Javascript object>"
      ]
     },
     "metadata": {},
     "output_type": "display_data"
    },
    {
     "data": {
      "application/javascript": [
       "$('span:contains(\"# Temp\")').closest('.cell').remove();"
      ],
      "text/plain": [
       "<IPython.core.display.Javascript object>"
      ]
     },
     "metadata": {},
     "output_type": "display_data"
    },
    {
     "data": {
      "application/javascript": [
       "\n",
       "        $('span:contains(\"# Temp\")').closest('.cell').remove();\n",
       "        var code = IPython.notebook.insert_cell_below('code');\n",
       "        code.set_text(atob(\"IyBUZW1wCmluc2VydCgnJycKY29zdGFnbGlvbGEyMDA2YSA9IERCKFdvcmtVbnJlbGF0ZWQoCiAgICAyMDA2LCAiRWZmb3J0IGVzdGltYXRpb24gbW9kZWxpbmcgdGVjaG5pcXVlczogYSBjYXNlIHN0dWR5IGZvciB3ZWIgYXBwbGljYXRpb25zIiwKICAgIGRpc3BsYXk9ImNvc3RhZ2xpb2xhIiwKICAgIGF1dGhvcnM9IkNvc3RhZ2xpb2xhLCBHZW5uYXJvIGFuZCBEaSBNYXJ0aW5vLCBTZXJnaW8gYW5kIEZlcnJ1Y2NpLCBGaWxvbWVuYSBhbmQgR3JhdmlubywgQ2FybWluZSBhbmQgVG9ydG9yYSwgR2Vub3ZlZmZhIGFuZCBWaXRpZWxsbywgR2l1bGlhbmEiLAogICAgcGxhY2U9SUNTRSwKICAgIHBwPSI5LS0xNiIsCiAgICBlbnRyeXR5cGU9ImlucHJvY2VlZGluZ3MiLAogICAgb3JnYW5pemF0aW9uPSJBQ00iLAogICAgSUQ9ImNvc3RhZ2xpb2xhMjAwNmVmZm9ydCIsCiAgICBjbHVzdGVyX2lkPSIxMzg4ODU5MTE3MjQzMjMzNDAwNCIsCiAgICBzY2hvbGFyPSJodHRwOi8vc2Nob2xhci5nb29nbGUuY29tL3NjaG9sYXI/Y2l0ZXM9MTM4ODg1OTExNzI0MzIzMzQwMDQmYXNfc2R0PTIwMDUmc2Npb2R0PTAsNSZobD1lbiIsCikpCgpEQihDaXRhdGlvbigKICAgIGNvc3RhZ2xpb2xhMjAwNmEsIG1lbmRlczIwMDRhLCByZWY9IiIsCiAgICBjb250ZXh0cz1bCgogICAgXSwKKSkKCicnJywgY2l0YXRpb25zPSdtZW5kZXMyMDA0YScpOw==\"));\n",
       "    "
      ],
      "text/plain": [
       "<IPython.core.display.Javascript object>"
      ]
     },
     "metadata": {},
     "output_type": "display_data"
    },
    {
     "data": {
      "application/javascript": [
       "$('span:contains(\"# Temp\")').closest('.cell').remove();"
      ],
      "text/plain": [
       "<IPython.core.display.Javascript object>"
      ]
     },
     "metadata": {},
     "output_type": "display_data"
    },
    {
     "data": {
      "application/javascript": [
       "\n",
       "        $('span:contains(\"# Temp\")').closest('.cell').remove();\n",
       "        var code = IPython.notebook.insert_cell_below('code');\n",
       "        code.set_text(atob(\"IyBUZW1wCmluc2VydCgnJycKbG9rYW4yMDA2YSA9IERCKFdvcmtVbnJlbGF0ZWQoCiAgICAyMDA2LCAiQ3Jvc3MtY29tcGFueSBhbmQgc2luZ2xlLWNvbXBhbnkgZWZmb3J0IG1vZGVscyB1c2luZyB0aGUgSVNCU0cgZGF0YWJhc2U6IGEgZnVydGhlciByZXBsaWNhdGVkIHN0dWR5IiwKICAgIGRpc3BsYXk9Imxva2FuIiwKICAgIGF1dGhvcnM9Ikxva2FuLCBDaHJpcyBhbmQgTWVuZGVzLCBFbWlsaWEiLAogICAgcHA9Ijc1LS04NCIsCiAgICBwbGFjZTE9IlByb2NlZWRpbmdzIG9mIHRoZSAyMDA2IEFDTS9JRUVFIGludGVybmF0aW9uYWwgc3ltcG9zaXVtIG9uIEVtcGlyaWNhbCBzb2Z0d2FyZSBlbmdpbmVlcmluZyIsCiAgICBlbnRyeXR5cGU9ImlucHJvY2VlZGluZ3MiLAogICAgb3JnYW5pemF0aW9uPSJBQ00iLAogICAgSUQ9Imxva2FuMjAwNmNyb3NzIiwKICAgIGNsdXN0ZXJfaWQ9IjE3ODM5NzUxMTI5MjIyMDA4OTk5IiwKICAgIHNjaG9sYXI9Imh0dHA6Ly9zY2hvbGFyLmdvb2dsZS5jb20vc2Nob2xhcj9jaXRlcz0xNzgzOTc1MTEyOTIyMjAwODk5OSZhc19zZHQ9MjAwNSZzY2lvZHQ9MCw1JmhsPWVuIiwKKSkKCkRCKENpdGF0aW9uKAogICAgbG9rYW4yMDA2YSwgbWVuZGVzMjAwNGEsIHJlZj0iIiwKICAgIGNvbnRleHRzPVsKCiAgICBdLAopKQoKJycnLCBjaXRhdGlvbnM9J21lbmRlczIwMDRhJyk7\"));\n",
       "    "
      ],
      "text/plain": [
       "<IPython.core.display.Javascript object>"
      ]
     },
     "metadata": {},
     "output_type": "display_data"
    },
    {
     "data": {
      "application/javascript": [
       "$('span:contains(\"# Temp\")').closest('.cell').remove();"
      ],
      "text/plain": [
       "<IPython.core.display.Javascript object>"
      ]
     },
     "metadata": {},
     "output_type": "display_data"
    },
    {
     "data": {
      "application/javascript": [
       "\n",
       "        $('span:contains(\"# Temp\")').closest('.cell').remove();\n",
       "        var code = IPython.notebook.insert_cell_below('code');\n",
       "        code.set_text(atob(\"IyBUZW1wCmluc2VydCgnJycKbG9rYW4yMDA2YSA9IERCKFdvcmsoCiAgICAyMDA2LCAiQ3Jvc3MtY29tcGFueSBhbmQgc2luZ2xlLWNvbXBhbnkgZWZmb3J0IG1vZGVscyB1c2luZyB0aGUgSVNCU0cgZGF0YWJhc2U6IGEgZnVydGhlciByZXBsaWNhdGVkIHN0dWR5IiwKICAgIGRpc3BsYXk9Imxva2FuIiwKICAgIGF1dGhvcnM9Ikxva2FuLCBDaHJpcyBhbmQgTWVuZGVzLCBFbWlsaWEiLAogICAgcHA9Ijc1LS04NCIsCiAgICBwbGFjZTE9IlByb2NlZWRpbmdzIG9mIHRoZSAyMDA2IEFDTS9JRUVFIGludGVybmF0aW9uYWwgc3ltcG9zaXVtIG9uIEVtcGlyaWNhbCBzb2Z0d2FyZSBlbmdpbmVlcmluZyIsCiAgICBlbnRyeXR5cGU9ImlucHJvY2VlZGluZ3MiLAogICAgb3JnYW5pemF0aW9uPSJBQ00iLAogICAgSUQ9Imxva2FuMjAwNmNyb3NzIiwKICAgIGNsdXN0ZXJfaWQ9IjE3ODM5NzUxMTI5MjIyMDA4OTk5IiwKICAgIHNjaG9sYXI9Imh0dHA6Ly9zY2hvbGFyLmdvb2dsZS5jb20vc2Nob2xhcj9jaXRlcz0xNzgzOTc1MTEyOTIyMjAwODk5OSZhc19zZHQ9MjAwNSZzY2lvZHQ9MCw1JmhsPWVuIiwKKSkKCkRCKENpdGF0aW9uKAogICAgbG9rYW4yMDA2YSwgbWVuZGVzMjAwNGEsIHJlZj0iIiwKICAgIGNvbnRleHRzPVsKCiAgICBdLAopKQoKJycnLCBjaXRhdGlvbnM9J21lbmRlczIwMDRhJyk7\"));\n",
       "    "
      ],
      "text/plain": [
       "<IPython.core.display.Javascript object>"
      ]
     },
     "metadata": {},
     "output_type": "display_data"
    },
    {
     "data": {
      "application/javascript": [
       "$('span:contains(\"# Temp\")').closest('.cell').remove();"
      ],
      "text/plain": [
       "<IPython.core.display.Javascript object>"
      ]
     },
     "metadata": {},
     "output_type": "display_data"
    },
    {
     "data": {
      "application/javascript": [
       "\n",
       "        $('span:contains(\"# Temp\")').closest('.cell').remove();\n",
       "        var code = IPython.notebook.insert_cell_below('code');\n",
       "        code.set_text(atob(\"IyBUZW1wCmluc2VydCgnJycKbG9rYW4yMDA2YSA9IERCKFdvcmtVbnJlbGF0ZWQoCiAgICAyMDA2LCAiQ3Jvc3MtY29tcGFueSBhbmQgc2luZ2xlLWNvbXBhbnkgZWZmb3J0IG1vZGVscyB1c2luZyB0aGUgSVNCU0cgZGF0YWJhc2U6IGEgZnVydGhlciByZXBsaWNhdGVkIHN0dWR5IiwKICAgIGRpc3BsYXk9Imxva2FuIiwKICAgIGF1dGhvcnM9Ikxva2FuLCBDaHJpcyBhbmQgTWVuZGVzLCBFbWlsaWEiLAogICAgcHA9Ijc1LS04NCIsCiAgICBwbGFjZTE9IlByb2NlZWRpbmdzIG9mIHRoZSAyMDA2IEFDTS9JRUVFIGludGVybmF0aW9uYWwgc3ltcG9zaXVtIG9uIEVtcGlyaWNhbCBzb2Z0d2FyZSBlbmdpbmVlcmluZyIsCiAgICBlbnRyeXR5cGU9ImlucHJvY2VlZGluZ3MiLAogICAgb3JnYW5pemF0aW9uPSJBQ00iLAogICAgSUQ9Imxva2FuMjAwNmNyb3NzIiwKICAgIGNsdXN0ZXJfaWQ9IjE3ODM5NzUxMTI5MjIyMDA4OTk5IiwKICAgIHNjaG9sYXI9Imh0dHA6Ly9zY2hvbGFyLmdvb2dsZS5jb20vc2Nob2xhcj9jaXRlcz0xNzgzOTc1MTEyOTIyMjAwODk5OSZhc19zZHQ9MjAwNSZzY2lvZHQ9MCw1JmhsPWVuIiwKKSkKCkRCKENpdGF0aW9uKAogICAgbG9rYW4yMDA2YSwgbWVuZGVzMjAwNGEsIHJlZj0iIiwKICAgIGNvbnRleHRzPVsKCiAgICBdLAopKQoKJycnLCBjaXRhdGlvbnM9J21lbmRlczIwMDRhJyk7\"));\n",
       "    "
      ],
      "text/plain": [
       "<IPython.core.display.Javascript object>"
      ]
     },
     "metadata": {},
     "output_type": "display_data"
    },
    {
     "data": {
      "application/javascript": [
       "$('span:contains(\"# Temp\")').closest('.cell').remove();"
      ],
      "text/plain": [
       "<IPython.core.display.Javascript object>"
      ]
     },
     "metadata": {},
     "output_type": "display_data"
    },
    {
     "data": {
      "application/javascript": [
       "\n",
       "        $('span:contains(\"# Temp\")').closest('.cell').remove();\n",
       "        var code = IPython.notebook.insert_cell_below('code');\n",
       "        code.set_text(atob(\"IyBUZW1wCmluc2VydCgnJycKbWVuZGVzMjAwOGUgPSBEQihXb3JrVW5yZWxhdGVkKAogICAgMjAwOCwgIlJlcGxpY2F0aW5nIHN0dWRpZXMgb24gY3Jvc3MtdnMgc2luZ2xlLWNvbXBhbnkgZWZmb3J0IG1vZGVscyB1c2luZyB0aGUgSVNCU0cgRGF0YWJhc2UiLAogICAgZGlzcGxheT0ibWVuZGVzIGUiLAogICAgYXV0aG9ycz0iTWVuZGVzLCBFbWlsaWEgYW5kIExva2FuLCBDaHJpcyIsCiAgICBwbGFjZT1FU0UsCiAgICBwcD0iMy0tMzciLAogICAgZW50cnl0eXBlPSJhcnRpY2xlIiwKICAgIHZvbHVtZT0iMTMiLAogICAgbnVtYmVyPSIxIiwKICAgIHB1Ymxpc2hlcj0iU3ByaW5nZXIiLAogICAgSUQ9Im1lbmRlczIwMDhyZXBsaWNhdGluZyIsCiAgICBjbHVzdGVyX2lkPSIzNDcyNDA2MTM0MzU3ODk1NjciLAogICAgc2Nob2xhcj0iaHR0cDovL3NjaG9sYXIuZ29vZ2xlLmNvbS9zY2hvbGFyP2NpdGVzPTM0NzI0MDYxMzQzNTc4OTU2NyZhc19zZHQ9MjAwNSZzY2lvZHQ9MCw1JmhsPWVuIiwKKSkKCkRCKENpdGF0aW9uKAogICAgbWVuZGVzMjAwOGUsIG1lbmRlczIwMDRhLCByZWY9IiIsCiAgICBjb250ZXh0cz1bCgogICAgXSwKKSkKCicnJywgY2l0YXRpb25zPSdtZW5kZXMyMDA0YScpOw==\"));\n",
       "    "
      ],
      "text/plain": [
       "<IPython.core.display.Javascript object>"
      ]
     },
     "metadata": {},
     "output_type": "display_data"
    },
    {
     "data": {
      "application/javascript": [
       "$('span:contains(\"# Temp\")').closest('.cell').remove();"
      ],
      "text/plain": [
       "<IPython.core.display.Javascript object>"
      ]
     },
     "metadata": {},
     "output_type": "display_data"
    },
    {
     "data": {
      "application/javascript": [
       "\n",
       "        $('span:contains(\"# Temp\")').closest('.cell').remove();\n",
       "        var code = IPython.notebook.insert_cell_below('code');\n",
       "        code.set_text(atob(\"IyBUZW1wCmluc2VydCgnJycKbWVuZGVzMjAwOGUgPSBEQihXb3JrKAogICAgMjAwOCwgIlJlcGxpY2F0aW5nIHN0dWRpZXMgb24gY3Jvc3MtdnMgc2luZ2xlLWNvbXBhbnkgZWZmb3J0IG1vZGVscyB1c2luZyB0aGUgSVNCU0cgRGF0YWJhc2UiLAogICAgZGlzcGxheT0ibWVuZGVzIGUiLAogICAgYXV0aG9ycz0iTWVuZGVzLCBFbWlsaWEgYW5kIExva2FuLCBDaHJpcyIsCiAgICBwbGFjZT1FU0UsCiAgICBwcD0iMy0tMzciLAogICAgZW50cnl0eXBlPSJhcnRpY2xlIiwKICAgIHZvbHVtZT0iMTMiLAogICAgbnVtYmVyPSIxIiwKICAgIHB1Ymxpc2hlcj0iU3ByaW5nZXIiLAogICAgSUQ9Im1lbmRlczIwMDhyZXBsaWNhdGluZyIsCiAgICBjbHVzdGVyX2lkPSIzNDcyNDA2MTM0MzU3ODk1NjciLAogICAgc2Nob2xhcj0iaHR0cDovL3NjaG9sYXIuZ29vZ2xlLmNvbS9zY2hvbGFyP2NpdGVzPTM0NzI0MDYxMzQzNTc4OTU2NyZhc19zZHQ9MjAwNSZzY2lvZHQ9MCw1JmhsPWVuIiwKKSkKCkRCKENpdGF0aW9uKAogICAgbWVuZGVzMjAwOGUsIG1lbmRlczIwMDRhLCByZWY9IiIsCiAgICBjb250ZXh0cz1bCgogICAgXSwKKSkKCicnJywgY2l0YXRpb25zPSdtZW5kZXMyMDA0YScpOw==\"));\n",
       "    "
      ],
      "text/plain": [
       "<IPython.core.display.Javascript object>"
      ]
     },
     "metadata": {},
     "output_type": "display_data"
    },
    {
     "data": {
      "application/javascript": [
       "$('span:contains(\"# Temp\")').closest('.cell').remove();"
      ],
      "text/plain": [
       "<IPython.core.display.Javascript object>"
      ]
     },
     "metadata": {},
     "output_type": "display_data"
    },
    {
     "data": {
      "application/javascript": [
       "\n",
       "        $('span:contains(\"# Temp\")').closest('.cell').remove();\n",
       "        var code = IPython.notebook.insert_cell_below('code');\n",
       "        code.set_text(atob(\"IyBUZW1wCmluc2VydCgnJycKbWVuZGVzMjAwOGUgPSBEQihXb3JrVW5yZWxhdGVkKAogICAgMjAwOCwgIlJlcGxpY2F0aW5nIHN0dWRpZXMgb24gY3Jvc3MtdnMgc2luZ2xlLWNvbXBhbnkgZWZmb3J0IG1vZGVscyB1c2luZyB0aGUgSVNCU0cgRGF0YWJhc2UiLAogICAgZGlzcGxheT0ibWVuZGVzIGUiLAogICAgYXV0aG9ycz0iTWVuZGVzLCBFbWlsaWEgYW5kIExva2FuLCBDaHJpcyIsCiAgICBwbGFjZT1FU0UsCiAgICBwcD0iMy0tMzciLAogICAgZW50cnl0eXBlPSJhcnRpY2xlIiwKICAgIHZvbHVtZT0iMTMiLAogICAgbnVtYmVyPSIxIiwKICAgIHB1Ymxpc2hlcj0iU3ByaW5nZXIiLAogICAgSUQ9Im1lbmRlczIwMDhyZXBsaWNhdGluZyIsCiAgICBjbHVzdGVyX2lkPSIzNDcyNDA2MTM0MzU3ODk1NjciLAogICAgc2Nob2xhcj0iaHR0cDovL3NjaG9sYXIuZ29vZ2xlLmNvbS9zY2hvbGFyP2NpdGVzPTM0NzI0MDYxMzQzNTc4OTU2NyZhc19zZHQ9MjAwNSZzY2lvZHQ9MCw1JmhsPWVuIiwKKSkKCkRCKENpdGF0aW9uKAogICAgbWVuZGVzMjAwOGUsIG1lbmRlczIwMDRhLCByZWY9IiIsCiAgICBjb250ZXh0cz1bCgogICAgXSwKKSkKCicnJywgY2l0YXRpb25zPSdtZW5kZXMyMDA0YScpOw==\"));\n",
       "    "
      ],
      "text/plain": [
       "<IPython.core.display.Javascript object>"
      ]
     },
     "metadata": {},
     "output_type": "display_data"
    },
    {
     "data": {
      "application/javascript": [
       "$('span:contains(\"# Temp\")').closest('.cell').remove();"
      ],
      "text/plain": [
       "<IPython.core.display.Javascript object>"
      ]
     },
     "metadata": {},
     "output_type": "display_data"
    },
    {
     "data": {
      "application/javascript": [
       "\n",
       "        $('span:contains(\"# Temp\")').closest('.cell').remove();\n",
       "        var code = IPython.notebook.insert_cell_below('code');\n",
       "        code.set_text(atob(\"IyBUZW1wCmluc2VydCgnJycKYmFyZXNpMjAwN2EgPSBEQihXb3JrVW5yZWxhdGVkKAogICAgMjAwNywgIlRocmVlIGVtcGlyaWNhbCBzdHVkaWVzIG9uIGVzdGltYXRpbmcgdGhlIGRlc2lnbiBlZmZvcnQgb2YgV2ViIGFwcGxpY2F0aW9ucyIsCiAgICBkaXNwbGF5PSJiYXJlc2kiLAogICAgYXV0aG9ycz0iQmFyZXNpLCBMdWNpYW5vIGFuZCBNb3Jhc2NhLCBTYW5kcm8iLAogICAgcGxhY2U9VG9TRSwKICAgIHBwPSIxNSIsCiAgICBlbnRyeXR5cGU9ImFydGljbGUiLAogICAgdm9sdW1lPSIxNiIsCiAgICBudW1iZXI9IjQiLAogICAgcHVibGlzaGVyPSJBQ00iLAogICAgSUQ9ImJhcmVzaTIwMDd0aHJlZSIsCiAgICBjbHVzdGVyX2lkPSI2MDYxMDgyNDMxMzEyMTY2NDM4IiwKICAgIHNjaG9sYXI9Imh0dHA6Ly9zY2hvbGFyLmdvb2dsZS5jb20vc2Nob2xhcj9jaXRlcz02MDYxMDgyNDMxMzEyMTY2NDM4JmFzX3NkdD0yMDA1JnNjaW9kdD0wLDUmaGw9ZW4iLAopKQoKREIoQ2l0YXRpb24oCiAgICBiYXJlc2kyMDA3YSwgbWVuZGVzMjAwNGEsIHJlZj0iIiwKICAgIGNvbnRleHRzPVsKCiAgICBdLAopKQoKJycnLCBjaXRhdGlvbnM9J21lbmRlczIwMDRhJyk7\"));\n",
       "    "
      ],
      "text/plain": [
       "<IPython.core.display.Javascript object>"
      ]
     },
     "metadata": {},
     "output_type": "display_data"
    },
    {
     "data": {
      "application/javascript": [
       "$('span:contains(\"# Temp\")').closest('.cell').remove();"
      ],
      "text/plain": [
       "<IPython.core.display.Javascript object>"
      ]
     },
     "metadata": {},
     "output_type": "display_data"
    },
    {
     "data": {
      "application/javascript": [
       "\n",
       "        $('span:contains(\"# Temp\")').closest('.cell').remove();\n",
       "        var code = IPython.notebook.insert_cell_below('code');\n",
       "        code.set_text(atob(\"IyBUZW1wCmluc2VydCgnJycKYmFyZXNpMjAwN2EgPSBEQihXb3JrKAogICAgMjAwNywgIlRocmVlIGVtcGlyaWNhbCBzdHVkaWVzIG9uIGVzdGltYXRpbmcgdGhlIGRlc2lnbiBlZmZvcnQgb2YgV2ViIGFwcGxpY2F0aW9ucyIsCiAgICBkaXNwbGF5PSJiYXJlc2kiLAogICAgYXV0aG9ycz0iQmFyZXNpLCBMdWNpYW5vIGFuZCBNb3Jhc2NhLCBTYW5kcm8iLAogICAgcGxhY2U9VG9TRSwKICAgIHBwPSIxNSIsCiAgICBlbnRyeXR5cGU9ImFydGljbGUiLAogICAgdm9sdW1lPSIxNiIsCiAgICBudW1iZXI9IjQiLAogICAgcHVibGlzaGVyPSJBQ00iLAogICAgSUQ9ImJhcmVzaTIwMDd0aHJlZSIsCiAgICBjbHVzdGVyX2lkPSI2MDYxMDgyNDMxMzEyMTY2NDM4IiwKICAgIHNjaG9sYXI9Imh0dHA6Ly9zY2hvbGFyLmdvb2dsZS5jb20vc2Nob2xhcj9jaXRlcz02MDYxMDgyNDMxMzEyMTY2NDM4JmFzX3NkdD0yMDA1JnNjaW9kdD0wLDUmaGw9ZW4iLAopKQoKREIoQ2l0YXRpb24oCiAgICBiYXJlc2kyMDA3YSwgbWVuZGVzMjAwNGEsIHJlZj0iIiwKICAgIGNvbnRleHRzPVsKCiAgICBdLAopKQoKJycnLCBjaXRhdGlvbnM9J21lbmRlczIwMDRhJyk7\"));\n",
       "    "
      ],
      "text/plain": [
       "<IPython.core.display.Javascript object>"
      ]
     },
     "metadata": {},
     "output_type": "display_data"
    },
    {
     "data": {
      "application/javascript": [
       "$('span:contains(\"# Temp\")').closest('.cell').remove();"
      ],
      "text/plain": [
       "<IPython.core.display.Javascript object>"
      ]
     },
     "metadata": {},
     "output_type": "display_data"
    },
    {
     "data": {
      "application/javascript": [
       "\n",
       "        $('span:contains(\"# Temp\")').closest('.cell').remove();\n",
       "        var code = IPython.notebook.insert_cell_below('code');\n",
       "        code.set_text(atob(\"IyBUZW1wCmluc2VydCgnJycKYmFyZXNpMjAwN2EgPSBEQihXb3JrVW5yZWxhdGVkKAogICAgMjAwNywgIlRocmVlIGVtcGlyaWNhbCBzdHVkaWVzIG9uIGVzdGltYXRpbmcgdGhlIGRlc2lnbiBlZmZvcnQgb2YgV2ViIGFwcGxpY2F0aW9ucyIsCiAgICBkaXNwbGF5PSJiYXJlc2kiLAogICAgYXV0aG9ycz0iQmFyZXNpLCBMdWNpYW5vIGFuZCBNb3Jhc2NhLCBTYW5kcm8iLAogICAgcGxhY2U9VG9TRSwKICAgIHBwPSIxNSIsCiAgICBlbnRyeXR5cGU9ImFydGljbGUiLAogICAgdm9sdW1lPSIxNiIsCiAgICBudW1iZXI9IjQiLAogICAgcHVibGlzaGVyPSJBQ00iLAogICAgSUQ9ImJhcmVzaTIwMDd0aHJlZSIsCiAgICBjbHVzdGVyX2lkPSI2MDYxMDgyNDMxMzEyMTY2NDM4IiwKICAgIHNjaG9sYXI9Imh0dHA6Ly9zY2hvbGFyLmdvb2dsZS5jb20vc2Nob2xhcj9jaXRlcz02MDYxMDgyNDMxMzEyMTY2NDM4JmFzX3NkdD0yMDA1JnNjaW9kdD0wLDUmaGw9ZW4iLAopKQoKREIoQ2l0YXRpb24oCiAgICBiYXJlc2kyMDA3YSwgbWVuZGVzMjAwNGEsIHJlZj0iIiwKICAgIGNvbnRleHRzPVsKCiAgICBdLAopKQoKJycnLCBjaXRhdGlvbnM9J21lbmRlczIwMDRhJyk7\"));\n",
       "    "
      ],
      "text/plain": [
       "<IPython.core.display.Javascript object>"
      ]
     },
     "metadata": {},
     "output_type": "display_data"
    },
    {
     "data": {
      "application/javascript": [
       "$('span:contains(\"# Temp\")').closest('.cell').remove();"
      ],
      "text/plain": [
       "<IPython.core.display.Javascript object>"
      ]
     },
     "metadata": {},
     "output_type": "display_data"
    },
    {
     "data": {
      "application/javascript": [
       "\n",
       "        $('span:contains(\"# Temp\")').closest('.cell').remove();\n",
       "        var code = IPython.notebook.insert_cell_below('code');\n",
       "        code.set_text(atob(\"IyBUZW1wCmluc2VydCgnJycKREIoQ2l0YXRpb24oCiAgICBrb2NhZ3VuZWxpMjAxMGEsIG1lbmRlczIwMDRhLCByZWY9IiIsCiAgICBjb250ZXh0cz1bCgogICAgXSwKKSkKCicnJywgY2l0YXRpb25zPSdtZW5kZXMyMDA0YScpOwpzZXRfYXR0cmlidXRlKCdrb2NhZ3VuZWxpMjAxMGEnLCAnZXhjZXJwdCcsICdBYnN0cmFjdCBDb2xsZWN0aW5nIHRoZSBkYXRhIHJlcXVpcmVkIGZvciBxdWFsaXR5IHByZWRpY3Rpb24gd2l0aGluIGEgZGV2ZWxvcG1lbnQgdGVhbSBpcyB0aW1lLWNvbnN1bWluZyBhbmQgZXhwZW5zaXZlLiBBbiBhbHRlcm5hdGl2ZSB0byBtYWtlIHByZWRpY3Rpb25zIHVzaW5nIGRhdGEgdGhhdCBjcm9zc2VzIGZyb20gb3RoZXIgcHJvamVjdHMgb3IgZXZlbiBvdGhlciBjb21wYW5pZXMuIFdlIHNob3cgdGhhdCB3aXRoL3dpdGhvdXQgcmVsZXZhbmN5IGZpbHRlcmluZywgJyk7\"));\n",
       "    "
      ],
      "text/plain": [
       "<IPython.core.display.Javascript object>"
      ]
     },
     "metadata": {},
     "output_type": "display_data"
    },
    {
     "data": {
      "application/javascript": [
       "$('span:contains(\"# Temp\")').closest('.cell').remove();"
      ],
      "text/plain": [
       "<IPython.core.display.Javascript object>"
      ]
     },
     "metadata": {},
     "output_type": "display_data"
    },
    {
     "data": {
      "application/javascript": [
       "\n",
       "        $('span:contains(\"# Temp\")').closest('.cell').remove();\n",
       "        var code = IPython.notebook.insert_cell_below('code');\n",
       "        code.set_text(atob(\"IyBUZW1wCmluc2VydCgnJycKREIoQ2l0YXRpb24oCiAgICBrb2NhZ3VuZWxpMjAxMGEsIG1lbmRlczIwMDRhLCByZWY9IiIsCiAgICBjb250ZXh0cz1bCgogICAgXSwKKSkKCicnJywgY2l0YXRpb25zPSdtZW5kZXMyMDA0YScpOwpzZXRfYXR0cmlidXRlKCdrb2NhZ3VuZWxpMjAxMGEnLCAnZXhjZXJwdCcsICdBYnN0cmFjdCBDb2xsZWN0aW5nIHRoZSBkYXRhIHJlcXVpcmVkIGZvciBxdWFsaXR5IHByZWRpY3Rpb24gd2l0aGluIGEgZGV2ZWxvcG1lbnQgdGVhbSBpcyB0aW1lLWNvbnN1bWluZyBhbmQgZXhwZW5zaXZlLiBBbiBhbHRlcm5hdGl2ZSB0byBtYWtlIHByZWRpY3Rpb25zIHVzaW5nIGRhdGEgdGhhdCBjcm9zc2VzIGZyb20gb3RoZXIgcHJvamVjdHMgb3IgZXZlbiBvdGhlciBjb21wYW5pZXMuIFdlIHNob3cgdGhhdCB3aXRoL3dpdGhvdXQgcmVsZXZhbmN5IGZpbHRlcmluZywgJyk7\"));\n",
       "    "
      ],
      "text/plain": [
       "<IPython.core.display.Javascript object>"
      ]
     },
     "metadata": {},
     "output_type": "display_data"
    },
    {
     "data": {
      "application/javascript": [
       "$('span:contains(\"# Temp\")').closest('.cell').remove();"
      ],
      "text/plain": [
       "<IPython.core.display.Javascript object>"
      ]
     },
     "metadata": {},
     "output_type": "display_data"
    },
    {
     "data": {
      "application/javascript": [
       "\n",
       "        $('span:contains(\"# Temp\")').closest('.cell').remove();\n",
       "        var code = IPython.notebook.insert_cell_below('code');\n",
       "        code.set_text(atob(\"IyBUZW1wCmluc2VydCgnJycKREIoQ2l0YXRpb24oCiAgICBrb2NhZ3VuZWxpMjAxMGEsIG1lbmRlczIwMDRhLCByZWY9IiIsCiAgICBjb250ZXh0cz1bCgogICAgXSwKKSkKCicnJywgY2l0YXRpb25zPSdtZW5kZXMyMDA0YScpOwpzZXRfYXR0cmlidXRlKCdrb2NhZ3VuZWxpMjAxMGEnLCAnZXhjZXJwdCcsICdBYnN0cmFjdCBDb2xsZWN0aW5nIHRoZSBkYXRhIHJlcXVpcmVkIGZvciBxdWFsaXR5IHByZWRpY3Rpb24gd2l0aGluIGEgZGV2ZWxvcG1lbnQgdGVhbSBpcyB0aW1lLWNvbnN1bWluZyBhbmQgZXhwZW5zaXZlLiBBbiBhbHRlcm5hdGl2ZSB0byBtYWtlIHByZWRpY3Rpb25zIHVzaW5nIGRhdGEgdGhhdCBjcm9zc2VzIGZyb20gb3RoZXIgcHJvamVjdHMgb3IgZXZlbiBvdGhlciBjb21wYW5pZXMuIFdlIHNob3cgdGhhdCB3aXRoL3dpdGhvdXQgcmVsZXZhbmN5IGZpbHRlcmluZywgJyk7\"));\n",
       "    "
      ],
      "text/plain": [
       "<IPython.core.display.Javascript object>"
      ]
     },
     "metadata": {},
     "output_type": "display_data"
    },
    {
     "data": {
      "application/javascript": [
       "$('span:contains(\"# Temp\")').closest('.cell').remove();"
      ],
      "text/plain": [
       "<IPython.core.display.Javascript object>"
      ]
     },
     "metadata": {},
     "output_type": "display_data"
    },
    {
     "data": {
      "application/javascript": [
       "\n",
       "        $('span:contains(\"# Temp\")').closest('.cell').remove();\n",
       "        var code = IPython.notebook.insert_cell_below('code');\n",
       "        code.set_text(atob(\"IyBUZW1wCmluc2VydCgnJycKa2V1bmcyMDA5YSA9IERCKFdvcmtVbnJlbGF0ZWQoCiAgICAyMDA5LCAiU29mdHdhcmUgZGV2ZWxvcG1lbnQgY29zdCBlc3RpbWF0aW9uIHVzaW5nIGFuYWxvZ3k6IGEgcmV2aWV3IiwKICAgIGRpc3BsYXk9ImtldW5nIiwKICAgIGF1dGhvcnM9IktldW5nLCBKYWNreSIsCiAgICBwcD0iMzI3LS0zMzYiLAogICAgcGxhY2UxPSJTb2Z0d2FyZSBFbmdpbmVlcmluZyBDb25mZXJlbmNlLCAyMDA5LiBBU1dFQycwOS4gQXVzdHJhbGlhbiIsCiAgICBlbnRyeXR5cGU9ImlucHJvY2VlZGluZ3MiLAogICAgb3JnYW5pemF0aW9uPSJJRUVFIiwKICAgIElEPSJrZXVuZzIwMDlzb2Z0d2FyZSIsCiAgICBjbHVzdGVyX2lkPSI2NDE1NTE2MjcwNzIyNjQwMzk0IiwKICAgIHNjaG9sYXI9Imh0dHA6Ly9zY2hvbGFyLmdvb2dsZS5jb20vc2Nob2xhcj9jaXRlcz02NDE1NTE2MjcwNzIyNjQwMzk0JmFzX3NkdD0yMDA1JnNjaW9kdD0wLDUmaGw9ZW4iLAopKQoKREIoQ2l0YXRpb24oCiAgICBrZXVuZzIwMDlhLCBtZW5kZXMyMDA0YSwgcmVmPSIiLAogICAgY29udGV4dHM9WwoKICAgIF0sCikpCgonJycsIGNpdGF0aW9ucz0nbWVuZGVzMjAwNGEnKTs=\"));\n",
       "    "
      ],
      "text/plain": [
       "<IPython.core.display.Javascript object>"
      ]
     },
     "metadata": {},
     "output_type": "display_data"
    },
    {
     "data": {
      "application/javascript": [
       "$('span:contains(\"# Temp\")').closest('.cell').remove();"
      ],
      "text/plain": [
       "<IPython.core.display.Javascript object>"
      ]
     },
     "metadata": {},
     "output_type": "display_data"
    },
    {
     "data": {
      "application/javascript": [
       "\n",
       "        $('span:contains(\"# Temp\")').closest('.cell').remove();\n",
       "        var code = IPython.notebook.insert_cell_below('code');\n",
       "        code.set_text(atob(\"IyBUZW1wCmluc2VydCgnJycKa2V1bmcyMDA5YSA9IERCKFdvcmsoCiAgICAyMDA5LCAiU29mdHdhcmUgZGV2ZWxvcG1lbnQgY29zdCBlc3RpbWF0aW9uIHVzaW5nIGFuYWxvZ3k6IGEgcmV2aWV3IiwKICAgIGRpc3BsYXk9ImtldW5nIiwKICAgIGF1dGhvcnM9IktldW5nLCBKYWNreSIsCiAgICBwcD0iMzI3LS0zMzYiLAogICAgcGxhY2UxPSJTb2Z0d2FyZSBFbmdpbmVlcmluZyBDb25mZXJlbmNlLCAyMDA5LiBBU1dFQycwOS4gQXVzdHJhbGlhbiIsCiAgICBlbnRyeXR5cGU9ImlucHJvY2VlZGluZ3MiLAogICAgb3JnYW5pemF0aW9uPSJJRUVFIiwKICAgIElEPSJrZXVuZzIwMDlzb2Z0d2FyZSIsCiAgICBjbHVzdGVyX2lkPSI2NDE1NTE2MjcwNzIyNjQwMzk0IiwKICAgIHNjaG9sYXI9Imh0dHA6Ly9zY2hvbGFyLmdvb2dsZS5jb20vc2Nob2xhcj9jaXRlcz02NDE1NTE2MjcwNzIyNjQwMzk0JmFzX3NkdD0yMDA1JnNjaW9kdD0wLDUmaGw9ZW4iLAopKQoKREIoQ2l0YXRpb24oCiAgICBrZXVuZzIwMDlhLCBtZW5kZXMyMDA0YSwgcmVmPSIiLAogICAgY29udGV4dHM9WwoKICAgIF0sCikpCgonJycsIGNpdGF0aW9ucz0nbWVuZGVzMjAwNGEnKTs=\"));\n",
       "    "
      ],
      "text/plain": [
       "<IPython.core.display.Javascript object>"
      ]
     },
     "metadata": {},
     "output_type": "display_data"
    },
    {
     "data": {
      "application/javascript": [
       "$('span:contains(\"# Temp\")').closest('.cell').remove();"
      ],
      "text/plain": [
       "<IPython.core.display.Javascript object>"
      ]
     },
     "metadata": {},
     "output_type": "display_data"
    },
    {
     "data": {
      "application/javascript": [
       "\n",
       "        $('span:contains(\"# Temp\")').closest('.cell').remove();\n",
       "        var code = IPython.notebook.insert_cell_below('code');\n",
       "        code.set_text(atob(\"IyBUZW1wCmluc2VydCgnJycKa2V1bmcyMDA5YSA9IERCKFdvcmtVbnJlbGF0ZWQoCiAgICAyMDA5LCAiU29mdHdhcmUgZGV2ZWxvcG1lbnQgY29zdCBlc3RpbWF0aW9uIHVzaW5nIGFuYWxvZ3k6IGEgcmV2aWV3IiwKICAgIGRpc3BsYXk9ImtldW5nIiwKICAgIGF1dGhvcnM9IktldW5nLCBKYWNreSIsCiAgICBwcD0iMzI3LS0zMzYiLAogICAgcGxhY2UxPSJTb2Z0d2FyZSBFbmdpbmVlcmluZyBDb25mZXJlbmNlLCAyMDA5LiBBU1dFQycwOS4gQXVzdHJhbGlhbiIsCiAgICBlbnRyeXR5cGU9ImlucHJvY2VlZGluZ3MiLAogICAgb3JnYW5pemF0aW9uPSJJRUVFIiwKICAgIElEPSJrZXVuZzIwMDlzb2Z0d2FyZSIsCiAgICBjbHVzdGVyX2lkPSI2NDE1NTE2MjcwNzIyNjQwMzk0IiwKICAgIHNjaG9sYXI9Imh0dHA6Ly9zY2hvbGFyLmdvb2dsZS5jb20vc2Nob2xhcj9jaXRlcz02NDE1NTE2MjcwNzIyNjQwMzk0JmFzX3NkdD0yMDA1JnNjaW9kdD0wLDUmaGw9ZW4iLAopKQoKREIoQ2l0YXRpb24oCiAgICBrZXVuZzIwMDlhLCBtZW5kZXMyMDA0YSwgcmVmPSIiLAogICAgY29udGV4dHM9WwoKICAgIF0sCikpCgonJycsIGNpdGF0aW9ucz0nbWVuZGVzMjAwNGEnKTs=\"));\n",
       "    "
      ],
      "text/plain": [
       "<IPython.core.display.Javascript object>"
      ]
     },
     "metadata": {},
     "output_type": "display_data"
    },
    {
     "data": {
      "application/javascript": [
       "$('span:contains(\"# Temp\")').closest('.cell').remove();"
      ],
      "text/plain": [
       "<IPython.core.display.Javascript object>"
      ]
     },
     "metadata": {},
     "output_type": "display_data"
    },
    {
     "data": {
      "application/javascript": [
       "\n",
       "        $('span:contains(\"# Temp\")').closest('.cell').remove();\n",
       "        var code = IPython.notebook.insert_cell_below('code');\n",
       "        code.set_text(atob(\"IyBUZW1wCmluc2VydCgnJycKbWVuZGVzMjAwN2IgPSBEQihXb3JrVW5yZWxhdGVkKAogICAgMjAwNywgIkEgY29tcGFyaXNvbiBvZiB0ZWNobmlxdWVzIGZvciB3ZWIgZWZmb3J0IGVzdGltYXRpb24iLAogICAgZGlzcGxheT0ibWVuZGVzIGIiLAogICAgYXV0aG9ycz0iTWVuZGVzLCBFbWlsaWEiLAogICAgcGxhY2U9RVNFTSwKICAgIHBwPSIzMzQtLTM0MyIsCiAgICBlbnRyeXR5cGU9ImlucHJvY2VlZGluZ3MiLAogICAgb3JnYW5pemF0aW9uPSJJRUVFIiwKICAgIElEPSJtZW5kZXMyMDA3Y29tcGFyaXNvbiIsCiAgICBjbHVzdGVyX2lkPSIxMzMxMDAzNjE2OTIyNDA2MTk1MiIsCiAgICBzY2hvbGFyPSJodHRwOi8vc2Nob2xhci5nb29nbGUuY29tL3NjaG9sYXI/Y2l0ZXM9MTMzMTAwMzYxNjkyMjQwNjE5NTImYXNfc2R0PTIwMDUmc2Npb2R0PTAsNSZobD1lbiIsCikpCgpEQihDaXRhdGlvbigKICAgIG1lbmRlczIwMDdiLCBtZW5kZXMyMDA0YSwgcmVmPSIiLAogICAgY29udGV4dHM9WwoKICAgIF0sCikpCgonJycsIGNpdGF0aW9ucz0nbWVuZGVzMjAwNGEnKTs=\"));\n",
       "    "
      ],
      "text/plain": [
       "<IPython.core.display.Javascript object>"
      ]
     },
     "metadata": {},
     "output_type": "display_data"
    },
    {
     "data": {
      "application/javascript": [
       "$('span:contains(\"# Temp\")').closest('.cell').remove();"
      ],
      "text/plain": [
       "<IPython.core.display.Javascript object>"
      ]
     },
     "metadata": {},
     "output_type": "display_data"
    },
    {
     "data": {
      "application/javascript": [
       "\n",
       "        $('span:contains(\"# Temp\")').closest('.cell').remove();\n",
       "        var code = IPython.notebook.insert_cell_below('code');\n",
       "        code.set_text(atob(\"IyBUZW1wCmluc2VydCgnJycKbWVuZGVzMjAwN2IgPSBEQihXb3JrKAogICAgMjAwNywgIkEgY29tcGFyaXNvbiBvZiB0ZWNobmlxdWVzIGZvciB3ZWIgZWZmb3J0IGVzdGltYXRpb24iLAogICAgZGlzcGxheT0ibWVuZGVzIGIiLAogICAgYXV0aG9ycz0iTWVuZGVzLCBFbWlsaWEiLAogICAgcGxhY2U9RVNFTSwKICAgIHBwPSIzMzQtLTM0MyIsCiAgICBlbnRyeXR5cGU9ImlucHJvY2VlZGluZ3MiLAogICAgb3JnYW5pemF0aW9uPSJJRUVFIiwKICAgIElEPSJtZW5kZXMyMDA3Y29tcGFyaXNvbiIsCiAgICBjbHVzdGVyX2lkPSIxMzMxMDAzNjE2OTIyNDA2MTk1MiIsCiAgICBzY2hvbGFyPSJodHRwOi8vc2Nob2xhci5nb29nbGUuY29tL3NjaG9sYXI/Y2l0ZXM9MTMzMTAwMzYxNjkyMjQwNjE5NTImYXNfc2R0PTIwMDUmc2Npb2R0PTAsNSZobD1lbiIsCikpCgpEQihDaXRhdGlvbigKICAgIG1lbmRlczIwMDdiLCBtZW5kZXMyMDA0YSwgcmVmPSIiLAogICAgY29udGV4dHM9WwoKICAgIF0sCikpCgonJycsIGNpdGF0aW9ucz0nbWVuZGVzMjAwNGEnKTs=\"));\n",
       "    "
      ],
      "text/plain": [
       "<IPython.core.display.Javascript object>"
      ]
     },
     "metadata": {},
     "output_type": "display_data"
    },
    {
     "data": {
      "application/javascript": [
       "$('span:contains(\"# Temp\")').closest('.cell').remove();"
      ],
      "text/plain": [
       "<IPython.core.display.Javascript object>"
      ]
     },
     "metadata": {},
     "output_type": "display_data"
    },
    {
     "data": {
      "application/javascript": [
       "\n",
       "        $('span:contains(\"# Temp\")').closest('.cell').remove();\n",
       "        var code = IPython.notebook.insert_cell_below('code');\n",
       "        code.set_text(atob(\"IyBUZW1wCmluc2VydCgnJycKbWVuZGVzMjAwN2IgPSBEQihXb3JrT2soCiAgICAyMDA3LCAiQSBjb21wYXJpc29uIG9mIHRlY2huaXF1ZXMgZm9yIHdlYiBlZmZvcnQgZXN0aW1hdGlvbiIsCiAgICBkaXNwbGF5PSJtZW5kZXMgYiIsCiAgICBhdXRob3JzPSJNZW5kZXMsIEVtaWxpYSIsCiAgICBwbGFjZT1FU0VNLAogICAgcHA9IjMzNC0tMzQzIiwKICAgIGVudHJ5dHlwZT0iaW5wcm9jZWVkaW5ncyIsCiAgICBvcmdhbml6YXRpb249IklFRUUiLAogICAgSUQ9Im1lbmRlczIwMDdjb21wYXJpc29uIiwKICAgIGNsdXN0ZXJfaWQ9IjEzMzEwMDM2MTY5MjI0MDYxOTUyIiwKICAgIHNjaG9sYXI9Imh0dHA6Ly9zY2hvbGFyLmdvb2dsZS5jb20vc2Nob2xhcj9jaXRlcz0xMzMxMDAzNjE2OTIyNDA2MTk1MiZhc19zZHQ9MjAwNSZzY2lvZHQ9MCw1JmhsPWVuIiwKKSkKCkRCKENpdGF0aW9uKAogICAgbWVuZGVzMjAwN2IsIG1lbmRlczIwMDRhLCByZWY9IiIsCiAgICBjb250ZXh0cz1bCgogICAgXSwKKSkKCicnJywgY2l0YXRpb25zPSdtZW5kZXMyMDA0YScpOw==\"));\n",
       "    "
      ],
      "text/plain": [
       "<IPython.core.display.Javascript object>"
      ]
     },
     "metadata": {},
     "output_type": "display_data"
    },
    {
     "data": {
      "application/javascript": [
       "$('span:contains(\"# Temp\")').closest('.cell').remove();"
      ],
      "text/plain": [
       "<IPython.core.display.Javascript object>"
      ]
     },
     "metadata": {},
     "output_type": "display_data"
    },
    {
     "data": {
      "application/javascript": [
       "\n",
       "        $('span:contains(\"# Temp\")').closest('.cell').remove();\n",
       "        var code = IPython.notebook.insert_cell_below('code');\n",
       "        code.set_text(atob(\"IyBUZW1wCmluc2VydCgnJycKbWVuZGVzMjAwN2IgPSBEQihXb3JrVW5yZWxhdGVkKAogICAgMjAwNywgIkEgY29tcGFyaXNvbiBvZiB0ZWNobmlxdWVzIGZvciB3ZWIgZWZmb3J0IGVzdGltYXRpb24iLAogICAgZGlzcGxheT0ibWVuZGVzIGIiLAogICAgYXV0aG9ycz0iTWVuZGVzLCBFbWlsaWEiLAogICAgcGxhY2U9RVNFTSwKICAgIHBwPSIzMzQtLTM0MyIsCiAgICBlbnRyeXR5cGU9ImlucHJvY2VlZGluZ3MiLAogICAgb3JnYW5pemF0aW9uPSJJRUVFIiwKICAgIElEPSJtZW5kZXMyMDA3Y29tcGFyaXNvbiIsCiAgICBjbHVzdGVyX2lkPSIxMzMxMDAzNjE2OTIyNDA2MTk1MiIsCiAgICBzY2hvbGFyPSJodHRwOi8vc2Nob2xhci5nb29nbGUuY29tL3NjaG9sYXI/Y2l0ZXM9MTMzMTAwMzYxNjkyMjQwNjE5NTImYXNfc2R0PTIwMDUmc2Npb2R0PTAsNSZobD1lbiIsCikpCgpEQihDaXRhdGlvbigKICAgIG1lbmRlczIwMDdiLCBtZW5kZXMyMDA0YSwgcmVmPSIiLAogICAgY29udGV4dHM9WwoKICAgIF0sCikpCgonJycsIGNpdGF0aW9ucz0nbWVuZGVzMjAwNGEnKTs=\"));\n",
       "    "
      ],
      "text/plain": [
       "<IPython.core.display.Javascript object>"
      ]
     },
     "metadata": {},
     "output_type": "display_data"
    },
    {
     "data": {
      "application/javascript": [
       "$('span:contains(\"# Temp\")').closest('.cell').remove();"
      ],
      "text/plain": [
       "<IPython.core.display.Javascript object>"
      ]
     },
     "metadata": {},
     "output_type": "display_data"
    },
    {
     "data": {
      "application/javascript": [
       "\n",
       "        $('span:contains(\"# Temp\")').closest('.cell').remove();\n",
       "        var code = IPython.notebook.insert_cell_below('code');\n",
       "        code.set_text(atob(\"IyBUZW1wCmluc2VydCgnJycKREIoQ2l0YXRpb24oCiAgICBtZW5kZXMyMDA4YiwgbWVuZGVzMjAwNGEsIHJlZj0iIiwKICAgIGNvbnRleHRzPVsKCiAgICBdLAopKQoKJycnLCBjaXRhdGlvbnM9J21lbmRlczIwMDRhJyk7CnNldF9hdHRyaWJ1dGUoJ21lbmRlczIwMDhiJywgJ2V4Y2VycHQnLCAnSW4gMjAwNCBbS2l0Y2hlbmhhbSwgQkEsIE1lbmRlcywgRS4sIDIwMDRhLiBTb2Z0d2FyZSBwcm9kdWN0aXZpdHkgbWVhc3VyZW1lbnQgdXNpbmcgbXVsdGlwbGUgc2l6ZSBtZWFzdXJlcy4gSUVFRSBUcmFuc2FjdGlvbnMgb24gU29mdHdhcmUgRW5naW5lZXJpbmcgMzAgKDEyKSwgMTAyM5YxMDM1LCBLaXRjaGVuaGFtLCBCQSwgTWVuZGVzLCBFLiwgMjAwNGIuIEEgY29tcGFyaXNvbiBvZiBjcm9zcy1jb21wYW55IGFuZCBzaW5nbGUtY29tcGFueSAnKTs=\"));\n",
       "    "
      ],
      "text/plain": [
       "<IPython.core.display.Javascript object>"
      ]
     },
     "metadata": {},
     "output_type": "display_data"
    },
    {
     "data": {
      "application/javascript": [
       "$('span:contains(\"# Temp\")').closest('.cell').remove();"
      ],
      "text/plain": [
       "<IPython.core.display.Javascript object>"
      ]
     },
     "metadata": {},
     "output_type": "display_data"
    },
    {
     "data": {
      "application/javascript": [
       "\n",
       "        $('span:contains(\"# Temp\")').closest('.cell').remove();\n",
       "        var code = IPython.notebook.insert_cell_below('code');\n",
       "        code.set_text(atob(\"IyBUZW1wCmluc2VydCgnJycKREIoQ2l0YXRpb24oCiAgICBtZW5kZXMyMDA4YiwgbWVuZGVzMjAwNGEsIHJlZj0iIiwKICAgIGNvbnRleHRzPVsKCiAgICBdLAopKQoKJycnLCBjaXRhdGlvbnM9J21lbmRlczIwMDRhJyk7CnNldF9hdHRyaWJ1dGUoJ21lbmRlczIwMDhiJywgJ2V4Y2VycHQnLCAnSW4gMjAwNCBbS2l0Y2hlbmhhbSwgQkEsIE1lbmRlcywgRS4sIDIwMDRhLiBTb2Z0d2FyZSBwcm9kdWN0aXZpdHkgbWVhc3VyZW1lbnQgdXNpbmcgbXVsdGlwbGUgc2l6ZSBtZWFzdXJlcy4gSUVFRSBUcmFuc2FjdGlvbnMgb24gU29mdHdhcmUgRW5naW5lZXJpbmcgMzAgKDEyKSwgMTAyM5YxMDM1LCBLaXRjaGVuaGFtLCBCQSwgTWVuZGVzLCBFLiwgMjAwNGIuIEEgY29tcGFyaXNvbiBvZiBjcm9zcy1jb21wYW55IGFuZCBzaW5nbGUtY29tcGFueSAnKTs=\"));\n",
       "    "
      ],
      "text/plain": [
       "<IPython.core.display.Javascript object>"
      ]
     },
     "metadata": {},
     "output_type": "display_data"
    },
    {
     "data": {
      "application/javascript": [
       "$('span:contains(\"# Temp\")').closest('.cell').remove();"
      ],
      "text/plain": [
       "<IPython.core.display.Javascript object>"
      ]
     },
     "metadata": {},
     "output_type": "display_data"
    },
    {
     "data": {
      "application/javascript": [
       "\n",
       "        $('span:contains(\"# Temp\")').closest('.cell').remove();\n",
       "        var code = IPython.notebook.insert_cell_below('code');\n",
       "        code.set_text(atob(\"IyBUZW1wCmluc2VydCgnJycKREIoQ2l0YXRpb24oCiAgICBtZW5kZXMyMDA4YiwgbWVuZGVzMjAwNGEsIHJlZj0iIiwKICAgIGNvbnRleHRzPVsKCiAgICBdLAopKQoKJycnLCBjaXRhdGlvbnM9J21lbmRlczIwMDRhJyk7CnNldF9hdHRyaWJ1dGUoJ21lbmRlczIwMDhiJywgJ2V4Y2VycHQnLCAnSW4gMjAwNCBbS2l0Y2hlbmhhbSwgQkEsIE1lbmRlcywgRS4sIDIwMDRhLiBTb2Z0d2FyZSBwcm9kdWN0aXZpdHkgbWVhc3VyZW1lbnQgdXNpbmcgbXVsdGlwbGUgc2l6ZSBtZWFzdXJlcy4gSUVFRSBUcmFuc2FjdGlvbnMgb24gU29mdHdhcmUgRW5naW5lZXJpbmcgMzAgKDEyKSwgMTAyM5YxMDM1LCBLaXRjaGVuaGFtLCBCQSwgTWVuZGVzLCBFLiwgMjAwNGIuIEEgY29tcGFyaXNvbiBvZiBjcm9zcy1jb21wYW55IGFuZCBzaW5nbGUtY29tcGFueSAnKTs=\"));\n",
       "    "
      ],
      "text/plain": [
       "<IPython.core.display.Javascript object>"
      ]
     },
     "metadata": {},
     "output_type": "display_data"
    },
    {
     "data": {
      "application/javascript": [
       "$('span:contains(\"# Temp\")').closest('.cell').remove();"
      ],
      "text/plain": [
       "<IPython.core.display.Javascript object>"
      ]
     },
     "metadata": {},
     "output_type": "display_data"
    },
    {
     "data": {
      "application/javascript": [
       "\n",
       "        $('span:contains(\"# Temp\")').closest('.cell').remove();\n",
       "        var code = IPython.notebook.insert_cell_below('code');\n",
       "        code.set_text(atob(\"IyBUZW1wCmluc2VydCgnJycKREIoQ2l0YXRpb24oCiAgICBtZW5kZXMyMDA4YywgbWVuZGVzMjAwNGEsIHJlZj0iIiwKICAgIGNvbnRleHRzPVsKCiAgICBdLAopKQoKJycnLCBjaXRhdGlvbnM9J21lbmRlczIwMDRhJyk7CnNldF9hdHRyaWJ1dGUoJ21lbmRlczIwMDhjJywgJ2V4Y2VycHQnLCAnQWJzdHJhY3Q6IFRoZSBvYmplY3RpdmUgb2YgdGhpcyBwYXBlciBpcyB0byBmdXJ0aGVyIGludmVzdGlnYXRlIHRoZSB1c2Ugb2YgQmF5ZXNpYW4gTmV0d29ya3MgKEJOKSBmb3IgV2ViIGVmZm9ydCBlc3RpbWF0aW9uIHdoZW4gdXNpbmcgYSBjcm9zcy1jb21wYW55IGRhdGFzZXQuIEZvdXIgQk5zIHdlcmUgYnVpbHQ7IHR3byBhdXRvbWF0aWNhbGx5IHVzaW5nIHRoZSBIdWdpbiB0b29sIHdpdGggdHdvIHRyYWluaW5nIHNldHM7IHR3byB1c2luZyBhIHN0cnVjdHVyZSBlbGljaXRlZCBieSAnKTs=\"));\n",
       "    "
      ],
      "text/plain": [
       "<IPython.core.display.Javascript object>"
      ]
     },
     "metadata": {},
     "output_type": "display_data"
    },
    {
     "data": {
      "application/javascript": [
       "$('span:contains(\"# Temp\")').closest('.cell').remove();"
      ],
      "text/plain": [
       "<IPython.core.display.Javascript object>"
      ]
     },
     "metadata": {},
     "output_type": "display_data"
    },
    {
     "data": {
      "application/javascript": [
       "\n",
       "        $('span:contains(\"# Temp\")').closest('.cell').remove();\n",
       "        var code = IPython.notebook.insert_cell_below('code');\n",
       "        code.set_text(atob(\"IyBUZW1wCmluc2VydCgnJycKbWl0dGFzMjAxMGEgPSBEQihXb3JrVW5yZWxhdGVkKAogICAgMjAxMCwgIkxTRWJBOiBsZWFzdCBzcXVhcmVzIHJlZ3Jlc3Npb24gYW5kIGVzdGltYXRpb24gYnkgYW5hbG9neSBpbiBhIHNlbWktcGFyYW1ldHJpYyBtb2RlbCBmb3Igc29mdHdhcmUgY29zdCBlc3RpbWF0aW9uIiwKICAgIGRpc3BsYXk9Im1pdHRhcyIsCiAgICBhdXRob3JzPSJNaXR0YXMsIE5pa29sYW9zIGFuZCBBbmdlbGlzLCBMZWZ0ZXJpcyIsCiAgICBwbGFjZT1FU0UsCiAgICBwcD0iNTIzLS01NTUiLAogICAgZW50cnl0eXBlPSJhcnRpY2xlIiwKICAgIHZvbHVtZT0iMTUiLAogICAgbnVtYmVyPSI1IiwKICAgIHB1Ymxpc2hlcj0iU3ByaW5nZXIiLAogICAgSUQ9Im1pdHRhczIwMTBsc2ViYSIsCiAgICBjbHVzdGVyX2lkPSI3MTgxODE3NjMwMTM5MTYxNTgxIiwKICAgIHNjaG9sYXI9Imh0dHA6Ly9zY2hvbGFyLmdvb2dsZS5jb20vc2Nob2xhcj9jaXRlcz03MTgxODE3NjMwMTM5MTYxNTgxJmFzX3NkdD0yMDA1JnNjaW9kdD0wLDUmaGw9ZW4iLAopKQoKREIoQ2l0YXRpb24oCiAgICBtaXR0YXMyMDEwYSwgbWVuZGVzMjAwNGEsIHJlZj0iIiwKICAgIGNvbnRleHRzPVsKCiAgICBdLAopKQoKJycnLCBjaXRhdGlvbnM9J21lbmRlczIwMDRhJyk7\"));\n",
       "    "
      ],
      "text/plain": [
       "<IPython.core.display.Javascript object>"
      ]
     },
     "metadata": {},
     "output_type": "display_data"
    },
    {
     "data": {
      "application/javascript": [
       "$('span:contains(\"# Temp\")').closest('.cell').remove();"
      ],
      "text/plain": [
       "<IPython.core.display.Javascript object>"
      ]
     },
     "metadata": {},
     "output_type": "display_data"
    },
    {
     "data": {
      "application/javascript": [
       "\n",
       "        $('span:contains(\"# Temp\")').closest('.cell').remove();\n",
       "        var code = IPython.notebook.insert_cell_below('code');\n",
       "        code.set_text(atob(\"IyBUZW1wCmluc2VydCgnJycKbWl0dGFzMjAxMGEgPSBEQihXb3JrKAogICAgMjAxMCwgIkxTRWJBOiBsZWFzdCBzcXVhcmVzIHJlZ3Jlc3Npb24gYW5kIGVzdGltYXRpb24gYnkgYW5hbG9neSBpbiBhIHNlbWktcGFyYW1ldHJpYyBtb2RlbCBmb3Igc29mdHdhcmUgY29zdCBlc3RpbWF0aW9uIiwKICAgIGRpc3BsYXk9Im1pdHRhcyIsCiAgICBhdXRob3JzPSJNaXR0YXMsIE5pa29sYW9zIGFuZCBBbmdlbGlzLCBMZWZ0ZXJpcyIsCiAgICBwbGFjZT1FU0UsCiAgICBwcD0iNTIzLS01NTUiLAogICAgZW50cnl0eXBlPSJhcnRpY2xlIiwKICAgIHZvbHVtZT0iMTUiLAogICAgbnVtYmVyPSI1IiwKICAgIHB1Ymxpc2hlcj0iU3ByaW5nZXIiLAogICAgSUQ9Im1pdHRhczIwMTBsc2ViYSIsCiAgICBjbHVzdGVyX2lkPSI3MTgxODE3NjMwMTM5MTYxNTgxIiwKICAgIHNjaG9sYXI9Imh0dHA6Ly9zY2hvbGFyLmdvb2dsZS5jb20vc2Nob2xhcj9jaXRlcz03MTgxODE3NjMwMTM5MTYxNTgxJmFzX3NkdD0yMDA1JnNjaW9kdD0wLDUmaGw9ZW4iLAopKQoKREIoQ2l0YXRpb24oCiAgICBtaXR0YXMyMDEwYSwgbWVuZGVzMjAwNGEsIHJlZj0iIiwKICAgIGNvbnRleHRzPVsKCiAgICBdLAopKQoKJycnLCBjaXRhdGlvbnM9J21lbmRlczIwMDRhJyk7\"));\n",
       "    "
      ],
      "text/plain": [
       "<IPython.core.display.Javascript object>"
      ]
     },
     "metadata": {},
     "output_type": "display_data"
    },
    {
     "data": {
      "application/javascript": [
       "$('span:contains(\"# Temp\")').closest('.cell').remove();"
      ],
      "text/plain": [
       "<IPython.core.display.Javascript object>"
      ]
     },
     "metadata": {},
     "output_type": "display_data"
    },
    {
     "data": {
      "application/javascript": [
       "\n",
       "        $('span:contains(\"# Temp\")').closest('.cell').remove();\n",
       "        var code = IPython.notebook.insert_cell_below('code');\n",
       "        code.set_text(atob(\"IyBUZW1wCmluc2VydCgnJycKbWl0dGFzMjAxMGEgPSBEQihXb3JrVW5yZWxhdGVkKAogICAgMjAxMCwgIkxTRWJBOiBsZWFzdCBzcXVhcmVzIHJlZ3Jlc3Npb24gYW5kIGVzdGltYXRpb24gYnkgYW5hbG9neSBpbiBhIHNlbWktcGFyYW1ldHJpYyBtb2RlbCBmb3Igc29mdHdhcmUgY29zdCBlc3RpbWF0aW9uIiwKICAgIGRpc3BsYXk9Im1pdHRhcyIsCiAgICBhdXRob3JzPSJNaXR0YXMsIE5pa29sYW9zIGFuZCBBbmdlbGlzLCBMZWZ0ZXJpcyIsCiAgICBwbGFjZT1FU0UsCiAgICBwcD0iNTIzLS01NTUiLAogICAgZW50cnl0eXBlPSJhcnRpY2xlIiwKICAgIHZvbHVtZT0iMTUiLAogICAgbnVtYmVyPSI1IiwKICAgIHB1Ymxpc2hlcj0iU3ByaW5nZXIiLAogICAgSUQ9Im1pdHRhczIwMTBsc2ViYSIsCiAgICBjbHVzdGVyX2lkPSI3MTgxODE3NjMwMTM5MTYxNTgxIiwKICAgIHNjaG9sYXI9Imh0dHA6Ly9zY2hvbGFyLmdvb2dsZS5jb20vc2Nob2xhcj9jaXRlcz03MTgxODE3NjMwMTM5MTYxNTgxJmFzX3NkdD0yMDA1JnNjaW9kdD0wLDUmaGw9ZW4iLAopKQoKREIoQ2l0YXRpb24oCiAgICBtaXR0YXMyMDEwYSwgbWVuZGVzMjAwNGEsIHJlZj0iIiwKICAgIGNvbnRleHRzPVsKCiAgICBdLAopKQoKJycnLCBjaXRhdGlvbnM9J21lbmRlczIwMDRhJyk7\"));\n",
       "    "
      ],
      "text/plain": [
       "<IPython.core.display.Javascript object>"
      ]
     },
     "metadata": {},
     "output_type": "display_data"
    },
    {
     "data": {
      "application/javascript": [
       "$('span:contains(\"# Temp\")').closest('.cell').remove();"
      ],
      "text/plain": [
       "<IPython.core.display.Javascript object>"
      ]
     },
     "metadata": {},
     "output_type": "display_data"
    },
    {
     "data": {
      "application/javascript": [
       "\n",
       "        $('span:contains(\"# Temp\")').closest('.cell').remove();\n",
       "        var code = IPython.notebook.insert_cell_below('code');\n",
       "        code.set_text(atob(\"IyBUZW1wCmluc2VydCgnJycKY29yYXp6YTIwMTNhID0gREIoV29ya1VucmVsYXRlZCgKICAgIDIwMTMsICJVc2luZyB0YWJ1IHNlYXJjaCB0byBjb25maWd1cmUgc3VwcG9ydCB2ZWN0b3IgcmVncmVzc2lvbiBmb3IgZWZmb3J0IGVzdGltYXRpb24iLAogICAgZGlzcGxheT0iY29yYXp6YSIsCiAgICBhdXRob3JzPSJDb3JhenphLCBBbm5hIGFuZCBEaSBNYXJ0aW5vLCBTZXJnaW8gYW5kIEZlcnJ1Y2NpLCBGaWxvbWVuYSBhbmQgR3JhdmlubywgQ2FybWluZSBhbmQgU2Fycm8sIEZlZGVyaWNhIGFuZCBNZW5kZXMsIEVtaWxpYSIsCiAgICBwbGFjZT1FU0UsCiAgICBwcD0iNTA2LS01NDYiLAogICAgZW50cnl0eXBlPSJhcnRpY2xlIiwKICAgIHZvbHVtZT0iMTgiLAogICAgbnVtYmVyPSIzIiwKICAgIHB1Ymxpc2hlcj0iU3ByaW5nZXIiLAogICAgSUQ9ImNvcmF6emEyMDEzdXNpbmciLAogICAgY2x1c3Rlcl9pZD0iMTYxMDQ4MzE4MjI0MDQxNDU1MTIiLAogICAgc2Nob2xhcj0iaHR0cDovL3NjaG9sYXIuZ29vZ2xlLmNvbS9zY2hvbGFyP2NpdGVzPTE2MTA0ODMxODIyNDA0MTQ1NTEyJmFzX3NkdD0yMDA1JnNjaW9kdD0wLDUmaGw9ZW4iLAopKQoKREIoQ2l0YXRpb24oCiAgICBjb3JhenphMjAxM2EsIG1lbmRlczIwMDRhLCByZWY9IiIsCiAgICBjb250ZXh0cz1bCgogICAgXSwKKSkKCicnJywgY2l0YXRpb25zPSdtZW5kZXMyMDA0YScpOw==\"));\n",
       "    "
      ],
      "text/plain": [
       "<IPython.core.display.Javascript object>"
      ]
     },
     "metadata": {},
     "output_type": "display_data"
    },
    {
     "data": {
      "application/javascript": [
       "$('span:contains(\"# Temp\")').closest('.cell').remove();"
      ],
      "text/plain": [
       "<IPython.core.display.Javascript object>"
      ]
     },
     "metadata": {},
     "output_type": "display_data"
    },
    {
     "data": {
      "application/javascript": [
       "\n",
       "        $('span:contains(\"# Temp\")').closest('.cell').remove();\n",
       "        var code = IPython.notebook.insert_cell_below('code');\n",
       "        code.set_text(atob(\"IyBUZW1wCmluc2VydCgnJycKY29yYXp6YTIwMTNhID0gREIoV29yaygKICAgIDIwMTMsICJVc2luZyB0YWJ1IHNlYXJjaCB0byBjb25maWd1cmUgc3VwcG9ydCB2ZWN0b3IgcmVncmVzc2lvbiBmb3IgZWZmb3J0IGVzdGltYXRpb24iLAogICAgZGlzcGxheT0iY29yYXp6YSIsCiAgICBhdXRob3JzPSJDb3JhenphLCBBbm5hIGFuZCBEaSBNYXJ0aW5vLCBTZXJnaW8gYW5kIEZlcnJ1Y2NpLCBGaWxvbWVuYSBhbmQgR3JhdmlubywgQ2FybWluZSBhbmQgU2Fycm8sIEZlZGVyaWNhIGFuZCBNZW5kZXMsIEVtaWxpYSIsCiAgICBwbGFjZT1FU0UsCiAgICBwcD0iNTA2LS01NDYiLAogICAgZW50cnl0eXBlPSJhcnRpY2xlIiwKICAgIHZvbHVtZT0iMTgiLAogICAgbnVtYmVyPSIzIiwKICAgIHB1Ymxpc2hlcj0iU3ByaW5nZXIiLAogICAgSUQ9ImNvcmF6emEyMDEzdXNpbmciLAogICAgY2x1c3Rlcl9pZD0iMTYxMDQ4MzE4MjI0MDQxNDU1MTIiLAogICAgc2Nob2xhcj0iaHR0cDovL3NjaG9sYXIuZ29vZ2xlLmNvbS9zY2hvbGFyP2NpdGVzPTE2MTA0ODMxODIyNDA0MTQ1NTEyJmFzX3NkdD0yMDA1JnNjaW9kdD0wLDUmaGw9ZW4iLAopKQoKREIoQ2l0YXRpb24oCiAgICBjb3JhenphMjAxM2EsIG1lbmRlczIwMDRhLCByZWY9IiIsCiAgICBjb250ZXh0cz1bCgogICAgXSwKKSkKCicnJywgY2l0YXRpb25zPSdtZW5kZXMyMDA0YScpOw==\"));\n",
       "    "
      ],
      "text/plain": [
       "<IPython.core.display.Javascript object>"
      ]
     },
     "metadata": {},
     "output_type": "display_data"
    },
    {
     "data": {
      "application/javascript": [
       "$('span:contains(\"# Temp\")').closest('.cell').remove();"
      ],
      "text/plain": [
       "<IPython.core.display.Javascript object>"
      ]
     },
     "metadata": {},
     "output_type": "display_data"
    },
    {
     "data": {
      "application/javascript": [
       "\n",
       "        $('span:contains(\"# Temp\")').closest('.cell').remove();\n",
       "        var code = IPython.notebook.insert_cell_below('code');\n",
       "        code.set_text(atob(\"IyBUZW1wCmluc2VydCgnJycKY29yYXp6YTIwMTNhID0gREIoV29ya1VucmVsYXRlZCgKICAgIDIwMTMsICJVc2luZyB0YWJ1IHNlYXJjaCB0byBjb25maWd1cmUgc3VwcG9ydCB2ZWN0b3IgcmVncmVzc2lvbiBmb3IgZWZmb3J0IGVzdGltYXRpb24iLAogICAgZGlzcGxheT0iY29yYXp6YSIsCiAgICBhdXRob3JzPSJDb3JhenphLCBBbm5hIGFuZCBEaSBNYXJ0aW5vLCBTZXJnaW8gYW5kIEZlcnJ1Y2NpLCBGaWxvbWVuYSBhbmQgR3JhdmlubywgQ2FybWluZSBhbmQgU2Fycm8sIEZlZGVyaWNhIGFuZCBNZW5kZXMsIEVtaWxpYSIsCiAgICBwbGFjZT1FU0UsCiAgICBwcD0iNTA2LS01NDYiLAogICAgZW50cnl0eXBlPSJhcnRpY2xlIiwKICAgIHZvbHVtZT0iMTgiLAogICAgbnVtYmVyPSIzIiwKICAgIHB1Ymxpc2hlcj0iU3ByaW5nZXIiLAogICAgSUQ9ImNvcmF6emEyMDEzdXNpbmciLAogICAgY2x1c3Rlcl9pZD0iMTYxMDQ4MzE4MjI0MDQxNDU1MTIiLAogICAgc2Nob2xhcj0iaHR0cDovL3NjaG9sYXIuZ29vZ2xlLmNvbS9zY2hvbGFyP2NpdGVzPTE2MTA0ODMxODIyNDA0MTQ1NTEyJmFzX3NkdD0yMDA1JnNjaW9kdD0wLDUmaGw9ZW4iLAopKQoKREIoQ2l0YXRpb24oCiAgICBjb3JhenphMjAxM2EsIG1lbmRlczIwMDRhLCByZWY9IiIsCiAgICBjb250ZXh0cz1bCgogICAgXSwKKSkKCicnJywgY2l0YXRpb25zPSdtZW5kZXMyMDA0YScpOw==\"));\n",
       "    "
      ],
      "text/plain": [
       "<IPython.core.display.Javascript object>"
      ]
     },
     "metadata": {},
     "output_type": "display_data"
    },
    {
     "data": {
      "application/javascript": [
       "$('span:contains(\"# Temp\")').closest('.cell').remove();"
      ],
      "text/plain": [
       "<IPython.core.display.Javascript object>"
      ]
     },
     "metadata": {},
     "output_type": "display_data"
    },
    {
     "data": {
      "application/javascript": [
       "\n",
       "        $('span:contains(\"# Temp\")').closest('.cell').remove();\n",
       "        var code = IPython.notebook.insert_cell_below('code');\n",
       "        code.set_text(atob(\"IyBUZW1wCmluc2VydCgnJycKd2llcmluZ2EyMDE1YSA9IERCKFdvcmtVbnJlbGF0ZWQoCiAgICAyMDE1LCAiU2l4IHN0cmF0ZWdpZXMgZm9yIGdlbmVyYWxpemluZyBzb2Z0d2FyZSBlbmdpbmVlcmluZyB0aGVvcmllcyIsCiAgICBkaXNwbGF5PSJ3aWVyaW5nYSIsCiAgICBhdXRob3JzPSJXaWVyaW5nYSwgUm9lbCBhbmQgRGFuZXZhLCBNYXlhIiwKICAgIHBwPSIxMzYtLTE1MiIsCiAgICBwbGFjZTE9IlNjaWVuY2Ugb2YgY29tcHV0ZXIgcHJvZ3JhbW1pbmciLAogICAgZW50cnl0eXBlPSJhcnRpY2xlIiwKICAgIHZvbHVtZT0iMTAxIiwKICAgIHB1Ymxpc2hlcj0iRWxzZXZpZXIiLAogICAgSUQ9IndpZXJpbmdhMjAxNXNpeCIsCiAgICBjbHVzdGVyX2lkPSIxNDc3NDM3NTE3NTExMDM1NTI3MiIsCiAgICBzY2hvbGFyPSJodHRwOi8vc2Nob2xhci5nb29nbGUuY29tL3NjaG9sYXI/Y2l0ZXM9MTQ3NzQzNzUxNzUxMTAzNTUyNzImYXNfc2R0PTIwMDUmc2Npb2R0PTAsNSZobD1lbiIsCikpCgpEQihDaXRhdGlvbigKICAgIHdpZXJpbmdhMjAxNWEsIG1lbmRlczIwMDRhLCByZWY9IiIsCiAgICBjb250ZXh0cz1bCgogICAgXSwKKSkKCicnJywgY2l0YXRpb25zPSdtZW5kZXMyMDA0YScpOw==\"));\n",
       "    "
      ],
      "text/plain": [
       "<IPython.core.display.Javascript object>"
      ]
     },
     "metadata": {},
     "output_type": "display_data"
    },
    {
     "data": {
      "application/javascript": [
       "$('span:contains(\"# Temp\")').closest('.cell').remove();"
      ],
      "text/plain": [
       "<IPython.core.display.Javascript object>"
      ]
     },
     "metadata": {},
     "output_type": "display_data"
    },
    {
     "data": {
      "application/javascript": [
       "\n",
       "        $('span:contains(\"# Temp\")').closest('.cell').remove();\n",
       "        var code = IPython.notebook.insert_cell_below('code');\n",
       "        code.set_text(atob(\"IyBUZW1wCmluc2VydCgnJycKd2llcmluZ2EyMDE1YSA9IERCKFdvcmsoCiAgICAyMDE1LCAiU2l4IHN0cmF0ZWdpZXMgZm9yIGdlbmVyYWxpemluZyBzb2Z0d2FyZSBlbmdpbmVlcmluZyB0aGVvcmllcyIsCiAgICBkaXNwbGF5PSJ3aWVyaW5nYSIsCiAgICBhdXRob3JzPSJXaWVyaW5nYSwgUm9lbCBhbmQgRGFuZXZhLCBNYXlhIiwKICAgIHBwPSIxMzYtLTE1MiIsCiAgICBwbGFjZTE9IlNjaWVuY2Ugb2YgY29tcHV0ZXIgcHJvZ3JhbW1pbmciLAogICAgZW50cnl0eXBlPSJhcnRpY2xlIiwKICAgIHZvbHVtZT0iMTAxIiwKICAgIHB1Ymxpc2hlcj0iRWxzZXZpZXIiLAogICAgSUQ9IndpZXJpbmdhMjAxNXNpeCIsCiAgICBjbHVzdGVyX2lkPSIxNDc3NDM3NTE3NTExMDM1NTI3MiIsCiAgICBzY2hvbGFyPSJodHRwOi8vc2Nob2xhci5nb29nbGUuY29tL3NjaG9sYXI/Y2l0ZXM9MTQ3NzQzNzUxNzUxMTAzNTUyNzImYXNfc2R0PTIwMDUmc2Npb2R0PTAsNSZobD1lbiIsCikpCgpEQihDaXRhdGlvbigKICAgIHdpZXJpbmdhMjAxNWEsIG1lbmRlczIwMDRhLCByZWY9IiIsCiAgICBjb250ZXh0cz1bCgogICAgXSwKKSkKCicnJywgY2l0YXRpb25zPSdtZW5kZXMyMDA0YScpOw==\"));\n",
       "    "
      ],
      "text/plain": [
       "<IPython.core.display.Javascript object>"
      ]
     },
     "metadata": {},
     "output_type": "display_data"
    },
    {
     "data": {
      "application/javascript": [
       "$('span:contains(\"# Temp\")').closest('.cell').remove();"
      ],
      "text/plain": [
       "<IPython.core.display.Javascript object>"
      ]
     },
     "metadata": {},
     "output_type": "display_data"
    },
    {
     "data": {
      "application/javascript": [
       "\n",
       "        $('span:contains(\"# Temp\")').closest('.cell').remove();\n",
       "        var code = IPython.notebook.insert_cell_below('code');\n",
       "        code.set_text(atob(\"IyBUZW1wCmluc2VydCgnJycKd2llcmluZ2EyMDE1YSA9IERCKFdvcmtVbnJlbGF0ZWQoCiAgICAyMDE1LCAiU2l4IHN0cmF0ZWdpZXMgZm9yIGdlbmVyYWxpemluZyBzb2Z0d2FyZSBlbmdpbmVlcmluZyB0aGVvcmllcyIsCiAgICBkaXNwbGF5PSJ3aWVyaW5nYSIsCiAgICBhdXRob3JzPSJXaWVyaW5nYSwgUm9lbCBhbmQgRGFuZXZhLCBNYXlhIiwKICAgIHBwPSIxMzYtLTE1MiIsCiAgICBwbGFjZTE9IlNjaWVuY2Ugb2YgY29tcHV0ZXIgcHJvZ3JhbW1pbmciLAogICAgZW50cnl0eXBlPSJhcnRpY2xlIiwKICAgIHZvbHVtZT0iMTAxIiwKICAgIHB1Ymxpc2hlcj0iRWxzZXZpZXIiLAogICAgSUQ9IndpZXJpbmdhMjAxNXNpeCIsCiAgICBjbHVzdGVyX2lkPSIxNDc3NDM3NTE3NTExMDM1NTI3MiIsCiAgICBzY2hvbGFyPSJodHRwOi8vc2Nob2xhci5nb29nbGUuY29tL3NjaG9sYXI/Y2l0ZXM9MTQ3NzQzNzUxNzUxMTAzNTUyNzImYXNfc2R0PTIwMDUmc2Npb2R0PTAsNSZobD1lbiIsCikpCgpEQihDaXRhdGlvbigKICAgIHdpZXJpbmdhMjAxNWEsIG1lbmRlczIwMDRhLCByZWY9IiIsCiAgICBjb250ZXh0cz1bCgogICAgXSwKKSkKCicnJywgY2l0YXRpb25zPSdtZW5kZXMyMDA0YScpOw==\"));\n",
       "    "
      ],
      "text/plain": [
       "<IPython.core.display.Javascript object>"
      ]
     },
     "metadata": {},
     "output_type": "display_data"
    },
    {
     "data": {
      "application/javascript": [
       "$('span:contains(\"# Temp\")').closest('.cell').remove();"
      ],
      "text/plain": [
       "<IPython.core.display.Javascript object>"
      ]
     },
     "metadata": {},
     "output_type": "display_data"
    },
    {
     "data": {
      "application/javascript": [
       "\n",
       "        $('span:contains(\"# Temp\")').closest('.cell').remove();\n",
       "        var code = IPython.notebook.insert_cell_below('code');\n",
       "        code.set_text(atob(\"IyBUZW1wCmluc2VydCgnJycKZmVycnVjY2kyMDA4YSA9IERCKFdvcmtVbnJlbGF0ZWQoCiAgICAyMDA4LCAiQSBjYXNlIHN0dWR5IHVzaW5nIHdlYiBvYmplY3RzIGFuZCBjb3NtaWMgZm9yIGVmZm9ydCBlc3RpbWF0aW9uIG9mIHdlYiBhcHBsaWNhdGlvbnMiLAogICAgZGlzcGxheT0iZmVycnVjY2kiLAogICAgYXV0aG9ycz0iRmVycnVjY2ksIEZpbG9tZW5hIGFuZCBHcmF2aW5vLCBDYXJtaW5lIGFuZCBEaSBNYXJ0aW5vLCBTZXJnaW8iLAogICAgcHA9IjQ0MS0tNDQ4IiwKICAgIHBsYWNlMT0iU29mdHdhcmUgRW5naW5lZXJpbmcgYW5kIEFkdmFuY2VkIEFwcGxpY2F0aW9ucywgMjAwOC4gU0VBQScwOC4gMzR0aCBFdXJvbWljcm8gQ29uZmVyZW5jZSIsCiAgICBlbnRyeXR5cGU9ImlucHJvY2VlZGluZ3MiLAogICAgb3JnYW5pemF0aW9uPSJJRUVFIiwKICAgIElEPSJmZXJydWNjaTIwMDhjYXNlIiwKICAgIGNsdXN0ZXJfaWQ9IjE3MzgzMTc1NTY5NzM4NTYxMDczIiwKICAgIHNjaG9sYXI9Imh0dHA6Ly9zY2hvbGFyLmdvb2dsZS5jb20vc2Nob2xhcj9jaXRlcz0xNzM4MzE3NTU2OTczODU2MTA3MyZhc19zZHQ9MjAwNSZzY2lvZHQ9MCw1JmhsPWVuIiwKKSkKCkRCKENpdGF0aW9uKAogICAgZmVycnVjY2kyMDA4YSwgbWVuZGVzMjAwNGEsIHJlZj0iIiwKICAgIGNvbnRleHRzPVsKCiAgICBdLAopKQoKJycnLCBjaXRhdGlvbnM9J21lbmRlczIwMDRhJyk7\"));\n",
       "    "
      ],
      "text/plain": [
       "<IPython.core.display.Javascript object>"
      ]
     },
     "metadata": {},
     "output_type": "display_data"
    },
    {
     "data": {
      "application/javascript": [
       "$('span:contains(\"# Temp\")').closest('.cell').remove();"
      ],
      "text/plain": [
       "<IPython.core.display.Javascript object>"
      ]
     },
     "metadata": {},
     "output_type": "display_data"
    },
    {
     "data": {
      "application/javascript": [
       "\n",
       "        $('span:contains(\"# Temp\")').closest('.cell').remove();\n",
       "        var code = IPython.notebook.insert_cell_below('code');\n",
       "        code.set_text(atob(\"IyBUZW1wCmluc2VydCgnJycKZmVycnVjY2kyMDA4YSA9IERCKFdvcmsoCiAgICAyMDA4LCAiQSBjYXNlIHN0dWR5IHVzaW5nIHdlYiBvYmplY3RzIGFuZCBjb3NtaWMgZm9yIGVmZm9ydCBlc3RpbWF0aW9uIG9mIHdlYiBhcHBsaWNhdGlvbnMiLAogICAgZGlzcGxheT0iZmVycnVjY2kiLAogICAgYXV0aG9ycz0iRmVycnVjY2ksIEZpbG9tZW5hIGFuZCBHcmF2aW5vLCBDYXJtaW5lIGFuZCBEaSBNYXJ0aW5vLCBTZXJnaW8iLAogICAgcHA9IjQ0MS0tNDQ4IiwKICAgIHBsYWNlMT0iU29mdHdhcmUgRW5naW5lZXJpbmcgYW5kIEFkdmFuY2VkIEFwcGxpY2F0aW9ucywgMjAwOC4gU0VBQScwOC4gMzR0aCBFdXJvbWljcm8gQ29uZmVyZW5jZSIsCiAgICBlbnRyeXR5cGU9ImlucHJvY2VlZGluZ3MiLAogICAgb3JnYW5pemF0aW9uPSJJRUVFIiwKICAgIElEPSJmZXJydWNjaTIwMDhjYXNlIiwKICAgIGNsdXN0ZXJfaWQ9IjE3MzgzMTc1NTY5NzM4NTYxMDczIiwKICAgIHNjaG9sYXI9Imh0dHA6Ly9zY2hvbGFyLmdvb2dsZS5jb20vc2Nob2xhcj9jaXRlcz0xNzM4MzE3NTU2OTczODU2MTA3MyZhc19zZHQ9MjAwNSZzY2lvZHQ9MCw1JmhsPWVuIiwKKSkKCkRCKENpdGF0aW9uKAogICAgZmVycnVjY2kyMDA4YSwgbWVuZGVzMjAwNGEsIHJlZj0iIiwKICAgIGNvbnRleHRzPVsKCiAgICBdLAopKQoKJycnLCBjaXRhdGlvbnM9J21lbmRlczIwMDRhJyk7\"));\n",
       "    "
      ],
      "text/plain": [
       "<IPython.core.display.Javascript object>"
      ]
     },
     "metadata": {},
     "output_type": "display_data"
    },
    {
     "data": {
      "application/javascript": [
       "$('span:contains(\"# Temp\")').closest('.cell').remove();"
      ],
      "text/plain": [
       "<IPython.core.display.Javascript object>"
      ]
     },
     "metadata": {},
     "output_type": "display_data"
    },
    {
     "data": {
      "application/javascript": [
       "\n",
       "        $('span:contains(\"# Temp\")').closest('.cell').remove();\n",
       "        var code = IPython.notebook.insert_cell_below('code');\n",
       "        code.set_text(atob(\"IyBUZW1wCmluc2VydCgnJycKZmVycnVjY2kyMDA4YSA9IERCKFdvcmtVbnJlbGF0ZWQoCiAgICAyMDA4LCAiQSBjYXNlIHN0dWR5IHVzaW5nIHdlYiBvYmplY3RzIGFuZCBjb3NtaWMgZm9yIGVmZm9ydCBlc3RpbWF0aW9uIG9mIHdlYiBhcHBsaWNhdGlvbnMiLAogICAgZGlzcGxheT0iZmVycnVjY2kiLAogICAgYXV0aG9ycz0iRmVycnVjY2ksIEZpbG9tZW5hIGFuZCBHcmF2aW5vLCBDYXJtaW5lIGFuZCBEaSBNYXJ0aW5vLCBTZXJnaW8iLAogICAgcHA9IjQ0MS0tNDQ4IiwKICAgIHBsYWNlMT0iU29mdHdhcmUgRW5naW5lZXJpbmcgYW5kIEFkdmFuY2VkIEFwcGxpY2F0aW9ucywgMjAwOC4gU0VBQScwOC4gMzR0aCBFdXJvbWljcm8gQ29uZmVyZW5jZSIsCiAgICBlbnRyeXR5cGU9ImlucHJvY2VlZGluZ3MiLAogICAgb3JnYW5pemF0aW9uPSJJRUVFIiwKICAgIElEPSJmZXJydWNjaTIwMDhjYXNlIiwKICAgIGNsdXN0ZXJfaWQ9IjE3MzgzMTc1NTY5NzM4NTYxMDczIiwKICAgIHNjaG9sYXI9Imh0dHA6Ly9zY2hvbGFyLmdvb2dsZS5jb20vc2Nob2xhcj9jaXRlcz0xNzM4MzE3NTU2OTczODU2MTA3MyZhc19zZHQ9MjAwNSZzY2lvZHQ9MCw1JmhsPWVuIiwKKSkKCkRCKENpdGF0aW9uKAogICAgZmVycnVjY2kyMDA4YSwgbWVuZGVzMjAwNGEsIHJlZj0iIiwKICAgIGNvbnRleHRzPVsKCiAgICBdLAopKQoKJycnLCBjaXRhdGlvbnM9J21lbmRlczIwMDRhJyk7\"));\n",
       "    "
      ],
      "text/plain": [
       "<IPython.core.display.Javascript object>"
      ]
     },
     "metadata": {},
     "output_type": "display_data"
    },
    {
     "data": {
      "application/javascript": [
       "$('span:contains(\"# Temp\")').closest('.cell').remove();"
      ],
      "text/plain": [
       "<IPython.core.display.Javascript object>"
      ]
     },
     "metadata": {},
     "output_type": "display_data"
    },
    {
     "data": {
      "application/javascript": [
       "\n",
       "        $('span:contains(\"# Temp\")').closest('.cell').remove();\n",
       "        var code = IPython.notebook.insert_cell_below('code');\n",
       "        code.set_text(atob(\"IyBUZW1wCmluc2VydCgnJycKZmVycnVjY2kyMDA4YSA9IERCKFdvcmtVbnJlbGF0ZWQoCiAgICAyMDA4LCAiQSBjYXNlIHN0dWR5IHVzaW5nIHdlYiBvYmplY3RzIGFuZCBjb3NtaWMgZm9yIGVmZm9ydCBlc3RpbWF0aW9uIG9mIHdlYiBhcHBsaWNhdGlvbnMiLAogICAgZGlzcGxheT0iZmVycnVjY2kiLAogICAgYXV0aG9ycz0iRmVycnVjY2ksIEZpbG9tZW5hIGFuZCBHcmF2aW5vLCBDYXJtaW5lIGFuZCBEaSBNYXJ0aW5vLCBTZXJnaW8iLAogICAgcGxhY2U9U0VBQSwKICAgIHBwPSI0NDEtLTQ0OCIsCiAgICBlbnRyeXR5cGU9ImlucHJvY2VlZGluZ3MiLAogICAgb3JnYW5pemF0aW9uPSJJRUVFIiwKICAgIElEPSJmZXJydWNjaTIwMDhjYXNlIiwKICAgIGNsdXN0ZXJfaWQ9IjE3MzgzMTc1NTY5NzM4NTYxMDczIiwKICAgIHNjaG9sYXI9Imh0dHA6Ly9zY2hvbGFyLmdvb2dsZS5jb20vc2Nob2xhcj9jaXRlcz0xNzM4MzE3NTU2OTczODU2MTA3MyZhc19zZHQ9MjAwNSZzY2lvZHQ9MCw1JmhsPWVuIiwKKSkKCkRCKENpdGF0aW9uKAogICAgZmVycnVjY2kyMDA4YSwgbWVuZGVzMjAwNGEsIHJlZj0iIiwKICAgIGNvbnRleHRzPVsKCiAgICBdLAopKQoKJycnLCBjaXRhdGlvbnM9J21lbmRlczIwMDRhJyk7\"));\n",
       "    "
      ],
      "text/plain": [
       "<IPython.core.display.Javascript object>"
      ]
     },
     "metadata": {},
     "output_type": "display_data"
    },
    {
     "data": {
      "application/javascript": [
       "$('span:contains(\"# Temp\")').closest('.cell').remove();"
      ],
      "text/plain": [
       "<IPython.core.display.Javascript object>"
      ]
     },
     "metadata": {},
     "output_type": "display_data"
    },
    {
     "data": {
      "application/javascript": [
       "\n",
       "        $('span:contains(\"# Temp\")').closest('.cell').remove();\n",
       "        var code = IPython.notebook.insert_cell_below('code');\n",
       "        code.set_text(atob(\"IyBUZW1wCmluc2VydCgnJycKZmVycnVjY2kyMDEwYSA9IERCKFdvcmtVbnJlbGF0ZWQoCiAgICAyMDEwLCAiR2VuZXRpYyBwcm9ncmFtbWluZyBmb3IgZWZmb3J0IGVzdGltYXRpb246IGFuIGFuYWx5c2lzIG9mIHRoZSBpbXBhY3Qgb2YgZGlmZmVyZW50IGZpdG5lc3MgZnVuY3Rpb25zIiwKICAgIGRpc3BsYXk9ImZlcnJ1Y2NpIiwKICAgIGF1dGhvcnM9IkZlcnJ1Y2NpLCBGaWxvbWVuYSBhbmQgR3JhdmlubywgQ2FybWluZSBhbmQgT2xpdmV0bywgUm9jY28gYW5kIFNhcnJvLCBGZWRlcmljYSIsCiAgICBwcD0iODktLTk4IiwKICAgIHBsYWNlMT0iU2VhcmNoIEJhc2VkIFNvZnR3YXJlIEVuZ2luZWVyaW5nIChTU0JTRSksIDIwMTAgU2Vjb25kIEludGVybmF0aW9uYWwgU3ltcG9zaXVtIG9uIiwKICAgIGVudHJ5dHlwZT0iaW5wcm9jZWVkaW5ncyIsCiAgICBvcmdhbml6YXRpb249IklFRUUiLAogICAgSUQ9ImZlcnJ1Y2NpMjAxMGdlbmV0aWMiLAogICAgY2x1c3Rlcl9pZD0iMTgxNDU3NDk4MTAyMTE5MzU0NDAiLAogICAgc2Nob2xhcj0iaHR0cDovL3NjaG9sYXIuZ29vZ2xlLmNvbS9zY2hvbGFyP2NpdGVzPTE4MTQ1NzQ5ODEwMjExOTM1NDQwJmFzX3NkdD0yMDA1JnNjaW9kdD0wLDUmaGw9ZW4iLAopKQoKREIoQ2l0YXRpb24oCiAgICBmZXJydWNjaTIwMTBhLCBtZW5kZXMyMDA0YSwgcmVmPSIiLAogICAgY29udGV4dHM9WwoKICAgIF0sCikpCgonJycsIGNpdGF0aW9ucz0nbWVuZGVzMjAwNGEnKTs=\"));\n",
       "    "
      ],
      "text/plain": [
       "<IPython.core.display.Javascript object>"
      ]
     },
     "metadata": {},
     "output_type": "display_data"
    },
    {
     "data": {
      "application/javascript": [
       "$('span:contains(\"# Temp\")').closest('.cell').remove();"
      ],
      "text/plain": [
       "<IPython.core.display.Javascript object>"
      ]
     },
     "metadata": {},
     "output_type": "display_data"
    },
    {
     "data": {
      "application/javascript": [
       "\n",
       "        $('span:contains(\"# Temp\")').closest('.cell').remove();\n",
       "        var code = IPython.notebook.insert_cell_below('code');\n",
       "        code.set_text(atob(\"IyBUZW1wCmluc2VydCgnJycKZmVycnVjY2kyMDEwYSA9IERCKFdvcmsoCiAgICAyMDEwLCAiR2VuZXRpYyBwcm9ncmFtbWluZyBmb3IgZWZmb3J0IGVzdGltYXRpb246IGFuIGFuYWx5c2lzIG9mIHRoZSBpbXBhY3Qgb2YgZGlmZmVyZW50IGZpdG5lc3MgZnVuY3Rpb25zIiwKICAgIGRpc3BsYXk9ImZlcnJ1Y2NpIiwKICAgIGF1dGhvcnM9IkZlcnJ1Y2NpLCBGaWxvbWVuYSBhbmQgR3JhdmlubywgQ2FybWluZSBhbmQgT2xpdmV0bywgUm9jY28gYW5kIFNhcnJvLCBGZWRlcmljYSIsCiAgICBwcD0iODktLTk4IiwKICAgIHBsYWNlMT0iU2VhcmNoIEJhc2VkIFNvZnR3YXJlIEVuZ2luZWVyaW5nIChTU0JTRSksIDIwMTAgU2Vjb25kIEludGVybmF0aW9uYWwgU3ltcG9zaXVtIG9uIiwKICAgIGVudHJ5dHlwZT0iaW5wcm9jZWVkaW5ncyIsCiAgICBvcmdhbml6YXRpb249IklFRUUiLAogICAgSUQ9ImZlcnJ1Y2NpMjAxMGdlbmV0aWMiLAogICAgY2x1c3Rlcl9pZD0iMTgxNDU3NDk4MTAyMTE5MzU0NDAiLAogICAgc2Nob2xhcj0iaHR0cDovL3NjaG9sYXIuZ29vZ2xlLmNvbS9zY2hvbGFyP2NpdGVzPTE4MTQ1NzQ5ODEwMjExOTM1NDQwJmFzX3NkdD0yMDA1JnNjaW9kdD0wLDUmaGw9ZW4iLAopKQoKREIoQ2l0YXRpb24oCiAgICBmZXJydWNjaTIwMTBhLCBtZW5kZXMyMDA0YSwgcmVmPSIiLAogICAgY29udGV4dHM9WwoKICAgIF0sCikpCgonJycsIGNpdGF0aW9ucz0nbWVuZGVzMjAwNGEnKTs=\"));\n",
       "    "
      ],
      "text/plain": [
       "<IPython.core.display.Javascript object>"
      ]
     },
     "metadata": {},
     "output_type": "display_data"
    },
    {
     "data": {
      "application/javascript": [
       "$('span:contains(\"# Temp\")').closest('.cell').remove();"
      ],
      "text/plain": [
       "<IPython.core.display.Javascript object>"
      ]
     },
     "metadata": {},
     "output_type": "display_data"
    },
    {
     "data": {
      "application/javascript": [
       "\n",
       "        $('span:contains(\"# Temp\")').closest('.cell').remove();\n",
       "        var code = IPython.notebook.insert_cell_below('code');\n",
       "        code.set_text(atob(\"IyBUZW1wCmluc2VydCgnJycKZmVycnVjY2kyMDEwYSA9IERCKFdvcmtVbnJlbGF0ZWQoCiAgICAyMDEwLCAiR2VuZXRpYyBwcm9ncmFtbWluZyBmb3IgZWZmb3J0IGVzdGltYXRpb246IGFuIGFuYWx5c2lzIG9mIHRoZSBpbXBhY3Qgb2YgZGlmZmVyZW50IGZpdG5lc3MgZnVuY3Rpb25zIiwKICAgIGRpc3BsYXk9ImZlcnJ1Y2NpIiwKICAgIGF1dGhvcnM9IkZlcnJ1Y2NpLCBGaWxvbWVuYSBhbmQgR3JhdmlubywgQ2FybWluZSBhbmQgT2xpdmV0bywgUm9jY28gYW5kIFNhcnJvLCBGZWRlcmljYSIsCiAgICBwcD0iODktLTk4IiwKICAgIHBsYWNlMT0iU2VhcmNoIEJhc2VkIFNvZnR3YXJlIEVuZ2luZWVyaW5nIChTU0JTRSksIDIwMTAgU2Vjb25kIEludGVybmF0aW9uYWwgU3ltcG9zaXVtIG9uIiwKICAgIGVudHJ5dHlwZT0iaW5wcm9jZWVkaW5ncyIsCiAgICBvcmdhbml6YXRpb249IklFRUUiLAogICAgSUQ9ImZlcnJ1Y2NpMjAxMGdlbmV0aWMiLAogICAgY2x1c3Rlcl9pZD0iMTgxNDU3NDk4MTAyMTE5MzU0NDAiLAogICAgc2Nob2xhcj0iaHR0cDovL3NjaG9sYXIuZ29vZ2xlLmNvbS9zY2hvbGFyP2NpdGVzPTE4MTQ1NzQ5ODEwMjExOTM1NDQwJmFzX3NkdD0yMDA1JnNjaW9kdD0wLDUmaGw9ZW4iLAopKQoKREIoQ2l0YXRpb24oCiAgICBmZXJydWNjaTIwMTBhLCBtZW5kZXMyMDA0YSwgcmVmPSIiLAogICAgY29udGV4dHM9WwoKICAgIF0sCikpCgonJycsIGNpdGF0aW9ucz0nbWVuZGVzMjAwNGEnKTs=\"));\n",
       "    "
      ],
      "text/plain": [
       "<IPython.core.display.Javascript object>"
      ]
     },
     "metadata": {},
     "output_type": "display_data"
    },
    {
     "data": {
      "application/javascript": [
       "$('span:contains(\"# Temp\")').closest('.cell').remove();"
      ],
      "text/plain": [
       "<IPython.core.display.Javascript object>"
      ]
     },
     "metadata": {},
     "output_type": "display_data"
    },
    {
     "data": {
      "application/javascript": [
       "\n",
       "        $('span:contains(\"# Temp\")').closest('.cell').remove();\n",
       "        var code = IPython.notebook.insert_cell_below('code');\n",
       "        code.set_text(atob(\"IyBUZW1wCmluc2VydCgnJycKbWVuZGVzMjAwN2MgPSBEQihXb3JrVW5yZWxhdGVkKAogICAgMjAwNywgIlByZWRpY3RpbmcgV2ViIERldmVsb3BtZW50IEVmZm9ydCBVc2luZyBhIEJheWVzaWFuIE5ldHdvcmsuIiwKICAgIGRpc3BsYXk9Im1lbmRlcyBjIiwKICAgIGF1dGhvcnM9Ik1lbmRlcywgRW1pbGlhIiwKICAgIHBsYWNlPUVBU0UsCiAgICBlbnRyeXR5cGU9ImlucHJvY2VlZGluZ3MiLAogICAgSUQ9Im1lbmRlczIwMDdwcmVkaWN0aW5nIiwKICAgIGNsdXN0ZXJfaWQ9IjEyNTE3OTE0MTAwNzUyMDQyNDY4IiwKICAgIHNjaG9sYXI9Imh0dHA6Ly9zY2hvbGFyLmdvb2dsZS5jb20vc2Nob2xhcj9jaXRlcz0xMjUxNzkxNDEwMDc1MjA0MjQ2OCZhc19zZHQ9MjAwNSZzY2lvZHQ9MCw1JmhsPWVuIiwKKSkKCkRCKENpdGF0aW9uKAogICAgbWVuZGVzMjAwN2MsIG1lbmRlczIwMDRhLCByZWY9IiIsCiAgICBjb250ZXh0cz1bCgogICAgXSwKKSkKCicnJywgY2l0YXRpb25zPSdtZW5kZXMyMDA0YScpOw==\"));\n",
       "    "
      ],
      "text/plain": [
       "<IPython.core.display.Javascript object>"
      ]
     },
     "metadata": {},
     "output_type": "display_data"
    },
    {
     "data": {
      "application/javascript": [
       "$('span:contains(\"# Temp\")').closest('.cell').remove();"
      ],
      "text/plain": [
       "<IPython.core.display.Javascript object>"
      ]
     },
     "metadata": {},
     "output_type": "display_data"
    },
    {
     "data": {
      "application/javascript": [
       "\n",
       "        $('span:contains(\"# Temp\")').closest('.cell').remove();\n",
       "        var code = IPython.notebook.insert_cell_below('code');\n",
       "        code.set_text(atob(\"IyBUZW1wCmluc2VydCgnJycKbWVuZGVzMjAwN2MgPSBEQihXb3JrKAogICAgMjAwNywgIlByZWRpY3RpbmcgV2ViIERldmVsb3BtZW50IEVmZm9ydCBVc2luZyBhIEJheWVzaWFuIE5ldHdvcmsuIiwKICAgIGRpc3BsYXk9Im1lbmRlcyBjIiwKICAgIGF1dGhvcnM9Ik1lbmRlcywgRW1pbGlhIiwKICAgIHBsYWNlPUVBU0UsCiAgICBlbnRyeXR5cGU9ImlucHJvY2VlZGluZ3MiLAogICAgSUQ9Im1lbmRlczIwMDdwcmVkaWN0aW5nIiwKICAgIGNsdXN0ZXJfaWQ9IjEyNTE3OTE0MTAwNzUyMDQyNDY4IiwKICAgIHNjaG9sYXI9Imh0dHA6Ly9zY2hvbGFyLmdvb2dsZS5jb20vc2Nob2xhcj9jaXRlcz0xMjUxNzkxNDEwMDc1MjA0MjQ2OCZhc19zZHQ9MjAwNSZzY2lvZHQ9MCw1JmhsPWVuIiwKKSkKCkRCKENpdGF0aW9uKAogICAgbWVuZGVzMjAwN2MsIG1lbmRlczIwMDRhLCByZWY9IiIsCiAgICBjb250ZXh0cz1bCgogICAgXSwKKSkKCicnJywgY2l0YXRpb25zPSdtZW5kZXMyMDA0YScpOw==\"));\n",
       "    "
      ],
      "text/plain": [
       "<IPython.core.display.Javascript object>"
      ]
     },
     "metadata": {},
     "output_type": "display_data"
    },
    {
     "data": {
      "application/javascript": [
       "$('span:contains(\"# Temp\")').closest('.cell').remove();"
      ],
      "text/plain": [
       "<IPython.core.display.Javascript object>"
      ]
     },
     "metadata": {},
     "output_type": "display_data"
    },
    {
     "data": {
      "application/javascript": [
       "\n",
       "        $('span:contains(\"# Temp\")').closest('.cell').remove();\n",
       "        var code = IPython.notebook.insert_cell_below('code');\n",
       "        code.set_text(atob(\"IyBUZW1wCmluc2VydCgnJycKbWVuZGVzMjAwN2MgPSBEQihXb3JrVW5yZWxhdGVkKAogICAgMjAwNywgIlByZWRpY3RpbmcgV2ViIERldmVsb3BtZW50IEVmZm9ydCBVc2luZyBhIEJheWVzaWFuIE5ldHdvcmsuIiwKICAgIGRpc3BsYXk9Im1lbmRlcyBjIiwKICAgIGF1dGhvcnM9Ik1lbmRlcywgRW1pbGlhIiwKICAgIHBsYWNlPUVBU0UsCiAgICBlbnRyeXR5cGU9ImlucHJvY2VlZGluZ3MiLAogICAgSUQ9Im1lbmRlczIwMDdwcmVkaWN0aW5nIiwKICAgIGNsdXN0ZXJfaWQ9IjEyNTE3OTE0MTAwNzUyMDQyNDY4IiwKICAgIHNjaG9sYXI9Imh0dHA6Ly9zY2hvbGFyLmdvb2dsZS5jb20vc2Nob2xhcj9jaXRlcz0xMjUxNzkxNDEwMDc1MjA0MjQ2OCZhc19zZHQ9MjAwNSZzY2lvZHQ9MCw1JmhsPWVuIiwKKSkKCkRCKENpdGF0aW9uKAogICAgbWVuZGVzMjAwN2MsIG1lbmRlczIwMDRhLCByZWY9IiIsCiAgICBjb250ZXh0cz1bCgogICAgXSwKKSkKCicnJywgY2l0YXRpb25zPSdtZW5kZXMyMDA0YScpOw==\"));\n",
       "    "
      ],
      "text/plain": [
       "<IPython.core.display.Javascript object>"
      ]
     },
     "metadata": {},
     "output_type": "display_data"
    },
    {
     "data": {
      "application/javascript": [
       "$('span:contains(\"# Temp\")').closest('.cell').remove();"
      ],
      "text/plain": [
       "<IPython.core.display.Javascript object>"
      ]
     },
     "metadata": {},
     "output_type": "display_data"
    },
    {
     "data": {
      "application/javascript": [
       "\n",
       "        $('span:contains(\"# Temp\")').closest('.cell').remove();\n",
       "        var code = IPython.notebook.insert_cell_below('code');\n",
       "        code.set_text(atob(\"IyBUZW1wCmluc2VydCgnJycKYWwyMDA2YSA9IERCKFdvcmtVbnJlbGF0ZWQoCiAgICAyMDA2LCAiU29mdHdhcmUgY29zdCBlc3RpbWF0aW9uIG1vZGVsIGJhc2VkIG9uIGludGVncmF0aW9uIG9mIG11bHRpLWFnZW50IGFuZCBjYXNlLWJhc2VkIHJlYXNvbmluZyIsCiAgICBkaXNwbGF5PSJhbCIsCiAgICBhdXRob3JzPSJBbC1TYWtyYW4sIEhhc2FuIiwKICAgIHBwPSIyNzYtLTI4MiIsCiAgICBwbGFjZTE9IkpvdXJuYWwgb2YgQ29tcHV0ZXIgU2NpZW5jZSIsCiAgICBlbnRyeXR5cGU9ImFydGljbGUiLAogICAgdm9sdW1lPSIyIiwKICAgIG51bWJlcj0iMyIsCiAgICBJRD0iYWwyMDA2c29mdHdhcmUiLAogICAgY2x1c3Rlcl9pZD0iNzExNzc0NTg3NDM1NTgyOTg3NiIsCiAgICBzY2hvbGFyPSJodHRwOi8vc2Nob2xhci5nb29nbGUuY29tL3NjaG9sYXI/Y2l0ZXM9NzExNzc0NTg3NDM1NTgyOTg3NiZhc19zZHQ9MjAwNSZzY2lvZHQ9MCw1JmhsPWVuIiwKKSkKCkRCKENpdGF0aW9uKAogICAgYWwyMDA2YSwgbWVuZGVzMjAwNGEsIHJlZj0iIiwKICAgIGNvbnRleHRzPVsKCiAgICBdLAopKQoKJycnLCBjaXRhdGlvbnM9J21lbmRlczIwMDRhJyk7\"));\n",
       "    "
      ],
      "text/plain": [
       "<IPython.core.display.Javascript object>"
      ]
     },
     "metadata": {},
     "output_type": "display_data"
    },
    {
     "data": {
      "application/javascript": [
       "$('span:contains(\"# Temp\")').closest('.cell').remove();"
      ],
      "text/plain": [
       "<IPython.core.display.Javascript object>"
      ]
     },
     "metadata": {},
     "output_type": "display_data"
    },
    {
     "data": {
      "application/javascript": [
       "\n",
       "        $('span:contains(\"# Temp\")').closest('.cell').remove();\n",
       "        var code = IPython.notebook.insert_cell_below('code');\n",
       "        code.set_text(atob(\"IyBUZW1wCmluc2VydCgnJycKYWwyMDA2YSA9IERCKFdvcmsoCiAgICAyMDA2LCAiU29mdHdhcmUgY29zdCBlc3RpbWF0aW9uIG1vZGVsIGJhc2VkIG9uIGludGVncmF0aW9uIG9mIG11bHRpLWFnZW50IGFuZCBjYXNlLWJhc2VkIHJlYXNvbmluZyIsCiAgICBkaXNwbGF5PSJhbCIsCiAgICBhdXRob3JzPSJBbC1TYWtyYW4sIEhhc2FuIiwKICAgIHBwPSIyNzYtLTI4MiIsCiAgICBwbGFjZTE9IkpvdXJuYWwgb2YgQ29tcHV0ZXIgU2NpZW5jZSIsCiAgICBlbnRyeXR5cGU9ImFydGljbGUiLAogICAgdm9sdW1lPSIyIiwKICAgIG51bWJlcj0iMyIsCiAgICBJRD0iYWwyMDA2c29mdHdhcmUiLAogICAgY2x1c3Rlcl9pZD0iNzExNzc0NTg3NDM1NTgyOTg3NiIsCiAgICBzY2hvbGFyPSJodHRwOi8vc2Nob2xhci5nb29nbGUuY29tL3NjaG9sYXI/Y2l0ZXM9NzExNzc0NTg3NDM1NTgyOTg3NiZhc19zZHQ9MjAwNSZzY2lvZHQ9MCw1JmhsPWVuIiwKKSkKCkRCKENpdGF0aW9uKAogICAgYWwyMDA2YSwgbWVuZGVzMjAwNGEsIHJlZj0iIiwKICAgIGNvbnRleHRzPVsKCiAgICBdLAopKQoKJycnLCBjaXRhdGlvbnM9J21lbmRlczIwMDRhJyk7\"));\n",
       "    "
      ],
      "text/plain": [
       "<IPython.core.display.Javascript object>"
      ]
     },
     "metadata": {},
     "output_type": "display_data"
    },
    {
     "data": {
      "application/javascript": [
       "$('span:contains(\"# Temp\")').closest('.cell').remove();"
      ],
      "text/plain": [
       "<IPython.core.display.Javascript object>"
      ]
     },
     "metadata": {},
     "output_type": "display_data"
    },
    {
     "data": {
      "application/javascript": [
       "\n",
       "        $('span:contains(\"# Temp\")').closest('.cell').remove();\n",
       "        var code = IPython.notebook.insert_cell_below('code');\n",
       "        code.set_text(atob(\"IyBUZW1wCmluc2VydCgnJycKYWwyMDA2YSA9IERCKFdvcmtVbnJlbGF0ZWQoCiAgICAyMDA2LCAiU29mdHdhcmUgY29zdCBlc3RpbWF0aW9uIG1vZGVsIGJhc2VkIG9uIGludGVncmF0aW9uIG9mIG11bHRpLWFnZW50IGFuZCBjYXNlLWJhc2VkIHJlYXNvbmluZyIsCiAgICBkaXNwbGF5PSJhbCIsCiAgICBhdXRob3JzPSJBbC1TYWtyYW4sIEhhc2FuIiwKICAgIHBwPSIyNzYtLTI4MiIsCiAgICBwbGFjZTE9IkpvdXJuYWwgb2YgQ29tcHV0ZXIgU2NpZW5jZSIsCiAgICBlbnRyeXR5cGU9ImFydGljbGUiLAogICAgdm9sdW1lPSIyIiwKICAgIG51bWJlcj0iMyIsCiAgICBJRD0iYWwyMDA2c29mdHdhcmUiLAogICAgY2x1c3Rlcl9pZD0iNzExNzc0NTg3NDM1NTgyOTg3NiIsCiAgICBzY2hvbGFyPSJodHRwOi8vc2Nob2xhci5nb29nbGUuY29tL3NjaG9sYXI/Y2l0ZXM9NzExNzc0NTg3NDM1NTgyOTg3NiZhc19zZHQ9MjAwNSZzY2lvZHQ9MCw1JmhsPWVuIiwKKSkKCkRCKENpdGF0aW9uKAogICAgYWwyMDA2YSwgbWVuZGVzMjAwNGEsIHJlZj0iIiwKICAgIGNvbnRleHRzPVsKCiAgICBdLAopKQoKJycnLCBjaXRhdGlvbnM9J21lbmRlczIwMDRhJyk7\"));\n",
       "    "
      ],
      "text/plain": [
       "<IPython.core.display.Javascript object>"
      ]
     },
     "metadata": {},
     "output_type": "display_data"
    },
    {
     "data": {
      "application/javascript": [
       "$('span:contains(\"# Temp\")').closest('.cell').remove();"
      ],
      "text/plain": [
       "<IPython.core.display.Javascript object>"
      ]
     },
     "metadata": {},
     "output_type": "display_data"
    },
    {
     "data": {
      "application/javascript": [
       "\n",
       "        $('span:contains(\"# Temp\")').closest('.cell').remove();\n",
       "        var code = IPython.notebook.insert_cell_below('code');\n",
       "        code.set_text(atob(\"IyBUZW1wCmluc2VydCgnJycKYWwyMDA2YSA9IERCKFdvcmtVbnJlbGF0ZWQoCiAgICAyMDA2LCAiU29mdHdhcmUgY29zdCBlc3RpbWF0aW9uIG1vZGVsIGJhc2VkIG9uIGludGVncmF0aW9uIG9mIG11bHRpLWFnZW50IGFuZCBjYXNlLWJhc2VkIHJlYXNvbmluZyIsCiAgICBkaXNwbGF5PSJhbCIsCiAgICBhdXRob3JzPSJBbC1TYWtyYW4sIEhhc2FuIiwKICAgIHBsYWNlPUpDUywKICAgIHBwPSIyNzYtLTI4MiIsCiAgICBlbnRyeXR5cGU9ImFydGljbGUiLAogICAgdm9sdW1lPSIyIiwKICAgIG51bWJlcj0iMyIsCiAgICBJRD0iYWwyMDA2c29mdHdhcmUiLAogICAgY2x1c3Rlcl9pZD0iNzExNzc0NTg3NDM1NTgyOTg3NiIsCiAgICBzY2hvbGFyPSJodHRwOi8vc2Nob2xhci5nb29nbGUuY29tL3NjaG9sYXI/Y2l0ZXM9NzExNzc0NTg3NDM1NTgyOTg3NiZhc19zZHQ9MjAwNSZzY2lvZHQ9MCw1JmhsPWVuIiwKKSkKCkRCKENpdGF0aW9uKAogICAgYWwyMDA2YSwgbWVuZGVzMjAwNGEsIHJlZj0iIiwKICAgIGNvbnRleHRzPVsKCiAgICBdLAopKQoKJycnLCBjaXRhdGlvbnM9J21lbmRlczIwMDRhJyk7\"));\n",
       "    "
      ],
      "text/plain": [
       "<IPython.core.display.Javascript object>"
      ]
     },
     "metadata": {},
     "output_type": "display_data"
    },
    {
     "data": {
      "application/javascript": [
       "$('span:contains(\"# Temp\")').closest('.cell').remove();"
      ],
      "text/plain": [
       "<IPython.core.display.Javascript object>"
      ]
     },
     "metadata": {},
     "output_type": "display_data"
    },
    {
     "data": {
      "application/javascript": [
       "\n",
       "        $('span:contains(\"# Temp\")').closest('.cell').remove();\n",
       "        var code = IPython.notebook.insert_cell_below('code');\n",
       "        code.set_text(atob(\"IyBUZW1wCmluc2VydCgnJycKREIoQ2l0YXRpb24oCiAgICBtZW5kZXMyMDA3YSwgbWVuZGVzMjAwNGEsIHJlZj0iIiwKICAgIGNvbnRleHRzPVsKCiAgICBdLAopKQoKJycnLCBjaXRhdGlvbnM9J21lbmRlczIwMDRhJyk7CnNldF9hdHRyaWJ1dGUoJ21lbmRlczIwMDdhJywgJ2V4Y2VycHQnLCAnQWJzdHJhY3QgUHJldmlvdXMgc3R1ZGllcyBjb21wYXJpbmcgdGhlIHByZWRpY3Rpb24gYWNjdXJhY3kgb2YgZWZmb3J0IG1vZGVscyBidWlsdCB1c2luZyBXZWIgY3Jvc3MtYW5kIHNpbmdsZS1jb21wYW55IGRhdGEgc2V0cyBoYXZlIGJlZW4gaW5jb25jbHVzaXZlLCBhbmQgYXMgc3VjaCByZXBsaWNhdGVkIHN0dWRpZXMgYXJlIG5lY2Vzc2FyeSB0byBkZXRlcm1pbmUgdW5kZXIgd2hhdCBjaXJjdW1zdGFuY2VzIGEgY29tcGFueSBjYW4gcGxhY2UgcmVsaWFuY2Ugb24gYSAnKTs=\"));\n",
       "    "
      ],
      "text/plain": [
       "<IPython.core.display.Javascript object>"
      ]
     },
     "metadata": {},
     "output_type": "display_data"
    },
    {
     "data": {
      "application/javascript": [
       "$('span:contains(\"# Temp\")').closest('.cell').remove();"
      ],
      "text/plain": [
       "<IPython.core.display.Javascript object>"
      ]
     },
     "metadata": {},
     "output_type": "display_data"
    },
    {
     "data": {
      "application/javascript": [
       "\n",
       "        $('span:contains(\"# Temp\")').closest('.cell').remove();\n",
       "        var code = IPython.notebook.insert_cell_below('code');\n",
       "        code.set_text(atob(\"IyBUZW1wCmluc2VydCgnJycKREIoQ2l0YXRpb24oCiAgICBtZW5kZXMyMDA3YSwgbWVuZGVzMjAwNGEsIHJlZj0iIiwKICAgIGNvbnRleHRzPVsKCiAgICBdLAopKQoKJycnLCBjaXRhdGlvbnM9J21lbmRlczIwMDRhJyk7CnNldF9hdHRyaWJ1dGUoJ21lbmRlczIwMDdhJywgJ2V4Y2VycHQnLCAnQWJzdHJhY3QgUHJldmlvdXMgc3R1ZGllcyBjb21wYXJpbmcgdGhlIHByZWRpY3Rpb24gYWNjdXJhY3kgb2YgZWZmb3J0IG1vZGVscyBidWlsdCB1c2luZyBXZWIgY3Jvc3MtYW5kIHNpbmdsZS1jb21wYW55IGRhdGEgc2V0cyBoYXZlIGJlZW4gaW5jb25jbHVzaXZlLCBhbmQgYXMgc3VjaCByZXBsaWNhdGVkIHN0dWRpZXMgYXJlIG5lY2Vzc2FyeSB0byBkZXRlcm1pbmUgdW5kZXIgd2hhdCBjaXJjdW1zdGFuY2VzIGEgY29tcGFueSBjYW4gcGxhY2UgcmVsaWFuY2Ugb24gYSAnKTs=\"));\n",
       "    "
      ],
      "text/plain": [
       "<IPython.core.display.Javascript object>"
      ]
     },
     "metadata": {},
     "output_type": "display_data"
    },
    {
     "data": {
      "application/javascript": [
       "$('span:contains(\"# Temp\")').closest('.cell').remove();"
      ],
      "text/plain": [
       "<IPython.core.display.Javascript object>"
      ]
     },
     "metadata": {},
     "output_type": "display_data"
    },
    {
     "data": {
      "application/javascript": [
       "\n",
       "        $('span:contains(\"# Temp\")').closest('.cell').remove();\n",
       "        var code = IPython.notebook.insert_cell_below('code');\n",
       "        code.set_text(atob(\"IyBUZW1wCmluc2VydCgnJycKREIoQ2l0YXRpb24oCiAgICBtZW5kZXMyMDA3YSwgbWVuZGVzMjAwNGEsIHJlZj0iIiwKICAgIGNvbnRleHRzPVsKCiAgICBdLAopKQoKJycnLCBjaXRhdGlvbnM9J21lbmRlczIwMDRhJyk7CnNldF9hdHRyaWJ1dGUoJ21lbmRlczIwMDdhJywgJ2V4Y2VycHQnLCAnQWJzdHJhY3QgUHJldmlvdXMgc3R1ZGllcyBjb21wYXJpbmcgdGhlIHByZWRpY3Rpb24gYWNjdXJhY3kgb2YgZWZmb3J0IG1vZGVscyBidWlsdCB1c2luZyBXZWIgY3Jvc3MtYW5kIHNpbmdsZS1jb21wYW55IGRhdGEgc2V0cyBoYXZlIGJlZW4gaW5jb25jbHVzaXZlLCBhbmQgYXMgc3VjaCByZXBsaWNhdGVkIHN0dWRpZXMgYXJlIG5lY2Vzc2FyeSB0byBkZXRlcm1pbmUgdW5kZXIgd2hhdCBjaXJjdW1zdGFuY2VzIGEgY29tcGFueSBjYW4gcGxhY2UgcmVsaWFuY2Ugb24gYSAnKTs=\"));\n",
       "    "
      ],
      "text/plain": [
       "<IPython.core.display.Javascript object>"
      ]
     },
     "metadata": {},
     "output_type": "display_data"
    },
    {
     "data": {
      "application/javascript": [
       "$('span:contains(\"# Temp\")').closest('.cell').remove();"
      ],
      "text/plain": [
       "<IPython.core.display.Javascript object>"
      ]
     },
     "metadata": {},
     "output_type": "display_data"
    },
    {
     "data": {
      "application/javascript": [
       "\n",
       "        $('span:contains(\"# Temp\")').closest('.cell').remove();\n",
       "        var code = IPython.notebook.insert_cell_below('code');\n",
       "        code.set_text(atob(\"IyBUZW1wCmluc2VydCgnJycKbWFydGlubzIwMDdhID0gREIoV29ya1VucmVsYXRlZCgKICAgIDIwMDcsICJDb21wYXJpbmcgc2l6ZSBtZWFzdXJlcyBmb3IgcHJlZGljdGluZyB3ZWIgYXBwbGljYXRpb24gZGV2ZWxvcG1lbnQgZWZmb3J0OiBhIGNhc2Ugc3R1ZHkiLAogICAgZGlzcGxheT0ibWFydGlubyIsCiAgICBhdXRob3JzPSJEaSBNYXJ0aW5vLCBTZXJnaW8gYW5kIEZlcnJ1Y2NpLCBGaWxvbWVuYSBhbmQgR3JhdmlubywgQ2FybWluZSBhbmQgTWVuZGVzLCBFbWlsaWEiLAogICAgcGxhY2U9RVNFTSwKICAgIHBwPSIzMjQtLTMzMyIsCiAgICBlbnRyeXR5cGU9ImlucHJvY2VlZGluZ3MiLAogICAgb3JnYW5pemF0aW9uPSJJRUVFIiwKICAgIElEPSJkaTIwMDdjb21wYXJpbmciLAogICAgY2x1c3Rlcl9pZD0iMTEzNTI4NzY0OTQ2MDk3ODM3MDMiLAogICAgc2Nob2xhcj0iaHR0cDovL3NjaG9sYXIuZ29vZ2xlLmNvbS9zY2hvbGFyP2NpdGVzPTExMzUyODc2NDk0NjA5NzgzNzAzJmFzX3NkdD0yMDA1JnNjaW9kdD0wLDUmaGw9ZW4iLAopKQoKREIoQ2l0YXRpb24oCiAgICBtYXJ0aW5vMjAwN2EsIG1lbmRlczIwMDRhLCByZWY9IiIsCiAgICBjb250ZXh0cz1bCgogICAgXSwKKSkKCicnJywgY2l0YXRpb25zPSdtZW5kZXMyMDA0YScpOw==\"));\n",
       "    "
      ],
      "text/plain": [
       "<IPython.core.display.Javascript object>"
      ]
     },
     "metadata": {},
     "output_type": "display_data"
    },
    {
     "data": {
      "application/javascript": [
       "$('span:contains(\"# Temp\")').closest('.cell').remove();"
      ],
      "text/plain": [
       "<IPython.core.display.Javascript object>"
      ]
     },
     "metadata": {},
     "output_type": "display_data"
    },
    {
     "data": {
      "application/javascript": [
       "\n",
       "        $('span:contains(\"# Temp\")').closest('.cell').remove();\n",
       "        var code = IPython.notebook.insert_cell_below('code');\n",
       "        code.set_text(atob(\"IyBUZW1wCmluc2VydCgnJycKbWFydGlubzIwMDdhID0gREIoV29yaygKICAgIDIwMDcsICJDb21wYXJpbmcgc2l6ZSBtZWFzdXJlcyBmb3IgcHJlZGljdGluZyB3ZWIgYXBwbGljYXRpb24gZGV2ZWxvcG1lbnQgZWZmb3J0OiBhIGNhc2Ugc3R1ZHkiLAogICAgZGlzcGxheT0ibWFydGlubyIsCiAgICBhdXRob3JzPSJEaSBNYXJ0aW5vLCBTZXJnaW8gYW5kIEZlcnJ1Y2NpLCBGaWxvbWVuYSBhbmQgR3JhdmlubywgQ2FybWluZSBhbmQgTWVuZGVzLCBFbWlsaWEiLAogICAgcGxhY2U9RVNFTSwKICAgIHBwPSIzMjQtLTMzMyIsCiAgICBlbnRyeXR5cGU9ImlucHJvY2VlZGluZ3MiLAogICAgb3JnYW5pemF0aW9uPSJJRUVFIiwKICAgIElEPSJkaTIwMDdjb21wYXJpbmciLAogICAgY2x1c3Rlcl9pZD0iMTEzNTI4NzY0OTQ2MDk3ODM3MDMiLAogICAgc2Nob2xhcj0iaHR0cDovL3NjaG9sYXIuZ29vZ2xlLmNvbS9zY2hvbGFyP2NpdGVzPTExMzUyODc2NDk0NjA5NzgzNzAzJmFzX3NkdD0yMDA1JnNjaW9kdD0wLDUmaGw9ZW4iLAopKQoKREIoQ2l0YXRpb24oCiAgICBtYXJ0aW5vMjAwN2EsIG1lbmRlczIwMDRhLCByZWY9IiIsCiAgICBjb250ZXh0cz1bCgogICAgXSwKKSkKCicnJywgY2l0YXRpb25zPSdtZW5kZXMyMDA0YScpOw==\"));\n",
       "    "
      ],
      "text/plain": [
       "<IPython.core.display.Javascript object>"
      ]
     },
     "metadata": {},
     "output_type": "display_data"
    },
    {
     "data": {
      "application/javascript": [
       "$('span:contains(\"# Temp\")').closest('.cell').remove();"
      ],
      "text/plain": [
       "<IPython.core.display.Javascript object>"
      ]
     },
     "metadata": {},
     "output_type": "display_data"
    },
    {
     "data": {
      "application/javascript": [
       "\n",
       "        $('span:contains(\"# Temp\")').closest('.cell').remove();\n",
       "        var code = IPython.notebook.insert_cell_below('code');\n",
       "        code.set_text(atob(\"IyBUZW1wCmluc2VydCgnJycKbWFydGlubzIwMDdhID0gREIoV29ya1VucmVsYXRlZCgKICAgIDIwMDcsICJDb21wYXJpbmcgc2l6ZSBtZWFzdXJlcyBmb3IgcHJlZGljdGluZyB3ZWIgYXBwbGljYXRpb24gZGV2ZWxvcG1lbnQgZWZmb3J0OiBhIGNhc2Ugc3R1ZHkiLAogICAgZGlzcGxheT0ibWFydGlubyIsCiAgICBhdXRob3JzPSJEaSBNYXJ0aW5vLCBTZXJnaW8gYW5kIEZlcnJ1Y2NpLCBGaWxvbWVuYSBhbmQgR3JhdmlubywgQ2FybWluZSBhbmQgTWVuZGVzLCBFbWlsaWEiLAogICAgcGxhY2U9RVNFTSwKICAgIHBwPSIzMjQtLTMzMyIsCiAgICBlbnRyeXR5cGU9ImlucHJvY2VlZGluZ3MiLAogICAgb3JnYW5pemF0aW9uPSJJRUVFIiwKICAgIElEPSJkaTIwMDdjb21wYXJpbmciLAogICAgY2x1c3Rlcl9pZD0iMTEzNTI4NzY0OTQ2MDk3ODM3MDMiLAogICAgc2Nob2xhcj0iaHR0cDovL3NjaG9sYXIuZ29vZ2xlLmNvbS9zY2hvbGFyP2NpdGVzPTExMzUyODc2NDk0NjA5NzgzNzAzJmFzX3NkdD0yMDA1JnNjaW9kdD0wLDUmaGw9ZW4iLAopKQoKREIoQ2l0YXRpb24oCiAgICBtYXJ0aW5vMjAwN2EsIG1lbmRlczIwMDRhLCByZWY9IiIsCiAgICBjb250ZXh0cz1bCgogICAgXSwKKSkKCicnJywgY2l0YXRpb25zPSdtZW5kZXMyMDA0YScpOw==\"));\n",
       "    "
      ],
      "text/plain": [
       "<IPython.core.display.Javascript object>"
      ]
     },
     "metadata": {},
     "output_type": "display_data"
    },
    {
     "data": {
      "application/javascript": [
       "$('span:contains(\"# Temp\")').closest('.cell').remove();"
      ],
      "text/plain": [
       "<IPython.core.display.Javascript object>"
      ]
     },
     "metadata": {},
     "output_type": "display_data"
    },
    {
     "data": {
      "application/javascript": [
       "\n",
       "        $('span:contains(\"# Temp\")').closest('.cell').remove();\n",
       "        var code = IPython.notebook.insert_cell_below('code');\n",
       "        code.set_text(atob(\"IyBUZW1wCmluc2VydCgnJycKbWVuZGVzMjAwN2QgPSBEQihXb3JrVW5yZWxhdGVkKAogICAgMjAwNywgIlRoZSB1c2Ugb2YgYSBCYXllc2lhbiBuZXR3b3JrIGZvciB3ZWIgZWZmb3J0IGVzdGltYXRpb24iLAogICAgZGlzcGxheT0ibWVuZGVzIGQiLAogICAgYXV0aG9ycz0iTWVuZGVzLCBFbWlsaWEiLAogICAgcGxhY2U9V0UsCiAgICBwcD0iOTAtLTEwNCIsCiAgICBlbnRyeXR5cGU9ImFydGljbGUiLAogICAgcHVibGlzaGVyPSJTcHJpbmdlciIsCiAgICBJRD0ibWVuZGVzMjAwN3VzZSIsCiAgICBjbHVzdGVyX2lkPSI1NjA2NjgzMjA0MjQ3OTM3NzEzIiwKICAgIHNjaG9sYXI9Imh0dHA6Ly9zY2hvbGFyLmdvb2dsZS5jb20vc2Nob2xhcj9jaXRlcz01NjA2NjgzMjA0MjQ3OTM3NzEzJmFzX3NkdD0yMDA1JnNjaW9kdD0wLDUmaGw9ZW4iLAopKQoKREIoQ2l0YXRpb24oCiAgICBtZW5kZXMyMDA3ZCwgbWVuZGVzMjAwNGEsIHJlZj0iIiwKICAgIGNvbnRleHRzPVsKCiAgICBdLAopKQoKJycnLCBjaXRhdGlvbnM9J21lbmRlczIwMDRhJyk7\"));\n",
       "    "
      ],
      "text/plain": [
       "<IPython.core.display.Javascript object>"
      ]
     },
     "metadata": {},
     "output_type": "display_data"
    },
    {
     "data": {
      "application/javascript": [
       "$('span:contains(\"# Temp\")').closest('.cell').remove();"
      ],
      "text/plain": [
       "<IPython.core.display.Javascript object>"
      ]
     },
     "metadata": {},
     "output_type": "display_data"
    },
    {
     "data": {
      "application/javascript": [
       "\n",
       "        $('span:contains(\"# Temp\")').closest('.cell').remove();\n",
       "        var code = IPython.notebook.insert_cell_below('code');\n",
       "        code.set_text(atob(\"IyBUZW1wCmluc2VydCgnJycKbWVuZGVzMjAwN2QgPSBEQihXb3JrKAogICAgMjAwNywgIlRoZSB1c2Ugb2YgYSBCYXllc2lhbiBuZXR3b3JrIGZvciB3ZWIgZWZmb3J0IGVzdGltYXRpb24iLAogICAgZGlzcGxheT0ibWVuZGVzIGQiLAogICAgYXV0aG9ycz0iTWVuZGVzLCBFbWlsaWEiLAogICAgcGxhY2U9V0UsCiAgICBwcD0iOTAtLTEwNCIsCiAgICBlbnRyeXR5cGU9ImFydGljbGUiLAogICAgcHVibGlzaGVyPSJTcHJpbmdlciIsCiAgICBJRD0ibWVuZGVzMjAwN3VzZSIsCiAgICBjbHVzdGVyX2lkPSI1NjA2NjgzMjA0MjQ3OTM3NzEzIiwKICAgIHNjaG9sYXI9Imh0dHA6Ly9zY2hvbGFyLmdvb2dsZS5jb20vc2Nob2xhcj9jaXRlcz01NjA2NjgzMjA0MjQ3OTM3NzEzJmFzX3NkdD0yMDA1JnNjaW9kdD0wLDUmaGw9ZW4iLAopKQoKREIoQ2l0YXRpb24oCiAgICBtZW5kZXMyMDA3ZCwgbWVuZGVzMjAwNGEsIHJlZj0iIiwKICAgIGNvbnRleHRzPVsKCiAgICBdLAopKQoKJycnLCBjaXRhdGlvbnM9J21lbmRlczIwMDRhJyk7\"));\n",
       "    "
      ],
      "text/plain": [
       "<IPython.core.display.Javascript object>"
      ]
     },
     "metadata": {},
     "output_type": "display_data"
    },
    {
     "data": {
      "application/javascript": [
       "$('span:contains(\"# Temp\")').closest('.cell').remove();"
      ],
      "text/plain": [
       "<IPython.core.display.Javascript object>"
      ]
     },
     "metadata": {},
     "output_type": "display_data"
    },
    {
     "data": {
      "application/javascript": [
       "\n",
       "        $('span:contains(\"# Temp\")').closest('.cell').remove();\n",
       "        var code = IPython.notebook.insert_cell_below('code');\n",
       "        code.set_text(atob(\"IyBUZW1wCmluc2VydCgnJycKbWVuZGVzMjAwN2QgPSBEQihXb3JrVW5yZWxhdGVkKAogICAgMjAwNywgIlRoZSB1c2Ugb2YgYSBCYXllc2lhbiBuZXR3b3JrIGZvciB3ZWIgZWZmb3J0IGVzdGltYXRpb24iLAogICAgZGlzcGxheT0ibWVuZGVzIGQiLAogICAgYXV0aG9ycz0iTWVuZGVzLCBFbWlsaWEiLAogICAgcGxhY2U9V0UsCiAgICBwcD0iOTAtLTEwNCIsCiAgICBlbnRyeXR5cGU9ImFydGljbGUiLAogICAgcHVibGlzaGVyPSJTcHJpbmdlciIsCiAgICBJRD0ibWVuZGVzMjAwN3VzZSIsCiAgICBjbHVzdGVyX2lkPSI1NjA2NjgzMjA0MjQ3OTM3NzEzIiwKICAgIHNjaG9sYXI9Imh0dHA6Ly9zY2hvbGFyLmdvb2dsZS5jb20vc2Nob2xhcj9jaXRlcz01NjA2NjgzMjA0MjQ3OTM3NzEzJmFzX3NkdD0yMDA1JnNjaW9kdD0wLDUmaGw9ZW4iLAopKQoKREIoQ2l0YXRpb24oCiAgICBtZW5kZXMyMDA3ZCwgbWVuZGVzMjAwNGEsIHJlZj0iIiwKICAgIGNvbnRleHRzPVsKCiAgICBdLAopKQoKJycnLCBjaXRhdGlvbnM9J21lbmRlczIwMDRhJyk7\"));\n",
       "    "
      ],
      "text/plain": [
       "<IPython.core.display.Javascript object>"
      ]
     },
     "metadata": {},
     "output_type": "display_data"
    },
    {
     "data": {
      "application/javascript": [
       "$('span:contains(\"# Temp\")').closest('.cell').remove();"
      ],
      "text/plain": [
       "<IPython.core.display.Javascript object>"
      ]
     },
     "metadata": {},
     "output_type": "display_data"
    },
    {
     "data": {
      "application/javascript": [
       "\n",
       "        $('span:contains(\"# Temp\")').closest('.cell').remove();\n",
       "        var code = IPython.notebook.insert_cell_below('code');\n",
       "        code.set_text(atob(\"IyBUZW1wCmluc2VydCgnJycKa2V1bmcyMDA4YiA9IERCKFdvcmtVbnJlbGF0ZWQoCiAgICAyMDA4LCAiVGhlb3JldGljYWwgbWF4aW11bSBwcmVkaWN0aW9uIGFjY3VyYWN5IGZvciBhbmFsb2d5LWJhc2VkIHNvZnR3YXJlIGNvc3QgZXN0aW1hdGlvbiIsCiAgICBkaXNwbGF5PSJrZXVuZyBiIiwKICAgIGF1dGhvcnM9IktldW5nLCBKYWNreSBXIiwKICAgIHBsYWNlPVNFQywKICAgIHBwPSI0OTUtLTUwMiIsCiAgICBlbnRyeXR5cGU9ImlucHJvY2VlZGluZ3MiLAogICAgb3JnYW5pemF0aW9uPSJJRUVFIiwKICAgIElEPSJrZXVuZzIwMDh0aGVvcmV0aWNhbCIsCiAgICBjbHVzdGVyX2lkPSIxMTE2MzM2MDUzMTk0NTk3MjExMCIsCiAgICBzY2hvbGFyPSJodHRwOi8vc2Nob2xhci5nb29nbGUuY29tL3NjaG9sYXI/Y2l0ZXM9MTExNjMzNjA1MzE5NDU5NzIxMTAmYXNfc2R0PTIwMDUmc2Npb2R0PTAsNSZobD1lbiIsCikpCgpEQihDaXRhdGlvbigKICAgIGtldW5nMjAwOGIsIG1lbmRlczIwMDRhLCByZWY9IiIsCiAgICBjb250ZXh0cz1bCgogICAgXSwKKSkKCicnJywgY2l0YXRpb25zPSdtZW5kZXMyMDA0YScpOw==\"));\n",
       "    "
      ],
      "text/plain": [
       "<IPython.core.display.Javascript object>"
      ]
     },
     "metadata": {},
     "output_type": "display_data"
    },
    {
     "data": {
      "application/javascript": [
       "$('span:contains(\"# Temp\")').closest('.cell').remove();"
      ],
      "text/plain": [
       "<IPython.core.display.Javascript object>"
      ]
     },
     "metadata": {},
     "output_type": "display_data"
    },
    {
     "data": {
      "application/javascript": [
       "\n",
       "        $('span:contains(\"# Temp\")').closest('.cell').remove();\n",
       "        var code = IPython.notebook.insert_cell_below('code');\n",
       "        code.set_text(atob(\"IyBUZW1wCmluc2VydCgnJycKa2V1bmcyMDA4YiA9IERCKFdvcmsoCiAgICAyMDA4LCAiVGhlb3JldGljYWwgbWF4aW11bSBwcmVkaWN0aW9uIGFjY3VyYWN5IGZvciBhbmFsb2d5LWJhc2VkIHNvZnR3YXJlIGNvc3QgZXN0aW1hdGlvbiIsCiAgICBkaXNwbGF5PSJrZXVuZyBiIiwKICAgIGF1dGhvcnM9IktldW5nLCBKYWNreSBXIiwKICAgIHBsYWNlPVNFQywKICAgIHBwPSI0OTUtLTUwMiIsCiAgICBlbnRyeXR5cGU9ImlucHJvY2VlZGluZ3MiLAogICAgb3JnYW5pemF0aW9uPSJJRUVFIiwKICAgIElEPSJrZXVuZzIwMDh0aGVvcmV0aWNhbCIsCiAgICBjbHVzdGVyX2lkPSIxMTE2MzM2MDUzMTk0NTk3MjExMCIsCiAgICBzY2hvbGFyPSJodHRwOi8vc2Nob2xhci5nb29nbGUuY29tL3NjaG9sYXI/Y2l0ZXM9MTExNjMzNjA1MzE5NDU5NzIxMTAmYXNfc2R0PTIwMDUmc2Npb2R0PTAsNSZobD1lbiIsCikpCgpEQihDaXRhdGlvbigKICAgIGtldW5nMjAwOGIsIG1lbmRlczIwMDRhLCByZWY9IiIsCiAgICBjb250ZXh0cz1bCgogICAgXSwKKSkKCicnJywgY2l0YXRpb25zPSdtZW5kZXMyMDA0YScpOw==\"));\n",
       "    "
      ],
      "text/plain": [
       "<IPython.core.display.Javascript object>"
      ]
     },
     "metadata": {},
     "output_type": "display_data"
    },
    {
     "data": {
      "application/javascript": [
       "$('span:contains(\"# Temp\")').closest('.cell').remove();"
      ],
      "text/plain": [
       "<IPython.core.display.Javascript object>"
      ]
     },
     "metadata": {},
     "output_type": "display_data"
    },
    {
     "data": {
      "application/javascript": [
       "\n",
       "        $('span:contains(\"# Temp\")').closest('.cell').remove();\n",
       "        var code = IPython.notebook.insert_cell_below('code');\n",
       "        code.set_text(atob(\"IyBUZW1wCmluc2VydCgnJycKa2V1bmcyMDA4YiA9IERCKFdvcmtVbnJlbGF0ZWQoCiAgICAyMDA4LCAiVGhlb3JldGljYWwgbWF4aW11bSBwcmVkaWN0aW9uIGFjY3VyYWN5IGZvciBhbmFsb2d5LWJhc2VkIHNvZnR3YXJlIGNvc3QgZXN0aW1hdGlvbiIsCiAgICBkaXNwbGF5PSJrZXVuZyBiIiwKICAgIGF1dGhvcnM9IktldW5nLCBKYWNreSBXIiwKICAgIHBsYWNlPVNFQywKICAgIHBwPSI0OTUtLTUwMiIsCiAgICBlbnRyeXR5cGU9ImlucHJvY2VlZGluZ3MiLAogICAgb3JnYW5pemF0aW9uPSJJRUVFIiwKICAgIElEPSJrZXVuZzIwMDh0aGVvcmV0aWNhbCIsCiAgICBjbHVzdGVyX2lkPSIxMTE2MzM2MDUzMTk0NTk3MjExMCIsCiAgICBzY2hvbGFyPSJodHRwOi8vc2Nob2xhci5nb29nbGUuY29tL3NjaG9sYXI/Y2l0ZXM9MTExNjMzNjA1MzE5NDU5NzIxMTAmYXNfc2R0PTIwMDUmc2Npb2R0PTAsNSZobD1lbiIsCikpCgpEQihDaXRhdGlvbigKICAgIGtldW5nMjAwOGIsIG1lbmRlczIwMDRhLCByZWY9IiIsCiAgICBjb250ZXh0cz1bCgogICAgXSwKKSkKCicnJywgY2l0YXRpb25zPSdtZW5kZXMyMDA0YScpOw==\"));\n",
       "    "
      ],
      "text/plain": [
       "<IPython.core.display.Javascript object>"
      ]
     },
     "metadata": {},
     "output_type": "display_data"
    },
    {
     "data": {
      "application/javascript": [
       "$('span:contains(\"# Temp\")').closest('.cell').remove();"
      ],
      "text/plain": [
       "<IPython.core.display.Javascript object>"
      ]
     },
     "metadata": {},
     "output_type": "display_data"
    },
    {
     "data": {
      "application/javascript": [
       "\n",
       "        $('span:contains(\"# Temp\")').closest('.cell').remove();\n",
       "        var code = IPython.notebook.insert_cell_below('code');\n",
       "        code.set_text(atob(\"IyBUZW1wCmluc2VydCgnJycKY29yYXp6YTIwMTFhID0gREIoV29ya1VucmVsYXRlZCgKICAgIDIwMTEsICJJbnZlc3RpZ2F0aW5nIHRoZSB1c2Ugb2YgU3VwcG9ydCBWZWN0b3IgUmVncmVzc2lvbiBmb3Igd2ViIGVmZm9ydCBlc3RpbWF0aW9uIiwKICAgIGRpc3BsYXk9ImNvcmF6emEiLAogICAgYXV0aG9ycz0iQ29yYXp6YSwgQW5uYSBhbmQgRGkgTWFydGlubywgU2VyZ2lvIGFuZCBGZXJydWNjaSwgRmlsb21lbmEgYW5kIEdyYXZpbm8sIENhcm1pbmUgYW5kIE1lbmRlcywgRW1pbGlhIiwKICAgIHBsYWNlPUVTRSwKICAgIHBwPSIyMTEtLTI0MyIsCiAgICBlbnRyeXR5cGU9ImFydGljbGUiLAogICAgdm9sdW1lPSIxNiIsCiAgICBudW1iZXI9IjIiLAogICAgcHVibGlzaGVyPSJTcHJpbmdlciIsCiAgICBJRD0iY29yYXp6YTIwMTFpbnZlc3RpZ2F0aW5nIiwKICAgIGNsdXN0ZXJfaWQ9IjIzODkzNTc0NzI2MjM5NDc2OTMiLAogICAgc2Nob2xhcj0iaHR0cDovL3NjaG9sYXIuZ29vZ2xlLmNvbS9zY2hvbGFyP2NpdGVzPTIzODkzNTc0NzI2MjM5NDc2OTMmYXNfc2R0PTIwMDUmc2Npb2R0PTAsNSZobD1lbiIsCikpCgpEQihDaXRhdGlvbigKICAgIGNvcmF6emEyMDExYSwgbWVuZGVzMjAwNGEsIHJlZj0iIiwKICAgIGNvbnRleHRzPVsKCiAgICBdLAopKQoKJycnLCBjaXRhdGlvbnM9J21lbmRlczIwMDRhJyk7\"));\n",
       "    "
      ],
      "text/plain": [
       "<IPython.core.display.Javascript object>"
      ]
     },
     "metadata": {},
     "output_type": "display_data"
    },
    {
     "data": {
      "application/javascript": [
       "$('span:contains(\"# Temp\")').closest('.cell').remove();"
      ],
      "text/plain": [
       "<IPython.core.display.Javascript object>"
      ]
     },
     "metadata": {},
     "output_type": "display_data"
    },
    {
     "data": {
      "application/javascript": [
       "\n",
       "        $('span:contains(\"# Temp\")').closest('.cell').remove();\n",
       "        var code = IPython.notebook.insert_cell_below('code');\n",
       "        code.set_text(atob(\"IyBUZW1wCmluc2VydCgnJycKY29yYXp6YTIwMTFhID0gREIoV29yaygKICAgIDIwMTEsICJJbnZlc3RpZ2F0aW5nIHRoZSB1c2Ugb2YgU3VwcG9ydCBWZWN0b3IgUmVncmVzc2lvbiBmb3Igd2ViIGVmZm9ydCBlc3RpbWF0aW9uIiwKICAgIGRpc3BsYXk9ImNvcmF6emEiLAogICAgYXV0aG9ycz0iQ29yYXp6YSwgQW5uYSBhbmQgRGkgTWFydGlubywgU2VyZ2lvIGFuZCBGZXJydWNjaSwgRmlsb21lbmEgYW5kIEdyYXZpbm8sIENhcm1pbmUgYW5kIE1lbmRlcywgRW1pbGlhIiwKICAgIHBsYWNlPUVTRSwKICAgIHBwPSIyMTEtLTI0MyIsCiAgICBlbnRyeXR5cGU9ImFydGljbGUiLAogICAgdm9sdW1lPSIxNiIsCiAgICBudW1iZXI9IjIiLAogICAgcHVibGlzaGVyPSJTcHJpbmdlciIsCiAgICBJRD0iY29yYXp6YTIwMTFpbnZlc3RpZ2F0aW5nIiwKICAgIGNsdXN0ZXJfaWQ9IjIzODkzNTc0NzI2MjM5NDc2OTMiLAogICAgc2Nob2xhcj0iaHR0cDovL3NjaG9sYXIuZ29vZ2xlLmNvbS9zY2hvbGFyP2NpdGVzPTIzODkzNTc0NzI2MjM5NDc2OTMmYXNfc2R0PTIwMDUmc2Npb2R0PTAsNSZobD1lbiIsCikpCgpEQihDaXRhdGlvbigKICAgIGNvcmF6emEyMDExYSwgbWVuZGVzMjAwNGEsIHJlZj0iIiwKICAgIGNvbnRleHRzPVsKCiAgICBdLAopKQoKJycnLCBjaXRhdGlvbnM9J21lbmRlczIwMDRhJyk7\"));\n",
       "    "
      ],
      "text/plain": [
       "<IPython.core.display.Javascript object>"
      ]
     },
     "metadata": {},
     "output_type": "display_data"
    },
    {
     "data": {
      "application/javascript": [
       "$('span:contains(\"# Temp\")').closest('.cell').remove();"
      ],
      "text/plain": [
       "<IPython.core.display.Javascript object>"
      ]
     },
     "metadata": {},
     "output_type": "display_data"
    },
    {
     "data": {
      "application/javascript": [
       "\n",
       "        $('span:contains(\"# Temp\")').closest('.cell').remove();\n",
       "        var code = IPython.notebook.insert_cell_below('code');\n",
       "        code.set_text(atob(\"IyBUZW1wCmluc2VydCgnJycKY29yYXp6YTIwMTFhID0gREIoV29ya1VucmVsYXRlZCgKICAgIDIwMTEsICJJbnZlc3RpZ2F0aW5nIHRoZSB1c2Ugb2YgU3VwcG9ydCBWZWN0b3IgUmVncmVzc2lvbiBmb3Igd2ViIGVmZm9ydCBlc3RpbWF0aW9uIiwKICAgIGRpc3BsYXk9ImNvcmF6emEiLAogICAgYXV0aG9ycz0iQ29yYXp6YSwgQW5uYSBhbmQgRGkgTWFydGlubywgU2VyZ2lvIGFuZCBGZXJydWNjaSwgRmlsb21lbmEgYW5kIEdyYXZpbm8sIENhcm1pbmUgYW5kIE1lbmRlcywgRW1pbGlhIiwKICAgIHBsYWNlPUVTRSwKICAgIHBwPSIyMTEtLTI0MyIsCiAgICBlbnRyeXR5cGU9ImFydGljbGUiLAogICAgdm9sdW1lPSIxNiIsCiAgICBudW1iZXI9IjIiLAogICAgcHVibGlzaGVyPSJTcHJpbmdlciIsCiAgICBJRD0iY29yYXp6YTIwMTFpbnZlc3RpZ2F0aW5nIiwKICAgIGNsdXN0ZXJfaWQ9IjIzODkzNTc0NzI2MjM5NDc2OTMiLAogICAgc2Nob2xhcj0iaHR0cDovL3NjaG9sYXIuZ29vZ2xlLmNvbS9zY2hvbGFyP2NpdGVzPTIzODkzNTc0NzI2MjM5NDc2OTMmYXNfc2R0PTIwMDUmc2Npb2R0PTAsNSZobD1lbiIsCikpCgpEQihDaXRhdGlvbigKICAgIGNvcmF6emEyMDExYSwgbWVuZGVzMjAwNGEsIHJlZj0iIiwKICAgIGNvbnRleHRzPVsKCiAgICBdLAopKQoKJycnLCBjaXRhdGlvbnM9J21lbmRlczIwMDRhJyk7\"));\n",
       "    "
      ],
      "text/plain": [
       "<IPython.core.display.Javascript object>"
      ]
     },
     "metadata": {},
     "output_type": "display_data"
    },
    {
     "data": {
      "application/javascript": [
       "$('span:contains(\"# Temp\")').closest('.cell').remove();"
      ],
      "text/plain": [
       "<IPython.core.display.Javascript object>"
      ]
     },
     "metadata": {},
     "output_type": "display_data"
    },
    {
     "data": {
      "application/javascript": [
       "\n",
       "        $('span:contains(\"# Temp\")').closest('.cell').remove();\n",
       "        var code = IPython.notebook.insert_cell_below('code');\n",
       "        code.set_text(atob(\"IyBUZW1wCmluc2VydCgnJycKY29zdGFnbGlvbGEyMDA2YiA9IERCKFdvcmtVbnJlbGF0ZWQoCiAgICAyMDA2LCAiQSBDT1NNSUMtRkZQIGFwcHJvYWNoIHRvIHByZWRpY3Qgd2ViIGFwcGxpY2F0aW9uIGRldmVsb3BtZW50IGVmZm9ydCIsCiAgICBkaXNwbGF5PSJjb3N0YWdsaW9sYSBiIiwKICAgIGF1dGhvcnM9IkNvc3RhZ2xpb2xhLCBHZW5uYXJvIGFuZCBEaSBNYXJ0aW5vLCBTZXJnaW8gYW5kIEZlcnJ1Y2NpLCBGaWxvbWVuYSBhbmQgR3JhdmlubywgQ2FybWluZSBhbmQgVG9ydG9yYSwgR2Vub3ZlZmZhIGFuZCBWaXRpZWxsbywgR2l1bGlhbmEiLAogICAgcHA9IjkzLS0xMjAiLAogICAgcGxhY2UxPSJKb3VybmFsIG9mIFdlYiBFbmdpbmVlcmluZyIsCiAgICBlbnRyeXR5cGU9ImFydGljbGUiLAogICAgdm9sdW1lPSI1IiwKICAgIG51bWJlcj0iMiIsCiAgICBwdWJsaXNoZXI9IlJpbnRvbiBQcmVzcywgSW5jb3Jwb3JhdGVkIiwKICAgIElEPSJjb3N0YWdsaW9sYTIwMDZjb3NtaWMiLAogICAgY2x1c3Rlcl9pZD0iNjEzNDk0OTI0NTQ3NjY0OTEwMCIsCiAgICBzY2hvbGFyPSJodHRwOi8vc2Nob2xhci5nb29nbGUuY29tL3NjaG9sYXI/Y2l0ZXM9NjEzNDk0OTI0NTQ3NjY0OTEwMCZhc19zZHQ9MjAwNSZzY2lvZHQ9MCw1JmhsPWVuIiwKKSkKCkRCKENpdGF0aW9uKAogICAgY29zdGFnbGlvbGEyMDA2YiwgbWVuZGVzMjAwNGEsIHJlZj0iIiwKICAgIGNvbnRleHRzPVsKCiAgICBdLAopKQoKJycnLCBjaXRhdGlvbnM9J21lbmRlczIwMDRhJyk7\"));\n",
       "    "
      ],
      "text/plain": [
       "<IPython.core.display.Javascript object>"
      ]
     },
     "metadata": {},
     "output_type": "display_data"
    },
    {
     "data": {
      "application/javascript": [
       "$('span:contains(\"# Temp\")').closest('.cell').remove();"
      ],
      "text/plain": [
       "<IPython.core.display.Javascript object>"
      ]
     },
     "metadata": {},
     "output_type": "display_data"
    },
    {
     "data": {
      "application/javascript": [
       "\n",
       "        $('span:contains(\"# Temp\")').closest('.cell').remove();\n",
       "        var code = IPython.notebook.insert_cell_below('code');\n",
       "        code.set_text(atob(\"IyBUZW1wCmluc2VydCgnJycKY29zdGFnbGlvbGEyMDA2YiA9IERCKFdvcmsoCiAgICAyMDA2LCAiQSBDT1NNSUMtRkZQIGFwcHJvYWNoIHRvIHByZWRpY3Qgd2ViIGFwcGxpY2F0aW9uIGRldmVsb3BtZW50IGVmZm9ydCIsCiAgICBkaXNwbGF5PSJjb3N0YWdsaW9sYSBiIiwKICAgIGF1dGhvcnM9IkNvc3RhZ2xpb2xhLCBHZW5uYXJvIGFuZCBEaSBNYXJ0aW5vLCBTZXJnaW8gYW5kIEZlcnJ1Y2NpLCBGaWxvbWVuYSBhbmQgR3JhdmlubywgQ2FybWluZSBhbmQgVG9ydG9yYSwgR2Vub3ZlZmZhIGFuZCBWaXRpZWxsbywgR2l1bGlhbmEiLAogICAgcHA9IjkzLS0xMjAiLAogICAgcGxhY2UxPSJKb3VybmFsIG9mIFdlYiBFbmdpbmVlcmluZyIsCiAgICBlbnRyeXR5cGU9ImFydGljbGUiLAogICAgdm9sdW1lPSI1IiwKICAgIG51bWJlcj0iMiIsCiAgICBwdWJsaXNoZXI9IlJpbnRvbiBQcmVzcywgSW5jb3Jwb3JhdGVkIiwKICAgIElEPSJjb3N0YWdsaW9sYTIwMDZjb3NtaWMiLAogICAgY2x1c3Rlcl9pZD0iNjEzNDk0OTI0NTQ3NjY0OTEwMCIsCiAgICBzY2hvbGFyPSJodHRwOi8vc2Nob2xhci5nb29nbGUuY29tL3NjaG9sYXI/Y2l0ZXM9NjEzNDk0OTI0NTQ3NjY0OTEwMCZhc19zZHQ9MjAwNSZzY2lvZHQ9MCw1JmhsPWVuIiwKKSkKCkRCKENpdGF0aW9uKAogICAgY29zdGFnbGlvbGEyMDA2YiwgbWVuZGVzMjAwNGEsIHJlZj0iIiwKICAgIGNvbnRleHRzPVsKCiAgICBdLAopKQoKJycnLCBjaXRhdGlvbnM9J21lbmRlczIwMDRhJyk7\"));\n",
       "    "
      ],
      "text/plain": [
       "<IPython.core.display.Javascript object>"
      ]
     },
     "metadata": {},
     "output_type": "display_data"
    },
    {
     "data": {
      "application/javascript": [
       "$('span:contains(\"# Temp\")').closest('.cell').remove();"
      ],
      "text/plain": [
       "<IPython.core.display.Javascript object>"
      ]
     },
     "metadata": {},
     "output_type": "display_data"
    },
    {
     "data": {
      "application/javascript": [
       "\n",
       "        $('span:contains(\"# Temp\")').closest('.cell').remove();\n",
       "        var code = IPython.notebook.insert_cell_below('code');\n",
       "        code.set_text(atob(\"IyBUZW1wCmluc2VydCgnJycKY29zdGFnbGlvbGEyMDA2YiA9IERCKFdvcmtVbnJlbGF0ZWQoCiAgICAyMDA2LCAiQSBDT1NNSUMtRkZQIGFwcHJvYWNoIHRvIHByZWRpY3Qgd2ViIGFwcGxpY2F0aW9uIGRldmVsb3BtZW50IGVmZm9ydCIsCiAgICBkaXNwbGF5PSJjb3N0YWdsaW9sYSBiIiwKICAgIGF1dGhvcnM9IkNvc3RhZ2xpb2xhLCBHZW5uYXJvIGFuZCBEaSBNYXJ0aW5vLCBTZXJnaW8gYW5kIEZlcnJ1Y2NpLCBGaWxvbWVuYSBhbmQgR3JhdmlubywgQ2FybWluZSBhbmQgVG9ydG9yYSwgR2Vub3ZlZmZhIGFuZCBWaXRpZWxsbywgR2l1bGlhbmEiLAogICAgcHA9IjkzLS0xMjAiLAogICAgcGxhY2UxPSJKb3VybmFsIG9mIFdlYiBFbmdpbmVlcmluZyIsCiAgICBlbnRyeXR5cGU9ImFydGljbGUiLAogICAgdm9sdW1lPSI1IiwKICAgIG51bWJlcj0iMiIsCiAgICBwdWJsaXNoZXI9IlJpbnRvbiBQcmVzcywgSW5jb3Jwb3JhdGVkIiwKICAgIElEPSJjb3N0YWdsaW9sYTIwMDZjb3NtaWMiLAogICAgY2x1c3Rlcl9pZD0iNjEzNDk0OTI0NTQ3NjY0OTEwMCIsCiAgICBzY2hvbGFyPSJodHRwOi8vc2Nob2xhci5nb29nbGUuY29tL3NjaG9sYXI/Y2l0ZXM9NjEzNDk0OTI0NTQ3NjY0OTEwMCZhc19zZHQ9MjAwNSZzY2lvZHQ9MCw1JmhsPWVuIiwKKSkKCkRCKENpdGF0aW9uKAogICAgY29zdGFnbGlvbGEyMDA2YiwgbWVuZGVzMjAwNGEsIHJlZj0iIiwKICAgIGNvbnRleHRzPVsKCiAgICBdLAopKQoKJycnLCBjaXRhdGlvbnM9J21lbmRlczIwMDRhJyk7\"));\n",
       "    "
      ],
      "text/plain": [
       "<IPython.core.display.Javascript object>"
      ]
     },
     "metadata": {},
     "output_type": "display_data"
    },
    {
     "data": {
      "application/javascript": [
       "$('span:contains(\"# Temp\")').closest('.cell').remove();"
      ],
      "text/plain": [
       "<IPython.core.display.Javascript object>"
      ]
     },
     "metadata": {},
     "output_type": "display_data"
    },
    {
     "data": {
      "application/javascript": [
       "\n",
       "        $('span:contains(\"# Temp\")').closest('.cell').remove();\n",
       "        var code = IPython.notebook.insert_cell_below('code');\n",
       "        code.set_text(atob(\"IyBUZW1wCmluc2VydCgnJycKbWl0dGFzMjAxMGIgPSBEQihXb3JrVW5yZWxhdGVkKAogICAgMjAxMCwgIlZpc3VhbCBjb21wYXJpc29uIG9mIHNvZnR3YXJlIGNvc3QgZXN0aW1hdGlvbiBtb2RlbHMgYnkgcmVncmVzc2lvbiBlcnJvciBjaGFyYWN0ZXJpc3RpYyBhbmFseXNpcyIsCiAgICBkaXNwbGF5PSJtaXR0YXMgYiIsCiAgICBhdXRob3JzPSJNaXR0YXMsIE5pa29sYW9zIGFuZCBBbmdlbGlzLCBMZWZ0ZXJpcyIsCiAgICBwbGFjZT1KU1MsCiAgICBwcD0iNjIxLS02MzciLAogICAgZW50cnl0eXBlPSJhcnRpY2xlIiwKICAgIHZvbHVtZT0iODMiLAogICAgbnVtYmVyPSI0IiwKICAgIHB1Ymxpc2hlcj0iRWxzZXZpZXIiLAogICAgSUQ9Im1pdHRhczIwMTB2aXN1YWwiLAogICAgY2x1c3Rlcl9pZD0iODEwNDA5NDM2NjkwOTk4ODA3MCIsCiAgICBzY2hvbGFyPSJodHRwOi8vc2Nob2xhci5nb29nbGUuY29tL3NjaG9sYXI/Y2l0ZXM9ODEwNDA5NDM2NjkwOTk4ODA3MCZhc19zZHQ9MjAwNSZzY2lvZHQ9MCw1JmhsPWVuIiwKKSkKCkRCKENpdGF0aW9uKAogICAgbWl0dGFzMjAxMGIsIG1lbmRlczIwMDRhLCByZWY9IiIsCiAgICBjb250ZXh0cz1bCgogICAgXSwKKSkKCicnJywgY2l0YXRpb25zPSdtZW5kZXMyMDA0YScpOw==\"));\n",
       "    "
      ],
      "text/plain": [
       "<IPython.core.display.Javascript object>"
      ]
     },
     "metadata": {},
     "output_type": "display_data"
    },
    {
     "data": {
      "application/javascript": [
       "$('span:contains(\"# Temp\")').closest('.cell').remove();"
      ],
      "text/plain": [
       "<IPython.core.display.Javascript object>"
      ]
     },
     "metadata": {},
     "output_type": "display_data"
    },
    {
     "data": {
      "application/javascript": [
       "\n",
       "        $('span:contains(\"# Temp\")').closest('.cell').remove();\n",
       "        var code = IPython.notebook.insert_cell_below('code');\n",
       "        code.set_text(atob(\"IyBUZW1wCmluc2VydCgnJycKbWl0dGFzMjAxMGIgPSBEQihXb3JrKAogICAgMjAxMCwgIlZpc3VhbCBjb21wYXJpc29uIG9mIHNvZnR3YXJlIGNvc3QgZXN0aW1hdGlvbiBtb2RlbHMgYnkgcmVncmVzc2lvbiBlcnJvciBjaGFyYWN0ZXJpc3RpYyBhbmFseXNpcyIsCiAgICBkaXNwbGF5PSJtaXR0YXMgYiIsCiAgICBhdXRob3JzPSJNaXR0YXMsIE5pa29sYW9zIGFuZCBBbmdlbGlzLCBMZWZ0ZXJpcyIsCiAgICBwbGFjZT1KU1MsCiAgICBwcD0iNjIxLS02MzciLAogICAgZW50cnl0eXBlPSJhcnRpY2xlIiwKICAgIHZvbHVtZT0iODMiLAogICAgbnVtYmVyPSI0IiwKICAgIHB1Ymxpc2hlcj0iRWxzZXZpZXIiLAogICAgSUQ9Im1pdHRhczIwMTB2aXN1YWwiLAogICAgY2x1c3Rlcl9pZD0iODEwNDA5NDM2NjkwOTk4ODA3MCIsCiAgICBzY2hvbGFyPSJodHRwOi8vc2Nob2xhci5nb29nbGUuY29tL3NjaG9sYXI/Y2l0ZXM9ODEwNDA5NDM2NjkwOTk4ODA3MCZhc19zZHQ9MjAwNSZzY2lvZHQ9MCw1JmhsPWVuIiwKKSkKCkRCKENpdGF0aW9uKAogICAgbWl0dGFzMjAxMGIsIG1lbmRlczIwMDRhLCByZWY9IiIsCiAgICBjb250ZXh0cz1bCgogICAgXSwKKSkKCicnJywgY2l0YXRpb25zPSdtZW5kZXMyMDA0YScpOw==\"));\n",
       "    "
      ],
      "text/plain": [
       "<IPython.core.display.Javascript object>"
      ]
     },
     "metadata": {},
     "output_type": "display_data"
    },
    {
     "data": {
      "application/javascript": [
       "$('span:contains(\"# Temp\")').closest('.cell').remove();"
      ],
      "text/plain": [
       "<IPython.core.display.Javascript object>"
      ]
     },
     "metadata": {},
     "output_type": "display_data"
    },
    {
     "data": {
      "application/javascript": [
       "\n",
       "        $('span:contains(\"# Temp\")').closest('.cell').remove();\n",
       "        var code = IPython.notebook.insert_cell_below('code');\n",
       "        code.set_text(atob(\"IyBUZW1wCmluc2VydCgnJycKbWl0dGFzMjAxMGIgPSBEQihXb3JrVW5yZWxhdGVkKAogICAgMjAxMCwgIlZpc3VhbCBjb21wYXJpc29uIG9mIHNvZnR3YXJlIGNvc3QgZXN0aW1hdGlvbiBtb2RlbHMgYnkgcmVncmVzc2lvbiBlcnJvciBjaGFyYWN0ZXJpc3RpYyBhbmFseXNpcyIsCiAgICBkaXNwbGF5PSJtaXR0YXMgYiIsCiAgICBhdXRob3JzPSJNaXR0YXMsIE5pa29sYW9zIGFuZCBBbmdlbGlzLCBMZWZ0ZXJpcyIsCiAgICBwbGFjZT1KU1MsCiAgICBwcD0iNjIxLS02MzciLAogICAgZW50cnl0eXBlPSJhcnRpY2xlIiwKICAgIHZvbHVtZT0iODMiLAogICAgbnVtYmVyPSI0IiwKICAgIHB1Ymxpc2hlcj0iRWxzZXZpZXIiLAogICAgSUQ9Im1pdHRhczIwMTB2aXN1YWwiLAogICAgY2x1c3Rlcl9pZD0iODEwNDA5NDM2NjkwOTk4ODA3MCIsCiAgICBzY2hvbGFyPSJodHRwOi8vc2Nob2xhci5nb29nbGUuY29tL3NjaG9sYXI/Y2l0ZXM9ODEwNDA5NDM2NjkwOTk4ODA3MCZhc19zZHQ9MjAwNSZzY2lvZHQ9MCw1JmhsPWVuIiwKKSkKCkRCKENpdGF0aW9uKAogICAgbWl0dGFzMjAxMGIsIG1lbmRlczIwMDRhLCByZWY9IiIsCiAgICBjb250ZXh0cz1bCgogICAgXSwKKSkKCicnJywgY2l0YXRpb25zPSdtZW5kZXMyMDA0YScpOw==\"));\n",
       "    "
      ],
      "text/plain": [
       "<IPython.core.display.Javascript object>"
      ]
     },
     "metadata": {},
     "output_type": "display_data"
    },
    {
     "data": {
      "application/javascript": [
       "$('span:contains(\"# Temp\")').closest('.cell').remove();"
      ],
      "text/plain": [
       "<IPython.core.display.Javascript object>"
      ]
     },
     "metadata": {},
     "output_type": "display_data"
    },
    {
     "data": {
      "application/javascript": [
       "\n",
       "        $('span:contains(\"# Temp\")').closest('.cell').remove();\n",
       "        var code = IPython.notebook.insert_cell_below('code');\n",
       "        code.set_text(atob(\"IyBUZW1wCmluc2VydCgnJycKbWVuZGVzMjAwOWEgPSBEQihXb3JrVW5yZWxhdGVkKAogICAgMjAwOSwgIkJ1aWxkaW5nIGFuIEV4cGVydC1iYXNlZCBXZWIgRWZmb3J0IEVzdGltYXRpb24gTW9kZWwgdXNpbmcgQmF5ZXNpYW4gTmV0d29ya3MuIiwKICAgIGRpc3BsYXk9Im1lbmRlcyIsCiAgICBhdXRob3JzPSJNZW5kZXMsIEVtaWxpYSBhbmQgUG9sbGlubywgQ2FybWVsIEEgYW5kIE1vc2xleSwgTmlsZSIsCiAgICBwbGFjZT1FQVNFLAogICAgZW50cnl0eXBlPSJpbnByb2NlZWRpbmdzIiwKICAgIElEPSJtZW5kZXMyMDA5YnVpbGRpbmciLAogICAgY2x1c3Rlcl9pZD0iMzM3MzIxNTI4ODc0MTc4NjU5OSIsCiAgICBzY2hvbGFyPSJodHRwOi8vc2Nob2xhci5nb29nbGUuY29tL3NjaG9sYXI/Y2l0ZXM9MzM3MzIxNTI4ODc0MTc4NjU5OSZhc19zZHQ9MjAwNSZzY2lvZHQ9MCw1JmhsPWVuIiwKKSkKCkRCKENpdGF0aW9uKAogICAgbWVuZGVzMjAwOWEsIG1lbmRlczIwMDRhLCByZWY9IiIsCiAgICBjb250ZXh0cz1bCgogICAgXSwKKSkKCicnJywgY2l0YXRpb25zPSdtZW5kZXMyMDA0YScpOw==\"));\n",
       "    "
      ],
      "text/plain": [
       "<IPython.core.display.Javascript object>"
      ]
     },
     "metadata": {},
     "output_type": "display_data"
    },
    {
     "data": {
      "application/javascript": [
       "$('span:contains(\"# Temp\")').closest('.cell').remove();"
      ],
      "text/plain": [
       "<IPython.core.display.Javascript object>"
      ]
     },
     "metadata": {},
     "output_type": "display_data"
    },
    {
     "data": {
      "application/javascript": [
       "\n",
       "        $('span:contains(\"# Temp\")').closest('.cell').remove();\n",
       "        var code = IPython.notebook.insert_cell_below('code');\n",
       "        code.set_text(atob(\"IyBUZW1wCmluc2VydCgnJycKbWVuZGVzMjAwOWEgPSBEQihXb3JrKAogICAgMjAwOSwgIkJ1aWxkaW5nIGFuIEV4cGVydC1iYXNlZCBXZWIgRWZmb3J0IEVzdGltYXRpb24gTW9kZWwgdXNpbmcgQmF5ZXNpYW4gTmV0d29ya3MuIiwKICAgIGRpc3BsYXk9Im1lbmRlcyIsCiAgICBhdXRob3JzPSJNZW5kZXMsIEVtaWxpYSBhbmQgUG9sbGlubywgQ2FybWVsIEEgYW5kIE1vc2xleSwgTmlsZSIsCiAgICBwbGFjZT1FQVNFLAogICAgZW50cnl0eXBlPSJpbnByb2NlZWRpbmdzIiwKICAgIElEPSJtZW5kZXMyMDA5YnVpbGRpbmciLAogICAgY2x1c3Rlcl9pZD0iMzM3MzIxNTI4ODc0MTc4NjU5OSIsCiAgICBzY2hvbGFyPSJodHRwOi8vc2Nob2xhci5nb29nbGUuY29tL3NjaG9sYXI/Y2l0ZXM9MzM3MzIxNTI4ODc0MTc4NjU5OSZhc19zZHQ9MjAwNSZzY2lvZHQ9MCw1JmhsPWVuIiwKKSkKCkRCKENpdGF0aW9uKAogICAgbWVuZGVzMjAwOWEsIG1lbmRlczIwMDRhLCByZWY9IiIsCiAgICBjb250ZXh0cz1bCgogICAgXSwKKSkKCicnJywgY2l0YXRpb25zPSdtZW5kZXMyMDA0YScpOw==\"));\n",
       "    "
      ],
      "text/plain": [
       "<IPython.core.display.Javascript object>"
      ]
     },
     "metadata": {},
     "output_type": "display_data"
    },
    {
     "data": {
      "application/javascript": [
       "$('span:contains(\"# Temp\")').closest('.cell').remove();"
      ],
      "text/plain": [
       "<IPython.core.display.Javascript object>"
      ]
     },
     "metadata": {},
     "output_type": "display_data"
    },
    {
     "data": {
      "application/javascript": [
       "\n",
       "        $('span:contains(\"# Temp\")').closest('.cell').remove();\n",
       "        var code = IPython.notebook.insert_cell_below('code');\n",
       "        code.set_text(atob(\"IyBUZW1wCmluc2VydCgnJycKbWVuZGVzMjAwOWEgPSBEQihXb3JrVW5yZWxhdGVkKAogICAgMjAwOSwgIkJ1aWxkaW5nIGFuIEV4cGVydC1iYXNlZCBXZWIgRWZmb3J0IEVzdGltYXRpb24gTW9kZWwgdXNpbmcgQmF5ZXNpYW4gTmV0d29ya3MuIiwKICAgIGRpc3BsYXk9Im1lbmRlcyIsCiAgICBhdXRob3JzPSJNZW5kZXMsIEVtaWxpYSBhbmQgUG9sbGlubywgQ2FybWVsIEEgYW5kIE1vc2xleSwgTmlsZSIsCiAgICBwbGFjZT1FQVNFLAogICAgZW50cnl0eXBlPSJpbnByb2NlZWRpbmdzIiwKICAgIElEPSJtZW5kZXMyMDA5YnVpbGRpbmciLAogICAgY2x1c3Rlcl9pZD0iMzM3MzIxNTI4ODc0MTc4NjU5OSIsCiAgICBzY2hvbGFyPSJodHRwOi8vc2Nob2xhci5nb29nbGUuY29tL3NjaG9sYXI/Y2l0ZXM9MzM3MzIxNTI4ODc0MTc4NjU5OSZhc19zZHQ9MjAwNSZzY2lvZHQ9MCw1JmhsPWVuIiwKKSkKCkRCKENpdGF0aW9uKAogICAgbWVuZGVzMjAwOWEsIG1lbmRlczIwMDRhLCByZWY9IiIsCiAgICBjb250ZXh0cz1bCgogICAgXSwKKSkKCicnJywgY2l0YXRpb25zPSdtZW5kZXMyMDA0YScpOw==\"));\n",
       "    "
      ],
      "text/plain": [
       "<IPython.core.display.Javascript object>"
      ]
     },
     "metadata": {},
     "output_type": "display_data"
    },
    {
     "data": {
      "application/javascript": [
       "$('span:contains(\"# Temp\")').closest('.cell').remove();"
      ],
      "text/plain": [
       "<IPython.core.display.Javascript object>"
      ]
     },
     "metadata": {},
     "output_type": "display_data"
    },
    {
     "data": {
      "application/javascript": [
       "\n",
       "        $('span:contains(\"# Temp\")').closest('.cell').remove();\n",
       "        var code = IPython.notebook.insert_cell_below('code');\n",
       "        code.set_text(atob(\"IyBUZW1wCmluc2VydCgnJycKY29yYXp6YTIwMDlhID0gREIoV29ya1VucmVsYXRlZCgKICAgIDIwMDksICJBcHBseWluZyBzdXBwb3J0IHZlY3RvciByZWdyZXNzaW9uIGZvciB3ZWIgZWZmb3J0IGVzdGltYXRpb24gdXNpbmcgYSBjcm9zcy1jb21wYW55IGRhdGFzZXQiLAogICAgZGlzcGxheT0iY29yYXp6YSIsCiAgICBhdXRob3JzPSJDb3JhenphLCBBbm5hIGFuZCBEaSBNYXJ0aW5vLCBTZXJnaW8gYW5kIEZlcnJ1Y2NpLCBGaWxvbWVuYSBhbmQgR3JhdmlubywgQ2FybWluZSBhbmQgTWVuZGVzLCBFbWlsaWEiLAogICAgcGxhY2U9RVNFTSwKICAgIHBwPSIxOTEtLTIwMiIsCiAgICBlbnRyeXR5cGU9ImlucHJvY2VlZGluZ3MiLAogICAgb3JnYW5pemF0aW9uPSJJRUVFIiwKICAgIElEPSJjb3JhenphMjAwOWFwcGx5aW5nIiwKICAgIGNsdXN0ZXJfaWQ9IjEyNjc4MjkyMTExNDYzOTQyMDM0IiwKICAgIHNjaG9sYXI9Imh0dHA6Ly9zY2hvbGFyLmdvb2dsZS5jb20vc2Nob2xhcj9jaXRlcz0xMjY3ODI5MjExMTQ2Mzk0MjAzNCZhc19zZHQ9MjAwNSZzY2lvZHQ9MCw1JmhsPWVuIiwKKSkKCkRCKENpdGF0aW9uKAogICAgY29yYXp6YTIwMDlhLCBtZW5kZXMyMDA0YSwgcmVmPSIiLAogICAgY29udGV4dHM9WwoKICAgIF0sCikpCgonJycsIGNpdGF0aW9ucz0nbWVuZGVzMjAwNGEnKTs=\"));\n",
       "    "
      ],
      "text/plain": [
       "<IPython.core.display.Javascript object>"
      ]
     },
     "metadata": {},
     "output_type": "display_data"
    },
    {
     "data": {
      "application/javascript": [
       "$('span:contains(\"# Temp\")').closest('.cell').remove();"
      ],
      "text/plain": [
       "<IPython.core.display.Javascript object>"
      ]
     },
     "metadata": {},
     "output_type": "display_data"
    },
    {
     "data": {
      "application/javascript": [
       "\n",
       "        $('span:contains(\"# Temp\")').closest('.cell').remove();\n",
       "        var code = IPython.notebook.insert_cell_below('code');\n",
       "        code.set_text(atob(\"IyBUZW1wCmluc2VydCgnJycKY29yYXp6YTIwMDlhID0gREIoV29yaygKICAgIDIwMDksICJBcHBseWluZyBzdXBwb3J0IHZlY3RvciByZWdyZXNzaW9uIGZvciB3ZWIgZWZmb3J0IGVzdGltYXRpb24gdXNpbmcgYSBjcm9zcy1jb21wYW55IGRhdGFzZXQiLAogICAgZGlzcGxheT0iY29yYXp6YSIsCiAgICBhdXRob3JzPSJDb3JhenphLCBBbm5hIGFuZCBEaSBNYXJ0aW5vLCBTZXJnaW8gYW5kIEZlcnJ1Y2NpLCBGaWxvbWVuYSBhbmQgR3JhdmlubywgQ2FybWluZSBhbmQgTWVuZGVzLCBFbWlsaWEiLAogICAgcGxhY2U9RVNFTSwKICAgIHBwPSIxOTEtLTIwMiIsCiAgICBlbnRyeXR5cGU9ImlucHJvY2VlZGluZ3MiLAogICAgb3JnYW5pemF0aW9uPSJJRUVFIiwKICAgIElEPSJjb3JhenphMjAwOWFwcGx5aW5nIiwKICAgIGNsdXN0ZXJfaWQ9IjEyNjc4MjkyMTExNDYzOTQyMDM0IiwKICAgIHNjaG9sYXI9Imh0dHA6Ly9zY2hvbGFyLmdvb2dsZS5jb20vc2Nob2xhcj9jaXRlcz0xMjY3ODI5MjExMTQ2Mzk0MjAzNCZhc19zZHQ9MjAwNSZzY2lvZHQ9MCw1JmhsPWVuIiwKKSkKCkRCKENpdGF0aW9uKAogICAgY29yYXp6YTIwMDlhLCBtZW5kZXMyMDA0YSwgcmVmPSIiLAogICAgY29udGV4dHM9WwoKICAgIF0sCikpCgonJycsIGNpdGF0aW9ucz0nbWVuZGVzMjAwNGEnKTs=\"));\n",
       "    "
      ],
      "text/plain": [
       "<IPython.core.display.Javascript object>"
      ]
     },
     "metadata": {},
     "output_type": "display_data"
    },
    {
     "data": {
      "application/javascript": [
       "$('span:contains(\"# Temp\")').closest('.cell').remove();"
      ],
      "text/plain": [
       "<IPython.core.display.Javascript object>"
      ]
     },
     "metadata": {},
     "output_type": "display_data"
    },
    {
     "data": {
      "application/javascript": [
       "\n",
       "        $('span:contains(\"# Temp\")').closest('.cell').remove();\n",
       "        var code = IPython.notebook.insert_cell_below('code');\n",
       "        code.set_text(atob(\"IyBUZW1wCmluc2VydCgnJycKY29yYXp6YTIwMDlhID0gREIoV29ya1VucmVsYXRlZCgKICAgIDIwMDksICJBcHBseWluZyBzdXBwb3J0IHZlY3RvciByZWdyZXNzaW9uIGZvciB3ZWIgZWZmb3J0IGVzdGltYXRpb24gdXNpbmcgYSBjcm9zcy1jb21wYW55IGRhdGFzZXQiLAogICAgZGlzcGxheT0iY29yYXp6YSIsCiAgICBhdXRob3JzPSJDb3JhenphLCBBbm5hIGFuZCBEaSBNYXJ0aW5vLCBTZXJnaW8gYW5kIEZlcnJ1Y2NpLCBGaWxvbWVuYSBhbmQgR3JhdmlubywgQ2FybWluZSBhbmQgTWVuZGVzLCBFbWlsaWEiLAogICAgcGxhY2U9RVNFTSwKICAgIHBwPSIxOTEtLTIwMiIsCiAgICBlbnRyeXR5cGU9ImlucHJvY2VlZGluZ3MiLAogICAgb3JnYW5pemF0aW9uPSJJRUVFIiwKICAgIElEPSJjb3JhenphMjAwOWFwcGx5aW5nIiwKICAgIGNsdXN0ZXJfaWQ9IjEyNjc4MjkyMTExNDYzOTQyMDM0IiwKICAgIHNjaG9sYXI9Imh0dHA6Ly9zY2hvbGFyLmdvb2dsZS5jb20vc2Nob2xhcj9jaXRlcz0xMjY3ODI5MjExMTQ2Mzk0MjAzNCZhc19zZHQ9MjAwNSZzY2lvZHQ9MCw1JmhsPWVuIiwKKSkKCkRCKENpdGF0aW9uKAogICAgY29yYXp6YTIwMDlhLCBtZW5kZXMyMDA0YSwgcmVmPSIiLAogICAgY29udGV4dHM9WwoKICAgIF0sCikpCgonJycsIGNpdGF0aW9ucz0nbWVuZGVzMjAwNGEnKTs=\"));\n",
       "    "
      ],
      "text/plain": [
       "<IPython.core.display.Javascript object>"
      ]
     },
     "metadata": {},
     "output_type": "display_data"
    },
    {
     "data": {
      "application/javascript": [
       "$('span:contains(\"# Temp\")').closest('.cell').remove();"
      ],
      "text/plain": [
       "<IPython.core.display.Javascript object>"
      ]
     },
     "metadata": {},
     "output_type": "display_data"
    },
    {
     "data": {
      "application/javascript": [
       "\n",
       "        $('span:contains(\"# Temp\")').closest('.cell').remove();\n",
       "        var code = IPython.notebook.insert_cell_below('code');\n",
       "        code.set_text(atob(\"IyBUZW1wCmluc2VydCgnJycKcHJlbXJhajIwMDdhID0gREIoV29ya1VucmVsYXRlZCgKICAgIDIwMDcsICJCdWlsZGluZyBzb2Z0d2FyZSBjb3N0IGVzdGltYXRpb24gbW9kZWxzIHVzaW5nIGhvbW9nZW5vdXMgZGF0YSIsCiAgICBkaXNwbGF5PSJwcmVtcmFqIiwKICAgIGF1dGhvcnM9IlByZW1yYWosIFJhaHVsIGFuZCBaaW1tZXJtYW5uLCBUaG9tYXMiLAogICAgcGxhY2U9RVNFTSwKICAgIHBwPSIzOTMtLTQwMCIsCiAgICBlbnRyeXR5cGU9ImlucHJvY2VlZGluZ3MiLAogICAgb3JnYW5pemF0aW9uPSJJRUVFIiwKICAgIElEPSJwcmVtcmFqMjAwN2J1aWxkaW5nIiwKICAgIGNsdXN0ZXJfaWQ9Ijg0NTU3MDMwMjI0NTkzMTg2OTIiLAogICAgc2Nob2xhcj0iaHR0cDovL3NjaG9sYXIuZ29vZ2xlLmNvbS9zY2hvbGFyP2NpdGVzPTg0NTU3MDMwMjI0NTkzMTg2OTImYXNfc2R0PTIwMDUmc2Npb2R0PTAsNSZobD1lbiIsCikpCgpEQihDaXRhdGlvbigKICAgIHByZW1yYWoyMDA3YSwgbWVuZGVzMjAwNGEsIHJlZj0iIiwKICAgIGNvbnRleHRzPVsKCiAgICBdLAopKQoKJycnLCBjaXRhdGlvbnM9J21lbmRlczIwMDRhJyk7\"));\n",
       "    "
      ],
      "text/plain": [
       "<IPython.core.display.Javascript object>"
      ]
     },
     "metadata": {},
     "output_type": "display_data"
    },
    {
     "data": {
      "application/javascript": [
       "$('span:contains(\"# Temp\")').closest('.cell').remove();"
      ],
      "text/plain": [
       "<IPython.core.display.Javascript object>"
      ]
     },
     "metadata": {},
     "output_type": "display_data"
    },
    {
     "data": {
      "application/javascript": [
       "\n",
       "        $('span:contains(\"# Temp\")').closest('.cell').remove();\n",
       "        var code = IPython.notebook.insert_cell_below('code');\n",
       "        code.set_text(atob(\"IyBUZW1wCmluc2VydCgnJycKcHJlbXJhajIwMDdhID0gREIoV29yaygKICAgIDIwMDcsICJCdWlsZGluZyBzb2Z0d2FyZSBjb3N0IGVzdGltYXRpb24gbW9kZWxzIHVzaW5nIGhvbW9nZW5vdXMgZGF0YSIsCiAgICBkaXNwbGF5PSJwcmVtcmFqIiwKICAgIGF1dGhvcnM9IlByZW1yYWosIFJhaHVsIGFuZCBaaW1tZXJtYW5uLCBUaG9tYXMiLAogICAgcGxhY2U9RVNFTSwKICAgIHBwPSIzOTMtLTQwMCIsCiAgICBlbnRyeXR5cGU9ImlucHJvY2VlZGluZ3MiLAogICAgb3JnYW5pemF0aW9uPSJJRUVFIiwKICAgIElEPSJwcmVtcmFqMjAwN2J1aWxkaW5nIiwKICAgIGNsdXN0ZXJfaWQ9Ijg0NTU3MDMwMjI0NTkzMTg2OTIiLAogICAgc2Nob2xhcj0iaHR0cDovL3NjaG9sYXIuZ29vZ2xlLmNvbS9zY2hvbGFyP2NpdGVzPTg0NTU3MDMwMjI0NTkzMTg2OTImYXNfc2R0PTIwMDUmc2Npb2R0PTAsNSZobD1lbiIsCikpCgpEQihDaXRhdGlvbigKICAgIHByZW1yYWoyMDA3YSwgbWVuZGVzMjAwNGEsIHJlZj0iIiwKICAgIGNvbnRleHRzPVsKCiAgICBdLAopKQoKJycnLCBjaXRhdGlvbnM9J21lbmRlczIwMDRhJyk7\"));\n",
       "    "
      ],
      "text/plain": [
       "<IPython.core.display.Javascript object>"
      ]
     },
     "metadata": {},
     "output_type": "display_data"
    },
    {
     "data": {
      "application/javascript": [
       "$('span:contains(\"# Temp\")').closest('.cell').remove();"
      ],
      "text/plain": [
       "<IPython.core.display.Javascript object>"
      ]
     },
     "metadata": {},
     "output_type": "display_data"
    },
    {
     "data": {
      "application/javascript": [
       "\n",
       "        $('span:contains(\"# Temp\")').closest('.cell').remove();\n",
       "        var code = IPython.notebook.insert_cell_below('code');\n",
       "        code.set_text(atob(\"IyBUZW1wCmluc2VydCgnJycKcHJlbXJhajIwMDdhID0gREIoV29ya1VucmVsYXRlZCgKICAgIDIwMDcsICJCdWlsZGluZyBzb2Z0d2FyZSBjb3N0IGVzdGltYXRpb24gbW9kZWxzIHVzaW5nIGhvbW9nZW5vdXMgZGF0YSIsCiAgICBkaXNwbGF5PSJwcmVtcmFqIiwKICAgIGF1dGhvcnM9IlByZW1yYWosIFJhaHVsIGFuZCBaaW1tZXJtYW5uLCBUaG9tYXMiLAogICAgcGxhY2U9RVNFTSwKICAgIHBwPSIzOTMtLTQwMCIsCiAgICBlbnRyeXR5cGU9ImlucHJvY2VlZGluZ3MiLAogICAgb3JnYW5pemF0aW9uPSJJRUVFIiwKICAgIElEPSJwcmVtcmFqMjAwN2J1aWxkaW5nIiwKICAgIGNsdXN0ZXJfaWQ9Ijg0NTU3MDMwMjI0NTkzMTg2OTIiLAogICAgc2Nob2xhcj0iaHR0cDovL3NjaG9sYXIuZ29vZ2xlLmNvbS9zY2hvbGFyP2NpdGVzPTg0NTU3MDMwMjI0NTkzMTg2OTImYXNfc2R0PTIwMDUmc2Npb2R0PTAsNSZobD1lbiIsCikpCgpEQihDaXRhdGlvbigKICAgIHByZW1yYWoyMDA3YSwgbWVuZGVzMjAwNGEsIHJlZj0iIiwKICAgIGNvbnRleHRzPVsKCiAgICBdLAopKQoKJycnLCBjaXRhdGlvbnM9J21lbmRlczIwMDRhJyk7\"));\n",
       "    "
      ],
      "text/plain": [
       "<IPython.core.display.Javascript object>"
      ]
     },
     "metadata": {},
     "output_type": "display_data"
    },
    {
     "data": {
      "application/javascript": [
       "$('span:contains(\"# Temp\")').closest('.cell').remove();"
      ],
      "text/plain": [
       "<IPython.core.display.Javascript object>"
      ]
     },
     "metadata": {},
     "output_type": "display_data"
    },
    {
     "data": {
      "application/javascript": [
       "\n",
       "        $('span:contains(\"# Temp\")').closest('.cell').remove();\n",
       "        var code = IPython.notebook.insert_cell_below('code');\n",
       "        code.set_text(atob(\"IyBUZW1wCmluc2VydCgnJycKbWVuZGVzMjAwOWIgPSBEQihXb3JrVW5yZWxhdGVkKAogICAgMjAwOSwgIkludmVzdGlnYXRpbmcgdGhlIFVzZSBvZiBDaHJvbm9sb2dpY2FsIFNwbGl0dGluZyB0byBDb21wYXJlIFNvZnR3YXJlIENyb3NzLWNvbXBhbnkgYW5kIFNpbmdsZS1jb21wYW55IEVmZm9ydCBQcmVkaWN0aW9uczogQSBSZXBsaWNhdGVkIFN0dWR5LiIsCiAgICBkaXNwbGF5PSJtZW5kZXMgYiIsCiAgICBhdXRob3JzPSJNZW5kZXMsIEVtaWxpYSBhbmQgTG9rYW4sIENocmlzIiwKICAgIHBsYWNlPUVBU0UsCiAgICBlbnRyeXR5cGU9ImlucHJvY2VlZGluZ3MiLAogICAgSUQ9Im1lbmRlczIwMDlpbnZlc3RpZ2F0aW5nIiwKICAgIGNsdXN0ZXJfaWQ9IjEyMzY5NTEyODQ1MDMxMzIyNTM0IiwKICAgIHNjaG9sYXI9Imh0dHA6Ly9zY2hvbGFyLmdvb2dsZS5jb20vc2Nob2xhcj9jaXRlcz0xMjM2OTUxMjg0NTAzMTMyMjUzNCZhc19zZHQ9MjAwNSZzY2lvZHQ9MCw1JmhsPWVuIiwKKSkKCkRCKENpdGF0aW9uKAogICAgbWVuZGVzMjAwOWIsIG1lbmRlczIwMDRhLCByZWY9IiIsCiAgICBjb250ZXh0cz1bCgogICAgXSwKKSkKCicnJywgY2l0YXRpb25zPSdtZW5kZXMyMDA0YScpOw==\"));\n",
       "    "
      ],
      "text/plain": [
       "<IPython.core.display.Javascript object>"
      ]
     },
     "metadata": {},
     "output_type": "display_data"
    },
    {
     "data": {
      "application/javascript": [
       "$('span:contains(\"# Temp\")').closest('.cell').remove();"
      ],
      "text/plain": [
       "<IPython.core.display.Javascript object>"
      ]
     },
     "metadata": {},
     "output_type": "display_data"
    },
    {
     "data": {
      "application/javascript": [
       "\n",
       "        $('span:contains(\"# Temp\")').closest('.cell').remove();\n",
       "        var code = IPython.notebook.insert_cell_below('code');\n",
       "        code.set_text(atob(\"IyBUZW1wCmluc2VydCgnJycKbWVuZGVzMjAwOWIgPSBEQihXb3JrKAogICAgMjAwOSwgIkludmVzdGlnYXRpbmcgdGhlIFVzZSBvZiBDaHJvbm9sb2dpY2FsIFNwbGl0dGluZyB0byBDb21wYXJlIFNvZnR3YXJlIENyb3NzLWNvbXBhbnkgYW5kIFNpbmdsZS1jb21wYW55IEVmZm9ydCBQcmVkaWN0aW9uczogQSBSZXBsaWNhdGVkIFN0dWR5LiIsCiAgICBkaXNwbGF5PSJtZW5kZXMgYiIsCiAgICBhdXRob3JzPSJNZW5kZXMsIEVtaWxpYSBhbmQgTG9rYW4sIENocmlzIiwKICAgIHBsYWNlPUVBU0UsCiAgICBlbnRyeXR5cGU9ImlucHJvY2VlZGluZ3MiLAogICAgSUQ9Im1lbmRlczIwMDlpbnZlc3RpZ2F0aW5nIiwKICAgIGNsdXN0ZXJfaWQ9IjEyMzY5NTEyODQ1MDMxMzIyNTM0IiwKICAgIHNjaG9sYXI9Imh0dHA6Ly9zY2hvbGFyLmdvb2dsZS5jb20vc2Nob2xhcj9jaXRlcz0xMjM2OTUxMjg0NTAzMTMyMjUzNCZhc19zZHQ9MjAwNSZzY2lvZHQ9MCw1JmhsPWVuIiwKKSkKCkRCKENpdGF0aW9uKAogICAgbWVuZGVzMjAwOWIsIG1lbmRlczIwMDRhLCByZWY9IiIsCiAgICBjb250ZXh0cz1bCgogICAgXSwKKSkKCicnJywgY2l0YXRpb25zPSdtZW5kZXMyMDA0YScpOw==\"));\n",
       "    "
      ],
      "text/plain": [
       "<IPython.core.display.Javascript object>"
      ]
     },
     "metadata": {},
     "output_type": "display_data"
    },
    {
     "data": {
      "application/javascript": [
       "$('span:contains(\"# Temp\")').closest('.cell').remove();"
      ],
      "text/plain": [
       "<IPython.core.display.Javascript object>"
      ]
     },
     "metadata": {},
     "output_type": "display_data"
    },
    {
     "data": {
      "application/javascript": [
       "\n",
       "        $('span:contains(\"# Temp\")').closest('.cell').remove();\n",
       "        var code = IPython.notebook.insert_cell_below('code');\n",
       "        code.set_text(atob(\"IyBUZW1wCmluc2VydCgnJycKbWVuZGVzMjAwOWIgPSBEQihXb3JrVW5yZWxhdGVkKAogICAgMjAwOSwgIkludmVzdGlnYXRpbmcgdGhlIFVzZSBvZiBDaHJvbm9sb2dpY2FsIFNwbGl0dGluZyB0byBDb21wYXJlIFNvZnR3YXJlIENyb3NzLWNvbXBhbnkgYW5kIFNpbmdsZS1jb21wYW55IEVmZm9ydCBQcmVkaWN0aW9uczogQSBSZXBsaWNhdGVkIFN0dWR5LiIsCiAgICBkaXNwbGF5PSJtZW5kZXMgYiIsCiAgICBhdXRob3JzPSJNZW5kZXMsIEVtaWxpYSBhbmQgTG9rYW4sIENocmlzIiwKICAgIHBsYWNlPUVBU0UsCiAgICBlbnRyeXR5cGU9ImlucHJvY2VlZGluZ3MiLAogICAgSUQ9Im1lbmRlczIwMDlpbnZlc3RpZ2F0aW5nIiwKICAgIGNsdXN0ZXJfaWQ9IjEyMzY5NTEyODQ1MDMxMzIyNTM0IiwKICAgIHNjaG9sYXI9Imh0dHA6Ly9zY2hvbGFyLmdvb2dsZS5jb20vc2Nob2xhcj9jaXRlcz0xMjM2OTUxMjg0NTAzMTMyMjUzNCZhc19zZHQ9MjAwNSZzY2lvZHQ9MCw1JmhsPWVuIiwKKSkKCkRCKENpdGF0aW9uKAogICAgbWVuZGVzMjAwOWIsIG1lbmRlczIwMDRhLCByZWY9IiIsCiAgICBjb250ZXh0cz1bCgogICAgXSwKKSkKCicnJywgY2l0YXRpb25zPSdtZW5kZXMyMDA0YScpOw==\"));\n",
       "    "
      ],
      "text/plain": [
       "<IPython.core.display.Javascript object>"
      ]
     },
     "metadata": {},
     "output_type": "display_data"
    },
    {
     "data": {
      "application/javascript": [
       "$('span:contains(\"# Temp\")').closest('.cell').remove();"
      ],
      "text/plain": [
       "<IPython.core.display.Javascript object>"
      ]
     },
     "metadata": {},
     "output_type": "display_data"
    },
    {
     "data": {
      "application/javascript": [
       "\n",
       "        $('span:contains(\"# Temp\")').closest('.cell').remove();\n",
       "        var code = IPython.notebook.insert_cell_below('code');\n",
       "        code.set_text(atob(\"IyBUZW1wCmluc2VydCgnJycKYXpoYXIyMDEzYSA9IERCKFdvcmtVbnJlbGF0ZWQoCiAgICAyMDEzLCAiVXNpbmcgZW5zZW1ibGVzIGZvciB3ZWIgZWZmb3J0IGVzdGltYXRpb24iLAogICAgZGlzcGxheT0iYXpoYXIiLAogICAgYXV0aG9ycz0iQXpoYXIsIERhbWlyIGFuZCBSaWRkbGUsIFBhdHJpY2lhIGFuZCBNZW5kZXMsIEVtaWxpYSBhbmQgTWl0dGFzLCBOaWtvbGFvcyBhbmQgQW5nZWxpcywgTGVmdGVyaXMiLAogICAgcGxhY2U9RVNFTSwKICAgIHBwPSIxNzMtLTE4MiIsCiAgICBlbnRyeXR5cGU9ImlucHJvY2VlZGluZ3MiLAogICAgb3JnYW5pemF0aW9uPSJJRUVFIiwKICAgIElEPSJhemhhcjIwMTN1c2luZyIsCiAgICBjbHVzdGVyX2lkPSI3MDk2MTg3MjEzMTQxOTA5ODU1IiwKICAgIHNjaG9sYXI9Imh0dHA6Ly9zY2hvbGFyLmdvb2dsZS5jb20vc2Nob2xhcj9jaXRlcz03MDk2MTg3MjEzMTQxOTA5ODU1JmFzX3NkdD0yMDA1JnNjaW9kdD0wLDUmaGw9ZW4iLAopKQoKREIoQ2l0YXRpb24oCiAgICBhemhhcjIwMTNhLCBtZW5kZXMyMDA0YSwgcmVmPSIiLAogICAgY29udGV4dHM9WwoKICAgIF0sCikpCgonJycsIGNpdGF0aW9ucz0nbWVuZGVzMjAwNGEnKTs=\"));\n",
       "    "
      ],
      "text/plain": [
       "<IPython.core.display.Javascript object>"
      ]
     },
     "metadata": {},
     "output_type": "display_data"
    },
    {
     "data": {
      "application/javascript": [
       "$('span:contains(\"# Temp\")').closest('.cell').remove();"
      ],
      "text/plain": [
       "<IPython.core.display.Javascript object>"
      ]
     },
     "metadata": {},
     "output_type": "display_data"
    },
    {
     "data": {
      "application/javascript": [
       "\n",
       "        $('span:contains(\"# Temp\")').closest('.cell').remove();\n",
       "        var code = IPython.notebook.insert_cell_below('code');\n",
       "        code.set_text(atob(\"IyBUZW1wCmluc2VydCgnJycKYXpoYXIyMDEzYSA9IERCKFdvcmsoCiAgICAyMDEzLCAiVXNpbmcgZW5zZW1ibGVzIGZvciB3ZWIgZWZmb3J0IGVzdGltYXRpb24iLAogICAgZGlzcGxheT0iYXpoYXIiLAogICAgYXV0aG9ycz0iQXpoYXIsIERhbWlyIGFuZCBSaWRkbGUsIFBhdHJpY2lhIGFuZCBNZW5kZXMsIEVtaWxpYSBhbmQgTWl0dGFzLCBOaWtvbGFvcyBhbmQgQW5nZWxpcywgTGVmdGVyaXMiLAogICAgcGxhY2U9RVNFTSwKICAgIHBwPSIxNzMtLTE4MiIsCiAgICBlbnRyeXR5cGU9ImlucHJvY2VlZGluZ3MiLAogICAgb3JnYW5pemF0aW9uPSJJRUVFIiwKICAgIElEPSJhemhhcjIwMTN1c2luZyIsCiAgICBjbHVzdGVyX2lkPSI3MDk2MTg3MjEzMTQxOTA5ODU1IiwKICAgIHNjaG9sYXI9Imh0dHA6Ly9zY2hvbGFyLmdvb2dsZS5jb20vc2Nob2xhcj9jaXRlcz03MDk2MTg3MjEzMTQxOTA5ODU1JmFzX3NkdD0yMDA1JnNjaW9kdD0wLDUmaGw9ZW4iLAopKQoKREIoQ2l0YXRpb24oCiAgICBhemhhcjIwMTNhLCBtZW5kZXMyMDA0YSwgcmVmPSIiLAogICAgY29udGV4dHM9WwoKICAgIF0sCikpCgonJycsIGNpdGF0aW9ucz0nbWVuZGVzMjAwNGEnKTs=\"));\n",
       "    "
      ],
      "text/plain": [
       "<IPython.core.display.Javascript object>"
      ]
     },
     "metadata": {},
     "output_type": "display_data"
    },
    {
     "data": {
      "application/javascript": [
       "$('span:contains(\"# Temp\")').closest('.cell').remove();"
      ],
      "text/plain": [
       "<IPython.core.display.Javascript object>"
      ]
     },
     "metadata": {},
     "output_type": "display_data"
    },
    {
     "data": {
      "application/javascript": [
       "\n",
       "        $('span:contains(\"# Temp\")').closest('.cell').remove();\n",
       "        var code = IPython.notebook.insert_cell_below('code');\n",
       "        code.set_text(atob(\"IyBUZW1wCmluc2VydCgnJycKYXpoYXIyMDEzYSA9IERCKFdvcmtVbnJlbGF0ZWQoCiAgICAyMDEzLCAiVXNpbmcgZW5zZW1ibGVzIGZvciB3ZWIgZWZmb3J0IGVzdGltYXRpb24iLAogICAgZGlzcGxheT0iYXpoYXIiLAogICAgYXV0aG9ycz0iQXpoYXIsIERhbWlyIGFuZCBSaWRkbGUsIFBhdHJpY2lhIGFuZCBNZW5kZXMsIEVtaWxpYSBhbmQgTWl0dGFzLCBOaWtvbGFvcyBhbmQgQW5nZWxpcywgTGVmdGVyaXMiLAogICAgcGxhY2U9RVNFTSwKICAgIHBwPSIxNzMtLTE4MiIsCiAgICBlbnRyeXR5cGU9ImlucHJvY2VlZGluZ3MiLAogICAgb3JnYW5pemF0aW9uPSJJRUVFIiwKICAgIElEPSJhemhhcjIwMTN1c2luZyIsCiAgICBjbHVzdGVyX2lkPSI3MDk2MTg3MjEzMTQxOTA5ODU1IiwKICAgIHNjaG9sYXI9Imh0dHA6Ly9zY2hvbGFyLmdvb2dsZS5jb20vc2Nob2xhcj9jaXRlcz03MDk2MTg3MjEzMTQxOTA5ODU1JmFzX3NkdD0yMDA1JnNjaW9kdD0wLDUmaGw9ZW4iLAopKQoKREIoQ2l0YXRpb24oCiAgICBhemhhcjIwMTNhLCBtZW5kZXMyMDA0YSwgcmVmPSIiLAogICAgY29udGV4dHM9WwoKICAgIF0sCikpCgonJycsIGNpdGF0aW9ucz0nbWVuZGVzMjAwNGEnKTs=\"));\n",
       "    "
      ],
      "text/plain": [
       "<IPython.core.display.Javascript object>"
      ]
     },
     "metadata": {},
     "output_type": "display_data"
    },
    {
     "data": {
      "application/javascript": [
       "$('span:contains(\"# Temp\")').closest('.cell').remove();"
      ],
      "text/plain": [
       "<IPython.core.display.Javascript object>"
      ]
     },
     "metadata": {},
     "output_type": "display_data"
    },
    {
     "data": {
      "application/javascript": [
       "\n",
       "        $('span:contains(\"# Temp\")').closest('.cell').remove();\n",
       "        var code = IPython.notebook.insert_cell_below('code');\n",
       "        code.set_text(atob(\"IyBUZW1wCmluc2VydCgnJycKaHVhbmcyMDA4YSA9IERCKFdvcmtVbnJlbGF0ZWQoCiAgICAyMDA4LCAiQSBjb21wYXJhdGl2ZSBldmFsdWF0aW9uIG9uIHRoZSBhY2N1cmFjaWVzIG9mIHNvZnR3YXJlIGVmZm9ydCBlc3RpbWF0ZXMgZnJvbSBjbHVzdGVyZWQgZGF0YSIsCiAgICBkaXNwbGF5PSJodWFuZyIsCiAgICBhdXRob3JzPSJIdWFuZywgU3VuLUplbiBhbmQgQ2hpdSwgTmFuLUhzaW5nIGFuZCBMaXUsIFl1LUplbiIsCiAgICBwbGFjZT1JU1QsCiAgICBwcD0iODc5LS04ODgiLAogICAgZW50cnl0eXBlPSJhcnRpY2xlIiwKICAgIHZvbHVtZT0iNTAiLAogICAgbnVtYmVyPSI5IiwKICAgIHB1Ymxpc2hlcj0iRWxzZXZpZXIiLAogICAgSUQ9Imh1YW5nMjAwOGNvbXBhcmF0aXZlIiwKICAgIGNsdXN0ZXJfaWQ9IjEzMDAwODc3MzcyMjg5MzM2NjEzIiwKICAgIHNjaG9sYXI9Imh0dHA6Ly9zY2hvbGFyLmdvb2dsZS5jb20vc2Nob2xhcj9jaXRlcz0xMzAwMDg3NzM3MjI4OTMzNjYxMyZhc19zZHQ9MjAwNSZzY2lvZHQ9MCw1JmhsPWVuIiwKKSkKCkRCKENpdGF0aW9uKAogICAgaHVhbmcyMDA4YSwgbWVuZGVzMjAwNGEsIHJlZj0iIiwKICAgIGNvbnRleHRzPVsKCiAgICBdLAopKQoKJycnLCBjaXRhdGlvbnM9J21lbmRlczIwMDRhJyk7\"));\n",
       "    "
      ],
      "text/plain": [
       "<IPython.core.display.Javascript object>"
      ]
     },
     "metadata": {},
     "output_type": "display_data"
    },
    {
     "data": {
      "application/javascript": [
       "$('span:contains(\"# Temp\")').closest('.cell').remove();"
      ],
      "text/plain": [
       "<IPython.core.display.Javascript object>"
      ]
     },
     "metadata": {},
     "output_type": "display_data"
    },
    {
     "data": {
      "application/javascript": [
       "\n",
       "        $('span:contains(\"# Temp\")').closest('.cell').remove();\n",
       "        var code = IPython.notebook.insert_cell_below('code');\n",
       "        code.set_text(atob(\"IyBUZW1wCmluc2VydCgnJycKZmVycnVjY2kyMDA5YSA9IERCKFdvcmtVbnJlbGF0ZWQoCiAgICAyMDA5LCAiRXN0aW1hdGluZyBXZWIgYXBwbGljYXRpb24gZGV2ZWxvcG1lbnQgZWZmb3J0IHVzaW5nIFdlYi1DT0JSQSBhbmQgQ09TTUlDOiBhbiBlbXBpcmljYWwgc3R1ZHkiLAogICAgZGlzcGxheT0iZmVycnVjY2kiLAogICAgYXV0aG9ycz0iRmVycnVjY2ksIEZpbG9tZW5hIGFuZCBHcmF2aW5vLCBDYXJtaW5lIGFuZCBEaSBNYXJ0aW5vLCBTZXJnaW8iLAogICAgcGxhY2U9U0VBQSwKICAgIHBwPSIzMDYtLTMxMiIsCiAgICBlbnRyeXR5cGU9ImlucHJvY2VlZGluZ3MiLAogICAgb3JnYW5pemF0aW9uPSJJRUVFIiwKICAgIElEPSJmZXJydWNjaTIwMDllc3RpbWF0aW5nIiwKICAgIGNsdXN0ZXJfaWQ9IjI4Njc4ODk1ODgyOTAyNDgyOTIiLAogICAgc2Nob2xhcj0iaHR0cDovL3NjaG9sYXIuZ29vZ2xlLmNvbS9zY2hvbGFyP2NpdGVzPTI4Njc4ODk1ODgyOTAyNDgyOTImYXNfc2R0PTIwMDUmc2Npb2R0PTAsNSZobD1lbiIsCikpCgpEQihDaXRhdGlvbigKICAgIGZlcnJ1Y2NpMjAwOWEsIG1lbmRlczIwMDRhLCByZWY9IiIsCiAgICBjb250ZXh0cz1bCgogICAgXSwKKSkKCicnJywgY2l0YXRpb25zPSdtZW5kZXMyMDA0YScpOw==\"));\n",
       "    "
      ],
      "text/plain": [
       "<IPython.core.display.Javascript object>"
      ]
     },
     "metadata": {},
     "output_type": "display_data"
    },
    {
     "data": {
      "application/javascript": [
       "$('span:contains(\"# Temp\")').closest('.cell').remove();"
      ],
      "text/plain": [
       "<IPython.core.display.Javascript object>"
      ]
     },
     "metadata": {},
     "output_type": "display_data"
    },
    {
     "data": {
      "application/javascript": [
       "\n",
       "        $('span:contains(\"# Temp\")').closest('.cell').remove();\n",
       "        var code = IPython.notebook.insert_cell_below('code');\n",
       "        code.set_text(atob(\"IyBUZW1wCmluc2VydCgnJycKZmVycnVjY2kyMDA5YSA9IERCKFdvcmsoCiAgICAyMDA5LCAiRXN0aW1hdGluZyBXZWIgYXBwbGljYXRpb24gZGV2ZWxvcG1lbnQgZWZmb3J0IHVzaW5nIFdlYi1DT0JSQSBhbmQgQ09TTUlDOiBhbiBlbXBpcmljYWwgc3R1ZHkiLAogICAgZGlzcGxheT0iZmVycnVjY2kiLAogICAgYXV0aG9ycz0iRmVycnVjY2ksIEZpbG9tZW5hIGFuZCBHcmF2aW5vLCBDYXJtaW5lIGFuZCBEaSBNYXJ0aW5vLCBTZXJnaW8iLAogICAgcGxhY2U9U0VBQSwKICAgIHBwPSIzMDYtLTMxMiIsCiAgICBlbnRyeXR5cGU9ImlucHJvY2VlZGluZ3MiLAogICAgb3JnYW5pemF0aW9uPSJJRUVFIiwKICAgIElEPSJmZXJydWNjaTIwMDllc3RpbWF0aW5nIiwKICAgIGNsdXN0ZXJfaWQ9IjI4Njc4ODk1ODgyOTAyNDgyOTIiLAogICAgc2Nob2xhcj0iaHR0cDovL3NjaG9sYXIuZ29vZ2xlLmNvbS9zY2hvbGFyP2NpdGVzPTI4Njc4ODk1ODgyOTAyNDgyOTImYXNfc2R0PTIwMDUmc2Npb2R0PTAsNSZobD1lbiIsCikpCgpEQihDaXRhdGlvbigKICAgIGZlcnJ1Y2NpMjAwOWEsIG1lbmRlczIwMDRhLCByZWY9IiIsCiAgICBjb250ZXh0cz1bCgogICAgXSwKKSkKCicnJywgY2l0YXRpb25zPSdtZW5kZXMyMDA0YScpOw==\"));\n",
       "    "
      ],
      "text/plain": [
       "<IPython.core.display.Javascript object>"
      ]
     },
     "metadata": {},
     "output_type": "display_data"
    },
    {
     "data": {
      "application/javascript": [
       "$('span:contains(\"# Temp\")').closest('.cell').remove();"
      ],
      "text/plain": [
       "<IPython.core.display.Javascript object>"
      ]
     },
     "metadata": {},
     "output_type": "display_data"
    },
    {
     "data": {
      "application/javascript": [
       "\n",
       "        $('span:contains(\"# Temp\")').closest('.cell').remove();\n",
       "        var code = IPython.notebook.insert_cell_below('code');\n",
       "        code.set_text(atob(\"IyBUZW1wCmluc2VydCgnJycKZmVycnVjY2kyMDA5YSA9IERCKFdvcmtVbnJlbGF0ZWQoCiAgICAyMDA5LCAiRXN0aW1hdGluZyBXZWIgYXBwbGljYXRpb24gZGV2ZWxvcG1lbnQgZWZmb3J0IHVzaW5nIFdlYi1DT0JSQSBhbmQgQ09TTUlDOiBhbiBlbXBpcmljYWwgc3R1ZHkiLAogICAgZGlzcGxheT0iZmVycnVjY2kiLAogICAgYXV0aG9ycz0iRmVycnVjY2ksIEZpbG9tZW5hIGFuZCBHcmF2aW5vLCBDYXJtaW5lIGFuZCBEaSBNYXJ0aW5vLCBTZXJnaW8iLAogICAgcGxhY2U9U0VBQSwKICAgIHBwPSIzMDYtLTMxMiIsCiAgICBlbnRyeXR5cGU9ImlucHJvY2VlZGluZ3MiLAogICAgb3JnYW5pemF0aW9uPSJJRUVFIiwKICAgIElEPSJmZXJydWNjaTIwMDllc3RpbWF0aW5nIiwKICAgIGNsdXN0ZXJfaWQ9IjI4Njc4ODk1ODgyOTAyNDgyOTIiLAogICAgc2Nob2xhcj0iaHR0cDovL3NjaG9sYXIuZ29vZ2xlLmNvbS9zY2hvbGFyP2NpdGVzPTI4Njc4ODk1ODgyOTAyNDgyOTImYXNfc2R0PTIwMDUmc2Npb2R0PTAsNSZobD1lbiIsCikpCgpEQihDaXRhdGlvbigKICAgIGZlcnJ1Y2NpMjAwOWEsIG1lbmRlczIwMDRhLCByZWY9IiIsCiAgICBjb250ZXh0cz1bCgogICAgXSwKKSkKCicnJywgY2l0YXRpb25zPSdtZW5kZXMyMDA0YScpOw==\"));\n",
       "    "
      ],
      "text/plain": [
       "<IPython.core.display.Javascript object>"
      ]
     },
     "metadata": {},
     "output_type": "display_data"
    },
    {
     "data": {
      "application/javascript": [
       "$('span:contains(\"# Temp\")').closest('.cell').remove();"
      ],
      "text/plain": [
       "<IPython.core.display.Javascript object>"
      ]
     },
     "metadata": {},
     "output_type": "display_data"
    },
    {
     "data": {
      "application/javascript": [
       "\n",
       "        $('span:contains(\"# Temp\")').closest('.cell').remove();\n",
       "        var code = IPython.notebook.insert_cell_below('code');\n",
       "        code.set_text(atob(\"IyBUZW1wCmluc2VydCgnJycKbG9rYW4yMDA4YSA9IERCKFdvcmtVbnJlbGF0ZWQoCiAgICAyMDA4LCAiSW52ZXN0aWdhdGluZyB0aGUgVXNlIG9mIENocm9ub2xvZ2ljYWwgU3BsaXR0aW5nIHRvIENvbXBhcmUgU29mdHdhcmUgQ3Jvc3MtY29tcGFueSBhbmQgU2luZ2xlLWNvbXBhbnkgRWZmb3J0IFByZWRpY3Rpb25zLiIsCiAgICBkaXNwbGF5PSJsb2thbiIsCiAgICBhdXRob3JzPSJMb2thbiwgQ2hyaXMgYW5kIE1lbmRlcywgRW1pbGlhIiwKICAgIHBsYWNlPUVBU0UsCiAgICBlbnRyeXR5cGU9ImlucHJvY2VlZGluZ3MiLAogICAgSUQ9Imxva2FuMjAwOGludmVzdGlnYXRpbmciLAogICAgY2x1c3Rlcl9pZD0iNTY2MzA3ODc5MjQ3ODc0NzM0NSIsCiAgICBzY2hvbGFyPSJodHRwOi8vc2Nob2xhci5nb29nbGUuY29tL3NjaG9sYXI/Y2l0ZXM9NTY2MzA3ODc5MjQ3ODc0NzM0NSZhc19zZHQ9MjAwNSZzY2lvZHQ9MCw1JmhsPWVuIiwKKSkKCkRCKENpdGF0aW9uKAogICAgbG9rYW4yMDA4YSwgbWVuZGVzMjAwNGEsIHJlZj0iIiwKICAgIGNvbnRleHRzPVsKCiAgICBdLAopKQoKJycnLCBjaXRhdGlvbnM9J21lbmRlczIwMDRhJyk7\"));\n",
       "    "
      ],
      "text/plain": [
       "<IPython.core.display.Javascript object>"
      ]
     },
     "metadata": {},
     "output_type": "display_data"
    },
    {
     "data": {
      "application/javascript": [
       "$('span:contains(\"# Temp\")').closest('.cell').remove();"
      ],
      "text/plain": [
       "<IPython.core.display.Javascript object>"
      ]
     },
     "metadata": {},
     "output_type": "display_data"
    },
    {
     "data": {
      "application/javascript": [
       "\n",
       "        $('span:contains(\"# Temp\")').closest('.cell').remove();\n",
       "        var code = IPython.notebook.insert_cell_below('code');\n",
       "        code.set_text(atob(\"IyBUZW1wCmluc2VydCgnJycKbG9rYW4yMDA4YSA9IERCKFdvcmsoCiAgICAyMDA4LCAiSW52ZXN0aWdhdGluZyB0aGUgVXNlIG9mIENocm9ub2xvZ2ljYWwgU3BsaXR0aW5nIHRvIENvbXBhcmUgU29mdHdhcmUgQ3Jvc3MtY29tcGFueSBhbmQgU2luZ2xlLWNvbXBhbnkgRWZmb3J0IFByZWRpY3Rpb25zLiIsCiAgICBkaXNwbGF5PSJsb2thbiIsCiAgICBhdXRob3JzPSJMb2thbiwgQ2hyaXMgYW5kIE1lbmRlcywgRW1pbGlhIiwKICAgIHBsYWNlPUVBU0UsCiAgICBlbnRyeXR5cGU9ImlucHJvY2VlZGluZ3MiLAogICAgSUQ9Imxva2FuMjAwOGludmVzdGlnYXRpbmciLAogICAgY2x1c3Rlcl9pZD0iNTY2MzA3ODc5MjQ3ODc0NzM0NSIsCiAgICBzY2hvbGFyPSJodHRwOi8vc2Nob2xhci5nb29nbGUuY29tL3NjaG9sYXI/Y2l0ZXM9NTY2MzA3ODc5MjQ3ODc0NzM0NSZhc19zZHQ9MjAwNSZzY2lvZHQ9MCw1JmhsPWVuIiwKKSkKCkRCKENpdGF0aW9uKAogICAgbG9rYW4yMDA4YSwgbWVuZGVzMjAwNGEsIHJlZj0iIiwKICAgIGNvbnRleHRzPVsKCiAgICBdLAopKQoKJycnLCBjaXRhdGlvbnM9J21lbmRlczIwMDRhJyk7\"));\n",
       "    "
      ],
      "text/plain": [
       "<IPython.core.display.Javascript object>"
      ]
     },
     "metadata": {},
     "output_type": "display_data"
    },
    {
     "data": {
      "application/javascript": [
       "$('span:contains(\"# Temp\")').closest('.cell').remove();"
      ],
      "text/plain": [
       "<IPython.core.display.Javascript object>"
      ]
     },
     "metadata": {},
     "output_type": "display_data"
    },
    {
     "data": {
      "application/javascript": [
       "$('span:contains(\"# Temp\")').closest('.cell').remove();"
      ],
      "text/plain": [
       "<IPython.core.display.Javascript object>"
      ]
     },
     "metadata": {},
     "output_type": "display_data"
    },
    {
     "data": {
      "application/javascript": [
       "$('span:contains(\"# Temp\")').closest('.cell').remove();"
      ],
      "text/plain": [
       "<IPython.core.display.Javascript object>"
      ]
     },
     "metadata": {},
     "output_type": "display_data"
    },
    {
     "data": {
      "application/javascript": [
       "\n",
       "        $('span:contains(\"# Temp\")').closest('.cell').remove();\n",
       "        var code = IPython.notebook.insert_cell_below('code');\n",
       "        code.set_text(atob(\"IyBUZW1wCmluc2VydCgnJycKbG9rYW4yMDA4YSA9IERCKFdvcmsoCiAgICAyMDA4LCAiSW52ZXN0aWdhdGluZyB0aGUgVXNlIG9mIENocm9ub2xvZ2ljYWwgU3BsaXR0aW5nIHRvIENvbXBhcmUgU29mdHdhcmUgQ3Jvc3MtY29tcGFueSBhbmQgU2luZ2xlLWNvbXBhbnkgRWZmb3J0IFByZWRpY3Rpb25zLiIsCiAgICBkaXNwbGF5PSJsb2thbiIsCiAgICBhdXRob3JzPSJMb2thbiwgQ2hyaXMgYW5kIE1lbmRlcywgRW1pbGlhIiwKICAgIHBsYWNlPUVBU0UsCiAgICBlbnRyeXR5cGU9ImlucHJvY2VlZGluZ3MiLAogICAgSUQ9Imxva2FuMjAwOGludmVzdGlnYXRpbmciLAogICAgY2x1c3Rlcl9pZD0iNTY2MzA3ODc5MjQ3ODc0NzM0NSIsCiAgICBzY2hvbGFyPSJodHRwOi8vc2Nob2xhci5nb29nbGUuY29tL3NjaG9sYXI/Y2l0ZXM9NTY2MzA3ODc5MjQ3ODc0NzM0NSZhc19zZHQ9MjAwNSZzY2lvZHQ9MCw1JmhsPWVuIiwKKSkKCkRCKENpdGF0aW9uKAogICAgbG9rYW4yMDA4YSwgbWVuZGVzMjAwNGEsIHJlZj0iIiwKICAgIGNvbnRleHRzPVsKCiAgICBdLAopKQoKJycnLCBjaXRhdGlvbnM9J21lbmRlczIwMDRhJyk7\"));\n",
       "    "
      ],
      "text/plain": [
       "<IPython.core.display.Javascript object>"
      ]
     },
     "metadata": {},
     "output_type": "display_data"
    },
    {
     "data": {
      "application/javascript": [
       "$('span:contains(\"# Temp\")').closest('.cell').remove();"
      ],
      "text/plain": [
       "<IPython.core.display.Javascript object>"
      ]
     },
     "metadata": {},
     "output_type": "display_data"
    },
    {
     "data": {
      "application/javascript": [
       "\n",
       "        $('span:contains(\"# Temp\")').closest('.cell').remove();\n",
       "        var code = IPython.notebook.insert_cell_below('code');\n",
       "        code.set_text(atob(\"IyBUZW1wCmluc2VydCgnJycKbG9rYW4yMDA4YSA9IERCKFdvcmsoCiAgICAyMDA4LCAiSW52ZXN0aWdhdGluZyB0aGUgVXNlIG9mIENocm9ub2xvZ2ljYWwgU3BsaXR0aW5nIHRvIENvbXBhcmUgU29mdHdhcmUgQ3Jvc3MtY29tcGFueSBhbmQgU2luZ2xlLWNvbXBhbnkgRWZmb3J0IFByZWRpY3Rpb25zLiIsCiAgICBkaXNwbGF5PSJsb2thbiIsCiAgICBhdXRob3JzPSJMb2thbiwgQ2hyaXMgYW5kIE1lbmRlcywgRW1pbGlhIiwKICAgIHBsYWNlPUVBU0UsCiAgICBlbnRyeXR5cGU9ImlucHJvY2VlZGluZ3MiLAogICAgSUQ9Imxva2FuMjAwOGludmVzdGlnYXRpbmciLAogICAgY2x1c3Rlcl9pZD0iNTY2MzA3ODc5MjQ3ODc0NzM0NSIsCiAgICBzY2hvbGFyPSJodHRwOi8vc2Nob2xhci5nb29nbGUuY29tL3NjaG9sYXI/Y2l0ZXM9NTY2MzA3ODc5MjQ3ODc0NzM0NSZhc19zZHQ9MjAwNSZzY2lvZHQ9MCw1JmhsPWVuIiwKKSkKCkRCKENpdGF0aW9uKAogICAgbG9rYW4yMDA4YSwgbWVuZGVzMjAwNGEsIHJlZj0iIiwKICAgIGNvbnRleHRzPVsKCiAgICBdLAopKQoKJycnLCBjaXRhdGlvbnM9J21lbmRlczIwMDRhJyk7\"));\n",
       "    "
      ],
      "text/plain": [
       "<IPython.core.display.Javascript object>"
      ]
     },
     "metadata": {},
     "output_type": "display_data"
    },
    {
     "data": {
      "application/javascript": [
       "$('span:contains(\"# Temp\")').closest('.cell').remove();"
      ],
      "text/plain": [
       "<IPython.core.display.Javascript object>"
      ]
     },
     "metadata": {},
     "output_type": "display_data"
    },
    {
     "data": {
      "application/javascript": [
       "\n",
       "        $('span:contains(\"# Temp\")').closest('.cell').remove();\n",
       "        var code = IPython.notebook.insert_cell_below('code');\n",
       "        code.set_text(atob(\"IyBUZW1wCmluc2VydCgnJycKbG9rYW4yMDA4YSA9IERCKFdvcmtVbnJlbGF0ZWQoCiAgICAyMDA4LCAiSW52ZXN0aWdhdGluZyB0aGUgVXNlIG9mIENocm9ub2xvZ2ljYWwgU3BsaXR0aW5nIHRvIENvbXBhcmUgU29mdHdhcmUgQ3Jvc3MtY29tcGFueSBhbmQgU2luZ2xlLWNvbXBhbnkgRWZmb3J0IFByZWRpY3Rpb25zLiIsCiAgICBkaXNwbGF5PSJsb2thbiIsCiAgICBhdXRob3JzPSJMb2thbiwgQ2hyaXMgYW5kIE1lbmRlcywgRW1pbGlhIiwKICAgIHBsYWNlPUVBU0UsCiAgICBlbnRyeXR5cGU9ImlucHJvY2VlZGluZ3MiLAogICAgSUQ9Imxva2FuMjAwOGludmVzdGlnYXRpbmciLAogICAgY2x1c3Rlcl9pZD0iNTY2MzA3ODc5MjQ3ODc0NzM0NSIsCiAgICBzY2hvbGFyPSJodHRwOi8vc2Nob2xhci5nb29nbGUuY29tL3NjaG9sYXI/Y2l0ZXM9NTY2MzA3ODc5MjQ3ODc0NzM0NSZhc19zZHQ9MjAwNSZzY2lvZHQ9MCw1JmhsPWVuIiwKKSkKCkRCKENpdGF0aW9uKAogICAgbG9rYW4yMDA4YSwgbWVuZGVzMjAwNGEsIHJlZj0iIiwKICAgIGNvbnRleHRzPVsKCiAgICBdLAopKQoKJycnLCBjaXRhdGlvbnM9J21lbmRlczIwMDRhJyk7\"));\n",
       "    "
      ],
      "text/plain": [
       "<IPython.core.display.Javascript object>"
      ]
     },
     "metadata": {},
     "output_type": "display_data"
    },
    {
     "data": {
      "application/javascript": [
       "$('span:contains(\"# Temp\")').closest('.cell').remove();"
      ],
      "text/plain": [
       "<IPython.core.display.Javascript object>"
      ]
     },
     "metadata": {},
     "output_type": "display_data"
    },
    {
     "data": {
      "application/javascript": [
       "\n",
       "        $('span:contains(\"# Temp\")').closest('.cell').remove();\n",
       "        var code = IPython.notebook.insert_cell_below('code');\n",
       "        code.set_text(atob(\"IyBUZW1wCmluc2VydCgnJycKZmVycnVjY2kyMDEwYiA9IERCKFdvcmtVbnJlbGF0ZWQoCiAgICAyMDEwLCAiSW52ZXN0aWdhdGluZyB0YWJ1IHNlYXJjaCBmb3Igd2ViIGVmZm9ydCBlc3RpbWF0aW9uIiwKICAgIGRpc3BsYXk9ImZlcnJ1Y2NpIGIiLAogICAgYXV0aG9ycz0iRmVycnVjY2ksIEZpbG9tZW5hIGFuZCBHcmF2aW5vLCBDYXJtaW5lIGFuZCBPbGl2ZXRvLCBSb2NjbyBhbmQgU2Fycm8sIEZlZGVyaWNhIGFuZCBNZW5kZXMsIEVtaWxpYSIsCiAgICBwbGFjZT1TRUFBLAogICAgcHA9IjM1MC0tMzU3IiwKICAgIGVudHJ5dHlwZT0iaW5wcm9jZWVkaW5ncyIsCiAgICBvcmdhbml6YXRpb249IklFRUUiLAogICAgSUQ9ImZlcnJ1Y2NpMjAxMGludmVzdGlnYXRpbmciLAogICAgY2x1c3Rlcl9pZD0iMTQ2MzQ4NTUxMzUzMDY5NjIzODciLAogICAgc2Nob2xhcj0iaHR0cDovL3NjaG9sYXIuZ29vZ2xlLmNvbS9zY2hvbGFyP2NpdGVzPTE0NjM0ODU1MTM1MzA2OTYyMzg3JmFzX3NkdD0yMDA1JnNjaW9kdD0wLDUmaGw9ZW4iLAopKQoKREIoQ2l0YXRpb24oCiAgICBmZXJydWNjaTIwMTBiLCBtZW5kZXMyMDA0YSwgcmVmPSIiLAogICAgY29udGV4dHM9WwoKICAgIF0sCikpCgonJycsIGNpdGF0aW9ucz0nbWVuZGVzMjAwNGEnKTs=\"));\n",
       "    "
      ],
      "text/plain": [
       "<IPython.core.display.Javascript object>"
      ]
     },
     "metadata": {},
     "output_type": "display_data"
    },
    {
     "data": {
      "application/javascript": [
       "$('span:contains(\"# Temp\")').closest('.cell').remove();"
      ],
      "text/plain": [
       "<IPython.core.display.Javascript object>"
      ]
     },
     "metadata": {},
     "output_type": "display_data"
    },
    {
     "data": {
      "application/javascript": [
       "\n",
       "        $('span:contains(\"# Temp\")').closest('.cell').remove();\n",
       "        var code = IPython.notebook.insert_cell_below('code');\n",
       "        code.set_text(atob(\"IyBUZW1wCmluc2VydCgnJycKZmVycnVjY2kyMDEwYiA9IERCKFdvcmsoCiAgICAyMDEwLCAiSW52ZXN0aWdhdGluZyB0YWJ1IHNlYXJjaCBmb3Igd2ViIGVmZm9ydCBlc3RpbWF0aW9uIiwKICAgIGRpc3BsYXk9ImZlcnJ1Y2NpIGIiLAogICAgYXV0aG9ycz0iRmVycnVjY2ksIEZpbG9tZW5hIGFuZCBHcmF2aW5vLCBDYXJtaW5lIGFuZCBPbGl2ZXRvLCBSb2NjbyBhbmQgU2Fycm8sIEZlZGVyaWNhIGFuZCBNZW5kZXMsIEVtaWxpYSIsCiAgICBwbGFjZT1TRUFBLAogICAgcHA9IjM1MC0tMzU3IiwKICAgIGVudHJ5dHlwZT0iaW5wcm9jZWVkaW5ncyIsCiAgICBvcmdhbml6YXRpb249IklFRUUiLAogICAgSUQ9ImZlcnJ1Y2NpMjAxMGludmVzdGlnYXRpbmciLAogICAgY2x1c3Rlcl9pZD0iMTQ2MzQ4NTUxMzUzMDY5NjIzODciLAogICAgc2Nob2xhcj0iaHR0cDovL3NjaG9sYXIuZ29vZ2xlLmNvbS9zY2hvbGFyP2NpdGVzPTE0NjM0ODU1MTM1MzA2OTYyMzg3JmFzX3NkdD0yMDA1JnNjaW9kdD0wLDUmaGw9ZW4iLAopKQoKREIoQ2l0YXRpb24oCiAgICBmZXJydWNjaTIwMTBiLCBtZW5kZXMyMDA0YSwgcmVmPSIiLAogICAgY29udGV4dHM9WwoKICAgIF0sCikpCgonJycsIGNpdGF0aW9ucz0nbWVuZGVzMjAwNGEnKTs=\"));\n",
       "    "
      ],
      "text/plain": [
       "<IPython.core.display.Javascript object>"
      ]
     },
     "metadata": {},
     "output_type": "display_data"
    },
    {
     "data": {
      "application/javascript": [
       "$('span:contains(\"# Temp\")').closest('.cell').remove();"
      ],
      "text/plain": [
       "<IPython.core.display.Javascript object>"
      ]
     },
     "metadata": {},
     "output_type": "display_data"
    },
    {
     "data": {
      "application/javascript": [
       "\n",
       "        $('span:contains(\"# Temp\")').closest('.cell').remove();\n",
       "        var code = IPython.notebook.insert_cell_below('code');\n",
       "        code.set_text(atob(\"IyBUZW1wCmluc2VydCgnJycKZmVycnVjY2kyMDEwYiA9IERCKFdvcmtVbnJlbGF0ZWQoCiAgICAyMDEwLCAiSW52ZXN0aWdhdGluZyB0YWJ1IHNlYXJjaCBmb3Igd2ViIGVmZm9ydCBlc3RpbWF0aW9uIiwKICAgIGRpc3BsYXk9ImZlcnJ1Y2NpIGIiLAogICAgYXV0aG9ycz0iRmVycnVjY2ksIEZpbG9tZW5hIGFuZCBHcmF2aW5vLCBDYXJtaW5lIGFuZCBPbGl2ZXRvLCBSb2NjbyBhbmQgU2Fycm8sIEZlZGVyaWNhIGFuZCBNZW5kZXMsIEVtaWxpYSIsCiAgICBwbGFjZT1TRUFBLAogICAgcHA9IjM1MC0tMzU3IiwKICAgIGVudHJ5dHlwZT0iaW5wcm9jZWVkaW5ncyIsCiAgICBvcmdhbml6YXRpb249IklFRUUiLAogICAgSUQ9ImZlcnJ1Y2NpMjAxMGludmVzdGlnYXRpbmciLAogICAgY2x1c3Rlcl9pZD0iMTQ2MzQ4NTUxMzUzMDY5NjIzODciLAogICAgc2Nob2xhcj0iaHR0cDovL3NjaG9sYXIuZ29vZ2xlLmNvbS9zY2hvbGFyP2NpdGVzPTE0NjM0ODU1MTM1MzA2OTYyMzg3JmFzX3NkdD0yMDA1JnNjaW9kdD0wLDUmaGw9ZW4iLAopKQoKREIoQ2l0YXRpb24oCiAgICBmZXJydWNjaTIwMTBiLCBtZW5kZXMyMDA0YSwgcmVmPSIiLAogICAgY29udGV4dHM9WwoKICAgIF0sCikpCgonJycsIGNpdGF0aW9ucz0nbWVuZGVzMjAwNGEnKTs=\"));\n",
       "    "
      ],
      "text/plain": [
       "<IPython.core.display.Javascript object>"
      ]
     },
     "metadata": {},
     "output_type": "display_data"
    },
    {
     "data": {
      "application/javascript": [
       "$('span:contains(\"# Temp\")').closest('.cell').remove();"
      ],
      "text/plain": [
       "<IPython.core.display.Javascript object>"
      ]
     },
     "metadata": {},
     "output_type": "display_data"
    },
    {
     "data": {
      "application/javascript": [
       "\n",
       "        $('span:contains(\"# Temp\")').closest('.cell').remove();\n",
       "        var code = IPython.notebook.insert_cell_below('code');\n",
       "        code.set_text(atob(\"IyBUZW1wCmluc2VydCgnJycKYWJyYWjjbzIwMTBhID0gREIoV29ya1VucmVsYXRlZCgKICAgIDIwMTAsICJWYWxpZGF0aW5nIGEgc2l6ZSBtZWFzdXJlIGZvciBlZmZvcnQgZXN0aW1hdGlvbiBpbiBtb2RlbC1kcml2ZW4gV2ViIGRldmVsb3BtZW50IiwKICAgIGRpc3BsYXk9ImFicmFo428iLAogICAgYXV0aG9ycz0iQWJyYWjjbywgU2lsdmlhIGFuZCBH821leiwgSmFpbWUgYW5kIEluc2ZyYW4sIEVtaWxpbyIsCiAgICBwcD0iMzkzMi0tMzk1NCIsCiAgICBwbGFjZTE9IkluZm9ybWF0aW9uIFNjaWVuY2VzIiwKICAgIGVudHJ5dHlwZT0iYXJ0aWNsZSIsCiAgICB2b2x1bWU9IjE4MCIsCiAgICBudW1iZXI9IjIwIiwKICAgIHB1Ymxpc2hlcj0iRWxzZXZpZXIiLAogICAgSUQ9ImFicmFoYW8yMDEwdmFsaWRhdGluZyIsCiAgICBjbHVzdGVyX2lkPSIxMjcxMzg1NjQ4NDkzMDg1MjYxNiIsCiAgICBzY2hvbGFyPSJodHRwOi8vc2Nob2xhci5nb29nbGUuY29tL3NjaG9sYXI/Y2l0ZXM9MTI3MTM4NTY0ODQ5MzA4NTI2MTYmYXNfc2R0PTIwMDUmc2Npb2R0PTAsNSZobD1lbiIsCikpCgpEQihDaXRhdGlvbigKICAgIGFicmFo428yMDEwYSwgbWVuZGVzMjAwNGEsIHJlZj0iIiwKICAgIGNvbnRleHRzPVsKCiAgICBdLAopKQoKJycnLCBjaXRhdGlvbnM9J21lbmRlczIwMDRhJyk7\"));\n",
       "    "
      ],
      "text/plain": [
       "<IPython.core.display.Javascript object>"
      ]
     },
     "metadata": {},
     "output_type": "display_data"
    },
    {
     "data": {
      "application/javascript": [
       "$('span:contains(\"# Temp\")').closest('.cell').remove();"
      ],
      "text/plain": [
       "<IPython.core.display.Javascript object>"
      ]
     },
     "metadata": {},
     "output_type": "display_data"
    },
    {
     "data": {
      "application/javascript": [
       "\n",
       "        $('span:contains(\"# Temp\")').closest('.cell').remove();\n",
       "        var code = IPython.notebook.insert_cell_below('code');\n",
       "        code.set_text(atob(\"IyBUZW1wCmluc2VydCgnJycKYWJyYWjjbzIwMTBhID0gREIoV29yaygKICAgIDIwMTAsICJWYWxpZGF0aW5nIGEgc2l6ZSBtZWFzdXJlIGZvciBlZmZvcnQgZXN0aW1hdGlvbiBpbiBtb2RlbC1kcml2ZW4gV2ViIGRldmVsb3BtZW50IiwKICAgIGRpc3BsYXk9ImFicmFo428iLAogICAgYXV0aG9ycz0iQWJyYWjjbywgU2lsdmlhIGFuZCBH821leiwgSmFpbWUgYW5kIEluc2ZyYW4sIEVtaWxpbyIsCiAgICBwcD0iMzkzMi0tMzk1NCIsCiAgICBwbGFjZTE9IkluZm9ybWF0aW9uIFNjaWVuY2VzIiwKICAgIGVudHJ5dHlwZT0iYXJ0aWNsZSIsCiAgICB2b2x1bWU9IjE4MCIsCiAgICBudW1iZXI9IjIwIiwKICAgIHB1Ymxpc2hlcj0iRWxzZXZpZXIiLAogICAgSUQ9ImFicmFoYW8yMDEwdmFsaWRhdGluZyIsCiAgICBjbHVzdGVyX2lkPSIxMjcxMzg1NjQ4NDkzMDg1MjYxNiIsCiAgICBzY2hvbGFyPSJodHRwOi8vc2Nob2xhci5nb29nbGUuY29tL3NjaG9sYXI/Y2l0ZXM9MTI3MTM4NTY0ODQ5MzA4NTI2MTYmYXNfc2R0PTIwMDUmc2Npb2R0PTAsNSZobD1lbiIsCikpCgpEQihDaXRhdGlvbigKICAgIGFicmFo428yMDEwYSwgbWVuZGVzMjAwNGEsIHJlZj0iIiwKICAgIGNvbnRleHRzPVsKCiAgICBdLAopKQoKJycnLCBjaXRhdGlvbnM9J21lbmRlczIwMDRhJyk7\"));\n",
       "    "
      ],
      "text/plain": [
       "<IPython.core.display.Javascript object>"
      ]
     },
     "metadata": {},
     "output_type": "display_data"
    },
    {
     "data": {
      "application/javascript": [
       "$('span:contains(\"# Temp\")').closest('.cell').remove();"
      ],
      "text/plain": [
       "<IPython.core.display.Javascript object>"
      ]
     },
     "metadata": {},
     "output_type": "display_data"
    },
    {
     "data": {
      "application/javascript": [
       "\n",
       "        $('span:contains(\"# Temp\")').closest('.cell').remove();\n",
       "        var code = IPython.notebook.insert_cell_below('code');\n",
       "        code.set_text(atob(\"IyBUZW1wCmluc2VydCgnJycKYWJyYWjjbzIwMTBhID0gREIoV29ya1VucmVsYXRlZCgKICAgIDIwMTAsICJWYWxpZGF0aW5nIGEgc2l6ZSBtZWFzdXJlIGZvciBlZmZvcnQgZXN0aW1hdGlvbiBpbiBtb2RlbC1kcml2ZW4gV2ViIGRldmVsb3BtZW50IiwKICAgIGRpc3BsYXk9ImFicmFo428iLAogICAgYXV0aG9ycz0iQWJyYWjjbywgU2lsdmlhIGFuZCBH821leiwgSmFpbWUgYW5kIEluc2ZyYW4sIEVtaWxpbyIsCiAgICBwbGFjZT1JQywKICAgIHBwPSIzOTMyLS0zOTU0IiwKICAgIGVudHJ5dHlwZT0iYXJ0aWNsZSIsCiAgICB2b2x1bWU9IjE4MCIsCiAgICBudW1iZXI9IjIwIiwKICAgIHB1Ymxpc2hlcj0iRWxzZXZpZXIiLAogICAgSUQ9ImFicmFoYW8yMDEwdmFsaWRhdGluZyIsCiAgICBjbHVzdGVyX2lkPSIxMjcxMzg1NjQ4NDkzMDg1MjYxNiIsCiAgICBzY2hvbGFyPSJodHRwOi8vc2Nob2xhci5nb29nbGUuY29tL3NjaG9sYXI/Y2l0ZXM9MTI3MTM4NTY0ODQ5MzA4NTI2MTYmYXNfc2R0PTIwMDUmc2Npb2R0PTAsNSZobD1lbiIsCikpCgpEQihDaXRhdGlvbigKICAgIGFicmFo428yMDEwYSwgbWVuZGVzMjAwNGEsIHJlZj0iIiwKICAgIGNvbnRleHRzPVsKCiAgICBdLAopKQoKJycnLCBjaXRhdGlvbnM9J21lbmRlczIwMDRhJyk7\"));\n",
       "    "
      ],
      "text/plain": [
       "<IPython.core.display.Javascript object>"
      ]
     },
     "metadata": {},
     "output_type": "display_data"
    },
    {
     "data": {
      "application/javascript": [
       "$('span:contains(\"# Temp\")').closest('.cell').remove();"
      ],
      "text/plain": [
       "<IPython.core.display.Javascript object>"
      ]
     },
     "metadata": {},
     "output_type": "display_data"
    },
    {
     "data": {
      "application/javascript": [
       "\n",
       "        $('span:contains(\"# Temp\")').closest('.cell').remove();\n",
       "        var code = IPython.notebook.insert_cell_below('code');\n",
       "        code.set_text(atob(\"IyBUZW1wCmluc2VydCgnJycKbWFyY28yMDEzYSA9IERCKFdvcmtVbnJlbGF0ZWQoCiAgICAyMDEzLCAiQXBwcm94aW1hdGUgQ09TTUlDIHNpemUgdG8gZWFybHkgZXN0aW1hdGUgd2ViIGFwcGxpY2F0aW9uIGRldmVsb3BtZW50IGVmZm9ydCIsCiAgICBkaXNwbGF5PSJtYXJjbyIsCiAgICBhdXRob3JzPSJEZSBNYXJjbywgTHVjaWEgYW5kIEZlcnJ1Y2NpLCBGaWxvbWVuYSBhbmQgR3JhdmlubywgQ2FybWluZSIsCiAgICBwbGFjZT1TRUFBLAogICAgcHA9IjM0OS0tMzU2IiwKICAgIGVudHJ5dHlwZT0iaW5wcm9jZWVkaW5ncyIsCiAgICBvcmdhbml6YXRpb249IklFRUUiLAogICAgSUQ9ImRlMjAxM2FwcHJveGltYXRlIiwKICAgIGNsdXN0ZXJfaWQ9IjEwMTU2OTU4NjYxNjczNjM5MTM2IiwKICAgIHNjaG9sYXI9Imh0dHA6Ly9zY2hvbGFyLmdvb2dsZS5jb20vc2Nob2xhcj9jaXRlcz0xMDE1Njk1ODY2MTY3MzYzOTEzNiZhc19zZHQ9MjAwNSZzY2lvZHQ9MCw1JmhsPWVuIiwKKSkKCkRCKENpdGF0aW9uKAogICAgbWFyY28yMDEzYSwgbWVuZGVzMjAwNGEsIHJlZj0iIiwKICAgIGNvbnRleHRzPVsKCiAgICBdLAopKQoKJycnLCBjaXRhdGlvbnM9J21lbmRlczIwMDRhJyk7\"));\n",
       "    "
      ],
      "text/plain": [
       "<IPython.core.display.Javascript object>"
      ]
     },
     "metadata": {},
     "output_type": "display_data"
    },
    {
     "data": {
      "application/javascript": [
       "$('span:contains(\"# Temp\")').closest('.cell').remove();"
      ],
      "text/plain": [
       "<IPython.core.display.Javascript object>"
      ]
     },
     "metadata": {},
     "output_type": "display_data"
    },
    {
     "data": {
      "application/javascript": [
       "\n",
       "        $('span:contains(\"# Temp\")').closest('.cell').remove();\n",
       "        var code = IPython.notebook.insert_cell_below('code');\n",
       "        code.set_text(atob(\"IyBUZW1wCmluc2VydCgnJycKbWFyY28yMDEzYSA9IERCKFdvcmsoCiAgICAyMDEzLCAiQXBwcm94aW1hdGUgQ09TTUlDIHNpemUgdG8gZWFybHkgZXN0aW1hdGUgd2ViIGFwcGxpY2F0aW9uIGRldmVsb3BtZW50IGVmZm9ydCIsCiAgICBkaXNwbGF5PSJtYXJjbyIsCiAgICBhdXRob3JzPSJEZSBNYXJjbywgTHVjaWEgYW5kIEZlcnJ1Y2NpLCBGaWxvbWVuYSBhbmQgR3JhdmlubywgQ2FybWluZSIsCiAgICBwbGFjZT1TRUFBLAogICAgcHA9IjM0OS0tMzU2IiwKICAgIGVudHJ5dHlwZT0iaW5wcm9jZWVkaW5ncyIsCiAgICBvcmdhbml6YXRpb249IklFRUUiLAogICAgSUQ9ImRlMjAxM2FwcHJveGltYXRlIiwKICAgIGNsdXN0ZXJfaWQ9IjEwMTU2OTU4NjYxNjczNjM5MTM2IiwKICAgIHNjaG9sYXI9Imh0dHA6Ly9zY2hvbGFyLmdvb2dsZS5jb20vc2Nob2xhcj9jaXRlcz0xMDE1Njk1ODY2MTY3MzYzOTEzNiZhc19zZHQ9MjAwNSZzY2lvZHQ9MCw1JmhsPWVuIiwKKSkKCkRCKENpdGF0aW9uKAogICAgbWFyY28yMDEzYSwgbWVuZGVzMjAwNGEsIHJlZj0iIiwKICAgIGNvbnRleHRzPVsKCiAgICBdLAopKQoKJycnLCBjaXRhdGlvbnM9J21lbmRlczIwMDRhJyk7\"));\n",
       "    "
      ],
      "text/plain": [
       "<IPython.core.display.Javascript object>"
      ]
     },
     "metadata": {},
     "output_type": "display_data"
    },
    {
     "data": {
      "application/javascript": [
       "$('span:contains(\"# Temp\")').closest('.cell').remove();"
      ],
      "text/plain": [
       "<IPython.core.display.Javascript object>"
      ]
     },
     "metadata": {},
     "output_type": "display_data"
    },
    {
     "data": {
      "application/javascript": [
       "\n",
       "        $('span:contains(\"# Temp\")').closest('.cell').remove();\n",
       "        var code = IPython.notebook.insert_cell_below('code');\n",
       "        code.set_text(atob(\"IyBUZW1wCmluc2VydCgnJycKbWFyY28yMDEzYSA9IERCKFdvcmtVbnJlbGF0ZWQoCiAgICAyMDEzLCAiQXBwcm94aW1hdGUgQ09TTUlDIHNpemUgdG8gZWFybHkgZXN0aW1hdGUgd2ViIGFwcGxpY2F0aW9uIGRldmVsb3BtZW50IGVmZm9ydCIsCiAgICBkaXNwbGF5PSJtYXJjbyIsCiAgICBhdXRob3JzPSJEZSBNYXJjbywgTHVjaWEgYW5kIEZlcnJ1Y2NpLCBGaWxvbWVuYSBhbmQgR3JhdmlubywgQ2FybWluZSIsCiAgICBwbGFjZT1TRUFBLAogICAgcHA9IjM0OS0tMzU2IiwKICAgIGVudHJ5dHlwZT0iaW5wcm9jZWVkaW5ncyIsCiAgICBvcmdhbml6YXRpb249IklFRUUiLAogICAgSUQ9ImRlMjAxM2FwcHJveGltYXRlIiwKICAgIGNsdXN0ZXJfaWQ9IjEwMTU2OTU4NjYxNjczNjM5MTM2IiwKICAgIHNjaG9sYXI9Imh0dHA6Ly9zY2hvbGFyLmdvb2dsZS5jb20vc2Nob2xhcj9jaXRlcz0xMDE1Njk1ODY2MTY3MzYzOTEzNiZhc19zZHQ9MjAwNSZzY2lvZHQ9MCw1JmhsPWVuIiwKKSkKCkRCKENpdGF0aW9uKAogICAgbWFyY28yMDEzYSwgbWVuZGVzMjAwNGEsIHJlZj0iIiwKICAgIGNvbnRleHRzPVsKCiAgICBdLAopKQoKJycnLCBjaXRhdGlvbnM9J21lbmRlczIwMDRhJyk7\"));\n",
       "    "
      ],
      "text/plain": [
       "<IPython.core.display.Javascript object>"
      ]
     },
     "metadata": {},
     "output_type": "display_data"
    },
    {
     "data": {
      "application/javascript": [
       "$('span:contains(\"# Temp\")').closest('.cell').remove();"
      ],
      "text/plain": [
       "<IPython.core.display.Javascript object>"
      ]
     },
     "metadata": {},
     "output_type": "display_data"
    },
    {
     "data": {
      "application/javascript": [
       "\n",
       "        $('span:contains(\"# Temp\")').closest('.cell').remove();\n",
       "        var code = IPython.notebook.insert_cell_below('code');\n",
       "        code.set_text(atob(\"IyBUZW1wCmluc2VydCgnJycKYnVnbGlvbmUyMDEwYSA9IERCKFdvcmtVbnJlbGF0ZWQoCiAgICAyMDEwLCAiV2hpY2ggQ09TTUlDIEJhc2UgRnVuY3Rpb25hbCBDb21wb25lbnRzIGFyZSBTaWduaWZpY2FudCBpbiBFc3RpbWF0aW5nIFdlYiBBcHBsaWNhdGlvbiBEZXZlbG9wbWVudD86IEEgQ2FzZSBTdHVkeSIsCiAgICBkaXNwbGF5PSJidWdsaW9uZSIsCiAgICBhdXRob3JzPSJCdWdsaW9uZSwgTHVpZ2kgYW5kIEZlcnJ1Y2NpLCBGaWxvbWVuYSBhbmQgR2VuY2VsLCBDaWdkZW0gYW5kIEdyYXZpbm8sIENhcm1pbmUgYW5kIFNhcnJvLCBGZWRlcmljYSIsCiAgICBwbGFjZTE9IjIwdGggSW50ZXJuYXRpbmEgV29ya3Nob3Agb24gU29mdHdhcmUgTWVhc3VyZW1lbnQgKElXU00pL01ldHJpa29uL01FTlNVUkEgSm9pbnQgQ29uZmVyZW5jZSIsCiAgICBlbnRyeXR5cGU9ImlucHJvY2VlZGluZ3MiLAogICAgb3JnYW5pemF0aW9uPSJTaGFrZXIgVmVybGFnIiwKICAgIElEPSJidWdsaW9uZTIwMTBjb3NtaWMiLAogICAgY2x1c3Rlcl9pZD0iMTczODczNzgwNzUxMjM0ODE0MzEiLAogICAgc2Nob2xhcj0iaHR0cDovL3NjaG9sYXIuZ29vZ2xlLmNvbS9zY2hvbGFyP2NpdGVzPTE3Mzg3Mzc4MDc1MTIzNDgxNDMxJmFzX3NkdD0yMDA1JnNjaW9kdD0wLDUmaGw9ZW4iLAopKQoKREIoQ2l0YXRpb24oCiAgICBidWdsaW9uZTIwMTBhLCBtZW5kZXMyMDA0YSwgcmVmPSIiLAogICAgY29udGV4dHM9WwoKICAgIF0sCikpCgonJycsIGNpdGF0aW9ucz0nbWVuZGVzMjAwNGEnKTs=\"));\n",
       "    "
      ],
      "text/plain": [
       "<IPython.core.display.Javascript object>"
      ]
     },
     "metadata": {},
     "output_type": "display_data"
    },
    {
     "data": {
      "application/javascript": [
       "$('span:contains(\"# Temp\")').closest('.cell').remove();"
      ],
      "text/plain": [
       "<IPython.core.display.Javascript object>"
      ]
     },
     "metadata": {},
     "output_type": "display_data"
    },
    {
     "data": {
      "application/javascript": [
       "\n",
       "        $('span:contains(\"# Temp\")').closest('.cell').remove();\n",
       "        var code = IPython.notebook.insert_cell_below('code');\n",
       "        code.set_text(atob(\"IyBUZW1wCmluc2VydCgnJycKYnVnbGlvbmUyMDEwYSA9IERCKFdvcmsoCiAgICAyMDEwLCAiV2hpY2ggQ09TTUlDIEJhc2UgRnVuY3Rpb25hbCBDb21wb25lbnRzIGFyZSBTaWduaWZpY2FudCBpbiBFc3RpbWF0aW5nIFdlYiBBcHBsaWNhdGlvbiBEZXZlbG9wbWVudD86IEEgQ2FzZSBTdHVkeSIsCiAgICBkaXNwbGF5PSJidWdsaW9uZSIsCiAgICBhdXRob3JzPSJCdWdsaW9uZSwgTHVpZ2kgYW5kIEZlcnJ1Y2NpLCBGaWxvbWVuYSBhbmQgR2VuY2VsLCBDaWdkZW0gYW5kIEdyYXZpbm8sIENhcm1pbmUgYW5kIFNhcnJvLCBGZWRlcmljYSIsCiAgICBwbGFjZTE9IjIwdGggSW50ZXJuYXRpbmEgV29ya3Nob3Agb24gU29mdHdhcmUgTWVhc3VyZW1lbnQgKElXU00pL01ldHJpa29uL01FTlNVUkEgSm9pbnQgQ29uZmVyZW5jZSIsCiAgICBlbnRyeXR5cGU9ImlucHJvY2VlZGluZ3MiLAogICAgb3JnYW5pemF0aW9uPSJTaGFrZXIgVmVybGFnIiwKICAgIElEPSJidWdsaW9uZTIwMTBjb3NtaWMiLAogICAgY2x1c3Rlcl9pZD0iMTczODczNzgwNzUxMjM0ODE0MzEiLAogICAgc2Nob2xhcj0iaHR0cDovL3NjaG9sYXIuZ29vZ2xlLmNvbS9zY2hvbGFyP2NpdGVzPTE3Mzg3Mzc4MDc1MTIzNDgxNDMxJmFzX3NkdD0yMDA1JnNjaW9kdD0wLDUmaGw9ZW4iLAopKQoKREIoQ2l0YXRpb24oCiAgICBidWdsaW9uZTIwMTBhLCBtZW5kZXMyMDA0YSwgcmVmPSIiLAogICAgY29udGV4dHM9WwoKICAgIF0sCikpCgonJycsIGNpdGF0aW9ucz0nbWVuZGVzMjAwNGEnKTs=\"));\n",
       "    "
      ],
      "text/plain": [
       "<IPython.core.display.Javascript object>"
      ]
     },
     "metadata": {},
     "output_type": "display_data"
    },
    {
     "data": {
      "application/javascript": [
       "$('span:contains(\"# Temp\")').closest('.cell').remove();"
      ],
      "text/plain": [
       "<IPython.core.display.Javascript object>"
      ]
     },
     "metadata": {},
     "output_type": "display_data"
    },
    {
     "data": {
      "application/javascript": [
       "\n",
       "        $('span:contains(\"# Temp\")').closest('.cell').remove();\n",
       "        var code = IPython.notebook.insert_cell_below('code');\n",
       "        code.set_text(atob(\"IyBUZW1wCmluc2VydCgnJycKYnVnbGlvbmUyMDEwYSA9IERCKFdvcmtVbnJlbGF0ZWQoCiAgICAyMDEwLCAiV2hpY2ggQ09TTUlDIEJhc2UgRnVuY3Rpb25hbCBDb21wb25lbnRzIGFyZSBTaWduaWZpY2FudCBpbiBFc3RpbWF0aW5nIFdlYiBBcHBsaWNhdGlvbiBEZXZlbG9wbWVudD86IEEgQ2FzZSBTdHVkeSIsCiAgICBkaXNwbGF5PSJidWdsaW9uZSIsCiAgICBhdXRob3JzPSJCdWdsaW9uZSwgTHVpZ2kgYW5kIEZlcnJ1Y2NpLCBGaWxvbWVuYSBhbmQgR2VuY2VsLCBDaWdkZW0gYW5kIEdyYXZpbm8sIENhcm1pbmUgYW5kIFNhcnJvLCBGZWRlcmljYSIsCiAgICBwbGFjZT1JV1NNLAogICAgZW50cnl0eXBlPSJpbnByb2NlZWRpbmdzIiwKICAgIG9yZ2FuaXphdGlvbj0iU2hha2VyIFZlcmxhZyIsCiAgICBJRD0iYnVnbGlvbmUyMDEwY29zbWljIiwKICAgIGNsdXN0ZXJfaWQ9IjE3Mzg3Mzc4MDc1MTIzNDgxNDMxIiwKICAgIHNjaG9sYXI9Imh0dHA6Ly9zY2hvbGFyLmdvb2dsZS5jb20vc2Nob2xhcj9jaXRlcz0xNzM4NzM3ODA3NTEyMzQ4MTQzMSZhc19zZHQ9MjAwNSZzY2lvZHQ9MCw1JmhsPWVuIiwKKSkKCkRCKENpdGF0aW9uKAogICAgYnVnbGlvbmUyMDEwYSwgbWVuZGVzMjAwNGEsIHJlZj0iIiwKICAgIGNvbnRleHRzPVsKCiAgICBdLAopKQoKJycnLCBjaXRhdGlvbnM9J21lbmRlczIwMDRhJyk7\"));\n",
       "    "
      ],
      "text/plain": [
       "<IPython.core.display.Javascript object>"
      ]
     },
     "metadata": {},
     "output_type": "display_data"
    },
    {
     "data": {
      "application/javascript": [
       "$('span:contains(\"# Temp\")').closest('.cell').remove();"
      ],
      "text/plain": [
       "<IPython.core.display.Javascript object>"
      ]
     },
     "metadata": {},
     "output_type": "display_data"
    },
    {
     "data": {
      "application/javascript": [
       "\n",
       "        $('span:contains(\"# Temp\")').closest('.cell').remove();\n",
       "        var code = IPython.notebook.insert_cell_below('code');\n",
       "        code.set_text(atob(\"IyBUZW1wCmluc2VydCgnJycKbWVuZGVzMjAxNGEgPSBEQihXb3JrVW5yZWxhdGVkKAogICAgMjAxNCwgIkNyb3NzLXZzLiB3aXRoaW4tY29tcGFueSBjb3N0IGVzdGltYXRpb24gc3R1ZGllcyByZXZpc2l0ZWQ6IGFuIGV4dGVuZGVkIHN5c3RlbWF0aWMgcmV2aWV3IiwKICAgIGRpc3BsYXk9Im1lbmRlcyIsCiAgICBhdXRob3JzPSJNZW5kZXMsIEVtaWxpYSBhbmQgS2FsaW5vd3NraSwgTWFyY29zIGFuZCBNYXJ0aW5zLCBEYXZlcyBhbmQgRmVycnVjY2ksIEZpbG9tZW5hIGFuZCBTYXJybywgRmVkZXJpY2EiLAogICAgcGxhY2U9RUFTRSwKICAgIHBwPSIxMiIsCiAgICBlbnRyeXR5cGU9ImlucHJvY2VlZGluZ3MiLAogICAgb3JnYW5pemF0aW9uPSJBQ00iLAogICAgSUQ9Im1lbmRlczIwMTRjcm9zcyIsCiAgICBjbHVzdGVyX2lkPSI5MTE5MDI1Mjc0NjA0NDYxNjE4IiwKICAgIHNjaG9sYXI9Imh0dHA6Ly9zY2hvbGFyLmdvb2dsZS5jb20vc2Nob2xhcj9jaXRlcz05MTE5MDI1Mjc0NjA0NDYxNjE4JmFzX3NkdD0yMDA1JnNjaW9kdD0wLDUmaGw9ZW4iLAopKQoKREIoQ2l0YXRpb24oCiAgICBtZW5kZXMyMDE0YSwgbWVuZGVzMjAwNGEsIHJlZj0iIiwKICAgIGNvbnRleHRzPVsKCiAgICBdLAopKQoKJycnLCBjaXRhdGlvbnM9J21lbmRlczIwMDRhJyk7\"));\n",
       "    "
      ],
      "text/plain": [
       "<IPython.core.display.Javascript object>"
      ]
     },
     "metadata": {},
     "output_type": "display_data"
    },
    {
     "data": {
      "application/javascript": [
       "$('span:contains(\"# Temp\")').closest('.cell').remove();"
      ],
      "text/plain": [
       "<IPython.core.display.Javascript object>"
      ]
     },
     "metadata": {},
     "output_type": "display_data"
    },
    {
     "data": {
      "application/javascript": [
       "\n",
       "        $('span:contains(\"# Temp\")').closest('.cell').remove();\n",
       "        var code = IPython.notebook.insert_cell_below('code');\n",
       "        code.set_text(atob(\"IyBUZW1wCmluc2VydCgnJycKbWVuZGVzMjAxNGEgPSBEQihXb3JrKAogICAgMjAxNCwgIkNyb3NzLXZzLiB3aXRoaW4tY29tcGFueSBjb3N0IGVzdGltYXRpb24gc3R1ZGllcyByZXZpc2l0ZWQ6IGFuIGV4dGVuZGVkIHN5c3RlbWF0aWMgcmV2aWV3IiwKICAgIGRpc3BsYXk9Im1lbmRlcyIsCiAgICBhdXRob3JzPSJNZW5kZXMsIEVtaWxpYSBhbmQgS2FsaW5vd3NraSwgTWFyY29zIGFuZCBNYXJ0aW5zLCBEYXZlcyBhbmQgRmVycnVjY2ksIEZpbG9tZW5hIGFuZCBTYXJybywgRmVkZXJpY2EiLAogICAgcGxhY2U9RUFTRSwKICAgIHBwPSIxMiIsCiAgICBlbnRyeXR5cGU9ImlucHJvY2VlZGluZ3MiLAogICAgb3JnYW5pemF0aW9uPSJBQ00iLAogICAgSUQ9Im1lbmRlczIwMTRjcm9zcyIsCiAgICBjbHVzdGVyX2lkPSI5MTE5MDI1Mjc0NjA0NDYxNjE4IiwKICAgIHNjaG9sYXI9Imh0dHA6Ly9zY2hvbGFyLmdvb2dsZS5jb20vc2Nob2xhcj9jaXRlcz05MTE5MDI1Mjc0NjA0NDYxNjE4JmFzX3NkdD0yMDA1JnNjaW9kdD0wLDUmaGw9ZW4iLAopKQoKREIoQ2l0YXRpb24oCiAgICBtZW5kZXMyMDE0YSwgbWVuZGVzMjAwNGEsIHJlZj0iIiwKICAgIGNvbnRleHRzPVsKCiAgICBdLAopKQoKJycnLCBjaXRhdGlvbnM9J21lbmRlczIwMDRhJyk7\"));\n",
       "    "
      ],
      "text/plain": [
       "<IPython.core.display.Javascript object>"
      ]
     },
     "metadata": {},
     "output_type": "display_data"
    },
    {
     "data": {
      "application/javascript": [
       "$('span:contains(\"# Temp\")').closest('.cell').remove();"
      ],
      "text/plain": [
       "<IPython.core.display.Javascript object>"
      ]
     },
     "metadata": {},
     "output_type": "display_data"
    },
    {
     "data": {
      "application/javascript": [
       "\n",
       "        $('span:contains(\"# Temp\")').closest('.cell').remove();\n",
       "        var code = IPython.notebook.insert_cell_below('code');\n",
       "        code.set_text(atob(\"IyBUZW1wCmluc2VydCgnJycKbWVuZGVzMjAxNGEgPSBEQihXb3JrVW5yZWxhdGVkKAogICAgMjAxNCwgIkNyb3NzLXZzLiB3aXRoaW4tY29tcGFueSBjb3N0IGVzdGltYXRpb24gc3R1ZGllcyByZXZpc2l0ZWQ6IGFuIGV4dGVuZGVkIHN5c3RlbWF0aWMgcmV2aWV3IiwKICAgIGRpc3BsYXk9Im1lbmRlcyIsCiAgICBhdXRob3JzPSJNZW5kZXMsIEVtaWxpYSBhbmQgS2FsaW5vd3NraSwgTWFyY29zIGFuZCBNYXJ0aW5zLCBEYXZlcyBhbmQgRmVycnVjY2ksIEZpbG9tZW5hIGFuZCBTYXJybywgRmVkZXJpY2EiLAogICAgcGxhY2U9RUFTRSwKICAgIHBwPSIxMiIsCiAgICBlbnRyeXR5cGU9ImlucHJvY2VlZGluZ3MiLAogICAgb3JnYW5pemF0aW9uPSJBQ00iLAogICAgSUQ9Im1lbmRlczIwMTRjcm9zcyIsCiAgICBjbHVzdGVyX2lkPSI5MTE5MDI1Mjc0NjA0NDYxNjE4IiwKICAgIHNjaG9sYXI9Imh0dHA6Ly9zY2hvbGFyLmdvb2dsZS5jb20vc2Nob2xhcj9jaXRlcz05MTE5MDI1Mjc0NjA0NDYxNjE4JmFzX3NkdD0yMDA1JnNjaW9kdD0wLDUmaGw9ZW4iLAopKQoKREIoQ2l0YXRpb24oCiAgICBtZW5kZXMyMDE0YSwgbWVuZGVzMjAwNGEsIHJlZj0iIiwKICAgIGNvbnRleHRzPVsKCiAgICBdLAopKQoKJycnLCBjaXRhdGlvbnM9J21lbmRlczIwMDRhJyk7\"));\n",
       "    "
      ],
      "text/plain": [
       "<IPython.core.display.Javascript object>"
      ]
     },
     "metadata": {},
     "output_type": "display_data"
    },
    {
     "data": {
      "application/javascript": [
       "$('span:contains(\"# Temp\")').closest('.cell').remove();"
      ],
      "text/plain": [
       "<IPython.core.display.Javascript object>"
      ]
     },
     "metadata": {},
     "output_type": "display_data"
    },
    {
     "data": {
      "application/javascript": [
       "\n",
       "        $('span:contains(\"# Temp\")').closest('.cell').remove();\n",
       "        var code = IPython.notebook.insert_cell_below('code');\n",
       "        code.set_text(atob(\"IyBUZW1wCmluc2VydCgnJycKbWlua3UyMDE1YSA9IERCKFdvcmtVbnJlbGF0ZWQoCiAgICAyMDE1LCAiSG93IHRvIE1ha2UgQmVzdCBVc2Ugb2YgQ3Jvc3MtQ29tcGFueSBEYXRhIGZvciBXZWIgRWZmb3J0IEVzdGltYXRpb24/IiwKICAgIGRpc3BsYXk9Im1pbmt1IiwKICAgIGF1dGhvcnM9Ik1pbmt1LCBMZWFuZHJvIGFuZCBTYXJybywgRmVkZXJpY2EgYW5kIE1lbmRlcywgRW1pbGlhIGFuZCBGZXJydWNjaSwgRmlsb21lbmEiLAogICAgcGxhY2U9RVNFTSwKICAgIHBwPSIxLS0xMCIsCiAgICBlbnRyeXR5cGU9ImlucHJvY2VlZGluZ3MiLAogICAgb3JnYW5pemF0aW9uPSJJRUVFIiwKICAgIElEPSJtaW5rdTIwMTVtYWtlIiwKICAgIGNsdXN0ZXJfaWQ9Ijg2ODcxNjQ2MjYyMjcyNDQ2OSIsCiAgICBzY2hvbGFyPSJodHRwOi8vc2Nob2xhci5nb29nbGUuY29tL3NjaG9sYXI/Y2l0ZXM9ODY4NzE2NDYyNjIyNzI0NDY5JmFzX3NkdD0yMDA1JnNjaW9kdD0wLDUmaGw9ZW4iLAopKQoKREIoQ2l0YXRpb24oCiAgICBtaW5rdTIwMTVhLCBtZW5kZXMyMDA0YSwgcmVmPSIiLAogICAgY29udGV4dHM9WwoKICAgIF0sCikpCgonJycsIGNpdGF0aW9ucz0nbWVuZGVzMjAwNGEnKTs=\"));\n",
       "    "
      ],
      "text/plain": [
       "<IPython.core.display.Javascript object>"
      ]
     },
     "metadata": {},
     "output_type": "display_data"
    },
    {
     "data": {
      "application/javascript": [
       "$('span:contains(\"# Temp\")').closest('.cell').remove();"
      ],
      "text/plain": [
       "<IPython.core.display.Javascript object>"
      ]
     },
     "metadata": {},
     "output_type": "display_data"
    },
    {
     "data": {
      "application/javascript": [
       "\n",
       "        $('span:contains(\"# Temp\")').closest('.cell').remove();\n",
       "        var code = IPython.notebook.insert_cell_below('code');\n",
       "        code.set_text(atob(\"IyBUZW1wCmluc2VydCgnJycKbWlua3UyMDE1YSA9IERCKFdvcmsoCiAgICAyMDE1LCAiSG93IHRvIE1ha2UgQmVzdCBVc2Ugb2YgQ3Jvc3MtQ29tcGFueSBEYXRhIGZvciBXZWIgRWZmb3J0IEVzdGltYXRpb24/IiwKICAgIGRpc3BsYXk9Im1pbmt1IiwKICAgIGF1dGhvcnM9Ik1pbmt1LCBMZWFuZHJvIGFuZCBTYXJybywgRmVkZXJpY2EgYW5kIE1lbmRlcywgRW1pbGlhIGFuZCBGZXJydWNjaSwgRmlsb21lbmEiLAogICAgcGxhY2U9RVNFTSwKICAgIHBwPSIxLS0xMCIsCiAgICBlbnRyeXR5cGU9ImlucHJvY2VlZGluZ3MiLAogICAgb3JnYW5pemF0aW9uPSJJRUVFIiwKICAgIElEPSJtaW5rdTIwMTVtYWtlIiwKICAgIGNsdXN0ZXJfaWQ9Ijg2ODcxNjQ2MjYyMjcyNDQ2OSIsCiAgICBzY2hvbGFyPSJodHRwOi8vc2Nob2xhci5nb29nbGUuY29tL3NjaG9sYXI/Y2l0ZXM9ODY4NzE2NDYyNjIyNzI0NDY5JmFzX3NkdD0yMDA1JnNjaW9kdD0wLDUmaGw9ZW4iLAopKQoKREIoQ2l0YXRpb24oCiAgICBtaW5rdTIwMTVhLCBtZW5kZXMyMDA0YSwgcmVmPSIiLAogICAgY29udGV4dHM9WwoKICAgIF0sCikpCgonJycsIGNpdGF0aW9ucz0nbWVuZGVzMjAwNGEnKTs=\"));\n",
       "    "
      ],
      "text/plain": [
       "<IPython.core.display.Javascript object>"
      ]
     },
     "metadata": {},
     "output_type": "display_data"
    },
    {
     "data": {
      "application/javascript": [
       "$('span:contains(\"# Temp\")').closest('.cell').remove();"
      ],
      "text/plain": [
       "<IPython.core.display.Javascript object>"
      ]
     },
     "metadata": {},
     "output_type": "display_data"
    },
    {
     "data": {
      "application/javascript": [
       "\n",
       "        $('span:contains(\"# Temp\")').closest('.cell').remove();\n",
       "        var code = IPython.notebook.insert_cell_below('code');\n",
       "        code.set_text(atob(\"IyBUZW1wCmluc2VydCgnJycKbWlua3UyMDE1YSA9IERCKFdvcmtVbnJlbGF0ZWQoCiAgICAyMDE1LCAiSG93IHRvIE1ha2UgQmVzdCBVc2Ugb2YgQ3Jvc3MtQ29tcGFueSBEYXRhIGZvciBXZWIgRWZmb3J0IEVzdGltYXRpb24/IiwKICAgIGRpc3BsYXk9Im1pbmt1IiwKICAgIGF1dGhvcnM9Ik1pbmt1LCBMZWFuZHJvIGFuZCBTYXJybywgRmVkZXJpY2EgYW5kIE1lbmRlcywgRW1pbGlhIGFuZCBGZXJydWNjaSwgRmlsb21lbmEiLAogICAgcGxhY2U9RVNFTSwKICAgIHBwPSIxLS0xMCIsCiAgICBlbnRyeXR5cGU9ImlucHJvY2VlZGluZ3MiLAogICAgb3JnYW5pemF0aW9uPSJJRUVFIiwKICAgIElEPSJtaW5rdTIwMTVtYWtlIiwKICAgIGNsdXN0ZXJfaWQ9Ijg2ODcxNjQ2MjYyMjcyNDQ2OSIsCiAgICBzY2hvbGFyPSJodHRwOi8vc2Nob2xhci5nb29nbGUuY29tL3NjaG9sYXI/Y2l0ZXM9ODY4NzE2NDYyNjIyNzI0NDY5JmFzX3NkdD0yMDA1JnNjaW9kdD0wLDUmaGw9ZW4iLAopKQoKREIoQ2l0YXRpb24oCiAgICBtaW5rdTIwMTVhLCBtZW5kZXMyMDA0YSwgcmVmPSIiLAogICAgY29udGV4dHM9WwoKICAgIF0sCikpCgonJycsIGNpdGF0aW9ucz0nbWVuZGVzMjAwNGEnKTs=\"));\n",
       "    "
      ],
      "text/plain": [
       "<IPython.core.display.Javascript object>"
      ]
     },
     "metadata": {},
     "output_type": "display_data"
    },
    {
     "data": {
      "application/javascript": [
       "$('span:contains(\"# Temp\")').closest('.cell').remove();"
      ],
      "text/plain": [
       "<IPython.core.display.Javascript object>"
      ]
     },
     "metadata": {},
     "output_type": "display_data"
    },
    {
     "data": {
      "application/javascript": [
       "\n",
       "        $('span:contains(\"# Temp\")').closest('.cell').remove();\n",
       "        var code = IPython.notebook.insert_cell_below('code');\n",
       "        code.set_text(atob(\"IyBUZW1wCmluc2VydCgnJycKbWl0dGFzMjAxNWEgPSBEQihXb3JrVW5yZWxhdGVkKAogICAgMjAxNSwgIkEgZnJhbWV3b3JrIGZvciBjb21wYXJpbmcgbXVsdGlwbGUgY29zdCBlc3RpbWF0aW9uIG1ldGhvZHMgdXNpbmcgYW4gYXV0b21hdGVkIHZpc3VhbGl6YXRpb24gdG9vbGtpdCIsCiAgICBkaXNwbGF5PSJtaXR0YXMiLAogICAgYXV0aG9ycz0iTWl0dGFzLCBOaWtvbGFvcyBhbmQgTWFtYWxpa2lkaXMsIElvYW5uaXMgYW5kIEFuZ2VsaXMsIExlZnRlcmlzIiwKICAgIHBsYWNlPUlTVCwKICAgIHBwPSIzMTAtLTMyOCIsCiAgICBlbnRyeXR5cGU9ImFydGljbGUiLAogICAgdm9sdW1lPSI1NyIsCiAgICBwdWJsaXNoZXI9IkVsc2V2aWVyIiwKICAgIElEPSJtaXR0YXMyMDE1ZnJhbWV3b3JrIiwKICAgIGNsdXN0ZXJfaWQ9IjExNDQzMTI5ODk3NDUwMjEyMzAxIiwKICAgIHNjaG9sYXI9Imh0dHA6Ly9zY2hvbGFyLmdvb2dsZS5jb20vc2Nob2xhcj9jaXRlcz0xMTQ0MzEyOTg5NzQ1MDIxMjMwMSZhc19zZHQ9MjAwNSZzY2lvZHQ9MCw1JmhsPWVuIiwKKSkKCkRCKENpdGF0aW9uKAogICAgbWl0dGFzMjAxNWEsIG1lbmRlczIwMDRhLCByZWY9IiIsCiAgICBjb250ZXh0cz1bCgogICAgXSwKKSkKCicnJywgY2l0YXRpb25zPSdtZW5kZXMyMDA0YScpOw==\"));\n",
       "    "
      ],
      "text/plain": [
       "<IPython.core.display.Javascript object>"
      ]
     },
     "metadata": {},
     "output_type": "display_data"
    },
    {
     "data": {
      "application/javascript": [
       "$('span:contains(\"# Temp\")').closest('.cell').remove();"
      ],
      "text/plain": [
       "<IPython.core.display.Javascript object>"
      ]
     },
     "metadata": {},
     "output_type": "display_data"
    },
    {
     "data": {
      "application/javascript": [
       "\n",
       "        $('span:contains(\"# Temp\")').closest('.cell').remove();\n",
       "        var code = IPython.notebook.insert_cell_below('code');\n",
       "        code.set_text(atob(\"IyBUZW1wCmluc2VydCgnJycKbWl0dGFzMjAxNWEgPSBEQihXb3JrKAogICAgMjAxNSwgIkEgZnJhbWV3b3JrIGZvciBjb21wYXJpbmcgbXVsdGlwbGUgY29zdCBlc3RpbWF0aW9uIG1ldGhvZHMgdXNpbmcgYW4gYXV0b21hdGVkIHZpc3VhbGl6YXRpb24gdG9vbGtpdCIsCiAgICBkaXNwbGF5PSJtaXR0YXMiLAogICAgYXV0aG9ycz0iTWl0dGFzLCBOaWtvbGFvcyBhbmQgTWFtYWxpa2lkaXMsIElvYW5uaXMgYW5kIEFuZ2VsaXMsIExlZnRlcmlzIiwKICAgIHBsYWNlPUlTVCwKICAgIHBwPSIzMTAtLTMyOCIsCiAgICBlbnRyeXR5cGU9ImFydGljbGUiLAogICAgdm9sdW1lPSI1NyIsCiAgICBwdWJsaXNoZXI9IkVsc2V2aWVyIiwKICAgIElEPSJtaXR0YXMyMDE1ZnJhbWV3b3JrIiwKICAgIGNsdXN0ZXJfaWQ9IjExNDQzMTI5ODk3NDUwMjEyMzAxIiwKICAgIHNjaG9sYXI9Imh0dHA6Ly9zY2hvbGFyLmdvb2dsZS5jb20vc2Nob2xhcj9jaXRlcz0xMTQ0MzEyOTg5NzQ1MDIxMjMwMSZhc19zZHQ9MjAwNSZzY2lvZHQ9MCw1JmhsPWVuIiwKKSkKCkRCKENpdGF0aW9uKAogICAgbWl0dGFzMjAxNWEsIG1lbmRlczIwMDRhLCByZWY9IiIsCiAgICBjb250ZXh0cz1bCgogICAgXSwKKSkKCicnJywgY2l0YXRpb25zPSdtZW5kZXMyMDA0YScpOw==\"));\n",
       "    "
      ],
      "text/plain": [
       "<IPython.core.display.Javascript object>"
      ]
     },
     "metadata": {},
     "output_type": "display_data"
    },
    {
     "data": {
      "application/javascript": [
       "$('span:contains(\"# Temp\")').closest('.cell').remove();"
      ],
      "text/plain": [
       "<IPython.core.display.Javascript object>"
      ]
     },
     "metadata": {},
     "output_type": "display_data"
    },
    {
     "data": {
      "application/javascript": [
       "\n",
       "        $('span:contains(\"# Temp\")').closest('.cell').remove();\n",
       "        var code = IPython.notebook.insert_cell_below('code');\n",
       "        code.set_text(atob(\"IyBUZW1wCmluc2VydCgnJycKbWl0dGFzMjAxNWEgPSBEQihXb3JrVW5yZWxhdGVkKAogICAgMjAxNSwgIkEgZnJhbWV3b3JrIGZvciBjb21wYXJpbmcgbXVsdGlwbGUgY29zdCBlc3RpbWF0aW9uIG1ldGhvZHMgdXNpbmcgYW4gYXV0b21hdGVkIHZpc3VhbGl6YXRpb24gdG9vbGtpdCIsCiAgICBkaXNwbGF5PSJtaXR0YXMiLAogICAgYXV0aG9ycz0iTWl0dGFzLCBOaWtvbGFvcyBhbmQgTWFtYWxpa2lkaXMsIElvYW5uaXMgYW5kIEFuZ2VsaXMsIExlZnRlcmlzIiwKICAgIHBsYWNlPUlTVCwKICAgIHBwPSIzMTAtLTMyOCIsCiAgICBlbnRyeXR5cGU9ImFydGljbGUiLAogICAgdm9sdW1lPSI1NyIsCiAgICBwdWJsaXNoZXI9IkVsc2V2aWVyIiwKICAgIElEPSJtaXR0YXMyMDE1ZnJhbWV3b3JrIiwKICAgIGNsdXN0ZXJfaWQ9IjExNDQzMTI5ODk3NDUwMjEyMzAxIiwKICAgIHNjaG9sYXI9Imh0dHA6Ly9zY2hvbGFyLmdvb2dsZS5jb20vc2Nob2xhcj9jaXRlcz0xMTQ0MzEyOTg5NzQ1MDIxMjMwMSZhc19zZHQ9MjAwNSZzY2lvZHQ9MCw1JmhsPWVuIiwKKSkKCkRCKENpdGF0aW9uKAogICAgbWl0dGFzMjAxNWEsIG1lbmRlczIwMDRhLCByZWY9IiIsCiAgICBjb250ZXh0cz1bCgogICAgXSwKKSkKCicnJywgY2l0YXRpb25zPSdtZW5kZXMyMDA0YScpOw==\"));\n",
       "    "
      ],
      "text/plain": [
       "<IPython.core.display.Javascript object>"
      ]
     },
     "metadata": {},
     "output_type": "display_data"
    },
    {
     "data": {
      "application/javascript": [
       "$('span:contains(\"# Temp\")').closest('.cell').remove();"
      ],
      "text/plain": [
       "<IPython.core.display.Javascript object>"
      ]
     },
     "metadata": {},
     "output_type": "display_data"
    },
    {
     "data": {
      "application/javascript": [
       "\n",
       "        $('span:contains(\"# Temp\")').closest('.cell').remove();\n",
       "        var code = IPython.notebook.insert_cell_below('code');\n",
       "        code.set_text(atob(\"IyBUZW1wCmluc2VydCgnJycKYmFrZXIyMDEwYSA9IERCKFdvcmtVbnJlbGF0ZWQoCiAgICAyMDEwLCAiQWdncmVnYXRpbmcgZXhwZXJ0LWRyaXZlbiBjYXVzYWwgbWFwcyBmb3Igd2ViIGVmZm9ydCBlc3RpbWF0aW9uIiwKICAgIGRpc3BsYXk9ImJha2VyIiwKICAgIGF1dGhvcnM9IkJha2VyLCBTaW1vbiBhbmQgTWVuZGVzLCBFbWlsaWEiLAogICAgcHA9IjI2NC0tMjgyIiwKICAgIHBsYWNlMT0iSW50ZXJuYXRpb25hbCBDb25mZXJlbmNlIG9uIEFkdmFuY2VkIFNvZnR3YXJlIEVuZ2luZWVyaW5nIGFuZCBJdHMgQXBwbGljYXRpb25zIiwKICAgIGVudHJ5dHlwZT0iaW5wcm9jZWVkaW5ncyIsCiAgICBvcmdhbml6YXRpb249IlNwcmluZ2VyIiwKICAgIElEPSJiYWtlcjIwMTBhZ2dyZWdhdGluZyIsCiAgICBjbHVzdGVyX2lkPSI4MzEwMDEzMjU2ODUxODcwODQiLAogICAgc2Nob2xhcj0iaHR0cDovL3NjaG9sYXIuZ29vZ2xlLmNvbS9zY2hvbGFyP2NpdGVzPTgzMTAwMTMyNTY4NTE4NzA4NCZhc19zZHQ9MjAwNSZzY2lvZHQ9MCw1JmhsPWVuIiwKKSkKCkRCKENpdGF0aW9uKAogICAgYmFrZXIyMDEwYSwgbWVuZGVzMjAwNGEsIHJlZj0iIiwKICAgIGNvbnRleHRzPVsKCiAgICBdLAopKQoKJycnLCBjaXRhdGlvbnM9J21lbmRlczIwMDRhJyk7\"));\n",
       "    "
      ],
      "text/plain": [
       "<IPython.core.display.Javascript object>"
      ]
     },
     "metadata": {},
     "output_type": "display_data"
    },
    {
     "data": {
      "application/javascript": [
       "$('span:contains(\"# Temp\")').closest('.cell').remove();"
      ],
      "text/plain": [
       "<IPython.core.display.Javascript object>"
      ]
     },
     "metadata": {},
     "output_type": "display_data"
    },
    {
     "data": {
      "application/javascript": [
       "\n",
       "        $('span:contains(\"# Temp\")').closest('.cell').remove();\n",
       "        var code = IPython.notebook.insert_cell_below('code');\n",
       "        code.set_text(atob(\"IyBUZW1wCmluc2VydCgnJycKYmFrZXIyMDEwYSA9IERCKFdvcmsoCiAgICAyMDEwLCAiQWdncmVnYXRpbmcgZXhwZXJ0LWRyaXZlbiBjYXVzYWwgbWFwcyBmb3Igd2ViIGVmZm9ydCBlc3RpbWF0aW9uIiwKICAgIGRpc3BsYXk9ImJha2VyIiwKICAgIGF1dGhvcnM9IkJha2VyLCBTaW1vbiBhbmQgTWVuZGVzLCBFbWlsaWEiLAogICAgcHA9IjI2NC0tMjgyIiwKICAgIHBsYWNlMT0iSW50ZXJuYXRpb25hbCBDb25mZXJlbmNlIG9uIEFkdmFuY2VkIFNvZnR3YXJlIEVuZ2luZWVyaW5nIGFuZCBJdHMgQXBwbGljYXRpb25zIiwKICAgIGVudHJ5dHlwZT0iaW5wcm9jZWVkaW5ncyIsCiAgICBvcmdhbml6YXRpb249IlNwcmluZ2VyIiwKICAgIElEPSJiYWtlcjIwMTBhZ2dyZWdhdGluZyIsCiAgICBjbHVzdGVyX2lkPSI4MzEwMDEzMjU2ODUxODcwODQiLAogICAgc2Nob2xhcj0iaHR0cDovL3NjaG9sYXIuZ29vZ2xlLmNvbS9zY2hvbGFyP2NpdGVzPTgzMTAwMTMyNTY4NTE4NzA4NCZhc19zZHQ9MjAwNSZzY2lvZHQ9MCw1JmhsPWVuIiwKKSkKCkRCKENpdGF0aW9uKAogICAgYmFrZXIyMDEwYSwgbWVuZGVzMjAwNGEsIHJlZj0iIiwKICAgIGNvbnRleHRzPVsKCiAgICBdLAopKQoKJycnLCBjaXRhdGlvbnM9J21lbmRlczIwMDRhJyk7\"));\n",
       "    "
      ],
      "text/plain": [
       "<IPython.core.display.Javascript object>"
      ]
     },
     "metadata": {},
     "output_type": "display_data"
    },
    {
     "data": {
      "application/javascript": [
       "$('span:contains(\"# Temp\")').closest('.cell').remove();"
      ],
      "text/plain": [
       "<IPython.core.display.Javascript object>"
      ]
     },
     "metadata": {},
     "output_type": "display_data"
    },
    {
     "data": {
      "application/javascript": [
       "\n",
       "        $('span:contains(\"# Temp\")').closest('.cell').remove();\n",
       "        var code = IPython.notebook.insert_cell_below('code');\n",
       "        code.set_text(atob(\"IyBUZW1wCmluc2VydCgnJycKYmFrZXIyMDEwYSA9IERCKFdvcmtVbnJlbGF0ZWQoCiAgICAyMDEwLCAiQWdncmVnYXRpbmcgZXhwZXJ0LWRyaXZlbiBjYXVzYWwgbWFwcyBmb3Igd2ViIGVmZm9ydCBlc3RpbWF0aW9uIiwKICAgIGRpc3BsYXk9ImJha2VyIiwKICAgIGF1dGhvcnM9IkJha2VyLCBTaW1vbiBhbmQgTWVuZGVzLCBFbWlsaWEiLAogICAgcHA9IjI2NC0tMjgyIiwKICAgIHBsYWNlMT0iSW50ZXJuYXRpb25hbCBDb25mZXJlbmNlIG9uIEFkdmFuY2VkIFNvZnR3YXJlIEVuZ2luZWVyaW5nIGFuZCBJdHMgQXBwbGljYXRpb25zIiwKICAgIGVudHJ5dHlwZT0iaW5wcm9jZWVkaW5ncyIsCiAgICBvcmdhbml6YXRpb249IlNwcmluZ2VyIiwKICAgIElEPSJiYWtlcjIwMTBhZ2dyZWdhdGluZyIsCiAgICBjbHVzdGVyX2lkPSI4MzEwMDEzMjU2ODUxODcwODQiLAogICAgc2Nob2xhcj0iaHR0cDovL3NjaG9sYXIuZ29vZ2xlLmNvbS9zY2hvbGFyP2NpdGVzPTgzMTAwMTMyNTY4NTE4NzA4NCZhc19zZHQ9MjAwNSZzY2lvZHQ9MCw1JmhsPWVuIiwKKSkKCkRCKENpdGF0aW9uKAogICAgYmFrZXIyMDEwYSwgbWVuZGVzMjAwNGEsIHJlZj0iIiwKICAgIGNvbnRleHRzPVsKCiAgICBdLAopKQoKJycnLCBjaXRhdGlvbnM9J21lbmRlczIwMDRhJyk7\"));\n",
       "    "
      ],
      "text/plain": [
       "<IPython.core.display.Javascript object>"
      ]
     },
     "metadata": {},
     "output_type": "display_data"
    },
    {
     "ename": "NameError",
     "evalue": "name 'Conference' is not defined",
     "output_type": "error",
     "traceback": [
      "\u001b[1;31m---------------------------------------------------------------------------\u001b[0m",
      "\u001b[1;31mNameError\u001b[0m                                 Traceback (most recent call last)",
      "\u001b[1;32mc:\\erica\\snowballing\\snowballing\\snowballing.py\u001b[0m in \u001b[0;36mshow\u001b[1;34m(self, b, clear)\u001b[0m\n\u001b[0;32m    501\u001b[0m         \u001b[1;34m\"\"\"Generic display\"\"\"\u001b[0m\u001b[1;33m\u001b[0m\u001b[0m\n\u001b[0;32m    502\u001b[0m         \u001b[0m_up\u001b[0m \u001b[1;33m=\u001b[0m \u001b[0mself\u001b[0m\u001b[1;33m.\u001b[0m\u001b[0mupdate_info\u001b[0m\u001b[1;33m\u001b[0m\u001b[0m\n\u001b[1;32m--> 503\u001b[1;33m         \u001b[0mreload\u001b[0m\u001b[1;33m(\u001b[0m\u001b[1;33m)\u001b[0m\u001b[1;33m\u001b[0m\u001b[0m\n\u001b[0m\u001b[0;32m    504\u001b[0m         \u001b[0mself\u001b[0m\u001b[1;33m.\u001b[0m\u001b[0mnext_article_widget\u001b[0m\u001b[1;33m.\u001b[0m\u001b[0mdisabled\u001b[0m \u001b[1;33m=\u001b[0m \u001b[0mself\u001b[0m\u001b[1;33m.\u001b[0m\u001b[0mselector_widget\u001b[0m\u001b[1;33m.\u001b[0m\u001b[0mvalue\u001b[0m \u001b[1;33m==\u001b[0m \u001b[0mself\u001b[0m\u001b[1;33m.\u001b[0m\u001b[0mselector_widget\u001b[0m\u001b[1;33m.\u001b[0m\u001b[0mmax\u001b[0m\u001b[1;33m\u001b[0m\u001b[0m\n\u001b[0;32m    505\u001b[0m         \u001b[0mself\u001b[0m\u001b[1;33m.\u001b[0m\u001b[0mprevious_article_widget\u001b[0m\u001b[1;33m.\u001b[0m\u001b[0mdisabled\u001b[0m \u001b[1;33m=\u001b[0m \u001b[0mself\u001b[0m\u001b[1;33m.\u001b[0m\u001b[0mselector_widget\u001b[0m\u001b[1;33m.\u001b[0m\u001b[0mvalue\u001b[0m \u001b[1;33m==\u001b[0m \u001b[1;36m0\u001b[0m\u001b[1;33m\u001b[0m\u001b[0m\n",
      "\u001b[1;32mc:\\erica\\snowballing\\snowballing\\operations.py\u001b[0m in \u001b[0;36mreload\u001b[1;34m()\u001b[0m\n\u001b[0;32m    156\u001b[0m     \"\"\"\n\u001b[0;32m    157\u001b[0m     \u001b[0m_clear_db\u001b[0m\u001b[1;33m(\u001b[0m\u001b[1;33m)\u001b[0m\u001b[1;33m\u001b[0m\u001b[0m\n\u001b[1;32m--> 158\u001b[1;33m     \u001b[0mimportlib\u001b[0m\u001b[1;33m.\u001b[0m\u001b[0mreload\u001b[0m\u001b[1;33m(\u001b[0m\u001b[0mconfig\u001b[0m\u001b[1;33m.\u001b[0m\u001b[0mMODULES\u001b[0m\u001b[1;33m[\u001b[0m\u001b[1;34m'places'\u001b[0m\u001b[1;33m]\u001b[0m\u001b[1;33m)\u001b[0m\u001b[1;33m\u001b[0m\u001b[0m\n\u001b[0m\u001b[0;32m    159\u001b[0m     \u001b[0m_reload_work\u001b[0m\u001b[1;33m(\u001b[0m\u001b[1;33m)\u001b[0m\u001b[1;33m\u001b[0m\u001b[0m\n\u001b[0;32m    160\u001b[0m     \u001b[0mimport_submodules\u001b[0m\u001b[1;33m(\u001b[0m\u001b[0mconfig\u001b[0m\u001b[1;33m.\u001b[0m\u001b[0mMODULES\u001b[0m\u001b[1;33m[\u001b[0m\u001b[1;34m'citations'\u001b[0m\u001b[1;33m]\u001b[0m\u001b[1;33m)\u001b[0m\u001b[1;33m\u001b[0m\u001b[0m\n",
      "\u001b[1;32mC:\\ProgramData\\Anaconda3\\lib\\importlib\\__init__.py\u001b[0m in \u001b[0;36mreload\u001b[1;34m(module)\u001b[0m\n\u001b[0;32m    164\u001b[0m         \u001b[0mtarget\u001b[0m \u001b[1;33m=\u001b[0m \u001b[0mmodule\u001b[0m\u001b[1;33m\u001b[0m\u001b[0m\n\u001b[0;32m    165\u001b[0m         \u001b[0mspec\u001b[0m \u001b[1;33m=\u001b[0m \u001b[0mmodule\u001b[0m\u001b[1;33m.\u001b[0m\u001b[0m__spec__\u001b[0m \u001b[1;33m=\u001b[0m \u001b[0m_bootstrap\u001b[0m\u001b[1;33m.\u001b[0m\u001b[0m_find_spec\u001b[0m\u001b[1;33m(\u001b[0m\u001b[0mname\u001b[0m\u001b[1;33m,\u001b[0m \u001b[0mpkgpath\u001b[0m\u001b[1;33m,\u001b[0m \u001b[0mtarget\u001b[0m\u001b[1;33m)\u001b[0m\u001b[1;33m\u001b[0m\u001b[0m\n\u001b[1;32m--> 166\u001b[1;33m         \u001b[0m_bootstrap\u001b[0m\u001b[1;33m.\u001b[0m\u001b[0m_exec\u001b[0m\u001b[1;33m(\u001b[0m\u001b[0mspec\u001b[0m\u001b[1;33m,\u001b[0m \u001b[0mmodule\u001b[0m\u001b[1;33m)\u001b[0m\u001b[1;33m\u001b[0m\u001b[0m\n\u001b[0m\u001b[0;32m    167\u001b[0m         \u001b[1;31m# The module may have replaced itself in sys.modules!\u001b[0m\u001b[1;33m\u001b[0m\u001b[1;33m\u001b[0m\u001b[0m\n\u001b[0;32m    168\u001b[0m         \u001b[1;32mreturn\u001b[0m \u001b[0msys\u001b[0m\u001b[1;33m.\u001b[0m\u001b[0mmodules\u001b[0m\u001b[1;33m[\u001b[0m\u001b[0mname\u001b[0m\u001b[1;33m]\u001b[0m\u001b[1;33m\u001b[0m\u001b[0m\n",
      "\u001b[1;32mC:\\ProgramData\\Anaconda3\\lib\\importlib\\_bootstrap.py\u001b[0m in \u001b[0;36m_exec\u001b[1;34m(spec, module)\u001b[0m\n",
      "\u001b[1;32mC:\\ProgramData\\Anaconda3\\lib\\importlib\\_bootstrap_external.py\u001b[0m in \u001b[0;36mexec_module\u001b[1;34m(self, module)\u001b[0m\n",
      "\u001b[1;32mC:\\ProgramData\\Anaconda3\\lib\\importlib\\_bootstrap.py\u001b[0m in \u001b[0;36m_call_with_frames_removed\u001b[1;34m(f, *args, **kwds)\u001b[0m\n",
      "\u001b[1;32mC:\\Erica\\hybrid_strategy\\case_study_3\\database\\places.py\u001b[0m in \u001b[0;36m<module>\u001b[1;34m()\u001b[0m\n\u001b[0;32m     31\u001b[0m \u001b[0mJCP\u001b[0m \u001b[1;33m=\u001b[0m  \u001b[0mjournal\u001b[0m\u001b[1;33m(\u001b[0m\u001b[1;34m\"JCP\"\u001b[0m\u001b[1;33m,\u001b[0m\u001b[1;34m\"Journal of Cleaner Production\"\u001b[0m\u001b[1;33m)\u001b[0m\u001b[1;33m\u001b[0m\u001b[0m\n\u001b[0;32m     32\u001b[0m \u001b[1;33m\u001b[0m\u001b[0m\n\u001b[1;32m---> 33\u001b[1;33m \u001b[0mICASEA\u001b[0m \u001b[1;33m=\u001b[0m \u001b[0mConference\u001b[0m\u001b[1;33m(\u001b[0m\u001b[1;34m\"ICASEA\"\u001b[0m\u001b[1;33m,\u001b[0m\u001b[1;34m\"International Conference on Advanced Software Engineering and Its Applications\"\u001b[0m\u001b[1;33m)\u001b[0m\u001b[1;33m\u001b[0m\u001b[0m\n\u001b[0m\u001b[0;32m     34\u001b[0m \u001b[0mICSA\u001b[0m \u001b[1;33m=\u001b[0m \u001b[0mconference\u001b[0m\u001b[1;33m(\u001b[0m\u001b[1;34m\"ICSA\"\u001b[0m\u001b[1;33m,\u001b[0m\u001b[1;34m\"Software Architecture (ICSA), 2017 IEEE International Conference on\"\u001b[0m\u001b[1;33m)\u001b[0m\u001b[1;33m\u001b[0m\u001b[0m\n\u001b[0;32m     35\u001b[0m \u001b[0mESEM\u001b[0m \u001b[1;33m=\u001b[0m  \u001b[0mconference\u001b[0m\u001b[1;33m(\u001b[0m\u001b[1;34m\"ESEM\"\u001b[0m\u001b[1;33m,\u001b[0m\u001b[1;34m\"International Symposium on Empirical Software Engineering and Measurement\"\u001b[0m\u001b[1;33m)\u001b[0m\u001b[1;33m\u001b[0m\u001b[0m\n",
      "\u001b[1;31mNameError\u001b[0m: name 'Conference' is not defined"
     ]
    },
    {
     "ename": "NameError",
     "evalue": "name 'Conference' is not defined",
     "output_type": "error",
     "traceback": [
      "\u001b[1;31m---------------------------------------------------------------------------\u001b[0m",
      "\u001b[1;31mNameError\u001b[0m                                 Traceback (most recent call last)",
      "\u001b[1;32mc:\\erica\\snowballing\\snowballing\\snowballing.py\u001b[0m in \u001b[0;36mshow\u001b[1;34m(self, b, clear)\u001b[0m\n\u001b[0;32m    501\u001b[0m         \u001b[1;34m\"\"\"Generic display\"\"\"\u001b[0m\u001b[1;33m\u001b[0m\u001b[0m\n\u001b[0;32m    502\u001b[0m         \u001b[0m_up\u001b[0m \u001b[1;33m=\u001b[0m \u001b[0mself\u001b[0m\u001b[1;33m.\u001b[0m\u001b[0mupdate_info\u001b[0m\u001b[1;33m\u001b[0m\u001b[0m\n\u001b[1;32m--> 503\u001b[1;33m         \u001b[0mreload\u001b[0m\u001b[1;33m(\u001b[0m\u001b[1;33m)\u001b[0m\u001b[1;33m\u001b[0m\u001b[0m\n\u001b[0m\u001b[0;32m    504\u001b[0m         \u001b[0mself\u001b[0m\u001b[1;33m.\u001b[0m\u001b[0mnext_article_widget\u001b[0m\u001b[1;33m.\u001b[0m\u001b[0mdisabled\u001b[0m \u001b[1;33m=\u001b[0m \u001b[0mself\u001b[0m\u001b[1;33m.\u001b[0m\u001b[0mselector_widget\u001b[0m\u001b[1;33m.\u001b[0m\u001b[0mvalue\u001b[0m \u001b[1;33m==\u001b[0m \u001b[0mself\u001b[0m\u001b[1;33m.\u001b[0m\u001b[0mselector_widget\u001b[0m\u001b[1;33m.\u001b[0m\u001b[0mmax\u001b[0m\u001b[1;33m\u001b[0m\u001b[0m\n\u001b[0;32m    505\u001b[0m         \u001b[0mself\u001b[0m\u001b[1;33m.\u001b[0m\u001b[0mprevious_article_widget\u001b[0m\u001b[1;33m.\u001b[0m\u001b[0mdisabled\u001b[0m \u001b[1;33m=\u001b[0m \u001b[0mself\u001b[0m\u001b[1;33m.\u001b[0m\u001b[0mselector_widget\u001b[0m\u001b[1;33m.\u001b[0m\u001b[0mvalue\u001b[0m \u001b[1;33m==\u001b[0m \u001b[1;36m0\u001b[0m\u001b[1;33m\u001b[0m\u001b[0m\n",
      "\u001b[1;32mc:\\erica\\snowballing\\snowballing\\operations.py\u001b[0m in \u001b[0;36mreload\u001b[1;34m()\u001b[0m\n\u001b[0;32m    156\u001b[0m     \"\"\"\n\u001b[0;32m    157\u001b[0m     \u001b[0m_clear_db\u001b[0m\u001b[1;33m(\u001b[0m\u001b[1;33m)\u001b[0m\u001b[1;33m\u001b[0m\u001b[0m\n\u001b[1;32m--> 158\u001b[1;33m     \u001b[0mimportlib\u001b[0m\u001b[1;33m.\u001b[0m\u001b[0mreload\u001b[0m\u001b[1;33m(\u001b[0m\u001b[0mconfig\u001b[0m\u001b[1;33m.\u001b[0m\u001b[0mMODULES\u001b[0m\u001b[1;33m[\u001b[0m\u001b[1;34m'places'\u001b[0m\u001b[1;33m]\u001b[0m\u001b[1;33m)\u001b[0m\u001b[1;33m\u001b[0m\u001b[0m\n\u001b[0m\u001b[0;32m    159\u001b[0m     \u001b[0m_reload_work\u001b[0m\u001b[1;33m(\u001b[0m\u001b[1;33m)\u001b[0m\u001b[1;33m\u001b[0m\u001b[0m\n\u001b[0;32m    160\u001b[0m     \u001b[0mimport_submodules\u001b[0m\u001b[1;33m(\u001b[0m\u001b[0mconfig\u001b[0m\u001b[1;33m.\u001b[0m\u001b[0mMODULES\u001b[0m\u001b[1;33m[\u001b[0m\u001b[1;34m'citations'\u001b[0m\u001b[1;33m]\u001b[0m\u001b[1;33m)\u001b[0m\u001b[1;33m\u001b[0m\u001b[0m\n",
      "\u001b[1;32mC:\\ProgramData\\Anaconda3\\lib\\importlib\\__init__.py\u001b[0m in \u001b[0;36mreload\u001b[1;34m(module)\u001b[0m\n\u001b[0;32m    164\u001b[0m         \u001b[0mtarget\u001b[0m \u001b[1;33m=\u001b[0m \u001b[0mmodule\u001b[0m\u001b[1;33m\u001b[0m\u001b[0m\n\u001b[0;32m    165\u001b[0m         \u001b[0mspec\u001b[0m \u001b[1;33m=\u001b[0m \u001b[0mmodule\u001b[0m\u001b[1;33m.\u001b[0m\u001b[0m__spec__\u001b[0m \u001b[1;33m=\u001b[0m \u001b[0m_bootstrap\u001b[0m\u001b[1;33m.\u001b[0m\u001b[0m_find_spec\u001b[0m\u001b[1;33m(\u001b[0m\u001b[0mname\u001b[0m\u001b[1;33m,\u001b[0m \u001b[0mpkgpath\u001b[0m\u001b[1;33m,\u001b[0m \u001b[0mtarget\u001b[0m\u001b[1;33m)\u001b[0m\u001b[1;33m\u001b[0m\u001b[0m\n\u001b[1;32m--> 166\u001b[1;33m         \u001b[0m_bootstrap\u001b[0m\u001b[1;33m.\u001b[0m\u001b[0m_exec\u001b[0m\u001b[1;33m(\u001b[0m\u001b[0mspec\u001b[0m\u001b[1;33m,\u001b[0m \u001b[0mmodule\u001b[0m\u001b[1;33m)\u001b[0m\u001b[1;33m\u001b[0m\u001b[0m\n\u001b[0m\u001b[0;32m    167\u001b[0m         \u001b[1;31m# The module may have replaced itself in sys.modules!\u001b[0m\u001b[1;33m\u001b[0m\u001b[1;33m\u001b[0m\u001b[0m\n\u001b[0;32m    168\u001b[0m         \u001b[1;32mreturn\u001b[0m \u001b[0msys\u001b[0m\u001b[1;33m.\u001b[0m\u001b[0mmodules\u001b[0m\u001b[1;33m[\u001b[0m\u001b[0mname\u001b[0m\u001b[1;33m]\u001b[0m\u001b[1;33m\u001b[0m\u001b[0m\n",
      "\u001b[1;32mC:\\ProgramData\\Anaconda3\\lib\\importlib\\_bootstrap.py\u001b[0m in \u001b[0;36m_exec\u001b[1;34m(spec, module)\u001b[0m\n",
      "\u001b[1;32mC:\\ProgramData\\Anaconda3\\lib\\importlib\\_bootstrap_external.py\u001b[0m in \u001b[0;36mexec_module\u001b[1;34m(self, module)\u001b[0m\n",
      "\u001b[1;32mC:\\ProgramData\\Anaconda3\\lib\\importlib\\_bootstrap.py\u001b[0m in \u001b[0;36m_call_with_frames_removed\u001b[1;34m(f, *args, **kwds)\u001b[0m\n",
      "\u001b[1;32mC:\\Erica\\hybrid_strategy\\case_study_3\\database\\places.py\u001b[0m in \u001b[0;36m<module>\u001b[1;34m()\u001b[0m\n\u001b[0;32m     31\u001b[0m \u001b[0mJCP\u001b[0m \u001b[1;33m=\u001b[0m  \u001b[0mjournal\u001b[0m\u001b[1;33m(\u001b[0m\u001b[1;34m\"JCP\"\u001b[0m\u001b[1;33m,\u001b[0m\u001b[1;34m\"Journal of Cleaner Production\"\u001b[0m\u001b[1;33m)\u001b[0m\u001b[1;33m\u001b[0m\u001b[0m\n\u001b[0;32m     32\u001b[0m \u001b[1;33m\u001b[0m\u001b[0m\n\u001b[1;32m---> 33\u001b[1;33m \u001b[0mICASEA\u001b[0m \u001b[1;33m=\u001b[0m \u001b[0mConference\u001b[0m\u001b[1;33m(\u001b[0m\u001b[1;34m\"ICASEA\"\u001b[0m\u001b[1;33m,\u001b[0m\u001b[1;34m\"International Conference on Advanced Software Engineering and Its Applications\"\u001b[0m\u001b[1;33m)\u001b[0m\u001b[1;33m\u001b[0m\u001b[0m\n\u001b[0m\u001b[0;32m     34\u001b[0m \u001b[0mICSA\u001b[0m \u001b[1;33m=\u001b[0m \u001b[0mconference\u001b[0m\u001b[1;33m(\u001b[0m\u001b[1;34m\"ICSA\"\u001b[0m\u001b[1;33m,\u001b[0m\u001b[1;34m\"Software Architecture (ICSA), 2017 IEEE International Conference on\"\u001b[0m\u001b[1;33m)\u001b[0m\u001b[1;33m\u001b[0m\u001b[0m\n\u001b[0;32m     35\u001b[0m \u001b[0mESEM\u001b[0m \u001b[1;33m=\u001b[0m  \u001b[0mconference\u001b[0m\u001b[1;33m(\u001b[0m\u001b[1;34m\"ESEM\"\u001b[0m\u001b[1;33m,\u001b[0m\u001b[1;34m\"International Symposium on Empirical Software Engineering and Measurement\"\u001b[0m\u001b[1;33m)\u001b[0m\u001b[1;33m\u001b[0m\u001b[0m\n",
      "\u001b[1;31mNameError\u001b[0m: name 'Conference' is not defined"
     ]
    },
    {
     "ename": "NameError",
     "evalue": "name 'Conference' is not defined",
     "output_type": "error",
     "traceback": [
      "\u001b[1;31m---------------------------------------------------------------------------\u001b[0m",
      "\u001b[1;31mNameError\u001b[0m                                 Traceback (most recent call last)",
      "\u001b[1;32mc:\\erica\\snowballing\\snowballing\\snowballing.py\u001b[0m in \u001b[0;36mnext_article\u001b[1;34m(self, b)\u001b[0m\n\u001b[0;32m    372\u001b[0m     \u001b[1;32mdef\u001b[0m \u001b[0mnext_article\u001b[0m\u001b[1;33m(\u001b[0m\u001b[0mself\u001b[0m\u001b[1;33m,\u001b[0m \u001b[0mb\u001b[0m\u001b[1;33m=\u001b[0m\u001b[1;32mNone\u001b[0m\u001b[1;33m)\u001b[0m\u001b[1;33m:\u001b[0m\u001b[1;33m\u001b[0m\u001b[0m\n\u001b[0;32m    373\u001b[0m         \u001b[1;34m\"\"\"Next article click event\"\"\"\u001b[0m\u001b[1;33m\u001b[0m\u001b[0m\n\u001b[1;32m--> 374\u001b[1;33m         \u001b[0mself\u001b[0m\u001b[1;33m.\u001b[0m\u001b[0mselector_widget\u001b[0m\u001b[1;33m.\u001b[0m\u001b[0mvalue\u001b[0m \u001b[1;33m=\u001b[0m \u001b[0mmin\u001b[0m\u001b[1;33m(\u001b[0m\u001b[0mself\u001b[0m\u001b[1;33m.\u001b[0m\u001b[0mselector_widget\u001b[0m\u001b[1;33m.\u001b[0m\u001b[0mvalue\u001b[0m \u001b[1;33m+\u001b[0m \u001b[1;36m1\u001b[0m\u001b[1;33m,\u001b[0m \u001b[0mself\u001b[0m\u001b[1;33m.\u001b[0m\u001b[0mselector_widget\u001b[0m\u001b[1;33m.\u001b[0m\u001b[0mmax\u001b[0m\u001b[1;33m)\u001b[0m\u001b[1;33m\u001b[0m\u001b[0m\n\u001b[0m\u001b[0;32m    375\u001b[0m         \u001b[0mself\u001b[0m\u001b[1;33m.\u001b[0m\u001b[0merase_article_form\u001b[0m\u001b[1;33m(\u001b[0m\u001b[1;33m)\u001b[0m\u001b[1;33m\u001b[0m\u001b[0m\n\u001b[0;32m    376\u001b[0m         \u001b[0mself\u001b[0m\u001b[1;33m.\u001b[0m\u001b[0mshow\u001b[0m\u001b[1;33m(\u001b[0m\u001b[0mclear\u001b[0m\u001b[1;33m=\u001b[0m\u001b[1;32mTrue\u001b[0m\u001b[1;33m)\u001b[0m\u001b[1;33m\u001b[0m\u001b[0m\n",
      "\u001b[1;32mC:\\ProgramData\\Anaconda3\\lib\\site-packages\\traitlets\\traitlets.py\u001b[0m in \u001b[0;36m__set__\u001b[1;34m(self, obj, value)\u001b[0m\n\u001b[0;32m    581\u001b[0m             \u001b[1;32mraise\u001b[0m \u001b[0mTraitError\u001b[0m\u001b[1;33m(\u001b[0m\u001b[1;34m'The \"%s\" trait is read-only.'\u001b[0m \u001b[1;33m%\u001b[0m \u001b[0mself\u001b[0m\u001b[1;33m.\u001b[0m\u001b[0mname\u001b[0m\u001b[1;33m)\u001b[0m\u001b[1;33m\u001b[0m\u001b[0m\n\u001b[0;32m    582\u001b[0m         \u001b[1;32melse\u001b[0m\u001b[1;33m:\u001b[0m\u001b[1;33m\u001b[0m\u001b[0m\n\u001b[1;32m--> 583\u001b[1;33m             \u001b[0mself\u001b[0m\u001b[1;33m.\u001b[0m\u001b[0mset\u001b[0m\u001b[1;33m(\u001b[0m\u001b[0mobj\u001b[0m\u001b[1;33m,\u001b[0m \u001b[0mvalue\u001b[0m\u001b[1;33m)\u001b[0m\u001b[1;33m\u001b[0m\u001b[0m\n\u001b[0m\u001b[0;32m    584\u001b[0m \u001b[1;33m\u001b[0m\u001b[0m\n\u001b[0;32m    585\u001b[0m     \u001b[1;32mdef\u001b[0m \u001b[0m_validate\u001b[0m\u001b[1;33m(\u001b[0m\u001b[0mself\u001b[0m\u001b[1;33m,\u001b[0m \u001b[0mobj\u001b[0m\u001b[1;33m,\u001b[0m \u001b[0mvalue\u001b[0m\u001b[1;33m)\u001b[0m\u001b[1;33m:\u001b[0m\u001b[1;33m\u001b[0m\u001b[0m\n",
      "\u001b[1;32mC:\\ProgramData\\Anaconda3\\lib\\site-packages\\traitlets\\traitlets.py\u001b[0m in \u001b[0;36mset\u001b[1;34m(self, obj, value)\u001b[0m\n\u001b[0;32m    570\u001b[0m             \u001b[1;31m# we explicitly compare silent to True just in case the equality\u001b[0m\u001b[1;33m\u001b[0m\u001b[1;33m\u001b[0m\u001b[0m\n\u001b[0;32m    571\u001b[0m             \u001b[1;31m# comparison above returns something other than True/False\u001b[0m\u001b[1;33m\u001b[0m\u001b[1;33m\u001b[0m\u001b[0m\n\u001b[1;32m--> 572\u001b[1;33m             \u001b[0mobj\u001b[0m\u001b[1;33m.\u001b[0m\u001b[0m_notify_trait\u001b[0m\u001b[1;33m(\u001b[0m\u001b[0mself\u001b[0m\u001b[1;33m.\u001b[0m\u001b[0mname\u001b[0m\u001b[1;33m,\u001b[0m \u001b[0mold_value\u001b[0m\u001b[1;33m,\u001b[0m \u001b[0mnew_value\u001b[0m\u001b[1;33m)\u001b[0m\u001b[1;33m\u001b[0m\u001b[0m\n\u001b[0m\u001b[0;32m    573\u001b[0m \u001b[1;33m\u001b[0m\u001b[0m\n\u001b[0;32m    574\u001b[0m     \u001b[1;32mdef\u001b[0m \u001b[0m__set__\u001b[0m\u001b[1;33m(\u001b[0m\u001b[0mself\u001b[0m\u001b[1;33m,\u001b[0m \u001b[0mobj\u001b[0m\u001b[1;33m,\u001b[0m \u001b[0mvalue\u001b[0m\u001b[1;33m)\u001b[0m\u001b[1;33m:\u001b[0m\u001b[1;33m\u001b[0m\u001b[0m\n",
      "\u001b[1;32mC:\\ProgramData\\Anaconda3\\lib\\site-packages\\traitlets\\traitlets.py\u001b[0m in \u001b[0;36m_notify_trait\u001b[1;34m(self, name, old_value, new_value)\u001b[0m\n\u001b[0;32m   1135\u001b[0m             \u001b[0mnew\u001b[0m\u001b[1;33m=\u001b[0m\u001b[0mnew_value\u001b[0m\u001b[1;33m,\u001b[0m\u001b[1;33m\u001b[0m\u001b[0m\n\u001b[0;32m   1136\u001b[0m             \u001b[0mowner\u001b[0m\u001b[1;33m=\u001b[0m\u001b[0mself\u001b[0m\u001b[1;33m,\u001b[0m\u001b[1;33m\u001b[0m\u001b[0m\n\u001b[1;32m-> 1137\u001b[1;33m             \u001b[0mtype\u001b[0m\u001b[1;33m=\u001b[0m\u001b[1;34m'change'\u001b[0m\u001b[1;33m,\u001b[0m\u001b[1;33m\u001b[0m\u001b[0m\n\u001b[0m\u001b[0;32m   1138\u001b[0m         ))\n\u001b[0;32m   1139\u001b[0m \u001b[1;33m\u001b[0m\u001b[0m\n",
      "\u001b[1;32mC:\\ProgramData\\Anaconda3\\lib\\site-packages\\ipywidgets\\widgets\\widget.py\u001b[0m in \u001b[0;36mnotify_change\u001b[1;34m(self, change)\u001b[0m\n\u001b[0;32m    604\u001b[0m                 \u001b[1;31m# Send new state to front-end\u001b[0m\u001b[1;33m\u001b[0m\u001b[1;33m\u001b[0m\u001b[0m\n\u001b[0;32m    605\u001b[0m                 \u001b[0mself\u001b[0m\u001b[1;33m.\u001b[0m\u001b[0msend_state\u001b[0m\u001b[1;33m(\u001b[0m\u001b[0mkey\u001b[0m\u001b[1;33m=\u001b[0m\u001b[0mname\u001b[0m\u001b[1;33m)\u001b[0m\u001b[1;33m\u001b[0m\u001b[0m\n\u001b[1;32m--> 606\u001b[1;33m         \u001b[0msuper\u001b[0m\u001b[1;33m(\u001b[0m\u001b[0mWidget\u001b[0m\u001b[1;33m,\u001b[0m \u001b[0mself\u001b[0m\u001b[1;33m)\u001b[0m\u001b[1;33m.\u001b[0m\u001b[0mnotify_change\u001b[0m\u001b[1;33m(\u001b[0m\u001b[0mchange\u001b[0m\u001b[1;33m)\u001b[0m\u001b[1;33m\u001b[0m\u001b[0m\n\u001b[0m\u001b[0;32m    607\u001b[0m \u001b[1;33m\u001b[0m\u001b[0m\n\u001b[0;32m    608\u001b[0m     \u001b[1;32mdef\u001b[0m \u001b[0m__repr__\u001b[0m\u001b[1;33m(\u001b[0m\u001b[0mself\u001b[0m\u001b[1;33m)\u001b[0m\u001b[1;33m:\u001b[0m\u001b[1;33m\u001b[0m\u001b[0m\n",
      "\u001b[1;32mC:\\ProgramData\\Anaconda3\\lib\\site-packages\\traitlets\\traitlets.py\u001b[0m in \u001b[0;36mnotify_change\u001b[1;34m(self, change)\u001b[0m\n\u001b[0;32m   1172\u001b[0m                 \u001b[0mc\u001b[0m \u001b[1;33m=\u001b[0m \u001b[0mgetattr\u001b[0m\u001b[1;33m(\u001b[0m\u001b[0mself\u001b[0m\u001b[1;33m,\u001b[0m \u001b[0mc\u001b[0m\u001b[1;33m.\u001b[0m\u001b[0mname\u001b[0m\u001b[1;33m)\u001b[0m\u001b[1;33m\u001b[0m\u001b[0m\n\u001b[0;32m   1173\u001b[0m \u001b[1;33m\u001b[0m\u001b[0m\n\u001b[1;32m-> 1174\u001b[1;33m             \u001b[0mc\u001b[0m\u001b[1;33m(\u001b[0m\u001b[0mchange\u001b[0m\u001b[1;33m)\u001b[0m\u001b[1;33m\u001b[0m\u001b[0m\n\u001b[0m\u001b[0;32m   1175\u001b[0m \u001b[1;33m\u001b[0m\u001b[0m\n\u001b[0;32m   1176\u001b[0m     \u001b[1;32mdef\u001b[0m \u001b[0m_add_notifiers\u001b[0m\u001b[1;33m(\u001b[0m\u001b[0mself\u001b[0m\u001b[1;33m,\u001b[0m \u001b[0mhandler\u001b[0m\u001b[1;33m,\u001b[0m \u001b[0mname\u001b[0m\u001b[1;33m,\u001b[0m \u001b[0mtype\u001b[0m\u001b[1;33m)\u001b[0m\u001b[1;33m:\u001b[0m\u001b[1;33m\u001b[0m\u001b[0m\n",
      "\u001b[1;32mc:\\erica\\snowballing\\snowballing\\snowballing.py\u001b[0m in \u001b[0;36mshow\u001b[1;34m(self, b, clear)\u001b[0m\n\u001b[0;32m    501\u001b[0m         \u001b[1;34m\"\"\"Generic display\"\"\"\u001b[0m\u001b[1;33m\u001b[0m\u001b[0m\n\u001b[0;32m    502\u001b[0m         \u001b[0m_up\u001b[0m \u001b[1;33m=\u001b[0m \u001b[0mself\u001b[0m\u001b[1;33m.\u001b[0m\u001b[0mupdate_info\u001b[0m\u001b[1;33m\u001b[0m\u001b[0m\n\u001b[1;32m--> 503\u001b[1;33m         \u001b[0mreload\u001b[0m\u001b[1;33m(\u001b[0m\u001b[1;33m)\u001b[0m\u001b[1;33m\u001b[0m\u001b[0m\n\u001b[0m\u001b[0;32m    504\u001b[0m         \u001b[0mself\u001b[0m\u001b[1;33m.\u001b[0m\u001b[0mnext_article_widget\u001b[0m\u001b[1;33m.\u001b[0m\u001b[0mdisabled\u001b[0m \u001b[1;33m=\u001b[0m \u001b[0mself\u001b[0m\u001b[1;33m.\u001b[0m\u001b[0mselector_widget\u001b[0m\u001b[1;33m.\u001b[0m\u001b[0mvalue\u001b[0m \u001b[1;33m==\u001b[0m \u001b[0mself\u001b[0m\u001b[1;33m.\u001b[0m\u001b[0mselector_widget\u001b[0m\u001b[1;33m.\u001b[0m\u001b[0mmax\u001b[0m\u001b[1;33m\u001b[0m\u001b[0m\n\u001b[0;32m    505\u001b[0m         \u001b[0mself\u001b[0m\u001b[1;33m.\u001b[0m\u001b[0mprevious_article_widget\u001b[0m\u001b[1;33m.\u001b[0m\u001b[0mdisabled\u001b[0m \u001b[1;33m=\u001b[0m \u001b[0mself\u001b[0m\u001b[1;33m.\u001b[0m\u001b[0mselector_widget\u001b[0m\u001b[1;33m.\u001b[0m\u001b[0mvalue\u001b[0m \u001b[1;33m==\u001b[0m \u001b[1;36m0\u001b[0m\u001b[1;33m\u001b[0m\u001b[0m\n",
      "\u001b[1;32mc:\\erica\\snowballing\\snowballing\\operations.py\u001b[0m in \u001b[0;36mreload\u001b[1;34m()\u001b[0m\n\u001b[0;32m    156\u001b[0m     \"\"\"\n\u001b[0;32m    157\u001b[0m     \u001b[0m_clear_db\u001b[0m\u001b[1;33m(\u001b[0m\u001b[1;33m)\u001b[0m\u001b[1;33m\u001b[0m\u001b[0m\n\u001b[1;32m--> 158\u001b[1;33m     \u001b[0mimportlib\u001b[0m\u001b[1;33m.\u001b[0m\u001b[0mreload\u001b[0m\u001b[1;33m(\u001b[0m\u001b[0mconfig\u001b[0m\u001b[1;33m.\u001b[0m\u001b[0mMODULES\u001b[0m\u001b[1;33m[\u001b[0m\u001b[1;34m'places'\u001b[0m\u001b[1;33m]\u001b[0m\u001b[1;33m)\u001b[0m\u001b[1;33m\u001b[0m\u001b[0m\n\u001b[0m\u001b[0;32m    159\u001b[0m     \u001b[0m_reload_work\u001b[0m\u001b[1;33m(\u001b[0m\u001b[1;33m)\u001b[0m\u001b[1;33m\u001b[0m\u001b[0m\n\u001b[0;32m    160\u001b[0m     \u001b[0mimport_submodules\u001b[0m\u001b[1;33m(\u001b[0m\u001b[0mconfig\u001b[0m\u001b[1;33m.\u001b[0m\u001b[0mMODULES\u001b[0m\u001b[1;33m[\u001b[0m\u001b[1;34m'citations'\u001b[0m\u001b[1;33m]\u001b[0m\u001b[1;33m)\u001b[0m\u001b[1;33m\u001b[0m\u001b[0m\n",
      "\u001b[1;32mC:\\ProgramData\\Anaconda3\\lib\\importlib\\__init__.py\u001b[0m in \u001b[0;36mreload\u001b[1;34m(module)\u001b[0m\n\u001b[0;32m    164\u001b[0m         \u001b[0mtarget\u001b[0m \u001b[1;33m=\u001b[0m \u001b[0mmodule\u001b[0m\u001b[1;33m\u001b[0m\u001b[0m\n\u001b[0;32m    165\u001b[0m         \u001b[0mspec\u001b[0m \u001b[1;33m=\u001b[0m \u001b[0mmodule\u001b[0m\u001b[1;33m.\u001b[0m\u001b[0m__spec__\u001b[0m \u001b[1;33m=\u001b[0m \u001b[0m_bootstrap\u001b[0m\u001b[1;33m.\u001b[0m\u001b[0m_find_spec\u001b[0m\u001b[1;33m(\u001b[0m\u001b[0mname\u001b[0m\u001b[1;33m,\u001b[0m \u001b[0mpkgpath\u001b[0m\u001b[1;33m,\u001b[0m \u001b[0mtarget\u001b[0m\u001b[1;33m)\u001b[0m\u001b[1;33m\u001b[0m\u001b[0m\n\u001b[1;32m--> 166\u001b[1;33m         \u001b[0m_bootstrap\u001b[0m\u001b[1;33m.\u001b[0m\u001b[0m_exec\u001b[0m\u001b[1;33m(\u001b[0m\u001b[0mspec\u001b[0m\u001b[1;33m,\u001b[0m \u001b[0mmodule\u001b[0m\u001b[1;33m)\u001b[0m\u001b[1;33m\u001b[0m\u001b[0m\n\u001b[0m\u001b[0;32m    167\u001b[0m         \u001b[1;31m# The module may have replaced itself in sys.modules!\u001b[0m\u001b[1;33m\u001b[0m\u001b[1;33m\u001b[0m\u001b[0m\n\u001b[0;32m    168\u001b[0m         \u001b[1;32mreturn\u001b[0m \u001b[0msys\u001b[0m\u001b[1;33m.\u001b[0m\u001b[0mmodules\u001b[0m\u001b[1;33m[\u001b[0m\u001b[0mname\u001b[0m\u001b[1;33m]\u001b[0m\u001b[1;33m\u001b[0m\u001b[0m\n",
      "\u001b[1;32mC:\\ProgramData\\Anaconda3\\lib\\importlib\\_bootstrap.py\u001b[0m in \u001b[0;36m_exec\u001b[1;34m(spec, module)\u001b[0m\n",
      "\u001b[1;32mC:\\ProgramData\\Anaconda3\\lib\\importlib\\_bootstrap_external.py\u001b[0m in \u001b[0;36mexec_module\u001b[1;34m(self, module)\u001b[0m\n",
      "\u001b[1;32mC:\\ProgramData\\Anaconda3\\lib\\importlib\\_bootstrap.py\u001b[0m in \u001b[0;36m_call_with_frames_removed\u001b[1;34m(f, *args, **kwds)\u001b[0m\n",
      "\u001b[1;32mC:\\Erica\\hybrid_strategy\\case_study_3\\database\\places.py\u001b[0m in \u001b[0;36m<module>\u001b[1;34m()\u001b[0m\n\u001b[0;32m     31\u001b[0m \u001b[0mJCP\u001b[0m \u001b[1;33m=\u001b[0m  \u001b[0mjournal\u001b[0m\u001b[1;33m(\u001b[0m\u001b[1;34m\"JCP\"\u001b[0m\u001b[1;33m,\u001b[0m\u001b[1;34m\"Journal of Cleaner Production\"\u001b[0m\u001b[1;33m)\u001b[0m\u001b[1;33m\u001b[0m\u001b[0m\n\u001b[0;32m     32\u001b[0m \u001b[1;33m\u001b[0m\u001b[0m\n\u001b[1;32m---> 33\u001b[1;33m \u001b[0mICASEA\u001b[0m \u001b[1;33m=\u001b[0m \u001b[0mConference\u001b[0m\u001b[1;33m(\u001b[0m\u001b[1;34m\"ICASEA\"\u001b[0m\u001b[1;33m,\u001b[0m\u001b[1;34m\"International Conference on Advanced Software Engineering and Its Applications\"\u001b[0m\u001b[1;33m)\u001b[0m\u001b[1;33m\u001b[0m\u001b[0m\n\u001b[0m\u001b[0;32m     34\u001b[0m \u001b[0mICSA\u001b[0m \u001b[1;33m=\u001b[0m \u001b[0mconference\u001b[0m\u001b[1;33m(\u001b[0m\u001b[1;34m\"ICSA\"\u001b[0m\u001b[1;33m,\u001b[0m\u001b[1;34m\"Software Architecture (ICSA), 2017 IEEE International Conference on\"\u001b[0m\u001b[1;33m)\u001b[0m\u001b[1;33m\u001b[0m\u001b[0m\n\u001b[0;32m     35\u001b[0m \u001b[0mESEM\u001b[0m \u001b[1;33m=\u001b[0m  \u001b[0mconference\u001b[0m\u001b[1;33m(\u001b[0m\u001b[1;34m\"ESEM\"\u001b[0m\u001b[1;33m,\u001b[0m\u001b[1;34m\"International Symposium on Empirical Software Engineering and Measurement\"\u001b[0m\u001b[1;33m)\u001b[0m\u001b[1;33m\u001b[0m\u001b[0m\n",
      "\u001b[1;31mNameError\u001b[0m: name 'Conference' is not defined"
     ]
    },
    {
     "ename": "NameError",
     "evalue": "name 'Conference' is not defined",
     "output_type": "error",
     "traceback": [
      "\u001b[1;31m---------------------------------------------------------------------------\u001b[0m",
      "\u001b[1;31mNameError\u001b[0m                                 Traceback (most recent call last)",
      "\u001b[1;32mc:\\erica\\snowballing\\snowballing\\snowballing.py\u001b[0m in \u001b[0;36mnext_article\u001b[1;34m(self, b)\u001b[0m\n\u001b[0;32m    372\u001b[0m     \u001b[1;32mdef\u001b[0m \u001b[0mnext_article\u001b[0m\u001b[1;33m(\u001b[0m\u001b[0mself\u001b[0m\u001b[1;33m,\u001b[0m \u001b[0mb\u001b[0m\u001b[1;33m=\u001b[0m\u001b[1;32mNone\u001b[0m\u001b[1;33m)\u001b[0m\u001b[1;33m:\u001b[0m\u001b[1;33m\u001b[0m\u001b[0m\n\u001b[0;32m    373\u001b[0m         \u001b[1;34m\"\"\"Next article click event\"\"\"\u001b[0m\u001b[1;33m\u001b[0m\u001b[0m\n\u001b[1;32m--> 374\u001b[1;33m         \u001b[0mself\u001b[0m\u001b[1;33m.\u001b[0m\u001b[0mselector_widget\u001b[0m\u001b[1;33m.\u001b[0m\u001b[0mvalue\u001b[0m \u001b[1;33m=\u001b[0m \u001b[0mmin\u001b[0m\u001b[1;33m(\u001b[0m\u001b[0mself\u001b[0m\u001b[1;33m.\u001b[0m\u001b[0mselector_widget\u001b[0m\u001b[1;33m.\u001b[0m\u001b[0mvalue\u001b[0m \u001b[1;33m+\u001b[0m \u001b[1;36m1\u001b[0m\u001b[1;33m,\u001b[0m \u001b[0mself\u001b[0m\u001b[1;33m.\u001b[0m\u001b[0mselector_widget\u001b[0m\u001b[1;33m.\u001b[0m\u001b[0mmax\u001b[0m\u001b[1;33m)\u001b[0m\u001b[1;33m\u001b[0m\u001b[0m\n\u001b[0m\u001b[0;32m    375\u001b[0m         \u001b[0mself\u001b[0m\u001b[1;33m.\u001b[0m\u001b[0merase_article_form\u001b[0m\u001b[1;33m(\u001b[0m\u001b[1;33m)\u001b[0m\u001b[1;33m\u001b[0m\u001b[0m\n\u001b[0;32m    376\u001b[0m         \u001b[0mself\u001b[0m\u001b[1;33m.\u001b[0m\u001b[0mshow\u001b[0m\u001b[1;33m(\u001b[0m\u001b[0mclear\u001b[0m\u001b[1;33m=\u001b[0m\u001b[1;32mTrue\u001b[0m\u001b[1;33m)\u001b[0m\u001b[1;33m\u001b[0m\u001b[0m\n",
      "\u001b[1;32mC:\\ProgramData\\Anaconda3\\lib\\site-packages\\traitlets\\traitlets.py\u001b[0m in \u001b[0;36m__set__\u001b[1;34m(self, obj, value)\u001b[0m\n\u001b[0;32m    581\u001b[0m             \u001b[1;32mraise\u001b[0m \u001b[0mTraitError\u001b[0m\u001b[1;33m(\u001b[0m\u001b[1;34m'The \"%s\" trait is read-only.'\u001b[0m \u001b[1;33m%\u001b[0m \u001b[0mself\u001b[0m\u001b[1;33m.\u001b[0m\u001b[0mname\u001b[0m\u001b[1;33m)\u001b[0m\u001b[1;33m\u001b[0m\u001b[0m\n\u001b[0;32m    582\u001b[0m         \u001b[1;32melse\u001b[0m\u001b[1;33m:\u001b[0m\u001b[1;33m\u001b[0m\u001b[0m\n\u001b[1;32m--> 583\u001b[1;33m             \u001b[0mself\u001b[0m\u001b[1;33m.\u001b[0m\u001b[0mset\u001b[0m\u001b[1;33m(\u001b[0m\u001b[0mobj\u001b[0m\u001b[1;33m,\u001b[0m \u001b[0mvalue\u001b[0m\u001b[1;33m)\u001b[0m\u001b[1;33m\u001b[0m\u001b[0m\n\u001b[0m\u001b[0;32m    584\u001b[0m \u001b[1;33m\u001b[0m\u001b[0m\n\u001b[0;32m    585\u001b[0m     \u001b[1;32mdef\u001b[0m \u001b[0m_validate\u001b[0m\u001b[1;33m(\u001b[0m\u001b[0mself\u001b[0m\u001b[1;33m,\u001b[0m \u001b[0mobj\u001b[0m\u001b[1;33m,\u001b[0m \u001b[0mvalue\u001b[0m\u001b[1;33m)\u001b[0m\u001b[1;33m:\u001b[0m\u001b[1;33m\u001b[0m\u001b[0m\n",
      "\u001b[1;32mC:\\ProgramData\\Anaconda3\\lib\\site-packages\\traitlets\\traitlets.py\u001b[0m in \u001b[0;36mset\u001b[1;34m(self, obj, value)\u001b[0m\n\u001b[0;32m    570\u001b[0m             \u001b[1;31m# we explicitly compare silent to True just in case the equality\u001b[0m\u001b[1;33m\u001b[0m\u001b[1;33m\u001b[0m\u001b[0m\n\u001b[0;32m    571\u001b[0m             \u001b[1;31m# comparison above returns something other than True/False\u001b[0m\u001b[1;33m\u001b[0m\u001b[1;33m\u001b[0m\u001b[0m\n\u001b[1;32m--> 572\u001b[1;33m             \u001b[0mobj\u001b[0m\u001b[1;33m.\u001b[0m\u001b[0m_notify_trait\u001b[0m\u001b[1;33m(\u001b[0m\u001b[0mself\u001b[0m\u001b[1;33m.\u001b[0m\u001b[0mname\u001b[0m\u001b[1;33m,\u001b[0m \u001b[0mold_value\u001b[0m\u001b[1;33m,\u001b[0m \u001b[0mnew_value\u001b[0m\u001b[1;33m)\u001b[0m\u001b[1;33m\u001b[0m\u001b[0m\n\u001b[0m\u001b[0;32m    573\u001b[0m \u001b[1;33m\u001b[0m\u001b[0m\n\u001b[0;32m    574\u001b[0m     \u001b[1;32mdef\u001b[0m \u001b[0m__set__\u001b[0m\u001b[1;33m(\u001b[0m\u001b[0mself\u001b[0m\u001b[1;33m,\u001b[0m \u001b[0mobj\u001b[0m\u001b[1;33m,\u001b[0m \u001b[0mvalue\u001b[0m\u001b[1;33m)\u001b[0m\u001b[1;33m:\u001b[0m\u001b[1;33m\u001b[0m\u001b[0m\n",
      "\u001b[1;32mC:\\ProgramData\\Anaconda3\\lib\\site-packages\\traitlets\\traitlets.py\u001b[0m in \u001b[0;36m_notify_trait\u001b[1;34m(self, name, old_value, new_value)\u001b[0m\n\u001b[0;32m   1135\u001b[0m             \u001b[0mnew\u001b[0m\u001b[1;33m=\u001b[0m\u001b[0mnew_value\u001b[0m\u001b[1;33m,\u001b[0m\u001b[1;33m\u001b[0m\u001b[0m\n\u001b[0;32m   1136\u001b[0m             \u001b[0mowner\u001b[0m\u001b[1;33m=\u001b[0m\u001b[0mself\u001b[0m\u001b[1;33m,\u001b[0m\u001b[1;33m\u001b[0m\u001b[0m\n\u001b[1;32m-> 1137\u001b[1;33m             \u001b[0mtype\u001b[0m\u001b[1;33m=\u001b[0m\u001b[1;34m'change'\u001b[0m\u001b[1;33m,\u001b[0m\u001b[1;33m\u001b[0m\u001b[0m\n\u001b[0m\u001b[0;32m   1138\u001b[0m         ))\n\u001b[0;32m   1139\u001b[0m \u001b[1;33m\u001b[0m\u001b[0m\n",
      "\u001b[1;32mC:\\ProgramData\\Anaconda3\\lib\\site-packages\\ipywidgets\\widgets\\widget.py\u001b[0m in \u001b[0;36mnotify_change\u001b[1;34m(self, change)\u001b[0m\n\u001b[0;32m    604\u001b[0m                 \u001b[1;31m# Send new state to front-end\u001b[0m\u001b[1;33m\u001b[0m\u001b[1;33m\u001b[0m\u001b[0m\n\u001b[0;32m    605\u001b[0m                 \u001b[0mself\u001b[0m\u001b[1;33m.\u001b[0m\u001b[0msend_state\u001b[0m\u001b[1;33m(\u001b[0m\u001b[0mkey\u001b[0m\u001b[1;33m=\u001b[0m\u001b[0mname\u001b[0m\u001b[1;33m)\u001b[0m\u001b[1;33m\u001b[0m\u001b[0m\n\u001b[1;32m--> 606\u001b[1;33m         \u001b[0msuper\u001b[0m\u001b[1;33m(\u001b[0m\u001b[0mWidget\u001b[0m\u001b[1;33m,\u001b[0m \u001b[0mself\u001b[0m\u001b[1;33m)\u001b[0m\u001b[1;33m.\u001b[0m\u001b[0mnotify_change\u001b[0m\u001b[1;33m(\u001b[0m\u001b[0mchange\u001b[0m\u001b[1;33m)\u001b[0m\u001b[1;33m\u001b[0m\u001b[0m\n\u001b[0m\u001b[0;32m    607\u001b[0m \u001b[1;33m\u001b[0m\u001b[0m\n\u001b[0;32m    608\u001b[0m     \u001b[1;32mdef\u001b[0m \u001b[0m__repr__\u001b[0m\u001b[1;33m(\u001b[0m\u001b[0mself\u001b[0m\u001b[1;33m)\u001b[0m\u001b[1;33m:\u001b[0m\u001b[1;33m\u001b[0m\u001b[0m\n",
      "\u001b[1;32mC:\\ProgramData\\Anaconda3\\lib\\site-packages\\traitlets\\traitlets.py\u001b[0m in \u001b[0;36mnotify_change\u001b[1;34m(self, change)\u001b[0m\n\u001b[0;32m   1172\u001b[0m                 \u001b[0mc\u001b[0m \u001b[1;33m=\u001b[0m \u001b[0mgetattr\u001b[0m\u001b[1;33m(\u001b[0m\u001b[0mself\u001b[0m\u001b[1;33m,\u001b[0m \u001b[0mc\u001b[0m\u001b[1;33m.\u001b[0m\u001b[0mname\u001b[0m\u001b[1;33m)\u001b[0m\u001b[1;33m\u001b[0m\u001b[0m\n\u001b[0;32m   1173\u001b[0m \u001b[1;33m\u001b[0m\u001b[0m\n\u001b[1;32m-> 1174\u001b[1;33m             \u001b[0mc\u001b[0m\u001b[1;33m(\u001b[0m\u001b[0mchange\u001b[0m\u001b[1;33m)\u001b[0m\u001b[1;33m\u001b[0m\u001b[0m\n\u001b[0m\u001b[0;32m   1175\u001b[0m \u001b[1;33m\u001b[0m\u001b[0m\n\u001b[0;32m   1176\u001b[0m     \u001b[1;32mdef\u001b[0m \u001b[0m_add_notifiers\u001b[0m\u001b[1;33m(\u001b[0m\u001b[0mself\u001b[0m\u001b[1;33m,\u001b[0m \u001b[0mhandler\u001b[0m\u001b[1;33m,\u001b[0m \u001b[0mname\u001b[0m\u001b[1;33m,\u001b[0m \u001b[0mtype\u001b[0m\u001b[1;33m)\u001b[0m\u001b[1;33m:\u001b[0m\u001b[1;33m\u001b[0m\u001b[0m\n",
      "\u001b[1;32mc:\\erica\\snowballing\\snowballing\\snowballing.py\u001b[0m in \u001b[0;36mshow\u001b[1;34m(self, b, clear)\u001b[0m\n\u001b[0;32m    501\u001b[0m         \u001b[1;34m\"\"\"Generic display\"\"\"\u001b[0m\u001b[1;33m\u001b[0m\u001b[0m\n\u001b[0;32m    502\u001b[0m         \u001b[0m_up\u001b[0m \u001b[1;33m=\u001b[0m \u001b[0mself\u001b[0m\u001b[1;33m.\u001b[0m\u001b[0mupdate_info\u001b[0m\u001b[1;33m\u001b[0m\u001b[0m\n\u001b[1;32m--> 503\u001b[1;33m         \u001b[0mreload\u001b[0m\u001b[1;33m(\u001b[0m\u001b[1;33m)\u001b[0m\u001b[1;33m\u001b[0m\u001b[0m\n\u001b[0m\u001b[0;32m    504\u001b[0m         \u001b[0mself\u001b[0m\u001b[1;33m.\u001b[0m\u001b[0mnext_article_widget\u001b[0m\u001b[1;33m.\u001b[0m\u001b[0mdisabled\u001b[0m \u001b[1;33m=\u001b[0m \u001b[0mself\u001b[0m\u001b[1;33m.\u001b[0m\u001b[0mselector_widget\u001b[0m\u001b[1;33m.\u001b[0m\u001b[0mvalue\u001b[0m \u001b[1;33m==\u001b[0m \u001b[0mself\u001b[0m\u001b[1;33m.\u001b[0m\u001b[0mselector_widget\u001b[0m\u001b[1;33m.\u001b[0m\u001b[0mmax\u001b[0m\u001b[1;33m\u001b[0m\u001b[0m\n\u001b[0;32m    505\u001b[0m         \u001b[0mself\u001b[0m\u001b[1;33m.\u001b[0m\u001b[0mprevious_article_widget\u001b[0m\u001b[1;33m.\u001b[0m\u001b[0mdisabled\u001b[0m \u001b[1;33m=\u001b[0m \u001b[0mself\u001b[0m\u001b[1;33m.\u001b[0m\u001b[0mselector_widget\u001b[0m\u001b[1;33m.\u001b[0m\u001b[0mvalue\u001b[0m \u001b[1;33m==\u001b[0m \u001b[1;36m0\u001b[0m\u001b[1;33m\u001b[0m\u001b[0m\n",
      "\u001b[1;32mc:\\erica\\snowballing\\snowballing\\operations.py\u001b[0m in \u001b[0;36mreload\u001b[1;34m()\u001b[0m\n\u001b[0;32m    156\u001b[0m     \"\"\"\n\u001b[0;32m    157\u001b[0m     \u001b[0m_clear_db\u001b[0m\u001b[1;33m(\u001b[0m\u001b[1;33m)\u001b[0m\u001b[1;33m\u001b[0m\u001b[0m\n\u001b[1;32m--> 158\u001b[1;33m     \u001b[0mimportlib\u001b[0m\u001b[1;33m.\u001b[0m\u001b[0mreload\u001b[0m\u001b[1;33m(\u001b[0m\u001b[0mconfig\u001b[0m\u001b[1;33m.\u001b[0m\u001b[0mMODULES\u001b[0m\u001b[1;33m[\u001b[0m\u001b[1;34m'places'\u001b[0m\u001b[1;33m]\u001b[0m\u001b[1;33m)\u001b[0m\u001b[1;33m\u001b[0m\u001b[0m\n\u001b[0m\u001b[0;32m    159\u001b[0m     \u001b[0m_reload_work\u001b[0m\u001b[1;33m(\u001b[0m\u001b[1;33m)\u001b[0m\u001b[1;33m\u001b[0m\u001b[0m\n\u001b[0;32m    160\u001b[0m     \u001b[0mimport_submodules\u001b[0m\u001b[1;33m(\u001b[0m\u001b[0mconfig\u001b[0m\u001b[1;33m.\u001b[0m\u001b[0mMODULES\u001b[0m\u001b[1;33m[\u001b[0m\u001b[1;34m'citations'\u001b[0m\u001b[1;33m]\u001b[0m\u001b[1;33m)\u001b[0m\u001b[1;33m\u001b[0m\u001b[0m\n",
      "\u001b[1;32mC:\\ProgramData\\Anaconda3\\lib\\importlib\\__init__.py\u001b[0m in \u001b[0;36mreload\u001b[1;34m(module)\u001b[0m\n\u001b[0;32m    164\u001b[0m         \u001b[0mtarget\u001b[0m \u001b[1;33m=\u001b[0m \u001b[0mmodule\u001b[0m\u001b[1;33m\u001b[0m\u001b[0m\n\u001b[0;32m    165\u001b[0m         \u001b[0mspec\u001b[0m \u001b[1;33m=\u001b[0m \u001b[0mmodule\u001b[0m\u001b[1;33m.\u001b[0m\u001b[0m__spec__\u001b[0m \u001b[1;33m=\u001b[0m \u001b[0m_bootstrap\u001b[0m\u001b[1;33m.\u001b[0m\u001b[0m_find_spec\u001b[0m\u001b[1;33m(\u001b[0m\u001b[0mname\u001b[0m\u001b[1;33m,\u001b[0m \u001b[0mpkgpath\u001b[0m\u001b[1;33m,\u001b[0m \u001b[0mtarget\u001b[0m\u001b[1;33m)\u001b[0m\u001b[1;33m\u001b[0m\u001b[0m\n\u001b[1;32m--> 166\u001b[1;33m         \u001b[0m_bootstrap\u001b[0m\u001b[1;33m.\u001b[0m\u001b[0m_exec\u001b[0m\u001b[1;33m(\u001b[0m\u001b[0mspec\u001b[0m\u001b[1;33m,\u001b[0m \u001b[0mmodule\u001b[0m\u001b[1;33m)\u001b[0m\u001b[1;33m\u001b[0m\u001b[0m\n\u001b[0m\u001b[0;32m    167\u001b[0m         \u001b[1;31m# The module may have replaced itself in sys.modules!\u001b[0m\u001b[1;33m\u001b[0m\u001b[1;33m\u001b[0m\u001b[0m\n\u001b[0;32m    168\u001b[0m         \u001b[1;32mreturn\u001b[0m \u001b[0msys\u001b[0m\u001b[1;33m.\u001b[0m\u001b[0mmodules\u001b[0m\u001b[1;33m[\u001b[0m\u001b[0mname\u001b[0m\u001b[1;33m]\u001b[0m\u001b[1;33m\u001b[0m\u001b[0m\n",
      "\u001b[1;32mC:\\ProgramData\\Anaconda3\\lib\\importlib\\_bootstrap.py\u001b[0m in \u001b[0;36m_exec\u001b[1;34m(spec, module)\u001b[0m\n",
      "\u001b[1;32mC:\\ProgramData\\Anaconda3\\lib\\importlib\\_bootstrap_external.py\u001b[0m in \u001b[0;36mexec_module\u001b[1;34m(self, module)\u001b[0m\n",
      "\u001b[1;32mC:\\ProgramData\\Anaconda3\\lib\\importlib\\_bootstrap.py\u001b[0m in \u001b[0;36m_call_with_frames_removed\u001b[1;34m(f, *args, **kwds)\u001b[0m\n",
      "\u001b[1;32mC:\\Erica\\hybrid_strategy\\case_study_3\\database\\places.py\u001b[0m in \u001b[0;36m<module>\u001b[1;34m()\u001b[0m\n\u001b[0;32m     31\u001b[0m \u001b[0mJCP\u001b[0m \u001b[1;33m=\u001b[0m  \u001b[0mjournal\u001b[0m\u001b[1;33m(\u001b[0m\u001b[1;34m\"JCP\"\u001b[0m\u001b[1;33m,\u001b[0m\u001b[1;34m\"Journal of Cleaner Production\"\u001b[0m\u001b[1;33m)\u001b[0m\u001b[1;33m\u001b[0m\u001b[0m\n\u001b[0;32m     32\u001b[0m \u001b[1;33m\u001b[0m\u001b[0m\n\u001b[1;32m---> 33\u001b[1;33m \u001b[0mICASEA\u001b[0m \u001b[1;33m=\u001b[0m \u001b[0mConference\u001b[0m\u001b[1;33m(\u001b[0m\u001b[1;34m\"ICASEA\"\u001b[0m\u001b[1;33m,\u001b[0m\u001b[1;34m\"International Conference on Advanced Software Engineering and Its Applications\"\u001b[0m\u001b[1;33m)\u001b[0m\u001b[1;33m\u001b[0m\u001b[0m\n\u001b[0m\u001b[0;32m     34\u001b[0m \u001b[0mICSA\u001b[0m \u001b[1;33m=\u001b[0m \u001b[0mconference\u001b[0m\u001b[1;33m(\u001b[0m\u001b[1;34m\"ICSA\"\u001b[0m\u001b[1;33m,\u001b[0m\u001b[1;34m\"Software Architecture (ICSA), 2017 IEEE International Conference on\"\u001b[0m\u001b[1;33m)\u001b[0m\u001b[1;33m\u001b[0m\u001b[0m\n\u001b[0;32m     35\u001b[0m \u001b[0mESEM\u001b[0m \u001b[1;33m=\u001b[0m  \u001b[0mconference\u001b[0m\u001b[1;33m(\u001b[0m\u001b[1;34m\"ESEM\"\u001b[0m\u001b[1;33m,\u001b[0m\u001b[1;34m\"International Symposium on Empirical Software Engineering and Measurement\"\u001b[0m\u001b[1;33m)\u001b[0m\u001b[1;33m\u001b[0m\u001b[0m\n",
      "\u001b[1;31mNameError\u001b[0m: name 'Conference' is not defined"
     ]
    },
    {
     "ename": "NameError",
     "evalue": "name 'Conference' is not defined",
     "output_type": "error",
     "traceback": [
      "\u001b[1;31m---------------------------------------------------------------------------\u001b[0m",
      "\u001b[1;31mNameError\u001b[0m                                 Traceback (most recent call last)",
      "\u001b[1;32mc:\\erica\\snowballing\\snowballing\\snowballing.py\u001b[0m in \u001b[0;36mshow\u001b[1;34m(self, b, clear)\u001b[0m\n\u001b[0;32m    501\u001b[0m         \u001b[1;34m\"\"\"Generic display\"\"\"\u001b[0m\u001b[1;33m\u001b[0m\u001b[0m\n\u001b[0;32m    502\u001b[0m         \u001b[0m_up\u001b[0m \u001b[1;33m=\u001b[0m \u001b[0mself\u001b[0m\u001b[1;33m.\u001b[0m\u001b[0mupdate_info\u001b[0m\u001b[1;33m\u001b[0m\u001b[0m\n\u001b[1;32m--> 503\u001b[1;33m         \u001b[0mreload\u001b[0m\u001b[1;33m(\u001b[0m\u001b[1;33m)\u001b[0m\u001b[1;33m\u001b[0m\u001b[0m\n\u001b[0m\u001b[0;32m    504\u001b[0m         \u001b[0mself\u001b[0m\u001b[1;33m.\u001b[0m\u001b[0mnext_article_widget\u001b[0m\u001b[1;33m.\u001b[0m\u001b[0mdisabled\u001b[0m \u001b[1;33m=\u001b[0m \u001b[0mself\u001b[0m\u001b[1;33m.\u001b[0m\u001b[0mselector_widget\u001b[0m\u001b[1;33m.\u001b[0m\u001b[0mvalue\u001b[0m \u001b[1;33m==\u001b[0m \u001b[0mself\u001b[0m\u001b[1;33m.\u001b[0m\u001b[0mselector_widget\u001b[0m\u001b[1;33m.\u001b[0m\u001b[0mmax\u001b[0m\u001b[1;33m\u001b[0m\u001b[0m\n\u001b[0;32m    505\u001b[0m         \u001b[0mself\u001b[0m\u001b[1;33m.\u001b[0m\u001b[0mprevious_article_widget\u001b[0m\u001b[1;33m.\u001b[0m\u001b[0mdisabled\u001b[0m \u001b[1;33m=\u001b[0m \u001b[0mself\u001b[0m\u001b[1;33m.\u001b[0m\u001b[0mselector_widget\u001b[0m\u001b[1;33m.\u001b[0m\u001b[0mvalue\u001b[0m \u001b[1;33m==\u001b[0m \u001b[1;36m0\u001b[0m\u001b[1;33m\u001b[0m\u001b[0m\n",
      "\u001b[1;32mc:\\erica\\snowballing\\snowballing\\operations.py\u001b[0m in \u001b[0;36mreload\u001b[1;34m()\u001b[0m\n\u001b[0;32m    156\u001b[0m     \"\"\"\n\u001b[0;32m    157\u001b[0m     \u001b[0m_clear_db\u001b[0m\u001b[1;33m(\u001b[0m\u001b[1;33m)\u001b[0m\u001b[1;33m\u001b[0m\u001b[0m\n\u001b[1;32m--> 158\u001b[1;33m     \u001b[0mimportlib\u001b[0m\u001b[1;33m.\u001b[0m\u001b[0mreload\u001b[0m\u001b[1;33m(\u001b[0m\u001b[0mconfig\u001b[0m\u001b[1;33m.\u001b[0m\u001b[0mMODULES\u001b[0m\u001b[1;33m[\u001b[0m\u001b[1;34m'places'\u001b[0m\u001b[1;33m]\u001b[0m\u001b[1;33m)\u001b[0m\u001b[1;33m\u001b[0m\u001b[0m\n\u001b[0m\u001b[0;32m    159\u001b[0m     \u001b[0m_reload_work\u001b[0m\u001b[1;33m(\u001b[0m\u001b[1;33m)\u001b[0m\u001b[1;33m\u001b[0m\u001b[0m\n\u001b[0;32m    160\u001b[0m     \u001b[0mimport_submodules\u001b[0m\u001b[1;33m(\u001b[0m\u001b[0mconfig\u001b[0m\u001b[1;33m.\u001b[0m\u001b[0mMODULES\u001b[0m\u001b[1;33m[\u001b[0m\u001b[1;34m'citations'\u001b[0m\u001b[1;33m]\u001b[0m\u001b[1;33m)\u001b[0m\u001b[1;33m\u001b[0m\u001b[0m\n",
      "\u001b[1;32mC:\\ProgramData\\Anaconda3\\lib\\importlib\\__init__.py\u001b[0m in \u001b[0;36mreload\u001b[1;34m(module)\u001b[0m\n\u001b[0;32m    164\u001b[0m         \u001b[0mtarget\u001b[0m \u001b[1;33m=\u001b[0m \u001b[0mmodule\u001b[0m\u001b[1;33m\u001b[0m\u001b[0m\n\u001b[0;32m    165\u001b[0m         \u001b[0mspec\u001b[0m \u001b[1;33m=\u001b[0m \u001b[0mmodule\u001b[0m\u001b[1;33m.\u001b[0m\u001b[0m__spec__\u001b[0m \u001b[1;33m=\u001b[0m \u001b[0m_bootstrap\u001b[0m\u001b[1;33m.\u001b[0m\u001b[0m_find_spec\u001b[0m\u001b[1;33m(\u001b[0m\u001b[0mname\u001b[0m\u001b[1;33m,\u001b[0m \u001b[0mpkgpath\u001b[0m\u001b[1;33m,\u001b[0m \u001b[0mtarget\u001b[0m\u001b[1;33m)\u001b[0m\u001b[1;33m\u001b[0m\u001b[0m\n\u001b[1;32m--> 166\u001b[1;33m         \u001b[0m_bootstrap\u001b[0m\u001b[1;33m.\u001b[0m\u001b[0m_exec\u001b[0m\u001b[1;33m(\u001b[0m\u001b[0mspec\u001b[0m\u001b[1;33m,\u001b[0m \u001b[0mmodule\u001b[0m\u001b[1;33m)\u001b[0m\u001b[1;33m\u001b[0m\u001b[0m\n\u001b[0m\u001b[0;32m    167\u001b[0m         \u001b[1;31m# The module may have replaced itself in sys.modules!\u001b[0m\u001b[1;33m\u001b[0m\u001b[1;33m\u001b[0m\u001b[0m\n\u001b[0;32m    168\u001b[0m         \u001b[1;32mreturn\u001b[0m \u001b[0msys\u001b[0m\u001b[1;33m.\u001b[0m\u001b[0mmodules\u001b[0m\u001b[1;33m[\u001b[0m\u001b[0mname\u001b[0m\u001b[1;33m]\u001b[0m\u001b[1;33m\u001b[0m\u001b[0m\n",
      "\u001b[1;32mC:\\ProgramData\\Anaconda3\\lib\\importlib\\_bootstrap.py\u001b[0m in \u001b[0;36m_exec\u001b[1;34m(spec, module)\u001b[0m\n",
      "\u001b[1;32mC:\\ProgramData\\Anaconda3\\lib\\importlib\\_bootstrap_external.py\u001b[0m in \u001b[0;36mexec_module\u001b[1;34m(self, module)\u001b[0m\n",
      "\u001b[1;32mC:\\ProgramData\\Anaconda3\\lib\\importlib\\_bootstrap.py\u001b[0m in \u001b[0;36m_call_with_frames_removed\u001b[1;34m(f, *args, **kwds)\u001b[0m\n",
      "\u001b[1;32mC:\\Erica\\hybrid_strategy\\case_study_3\\database\\places.py\u001b[0m in \u001b[0;36m<module>\u001b[1;34m()\u001b[0m\n\u001b[0;32m     31\u001b[0m \u001b[0mJCP\u001b[0m \u001b[1;33m=\u001b[0m  \u001b[0mjournal\u001b[0m\u001b[1;33m(\u001b[0m\u001b[1;34m\"JCP\"\u001b[0m\u001b[1;33m,\u001b[0m\u001b[1;34m\"Journal of Cleaner Production\"\u001b[0m\u001b[1;33m)\u001b[0m\u001b[1;33m\u001b[0m\u001b[0m\n\u001b[0;32m     32\u001b[0m \u001b[1;33m\u001b[0m\u001b[0m\n\u001b[1;32m---> 33\u001b[1;33m \u001b[0mICASEA\u001b[0m \u001b[1;33m=\u001b[0m \u001b[0mConference\u001b[0m\u001b[1;33m(\u001b[0m\u001b[1;34m\"ICASEA\"\u001b[0m\u001b[1;33m,\u001b[0m\u001b[1;34m\"International Conference on Advanced Software Engineering and Its Applications\"\u001b[0m\u001b[1;33m)\u001b[0m\u001b[1;33m\u001b[0m\u001b[0m\n\u001b[0m\u001b[0;32m     34\u001b[0m \u001b[0mICSA\u001b[0m \u001b[1;33m=\u001b[0m \u001b[0mconference\u001b[0m\u001b[1;33m(\u001b[0m\u001b[1;34m\"ICSA\"\u001b[0m\u001b[1;33m,\u001b[0m\u001b[1;34m\"Software Architecture (ICSA), 2017 IEEE International Conference on\"\u001b[0m\u001b[1;33m)\u001b[0m\u001b[1;33m\u001b[0m\u001b[0m\n\u001b[0;32m     35\u001b[0m \u001b[0mESEM\u001b[0m \u001b[1;33m=\u001b[0m  \u001b[0mconference\u001b[0m\u001b[1;33m(\u001b[0m\u001b[1;34m\"ESEM\"\u001b[0m\u001b[1;33m,\u001b[0m\u001b[1;34m\"International Symposium on Empirical Software Engineering and Measurement\"\u001b[0m\u001b[1;33m)\u001b[0m\u001b[1;33m\u001b[0m\u001b[0m\n",
      "\u001b[1;31mNameError\u001b[0m: name 'Conference' is not defined"
     ]
    },
    {
     "ename": "NameError",
     "evalue": "name 'Conference' is not defined",
     "output_type": "error",
     "traceback": [
      "\u001b[1;31m---------------------------------------------------------------------------\u001b[0m",
      "\u001b[1;31mNameError\u001b[0m                                 Traceback (most recent call last)",
      "\u001b[1;32mc:\\erica\\snowballing\\snowballing\\snowballing.py\u001b[0m in \u001b[0;36mshow\u001b[1;34m(self, b, clear)\u001b[0m\n\u001b[0;32m    501\u001b[0m         \u001b[1;34m\"\"\"Generic display\"\"\"\u001b[0m\u001b[1;33m\u001b[0m\u001b[0m\n\u001b[0;32m    502\u001b[0m         \u001b[0m_up\u001b[0m \u001b[1;33m=\u001b[0m \u001b[0mself\u001b[0m\u001b[1;33m.\u001b[0m\u001b[0mupdate_info\u001b[0m\u001b[1;33m\u001b[0m\u001b[0m\n\u001b[1;32m--> 503\u001b[1;33m         \u001b[0mreload\u001b[0m\u001b[1;33m(\u001b[0m\u001b[1;33m)\u001b[0m\u001b[1;33m\u001b[0m\u001b[0m\n\u001b[0m\u001b[0;32m    504\u001b[0m         \u001b[0mself\u001b[0m\u001b[1;33m.\u001b[0m\u001b[0mnext_article_widget\u001b[0m\u001b[1;33m.\u001b[0m\u001b[0mdisabled\u001b[0m \u001b[1;33m=\u001b[0m \u001b[0mself\u001b[0m\u001b[1;33m.\u001b[0m\u001b[0mselector_widget\u001b[0m\u001b[1;33m.\u001b[0m\u001b[0mvalue\u001b[0m \u001b[1;33m==\u001b[0m \u001b[0mself\u001b[0m\u001b[1;33m.\u001b[0m\u001b[0mselector_widget\u001b[0m\u001b[1;33m.\u001b[0m\u001b[0mmax\u001b[0m\u001b[1;33m\u001b[0m\u001b[0m\n\u001b[0;32m    505\u001b[0m         \u001b[0mself\u001b[0m\u001b[1;33m.\u001b[0m\u001b[0mprevious_article_widget\u001b[0m\u001b[1;33m.\u001b[0m\u001b[0mdisabled\u001b[0m \u001b[1;33m=\u001b[0m \u001b[0mself\u001b[0m\u001b[1;33m.\u001b[0m\u001b[0mselector_widget\u001b[0m\u001b[1;33m.\u001b[0m\u001b[0mvalue\u001b[0m \u001b[1;33m==\u001b[0m \u001b[1;36m0\u001b[0m\u001b[1;33m\u001b[0m\u001b[0m\n",
      "\u001b[1;32mc:\\erica\\snowballing\\snowballing\\operations.py\u001b[0m in \u001b[0;36mreload\u001b[1;34m()\u001b[0m\n\u001b[0;32m    156\u001b[0m     \"\"\"\n\u001b[0;32m    157\u001b[0m     \u001b[0m_clear_db\u001b[0m\u001b[1;33m(\u001b[0m\u001b[1;33m)\u001b[0m\u001b[1;33m\u001b[0m\u001b[0m\n\u001b[1;32m--> 158\u001b[1;33m     \u001b[0mimportlib\u001b[0m\u001b[1;33m.\u001b[0m\u001b[0mreload\u001b[0m\u001b[1;33m(\u001b[0m\u001b[0mconfig\u001b[0m\u001b[1;33m.\u001b[0m\u001b[0mMODULES\u001b[0m\u001b[1;33m[\u001b[0m\u001b[1;34m'places'\u001b[0m\u001b[1;33m]\u001b[0m\u001b[1;33m)\u001b[0m\u001b[1;33m\u001b[0m\u001b[0m\n\u001b[0m\u001b[0;32m    159\u001b[0m     \u001b[0m_reload_work\u001b[0m\u001b[1;33m(\u001b[0m\u001b[1;33m)\u001b[0m\u001b[1;33m\u001b[0m\u001b[0m\n\u001b[0;32m    160\u001b[0m     \u001b[0mimport_submodules\u001b[0m\u001b[1;33m(\u001b[0m\u001b[0mconfig\u001b[0m\u001b[1;33m.\u001b[0m\u001b[0mMODULES\u001b[0m\u001b[1;33m[\u001b[0m\u001b[1;34m'citations'\u001b[0m\u001b[1;33m]\u001b[0m\u001b[1;33m)\u001b[0m\u001b[1;33m\u001b[0m\u001b[0m\n",
      "\u001b[1;32mC:\\ProgramData\\Anaconda3\\lib\\importlib\\__init__.py\u001b[0m in \u001b[0;36mreload\u001b[1;34m(module)\u001b[0m\n\u001b[0;32m    164\u001b[0m         \u001b[0mtarget\u001b[0m \u001b[1;33m=\u001b[0m \u001b[0mmodule\u001b[0m\u001b[1;33m\u001b[0m\u001b[0m\n\u001b[0;32m    165\u001b[0m         \u001b[0mspec\u001b[0m \u001b[1;33m=\u001b[0m \u001b[0mmodule\u001b[0m\u001b[1;33m.\u001b[0m\u001b[0m__spec__\u001b[0m \u001b[1;33m=\u001b[0m \u001b[0m_bootstrap\u001b[0m\u001b[1;33m.\u001b[0m\u001b[0m_find_spec\u001b[0m\u001b[1;33m(\u001b[0m\u001b[0mname\u001b[0m\u001b[1;33m,\u001b[0m \u001b[0mpkgpath\u001b[0m\u001b[1;33m,\u001b[0m \u001b[0mtarget\u001b[0m\u001b[1;33m)\u001b[0m\u001b[1;33m\u001b[0m\u001b[0m\n\u001b[1;32m--> 166\u001b[1;33m         \u001b[0m_bootstrap\u001b[0m\u001b[1;33m.\u001b[0m\u001b[0m_exec\u001b[0m\u001b[1;33m(\u001b[0m\u001b[0mspec\u001b[0m\u001b[1;33m,\u001b[0m \u001b[0mmodule\u001b[0m\u001b[1;33m)\u001b[0m\u001b[1;33m\u001b[0m\u001b[0m\n\u001b[0m\u001b[0;32m    167\u001b[0m         \u001b[1;31m# The module may have replaced itself in sys.modules!\u001b[0m\u001b[1;33m\u001b[0m\u001b[1;33m\u001b[0m\u001b[0m\n\u001b[0;32m    168\u001b[0m         \u001b[1;32mreturn\u001b[0m \u001b[0msys\u001b[0m\u001b[1;33m.\u001b[0m\u001b[0mmodules\u001b[0m\u001b[1;33m[\u001b[0m\u001b[0mname\u001b[0m\u001b[1;33m]\u001b[0m\u001b[1;33m\u001b[0m\u001b[0m\n",
      "\u001b[1;32mC:\\ProgramData\\Anaconda3\\lib\\importlib\\_bootstrap.py\u001b[0m in \u001b[0;36m_exec\u001b[1;34m(spec, module)\u001b[0m\n",
      "\u001b[1;32mC:\\ProgramData\\Anaconda3\\lib\\importlib\\_bootstrap_external.py\u001b[0m in \u001b[0;36mexec_module\u001b[1;34m(self, module)\u001b[0m\n",
      "\u001b[1;32mC:\\ProgramData\\Anaconda3\\lib\\importlib\\_bootstrap.py\u001b[0m in \u001b[0;36m_call_with_frames_removed\u001b[1;34m(f, *args, **kwds)\u001b[0m\n",
      "\u001b[1;32mC:\\Erica\\hybrid_strategy\\case_study_3\\database\\places.py\u001b[0m in \u001b[0;36m<module>\u001b[1;34m()\u001b[0m\n\u001b[0;32m     31\u001b[0m \u001b[0mJCP\u001b[0m \u001b[1;33m=\u001b[0m  \u001b[0mjournal\u001b[0m\u001b[1;33m(\u001b[0m\u001b[1;34m\"JCP\"\u001b[0m\u001b[1;33m,\u001b[0m\u001b[1;34m\"Journal of Cleaner Production\"\u001b[0m\u001b[1;33m)\u001b[0m\u001b[1;33m\u001b[0m\u001b[0m\n\u001b[0;32m     32\u001b[0m \u001b[1;33m\u001b[0m\u001b[0m\n\u001b[1;32m---> 33\u001b[1;33m \u001b[0mICASEA\u001b[0m \u001b[1;33m=\u001b[0m \u001b[0mConference\u001b[0m\u001b[1;33m(\u001b[0m\u001b[1;34m\"ICASEA\"\u001b[0m\u001b[1;33m,\u001b[0m\u001b[1;34m\"International Conference on Advanced Software Engineering and Its Applications\"\u001b[0m\u001b[1;33m)\u001b[0m\u001b[1;33m\u001b[0m\u001b[0m\n\u001b[0m\u001b[0;32m     34\u001b[0m \u001b[0mICSA\u001b[0m \u001b[1;33m=\u001b[0m \u001b[0mconference\u001b[0m\u001b[1;33m(\u001b[0m\u001b[1;34m\"ICSA\"\u001b[0m\u001b[1;33m,\u001b[0m\u001b[1;34m\"Software Architecture (ICSA), 2017 IEEE International Conference on\"\u001b[0m\u001b[1;33m)\u001b[0m\u001b[1;33m\u001b[0m\u001b[0m\n\u001b[0;32m     35\u001b[0m \u001b[0mESEM\u001b[0m \u001b[1;33m=\u001b[0m  \u001b[0mconference\u001b[0m\u001b[1;33m(\u001b[0m\u001b[1;34m\"ESEM\"\u001b[0m\u001b[1;33m,\u001b[0m\u001b[1;34m\"International Symposium on Empirical Software Engineering and Measurement\"\u001b[0m\u001b[1;33m)\u001b[0m\u001b[1;33m\u001b[0m\u001b[0m\n",
      "\u001b[1;31mNameError\u001b[0m: name 'Conference' is not defined"
     ]
    },
    {
     "ename": "NameError",
     "evalue": "name 'Conference' is not defined",
     "output_type": "error",
     "traceback": [
      "\u001b[1;31m---------------------------------------------------------------------------\u001b[0m",
      "\u001b[1;31mNameError\u001b[0m                                 Traceback (most recent call last)",
      "\u001b[1;32mc:\\erica\\snowballing\\snowballing\\snowballing.py\u001b[0m in \u001b[0;36mshow\u001b[1;34m(self, b, clear)\u001b[0m\n\u001b[0;32m    501\u001b[0m         \u001b[1;34m\"\"\"Generic display\"\"\"\u001b[0m\u001b[1;33m\u001b[0m\u001b[0m\n\u001b[0;32m    502\u001b[0m         \u001b[0m_up\u001b[0m \u001b[1;33m=\u001b[0m \u001b[0mself\u001b[0m\u001b[1;33m.\u001b[0m\u001b[0mupdate_info\u001b[0m\u001b[1;33m\u001b[0m\u001b[0m\n\u001b[1;32m--> 503\u001b[1;33m         \u001b[0mreload\u001b[0m\u001b[1;33m(\u001b[0m\u001b[1;33m)\u001b[0m\u001b[1;33m\u001b[0m\u001b[0m\n\u001b[0m\u001b[0;32m    504\u001b[0m         \u001b[0mself\u001b[0m\u001b[1;33m.\u001b[0m\u001b[0mnext_article_widget\u001b[0m\u001b[1;33m.\u001b[0m\u001b[0mdisabled\u001b[0m \u001b[1;33m=\u001b[0m \u001b[0mself\u001b[0m\u001b[1;33m.\u001b[0m\u001b[0mselector_widget\u001b[0m\u001b[1;33m.\u001b[0m\u001b[0mvalue\u001b[0m \u001b[1;33m==\u001b[0m \u001b[0mself\u001b[0m\u001b[1;33m.\u001b[0m\u001b[0mselector_widget\u001b[0m\u001b[1;33m.\u001b[0m\u001b[0mmax\u001b[0m\u001b[1;33m\u001b[0m\u001b[0m\n\u001b[0;32m    505\u001b[0m         \u001b[0mself\u001b[0m\u001b[1;33m.\u001b[0m\u001b[0mprevious_article_widget\u001b[0m\u001b[1;33m.\u001b[0m\u001b[0mdisabled\u001b[0m \u001b[1;33m=\u001b[0m \u001b[0mself\u001b[0m\u001b[1;33m.\u001b[0m\u001b[0mselector_widget\u001b[0m\u001b[1;33m.\u001b[0m\u001b[0mvalue\u001b[0m \u001b[1;33m==\u001b[0m \u001b[1;36m0\u001b[0m\u001b[1;33m\u001b[0m\u001b[0m\n",
      "\u001b[1;32mc:\\erica\\snowballing\\snowballing\\operations.py\u001b[0m in \u001b[0;36mreload\u001b[1;34m()\u001b[0m\n\u001b[0;32m    156\u001b[0m     \"\"\"\n\u001b[0;32m    157\u001b[0m     \u001b[0m_clear_db\u001b[0m\u001b[1;33m(\u001b[0m\u001b[1;33m)\u001b[0m\u001b[1;33m\u001b[0m\u001b[0m\n\u001b[1;32m--> 158\u001b[1;33m     \u001b[0mimportlib\u001b[0m\u001b[1;33m.\u001b[0m\u001b[0mreload\u001b[0m\u001b[1;33m(\u001b[0m\u001b[0mconfig\u001b[0m\u001b[1;33m.\u001b[0m\u001b[0mMODULES\u001b[0m\u001b[1;33m[\u001b[0m\u001b[1;34m'places'\u001b[0m\u001b[1;33m]\u001b[0m\u001b[1;33m)\u001b[0m\u001b[1;33m\u001b[0m\u001b[0m\n\u001b[0m\u001b[0;32m    159\u001b[0m     \u001b[0m_reload_work\u001b[0m\u001b[1;33m(\u001b[0m\u001b[1;33m)\u001b[0m\u001b[1;33m\u001b[0m\u001b[0m\n\u001b[0;32m    160\u001b[0m     \u001b[0mimport_submodules\u001b[0m\u001b[1;33m(\u001b[0m\u001b[0mconfig\u001b[0m\u001b[1;33m.\u001b[0m\u001b[0mMODULES\u001b[0m\u001b[1;33m[\u001b[0m\u001b[1;34m'citations'\u001b[0m\u001b[1;33m]\u001b[0m\u001b[1;33m)\u001b[0m\u001b[1;33m\u001b[0m\u001b[0m\n",
      "\u001b[1;32mC:\\ProgramData\\Anaconda3\\lib\\importlib\\__init__.py\u001b[0m in \u001b[0;36mreload\u001b[1;34m(module)\u001b[0m\n\u001b[0;32m    164\u001b[0m         \u001b[0mtarget\u001b[0m \u001b[1;33m=\u001b[0m \u001b[0mmodule\u001b[0m\u001b[1;33m\u001b[0m\u001b[0m\n\u001b[0;32m    165\u001b[0m         \u001b[0mspec\u001b[0m \u001b[1;33m=\u001b[0m \u001b[0mmodule\u001b[0m\u001b[1;33m.\u001b[0m\u001b[0m__spec__\u001b[0m \u001b[1;33m=\u001b[0m \u001b[0m_bootstrap\u001b[0m\u001b[1;33m.\u001b[0m\u001b[0m_find_spec\u001b[0m\u001b[1;33m(\u001b[0m\u001b[0mname\u001b[0m\u001b[1;33m,\u001b[0m \u001b[0mpkgpath\u001b[0m\u001b[1;33m,\u001b[0m \u001b[0mtarget\u001b[0m\u001b[1;33m)\u001b[0m\u001b[1;33m\u001b[0m\u001b[0m\n\u001b[1;32m--> 166\u001b[1;33m         \u001b[0m_bootstrap\u001b[0m\u001b[1;33m.\u001b[0m\u001b[0m_exec\u001b[0m\u001b[1;33m(\u001b[0m\u001b[0mspec\u001b[0m\u001b[1;33m,\u001b[0m \u001b[0mmodule\u001b[0m\u001b[1;33m)\u001b[0m\u001b[1;33m\u001b[0m\u001b[0m\n\u001b[0m\u001b[0;32m    167\u001b[0m         \u001b[1;31m# The module may have replaced itself in sys.modules!\u001b[0m\u001b[1;33m\u001b[0m\u001b[1;33m\u001b[0m\u001b[0m\n\u001b[0;32m    168\u001b[0m         \u001b[1;32mreturn\u001b[0m \u001b[0msys\u001b[0m\u001b[1;33m.\u001b[0m\u001b[0mmodules\u001b[0m\u001b[1;33m[\u001b[0m\u001b[0mname\u001b[0m\u001b[1;33m]\u001b[0m\u001b[1;33m\u001b[0m\u001b[0m\n",
      "\u001b[1;32mC:\\ProgramData\\Anaconda3\\lib\\importlib\\_bootstrap.py\u001b[0m in \u001b[0;36m_exec\u001b[1;34m(spec, module)\u001b[0m\n",
      "\u001b[1;32mC:\\ProgramData\\Anaconda3\\lib\\importlib\\_bootstrap_external.py\u001b[0m in \u001b[0;36mexec_module\u001b[1;34m(self, module)\u001b[0m\n",
      "\u001b[1;32mC:\\ProgramData\\Anaconda3\\lib\\importlib\\_bootstrap.py\u001b[0m in \u001b[0;36m_call_with_frames_removed\u001b[1;34m(f, *args, **kwds)\u001b[0m\n",
      "\u001b[1;32mC:\\Erica\\hybrid_strategy\\case_study_3\\database\\places.py\u001b[0m in \u001b[0;36m<module>\u001b[1;34m()\u001b[0m\n\u001b[0;32m     31\u001b[0m \u001b[0mJCP\u001b[0m \u001b[1;33m=\u001b[0m  \u001b[0mjournal\u001b[0m\u001b[1;33m(\u001b[0m\u001b[1;34m\"JCP\"\u001b[0m\u001b[1;33m,\u001b[0m\u001b[1;34m\"Journal of Cleaner Production\"\u001b[0m\u001b[1;33m)\u001b[0m\u001b[1;33m\u001b[0m\u001b[0m\n\u001b[0;32m     32\u001b[0m \u001b[1;33m\u001b[0m\u001b[0m\n\u001b[1;32m---> 33\u001b[1;33m \u001b[0mICASEA\u001b[0m \u001b[1;33m=\u001b[0m \u001b[0mConference\u001b[0m\u001b[1;33m(\u001b[0m\u001b[1;34m\"ICASEA\"\u001b[0m\u001b[1;33m,\u001b[0m\u001b[1;34m\"International Conference on Advanced Software Engineering and Its Applications\"\u001b[0m\u001b[1;33m)\u001b[0m\u001b[1;33m\u001b[0m\u001b[0m\n\u001b[0m\u001b[0;32m     34\u001b[0m \u001b[0mICSA\u001b[0m \u001b[1;33m=\u001b[0m \u001b[0mconference\u001b[0m\u001b[1;33m(\u001b[0m\u001b[1;34m\"ICSA\"\u001b[0m\u001b[1;33m,\u001b[0m\u001b[1;34m\"Software Architecture (ICSA), 2017 IEEE International Conference on\"\u001b[0m\u001b[1;33m)\u001b[0m\u001b[1;33m\u001b[0m\u001b[0m\n\u001b[0;32m     35\u001b[0m \u001b[0mESEM\u001b[0m \u001b[1;33m=\u001b[0m  \u001b[0mconference\u001b[0m\u001b[1;33m(\u001b[0m\u001b[1;34m\"ESEM\"\u001b[0m\u001b[1;33m,\u001b[0m\u001b[1;34m\"International Symposium on Empirical Software Engineering and Measurement\"\u001b[0m\u001b[1;33m)\u001b[0m\u001b[1;33m\u001b[0m\u001b[0m\n",
      "\u001b[1;31mNameError\u001b[0m: name 'Conference' is not defined"
     ]
    },
    {
     "ename": "NameError",
     "evalue": "name 'Conference' is not defined",
     "output_type": "error",
     "traceback": [
      "\u001b[1;31m---------------------------------------------------------------------------\u001b[0m",
      "\u001b[1;31mNameError\u001b[0m                                 Traceback (most recent call last)",
      "\u001b[1;32mc:\\erica\\snowballing\\snowballing\\snowballing.py\u001b[0m in \u001b[0;36mshow\u001b[1;34m(self, b, clear)\u001b[0m\n\u001b[0;32m    501\u001b[0m         \u001b[1;34m\"\"\"Generic display\"\"\"\u001b[0m\u001b[1;33m\u001b[0m\u001b[0m\n\u001b[0;32m    502\u001b[0m         \u001b[0m_up\u001b[0m \u001b[1;33m=\u001b[0m \u001b[0mself\u001b[0m\u001b[1;33m.\u001b[0m\u001b[0mupdate_info\u001b[0m\u001b[1;33m\u001b[0m\u001b[0m\n\u001b[1;32m--> 503\u001b[1;33m         \u001b[0mreload\u001b[0m\u001b[1;33m(\u001b[0m\u001b[1;33m)\u001b[0m\u001b[1;33m\u001b[0m\u001b[0m\n\u001b[0m\u001b[0;32m    504\u001b[0m         \u001b[0mself\u001b[0m\u001b[1;33m.\u001b[0m\u001b[0mnext_article_widget\u001b[0m\u001b[1;33m.\u001b[0m\u001b[0mdisabled\u001b[0m \u001b[1;33m=\u001b[0m \u001b[0mself\u001b[0m\u001b[1;33m.\u001b[0m\u001b[0mselector_widget\u001b[0m\u001b[1;33m.\u001b[0m\u001b[0mvalue\u001b[0m \u001b[1;33m==\u001b[0m \u001b[0mself\u001b[0m\u001b[1;33m.\u001b[0m\u001b[0mselector_widget\u001b[0m\u001b[1;33m.\u001b[0m\u001b[0mmax\u001b[0m\u001b[1;33m\u001b[0m\u001b[0m\n\u001b[0;32m    505\u001b[0m         \u001b[0mself\u001b[0m\u001b[1;33m.\u001b[0m\u001b[0mprevious_article_widget\u001b[0m\u001b[1;33m.\u001b[0m\u001b[0mdisabled\u001b[0m \u001b[1;33m=\u001b[0m \u001b[0mself\u001b[0m\u001b[1;33m.\u001b[0m\u001b[0mselector_widget\u001b[0m\u001b[1;33m.\u001b[0m\u001b[0mvalue\u001b[0m \u001b[1;33m==\u001b[0m \u001b[1;36m0\u001b[0m\u001b[1;33m\u001b[0m\u001b[0m\n",
      "\u001b[1;32mc:\\erica\\snowballing\\snowballing\\operations.py\u001b[0m in \u001b[0;36mreload\u001b[1;34m()\u001b[0m\n\u001b[0;32m    156\u001b[0m     \"\"\"\n\u001b[0;32m    157\u001b[0m     \u001b[0m_clear_db\u001b[0m\u001b[1;33m(\u001b[0m\u001b[1;33m)\u001b[0m\u001b[1;33m\u001b[0m\u001b[0m\n\u001b[1;32m--> 158\u001b[1;33m     \u001b[0mimportlib\u001b[0m\u001b[1;33m.\u001b[0m\u001b[0mreload\u001b[0m\u001b[1;33m(\u001b[0m\u001b[0mconfig\u001b[0m\u001b[1;33m.\u001b[0m\u001b[0mMODULES\u001b[0m\u001b[1;33m[\u001b[0m\u001b[1;34m'places'\u001b[0m\u001b[1;33m]\u001b[0m\u001b[1;33m)\u001b[0m\u001b[1;33m\u001b[0m\u001b[0m\n\u001b[0m\u001b[0;32m    159\u001b[0m     \u001b[0m_reload_work\u001b[0m\u001b[1;33m(\u001b[0m\u001b[1;33m)\u001b[0m\u001b[1;33m\u001b[0m\u001b[0m\n\u001b[0;32m    160\u001b[0m     \u001b[0mimport_submodules\u001b[0m\u001b[1;33m(\u001b[0m\u001b[0mconfig\u001b[0m\u001b[1;33m.\u001b[0m\u001b[0mMODULES\u001b[0m\u001b[1;33m[\u001b[0m\u001b[1;34m'citations'\u001b[0m\u001b[1;33m]\u001b[0m\u001b[1;33m)\u001b[0m\u001b[1;33m\u001b[0m\u001b[0m\n",
      "\u001b[1;32mC:\\ProgramData\\Anaconda3\\lib\\importlib\\__init__.py\u001b[0m in \u001b[0;36mreload\u001b[1;34m(module)\u001b[0m\n\u001b[0;32m    164\u001b[0m         \u001b[0mtarget\u001b[0m \u001b[1;33m=\u001b[0m \u001b[0mmodule\u001b[0m\u001b[1;33m\u001b[0m\u001b[0m\n\u001b[0;32m    165\u001b[0m         \u001b[0mspec\u001b[0m \u001b[1;33m=\u001b[0m \u001b[0mmodule\u001b[0m\u001b[1;33m.\u001b[0m\u001b[0m__spec__\u001b[0m \u001b[1;33m=\u001b[0m \u001b[0m_bootstrap\u001b[0m\u001b[1;33m.\u001b[0m\u001b[0m_find_spec\u001b[0m\u001b[1;33m(\u001b[0m\u001b[0mname\u001b[0m\u001b[1;33m,\u001b[0m \u001b[0mpkgpath\u001b[0m\u001b[1;33m,\u001b[0m \u001b[0mtarget\u001b[0m\u001b[1;33m)\u001b[0m\u001b[1;33m\u001b[0m\u001b[0m\n\u001b[1;32m--> 166\u001b[1;33m         \u001b[0m_bootstrap\u001b[0m\u001b[1;33m.\u001b[0m\u001b[0m_exec\u001b[0m\u001b[1;33m(\u001b[0m\u001b[0mspec\u001b[0m\u001b[1;33m,\u001b[0m \u001b[0mmodule\u001b[0m\u001b[1;33m)\u001b[0m\u001b[1;33m\u001b[0m\u001b[0m\n\u001b[0m\u001b[0;32m    167\u001b[0m         \u001b[1;31m# The module may have replaced itself in sys.modules!\u001b[0m\u001b[1;33m\u001b[0m\u001b[1;33m\u001b[0m\u001b[0m\n\u001b[0;32m    168\u001b[0m         \u001b[1;32mreturn\u001b[0m \u001b[0msys\u001b[0m\u001b[1;33m.\u001b[0m\u001b[0mmodules\u001b[0m\u001b[1;33m[\u001b[0m\u001b[0mname\u001b[0m\u001b[1;33m]\u001b[0m\u001b[1;33m\u001b[0m\u001b[0m\n",
      "\u001b[1;32mC:\\ProgramData\\Anaconda3\\lib\\importlib\\_bootstrap.py\u001b[0m in \u001b[0;36m_exec\u001b[1;34m(spec, module)\u001b[0m\n",
      "\u001b[1;32mC:\\ProgramData\\Anaconda3\\lib\\importlib\\_bootstrap_external.py\u001b[0m in \u001b[0;36mexec_module\u001b[1;34m(self, module)\u001b[0m\n",
      "\u001b[1;32mC:\\ProgramData\\Anaconda3\\lib\\importlib\\_bootstrap.py\u001b[0m in \u001b[0;36m_call_with_frames_removed\u001b[1;34m(f, *args, **kwds)\u001b[0m\n",
      "\u001b[1;32mC:\\Erica\\hybrid_strategy\\case_study_3\\database\\places.py\u001b[0m in \u001b[0;36m<module>\u001b[1;34m()\u001b[0m\n\u001b[0;32m     31\u001b[0m \u001b[0mJCP\u001b[0m \u001b[1;33m=\u001b[0m  \u001b[0mjournal\u001b[0m\u001b[1;33m(\u001b[0m\u001b[1;34m\"JCP\"\u001b[0m\u001b[1;33m,\u001b[0m\u001b[1;34m\"Journal of Cleaner Production\"\u001b[0m\u001b[1;33m)\u001b[0m\u001b[1;33m\u001b[0m\u001b[0m\n\u001b[0;32m     32\u001b[0m \u001b[1;33m\u001b[0m\u001b[0m\n\u001b[1;32m---> 33\u001b[1;33m \u001b[0mICASEA\u001b[0m \u001b[1;33m=\u001b[0m \u001b[0mConference\u001b[0m\u001b[1;33m(\u001b[0m\u001b[1;34m\"ICASEA\"\u001b[0m\u001b[1;33m,\u001b[0m\u001b[1;34m\"International Conference on Advanced Software Engineering and Its Applications\"\u001b[0m\u001b[1;33m)\u001b[0m\u001b[1;33m\u001b[0m\u001b[0m\n\u001b[0m\u001b[0;32m     34\u001b[0m \u001b[0mICSA\u001b[0m \u001b[1;33m=\u001b[0m \u001b[0mconference\u001b[0m\u001b[1;33m(\u001b[0m\u001b[1;34m\"ICSA\"\u001b[0m\u001b[1;33m,\u001b[0m\u001b[1;34m\"Software Architecture (ICSA), 2017 IEEE International Conference on\"\u001b[0m\u001b[1;33m)\u001b[0m\u001b[1;33m\u001b[0m\u001b[0m\n\u001b[0;32m     35\u001b[0m \u001b[0mESEM\u001b[0m \u001b[1;33m=\u001b[0m  \u001b[0mconference\u001b[0m\u001b[1;33m(\u001b[0m\u001b[1;34m\"ESEM\"\u001b[0m\u001b[1;33m,\u001b[0m\u001b[1;34m\"International Symposium on Empirical Software Engineering and Measurement\"\u001b[0m\u001b[1;33m)\u001b[0m\u001b[1;33m\u001b[0m\u001b[0m\n",
      "\u001b[1;31mNameError\u001b[0m: name 'Conference' is not defined"
     ]
    },
    {
     "ename": "NameError",
     "evalue": "name 'Conference' is not defined",
     "output_type": "error",
     "traceback": [
      "\u001b[1;31m---------------------------------------------------------------------------\u001b[0m",
      "\u001b[1;31mNameError\u001b[0m                                 Traceback (most recent call last)",
      "\u001b[1;32mc:\\erica\\snowballing\\snowballing\\snowballing.py\u001b[0m in \u001b[0;36mnext_article\u001b[1;34m(self, b)\u001b[0m\n\u001b[0;32m    372\u001b[0m     \u001b[1;32mdef\u001b[0m \u001b[0mnext_article\u001b[0m\u001b[1;33m(\u001b[0m\u001b[0mself\u001b[0m\u001b[1;33m,\u001b[0m \u001b[0mb\u001b[0m\u001b[1;33m=\u001b[0m\u001b[1;32mNone\u001b[0m\u001b[1;33m)\u001b[0m\u001b[1;33m:\u001b[0m\u001b[1;33m\u001b[0m\u001b[0m\n\u001b[0;32m    373\u001b[0m         \u001b[1;34m\"\"\"Next article click event\"\"\"\u001b[0m\u001b[1;33m\u001b[0m\u001b[0m\n\u001b[1;32m--> 374\u001b[1;33m         \u001b[0mself\u001b[0m\u001b[1;33m.\u001b[0m\u001b[0mselector_widget\u001b[0m\u001b[1;33m.\u001b[0m\u001b[0mvalue\u001b[0m \u001b[1;33m=\u001b[0m \u001b[0mmin\u001b[0m\u001b[1;33m(\u001b[0m\u001b[0mself\u001b[0m\u001b[1;33m.\u001b[0m\u001b[0mselector_widget\u001b[0m\u001b[1;33m.\u001b[0m\u001b[0mvalue\u001b[0m \u001b[1;33m+\u001b[0m \u001b[1;36m1\u001b[0m\u001b[1;33m,\u001b[0m \u001b[0mself\u001b[0m\u001b[1;33m.\u001b[0m\u001b[0mselector_widget\u001b[0m\u001b[1;33m.\u001b[0m\u001b[0mmax\u001b[0m\u001b[1;33m)\u001b[0m\u001b[1;33m\u001b[0m\u001b[0m\n\u001b[0m\u001b[0;32m    375\u001b[0m         \u001b[0mself\u001b[0m\u001b[1;33m.\u001b[0m\u001b[0merase_article_form\u001b[0m\u001b[1;33m(\u001b[0m\u001b[1;33m)\u001b[0m\u001b[1;33m\u001b[0m\u001b[0m\n\u001b[0;32m    376\u001b[0m         \u001b[0mself\u001b[0m\u001b[1;33m.\u001b[0m\u001b[0mshow\u001b[0m\u001b[1;33m(\u001b[0m\u001b[0mclear\u001b[0m\u001b[1;33m=\u001b[0m\u001b[1;32mTrue\u001b[0m\u001b[1;33m)\u001b[0m\u001b[1;33m\u001b[0m\u001b[0m\n",
      "\u001b[1;32mC:\\ProgramData\\Anaconda3\\lib\\site-packages\\traitlets\\traitlets.py\u001b[0m in \u001b[0;36m__set__\u001b[1;34m(self, obj, value)\u001b[0m\n\u001b[0;32m    581\u001b[0m             \u001b[1;32mraise\u001b[0m \u001b[0mTraitError\u001b[0m\u001b[1;33m(\u001b[0m\u001b[1;34m'The \"%s\" trait is read-only.'\u001b[0m \u001b[1;33m%\u001b[0m \u001b[0mself\u001b[0m\u001b[1;33m.\u001b[0m\u001b[0mname\u001b[0m\u001b[1;33m)\u001b[0m\u001b[1;33m\u001b[0m\u001b[0m\n\u001b[0;32m    582\u001b[0m         \u001b[1;32melse\u001b[0m\u001b[1;33m:\u001b[0m\u001b[1;33m\u001b[0m\u001b[0m\n\u001b[1;32m--> 583\u001b[1;33m             \u001b[0mself\u001b[0m\u001b[1;33m.\u001b[0m\u001b[0mset\u001b[0m\u001b[1;33m(\u001b[0m\u001b[0mobj\u001b[0m\u001b[1;33m,\u001b[0m \u001b[0mvalue\u001b[0m\u001b[1;33m)\u001b[0m\u001b[1;33m\u001b[0m\u001b[0m\n\u001b[0m\u001b[0;32m    584\u001b[0m \u001b[1;33m\u001b[0m\u001b[0m\n\u001b[0;32m    585\u001b[0m     \u001b[1;32mdef\u001b[0m \u001b[0m_validate\u001b[0m\u001b[1;33m(\u001b[0m\u001b[0mself\u001b[0m\u001b[1;33m,\u001b[0m \u001b[0mobj\u001b[0m\u001b[1;33m,\u001b[0m \u001b[0mvalue\u001b[0m\u001b[1;33m)\u001b[0m\u001b[1;33m:\u001b[0m\u001b[1;33m\u001b[0m\u001b[0m\n",
      "\u001b[1;32mC:\\ProgramData\\Anaconda3\\lib\\site-packages\\traitlets\\traitlets.py\u001b[0m in \u001b[0;36mset\u001b[1;34m(self, obj, value)\u001b[0m\n\u001b[0;32m    570\u001b[0m             \u001b[1;31m# we explicitly compare silent to True just in case the equality\u001b[0m\u001b[1;33m\u001b[0m\u001b[1;33m\u001b[0m\u001b[0m\n\u001b[0;32m    571\u001b[0m             \u001b[1;31m# comparison above returns something other than True/False\u001b[0m\u001b[1;33m\u001b[0m\u001b[1;33m\u001b[0m\u001b[0m\n\u001b[1;32m--> 572\u001b[1;33m             \u001b[0mobj\u001b[0m\u001b[1;33m.\u001b[0m\u001b[0m_notify_trait\u001b[0m\u001b[1;33m(\u001b[0m\u001b[0mself\u001b[0m\u001b[1;33m.\u001b[0m\u001b[0mname\u001b[0m\u001b[1;33m,\u001b[0m \u001b[0mold_value\u001b[0m\u001b[1;33m,\u001b[0m \u001b[0mnew_value\u001b[0m\u001b[1;33m)\u001b[0m\u001b[1;33m\u001b[0m\u001b[0m\n\u001b[0m\u001b[0;32m    573\u001b[0m \u001b[1;33m\u001b[0m\u001b[0m\n\u001b[0;32m    574\u001b[0m     \u001b[1;32mdef\u001b[0m \u001b[0m__set__\u001b[0m\u001b[1;33m(\u001b[0m\u001b[0mself\u001b[0m\u001b[1;33m,\u001b[0m \u001b[0mobj\u001b[0m\u001b[1;33m,\u001b[0m \u001b[0mvalue\u001b[0m\u001b[1;33m)\u001b[0m\u001b[1;33m:\u001b[0m\u001b[1;33m\u001b[0m\u001b[0m\n",
      "\u001b[1;32mC:\\ProgramData\\Anaconda3\\lib\\site-packages\\traitlets\\traitlets.py\u001b[0m in \u001b[0;36m_notify_trait\u001b[1;34m(self, name, old_value, new_value)\u001b[0m\n\u001b[0;32m   1135\u001b[0m             \u001b[0mnew\u001b[0m\u001b[1;33m=\u001b[0m\u001b[0mnew_value\u001b[0m\u001b[1;33m,\u001b[0m\u001b[1;33m\u001b[0m\u001b[0m\n\u001b[0;32m   1136\u001b[0m             \u001b[0mowner\u001b[0m\u001b[1;33m=\u001b[0m\u001b[0mself\u001b[0m\u001b[1;33m,\u001b[0m\u001b[1;33m\u001b[0m\u001b[0m\n\u001b[1;32m-> 1137\u001b[1;33m             \u001b[0mtype\u001b[0m\u001b[1;33m=\u001b[0m\u001b[1;34m'change'\u001b[0m\u001b[1;33m,\u001b[0m\u001b[1;33m\u001b[0m\u001b[0m\n\u001b[0m\u001b[0;32m   1138\u001b[0m         ))\n\u001b[0;32m   1139\u001b[0m \u001b[1;33m\u001b[0m\u001b[0m\n",
      "\u001b[1;32mC:\\ProgramData\\Anaconda3\\lib\\site-packages\\ipywidgets\\widgets\\widget.py\u001b[0m in \u001b[0;36mnotify_change\u001b[1;34m(self, change)\u001b[0m\n\u001b[0;32m    604\u001b[0m                 \u001b[1;31m# Send new state to front-end\u001b[0m\u001b[1;33m\u001b[0m\u001b[1;33m\u001b[0m\u001b[0m\n\u001b[0;32m    605\u001b[0m                 \u001b[0mself\u001b[0m\u001b[1;33m.\u001b[0m\u001b[0msend_state\u001b[0m\u001b[1;33m(\u001b[0m\u001b[0mkey\u001b[0m\u001b[1;33m=\u001b[0m\u001b[0mname\u001b[0m\u001b[1;33m)\u001b[0m\u001b[1;33m\u001b[0m\u001b[0m\n\u001b[1;32m--> 606\u001b[1;33m         \u001b[0msuper\u001b[0m\u001b[1;33m(\u001b[0m\u001b[0mWidget\u001b[0m\u001b[1;33m,\u001b[0m \u001b[0mself\u001b[0m\u001b[1;33m)\u001b[0m\u001b[1;33m.\u001b[0m\u001b[0mnotify_change\u001b[0m\u001b[1;33m(\u001b[0m\u001b[0mchange\u001b[0m\u001b[1;33m)\u001b[0m\u001b[1;33m\u001b[0m\u001b[0m\n\u001b[0m\u001b[0;32m    607\u001b[0m \u001b[1;33m\u001b[0m\u001b[0m\n\u001b[0;32m    608\u001b[0m     \u001b[1;32mdef\u001b[0m \u001b[0m__repr__\u001b[0m\u001b[1;33m(\u001b[0m\u001b[0mself\u001b[0m\u001b[1;33m)\u001b[0m\u001b[1;33m:\u001b[0m\u001b[1;33m\u001b[0m\u001b[0m\n",
      "\u001b[1;32mC:\\ProgramData\\Anaconda3\\lib\\site-packages\\traitlets\\traitlets.py\u001b[0m in \u001b[0;36mnotify_change\u001b[1;34m(self, change)\u001b[0m\n\u001b[0;32m   1172\u001b[0m                 \u001b[0mc\u001b[0m \u001b[1;33m=\u001b[0m \u001b[0mgetattr\u001b[0m\u001b[1;33m(\u001b[0m\u001b[0mself\u001b[0m\u001b[1;33m,\u001b[0m \u001b[0mc\u001b[0m\u001b[1;33m.\u001b[0m\u001b[0mname\u001b[0m\u001b[1;33m)\u001b[0m\u001b[1;33m\u001b[0m\u001b[0m\n\u001b[0;32m   1173\u001b[0m \u001b[1;33m\u001b[0m\u001b[0m\n\u001b[1;32m-> 1174\u001b[1;33m             \u001b[0mc\u001b[0m\u001b[1;33m(\u001b[0m\u001b[0mchange\u001b[0m\u001b[1;33m)\u001b[0m\u001b[1;33m\u001b[0m\u001b[0m\n\u001b[0m\u001b[0;32m   1175\u001b[0m \u001b[1;33m\u001b[0m\u001b[0m\n\u001b[0;32m   1176\u001b[0m     \u001b[1;32mdef\u001b[0m \u001b[0m_add_notifiers\u001b[0m\u001b[1;33m(\u001b[0m\u001b[0mself\u001b[0m\u001b[1;33m,\u001b[0m \u001b[0mhandler\u001b[0m\u001b[1;33m,\u001b[0m \u001b[0mname\u001b[0m\u001b[1;33m,\u001b[0m \u001b[0mtype\u001b[0m\u001b[1;33m)\u001b[0m\u001b[1;33m:\u001b[0m\u001b[1;33m\u001b[0m\u001b[0m\n",
      "\u001b[1;32mc:\\erica\\snowballing\\snowballing\\snowballing.py\u001b[0m in \u001b[0;36mshow\u001b[1;34m(self, b, clear)\u001b[0m\n\u001b[0;32m    501\u001b[0m         \u001b[1;34m\"\"\"Generic display\"\"\"\u001b[0m\u001b[1;33m\u001b[0m\u001b[0m\n\u001b[0;32m    502\u001b[0m         \u001b[0m_up\u001b[0m \u001b[1;33m=\u001b[0m \u001b[0mself\u001b[0m\u001b[1;33m.\u001b[0m\u001b[0mupdate_info\u001b[0m\u001b[1;33m\u001b[0m\u001b[0m\n\u001b[1;32m--> 503\u001b[1;33m         \u001b[0mreload\u001b[0m\u001b[1;33m(\u001b[0m\u001b[1;33m)\u001b[0m\u001b[1;33m\u001b[0m\u001b[0m\n\u001b[0m\u001b[0;32m    504\u001b[0m         \u001b[0mself\u001b[0m\u001b[1;33m.\u001b[0m\u001b[0mnext_article_widget\u001b[0m\u001b[1;33m.\u001b[0m\u001b[0mdisabled\u001b[0m \u001b[1;33m=\u001b[0m \u001b[0mself\u001b[0m\u001b[1;33m.\u001b[0m\u001b[0mselector_widget\u001b[0m\u001b[1;33m.\u001b[0m\u001b[0mvalue\u001b[0m \u001b[1;33m==\u001b[0m \u001b[0mself\u001b[0m\u001b[1;33m.\u001b[0m\u001b[0mselector_widget\u001b[0m\u001b[1;33m.\u001b[0m\u001b[0mmax\u001b[0m\u001b[1;33m\u001b[0m\u001b[0m\n\u001b[0;32m    505\u001b[0m         \u001b[0mself\u001b[0m\u001b[1;33m.\u001b[0m\u001b[0mprevious_article_widget\u001b[0m\u001b[1;33m.\u001b[0m\u001b[0mdisabled\u001b[0m \u001b[1;33m=\u001b[0m \u001b[0mself\u001b[0m\u001b[1;33m.\u001b[0m\u001b[0mselector_widget\u001b[0m\u001b[1;33m.\u001b[0m\u001b[0mvalue\u001b[0m \u001b[1;33m==\u001b[0m \u001b[1;36m0\u001b[0m\u001b[1;33m\u001b[0m\u001b[0m\n",
      "\u001b[1;32mc:\\erica\\snowballing\\snowballing\\operations.py\u001b[0m in \u001b[0;36mreload\u001b[1;34m()\u001b[0m\n\u001b[0;32m    156\u001b[0m     \"\"\"\n\u001b[0;32m    157\u001b[0m     \u001b[0m_clear_db\u001b[0m\u001b[1;33m(\u001b[0m\u001b[1;33m)\u001b[0m\u001b[1;33m\u001b[0m\u001b[0m\n\u001b[1;32m--> 158\u001b[1;33m     \u001b[0mimportlib\u001b[0m\u001b[1;33m.\u001b[0m\u001b[0mreload\u001b[0m\u001b[1;33m(\u001b[0m\u001b[0mconfig\u001b[0m\u001b[1;33m.\u001b[0m\u001b[0mMODULES\u001b[0m\u001b[1;33m[\u001b[0m\u001b[1;34m'places'\u001b[0m\u001b[1;33m]\u001b[0m\u001b[1;33m)\u001b[0m\u001b[1;33m\u001b[0m\u001b[0m\n\u001b[0m\u001b[0;32m    159\u001b[0m     \u001b[0m_reload_work\u001b[0m\u001b[1;33m(\u001b[0m\u001b[1;33m)\u001b[0m\u001b[1;33m\u001b[0m\u001b[0m\n\u001b[0;32m    160\u001b[0m     \u001b[0mimport_submodules\u001b[0m\u001b[1;33m(\u001b[0m\u001b[0mconfig\u001b[0m\u001b[1;33m.\u001b[0m\u001b[0mMODULES\u001b[0m\u001b[1;33m[\u001b[0m\u001b[1;34m'citations'\u001b[0m\u001b[1;33m]\u001b[0m\u001b[1;33m)\u001b[0m\u001b[1;33m\u001b[0m\u001b[0m\n",
      "\u001b[1;32mC:\\ProgramData\\Anaconda3\\lib\\importlib\\__init__.py\u001b[0m in \u001b[0;36mreload\u001b[1;34m(module)\u001b[0m\n\u001b[0;32m    164\u001b[0m         \u001b[0mtarget\u001b[0m \u001b[1;33m=\u001b[0m \u001b[0mmodule\u001b[0m\u001b[1;33m\u001b[0m\u001b[0m\n\u001b[0;32m    165\u001b[0m         \u001b[0mspec\u001b[0m \u001b[1;33m=\u001b[0m \u001b[0mmodule\u001b[0m\u001b[1;33m.\u001b[0m\u001b[0m__spec__\u001b[0m \u001b[1;33m=\u001b[0m \u001b[0m_bootstrap\u001b[0m\u001b[1;33m.\u001b[0m\u001b[0m_find_spec\u001b[0m\u001b[1;33m(\u001b[0m\u001b[0mname\u001b[0m\u001b[1;33m,\u001b[0m \u001b[0mpkgpath\u001b[0m\u001b[1;33m,\u001b[0m \u001b[0mtarget\u001b[0m\u001b[1;33m)\u001b[0m\u001b[1;33m\u001b[0m\u001b[0m\n\u001b[1;32m--> 166\u001b[1;33m         \u001b[0m_bootstrap\u001b[0m\u001b[1;33m.\u001b[0m\u001b[0m_exec\u001b[0m\u001b[1;33m(\u001b[0m\u001b[0mspec\u001b[0m\u001b[1;33m,\u001b[0m \u001b[0mmodule\u001b[0m\u001b[1;33m)\u001b[0m\u001b[1;33m\u001b[0m\u001b[0m\n\u001b[0m\u001b[0;32m    167\u001b[0m         \u001b[1;31m# The module may have replaced itself in sys.modules!\u001b[0m\u001b[1;33m\u001b[0m\u001b[1;33m\u001b[0m\u001b[0m\n\u001b[0;32m    168\u001b[0m         \u001b[1;32mreturn\u001b[0m \u001b[0msys\u001b[0m\u001b[1;33m.\u001b[0m\u001b[0mmodules\u001b[0m\u001b[1;33m[\u001b[0m\u001b[0mname\u001b[0m\u001b[1;33m]\u001b[0m\u001b[1;33m\u001b[0m\u001b[0m\n",
      "\u001b[1;32mC:\\ProgramData\\Anaconda3\\lib\\importlib\\_bootstrap.py\u001b[0m in \u001b[0;36m_exec\u001b[1;34m(spec, module)\u001b[0m\n",
      "\u001b[1;32mC:\\ProgramData\\Anaconda3\\lib\\importlib\\_bootstrap_external.py\u001b[0m in \u001b[0;36mexec_module\u001b[1;34m(self, module)\u001b[0m\n",
      "\u001b[1;32mC:\\ProgramData\\Anaconda3\\lib\\importlib\\_bootstrap.py\u001b[0m in \u001b[0;36m_call_with_frames_removed\u001b[1;34m(f, *args, **kwds)\u001b[0m\n",
      "\u001b[1;32mC:\\Erica\\hybrid_strategy\\case_study_3\\database\\places.py\u001b[0m in \u001b[0;36m<module>\u001b[1;34m()\u001b[0m\n\u001b[0;32m     31\u001b[0m \u001b[0mJCP\u001b[0m \u001b[1;33m=\u001b[0m  \u001b[0mjournal\u001b[0m\u001b[1;33m(\u001b[0m\u001b[1;34m\"JCP\"\u001b[0m\u001b[1;33m,\u001b[0m\u001b[1;34m\"Journal of Cleaner Production\"\u001b[0m\u001b[1;33m)\u001b[0m\u001b[1;33m\u001b[0m\u001b[0m\n\u001b[0;32m     32\u001b[0m \u001b[1;33m\u001b[0m\u001b[0m\n\u001b[1;32m---> 33\u001b[1;33m \u001b[0mICASEA\u001b[0m \u001b[1;33m=\u001b[0m \u001b[0mConference\u001b[0m\u001b[1;33m(\u001b[0m\u001b[1;34m\"ICASEA\"\u001b[0m\u001b[1;33m,\u001b[0m\u001b[1;34m\"International Conference on Advanced Software Engineering and Its Applications\"\u001b[0m\u001b[1;33m)\u001b[0m\u001b[1;33m\u001b[0m\u001b[0m\n\u001b[0m\u001b[0;32m     34\u001b[0m \u001b[0mICSA\u001b[0m \u001b[1;33m=\u001b[0m \u001b[0mconference\u001b[0m\u001b[1;33m(\u001b[0m\u001b[1;34m\"ICSA\"\u001b[0m\u001b[1;33m,\u001b[0m\u001b[1;34m\"Software Architecture (ICSA), 2017 IEEE International Conference on\"\u001b[0m\u001b[1;33m)\u001b[0m\u001b[1;33m\u001b[0m\u001b[0m\n\u001b[0;32m     35\u001b[0m \u001b[0mESEM\u001b[0m \u001b[1;33m=\u001b[0m  \u001b[0mconference\u001b[0m\u001b[1;33m(\u001b[0m\u001b[1;34m\"ESEM\"\u001b[0m\u001b[1;33m,\u001b[0m\u001b[1;34m\"International Symposium on Empirical Software Engineering and Measurement\"\u001b[0m\u001b[1;33m)\u001b[0m\u001b[1;33m\u001b[0m\u001b[0m\n",
      "\u001b[1;31mNameError\u001b[0m: name 'Conference' is not defined"
     ]
    },
    {
     "ename": "NameError",
     "evalue": "name 'Conference' is not defined",
     "output_type": "error",
     "traceback": [
      "\u001b[1;31m---------------------------------------------------------------------------\u001b[0m",
      "\u001b[1;31mNameError\u001b[0m                                 Traceback (most recent call last)",
      "\u001b[1;32mc:\\erica\\snowballing\\snowballing\\snowballing.py\u001b[0m in \u001b[0;36mprevious_article\u001b[1;34m(self, b)\u001b[0m\n\u001b[0;32m    378\u001b[0m     \u001b[1;32mdef\u001b[0m \u001b[0mprevious_article\u001b[0m\u001b[1;33m(\u001b[0m\u001b[0mself\u001b[0m\u001b[1;33m,\u001b[0m \u001b[0mb\u001b[0m\u001b[1;33m=\u001b[0m\u001b[1;32mNone\u001b[0m\u001b[1;33m)\u001b[0m\u001b[1;33m:\u001b[0m\u001b[1;33m\u001b[0m\u001b[0m\n\u001b[0;32m    379\u001b[0m         \u001b[1;34m\"\"\"Previous article click event\"\"\"\u001b[0m\u001b[1;33m\u001b[0m\u001b[0m\n\u001b[1;32m--> 380\u001b[1;33m         \u001b[0mself\u001b[0m\u001b[1;33m.\u001b[0m\u001b[0mselector_widget\u001b[0m\u001b[1;33m.\u001b[0m\u001b[0mvalue\u001b[0m \u001b[1;33m=\u001b[0m \u001b[0mmax\u001b[0m\u001b[1;33m(\u001b[0m\u001b[0mself\u001b[0m\u001b[1;33m.\u001b[0m\u001b[0mselector_widget\u001b[0m\u001b[1;33m.\u001b[0m\u001b[0mvalue\u001b[0m \u001b[1;33m-\u001b[0m \u001b[1;36m1\u001b[0m\u001b[1;33m,\u001b[0m \u001b[0mself\u001b[0m\u001b[1;33m.\u001b[0m\u001b[0mselector_widget\u001b[0m\u001b[1;33m.\u001b[0m\u001b[0mmin\u001b[0m\u001b[1;33m)\u001b[0m\u001b[1;33m\u001b[0m\u001b[0m\n\u001b[0m\u001b[0;32m    381\u001b[0m         \u001b[0mself\u001b[0m\u001b[1;33m.\u001b[0m\u001b[0merase_article_form\u001b[0m\u001b[1;33m(\u001b[0m\u001b[1;33m)\u001b[0m\u001b[1;33m\u001b[0m\u001b[0m\n\u001b[0;32m    382\u001b[0m         \u001b[0mself\u001b[0m\u001b[1;33m.\u001b[0m\u001b[0mshow\u001b[0m\u001b[1;33m(\u001b[0m\u001b[0mclear\u001b[0m\u001b[1;33m=\u001b[0m\u001b[1;32mTrue\u001b[0m\u001b[1;33m)\u001b[0m\u001b[1;33m\u001b[0m\u001b[0m\n",
      "\u001b[1;32mC:\\ProgramData\\Anaconda3\\lib\\site-packages\\traitlets\\traitlets.py\u001b[0m in \u001b[0;36m__set__\u001b[1;34m(self, obj, value)\u001b[0m\n\u001b[0;32m    581\u001b[0m             \u001b[1;32mraise\u001b[0m \u001b[0mTraitError\u001b[0m\u001b[1;33m(\u001b[0m\u001b[1;34m'The \"%s\" trait is read-only.'\u001b[0m \u001b[1;33m%\u001b[0m \u001b[0mself\u001b[0m\u001b[1;33m.\u001b[0m\u001b[0mname\u001b[0m\u001b[1;33m)\u001b[0m\u001b[1;33m\u001b[0m\u001b[0m\n\u001b[0;32m    582\u001b[0m         \u001b[1;32melse\u001b[0m\u001b[1;33m:\u001b[0m\u001b[1;33m\u001b[0m\u001b[0m\n\u001b[1;32m--> 583\u001b[1;33m             \u001b[0mself\u001b[0m\u001b[1;33m.\u001b[0m\u001b[0mset\u001b[0m\u001b[1;33m(\u001b[0m\u001b[0mobj\u001b[0m\u001b[1;33m,\u001b[0m \u001b[0mvalue\u001b[0m\u001b[1;33m)\u001b[0m\u001b[1;33m\u001b[0m\u001b[0m\n\u001b[0m\u001b[0;32m    584\u001b[0m \u001b[1;33m\u001b[0m\u001b[0m\n\u001b[0;32m    585\u001b[0m     \u001b[1;32mdef\u001b[0m \u001b[0m_validate\u001b[0m\u001b[1;33m(\u001b[0m\u001b[0mself\u001b[0m\u001b[1;33m,\u001b[0m \u001b[0mobj\u001b[0m\u001b[1;33m,\u001b[0m \u001b[0mvalue\u001b[0m\u001b[1;33m)\u001b[0m\u001b[1;33m:\u001b[0m\u001b[1;33m\u001b[0m\u001b[0m\n",
      "\u001b[1;32mC:\\ProgramData\\Anaconda3\\lib\\site-packages\\traitlets\\traitlets.py\u001b[0m in \u001b[0;36mset\u001b[1;34m(self, obj, value)\u001b[0m\n\u001b[0;32m    570\u001b[0m             \u001b[1;31m# we explicitly compare silent to True just in case the equality\u001b[0m\u001b[1;33m\u001b[0m\u001b[1;33m\u001b[0m\u001b[0m\n\u001b[0;32m    571\u001b[0m             \u001b[1;31m# comparison above returns something other than True/False\u001b[0m\u001b[1;33m\u001b[0m\u001b[1;33m\u001b[0m\u001b[0m\n\u001b[1;32m--> 572\u001b[1;33m             \u001b[0mobj\u001b[0m\u001b[1;33m.\u001b[0m\u001b[0m_notify_trait\u001b[0m\u001b[1;33m(\u001b[0m\u001b[0mself\u001b[0m\u001b[1;33m.\u001b[0m\u001b[0mname\u001b[0m\u001b[1;33m,\u001b[0m \u001b[0mold_value\u001b[0m\u001b[1;33m,\u001b[0m \u001b[0mnew_value\u001b[0m\u001b[1;33m)\u001b[0m\u001b[1;33m\u001b[0m\u001b[0m\n\u001b[0m\u001b[0;32m    573\u001b[0m \u001b[1;33m\u001b[0m\u001b[0m\n\u001b[0;32m    574\u001b[0m     \u001b[1;32mdef\u001b[0m \u001b[0m__set__\u001b[0m\u001b[1;33m(\u001b[0m\u001b[0mself\u001b[0m\u001b[1;33m,\u001b[0m \u001b[0mobj\u001b[0m\u001b[1;33m,\u001b[0m \u001b[0mvalue\u001b[0m\u001b[1;33m)\u001b[0m\u001b[1;33m:\u001b[0m\u001b[1;33m\u001b[0m\u001b[0m\n",
      "\u001b[1;32mC:\\ProgramData\\Anaconda3\\lib\\site-packages\\traitlets\\traitlets.py\u001b[0m in \u001b[0;36m_notify_trait\u001b[1;34m(self, name, old_value, new_value)\u001b[0m\n\u001b[0;32m   1135\u001b[0m             \u001b[0mnew\u001b[0m\u001b[1;33m=\u001b[0m\u001b[0mnew_value\u001b[0m\u001b[1;33m,\u001b[0m\u001b[1;33m\u001b[0m\u001b[0m\n\u001b[0;32m   1136\u001b[0m             \u001b[0mowner\u001b[0m\u001b[1;33m=\u001b[0m\u001b[0mself\u001b[0m\u001b[1;33m,\u001b[0m\u001b[1;33m\u001b[0m\u001b[0m\n\u001b[1;32m-> 1137\u001b[1;33m             \u001b[0mtype\u001b[0m\u001b[1;33m=\u001b[0m\u001b[1;34m'change'\u001b[0m\u001b[1;33m,\u001b[0m\u001b[1;33m\u001b[0m\u001b[0m\n\u001b[0m\u001b[0;32m   1138\u001b[0m         ))\n\u001b[0;32m   1139\u001b[0m \u001b[1;33m\u001b[0m\u001b[0m\n",
      "\u001b[1;32mC:\\ProgramData\\Anaconda3\\lib\\site-packages\\ipywidgets\\widgets\\widget.py\u001b[0m in \u001b[0;36mnotify_change\u001b[1;34m(self, change)\u001b[0m\n\u001b[0;32m    604\u001b[0m                 \u001b[1;31m# Send new state to front-end\u001b[0m\u001b[1;33m\u001b[0m\u001b[1;33m\u001b[0m\u001b[0m\n\u001b[0;32m    605\u001b[0m                 \u001b[0mself\u001b[0m\u001b[1;33m.\u001b[0m\u001b[0msend_state\u001b[0m\u001b[1;33m(\u001b[0m\u001b[0mkey\u001b[0m\u001b[1;33m=\u001b[0m\u001b[0mname\u001b[0m\u001b[1;33m)\u001b[0m\u001b[1;33m\u001b[0m\u001b[0m\n\u001b[1;32m--> 606\u001b[1;33m         \u001b[0msuper\u001b[0m\u001b[1;33m(\u001b[0m\u001b[0mWidget\u001b[0m\u001b[1;33m,\u001b[0m \u001b[0mself\u001b[0m\u001b[1;33m)\u001b[0m\u001b[1;33m.\u001b[0m\u001b[0mnotify_change\u001b[0m\u001b[1;33m(\u001b[0m\u001b[0mchange\u001b[0m\u001b[1;33m)\u001b[0m\u001b[1;33m\u001b[0m\u001b[0m\n\u001b[0m\u001b[0;32m    607\u001b[0m \u001b[1;33m\u001b[0m\u001b[0m\n\u001b[0;32m    608\u001b[0m     \u001b[1;32mdef\u001b[0m \u001b[0m__repr__\u001b[0m\u001b[1;33m(\u001b[0m\u001b[0mself\u001b[0m\u001b[1;33m)\u001b[0m\u001b[1;33m:\u001b[0m\u001b[1;33m\u001b[0m\u001b[0m\n",
      "\u001b[1;32mC:\\ProgramData\\Anaconda3\\lib\\site-packages\\traitlets\\traitlets.py\u001b[0m in \u001b[0;36mnotify_change\u001b[1;34m(self, change)\u001b[0m\n\u001b[0;32m   1172\u001b[0m                 \u001b[0mc\u001b[0m \u001b[1;33m=\u001b[0m \u001b[0mgetattr\u001b[0m\u001b[1;33m(\u001b[0m\u001b[0mself\u001b[0m\u001b[1;33m,\u001b[0m \u001b[0mc\u001b[0m\u001b[1;33m.\u001b[0m\u001b[0mname\u001b[0m\u001b[1;33m)\u001b[0m\u001b[1;33m\u001b[0m\u001b[0m\n\u001b[0;32m   1173\u001b[0m \u001b[1;33m\u001b[0m\u001b[0m\n\u001b[1;32m-> 1174\u001b[1;33m             \u001b[0mc\u001b[0m\u001b[1;33m(\u001b[0m\u001b[0mchange\u001b[0m\u001b[1;33m)\u001b[0m\u001b[1;33m\u001b[0m\u001b[0m\n\u001b[0m\u001b[0;32m   1175\u001b[0m \u001b[1;33m\u001b[0m\u001b[0m\n\u001b[0;32m   1176\u001b[0m     \u001b[1;32mdef\u001b[0m \u001b[0m_add_notifiers\u001b[0m\u001b[1;33m(\u001b[0m\u001b[0mself\u001b[0m\u001b[1;33m,\u001b[0m \u001b[0mhandler\u001b[0m\u001b[1;33m,\u001b[0m \u001b[0mname\u001b[0m\u001b[1;33m,\u001b[0m \u001b[0mtype\u001b[0m\u001b[1;33m)\u001b[0m\u001b[1;33m:\u001b[0m\u001b[1;33m\u001b[0m\u001b[0m\n",
      "\u001b[1;32mc:\\erica\\snowballing\\snowballing\\snowballing.py\u001b[0m in \u001b[0;36mshow\u001b[1;34m(self, b, clear)\u001b[0m\n\u001b[0;32m    501\u001b[0m         \u001b[1;34m\"\"\"Generic display\"\"\"\u001b[0m\u001b[1;33m\u001b[0m\u001b[0m\n\u001b[0;32m    502\u001b[0m         \u001b[0m_up\u001b[0m \u001b[1;33m=\u001b[0m \u001b[0mself\u001b[0m\u001b[1;33m.\u001b[0m\u001b[0mupdate_info\u001b[0m\u001b[1;33m\u001b[0m\u001b[0m\n\u001b[1;32m--> 503\u001b[1;33m         \u001b[0mreload\u001b[0m\u001b[1;33m(\u001b[0m\u001b[1;33m)\u001b[0m\u001b[1;33m\u001b[0m\u001b[0m\n\u001b[0m\u001b[0;32m    504\u001b[0m         \u001b[0mself\u001b[0m\u001b[1;33m.\u001b[0m\u001b[0mnext_article_widget\u001b[0m\u001b[1;33m.\u001b[0m\u001b[0mdisabled\u001b[0m \u001b[1;33m=\u001b[0m \u001b[0mself\u001b[0m\u001b[1;33m.\u001b[0m\u001b[0mselector_widget\u001b[0m\u001b[1;33m.\u001b[0m\u001b[0mvalue\u001b[0m \u001b[1;33m==\u001b[0m \u001b[0mself\u001b[0m\u001b[1;33m.\u001b[0m\u001b[0mselector_widget\u001b[0m\u001b[1;33m.\u001b[0m\u001b[0mmax\u001b[0m\u001b[1;33m\u001b[0m\u001b[0m\n\u001b[0;32m    505\u001b[0m         \u001b[0mself\u001b[0m\u001b[1;33m.\u001b[0m\u001b[0mprevious_article_widget\u001b[0m\u001b[1;33m.\u001b[0m\u001b[0mdisabled\u001b[0m \u001b[1;33m=\u001b[0m \u001b[0mself\u001b[0m\u001b[1;33m.\u001b[0m\u001b[0mselector_widget\u001b[0m\u001b[1;33m.\u001b[0m\u001b[0mvalue\u001b[0m \u001b[1;33m==\u001b[0m \u001b[1;36m0\u001b[0m\u001b[1;33m\u001b[0m\u001b[0m\n",
      "\u001b[1;32mc:\\erica\\snowballing\\snowballing\\operations.py\u001b[0m in \u001b[0;36mreload\u001b[1;34m()\u001b[0m\n\u001b[0;32m    156\u001b[0m     \"\"\"\n\u001b[0;32m    157\u001b[0m     \u001b[0m_clear_db\u001b[0m\u001b[1;33m(\u001b[0m\u001b[1;33m)\u001b[0m\u001b[1;33m\u001b[0m\u001b[0m\n\u001b[1;32m--> 158\u001b[1;33m     \u001b[0mimportlib\u001b[0m\u001b[1;33m.\u001b[0m\u001b[0mreload\u001b[0m\u001b[1;33m(\u001b[0m\u001b[0mconfig\u001b[0m\u001b[1;33m.\u001b[0m\u001b[0mMODULES\u001b[0m\u001b[1;33m[\u001b[0m\u001b[1;34m'places'\u001b[0m\u001b[1;33m]\u001b[0m\u001b[1;33m)\u001b[0m\u001b[1;33m\u001b[0m\u001b[0m\n\u001b[0m\u001b[0;32m    159\u001b[0m     \u001b[0m_reload_work\u001b[0m\u001b[1;33m(\u001b[0m\u001b[1;33m)\u001b[0m\u001b[1;33m\u001b[0m\u001b[0m\n\u001b[0;32m    160\u001b[0m     \u001b[0mimport_submodules\u001b[0m\u001b[1;33m(\u001b[0m\u001b[0mconfig\u001b[0m\u001b[1;33m.\u001b[0m\u001b[0mMODULES\u001b[0m\u001b[1;33m[\u001b[0m\u001b[1;34m'citations'\u001b[0m\u001b[1;33m]\u001b[0m\u001b[1;33m)\u001b[0m\u001b[1;33m\u001b[0m\u001b[0m\n",
      "\u001b[1;32mC:\\ProgramData\\Anaconda3\\lib\\importlib\\__init__.py\u001b[0m in \u001b[0;36mreload\u001b[1;34m(module)\u001b[0m\n\u001b[0;32m    164\u001b[0m         \u001b[0mtarget\u001b[0m \u001b[1;33m=\u001b[0m \u001b[0mmodule\u001b[0m\u001b[1;33m\u001b[0m\u001b[0m\n\u001b[0;32m    165\u001b[0m         \u001b[0mspec\u001b[0m \u001b[1;33m=\u001b[0m \u001b[0mmodule\u001b[0m\u001b[1;33m.\u001b[0m\u001b[0m__spec__\u001b[0m \u001b[1;33m=\u001b[0m \u001b[0m_bootstrap\u001b[0m\u001b[1;33m.\u001b[0m\u001b[0m_find_spec\u001b[0m\u001b[1;33m(\u001b[0m\u001b[0mname\u001b[0m\u001b[1;33m,\u001b[0m \u001b[0mpkgpath\u001b[0m\u001b[1;33m,\u001b[0m \u001b[0mtarget\u001b[0m\u001b[1;33m)\u001b[0m\u001b[1;33m\u001b[0m\u001b[0m\n\u001b[1;32m--> 166\u001b[1;33m         \u001b[0m_bootstrap\u001b[0m\u001b[1;33m.\u001b[0m\u001b[0m_exec\u001b[0m\u001b[1;33m(\u001b[0m\u001b[0mspec\u001b[0m\u001b[1;33m,\u001b[0m \u001b[0mmodule\u001b[0m\u001b[1;33m)\u001b[0m\u001b[1;33m\u001b[0m\u001b[0m\n\u001b[0m\u001b[0;32m    167\u001b[0m         \u001b[1;31m# The module may have replaced itself in sys.modules!\u001b[0m\u001b[1;33m\u001b[0m\u001b[1;33m\u001b[0m\u001b[0m\n\u001b[0;32m    168\u001b[0m         \u001b[1;32mreturn\u001b[0m \u001b[0msys\u001b[0m\u001b[1;33m.\u001b[0m\u001b[0mmodules\u001b[0m\u001b[1;33m[\u001b[0m\u001b[0mname\u001b[0m\u001b[1;33m]\u001b[0m\u001b[1;33m\u001b[0m\u001b[0m\n",
      "\u001b[1;32mC:\\ProgramData\\Anaconda3\\lib\\importlib\\_bootstrap.py\u001b[0m in \u001b[0;36m_exec\u001b[1;34m(spec, module)\u001b[0m\n",
      "\u001b[1;32mC:\\ProgramData\\Anaconda3\\lib\\importlib\\_bootstrap_external.py\u001b[0m in \u001b[0;36mexec_module\u001b[1;34m(self, module)\u001b[0m\n",
      "\u001b[1;32mC:\\ProgramData\\Anaconda3\\lib\\importlib\\_bootstrap.py\u001b[0m in \u001b[0;36m_call_with_frames_removed\u001b[1;34m(f, *args, **kwds)\u001b[0m\n",
      "\u001b[1;32mC:\\Erica\\hybrid_strategy\\case_study_3\\database\\places.py\u001b[0m in \u001b[0;36m<module>\u001b[1;34m()\u001b[0m\n\u001b[0;32m     31\u001b[0m \u001b[0mJCP\u001b[0m \u001b[1;33m=\u001b[0m  \u001b[0mjournal\u001b[0m\u001b[1;33m(\u001b[0m\u001b[1;34m\"JCP\"\u001b[0m\u001b[1;33m,\u001b[0m\u001b[1;34m\"Journal of Cleaner Production\"\u001b[0m\u001b[1;33m)\u001b[0m\u001b[1;33m\u001b[0m\u001b[0m\n\u001b[0;32m     32\u001b[0m \u001b[1;33m\u001b[0m\u001b[0m\n\u001b[1;32m---> 33\u001b[1;33m \u001b[0mICASEA\u001b[0m \u001b[1;33m=\u001b[0m \u001b[0mConference\u001b[0m\u001b[1;33m(\u001b[0m\u001b[1;34m\"ICASEA\"\u001b[0m\u001b[1;33m,\u001b[0m\u001b[1;34m\"International Conference on Advanced Software Engineering and Its Applications\"\u001b[0m\u001b[1;33m)\u001b[0m\u001b[1;33m\u001b[0m\u001b[0m\n\u001b[0m\u001b[0;32m     34\u001b[0m \u001b[0mICSA\u001b[0m \u001b[1;33m=\u001b[0m \u001b[0mconference\u001b[0m\u001b[1;33m(\u001b[0m\u001b[1;34m\"ICSA\"\u001b[0m\u001b[1;33m,\u001b[0m\u001b[1;34m\"Software Architecture (ICSA), 2017 IEEE International Conference on\"\u001b[0m\u001b[1;33m)\u001b[0m\u001b[1;33m\u001b[0m\u001b[0m\n\u001b[0;32m     35\u001b[0m \u001b[0mESEM\u001b[0m \u001b[1;33m=\u001b[0m  \u001b[0mconference\u001b[0m\u001b[1;33m(\u001b[0m\u001b[1;34m\"ESEM\"\u001b[0m\u001b[1;33m,\u001b[0m\u001b[1;34m\"International Symposium on Empirical Software Engineering and Measurement\"\u001b[0m\u001b[1;33m)\u001b[0m\u001b[1;33m\u001b[0m\u001b[0m\n",
      "\u001b[1;31mNameError\u001b[0m: name 'Conference' is not defined"
     ]
    },
    {
     "ename": "NameError",
     "evalue": "name 'Conference' is not defined",
     "output_type": "error",
     "traceback": [
      "\u001b[1;31m---------------------------------------------------------------------------\u001b[0m",
      "\u001b[1;31mNameError\u001b[0m                                 Traceback (most recent call last)",
      "\u001b[1;32mc:\\erica\\snowballing\\snowballing\\snowballing.py\u001b[0m in \u001b[0;36mprevious_article\u001b[1;34m(self, b)\u001b[0m\n\u001b[0;32m    378\u001b[0m     \u001b[1;32mdef\u001b[0m \u001b[0mprevious_article\u001b[0m\u001b[1;33m(\u001b[0m\u001b[0mself\u001b[0m\u001b[1;33m,\u001b[0m \u001b[0mb\u001b[0m\u001b[1;33m=\u001b[0m\u001b[1;32mNone\u001b[0m\u001b[1;33m)\u001b[0m\u001b[1;33m:\u001b[0m\u001b[1;33m\u001b[0m\u001b[0m\n\u001b[0;32m    379\u001b[0m         \u001b[1;34m\"\"\"Previous article click event\"\"\"\u001b[0m\u001b[1;33m\u001b[0m\u001b[0m\n\u001b[1;32m--> 380\u001b[1;33m         \u001b[0mself\u001b[0m\u001b[1;33m.\u001b[0m\u001b[0mselector_widget\u001b[0m\u001b[1;33m.\u001b[0m\u001b[0mvalue\u001b[0m \u001b[1;33m=\u001b[0m \u001b[0mmax\u001b[0m\u001b[1;33m(\u001b[0m\u001b[0mself\u001b[0m\u001b[1;33m.\u001b[0m\u001b[0mselector_widget\u001b[0m\u001b[1;33m.\u001b[0m\u001b[0mvalue\u001b[0m \u001b[1;33m-\u001b[0m \u001b[1;36m1\u001b[0m\u001b[1;33m,\u001b[0m \u001b[0mself\u001b[0m\u001b[1;33m.\u001b[0m\u001b[0mselector_widget\u001b[0m\u001b[1;33m.\u001b[0m\u001b[0mmin\u001b[0m\u001b[1;33m)\u001b[0m\u001b[1;33m\u001b[0m\u001b[0m\n\u001b[0m\u001b[0;32m    381\u001b[0m         \u001b[0mself\u001b[0m\u001b[1;33m.\u001b[0m\u001b[0merase_article_form\u001b[0m\u001b[1;33m(\u001b[0m\u001b[1;33m)\u001b[0m\u001b[1;33m\u001b[0m\u001b[0m\n\u001b[0;32m    382\u001b[0m         \u001b[0mself\u001b[0m\u001b[1;33m.\u001b[0m\u001b[0mshow\u001b[0m\u001b[1;33m(\u001b[0m\u001b[0mclear\u001b[0m\u001b[1;33m=\u001b[0m\u001b[1;32mTrue\u001b[0m\u001b[1;33m)\u001b[0m\u001b[1;33m\u001b[0m\u001b[0m\n",
      "\u001b[1;32mC:\\ProgramData\\Anaconda3\\lib\\site-packages\\traitlets\\traitlets.py\u001b[0m in \u001b[0;36m__set__\u001b[1;34m(self, obj, value)\u001b[0m\n\u001b[0;32m    581\u001b[0m             \u001b[1;32mraise\u001b[0m \u001b[0mTraitError\u001b[0m\u001b[1;33m(\u001b[0m\u001b[1;34m'The \"%s\" trait is read-only.'\u001b[0m \u001b[1;33m%\u001b[0m \u001b[0mself\u001b[0m\u001b[1;33m.\u001b[0m\u001b[0mname\u001b[0m\u001b[1;33m)\u001b[0m\u001b[1;33m\u001b[0m\u001b[0m\n\u001b[0;32m    582\u001b[0m         \u001b[1;32melse\u001b[0m\u001b[1;33m:\u001b[0m\u001b[1;33m\u001b[0m\u001b[0m\n\u001b[1;32m--> 583\u001b[1;33m             \u001b[0mself\u001b[0m\u001b[1;33m.\u001b[0m\u001b[0mset\u001b[0m\u001b[1;33m(\u001b[0m\u001b[0mobj\u001b[0m\u001b[1;33m,\u001b[0m \u001b[0mvalue\u001b[0m\u001b[1;33m)\u001b[0m\u001b[1;33m\u001b[0m\u001b[0m\n\u001b[0m\u001b[0;32m    584\u001b[0m \u001b[1;33m\u001b[0m\u001b[0m\n\u001b[0;32m    585\u001b[0m     \u001b[1;32mdef\u001b[0m \u001b[0m_validate\u001b[0m\u001b[1;33m(\u001b[0m\u001b[0mself\u001b[0m\u001b[1;33m,\u001b[0m \u001b[0mobj\u001b[0m\u001b[1;33m,\u001b[0m \u001b[0mvalue\u001b[0m\u001b[1;33m)\u001b[0m\u001b[1;33m:\u001b[0m\u001b[1;33m\u001b[0m\u001b[0m\n",
      "\u001b[1;32mC:\\ProgramData\\Anaconda3\\lib\\site-packages\\traitlets\\traitlets.py\u001b[0m in \u001b[0;36mset\u001b[1;34m(self, obj, value)\u001b[0m\n\u001b[0;32m    570\u001b[0m             \u001b[1;31m# we explicitly compare silent to True just in case the equality\u001b[0m\u001b[1;33m\u001b[0m\u001b[1;33m\u001b[0m\u001b[0m\n\u001b[0;32m    571\u001b[0m             \u001b[1;31m# comparison above returns something other than True/False\u001b[0m\u001b[1;33m\u001b[0m\u001b[1;33m\u001b[0m\u001b[0m\n\u001b[1;32m--> 572\u001b[1;33m             \u001b[0mobj\u001b[0m\u001b[1;33m.\u001b[0m\u001b[0m_notify_trait\u001b[0m\u001b[1;33m(\u001b[0m\u001b[0mself\u001b[0m\u001b[1;33m.\u001b[0m\u001b[0mname\u001b[0m\u001b[1;33m,\u001b[0m \u001b[0mold_value\u001b[0m\u001b[1;33m,\u001b[0m \u001b[0mnew_value\u001b[0m\u001b[1;33m)\u001b[0m\u001b[1;33m\u001b[0m\u001b[0m\n\u001b[0m\u001b[0;32m    573\u001b[0m \u001b[1;33m\u001b[0m\u001b[0m\n\u001b[0;32m    574\u001b[0m     \u001b[1;32mdef\u001b[0m \u001b[0m__set__\u001b[0m\u001b[1;33m(\u001b[0m\u001b[0mself\u001b[0m\u001b[1;33m,\u001b[0m \u001b[0mobj\u001b[0m\u001b[1;33m,\u001b[0m \u001b[0mvalue\u001b[0m\u001b[1;33m)\u001b[0m\u001b[1;33m:\u001b[0m\u001b[1;33m\u001b[0m\u001b[0m\n",
      "\u001b[1;32mC:\\ProgramData\\Anaconda3\\lib\\site-packages\\traitlets\\traitlets.py\u001b[0m in \u001b[0;36m_notify_trait\u001b[1;34m(self, name, old_value, new_value)\u001b[0m\n\u001b[0;32m   1135\u001b[0m             \u001b[0mnew\u001b[0m\u001b[1;33m=\u001b[0m\u001b[0mnew_value\u001b[0m\u001b[1;33m,\u001b[0m\u001b[1;33m\u001b[0m\u001b[0m\n\u001b[0;32m   1136\u001b[0m             \u001b[0mowner\u001b[0m\u001b[1;33m=\u001b[0m\u001b[0mself\u001b[0m\u001b[1;33m,\u001b[0m\u001b[1;33m\u001b[0m\u001b[0m\n\u001b[1;32m-> 1137\u001b[1;33m             \u001b[0mtype\u001b[0m\u001b[1;33m=\u001b[0m\u001b[1;34m'change'\u001b[0m\u001b[1;33m,\u001b[0m\u001b[1;33m\u001b[0m\u001b[0m\n\u001b[0m\u001b[0;32m   1138\u001b[0m         ))\n\u001b[0;32m   1139\u001b[0m \u001b[1;33m\u001b[0m\u001b[0m\n",
      "\u001b[1;32mC:\\ProgramData\\Anaconda3\\lib\\site-packages\\ipywidgets\\widgets\\widget.py\u001b[0m in \u001b[0;36mnotify_change\u001b[1;34m(self, change)\u001b[0m\n\u001b[0;32m    604\u001b[0m                 \u001b[1;31m# Send new state to front-end\u001b[0m\u001b[1;33m\u001b[0m\u001b[1;33m\u001b[0m\u001b[0m\n\u001b[0;32m    605\u001b[0m                 \u001b[0mself\u001b[0m\u001b[1;33m.\u001b[0m\u001b[0msend_state\u001b[0m\u001b[1;33m(\u001b[0m\u001b[0mkey\u001b[0m\u001b[1;33m=\u001b[0m\u001b[0mname\u001b[0m\u001b[1;33m)\u001b[0m\u001b[1;33m\u001b[0m\u001b[0m\n\u001b[1;32m--> 606\u001b[1;33m         \u001b[0msuper\u001b[0m\u001b[1;33m(\u001b[0m\u001b[0mWidget\u001b[0m\u001b[1;33m,\u001b[0m \u001b[0mself\u001b[0m\u001b[1;33m)\u001b[0m\u001b[1;33m.\u001b[0m\u001b[0mnotify_change\u001b[0m\u001b[1;33m(\u001b[0m\u001b[0mchange\u001b[0m\u001b[1;33m)\u001b[0m\u001b[1;33m\u001b[0m\u001b[0m\n\u001b[0m\u001b[0;32m    607\u001b[0m \u001b[1;33m\u001b[0m\u001b[0m\n\u001b[0;32m    608\u001b[0m     \u001b[1;32mdef\u001b[0m \u001b[0m__repr__\u001b[0m\u001b[1;33m(\u001b[0m\u001b[0mself\u001b[0m\u001b[1;33m)\u001b[0m\u001b[1;33m:\u001b[0m\u001b[1;33m\u001b[0m\u001b[0m\n",
      "\u001b[1;32mC:\\ProgramData\\Anaconda3\\lib\\site-packages\\traitlets\\traitlets.py\u001b[0m in \u001b[0;36mnotify_change\u001b[1;34m(self, change)\u001b[0m\n\u001b[0;32m   1172\u001b[0m                 \u001b[0mc\u001b[0m \u001b[1;33m=\u001b[0m \u001b[0mgetattr\u001b[0m\u001b[1;33m(\u001b[0m\u001b[0mself\u001b[0m\u001b[1;33m,\u001b[0m \u001b[0mc\u001b[0m\u001b[1;33m.\u001b[0m\u001b[0mname\u001b[0m\u001b[1;33m)\u001b[0m\u001b[1;33m\u001b[0m\u001b[0m\n\u001b[0;32m   1173\u001b[0m \u001b[1;33m\u001b[0m\u001b[0m\n\u001b[1;32m-> 1174\u001b[1;33m             \u001b[0mc\u001b[0m\u001b[1;33m(\u001b[0m\u001b[0mchange\u001b[0m\u001b[1;33m)\u001b[0m\u001b[1;33m\u001b[0m\u001b[0m\n\u001b[0m\u001b[0;32m   1175\u001b[0m \u001b[1;33m\u001b[0m\u001b[0m\n\u001b[0;32m   1176\u001b[0m     \u001b[1;32mdef\u001b[0m \u001b[0m_add_notifiers\u001b[0m\u001b[1;33m(\u001b[0m\u001b[0mself\u001b[0m\u001b[1;33m,\u001b[0m \u001b[0mhandler\u001b[0m\u001b[1;33m,\u001b[0m \u001b[0mname\u001b[0m\u001b[1;33m,\u001b[0m \u001b[0mtype\u001b[0m\u001b[1;33m)\u001b[0m\u001b[1;33m:\u001b[0m\u001b[1;33m\u001b[0m\u001b[0m\n",
      "\u001b[1;32mc:\\erica\\snowballing\\snowballing\\snowballing.py\u001b[0m in \u001b[0;36mshow\u001b[1;34m(self, b, clear)\u001b[0m\n\u001b[0;32m    501\u001b[0m         \u001b[1;34m\"\"\"Generic display\"\"\"\u001b[0m\u001b[1;33m\u001b[0m\u001b[0m\n\u001b[0;32m    502\u001b[0m         \u001b[0m_up\u001b[0m \u001b[1;33m=\u001b[0m \u001b[0mself\u001b[0m\u001b[1;33m.\u001b[0m\u001b[0mupdate_info\u001b[0m\u001b[1;33m\u001b[0m\u001b[0m\n\u001b[1;32m--> 503\u001b[1;33m         \u001b[0mreload\u001b[0m\u001b[1;33m(\u001b[0m\u001b[1;33m)\u001b[0m\u001b[1;33m\u001b[0m\u001b[0m\n\u001b[0m\u001b[0;32m    504\u001b[0m         \u001b[0mself\u001b[0m\u001b[1;33m.\u001b[0m\u001b[0mnext_article_widget\u001b[0m\u001b[1;33m.\u001b[0m\u001b[0mdisabled\u001b[0m \u001b[1;33m=\u001b[0m \u001b[0mself\u001b[0m\u001b[1;33m.\u001b[0m\u001b[0mselector_widget\u001b[0m\u001b[1;33m.\u001b[0m\u001b[0mvalue\u001b[0m \u001b[1;33m==\u001b[0m \u001b[0mself\u001b[0m\u001b[1;33m.\u001b[0m\u001b[0mselector_widget\u001b[0m\u001b[1;33m.\u001b[0m\u001b[0mmax\u001b[0m\u001b[1;33m\u001b[0m\u001b[0m\n\u001b[0;32m    505\u001b[0m         \u001b[0mself\u001b[0m\u001b[1;33m.\u001b[0m\u001b[0mprevious_article_widget\u001b[0m\u001b[1;33m.\u001b[0m\u001b[0mdisabled\u001b[0m \u001b[1;33m=\u001b[0m \u001b[0mself\u001b[0m\u001b[1;33m.\u001b[0m\u001b[0mselector_widget\u001b[0m\u001b[1;33m.\u001b[0m\u001b[0mvalue\u001b[0m \u001b[1;33m==\u001b[0m \u001b[1;36m0\u001b[0m\u001b[1;33m\u001b[0m\u001b[0m\n",
      "\u001b[1;32mc:\\erica\\snowballing\\snowballing\\operations.py\u001b[0m in \u001b[0;36mreload\u001b[1;34m()\u001b[0m\n\u001b[0;32m    156\u001b[0m     \"\"\"\n\u001b[0;32m    157\u001b[0m     \u001b[0m_clear_db\u001b[0m\u001b[1;33m(\u001b[0m\u001b[1;33m)\u001b[0m\u001b[1;33m\u001b[0m\u001b[0m\n\u001b[1;32m--> 158\u001b[1;33m     \u001b[0mimportlib\u001b[0m\u001b[1;33m.\u001b[0m\u001b[0mreload\u001b[0m\u001b[1;33m(\u001b[0m\u001b[0mconfig\u001b[0m\u001b[1;33m.\u001b[0m\u001b[0mMODULES\u001b[0m\u001b[1;33m[\u001b[0m\u001b[1;34m'places'\u001b[0m\u001b[1;33m]\u001b[0m\u001b[1;33m)\u001b[0m\u001b[1;33m\u001b[0m\u001b[0m\n\u001b[0m\u001b[0;32m    159\u001b[0m     \u001b[0m_reload_work\u001b[0m\u001b[1;33m(\u001b[0m\u001b[1;33m)\u001b[0m\u001b[1;33m\u001b[0m\u001b[0m\n\u001b[0;32m    160\u001b[0m     \u001b[0mimport_submodules\u001b[0m\u001b[1;33m(\u001b[0m\u001b[0mconfig\u001b[0m\u001b[1;33m.\u001b[0m\u001b[0mMODULES\u001b[0m\u001b[1;33m[\u001b[0m\u001b[1;34m'citations'\u001b[0m\u001b[1;33m]\u001b[0m\u001b[1;33m)\u001b[0m\u001b[1;33m\u001b[0m\u001b[0m\n",
      "\u001b[1;32mC:\\ProgramData\\Anaconda3\\lib\\importlib\\__init__.py\u001b[0m in \u001b[0;36mreload\u001b[1;34m(module)\u001b[0m\n\u001b[0;32m    164\u001b[0m         \u001b[0mtarget\u001b[0m \u001b[1;33m=\u001b[0m \u001b[0mmodule\u001b[0m\u001b[1;33m\u001b[0m\u001b[0m\n\u001b[0;32m    165\u001b[0m         \u001b[0mspec\u001b[0m \u001b[1;33m=\u001b[0m \u001b[0mmodule\u001b[0m\u001b[1;33m.\u001b[0m\u001b[0m__spec__\u001b[0m \u001b[1;33m=\u001b[0m \u001b[0m_bootstrap\u001b[0m\u001b[1;33m.\u001b[0m\u001b[0m_find_spec\u001b[0m\u001b[1;33m(\u001b[0m\u001b[0mname\u001b[0m\u001b[1;33m,\u001b[0m \u001b[0mpkgpath\u001b[0m\u001b[1;33m,\u001b[0m \u001b[0mtarget\u001b[0m\u001b[1;33m)\u001b[0m\u001b[1;33m\u001b[0m\u001b[0m\n\u001b[1;32m--> 166\u001b[1;33m         \u001b[0m_bootstrap\u001b[0m\u001b[1;33m.\u001b[0m\u001b[0m_exec\u001b[0m\u001b[1;33m(\u001b[0m\u001b[0mspec\u001b[0m\u001b[1;33m,\u001b[0m \u001b[0mmodule\u001b[0m\u001b[1;33m)\u001b[0m\u001b[1;33m\u001b[0m\u001b[0m\n\u001b[0m\u001b[0;32m    167\u001b[0m         \u001b[1;31m# The module may have replaced itself in sys.modules!\u001b[0m\u001b[1;33m\u001b[0m\u001b[1;33m\u001b[0m\u001b[0m\n\u001b[0;32m    168\u001b[0m         \u001b[1;32mreturn\u001b[0m \u001b[0msys\u001b[0m\u001b[1;33m.\u001b[0m\u001b[0mmodules\u001b[0m\u001b[1;33m[\u001b[0m\u001b[0mname\u001b[0m\u001b[1;33m]\u001b[0m\u001b[1;33m\u001b[0m\u001b[0m\n",
      "\u001b[1;32mC:\\ProgramData\\Anaconda3\\lib\\importlib\\_bootstrap.py\u001b[0m in \u001b[0;36m_exec\u001b[1;34m(spec, module)\u001b[0m\n",
      "\u001b[1;32mC:\\ProgramData\\Anaconda3\\lib\\importlib\\_bootstrap_external.py\u001b[0m in \u001b[0;36mexec_module\u001b[1;34m(self, module)\u001b[0m\n",
      "\u001b[1;32mC:\\ProgramData\\Anaconda3\\lib\\importlib\\_bootstrap.py\u001b[0m in \u001b[0;36m_call_with_frames_removed\u001b[1;34m(f, *args, **kwds)\u001b[0m\n",
      "\u001b[1;32mC:\\Erica\\hybrid_strategy\\case_study_3\\database\\places.py\u001b[0m in \u001b[0;36m<module>\u001b[1;34m()\u001b[0m\n\u001b[0;32m     31\u001b[0m \u001b[0mJCP\u001b[0m \u001b[1;33m=\u001b[0m  \u001b[0mjournal\u001b[0m\u001b[1;33m(\u001b[0m\u001b[1;34m\"JCP\"\u001b[0m\u001b[1;33m,\u001b[0m\u001b[1;34m\"Journal of Cleaner Production\"\u001b[0m\u001b[1;33m)\u001b[0m\u001b[1;33m\u001b[0m\u001b[0m\n\u001b[0;32m     32\u001b[0m \u001b[1;33m\u001b[0m\u001b[0m\n\u001b[1;32m---> 33\u001b[1;33m \u001b[0mICASEA\u001b[0m \u001b[1;33m=\u001b[0m \u001b[0mConference\u001b[0m\u001b[1;33m(\u001b[0m\u001b[1;34m\"ICASEA\"\u001b[0m\u001b[1;33m,\u001b[0m\u001b[1;34m\"International Conference on Advanced Software Engineering and Its Applications\"\u001b[0m\u001b[1;33m)\u001b[0m\u001b[1;33m\u001b[0m\u001b[0m\n\u001b[0m\u001b[0;32m     34\u001b[0m \u001b[0mICSA\u001b[0m \u001b[1;33m=\u001b[0m \u001b[0mconference\u001b[0m\u001b[1;33m(\u001b[0m\u001b[1;34m\"ICSA\"\u001b[0m\u001b[1;33m,\u001b[0m\u001b[1;34m\"Software Architecture (ICSA), 2017 IEEE International Conference on\"\u001b[0m\u001b[1;33m)\u001b[0m\u001b[1;33m\u001b[0m\u001b[0m\n\u001b[0;32m     35\u001b[0m \u001b[0mESEM\u001b[0m \u001b[1;33m=\u001b[0m  \u001b[0mconference\u001b[0m\u001b[1;33m(\u001b[0m\u001b[1;34m\"ESEM\"\u001b[0m\u001b[1;33m,\u001b[0m\u001b[1;34m\"International Symposium on Empirical Software Engineering and Measurement\"\u001b[0m\u001b[1;33m)\u001b[0m\u001b[1;33m\u001b[0m\u001b[0m\n",
      "\u001b[1;31mNameError\u001b[0m: name 'Conference' is not defined"
     ]
    },
    {
     "ename": "NameError",
     "evalue": "name 'Conference' is not defined",
     "output_type": "error",
     "traceback": [
      "\u001b[1;31m---------------------------------------------------------------------------\u001b[0m",
      "\u001b[1;31mNameError\u001b[0m                                 Traceback (most recent call last)",
      "\u001b[1;32mc:\\erica\\snowballing\\snowballing\\snowballing.py\u001b[0m in \u001b[0;36mshow\u001b[1;34m(self, b, clear)\u001b[0m\n\u001b[0;32m    501\u001b[0m         \u001b[1;34m\"\"\"Generic display\"\"\"\u001b[0m\u001b[1;33m\u001b[0m\u001b[0m\n\u001b[0;32m    502\u001b[0m         \u001b[0m_up\u001b[0m \u001b[1;33m=\u001b[0m \u001b[0mself\u001b[0m\u001b[1;33m.\u001b[0m\u001b[0mupdate_info\u001b[0m\u001b[1;33m\u001b[0m\u001b[0m\n\u001b[1;32m--> 503\u001b[1;33m         \u001b[0mreload\u001b[0m\u001b[1;33m(\u001b[0m\u001b[1;33m)\u001b[0m\u001b[1;33m\u001b[0m\u001b[0m\n\u001b[0m\u001b[0;32m    504\u001b[0m         \u001b[0mself\u001b[0m\u001b[1;33m.\u001b[0m\u001b[0mnext_article_widget\u001b[0m\u001b[1;33m.\u001b[0m\u001b[0mdisabled\u001b[0m \u001b[1;33m=\u001b[0m \u001b[0mself\u001b[0m\u001b[1;33m.\u001b[0m\u001b[0mselector_widget\u001b[0m\u001b[1;33m.\u001b[0m\u001b[0mvalue\u001b[0m \u001b[1;33m==\u001b[0m \u001b[0mself\u001b[0m\u001b[1;33m.\u001b[0m\u001b[0mselector_widget\u001b[0m\u001b[1;33m.\u001b[0m\u001b[0mmax\u001b[0m\u001b[1;33m\u001b[0m\u001b[0m\n\u001b[0;32m    505\u001b[0m         \u001b[0mself\u001b[0m\u001b[1;33m.\u001b[0m\u001b[0mprevious_article_widget\u001b[0m\u001b[1;33m.\u001b[0m\u001b[0mdisabled\u001b[0m \u001b[1;33m=\u001b[0m \u001b[0mself\u001b[0m\u001b[1;33m.\u001b[0m\u001b[0mselector_widget\u001b[0m\u001b[1;33m.\u001b[0m\u001b[0mvalue\u001b[0m \u001b[1;33m==\u001b[0m \u001b[1;36m0\u001b[0m\u001b[1;33m\u001b[0m\u001b[0m\n",
      "\u001b[1;32mc:\\erica\\snowballing\\snowballing\\operations.py\u001b[0m in \u001b[0;36mreload\u001b[1;34m()\u001b[0m\n\u001b[0;32m    156\u001b[0m     \"\"\"\n\u001b[0;32m    157\u001b[0m     \u001b[0m_clear_db\u001b[0m\u001b[1;33m(\u001b[0m\u001b[1;33m)\u001b[0m\u001b[1;33m\u001b[0m\u001b[0m\n\u001b[1;32m--> 158\u001b[1;33m     \u001b[0mimportlib\u001b[0m\u001b[1;33m.\u001b[0m\u001b[0mreload\u001b[0m\u001b[1;33m(\u001b[0m\u001b[0mconfig\u001b[0m\u001b[1;33m.\u001b[0m\u001b[0mMODULES\u001b[0m\u001b[1;33m[\u001b[0m\u001b[1;34m'places'\u001b[0m\u001b[1;33m]\u001b[0m\u001b[1;33m)\u001b[0m\u001b[1;33m\u001b[0m\u001b[0m\n\u001b[0m\u001b[0;32m    159\u001b[0m     \u001b[0m_reload_work\u001b[0m\u001b[1;33m(\u001b[0m\u001b[1;33m)\u001b[0m\u001b[1;33m\u001b[0m\u001b[0m\n\u001b[0;32m    160\u001b[0m     \u001b[0mimport_submodules\u001b[0m\u001b[1;33m(\u001b[0m\u001b[0mconfig\u001b[0m\u001b[1;33m.\u001b[0m\u001b[0mMODULES\u001b[0m\u001b[1;33m[\u001b[0m\u001b[1;34m'citations'\u001b[0m\u001b[1;33m]\u001b[0m\u001b[1;33m)\u001b[0m\u001b[1;33m\u001b[0m\u001b[0m\n",
      "\u001b[1;32mC:\\ProgramData\\Anaconda3\\lib\\importlib\\__init__.py\u001b[0m in \u001b[0;36mreload\u001b[1;34m(module)\u001b[0m\n\u001b[0;32m    164\u001b[0m         \u001b[0mtarget\u001b[0m \u001b[1;33m=\u001b[0m \u001b[0mmodule\u001b[0m\u001b[1;33m\u001b[0m\u001b[0m\n\u001b[0;32m    165\u001b[0m         \u001b[0mspec\u001b[0m \u001b[1;33m=\u001b[0m \u001b[0mmodule\u001b[0m\u001b[1;33m.\u001b[0m\u001b[0m__spec__\u001b[0m \u001b[1;33m=\u001b[0m \u001b[0m_bootstrap\u001b[0m\u001b[1;33m.\u001b[0m\u001b[0m_find_spec\u001b[0m\u001b[1;33m(\u001b[0m\u001b[0mname\u001b[0m\u001b[1;33m,\u001b[0m \u001b[0mpkgpath\u001b[0m\u001b[1;33m,\u001b[0m \u001b[0mtarget\u001b[0m\u001b[1;33m)\u001b[0m\u001b[1;33m\u001b[0m\u001b[0m\n\u001b[1;32m--> 166\u001b[1;33m         \u001b[0m_bootstrap\u001b[0m\u001b[1;33m.\u001b[0m\u001b[0m_exec\u001b[0m\u001b[1;33m(\u001b[0m\u001b[0mspec\u001b[0m\u001b[1;33m,\u001b[0m \u001b[0mmodule\u001b[0m\u001b[1;33m)\u001b[0m\u001b[1;33m\u001b[0m\u001b[0m\n\u001b[0m\u001b[0;32m    167\u001b[0m         \u001b[1;31m# The module may have replaced itself in sys.modules!\u001b[0m\u001b[1;33m\u001b[0m\u001b[1;33m\u001b[0m\u001b[0m\n\u001b[0;32m    168\u001b[0m         \u001b[1;32mreturn\u001b[0m \u001b[0msys\u001b[0m\u001b[1;33m.\u001b[0m\u001b[0mmodules\u001b[0m\u001b[1;33m[\u001b[0m\u001b[0mname\u001b[0m\u001b[1;33m]\u001b[0m\u001b[1;33m\u001b[0m\u001b[0m\n",
      "\u001b[1;32mC:\\ProgramData\\Anaconda3\\lib\\importlib\\_bootstrap.py\u001b[0m in \u001b[0;36m_exec\u001b[1;34m(spec, module)\u001b[0m\n",
      "\u001b[1;32mC:\\ProgramData\\Anaconda3\\lib\\importlib\\_bootstrap_external.py\u001b[0m in \u001b[0;36mexec_module\u001b[1;34m(self, module)\u001b[0m\n",
      "\u001b[1;32mC:\\ProgramData\\Anaconda3\\lib\\importlib\\_bootstrap.py\u001b[0m in \u001b[0;36m_call_with_frames_removed\u001b[1;34m(f, *args, **kwds)\u001b[0m\n",
      "\u001b[1;32mC:\\Erica\\hybrid_strategy\\case_study_3\\database\\places.py\u001b[0m in \u001b[0;36m<module>\u001b[1;34m()\u001b[0m\n\u001b[0;32m     31\u001b[0m \u001b[0mJCP\u001b[0m \u001b[1;33m=\u001b[0m  \u001b[0mjournal\u001b[0m\u001b[1;33m(\u001b[0m\u001b[1;34m\"JCP\"\u001b[0m\u001b[1;33m,\u001b[0m\u001b[1;34m\"Journal of Cleaner Production\"\u001b[0m\u001b[1;33m)\u001b[0m\u001b[1;33m\u001b[0m\u001b[0m\n\u001b[0;32m     32\u001b[0m \u001b[1;33m\u001b[0m\u001b[0m\n\u001b[1;32m---> 33\u001b[1;33m \u001b[0mICASEA\u001b[0m \u001b[1;33m=\u001b[0m \u001b[0mConference\u001b[0m\u001b[1;33m(\u001b[0m\u001b[1;34m\"ICASEA\"\u001b[0m\u001b[1;33m,\u001b[0m\u001b[1;34m\"International Conference on Advanced Software Engineering and Its Applications\"\u001b[0m\u001b[1;33m)\u001b[0m\u001b[1;33m\u001b[0m\u001b[0m\n\u001b[0m\u001b[0;32m     34\u001b[0m \u001b[0mICSA\u001b[0m \u001b[1;33m=\u001b[0m \u001b[0mconference\u001b[0m\u001b[1;33m(\u001b[0m\u001b[1;34m\"ICSA\"\u001b[0m\u001b[1;33m,\u001b[0m\u001b[1;34m\"Software Architecture (ICSA), 2017 IEEE International Conference on\"\u001b[0m\u001b[1;33m)\u001b[0m\u001b[1;33m\u001b[0m\u001b[0m\n\u001b[0;32m     35\u001b[0m \u001b[0mESEM\u001b[0m \u001b[1;33m=\u001b[0m  \u001b[0mconference\u001b[0m\u001b[1;33m(\u001b[0m\u001b[1;34m\"ESEM\"\u001b[0m\u001b[1;33m,\u001b[0m\u001b[1;34m\"International Symposium on Empirical Software Engineering and Measurement\"\u001b[0m\u001b[1;33m)\u001b[0m\u001b[1;33m\u001b[0m\u001b[0m\n",
      "\u001b[1;31mNameError\u001b[0m: name 'Conference' is not defined"
     ]
    },
    {
     "ename": "NameError",
     "evalue": "name 'Conference' is not defined",
     "output_type": "error",
     "traceback": [
      "\u001b[1;31m---------------------------------------------------------------------------\u001b[0m",
      "\u001b[1;31mNameError\u001b[0m                                 Traceback (most recent call last)",
      "\u001b[1;32mc:\\erica\\snowballing\\snowballing\\snowballing.py\u001b[0m in \u001b[0;36mshow\u001b[1;34m(self, b, clear)\u001b[0m\n\u001b[0;32m    501\u001b[0m         \u001b[1;34m\"\"\"Generic display\"\"\"\u001b[0m\u001b[1;33m\u001b[0m\u001b[0m\n\u001b[0;32m    502\u001b[0m         \u001b[0m_up\u001b[0m \u001b[1;33m=\u001b[0m \u001b[0mself\u001b[0m\u001b[1;33m.\u001b[0m\u001b[0mupdate_info\u001b[0m\u001b[1;33m\u001b[0m\u001b[0m\n\u001b[1;32m--> 503\u001b[1;33m         \u001b[0mreload\u001b[0m\u001b[1;33m(\u001b[0m\u001b[1;33m)\u001b[0m\u001b[1;33m\u001b[0m\u001b[0m\n\u001b[0m\u001b[0;32m    504\u001b[0m         \u001b[0mself\u001b[0m\u001b[1;33m.\u001b[0m\u001b[0mnext_article_widget\u001b[0m\u001b[1;33m.\u001b[0m\u001b[0mdisabled\u001b[0m \u001b[1;33m=\u001b[0m \u001b[0mself\u001b[0m\u001b[1;33m.\u001b[0m\u001b[0mselector_widget\u001b[0m\u001b[1;33m.\u001b[0m\u001b[0mvalue\u001b[0m \u001b[1;33m==\u001b[0m \u001b[0mself\u001b[0m\u001b[1;33m.\u001b[0m\u001b[0mselector_widget\u001b[0m\u001b[1;33m.\u001b[0m\u001b[0mmax\u001b[0m\u001b[1;33m\u001b[0m\u001b[0m\n\u001b[0;32m    505\u001b[0m         \u001b[0mself\u001b[0m\u001b[1;33m.\u001b[0m\u001b[0mprevious_article_widget\u001b[0m\u001b[1;33m.\u001b[0m\u001b[0mdisabled\u001b[0m \u001b[1;33m=\u001b[0m \u001b[0mself\u001b[0m\u001b[1;33m.\u001b[0m\u001b[0mselector_widget\u001b[0m\u001b[1;33m.\u001b[0m\u001b[0mvalue\u001b[0m \u001b[1;33m==\u001b[0m \u001b[1;36m0\u001b[0m\u001b[1;33m\u001b[0m\u001b[0m\n",
      "\u001b[1;32mc:\\erica\\snowballing\\snowballing\\operations.py\u001b[0m in \u001b[0;36mreload\u001b[1;34m()\u001b[0m\n\u001b[0;32m    156\u001b[0m     \"\"\"\n\u001b[0;32m    157\u001b[0m     \u001b[0m_clear_db\u001b[0m\u001b[1;33m(\u001b[0m\u001b[1;33m)\u001b[0m\u001b[1;33m\u001b[0m\u001b[0m\n\u001b[1;32m--> 158\u001b[1;33m     \u001b[0mimportlib\u001b[0m\u001b[1;33m.\u001b[0m\u001b[0mreload\u001b[0m\u001b[1;33m(\u001b[0m\u001b[0mconfig\u001b[0m\u001b[1;33m.\u001b[0m\u001b[0mMODULES\u001b[0m\u001b[1;33m[\u001b[0m\u001b[1;34m'places'\u001b[0m\u001b[1;33m]\u001b[0m\u001b[1;33m)\u001b[0m\u001b[1;33m\u001b[0m\u001b[0m\n\u001b[0m\u001b[0;32m    159\u001b[0m     \u001b[0m_reload_work\u001b[0m\u001b[1;33m(\u001b[0m\u001b[1;33m)\u001b[0m\u001b[1;33m\u001b[0m\u001b[0m\n\u001b[0;32m    160\u001b[0m     \u001b[0mimport_submodules\u001b[0m\u001b[1;33m(\u001b[0m\u001b[0mconfig\u001b[0m\u001b[1;33m.\u001b[0m\u001b[0mMODULES\u001b[0m\u001b[1;33m[\u001b[0m\u001b[1;34m'citations'\u001b[0m\u001b[1;33m]\u001b[0m\u001b[1;33m)\u001b[0m\u001b[1;33m\u001b[0m\u001b[0m\n",
      "\u001b[1;32mC:\\ProgramData\\Anaconda3\\lib\\importlib\\__init__.py\u001b[0m in \u001b[0;36mreload\u001b[1;34m(module)\u001b[0m\n\u001b[0;32m    164\u001b[0m         \u001b[0mtarget\u001b[0m \u001b[1;33m=\u001b[0m \u001b[0mmodule\u001b[0m\u001b[1;33m\u001b[0m\u001b[0m\n\u001b[0;32m    165\u001b[0m         \u001b[0mspec\u001b[0m \u001b[1;33m=\u001b[0m \u001b[0mmodule\u001b[0m\u001b[1;33m.\u001b[0m\u001b[0m__spec__\u001b[0m \u001b[1;33m=\u001b[0m \u001b[0m_bootstrap\u001b[0m\u001b[1;33m.\u001b[0m\u001b[0m_find_spec\u001b[0m\u001b[1;33m(\u001b[0m\u001b[0mname\u001b[0m\u001b[1;33m,\u001b[0m \u001b[0mpkgpath\u001b[0m\u001b[1;33m,\u001b[0m \u001b[0mtarget\u001b[0m\u001b[1;33m)\u001b[0m\u001b[1;33m\u001b[0m\u001b[0m\n\u001b[1;32m--> 166\u001b[1;33m         \u001b[0m_bootstrap\u001b[0m\u001b[1;33m.\u001b[0m\u001b[0m_exec\u001b[0m\u001b[1;33m(\u001b[0m\u001b[0mspec\u001b[0m\u001b[1;33m,\u001b[0m \u001b[0mmodule\u001b[0m\u001b[1;33m)\u001b[0m\u001b[1;33m\u001b[0m\u001b[0m\n\u001b[0m\u001b[0;32m    167\u001b[0m         \u001b[1;31m# The module may have replaced itself in sys.modules!\u001b[0m\u001b[1;33m\u001b[0m\u001b[1;33m\u001b[0m\u001b[0m\n\u001b[0;32m    168\u001b[0m         \u001b[1;32mreturn\u001b[0m \u001b[0msys\u001b[0m\u001b[1;33m.\u001b[0m\u001b[0mmodules\u001b[0m\u001b[1;33m[\u001b[0m\u001b[0mname\u001b[0m\u001b[1;33m]\u001b[0m\u001b[1;33m\u001b[0m\u001b[0m\n",
      "\u001b[1;32mC:\\ProgramData\\Anaconda3\\lib\\importlib\\_bootstrap.py\u001b[0m in \u001b[0;36m_exec\u001b[1;34m(spec, module)\u001b[0m\n",
      "\u001b[1;32mC:\\ProgramData\\Anaconda3\\lib\\importlib\\_bootstrap_external.py\u001b[0m in \u001b[0;36mexec_module\u001b[1;34m(self, module)\u001b[0m\n",
      "\u001b[1;32mC:\\ProgramData\\Anaconda3\\lib\\importlib\\_bootstrap.py\u001b[0m in \u001b[0;36m_call_with_frames_removed\u001b[1;34m(f, *args, **kwds)\u001b[0m\n",
      "\u001b[1;32mC:\\Erica\\hybrid_strategy\\case_study_3\\database\\places.py\u001b[0m in \u001b[0;36m<module>\u001b[1;34m()\u001b[0m\n\u001b[0;32m     31\u001b[0m \u001b[0mJCP\u001b[0m \u001b[1;33m=\u001b[0m  \u001b[0mjournal\u001b[0m\u001b[1;33m(\u001b[0m\u001b[1;34m\"JCP\"\u001b[0m\u001b[1;33m,\u001b[0m\u001b[1;34m\"Journal of Cleaner Production\"\u001b[0m\u001b[1;33m)\u001b[0m\u001b[1;33m\u001b[0m\u001b[0m\n\u001b[0;32m     32\u001b[0m \u001b[1;33m\u001b[0m\u001b[0m\n\u001b[1;32m---> 33\u001b[1;33m \u001b[0mICASEA\u001b[0m \u001b[1;33m=\u001b[0m \u001b[0mConference\u001b[0m\u001b[1;33m(\u001b[0m\u001b[1;34m\"ICASEA\"\u001b[0m\u001b[1;33m,\u001b[0m\u001b[1;34m\"International Conference on Advanced Software Engineering and Its Applications\"\u001b[0m\u001b[1;33m)\u001b[0m\u001b[1;33m\u001b[0m\u001b[0m\n\u001b[0m\u001b[0;32m     34\u001b[0m \u001b[0mICSA\u001b[0m \u001b[1;33m=\u001b[0m \u001b[0mconference\u001b[0m\u001b[1;33m(\u001b[0m\u001b[1;34m\"ICSA\"\u001b[0m\u001b[1;33m,\u001b[0m\u001b[1;34m\"Software Architecture (ICSA), 2017 IEEE International Conference on\"\u001b[0m\u001b[1;33m)\u001b[0m\u001b[1;33m\u001b[0m\u001b[0m\n\u001b[0;32m     35\u001b[0m \u001b[0mESEM\u001b[0m \u001b[1;33m=\u001b[0m  \u001b[0mconference\u001b[0m\u001b[1;33m(\u001b[0m\u001b[1;34m\"ESEM\"\u001b[0m\u001b[1;33m,\u001b[0m\u001b[1;34m\"International Symposium on Empirical Software Engineering and Measurement\"\u001b[0m\u001b[1;33m)\u001b[0m\u001b[1;33m\u001b[0m\u001b[0m\n",
      "\u001b[1;31mNameError\u001b[0m: name 'Conference' is not defined"
     ]
    },
    {
     "ename": "NameError",
     "evalue": "name 'Conference' is not defined",
     "output_type": "error",
     "traceback": [
      "\u001b[1;31m---------------------------------------------------------------------------\u001b[0m",
      "\u001b[1;31mNameError\u001b[0m                                 Traceback (most recent call last)",
      "\u001b[1;32mc:\\erica\\snowballing\\snowballing\\snowballing.py\u001b[0m in \u001b[0;36mnext_article\u001b[1;34m(self, b)\u001b[0m\n\u001b[0;32m    372\u001b[0m     \u001b[1;32mdef\u001b[0m \u001b[0mnext_article\u001b[0m\u001b[1;33m(\u001b[0m\u001b[0mself\u001b[0m\u001b[1;33m,\u001b[0m \u001b[0mb\u001b[0m\u001b[1;33m=\u001b[0m\u001b[1;32mNone\u001b[0m\u001b[1;33m)\u001b[0m\u001b[1;33m:\u001b[0m\u001b[1;33m\u001b[0m\u001b[0m\n\u001b[0;32m    373\u001b[0m         \u001b[1;34m\"\"\"Next article click event\"\"\"\u001b[0m\u001b[1;33m\u001b[0m\u001b[0m\n\u001b[1;32m--> 374\u001b[1;33m         \u001b[0mself\u001b[0m\u001b[1;33m.\u001b[0m\u001b[0mselector_widget\u001b[0m\u001b[1;33m.\u001b[0m\u001b[0mvalue\u001b[0m \u001b[1;33m=\u001b[0m \u001b[0mmin\u001b[0m\u001b[1;33m(\u001b[0m\u001b[0mself\u001b[0m\u001b[1;33m.\u001b[0m\u001b[0mselector_widget\u001b[0m\u001b[1;33m.\u001b[0m\u001b[0mvalue\u001b[0m \u001b[1;33m+\u001b[0m \u001b[1;36m1\u001b[0m\u001b[1;33m,\u001b[0m \u001b[0mself\u001b[0m\u001b[1;33m.\u001b[0m\u001b[0mselector_widget\u001b[0m\u001b[1;33m.\u001b[0m\u001b[0mmax\u001b[0m\u001b[1;33m)\u001b[0m\u001b[1;33m\u001b[0m\u001b[0m\n\u001b[0m\u001b[0;32m    375\u001b[0m         \u001b[0mself\u001b[0m\u001b[1;33m.\u001b[0m\u001b[0merase_article_form\u001b[0m\u001b[1;33m(\u001b[0m\u001b[1;33m)\u001b[0m\u001b[1;33m\u001b[0m\u001b[0m\n\u001b[0;32m    376\u001b[0m         \u001b[0mself\u001b[0m\u001b[1;33m.\u001b[0m\u001b[0mshow\u001b[0m\u001b[1;33m(\u001b[0m\u001b[0mclear\u001b[0m\u001b[1;33m=\u001b[0m\u001b[1;32mTrue\u001b[0m\u001b[1;33m)\u001b[0m\u001b[1;33m\u001b[0m\u001b[0m\n",
      "\u001b[1;32mC:\\ProgramData\\Anaconda3\\lib\\site-packages\\traitlets\\traitlets.py\u001b[0m in \u001b[0;36m__set__\u001b[1;34m(self, obj, value)\u001b[0m\n\u001b[0;32m    581\u001b[0m             \u001b[1;32mraise\u001b[0m \u001b[0mTraitError\u001b[0m\u001b[1;33m(\u001b[0m\u001b[1;34m'The \"%s\" trait is read-only.'\u001b[0m \u001b[1;33m%\u001b[0m \u001b[0mself\u001b[0m\u001b[1;33m.\u001b[0m\u001b[0mname\u001b[0m\u001b[1;33m)\u001b[0m\u001b[1;33m\u001b[0m\u001b[0m\n\u001b[0;32m    582\u001b[0m         \u001b[1;32melse\u001b[0m\u001b[1;33m:\u001b[0m\u001b[1;33m\u001b[0m\u001b[0m\n\u001b[1;32m--> 583\u001b[1;33m             \u001b[0mself\u001b[0m\u001b[1;33m.\u001b[0m\u001b[0mset\u001b[0m\u001b[1;33m(\u001b[0m\u001b[0mobj\u001b[0m\u001b[1;33m,\u001b[0m \u001b[0mvalue\u001b[0m\u001b[1;33m)\u001b[0m\u001b[1;33m\u001b[0m\u001b[0m\n\u001b[0m\u001b[0;32m    584\u001b[0m \u001b[1;33m\u001b[0m\u001b[0m\n\u001b[0;32m    585\u001b[0m     \u001b[1;32mdef\u001b[0m \u001b[0m_validate\u001b[0m\u001b[1;33m(\u001b[0m\u001b[0mself\u001b[0m\u001b[1;33m,\u001b[0m \u001b[0mobj\u001b[0m\u001b[1;33m,\u001b[0m \u001b[0mvalue\u001b[0m\u001b[1;33m)\u001b[0m\u001b[1;33m:\u001b[0m\u001b[1;33m\u001b[0m\u001b[0m\n",
      "\u001b[1;32mC:\\ProgramData\\Anaconda3\\lib\\site-packages\\traitlets\\traitlets.py\u001b[0m in \u001b[0;36mset\u001b[1;34m(self, obj, value)\u001b[0m\n\u001b[0;32m    570\u001b[0m             \u001b[1;31m# we explicitly compare silent to True just in case the equality\u001b[0m\u001b[1;33m\u001b[0m\u001b[1;33m\u001b[0m\u001b[0m\n\u001b[0;32m    571\u001b[0m             \u001b[1;31m# comparison above returns something other than True/False\u001b[0m\u001b[1;33m\u001b[0m\u001b[1;33m\u001b[0m\u001b[0m\n\u001b[1;32m--> 572\u001b[1;33m             \u001b[0mobj\u001b[0m\u001b[1;33m.\u001b[0m\u001b[0m_notify_trait\u001b[0m\u001b[1;33m(\u001b[0m\u001b[0mself\u001b[0m\u001b[1;33m.\u001b[0m\u001b[0mname\u001b[0m\u001b[1;33m,\u001b[0m \u001b[0mold_value\u001b[0m\u001b[1;33m,\u001b[0m \u001b[0mnew_value\u001b[0m\u001b[1;33m)\u001b[0m\u001b[1;33m\u001b[0m\u001b[0m\n\u001b[0m\u001b[0;32m    573\u001b[0m \u001b[1;33m\u001b[0m\u001b[0m\n\u001b[0;32m    574\u001b[0m     \u001b[1;32mdef\u001b[0m \u001b[0m__set__\u001b[0m\u001b[1;33m(\u001b[0m\u001b[0mself\u001b[0m\u001b[1;33m,\u001b[0m \u001b[0mobj\u001b[0m\u001b[1;33m,\u001b[0m \u001b[0mvalue\u001b[0m\u001b[1;33m)\u001b[0m\u001b[1;33m:\u001b[0m\u001b[1;33m\u001b[0m\u001b[0m\n",
      "\u001b[1;32mC:\\ProgramData\\Anaconda3\\lib\\site-packages\\traitlets\\traitlets.py\u001b[0m in \u001b[0;36m_notify_trait\u001b[1;34m(self, name, old_value, new_value)\u001b[0m\n\u001b[0;32m   1135\u001b[0m             \u001b[0mnew\u001b[0m\u001b[1;33m=\u001b[0m\u001b[0mnew_value\u001b[0m\u001b[1;33m,\u001b[0m\u001b[1;33m\u001b[0m\u001b[0m\n\u001b[0;32m   1136\u001b[0m             \u001b[0mowner\u001b[0m\u001b[1;33m=\u001b[0m\u001b[0mself\u001b[0m\u001b[1;33m,\u001b[0m\u001b[1;33m\u001b[0m\u001b[0m\n\u001b[1;32m-> 1137\u001b[1;33m             \u001b[0mtype\u001b[0m\u001b[1;33m=\u001b[0m\u001b[1;34m'change'\u001b[0m\u001b[1;33m,\u001b[0m\u001b[1;33m\u001b[0m\u001b[0m\n\u001b[0m\u001b[0;32m   1138\u001b[0m         ))\n\u001b[0;32m   1139\u001b[0m \u001b[1;33m\u001b[0m\u001b[0m\n",
      "\u001b[1;32mC:\\ProgramData\\Anaconda3\\lib\\site-packages\\ipywidgets\\widgets\\widget.py\u001b[0m in \u001b[0;36mnotify_change\u001b[1;34m(self, change)\u001b[0m\n\u001b[0;32m    604\u001b[0m                 \u001b[1;31m# Send new state to front-end\u001b[0m\u001b[1;33m\u001b[0m\u001b[1;33m\u001b[0m\u001b[0m\n\u001b[0;32m    605\u001b[0m                 \u001b[0mself\u001b[0m\u001b[1;33m.\u001b[0m\u001b[0msend_state\u001b[0m\u001b[1;33m(\u001b[0m\u001b[0mkey\u001b[0m\u001b[1;33m=\u001b[0m\u001b[0mname\u001b[0m\u001b[1;33m)\u001b[0m\u001b[1;33m\u001b[0m\u001b[0m\n\u001b[1;32m--> 606\u001b[1;33m         \u001b[0msuper\u001b[0m\u001b[1;33m(\u001b[0m\u001b[0mWidget\u001b[0m\u001b[1;33m,\u001b[0m \u001b[0mself\u001b[0m\u001b[1;33m)\u001b[0m\u001b[1;33m.\u001b[0m\u001b[0mnotify_change\u001b[0m\u001b[1;33m(\u001b[0m\u001b[0mchange\u001b[0m\u001b[1;33m)\u001b[0m\u001b[1;33m\u001b[0m\u001b[0m\n\u001b[0m\u001b[0;32m    607\u001b[0m \u001b[1;33m\u001b[0m\u001b[0m\n\u001b[0;32m    608\u001b[0m     \u001b[1;32mdef\u001b[0m \u001b[0m__repr__\u001b[0m\u001b[1;33m(\u001b[0m\u001b[0mself\u001b[0m\u001b[1;33m)\u001b[0m\u001b[1;33m:\u001b[0m\u001b[1;33m\u001b[0m\u001b[0m\n",
      "\u001b[1;32mC:\\ProgramData\\Anaconda3\\lib\\site-packages\\traitlets\\traitlets.py\u001b[0m in \u001b[0;36mnotify_change\u001b[1;34m(self, change)\u001b[0m\n\u001b[0;32m   1172\u001b[0m                 \u001b[0mc\u001b[0m \u001b[1;33m=\u001b[0m \u001b[0mgetattr\u001b[0m\u001b[1;33m(\u001b[0m\u001b[0mself\u001b[0m\u001b[1;33m,\u001b[0m \u001b[0mc\u001b[0m\u001b[1;33m.\u001b[0m\u001b[0mname\u001b[0m\u001b[1;33m)\u001b[0m\u001b[1;33m\u001b[0m\u001b[0m\n\u001b[0;32m   1173\u001b[0m \u001b[1;33m\u001b[0m\u001b[0m\n\u001b[1;32m-> 1174\u001b[1;33m             \u001b[0mc\u001b[0m\u001b[1;33m(\u001b[0m\u001b[0mchange\u001b[0m\u001b[1;33m)\u001b[0m\u001b[1;33m\u001b[0m\u001b[0m\n\u001b[0m\u001b[0;32m   1175\u001b[0m \u001b[1;33m\u001b[0m\u001b[0m\n\u001b[0;32m   1176\u001b[0m     \u001b[1;32mdef\u001b[0m \u001b[0m_add_notifiers\u001b[0m\u001b[1;33m(\u001b[0m\u001b[0mself\u001b[0m\u001b[1;33m,\u001b[0m \u001b[0mhandler\u001b[0m\u001b[1;33m,\u001b[0m \u001b[0mname\u001b[0m\u001b[1;33m,\u001b[0m \u001b[0mtype\u001b[0m\u001b[1;33m)\u001b[0m\u001b[1;33m:\u001b[0m\u001b[1;33m\u001b[0m\u001b[0m\n",
      "\u001b[1;32mc:\\erica\\snowballing\\snowballing\\snowballing.py\u001b[0m in \u001b[0;36mshow\u001b[1;34m(self, b, clear)\u001b[0m\n\u001b[0;32m    501\u001b[0m         \u001b[1;34m\"\"\"Generic display\"\"\"\u001b[0m\u001b[1;33m\u001b[0m\u001b[0m\n\u001b[0;32m    502\u001b[0m         \u001b[0m_up\u001b[0m \u001b[1;33m=\u001b[0m \u001b[0mself\u001b[0m\u001b[1;33m.\u001b[0m\u001b[0mupdate_info\u001b[0m\u001b[1;33m\u001b[0m\u001b[0m\n\u001b[1;32m--> 503\u001b[1;33m         \u001b[0mreload\u001b[0m\u001b[1;33m(\u001b[0m\u001b[1;33m)\u001b[0m\u001b[1;33m\u001b[0m\u001b[0m\n\u001b[0m\u001b[0;32m    504\u001b[0m         \u001b[0mself\u001b[0m\u001b[1;33m.\u001b[0m\u001b[0mnext_article_widget\u001b[0m\u001b[1;33m.\u001b[0m\u001b[0mdisabled\u001b[0m \u001b[1;33m=\u001b[0m \u001b[0mself\u001b[0m\u001b[1;33m.\u001b[0m\u001b[0mselector_widget\u001b[0m\u001b[1;33m.\u001b[0m\u001b[0mvalue\u001b[0m \u001b[1;33m==\u001b[0m \u001b[0mself\u001b[0m\u001b[1;33m.\u001b[0m\u001b[0mselector_widget\u001b[0m\u001b[1;33m.\u001b[0m\u001b[0mmax\u001b[0m\u001b[1;33m\u001b[0m\u001b[0m\n\u001b[0;32m    505\u001b[0m         \u001b[0mself\u001b[0m\u001b[1;33m.\u001b[0m\u001b[0mprevious_article_widget\u001b[0m\u001b[1;33m.\u001b[0m\u001b[0mdisabled\u001b[0m \u001b[1;33m=\u001b[0m \u001b[0mself\u001b[0m\u001b[1;33m.\u001b[0m\u001b[0mselector_widget\u001b[0m\u001b[1;33m.\u001b[0m\u001b[0mvalue\u001b[0m \u001b[1;33m==\u001b[0m \u001b[1;36m0\u001b[0m\u001b[1;33m\u001b[0m\u001b[0m\n",
      "\u001b[1;32mc:\\erica\\snowballing\\snowballing\\operations.py\u001b[0m in \u001b[0;36mreload\u001b[1;34m()\u001b[0m\n\u001b[0;32m    156\u001b[0m     \"\"\"\n\u001b[0;32m    157\u001b[0m     \u001b[0m_clear_db\u001b[0m\u001b[1;33m(\u001b[0m\u001b[1;33m)\u001b[0m\u001b[1;33m\u001b[0m\u001b[0m\n\u001b[1;32m--> 158\u001b[1;33m     \u001b[0mimportlib\u001b[0m\u001b[1;33m.\u001b[0m\u001b[0mreload\u001b[0m\u001b[1;33m(\u001b[0m\u001b[0mconfig\u001b[0m\u001b[1;33m.\u001b[0m\u001b[0mMODULES\u001b[0m\u001b[1;33m[\u001b[0m\u001b[1;34m'places'\u001b[0m\u001b[1;33m]\u001b[0m\u001b[1;33m)\u001b[0m\u001b[1;33m\u001b[0m\u001b[0m\n\u001b[0m\u001b[0;32m    159\u001b[0m     \u001b[0m_reload_work\u001b[0m\u001b[1;33m(\u001b[0m\u001b[1;33m)\u001b[0m\u001b[1;33m\u001b[0m\u001b[0m\n\u001b[0;32m    160\u001b[0m     \u001b[0mimport_submodules\u001b[0m\u001b[1;33m(\u001b[0m\u001b[0mconfig\u001b[0m\u001b[1;33m.\u001b[0m\u001b[0mMODULES\u001b[0m\u001b[1;33m[\u001b[0m\u001b[1;34m'citations'\u001b[0m\u001b[1;33m]\u001b[0m\u001b[1;33m)\u001b[0m\u001b[1;33m\u001b[0m\u001b[0m\n",
      "\u001b[1;32mC:\\ProgramData\\Anaconda3\\lib\\importlib\\__init__.py\u001b[0m in \u001b[0;36mreload\u001b[1;34m(module)\u001b[0m\n\u001b[0;32m    164\u001b[0m         \u001b[0mtarget\u001b[0m \u001b[1;33m=\u001b[0m \u001b[0mmodule\u001b[0m\u001b[1;33m\u001b[0m\u001b[0m\n\u001b[0;32m    165\u001b[0m         \u001b[0mspec\u001b[0m \u001b[1;33m=\u001b[0m \u001b[0mmodule\u001b[0m\u001b[1;33m.\u001b[0m\u001b[0m__spec__\u001b[0m \u001b[1;33m=\u001b[0m \u001b[0m_bootstrap\u001b[0m\u001b[1;33m.\u001b[0m\u001b[0m_find_spec\u001b[0m\u001b[1;33m(\u001b[0m\u001b[0mname\u001b[0m\u001b[1;33m,\u001b[0m \u001b[0mpkgpath\u001b[0m\u001b[1;33m,\u001b[0m \u001b[0mtarget\u001b[0m\u001b[1;33m)\u001b[0m\u001b[1;33m\u001b[0m\u001b[0m\n\u001b[1;32m--> 166\u001b[1;33m         \u001b[0m_bootstrap\u001b[0m\u001b[1;33m.\u001b[0m\u001b[0m_exec\u001b[0m\u001b[1;33m(\u001b[0m\u001b[0mspec\u001b[0m\u001b[1;33m,\u001b[0m \u001b[0mmodule\u001b[0m\u001b[1;33m)\u001b[0m\u001b[1;33m\u001b[0m\u001b[0m\n\u001b[0m\u001b[0;32m    167\u001b[0m         \u001b[1;31m# The module may have replaced itself in sys.modules!\u001b[0m\u001b[1;33m\u001b[0m\u001b[1;33m\u001b[0m\u001b[0m\n\u001b[0;32m    168\u001b[0m         \u001b[1;32mreturn\u001b[0m \u001b[0msys\u001b[0m\u001b[1;33m.\u001b[0m\u001b[0mmodules\u001b[0m\u001b[1;33m[\u001b[0m\u001b[0mname\u001b[0m\u001b[1;33m]\u001b[0m\u001b[1;33m\u001b[0m\u001b[0m\n",
      "\u001b[1;32mC:\\ProgramData\\Anaconda3\\lib\\importlib\\_bootstrap.py\u001b[0m in \u001b[0;36m_exec\u001b[1;34m(spec, module)\u001b[0m\n",
      "\u001b[1;32mC:\\ProgramData\\Anaconda3\\lib\\importlib\\_bootstrap_external.py\u001b[0m in \u001b[0;36mexec_module\u001b[1;34m(self, module)\u001b[0m\n",
      "\u001b[1;32mC:\\ProgramData\\Anaconda3\\lib\\importlib\\_bootstrap.py\u001b[0m in \u001b[0;36m_call_with_frames_removed\u001b[1;34m(f, *args, **kwds)\u001b[0m\n",
      "\u001b[1;32mC:\\Erica\\hybrid_strategy\\case_study_3\\database\\places.py\u001b[0m in \u001b[0;36m<module>\u001b[1;34m()\u001b[0m\n\u001b[0;32m     31\u001b[0m \u001b[0mJCP\u001b[0m \u001b[1;33m=\u001b[0m  \u001b[0mjournal\u001b[0m\u001b[1;33m(\u001b[0m\u001b[1;34m\"JCP\"\u001b[0m\u001b[1;33m,\u001b[0m\u001b[1;34m\"Journal of Cleaner Production\"\u001b[0m\u001b[1;33m)\u001b[0m\u001b[1;33m\u001b[0m\u001b[0m\n\u001b[0;32m     32\u001b[0m \u001b[1;33m\u001b[0m\u001b[0m\n\u001b[1;32m---> 33\u001b[1;33m \u001b[0mICASEA\u001b[0m \u001b[1;33m=\u001b[0m \u001b[0mConference\u001b[0m\u001b[1;33m(\u001b[0m\u001b[1;34m\"ICASEA\"\u001b[0m\u001b[1;33m,\u001b[0m\u001b[1;34m\"International Conference on Advanced Software Engineering and Its Applications\"\u001b[0m\u001b[1;33m)\u001b[0m\u001b[1;33m\u001b[0m\u001b[0m\n\u001b[0m\u001b[0;32m     34\u001b[0m \u001b[0mICSA\u001b[0m \u001b[1;33m=\u001b[0m \u001b[0mconference\u001b[0m\u001b[1;33m(\u001b[0m\u001b[1;34m\"ICSA\"\u001b[0m\u001b[1;33m,\u001b[0m\u001b[1;34m\"Software Architecture (ICSA), 2017 IEEE International Conference on\"\u001b[0m\u001b[1;33m)\u001b[0m\u001b[1;33m\u001b[0m\u001b[0m\n\u001b[0;32m     35\u001b[0m \u001b[0mESEM\u001b[0m \u001b[1;33m=\u001b[0m  \u001b[0mconference\u001b[0m\u001b[1;33m(\u001b[0m\u001b[1;34m\"ESEM\"\u001b[0m\u001b[1;33m,\u001b[0m\u001b[1;34m\"International Symposium on Empirical Software Engineering and Measurement\"\u001b[0m\u001b[1;33m)\u001b[0m\u001b[1;33m\u001b[0m\u001b[0m\n",
      "\u001b[1;31mNameError\u001b[0m: name 'Conference' is not defined"
     ]
    },
    {
     "ename": "NameError",
     "evalue": "name 'Conference' is not defined",
     "output_type": "error",
     "traceback": [
      "\u001b[1;31m---------------------------------------------------------------------------\u001b[0m",
      "\u001b[1;31mNameError\u001b[0m                                 Traceback (most recent call last)",
      "\u001b[1;32mc:\\erica\\snowballing\\snowballing\\snowballing.py\u001b[0m in \u001b[0;36mnext_article\u001b[1;34m(self, b)\u001b[0m\n\u001b[0;32m    372\u001b[0m     \u001b[1;32mdef\u001b[0m \u001b[0mnext_article\u001b[0m\u001b[1;33m(\u001b[0m\u001b[0mself\u001b[0m\u001b[1;33m,\u001b[0m \u001b[0mb\u001b[0m\u001b[1;33m=\u001b[0m\u001b[1;32mNone\u001b[0m\u001b[1;33m)\u001b[0m\u001b[1;33m:\u001b[0m\u001b[1;33m\u001b[0m\u001b[0m\n\u001b[0;32m    373\u001b[0m         \u001b[1;34m\"\"\"Next article click event\"\"\"\u001b[0m\u001b[1;33m\u001b[0m\u001b[0m\n\u001b[1;32m--> 374\u001b[1;33m         \u001b[0mself\u001b[0m\u001b[1;33m.\u001b[0m\u001b[0mselector_widget\u001b[0m\u001b[1;33m.\u001b[0m\u001b[0mvalue\u001b[0m \u001b[1;33m=\u001b[0m \u001b[0mmin\u001b[0m\u001b[1;33m(\u001b[0m\u001b[0mself\u001b[0m\u001b[1;33m.\u001b[0m\u001b[0mselector_widget\u001b[0m\u001b[1;33m.\u001b[0m\u001b[0mvalue\u001b[0m \u001b[1;33m+\u001b[0m \u001b[1;36m1\u001b[0m\u001b[1;33m,\u001b[0m \u001b[0mself\u001b[0m\u001b[1;33m.\u001b[0m\u001b[0mselector_widget\u001b[0m\u001b[1;33m.\u001b[0m\u001b[0mmax\u001b[0m\u001b[1;33m)\u001b[0m\u001b[1;33m\u001b[0m\u001b[0m\n\u001b[0m\u001b[0;32m    375\u001b[0m         \u001b[0mself\u001b[0m\u001b[1;33m.\u001b[0m\u001b[0merase_article_form\u001b[0m\u001b[1;33m(\u001b[0m\u001b[1;33m)\u001b[0m\u001b[1;33m\u001b[0m\u001b[0m\n\u001b[0;32m    376\u001b[0m         \u001b[0mself\u001b[0m\u001b[1;33m.\u001b[0m\u001b[0mshow\u001b[0m\u001b[1;33m(\u001b[0m\u001b[0mclear\u001b[0m\u001b[1;33m=\u001b[0m\u001b[1;32mTrue\u001b[0m\u001b[1;33m)\u001b[0m\u001b[1;33m\u001b[0m\u001b[0m\n",
      "\u001b[1;32mC:\\ProgramData\\Anaconda3\\lib\\site-packages\\traitlets\\traitlets.py\u001b[0m in \u001b[0;36m__set__\u001b[1;34m(self, obj, value)\u001b[0m\n\u001b[0;32m    581\u001b[0m             \u001b[1;32mraise\u001b[0m \u001b[0mTraitError\u001b[0m\u001b[1;33m(\u001b[0m\u001b[1;34m'The \"%s\" trait is read-only.'\u001b[0m \u001b[1;33m%\u001b[0m \u001b[0mself\u001b[0m\u001b[1;33m.\u001b[0m\u001b[0mname\u001b[0m\u001b[1;33m)\u001b[0m\u001b[1;33m\u001b[0m\u001b[0m\n\u001b[0;32m    582\u001b[0m         \u001b[1;32melse\u001b[0m\u001b[1;33m:\u001b[0m\u001b[1;33m\u001b[0m\u001b[0m\n\u001b[1;32m--> 583\u001b[1;33m             \u001b[0mself\u001b[0m\u001b[1;33m.\u001b[0m\u001b[0mset\u001b[0m\u001b[1;33m(\u001b[0m\u001b[0mobj\u001b[0m\u001b[1;33m,\u001b[0m \u001b[0mvalue\u001b[0m\u001b[1;33m)\u001b[0m\u001b[1;33m\u001b[0m\u001b[0m\n\u001b[0m\u001b[0;32m    584\u001b[0m \u001b[1;33m\u001b[0m\u001b[0m\n\u001b[0;32m    585\u001b[0m     \u001b[1;32mdef\u001b[0m \u001b[0m_validate\u001b[0m\u001b[1;33m(\u001b[0m\u001b[0mself\u001b[0m\u001b[1;33m,\u001b[0m \u001b[0mobj\u001b[0m\u001b[1;33m,\u001b[0m \u001b[0mvalue\u001b[0m\u001b[1;33m)\u001b[0m\u001b[1;33m:\u001b[0m\u001b[1;33m\u001b[0m\u001b[0m\n",
      "\u001b[1;32mC:\\ProgramData\\Anaconda3\\lib\\site-packages\\traitlets\\traitlets.py\u001b[0m in \u001b[0;36mset\u001b[1;34m(self, obj, value)\u001b[0m\n\u001b[0;32m    570\u001b[0m             \u001b[1;31m# we explicitly compare silent to True just in case the equality\u001b[0m\u001b[1;33m\u001b[0m\u001b[1;33m\u001b[0m\u001b[0m\n\u001b[0;32m    571\u001b[0m             \u001b[1;31m# comparison above returns something other than True/False\u001b[0m\u001b[1;33m\u001b[0m\u001b[1;33m\u001b[0m\u001b[0m\n\u001b[1;32m--> 572\u001b[1;33m             \u001b[0mobj\u001b[0m\u001b[1;33m.\u001b[0m\u001b[0m_notify_trait\u001b[0m\u001b[1;33m(\u001b[0m\u001b[0mself\u001b[0m\u001b[1;33m.\u001b[0m\u001b[0mname\u001b[0m\u001b[1;33m,\u001b[0m \u001b[0mold_value\u001b[0m\u001b[1;33m,\u001b[0m \u001b[0mnew_value\u001b[0m\u001b[1;33m)\u001b[0m\u001b[1;33m\u001b[0m\u001b[0m\n\u001b[0m\u001b[0;32m    573\u001b[0m \u001b[1;33m\u001b[0m\u001b[0m\n\u001b[0;32m    574\u001b[0m     \u001b[1;32mdef\u001b[0m \u001b[0m__set__\u001b[0m\u001b[1;33m(\u001b[0m\u001b[0mself\u001b[0m\u001b[1;33m,\u001b[0m \u001b[0mobj\u001b[0m\u001b[1;33m,\u001b[0m \u001b[0mvalue\u001b[0m\u001b[1;33m)\u001b[0m\u001b[1;33m:\u001b[0m\u001b[1;33m\u001b[0m\u001b[0m\n",
      "\u001b[1;32mC:\\ProgramData\\Anaconda3\\lib\\site-packages\\traitlets\\traitlets.py\u001b[0m in \u001b[0;36m_notify_trait\u001b[1;34m(self, name, old_value, new_value)\u001b[0m\n\u001b[0;32m   1135\u001b[0m             \u001b[0mnew\u001b[0m\u001b[1;33m=\u001b[0m\u001b[0mnew_value\u001b[0m\u001b[1;33m,\u001b[0m\u001b[1;33m\u001b[0m\u001b[0m\n\u001b[0;32m   1136\u001b[0m             \u001b[0mowner\u001b[0m\u001b[1;33m=\u001b[0m\u001b[0mself\u001b[0m\u001b[1;33m,\u001b[0m\u001b[1;33m\u001b[0m\u001b[0m\n\u001b[1;32m-> 1137\u001b[1;33m             \u001b[0mtype\u001b[0m\u001b[1;33m=\u001b[0m\u001b[1;34m'change'\u001b[0m\u001b[1;33m,\u001b[0m\u001b[1;33m\u001b[0m\u001b[0m\n\u001b[0m\u001b[0;32m   1138\u001b[0m         ))\n\u001b[0;32m   1139\u001b[0m \u001b[1;33m\u001b[0m\u001b[0m\n",
      "\u001b[1;32mC:\\ProgramData\\Anaconda3\\lib\\site-packages\\ipywidgets\\widgets\\widget.py\u001b[0m in \u001b[0;36mnotify_change\u001b[1;34m(self, change)\u001b[0m\n\u001b[0;32m    604\u001b[0m                 \u001b[1;31m# Send new state to front-end\u001b[0m\u001b[1;33m\u001b[0m\u001b[1;33m\u001b[0m\u001b[0m\n\u001b[0;32m    605\u001b[0m                 \u001b[0mself\u001b[0m\u001b[1;33m.\u001b[0m\u001b[0msend_state\u001b[0m\u001b[1;33m(\u001b[0m\u001b[0mkey\u001b[0m\u001b[1;33m=\u001b[0m\u001b[0mname\u001b[0m\u001b[1;33m)\u001b[0m\u001b[1;33m\u001b[0m\u001b[0m\n\u001b[1;32m--> 606\u001b[1;33m         \u001b[0msuper\u001b[0m\u001b[1;33m(\u001b[0m\u001b[0mWidget\u001b[0m\u001b[1;33m,\u001b[0m \u001b[0mself\u001b[0m\u001b[1;33m)\u001b[0m\u001b[1;33m.\u001b[0m\u001b[0mnotify_change\u001b[0m\u001b[1;33m(\u001b[0m\u001b[0mchange\u001b[0m\u001b[1;33m)\u001b[0m\u001b[1;33m\u001b[0m\u001b[0m\n\u001b[0m\u001b[0;32m    607\u001b[0m \u001b[1;33m\u001b[0m\u001b[0m\n\u001b[0;32m    608\u001b[0m     \u001b[1;32mdef\u001b[0m \u001b[0m__repr__\u001b[0m\u001b[1;33m(\u001b[0m\u001b[0mself\u001b[0m\u001b[1;33m)\u001b[0m\u001b[1;33m:\u001b[0m\u001b[1;33m\u001b[0m\u001b[0m\n",
      "\u001b[1;32mC:\\ProgramData\\Anaconda3\\lib\\site-packages\\traitlets\\traitlets.py\u001b[0m in \u001b[0;36mnotify_change\u001b[1;34m(self, change)\u001b[0m\n\u001b[0;32m   1172\u001b[0m                 \u001b[0mc\u001b[0m \u001b[1;33m=\u001b[0m \u001b[0mgetattr\u001b[0m\u001b[1;33m(\u001b[0m\u001b[0mself\u001b[0m\u001b[1;33m,\u001b[0m \u001b[0mc\u001b[0m\u001b[1;33m.\u001b[0m\u001b[0mname\u001b[0m\u001b[1;33m)\u001b[0m\u001b[1;33m\u001b[0m\u001b[0m\n\u001b[0;32m   1173\u001b[0m \u001b[1;33m\u001b[0m\u001b[0m\n\u001b[1;32m-> 1174\u001b[1;33m             \u001b[0mc\u001b[0m\u001b[1;33m(\u001b[0m\u001b[0mchange\u001b[0m\u001b[1;33m)\u001b[0m\u001b[1;33m\u001b[0m\u001b[0m\n\u001b[0m\u001b[0;32m   1175\u001b[0m \u001b[1;33m\u001b[0m\u001b[0m\n\u001b[0;32m   1176\u001b[0m     \u001b[1;32mdef\u001b[0m \u001b[0m_add_notifiers\u001b[0m\u001b[1;33m(\u001b[0m\u001b[0mself\u001b[0m\u001b[1;33m,\u001b[0m \u001b[0mhandler\u001b[0m\u001b[1;33m,\u001b[0m \u001b[0mname\u001b[0m\u001b[1;33m,\u001b[0m \u001b[0mtype\u001b[0m\u001b[1;33m)\u001b[0m\u001b[1;33m:\u001b[0m\u001b[1;33m\u001b[0m\u001b[0m\n",
      "\u001b[1;32mc:\\erica\\snowballing\\snowballing\\snowballing.py\u001b[0m in \u001b[0;36mshow\u001b[1;34m(self, b, clear)\u001b[0m\n\u001b[0;32m    501\u001b[0m         \u001b[1;34m\"\"\"Generic display\"\"\"\u001b[0m\u001b[1;33m\u001b[0m\u001b[0m\n\u001b[0;32m    502\u001b[0m         \u001b[0m_up\u001b[0m \u001b[1;33m=\u001b[0m \u001b[0mself\u001b[0m\u001b[1;33m.\u001b[0m\u001b[0mupdate_info\u001b[0m\u001b[1;33m\u001b[0m\u001b[0m\n\u001b[1;32m--> 503\u001b[1;33m         \u001b[0mreload\u001b[0m\u001b[1;33m(\u001b[0m\u001b[1;33m)\u001b[0m\u001b[1;33m\u001b[0m\u001b[0m\n\u001b[0m\u001b[0;32m    504\u001b[0m         \u001b[0mself\u001b[0m\u001b[1;33m.\u001b[0m\u001b[0mnext_article_widget\u001b[0m\u001b[1;33m.\u001b[0m\u001b[0mdisabled\u001b[0m \u001b[1;33m=\u001b[0m \u001b[0mself\u001b[0m\u001b[1;33m.\u001b[0m\u001b[0mselector_widget\u001b[0m\u001b[1;33m.\u001b[0m\u001b[0mvalue\u001b[0m \u001b[1;33m==\u001b[0m \u001b[0mself\u001b[0m\u001b[1;33m.\u001b[0m\u001b[0mselector_widget\u001b[0m\u001b[1;33m.\u001b[0m\u001b[0mmax\u001b[0m\u001b[1;33m\u001b[0m\u001b[0m\n\u001b[0;32m    505\u001b[0m         \u001b[0mself\u001b[0m\u001b[1;33m.\u001b[0m\u001b[0mprevious_article_widget\u001b[0m\u001b[1;33m.\u001b[0m\u001b[0mdisabled\u001b[0m \u001b[1;33m=\u001b[0m \u001b[0mself\u001b[0m\u001b[1;33m.\u001b[0m\u001b[0mselector_widget\u001b[0m\u001b[1;33m.\u001b[0m\u001b[0mvalue\u001b[0m \u001b[1;33m==\u001b[0m \u001b[1;36m0\u001b[0m\u001b[1;33m\u001b[0m\u001b[0m\n",
      "\u001b[1;32mc:\\erica\\snowballing\\snowballing\\operations.py\u001b[0m in \u001b[0;36mreload\u001b[1;34m()\u001b[0m\n\u001b[0;32m    156\u001b[0m     \"\"\"\n\u001b[0;32m    157\u001b[0m     \u001b[0m_clear_db\u001b[0m\u001b[1;33m(\u001b[0m\u001b[1;33m)\u001b[0m\u001b[1;33m\u001b[0m\u001b[0m\n\u001b[1;32m--> 158\u001b[1;33m     \u001b[0mimportlib\u001b[0m\u001b[1;33m.\u001b[0m\u001b[0mreload\u001b[0m\u001b[1;33m(\u001b[0m\u001b[0mconfig\u001b[0m\u001b[1;33m.\u001b[0m\u001b[0mMODULES\u001b[0m\u001b[1;33m[\u001b[0m\u001b[1;34m'places'\u001b[0m\u001b[1;33m]\u001b[0m\u001b[1;33m)\u001b[0m\u001b[1;33m\u001b[0m\u001b[0m\n\u001b[0m\u001b[0;32m    159\u001b[0m     \u001b[0m_reload_work\u001b[0m\u001b[1;33m(\u001b[0m\u001b[1;33m)\u001b[0m\u001b[1;33m\u001b[0m\u001b[0m\n\u001b[0;32m    160\u001b[0m     \u001b[0mimport_submodules\u001b[0m\u001b[1;33m(\u001b[0m\u001b[0mconfig\u001b[0m\u001b[1;33m.\u001b[0m\u001b[0mMODULES\u001b[0m\u001b[1;33m[\u001b[0m\u001b[1;34m'citations'\u001b[0m\u001b[1;33m]\u001b[0m\u001b[1;33m)\u001b[0m\u001b[1;33m\u001b[0m\u001b[0m\n",
      "\u001b[1;32mC:\\ProgramData\\Anaconda3\\lib\\importlib\\__init__.py\u001b[0m in \u001b[0;36mreload\u001b[1;34m(module)\u001b[0m\n\u001b[0;32m    164\u001b[0m         \u001b[0mtarget\u001b[0m \u001b[1;33m=\u001b[0m \u001b[0mmodule\u001b[0m\u001b[1;33m\u001b[0m\u001b[0m\n\u001b[0;32m    165\u001b[0m         \u001b[0mspec\u001b[0m \u001b[1;33m=\u001b[0m \u001b[0mmodule\u001b[0m\u001b[1;33m.\u001b[0m\u001b[0m__spec__\u001b[0m \u001b[1;33m=\u001b[0m \u001b[0m_bootstrap\u001b[0m\u001b[1;33m.\u001b[0m\u001b[0m_find_spec\u001b[0m\u001b[1;33m(\u001b[0m\u001b[0mname\u001b[0m\u001b[1;33m,\u001b[0m \u001b[0mpkgpath\u001b[0m\u001b[1;33m,\u001b[0m \u001b[0mtarget\u001b[0m\u001b[1;33m)\u001b[0m\u001b[1;33m\u001b[0m\u001b[0m\n\u001b[1;32m--> 166\u001b[1;33m         \u001b[0m_bootstrap\u001b[0m\u001b[1;33m.\u001b[0m\u001b[0m_exec\u001b[0m\u001b[1;33m(\u001b[0m\u001b[0mspec\u001b[0m\u001b[1;33m,\u001b[0m \u001b[0mmodule\u001b[0m\u001b[1;33m)\u001b[0m\u001b[1;33m\u001b[0m\u001b[0m\n\u001b[0m\u001b[0;32m    167\u001b[0m         \u001b[1;31m# The module may have replaced itself in sys.modules!\u001b[0m\u001b[1;33m\u001b[0m\u001b[1;33m\u001b[0m\u001b[0m\n\u001b[0;32m    168\u001b[0m         \u001b[1;32mreturn\u001b[0m \u001b[0msys\u001b[0m\u001b[1;33m.\u001b[0m\u001b[0mmodules\u001b[0m\u001b[1;33m[\u001b[0m\u001b[0mname\u001b[0m\u001b[1;33m]\u001b[0m\u001b[1;33m\u001b[0m\u001b[0m\n",
      "\u001b[1;32mC:\\ProgramData\\Anaconda3\\lib\\importlib\\_bootstrap.py\u001b[0m in \u001b[0;36m_exec\u001b[1;34m(spec, module)\u001b[0m\n",
      "\u001b[1;32mC:\\ProgramData\\Anaconda3\\lib\\importlib\\_bootstrap_external.py\u001b[0m in \u001b[0;36mexec_module\u001b[1;34m(self, module)\u001b[0m\n",
      "\u001b[1;32mC:\\ProgramData\\Anaconda3\\lib\\importlib\\_bootstrap.py\u001b[0m in \u001b[0;36m_call_with_frames_removed\u001b[1;34m(f, *args, **kwds)\u001b[0m\n",
      "\u001b[1;32mC:\\Erica\\hybrid_strategy\\case_study_3\\database\\places.py\u001b[0m in \u001b[0;36m<module>\u001b[1;34m()\u001b[0m\n\u001b[0;32m     31\u001b[0m \u001b[0mJCP\u001b[0m \u001b[1;33m=\u001b[0m  \u001b[0mjournal\u001b[0m\u001b[1;33m(\u001b[0m\u001b[1;34m\"JCP\"\u001b[0m\u001b[1;33m,\u001b[0m\u001b[1;34m\"Journal of Cleaner Production\"\u001b[0m\u001b[1;33m)\u001b[0m\u001b[1;33m\u001b[0m\u001b[0m\n\u001b[0;32m     32\u001b[0m \u001b[1;33m\u001b[0m\u001b[0m\n\u001b[1;32m---> 33\u001b[1;33m \u001b[0mICASEA\u001b[0m \u001b[1;33m=\u001b[0m \u001b[0mConference\u001b[0m\u001b[1;33m(\u001b[0m\u001b[1;34m\"ICASEA\"\u001b[0m\u001b[1;33m,\u001b[0m\u001b[1;34m\"International Conference on Advanced Software Engineering and Its Applications\"\u001b[0m\u001b[1;33m)\u001b[0m\u001b[1;33m\u001b[0m\u001b[0m\n\u001b[0m\u001b[0;32m     34\u001b[0m \u001b[0mICSA\u001b[0m \u001b[1;33m=\u001b[0m \u001b[0mconference\u001b[0m\u001b[1;33m(\u001b[0m\u001b[1;34m\"ICSA\"\u001b[0m\u001b[1;33m,\u001b[0m\u001b[1;34m\"Software Architecture (ICSA), 2017 IEEE International Conference on\"\u001b[0m\u001b[1;33m)\u001b[0m\u001b[1;33m\u001b[0m\u001b[0m\n\u001b[0;32m     35\u001b[0m \u001b[0mESEM\u001b[0m \u001b[1;33m=\u001b[0m  \u001b[0mconference\u001b[0m\u001b[1;33m(\u001b[0m\u001b[1;34m\"ESEM\"\u001b[0m\u001b[1;33m,\u001b[0m\u001b[1;34m\"International Symposium on Empirical Software Engineering and Measurement\"\u001b[0m\u001b[1;33m)\u001b[0m\u001b[1;33m\u001b[0m\u001b[0m\n",
      "\u001b[1;31mNameError\u001b[0m: name 'Conference' is not defined"
     ]
    },
    {
     "data": {
      "application/javascript": [
       "$('span:contains(\"# Temp\")').closest('.cell').remove();"
      ],
      "text/plain": [
       "<IPython.core.display.Javascript object>"
      ]
     },
     "metadata": {},
     "output_type": "display_data"
    },
    {
     "data": {
      "application/javascript": [
       "\n",
       "        $('span:contains(\"# Temp\")').closest('.cell').remove();\n",
       "        var code = IPython.notebook.insert_cell_below('code');\n",
       "        code.set_text(atob(\"IyBUZW1wCmluc2VydCgnJycKbWF0b3MyMDEzYSA9IERCKFdvcmtVbnJlbGF0ZWQoCiAgICAyMDEzLCAiUmVhbGlzaW5nIHdlYiBlZmZvcnQgZXN0aW1hdGlvbjogYSBxdWFsaXRhdGl2ZSBpbnZlc3RpZ2F0aW9uIiwKICAgIGRpc3BsYXk9Im1hdG9zIiwKICAgIGF1dGhvcnM9Ik1hdG9zLCBPbGF2byBhbmQgRm9ydGFsZXphLCBMdWl6IGFuZCBDb250ZSwgVGF5YW5hIGFuZCBNZW5kZXMsIEVtaWxpYSIsCiAgICBwbGFjZT1FQVNFLAogICAgcHA9IjEyLS0yMyIsCiAgICBlbnRyeXR5cGU9ImlucHJvY2VlZGluZ3MiLAogICAgb3JnYW5pemF0aW9uPSJBQ00iLAogICAgSUQ9Im1hdG9zMjAxM3JlYWxpc2luZyIsCiAgICBjbHVzdGVyX2lkPSIxMzQ2ODE4ODA4OTc3MzY1NTY5MyIsCiAgICBzY2hvbGFyPSJodHRwOi8vc2Nob2xhci5nb29nbGUuY29tL3NjaG9sYXI/Y2l0ZXM9MTM0NjgxODgwODk3NzM2NTU2OTMmYXNfc2R0PTIwMDUmc2Npb2R0PTAsNSZobD1lbiIsCikpCgpEQihDaXRhdGlvbigKICAgIG1hdG9zMjAxM2EsIG1lbmRlczIwMDRhLCByZWY9IiIsCiAgICBjb250ZXh0cz1bCgogICAgXSwKKSkKCicnJywgY2l0YXRpb25zPSdtZW5kZXMyMDA0YScpOw==\"));\n",
       "    "
      ],
      "text/plain": [
       "<IPython.core.display.Javascript object>"
      ]
     },
     "metadata": {},
     "output_type": "display_data"
    },
    {
     "data": {
      "application/javascript": [
       "$('span:contains(\"# Temp\")').closest('.cell').remove();"
      ],
      "text/plain": [
       "<IPython.core.display.Javascript object>"
      ]
     },
     "metadata": {},
     "output_type": "display_data"
    },
    {
     "data": {
      "application/javascript": [
       "\n",
       "        $('span:contains(\"# Temp\")').closest('.cell').remove();\n",
       "        var code = IPython.notebook.insert_cell_below('code');\n",
       "        code.set_text(atob(\"IyBUZW1wCmluc2VydCgnJycKbWFydGlubzIwMTFhID0gREIoV29ya1VucmVsYXRlZCgKICAgIDIwMTEsICJVc2luZyB3ZWIgb2JqZWN0cyBmb3IgZGV2ZWxvcG1lbnQgZWZmb3J0IGVzdGltYXRpb24gb2Ygd2ViIGFwcGxpY2F0aW9uczogYSByZXBsaWNhdGVkIHN0dWR5IiwKICAgIGRpc3BsYXk9Im1hcnRpbm8iLAogICAgYXV0aG9ycz0iRGkgTWFydGlubywgU2VyZ2lvIGFuZCBGZXJydWNjaSwgRmlsb21lbmEgYW5kIEdyYXZpbm8sIENhcm1pbmUgYW5kIFNhcnJvLCBGZWRlcmljYSIsCiAgICBwcD0iMTg2LS0yMDEiLAogICAgcGxhY2UxPSJJbnRlcm5hdGlvbmFsIENvbmZlcmVuY2Ugb24gUHJvZHVjdCBGb2N1c2VkIFNvZnR3YXJlIFByb2Nlc3MgSW1wcm92ZW1lbnQiLAogICAgZW50cnl0eXBlPSJpbnByb2NlZWRpbmdzIiwKICAgIG9yZ2FuaXphdGlvbj0iU3ByaW5nZXIiLAogICAgSUQ9ImRpMjAxMXVzaW5nIiwKICAgIGNsdXN0ZXJfaWQ9IjU1MjE3NjM2NjU0MzY2Njg1NzUiLAogICAgc2Nob2xhcj0iaHR0cDovL3NjaG9sYXIuZ29vZ2xlLmNvbS9zY2hvbGFyP2NpdGVzPTU1MjE3NjM2NjU0MzY2Njg1NzUmYXNfc2R0PTIwMDUmc2Npb2R0PTAsNSZobD1lbiIsCikpCgpEQihDaXRhdGlvbigKICAgIG1hcnRpbm8yMDExYSwgbWVuZGVzMjAwNGEsIHJlZj0iIiwKICAgIGNvbnRleHRzPVsKCiAgICBdLAopKQoKJycnLCBjaXRhdGlvbnM9J21lbmRlczIwMDRhJyk7\"));\n",
       "    "
      ],
      "text/plain": [
       "<IPython.core.display.Javascript object>"
      ]
     },
     "metadata": {},
     "output_type": "display_data"
    },
    {
     "data": {
      "application/javascript": [
       "$('span:contains(\"# Temp\")').closest('.cell').remove();"
      ],
      "text/plain": [
       "<IPython.core.display.Javascript object>"
      ]
     },
     "metadata": {},
     "output_type": "display_data"
    },
    {
     "data": {
      "application/javascript": [
       "\n",
       "        $('span:contains(\"# Temp\")').closest('.cell').remove();\n",
       "        var code = IPython.notebook.insert_cell_below('code');\n",
       "        code.set_text(atob(\"IyBUZW1wCmluc2VydCgnJycKbWFydGlubzIwMTFhID0gREIoV29yaygKICAgIDIwMTEsICJVc2luZyB3ZWIgb2JqZWN0cyBmb3IgZGV2ZWxvcG1lbnQgZWZmb3J0IGVzdGltYXRpb24gb2Ygd2ViIGFwcGxpY2F0aW9uczogYSByZXBsaWNhdGVkIHN0dWR5IiwKICAgIGRpc3BsYXk9Im1hcnRpbm8iLAogICAgYXV0aG9ycz0iRGkgTWFydGlubywgU2VyZ2lvIGFuZCBGZXJydWNjaSwgRmlsb21lbmEgYW5kIEdyYXZpbm8sIENhcm1pbmUgYW5kIFNhcnJvLCBGZWRlcmljYSIsCiAgICBwcD0iMTg2LS0yMDEiLAogICAgcGxhY2UxPSJJbnRlcm5hdGlvbmFsIENvbmZlcmVuY2Ugb24gUHJvZHVjdCBGb2N1c2VkIFNvZnR3YXJlIFByb2Nlc3MgSW1wcm92ZW1lbnQiLAogICAgZW50cnl0eXBlPSJpbnByb2NlZWRpbmdzIiwKICAgIG9yZ2FuaXphdGlvbj0iU3ByaW5nZXIiLAogICAgSUQ9ImRpMjAxMXVzaW5nIiwKICAgIGNsdXN0ZXJfaWQ9IjU1MjE3NjM2NjU0MzY2Njg1NzUiLAogICAgc2Nob2xhcj0iaHR0cDovL3NjaG9sYXIuZ29vZ2xlLmNvbS9zY2hvbGFyP2NpdGVzPTU1MjE3NjM2NjU0MzY2Njg1NzUmYXNfc2R0PTIwMDUmc2Npb2R0PTAsNSZobD1lbiIsCikpCgpEQihDaXRhdGlvbigKICAgIG1hcnRpbm8yMDExYSwgbWVuZGVzMjAwNGEsIHJlZj0iIiwKICAgIGNvbnRleHRzPVsKCiAgICBdLAopKQoKJycnLCBjaXRhdGlvbnM9J21lbmRlczIwMDRhJyk7\"));\n",
       "    "
      ],
      "text/plain": [
       "<IPython.core.display.Javascript object>"
      ]
     },
     "metadata": {},
     "output_type": "display_data"
    },
    {
     "data": {
      "application/javascript": [
       "$('span:contains(\"# Temp\")').closest('.cell').remove();"
      ],
      "text/plain": [
       "<IPython.core.display.Javascript object>"
      ]
     },
     "metadata": {},
     "output_type": "display_data"
    },
    {
     "data": {
      "application/javascript": [
       "\n",
       "        $('span:contains(\"# Temp\")').closest('.cell').remove();\n",
       "        var code = IPython.notebook.insert_cell_below('code');\n",
       "        code.set_text(atob(\"IyBUZW1wCmluc2VydCgnJycKZnJhbmNlc2UyMDE1YSA9IERCKFdvcmsoCiAgICAyMDE1LCAiT24gdGhlIHVzZSBvZiByZXF1aXJlbWVudHMgbWVhc3VyZXMgdG8gcHJlZGljdCBzb2Z0d2FyZSBwcm9qZWN0IGFuZCBwcm9kdWN0IG1lYXN1cmVzIGluIHRoZSBjb250ZXh0IG9mIGFuZHJvaWQgbW9iaWxlIGFwcHM6IGEgcHJlbGltaW5hcnkgc3R1ZHkiLAogICAgZGlzcGxheT0iZnJhbmNlc2UiLAogICAgYXV0aG9ycz0iRnJhbmNlc2UsIFJpdGEgYW5kIEdyYXZpbm8sIENhcm1pbmUgYW5kIFJpc2ksIE1pY2hlbGUgYW5kIFNjYW5uaWVsbG8sIEdpdXNlcHBlIGFuZCBUb3J0b3JhLCBHZW5vdmVmZmEiLAogICAgcGxhY2U9U0VBQSwKICAgIHBwPSIzNTctLTM2NCIsCiAgICBlbnRyeXR5cGU9ImlucHJvY2VlZGluZ3MiLAogICAgb3JnYW5pemF0aW9uPSJJRUVFIiwKICAgIElEPSJmcmFuY2VzZTIwMTV1c2UiLAogICAgY2x1c3Rlcl9pZD0iMTgwNDYwOTA5ODU0NTYyNjQ5NTMiLAogICAgc2Nob2xhcj0iaHR0cDovL3NjaG9sYXIuZ29vZ2xlLmNvbS9zY2hvbGFyP2NpdGVzPTE4MDQ2MDkwOTg1NDU2MjY0OTUzJmFzX3NkdD0yMDA1JnNjaW9kdD0wLDUmaGw9ZW4iLAopKQoKREIoQ2l0YXRpb24oCiAgICBmcmFuY2VzZTIwMTVhLCBtZW5kZXMyMDA0YSwgcmVmPSIiLAogICAgY29udGV4dHM9WwoKICAgIF0sCikpCgonJycsIGNpdGF0aW9ucz0nbWVuZGVzMjAwNGEnKTs=\"));\n",
       "    "
      ],
      "text/plain": [
       "<IPython.core.display.Javascript object>"
      ]
     },
     "metadata": {},
     "output_type": "display_data"
    },
    {
     "data": {
      "application/javascript": [
       "$('span:contains(\"# Temp\")').closest('.cell').remove();"
      ],
      "text/plain": [
       "<IPython.core.display.Javascript object>"
      ]
     },
     "metadata": {},
     "output_type": "display_data"
    },
    {
     "data": {
      "application/javascript": [
       "\n",
       "        $('span:contains(\"# Temp\")').closest('.cell').remove();\n",
       "        var code = IPython.notebook.insert_cell_below('code');\n",
       "        code.set_text(atob(\"IyBUZW1wCmluc2VydCgnJycKZnJhbmNlc2UyMDE1YSA9IERCKFdvcmsoCiAgICAyMDE1LCAiT24gdGhlIHVzZSBvZiByZXF1aXJlbWVudHMgbWVhc3VyZXMgdG8gcHJlZGljdCBzb2Z0d2FyZSBwcm9qZWN0IGFuZCBwcm9kdWN0IG1lYXN1cmVzIGluIHRoZSBjb250ZXh0IG9mIGFuZHJvaWQgbW9iaWxlIGFwcHM6IGEgcHJlbGltaW5hcnkgc3R1ZHkiLAogICAgZGlzcGxheT0iZnJhbmNlc2UiLAogICAgYXV0aG9ycz0iRnJhbmNlc2UsIFJpdGEgYW5kIEdyYXZpbm8sIENhcm1pbmUgYW5kIFJpc2ksIE1pY2hlbGUgYW5kIFNjYW5uaWVsbG8sIEdpdXNlcHBlIGFuZCBUb3J0b3JhLCBHZW5vdmVmZmEiLAogICAgcGxhY2U9U0VBQSwKICAgIHBwPSIzNTctLTM2NCIsCiAgICBlbnRyeXR5cGU9ImlucHJvY2VlZGluZ3MiLAogICAgb3JnYW5pemF0aW9uPSJJRUVFIiwKICAgIElEPSJmcmFuY2VzZTIwMTV1c2UiLAogICAgY2x1c3Rlcl9pZD0iMTgwNDYwOTA5ODU0NTYyNjQ5NTMiLAogICAgc2Nob2xhcj0iaHR0cDovL3NjaG9sYXIuZ29vZ2xlLmNvbS9zY2hvbGFyP2NpdGVzPTE4MDQ2MDkwOTg1NDU2MjY0OTUzJmFzX3NkdD0yMDA1JnNjaW9kdD0wLDUmaGw9ZW4iLAopKQoKREIoQ2l0YXRpb24oCiAgICBmcmFuY2VzZTIwMTVhLCBtZW5kZXMyMDA0YSwgcmVmPSIiLAogICAgY29udGV4dHM9WwoKICAgIF0sCikpCgonJycsIGNpdGF0aW9ucz0nbWVuZGVzMjAwNGEnKTs=\"));\n",
       "    "
      ],
      "text/plain": [
       "<IPython.core.display.Javascript object>"
      ]
     },
     "metadata": {},
     "output_type": "display_data"
    },
    {
     "data": {
      "application/javascript": [
       "$('span:contains(\"# Temp\")').closest('.cell').remove();"
      ],
      "text/plain": [
       "<IPython.core.display.Javascript object>"
      ]
     },
     "metadata": {},
     "output_type": "display_data"
    },
    {
     "data": {
      "application/javascript": [
       "$('span:contains(\"# Temp\")').closest('.cell').remove();"
      ],
      "text/plain": [
       "<IPython.core.display.Javascript object>"
      ]
     },
     "metadata": {},
     "output_type": "display_data"
    },
    {
     "data": {
      "application/javascript": [
       "$('span:contains(\"# Temp\")').closest('.cell').remove();"
      ],
      "text/plain": [
       "<IPython.core.display.Javascript object>"
      ]
     },
     "metadata": {},
     "output_type": "display_data"
    },
    {
     "data": {
      "application/javascript": [
       "$('span:contains(\"# Temp\")').closest('.cell').remove();"
      ],
      "text/plain": [
       "<IPython.core.display.Javascript object>"
      ]
     },
     "metadata": {},
     "output_type": "display_data"
    },
    {
     "data": {
      "application/javascript": [
       "$('span:contains(\"# Temp\")').closest('.cell').remove();"
      ],
      "text/plain": [
       "<IPython.core.display.Javascript object>"
      ]
     },
     "metadata": {},
     "output_type": "display_data"
    },
    {
     "data": {
      "application/javascript": [
       "$('span:contains(\"# Temp\")').closest('.cell').remove();"
      ],
      "text/plain": [
       "<IPython.core.display.Javascript object>"
      ]
     },
     "metadata": {},
     "output_type": "display_data"
    },
    {
     "data": {
      "application/javascript": [
       "$('span:contains(\"# Temp\")').closest('.cell').remove();"
      ],
      "text/plain": [
       "<IPython.core.display.Javascript object>"
      ]
     },
     "metadata": {},
     "output_type": "display_data"
    },
    {
     "data": {
      "application/javascript": [
       "$('span:contains(\"# Temp\")').closest('.cell').remove();"
      ],
      "text/plain": [
       "<IPython.core.display.Javascript object>"
      ]
     },
     "metadata": {},
     "output_type": "display_data"
    },
    {
     "data": {
      "application/javascript": [
       "$('span:contains(\"# Temp\")').closest('.cell').remove();"
      ],
      "text/plain": [
       "<IPython.core.display.Javascript object>"
      ]
     },
     "metadata": {},
     "output_type": "display_data"
    },
    {
     "data": {
      "application/javascript": [
       "$('span:contains(\"# Temp\")').closest('.cell').remove();"
      ],
      "text/plain": [
       "<IPython.core.display.Javascript object>"
      ]
     },
     "metadata": {},
     "output_type": "display_data"
    },
    {
     "data": {
      "application/javascript": [
       "$('span:contains(\"# Temp\")').closest('.cell').remove();"
      ],
      "text/plain": [
       "<IPython.core.display.Javascript object>"
      ]
     },
     "metadata": {},
     "output_type": "display_data"
    },
    {
     "data": {
      "application/javascript": [
       "\n",
       "        $('span:contains(\"# Temp\")').closest('.cell').remove();\n",
       "        var code = IPython.notebook.insert_cell_below('code');\n",
       "        code.set_text(atob(\"IyBUZW1wCmluc2VydCgnJycKZnJhbmNlc2UyMDE1YSA9IERCKFdvcmsoCiAgICAyMDE1LCAiT24gdGhlIHVzZSBvZiByZXF1aXJlbWVudHMgbWVhc3VyZXMgdG8gcHJlZGljdCBzb2Z0d2FyZSBwcm9qZWN0IGFuZCBwcm9kdWN0IG1lYXN1cmVzIGluIHRoZSBjb250ZXh0IG9mIGFuZHJvaWQgbW9iaWxlIGFwcHM6IGEgcHJlbGltaW5hcnkgc3R1ZHkiLAogICAgZGlzcGxheT0iZnJhbmNlc2UiLAogICAgYXV0aG9ycz0iRnJhbmNlc2UsIFJpdGEgYW5kIEdyYXZpbm8sIENhcm1pbmUgYW5kIFJpc2ksIE1pY2hlbGUgYW5kIFNjYW5uaWVsbG8sIEdpdXNlcHBlIGFuZCBUb3J0b3JhLCBHZW5vdmVmZmEiLAogICAgcGxhY2U9U0VBQSwKICAgIHBwPSIzNTctLTM2NCIsCiAgICBlbnRyeXR5cGU9ImlucHJvY2VlZGluZ3MiLAogICAgb3JnYW5pemF0aW9uPSJJRUVFIiwKICAgIElEPSJmcmFuY2VzZTIwMTV1c2UiLAogICAgY2x1c3Rlcl9pZD0iMTgwNDYwOTA5ODU0NTYyNjQ5NTMiLAogICAgc2Nob2xhcj0iaHR0cDovL3NjaG9sYXIuZ29vZ2xlLmNvbS9zY2hvbGFyP2NpdGVzPTE4MDQ2MDkwOTg1NDU2MjY0OTUzJmFzX3NkdD0yMDA1JnNjaW9kdD0wLDUmaGw9ZW4iLAopKQoKREIoQ2l0YXRpb24oCiAgICBmcmFuY2VzZTIwMTVhLCBtZW5kZXMyMDA0YSwgcmVmPSIiLAogICAgY29udGV4dHM9WwoKICAgIF0sCikpCgonJycsIGNpdGF0aW9ucz0nbWVuZGVzMjAwNGEnKTs=\"));\n",
       "    "
      ],
      "text/plain": [
       "<IPython.core.display.Javascript object>"
      ]
     },
     "metadata": {},
     "output_type": "display_data"
    },
    {
     "data": {
      "application/javascript": [
       "$('span:contains(\"# Temp\")').closest('.cell').remove();"
      ],
      "text/plain": [
       "<IPython.core.display.Javascript object>"
      ]
     },
     "metadata": {},
     "output_type": "display_data"
    },
    {
     "data": {
      "application/javascript": [
       "\n",
       "        $('span:contains(\"# Temp\")').closest('.cell').remove();\n",
       "        var code = IPython.notebook.insert_cell_below('code');\n",
       "        code.set_text(atob(\"IyBUZW1wCmluc2VydCgnJycKZnJhbmNlc2UyMDE1YSA9IERCKFdvcmsoCiAgICAyMDE1LCAiT24gdGhlIHVzZSBvZiByZXF1aXJlbWVudHMgbWVhc3VyZXMgdG8gcHJlZGljdCBzb2Z0d2FyZSBwcm9qZWN0IGFuZCBwcm9kdWN0IG1lYXN1cmVzIGluIHRoZSBjb250ZXh0IG9mIGFuZHJvaWQgbW9iaWxlIGFwcHM6IGEgcHJlbGltaW5hcnkgc3R1ZHkiLAogICAgZGlzcGxheT0iZnJhbmNlc2UiLAogICAgYXV0aG9ycz0iRnJhbmNlc2UsIFJpdGEgYW5kIEdyYXZpbm8sIENhcm1pbmUgYW5kIFJpc2ksIE1pY2hlbGUgYW5kIFNjYW5uaWVsbG8sIEdpdXNlcHBlIGFuZCBUb3J0b3JhLCBHZW5vdmVmZmEiLAogICAgcGxhY2U9U0VBQSwKICAgIHBwPSIzNTctLTM2NCIsCiAgICBlbnRyeXR5cGU9ImlucHJvY2VlZGluZ3MiLAogICAgb3JnYW5pemF0aW9uPSJJRUVFIiwKICAgIElEPSJmcmFuY2VzZTIwMTV1c2UiLAogICAgY2x1c3Rlcl9pZD0iMTgwNDYwOTA5ODU0NTYyNjQ5NTMiLAogICAgc2Nob2xhcj0iaHR0cDovL3NjaG9sYXIuZ29vZ2xlLmNvbS9zY2hvbGFyP2NpdGVzPTE4MDQ2MDkwOTg1NDU2MjY0OTUzJmFzX3NkdD0yMDA1JnNjaW9kdD0wLDUmaGw9ZW4iLAopKQoKREIoQ2l0YXRpb24oCiAgICBmcmFuY2VzZTIwMTVhLCBtZW5kZXMyMDA0YSwgcmVmPSIiLAogICAgY29udGV4dHM9WwoKICAgIF0sCikpCgonJycsIGNpdGF0aW9ucz0nbWVuZGVzMjAwNGEnKTs=\"));\n",
       "    "
      ],
      "text/plain": [
       "<IPython.core.display.Javascript object>"
      ]
     },
     "metadata": {},
     "output_type": "display_data"
    },
    {
     "data": {
      "application/javascript": [
       "$('span:contains(\"# Temp\")').closest('.cell').remove();"
      ],
      "text/plain": [
       "<IPython.core.display.Javascript object>"
      ]
     },
     "metadata": {},
     "output_type": "display_data"
    },
    {
     "data": {
      "application/javascript": [
       "\n",
       "        $('span:contains(\"# Temp\")').closest('.cell').remove();\n",
       "        var code = IPython.notebook.insert_cell_below('code');\n",
       "        code.set_text(atob(\"IyBUZW1wCmluc2VydCgnJycKZnJhbmNlc2UyMDE1YSA9IERCKFdvcmtVbnJlbGF0ZWQoCiAgICAyMDE1LCAiT24gdGhlIHVzZSBvZiByZXF1aXJlbWVudHMgbWVhc3VyZXMgdG8gcHJlZGljdCBzb2Z0d2FyZSBwcm9qZWN0IGFuZCBwcm9kdWN0IG1lYXN1cmVzIGluIHRoZSBjb250ZXh0IG9mIGFuZHJvaWQgbW9iaWxlIGFwcHM6IGEgcHJlbGltaW5hcnkgc3R1ZHkiLAogICAgZGlzcGxheT0iZnJhbmNlc2UiLAogICAgYXV0aG9ycz0iRnJhbmNlc2UsIFJpdGEgYW5kIEdyYXZpbm8sIENhcm1pbmUgYW5kIFJpc2ksIE1pY2hlbGUgYW5kIFNjYW5uaWVsbG8sIEdpdXNlcHBlIGFuZCBUb3J0b3JhLCBHZW5vdmVmZmEiLAogICAgcGxhY2U9U0VBQSwKICAgIHBwPSIzNTctLTM2NCIsCiAgICBlbnRyeXR5cGU9ImlucHJvY2VlZGluZ3MiLAogICAgb3JnYW5pemF0aW9uPSJJRUVFIiwKICAgIElEPSJmcmFuY2VzZTIwMTV1c2UiLAogICAgY2x1c3Rlcl9pZD0iMTgwNDYwOTA5ODU0NTYyNjQ5NTMiLAogICAgc2Nob2xhcj0iaHR0cDovL3NjaG9sYXIuZ29vZ2xlLmNvbS9zY2hvbGFyP2NpdGVzPTE4MDQ2MDkwOTg1NDU2MjY0OTUzJmFzX3NkdD0yMDA1JnNjaW9kdD0wLDUmaGw9ZW4iLAopKQoKREIoQ2l0YXRpb24oCiAgICBmcmFuY2VzZTIwMTVhLCBtZW5kZXMyMDA0YSwgcmVmPSIiLAogICAgY29udGV4dHM9WwoKICAgIF0sCikpCgonJycsIGNpdGF0aW9ucz0nbWVuZGVzMjAwNGEnKTs=\"));\n",
       "    "
      ],
      "text/plain": [
       "<IPython.core.display.Javascript object>"
      ]
     },
     "metadata": {},
     "output_type": "display_data"
    },
    {
     "data": {
      "application/javascript": [
       "$('span:contains(\"# Temp\")').closest('.cell').remove();"
      ],
      "text/plain": [
       "<IPython.core.display.Javascript object>"
      ]
     },
     "metadata": {},
     "output_type": "display_data"
    },
    {
     "data": {
      "application/javascript": [
       "\n",
       "        $('span:contains(\"# Temp\")').closest('.cell').remove();\n",
       "        var code = IPython.notebook.insert_cell_below('code');\n",
       "        code.set_text(atob(\"IyBUZW1wCmluc2VydCgnJycKbWFydGlubzIwMTFhID0gREIoV29ya1VucmVsYXRlZCgKICAgIDIwMTEsICJVc2luZyB3ZWIgb2JqZWN0cyBmb3IgZGV2ZWxvcG1lbnQgZWZmb3J0IGVzdGltYXRpb24gb2Ygd2ViIGFwcGxpY2F0aW9uczogYSByZXBsaWNhdGVkIHN0dWR5IiwKICAgIGRpc3BsYXk9Im1hcnRpbm8iLAogICAgYXV0aG9ycz0iRGkgTWFydGlubywgU2VyZ2lvIGFuZCBGZXJydWNjaSwgRmlsb21lbmEgYW5kIEdyYXZpbm8sIENhcm1pbmUgYW5kIFNhcnJvLCBGZWRlcmljYSIsCiAgICBwcD0iMTg2LS0yMDEiLAogICAgcGxhY2UxPSJJbnRlcm5hdGlvbmFsIENvbmZlcmVuY2Ugb24gUHJvZHVjdCBGb2N1c2VkIFNvZnR3YXJlIFByb2Nlc3MgSW1wcm92ZW1lbnQiLAogICAgZW50cnl0eXBlPSJpbnByb2NlZWRpbmdzIiwKICAgIG9yZ2FuaXphdGlvbj0iU3ByaW5nZXIiLAogICAgSUQ9ImRpMjAxMXVzaW5nIiwKICAgIGNsdXN0ZXJfaWQ9IjU1MjE3NjM2NjU0MzY2Njg1NzUiLAogICAgc2Nob2xhcj0iaHR0cDovL3NjaG9sYXIuZ29vZ2xlLmNvbS9zY2hvbGFyP2NpdGVzPTU1MjE3NjM2NjU0MzY2Njg1NzUmYXNfc2R0PTIwMDUmc2Npb2R0PTAsNSZobD1lbiIsCikpCgpEQihDaXRhdGlvbigKICAgIG1hcnRpbm8yMDExYSwgbWVuZGVzMjAwNGEsIHJlZj0iIiwKICAgIGNvbnRleHRzPVsKCiAgICBdLAopKQoKJycnLCBjaXRhdGlvbnM9J21lbmRlczIwMDRhJyk7\"));\n",
       "    "
      ],
      "text/plain": [
       "<IPython.core.display.Javascript object>"
      ]
     },
     "metadata": {},
     "output_type": "display_data"
    },
    {
     "data": {
      "application/javascript": [
       "$('span:contains(\"# Temp\")').closest('.cell').remove();"
      ],
      "text/plain": [
       "<IPython.core.display.Javascript object>"
      ]
     },
     "metadata": {},
     "output_type": "display_data"
    },
    {
     "data": {
      "application/javascript": [
       "\n",
       "        $('span:contains(\"# Temp\")').closest('.cell').remove();\n",
       "        var code = IPython.notebook.insert_cell_below('code');\n",
       "        code.set_text(atob(\"IyBUZW1wCmluc2VydCgnJycKbWFydGlubzIwMTFhID0gREIoV29yaygKICAgIDIwMTEsICJVc2luZyB3ZWIgb2JqZWN0cyBmb3IgZGV2ZWxvcG1lbnQgZWZmb3J0IGVzdGltYXRpb24gb2Ygd2ViIGFwcGxpY2F0aW9uczogYSByZXBsaWNhdGVkIHN0dWR5IiwKICAgIGRpc3BsYXk9Im1hcnRpbm8iLAogICAgYXV0aG9ycz0iRGkgTWFydGlubywgU2VyZ2lvIGFuZCBGZXJydWNjaSwgRmlsb21lbmEgYW5kIEdyYXZpbm8sIENhcm1pbmUgYW5kIFNhcnJvLCBGZWRlcmljYSIsCiAgICBwcD0iMTg2LS0yMDEiLAogICAgcGxhY2UxPSJJbnRlcm5hdGlvbmFsIENvbmZlcmVuY2Ugb24gUHJvZHVjdCBGb2N1c2VkIFNvZnR3YXJlIFByb2Nlc3MgSW1wcm92ZW1lbnQiLAogICAgZW50cnl0eXBlPSJpbnByb2NlZWRpbmdzIiwKICAgIG9yZ2FuaXphdGlvbj0iU3ByaW5nZXIiLAogICAgSUQ9ImRpMjAxMXVzaW5nIiwKICAgIGNsdXN0ZXJfaWQ9IjU1MjE3NjM2NjU0MzY2Njg1NzUiLAogICAgc2Nob2xhcj0iaHR0cDovL3NjaG9sYXIuZ29vZ2xlLmNvbS9zY2hvbGFyP2NpdGVzPTU1MjE3NjM2NjU0MzY2Njg1NzUmYXNfc2R0PTIwMDUmc2Npb2R0PTAsNSZobD1lbiIsCikpCgpEQihDaXRhdGlvbigKICAgIG1hcnRpbm8yMDExYSwgbWVuZGVzMjAwNGEsIHJlZj0iIiwKICAgIGNvbnRleHRzPVsKCiAgICBdLAopKQoKJycnLCBjaXRhdGlvbnM9J21lbmRlczIwMDRhJyk7\"));\n",
       "    "
      ],
      "text/plain": [
       "<IPython.core.display.Javascript object>"
      ]
     },
     "metadata": {},
     "output_type": "display_data"
    },
    {
     "data": {
      "application/javascript": [
       "$('span:contains(\"# Temp\")').closest('.cell').remove();"
      ],
      "text/plain": [
       "<IPython.core.display.Javascript object>"
      ]
     },
     "metadata": {},
     "output_type": "display_data"
    },
    {
     "data": {
      "application/javascript": [
       "\n",
       "        $('span:contains(\"# Temp\")').closest('.cell').remove();\n",
       "        var code = IPython.notebook.insert_cell_below('code');\n",
       "        code.set_text(atob(\"IyBUZW1wCmluc2VydCgnJycKbWFydGlubzIwMTFhID0gREIoV29ya1VucmVsYXRlZCgKICAgIDIwMTEsICJVc2luZyB3ZWIgb2JqZWN0cyBmb3IgZGV2ZWxvcG1lbnQgZWZmb3J0IGVzdGltYXRpb24gb2Ygd2ViIGFwcGxpY2F0aW9uczogYSByZXBsaWNhdGVkIHN0dWR5IiwKICAgIGRpc3BsYXk9Im1hcnRpbm8iLAogICAgYXV0aG9ycz0iRGkgTWFydGlubywgU2VyZ2lvIGFuZCBGZXJydWNjaSwgRmlsb21lbmEgYW5kIEdyYXZpbm8sIENhcm1pbmUgYW5kIFNhcnJvLCBGZWRlcmljYSIsCiAgICBwcD0iMTg2LS0yMDEiLAogICAgcGxhY2UxPSJJbnRlcm5hdGlvbmFsIENvbmZlcmVuY2Ugb24gUHJvZHVjdCBGb2N1c2VkIFNvZnR3YXJlIFByb2Nlc3MgSW1wcm92ZW1lbnQiLAogICAgZW50cnl0eXBlPSJpbnByb2NlZWRpbmdzIiwKICAgIG9yZ2FuaXphdGlvbj0iU3ByaW5nZXIiLAogICAgSUQ9ImRpMjAxMXVzaW5nIiwKICAgIGNsdXN0ZXJfaWQ9IjU1MjE3NjM2NjU0MzY2Njg1NzUiLAogICAgc2Nob2xhcj0iaHR0cDovL3NjaG9sYXIuZ29vZ2xlLmNvbS9zY2hvbGFyP2NpdGVzPTU1MjE3NjM2NjU0MzY2Njg1NzUmYXNfc2R0PTIwMDUmc2Npb2R0PTAsNSZobD1lbiIsCikpCgpEQihDaXRhdGlvbigKICAgIG1hcnRpbm8yMDExYSwgbWVuZGVzMjAwNGEsIHJlZj0iIiwKICAgIGNvbnRleHRzPVsKCiAgICBdLAopKQoKJycnLCBjaXRhdGlvbnM9J21lbmRlczIwMDRhJyk7\"));\n",
       "    "
      ],
      "text/plain": [
       "<IPython.core.display.Javascript object>"
      ]
     },
     "metadata": {},
     "output_type": "display_data"
    },
    {
     "data": {
      "application/javascript": [
       "$('span:contains(\"# Temp\")').closest('.cell').remove();"
      ],
      "text/plain": [
       "<IPython.core.display.Javascript object>"
      ]
     },
     "metadata": {},
     "output_type": "display_data"
    },
    {
     "data": {
      "application/javascript": [
       "\n",
       "        $('span:contains(\"# Temp\")').closest('.cell').remove();\n",
       "        var code = IPython.notebook.insert_cell_below('code');\n",
       "        code.set_text(atob(\"IyBUZW1wCmluc2VydCgnJycKbWFydGlubzIwMTFhID0gREIoV29ya1VucmVsYXRlZCgKICAgIDIwMTEsICJVc2luZyB3ZWIgb2JqZWN0cyBmb3IgZGV2ZWxvcG1lbnQgZWZmb3J0IGVzdGltYXRpb24gb2Ygd2ViIGFwcGxpY2F0aW9uczogYSByZXBsaWNhdGVkIHN0dWR5IiwKICAgIGRpc3BsYXk9Im1hcnRpbm8iLAogICAgYXV0aG9ycz0iRGkgTWFydGlubywgU2VyZ2lvIGFuZCBGZXJydWNjaSwgRmlsb21lbmEgYW5kIEdyYXZpbm8sIENhcm1pbmUgYW5kIFNhcnJvLCBGZWRlcmljYSIsCiAgICBwbGFjZT1JQ1BGU1BJLAogICAgcHA9IjE4Ni0tMjAxIiwKICAgIGVudHJ5dHlwZT0iaW5wcm9jZWVkaW5ncyIsCiAgICBvcmdhbml6YXRpb249IlNwcmluZ2VyIiwKICAgIElEPSJkaTIwMTF1c2luZyIsCiAgICBjbHVzdGVyX2lkPSI1NTIxNzYzNjY1NDM2NjY4NTc1IiwKICAgIHNjaG9sYXI9Imh0dHA6Ly9zY2hvbGFyLmdvb2dsZS5jb20vc2Nob2xhcj9jaXRlcz01NTIxNzYzNjY1NDM2NjY4NTc1JmFzX3NkdD0yMDA1JnNjaW9kdD0wLDUmaGw9ZW4iLAopKQoKREIoQ2l0YXRpb24oCiAgICBtYXJ0aW5vMjAxMWEsIG1lbmRlczIwMDRhLCByZWY9IiIsCiAgICBjb250ZXh0cz1bCgogICAgXSwKKSkKCicnJywgY2l0YXRpb25zPSdtZW5kZXMyMDA0YScpOw==\"));\n",
       "    "
      ],
      "text/plain": [
       "<IPython.core.display.Javascript object>"
      ]
     },
     "metadata": {},
     "output_type": "display_data"
    },
    {
     "data": {
      "application/javascript": [
       "$('span:contains(\"# Temp\")').closest('.cell').remove();"
      ],
      "text/plain": [
       "<IPython.core.display.Javascript object>"
      ]
     },
     "metadata": {},
     "output_type": "display_data"
    },
    {
     "data": {
      "application/javascript": [
       "\n",
       "        $('span:contains(\"# Temp\")').closest('.cell').remove();\n",
       "        var code = IPython.notebook.insert_cell_below('code');\n",
       "        code.set_text(atob(\"IyBUZW1wCmluc2VydCgnJycKbWF0b3MyMDEzYSA9IERCKFdvcmtVbnJlbGF0ZWQoCiAgICAyMDEzLCAiUmVhbGlzaW5nIHdlYiBlZmZvcnQgZXN0aW1hdGlvbjogYSBxdWFsaXRhdGl2ZSBpbnZlc3RpZ2F0aW9uIiwKICAgIGRpc3BsYXk9Im1hdG9zIiwKICAgIGF1dGhvcnM9Ik1hdG9zLCBPbGF2byBhbmQgRm9ydGFsZXphLCBMdWl6IGFuZCBDb250ZSwgVGF5YW5hIGFuZCBNZW5kZXMsIEVtaWxpYSIsCiAgICBwbGFjZT1FQVNFLAogICAgcHA9IjEyLS0yMyIsCiAgICBlbnRyeXR5cGU9ImlucHJvY2VlZGluZ3MiLAogICAgb3JnYW5pemF0aW9uPSJBQ00iLAogICAgSUQ9Im1hdG9zMjAxM3JlYWxpc2luZyIsCiAgICBjbHVzdGVyX2lkPSIxMzQ2ODE4ODA4OTc3MzY1NTY5MyIsCiAgICBzY2hvbGFyPSJodHRwOi8vc2Nob2xhci5nb29nbGUuY29tL3NjaG9sYXI/Y2l0ZXM9MTM0NjgxODgwODk3NzM2NTU2OTMmYXNfc2R0PTIwMDUmc2Npb2R0PTAsNSZobD1lbiIsCikpCgpEQihDaXRhdGlvbigKICAgIG1hdG9zMjAxM2EsIG1lbmRlczIwMDRhLCByZWY9IiIsCiAgICBjb250ZXh0cz1bCgogICAgXSwKKSkKCicnJywgY2l0YXRpb25zPSdtZW5kZXMyMDA0YScpOw==\"));\n",
       "    "
      ],
      "text/plain": [
       "<IPython.core.display.Javascript object>"
      ]
     },
     "metadata": {},
     "output_type": "display_data"
    },
    {
     "data": {
      "application/javascript": [
       "$('span:contains(\"# Temp\")').closest('.cell').remove();"
      ],
      "text/plain": [
       "<IPython.core.display.Javascript object>"
      ]
     },
     "metadata": {},
     "output_type": "display_data"
    },
    {
     "data": {
      "application/javascript": [
       "\n",
       "        $('span:contains(\"# Temp\")').closest('.cell').remove();\n",
       "        var code = IPython.notebook.insert_cell_below('code');\n",
       "        code.set_text(atob(\"IyBUZW1wCmluc2VydCgnJycKbWF0b3MyMDEzYSA9IERCKFdvcmsoCiAgICAyMDEzLCAiUmVhbGlzaW5nIHdlYiBlZmZvcnQgZXN0aW1hdGlvbjogYSBxdWFsaXRhdGl2ZSBpbnZlc3RpZ2F0aW9uIiwKICAgIGRpc3BsYXk9Im1hdG9zIiwKICAgIGF1dGhvcnM9Ik1hdG9zLCBPbGF2byBhbmQgRm9ydGFsZXphLCBMdWl6IGFuZCBDb250ZSwgVGF5YW5hIGFuZCBNZW5kZXMsIEVtaWxpYSIsCiAgICBwbGFjZT1FQVNFLAogICAgcHA9IjEyLS0yMyIsCiAgICBlbnRyeXR5cGU9ImlucHJvY2VlZGluZ3MiLAogICAgb3JnYW5pemF0aW9uPSJBQ00iLAogICAgSUQ9Im1hdG9zMjAxM3JlYWxpc2luZyIsCiAgICBjbHVzdGVyX2lkPSIxMzQ2ODE4ODA4OTc3MzY1NTY5MyIsCiAgICBzY2hvbGFyPSJodHRwOi8vc2Nob2xhci5nb29nbGUuY29tL3NjaG9sYXI/Y2l0ZXM9MTM0NjgxODgwODk3NzM2NTU2OTMmYXNfc2R0PTIwMDUmc2Npb2R0PTAsNSZobD1lbiIsCikpCgpEQihDaXRhdGlvbigKICAgIG1hdG9zMjAxM2EsIG1lbmRlczIwMDRhLCByZWY9IiIsCiAgICBjb250ZXh0cz1bCgogICAgXSwKKSkKCicnJywgY2l0YXRpb25zPSdtZW5kZXMyMDA0YScpOw==\"));\n",
       "    "
      ],
      "text/plain": [
       "<IPython.core.display.Javascript object>"
      ]
     },
     "metadata": {},
     "output_type": "display_data"
    },
    {
     "data": {
      "application/javascript": [
       "$('span:contains(\"# Temp\")').closest('.cell').remove();"
      ],
      "text/plain": [
       "<IPython.core.display.Javascript object>"
      ]
     },
     "metadata": {},
     "output_type": "display_data"
    },
    {
     "data": {
      "application/javascript": [
       "\n",
       "        $('span:contains(\"# Temp\")').closest('.cell').remove();\n",
       "        var code = IPython.notebook.insert_cell_below('code');\n",
       "        code.set_text(atob(\"IyBUZW1wCmluc2VydCgnJycKbWF0b3MyMDEzYSA9IERCKFdvcmtVbnJlbGF0ZWQoCiAgICAyMDEzLCAiUmVhbGlzaW5nIHdlYiBlZmZvcnQgZXN0aW1hdGlvbjogYSBxdWFsaXRhdGl2ZSBpbnZlc3RpZ2F0aW9uIiwKICAgIGRpc3BsYXk9Im1hdG9zIiwKICAgIGF1dGhvcnM9Ik1hdG9zLCBPbGF2byBhbmQgRm9ydGFsZXphLCBMdWl6IGFuZCBDb250ZSwgVGF5YW5hIGFuZCBNZW5kZXMsIEVtaWxpYSIsCiAgICBwbGFjZT1FQVNFLAogICAgcHA9IjEyLS0yMyIsCiAgICBlbnRyeXR5cGU9ImlucHJvY2VlZGluZ3MiLAogICAgb3JnYW5pemF0aW9uPSJBQ00iLAogICAgSUQ9Im1hdG9zMjAxM3JlYWxpc2luZyIsCiAgICBjbHVzdGVyX2lkPSIxMzQ2ODE4ODA4OTc3MzY1NTY5MyIsCiAgICBzY2hvbGFyPSJodHRwOi8vc2Nob2xhci5nb29nbGUuY29tL3NjaG9sYXI/Y2l0ZXM9MTM0NjgxODgwODk3NzM2NTU2OTMmYXNfc2R0PTIwMDUmc2Npb2R0PTAsNSZobD1lbiIsCikpCgpEQihDaXRhdGlvbigKICAgIG1hdG9zMjAxM2EsIG1lbmRlczIwMDRhLCByZWY9IiIsCiAgICBjb250ZXh0cz1bCgogICAgXSwKKSkKCicnJywgY2l0YXRpb25zPSdtZW5kZXMyMDA0YScpOw==\"));\n",
       "    "
      ],
      "text/plain": [
       "<IPython.core.display.Javascript object>"
      ]
     },
     "metadata": {},
     "output_type": "display_data"
    },
    {
     "data": {
      "application/javascript": [
       "$('span:contains(\"# Temp\")').closest('.cell').remove();"
      ],
      "text/plain": [
       "<IPython.core.display.Javascript object>"
      ]
     },
     "metadata": {},
     "output_type": "display_data"
    },
    {
     "data": {
      "application/javascript": [
       "\n",
       "        $('span:contains(\"# Temp\")').closest('.cell').remove();\n",
       "        var code = IPython.notebook.insert_cell_below('code');\n",
       "        code.set_text(atob(\"IyBUZW1wCmluc2VydCgnJycKbWFydGlubzIwMTZhID0gREIoV29ya1VucmVsYXRlZCgKICAgIDIwMTYsICJXZWIgZWZmb3J0IGVzdGltYXRpb246IGZ1bmN0aW9uIHBvaW50IGFuYWx5c2lzIHZzLiBDT1NNSUMiLAogICAgZGlzcGxheT0ibWFydGlubyIsCiAgICBhdXRob3JzPSJEaSBNYXJ0aW5vLCBTZXJnaW8gYW5kIEZlcnJ1Y2NpLCBGaWxvbWVuYSBhbmQgR3JhdmlubywgQ2FybWluZSBhbmQgU2Fycm8sIEZlZGVyaWNhIiwKICAgIHBsYWNlPUlTVCwKICAgIHBwPSI5MC0tMTA5IiwKICAgIGVudHJ5dHlwZT0iYXJ0aWNsZSIsCiAgICB2b2x1bWU9IjcyIiwKICAgIHB1Ymxpc2hlcj0iRWxzZXZpZXIiLAogICAgSUQ9ImRpMjAxNndlYiIsCiAgICBjbHVzdGVyX2lkPSIxNDI3NzY2MzAxMTUwNDA2MzAwNyIsCiAgICBzY2hvbGFyPSJodHRwOi8vc2Nob2xhci5nb29nbGUuY29tL3NjaG9sYXI/Y2l0ZXM9MTQyNzc2NjMwMTE1MDQwNjMwMDcmYXNfc2R0PTIwMDUmc2Npb2R0PTAsNSZobD1lbiIsCikpCgpEQihDaXRhdGlvbigKICAgIG1hcnRpbm8yMDE2YSwgbWVuZGVzMjAwNGEsIHJlZj0iIiwKICAgIGNvbnRleHRzPVsKCiAgICBdLAopKQoKJycnLCBjaXRhdGlvbnM9J21lbmRlczIwMDRhJyk7\"));\n",
       "    "
      ],
      "text/plain": [
       "<IPython.core.display.Javascript object>"
      ]
     },
     "metadata": {},
     "output_type": "display_data"
    },
    {
     "data": {
      "application/javascript": [
       "$('span:contains(\"# Temp\")').closest('.cell').remove();"
      ],
      "text/plain": [
       "<IPython.core.display.Javascript object>"
      ]
     },
     "metadata": {},
     "output_type": "display_data"
    },
    {
     "data": {
      "application/javascript": [
       "\n",
       "        $('span:contains(\"# Temp\")').closest('.cell').remove();\n",
       "        var code = IPython.notebook.insert_cell_below('code');\n",
       "        code.set_text(atob(\"IyBUZW1wCmluc2VydCgnJycKbWFydGlubzIwMTZhID0gREIoV29yaygKICAgIDIwMTYsICJXZWIgZWZmb3J0IGVzdGltYXRpb246IGZ1bmN0aW9uIHBvaW50IGFuYWx5c2lzIHZzLiBDT1NNSUMiLAogICAgZGlzcGxheT0ibWFydGlubyIsCiAgICBhdXRob3JzPSJEaSBNYXJ0aW5vLCBTZXJnaW8gYW5kIEZlcnJ1Y2NpLCBGaWxvbWVuYSBhbmQgR3JhdmlubywgQ2FybWluZSBhbmQgU2Fycm8sIEZlZGVyaWNhIiwKICAgIHBsYWNlPUlTVCwKICAgIHBwPSI5MC0tMTA5IiwKICAgIGVudHJ5dHlwZT0iYXJ0aWNsZSIsCiAgICB2b2x1bWU9IjcyIiwKICAgIHB1Ymxpc2hlcj0iRWxzZXZpZXIiLAogICAgSUQ9ImRpMjAxNndlYiIsCiAgICBjbHVzdGVyX2lkPSIxNDI3NzY2MzAxMTUwNDA2MzAwNyIsCiAgICBzY2hvbGFyPSJodHRwOi8vc2Nob2xhci5nb29nbGUuY29tL3NjaG9sYXI/Y2l0ZXM9MTQyNzc2NjMwMTE1MDQwNjMwMDcmYXNfc2R0PTIwMDUmc2Npb2R0PTAsNSZobD1lbiIsCikpCgpEQihDaXRhdGlvbigKICAgIG1hcnRpbm8yMDE2YSwgbWVuZGVzMjAwNGEsIHJlZj0iIiwKICAgIGNvbnRleHRzPVsKCiAgICBdLAopKQoKJycnLCBjaXRhdGlvbnM9J21lbmRlczIwMDRhJyk7\"));\n",
       "    "
      ],
      "text/plain": [
       "<IPython.core.display.Javascript object>"
      ]
     },
     "metadata": {},
     "output_type": "display_data"
    },
    {
     "data": {
      "application/javascript": [
       "$('span:contains(\"# Temp\")').closest('.cell').remove();"
      ],
      "text/plain": [
       "<IPython.core.display.Javascript object>"
      ]
     },
     "metadata": {},
     "output_type": "display_data"
    },
    {
     "data": {
      "application/javascript": [
       "\n",
       "        $('span:contains(\"# Temp\")').closest('.cell').remove();\n",
       "        var code = IPython.notebook.insert_cell_below('code');\n",
       "        code.set_text(atob(\"IyBUZW1wCmluc2VydCgnJycKbWFydGlubzIwMTZhID0gREIoV29ya1VucmVsYXRlZCgKICAgIDIwMTYsICJXZWIgZWZmb3J0IGVzdGltYXRpb246IGZ1bmN0aW9uIHBvaW50IGFuYWx5c2lzIHZzLiBDT1NNSUMiLAogICAgZGlzcGxheT0ibWFydGlubyIsCiAgICBhdXRob3JzPSJEaSBNYXJ0aW5vLCBTZXJnaW8gYW5kIEZlcnJ1Y2NpLCBGaWxvbWVuYSBhbmQgR3JhdmlubywgQ2FybWluZSBhbmQgU2Fycm8sIEZlZGVyaWNhIiwKICAgIHBsYWNlPUlTVCwKICAgIHBwPSI5MC0tMTA5IiwKICAgIGVudHJ5dHlwZT0iYXJ0aWNsZSIsCiAgICB2b2x1bWU9IjcyIiwKICAgIHB1Ymxpc2hlcj0iRWxzZXZpZXIiLAogICAgSUQ9ImRpMjAxNndlYiIsCiAgICBjbHVzdGVyX2lkPSIxNDI3NzY2MzAxMTUwNDA2MzAwNyIsCiAgICBzY2hvbGFyPSJodHRwOi8vc2Nob2xhci5nb29nbGUuY29tL3NjaG9sYXI/Y2l0ZXM9MTQyNzc2NjMwMTE1MDQwNjMwMDcmYXNfc2R0PTIwMDUmc2Npb2R0PTAsNSZobD1lbiIsCikpCgpEQihDaXRhdGlvbigKICAgIG1hcnRpbm8yMDE2YSwgbWVuZGVzMjAwNGEsIHJlZj0iIiwKICAgIGNvbnRleHRzPVsKCiAgICBdLAopKQoKJycnLCBjaXRhdGlvbnM9J21lbmRlczIwMDRhJyk7\"));\n",
       "    "
      ],
      "text/plain": [
       "<IPython.core.display.Javascript object>"
      ]
     },
     "metadata": {},
     "output_type": "display_data"
    },
    {
     "data": {
      "application/javascript": [
       "$('span:contains(\"# Temp\")').closest('.cell').remove();"
      ],
      "text/plain": [
       "<IPython.core.display.Javascript object>"
      ]
     },
     "metadata": {},
     "output_type": "display_data"
    },
    {
     "data": {
      "application/javascript": [
       "\n",
       "        $('span:contains(\"# Temp\")').closest('.cell').remove();\n",
       "        var code = IPython.notebook.insert_cell_below('code');\n",
       "        code.set_text(atob(\"IyBUZW1wCmluc2VydCgnJycKbWFyY28yMDEyYSA9IERCKFdvcmtVbnJlbGF0ZWQoCiAgICAyMDEyLCAiRnVuY3Rpb25hbCB2ZXJzdXMgZGVzaWduIG1lYXN1cmVzIGZvciBtb2RlbC1kcml2ZW4gV2ViIGFwcGxpY2F0aW9uczogQSBjYXNlIHN0dWR5IGluIHRoZSBjb250ZXh0IG9mIFdlYiBlZmZvcnQgZXN0aW1hdGlvbiIsCiAgICBkaXNwbGF5PSJtYXJjbyIsCiAgICBhdXRob3JzPSJEZSBNYXJjbywgTHVjaWEgYW5kIEZlcnJ1Y2NpLCBGaWxvbWVuYSBhbmQgR3JhdmlubywgQ2FybWluZSBhbmQgU2Fycm8sIEZlZGVyaWNhIGFuZCBBYnJhaGFvLCBTaWx2aWEgYW5kIEdvbWV6LCBKYWltZSIsCiAgICBwcD0iMjEtLTI3IiwKICAgIHBsYWNlMT0iUHJvY2VlZGluZ3Mgb2YgdGhlIDNyZCBJbnRlcm5hdGlvbmFsIFdvcmtzaG9wIG9uIEVtZXJnaW5nIFRyZW5kcyBpbiBTb2Z0d2FyZSBNZXRyaWNzIiwKICAgIGVudHJ5dHlwZT0iaW5wcm9jZWVkaW5ncyIsCiAgICBvcmdhbml6YXRpb249IklFRUUgUHJlc3MiLAogICAgSUQ9ImRlMjAxMmZ1bmN0aW9uYWwiLAogICAgY2x1c3Rlcl9pZD0iMjQyMzYzMjU5OTQwMjg2MDg2MSIsCiAgICBzY2hvbGFyPSJodHRwOi8vc2Nob2xhci5nb29nbGUuY29tL3NjaG9sYXI/Y2l0ZXM9MjQyMzYzMjU5OTQwMjg2MDg2MSZhc19zZHQ9MjAwNSZzY2lvZHQ9MCw1JmhsPWVuIiwKKSkKCkRCKENpdGF0aW9uKAogICAgbWFyY28yMDEyYSwgbWVuZGVzMjAwNGEsIHJlZj0iIiwKICAgIGNvbnRleHRzPVsKCiAgICBdLAopKQoKJycnLCBjaXRhdGlvbnM9J21lbmRlczIwMDRhJyk7\"));\n",
       "    "
      ],
      "text/plain": [
       "<IPython.core.display.Javascript object>"
      ]
     },
     "metadata": {},
     "output_type": "display_data"
    },
    {
     "data": {
      "application/javascript": [
       "$('span:contains(\"# Temp\")').closest('.cell').remove();"
      ],
      "text/plain": [
       "<IPython.core.display.Javascript object>"
      ]
     },
     "metadata": {},
     "output_type": "display_data"
    },
    {
     "data": {
      "application/javascript": [
       "\n",
       "        $('span:contains(\"# Temp\")').closest('.cell').remove();\n",
       "        var code = IPython.notebook.insert_cell_below('code');\n",
       "        code.set_text(atob(\"IyBUZW1wCmluc2VydCgnJycKbWFyY28yMDEyYSA9IERCKFdvcmsoCiAgICAyMDEyLCAiRnVuY3Rpb25hbCB2ZXJzdXMgZGVzaWduIG1lYXN1cmVzIGZvciBtb2RlbC1kcml2ZW4gV2ViIGFwcGxpY2F0aW9uczogQSBjYXNlIHN0dWR5IGluIHRoZSBjb250ZXh0IG9mIFdlYiBlZmZvcnQgZXN0aW1hdGlvbiIsCiAgICBkaXNwbGF5PSJtYXJjbyIsCiAgICBhdXRob3JzPSJEZSBNYXJjbywgTHVjaWEgYW5kIEZlcnJ1Y2NpLCBGaWxvbWVuYSBhbmQgR3JhdmlubywgQ2FybWluZSBhbmQgU2Fycm8sIEZlZGVyaWNhIGFuZCBBYnJhaGFvLCBTaWx2aWEgYW5kIEdvbWV6LCBKYWltZSIsCiAgICBwcD0iMjEtLTI3IiwKICAgIHBsYWNlMT0iUHJvY2VlZGluZ3Mgb2YgdGhlIDNyZCBJbnRlcm5hdGlvbmFsIFdvcmtzaG9wIG9uIEVtZXJnaW5nIFRyZW5kcyBpbiBTb2Z0d2FyZSBNZXRyaWNzIiwKICAgIGVudHJ5dHlwZT0iaW5wcm9jZWVkaW5ncyIsCiAgICBvcmdhbml6YXRpb249IklFRUUgUHJlc3MiLAogICAgSUQ9ImRlMjAxMmZ1bmN0aW9uYWwiLAogICAgY2x1c3Rlcl9pZD0iMjQyMzYzMjU5OTQwMjg2MDg2MSIsCiAgICBzY2hvbGFyPSJodHRwOi8vc2Nob2xhci5nb29nbGUuY29tL3NjaG9sYXI/Y2l0ZXM9MjQyMzYzMjU5OTQwMjg2MDg2MSZhc19zZHQ9MjAwNSZzY2lvZHQ9MCw1JmhsPWVuIiwKKSkKCkRCKENpdGF0aW9uKAogICAgbWFyY28yMDEyYSwgbWVuZGVzMjAwNGEsIHJlZj0iIiwKICAgIGNvbnRleHRzPVsKCiAgICBdLAopKQoKJycnLCBjaXRhdGlvbnM9J21lbmRlczIwMDRhJyk7\"));\n",
       "    "
      ],
      "text/plain": [
       "<IPython.core.display.Javascript object>"
      ]
     },
     "metadata": {},
     "output_type": "display_data"
    },
    {
     "data": {
      "application/javascript": [
       "$('span:contains(\"# Temp\")').closest('.cell').remove();"
      ],
      "text/plain": [
       "<IPython.core.display.Javascript object>"
      ]
     },
     "metadata": {},
     "output_type": "display_data"
    },
    {
     "data": {
      "application/javascript": [
       "\n",
       "        $('span:contains(\"# Temp\")').closest('.cell').remove();\n",
       "        var code = IPython.notebook.insert_cell_below('code');\n",
       "        code.set_text(atob(\"IyBUZW1wCmluc2VydCgnJycKbWFyY28yMDEyYSA9IERCKFdvcmtVbnJlbGF0ZWQoCiAgICAyMDEyLCAiRnVuY3Rpb25hbCB2ZXJzdXMgZGVzaWduIG1lYXN1cmVzIGZvciBtb2RlbC1kcml2ZW4gV2ViIGFwcGxpY2F0aW9uczogQSBjYXNlIHN0dWR5IGluIHRoZSBjb250ZXh0IG9mIFdlYiBlZmZvcnQgZXN0aW1hdGlvbiIsCiAgICBkaXNwbGF5PSJtYXJjbyIsCiAgICBhdXRob3JzPSJEZSBNYXJjbywgTHVjaWEgYW5kIEZlcnJ1Y2NpLCBGaWxvbWVuYSBhbmQgR3JhdmlubywgQ2FybWluZSBhbmQgU2Fycm8sIEZlZGVyaWNhIGFuZCBBYnJhaGFvLCBTaWx2aWEgYW5kIEdvbWV6LCBKYWltZSIsCiAgICBwcD0iMjEtLTI3IiwKICAgIHBsYWNlMT0iUHJvY2VlZGluZ3Mgb2YgdGhlIDNyZCBJbnRlcm5hdGlvbmFsIFdvcmtzaG9wIG9uIEVtZXJnaW5nIFRyZW5kcyBpbiBTb2Z0d2FyZSBNZXRyaWNzIiwKICAgIGVudHJ5dHlwZT0iaW5wcm9jZWVkaW5ncyIsCiAgICBvcmdhbml6YXRpb249IklFRUUgUHJlc3MiLAogICAgSUQ9ImRlMjAxMmZ1bmN0aW9uYWwiLAogICAgY2x1c3Rlcl9pZD0iMjQyMzYzMjU5OTQwMjg2MDg2MSIsCiAgICBzY2hvbGFyPSJodHRwOi8vc2Nob2xhci5nb29nbGUuY29tL3NjaG9sYXI/Y2l0ZXM9MjQyMzYzMjU5OTQwMjg2MDg2MSZhc19zZHQ9MjAwNSZzY2lvZHQ9MCw1JmhsPWVuIiwKKSkKCkRCKENpdGF0aW9uKAogICAgbWFyY28yMDEyYSwgbWVuZGVzMjAwNGEsIHJlZj0iIiwKICAgIGNvbnRleHRzPVsKCiAgICBdLAopKQoKJycnLCBjaXRhdGlvbnM9J21lbmRlczIwMDRhJyk7\"));\n",
       "    "
      ],
      "text/plain": [
       "<IPython.core.display.Javascript object>"
      ]
     },
     "metadata": {},
     "output_type": "display_data"
    },
    {
     "data": {
      "application/javascript": [
       "$('span:contains(\"# Temp\")').closest('.cell').remove();"
      ],
      "text/plain": [
       "<IPython.core.display.Javascript object>"
      ]
     },
     "metadata": {},
     "output_type": "display_data"
    },
    {
     "data": {
      "application/javascript": [
       "\n",
       "        $('span:contains(\"# Temp\")').closest('.cell').remove();\n",
       "        var code = IPython.notebook.insert_cell_below('code');\n",
       "        code.set_text(atob(\"IyBUZW1wCmluc2VydCgnJycKZmVycnVjY2kyMDE1YSA9IERCKFdvcmtVbnJlbGF0ZWQoCiAgICAyMDE1LCAiSW52ZXN0aWdhdGluZyBmdW5jdGlvbmFsIGFuZCBjb2RlIHNpemUgbWVhc3VyZXMgZm9yIG1vYmlsZSBhcHBsaWNhdGlvbnM6IEEgcmVwbGljYXRlZCBzdHVkeSIsCiAgICBkaXNwbGF5PSJmZXJydWNjaSIsCiAgICBhdXRob3JzPSJGZXJydWNjaSwgRmlsb21lbmEgYW5kIEdyYXZpbm8sIENhcm1pbmUgYW5kIFNhbHphLCBQYXNxdWFsZSBhbmQgU2Fycm8sIEZlZGVyaWNhIiwKICAgIHBsYWNlPUlDUEZTUEksCiAgICBwcD0iMjcxLS0yODciLAogICAgZW50cnl0eXBlPSJpbnByb2NlZWRpbmdzIiwKICAgIG9yZ2FuaXphdGlvbj0iU3ByaW5nZXIiLAogICAgSUQ9ImZlcnJ1Y2NpMjAxNWludmVzdGlnYXRpbmciLAogICAgY2x1c3Rlcl9pZD0iNzI5NTg4ODk1ODQ2NDg5Nzk5IiwKICAgIHNjaG9sYXI9Imh0dHA6Ly9zY2hvbGFyLmdvb2dsZS5jb20vc2Nob2xhcj9jaXRlcz03Mjk1ODg4OTU4NDY0ODk3OTkmYXNfc2R0PTIwMDUmc2Npb2R0PTAsNSZobD1lbiIsCikpCgpEQihDaXRhdGlvbigKICAgIGZlcnJ1Y2NpMjAxNWEsIG1lbmRlczIwMDRhLCByZWY9IiIsCiAgICBjb250ZXh0cz1bCgogICAgXSwKKSkKCicnJywgY2l0YXRpb25zPSdtZW5kZXMyMDA0YScpOw==\"));\n",
       "    "
      ],
      "text/plain": [
       "<IPython.core.display.Javascript object>"
      ]
     },
     "metadata": {},
     "output_type": "display_data"
    },
    {
     "data": {
      "application/javascript": [
       "$('span:contains(\"# Temp\")').closest('.cell').remove();"
      ],
      "text/plain": [
       "<IPython.core.display.Javascript object>"
      ]
     },
     "metadata": {},
     "output_type": "display_data"
    },
    {
     "data": {
      "application/javascript": [
       "\n",
       "        $('span:contains(\"# Temp\")').closest('.cell').remove();\n",
       "        var code = IPython.notebook.insert_cell_below('code');\n",
       "        code.set_text(atob(\"IyBUZW1wCmluc2VydCgnJycKZmVycnVjY2kyMDE1YSA9IERCKFdvcmsoCiAgICAyMDE1LCAiSW52ZXN0aWdhdGluZyBmdW5jdGlvbmFsIGFuZCBjb2RlIHNpemUgbWVhc3VyZXMgZm9yIG1vYmlsZSBhcHBsaWNhdGlvbnM6IEEgcmVwbGljYXRlZCBzdHVkeSIsCiAgICBkaXNwbGF5PSJmZXJydWNjaSIsCiAgICBhdXRob3JzPSJGZXJydWNjaSwgRmlsb21lbmEgYW5kIEdyYXZpbm8sIENhcm1pbmUgYW5kIFNhbHphLCBQYXNxdWFsZSBhbmQgU2Fycm8sIEZlZGVyaWNhIiwKICAgIHBsYWNlPUlDUEZTUEksCiAgICBwcD0iMjcxLS0yODciLAogICAgZW50cnl0eXBlPSJpbnByb2NlZWRpbmdzIiwKICAgIG9yZ2FuaXphdGlvbj0iU3ByaW5nZXIiLAogICAgSUQ9ImZlcnJ1Y2NpMjAxNWludmVzdGlnYXRpbmciLAogICAgY2x1c3Rlcl9pZD0iNzI5NTg4ODk1ODQ2NDg5Nzk5IiwKICAgIHNjaG9sYXI9Imh0dHA6Ly9zY2hvbGFyLmdvb2dsZS5jb20vc2Nob2xhcj9jaXRlcz03Mjk1ODg4OTU4NDY0ODk3OTkmYXNfc2R0PTIwMDUmc2Npb2R0PTAsNSZobD1lbiIsCikpCgpEQihDaXRhdGlvbigKICAgIGZlcnJ1Y2NpMjAxNWEsIG1lbmRlczIwMDRhLCByZWY9IiIsCiAgICBjb250ZXh0cz1bCgogICAgXSwKKSkKCicnJywgY2l0YXRpb25zPSdtZW5kZXMyMDA0YScpOw==\"));\n",
       "    "
      ],
      "text/plain": [
       "<IPython.core.display.Javascript object>"
      ]
     },
     "metadata": {},
     "output_type": "display_data"
    },
    {
     "data": {
      "application/javascript": [
       "$('span:contains(\"# Temp\")').closest('.cell').remove();"
      ],
      "text/plain": [
       "<IPython.core.display.Javascript object>"
      ]
     },
     "metadata": {},
     "output_type": "display_data"
    },
    {
     "data": {
      "application/javascript": [
       "\n",
       "        $('span:contains(\"# Temp\")').closest('.cell').remove();\n",
       "        var code = IPython.notebook.insert_cell_below('code');\n",
       "        code.set_text(atob(\"IyBUZW1wCmluc2VydCgnJycKZmVycnVjY2kyMDE1YSA9IERCKFdvcmtVbnJlbGF0ZWQoCiAgICAyMDE1LCAiSW52ZXN0aWdhdGluZyBmdW5jdGlvbmFsIGFuZCBjb2RlIHNpemUgbWVhc3VyZXMgZm9yIG1vYmlsZSBhcHBsaWNhdGlvbnM6IEEgcmVwbGljYXRlZCBzdHVkeSIsCiAgICBkaXNwbGF5PSJmZXJydWNjaSIsCiAgICBhdXRob3JzPSJGZXJydWNjaSwgRmlsb21lbmEgYW5kIEdyYXZpbm8sIENhcm1pbmUgYW5kIFNhbHphLCBQYXNxdWFsZSBhbmQgU2Fycm8sIEZlZGVyaWNhIiwKICAgIHBsYWNlPUlDUEZTUEksCiAgICBwcD0iMjcxLS0yODciLAogICAgZW50cnl0eXBlPSJpbnByb2NlZWRpbmdzIiwKICAgIG9yZ2FuaXphdGlvbj0iU3ByaW5nZXIiLAogICAgSUQ9ImZlcnJ1Y2NpMjAxNWludmVzdGlnYXRpbmciLAogICAgY2x1c3Rlcl9pZD0iNzI5NTg4ODk1ODQ2NDg5Nzk5IiwKICAgIHNjaG9sYXI9Imh0dHA6Ly9zY2hvbGFyLmdvb2dsZS5jb20vc2Nob2xhcj9jaXRlcz03Mjk1ODg4OTU4NDY0ODk3OTkmYXNfc2R0PTIwMDUmc2Npb2R0PTAsNSZobD1lbiIsCikpCgpEQihDaXRhdGlvbigKICAgIGZlcnJ1Y2NpMjAxNWEsIG1lbmRlczIwMDRhLCByZWY9IiIsCiAgICBjb250ZXh0cz1bCgogICAgXSwKKSkKCicnJywgY2l0YXRpb25zPSdtZW5kZXMyMDA0YScpOw==\"));\n",
       "    "
      ],
      "text/plain": [
       "<IPython.core.display.Javascript object>"
      ]
     },
     "metadata": {},
     "output_type": "display_data"
    },
    {
     "data": {
      "application/javascript": [
       "$('span:contains(\"# Temp\")').closest('.cell').remove();"
      ],
      "text/plain": [
       "<IPython.core.display.Javascript object>"
      ]
     },
     "metadata": {},
     "output_type": "display_data"
    },
    {
     "data": {
      "application/javascript": [
       "\n",
       "        $('span:contains(\"# Temp\")').closest('.cell').remove();\n",
       "        var code = IPython.notebook.insert_cell_below('code');\n",
       "        code.set_text(atob(\"IyBUZW1wCmluc2VydCgnJycKbGFsbDIwMDZhID0gREIoV29ya1VucmVsYXRlZCgKICAgIDIwMDYsICJSaXNrIE1hbmFnZW1lbnQgTW9kZWxzIGZvciBGbGlwLUNoaXAgRWxlY3Ryb25pY3MgaW4gRXh0cmVtZSBFbnZpcm9ubWVudHMiLAogICAgZGlzcGxheT0ibGFsbCIsCiAgICBhdXRob3JzPSJMYWxsLCBQcmFkZWVwIGFuZCBIYXJpaGFyYW4sIEdhbmVzaCBhbmQgVGlhbiwgR3VveXVuIGFuZCBTdWhsaW5nLCBKZWZmIGFuZCBTdHJpY2tsYW5kLCBNYXJrIGFuZCBCbGFuY2hlLCBKaW0iLAogICAgcHA9IjM1MS0tMzYzIiwKICAgIHBsYWNlMT0iQVNNRSAyMDA2IEludGVybmF0aW9uYWwgTWVjaGFuaWNhbCBFbmdpbmVlcmluZyBDb25ncmVzcyBhbmQgRXhwb3NpdGlvbiIsCiAgICBlbnRyeXR5cGU9ImlucHJvY2VlZGluZ3MiLAogICAgb3JnYW5pemF0aW9uPSJBbWVyaWNhbiBTb2NpZXR5IG9mIE1lY2hhbmljYWwgRW5naW5lZXJzIiwKICAgIElEPSJsYWxsMjAwNnJpc2siLAogICAgY2x1c3Rlcl9pZD0iMTU0ODA3NDk0NDU3NDExNDU0ODQiLAogICAgc2Nob2xhcj0iaHR0cDovL3NjaG9sYXIuZ29vZ2xlLmNvbS9zY2hvbGFyP2NpdGVzPTE1NDgwNzQ5NDQ1NzQxMTQ1NDg0JmFzX3NkdD0yMDA1JnNjaW9kdD0wLDUmaGw9ZW4iLAopKQoKREIoQ2l0YXRpb24oCiAgICBsYWxsMjAwNmEsIG1lbmRlczIwMDRhLCByZWY9IiIsCiAgICBjb250ZXh0cz1bCgogICAgXSwKKSkKCicnJywgY2l0YXRpb25zPSdtZW5kZXMyMDA0YScpOw==\"));\n",
       "    "
      ],
      "text/plain": [
       "<IPython.core.display.Javascript object>"
      ]
     },
     "metadata": {},
     "output_type": "display_data"
    },
    {
     "data": {
      "application/javascript": [
       "$('span:contains(\"# Temp\")').closest('.cell').remove();"
      ],
      "text/plain": [
       "<IPython.core.display.Javascript object>"
      ]
     },
     "metadata": {},
     "output_type": "display_data"
    },
    {
     "data": {
      "application/javascript": [
       "\n",
       "        $('span:contains(\"# Temp\")').closest('.cell').remove();\n",
       "        var code = IPython.notebook.insert_cell_below('code');\n",
       "        code.set_text(atob(\"IyBUZW1wCmluc2VydCgnJycKbGFsbDIwMDZhID0gREIoV29yaygKICAgIDIwMDYsICJSaXNrIE1hbmFnZW1lbnQgTW9kZWxzIGZvciBGbGlwLUNoaXAgRWxlY3Ryb25pY3MgaW4gRXh0cmVtZSBFbnZpcm9ubWVudHMiLAogICAgZGlzcGxheT0ibGFsbCIsCiAgICBhdXRob3JzPSJMYWxsLCBQcmFkZWVwIGFuZCBIYXJpaGFyYW4sIEdhbmVzaCBhbmQgVGlhbiwgR3VveXVuIGFuZCBTdWhsaW5nLCBKZWZmIGFuZCBTdHJpY2tsYW5kLCBNYXJrIGFuZCBCbGFuY2hlLCBKaW0iLAogICAgcHA9IjM1MS0tMzYzIiwKICAgIHBsYWNlMT0iQVNNRSAyMDA2IEludGVybmF0aW9uYWwgTWVjaGFuaWNhbCBFbmdpbmVlcmluZyBDb25ncmVzcyBhbmQgRXhwb3NpdGlvbiIsCiAgICBlbnRyeXR5cGU9ImlucHJvY2VlZGluZ3MiLAogICAgb3JnYW5pemF0aW9uPSJBbWVyaWNhbiBTb2NpZXR5IG9mIE1lY2hhbmljYWwgRW5naW5lZXJzIiwKICAgIElEPSJsYWxsMjAwNnJpc2siLAogICAgY2x1c3Rlcl9pZD0iMTU0ODA3NDk0NDU3NDExNDU0ODQiLAogICAgc2Nob2xhcj0iaHR0cDovL3NjaG9sYXIuZ29vZ2xlLmNvbS9zY2hvbGFyP2NpdGVzPTE1NDgwNzQ5NDQ1NzQxMTQ1NDg0JmFzX3NkdD0yMDA1JnNjaW9kdD0wLDUmaGw9ZW4iLAopKQoKREIoQ2l0YXRpb24oCiAgICBsYWxsMjAwNmEsIG1lbmRlczIwMDRhLCByZWY9IiIsCiAgICBjb250ZXh0cz1bCgogICAgXSwKKSkKCicnJywgY2l0YXRpb25zPSdtZW5kZXMyMDA0YScpOw==\"));\n",
       "    "
      ],
      "text/plain": [
       "<IPython.core.display.Javascript object>"
      ]
     },
     "metadata": {},
     "output_type": "display_data"
    },
    {
     "data": {
      "application/javascript": [
       "$('span:contains(\"# Temp\")').closest('.cell').remove();"
      ],
      "text/plain": [
       "<IPython.core.display.Javascript object>"
      ]
     },
     "metadata": {},
     "output_type": "display_data"
    },
    {
     "data": {
      "application/javascript": [
       "\n",
       "        $('span:contains(\"# Temp\")').closest('.cell').remove();\n",
       "        var code = IPython.notebook.insert_cell_below('code');\n",
       "        code.set_text(atob(\"IyBUZW1wCmluc2VydCgnJycKbGFsbDIwMDZhID0gREIoV29ya1VucmVsYXRlZCgKICAgIDIwMDYsICJSaXNrIE1hbmFnZW1lbnQgTW9kZWxzIGZvciBGbGlwLUNoaXAgRWxlY3Ryb25pY3MgaW4gRXh0cmVtZSBFbnZpcm9ubWVudHMiLAogICAgZGlzcGxheT0ibGFsbCIsCiAgICBhdXRob3JzPSJMYWxsLCBQcmFkZWVwIGFuZCBIYXJpaGFyYW4sIEdhbmVzaCBhbmQgVGlhbiwgR3VveXVuIGFuZCBTdWhsaW5nLCBKZWZmIGFuZCBTdHJpY2tsYW5kLCBNYXJrIGFuZCBCbGFuY2hlLCBKaW0iLAogICAgcHA9IjM1MS0tMzYzIiwKICAgIHBsYWNlMT0iQVNNRSAyMDA2IEludGVybmF0aW9uYWwgTWVjaGFuaWNhbCBFbmdpbmVlcmluZyBDb25ncmVzcyBhbmQgRXhwb3NpdGlvbiIsCiAgICBlbnRyeXR5cGU9ImlucHJvY2VlZGluZ3MiLAogICAgb3JnYW5pemF0aW9uPSJBbWVyaWNhbiBTb2NpZXR5IG9mIE1lY2hhbmljYWwgRW5naW5lZXJzIiwKICAgIElEPSJsYWxsMjAwNnJpc2siLAogICAgY2x1c3Rlcl9pZD0iMTU0ODA3NDk0NDU3NDExNDU0ODQiLAogICAgc2Nob2xhcj0iaHR0cDovL3NjaG9sYXIuZ29vZ2xlLmNvbS9zY2hvbGFyP2NpdGVzPTE1NDgwNzQ5NDQ1NzQxMTQ1NDg0JmFzX3NkdD0yMDA1JnNjaW9kdD0wLDUmaGw9ZW4iLAopKQoKREIoQ2l0YXRpb24oCiAgICBsYWxsMjAwNmEsIG1lbmRlczIwMDRhLCByZWY9IiIsCiAgICBjb250ZXh0cz1bCgogICAgXSwKKSkKCicnJywgY2l0YXRpb25zPSdtZW5kZXMyMDA0YScpOw==\"));\n",
       "    "
      ],
      "text/plain": [
       "<IPython.core.display.Javascript object>"
      ]
     },
     "metadata": {},
     "output_type": "display_data"
    },
    {
     "data": {
      "application/javascript": [
       "$('span:contains(\"# Temp\")').closest('.cell').remove();"
      ],
      "text/plain": [
       "<IPython.core.display.Javascript object>"
      ]
     },
     "metadata": {},
     "output_type": "display_data"
    },
    {
     "data": {
      "application/javascript": [
       "\n",
       "        $('span:contains(\"# Temp\")').closest('.cell').remove();\n",
       "        var code = IPython.notebook.insert_cell_below('code');\n",
       "        code.set_text(atob(\"IyBUZW1wCmluc2VydCgnJycKbWFydGlubzIwMDlhID0gREIoV29ya1VucmVsYXRlZCgKICAgIDIwMDksICJFc3RpbWF0aW5nIFdlYiBhcHBsaWNhdGlvbiBkZXZlbG9wbWVudCBlZmZvcnQgdXNpbmcgQ09TTUlDLUZGUCBtZXRob2QiLAogICAgZGlzcGxheT0ibWFydGlubyIsCiAgICBhdXRob3JzPSJEaSBNYXJ0aW5vLCBTIGFuZCBHcmF2aW5vLCBDIiwKICAgIHBwPSIxNTMtLTE1OCIsCiAgICBwbGFjZTE9IkludGVybmF0aW9uYWwgSm91cm5hbCBvZiBDb21wdXRlcnMgYW5kIEFwcGxpY2F0aW9ucyIsCiAgICBlbnRyeXR5cGU9ImFydGljbGUiLAogICAgdm9sdW1lPSIzMSIsCiAgICBudW1iZXI9IjMiLAogICAgcHVibGlzaGVyPSJUYXlsb3IgJiBGcmFuY2lzIiwKICAgIElEPSJkaTIwMDllc3RpbWF0aW5nIiwKICAgIGNsdXN0ZXJfaWQ9IjE4MjY0MDI3OTQzNjU5MDc5NzU2IiwKICAgIHNjaG9sYXI9Imh0dHA6Ly9zY2hvbGFyLmdvb2dsZS5jb20vc2Nob2xhcj9jaXRlcz0xODI2NDAyNzk0MzY1OTA3OTc1NiZhc19zZHQ9MjAwNSZzY2lvZHQ9MCw1JmhsPWVuIiwKKSkKCkRCKENpdGF0aW9uKAogICAgbWFydGlubzIwMDlhLCBtZW5kZXMyMDA0YSwgcmVmPSIiLAogICAgY29udGV4dHM9WwoKICAgIF0sCikpCgonJycsIGNpdGF0aW9ucz0nbWVuZGVzMjAwNGEnKTs=\"));\n",
       "    "
      ],
      "text/plain": [
       "<IPython.core.display.Javascript object>"
      ]
     },
     "metadata": {},
     "output_type": "display_data"
    },
    {
     "data": {
      "application/javascript": [
       "$('span:contains(\"# Temp\")').closest('.cell').remove();"
      ],
      "text/plain": [
       "<IPython.core.display.Javascript object>"
      ]
     },
     "metadata": {},
     "output_type": "display_data"
    },
    {
     "data": {
      "application/javascript": [
       "\n",
       "        $('span:contains(\"# Temp\")').closest('.cell').remove();\n",
       "        var code = IPython.notebook.insert_cell_below('code');\n",
       "        code.set_text(atob(\"IyBUZW1wCmluc2VydCgnJycKbWFydGlubzIwMDlhID0gREIoV29yaygKICAgIDIwMDksICJFc3RpbWF0aW5nIFdlYiBhcHBsaWNhdGlvbiBkZXZlbG9wbWVudCBlZmZvcnQgdXNpbmcgQ09TTUlDLUZGUCBtZXRob2QiLAogICAgZGlzcGxheT0ibWFydGlubyIsCiAgICBhdXRob3JzPSJEaSBNYXJ0aW5vLCBTIGFuZCBHcmF2aW5vLCBDIiwKICAgIHBwPSIxNTMtLTE1OCIsCiAgICBwbGFjZTE9IkludGVybmF0aW9uYWwgSm91cm5hbCBvZiBDb21wdXRlcnMgYW5kIEFwcGxpY2F0aW9ucyIsCiAgICBlbnRyeXR5cGU9ImFydGljbGUiLAogICAgdm9sdW1lPSIzMSIsCiAgICBudW1iZXI9IjMiLAogICAgcHVibGlzaGVyPSJUYXlsb3IgJiBGcmFuY2lzIiwKICAgIElEPSJkaTIwMDllc3RpbWF0aW5nIiwKICAgIGNsdXN0ZXJfaWQ9IjE4MjY0MDI3OTQzNjU5MDc5NzU2IiwKICAgIHNjaG9sYXI9Imh0dHA6Ly9zY2hvbGFyLmdvb2dsZS5jb20vc2Nob2xhcj9jaXRlcz0xODI2NDAyNzk0MzY1OTA3OTc1NiZhc19zZHQ9MjAwNSZzY2lvZHQ9MCw1JmhsPWVuIiwKKSkKCkRCKENpdGF0aW9uKAogICAgbWFydGlubzIwMDlhLCBtZW5kZXMyMDA0YSwgcmVmPSIiLAogICAgY29udGV4dHM9WwoKICAgIF0sCikpCgonJycsIGNpdGF0aW9ucz0nbWVuZGVzMjAwNGEnKTs=\"));\n",
       "    "
      ],
      "text/plain": [
       "<IPython.core.display.Javascript object>"
      ]
     },
     "metadata": {},
     "output_type": "display_data"
    },
    {
     "data": {
      "application/javascript": [
       "$('span:contains(\"# Temp\")').closest('.cell').remove();"
      ],
      "text/plain": [
       "<IPython.core.display.Javascript object>"
      ]
     },
     "metadata": {},
     "output_type": "display_data"
    },
    {
     "data": {
      "application/javascript": [
       "\n",
       "        $('span:contains(\"# Temp\")').closest('.cell').remove();\n",
       "        var code = IPython.notebook.insert_cell_below('code');\n",
       "        code.set_text(atob(\"IyBUZW1wCmluc2VydCgnJycKbWFydGlubzIwMDlhID0gREIoV29ya1VucmVsYXRlZCgKICAgIDIwMDksICJFc3RpbWF0aW5nIFdlYiBhcHBsaWNhdGlvbiBkZXZlbG9wbWVudCBlZmZvcnQgdXNpbmcgQ09TTUlDLUZGUCBtZXRob2QiLAogICAgZGlzcGxheT0ibWFydGlubyIsCiAgICBhdXRob3JzPSJEaSBNYXJ0aW5vLCBTIGFuZCBHcmF2aW5vLCBDIiwKICAgIHBwPSIxNTMtLTE1OCIsCiAgICBwbGFjZTE9IkludGVybmF0aW9uYWwgSm91cm5hbCBvZiBDb21wdXRlcnMgYW5kIEFwcGxpY2F0aW9ucyIsCiAgICBlbnRyeXR5cGU9ImFydGljbGUiLAogICAgdm9sdW1lPSIzMSIsCiAgICBudW1iZXI9IjMiLAogICAgcHVibGlzaGVyPSJUYXlsb3IgJiBGcmFuY2lzIiwKICAgIElEPSJkaTIwMDllc3RpbWF0aW5nIiwKICAgIGNsdXN0ZXJfaWQ9IjE4MjY0MDI3OTQzNjU5MDc5NzU2IiwKICAgIHNjaG9sYXI9Imh0dHA6Ly9zY2hvbGFyLmdvb2dsZS5jb20vc2Nob2xhcj9jaXRlcz0xODI2NDAyNzk0MzY1OTA3OTc1NiZhc19zZHQ9MjAwNSZzY2lvZHQ9MCw1JmhsPWVuIiwKKSkKCkRCKENpdGF0aW9uKAogICAgbWFydGlubzIwMDlhLCBtZW5kZXMyMDA0YSwgcmVmPSIiLAogICAgY29udGV4dHM9WwoKICAgIF0sCikpCgonJycsIGNpdGF0aW9ucz0nbWVuZGVzMjAwNGEnKTs=\"));\n",
       "    "
      ],
      "text/plain": [
       "<IPython.core.display.Javascript object>"
      ]
     },
     "metadata": {},
     "output_type": "display_data"
    },
    {
     "data": {
      "application/javascript": [
       "$('span:contains(\"# Temp\")').closest('.cell').remove();"
      ],
      "text/plain": [
       "<IPython.core.display.Javascript object>"
      ]
     },
     "metadata": {},
     "output_type": "display_data"
    },
    {
     "data": {
      "application/javascript": [
       "\n",
       "        $('span:contains(\"# Temp\")').closest('.cell').remove();\n",
       "        var code = IPython.notebook.insert_cell_below('code');\n",
       "        code.set_text(atob(\"IyBUZW1wCmluc2VydCgnJycKbWFydGlubzIwMDlhID0gREIoV29ya1VucmVsYXRlZCgKICAgIDIwMDksICJFc3RpbWF0aW5nIFdlYiBhcHBsaWNhdGlvbiBkZXZlbG9wbWVudCBlZmZvcnQgdXNpbmcgQ09TTUlDLUZGUCBtZXRob2QiLAogICAgZGlzcGxheT0ibWFydGlubyIsCiAgICBhdXRob3JzPSJEaSBNYXJ0aW5vLCBTIGFuZCBHcmF2aW5vLCBDIiwKICAgIHBsYWNlPUpDQSwKICAgIHBwPSIxNTMtLTE1OCIsCiAgICBlbnRyeXR5cGU9ImFydGljbGUiLAogICAgdm9sdW1lPSIzMSIsCiAgICBudW1iZXI9IjMiLAogICAgcHVibGlzaGVyPSJUYXlsb3IgJiBGcmFuY2lzIiwKICAgIElEPSJkaTIwMDllc3RpbWF0aW5nIiwKICAgIGNsdXN0ZXJfaWQ9IjE4MjY0MDI3OTQzNjU5MDc5NzU2IiwKICAgIHNjaG9sYXI9Imh0dHA6Ly9zY2hvbGFyLmdvb2dsZS5jb20vc2Nob2xhcj9jaXRlcz0xODI2NDAyNzk0MzY1OTA3OTc1NiZhc19zZHQ9MjAwNSZzY2lvZHQ9MCw1JmhsPWVuIiwKKSkKCkRCKENpdGF0aW9uKAogICAgbWFydGlubzIwMDlhLCBtZW5kZXMyMDA0YSwgcmVmPSIiLAogICAgY29udGV4dHM9WwoKICAgIF0sCikpCgonJycsIGNpdGF0aW9ucz0nbWVuZGVzMjAwNGEnKTs=\"));\n",
       "    "
      ],
      "text/plain": [
       "<IPython.core.display.Javascript object>"
      ]
     },
     "metadata": {},
     "output_type": "display_data"
    }
   ],
   "source": [
    "manager\n"
   ]
  },
  {
   "cell_type": "code",
   "execution_count": 77,
   "metadata": {},
   "outputs": [
    {
     "name": "stdout",
     "output_type": "stream",
     "text": [
      "-Insert: martino2009a\n",
      "-Insert Import: martino2009a\n",
      "-Insert Citation: martino2009a -> mendes2004a\n"
     ]
    }
   ],
   "source": [
    "# Temp\n",
    "insert('''\n",
    "martino2009a = DB(WorkUnrelated(\n",
    "    2009, \"Estimating Web application development effort using COSMIC-FFP method\",\n",
    "    display=\"martino\",\n",
    "    authors=\"Di Martino, S and Gravino, C\",\n",
    "    place=JCA,\n",
    "    pp=\"153--158\",\n",
    "    entrytype=\"article\",\n",
    "    volume=\"31\",\n",
    "    number=\"3\",\n",
    "    publisher=\"Taylor & Francis\",\n",
    "    ID=\"di2009estimating\",\n",
    "    cluster_id=\"18264027943659079756\",\n",
    "    scholar=\"http://scholar.google.com/scholar?cites=18264027943659079756&as_sdt=2005&sciodt=0,5&hl=en\",\n",
    "))\n",
    "\n",
    "DB(Citation(\n",
    "    martino2009a, mendes2004a, ref=\"\",\n",
    "    contexts=[\n",
    "\n",
    "    ],\n",
    "))\n",
    "\n",
    "''', citations='mendes2004a');"
   ]
  },
  {
   "cell_type": "code",
   "execution_count": 69,
   "metadata": {},
   "outputs": [
    {
     "name": "stdout",
     "output_type": "stream",
     "text": [
      "Same: baker2010a\n",
      "-Insert Citation: baker2010a -> mendes2004a\n"
     ]
    },
    {
     "name": "stderr",
     "output_type": "stream",
     "text": [
      "c:\\erica\\snowballing\\snowballing\\dbmanager.py:498: UserWarning: Repeated citation: baker2010a -> mendes2004a\n",
      "  warnings.warn(\"Repeated citation: {} -> {}\".format(source, target))\n"
     ]
    }
   ],
   "source": [
    "\n"
   ]
  },
  {
   "cell_type": "code",
   "execution_count": null,
   "metadata": {
    "collapsed": true
   },
   "outputs": [],
   "source": []
  }
 ],
 "metadata": {
  "kernelspec": {
   "display_name": "Python 3",
   "language": "python",
   "name": "python3"
  },
  "language_info": {
   "codemirror_mode": {
    "name": "ipython",
    "version": 3
   },
   "file_extension": ".py",
   "mimetype": "text/x-python",
   "name": "python",
   "nbconvert_exporter": "python",
   "pygments_lexer": "ipython3",
   "version": "3.6.0"
  },
  "toc": {
   "nav_menu": {
    "height": "12px",
    "width": "252px"
   },
   "navigate_menu": true,
   "number_sections": true,
   "sideBar": true,
   "threshold": 4,
   "toc_cell": false,
   "toc_section_display": "block",
   "toc_window_display": false
  }
 },
 "nbformat": 4,
 "nbformat_minor": 1
}
