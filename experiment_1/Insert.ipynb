{
 "cells": [
  {
   "cell_type": "code",
   "execution_count": 1,
   "metadata": {
    "collapsed": true
   },
   "outputs": [],
   "source": [
    "import database\n",
    "from snowballing.operations import load_work, reload, work_by_varname\n",
    "from snowballing.snowballing import Converter\n",
    "from snowballing.snowballing import ArticleNavigator\n",
    "from snowballing.dbmanager import insert, set_attribute"
   ]
  },
  {
   "cell_type": "code",
   "execution_count": 27,
   "metadata": {
    "scrolled": false
   },
   "outputs": [
    {
     "data": {
      "application/vnd.jupyter.widget-view+json": {
       "model_id": "1e992806b45b45f7a8dfda51556fec73",
       "version_major": 2,
       "version_minor": 0
      },
      "text/html": [
       "<p>Failed to display Jupyter Widget of type <code>VBox</code>.</p>\n",
       "<p>\n",
       "  If you're reading this message in Jupyter Notebook or JupyterLab, it may mean\n",
       "  that the widgets JavaScript is still loading. If this message persists, it\n",
       "  likely means that the widgets JavaScript library is either not installed or\n",
       "  not enabled. See the <a href=\"https://ipywidgets.readthedocs.io/en/stable/user_install.html\">Jupyter\n",
       "  Widgets Documentation</a> for setup instructions.\n",
       "</p>\n",
       "<p>\n",
       "  If you're reading this message in another notebook frontend (for example, a static\n",
       "  rendering on GitHub or <a href=\"https://nbviewer.jupyter.org/\">NBViewer</a>),\n",
       "  it may mean that your frontend doesn't currently support widgets.\n",
       "</p>\n"
      ],
      "text/plain": [
       "VBox(children=(HBox(children=(Dropdown(options={'BibTeX': 'bibtex', 'Text': 'text', '[N] author name place other year': 'citation', 'Quoted': 'quoted'}, value='bibtex'), Button(description='Set article_list variable', style=ButtonStyle()), Label(value=''))), HBox(children=(Textarea(value='', layout=Layout(height='500px', width='50%')), Textarea(value='', layout=Layout(height='500px', width='50%'))))))"
      ]
     },
     "metadata": {},
     "output_type": "display_data"
    }
   ],
   "source": [
    "Converter(\"bibtex\")"
   ]
  },
  {
   "cell_type": "code",
   "execution_count": 28,
   "metadata": {},
   "outputs": [
    {
     "data": {
      "text/plain": [
       "80"
      ]
     },
     "execution_count": 28,
     "metadata": {},
     "output_type": "execute_result"
    }
   ],
   "source": [
    "len(article_list)"
   ]
  },
  {
   "cell_type": "code",
   "execution_count": 29,
   "metadata": {},
   "outputs": [],
   "source": [
    "from snowballing.operations import reload\n",
    "reload()\n"
   ]
  },
  {
   "cell_type": "code",
   "execution_count": null,
   "metadata": {
    "collapsed": true
   },
   "outputs": [],
   "source": []
  },
  {
   "cell_type": "code",
   "execution_count": null,
   "metadata": {
    "collapsed": true,
    "scrolled": false
   },
   "outputs": [],
   "source": [
    "ArticleNavigator??"
   ]
  },
  {
   "cell_type": "code",
   "execution_count": null,
   "metadata": {
    "collapsed": true
   },
   "outputs": [],
   "source": []
  },
  {
   "cell_type": "code",
   "execution_count": null,
   "metadata": {
    "collapsed": true
   },
   "outputs": [],
   "source": []
  },
  {
   "cell_type": "code",
   "execution_count": 30,
   "metadata": {},
   "outputs": [
    {
     "data": {
      "application/vnd.jupyter.widget-view+json": {
       "model_id": "3aba1642232845d480bb087f51be61e4",
       "version_major": 2,
       "version_minor": 0
      },
      "text/html": [
       "<p>Failed to display Jupyter Widget of type <code>VBox</code>.</p>\n",
       "<p>\n",
       "  If you're reading this message in Jupyter Notebook or JupyterLab, it may mean\n",
       "  that the widgets JavaScript is still loading. If this message persists, it\n",
       "  likely means that the widgets JavaScript library is either not installed or\n",
       "  not enabled. See the <a href=\"https://ipywidgets.readthedocs.io/en/stable/user_install.html\">Jupyter\n",
       "  Widgets Documentation</a> for setup instructions.\n",
       "</p>\n",
       "<p>\n",
       "  If you're reading this message in another notebook frontend (for example, a static\n",
       "  rendering on GitHub or <a href=\"https://nbviewer.jupyter.org/\">NBViewer</a>),\n",
       "  it may mean that your frontend doesn't currently support widgets.\n",
       "</p>\n"
      ],
      "text/plain": [
       "VBox(children=(HBox(children=(Button(description='Previous Article', disabled=True, icon='caret-left', style=ButtonStyle()), Button(description='Reload Article', icon='refresh', style=ButtonStyle()), Button(description='Next Article', icon='caret-right', style=ButtonStyle()))), HBox(children=(Dropdown(description='Type', index=3, options=('Work', 'WorkSnowball', 'WorkOk', 'WorkUnrelated', 'WorkNoFile', 'WorkLang', 'Site', 'Email'), value='WorkUnrelated'), ToggleButton(value=False, description='File'))), HBox(children=(Text(value='', description='Due'), Text(value='', description='Place'))), HBox(children=(Text(value='', description='Year'), Text(value='', description='Prefix Var'))), HBox(children=(Text(value='', description='PDFPage'), Text(value='', description='Related'))), HBox(children=(Text(value='', description='Display'), Text(value='', description='Summary'))), HBox(children=(Text(value='', description='Star'), Text(value='', description='Link'))), HBox(children=(Text(value='1', description='webofscience2015'),)), HBox(children=(Button(description='Reload Article', icon='refresh', style=ButtonStyle()), IntSlider(value=0, max=79), Label(value='1/80'))), Output()))"
      ]
     },
     "metadata": {},
     "output_type": "display_data"
    },
    {
     "data": {
      "application/javascript": [
       "$('span:contains(\"# Temp\")').closest('.cell').remove();"
      ],
      "text/plain": [
       "<IPython.core.display.Javascript object>"
      ]
     },
     "metadata": {},
     "output_type": "display_data"
    },
    {
     "data": {
      "application/javascript": [
       "\n",
       "        $('span:contains(\"# Temp\")').closest('.cell').remove();\n",
       "        var code = IPython.notebook.insert_cell_below('code');\n",
       "        code.set_text(decodeURIComponent(window.atob(\"JTIzJTIwVGVtcCUwQWluc2VydCUyOCUyNyUyNyUyNyUwQSUyMCUyMCUyMCUyMHNob3ZhbDE5OTdhJTIwJTNEJTIwREIlMjhXb3JrVW5yZWxhdGVkJTI4JTBBJTIwJTIwJTIwJTIwJTIwJTIwJTIwJTIwMTk5NyUyQyUyMCUyMkElMjBjb21iaW5hdGlvbiUyMG9mJTIwdGhlJTIwTWstSUklMjBmdW5jdGlvbiUyMHBvaW50cyUyMHNvZnR3YXJlJTIwZXN0aW1hdGlvbiUyMG1ldGhvZCUwQXdpdGglMjB0aGUlMjBBRElTU0ElMjBtZXRob2RvbG9neSUyMGZvciUyMHN5c3RlbXMlMjBhbmFseXNpcyUyMGFuZCUyMGRlc2lnbiUyMiUyQyUwQSUyMCUyMCUyMCUyMCUyMCUyMCUyMCUyMGRpc3BsYXklM0QlMjJzaG92YWwlMjIlMkMlMEElMjAlMjAlMjAlMjAlMjAlMjAlMjAlMjBhdXRob3JzJTNEJTIyU2hvdmFsJTJDJTIwUCUyMGFuZCUyMEZlbGRtYW4lMkMlMjBPJTIyJTJDJTBBJTIwJTIwJTIwJTIwJTIwJTIwJTIwJTIwcGxhY2UlM0RGQUtFJTJDJTBBJTIwJTIwJTIwJTIwJTIwJTIwJTIwJTIwcHAlM0QlMjI4NTUtODY1JTIyJTJDJTBBJTIwJTIwJTIwJTIwJTIwJTIwJTIwJTIwZW50cnl0eXBlJTNEJTIyYXJ0aWNsZSUyMiUyQyUwQSUyMCUyMCUyMCUyMCUyMCUyMCUyMCUyMHZvbHVtZSUzRCUyMjM5JTIyJTJDJTBBJTIwJTIwJTIwJTIwJTIwJTIwJTIwJTIwbnVtYmVyJTNEJTIyMTMlMjIlMkMlMEElMjAlMjAlMjAlMjAlMjAlMjAlMjAlMjBtb250aCUzRCUyMkRFQyUyMDE1JTIyJTJDJTBBJTIwJTIwJTIwJTIwJTIwJTIwJTIwJTIwZG9pJTNEJTIyMTAuMTAxNi9TMDk1MC01ODQ5JTI4OTclMjkwMDAwOS04JTIyJTJDJTBBJTIwJTIwJTIwJTIwJTIwJTIwJTIwJTIwaXNzbiUzRCUyMjA5NTAtNTg0OSUyMiUyQyUwQSUyMCUyMCUyMCUyMCUyMCUyMCUyMCUyMGVpc3NuJTNEJTIyMTg3My02MDI1JTIyJTJDJTBBJTIwJTIwJTIwJTIwJTIwJTIwJTIwJTIwcmVzZWFyY2hlcmlkLW51bWJlcnMlM0QlMjJTaG92YWwlMkMlMjBQZXJldHovRi0xMjI5LTIwMTIlMjIlMkMlMEElMjAlMjAlMjAlMjAlMjAlMjAlMjAlMjBvcmNpZC1udW1iZXJzJTNEJTIyU2hvdmFsJTJDJTIwUGVyZXR6LzAwMDAtMDAwMi0wMTgzLTI4MzIlMjIlMkMlMEElMjAlMjAlMjAlMjAlMjAlMjAlMjAlMjB1bmlxdWUtaWQlM0QlMjJJU0klM0EwMDAwNzE1ODQzMDAwMDElMjIlMkMlMEElMjAlMjAlMjAlMjAlMjAlMjAlMjAlMjBJRCUzRCUyMklTSSUzQTAwMDA3MTU4NDMwMDAwMSUyMiUyQyUwQSUyMCUyMCUyMCUyMCUyMCUyMCUyMCUyMHdlYm9mc2NpZW5jZTIwMTUlM0QlMjIxJTIyJTJDJTBBJTIwJTIwJTIwJTIwJTIwJTIwJTIwJTIwcGxhY2V4JTNEJTIySU5GT1JNQVRJT04lMjBBTkQlMjBTT0ZUV0FSRSUyMFRFQ0hOT0xPR1klMjIlMkMlMEElMjAlMjAlMjAlMjAlMjklMjklMEElMjclMjclMjclMjklM0I=\")));\n",
       "    "
      ],
      "text/plain": [
       "<IPython.core.display.Javascript object>"
      ]
     },
     "metadata": {},
     "output_type": "display_data"
    },
    {
     "data": {
      "application/javascript": [
       "$('span:contains(\"# Temp\")').closest('.cell').remove();"
      ],
      "text/plain": [
       "<IPython.core.display.Javascript object>"
      ]
     },
     "metadata": {},
     "output_type": "display_data"
    },
    {
     "data": {
      "application/javascript": [
       "\n",
       "        $('span:contains(\"# Temp\")').closest('.cell').remove();\n",
       "        var code = IPython.notebook.insert_cell_below('code');\n",
       "        code.set_text(decodeURIComponent(window.atob(\"JTIzJTIwVGVtcCUwQWluc2VydCUyOCUyNyUyNyUyNyUwQSUyMCUyMCUyMCUyMHNob3ZhbDE5OTdhJTIwJTNEJTIwREIlMjhXb3JrVW5yZWxhdGVkJTI4JTBBJTIwJTIwJTIwJTIwJTIwJTIwJTIwJTIwMTk5NyUyQyUyMCUyMkElMjBjb21iaW5hdGlvbiUyMG9mJTIwdGhlJTIwTWstSUklMjBmdW5jdGlvbiUyMHBvaW50cyUyMHNvZnR3YXJlJTIwZXN0aW1hdGlvbiUyMG1ldGhvZCUwQXdpdGglMjB0aGUlMjBBRElTU0ElMjBtZXRob2RvbG9neSUyMGZvciUyMHN5c3RlbXMlMjBhbmFseXNpcyUyMGFuZCUyMGRlc2lnbiUyMiUyQyUwQSUyMCUyMCUyMCUyMCUyMCUyMCUyMCUyMGRpc3BsYXklM0QlMjJzaG92YWwlMjIlMkMlMEElMjAlMjAlMjAlMjAlMjAlMjAlMjAlMjBhdXRob3JzJTNEJTIyU2hvdmFsJTJDJTIwUCUyMGFuZCUyMEZlbGRtYW4lMkMlMjBPJTIyJTJDJTBBJTIwJTIwJTIwJTIwJTIwJTIwJTIwJTIwcGxhY2UlM0RGQUtFJTJDJTBBJTIwJTIwJTIwJTIwJTIwJTIwJTIwJTIwcHAlM0QlMjI4NTUtODY1JTIyJTJDJTBBJTIwJTIwJTIwJTIwJTIwJTIwJTIwJTIwZW50cnl0eXBlJTNEJTIyYXJ0aWNsZSUyMiUyQyUwQSUyMCUyMCUyMCUyMCUyMCUyMCUyMCUyMHZvbHVtZSUzRCUyMjM5JTIyJTJDJTBBJTIwJTIwJTIwJTIwJTIwJTIwJTIwJTIwbnVtYmVyJTNEJTIyMTMlMjIlMkMlMEElMjAlMjAlMjAlMjAlMjAlMjAlMjAlMjBtb250aCUzRCUyMkRFQyUyMDE1JTIyJTJDJTBBJTIwJTIwJTIwJTIwJTIwJTIwJTIwJTIwZG9pJTNEJTIyMTAuMTAxNi9TMDk1MC01ODQ5JTI4OTclMjkwMDAwOS04JTIyJTJDJTBBJTIwJTIwJTIwJTIwJTIwJTIwJTIwJTIwaXNzbiUzRCUyMjA5NTAtNTg0OSUyMiUyQyUwQSUyMCUyMCUyMCUyMCUyMCUyMCUyMCUyMGVpc3NuJTNEJTIyMTg3My02MDI1JTIyJTJDJTBBJTIwJTIwJTIwJTIwJTIwJTIwJTIwJTIwcmVzZWFyY2hlcmlkLW51bWJlcnMlM0QlMjJTaG92YWwlMkMlMjBQZXJldHovRi0xMjI5LTIwMTIlMjIlMkMlMEElMjAlMjAlMjAlMjAlMjAlMjAlMjAlMjBvcmNpZC1udW1iZXJzJTNEJTIyU2hvdmFsJTJDJTIwUGVyZXR6LzAwMDAtMDAwMi0wMTgzLTI4MzIlMjIlMkMlMEElMjAlMjAlMjAlMjAlMjAlMjAlMjAlMjB1bmlxdWUtaWQlM0QlMjJJU0klM0EwMDAwNzE1ODQzMDAwMDElMjIlMkMlMEElMjAlMjAlMjAlMjAlMjAlMjAlMjAlMjBJRCUzRCUyMklTSSUzQTAwMDA3MTU4NDMwMDAwMSUyMiUyQyUwQSUyMCUyMCUyMCUyMCUyMCUyMCUyMCUyMHdlYm9mc2NpZW5jZTIwMTUlM0QlMjIxJTIyJTJDJTBBJTIwJTIwJTIwJTIwJTIwJTIwJTIwJTIwcGxhY2V4JTNEJTIySU5GT1JNQVRJT04lMjBBTkQlMjBTT0ZUV0FSRSUyMFRFQ0hOT0xPR1klMjIlMkMlMEElMjAlMjAlMjAlMjAlMjklMjklMEElMjclMjclMjclMjklM0I=\")));\n",
       "    "
      ],
      "text/plain": [
       "<IPython.core.display.Javascript object>"
      ]
     },
     "metadata": {},
     "output_type": "display_data"
    },
    {
     "data": {
      "application/javascript": [
       "$('span:contains(\"# Temp\")').closest('.cell').remove();"
      ],
      "text/plain": [
       "<IPython.core.display.Javascript object>"
      ]
     },
     "metadata": {},
     "output_type": "display_data"
    },
    {
     "data": {
      "application/javascript": [
       "\n",
       "        $('span:contains(\"# Temp\")').closest('.cell').remove();\n",
       "        var code = IPython.notebook.insert_cell_below('code');\n",
       "        code.set_text(decodeURIComponent(window.atob(\"JTIzJTIwVGVtcCUwQWluc2VydCUyOCUyNyUyNyUyNyUwQSUyMCUyMCUyMCUyMHJ1aXoyMDE1YSUyMCUzRCUyMERCJTI4V29ya1VucmVsYXRlZCUyOCUwQSUyMCUyMCUyMCUyMCUyMCUyMCUyMCUyMDIwMTUlMkMlMjAlMjJBJTIwZnJhbWV3b3JrJTIwZm9yJTIwc29mdHdhcmUlMjBwcm9jZXNzJTIwZGVwbG95bWVudCUyMGFuZCUyMGV2YWx1YXRpb24lMjIlMkMlMEElMjAlMjAlMjAlMjAlMjAlMjAlMjAlMjBkaXNwbGF5JTNEJTIycnVpeiUyMiUyQyUwQSUyMCUyMCUyMCUyMCUyMCUyMCUyMCUyMGF1dGhvcnMlM0QlMjJSdWl6LVJ1YmUlMkMlMjBJdmFuJTIwYW5kJTIwTWFudWVsJTIwRG9kZXJvJTJDJTIwSnVhbiUyMGFuZCUyMENvbG9tby1QYWxhY2lvcyUyQyUyMFJpY2FyZG8lMjIlMkMlMEElMjAlMjAlMjAlMjAlMjAlMjAlMjAlMjBwbGFjZSUzREZBS0UlMkMlMEElMjAlMjAlMjAlMjAlMjAlMjAlMjAlMjBwcCUzRCUyMjIwNS0yMjElMjIlMkMlMEElMjAlMjAlMjAlMjAlMjAlMjAlMjAlMjBlbnRyeXR5cGUlM0QlMjJhcnRpY2xlJTIyJTJDJTBBJTIwJTIwJTIwJTIwJTIwJTIwJTIwJTIwdm9sdW1lJTNEJTIyNTklMjIlMkMlMEElMjAlMjAlMjAlMjAlMjAlMjAlMjAlMjBtb250aCUzRCUyMk1BUiUyMiUyQyUwQSUyMCUyMCUyMCUyMCUyMCUyMCUyMCUyMGRvaSUzRCUyMjEwLjEwMTYvai5pbmZzb2YuMjAxNC4xMi4wMDElMjIlMkMlMEElMjAlMjAlMjAlMjAlMjAlMjAlMjAlMjBpc3NuJTNEJTIyMDk1MC01ODQ5JTIyJTJDJTBBJTIwJTIwJTIwJTIwJTIwJTIwJTIwJTIwZWlzc24lM0QlMjIxODczLTYwMjUlMjIlMkMlMEElMjAlMjAlMjAlMjAlMjAlMjAlMjAlMjByZXNlYXJjaGVyaWQtbnVtYmVycyUzRCUyMlRyaXZlZGklMkMlMjBLcnV0aS9FLTc1NTgtMjAxNSUwQURvZGVybyUyQyUyMEp1YW4lMjBNYW51ZWwvRC00MTQzLTIwMDklMEFDb2xvbW8tUGFsYWNpb3MlMkMlMjBSaWNhcmRvL0UtNTEzOS0yMDEwJTIyJTJDJTBBJTIwJTIwJTIwJTIwJTIwJTIwJTIwJTIwb3JjaWQtbnVtYmVycyUzRCUyMkRvZGVybyUyQyUyMEp1YW4lMjBNYW51ZWwvMDAwMC0wMDAyLTQxMDUtNTY3OSUwQUNvbG9tby1QYWxhY2lvcyUyQyUyMFJpY2FyZG8vMDAwMC0wMDAyLTE1NTUtOTcyNiUyMiUyQyUwQSUyMCUyMCUyMCUyMCUyMCUyMCUyMCUyMHVuaXF1ZS1pZCUzRCUyMklTSSUzQTAwMDM0OTQyNzIwMDAxMiUyMiUyQyUwQSUyMCUyMCUyMCUyMCUyMCUyMCUyMCUyMElEJTNEJTIySVNJJTNBMDAwMzQ5NDI3MjAwMDEyJTIyJTJDJTBBJTIwJTIwJTIwJTIwJTIwJTIwJTIwJTIwd2Vib2ZzY2llbmNlMjAxNSUzRCUyMjElMjIlMkMlMEElMjAlMjAlMjAlMjAlMjAlMjAlMjAlMjBwbGFjZXglM0QlMjJJTkZPUk1BVElPTiUyMEFORCUyMFNPRlRXQVJFJTIwVEVDSE5PTE9HWSUyMiUyQyUwQSUyMCUyMCUyMCUyMCUyOSUyOSUwQSUyNyUyNyUyNyUyOSUzQg==\")));\n",
       "    "
      ],
      "text/plain": [
       "<IPython.core.display.Javascript object>"
      ]
     },
     "metadata": {},
     "output_type": "display_data"
    },
    {
     "data": {
      "application/javascript": [
       "$('span:contains(\"# Temp\")').closest('.cell').remove();"
      ],
      "text/plain": [
       "<IPython.core.display.Javascript object>"
      ]
     },
     "metadata": {},
     "output_type": "display_data"
    },
    {
     "data": {
      "application/javascript": [
       "\n",
       "        $('span:contains(\"# Temp\")').closest('.cell').remove();\n",
       "        var code = IPython.notebook.insert_cell_below('code');\n",
       "        code.set_text(decodeURIComponent(window.atob(\"JTIzJTIwVGVtcCUwQWluc2VydCUyOCUyNyUyNyUyNyUwQSUyMCUyMCUyMCUyMHJ1aXoyMDE1YSUyMCUzRCUyMERCJTI4V29ya1VucmVsYXRlZCUyOCUwQSUyMCUyMCUyMCUyMCUyMCUyMCUyMCUyMDIwMTUlMkMlMjAlMjJBJTIwZnJhbWV3b3JrJTIwZm9yJTIwc29mdHdhcmUlMjBwcm9jZXNzJTIwZGVwbG95bWVudCUyMGFuZCUyMGV2YWx1YXRpb24lMjIlMkMlMEElMjAlMjAlMjAlMjAlMjAlMjAlMjAlMjBkaXNwbGF5JTNEJTIycnVpeiUyMiUyQyUwQSUyMCUyMCUyMCUyMCUyMCUyMCUyMCUyMGF1dGhvcnMlM0QlMjJSdWl6LVJ1YmUlMkMlMjBJdmFuJTIwYW5kJTIwTWFudWVsJTIwRG9kZXJvJTJDJTIwSnVhbiUyMGFuZCUyMENvbG9tby1QYWxhY2lvcyUyQyUyMFJpY2FyZG8lMjIlMkMlMEElMjAlMjAlMjAlMjAlMjAlMjAlMjAlMjBwbGFjZSUzREZBS0UlMkMlMEElMjAlMjAlMjAlMjAlMjAlMjAlMjAlMjBwcCUzRCUyMjIwNS0yMjElMjIlMkMlMEElMjAlMjAlMjAlMjAlMjAlMjAlMjAlMjBlbnRyeXR5cGUlM0QlMjJhcnRpY2xlJTIyJTJDJTBBJTIwJTIwJTIwJTIwJTIwJTIwJTIwJTIwdm9sdW1lJTNEJTIyNTklMjIlMkMlMEElMjAlMjAlMjAlMjAlMjAlMjAlMjAlMjBtb250aCUzRCUyMk1BUiUyMiUyQyUwQSUyMCUyMCUyMCUyMCUyMCUyMCUyMCUyMGRvaSUzRCUyMjEwLjEwMTYvai5pbmZzb2YuMjAxNC4xMi4wMDElMjIlMkMlMEElMjAlMjAlMjAlMjAlMjAlMjAlMjAlMjBpc3NuJTNEJTIyMDk1MC01ODQ5JTIyJTJDJTBBJTIwJTIwJTIwJTIwJTIwJTIwJTIwJTIwZWlzc24lM0QlMjIxODczLTYwMjUlMjIlMkMlMEElMjAlMjAlMjAlMjAlMjAlMjAlMjAlMjByZXNlYXJjaGVyaWQtbnVtYmVycyUzRCUyMlRyaXZlZGklMkMlMjBLcnV0aS9FLTc1NTgtMjAxNSUwQURvZGVybyUyQyUyMEp1YW4lMjBNYW51ZWwvRC00MTQzLTIwMDklMEFDb2xvbW8tUGFsYWNpb3MlMkMlMjBSaWNhcmRvL0UtNTEzOS0yMDEwJTIyJTJDJTBBJTIwJTIwJTIwJTIwJTIwJTIwJTIwJTIwb3JjaWQtbnVtYmVycyUzRCUyMkRvZGVybyUyQyUyMEp1YW4lMjBNYW51ZWwvMDAwMC0wMDAyLTQxMDUtNTY3OSUwQUNvbG9tby1QYWxhY2lvcyUyQyUyMFJpY2FyZG8vMDAwMC0wMDAyLTE1NTUtOTcyNiUyMiUyQyUwQSUyMCUyMCUyMCUyMCUyMCUyMCUyMCUyMHVuaXF1ZS1pZCUzRCUyMklTSSUzQTAwMDM0OTQyNzIwMDAxMiUyMiUyQyUwQSUyMCUyMCUyMCUyMCUyMCUyMCUyMCUyMElEJTNEJTIySVNJJTNBMDAwMzQ5NDI3MjAwMDEyJTIyJTJDJTBBJTIwJTIwJTIwJTIwJTIwJTIwJTIwJTIwd2Vib2ZzY2llbmNlMjAxNSUzRCUyMjElMjIlMkMlMEElMjAlMjAlMjAlMjAlMjAlMjAlMjAlMjBwbGFjZXglM0QlMjJJTkZPUk1BVElPTiUyMEFORCUyMFNPRlRXQVJFJTIwVEVDSE5PTE9HWSUyMiUyQyUwQSUyMCUyMCUyMCUyMCUyOSUyOSUwQSUyNyUyNyUyNyUyOSUzQg==\")));\n",
       "    "
      ],
      "text/plain": [
       "<IPython.core.display.Javascript object>"
      ]
     },
     "metadata": {},
     "output_type": "display_data"
    },
    {
     "data": {
      "application/javascript": [
       "$('span:contains(\"# Temp\")').closest('.cell').remove();"
      ],
      "text/plain": [
       "<IPython.core.display.Javascript object>"
      ]
     },
     "metadata": {},
     "output_type": "display_data"
    },
    {
     "data": {
      "application/javascript": [
       "\n",
       "        $('span:contains(\"# Temp\")').closest('.cell').remove();\n",
       "        var code = IPython.notebook.insert_cell_below('code');\n",
       "        code.set_text(decodeURIComponent(window.atob(\"JTIzJTIwVGVtcCUwQWluc2VydCUyOCUyNyUyNyUyNyUwQSUyMCUyMCUyMCUyMHJ1aXoyMDE1YSUyMCUzRCUyMERCJTI4V29ya1VucmVsYXRlZCUyOCUwQSUyMCUyMCUyMCUyMCUyMCUyMCUyMCUyMDIwMTUlMkMlMjAlMjJBJTIwZnJhbWV3b3JrJTIwZm9yJTIwc29mdHdhcmUlMjBwcm9jZXNzJTIwZGVwbG95bWVudCUyMGFuZCUyMGV2YWx1YXRpb24lMjIlMkMlMEElMjAlMjAlMjAlMjAlMjAlMjAlMjAlMjBkaXNwbGF5JTNEJTIycnVpeiUyMiUyQyUwQSUyMCUyMCUyMCUyMCUyMCUyMCUyMCUyMGF1dGhvcnMlM0QlMjJSdWl6LVJ1YmUlMkMlMjBJdmFuJTIwYW5kJTIwTWFudWVsJTIwRG9kZXJvJTJDJTIwSnVhbiUyMGFuZCUyMENvbG9tby1QYWxhY2lvcyUyQyUyMFJpY2FyZG8lMjIlMkMlMEElMjAlMjAlMjAlMjAlMjAlMjAlMjAlMjBwbGFjZSUzREZBS0UlMkMlMEElMjAlMjAlMjAlMjAlMjAlMjAlMjAlMjBwcCUzRCUyMjIwNS0yMjElMjIlMkMlMEElMjAlMjAlMjAlMjAlMjAlMjAlMjAlMjBlbnRyeXR5cGUlM0QlMjJhcnRpY2xlJTIyJTJDJTBBJTIwJTIwJTIwJTIwJTIwJTIwJTIwJTIwdm9sdW1lJTNEJTIyNTklMjIlMkMlMEElMjAlMjAlMjAlMjAlMjAlMjAlMjAlMjBtb250aCUzRCUyMk1BUiUyMiUyQyUwQSUyMCUyMCUyMCUyMCUyMCUyMCUyMCUyMGRvaSUzRCUyMjEwLjEwMTYvai5pbmZzb2YuMjAxNC4xMi4wMDElMjIlMkMlMEElMjAlMjAlMjAlMjAlMjAlMjAlMjAlMjBpc3NuJTNEJTIyMDk1MC01ODQ5JTIyJTJDJTBBJTIwJTIwJTIwJTIwJTIwJTIwJTIwJTIwZWlzc24lM0QlMjIxODczLTYwMjUlMjIlMkMlMEElMjAlMjAlMjAlMjAlMjAlMjAlMjAlMjByZXNlYXJjaGVyaWQtbnVtYmVycyUzRCUyMlRyaXZlZGklMkMlMjBLcnV0aS9FLTc1NTgtMjAxNSUwQURvZGVybyUyQyUyMEp1YW4lMjBNYW51ZWwvRC00MTQzLTIwMDklMEFDb2xvbW8tUGFsYWNpb3MlMkMlMjBSaWNhcmRvL0UtNTEzOS0yMDEwJTIyJTJDJTBBJTIwJTIwJTIwJTIwJTIwJTIwJTIwJTIwb3JjaWQtbnVtYmVycyUzRCUyMkRvZGVybyUyQyUyMEp1YW4lMjBNYW51ZWwvMDAwMC0wMDAyLTQxMDUtNTY3OSUwQUNvbG9tby1QYWxhY2lvcyUyQyUyMFJpY2FyZG8vMDAwMC0wMDAyLTE1NTUtOTcyNiUyMiUyQyUwQSUyMCUyMCUyMCUyMCUyMCUyMCUyMCUyMHVuaXF1ZS1pZCUzRCUyMklTSSUzQTAwMDM0OTQyNzIwMDAxMiUyMiUyQyUwQSUyMCUyMCUyMCUyMCUyMCUyMCUyMCUyMElEJTNEJTIySVNJJTNBMDAwMzQ5NDI3MjAwMDEyJTIyJTJDJTBBJTIwJTIwJTIwJTIwJTIwJTIwJTIwJTIwd2Vib2ZzY2llbmNlMjAxNSUzRCUyMjElMjIlMkMlMEElMjAlMjAlMjAlMjAlMjAlMjAlMjAlMjBwbGFjZXglM0QlMjJJTkZPUk1BVElPTiUyMEFORCUyMFNPRlRXQVJFJTIwVEVDSE5PTE9HWSUyMiUyQyUwQSUyMCUyMCUyMCUyMCUyOSUyOSUwQSUyNyUyNyUyNyUyOSUzQg==\")));\n",
       "    "
      ],
      "text/plain": [
       "<IPython.core.display.Javascript object>"
      ]
     },
     "metadata": {},
     "output_type": "display_data"
    },
    {
     "data": {
      "application/javascript": [
       "$('span:contains(\"# Temp\")').closest('.cell').remove();"
      ],
      "text/plain": [
       "<IPython.core.display.Javascript object>"
      ]
     },
     "metadata": {},
     "output_type": "display_data"
    },
    {
     "data": {
      "application/javascript": [
       "\n",
       "        $('span:contains(\"# Temp\")').closest('.cell').remove();\n",
       "        var code = IPython.notebook.insert_cell_below('code');\n",
       "        code.set_text(decodeURIComponent(window.atob(\"JTIzJTIwVGVtcCUwQWluc2VydCUyOCUyNyUyNyUyNyUyNyUyNyUyNyUyOSUzQiUwQXNldF9hdHRyaWJ1dGUlMjglMjd3b2hsaW4yMDE1YSUyNyUyQyUyMCUyN21vbnRoJTI3JTJDJTIwJTI3Tk9WJTI3JTI5JTNCJTBBc2V0X2F0dHJpYnV0ZSUyOCUyN3dvaGxpbjIwMTVhJTI3JTJDJTIwJTI3ZWlzc24lMjclMkMlMjAlMjcxODczLTEyMjglMjclMjklM0IlMEFzZXRfYXR0cmlidXRlJTI4JTI3d29obGluMjAxNWElMjclMkMlMjAlMjdvcmNpZC1udW1iZXJzJTI3JTJDJTIwJTI3TW9lJTJDJTIwTmlscyUyMEJyZWRlLzAwMDAtMDAwMy0yNjY5LTA3NzglMEFXb2hsaW4lMkMlMjBDbGFlcy8wMDAwLTAwMDMtMDQ2MC01MjUzJTI3JTI5JTNCJTBBc2V0X2F0dHJpYnV0ZSUyOCUyN3dvaGxpbjIwMTVhJTI3JTJDJTIwJTI3dW5pcXVlLWlkJTI3JTJDJTIwJTI3SVNJJTNBMDAwMzYyMTM3NzAwMDE3JTI3JTI5JTNCJTBBc2V0X2F0dHJpYnV0ZSUyOCUyN3dvaGxpbjIwMTVhJTI3JTJDJTIwJTI3d2Vib2ZzY2llbmNlMjAxNSUyNyUyQyUyMCUyNzElMjclMjklM0I=\")));\n",
       "    "
      ],
      "text/plain": [
       "<IPython.core.display.Javascript object>"
      ]
     },
     "metadata": {},
     "output_type": "display_data"
    },
    {
     "data": {
      "application/javascript": [
       "$('span:contains(\"# Temp\")').closest('.cell').remove();"
      ],
      "text/plain": [
       "<IPython.core.display.Javascript object>"
      ]
     },
     "metadata": {},
     "output_type": "display_data"
    },
    {
     "data": {
      "application/javascript": [
       "\n",
       "        $('span:contains(\"# Temp\")').closest('.cell').remove();\n",
       "        var code = IPython.notebook.insert_cell_below('code');\n",
       "        code.set_text(decodeURIComponent(window.atob(\"JTIzJTIwVGVtcCUwQWluc2VydCUyOCUyNyUyNyUyNyUyNyUyNyUyNyUyOSUzQiUwQXNldF9hdHRyaWJ1dGUlMjglMjd3b2hsaW4yMDE1YSUyNyUyQyUyMCUyN21vbnRoJTI3JTJDJTIwJTI3Tk9WJTI3JTI5JTNCJTBBc2V0X2F0dHJpYnV0ZSUyOCUyN3dvaGxpbjIwMTVhJTI3JTJDJTIwJTI3ZWlzc24lMjclMkMlMjAlMjcxODczLTEyMjglMjclMjklM0IlMEFzZXRfYXR0cmlidXRlJTI4JTI3d29obGluMjAxNWElMjclMkMlMjAlMjdvcmNpZC1udW1iZXJzJTI3JTJDJTIwJTI3TW9lJTJDJTIwTmlscyUyMEJyZWRlLzAwMDAtMDAwMy0yNjY5LTA3NzglMEFXb2hsaW4lMkMlMjBDbGFlcy8wMDAwLTAwMDMtMDQ2MC01MjUzJTI3JTI5JTNCJTBBc2V0X2F0dHJpYnV0ZSUyOCUyN3dvaGxpbjIwMTVhJTI3JTJDJTIwJTI3dW5pcXVlLWlkJTI3JTJDJTIwJTI3SVNJJTNBMDAwMzYyMTM3NzAwMDE3JTI3JTI5JTNCJTBBc2V0X2F0dHJpYnV0ZSUyOCUyN3dvaGxpbjIwMTVhJTI3JTJDJTIwJTI3d2Vib2ZzY2llbmNlMjAxNSUyNyUyQyUyMCUyNzElMjclMjklM0I=\")));\n",
       "    "
      ],
      "text/plain": [
       "<IPython.core.display.Javascript object>"
      ]
     },
     "metadata": {},
     "output_type": "display_data"
    },
    {
     "data": {
      "application/javascript": [
       "$('span:contains(\"# Temp\")').closest('.cell').remove();"
      ],
      "text/plain": [
       "<IPython.core.display.Javascript object>"
      ]
     },
     "metadata": {},
     "output_type": "display_data"
    },
    {
     "data": {
      "application/javascript": [
       "\n",
       "        $('span:contains(\"# Temp\")').closest('.cell').remove();\n",
       "        var code = IPython.notebook.insert_cell_below('code');\n",
       "        code.set_text(decodeURIComponent(window.atob(\"JTIzJTIwVGVtcCUwQWluc2VydCUyOCUyNyUyNyUyNyUwQSUyMCUyMCUyMCUyMHRhbnJpb3ZlcjIwMTVhJTIwJTNEJTIwREIlMjhXb3JrVW5yZWxhdGVkJTI4JTBBJTIwJTIwJTIwJTIwJTIwJTIwJTIwJTIwMjAxNSUyQyUyMCUyMkElMjBwcm9jZXNzJTIwY2FwYWJpbGl0eSUyMGJhc2VkJTIwYXNzZXNzbWVudCUyMG1vZGVsJTIwZm9yJTIwc29mdHdhcmUlMjB3b3JrZm9yY2UlMjBpbiUwQWVtZXJnZW50JTIwc29mdHdhcmUlMjBvcmdhbml6YXRpb25zJTIyJTJDJTBBJTIwJTIwJTIwJTIwJTIwJTIwJTIwJTIwZGlzcGxheSUzRCUyMnRhbnJpb3ZlciUyMiUyQyUwQSUyMCUyMCUyMCUyMCUyMCUyMCUyMCUyMGF1dGhvcnMlM0QlMjJUYW5yaW92ZXIlMkMlMjBPLiUyME96Z3VyJTIwYW5kJTIwRGVtaXJvcnMlMkMlMjBPbnVyJTIyJTJDJTBBJTIwJTIwJTIwJTIwJTIwJTIwJTIwJTIwcGxhY2UlM0RGQUtFJTJDJTBBJTIwJTIwJTIwJTIwJTIwJTIwJTIwJTIwcHAlM0QlMjIyOS00MCUyMiUyQyUwQSUyMCUyMCUyMCUyMCUyMCUyMCUyMCUyMGVudHJ5dHlwZSUzRCUyMmFydGljbGUlMjIlMkMlMEElMjAlMjAlMjAlMjAlMjAlMjAlMjAlMjB2b2x1bWUlM0QlMjIzNyUyMiUyQyUwQSUyMCUyMCUyMCUyMCUyMCUyMCUyMCUyMG1vbnRoJTNEJTIySkFOJTIyJTJDJTBBJTIwJTIwJTIwJTIwJTIwJTIwJTIwJTIwZG9pJTNEJTIyMTAuMTAxNi9qLmNzaS4yMDE0LjA1LjAwMyUyMiUyQyUwQSUyMCUyMCUyMCUyMCUyMCUyMCUyMCUyMGlzc24lM0QlMjIwOTIwLTU0ODklMjIlMkMlMEElMjAlMjAlMjAlMjAlMjAlMjAlMjAlMjBlaXNzbiUzRCUyMjE4NzItNzAxOCUyMiUyQyUwQSUyMCUyMCUyMCUyMCUyMCUyMCUyMCUyMG9yY2lkLW51bWJlcnMlM0QlMjJEZW1pcm9ycyUyQyUyME9udXIvMDAwMC0wMDAxLTY2MDEtMzkzNyUyMiUyQyUwQSUyMCUyMCUyMCUyMCUyMCUyMCUyMCUyMHVuaXF1ZS1pZCUzRCUyMklTSSUzQTAwMDM0MzYzMzQwMDAwNCUyMiUyQyUwQSUyMCUyMCUyMCUyMCUyMCUyMCUyMCUyMElEJTNEJTIySVNJJTNBMDAwMzQzNjMzNDAwMDA0JTIyJTJDJTBBJTIwJTIwJTIwJTIwJTIwJTIwJTIwJTIwd2Vib2ZzY2llbmNlMjAxNSUzRCUyMjElMjIlMkMlMEElMjAlMjAlMjAlMjAlMjAlMjAlMjAlMjBwbGFjZXglM0QlMjJDT01QVVRFUiUyMFNUQU5EQVJEUyUyMCUyNiUyMElOVEVSRkFDRVMlMjIlMkMlMEElMjAlMjAlMjAlMjAlMjklMjklMEElMjclMjclMjclMjklM0I=\")));\n",
       "    "
      ],
      "text/plain": [
       "<IPython.core.display.Javascript object>"
      ]
     },
     "metadata": {},
     "output_type": "display_data"
    },
    {
     "data": {
      "application/javascript": [
       "$('span:contains(\"# Temp\")').closest('.cell').remove();"
      ],
      "text/plain": [
       "<IPython.core.display.Javascript object>"
      ]
     },
     "metadata": {},
     "output_type": "display_data"
    },
    {
     "data": {
      "application/javascript": [
       "\n",
       "        $('span:contains(\"# Temp\")').closest('.cell').remove();\n",
       "        var code = IPython.notebook.insert_cell_below('code');\n",
       "        code.set_text(decodeURIComponent(window.atob(\"JTIzJTIwVGVtcCUwQWluc2VydCUyOCUyNyUyNyUyNyUwQSUyMCUyMCUyMCUyMHRhbnJpb3ZlcjIwMTVhJTIwJTNEJTIwREIlMjhXb3JrVW5yZWxhdGVkJTI4JTBBJTIwJTIwJTIwJTIwJTIwJTIwJTIwJTIwMjAxNSUyQyUyMCUyMkElMjBwcm9jZXNzJTIwY2FwYWJpbGl0eSUyMGJhc2VkJTIwYXNzZXNzbWVudCUyMG1vZGVsJTIwZm9yJTIwc29mdHdhcmUlMjB3b3JrZm9yY2UlMjBpbiUwQWVtZXJnZW50JTIwc29mdHdhcmUlMjBvcmdhbml6YXRpb25zJTIyJTJDJTBBJTIwJTIwJTIwJTIwJTIwJTIwJTIwJTIwZGlzcGxheSUzRCUyMnRhbnJpb3ZlciUyMiUyQyUwQSUyMCUyMCUyMCUyMCUyMCUyMCUyMCUyMGF1dGhvcnMlM0QlMjJUYW5yaW92ZXIlMkMlMjBPLiUyME96Z3VyJTIwYW5kJTIwRGVtaXJvcnMlMkMlMjBPbnVyJTIyJTJDJTBBJTIwJTIwJTIwJTIwJTIwJTIwJTIwJTIwcGxhY2UlM0RGQUtFJTJDJTBBJTIwJTIwJTIwJTIwJTIwJTIwJTIwJTIwcHAlM0QlMjIyOS00MCUyMiUyQyUwQSUyMCUyMCUyMCUyMCUyMCUyMCUyMCUyMGVudHJ5dHlwZSUzRCUyMmFydGljbGUlMjIlMkMlMEElMjAlMjAlMjAlMjAlMjAlMjAlMjAlMjB2b2x1bWUlM0QlMjIzNyUyMiUyQyUwQSUyMCUyMCUyMCUyMCUyMCUyMCUyMCUyMG1vbnRoJTNEJTIySkFOJTIyJTJDJTBBJTIwJTIwJTIwJTIwJTIwJTIwJTIwJTIwZG9pJTNEJTIyMTAuMTAxNi9qLmNzaS4yMDE0LjA1LjAwMyUyMiUyQyUwQSUyMCUyMCUyMCUyMCUyMCUyMCUyMCUyMGlzc24lM0QlMjIwOTIwLTU0ODklMjIlMkMlMEElMjAlMjAlMjAlMjAlMjAlMjAlMjAlMjBlaXNzbiUzRCUyMjE4NzItNzAxOCUyMiUyQyUwQSUyMCUyMCUyMCUyMCUyMCUyMCUyMCUyMG9yY2lkLW51bWJlcnMlM0QlMjJEZW1pcm9ycyUyQyUyME9udXIvMDAwMC0wMDAxLTY2MDEtMzkzNyUyMiUyQyUwQSUyMCUyMCUyMCUyMCUyMCUyMCUyMCUyMHVuaXF1ZS1pZCUzRCUyMklTSSUzQTAwMDM0MzYzMzQwMDAwNCUyMiUyQyUwQSUyMCUyMCUyMCUyMCUyMCUyMCUyMCUyMElEJTNEJTIySVNJJTNBMDAwMzQzNjMzNDAwMDA0JTIyJTJDJTBBJTIwJTIwJTIwJTIwJTIwJTIwJTIwJTIwd2Vib2ZzY2llbmNlMjAxNSUzRCUyMjElMjIlMkMlMEElMjAlMjAlMjAlMjAlMjAlMjAlMjAlMjBwbGFjZXglM0QlMjJDT01QVVRFUiUyMFNUQU5EQVJEUyUyMCUyNiUyMElOVEVSRkFDRVMlMjIlMkMlMEElMjAlMjAlMjAlMjAlMjklMjklMEElMjclMjclMjclMjklM0I=\")));\n",
       "    "
      ],
      "text/plain": [
       "<IPython.core.display.Javascript object>"
      ]
     },
     "metadata": {},
     "output_type": "display_data"
    },
    {
     "data": {
      "application/javascript": [
       "$('span:contains(\"# Temp\")').closest('.cell').remove();"
      ],
      "text/plain": [
       "<IPython.core.display.Javascript object>"
      ]
     },
     "metadata": {},
     "output_type": "display_data"
    },
    {
     "data": {
      "application/javascript": [
       "\n",
       "        $('span:contains(\"# Temp\")').closest('.cell').remove();\n",
       "        var code = IPython.notebook.insert_cell_below('code');\n",
       "        code.set_text(decodeURIComponent(window.atob(\"JTIzJTIwVGVtcCUwQWluc2VydCUyOCUyNyUyNyUyNyUwQXJpY2hhcmRzb24yMDEyYSUyMCUzRCUyMERCJTI4V29ya1VucmVsYXRlZCUyOCUwQSUyMCUyMCUyMCUyMDIwMTIlMkMlMjAlMjJBJTIwUHJvY2VzcyUyMEZyYW1ld29yayUyMGZvciUyMEdsb2JhbCUyMFNvZnR3YXJlJTIwRW5naW5lZXJpbmclMjBUZWFtcyUyMiUyQyUwQSUyMCUyMCUyMCUyMGRpc3BsYXklM0QlMjJyaWNoYXJkc29uJTIyJTJDJTBBJTIwJTIwJTIwJTIwYXV0aG9ycyUzRCUyMlJpY2hhcmRzb24lMkMlMjBJdGElMjBhbmQlMjBDYXNleSUyQyUyMFZhbGVudGluZSUyMGFuZCUyME1jQ2FmZmVyeSUyQyUyMEZlcmdhbCUyMGFuZCUyMEJ1cnRvbiUyQyUyMEpvaG4lMjBhbmQlMjBCZWVjaGFtJTJDJTIwU2FyYWglMjIlMkMlMEElMjAlMjAlMjAlMjBwbGFjZSUzREZBS0UlMkMlMEElMjAlMjAlMjAlMjBwcCUzRCUyMjExNzUtMTE5MSUyMiUyQyUwQSUyMCUyMCUyMCUyMGVudHJ5dHlwZSUzRCUyMmFydGljbGUlMjIlMkMlMEElMjAlMjAlMjAlMjB2b2x1bWUlM0QlMjI1NCUyMiUyQyUwQSUyMCUyMCUyMCUyMG51bWJlciUzRCUyMjExJTIyJTJDJTBBJTIwJTIwJTIwJTIwbW9udGglM0QlMjJOT1YlMjIlMkMlMEElMjAlMjAlMjAlMjBkb2klM0QlMjIxMC4xMDE2L2ouaW5mc29mLjIwMTIuMDUuMDAyJTIyJTJDJTBBJTIwJTIwJTIwJTIwaXNzbiUzRCUyMjA5NTAtNTg0OSUyMiUyQyUwQSUyMCUyMCUyMCUyMHVuaXF1ZS1pZCUzRCUyMklTSSUzQTAwMDMwODM4NzUwMDAwMiUyMiUyQyUwQSUyMCUyMCUyMCUyMElEJTNEJTIySVNJJTNBMDAwMzA4Mzg3NTAwMDAyJTIyJTJDJTBBJTIwJTIwJTIwJTIwd2Vib2ZzY2llbmNlMjAxNSUzRCUyMjElMjIlMkMlMEElMjAlMjAlMjAlMjBwbGFjZXglM0QlMjJJTkZPUk1BVElPTiUyMEFORCUyMFNPRlRXQVJFJTIwVEVDSE5PTE9HWSUyMiUyQyUwQSUyOSUyOSUwQSUyNyUyNyUyNyUyOSUzQg==\")));\n",
       "    "
      ],
      "text/plain": [
       "<IPython.core.display.Javascript object>"
      ]
     },
     "metadata": {},
     "output_type": "display_data"
    },
    {
     "data": {
      "application/javascript": [
       "$('span:contains(\"# Temp\")').closest('.cell').remove();"
      ],
      "text/plain": [
       "<IPython.core.display.Javascript object>"
      ]
     },
     "metadata": {},
     "output_type": "display_data"
    },
    {
     "data": {
      "application/javascript": [
       "\n",
       "        $('span:contains(\"# Temp\")').closest('.cell').remove();\n",
       "        var code = IPython.notebook.insert_cell_below('code');\n",
       "        code.set_text(decodeURIComponent(window.atob(\"JTIzJTIwVGVtcCUwQWluc2VydCUyOCUyNyUyNyUyNyUwQXJpY2hhcmRzb24yMDEyYSUyMCUzRCUyMERCJTI4V29ya1VucmVsYXRlZCUyOCUwQSUyMCUyMCUyMCUyMDIwMTIlMkMlMjAlMjJBJTIwUHJvY2VzcyUyMEZyYW1ld29yayUyMGZvciUyMEdsb2JhbCUyMFNvZnR3YXJlJTIwRW5naW5lZXJpbmclMjBUZWFtcyUyMiUyQyUwQSUyMCUyMCUyMCUyMGRpc3BsYXklM0QlMjJyaWNoYXJkc29uJTIyJTJDJTBBJTIwJTIwJTIwJTIwYXV0aG9ycyUzRCUyMlJpY2hhcmRzb24lMkMlMjBJdGElMjBhbmQlMjBDYXNleSUyQyUyMFZhbGVudGluZSUyMGFuZCUyME1jQ2FmZmVyeSUyQyUyMEZlcmdhbCUyMGFuZCUyMEJ1cnRvbiUyQyUyMEpvaG4lMjBhbmQlMjBCZWVjaGFtJTJDJTIwU2FyYWglMjIlMkMlMEElMjAlMjAlMjAlMjBwbGFjZSUzREZBS0UlMkMlMEElMjAlMjAlMjAlMjBwcCUzRCUyMjExNzUtMTE5MSUyMiUyQyUwQSUyMCUyMCUyMCUyMGVudHJ5dHlwZSUzRCUyMmFydGljbGUlMjIlMkMlMEElMjAlMjAlMjAlMjB2b2x1bWUlM0QlMjI1NCUyMiUyQyUwQSUyMCUyMCUyMCUyMG51bWJlciUzRCUyMjExJTIyJTJDJTBBJTIwJTIwJTIwJTIwbW9udGglM0QlMjJOT1YlMjIlMkMlMEElMjAlMjAlMjAlMjBkb2klM0QlMjIxMC4xMDE2L2ouaW5mc29mLjIwMTIuMDUuMDAyJTIyJTJDJTBBJTIwJTIwJTIwJTIwaXNzbiUzRCUyMjA5NTAtNTg0OSUyMiUyQyUwQSUyMCUyMCUyMCUyMHVuaXF1ZS1pZCUzRCUyMklTSSUzQTAwMDMwODM4NzUwMDAwMiUyMiUyQyUwQSUyMCUyMCUyMCUyMElEJTNEJTIySVNJJTNBMDAwMzA4Mzg3NTAwMDAyJTIyJTJDJTBBJTIwJTIwJTIwJTIwd2Vib2ZzY2llbmNlMjAxNSUzRCUyMjElMjIlMkMlMEElMjAlMjAlMjAlMjBwbGFjZXglM0QlMjJJTkZPUk1BVElPTiUyMEFORCUyMFNPRlRXQVJFJTIwVEVDSE5PTE9HWSUyMiUyQyUwQSUyOSUyOSUwQSUyNyUyNyUyNyUyOSUzQg==\")));\n",
       "    "
      ],
      "text/plain": [
       "<IPython.core.display.Javascript object>"
      ]
     },
     "metadata": {},
     "output_type": "display_data"
    },
    {
     "data": {
      "application/javascript": [
       "$('span:contains(\"# Temp\")').closest('.cell').remove();"
      ],
      "text/plain": [
       "<IPython.core.display.Javascript object>"
      ]
     },
     "metadata": {},
     "output_type": "display_data"
    },
    {
     "data": {
      "application/javascript": [
       "\n",
       "        $('span:contains(\"# Temp\")').closest('.cell').remove();\n",
       "        var code = IPython.notebook.insert_cell_below('code');\n",
       "        code.set_text(decodeURIComponent(window.atob(\"JTIzJTIwVGVtcCUwQWluc2VydCUyOCUyNyUyNyUyNyUyNyUyNyUyNyUyOSUzQiUwQXNldF9hdHRyaWJ1dGUlMjglMjdqYWhhbmdpcmlhbjIwMTFhJTI3JTJDJTIwJTI3bW9udGglMjclMkMlMjAlMjdKVU4lMjclMjklM0IlMEFzZXRfYXR0cmlidXRlJTI4JTI3amFoYW5naXJpYW4yMDExYSUyNyUyQyUyMCUyN3Jlc2VhcmNoZXJpZC1udW1iZXJzJTI3JTJDJTIwJTI3R2FyZyUyQyUyMExhbGl0L0YtMTA5Ny0yMDEwJTBBJTI3JTI5JTNCJTBBc2V0X2F0dHJpYnV0ZSUyOCUyN2phaGFuZ2lyaWFuMjAxMWElMjclMkMlMjAlMjdvcmNpZC1udW1iZXJzJTI3JTJDJTIwJTI3R2FyZyUyQyUyMExhbGl0LzAwMDAtMDAwMi0zODY4LTA0ODElMEFFbGRhYmklMkMlMjBUaWxsYWwvMDAwMC0wMDAyLTAwNDUtNDA3NSUwQVlvdW5nJTJDJTIwVGVycnkvMDAwMC0wMDAxLTk1NDUtMjI2OSUyNyUyOSUzQiUwQXNldF9hdHRyaWJ1dGUlMjglMjdqYWhhbmdpcmlhbjIwMTFhJTI3JTJDJTIwJTI3dW5pcXVlLWlkJTI3JTJDJTIwJTI3SVNJJTNBMDAwMjkwODM2MDAwMDA3JTI3JTI5JTNCJTBBc2V0X2F0dHJpYnV0ZSUyOCUyN2phaGFuZ2lyaWFuMjAxMWElMjclMkMlMjAlMjd3ZWJvZnNjaWVuY2UyMDE1JTI3JTJDJTIwJTI3MSUyNyUyOSUzQg==\")));\n",
       "    "
      ],
      "text/plain": [
       "<IPython.core.display.Javascript object>"
      ]
     },
     "metadata": {},
     "output_type": "display_data"
    },
    {
     "data": {
      "application/javascript": [
       "$('span:contains(\"# Temp\")').closest('.cell').remove();"
      ],
      "text/plain": [
       "<IPython.core.display.Javascript object>"
      ]
     },
     "metadata": {},
     "output_type": "display_data"
    },
    {
     "data": {
      "application/javascript": [
       "\n",
       "        $('span:contains(\"# Temp\")').closest('.cell').remove();\n",
       "        var code = IPython.notebook.insert_cell_below('code');\n",
       "        code.set_text(decodeURIComponent(window.atob(\"JTIzJTIwVGVtcCUwQWluc2VydCUyOCUyNyUyNyUyNyUyNyUyNyUyNyUyOSUzQiUwQXNldF9hdHRyaWJ1dGUlMjglMjdqYWhhbmdpcmlhbjIwMTFhJTI3JTJDJTIwJTI3bW9udGglMjclMkMlMjAlMjdKVU4lMjclMjklM0IlMEFzZXRfYXR0cmlidXRlJTI4JTI3amFoYW5naXJpYW4yMDExYSUyNyUyQyUyMCUyN3Jlc2VhcmNoZXJpZC1udW1iZXJzJTI3JTJDJTIwJTI3R2FyZyUyQyUyMExhbGl0L0YtMTA5Ny0yMDEwJTBBJTI3JTI5JTNCJTBBc2V0X2F0dHJpYnV0ZSUyOCUyN2phaGFuZ2lyaWFuMjAxMWElMjclMkMlMjAlMjdvcmNpZC1udW1iZXJzJTI3JTJDJTIwJTI3R2FyZyUyQyUyMExhbGl0LzAwMDAtMDAwMi0zODY4LTA0ODElMEFFbGRhYmklMkMlMjBUaWxsYWwvMDAwMC0wMDAyLTAwNDUtNDA3NSUwQVlvdW5nJTJDJTIwVGVycnkvMDAwMC0wMDAxLTk1NDUtMjI2OSUyNyUyOSUzQiUwQXNldF9hdHRyaWJ1dGUlMjglMjdqYWhhbmdpcmlhbjIwMTFhJTI3JTJDJTIwJTI3dW5pcXVlLWlkJTI3JTJDJTIwJTI3SVNJJTNBMDAwMjkwODM2MDAwMDA3JTI3JTI5JTNCJTBBc2V0X2F0dHJpYnV0ZSUyOCUyN2phaGFuZ2lyaWFuMjAxMWElMjclMkMlMjAlMjd3ZWJvZnNjaWVuY2UyMDE1JTI3JTJDJTIwJTI3MSUyNyUyOSUzQg==\")));\n",
       "    "
      ],
      "text/plain": [
       "<IPython.core.display.Javascript object>"
      ]
     },
     "metadata": {},
     "output_type": "display_data"
    },
    {
     "data": {
      "application/javascript": [
       "$('span:contains(\"# Temp\")').closest('.cell').remove();"
      ],
      "text/plain": [
       "<IPython.core.display.Javascript object>"
      ]
     },
     "metadata": {},
     "output_type": "display_data"
    },
    {
     "data": {
      "application/javascript": [
       "\n",
       "        $('span:contains(\"# Temp\")').closest('.cell').remove();\n",
       "        var code = IPython.notebook.insert_cell_below('code');\n",
       "        code.set_text(decodeURIComponent(window.atob(\"JTIzJTIwVGVtcCUwQWluc2VydCUyOCUyNyUyNyUyNyUwQWdhcm91c2kyMDEzYSUyMCUzRCUyMERCJTI4V29ya1VucmVsYXRlZCUyOCUwQSUyMCUyMCUyMCUyMDIwMTMlMkMlMjAlMjJBJTIwc3VydmV5JTIwb2YlMjBzb2Z0d2FyZSUyMHRlc3RpbmclMjBwcmFjdGljZXMlMjBpbiUyMENhbmFkYSUyMiUyQyUwQSUyMCUyMCUyMCUyMGRpc3BsYXklM0QlMjJnYXJvdXNpJTIyJTJDJTBBJTIwJTIwJTIwJTIwYXV0aG9ycyUzRCUyMkdhcm91c2klMkMlMjBWYWhpZCUyMGFuZCUyMFpoaSUyQyUyMEp1bmppJTIyJTJDJTBBJTIwJTIwJTIwJTIwcGxhY2UlM0RGQUtFJTJDJTBBJTIwJTIwJTIwJTIwcHAlM0QlMjIxMzU0LTEzNzYlMjIlMkMlMEElMjAlMjAlMjAlMjBlbnRyeXR5cGUlM0QlMjJhcnRpY2xlJTIyJTJDJTBBJTIwJTIwJTIwJTIwdm9sdW1lJTNEJTIyODYlMjIlMkMlMEElMjAlMjAlMjAlMjBudW1iZXIlM0QlMjI1JTIyJTJDJTBBJTIwJTIwJTIwJTIwbW9udGglM0QlMjJNQVklMjIlMkMlMEElMjAlMjAlMjAlMjBkb2klM0QlMjIxMC4xMDE2L2ouanNzLjIwMTIuMTIuMDUxJTIyJTJDJTBBJTIwJTIwJTIwJTIwaXNzbiUzRCUyMjAxNjQtMTIxMiUyMiUyQyUwQSUyMCUyMCUyMCUyMGVpc3NuJTNEJTIyMTg3My0xMjI4JTIyJTJDJTBBJTIwJTIwJTIwJTIwb3JjaWQtbnVtYmVycyUzRCUyMkdhcm91c2klMkMlMjBWYWhpZC8wMDAwLTAwMDEtNjU5MC03NTc2JTIyJTJDJTBBJTIwJTIwJTIwJTIwdW5pcXVlLWlkJTNEJTIySVNJJTNBMDAwMzE3MzIyNDAwMDE0JTIyJTJDJTBBJTIwJTIwJTIwJTIwSUQlM0QlMjJJU0klM0EwMDAzMTczMjI0MDAwMTQlMjIlMkMlMEElMjAlMjAlMjAlMjB3ZWJvZnNjaWVuY2UyMDE1JTNEJTIyMSUyMiUyQyUwQSUyMCUyMCUyMCUyMHBsYWNleCUzRCUyMkpPVVJOQUwlMjBPRiUyMFNZU1RFTVMlMjBBTkQlMjBTT0ZUV0FSRSUyMiUyQyUwQSUyOSUyOSUwQSUyNyUyNyUyNyUyOSUzQg==\")));\n",
       "    "
      ],
      "text/plain": [
       "<IPython.core.display.Javascript object>"
      ]
     },
     "metadata": {},
     "output_type": "display_data"
    },
    {
     "data": {
      "application/javascript": [
       "$('span:contains(\"# Temp\")').closest('.cell').remove();"
      ],
      "text/plain": [
       "<IPython.core.display.Javascript object>"
      ]
     },
     "metadata": {},
     "output_type": "display_data"
    },
    {
     "data": {
      "application/javascript": [
       "\n",
       "        $('span:contains(\"# Temp\")').closest('.cell').remove();\n",
       "        var code = IPython.notebook.insert_cell_below('code');\n",
       "        code.set_text(decodeURIComponent(window.atob(\"JTIzJTIwVGVtcCUwQWluc2VydCUyOCUyNyUyNyUyNyUwQWdhcm91c2kyMDEzYSUyMCUzRCUyMERCJTI4V29ya1VucmVsYXRlZCUyOCUwQSUyMCUyMCUyMCUyMDIwMTMlMkMlMjAlMjJBJTIwc3VydmV5JTIwb2YlMjBzb2Z0d2FyZSUyMHRlc3RpbmclMjBwcmFjdGljZXMlMjBpbiUyMENhbmFkYSUyMiUyQyUwQSUyMCUyMCUyMCUyMGRpc3BsYXklM0QlMjJnYXJvdXNpJTIyJTJDJTBBJTIwJTIwJTIwJTIwYXV0aG9ycyUzRCUyMkdhcm91c2klMkMlMjBWYWhpZCUyMGFuZCUyMFpoaSUyQyUyMEp1bmppJTIyJTJDJTBBJTIwJTIwJTIwJTIwcGxhY2UlM0RGQUtFJTJDJTBBJTIwJTIwJTIwJTIwcHAlM0QlMjIxMzU0LTEzNzYlMjIlMkMlMEElMjAlMjAlMjAlMjBlbnRyeXR5cGUlM0QlMjJhcnRpY2xlJTIyJTJDJTBBJTIwJTIwJTIwJTIwdm9sdW1lJTNEJTIyODYlMjIlMkMlMEElMjAlMjAlMjAlMjBudW1iZXIlM0QlMjI1JTIyJTJDJTBBJTIwJTIwJTIwJTIwbW9udGglM0QlMjJNQVklMjIlMkMlMEElMjAlMjAlMjAlMjBkb2klM0QlMjIxMC4xMDE2L2ouanNzLjIwMTIuMTIuMDUxJTIyJTJDJTBBJTIwJTIwJTIwJTIwaXNzbiUzRCUyMjAxNjQtMTIxMiUyMiUyQyUwQSUyMCUyMCUyMCUyMGVpc3NuJTNEJTIyMTg3My0xMjI4JTIyJTJDJTBBJTIwJTIwJTIwJTIwb3JjaWQtbnVtYmVycyUzRCUyMkdhcm91c2klMkMlMjBWYWhpZC8wMDAwLTAwMDEtNjU5MC03NTc2JTIyJTJDJTBBJTIwJTIwJTIwJTIwdW5pcXVlLWlkJTNEJTIySVNJJTNBMDAwMzE3MzIyNDAwMDE0JTIyJTJDJTBBJTIwJTIwJTIwJTIwSUQlM0QlMjJJU0klM0EwMDAzMTczMjI0MDAwMTQlMjIlMkMlMEElMjAlMjAlMjAlMjB3ZWJvZnNjaWVuY2UyMDE1JTNEJTIyMSUyMiUyQyUwQSUyMCUyMCUyMCUyMHBsYWNleCUzRCUyMkpPVVJOQUwlMjBPRiUyMFNZU1RFTVMlMjBBTkQlMjBTT0ZUV0FSRSUyMiUyQyUwQSUyOSUyOSUwQSUyNyUyNyUyNyUyOSUzQg==\")));\n",
       "    "
      ],
      "text/plain": [
       "<IPython.core.display.Javascript object>"
      ]
     },
     "metadata": {},
     "output_type": "display_data"
    },
    {
     "data": {
      "application/javascript": [
       "$('span:contains(\"# Temp\")').closest('.cell').remove();"
      ],
      "text/plain": [
       "<IPython.core.display.Javascript object>"
      ]
     },
     "metadata": {},
     "output_type": "display_data"
    },
    {
     "data": {
      "application/javascript": [
       "\n",
       "        $('span:contains(\"# Temp\")').closest('.cell').remove();\n",
       "        var code = IPython.notebook.insert_cell_below('code');\n",
       "        code.set_text(decodeURIComponent(window.atob(\"JTIzJTIwVGVtcCUwQWluc2VydCUyOCUyNyUyNyUyNyUwQSUyMCUyMCUyMCUyMGhvbGwyMDEyYSUyMCUzRCUyMERCJTI4V29ya1VucmVsYXRlZCUyOCUwQSUyMCUyMCUyMCUyMCUyMCUyMCUyMCUyMDIwMTIlMkMlMjAlMjJBJTIwc3lzdGVtYXRpYyUyMHJldmlldyUyMGFuZCUyMGFuJTIwZXhwZXJ0JTIwc3VydmV5JTIwb24lMjBjYXBhYmlsaXRpZXMlMjBzdXBwb3J0aW5nJTBBbXVsdGklMjBwcm9kdWN0JTIwbGluZXMlMjIlMkMlMEElMjAlMjAlMjAlMjAlMjAlMjAlMjAlMjBkaXNwbGF5JTNEJTIyaG9sbCUyMiUyQyUwQSUyMCUyMCUyMCUyMCUyMCUyMCUyMCUyMGF1dGhvcnMlM0QlMjJIb2xsJTJDJTIwR2VyYWxkJTIwYW5kJTIwR3J1ZW5iYWNoZXIlMkMlMjBQYXVsJTIwYW5kJTIwUmFiaXNlciUyQyUyMFJpY2slMjIlMkMlMEElMjAlMjAlMjAlMjAlMjAlMjAlMjAlMjBwbGFjZSUzREZBS0UlMkMlMEElMjAlMjAlMjAlMjAlMjAlMjAlMjAlMjBwcCUzRCUyMjgyOC04NTIlMjIlMkMlMEElMjAlMjAlMjAlMjAlMjAlMjAlMjAlMjBlbnRyeXR5cGUlM0QlMjJhcnRpY2xlJTIyJTJDJTBBJTIwJTIwJTIwJTIwJTIwJTIwJTIwJTIwdm9sdW1lJTNEJTIyNTQlMjIlMkMlMEElMjAlMjAlMjAlMjAlMjAlMjAlMjAlMjBudW1iZXIlM0QlMjI4JTJDJTIwU0klMjIlMkMlMEElMjAlMjAlMjAlMjAlMjAlMjAlMjAlMjBtb250aCUzRCUyMkFVRyUyMiUyQyUwQSUyMCUyMCUyMCUyMCUyMCUyMCUyMCUyMGRvaSUzRCUyMjEwLjEwMTYvai5pbmZzb2YuMjAxMi4wMi4wMDIlMjIlMkMlMEElMjAlMjAlMjAlMjAlMjAlMjAlMjAlMjBpc3NuJTNEJTIyMDk1MC01ODQ5JTIyJTJDJTBBJTIwJTIwJTIwJTIwJTIwJTIwJTIwJTIwZWlzc24lM0QlMjIxODczLTYwMjUlMjIlMkMlMEElMjAlMjAlMjAlMjAlMjAlMjAlMjAlMjByZXNlYXJjaGVyaWQtbnVtYmVycyUzRCUyMlJhYmlzZXIlMkMlMjBSaWNrL0ItODY3My0yMDE3JTBBR3J1bmJhY2hlciUyQyUyMFBhdWwvQy0yOTcwLTIwMTMlMjIlMkMlMEElMjAlMjAlMjAlMjAlMjAlMjAlMjAlMjBvcmNpZC1udW1iZXJzJTNEJTIyUmFiaXNlciUyQyUyMFJpY2svMDAwMC0wMDAzLTM4NjItMTExMiUwQUdydW5iYWNoZXIlMkMlMjBQYXVsLzAwMDAtMDAwMi0xOTUxLTUyODglMjIlMkMlMEElMjAlMjAlMjAlMjAlMjAlMjAlMjAlMjB1bmlxdWUtaWQlM0QlMjJJU0klM0EwMDAzMDU1OTkyMDAwMDQlMjIlMkMlMEElMjAlMjAlMjAlMjAlMjAlMjAlMjAlMjBJRCUzRCUyMklTSSUzQTAwMDMwNTU5OTIwMDAwNCUyMiUyQyUwQSUyMCUyMCUyMCUyMCUyMCUyMCUyMCUyMHdlYm9mc2NpZW5jZTIwMTUlM0QlMjIxJTIyJTJDJTBBJTIwJTIwJTIwJTIwJTIwJTIwJTIwJTIwcGxhY2V4JTNEJTIySU5GT1JNQVRJT04lMjBBTkQlMjBTT0ZUV0FSRSUyMFRFQ0hOT0xPR1klMjIlMkMlMEElMjAlMjAlMjAlMjAlMjklMjklMEElMjclMjclMjclMjklM0I=\")));\n",
       "    "
      ],
      "text/plain": [
       "<IPython.core.display.Javascript object>"
      ]
     },
     "metadata": {},
     "output_type": "display_data"
    }
   ],
   "source": [
    "from custom_snowballing import UnrelatedInsert\n",
    "UnrelatedInsert(\"webofscience2015\", articles=article_list)"
   ]
  },
  {
   "cell_type": "code",
   "execution_count": null,
   "metadata": {
    "collapsed": true
   },
   "outputs": [],
   "source": [
    "# Temp\n",
    "insert('''\n",
    "    holl2012a = DB(WorkUnrelated(\n",
    "        2012, \"A systematic review and an expert survey on capabilities supporting\n",
    "multi product lines\",\n",
    "        display=\"holl\",\n",
    "        authors=\"Holl, Gerald and Gruenbacher, Paul and Rabiser, Rick\",\n",
    "        place=FAKE,\n",
    "        pp=\"828-852\",\n",
    "        entrytype=\"article\",\n",
    "        volume=\"54\",\n",
    "        number=\"8, SI\",\n",
    "        month=\"AUG\",\n",
    "        doi=\"10.1016/j.infsof.2012.02.002\",\n",
    "        issn=\"0950-5849\",\n",
    "        eissn=\"1873-6025\",\n",
    "        researcherid-numbers=\"Rabiser, Rick/B-8673-2017\n",
    "Grunbacher, Paul/C-2970-2013\",\n",
    "        orcid-numbers=\"Rabiser, Rick/0000-0003-3862-1112\n",
    "Grunbacher, Paul/0000-0002-1951-5288\",\n",
    "        unique-id=\"ISI:000305599200004\",\n",
    "        ID=\"ISI:000305599200004\",\n",
    "        webofscience2015=\"1\",\n",
    "        placex=\"INFORMATION AND SOFTWARE TECHNOLOGY\",\n",
    "    ))\n",
    "''');"
   ]
  },
  {
   "cell_type": "code",
   "execution_count": 111,
   "metadata": {},
   "outputs": [
    {
     "data": {
      "application/vnd.jupyter.widget-view+json": {
       "model_id": "5c5bff0086fc4821975a5b7d51575128",
       "version_major": 2,
       "version_minor": 0
      },
      "text/html": [
       "<p>Failed to display Jupyter Widget of type <code>VBox</code>.</p>\n",
       "<p>\n",
       "  If you're reading this message in Jupyter Notebook or JupyterLab, it may mean\n",
       "  that the widgets JavaScript is still loading. If this message persists, it\n",
       "  likely means that the widgets JavaScript library is either not installed or\n",
       "  not enabled. See the <a href=\"https://ipywidgets.readthedocs.io/en/stable/user_install.html\">Jupyter\n",
       "  Widgets Documentation</a> for setup instructions.\n",
       "</p>\n",
       "<p>\n",
       "  If you're reading this message in another notebook frontend (for example, a static\n",
       "  rendering on GitHub or <a href=\"https://nbviewer.jupyter.org/\">NBViewer</a>),\n",
       "  it may mean that your frontend doesn't currently support widgets.\n",
       "</p>\n"
      ],
      "text/plain": [
       "VBox(children=(HBox(children=(Button(description='Previous Article', disabled=True, icon='caret-left', style=ButtonStyle()), Button(description='Reload Article', icon='refresh', style=ButtonStyle()), Button(description='Next Article', disabled=True, icon='caret-right', style=ButtonStyle()))), HBox(children=(Button(description='Unrelated: Scripts', style=ButtonStyle()), Button(description='Unrelated: Provenance', style=ButtonStyle()), Button(description='Both', style=ButtonStyle()), Button(description='Ok', style=ButtonStyle()))), HBox(children=(Dropdown(description='Type', options=('Work', 'WorkSnowball', 'WorkForward', 'WorkBackward', 'WorkOk', 'WorkUnrelated', 'WorkNoFile', 'WorkLang', 'Site', 'Email'), value='Work'), ToggleButton(value=False, description='File'))), HBox(children=(Text(value='', description='Due'), Text(value='', description='Place'))), HBox(children=(Text(value='', description='Year'), Text(value='', description='Prefix Var'))), HBox(children=(Text(value='', description='PDFPage'), Text(value='', description='Related'))), HBox(children=(Text(value='', description='Display'), Text(value='', description='Summary'))), HBox(children=(Text(value='', description='Star'), Text(value='', description='Link'))), HBox(children=(Button(description='Reload Article', icon='refresh', style=ButtonStyle()), IntSlider(value=0, max=0), Label(value='1/1'))), Output()))"
      ]
     },
     "metadata": {},
     "output_type": "display_data"
    },
    {
     "data": {
      "application/javascript": [
       "$('span:contains(\"# Temp\")').closest('.cell').remove();"
      ],
      "text/plain": [
       "<IPython.core.display.Javascript object>"
      ]
     },
     "metadata": {},
     "output_type": "display_data"
    },
    {
     "data": {
      "application/javascript": [
       "\n",
       "        $('span:contains(\"# Temp\")').closest('.cell').remove();\n",
       "        var code = IPython.notebook.insert_cell_below('code');\n",
       "        code.set_text(atob(\"IyBUZW1wCmluc2VydCgnJycKbWVzc25hcnoxOTk5YSA9IERCKFdvcmtTbm93YmFsbCgKICAgIDE5OTksICJCZXR0ZXIgU29mdHdhcmUgUHJhY3RpY2UgZm9yIEJ1c2luZXNzIEJlbmVmaXQ6IFByaW5jaXBsZXMgYW5kIEV4cGVyaWVuY2VzIiwKICAgIGRpc3BsYXk9Im1lc3NuYXJ6IiwKICAgIGF1dGhvcnM9Ik1lc3NuYXJ6LCBSaWNoYXJkIGFuZCBUdWxseSwgQ29saW4gSiIsCiAgICBwbGFjZT1Cb29rLAogICAgZW50cnl0eXBlPSJib29rIiwKICAgIHB1Ymxpc2hlcj0iSUVFRSBDb21wdXRlciBTb2NpZXR5IFByZXNzIiwKICAgIElEPSJtZXNzbmFyejE5OTliZXR0ZXIiLAopKQonJycpOw==\"));\n",
       "    "
      ],
      "text/plain": [
       "<IPython.core.display.Javascript object>"
      ]
     },
     "metadata": {},
     "output_type": "display_data"
    }
   ],
   "source": [
    "ArticleNavigator(articles=article_list)"
   ]
  }
 ],
 "metadata": {
  "kernelspec": {
   "display_name": "Python 3",
   "language": "python",
   "name": "python3"
  },
  "language_info": {
   "codemirror_mode": {
    "name": "ipython",
    "version": 3
   },
   "file_extension": ".py",
   "mimetype": "text/x-python",
   "name": "python",
   "nbconvert_exporter": "python",
   "pygments_lexer": "ipython3",
   "version": "3.6.0"
  },
  "toc": {
   "nav_menu": {
    "height": "12px",
    "width": "252px"
   },
   "number_sections": true,
   "sideBar": true,
   "skip_h1_title": false,
   "toc_cell": false,
   "toc_position": {},
   "toc_section_display": "block",
   "toc_window_display": false
  }
 },
 "nbformat": 4,
 "nbformat_minor": 2
}
