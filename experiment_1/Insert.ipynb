{
 "cells": [
  {
   "cell_type": "code",
   "execution_count": 1,
   "metadata": {
    "collapsed": true
   },
   "outputs": [],
   "source": [
    "import database\n",
    "from snowballing.operations import load_work, reload, work_by_varname\n",
    "from snowballing.snowballing import Converter\n",
    "from snowballing.snowballing import ArticleNavigator\n",
    "from snowballing.dbmanager import insert, set_attribute"
   ]
  },
  {
   "cell_type": "code",
   "execution_count": 2,
   "metadata": {
    "scrolled": false
   },
   "outputs": [
    {
     "data": {
      "application/vnd.jupyter.widget-view+json": {
       "model_id": "e07f22953d6c46189e6aef67e9a5407f",
       "version_major": 2,
       "version_minor": 0
      },
      "text/html": [
       "<p>Failed to display Jupyter Widget of type <code>VBox</code>.</p>\n",
       "<p>\n",
       "  If you're reading this message in Jupyter Notebook or JupyterLab, it may mean\n",
       "  that the widgets JavaScript is still loading. If this message persists, it\n",
       "  likely means that the widgets JavaScript library is either not installed or\n",
       "  not enabled. See the <a href=\"https://ipywidgets.readthedocs.io/en/stable/user_install.html\">Jupyter\n",
       "  Widgets Documentation</a> for setup instructions.\n",
       "</p>\n",
       "<p>\n",
       "  If you're reading this message in another notebook frontend (for example, a static\n",
       "  rendering on GitHub or <a href=\"https://nbviewer.jupyter.org/\">NBViewer</a>),\n",
       "  it may mean that your frontend doesn't currently support widgets.\n",
       "</p>\n"
      ],
      "text/plain": [
       "VBox(children=(HBox(children=(Dropdown(options={'BibTeX': 'bibtex', 'Text': 'text', '[N] author name place other year': 'citation', 'Quoted': 'quoted'}, value='bibtex'), Button(description='Set article_list variable', style=ButtonStyle()), Label(value=''))), HBox(children=(Textarea(value='', layout=Layout(height='500px', width='50%')), Textarea(value='', layout=Layout(height='500px', width='50%'))))))"
      ]
     },
     "metadata": {},
     "output_type": "display_data"
    }
   ],
   "source": [
    "Converter(\"bibtex\")"
   ]
  },
  {
   "cell_type": "code",
   "execution_count": 3,
   "metadata": {},
   "outputs": [
    {
     "data": {
      "text/plain": [
       "117"
      ]
     },
     "execution_count": 3,
     "metadata": {},
     "output_type": "execute_result"
    }
   ],
   "source": [
    "len(article_list)"
   ]
  },
  {
   "cell_type": "code",
   "execution_count": 4,
   "metadata": {},
   "outputs": [],
   "source": [
    "from snowballing.operations import reload\n",
    "reload()\n"
   ]
  },
  {
   "cell_type": "code",
   "execution_count": null,
   "metadata": {
    "collapsed": true
   },
   "outputs": [],
   "source": []
  },
  {
   "cell_type": "code",
   "execution_count": null,
   "metadata": {
    "collapsed": true,
    "scrolled": false
   },
   "outputs": [],
   "source": [
    "ArticleNavigator??"
   ]
  },
  {
   "cell_type": "code",
   "execution_count": null,
   "metadata": {
    "collapsed": true
   },
   "outputs": [],
   "source": []
  },
  {
   "cell_type": "code",
   "execution_count": null,
   "metadata": {
    "collapsed": true
   },
   "outputs": [],
   "source": []
  },
  {
   "cell_type": "code",
   "execution_count": 5,
   "metadata": {},
   "outputs": [
    {
     "data": {
      "application/vnd.jupyter.widget-view+json": {
       "model_id": "ecb445320ba844e6a7a721812d303962",
       "version_major": 2,
       "version_minor": 0
      },
      "text/html": [
       "<p>Failed to display Jupyter Widget of type <code>VBox</code>.</p>\n",
       "<p>\n",
       "  If you're reading this message in Jupyter Notebook or JupyterLab, it may mean\n",
       "  that the widgets JavaScript is still loading. If this message persists, it\n",
       "  likely means that the widgets JavaScript library is either not installed or\n",
       "  not enabled. See the <a href=\"https://ipywidgets.readthedocs.io/en/stable/user_install.html\">Jupyter\n",
       "  Widgets Documentation</a> for setup instructions.\n",
       "</p>\n",
       "<p>\n",
       "  If you're reading this message in another notebook frontend (for example, a static\n",
       "  rendering on GitHub or <a href=\"https://nbviewer.jupyter.org/\">NBViewer</a>),\n",
       "  it may mean that your frontend doesn't currently support widgets.\n",
       "</p>\n"
      ],
      "text/plain": [
       "VBox(children=(HBox(children=(Button(description='Previous Article', disabled=True, icon='caret-left', style=ButtonStyle()), Button(description='Reload Article', icon='refresh', style=ButtonStyle()), Button(description='Next Article', icon='caret-right', style=ButtonStyle()))), HBox(children=(Dropdown(description='Type', index=3, options=('Work', 'WorkSnowball', 'WorkOk', 'WorkUnrelated', 'WorkNoFile', 'WorkLang', 'Site', 'Email'), value='WorkUnrelated'), ToggleButton(value=False, description='File'))), HBox(children=(Text(value='', description='Due'), Text(value='', description='Place'))), HBox(children=(Text(value='', description='Year'), Text(value='', description='Prefix Var'))), HBox(children=(Text(value='', description='PDFPage'), Text(value='', description='Related'))), HBox(children=(Text(value='', description='Display'), Text(value='', description='Summary'))), HBox(children=(Text(value='', description='Star'), Text(value='', description='Link'))), HBox(children=(Text(value='1', description='springer2015'),)), HBox(children=(Button(description='Reload Article', icon='refresh', style=ButtonStyle()), IntSlider(value=0, max=116), Label(value='1/117'))), Output()))"
      ]
     },
     "metadata": {},
     "output_type": "display_data"
    },
    {
     "data": {
      "application/javascript": [
       "$('span:contains(\"# Temp\")').closest('.cell').remove();"
      ],
      "text/plain": [
       "<IPython.core.display.Javascript object>"
      ]
     },
     "metadata": {},
     "output_type": "display_data"
    },
    {
     "data": {
      "application/javascript": [
       "\n",
       "        $('span:contains(\"# Temp\")').closest('.cell').remove();\n",
       "        var code = IPython.notebook.insert_cell_below('code');\n",
       "        code.set_text(decodeURIComponent(window.atob(\"JTIzJTIwVGVtcCUwQWluc2VydCUyOCUyNyUyNyUyNyUwQSUyMCUyMCUyMCUyMGd1cHRhMjAwOWElMjAlM0QlMjBEQiUyOFdvcmtVbnJlbGF0ZWQlMjglMEElMjAlMjAlMjAlMjAlMjAlMjAlMjAlMjAyMDA5JTJDJTIwJTIyQSUyMGNhc2UlMjBzdHVkeSUyMGNvbXBhcmluZyUyMGRlZmVjdCUyMHByb2ZpbGVzJTIwb2YlMjBhJTIwcmV1c2VkJTIwZnJhbWV3b3JrJTIwYW5kJTIwb2YlMjBhcHBsaWNhdGlvbnMlMjByZXVzaW5nJTIwaXQlMjIlMkMlMEElMjAlMjAlMjAlMjAlMjAlMjAlMjAlMjBkaXNwbGF5JTNEJTIyZ3VwdGElMjIlMkMlMEElMjAlMjAlMjAlMjAlMjAlMjAlMjAlMjBhdXRob3JzJTNEJTIyR3VwdGElMkMlMjBBbml0YSUwQWFuZCUyMExpJTJDJTIwSmluZ3l1ZSUwQWFuZCUyMENvbnJhZGklMkMlMjBSZWlkYXIlMEFhbmQlMjBSJUMzJUI4bm5lYmVyZyUyQyUyMEhhcmFsZCUwQWFuZCUyMExhbmRyZSUyQyUyMEVpbmFyJTIyJTJDJTBBJTIwJTIwJTIwJTIwJTIwJTIwJTIwJTIwcGxhY2UlM0RFU0UlMkMlMEElMjAlMjAlMjAlMjAlMjAlMjAlMjAlMjBwcCUzRCUyMjIyNy0tMjU1JTIyJTJDJTBBJTIwJTIwJTIwJTIwJTIwJTIwJTIwJTIwZW50cnl0eXBlJTNEJTIyYXJ0aWNsZSUyMiUyQyUwQSUyMCUyMCUyMCUyMCUyMCUyMCUyMCUyMG1vbnRoJTNEJTIyQXByJTIyJTJDJTBBJTIwJTIwJTIwJTIwJTIwJTIwJTIwJTIwZGF5JTNEJTIyMDElMjIlMkMlMEElMjAlMjAlMjAlMjAlMjAlMjAlMjAlMjB2b2x1bWUlM0QlMjIxNCUyMiUyQyUwQSUyMCUyMCUyMCUyMCUyMCUyMCUyMCUyMG51bWJlciUzRCUyMjIlMjIlMkMlMEElMjAlMjAlMjAlMjAlMjAlMjAlMjAlMjBpc3NuJTNEJTIyMTU3My03NjE2JTIyJTJDJTBBJTIwJTIwJTIwJTIwJTIwJTIwJTIwJTIwZG9pJTNEJTIyMTAuMTAwNy9zMTA2NjQtMDA4LTkwODEtOSUyMiUyQyUwQSUyMCUyMCUyMCUyMCUyMCUyMCUyMCUyMElEJTNEJTIyR3VwdGEyMDA5JTIyJTJDJTBBJTIwJTIwJTIwJTIwJTIwJTIwJTIwJTIwc3ByaW5nZXIyMDE1JTNEJTIyMSUyMiUyQyUwQSUyMCUyMCUyMCUyMCUyMCUyMCUyMCUyMHBsYWNleCUzRCUyMkVtcGlyaWNhbCUyMFNvZnR3YXJlJTIwRW5naW5lZXJpbmclMjIlMkMlMEElMjAlMjAlMjAlMjAlMjklMjklMEElMjclMjclMjclMjklM0I=\")));\n",
       "    "
      ],
      "text/plain": [
       "<IPython.core.display.Javascript object>"
      ]
     },
     "metadata": {},
     "output_type": "display_data"
    },
    {
     "data": {
      "application/javascript": [
       "$('span:contains(\"# Temp\")').closest('.cell').remove();"
      ],
      "text/plain": [
       "<IPython.core.display.Javascript object>"
      ]
     },
     "metadata": {},
     "output_type": "display_data"
    },
    {
     "data": {
      "application/javascript": [
       "\n",
       "        $('span:contains(\"# Temp\")').closest('.cell').remove();\n",
       "        var code = IPython.notebook.insert_cell_below('code');\n",
       "        code.set_text(decodeURIComponent(window.atob(\"JTIzJTIwVGVtcCUwQWluc2VydCUyOCUyNyUyNyUyNyUwQSUyMCUyMCUyMCUyMGxpbmRob2xtMjAxNGElMjAlM0QlMjBEQiUyOFdvcmtVbnJlbGF0ZWQlMjglMEElMjAlMjAlMjAlMjAlMjAlMjAlMjAlMjAyMDE0JTJDJTIwJTIyQSUyMGNhc2UlMjBzdHVkeSUyMG9uJTIwc29mdHdhcmUlMjByaXNrJTIwYW5hbHlzaXMlMjBhbmQlMjBwbGFubmluZyUyMGluJTIwbWVkaWNhbCUyMGRldmljZSUyMGRldmVsb3BtZW50JTIyJTJDJTBBJTIwJTIwJTIwJTIwJTIwJTIwJTIwJTIwZGlzcGxheSUzRCUyMmxpbmRob2xtJTIyJTJDJTBBJTIwJTIwJTIwJTIwJTIwJTIwJTIwJTIwYXV0aG9ycyUzRCUyMkxpbmRob2xtJTJDJTIwQ2hyaXN0aW4lMEFhbmQlMjBOb3RhbmRlciUyQyUyMEplc3BlciUyMFBlZGVyc2VuJTBBYW5kJTIwSCVDMyVCNnN0JTJDJTIwTWFydGluJTIyJTJDJTBBJTIwJTIwJTIwJTIwJTIwJTIwJTIwJTIwcGxhY2UlM0RTUUolMkMlMEElMjAlMjAlMjAlMjAlMjAlMjAlMjAlMjBwcCUzRCUyMjQ2OS0tNDk3JTIyJTJDJTBBJTIwJTIwJTIwJTIwJTIwJTIwJTIwJTIwZW50cnl0eXBlJTNEJTIyYXJ0aWNsZSUyMiUyQyUwQSUyMCUyMCUyMCUyMCUyMCUyMCUyMCUyMG1vbnRoJTNEJTIyU2VwJTIyJTJDJTBBJTIwJTIwJTIwJTIwJTIwJTIwJTIwJTIwZGF5JTNEJTIyMDElMjIlMkMlMEElMjAlMjAlMjAlMjAlMjAlMjAlMjAlMjB2b2x1bWUlM0QlMjIyMiUyMiUyQyUwQSUyMCUyMCUyMCUyMCUyMCUyMCUyMCUyMG51bWJlciUzRCUyMjMlMjIlMkMlMEElMjAlMjAlMjAlMjAlMjAlMjAlMjAlMjBpc3NuJTNEJTIyMTU3My0xMzY3JTIyJTJDJTBBJTIwJTIwJTIwJTIwJTIwJTIwJTIwJTIwZG9pJTNEJTIyMTAuMTAwNy9zMTEyMTktMDEzLTkyMjItMiUyMiUyQyUwQSUyMCUyMCUyMCUyMCUyMCUyMCUyMCUyMElEJTNEJTIyTGluZGhvbG0yMDE0JTIyJTJDJTBBJTIwJTIwJTIwJTIwJTIwJTIwJTIwJTIwc3ByaW5nZXIyMDE1JTNEJTIyMSUyMiUyQyUwQSUyMCUyMCUyMCUyMCUyMCUyMCUyMCUyMHBsYWNleCUzRCUyMlNvZnR3YXJlJTIwUXVhbGl0eSUyMEpvdXJuYWwlMjIlMkMlMEElMjAlMjAlMjAlMjAlMjklMjklMEElMjclMjclMjclMjklM0I=\")));\n",
       "    "
      ],
      "text/plain": [
       "<IPython.core.display.Javascript object>"
      ]
     },
     "metadata": {},
     "output_type": "display_data"
    },
    {
     "data": {
      "application/javascript": [
       "$('span:contains(\"# Temp\")').closest('.cell').remove();"
      ],
      "text/plain": [
       "<IPython.core.display.Javascript object>"
      ]
     },
     "metadata": {},
     "output_type": "display_data"
    },
    {
     "data": {
      "application/javascript": [
       "\n",
       "        $('span:contains(\"# Temp\")').closest('.cell').remove();\n",
       "        var code = IPython.notebook.insert_cell_below('code');\n",
       "        code.set_text(decodeURIComponent(window.atob(\"JTIzJTIwVGVtcCUwQWluc2VydCUyOCUyNyUyNyUyNyUwQSUyMCUyMCUyMCUyMGxpbmRob2xtMjAxNGElMjAlM0QlMjBEQiUyOFdvcmtVbnJlbGF0ZWQlMjglMEElMjAlMjAlMjAlMjAlMjAlMjAlMjAlMjAyMDE0JTJDJTIwJTIyQSUyMGNhc2UlMjBzdHVkeSUyMG9uJTIwc29mdHdhcmUlMjByaXNrJTIwYW5hbHlzaXMlMjBhbmQlMjBwbGFubmluZyUyMGluJTIwbWVkaWNhbCUyMGRldmljZSUyMGRldmVsb3BtZW50JTIyJTJDJTBBJTIwJTIwJTIwJTIwJTIwJTIwJTIwJTIwZGlzcGxheSUzRCUyMmxpbmRob2xtJTIyJTJDJTBBJTIwJTIwJTIwJTIwJTIwJTIwJTIwJTIwYXV0aG9ycyUzRCUyMkxpbmRob2xtJTJDJTIwQ2hyaXN0aW4lMEFhbmQlMjBOb3RhbmRlciUyQyUyMEplc3BlciUyMFBlZGVyc2VuJTBBYW5kJTIwSCVDMyVCNnN0JTJDJTIwTWFydGluJTIyJTJDJTBBJTIwJTIwJTIwJTIwJTIwJTIwJTIwJTIwcGxhY2UlM0RTUUolMkMlMEElMjAlMjAlMjAlMjAlMjAlMjAlMjAlMjBwcCUzRCUyMjQ2OS0tNDk3JTIyJTJDJTBBJTIwJTIwJTIwJTIwJTIwJTIwJTIwJTIwZW50cnl0eXBlJTNEJTIyYXJ0aWNsZSUyMiUyQyUwQSUyMCUyMCUyMCUyMCUyMCUyMCUyMCUyMG1vbnRoJTNEJTIyU2VwJTIyJTJDJTBBJTIwJTIwJTIwJTIwJTIwJTIwJTIwJTIwZGF5JTNEJTIyMDElMjIlMkMlMEElMjAlMjAlMjAlMjAlMjAlMjAlMjAlMjB2b2x1bWUlM0QlMjIyMiUyMiUyQyUwQSUyMCUyMCUyMCUyMCUyMCUyMCUyMCUyMG51bWJlciUzRCUyMjMlMjIlMkMlMEElMjAlMjAlMjAlMjAlMjAlMjAlMjAlMjBpc3NuJTNEJTIyMTU3My0xMzY3JTIyJTJDJTBBJTIwJTIwJTIwJTIwJTIwJTIwJTIwJTIwZG9pJTNEJTIyMTAuMTAwNy9zMTEyMTktMDEzLTkyMjItMiUyMiUyQyUwQSUyMCUyMCUyMCUyMCUyMCUyMCUyMCUyMElEJTNEJTIyTGluZGhvbG0yMDE0JTIyJTJDJTBBJTIwJTIwJTIwJTIwJTIwJTIwJTIwJTIwc3ByaW5nZXIyMDE1JTNEJTIyMSUyMiUyQyUwQSUyMCUyMCUyMCUyMCUyMCUyMCUyMCUyMHBsYWNleCUzRCUyMlNvZnR3YXJlJTIwUXVhbGl0eSUyMEpvdXJuYWwlMjIlMkMlMEElMjAlMjAlMjAlMjAlMjklMjklMEElMjclMjclMjclMjklM0I=\")));\n",
       "    "
      ],
      "text/plain": [
       "<IPython.core.display.Javascript object>"
      ]
     },
     "metadata": {},
     "output_type": "display_data"
    },
    {
     "data": {
      "application/javascript": [
       "$('span:contains(\"# Temp\")').closest('.cell').remove();"
      ],
      "text/plain": [
       "<IPython.core.display.Javascript object>"
      ]
     },
     "metadata": {},
     "output_type": "display_data"
    },
    {
     "data": {
      "application/javascript": [
       "\n",
       "        $('span:contains(\"# Temp\")').closest('.cell').remove();\n",
       "        var code = IPython.notebook.insert_cell_below('code');\n",
       "        code.set_text(decodeURIComponent(window.atob(\"JTIzJTIwVGVtcCUwQWluc2VydCUyOCUyNyUyNyUyNyUwQSUyMCUyMCUyMCUyMHN0ZWx6ZXIxOTk3YSUyMCUzRCUyMERCJTI4V29ya1VucmVsYXRlZCUyOCUwQSUyMCUyMCUyMCUyMCUyMCUyMCUyMCUyMDE5OTclMkMlMjAlMjJBJTIwY3JpdGljYWwlMjBsb29rJTIwYXQlMjBJU08lMjA5MDAwJTIwZm9yJTIwc29mdHdhcmUlMjBxdWFsaXR5JTIwbWFuYWdlbWVudCUyMiUyQyUwQSUyMCUyMCUyMCUyMCUyMCUyMCUyMCUyMGRpc3BsYXklM0QlMjJzdGVsemVyJTIyJTJDJTBBJTIwJTIwJTIwJTIwJTIwJTIwJTIwJTIwYXV0aG9ycyUzRCUyMlN0ZWx6ZXIlMkMlMjBEaXJrJTBBYW5kJTIwTWVsbGlzJTJDJTIwV2VybmVyJTBBYW5kJTIwSGVyend1cm0lMkMlMjBHZW9yZyUyMiUyQyUwQSUyMCUyMCUyMCUyMCUyMCUyMCUyMCUyMHBsYWNlJTNEU1FKJTJDJTBBJTIwJTIwJTIwJTIwJTIwJTIwJTIwJTIwcHAlM0QlMjI2NS0tNzklMjIlMkMlMEElMjAlMjAlMjAlMjAlMjAlMjAlMjAlMjBlbnRyeXR5cGUlM0QlMjJhcnRpY2xlJTIyJTJDJTBBJTIwJTIwJTIwJTIwJTIwJTIwJTIwJTIwbW9udGglM0QlMjJKdW4lMjIlMkMlMEElMjAlMjAlMjAlMjAlMjAlMjAlMjAlMjBkYXklM0QlMjIwMSUyMiUyQyUwQSUyMCUyMCUyMCUyMCUyMCUyMCUyMCUyMHZvbHVtZSUzRCUyMjYlMjIlMkMlMEElMjAlMjAlMjAlMjAlMjAlMjAlMjAlMjBudW1iZXIlM0QlMjIyJTIyJTJDJTBBJTIwJTIwJTIwJTIwJTIwJTIwJTIwJTIwaXNzbiUzRCUyMjE1NzMtMTM2NyUyMiUyQyUwQSUyMCUyMCUyMCUyMCUyMCUyMCUyMCUyMGRvaSUzRCUyMjEwLjEwMjMvQSUzQTEwMTg1OTE0MzA3NTIlMjIlMkMlMEElMjAlMjAlMjAlMjAlMjAlMjAlMjAlMjBJRCUzRCUyMlN0ZWx6ZXIxOTk3JTIyJTJDJTBBJTIwJTIwJTIwJTIwJTIwJTIwJTIwJTIwc3ByaW5nZXIyMDE1JTNEJTIyMSUyMiUyQyUwQSUyMCUyMCUyMCUyMCUyMCUyMCUyMCUyMHBsYWNleCUzRCUyMlNvZnR3YXJlJTIwUXVhbGl0eSUyMEpvdXJuYWwlMjIlMkMlMEElMjAlMjAlMjAlMjAlMjklMjklMEElMjclMjclMjclMjklM0I=\")));\n",
       "    "
      ],
      "text/plain": [
       "<IPython.core.display.Javascript object>"
      ]
     },
     "metadata": {},
     "output_type": "display_data"
    },
    {
     "data": {
      "application/javascript": [
       "$('span:contains(\"# Temp\")').closest('.cell').remove();"
      ],
      "text/plain": [
       "<IPython.core.display.Javascript object>"
      ]
     },
     "metadata": {},
     "output_type": "display_data"
    },
    {
     "data": {
      "application/javascript": [
       "\n",
       "        $('span:contains(\"# Temp\")').closest('.cell').remove();\n",
       "        var code = IPython.notebook.insert_cell_below('code');\n",
       "        code.set_text(decodeURIComponent(window.atob(\"JTIzJTIwVGVtcCUwQWluc2VydCUyOCUyNyUyNyUyNyUwQSUyMCUyMCUyMCUyMHN0ZWx6ZXIxOTk3YSUyMCUzRCUyMERCJTI4V29ya1VucmVsYXRlZCUyOCUwQSUyMCUyMCUyMCUyMCUyMCUyMCUyMCUyMDE5OTclMkMlMjAlMjJBJTIwY3JpdGljYWwlMjBsb29rJTIwYXQlMjBJU08lMjA5MDAwJTIwZm9yJTIwc29mdHdhcmUlMjBxdWFsaXR5JTIwbWFuYWdlbWVudCUyMiUyQyUwQSUyMCUyMCUyMCUyMCUyMCUyMCUyMCUyMGRpc3BsYXklM0QlMjJzdGVsemVyJTIyJTJDJTBBJTIwJTIwJTIwJTIwJTIwJTIwJTIwJTIwYXV0aG9ycyUzRCUyMlN0ZWx6ZXIlMkMlMjBEaXJrJTBBYW5kJTIwTWVsbGlzJTJDJTIwV2VybmVyJTBBYW5kJTIwSGVyend1cm0lMkMlMjBHZW9yZyUyMiUyQyUwQSUyMCUyMCUyMCUyMCUyMCUyMCUyMCUyMHBsYWNlJTNEU1FKJTJDJTBBJTIwJTIwJTIwJTIwJTIwJTIwJTIwJTIwcHAlM0QlMjI2NS0tNzklMjIlMkMlMEElMjAlMjAlMjAlMjAlMjAlMjAlMjAlMjBlbnRyeXR5cGUlM0QlMjJhcnRpY2xlJTIyJTJDJTBBJTIwJTIwJTIwJTIwJTIwJTIwJTIwJTIwbW9udGglM0QlMjJKdW4lMjIlMkMlMEElMjAlMjAlMjAlMjAlMjAlMjAlMjAlMjBkYXklM0QlMjIwMSUyMiUyQyUwQSUyMCUyMCUyMCUyMCUyMCUyMCUyMCUyMHZvbHVtZSUzRCUyMjYlMjIlMkMlMEElMjAlMjAlMjAlMjAlMjAlMjAlMjAlMjBudW1iZXIlM0QlMjIyJTIyJTJDJTBBJTIwJTIwJTIwJTIwJTIwJTIwJTIwJTIwaXNzbiUzRCUyMjE1NzMtMTM2NyUyMiUyQyUwQSUyMCUyMCUyMCUyMCUyMCUyMCUyMCUyMGRvaSUzRCUyMjEwLjEwMjMvQSUzQTEwMTg1OTE0MzA3NTIlMjIlMkMlMEElMjAlMjAlMjAlMjAlMjAlMjAlMjAlMjBJRCUzRCUyMlN0ZWx6ZXIxOTk3JTIyJTJDJTBBJTIwJTIwJTIwJTIwJTIwJTIwJTIwJTIwc3ByaW5nZXIyMDE1JTNEJTIyMSUyMiUyQyUwQSUyMCUyMCUyMCUyMCUyMCUyMCUyMCUyMHBsYWNleCUzRCUyMlNvZnR3YXJlJTIwUXVhbGl0eSUyMEpvdXJuYWwlMjIlMkMlMEElMjAlMjAlMjAlMjAlMjklMjklMEElMjclMjclMjclMjklM0I=\")));\n",
       "    "
      ],
      "text/plain": [
       "<IPython.core.display.Javascript object>"
      ]
     },
     "metadata": {},
     "output_type": "display_data"
    },
    {
     "data": {
      "application/javascript": [
       "$('span:contains(\"# Temp\")').closest('.cell').remove();"
      ],
      "text/plain": [
       "<IPython.core.display.Javascript object>"
      ]
     },
     "metadata": {},
     "output_type": "display_data"
    },
    {
     "data": {
      "application/javascript": [
       "\n",
       "        $('span:contains(\"# Temp\")').closest('.cell').remove();\n",
       "        var code = IPython.notebook.insert_cell_below('code');\n",
       "        code.set_text(decodeURIComponent(window.atob(\"JTIzJTIwVGVtcCUwQWluc2VydCUyOCUyNyUyNyUyNyUwQSUyMCUyMCUyMCUyMGxpMjAwN2ElMjAlM0QlMjBEQiUyOFdvcmtVbnJlbGF0ZWQlMjglMEElMjAlMjAlMjAlMjAlMjAlMjAlMjAlMjAyMDA3JTJDJTIwJTIyQSUyMGZsZXhpYmxlJTIwbWV0aG9kJTIwZm9yJTIwc29mdHdhcmUlMjBlZmZvcnQlMjBlc3RpbWF0aW9uJTIwYnklMjBhbmFsb2d5JTIyJTJDJTBBJTIwJTIwJTIwJTIwJTIwJTIwJTIwJTIwZGlzcGxheSUzRCUyMmxpJTIyJTJDJTBBJTIwJTIwJTIwJTIwJTIwJTIwJTIwJTIwYXV0aG9ycyUzRCUyMkxpJTJDJTIwSmluZ3pob3UlMEFhbmQlMjBSdWhlJTJDJTIwR3VlbnRoZXIlMEFhbmQlMjBBbC1FbXJhbiUyQyUyMEFobWVkJTBBYW5kJTIwUmljaHRlciUyQyUyME1pY2hhZWwlMjBNLiUyMiUyQyUwQSUyMCUyMCUyMCUyMCUyMCUyMCUyMCUyMHBsYWNlJTNERVNFJTJDJTBBJTIwJTIwJTIwJTIwJTIwJTIwJTIwJTIwcHAlM0QlMjI2NS0tMTA2JTIyJTJDJTBBJTIwJTIwJTIwJTIwJTIwJTIwJTIwJTIwZW50cnl0eXBlJTNEJTIyYXJ0aWNsZSUyMiUyQyUwQSUyMCUyMCUyMCUyMCUyMCUyMCUyMCUyMG1vbnRoJTNEJTIyRmViJTIyJTJDJTBBJTIwJTIwJTIwJTIwJTIwJTIwJTIwJTIwZGF5JTNEJTIyMDElMjIlMkMlMEElMjAlMjAlMjAlMjAlMjAlMjAlMjAlMjB2b2x1bWUlM0QlMjIxMiUyMiUyQyUwQSUyMCUyMCUyMCUyMCUyMCUyMCUyMCUyMG51bWJlciUzRCUyMjElMjIlMkMlMEElMjAlMjAlMjAlMjAlMjAlMjAlMjAlMjBpc3NuJTNEJTIyMTU3My03NjE2JTIyJTJDJTBBJTIwJTIwJTIwJTIwJTIwJTIwJTIwJTIwZG9pJTNEJTIyMTAuMTAwNy9zMTA2NjQtMDA2LTc1NTItNCUyMiUyQyUwQSUyMCUyMCUyMCUyMCUyMCUyMCUyMCUyMElEJTNEJTIyTGkyMDA3JTIyJTJDJTBBJTIwJTIwJTIwJTIwJTIwJTIwJTIwJTIwc3ByaW5nZXIyMDE1JTNEJTIyMSUyMiUyQyUwQSUyMCUyMCUyMCUyMCUyMCUyMCUyMCUyMHBsYWNleCUzRCUyMkVtcGlyaWNhbCUyMFNvZnR3YXJlJTIwRW5naW5lZXJpbmclMjIlMkMlMEElMjAlMjAlMjAlMjAlMjklMjklMEElMjclMjclMjclMjklM0I=\")));\n",
       "    "
      ],
      "text/plain": [
       "<IPython.core.display.Javascript object>"
      ]
     },
     "metadata": {},
     "output_type": "display_data"
    },
    {
     "data": {
      "application/javascript": [
       "$('span:contains(\"# Temp\")').closest('.cell').remove();"
      ],
      "text/plain": [
       "<IPython.core.display.Javascript object>"
      ]
     },
     "metadata": {},
     "output_type": "display_data"
    },
    {
     "data": {
      "application/javascript": [
       "\n",
       "        $('span:contains(\"# Temp\")').closest('.cell').remove();\n",
       "        var code = IPython.notebook.insert_cell_below('code');\n",
       "        code.set_text(decodeURIComponent(window.atob(\"JTIzJTIwVGVtcCUwQWluc2VydCUyOCUyNyUyNyUyNyUwQSUyMCUyMCUyMCUyMGxpMjAwN2ElMjAlM0QlMjBEQiUyOFdvcmtVbnJlbGF0ZWQlMjglMEElMjAlMjAlMjAlMjAlMjAlMjAlMjAlMjAyMDA3JTJDJTIwJTIyQSUyMGZsZXhpYmxlJTIwbWV0aG9kJTIwZm9yJTIwc29mdHdhcmUlMjBlZmZvcnQlMjBlc3RpbWF0aW9uJTIwYnklMjBhbmFsb2d5JTIyJTJDJTBBJTIwJTIwJTIwJTIwJTIwJTIwJTIwJTIwZGlzcGxheSUzRCUyMmxpJTIyJTJDJTBBJTIwJTIwJTIwJTIwJTIwJTIwJTIwJTIwYXV0aG9ycyUzRCUyMkxpJTJDJTIwSmluZ3pob3UlMEFhbmQlMjBSdWhlJTJDJTIwR3VlbnRoZXIlMEFhbmQlMjBBbC1FbXJhbiUyQyUyMEFobWVkJTBBYW5kJTIwUmljaHRlciUyQyUyME1pY2hhZWwlMjBNLiUyMiUyQyUwQSUyMCUyMCUyMCUyMCUyMCUyMCUyMCUyMHBsYWNlJTNERVNFJTJDJTBBJTIwJTIwJTIwJTIwJTIwJTIwJTIwJTIwcHAlM0QlMjI2NS0tMTA2JTIyJTJDJTBBJTIwJTIwJTIwJTIwJTIwJTIwJTIwJTIwZW50cnl0eXBlJTNEJTIyYXJ0aWNsZSUyMiUyQyUwQSUyMCUyMCUyMCUyMCUyMCUyMCUyMCUyMG1vbnRoJTNEJTIyRmViJTIyJTJDJTBBJTIwJTIwJTIwJTIwJTIwJTIwJTIwJTIwZGF5JTNEJTIyMDElMjIlMkMlMEElMjAlMjAlMjAlMjAlMjAlMjAlMjAlMjB2b2x1bWUlM0QlMjIxMiUyMiUyQyUwQSUyMCUyMCUyMCUyMCUyMCUyMCUyMCUyMG51bWJlciUzRCUyMjElMjIlMkMlMEElMjAlMjAlMjAlMjAlMjAlMjAlMjAlMjBpc3NuJTNEJTIyMTU3My03NjE2JTIyJTJDJTBBJTIwJTIwJTIwJTIwJTIwJTIwJTIwJTIwZG9pJTNEJTIyMTAuMTAwNy9zMTA2NjQtMDA2LTc1NTItNCUyMiUyQyUwQSUyMCUyMCUyMCUyMCUyMCUyMCUyMCUyMElEJTNEJTIyTGkyMDA3JTIyJTJDJTBBJTIwJTIwJTIwJTIwJTIwJTIwJTIwJTIwc3ByaW5nZXIyMDE1JTNEJTIyMSUyMiUyQyUwQSUyMCUyMCUyMCUyMCUyMCUyMCUyMCUyMHBsYWNleCUzRCUyMkVtcGlyaWNhbCUyMFNvZnR3YXJlJTIwRW5naW5lZXJpbmclMjIlMkMlMEElMjAlMjAlMjAlMjAlMjklMjklMEElMjclMjclMjclMjklM0I=\")));\n",
       "    "
      ],
      "text/plain": [
       "<IPython.core.display.Javascript object>"
      ]
     },
     "metadata": {},
     "output_type": "display_data"
    },
    {
     "data": {
      "application/javascript": [
       "$('span:contains(\"# Temp\")').closest('.cell').remove();"
      ],
      "text/plain": [
       "<IPython.core.display.Javascript object>"
      ]
     },
     "metadata": {},
     "output_type": "display_data"
    },
    {
     "data": {
      "application/javascript": [
       "\n",
       "        $('span:contains(\"# Temp\")').closest('.cell').remove();\n",
       "        var code = IPython.notebook.insert_cell_below('code');\n",
       "        code.set_text(decodeURIComponent(window.atob(\"JTIzJTIwVGVtcCUwQWluc2VydCUyOCUyNyUyNyUyNyUwQSUyMCUyMCUyMCUyMGJpbG90dGExOTk4YSUyMCUzRCUyMERCJTI4V29ya1VucmVsYXRlZCUyOCUwQSUyMCUyMCUyMCUyMCUyMCUyMCUyMCUyMDE5OTglMkMlMjAlMjJBJTIwR3V0dG1hbiUyMFNjYWxpbmclMjBvZiUyMENNTSUyMExldmVsJTIwMiUyMFByYWN0aWNlcyUzQSUyMEludmVzdGlnYXRpbmclMjB0aGUlMjBJbXBsZW1lbnRhdGlvbiUyMFNlcXVlbmNlcyUyMFVuZGVybHlpbmclMjBTb2Z0d2FyZSUyMEVuZ2luZWVyaW5nJTIwTWF0dXJpdHklMjIlMkMlMEElMjAlMjAlMjAlMjAlMjAlMjAlMjAlMjBkaXNwbGF5JTNEJTIyYmlsb3R0YSUyMiUyQyUwQSUyMCUyMCUyMCUyMCUyMCUyMCUyMCUyMGF1dGhvcnMlM0QlMjJCaWxvdHRhJTJDJTIwSm9obiUyMEcuJTBBYW5kJTIwTWNHcmV3JTJDJTIwSm9obiUyMEYuJTIyJTJDJTBBJTIwJTIwJTIwJTIwJTIwJTIwJTIwJTIwcGxhY2UlM0RFU0UlMkMlMEElMjAlMjAlMjAlMjAlMjAlMjAlMjAlMjBwcCUzRCUyMjE1OS0tMTc3JTIyJTJDJTBBJTIwJTIwJTIwJTIwJTIwJTIwJTIwJTIwZW50cnl0eXBlJTNEJTIyYXJ0aWNsZSUyMiUyQyUwQSUyMCUyMCUyMCUyMCUyMCUyMCUyMCUyMG1vbnRoJTNEJTIySnVuJTIyJTJDJTBBJTIwJTIwJTIwJTIwJTIwJTIwJTIwJTIwZGF5JTNEJTIyMDElMjIlMkMlMEElMjAlMjAlMjAlMjAlMjAlMjAlMjAlMjB2b2x1bWUlM0QlMjIzJTIyJTJDJTBBJTIwJTIwJTIwJTIwJTIwJTIwJTIwJTIwbnVtYmVyJTNEJTIyMiUyMiUyQyUwQSUyMCUyMCUyMCUyMCUyMCUyMCUyMCUyMGlzc24lM0QlMjIxNTczLTc2MTYlMjIlMkMlMEElMjAlMjAlMjAlMjAlMjAlMjAlMjAlMjBkb2klM0QlMjIxMC4xMDIzL0ElM0ExMDA4MDg0MjMxOTgzJTIyJTJDJTBBJTIwJTIwJTIwJTIwJTIwJTIwJTIwJTIwSUQlM0QlMjJCaWxvdHRhMTk5OCUyMiUyQyUwQSUyMCUyMCUyMCUyMCUyMCUyMCUyMCUyMHNwcmluZ2VyMjAxNSUzRCUyMjElMjIlMkMlMEElMjAlMjAlMjAlMjAlMjAlMjAlMjAlMjBwbGFjZXglM0QlMjJFbXBpcmljYWwlMjBTb2Z0d2FyZSUyMEVuZ2luZWVyaW5nJTIyJTJDJTBBJTIwJTIwJTIwJTIwJTI5JTI5JTBBJTI3JTI3JTI3JTI5JTNC\")));\n",
       "    "
      ],
      "text/plain": [
       "<IPython.core.display.Javascript object>"
      ]
     },
     "metadata": {},
     "output_type": "display_data"
    },
    {
     "data": {
      "application/javascript": [
       "$('span:contains(\"# Temp\")').closest('.cell').remove();"
      ],
      "text/plain": [
       "<IPython.core.display.Javascript object>"
      ]
     },
     "metadata": {},
     "output_type": "display_data"
    },
    {
     "data": {
      "application/javascript": [
       "\n",
       "        $('span:contains(\"# Temp\")').closest('.cell').remove();\n",
       "        var code = IPython.notebook.insert_cell_below('code');\n",
       "        code.set_text(decodeURIComponent(window.atob(\"JTIzJTIwVGVtcCUwQWluc2VydCUyOCUyNyUyNyUyNyUwQSUyMCUyMCUyMCUyMGJpbG90dGExOTk4YSUyMCUzRCUyMERCJTI4V29ya1VucmVsYXRlZCUyOCUwQSUyMCUyMCUyMCUyMCUyMCUyMCUyMCUyMDE5OTglMkMlMjAlMjJBJTIwR3V0dG1hbiUyMFNjYWxpbmclMjBvZiUyMENNTSUyMExldmVsJTIwMiUyMFByYWN0aWNlcyUzQSUyMEludmVzdGlnYXRpbmclMjB0aGUlMjBJbXBsZW1lbnRhdGlvbiUyMFNlcXVlbmNlcyUyMFVuZGVybHlpbmclMjBTb2Z0d2FyZSUyMEVuZ2luZWVyaW5nJTIwTWF0dXJpdHklMjIlMkMlMEElMjAlMjAlMjAlMjAlMjAlMjAlMjAlMjBkaXNwbGF5JTNEJTIyYmlsb3R0YSUyMiUyQyUwQSUyMCUyMCUyMCUyMCUyMCUyMCUyMCUyMGF1dGhvcnMlM0QlMjJCaWxvdHRhJTJDJTIwSm9obiUyMEcuJTBBYW5kJTIwTWNHcmV3JTJDJTIwSm9obiUyMEYuJTIyJTJDJTBBJTIwJTIwJTIwJTIwJTIwJTIwJTIwJTIwcGxhY2UlM0RFU0UlMkMlMEElMjAlMjAlMjAlMjAlMjAlMjAlMjAlMjBwcCUzRCUyMjE1OS0tMTc3JTIyJTJDJTBBJTIwJTIwJTIwJTIwJTIwJTIwJTIwJTIwZW50cnl0eXBlJTNEJTIyYXJ0aWNsZSUyMiUyQyUwQSUyMCUyMCUyMCUyMCUyMCUyMCUyMCUyMG1vbnRoJTNEJTIySnVuJTIyJTJDJTBBJTIwJTIwJTIwJTIwJTIwJTIwJTIwJTIwZGF5JTNEJTIyMDElMjIlMkMlMEElMjAlMjAlMjAlMjAlMjAlMjAlMjAlMjB2b2x1bWUlM0QlMjIzJTIyJTJDJTBBJTIwJTIwJTIwJTIwJTIwJTIwJTIwJTIwbnVtYmVyJTNEJTIyMiUyMiUyQyUwQSUyMCUyMCUyMCUyMCUyMCUyMCUyMCUyMGlzc24lM0QlMjIxNTczLTc2MTYlMjIlMkMlMEElMjAlMjAlMjAlMjAlMjAlMjAlMjAlMjBkb2klM0QlMjIxMC4xMDIzL0ElM0ExMDA4MDg0MjMxOTgzJTIyJTJDJTBBJTIwJTIwJTIwJTIwJTIwJTIwJTIwJTIwSUQlM0QlMjJCaWxvdHRhMTk5OCUyMiUyQyUwQSUyMCUyMCUyMCUyMCUyMCUyMCUyMCUyMHNwcmluZ2VyMjAxNSUzRCUyMjElMjIlMkMlMEElMjAlMjAlMjAlMjAlMjAlMjAlMjAlMjBwbGFjZXglM0QlMjJFbXBpcmljYWwlMjBTb2Z0d2FyZSUyMEVuZ2luZWVyaW5nJTIyJTJDJTBBJTIwJTIwJTIwJTIwJTI5JTI5JTBBJTI3JTI3JTI3JTI5JTNC\")));\n",
       "    "
      ],
      "text/plain": [
       "<IPython.core.display.Javascript object>"
      ]
     },
     "metadata": {},
     "output_type": "display_data"
    },
    {
     "data": {
      "application/javascript": [
       "$('span:contains(\"# Temp\")').closest('.cell').remove();"
      ],
      "text/plain": [
       "<IPython.core.display.Javascript object>"
      ]
     },
     "metadata": {},
     "output_type": "display_data"
    },
    {
     "data": {
      "application/javascript": [
       "\n",
       "        $('span:contains(\"# Temp\")').closest('.cell').remove();\n",
       "        var code = IPython.notebook.insert_cell_below('code');\n",
       "        code.set_text(decodeURIComponent(window.atob(\"JTIzJTIwVGVtcCUwQWluc2VydCUyOCUyNyUyNyUyNyUwQSUyMCUyMCUyMCUyMGZ1bmtob3VzZXIyMDA4YSUyMCUzRCUyMERCJTI4V29ya1VucmVsYXRlZCUyOCUwQSUyMCUyMCUyMCUyMCUyMCUyMCUyMCUyMDIwMDglMkMlMjAlMjJBJTIwbGlnaHR3ZWlnaHQlMjBhcHByb2FjaCUyMHRvJTIwc29mdHdhcmUlMjB2YWxpZGF0aW9uJTIwYnklMjBjb21wYXJpbmclMjBVTUwlMjB1c2UlMjBjYXNlcyUyMHdpdGglMjBpbnRlcm5hbCUyMHByb2dyYW0lMjBkb2N1bWVudGF0aW9uJTIwc2VsZWN0ZWQlMjB2aWElMjBjYWxsJTIwZ3JhcGhzJTIyJTJDJTBBJTIwJTIwJTIwJTIwJTIwJTIwJTIwJTIwZGlzcGxheSUzRCUyMmZ1bmtob3VzZXIlMjIlMkMlMEElMjAlMjAlMjAlMjAlMjAlMjAlMjAlMjBhdXRob3JzJTNEJTIyRnVua2hvdXNlciUyQyUyME93ZW4lMEFhbmQlMjBFdHprb3JuJTJDJTIwTGV0aGElMjBIdWdoZXMlMEFhbmQlMjBIdWdoZXMlMkMlMjBXaWxsaWFtJTIwRS4lMjIlMkMlMEElMjAlMjAlMjAlMjAlMjAlMjAlMjAlMjBwbGFjZSUzRFNRSiUyQyUwQSUyMCUyMCUyMCUyMCUyMCUyMCUyMCUyMHBwJTNEJTIyMTMxLS0xNTYlMjIlMkMlMEElMjAlMjAlMjAlMjAlMjAlMjAlMjAlMjBlbnRyeXR5cGUlM0QlMjJhcnRpY2xlJTIyJTJDJTBBJTIwJTIwJTIwJTIwJTIwJTIwJTIwJTIwbW9udGglM0QlMjJNYXIlMjIlMkMlMEElMjAlMjAlMjAlMjAlMjAlMjAlMjAlMjBkYXklM0QlMjIwMSUyMiUyQyUwQSUyMCUyMCUyMCUyMCUyMCUyMCUyMCUyMHZvbHVtZSUzRCUyMjE2JTIyJTJDJTBBJTIwJTIwJTIwJTIwJTIwJTIwJTIwJTIwbnVtYmVyJTNEJTIyMSUyMiUyQyUwQSUyMCUyMCUyMCUyMCUyMCUyMCUyMCUyMGlzc24lM0QlMjIxNTczLTEzNjclMjIlMkMlMEElMjAlMjAlMjAlMjAlMjAlMjAlMjAlMjBkb2klM0QlMjIxMC4xMDA3L3MxMTIxOS0wMDctOTAzNC0zJTIyJTJDJTBBJTIwJTIwJTIwJTIwJTIwJTIwJTIwJTIwSUQlM0QlMjJGdW5raG91c2VyMjAwOCUyMiUyQyUwQSUyMCUyMCUyMCUyMCUyMCUyMCUyMCUyMHNwcmluZ2VyMjAxNSUzRCUyMjElMjIlMkMlMEElMjAlMjAlMjAlMjAlMjAlMjAlMjAlMjBwbGFjZXglM0QlMjJTb2Z0d2FyZSUyMFF1YWxpdHklMjBKb3VybmFsJTIyJTJDJTBBJTIwJTIwJTIwJTIwJTI5JTI5JTBBJTI3JTI3JTI3JTI5JTNC\")));\n",
       "    "
      ],
      "text/plain": [
       "<IPython.core.display.Javascript object>"
      ]
     },
     "metadata": {},
     "output_type": "display_data"
    },
    {
     "data": {
      "application/javascript": [
       "$('span:contains(\"# Temp\")').closest('.cell').remove();"
      ],
      "text/plain": [
       "<IPython.core.display.Javascript object>"
      ]
     },
     "metadata": {},
     "output_type": "display_data"
    },
    {
     "data": {
      "application/javascript": [
       "\n",
       "        $('span:contains(\"# Temp\")').closest('.cell').remove();\n",
       "        var code = IPython.notebook.insert_cell_below('code');\n",
       "        code.set_text(decodeURIComponent(window.atob(\"JTIzJTIwVGVtcCUwQWluc2VydCUyOCUyNyUyNyUyNyUwQSUyMCUyMCUyMCUyMGZ1bmtob3VzZXIyMDA4YSUyMCUzRCUyMERCJTI4V29ya1VucmVsYXRlZCUyOCUwQSUyMCUyMCUyMCUyMCUyMCUyMCUyMCUyMDIwMDglMkMlMjAlMjJBJTIwbGlnaHR3ZWlnaHQlMjBhcHByb2FjaCUyMHRvJTIwc29mdHdhcmUlMjB2YWxpZGF0aW9uJTIwYnklMjBjb21wYXJpbmclMjBVTUwlMjB1c2UlMjBjYXNlcyUyMHdpdGglMjBpbnRlcm5hbCUyMHByb2dyYW0lMjBkb2N1bWVudGF0aW9uJTIwc2VsZWN0ZWQlMjB2aWElMjBjYWxsJTIwZ3JhcGhzJTIyJTJDJTBBJTIwJTIwJTIwJTIwJTIwJTIwJTIwJTIwZGlzcGxheSUzRCUyMmZ1bmtob3VzZXIlMjIlMkMlMEElMjAlMjAlMjAlMjAlMjAlMjAlMjAlMjBhdXRob3JzJTNEJTIyRnVua2hvdXNlciUyQyUyME93ZW4lMEFhbmQlMjBFdHprb3JuJTJDJTIwTGV0aGElMjBIdWdoZXMlMEFhbmQlMjBIdWdoZXMlMkMlMjBXaWxsaWFtJTIwRS4lMjIlMkMlMEElMjAlMjAlMjAlMjAlMjAlMjAlMjAlMjBwbGFjZSUzRFNRSiUyQyUwQSUyMCUyMCUyMCUyMCUyMCUyMCUyMCUyMHBwJTNEJTIyMTMxLS0xNTYlMjIlMkMlMEElMjAlMjAlMjAlMjAlMjAlMjAlMjAlMjBlbnRyeXR5cGUlM0QlMjJhcnRpY2xlJTIyJTJDJTBBJTIwJTIwJTIwJTIwJTIwJTIwJTIwJTIwbW9udGglM0QlMjJNYXIlMjIlMkMlMEElMjAlMjAlMjAlMjAlMjAlMjAlMjAlMjBkYXklM0QlMjIwMSUyMiUyQyUwQSUyMCUyMCUyMCUyMCUyMCUyMCUyMCUyMHZvbHVtZSUzRCUyMjE2JTIyJTJDJTBBJTIwJTIwJTIwJTIwJTIwJTIwJTIwJTIwbnVtYmVyJTNEJTIyMSUyMiUyQyUwQSUyMCUyMCUyMCUyMCUyMCUyMCUyMCUyMGlzc24lM0QlMjIxNTczLTEzNjclMjIlMkMlMEElMjAlMjAlMjAlMjAlMjAlMjAlMjAlMjBkb2klM0QlMjIxMC4xMDA3L3MxMTIxOS0wMDctOTAzNC0zJTIyJTJDJTBBJTIwJTIwJTIwJTIwJTIwJTIwJTIwJTIwSUQlM0QlMjJGdW5raG91c2VyMjAwOCUyMiUyQyUwQSUyMCUyMCUyMCUyMCUyMCUyMCUyMCUyMHNwcmluZ2VyMjAxNSUzRCUyMjElMjIlMkMlMEElMjAlMjAlMjAlMjAlMjAlMjAlMjAlMjBwbGFjZXglM0QlMjJTb2Z0d2FyZSUyMFF1YWxpdHklMjBKb3VybmFsJTIyJTJDJTBBJTIwJTIwJTIwJTIwJTI5JTI5JTBBJTI3JTI3JTI3JTI5JTNC\")));\n",
       "    "
      ],
      "text/plain": [
       "<IPython.core.display.Javascript object>"
      ]
     },
     "metadata": {},
     "output_type": "display_data"
    },
    {
     "data": {
      "application/javascript": [
       "$('span:contains(\"# Temp\")').closest('.cell').remove();"
      ],
      "text/plain": [
       "<IPython.core.display.Javascript object>"
      ]
     },
     "metadata": {},
     "output_type": "display_data"
    },
    {
     "data": {
      "application/javascript": [
       "\n",
       "        $('span:contains(\"# Temp\")').closest('.cell').remove();\n",
       "        var code = IPython.notebook.insert_cell_below('code');\n",
       "        code.set_text(decodeURIComponent(window.atob(\"JTIzJTIwVGVtcCUwQWluc2VydCUyOCUyNyUyNyUyNyUwQSUyMCUyMCUyMCUyMGdyYmFjMjAxNWElMjAlM0QlMjBEQiUyOFdvcmtVbnJlbGF0ZWQlMjglMEElMjAlMjAlMjAlMjAlMjAlMjAlMjAlMjAyMDE1JTJDJTIwJTIyQSUyMHF1YWxpdHklMjBjb3N0JTIwcmVkdWN0aW9uJTIwbW9kZWwlMjBmb3IlMjBsYXJnZS1zY2FsZSUyMHNvZnR3YXJlJTIwZGV2ZWxvcG1lbnQlMjIlMkMlMEElMjAlMjAlMjAlMjAlMjAlMjAlMjAlMjBkaXNwbGF5JTNEJTIyZ3JiYWMlMjIlMkMlMEElMjAlMjAlMjAlMjAlMjAlMjAlMjAlMjBhdXRob3JzJTNEJTIyR2FsaW5hYyUyMEdyYmFjJTJDJTIwVGloYW5hJTBBYW5kJTIwQ2FyJTJDJTIwJTdCJUM1JUJEJTdEZWxqa2ElMEFhbmQlMjBIdWxqZW5pJTdCJUM0JTg3JTdEJTJDJTIwRGFya28lMjIlMkMlMEElMjAlMjAlMjAlMjAlMjAlMjAlMjAlMjBwbGFjZSUzRFNRSiUyQyUwQSUyMCUyMCUyMCUyMCUyMCUyMCUyMCUyMHBwJTNEJTIyMzYzLS0zOTAlMjIlMkMlMEElMjAlMjAlMjAlMjAlMjAlMjAlMjAlMjBlbnRyeXR5cGUlM0QlMjJhcnRpY2xlJTIyJTJDJTBBJTIwJTIwJTIwJTIwJTIwJTIwJTIwJTIwbW9udGglM0QlMjJKdW4lMjIlMkMlMEElMjAlMjAlMjAlMjAlMjAlMjAlMjAlMjBkYXklM0QlMjIwMSUyMiUyQyUwQSUyMCUyMCUyMCUyMCUyMCUyMCUyMCUyMHZvbHVtZSUzRCUyMjIzJTIyJTJDJTBBJTIwJTIwJTIwJTIwJTIwJTIwJTIwJTIwbnVtYmVyJTNEJTIyMiUyMiUyQyUwQSUyMCUyMCUyMCUyMCUyMCUyMCUyMCUyMGlzc24lM0QlMjIxNTczLTEzNjclMjIlMkMlMEElMjAlMjAlMjAlMjAlMjAlMjAlMjAlMjBkb2klM0QlMjIxMC4xMDA3L3MxMTIxOS0wMTQtOTI0MC04JTIyJTJDJTBBJTIwJTIwJTIwJTIwJTIwJTIwJTIwJTIwSUQlM0QlMjJHYWxpbmFjR3JiYWMyMDE1JTIyJTJDJTBBJTIwJTIwJTIwJTIwJTIwJTIwJTIwJTIwc3ByaW5nZXIyMDE1JTNEJTIyMSUyMiUyQyUwQSUyMCUyMCUyMCUyMCUyMCUyMCUyMCUyMHBsYWNleCUzRCUyMlNvZnR3YXJlJTIwUXVhbGl0eSUyMEpvdXJuYWwlMjIlMkMlMEElMjAlMjAlMjAlMjAlMjklMjklMEElMjclMjclMjclMjklM0I=\")));\n",
       "    "
      ],
      "text/plain": [
       "<IPython.core.display.Javascript object>"
      ]
     },
     "metadata": {},
     "output_type": "display_data"
    },
    {
     "data": {
      "application/javascript": [
       "$('span:contains(\"# Temp\")').closest('.cell').remove();"
      ],
      "text/plain": [
       "<IPython.core.display.Javascript object>"
      ]
     },
     "metadata": {},
     "output_type": "display_data"
    },
    {
     "data": {
      "application/javascript": [
       "\n",
       "        $('span:contains(\"# Temp\")').closest('.cell').remove();\n",
       "        var code = IPython.notebook.insert_cell_below('code');\n",
       "        code.set_text(decodeURIComponent(window.atob(\"JTIzJTIwVGVtcCUwQWluc2VydCUyOCUyNyUyNyUyNyUwQSUyMCUyMCUyMCUyMGdyYmFjMjAxNWElMjAlM0QlMjBEQiUyOFdvcmtVbnJlbGF0ZWQlMjglMEElMjAlMjAlMjAlMjAlMjAlMjAlMjAlMjAyMDE1JTJDJTIwJTIyQSUyMHF1YWxpdHklMjBjb3N0JTIwcmVkdWN0aW9uJTIwbW9kZWwlMjBmb3IlMjBsYXJnZS1zY2FsZSUyMHNvZnR3YXJlJTIwZGV2ZWxvcG1lbnQlMjIlMkMlMEElMjAlMjAlMjAlMjAlMjAlMjAlMjAlMjBkaXNwbGF5JTNEJTIyZ3JiYWMlMjIlMkMlMEElMjAlMjAlMjAlMjAlMjAlMjAlMjAlMjBhdXRob3JzJTNEJTIyR2FsaW5hYyUyMEdyYmFjJTJDJTIwVGloYW5hJTBBYW5kJTIwQ2FyJTJDJTIwJTdCJUM1JUJEJTdEZWxqa2ElMEFhbmQlMjBIdWxqZW5pJTdCJUM0JTg3JTdEJTJDJTIwRGFya28lMjIlMkMlMEElMjAlMjAlMjAlMjAlMjAlMjAlMjAlMjBwbGFjZSUzRFNRSiUyQyUwQSUyMCUyMCUyMCUyMCUyMCUyMCUyMCUyMHBwJTNEJTIyMzYzLS0zOTAlMjIlMkMlMEElMjAlMjAlMjAlMjAlMjAlMjAlMjAlMjBlbnRyeXR5cGUlM0QlMjJhcnRpY2xlJTIyJTJDJTBBJTIwJTIwJTIwJTIwJTIwJTIwJTIwJTIwbW9udGglM0QlMjJKdW4lMjIlMkMlMEElMjAlMjAlMjAlMjAlMjAlMjAlMjAlMjBkYXklM0QlMjIwMSUyMiUyQyUwQSUyMCUyMCUyMCUyMCUyMCUyMCUyMCUyMHZvbHVtZSUzRCUyMjIzJTIyJTJDJTBBJTIwJTIwJTIwJTIwJTIwJTIwJTIwJTIwbnVtYmVyJTNEJTIyMiUyMiUyQyUwQSUyMCUyMCUyMCUyMCUyMCUyMCUyMCUyMGlzc24lM0QlMjIxNTczLTEzNjclMjIlMkMlMEElMjAlMjAlMjAlMjAlMjAlMjAlMjAlMjBkb2klM0QlMjIxMC4xMDA3L3MxMTIxOS0wMTQtOTI0MC04JTIyJTJDJTBBJTIwJTIwJTIwJTIwJTIwJTIwJTIwJTIwSUQlM0QlMjJHYWxpbmFjR3JiYWMyMDE1JTIyJTJDJTBBJTIwJTIwJTIwJTIwJTIwJTIwJTIwJTIwc3ByaW5nZXIyMDE1JTNEJTIyMSUyMiUyQyUwQSUyMCUyMCUyMCUyMCUyMCUyMCUyMCUyMHBsYWNleCUzRCUyMlNvZnR3YXJlJTIwUXVhbGl0eSUyMEpvdXJuYWwlMjIlMkMlMEElMjAlMjAlMjAlMjAlMjklMjklMEElMjclMjclMjclMjklM0I=\")));\n",
       "    "
      ],
      "text/plain": [
       "<IPython.core.display.Javascript object>"
      ]
     },
     "metadata": {},
     "output_type": "display_data"
    },
    {
     "data": {
      "application/javascript": [
       "$('span:contains(\"# Temp\")').closest('.cell').remove();"
      ],
      "text/plain": [
       "<IPython.core.display.Javascript object>"
      ]
     },
     "metadata": {},
     "output_type": "display_data"
    },
    {
     "data": {
      "application/javascript": [
       "\n",
       "        $('span:contains(\"# Temp\")').closest('.cell').remove();\n",
       "        var code = IPython.notebook.insert_cell_below('code');\n",
       "        code.set_text(decodeURIComponent(window.atob(\"JTIzJTIwVGVtcCUwQWluc2VydCUyOCUyNyUyNyUyNyUwQSUyMCUyMCUyMCUyMGRyYWdvMjAxNWElMjAlM0QlMjBEQiUyOFdvcmtVbnJlbGF0ZWQlMjglMEElMjAlMjAlMjAlMjAlMjAlMjAlMjAlMjAyMDE1JTJDJTIwJTIyQSUyMHF1YWxpdHklMjBkcml2ZW4lMjBleHRlbnNpb24lMjB0byUyMHRoZSUyMFFWVC1yZWxhdGlvbnMlMjB0cmFuc2Zvcm1hdGlvbiUwOSUwOSUwOWxhbmd1YWdlJTIyJTJDJTBBJTIwJTIwJTIwJTIwJTIwJTIwJTIwJTIwZGlzcGxheSUzRCUyMmRyYWdvJTIyJTJDJTBBJTIwJTIwJTIwJTIwJTIwJTIwJTIwJTIwYXV0aG9ycyUzRCUyMkRyYWdvJTJDJTIwTWF1cm8lMjBMdWlnaSUwQWFuZCUyMEdoZXp6aSUyQyUyMENhcmxvJTBBYW5kJTIwTWlyYW5kb2xhJTJDJTIwUmFmZmFlbGElMjIlMkMlMEElMjAlMjAlMjAlMjAlMjAlMjAlMjAlMjBwbGFjZSUzREZBS0UlMkMlMEElMjAlMjAlMjAlMjAlMjAlMjAlMjAlMjBwcCUzRCUyMjEtLTIwJTIyJTJDJTBBJTIwJTIwJTIwJTIwJTIwJTIwJTIwJTIwZW50cnl0eXBlJTNEJTIyYXJ0aWNsZSUyMiUyQyUwQSUyMCUyMCUyMCUyMCUyMCUyMCUyMCUyMG1vbnRoJTNEJTIyRmViJTIyJTJDJTBBJTIwJTIwJTIwJTIwJTIwJTIwJTIwJTIwZGF5JTNEJTIyMDElMjIlMkMlMEElMjAlMjAlMjAlMjAlMjAlMjAlMjAlMjB2b2x1bWUlM0QlMjIzMCUyMiUyQyUwQSUyMCUyMCUyMCUyMCUyMCUyMCUyMCUyMG51bWJlciUzRCUyMjElMjIlMkMlMEElMjAlMjAlMjAlMjAlMjAlMjAlMjAlMjBpc3NuJTNEJTIyMTg2NS0yMDQyJTIyJTJDJTBBJTIwJTIwJTIwJTIwJTIwJTIwJTIwJTIwZG9pJTNEJTIyMTAuMTAwNy9zMDA0NTAtMDExLTAyMDItMCUyMiUyQyUwQSUyMCUyMCUyMCUyMCUyMCUyMCUyMCUyMElEJTNEJTIyRHJhZ28yMDE1JTIyJTJDJTBBJTIwJTIwJTIwJTIwJTIwJTIwJTIwJTIwc3ByaW5nZXIyMDE1JTNEJTIyMSUyMiUyQyUwQSUyMCUyMCUyMCUyMCUyMCUyMCUyMCUyMHBsYWNleCUzRCUyMkNvbXB1dGVyJTIwU2NpZW5jZSUyMC0lMjBSZXNlYXJjaCUyMGFuZCUyMERldmVsb3BtZW50JTIyJTJDJTBBJTIwJTIwJTIwJTIwJTI5JTI5JTBBJTI3JTI3JTI3JTI5JTNC\")));\n",
       "    "
      ],
      "text/plain": [
       "<IPython.core.display.Javascript object>"
      ]
     },
     "metadata": {},
     "output_type": "display_data"
    },
    {
     "data": {
      "application/javascript": [
       "$('span:contains(\"# Temp\")').closest('.cell').remove();"
      ],
      "text/plain": [
       "<IPython.core.display.Javascript object>"
      ]
     },
     "metadata": {},
     "output_type": "display_data"
    },
    {
     "data": {
      "application/javascript": [
       "\n",
       "        $('span:contains(\"# Temp\")').closest('.cell').remove();\n",
       "        var code = IPython.notebook.insert_cell_below('code');\n",
       "        code.set_text(decodeURIComponent(window.atob(\"JTIzJTIwVGVtcCUwQWluc2VydCUyOCUyNyUyNyUyNyUwQSUyMCUyMCUyMCUyMGRyYWdvMjAxNWElMjAlM0QlMjBEQiUyOFdvcmtVbnJlbGF0ZWQlMjglMEElMjAlMjAlMjAlMjAlMjAlMjAlMjAlMjAyMDE1JTJDJTIwJTIyQSUyMHF1YWxpdHklMjBkcml2ZW4lMjBleHRlbnNpb24lMjB0byUyMHRoZSUyMFFWVC1yZWxhdGlvbnMlMjB0cmFuc2Zvcm1hdGlvbiUwOSUwOSUwOWxhbmd1YWdlJTIyJTJDJTBBJTIwJTIwJTIwJTIwJTIwJTIwJTIwJTIwZGlzcGxheSUzRCUyMmRyYWdvJTIyJTJDJTBBJTIwJTIwJTIwJTIwJTIwJTIwJTIwJTIwYXV0aG9ycyUzRCUyMkRyYWdvJTJDJTIwTWF1cm8lMjBMdWlnaSUwQWFuZCUyMEdoZXp6aSUyQyUyMENhcmxvJTBBYW5kJTIwTWlyYW5kb2xhJTJDJTIwUmFmZmFlbGElMjIlMkMlMEElMjAlMjAlMjAlMjAlMjAlMjAlMjAlMjBwbGFjZSUzREZBS0UlMkMlMEElMjAlMjAlMjAlMjAlMjAlMjAlMjAlMjBwcCUzRCUyMjEtLTIwJTIyJTJDJTBBJTIwJTIwJTIwJTIwJTIwJTIwJTIwJTIwZW50cnl0eXBlJTNEJTIyYXJ0aWNsZSUyMiUyQyUwQSUyMCUyMCUyMCUyMCUyMCUyMCUyMCUyMG1vbnRoJTNEJTIyRmViJTIyJTJDJTBBJTIwJTIwJTIwJTIwJTIwJTIwJTIwJTIwZGF5JTNEJTIyMDElMjIlMkMlMEElMjAlMjAlMjAlMjAlMjAlMjAlMjAlMjB2b2x1bWUlM0QlMjIzMCUyMiUyQyUwQSUyMCUyMCUyMCUyMCUyMCUyMCUyMCUyMG51bWJlciUzRCUyMjElMjIlMkMlMEElMjAlMjAlMjAlMjAlMjAlMjAlMjAlMjBpc3NuJTNEJTIyMTg2NS0yMDQyJTIyJTJDJTBBJTIwJTIwJTIwJTIwJTIwJTIwJTIwJTIwZG9pJTNEJTIyMTAuMTAwNy9zMDA0NTAtMDExLTAyMDItMCUyMiUyQyUwQSUyMCUyMCUyMCUyMCUyMCUyMCUyMCUyMElEJTNEJTIyRHJhZ28yMDE1JTIyJTJDJTBBJTIwJTIwJTIwJTIwJTIwJTIwJTIwJTIwc3ByaW5nZXIyMDE1JTNEJTIyMSUyMiUyQyUwQSUyMCUyMCUyMCUyMCUyMCUyMCUyMCUyMHBsYWNleCUzRCUyMkNvbXB1dGVyJTIwU2NpZW5jZSUyMC0lMjBSZXNlYXJjaCUyMGFuZCUyMERldmVsb3BtZW50JTIyJTJDJTBBJTIwJTIwJTIwJTIwJTI5JTI5JTBBJTI3JTI3JTI3JTI5JTNC\")));\n",
       "    "
      ],
      "text/plain": [
       "<IPython.core.display.Javascript object>"
      ]
     },
     "metadata": {},
     "output_type": "display_data"
    },
    {
     "data": {
      "application/javascript": [
       "$('span:contains(\"# Temp\")').closest('.cell').remove();"
      ],
      "text/plain": [
       "<IPython.core.display.Javascript object>"
      ]
     },
     "metadata": {},
     "output_type": "display_data"
    },
    {
     "data": {
      "application/javascript": [
       "\n",
       "        $('span:contains(\"# Temp\")').closest('.cell').remove();\n",
       "        var code = IPython.notebook.insert_cell_below('code');\n",
       "        code.set_text(decodeURIComponent(window.atob(\"JTIzJTIwVGVtcCUwQWluc2VydCUyOCUyNyUyNyUyNyUwQSUyMCUyMCUyMCUyMHBpbm8yMDE2YSUyMCUzRCUyMERCJTI4V29ya1VucmVsYXRlZCUyOCUwQSUyMCUyMCUyMCUyMCUyMCUyMCUyMCUyMDIwMTYlMkMlMjAlMjJBJTIwcmVzZWFyY2glMjBmcmFtZXdvcmslMjBmb3IlMjBidWlsZGluZyUyMFNQSSUyMHByb3Bvc2FscyUyMGluJTIwc21hbGwlMjBvcmdhbml6YXRpb25zJTNBJTIwdGhlJTIwQ09NUEVUSVNPRlQlMjBleHBlcmllbmNlJTIyJTJDJTBBJTIwJTIwJTIwJTIwJTIwJTIwJTIwJTIwZGlzcGxheSUzRCUyMnBpbm8lMjIlMkMlMEElMjAlMjAlMjAlMjAlMjAlMjAlMjAlMjBhdXRob3JzJTNEJTIyUGlubyUyQyUyMEZyYW5jaXNjbyUyMEouJTBBYW5kJTIwR2FyYyU3QmklQ0MlODElN0RhJTJDJTIwRmVsJTdCaSVDQyU4MSU3RHglMEFhbmQlMjBQaWF0dGluaSUyQyUyME1hcmlvJTBBYW5kJTIwT2t0YWJhJTJDJTIwSGFubmElMjIlMkMlMEElMjAlMjAlMjAlMjAlMjAlMjAlMjAlMjBwbGFjZSUzRFNRSiUyQyUwQSUyMCUyMCUyMCUyMCUyMCUyMCUyMCUyMHBwJTNEJTIyNDg5LS01MTglMjIlMkMlMEElMjAlMjAlMjAlMjAlMjAlMjAlMjAlMjBlbnRyeXR5cGUlM0QlMjJhcnRpY2xlJTIyJTJDJTBBJTIwJTIwJTIwJTIwJTIwJTIwJTIwJTIwbW9udGglM0QlMjJTZXAlMjIlMkMlMEElMjAlMjAlMjAlMjAlMjAlMjAlMjAlMjBkYXklM0QlMjIwMSUyMiUyQyUwQSUyMCUyMCUyMCUyMCUyMCUyMCUyMCUyMHZvbHVtZSUzRCUyMjI0JTIyJTJDJTBBJTIwJTIwJTIwJTIwJTIwJTIwJTIwJTIwbnVtYmVyJTNEJTIyMyUyMiUyQyUwQSUyMCUyMCUyMCUyMCUyMCUyMCUyMCUyMGlzc24lM0QlMjIxNTczLTEzNjclMjIlMkMlMEElMjAlMjAlMjAlMjAlMjAlMjAlMjAlMjBkb2klM0QlMjIxMC4xMDA3L3MxMTIxOS0wMTUtOTI3OC0yJTIyJTJDJTBBJTIwJTIwJTIwJTIwJTIwJTIwJTIwJTIwSUQlM0QlMjJQaW5vMjAxNiUyMiUyQyUwQSUyMCUyMCUyMCUyMCUyMCUyMCUyMCUyMHNwcmluZ2VyMjAxNSUzRCUyMjElMjIlMkMlMEElMjAlMjAlMjAlMjAlMjAlMjAlMjAlMjBwbGFjZXglM0QlMjJTb2Z0d2FyZSUyMFF1YWxpdHklMjBKb3VybmFsJTIyJTJDJTBBJTIwJTIwJTIwJTIwJTI5JTI5JTBBJTI3JTI3JTI3JTI5JTNC\")));\n",
       "    "
      ],
      "text/plain": [
       "<IPython.core.display.Javascript object>"
      ]
     },
     "metadata": {},
     "output_type": "display_data"
    },
    {
     "data": {
      "application/javascript": [
       "$('span:contains(\"# Temp\")').closest('.cell').remove();"
      ],
      "text/plain": [
       "<IPython.core.display.Javascript object>"
      ]
     },
     "metadata": {},
     "output_type": "display_data"
    },
    {
     "data": {
      "application/javascript": [
       "\n",
       "        $('span:contains(\"# Temp\")').closest('.cell').remove();\n",
       "        var code = IPython.notebook.insert_cell_below('code');\n",
       "        code.set_text(decodeURIComponent(window.atob(\"JTIzJTIwVGVtcCUwQWluc2VydCUyOCUyNyUyNyUyNyUwQSUyMCUyMCUyMCUyMHBpbm8yMDE2YSUyMCUzRCUyMERCJTI4V29ya1VucmVsYXRlZCUyOCUwQSUyMCUyMCUyMCUyMCUyMCUyMCUyMCUyMDIwMTYlMkMlMjAlMjJBJTIwcmVzZWFyY2glMjBmcmFtZXdvcmslMjBmb3IlMjBidWlsZGluZyUyMFNQSSUyMHByb3Bvc2FscyUyMGluJTIwc21hbGwlMjBvcmdhbml6YXRpb25zJTNBJTIwdGhlJTIwQ09NUEVUSVNPRlQlMjBleHBlcmllbmNlJTIyJTJDJTBBJTIwJTIwJTIwJTIwJTIwJTIwJTIwJTIwZGlzcGxheSUzRCUyMnBpbm8lMjIlMkMlMEElMjAlMjAlMjAlMjAlMjAlMjAlMjAlMjBhdXRob3JzJTNEJTIyUGlubyUyQyUyMEZyYW5jaXNjbyUyMEouJTBBYW5kJTIwR2FyYyU3QmklQ0MlODElN0RhJTJDJTIwRmVsJTdCaSVDQyU4MSU3RHglMEFhbmQlMjBQaWF0dGluaSUyQyUyME1hcmlvJTBBYW5kJTIwT2t0YWJhJTJDJTIwSGFubmElMjIlMkMlMEElMjAlMjAlMjAlMjAlMjAlMjAlMjAlMjBwbGFjZSUzRFNRSiUyQyUwQSUyMCUyMCUyMCUyMCUyMCUyMCUyMCUyMHBwJTNEJTIyNDg5LS01MTglMjIlMkMlMEElMjAlMjAlMjAlMjAlMjAlMjAlMjAlMjBlbnRyeXR5cGUlM0QlMjJhcnRpY2xlJTIyJTJDJTBBJTIwJTIwJTIwJTIwJTIwJTIwJTIwJTIwbW9udGglM0QlMjJTZXAlMjIlMkMlMEElMjAlMjAlMjAlMjAlMjAlMjAlMjAlMjBkYXklM0QlMjIwMSUyMiUyQyUwQSUyMCUyMCUyMCUyMCUyMCUyMCUyMCUyMHZvbHVtZSUzRCUyMjI0JTIyJTJDJTBBJTIwJTIwJTIwJTIwJTIwJTIwJTIwJTIwbnVtYmVyJTNEJTIyMyUyMiUyQyUwQSUyMCUyMCUyMCUyMCUyMCUyMCUyMCUyMGlzc24lM0QlMjIxNTczLTEzNjclMjIlMkMlMEElMjAlMjAlMjAlMjAlMjAlMjAlMjAlMjBkb2klM0QlMjIxMC4xMDA3L3MxMTIxOS0wMTUtOTI3OC0yJTIyJTJDJTBBJTIwJTIwJTIwJTIwJTIwJTIwJTIwJTIwSUQlM0QlMjJQaW5vMjAxNiUyMiUyQyUwQSUyMCUyMCUyMCUyMCUyMCUyMCUyMCUyMHNwcmluZ2VyMjAxNSUzRCUyMjElMjIlMkMlMEElMjAlMjAlMjAlMjAlMjAlMjAlMjAlMjBwbGFjZXglM0QlMjJTb2Z0d2FyZSUyMFF1YWxpdHklMjBKb3VybmFsJTIyJTJDJTBBJTIwJTIwJTIwJTIwJTI5JTI5JTBBJTI3JTI3JTI3JTI5JTNC\")));\n",
       "    "
      ],
      "text/plain": [
       "<IPython.core.display.Javascript object>"
      ]
     },
     "metadata": {},
     "output_type": "display_data"
    },
    {
     "data": {
      "application/javascript": [
       "$('span:contains(\"# Temp\")').closest('.cell').remove();"
      ],
      "text/plain": [
       "<IPython.core.display.Javascript object>"
      ]
     },
     "metadata": {},
     "output_type": "display_data"
    },
    {
     "data": {
      "application/javascript": [
       "\n",
       "        $('span:contains(\"# Temp\")').closest('.cell').remove();\n",
       "        var code = IPython.notebook.insert_cell_below('code');\n",
       "        code.set_text(decodeURIComponent(window.atob(\"JTIzJTIwVGVtcCUwQWluc2VydCUyOCUyNyUyNyUyNyUwQSUyMCUyMCUyMCUyMHBhdG5heWFrdW5pMjAxMGElMjAlM0QlMjBEQiUyOFdvcmtVbnJlbGF0ZWQlMjglMEElMjAlMjAlMjAlMjAlMjAlMjAlMjAlMjAyMDEwJTJDJTIwJTIyQSUyMHNvY2lvLXRlY2huaWNhbCUyMGFwcHJvYWNoJTIwdG8lMjBpbXByb3ZpbmclMjB0aGUlMjBzeXN0ZW1zJTIwZGV2ZWxvcG1lbnQlMjBwcm9jZXNzJTIyJTJDJTBBJTIwJTIwJTIwJTIwJTIwJTIwJTIwJTIwZGlzcGxheSUzRCUyMnBhdG5heWFrdW5pJTIyJTJDJTBBJTIwJTIwJTIwJTIwJTIwJTIwJTIwJTIwYXV0aG9ycyUzRCUyMlBhdG5heWFrdW5pJTJDJTIwUmF2aSUwQWFuZCUyMFJ1cHBlbCUyQyUyMEN5bnRoaWElMjBQLiUyMiUyQyUwQSUyMCUyMCUyMCUyMCUyMCUyMCUyMCUyMHBsYWNlJTNERkFLRSUyQyUwQSUyMCUyMCUyMCUyMCUyMCUyMCUyMCUyMHBwJTNEJTIyMjE5LS0yMzQlMjIlMkMlMEElMjAlMjAlMjAlMjAlMjAlMjAlMjAlMjBlbnRyeXR5cGUlM0QlMjJhcnRpY2xlJTIyJTJDJTBBJTIwJTIwJTIwJTIwJTIwJTIwJTIwJTIwbW9udGglM0QlMjJBcHIlMjIlMkMlMEElMjAlMjAlMjAlMjAlMjAlMjAlMjAlMjBkYXklM0QlMjIwMSUyMiUyQyUwQSUyMCUyMCUyMCUyMCUyMCUyMCUyMCUyMHZvbHVtZSUzRCUyMjEyJTIyJTJDJTBBJTIwJTIwJTIwJTIwJTIwJTIwJTIwJTIwbnVtYmVyJTNEJTIyMiUyMiUyQyUwQSUyMCUyMCUyMCUyMCUyMCUyMCUyMCUyMGlzc24lM0QlMjIxNTcyLTk0MTklMjIlMkMlMEElMjAlMjAlMjAlMjAlMjAlMjAlMjAlMjBkb2klM0QlMjIxMC4xMDA3L3MxMDc5Ni0wMDgtOTA5My00JTIyJTJDJTBBJTIwJTIwJTIwJTIwJTIwJTIwJTIwJTIwSUQlM0QlMjJQYXRuYXlha3VuaTIwMTAlMjIlMkMlMEElMjAlMjAlMjAlMjAlMjAlMjAlMjAlMjBzcHJpbmdlcjIwMTUlM0QlMjIxJTIyJTJDJTBBJTIwJTIwJTIwJTIwJTIwJTIwJTIwJTIwcGxhY2V4JTNEJTIySW5mb3JtYXRpb24lMjBTeXN0ZW1zJTIwRnJvbnRpZXJzJTIyJTJDJTBBJTIwJTIwJTIwJTIwJTI5JTI5JTBBJTI3JTI3JTI3JTI5JTNC\")));\n",
       "    "
      ],
      "text/plain": [
       "<IPython.core.display.Javascript object>"
      ]
     },
     "metadata": {},
     "output_type": "display_data"
    },
    {
     "data": {
      "application/javascript": [
       "$('span:contains(\"# Temp\")').closest('.cell').remove();"
      ],
      "text/plain": [
       "<IPython.core.display.Javascript object>"
      ]
     },
     "metadata": {},
     "output_type": "display_data"
    },
    {
     "data": {
      "application/javascript": [
       "\n",
       "        $('span:contains(\"# Temp\")').closest('.cell').remove();\n",
       "        var code = IPython.notebook.insert_cell_below('code');\n",
       "        code.set_text(decodeURIComponent(window.atob(\"JTIzJTIwVGVtcCUwQWluc2VydCUyOCUyNyUyNyUyNyUwQSUyMCUyMCUyMCUyMHBhdG5heWFrdW5pMjAxMGElMjAlM0QlMjBEQiUyOFdvcmtVbnJlbGF0ZWQlMjglMEElMjAlMjAlMjAlMjAlMjAlMjAlMjAlMjAyMDEwJTJDJTIwJTIyQSUyMHNvY2lvLXRlY2huaWNhbCUyMGFwcHJvYWNoJTIwdG8lMjBpbXByb3ZpbmclMjB0aGUlMjBzeXN0ZW1zJTIwZGV2ZWxvcG1lbnQlMjBwcm9jZXNzJTIyJTJDJTBBJTIwJTIwJTIwJTIwJTIwJTIwJTIwJTIwZGlzcGxheSUzRCUyMnBhdG5heWFrdW5pJTIyJTJDJTBBJTIwJTIwJTIwJTIwJTIwJTIwJTIwJTIwYXV0aG9ycyUzRCUyMlBhdG5heWFrdW5pJTJDJTIwUmF2aSUwQWFuZCUyMFJ1cHBlbCUyQyUyMEN5bnRoaWElMjBQLiUyMiUyQyUwQSUyMCUyMCUyMCUyMCUyMCUyMCUyMCUyMHBsYWNlJTNERkFLRSUyQyUwQSUyMCUyMCUyMCUyMCUyMCUyMCUyMCUyMHBwJTNEJTIyMjE5LS0yMzQlMjIlMkMlMEElMjAlMjAlMjAlMjAlMjAlMjAlMjAlMjBlbnRyeXR5cGUlM0QlMjJhcnRpY2xlJTIyJTJDJTBBJTIwJTIwJTIwJTIwJTIwJTIwJTIwJTIwbW9udGglM0QlMjJBcHIlMjIlMkMlMEElMjAlMjAlMjAlMjAlMjAlMjAlMjAlMjBkYXklM0QlMjIwMSUyMiUyQyUwQSUyMCUyMCUyMCUyMCUyMCUyMCUyMCUyMHZvbHVtZSUzRCUyMjEyJTIyJTJDJTBBJTIwJTIwJTIwJTIwJTIwJTIwJTIwJTIwbnVtYmVyJTNEJTIyMiUyMiUyQyUwQSUyMCUyMCUyMCUyMCUyMCUyMCUyMCUyMGlzc24lM0QlMjIxNTcyLTk0MTklMjIlMkMlMEElMjAlMjAlMjAlMjAlMjAlMjAlMjAlMjBkb2klM0QlMjIxMC4xMDA3L3MxMDc5Ni0wMDgtOTA5My00JTIyJTJDJTBBJTIwJTIwJTIwJTIwJTIwJTIwJTIwJTIwSUQlM0QlMjJQYXRuYXlha3VuaTIwMTAlMjIlMkMlMEElMjAlMjAlMjAlMjAlMjAlMjAlMjAlMjBzcHJpbmdlcjIwMTUlM0QlMjIxJTIyJTJDJTBBJTIwJTIwJTIwJTIwJTIwJTIwJTIwJTIwcGxhY2V4JTNEJTIySW5mb3JtYXRpb24lMjBTeXN0ZW1zJTIwRnJvbnRpZXJzJTIyJTJDJTBBJTIwJTIwJTIwJTIwJTI5JTI5JTBBJTI3JTI3JTI3JTI5JTNC\")));\n",
       "    "
      ],
      "text/plain": [
       "<IPython.core.display.Javascript object>"
      ]
     },
     "metadata": {},
     "output_type": "display_data"
    },
    {
     "data": {
      "application/javascript": [
       "$('span:contains(\"# Temp\")').closest('.cell').remove();"
      ],
      "text/plain": [
       "<IPython.core.display.Javascript object>"
      ]
     },
     "metadata": {},
     "output_type": "display_data"
    },
    {
     "data": {
      "application/javascript": [
       "\n",
       "        $('span:contains(\"# Temp\")').closest('.cell').remove();\n",
       "        var code = IPython.notebook.insert_cell_below('code');\n",
       "        code.set_text(decodeURIComponent(window.atob(\"JTIzJTIwVGVtcCUwQWluc2VydCUyOCUyNyUyNyUyNyUwQSUyMCUyMCUyMCUyMGNodTIwMTJhJTIwJTNEJTIwREIlMjhXb3JrVW5yZWxhdGVkJTI4JTBBJTIwJTIwJTIwJTIwJTIwJTIwJTIwJTIwMjAxMiUyQyUyMCUyMkElMjB0ZXN0JTIwY2FzZSUyMHJlZmFjdG9yaW5nJTIwYXBwcm9hY2glMjBmb3IlMjBwYXR0ZXJuLWJhc2VkJTIwc29mdHdhcmUlMjBkZXZlbG9wbWVudCUyMiUyQyUwQSUyMCUyMCUyMCUyMCUyMCUyMCUyMCUyMGRpc3BsYXklM0QlMjJjaHUlMjIlMkMlMEElMjAlMjAlMjAlMjAlMjAlMjAlMjAlMjBhdXRob3JzJTNEJTIyQ2h1JTJDJTIwUGVuZy1IdWElMEFhbmQlMjBIc3VlaCUyQyUyME5pZW4tTGluJTBBYW5kJTIwQ2hlbiUyQyUyMEhvbmctSHNpYW5nJTBBYW5kJTIwTGl1JTJDJTIwQ2hpZW4tSHVuZyUyMiUyQyUwQSUyMCUyMCUyMCUyMCUyMCUyMCUyMCUyMHBsYWNlJTNEU1FKJTJDJTBBJTIwJTIwJTIwJTIwJTIwJTIwJTIwJTIwcHAlM0QlMjI0My0tNzUlMjIlMkMlMEElMjAlMjAlMjAlMjAlMjAlMjAlMjAlMjBlbnRyeXR5cGUlM0QlMjJhcnRpY2xlJTIyJTJDJTBBJTIwJTIwJTIwJTIwJTIwJTIwJTIwJTIwbW9udGglM0QlMjJNYXIlMjIlMkMlMEElMjAlMjAlMjAlMjAlMjAlMjAlMjAlMjBkYXklM0QlMjIwMSUyMiUyQyUwQSUyMCUyMCUyMCUyMCUyMCUyMCUyMCUyMHZvbHVtZSUzRCUyMjIwJTIyJTJDJTBBJTIwJTIwJTIwJTIwJTIwJTIwJTIwJTIwbnVtYmVyJTNEJTIyMSUyMiUyQyUwQSUyMCUyMCUyMCUyMCUyMCUyMCUyMCUyMGlzc24lM0QlMjIxNTczLTEzNjclMjIlMkMlMEElMjAlMjAlMjAlMjAlMjAlMjAlMjAlMjBkb2klM0QlMjIxMC4xMDA3L3MxMTIxOS0wMTEtOTE0My14JTIyJTJDJTBBJTIwJTIwJTIwJTIwJTIwJTIwJTIwJTIwSUQlM0QlMjJDaHUyMDEyJTIyJTJDJTBBJTIwJTIwJTIwJTIwJTIwJTIwJTIwJTIwc3ByaW5nZXIyMDE1JTNEJTIyMSUyMiUyQyUwQSUyMCUyMCUyMCUyMCUyMCUyMCUyMCUyMHBsYWNleCUzRCUyMlNvZnR3YXJlJTIwUXVhbGl0eSUyMEpvdXJuYWwlMjIlMkMlMEElMjAlMjAlMjAlMjAlMjklMjklMEElMjclMjclMjclMjklM0I=\")));\n",
       "    "
      ],
      "text/plain": [
       "<IPython.core.display.Javascript object>"
      ]
     },
     "metadata": {},
     "output_type": "display_data"
    },
    {
     "data": {
      "application/javascript": [
       "$('span:contains(\"# Temp\")').closest('.cell').remove();"
      ],
      "text/plain": [
       "<IPython.core.display.Javascript object>"
      ]
     },
     "metadata": {},
     "output_type": "display_data"
    },
    {
     "data": {
      "application/javascript": [
       "\n",
       "        $('span:contains(\"# Temp\")').closest('.cell').remove();\n",
       "        var code = IPython.notebook.insert_cell_below('code');\n",
       "        code.set_text(decodeURIComponent(window.atob(\"JTIzJTIwVGVtcCUwQWluc2VydCUyOCUyNyUyNyUyNyUwQSUyMCUyMCUyMCUyMGNodTIwMTJhJTIwJTNEJTIwREIlMjhXb3JrVW5yZWxhdGVkJTI4JTBBJTIwJTIwJTIwJTIwJTIwJTIwJTIwJTIwMjAxMiUyQyUyMCUyMkElMjB0ZXN0JTIwY2FzZSUyMHJlZmFjdG9yaW5nJTIwYXBwcm9hY2glMjBmb3IlMjBwYXR0ZXJuLWJhc2VkJTIwc29mdHdhcmUlMjBkZXZlbG9wbWVudCUyMiUyQyUwQSUyMCUyMCUyMCUyMCUyMCUyMCUyMCUyMGRpc3BsYXklM0QlMjJjaHUlMjIlMkMlMEElMjAlMjAlMjAlMjAlMjAlMjAlMjAlMjBhdXRob3JzJTNEJTIyQ2h1JTJDJTIwUGVuZy1IdWElMEFhbmQlMjBIc3VlaCUyQyUyME5pZW4tTGluJTBBYW5kJTIwQ2hlbiUyQyUyMEhvbmctSHNpYW5nJTBBYW5kJTIwTGl1JTJDJTIwQ2hpZW4tSHVuZyUyMiUyQyUwQSUyMCUyMCUyMCUyMCUyMCUyMCUyMCUyMHBsYWNlJTNEU1FKJTJDJTBBJTIwJTIwJTIwJTIwJTIwJTIwJTIwJTIwcHAlM0QlMjI0My0tNzUlMjIlMkMlMEElMjAlMjAlMjAlMjAlMjAlMjAlMjAlMjBlbnRyeXR5cGUlM0QlMjJhcnRpY2xlJTIyJTJDJTBBJTIwJTIwJTIwJTIwJTIwJTIwJTIwJTIwbW9udGglM0QlMjJNYXIlMjIlMkMlMEElMjAlMjAlMjAlMjAlMjAlMjAlMjAlMjBkYXklM0QlMjIwMSUyMiUyQyUwQSUyMCUyMCUyMCUyMCUyMCUyMCUyMCUyMHZvbHVtZSUzRCUyMjIwJTIyJTJDJTBBJTIwJTIwJTIwJTIwJTIwJTIwJTIwJTIwbnVtYmVyJTNEJTIyMSUyMiUyQyUwQSUyMCUyMCUyMCUyMCUyMCUyMCUyMCUyMGlzc24lM0QlMjIxNTczLTEzNjclMjIlMkMlMEElMjAlMjAlMjAlMjAlMjAlMjAlMjAlMjBkb2klM0QlMjIxMC4xMDA3L3MxMTIxOS0wMTEtOTE0My14JTIyJTJDJTBBJTIwJTIwJTIwJTIwJTIwJTIwJTIwJTIwSUQlM0QlMjJDaHUyMDEyJTIyJTJDJTBBJTIwJTIwJTIwJTIwJTIwJTIwJTIwJTIwc3ByaW5nZXIyMDE1JTNEJTIyMSUyMiUyQyUwQSUyMCUyMCUyMCUyMCUyMCUyMCUyMCUyMHBsYWNleCUzRCUyMlNvZnR3YXJlJTIwUXVhbGl0eSUyMEpvdXJuYWwlMjIlMkMlMEElMjAlMjAlMjAlMjAlMjklMjklMEElMjclMjclMjclMjklM0I=\")));\n",
       "    "
      ],
      "text/plain": [
       "<IPython.core.display.Javascript object>"
      ]
     },
     "metadata": {},
     "output_type": "display_data"
    },
    {
     "data": {
      "application/javascript": [
       "$('span:contains(\"# Temp\")').closest('.cell').remove();"
      ],
      "text/plain": [
       "<IPython.core.display.Javascript object>"
      ]
     },
     "metadata": {},
     "output_type": "display_data"
    },
    {
     "data": {
      "application/javascript": [
       "\n",
       "        $('span:contains(\"# Temp\")').closest('.cell').remove();\n",
       "        var code = IPython.notebook.insert_cell_below('code');\n",
       "        code.set_text(decodeURIComponent(window.atob(\"JTIzJTIwVGVtcCUwQWluc2VydCUyOCUyNyUyNyUyNyUwQSUyMCUyMCUyMCUyMHJpdW5ndTIwMTZhJTIwJTNEJTIwREIlMjhXb3JrVW5yZWxhdGVkJTI4JTBBJTIwJTIwJTIwJTIwJTIwJTIwJTIwJTIwMjAxNiUyQyUyMCUyMkFkb3B0aW9uJTIwYW5kJTIwdXNlJTIwb2YlMjBjbG91ZC1iYXNlZCUyMHRlc3RpbmclMjBpbiUyMHByYWN0aWNlJTIyJTJDJTBBJTIwJTIwJTIwJTIwJTIwJTIwJTIwJTIwZGlzcGxheSUzRCUyMnJpdW5ndSUyMiUyQyUwQSUyMCUyMCUyMCUyMCUyMCUyMCUyMCUyMGF1dGhvcnMlM0QlMjJSaXVuZ3UtS2FsbGlvc2FhcmklMkMlMjBMZWFoJTBBYW5kJTIwVGFpcGFsZSUyQyUyME9zc2klMEFhbmQlMjBTbW9sYW5kZXIlMkMlMjBLYXJpJTBBYW5kJTIwUmljaGFyZHNvbiUyQyUyMEl0YSUyMiUyQyUwQSUyMCUyMCUyMCUyMCUyMCUyMCUyMCUyMHBsYWNlJTNEU1FKJTJDJTBBJTIwJTIwJTIwJTIwJTIwJTIwJTIwJTIwcHAlM0QlMjIzMzctLTM2NCUyMiUyQyUwQSUyMCUyMCUyMCUyMCUyMCUyMCUyMCUyMGVudHJ5dHlwZSUzRCUyMmFydGljbGUlMjIlMkMlMEElMjAlMjAlMjAlMjAlMjAlMjAlMjAlMjBtb250aCUzRCUyMkp1biUyMiUyQyUwQSUyMCUyMCUyMCUyMCUyMCUyMCUyMCUyMGRheSUzRCUyMjAxJTIyJTJDJTBBJTIwJTIwJTIwJTIwJTIwJTIwJTIwJTIwdm9sdW1lJTNEJTIyMjQlMjIlMkMlMEElMjAlMjAlMjAlMjAlMjAlMjAlMjAlMjBudW1iZXIlM0QlMjIyJTIyJTJDJTBBJTIwJTIwJTIwJTIwJTIwJTIwJTIwJTIwaXNzbiUzRCUyMjE1NzMtMTM2NyUyMiUyQyUwQSUyMCUyMCUyMCUyMCUyMCUyMCUyMCUyMGRvaSUzRCUyMjEwLjEwMDcvczExMjE5LTAxNC05MjU2LTAlMjIlMkMlMEElMjAlMjAlMjAlMjAlMjAlMjAlMjAlMjBJRCUzRCUyMlJpdW5ndS1LYWxsaW9zYWFyaTIwMTYlMjIlMkMlMEElMjAlMjAlMjAlMjAlMjAlMjAlMjAlMjBzcHJpbmdlcjIwMTUlM0QlMjIxJTIyJTJDJTBBJTIwJTIwJTIwJTIwJTIwJTIwJTIwJTIwcGxhY2V4JTNEJTIyU29mdHdhcmUlMjBRdWFsaXR5JTIwSm91cm5hbCUyMiUyQyUwQSUyMCUyMCUyMCUyMCUyOSUyOSUwQSUyNyUyNyUyNyUyOSUzQg==\")));\n",
       "    "
      ],
      "text/plain": [
       "<IPython.core.display.Javascript object>"
      ]
     },
     "metadata": {},
     "output_type": "display_data"
    },
    {
     "data": {
      "application/javascript": [
       "$('span:contains(\"# Temp\")').closest('.cell').remove();"
      ],
      "text/plain": [
       "<IPython.core.display.Javascript object>"
      ]
     },
     "metadata": {},
     "output_type": "display_data"
    },
    {
     "data": {
      "application/javascript": [
       "\n",
       "        $('span:contains(\"# Temp\")').closest('.cell').remove();\n",
       "        var code = IPython.notebook.insert_cell_below('code');\n",
       "        code.set_text(decodeURIComponent(window.atob(\"JTIzJTIwVGVtcCUwQWluc2VydCUyOCUyNyUyNyUyNyUwQSUyMCUyMCUyMCUyMHJpdW5ndTIwMTZhJTIwJTNEJTIwREIlMjhXb3JrVW5yZWxhdGVkJTI4JTBBJTIwJTIwJTIwJTIwJTIwJTIwJTIwJTIwMjAxNiUyQyUyMCUyMkFkb3B0aW9uJTIwYW5kJTIwdXNlJTIwb2YlMjBjbG91ZC1iYXNlZCUyMHRlc3RpbmclMjBpbiUyMHByYWN0aWNlJTIyJTJDJTBBJTIwJTIwJTIwJTIwJTIwJTIwJTIwJTIwZGlzcGxheSUzRCUyMnJpdW5ndSUyMiUyQyUwQSUyMCUyMCUyMCUyMCUyMCUyMCUyMCUyMGF1dGhvcnMlM0QlMjJSaXVuZ3UtS2FsbGlvc2FhcmklMkMlMjBMZWFoJTBBYW5kJTIwVGFpcGFsZSUyQyUyME9zc2klMEFhbmQlMjBTbW9sYW5kZXIlMkMlMjBLYXJpJTBBYW5kJTIwUmljaGFyZHNvbiUyQyUyMEl0YSUyMiUyQyUwQSUyMCUyMCUyMCUyMCUyMCUyMCUyMCUyMHBsYWNlJTNEU1FKJTJDJTBBJTIwJTIwJTIwJTIwJTIwJTIwJTIwJTIwcHAlM0QlMjIzMzctLTM2NCUyMiUyQyUwQSUyMCUyMCUyMCUyMCUyMCUyMCUyMCUyMGVudHJ5dHlwZSUzRCUyMmFydGljbGUlMjIlMkMlMEElMjAlMjAlMjAlMjAlMjAlMjAlMjAlMjBtb250aCUzRCUyMkp1biUyMiUyQyUwQSUyMCUyMCUyMCUyMCUyMCUyMCUyMCUyMGRheSUzRCUyMjAxJTIyJTJDJTBBJTIwJTIwJTIwJTIwJTIwJTIwJTIwJTIwdm9sdW1lJTNEJTIyMjQlMjIlMkMlMEElMjAlMjAlMjAlMjAlMjAlMjAlMjAlMjBudW1iZXIlM0QlMjIyJTIyJTJDJTBBJTIwJTIwJTIwJTIwJTIwJTIwJTIwJTIwaXNzbiUzRCUyMjE1NzMtMTM2NyUyMiUyQyUwQSUyMCUyMCUyMCUyMCUyMCUyMCUyMCUyMGRvaSUzRCUyMjEwLjEwMDcvczExMjE5LTAxNC05MjU2LTAlMjIlMkMlMEElMjAlMjAlMjAlMjAlMjAlMjAlMjAlMjBJRCUzRCUyMlJpdW5ndS1LYWxsaW9zYWFyaTIwMTYlMjIlMkMlMEElMjAlMjAlMjAlMjAlMjAlMjAlMjAlMjBzcHJpbmdlcjIwMTUlM0QlMjIxJTIyJTJDJTBBJTIwJTIwJTIwJTIwJTIwJTIwJTIwJTIwcGxhY2V4JTNEJTIyU29mdHdhcmUlMjBRdWFsaXR5JTIwSm91cm5hbCUyMiUyQyUwQSUyMCUyMCUyMCUyMCUyOSUyOSUwQSUyNyUyNyUyNyUyOSUzQg==\")));\n",
       "    "
      ],
      "text/plain": [
       "<IPython.core.display.Javascript object>"
      ]
     },
     "metadata": {},
     "output_type": "display_data"
    },
    {
     "data": {
      "application/javascript": [
       "$('span:contains(\"# Temp\")').closest('.cell').remove();"
      ],
      "text/plain": [
       "<IPython.core.display.Javascript object>"
      ]
     },
     "metadata": {},
     "output_type": "display_data"
    },
    {
     "data": {
      "application/javascript": [
       "\n",
       "        $('span:contains(\"# Temp\")').closest('.cell').remove();\n",
       "        var code = IPython.notebook.insert_cell_below('code');\n",
       "        code.set_text(decodeURIComponent(window.atob(\"JTIzJTIwVGVtcCUwQWluc2VydCUyOCUyNyUyNyUyNyUwQSUyMCUyMCUyMCUyMGxpMjAwNmIlMjAlM0QlMjBEQiUyOFdvcmtVbnJlbGF0ZWQlMjglMEElMjAlMjAlMjAlMjAlMjAlMjAlMjAlMjAyMDA2JTJDJTIwJTIyQW4lMjBlbXBpcmljYWwlMjBzdHVkeSUyMG9mJTIwdmFyaWF0aW9ucyUyMGluJTIwQ09UUy1iYXNlZCUyMHNvZnR3YXJlJTIwZGV2ZWxvcG1lbnQlMjBwcm9jZXNzZXMlMjBpbiUyMHRoZSUyME5vcndlZ2lhbiUyMElUJTIwaW5kdXN0cnklMjIlMkMlMEElMjAlMjAlMjAlMjAlMjAlMjAlMjAlMjBkaXNwbGF5JTNEJTIybGklMjBiJTIyJTJDJTBBJTIwJTIwJTIwJTIwJTIwJTIwJTIwJTIwYXV0aG9ycyUzRCUyMkxpJTJDJTIwSmluZ3l1ZSUwQWFuZCUyMEJqJUMzJUI4cm5zb24lMkMlMjBGaW5uJTIwT2xhdiUwQWFuZCUyMENvbnJhZGklMkMlMjBSZWlkYXIlMEFhbmQlMjBLYW1wZW5lcyUyQyUyMFZpZ2RpcyUyMEIuJTIyJTJDJTBBJTIwJTIwJTIwJTIwJTIwJTIwJTIwJTIwcGxhY2UlM0RFU0UlMkMlMEElMjAlMjAlMjAlMjAlMjAlMjAlMjAlMjBwcCUzRCUyMjQzMy0tNDYxJTIyJTJDJTBBJTIwJTIwJTIwJTIwJTIwJTIwJTIwJTIwZW50cnl0eXBlJTNEJTIyYXJ0aWNsZSUyMiUyQyUwQSUyMCUyMCUyMCUyMCUyMCUyMCUyMCUyMG1vbnRoJTNEJTIyU2VwJTIyJTJDJTBBJTIwJTIwJTIwJTIwJTIwJTIwJTIwJTIwZGF5JTNEJTIyMDElMjIlMkMlMEElMjAlMjAlMjAlMjAlMjAlMjAlMjAlMjB2b2x1bWUlM0QlMjIxMSUyMiUyQyUwQSUyMCUyMCUyMCUyMCUyMCUyMCUyMCUyMG51bWJlciUzRCUyMjMlMjIlMkMlMEElMjAlMjAlMjAlMjAlMjAlMjAlMjAlMjBpc3NuJTNEJTIyMTU3My03NjE2JTIyJTJDJTBBJTIwJTIwJTIwJTIwJTIwJTIwJTIwJTIwZG9pJTNEJTIyMTAuMTAwNy9zMTA2NjQtMDA2LTkwMDUtNSUyMiUyQyUwQSUyMCUyMCUyMCUyMCUyMCUyMCUyMCUyMElEJTNEJTIyTGkyMDA2JTIyJTJDJTBBJTIwJTIwJTIwJTIwJTIwJTIwJTIwJTIwc3ByaW5nZXIyMDE1JTNEJTIyMSUyMiUyQyUwQSUyMCUyMCUyMCUyMCUyMCUyMCUyMCUyMHBsYWNleCUzRCUyMkVtcGlyaWNhbCUyMFNvZnR3YXJlJTIwRW5naW5lZXJpbmclMjIlMkMlMEElMjAlMjAlMjAlMjAlMjklMjklMEElMjclMjclMjclMjklM0I=\")));\n",
       "    "
      ],
      "text/plain": [
       "<IPython.core.display.Javascript object>"
      ]
     },
     "metadata": {},
     "output_type": "display_data"
    },
    {
     "data": {
      "application/javascript": [
       "$('span:contains(\"# Temp\")').closest('.cell').remove();"
      ],
      "text/plain": [
       "<IPython.core.display.Javascript object>"
      ]
     },
     "metadata": {},
     "output_type": "display_data"
    },
    {
     "data": {
      "application/javascript": [
       "\n",
       "        $('span:contains(\"# Temp\")').closest('.cell').remove();\n",
       "        var code = IPython.notebook.insert_cell_below('code');\n",
       "        code.set_text(decodeURIComponent(window.atob(\"JTIzJTIwVGVtcCUwQWluc2VydCUyOCUyNyUyNyUyNyUwQSUyMCUyMCUyMCUyMGxpMjAwNmIlMjAlM0QlMjBEQiUyOFdvcmtVbnJlbGF0ZWQlMjglMEElMjAlMjAlMjAlMjAlMjAlMjAlMjAlMjAyMDA2JTJDJTIwJTIyQW4lMjBlbXBpcmljYWwlMjBzdHVkeSUyMG9mJTIwdmFyaWF0aW9ucyUyMGluJTIwQ09UUy1iYXNlZCUyMHNvZnR3YXJlJTIwZGV2ZWxvcG1lbnQlMjBwcm9jZXNzZXMlMjBpbiUyMHRoZSUyME5vcndlZ2lhbiUyMElUJTIwaW5kdXN0cnklMjIlMkMlMEElMjAlMjAlMjAlMjAlMjAlMjAlMjAlMjBkaXNwbGF5JTNEJTIybGklMjBiJTIyJTJDJTBBJTIwJTIwJTIwJTIwJTIwJTIwJTIwJTIwYXV0aG9ycyUzRCUyMkxpJTJDJTIwSmluZ3l1ZSUwQWFuZCUyMEJqJUMzJUI4cm5zb24lMkMlMjBGaW5uJTIwT2xhdiUwQWFuZCUyMENvbnJhZGklMkMlMjBSZWlkYXIlMEFhbmQlMjBLYW1wZW5lcyUyQyUyMFZpZ2RpcyUyMEIuJTIyJTJDJTBBJTIwJTIwJTIwJTIwJTIwJTIwJTIwJTIwcGxhY2UlM0RFU0UlMkMlMEElMjAlMjAlMjAlMjAlMjAlMjAlMjAlMjBwcCUzRCUyMjQzMy0tNDYxJTIyJTJDJTBBJTIwJTIwJTIwJTIwJTIwJTIwJTIwJTIwZW50cnl0eXBlJTNEJTIyYXJ0aWNsZSUyMiUyQyUwQSUyMCUyMCUyMCUyMCUyMCUyMCUyMCUyMG1vbnRoJTNEJTIyU2VwJTIyJTJDJTBBJTIwJTIwJTIwJTIwJTIwJTIwJTIwJTIwZGF5JTNEJTIyMDElMjIlMkMlMEElMjAlMjAlMjAlMjAlMjAlMjAlMjAlMjB2b2x1bWUlM0QlMjIxMSUyMiUyQyUwQSUyMCUyMCUyMCUyMCUyMCUyMCUyMCUyMG51bWJlciUzRCUyMjMlMjIlMkMlMEElMjAlMjAlMjAlMjAlMjAlMjAlMjAlMjBpc3NuJTNEJTIyMTU3My03NjE2JTIyJTJDJTBBJTIwJTIwJTIwJTIwJTIwJTIwJTIwJTIwZG9pJTNEJTIyMTAuMTAwNy9zMTA2NjQtMDA2LTkwMDUtNSUyMiUyQyUwQSUyMCUyMCUyMCUyMCUyMCUyMCUyMCUyMElEJTNEJTIyTGkyMDA2JTIyJTJDJTBBJTIwJTIwJTIwJTIwJTIwJTIwJTIwJTIwc3ByaW5nZXIyMDE1JTNEJTIyMSUyMiUyQyUwQSUyMCUyMCUyMCUyMCUyMCUyMCUyMCUyMHBsYWNleCUzRCUyMkVtcGlyaWNhbCUyMFNvZnR3YXJlJTIwRW5naW5lZXJpbmclMjIlMkMlMEElMjAlMjAlMjAlMjAlMjklMjklMEElMjclMjclMjclMjklM0I=\")));\n",
       "    "
      ],
      "text/plain": [
       "<IPython.core.display.Javascript object>"
      ]
     },
     "metadata": {},
     "output_type": "display_data"
    },
    {
     "data": {
      "application/javascript": [
       "$('span:contains(\"# Temp\")').closest('.cell').remove();"
      ],
      "text/plain": [
       "<IPython.core.display.Javascript object>"
      ]
     },
     "metadata": {},
     "output_type": "display_data"
    },
    {
     "data": {
      "application/javascript": [
       "\n",
       "        $('span:contains(\"# Temp\")').closest('.cell').remove();\n",
       "        var code = IPython.notebook.insert_cell_below('code');\n",
       "        code.set_text(decodeURIComponent(window.atob(\"JTIzJTIwVGVtcCUwQWluc2VydCUyOCUyNyUyNyUyNyUwQSUyMCUyMCUyMCUyMDIwMTRhJTIwJTNEJTIwREIlMjhXb3JrVW5yZWxhdGVkJTI4JTBBJTIwJTIwJTIwJTIwJTIwJTIwJTIwJTIwMjAxNCUyQyUyMCUyMkFuJTIwZW1waXJpY2FsbHklMjBiYXNlZCUyMHRlcm1pbm9sb2d5JTIwYW5kJTIwdGF4b25vbXklMjBmb3IlMjBnbG9iYWwlMjBzb2Z0d2FyZSUyMGVuZ2luZWVyaW5nJTIyJTJDJTBBJTIwJTIwJTIwJTIwJTIwJTIwJTIwJTIwZGlzcGxheSUzRCUyMiUyMiUyQyUwQSUyMCUyMCUyMCUyMCUyMCUyMCUyMCUyMGF1dGhvcnMlM0QlMjIlN0IlQzUlQTAlN0RtaXRlJTJDJTIwRGFyamElMEFhbmQlMjBXb2hsaW4lMkMlMjBDbGFlcyUwQWFuZCUyMEdhbHZpJTdCJUM1JTg2JTdEYSUyQyUyMFphbmUlMEFhbmQlMjBQcmlrbGFkbmlja2klMkMlMjBSYWZhZWwlMjIlMkMlMEElMjAlMjAlMjAlMjAlMjAlMjAlMjAlMjBwbGFjZSUzREVTRSUyQyUwQSUyMCUyMCUyMCUyMCUyMCUyMCUyMCUyMHBwJTNEJTIyMTA1LS0xNTMlMjIlMkMlMEElMjAlMjAlMjAlMjAlMjAlMjAlMjAlMjBlbnRyeXR5cGUlM0QlMjJhcnRpY2xlJTIyJTJDJTBBJTIwJTIwJTIwJTIwJTIwJTIwJTIwJTIwbW9udGglM0QlMjJGZWIlMjIlMkMlMEElMjAlMjAlMjAlMjAlMjAlMjAlMjAlMjBkYXklM0QlMjIwMSUyMiUyQyUwQSUyMCUyMCUyMCUyMCUyMCUyMCUyMCUyMHZvbHVtZSUzRCUyMjE5JTIyJTJDJTBBJTIwJTIwJTIwJTIwJTIwJTIwJTIwJTIwbnVtYmVyJTNEJTIyMSUyMiUyQyUwQSUyMCUyMCUyMCUyMCUyMCUyMCUyMCUyMGlzc24lM0QlMjIxNTczLTc2MTYlMjIlMkMlMEElMjAlMjAlMjAlMjAlMjAlMjAlMjAlMjBkb2klM0QlMjIxMC4xMDA3L3MxMDY2NC0wMTItOTIxNy05JTIyJTJDJTBBJTIwJTIwJTIwJTIwJTIwJTIwJTIwJTIwSUQlM0QlMjIlQzUlQTBtaXRlMjAxNCUyMiUyQyUwQSUyMCUyMCUyMCUyMCUyMCUyMCUyMCUyMHNwcmluZ2VyMjAxNSUzRCUyMjElMjIlMkMlMEElMjAlMjAlMjAlMjAlMjAlMjAlMjAlMjBwbGFjZXglM0QlMjJFbXBpcmljYWwlMjBTb2Z0d2FyZSUyMEVuZ2luZWVyaW5nJTIyJTJDJTBBJTIwJTIwJTIwJTIwJTI5JTI5JTBBJTI3JTI3JTI3JTI5JTNC\")));\n",
       "    "
      ],
      "text/plain": [
       "<IPython.core.display.Javascript object>"
      ]
     },
     "metadata": {},
     "output_type": "display_data"
    },
    {
     "data": {
      "application/javascript": [
       "$('span:contains(\"# Temp\")').closest('.cell').remove();"
      ],
      "text/plain": [
       "<IPython.core.display.Javascript object>"
      ]
     },
     "metadata": {},
     "output_type": "display_data"
    },
    {
     "data": {
      "application/javascript": [
       "\n",
       "        $('span:contains(\"# Temp\")').closest('.cell').remove();\n",
       "        var code = IPython.notebook.insert_cell_below('code');\n",
       "        code.set_text(decodeURIComponent(window.atob(\"JTIzJTIwVGVtcCUwQWluc2VydCUyOCUyNyUyNyUyNyUwQSUyMCUyMCUyMCUyMDIwMTRhJTIwJTNEJTIwREIlMjhXb3JrVW5yZWxhdGVkJTI4JTBBJTIwJTIwJTIwJTIwJTIwJTIwJTIwJTIwMjAxNCUyQyUyMCUyMkFuJTIwZW1waXJpY2FsbHklMjBiYXNlZCUyMHRlcm1pbm9sb2d5JTIwYW5kJTIwdGF4b25vbXklMjBmb3IlMjBnbG9iYWwlMjBzb2Z0d2FyZSUyMGVuZ2luZWVyaW5nJTIyJTJDJTBBJTIwJTIwJTIwJTIwJTIwJTIwJTIwJTIwZGlzcGxheSUzRCUyMiUyMiUyQyUwQSUyMCUyMCUyMCUyMCUyMCUyMCUyMCUyMGF1dGhvcnMlM0QlMjIlN0IlQzUlQTAlN0RtaXRlJTJDJTIwRGFyamElMEFhbmQlMjBXb2hsaW4lMkMlMjBDbGFlcyUwQWFuZCUyMEdhbHZpJTdCJUM1JTg2JTdEYSUyQyUyMFphbmUlMEFhbmQlMjBQcmlrbGFkbmlja2klMkMlMjBSYWZhZWwlMjIlMkMlMEElMjAlMjAlMjAlMjAlMjAlMjAlMjAlMjBwbGFjZSUzREVTRSUyQyUwQSUyMCUyMCUyMCUyMCUyMCUyMCUyMCUyMHBwJTNEJTIyMTA1LS0xNTMlMjIlMkMlMEElMjAlMjAlMjAlMjAlMjAlMjAlMjAlMjBlbnRyeXR5cGUlM0QlMjJhcnRpY2xlJTIyJTJDJTBBJTIwJTIwJTIwJTIwJTIwJTIwJTIwJTIwbW9udGglM0QlMjJGZWIlMjIlMkMlMEElMjAlMjAlMjAlMjAlMjAlMjAlMjAlMjBkYXklM0QlMjIwMSUyMiUyQyUwQSUyMCUyMCUyMCUyMCUyMCUyMCUyMCUyMHZvbHVtZSUzRCUyMjE5JTIyJTJDJTBBJTIwJTIwJTIwJTIwJTIwJTIwJTIwJTIwbnVtYmVyJTNEJTIyMSUyMiUyQyUwQSUyMCUyMCUyMCUyMCUyMCUyMCUyMCUyMGlzc24lM0QlMjIxNTczLTc2MTYlMjIlMkMlMEElMjAlMjAlMjAlMjAlMjAlMjAlMjAlMjBkb2klM0QlMjIxMC4xMDA3L3MxMDY2NC0wMTItOTIxNy05JTIyJTJDJTBBJTIwJTIwJTIwJTIwJTIwJTIwJTIwJTIwSUQlM0QlMjIlQzUlQTBtaXRlMjAxNCUyMiUyQyUwQSUyMCUyMCUyMCUyMCUyMCUyMCUyMCUyMHNwcmluZ2VyMjAxNSUzRCUyMjElMjIlMkMlMEElMjAlMjAlMjAlMjAlMjAlMjAlMjAlMjBwbGFjZXglM0QlMjJFbXBpcmljYWwlMjBTb2Z0d2FyZSUyMEVuZ2luZWVyaW5nJTIyJTJDJTBBJTIwJTIwJTIwJTIwJTI5JTI5JTBBJTI3JTI3JTI3JTI5JTNC\")));\n",
       "    "
      ],
      "text/plain": [
       "<IPython.core.display.Javascript object>"
      ]
     },
     "metadata": {},
     "output_type": "display_data"
    },
    {
     "data": {
      "application/javascript": [
       "$('span:contains(\"# Temp\")').closest('.cell').remove();"
      ],
      "text/plain": [
       "<IPython.core.display.Javascript object>"
      ]
     },
     "metadata": {},
     "output_type": "display_data"
    },
    {
     "data": {
      "application/javascript": [
       "\n",
       "        $('span:contains(\"# Temp\")').closest('.cell').remove();\n",
       "        var code = IPython.notebook.insert_cell_below('code');\n",
       "        code.set_text(decodeURIComponent(window.atob(\"JTIzJTIwVGVtcCUwQWluc2VydCUyOCUyNyUyNyUyNyUwQSUyMCUyMCUyMCUyMHNoYXJwMjAwNGElMjAlM0QlMjBEQiUyOFdvcmtVbnJlbGF0ZWQlMjglMEElMjAlMjAlMjAlMjAlMjAlMjAlMjAlMjAyMDA0JTJDJTIwJTIyQW4lMjBFdGhub2dyYXBoaWMlMjBTdHVkeSUyMG9mJTIwWFAlMjBQcmFjdGljZSUyMiUyQyUwQSUyMCUyMCUyMCUyMCUyMCUyMCUyMCUyMGRpc3BsYXklM0QlMjJzaGFycCUyMiUyQyUwQSUyMCUyMCUyMCUyMCUyMCUyMCUyMCUyMGF1dGhvcnMlM0QlMjJTaGFycCUyQyUyMEhlbGVuJTBBYW5kJTIwUm9iaW5zb24lMkMlMjBIdWdoJTIyJTJDJTBBJTIwJTIwJTIwJTIwJTIwJTIwJTIwJTIwcGxhY2UlM0RFU0UlMkMlMEElMjAlMjAlMjAlMjAlMjAlMjAlMjAlMjBwcCUzRCUyMjM1My0tMzc1JTIyJTJDJTBBJTIwJTIwJTIwJTIwJTIwJTIwJTIwJTIwZW50cnl0eXBlJTNEJTIyYXJ0aWNsZSUyMiUyQyUwQSUyMCUyMCUyMCUyMCUyMCUyMCUyMCUyMG1vbnRoJTNEJTIyRGVjJTIyJTJDJTBBJTIwJTIwJTIwJTIwJTIwJTIwJTIwJTIwZGF5JTNEJTIyMDElMjIlMkMlMEElMjAlMjAlMjAlMjAlMjAlMjAlMjAlMjB2b2x1bWUlM0QlMjI5JTIyJTJDJTBBJTIwJTIwJTIwJTIwJTIwJTIwJTIwJTIwbnVtYmVyJTNEJTIyNCUyMiUyQyUwQSUyMCUyMCUyMCUyMCUyMCUyMCUyMCUyMGlzc24lM0QlMjIxNTczLTc2MTYlMjIlMkMlMEElMjAlMjAlMjAlMjAlMjAlMjAlMjAlMjBkb2klM0QlMjIxMC4xMDIzL0IlM0FFTVNFLjAwMDAwMzk4ODQuNzkzODUuNTQlMjIlMkMlMEElMjAlMjAlMjAlMjAlMjAlMjAlMjAlMjBJRCUzRCUyMlNoYXJwMjAwNCUyMiUyQyUwQSUyMCUyMCUyMCUyMCUyMCUyMCUyMCUyMHNwcmluZ2VyMjAxNSUzRCUyMjElMjIlMkMlMEElMjAlMjAlMjAlMjAlMjAlMjAlMjAlMjBwbGFjZXglM0QlMjJFbXBpcmljYWwlMjBTb2Z0d2FyZSUyMEVuZ2luZWVyaW5nJTIyJTJDJTBBJTIwJTIwJTIwJTIwJTI5JTI5JTBBJTI3JTI3JTI3JTI5JTNC\")));\n",
       "    "
      ],
      "text/plain": [
       "<IPython.core.display.Javascript object>"
      ]
     },
     "metadata": {},
     "output_type": "display_data"
    },
    {
     "data": {
      "application/javascript": [
       "$('span:contains(\"# Temp\")').closest('.cell').remove();"
      ],
      "text/plain": [
       "<IPython.core.display.Javascript object>"
      ]
     },
     "metadata": {},
     "output_type": "display_data"
    },
    {
     "data": {
      "application/javascript": [
       "\n",
       "        $('span:contains(\"# Temp\")').closest('.cell').remove();\n",
       "        var code = IPython.notebook.insert_cell_below('code');\n",
       "        code.set_text(decodeURIComponent(window.atob(\"JTIzJTIwVGVtcCUwQWluc2VydCUyOCUyNyUyNyUyNyUwQSUyMCUyMCUyMCUyMHNoYXJwMjAwNGElMjAlM0QlMjBEQiUyOFdvcmtVbnJlbGF0ZWQlMjglMEElMjAlMjAlMjAlMjAlMjAlMjAlMjAlMjAyMDA0JTJDJTIwJTIyQW4lMjBFdGhub2dyYXBoaWMlMjBTdHVkeSUyMG9mJTIwWFAlMjBQcmFjdGljZSUyMiUyQyUwQSUyMCUyMCUyMCUyMCUyMCUyMCUyMCUyMGRpc3BsYXklM0QlMjJzaGFycCUyMiUyQyUwQSUyMCUyMCUyMCUyMCUyMCUyMCUyMCUyMGF1dGhvcnMlM0QlMjJTaGFycCUyQyUyMEhlbGVuJTBBYW5kJTIwUm9iaW5zb24lMkMlMjBIdWdoJTIyJTJDJTBBJTIwJTIwJTIwJTIwJTIwJTIwJTIwJTIwcGxhY2UlM0RFU0UlMkMlMEElMjAlMjAlMjAlMjAlMjAlMjAlMjAlMjBwcCUzRCUyMjM1My0tMzc1JTIyJTJDJTBBJTIwJTIwJTIwJTIwJTIwJTIwJTIwJTIwZW50cnl0eXBlJTNEJTIyYXJ0aWNsZSUyMiUyQyUwQSUyMCUyMCUyMCUyMCUyMCUyMCUyMCUyMG1vbnRoJTNEJTIyRGVjJTIyJTJDJTBBJTIwJTIwJTIwJTIwJTIwJTIwJTIwJTIwZGF5JTNEJTIyMDElMjIlMkMlMEElMjAlMjAlMjAlMjAlMjAlMjAlMjAlMjB2b2x1bWUlM0QlMjI5JTIyJTJDJTBBJTIwJTIwJTIwJTIwJTIwJTIwJTIwJTIwbnVtYmVyJTNEJTIyNCUyMiUyQyUwQSUyMCUyMCUyMCUyMCUyMCUyMCUyMCUyMGlzc24lM0QlMjIxNTczLTc2MTYlMjIlMkMlMEElMjAlMjAlMjAlMjAlMjAlMjAlMjAlMjBkb2klM0QlMjIxMC4xMDIzL0IlM0FFTVNFLjAwMDAwMzk4ODQuNzkzODUuNTQlMjIlMkMlMEElMjAlMjAlMjAlMjAlMjAlMjAlMjAlMjBJRCUzRCUyMlNoYXJwMjAwNCUyMiUyQyUwQSUyMCUyMCUyMCUyMCUyMCUyMCUyMCUyMHNwcmluZ2VyMjAxNSUzRCUyMjElMjIlMkMlMEElMjAlMjAlMjAlMjAlMjAlMjAlMjAlMjBwbGFjZXglM0QlMjJFbXBpcmljYWwlMjBTb2Z0d2FyZSUyMEVuZ2luZWVyaW5nJTIyJTJDJTBBJTIwJTIwJTIwJTIwJTI5JTI5JTBBJTI3JTI3JTI3JTI5JTNC\")));\n",
       "    "
      ],
      "text/plain": [
       "<IPython.core.display.Javascript object>"
      ]
     },
     "metadata": {},
     "output_type": "display_data"
    },
    {
     "data": {
      "application/javascript": [
       "$('span:contains(\"# Temp\")').closest('.cell').remove();"
      ],
      "text/plain": [
       "<IPython.core.display.Javascript object>"
      ]
     },
     "metadata": {},
     "output_type": "display_data"
    },
    {
     "data": {
      "application/javascript": [
       "\n",
       "        $('span:contains(\"# Temp\")').closest('.cell').remove();\n",
       "        var code = IPython.notebook.insert_cell_below('code');\n",
       "        code.set_text(decodeURIComponent(window.atob(\"JTIzJTIwVGVtcCUwQWluc2VydCUyOCUyNyUyNyUyNyUwQSUyMCUyMCUyMCUyMGxvcm1hbnMyMDA4YSUyMCUzRCUyMERCJTI4V29ya1VucmVsYXRlZCUyOCUwQSUyMCUyMCUyMCUyMCUyMCUyMCUyMCUyMDIwMDglMkMlMjAlMjJBbiUyMGluZHVzdHJpYWwlMjBjYXNlJTIwc3R1ZHklMjBpbiUyMHJlY29uc3RydWN0aW5nJTIwcmVxdWlyZW1lbnRzJTIwdmlld3MlMjIlMkMlMEElMjAlMjAlMjAlMjAlMjAlMjAlMjAlMjBkaXNwbGF5JTNEJTIybG9ybWFucyUyMiUyQyUwQSUyMCUyMCUyMCUyMCUyMCUyMCUyMCUyMGF1dGhvcnMlM0QlMjJMb3JtYW5zJTJDJTIwTWFyY28lMEFhbmQlMjB2YW4lMjBEZXVyc2VuJTJDJTIwQXJpZSUwQWFuZCUyMEdyb3NzJTJDJTIwSGFucy1HZXJoYXJkJTIyJTJDJTBBJTIwJTIwJTIwJTIwJTIwJTIwJTIwJTIwcGxhY2UlM0RFU0UlMkMlMEElMjAlMjAlMjAlMjAlMjAlMjAlMjAlMjBwcCUzRCUyMjcyNy0tNzYwJTIyJTJDJTBBJTIwJTIwJTIwJTIwJTIwJTIwJTIwJTIwZW50cnl0eXBlJTNEJTIyYXJ0aWNsZSUyMiUyQyUwQSUyMCUyMCUyMCUyMCUyMCUyMCUyMCUyMG1vbnRoJTNEJTIyRGVjJTIyJTJDJTBBJTIwJTIwJTIwJTIwJTIwJTIwJTIwJTIwZGF5JTNEJTIyMDElMjIlMkMlMEElMjAlMjAlMjAlMjAlMjAlMjAlMjAlMjB2b2x1bWUlM0QlMjIxMyUyMiUyQyUwQSUyMCUyMCUyMCUyMCUyMCUyMCUyMCUyMG51bWJlciUzRCUyMjYlMjIlMkMlMEElMjAlMjAlMjAlMjAlMjAlMjAlMjAlMjBpc3NuJTNEJTIyMTU3My03NjE2JTIyJTJDJTBBJTIwJTIwJTIwJTIwJTIwJTIwJTIwJTIwZG9pJTNEJTIyMTAuMTAwNy9zMTA2NjQtMDA4LTkwNzgtNCUyMiUyQyUwQSUyMCUyMCUyMCUyMCUyMCUyMCUyMCUyMElEJTNEJTIyTG9ybWFuczIwMDglMjIlMkMlMEElMjAlMjAlMjAlMjAlMjAlMjAlMjAlMjBzcHJpbmdlcjIwMTUlM0QlMjIxJTIyJTJDJTBBJTIwJTIwJTIwJTIwJTIwJTIwJTIwJTIwcGxhY2V4JTNEJTIyRW1waXJpY2FsJTIwU29mdHdhcmUlMjBFbmdpbmVlcmluZyUyMiUyQyUwQSUyMCUyMCUyMCUyMCUyOSUyOSUwQSUyNyUyNyUyNyUyOSUzQg==\")));\n",
       "    "
      ],
      "text/plain": [
       "<IPython.core.display.Javascript object>"
      ]
     },
     "metadata": {},
     "output_type": "display_data"
    },
    {
     "data": {
      "application/javascript": [
       "$('span:contains(\"# Temp\")').closest('.cell').remove();"
      ],
      "text/plain": [
       "<IPython.core.display.Javascript object>"
      ]
     },
     "metadata": {},
     "output_type": "display_data"
    },
    {
     "data": {
      "application/javascript": [
       "\n",
       "        $('span:contains(\"# Temp\")').closest('.cell').remove();\n",
       "        var code = IPython.notebook.insert_cell_below('code');\n",
       "        code.set_text(decodeURIComponent(window.atob(\"JTIzJTIwVGVtcCUwQWluc2VydCUyOCUyNyUyNyUyNyUwQSUyMCUyMCUyMCUyMGxvcm1hbnMyMDA4YSUyMCUzRCUyMERCJTI4V29ya1VucmVsYXRlZCUyOCUwQSUyMCUyMCUyMCUyMCUyMCUyMCUyMCUyMDIwMDglMkMlMjAlMjJBbiUyMGluZHVzdHJpYWwlMjBjYXNlJTIwc3R1ZHklMjBpbiUyMHJlY29uc3RydWN0aW5nJTIwcmVxdWlyZW1lbnRzJTIwdmlld3MlMjIlMkMlMEElMjAlMjAlMjAlMjAlMjAlMjAlMjAlMjBkaXNwbGF5JTNEJTIybG9ybWFucyUyMiUyQyUwQSUyMCUyMCUyMCUyMCUyMCUyMCUyMCUyMGF1dGhvcnMlM0QlMjJMb3JtYW5zJTJDJTIwTWFyY28lMEFhbmQlMjB2YW4lMjBEZXVyc2VuJTJDJTIwQXJpZSUwQWFuZCUyMEdyb3NzJTJDJTIwSGFucy1HZXJoYXJkJTIyJTJDJTBBJTIwJTIwJTIwJTIwJTIwJTIwJTIwJTIwcGxhY2UlM0RFU0UlMkMlMEElMjAlMjAlMjAlMjAlMjAlMjAlMjAlMjBwcCUzRCUyMjcyNy0tNzYwJTIyJTJDJTBBJTIwJTIwJTIwJTIwJTIwJTIwJTIwJTIwZW50cnl0eXBlJTNEJTIyYXJ0aWNsZSUyMiUyQyUwQSUyMCUyMCUyMCUyMCUyMCUyMCUyMCUyMG1vbnRoJTNEJTIyRGVjJTIyJTJDJTBBJTIwJTIwJTIwJTIwJTIwJTIwJTIwJTIwZGF5JTNEJTIyMDElMjIlMkMlMEElMjAlMjAlMjAlMjAlMjAlMjAlMjAlMjB2b2x1bWUlM0QlMjIxMyUyMiUyQyUwQSUyMCUyMCUyMCUyMCUyMCUyMCUyMCUyMG51bWJlciUzRCUyMjYlMjIlMkMlMEElMjAlMjAlMjAlMjAlMjAlMjAlMjAlMjBpc3NuJTNEJTIyMTU3My03NjE2JTIyJTJDJTBBJTIwJTIwJTIwJTIwJTIwJTIwJTIwJTIwZG9pJTNEJTIyMTAuMTAwNy9zMTA2NjQtMDA4LTkwNzgtNCUyMiUyQyUwQSUyMCUyMCUyMCUyMCUyMCUyMCUyMCUyMElEJTNEJTIyTG9ybWFuczIwMDglMjIlMkMlMEElMjAlMjAlMjAlMjAlMjAlMjAlMjAlMjBzcHJpbmdlcjIwMTUlM0QlMjIxJTIyJTJDJTBBJTIwJTIwJTIwJTIwJTIwJTIwJTIwJTIwcGxhY2V4JTNEJTIyRW1waXJpY2FsJTIwU29mdHdhcmUlMjBFbmdpbmVlcmluZyUyMiUyQyUwQSUyMCUyMCUyMCUyMCUyOSUyOSUwQSUyNyUyNyUyNyUyOSUzQg==\")));\n",
       "    "
      ],
      "text/plain": [
       "<IPython.core.display.Javascript object>"
      ]
     },
     "metadata": {},
     "output_type": "display_data"
    },
    {
     "data": {
      "application/javascript": [
       "$('span:contains(\"# Temp\")').closest('.cell').remove();"
      ],
      "text/plain": [
       "<IPython.core.display.Javascript object>"
      ]
     },
     "metadata": {},
     "output_type": "display_data"
    },
    {
     "data": {
      "application/javascript": [
       "\n",
       "        $('span:contains(\"# Temp\")').closest('.cell').remove();\n",
       "        var code = IPython.notebook.insert_cell_below('code');\n",
       "        code.set_text(decodeURIComponent(window.atob(\"JTIzJTIwVGVtcCUwQWluc2VydCUyOCUyNyUyNyUyNyUwQSUyMCUyMCUyMCUyMGRhbWlhbjIwMDRhJTIwJTNEJTIwREIlMjhXb3JrVW5yZWxhdGVkJTI4JTBBJTIwJTIwJTIwJTIwJTIwJTIwJTIwJTIwMjAwNCUyQyUyMCUyMkFuJTIwSW5kdXN0cmlhbCUyMENhc2UlMjBTdHVkeSUyMG9mJTIwSW1tZWRpYXRlJTIwQmVuZWZpdHMlMjBvZiUyMFJlcXVpcmVtZW50cyUyMEVuZ2luZWVyaW5nJTIwUHJvY2VzcyUyMEltcHJvdmVtZW50JTIwYXQlMjB0aGUlMjBBdXN0cmFsaWFuJTIwQ2VudGVyJTIwZm9yJTIwVW5pc3lzJTIwU29mdHdhcmUlMjIlMkMlMEElMjAlMjAlMjAlMjAlMjAlMjAlMjAlMjBkaXNwbGF5JTNEJTIyZGFtaWFuJTIyJTJDJTBBJTIwJTIwJTIwJTIwJTIwJTIwJTIwJTIwYXV0aG9ycyUzRCUyMkRhbWlhbiUyQyUyMERhbmllbGElMEFhbmQlMjBab3dnaGklMkMlMjBEaWRhciUwQWFuZCUyMFZhaWR5YW5hdGhhc2FteSUyQyUyMExha3NobWluYXJheWFuYW4lMEFhbmQlMjBQYWwlMkMlMjBZb2dlbmRyYSUyMiUyQyUwQSUyMCUyMCUyMCUyMCUyMCUyMCUyMCUyMHBsYWNlJTNERVNFJTJDJTBBJTIwJTIwJTIwJTIwJTIwJTIwJTIwJTIwcHAlM0QlMjI0NS0tNzUlMjIlMkMlMEElMjAlMjAlMjAlMjAlMjAlMjAlMjAlMjBlbnRyeXR5cGUlM0QlMjJhcnRpY2xlJTIyJTJDJTBBJTIwJTIwJTIwJTIwJTIwJTIwJTIwJTIwbW9udGglM0QlMjJNYXIlMjIlMkMlMEElMjAlMjAlMjAlMjAlMjAlMjAlMjAlMjBkYXklM0QlMjIwMSUyMiUyQyUwQSUyMCUyMCUyMCUyMCUyMCUyMCUyMCUyMHZvbHVtZSUzRCUyMjklMjIlMkMlMEElMjAlMjAlMjAlMjAlMjAlMjAlMjAlMjBudW1iZXIlM0QlMjIxJTIyJTJDJTBBJTIwJTIwJTIwJTIwJTIwJTIwJTIwJTIwaXNzbiUzRCUyMjE1NzMtNzYxNiUyMiUyQyUwQSUyMCUyMCUyMCUyMCUyMCUyMCUyMCUyMGRvaSUzRCUyMjEwLjEwMjMvQiUzQUVNU0UuMDAwMDAxMzUxNC4xOTU2Ny5hZCUyMiUyQyUwQSUyMCUyMCUyMCUyMCUyMCUyMCUyMCUyMElEJTNEJTIyRGFtaWFuMjAwNCUyMiUyQyUwQSUyMCUyMCUyMCUyMCUyMCUyMCUyMCUyMHNwcmluZ2VyMjAxNSUzRCUyMjElMjIlMkMlMEElMjAlMjAlMjAlMjAlMjAlMjAlMjAlMjBwbGFjZXglM0QlMjJFbXBpcmljYWwlMjBTb2Z0d2FyZSUyMEVuZ2luZWVyaW5nJTIyJTJDJTBBJTIwJTIwJTIwJTIwJTI5JTI5JTBBJTI3JTI3JTI3JTI5JTNC\")));\n",
       "    "
      ],
      "text/plain": [
       "<IPython.core.display.Javascript object>"
      ]
     },
     "metadata": {},
     "output_type": "display_data"
    },
    {
     "data": {
      "application/javascript": [
       "$('span:contains(\"# Temp\")').closest('.cell').remove();"
      ],
      "text/plain": [
       "<IPython.core.display.Javascript object>"
      ]
     },
     "metadata": {},
     "output_type": "display_data"
    },
    {
     "data": {
      "application/javascript": [
       "\n",
       "        $('span:contains(\"# Temp\")').closest('.cell').remove();\n",
       "        var code = IPython.notebook.insert_cell_below('code');\n",
       "        code.set_text(decodeURIComponent(window.atob(\"JTIzJTIwVGVtcCUwQWluc2VydCUyOCUyNyUyNyUyNyUwQSUyMCUyMCUyMCUyMGRhbWlhbjIwMDRhJTIwJTNEJTIwREIlMjhXb3JrVW5yZWxhdGVkJTI4JTBBJTIwJTIwJTIwJTIwJTIwJTIwJTIwJTIwMjAwNCUyQyUyMCUyMkFuJTIwSW5kdXN0cmlhbCUyMENhc2UlMjBTdHVkeSUyMG9mJTIwSW1tZWRpYXRlJTIwQmVuZWZpdHMlMjBvZiUyMFJlcXVpcmVtZW50cyUyMEVuZ2luZWVyaW5nJTIwUHJvY2VzcyUyMEltcHJvdmVtZW50JTIwYXQlMjB0aGUlMjBBdXN0cmFsaWFuJTIwQ2VudGVyJTIwZm9yJTIwVW5pc3lzJTIwU29mdHdhcmUlMjIlMkMlMEElMjAlMjAlMjAlMjAlMjAlMjAlMjAlMjBkaXNwbGF5JTNEJTIyZGFtaWFuJTIyJTJDJTBBJTIwJTIwJTIwJTIwJTIwJTIwJTIwJTIwYXV0aG9ycyUzRCUyMkRhbWlhbiUyQyUyMERhbmllbGElMEFhbmQlMjBab3dnaGklMkMlMjBEaWRhciUwQWFuZCUyMFZhaWR5YW5hdGhhc2FteSUyQyUyMExha3NobWluYXJheWFuYW4lMEFhbmQlMjBQYWwlMkMlMjBZb2dlbmRyYSUyMiUyQyUwQSUyMCUyMCUyMCUyMCUyMCUyMCUyMCUyMHBsYWNlJTNERVNFJTJDJTBBJTIwJTIwJTIwJTIwJTIwJTIwJTIwJTIwcHAlM0QlMjI0NS0tNzUlMjIlMkMlMEElMjAlMjAlMjAlMjAlMjAlMjAlMjAlMjBlbnRyeXR5cGUlM0QlMjJhcnRpY2xlJTIyJTJDJTBBJTIwJTIwJTIwJTIwJTIwJTIwJTIwJTIwbW9udGglM0QlMjJNYXIlMjIlMkMlMEElMjAlMjAlMjAlMjAlMjAlMjAlMjAlMjBkYXklM0QlMjIwMSUyMiUyQyUwQSUyMCUyMCUyMCUyMCUyMCUyMCUyMCUyMHZvbHVtZSUzRCUyMjklMjIlMkMlMEElMjAlMjAlMjAlMjAlMjAlMjAlMjAlMjBudW1iZXIlM0QlMjIxJTIyJTJDJTBBJTIwJTIwJTIwJTIwJTIwJTIwJTIwJTIwaXNzbiUzRCUyMjE1NzMtNzYxNiUyMiUyQyUwQSUyMCUyMCUyMCUyMCUyMCUyMCUyMCUyMGRvaSUzRCUyMjEwLjEwMjMvQiUzQUVNU0UuMDAwMDAxMzUxNC4xOTU2Ny5hZCUyMiUyQyUwQSUyMCUyMCUyMCUyMCUyMCUyMCUyMCUyMElEJTNEJTIyRGFtaWFuMjAwNCUyMiUyQyUwQSUyMCUyMCUyMCUyMCUyMCUyMCUyMCUyMHNwcmluZ2VyMjAxNSUzRCUyMjElMjIlMkMlMEElMjAlMjAlMjAlMjAlMjAlMjAlMjAlMjBwbGFjZXglM0QlMjJFbXBpcmljYWwlMjBTb2Z0d2FyZSUyMEVuZ2luZWVyaW5nJTIyJTJDJTBBJTIwJTIwJTIwJTIwJTI5JTI5JTBBJTI3JTI3JTI3JTI5JTNC\")));\n",
       "    "
      ],
      "text/plain": [
       "<IPython.core.display.Javascript object>"
      ]
     },
     "metadata": {},
     "output_type": "display_data"
    },
    {
     "data": {
      "application/javascript": [
       "$('span:contains(\"# Temp\")').closest('.cell').remove();"
      ],
      "text/plain": [
       "<IPython.core.display.Javascript object>"
      ]
     },
     "metadata": {},
     "output_type": "display_data"
    },
    {
     "data": {
      "application/javascript": [
       "\n",
       "        $('span:contains(\"# Temp\")').closest('.cell').remove();\n",
       "        var code = IPython.notebook.insert_cell_below('code');\n",
       "        code.set_text(decodeURIComponent(window.atob(\"JTIzJTIwVGVtcCUwQWluc2VydCUyOCUyNyUyNyUyNyUwQSUyMCUyMCUyMCUyMGFobWVkMjAxMGElMjAlM0QlMjBEQiUyOFdvcmtVbnJlbGF0ZWQlMjglMEElMjAlMjAlMjAlMjAlMjAlMjAlMjAlMjAyMDEwJTJDJTIwJTIyQW4lMjBvcmdhbml6YXRpb25hbCUyMG1hdHVyaXR5JTIwbW9kZWwlMjBvZiUyMHNvZnR3YXJlJTIwcHJvZHVjdCUyMGxpbmUlMjBlbmdpbmVlcmluZyUyMiUyQyUwQSUyMCUyMCUyMCUyMCUyMCUyMCUyMCUyMGRpc3BsYXklM0QlMjJhaG1lZCUyMiUyQyUwQSUyMCUyMCUyMCUyMCUyMCUyMCUyMCUyMGF1dGhvcnMlM0QlMjJBaG1lZCUyQyUyMEZhaGVlbSUwQWFuZCUyMENhcHJldHolMkMlMjBMdWl6JTIwRmVybmFuZG8lMjIlMkMlMEElMjAlMjAlMjAlMjAlMjAlMjAlMjAlMjBwbGFjZSUzRFNRSiUyQyUwQSUyMCUyMCUyMCUyMCUyMCUyMCUyMCUyMHBwJTNEJTIyMTk1LS0yMjUlMjIlMkMlMEElMjAlMjAlMjAlMjAlMjAlMjAlMjAlMjBlbnRyeXR5cGUlM0QlMjJhcnRpY2xlJTIyJTJDJTBBJTIwJTIwJTIwJTIwJTIwJTIwJTIwJTIwbW9udGglM0QlMjJKdW4lMjIlMkMlMEElMjAlMjAlMjAlMjAlMjAlMjAlMjAlMjBkYXklM0QlMjIwMSUyMiUyQyUwQSUyMCUyMCUyMCUyMCUyMCUyMCUyMCUyMHZvbHVtZSUzRCUyMjE4JTIyJTJDJTBBJTIwJTIwJTIwJTIwJTIwJTIwJTIwJTIwbnVtYmVyJTNEJTIyMiUyMiUyQyUwQSUyMCUyMCUyMCUyMCUyMCUyMCUyMCUyMGlzc24lM0QlMjIxNTczLTEzNjclMjIlMkMlMEElMjAlMjAlMjAlMjAlMjAlMjAlMjAlMjBkb2klM0QlMjIxMC4xMDA3L3MxMTIxOS0wMDktOTA4OC01JTIyJTJDJTBBJTIwJTIwJTIwJTIwJTIwJTIwJTIwJTIwSUQlM0QlMjJBaG1lZDIwMTAlMjIlMkMlMEElMjAlMjAlMjAlMjAlMjAlMjAlMjAlMjBzcHJpbmdlcjIwMTUlM0QlMjIxJTIyJTJDJTBBJTIwJTIwJTIwJTIwJTIwJTIwJTIwJTIwcGxhY2V4JTNEJTIyU29mdHdhcmUlMjBRdWFsaXR5JTIwSm91cm5hbCUyMiUyQyUwQSUyMCUyMCUyMCUyMCUyOSUyOSUwQSUyNyUyNyUyNyUyOSUzQg==\")));\n",
       "    "
      ],
      "text/plain": [
       "<IPython.core.display.Javascript object>"
      ]
     },
     "metadata": {},
     "output_type": "display_data"
    },
    {
     "data": {
      "application/javascript": [
       "$('span:contains(\"# Temp\")').closest('.cell').remove();"
      ],
      "text/plain": [
       "<IPython.core.display.Javascript object>"
      ]
     },
     "metadata": {},
     "output_type": "display_data"
    },
    {
     "data": {
      "application/javascript": [
       "\n",
       "        $('span:contains(\"# Temp\")').closest('.cell').remove();\n",
       "        var code = IPython.notebook.insert_cell_below('code');\n",
       "        code.set_text(decodeURIComponent(window.atob(\"JTIzJTIwVGVtcCUwQWluc2VydCUyOCUyNyUyNyUyNyUwQSUyMCUyMCUyMCUyMGFobWVkMjAxMGElMjAlM0QlMjBEQiUyOFdvcmtVbnJlbGF0ZWQlMjglMEElMjAlMjAlMjAlMjAlMjAlMjAlMjAlMjAyMDEwJTJDJTIwJTIyQW4lMjBvcmdhbml6YXRpb25hbCUyMG1hdHVyaXR5JTIwbW9kZWwlMjBvZiUyMHNvZnR3YXJlJTIwcHJvZHVjdCUyMGxpbmUlMjBlbmdpbmVlcmluZyUyMiUyQyUwQSUyMCUyMCUyMCUyMCUyMCUyMCUyMCUyMGRpc3BsYXklM0QlMjJhaG1lZCUyMiUyQyUwQSUyMCUyMCUyMCUyMCUyMCUyMCUyMCUyMGF1dGhvcnMlM0QlMjJBaG1lZCUyQyUyMEZhaGVlbSUwQWFuZCUyMENhcHJldHolMkMlMjBMdWl6JTIwRmVybmFuZG8lMjIlMkMlMEElMjAlMjAlMjAlMjAlMjAlMjAlMjAlMjBwbGFjZSUzRFNRSiUyQyUwQSUyMCUyMCUyMCUyMCUyMCUyMCUyMCUyMHBwJTNEJTIyMTk1LS0yMjUlMjIlMkMlMEElMjAlMjAlMjAlMjAlMjAlMjAlMjAlMjBlbnRyeXR5cGUlM0QlMjJhcnRpY2xlJTIyJTJDJTBBJTIwJTIwJTIwJTIwJTIwJTIwJTIwJTIwbW9udGglM0QlMjJKdW4lMjIlMkMlMEElMjAlMjAlMjAlMjAlMjAlMjAlMjAlMjBkYXklM0QlMjIwMSUyMiUyQyUwQSUyMCUyMCUyMCUyMCUyMCUyMCUyMCUyMHZvbHVtZSUzRCUyMjE4JTIyJTJDJTBBJTIwJTIwJTIwJTIwJTIwJTIwJTIwJTIwbnVtYmVyJTNEJTIyMiUyMiUyQyUwQSUyMCUyMCUyMCUyMCUyMCUyMCUyMCUyMGlzc24lM0QlMjIxNTczLTEzNjclMjIlMkMlMEElMjAlMjAlMjAlMjAlMjAlMjAlMjAlMjBkb2klM0QlMjIxMC4xMDA3L3MxMTIxOS0wMDktOTA4OC01JTIyJTJDJTBBJTIwJTIwJTIwJTIwJTIwJTIwJTIwJTIwSUQlM0QlMjJBaG1lZDIwMTAlMjIlMkMlMEElMjAlMjAlMjAlMjAlMjAlMjAlMjAlMjBzcHJpbmdlcjIwMTUlM0QlMjIxJTIyJTJDJTBBJTIwJTIwJTIwJTIwJTIwJTIwJTIwJTIwcGxhY2V4JTNEJTIyU29mdHdhcmUlMjBRdWFsaXR5JTIwSm91cm5hbCUyMiUyQyUwQSUyMCUyMCUyMCUyMCUyOSUyOSUwQSUyNyUyNyUyNyUyOSUzQg==\")));\n",
       "    "
      ],
      "text/plain": [
       "<IPython.core.display.Javascript object>"
      ]
     },
     "metadata": {},
     "output_type": "display_data"
    },
    {
     "data": {
      "application/javascript": [
       "$('span:contains(\"# Temp\")').closest('.cell').remove();"
      ],
      "text/plain": [
       "<IPython.core.display.Javascript object>"
      ]
     },
     "metadata": {},
     "output_type": "display_data"
    },
    {
     "data": {
      "application/javascript": [
       "\n",
       "        $('span:contains(\"# Temp\")').closest('.cell').remove();\n",
       "        var code = IPython.notebook.insert_cell_below('code');\n",
       "        code.set_text(decodeURIComponent(window.atob(\"JTIzJTIwVGVtcCUwQWluc2VydCUyOCUyNyUyNyUyNyUwQSUyMCUyMCUyMCUyMGNocmlzdGllMTk5OGElMjAlM0QlMjBEQiUyOFdvcmtVbnJlbGF0ZWQlMjglMEElMjAlMjAlMjAlMjAlMjAlMjAlMjAlMjAxOTk4JTJDJTIwJTIyQW4lMjBPdmVydmlldyUyMG9mJTIwUHJvY2VzcyUyMFRlY2hub2xvZ3klMjBBY3Rpdml0aWVzJTIwYXQlMjB0aGUlMjBTb2Z0d2FyZSUyMEVuZ2luZWVyaW5nJTIwSW5zdGl0dXRlJTIyJTJDJTBBJTIwJTIwJTIwJTIwJTIwJTIwJTIwJTIwZGlzcGxheSUzRCUyMmNocmlzdGllJTIyJTJDJTBBJTIwJTIwJTIwJTIwJTIwJTIwJTIwJTIwYXV0aG9ycyUzRCUyMkNocmlzdGllJTJDJTIwQWxhbiUyME0uJTBBYW5kJTIwS2VsbG5lciUyQyUyME1hcmMlMjBJLiUwQWFuZCUyMFJpZGRsZSUyQyUyMFdpbGxpYW0lMjBFLiUyMiUyQyUwQSUyMCUyMCUyMCUyMCUyMCUyMCUyMCUyMHBsYWNlJTNERkFLRSUyQyUwQSUyMCUyMCUyMCUyMCUyMCUyMCUyMCUyMHBwJTNEJTIyMTIxLS0xMzIlMjIlMkMlMEElMjAlMjAlMjAlMjAlMjAlMjAlMjAlMjBlbnRyeXR5cGUlM0QlMjJhcnRpY2xlJTIyJTJDJTBBJTIwJTIwJTIwJTIwJTIwJTIwJTIwJTIwbW9udGglM0QlMjJNYXklMjIlMkMlMEElMjAlMjAlMjAlMjAlMjAlMjAlMjAlMjBkYXklM0QlMjIwMSUyMiUyQyUwQSUyMCUyMCUyMCUyMCUyMCUyMCUyMCUyMHZvbHVtZSUzRCUyMjglMjIlMkMlMEElMjAlMjAlMjAlMjAlMjAlMjAlMjAlMjBudW1iZXIlM0QlMjIyJTIyJTJDJTBBJTIwJTIwJTIwJTIwJTIwJTIwJTIwJTIwaXNzbiUzRCUyMjE1NzMtODc4NyUyMiUyQyUwQSUyMCUyMCUyMCUyMCUyMCUyMCUyMCUyMGRvaSUzRCUyMjEwLjEwMjMvQSUzQTEwMDgyMDYxMTk1MTElMjIlMkMlMEElMjAlMjAlMjAlMjAlMjAlMjAlMjAlMjBJRCUzRCUyMkNocmlzdGllMTk5OCUyMiUyQyUwQSUyMCUyMCUyMCUyMCUyMCUyMCUyMCUyMHNwcmluZ2VyMjAxNSUzRCUyMjElMjIlMkMlMEElMjAlMjAlMjAlMjAlMjAlMjAlMjAlMjBwbGFjZXglM0QlMjJKb3VybmFsJTIwb2YlMjBTeXN0ZW1zJTIwSW50ZWdyYXRpb24lMjIlMkMlMEElMjAlMjAlMjAlMjAlMjklMjklMEElMjclMjclMjclMjklM0I=\")));\n",
       "    "
      ],
      "text/plain": [
       "<IPython.core.display.Javascript object>"
      ]
     },
     "metadata": {},
     "output_type": "display_data"
    },
    {
     "data": {
      "application/javascript": [
       "$('span:contains(\"# Temp\")').closest('.cell').remove();"
      ],
      "text/plain": [
       "<IPython.core.display.Javascript object>"
      ]
     },
     "metadata": {},
     "output_type": "display_data"
    },
    {
     "data": {
      "application/javascript": [
       "\n",
       "        $('span:contains(\"# Temp\")').closest('.cell').remove();\n",
       "        var code = IPython.notebook.insert_cell_below('code');\n",
       "        code.set_text(decodeURIComponent(window.atob(\"JTIzJTIwVGVtcCUwQWluc2VydCUyOCUyNyUyNyUyNyUwQSUyMCUyMCUyMCUyMGNocmlzdGllMTk5OGElMjAlM0QlMjBEQiUyOFdvcmtVbnJlbGF0ZWQlMjglMEElMjAlMjAlMjAlMjAlMjAlMjAlMjAlMjAxOTk4JTJDJTIwJTIyQW4lMjBPdmVydmlldyUyMG9mJTIwUHJvY2VzcyUyMFRlY2hub2xvZ3klMjBBY3Rpdml0aWVzJTIwYXQlMjB0aGUlMjBTb2Z0d2FyZSUyMEVuZ2luZWVyaW5nJTIwSW5zdGl0dXRlJTIyJTJDJTBBJTIwJTIwJTIwJTIwJTIwJTIwJTIwJTIwZGlzcGxheSUzRCUyMmNocmlzdGllJTIyJTJDJTBBJTIwJTIwJTIwJTIwJTIwJTIwJTIwJTIwYXV0aG9ycyUzRCUyMkNocmlzdGllJTJDJTIwQWxhbiUyME0uJTBBYW5kJTIwS2VsbG5lciUyQyUyME1hcmMlMjBJLiUwQWFuZCUyMFJpZGRsZSUyQyUyMFdpbGxpYW0lMjBFLiUyMiUyQyUwQSUyMCUyMCUyMCUyMCUyMCUyMCUyMCUyMHBsYWNlJTNERkFLRSUyQyUwQSUyMCUyMCUyMCUyMCUyMCUyMCUyMCUyMHBwJTNEJTIyMTIxLS0xMzIlMjIlMkMlMEElMjAlMjAlMjAlMjAlMjAlMjAlMjAlMjBlbnRyeXR5cGUlM0QlMjJhcnRpY2xlJTIyJTJDJTBBJTIwJTIwJTIwJTIwJTIwJTIwJTIwJTIwbW9udGglM0QlMjJNYXklMjIlMkMlMEElMjAlMjAlMjAlMjAlMjAlMjAlMjAlMjBkYXklM0QlMjIwMSUyMiUyQyUwQSUyMCUyMCUyMCUyMCUyMCUyMCUyMCUyMHZvbHVtZSUzRCUyMjglMjIlMkMlMEElMjAlMjAlMjAlMjAlMjAlMjAlMjAlMjBudW1iZXIlM0QlMjIyJTIyJTJDJTBBJTIwJTIwJTIwJTIwJTIwJTIwJTIwJTIwaXNzbiUzRCUyMjE1NzMtODc4NyUyMiUyQyUwQSUyMCUyMCUyMCUyMCUyMCUyMCUyMCUyMGRvaSUzRCUyMjEwLjEwMjMvQSUzQTEwMDgyMDYxMTk1MTElMjIlMkMlMEElMjAlMjAlMjAlMjAlMjAlMjAlMjAlMjBJRCUzRCUyMkNocmlzdGllMTk5OCUyMiUyQyUwQSUyMCUyMCUyMCUyMCUyMCUyMCUyMCUyMHNwcmluZ2VyMjAxNSUzRCUyMjElMjIlMkMlMEElMjAlMjAlMjAlMjAlMjAlMjAlMjAlMjBwbGFjZXglM0QlMjJKb3VybmFsJTIwb2YlMjBTeXN0ZW1zJTIwSW50ZWdyYXRpb24lMjIlMkMlMEElMjAlMjAlMjAlMjAlMjklMjklMEElMjclMjclMjclMjklM0I=\")));\n",
       "    "
      ],
      "text/plain": [
       "<IPython.core.display.Javascript object>"
      ]
     },
     "metadata": {},
     "output_type": "display_data"
    },
    {
     "data": {
      "application/javascript": [
       "$('span:contains(\"# Temp\")').closest('.cell').remove();"
      ],
      "text/plain": [
       "<IPython.core.display.Javascript object>"
      ]
     },
     "metadata": {},
     "output_type": "display_data"
    },
    {
     "data": {
      "application/javascript": [
       "\n",
       "        $('span:contains(\"# Temp\")').closest('.cell').remove();\n",
       "        var code = IPython.notebook.insert_cell_below('code');\n",
       "        code.set_text(decodeURIComponent(window.atob(\"JTIzJTIwVGVtcCUwQWluc2VydCUyOCUyNyUyNyUyNyUwQSUyMCUyMCUyMCUyMHJlaXMyMDAyYSUyMCUzRCUyMERCJTI4V29ya1VucmVsYXRlZCUyOCUwQSUyMCUyMCUyMCUyMCUyMCUyMCUyMCUyMDIwMDIlMkMlMjAlMjJBdXRvbWF0aWMlMjBWZXJpZmljYXRpb24lMjBvZiUyMFN0YXRpYyUyMFBvbGljaWVzJTIwb24lMjBTb2Z0d2FyZSUyMFByb2Nlc3MlMjBNb2RlbHMlMjIlMkMlMEElMjAlMjAlMjAlMjAlMjAlMjAlMjAlMjBkaXNwbGF5JTNEJTIycmVpcyUyMiUyQyUwQSUyMCUyMCUyMCUyMCUyMCUyMCUyMCUyMGF1dGhvcnMlM0QlMjJSZWlzJTJDJTIwUm9kcmlnbyUyMFF1aXRlcyUwQWFuZCUyMFJlaXMlMkMlMjBDYXJsYSUyMEFsZXNzYW5kcmElMjBMaW1hJTBBYW5kJTIwU2NobGViYmUlMkMlMjBIZXJpYmVydCUwQWFuZCUyMEpvcyVDMyVBOSUyMG51bmVzJTJDJTIwRGFsdHJvJTIyJTJDJTBBJTIwJTIwJTIwJTIwJTIwJTIwJTIwJTIwcGxhY2UlM0RGQUtFJTJDJTBBJTIwJTIwJTIwJTIwJTIwJTIwJTIwJTIwcHAlM0QlMjIxOTctLTIzNCUyMiUyQyUwQSUyMCUyMCUyMCUyMCUyMCUyMCUyMCUyMGVudHJ5dHlwZSUzRCUyMmFydGljbGUlMjIlMkMlMEElMjAlMjAlMjAlMjAlMjAlMjAlMjAlMjBtb250aCUzRCUyMkRlYyUyMiUyQyUwQSUyMCUyMCUyMCUyMCUyMCUyMCUyMCUyMGRheSUzRCUyMjAxJTIyJTJDJTBBJTIwJTIwJTIwJTIwJTIwJTIwJTIwJTIwdm9sdW1lJTNEJTIyMTQlMjIlMkMlMEElMjAlMjAlMjAlMjAlMjAlMjAlMjAlMjBudW1iZXIlM0QlMjIxJTIyJTJDJTBBJTIwJTIwJTIwJTIwJTIwJTIwJTIwJTIwaXNzbiUzRCUyMjE1NzMtNzQ4OSUyMiUyQyUwQSUyMCUyMCUyMCUyMCUyMCUyMCUyMCUyMGRvaSUzRCUyMjEwLjEwMjMvQSUzQTEwMjA1MDk4MDkyMzUlMjIlMkMlMEElMjAlMjAlMjAlMjAlMjAlMjAlMjAlMjBJRCUzRCUyMlJlaXMyMDAyJTIyJTJDJTBBJTIwJTIwJTIwJTIwJTIwJTIwJTIwJTIwc3ByaW5nZXIyMDE1JTNEJTIyMSUyMiUyQyUwQSUyMCUyMCUyMCUyMCUyMCUyMCUyMCUyMHBsYWNleCUzRCUyMkFubmFscyUyMG9mJTIwU29mdHdhcmUlMjBFbmdpbmVlcmluZyUyMiUyQyUwQSUyMCUyMCUyMCUyMCUyOSUyOSUwQSUyNyUyNyUyNyUyOSUzQg==\")));\n",
       "    "
      ],
      "text/plain": [
       "<IPython.core.display.Javascript object>"
      ]
     },
     "metadata": {},
     "output_type": "display_data"
    },
    {
     "data": {
      "application/javascript": [
       "$('span:contains(\"# Temp\")').closest('.cell').remove();"
      ],
      "text/plain": [
       "<IPython.core.display.Javascript object>"
      ]
     },
     "metadata": {},
     "output_type": "display_data"
    },
    {
     "data": {
      "application/javascript": [
       "\n",
       "        $('span:contains(\"# Temp\")').closest('.cell').remove();\n",
       "        var code = IPython.notebook.insert_cell_below('code');\n",
       "        code.set_text(decodeURIComponent(window.atob(\"JTIzJTIwVGVtcCUwQWluc2VydCUyOCUyNyUyNyUyNyUwQSUyMCUyMCUyMCUyMHJlaXMyMDAyYSUyMCUzRCUyMERCJTI4V29ya1VucmVsYXRlZCUyOCUwQSUyMCUyMCUyMCUyMCUyMCUyMCUyMCUyMDIwMDIlMkMlMjAlMjJBdXRvbWF0aWMlMjBWZXJpZmljYXRpb24lMjBvZiUyMFN0YXRpYyUyMFBvbGljaWVzJTIwb24lMjBTb2Z0d2FyZSUyMFByb2Nlc3MlMjBNb2RlbHMlMjIlMkMlMEElMjAlMjAlMjAlMjAlMjAlMjAlMjAlMjBkaXNwbGF5JTNEJTIycmVpcyUyMiUyQyUwQSUyMCUyMCUyMCUyMCUyMCUyMCUyMCUyMGF1dGhvcnMlM0QlMjJSZWlzJTJDJTIwUm9kcmlnbyUyMFF1aXRlcyUwQWFuZCUyMFJlaXMlMkMlMjBDYXJsYSUyMEFsZXNzYW5kcmElMjBMaW1hJTBBYW5kJTIwU2NobGViYmUlMkMlMjBIZXJpYmVydCUwQWFuZCUyMEpvcyVDMyVBOSUyMG51bmVzJTJDJTIwRGFsdHJvJTIyJTJDJTBBJTIwJTIwJTIwJTIwJTIwJTIwJTIwJTIwcGxhY2UlM0RGQUtFJTJDJTBBJTIwJTIwJTIwJTIwJTIwJTIwJTIwJTIwcHAlM0QlMjIxOTctLTIzNCUyMiUyQyUwQSUyMCUyMCUyMCUyMCUyMCUyMCUyMCUyMGVudHJ5dHlwZSUzRCUyMmFydGljbGUlMjIlMkMlMEElMjAlMjAlMjAlMjAlMjAlMjAlMjAlMjBtb250aCUzRCUyMkRlYyUyMiUyQyUwQSUyMCUyMCUyMCUyMCUyMCUyMCUyMCUyMGRheSUzRCUyMjAxJTIyJTJDJTBBJTIwJTIwJTIwJTIwJTIwJTIwJTIwJTIwdm9sdW1lJTNEJTIyMTQlMjIlMkMlMEElMjAlMjAlMjAlMjAlMjAlMjAlMjAlMjBudW1iZXIlM0QlMjIxJTIyJTJDJTBBJTIwJTIwJTIwJTIwJTIwJTIwJTIwJTIwaXNzbiUzRCUyMjE1NzMtNzQ4OSUyMiUyQyUwQSUyMCUyMCUyMCUyMCUyMCUyMCUyMCUyMGRvaSUzRCUyMjEwLjEwMjMvQSUzQTEwMjA1MDk4MDkyMzUlMjIlMkMlMEElMjAlMjAlMjAlMjAlMjAlMjAlMjAlMjBJRCUzRCUyMlJlaXMyMDAyJTIyJTJDJTBBJTIwJTIwJTIwJTIwJTIwJTIwJTIwJTIwc3ByaW5nZXIyMDE1JTNEJTIyMSUyMiUyQyUwQSUyMCUyMCUyMCUyMCUyMCUyMCUyMCUyMHBsYWNleCUzRCUyMkFubmFscyUyMG9mJTIwU29mdHdhcmUlMjBFbmdpbmVlcmluZyUyMiUyQyUwQSUyMCUyMCUyMCUyMCUyOSUyOSUwQSUyNyUyNyUyNyUyOSUzQg==\")));\n",
       "    "
      ],
      "text/plain": [
       "<IPython.core.display.Javascript object>"
      ]
     },
     "metadata": {},
     "output_type": "display_data"
    },
    {
     "data": {
      "application/javascript": [
       "$('span:contains(\"# Temp\")').closest('.cell').remove();"
      ],
      "text/plain": [
       "<IPython.core.display.Javascript object>"
      ]
     },
     "metadata": {},
     "output_type": "display_data"
    },
    {
     "data": {
      "application/javascript": [
       "\n",
       "        $('span:contains(\"# Temp\")').closest('.cell').remove();\n",
       "        var code = IPython.notebook.insert_cell_below('code');\n",
       "        code.set_text(decodeURIComponent(window.atob(\"JTIzJTIwVGVtcCUwQWluc2VydCUyOCUyNyUyNyUyNyUwQSUyMCUyMCUyMCUyMGolQzMlQjZuc3NvbjIwMDZhJTIwJTNEJTIwREIlMjhXb3JrVW5yZWxhdGVkJTI4JTBBJTIwJTIwJTIwJTIwJTIwJTIwJTIwJTIwMjAwNiUyQyUyMCUyMkJlbmNobWFya2luZyUyMGstbmVhcmVzdCUyMG5laWdoYm91ciUyMGltcHV0YXRpb24lMjB3aXRoJTIwaG9tb2dlbmVvdXMlMjBMaWtlcnQlMjBkYXRhJTIyJTJDJTBBJTIwJTIwJTIwJTIwJTIwJTIwJTIwJTIwZGlzcGxheSUzRCUyMmolQzMlQjZuc3NvbiUyMiUyQyUwQSUyMCUyMCUyMCUyMCUyMCUyMCUyMCUyMGF1dGhvcnMlM0QlMjJKJUMzJUI2bnNzb24lMkMlMjBQZXIlMEFhbmQlMjBXb2hsaW4lMkMlMjBDbGFlcyUyMiUyQyUwQSUyMCUyMCUyMCUyMCUyMCUyMCUyMCUyMHBsYWNlJTNERVNFJTJDJTBBJTIwJTIwJTIwJTIwJTIwJTIwJTIwJTIwcHAlM0QlMjI0NjMlMjIlMkMlMEElMjAlMjAlMjAlMjAlMjAlMjAlMjAlMjBlbnRyeXR5cGUlM0QlMjJhcnRpY2xlJTIyJTJDJTBBJTIwJTIwJTIwJTIwJTIwJTIwJTIwJTIwbW9udGglM0QlMjJNYXklMjIlMkMlMEElMjAlMjAlMjAlMjAlMjAlMjAlMjAlMjBkYXklM0QlMjIzMSUyMiUyQyUwQSUyMCUyMCUyMCUyMCUyMCUyMCUyMCUyMHZvbHVtZSUzRCUyMjExJTIyJTJDJTBBJTIwJTIwJTIwJTIwJTIwJTIwJTIwJTIwbnVtYmVyJTNEJTIyMyUyMiUyQyUwQSUyMCUyMCUyMCUyMCUyMCUyMCUyMCUyMGlzc24lM0QlMjIxNTczLTc2MTYlMjIlMkMlMEElMjAlMjAlMjAlMjAlMjAlMjAlMjAlMjBkb2klM0QlMjIxMC4xMDA3L3MxMDY2NC0wMDYtOTAwMS05JTIyJTJDJTBBJTIwJTIwJTIwJTIwJTIwJTIwJTIwJTIwSUQlM0QlMjJKJUMzJUI2bnNzb24yMDA2JTIyJTJDJTBBJTIwJTIwJTIwJTIwJTIwJTIwJTIwJTIwc3ByaW5nZXIyMDE1JTNEJTIyMSUyMiUyQyUwQSUyMCUyMCUyMCUyMCUyMCUyMCUyMCUyMHBsYWNleCUzRCUyMkVtcGlyaWNhbCUyMFNvZnR3YXJlJTIwRW5naW5lZXJpbmclMjIlMkMlMEElMjAlMjAlMjAlMjAlMjklMjklMEElMjclMjclMjclMjklM0I=\")));\n",
       "    "
      ],
      "text/plain": [
       "<IPython.core.display.Javascript object>"
      ]
     },
     "metadata": {},
     "output_type": "display_data"
    },
    {
     "data": {
      "application/javascript": [
       "$('span:contains(\"# Temp\")').closest('.cell').remove();"
      ],
      "text/plain": [
       "<IPython.core.display.Javascript object>"
      ]
     },
     "metadata": {},
     "output_type": "display_data"
    },
    {
     "data": {
      "application/javascript": [
       "\n",
       "        $('span:contains(\"# Temp\")').closest('.cell').remove();\n",
       "        var code = IPython.notebook.insert_cell_below('code');\n",
       "        code.set_text(decodeURIComponent(window.atob(\"JTIzJTIwVGVtcCUwQWluc2VydCUyOCUyNyUyNyUyNyUwQSUyMCUyMCUyMCUyMGolQzMlQjZuc3NvbjIwMDZhJTIwJTNEJTIwREIlMjhXb3JrVW5yZWxhdGVkJTI4JTBBJTIwJTIwJTIwJTIwJTIwJTIwJTIwJTIwMjAwNiUyQyUyMCUyMkJlbmNobWFya2luZyUyMGstbmVhcmVzdCUyMG5laWdoYm91ciUyMGltcHV0YXRpb24lMjB3aXRoJTIwaG9tb2dlbmVvdXMlMjBMaWtlcnQlMjBkYXRhJTIyJTJDJTBBJTIwJTIwJTIwJTIwJTIwJTIwJTIwJTIwZGlzcGxheSUzRCUyMmolQzMlQjZuc3NvbiUyMiUyQyUwQSUyMCUyMCUyMCUyMCUyMCUyMCUyMCUyMGF1dGhvcnMlM0QlMjJKJUMzJUI2bnNzb24lMkMlMjBQZXIlMEFhbmQlMjBXb2hsaW4lMkMlMjBDbGFlcyUyMiUyQyUwQSUyMCUyMCUyMCUyMCUyMCUyMCUyMCUyMHBsYWNlJTNERVNFJTJDJTBBJTIwJTIwJTIwJTIwJTIwJTIwJTIwJTIwcHAlM0QlMjI0NjMlMjIlMkMlMEElMjAlMjAlMjAlMjAlMjAlMjAlMjAlMjBlbnRyeXR5cGUlM0QlMjJhcnRpY2xlJTIyJTJDJTBBJTIwJTIwJTIwJTIwJTIwJTIwJTIwJTIwbW9udGglM0QlMjJNYXklMjIlMkMlMEElMjAlMjAlMjAlMjAlMjAlMjAlMjAlMjBkYXklM0QlMjIzMSUyMiUyQyUwQSUyMCUyMCUyMCUyMCUyMCUyMCUyMCUyMHZvbHVtZSUzRCUyMjExJTIyJTJDJTBBJTIwJTIwJTIwJTIwJTIwJTIwJTIwJTIwbnVtYmVyJTNEJTIyMyUyMiUyQyUwQSUyMCUyMCUyMCUyMCUyMCUyMCUyMCUyMGlzc24lM0QlMjIxNTczLTc2MTYlMjIlMkMlMEElMjAlMjAlMjAlMjAlMjAlMjAlMjAlMjBkb2klM0QlMjIxMC4xMDA3L3MxMDY2NC0wMDYtOTAwMS05JTIyJTJDJTBBJTIwJTIwJTIwJTIwJTIwJTIwJTIwJTIwSUQlM0QlMjJKJUMzJUI2bnNzb24yMDA2JTIyJTJDJTBBJTIwJTIwJTIwJTIwJTIwJTIwJTIwJTIwc3ByaW5nZXIyMDE1JTNEJTIyMSUyMiUyQyUwQSUyMCUyMCUyMCUyMCUyMCUyMCUyMCUyMHBsYWNleCUzRCUyMkVtcGlyaWNhbCUyMFNvZnR3YXJlJTIwRW5naW5lZXJpbmclMjIlMkMlMEElMjAlMjAlMjAlMjAlMjklMjklMEElMjclMjclMjclMjklM0I=\")));\n",
       "    "
      ],
      "text/plain": [
       "<IPython.core.display.Javascript object>"
      ]
     },
     "metadata": {},
     "output_type": "display_data"
    },
    {
     "data": {
      "application/javascript": [
       "$('span:contains(\"# Temp\")').closest('.cell').remove();"
      ],
      "text/plain": [
       "<IPython.core.display.Javascript object>"
      ]
     },
     "metadata": {},
     "output_type": "display_data"
    },
    {
     "data": {
      "application/javascript": [
       "\n",
       "        $('span:contains(\"# Temp\")').closest('.cell').remove();\n",
       "        var code = IPython.notebook.insert_cell_below('code');\n",
       "        code.set_text(decodeURIComponent(window.atob(\"JTIzJTIwVGVtcCUwQWluc2VydCUyOCUyNyUyNyUyNyUwQSUyMCUyMCUyMCUyMGxvdmUxOTk4YSUyMCUzRCUyMERCJTI4V29ya1VucmVsYXRlZCUyOCUwQSUyMCUyMCUyMCUyMCUyMCUyMCUyMCUyMDE5OTglMkMlMjAlMjJDYW4lMjB0aGUlMjBjYXNlJTIwZm9yJTIwQ0FTRSUyMHRlY2hub2xvZ3klMjBiZSUyMGFkdmFuY2VkJTIwYnklMjBQcm9jZXNzJTIwSW1wcm92ZW1lbnQlM0YlMjIlMkMlMEElMjAlMjAlMjAlMjAlMjAlMjAlMjAlMjBkaXNwbGF5JTNEJTIybG92ZSUyMiUyQyUwQSUyMCUyMCUyMCUyMCUyMCUyMCUyMCUyMGF1dGhvcnMlM0QlMjJMb3ZlJTJDJTIwTWF0dGhldyUwQWFuZCUyMFNpZGRpcWklMkMlMjBKYXdlZCUyMiUyQyUwQSUyMCUyMCUyMCUyMCUyMCUyMCUyMCUyMHBsYWNlJTNEU1FKJTJDJTBBJTIwJTIwJTIwJTIwJTIwJTIwJTIwJTIwcHAlM0QlMjIzLS0xMCUyMiUyQyUwQSUyMCUyMCUyMCUyMCUyMCUyMCUyMCUyMGVudHJ5dHlwZSUzRCUyMmFydGljbGUlMjIlMkMlMEElMjAlMjAlMjAlMjAlMjAlMjAlMjAlMjBtb250aCUzRCUyMk1hciUyMiUyQyUwQSUyMCUyMCUyMCUyMCUyMCUyMCUyMCUyMGRheSUzRCUyMjAxJTIyJTJDJTBBJTIwJTIwJTIwJTIwJTIwJTIwJTIwJTIwdm9sdW1lJTNEJTIyNyUyMiUyQyUwQSUyMCUyMCUyMCUyMCUyMCUyMCUyMCUyMG51bWJlciUzRCUyMjElMjIlMkMlMEElMjAlMjAlMjAlMjAlMjAlMjAlMjAlMjBpc3NuJTNEJTIyMTU3My0xMzY3JTIyJTJDJTBBJTIwJTIwJTIwJTIwJTIwJTIwJTIwJTIwZG9pJTNEJTIyMTAuMTAyMy9CJTNBU1FKTy4wMDAwMDQyMDU1LjQwNTA4LjMyJTIyJTJDJTBBJTIwJTIwJTIwJTIwJTIwJTIwJTIwJTIwSUQlM0QlMjJMb3ZlMTk5OCUyMiUyQyUwQSUyMCUyMCUyMCUyMCUyMCUyMCUyMCUyMHNwcmluZ2VyMjAxNSUzRCUyMjElMjIlMkMlMEElMjAlMjAlMjAlMjAlMjAlMjAlMjAlMjBwbGFjZXglM0QlMjJTb2Z0d2FyZSUyMFF1YWxpdHklMjBKb3VybmFsJTIyJTJDJTBBJTIwJTIwJTIwJTIwJTI5JTI5JTBBJTI3JTI3JTI3JTI5JTNC\")));\n",
       "    "
      ],
      "text/plain": [
       "<IPython.core.display.Javascript object>"
      ]
     },
     "metadata": {},
     "output_type": "display_data"
    },
    {
     "data": {
      "application/javascript": [
       "$('span:contains(\"# Temp\")').closest('.cell').remove();"
      ],
      "text/plain": [
       "<IPython.core.display.Javascript object>"
      ]
     },
     "metadata": {},
     "output_type": "display_data"
    },
    {
     "data": {
      "application/javascript": [
       "\n",
       "        $('span:contains(\"# Temp\")').closest('.cell').remove();\n",
       "        var code = IPython.notebook.insert_cell_below('code');\n",
       "        code.set_text(decodeURIComponent(window.atob(\"JTIzJTIwVGVtcCUwQWluc2VydCUyOCUyNyUyNyUyNyUwQSUyMCUyMCUyMCUyMGxvdmUxOTk4YSUyMCUzRCUyMERCJTI4V29ya1VucmVsYXRlZCUyOCUwQSUyMCUyMCUyMCUyMCUyMCUyMCUyMCUyMDE5OTglMkMlMjAlMjJDYW4lMjB0aGUlMjBjYXNlJTIwZm9yJTIwQ0FTRSUyMHRlY2hub2xvZ3klMjBiZSUyMGFkdmFuY2VkJTIwYnklMjBQcm9jZXNzJTIwSW1wcm92ZW1lbnQlM0YlMjIlMkMlMEElMjAlMjAlMjAlMjAlMjAlMjAlMjAlMjBkaXNwbGF5JTNEJTIybG92ZSUyMiUyQyUwQSUyMCUyMCUyMCUyMCUyMCUyMCUyMCUyMGF1dGhvcnMlM0QlMjJMb3ZlJTJDJTIwTWF0dGhldyUwQWFuZCUyMFNpZGRpcWklMkMlMjBKYXdlZCUyMiUyQyUwQSUyMCUyMCUyMCUyMCUyMCUyMCUyMCUyMHBsYWNlJTNEU1FKJTJDJTBBJTIwJTIwJTIwJTIwJTIwJTIwJTIwJTIwcHAlM0QlMjIzLS0xMCUyMiUyQyUwQSUyMCUyMCUyMCUyMCUyMCUyMCUyMCUyMGVudHJ5dHlwZSUzRCUyMmFydGljbGUlMjIlMkMlMEElMjAlMjAlMjAlMjAlMjAlMjAlMjAlMjBtb250aCUzRCUyMk1hciUyMiUyQyUwQSUyMCUyMCUyMCUyMCUyMCUyMCUyMCUyMGRheSUzRCUyMjAxJTIyJTJDJTBBJTIwJTIwJTIwJTIwJTIwJTIwJTIwJTIwdm9sdW1lJTNEJTIyNyUyMiUyQyUwQSUyMCUyMCUyMCUyMCUyMCUyMCUyMCUyMG51bWJlciUzRCUyMjElMjIlMkMlMEElMjAlMjAlMjAlMjAlMjAlMjAlMjAlMjBpc3NuJTNEJTIyMTU3My0xMzY3JTIyJTJDJTBBJTIwJTIwJTIwJTIwJTIwJTIwJTIwJTIwZG9pJTNEJTIyMTAuMTAyMy9CJTNBU1FKTy4wMDAwMDQyMDU1LjQwNTA4LjMyJTIyJTJDJTBBJTIwJTIwJTIwJTIwJTIwJTIwJTIwJTIwSUQlM0QlMjJMb3ZlMTk5OCUyMiUyQyUwQSUyMCUyMCUyMCUyMCUyMCUyMCUyMCUyMHNwcmluZ2VyMjAxNSUzRCUyMjElMjIlMkMlMEElMjAlMjAlMjAlMjAlMjAlMjAlMjAlMjBwbGFjZXglM0QlMjJTb2Z0d2FyZSUyMFF1YWxpdHklMjBKb3VybmFsJTIyJTJDJTBBJTIwJTIwJTIwJTIwJTI5JTI5JTBBJTI3JTI3JTI3JTI5JTNC\")));\n",
       "    "
      ],
      "text/plain": [
       "<IPython.core.display.Javascript object>"
      ]
     },
     "metadata": {},
     "output_type": "display_data"
    },
    {
     "data": {
      "application/javascript": [
       "$('span:contains(\"# Temp\")').closest('.cell').remove();"
      ],
      "text/plain": [
       "<IPython.core.display.Javascript object>"
      ]
     },
     "metadata": {},
     "output_type": "display_data"
    },
    {
     "data": {
      "application/javascript": [
       "\n",
       "        $('span:contains(\"# Temp\")').closest('.cell').remove();\n",
       "        var code = IPython.notebook.insert_cell_below('code');\n",
       "        code.set_text(decodeURIComponent(window.atob(\"JTIzJTIwVGVtcCUwQWluc2VydCUyOCUyNyUyNyUyNyUwQWh1bXBocmV5MTk5MmElMjAlM0QlMjBEQiUyOFdvcmtVbnJlbGF0ZWQlMjglMEElMjAlMjAlMjAlMjAxOTkyJTJDJTIwJTIyQ0FTRSUyMFBsYW5uaW5nJTIwYW5kJTIwdGhlJTIwU29mdHdhcmUlMjBQcm9jZXNzJTIyJTJDJTBBJTIwJTIwJTIwJTIwZGlzcGxheSUzRCUyMmh1bXBocmV5JTIyJTJDJTBBJTIwJTIwJTIwJTIwYXV0aG9ycyUzRCUyMkh1bXBocmV5JTJDJTIwV2F0dHMlMjBTLiUyMiUyQyUwQSUyMCUyMCUyMCUyMHBsYWNlJTNERkFLRSUyQyUwQSUyMCUyMCUyMCUyMHBwJTNEJTIyNTktLTc1JTIyJTJDJTBBJTIwJTIwJTIwJTIwZW50cnl0eXBlJTNEJTIyaW5ib29rJTIyJTJDJTBBJTIwJTIwJTIwJTIwZWRpdG9yJTNEJTIyWWVoJTJDJTIwUmF5bW9uZCUyMFQuJTIyJTJDJTBBJTIwJTIwJTIwJTIwcHVibGlzaGVyJTNEJTIyU3ByaW5nZXIlMjBVUyUyMiUyQyUwQSUyMCUyMCUyMCUyMGFkZHJlc3MlM0QlMjJCb3N0b24lMkMlMjBNQSUyMiUyQyUwQSUyMCUyMCUyMCUyMGlzYm4lM0QlMjI5NzgtMS00NjE1LTM2NDQtNCUyMiUyQyUwQSUyMCUyMCUyMCUyMGRvaSUzRCUyMjEwLjEwMDcvOTc4LTEtNDYxNS0zNjQ0LTRfNCUyMiUyQyUwQSUyMCUyMCUyMCUyMElEJTNEJTIySHVtcGhyZXkxOTkyJTIyJTJDJTBBJTIwJTIwJTIwJTIwc3ByaW5nZXIyMDE1JTNEJTIyMSUyMiUyQyUwQSUyMCUyMCUyMCUyMHBsYWNleCUzRCUyMkNhc2UlMjBUZWNobm9sb2d5JTNBJTIwQSUyMFNwZWNpYWwlMjBJc3N1ZSUyMG9mJTIwdGhlJTIwSm91cm5hbCUyMG9mJTIwU3lzdGVtcyUyMEludGVncmF0aW9uJTIyJTJDJTBBJTI5JTI5JTBBJTI3JTI3JTI3JTI5JTNC\")));\n",
       "    "
      ],
      "text/plain": [
       "<IPython.core.display.Javascript object>"
      ]
     },
     "metadata": {},
     "output_type": "display_data"
    },
    {
     "data": {
      "application/javascript": [
       "$('span:contains(\"# Temp\")').closest('.cell').remove();"
      ],
      "text/plain": [
       "<IPython.core.display.Javascript object>"
      ]
     },
     "metadata": {},
     "output_type": "display_data"
    },
    {
     "data": {
      "application/javascript": [
       "\n",
       "        $('span:contains(\"# Temp\")').closest('.cell').remove();\n",
       "        var code = IPython.notebook.insert_cell_below('code');\n",
       "        code.set_text(decodeURIComponent(window.atob(\"JTIzJTIwVGVtcCUwQWluc2VydCUyOCUyNyUyNyUyNyUwQWh1bXBocmV5MTk5MmElMjAlM0QlMjBEQiUyOFdvcmtVbnJlbGF0ZWQlMjglMEElMjAlMjAlMjAlMjAxOTkyJTJDJTIwJTIyQ0FTRSUyMFBsYW5uaW5nJTIwYW5kJTIwdGhlJTIwU29mdHdhcmUlMjBQcm9jZXNzJTIyJTJDJTBBJTIwJTIwJTIwJTIwZGlzcGxheSUzRCUyMmh1bXBocmV5JTIyJTJDJTBBJTIwJTIwJTIwJTIwYXV0aG9ycyUzRCUyMkh1bXBocmV5JTJDJTIwV2F0dHMlMjBTLiUyMiUyQyUwQSUyMCUyMCUyMCUyMHBsYWNlJTNERkFLRSUyQyUwQSUyMCUyMCUyMCUyMHBwJTNEJTIyNTktLTc1JTIyJTJDJTBBJTIwJTIwJTIwJTIwZW50cnl0eXBlJTNEJTIyaW5ib29rJTIyJTJDJTBBJTIwJTIwJTIwJTIwZWRpdG9yJTNEJTIyWWVoJTJDJTIwUmF5bW9uZCUyMFQuJTIyJTJDJTBBJTIwJTIwJTIwJTIwcHVibGlzaGVyJTNEJTIyU3ByaW5nZXIlMjBVUyUyMiUyQyUwQSUyMCUyMCUyMCUyMGFkZHJlc3MlM0QlMjJCb3N0b24lMkMlMjBNQSUyMiUyQyUwQSUyMCUyMCUyMCUyMGlzYm4lM0QlMjI5NzgtMS00NjE1LTM2NDQtNCUyMiUyQyUwQSUyMCUyMCUyMCUyMGRvaSUzRCUyMjEwLjEwMDcvOTc4LTEtNDYxNS0zNjQ0LTRfNCUyMiUyQyUwQSUyMCUyMCUyMCUyMElEJTNEJTIySHVtcGhyZXkxOTkyJTIyJTJDJTBBJTIwJTIwJTIwJTIwc3ByaW5nZXIyMDE1JTNEJTIyMSUyMiUyQyUwQSUyMCUyMCUyMCUyMHBsYWNleCUzRCUyMkNhc2UlMjBUZWNobm9sb2d5JTNBJTIwQSUyMFNwZWNpYWwlMjBJc3N1ZSUyMG9mJTIwdGhlJTIwSm91cm5hbCUyMG9mJTIwU3lzdGVtcyUyMEludGVncmF0aW9uJTIyJTJDJTBBJTI5JTI5JTBBJTI3JTI3JTI3JTI5JTNC\")));\n",
       "    "
      ],
      "text/plain": [
       "<IPython.core.display.Javascript object>"
      ]
     },
     "metadata": {},
     "output_type": "display_data"
    },
    {
     "data": {
      "application/javascript": [
       "$('span:contains(\"# Temp\")').closest('.cell').remove();"
      ],
      "text/plain": [
       "<IPython.core.display.Javascript object>"
      ]
     },
     "metadata": {},
     "output_type": "display_data"
    },
    {
     "data": {
      "application/javascript": [
       "\n",
       "        $('span:contains(\"# Temp\")').closest('.cell').remove();\n",
       "        var code = IPython.notebook.insert_cell_below('code');\n",
       "        code.set_text(decodeURIComponent(window.atob(\"JTIzJTIwVGVtcCUwQWluc2VydCUyOCUyNyUyNyUyNyUwQSUyMCUyMCUyMCUyMGJqYXJuYXNvbjIwMTRhJTIwJTNEJTIwREIlMjhXb3JrVW5yZWxhdGVkJTI4JTBBJTIwJTIwJTIwJTIwJTIwJTIwJTIwJTIwMjAxNCUyQyUyMCUyMkNoYWxsZW5nZXMlMjBhbmQlMjBwcmFjdGljZXMlMjBpbiUyMGFsaWduaW5nJTIwcmVxdWlyZW1lbnRzJTIwd2l0aCUyMHZlcmlmaWNhdGlvbiUyMGFuZCUyMHZhbGlkYXRpb24lM0ElMjBhJTIwY2FzZSUyMHN0dWR5JTIwb2YlMjBzaXglMjBjb21wYW5pZXMlMjIlMkMlMEElMjAlMjAlMjAlMjAlMjAlMjAlMjAlMjBkaXNwbGF5JTNEJTIyYmphcm5hc29uJTIyJTJDJTBBJTIwJTIwJTIwJTIwJTIwJTIwJTIwJTIwYXV0aG9ycyUzRCUyMkJqYXJuYXNvbiUyQyUyMEVsaXphYmV0aCUyMGFuZCUyMFJ1bmVzb24lMkMlMjBQZXIlMjBhbmQlMjBCb3JnJTJDJTIwTWFya3VzJTIwYW5kJTIwVW50ZXJrYWxtc3RlaW5lciUyQyUyME1pY2hhZWwlMjBhbmQlMjBFbmdzdHIlQzMlQjZtJTJDJTIwRW1lbGllJTIwYW5kJTIwUmVnbmVsbCUyQyUyMEJqJUMzJUI2cm4lMEFhbmQlMjBTYWJhbGlhdXNrYWl0ZSUyQyUyMEdpZWRyZSUyMGFuZCUyMExvY29uc29sZSUyQyUyMEFubmFiZWxsYSUyMGFuZCUyMEdvcnNjaGVrJTJDJTIwVG9ueSUwQWFuZCUyMEZlbGR0JTJDJTIwUm9iZXJ0JTIyJTJDJTBBJTIwJTIwJTIwJTIwJTIwJTIwJTIwJTIwcGxhY2UlM0RFU0UlMkMlMEElMjAlMjAlMjAlMjAlMjAlMjAlMjAlMjBwcCUzRCUyMjE4MDktLTE4NTUlMjIlMkMlMEElMjAlMjAlMjAlMjAlMjAlMjAlMjAlMjBlbnRyeXR5cGUlM0QlMjJhcnRpY2xlJTIyJTJDJTBBJTIwJTIwJTIwJTIwJTIwJTIwJTIwJTIwbW9udGglM0QlMjJEZWMlMjIlMkMlMEElMjAlMjAlMjAlMjAlMjAlMjAlMjAlMjBkYXklM0QlMjIwMSUyMiUyQyUwQSUyMCUyMCUyMCUyMCUyMCUyMCUyMCUyMHZvbHVtZSUzRCUyMjE5JTIyJTJDJTBBJTIwJTIwJTIwJTIwJTIwJTIwJTIwJTIwbnVtYmVyJTNEJTIyNiUyMiUyQyUwQSUyMCUyMCUyMCUyMCUyMCUyMCUyMCUyMGlzc24lM0QlMjIxNTczLTc2MTYlMjIlMkMlMEElMjAlMjAlMjAlMjAlMjAlMjAlMjAlMjBkb2klM0QlMjIxMC4xMDA3L3MxMDY2NC0wMTMtOTI2My15JTIyJTJDJTBBJTIwJTIwJTIwJTIwJTIwJTIwJTIwJTIwSUQlM0QlMjJCamFybmFzb24yMDE0JTIyJTJDJTBBJTIwJTIwJTIwJTIwJTIwJTIwJTIwJTIwc3ByaW5nZXIyMDE1JTNEJTIyMSUyMiUyQyUwQSUyMCUyMCUyMCUyMCUyMCUyMCUyMCUyMHBsYWNleCUzRCUyMkVtcGlyaWNhbCUyMFNvZnR3YXJlJTIwRW5naW5lZXJpbmclMjIlMkMlMEElMjAlMjAlMjAlMjAlMjklMjklMEElMjclMjclMjclMjklM0I=\")));\n",
       "    "
      ],
      "text/plain": [
       "<IPython.core.display.Javascript object>"
      ]
     },
     "metadata": {},
     "output_type": "display_data"
    },
    {
     "data": {
      "application/javascript": [
       "$('span:contains(\"# Temp\")').closest('.cell').remove();"
      ],
      "text/plain": [
       "<IPython.core.display.Javascript object>"
      ]
     },
     "metadata": {},
     "output_type": "display_data"
    },
    {
     "data": {
      "application/javascript": [
       "\n",
       "        $('span:contains(\"# Temp\")').closest('.cell').remove();\n",
       "        var code = IPython.notebook.insert_cell_below('code');\n",
       "        code.set_text(decodeURIComponent(window.atob(\"JTIzJTIwVGVtcCUwQWluc2VydCUyOCUyNyUyNyUyNyUwQSUyMCUyMCUyMCUyMGJqYXJuYXNvbjIwMTRhJTIwJTNEJTIwREIlMjhXb3JrVW5yZWxhdGVkJTI4JTBBJTIwJTIwJTIwJTIwJTIwJTIwJTIwJTIwMjAxNCUyQyUyMCUyMkNoYWxsZW5nZXMlMjBhbmQlMjBwcmFjdGljZXMlMjBpbiUyMGFsaWduaW5nJTIwcmVxdWlyZW1lbnRzJTIwd2l0aCUyMHZlcmlmaWNhdGlvbiUyMGFuZCUyMHZhbGlkYXRpb24lM0ElMjBhJTIwY2FzZSUyMHN0dWR5JTIwb2YlMjBzaXglMjBjb21wYW5pZXMlMjIlMkMlMEElMjAlMjAlMjAlMjAlMjAlMjAlMjAlMjBkaXNwbGF5JTNEJTIyYmphcm5hc29uJTIyJTJDJTBBJTIwJTIwJTIwJTIwJTIwJTIwJTIwJTIwYXV0aG9ycyUzRCUyMkJqYXJuYXNvbiUyQyUyMEVsaXphYmV0aCUyMGFuZCUyMFJ1bmVzb24lMkMlMjBQZXIlMjBhbmQlMjBCb3JnJTJDJTIwTWFya3VzJTIwYW5kJTIwVW50ZXJrYWxtc3RlaW5lciUyQyUyME1pY2hhZWwlMjBhbmQlMjBFbmdzdHIlQzMlQjZtJTJDJTIwRW1lbGllJTIwYW5kJTIwUmVnbmVsbCUyQyUyMEJqJUMzJUI2cm4lMEFhbmQlMjBTYWJhbGlhdXNrYWl0ZSUyQyUyMEdpZWRyZSUyMGFuZCUyMExvY29uc29sZSUyQyUyMEFubmFiZWxsYSUyMGFuZCUyMEdvcnNjaGVrJTJDJTIwVG9ueSUwQWFuZCUyMEZlbGR0JTJDJTIwUm9iZXJ0JTIyJTJDJTBBJTIwJTIwJTIwJTIwJTIwJTIwJTIwJTIwcGxhY2UlM0RFU0UlMkMlMEElMjAlMjAlMjAlMjAlMjAlMjAlMjAlMjBwcCUzRCUyMjE4MDktLTE4NTUlMjIlMkMlMEElMjAlMjAlMjAlMjAlMjAlMjAlMjAlMjBlbnRyeXR5cGUlM0QlMjJhcnRpY2xlJTIyJTJDJTBBJTIwJTIwJTIwJTIwJTIwJTIwJTIwJTIwbW9udGglM0QlMjJEZWMlMjIlMkMlMEElMjAlMjAlMjAlMjAlMjAlMjAlMjAlMjBkYXklM0QlMjIwMSUyMiUyQyUwQSUyMCUyMCUyMCUyMCUyMCUyMCUyMCUyMHZvbHVtZSUzRCUyMjE5JTIyJTJDJTBBJTIwJTIwJTIwJTIwJTIwJTIwJTIwJTIwbnVtYmVyJTNEJTIyNiUyMiUyQyUwQSUyMCUyMCUyMCUyMCUyMCUyMCUyMCUyMGlzc24lM0QlMjIxNTczLTc2MTYlMjIlMkMlMEElMjAlMjAlMjAlMjAlMjAlMjAlMjAlMjBkb2klM0QlMjIxMC4xMDA3L3MxMDY2NC0wMTMtOTI2My15JTIyJTJDJTBBJTIwJTIwJTIwJTIwJTIwJTIwJTIwJTIwSUQlM0QlMjJCamFybmFzb24yMDE0JTIyJTJDJTBBJTIwJTIwJTIwJTIwJTIwJTIwJTIwJTIwc3ByaW5nZXIyMDE1JTNEJTIyMSUyMiUyQyUwQSUyMCUyMCUyMCUyMCUyMCUyMCUyMCUyMHBsYWNleCUzRCUyMkVtcGlyaWNhbCUyMFNvZnR3YXJlJTIwRW5naW5lZXJpbmclMjIlMkMlMEElMjAlMjAlMjAlMjAlMjklMjklMEElMjclMjclMjclMjklM0I=\")));\n",
       "    "
      ],
      "text/plain": [
       "<IPython.core.display.Javascript object>"
      ]
     },
     "metadata": {},
     "output_type": "display_data"
    },
    {
     "data": {
      "application/javascript": [
       "$('span:contains(\"# Temp\")').closest('.cell').remove();"
      ],
      "text/plain": [
       "<IPython.core.display.Javascript object>"
      ]
     },
     "metadata": {},
     "output_type": "display_data"
    },
    {
     "data": {
      "application/javascript": [
       "\n",
       "        $('span:contains(\"# Temp\")').closest('.cell').remove();\n",
       "        var code = IPython.notebook.insert_cell_below('code');\n",
       "        code.set_text(decodeURIComponent(window.atob(\"JTIzJTIwVGVtcCUwQWluc2VydCUyOCUyNyUyNyUyNyUwQSUyMCUyMCUyMCUyMGJlbmVkaWt0c3NvbjIwMDNhJTIwJTNEJTIwREIlMjhXb3JrVW5yZWxhdGVkJTI4JTBBJTIwJTIwJTIwJTIwJTIwJTIwJTIwJTIwMjAwMyUyQyUyMCUyMkNPQ09NTy1CYXNlZCUyMEVmZm9ydCUyMEVzdGltYXRpb24lMjBmb3IlMjBJdGVyYXRpdmUlMjBhbmQlMjBJbmNyZW1lbnRhbCUyMFNvZnR3YXJlJTIwRGV2ZWxvcG1lbnQlMjIlMkMlMEElMjAlMjAlMjAlMjAlMjAlMjAlMjAlMjBkaXNwbGF5JTNEJTIyYmVuZWRpa3Rzc29uJTIyJTJDJTBBJTIwJTIwJTIwJTIwJTIwJTIwJTIwJTIwYXV0aG9ycyUzRCUyMkJlbmVkaWt0c3NvbiUyQyUyME9kZHVyJTBBYW5kJTIwRGFsY2hlciUyQyUyMERhcnJlbiUwQWFuZCUyMFJlZWQlMkMlMjBLYXJsJTBBYW5kJTIwV29vZG1hbiUyQyUyME1hcmslMjIlMkMlMEElMjAlMjAlMjAlMjAlMjAlMjAlMjAlMjBwbGFjZSUzRFNRSiUyQyUwQSUyMCUyMCUyMCUyMCUyMCUyMCUyMCUyMHBwJTNEJTIyMjY1LS0yODElMjIlMkMlMEElMjAlMjAlMjAlMjAlMjAlMjAlMjAlMjBlbnRyeXR5cGUlM0QlMjJhcnRpY2xlJTIyJTJDJTBBJTIwJTIwJTIwJTIwJTIwJTIwJTIwJTIwbW9udGglM0QlMjJOb3YlMjIlMkMlMEElMjAlMjAlMjAlMjAlMjAlMjAlMjAlMjBkYXklM0QlMjIwMSUyMiUyQyUwQSUyMCUyMCUyMCUyMCUyMCUyMCUyMCUyMHZvbHVtZSUzRCUyMjExJTIyJTJDJTBBJTIwJTIwJTIwJTIwJTIwJTIwJTIwJTIwbnVtYmVyJTNEJTIyNCUyMiUyQyUwQSUyMCUyMCUyMCUyMCUyMCUyMCUyMCUyMGlzc24lM0QlMjIxNTczLTEzNjclMjIlMkMlMEElMjAlMjAlMjAlMjAlMjAlMjAlMjAlMjBkb2klM0QlMjIxMC4xMDIzL0ElM0ExMDI1ODA5MDEwMjE3JTIyJTJDJTBBJTIwJTIwJTIwJTIwJTIwJTIwJTIwJTIwSUQlM0QlMjJCZW5lZGlrdHNzb24yMDAzJTIyJTJDJTBBJTIwJTIwJTIwJTIwJTIwJTIwJTIwJTIwc3ByaW5nZXIyMDE1JTNEJTIyMSUyMiUyQyUwQSUyMCUyMCUyMCUyMCUyMCUyMCUyMCUyMHBsYWNleCUzRCUyMlNvZnR3YXJlJTIwUXVhbGl0eSUyMEpvdXJuYWwlMjIlMkMlMEElMjAlMjAlMjAlMjAlMjklMjklMEElMjclMjclMjclMjklM0I=\")));\n",
       "    "
      ],
      "text/plain": [
       "<IPython.core.display.Javascript object>"
      ]
     },
     "metadata": {},
     "output_type": "display_data"
    },
    {
     "data": {
      "application/javascript": [
       "$('span:contains(\"# Temp\")').closest('.cell').remove();"
      ],
      "text/plain": [
       "<IPython.core.display.Javascript object>"
      ]
     },
     "metadata": {},
     "output_type": "display_data"
    },
    {
     "data": {
      "application/javascript": [
       "\n",
       "        $('span:contains(\"# Temp\")').closest('.cell').remove();\n",
       "        var code = IPython.notebook.insert_cell_below('code');\n",
       "        code.set_text(decodeURIComponent(window.atob(\"JTIzJTIwVGVtcCUwQWluc2VydCUyOCUyNyUyNyUyNyUwQSUyMCUyMCUyMCUyMGJlbmVkaWt0c3NvbjIwMDNhJTIwJTNEJTIwREIlMjhXb3JrVW5yZWxhdGVkJTI4JTBBJTIwJTIwJTIwJTIwJTIwJTIwJTIwJTIwMjAwMyUyQyUyMCUyMkNPQ09NTy1CYXNlZCUyMEVmZm9ydCUyMEVzdGltYXRpb24lMjBmb3IlMjBJdGVyYXRpdmUlMjBhbmQlMjBJbmNyZW1lbnRhbCUyMFNvZnR3YXJlJTIwRGV2ZWxvcG1lbnQlMjIlMkMlMEElMjAlMjAlMjAlMjAlMjAlMjAlMjAlMjBkaXNwbGF5JTNEJTIyYmVuZWRpa3Rzc29uJTIyJTJDJTBBJTIwJTIwJTIwJTIwJTIwJTIwJTIwJTIwYXV0aG9ycyUzRCUyMkJlbmVkaWt0c3NvbiUyQyUyME9kZHVyJTBBYW5kJTIwRGFsY2hlciUyQyUyMERhcnJlbiUwQWFuZCUyMFJlZWQlMkMlMjBLYXJsJTBBYW5kJTIwV29vZG1hbiUyQyUyME1hcmslMjIlMkMlMEElMjAlMjAlMjAlMjAlMjAlMjAlMjAlMjBwbGFjZSUzRFNRSiUyQyUwQSUyMCUyMCUyMCUyMCUyMCUyMCUyMCUyMHBwJTNEJTIyMjY1LS0yODElMjIlMkMlMEElMjAlMjAlMjAlMjAlMjAlMjAlMjAlMjBlbnRyeXR5cGUlM0QlMjJhcnRpY2xlJTIyJTJDJTBBJTIwJTIwJTIwJTIwJTIwJTIwJTIwJTIwbW9udGglM0QlMjJOb3YlMjIlMkMlMEElMjAlMjAlMjAlMjAlMjAlMjAlMjAlMjBkYXklM0QlMjIwMSUyMiUyQyUwQSUyMCUyMCUyMCUyMCUyMCUyMCUyMCUyMHZvbHVtZSUzRCUyMjExJTIyJTJDJTBBJTIwJTIwJTIwJTIwJTIwJTIwJTIwJTIwbnVtYmVyJTNEJTIyNCUyMiUyQyUwQSUyMCUyMCUyMCUyMCUyMCUyMCUyMCUyMGlzc24lM0QlMjIxNTczLTEzNjclMjIlMkMlMEElMjAlMjAlMjAlMjAlMjAlMjAlMjAlMjBkb2klM0QlMjIxMC4xMDIzL0ElM0ExMDI1ODA5MDEwMjE3JTIyJTJDJTBBJTIwJTIwJTIwJTIwJTIwJTIwJTIwJTIwSUQlM0QlMjJCZW5lZGlrdHNzb24yMDAzJTIyJTJDJTBBJTIwJTIwJTIwJTIwJTIwJTIwJTIwJTIwc3ByaW5nZXIyMDE1JTNEJTIyMSUyMiUyQyUwQSUyMCUyMCUyMCUyMCUyMCUyMCUyMCUyMHBsYWNleCUzRCUyMlNvZnR3YXJlJTIwUXVhbGl0eSUyMEpvdXJuYWwlMjIlMkMlMEElMjAlMjAlMjAlMjAlMjklMjklMEElMjclMjclMjclMjklM0I=\")));\n",
       "    "
      ],
      "text/plain": [
       "<IPython.core.display.Javascript object>"
      ]
     },
     "metadata": {},
     "output_type": "display_data"
    },
    {
     "data": {
      "application/javascript": [
       "$('span:contains(\"# Temp\")').closest('.cell').remove();"
      ],
      "text/plain": [
       "<IPython.core.display.Javascript object>"
      ]
     },
     "metadata": {},
     "output_type": "display_data"
    },
    {
     "data": {
      "application/javascript": [
       "\n",
       "        $('span:contains(\"# Temp\")').closest('.cell').remove();\n",
       "        var code = IPython.notebook.insert_cell_below('code');\n",
       "        code.set_text(decodeURIComponent(window.atob(\"JTIzJTIwVGVtcCUwQWluc2VydCUyOCUyNyUyNyUyNyUwQSUyMCUyMCUyMCUyMGNoYXR0ZXJqaTIwMTZhJTIwJTNEJTIwREIlMjhXb3JrVW5yZWxhdGVkJTI4JTBBJTIwJTIwJTIwJTIwJTIwJTIwJTIwJTIwMjAxNiUyQyUyMCUyMkNvZGUlMjBjbG9uZXMlMjBhbmQlMjBkZXZlbG9wZXIlMjBiZWhhdmlvciUzQSUyMHJlc3VsdHMlMjBvZiUyMHR3byUyMHN1cnZleXMlMjBvZiUyMHRoZSUyMGNsb25lJTIwcmVzZWFyY2glMjBjb21tdW5pdHklMjIlMkMlMEElMjAlMjAlMjAlMjAlMjAlMjAlMjAlMjBkaXNwbGF5JTNEJTIyY2hhdHRlcmppJTIyJTJDJTBBJTIwJTIwJTIwJTIwJTIwJTIwJTIwJTIwYXV0aG9ycyUzRCUyMkNoYXR0ZXJqaSUyQyUyMERlYmFyc2hpJTBBYW5kJTIwQ2FydmVyJTJDJTIwSmVmZnJleSUyMEMuJTBBYW5kJTIwS3JhZnQlMkMlMjBOaWNob2xhcyUyMEEuJTIyJTJDJTBBJTIwJTIwJTIwJTIwJTIwJTIwJTIwJTIwcGxhY2UlM0RFU0UlMkMlMEElMjAlMjAlMjAlMjAlMjAlMjAlMjAlMjBwcCUzRCUyMjE0NzYtLTE1MDglMjIlMkMlMEElMjAlMjAlMjAlMjAlMjAlMjAlMjAlMjBlbnRyeXR5cGUlM0QlMjJhcnRpY2xlJTIyJTJDJTBBJTIwJTIwJTIwJTIwJTIwJTIwJTIwJTIwbW9udGglM0QlMjJBdWclMjIlMkMlMEElMjAlMjAlMjAlMjAlMjAlMjAlMjAlMjBkYXklM0QlMjIwMSUyMiUyQyUwQSUyMCUyMCUyMCUyMCUyMCUyMCUyMCUyMHZvbHVtZSUzRCUyMjIxJTIyJTJDJTBBJTIwJTIwJTIwJTIwJTIwJTIwJTIwJTIwbnVtYmVyJTNEJTIyNCUyMiUyQyUwQSUyMCUyMCUyMCUyMCUyMCUyMCUyMCUyMGlzc24lM0QlMjIxNTczLTc2MTYlMjIlMkMlMEElMjAlMjAlMjAlMjAlMjAlMjAlMjAlMjBkb2klM0QlMjIxMC4xMDA3L3MxMDY2NC0wMTUtOTM5NC00JTIyJTJDJTBBJTIwJTIwJTIwJTIwJTIwJTIwJTIwJTIwSUQlM0QlMjJDaGF0dGVyamkyMDE2JTIyJTJDJTBBJTIwJTIwJTIwJTIwJTIwJTIwJTIwJTIwc3ByaW5nZXIyMDE1JTNEJTIyMSUyMiUyQyUwQSUyMCUyMCUyMCUyMCUyMCUyMCUyMCUyMHBsYWNleCUzRCUyMkVtcGlyaWNhbCUyMFNvZnR3YXJlJTIwRW5naW5lZXJpbmclMjIlMkMlMEElMjAlMjAlMjAlMjAlMjklMjklMEElMjclMjclMjclMjklM0I=\")));\n",
       "    "
      ],
      "text/plain": [
       "<IPython.core.display.Javascript object>"
      ]
     },
     "metadata": {},
     "output_type": "display_data"
    },
    {
     "data": {
      "application/javascript": [
       "$('span:contains(\"# Temp\")').closest('.cell').remove();"
      ],
      "text/plain": [
       "<IPython.core.display.Javascript object>"
      ]
     },
     "metadata": {},
     "output_type": "display_data"
    },
    {
     "data": {
      "application/javascript": [
       "\n",
       "        $('span:contains(\"# Temp\")').closest('.cell').remove();\n",
       "        var code = IPython.notebook.insert_cell_below('code');\n",
       "        code.set_text(decodeURIComponent(window.atob(\"JTIzJTIwVGVtcCUwQWluc2VydCUyOCUyNyUyNyUyNyUwQSUyMCUyMCUyMCUyMGNoYXR0ZXJqaTIwMTZhJTIwJTNEJTIwREIlMjhXb3JrVW5yZWxhdGVkJTI4JTBBJTIwJTIwJTIwJTIwJTIwJTIwJTIwJTIwMjAxNiUyQyUyMCUyMkNvZGUlMjBjbG9uZXMlMjBhbmQlMjBkZXZlbG9wZXIlMjBiZWhhdmlvciUzQSUyMHJlc3VsdHMlMjBvZiUyMHR3byUyMHN1cnZleXMlMjBvZiUyMHRoZSUyMGNsb25lJTIwcmVzZWFyY2glMjBjb21tdW5pdHklMjIlMkMlMEElMjAlMjAlMjAlMjAlMjAlMjAlMjAlMjBkaXNwbGF5JTNEJTIyY2hhdHRlcmppJTIyJTJDJTBBJTIwJTIwJTIwJTIwJTIwJTIwJTIwJTIwYXV0aG9ycyUzRCUyMkNoYXR0ZXJqaSUyQyUyMERlYmFyc2hpJTBBYW5kJTIwQ2FydmVyJTJDJTIwSmVmZnJleSUyMEMuJTBBYW5kJTIwS3JhZnQlMkMlMjBOaWNob2xhcyUyMEEuJTIyJTJDJTBBJTIwJTIwJTIwJTIwJTIwJTIwJTIwJTIwcGxhY2UlM0RFU0UlMkMlMEElMjAlMjAlMjAlMjAlMjAlMjAlMjAlMjBwcCUzRCUyMjE0NzYtLTE1MDglMjIlMkMlMEElMjAlMjAlMjAlMjAlMjAlMjAlMjAlMjBlbnRyeXR5cGUlM0QlMjJhcnRpY2xlJTIyJTJDJTBBJTIwJTIwJTIwJTIwJTIwJTIwJTIwJTIwbW9udGglM0QlMjJBdWclMjIlMkMlMEElMjAlMjAlMjAlMjAlMjAlMjAlMjAlMjBkYXklM0QlMjIwMSUyMiUyQyUwQSUyMCUyMCUyMCUyMCUyMCUyMCUyMCUyMHZvbHVtZSUzRCUyMjIxJTIyJTJDJTBBJTIwJTIwJTIwJTIwJTIwJTIwJTIwJTIwbnVtYmVyJTNEJTIyNCUyMiUyQyUwQSUyMCUyMCUyMCUyMCUyMCUyMCUyMCUyMGlzc24lM0QlMjIxNTczLTc2MTYlMjIlMkMlMEElMjAlMjAlMjAlMjAlMjAlMjAlMjAlMjBkb2klM0QlMjIxMC4xMDA3L3MxMDY2NC0wMTUtOTM5NC00JTIyJTJDJTBBJTIwJTIwJTIwJTIwJTIwJTIwJTIwJTIwSUQlM0QlMjJDaGF0dGVyamkyMDE2JTIyJTJDJTBBJTIwJTIwJTIwJTIwJTIwJTIwJTIwJTIwc3ByaW5nZXIyMDE1JTNEJTIyMSUyMiUyQyUwQSUyMCUyMCUyMCUyMCUyMCUyMCUyMCUyMHBsYWNleCUzRCUyMkVtcGlyaWNhbCUyMFNvZnR3YXJlJTIwRW5naW5lZXJpbmclMjIlMkMlMEElMjAlMjAlMjAlMjAlMjklMjklMEElMjclMjclMjclMjklM0I=\")));\n",
       "    "
      ],
      "text/plain": [
       "<IPython.core.display.Javascript object>"
      ]
     },
     "metadata": {},
     "output_type": "display_data"
    },
    {
     "data": {
      "application/javascript": [
       "$('span:contains(\"# Temp\")').closest('.cell').remove();"
      ],
      "text/plain": [
       "<IPython.core.display.Javascript object>"
      ]
     },
     "metadata": {},
     "output_type": "display_data"
    },
    {
     "data": {
      "application/javascript": [
       "\n",
       "        $('span:contains(\"# Temp\")').closest('.cell').remove();\n",
       "        var code = IPython.notebook.insert_cell_below('code');\n",
       "        code.set_text(decodeURIComponent(window.atob(\"JTIzJTIwVGVtcCUwQWluc2VydCUyOCUyNyUyNyUyNyUwQSUyMCUyMCUyMCUyMGthcmFoYXNhbm92aSVDMyVBNjIwMDVhJTIwJTNEJTIwREIlMjhXb3JrVW5yZWxhdGVkJTI4JTBBJTIwJTIwJTIwJTIwJTIwJTIwJTIwJTIwMjAwNSUyQyUyMCUyMkNvbGxlY3RpbmclMjBGZWVkYmFjayUyMGR1cmluZyUyMFNvZnR3YXJlJTIwRW5naW5lZXJpbmclMjBFeHBlcmltZW50cyUyMiUyQyUwQSUyMCUyMCUyMCUyMCUyMCUyMCUyMCUyMGRpc3BsYXklM0QlMjJrYXJhaGFzYW5vdmklQzMlQTYlMjIlMkMlMEElMjAlMjAlMjAlMjAlMjAlMjAlMjAlMjBhdXRob3JzJTNEJTIyS2FyYWhhc2Fub3ZpJUMzJUE2JTJDJTIwQW1lbGElMjBhbmQlMjBBbmRhJTJDJTIwQmVudGUlMjBhbmQlMjBBcmlzaG9sbSUyQyUyMEVyaWslMEFhbmQlMjBIb3ZlJTJDJTIwU2l3JTIwRWxpc2FiZXRoJTIwYW5kJTIwSiVDMyVCOHJnZW5zZW4lMkMlMjBNYWduZSUyMGFuZCUyMFNqJUMzJUI4YmVyZyUyQyUyMERhZyUyMEkuJTIwSy4lMEFhbmQlMjBXZWxsYW5kJTJDJTIwUmF5JTIyJTJDJTBBJTIwJTIwJTIwJTIwJTIwJTIwJTIwJTIwcGxhY2UlM0RFU0UlMkMlMEElMjAlMjAlMjAlMjAlMjAlMjAlMjAlMjBwcCUzRCUyMjExMy0tMTQ3JTIyJTJDJTBBJTIwJTIwJTIwJTIwJTIwJTIwJTIwJTIwZW50cnl0eXBlJTNEJTIyYXJ0aWNsZSUyMiUyQyUwQSUyMCUyMCUyMCUyMCUyMCUyMCUyMCUyMG1vbnRoJTNEJTIyQXByJTIyJTJDJTBBJTIwJTIwJTIwJTIwJTIwJTIwJTIwJTIwZGF5JTNEJTIyMDElMjIlMkMlMEElMjAlMjAlMjAlMjAlMjAlMjAlMjAlMjB2b2x1bWUlM0QlMjIxMCUyMiUyQyUwQSUyMCUyMCUyMCUyMCUyMCUyMCUyMCUyMG51bWJlciUzRCUyMjIlMjIlMkMlMEElMjAlMjAlMjAlMjAlMjAlMjAlMjAlMjBpc3NuJTNEJTIyMTU3My03NjE2JTIyJTJDJTBBJTIwJTIwJTIwJTIwJTIwJTIwJTIwJTIwZG9pJTNEJTIyMTAuMTAwNy9zMTA2NjQtMDA0LTYxODktNCUyMiUyQyUwQSUyMCUyMCUyMCUyMCUyMCUyMCUyMCUyMElEJTNEJTIyS2FyYWhhc2Fub3ZpJUMzJUE2MjAwNSUyMiUyQyUwQSUyMCUyMCUyMCUyMCUyMCUyMCUyMCUyMHNwcmluZ2VyMjAxNSUzRCUyMjElMjIlMkMlMEElMjAlMjAlMjAlMjAlMjAlMjAlMjAlMjBwbGFjZXglM0QlMjJFbXBpcmljYWwlMjBTb2Z0d2FyZSUyMEVuZ2luZWVyaW5nJTIyJTJDJTBBJTIwJTIwJTIwJTIwJTI5JTI5JTBBJTI3JTI3JTI3JTI5JTNC\")));\n",
       "    "
      ],
      "text/plain": [
       "<IPython.core.display.Javascript object>"
      ]
     },
     "metadata": {},
     "output_type": "display_data"
    },
    {
     "data": {
      "application/javascript": [
       "$('span:contains(\"# Temp\")').closest('.cell').remove();"
      ],
      "text/plain": [
       "<IPython.core.display.Javascript object>"
      ]
     },
     "metadata": {},
     "output_type": "display_data"
    },
    {
     "data": {
      "application/javascript": [
       "\n",
       "        $('span:contains(\"# Temp\")').closest('.cell').remove();\n",
       "        var code = IPython.notebook.insert_cell_below('code');\n",
       "        code.set_text(decodeURIComponent(window.atob(\"JTIzJTIwVGVtcCUwQWluc2VydCUyOCUyNyUyNyUyNyUwQSUyMCUyMCUyMCUyMGthcmFoYXNhbm92aSVDMyVBNjIwMDVhJTIwJTNEJTIwREIlMjhXb3JrVW5yZWxhdGVkJTI4JTBBJTIwJTIwJTIwJTIwJTIwJTIwJTIwJTIwMjAwNSUyQyUyMCUyMkNvbGxlY3RpbmclMjBGZWVkYmFjayUyMGR1cmluZyUyMFNvZnR3YXJlJTIwRW5naW5lZXJpbmclMjBFeHBlcmltZW50cyUyMiUyQyUwQSUyMCUyMCUyMCUyMCUyMCUyMCUyMCUyMGRpc3BsYXklM0QlMjJrYXJhaGFzYW5vdmklQzMlQTYlMjIlMkMlMEElMjAlMjAlMjAlMjAlMjAlMjAlMjAlMjBhdXRob3JzJTNEJTIyS2FyYWhhc2Fub3ZpJUMzJUE2JTJDJTIwQW1lbGElMjBhbmQlMjBBbmRhJTJDJTIwQmVudGUlMjBhbmQlMjBBcmlzaG9sbSUyQyUyMEVyaWslMEFhbmQlMjBIb3ZlJTJDJTIwU2l3JTIwRWxpc2FiZXRoJTIwYW5kJTIwSiVDMyVCOHJnZW5zZW4lMkMlMjBNYWduZSUyMGFuZCUyMFNqJUMzJUI4YmVyZyUyQyUyMERhZyUyMEkuJTIwSy4lMEFhbmQlMjBXZWxsYW5kJTJDJTIwUmF5JTIyJTJDJTBBJTIwJTIwJTIwJTIwJTIwJTIwJTIwJTIwcGxhY2UlM0RFU0UlMkMlMEElMjAlMjAlMjAlMjAlMjAlMjAlMjAlMjBwcCUzRCUyMjExMy0tMTQ3JTIyJTJDJTBBJTIwJTIwJTIwJTIwJTIwJTIwJTIwJTIwZW50cnl0eXBlJTNEJTIyYXJ0aWNsZSUyMiUyQyUwQSUyMCUyMCUyMCUyMCUyMCUyMCUyMCUyMG1vbnRoJTNEJTIyQXByJTIyJTJDJTBBJTIwJTIwJTIwJTIwJTIwJTIwJTIwJTIwZGF5JTNEJTIyMDElMjIlMkMlMEElMjAlMjAlMjAlMjAlMjAlMjAlMjAlMjB2b2x1bWUlM0QlMjIxMCUyMiUyQyUwQSUyMCUyMCUyMCUyMCUyMCUyMCUyMCUyMG51bWJlciUzRCUyMjIlMjIlMkMlMEElMjAlMjAlMjAlMjAlMjAlMjAlMjAlMjBpc3NuJTNEJTIyMTU3My03NjE2JTIyJTJDJTBBJTIwJTIwJTIwJTIwJTIwJTIwJTIwJTIwZG9pJTNEJTIyMTAuMTAwNy9zMTA2NjQtMDA0LTYxODktNCUyMiUyQyUwQSUyMCUyMCUyMCUyMCUyMCUyMCUyMCUyMElEJTNEJTIyS2FyYWhhc2Fub3ZpJUMzJUE2MjAwNSUyMiUyQyUwQSUyMCUyMCUyMCUyMCUyMCUyMCUyMCUyMHNwcmluZ2VyMjAxNSUzRCUyMjElMjIlMkMlMEElMjAlMjAlMjAlMjAlMjAlMjAlMjAlMjBwbGFjZXglM0QlMjJFbXBpcmljYWwlMjBTb2Z0d2FyZSUyMEVuZ2luZWVyaW5nJTIyJTJDJTBBJTIwJTIwJTIwJTIwJTI5JTI5JTBBJTI3JTI3JTI3JTI5JTNC\")));\n",
       "    "
      ],
      "text/plain": [
       "<IPython.core.display.Javascript object>"
      ]
     },
     "metadata": {},
     "output_type": "display_data"
    },
    {
     "data": {
      "application/javascript": [
       "$('span:contains(\"# Temp\")').closest('.cell').remove();"
      ],
      "text/plain": [
       "<IPython.core.display.Javascript object>"
      ]
     },
     "metadata": {},
     "output_type": "display_data"
    },
    {
     "data": {
      "application/javascript": [
       "\n",
       "        $('span:contains(\"# Temp\")').closest('.cell').remove();\n",
       "        var code = IPython.notebook.insert_cell_below('code');\n",
       "        code.set_text(decodeURIComponent(window.atob(\"JTIzJTIwVGVtcCUwQWluc2VydCUyOCUyNyUyNyUyNyUwQWFicmFoYW1zc29uMjAwMmElMjAlM0QlMjBEQiUyOFdvcmtVbnJlbGF0ZWQlMjglMEElMjAlMjAlMjAlMjAyMDAyJTJDJTIwJTIyQ29tbWl0bWVudCUyME5ldHMlMjBpbiUyMFNvZnR3YXJlJTIwUHJvY2VzcyUyMEltcHJvdmVtZW50JTIyJTJDJTBBJTIwJTIwJTIwJTIwZGlzcGxheSUzRCUyMmFicmFoYW1zc29uJTIyJTJDJTBBJTIwJTIwJTIwJTIwYXV0aG9ycyUzRCUyMkFicmFoYW1zc29uJTJDJTIwUGVra2ElMjIlMkMlMEElMjAlMjAlMjAlMjBwbGFjZSUzREZBS0UlMkMlMEElMjAlMjAlMjAlMjBwcCUzRCUyMjQwNy0tNDM4JTIyJTJDJTBBJTIwJTIwJTIwJTIwZW50cnl0eXBlJTNEJTIyYXJ0aWNsZSUyMiUyQyUwQSUyMCUyMCUyMCUyMG1vbnRoJTNEJTIyRGVjJTIyJTJDJTBBJTIwJTIwJTIwJTIwZGF5JTNEJTIyMDElMjIlMkMlMEElMjAlMjAlMjAlMjB2b2x1bWUlM0QlMjIxNCUyMiUyQyUwQSUyMCUyMCUyMCUyMG51bWJlciUzRCUyMjElMjIlMkMlMEElMjAlMjAlMjAlMjBpc3NuJTNEJTIyMTU3My03NDg5JTIyJTJDJTBBJTIwJTIwJTIwJTIwZG9pJTNEJTIyMTAuMTAyMy9BJTNBMTAyMDUyNjMyOTcwOCUyMiUyQyUwQSUyMCUyMCUyMCUyMElEJTNEJTIyQWJyYWhhbXNzb24yMDAyJTIyJTJDJTBBJTIwJTIwJTIwJTIwc3ByaW5nZXIyMDE1JTNEJTIyMSUyMiUyQyUwQSUyMCUyMCUyMCUyMHBsYWNleCUzRCUyMkFubmFscyUyMG9mJTIwU29mdHdhcmUlMjBFbmdpbmVlcmluZyUyMiUyQyUwQSUyOSUyOSUwQSUyNyUyNyUyNyUyOSUzQg==\")));\n",
       "    "
      ],
      "text/plain": [
       "<IPython.core.display.Javascript object>"
      ]
     },
     "metadata": {},
     "output_type": "display_data"
    },
    {
     "data": {
      "application/javascript": [
       "$('span:contains(\"# Temp\")').closest('.cell').remove();"
      ],
      "text/plain": [
       "<IPython.core.display.Javascript object>"
      ]
     },
     "metadata": {},
     "output_type": "display_data"
    },
    {
     "data": {
      "application/javascript": [
       "\n",
       "        $('span:contains(\"# Temp\")').closest('.cell').remove();\n",
       "        var code = IPython.notebook.insert_cell_below('code');\n",
       "        code.set_text(decodeURIComponent(window.atob(\"JTIzJTIwVGVtcCUwQWluc2VydCUyOCUyNyUyNyUyNyUwQWFicmFoYW1zc29uMjAwMmElMjAlM0QlMjBEQiUyOFdvcmtVbnJlbGF0ZWQlMjglMEElMjAlMjAlMjAlMjAyMDAyJTJDJTIwJTIyQ29tbWl0bWVudCUyME5ldHMlMjBpbiUyMFNvZnR3YXJlJTIwUHJvY2VzcyUyMEltcHJvdmVtZW50JTIyJTJDJTBBJTIwJTIwJTIwJTIwZGlzcGxheSUzRCUyMmFicmFoYW1zc29uJTIyJTJDJTBBJTIwJTIwJTIwJTIwYXV0aG9ycyUzRCUyMkFicmFoYW1zc29uJTJDJTIwUGVra2ElMjIlMkMlMEElMjAlMjAlMjAlMjBwbGFjZSUzREZBS0UlMkMlMEElMjAlMjAlMjAlMjBwcCUzRCUyMjQwNy0tNDM4JTIyJTJDJTBBJTIwJTIwJTIwJTIwZW50cnl0eXBlJTNEJTIyYXJ0aWNsZSUyMiUyQyUwQSUyMCUyMCUyMCUyMG1vbnRoJTNEJTIyRGVjJTIyJTJDJTBBJTIwJTIwJTIwJTIwZGF5JTNEJTIyMDElMjIlMkMlMEElMjAlMjAlMjAlMjB2b2x1bWUlM0QlMjIxNCUyMiUyQyUwQSUyMCUyMCUyMCUyMG51bWJlciUzRCUyMjElMjIlMkMlMEElMjAlMjAlMjAlMjBpc3NuJTNEJTIyMTU3My03NDg5JTIyJTJDJTBBJTIwJTIwJTIwJTIwZG9pJTNEJTIyMTAuMTAyMy9BJTNBMTAyMDUyNjMyOTcwOCUyMiUyQyUwQSUyMCUyMCUyMCUyMElEJTNEJTIyQWJyYWhhbXNzb24yMDAyJTIyJTJDJTBBJTIwJTIwJTIwJTIwc3ByaW5nZXIyMDE1JTNEJTIyMSUyMiUyQyUwQSUyMCUyMCUyMCUyMHBsYWNleCUzRCUyMkFubmFscyUyMG9mJTIwU29mdHdhcmUlMjBFbmdpbmVlcmluZyUyMiUyQyUwQSUyOSUyOSUwQSUyNyUyNyUyNyUyOSUzQg==\")));\n",
       "    "
      ],
      "text/plain": [
       "<IPython.core.display.Javascript object>"
      ]
     },
     "metadata": {},
     "output_type": "display_data"
    },
    {
     "data": {
      "application/javascript": [
       "$('span:contains(\"# Temp\")').closest('.cell').remove();"
      ],
      "text/plain": [
       "<IPython.core.display.Javascript object>"
      ]
     },
     "metadata": {},
     "output_type": "display_data"
    },
    {
     "data": {
      "application/javascript": [
       "\n",
       "        $('span:contains(\"# Temp\")').closest('.cell').remove();\n",
       "        var code = IPython.notebook.insert_cell_below('code');\n",
       "        code.set_text(decodeURIComponent(window.atob(\"JTIzJTIwVGVtcCUwQWluc2VydCUyOCUyNyUyNyUyNyUwQSUyMCUyMCUyMCUyMHNoaW4yMDE2YSUyMCUzRCUyMERCJTI4V29ya1VucmVsYXRlZCUyOCUwQSUyMCUyMCUyMCUyMCUyMCUyMCUyMCUyMDIwMTYlMkMlMjAlMjJDb21wcmVoZW5zaXZlJTIwYW5hbHlzaXMlMjBvZiUyMEZCRCUyMHRlc3QlMjBjb3ZlcmFnZSUyMGNyaXRlcmlhJTIwdXNpbmclMjBtdXRhbnRzJTIyJTJDJTBBJTIwJTIwJTIwJTIwJTIwJTIwJTIwJTIwZGlzcGxheSUzRCUyMnNoaW4lMjIlMkMlMEElMjAlMjAlMjAlMjAlMjAlMjAlMjAlMjBhdXRob3JzJTNEJTIyU2hpbiUyQyUyMERvbmdod2FuJTBBYW5kJTIwSmVlJTJDJTIwRXVua3lvdW5nJTBBYW5kJTIwQmFlJTJDJTIwRG9vLUh3YW4lMjIlMkMlMEElMjAlMjAlMjAlMjAlMjAlMjAlMjAlMjBwbGFjZSUzREZBS0UlMkMlMEElMjAlMjAlMjAlMjAlMjAlMjAlMjAlMjBwcCUzRCUyMjYzMS0tNjQ1JTIyJTJDJTBBJTIwJTIwJTIwJTIwJTIwJTIwJTIwJTIwZW50cnl0eXBlJTNEJTIyYXJ0aWNsZSUyMiUyQyUwQSUyMCUyMCUyMCUyMCUyMCUyMCUyMCUyMG1vbnRoJTNEJTIySnVsJTIyJTJDJTBBJTIwJTIwJTIwJTIwJTIwJTIwJTIwJTIwZGF5JTNEJTIyMDElMjIlMkMlMEElMjAlMjAlMjAlMjAlMjAlMjAlMjAlMjB2b2x1bWUlM0QlMjIxNSUyMiUyQyUwQSUyMCUyMCUyMCUyMCUyMCUyMCUyMCUyMG51bWJlciUzRCUyMjMlMjIlMkMlMEElMjAlMjAlMjAlMjAlMjAlMjAlMjAlMjBpc3NuJTNEJTIyMTYxOS0xMzc0JTIyJTJDJTBBJTIwJTIwJTIwJTIwJTIwJTIwJTIwJTIwZG9pJTNEJTIyMTAuMTAwNy9zMTAyNzAtMDE0LTA0MjgteSUyMiUyQyUwQSUyMCUyMCUyMCUyMCUyMCUyMCUyMCUyMElEJTNEJTIyU2hpbjIwMTYlMjIlMkMlMEElMjAlMjAlMjAlMjAlMjAlMjAlMjAlMjBzcHJpbmdlcjIwMTUlM0QlMjIxJTIyJTJDJTBBJTIwJTIwJTIwJTIwJTIwJTIwJTIwJTIwcGxhY2V4JTNEJTIyU29mdHdhcmUlMjAlN0IlMjYlN0QlMjBTeXN0ZW1zJTIwTW9kZWxpbmclMjIlMkMlMEElMjAlMjAlMjAlMjAlMjklMjklMEElMjclMjclMjclMjklM0I=\")));\n",
       "    "
      ],
      "text/plain": [
       "<IPython.core.display.Javascript object>"
      ]
     },
     "metadata": {},
     "output_type": "display_data"
    },
    {
     "data": {
      "application/javascript": [
       "$('span:contains(\"# Temp\")').closest('.cell').remove();"
      ],
      "text/plain": [
       "<IPython.core.display.Javascript object>"
      ]
     },
     "metadata": {},
     "output_type": "display_data"
    },
    {
     "data": {
      "application/javascript": [
       "\n",
       "        $('span:contains(\"# Temp\")').closest('.cell').remove();\n",
       "        var code = IPython.notebook.insert_cell_below('code');\n",
       "        code.set_text(decodeURIComponent(window.atob(\"JTIzJTIwVGVtcCUwQWluc2VydCUyOCUyNyUyNyUyNyUwQSUyMCUyMCUyMCUyMHNoaW4yMDE2YSUyMCUzRCUyMERCJTI4V29ya1VucmVsYXRlZCUyOCUwQSUyMCUyMCUyMCUyMCUyMCUyMCUyMCUyMDIwMTYlMkMlMjAlMjJDb21wcmVoZW5zaXZlJTIwYW5hbHlzaXMlMjBvZiUyMEZCRCUyMHRlc3QlMjBjb3ZlcmFnZSUyMGNyaXRlcmlhJTIwdXNpbmclMjBtdXRhbnRzJTIyJTJDJTBBJTIwJTIwJTIwJTIwJTIwJTIwJTIwJTIwZGlzcGxheSUzRCUyMnNoaW4lMjIlMkMlMEElMjAlMjAlMjAlMjAlMjAlMjAlMjAlMjBhdXRob3JzJTNEJTIyU2hpbiUyQyUyMERvbmdod2FuJTBBYW5kJTIwSmVlJTJDJTIwRXVua3lvdW5nJTBBYW5kJTIwQmFlJTJDJTIwRG9vLUh3YW4lMjIlMkMlMEElMjAlMjAlMjAlMjAlMjAlMjAlMjAlMjBwbGFjZSUzREZBS0UlMkMlMEElMjAlMjAlMjAlMjAlMjAlMjAlMjAlMjBwcCUzRCUyMjYzMS0tNjQ1JTIyJTJDJTBBJTIwJTIwJTIwJTIwJTIwJTIwJTIwJTIwZW50cnl0eXBlJTNEJTIyYXJ0aWNsZSUyMiUyQyUwQSUyMCUyMCUyMCUyMCUyMCUyMCUyMCUyMG1vbnRoJTNEJTIySnVsJTIyJTJDJTBBJTIwJTIwJTIwJTIwJTIwJTIwJTIwJTIwZGF5JTNEJTIyMDElMjIlMkMlMEElMjAlMjAlMjAlMjAlMjAlMjAlMjAlMjB2b2x1bWUlM0QlMjIxNSUyMiUyQyUwQSUyMCUyMCUyMCUyMCUyMCUyMCUyMCUyMG51bWJlciUzRCUyMjMlMjIlMkMlMEElMjAlMjAlMjAlMjAlMjAlMjAlMjAlMjBpc3NuJTNEJTIyMTYxOS0xMzc0JTIyJTJDJTBBJTIwJTIwJTIwJTIwJTIwJTIwJTIwJTIwZG9pJTNEJTIyMTAuMTAwNy9zMTAyNzAtMDE0LTA0MjgteSUyMiUyQyUwQSUyMCUyMCUyMCUyMCUyMCUyMCUyMCUyMElEJTNEJTIyU2hpbjIwMTYlMjIlMkMlMEElMjAlMjAlMjAlMjAlMjAlMjAlMjAlMjBzcHJpbmdlcjIwMTUlM0QlMjIxJTIyJTJDJTBBJTIwJTIwJTIwJTIwJTIwJTIwJTIwJTIwcGxhY2V4JTNEJTIyU29mdHdhcmUlMjAlN0IlMjYlN0QlMjBTeXN0ZW1zJTIwTW9kZWxpbmclMjIlMkMlMEElMjAlMjAlMjAlMjAlMjklMjklMEElMjclMjclMjclMjklM0I=\")));\n",
       "    "
      ],
      "text/plain": [
       "<IPython.core.display.Javascript object>"
      ]
     },
     "metadata": {},
     "output_type": "display_data"
    },
    {
     "data": {
      "application/javascript": [
       "$('span:contains(\"# Temp\")').closest('.cell').remove();"
      ],
      "text/plain": [
       "<IPython.core.display.Javascript object>"
      ]
     },
     "metadata": {},
     "output_type": "display_data"
    },
    {
     "data": {
      "application/javascript": [
       "\n",
       "        $('span:contains(\"# Temp\")').closest('.cell').remove();\n",
       "        var code = IPython.notebook.insert_cell_below('code');\n",
       "        code.set_text(decodeURIComponent(window.atob(\"JTIzJTIwVGVtcCUwQWluc2VydCUyOCUyNyUyNyUyNyUwQSUyMCUyMCUyMCUyMGdhc3N0b24xOTk5YSUyMCUzRCUyMERCJTI4V29ya1VucmVsYXRlZCUyOCUwQSUyMCUyMCUyMCUyMCUyMCUyMCUyMCUyMDE5OTklMkMlMjAlMjJDb250aW51b3VzJTIwU29mdHdhcmUlMjBQcm9jZXNzJTIwSW1wcm92ZW1lbnQlMjBSZXF1aXJlcyUyME9yZ2FuaXNhdGlvbmFsJTIwTGVhcm5pbmclM0ElMjBBbiUyMEF1c3RyYWxpYW4lMjBDYXNlJTIwU3R1ZHklMjIlMkMlMEElMjAlMjAlMjAlMjAlMjAlMjAlMjAlMjBkaXNwbGF5JTNEJTIyZ2Fzc3RvbiUyMiUyQyUwQSUyMCUyMCUyMCUyMCUyMCUyMCUyMCUyMGF1dGhvcnMlM0QlMjJHYXNzdG9uJTJDJTIwSmVubmlmZXIlMEFhbmQlMjBIYWxsb3JhbiUyQyUyMFBhdCUyMiUyQyUwQSUyMCUyMCUyMCUyMCUyMCUyMCUyMCUyMHBsYWNlJTNEU1FKJTJDJTBBJTIwJTIwJTIwJTIwJTIwJTIwJTIwJTIwcHAlM0QlMjIzNy0tNTElMjIlMkMlMEElMjAlMjAlMjAlMjAlMjAlMjAlMjAlMjBlbnRyeXR5cGUlM0QlMjJhcnRpY2xlJTIyJTJDJTBBJTIwJTIwJTIwJTIwJTIwJTIwJTIwJTIwbW9udGglM0QlMjJTZXAlMjIlMkMlMEElMjAlMjAlMjAlMjAlMjAlMjAlMjAlMjBkYXklM0QlMjIwMSUyMiUyQyUwQSUyMCUyMCUyMCUyMCUyMCUyMCUyMCUyMHZvbHVtZSUzRCUyMjglMjIlMkMlMEElMjAlMjAlMjAlMjAlMjAlMjAlMjAlMjBudW1iZXIlM0QlMjIxJTIyJTJDJTBBJTIwJTIwJTIwJTIwJTIwJTIwJTIwJTIwaXNzbiUzRCUyMjE1NzMtMTM2NyUyMiUyQyUwQSUyMCUyMCUyMCUyMCUyMCUyMCUyMCUyMGRvaSUzRCUyMjEwLjEwMjMvQSUzQTEwMDg5NzQ4MTg4MTIlMjIlMkMlMEElMjAlMjAlMjAlMjAlMjAlMjAlMjAlMjBJRCUzRCUyMkdhc3N0b24xOTk5JTIyJTJDJTBBJTIwJTIwJTIwJTIwJTIwJTIwJTIwJTIwc3ByaW5nZXIyMDE1JTNEJTIyMSUyMiUyQyUwQSUyMCUyMCUyMCUyMCUyMCUyMCUyMCUyMHBsYWNleCUzRCUyMlNvZnR3YXJlJTIwUXVhbGl0eSUyMEpvdXJuYWwlMjIlMkMlMEElMjAlMjAlMjAlMjAlMjklMjklMEElMjclMjclMjclMjklM0I=\")));\n",
       "    "
      ],
      "text/plain": [
       "<IPython.core.display.Javascript object>"
      ]
     },
     "metadata": {},
     "output_type": "display_data"
    },
    {
     "data": {
      "application/javascript": [
       "$('span:contains(\"# Temp\")').closest('.cell').remove();"
      ],
      "text/plain": [
       "<IPython.core.display.Javascript object>"
      ]
     },
     "metadata": {},
     "output_type": "display_data"
    },
    {
     "data": {
      "application/javascript": [
       "\n",
       "        $('span:contains(\"# Temp\")').closest('.cell').remove();\n",
       "        var code = IPython.notebook.insert_cell_below('code');\n",
       "        code.set_text(decodeURIComponent(window.atob(\"JTIzJTIwVGVtcCUwQWluc2VydCUyOCUyNyUyNyUyNyUwQSUyMCUyMCUyMCUyMGdhc3N0b24xOTk5YSUyMCUzRCUyMERCJTI4V29ya1VucmVsYXRlZCUyOCUwQSUyMCUyMCUyMCUyMCUyMCUyMCUyMCUyMDE5OTklMkMlMjAlMjJDb250aW51b3VzJTIwU29mdHdhcmUlMjBQcm9jZXNzJTIwSW1wcm92ZW1lbnQlMjBSZXF1aXJlcyUyME9yZ2FuaXNhdGlvbmFsJTIwTGVhcm5pbmclM0ElMjBBbiUyMEF1c3RyYWxpYW4lMjBDYXNlJTIwU3R1ZHklMjIlMkMlMEElMjAlMjAlMjAlMjAlMjAlMjAlMjAlMjBkaXNwbGF5JTNEJTIyZ2Fzc3RvbiUyMiUyQyUwQSUyMCUyMCUyMCUyMCUyMCUyMCUyMCUyMGF1dGhvcnMlM0QlMjJHYXNzdG9uJTJDJTIwSmVubmlmZXIlMEFhbmQlMjBIYWxsb3JhbiUyQyUyMFBhdCUyMiUyQyUwQSUyMCUyMCUyMCUyMCUyMCUyMCUyMCUyMHBsYWNlJTNEU1FKJTJDJTBBJTIwJTIwJTIwJTIwJTIwJTIwJTIwJTIwcHAlM0QlMjIzNy0tNTElMjIlMkMlMEElMjAlMjAlMjAlMjAlMjAlMjAlMjAlMjBlbnRyeXR5cGUlM0QlMjJhcnRpY2xlJTIyJTJDJTBBJTIwJTIwJTIwJTIwJTIwJTIwJTIwJTIwbW9udGglM0QlMjJTZXAlMjIlMkMlMEElMjAlMjAlMjAlMjAlMjAlMjAlMjAlMjBkYXklM0QlMjIwMSUyMiUyQyUwQSUyMCUyMCUyMCUyMCUyMCUyMCUyMCUyMHZvbHVtZSUzRCUyMjglMjIlMkMlMEElMjAlMjAlMjAlMjAlMjAlMjAlMjAlMjBudW1iZXIlM0QlMjIxJTIyJTJDJTBBJTIwJTIwJTIwJTIwJTIwJTIwJTIwJTIwaXNzbiUzRCUyMjE1NzMtMTM2NyUyMiUyQyUwQSUyMCUyMCUyMCUyMCUyMCUyMCUyMCUyMGRvaSUzRCUyMjEwLjEwMjMvQSUzQTEwMDg5NzQ4MTg4MTIlMjIlMkMlMEElMjAlMjAlMjAlMjAlMjAlMjAlMjAlMjBJRCUzRCUyMkdhc3N0b24xOTk5JTIyJTJDJTBBJTIwJTIwJTIwJTIwJTIwJTIwJTIwJTIwc3ByaW5nZXIyMDE1JTNEJTIyMSUyMiUyQyUwQSUyMCUyMCUyMCUyMCUyMCUyMCUyMCUyMHBsYWNleCUzRCUyMlNvZnR3YXJlJTIwUXVhbGl0eSUyMEpvdXJuYWwlMjIlMkMlMEElMjAlMjAlMjAlMjAlMjklMjklMEElMjclMjclMjclMjklM0I=\")));\n",
       "    "
      ],
      "text/plain": [
       "<IPython.core.display.Javascript object>"
      ]
     },
     "metadata": {},
     "output_type": "display_data"
    },
    {
     "data": {
      "application/javascript": [
       "$('span:contains(\"# Temp\")').closest('.cell').remove();"
      ],
      "text/plain": [
       "<IPython.core.display.Javascript object>"
      ]
     },
     "metadata": {},
     "output_type": "display_data"
    },
    {
     "data": {
      "application/javascript": [
       "\n",
       "        $('span:contains(\"# Temp\")').closest('.cell').remove();\n",
       "        var code = IPython.notebook.insert_cell_below('code');\n",
       "        code.set_text(decodeURIComponent(window.atob(\"JTIzJTIwVGVtcCUwQWluc2VydCUyOCUyNyUyNyUyNyUwQSUyMCUyMCUyMCUyMGRpdHRyaWNoMjAwOGElMjAlM0QlMjBEQiUyOFdvcmtVbnJlbGF0ZWQlMjglMEElMjAlMjAlMjAlMjAlMjAlMjAlMjAlMjAyMDA4JTJDJTIwJTIyQ29vcGVyYXRpdmUlMjBtZXRob2QlMjBkZXZlbG9wbWVudCUyMiUyQyUwQSUyMCUyMCUyMCUyMCUyMCUyMCUyMCUyMGRpc3BsYXklM0QlMjJkaXR0cmljaCUyMiUyQyUwQSUyMCUyMCUyMCUyMCUyMCUyMCUyMCUyMGF1dGhvcnMlM0QlMjJEaXR0cmljaCUyQyUyMFl2b25uZSUwQWFuZCUyMFIlQzMlQjZua2slQzMlQjYlMkMlMjBLYXJpJTBBYW5kJTIwRXJpa3Nzb24lMkMlMjBKZWFuZXR0ZSUwQWFuZCUyMEhhbnNzb24lMkMlMjBDaHJpc3RpbmElMEFhbmQlMjBMaW5kZWJlcmclMkMlMjBPbGxlJTIyJTJDJTBBJTIwJTIwJTIwJTIwJTIwJTIwJTIwJTIwcGxhY2UlM0RFU0UlMkMlMEElMjAlMjAlMjAlMjAlMjAlMjAlMjAlMjBwcCUzRCUyMjIzMS0tMjYwJTIyJTJDJTBBJTIwJTIwJTIwJTIwJTIwJTIwJTIwJTIwZW50cnl0eXBlJTNEJTIyYXJ0aWNsZSUyMiUyQyUwQSUyMCUyMCUyMCUyMCUyMCUyMCUyMCUyMG1vbnRoJTNEJTIySnVuJTIyJTJDJTBBJTIwJTIwJTIwJTIwJTIwJTIwJTIwJTIwZGF5JTNEJTIyMDElMjIlMkMlMEElMjAlMjAlMjAlMjAlMjAlMjAlMjAlMjB2b2x1bWUlM0QlMjIxMyUyMiUyQyUwQSUyMCUyMCUyMCUyMCUyMCUyMCUyMCUyMG51bWJlciUzRCUyMjMlMjIlMkMlMEElMjAlMjAlMjAlMjAlMjAlMjAlMjAlMjBpc3NuJTNEJTIyMTU3My03NjE2JTIyJTJDJTBBJTIwJTIwJTIwJTIwJTIwJTIwJTIwJTIwZG9pJTNEJTIyMTAuMTAwNy9zMTA2NjQtMDA3LTkwNTctMSUyMiUyQyUwQSUyMCUyMCUyMCUyMCUyMCUyMCUyMCUyMElEJTNEJTIyRGl0dHJpY2gyMDA4JTIyJTJDJTBBJTIwJTIwJTIwJTIwJTIwJTIwJTIwJTIwc3ByaW5nZXIyMDE1JTNEJTIyMSUyMiUyQyUwQSUyMCUyMCUyMCUyMCUyMCUyMCUyMCUyMHBsYWNleCUzRCUyMkVtcGlyaWNhbCUyMFNvZnR3YXJlJTIwRW5naW5lZXJpbmclMjIlMkMlMEElMjAlMjAlMjAlMjAlMjklMjklMEElMjclMjclMjclMjklM0I=\")));\n",
       "    "
      ],
      "text/plain": [
       "<IPython.core.display.Javascript object>"
      ]
     },
     "metadata": {},
     "output_type": "display_data"
    },
    {
     "data": {
      "application/javascript": [
       "$('span:contains(\"# Temp\")').closest('.cell').remove();"
      ],
      "text/plain": [
       "<IPython.core.display.Javascript object>"
      ]
     },
     "metadata": {},
     "output_type": "display_data"
    },
    {
     "data": {
      "application/javascript": [
       "\n",
       "        $('span:contains(\"# Temp\")').closest('.cell').remove();\n",
       "        var code = IPython.notebook.insert_cell_below('code');\n",
       "        code.set_text(decodeURIComponent(window.atob(\"JTIzJTIwVGVtcCUwQWluc2VydCUyOCUyNyUyNyUyNyUwQSUyMCUyMCUyMCUyMGRpdHRyaWNoMjAwOGElMjAlM0QlMjBEQiUyOFdvcmtVbnJlbGF0ZWQlMjglMEElMjAlMjAlMjAlMjAlMjAlMjAlMjAlMjAyMDA4JTJDJTIwJTIyQ29vcGVyYXRpdmUlMjBtZXRob2QlMjBkZXZlbG9wbWVudCUyMiUyQyUwQSUyMCUyMCUyMCUyMCUyMCUyMCUyMCUyMGRpc3BsYXklM0QlMjJkaXR0cmljaCUyMiUyQyUwQSUyMCUyMCUyMCUyMCUyMCUyMCUyMCUyMGF1dGhvcnMlM0QlMjJEaXR0cmljaCUyQyUyMFl2b25uZSUwQWFuZCUyMFIlQzMlQjZua2slQzMlQjYlMkMlMjBLYXJpJTBBYW5kJTIwRXJpa3Nzb24lMkMlMjBKZWFuZXR0ZSUwQWFuZCUyMEhhbnNzb24lMkMlMjBDaHJpc3RpbmElMEFhbmQlMjBMaW5kZWJlcmclMkMlMjBPbGxlJTIyJTJDJTBBJTIwJTIwJTIwJTIwJTIwJTIwJTIwJTIwcGxhY2UlM0RFU0UlMkMlMEElMjAlMjAlMjAlMjAlMjAlMjAlMjAlMjBwcCUzRCUyMjIzMS0tMjYwJTIyJTJDJTBBJTIwJTIwJTIwJTIwJTIwJTIwJTIwJTIwZW50cnl0eXBlJTNEJTIyYXJ0aWNsZSUyMiUyQyUwQSUyMCUyMCUyMCUyMCUyMCUyMCUyMCUyMG1vbnRoJTNEJTIySnVuJTIyJTJDJTBBJTIwJTIwJTIwJTIwJTIwJTIwJTIwJTIwZGF5JTNEJTIyMDElMjIlMkMlMEElMjAlMjAlMjAlMjAlMjAlMjAlMjAlMjB2b2x1bWUlM0QlMjIxMyUyMiUyQyUwQSUyMCUyMCUyMCUyMCUyMCUyMCUyMCUyMG51bWJlciUzRCUyMjMlMjIlMkMlMEElMjAlMjAlMjAlMjAlMjAlMjAlMjAlMjBpc3NuJTNEJTIyMTU3My03NjE2JTIyJTJDJTBBJTIwJTIwJTIwJTIwJTIwJTIwJTIwJTIwZG9pJTNEJTIyMTAuMTAwNy9zMTA2NjQtMDA3LTkwNTctMSUyMiUyQyUwQSUyMCUyMCUyMCUyMCUyMCUyMCUyMCUyMElEJTNEJTIyRGl0dHJpY2gyMDA4JTIyJTJDJTBBJTIwJTIwJTIwJTIwJTIwJTIwJTIwJTIwc3ByaW5nZXIyMDE1JTNEJTIyMSUyMiUyQyUwQSUyMCUyMCUyMCUyMCUyMCUyMCUyMCUyMHBsYWNleCUzRCUyMkVtcGlyaWNhbCUyMFNvZnR3YXJlJTIwRW5naW5lZXJpbmclMjIlMkMlMEElMjAlMjAlMjAlMjAlMjklMjklMEElMjclMjclMjclMjklM0I=\")));\n",
       "    "
      ],
      "text/plain": [
       "<IPython.core.display.Javascript object>"
      ]
     },
     "metadata": {},
     "output_type": "display_data"
    },
    {
     "data": {
      "application/javascript": [
       "$('span:contains(\"# Temp\")').closest('.cell').remove();"
      ],
      "text/plain": [
       "<IPython.core.display.Javascript object>"
      ]
     },
     "metadata": {},
     "output_type": "display_data"
    },
    {
     "data": {
      "application/javascript": [
       "\n",
       "        $('span:contains(\"# Temp\")').closest('.cell').remove();\n",
       "        var code = IPython.notebook.insert_cell_below('code');\n",
       "        code.set_text(decodeURIComponent(window.atob(\"JTIzJTIwVGVtcCUwQWluc2VydCUyOCUyNyUyNyUyNyUwQSUyMCUyMCUyMCUyMHByaWtsYWRuaWNraTIwMTRhJTIwJTNEJTIwREIlMjhXb3JrVW5yZWxhdGVkJTI4JTBBJTIwJTIwJTIwJTIwJTIwJTIwJTIwJTIwMjAxNCUyQyUyMCUyMkRhdGElMjBjb2xsZWN0aW9uJTIwaW4lMjBnbG9iYWwlMjBzb2Z0d2FyZSUyMGVuZ2luZWVyaW5nJTIwcmVzZWFyY2glM0ElMjBsZWFybmluZyUyMGZyb20lMjBwYXN0JTIwZXhwZXJpZW5jZSUyMiUyQyUwQSUyMCUyMCUyMCUyMCUyMCUyMCUyMCUyMGRpc3BsYXklM0QlMjJwcmlrbGFkbmlja2klMjIlMkMlMEElMjAlMjAlMjAlMjAlMjAlMjAlMjAlMjBhdXRob3JzJTNEJTIyUHJpa2xhZG5pY2tpJTJDJTIwUmFmYWVsJTBBYW5kJTIwQm9kZW4lMkMlMjBBbGV4YW5kZXIlMEFhbmQlMjBBdnJhbSUyQyUyMEdhYnJpZWxhJTBBYW5kJTIwZGUlMjBTb3V6YSUyQyUyMENsZWlkc29uJTIwUi4lMjBCLiUwQWFuZCUyMFd1bGYlMkMlMjBWb2xrZXIlMjIlMkMlMEElMjAlMjAlMjAlMjAlMjAlMjAlMjAlMjBwbGFjZSUzREVTRSUyQyUwQSUyMCUyMCUyMCUyMCUyMCUyMCUyMCUyMHBwJTNEJTIyODIyLS04NTYlMjIlMkMlMEElMjAlMjAlMjAlMjAlMjAlMjAlMjAlMjBlbnRyeXR5cGUlM0QlMjJhcnRpY2xlJTIyJTJDJTBBJTIwJTIwJTIwJTIwJTIwJTIwJTIwJTIwbW9udGglM0QlMjJBdWclMjIlMkMlMEElMjAlMjAlMjAlMjAlMjAlMjAlMjAlMjBkYXklM0QlMjIwMSUyMiUyQyUwQSUyMCUyMCUyMCUyMCUyMCUyMCUyMCUyMHZvbHVtZSUzRCUyMjE5JTIyJTJDJTBBJTIwJTIwJTIwJTIwJTIwJTIwJTIwJTIwbnVtYmVyJTNEJTIyNCUyMiUyQyUwQSUyMCUyMCUyMCUyMCUyMCUyMCUyMCUyMGlzc24lM0QlMjIxNTczLTc2MTYlMjIlMkMlMEElMjAlMjAlMjAlMjAlMjAlMjAlMjAlMjBkb2klM0QlMjIxMC4xMDA3L3MxMDY2NC0wMTItOTI0MC14JTIyJTJDJTBBJTIwJTIwJTIwJTIwJTIwJTIwJTIwJTIwSUQlM0QlMjJQcmlrbGFkbmlja2kyMDE0JTIyJTJDJTBBJTIwJTIwJTIwJTIwJTIwJTIwJTIwJTIwc3ByaW5nZXIyMDE1JTNEJTIyMSUyMiUyQyUwQSUyMCUyMCUyMCUyMCUyMCUyMCUyMCUyMHBsYWNleCUzRCUyMkVtcGlyaWNhbCUyMFNvZnR3YXJlJTIwRW5naW5lZXJpbmclMjIlMkMlMEElMjAlMjAlMjAlMjAlMjklMjklMEElMjclMjclMjclMjklM0I=\")));\n",
       "    "
      ],
      "text/plain": [
       "<IPython.core.display.Javascript object>"
      ]
     },
     "metadata": {},
     "output_type": "display_data"
    },
    {
     "data": {
      "application/javascript": [
       "$('span:contains(\"# Temp\")').closest('.cell').remove();"
      ],
      "text/plain": [
       "<IPython.core.display.Javascript object>"
      ]
     },
     "metadata": {},
     "output_type": "display_data"
    },
    {
     "data": {
      "application/javascript": [
       "\n",
       "        $('span:contains(\"# Temp\")').closest('.cell').remove();\n",
       "        var code = IPython.notebook.insert_cell_below('code');\n",
       "        code.set_text(decodeURIComponent(window.atob(\"JTIzJTIwVGVtcCUwQWluc2VydCUyOCUyNyUyNyUyNyUwQSUyMCUyMCUyMCUyMHByaWtsYWRuaWNraTIwMTRhJTIwJTNEJTIwREIlMjhXb3JrVW5yZWxhdGVkJTI4JTBBJTIwJTIwJTIwJTIwJTIwJTIwJTIwJTIwMjAxNCUyQyUyMCUyMkRhdGElMjBjb2xsZWN0aW9uJTIwaW4lMjBnbG9iYWwlMjBzb2Z0d2FyZSUyMGVuZ2luZWVyaW5nJTIwcmVzZWFyY2glM0ElMjBsZWFybmluZyUyMGZyb20lMjBwYXN0JTIwZXhwZXJpZW5jZSUyMiUyQyUwQSUyMCUyMCUyMCUyMCUyMCUyMCUyMCUyMGRpc3BsYXklM0QlMjJwcmlrbGFkbmlja2klMjIlMkMlMEElMjAlMjAlMjAlMjAlMjAlMjAlMjAlMjBhdXRob3JzJTNEJTIyUHJpa2xhZG5pY2tpJTJDJTIwUmFmYWVsJTBBYW5kJTIwQm9kZW4lMkMlMjBBbGV4YW5kZXIlMEFhbmQlMjBBdnJhbSUyQyUyMEdhYnJpZWxhJTBBYW5kJTIwZGUlMjBTb3V6YSUyQyUyMENsZWlkc29uJTIwUi4lMjBCLiUwQWFuZCUyMFd1bGYlMkMlMjBWb2xrZXIlMjIlMkMlMEElMjAlMjAlMjAlMjAlMjAlMjAlMjAlMjBwbGFjZSUzREVTRSUyQyUwQSUyMCUyMCUyMCUyMCUyMCUyMCUyMCUyMHBwJTNEJTIyODIyLS04NTYlMjIlMkMlMEElMjAlMjAlMjAlMjAlMjAlMjAlMjAlMjBlbnRyeXR5cGUlM0QlMjJhcnRpY2xlJTIyJTJDJTBBJTIwJTIwJTIwJTIwJTIwJTIwJTIwJTIwbW9udGglM0QlMjJBdWclMjIlMkMlMEElMjAlMjAlMjAlMjAlMjAlMjAlMjAlMjBkYXklM0QlMjIwMSUyMiUyQyUwQSUyMCUyMCUyMCUyMCUyMCUyMCUyMCUyMHZvbHVtZSUzRCUyMjE5JTIyJTJDJTBBJTIwJTIwJTIwJTIwJTIwJTIwJTIwJTIwbnVtYmVyJTNEJTIyNCUyMiUyQyUwQSUyMCUyMCUyMCUyMCUyMCUyMCUyMCUyMGlzc24lM0QlMjIxNTczLTc2MTYlMjIlMkMlMEElMjAlMjAlMjAlMjAlMjAlMjAlMjAlMjBkb2klM0QlMjIxMC4xMDA3L3MxMDY2NC0wMTItOTI0MC14JTIyJTJDJTBBJTIwJTIwJTIwJTIwJTIwJTIwJTIwJTIwSUQlM0QlMjJQcmlrbGFkbmlja2kyMDE0JTIyJTJDJTBBJTIwJTIwJTIwJTIwJTIwJTIwJTIwJTIwc3ByaW5nZXIyMDE1JTNEJTIyMSUyMiUyQyUwQSUyMCUyMCUyMCUyMCUyMCUyMCUyMCUyMHBsYWNleCUzRCUyMkVtcGlyaWNhbCUyMFNvZnR3YXJlJTIwRW5naW5lZXJpbmclMjIlMkMlMEElMjAlMjAlMjAlMjAlMjklMjklMEElMjclMjclMjclMjklM0I=\")));\n",
       "    "
      ],
      "text/plain": [
       "<IPython.core.display.Javascript object>"
      ]
     },
     "metadata": {},
     "output_type": "display_data"
    },
    {
     "data": {
      "application/javascript": [
       "$('span:contains(\"# Temp\")').closest('.cell').remove();"
      ],
      "text/plain": [
       "<IPython.core.display.Javascript object>"
      ]
     },
     "metadata": {},
     "output_type": "display_data"
    },
    {
     "data": {
      "application/javascript": [
       "\n",
       "        $('span:contains(\"# Temp\")').closest('.cell').remove();\n",
       "        var code = IPython.notebook.insert_cell_below('code');\n",
       "        code.set_text(decodeURIComponent(window.atob(\"JTIzJTIwVGVtcCUwQWluc2VydCUyOCUyNyUyNyUyNyUwQSUyMCUyMCUyMCUyMGJvd2VzMjAxNGElMjAlM0QlMjBEQiUyOFdvcmtVbnJlbGF0ZWQlMjglMEElMjAlMjAlMjAlMjAlMjAlMjAlMjAlMjAyMDE0JTJDJTIwJTIyRENvbmZ1c2lvbiUzQSUyMGElMjB0ZWNobmlxdWUlMjB0byUyMGFsbG93JTIwY3Jvc3MlMjBzdHVkeSUyMHBlcmZvcm1hbmNlJTIwZXZhbHVhdGlvbiUyMG9mJTIwZmF1bHQlMjBwcmVkaWN0aW9uJTIwc3R1ZGllcyUyMiUyQyUwQSUyMCUyMCUyMCUyMCUyMCUyMCUyMCUyMGRpc3BsYXklM0QlMjJib3dlcyUyMiUyQyUwQSUyMCUyMCUyMCUyMCUyMCUyMCUyMCUyMGF1dGhvcnMlM0QlMjJCb3dlcyUyQyUyMERhdmlkJTBBYW5kJTIwSGFsbCUyQyUyMFRyYWN5JTBBYW5kJTIwR3JheSUyQyUyMERhdmlkJTIyJTJDJTBBJTIwJTIwJTIwJTIwJTIwJTIwJTIwJTIwcGxhY2UlM0RGQUtFJTJDJTBBJTIwJTIwJTIwJTIwJTIwJTIwJTIwJTIwcHAlM0QlMjIyODctLTMxMyUyMiUyQyUwQSUyMCUyMCUyMCUyMCUyMCUyMCUyMCUyMGVudHJ5dHlwZSUzRCUyMmFydGljbGUlMjIlMkMlMEElMjAlMjAlMjAlMjAlMjAlMjAlMjAlMjBtb250aCUzRCUyMkFwciUyMiUyQyUwQSUyMCUyMCUyMCUyMCUyMCUyMCUyMCUyMGRheSUzRCUyMjAxJTIyJTJDJTBBJTIwJTIwJTIwJTIwJTIwJTIwJTIwJTIwdm9sdW1lJTNEJTIyMjElMjIlMkMlMEElMjAlMjAlMjAlMjAlMjAlMjAlMjAlMjBudW1iZXIlM0QlMjIyJTIyJTJDJTBBJTIwJTIwJTIwJTIwJTIwJTIwJTIwJTIwaXNzbiUzRCUyMjE1NzMtNzUzNSUyMiUyQyUwQSUyMCUyMCUyMCUyMCUyMCUyMCUyMCUyMGRvaSUzRCUyMjEwLjEwMDcvczEwNTE1LTAxMy0wMTI5LTglMjIlMkMlMEElMjAlMjAlMjAlMjAlMjAlMjAlMjAlMjBJRCUzRCUyMkJvd2VzMjAxNCUyMiUyQyUwQSUyMCUyMCUyMCUyMCUyMCUyMCUyMCUyMHNwcmluZ2VyMjAxNSUzRCUyMjElMjIlMkMlMEElMjAlMjAlMjAlMjAlMjAlMjAlMjAlMjBwbGFjZXglM0QlMjJBdXRvbWF0ZWQlMjBTb2Z0d2FyZSUyMEVuZ2luZWVyaW5nJTIyJTJDJTBBJTIwJTIwJTIwJTIwJTI5JTI5JTBBJTI3JTI3JTI3JTI5JTNC\")));\n",
       "    "
      ],
      "text/plain": [
       "<IPython.core.display.Javascript object>"
      ]
     },
     "metadata": {},
     "output_type": "display_data"
    },
    {
     "data": {
      "application/javascript": [
       "$('span:contains(\"# Temp\")').closest('.cell').remove();"
      ],
      "text/plain": [
       "<IPython.core.display.Javascript object>"
      ]
     },
     "metadata": {},
     "output_type": "display_data"
    },
    {
     "data": {
      "application/javascript": [
       "\n",
       "        $('span:contains(\"# Temp\")').closest('.cell').remove();\n",
       "        var code = IPython.notebook.insert_cell_below('code');\n",
       "        code.set_text(decodeURIComponent(window.atob(\"JTIzJTIwVGVtcCUwQWluc2VydCUyOCUyNyUyNyUyNyUwQSUyMCUyMCUyMCUyMGJvd2VzMjAxNGElMjAlM0QlMjBEQiUyOFdvcmtVbnJlbGF0ZWQlMjglMEElMjAlMjAlMjAlMjAlMjAlMjAlMjAlMjAyMDE0JTJDJTIwJTIyRENvbmZ1c2lvbiUzQSUyMGElMjB0ZWNobmlxdWUlMjB0byUyMGFsbG93JTIwY3Jvc3MlMjBzdHVkeSUyMHBlcmZvcm1hbmNlJTIwZXZhbHVhdGlvbiUyMG9mJTIwZmF1bHQlMjBwcmVkaWN0aW9uJTIwc3R1ZGllcyUyMiUyQyUwQSUyMCUyMCUyMCUyMCUyMCUyMCUyMCUyMGRpc3BsYXklM0QlMjJib3dlcyUyMiUyQyUwQSUyMCUyMCUyMCUyMCUyMCUyMCUyMCUyMGF1dGhvcnMlM0QlMjJCb3dlcyUyQyUyMERhdmlkJTBBYW5kJTIwSGFsbCUyQyUyMFRyYWN5JTBBYW5kJTIwR3JheSUyQyUyMERhdmlkJTIyJTJDJTBBJTIwJTIwJTIwJTIwJTIwJTIwJTIwJTIwcGxhY2UlM0RGQUtFJTJDJTBBJTIwJTIwJTIwJTIwJTIwJTIwJTIwJTIwcHAlM0QlMjIyODctLTMxMyUyMiUyQyUwQSUyMCUyMCUyMCUyMCUyMCUyMCUyMCUyMGVudHJ5dHlwZSUzRCUyMmFydGljbGUlMjIlMkMlMEElMjAlMjAlMjAlMjAlMjAlMjAlMjAlMjBtb250aCUzRCUyMkFwciUyMiUyQyUwQSUyMCUyMCUyMCUyMCUyMCUyMCUyMCUyMGRheSUzRCUyMjAxJTIyJTJDJTBBJTIwJTIwJTIwJTIwJTIwJTIwJTIwJTIwdm9sdW1lJTNEJTIyMjElMjIlMkMlMEElMjAlMjAlMjAlMjAlMjAlMjAlMjAlMjBudW1iZXIlM0QlMjIyJTIyJTJDJTBBJTIwJTIwJTIwJTIwJTIwJTIwJTIwJTIwaXNzbiUzRCUyMjE1NzMtNzUzNSUyMiUyQyUwQSUyMCUyMCUyMCUyMCUyMCUyMCUyMCUyMGRvaSUzRCUyMjEwLjEwMDcvczEwNTE1LTAxMy0wMTI5LTglMjIlMkMlMEElMjAlMjAlMjAlMjAlMjAlMjAlMjAlMjBJRCUzRCUyMkJvd2VzMjAxNCUyMiUyQyUwQSUyMCUyMCUyMCUyMCUyMCUyMCUyMCUyMHNwcmluZ2VyMjAxNSUzRCUyMjElMjIlMkMlMEElMjAlMjAlMjAlMjAlMjAlMjAlMjAlMjBwbGFjZXglM0QlMjJBdXRvbWF0ZWQlMjBTb2Z0d2FyZSUyMEVuZ2luZWVyaW5nJTIyJTJDJTBBJTIwJTIwJTIwJTIwJTI5JTI5JTBBJTI3JTI3JTI3JTI5JTNC\")));\n",
       "    "
      ],
      "text/plain": [
       "<IPython.core.display.Javascript object>"
      ]
     },
     "metadata": {},
     "output_type": "display_data"
    },
    {
     "data": {
      "application/javascript": [
       "$('span:contains(\"# Temp\")').closest('.cell').remove();"
      ],
      "text/plain": [
       "<IPython.core.display.Javascript object>"
      ]
     },
     "metadata": {},
     "output_type": "display_data"
    },
    {
     "data": {
      "application/javascript": [
       "\n",
       "        $('span:contains(\"# Temp\")').closest('.cell').remove();\n",
       "        var code = IPython.notebook.insert_cell_below('code');\n",
       "        code.set_text(decodeURIComponent(window.atob(\"JTIzJTIwVGVtcCUwQWluc2VydCUyOCUyNyUyNyUyNyUwQSUyMCUyMCUyMCUyMG9zZWkyMDA4YSUyMCUzRCUyMERCJTI4V29ya1VucmVsYXRlZCUyOCUwQSUyMCUyMCUyMCUyMCUyMCUyMCUyMCUyMDIwMDglMkMlMjAlMjJEZWNpc2lvbiUyMG1vZGVscyUyMGZvciUyMGluZm9ybWF0aW9uJTIwc3lzdGVtcyUyMG1hbmFnZW1lbnQlMjIlMkMlMEElMjAlMjAlMjAlMjAlMjAlMjAlMjAlMjBkaXNwbGF5JTNEJTIyb3NlaSUyMiUyQyUwQSUyMCUyMCUyMCUyMCUyMCUyMCUyMCUyMGF1dGhvcnMlM0QlMjJPc2VpLUJyeXNvbiUyQyUyMEt3ZWt1LU11YXRhJTBBYW5kJTIwTmd3ZW55YW1hJTJDJTIwT2plbGFua2klMjIlMkMlMEElMjAlMjAlMjAlMjAlMjAlMjAlMjAlMjBwbGFjZSUzREZBS0UlMkMlMEElMjAlMjAlMjAlMjAlMjAlMjAlMjAlMjBwcCUzRCUyMjI3Ny0tMjc5JTIyJTJDJTBBJTIwJTIwJTIwJTIwJTIwJTIwJTIwJTIwZW50cnl0eXBlJTNEJTIyYXJ0aWNsZSUyMiUyQyUwQSUyMCUyMCUyMCUyMCUyMCUyMCUyMCUyMG1vbnRoJTNEJTIySnVsJTIyJTJDJTBBJTIwJTIwJTIwJTIwJTIwJTIwJTIwJTIwZGF5JTNEJTIyMDElMjIlMkMlMEElMjAlMjAlMjAlMjAlMjAlMjAlMjAlMjB2b2x1bWUlM0QlMjIxMCUyMiUyQyUwQSUyMCUyMCUyMCUyMCUyMCUyMCUyMCUyMG51bWJlciUzRCUyMjMlMjIlMkMlMEElMjAlMjAlMjAlMjAlMjAlMjAlMjAlMjBpc3NuJTNEJTIyMTU3Mi05NDE5JTIyJTJDJTBBJTIwJTIwJTIwJTIwJTIwJTIwJTIwJTIwZG9pJTNEJTIyMTAuMTAwNy9zMTA3OTYtMDA4LTkwODItNyUyMiUyQyUwQSUyMCUyMCUyMCUyMCUyMCUyMCUyMCUyMElEJTNEJTIyT3NlaS1Ccnlzb24yMDA4JTIyJTJDJTBBJTIwJTIwJTIwJTIwJTIwJTIwJTIwJTIwc3ByaW5nZXIyMDE1JTNEJTIyMSUyMiUyQyUwQSUyMCUyMCUyMCUyMCUyMCUyMCUyMCUyMHBsYWNleCUzRCUyMkluZm9ybWF0aW9uJTIwU3lzdGVtcyUyMEZyb250aWVycyUyMiUyQyUwQSUyMCUyMCUyMCUyMCUyOSUyOSUwQSUyNyUyNyUyNyUyOSUzQg==\")));\n",
       "    "
      ],
      "text/plain": [
       "<IPython.core.display.Javascript object>"
      ]
     },
     "metadata": {},
     "output_type": "display_data"
    },
    {
     "data": {
      "application/javascript": [
       "$('span:contains(\"# Temp\")').closest('.cell').remove();"
      ],
      "text/plain": [
       "<IPython.core.display.Javascript object>"
      ]
     },
     "metadata": {},
     "output_type": "display_data"
    },
    {
     "data": {
      "application/javascript": [
       "\n",
       "        $('span:contains(\"# Temp\")').closest('.cell').remove();\n",
       "        var code = IPython.notebook.insert_cell_below('code');\n",
       "        code.set_text(decodeURIComponent(window.atob(\"JTIzJTIwVGVtcCUwQWluc2VydCUyOCUyNyUyNyUyNyUwQSUyMCUyMCUyMCUyMG9zZWkyMDA4YSUyMCUzRCUyMERCJTI4V29ya1VucmVsYXRlZCUyOCUwQSUyMCUyMCUyMCUyMCUyMCUyMCUyMCUyMDIwMDglMkMlMjAlMjJEZWNpc2lvbiUyMG1vZGVscyUyMGZvciUyMGluZm9ybWF0aW9uJTIwc3lzdGVtcyUyMG1hbmFnZW1lbnQlMjIlMkMlMEElMjAlMjAlMjAlMjAlMjAlMjAlMjAlMjBkaXNwbGF5JTNEJTIyb3NlaSUyMiUyQyUwQSUyMCUyMCUyMCUyMCUyMCUyMCUyMCUyMGF1dGhvcnMlM0QlMjJPc2VpLUJyeXNvbiUyQyUyMEt3ZWt1LU11YXRhJTBBYW5kJTIwTmd3ZW55YW1hJTJDJTIwT2plbGFua2klMjIlMkMlMEElMjAlMjAlMjAlMjAlMjAlMjAlMjAlMjBwbGFjZSUzREZBS0UlMkMlMEElMjAlMjAlMjAlMjAlMjAlMjAlMjAlMjBwcCUzRCUyMjI3Ny0tMjc5JTIyJTJDJTBBJTIwJTIwJTIwJTIwJTIwJTIwJTIwJTIwZW50cnl0eXBlJTNEJTIyYXJ0aWNsZSUyMiUyQyUwQSUyMCUyMCUyMCUyMCUyMCUyMCUyMCUyMG1vbnRoJTNEJTIySnVsJTIyJTJDJTBBJTIwJTIwJTIwJTIwJTIwJTIwJTIwJTIwZGF5JTNEJTIyMDElMjIlMkMlMEElMjAlMjAlMjAlMjAlMjAlMjAlMjAlMjB2b2x1bWUlM0QlMjIxMCUyMiUyQyUwQSUyMCUyMCUyMCUyMCUyMCUyMCUyMCUyMG51bWJlciUzRCUyMjMlMjIlMkMlMEElMjAlMjAlMjAlMjAlMjAlMjAlMjAlMjBpc3NuJTNEJTIyMTU3Mi05NDE5JTIyJTJDJTBBJTIwJTIwJTIwJTIwJTIwJTIwJTIwJTIwZG9pJTNEJTIyMTAuMTAwNy9zMTA3OTYtMDA4LTkwODItNyUyMiUyQyUwQSUyMCUyMCUyMCUyMCUyMCUyMCUyMCUyMElEJTNEJTIyT3NlaS1Ccnlzb24yMDA4JTIyJTJDJTBBJTIwJTIwJTIwJTIwJTIwJTIwJTIwJTIwc3ByaW5nZXIyMDE1JTNEJTIyMSUyMiUyQyUwQSUyMCUyMCUyMCUyMCUyMCUyMCUyMCUyMHBsYWNleCUzRCUyMkluZm9ybWF0aW9uJTIwU3lzdGVtcyUyMEZyb250aWVycyUyMiUyQyUwQSUyMCUyMCUyMCUyMCUyOSUyOSUwQSUyNyUyNyUyNyUyOSUzQg==\")));\n",
       "    "
      ],
      "text/plain": [
       "<IPython.core.display.Javascript object>"
      ]
     },
     "metadata": {},
     "output_type": "display_data"
    },
    {
     "data": {
      "application/javascript": [
       "$('span:contains(\"# Temp\")').closest('.cell').remove();"
      ],
      "text/plain": [
       "<IPython.core.display.Javascript object>"
      ]
     },
     "metadata": {},
     "output_type": "display_data"
    },
    {
     "data": {
      "application/javascript": [
       "\n",
       "        $('span:contains(\"# Temp\")').closest('.cell').remove();\n",
       "        var code = IPython.notebook.insert_cell_below('code');\n",
       "        code.set_text(decodeURIComponent(window.atob(\"JTIzJTIwVGVtcCUwQWluc2VydCUyOCUyNyUyNyUyNyUwQSUyMCUyMCUyMCUyMGdpcmF1ZG8yMDAzYSUyMCUzRCUyMERCJTI4V29ya1VucmVsYXRlZCUyOCUwQSUyMCUyMCUyMCUyMCUyMCUyMCUyMCUyMDIwMDMlMkMlMjAlMjJEZXNpZ25pbmclMjBhbmQlMjBDb25kdWN0aW5nJTIwYW4lMjBFbXBpcmljYWwlMjBTdHVkeSUyMG9uJTIwVGVzdCUyME1hbmFnZW1lbnQlMjBBdXRvbWF0aW9uJTIyJTJDJTBBJTIwJTIwJTIwJTIwJTIwJTIwJTIwJTIwZGlzcGxheSUzRCUyMmdpcmF1ZG8lMjIlMkMlMEElMjAlMjAlMjAlMjAlMjAlMjAlMjAlMjBhdXRob3JzJTNEJTIyR2lyYXVkbyUyQyUyMEdyaXNlbGRhJTBBYW5kJTIwVG9uZWxsYSUyQyUyMFBhb2xvJTIyJTJDJTBBJTIwJTIwJTIwJTIwJTIwJTIwJTIwJTIwcGxhY2UlM0RFU0UlMkMlMEElMjAlMjAlMjAlMjAlMjAlMjAlMjAlMjBwcCUzRCUyMjU5LS04MSUyMiUyQyUwQSUyMCUyMCUyMCUyMCUyMCUyMCUyMCUyMGVudHJ5dHlwZSUzRCUyMmFydGljbGUlMjIlMkMlMEElMjAlMjAlMjAlMjAlMjAlMjAlMjAlMjBtb250aCUzRCUyMk1hciUyMiUyQyUwQSUyMCUyMCUyMCUyMCUyMCUyMCUyMCUyMGRheSUzRCUyMjAxJTIyJTJDJTBBJTIwJTIwJTIwJTIwJTIwJTIwJTIwJTIwdm9sdW1lJTNEJTIyOCUyMiUyQyUwQSUyMCUyMCUyMCUyMCUyMCUyMCUyMCUyMG51bWJlciUzRCUyMjElMjIlMkMlMEElMjAlMjAlMjAlMjAlMjAlMjAlMjAlMjBpc3NuJTNEJTIyMTU3My03NjE2JTIyJTJDJTBBJTIwJTIwJTIwJTIwJTIwJTIwJTIwJTIwZG9pJTNEJTIyMTAuMTAyMy9BJTNBMTAyMTcyMDkxNjEyNyUyMiUyQyUwQSUyMCUyMCUyMCUyMCUyMCUyMCUyMCUyMElEJTNEJTIyR2lyYXVkbzIwMDMlMjIlMkMlMEElMjAlMjAlMjAlMjAlMjAlMjAlMjAlMjBzcHJpbmdlcjIwMTUlM0QlMjIxJTIyJTJDJTBBJTIwJTIwJTIwJTIwJTIwJTIwJTIwJTIwcGxhY2V4JTNEJTIyRW1waXJpY2FsJTIwU29mdHdhcmUlMjBFbmdpbmVlcmluZyUyMiUyQyUwQSUyMCUyMCUyMCUyMCUyOSUyOSUwQSUyNyUyNyUyNyUyOSUzQg==\")));\n",
       "    "
      ],
      "text/plain": [
       "<IPython.core.display.Javascript object>"
      ]
     },
     "metadata": {},
     "output_type": "display_data"
    },
    {
     "data": {
      "application/javascript": [
       "$('span:contains(\"# Temp\")').closest('.cell').remove();"
      ],
      "text/plain": [
       "<IPython.core.display.Javascript object>"
      ]
     },
     "metadata": {},
     "output_type": "display_data"
    },
    {
     "data": {
      "application/javascript": [
       "\n",
       "        $('span:contains(\"# Temp\")').closest('.cell').remove();\n",
       "        var code = IPython.notebook.insert_cell_below('code');\n",
       "        code.set_text(decodeURIComponent(window.atob(\"JTIzJTIwVGVtcCUwQWluc2VydCUyOCUyNyUyNyUyNyUwQSUyMCUyMCUyMCUyMGdpcmF1ZG8yMDAzYSUyMCUzRCUyMERCJTI4V29ya1VucmVsYXRlZCUyOCUwQSUyMCUyMCUyMCUyMCUyMCUyMCUyMCUyMDIwMDMlMkMlMjAlMjJEZXNpZ25pbmclMjBhbmQlMjBDb25kdWN0aW5nJTIwYW4lMjBFbXBpcmljYWwlMjBTdHVkeSUyMG9uJTIwVGVzdCUyME1hbmFnZW1lbnQlMjBBdXRvbWF0aW9uJTIyJTJDJTBBJTIwJTIwJTIwJTIwJTIwJTIwJTIwJTIwZGlzcGxheSUzRCUyMmdpcmF1ZG8lMjIlMkMlMEElMjAlMjAlMjAlMjAlMjAlMjAlMjAlMjBhdXRob3JzJTNEJTIyR2lyYXVkbyUyQyUyMEdyaXNlbGRhJTBBYW5kJTIwVG9uZWxsYSUyQyUyMFBhb2xvJTIyJTJDJTBBJTIwJTIwJTIwJTIwJTIwJTIwJTIwJTIwcGxhY2UlM0RFU0UlMkMlMEElMjAlMjAlMjAlMjAlMjAlMjAlMjAlMjBwcCUzRCUyMjU5LS04MSUyMiUyQyUwQSUyMCUyMCUyMCUyMCUyMCUyMCUyMCUyMGVudHJ5dHlwZSUzRCUyMmFydGljbGUlMjIlMkMlMEElMjAlMjAlMjAlMjAlMjAlMjAlMjAlMjBtb250aCUzRCUyMk1hciUyMiUyQyUwQSUyMCUyMCUyMCUyMCUyMCUyMCUyMCUyMGRheSUzRCUyMjAxJTIyJTJDJTBBJTIwJTIwJTIwJTIwJTIwJTIwJTIwJTIwdm9sdW1lJTNEJTIyOCUyMiUyQyUwQSUyMCUyMCUyMCUyMCUyMCUyMCUyMCUyMG51bWJlciUzRCUyMjElMjIlMkMlMEElMjAlMjAlMjAlMjAlMjAlMjAlMjAlMjBpc3NuJTNEJTIyMTU3My03NjE2JTIyJTJDJTBBJTIwJTIwJTIwJTIwJTIwJTIwJTIwJTIwZG9pJTNEJTIyMTAuMTAyMy9BJTNBMTAyMTcyMDkxNjEyNyUyMiUyQyUwQSUyMCUyMCUyMCUyMCUyMCUyMCUyMCUyMElEJTNEJTIyR2lyYXVkbzIwMDMlMjIlMkMlMEElMjAlMjAlMjAlMjAlMjAlMjAlMjAlMjBzcHJpbmdlcjIwMTUlM0QlMjIxJTIyJTJDJTBBJTIwJTIwJTIwJTIwJTIwJTIwJTIwJTIwcGxhY2V4JTNEJTIyRW1waXJpY2FsJTIwU29mdHdhcmUlMjBFbmdpbmVlcmluZyUyMiUyQyUwQSUyMCUyMCUyMCUyMCUyOSUyOSUwQSUyNyUyNyUyNyUyOSUzQg==\")));\n",
       "    "
      ],
      "text/plain": [
       "<IPython.core.display.Javascript object>"
      ]
     },
     "metadata": {},
     "output_type": "display_data"
    },
    {
     "data": {
      "application/javascript": [
       "$('span:contains(\"# Temp\")').closest('.cell').remove();"
      ],
      "text/plain": [
       "<IPython.core.display.Javascript object>"
      ]
     },
     "metadata": {},
     "output_type": "display_data"
    },
    {
     "data": {
      "application/javascript": [
       "\n",
       "        $('span:contains(\"# Temp\")').closest('.cell').remove();\n",
       "        var code = IPython.notebook.insert_cell_below('code');\n",
       "        code.set_text(decodeURIComponent(window.atob(\"JTIzJTIwVGVtcCUwQWluc2VydCUyOCUyNyUyNyUyNyUwQSUyMCUyMCUyMCUyMGhvZGEyMDEyYSUyMCUzRCUyMERCJTI4V29ya1VucmVsYXRlZCUyOCUwQSUyMCUyMCUyMCUyMCUyMCUyMCUyMCUyMDIwMTIlMkMlMjAlMjJEZXZlbG9waW5nJTIwYSUyMGdyb3VuZGVkJTIwdGhlb3J5JTIwdG8lMjBleHBsYWluJTIwdGhlJTIwcHJhY3RpY2VzJTIwb2YlMjBzZWxmLW9yZ2FuaXppbmclMjBBZ2lsZSUyMHRlYW1zJTIyJTJDJTBBJTIwJTIwJTIwJTIwJTIwJTIwJTIwJTIwZGlzcGxheSUzRCUyMmhvZGElMjIlMkMlMEElMjAlMjAlMjAlMjAlMjAlMjAlMjAlMjBhdXRob3JzJTNEJTIySG9kYSUyQyUyMFJhc2hpbmElMEFhbmQlMjBOb2JsZSUyQyUyMEphbWVzJTBBYW5kJTIwTWFyc2hhbGwlMkMlMjBTdHVhcnQlMjIlMkMlMEElMjAlMjAlMjAlMjAlMjAlMjAlMjAlMjBwbGFjZSUzREVTRSUyQyUwQSUyMCUyMCUyMCUyMCUyMCUyMCUyMCUyMHBwJTNEJTIyNjA5LS02MzklMjIlMkMlMEElMjAlMjAlMjAlMjAlMjAlMjAlMjAlMjBlbnRyeXR5cGUlM0QlMjJhcnRpY2xlJTIyJTJDJTBBJTIwJTIwJTIwJTIwJTIwJTIwJTIwJTIwbW9udGglM0QlMjJEZWMlMjIlMkMlMEElMjAlMjAlMjAlMjAlMjAlMjAlMjAlMjBkYXklM0QlMjIwMSUyMiUyQyUwQSUyMCUyMCUyMCUyMCUyMCUyMCUyMCUyMHZvbHVtZSUzRCUyMjE3JTIyJTJDJTBBJTIwJTIwJTIwJTIwJTIwJTIwJTIwJTIwbnVtYmVyJTNEJTIyNiUyMiUyQyUwQSUyMCUyMCUyMCUyMCUyMCUyMCUyMCUyMGlzc24lM0QlMjIxNTczLTc2MTYlMjIlMkMlMEElMjAlMjAlMjAlMjAlMjAlMjAlMjAlMjBkb2klM0QlMjIxMC4xMDA3L3MxMDY2NC0wMTEtOTE2MS0wJTIyJTJDJTBBJTIwJTIwJTIwJTIwJTIwJTIwJTIwJTIwSUQlM0QlMjJIb2RhMjAxMiUyMiUyQyUwQSUyMCUyMCUyMCUyMCUyMCUyMCUyMCUyMHNwcmluZ2VyMjAxNSUzRCUyMjElMjIlMkMlMEElMjAlMjAlMjAlMjAlMjAlMjAlMjAlMjBwbGFjZXglM0QlMjJFbXBpcmljYWwlMjBTb2Z0d2FyZSUyMEVuZ2luZWVyaW5nJTIyJTJDJTBBJTIwJTIwJTIwJTIwJTI5JTI5JTBBJTI3JTI3JTI3JTI5JTNC\")));\n",
       "    "
      ],
      "text/plain": [
       "<IPython.core.display.Javascript object>"
      ]
     },
     "metadata": {},
     "output_type": "display_data"
    },
    {
     "data": {
      "application/javascript": [
       "$('span:contains(\"# Temp\")').closest('.cell').remove();"
      ],
      "text/plain": [
       "<IPython.core.display.Javascript object>"
      ]
     },
     "metadata": {},
     "output_type": "display_data"
    },
    {
     "data": {
      "application/javascript": [
       "\n",
       "        $('span:contains(\"# Temp\")').closest('.cell').remove();\n",
       "        var code = IPython.notebook.insert_cell_below('code');\n",
       "        code.set_text(decodeURIComponent(window.atob(\"JTIzJTIwVGVtcCUwQWluc2VydCUyOCUyNyUyNyUyNyUwQSUyMCUyMCUyMCUyMGhvZGEyMDEyYSUyMCUzRCUyMERCJTI4V29ya1VucmVsYXRlZCUyOCUwQSUyMCUyMCUyMCUyMCUyMCUyMCUyMCUyMDIwMTIlMkMlMjAlMjJEZXZlbG9waW5nJTIwYSUyMGdyb3VuZGVkJTIwdGhlb3J5JTIwdG8lMjBleHBsYWluJTIwdGhlJTIwcHJhY3RpY2VzJTIwb2YlMjBzZWxmLW9yZ2FuaXppbmclMjBBZ2lsZSUyMHRlYW1zJTIyJTJDJTBBJTIwJTIwJTIwJTIwJTIwJTIwJTIwJTIwZGlzcGxheSUzRCUyMmhvZGElMjIlMkMlMEElMjAlMjAlMjAlMjAlMjAlMjAlMjAlMjBhdXRob3JzJTNEJTIySG9kYSUyQyUyMFJhc2hpbmElMEFhbmQlMjBOb2JsZSUyQyUyMEphbWVzJTBBYW5kJTIwTWFyc2hhbGwlMkMlMjBTdHVhcnQlMjIlMkMlMEElMjAlMjAlMjAlMjAlMjAlMjAlMjAlMjBwbGFjZSUzREVTRSUyQyUwQSUyMCUyMCUyMCUyMCUyMCUyMCUyMCUyMHBwJTNEJTIyNjA5LS02MzklMjIlMkMlMEElMjAlMjAlMjAlMjAlMjAlMjAlMjAlMjBlbnRyeXR5cGUlM0QlMjJhcnRpY2xlJTIyJTJDJTBBJTIwJTIwJTIwJTIwJTIwJTIwJTIwJTIwbW9udGglM0QlMjJEZWMlMjIlMkMlMEElMjAlMjAlMjAlMjAlMjAlMjAlMjAlMjBkYXklM0QlMjIwMSUyMiUyQyUwQSUyMCUyMCUyMCUyMCUyMCUyMCUyMCUyMHZvbHVtZSUzRCUyMjE3JTIyJTJDJTBBJTIwJTIwJTIwJTIwJTIwJTIwJTIwJTIwbnVtYmVyJTNEJTIyNiUyMiUyQyUwQSUyMCUyMCUyMCUyMCUyMCUyMCUyMCUyMGlzc24lM0QlMjIxNTczLTc2MTYlMjIlMkMlMEElMjAlMjAlMjAlMjAlMjAlMjAlMjAlMjBkb2klM0QlMjIxMC4xMDA3L3MxMDY2NC0wMTEtOTE2MS0wJTIyJTJDJTBBJTIwJTIwJTIwJTIwJTIwJTIwJTIwJTIwSUQlM0QlMjJIb2RhMjAxMiUyMiUyQyUwQSUyMCUyMCUyMCUyMCUyMCUyMCUyMCUyMHNwcmluZ2VyMjAxNSUzRCUyMjElMjIlMkMlMEElMjAlMjAlMjAlMjAlMjAlMjAlMjAlMjBwbGFjZXglM0QlMjJFbXBpcmljYWwlMjBTb2Z0d2FyZSUyMEVuZ2luZWVyaW5nJTIyJTJDJTBBJTIwJTIwJTIwJTIwJTI5JTI5JTBBJTI3JTI3JTI3JTI5JTNC\")));\n",
       "    "
      ],
      "text/plain": [
       "<IPython.core.display.Javascript object>"
      ]
     },
     "metadata": {},
     "output_type": "display_data"
    },
    {
     "data": {
      "application/javascript": [
       "$('span:contains(\"# Temp\")').closest('.cell').remove();"
      ],
      "text/plain": [
       "<IPython.core.display.Javascript object>"
      ]
     },
     "metadata": {},
     "output_type": "display_data"
    },
    {
     "data": {
      "application/javascript": [
       "\n",
       "        $('span:contains(\"# Temp\")').closest('.cell').remove();\n",
       "        var code = IPython.notebook.insert_cell_below('code');\n",
       "        code.set_text(decodeURIComponent(window.atob(\"JTIzJTIwVGVtcCUwQWluc2VydCUyOCUyNyUyNyUyNyUwQSUyMCUyMCUyMCUyMGViZXJ0MjAwMmElMjAlM0QlMjBEQiUyOFdvcmtVbnJlbGF0ZWQlMjglMEElMjAlMjAlMjAlMjAlMjAlMjAlMjAlMjAyMDAyJTJDJTIwJTIyZS1SJTI2RCUyMC0tJTIwRWZmZWN0aXZlbHklMjBNYW5hZ2luZyUyMFByb2Nlc3MlMjBEaXZlcnNpdHklMjIlMkMlMEElMjAlMjAlMjAlMjAlMjAlMjAlMjAlMjBkaXNwbGF5JTNEJTIyZWJlcnQlMjIlMkMlMEElMjAlMjAlMjAlMjAlMjAlMjAlMjAlMjBhdXRob3JzJTNEJTIyRWJlcnQlMkMlMjBDaHJpc3RvZiUwQWFuZCUyMERlJTIwTWFuJTJDJTIwSm96ZWYlMjIlMkMlMEElMjAlMjAlMjAlMjAlMjAlMjAlMjAlMjBwbGFjZSUzREZBS0UlMkMlMEElMjAlMjAlMjAlMjAlMjAlMjAlMjAlMjBwcCUzRCUyMjczLS05MSUyMiUyQyUwQSUyMCUyMCUyMCUyMCUyMCUyMCUyMCUyMGVudHJ5dHlwZSUzRCUyMmFydGljbGUlMjIlMkMlMEElMjAlMjAlMjAlMjAlMjAlMjAlMjAlMjBtb250aCUzRCUyMkRlYyUyMiUyQyUwQSUyMCUyMCUyMCUyMCUyMCUyMCUyMCUyMGRheSUzRCUyMjAxJTIyJTJDJTBBJTIwJTIwJTIwJTIwJTIwJTIwJTIwJTIwdm9sdW1lJTNEJTIyMTQlMjIlMkMlMEElMjAlMjAlMjAlMjAlMjAlMjAlMjAlMjBudW1iZXIlM0QlMjIxJTIyJTJDJTBBJTIwJTIwJTIwJTIwJTIwJTIwJTIwJTIwaXNzbiUzRCUyMjE1NzMtNzQ4OSUyMiUyQyUwQSUyMCUyMCUyMCUyMCUyMCUyMCUyMCUyMGRvaSUzRCUyMjEwLjEwMjMvQSUzQTEwMjA1NDU0MDY1MDklMjIlMkMlMEElMjAlMjAlMjAlMjAlMjAlMjAlMjAlMjBJRCUzRCUyMkViZXJ0MjAwMiUyMiUyQyUwQSUyMCUyMCUyMCUyMCUyMCUyMCUyMCUyMHNwcmluZ2VyMjAxNSUzRCUyMjElMjIlMkMlMEElMjAlMjAlMjAlMjAlMjAlMjAlMjAlMjBwbGFjZXglM0QlMjJBbm5hbHMlMjBvZiUyMFNvZnR3YXJlJTIwRW5naW5lZXJpbmclMjIlMkMlMEElMjAlMjAlMjAlMjAlMjklMjklMEElMjclMjclMjclMjklM0I=\")));\n",
       "    "
      ],
      "text/plain": [
       "<IPython.core.display.Javascript object>"
      ]
     },
     "metadata": {},
     "output_type": "display_data"
    },
    {
     "data": {
      "application/javascript": [
       "$('span:contains(\"# Temp\")').closest('.cell').remove();"
      ],
      "text/plain": [
       "<IPython.core.display.Javascript object>"
      ]
     },
     "metadata": {},
     "output_type": "display_data"
    },
    {
     "data": {
      "application/javascript": [
       "\n",
       "        $('span:contains(\"# Temp\")').closest('.cell').remove();\n",
       "        var code = IPython.notebook.insert_cell_below('code');\n",
       "        code.set_text(decodeURIComponent(window.atob(\"JTIzJTIwVGVtcCUwQWluc2VydCUyOCUyNyUyNyUyNyUwQSUyMCUyMCUyMCUyMGViZXJ0MjAwMmElMjAlM0QlMjBEQiUyOFdvcmtVbnJlbGF0ZWQlMjglMEElMjAlMjAlMjAlMjAlMjAlMjAlMjAlMjAyMDAyJTJDJTIwJTIyZS1SJTI2RCUyMC0tJTIwRWZmZWN0aXZlbHklMjBNYW5hZ2luZyUyMFByb2Nlc3MlMjBEaXZlcnNpdHklMjIlMkMlMEElMjAlMjAlMjAlMjAlMjAlMjAlMjAlMjBkaXNwbGF5JTNEJTIyZWJlcnQlMjIlMkMlMEElMjAlMjAlMjAlMjAlMjAlMjAlMjAlMjBhdXRob3JzJTNEJTIyRWJlcnQlMkMlMjBDaHJpc3RvZiUwQWFuZCUyMERlJTIwTWFuJTJDJTIwSm96ZWYlMjIlMkMlMEElMjAlMjAlMjAlMjAlMjAlMjAlMjAlMjBwbGFjZSUzREZBS0UlMkMlMEElMjAlMjAlMjAlMjAlMjAlMjAlMjAlMjBwcCUzRCUyMjczLS05MSUyMiUyQyUwQSUyMCUyMCUyMCUyMCUyMCUyMCUyMCUyMGVudHJ5dHlwZSUzRCUyMmFydGljbGUlMjIlMkMlMEElMjAlMjAlMjAlMjAlMjAlMjAlMjAlMjBtb250aCUzRCUyMkRlYyUyMiUyQyUwQSUyMCUyMCUyMCUyMCUyMCUyMCUyMCUyMGRheSUzRCUyMjAxJTIyJTJDJTBBJTIwJTIwJTIwJTIwJTIwJTIwJTIwJTIwdm9sdW1lJTNEJTIyMTQlMjIlMkMlMEElMjAlMjAlMjAlMjAlMjAlMjAlMjAlMjBudW1iZXIlM0QlMjIxJTIyJTJDJTBBJTIwJTIwJTIwJTIwJTIwJTIwJTIwJTIwaXNzbiUzRCUyMjE1NzMtNzQ4OSUyMiUyQyUwQSUyMCUyMCUyMCUyMCUyMCUyMCUyMCUyMGRvaSUzRCUyMjEwLjEwMjMvQSUzQTEwMjA1NDU0MDY1MDklMjIlMkMlMEElMjAlMjAlMjAlMjAlMjAlMjAlMjAlMjBJRCUzRCUyMkViZXJ0MjAwMiUyMiUyQyUwQSUyMCUyMCUyMCUyMCUyMCUyMCUyMCUyMHNwcmluZ2VyMjAxNSUzRCUyMjElMjIlMkMlMEElMjAlMjAlMjAlMjAlMjAlMjAlMjAlMjBwbGFjZXglM0QlMjJBbm5hbHMlMjBvZiUyMFNvZnR3YXJlJTIwRW5naW5lZXJpbmclMjIlMkMlMEElMjAlMjAlMjAlMjAlMjklMjklMEElMjclMjclMjclMjklM0I=\")));\n",
       "    "
      ],
      "text/plain": [
       "<IPython.core.display.Javascript object>"
      ]
     },
     "metadata": {},
     "output_type": "display_data"
    },
    {
     "data": {
      "application/javascript": [
       "$('span:contains(\"# Temp\")').closest('.cell').remove();"
      ],
      "text/plain": [
       "<IPython.core.display.Javascript object>"
      ]
     },
     "metadata": {},
     "output_type": "display_data"
    },
    {
     "data": {
      "application/javascript": [
       "\n",
       "        $('span:contains(\"# Temp\")').closest('.cell').remove();\n",
       "        var code = IPython.notebook.insert_cell_below('code');\n",
       "        code.set_text(decodeURIComponent(window.atob(\"JTIzJTIwVGVtcCUwQWluc2VydCUyOCUyNyUyNyUyNyUwQSUyMCUyMCUyMCUyMDIwMTBhJTIwJTNEJTIwREIlMjhXb3JrVW5yZWxhdGVkJTI4JTBBJTIwJTIwJTIwJTIwJTIwJTIwJTIwJTIwMjAxMCUyQyUyMCUyMkVtcGlyaWNhbCUyMGV2aWRlbmNlJTIwaW4lMjBnbG9iYWwlMjBzb2Z0d2FyZSUyMGVuZ2luZWVyaW5nJTNBJTIwYSUyMHN5c3RlbWF0aWMlMjByZXZpZXclMjIlMkMlMEElMjAlMjAlMjAlMjAlMjAlMjAlMjAlMjBkaXNwbGF5JTNEJTIyJTIyJTJDJTBBJTIwJTIwJTIwJTIwJTIwJTIwJTIwJTIwYXV0aG9ycyUzRCUyMiU3QiVDNSVBMCU3RG1pdGUlMkMlMjBEYXJqYSUwQWFuZCUyMFdvaGxpbiUyQyUyMENsYWVzJTBBYW5kJTIwR29yc2NoZWslMkMlMjBUb255JTBBYW5kJTIwRmVsZHQlMkMlMjBSb2JlcnQlMjIlMkMlMEElMjAlMjAlMjAlMjAlMjAlMjAlMjAlMjBwbGFjZSUzREVTRSUyQyUwQSUyMCUyMCUyMCUyMCUyMCUyMCUyMCUyMHBwJTNEJTIyOTEtLTExOCUyMiUyQyUwQSUyMCUyMCUyMCUyMCUyMCUyMCUyMCUyMGVudHJ5dHlwZSUzRCUyMmFydGljbGUlMjIlMkMlMEElMjAlMjAlMjAlMjAlMjAlMjAlMjAlMjBtb250aCUzRCUyMkZlYiUyMiUyQyUwQSUyMCUyMCUyMCUyMCUyMCUyMCUyMCUyMGRheSUzRCUyMjAxJTIyJTJDJTBBJTIwJTIwJTIwJTIwJTIwJTIwJTIwJTIwdm9sdW1lJTNEJTIyMTUlMjIlMkMlMEElMjAlMjAlMjAlMjAlMjAlMjAlMjAlMjBudW1iZXIlM0QlMjIxJTIyJTJDJTBBJTIwJTIwJTIwJTIwJTIwJTIwJTIwJTIwaXNzbiUzRCUyMjE1NzMtNzYxNiUyMiUyQyUwQSUyMCUyMCUyMCUyMCUyMCUyMCUyMCUyMGRvaSUzRCUyMjEwLjEwMDcvczEwNjY0LTAwOS05MTIzLXklMjIlMkMlMEElMjAlMjAlMjAlMjAlMjAlMjAlMjAlMjBJRCUzRCUyMiVDNSVBMG1pdGUyMDEwJTIyJTJDJTBBJTIwJTIwJTIwJTIwJTIwJTIwJTIwJTIwc3ByaW5nZXIyMDE1JTNEJTIyMSUyMiUyQyUwQSUyMCUyMCUyMCUyMCUyMCUyMCUyMCUyMHBsYWNleCUzRCUyMkVtcGlyaWNhbCUyMFNvZnR3YXJlJTIwRW5naW5lZXJpbmclMjIlMkMlMEElMjAlMjAlMjAlMjAlMjklMjklMEElMjclMjclMjclMjklM0I=\")));\n",
       "    "
      ],
      "text/plain": [
       "<IPython.core.display.Javascript object>"
      ]
     },
     "metadata": {},
     "output_type": "display_data"
    },
    {
     "data": {
      "application/javascript": [
       "$('span:contains(\"# Temp\")').closest('.cell').remove();"
      ],
      "text/plain": [
       "<IPython.core.display.Javascript object>"
      ]
     },
     "metadata": {},
     "output_type": "display_data"
    },
    {
     "data": {
      "application/javascript": [
       "\n",
       "        $('span:contains(\"# Temp\")').closest('.cell').remove();\n",
       "        var code = IPython.notebook.insert_cell_below('code');\n",
       "        code.set_text(decodeURIComponent(window.atob(\"JTIzJTIwVGVtcCUwQWluc2VydCUyOCUyNyUyNyUyNyUwQSUyMCUyMCUyMCUyMDIwMTBhJTIwJTNEJTIwREIlMjhXb3JrVW5yZWxhdGVkJTI4JTBBJTIwJTIwJTIwJTIwJTIwJTIwJTIwJTIwMjAxMCUyQyUyMCUyMkVtcGlyaWNhbCUyMGV2aWRlbmNlJTIwaW4lMjBnbG9iYWwlMjBzb2Z0d2FyZSUyMGVuZ2luZWVyaW5nJTNBJTIwYSUyMHN5c3RlbWF0aWMlMjByZXZpZXclMjIlMkMlMEElMjAlMjAlMjAlMjAlMjAlMjAlMjAlMjBkaXNwbGF5JTNEJTIyJTIyJTJDJTBBJTIwJTIwJTIwJTIwJTIwJTIwJTIwJTIwYXV0aG9ycyUzRCUyMiU3QiVDNSVBMCU3RG1pdGUlMkMlMjBEYXJqYSUwQWFuZCUyMFdvaGxpbiUyQyUyMENsYWVzJTBBYW5kJTIwR29yc2NoZWslMkMlMjBUb255JTBBYW5kJTIwRmVsZHQlMkMlMjBSb2JlcnQlMjIlMkMlMEElMjAlMjAlMjAlMjAlMjAlMjAlMjAlMjBwbGFjZSUzREVTRSUyQyUwQSUyMCUyMCUyMCUyMCUyMCUyMCUyMCUyMHBwJTNEJTIyOTEtLTExOCUyMiUyQyUwQSUyMCUyMCUyMCUyMCUyMCUyMCUyMCUyMGVudHJ5dHlwZSUzRCUyMmFydGljbGUlMjIlMkMlMEElMjAlMjAlMjAlMjAlMjAlMjAlMjAlMjBtb250aCUzRCUyMkZlYiUyMiUyQyUwQSUyMCUyMCUyMCUyMCUyMCUyMCUyMCUyMGRheSUzRCUyMjAxJTIyJTJDJTBBJTIwJTIwJTIwJTIwJTIwJTIwJTIwJTIwdm9sdW1lJTNEJTIyMTUlMjIlMkMlMEElMjAlMjAlMjAlMjAlMjAlMjAlMjAlMjBudW1iZXIlM0QlMjIxJTIyJTJDJTBBJTIwJTIwJTIwJTIwJTIwJTIwJTIwJTIwaXNzbiUzRCUyMjE1NzMtNzYxNiUyMiUyQyUwQSUyMCUyMCUyMCUyMCUyMCUyMCUyMCUyMGRvaSUzRCUyMjEwLjEwMDcvczEwNjY0LTAwOS05MTIzLXklMjIlMkMlMEElMjAlMjAlMjAlMjAlMjAlMjAlMjAlMjBJRCUzRCUyMiVDNSVBMG1pdGUyMDEwJTIyJTJDJTBBJTIwJTIwJTIwJTIwJTIwJTIwJTIwJTIwc3ByaW5nZXIyMDE1JTNEJTIyMSUyMiUyQyUwQSUyMCUyMCUyMCUyMCUyMCUyMCUyMCUyMHBsYWNleCUzRCUyMkVtcGlyaWNhbCUyMFNvZnR3YXJlJTIwRW5naW5lZXJpbmclMjIlMkMlMEElMjAlMjAlMjAlMjAlMjklMjklMEElMjclMjclMjclMjklM0I=\")));\n",
       "    "
      ],
      "text/plain": [
       "<IPython.core.display.Javascript object>"
      ]
     },
     "metadata": {},
     "output_type": "display_data"
    },
    {
     "data": {
      "application/javascript": [
       "$('span:contains(\"# Temp\")').closest('.cell').remove();"
      ],
      "text/plain": [
       "<IPython.core.display.Javascript object>"
      ]
     },
     "metadata": {},
     "output_type": "display_data"
    },
    {
     "data": {
      "application/javascript": [
       "\n",
       "        $('span:contains(\"# Temp\")').closest('.cell').remove();\n",
       "        var code = IPython.notebook.insert_cell_below('code');\n",
       "        code.set_text(decodeURIComponent(window.atob(\"JTIzJTIwVGVtcCUwQWluc2VydCUyOCUyNyUyNyUyNyUwQSUyMCUyMCUyMCUyMHNpYWthczIwMDJhJTIwJTNEJTIwREIlMjhXb3JrVW5yZWxhdGVkJTI4JTBBJTIwJTIwJTIwJTIwJTIwJTIwJTIwJTIwMjAwMiUyQyUyMCUyMkVtcGlyaWNhbCUyME1lYXN1cmVtZW50JTIwb2YlMjB0aGUlMjBFZmZlY3RzJTIwb2YlMjBDdWx0dXJhbCUyMERpdmVyc2l0eSUyMG9uJTIwU29mdHdhcmUlMjBRdWFsaXR5JTIwTWFuYWdlbWVudCUyMiUyQyUwQSUyMCUyMCUyMCUyMCUyMCUyMCUyMCUyMGRpc3BsYXklM0QlMjJzaWFrYXMlMjIlMkMlMEElMjAlMjAlMjAlMjAlMjAlMjAlMjAlMjBhdXRob3JzJTNEJTIyU2lha2FzJTJDJTIwS2Vyc3RpbiUyMFYuJTBBYW5kJTIwR2VvcmdpYWRvdSUyQyUyMEVsbGklMjIlMkMlMEElMjAlMjAlMjAlMjAlMjAlMjAlMjAlMjBwbGFjZSUzRFNRSiUyQyUwQSUyMCUyMCUyMCUyMCUyMCUyMCUyMCUyMHBwJTNEJTIyMTY5LS0xODAlMjIlMkMlMEElMjAlMjAlMjAlMjAlMjAlMjAlMjAlMjBlbnRyeXR5cGUlM0QlMjJhcnRpY2xlJTIyJTJDJTBBJTIwJTIwJTIwJTIwJTIwJTIwJTIwJTIwbW9udGglM0QlMjJTZXAlMjIlMkMlMEElMjAlMjAlMjAlMjAlMjAlMjAlMjAlMjBkYXklM0QlMjIwMSUyMiUyQyUwQSUyMCUyMCUyMCUyMCUyMCUyMCUyMCUyMHZvbHVtZSUzRCUyMjEwJTIyJTJDJTBBJTIwJTIwJTIwJTIwJTIwJTIwJTIwJTIwbnVtYmVyJTNEJTIyMiUyMiUyQyUwQSUyMCUyMCUyMCUyMCUyMCUyMCUyMCUyMGlzc24lM0QlMjIxNTczLTEzNjclMjIlMkMlMEElMjAlMjAlMjAlMjAlMjAlMjAlMjAlMjBkb2klM0QlMjIxMC4xMDIzL0ElM0ExMDIwNTI4MDI0NjI0JTIyJTJDJTBBJTIwJTIwJTIwJTIwJTIwJTIwJTIwJTIwSUQlM0QlMjJTaWFrYXMyMDAyJTIyJTJDJTBBJTIwJTIwJTIwJTIwJTIwJTIwJTIwJTIwc3ByaW5nZXIyMDE1JTNEJTIyMSUyMiUyQyUwQSUyMCUyMCUyMCUyMCUyMCUyMCUyMCUyMHBsYWNleCUzRCUyMlNvZnR3YXJlJTIwUXVhbGl0eSUyMEpvdXJuYWwlMjIlMkMlMEElMjAlMjAlMjAlMjAlMjklMjklMEElMjclMjclMjclMjklM0I=\")));\n",
       "    "
      ],
      "text/plain": [
       "<IPython.core.display.Javascript object>"
      ]
     },
     "metadata": {},
     "output_type": "display_data"
    },
    {
     "data": {
      "application/javascript": [
       "$('span:contains(\"# Temp\")').closest('.cell').remove();"
      ],
      "text/plain": [
       "<IPython.core.display.Javascript object>"
      ]
     },
     "metadata": {},
     "output_type": "display_data"
    },
    {
     "data": {
      "application/javascript": [
       "\n",
       "        $('span:contains(\"# Temp\")').closest('.cell').remove();\n",
       "        var code = IPython.notebook.insert_cell_below('code');\n",
       "        code.set_text(decodeURIComponent(window.atob(\"JTIzJTIwVGVtcCUwQWluc2VydCUyOCUyNyUyNyUyNyUwQSUyMCUyMCUyMCUyMHNpYWthczIwMDJhJTIwJTNEJTIwREIlMjhXb3JrVW5yZWxhdGVkJTI4JTBBJTIwJTIwJTIwJTIwJTIwJTIwJTIwJTIwMjAwMiUyQyUyMCUyMkVtcGlyaWNhbCUyME1lYXN1cmVtZW50JTIwb2YlMjB0aGUlMjBFZmZlY3RzJTIwb2YlMjBDdWx0dXJhbCUyMERpdmVyc2l0eSUyMG9uJTIwU29mdHdhcmUlMjBRdWFsaXR5JTIwTWFuYWdlbWVudCUyMiUyQyUwQSUyMCUyMCUyMCUyMCUyMCUyMCUyMCUyMGRpc3BsYXklM0QlMjJzaWFrYXMlMjIlMkMlMEElMjAlMjAlMjAlMjAlMjAlMjAlMjAlMjBhdXRob3JzJTNEJTIyU2lha2FzJTJDJTIwS2Vyc3RpbiUyMFYuJTBBYW5kJTIwR2VvcmdpYWRvdSUyQyUyMEVsbGklMjIlMkMlMEElMjAlMjAlMjAlMjAlMjAlMjAlMjAlMjBwbGFjZSUzRFNRSiUyQyUwQSUyMCUyMCUyMCUyMCUyMCUyMCUyMCUyMHBwJTNEJTIyMTY5LS0xODAlMjIlMkMlMEElMjAlMjAlMjAlMjAlMjAlMjAlMjAlMjBlbnRyeXR5cGUlM0QlMjJhcnRpY2xlJTIyJTJDJTBBJTIwJTIwJTIwJTIwJTIwJTIwJTIwJTIwbW9udGglM0QlMjJTZXAlMjIlMkMlMEElMjAlMjAlMjAlMjAlMjAlMjAlMjAlMjBkYXklM0QlMjIwMSUyMiUyQyUwQSUyMCUyMCUyMCUyMCUyMCUyMCUyMCUyMHZvbHVtZSUzRCUyMjEwJTIyJTJDJTBBJTIwJTIwJTIwJTIwJTIwJTIwJTIwJTIwbnVtYmVyJTNEJTIyMiUyMiUyQyUwQSUyMCUyMCUyMCUyMCUyMCUyMCUyMCUyMGlzc24lM0QlMjIxNTczLTEzNjclMjIlMkMlMEElMjAlMjAlMjAlMjAlMjAlMjAlMjAlMjBkb2klM0QlMjIxMC4xMDIzL0ElM0ExMDIwNTI4MDI0NjI0JTIyJTJDJTBBJTIwJTIwJTIwJTIwJTIwJTIwJTIwJTIwSUQlM0QlMjJTaWFrYXMyMDAyJTIyJTJDJTBBJTIwJTIwJTIwJTIwJTIwJTIwJTIwJTIwc3ByaW5nZXIyMDE1JTNEJTIyMSUyMiUyQyUwQSUyMCUyMCUyMCUyMCUyMCUyMCUyMCUyMHBsYWNleCUzRCUyMlNvZnR3YXJlJTIwUXVhbGl0eSUyMEpvdXJuYWwlMjIlMkMlMEElMjAlMjAlMjAlMjAlMjklMjklMEElMjclMjclMjclMjklM0I=\")));\n",
       "    "
      ],
      "text/plain": [
       "<IPython.core.display.Javascript object>"
      ]
     },
     "metadata": {},
     "output_type": "display_data"
    },
    {
     "data": {
      "application/javascript": [
       "$('span:contains(\"# Temp\")').closest('.cell').remove();"
      ],
      "text/plain": [
       "<IPython.core.display.Javascript object>"
      ]
     },
     "metadata": {},
     "output_type": "display_data"
    },
    {
     "data": {
      "application/javascript": [
       "\n",
       "        $('span:contains(\"# Temp\")').closest('.cell').remove();\n",
       "        var code = IPython.notebook.insert_cell_below('code');\n",
       "        code.set_text(decodeURIComponent(window.atob(\"JTIzJTIwVGVtcCUwQWluc2VydCUyOCUyNyUyNyUyNyUwQSUyMCUyMCUyMCUyMHJhZmZvMTk5OWIlMjAlM0QlMjBEQiUyOFdvcmtVbnJlbGF0ZWQlMjglMEElMjAlMjAlMjAlMjAlMjAlMjAlMjAlMjAxOTk5JTJDJTIwJTIyRW1waXJpY2FsJTIwU3R1ZGllcyUyMEFwcGxpZWQlMjB0byUyMFNvZnR3YXJlJTIwUHJvY2VzcyUyME1vZGVscyUyMiUyQyUwQSUyMCUyMCUyMCUyMCUyMCUyMCUyMCUyMGRpc3BsYXklM0QlMjJyYWZmbyUyMGIlMjIlMkMlMEElMjAlMjAlMjAlMjAlMjAlMjAlMjAlMjBhdXRob3JzJTNEJTIyUmFmZm8lMkMlMjBEYXZpZCUwQWFuZCUyMEthbHRpbyUyQyUyMFRpbW8lMEFhbmQlMjBQYXJ0cmlkZ2UlMkMlMjBEZXJlayUwQWFuZCUyMFBoYWxwJTJDJTIwS2VpdGglMEFhbmQlMjBSYW1pbCUyQyUyMEp1YW4lMjBGLiUyMiUyQyUwQSUyMCUyMCUyMCUyMCUyMCUyMCUyMCUyMHBsYWNlJTNERVNFJTJDJTBBJTIwJTIwJTIwJTIwJTIwJTIwJTIwJTIwcHAlM0QlMjIzNTMtLTM2OSUyMiUyQyUwQSUyMCUyMCUyMCUyMCUyMCUyMCUyMCUyMGVudHJ5dHlwZSUzRCUyMmFydGljbGUlMjIlMkMlMEElMjAlMjAlMjAlMjAlMjAlMjAlMjAlMjBtb250aCUzRCUyMkRlYyUyMiUyQyUwQSUyMCUyMCUyMCUyMCUyMCUyMCUyMCUyMGRheSUzRCUyMjAxJTIyJTJDJTBBJTIwJTIwJTIwJTIwJTIwJTIwJTIwJTIwdm9sdW1lJTNEJTIyNCUyMiUyQyUwQSUyMCUyMCUyMCUyMCUyMCUyMCUyMCUyMG51bWJlciUzRCUyMjQlMjIlMkMlMEElMjAlMjAlMjAlMjAlMjAlMjAlMjAlMjBpc3NuJTNEJTIyMTU3My03NjE2JTIyJTJDJTBBJTIwJTIwJTIwJTIwJTIwJTIwJTIwJTIwZG9pJTNEJTIyMTAuMTAyMy9BJTNBMTAwOTgxNzcyMTI1MiUyMiUyQyUwQSUyMCUyMCUyMCUyMCUyMCUyMCUyMCUyMElEJTNEJTIyUmFmZm8xOTk5JTIyJTJDJTBBJTIwJTIwJTIwJTIwJTIwJTIwJTIwJTIwc3ByaW5nZXIyMDE1JTNEJTIyMSUyMiUyQyUwQSUyMCUyMCUyMCUyMCUyMCUyMCUyMCUyMHBsYWNleCUzRCUyMkVtcGlyaWNhbCUyMFNvZnR3YXJlJTIwRW5naW5lZXJpbmclMjIlMkMlMEElMjAlMjAlMjAlMjAlMjklMjklMEElMjclMjclMjclMjklM0I=\")));\n",
       "    "
      ],
      "text/plain": [
       "<IPython.core.display.Javascript object>"
      ]
     },
     "metadata": {},
     "output_type": "display_data"
    },
    {
     "data": {
      "application/javascript": [
       "$('span:contains(\"# Temp\")').closest('.cell').remove();"
      ],
      "text/plain": [
       "<IPython.core.display.Javascript object>"
      ]
     },
     "metadata": {},
     "output_type": "display_data"
    },
    {
     "data": {
      "application/javascript": [
       "\n",
       "        $('span:contains(\"# Temp\")').closest('.cell').remove();\n",
       "        var code = IPython.notebook.insert_cell_below('code');\n",
       "        code.set_text(decodeURIComponent(window.atob(\"JTIzJTIwVGVtcCUwQWluc2VydCUyOCUyNyUyNyUyNyUwQSUyMCUyMCUyMCUyMHJhZmZvMTk5OWIlMjAlM0QlMjBEQiUyOFdvcmtVbnJlbGF0ZWQlMjglMEElMjAlMjAlMjAlMjAlMjAlMjAlMjAlMjAxOTk5JTJDJTIwJTIyRW1waXJpY2FsJTIwU3R1ZGllcyUyMEFwcGxpZWQlMjB0byUyMFNvZnR3YXJlJTIwUHJvY2VzcyUyME1vZGVscyUyMiUyQyUwQSUyMCUyMCUyMCUyMCUyMCUyMCUyMCUyMGRpc3BsYXklM0QlMjJyYWZmbyUyMGIlMjIlMkMlMEElMjAlMjAlMjAlMjAlMjAlMjAlMjAlMjBhdXRob3JzJTNEJTIyUmFmZm8lMkMlMjBEYXZpZCUwQWFuZCUyMEthbHRpbyUyQyUyMFRpbW8lMEFhbmQlMjBQYXJ0cmlkZ2UlMkMlMjBEZXJlayUwQWFuZCUyMFBoYWxwJTJDJTIwS2VpdGglMEFhbmQlMjBSYW1pbCUyQyUyMEp1YW4lMjBGLiUyMiUyQyUwQSUyMCUyMCUyMCUyMCUyMCUyMCUyMCUyMHBsYWNlJTNERVNFJTJDJTBBJTIwJTIwJTIwJTIwJTIwJTIwJTIwJTIwcHAlM0QlMjIzNTMtLTM2OSUyMiUyQyUwQSUyMCUyMCUyMCUyMCUyMCUyMCUyMCUyMGVudHJ5dHlwZSUzRCUyMmFydGljbGUlMjIlMkMlMEElMjAlMjAlMjAlMjAlMjAlMjAlMjAlMjBtb250aCUzRCUyMkRlYyUyMiUyQyUwQSUyMCUyMCUyMCUyMCUyMCUyMCUyMCUyMGRheSUzRCUyMjAxJTIyJTJDJTBBJTIwJTIwJTIwJTIwJTIwJTIwJTIwJTIwdm9sdW1lJTNEJTIyNCUyMiUyQyUwQSUyMCUyMCUyMCUyMCUyMCUyMCUyMCUyMG51bWJlciUzRCUyMjQlMjIlMkMlMEElMjAlMjAlMjAlMjAlMjAlMjAlMjAlMjBpc3NuJTNEJTIyMTU3My03NjE2JTIyJTJDJTBBJTIwJTIwJTIwJTIwJTIwJTIwJTIwJTIwZG9pJTNEJTIyMTAuMTAyMy9BJTNBMTAwOTgxNzcyMTI1MiUyMiUyQyUwQSUyMCUyMCUyMCUyMCUyMCUyMCUyMCUyMElEJTNEJTIyUmFmZm8xOTk5JTIyJTJDJTBBJTIwJTIwJTIwJTIwJTIwJTIwJTIwJTIwc3ByaW5nZXIyMDE1JTNEJTIyMSUyMiUyQyUwQSUyMCUyMCUyMCUyMCUyMCUyMCUyMCUyMHBsYWNleCUzRCUyMkVtcGlyaWNhbCUyMFNvZnR3YXJlJTIwRW5naW5lZXJpbmclMjIlMkMlMEElMjAlMjAlMjAlMjAlMjklMjklMEElMjclMjclMjclMjklM0I=\")));\n",
       "    "
      ],
      "text/plain": [
       "<IPython.core.display.Javascript object>"
      ]
     },
     "metadata": {},
     "output_type": "display_data"
    },
    {
     "data": {
      "application/javascript": [
       "$('span:contains(\"# Temp\")').closest('.cell').remove();"
      ],
      "text/plain": [
       "<IPython.core.display.Javascript object>"
      ]
     },
     "metadata": {},
     "output_type": "display_data"
    },
    {
     "data": {
      "application/javascript": [
       "\n",
       "        $('span:contains(\"# Temp\")').closest('.cell').remove();\n",
       "        var code = IPython.notebook.insert_cell_below('code');\n",
       "        code.set_text(decodeURIComponent(window.atob(\"JTIzJTIwVGVtcCUwQWluc2VydCUyOCUyNyUyNyUyNyUwQSUyMCUyMCUyMCUyMGdob2xhbWkyMDE0YSUyMCUzRCUyMERCJTI4V29ya1VucmVsYXRlZCUyOCUwQSUyMCUyMCUyMCUyMCUyMCUyMCUyMCUyMDIwMTQlMkMlMjAlMjJFbmhhbmNpbmclMjB0aGUlMjBPUEVOJTIwUHJvY2VzcyUyMEZyYW1ld29yayUyMHdpdGglMjBzZXJ2aWNlLW9yaWVudGVkJTIwbWV0aG9kJTIwZnJhZ21lbnRzJTIyJTJDJTBBJTIwJTIwJTIwJTIwJTIwJTIwJTIwJTIwZGlzcGxheSUzRCUyMmdob2xhbWklMjIlMkMlMEElMjAlMjAlMjAlMjAlMjAlMjAlMjAlMjBhdXRob3JzJTNEJTIyR2hvbGFtaSUyQyUyME1haGRpJTIwRmFobWlkZWglMEFhbmQlMjBTaGFyaWZpJTJDJTIwTW9oc2VuJTBBYW5kJTIwSmFtc2hpZGklMkMlMjBQb295YW4lMjIlMkMlMEElMjAlMjAlMjAlMjAlMjAlMjAlMjAlMjBwbGFjZSUzREZBS0UlMkMlMEElMjAlMjAlMjAlMjAlMjAlMjAlMjAlMjBwcCUzRCUyMjM2MS0tMzkwJTIyJTJDJTBBJTIwJTIwJTIwJTIwJTIwJTIwJTIwJTIwZW50cnl0eXBlJTNEJTIyYXJ0aWNsZSUyMiUyQyUwQSUyMCUyMCUyMCUyMCUyMCUyMCUyMCUyMG1vbnRoJTNEJTIyRmViJTIyJTJDJTBBJTIwJTIwJTIwJTIwJTIwJTIwJTIwJTIwZGF5JTNEJTIyMDElMjIlMkMlMEElMjAlMjAlMjAlMjAlMjAlMjAlMjAlMjB2b2x1bWUlM0QlMjIxMyUyMiUyQyUwQSUyMCUyMCUyMCUyMCUyMCUyMCUyMCUyMG51bWJlciUzRCUyMjElMjIlMkMlMEElMjAlMjAlMjAlMjAlMjAlMjAlMjAlMjBpc3NuJTNEJTIyMTYxOS0xMzc0JTIyJTJDJTBBJTIwJTIwJTIwJTIwJTIwJTIwJTIwJTIwZG9pJTNEJTIyMTAuMTAwNy9zMTAyNzAtMDExLTAyMjIteiUyMiUyQyUwQSUyMCUyMCUyMCUyMCUyMCUyMCUyMCUyMElEJTNEJTIyR2hvbGFtaTIwMTQlMjIlMkMlMEElMjAlMjAlMjAlMjAlMjAlMjAlMjAlMjBzcHJpbmdlcjIwMTUlM0QlMjIxJTIyJTJDJTBBJTIwJTIwJTIwJTIwJTIwJTIwJTIwJTIwcGxhY2V4JTNEJTIyU29mdHdhcmUlMjAlN0IlMjYlN0QlMjBTeXN0ZW1zJTIwTW9kZWxpbmclMjIlMkMlMEElMjAlMjAlMjAlMjAlMjklMjklMEElMjclMjclMjclMjklM0I=\")));\n",
       "    "
      ],
      "text/plain": [
       "<IPython.core.display.Javascript object>"
      ]
     },
     "metadata": {},
     "output_type": "display_data"
    },
    {
     "data": {
      "application/javascript": [
       "$('span:contains(\"# Temp\")').closest('.cell').remove();"
      ],
      "text/plain": [
       "<IPython.core.display.Javascript object>"
      ]
     },
     "metadata": {},
     "output_type": "display_data"
    },
    {
     "data": {
      "application/javascript": [
       "\n",
       "        $('span:contains(\"# Temp\")').closest('.cell').remove();\n",
       "        var code = IPython.notebook.insert_cell_below('code');\n",
       "        code.set_text(decodeURIComponent(window.atob(\"JTIzJTIwVGVtcCUwQWluc2VydCUyOCUyNyUyNyUyNyUwQSUyMCUyMCUyMCUyMGdob2xhbWkyMDE0YSUyMCUzRCUyMERCJTI4V29ya1VucmVsYXRlZCUyOCUwQSUyMCUyMCUyMCUyMCUyMCUyMCUyMCUyMDIwMTQlMkMlMjAlMjJFbmhhbmNpbmclMjB0aGUlMjBPUEVOJTIwUHJvY2VzcyUyMEZyYW1ld29yayUyMHdpdGglMjBzZXJ2aWNlLW9yaWVudGVkJTIwbWV0aG9kJTIwZnJhZ21lbnRzJTIyJTJDJTBBJTIwJTIwJTIwJTIwJTIwJTIwJTIwJTIwZGlzcGxheSUzRCUyMmdob2xhbWklMjIlMkMlMEElMjAlMjAlMjAlMjAlMjAlMjAlMjAlMjBhdXRob3JzJTNEJTIyR2hvbGFtaSUyQyUyME1haGRpJTIwRmFobWlkZWglMEFhbmQlMjBTaGFyaWZpJTJDJTIwTW9oc2VuJTBBYW5kJTIwSmFtc2hpZGklMkMlMjBQb295YW4lMjIlMkMlMEElMjAlMjAlMjAlMjAlMjAlMjAlMjAlMjBwbGFjZSUzREZBS0UlMkMlMEElMjAlMjAlMjAlMjAlMjAlMjAlMjAlMjBwcCUzRCUyMjM2MS0tMzkwJTIyJTJDJTBBJTIwJTIwJTIwJTIwJTIwJTIwJTIwJTIwZW50cnl0eXBlJTNEJTIyYXJ0aWNsZSUyMiUyQyUwQSUyMCUyMCUyMCUyMCUyMCUyMCUyMCUyMG1vbnRoJTNEJTIyRmViJTIyJTJDJTBBJTIwJTIwJTIwJTIwJTIwJTIwJTIwJTIwZGF5JTNEJTIyMDElMjIlMkMlMEElMjAlMjAlMjAlMjAlMjAlMjAlMjAlMjB2b2x1bWUlM0QlMjIxMyUyMiUyQyUwQSUyMCUyMCUyMCUyMCUyMCUyMCUyMCUyMG51bWJlciUzRCUyMjElMjIlMkMlMEElMjAlMjAlMjAlMjAlMjAlMjAlMjAlMjBpc3NuJTNEJTIyMTYxOS0xMzc0JTIyJTJDJTBBJTIwJTIwJTIwJTIwJTIwJTIwJTIwJTIwZG9pJTNEJTIyMTAuMTAwNy9zMTAyNzAtMDExLTAyMjIteiUyMiUyQyUwQSUyMCUyMCUyMCUyMCUyMCUyMCUyMCUyMElEJTNEJTIyR2hvbGFtaTIwMTQlMjIlMkMlMEElMjAlMjAlMjAlMjAlMjAlMjAlMjAlMjBzcHJpbmdlcjIwMTUlM0QlMjIxJTIyJTJDJTBBJTIwJTIwJTIwJTIwJTIwJTIwJTIwJTIwcGxhY2V4JTNEJTIyU29mdHdhcmUlMjAlN0IlMjYlN0QlMjBTeXN0ZW1zJTIwTW9kZWxpbmclMjIlMkMlMEElMjAlMjAlMjAlMjAlMjklMjklMEElMjclMjclMjclMjklM0I=\")));\n",
       "    "
      ],
      "text/plain": [
       "<IPython.core.display.Javascript object>"
      ]
     },
     "metadata": {},
     "output_type": "display_data"
    },
    {
     "data": {
      "application/javascript": [
       "$('span:contains(\"# Temp\")').closest('.cell').remove();"
      ],
      "text/plain": [
       "<IPython.core.display.Javascript object>"
      ]
     },
     "metadata": {},
     "output_type": "display_data"
    },
    {
     "data": {
      "application/javascript": [
       "\n",
       "        $('span:contains(\"# Temp\")').closest('.cell').remove();\n",
       "        var code = IPython.notebook.insert_cell_below('code');\n",
       "        code.set_text(decodeURIComponent(window.atob(\"JTIzJTIwVGVtcCUwQWluc2VydCUyOCUyNyUyNyUyNyUwQSUyMCUyMCUyMCUyMHdpbGxpYW1zMjAxNGElMjAlM0QlMjBEQiUyOFdvcmtVbnJlbGF0ZWQlMjglMEElMjAlMjAlMjAlMjAlMjAlMjAlMjAlMjAyMDE0JTJDJTIwJTIyRXhhbWluYXRpb24lMjBvZiUyMHRoZSUyMHNvZnR3YXJlJTIwYXJjaGl0ZWN0dXJlJTIwY2hhbmdlJTIwY2hhcmFjdGVyaXphdGlvbiUyMHNjaGVtZSUyMHVzaW5nJTIwdGhyZWUlMjBlbXBpcmljYWwlMjBzdHVkaWVzJTIyJTJDJTBBJTIwJTIwJTIwJTIwJTIwJTIwJTIwJTIwZGlzcGxheSUzRCUyMndpbGxpYW1zJTIyJTJDJTBBJTIwJTIwJTIwJTIwJTIwJTIwJTIwJTIwYXV0aG9ycyUzRCUyMldpbGxpYW1zJTJDJTIwQnlyb24lMjBKLiUwQWFuZCUyMENhcnZlciUyQyUyMEplZmZyZXklMjBDLiUyMiUyQyUwQSUyMCUyMCUyMCUyMCUyMCUyMCUyMCUyMHBsYWNlJTNERVNFJTJDJTBBJTIwJTIwJTIwJTIwJTIwJTIwJTIwJTIwcHAlM0QlMjI0MTktLTQ2NCUyMiUyQyUwQSUyMCUyMCUyMCUyMCUyMCUyMCUyMCUyMGVudHJ5dHlwZSUzRCUyMmFydGljbGUlMjIlMkMlMEElMjAlMjAlMjAlMjAlMjAlMjAlMjAlMjBtb250aCUzRCUyMkp1biUyMiUyQyUwQSUyMCUyMCUyMCUyMCUyMCUyMCUyMCUyMGRheSUzRCUyMjAxJTIyJTJDJTBBJTIwJTIwJTIwJTIwJTIwJTIwJTIwJTIwdm9sdW1lJTNEJTIyMTklMjIlMkMlMEElMjAlMjAlMjAlMjAlMjAlMjAlMjAlMjBudW1iZXIlM0QlMjIzJTIyJTJDJTBBJTIwJTIwJTIwJTIwJTIwJTIwJTIwJTIwaXNzbiUzRCUyMjE1NzMtNzYxNiUyMiUyQyUwQSUyMCUyMCUyMCUyMCUyMCUyMCUyMCUyMGRvaSUzRCUyMjEwLjEwMDcvczEwNjY0LTAxMi05MjIzLXklMjIlMkMlMEElMjAlMjAlMjAlMjAlMjAlMjAlMjAlMjBJRCUzRCUyMldpbGxpYW1zMjAxNCUyMiUyQyUwQSUyMCUyMCUyMCUyMCUyMCUyMCUyMCUyMHNwcmluZ2VyMjAxNSUzRCUyMjElMjIlMkMlMEElMjAlMjAlMjAlMjAlMjAlMjAlMjAlMjBwbGFjZXglM0QlMjJFbXBpcmljYWwlMjBTb2Z0d2FyZSUyMEVuZ2luZWVyaW5nJTIyJTJDJTBBJTIwJTIwJTIwJTIwJTI5JTI5JTBBJTI3JTI3JTI3JTI5JTNC\")));\n",
       "    "
      ],
      "text/plain": [
       "<IPython.core.display.Javascript object>"
      ]
     },
     "metadata": {},
     "output_type": "display_data"
    },
    {
     "data": {
      "application/javascript": [
       "$('span:contains(\"# Temp\")').closest('.cell').remove();"
      ],
      "text/plain": [
       "<IPython.core.display.Javascript object>"
      ]
     },
     "metadata": {},
     "output_type": "display_data"
    },
    {
     "data": {
      "application/javascript": [
       "\n",
       "        $('span:contains(\"# Temp\")').closest('.cell').remove();\n",
       "        var code = IPython.notebook.insert_cell_below('code');\n",
       "        code.set_text(decodeURIComponent(window.atob(\"JTIzJTIwVGVtcCUwQWluc2VydCUyOCUyNyUyNyUyNyUwQSUyMCUyMCUyMCUyMHdpbGxpYW1zMjAxNGElMjAlM0QlMjBEQiUyOFdvcmtVbnJlbGF0ZWQlMjglMEElMjAlMjAlMjAlMjAlMjAlMjAlMjAlMjAyMDE0JTJDJTIwJTIyRXhhbWluYXRpb24lMjBvZiUyMHRoZSUyMHNvZnR3YXJlJTIwYXJjaGl0ZWN0dXJlJTIwY2hhbmdlJTIwY2hhcmFjdGVyaXphdGlvbiUyMHNjaGVtZSUyMHVzaW5nJTIwdGhyZWUlMjBlbXBpcmljYWwlMjBzdHVkaWVzJTIyJTJDJTBBJTIwJTIwJTIwJTIwJTIwJTIwJTIwJTIwZGlzcGxheSUzRCUyMndpbGxpYW1zJTIyJTJDJTBBJTIwJTIwJTIwJTIwJTIwJTIwJTIwJTIwYXV0aG9ycyUzRCUyMldpbGxpYW1zJTJDJTIwQnlyb24lMjBKLiUwQWFuZCUyMENhcnZlciUyQyUyMEplZmZyZXklMjBDLiUyMiUyQyUwQSUyMCUyMCUyMCUyMCUyMCUyMCUyMCUyMHBsYWNlJTNERVNFJTJDJTBBJTIwJTIwJTIwJTIwJTIwJTIwJTIwJTIwcHAlM0QlMjI0MTktLTQ2NCUyMiUyQyUwQSUyMCUyMCUyMCUyMCUyMCUyMCUyMCUyMGVudHJ5dHlwZSUzRCUyMmFydGljbGUlMjIlMkMlMEElMjAlMjAlMjAlMjAlMjAlMjAlMjAlMjBtb250aCUzRCUyMkp1biUyMiUyQyUwQSUyMCUyMCUyMCUyMCUyMCUyMCUyMCUyMGRheSUzRCUyMjAxJTIyJTJDJTBBJTIwJTIwJTIwJTIwJTIwJTIwJTIwJTIwdm9sdW1lJTNEJTIyMTklMjIlMkMlMEElMjAlMjAlMjAlMjAlMjAlMjAlMjAlMjBudW1iZXIlM0QlMjIzJTIyJTJDJTBBJTIwJTIwJTIwJTIwJTIwJTIwJTIwJTIwaXNzbiUzRCUyMjE1NzMtNzYxNiUyMiUyQyUwQSUyMCUyMCUyMCUyMCUyMCUyMCUyMCUyMGRvaSUzRCUyMjEwLjEwMDcvczEwNjY0LTAxMi05MjIzLXklMjIlMkMlMEElMjAlMjAlMjAlMjAlMjAlMjAlMjAlMjBJRCUzRCUyMldpbGxpYW1zMjAxNCUyMiUyQyUwQSUyMCUyMCUyMCUyMCUyMCUyMCUyMCUyMHNwcmluZ2VyMjAxNSUzRCUyMjElMjIlMkMlMEElMjAlMjAlMjAlMjAlMjAlMjAlMjAlMjBwbGFjZXglM0QlMjJFbXBpcmljYWwlMjBTb2Z0d2FyZSUyMEVuZ2luZWVyaW5nJTIyJTJDJTBBJTIwJTIwJTIwJTIwJTI5JTI5JTBBJTI3JTI3JTI3JTI5JTNC\")));\n",
       "    "
      ],
      "text/plain": [
       "<IPython.core.display.Javascript object>"
      ]
     },
     "metadata": {},
     "output_type": "display_data"
    },
    {
     "data": {
      "application/javascript": [
       "$('span:contains(\"# Temp\")').closest('.cell').remove();"
      ],
      "text/plain": [
       "<IPython.core.display.Javascript object>"
      ]
     },
     "metadata": {},
     "output_type": "display_data"
    },
    {
     "data": {
      "application/javascript": [
       "\n",
       "        $('span:contains(\"# Temp\")').closest('.cell').remove();\n",
       "        var code = IPython.notebook.insert_cell_below('code');\n",
       "        code.set_text(decodeURIComponent(window.atob(\"JTIzJTIwVGVtcCUwQWluc2VydCUyOCUyNyUyNyUyNyUwQSUyMCUyMCUyMCUyMGxpbmR2YWxsMjAwN2ElMjAlM0QlMjBEQiUyOFdvcmtVbnJlbGF0ZWQlMjglMEElMjAlMjAlMjAlMjAlMjAlMjAlMjAlMjAyMDA3JTJDJTIwJTIyRXhwZXJpbWVudGluZyUyMHdpdGglMjBzb2Z0d2FyZSUyMHRlc3RiZWRzJTIwZm9yJTIwZXZhbHVhdGluZyUyMG5ldyUyMHRlY2hub2xvZ2llcyUyMiUyQyUwQSUyMCUyMCUyMCUyMCUyMCUyMCUyMCUyMGRpc3BsYXklM0QlMjJsaW5kdmFsbCUyMiUyQyUwQSUyMCUyMCUyMCUyMCUyMCUyMCUyMCUyMGF1dGhvcnMlM0QlMjJMaW5kdmFsbCUyQyUyME1pa2FlbCUyMGFuZCUyMFJ1cyUyQyUyMElvYW5hJTIwYW5kJTIwRG9uemVsbGklMkMlMjBQYW9sbyUyMGFuZCUyME1lbW9uJTJDJTIwQXRpZiUwQWFuZCUyMFplbGtvd2l0eiUyQyUyME1hcnZpbiUyMGFuZCUyMEJldGluLUNhbiUyQyUyMEF5c3UlMjBhbmQlMjBCdWx0YW4lMkMlMjBUZXZmaWslMjBhbmQlMjBBY2tlcm1hbm4lMkMlMjBDaHJpcyUyMGFuZCUyMEFuZGVycyUyQyUyMEJldHRpbmElMjBhbmQlMjBBc2dhcmklMkMlMjBTaW1hJTIwYW5kJTIwQmFzaWxpJTJDJTIwVmljdG9yJTBBYW5kJTIwSG9jaHN0ZWluJTJDJTIwTG9yaW4lMjBhbmQlMjBGZWxsbWFubiUyQyUyMEolQzMlQjZyZyUyMGFuZCUyMFNodWxsJTJDJTIwRm9ycmVzdCUwQWFuZCUyMFR2ZWR0JTJDJTIwUm9zZWFubmUlMjBhbmQlMjBQZWNoJTJDJTIwRGFuaWVsJTIwYW5kJTIwSGlyc2NoYmFjaCUyQyUyMERhbmllbCUyMiUyQyUwQSUyMCUyMCUyMCUyMCUyMCUyMCUyMCUyMHBsYWNlJTNERVNFJTJDJTBBJTIwJTIwJTIwJTIwJTIwJTIwJTIwJTIwcHAlM0QlMjI0MTctLTQ0NCUyMiUyQyUwQSUyMCUyMCUyMCUyMCUyMCUyMCUyMCUyMGVudHJ5dHlwZSUzRCUyMmFydGljbGUlMjIlMkMlMEElMjAlMjAlMjAlMjAlMjAlMjAlMjAlMjBtb250aCUzRCUyMkF1ZyUyMiUyQyUwQSUyMCUyMCUyMCUyMCUyMCUyMCUyMCUyMGRheSUzRCUyMjAxJTIyJTJDJTBBJTIwJTIwJTIwJTIwJTIwJTIwJTIwJTIwdm9sdW1lJTNEJTIyMTIlMjIlMkMlMEElMjAlMjAlMjAlMjAlMjAlMjAlMjAlMjBudW1iZXIlM0QlMjI0JTIyJTJDJTBBJTIwJTIwJTIwJTIwJTIwJTIwJTIwJTIwaXNzbiUzRCUyMjE1NzMtNzYxNiUyMiUyQyUwQSUyMCUyMCUyMCUyMCUyMCUyMCUyMCUyMGRvaSUzRCUyMjEwLjEwMDcvczEwNjY0LTAwNi05MDM0LTAlMjIlMkMlMEElMjAlMjAlMjAlMjAlMjAlMjAlMjAlMjBJRCUzRCUyMkxpbmR2YWxsMjAwNyUyMiUyQyUwQSUyMCUyMCUyMCUyMCUyMCUyMCUyMCUyMHNwcmluZ2VyMjAxNSUzRCUyMjElMjIlMkMlMEElMjAlMjAlMjAlMjAlMjAlMjAlMjAlMjBwbGFjZXglM0QlMjJFbXBpcmljYWwlMjBTb2Z0d2FyZSUyMEVuZ2luZWVyaW5nJTIyJTJDJTBBJTIwJTIwJTIwJTIwJTI5JTI5JTBBJTI3JTI3JTI3JTI5JTNC\")));\n",
       "    "
      ],
      "text/plain": [
       "<IPython.core.display.Javascript object>"
      ]
     },
     "metadata": {},
     "output_type": "display_data"
    },
    {
     "data": {
      "application/javascript": [
       "$('span:contains(\"# Temp\")').closest('.cell').remove();"
      ],
      "text/plain": [
       "<IPython.core.display.Javascript object>"
      ]
     },
     "metadata": {},
     "output_type": "display_data"
    },
    {
     "data": {
      "application/javascript": [
       "\n",
       "        $('span:contains(\"# Temp\")').closest('.cell').remove();\n",
       "        var code = IPython.notebook.insert_cell_below('code');\n",
       "        code.set_text(decodeURIComponent(window.atob(\"JTIzJTIwVGVtcCUwQWluc2VydCUyOCUyNyUyNyUyNyUwQSUyMCUyMCUyMCUyMGxpbmR2YWxsMjAwN2ElMjAlM0QlMjBEQiUyOFdvcmtVbnJlbGF0ZWQlMjglMEElMjAlMjAlMjAlMjAlMjAlMjAlMjAlMjAyMDA3JTJDJTIwJTIyRXhwZXJpbWVudGluZyUyMHdpdGglMjBzb2Z0d2FyZSUyMHRlc3RiZWRzJTIwZm9yJTIwZXZhbHVhdGluZyUyMG5ldyUyMHRlY2hub2xvZ2llcyUyMiUyQyUwQSUyMCUyMCUyMCUyMCUyMCUyMCUyMCUyMGRpc3BsYXklM0QlMjJsaW5kdmFsbCUyMiUyQyUwQSUyMCUyMCUyMCUyMCUyMCUyMCUyMCUyMGF1dGhvcnMlM0QlMjJMaW5kdmFsbCUyQyUyME1pa2FlbCUyMGFuZCUyMFJ1cyUyQyUyMElvYW5hJTIwYW5kJTIwRG9uemVsbGklMkMlMjBQYW9sbyUyMGFuZCUyME1lbW9uJTJDJTIwQXRpZiUwQWFuZCUyMFplbGtvd2l0eiUyQyUyME1hcnZpbiUyMGFuZCUyMEJldGluLUNhbiUyQyUyMEF5c3UlMjBhbmQlMjBCdWx0YW4lMkMlMjBUZXZmaWslMjBhbmQlMjBBY2tlcm1hbm4lMkMlMjBDaHJpcyUyMGFuZCUyMEFuZGVycyUyQyUyMEJldHRpbmElMjBhbmQlMjBBc2dhcmklMkMlMjBTaW1hJTIwYW5kJTIwQmFzaWxpJTJDJTIwVmljdG9yJTBBYW5kJTIwSG9jaHN0ZWluJTJDJTIwTG9yaW4lMjBhbmQlMjBGZWxsbWFubiUyQyUyMEolQzMlQjZyZyUyMGFuZCUyMFNodWxsJTJDJTIwRm9ycmVzdCUwQWFuZCUyMFR2ZWR0JTJDJTIwUm9zZWFubmUlMjBhbmQlMjBQZWNoJTJDJTIwRGFuaWVsJTIwYW5kJTIwSGlyc2NoYmFjaCUyQyUyMERhbmllbCUyMiUyQyUwQSUyMCUyMCUyMCUyMCUyMCUyMCUyMCUyMHBsYWNlJTNERVNFJTJDJTBBJTIwJTIwJTIwJTIwJTIwJTIwJTIwJTIwcHAlM0QlMjI0MTctLTQ0NCUyMiUyQyUwQSUyMCUyMCUyMCUyMCUyMCUyMCUyMCUyMGVudHJ5dHlwZSUzRCUyMmFydGljbGUlMjIlMkMlMEElMjAlMjAlMjAlMjAlMjAlMjAlMjAlMjBtb250aCUzRCUyMkF1ZyUyMiUyQyUwQSUyMCUyMCUyMCUyMCUyMCUyMCUyMCUyMGRheSUzRCUyMjAxJTIyJTJDJTBBJTIwJTIwJTIwJTIwJTIwJTIwJTIwJTIwdm9sdW1lJTNEJTIyMTIlMjIlMkMlMEElMjAlMjAlMjAlMjAlMjAlMjAlMjAlMjBudW1iZXIlM0QlMjI0JTIyJTJDJTBBJTIwJTIwJTIwJTIwJTIwJTIwJTIwJTIwaXNzbiUzRCUyMjE1NzMtNzYxNiUyMiUyQyUwQSUyMCUyMCUyMCUyMCUyMCUyMCUyMCUyMGRvaSUzRCUyMjEwLjEwMDcvczEwNjY0LTAwNi05MDM0LTAlMjIlMkMlMEElMjAlMjAlMjAlMjAlMjAlMjAlMjAlMjBJRCUzRCUyMkxpbmR2YWxsMjAwNyUyMiUyQyUwQSUyMCUyMCUyMCUyMCUyMCUyMCUyMCUyMHNwcmluZ2VyMjAxNSUzRCUyMjElMjIlMkMlMEElMjAlMjAlMjAlMjAlMjAlMjAlMjAlMjBwbGFjZXglM0QlMjJFbXBpcmljYWwlMjBTb2Z0d2FyZSUyMEVuZ2luZWVyaW5nJTIyJTJDJTBBJTIwJTIwJTIwJTIwJTI5JTI5JTBBJTI3JTI3JTI3JTI5JTNC\")));\n",
       "    "
      ],
      "text/plain": [
       "<IPython.core.display.Javascript object>"
      ]
     },
     "metadata": {},
     "output_type": "display_data"
    },
    {
     "data": {
      "application/javascript": [
       "$('span:contains(\"# Temp\")').closest('.cell').remove();"
      ],
      "text/plain": [
       "<IPython.core.display.Javascript object>"
      ]
     },
     "metadata": {},
     "output_type": "display_data"
    },
    {
     "data": {
      "application/javascript": [
       "\n",
       "        $('span:contains(\"# Temp\")').closest('.cell').remove();\n",
       "        var code = IPython.notebook.insert_cell_below('code');\n",
       "        code.set_text(decodeURIComponent(window.atob(\"JTIzJTIwVGVtcCUwQWluc2VydCUyOCUyNyUyNyUyNyUwQWtvY2gyMDA4YSUyMCUzRCUyMERCJTI4V29ya1VucmVsYXRlZCUyOCUwQSUyMCUyMCUyMCUyMDIwMDglMkMlMjAlMjJFeHBsb3JpbmclMjB0aGUlMjBlZmZlY3RzJTIwb2YlMjBTb3VyY2VGb3JnZS5uZXQlMjBjb29yZGluYXRpb24lMjBhbmQlMjBjb21tdW5pY2F0aW9uJTIwdG9vbHMlMjBvbiUyMHRoZSUyMGVmZmljaWVuY3klMjBvZiUyMG9wZW4lMjBzb3VyY2UlMjBwcm9qZWN0cyUyMHVzaW5nJTIwZGF0YSUyMGVudmVsb3BtZW50JTIwYW5hbHlzaXMlMjIlMkMlMEElMjAlMjAlMjAlMjBkaXNwbGF5JTNEJTIya29jaCUyMiUyQyUwQSUyMCUyMCUyMCUyMGF1dGhvcnMlM0QlMjJLb2NoJTJDJTIwU3RlZmFuJTIyJTJDJTBBJTIwJTIwJTIwJTIwcGxhY2UlM0RFU0UlMkMlMEElMjAlMjAlMjAlMjBwcCUzRCUyMjM5NyUyMiUyQyUwQSUyMCUyMCUyMCUyMGVudHJ5dHlwZSUzRCUyMmFydGljbGUlMjIlMkMlMEElMjAlMjAlMjAlMjBtb250aCUzRCUyMkF1ZyUyMiUyQyUwQSUyMCUyMCUyMCUyMGRheSUzRCUyMjE1JTIyJTJDJTBBJTIwJTIwJTIwJTIwdm9sdW1lJTNEJTIyMTQlMjIlMkMlMEElMjAlMjAlMjAlMjBudW1iZXIlM0QlMjI0JTIyJTJDJTBBJTIwJTIwJTIwJTIwaXNzbiUzRCUyMjE1NzMtNzYxNiUyMiUyQyUwQSUyMCUyMCUyMCUyMGRvaSUzRCUyMjEwLjEwMDcvczEwNjY0LTAwOC05MDg2LTQlMjIlMkMlMEElMjAlMjAlMjAlMjBJRCUzRCUyMktvY2gyMDA4JTIyJTJDJTBBJTIwJTIwJTIwJTIwc3ByaW5nZXIyMDE1JTNEJTIyMSUyMiUyQyUwQSUyMCUyMCUyMCUyMHBsYWNleCUzRCUyMkVtcGlyaWNhbCUyMFNvZnR3YXJlJTIwRW5naW5lZXJpbmclMjIlMkMlMEElMjklMjklMEElMjclMjclMjclMjklM0I=\")));\n",
       "    "
      ],
      "text/plain": [
       "<IPython.core.display.Javascript object>"
      ]
     },
     "metadata": {},
     "output_type": "display_data"
    },
    {
     "data": {
      "application/javascript": [
       "$('span:contains(\"# Temp\")').closest('.cell').remove();"
      ],
      "text/plain": [
       "<IPython.core.display.Javascript object>"
      ]
     },
     "metadata": {},
     "output_type": "display_data"
    },
    {
     "data": {
      "application/javascript": [
       "\n",
       "        $('span:contains(\"# Temp\")').closest('.cell').remove();\n",
       "        var code = IPython.notebook.insert_cell_below('code');\n",
       "        code.set_text(decodeURIComponent(window.atob(\"JTIzJTIwVGVtcCUwQWluc2VydCUyOCUyNyUyNyUyNyUwQWtvY2gyMDA4YSUyMCUzRCUyMERCJTI4V29ya1VucmVsYXRlZCUyOCUwQSUyMCUyMCUyMCUyMDIwMDglMkMlMjAlMjJFeHBsb3JpbmclMjB0aGUlMjBlZmZlY3RzJTIwb2YlMjBTb3VyY2VGb3JnZS5uZXQlMjBjb29yZGluYXRpb24lMjBhbmQlMjBjb21tdW5pY2F0aW9uJTIwdG9vbHMlMjBvbiUyMHRoZSUyMGVmZmljaWVuY3klMjBvZiUyMG9wZW4lMjBzb3VyY2UlMjBwcm9qZWN0cyUyMHVzaW5nJTIwZGF0YSUyMGVudmVsb3BtZW50JTIwYW5hbHlzaXMlMjIlMkMlMEElMjAlMjAlMjAlMjBkaXNwbGF5JTNEJTIya29jaCUyMiUyQyUwQSUyMCUyMCUyMCUyMGF1dGhvcnMlM0QlMjJLb2NoJTJDJTIwU3RlZmFuJTIyJTJDJTBBJTIwJTIwJTIwJTIwcGxhY2UlM0RFU0UlMkMlMEElMjAlMjAlMjAlMjBwcCUzRCUyMjM5NyUyMiUyQyUwQSUyMCUyMCUyMCUyMGVudHJ5dHlwZSUzRCUyMmFydGljbGUlMjIlMkMlMEElMjAlMjAlMjAlMjBtb250aCUzRCUyMkF1ZyUyMiUyQyUwQSUyMCUyMCUyMCUyMGRheSUzRCUyMjE1JTIyJTJDJTBBJTIwJTIwJTIwJTIwdm9sdW1lJTNEJTIyMTQlMjIlMkMlMEElMjAlMjAlMjAlMjBudW1iZXIlM0QlMjI0JTIyJTJDJTBBJTIwJTIwJTIwJTIwaXNzbiUzRCUyMjE1NzMtNzYxNiUyMiUyQyUwQSUyMCUyMCUyMCUyMGRvaSUzRCUyMjEwLjEwMDcvczEwNjY0LTAwOC05MDg2LTQlMjIlMkMlMEElMjAlMjAlMjAlMjBJRCUzRCUyMktvY2gyMDA4JTIyJTJDJTBBJTIwJTIwJTIwJTIwc3ByaW5nZXIyMDE1JTNEJTIyMSUyMiUyQyUwQSUyMCUyMCUyMCUyMHBsYWNleCUzRCUyMkVtcGlyaWNhbCUyMFNvZnR3YXJlJTIwRW5naW5lZXJpbmclMjIlMkMlMEElMjklMjklMEElMjclMjclMjclMjklM0I=\")));\n",
       "    "
      ],
      "text/plain": [
       "<IPython.core.display.Javascript object>"
      ]
     },
     "metadata": {},
     "output_type": "display_data"
    },
    {
     "data": {
      "application/javascript": [
       "$('span:contains(\"# Temp\")').closest('.cell').remove();"
      ],
      "text/plain": [
       "<IPython.core.display.Javascript object>"
      ]
     },
     "metadata": {},
     "output_type": "display_data"
    },
    {
     "data": {
      "application/javascript": [
       "\n",
       "        $('span:contains(\"# Temp\")').closest('.cell').remove();\n",
       "        var code = IPython.notebook.insert_cell_below('code');\n",
       "        code.set_text(decodeURIComponent(window.atob(\"JTIzJTIwVGVtcCUwQWluc2VydCUyOCUyNyUyNyUyNyUwQSUyMCUyMCUyMCUyMGxlcG1ldHMyMDEyYiUyMCUzRCUyMERCJTI4V29ya1VucmVsYXRlZCUyOCUwQSUyMCUyMCUyMCUyMCUyMCUyMCUyMCUyMDIwMTIlMkMlMjAlMjJFeHRlbmRpbmclMjB0aGUlMjBJVCUyMHNlcnZpY2UlMjBxdWFsaXR5JTIwbWVhc3VyZW1lbnQlMjBmcmFtZXdvcmslMjB0aHJvdWdoJTIwYSUyMHN5c3RlbWF0aWMlMjBsaXRlcmF0dXJlJTIwcmV2aWV3JTIyJTJDJTBBJTIwJTIwJTIwJTIwJTIwJTIwJTIwJTIwZGlzcGxheSUzRCUyMmxlcG1ldHMlMjBiJTIyJTJDJTBBJTIwJTIwJTIwJTIwJTIwJTIwJTIwJTIwYXV0aG9ycyUzRCUyMkxlcG1ldHMlMkMlMjBNYXJpb24lMEFhbmQlMjBDYXRlci1TdGVlbCUyQyUyMEFpbGVlbiUwQWFuZCUyMEdhY2VuZ2ElMkMlMjBGcmFuY2lzJTBBYW5kJTIwUmFzJTJDJTIwRXJpYyUyMiUyQyUwQSUyMCUyMCUyMCUyMCUyMCUyMCUyMCUyMHBsYWNlJTNERkFLRSUyQyUwQSUyMCUyMCUyMCUyMCUyMCUyMCUyMCUyMHBwJTNEJTIyNy0tNDclMjIlMkMlMEElMjAlMjAlMjAlMjAlMjAlMjAlMjAlMjBlbnRyeXR5cGUlM0QlMjJhcnRpY2xlJTIyJTJDJTBBJTIwJTIwJTIwJTIwJTIwJTIwJTIwJTIwbW9udGglM0QlMjJKdW4lMjIlMkMlMEElMjAlMjAlMjAlMjAlMjAlMjAlMjAlMjBkYXklM0QlMjIwMSUyMiUyQyUwQSUyMCUyMCUyMCUyMCUyMCUyMCUyMCUyMHZvbHVtZSUzRCUyMjQlMjIlMkMlMEElMjAlMjAlMjAlMjAlMjAlMjAlMjAlMjBudW1iZXIlM0QlMjIxJTIyJTJDJTBBJTIwJTIwJTIwJTIwJTIwJTIwJTIwJTIwaXNzbiUzRCUyMjIwOTMtMDczOSUyMiUyQyUwQSUyMCUyMCUyMCUyMCUyMCUyMCUyMCUyMGRvaSUzRCUyMjEwLjEwMDcvczEyOTI3LTAxMi0wMDAxLTYlMjIlMkMlMEElMjAlMjAlMjAlMjAlMjAlMjAlMjAlMjBJRCUzRCUyMkxlcG1ldHMyMDEyJTIyJTJDJTBBJTIwJTIwJTIwJTIwJTIwJTIwJTIwJTIwc3ByaW5nZXIyMDE1JTNEJTIyMSUyMiUyQyUwQSUyMCUyMCUyMCUyMCUyMCUyMCUyMCUyMHBsYWNleCUzRCUyMkpvdXJuYWwlMjBvZiUyMFNlcnZpY2UlMjBTY2llbmNlJTIwUmVzZWFyY2glMjIlMkMlMEElMjAlMjAlMjAlMjAlMjklMjklMEElMjclMjclMjclMjklM0I=\")));\n",
       "    "
      ],
      "text/plain": [
       "<IPython.core.display.Javascript object>"
      ]
     },
     "metadata": {},
     "output_type": "display_data"
    },
    {
     "data": {
      "application/javascript": [
       "$('span:contains(\"# Temp\")').closest('.cell').remove();"
      ],
      "text/plain": [
       "<IPython.core.display.Javascript object>"
      ]
     },
     "metadata": {},
     "output_type": "display_data"
    },
    {
     "data": {
      "application/javascript": [
       "\n",
       "        $('span:contains(\"# Temp\")').closest('.cell').remove();\n",
       "        var code = IPython.notebook.insert_cell_below('code');\n",
       "        code.set_text(decodeURIComponent(window.atob(\"JTIzJTIwVGVtcCUwQWluc2VydCUyOCUyNyUyNyUyNyUwQSUyMCUyMCUyMCUyMGxlcG1ldHMyMDEyYiUyMCUzRCUyMERCJTI4V29ya1VucmVsYXRlZCUyOCUwQSUyMCUyMCUyMCUyMCUyMCUyMCUyMCUyMDIwMTIlMkMlMjAlMjJFeHRlbmRpbmclMjB0aGUlMjBJVCUyMHNlcnZpY2UlMjBxdWFsaXR5JTIwbWVhc3VyZW1lbnQlMjBmcmFtZXdvcmslMjB0aHJvdWdoJTIwYSUyMHN5c3RlbWF0aWMlMjBsaXRlcmF0dXJlJTIwcmV2aWV3JTIyJTJDJTBBJTIwJTIwJTIwJTIwJTIwJTIwJTIwJTIwZGlzcGxheSUzRCUyMmxlcG1ldHMlMjBiJTIyJTJDJTBBJTIwJTIwJTIwJTIwJTIwJTIwJTIwJTIwYXV0aG9ycyUzRCUyMkxlcG1ldHMlMkMlMjBNYXJpb24lMEFhbmQlMjBDYXRlci1TdGVlbCUyQyUyMEFpbGVlbiUwQWFuZCUyMEdhY2VuZ2ElMkMlMjBGcmFuY2lzJTBBYW5kJTIwUmFzJTJDJTIwRXJpYyUyMiUyQyUwQSUyMCUyMCUyMCUyMCUyMCUyMCUyMCUyMHBsYWNlJTNERkFLRSUyQyUwQSUyMCUyMCUyMCUyMCUyMCUyMCUyMCUyMHBwJTNEJTIyNy0tNDclMjIlMkMlMEElMjAlMjAlMjAlMjAlMjAlMjAlMjAlMjBlbnRyeXR5cGUlM0QlMjJhcnRpY2xlJTIyJTJDJTBBJTIwJTIwJTIwJTIwJTIwJTIwJTIwJTIwbW9udGglM0QlMjJKdW4lMjIlMkMlMEElMjAlMjAlMjAlMjAlMjAlMjAlMjAlMjBkYXklM0QlMjIwMSUyMiUyQyUwQSUyMCUyMCUyMCUyMCUyMCUyMCUyMCUyMHZvbHVtZSUzRCUyMjQlMjIlMkMlMEElMjAlMjAlMjAlMjAlMjAlMjAlMjAlMjBudW1iZXIlM0QlMjIxJTIyJTJDJTBBJTIwJTIwJTIwJTIwJTIwJTIwJTIwJTIwaXNzbiUzRCUyMjIwOTMtMDczOSUyMiUyQyUwQSUyMCUyMCUyMCUyMCUyMCUyMCUyMCUyMGRvaSUzRCUyMjEwLjEwMDcvczEyOTI3LTAxMi0wMDAxLTYlMjIlMkMlMEElMjAlMjAlMjAlMjAlMjAlMjAlMjAlMjBJRCUzRCUyMkxlcG1ldHMyMDEyJTIyJTJDJTBBJTIwJTIwJTIwJTIwJTIwJTIwJTIwJTIwc3ByaW5nZXIyMDE1JTNEJTIyMSUyMiUyQyUwQSUyMCUyMCUyMCUyMCUyMCUyMCUyMCUyMHBsYWNleCUzRCUyMkpvdXJuYWwlMjBvZiUyMFNlcnZpY2UlMjBTY2llbmNlJTIwUmVzZWFyY2glMjIlMkMlMEElMjAlMjAlMjAlMjAlMjklMjklMEElMjclMjclMjclMjklM0I=\")));\n",
       "    "
      ],
      "text/plain": [
       "<IPython.core.display.Javascript object>"
      ]
     },
     "metadata": {},
     "output_type": "display_data"
    },
    {
     "data": {
      "application/javascript": [
       "$('span:contains(\"# Temp\")').closest('.cell').remove();"
      ],
      "text/plain": [
       "<IPython.core.display.Javascript object>"
      ]
     },
     "metadata": {},
     "output_type": "display_data"
    },
    {
     "data": {
      "application/javascript": [
       "\n",
       "        $('span:contains(\"# Temp\")').closest('.cell').remove();\n",
       "        var code = IPython.notebook.insert_cell_below('code');\n",
       "        code.set_text(decodeURIComponent(window.atob(\"JTIzJTIwVGVtcCUwQWluc2VydCUyOCUyNyUyNyUyNyUwQW9zdGVyd2VpbDIwMDlhJTIwJTNEJTIwREIlMjhXb3JrVW5yZWxhdGVkJTI4JTBBJTIwJTIwJTIwJTIwMjAwOSUyQyUyMCUyMkZvcm1hbGlzbXMlMjB0byUyMFN1cHBvcnQlMjB0aGUlMjBEZWZpbml0aW9uJTIwb2YlMjBQcm9jZXNzZXMlMjIlMkMlMEElMjAlMjAlMjAlMjBkaXNwbGF5JTNEJTIyb3N0ZXJ3ZWlsJTIyJTJDJTBBJTIwJTIwJTIwJTIwYXV0aG9ycyUzRCUyMk9zdGVyd2VpbCUyQyUyMExlb24lMjBKLiUyMiUyQyUwQSUyMCUyMCUyMCUyMHBsYWNlJTNESkNTJTJDJTBBJTIwJTIwJTIwJTIwcHAlM0QlMjIxOTgtLTIxMSUyMiUyQyUwQSUyMCUyMCUyMCUyMGVudHJ5dHlwZSUzRCUyMmFydGljbGUlMjIlMkMlMEElMjAlMjAlMjAlMjBtb250aCUzRCUyMk1hciUyMiUyQyUwQSUyMCUyMCUyMCUyMGRheSUzRCUyMjAxJTIyJTJDJTBBJTIwJTIwJTIwJTIwdm9sdW1lJTNEJTIyMjQlMjIlMkMlMEElMjAlMjAlMjAlMjBudW1iZXIlM0QlMjIyJTIyJTJDJTBBJTIwJTIwJTIwJTIwaXNzbiUzRCUyMjE4NjAtNDc0OSUyMiUyQyUwQSUyMCUyMCUyMCUyMGRvaSUzRCUyMjEwLjEwMDcvczExMzkwLTAwOS05MjE4LTMlMjIlMkMlMEElMjAlMjAlMjAlMjBJRCUzRCUyMk9zdGVyd2VpbDIwMDklMjIlMkMlMEElMjAlMjAlMjAlMjBzcHJpbmdlcjIwMTUlM0QlMjIxJTIyJTJDJTBBJTIwJTIwJTIwJTIwcGxhY2V4JTNEJTIySm91cm5hbCUyMG9mJTIwQ29tcHV0ZXIlMjBTY2llbmNlJTIwYW5kJTIwVGVjaG5vbG9neSUyMiUyQyUwQSUyOSUyOSUwQSUyNyUyNyUyNyUyOSUzQg==\")));\n",
       "    "
      ],
      "text/plain": [
       "<IPython.core.display.Javascript object>"
      ]
     },
     "metadata": {},
     "output_type": "display_data"
    },
    {
     "data": {
      "application/javascript": [
       "$('span:contains(\"# Temp\")').closest('.cell').remove();"
      ],
      "text/plain": [
       "<IPython.core.display.Javascript object>"
      ]
     },
     "metadata": {},
     "output_type": "display_data"
    },
    {
     "data": {
      "application/javascript": [
       "\n",
       "        $('span:contains(\"# Temp\")').closest('.cell').remove();\n",
       "        var code = IPython.notebook.insert_cell_below('code');\n",
       "        code.set_text(decodeURIComponent(window.atob(\"JTIzJTIwVGVtcCUwQWluc2VydCUyOCUyNyUyNyUyNyUwQW9zdGVyd2VpbDIwMDlhJTIwJTNEJTIwREIlMjhXb3JrVW5yZWxhdGVkJTI4JTBBJTIwJTIwJTIwJTIwMjAwOSUyQyUyMCUyMkZvcm1hbGlzbXMlMjB0byUyMFN1cHBvcnQlMjB0aGUlMjBEZWZpbml0aW9uJTIwb2YlMjBQcm9jZXNzZXMlMjIlMkMlMEElMjAlMjAlMjAlMjBkaXNwbGF5JTNEJTIyb3N0ZXJ3ZWlsJTIyJTJDJTBBJTIwJTIwJTIwJTIwYXV0aG9ycyUzRCUyMk9zdGVyd2VpbCUyQyUyMExlb24lMjBKLiUyMiUyQyUwQSUyMCUyMCUyMCUyMHBsYWNlJTNESkNTJTJDJTBBJTIwJTIwJTIwJTIwcHAlM0QlMjIxOTgtLTIxMSUyMiUyQyUwQSUyMCUyMCUyMCUyMGVudHJ5dHlwZSUzRCUyMmFydGljbGUlMjIlMkMlMEElMjAlMjAlMjAlMjBtb250aCUzRCUyMk1hciUyMiUyQyUwQSUyMCUyMCUyMCUyMGRheSUzRCUyMjAxJTIyJTJDJTBBJTIwJTIwJTIwJTIwdm9sdW1lJTNEJTIyMjQlMjIlMkMlMEElMjAlMjAlMjAlMjBudW1iZXIlM0QlMjIyJTIyJTJDJTBBJTIwJTIwJTIwJTIwaXNzbiUzRCUyMjE4NjAtNDc0OSUyMiUyQyUwQSUyMCUyMCUyMCUyMGRvaSUzRCUyMjEwLjEwMDcvczExMzkwLTAwOS05MjE4LTMlMjIlMkMlMEElMjAlMjAlMjAlMjBJRCUzRCUyMk9zdGVyd2VpbDIwMDklMjIlMkMlMEElMjAlMjAlMjAlMjBzcHJpbmdlcjIwMTUlM0QlMjIxJTIyJTJDJTBBJTIwJTIwJTIwJTIwcGxhY2V4JTNEJTIySm91cm5hbCUyMG9mJTIwQ29tcHV0ZXIlMjBTY2llbmNlJTIwYW5kJTIwVGVjaG5vbG9neSUyMiUyQyUwQSUyOSUyOSUwQSUyNyUyNyUyNyUyOSUzQg==\")));\n",
       "    "
      ],
      "text/plain": [
       "<IPython.core.display.Javascript object>"
      ]
     },
     "metadata": {},
     "output_type": "display_data"
    },
    {
     "data": {
      "application/javascript": [
       "$('span:contains(\"# Temp\")').closest('.cell').remove();"
      ],
      "text/plain": [
       "<IPython.core.display.Javascript object>"
      ]
     },
     "metadata": {},
     "output_type": "display_data"
    },
    {
     "data": {
      "application/javascript": [
       "\n",
       "        $('span:contains(\"# Temp\")').closest('.cell').remove();\n",
       "        var code = IPython.notebook.insert_cell_below('code');\n",
       "        code.set_text(decodeURIComponent(window.atob(\"JTIzJTIwVGVtcCUwQWluc2VydCUyOCUyNyUyNyUyNyUwQSUyMCUyMCUyMCUyMHNhaWVkaWFuMTk5NmElMjAlM0QlMjBEQiUyOFdvcmtVbnJlbGF0ZWQlMjglMEElMjAlMjAlMjAlMjAlMjAlMjAlMjAlMjAxOTk2JTJDJTIwJTIyRnJhbWV3b3JrcyUyMGZvciUyMHF1YWxpdHklMjBzb2Z0d2FyZSUyMHByb2Nlc3MlM0ElMjBTRUklMjBDYXBhYmlsaXR5JTIwTWF0dXJpdHklMjBNb2RlbCUyMHZlcnN1cyUyMElTTyUyMDkwMDAlMjIlMkMlMEElMjAlMjAlMjAlMjAlMjAlMjAlMjAlMjBkaXNwbGF5JTNEJTIyc2FpZWRpYW4lMjIlMkMlMEElMjAlMjAlMjAlMjAlMjAlMjAlMjAlMjBhdXRob3JzJTNEJTIyU2FpZWRpYW4lMkMlMjBIb3NzZWluJTBBYW5kJTIwTWNDbGFuYWhhbiUyQyUyMExhdXJhJTIwTS4lMjIlMkMlMEElMjAlMjAlMjAlMjAlMjAlMjAlMjAlMjBwbGFjZSUzRFNRSiUyQyUwQSUyMCUyMCUyMCUyMCUyMCUyMCUyMCUyMHBwJTNEJTIyMS0tMjMlMjIlMkMlMEElMjAlMjAlMjAlMjAlMjAlMjAlMjAlMjBlbnRyeXR5cGUlM0QlMjJhcnRpY2xlJTIyJTJDJTBBJTIwJTIwJTIwJTIwJTIwJTIwJTIwJTIwbW9udGglM0QlMjJNYXIlMjIlMkMlMEElMjAlMjAlMjAlMjAlMjAlMjAlMjAlMjBkYXklM0QlMjIwMSUyMiUyQyUwQSUyMCUyMCUyMCUyMCUyMCUyMCUyMCUyMHZvbHVtZSUzRCUyMjUlMjIlMkMlMEElMjAlMjAlMjAlMjAlMjAlMjAlMjAlMjBudW1iZXIlM0QlMjIxJTIyJTJDJTBBJTIwJTIwJTIwJTIwJTIwJTIwJTIwJTIwaXNzbiUzRCUyMjE1NzMtMTM2NyUyMiUyQyUwQSUyMCUyMCUyMCUyMCUyMCUyMCUyMCUyMGRvaSUzRCUyMjEwLjEwMDcvQkYwMjQyMDk0MSUyMiUyQyUwQSUyMCUyMCUyMCUyMCUyMCUyMCUyMCUyMElEJTNEJTIyU2FpZWRpYW4xOTk2JTIyJTJDJTBBJTIwJTIwJTIwJTIwJTIwJTIwJTIwJTIwc3ByaW5nZXIyMDE1JTNEJTIyMSUyMiUyQyUwQSUyMCUyMCUyMCUyMCUyMCUyMCUyMCUyMHBsYWNleCUzRCUyMlNvZnR3YXJlJTIwUXVhbGl0eSUyMEpvdXJuYWwlMjIlMkMlMEElMjAlMjAlMjAlMjAlMjklMjklMEElMjclMjclMjclMjklM0I=\")));\n",
       "    "
      ],
      "text/plain": [
       "<IPython.core.display.Javascript object>"
      ]
     },
     "metadata": {},
     "output_type": "display_data"
    },
    {
     "data": {
      "application/javascript": [
       "$('span:contains(\"# Temp\")').closest('.cell').remove();"
      ],
      "text/plain": [
       "<IPython.core.display.Javascript object>"
      ]
     },
     "metadata": {},
     "output_type": "display_data"
    },
    {
     "data": {
      "application/javascript": [
       "\n",
       "        $('span:contains(\"# Temp\")').closest('.cell').remove();\n",
       "        var code = IPython.notebook.insert_cell_below('code');\n",
       "        code.set_text(decodeURIComponent(window.atob(\"JTIzJTIwVGVtcCUwQWluc2VydCUyOCUyNyUyNyUyNyUwQSUyMCUyMCUyMCUyMHNhaWVkaWFuMTk5NmElMjAlM0QlMjBEQiUyOFdvcmtVbnJlbGF0ZWQlMjglMEElMjAlMjAlMjAlMjAlMjAlMjAlMjAlMjAxOTk2JTJDJTIwJTIyRnJhbWV3b3JrcyUyMGZvciUyMHF1YWxpdHklMjBzb2Z0d2FyZSUyMHByb2Nlc3MlM0ElMjBTRUklMjBDYXBhYmlsaXR5JTIwTWF0dXJpdHklMjBNb2RlbCUyMHZlcnN1cyUyMElTTyUyMDkwMDAlMjIlMkMlMEElMjAlMjAlMjAlMjAlMjAlMjAlMjAlMjBkaXNwbGF5JTNEJTIyc2FpZWRpYW4lMjIlMkMlMEElMjAlMjAlMjAlMjAlMjAlMjAlMjAlMjBhdXRob3JzJTNEJTIyU2FpZWRpYW4lMkMlMjBIb3NzZWluJTBBYW5kJTIwTWNDbGFuYWhhbiUyQyUyMExhdXJhJTIwTS4lMjIlMkMlMEElMjAlMjAlMjAlMjAlMjAlMjAlMjAlMjBwbGFjZSUzRFNRSiUyQyUwQSUyMCUyMCUyMCUyMCUyMCUyMCUyMCUyMHBwJTNEJTIyMS0tMjMlMjIlMkMlMEElMjAlMjAlMjAlMjAlMjAlMjAlMjAlMjBlbnRyeXR5cGUlM0QlMjJhcnRpY2xlJTIyJTJDJTBBJTIwJTIwJTIwJTIwJTIwJTIwJTIwJTIwbW9udGglM0QlMjJNYXIlMjIlMkMlMEElMjAlMjAlMjAlMjAlMjAlMjAlMjAlMjBkYXklM0QlMjIwMSUyMiUyQyUwQSUyMCUyMCUyMCUyMCUyMCUyMCUyMCUyMHZvbHVtZSUzRCUyMjUlMjIlMkMlMEElMjAlMjAlMjAlMjAlMjAlMjAlMjAlMjBudW1iZXIlM0QlMjIxJTIyJTJDJTBBJTIwJTIwJTIwJTIwJTIwJTIwJTIwJTIwaXNzbiUzRCUyMjE1NzMtMTM2NyUyMiUyQyUwQSUyMCUyMCUyMCUyMCUyMCUyMCUyMCUyMGRvaSUzRCUyMjEwLjEwMDcvQkYwMjQyMDk0MSUyMiUyQyUwQSUyMCUyMCUyMCUyMCUyMCUyMCUyMCUyMElEJTNEJTIyU2FpZWRpYW4xOTk2JTIyJTJDJTBBJTIwJTIwJTIwJTIwJTIwJTIwJTIwJTIwc3ByaW5nZXIyMDE1JTNEJTIyMSUyMiUyQyUwQSUyMCUyMCUyMCUyMCUyMCUyMCUyMCUyMHBsYWNleCUzRCUyMlNvZnR3YXJlJTIwUXVhbGl0eSUyMEpvdXJuYWwlMjIlMkMlMEElMjAlMjAlMjAlMjAlMjklMjklMEElMjclMjclMjclMjklM0I=\")));\n",
       "    "
      ],
      "text/plain": [
       "<IPython.core.display.Javascript object>"
      ]
     },
     "metadata": {},
     "output_type": "display_data"
    },
    {
     "data": {
      "application/javascript": [
       "$('span:contains(\"# Temp\")').closest('.cell').remove();"
      ],
      "text/plain": [
       "<IPython.core.display.Javascript object>"
      ]
     },
     "metadata": {},
     "output_type": "display_data"
    },
    {
     "data": {
      "application/javascript": [
       "\n",
       "        $('span:contains(\"# Temp\")').closest('.cell').remove();\n",
       "        var code = IPython.notebook.insert_cell_below('code');\n",
       "        code.set_text(decodeURIComponent(window.atob(\"JTIzJTIwVGVtcCUwQWluc2VydCUyOCUyNyUyNyUyNyUwQSUyMCUyMCUyMCUyMG1vZTIwMTRhJTIwJTNEJTIwREIlMjhXb3JrVW5yZWxhdGVkJTI4JTBBJTIwJTIwJTIwJTIwJTIwJTIwJTIwJTIwMjAxNCUyQyUyMCUyMkZyb20lMjBvZmZzaG9yZSUyMG91dHNvdXJjaW5nJTIwdG8lMjBpbnNvdXJjaW5nJTIwYW5kJTIwcGFydG5lcnNoaXBzJTNBJTIwZm91ciUyMGZhaWxlZCUyMG91dHNvdXJjaW5nJTIwYXR0ZW1wdHMlMjIlMkMlMEElMjAlMjAlMjAlMjAlMjAlMjAlMjAlMjBkaXNwbGF5JTNEJTIybW9lJTIyJTJDJTBBJTIwJTIwJTIwJTIwJTIwJTIwJTIwJTIwYXV0aG9ycyUzRCUyMk1vZSUyQyUyME5pbHMlMjBCcmVkZSUyMGFuZCUyMCU3QiVDNSVBMCU3RG1pdGUlMkMlMjBEYXJqJTIwYW5kJTIwSGFuc3NlbiUyQyUyMEdlaXIlMjBLamV0aWwlMEFhbmQlMjBCYXJuZXklMkMlMjBIYW1pc2glMjIlMkMlMEElMjAlMjAlMjAlMjAlMjAlMjAlMjAlMjBwbGFjZSUzREVTRSUyQyUwQSUyMCUyMCUyMCUyMCUyMCUyMCUyMCUyMHBwJTNEJTIyMTIyNS0tMTI1OCUyMiUyQyUwQSUyMCUyMCUyMCUyMCUyMCUyMCUyMCUyMGVudHJ5dHlwZSUzRCUyMmFydGljbGUlMjIlMkMlMEElMjAlMjAlMjAlMjAlMjAlMjAlMjAlMjBtb250aCUzRCUyMk9jdCUyMiUyQyUwQSUyMCUyMCUyMCUyMCUyMCUyMCUyMCUyMGRheSUzRCUyMjAxJTIyJTJDJTBBJTIwJTIwJTIwJTIwJTIwJTIwJTIwJTIwdm9sdW1lJTNEJTIyMTklMjIlMkMlMEElMjAlMjAlMjAlMjAlMjAlMjAlMjAlMjBudW1iZXIlM0QlMjI1JTIyJTJDJTBBJTIwJTIwJTIwJTIwJTIwJTIwJTIwJTIwaXNzbiUzRCUyMjE1NzMtNzYxNiUyMiUyQyUwQSUyMCUyMCUyMCUyMCUyMCUyMCUyMCUyMGRvaSUzRCUyMjEwLjEwMDcvczEwNjY0LTAxMy05MjcyLXglMjIlMkMlMEElMjAlMjAlMjAlMjAlMjAlMjAlMjAlMjBJRCUzRCUyMk1vZTIwMTQlMjIlMkMlMEElMjAlMjAlMjAlMjAlMjAlMjAlMjAlMjBzcHJpbmdlcjIwMTUlM0QlMjIxJTIyJTJDJTBBJTIwJTIwJTIwJTIwJTIwJTIwJTIwJTIwcGxhY2V4JTNEJTIyRW1waXJpY2FsJTIwU29mdHdhcmUlMjBFbmdpbmVlcmluZyUyMiUyQyUwQSUyMCUyMCUyMCUyMCUyOSUyOSUwQSUyNyUyNyUyNyUyOSUzQg==\")));\n",
       "    "
      ],
      "text/plain": [
       "<IPython.core.display.Javascript object>"
      ]
     },
     "metadata": {},
     "output_type": "display_data"
    },
    {
     "data": {
      "application/javascript": [
       "$('span:contains(\"# Temp\")').closest('.cell').remove();"
      ],
      "text/plain": [
       "<IPython.core.display.Javascript object>"
      ]
     },
     "metadata": {},
     "output_type": "display_data"
    },
    {
     "data": {
      "application/javascript": [
       "\n",
       "        $('span:contains(\"# Temp\")').closest('.cell').remove();\n",
       "        var code = IPython.notebook.insert_cell_below('code');\n",
       "        code.set_text(decodeURIComponent(window.atob(\"JTIzJTIwVGVtcCUwQWluc2VydCUyOCUyNyUyNyUyNyUwQSUyMCUyMCUyMCUyMG1vZTIwMTRhJTIwJTNEJTIwREIlMjhXb3JrVW5yZWxhdGVkJTI4JTBBJTIwJTIwJTIwJTIwJTIwJTIwJTIwJTIwMjAxNCUyQyUyMCUyMkZyb20lMjBvZmZzaG9yZSUyMG91dHNvdXJjaW5nJTIwdG8lMjBpbnNvdXJjaW5nJTIwYW5kJTIwcGFydG5lcnNoaXBzJTNBJTIwZm91ciUyMGZhaWxlZCUyMG91dHNvdXJjaW5nJTIwYXR0ZW1wdHMlMjIlMkMlMEElMjAlMjAlMjAlMjAlMjAlMjAlMjAlMjBkaXNwbGF5JTNEJTIybW9lJTIyJTJDJTBBJTIwJTIwJTIwJTIwJTIwJTIwJTIwJTIwYXV0aG9ycyUzRCUyMk1vZSUyQyUyME5pbHMlMjBCcmVkZSUyMGFuZCUyMCU3QiVDNSVBMCU3RG1pdGUlMkMlMjBEYXJqJTIwYW5kJTIwSGFuc3NlbiUyQyUyMEdlaXIlMjBLamV0aWwlMEFhbmQlMjBCYXJuZXklMkMlMjBIYW1pc2glMjIlMkMlMEElMjAlMjAlMjAlMjAlMjAlMjAlMjAlMjBwbGFjZSUzREVTRSUyQyUwQSUyMCUyMCUyMCUyMCUyMCUyMCUyMCUyMHBwJTNEJTIyMTIyNS0tMTI1OCUyMiUyQyUwQSUyMCUyMCUyMCUyMCUyMCUyMCUyMCUyMGVudHJ5dHlwZSUzRCUyMmFydGljbGUlMjIlMkMlMEElMjAlMjAlMjAlMjAlMjAlMjAlMjAlMjBtb250aCUzRCUyMk9jdCUyMiUyQyUwQSUyMCUyMCUyMCUyMCUyMCUyMCUyMCUyMGRheSUzRCUyMjAxJTIyJTJDJTBBJTIwJTIwJTIwJTIwJTIwJTIwJTIwJTIwdm9sdW1lJTNEJTIyMTklMjIlMkMlMEElMjAlMjAlMjAlMjAlMjAlMjAlMjAlMjBudW1iZXIlM0QlMjI1JTIyJTJDJTBBJTIwJTIwJTIwJTIwJTIwJTIwJTIwJTIwaXNzbiUzRCUyMjE1NzMtNzYxNiUyMiUyQyUwQSUyMCUyMCUyMCUyMCUyMCUyMCUyMCUyMGRvaSUzRCUyMjEwLjEwMDcvczEwNjY0LTAxMy05MjcyLXglMjIlMkMlMEElMjAlMjAlMjAlMjAlMjAlMjAlMjAlMjBJRCUzRCUyMk1vZTIwMTQlMjIlMkMlMEElMjAlMjAlMjAlMjAlMjAlMjAlMjAlMjBzcHJpbmdlcjIwMTUlM0QlMjIxJTIyJTJDJTBBJTIwJTIwJTIwJTIwJTIwJTIwJTIwJTIwcGxhY2V4JTNEJTIyRW1waXJpY2FsJTIwU29mdHdhcmUlMjBFbmdpbmVlcmluZyUyMiUyQyUwQSUyMCUyMCUyMCUyMCUyOSUyOSUwQSUyNyUyNyUyNyUyOSUzQg==\")));\n",
       "    "
      ],
      "text/plain": [
       "<IPython.core.display.Javascript object>"
      ]
     },
     "metadata": {},
     "output_type": "display_data"
    },
    {
     "data": {
      "application/javascript": [
       "$('span:contains(\"# Temp\")').closest('.cell').remove();"
      ],
      "text/plain": [
       "<IPython.core.display.Javascript object>"
      ]
     },
     "metadata": {},
     "output_type": "display_data"
    },
    {
     "data": {
      "application/javascript": [
       "\n",
       "        $('span:contains(\"# Temp\")').closest('.cell').remove();\n",
       "        var code = IPython.notebook.insert_cell_below('code');\n",
       "        code.set_text(decodeURIComponent(window.atob(\"JTIzJTIwVGVtcCUwQWluc2VydCUyOCUyNyUyNyUyNyUwQSUyMCUyMCUyMCUyMGJlaXJuZTE5OTdhJTIwJTNEJTIwREIlMjhXb3JrVW5yZWxhdGVkJTI4JTBBJTIwJTIwJTIwJTIwJTIwJTIwJTIwJTIwMTk5NyUyQyUyMCUyMkdvaW5nJTIwc29mdCUyMG9uJTIwcXVhbGl0eSUzRiUzQVByb2Nlc3MlMjBtYW5hZ2VtZW50JTIwaW4lMjB0aGUlMjBTY290dGlzaCUyMHNvZnR3YXJlJTIwaW5kdXN0cnklMjIlMkMlMEElMjAlMjAlMjAlMjAlMjAlMjAlMjAlMjBkaXNwbGF5JTNEJTIyYmVpcm5lJTIyJTJDJTBBJTIwJTIwJTIwJTIwJTIwJTIwJTIwJTIwYXV0aG9ycyUzRCUyMkJlaXJuZSUyQyUyME1hcnRpbiUwQWFuZCUyMFBhbnRlbGklMkMlMjBBbmRyb25pa2klMEFhbmQlMjBSYW1zYXklMkMlMjBIYXJ2aWUlMjIlMkMlMEElMjAlMjAlMjAlMjAlMjAlMjAlMjAlMjBwbGFjZSUzRFNRSiUyQyUwQSUyMCUyMCUyMCUyMCUyMCUyMCUyMCUyMHBwJTNEJTIyMTk1LS0yMDklMjIlMkMlMEElMjAlMjAlMjAlMjAlMjAlMjAlMjAlMjBlbnRyeXR5cGUlM0QlMjJhcnRpY2xlJTIyJTJDJTBBJTIwJTIwJTIwJTIwJTIwJTIwJTIwJTIwbW9udGglM0QlMjJTZXAlMjIlMkMlMEElMjAlMjAlMjAlMjAlMjAlMjAlMjAlMjBkYXklM0QlMjIwMSUyMiUyQyUwQSUyMCUyMCUyMCUyMCUyMCUyMCUyMCUyMHZvbHVtZSUzRCUyMjYlMjIlMkMlMEElMjAlMjAlMjAlMjAlMjAlMjAlMjAlMjBudW1iZXIlM0QlMjIzJTIyJTJDJTBBJTIwJTIwJTIwJTIwJTIwJTIwJTIwJTIwaXNzbiUzRCUyMjE1NzMtMTM2NyUyMiUyQyUwQSUyMCUyMCUyMCUyMCUyMCUyMCUyMCUyMGRvaSUzRCUyMjEwLjEwMjMvQSUzQTEwMTg1NjQwMTkzNjUlMjIlMkMlMEElMjAlMjAlMjAlMjAlMjAlMjAlMjAlMjBJRCUzRCUyMkJlaXJuZTE5OTclMjIlMkMlMEElMjAlMjAlMjAlMjAlMjAlMjAlMjAlMjBzcHJpbmdlcjIwMTUlM0QlMjIxJTIyJTJDJTBBJTIwJTIwJTIwJTIwJTIwJTIwJTIwJTIwcGxhY2V4JTNEJTIyU29mdHdhcmUlMjBRdWFsaXR5JTIwSm91cm5hbCUyMiUyQyUwQSUyMCUyMCUyMCUyMCUyOSUyOSUwQSUyNyUyNyUyNyUyOSUzQg==\")));\n",
       "    "
      ],
      "text/plain": [
       "<IPython.core.display.Javascript object>"
      ]
     },
     "metadata": {},
     "output_type": "display_data"
    },
    {
     "data": {
      "application/javascript": [
       "$('span:contains(\"# Temp\")').closest('.cell').remove();"
      ],
      "text/plain": [
       "<IPython.core.display.Javascript object>"
      ]
     },
     "metadata": {},
     "output_type": "display_data"
    },
    {
     "data": {
      "application/javascript": [
       "\n",
       "        $('span:contains(\"# Temp\")').closest('.cell').remove();\n",
       "        var code = IPython.notebook.insert_cell_below('code');\n",
       "        code.set_text(decodeURIComponent(window.atob(\"JTIzJTIwVGVtcCUwQWluc2VydCUyOCUyNyUyNyUyNyUwQSUyMCUyMCUyMCUyMGJlaXJuZTE5OTdhJTIwJTNEJTIwREIlMjhXb3JrVW5yZWxhdGVkJTI4JTBBJTIwJTIwJTIwJTIwJTIwJTIwJTIwJTIwMTk5NyUyQyUyMCUyMkdvaW5nJTIwc29mdCUyMG9uJTIwcXVhbGl0eSUzRiUzQVByb2Nlc3MlMjBtYW5hZ2VtZW50JTIwaW4lMjB0aGUlMjBTY290dGlzaCUyMHNvZnR3YXJlJTIwaW5kdXN0cnklMjIlMkMlMEElMjAlMjAlMjAlMjAlMjAlMjAlMjAlMjBkaXNwbGF5JTNEJTIyYmVpcm5lJTIyJTJDJTBBJTIwJTIwJTIwJTIwJTIwJTIwJTIwJTIwYXV0aG9ycyUzRCUyMkJlaXJuZSUyQyUyME1hcnRpbiUwQWFuZCUyMFBhbnRlbGklMkMlMjBBbmRyb25pa2klMEFhbmQlMjBSYW1zYXklMkMlMjBIYXJ2aWUlMjIlMkMlMEElMjAlMjAlMjAlMjAlMjAlMjAlMjAlMjBwbGFjZSUzRFNRSiUyQyUwQSUyMCUyMCUyMCUyMCUyMCUyMCUyMCUyMHBwJTNEJTIyMTk1LS0yMDklMjIlMkMlMEElMjAlMjAlMjAlMjAlMjAlMjAlMjAlMjBlbnRyeXR5cGUlM0QlMjJhcnRpY2xlJTIyJTJDJTBBJTIwJTIwJTIwJTIwJTIwJTIwJTIwJTIwbW9udGglM0QlMjJTZXAlMjIlMkMlMEElMjAlMjAlMjAlMjAlMjAlMjAlMjAlMjBkYXklM0QlMjIwMSUyMiUyQyUwQSUyMCUyMCUyMCUyMCUyMCUyMCUyMCUyMHZvbHVtZSUzRCUyMjYlMjIlMkMlMEElMjAlMjAlMjAlMjAlMjAlMjAlMjAlMjBudW1iZXIlM0QlMjIzJTIyJTJDJTBBJTIwJTIwJTIwJTIwJTIwJTIwJTIwJTIwaXNzbiUzRCUyMjE1NzMtMTM2NyUyMiUyQyUwQSUyMCUyMCUyMCUyMCUyMCUyMCUyMCUyMGRvaSUzRCUyMjEwLjEwMjMvQSUzQTEwMTg1NjQwMTkzNjUlMjIlMkMlMEElMjAlMjAlMjAlMjAlMjAlMjAlMjAlMjBJRCUzRCUyMkJlaXJuZTE5OTclMjIlMkMlMEElMjAlMjAlMjAlMjAlMjAlMjAlMjAlMjBzcHJpbmdlcjIwMTUlM0QlMjIxJTIyJTJDJTBBJTIwJTIwJTIwJTIwJTIwJTIwJTIwJTIwcGxhY2V4JTNEJTIyU29mdHdhcmUlMjBRdWFsaXR5JTIwSm91cm5hbCUyMiUyQyUwQSUyMCUyMCUyMCUyMCUyOSUyOSUwQSUyNyUyNyUyNyUyOSUzQg==\")));\n",
       "    "
      ],
      "text/plain": [
       "<IPython.core.display.Javascript object>"
      ]
     },
     "metadata": {},
     "output_type": "display_data"
    },
    {
     "data": {
      "application/javascript": [
       "$('span:contains(\"# Temp\")').closest('.cell').remove();"
      ],
      "text/plain": [
       "<IPython.core.display.Javascript object>"
      ]
     },
     "metadata": {},
     "output_type": "display_data"
    },
    {
     "data": {
      "application/javascript": [
       "\n",
       "        $('span:contains(\"# Temp\")').closest('.cell').remove();\n",
       "        var code = IPython.notebook.insert_cell_below('code');\n",
       "        code.set_text(decodeURIComponent(window.atob(\"JTIzJTIwVGVtcCUwQWluc2VydCUyOCUyNyUyNyUyNyUwQSUyMCUyMCUyMCUyMGJyYXVuMjAxNGElMjAlM0QlMjBEQiUyOFdvcmtVbnJlbGF0ZWQlMjglMEElMjAlMjAlMjAlMjAlMjAlMjAlMjAlMjAyMDE0JTJDJTIwJTIyR3VpZGluZyUyMHJlcXVpcmVtZW50cyUyMGVuZ2luZWVyaW5nJTIwZm9yJTIwc29mdHdhcmUtaW50ZW5zaXZlJTIwZW1iZWRkZWQlMjBzeXN0ZW1zJTIwaW4lMjB0aGUlMjBhdXRvbW90aXZlJTIwaW5kdXN0cnklMjIlMkMlMEElMjAlMjAlMjAlMjAlMjAlMjAlMjAlMjBkaXNwbGF5JTNEJTIyYnJhdW4lMjIlMkMlMEElMjAlMjAlMjAlMjAlMjAlMjAlMjAlMjBhdXRob3JzJTNEJTIyQnJhdW4lMkMlMjBQZXRlciUyMGFuZCUyMEJyb3klMkMlMjBNYW5mcmVkJTIwYW5kJTIwSG91ZGVrJTJDJTIwRnJhbmslMjBhbmQlMjBLaXJjaG1heXIlMkMlMjBNYXR0aGlhcyUyMGFuZCUyME0lQzMlQkNsbGVyJTJDJTIwTWFyayUyMGFuZCUyMFBlbnplbnN0YWRsZXIlMkMlMjBCaXJnaXQlMjBhbmQlMjBQb2hsJTJDJTIwS2xhdXMlMEFhbmQlMjBXZXllciUyQyUyMFRob3JzdGVuJTIyJTJDJTBBJTIwJTIwJTIwJTIwJTIwJTIwJTIwJTIwcGxhY2UlM0RGQUtFJTJDJTBBJTIwJTIwJTIwJTIwJTIwJTIwJTIwJTIwcHAlM0QlMjIyMS0tNDMlMjIlMkMlMEElMjAlMjAlMjAlMjAlMjAlMjAlMjAlMjBlbnRyeXR5cGUlM0QlMjJhcnRpY2xlJTIyJTJDJTBBJTIwJTIwJTIwJTIwJTIwJTIwJTIwJTIwbW9udGglM0QlMjJGZWIlMjIlMkMlMEElMjAlMjAlMjAlMjAlMjAlMjAlMjAlMjBkYXklM0QlMjIwMSUyMiUyQyUwQSUyMCUyMCUyMCUyMCUyMCUyMCUyMCUyMHZvbHVtZSUzRCUyMjI5JTIyJTJDJTBBJTIwJTIwJTIwJTIwJTIwJTIwJTIwJTIwbnVtYmVyJTNEJTIyMSUyMiUyQyUwQSUyMCUyMCUyMCUyMCUyMCUyMCUyMCUyMGlzc24lM0QlMjIxODY1LTIwNDIlMjIlMkMlMEElMjAlMjAlMjAlMjAlMjAlMjAlMjAlMjBkb2klM0QlMjIxMC4xMDA3L3MwMDQ1MC0wMTAtMDEzNi15JTIyJTJDJTBBJTIwJTIwJTIwJTIwJTIwJTIwJTIwJTIwSUQlM0QlMjJCcmF1bjIwMTQlMjIlMkMlMEElMjAlMjAlMjAlMjAlMjAlMjAlMjAlMjBzcHJpbmdlcjIwMTUlM0QlMjIxJTIyJTJDJTBBJTIwJTIwJTIwJTIwJTIwJTIwJTIwJTIwcGxhY2V4JTNEJTIyQ29tcHV0ZXIlMjBTY2llbmNlJTIwLSUyMFJlc2VhcmNoJTIwYW5kJTIwRGV2ZWxvcG1lbnQlMjIlMkMlMEElMjAlMjAlMjAlMjAlMjklMjklMEElMjclMjclMjclMjklM0I=\")));\n",
       "    "
      ],
      "text/plain": [
       "<IPython.core.display.Javascript object>"
      ]
     },
     "metadata": {},
     "output_type": "display_data"
    },
    {
     "data": {
      "application/javascript": [
       "$('span:contains(\"# Temp\")').closest('.cell').remove();"
      ],
      "text/plain": [
       "<IPython.core.display.Javascript object>"
      ]
     },
     "metadata": {},
     "output_type": "display_data"
    },
    {
     "data": {
      "application/javascript": [
       "\n",
       "        $('span:contains(\"# Temp\")').closest('.cell').remove();\n",
       "        var code = IPython.notebook.insert_cell_below('code');\n",
       "        code.set_text(decodeURIComponent(window.atob(\"JTIzJTIwVGVtcCUwQWluc2VydCUyOCUyNyUyNyUyNyUwQSUyMCUyMCUyMCUyMGJyYXVuMjAxNGElMjAlM0QlMjBEQiUyOFdvcmtVbnJlbGF0ZWQlMjglMEElMjAlMjAlMjAlMjAlMjAlMjAlMjAlMjAyMDE0JTJDJTIwJTIyR3VpZGluZyUyMHJlcXVpcmVtZW50cyUyMGVuZ2luZWVyaW5nJTIwZm9yJTIwc29mdHdhcmUtaW50ZW5zaXZlJTIwZW1iZWRkZWQlMjBzeXN0ZW1zJTIwaW4lMjB0aGUlMjBhdXRvbW90aXZlJTIwaW5kdXN0cnklMjIlMkMlMEElMjAlMjAlMjAlMjAlMjAlMjAlMjAlMjBkaXNwbGF5JTNEJTIyYnJhdW4lMjIlMkMlMEElMjAlMjAlMjAlMjAlMjAlMjAlMjAlMjBhdXRob3JzJTNEJTIyQnJhdW4lMkMlMjBQZXRlciUyMGFuZCUyMEJyb3klMkMlMjBNYW5mcmVkJTIwYW5kJTIwSG91ZGVrJTJDJTIwRnJhbmslMjBhbmQlMjBLaXJjaG1heXIlMkMlMjBNYXR0aGlhcyUyMGFuZCUyME0lQzMlQkNsbGVyJTJDJTIwTWFyayUyMGFuZCUyMFBlbnplbnN0YWRsZXIlMkMlMjBCaXJnaXQlMjBhbmQlMjBQb2hsJTJDJTIwS2xhdXMlMEFhbmQlMjBXZXllciUyQyUyMFRob3JzdGVuJTIyJTJDJTBBJTIwJTIwJTIwJTIwJTIwJTIwJTIwJTIwcGxhY2UlM0RGQUtFJTJDJTBBJTIwJTIwJTIwJTIwJTIwJTIwJTIwJTIwcHAlM0QlMjIyMS0tNDMlMjIlMkMlMEElMjAlMjAlMjAlMjAlMjAlMjAlMjAlMjBlbnRyeXR5cGUlM0QlMjJhcnRpY2xlJTIyJTJDJTBBJTIwJTIwJTIwJTIwJTIwJTIwJTIwJTIwbW9udGglM0QlMjJGZWIlMjIlMkMlMEElMjAlMjAlMjAlMjAlMjAlMjAlMjAlMjBkYXklM0QlMjIwMSUyMiUyQyUwQSUyMCUyMCUyMCUyMCUyMCUyMCUyMCUyMHZvbHVtZSUzRCUyMjI5JTIyJTJDJTBBJTIwJTIwJTIwJTIwJTIwJTIwJTIwJTIwbnVtYmVyJTNEJTIyMSUyMiUyQyUwQSUyMCUyMCUyMCUyMCUyMCUyMCUyMCUyMGlzc24lM0QlMjIxODY1LTIwNDIlMjIlMkMlMEElMjAlMjAlMjAlMjAlMjAlMjAlMjAlMjBkb2klM0QlMjIxMC4xMDA3L3MwMDQ1MC0wMTAtMDEzNi15JTIyJTJDJTBBJTIwJTIwJTIwJTIwJTIwJTIwJTIwJTIwSUQlM0QlMjJCcmF1bjIwMTQlMjIlMkMlMEElMjAlMjAlMjAlMjAlMjAlMjAlMjAlMjBzcHJpbmdlcjIwMTUlM0QlMjIxJTIyJTJDJTBBJTIwJTIwJTIwJTIwJTIwJTIwJTIwJTIwcGxhY2V4JTNEJTIyQ29tcHV0ZXIlMjBTY2llbmNlJTIwLSUyMFJlc2VhcmNoJTIwYW5kJTIwRGV2ZWxvcG1lbnQlMjIlMkMlMEElMjAlMjAlMjAlMjAlMjklMjklMEElMjclMjclMjclMjklM0I=\")));\n",
       "    "
      ],
      "text/plain": [
       "<IPython.core.display.Javascript object>"
      ]
     },
     "metadata": {},
     "output_type": "display_data"
    },
    {
     "data": {
      "application/javascript": [
       "$('span:contains(\"# Temp\")').closest('.cell').remove();"
      ],
      "text/plain": [
       "<IPython.core.display.Javascript object>"
      ]
     },
     "metadata": {},
     "output_type": "display_data"
    },
    {
     "data": {
      "application/javascript": [
       "\n",
       "        $('span:contains(\"# Temp\")').closest('.cell').remove();\n",
       "        var code = IPython.notebook.insert_cell_below('code');\n",
       "        code.set_text(decodeURIComponent(window.atob(\"JTIzJTIwVGVtcCUwQWluc2VydCUyOCUyNyUyNyUyNyUwQWphYmFuZ3dlMjAxNWElMjAlM0QlMjBEQiUyOFdvcmtVbnJlbGF0ZWQlMjglMEElMjAlMjAlMjAlMjAyMDE1JTJDJTIwJTIySGFuZG92ZXIlMjBvZiUyMG1hbmFnZXJpYWwlMjByZXNwb25zaWJpbGl0aWVzJTIwaW4lMjBnbG9iYWwlMjBzb2Z0d2FyZSUyMGRldmVsb3BtZW50JTNBJTIwYSUyMGNhc2UlMjBzdHVkeSUyMG9mJTIwc291cmNlJTIwY29kZSUyMGV2b2x1dGlvbiUyMGFuZCUyMHF1YWxpdHklMjIlMkMlMEElMjAlMjAlMjAlMjBkaXNwbGF5JTNEJTIyamFiYW5nd2UlMjIlMkMlMEElMjAlMjAlMjAlMjBhdXRob3JzJTNEJTIySmFiYW5nd2UlMkMlMjBSb25hbGQlMjBhbmQlMjBCJUMzJUI2cnN0bGVyJTJDJTIwSiVDMyVCQ3JnZW4lMjBhbmQlMjBQZXRlcnNlbiUyQyUyMEthaSUyMiUyQyUwQSUyMCUyMCUyMCUyMHBsYWNlJTNEU1FKJTJDJTBBJTIwJTIwJTIwJTIwcHAlM0QlMjI1MzktLTU2NiUyMiUyQyUwQSUyMCUyMCUyMCUyMGVudHJ5dHlwZSUzRCUyMmFydGljbGUlMjIlMkMlMEElMjAlMjAlMjAlMjBtb250aCUzRCUyMkRlYyUyMiUyQyUwQSUyMCUyMCUyMCUyMGRheSUzRCUyMjAxJTIyJTJDJTBBJTIwJTIwJTIwJTIwdm9sdW1lJTNEJTIyMjMlMjIlMkMlMEElMjAlMjAlMjAlMjBudW1iZXIlM0QlMjI0JTIyJTJDJTBBJTIwJTIwJTIwJTIwaXNzbiUzRCUyMjE1NzMtMTM2NyUyMiUyQyUwQSUyMCUyMCUyMCUyMGRvaSUzRCUyMjEwLjEwMDcvczExMjE5LTAxNC05MjQ3LTElMjIlMkMlMEElMjAlMjAlMjAlMjBJRCUzRCUyMkphYmFuZ3dlMjAxNSUyMiUyQyUwQSUyMCUyMCUyMCUyMHNwcmluZ2VyMjAxNSUzRCUyMjElMjIlMkMlMEElMjAlMjAlMjAlMjBwbGFjZXglM0QlMjJTb2Z0d2FyZSUyMFF1YWxpdHklMjBKb3VybmFsJTIyJTJDJTBBJTI5JTI5JTBBJTI3JTI3JTI3JTI5JTNC\")));\n",
       "    "
      ],
      "text/plain": [
       "<IPython.core.display.Javascript object>"
      ]
     },
     "metadata": {},
     "output_type": "display_data"
    },
    {
     "data": {
      "application/javascript": [
       "$('span:contains(\"# Temp\")').closest('.cell').remove();"
      ],
      "text/plain": [
       "<IPython.core.display.Javascript object>"
      ]
     },
     "metadata": {},
     "output_type": "display_data"
    },
    {
     "data": {
      "application/javascript": [
       "\n",
       "        $('span:contains(\"# Temp\")').closest('.cell').remove();\n",
       "        var code = IPython.notebook.insert_cell_below('code');\n",
       "        code.set_text(decodeURIComponent(window.atob(\"JTIzJTIwVGVtcCUwQWluc2VydCUyOCUyNyUyNyUyNyUwQWphYmFuZ3dlMjAxNWElMjAlM0QlMjBEQiUyOFdvcmtVbnJlbGF0ZWQlMjglMEElMjAlMjAlMjAlMjAyMDE1JTJDJTIwJTIySGFuZG92ZXIlMjBvZiUyMG1hbmFnZXJpYWwlMjByZXNwb25zaWJpbGl0aWVzJTIwaW4lMjBnbG9iYWwlMjBzb2Z0d2FyZSUyMGRldmVsb3BtZW50JTNBJTIwYSUyMGNhc2UlMjBzdHVkeSUyMG9mJTIwc291cmNlJTIwY29kZSUyMGV2b2x1dGlvbiUyMGFuZCUyMHF1YWxpdHklMjIlMkMlMEElMjAlMjAlMjAlMjBkaXNwbGF5JTNEJTIyamFiYW5nd2UlMjIlMkMlMEElMjAlMjAlMjAlMjBhdXRob3JzJTNEJTIySmFiYW5nd2UlMkMlMjBSb25hbGQlMjBhbmQlMjBCJUMzJUI2cnN0bGVyJTJDJTIwSiVDMyVCQ3JnZW4lMjBhbmQlMjBQZXRlcnNlbiUyQyUyMEthaSUyMiUyQyUwQSUyMCUyMCUyMCUyMHBsYWNlJTNEU1FKJTJDJTBBJTIwJTIwJTIwJTIwcHAlM0QlMjI1MzktLTU2NiUyMiUyQyUwQSUyMCUyMCUyMCUyMGVudHJ5dHlwZSUzRCUyMmFydGljbGUlMjIlMkMlMEElMjAlMjAlMjAlMjBtb250aCUzRCUyMkRlYyUyMiUyQyUwQSUyMCUyMCUyMCUyMGRheSUzRCUyMjAxJTIyJTJDJTBBJTIwJTIwJTIwJTIwdm9sdW1lJTNEJTIyMjMlMjIlMkMlMEElMjAlMjAlMjAlMjBudW1iZXIlM0QlMjI0JTIyJTJDJTBBJTIwJTIwJTIwJTIwaXNzbiUzRCUyMjE1NzMtMTM2NyUyMiUyQyUwQSUyMCUyMCUyMCUyMGRvaSUzRCUyMjEwLjEwMDcvczExMjE5LTAxNC05MjQ3LTElMjIlMkMlMEElMjAlMjAlMjAlMjBJRCUzRCUyMkphYmFuZ3dlMjAxNSUyMiUyQyUwQSUyMCUyMCUyMCUyMHNwcmluZ2VyMjAxNSUzRCUyMjElMjIlMkMlMEElMjAlMjAlMjAlMjBwbGFjZXglM0QlMjJTb2Z0d2FyZSUyMFF1YWxpdHklMjBKb3VybmFsJTIyJTJDJTBBJTI5JTI5JTBBJTI3JTI3JTI3JTI5JTNC\")));\n",
       "    "
      ],
      "text/plain": [
       "<IPython.core.display.Javascript object>"
      ]
     },
     "metadata": {},
     "output_type": "display_data"
    },
    {
     "data": {
      "application/javascript": [
       "$('span:contains(\"# Temp\")').closest('.cell').remove();"
      ],
      "text/plain": [
       "<IPython.core.display.Javascript object>"
      ]
     },
     "metadata": {},
     "output_type": "display_data"
    },
    {
     "data": {
      "application/javascript": [
       "\n",
       "        $('span:contains(\"# Temp\")').closest('.cell').remove();\n",
       "        var code = IPython.notebook.insert_cell_below('code');\n",
       "        code.set_text(decodeURIComponent(window.atob(\"JTIzJTIwVGVtcCUwQWluc2VydCUyOCUyNyUyNyUyNyUwQSUyMCUyMCUyMCUyMGJhbGRhc3NhcnJlMjAxMmElMjAlM0QlMjBEQiUyOFdvcmtVbnJlbGF0ZWQlMjglMEElMjAlMjAlMjAlMjAlMjAlMjAlMjAlMjAyMDEyJTJDJTIwJTIySGFybW9uaXphdGlvbiUyMG9mJTIwSVNPL0lFQyUyMDkwMDElM0EyMDAwJTIwYW5kJTIwQ01NSS1ERVYlM0ElMjBmcm9tJTIwYSUyMHRoZW9yZXRpY2FsJTIwY29tcGFyaXNvbiUyMHRvJTIwYSUyMHJlYWwlMjBjYXNlJTIwYXBwbGljYXRpb24lMjIlMkMlMEElMjAlMjAlMjAlMjAlMjAlMjAlMjAlMjBkaXNwbGF5JTNEJTIyYmFsZGFzc2FycmUlMjIlMkMlMEElMjAlMjAlMjAlMjAlMjAlMjAlMjAlMjBhdXRob3JzJTNEJTIyQmFsZGFzc2FycmUlMkMlMjBNYXJpYSUyMFRlcmVzYSUyMGFuZCUyMENhaXZhbm8lMkMlMjBEYW5pbG8lMEFhbmQlMjBQaW5vJTJDJTIwRnJhbmNpc2NvJTIwSi4lMjBhbmQlMjBQaWF0dGluaSUyQyUyME1hcmlvJTIwYW5kJTIwVmlzYWdnaW8lMkMlMjBHaXVzZXBwZSUyMiUyQyUwQSUyMCUyMCUyMCUyMCUyMCUyMCUyMCUyMHBsYWNlJTNEU1FKJTJDJTBBJTIwJTIwJTIwJTIwJTIwJTIwJTIwJTIwcHAlM0QlMjIzMDktLTMzNSUyMiUyQyUwQSUyMCUyMCUyMCUyMCUyMCUyMCUyMCUyMGVudHJ5dHlwZSUzRCUyMmFydGljbGUlMjIlMkMlMEElMjAlMjAlMjAlMjAlMjAlMjAlMjAlMjBtb250aCUzRCUyMkp1biUyMiUyQyUwQSUyMCUyMCUyMCUyMCUyMCUyMCUyMCUyMGRheSUzRCUyMjAxJTIyJTJDJTBBJTIwJTIwJTIwJTIwJTIwJTIwJTIwJTIwdm9sdW1lJTNEJTIyMjAlMjIlMkMlMEElMjAlMjAlMjAlMjAlMjAlMjAlMjAlMjBudW1iZXIlM0QlMjIyJTIyJTJDJTBBJTIwJTIwJTIwJTIwJTIwJTIwJTIwJTIwaXNzbiUzRCUyMjE1NzMtMTM2NyUyMiUyQyUwQSUyMCUyMCUyMCUyMCUyMCUyMCUyMCUyMGRvaSUzRCUyMjEwLjEwMDcvczExMjE5LTAxMS05MTU0LTclMjIlMkMlMEElMjAlMjAlMjAlMjAlMjAlMjAlMjAlMjBJRCUzRCUyMkJhbGRhc3NhcnJlMjAxMiUyMiUyQyUwQSUyMCUyMCUyMCUyMCUyMCUyMCUyMCUyMHNwcmluZ2VyMjAxNSUzRCUyMjElMjIlMkMlMEElMjAlMjAlMjAlMjAlMjAlMjAlMjAlMjBwbGFjZXglM0QlMjJTb2Z0d2FyZSUyMFF1YWxpdHklMjBKb3VybmFsJTIyJTJDJTBBJTIwJTIwJTIwJTIwJTI5JTI5JTBBJTI3JTI3JTI3JTI5JTNC\")));\n",
       "    "
      ],
      "text/plain": [
       "<IPython.core.display.Javascript object>"
      ]
     },
     "metadata": {},
     "output_type": "display_data"
    },
    {
     "data": {
      "application/javascript": [
       "$('span:contains(\"# Temp\")').closest('.cell').remove();"
      ],
      "text/plain": [
       "<IPython.core.display.Javascript object>"
      ]
     },
     "metadata": {},
     "output_type": "display_data"
    },
    {
     "data": {
      "application/javascript": [
       "\n",
       "        $('span:contains(\"# Temp\")').closest('.cell').remove();\n",
       "        var code = IPython.notebook.insert_cell_below('code');\n",
       "        code.set_text(decodeURIComponent(window.atob(\"JTIzJTIwVGVtcCUwQWluc2VydCUyOCUyNyUyNyUyNyUwQSUyMCUyMCUyMCUyMGJhbGRhc3NhcnJlMjAxMmElMjAlM0QlMjBEQiUyOFdvcmtVbnJlbGF0ZWQlMjglMEElMjAlMjAlMjAlMjAlMjAlMjAlMjAlMjAyMDEyJTJDJTIwJTIySGFybW9uaXphdGlvbiUyMG9mJTIwSVNPL0lFQyUyMDkwMDElM0EyMDAwJTIwYW5kJTIwQ01NSS1ERVYlM0ElMjBmcm9tJTIwYSUyMHRoZW9yZXRpY2FsJTIwY29tcGFyaXNvbiUyMHRvJTIwYSUyMHJlYWwlMjBjYXNlJTIwYXBwbGljYXRpb24lMjIlMkMlMEElMjAlMjAlMjAlMjAlMjAlMjAlMjAlMjBkaXNwbGF5JTNEJTIyYmFsZGFzc2FycmUlMjIlMkMlMEElMjAlMjAlMjAlMjAlMjAlMjAlMjAlMjBhdXRob3JzJTNEJTIyQmFsZGFzc2FycmUlMkMlMjBNYXJpYSUyMFRlcmVzYSUyMGFuZCUyMENhaXZhbm8lMkMlMjBEYW5pbG8lMEFhbmQlMjBQaW5vJTJDJTIwRnJhbmNpc2NvJTIwSi4lMjBhbmQlMjBQaWF0dGluaSUyQyUyME1hcmlvJTIwYW5kJTIwVmlzYWdnaW8lMkMlMjBHaXVzZXBwZSUyMiUyQyUwQSUyMCUyMCUyMCUyMCUyMCUyMCUyMCUyMHBsYWNlJTNEU1FKJTJDJTBBJTIwJTIwJTIwJTIwJTIwJTIwJTIwJTIwcHAlM0QlMjIzMDktLTMzNSUyMiUyQyUwQSUyMCUyMCUyMCUyMCUyMCUyMCUyMCUyMGVudHJ5dHlwZSUzRCUyMmFydGljbGUlMjIlMkMlMEElMjAlMjAlMjAlMjAlMjAlMjAlMjAlMjBtb250aCUzRCUyMkp1biUyMiUyQyUwQSUyMCUyMCUyMCUyMCUyMCUyMCUyMCUyMGRheSUzRCUyMjAxJTIyJTJDJTBBJTIwJTIwJTIwJTIwJTIwJTIwJTIwJTIwdm9sdW1lJTNEJTIyMjAlMjIlMkMlMEElMjAlMjAlMjAlMjAlMjAlMjAlMjAlMjBudW1iZXIlM0QlMjIyJTIyJTJDJTBBJTIwJTIwJTIwJTIwJTIwJTIwJTIwJTIwaXNzbiUzRCUyMjE1NzMtMTM2NyUyMiUyQyUwQSUyMCUyMCUyMCUyMCUyMCUyMCUyMCUyMGRvaSUzRCUyMjEwLjEwMDcvczExMjE5LTAxMS05MTU0LTclMjIlMkMlMEElMjAlMjAlMjAlMjAlMjAlMjAlMjAlMjBJRCUzRCUyMkJhbGRhc3NhcnJlMjAxMiUyMiUyQyUwQSUyMCUyMCUyMCUyMCUyMCUyMCUyMCUyMHNwcmluZ2VyMjAxNSUzRCUyMjElMjIlMkMlMEElMjAlMjAlMjAlMjAlMjAlMjAlMjAlMjBwbGFjZXglM0QlMjJTb2Z0d2FyZSUyMFF1YWxpdHklMjBKb3VybmFsJTIyJTJDJTBBJTIwJTIwJTIwJTIwJTI5JTI5JTBBJTI3JTI3JTI3JTI5JTNC\")));\n",
       "    "
      ],
      "text/plain": [
       "<IPython.core.display.Javascript object>"
      ]
     },
     "metadata": {},
     "output_type": "display_data"
    },
    {
     "data": {
      "application/javascript": [
       "$('span:contains(\"# Temp\")').closest('.cell').remove();"
      ],
      "text/plain": [
       "<IPython.core.display.Javascript object>"
      ]
     },
     "metadata": {},
     "output_type": "display_data"
    },
    {
     "data": {
      "application/javascript": [
       "\n",
       "        $('span:contains(\"# Temp\")').closest('.cell').remove();\n",
       "        var code = IPython.notebook.insert_cell_below('code');\n",
       "        code.set_text(decodeURIComponent(window.atob(\"JTIzJTIwVGVtcCUwQWluc2VydCUyOCUyNyUyNyUyNyUwQSUyMCUyMCUyMCUyMGdhcmMyMDEwYSUyMCUzRCUyMERCJTI4V29ya1VucmVsYXRlZCUyOCUwQSUyMCUyMCUyMCUyMCUyMCUyMCUyMCUyMDIwMTAlMkMlMjAlMjJIb3clMjB0byUyMGdldCUyMG1hdHVyZSUyMGdsb2JhbCUyMHZpcnR1YWwlMjB0ZWFtcyUzQSUyMGElMjBmcmFtZXdvcmslMjB0byUyMGltcHJvdmUlMjB0ZWFtJTIwcHJvY2VzcyUyMG1hbmFnZW1lbnQlMjBpbiUyMGRpc3RyaWJ1dGVkJTIwc29mdHdhcmUlMjB0ZWFtcyUyMiUyQyUwQSUyMCUyMCUyMCUyMCUyMCUyMCUyMCUyMGRpc3BsYXklM0QlMjJnYXJjJTIyJTJDJTBBJTIwJTIwJTIwJTIwJTIwJTIwJTIwJTIwYXV0aG9ycyUzRCUyMkdhcmMlN0JpJUNDJTgxJTdEYSUyMEd1em0lQzMlQTFuJTJDJTIwSmF2aWVyJTBBYW5kJTIwU2FsZGElN0IlQzMlQjElN0RhJTIwUmFtb3MlMkMlMjBKYXZpZXIlMEFhbmQlMjBBbWVzY3VhJTIwU2VjbyUyQyUyMEFudG9uaW8lMEFhbmQlMjBTYW56JTIwRXN0ZWJhbiUyQyUyMEFuYSUyMiUyQyUwQSUyMCUyMCUyMCUyMCUyMCUyMCUyMCUyMHBsYWNlJTNEU1FKJTJDJTBBJTIwJTIwJTIwJTIwJTIwJTIwJTIwJTIwcHAlM0QlMjI0MDktLTQzNSUyMiUyQyUwQSUyMCUyMCUyMCUyMCUyMCUyMCUyMCUyMGVudHJ5dHlwZSUzRCUyMmFydGljbGUlMjIlMkMlMEElMjAlMjAlMjAlMjAlMjAlMjAlMjAlMjBtb250aCUzRCUyMkRlYyUyMiUyQyUwQSUyMCUyMCUyMCUyMCUyMCUyMCUyMCUyMGRheSUzRCUyMjAxJTIyJTJDJTBBJTIwJTIwJTIwJTIwJTIwJTIwJTIwJTIwdm9sdW1lJTNEJTIyMTglMjIlMkMlMEElMjAlMjAlMjAlMjAlMjAlMjAlMjAlMjBudW1iZXIlM0QlMjI0JTIyJTJDJTBBJTIwJTIwJTIwJTIwJTIwJTIwJTIwJTIwaXNzbiUzRCUyMjE1NzMtMTM2NyUyMiUyQyUwQSUyMCUyMCUyMCUyMCUyMCUyMCUyMCUyMGRvaSUzRCUyMjEwLjEwMDcvczExMjE5LTAxMC05MDk2LTUlMjIlMkMlMEElMjAlMjAlMjAlMjAlMjAlMjAlMjAlMjBJRCUzRCUyMkdhcmMlQzMlQURhR3V6bSVDMyVBMW4yMDEwJTIyJTJDJTBBJTIwJTIwJTIwJTIwJTIwJTIwJTIwJTIwc3ByaW5nZXIyMDE1JTNEJTIyMSUyMiUyQyUwQSUyMCUyMCUyMCUyMCUyMCUyMCUyMCUyMHBsYWNleCUzRCUyMlNvZnR3YXJlJTIwUXVhbGl0eSUyMEpvdXJuYWwlMjIlMkMlMEElMjAlMjAlMjAlMjAlMjklMjklMEElMjclMjclMjclMjklM0I=\")));\n",
       "    "
      ],
      "text/plain": [
       "<IPython.core.display.Javascript object>"
      ]
     },
     "metadata": {},
     "output_type": "display_data"
    },
    {
     "data": {
      "application/javascript": [
       "$('span:contains(\"# Temp\")').closest('.cell').remove();"
      ],
      "text/plain": [
       "<IPython.core.display.Javascript object>"
      ]
     },
     "metadata": {},
     "output_type": "display_data"
    },
    {
     "data": {
      "application/javascript": [
       "\n",
       "        $('span:contains(\"# Temp\")').closest('.cell').remove();\n",
       "        var code = IPython.notebook.insert_cell_below('code');\n",
       "        code.set_text(decodeURIComponent(window.atob(\"JTIzJTIwVGVtcCUwQWluc2VydCUyOCUyNyUyNyUyNyUwQSUyMCUyMCUyMCUyMGdhcmMyMDEwYSUyMCUzRCUyMERCJTI4V29ya1VucmVsYXRlZCUyOCUwQSUyMCUyMCUyMCUyMCUyMCUyMCUyMCUyMDIwMTAlMkMlMjAlMjJIb3clMjB0byUyMGdldCUyMG1hdHVyZSUyMGdsb2JhbCUyMHZpcnR1YWwlMjB0ZWFtcyUzQSUyMGElMjBmcmFtZXdvcmslMjB0byUyMGltcHJvdmUlMjB0ZWFtJTIwcHJvY2VzcyUyMG1hbmFnZW1lbnQlMjBpbiUyMGRpc3RyaWJ1dGVkJTIwc29mdHdhcmUlMjB0ZWFtcyUyMiUyQyUwQSUyMCUyMCUyMCUyMCUyMCUyMCUyMCUyMGRpc3BsYXklM0QlMjJnYXJjJTIyJTJDJTBBJTIwJTIwJTIwJTIwJTIwJTIwJTIwJTIwYXV0aG9ycyUzRCUyMkdhcmMlN0JpJUNDJTgxJTdEYSUyMEd1em0lQzMlQTFuJTJDJTIwSmF2aWVyJTBBYW5kJTIwU2FsZGElN0IlQzMlQjElN0RhJTIwUmFtb3MlMkMlMjBKYXZpZXIlMEFhbmQlMjBBbWVzY3VhJTIwU2VjbyUyQyUyMEFudG9uaW8lMEFhbmQlMjBTYW56JTIwRXN0ZWJhbiUyQyUyMEFuYSUyMiUyQyUwQSUyMCUyMCUyMCUyMCUyMCUyMCUyMCUyMHBsYWNlJTNEU1FKJTJDJTBBJTIwJTIwJTIwJTIwJTIwJTIwJTIwJTIwcHAlM0QlMjI0MDktLTQzNSUyMiUyQyUwQSUyMCUyMCUyMCUyMCUyMCUyMCUyMCUyMGVudHJ5dHlwZSUzRCUyMmFydGljbGUlMjIlMkMlMEElMjAlMjAlMjAlMjAlMjAlMjAlMjAlMjBtb250aCUzRCUyMkRlYyUyMiUyQyUwQSUyMCUyMCUyMCUyMCUyMCUyMCUyMCUyMGRheSUzRCUyMjAxJTIyJTJDJTBBJTIwJTIwJTIwJTIwJTIwJTIwJTIwJTIwdm9sdW1lJTNEJTIyMTglMjIlMkMlMEElMjAlMjAlMjAlMjAlMjAlMjAlMjAlMjBudW1iZXIlM0QlMjI0JTIyJTJDJTBBJTIwJTIwJTIwJTIwJTIwJTIwJTIwJTIwaXNzbiUzRCUyMjE1NzMtMTM2NyUyMiUyQyUwQSUyMCUyMCUyMCUyMCUyMCUyMCUyMCUyMGRvaSUzRCUyMjEwLjEwMDcvczExMjE5LTAxMC05MDk2LTUlMjIlMkMlMEElMjAlMjAlMjAlMjAlMjAlMjAlMjAlMjBJRCUzRCUyMkdhcmMlQzMlQURhR3V6bSVDMyVBMW4yMDEwJTIyJTJDJTBBJTIwJTIwJTIwJTIwJTIwJTIwJTIwJTIwc3ByaW5nZXIyMDE1JTNEJTIyMSUyMiUyQyUwQSUyMCUyMCUyMCUyMCUyMCUyMCUyMCUyMHBsYWNleCUzRCUyMlNvZnR3YXJlJTIwUXVhbGl0eSUyMEpvdXJuYWwlMjIlMkMlMEElMjAlMjAlMjAlMjAlMjklMjklMEElMjclMjclMjclMjklM0I=\")));\n",
       "    "
      ],
      "text/plain": [
       "<IPython.core.display.Javascript object>"
      ]
     },
     "metadata": {},
     "output_type": "display_data"
    },
    {
     "data": {
      "application/javascript": [
       "$('span:contains(\"# Temp\")').closest('.cell').remove();"
      ],
      "text/plain": [
       "<IPython.core.display.Javascript object>"
      ]
     },
     "metadata": {},
     "output_type": "display_data"
    },
    {
     "data": {
      "application/javascript": [
       "\n",
       "        $('span:contains(\"# Temp\")').closest('.cell').remove();\n",
       "        var code = IPython.notebook.insert_cell_below('code');\n",
       "        code.set_text(decodeURIComponent(window.atob(\"JTIzJTIwVGVtcCUwQWluc2VydCUyOCUyNyUyNyUyNyUwQWViZXJ0MTk5OWMlMjAlM0QlMjBEQiUyOFdvcmtVbnJlbGF0ZWQlMjglMEElMjAlMjAlMjAlMjAxOTk5JTJDJTIwJTIySW1wcm92aW5nJTIwcmVsaWFiaWxpdHklMjBvZiUyMGxhcmdlJTIwc29mdHdhcmUlMjBzeXN0ZW1zJTIyJTJDJTBBJTIwJTIwJTIwJTIwZGlzcGxheSUzRCUyMmViZXJ0JTIwYyUyMiUyQyUwQSUyMCUyMCUyMCUyMGF1dGhvcnMlM0QlMjJFYmVydCUyQyUyMENocmlzdG9mJTIwYW5kJTIwTGllZHRrZSUyQyUyMFRob21hcyUyMGFuZCUyMEJhaXNjaCUyQyUyMEVra2VoYXJkJTIyJTJDJTBBJTIwJTIwJTIwJTIwcGxhY2UlM0RGQUtFJTJDJTBBJTIwJTIwJTIwJTIwcHAlM0QlMjIzLS01MSUyMiUyQyUwQSUyMCUyMCUyMCUyMGVudHJ5dHlwZSUzRCUyMmFydGljbGUlMjIlMkMlMEElMjAlMjAlMjAlMjBtb250aCUzRCUyMkZlYiUyMiUyQyUwQSUyMCUyMCUyMCUyMGRheSUzRCUyMjAxJTIyJTJDJTBBJTIwJTIwJTIwJTIwdm9sdW1lJTNEJTIyOCUyMiUyQyUwQSUyMCUyMCUyMCUyMG51bWJlciUzRCUyMjElMjIlMkMlMEElMjAlMjAlMjAlMjBpc3NuJTNEJTIyMTU3My03NDg5JTIyJTJDJTBBJTIwJTIwJTIwJTIwZG9pJTNEJTIyMTAuMTAyMy9BJTNBMTAxODk3MTIxMjgwOSUyMiUyQyUwQSUyMCUyMCUyMCUyMElEJTNEJTIyRWJlcnQxOTk5JTIyJTJDJTBBJTIwJTIwJTIwJTIwc3ByaW5nZXIyMDE1JTNEJTIyMSUyMiUyQyUwQSUyMCUyMCUyMCUyMHBsYWNleCUzRCUyMkFubmFscyUyMG9mJTIwU29mdHdhcmUlMjBFbmdpbmVlcmluZyUyMiUyQyUwQSUyOSUyOSUwQSUyNyUyNyUyNyUyOSUzQg==\")));\n",
       "    "
      ],
      "text/plain": [
       "<IPython.core.display.Javascript object>"
      ]
     },
     "metadata": {},
     "output_type": "display_data"
    },
    {
     "data": {
      "application/javascript": [
       "$('span:contains(\"# Temp\")').closest('.cell').remove();"
      ],
      "text/plain": [
       "<IPython.core.display.Javascript object>"
      ]
     },
     "metadata": {},
     "output_type": "display_data"
    },
    {
     "data": {
      "application/javascript": [
       "\n",
       "        $('span:contains(\"# Temp\")').closest('.cell').remove();\n",
       "        var code = IPython.notebook.insert_cell_below('code');\n",
       "        code.set_text(decodeURIComponent(window.atob(\"JTIzJTIwVGVtcCUwQWluc2VydCUyOCUyNyUyNyUyNyUwQWViZXJ0MTk5OWMlMjAlM0QlMjBEQiUyOFdvcmtVbnJlbGF0ZWQlMjglMEElMjAlMjAlMjAlMjAxOTk5JTJDJTIwJTIySW1wcm92aW5nJTIwcmVsaWFiaWxpdHklMjBvZiUyMGxhcmdlJTIwc29mdHdhcmUlMjBzeXN0ZW1zJTIyJTJDJTBBJTIwJTIwJTIwJTIwZGlzcGxheSUzRCUyMmViZXJ0JTIwYyUyMiUyQyUwQSUyMCUyMCUyMCUyMGF1dGhvcnMlM0QlMjJFYmVydCUyQyUyMENocmlzdG9mJTIwYW5kJTIwTGllZHRrZSUyQyUyMFRob21hcyUyMGFuZCUyMEJhaXNjaCUyQyUyMEVra2VoYXJkJTIyJTJDJTBBJTIwJTIwJTIwJTIwcGxhY2UlM0RGQUtFJTJDJTBBJTIwJTIwJTIwJTIwcHAlM0QlMjIzLS01MSUyMiUyQyUwQSUyMCUyMCUyMCUyMGVudHJ5dHlwZSUzRCUyMmFydGljbGUlMjIlMkMlMEElMjAlMjAlMjAlMjBtb250aCUzRCUyMkZlYiUyMiUyQyUwQSUyMCUyMCUyMCUyMGRheSUzRCUyMjAxJTIyJTJDJTBBJTIwJTIwJTIwJTIwdm9sdW1lJTNEJTIyOCUyMiUyQyUwQSUyMCUyMCUyMCUyMG51bWJlciUzRCUyMjElMjIlMkMlMEElMjAlMjAlMjAlMjBpc3NuJTNEJTIyMTU3My03NDg5JTIyJTJDJTBBJTIwJTIwJTIwJTIwZG9pJTNEJTIyMTAuMTAyMy9BJTNBMTAxODk3MTIxMjgwOSUyMiUyQyUwQSUyMCUyMCUyMCUyMElEJTNEJTIyRWJlcnQxOTk5JTIyJTJDJTBBJTIwJTIwJTIwJTIwc3ByaW5nZXIyMDE1JTNEJTIyMSUyMiUyQyUwQSUyMCUyMCUyMCUyMHBsYWNleCUzRCUyMkFubmFscyUyMG9mJTIwU29mdHdhcmUlMjBFbmdpbmVlcmluZyUyMiUyQyUwQSUyOSUyOSUwQSUyNyUyNyUyNyUyOSUzQg==\")));\n",
       "    "
      ],
      "text/plain": [
       "<IPython.core.display.Javascript object>"
      ]
     },
     "metadata": {},
     "output_type": "display_data"
    },
    {
     "data": {
      "application/javascript": [
       "$('span:contains(\"# Temp\")').closest('.cell').remove();"
      ],
      "text/plain": [
       "<IPython.core.display.Javascript object>"
      ]
     },
     "metadata": {},
     "output_type": "display_data"
    },
    {
     "data": {
      "application/javascript": [
       "\n",
       "        $('span:contains(\"# Temp\")').closest('.cell').remove();\n",
       "        var code = IPython.notebook.insert_cell_below('code');\n",
       "        code.set_text(decodeURIComponent(window.atob(\"JTIzJTIwVGVtcCUwQWluc2VydCUyOCUyNyUyNyUyNyUwQWNvY2NoaW8xOTk5YSUyMCUzRCUyMERCJTI4V29ya1VucmVsYXRlZCUyOCUwQSUyMCUyMCUyMCUyMDE5OTklMkMlMjAlMjJJbmR1c3RyaWFsJTIwUmVxdWlyZW1lbnRzJTIwZm9yJTIwRGlzdHJpYnV0ZWQlMjBTQ00lMjBUb29sJTIyJTJDJTBBJTIwJTIwJTIwJTIwZGlzcGxheSUzRCUyMmNvY2NoaW8lMjIlMkMlMEElMjAlMjAlMjAlMjBhdXRob3JzJTNEJTIyQ29jY2hpbyUyQyUyMEx1aXNhJTIwYW5kJTIwUHV0dGVybyUyQyUyMERhdmlkZSUyMiUyQyUwQSUyMCUyMCUyMCUyMHBsYWNlJTNEU1FKJTJDJTBBJTIwJTIwJTIwJTIwcHAlM0QlMjIxMTEtLTEyMCUyMiUyQyUwQSUyMCUyMCUyMCUyMGVudHJ5dHlwZSUzRCUyMmFydGljbGUlMjIlMkMlMEElMjAlMjAlMjAlMjBtb250aCUzRCUyMk9jdCUyMiUyQyUwQSUyMCUyMCUyMCUyMGRheSUzRCUyMjAxJTIyJTJDJTBBJTIwJTIwJTIwJTIwdm9sdW1lJTNEJTIyOCUyMiUyQyUwQSUyMCUyMCUyMCUyMG51bWJlciUzRCUyMjIlMjIlMkMlMEElMjAlMjAlMjAlMjBpc3NuJTNEJTIyMTU3My0xMzY3JTIyJTJDJTBBJTIwJTIwJTIwJTIwZG9pJTNEJTIyMTAuMTAyMy9BJTNBMTAwODk1MjgwOTkxOSUyMiUyQyUwQSUyMCUyMCUyMCUyMElEJTNEJTIyQ29jY2hpbzE5OTklMjIlMkMlMEElMjAlMjAlMjAlMjBzcHJpbmdlcjIwMTUlM0QlMjIxJTIyJTJDJTBBJTIwJTIwJTIwJTIwcGxhY2V4JTNEJTIyU29mdHdhcmUlMjBRdWFsaXR5JTIwSm91cm5hbCUyMiUyQyUwQSUyOSUyOSUwQSUyNyUyNyUyNyUyOSUzQg==\")));\n",
       "    "
      ],
      "text/plain": [
       "<IPython.core.display.Javascript object>"
      ]
     },
     "metadata": {},
     "output_type": "display_data"
    },
    {
     "data": {
      "application/javascript": [
       "$('span:contains(\"# Temp\")').closest('.cell').remove();"
      ],
      "text/plain": [
       "<IPython.core.display.Javascript object>"
      ]
     },
     "metadata": {},
     "output_type": "display_data"
    },
    {
     "data": {
      "application/javascript": [
       "\n",
       "        $('span:contains(\"# Temp\")').closest('.cell').remove();\n",
       "        var code = IPython.notebook.insert_cell_below('code');\n",
       "        code.set_text(decodeURIComponent(window.atob(\"JTIzJTIwVGVtcCUwQWluc2VydCUyOCUyNyUyNyUyNyUwQWNvY2NoaW8xOTk5YSUyMCUzRCUyMERCJTI4V29ya1VucmVsYXRlZCUyOCUwQSUyMCUyMCUyMCUyMDE5OTklMkMlMjAlMjJJbmR1c3RyaWFsJTIwUmVxdWlyZW1lbnRzJTIwZm9yJTIwRGlzdHJpYnV0ZWQlMjBTQ00lMjBUb29sJTIyJTJDJTBBJTIwJTIwJTIwJTIwZGlzcGxheSUzRCUyMmNvY2NoaW8lMjIlMkMlMEElMjAlMjAlMjAlMjBhdXRob3JzJTNEJTIyQ29jY2hpbyUyQyUyMEx1aXNhJTIwYW5kJTIwUHV0dGVybyUyQyUyMERhdmlkZSUyMiUyQyUwQSUyMCUyMCUyMCUyMHBsYWNlJTNEU1FKJTJDJTBBJTIwJTIwJTIwJTIwcHAlM0QlMjIxMTEtLTEyMCUyMiUyQyUwQSUyMCUyMCUyMCUyMGVudHJ5dHlwZSUzRCUyMmFydGljbGUlMjIlMkMlMEElMjAlMjAlMjAlMjBtb250aCUzRCUyMk9jdCUyMiUyQyUwQSUyMCUyMCUyMCUyMGRheSUzRCUyMjAxJTIyJTJDJTBBJTIwJTIwJTIwJTIwdm9sdW1lJTNEJTIyOCUyMiUyQyUwQSUyMCUyMCUyMCUyMG51bWJlciUzRCUyMjIlMjIlMkMlMEElMjAlMjAlMjAlMjBpc3NuJTNEJTIyMTU3My0xMzY3JTIyJTJDJTBBJTIwJTIwJTIwJTIwZG9pJTNEJTIyMTAuMTAyMy9BJTNBMTAwODk1MjgwOTkxOSUyMiUyQyUwQSUyMCUyMCUyMCUyMElEJTNEJTIyQ29jY2hpbzE5OTklMjIlMkMlMEElMjAlMjAlMjAlMjBzcHJpbmdlcjIwMTUlM0QlMjIxJTIyJTJDJTBBJTIwJTIwJTIwJTIwcGxhY2V4JTNEJTIyU29mdHdhcmUlMjBRdWFsaXR5JTIwSm91cm5hbCUyMiUyQyUwQSUyOSUyOSUwQSUyNyUyNyUyNyUyOSUzQg==\")));\n",
       "    "
      ],
      "text/plain": [
       "<IPython.core.display.Javascript object>"
      ]
     },
     "metadata": {},
     "output_type": "display_data"
    },
    {
     "data": {
      "application/javascript": [
       "$('span:contains(\"# Temp\")').closest('.cell').remove();"
      ],
      "text/plain": [
       "<IPython.core.display.Javascript object>"
      ]
     },
     "metadata": {},
     "output_type": "display_data"
    },
    {
     "data": {
      "application/javascript": [
       "\n",
       "        $('span:contains(\"# Temp\")').closest('.cell').remove();\n",
       "        var code = IPython.notebook.insert_cell_below('code');\n",
       "        code.set_text(decodeURIComponent(window.atob(\"JTIzJTIwVGVtcCUwQWluc2VydCUyOCUyNyUyNyUyNyUwQXNhbW9pbGVua28yMDA4YSUyMCUzRCUyMERCJTI4V29ya1VucmVsYXRlZCUyOCUwQSUyMCUyMCUyMCUyMDIwMDglMkMlMjAlMjJJbmZvcm1hdGlvbiUyMHN5c3RlbXMlMjBmaXRuZXNzJTIwYW5kJTIwcmlzayUyMGluJTIwSVMlMjBkZXZlbG9wbWVudCUzQSUyMEluc2lnaHRzJTIwYW5kJTIwaW1wbGljYXRpb25zJTIwZnJvbSUyMGNoYW9zJTIwYW5kJTIwY29tcGxleCUyMHN5c3RlbXMlMjB0aGVvcmllcyUyMiUyQyUwQSUyMCUyMCUyMCUyMGRpc3BsYXklM0QlMjJzYW1vaWxlbmtvJTIyJTJDJTBBJTIwJTIwJTIwJTIwYXV0aG9ycyUzRCUyMlNhbW9pbGVua28lMkMlMjBTZXJnZXklMjIlMkMlMEElMjAlMjAlMjAlMjBwbGFjZSUzREZBS0UlMkMlMEElMjAlMjAlMjAlMjBwcCUzRCUyMjI4MSUyMiUyQyUwQSUyMCUyMCUyMCUyMGVudHJ5dHlwZSUzRCUyMmFydGljbGUlMjIlMkMlMEElMjAlMjAlMjAlMjBtb250aCUzRCUyMk1heSUyMiUyQyUwQSUyMCUyMCUyMCUyMGRheSUzRCUyMjEzJTIyJTJDJTBBJTIwJTIwJTIwJTIwdm9sdW1lJTNEJTIyMTAlMjIlMkMlMEElMjAlMjAlMjAlMjBudW1iZXIlM0QlMjIzJTIyJTJDJTBBJTIwJTIwJTIwJTIwaXNzbiUzRCUyMjE1NzItOTQxOSUyMiUyQyUwQSUyMCUyMCUyMCUyMGRvaSUzRCUyMjEwLjEwMDcvczEwNzk2LTAwOC05MDc4LTMlMjIlMkMlMEElMjAlMjAlMjAlMjBJRCUzRCUyMlNhbW9pbGVua28yMDA4JTIyJTJDJTBBJTIwJTIwJTIwJTIwc3ByaW5nZXIyMDE1JTNEJTIyMSUyMiUyQyUwQSUyMCUyMCUyMCUyMHBsYWNleCUzRCUyMkluZm9ybWF0aW9uJTIwU3lzdGVtcyUyMEZyb250aWVycyUyMiUyQyUwQSUyOSUyOSUwQSUyNyUyNyUyNyUyOSUzQg==\")));\n",
       "    "
      ],
      "text/plain": [
       "<IPython.core.display.Javascript object>"
      ]
     },
     "metadata": {},
     "output_type": "display_data"
    },
    {
     "data": {
      "application/javascript": [
       "$('span:contains(\"# Temp\")').closest('.cell').remove();"
      ],
      "text/plain": [
       "<IPython.core.display.Javascript object>"
      ]
     },
     "metadata": {},
     "output_type": "display_data"
    },
    {
     "data": {
      "application/javascript": [
       "\n",
       "        $('span:contains(\"# Temp\")').closest('.cell').remove();\n",
       "        var code = IPython.notebook.insert_cell_below('code');\n",
       "        code.set_text(decodeURIComponent(window.atob(\"JTIzJTIwVGVtcCUwQWluc2VydCUyOCUyNyUyNyUyNyUwQXNhbW9pbGVua28yMDA4YSUyMCUzRCUyMERCJTI4V29ya1VucmVsYXRlZCUyOCUwQSUyMCUyMCUyMCUyMDIwMDglMkMlMjAlMjJJbmZvcm1hdGlvbiUyMHN5c3RlbXMlMjBmaXRuZXNzJTIwYW5kJTIwcmlzayUyMGluJTIwSVMlMjBkZXZlbG9wbWVudCUzQSUyMEluc2lnaHRzJTIwYW5kJTIwaW1wbGljYXRpb25zJTIwZnJvbSUyMGNoYW9zJTIwYW5kJTIwY29tcGxleCUyMHN5c3RlbXMlMjB0aGVvcmllcyUyMiUyQyUwQSUyMCUyMCUyMCUyMGRpc3BsYXklM0QlMjJzYW1vaWxlbmtvJTIyJTJDJTBBJTIwJTIwJTIwJTIwYXV0aG9ycyUzRCUyMlNhbW9pbGVua28lMkMlMjBTZXJnZXklMjIlMkMlMEElMjAlMjAlMjAlMjBwbGFjZSUzREZBS0UlMkMlMEElMjAlMjAlMjAlMjBwcCUzRCUyMjI4MSUyMiUyQyUwQSUyMCUyMCUyMCUyMGVudHJ5dHlwZSUzRCUyMmFydGljbGUlMjIlMkMlMEElMjAlMjAlMjAlMjBtb250aCUzRCUyMk1heSUyMiUyQyUwQSUyMCUyMCUyMCUyMGRheSUzRCUyMjEzJTIyJTJDJTBBJTIwJTIwJTIwJTIwdm9sdW1lJTNEJTIyMTAlMjIlMkMlMEElMjAlMjAlMjAlMjBudW1iZXIlM0QlMjIzJTIyJTJDJTBBJTIwJTIwJTIwJTIwaXNzbiUzRCUyMjE1NzItOTQxOSUyMiUyQyUwQSUyMCUyMCUyMCUyMGRvaSUzRCUyMjEwLjEwMDcvczEwNzk2LTAwOC05MDc4LTMlMjIlMkMlMEElMjAlMjAlMjAlMjBJRCUzRCUyMlNhbW9pbGVua28yMDA4JTIyJTJDJTBBJTIwJTIwJTIwJTIwc3ByaW5nZXIyMDE1JTNEJTIyMSUyMiUyQyUwQSUyMCUyMCUyMCUyMHBsYWNleCUzRCUyMkluZm9ybWF0aW9uJTIwU3lzdGVtcyUyMEZyb250aWVycyUyMiUyQyUwQSUyOSUyOSUwQSUyNyUyNyUyNyUyOSUzQg==\")));\n",
       "    "
      ],
      "text/plain": [
       "<IPython.core.display.Javascript object>"
      ]
     },
     "metadata": {},
     "output_type": "display_data"
    },
    {
     "data": {
      "application/javascript": [
       "$('span:contains(\"# Temp\")').closest('.cell').remove();"
      ],
      "text/plain": [
       "<IPython.core.display.Javascript object>"
      ]
     },
     "metadata": {},
     "output_type": "display_data"
    },
    {
     "data": {
      "application/javascript": [
       "\n",
       "        $('span:contains(\"# Temp\")').closest('.cell').remove();\n",
       "        var code = IPython.notebook.insert_cell_below('code');\n",
       "        code.set_text(decodeURIComponent(window.atob(\"JTIzJTIwVGVtcCUwQWluc2VydCUyOCUyNyUyNyUyNyUwQWthcmxzdHIlQzMlQjZtMjAwNmElMjAlM0QlMjBEQiUyOFdvcmtVbnJlbGF0ZWQlMjglMEElMjAlMjAlMjAlMjAyMDA2JTJDJTIwJTIySW50ZWdyYXRpbmclMjBhZ2lsZSUyMHNvZnR3YXJlJTIwZGV2ZWxvcG1lbnQlMjBpbnRvJTIwc3RhZ2UtZ2F0ZSUyMG1hbmFnZWQlMjBwcm9kdWN0JTIwZGV2ZWxvcG1lbnQlMjIlMkMlMEElMjAlMjAlMjAlMjBkaXNwbGF5JTNEJTIya2FybHN0ciVDMyVCNm0lMjIlMkMlMEElMjAlMjAlMjAlMjBhdXRob3JzJTNEJTIyS2FybHN0ciVDMyVCNm0lMkMlMjBEYW5pZWwlMjBhbmQlMjBSdW5lc29uJTJDJTIwUGVyJTIyJTJDJTBBJTIwJTIwJTIwJTIwcGxhY2UlM0RFU0UlMkMlMEElMjAlMjAlMjAlMjBwcCUzRCUyMjIwMy0tMjI1JTIyJTJDJTBBJTIwJTIwJTIwJTIwZW50cnl0eXBlJTNEJTIyYXJ0aWNsZSUyMiUyQyUwQSUyMCUyMCUyMCUyMG1vbnRoJTNEJTIySnVuJTIyJTJDJTBBJTIwJTIwJTIwJTIwZGF5JTNEJTIyMDElMjIlMkMlMEElMjAlMjAlMjAlMjB2b2x1bWUlM0QlMjIxMSUyMiUyQyUwQSUyMCUyMCUyMCUyMG51bWJlciUzRCUyMjIlMjIlMkMlMEElMjAlMjAlMjAlMjBpc3NuJTNEJTIyMTU3My03NjE2JTIyJTJDJTBBJTIwJTIwJTIwJTIwZG9pJTNEJTIyMTAuMTAwNy9zMTA2NjQtMDA2LTY0MDItOCUyMiUyQyUwQSUyMCUyMCUyMCUyMElEJTNEJTIyS2FybHN0ciVDMyVCNm0yMDA2JTIyJTJDJTBBJTIwJTIwJTIwJTIwc3ByaW5nZXIyMDE1JTNEJTIyMSUyMiUyQyUwQSUyMCUyMCUyMCUyMHBsYWNleCUzRCUyMkVtcGlyaWNhbCUyMFNvZnR3YXJlJTIwRW5naW5lZXJpbmclMjIlMkMlMEElMjklMjklMEElMjclMjclMjclMjklM0I=\")));\n",
       "    "
      ],
      "text/plain": [
       "<IPython.core.display.Javascript object>"
      ]
     },
     "metadata": {},
     "output_type": "display_data"
    },
    {
     "data": {
      "application/javascript": [
       "$('span:contains(\"# Temp\")').closest('.cell').remove();"
      ],
      "text/plain": [
       "<IPython.core.display.Javascript object>"
      ]
     },
     "metadata": {},
     "output_type": "display_data"
    },
    {
     "data": {
      "application/javascript": [
       "\n",
       "        $('span:contains(\"# Temp\")').closest('.cell').remove();\n",
       "        var code = IPython.notebook.insert_cell_below('code');\n",
       "        code.set_text(decodeURIComponent(window.atob(\"JTIzJTIwVGVtcCUwQWluc2VydCUyOCUyNyUyNyUyNyUwQWthcmxzdHIlQzMlQjZtMjAwNmElMjAlM0QlMjBEQiUyOFdvcmtVbnJlbGF0ZWQlMjglMEElMjAlMjAlMjAlMjAyMDA2JTJDJTIwJTIySW50ZWdyYXRpbmclMjBhZ2lsZSUyMHNvZnR3YXJlJTIwZGV2ZWxvcG1lbnQlMjBpbnRvJTIwc3RhZ2UtZ2F0ZSUyMG1hbmFnZWQlMjBwcm9kdWN0JTIwZGV2ZWxvcG1lbnQlMjIlMkMlMEElMjAlMjAlMjAlMjBkaXNwbGF5JTNEJTIya2FybHN0ciVDMyVCNm0lMjIlMkMlMEElMjAlMjAlMjAlMjBhdXRob3JzJTNEJTIyS2FybHN0ciVDMyVCNm0lMkMlMjBEYW5pZWwlMjBhbmQlMjBSdW5lc29uJTJDJTIwUGVyJTIyJTJDJTBBJTIwJTIwJTIwJTIwcGxhY2UlM0RFU0UlMkMlMEElMjAlMjAlMjAlMjBwcCUzRCUyMjIwMy0tMjI1JTIyJTJDJTBBJTIwJTIwJTIwJTIwZW50cnl0eXBlJTNEJTIyYXJ0aWNsZSUyMiUyQyUwQSUyMCUyMCUyMCUyMG1vbnRoJTNEJTIySnVuJTIyJTJDJTBBJTIwJTIwJTIwJTIwZGF5JTNEJTIyMDElMjIlMkMlMEElMjAlMjAlMjAlMjB2b2x1bWUlM0QlMjIxMSUyMiUyQyUwQSUyMCUyMCUyMCUyMG51bWJlciUzRCUyMjIlMjIlMkMlMEElMjAlMjAlMjAlMjBpc3NuJTNEJTIyMTU3My03NjE2JTIyJTJDJTBBJTIwJTIwJTIwJTIwZG9pJTNEJTIyMTAuMTAwNy9zMTA2NjQtMDA2LTY0MDItOCUyMiUyQyUwQSUyMCUyMCUyMCUyMElEJTNEJTIyS2FybHN0ciVDMyVCNm0yMDA2JTIyJTJDJTBBJTIwJTIwJTIwJTIwc3ByaW5nZXIyMDE1JTNEJTIyMSUyMiUyQyUwQSUyMCUyMCUyMCUyMHBsYWNleCUzRCUyMkVtcGlyaWNhbCUyMFNvZnR3YXJlJTIwRW5naW5lZXJpbmclMjIlMkMlMEElMjklMjklMEElMjclMjclMjclMjklM0I=\")));\n",
       "    "
      ],
      "text/plain": [
       "<IPython.core.display.Javascript object>"
      ]
     },
     "metadata": {},
     "output_type": "display_data"
    },
    {
     "data": {
      "application/javascript": [
       "$('span:contains(\"# Temp\")').closest('.cell').remove();"
      ],
      "text/plain": [
       "<IPython.core.display.Javascript object>"
      ]
     },
     "metadata": {},
     "output_type": "display_data"
    },
    {
     "data": {
      "application/javascript": [
       "\n",
       "        $('span:contains(\"# Temp\")').closest('.cell').remove();\n",
       "        var code = IPython.notebook.insert_cell_below('code');\n",
       "        code.set_text(decodeURIComponent(window.atob(\"JTIzJTIwVGVtcCUwQWluc2VydCUyOCUyNyUyNyUyNyUwQW1hdXJlcjIwMDJhJTIwJTNEJTIwREIlMjhXb3JrVW5yZWxhdGVkJTI4JTBBJTIwJTIwJTIwJTIwMjAwMiUyQyUyMCUyMkludGVncmF0aW5nJTIwUHJvY2VzcyUyMFN1cHBvcnQlMjBhbmQlMjBLbm93bGVkZ2UlMjBNYW5hZ2VtZW50JTIwZm9yJTIwVmlydHVhbCUyMFNvZnR3YXJlJTIwRGV2ZWxvcG1lbnQlMjBUZWFtcyUyMiUyQyUwQSUyMCUyMCUyMCUyMGRpc3BsYXklM0QlMjJtYXVyZXIlMjIlMkMlMEElMjAlMjAlMjAlMjBhdXRob3JzJTNEJTIyTWF1cmVyJTJDJTIwRnJhbmslMjBhbmQlMjBIb2x6JTJDJTIwSGFyYWxkJTIyJTJDJTBBJTIwJTIwJTIwJTIwcGxhY2UlM0RGQUtFJTJDJTBBJTIwJTIwJTIwJTIwcHAlM0QlMjIxNDUtLTE2OCUyMiUyQyUwQSUyMCUyMCUyMCUyMGVudHJ5dHlwZSUzRCUyMmFydGljbGUlMjIlMkMlMEElMjAlMjAlMjAlMjBtb250aCUzRCUyMkRlYyUyMiUyQyUwQSUyMCUyMCUyMCUyMGRheSUzRCUyMjAxJTIyJTJDJTBBJTIwJTIwJTIwJTIwdm9sdW1lJTNEJTIyMTQlMjIlMkMlMEElMjAlMjAlMjAlMjBudW1iZXIlM0QlMjIxJTIyJTJDJTBBJTIwJTIwJTIwJTIwaXNzbiUzRCUyMjE1NzMtNzQ4OSUyMiUyQyUwQSUyMCUyMCUyMCUyMGRvaSUzRCUyMjEwLjEwMjMvQSUzQTEwMjA1MDU3MDgzMjYlMjIlMkMlMEElMjAlMjAlMjAlMjBJRCUzRCUyMk1hdXJlcjIwMDIlMjIlMkMlMEElMjAlMjAlMjAlMjBzcHJpbmdlcjIwMTUlM0QlMjIxJTIyJTJDJTBBJTIwJTIwJTIwJTIwcGxhY2V4JTNEJTIyQW5uYWxzJTIwb2YlMjBTb2Z0d2FyZSUyMEVuZ2luZWVyaW5nJTIyJTJDJTBBJTI5JTI5JTBBJTI3JTI3JTI3JTI5JTNC\")));\n",
       "    "
      ],
      "text/plain": [
       "<IPython.core.display.Javascript object>"
      ]
     },
     "metadata": {},
     "output_type": "display_data"
    },
    {
     "data": {
      "application/javascript": [
       "$('span:contains(\"# Temp\")').closest('.cell').remove();"
      ],
      "text/plain": [
       "<IPython.core.display.Javascript object>"
      ]
     },
     "metadata": {},
     "output_type": "display_data"
    },
    {
     "data": {
      "application/javascript": [
       "\n",
       "        $('span:contains(\"# Temp\")').closest('.cell').remove();\n",
       "        var code = IPython.notebook.insert_cell_below('code');\n",
       "        code.set_text(decodeURIComponent(window.atob(\"JTIzJTIwVGVtcCUwQWluc2VydCUyOCUyNyUyNyUyNyUwQW1hdXJlcjIwMDJhJTIwJTNEJTIwREIlMjhXb3JrVW5yZWxhdGVkJTI4JTBBJTIwJTIwJTIwJTIwMjAwMiUyQyUyMCUyMkludGVncmF0aW5nJTIwUHJvY2VzcyUyMFN1cHBvcnQlMjBhbmQlMjBLbm93bGVkZ2UlMjBNYW5hZ2VtZW50JTIwZm9yJTIwVmlydHVhbCUyMFNvZnR3YXJlJTIwRGV2ZWxvcG1lbnQlMjBUZWFtcyUyMiUyQyUwQSUyMCUyMCUyMCUyMGRpc3BsYXklM0QlMjJtYXVyZXIlMjIlMkMlMEElMjAlMjAlMjAlMjBhdXRob3JzJTNEJTIyTWF1cmVyJTJDJTIwRnJhbmslMjBhbmQlMjBIb2x6JTJDJTIwSGFyYWxkJTIyJTJDJTBBJTIwJTIwJTIwJTIwcGxhY2UlM0RGQUtFJTJDJTBBJTIwJTIwJTIwJTIwcHAlM0QlMjIxNDUtLTE2OCUyMiUyQyUwQSUyMCUyMCUyMCUyMGVudHJ5dHlwZSUzRCUyMmFydGljbGUlMjIlMkMlMEElMjAlMjAlMjAlMjBtb250aCUzRCUyMkRlYyUyMiUyQyUwQSUyMCUyMCUyMCUyMGRheSUzRCUyMjAxJTIyJTJDJTBBJTIwJTIwJTIwJTIwdm9sdW1lJTNEJTIyMTQlMjIlMkMlMEElMjAlMjAlMjAlMjBudW1iZXIlM0QlMjIxJTIyJTJDJTBBJTIwJTIwJTIwJTIwaXNzbiUzRCUyMjE1NzMtNzQ4OSUyMiUyQyUwQSUyMCUyMCUyMCUyMGRvaSUzRCUyMjEwLjEwMjMvQSUzQTEwMjA1MDU3MDgzMjYlMjIlMkMlMEElMjAlMjAlMjAlMjBJRCUzRCUyMk1hdXJlcjIwMDIlMjIlMkMlMEElMjAlMjAlMjAlMjBzcHJpbmdlcjIwMTUlM0QlMjIxJTIyJTJDJTBBJTIwJTIwJTIwJTIwcGxhY2V4JTNEJTIyQW5uYWxzJTIwb2YlMjBTb2Z0d2FyZSUyMEVuZ2luZWVyaW5nJTIyJTJDJTBBJTI5JTI5JTBBJTI3JTI3JTI3JTI5JTNC\")));\n",
       "    "
      ],
      "text/plain": [
       "<IPython.core.display.Javascript object>"
      ]
     },
     "metadata": {},
     "output_type": "display_data"
    },
    {
     "data": {
      "application/javascript": [
       "$('span:contains(\"# Temp\")').closest('.cell').remove();"
      ],
      "text/plain": [
       "<IPython.core.display.Javascript object>"
      ]
     },
     "metadata": {},
     "output_type": "display_data"
    },
    {
     "data": {
      "application/javascript": [
       "\n",
       "        $('span:contains(\"# Temp\")').closest('.cell').remove();\n",
       "        var code = IPython.notebook.insert_cell_below('code');\n",
       "        code.set_text(decodeURIComponent(window.atob(\"JTIzJTIwVGVtcCUwQWluc2VydCUyOCUyNyUyNyUyNyUwQWZlbGRlcmVyMjAxNGIlMjAlM0QlMjBEQiUyOFdvcmtVbnJlbGF0ZWQlMjglMEElMjAlMjAlMjAlMjAyMDE0JTJDJTIwJTIySW50ZWdyYXRpbmclMjByaXNrLWJhc2VkJTIwdGVzdGluZyUyMGluJTIwaW5kdXN0cmlhbCUyMHRlc3QlMjBwcm9jZXNzZXMlMjIlMkMlMEElMjAlMjAlMjAlMjBkaXNwbGF5JTNEJTIyZmVsZGVyZXIlMjBiJTIyJTJDJTBBJTIwJTIwJTIwJTIwYXV0aG9ycyUzRCUyMkZlbGRlcmVyJTJDJTIwTWljaGFlbCUyMGFuZCUyMFJhbWxlciUyQyUyMFJ1ZG9sZiUyMiUyQyUwQSUyMCUyMCUyMCUyMHBsYWNlJTNEU1FKJTJDJTBBJTIwJTIwJTIwJTIwcHAlM0QlMjI1NDMtLTU3NSUyMiUyQyUwQSUyMCUyMCUyMCUyMGVudHJ5dHlwZSUzRCUyMmFydGljbGUlMjIlMkMlMEElMjAlMjAlMjAlMjBtb250aCUzRCUyMlNlcCUyMiUyQyUwQSUyMCUyMCUyMCUyMGRheSUzRCUyMjAxJTIyJTJDJTBBJTIwJTIwJTIwJTIwdm9sdW1lJTNEJTIyMjIlMjIlMkMlMEElMjAlMjAlMjAlMjBudW1iZXIlM0QlMjIzJTIyJTJDJTBBJTIwJTIwJTIwJTIwaXNzbiUzRCUyMjE1NzMtMTM2NyUyMiUyQyUwQSUyMCUyMCUyMCUyMGRvaSUzRCUyMjEwLjEwMDcvczExMjE5LTAxMy05MjI2LXklMjIlMkMlMEElMjAlMjAlMjAlMjBJRCUzRCUyMkZlbGRlcmVyMjAxNCUyMiUyQyUwQSUyMCUyMCUyMCUyMHNwcmluZ2VyMjAxNSUzRCUyMjElMjIlMkMlMEElMjAlMjAlMjAlMjBwbGFjZXglM0QlMjJTb2Z0d2FyZSUyMFF1YWxpdHklMjBKb3VybmFsJTIyJTJDJTBBJTI5JTI5JTBBJTI3JTI3JTI3JTI5JTNC\")));\n",
       "    "
      ],
      "text/plain": [
       "<IPython.core.display.Javascript object>"
      ]
     },
     "metadata": {},
     "output_type": "display_data"
    },
    {
     "data": {
      "application/javascript": [
       "$('span:contains(\"# Temp\")').closest('.cell').remove();"
      ],
      "text/plain": [
       "<IPython.core.display.Javascript object>"
      ]
     },
     "metadata": {},
     "output_type": "display_data"
    },
    {
     "data": {
      "application/javascript": [
       "\n",
       "        $('span:contains(\"# Temp\")').closest('.cell').remove();\n",
       "        var code = IPython.notebook.insert_cell_below('code');\n",
       "        code.set_text(decodeURIComponent(window.atob(\"JTIzJTIwVGVtcCUwQWluc2VydCUyOCUyNyUyNyUyNyUwQWZlbGRlcmVyMjAxNGIlMjAlM0QlMjBEQiUyOFdvcmtVbnJlbGF0ZWQlMjglMEElMjAlMjAlMjAlMjAyMDE0JTJDJTIwJTIySW50ZWdyYXRpbmclMjByaXNrLWJhc2VkJTIwdGVzdGluZyUyMGluJTIwaW5kdXN0cmlhbCUyMHRlc3QlMjBwcm9jZXNzZXMlMjIlMkMlMEElMjAlMjAlMjAlMjBkaXNwbGF5JTNEJTIyZmVsZGVyZXIlMjBiJTIyJTJDJTBBJTIwJTIwJTIwJTIwYXV0aG9ycyUzRCUyMkZlbGRlcmVyJTJDJTIwTWljaGFlbCUyMGFuZCUyMFJhbWxlciUyQyUyMFJ1ZG9sZiUyMiUyQyUwQSUyMCUyMCUyMCUyMHBsYWNlJTNEU1FKJTJDJTBBJTIwJTIwJTIwJTIwcHAlM0QlMjI1NDMtLTU3NSUyMiUyQyUwQSUyMCUyMCUyMCUyMGVudHJ5dHlwZSUzRCUyMmFydGljbGUlMjIlMkMlMEElMjAlMjAlMjAlMjBtb250aCUzRCUyMlNlcCUyMiUyQyUwQSUyMCUyMCUyMCUyMGRheSUzRCUyMjAxJTIyJTJDJTBBJTIwJTIwJTIwJTIwdm9sdW1lJTNEJTIyMjIlMjIlMkMlMEElMjAlMjAlMjAlMjBudW1iZXIlM0QlMjIzJTIyJTJDJTBBJTIwJTIwJTIwJTIwaXNzbiUzRCUyMjE1NzMtMTM2NyUyMiUyQyUwQSUyMCUyMCUyMCUyMGRvaSUzRCUyMjEwLjEwMDcvczExMjE5LTAxMy05MjI2LXklMjIlMkMlMEElMjAlMjAlMjAlMjBJRCUzRCUyMkZlbGRlcmVyMjAxNCUyMiUyQyUwQSUyMCUyMCUyMCUyMHNwcmluZ2VyMjAxNSUzRCUyMjElMjIlMkMlMEElMjAlMjAlMjAlMjBwbGFjZXglM0QlMjJTb2Z0d2FyZSUyMFF1YWxpdHklMjBKb3VybmFsJTIyJTJDJTBBJTI5JTI5JTBBJTI3JTI3JTI3JTI5JTNC\")));\n",
       "    "
      ],
      "text/plain": [
       "<IPython.core.display.Javascript object>"
      ]
     },
     "metadata": {},
     "output_type": "display_data"
    },
    {
     "data": {
      "application/javascript": [
       "$('span:contains(\"# Temp\")').closest('.cell').remove();"
      ],
      "text/plain": [
       "<IPython.core.display.Javascript object>"
      ]
     },
     "metadata": {},
     "output_type": "display_data"
    },
    {
     "data": {
      "application/javascript": [
       "\n",
       "        $('span:contains(\"# Temp\")').closest('.cell').remove();\n",
       "        var code = IPython.notebook.insert_cell_below('code');\n",
       "        code.set_text(decodeURIComponent(window.atob(\"JTIzJTIwVGVtcCUwQWluc2VydCUyOCUyNyUyNyUyNyUwQWh1bXBocmV5MTk5NWIlMjAlM0QlMjBEQiUyOFdvcmtVbnJlbGF0ZWQlMjglMEElMjAlMjAlMjAlMjAxOTk1JTJDJTIwJTIySW50cm9kdWNpbmclMjB0aGUlMjBwZXJzb25hbCUyMHNvZnR3YXJlJTIwcHJvY2VzcyUyMiUyQyUwQSUyMCUyMCUyMCUyMGRpc3BsYXklM0QlMjJodW1waHJleSUyMGIlMjIlMkMlMEElMjAlMjAlMjAlMjBhdXRob3JzJTNEJTIySHVtcGhyZXklMkMlMjBXYXR0cyUyMFMuJTIyJTJDJTBBJTIwJTIwJTIwJTIwcGxhY2UlM0RGQUtFJTJDJTBBJTIwJTIwJTIwJTIwcHAlM0QlMjIzMTEtLTMyNSUyMiUyQyUwQSUyMCUyMCUyMCUyMGVudHJ5dHlwZSUzRCUyMmFydGljbGUlMjIlMkMlMEElMjAlMjAlMjAlMjBtb250aCUzRCUyMkRlYyUyMiUyQyUwQSUyMCUyMCUyMCUyMGRheSUzRCUyMjAxJTIyJTJDJTBBJTIwJTIwJTIwJTIwdm9sdW1lJTNEJTIyMSUyMiUyQyUwQSUyMCUyMCUyMCUyMG51bWJlciUzRCUyMjElMjIlMkMlMEElMjAlMjAlMjAlMjBpc3NuJTNEJTIyMTU3My03NDg5JTIyJTJDJTBBJTIwJTIwJTIwJTIwZG9pJTNEJTIyMTAuMTAwNy9CRjAyMjQ5MDU1JTIyJTJDJTBBJTIwJTIwJTIwJTIwSUQlM0QlMjJIdW1waHJleTE5OTUlMjIlMkMlMEElMjAlMjAlMjAlMjBzcHJpbmdlcjIwMTUlM0QlMjIxJTIyJTJDJTBBJTIwJTIwJTIwJTIwcGxhY2V4JTNEJTIyQW5uYWxzJTIwb2YlMjBTb2Z0d2FyZSUyMEVuZ2luZWVyaW5nJTIyJTJDJTBBJTI5JTI5JTBBJTI3JTI3JTI3JTI5JTNC\")));\n",
       "    "
      ],
      "text/plain": [
       "<IPython.core.display.Javascript object>"
      ]
     },
     "metadata": {},
     "output_type": "display_data"
    },
    {
     "data": {
      "application/javascript": [
       "$('span:contains(\"# Temp\")').closest('.cell').remove();"
      ],
      "text/plain": [
       "<IPython.core.display.Javascript object>"
      ]
     },
     "metadata": {},
     "output_type": "display_data"
    },
    {
     "data": {
      "application/javascript": [
       "\n",
       "        $('span:contains(\"# Temp\")').closest('.cell').remove();\n",
       "        var code = IPython.notebook.insert_cell_below('code');\n",
       "        code.set_text(decodeURIComponent(window.atob(\"JTIzJTIwVGVtcCUwQWluc2VydCUyOCUyNyUyNyUyNyUwQWh1bXBocmV5MTk5NWIlMjAlM0QlMjBEQiUyOFdvcmtVbnJlbGF0ZWQlMjglMEElMjAlMjAlMjAlMjAxOTk1JTJDJTIwJTIySW50cm9kdWNpbmclMjB0aGUlMjBwZXJzb25hbCUyMHNvZnR3YXJlJTIwcHJvY2VzcyUyMiUyQyUwQSUyMCUyMCUyMCUyMGRpc3BsYXklM0QlMjJodW1waHJleSUyMGIlMjIlMkMlMEElMjAlMjAlMjAlMjBhdXRob3JzJTNEJTIySHVtcGhyZXklMkMlMjBXYXR0cyUyMFMuJTIyJTJDJTBBJTIwJTIwJTIwJTIwcGxhY2UlM0RGQUtFJTJDJTBBJTIwJTIwJTIwJTIwcHAlM0QlMjIzMTEtLTMyNSUyMiUyQyUwQSUyMCUyMCUyMCUyMGVudHJ5dHlwZSUzRCUyMmFydGljbGUlMjIlMkMlMEElMjAlMjAlMjAlMjBtb250aCUzRCUyMkRlYyUyMiUyQyUwQSUyMCUyMCUyMCUyMGRheSUzRCUyMjAxJTIyJTJDJTBBJTIwJTIwJTIwJTIwdm9sdW1lJTNEJTIyMSUyMiUyQyUwQSUyMCUyMCUyMCUyMG51bWJlciUzRCUyMjElMjIlMkMlMEElMjAlMjAlMjAlMjBpc3NuJTNEJTIyMTU3My03NDg5JTIyJTJDJTBBJTIwJTIwJTIwJTIwZG9pJTNEJTIyMTAuMTAwNy9CRjAyMjQ5MDU1JTIyJTJDJTBBJTIwJTIwJTIwJTIwSUQlM0QlMjJIdW1waHJleTE5OTUlMjIlMkMlMEElMjAlMjAlMjAlMjBzcHJpbmdlcjIwMTUlM0QlMjIxJTIyJTJDJTBBJTIwJTIwJTIwJTIwcGxhY2V4JTNEJTIyQW5uYWxzJTIwb2YlMjBTb2Z0d2FyZSUyMEVuZ2luZWVyaW5nJTIyJTJDJTBBJTI5JTI5JTBBJTI3JTI3JTI3JTI5JTNC\")));\n",
       "    "
      ],
      "text/plain": [
       "<IPython.core.display.Javascript object>"
      ]
     },
     "metadata": {},
     "output_type": "display_data"
    },
    {
     "data": {
      "application/javascript": [
       "$('span:contains(\"# Temp\")').closest('.cell').remove();"
      ],
      "text/plain": [
       "<IPython.core.display.Javascript object>"
      ]
     },
     "metadata": {},
     "output_type": "display_data"
    },
    {
     "data": {
      "application/javascript": [
       "\n",
       "        $('span:contains(\"# Temp\")').closest('.cell').remove();\n",
       "        var code = IPython.notebook.insert_cell_below('code');\n",
       "        code.set_text(decodeURIComponent(window.atob(\"JTIzJTIwVGVtcCUwQWluc2VydCUyOCUyNyUyNyUyNyUwQWphbGlmZjE5OTdhJTIwJTNEJTIwREIlMjhXb3JrVW5yZWxhdGVkJTI4JTBBJTIwJTIwJTIwJTIwMTk5NyUyQyUyMCUyMkludHJvZHVjdGlvbiUyMG9mJTIwbW9kZXJuJTIwc29mdHdhcmUlMjB0ZWNobm9sb2d5LiUyMEElMjBjYXNlJTIwZnJvbSUyMFN3ZWRpc2glMjBpbmR1c3RyeSUyMiUyQyUwQSUyMCUyMCUyMCUyMGRpc3BsYXklM0QlMjJqYWxpZmYlMjIlMkMlMEElMjAlMjAlMjAlMjBhdXRob3JzJTNEJTIySmFsaWZmJTJDJTIwSi4lMjBTLiUyMGFuZCUyMEpvbnNzb24lMkMlMjBDLiUyMCVDMyU4NS4lMjBhbmQlMjBManVuZ2JsYWQlMkMlMjBBLiUyMiUyQyUwQSUyMCUyMCUyMCUyMHBsYWNlJTNEU1FKJTJDJTBBJTIwJTIwJTIwJTIwcHAlM0QlMjIxLS0xMSUyMiUyQyUwQSUyMCUyMCUyMCUyMGVudHJ5dHlwZSUzRCUyMmFydGljbGUlMjIlMkMlMEElMjAlMjAlMjAlMjBtb250aCUzRCUyMk1hciUyMiUyQyUwQSUyMCUyMCUyMCUyMGRheSUzRCUyMjAxJTIyJTJDJTBBJTIwJTIwJTIwJTIwdm9sdW1lJTNEJTIyNiUyMiUyQyUwQSUyMCUyMCUyMCUyMG51bWJlciUzRCUyMjElMjIlMkMlMEElMjAlMjAlMjAlMjBpc3NuJTNEJTIyMTU3My0xMzY3JTIyJTJDJTBBJTIwJTIwJTIwJTIwZG9pJTNEJTIyMTAuMTAyMy9BJTNBMTAxODUzNjcyNjYzNCUyMiUyQyUwQSUyMCUyMCUyMCUyMElEJTNEJTIySmFsaWZmMTk5NyUyMiUyQyUwQSUyMCUyMCUyMCUyMHNwcmluZ2VyMjAxNSUzRCUyMjElMjIlMkMlMEElMjAlMjAlMjAlMjBwbGFjZXglM0QlMjJTb2Z0d2FyZSUyMFF1YWxpdHklMjBKb3VybmFsJTIyJTJDJTBBJTI5JTI5JTBBJTI3JTI3JTI3JTI5JTNC\")));\n",
       "    "
      ],
      "text/plain": [
       "<IPython.core.display.Javascript object>"
      ]
     },
     "metadata": {},
     "output_type": "display_data"
    },
    {
     "data": {
      "application/javascript": [
       "$('span:contains(\"# Temp\")').closest('.cell').remove();"
      ],
      "text/plain": [
       "<IPython.core.display.Javascript object>"
      ]
     },
     "metadata": {},
     "output_type": "display_data"
    },
    {
     "data": {
      "application/javascript": [
       "\n",
       "        $('span:contains(\"# Temp\")').closest('.cell').remove();\n",
       "        var code = IPython.notebook.insert_cell_below('code');\n",
       "        code.set_text(decodeURIComponent(window.atob(\"JTIzJTIwVGVtcCUwQWluc2VydCUyOCUyNyUyNyUyNyUwQWphbGlmZjE5OTdhJTIwJTNEJTIwREIlMjhXb3JrVW5yZWxhdGVkJTI4JTBBJTIwJTIwJTIwJTIwMTk5NyUyQyUyMCUyMkludHJvZHVjdGlvbiUyMG9mJTIwbW9kZXJuJTIwc29mdHdhcmUlMjB0ZWNobm9sb2d5LiUyMEElMjBjYXNlJTIwZnJvbSUyMFN3ZWRpc2glMjBpbmR1c3RyeSUyMiUyQyUwQSUyMCUyMCUyMCUyMGRpc3BsYXklM0QlMjJqYWxpZmYlMjIlMkMlMEElMjAlMjAlMjAlMjBhdXRob3JzJTNEJTIySmFsaWZmJTJDJTIwSi4lMjBTLiUyMGFuZCUyMEpvbnNzb24lMkMlMjBDLiUyMCVDMyU4NS4lMjBhbmQlMjBManVuZ2JsYWQlMkMlMjBBLiUyMiUyQyUwQSUyMCUyMCUyMCUyMHBsYWNlJTNEU1FKJTJDJTBBJTIwJTIwJTIwJTIwcHAlM0QlMjIxLS0xMSUyMiUyQyUwQSUyMCUyMCUyMCUyMGVudHJ5dHlwZSUzRCUyMmFydGljbGUlMjIlMkMlMEElMjAlMjAlMjAlMjBtb250aCUzRCUyMk1hciUyMiUyQyUwQSUyMCUyMCUyMCUyMGRheSUzRCUyMjAxJTIyJTJDJTBBJTIwJTIwJTIwJTIwdm9sdW1lJTNEJTIyNiUyMiUyQyUwQSUyMCUyMCUyMCUyMG51bWJlciUzRCUyMjElMjIlMkMlMEElMjAlMjAlMjAlMjBpc3NuJTNEJTIyMTU3My0xMzY3JTIyJTJDJTBBJTIwJTIwJTIwJTIwZG9pJTNEJTIyMTAuMTAyMy9BJTNBMTAxODUzNjcyNjYzNCUyMiUyQyUwQSUyMCUyMCUyMCUyMElEJTNEJTIySmFsaWZmMTk5NyUyMiUyQyUwQSUyMCUyMCUyMCUyMHNwcmluZ2VyMjAxNSUzRCUyMjElMjIlMkMlMEElMjAlMjAlMjAlMjBwbGFjZXglM0QlMjJTb2Z0d2FyZSUyMFF1YWxpdHklMjBKb3VybmFsJTIyJTJDJTBBJTI5JTI5JTBBJTI3JTI3JTI3JTI5JTNC\")));\n",
       "    "
      ],
      "text/plain": [
       "<IPython.core.display.Javascript object>"
      ]
     },
     "metadata": {},
     "output_type": "display_data"
    },
    {
     "data": {
      "application/javascript": [
       "$('span:contains(\"# Temp\")').closest('.cell').remove();"
      ],
      "text/plain": [
       "<IPython.core.display.Javascript object>"
      ]
     },
     "metadata": {},
     "output_type": "display_data"
    },
    {
     "data": {
      "application/javascript": [
       "\n",
       "        $('span:contains(\"# Temp\")').closest('.cell').remove();\n",
       "        var code = IPython.notebook.insert_cell_below('code');\n",
       "        code.set_text(decodeURIComponent(window.atob(\"JTIzJTIwVGVtcCUwQWluc2VydCUyOCUyNyUyNyUyNyUwQXRhcmhhbjIwMTFhJTIwJTNEJTIwREIlMjhXb3JrVW5yZWxhdGVkJTI4JTBBJTIwJTIwJTIwJTIwMjAxMSUyQyUyMCUyMkludmVzdGlnYXRpbmclMjB0aGUlMjBlZmZlY3QlMjBvZiUyMHZhcmlhdGlvbnMlMjBpbiUyMHRoZSUyMHRlc3QlMjBkZXZlbG9wbWVudCUyMHByb2Nlc3MlM0ElMjBhJTIwY2FzZSUyMGZyb20lMjBhJTIwc2FmZXR5LWNyaXRpY2FsJTIwc3lzdGVtJTIyJTJDJTBBJTIwJTIwJTIwJTIwZGlzcGxheSUzRCUyMnRhcmhhbiUyMiUyQyUwQSUyMCUyMCUyMCUyMGF1dGhvcnMlM0QlMjJUYXJoYW4lMkMlMjBBeWNhJTIwYW5kJTIwRGVtaXJvcnMlMkMlMjBPbnVyJTIyJTJDJTBBJTIwJTIwJTIwJTIwcGxhY2UlM0RTUUolMkMlMEElMjAlMjAlMjAlMjBwcCUzRCUyMjYxNS0tNjQyJTIyJTJDJTBBJTIwJTIwJTIwJTIwZW50cnl0eXBlJTNEJTIyYXJ0aWNsZSUyMiUyQyUwQSUyMCUyMCUyMCUyMG1vbnRoJTNEJTIyRGVjJTIyJTJDJTBBJTIwJTIwJTIwJTIwZGF5JTNEJTIyMDElMjIlMkMlMEElMjAlMjAlMjAlMjB2b2x1bWUlM0QlMjIxOSUyMiUyQyUwQSUyMCUyMCUyMCUyMG51bWJlciUzRCUyMjQlMjIlMkMlMEElMjAlMjAlMjAlMjBpc3NuJTNEJTIyMTU3My0xMzY3JTIyJTJDJTBBJTIwJTIwJTIwJTIwZG9pJTNEJTIyMTAuMTAwNy9zMTEyMTktMDExLTkxMjktOCUyMiUyQyUwQSUyMCUyMCUyMCUyMElEJTNEJTIyVGFyaGFuMjAxMSUyMiUyQyUwQSUyMCUyMCUyMCUyMHNwcmluZ2VyMjAxNSUzRCUyMjElMjIlMkMlMEElMjAlMjAlMjAlMjBwbGFjZXglM0QlMjJTb2Z0d2FyZSUyMFF1YWxpdHklMjBKb3VybmFsJTIyJTJDJTBBJTI5JTI5JTBBJTI3JTI3JTI3JTI5JTNC\")));\n",
       "    "
      ],
      "text/plain": [
       "<IPython.core.display.Javascript object>"
      ]
     },
     "metadata": {},
     "output_type": "display_data"
    },
    {
     "data": {
      "application/javascript": [
       "$('span:contains(\"# Temp\")').closest('.cell').remove();"
      ],
      "text/plain": [
       "<IPython.core.display.Javascript object>"
      ]
     },
     "metadata": {},
     "output_type": "display_data"
    },
    {
     "data": {
      "application/javascript": [
       "\n",
       "        $('span:contains(\"# Temp\")').closest('.cell').remove();\n",
       "        var code = IPython.notebook.insert_cell_below('code');\n",
       "        code.set_text(decodeURIComponent(window.atob(\"JTIzJTIwVGVtcCUwQWluc2VydCUyOCUyNyUyNyUyNyUwQXRhcmhhbjIwMTFhJTIwJTNEJTIwREIlMjhXb3JrVW5yZWxhdGVkJTI4JTBBJTIwJTIwJTIwJTIwMjAxMSUyQyUyMCUyMkludmVzdGlnYXRpbmclMjB0aGUlMjBlZmZlY3QlMjBvZiUyMHZhcmlhdGlvbnMlMjBpbiUyMHRoZSUyMHRlc3QlMjBkZXZlbG9wbWVudCUyMHByb2Nlc3MlM0ElMjBhJTIwY2FzZSUyMGZyb20lMjBhJTIwc2FmZXR5LWNyaXRpY2FsJTIwc3lzdGVtJTIyJTJDJTBBJTIwJTIwJTIwJTIwZGlzcGxheSUzRCUyMnRhcmhhbiUyMiUyQyUwQSUyMCUyMCUyMCUyMGF1dGhvcnMlM0QlMjJUYXJoYW4lMkMlMjBBeWNhJTIwYW5kJTIwRGVtaXJvcnMlMkMlMjBPbnVyJTIyJTJDJTBBJTIwJTIwJTIwJTIwcGxhY2UlM0RTUUolMkMlMEElMjAlMjAlMjAlMjBwcCUzRCUyMjYxNS0tNjQyJTIyJTJDJTBBJTIwJTIwJTIwJTIwZW50cnl0eXBlJTNEJTIyYXJ0aWNsZSUyMiUyQyUwQSUyMCUyMCUyMCUyMG1vbnRoJTNEJTIyRGVjJTIyJTJDJTBBJTIwJTIwJTIwJTIwZGF5JTNEJTIyMDElMjIlMkMlMEElMjAlMjAlMjAlMjB2b2x1bWUlM0QlMjIxOSUyMiUyQyUwQSUyMCUyMCUyMCUyMG51bWJlciUzRCUyMjQlMjIlMkMlMEElMjAlMjAlMjAlMjBpc3NuJTNEJTIyMTU3My0xMzY3JTIyJTJDJTBBJTIwJTIwJTIwJTIwZG9pJTNEJTIyMTAuMTAwNy9zMTEyMTktMDExLTkxMjktOCUyMiUyQyUwQSUyMCUyMCUyMCUyMElEJTNEJTIyVGFyaGFuMjAxMSUyMiUyQyUwQSUyMCUyMCUyMCUyMHNwcmluZ2VyMjAxNSUzRCUyMjElMjIlMkMlMEElMjAlMjAlMjAlMjBwbGFjZXglM0QlMjJTb2Z0d2FyZSUyMFF1YWxpdHklMjBKb3VybmFsJTIyJTJDJTBBJTI5JTI5JTBBJTI3JTI3JTI3JTI5JTNC\")));\n",
       "    "
      ],
      "text/plain": [
       "<IPython.core.display.Javascript object>"
      ]
     },
     "metadata": {},
     "output_type": "display_data"
    },
    {
     "data": {
      "application/javascript": [
       "$('span:contains(\"# Temp\")').closest('.cell').remove();"
      ],
      "text/plain": [
       "<IPython.core.display.Javascript object>"
      ]
     },
     "metadata": {},
     "output_type": "display_data"
    },
    {
     "data": {
      "application/javascript": [
       "\n",
       "        $('span:contains(\"# Temp\")').closest('.cell').remove();\n",
       "        var code = IPython.notebook.insert_cell_below('code');\n",
       "        code.set_text(decodeURIComponent(window.atob(\"JTIzJTIwVGVtcCUwQWluc2VydCUyOCUyNyUyNyUyNyUwQXNmZXRzb3MyMDA2YSUyMCUzRCUyMERCJTI4V29ya1VucmVsYXRlZCUyOCUwQSUyMCUyMCUyMCUyMDIwMDYlMkMlMjAlMjJJbnZlc3RpZ2F0aW5nJTIwdGhlJTIwZXh0cmVtZSUyMHByb2dyYW1taW5nJTIwc3lzdGVtLS1BbiUyMGVtcGlyaWNhbCUyMHN0dWR5JTIyJTJDJTBBJTIwJTIwJTIwJTIwZGlzcGxheSUzRCUyMnNmZXRzb3MlMjIlMkMlMEElMjAlMjAlMjAlMjBhdXRob3JzJTNEJTIyU2ZldHNvcyUyQyUyMFBhbmFnaW90aXMlMjBhbmQlMjBBbmdlbGlzJTJDJTIwTGVmdGVyaXMlMjBhbmQlMjBTdGFtZWxvcyUyQyUyMElvYW5uaXMlMjIlMkMlMEElMjAlMjAlMjAlMjBwbGFjZSUzREVTRSUyQyUwQSUyMCUyMCUyMCUyMHBwJTNEJTIyMjY5LS0zMDElMjIlMkMlMEElMjAlMjAlMjAlMjBlbnRyeXR5cGUlM0QlMjJhcnRpY2xlJTIyJTJDJTBBJTIwJTIwJTIwJTIwbW9udGglM0QlMjJKdW4lMjIlMkMlMEElMjAlMjAlMjAlMjBkYXklM0QlMjIwMSUyMiUyQyUwQSUyMCUyMCUyMCUyMHZvbHVtZSUzRCUyMjExJTIyJTJDJTBBJTIwJTIwJTIwJTIwbnVtYmVyJTNEJTIyMiUyMiUyQyUwQSUyMCUyMCUyMCUyMGlzc24lM0QlMjIxNTczLTc2MTYlMjIlMkMlMEElMjAlMjAlMjAlMjBkb2klM0QlMjIxMC4xMDA3L3MxMDY2NC0wMDYtNjQwNC02JTIyJTJDJTBBJTIwJTIwJTIwJTIwSUQlM0QlMjJTZmV0c29zMjAwNiUyMiUyQyUwQSUyMCUyMCUyMCUyMHNwcmluZ2VyMjAxNSUzRCUyMjElMjIlMkMlMEElMjAlMjAlMjAlMjBwbGFjZXglM0QlMjJFbXBpcmljYWwlMjBTb2Z0d2FyZSUyMEVuZ2luZWVyaW5nJTIyJTJDJTBBJTI5JTI5JTBBJTI3JTI3JTI3JTI5JTNC\")));\n",
       "    "
      ],
      "text/plain": [
       "<IPython.core.display.Javascript object>"
      ]
     },
     "metadata": {},
     "output_type": "display_data"
    },
    {
     "data": {
      "application/javascript": [
       "$('span:contains(\"# Temp\")').closest('.cell').remove();"
      ],
      "text/plain": [
       "<IPython.core.display.Javascript object>"
      ]
     },
     "metadata": {},
     "output_type": "display_data"
    },
    {
     "data": {
      "application/javascript": [
       "\n",
       "        $('span:contains(\"# Temp\")').closest('.cell').remove();\n",
       "        var code = IPython.notebook.insert_cell_below('code');\n",
       "        code.set_text(decodeURIComponent(window.atob(\"JTIzJTIwVGVtcCUwQWluc2VydCUyOCUyNyUyNyUyNyUwQXNmZXRzb3MyMDA2YSUyMCUzRCUyMERCJTI4V29ya1VucmVsYXRlZCUyOCUwQSUyMCUyMCUyMCUyMDIwMDYlMkMlMjAlMjJJbnZlc3RpZ2F0aW5nJTIwdGhlJTIwZXh0cmVtZSUyMHByb2dyYW1taW5nJTIwc3lzdGVtLS1BbiUyMGVtcGlyaWNhbCUyMHN0dWR5JTIyJTJDJTBBJTIwJTIwJTIwJTIwZGlzcGxheSUzRCUyMnNmZXRzb3MlMjIlMkMlMEElMjAlMjAlMjAlMjBhdXRob3JzJTNEJTIyU2ZldHNvcyUyQyUyMFBhbmFnaW90aXMlMjBhbmQlMjBBbmdlbGlzJTJDJTIwTGVmdGVyaXMlMjBhbmQlMjBTdGFtZWxvcyUyQyUyMElvYW5uaXMlMjIlMkMlMEElMjAlMjAlMjAlMjBwbGFjZSUzREVTRSUyQyUwQSUyMCUyMCUyMCUyMHBwJTNEJTIyMjY5LS0zMDElMjIlMkMlMEElMjAlMjAlMjAlMjBlbnRyeXR5cGUlM0QlMjJhcnRpY2xlJTIyJTJDJTBBJTIwJTIwJTIwJTIwbW9udGglM0QlMjJKdW4lMjIlMkMlMEElMjAlMjAlMjAlMjBkYXklM0QlMjIwMSUyMiUyQyUwQSUyMCUyMCUyMCUyMHZvbHVtZSUzRCUyMjExJTIyJTJDJTBBJTIwJTIwJTIwJTIwbnVtYmVyJTNEJTIyMiUyMiUyQyUwQSUyMCUyMCUyMCUyMGlzc24lM0QlMjIxNTczLTc2MTYlMjIlMkMlMEElMjAlMjAlMjAlMjBkb2klM0QlMjIxMC4xMDA3L3MxMDY2NC0wMDYtNjQwNC02JTIyJTJDJTBBJTIwJTIwJTIwJTIwSUQlM0QlMjJTZmV0c29zMjAwNiUyMiUyQyUwQSUyMCUyMCUyMCUyMHNwcmluZ2VyMjAxNSUzRCUyMjElMjIlMkMlMEElMjAlMjAlMjAlMjBwbGFjZXglM0QlMjJFbXBpcmljYWwlMjBTb2Z0d2FyZSUyMEVuZ2luZWVyaW5nJTIyJTJDJTBBJTI5JTI5JTBBJTI3JTI3JTI3JTI5JTNC\")));\n",
       "    "
      ],
      "text/plain": [
       "<IPython.core.display.Javascript object>"
      ]
     },
     "metadata": {},
     "output_type": "display_data"
    },
    {
     "data": {
      "application/javascript": [
       "$('span:contains(\"# Temp\")').closest('.cell').remove();"
      ],
      "text/plain": [
       "<IPython.core.display.Javascript object>"
      ]
     },
     "metadata": {},
     "output_type": "display_data"
    },
    {
     "data": {
      "application/javascript": [
       "\n",
       "        $('span:contains(\"# Temp\")').closest('.cell').remove();\n",
       "        var code = IPython.notebook.insert_cell_below('code');\n",
       "        code.set_text(decodeURIComponent(window.atob(\"JTIzJTIwVGVtcCUwQWluc2VydCUyOCUyNyUyNyUyNyUwQWtvY2FndW5lbGkyMDEzYSUyMCUzRCUyMERCJTI4V29ya1VucmVsYXRlZCUyOCUwQSUyMCUyMCUyMCUyMDIwMTMlMkMlMjAlMjJLZXJuZWwlMjBtZXRob2RzJTIwZm9yJTIwc29mdHdhcmUlMjBlZmZvcnQlMjBlc3RpbWF0aW9uJTIyJTJDJTBBJTIwJTIwJTIwJTIwZGlzcGxheSUzRCUyMmtvY2FndW5lbGklMjIlMkMlMEElMjAlMjAlMjAlMjBhdXRob3JzJTNEJTIyS29jYWd1bmVsaSUyQyUyMEVrcmVtJTIwYW5kJTIwTWVuemllcyUyQyUyMFRpbSUyMGFuZCUyMEtldW5nJTJDJTIwSmFja3klMjBXLiUyMiUyQyUwQSUyMCUyMCUyMCUyMHBsYWNlJTNERVNFJTJDJTBBJTIwJTIwJTIwJTIwcHAlM0QlMjIxLS0yNCUyMiUyQyUwQSUyMCUyMCUyMCUyMGVudHJ5dHlwZSUzRCUyMmFydGljbGUlMjIlMkMlMEElMjAlMjAlMjAlMjBtb250aCUzRCUyMkZlYiUyMiUyQyUwQSUyMCUyMCUyMCUyMGRheSUzRCUyMjAxJTIyJTJDJTBBJTIwJTIwJTIwJTIwdm9sdW1lJTNEJTIyMTglMjIlMkMlMEElMjAlMjAlMjAlMjBudW1iZXIlM0QlMjIxJTIyJTJDJTBBJTIwJTIwJTIwJTIwaXNzbiUzRCUyMjE1NzMtNzYxNiUyMiUyQyUwQSUyMCUyMCUyMCUyMGRvaSUzRCUyMjEwLjEwMDcvczEwNjY0LTAxMS05MTg5LTElMjIlMkMlMEElMjAlMjAlMjAlMjBJRCUzRCUyMktvY2FndW5lbGkyMDEzJTIyJTJDJTBBJTIwJTIwJTIwJTIwc3ByaW5nZXIyMDE1JTNEJTIyMSUyMiUyQyUwQSUyMCUyMCUyMCUyMHBsYWNleCUzRCUyMkVtcGlyaWNhbCUyMFNvZnR3YXJlJTIwRW5naW5lZXJpbmclMjIlMkMlMEElMjklMjklMEElMjclMjclMjclMjklM0I=\")));\n",
       "    "
      ],
      "text/plain": [
       "<IPython.core.display.Javascript object>"
      ]
     },
     "metadata": {},
     "output_type": "display_data"
    },
    {
     "data": {
      "application/javascript": [
       "$('span:contains(\"# Temp\")').closest('.cell').remove();"
      ],
      "text/plain": [
       "<IPython.core.display.Javascript object>"
      ]
     },
     "metadata": {},
     "output_type": "display_data"
    },
    {
     "data": {
      "application/javascript": [
       "\n",
       "        $('span:contains(\"# Temp\")').closest('.cell').remove();\n",
       "        var code = IPython.notebook.insert_cell_below('code');\n",
       "        code.set_text(decodeURIComponent(window.atob(\"JTIzJTIwVGVtcCUwQWluc2VydCUyOCUyNyUyNyUyNyUwQWtvY2FndW5lbGkyMDEzYSUyMCUzRCUyMERCJTI4V29ya1VucmVsYXRlZCUyOCUwQSUyMCUyMCUyMCUyMDIwMTMlMkMlMjAlMjJLZXJuZWwlMjBtZXRob2RzJTIwZm9yJTIwc29mdHdhcmUlMjBlZmZvcnQlMjBlc3RpbWF0aW9uJTIyJTJDJTBBJTIwJTIwJTIwJTIwZGlzcGxheSUzRCUyMmtvY2FndW5lbGklMjIlMkMlMEElMjAlMjAlMjAlMjBhdXRob3JzJTNEJTIyS29jYWd1bmVsaSUyQyUyMEVrcmVtJTIwYW5kJTIwTWVuemllcyUyQyUyMFRpbSUyMGFuZCUyMEtldW5nJTJDJTIwSmFja3klMjBXLiUyMiUyQyUwQSUyMCUyMCUyMCUyMHBsYWNlJTNERVNFJTJDJTBBJTIwJTIwJTIwJTIwcHAlM0QlMjIxLS0yNCUyMiUyQyUwQSUyMCUyMCUyMCUyMGVudHJ5dHlwZSUzRCUyMmFydGljbGUlMjIlMkMlMEElMjAlMjAlMjAlMjBtb250aCUzRCUyMkZlYiUyMiUyQyUwQSUyMCUyMCUyMCUyMGRheSUzRCUyMjAxJTIyJTJDJTBBJTIwJTIwJTIwJTIwdm9sdW1lJTNEJTIyMTglMjIlMkMlMEElMjAlMjAlMjAlMjBudW1iZXIlM0QlMjIxJTIyJTJDJTBBJTIwJTIwJTIwJTIwaXNzbiUzRCUyMjE1NzMtNzYxNiUyMiUyQyUwQSUyMCUyMCUyMCUyMGRvaSUzRCUyMjEwLjEwMDcvczEwNjY0LTAxMS05MTg5LTElMjIlMkMlMEElMjAlMjAlMjAlMjBJRCUzRCUyMktvY2FndW5lbGkyMDEzJTIyJTJDJTBBJTIwJTIwJTIwJTIwc3ByaW5nZXIyMDE1JTNEJTIyMSUyMiUyQyUwQSUyMCUyMCUyMCUyMHBsYWNleCUzRCUyMkVtcGlyaWNhbCUyMFNvZnR3YXJlJTIwRW5naW5lZXJpbmclMjIlMkMlMEElMjklMjklMEElMjclMjclMjclMjklM0I=\")));\n",
       "    "
      ],
      "text/plain": [
       "<IPython.core.display.Javascript object>"
      ]
     },
     "metadata": {},
     "output_type": "display_data"
    },
    {
     "data": {
      "application/javascript": [
       "$('span:contains(\"# Temp\")').closest('.cell').remove();"
      ],
      "text/plain": [
       "<IPython.core.display.Javascript object>"
      ]
     },
     "metadata": {},
     "output_type": "display_data"
    },
    {
     "data": {
      "application/javascript": [
       "\n",
       "        $('span:contains(\"# Temp\")').closest('.cell').remove();\n",
       "        var code = IPython.notebook.insert_cell_below('code');\n",
       "        code.set_text(decodeURIComponent(window.atob(\"JTIzJTIwVGVtcCUwQWluc2VydCUyOCUyNyUyNyUyNyUwQWtob3Noa2JhcmZvcm91c2hoYTIwMTFhJTIwJTNEJTIwREIlMjhXb3JrVW5yZWxhdGVkJTI4JTBBJTIwJTIwJTIwJTIwMjAxMSUyQyUyMCUyMk1ldHJpY3MlMjBmb3IlMjBCUEVMJTIwcHJvY2VzcyUyMGNvbnRleHQtaW5kZXBlbmRlbmN5JTIwYW5hbHlzaXMlMjIlMkMlMEElMjAlMjAlMjAlMjBkaXNwbGF5JTNEJTIya2hvc2hrYmFyZm9yb3VzaGhhJTIyJTJDJTBBJTIwJTIwJTIwJTIwYXV0aG9ycyUzRCUyMktob3Noa2JhcmZvcm91c2hoYSUyQyUyMEFsaXJlemElMjBhbmQlMjBKYW1zaGlkaSUyQyUyMFBvb3lhbiUyMGFuZCUyME5pa3JhdmVzaCUyQyUyMEFsaSUyMGFuZCUyMFNoYW1zJTJDJTIwRmVyZWlkb29uJTIyJTJDJTBBJTIwJTIwJTIwJTIwcGxhY2UlM0RGQUtFJTJDJTBBJTIwJTIwJTIwJTIwcHAlM0QlMjIxMzktLTE1NyUyMiUyQyUwQSUyMCUyMCUyMCUyMGVudHJ5dHlwZSUzRCUyMmFydGljbGUlMjIlMkMlMEElMjAlMjAlMjAlMjBtb250aCUzRCUyMlNlcCUyMiUyQyUwQSUyMCUyMCUyMCUyMGRheSUzRCUyMjAxJTIyJTJDJTBBJTIwJTIwJTIwJTIwdm9sdW1lJTNEJTIyNSUyMiUyQyUwQSUyMCUyMCUyMCUyMG51bWJlciUzRCUyMjMlMjIlMkMlMEElMjAlMjAlMjAlMjBpc3NuJTNEJTIyMTg2My0yMzk0JTIyJTJDJTBBJTIwJTIwJTIwJTIwZG9pJTNEJTIyMTAuMTAwNy9zMTE3NjEtMDExLTAwNzctOCUyMiUyQyUwQSUyMCUyMCUyMCUyMElEJTNEJTIyS2hvc2hrYmFyZm9yb3VzaGhhMjAxMSUyMiUyQyUwQSUyMCUyMCUyMCUyMHNwcmluZ2VyMjAxNSUzRCUyMjElMjIlMkMlMEElMjAlMjAlMjAlMjBwbGFjZXglM0QlMjJTZXJ2aWNlJTIwT3JpZW50ZWQlMjBDb21wdXRpbmclMjBhbmQlMjBBcHBsaWNhdGlvbnMlMjIlMkMlMEElMjklMjklMEElMjclMjclMjclMjklM0I=\")));\n",
       "    "
      ],
      "text/plain": [
       "<IPython.core.display.Javascript object>"
      ]
     },
     "metadata": {},
     "output_type": "display_data"
    },
    {
     "data": {
      "application/javascript": [
       "$('span:contains(\"# Temp\")').closest('.cell').remove();"
      ],
      "text/plain": [
       "<IPython.core.display.Javascript object>"
      ]
     },
     "metadata": {},
     "output_type": "display_data"
    },
    {
     "data": {
      "application/javascript": [
       "\n",
       "        $('span:contains(\"# Temp\")').closest('.cell').remove();\n",
       "        var code = IPython.notebook.insert_cell_below('code');\n",
       "        code.set_text(decodeURIComponent(window.atob(\"JTIzJTIwVGVtcCUwQWluc2VydCUyOCUyNyUyNyUyNyUwQWtob3Noa2JhcmZvcm91c2hoYTIwMTFhJTIwJTNEJTIwREIlMjhXb3JrVW5yZWxhdGVkJTI4JTBBJTIwJTIwJTIwJTIwMjAxMSUyQyUyMCUyMk1ldHJpY3MlMjBmb3IlMjBCUEVMJTIwcHJvY2VzcyUyMGNvbnRleHQtaW5kZXBlbmRlbmN5JTIwYW5hbHlzaXMlMjIlMkMlMEElMjAlMjAlMjAlMjBkaXNwbGF5JTNEJTIya2hvc2hrYmFyZm9yb3VzaGhhJTIyJTJDJTBBJTIwJTIwJTIwJTIwYXV0aG9ycyUzRCUyMktob3Noa2JhcmZvcm91c2hoYSUyQyUyMEFsaXJlemElMjBhbmQlMjBKYW1zaGlkaSUyQyUyMFBvb3lhbiUyMGFuZCUyME5pa3JhdmVzaCUyQyUyMEFsaSUyMGFuZCUyMFNoYW1zJTJDJTIwRmVyZWlkb29uJTIyJTJDJTBBJTIwJTIwJTIwJTIwcGxhY2UlM0RGQUtFJTJDJTBBJTIwJTIwJTIwJTIwcHAlM0QlMjIxMzktLTE1NyUyMiUyQyUwQSUyMCUyMCUyMCUyMGVudHJ5dHlwZSUzRCUyMmFydGljbGUlMjIlMkMlMEElMjAlMjAlMjAlMjBtb250aCUzRCUyMlNlcCUyMiUyQyUwQSUyMCUyMCUyMCUyMGRheSUzRCUyMjAxJTIyJTJDJTBBJTIwJTIwJTIwJTIwdm9sdW1lJTNEJTIyNSUyMiUyQyUwQSUyMCUyMCUyMCUyMG51bWJlciUzRCUyMjMlMjIlMkMlMEElMjAlMjAlMjAlMjBpc3NuJTNEJTIyMTg2My0yMzk0JTIyJTJDJTBBJTIwJTIwJTIwJTIwZG9pJTNEJTIyMTAuMTAwNy9zMTE3NjEtMDExLTAwNzctOCUyMiUyQyUwQSUyMCUyMCUyMCUyMElEJTNEJTIyS2hvc2hrYmFyZm9yb3VzaGhhMjAxMSUyMiUyQyUwQSUyMCUyMCUyMCUyMHNwcmluZ2VyMjAxNSUzRCUyMjElMjIlMkMlMEElMjAlMjAlMjAlMjBwbGFjZXglM0QlMjJTZXJ2aWNlJTIwT3JpZW50ZWQlMjBDb21wdXRpbmclMjBhbmQlMjBBcHBsaWNhdGlvbnMlMjIlMkMlMEElMjklMjklMEElMjclMjclMjclMjklM0I=\")));\n",
       "    "
      ],
      "text/plain": [
       "<IPython.core.display.Javascript object>"
      ]
     },
     "metadata": {},
     "output_type": "display_data"
    },
    {
     "data": {
      "application/javascript": [
       "$('span:contains(\"# Temp\")').closest('.cell').remove();"
      ],
      "text/plain": [
       "<IPython.core.display.Javascript object>"
      ]
     },
     "metadata": {},
     "output_type": "display_data"
    },
    {
     "data": {
      "application/javascript": [
       "\n",
       "        $('span:contains(\"# Temp\")').closest('.cell').remove();\n",
       "        var code = IPython.notebook.insert_cell_below('code');\n",
       "        code.set_text(decodeURIComponent(window.atob(\"JTIzJTIwVGVtcCUwQWluc2VydCUyOCUyNyUyNyUyNyUwQWxlZTIwMTRhJTIwJTNEJTIwREIlMjhXb3JrVW5yZWxhdGVkJTI4JTBBJTIwJTIwJTIwJTIwMjAxNCUyQyUyMCUyMk1ORC1TQ0VNUCUzQSUyMGFuJTIwZW1waXJpY2FsJTIwc3R1ZHklMjBvZiUyMGElMjBzb2Z0d2FyZSUyMGNvc3QlMjBlc3RpbWF0aW9uJTIwbW9kZWxpbmclMjBwcm9jZXNzJTIwaW4lMjB0aGUlMjBkZWZlbnNlJTIwZG9tYWluJTIyJTJDJTBBJTIwJTIwJTIwJTIwZGlzcGxheSUzRCUyMmxlZSUyMiUyQyUwQSUyMCUyMCUyMCUyMGF1dGhvcnMlM0QlMjJMZWUlMkMlMjBUYWVobyUyMGFuZCUyMEd1JTJDJTIwVGFld2FuJTIwYW5kJTIwQmFpayUyQyUyMEpvbmdtb29uJTIyJTJDJTBBJTIwJTIwJTIwJTIwcGxhY2UlM0RFU0UlMkMlMEElMjAlMjAlMjAlMjBwcCUzRCUyMjIxMy0tMjQwJTIyJTJDJTBBJTIwJTIwJTIwJTIwZW50cnl0eXBlJTNEJTIyYXJ0aWNsZSUyMiUyQyUwQSUyMCUyMCUyMCUyMG1vbnRoJTNEJTIyRmViJTIyJTJDJTBBJTIwJTIwJTIwJTIwZGF5JTNEJTIyMDElMjIlMkMlMEElMjAlMjAlMjAlMjB2b2x1bWUlM0QlMjIxOSUyMiUyQyUwQSUyMCUyMCUyMCUyMG51bWJlciUzRCUyMjElMjIlMkMlMEElMjAlMjAlMjAlMjBpc3NuJTNEJTIyMTU3My03NjE2JTIyJTJDJTBBJTIwJTIwJTIwJTIwZG9pJTNEJTIyMTAuMTAwNy9zMTA2NjQtMDEyLTkyMjAtMSUyMiUyQyUwQSUyMCUyMCUyMCUyMElEJTNEJTIyTGVlMjAxNCUyMiUyQyUwQSUyMCUyMCUyMCUyMHNwcmluZ2VyMjAxNSUzRCUyMjElMjIlMkMlMEElMjAlMjAlMjAlMjBwbGFjZXglM0QlMjJFbXBpcmljYWwlMjBTb2Z0d2FyZSUyMEVuZ2luZWVyaW5nJTIyJTJDJTBBJTI5JTI5JTBBJTI3JTI3JTI3JTI5JTNC\")));\n",
       "    "
      ],
      "text/plain": [
       "<IPython.core.display.Javascript object>"
      ]
     },
     "metadata": {},
     "output_type": "display_data"
    },
    {
     "data": {
      "application/javascript": [
       "$('span:contains(\"# Temp\")').closest('.cell').remove();"
      ],
      "text/plain": [
       "<IPython.core.display.Javascript object>"
      ]
     },
     "metadata": {},
     "output_type": "display_data"
    },
    {
     "data": {
      "application/javascript": [
       "\n",
       "        $('span:contains(\"# Temp\")').closest('.cell').remove();\n",
       "        var code = IPython.notebook.insert_cell_below('code');\n",
       "        code.set_text(decodeURIComponent(window.atob(\"JTIzJTIwVGVtcCUwQWluc2VydCUyOCUyNyUyNyUyNyUwQWxlZTIwMTRhJTIwJTNEJTIwREIlMjhXb3JrVW5yZWxhdGVkJTI4JTBBJTIwJTIwJTIwJTIwMjAxNCUyQyUyMCUyMk1ORC1TQ0VNUCUzQSUyMGFuJTIwZW1waXJpY2FsJTIwc3R1ZHklMjBvZiUyMGElMjBzb2Z0d2FyZSUyMGNvc3QlMjBlc3RpbWF0aW9uJTIwbW9kZWxpbmclMjBwcm9jZXNzJTIwaW4lMjB0aGUlMjBkZWZlbnNlJTIwZG9tYWluJTIyJTJDJTBBJTIwJTIwJTIwJTIwZGlzcGxheSUzRCUyMmxlZSUyMiUyQyUwQSUyMCUyMCUyMCUyMGF1dGhvcnMlM0QlMjJMZWUlMkMlMjBUYWVobyUyMGFuZCUyMEd1JTJDJTIwVGFld2FuJTIwYW5kJTIwQmFpayUyQyUyMEpvbmdtb29uJTIyJTJDJTBBJTIwJTIwJTIwJTIwcGxhY2UlM0RFU0UlMkMlMEElMjAlMjAlMjAlMjBwcCUzRCUyMjIxMy0tMjQwJTIyJTJDJTBBJTIwJTIwJTIwJTIwZW50cnl0eXBlJTNEJTIyYXJ0aWNsZSUyMiUyQyUwQSUyMCUyMCUyMCUyMG1vbnRoJTNEJTIyRmViJTIyJTJDJTBBJTIwJTIwJTIwJTIwZGF5JTNEJTIyMDElMjIlMkMlMEElMjAlMjAlMjAlMjB2b2x1bWUlM0QlMjIxOSUyMiUyQyUwQSUyMCUyMCUyMCUyMG51bWJlciUzRCUyMjElMjIlMkMlMEElMjAlMjAlMjAlMjBpc3NuJTNEJTIyMTU3My03NjE2JTIyJTJDJTBBJTIwJTIwJTIwJTIwZG9pJTNEJTIyMTAuMTAwNy9zMTA2NjQtMDEyLTkyMjAtMSUyMiUyQyUwQSUyMCUyMCUyMCUyMElEJTNEJTIyTGVlMjAxNCUyMiUyQyUwQSUyMCUyMCUyMCUyMHNwcmluZ2VyMjAxNSUzRCUyMjElMjIlMkMlMEElMjAlMjAlMjAlMjBwbGFjZXglM0QlMjJFbXBpcmljYWwlMjBTb2Z0d2FyZSUyMEVuZ2luZWVyaW5nJTIyJTJDJTBBJTI5JTI5JTBBJTI3JTI3JTI3JTI5JTNC\")));\n",
       "    "
      ],
      "text/plain": [
       "<IPython.core.display.Javascript object>"
      ]
     },
     "metadata": {},
     "output_type": "display_data"
    },
    {
     "data": {
      "application/javascript": [
       "$('span:contains(\"# Temp\")').closest('.cell').remove();"
      ],
      "text/plain": [
       "<IPython.core.display.Javascript object>"
      ]
     },
     "metadata": {},
     "output_type": "display_data"
    },
    {
     "data": {
      "application/javascript": [
       "\n",
       "        $('span:contains(\"# Temp\")').closest('.cell').remove();\n",
       "        var code = IPython.notebook.insert_cell_below('code');\n",
       "        code.set_text(decodeURIComponent(window.atob(\"JTIzJTIwVGVtcCUwQWluc2VydCUyOCUyNyUyNyUyNyUwQWhhbGwyMDA3YSUyMCUzRCUyMERCJTI4V29ya1VucmVsYXRlZCUyOCUwQSUyMCUyMCUyMCUyMDIwMDclMkMlMjAlMjJNb3RpdmF0aW5nJTIwZGV2ZWxvcGVyJTIwcGVyZm9ybWFuY2UlMjB0byUyMGltcHJvdmUlMjBwcm9qZWN0JTIwb3V0Y29tZXMlMjBpbiUyMGElMjBoaWdoJTIwbWF0dXJpdHklMjBvcmdhbml6YXRpb24lMjIlMkMlMEElMjAlMjAlMjAlMjBkaXNwbGF5JTNEJTIyaGFsbCUyMiUyQyUwQSUyMCUyMCUyMCUyMGF1dGhvcnMlM0QlMjJIYWxsJTJDJTIwVHJhY3klMjBhbmQlMjBKYWdpZWxza2ElMkMlMjBEb3JvdGElMjBhbmQlMjBCYWRkb28lMkMlMjBOYXRoYW4lMjIlMkMlMEElMjAlMjAlMjAlMjBwbGFjZSUzRFNRSiUyQyUwQSUyMCUyMCUyMCUyMHBwJTNEJTIyMzY1LS0zODElMjIlMkMlMEElMjAlMjAlMjAlMjBlbnRyeXR5cGUlM0QlMjJhcnRpY2xlJTIyJTJDJTBBJTIwJTIwJTIwJTIwbW9udGglM0QlMjJEZWMlMjIlMkMlMEElMjAlMjAlMjAlMjBkYXklM0QlMjIwMSUyMiUyQyUwQSUyMCUyMCUyMCUyMHZvbHVtZSUzRCUyMjE1JTIyJTJDJTBBJTIwJTIwJTIwJTIwbnVtYmVyJTNEJTIyNCUyMiUyQyUwQSUyMCUyMCUyMCUyMGlzc24lM0QlMjIxNTczLTEzNjclMjIlMkMlMEElMjAlMjAlMjAlMjBkb2klM0QlMjIxMC4xMDA3L3MxMTIxOS0wMDctOTAyOC0xJTIyJTJDJTBBJTIwJTIwJTIwJTIwSUQlM0QlMjJIYWxsMjAwNyUyMiUyQyUwQSUyMCUyMCUyMCUyMHNwcmluZ2VyMjAxNSUzRCUyMjElMjIlMkMlMEElMjAlMjAlMjAlMjBwbGFjZXglM0QlMjJTb2Z0d2FyZSUyMFF1YWxpdHklMjBKb3VybmFsJTIyJTJDJTBBJTI5JTI5JTBBJTI3JTI3JTI3JTI5JTNC\")));\n",
       "    "
      ],
      "text/plain": [
       "<IPython.core.display.Javascript object>"
      ]
     },
     "metadata": {},
     "output_type": "display_data"
    },
    {
     "data": {
      "application/javascript": [
       "$('span:contains(\"# Temp\")').closest('.cell').remove();"
      ],
      "text/plain": [
       "<IPython.core.display.Javascript object>"
      ]
     },
     "metadata": {},
     "output_type": "display_data"
    },
    {
     "data": {
      "application/javascript": [
       "\n",
       "        $('span:contains(\"# Temp\")').closest('.cell').remove();\n",
       "        var code = IPython.notebook.insert_cell_below('code');\n",
       "        code.set_text(decodeURIComponent(window.atob(\"JTIzJTIwVGVtcCUwQWluc2VydCUyOCUyNyUyNyUyNyUwQWhhbGwyMDA3YSUyMCUzRCUyMERCJTI4V29ya1VucmVsYXRlZCUyOCUwQSUyMCUyMCUyMCUyMDIwMDclMkMlMjAlMjJNb3RpdmF0aW5nJTIwZGV2ZWxvcGVyJTIwcGVyZm9ybWFuY2UlMjB0byUyMGltcHJvdmUlMjBwcm9qZWN0JTIwb3V0Y29tZXMlMjBpbiUyMGElMjBoaWdoJTIwbWF0dXJpdHklMjBvcmdhbml6YXRpb24lMjIlMkMlMEElMjAlMjAlMjAlMjBkaXNwbGF5JTNEJTIyaGFsbCUyMiUyQyUwQSUyMCUyMCUyMCUyMGF1dGhvcnMlM0QlMjJIYWxsJTJDJTIwVHJhY3klMjBhbmQlMjBKYWdpZWxza2ElMkMlMjBEb3JvdGElMjBhbmQlMjBCYWRkb28lMkMlMjBOYXRoYW4lMjIlMkMlMEElMjAlMjAlMjAlMjBwbGFjZSUzRFNRSiUyQyUwQSUyMCUyMCUyMCUyMHBwJTNEJTIyMzY1LS0zODElMjIlMkMlMEElMjAlMjAlMjAlMjBlbnRyeXR5cGUlM0QlMjJhcnRpY2xlJTIyJTJDJTBBJTIwJTIwJTIwJTIwbW9udGglM0QlMjJEZWMlMjIlMkMlMEElMjAlMjAlMjAlMjBkYXklM0QlMjIwMSUyMiUyQyUwQSUyMCUyMCUyMCUyMHZvbHVtZSUzRCUyMjE1JTIyJTJDJTBBJTIwJTIwJTIwJTIwbnVtYmVyJTNEJTIyNCUyMiUyQyUwQSUyMCUyMCUyMCUyMGlzc24lM0QlMjIxNTczLTEzNjclMjIlMkMlMEElMjAlMjAlMjAlMjBkb2klM0QlMjIxMC4xMDA3L3MxMTIxOS0wMDctOTAyOC0xJTIyJTJDJTBBJTIwJTIwJTIwJTIwSUQlM0QlMjJIYWxsMjAwNyUyMiUyQyUwQSUyMCUyMCUyMCUyMHNwcmluZ2VyMjAxNSUzRCUyMjElMjIlMkMlMEElMjAlMjAlMjAlMjBwbGFjZXglM0QlMjJTb2Z0d2FyZSUyMFF1YWxpdHklMjBKb3VybmFsJTIyJTJDJTBBJTI5JTI5JTBBJTI3JTI3JTI3JTI5JTNC\")));\n",
       "    "
      ],
      "text/plain": [
       "<IPython.core.display.Javascript object>"
      ]
     },
     "metadata": {},
     "output_type": "display_data"
    },
    {
     "data": {
      "application/javascript": [
       "$('span:contains(\"# Temp\")').closest('.cell').remove();"
      ],
      "text/plain": [
       "<IPython.core.display.Javascript object>"
      ]
     },
     "metadata": {},
     "output_type": "display_data"
    },
    {
     "data": {
      "application/javascript": [
       "\n",
       "        $('span:contains(\"# Temp\")').closest('.cell').remove();\n",
       "        var code = IPython.notebook.insert_cell_below('code');\n",
       "        code.set_text(decodeURIComponent(window.atob(\"JTIzJTIwVGVtcCUwQWluc2VydCUyOCUyNyUyNyUyNyUwQSUyMCUyMCUyMCUyMG0lQzMlQTRudHlsJUMzJUE0MjAxNWElMjAlM0QlMjBEQiUyOFdvcmtVbnJlbGF0ZWQlMjglMEElMjAlMjAlMjAlMjAlMjAlMjAlMjAlMjAyMDE1JTJDJTIwJTIyT24lMjByYXBpZCUyMHJlbGVhc2VzJTIwYW5kJTIwc29mdHdhcmUlMjB0ZXN0aW5nJTNBJTIwYSUyMGNhc2UlMjBzdHVkeSUyMGFuZCUyMGElMjBzZW1pLXN5c3RlbWF0aWMlMjBsaXRlcmF0dXJlJTIwcmV2aWV3JTIyJTJDJTBBJTIwJTIwJTIwJTIwJTIwJTIwJTIwJTIwZGlzcGxheSUzRCUyMm0lQzMlQTRudHlsJUMzJUE0JTIyJTJDJTBBJTIwJTIwJTIwJTIwJTIwJTIwJTIwJTIwYXV0aG9ycyUzRCUyMk0lQzMlQTRudHlsJUMzJUE0JTJDJTIwTWlrYSUyMFYlMjBhbmQlMjBBZGFtcyUyQyUyMEJyYW0lMjBhbmQlMjBLaG9taCUyQyUyMEZvdXRzZSUwQWFuZCUyMEVuZ3N0ciVDMyVCNm0lMkMlMjBFbWVsaWUlMjBhbmQlMjBQZXRlcnNlbiUyQyUyMEthaSUyMiUyQyUwQSUyMCUyMCUyMCUyMCUyMCUyMCUyMCUyMHBsYWNlJTNERVNFJTJDJTBBJTIwJTIwJTIwJTIwJTIwJTIwJTIwJTIwcHAlM0QlMjIxMzg0LS0xNDI1JTIyJTJDJTBBJTIwJTIwJTIwJTIwJTIwJTIwJTIwJTIwZW50cnl0eXBlJTNEJTIyYXJ0aWNsZSUyMiUyQyUwQSUyMCUyMCUyMCUyMCUyMCUyMCUyMCUyMG1vbnRoJTNEJTIyT2N0JTIyJTJDJTBBJTIwJTIwJTIwJTIwJTIwJTIwJTIwJTIwZGF5JTNEJTIyMDElMjIlMkMlMEElMjAlMjAlMjAlMjAlMjAlMjAlMjAlMjB2b2x1bWUlM0QlMjIyMCUyMiUyQyUwQSUyMCUyMCUyMCUyMCUyMCUyMCUyMCUyMG51bWJlciUzRCUyMjUlMjIlMkMlMEElMjAlMjAlMjAlMjAlMjAlMjAlMjAlMjBpc3NuJTNEJTIyMTU3My03NjE2JTIyJTJDJTBBJTIwJTIwJTIwJTIwJTIwJTIwJTIwJTIwZG9pJTNEJTIyMTAuMTAwNy9zMTA2NjQtMDE0LTkzMzgtNCUyMiUyQyUwQSUyMCUyMCUyMCUyMCUyMCUyMCUyMCUyMElEJTNEJTIyTSVDMyVBNG50eWwlQzMlQTQyMDE1JTIyJTJDJTBBJTIwJTIwJTIwJTIwJTIwJTIwJTIwJTIwc3ByaW5nZXIyMDE1JTNEJTIyMSUyMiUyQyUwQSUyMCUyMCUyMCUyMCUyMCUyMCUyMCUyMHBsYWNleCUzRCUyMkVtcGlyaWNhbCUyMFNvZnR3YXJlJTIwRW5naW5lZXJpbmclMjIlMkMlMEElMjAlMjAlMjAlMjAlMjklMjklMEElMjclMjclMjclMjklM0I=\")));\n",
       "    "
      ],
      "text/plain": [
       "<IPython.core.display.Javascript object>"
      ]
     },
     "metadata": {},
     "output_type": "display_data"
    },
    {
     "data": {
      "application/javascript": [
       "$('span:contains(\"# Temp\")').closest('.cell').remove();"
      ],
      "text/plain": [
       "<IPython.core.display.Javascript object>"
      ]
     },
     "metadata": {},
     "output_type": "display_data"
    },
    {
     "data": {
      "application/javascript": [
       "\n",
       "        $('span:contains(\"# Temp\")').closest('.cell').remove();\n",
       "        var code = IPython.notebook.insert_cell_below('code');\n",
       "        code.set_text(decodeURIComponent(window.atob(\"JTIzJTIwVGVtcCUwQWluc2VydCUyOCUyNyUyNyUyNyUwQSUyMCUyMCUyMCUyMG0lQzMlQTRudHlsJUMzJUE0MjAxNWElMjAlM0QlMjBEQiUyOFdvcmtVbnJlbGF0ZWQlMjglMEElMjAlMjAlMjAlMjAlMjAlMjAlMjAlMjAyMDE1JTJDJTIwJTIyT24lMjByYXBpZCUyMHJlbGVhc2VzJTIwYW5kJTIwc29mdHdhcmUlMjB0ZXN0aW5nJTNBJTIwYSUyMGNhc2UlMjBzdHVkeSUyMGFuZCUyMGElMjBzZW1pLXN5c3RlbWF0aWMlMjBsaXRlcmF0dXJlJTIwcmV2aWV3JTIyJTJDJTBBJTIwJTIwJTIwJTIwJTIwJTIwJTIwJTIwZGlzcGxheSUzRCUyMm0lQzMlQTRudHlsJUMzJUE0JTIyJTJDJTBBJTIwJTIwJTIwJTIwJTIwJTIwJTIwJTIwYXV0aG9ycyUzRCUyMk0lQzMlQTRudHlsJUMzJUE0JTJDJTIwTWlrYSUyMFYlMjBhbmQlMjBBZGFtcyUyQyUyMEJyYW0lMjBhbmQlMjBLaG9taCUyQyUyMEZvdXRzZSUwQWFuZCUyMEVuZ3N0ciVDMyVCNm0lMkMlMjBFbWVsaWUlMjBhbmQlMjBQZXRlcnNlbiUyQyUyMEthaSUyMiUyQyUwQSUyMCUyMCUyMCUyMCUyMCUyMCUyMCUyMHBsYWNlJTNERVNFJTJDJTBBJTIwJTIwJTIwJTIwJTIwJTIwJTIwJTIwcHAlM0QlMjIxMzg0LS0xNDI1JTIyJTJDJTBBJTIwJTIwJTIwJTIwJTIwJTIwJTIwJTIwZW50cnl0eXBlJTNEJTIyYXJ0aWNsZSUyMiUyQyUwQSUyMCUyMCUyMCUyMCUyMCUyMCUyMCUyMG1vbnRoJTNEJTIyT2N0JTIyJTJDJTBBJTIwJTIwJTIwJTIwJTIwJTIwJTIwJTIwZGF5JTNEJTIyMDElMjIlMkMlMEElMjAlMjAlMjAlMjAlMjAlMjAlMjAlMjB2b2x1bWUlM0QlMjIyMCUyMiUyQyUwQSUyMCUyMCUyMCUyMCUyMCUyMCUyMCUyMG51bWJlciUzRCUyMjUlMjIlMkMlMEElMjAlMjAlMjAlMjAlMjAlMjAlMjAlMjBpc3NuJTNEJTIyMTU3My03NjE2JTIyJTJDJTBBJTIwJTIwJTIwJTIwJTIwJTIwJTIwJTIwZG9pJTNEJTIyMTAuMTAwNy9zMTA2NjQtMDE0LTkzMzgtNCUyMiUyQyUwQSUyMCUyMCUyMCUyMCUyMCUyMCUyMCUyMElEJTNEJTIyTSVDMyVBNG50eWwlQzMlQTQyMDE1JTIyJTJDJTBBJTIwJTIwJTIwJTIwJTIwJTIwJTIwJTIwc3ByaW5nZXIyMDE1JTNEJTIyMSUyMiUyQyUwQSUyMCUyMCUyMCUyMCUyMCUyMCUyMCUyMHBsYWNleCUzRCUyMkVtcGlyaWNhbCUyMFNvZnR3YXJlJTIwRW5naW5lZXJpbmclMjIlMkMlMEElMjAlMjAlMjAlMjAlMjklMjklMEElMjclMjclMjclMjklM0I=\")));\n",
       "    "
      ],
      "text/plain": [
       "<IPython.core.display.Javascript object>"
      ]
     },
     "metadata": {},
     "output_type": "display_data"
    },
    {
     "data": {
      "application/javascript": [
       "$('span:contains(\"# Temp\")').closest('.cell').remove();"
      ],
      "text/plain": [
       "<IPython.core.display.Javascript object>"
      ]
     },
     "metadata": {},
     "output_type": "display_data"
    },
    {
     "data": {
      "application/javascript": [
       "\n",
       "        $('span:contains(\"# Temp\")').closest('.cell').remove();\n",
       "        var code = IPython.notebook.insert_cell_below('code');\n",
       "        code.set_text(decodeURIComponent(window.atob(\"JTIzJTIwVGVtcCUwQWluc2VydCUyOCUyNyUyNyUyNyUwQXNlbzIwMTNhJTIwJTNEJTIwREIlMjhXb3JrVW5yZWxhdGVkJTI4JTBBJTIwJTIwJTIwJTIwMjAxMyUyQyUyMCUyMk9uJTIwdGhlJTIwdmFsdWUlMjBvZiUyMG91dGxpZXIlMjBlbGltaW5hdGlvbiUyMG9uJTIwc29mdHdhcmUlMjBlZmZvcnQlMjBlc3RpbWF0aW9uJTIwcmVzZWFyY2glMjIlMkMlMEElMjAlMjAlMjAlMjBkaXNwbGF5JTNEJTIyc2VvJTIyJTJDJTBBJTIwJTIwJTIwJTIwYXV0aG9ycyUzRCUyMlNlbyUyQyUyMFllb25nLVNlb2slMjBhbmQlMjBCYWUlMkMlMjBEb28tSHdhbiUyMiUyQyUwQSUyMCUyMCUyMCUyMHBsYWNlJTNERVNFJTJDJTBBJTIwJTIwJTIwJTIwcHAlM0QlMjI2NTktLTY5OCUyMiUyQyUwQSUyMCUyMCUyMCUyMGVudHJ5dHlwZSUzRCUyMmFydGljbGUlMjIlMkMlMEElMjAlMjAlMjAlMjBtb250aCUzRCUyMkF1ZyUyMiUyQyUwQSUyMCUyMCUyMCUyMGRheSUzRCUyMjAxJTIyJTJDJTBBJTIwJTIwJTIwJTIwdm9sdW1lJTNEJTIyMTglMjIlMkMlMEElMjAlMjAlMjAlMjBudW1iZXIlM0QlMjI0JTIyJTJDJTBBJTIwJTIwJTIwJTIwaXNzbiUzRCUyMjE1NzMtNzYxNiUyMiUyQyUwQSUyMCUyMCUyMCUyMGRvaSUzRCUyMjEwLjEwMDcvczEwNjY0LTAxMi05MjA3LXklMjIlMkMlMEElMjAlMjAlMjAlMjBJRCUzRCUyMlNlbzIwMTMlMjIlMkMlMEElMjAlMjAlMjAlMjBzcHJpbmdlcjIwMTUlM0QlMjIxJTIyJTJDJTBBJTIwJTIwJTIwJTIwcGxhY2V4JTNEJTIyRW1waXJpY2FsJTIwU29mdHdhcmUlMjBFbmdpbmVlcmluZyUyMiUyQyUwQSUyOSUyOSUwQSUyNyUyNyUyNyUyOSUzQg==\")));\n",
       "    "
      ],
      "text/plain": [
       "<IPython.core.display.Javascript object>"
      ]
     },
     "metadata": {},
     "output_type": "display_data"
    },
    {
     "data": {
      "application/javascript": [
       "$('span:contains(\"# Temp\")').closest('.cell').remove();"
      ],
      "text/plain": [
       "<IPython.core.display.Javascript object>"
      ]
     },
     "metadata": {},
     "output_type": "display_data"
    },
    {
     "data": {
      "application/javascript": [
       "\n",
       "        $('span:contains(\"# Temp\")').closest('.cell').remove();\n",
       "        var code = IPython.notebook.insert_cell_below('code');\n",
       "        code.set_text(decodeURIComponent(window.atob(\"JTIzJTIwVGVtcCUwQWluc2VydCUyOCUyNyUyNyUyNyUwQXNlbzIwMTNhJTIwJTNEJTIwREIlMjhXb3JrVW5yZWxhdGVkJTI4JTBBJTIwJTIwJTIwJTIwMjAxMyUyQyUyMCUyMk9uJTIwdGhlJTIwdmFsdWUlMjBvZiUyMG91dGxpZXIlMjBlbGltaW5hdGlvbiUyMG9uJTIwc29mdHdhcmUlMjBlZmZvcnQlMjBlc3RpbWF0aW9uJTIwcmVzZWFyY2glMjIlMkMlMEElMjAlMjAlMjAlMjBkaXNwbGF5JTNEJTIyc2VvJTIyJTJDJTBBJTIwJTIwJTIwJTIwYXV0aG9ycyUzRCUyMlNlbyUyQyUyMFllb25nLVNlb2slMjBhbmQlMjBCYWUlMkMlMjBEb28tSHdhbiUyMiUyQyUwQSUyMCUyMCUyMCUyMHBsYWNlJTNERVNFJTJDJTBBJTIwJTIwJTIwJTIwcHAlM0QlMjI2NTktLTY5OCUyMiUyQyUwQSUyMCUyMCUyMCUyMGVudHJ5dHlwZSUzRCUyMmFydGljbGUlMjIlMkMlMEElMjAlMjAlMjAlMjBtb250aCUzRCUyMkF1ZyUyMiUyQyUwQSUyMCUyMCUyMCUyMGRheSUzRCUyMjAxJTIyJTJDJTBBJTIwJTIwJTIwJTIwdm9sdW1lJTNEJTIyMTglMjIlMkMlMEElMjAlMjAlMjAlMjBudW1iZXIlM0QlMjI0JTIyJTJDJTBBJTIwJTIwJTIwJTIwaXNzbiUzRCUyMjE1NzMtNzYxNiUyMiUyQyUwQSUyMCUyMCUyMCUyMGRvaSUzRCUyMjEwLjEwMDcvczEwNjY0LTAxMi05MjA3LXklMjIlMkMlMEElMjAlMjAlMjAlMjBJRCUzRCUyMlNlbzIwMTMlMjIlMkMlMEElMjAlMjAlMjAlMjBzcHJpbmdlcjIwMTUlM0QlMjIxJTIyJTJDJTBBJTIwJTIwJTIwJTIwcGxhY2V4JTNEJTIyRW1waXJpY2FsJTIwU29mdHdhcmUlMjBFbmdpbmVlcmluZyUyMiUyQyUwQSUyOSUyOSUwQSUyNyUyNyUyNyUyOSUzQg==\")));\n",
       "    "
      ],
      "text/plain": [
       "<IPython.core.display.Javascript object>"
      ]
     },
     "metadata": {},
     "output_type": "display_data"
    },
    {
     "data": {
      "application/javascript": [
       "$('span:contains(\"# Temp\")').closest('.cell').remove();"
      ],
      "text/plain": [
       "<IPython.core.display.Javascript object>"
      ]
     },
     "metadata": {},
     "output_type": "display_data"
    },
    {
     "data": {
      "application/javascript": [
       "\n",
       "        $('span:contains(\"# Temp\")').closest('.cell').remove();\n",
       "        var code = IPython.notebook.insert_cell_below('code');\n",
       "        code.set_text(decodeURIComponent(window.atob(\"JTIzJTIwVGVtcCUwQWluc2VydCUyOCUyNyUyNyUyNyUwQWtvdTIwMDlhJTIwJTNEJTIwREIlMjhXb3JrVW5yZWxhdGVkJTI4JTBBJTIwJTIwJTIwJTIwMjAwOSUyQyUyMCUyMk9wZXJhdGlvbmFsJTIwZGVmaW5pdGlvbiUyMGFuZCUyMGF1dG9tYXRlZCUyMGluZmVyZW5jZSUyMG9mJUMyJUEwdGVzdC1kcml2ZW4lMjBkZXZlbG9wbWVudCUyMHdpdGglMjBab3JybyUyMiUyQyUwQSUyMCUyMCUyMCUyMGRpc3BsYXklM0QlMjJrb3UlMjIlMkMlMEElMjAlMjAlMjAlMjBhdXRob3JzJTNEJTIyS291JTJDJTIwSG9uZ2JpbmclMjBhbmQlMjBKb2huc29uJTJDJTIwUGhpbGlwJTIwTS4lMjBhbmQlMjBFcmRvZ211cyUyQyUyMEhha2FuJTIyJTJDJTBBJTIwJTIwJTIwJTIwcGxhY2UlM0RGQUtFJTJDJTBBJTIwJTIwJTIwJTIwcHAlM0QlMjI1NyUyMiUyQyUwQSUyMCUyMCUyMCUyMGVudHJ5dHlwZSUzRCUyMmFydGljbGUlMjIlMkMlMEElMjAlMjAlMjAlMjBtb250aCUzRCUyMk5vdiUyMiUyQyUwQSUyMCUyMCUyMCUyMGRheSUzRCUyMjEwJTIyJTJDJTBBJTIwJTIwJTIwJTIwdm9sdW1lJTNEJTIyMTclMjIlMkMlMEElMjAlMjAlMjAlMjBudW1iZXIlM0QlMjIxJTIyJTJDJTBBJTIwJTIwJTIwJTIwaXNzbiUzRCUyMjE1NzMtNzUzNSUyMiUyQyUwQSUyMCUyMCUyMCUyMGRvaSUzRCUyMjEwLjEwMDcvczEwNTE1LTAwOS0wMDU4LTglMjIlMkMlMEElMjAlMjAlMjAlMjBJRCUzRCUyMktvdTIwMDklMjIlMkMlMEElMjAlMjAlMjAlMjBzcHJpbmdlcjIwMTUlM0QlMjIxJTIyJTJDJTBBJTIwJTIwJTIwJTIwcGxhY2V4JTNEJTIyQXV0b21hdGVkJTIwU29mdHdhcmUlMjBFbmdpbmVlcmluZyUyMiUyQyUwQSUyOSUyOSUwQSUyNyUyNyUyNyUyOSUzQg==\")));\n",
       "    "
      ],
      "text/plain": [
       "<IPython.core.display.Javascript object>"
      ]
     },
     "metadata": {},
     "output_type": "display_data"
    },
    {
     "data": {
      "application/javascript": [
       "$('span:contains(\"# Temp\")').closest('.cell').remove();"
      ],
      "text/plain": [
       "<IPython.core.display.Javascript object>"
      ]
     },
     "metadata": {},
     "output_type": "display_data"
    },
    {
     "data": {
      "application/javascript": [
       "\n",
       "        $('span:contains(\"# Temp\")').closest('.cell').remove();\n",
       "        var code = IPython.notebook.insert_cell_below('code');\n",
       "        code.set_text(decodeURIComponent(window.atob(\"JTIzJTIwVGVtcCUwQWluc2VydCUyOCUyNyUyNyUyNyUwQWtvdTIwMDlhJTIwJTNEJTIwREIlMjhXb3JrVW5yZWxhdGVkJTI4JTBBJTIwJTIwJTIwJTIwMjAwOSUyQyUyMCUyMk9wZXJhdGlvbmFsJTIwZGVmaW5pdGlvbiUyMGFuZCUyMGF1dG9tYXRlZCUyMGluZmVyZW5jZSUyMG9mJUMyJUEwdGVzdC1kcml2ZW4lMjBkZXZlbG9wbWVudCUyMHdpdGglMjBab3JybyUyMiUyQyUwQSUyMCUyMCUyMCUyMGRpc3BsYXklM0QlMjJrb3UlMjIlMkMlMEElMjAlMjAlMjAlMjBhdXRob3JzJTNEJTIyS291JTJDJTIwSG9uZ2JpbmclMjBhbmQlMjBKb2huc29uJTJDJTIwUGhpbGlwJTIwTS4lMjBhbmQlMjBFcmRvZ211cyUyQyUyMEhha2FuJTIyJTJDJTBBJTIwJTIwJTIwJTIwcGxhY2UlM0RGQUtFJTJDJTBBJTIwJTIwJTIwJTIwcHAlM0QlMjI1NyUyMiUyQyUwQSUyMCUyMCUyMCUyMGVudHJ5dHlwZSUzRCUyMmFydGljbGUlMjIlMkMlMEElMjAlMjAlMjAlMjBtb250aCUzRCUyMk5vdiUyMiUyQyUwQSUyMCUyMCUyMCUyMGRheSUzRCUyMjEwJTIyJTJDJTBBJTIwJTIwJTIwJTIwdm9sdW1lJTNEJTIyMTclMjIlMkMlMEElMjAlMjAlMjAlMjBudW1iZXIlM0QlMjIxJTIyJTJDJTBBJTIwJTIwJTIwJTIwaXNzbiUzRCUyMjE1NzMtNzUzNSUyMiUyQyUwQSUyMCUyMCUyMCUyMGRvaSUzRCUyMjEwLjEwMDcvczEwNTE1LTAwOS0wMDU4LTglMjIlMkMlMEElMjAlMjAlMjAlMjBJRCUzRCUyMktvdTIwMDklMjIlMkMlMEElMjAlMjAlMjAlMjBzcHJpbmdlcjIwMTUlM0QlMjIxJTIyJTJDJTBBJTIwJTIwJTIwJTIwcGxhY2V4JTNEJTIyQXV0b21hdGVkJTIwU29mdHdhcmUlMjBFbmdpbmVlcmluZyUyMiUyQyUwQSUyOSUyOSUwQSUyNyUyNyUyNyUyOSUzQg==\")));\n",
       "    "
      ],
      "text/plain": [
       "<IPython.core.display.Javascript object>"
      ]
     },
     "metadata": {},
     "output_type": "display_data"
    },
    {
     "data": {
      "application/javascript": [
       "$('span:contains(\"# Temp\")').closest('.cell').remove();"
      ],
      "text/plain": [
       "<IPython.core.display.Javascript object>"
      ]
     },
     "metadata": {},
     "output_type": "display_data"
    },
    {
     "data": {
      "application/javascript": [
       "\n",
       "        $('span:contains(\"# Temp\")').closest('.cell').remove();\n",
       "        var code = IPython.notebook.insert_cell_below('code');\n",
       "        code.set_text(decodeURIComponent(window.atob(\"JTIzJTIwVGVtcCUwQWluc2VydCUyOCUyNyUyNyUyNyUwQSUyMCUyMCUyMCUyMGthcmxzc29uMjAwN2ElMjAlM0QlMjBEQiUyOFdvcmtVbnJlbGF0ZWQlMjglMEElMjAlMjAlMjAlMjAlMjAlMjAlMjAlMjAyMDA3JTJDJTIwJTIyUGFpci13aXNlJTIwY29tcGFyaXNvbnMlMjB2ZXJzdXMlMjBwbGFubmluZyUyMGdhbWUlMjBwYXJ0aXRpb25pbmctLS1leHBlcmltZW50cyUyMG9uJTIwcmVxdWlyZW1lbnRzJTIwcHJpb3JpdGlzYXRpb24lMjB0ZWNobmlxdWVzJTIyJTJDJTBBJTIwJTIwJTIwJTIwJTIwJTIwJTIwJTIwZGlzcGxheSUzRCUyMmthcmxzc29uJTIyJTJDJTBBJTIwJTIwJTIwJTIwJTIwJTIwJTIwJTIwYXV0aG9ycyUzRCUyMkthcmxzc29uJTJDJTIwTGVuYSUyMGFuZCUyMFRoZWxpbiUyQyUyMFRob21hcyUyMGFuZCUyMFJlZ25lbGwlMkMlMjBCaiVDMyVCNnJuJTBBYW5kJTIwQmVyYW5kZXIlMkMlMjBQYXRyaWslMjBhbmQlMjBXb2hsaW4lMkMlMjBDbGFlcyUyMiUyQyUwQSUyMCUyMCUyMCUyMCUyMCUyMCUyMCUyMHBsYWNlJTNERVNFJTJDJTBBJTIwJTIwJTIwJTIwJTIwJTIwJTIwJTIwcHAlM0QlMjIzLS0zMyUyMiUyQyUwQSUyMCUyMCUyMCUyMCUyMCUyMCUyMCUyMGVudHJ5dHlwZSUzRCUyMmFydGljbGUlMjIlMkMlMEElMjAlMjAlMjAlMjAlMjAlMjAlMjAlMjBtb250aCUzRCUyMkZlYiUyMiUyQyUwQSUyMCUyMCUyMCUyMCUyMCUyMCUyMCUyMGRheSUzRCUyMjAxJTIyJTJDJTBBJTIwJTIwJTIwJTIwJTIwJTIwJTIwJTIwdm9sdW1lJTNEJTIyMTIlMjIlMkMlMEElMjAlMjAlMjAlMjAlMjAlMjAlMjAlMjBudW1iZXIlM0QlMjIxJTIyJTJDJTBBJTIwJTIwJTIwJTIwJTIwJTIwJTIwJTIwaXNzbiUzRCUyMjE1NzMtNzYxNiUyMiUyQyUwQSUyMCUyMCUyMCUyMCUyMCUyMCUyMCUyMGRvaSUzRCUyMjEwLjEwMDcvczEwNjY0LTAwNi03MjQwLTQlMjIlMkMlMEElMjAlMjAlMjAlMjAlMjAlMjAlMjAlMjBJRCUzRCUyMkthcmxzc29uMjAwNyUyMiUyQyUwQSUyMCUyMCUyMCUyMCUyMCUyMCUyMCUyMHNwcmluZ2VyMjAxNSUzRCUyMjElMjIlMkMlMEElMjAlMjAlMjAlMjAlMjAlMjAlMjAlMjBwbGFjZXglM0QlMjJFbXBpcmljYWwlMjBTb2Z0d2FyZSUyMEVuZ2luZWVyaW5nJTIyJTJDJTBBJTIwJTIwJTIwJTIwJTI5JTI5JTBBJTI3JTI3JTI3JTI5JTNC\")));\n",
       "    "
      ],
      "text/plain": [
       "<IPython.core.display.Javascript object>"
      ]
     },
     "metadata": {},
     "output_type": "display_data"
    },
    {
     "data": {
      "application/javascript": [
       "$('span:contains(\"# Temp\")').closest('.cell').remove();"
      ],
      "text/plain": [
       "<IPython.core.display.Javascript object>"
      ]
     },
     "metadata": {},
     "output_type": "display_data"
    },
    {
     "data": {
      "application/javascript": [
       "\n",
       "        $('span:contains(\"# Temp\")').closest('.cell').remove();\n",
       "        var code = IPython.notebook.insert_cell_below('code');\n",
       "        code.set_text(decodeURIComponent(window.atob(\"JTIzJTIwVGVtcCUwQWluc2VydCUyOCUyNyUyNyUyNyUwQSUyMCUyMCUyMCUyMGthcmxzc29uMjAwN2ElMjAlM0QlMjBEQiUyOFdvcmtVbnJlbGF0ZWQlMjglMEElMjAlMjAlMjAlMjAlMjAlMjAlMjAlMjAyMDA3JTJDJTIwJTIyUGFpci13aXNlJTIwY29tcGFyaXNvbnMlMjB2ZXJzdXMlMjBwbGFubmluZyUyMGdhbWUlMjBwYXJ0aXRpb25pbmctLS1leHBlcmltZW50cyUyMG9uJTIwcmVxdWlyZW1lbnRzJTIwcHJpb3JpdGlzYXRpb24lMjB0ZWNobmlxdWVzJTIyJTJDJTBBJTIwJTIwJTIwJTIwJTIwJTIwJTIwJTIwZGlzcGxheSUzRCUyMmthcmxzc29uJTIyJTJDJTBBJTIwJTIwJTIwJTIwJTIwJTIwJTIwJTIwYXV0aG9ycyUzRCUyMkthcmxzc29uJTJDJTIwTGVuYSUyMGFuZCUyMFRoZWxpbiUyQyUyMFRob21hcyUyMGFuZCUyMFJlZ25lbGwlMkMlMjBCaiVDMyVCNnJuJTBBYW5kJTIwQmVyYW5kZXIlMkMlMjBQYXRyaWslMjBhbmQlMjBXb2hsaW4lMkMlMjBDbGFlcyUyMiUyQyUwQSUyMCUyMCUyMCUyMCUyMCUyMCUyMCUyMHBsYWNlJTNERVNFJTJDJTBBJTIwJTIwJTIwJTIwJTIwJTIwJTIwJTIwcHAlM0QlMjIzLS0zMyUyMiUyQyUwQSUyMCUyMCUyMCUyMCUyMCUyMCUyMCUyMGVudHJ5dHlwZSUzRCUyMmFydGljbGUlMjIlMkMlMEElMjAlMjAlMjAlMjAlMjAlMjAlMjAlMjBtb250aCUzRCUyMkZlYiUyMiUyQyUwQSUyMCUyMCUyMCUyMCUyMCUyMCUyMCUyMGRheSUzRCUyMjAxJTIyJTJDJTBBJTIwJTIwJTIwJTIwJTIwJTIwJTIwJTIwdm9sdW1lJTNEJTIyMTIlMjIlMkMlMEElMjAlMjAlMjAlMjAlMjAlMjAlMjAlMjBudW1iZXIlM0QlMjIxJTIyJTJDJTBBJTIwJTIwJTIwJTIwJTIwJTIwJTIwJTIwaXNzbiUzRCUyMjE1NzMtNzYxNiUyMiUyQyUwQSUyMCUyMCUyMCUyMCUyMCUyMCUyMCUyMGRvaSUzRCUyMjEwLjEwMDcvczEwNjY0LTAwNi03MjQwLTQlMjIlMkMlMEElMjAlMjAlMjAlMjAlMjAlMjAlMjAlMjBJRCUzRCUyMkthcmxzc29uMjAwNyUyMiUyQyUwQSUyMCUyMCUyMCUyMCUyMCUyMCUyMCUyMHNwcmluZ2VyMjAxNSUzRCUyMjElMjIlMkMlMEElMjAlMjAlMjAlMjAlMjAlMjAlMjAlMjBwbGFjZXglM0QlMjJFbXBpcmljYWwlMjBTb2Z0d2FyZSUyMEVuZ2luZWVyaW5nJTIyJTJDJTBBJTIwJTIwJTIwJTIwJTI5JTI5JTBBJTI3JTI3JTI3JTI5JTNC\")));\n",
       "    "
      ],
      "text/plain": [
       "<IPython.core.display.Javascript object>"
      ]
     },
     "metadata": {},
     "output_type": "display_data"
    },
    {
     "data": {
      "application/javascript": [
       "$('span:contains(\"# Temp\")').closest('.cell').remove();"
      ],
      "text/plain": [
       "<IPython.core.display.Javascript object>"
      ]
     },
     "metadata": {},
     "output_type": "display_data"
    },
    {
     "data": {
      "application/javascript": [
       "\n",
       "        $('span:contains(\"# Temp\")').closest('.cell').remove();\n",
       "        var code = IPython.notebook.insert_cell_below('code');\n",
       "        code.set_text(decodeURIComponent(window.atob(\"JTIzJTIwVGVtcCUwQWluc2VydCUyOCUyNyUyNyUyNyUwQSUyMCUyMCUyMCUyMG1hbGRvbmFkbzIwMDZhJTIwJTNEJTIwREIlMjhXb3JrVW5yZWxhdGVkJTI4JTBBJTIwJTIwJTIwJTIwJTIwJTIwJTIwJTIwMjAwNiUyQyUyMCUyMlBlcnNwZWN0aXZlLUJhc2VkJTIwUmVhZGluZyUzQSUyMEElMjBSZXBsaWNhdGVkJTIwRXhwZXJpbWVudCUyMEZvY3VzZWQlMjBvbiUyMEluZGl2aWR1YWwlMjBSZXZpZXdlciUyMEVmZmVjdGl2ZW5lc3MlMjIlMkMlMEElMjAlMjAlMjAlMjAlMjAlMjAlMjAlMjBkaXNwbGF5JTNEJTIybWFsZG9uYWRvJTIyJTJDJTBBJTIwJTIwJTIwJTIwJTIwJTIwJTIwJTIwYXV0aG9ycyUzRCUyMk1hbGRvbmFkbyUyQyUyMEpvcyVDMyVBOSUyMEMuJTIwYW5kJTIwQ2FydmVyJTJDJTIwSmVmZnJleSUyMGFuZCUyMFNodWxsJTJDJTIwRm9ycmVzdCUwQWFuZCUyMEZhYmJyaSUyQyUyMFNhbmRyYSUyMGFuZCUyMEQlQzMlQjNyaWElMkMlMjBFbWVyc29uJTIwYW5kJTIwTWFydGltaWFubyUyQyUyMEx1Y2lhbmElMEFhbmQlMjBNZW5kb24lN0IlQzMlQTclN0RhJTJDJTIwTWFub2VsJTIwYW5kJTIwQmFzaWxpJTJDJTIwVmljdG9yJTIyJTJDJTBBJTIwJTIwJTIwJTIwJTIwJTIwJTIwJTIwcGxhY2UlM0RFU0UlMkMlMEElMjAlMjAlMjAlMjAlMjAlMjAlMjAlMjBwcCUzRCUyMjExOS0tMTQyJTIyJTJDJTBBJTIwJTIwJTIwJTIwJTIwJTIwJTIwJTIwZW50cnl0eXBlJTNEJTIyYXJ0aWNsZSUyMiUyQyUwQSUyMCUyMCUyMCUyMCUyMCUyMCUyMCUyMG1vbnRoJTNEJTIyTWFyJTIyJTJDJTBBJTIwJTIwJTIwJTIwJTIwJTIwJTIwJTIwZGF5JTNEJTIyMDElMjIlMkMlMEElMjAlMjAlMjAlMjAlMjAlMjAlMjAlMjB2b2x1bWUlM0QlMjIxMSUyMiUyQyUwQSUyMCUyMCUyMCUyMCUyMCUyMCUyMCUyMG51bWJlciUzRCUyMjElMjIlMkMlMEElMjAlMjAlMjAlMjAlMjAlMjAlMjAlMjBpc3NuJTNEJTIyMTU3My03NjE2JTIyJTJDJTBBJTIwJTIwJTIwJTIwJTIwJTIwJTIwJTIwZG9pJTNEJTIyMTAuMTAwNy9zMTA2NjQtMDA2LTU5NjctNiUyMiUyQyUwQSUyMCUyMCUyMCUyMCUyMCUyMCUyMCUyMElEJTNEJTIyTWFsZG9uYWRvMjAwNiUyMiUyQyUwQSUyMCUyMCUyMCUyMCUyMCUyMCUyMCUyMHNwcmluZ2VyMjAxNSUzRCUyMjElMjIlMkMlMEElMjAlMjAlMjAlMjAlMjAlMjAlMjAlMjBwbGFjZXglM0QlMjJFbXBpcmljYWwlMjBTb2Z0d2FyZSUyMEVuZ2luZWVyaW5nJTIyJTJDJTBBJTIwJTIwJTIwJTIwJTI5JTI5JTBBJTI3JTI3JTI3JTI5JTNC\")));\n",
       "    "
      ],
      "text/plain": [
       "<IPython.core.display.Javascript object>"
      ]
     },
     "metadata": {},
     "output_type": "display_data"
    },
    {
     "data": {
      "application/javascript": [
       "$('span:contains(\"# Temp\")').closest('.cell').remove();"
      ],
      "text/plain": [
       "<IPython.core.display.Javascript object>"
      ]
     },
     "metadata": {},
     "output_type": "display_data"
    },
    {
     "data": {
      "application/javascript": [
       "\n",
       "        $('span:contains(\"# Temp\")').closest('.cell').remove();\n",
       "        var code = IPython.notebook.insert_cell_below('code');\n",
       "        code.set_text(decodeURIComponent(window.atob(\"JTIzJTIwVGVtcCUwQWluc2VydCUyOCUyNyUyNyUyNyUwQSUyMCUyMCUyMCUyMG1hbGRvbmFkbzIwMDZhJTIwJTNEJTIwREIlMjhXb3JrVW5yZWxhdGVkJTI4JTBBJTIwJTIwJTIwJTIwJTIwJTIwJTIwJTIwMjAwNiUyQyUyMCUyMlBlcnNwZWN0aXZlLUJhc2VkJTIwUmVhZGluZyUzQSUyMEElMjBSZXBsaWNhdGVkJTIwRXhwZXJpbWVudCUyMEZvY3VzZWQlMjBvbiUyMEluZGl2aWR1YWwlMjBSZXZpZXdlciUyMEVmZmVjdGl2ZW5lc3MlMjIlMkMlMEElMjAlMjAlMjAlMjAlMjAlMjAlMjAlMjBkaXNwbGF5JTNEJTIybWFsZG9uYWRvJTIyJTJDJTBBJTIwJTIwJTIwJTIwJTIwJTIwJTIwJTIwYXV0aG9ycyUzRCUyMk1hbGRvbmFkbyUyQyUyMEpvcyVDMyVBOSUyMEMuJTIwYW5kJTIwQ2FydmVyJTJDJTIwSmVmZnJleSUyMGFuZCUyMFNodWxsJTJDJTIwRm9ycmVzdCUwQWFuZCUyMEZhYmJyaSUyQyUyMFNhbmRyYSUyMGFuZCUyMEQlQzMlQjNyaWElMkMlMjBFbWVyc29uJTIwYW5kJTIwTWFydGltaWFubyUyQyUyMEx1Y2lhbmElMEFhbmQlMjBNZW5kb24lN0IlQzMlQTclN0RhJTJDJTIwTWFub2VsJTIwYW5kJTIwQmFzaWxpJTJDJTIwVmljdG9yJTIyJTJDJTBBJTIwJTIwJTIwJTIwJTIwJTIwJTIwJTIwcGxhY2UlM0RFU0UlMkMlMEElMjAlMjAlMjAlMjAlMjAlMjAlMjAlMjBwcCUzRCUyMjExOS0tMTQyJTIyJTJDJTBBJTIwJTIwJTIwJTIwJTIwJTIwJTIwJTIwZW50cnl0eXBlJTNEJTIyYXJ0aWNsZSUyMiUyQyUwQSUyMCUyMCUyMCUyMCUyMCUyMCUyMCUyMG1vbnRoJTNEJTIyTWFyJTIyJTJDJTBBJTIwJTIwJTIwJTIwJTIwJTIwJTIwJTIwZGF5JTNEJTIyMDElMjIlMkMlMEElMjAlMjAlMjAlMjAlMjAlMjAlMjAlMjB2b2x1bWUlM0QlMjIxMSUyMiUyQyUwQSUyMCUyMCUyMCUyMCUyMCUyMCUyMCUyMG51bWJlciUzRCUyMjElMjIlMkMlMEElMjAlMjAlMjAlMjAlMjAlMjAlMjAlMjBpc3NuJTNEJTIyMTU3My03NjE2JTIyJTJDJTBBJTIwJTIwJTIwJTIwJTIwJTIwJTIwJTIwZG9pJTNEJTIyMTAuMTAwNy9zMTA2NjQtMDA2LTU5NjctNiUyMiUyQyUwQSUyMCUyMCUyMCUyMCUyMCUyMCUyMCUyMElEJTNEJTIyTWFsZG9uYWRvMjAwNiUyMiUyQyUwQSUyMCUyMCUyMCUyMCUyMCUyMCUyMCUyMHNwcmluZ2VyMjAxNSUzRCUyMjElMjIlMkMlMEElMjAlMjAlMjAlMjAlMjAlMjAlMjAlMjBwbGFjZXglM0QlMjJFbXBpcmljYWwlMjBTb2Z0d2FyZSUyMEVuZ2luZWVyaW5nJTIyJTJDJTBBJTIwJTIwJTIwJTIwJTI5JTI5JTBBJTI3JTI3JTI3JTI5JTNC\")));\n",
       "    "
      ],
      "text/plain": [
       "<IPython.core.display.Javascript object>"
      ]
     },
     "metadata": {},
     "output_type": "display_data"
    },
    {
     "data": {
      "application/javascript": [
       "$('span:contains(\"# Temp\")').closest('.cell').remove();"
      ],
      "text/plain": [
       "<IPython.core.display.Javascript object>"
      ]
     },
     "metadata": {},
     "output_type": "display_data"
    },
    {
     "data": {
      "application/javascript": [
       "\n",
       "        $('span:contains(\"# Temp\")').closest('.cell').remove();\n",
       "        var code = IPython.notebook.insert_cell_below('code');\n",
       "        code.set_text(decodeURIComponent(window.atob(\"JTIzJTIwVGVtcCUwQWluc2VydCUyOCUyNyUyNyUyNyUwQSUyMCUyMCUyMCUyMGdhcmMyMDEzYSUyMCUzRCUyMERCJTI4V29ya1VucmVsYXRlZCUyOCUwQSUyMCUyMCUyMCUyMCUyMCUyMCUyMCUyMDIwMTMlMkMlMjAlMjJQcmFjdGljYWwlMjBleHBlcmllbmNlcyUyMGluJTIwbW9kZWxsaW5nJTIwc29mdHdhcmUlMjBlbmdpbmVlcmluZyUyMHByYWN0aWNlcyUzQSUyMFRoZSUyMHByb2plY3QlMjBwYXR0ZXJucyUyMGFwcHJvYWNoJTIyJTJDJTBBJTIwJTIwJTIwJTIwJTIwJTIwJTIwJTIwZGlzcGxheSUzRCUyMmdhcmMlMjIlMkMlMEElMjAlMjAlMjAlMjAlMjAlMjAlMjAlMjBhdXRob3JzJTNEJTIyR2FyYyU3QmklQ0MlODElN0RhJTIwR3V6bSVDMyVBMW4lMkMlMjBKYXZpZXIlMjBhbmQlMjBNYXJ0JTdCaSVDQyU4MSU3RG4lMkMlMjBEaWVnbyUwQWFuZCUyMFVyYmFubyUyQyUyMEp1bGklQzMlQTFuJTIwYW5kJTIwZGUlMjBBbWVzY3VhJTJDJTIwQW50b25pbyUyMiUyQyUwQSUyMCUyMCUyMCUyMCUyMCUyMCUyMCUyMHBsYWNlJTNEU1FKJTJDJTBBJTIwJTIwJTIwJTIwJTIwJTIwJTIwJTIwcHAlM0QlMjIzMjUtLTM1NCUyMiUyQyUwQSUyMCUyMCUyMCUyMCUyMCUyMCUyMCUyMGVudHJ5dHlwZSUzRCUyMmFydGljbGUlMjIlMkMlMEElMjAlMjAlMjAlMjAlMjAlMjAlMjAlMjBtb250aCUzRCUyMkp1biUyMiUyQyUwQSUyMCUyMCUyMCUyMCUyMCUyMCUyMCUyMGRheSUzRCUyMjAxJTIyJTJDJTBBJTIwJTIwJTIwJTIwJTIwJTIwJTIwJTIwdm9sdW1lJTNEJTIyMjElMjIlMkMlMEElMjAlMjAlMjAlMjAlMjAlMjAlMjAlMjBudW1iZXIlM0QlMjIyJTIyJTJDJTBBJTIwJTIwJTIwJTIwJTIwJTIwJTIwJTIwaXNzbiUzRCUyMjE1NzMtMTM2NyUyMiUyQyUwQSUyMCUyMCUyMCUyMCUyMCUyMCUyMCUyMGRvaSUzRCUyMjEwLjEwMDcvczExMjE5LTAxMi05MTc3LTglMjIlMkMlMEElMjAlMjAlMjAlMjAlMjAlMjAlMjAlMjBJRCUzRCUyMkdhcmMlQzMlQURhR3V6bSVDMyVBMW4yMDEzJTIyJTJDJTBBJTIwJTIwJTIwJTIwJTIwJTIwJTIwJTIwc3ByaW5nZXIyMDE1JTNEJTIyMSUyMiUyQyUwQSUyMCUyMCUyMCUyMCUyMCUyMCUyMCUyMHBsYWNleCUzRCUyMlNvZnR3YXJlJTIwUXVhbGl0eSUyMEpvdXJuYWwlMjIlMkMlMEElMjAlMjAlMjAlMjAlMjklMjklMEElMjclMjclMjclMjklM0I=\")));\n",
       "    "
      ],
      "text/plain": [
       "<IPython.core.display.Javascript object>"
      ]
     },
     "metadata": {},
     "output_type": "display_data"
    },
    {
     "data": {
      "application/javascript": [
       "$('span:contains(\"# Temp\")').closest('.cell').remove();"
      ],
      "text/plain": [
       "<IPython.core.display.Javascript object>"
      ]
     },
     "metadata": {},
     "output_type": "display_data"
    },
    {
     "data": {
      "application/javascript": [
       "\n",
       "        $('span:contains(\"# Temp\")').closest('.cell').remove();\n",
       "        var code = IPython.notebook.insert_cell_below('code');\n",
       "        code.set_text(decodeURIComponent(window.atob(\"JTIzJTIwVGVtcCUwQWluc2VydCUyOCUyNyUyNyUyNyUwQSUyMCUyMCUyMCUyMGdhcmMyMDEzYSUyMCUzRCUyMERCJTI4V29ya1VucmVsYXRlZCUyOCUwQSUyMCUyMCUyMCUyMCUyMCUyMCUyMCUyMDIwMTMlMkMlMjAlMjJQcmFjdGljYWwlMjBleHBlcmllbmNlcyUyMGluJTIwbW9kZWxsaW5nJTIwc29mdHdhcmUlMjBlbmdpbmVlcmluZyUyMHByYWN0aWNlcyUzQSUyMFRoZSUyMHByb2plY3QlMjBwYXR0ZXJucyUyMGFwcHJvYWNoJTIyJTJDJTBBJTIwJTIwJTIwJTIwJTIwJTIwJTIwJTIwZGlzcGxheSUzRCUyMmdhcmMlMjIlMkMlMEElMjAlMjAlMjAlMjAlMjAlMjAlMjAlMjBhdXRob3JzJTNEJTIyR2FyYyU3QmklQ0MlODElN0RhJTIwR3V6bSVDMyVBMW4lMkMlMjBKYXZpZXIlMjBhbmQlMjBNYXJ0JTdCaSVDQyU4MSU3RG4lMkMlMjBEaWVnbyUwQWFuZCUyMFVyYmFubyUyQyUyMEp1bGklQzMlQTFuJTIwYW5kJTIwZGUlMjBBbWVzY3VhJTJDJTIwQW50b25pbyUyMiUyQyUwQSUyMCUyMCUyMCUyMCUyMCUyMCUyMCUyMHBsYWNlJTNEU1FKJTJDJTBBJTIwJTIwJTIwJTIwJTIwJTIwJTIwJTIwcHAlM0QlMjIzMjUtLTM1NCUyMiUyQyUwQSUyMCUyMCUyMCUyMCUyMCUyMCUyMCUyMGVudHJ5dHlwZSUzRCUyMmFydGljbGUlMjIlMkMlMEElMjAlMjAlMjAlMjAlMjAlMjAlMjAlMjBtb250aCUzRCUyMkp1biUyMiUyQyUwQSUyMCUyMCUyMCUyMCUyMCUyMCUyMCUyMGRheSUzRCUyMjAxJTIyJTJDJTBBJTIwJTIwJTIwJTIwJTIwJTIwJTIwJTIwdm9sdW1lJTNEJTIyMjElMjIlMkMlMEElMjAlMjAlMjAlMjAlMjAlMjAlMjAlMjBudW1iZXIlM0QlMjIyJTIyJTJDJTBBJTIwJTIwJTIwJTIwJTIwJTIwJTIwJTIwaXNzbiUzRCUyMjE1NzMtMTM2NyUyMiUyQyUwQSUyMCUyMCUyMCUyMCUyMCUyMCUyMCUyMGRvaSUzRCUyMjEwLjEwMDcvczExMjE5LTAxMi05MTc3LTglMjIlMkMlMEElMjAlMjAlMjAlMjAlMjAlMjAlMjAlMjBJRCUzRCUyMkdhcmMlQzMlQURhR3V6bSVDMyVBMW4yMDEzJTIyJTJDJTBBJTIwJTIwJTIwJTIwJTIwJTIwJTIwJTIwc3ByaW5nZXIyMDE1JTNEJTIyMSUyMiUyQyUwQSUyMCUyMCUyMCUyMCUyMCUyMCUyMCUyMHBsYWNleCUzRCUyMlNvZnR3YXJlJTIwUXVhbGl0eSUyMEpvdXJuYWwlMjIlMkMlMEElMjAlMjAlMjAlMjAlMjklMjklMEElMjclMjclMjclMjklM0I=\")));\n",
       "    "
      ],
      "text/plain": [
       "<IPython.core.display.Javascript object>"
      ]
     },
     "metadata": {},
     "output_type": "display_data"
    }
   ],
   "source": [
    "from custom_snowballing import UnrelatedInsert\n",
    "UnrelatedInsert(\"springer2015\", articles=article_list)"
   ]
  },
  {
   "cell_type": "code",
   "execution_count": null,
   "metadata": {
    "collapsed": true
   },
   "outputs": [],
   "source": [
    "# Temp\n",
    "insert('''\n",
    "garcia2013a = DB(WorkUnrelated(\n",
    "    2013, \"Practical experiences in modelling software engineering practices: The project patterns approach\",\n",
    "    display=\"garcia\",\n",
    "        authors=\"Garciaa Guzmán, Javier and Mart{í}n, Diego and Urbano, Julián and de Amescua, Antonio\",\n",
    "        place=SQJ,\n",
    "        pp=\"325--354\",\n",
    "        entrytype=\"article\",\n",
    "        month=\"Jun\",\n",
    "        day=\"01\",\n",
    "        volume=\"21\",\n",
    "        number=\"2\",\n",
    "        issn=\"1573-1367\",\n",
    "        doi=\"10.1007/s11219-012-9177-8\",\n",
    "        ID=\"GarcíaGuzmán2013\",\n",
    "        springer2015=\"1\",\n",
    "        placex=\"Software Quality Journal\",\n",
    "    ))\n",
    "''');"
   ]
  },
  {
   "cell_type": "code",
   "execution_count": null,
   "metadata": {},
   "outputs": [],
   "source": [
    "ArticleNavigator(articles=article_list)"
   ]
  }
 ],
 "metadata": {
  "kernelspec": {
   "display_name": "Python 3",
   "language": "python",
   "name": "python3"
  },
  "language_info": {
   "codemirror_mode": {
    "name": "ipython",
    "version": 3
   },
   "file_extension": ".py",
   "mimetype": "text/x-python",
   "name": "python",
   "nbconvert_exporter": "python",
   "pygments_lexer": "ipython3",
   "version": "3.6.0"
  },
  "toc": {
   "nav_menu": {
    "height": "12px",
    "width": "252px"
   },
   "number_sections": true,
   "sideBar": true,
   "skip_h1_title": false,
   "toc_cell": false,
   "toc_position": {},
   "toc_section_display": "block",
   "toc_window_display": false
  }
 },
 "nbformat": 4,
 "nbformat_minor": 2
}
