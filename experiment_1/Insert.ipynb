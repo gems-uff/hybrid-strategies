{
 "cells": [
  {
   "cell_type": "code",
   "execution_count": 1,
   "metadata": {
    "collapsed": true
   },
   "outputs": [],
   "source": [
    "import database\n",
    "from snowballing.operations import load_work, reload, work_by_varname\n",
    "from snowballing.snowballing import Converter\n",
    "from snowballing.snowballing import ArticleNavigator\n",
    "from snowballing.dbmanager import insert, set_attribute"
   ]
  },
  {
   "cell_type": "code",
   "execution_count": 2,
   "metadata": {
    "scrolled": false
   },
   "outputs": [
    {
     "data": {
      "application/vnd.jupyter.widget-view+json": {
       "model_id": "45778b589c6241f084bb175b9cf87b35",
       "version_major": 2,
       "version_minor": 0
      },
      "text/html": [
       "<p>Failed to display Jupyter Widget of type <code>VBox</code>.</p>\n",
       "<p>\n",
       "  If you're reading this message in Jupyter Notebook or JupyterLab, it may mean\n",
       "  that the widgets JavaScript is still loading. If this message persists, it\n",
       "  likely means that the widgets JavaScript library is either not installed or\n",
       "  not enabled. See the <a href=\"https://ipywidgets.readthedocs.io/en/stable/user_install.html\">Jupyter\n",
       "  Widgets Documentation</a> for setup instructions.\n",
       "</p>\n",
       "<p>\n",
       "  If you're reading this message in another notebook frontend (for example, a static\n",
       "  rendering on GitHub or <a href=\"https://nbviewer.jupyter.org/\">NBViewer</a>),\n",
       "  it may mean that your frontend doesn't currently support widgets.\n",
       "</p>\n"
      ],
      "text/plain": [
       "VBox(children=(HBox(children=(Dropdown(options={'BibTeX': 'bibtex', 'Text': 'text', '[N] author name place other year': 'citation', 'Quoted': 'quoted'}, value='bibtex'), Button(description='Set article_list variable', style=ButtonStyle()), Label(value=''))), HBox(children=(Textarea(value='', layout=Layout(height='500px', width='50%')), Textarea(value='', layout=Layout(height='500px', width='50%'))))))"
      ]
     },
     "metadata": {},
     "output_type": "display_data"
    }
   ],
   "source": [
    "Converter(\"bibtex\")"
   ]
  },
  {
   "cell_type": "code",
   "execution_count": 3,
   "metadata": {},
   "outputs": [
    {
     "data": {
      "text/plain": [
       "28"
      ]
     },
     "execution_count": 3,
     "metadata": {},
     "output_type": "execute_result"
    }
   ],
   "source": [
    "len(article_list)"
   ]
  },
  {
   "cell_type": "code",
   "execution_count": 4,
   "metadata": {
    "collapsed": true
   },
   "outputs": [],
   "source": [
    "from snowballing.operations import reload\n",
    "reload()\n"
   ]
  },
  {
   "cell_type": "code",
   "execution_count": null,
   "metadata": {
    "collapsed": true
   },
   "outputs": [],
   "source": []
  },
  {
   "cell_type": "code",
   "execution_count": 5,
   "metadata": {},
   "outputs": [
    {
     "data": {
      "application/vnd.jupyter.widget-view+json": {
       "model_id": "b981ffe361784e158e059ba20cbffd3e",
       "version_major": 2,
       "version_minor": 0
      },
      "text/html": [
       "<p>Failed to display Jupyter Widget of type <code>VBox</code>.</p>\n",
       "<p>\n",
       "  If you're reading this message in Jupyter Notebook or JupyterLab, it may mean\n",
       "  that the widgets JavaScript is still loading. If this message persists, it\n",
       "  likely means that the widgets JavaScript library is either not installed or\n",
       "  not enabled. See the <a href=\"https://ipywidgets.readthedocs.io/en/stable/user_install.html\">Jupyter\n",
       "  Widgets Documentation</a> for setup instructions.\n",
       "</p>\n",
       "<p>\n",
       "  If you're reading this message in another notebook frontend (for example, a static\n",
       "  rendering on GitHub or <a href=\"https://nbviewer.jupyter.org/\">NBViewer</a>),\n",
       "  it may mean that your frontend doesn't currently support widgets.\n",
       "</p>\n"
      ],
      "text/plain": [
       "VBox(children=(HBox(children=(Button(description='Previous Article', disabled=True, icon='caret-left', style=ButtonStyle()), Button(description='Reload Article', icon='refresh', style=ButtonStyle()), Button(description='Next Article', icon='caret-right', style=ButtonStyle()))), HBox(children=(Dropdown(description='Type', index=5, options=('Work', 'WorkSnowball', 'WorkForward', 'WorkBackward', 'WorkOk', 'WorkUnrelated', 'WorkNoFile', 'WorkLang', 'Site', 'Email'), value='WorkUnrelated'), ToggleButton(value=False, description='File'))), HBox(children=(Text(value='', description='Due'), Text(value='', description='Place'))), HBox(children=(Text(value='', description='Year'), Text(value='', description='Prefix Var'))), HBox(children=(Text(value='', description='PDFPage'), Text(value='', description='Related'))), HBox(children=(Text(value='', description='Display'), Text(value='', description='Summary'))), HBox(children=(Text(value='', description='Star'), Text(value='', description='Link'))), HBox(children=(Text(value='1', description='sciencedirect'),)), HBox(children=(Button(description='Reload Article', icon='refresh', style=ButtonStyle()), IntSlider(value=0, max=27), Label(value='1/28'))), Output()))"
      ]
     },
     "metadata": {},
     "output_type": "display_data"
    },
    {
     "data": {
      "application/javascript": [
       "$('span:contains(\"# Temp\")').closest('.cell').remove();"
      ],
      "text/plain": [
       "<IPython.core.display.Javascript object>"
      ]
     },
     "metadata": {},
     "output_type": "display_data"
    },
    {
     "data": {
      "application/javascript": [
       "\n",
       "        $('span:contains(\"# Temp\")').closest('.cell').remove();\n",
       "        var code = IPython.notebook.insert_cell_below('code');\n",
       "        code.set_text(atob(\"IyBUZW1wCmluc2VydCgnJycKa293YWxjenlrMjAxNWEgPSBEQihXb3JrVW5yZWxhdGVkKAogICAgMjAxNSwgIkFuIGFtYmlkZXh0cm91cyBwZXJzcGVjdGl2ZSBvbiBidXNpbmVzcyBpbnRlbGxpZ2VuY2UgYW5kIGFuYWx5dGljcyBzdXBwb3J0IGluIGRlY2lzaW9uIHByb2Nlc3NlczogSW5zaWdodHMgZnJvbSBhIG11bHRpcGxlIGNhc2Ugc3R1ZHkiLAogICAgZGlzcGxheT0ia293YWxjenlrIiwKICAgIGF1dGhvcnM9Ik1hcnRpbiBLb3dhbGN6eWsgYW5kIFBldGVyIEJ1eG1hbm4iLAogICAgcGxhY2U9RkFLRSwKICAgIHBwPSIxIC0gMTMiLAogICAgZW50cnl0eXBlPSJhcnRpY2xlIiwKICAgIHZvbHVtZT0iODAiLAogICAgbnVtYmVyPSIiLAogICAgbm90ZT0iIiwKICAgIGlzc249IjAxNjctOTIzNiIsCiAgICBkb2k9Imh0dHBzOi8vZG9pLm9yZy8xMC4xMDE2L2ouZHNzLjIwMTUuMDguMDEwIiwKICAgIGxpbms9Imh0dHBzOi8vd3d3LnNjaWVuY2VkaXJlY3QuY29tL3NjaWVuY2UvYXJ0aWNsZS9waWkvUzAxNjc5MjM2MTUwMDE2MzMiLAogICAga2V5d29yZD0iQW1iaWRleHRlcml0eSIsCiAgICBJRD0iS293YWxjenlrMjAxNTEiLAogICAgc2NpZW5jZWRpcmVjdD0iMSIsCiAgICBwbGFjZXg9IkRlY2lzaW9uIFN1cHBvcnQgU3lzdGVtcyIsCikpCicnJyk7\"));\n",
       "    "
      ],
      "text/plain": [
       "<IPython.core.display.Javascript object>"
      ]
     },
     "metadata": {},
     "output_type": "display_data"
    },
    {
     "data": {
      "application/javascript": [
       "$('span:contains(\"# Temp\")').closest('.cell').remove();"
      ],
      "text/plain": [
       "<IPython.core.display.Javascript object>"
      ]
     },
     "metadata": {},
     "output_type": "display_data"
    },
    {
     "data": {
      "application/javascript": [
       "\n",
       "        $('span:contains(\"# Temp\")').closest('.cell').remove();\n",
       "        var code = IPython.notebook.insert_cell_below('code');\n",
       "        code.set_text(atob(\"IyBUZW1wCmluc2VydCgnJycKaHVydGFkbzIwMTVhID0gREIoV29ya1VucmVsYXRlZCgKICAgIDIwMTUsICJVc2luZyBzaW11bGF0aW9uIHRvIGFpZCBkZWNpc2lvbiBtYWtpbmcgaW4gbWFuYWdpbmcgdGhlIHVzYWJpbGl0eSBldmFsdWF0aW9uIHByb2Nlc3MiLAogICAgZGlzcGxheT0iaHVydGFkbyIsCiAgICBhdXRob3JzPSJOdXJpYSBIdXJ0YWRvIGFuZCBNZXJjZWRlcyBSdWl6IGFuZCBFbGVuYSBPcnRhIGFuZCBKZXP6cyBUb3JyZXMiLAogICAgcGxhY2U9SVNULAogICAgcHA9IjUwOSAtIDUyNiIsCiAgICBlbnRyeXR5cGU9ImFydGljbGUiLAogICAgdm9sdW1lPSI1NyIsCiAgICBudW1iZXI9IiIsCiAgICBub3RlPSIiLAogICAgaXNzbj0iMDk1MC01ODQ5IiwKICAgIGRvaT0iaHR0cHM6Ly9kb2kub3JnLzEwLjEwMTYvai5pbmZzb2YuMjAxNC4wNi4wMDEiLAogICAgbGluaz0iaHR0cHM6Ly93d3cuc2NpZW5jZWRpcmVjdC5jb20vc2NpZW5jZS9hcnRpY2xlL3BpaS9TMDk1MDU4NDkxNDAwMTQwMiIsCiAgICBrZXl3b3JkPSJTb2Z0d2FyZSBwcm9jZXNzIGltcHJvdmVtZW50IiwKICAgIElEPSJIdXJ0YWRvMjAxNTUwOSIsCiAgICBzY2llbmNlZGlyZWN0PSIxIiwKICAgIHBsYWNleD0iSW5mb3JtYXRpb24gYW5kIFNvZnR3YXJlIFRlY2hub2xvZ3kiLAopKQonJycpOw==\"));\n",
       "    "
      ],
      "text/plain": [
       "<IPython.core.display.Javascript object>"
      ]
     },
     "metadata": {},
     "output_type": "display_data"
    },
    {
     "data": {
      "application/javascript": [
       "$('span:contains(\"# Temp\")').closest('.cell').remove();"
      ],
      "text/plain": [
       "<IPython.core.display.Javascript object>"
      ]
     },
     "metadata": {},
     "output_type": "display_data"
    },
    {
     "data": {
      "application/javascript": [
       "\n",
       "        $('span:contains(\"# Temp\")').closest('.cell').remove();\n",
       "        var code = IPython.notebook.insert_cell_below('code');\n",
       "        code.set_text(atob(\"IyBUZW1wCmluc2VydCgnJycKaHVydGFkbzIwMTVhID0gREIoV29ya1VucmVsYXRlZCgKICAgIDIwMTUsICJVc2luZyBzaW11bGF0aW9uIHRvIGFpZCBkZWNpc2lvbiBtYWtpbmcgaW4gbWFuYWdpbmcgdGhlIHVzYWJpbGl0eSBldmFsdWF0aW9uIHByb2Nlc3MiLAogICAgZGlzcGxheT0iaHVydGFkbyIsCiAgICBhdXRob3JzPSJOdXJpYSBIdXJ0YWRvIGFuZCBNZXJjZWRlcyBSdWl6IGFuZCBFbGVuYSBPcnRhIGFuZCBKZXP6cyBUb3JyZXMiLAogICAgcGxhY2U9SVNULAogICAgcHA9IjUwOSAtIDUyNiIsCiAgICBlbnRyeXR5cGU9ImFydGljbGUiLAogICAgdm9sdW1lPSI1NyIsCiAgICBudW1iZXI9IiIsCiAgICBub3RlPSIiLAogICAgaXNzbj0iMDk1MC01ODQ5IiwKICAgIGRvaT0iaHR0cHM6Ly9kb2kub3JnLzEwLjEwMTYvai5pbmZzb2YuMjAxNC4wNi4wMDEiLAogICAgbGluaz0iaHR0cHM6Ly93d3cuc2NpZW5jZWRpcmVjdC5jb20vc2NpZW5jZS9hcnRpY2xlL3BpaS9TMDk1MDU4NDkxNDAwMTQwMiIsCiAgICBrZXl3b3JkPSJTb2Z0d2FyZSBwcm9jZXNzIGltcHJvdmVtZW50IiwKICAgIElEPSJIdXJ0YWRvMjAxNTUwOSIsCiAgICBzY2llbmNlZGlyZWN0PSIxIiwKICAgIHBsYWNleD0iSW5mb3JtYXRpb24gYW5kIFNvZnR3YXJlIFRlY2hub2xvZ3kiLAopKQonJycpOw==\"));\n",
       "    "
      ],
      "text/plain": [
       "<IPython.core.display.Javascript object>"
      ]
     },
     "metadata": {},
     "output_type": "display_data"
    },
    {
     "data": {
      "application/javascript": [
       "$('span:contains(\"# Temp\")').closest('.cell').remove();"
      ],
      "text/plain": [
       "<IPython.core.display.Javascript object>"
      ]
     },
     "metadata": {},
     "output_type": "display_data"
    },
    {
     "data": {
      "application/javascript": [
       "\n",
       "        $('span:contains(\"# Temp\")').closest('.cell').remove();\n",
       "        var code = IPython.notebook.insert_cell_below('code');\n",
       "        code.set_text(atob(\"IyBUZW1wCmluc2VydCgnJycKY3VlbmNhMjAxM2EgPSBEQihXb3JrVW5yZWxhdGVkKAogICAgMjAxMywgIlN0cnVjdHVyYWwgZWxlbWVudHMgb2YgY29vcmRpbmF0aW9uIG1lY2hhbmlzbXMgaW4gY29sbGFib3JhdGl2ZSBwbGFubmluZyBwcm9jZXNzZXMgYW5kIHRoZWlyIGFzc2Vzc21lbnQgdGhyb3VnaCBtYXR1cml0eSBtb2RlbHM6IEFwcGxpY2F0aW9uIHRvIGEgY2VyYW1pYyB0aWxlIGNvbXBhbnkiLAogICAgZGlzcGxheT0iY3VlbmNhIiwKICAgIGF1dGhvcnM9IkxsYW5vcyBDdWVuY2EgYW5kIEFuZHLpcyBCb3phIGFuZCBNLk0uRS4gQWxlbWFueSBhbmQgSm9zIEouTS4gVHJpZW5la2VucyIsCiAgICBwbGFjZT1DLAogICAgcHA9Ijg5OCAtIDkxMSIsCiAgICBlbnRyeXR5cGU9ImFydGljbGUiLAogICAgdm9sdW1lPSI2NCIsCiAgICBudW1iZXI9IjgiLAogICAgbm90ZT0iIiwKICAgIGlzc249IjAxNjYtMzYxNSIsCiAgICBkb2k9Imh0dHBzOi8vZG9pLm9yZy8xMC4xMDE2L2ouY29tcGluZC4yMDEzLjA2LjAxOSIsCiAgICBsaW5rPSJodHRwczovL3d3dy5zY2llbmNlZGlyZWN0LmNvbS9zY2llbmNlL2FydGljbGUvcGlpL1MwMTY2MzYxNTEzMDAxMzM0IiwKICAgIGtleXdvcmQ9IlN0cnVjdHVyYWwgZWxlbWVudHMgb2YgY29vcmRpbmF0aW9uIG1lY2hhbmlzbXMiLAogICAgSUQ9IkN1ZW5jYTIwMTM4OTgiLAogICAgc2NpZW5jZWRpcmVjdD0iMSIsCiAgICBwbGFjZXg9IkNvbXB1dGVycyBpbiBJbmR1c3RyeSIsCikpCicnJyk7\"));\n",
       "    "
      ],
      "text/plain": [
       "<IPython.core.display.Javascript object>"
      ]
     },
     "metadata": {},
     "output_type": "display_data"
    },
    {
     "data": {
      "application/javascript": [
       "$('span:contains(\"# Temp\")').closest('.cell').remove();"
      ],
      "text/plain": [
       "<IPython.core.display.Javascript object>"
      ]
     },
     "metadata": {},
     "output_type": "display_data"
    },
    {
     "data": {
      "application/javascript": [
       "\n",
       "        $('span:contains(\"# Temp\")').closest('.cell').remove();\n",
       "        var code = IPython.notebook.insert_cell_below('code');\n",
       "        code.set_text(atob(\"IyBUZW1wCmluc2VydCgnJycKY3VlbmNhMjAxM2EgPSBEQihXb3JrVW5yZWxhdGVkKAogICAgMjAxMywgIlN0cnVjdHVyYWwgZWxlbWVudHMgb2YgY29vcmRpbmF0aW9uIG1lY2hhbmlzbXMgaW4gY29sbGFib3JhdGl2ZSBwbGFubmluZyBwcm9jZXNzZXMgYW5kIHRoZWlyIGFzc2Vzc21lbnQgdGhyb3VnaCBtYXR1cml0eSBtb2RlbHM6IEFwcGxpY2F0aW9uIHRvIGEgY2VyYW1pYyB0aWxlIGNvbXBhbnkiLAogICAgZGlzcGxheT0iY3VlbmNhIiwKICAgIGF1dGhvcnM9IkxsYW5vcyBDdWVuY2EgYW5kIEFuZHLpcyBCb3phIGFuZCBNLk0uRS4gQWxlbWFueSBhbmQgSm9zIEouTS4gVHJpZW5la2VucyIsCiAgICBwbGFjZT1DLAogICAgcHA9Ijg5OCAtIDkxMSIsCiAgICBlbnRyeXR5cGU9ImFydGljbGUiLAogICAgdm9sdW1lPSI2NCIsCiAgICBudW1iZXI9IjgiLAogICAgbm90ZT0iIiwKICAgIGlzc249IjAxNjYtMzYxNSIsCiAgICBkb2k9Imh0dHBzOi8vZG9pLm9yZy8xMC4xMDE2L2ouY29tcGluZC4yMDEzLjA2LjAxOSIsCiAgICBsaW5rPSJodHRwczovL3d3dy5zY2llbmNlZGlyZWN0LmNvbS9zY2llbmNlL2FydGljbGUvcGlpL1MwMTY2MzYxNTEzMDAxMzM0IiwKICAgIGtleXdvcmQ9IlN0cnVjdHVyYWwgZWxlbWVudHMgb2YgY29vcmRpbmF0aW9uIG1lY2hhbmlzbXMiLAogICAgSUQ9IkN1ZW5jYTIwMTM4OTgiLAogICAgc2NpZW5jZWRpcmVjdD0iMSIsCiAgICBwbGFjZXg9IkNvbXB1dGVycyBpbiBJbmR1c3RyeSIsCikpCicnJyk7\"));\n",
       "    "
      ],
      "text/plain": [
       "<IPython.core.display.Javascript object>"
      ]
     },
     "metadata": {},
     "output_type": "display_data"
    },
    {
     "data": {
      "application/javascript": [
       "$('span:contains(\"# Temp\")').closest('.cell').remove();"
      ],
      "text/plain": [
       "<IPython.core.display.Javascript object>"
      ]
     },
     "metadata": {},
     "output_type": "display_data"
    },
    {
     "data": {
      "application/javascript": [
       "\n",
       "        $('span:contains(\"# Temp\")').closest('.cell').remove();\n",
       "        var code = IPython.notebook.insert_cell_below('code');\n",
       "        code.set_text(atob(\"IyBUZW1wCmluc2VydCgnJycKZO1hei1sZXkyMDEwYSA9IERCKFdvcmtVbnJlbGF0ZWQoCiAgICAyMDEwLCAiTUlTLVB5TUUgc29mdHdhcmUgbWVhc3VyZW1lbnQgY2FwYWJpbGl0eSBtYXR1cml0eSBtb2RlbCCWIFN1cHBvcnRpbmcgdGhlIGRlZmluaXRpb24gb2Ygc29mdHdhcmUgbWVhc3VyZW1lbnQgcHJvZ3JhbXMgYW5kIGNhcGFiaWxpdHkgZGV0ZXJtaW5hdGlvbiIsCiAgICBkaXNwbGF5PSJk7WF6LWxleSIsCiAgICBhdXRob3JzPSJNYXLtYSBE7WF6LUxleSBhbmQgRulsaXggR2FyY+1hIGFuZCBNYXJpbyBQaWF0dGluaSIsCiAgICBwbGFjZT1GQUtFLAogICAgcHA9IjEyMjMgLSAxMjM3IiwKICAgIGVudHJ5dHlwZT0iYXJ0aWNsZSIsCiAgICB2b2x1bWU9IjQxIiwKICAgIG51bWJlcj0iMTCWMTEiLAogICAgbm90ZT0iIiwKICAgIGlzc249IjA5NjUtOTk3OCIsCiAgICBkb2k9Imh0dHBzOi8vZG9pLm9yZy8xMC4xMDE2L2ouYWR2ZW5nc29mdC4yMDEwLjA2LjAwNyIsCiAgICBsaW5rPSJodHRwczovL3d3dy5zY2llbmNlZGlyZWN0LmNvbS9zY2llbmNlL2FydGljbGUvcGlpL1MwOTY1OTk3ODEwMDAwNjgyIiwKICAgIGtleXdvcmQ9IlNvZnR3YXJlIHByb2Nlc3MgbWF0dXJpdHkiLAogICAgSUQ9IkTtYXpMZXkyMDEwMTIyMyIsCiAgICBzY2llbmNlZGlyZWN0PSIxIiwKICAgIHBsYWNleD0iQWR2YW5jZXMgaW4gRW5naW5lZXJpbmcgU29mdHdhcmUiLAopKQonJycpOw==\"));\n",
       "    "
      ],
      "text/plain": [
       "<IPython.core.display.Javascript object>"
      ]
     },
     "metadata": {},
     "output_type": "display_data"
    },
    {
     "data": {
      "application/javascript": [
       "$('span:contains(\"# Temp\")').closest('.cell').remove();"
      ],
      "text/plain": [
       "<IPython.core.display.Javascript object>"
      ]
     },
     "metadata": {},
     "output_type": "display_data"
    },
    {
     "data": {
      "application/javascript": [
       "\n",
       "        $('span:contains(\"# Temp\")').closest('.cell').remove();\n",
       "        var code = IPython.notebook.insert_cell_below('code');\n",
       "        code.set_text(atob(\"IyBUZW1wCmluc2VydCgnJycKZO1hei1sZXkyMDEwYSA9IERCKFdvcmtVbnJlbGF0ZWQoCiAgICAyMDEwLCAiTUlTLVB5TUUgc29mdHdhcmUgbWVhc3VyZW1lbnQgY2FwYWJpbGl0eSBtYXR1cml0eSBtb2RlbCCWIFN1cHBvcnRpbmcgdGhlIGRlZmluaXRpb24gb2Ygc29mdHdhcmUgbWVhc3VyZW1lbnQgcHJvZ3JhbXMgYW5kIGNhcGFiaWxpdHkgZGV0ZXJtaW5hdGlvbiIsCiAgICBkaXNwbGF5PSJk7WF6LWxleSIsCiAgICBhdXRob3JzPSJNYXLtYSBE7WF6LUxleSBhbmQgRulsaXggR2FyY+1hIGFuZCBNYXJpbyBQaWF0dGluaSIsCiAgICBwbGFjZT1GQUtFLAogICAgcHA9IjEyMjMgLSAxMjM3IiwKICAgIGVudHJ5dHlwZT0iYXJ0aWNsZSIsCiAgICB2b2x1bWU9IjQxIiwKICAgIG51bWJlcj0iMTCWMTEiLAogICAgbm90ZT0iIiwKICAgIGlzc249IjA5NjUtOTk3OCIsCiAgICBkb2k9Imh0dHBzOi8vZG9pLm9yZy8xMC4xMDE2L2ouYWR2ZW5nc29mdC4yMDEwLjA2LjAwNyIsCiAgICBsaW5rPSJodHRwczovL3d3dy5zY2llbmNlZGlyZWN0LmNvbS9zY2llbmNlL2FydGljbGUvcGlpL1MwOTY1OTk3ODEwMDAwNjgyIiwKICAgIGtleXdvcmQ9IlNvZnR3YXJlIHByb2Nlc3MgbWF0dXJpdHkiLAogICAgSUQ9IkTtYXpMZXkyMDEwMTIyMyIsCiAgICBzY2llbmNlZGlyZWN0PSIxIiwKICAgIHBsYWNleD0iQWR2YW5jZXMgaW4gRW5naW5lZXJpbmcgU29mdHdhcmUiLAopKQonJycpOw==\"));\n",
       "    "
      ],
      "text/plain": [
       "<IPython.core.display.Javascript object>"
      ]
     },
     "metadata": {},
     "output_type": "display_data"
    },
    {
     "data": {
      "application/javascript": [
       "$('span:contains(\"# Temp\")').closest('.cell').remove();"
      ],
      "text/plain": [
       "<IPython.core.display.Javascript object>"
      ]
     },
     "metadata": {},
     "output_type": "display_data"
    },
    {
     "data": {
      "application/javascript": [
       "\n",
       "        $('span:contains(\"# Temp\")').closest('.cell').remove();\n",
       "        var code = IPython.notebook.insert_cell_below('code');\n",
       "        code.set_text(atob(\"IyBUZW1wCmluc2VydCgnJycKcmllbDIwMTBhID0gREIoV29ya1VucmVsYXRlZCgKICAgIDIwMTAsICJRdWFsaWZpY2F0aW9uIGFuZCBjZXJ0aWZpY2F0aW9uIGZvciB0aGUgY29tcGV0aXRpdmUgZWRnZSBpbiBJbnRlZ3JhdGVkIERlc2lnbiIsCiAgICBkaXNwbGF5PSJyaWVsIiwKICAgIGF1dGhvcnM9IkEuIFJpZWwgYW5kIFMuIFRpY2hraWV3aXRjaCBhbmQgUi4gTWVzc25hcnoiLAogICAgcGxhY2U9RkFLRSwKICAgIHBwPSIyNzkgLSAyODkiLAogICAgZW50cnl0eXBlPSJhcnRpY2xlIiwKICAgIHZvbHVtZT0iMiIsCiAgICBudW1iZXI9IjQiLAogICAgbm90ZT0iQ29tcGV0aXRpdmUgRGVzaWduOiBce0NJUlBcfSBEZXNpZ24gQ29uZmVyZW5jZSwgQ3JhbmZpZWxkLCBVbml0ZWQgS2luZ2RvbUNJUlAgRGVzaWduIENvbmZlcmVuY2UiLAogICAgaXNzbj0iMTc1NS01ODE3IiwKICAgIGRvaT0iaHR0cHM6Ly9kb2kub3JnLzEwLjEwMTYvai5jaXJwai4yMDEwLjA0LjAwNSIsCiAgICBsaW5rPSJodHRwczovL3d3dy5zY2llbmNlZGlyZWN0LmNvbS9zY2llbmNlL2FydGljbGUvcGlpL1MxNzU1NTgxNzEwMDAwNDA0IiwKICAgIGtleXdvcmQ9IkNlcnRpZmljYXRpb24iLAogICAgSUQ9IlJpZWwyMDEwMjc5IiwKICAgIHNjaWVuY2VkaXJlY3Q9IjEiLAogICAgcGxhY2V4PSJce0NJUlBcfSBKb3VybmFsIG9mIE1hbnVmYWN0dXJpbmcgU2NpZW5jZSBhbmQgVGVjaG5vbG9neSIsCikpCicnJyk7\"));\n",
       "    "
      ],
      "text/plain": [
       "<IPython.core.display.Javascript object>"
      ]
     },
     "metadata": {},
     "output_type": "display_data"
    },
    {
     "data": {
      "application/javascript": [
       "$('span:contains(\"# Temp\")').closest('.cell').remove();"
      ],
      "text/plain": [
       "<IPython.core.display.Javascript object>"
      ]
     },
     "metadata": {},
     "output_type": "display_data"
    },
    {
     "data": {
      "application/javascript": [
       "\n",
       "        $('span:contains(\"# Temp\")').closest('.cell').remove();\n",
       "        var code = IPython.notebook.insert_cell_below('code');\n",
       "        code.set_text(atob(\"IyBUZW1wCmluc2VydCgnJycKcmllbDIwMTBhID0gREIoV29ya1VucmVsYXRlZCgKICAgIDIwMTAsICJRdWFsaWZpY2F0aW9uIGFuZCBjZXJ0aWZpY2F0aW9uIGZvciB0aGUgY29tcGV0aXRpdmUgZWRnZSBpbiBJbnRlZ3JhdGVkIERlc2lnbiIsCiAgICBkaXNwbGF5PSJyaWVsIiwKICAgIGF1dGhvcnM9IkEuIFJpZWwgYW5kIFMuIFRpY2hraWV3aXRjaCBhbmQgUi4gTWVzc25hcnoiLAogICAgcGxhY2U9RkFLRSwKICAgIHBwPSIyNzkgLSAyODkiLAogICAgZW50cnl0eXBlPSJhcnRpY2xlIiwKICAgIHZvbHVtZT0iMiIsCiAgICBudW1iZXI9IjQiLAogICAgbm90ZT0iQ29tcGV0aXRpdmUgRGVzaWduOiBce0NJUlBcfSBEZXNpZ24gQ29uZmVyZW5jZSwgQ3JhbmZpZWxkLCBVbml0ZWQgS2luZ2RvbUNJUlAgRGVzaWduIENvbmZlcmVuY2UiLAogICAgaXNzbj0iMTc1NS01ODE3IiwKICAgIGRvaT0iaHR0cHM6Ly9kb2kub3JnLzEwLjEwMTYvai5jaXJwai4yMDEwLjA0LjAwNSIsCiAgICBsaW5rPSJodHRwczovL3d3dy5zY2llbmNlZGlyZWN0LmNvbS9zY2llbmNlL2FydGljbGUvcGlpL1MxNzU1NTgxNzEwMDAwNDA0IiwKICAgIGtleXdvcmQ9IkNlcnRpZmljYXRpb24iLAogICAgSUQ9IlJpZWwyMDEwMjc5IiwKICAgIHNjaWVuY2VkaXJlY3Q9IjEiLAogICAgcGxhY2V4PSJce0NJUlBcfSBKb3VybmFsIG9mIE1hbnVmYWN0dXJpbmcgU2NpZW5jZSBhbmQgVGVjaG5vbG9neSIsCikpCicnJyk7\"));\n",
       "    "
      ],
      "text/plain": [
       "<IPython.core.display.Javascript object>"
      ]
     },
     "metadata": {},
     "output_type": "display_data"
    },
    {
     "data": {
      "application/javascript": [
       "$('span:contains(\"# Temp\")').closest('.cell').remove();"
      ],
      "text/plain": [
       "<IPython.core.display.Javascript object>"
      ]
     },
     "metadata": {},
     "output_type": "display_data"
    },
    {
     "data": {
      "application/javascript": [
       "\n",
       "        $('span:contains(\"# Temp\")').closest('.cell').remove();\n",
       "        var code = IPython.notebook.insert_cell_below('code');\n",
       "        code.set_text(atob(\"IyBUZW1wCmluc2VydCgnJycKcml0dGluZ2hvdXNlMjAwNGEgPSBEQihXb3JrVW5yZWxhdGVkKAogICAgMjAwNCwgIjEgLSBVbmRlcnN0YW5kaW5nIHRoZSBcU1BNT1wiLAogICAgZGlzcGxheT0icml0dGluZ2hvdXNlIiwKICAgIGF1dGhvcnM9IkpvaG4gVy4gUml0dGluZ2hvdXNlIiwKICAgIHBsYWNlPUZBS0UsCiAgICBwcD0iMSAtIDMwIiwKICAgIGVudHJ5dHlwZT0iaW5jb2xsZWN0aW9uIiwKICAgIGVkaXRvcj0iUml0dGluZ2hvdXNlLCBKb2huIFcuIiwKICAgIHB1Ymxpc2hlcj0iRGlnaXRhbCBQcmVzcyIsCiAgICBlZGl0aW9uPSIiLAogICAgYWRkcmVzcz0iQnVybGluZ3RvbiIsCiAgICBpc2JuPSI5NzgtMS01NTU1OC0zMTMtMiIsCiAgICBkb2k9Imh0dHBzOi8vZG9pLm9yZy8xMC4xMDE2L0I5NzgtMTU1NTU4MzEzLTIvNTAwMDQtMiIsCiAgICBsaW5rPSJodHRwczovL3d3dy5zY2llbmNlZGlyZWN0LmNvbS9zY2llbmNlL2FydGljbGUvcGlpL0I5NzgxNTU1NTgzMTMyNTAwMDQyIiwKICAgIElEPSJSaXR0aW5naG91c2UyMDA0MSIsCiAgICBzY2llbmNlZGlyZWN0PSIxIiwKICAgIHBsYWNleD0iTWFuYWdpbmcgU29mdHdhcmUgRGVsaXZlcmFibGVzIiwKKSkKJycnKTs=\"));\n",
       "    "
      ],
      "text/plain": [
       "<IPython.core.display.Javascript object>"
      ]
     },
     "metadata": {},
     "output_type": "display_data"
    },
    {
     "data": {
      "application/javascript": [
       "$('span:contains(\"# Temp\")').closest('.cell').remove();"
      ],
      "text/plain": [
       "<IPython.core.display.Javascript object>"
      ]
     },
     "metadata": {},
     "output_type": "display_data"
    },
    {
     "data": {
      "application/javascript": [
       "\n",
       "        $('span:contains(\"# Temp\")').closest('.cell').remove();\n",
       "        var code = IPython.notebook.insert_cell_below('code');\n",
       "        code.set_text(atob(\"IyBUZW1wCmluc2VydCgnJycKcml0dGluZ2hvdXNlMjAwNGEgPSBEQihXb3JrVW5yZWxhdGVkKAogICAgMjAwNCwgIjEgLSBVbmRlcnN0YW5kaW5nIHRoZSBcU1BNT1wiLAogICAgZGlzcGxheT0icml0dGluZ2hvdXNlIiwKICAgIGF1dGhvcnM9IkpvaG4gVy4gUml0dGluZ2hvdXNlIiwKICAgIHBsYWNlPUZBS0UsCiAgICBwcD0iMSAtIDMwIiwKICAgIGVudHJ5dHlwZT0iaW5jb2xsZWN0aW9uIiwKICAgIGVkaXRvcj0iUml0dGluZ2hvdXNlLCBKb2huIFcuIiwKICAgIHB1Ymxpc2hlcj0iRGlnaXRhbCBQcmVzcyIsCiAgICBlZGl0aW9uPSIiLAogICAgYWRkcmVzcz0iQnVybGluZ3RvbiIsCiAgICBpc2JuPSI5NzgtMS01NTU1OC0zMTMtMiIsCiAgICBkb2k9Imh0dHBzOi8vZG9pLm9yZy8xMC4xMDE2L0I5NzgtMTU1NTU4MzEzLTIvNTAwMDQtMiIsCiAgICBsaW5rPSJodHRwczovL3d3dy5zY2llbmNlZGlyZWN0LmNvbS9zY2llbmNlL2FydGljbGUvcGlpL0I5NzgxNTU1NTgzMTMyNTAwMDQyIiwKICAgIElEPSJSaXR0aW5naG91c2UyMDA0MSIsCiAgICBzY2llbmNlZGlyZWN0PSIxIiwKICAgIHBsYWNleD0iTWFuYWdpbmcgU29mdHdhcmUgRGVsaXZlcmFibGVzIiwKKSkKJycnKTs=\"));\n",
       "    "
      ],
      "text/plain": [
       "<IPython.core.display.Javascript object>"
      ]
     },
     "metadata": {},
     "output_type": "display_data"
    },
    {
     "data": {
      "application/javascript": [
       "$('span:contains(\"# Temp\")').closest('.cell').remove();"
      ],
      "text/plain": [
       "<IPython.core.display.Javascript object>"
      ]
     },
     "metadata": {},
     "output_type": "display_data"
    },
    {
     "data": {
      "application/javascript": [
       "\n",
       "        $('span:contains(\"# Temp\")').closest('.cell').remove();\n",
       "        var code = IPython.notebook.insert_cell_below('code');\n",
       "        code.set_text(atob(\"IyBUZW1wCmluc2VydCgnJycKZG9t7W5ndWV6LW1heW8yMDEyYSA9IERCKFdvcmtVbnJlbGF0ZWQoCiAgICAyMDEyLCAiQSBxdWFsaXR5IG1hbmFnZW1lbnQgYmFzZWQgb24gdGhlIFF1YWxpdHkgTW9kZWwgbGlmZSBjeWNsZSIsCiAgICBkaXNwbGF5PSJkb23tbmd1ZXotbWF5byIsCiAgICBhdXRob3JzPSJGLkouIERvbe1uZ3Vlei1NYXlvIGFuZCBNLkouIEVzY2Fsb25hIGFuZCBNLiBNZWrtYXMgYW5kIE0uIFJvc3MgYW5kIEcuIFN0YXBsZXMiLAogICAgcGxhY2U9Q1NJLAogICAgcHA9IjM5NiAtIDQxMiIsCiAgICBlbnRyeXR5cGU9ImFydGljbGUiLAogICAgdm9sdW1lPSIzNCIsCiAgICBudW1iZXI9IjQiLAogICAgbm90ZT0iIiwKICAgIGlzc249IjA5MjAtNTQ4OSIsCiAgICBkb2k9Imh0dHBzOi8vZG9pLm9yZy8xMC4xMDE2L2ouY3NpLjIwMTIuMDEuMDA0IiwKICAgIGxpbms9Imh0dHBzOi8vd3d3LnNjaWVuY2VkaXJlY3QuY29tL3NjaWVuY2UvYXJ0aWNsZS9waWkvUzA5MjA1NDg5MTIwMDAxNjUiLAogICAga2V5d29yZD0iTW9kZWwtZHJpdmVuIFdlYiBFbmdpbmVlcmluZyIsCiAgICBJRD0iRG9t7W5ndWV6TWF5bzIwMTIzOTYiLAogICAgc2NpZW5jZWRpcmVjdD0iMSIsCiAgICBwbGFjZXg9IkNvbXB1dGVyIFN0YW5kYXJkcyAmIEludGVyZmFjZXMiLAopKQonJycpOw==\"));\n",
       "    "
      ],
      "text/plain": [
       "<IPython.core.display.Javascript object>"
      ]
     },
     "metadata": {},
     "output_type": "display_data"
    },
    {
     "data": {
      "application/javascript": [
       "$('span:contains(\"# Temp\")').closest('.cell').remove();"
      ],
      "text/plain": [
       "<IPython.core.display.Javascript object>"
      ]
     },
     "metadata": {},
     "output_type": "display_data"
    },
    {
     "data": {
      "application/javascript": [
       "\n",
       "        $('span:contains(\"# Temp\")').closest('.cell').remove();\n",
       "        var code = IPython.notebook.insert_cell_below('code');\n",
       "        code.set_text(atob(\"IyBUZW1wCmluc2VydCgnJycKZG9t7W5ndWV6LW1heW8yMDEyYSA9IERCKFdvcmtVbnJlbGF0ZWQoCiAgICAyMDEyLCAiQSBxdWFsaXR5IG1hbmFnZW1lbnQgYmFzZWQgb24gdGhlIFF1YWxpdHkgTW9kZWwgbGlmZSBjeWNsZSIsCiAgICBkaXNwbGF5PSJkb23tbmd1ZXotbWF5byIsCiAgICBhdXRob3JzPSJGLkouIERvbe1uZ3Vlei1NYXlvIGFuZCBNLkouIEVzY2Fsb25hIGFuZCBNLiBNZWrtYXMgYW5kIE0uIFJvc3MgYW5kIEcuIFN0YXBsZXMiLAogICAgcGxhY2U9Q1NJLAogICAgcHA9IjM5NiAtIDQxMiIsCiAgICBlbnRyeXR5cGU9ImFydGljbGUiLAogICAgdm9sdW1lPSIzNCIsCiAgICBudW1iZXI9IjQiLAogICAgbm90ZT0iIiwKICAgIGlzc249IjA5MjAtNTQ4OSIsCiAgICBkb2k9Imh0dHBzOi8vZG9pLm9yZy8xMC4xMDE2L2ouY3NpLjIwMTIuMDEuMDA0IiwKICAgIGxpbms9Imh0dHBzOi8vd3d3LnNjaWVuY2VkaXJlY3QuY29tL3NjaWVuY2UvYXJ0aWNsZS9waWkvUzA5MjA1NDg5MTIwMDAxNjUiLAogICAga2V5d29yZD0iTW9kZWwtZHJpdmVuIFdlYiBFbmdpbmVlcmluZyIsCiAgICBJRD0iRG9t7W5ndWV6TWF5bzIwMTIzOTYiLAogICAgc2NpZW5jZWRpcmVjdD0iMSIsCiAgICBwbGFjZXg9IkNvbXB1dGVyIFN0YW5kYXJkcyAmIEludGVyZmFjZXMiLAopKQonJycpOw==\"));\n",
       "    "
      ],
      "text/plain": [
       "<IPython.core.display.Javascript object>"
      ]
     },
     "metadata": {},
     "output_type": "display_data"
    },
    {
     "data": {
      "application/javascript": [
       "$('span:contains(\"# Temp\")').closest('.cell').remove();"
      ],
      "text/plain": [
       "<IPython.core.display.Javascript object>"
      ]
     },
     "metadata": {},
     "output_type": "display_data"
    },
    {
     "data": {
      "application/javascript": [
       "\n",
       "        $('span:contains(\"# Temp\")').closest('.cell').remove();\n",
       "        var code = IPython.notebook.insert_cell_below('code');\n",
       "        code.set_text(atob(\"IyBUZW1wCmluc2VydCgnJycKa2lyazIwMTJhID0gREIoV29ya1VucmVsYXRlZCgKICAgIDIwMTIsICJBIGxpZ2h0d2VpZ2h0IGZyYW1ld29yayBmb3IgZGVzY3JpYmluZyBzb2Z0d2FyZSBwcmFjdGljZXMiLAogICAgZGlzcGxheT0ia2lyayIsCiAgICBhdXRob3JzPSJEaWFuYSBLaXJrIGFuZCBFd2FuIFRlbXBlcm8iLAogICAgcGxhY2U9SlNTLAogICAgcHA9IjU4MiAtIDU5NSIsCiAgICBlbnRyeXR5cGU9ImFydGljbGUiLAogICAgdm9sdW1lPSI4NSIsCiAgICBudW1iZXI9IjMiLAogICAgbm90ZT0iTm92ZWwgYXBwcm9hY2hlcyBpbiB0aGUgZGVzaWduIGFuZCBpbXBsZW1lbnRhdGlvbiBvZiBzeXN0ZW1zL3NvZnR3YXJlIGFyY2hpdGVjdHVyZSIsCiAgICBpc3NuPSIwMTY0LTEyMTIiLAogICAgZG9pPSJodHRwczovL2RvaS5vcmcvMTAuMTAxNi9qLmpzcy4yMDExLjA5LjAyNCIsCiAgICBsaW5rPSJodHRwczovL3d3dy5zY2llbmNlZGlyZWN0LmNvbS9zY2llbmNlL2FydGljbGUvcGlpL1MwMTY0MTIxMjExMDAyNDFYIiwKICAgIGtleXdvcmQ9IlJlc2VhcmNoIGZyYW1ld29yayIsCiAgICBJRD0iS2lyazIwMTI1ODIiLAogICAgc2NpZW5jZWRpcmVjdD0iMSIsCiAgICBwbGFjZXg9IkpvdXJuYWwgb2YgU3lzdGVtcyBhbmQgU29mdHdhcmUiLAopKQonJycpOw==\"));\n",
       "    "
      ],
      "text/plain": [
       "<IPython.core.display.Javascript object>"
      ]
     },
     "metadata": {},
     "output_type": "display_data"
    },
    {
     "data": {
      "application/javascript": [
       "$('span:contains(\"# Temp\")').closest('.cell').remove();"
      ],
      "text/plain": [
       "<IPython.core.display.Javascript object>"
      ]
     },
     "metadata": {},
     "output_type": "display_data"
    },
    {
     "data": {
      "application/javascript": [
       "\n",
       "        $('span:contains(\"# Temp\")').closest('.cell').remove();\n",
       "        var code = IPython.notebook.insert_cell_below('code');\n",
       "        code.set_text(atob(\"IyBUZW1wCmluc2VydCgnJycKa2lyazIwMTJhID0gREIoV29ya1VucmVsYXRlZCgKICAgIDIwMTIsICJBIGxpZ2h0d2VpZ2h0IGZyYW1ld29yayBmb3IgZGVzY3JpYmluZyBzb2Z0d2FyZSBwcmFjdGljZXMiLAogICAgZGlzcGxheT0ia2lyayIsCiAgICBhdXRob3JzPSJEaWFuYSBLaXJrIGFuZCBFd2FuIFRlbXBlcm8iLAogICAgcGxhY2U9SlNTLAogICAgcHA9IjU4MiAtIDU5NSIsCiAgICBlbnRyeXR5cGU9ImFydGljbGUiLAogICAgdm9sdW1lPSI4NSIsCiAgICBudW1iZXI9IjMiLAogICAgbm90ZT0iTm92ZWwgYXBwcm9hY2hlcyBpbiB0aGUgZGVzaWduIGFuZCBpbXBsZW1lbnRhdGlvbiBvZiBzeXN0ZW1zL3NvZnR3YXJlIGFyY2hpdGVjdHVyZSIsCiAgICBpc3NuPSIwMTY0LTEyMTIiLAogICAgZG9pPSJodHRwczovL2RvaS5vcmcvMTAuMTAxNi9qLmpzcy4yMDExLjA5LjAyNCIsCiAgICBsaW5rPSJodHRwczovL3d3dy5zY2llbmNlZGlyZWN0LmNvbS9zY2llbmNlL2FydGljbGUvcGlpL1MwMTY0MTIxMjExMDAyNDFYIiwKICAgIGtleXdvcmQ9IlJlc2VhcmNoIGZyYW1ld29yayIsCiAgICBJRD0iS2lyazIwMTI1ODIiLAogICAgc2NpZW5jZWRpcmVjdD0iMSIsCiAgICBwbGFjZXg9IkpvdXJuYWwgb2YgU3lzdGVtcyBhbmQgU29mdHdhcmUiLAopKQonJycpOw==\"));\n",
       "    "
      ],
      "text/plain": [
       "<IPython.core.display.Javascript object>"
      ]
     },
     "metadata": {},
     "output_type": "display_data"
    },
    {
     "data": {
      "application/javascript": [
       "$('span:contains(\"# Temp\")').closest('.cell').remove();"
      ],
      "text/plain": [
       "<IPython.core.display.Javascript object>"
      ]
     },
     "metadata": {},
     "output_type": "display_data"
    },
    {
     "data": {
      "application/javascript": [
       "\n",
       "        $('span:contains(\"# Temp\")').closest('.cell').remove();\n",
       "        var code = IPython.notebook.insert_cell_below('code');\n",
       "        code.set_text(atob(\"IyBUZW1wCmluc2VydCgnJycKYmFza2VydmlsbGUyMDE0YSA9IERCKFdvcmtVbnJlbGF0ZWQoCiAgICAyMDE0LCAiSW5jaWRlbnQtY2VudGVyZWQgaW5mb3JtYXRpb24gc2VjdXJpdHk6IE1hbmFnaW5nIGEgc3RyYXRlZ2ljIGJhbGFuY2UgYmV0d2VlbiBwcmV2ZW50aW9uIGFuZCByZXNwb25zZSIsCiAgICBkaXNwbGF5PSJiYXNrZXJ2aWxsZSIsCiAgICBhdXRob3JzPSJSaWNoYXJkIEJhc2tlcnZpbGxlIGFuZCBQYW9sbyBTcGFnbm9sZXR0aSBhbmQgSm9uZ3dvbyBLaW0iLAogICAgcGxhY2U9RkFLRSwKICAgIHBwPSIxMzggLSAxNTEiLAogICAgZW50cnl0eXBlPSJhcnRpY2xlIiwKICAgIHZvbHVtZT0iNTEiLAogICAgbnVtYmVyPSIxIiwKICAgIG5vdGU9IiIsCiAgICBpc3NuPSIwMzc4LTcyMDYiLAogICAgZG9pPSJodHRwczovL2RvaS5vcmcvMTAuMTAxNi9qLmltLjIwMTMuMTEuMDA0IiwKICAgIGxpbms9Imh0dHBzOi8vd3d3LnNjaWVuY2VkaXJlY3QuY29tL3NjaWVuY2UvYXJ0aWNsZS9waWkvUzAzNzg3MjA2MTMwMDExNzEiLAogICAga2V5d29yZD0iSW5jaWRlbnQtY2VudGVyZWQgYW5hbHlzaXMiLAogICAgSUQ9IkJhc2tlcnZpbGxlMjAxNDEzOCIsCiAgICBzY2llbmNlZGlyZWN0PSIxIiwKICAgIHBsYWNleD0iSW5mb3JtYXRpb24gJiBNYW5hZ2VtZW50IiwKKSkKJycnKTs=\"));\n",
       "    "
      ],
      "text/plain": [
       "<IPython.core.display.Javascript object>"
      ]
     },
     "metadata": {},
     "output_type": "display_data"
    },
    {
     "data": {
      "application/javascript": [
       "$('span:contains(\"# Temp\")').closest('.cell').remove();"
      ],
      "text/plain": [
       "<IPython.core.display.Javascript object>"
      ]
     },
     "metadata": {},
     "output_type": "display_data"
    },
    {
     "data": {
      "application/javascript": [
       "\n",
       "        $('span:contains(\"# Temp\")').closest('.cell').remove();\n",
       "        var code = IPython.notebook.insert_cell_below('code');\n",
       "        code.set_text(atob(\"IyBUZW1wCmluc2VydCgnJycKYmFza2VydmlsbGUyMDE0YSA9IERCKFdvcmtVbnJlbGF0ZWQoCiAgICAyMDE0LCAiSW5jaWRlbnQtY2VudGVyZWQgaW5mb3JtYXRpb24gc2VjdXJpdHk6IE1hbmFnaW5nIGEgc3RyYXRlZ2ljIGJhbGFuY2UgYmV0d2VlbiBwcmV2ZW50aW9uIGFuZCByZXNwb25zZSIsCiAgICBkaXNwbGF5PSJiYXNrZXJ2aWxsZSIsCiAgICBhdXRob3JzPSJSaWNoYXJkIEJhc2tlcnZpbGxlIGFuZCBQYW9sbyBTcGFnbm9sZXR0aSBhbmQgSm9uZ3dvbyBLaW0iLAogICAgcGxhY2U9RkFLRSwKICAgIHBwPSIxMzggLSAxNTEiLAogICAgZW50cnl0eXBlPSJhcnRpY2xlIiwKICAgIHZvbHVtZT0iNTEiLAogICAgbnVtYmVyPSIxIiwKICAgIG5vdGU9IiIsCiAgICBpc3NuPSIwMzc4LTcyMDYiLAogICAgZG9pPSJodHRwczovL2RvaS5vcmcvMTAuMTAxNi9qLmltLjIwMTMuMTEuMDA0IiwKICAgIGxpbms9Imh0dHBzOi8vd3d3LnNjaWVuY2VkaXJlY3QuY29tL3NjaWVuY2UvYXJ0aWNsZS9waWkvUzAzNzg3MjA2MTMwMDExNzEiLAogICAga2V5d29yZD0iSW5jaWRlbnQtY2VudGVyZWQgYW5hbHlzaXMiLAogICAgSUQ9IkJhc2tlcnZpbGxlMjAxNDEzOCIsCiAgICBzY2llbmNlZGlyZWN0PSIxIiwKICAgIHBsYWNleD0iSW5mb3JtYXRpb24gJiBNYW5hZ2VtZW50IiwKKSkKJycnKTs=\"));\n",
       "    "
      ],
      "text/plain": [
       "<IPython.core.display.Javascript object>"
      ]
     },
     "metadata": {},
     "output_type": "display_data"
    },
    {
     "data": {
      "application/javascript": [
       "$('span:contains(\"# Temp\")').closest('.cell').remove();"
      ],
      "text/plain": [
       "<IPython.core.display.Javascript object>"
      ]
     },
     "metadata": {},
     "output_type": "display_data"
    },
    {
     "data": {
      "application/javascript": [
       "\n",
       "        $('span:contains(\"# Temp\")').closest('.cell').remove();\n",
       "        var code = IPython.notebook.insert_cell_below('code');\n",
       "        code.set_text(atob(\"IyBUZW1wCmluc2VydCgnJycKc3VvbWFsYWluZW4yMDExYSA9IERCKFdvcmtVbnJlbGF0ZWQoCiAgICAyMDExLCAiU29mdHdhcmUgcHJvZHVjdCByb2FkbWFwcGluZyBpbiBhIHZvbGF0aWxlIGJ1c2luZXNzIGVudmlyb25tZW50IiwKICAgIGRpc3BsYXk9InN1b21hbGFpbmVuIiwKICAgIGF1dGhvcnM9IlRhbmphIFN1b21hbGFpbmVuIGFuZCBPdXRpIFNhbG8gYW5kIFBla2thIEFicmFoYW1zc29uIGFuZCBKb3VuaSBTaW1pbOQiLAogICAgcGxhY2U9SlNTLAogICAgcHA9Ijk1OCAtIDk3NSIsCiAgICBlbnRyeXR5cGU9ImFydGljbGUiLAogICAgdm9sdW1lPSI4NCIsCiAgICBudW1iZXI9IjYiLAogICAgbm90ZT0iIiwKICAgIGlzc249IjAxNjQtMTIxMiIsCiAgICBkb2k9Imh0dHBzOi8vZG9pLm9yZy8xMC4xMDE2L2ouanNzLjIwMTEuMDEuMDMxIiwKICAgIGxpbms9Imh0dHBzOi8vd3d3LnNjaWVuY2VkaXJlY3QuY29tL3NjaWVuY2UvYXJ0aWNsZS9waWkvUzAxNjQxMjEyMTEwMDAyMzkiLAogICAga2V5d29yZD0iU29mdHdhcmUgcHJvZHVjdCBtYW5hZ2VtZW50IiwKICAgIElEPSJTdW9tYWxhaW5lbjIwMTE5NTgiLAogICAgc2NpZW5jZWRpcmVjdD0iMSIsCiAgICBwbGFjZXg9IkpvdXJuYWwgb2YgU3lzdGVtcyBhbmQgU29mdHdhcmUiLAopKQonJycpOw==\"));\n",
       "    "
      ],
      "text/plain": [
       "<IPython.core.display.Javascript object>"
      ]
     },
     "metadata": {},
     "output_type": "display_data"
    },
    {
     "data": {
      "application/javascript": [
       "$('span:contains(\"# Temp\")').closest('.cell').remove();"
      ],
      "text/plain": [
       "<IPython.core.display.Javascript object>"
      ]
     },
     "metadata": {},
     "output_type": "display_data"
    },
    {
     "data": {
      "application/javascript": [
       "\n",
       "        $('span:contains(\"# Temp\")').closest('.cell').remove();\n",
       "        var code = IPython.notebook.insert_cell_below('code');\n",
       "        code.set_text(atob(\"IyBUZW1wCmluc2VydCgnJycKc3VvbWFsYWluZW4yMDExYSA9IERCKFdvcmtVbnJlbGF0ZWQoCiAgICAyMDExLCAiU29mdHdhcmUgcHJvZHVjdCByb2FkbWFwcGluZyBpbiBhIHZvbGF0aWxlIGJ1c2luZXNzIGVudmlyb25tZW50IiwKICAgIGRpc3BsYXk9InN1b21hbGFpbmVuIiwKICAgIGF1dGhvcnM9IlRhbmphIFN1b21hbGFpbmVuIGFuZCBPdXRpIFNhbG8gYW5kIFBla2thIEFicmFoYW1zc29uIGFuZCBKb3VuaSBTaW1pbOQiLAogICAgcGxhY2U9SlNTLAogICAgcHA9Ijk1OCAtIDk3NSIsCiAgICBlbnRyeXR5cGU9ImFydGljbGUiLAogICAgdm9sdW1lPSI4NCIsCiAgICBudW1iZXI9IjYiLAogICAgbm90ZT0iIiwKICAgIGlzc249IjAxNjQtMTIxMiIsCiAgICBkb2k9Imh0dHBzOi8vZG9pLm9yZy8xMC4xMDE2L2ouanNzLjIwMTEuMDEuMDMxIiwKICAgIGxpbms9Imh0dHBzOi8vd3d3LnNjaWVuY2VkaXJlY3QuY29tL3NjaWVuY2UvYXJ0aWNsZS9waWkvUzAxNjQxMjEyMTEwMDAyMzkiLAogICAga2V5d29yZD0iU29mdHdhcmUgcHJvZHVjdCBtYW5hZ2VtZW50IiwKICAgIElEPSJTdW9tYWxhaW5lbjIwMTE5NTgiLAogICAgc2NpZW5jZWRpcmVjdD0iMSIsCiAgICBwbGFjZXg9IkpvdXJuYWwgb2YgU3lzdGVtcyBhbmQgU29mdHdhcmUiLAopKQonJycpOw==\"));\n",
       "    "
      ],
      "text/plain": [
       "<IPython.core.display.Javascript object>"
      ]
     },
     "metadata": {},
     "output_type": "display_data"
    },
    {
     "data": {
      "application/javascript": [
       "$('span:contains(\"# Temp\")').closest('.cell').remove();"
      ],
      "text/plain": [
       "<IPython.core.display.Javascript object>"
      ]
     },
     "metadata": {},
     "output_type": "display_data"
    },
    {
     "data": {
      "application/javascript": [
       "\n",
       "        $('span:contains(\"# Temp\")').closest('.cell').remove();\n",
       "        var code = IPython.notebook.insert_cell_below('code');\n",
       "        code.set_text(atob(\"IyBUZW1wCmluc2VydCgnJycKZGFuZXZhMjAxM2EgPSBEQihXb3JrVW5yZWxhdGVkKAogICAgMjAxMywgIkFnaWxlIHJlcXVpcmVtZW50cyBwcmlvcml0aXphdGlvbiBpbiBsYXJnZS1zY2FsZSBvdXRzb3VyY2VkIHN5c3RlbSBwcm9qZWN0czogQW4gZW1waXJpY2FsIHN0dWR5IiwKICAgIGRpc3BsYXk9ImRhbmV2YSIsCiAgICBhdXRob3JzPSJNYXlhIERhbmV2YSBhbmQgRWdiZXJ0IHZhbiBkZXIgVmVlbiBhbmQgQ2hpbnRhbiBBbXJpdCBhbmQgU21pdGEgR2hhaXNhcyBhbmQgS2xhYXMgU2lra2VsIGFuZCBSYW1lc2ggS3VtYXIgYW5kIE5pcmF2IEFqbWVyaSBhbmQgVWRheSBSYW10ZWVydGhrYXIgYW5kIFJvZWwgV2llcmluZ2EiLAogICAgcGxhY2U9SlNTLAogICAgcHA9IjEzMzMgLSAxMzUzIiwKICAgIGVudHJ5dHlwZT0iYXJ0aWNsZSIsCiAgICB2b2x1bWU9Ijg2IiwKICAgIG51bWJlcj0iNSIsCiAgICBub3RlPSIiLAogICAgaXNzbj0iMDE2NC0xMjEyIiwKICAgIGRvaT0iaHR0cHM6Ly9kb2kub3JnLzEwLjEwMTYvai5qc3MuMjAxMi4xMi4wNDYiLAogICAgbGluaz0iaHR0cHM6Ly93d3cuc2NpZW5jZWRpcmVjdC5jb20vc2NpZW5jZS9hcnRpY2xlL3BpaS9TMDE2NDEyMTIxMjAwMzUzNiIsCiAgICBrZXl3b3JkPSJDYXNlIHN0dWR5IiwKICAgIElEPSJEYW5ldmEyMDEzMTMzMyIsCiAgICBzY2llbmNlZGlyZWN0PSIxIiwKICAgIHBsYWNleD0iSm91cm5hbCBvZiBTeXN0ZW1zIGFuZCBTb2Z0d2FyZSIsCikpCicnJyk7\"));\n",
       "    "
      ],
      "text/plain": [
       "<IPython.core.display.Javascript object>"
      ]
     },
     "metadata": {},
     "output_type": "display_data"
    },
    {
     "data": {
      "application/javascript": [
       "$('span:contains(\"# Temp\")').closest('.cell').remove();"
      ],
      "text/plain": [
       "<IPython.core.display.Javascript object>"
      ]
     },
     "metadata": {},
     "output_type": "display_data"
    },
    {
     "data": {
      "application/javascript": [
       "\n",
       "        $('span:contains(\"# Temp\")').closest('.cell').remove();\n",
       "        var code = IPython.notebook.insert_cell_below('code');\n",
       "        code.set_text(atob(\"IyBUZW1wCmluc2VydCgnJycKZGFuZXZhMjAxM2EgPSBEQihXb3JrVW5yZWxhdGVkKAogICAgMjAxMywgIkFnaWxlIHJlcXVpcmVtZW50cyBwcmlvcml0aXphdGlvbiBpbiBsYXJnZS1zY2FsZSBvdXRzb3VyY2VkIHN5c3RlbSBwcm9qZWN0czogQW4gZW1waXJpY2FsIHN0dWR5IiwKICAgIGRpc3BsYXk9ImRhbmV2YSIsCiAgICBhdXRob3JzPSJNYXlhIERhbmV2YSBhbmQgRWdiZXJ0IHZhbiBkZXIgVmVlbiBhbmQgQ2hpbnRhbiBBbXJpdCBhbmQgU21pdGEgR2hhaXNhcyBhbmQgS2xhYXMgU2lra2VsIGFuZCBSYW1lc2ggS3VtYXIgYW5kIE5pcmF2IEFqbWVyaSBhbmQgVWRheSBSYW10ZWVydGhrYXIgYW5kIFJvZWwgV2llcmluZ2EiLAogICAgcGxhY2U9SlNTLAogICAgcHA9IjEzMzMgLSAxMzUzIiwKICAgIGVudHJ5dHlwZT0iYXJ0aWNsZSIsCiAgICB2b2x1bWU9Ijg2IiwKICAgIG51bWJlcj0iNSIsCiAgICBub3RlPSIiLAogICAgaXNzbj0iMDE2NC0xMjEyIiwKICAgIGRvaT0iaHR0cHM6Ly9kb2kub3JnLzEwLjEwMTYvai5qc3MuMjAxMi4xMi4wNDYiLAogICAgbGluaz0iaHR0cHM6Ly93d3cuc2NpZW5jZWRpcmVjdC5jb20vc2NpZW5jZS9hcnRpY2xlL3BpaS9TMDE2NDEyMTIxMjAwMzUzNiIsCiAgICBrZXl3b3JkPSJDYXNlIHN0dWR5IiwKICAgIElEPSJEYW5ldmEyMDEzMTMzMyIsCiAgICBzY2llbmNlZGlyZWN0PSIxIiwKICAgIHBsYWNleD0iSm91cm5hbCBvZiBTeXN0ZW1zIGFuZCBTb2Z0d2FyZSIsCikpCicnJyk7\"));\n",
       "    "
      ],
      "text/plain": [
       "<IPython.core.display.Javascript object>"
      ]
     },
     "metadata": {},
     "output_type": "display_data"
    },
    {
     "data": {
      "application/javascript": [
       "$('span:contains(\"# Temp\")').closest('.cell').remove();"
      ],
      "text/plain": [
       "<IPython.core.display.Javascript object>"
      ]
     },
     "metadata": {},
     "output_type": "display_data"
    },
    {
     "data": {
      "application/javascript": [
       "\n",
       "        $('span:contains(\"# Temp\")').closest('.cell').remove();\n",
       "        var code = IPython.notebook.insert_cell_below('code');\n",
       "        code.set_text(atob(\"IyBUZW1wCmluc2VydCgnJycKZ29zc2VuMjAxNWEgPSBEQihXb3JrVW5yZWxhdGVkKAogICAgMjAxNSwgIkFudGktY291bnRlcmZlaXRpbmcgRWZmZWN0aXZpdHkgQW5hbHlzaXMgVXNpbmcgQXR0YWNrIGFuZCBEZWZlbnNlIFRyZWUgU2NlbmFyaW8gTWV0aG9kcyIsCiAgICBkaXNwbGF5PSJnb3NzZW4iLAogICAgYXV0aG9ycz0iRS4gR29zc2VuIGFuZCBKLiBFY2thcmR0IGFuZCBFLiBBYmVsZSIsCiAgICBwbGFjZT1GQUtFLAogICAgcHA9IjEyIC0gMTciLAogICAgZW50cnl0eXBlPSJhcnRpY2xlIiwKICAgIHZvbHVtZT0iMzciLAogICAgbnVtYmVyPSIiLAogICAgbm90ZT0iXHtDSVJQZVx9IDIwMTUgLSBVbmRlcnN0YW5kaW5nIHRoZSBsaWZlIGN5Y2xlIGltcGxpY2F0aW9ucyBvZiBtYW51ZmFjdHVyaW5nIiwKICAgIGlzc249IjIyMTItODI3MSIsCiAgICBkb2k9Imh0dHBzOi8vZG9pLm9yZy8xMC4xMDE2L2oucHJvY2lyLjIwMTUuMDguMTAyIiwKICAgIGxpbms9Imh0dHBzOi8vd3d3LnNjaWVuY2VkaXJlY3QuY29tL3NjaWVuY2UvYXJ0aWNsZS9waWkvUzIyMTI4MjcxMTUwMDk2MzQiLAogICAga2V5d29yZD0iQ29zdC1iZW5lZml0IGFuYWx5c2lzIiwKICAgIElEPSJHb3NzZW4yMDE1MTIiLAogICAgc2NpZW5jZWRpcmVjdD0iMSIsCiAgICBwbGFjZXg9IlByb2NlZGlhIFx7Q0lSUFx9IiwKKSkKJycnKTs=\"));\n",
       "    "
      ],
      "text/plain": [
       "<IPython.core.display.Javascript object>"
      ]
     },
     "metadata": {},
     "output_type": "display_data"
    },
    {
     "data": {
      "application/javascript": [
       "$('span:contains(\"# Temp\")').closest('.cell').remove();"
      ],
      "text/plain": [
       "<IPython.core.display.Javascript object>"
      ]
     },
     "metadata": {},
     "output_type": "display_data"
    },
    {
     "data": {
      "application/javascript": [
       "\n",
       "        $('span:contains(\"# Temp\")').closest('.cell').remove();\n",
       "        var code = IPython.notebook.insert_cell_below('code');\n",
       "        code.set_text(atob(\"IyBUZW1wCmluc2VydCgnJycKZ29zc2VuMjAxNWEgPSBEQihXb3JrVW5yZWxhdGVkKAogICAgMjAxNSwgIkFudGktY291bnRlcmZlaXRpbmcgRWZmZWN0aXZpdHkgQW5hbHlzaXMgVXNpbmcgQXR0YWNrIGFuZCBEZWZlbnNlIFRyZWUgU2NlbmFyaW8gTWV0aG9kcyIsCiAgICBkaXNwbGF5PSJnb3NzZW4iLAogICAgYXV0aG9ycz0iRS4gR29zc2VuIGFuZCBKLiBFY2thcmR0IGFuZCBFLiBBYmVsZSIsCiAgICBwbGFjZT1GQUtFLAogICAgcHA9IjEyIC0gMTciLAogICAgZW50cnl0eXBlPSJhcnRpY2xlIiwKICAgIHZvbHVtZT0iMzciLAogICAgbnVtYmVyPSIiLAogICAgbm90ZT0iXHtDSVJQZVx9IDIwMTUgLSBVbmRlcnN0YW5kaW5nIHRoZSBsaWZlIGN5Y2xlIGltcGxpY2F0aW9ucyBvZiBtYW51ZmFjdHVyaW5nIiwKICAgIGlzc249IjIyMTItODI3MSIsCiAgICBkb2k9Imh0dHBzOi8vZG9pLm9yZy8xMC4xMDE2L2oucHJvY2lyLjIwMTUuMDguMTAyIiwKICAgIGxpbms9Imh0dHBzOi8vd3d3LnNjaWVuY2VkaXJlY3QuY29tL3NjaWVuY2UvYXJ0aWNsZS9waWkvUzIyMTI4MjcxMTUwMDk2MzQiLAogICAga2V5d29yZD0iQ29zdC1iZW5lZml0IGFuYWx5c2lzIiwKICAgIElEPSJHb3NzZW4yMDE1MTIiLAogICAgc2NpZW5jZWRpcmVjdD0iMSIsCiAgICBwbGFjZXg9IlByb2NlZGlhIFx7Q0lSUFx9IiwKKSkKJycnKTs=\"));\n",
       "    "
      ],
      "text/plain": [
       "<IPython.core.display.Javascript object>"
      ]
     },
     "metadata": {},
     "output_type": "display_data"
    },
    {
     "data": {
      "application/javascript": [
       "$('span:contains(\"# Temp\")').closest('.cell').remove();"
      ],
      "text/plain": [
       "<IPython.core.display.Javascript object>"
      ]
     },
     "metadata": {},
     "output_type": "display_data"
    },
    {
     "data": {
      "application/javascript": [
       "\n",
       "        $('span:contains(\"# Temp\")').closest('.cell').remove();\n",
       "        var code = IPython.notebook.insert_cell_below('code');\n",
       "        code.set_text(atob(\"IyBUZW1wCmluc2VydCgnJycKcXVtZXIyMDA4YSA9IERCKFdvcmtVbnJlbGF0ZWQoCiAgICAyMDA4LCAiQSBmcmFtZXdvcmsgdG8gc3VwcG9ydCB0aGUgZXZhbHVhdGlvbiwgYWRvcHRpb24gYW5kIGltcHJvdmVtZW50IG9mIGFnaWxlIG1ldGhvZHMgaW4gcHJhY3RpY2UiLAogICAgZGlzcGxheT0icXVtZXIiLAogICAgYXV0aG9ycz0iQS4gUXVtZXIgYW5kIEIuIEhlbmRlcnNvbi1TZWxsZXJzIiwKICAgIHBsYWNlPUpTUywKICAgIHBwPSIxODk5IC0gMTkxOSIsCiAgICBlbnRyeXR5cGU9ImFydGljbGUiLAogICAgdm9sdW1lPSI4MSIsCiAgICBudW1iZXI9IjExIiwKICAgIG5vdGU9IiIsCiAgICBpc3NuPSIwMTY0LTEyMTIiLAogICAgZG9pPSJodHRwczovL2RvaS5vcmcvMTAuMTAxNi9qLmpzcy4yMDA3LjEyLjgwNiIsCiAgICBsaW5rPSJodHRwczovL3d3dy5zY2llbmNlZGlyZWN0LmNvbS9zY2llbmNlL2FydGljbGUvcGlpL1MwMTY0MTIxMjA4MDAwMTEzIiwKICAgIGtleXdvcmQ9IkluZHVzdHJ5IGNhc2Ugc3R1ZGllcyIsCiAgICBJRD0iUXVtZXIyMDA4MTg5OSIsCiAgICBzY2llbmNlZGlyZWN0PSIxIiwKICAgIHBsYWNleD0iSm91cm5hbCBvZiBTeXN0ZW1zIGFuZCBTb2Z0d2FyZSIsCikpCicnJyk7\"));\n",
       "    "
      ],
      "text/plain": [
       "<IPython.core.display.Javascript object>"
      ]
     },
     "metadata": {},
     "output_type": "display_data"
    },
    {
     "data": {
      "application/javascript": [
       "$('span:contains(\"# Temp\")').closest('.cell').remove();"
      ],
      "text/plain": [
       "<IPython.core.display.Javascript object>"
      ]
     },
     "metadata": {},
     "output_type": "display_data"
    },
    {
     "data": {
      "application/javascript": [
       "\n",
       "        $('span:contains(\"# Temp\")').closest('.cell').remove();\n",
       "        var code = IPython.notebook.insert_cell_below('code');\n",
       "        code.set_text(atob(\"IyBUZW1wCmluc2VydCgnJycKcXVtZXIyMDA4YSA9IERCKFdvcmtVbnJlbGF0ZWQoCiAgICAyMDA4LCAiQSBmcmFtZXdvcmsgdG8gc3VwcG9ydCB0aGUgZXZhbHVhdGlvbiwgYWRvcHRpb24gYW5kIGltcHJvdmVtZW50IG9mIGFnaWxlIG1ldGhvZHMgaW4gcHJhY3RpY2UiLAogICAgZGlzcGxheT0icXVtZXIiLAogICAgYXV0aG9ycz0iQS4gUXVtZXIgYW5kIEIuIEhlbmRlcnNvbi1TZWxsZXJzIiwKICAgIHBsYWNlPUpTUywKICAgIHBwPSIxODk5IC0gMTkxOSIsCiAgICBlbnRyeXR5cGU9ImFydGljbGUiLAogICAgdm9sdW1lPSI4MSIsCiAgICBudW1iZXI9IjExIiwKICAgIG5vdGU9IiIsCiAgICBpc3NuPSIwMTY0LTEyMTIiLAogICAgZG9pPSJodHRwczovL2RvaS5vcmcvMTAuMTAxNi9qLmpzcy4yMDA3LjEyLjgwNiIsCiAgICBsaW5rPSJodHRwczovL3d3dy5zY2llbmNlZGlyZWN0LmNvbS9zY2llbmNlL2FydGljbGUvcGlpL1MwMTY0MTIxMjA4MDAwMTEzIiwKICAgIGtleXdvcmQ9IkluZHVzdHJ5IGNhc2Ugc3R1ZGllcyIsCiAgICBJRD0iUXVtZXIyMDA4MTg5OSIsCiAgICBzY2llbmNlZGlyZWN0PSIxIiwKICAgIHBsYWNleD0iSm91cm5hbCBvZiBTeXN0ZW1zIGFuZCBTb2Z0d2FyZSIsCikpCicnJyk7\"));\n",
       "    "
      ],
      "text/plain": [
       "<IPython.core.display.Javascript object>"
      ]
     },
     "metadata": {},
     "output_type": "display_data"
    },
    {
     "data": {
      "application/javascript": [
       "$('span:contains(\"# Temp\")').closest('.cell').remove();"
      ],
      "text/plain": [
       "<IPython.core.display.Javascript object>"
      ]
     },
     "metadata": {},
     "output_type": "display_data"
    },
    {
     "data": {
      "application/javascript": [
       "\n",
       "        $('span:contains(\"# Temp\")').closest('.cell').remove();\n",
       "        var code = IPython.notebook.insert_cell_below('code');\n",
       "        code.set_text(atob(\"IyBUZW1wCmluc2VydCgnJycKbWFycXVlczIwMTNhID0gREIoV29ya1VucmVsYXRlZCgKICAgIDIwMTMsICJQcm9qZWN0IE1hbmFnZW1lbnQgU3VjY2VzcyBJLUMtRSBNb2RlbCCWIEEgV29yayBpbiBQcm9ncmVzcyIsCiAgICBkaXNwbGF5PSJtYXJxdWVzIiwKICAgIGF1dGhvcnM9IkFudPNuaW8gTWFycXVlcyBhbmQgSm/jbyBWYXJhauNvIGFuZCBKb2FxdWltIFNvdXNhIGFuZCBFbWFudWVsIFBlcmVzIiwKICAgIHBsYWNlPUZBS0UsCiAgICBwcD0iOTEwIC0gOTE0IiwKICAgIGVudHJ5dHlwZT0iYXJ0aWNsZSIsCiAgICB2b2x1bWU9IjkiLAogICAgbnVtYmVyPSIiLAogICAgbm90ZT0iXHtDRU5URVJJU1x9IDIwMTMgLSBDb25mZXJlbmNlIG9uIFx7RU5URVJwcmlzZVx9IEluZm9ybWF0aW9uIFN5c3RlbXMgLyBQcm9qTUFOIDIwMTMgLSBJbnRlcm5hdGlvbmFsIENvbmZlcmVuY2Ugb24gUHJvamVjdCBNQU5hZ2VtZW50LyBce0hDSVNUXH0gMjAxMyAtIEludGVybmF0aW9uYWwgQ29uZmVyZW5jZSBvbiBIZWFsdGggYW5kIFNvY2lhbCBDYXJlIEluZm9ybWF0aW9uIFN5c3RlbXMgYW5kIFRlY2hub2xvZ2llcyIsCiAgICBpc3NuPSIyMjEyLTAxNzMiLAogICAgZG9pPSJodHRwczovL2RvaS5vcmcvMTAuMTAxNi9qLnByb3RjeS4yMDEzLjEyLjEwMSIsCiAgICBsaW5rPSJodHRwczovL3d3dy5zY2llbmNlZGlyZWN0LmNvbS9zY2llbmNlL2FydGljbGUvcGlpL1MyMjEyMDE3MzEzMDAyNTU3IiwKICAgIGtleXdvcmQ9InNvZnR3YXJlIGRldmVsb3BtZW50IiwKICAgIElEPSJNYXJxdWVzMjAxMzkxMCIsCiAgICBzY2llbmNlZGlyZWN0PSIxIiwKICAgIHBsYWNleD0iUHJvY2VkaWEgVGVjaG5vbG9neSIsCikpCicnJyk7\"));\n",
       "    "
      ],
      "text/plain": [
       "<IPython.core.display.Javascript object>"
      ]
     },
     "metadata": {},
     "output_type": "display_data"
    },
    {
     "data": {
      "application/javascript": [
       "$('span:contains(\"# Temp\")').closest('.cell').remove();"
      ],
      "text/plain": [
       "<IPython.core.display.Javascript object>"
      ]
     },
     "metadata": {},
     "output_type": "display_data"
    },
    {
     "data": {
      "application/javascript": [
       "\n",
       "        $('span:contains(\"# Temp\")').closest('.cell').remove();\n",
       "        var code = IPython.notebook.insert_cell_below('code');\n",
       "        code.set_text(atob(\"IyBUZW1wCmluc2VydCgnJycKbWFycXVlczIwMTNhID0gREIoV29ya1VucmVsYXRlZCgKICAgIDIwMTMsICJQcm9qZWN0IE1hbmFnZW1lbnQgU3VjY2VzcyBJLUMtRSBNb2RlbCCWIEEgV29yayBpbiBQcm9ncmVzcyIsCiAgICBkaXNwbGF5PSJtYXJxdWVzIiwKICAgIGF1dGhvcnM9IkFudPNuaW8gTWFycXVlcyBhbmQgSm/jbyBWYXJhauNvIGFuZCBKb2FxdWltIFNvdXNhIGFuZCBFbWFudWVsIFBlcmVzIiwKICAgIHBsYWNlPUZBS0UsCiAgICBwcD0iOTEwIC0gOTE0IiwKICAgIGVudHJ5dHlwZT0iYXJ0aWNsZSIsCiAgICB2b2x1bWU9IjkiLAogICAgbnVtYmVyPSIiLAogICAgbm90ZT0iXHtDRU5URVJJU1x9IDIwMTMgLSBDb25mZXJlbmNlIG9uIFx7RU5URVJwcmlzZVx9IEluZm9ybWF0aW9uIFN5c3RlbXMgLyBQcm9qTUFOIDIwMTMgLSBJbnRlcm5hdGlvbmFsIENvbmZlcmVuY2Ugb24gUHJvamVjdCBNQU5hZ2VtZW50LyBce0hDSVNUXH0gMjAxMyAtIEludGVybmF0aW9uYWwgQ29uZmVyZW5jZSBvbiBIZWFsdGggYW5kIFNvY2lhbCBDYXJlIEluZm9ybWF0aW9uIFN5c3RlbXMgYW5kIFRlY2hub2xvZ2llcyIsCiAgICBpc3NuPSIyMjEyLTAxNzMiLAogICAgZG9pPSJodHRwczovL2RvaS5vcmcvMTAuMTAxNi9qLnByb3RjeS4yMDEzLjEyLjEwMSIsCiAgICBsaW5rPSJodHRwczovL3d3dy5zY2llbmNlZGlyZWN0LmNvbS9zY2llbmNlL2FydGljbGUvcGlpL1MyMjEyMDE3MzEzMDAyNTU3IiwKICAgIGtleXdvcmQ9InNvZnR3YXJlIGRldmVsb3BtZW50IiwKICAgIElEPSJNYXJxdWVzMjAxMzkxMCIsCiAgICBzY2llbmNlZGlyZWN0PSIxIiwKICAgIHBsYWNleD0iUHJvY2VkaWEgVGVjaG5vbG9neSIsCikpCicnJyk7\"));\n",
       "    "
      ],
      "text/plain": [
       "<IPython.core.display.Javascript object>"
      ]
     },
     "metadata": {},
     "output_type": "display_data"
    },
    {
     "data": {
      "application/javascript": [
       "$('span:contains(\"# Temp\")').closest('.cell').remove();"
      ],
      "text/plain": [
       "<IPython.core.display.Javascript object>"
      ]
     },
     "metadata": {},
     "output_type": "display_data"
    },
    {
     "data": {
      "application/javascript": [
       "\n",
       "        $('span:contains(\"# Temp\")').closest('.cell').remove();\n",
       "        var code = IPython.notebook.insert_cell_below('code');\n",
       "        code.set_text(atob(\"IyBUZW1wCmluc2VydCgnJycKYXVydW0yMDA4YSA9IERCKFdvcmtVbnJlbGF0ZWQoCiAgICAyMDA4LCAiSW52ZXN0aWdhdGluZyBLbm93bGVkZ2UgTWFuYWdlbWVudCBwcmFjdGljZXMgaW4gc29mdHdhcmUgZGV2ZWxvcG1lbnQgb3JnYW5pc2F0aW9ucyCWIEFuIEF1c3RyYWxpYW4gZXhwZXJpZW5jZSIsCiAgICBkaXNwbGF5PSJhdXJ1bSIsCiAgICBhdXRob3JzPSJBeWL8a2UgQXVydW0gYW5kIEZhcmhhZCBEYW5lc2hnYXIgYW5kIEphbWVzIFdhcmQiLAogICAgcGxhY2U9SVNULAogICAgcHA9IjUxMSAtIDUzMyIsCiAgICBlbnRyeXR5cGU9ImFydGljbGUiLAogICAgdm9sdW1lPSI1MCIsCiAgICBudW1iZXI9IjYiLAogICAgbm90ZT0iIiwKICAgIGlzc249IjA5NTAtNTg0OSIsCiAgICBkb2k9Imh0dHBzOi8vZG9pLm9yZy8xMC4xMDE2L2ouaW5mc29mLjIwMDcuMDUuMDA1IiwKICAgIGxpbms9Imh0dHBzOi8vd3d3LnNjaWVuY2VkaXJlY3QuY29tL3NjaWVuY2UvYXJ0aWNsZS9waWkvUzA5NTA1ODQ5MDcwMDA2MDIiLAogICAga2V5d29yZD0iS00gcHJvY2VzcyBlbmFibGVycyIsCiAgICBJRD0iQXVydW0yMDA4NTExIiwKICAgIHNjaWVuY2VkaXJlY3Q9IjEiLAogICAgcGxhY2V4PSJJbmZvcm1hdGlvbiBhbmQgU29mdHdhcmUgVGVjaG5vbG9neSIsCikpCicnJyk7\"));\n",
       "    "
      ],
      "text/plain": [
       "<IPython.core.display.Javascript object>"
      ]
     },
     "metadata": {},
     "output_type": "display_data"
    },
    {
     "data": {
      "application/javascript": [
       "$('span:contains(\"# Temp\")').closest('.cell').remove();"
      ],
      "text/plain": [
       "<IPython.core.display.Javascript object>"
      ]
     },
     "metadata": {},
     "output_type": "display_data"
    },
    {
     "data": {
      "application/javascript": [
       "\n",
       "        $('span:contains(\"# Temp\")').closest('.cell').remove();\n",
       "        var code = IPython.notebook.insert_cell_below('code');\n",
       "        code.set_text(atob(\"IyBUZW1wCmluc2VydCgnJycKYXVydW0yMDA4YSA9IERCKFdvcmtVbnJlbGF0ZWQoCiAgICAyMDA4LCAiSW52ZXN0aWdhdGluZyBLbm93bGVkZ2UgTWFuYWdlbWVudCBwcmFjdGljZXMgaW4gc29mdHdhcmUgZGV2ZWxvcG1lbnQgb3JnYW5pc2F0aW9ucyCWIEFuIEF1c3RyYWxpYW4gZXhwZXJpZW5jZSIsCiAgICBkaXNwbGF5PSJhdXJ1bSIsCiAgICBhdXRob3JzPSJBeWL8a2UgQXVydW0gYW5kIEZhcmhhZCBEYW5lc2hnYXIgYW5kIEphbWVzIFdhcmQiLAogICAgcGxhY2U9SVNULAogICAgcHA9IjUxMSAtIDUzMyIsCiAgICBlbnRyeXR5cGU9ImFydGljbGUiLAogICAgdm9sdW1lPSI1MCIsCiAgICBudW1iZXI9IjYiLAogICAgbm90ZT0iIiwKICAgIGlzc249IjA5NTAtNTg0OSIsCiAgICBkb2k9Imh0dHBzOi8vZG9pLm9yZy8xMC4xMDE2L2ouaW5mc29mLjIwMDcuMDUuMDA1IiwKICAgIGxpbms9Imh0dHBzOi8vd3d3LnNjaWVuY2VkaXJlY3QuY29tL3NjaWVuY2UvYXJ0aWNsZS9waWkvUzA5NTA1ODQ5MDcwMDA2MDIiLAogICAga2V5d29yZD0iS00gcHJvY2VzcyBlbmFibGVycyIsCiAgICBJRD0iQXVydW0yMDA4NTExIiwKICAgIHNjaWVuY2VkaXJlY3Q9IjEiLAogICAgcGxhY2V4PSJJbmZvcm1hdGlvbiBhbmQgU29mdHdhcmUgVGVjaG5vbG9neSIsCikpCicnJyk7\"));\n",
       "    "
      ],
      "text/plain": [
       "<IPython.core.display.Javascript object>"
      ]
     },
     "metadata": {},
     "output_type": "display_data"
    },
    {
     "data": {
      "application/javascript": [
       "$('span:contains(\"# Temp\")').closest('.cell').remove();"
      ],
      "text/plain": [
       "<IPython.core.display.Javascript object>"
      ]
     },
     "metadata": {},
     "output_type": "display_data"
    },
    {
     "data": {
      "application/javascript": [
       "\n",
       "        $('span:contains(\"# Temp\")').closest('.cell').remove();\n",
       "        var code = IPython.notebook.insert_cell_below('code');\n",
       "        code.set_text(atob(\"IyBUZW1wCmluc2VydCgnJycKmm1pdGUyMDEzYSA9IERCKFdvcmtVbnJlbGF0ZWQoCiAgICAyMDEzLCAiT2Zmc2hvcmUgaW5zb3VyY2luZyBpbiBzb2Z0d2FyZSBkZXZlbG9wbWVudDogU3RydWN0dXJpbmcgdGhlIGRlY2lzaW9uLW1ha2luZyBwcm9jZXNzIiwKICAgIGRpc3BsYXk9IpptaXRlIiwKICAgIGF1dGhvcnM9IkRhcmphIIptaXRlIGFuZCBDbGFlcyBXb2hsaW4gYW5kIEF5YvxrZSBBdXJ1bSBhbmQgUm9uYWxkIEphYmFuZ3dlIGFuZCBFbWlsIE51bW1pbmVuIiwKICAgIHBsYWNlPUpTUywKICAgIHBwPSIxMDU0IC0gMTA2NyIsCiAgICBlbnRyeXR5cGU9ImFydGljbGUiLAogICAgdm9sdW1lPSI4NiIsCiAgICBudW1iZXI9IjQiLAogICAgbm90ZT0iXHtTSVx9IDogU29mdHdhcmUgRW5naW5lZXJpbmcgaW4gQnJhemlsOiBSZXRyb3NwZWN0aXZlIGFuZCBQcm9zcGVjdGl2ZSBWaWV3cyIsCiAgICBpc3NuPSIwMTY0LTEyMTIiLAogICAgZG9pPSJodHRwczovL2RvaS5vcmcvMTAuMTAxNi9qLmpzcy4yMDEyLjEwLjAwMyIsCiAgICBsaW5rPSJodHRwczovL3d3dy5zY2llbmNlZGlyZWN0LmNvbS9zY2llbmNlL2FydGljbGUvcGlpL1MwMTY0MTIxMjEyMDAyODE2IiwKICAgIGtleXdvcmQ9IkVtcGlyaWNhbCBmaWVsZCBzdHVkeSIsCiAgICBJRD0iim1pdGUyMDEzMTA1NCIsCiAgICBzY2llbmNlZGlyZWN0PSIxIiwKICAgIHBsYWNleD0iSm91cm5hbCBvZiBTeXN0ZW1zIGFuZCBTb2Z0d2FyZSIsCikpCicnJyk7\"));\n",
       "    "
      ],
      "text/plain": [
       "<IPython.core.display.Javascript object>"
      ]
     },
     "metadata": {},
     "output_type": "display_data"
    },
    {
     "data": {
      "application/javascript": [
       "$('span:contains(\"# Temp\")').closest('.cell').remove();"
      ],
      "text/plain": [
       "<IPython.core.display.Javascript object>"
      ]
     },
     "metadata": {},
     "output_type": "display_data"
    },
    {
     "data": {
      "application/javascript": [
       "\n",
       "        $('span:contains(\"# Temp\")').closest('.cell').remove();\n",
       "        var code = IPython.notebook.insert_cell_below('code');\n",
       "        code.set_text(atob(\"IyBUZW1wCmluc2VydCgnJycKmm1pdGUyMDEzYSA9IERCKFdvcmtVbnJlbGF0ZWQoCiAgICAyMDEzLCAiT2Zmc2hvcmUgaW5zb3VyY2luZyBpbiBzb2Z0d2FyZSBkZXZlbG9wbWVudDogU3RydWN0dXJpbmcgdGhlIGRlY2lzaW9uLW1ha2luZyBwcm9jZXNzIiwKICAgIGRpc3BsYXk9IpptaXRlIiwKICAgIGF1dGhvcnM9IkRhcmphIIptaXRlIGFuZCBDbGFlcyBXb2hsaW4gYW5kIEF5YvxrZSBBdXJ1bSBhbmQgUm9uYWxkIEphYmFuZ3dlIGFuZCBFbWlsIE51bW1pbmVuIiwKICAgIHBsYWNlPUpTUywKICAgIHBwPSIxMDU0IC0gMTA2NyIsCiAgICBlbnRyeXR5cGU9ImFydGljbGUiLAogICAgdm9sdW1lPSI4NiIsCiAgICBudW1iZXI9IjQiLAogICAgbm90ZT0iXHtTSVx9IDogU29mdHdhcmUgRW5naW5lZXJpbmcgaW4gQnJhemlsOiBSZXRyb3NwZWN0aXZlIGFuZCBQcm9zcGVjdGl2ZSBWaWV3cyIsCiAgICBpc3NuPSIwMTY0LTEyMTIiLAogICAgZG9pPSJodHRwczovL2RvaS5vcmcvMTAuMTAxNi9qLmpzcy4yMDEyLjEwLjAwMyIsCiAgICBsaW5rPSJodHRwczovL3d3dy5zY2llbmNlZGlyZWN0LmNvbS9zY2llbmNlL2FydGljbGUvcGlpL1MwMTY0MTIxMjEyMDAyODE2IiwKICAgIGtleXdvcmQ9IkVtcGlyaWNhbCBmaWVsZCBzdHVkeSIsCiAgICBJRD0iim1pdGUyMDEzMTA1NCIsCiAgICBzY2llbmNlZGlyZWN0PSIxIiwKICAgIHBsYWNleD0iSm91cm5hbCBvZiBTeXN0ZW1zIGFuZCBTb2Z0d2FyZSIsCikpCicnJyk7\"));\n",
       "    "
      ],
      "text/plain": [
       "<IPython.core.display.Javascript object>"
      ]
     },
     "metadata": {},
     "output_type": "display_data"
    },
    {
     "data": {
      "application/javascript": [
       "$('span:contains(\"# Temp\")').closest('.cell').remove();"
      ],
      "text/plain": [
       "<IPython.core.display.Javascript object>"
      ]
     },
     "metadata": {},
     "output_type": "display_data"
    },
    {
     "data": {
      "application/javascript": [
       "\n",
       "        $('span:contains(\"# Temp\")').closest('.cell').remove();\n",
       "        var code = IPython.notebook.insert_cell_below('code');\n",
       "        code.set_text(atob(\"IyBUZW1wCmluc2VydCgnJycnJycpOw==\"));\n",
       "    "
      ],
      "text/plain": [
       "<IPython.core.display.Javascript object>"
      ]
     },
     "metadata": {},
     "output_type": "display_data"
    },
    {
     "data": {
      "application/javascript": [
       "$('span:contains(\"# Temp\")').closest('.cell').remove();"
      ],
      "text/plain": [
       "<IPython.core.display.Javascript object>"
      ]
     },
     "metadata": {},
     "output_type": "display_data"
    },
    {
     "data": {
      "application/javascript": [
       "\n",
       "        $('span:contains(\"# Temp\")').closest('.cell').remove();\n",
       "        var code = IPython.notebook.insert_cell_below('code');\n",
       "        code.set_text(atob(\"IyBUZW1wCmluc2VydCgnJycnJycpOw==\"));\n",
       "    "
      ],
      "text/plain": [
       "<IPython.core.display.Javascript object>"
      ]
     },
     "metadata": {},
     "output_type": "display_data"
    },
    {
     "data": {
      "application/javascript": [
       "$('span:contains(\"# Temp\")').closest('.cell').remove();"
      ],
      "text/plain": [
       "<IPython.core.display.Javascript object>"
      ]
     },
     "metadata": {},
     "output_type": "display_data"
    },
    {
     "data": {
      "application/javascript": [
       "\n",
       "        $('span:contains(\"# Temp\")').closest('.cell').remove();\n",
       "        var code = IPython.notebook.insert_cell_below('code');\n",
       "        code.set_text(atob(\"IyBUZW1wCmluc2VydCgnJycKmm1pdGUyMDEzYSA9IERCKFdvcmtVbnJlbGF0ZWQoCiAgICAyMDEzLCAiT2Zmc2hvcmUgaW5zb3VyY2luZyBpbiBzb2Z0d2FyZSBkZXZlbG9wbWVudDogU3RydWN0dXJpbmcgdGhlIGRlY2lzaW9uLW1ha2luZyBwcm9jZXNzIiwKICAgIGRpc3BsYXk9IpptaXRlIiwKICAgIGF1dGhvcnM9IkRhcmphIIptaXRlIGFuZCBDbGFlcyBXb2hsaW4gYW5kIEF5YvxrZSBBdXJ1bSBhbmQgUm9uYWxkIEphYmFuZ3dlIGFuZCBFbWlsIE51bW1pbmVuIiwKICAgIHBsYWNlPUpTUywKICAgIHBwPSIxMDU0IC0gMTA2NyIsCiAgICBlbnRyeXR5cGU9ImFydGljbGUiLAogICAgdm9sdW1lPSI4NiIsCiAgICBudW1iZXI9IjQiLAogICAgbm90ZT0iXHtTSVx9IDogU29mdHdhcmUgRW5naW5lZXJpbmcgaW4gQnJhemlsOiBSZXRyb3NwZWN0aXZlIGFuZCBQcm9zcGVjdGl2ZSBWaWV3cyIsCiAgICBpc3NuPSIwMTY0LTEyMTIiLAogICAgZG9pPSJodHRwczovL2RvaS5vcmcvMTAuMTAxNi9qLmpzcy4yMDEyLjEwLjAwMyIsCiAgICBsaW5rPSJodHRwczovL3d3dy5zY2llbmNlZGlyZWN0LmNvbS9zY2llbmNlL2FydGljbGUvcGlpL1MwMTY0MTIxMjEyMDAyODE2IiwKICAgIGtleXdvcmQ9IkVtcGlyaWNhbCBmaWVsZCBzdHVkeSIsCiAgICBJRD0iim1pdGUyMDEzMTA1NCIsCiAgICBzY2llbmNlZGlyZWN0PSIxIiwKICAgIHBsYWNleD0iSm91cm5hbCBvZiBTeXN0ZW1zIGFuZCBTb2Z0d2FyZSIsCikpCicnJyk7\"));\n",
       "    "
      ],
      "text/plain": [
       "<IPython.core.display.Javascript object>"
      ]
     },
     "metadata": {},
     "output_type": "display_data"
    },
    {
     "data": {
      "application/javascript": [
       "$('span:contains(\"# Temp\")').closest('.cell').remove();"
      ],
      "text/plain": [
       "<IPython.core.display.Javascript object>"
      ]
     },
     "metadata": {},
     "output_type": "display_data"
    },
    {
     "data": {
      "application/javascript": [
       "\n",
       "        $('span:contains(\"# Temp\")').closest('.cell').remove();\n",
       "        var code = IPython.notebook.insert_cell_below('code');\n",
       "        code.set_text(atob(\"IyBUZW1wCmluc2VydCgnJycKmm1pdGUyMDEzYSA9IERCKFdvcmtVbnJlbGF0ZWQoCiAgICAyMDEzLCAiT2Zmc2hvcmUgaW5zb3VyY2luZyBpbiBzb2Z0d2FyZSBkZXZlbG9wbWVudDogU3RydWN0dXJpbmcgdGhlIGRlY2lzaW9uLW1ha2luZyBwcm9jZXNzIiwKICAgIGRpc3BsYXk9IpptaXRlIiwKICAgIGF1dGhvcnM9IkRhcmphIIptaXRlIGFuZCBDbGFlcyBXb2hsaW4gYW5kIEF5YvxrZSBBdXJ1bSBhbmQgUm9uYWxkIEphYmFuZ3dlIGFuZCBFbWlsIE51bW1pbmVuIiwKICAgIHBsYWNlPUpTUywKICAgIHBwPSIxMDU0IC0gMTA2NyIsCiAgICBlbnRyeXR5cGU9ImFydGljbGUiLAogICAgdm9sdW1lPSI4NiIsCiAgICBudW1iZXI9IjQiLAogICAgbm90ZT0iXHtTSVx9IDogU29mdHdhcmUgRW5naW5lZXJpbmcgaW4gQnJhemlsOiBSZXRyb3NwZWN0aXZlIGFuZCBQcm9zcGVjdGl2ZSBWaWV3cyIsCiAgICBpc3NuPSIwMTY0LTEyMTIiLAogICAgZG9pPSJodHRwczovL2RvaS5vcmcvMTAuMTAxNi9qLmpzcy4yMDEyLjEwLjAwMyIsCiAgICBsaW5rPSJodHRwczovL3d3dy5zY2llbmNlZGlyZWN0LmNvbS9zY2llbmNlL2FydGljbGUvcGlpL1MwMTY0MTIxMjEyMDAyODE2IiwKICAgIGtleXdvcmQ9IkVtcGlyaWNhbCBmaWVsZCBzdHVkeSIsCiAgICBJRD0iim1pdGUyMDEzMTA1NCIsCiAgICBzY2llbmNlZGlyZWN0PSIxIiwKICAgIHBsYWNleD0iSm91cm5hbCBvZiBTeXN0ZW1zIGFuZCBTb2Z0d2FyZSIsCikpCicnJyk7\"));\n",
       "    "
      ],
      "text/plain": [
       "<IPython.core.display.Javascript object>"
      ]
     },
     "metadata": {},
     "output_type": "display_data"
    },
    {
     "data": {
      "application/javascript": [
       "$('span:contains(\"# Temp\")').closest('.cell').remove();"
      ],
      "text/plain": [
       "<IPython.core.display.Javascript object>"
      ]
     },
     "metadata": {},
     "output_type": "display_data"
    },
    {
     "data": {
      "application/javascript": [
       "\n",
       "        $('span:contains(\"# Temp\")').closest('.cell').remove();\n",
       "        var code = IPython.notebook.insert_cell_below('code');\n",
       "        code.set_text(atob(\"IyBUZW1wCmluc2VydCgnJycKdGVzc2VtMjAxNGEgPSBEQihXb3JrVW5yZWxhdGVkKAogICAgMjAxNCwgIkluZGl2aWR1YWwgZW1wb3dlcm1lbnQgb2YgYWdpbGUgYW5kIG5vbi1hZ2lsZSBzb2Z0d2FyZSBkZXZlbG9wZXJzIGluIHNtYWxsIHRlYW1zIiwKICAgIGRpc3BsYXk9InRlc3NlbSIsCiAgICBhdXRob3JzPSJCavhybmFyIFRlc3NlbSIsCiAgICBwbGFjZT1JU1QsCiAgICBwcD0iODczIC0gODg5IiwKICAgIGVudHJ5dHlwZT0iYXJ0aWNsZSIsCiAgICB2b2x1bWU9IjU2IiwKICAgIG51bWJlcj0iOCIsCiAgICBub3RlPSIiLAogICAgaXNzbj0iMDk1MC01ODQ5IiwKICAgIGRvaT0iaHR0cHM6Ly9kb2kub3JnLzEwLjEwMTYvai5pbmZzb2YuMjAxNC4wMi4wMDUiLAogICAgbGluaz0iaHR0cHM6Ly93d3cuc2NpZW5jZWRpcmVjdC5jb20vc2NpZW5jZS9hcnRpY2xlL3BpaS9TMDk1MDU4NDkxNDAwMDQ3MCIsCiAgICBrZXl3b3JkPSJFbXBvd2VybWVudCIsCiAgICBJRD0iVGVzc2VtMjAxNDg3MyIsCiAgICBzY2llbmNlZGlyZWN0PSIxIiwKICAgIHBsYWNleD0iSW5mb3JtYXRpb24gYW5kIFNvZnR3YXJlIFRlY2hub2xvZ3kiLAopKQonJycpOw==\"));\n",
       "    "
      ],
      "text/plain": [
       "<IPython.core.display.Javascript object>"
      ]
     },
     "metadata": {},
     "output_type": "display_data"
    },
    {
     "data": {
      "application/javascript": [
       "$('span:contains(\"# Temp\")').closest('.cell').remove();"
      ],
      "text/plain": [
       "<IPython.core.display.Javascript object>"
      ]
     },
     "metadata": {},
     "output_type": "display_data"
    },
    {
     "data": {
      "application/javascript": [
       "\n",
       "        $('span:contains(\"# Temp\")').closest('.cell').remove();\n",
       "        var code = IPython.notebook.insert_cell_below('code');\n",
       "        code.set_text(atob(\"IyBUZW1wCmluc2VydCgnJycKdGVzc2VtMjAxNGEgPSBEQihXb3JrVW5yZWxhdGVkKAogICAgMjAxNCwgIkluZGl2aWR1YWwgZW1wb3dlcm1lbnQgb2YgYWdpbGUgYW5kIG5vbi1hZ2lsZSBzb2Z0d2FyZSBkZXZlbG9wZXJzIGluIHNtYWxsIHRlYW1zIiwKICAgIGRpc3BsYXk9InRlc3NlbSIsCiAgICBhdXRob3JzPSJCavhybmFyIFRlc3NlbSIsCiAgICBwbGFjZT1JU1QsCiAgICBwcD0iODczIC0gODg5IiwKICAgIGVudHJ5dHlwZT0iYXJ0aWNsZSIsCiAgICB2b2x1bWU9IjU2IiwKICAgIG51bWJlcj0iOCIsCiAgICBub3RlPSIiLAogICAgaXNzbj0iMDk1MC01ODQ5IiwKICAgIGRvaT0iaHR0cHM6Ly9kb2kub3JnLzEwLjEwMTYvai5pbmZzb2YuMjAxNC4wMi4wMDUiLAogICAgbGluaz0iaHR0cHM6Ly93d3cuc2NpZW5jZWRpcmVjdC5jb20vc2NpZW5jZS9hcnRpY2xlL3BpaS9TMDk1MDU4NDkxNDAwMDQ3MCIsCiAgICBrZXl3b3JkPSJFbXBvd2VybWVudCIsCiAgICBJRD0iVGVzc2VtMjAxNDg3MyIsCiAgICBzY2llbmNlZGlyZWN0PSIxIiwKICAgIHBsYWNleD0iSW5mb3JtYXRpb24gYW5kIFNvZnR3YXJlIFRlY2hub2xvZ3kiLAopKQonJycpOw==\"));\n",
       "    "
      ],
      "text/plain": [
       "<IPython.core.display.Javascript object>"
      ]
     },
     "metadata": {},
     "output_type": "display_data"
    },
    {
     "data": {
      "application/javascript": [
       "$('span:contains(\"# Temp\")').closest('.cell').remove();"
      ],
      "text/plain": [
       "<IPython.core.display.Javascript object>"
      ]
     },
     "metadata": {},
     "output_type": "display_data"
    },
    {
     "data": {
      "application/javascript": [
       "\n",
       "        $('span:contains(\"# Temp\")').closest('.cell').remove();\n",
       "        var code = IPython.notebook.insert_cell_below('code');\n",
       "        code.set_text(atob(\"IyBUZW1wCmluc2VydCgnJycKmm1pdGUyMDEzYSA9IERCKFdvcmtVbnJlbGF0ZWQoCiAgICAyMDEzLCAiT2Zmc2hvcmUgaW5zb3VyY2luZyBpbiBzb2Z0d2FyZSBkZXZlbG9wbWVudDogU3RydWN0dXJpbmcgdGhlIGRlY2lzaW9uLW1ha2luZyBwcm9jZXNzIiwKICAgIGRpc3BsYXk9IpptaXRlIiwKICAgIGF1dGhvcnM9IkRhcmphIIptaXRlIGFuZCBDbGFlcyBXb2hsaW4gYW5kIEF5YvxrZSBBdXJ1bSBhbmQgUm9uYWxkIEphYmFuZ3dlIGFuZCBFbWlsIE51bW1pbmVuIiwKICAgIHBsYWNlPUpTUywKICAgIHBwPSIxMDU0IC0gMTA2NyIsCiAgICBlbnRyeXR5cGU9ImFydGljbGUiLAogICAgdm9sdW1lPSI4NiIsCiAgICBudW1iZXI9IjQiLAogICAgbm90ZT0iXHtTSVx9IDogU29mdHdhcmUgRW5naW5lZXJpbmcgaW4gQnJhemlsOiBSZXRyb3NwZWN0aXZlIGFuZCBQcm9zcGVjdGl2ZSBWaWV3cyIsCiAgICBpc3NuPSIwMTY0LTEyMTIiLAogICAgZG9pPSJodHRwczovL2RvaS5vcmcvMTAuMTAxNi9qLmpzcy4yMDEyLjEwLjAwMyIsCiAgICBsaW5rPSJodHRwczovL3d3dy5zY2llbmNlZGlyZWN0LmNvbS9zY2llbmNlL2FydGljbGUvcGlpL1MwMTY0MTIxMjEyMDAyODE2IiwKICAgIGtleXdvcmQ9IkVtcGlyaWNhbCBmaWVsZCBzdHVkeSIsCiAgICBJRD0iim1pdGUyMDEzMTA1NCIsCiAgICBzY2llbmNlZGlyZWN0PSIxIiwKICAgIHBsYWNleD0iSm91cm5hbCBvZiBTeXN0ZW1zIGFuZCBTb2Z0d2FyZSIsCikpCicnJyk7\"));\n",
       "    "
      ],
      "text/plain": [
       "<IPython.core.display.Javascript object>"
      ]
     },
     "metadata": {},
     "output_type": "display_data"
    },
    {
     "data": {
      "application/javascript": [
       "$('span:contains(\"# Temp\")').closest('.cell').remove();"
      ],
      "text/plain": [
       "<IPython.core.display.Javascript object>"
      ]
     },
     "metadata": {},
     "output_type": "display_data"
    },
    {
     "data": {
      "application/javascript": [
       "\n",
       "        $('span:contains(\"# Temp\")').closest('.cell').remove();\n",
       "        var code = IPython.notebook.insert_cell_below('code');\n",
       "        code.set_text(atob(\"IyBUZW1wCmluc2VydCgnJycKmm1pdGUyMDEzYSA9IERCKFdvcmtVbnJlbGF0ZWQoCiAgICAyMDEzLCAiT2Zmc2hvcmUgaW5zb3VyY2luZyBpbiBzb2Z0d2FyZSBkZXZlbG9wbWVudDogU3RydWN0dXJpbmcgdGhlIGRlY2lzaW9uLW1ha2luZyBwcm9jZXNzIiwKICAgIGRpc3BsYXk9IpptaXRlIiwKICAgIGF1dGhvcnM9IkRhcmphIIptaXRlIGFuZCBDbGFlcyBXb2hsaW4gYW5kIEF5YvxrZSBBdXJ1bSBhbmQgUm9uYWxkIEphYmFuZ3dlIGFuZCBFbWlsIE51bW1pbmVuIiwKICAgIHBsYWNlPUpTUywKICAgIHBwPSIxMDU0IC0gMTA2NyIsCiAgICBlbnRyeXR5cGU9ImFydGljbGUiLAogICAgdm9sdW1lPSI4NiIsCiAgICBudW1iZXI9IjQiLAogICAgbm90ZT0iXHtTSVx9IDogU29mdHdhcmUgRW5naW5lZXJpbmcgaW4gQnJhemlsOiBSZXRyb3NwZWN0aXZlIGFuZCBQcm9zcGVjdGl2ZSBWaWV3cyIsCiAgICBpc3NuPSIwMTY0LTEyMTIiLAogICAgZG9pPSJodHRwczovL2RvaS5vcmcvMTAuMTAxNi9qLmpzcy4yMDEyLjEwLjAwMyIsCiAgICBsaW5rPSJodHRwczovL3d3dy5zY2llbmNlZGlyZWN0LmNvbS9zY2llbmNlL2FydGljbGUvcGlpL1MwMTY0MTIxMjEyMDAyODE2IiwKICAgIGtleXdvcmQ9IkVtcGlyaWNhbCBmaWVsZCBzdHVkeSIsCiAgICBJRD0iim1pdGUyMDEzMTA1NCIsCiAgICBzY2llbmNlZGlyZWN0PSIxIiwKICAgIHBsYWNleD0iSm91cm5hbCBvZiBTeXN0ZW1zIGFuZCBTb2Z0d2FyZSIsCikpCicnJyk7\"));\n",
       "    "
      ],
      "text/plain": [
       "<IPython.core.display.Javascript object>"
      ]
     },
     "metadata": {},
     "output_type": "display_data"
    },
    {
     "data": {
      "application/javascript": [
       "$('span:contains(\"# Temp\")').closest('.cell').remove();"
      ],
      "text/plain": [
       "<IPython.core.display.Javascript object>"
      ]
     },
     "metadata": {},
     "output_type": "display_data"
    },
    {
     "data": {
      "application/javascript": [
       "\n",
       "        $('span:contains(\"# Temp\")').closest('.cell').remove();\n",
       "        var code = IPython.notebook.insert_cell_below('code');\n",
       "        code.set_text(atob(\"IyBUZW1wCmluc2VydCgnJycnJycpOw==\"));\n",
       "    "
      ],
      "text/plain": [
       "<IPython.core.display.Javascript object>"
      ]
     },
     "metadata": {},
     "output_type": "display_data"
    },
    {
     "data": {
      "application/javascript": [
       "$('span:contains(\"# Temp\")').closest('.cell').remove();"
      ],
      "text/plain": [
       "<IPython.core.display.Javascript object>"
      ]
     },
     "metadata": {},
     "output_type": "display_data"
    },
    {
     "data": {
      "application/javascript": [
       "\n",
       "        $('span:contains(\"# Temp\")').closest('.cell').remove();\n",
       "        var code = IPython.notebook.insert_cell_below('code');\n",
       "        code.set_text(atob(\"IyBUZW1wCmluc2VydCgnJycnJycpOw==\"));\n",
       "    "
      ],
      "text/plain": [
       "<IPython.core.display.Javascript object>"
      ]
     },
     "metadata": {},
     "output_type": "display_data"
    },
    {
     "data": {
      "application/javascript": [
       "$('span:contains(\"# Temp\")').closest('.cell').remove();"
      ],
      "text/plain": [
       "<IPython.core.display.Javascript object>"
      ]
     },
     "metadata": {},
     "output_type": "display_data"
    },
    {
     "data": {
      "application/javascript": [
       "\n",
       "        $('span:contains(\"# Temp\")').closest('.cell').remove();\n",
       "        var code = IPython.notebook.insert_cell_below('code');\n",
       "        code.set_text(atob(\"IyBUZW1wCmluc2VydCgnJycKmm1pdGUyMDEzYSA9IERCKFdvcmtVbnJlbGF0ZWQoCiAgICAyMDEzLCAiT2Zmc2hvcmUgaW5zb3VyY2luZyBpbiBzb2Z0d2FyZSBkZXZlbG9wbWVudDogU3RydWN0dXJpbmcgdGhlIGRlY2lzaW9uLW1ha2luZyBwcm9jZXNzIiwKICAgIGRpc3BsYXk9IpptaXRlIiwKICAgIGF1dGhvcnM9IkRhcmphIIptaXRlIGFuZCBDbGFlcyBXb2hsaW4gYW5kIEF5YvxrZSBBdXJ1bSBhbmQgUm9uYWxkIEphYmFuZ3dlIGFuZCBFbWlsIE51bW1pbmVuIiwKICAgIHBsYWNlPUpTUywKICAgIHBwPSIxMDU0IC0gMTA2NyIsCiAgICBlbnRyeXR5cGU9ImFydGljbGUiLAogICAgdm9sdW1lPSI4NiIsCiAgICBudW1iZXI9IjQiLAogICAgbm90ZT0iXHtTSVx9IDogU29mdHdhcmUgRW5naW5lZXJpbmcgaW4gQnJhemlsOiBSZXRyb3NwZWN0aXZlIGFuZCBQcm9zcGVjdGl2ZSBWaWV3cyIsCiAgICBpc3NuPSIwMTY0LTEyMTIiLAogICAgZG9pPSJodHRwczovL2RvaS5vcmcvMTAuMTAxNi9qLmpzcy4yMDEyLjEwLjAwMyIsCiAgICBsaW5rPSJodHRwczovL3d3dy5zY2llbmNlZGlyZWN0LmNvbS9zY2llbmNlL2FydGljbGUvcGlpL1MwMTY0MTIxMjEyMDAyODE2IiwKICAgIGtleXdvcmQ9IkVtcGlyaWNhbCBmaWVsZCBzdHVkeSIsCiAgICBJRD0iim1pdGUyMDEzMTA1NCIsCiAgICBzY2llbmNlZGlyZWN0PSIxIiwKICAgIHBsYWNleD0iSm91cm5hbCBvZiBTeXN0ZW1zIGFuZCBTb2Z0d2FyZSIsCikpCicnJyk7\"));\n",
       "    "
      ],
      "text/plain": [
       "<IPython.core.display.Javascript object>"
      ]
     },
     "metadata": {},
     "output_type": "display_data"
    },
    {
     "data": {
      "application/javascript": [
       "$('span:contains(\"# Temp\")').closest('.cell').remove();"
      ],
      "text/plain": [
       "<IPython.core.display.Javascript object>"
      ]
     },
     "metadata": {},
     "output_type": "display_data"
    },
    {
     "data": {
      "application/javascript": [
       "\n",
       "        $('span:contains(\"# Temp\")').closest('.cell').remove();\n",
       "        var code = IPython.notebook.insert_cell_below('code');\n",
       "        code.set_text(atob(\"IyBUZW1wCmluc2VydCgnJycKmm1pdGUyMDEzYSA9IERCKFdvcmtVbnJlbGF0ZWQoCiAgICAyMDEzLCAiT2Zmc2hvcmUgaW5zb3VyY2luZyBpbiBzb2Z0d2FyZSBkZXZlbG9wbWVudDogU3RydWN0dXJpbmcgdGhlIGRlY2lzaW9uLW1ha2luZyBwcm9jZXNzIiwKICAgIGRpc3BsYXk9IpptaXRlIiwKICAgIGF1dGhvcnM9IkRhcmphIIptaXRlIGFuZCBDbGFlcyBXb2hsaW4gYW5kIEF5YvxrZSBBdXJ1bSBhbmQgUm9uYWxkIEphYmFuZ3dlIGFuZCBFbWlsIE51bW1pbmVuIiwKICAgIHBsYWNlPUpTUywKICAgIHBwPSIxMDU0IC0gMTA2NyIsCiAgICBlbnRyeXR5cGU9ImFydGljbGUiLAogICAgdm9sdW1lPSI4NiIsCiAgICBudW1iZXI9IjQiLAogICAgbm90ZT0iXHtTSVx9IDogU29mdHdhcmUgRW5naW5lZXJpbmcgaW4gQnJhemlsOiBSZXRyb3NwZWN0aXZlIGFuZCBQcm9zcGVjdGl2ZSBWaWV3cyIsCiAgICBpc3NuPSIwMTY0LTEyMTIiLAogICAgZG9pPSJodHRwczovL2RvaS5vcmcvMTAuMTAxNi9qLmpzcy4yMDEyLjEwLjAwMyIsCiAgICBsaW5rPSJodHRwczovL3d3dy5zY2llbmNlZGlyZWN0LmNvbS9zY2llbmNlL2FydGljbGUvcGlpL1MwMTY0MTIxMjEyMDAyODE2IiwKICAgIGtleXdvcmQ9IkVtcGlyaWNhbCBmaWVsZCBzdHVkeSIsCiAgICBJRD0iim1pdGUyMDEzMTA1NCIsCiAgICBzY2llbmNlZGlyZWN0PSIxIiwKICAgIHBsYWNleD0iSm91cm5hbCBvZiBTeXN0ZW1zIGFuZCBTb2Z0d2FyZSIsCikpCicnJyk7\"));\n",
       "    "
      ],
      "text/plain": [
       "<IPython.core.display.Javascript object>"
      ]
     },
     "metadata": {},
     "output_type": "display_data"
    },
    {
     "data": {
      "application/javascript": [
       "$('span:contains(\"# Temp\")').closest('.cell').remove();"
      ],
      "text/plain": [
       "<IPython.core.display.Javascript object>"
      ]
     },
     "metadata": {},
     "output_type": "display_data"
    },
    {
     "data": {
      "application/javascript": [
       "\n",
       "        $('span:contains(\"# Temp\")').closest('.cell').remove();\n",
       "        var code = IPython.notebook.insert_cell_below('code');\n",
       "        code.set_text(atob(\"IyBUZW1wCmluc2VydCgnJycnJycpOw==\"));\n",
       "    "
      ],
      "text/plain": [
       "<IPython.core.display.Javascript object>"
      ]
     },
     "metadata": {},
     "output_type": "display_data"
    },
    {
     "data": {
      "application/javascript": [
       "$('span:contains(\"# Temp\")').closest('.cell').remove();"
      ],
      "text/plain": [
       "<IPython.core.display.Javascript object>"
      ]
     },
     "metadata": {},
     "output_type": "display_data"
    },
    {
     "data": {
      "application/javascript": [
       "\n",
       "        $('span:contains(\"# Temp\")').closest('.cell').remove();\n",
       "        var code = IPython.notebook.insert_cell_below('code');\n",
       "        code.set_text(atob(\"IyBUZW1wCmluc2VydCgnJycnJycpOw==\"));\n",
       "    "
      ],
      "text/plain": [
       "<IPython.core.display.Javascript object>"
      ]
     },
     "metadata": {},
     "output_type": "display_data"
    },
    {
     "data": {
      "application/javascript": [
       "$('span:contains(\"# Temp\")').closest('.cell').remove();"
      ],
      "text/plain": [
       "<IPython.core.display.Javascript object>"
      ]
     },
     "metadata": {},
     "output_type": "display_data"
    },
    {
     "data": {
      "application/javascript": [
       "\n",
       "        $('span:contains(\"# Temp\")').closest('.cell').remove();\n",
       "        var code = IPython.notebook.insert_cell_below('code');\n",
       "        code.set_text(atob(\"IyBUZW1wCmluc2VydCgnJycKYmFjYTIwMTNhID0gREIoV29ya1VucmVsYXRlZCgKICAgIDIwMTMsICJDb3VudGVybWVhc3VyZSBncmFwaHMgZm9yIHNvZnR3YXJlIHNlY3VyaXR5IHJpc2sgYXNzZXNzbWVudDogQW4gYWN0aW9uIHJlc2VhcmNoIiwKICAgIGRpc3BsYXk9ImJhY2EiLAogICAgYXV0aG9ycz0iRGVqYW4gQmFjYSBhbmQgS2FpIFBldGVyc2VuIiwKICAgIHBsYWNlPUpTUywKICAgIHBwPSIyNDExIC0gMjQyOCIsCiAgICBlbnRyeXR5cGU9ImFydGljbGUiLAogICAgdm9sdW1lPSI4NiIsCiAgICBudW1iZXI9IjkiLAogICAgbm90ZT0iIiwKICAgIGlzc249IjAxNjQtMTIxMiIsCiAgICBkb2k9Imh0dHBzOi8vZG9pLm9yZy8xMC4xMDE2L2ouanNzLjIwMTMuMDQuMDIzIiwKICAgIGxpbms9Imh0dHBzOi8vd3d3LnNjaWVuY2VkaXJlY3QuY29tL3NjaWVuY2UvYXJ0aWNsZS9waWkvUzAxNjQxMjEyMTMwMDEwMjciLAogICAga2V5d29yZD0iQ291bnRlcm1lYXN1cmUgZ3JhcGhzIiwKICAgIElEPSJCYWNhMjAxMzI0MTEiLAogICAgc2NpZW5jZWRpcmVjdD0iMSIsCiAgICBwbGFjZXg9IkpvdXJuYWwgb2YgU3lzdGVtcyBhbmQgU29mdHdhcmUiLAopKQonJycpOw==\"));\n",
       "    "
      ],
      "text/plain": [
       "<IPython.core.display.Javascript object>"
      ]
     },
     "metadata": {},
     "output_type": "display_data"
    },
    {
     "data": {
      "application/javascript": [
       "$('span:contains(\"# Temp\")').closest('.cell').remove();"
      ],
      "text/plain": [
       "<IPython.core.display.Javascript object>"
      ]
     },
     "metadata": {},
     "output_type": "display_data"
    },
    {
     "data": {
      "application/javascript": [
       "\n",
       "        $('span:contains(\"# Temp\")').closest('.cell').remove();\n",
       "        var code = IPython.notebook.insert_cell_below('code');\n",
       "        code.set_text(atob(\"IyBUZW1wCmluc2VydCgnJycKYmFjYTIwMTNhID0gREIoV29ya1VucmVsYXRlZCgKICAgIDIwMTMsICJDb3VudGVybWVhc3VyZSBncmFwaHMgZm9yIHNvZnR3YXJlIHNlY3VyaXR5IHJpc2sgYXNzZXNzbWVudDogQW4gYWN0aW9uIHJlc2VhcmNoIiwKICAgIGRpc3BsYXk9ImJhY2EiLAogICAgYXV0aG9ycz0iRGVqYW4gQmFjYSBhbmQgS2FpIFBldGVyc2VuIiwKICAgIHBsYWNlPUpTUywKICAgIHBwPSIyNDExIC0gMjQyOCIsCiAgICBlbnRyeXR5cGU9ImFydGljbGUiLAogICAgdm9sdW1lPSI4NiIsCiAgICBudW1iZXI9IjkiLAogICAgbm90ZT0iIiwKICAgIGlzc249IjAxNjQtMTIxMiIsCiAgICBkb2k9Imh0dHBzOi8vZG9pLm9yZy8xMC4xMDE2L2ouanNzLjIwMTMuMDQuMDIzIiwKICAgIGxpbms9Imh0dHBzOi8vd3d3LnNjaWVuY2VkaXJlY3QuY29tL3NjaWVuY2UvYXJ0aWNsZS9waWkvUzAxNjQxMjEyMTMwMDEwMjciLAogICAga2V5d29yZD0iQ291bnRlcm1lYXN1cmUgZ3JhcGhzIiwKICAgIElEPSJCYWNhMjAxMzI0MTEiLAogICAgc2NpZW5jZWRpcmVjdD0iMSIsCiAgICBwbGFjZXg9IkpvdXJuYWwgb2YgU3lzdGVtcyBhbmQgU29mdHdhcmUiLAopKQonJycpOw==\"));\n",
       "    "
      ],
      "text/plain": [
       "<IPython.core.display.Javascript object>"
      ]
     },
     "metadata": {},
     "output_type": "display_data"
    },
    {
     "data": {
      "application/javascript": [
       "$('span:contains(\"# Temp\")').closest('.cell').remove();"
      ],
      "text/plain": [
       "<IPython.core.display.Javascript object>"
      ]
     },
     "metadata": {},
     "output_type": "display_data"
    },
    {
     "data": {
      "application/javascript": [
       "\n",
       "        $('span:contains(\"# Temp\")').closest('.cell').remove();\n",
       "        var code = IPython.notebook.insert_cell_below('code');\n",
       "        code.set_text(atob(\"IyBUZW1wCmluc2VydCgnJycnJycpOw==\"));\n",
       "    "
      ],
      "text/plain": [
       "<IPython.core.display.Javascript object>"
      ]
     },
     "metadata": {},
     "output_type": "display_data"
    },
    {
     "data": {
      "application/javascript": [
       "$('span:contains(\"# Temp\")').closest('.cell').remove();"
      ],
      "text/plain": [
       "<IPython.core.display.Javascript object>"
      ]
     },
     "metadata": {},
     "output_type": "display_data"
    },
    {
     "data": {
      "application/javascript": [
       "\n",
       "        $('span:contains(\"# Temp\")').closest('.cell').remove();\n",
       "        var code = IPython.notebook.insert_cell_below('code');\n",
       "        code.set_text(atob(\"IyBUZW1wCmluc2VydCgnJycnJycpOw==\"));\n",
       "    "
      ],
      "text/plain": [
       "<IPython.core.display.Javascript object>"
      ]
     },
     "metadata": {},
     "output_type": "display_data"
    },
    {
     "data": {
      "application/javascript": [
       "$('span:contains(\"# Temp\")').closest('.cell').remove();"
      ],
      "text/plain": [
       "<IPython.core.display.Javascript object>"
      ]
     },
     "metadata": {},
     "output_type": "display_data"
    },
    {
     "data": {
      "application/javascript": [
       "\n",
       "        $('span:contains(\"# Temp\")').closest('.cell').remove();\n",
       "        var code = IPython.notebook.insert_cell_below('code');\n",
       "        code.set_text(atob(\"IyBUZW1wCmluc2VydCgnJycKmm1pdGUyMDEzYSA9IERCKFdvcmtVbnJlbGF0ZWQoCiAgICAyMDEzLCAiT2Zmc2hvcmUgaW5zb3VyY2luZyBpbiBzb2Z0d2FyZSBkZXZlbG9wbWVudDogU3RydWN0dXJpbmcgdGhlIGRlY2lzaW9uLW1ha2luZyBwcm9jZXNzIiwKICAgIGRpc3BsYXk9IpptaXRlIiwKICAgIGF1dGhvcnM9IkRhcmphIIptaXRlIGFuZCBDbGFlcyBXb2hsaW4gYW5kIEF5YvxrZSBBdXJ1bSBhbmQgUm9uYWxkIEphYmFuZ3dlIGFuZCBFbWlsIE51bW1pbmVuIiwKICAgIHBsYWNlPUpTUywKICAgIHBwPSIxMDU0IC0gMTA2NyIsCiAgICBlbnRyeXR5cGU9ImFydGljbGUiLAogICAgdm9sdW1lPSI4NiIsCiAgICBudW1iZXI9IjQiLAogICAgbm90ZT0iXHtTSVx9IDogU29mdHdhcmUgRW5naW5lZXJpbmcgaW4gQnJhemlsOiBSZXRyb3NwZWN0aXZlIGFuZCBQcm9zcGVjdGl2ZSBWaWV3cyIsCiAgICBpc3NuPSIwMTY0LTEyMTIiLAogICAgZG9pPSJodHRwczovL2RvaS5vcmcvMTAuMTAxNi9qLmpzcy4yMDEyLjEwLjAwMyIsCiAgICBsaW5rPSJodHRwczovL3d3dy5zY2llbmNlZGlyZWN0LmNvbS9zY2llbmNlL2FydGljbGUvcGlpL1MwMTY0MTIxMjEyMDAyODE2IiwKICAgIGtleXdvcmQ9IkVtcGlyaWNhbCBmaWVsZCBzdHVkeSIsCiAgICBJRD0iim1pdGUyMDEzMTA1NCIsCiAgICBzY2llbmNlZGlyZWN0PSIxIiwKICAgIHBsYWNleD0iSm91cm5hbCBvZiBTeXN0ZW1zIGFuZCBTb2Z0d2FyZSIsCikpCicnJyk7\"));\n",
       "    "
      ],
      "text/plain": [
       "<IPython.core.display.Javascript object>"
      ]
     },
     "metadata": {},
     "output_type": "display_data"
    },
    {
     "data": {
      "application/javascript": [
       "$('span:contains(\"# Temp\")').closest('.cell').remove();"
      ],
      "text/plain": [
       "<IPython.core.display.Javascript object>"
      ]
     },
     "metadata": {},
     "output_type": "display_data"
    },
    {
     "data": {
      "application/javascript": [
       "\n",
       "        $('span:contains(\"# Temp\")').closest('.cell').remove();\n",
       "        var code = IPython.notebook.insert_cell_below('code');\n",
       "        code.set_text(atob(\"IyBUZW1wCmluc2VydCgnJycKmm1pdGUyMDEzYSA9IERCKFdvcmtVbnJlbGF0ZWQoCiAgICAyMDEzLCAiT2Zmc2hvcmUgaW5zb3VyY2luZyBpbiBzb2Z0d2FyZSBkZXZlbG9wbWVudDogU3RydWN0dXJpbmcgdGhlIGRlY2lzaW9uLW1ha2luZyBwcm9jZXNzIiwKICAgIGRpc3BsYXk9IpptaXRlIiwKICAgIGF1dGhvcnM9IkRhcmphIIptaXRlIGFuZCBDbGFlcyBXb2hsaW4gYW5kIEF5YvxrZSBBdXJ1bSBhbmQgUm9uYWxkIEphYmFuZ3dlIGFuZCBFbWlsIE51bW1pbmVuIiwKICAgIHBsYWNlPUpTUywKICAgIHBwPSIxMDU0IC0gMTA2NyIsCiAgICBlbnRyeXR5cGU9ImFydGljbGUiLAogICAgdm9sdW1lPSI4NiIsCiAgICBudW1iZXI9IjQiLAogICAgbm90ZT0iXHtTSVx9IDogU29mdHdhcmUgRW5naW5lZXJpbmcgaW4gQnJhemlsOiBSZXRyb3NwZWN0aXZlIGFuZCBQcm9zcGVjdGl2ZSBWaWV3cyIsCiAgICBpc3NuPSIwMTY0LTEyMTIiLAogICAgZG9pPSJodHRwczovL2RvaS5vcmcvMTAuMTAxNi9qLmpzcy4yMDEyLjEwLjAwMyIsCiAgICBsaW5rPSJodHRwczovL3d3dy5zY2llbmNlZGlyZWN0LmNvbS9zY2llbmNlL2FydGljbGUvcGlpL1MwMTY0MTIxMjEyMDAyODE2IiwKICAgIGtleXdvcmQ9IkVtcGlyaWNhbCBmaWVsZCBzdHVkeSIsCiAgICBJRD0iim1pdGUyMDEzMTA1NCIsCiAgICBzY2llbmNlZGlyZWN0PSIxIiwKICAgIHBsYWNleD0iSm91cm5hbCBvZiBTeXN0ZW1zIGFuZCBTb2Z0d2FyZSIsCikpCicnJyk7\"));\n",
       "    "
      ],
      "text/plain": [
       "<IPython.core.display.Javascript object>"
      ]
     },
     "metadata": {},
     "output_type": "display_data"
    },
    {
     "data": {
      "application/javascript": [
       "$('span:contains(\"# Temp\")').closest('.cell').remove();"
      ],
      "text/plain": [
       "<IPython.core.display.Javascript object>"
      ]
     },
     "metadata": {},
     "output_type": "display_data"
    },
    {
     "data": {
      "application/javascript": [
       "\n",
       "        $('span:contains(\"# Temp\")').closest('.cell').remove();\n",
       "        var code = IPython.notebook.insert_cell_below('code');\n",
       "        code.set_text(atob(\"IyBUZW1wCmluc2VydCgnJycnJycpOw==\"));\n",
       "    "
      ],
      "text/plain": [
       "<IPython.core.display.Javascript object>"
      ]
     },
     "metadata": {},
     "output_type": "display_data"
    },
    {
     "data": {
      "application/javascript": [
       "$('span:contains(\"# Temp\")').closest('.cell').remove();"
      ],
      "text/plain": [
       "<IPython.core.display.Javascript object>"
      ]
     },
     "metadata": {},
     "output_type": "display_data"
    },
    {
     "data": {
      "application/javascript": [
       "\n",
       "        $('span:contains(\"# Temp\")').closest('.cell').remove();\n",
       "        var code = IPython.notebook.insert_cell_below('code');\n",
       "        code.set_text(atob(\"IyBUZW1wCmluc2VydCgnJycnJycpOw==\"));\n",
       "    "
      ],
      "text/plain": [
       "<IPython.core.display.Javascript object>"
      ]
     },
     "metadata": {},
     "output_type": "display_data"
    },
    {
     "data": {
      "application/javascript": [
       "$('span:contains(\"# Temp\")').closest('.cell').remove();"
      ],
      "text/plain": [
       "<IPython.core.display.Javascript object>"
      ]
     },
     "metadata": {},
     "output_type": "display_data"
    },
    {
     "data": {
      "application/javascript": [
       "\n",
       "        $('span:contains(\"# Temp\")').closest('.cell').remove();\n",
       "        var code = IPython.notebook.insert_cell_below('code');\n",
       "        code.set_text(atob(\"IyBUZW1wCmluc2VydCgnJycKYmFjYTIwMTNhID0gREIoV29ya1VucmVsYXRlZCgKICAgIDIwMTMsICJDb3VudGVybWVhc3VyZSBncmFwaHMgZm9yIHNvZnR3YXJlIHNlY3VyaXR5IHJpc2sgYXNzZXNzbWVudDogQW4gYWN0aW9uIHJlc2VhcmNoIiwKICAgIGRpc3BsYXk9ImJhY2EiLAogICAgYXV0aG9ycz0iRGVqYW4gQmFjYSBhbmQgS2FpIFBldGVyc2VuIiwKICAgIHBsYWNlPUpTUywKICAgIHBwPSIyNDExIC0gMjQyOCIsCiAgICBlbnRyeXR5cGU9ImFydGljbGUiLAogICAgdm9sdW1lPSI4NiIsCiAgICBudW1iZXI9IjkiLAogICAgbm90ZT0iIiwKICAgIGlzc249IjAxNjQtMTIxMiIsCiAgICBkb2k9Imh0dHBzOi8vZG9pLm9yZy8xMC4xMDE2L2ouanNzLjIwMTMuMDQuMDIzIiwKICAgIGxpbms9Imh0dHBzOi8vd3d3LnNjaWVuY2VkaXJlY3QuY29tL3NjaWVuY2UvYXJ0aWNsZS9waWkvUzAxNjQxMjEyMTMwMDEwMjciLAogICAga2V5d29yZD0iQ291bnRlcm1lYXN1cmUgZ3JhcGhzIiwKICAgIElEPSJCYWNhMjAxMzI0MTEiLAogICAgc2NpZW5jZWRpcmVjdD0iMSIsCiAgICBwbGFjZXg9IkpvdXJuYWwgb2YgU3lzdGVtcyBhbmQgU29mdHdhcmUiLAopKQonJycpOw==\"));\n",
       "    "
      ],
      "text/plain": [
       "<IPython.core.display.Javascript object>"
      ]
     },
     "metadata": {},
     "output_type": "display_data"
    },
    {
     "data": {
      "application/javascript": [
       "$('span:contains(\"# Temp\")').closest('.cell').remove();"
      ],
      "text/plain": [
       "<IPython.core.display.Javascript object>"
      ]
     },
     "metadata": {},
     "output_type": "display_data"
    },
    {
     "data": {
      "application/javascript": [
       "\n",
       "        $('span:contains(\"# Temp\")').closest('.cell').remove();\n",
       "        var code = IPython.notebook.insert_cell_below('code');\n",
       "        code.set_text(atob(\"IyBUZW1wCmluc2VydCgnJycKYmFjYTIwMTNhID0gREIoV29ya1VucmVsYXRlZCgKICAgIDIwMTMsICJDb3VudGVybWVhc3VyZSBncmFwaHMgZm9yIHNvZnR3YXJlIHNlY3VyaXR5IHJpc2sgYXNzZXNzbWVudDogQW4gYWN0aW9uIHJlc2VhcmNoIiwKICAgIGRpc3BsYXk9ImJhY2EiLAogICAgYXV0aG9ycz0iRGVqYW4gQmFjYSBhbmQgS2FpIFBldGVyc2VuIiwKICAgIHBsYWNlPUpTUywKICAgIHBwPSIyNDExIC0gMjQyOCIsCiAgICBlbnRyeXR5cGU9ImFydGljbGUiLAogICAgdm9sdW1lPSI4NiIsCiAgICBudW1iZXI9IjkiLAogICAgbm90ZT0iIiwKICAgIGlzc249IjAxNjQtMTIxMiIsCiAgICBkb2k9Imh0dHBzOi8vZG9pLm9yZy8xMC4xMDE2L2ouanNzLjIwMTMuMDQuMDIzIiwKICAgIGxpbms9Imh0dHBzOi8vd3d3LnNjaWVuY2VkaXJlY3QuY29tL3NjaWVuY2UvYXJ0aWNsZS9waWkvUzAxNjQxMjEyMTMwMDEwMjciLAogICAga2V5d29yZD0iQ291bnRlcm1lYXN1cmUgZ3JhcGhzIiwKICAgIElEPSJCYWNhMjAxMzI0MTEiLAogICAgc2NpZW5jZWRpcmVjdD0iMSIsCiAgICBwbGFjZXg9IkpvdXJuYWwgb2YgU3lzdGVtcyBhbmQgU29mdHdhcmUiLAopKQonJycpOw==\"));\n",
       "    "
      ],
      "text/plain": [
       "<IPython.core.display.Javascript object>"
      ]
     },
     "metadata": {},
     "output_type": "display_data"
    },
    {
     "data": {
      "application/javascript": [
       "$('span:contains(\"# Temp\")').closest('.cell').remove();"
      ],
      "text/plain": [
       "<IPython.core.display.Javascript object>"
      ]
     },
     "metadata": {},
     "output_type": "display_data"
    },
    {
     "data": {
      "application/javascript": [
       "\n",
       "        $('span:contains(\"# Temp\")').closest('.cell').remove();\n",
       "        var code = IPython.notebook.insert_cell_below('code');\n",
       "        code.set_text(atob(\"IyBUZW1wCmluc2VydCgnJycnJycpOw==\"));\n",
       "    "
      ],
      "text/plain": [
       "<IPython.core.display.Javascript object>"
      ]
     },
     "metadata": {},
     "output_type": "display_data"
    },
    {
     "data": {
      "application/javascript": [
       "$('span:contains(\"# Temp\")').closest('.cell').remove();"
      ],
      "text/plain": [
       "<IPython.core.display.Javascript object>"
      ]
     },
     "metadata": {},
     "output_type": "display_data"
    },
    {
     "data": {
      "application/javascript": [
       "\n",
       "        $('span:contains(\"# Temp\")').closest('.cell').remove();\n",
       "        var code = IPython.notebook.insert_cell_below('code');\n",
       "        code.set_text(atob(\"IyBUZW1wCmluc2VydCgnJycnJycpOw==\"));\n",
       "    "
      ],
      "text/plain": [
       "<IPython.core.display.Javascript object>"
      ]
     },
     "metadata": {},
     "output_type": "display_data"
    },
    {
     "data": {
      "application/javascript": [
       "$('span:contains(\"# Temp\")').closest('.cell').remove();"
      ],
      "text/plain": [
       "<IPython.core.display.Javascript object>"
      ]
     },
     "metadata": {},
     "output_type": "display_data"
    },
    {
     "data": {
      "application/javascript": [
       "\n",
       "        $('span:contains(\"# Temp\")').closest('.cell').remove();\n",
       "        var code = IPython.notebook.insert_cell_below('code');\n",
       "        code.set_text(atob(\"IyBUZW1wCmluc2VydCgnJycKmm1pdGUyMDEzYSA9IERCKFdvcmtVbnJlbGF0ZWQoCiAgICAyMDEzLCAiT2Zmc2hvcmUgaW5zb3VyY2luZyBpbiBzb2Z0d2FyZSBkZXZlbG9wbWVudDogU3RydWN0dXJpbmcgdGhlIGRlY2lzaW9uLW1ha2luZyBwcm9jZXNzIiwKICAgIGRpc3BsYXk9IpptaXRlIiwKICAgIGF1dGhvcnM9IkRhcmphIIptaXRlIGFuZCBDbGFlcyBXb2hsaW4gYW5kIEF5YvxrZSBBdXJ1bSBhbmQgUm9uYWxkIEphYmFuZ3dlIGFuZCBFbWlsIE51bW1pbmVuIiwKICAgIHBsYWNlPUpTUywKICAgIHBwPSIxMDU0IC0gMTA2NyIsCiAgICBlbnRyeXR5cGU9ImFydGljbGUiLAogICAgdm9sdW1lPSI4NiIsCiAgICBudW1iZXI9IjQiLAogICAgbm90ZT0iXHtTSVx9IDogU29mdHdhcmUgRW5naW5lZXJpbmcgaW4gQnJhemlsOiBSZXRyb3NwZWN0aXZlIGFuZCBQcm9zcGVjdGl2ZSBWaWV3cyIsCiAgICBpc3NuPSIwMTY0LTEyMTIiLAogICAgZG9pPSJodHRwczovL2RvaS5vcmcvMTAuMTAxNi9qLmpzcy4yMDEyLjEwLjAwMyIsCiAgICBsaW5rPSJodHRwczovL3d3dy5zY2llbmNlZGlyZWN0LmNvbS9zY2llbmNlL2FydGljbGUvcGlpL1MwMTY0MTIxMjEyMDAyODE2IiwKICAgIGtleXdvcmQ9IkVtcGlyaWNhbCBmaWVsZCBzdHVkeSIsCiAgICBJRD0iim1pdGUyMDEzMTA1NCIsCiAgICBzY2llbmNlZGlyZWN0PSIxIiwKICAgIHBsYWNleD0iSm91cm5hbCBvZiBTeXN0ZW1zIGFuZCBTb2Z0d2FyZSIsCikpCicnJyk7\"));\n",
       "    "
      ],
      "text/plain": [
       "<IPython.core.display.Javascript object>"
      ]
     },
     "metadata": {},
     "output_type": "display_data"
    },
    {
     "data": {
      "application/javascript": [
       "$('span:contains(\"# Temp\")').closest('.cell').remove();"
      ],
      "text/plain": [
       "<IPython.core.display.Javascript object>"
      ]
     },
     "metadata": {},
     "output_type": "display_data"
    },
    {
     "data": {
      "application/javascript": [
       "\n",
       "        $('span:contains(\"# Temp\")').closest('.cell').remove();\n",
       "        var code = IPython.notebook.insert_cell_below('code');\n",
       "        code.set_text(atob(\"IyBUZW1wCmluc2VydCgnJycKmm1pdGUyMDEzYSA9IERCKFdvcmtVbnJlbGF0ZWQoCiAgICAyMDEzLCAiT2Zmc2hvcmUgaW5zb3VyY2luZyBpbiBzb2Z0d2FyZSBkZXZlbG9wbWVudDogU3RydWN0dXJpbmcgdGhlIGRlY2lzaW9uLW1ha2luZyBwcm9jZXNzIiwKICAgIGRpc3BsYXk9IpptaXRlIiwKICAgIGF1dGhvcnM9IkRhcmphIIptaXRlIGFuZCBDbGFlcyBXb2hsaW4gYW5kIEF5YvxrZSBBdXJ1bSBhbmQgUm9uYWxkIEphYmFuZ3dlIGFuZCBFbWlsIE51bW1pbmVuIiwKICAgIHBsYWNlPUpTUywKICAgIHBwPSIxMDU0IC0gMTA2NyIsCiAgICBlbnRyeXR5cGU9ImFydGljbGUiLAogICAgdm9sdW1lPSI4NiIsCiAgICBudW1iZXI9IjQiLAogICAgbm90ZT0iXHtTSVx9IDogU29mdHdhcmUgRW5naW5lZXJpbmcgaW4gQnJhemlsOiBSZXRyb3NwZWN0aXZlIGFuZCBQcm9zcGVjdGl2ZSBWaWV3cyIsCiAgICBpc3NuPSIwMTY0LTEyMTIiLAogICAgZG9pPSJodHRwczovL2RvaS5vcmcvMTAuMTAxNi9qLmpzcy4yMDEyLjEwLjAwMyIsCiAgICBsaW5rPSJodHRwczovL3d3dy5zY2llbmNlZGlyZWN0LmNvbS9zY2llbmNlL2FydGljbGUvcGlpL1MwMTY0MTIxMjEyMDAyODE2IiwKICAgIGtleXdvcmQ9IkVtcGlyaWNhbCBmaWVsZCBzdHVkeSIsCiAgICBJRD0iim1pdGUyMDEzMTA1NCIsCiAgICBzY2llbmNlZGlyZWN0PSIxIiwKICAgIHBsYWNleD0iSm91cm5hbCBvZiBTeXN0ZW1zIGFuZCBTb2Z0d2FyZSIsCikpCicnJyk7\"));\n",
       "    "
      ],
      "text/plain": [
       "<IPython.core.display.Javascript object>"
      ]
     },
     "metadata": {},
     "output_type": "display_data"
    },
    {
     "data": {
      "application/javascript": [
       "$('span:contains(\"# Temp\")').closest('.cell').remove();"
      ],
      "text/plain": [
       "<IPython.core.display.Javascript object>"
      ]
     },
     "metadata": {},
     "output_type": "display_data"
    },
    {
     "data": {
      "application/javascript": [
       "\n",
       "        $('span:contains(\"# Temp\")').closest('.cell').remove();\n",
       "        var code = IPython.notebook.insert_cell_below('code');\n",
       "        code.set_text(atob(\"IyBUZW1wCmluc2VydCgnJycnJycpOw==\"));\n",
       "    "
      ],
      "text/plain": [
       "<IPython.core.display.Javascript object>"
      ]
     },
     "metadata": {},
     "output_type": "display_data"
    },
    {
     "data": {
      "application/javascript": [
       "$('span:contains(\"# Temp\")').closest('.cell').remove();"
      ],
      "text/plain": [
       "<IPython.core.display.Javascript object>"
      ]
     },
     "metadata": {},
     "output_type": "display_data"
    },
    {
     "data": {
      "application/javascript": [
       "\n",
       "        $('span:contains(\"# Temp\")').closest('.cell').remove();\n",
       "        var code = IPython.notebook.insert_cell_below('code');\n",
       "        code.set_text(atob(\"IyBUZW1wCmluc2VydCgnJycnJycpOw==\"));\n",
       "    "
      ],
      "text/plain": [
       "<IPython.core.display.Javascript object>"
      ]
     },
     "metadata": {},
     "output_type": "display_data"
    },
    {
     "data": {
      "application/javascript": [
       "$('span:contains(\"# Temp\")').closest('.cell').remove();"
      ],
      "text/plain": [
       "<IPython.core.display.Javascript object>"
      ]
     },
     "metadata": {},
     "output_type": "display_data"
    },
    {
     "data": {
      "application/javascript": [
       "\n",
       "        $('span:contains(\"# Temp\")').closest('.cell').remove();\n",
       "        var code = IPython.notebook.insert_cell_below('code');\n",
       "        code.set_text(atob(\"IyBUZW1wCmluc2VydCgnJycnJycpOw==\"));\n",
       "    "
      ],
      "text/plain": [
       "<IPython.core.display.Javascript object>"
      ]
     },
     "metadata": {},
     "output_type": "display_data"
    },
    {
     "data": {
      "application/javascript": [
       "$('span:contains(\"# Temp\")').closest('.cell').remove();"
      ],
      "text/plain": [
       "<IPython.core.display.Javascript object>"
      ]
     },
     "metadata": {},
     "output_type": "display_data"
    },
    {
     "data": {
      "application/javascript": [
       "\n",
       "        $('span:contains(\"# Temp\")').closest('.cell').remove();\n",
       "        var code = IPython.notebook.insert_cell_below('code');\n",
       "        code.set_text(atob(\"IyBUZW1wCmluc2VydCgnJycnJycpOw==\"));\n",
       "    "
      ],
      "text/plain": [
       "<IPython.core.display.Javascript object>"
      ]
     },
     "metadata": {},
     "output_type": "display_data"
    },
    {
     "data": {
      "application/javascript": [
       "$('span:contains(\"# Temp\")').closest('.cell').remove();"
      ],
      "text/plain": [
       "<IPython.core.display.Javascript object>"
      ]
     },
     "metadata": {},
     "output_type": "display_data"
    },
    {
     "data": {
      "application/javascript": [
       "\n",
       "        $('span:contains(\"# Temp\")').closest('.cell').remove();\n",
       "        var code = IPython.notebook.insert_cell_below('code');\n",
       "        code.set_text(atob(\"IyBUZW1wCmluc2VydCgnJycnJycpOw==\"));\n",
       "    "
      ],
      "text/plain": [
       "<IPython.core.display.Javascript object>"
      ]
     },
     "metadata": {},
     "output_type": "display_data"
    },
    {
     "data": {
      "application/javascript": [
       "$('span:contains(\"# Temp\")').closest('.cell').remove();"
      ],
      "text/plain": [
       "<IPython.core.display.Javascript object>"
      ]
     },
     "metadata": {},
     "output_type": "display_data"
    },
    {
     "data": {
      "application/javascript": [
       "\n",
       "        $('span:contains(\"# Temp\")').closest('.cell').remove();\n",
       "        var code = IPython.notebook.insert_cell_below('code');\n",
       "        code.set_text(atob(\"IyBUZW1wCmluc2VydCgnJycnJycpOw==\"));\n",
       "    "
      ],
      "text/plain": [
       "<IPython.core.display.Javascript object>"
      ]
     },
     "metadata": {},
     "output_type": "display_data"
    },
    {
     "data": {
      "application/javascript": [
       "$('span:contains(\"# Temp\")').closest('.cell').remove();"
      ],
      "text/plain": [
       "<IPython.core.display.Javascript object>"
      ]
     },
     "metadata": {},
     "output_type": "display_data"
    },
    {
     "data": {
      "application/javascript": [
       "\n",
       "        $('span:contains(\"# Temp\")').closest('.cell').remove();\n",
       "        var code = IPython.notebook.insert_cell_below('code');\n",
       "        code.set_text(atob(\"IyBUZW1wCmluc2VydCgnJycnJycpOw==\"));\n",
       "    "
      ],
      "text/plain": [
       "<IPython.core.display.Javascript object>"
      ]
     },
     "metadata": {},
     "output_type": "display_data"
    },
    {
     "data": {
      "application/javascript": [
       "$('span:contains(\"# Temp\")').closest('.cell').remove();"
      ],
      "text/plain": [
       "<IPython.core.display.Javascript object>"
      ]
     },
     "metadata": {},
     "output_type": "display_data"
    },
    {
     "data": {
      "application/javascript": [
       "\n",
       "        $('span:contains(\"# Temp\")').closest('.cell').remove();\n",
       "        var code = IPython.notebook.insert_cell_below('code');\n",
       "        code.set_text(atob(\"IyBUZW1wCmluc2VydCgnJycnJycpOw==\"));\n",
       "    "
      ],
      "text/plain": [
       "<IPython.core.display.Javascript object>"
      ]
     },
     "metadata": {},
     "output_type": "display_data"
    },
    {
     "data": {
      "application/javascript": [
       "$('span:contains(\"# Temp\")').closest('.cell').remove();"
      ],
      "text/plain": [
       "<IPython.core.display.Javascript object>"
      ]
     },
     "metadata": {},
     "output_type": "display_data"
    },
    {
     "data": {
      "application/javascript": [
       "\n",
       "        $('span:contains(\"# Temp\")').closest('.cell').remove();\n",
       "        var code = IPython.notebook.insert_cell_below('code');\n",
       "        code.set_text(atob(\"IyBUZW1wCmluc2VydCgnJycnJycpOw==\"));\n",
       "    "
      ],
      "text/plain": [
       "<IPython.core.display.Javascript object>"
      ]
     },
     "metadata": {},
     "output_type": "display_data"
    },
    {
     "data": {
      "application/javascript": [
       "$('span:contains(\"# Temp\")').closest('.cell').remove();"
      ],
      "text/plain": [
       "<IPython.core.display.Javascript object>"
      ]
     },
     "metadata": {},
     "output_type": "display_data"
    },
    {
     "data": {
      "application/javascript": [
       "\n",
       "        $('span:contains(\"# Temp\")').closest('.cell').remove();\n",
       "        var code = IPython.notebook.insert_cell_below('code');\n",
       "        code.set_text(atob(\"IyBUZW1wCmluc2VydCgnJycnJycpOw==\"));\n",
       "    "
      ],
      "text/plain": [
       "<IPython.core.display.Javascript object>"
      ]
     },
     "metadata": {},
     "output_type": "display_data"
    },
    {
     "data": {
      "application/javascript": [
       "$('span:contains(\"# Temp\")').closest('.cell').remove();"
      ],
      "text/plain": [
       "<IPython.core.display.Javascript object>"
      ]
     },
     "metadata": {},
     "output_type": "display_data"
    },
    {
     "data": {
      "application/javascript": [
       "\n",
       "        $('span:contains(\"# Temp\")').closest('.cell').remove();\n",
       "        var code = IPython.notebook.insert_cell_below('code');\n",
       "        code.set_text(atob(\"IyBUZW1wCmluc2VydCgnJycKYmFjYTIwMTNhID0gREIoV29ya1VucmVsYXRlZCgKICAgIDIwMTMsICJDb3VudGVybWVhc3VyZSBncmFwaHMgZm9yIHNvZnR3YXJlIHNlY3VyaXR5IHJpc2sgYXNzZXNzbWVudDogQW4gYWN0aW9uIHJlc2VhcmNoIiwKICAgIGRpc3BsYXk9ImJhY2EiLAogICAgYXV0aG9ycz0iRGVqYW4gQmFjYSBhbmQgS2FpIFBldGVyc2VuIiwKICAgIHBsYWNlPUpTUywKICAgIHBwPSIyNDExIC0gMjQyOCIsCiAgICBlbnRyeXR5cGU9ImFydGljbGUiLAogICAgdm9sdW1lPSI4NiIsCiAgICBudW1iZXI9IjkiLAogICAgbm90ZT0iIiwKICAgIGlzc249IjAxNjQtMTIxMiIsCiAgICBkb2k9Imh0dHBzOi8vZG9pLm9yZy8xMC4xMDE2L2ouanNzLjIwMTMuMDQuMDIzIiwKICAgIGxpbms9Imh0dHBzOi8vd3d3LnNjaWVuY2VkaXJlY3QuY29tL3NjaWVuY2UvYXJ0aWNsZS9waWkvUzAxNjQxMjEyMTMwMDEwMjciLAogICAga2V5d29yZD0iQ291bnRlcm1lYXN1cmUgZ3JhcGhzIiwKICAgIElEPSJCYWNhMjAxMzI0MTEiLAogICAgc2NpZW5jZWRpcmVjdD0iMSIsCiAgICBwbGFjZXg9IkpvdXJuYWwgb2YgU3lzdGVtcyBhbmQgU29mdHdhcmUiLAopKQonJycpOw==\"));\n",
       "    "
      ],
      "text/plain": [
       "<IPython.core.display.Javascript object>"
      ]
     },
     "metadata": {},
     "output_type": "display_data"
    },
    {
     "data": {
      "application/javascript": [
       "$('span:contains(\"# Temp\")').closest('.cell').remove();"
      ],
      "text/plain": [
       "<IPython.core.display.Javascript object>"
      ]
     },
     "metadata": {},
     "output_type": "display_data"
    },
    {
     "data": {
      "application/javascript": [
       "\n",
       "        $('span:contains(\"# Temp\")').closest('.cell').remove();\n",
       "        var code = IPython.notebook.insert_cell_below('code');\n",
       "        code.set_text(atob(\"IyBUZW1wCmluc2VydCgnJycKYmFjYTIwMTNhID0gREIoV29ya1VucmVsYXRlZCgKICAgIDIwMTMsICJDb3VudGVybWVhc3VyZSBncmFwaHMgZm9yIHNvZnR3YXJlIHNlY3VyaXR5IHJpc2sgYXNzZXNzbWVudDogQW4gYWN0aW9uIHJlc2VhcmNoIiwKICAgIGRpc3BsYXk9ImJhY2EiLAogICAgYXV0aG9ycz0iRGVqYW4gQmFjYSBhbmQgS2FpIFBldGVyc2VuIiwKICAgIHBsYWNlPUpTUywKICAgIHBwPSIyNDExIC0gMjQyOCIsCiAgICBlbnRyeXR5cGU9ImFydGljbGUiLAogICAgdm9sdW1lPSI4NiIsCiAgICBudW1iZXI9IjkiLAogICAgbm90ZT0iIiwKICAgIGlzc249IjAxNjQtMTIxMiIsCiAgICBkb2k9Imh0dHBzOi8vZG9pLm9yZy8xMC4xMDE2L2ouanNzLjIwMTMuMDQuMDIzIiwKICAgIGxpbms9Imh0dHBzOi8vd3d3LnNjaWVuY2VkaXJlY3QuY29tL3NjaWVuY2UvYXJ0aWNsZS9waWkvUzAxNjQxMjEyMTMwMDEwMjciLAogICAga2V5d29yZD0iQ291bnRlcm1lYXN1cmUgZ3JhcGhzIiwKICAgIElEPSJCYWNhMjAxMzI0MTEiLAogICAgc2NpZW5jZWRpcmVjdD0iMSIsCiAgICBwbGFjZXg9IkpvdXJuYWwgb2YgU3lzdGVtcyBhbmQgU29mdHdhcmUiLAopKQonJycpOw==\"));\n",
       "    "
      ],
      "text/plain": [
       "<IPython.core.display.Javascript object>"
      ]
     },
     "metadata": {},
     "output_type": "display_data"
    },
    {
     "data": {
      "application/javascript": [
       "$('span:contains(\"# Temp\")').closest('.cell').remove();"
      ],
      "text/plain": [
       "<IPython.core.display.Javascript object>"
      ]
     },
     "metadata": {},
     "output_type": "display_data"
    },
    {
     "data": {
      "application/javascript": [
       "\n",
       "        $('span:contains(\"# Temp\")').closest('.cell').remove();\n",
       "        var code = IPython.notebook.insert_cell_below('code');\n",
       "        code.set_text(atob(\"IyBUZW1wCmluc2VydCgnJycKc2lsdmEyMDE1YiA9IERCKFdvcmtVbnJlbGF0ZWQoCiAgICAyMDE1LCAiVXNpbmcgYSBtdWx0aS1tZXRob2QgYXBwcm9hY2ggdG8gdW5kZXJzdGFuZCBBZ2lsZSBzb2Z0d2FyZSBwcm9kdWN0IGxpbmVzIiwKICAgIGRpc3BsYXk9InNpbHZhIGIiLAogICAgYXV0aG9ycz0iSXZvbmVpIEZyZWl0YXMgZGEgU2lsdmEgYW5kIFBhdWxvIEFuc2VsbW8gZGEgTW90YSBTaWx2ZWlyYSBOZXRvIGFuZCBQ4WRyYWlnIE+STGVhcnkgYW5kIEVkdWFyZG8gU2FudGFuYSBkZSBBbG1laWRhIGFuZCBTaWx2aW8gUm9tZXJvIGRlIExlbW9zIE1laXJhIiwKICAgIHBsYWNlPUlTVCwKICAgIHBwPSI1MjcgLSA1NDIiLAogICAgZW50cnl0eXBlPSJhcnRpY2xlIiwKICAgIHZvbHVtZT0iNTciLAogICAgbnVtYmVyPSIiLAogICAgbm90ZT0iIiwKICAgIGlzc249IjA5NTAtNTg0OSIsCiAgICBkb2k9Imh0dHBzOi8vZG9pLm9yZy8xMC4xMDE2L2ouaW5mc29mLjIwMTQuMDYuMDA0IiwKICAgIGxpbms9Imh0dHBzOi8vd3d3LnNjaWVuY2VkaXJlY3QuY29tL3NjaWVuY2UvYXJ0aWNsZS9waWkvUzA5NTA1ODQ5MTQwMDE0MzgiLAogICAga2V5d29yZD0iRXhwZXJ0IG9waW5pb24iLAogICAgSUQ9ImRhU2lsdmEyMDE1NTI3IiwKICAgIHNjaWVuY2VkaXJlY3Q9IjEiLAogICAgcGxhY2V4PSJJbmZvcm1hdGlvbiBhbmQgU29mdHdhcmUgVGVjaG5vbG9neSIsCikpCicnJyk7\"));\n",
       "    "
      ],
      "text/plain": [
       "<IPython.core.display.Javascript object>"
      ]
     },
     "metadata": {},
     "output_type": "display_data"
    },
    {
     "data": {
      "application/javascript": [
       "$('span:contains(\"# Temp\")').closest('.cell').remove();"
      ],
      "text/plain": [
       "<IPython.core.display.Javascript object>"
      ]
     },
     "metadata": {},
     "output_type": "display_data"
    },
    {
     "data": {
      "application/javascript": [
       "\n",
       "        $('span:contains(\"# Temp\")').closest('.cell').remove();\n",
       "        var code = IPython.notebook.insert_cell_below('code');\n",
       "        code.set_text(atob(\"IyBUZW1wCmluc2VydCgnJycKc2lsdmEyMDE1YiA9IERCKFdvcmtVbnJlbGF0ZWQoCiAgICAyMDE1LCAiVXNpbmcgYSBtdWx0aS1tZXRob2QgYXBwcm9hY2ggdG8gdW5kZXJzdGFuZCBBZ2lsZSBzb2Z0d2FyZSBwcm9kdWN0IGxpbmVzIiwKICAgIGRpc3BsYXk9InNpbHZhIGIiLAogICAgYXV0aG9ycz0iSXZvbmVpIEZyZWl0YXMgZGEgU2lsdmEgYW5kIFBhdWxvIEFuc2VsbW8gZGEgTW90YSBTaWx2ZWlyYSBOZXRvIGFuZCBQ4WRyYWlnIE+STGVhcnkgYW5kIEVkdWFyZG8gU2FudGFuYSBkZSBBbG1laWRhIGFuZCBTaWx2aW8gUm9tZXJvIGRlIExlbW9zIE1laXJhIiwKICAgIHBsYWNlPUlTVCwKICAgIHBwPSI1MjcgLSA1NDIiLAogICAgZW50cnl0eXBlPSJhcnRpY2xlIiwKICAgIHZvbHVtZT0iNTciLAogICAgbnVtYmVyPSIiLAogICAgbm90ZT0iIiwKICAgIGlzc249IjA5NTAtNTg0OSIsCiAgICBkb2k9Imh0dHBzOi8vZG9pLm9yZy8xMC4xMDE2L2ouaW5mc29mLjIwMTQuMDYuMDA0IiwKICAgIGxpbms9Imh0dHBzOi8vd3d3LnNjaWVuY2VkaXJlY3QuY29tL3NjaWVuY2UvYXJ0aWNsZS9waWkvUzA5NTA1ODQ5MTQwMDE0MzgiLAogICAga2V5d29yZD0iRXhwZXJ0IG9waW5pb24iLAogICAgSUQ9ImRhU2lsdmEyMDE1NTI3IiwKICAgIHNjaWVuY2VkaXJlY3Q9IjEiLAogICAgcGxhY2V4PSJJbmZvcm1hdGlvbiBhbmQgU29mdHdhcmUgVGVjaG5vbG9neSIsCikpCicnJyk7\"));\n",
       "    "
      ],
      "text/plain": [
       "<IPython.core.display.Javascript object>"
      ]
     },
     "metadata": {},
     "output_type": "display_data"
    },
    {
     "data": {
      "application/javascript": [
       "$('span:contains(\"# Temp\")').closest('.cell').remove();"
      ],
      "text/plain": [
       "<IPython.core.display.Javascript object>"
      ]
     },
     "metadata": {},
     "output_type": "display_data"
    },
    {
     "data": {
      "application/javascript": [
       "\n",
       "        $('span:contains(\"# Temp\")').closest('.cell').remove();\n",
       "        var code = IPython.notebook.insert_cell_below('code');\n",
       "        code.set_text(atob(\"IyBUZW1wCmluc2VydCgnJycKZ3JlbjIwMTVhID0gREIoV29ya1VucmVsYXRlZCgKICAgIDIwMTUsICJUaGUgcHJvc3BlY3RzIG9mIGEgcXVhbnRpdGF0aXZlIG1lYXN1cmVtZW50IG9mIGFnaWxpdHk6IEEgdmFsaWRhdGlvbiBzdHVkeSBvbiBhbiBhZ2lsZSBtYXR1cml0eSBtb2RlbCIsCiAgICBkaXNwbGF5PSJncmVuIiwKICAgIGF1dGhvcnM9Ikx1Y2FzIEdyZW4gYW5kIFJpY2hhcmQgVG9ya2FyIGFuZCBSb2JlcnQgRmVsZHQiLAogICAgcGxhY2U9SlNTLAogICAgcHA9IjM4IC0gNDkiLAogICAgZW50cnl0eXBlPSJhcnRpY2xlIiwKICAgIHZvbHVtZT0iMTA3IiwKICAgIG51bWJlcj0iIiwKICAgIG5vdGU9IiIsCiAgICBpc3NuPSIwMTY0LTEyMTIiLAogICAgZG9pPSJodHRwczovL2RvaS5vcmcvMTAuMTAxNi9qLmpzcy4yMDE1LjA1LjAwOCIsCiAgICBsaW5rPSJodHRwczovL3d3dy5zY2llbmNlZGlyZWN0LmNvbS9zY2llbmNlL2FydGljbGUvcGlpL1MwMTY0MTIxMjE1MDAxMDI4IiwKICAgIGtleXdvcmQ9IlZhbGlkYXRpb24iLAogICAgSUQ9IkdyZW4yMDE1MzgiLAogICAgc2NpZW5jZWRpcmVjdD0iMSIsCiAgICBwbGFjZXg9IkpvdXJuYWwgb2YgU3lzdGVtcyBhbmQgU29mdHdhcmUiLAopKQonJycpOw==\"));\n",
       "    "
      ],
      "text/plain": [
       "<IPython.core.display.Javascript object>"
      ]
     },
     "metadata": {},
     "output_type": "display_data"
    },
    {
     "data": {
      "application/javascript": [
       "$('span:contains(\"# Temp\")').closest('.cell').remove();"
      ],
      "text/plain": [
       "<IPython.core.display.Javascript object>"
      ]
     },
     "metadata": {},
     "output_type": "display_data"
    },
    {
     "data": {
      "application/javascript": [
       "\n",
       "        $('span:contains(\"# Temp\")').closest('.cell').remove();\n",
       "        var code = IPython.notebook.insert_cell_below('code');\n",
       "        code.set_text(atob(\"IyBUZW1wCmluc2VydCgnJycKZ3JlbjIwMTVhID0gREIoV29ya1VucmVsYXRlZCgKICAgIDIwMTUsICJUaGUgcHJvc3BlY3RzIG9mIGEgcXVhbnRpdGF0aXZlIG1lYXN1cmVtZW50IG9mIGFnaWxpdHk6IEEgdmFsaWRhdGlvbiBzdHVkeSBvbiBhbiBhZ2lsZSBtYXR1cml0eSBtb2RlbCIsCiAgICBkaXNwbGF5PSJncmVuIiwKICAgIGF1dGhvcnM9Ikx1Y2FzIEdyZW4gYW5kIFJpY2hhcmQgVG9ya2FyIGFuZCBSb2JlcnQgRmVsZHQiLAogICAgcGxhY2U9SlNTLAogICAgcHA9IjM4IC0gNDkiLAogICAgZW50cnl0eXBlPSJhcnRpY2xlIiwKICAgIHZvbHVtZT0iMTA3IiwKICAgIG51bWJlcj0iIiwKICAgIG5vdGU9IiIsCiAgICBpc3NuPSIwMTY0LTEyMTIiLAogICAgZG9pPSJodHRwczovL2RvaS5vcmcvMTAuMTAxNi9qLmpzcy4yMDE1LjA1LjAwOCIsCiAgICBsaW5rPSJodHRwczovL3d3dy5zY2llbmNlZGlyZWN0LmNvbS9zY2llbmNlL2FydGljbGUvcGlpL1MwMTY0MTIxMjE1MDAxMDI4IiwKICAgIGtleXdvcmQ9IlZhbGlkYXRpb24iLAogICAgSUQ9IkdyZW4yMDE1MzgiLAogICAgc2NpZW5jZWRpcmVjdD0iMSIsCiAgICBwbGFjZXg9IkpvdXJuYWwgb2YgU3lzdGVtcyBhbmQgU29mdHdhcmUiLAopKQonJycpOw==\"));\n",
       "    "
      ],
      "text/plain": [
       "<IPython.core.display.Javascript object>"
      ]
     },
     "metadata": {},
     "output_type": "display_data"
    },
    {
     "data": {
      "application/javascript": [
       "$('span:contains(\"# Temp\")').closest('.cell').remove();"
      ],
      "text/plain": [
       "<IPython.core.display.Javascript object>"
      ]
     },
     "metadata": {},
     "output_type": "display_data"
    },
    {
     "data": {
      "application/javascript": [
       "\n",
       "        $('span:contains(\"# Temp\")').closest('.cell').remove();\n",
       "        var code = IPython.notebook.insert_cell_below('code');\n",
       "        code.set_text(atob(\"IyBUZW1wCmluc2VydCgnJycKa2FyZzIwMTFhID0gREIoV29ya1VucmVsYXRlZCgKICAgIDIwMTEsICJBIHN5c3RlbWF0aWMgbGl0ZXJhdHVyZSByZXZpZXcgb2Ygc29mdHdhcmUgcXVhbGl0eSBjb3N0IHJlc2VhcmNoIiwKICAgIGRpc3BsYXk9ImthcmciLAogICAgYXV0aG9ycz0iTGFycyBNLiBLYXJnIGFuZCBNaWNoYWVsIEdyb3R0a2UgYW5kIEFybmUgQmVja2hhdXMiLAogICAgcGxhY2U9SlNTLAogICAgcHA9IjQxNSAtIDQyNyIsCiAgICBlbnRyeXR5cGU9ImFydGljbGUiLAogICAgdm9sdW1lPSI4NCIsCiAgICBudW1iZXI9IjMiLAogICAgbm90ZT0iIiwKICAgIGlzc249IjAxNjQtMTIxMiIsCiAgICBkb2k9Imh0dHBzOi8vZG9pLm9yZy8xMC4xMDE2L2ouanNzLjIwMTAuMTEuOTA0IiwKICAgIGxpbms9Imh0dHBzOi8vd3d3LnNjaWVuY2VkaXJlY3QuY29tL3NjaWVuY2UvYXJ0aWNsZS9waWkvUzAxNjQxMjEyMTAwMDMxNDYiLAogICAga2V5d29yZD0iUXVhbGl0eSBjb3N0cyIsCiAgICBJRD0iS2FyZzIwMTE0MTUiLAogICAgc2NpZW5jZWRpcmVjdD0iMSIsCiAgICBwbGFjZXg9IkpvdXJuYWwgb2YgU3lzdGVtcyBhbmQgU29mdHdhcmUiLAopKQonJycpOw==\"));\n",
       "    "
      ],
      "text/plain": [
       "<IPython.core.display.Javascript object>"
      ]
     },
     "metadata": {},
     "output_type": "display_data"
    },
    {
     "data": {
      "application/javascript": [
       "$('span:contains(\"# Temp\")').closest('.cell').remove();"
      ],
      "text/plain": [
       "<IPython.core.display.Javascript object>"
      ]
     },
     "metadata": {},
     "output_type": "display_data"
    },
    {
     "data": {
      "application/javascript": [
       "\n",
       "        $('span:contains(\"# Temp\")').closest('.cell').remove();\n",
       "        var code = IPython.notebook.insert_cell_below('code');\n",
       "        code.set_text(atob(\"IyBUZW1wCmluc2VydCgnJycKa2FyZzIwMTFhID0gREIoV29ya1VucmVsYXRlZCgKICAgIDIwMTEsICJBIHN5c3RlbWF0aWMgbGl0ZXJhdHVyZSByZXZpZXcgb2Ygc29mdHdhcmUgcXVhbGl0eSBjb3N0IHJlc2VhcmNoIiwKICAgIGRpc3BsYXk9ImthcmciLAogICAgYXV0aG9ycz0iTGFycyBNLiBLYXJnIGFuZCBNaWNoYWVsIEdyb3R0a2UgYW5kIEFybmUgQmVja2hhdXMiLAogICAgcGxhY2U9SlNTLAogICAgcHA9IjQxNSAtIDQyNyIsCiAgICBlbnRyeXR5cGU9ImFydGljbGUiLAogICAgdm9sdW1lPSI4NCIsCiAgICBudW1iZXI9IjMiLAogICAgbm90ZT0iIiwKICAgIGlzc249IjAxNjQtMTIxMiIsCiAgICBkb2k9Imh0dHBzOi8vZG9pLm9yZy8xMC4xMDE2L2ouanNzLjIwMTAuMTEuOTA0IiwKICAgIGxpbms9Imh0dHBzOi8vd3d3LnNjaWVuY2VkaXJlY3QuY29tL3NjaWVuY2UvYXJ0aWNsZS9waWkvUzAxNjQxMjEyMTAwMDMxNDYiLAogICAga2V5d29yZD0iUXVhbGl0eSBjb3N0cyIsCiAgICBJRD0iS2FyZzIwMTE0MTUiLAogICAgc2NpZW5jZWRpcmVjdD0iMSIsCiAgICBwbGFjZXg9IkpvdXJuYWwgb2YgU3lzdGVtcyBhbmQgU29mdHdhcmUiLAopKQonJycpOw==\"));\n",
       "    "
      ],
      "text/plain": [
       "<IPython.core.display.Javascript object>"
      ]
     },
     "metadata": {},
     "output_type": "display_data"
    },
    {
     "data": {
      "application/javascript": [
       "$('span:contains(\"# Temp\")').closest('.cell').remove();"
      ],
      "text/plain": [
       "<IPython.core.display.Javascript object>"
      ]
     },
     "metadata": {},
     "output_type": "display_data"
    },
    {
     "data": {
      "application/javascript": [
       "\n",
       "        $('span:contains(\"# Temp\")').closest('.cell').remove();\n",
       "        var code = IPython.notebook.insert_cell_below('code');\n",
       "        code.set_text(atob(\"IyBUZW1wCmluc2VydCgnJycKaGF1Z2UyMDEwYSA9IERCKFdvcmtVbnJlbGF0ZWQoCiAgICAyMDEwLCAiQWRvcHRpb24gb2Ygb3BlbiBzb3VyY2Ugc29mdHdhcmUgaW4gc29mdHdhcmUtaW50ZW5zaXZlIG9yZ2FuaXphdGlvbnMgliBBIHN5c3RlbWF0aWMgbGl0ZXJhdHVyZSByZXZpZXciLAogICAgZGlzcGxheT0iaGF1Z2UiLAogICAgYXV0aG9ycz0i2Hl2aW5kIEhhdWdlIGFuZCBDbGF1ZGlhIEF5YWxhIGFuZCBSZWlkYXIgQ29ucmFkaSIsCiAgICBwbGFjZT1JU1QsCiAgICBwcD0iMTEzMyAtIDExNTQiLAogICAgZW50cnl0eXBlPSJhcnRpY2xlIiwKICAgIHZvbHVtZT0iNTIiLAogICAgbnVtYmVyPSIxMSIsCiAgICBub3RlPSJTcGVjaWFsIFNlY3Rpb24gb24gQmVzdCBQYXBlcnMgXHtQUk9NSVNFXH0gMjAwOSIsCiAgICBpc3NuPSIwOTUwLTU4NDkiLAogICAgZG9pPSJodHRwczovL2RvaS5vcmcvMTAuMTAxNi9qLmluZnNvZi4yMDEwLjA1LjAwOCIsCiAgICBsaW5rPSJodHRwczovL3d3dy5zY2llbmNlZGlyZWN0LmNvbS9zY2llbmNlL2FydGljbGUvcGlpL1MwOTUwNTg0OTEwMDAwOTcyIiwKICAgIGtleXdvcmQ9IlN5c3RlbWF0aWMgbGl0ZXJhdHVyZSByZXZpZXciLAogICAgSUQ9IkhhdWdlMjAxMDExMzMiLAogICAgc2NpZW5jZWRpcmVjdD0iMSIsCiAgICBwbGFjZXg9IkluZm9ybWF0aW9uIGFuZCBTb2Z0d2FyZSBUZWNobm9sb2d5IiwKKSkKJycnKTs=\"));\n",
       "    "
      ],
      "text/plain": [
       "<IPython.core.display.Javascript object>"
      ]
     },
     "metadata": {},
     "output_type": "display_data"
    },
    {
     "data": {
      "application/javascript": [
       "$('span:contains(\"# Temp\")').closest('.cell').remove();"
      ],
      "text/plain": [
       "<IPython.core.display.Javascript object>"
      ]
     },
     "metadata": {},
     "output_type": "display_data"
    },
    {
     "data": {
      "application/javascript": [
       "\n",
       "        $('span:contains(\"# Temp\")').closest('.cell').remove();\n",
       "        var code = IPython.notebook.insert_cell_below('code');\n",
       "        code.set_text(atob(\"IyBUZW1wCmluc2VydCgnJycKaGF1Z2UyMDEwYSA9IERCKFdvcmtVbnJlbGF0ZWQoCiAgICAyMDEwLCAiQWRvcHRpb24gb2Ygb3BlbiBzb3VyY2Ugc29mdHdhcmUgaW4gc29mdHdhcmUtaW50ZW5zaXZlIG9yZ2FuaXphdGlvbnMgliBBIHN5c3RlbWF0aWMgbGl0ZXJhdHVyZSByZXZpZXciLAogICAgZGlzcGxheT0iaGF1Z2UiLAogICAgYXV0aG9ycz0i2Hl2aW5kIEhhdWdlIGFuZCBDbGF1ZGlhIEF5YWxhIGFuZCBSZWlkYXIgQ29ucmFkaSIsCiAgICBwbGFjZT1JU1QsCiAgICBwcD0iMTEzMyAtIDExNTQiLAogICAgZW50cnl0eXBlPSJhcnRpY2xlIiwKICAgIHZvbHVtZT0iNTIiLAogICAgbnVtYmVyPSIxMSIsCiAgICBub3RlPSJTcGVjaWFsIFNlY3Rpb24gb24gQmVzdCBQYXBlcnMgXHtQUk9NSVNFXH0gMjAwOSIsCiAgICBpc3NuPSIwOTUwLTU4NDkiLAogICAgZG9pPSJodHRwczovL2RvaS5vcmcvMTAuMTAxNi9qLmluZnNvZi4yMDEwLjA1LjAwOCIsCiAgICBsaW5rPSJodHRwczovL3d3dy5zY2llbmNlZGlyZWN0LmNvbS9zY2llbmNlL2FydGljbGUvcGlpL1MwOTUwNTg0OTEwMDAwOTcyIiwKICAgIGtleXdvcmQ9IlN5c3RlbWF0aWMgbGl0ZXJhdHVyZSByZXZpZXciLAogICAgSUQ9IkhhdWdlMjAxMDExMzMiLAogICAgc2NpZW5jZWRpcmVjdD0iMSIsCiAgICBwbGFjZXg9IkluZm9ybWF0aW9uIGFuZCBTb2Z0d2FyZSBUZWNobm9sb2d5IiwKKSkKJycnKTs=\"));\n",
       "    "
      ],
      "text/plain": [
       "<IPython.core.display.Javascript object>"
      ]
     },
     "metadata": {},
     "output_type": "display_data"
    },
    {
     "data": {
      "application/javascript": [
       "$('span:contains(\"# Temp\")').closest('.cell').remove();"
      ],
      "text/plain": [
       "<IPython.core.display.Javascript object>"
      ]
     },
     "metadata": {},
     "output_type": "display_data"
    },
    {
     "data": {
      "application/javascript": [
       "\n",
       "        $('span:contains(\"# Temp\")').closest('.cell').remove();\n",
       "        var code = IPython.notebook.insert_cell_below('code');\n",
       "        code.set_text(atob(\"IyBUZW1wCmluc2VydCgnJycKZ2VuY2VsMjAxM2EgPSBEQihXb3JrVW5yZWxhdGVkKAogICAgMjAxMywgIkEgZGVjaXNpb24gc3VwcG9ydCBmcmFtZXdvcmsgZm9yIG1ldHJpY3Mgc2VsZWN0aW9uIGluIGdvYWwtYmFzZWQgbWVhc3VyZW1lbnQgcHJvZ3JhbXM6IEdRTS1EU0ZNUyIsCiAgICBkaXNwbGF5PSJnZW5jZWwiLAogICAgYXV0aG9ycz0iQ2lnZGVtIEdlbmNlbCBhbmQgS2FpIFBldGVyc2VuIGFuZCBBZnRhYiBBaG1hZCBNdWdoYWwgYW5kIE11aGFtbWFkIEltcmFuIElxYmFsIiwKICAgIHBsYWNlPUpTUywKICAgIHBwPSIzMDkxIC0gMzEwOCIsCiAgICBlbnRyeXR5cGU9ImFydGljbGUiLAogICAgdm9sdW1lPSI4NiIsCiAgICBudW1iZXI9IjEyIiwKICAgIG5vdGU9IiIsCiAgICBpc3NuPSIwMTY0LTEyMTIiLAogICAgZG9pPSJodHRwczovL2RvaS5vcmcvMTAuMTAxNi9qLmpzcy4yMDEzLjA3LjAyMiIsCiAgICBsaW5rPSJodHRwczovL3d3dy5zY2llbmNlZGlyZWN0LmNvbS9zY2llbmNlL2FydGljbGUvcGlpL1MwMTY0MTIxMjEzMDAxNzI2IiwKICAgIGtleXdvcmQ9IlByaW9yaXRpemF0aW9uIiwKICAgIElEPSJHZW5jZWwyMDEzMzA5MSIsCiAgICBzY2llbmNlZGlyZWN0PSIxIiwKICAgIHBsYWNleD0iSm91cm5hbCBvZiBTeXN0ZW1zIGFuZCBTb2Z0d2FyZSIsCikpCicnJyk7\"));\n",
       "    "
      ],
      "text/plain": [
       "<IPython.core.display.Javascript object>"
      ]
     },
     "metadata": {},
     "output_type": "display_data"
    },
    {
     "data": {
      "application/javascript": [
       "$('span:contains(\"# Temp\")').closest('.cell').remove();"
      ],
      "text/plain": [
       "<IPython.core.display.Javascript object>"
      ]
     },
     "metadata": {},
     "output_type": "display_data"
    },
    {
     "data": {
      "application/javascript": [
       "\n",
       "        $('span:contains(\"# Temp\")').closest('.cell').remove();\n",
       "        var code = IPython.notebook.insert_cell_below('code');\n",
       "        code.set_text(atob(\"IyBUZW1wCmluc2VydCgnJycKZ2VuY2VsMjAxM2EgPSBEQihXb3JrVW5yZWxhdGVkKAogICAgMjAxMywgIkEgZGVjaXNpb24gc3VwcG9ydCBmcmFtZXdvcmsgZm9yIG1ldHJpY3Mgc2VsZWN0aW9uIGluIGdvYWwtYmFzZWQgbWVhc3VyZW1lbnQgcHJvZ3JhbXM6IEdRTS1EU0ZNUyIsCiAgICBkaXNwbGF5PSJnZW5jZWwiLAogICAgYXV0aG9ycz0iQ2lnZGVtIEdlbmNlbCBhbmQgS2FpIFBldGVyc2VuIGFuZCBBZnRhYiBBaG1hZCBNdWdoYWwgYW5kIE11aGFtbWFkIEltcmFuIElxYmFsIiwKICAgIHBsYWNlPUpTUywKICAgIHBwPSIzMDkxIC0gMzEwOCIsCiAgICBlbnRyeXR5cGU9ImFydGljbGUiLAogICAgdm9sdW1lPSI4NiIsCiAgICBudW1iZXI9IjEyIiwKICAgIG5vdGU9IiIsCiAgICBpc3NuPSIwMTY0LTEyMTIiLAogICAgZG9pPSJodHRwczovL2RvaS5vcmcvMTAuMTAxNi9qLmpzcy4yMDEzLjA3LjAyMiIsCiAgICBsaW5rPSJodHRwczovL3d3dy5zY2llbmNlZGlyZWN0LmNvbS9zY2llbmNlL2FydGljbGUvcGlpL1MwMTY0MTIxMjEzMDAxNzI2IiwKICAgIGtleXdvcmQ9IlByaW9yaXRpemF0aW9uIiwKICAgIElEPSJHZW5jZWwyMDEzMzA5MSIsCiAgICBzY2llbmNlZGlyZWN0PSIxIiwKICAgIHBsYWNleD0iSm91cm5hbCBvZiBTeXN0ZW1zIGFuZCBTb2Z0d2FyZSIsCikpCicnJyk7\"));\n",
       "    "
      ],
      "text/plain": [
       "<IPython.core.display.Javascript object>"
      ]
     },
     "metadata": {},
     "output_type": "display_data"
    },
    {
     "data": {
      "application/javascript": [
       "$('span:contains(\"# Temp\")').closest('.cell').remove();"
      ],
      "text/plain": [
       "<IPython.core.display.Javascript object>"
      ]
     },
     "metadata": {},
     "output_type": "display_data"
    },
    {
     "data": {
      "application/javascript": [
       "\n",
       "        $('span:contains(\"# Temp\")').closest('.cell').remove();\n",
       "        var code = IPython.notebook.insert_cell_below('code');\n",
       "        code.set_text(atob(\"IyBUZW1wCmluc2VydCgnJycKY2FrdWxhMjAxNWEgPSBEQihXb3JrVW5yZWxhdGVkKAogICAgMjAxNSwgIkF1dG9tYXRlZCBMZWFybmluZyBTdXBwb3J0IFN5c3RlbSBmb3IgQWR1bHQgRWR1Y2F0aW9uIEluc3RpdHV0aW9ucyBhbmQgRW50ZXJwcmlzZXMiLAogICAgZGlzcGxheT0iY2FrdWxhIiwKICAgIGF1dGhvcnM9IlNhcm1hIENha3VsYSBhbmQgQW5kcmEgSmFrb2Jzb25lIGFuZCBNb25pY2EgRmxvcmVhIiwKICAgIHBsYWNlPUZBS0UsCiAgICBwcD0iMTkxIC0gMTk4IiwKICAgIGVudHJ5dHlwZT0iYXJ0aWNsZSIsCiAgICB2b2x1bWU9Ijc3IiwKICAgIG51bWJlcj0iIiwKICAgIG5vdGU9Ilx7SUNURVx9IGluIHJlZ2lvbmFsIERldmVsb3BtZW50IDIwMTUgVmFsbWllcmEsIExhdHZpYSIsCiAgICBpc3NuPSIxODc3LTA1MDkiLAogICAgZG9pPSJodHRwczovL2RvaS5vcmcvMTAuMTAxNi9qLnByb2NzLjIwMTUuMTIuMzgzIiwKICAgIGxpbms9Imh0dHBzOi8vd3d3LnNjaWVuY2VkaXJlY3QuY29tL3NjaWVuY2UvYXJ0aWNsZS9waWkvUzE4NzcwNTA5MTUwMzg5MzQiLAogICAga2V5d29yZD0iSW5mb3JtYXRpb24gc3lzdGVtcyAoSVMpIiwKICAgIElEPSJDYWt1bGEyMDE1MTkxIiwKICAgIHNjaWVuY2VkaXJlY3Q9IjEiLAogICAgcGxhY2V4PSJQcm9jZWRpYSBDb21wdXRlciBTY2llbmNlIiwKKSkKJycnKTs=\"));\n",
       "    "
      ],
      "text/plain": [
       "<IPython.core.display.Javascript object>"
      ]
     },
     "metadata": {},
     "output_type": "display_data"
    },
    {
     "data": {
      "application/javascript": [
       "$('span:contains(\"# Temp\")').closest('.cell').remove();"
      ],
      "text/plain": [
       "<IPython.core.display.Javascript object>"
      ]
     },
     "metadata": {},
     "output_type": "display_data"
    },
    {
     "data": {
      "application/javascript": [
       "\n",
       "        $('span:contains(\"# Temp\")').closest('.cell').remove();\n",
       "        var code = IPython.notebook.insert_cell_below('code');\n",
       "        code.set_text(atob(\"IyBUZW1wCmluc2VydCgnJycKY2FrdWxhMjAxNWEgPSBEQihXb3JrVW5yZWxhdGVkKAogICAgMjAxNSwgIkF1dG9tYXRlZCBMZWFybmluZyBTdXBwb3J0IFN5c3RlbSBmb3IgQWR1bHQgRWR1Y2F0aW9uIEluc3RpdHV0aW9ucyBhbmQgRW50ZXJwcmlzZXMiLAogICAgZGlzcGxheT0iY2FrdWxhIiwKICAgIGF1dGhvcnM9IlNhcm1hIENha3VsYSBhbmQgQW5kcmEgSmFrb2Jzb25lIGFuZCBNb25pY2EgRmxvcmVhIiwKICAgIHBsYWNlPUZBS0UsCiAgICBwcD0iMTkxIC0gMTk4IiwKICAgIGVudHJ5dHlwZT0iYXJ0aWNsZSIsCiAgICB2b2x1bWU9Ijc3IiwKICAgIG51bWJlcj0iIiwKICAgIG5vdGU9Ilx7SUNURVx9IGluIHJlZ2lvbmFsIERldmVsb3BtZW50IDIwMTUgVmFsbWllcmEsIExhdHZpYSIsCiAgICBpc3NuPSIxODc3LTA1MDkiLAogICAgZG9pPSJodHRwczovL2RvaS5vcmcvMTAuMTAxNi9qLnByb2NzLjIwMTUuMTIuMzgzIiwKICAgIGxpbms9Imh0dHBzOi8vd3d3LnNjaWVuY2VkaXJlY3QuY29tL3NjaWVuY2UvYXJ0aWNsZS9waWkvUzE4NzcwNTA5MTUwMzg5MzQiLAogICAga2V5d29yZD0iSW5mb3JtYXRpb24gc3lzdGVtcyAoSVMpIiwKICAgIElEPSJDYWt1bGEyMDE1MTkxIiwKICAgIHNjaWVuY2VkaXJlY3Q9IjEiLAogICAgcGxhY2V4PSJQcm9jZWRpYSBDb21wdXRlciBTY2llbmNlIiwKKSkKJycnKTs=\"));\n",
       "    "
      ],
      "text/plain": [
       "<IPython.core.display.Javascript object>"
      ]
     },
     "metadata": {},
     "output_type": "display_data"
    },
    {
     "data": {
      "application/javascript": [
       "$('span:contains(\"# Temp\")').closest('.cell').remove();"
      ],
      "text/plain": [
       "<IPython.core.display.Javascript object>"
      ]
     },
     "metadata": {},
     "output_type": "display_data"
    },
    {
     "data": {
      "application/javascript": [
       "\n",
       "        $('span:contains(\"# Temp\")').closest('.cell').remove();\n",
       "        var code = IPython.notebook.insert_cell_below('code');\n",
       "        code.set_text(atob(\"IyBUZW1wCmluc2VydCgnJycKbGFuZTIwMTFhID0gREIoV29ya1VucmVsYXRlZCgKICAgIDIwMTEsICJQcm9jZXNzIG1vZGVscyBmb3Igc2VydmljZS1iYXNlZCBhcHBsaWNhdGlvbnM6IEEgc3lzdGVtYXRpYyBsaXRlcmF0dXJlIHJldmlldyIsCiAgICBkaXNwbGF5PSJsYW5lIiwKICAgIGF1dGhvcnM9IlN0ZXBoZW4gTGFuZSBhbmQgSXRhIFJpY2hhcmRzb24iLAogICAgcGxhY2U9SVNULAogICAgcHA9IjQyNCAtIDQzOSIsCiAgICBlbnRyeXR5cGU9ImFydGljbGUiLAogICAgdm9sdW1lPSI1MyIsCiAgICBudW1iZXI9IjUiLAogICAgbm90ZT0iU3BlY2lhbCBTZWN0aW9uIG9uIEJlc3QgUGFwZXJzIGZyb20gXHtYUDIwMTBcfSIsCiAgICBpc3NuPSIwOTUwLTU4NDkiLAogICAgZG9pPSJodHRwczovL2RvaS5vcmcvMTAuMTAxNi9qLmluZnNvZi4yMDEwLjEyLjAwNSIsCiAgICBsaW5rPSJodHRwczovL3d3dy5zY2llbmNlZGlyZWN0LmNvbS9zY2llbmNlL2FydGljbGUvcGlpL1MwOTUwNTg0OTEwMDAyMjExIiwKICAgIGtleXdvcmQ9IlN5c3RlbWF0aWMgbGl0ZXJhdHVyZSByZXZpZXciLAogICAgSUQ9IkxhbmUyMDExNDI0IiwKICAgIHNjaWVuY2VkaXJlY3Q9IjEiLAogICAgcGxhY2V4PSJJbmZvcm1hdGlvbiBhbmQgU29mdHdhcmUgVGVjaG5vbG9neSIsCikpCicnJyk7\"));\n",
       "    "
      ],
      "text/plain": [
       "<IPython.core.display.Javascript object>"
      ]
     },
     "metadata": {},
     "output_type": "display_data"
    },
    {
     "data": {
      "application/javascript": [
       "$('span:contains(\"# Temp\")').closest('.cell').remove();"
      ],
      "text/plain": [
       "<IPython.core.display.Javascript object>"
      ]
     },
     "metadata": {},
     "output_type": "display_data"
    },
    {
     "data": {
      "application/javascript": [
       "\n",
       "        $('span:contains(\"# Temp\")').closest('.cell').remove();\n",
       "        var code = IPython.notebook.insert_cell_below('code');\n",
       "        code.set_text(atob(\"IyBUZW1wCmluc2VydCgnJycKbGFuZTIwMTFhID0gREIoV29ya1VucmVsYXRlZCgKICAgIDIwMTEsICJQcm9jZXNzIG1vZGVscyBmb3Igc2VydmljZS1iYXNlZCBhcHBsaWNhdGlvbnM6IEEgc3lzdGVtYXRpYyBsaXRlcmF0dXJlIHJldmlldyIsCiAgICBkaXNwbGF5PSJsYW5lIiwKICAgIGF1dGhvcnM9IlN0ZXBoZW4gTGFuZSBhbmQgSXRhIFJpY2hhcmRzb24iLAogICAgcGxhY2U9SVNULAogICAgcHA9IjQyNCAtIDQzOSIsCiAgICBlbnRyeXR5cGU9ImFydGljbGUiLAogICAgdm9sdW1lPSI1MyIsCiAgICBudW1iZXI9IjUiLAogICAgbm90ZT0iU3BlY2lhbCBTZWN0aW9uIG9uIEJlc3QgUGFwZXJzIGZyb20gXHtYUDIwMTBcfSIsCiAgICBpc3NuPSIwOTUwLTU4NDkiLAogICAgZG9pPSJodHRwczovL2RvaS5vcmcvMTAuMTAxNi9qLmluZnNvZi4yMDEwLjEyLjAwNSIsCiAgICBsaW5rPSJodHRwczovL3d3dy5zY2llbmNlZGlyZWN0LmNvbS9zY2llbmNlL2FydGljbGUvcGlpL1MwOTUwNTg0OTEwMDAyMjExIiwKICAgIGtleXdvcmQ9IlN5c3RlbWF0aWMgbGl0ZXJhdHVyZSByZXZpZXciLAogICAgSUQ9IkxhbmUyMDExNDI0IiwKICAgIHNjaWVuY2VkaXJlY3Q9IjEiLAogICAgcGxhY2V4PSJJbmZvcm1hdGlvbiBhbmQgU29mdHdhcmUgVGVjaG5vbG9neSIsCikpCicnJyk7\"));\n",
       "    "
      ],
      "text/plain": [
       "<IPython.core.display.Javascript object>"
      ]
     },
     "metadata": {},
     "output_type": "display_data"
    },
    {
     "data": {
      "application/javascript": [
       "$('span:contains(\"# Temp\")').closest('.cell').remove();"
      ],
      "text/plain": [
       "<IPython.core.display.Javascript object>"
      ]
     },
     "metadata": {},
     "output_type": "display_data"
    },
    {
     "data": {
      "application/javascript": [
       "\n",
       "        $('span:contains(\"# Temp\")').closest('.cell').remove();\n",
       "        var code = IPython.notebook.insert_cell_below('code');\n",
       "        code.set_text(atob(\"IyBUZW1wCmluc2VydCgnJycKbmllbHNlbjIwMTRhID0gREIoV29ya1VucmVsYXRlZCgKICAgIDIwMTQsICJcSVRcIHBvcnRmb2xpbyBkZWNpc2lvbi1tYWtpbmcgaW4gbG9jYWwgZ292ZXJubWVudHM6IFJhdGlvbmFsaXR5LCBwb2xpdGljcywgaW50dWl0aW9uIGFuZCBjb2luY2lkZW5jZXMiLAogICAgZGlzcGxheT0ibmllbHNlbiIsCiAgICBhdXRob3JzPSJKZXBwZSBBZ2dlciBOaWVsc2VuIGFuZCBLZWxkIFBlZGVyc2VuIiwKICAgIHBsYWNlPUZBS0UsCiAgICBwcD0iNDExIC0gNDIwIiwKICAgIGVudHJ5dHlwZT0iYXJ0aWNsZSIsCiAgICB2b2x1bWU9IjMxIiwKICAgIG51bWJlcj0iMyIsCiAgICBub3RlPSIiLAogICAgaXNzbj0iMDc0MC02MjRYIiwKICAgIGRvaT0iaHR0cHM6Ly9kb2kub3JnLzEwLjEwMTYvai5naXEuMjAxNC4wNC4wMDIiLAogICAgbGluaz0iaHR0cHM6Ly93d3cuc2NpZW5jZWRpcmVjdC5jb20vc2NpZW5jZS9hcnRpY2xlL3BpaS9TMDc0MDYyNFgxNDAwMDkyNiIsCiAgICBrZXl3b3JkPSJDYXNlLXN0dWR5IiwKICAgIElEPSJOaWVsc2VuMjAxNDQxMSIsCiAgICBzY2llbmNlZGlyZWN0PSIxIiwKICAgIHBsYWNleD0iR292ZXJubWVudCBJbmZvcm1hdGlvbiBRdWFydGVybHkiLAopKQonJycpOw==\"));\n",
       "    "
      ],
      "text/plain": [
       "<IPython.core.display.Javascript object>"
      ]
     },
     "metadata": {},
     "output_type": "display_data"
    },
    {
     "data": {
      "application/javascript": [
       "$('span:contains(\"# Temp\")').closest('.cell').remove();"
      ],
      "text/plain": [
       "<IPython.core.display.Javascript object>"
      ]
     },
     "metadata": {},
     "output_type": "display_data"
    },
    {
     "data": {
      "application/javascript": [
       "\n",
       "        $('span:contains(\"# Temp\")').closest('.cell').remove();\n",
       "        var code = IPython.notebook.insert_cell_below('code');\n",
       "        code.set_text(atob(\"IyBUZW1wCmluc2VydCgnJycKbmllbHNlbjIwMTRhID0gREIoV29ya1VucmVsYXRlZCgKICAgIDIwMTQsICJcSVRcIHBvcnRmb2xpbyBkZWNpc2lvbi1tYWtpbmcgaW4gbG9jYWwgZ292ZXJubWVudHM6IFJhdGlvbmFsaXR5LCBwb2xpdGljcywgaW50dWl0aW9uIGFuZCBjb2luY2lkZW5jZXMiLAogICAgZGlzcGxheT0ibmllbHNlbiIsCiAgICBhdXRob3JzPSJKZXBwZSBBZ2dlciBOaWVsc2VuIGFuZCBLZWxkIFBlZGVyc2VuIiwKICAgIHBsYWNlPUZBS0UsCiAgICBwcD0iNDExIC0gNDIwIiwKICAgIGVudHJ5dHlwZT0iYXJ0aWNsZSIsCiAgICB2b2x1bWU9IjMxIiwKICAgIG51bWJlcj0iMyIsCiAgICBub3RlPSIiLAogICAgaXNzbj0iMDc0MC02MjRYIiwKICAgIGRvaT0iaHR0cHM6Ly9kb2kub3JnLzEwLjEwMTYvai5naXEuMjAxNC4wNC4wMDIiLAogICAgbGluaz0iaHR0cHM6Ly93d3cuc2NpZW5jZWRpcmVjdC5jb20vc2NpZW5jZS9hcnRpY2xlL3BpaS9TMDc0MDYyNFgxNDAwMDkyNiIsCiAgICBrZXl3b3JkPSJDYXNlLXN0dWR5IiwKICAgIElEPSJOaWVsc2VuMjAxNDQxMSIsCiAgICBzY2llbmNlZGlyZWN0PSIxIiwKICAgIHBsYWNleD0iR292ZXJubWVudCBJbmZvcm1hdGlvbiBRdWFydGVybHkiLAopKQonJycpOw==\"));\n",
       "    "
      ],
      "text/plain": [
       "<IPython.core.display.Javascript object>"
      ]
     },
     "metadata": {},
     "output_type": "display_data"
    },
    {
     "data": {
      "application/javascript": [
       "$('span:contains(\"# Temp\")').closest('.cell').remove();"
      ],
      "text/plain": [
       "<IPython.core.display.Javascript object>"
      ]
     },
     "metadata": {},
     "output_type": "display_data"
    },
    {
     "data": {
      "application/javascript": [
       "\n",
       "        $('span:contains(\"# Temp\")').closest('.cell').remove();\n",
       "        var code = IPython.notebook.insert_cell_below('code');\n",
       "        code.set_text(atob(\"IyBUZW1wCmluc2VydCgnJycKa2FubmFiaXJhbjIwMTFhID0gREIoV29ya1VucmVsYXRlZCgKICAgIDIwMTEsICJEZXRlcm1pbmFudHMgb2Ygc29mdHdhcmUgcXVhbGl0eSBpbiBvZmZzaG9yZSBkZXZlbG9wbWVudCCWIEFuIGVtcGlyaWNhbCBzdHVkeSBvZiBhbiBJbmRpYW4gdmVuZG9yIiwKICAgIGRpc3BsYXk9Imthbm5hYmlyYW4iLAogICAgYXV0aG9ycz0iRy4gS2FubmFiaXJhbiBhbmQgSy4gU2Fua2FyYW4iLAogICAgcGxhY2U9SVNULAogICAgcHA9IjExOTkgLSAxMjA4IiwKICAgIGVudHJ5dHlwZT0iYXJ0aWNsZSIsCiAgICB2b2x1bWU9IjUzIiwKICAgIG51bWJlcj0iMTEiLAogICAgbm90ZT0iXHtBTU9TVFx9IDIwMTBBTU9TVCAyMDEwIiwKICAgIGlzc249IjA5NTAtNTg0OSIsCiAgICBkb2k9Imh0dHBzOi8vZG9pLm9yZy8xMC4xMDE2L2ouaW5mc29mLjIwMTEuMDUuMDAxIiwKICAgIGxpbms9Imh0dHBzOi8vd3d3LnNjaWVuY2VkaXJlY3QuY29tL3NjaWVuY2UvYXJ0aWNsZS9waWkvUzA5NTA1ODQ5MTEwMDEwMzAiLAogICAga2V5d29yZD0iSW5kaWFuIG9yZ2FuaXphdGlvbnMiLAogICAgSUQ9Ikthbm5hYmlyYW4yMDExMTE5OSIsCiAgICBzY2llbmNlZGlyZWN0PSIxIiwKICAgIHBsYWNleD0iSW5mb3JtYXRpb24gYW5kIFNvZnR3YXJlIFRlY2hub2xvZ3kiLAopKQonJycpOw==\"));\n",
       "    "
      ],
      "text/plain": [
       "<IPython.core.display.Javascript object>"
      ]
     },
     "metadata": {},
     "output_type": "display_data"
    },
    {
     "data": {
      "application/javascript": [
       "$('span:contains(\"# Temp\")').closest('.cell').remove();"
      ],
      "text/plain": [
       "<IPython.core.display.Javascript object>"
      ]
     },
     "metadata": {},
     "output_type": "display_data"
    },
    {
     "data": {
      "application/javascript": [
       "\n",
       "        $('span:contains(\"# Temp\")').closest('.cell').remove();\n",
       "        var code = IPython.notebook.insert_cell_below('code');\n",
       "        code.set_text(atob(\"IyBUZW1wCmluc2VydCgnJycKa2FubmFiaXJhbjIwMTFhID0gREIoV29ya1VucmVsYXRlZCgKICAgIDIwMTEsICJEZXRlcm1pbmFudHMgb2Ygc29mdHdhcmUgcXVhbGl0eSBpbiBvZmZzaG9yZSBkZXZlbG9wbWVudCCWIEFuIGVtcGlyaWNhbCBzdHVkeSBvZiBhbiBJbmRpYW4gdmVuZG9yIiwKICAgIGRpc3BsYXk9Imthbm5hYmlyYW4iLAogICAgYXV0aG9ycz0iRy4gS2FubmFiaXJhbiBhbmQgSy4gU2Fua2FyYW4iLAogICAgcGxhY2U9SVNULAogICAgcHA9IjExOTkgLSAxMjA4IiwKICAgIGVudHJ5dHlwZT0iYXJ0aWNsZSIsCiAgICB2b2x1bWU9IjUzIiwKICAgIG51bWJlcj0iMTEiLAogICAgbm90ZT0iXHtBTU9TVFx9IDIwMTBBTU9TVCAyMDEwIiwKICAgIGlzc249IjA5NTAtNTg0OSIsCiAgICBkb2k9Imh0dHBzOi8vZG9pLm9yZy8xMC4xMDE2L2ouaW5mc29mLjIwMTEuMDUuMDAxIiwKICAgIGxpbms9Imh0dHBzOi8vd3d3LnNjaWVuY2VkaXJlY3QuY29tL3NjaWVuY2UvYXJ0aWNsZS9waWkvUzA5NTA1ODQ5MTEwMDEwMzAiLAogICAga2V5d29yZD0iSW5kaWFuIG9yZ2FuaXphdGlvbnMiLAogICAgSUQ9Ikthbm5hYmlyYW4yMDExMTE5OSIsCiAgICBzY2llbmNlZGlyZWN0PSIxIiwKICAgIHBsYWNleD0iSW5mb3JtYXRpb24gYW5kIFNvZnR3YXJlIFRlY2hub2xvZ3kiLAopKQonJycpOw==\"));\n",
       "    "
      ],
      "text/plain": [
       "<IPython.core.display.Javascript object>"
      ]
     },
     "metadata": {},
     "output_type": "display_data"
    },
    {
     "data": {
      "application/javascript": [
       "$('span:contains(\"# Temp\")').closest('.cell').remove();"
      ],
      "text/plain": [
       "<IPython.core.display.Javascript object>"
      ]
     },
     "metadata": {},
     "output_type": "display_data"
    },
    {
     "data": {
      "application/javascript": [
       "\n",
       "        $('span:contains(\"# Temp\")').closest('.cell').remove();\n",
       "        var code = IPython.notebook.insert_cell_below('code');\n",
       "        code.set_text(atob(\"IyBUZW1wCmluc2VydCgnJycKdPx6/G4yMDE1YSA9IERCKFdvcmtVbnJlbGF0ZWQoCiAgICAyMDE1LCAiRW1waXJpY2FsIGV2YWx1YXRpb24gb2YgYSBkZWNpc2lvbiBzdXBwb3J0IG1vZGVsIGZvciBhZG9wdGluZyBzb2Z0d2FyZSBwcm9kdWN0IGxpbmUgZW5naW5lZXJpbmciLAogICAgZGlzcGxheT0idPx6/G4iLAogICAgYXV0aG9ycz0iRXJheSBU/Hr8biBhbmQgQmVkaXIgVGVraW5lcmRvZ2FuIGFuZCBNZXJ0IEVtaW4gS2FsZW5kZXIgYW5kIFNlbWloIEJpbGdlbiIsCiAgICBwbGFjZT1JU1QsCiAgICBwcD0iNzcgLSAxMDEiLAogICAgZW50cnl0eXBlPSJhcnRpY2xlIiwKICAgIHZvbHVtZT0iNjAiLAogICAgbnVtYmVyPSIiLAogICAgbm90ZT0iIiwKICAgIGlzc249IjA5NTAtNTg0OSIsCiAgICBkb2k9Imh0dHBzOi8vZG9pLm9yZy8xMC4xMDE2L2ouaW5mc29mLjIwMTQuMTIuMDA3IiwKICAgIGxpbms9Imh0dHBzOi8vd3d3LnNjaWVuY2VkaXJlY3QuY29tL3NjaWVuY2UvYXJ0aWNsZS9waWkvUzA5NTA1ODQ5MTUwMDAwMjYiLAogICAga2V5d29yZD0iQ2FzZSBzdHVkeSBkZXNpZ24iLAogICAgSUQ9IlT8evxuMjAxNTc3IiwKICAgIHNjaWVuY2VkaXJlY3Q9IjEiLAogICAgcGxhY2V4PSJJbmZvcm1hdGlvbiBhbmQgU29mdHdhcmUgVGVjaG5vbG9neSIsCikpCicnJyk7\"));\n",
       "    "
      ],
      "text/plain": [
       "<IPython.core.display.Javascript object>"
      ]
     },
     "metadata": {},
     "output_type": "display_data"
    },
    {
     "data": {
      "application/javascript": [
       "$('span:contains(\"# Temp\")').closest('.cell').remove();"
      ],
      "text/plain": [
       "<IPython.core.display.Javascript object>"
      ]
     },
     "metadata": {},
     "output_type": "display_data"
    },
    {
     "data": {
      "application/javascript": [
       "\n",
       "        $('span:contains(\"# Temp\")').closest('.cell').remove();\n",
       "        var code = IPython.notebook.insert_cell_below('code');\n",
       "        code.set_text(atob(\"IyBUZW1wCmluc2VydCgnJycKdPx6/G4yMDE1YSA9IERCKFdvcmtVbnJlbGF0ZWQoCiAgICAyMDE1LCAiRW1waXJpY2FsIGV2YWx1YXRpb24gb2YgYSBkZWNpc2lvbiBzdXBwb3J0IG1vZGVsIGZvciBhZG9wdGluZyBzb2Z0d2FyZSBwcm9kdWN0IGxpbmUgZW5naW5lZXJpbmciLAogICAgZGlzcGxheT0idPx6/G4iLAogICAgYXV0aG9ycz0iRXJheSBU/Hr8biBhbmQgQmVkaXIgVGVraW5lcmRvZ2FuIGFuZCBNZXJ0IEVtaW4gS2FsZW5kZXIgYW5kIFNlbWloIEJpbGdlbiIsCiAgICBwbGFjZT1JU1QsCiAgICBwcD0iNzcgLSAxMDEiLAogICAgZW50cnl0eXBlPSJhcnRpY2xlIiwKICAgIHZvbHVtZT0iNjAiLAogICAgbnVtYmVyPSIiLAogICAgbm90ZT0iIiwKICAgIGlzc249IjA5NTAtNTg0OSIsCiAgICBkb2k9Imh0dHBzOi8vZG9pLm9yZy8xMC4xMDE2L2ouaW5mc29mLjIwMTQuMTIuMDA3IiwKICAgIGxpbms9Imh0dHBzOi8vd3d3LnNjaWVuY2VkaXJlY3QuY29tL3NjaWVuY2UvYXJ0aWNsZS9waWkvUzA5NTA1ODQ5MTUwMDAwMjYiLAogICAga2V5d29yZD0iQ2FzZSBzdHVkeSBkZXNpZ24iLAogICAgSUQ9IlT8evxuMjAxNTc3IiwKICAgIHNjaWVuY2VkaXJlY3Q9IjEiLAogICAgcGxhY2V4PSJJbmZvcm1hdGlvbiBhbmQgU29mdHdhcmUgVGVjaG5vbG9neSIsCikpCicnJyk7\"));\n",
       "    "
      ],
      "text/plain": [
       "<IPython.core.display.Javascript object>"
      ]
     },
     "metadata": {},
     "output_type": "display_data"
    },
    {
     "data": {
      "application/javascript": [
       "$('span:contains(\"# Temp\")').closest('.cell').remove();"
      ],
      "text/plain": [
       "<IPython.core.display.Javascript object>"
      ]
     },
     "metadata": {},
     "output_type": "display_data"
    },
    {
     "data": {
      "application/javascript": [
       "\n",
       "        $('span:contains(\"# Temp\")').closest('.cell').remove();\n",
       "        var code = IPython.notebook.insert_cell_below('code');\n",
       "        code.set_text(atob(\"IyBUZW1wCmluc2VydCgnJycnJycpOw==\"));\n",
       "    "
      ],
      "text/plain": [
       "<IPython.core.display.Javascript object>"
      ]
     },
     "metadata": {},
     "output_type": "display_data"
    },
    {
     "data": {
      "application/javascript": [
       "$('span:contains(\"# Temp\")').closest('.cell').remove();"
      ],
      "text/plain": [
       "<IPython.core.display.Javascript object>"
      ]
     },
     "metadata": {},
     "output_type": "display_data"
    },
    {
     "data": {
      "application/javascript": [
       "\n",
       "        $('span:contains(\"# Temp\")').closest('.cell').remove();\n",
       "        var code = IPython.notebook.insert_cell_below('code');\n",
       "        code.set_text(atob(\"IyBUZW1wCmluc2VydCgnJycnJycpOw==\"));\n",
       "    "
      ],
      "text/plain": [
       "<IPython.core.display.Javascript object>"
      ]
     },
     "metadata": {},
     "output_type": "display_data"
    },
    {
     "data": {
      "application/javascript": [
       "$('span:contains(\"# Temp\")').closest('.cell').remove();"
      ],
      "text/plain": [
       "<IPython.core.display.Javascript object>"
      ]
     },
     "metadata": {},
     "output_type": "display_data"
    },
    {
     "data": {
      "application/javascript": [
       "\n",
       "        $('span:contains(\"# Temp\")').closest('.cell').remove();\n",
       "        var code = IPython.notebook.insert_cell_below('code');\n",
       "        code.set_text(atob(\"IyBUZW1wCmluc2VydCgnJycnJycpOw==\"));\n",
       "    "
      ],
      "text/plain": [
       "<IPython.core.display.Javascript object>"
      ]
     },
     "metadata": {},
     "output_type": "display_data"
    },
    {
     "data": {
      "application/javascript": [
       "$('span:contains(\"# Temp\")').closest('.cell').remove();"
      ],
      "text/plain": [
       "<IPython.core.display.Javascript object>"
      ]
     },
     "metadata": {},
     "output_type": "display_data"
    },
    {
     "data": {
      "application/javascript": [
       "\n",
       "        $('span:contains(\"# Temp\")').closest('.cell').remove();\n",
       "        var code = IPython.notebook.insert_cell_below('code');\n",
       "        code.set_text(atob(\"IyBUZW1wCmluc2VydCgnJycnJycpOw==\"));\n",
       "    "
      ],
      "text/plain": [
       "<IPython.core.display.Javascript object>"
      ]
     },
     "metadata": {},
     "output_type": "display_data"
    },
    {
     "data": {
      "application/javascript": [
       "$('span:contains(\"# Temp\")').closest('.cell').remove();"
      ],
      "text/plain": [
       "<IPython.core.display.Javascript object>"
      ]
     },
     "metadata": {},
     "output_type": "display_data"
    },
    {
     "data": {
      "application/javascript": [
       "\n",
       "        $('span:contains(\"# Temp\")').closest('.cell').remove();\n",
       "        var code = IPython.notebook.insert_cell_below('code');\n",
       "        code.set_text(atob(\"IyBUZW1wCmluc2VydCgnJycnJycpOw==\"));\n",
       "    "
      ],
      "text/plain": [
       "<IPython.core.display.Javascript object>"
      ]
     },
     "metadata": {},
     "output_type": "display_data"
    },
    {
     "data": {
      "application/javascript": [
       "$('span:contains(\"# Temp\")').closest('.cell').remove();"
      ],
      "text/plain": [
       "<IPython.core.display.Javascript object>"
      ]
     },
     "metadata": {},
     "output_type": "display_data"
    },
    {
     "data": {
      "application/javascript": [
       "\n",
       "        $('span:contains(\"# Temp\")').closest('.cell').remove();\n",
       "        var code = IPython.notebook.insert_cell_below('code');\n",
       "        code.set_text(atob(\"IyBUZW1wCmluc2VydCgnJycnJycpOw==\"));\n",
       "    "
      ],
      "text/plain": [
       "<IPython.core.display.Javascript object>"
      ]
     },
     "metadata": {},
     "output_type": "display_data"
    },
    {
     "data": {
      "application/javascript": [
       "$('span:contains(\"# Temp\")').closest('.cell').remove();"
      ],
      "text/plain": [
       "<IPython.core.display.Javascript object>"
      ]
     },
     "metadata": {},
     "output_type": "display_data"
    },
    {
     "data": {
      "application/javascript": [
       "\n",
       "        $('span:contains(\"# Temp\")').closest('.cell').remove();\n",
       "        var code = IPython.notebook.insert_cell_below('code');\n",
       "        code.set_text(atob(\"IyBUZW1wCmluc2VydCgnJycnJycpOw==\"));\n",
       "    "
      ],
      "text/plain": [
       "<IPython.core.display.Javascript object>"
      ]
     },
     "metadata": {},
     "output_type": "display_data"
    },
    {
     "data": {
      "application/javascript": [
       "$('span:contains(\"# Temp\")').closest('.cell').remove();"
      ],
      "text/plain": [
       "<IPython.core.display.Javascript object>"
      ]
     },
     "metadata": {},
     "output_type": "display_data"
    },
    {
     "data": {
      "application/javascript": [
       "\n",
       "        $('span:contains(\"# Temp\")').closest('.cell').remove();\n",
       "        var code = IPython.notebook.insert_cell_below('code');\n",
       "        code.set_text(atob(\"IyBUZW1wCmluc2VydCgnJycnJycpOw==\"));\n",
       "    "
      ],
      "text/plain": [
       "<IPython.core.display.Javascript object>"
      ]
     },
     "metadata": {},
     "output_type": "display_data"
    },
    {
     "data": {
      "application/javascript": [
       "$('span:contains(\"# Temp\")').closest('.cell').remove();"
      ],
      "text/plain": [
       "<IPython.core.display.Javascript object>"
      ]
     },
     "metadata": {},
     "output_type": "display_data"
    },
    {
     "data": {
      "application/javascript": [
       "\n",
       "        $('span:contains(\"# Temp\")').closest('.cell').remove();\n",
       "        var code = IPython.notebook.insert_cell_below('code');\n",
       "        code.set_text(atob(\"IyBUZW1wCmluc2VydCgnJycnJycpOw==\"));\n",
       "    "
      ],
      "text/plain": [
       "<IPython.core.display.Javascript object>"
      ]
     },
     "metadata": {},
     "output_type": "display_data"
    },
    {
     "data": {
      "application/javascript": [
       "$('span:contains(\"# Temp\")').closest('.cell').remove();"
      ],
      "text/plain": [
       "<IPython.core.display.Javascript object>"
      ]
     },
     "metadata": {},
     "output_type": "display_data"
    },
    {
     "data": {
      "application/javascript": [
       "\n",
       "        $('span:contains(\"# Temp\")').closest('.cell').remove();\n",
       "        var code = IPython.notebook.insert_cell_below('code');\n",
       "        code.set_text(atob(\"IyBUZW1wCmluc2VydCgnJycnJycpOw==\"));\n",
       "    "
      ],
      "text/plain": [
       "<IPython.core.display.Javascript object>"
      ]
     },
     "metadata": {},
     "output_type": "display_data"
    },
    {
     "data": {
      "application/javascript": [
       "$('span:contains(\"# Temp\")').closest('.cell').remove();"
      ],
      "text/plain": [
       "<IPython.core.display.Javascript object>"
      ]
     },
     "metadata": {},
     "output_type": "display_data"
    },
    {
     "data": {
      "application/javascript": [
       "\n",
       "        $('span:contains(\"# Temp\")').closest('.cell').remove();\n",
       "        var code = IPython.notebook.insert_cell_below('code');\n",
       "        code.set_text(atob(\"IyBUZW1wCmluc2VydCgnJycnJycpOw==\"));\n",
       "    "
      ],
      "text/plain": [
       "<IPython.core.display.Javascript object>"
      ]
     },
     "metadata": {},
     "output_type": "display_data"
    },
    {
     "data": {
      "application/javascript": [
       "$('span:contains(\"# Temp\")').closest('.cell').remove();"
      ],
      "text/plain": [
       "<IPython.core.display.Javascript object>"
      ]
     },
     "metadata": {},
     "output_type": "display_data"
    },
    {
     "data": {
      "application/javascript": [
       "\n",
       "        $('span:contains(\"# Temp\")').closest('.cell').remove();\n",
       "        var code = IPython.notebook.insert_cell_below('code');\n",
       "        code.set_text(atob(\"IyBUZW1wCmluc2VydCgnJycnJycpOw==\"));\n",
       "    "
      ],
      "text/plain": [
       "<IPython.core.display.Javascript object>"
      ]
     },
     "metadata": {},
     "output_type": "display_data"
    },
    {
     "data": {
      "application/javascript": [
       "$('span:contains(\"# Temp\")').closest('.cell').remove();"
      ],
      "text/plain": [
       "<IPython.core.display.Javascript object>"
      ]
     },
     "metadata": {},
     "output_type": "display_data"
    },
    {
     "data": {
      "application/javascript": [
       "\n",
       "        $('span:contains(\"# Temp\")').closest('.cell').remove();\n",
       "        var code = IPython.notebook.insert_cell_below('code');\n",
       "        code.set_text(atob(\"IyBUZW1wCmluc2VydCgnJycnJycpOw==\"));\n",
       "    "
      ],
      "text/plain": [
       "<IPython.core.display.Javascript object>"
      ]
     },
     "metadata": {},
     "output_type": "display_data"
    },
    {
     "data": {
      "application/javascript": [
       "$('span:contains(\"# Temp\")').closest('.cell').remove();"
      ],
      "text/plain": [
       "<IPython.core.display.Javascript object>"
      ]
     },
     "metadata": {},
     "output_type": "display_data"
    },
    {
     "data": {
      "application/javascript": [
       "\n",
       "        $('span:contains(\"# Temp\")').closest('.cell').remove();\n",
       "        var code = IPython.notebook.insert_cell_below('code');\n",
       "        code.set_text(atob(\"IyBUZW1wCmluc2VydCgnJycnJycpOw==\"));\n",
       "    "
      ],
      "text/plain": [
       "<IPython.core.display.Javascript object>"
      ]
     },
     "metadata": {},
     "output_type": "display_data"
    },
    {
     "data": {
      "application/javascript": [
       "$('span:contains(\"# Temp\")').closest('.cell').remove();"
      ],
      "text/plain": [
       "<IPython.core.display.Javascript object>"
      ]
     },
     "metadata": {},
     "output_type": "display_data"
    },
    {
     "data": {
      "application/javascript": [
       "\n",
       "        $('span:contains(\"# Temp\")').closest('.cell').remove();\n",
       "        var code = IPython.notebook.insert_cell_below('code');\n",
       "        code.set_text(atob(\"IyBUZW1wCmluc2VydCgnJycnJycpOw==\"));\n",
       "    "
      ],
      "text/plain": [
       "<IPython.core.display.Javascript object>"
      ]
     },
     "metadata": {},
     "output_type": "display_data"
    },
    {
     "data": {
      "application/javascript": [
       "$('span:contains(\"# Temp\")').closest('.cell').remove();"
      ],
      "text/plain": [
       "<IPython.core.display.Javascript object>"
      ]
     },
     "metadata": {},
     "output_type": "display_data"
    },
    {
     "data": {
      "application/javascript": [
       "\n",
       "        $('span:contains(\"# Temp\")').closest('.cell').remove();\n",
       "        var code = IPython.notebook.insert_cell_below('code');\n",
       "        code.set_text(atob(\"IyBUZW1wCmluc2VydCgnJycnJycpOw==\"));\n",
       "    "
      ],
      "text/plain": [
       "<IPython.core.display.Javascript object>"
      ]
     },
     "metadata": {},
     "output_type": "display_data"
    },
    {
     "data": {
      "application/javascript": [
       "$('span:contains(\"# Temp\")').closest('.cell').remove();"
      ],
      "text/plain": [
       "<IPython.core.display.Javascript object>"
      ]
     },
     "metadata": {},
     "output_type": "display_data"
    },
    {
     "data": {
      "application/javascript": [
       "\n",
       "        $('span:contains(\"# Temp\")').closest('.cell').remove();\n",
       "        var code = IPython.notebook.insert_cell_below('code');\n",
       "        code.set_text(atob(\"IyBUZW1wCmluc2VydCgnJycnJycpOw==\"));\n",
       "    "
      ],
      "text/plain": [
       "<IPython.core.display.Javascript object>"
      ]
     },
     "metadata": {},
     "output_type": "display_data"
    },
    {
     "data": {
      "application/javascript": [
       "$('span:contains(\"# Temp\")').closest('.cell').remove();"
      ],
      "text/plain": [
       "<IPython.core.display.Javascript object>"
      ]
     },
     "metadata": {},
     "output_type": "display_data"
    },
    {
     "data": {
      "application/javascript": [
       "\n",
       "        $('span:contains(\"# Temp\")').closest('.cell').remove();\n",
       "        var code = IPython.notebook.insert_cell_below('code');\n",
       "        code.set_text(atob(\"IyBUZW1wCmluc2VydCgnJycnJycpOw==\"));\n",
       "    "
      ],
      "text/plain": [
       "<IPython.core.display.Javascript object>"
      ]
     },
     "metadata": {},
     "output_type": "display_data"
    },
    {
     "data": {
      "application/javascript": [
       "$('span:contains(\"# Temp\")').closest('.cell').remove();"
      ],
      "text/plain": [
       "<IPython.core.display.Javascript object>"
      ]
     },
     "metadata": {},
     "output_type": "display_data"
    },
    {
     "data": {
      "application/javascript": [
       "\n",
       "        $('span:contains(\"# Temp\")').closest('.cell').remove();\n",
       "        var code = IPython.notebook.insert_cell_below('code');\n",
       "        code.set_text(atob(\"IyBUZW1wCmluc2VydCgnJycnJycpOw==\"));\n",
       "    "
      ],
      "text/plain": [
       "<IPython.core.display.Javascript object>"
      ]
     },
     "metadata": {},
     "output_type": "display_data"
    },
    {
     "data": {
      "application/javascript": [
       "$('span:contains(\"# Temp\")').closest('.cell').remove();"
      ],
      "text/plain": [
       "<IPython.core.display.Javascript object>"
      ]
     },
     "metadata": {},
     "output_type": "display_data"
    },
    {
     "data": {
      "application/javascript": [
       "\n",
       "        $('span:contains(\"# Temp\")').closest('.cell').remove();\n",
       "        var code = IPython.notebook.insert_cell_below('code');\n",
       "        code.set_text(atob(\"IyBUZW1wCmluc2VydCgnJycnJycpOw==\"));\n",
       "    "
      ],
      "text/plain": [
       "<IPython.core.display.Javascript object>"
      ]
     },
     "metadata": {},
     "output_type": "display_data"
    },
    {
     "data": {
      "application/javascript": [
       "$('span:contains(\"# Temp\")').closest('.cell').remove();"
      ],
      "text/plain": [
       "<IPython.core.display.Javascript object>"
      ]
     },
     "metadata": {},
     "output_type": "display_data"
    },
    {
     "data": {
      "application/javascript": [
       "\n",
       "        $('span:contains(\"# Temp\")').closest('.cell').remove();\n",
       "        var code = IPython.notebook.insert_cell_below('code');\n",
       "        code.set_text(atob(\"IyBUZW1wCmluc2VydCgnJycnJycpOw==\"));\n",
       "    "
      ],
      "text/plain": [
       "<IPython.core.display.Javascript object>"
      ]
     },
     "metadata": {},
     "output_type": "display_data"
    },
    {
     "data": {
      "application/javascript": [
       "$('span:contains(\"# Temp\")').closest('.cell').remove();"
      ],
      "text/plain": [
       "<IPython.core.display.Javascript object>"
      ]
     },
     "metadata": {},
     "output_type": "display_data"
    },
    {
     "data": {
      "application/javascript": [
       "\n",
       "        $('span:contains(\"# Temp\")').closest('.cell').remove();\n",
       "        var code = IPython.notebook.insert_cell_below('code');\n",
       "        code.set_text(atob(\"IyBUZW1wCmluc2VydCgnJycnJycpOw==\"));\n",
       "    "
      ],
      "text/plain": [
       "<IPython.core.display.Javascript object>"
      ]
     },
     "metadata": {},
     "output_type": "display_data"
    },
    {
     "data": {
      "application/javascript": [
       "$('span:contains(\"# Temp\")').closest('.cell').remove();"
      ],
      "text/plain": [
       "<IPython.core.display.Javascript object>"
      ]
     },
     "metadata": {},
     "output_type": "display_data"
    },
    {
     "data": {
      "application/javascript": [
       "\n",
       "        $('span:contains(\"# Temp\")').closest('.cell').remove();\n",
       "        var code = IPython.notebook.insert_cell_below('code');\n",
       "        code.set_text(atob(\"IyBUZW1wCmluc2VydCgnJycnJycpOw==\"));\n",
       "    "
      ],
      "text/plain": [
       "<IPython.core.display.Javascript object>"
      ]
     },
     "metadata": {},
     "output_type": "display_data"
    },
    {
     "data": {
      "application/javascript": [
       "$('span:contains(\"# Temp\")').closest('.cell').remove();"
      ],
      "text/plain": [
       "<IPython.core.display.Javascript object>"
      ]
     },
     "metadata": {},
     "output_type": "display_data"
    },
    {
     "data": {
      "application/javascript": [
       "\n",
       "        $('span:contains(\"# Temp\")').closest('.cell').remove();\n",
       "        var code = IPython.notebook.insert_cell_below('code');\n",
       "        code.set_text(atob(\"IyBUZW1wCmluc2VydCgnJycnJycpOw==\"));\n",
       "    "
      ],
      "text/plain": [
       "<IPython.core.display.Javascript object>"
      ]
     },
     "metadata": {},
     "output_type": "display_data"
    },
    {
     "data": {
      "application/javascript": [
       "$('span:contains(\"# Temp\")').closest('.cell').remove();"
      ],
      "text/plain": [
       "<IPython.core.display.Javascript object>"
      ]
     },
     "metadata": {},
     "output_type": "display_data"
    },
    {
     "data": {
      "application/javascript": [
       "\n",
       "        $('span:contains(\"# Temp\")').closest('.cell').remove();\n",
       "        var code = IPython.notebook.insert_cell_below('code');\n",
       "        code.set_text(atob(\"IyBUZW1wCmluc2VydCgnJycnJycpOw==\"));\n",
       "    "
      ],
      "text/plain": [
       "<IPython.core.display.Javascript object>"
      ]
     },
     "metadata": {},
     "output_type": "display_data"
    },
    {
     "data": {
      "application/javascript": [
       "$('span:contains(\"# Temp\")').closest('.cell').remove();"
      ],
      "text/plain": [
       "<IPython.core.display.Javascript object>"
      ]
     },
     "metadata": {},
     "output_type": "display_data"
    },
    {
     "data": {
      "application/javascript": [
       "\n",
       "        $('span:contains(\"# Temp\")').closest('.cell').remove();\n",
       "        var code = IPython.notebook.insert_cell_below('code');\n",
       "        code.set_text(atob(\"IyBUZW1wCmluc2VydCgnJycnJycpOw==\"));\n",
       "    "
      ],
      "text/plain": [
       "<IPython.core.display.Javascript object>"
      ]
     },
     "metadata": {},
     "output_type": "display_data"
    },
    {
     "data": {
      "application/javascript": [
       "$('span:contains(\"# Temp\")').closest('.cell').remove();"
      ],
      "text/plain": [
       "<IPython.core.display.Javascript object>"
      ]
     },
     "metadata": {},
     "output_type": "display_data"
    },
    {
     "data": {
      "application/javascript": [
       "\n",
       "        $('span:contains(\"# Temp\")').closest('.cell').remove();\n",
       "        var code = IPython.notebook.insert_cell_below('code');\n",
       "        code.set_text(atob(\"IyBUZW1wCmluc2VydCgnJycnJycpOw==\"));\n",
       "    "
      ],
      "text/plain": [
       "<IPython.core.display.Javascript object>"
      ]
     },
     "metadata": {},
     "output_type": "display_data"
    },
    {
     "data": {
      "application/javascript": [
       "$('span:contains(\"# Temp\")').closest('.cell').remove();"
      ],
      "text/plain": [
       "<IPython.core.display.Javascript object>"
      ]
     },
     "metadata": {},
     "output_type": "display_data"
    },
    {
     "data": {
      "application/javascript": [
       "\n",
       "        $('span:contains(\"# Temp\")').closest('.cell').remove();\n",
       "        var code = IPython.notebook.insert_cell_below('code');\n",
       "        code.set_text(atob(\"IyBUZW1wCmluc2VydCgnJycnJycpOw==\"));\n",
       "    "
      ],
      "text/plain": [
       "<IPython.core.display.Javascript object>"
      ]
     },
     "metadata": {},
     "output_type": "display_data"
    },
    {
     "data": {
      "application/javascript": [
       "$('span:contains(\"# Temp\")').closest('.cell').remove();"
      ],
      "text/plain": [
       "<IPython.core.display.Javascript object>"
      ]
     },
     "metadata": {},
     "output_type": "display_data"
    },
    {
     "data": {
      "application/javascript": [
       "\n",
       "        $('span:contains(\"# Temp\")').closest('.cell').remove();\n",
       "        var code = IPython.notebook.insert_cell_below('code');\n",
       "        code.set_text(atob(\"IyBUZW1wCmluc2VydCgnJycnJycpOw==\"));\n",
       "    "
      ],
      "text/plain": [
       "<IPython.core.display.Javascript object>"
      ]
     },
     "metadata": {},
     "output_type": "display_data"
    },
    {
     "data": {
      "application/javascript": [
       "$('span:contains(\"# Temp\")').closest('.cell').remove();"
      ],
      "text/plain": [
       "<IPython.core.display.Javascript object>"
      ]
     },
     "metadata": {},
     "output_type": "display_data"
    },
    {
     "data": {
      "application/javascript": [
       "\n",
       "        $('span:contains(\"# Temp\")').closest('.cell').remove();\n",
       "        var code = IPython.notebook.insert_cell_below('code');\n",
       "        code.set_text(atob(\"IyBUZW1wCmluc2VydCgnJycnJycpOw==\"));\n",
       "    "
      ],
      "text/plain": [
       "<IPython.core.display.Javascript object>"
      ]
     },
     "metadata": {},
     "output_type": "display_data"
    },
    {
     "data": {
      "application/javascript": [
       "$('span:contains(\"# Temp\")').closest('.cell').remove();"
      ],
      "text/plain": [
       "<IPython.core.display.Javascript object>"
      ]
     },
     "metadata": {},
     "output_type": "display_data"
    },
    {
     "data": {
      "application/javascript": [
       "\n",
       "        $('span:contains(\"# Temp\")').closest('.cell').remove();\n",
       "        var code = IPython.notebook.insert_cell_below('code');\n",
       "        code.set_text(atob(\"IyBUZW1wCmluc2VydCgnJycnJycpOw==\"));\n",
       "    "
      ],
      "text/plain": [
       "<IPython.core.display.Javascript object>"
      ]
     },
     "metadata": {},
     "output_type": "display_data"
    },
    {
     "data": {
      "application/javascript": [
       "$('span:contains(\"# Temp\")').closest('.cell').remove();"
      ],
      "text/plain": [
       "<IPython.core.display.Javascript object>"
      ]
     },
     "metadata": {},
     "output_type": "display_data"
    },
    {
     "data": {
      "application/javascript": [
       "\n",
       "        $('span:contains(\"# Temp\")').closest('.cell').remove();\n",
       "        var code = IPython.notebook.insert_cell_below('code');\n",
       "        code.set_text(atob(\"IyBUZW1wCmluc2VydCgnJycnJycpOw==\"));\n",
       "    "
      ],
      "text/plain": [
       "<IPython.core.display.Javascript object>"
      ]
     },
     "metadata": {},
     "output_type": "display_data"
    },
    {
     "data": {
      "application/javascript": [
       "$('span:contains(\"# Temp\")').closest('.cell').remove();"
      ],
      "text/plain": [
       "<IPython.core.display.Javascript object>"
      ]
     },
     "metadata": {},
     "output_type": "display_data"
    },
    {
     "data": {
      "application/javascript": [
       "\n",
       "        $('span:contains(\"# Temp\")').closest('.cell').remove();\n",
       "        var code = IPython.notebook.insert_cell_below('code');\n",
       "        code.set_text(atob(\"IyBUZW1wCmluc2VydCgnJycnJycpOw==\"));\n",
       "    "
      ],
      "text/plain": [
       "<IPython.core.display.Javascript object>"
      ]
     },
     "metadata": {},
     "output_type": "display_data"
    },
    {
     "data": {
      "application/javascript": [
       "$('span:contains(\"# Temp\")').closest('.cell').remove();"
      ],
      "text/plain": [
       "<IPython.core.display.Javascript object>"
      ]
     },
     "metadata": {},
     "output_type": "display_data"
    },
    {
     "data": {
      "application/javascript": [
       "\n",
       "        $('span:contains(\"# Temp\")').closest('.cell').remove();\n",
       "        var code = IPython.notebook.insert_cell_below('code');\n",
       "        code.set_text(atob(\"IyBUZW1wCmluc2VydCgnJycnJycpOw==\"));\n",
       "    "
      ],
      "text/plain": [
       "<IPython.core.display.Javascript object>"
      ]
     },
     "metadata": {},
     "output_type": "display_data"
    },
    {
     "data": {
      "application/javascript": [
       "$('span:contains(\"# Temp\")').closest('.cell').remove();"
      ],
      "text/plain": [
       "<IPython.core.display.Javascript object>"
      ]
     },
     "metadata": {},
     "output_type": "display_data"
    },
    {
     "data": {
      "application/javascript": [
       "\n",
       "        $('span:contains(\"# Temp\")').closest('.cell').remove();\n",
       "        var code = IPython.notebook.insert_cell_below('code');\n",
       "        code.set_text(atob(\"IyBUZW1wCmluc2VydCgnJycnJycpOw==\"));\n",
       "    "
      ],
      "text/plain": [
       "<IPython.core.display.Javascript object>"
      ]
     },
     "metadata": {},
     "output_type": "display_data"
    },
    {
     "data": {
      "application/javascript": [
       "$('span:contains(\"# Temp\")').closest('.cell').remove();"
      ],
      "text/plain": [
       "<IPython.core.display.Javascript object>"
      ]
     },
     "metadata": {},
     "output_type": "display_data"
    },
    {
     "data": {
      "application/javascript": [
       "\n",
       "        $('span:contains(\"# Temp\")').closest('.cell').remove();\n",
       "        var code = IPython.notebook.insert_cell_below('code');\n",
       "        code.set_text(atob(\"IyBUZW1wCmluc2VydCgnJycnJycpOw==\"));\n",
       "    "
      ],
      "text/plain": [
       "<IPython.core.display.Javascript object>"
      ]
     },
     "metadata": {},
     "output_type": "display_data"
    },
    {
     "data": {
      "application/javascript": [
       "$('span:contains(\"# Temp\")').closest('.cell').remove();"
      ],
      "text/plain": [
       "<IPython.core.display.Javascript object>"
      ]
     },
     "metadata": {},
     "output_type": "display_data"
    },
    {
     "data": {
      "application/javascript": [
       "\n",
       "        $('span:contains(\"# Temp\")').closest('.cell').remove();\n",
       "        var code = IPython.notebook.insert_cell_below('code');\n",
       "        code.set_text(atob(\"IyBUZW1wCmluc2VydCgnJycnJycpOw==\"));\n",
       "    "
      ],
      "text/plain": [
       "<IPython.core.display.Javascript object>"
      ]
     },
     "metadata": {},
     "output_type": "display_data"
    },
    {
     "data": {
      "application/javascript": [
       "$('span:contains(\"# Temp\")').closest('.cell').remove();"
      ],
      "text/plain": [
       "<IPython.core.display.Javascript object>"
      ]
     },
     "metadata": {},
     "output_type": "display_data"
    },
    {
     "data": {
      "application/javascript": [
       "\n",
       "        $('span:contains(\"# Temp\")').closest('.cell').remove();\n",
       "        var code = IPython.notebook.insert_cell_below('code');\n",
       "        code.set_text(atob(\"IyBUZW1wCmluc2VydCgnJycnJycpOw==\"));\n",
       "    "
      ],
      "text/plain": [
       "<IPython.core.display.Javascript object>"
      ]
     },
     "metadata": {},
     "output_type": "display_data"
    },
    {
     "data": {
      "application/javascript": [
       "$('span:contains(\"# Temp\")').closest('.cell').remove();"
      ],
      "text/plain": [
       "<IPython.core.display.Javascript object>"
      ]
     },
     "metadata": {},
     "output_type": "display_data"
    },
    {
     "data": {
      "application/javascript": [
       "\n",
       "        $('span:contains(\"# Temp\")').closest('.cell').remove();\n",
       "        var code = IPython.notebook.insert_cell_below('code');\n",
       "        code.set_text(atob(\"IyBUZW1wCmluc2VydCgnJycnJycpOw==\"));\n",
       "    "
      ],
      "text/plain": [
       "<IPython.core.display.Javascript object>"
      ]
     },
     "metadata": {},
     "output_type": "display_data"
    },
    {
     "data": {
      "application/javascript": [
       "$('span:contains(\"# Temp\")').closest('.cell').remove();"
      ],
      "text/plain": [
       "<IPython.core.display.Javascript object>"
      ]
     },
     "metadata": {},
     "output_type": "display_data"
    },
    {
     "data": {
      "application/javascript": [
       "\n",
       "        $('span:contains(\"# Temp\")').closest('.cell').remove();\n",
       "        var code = IPython.notebook.insert_cell_below('code');\n",
       "        code.set_text(atob(\"IyBUZW1wCmluc2VydCgnJycnJycpOw==\"));\n",
       "    "
      ],
      "text/plain": [
       "<IPython.core.display.Javascript object>"
      ]
     },
     "metadata": {},
     "output_type": "display_data"
    },
    {
     "data": {
      "application/javascript": [
       "$('span:contains(\"# Temp\")').closest('.cell').remove();"
      ],
      "text/plain": [
       "<IPython.core.display.Javascript object>"
      ]
     },
     "metadata": {},
     "output_type": "display_data"
    },
    {
     "data": {
      "application/javascript": [
       "\n",
       "        $('span:contains(\"# Temp\")').closest('.cell').remove();\n",
       "        var code = IPython.notebook.insert_cell_below('code');\n",
       "        code.set_text(atob(\"IyBUZW1wCmluc2VydCgnJycnJycpOw==\"));\n",
       "    "
      ],
      "text/plain": [
       "<IPython.core.display.Javascript object>"
      ]
     },
     "metadata": {},
     "output_type": "display_data"
    },
    {
     "data": {
      "application/javascript": [
       "$('span:contains(\"# Temp\")').closest('.cell').remove();"
      ],
      "text/plain": [
       "<IPython.core.display.Javascript object>"
      ]
     },
     "metadata": {},
     "output_type": "display_data"
    },
    {
     "data": {
      "application/javascript": [
       "\n",
       "        $('span:contains(\"# Temp\")').closest('.cell').remove();\n",
       "        var code = IPython.notebook.insert_cell_below('code');\n",
       "        code.set_text(atob(\"IyBUZW1wCmluc2VydCgnJycnJycpOw==\"));\n",
       "    "
      ],
      "text/plain": [
       "<IPython.core.display.Javascript object>"
      ]
     },
     "metadata": {},
     "output_type": "display_data"
    },
    {
     "data": {
      "application/javascript": [
       "$('span:contains(\"# Temp\")').closest('.cell').remove();"
      ],
      "text/plain": [
       "<IPython.core.display.Javascript object>"
      ]
     },
     "metadata": {},
     "output_type": "display_data"
    },
    {
     "data": {
      "application/javascript": [
       "\n",
       "        $('span:contains(\"# Temp\")').closest('.cell').remove();\n",
       "        var code = IPython.notebook.insert_cell_below('code');\n",
       "        code.set_text(atob(\"IyBUZW1wCmluc2VydCgnJycKcml0dGluZ2hvdXNlMjAwNGEgPSBEQihXb3JrVW5yZWxhdGVkKAogICAgMjAwNCwgIjEgLSBVbmRlcnN0YW5kaW5nIHRoZSBcU1BNT1wiLAogICAgZGlzcGxheT0icml0dGluZ2hvdXNlIiwKICAgIGF1dGhvcnM9IkpvaG4gVy4gUml0dGluZ2hvdXNlIiwKICAgIHBsYWNlPUZBS0UsCiAgICBwcD0iMSAtIDMwIiwKICAgIGVudHJ5dHlwZT0iaW5jb2xsZWN0aW9uIiwKICAgIGVkaXRvcj0iUml0dGluZ2hvdXNlLCBKb2huIFcuIiwKICAgIHB1Ymxpc2hlcj0iRGlnaXRhbCBQcmVzcyIsCiAgICBlZGl0aW9uPSIiLAogICAgYWRkcmVzcz0iQnVybGluZ3RvbiIsCiAgICBpc2JuPSI5NzgtMS01NTU1OC0zMTMtMiIsCiAgICBkb2k9Imh0dHBzOi8vZG9pLm9yZy8xMC4xMDE2L0I5NzgtMTU1NTU4MzEzLTIvNTAwMDQtMiIsCiAgICBsaW5rPSJodHRwczovL3d3dy5zY2llbmNlZGlyZWN0LmNvbS9zY2llbmNlL2FydGljbGUvcGlpL0I5NzgxNTU1NTgzMTMyNTAwMDQyIiwKICAgIElEPSJSaXR0aW5naG91c2UyMDA0MSIsCiAgICBzY2llbmNlZGlyZWN0PSIxIiwKICAgIHBsYWNleD0iTWFuYWdpbmcgU29mdHdhcmUgRGVsaXZlcmFibGVzIiwKKSkKJycnKTs=\"));\n",
       "    "
      ],
      "text/plain": [
       "<IPython.core.display.Javascript object>"
      ]
     },
     "metadata": {},
     "output_type": "display_data"
    },
    {
     "data": {
      "application/javascript": [
       "$('span:contains(\"# Temp\")').closest('.cell').remove();"
      ],
      "text/plain": [
       "<IPython.core.display.Javascript object>"
      ]
     },
     "metadata": {},
     "output_type": "display_data"
    },
    {
     "data": {
      "application/javascript": [
       "\n",
       "        $('span:contains(\"# Temp\")').closest('.cell').remove();\n",
       "        var code = IPython.notebook.insert_cell_below('code');\n",
       "        code.set_text(atob(\"IyBUZW1wCmluc2VydCgnJycKcml0dGluZ2hvdXNlMjAwNGEgPSBEQihXb3JrVW5yZWxhdGVkKAogICAgMjAwNCwgIjEgLSBVbmRlcnN0YW5kaW5nIHRoZSBcU1BNT1wiLAogICAgZGlzcGxheT0icml0dGluZ2hvdXNlIiwKICAgIGF1dGhvcnM9IkpvaG4gVy4gUml0dGluZ2hvdXNlIiwKICAgIHBsYWNlPUZBS0UsCiAgICBwcD0iMSAtIDMwIiwKICAgIGVudHJ5dHlwZT0iaW5jb2xsZWN0aW9uIiwKICAgIGVkaXRvcj0iUml0dGluZ2hvdXNlLCBKb2huIFcuIiwKICAgIHB1Ymxpc2hlcj0iRGlnaXRhbCBQcmVzcyIsCiAgICBlZGl0aW9uPSIiLAogICAgYWRkcmVzcz0iQnVybGluZ3RvbiIsCiAgICBpc2JuPSI5NzgtMS01NTU1OC0zMTMtMiIsCiAgICBkb2k9Imh0dHBzOi8vZG9pLm9yZy8xMC4xMDE2L0I5NzgtMTU1NTU4MzEzLTIvNTAwMDQtMiIsCiAgICBsaW5rPSJodHRwczovL3d3dy5zY2llbmNlZGlyZWN0LmNvbS9zY2llbmNlL2FydGljbGUvcGlpL0I5NzgxNTU1NTgzMTMyNTAwMDQyIiwKICAgIElEPSJSaXR0aW5naG91c2UyMDA0MSIsCiAgICBzY2llbmNlZGlyZWN0PSIxIiwKICAgIHBsYWNleD0iTWFuYWdpbmcgU29mdHdhcmUgRGVsaXZlcmFibGVzIiwKKSkKJycnKTs=\"));\n",
       "    "
      ],
      "text/plain": [
       "<IPython.core.display.Javascript object>"
      ]
     },
     "metadata": {},
     "output_type": "display_data"
    }
   ],
   "source": [
    "from custom_snowballing import UnrelatedInsert\n",
    "UnrelatedInsert(\"sciencedirect\", articles=article_list)"
   ]
  },
  {
   "cell_type": "code",
   "execution_count": null,
   "metadata": {
    "collapsed": true
   },
   "outputs": [],
   "source": [
    "# Temp\n",
    "insert('''\n",
    "rittinghouse2004a = DB(WorkUnrelated(\n",
    "    2004, \"1 - Understanding the \\SPMO\\\",\n",
    "    display=\"rittinghouse\",\n",
    "    authors=\"John W. Rittinghouse\",\n",
    "    place=FAKE,\n",
    "    pp=\"1 - 30\",\n",
    "    entrytype=\"incollection\",\n",
    "    editor=\"Rittinghouse, John W.\",\n",
    "    publisher=\"Digital Press\",\n",
    "    edition=\"\",\n",
    "    address=\"Burlington\",\n",
    "    isbn=\"978-1-55558-313-2\",\n",
    "    doi=\"https://doi.org/10.1016/B978-155558313-2/50004-2\",\n",
    "    link=\"https://www.sciencedirect.com/science/article/pii/B9781555583132500042\",\n",
    "    ID=\"Rittinghouse20041\",\n",
    "    sciencedirect=\"1\",\n",
    "    placex=\"Managing Software Deliverables\",\n",
    "))\n",
    "''');"
   ]
  },
  {
   "cell_type": "code",
   "execution_count": null,
   "metadata": {
    "collapsed": true,
    "scrolled": false
   },
   "outputs": [],
   "source": [
    "ArticleNavigator??"
   ]
  },
  {
   "cell_type": "code",
   "execution_count": null,
   "metadata": {
    "collapsed": true
   },
   "outputs": [],
   "source": [
    "ArticleNavigator(articles=article_list)"
   ]
  }
 ],
 "metadata": {
  "kernelspec": {
   "display_name": "Python 3",
   "language": "python",
   "name": "python3"
  },
  "language_info": {
   "codemirror_mode": {
    "name": "ipython",
    "version": 3
   },
   "file_extension": ".py",
   "mimetype": "text/x-python",
   "name": "python",
   "nbconvert_exporter": "python",
   "pygments_lexer": "ipython3",
   "version": "3.6.0"
  },
  "toc": {
   "nav_menu": {
    "height": "12px",
    "width": "252px"
   },
   "number_sections": true,
   "sideBar": true,
   "skip_h1_title": false,
   "toc_cell": false,
   "toc_position": {},
   "toc_section_display": "block",
   "toc_window_display": false
  }
 },
 "nbformat": 4,
 "nbformat_minor": 2
}
