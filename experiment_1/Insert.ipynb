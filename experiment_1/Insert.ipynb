{
 "cells": [
  {
   "cell_type": "code",
   "execution_count": 24,
   "metadata": {
    "collapsed": true
   },
   "outputs": [],
   "source": [
    "import database\n",
    "from snowballing.operations import load_work, reload, work_by_varname\n",
    "from snowballing.snowballing import Converter\n",
    "from snowballing.snowballing import ArticleNavigator\n",
    "from snowballing.dbmanager import insert, set_attribute"
   ]
  },
  {
   "cell_type": "code",
   "execution_count": 25,
   "metadata": {
    "scrolled": false
   },
   "outputs": [
    {
     "data": {
      "application/vnd.jupyter.widget-view+json": {
       "model_id": "e220efcf3c894ec1a5869af35288a1fa",
       "version_major": 2,
       "version_minor": 0
      },
      "text/html": [
       "<p>Failed to display Jupyter Widget of type <code>VBox</code>.</p>\n",
       "<p>\n",
       "  If you're reading this message in Jupyter Notebook or JupyterLab, it may mean\n",
       "  that the widgets JavaScript is still loading. If this message persists, it\n",
       "  likely means that the widgets JavaScript library is either not installed or\n",
       "  not enabled. See the <a href=\"https://ipywidgets.readthedocs.io/en/stable/user_install.html\">Jupyter\n",
       "  Widgets Documentation</a> for setup instructions.\n",
       "</p>\n",
       "<p>\n",
       "  If you're reading this message in another notebook frontend (for example, a static\n",
       "  rendering on GitHub or <a href=\"https://nbviewer.jupyter.org/\">NBViewer</a>),\n",
       "  it may mean that your frontend doesn't currently support widgets.\n",
       "</p>\n"
      ],
      "text/plain": [
       "VBox(children=(HBox(children=(Dropdown(options={'BibTeX': 'bibtex', 'Text': 'text', '[N] author name place other year': 'citation', 'Quoted': 'quoted'}, value='bibtex'), Button(description='Set article_list variable', style=ButtonStyle()), Label(value=''))), HBox(children=(Textarea(value='', layout=Layout(height='500px', width='50%')), Textarea(value='', layout=Layout(height='500px', width='50%'))))))"
      ]
     },
     "metadata": {},
     "output_type": "display_data"
    }
   ],
   "source": [
    "Converter(\"bibtex\")"
   ]
  },
  {
   "cell_type": "code",
   "execution_count": 26,
   "metadata": {},
   "outputs": [
    {
     "data": {
      "text/plain": [
       "20"
      ]
     },
     "execution_count": 26,
     "metadata": {},
     "output_type": "execute_result"
    }
   ],
   "source": [
    "len(article_list)"
   ]
  },
  {
   "cell_type": "code",
   "execution_count": 27,
   "metadata": {
    "collapsed": true
   },
   "outputs": [],
   "source": [
    "from snowballing.operations import reload\n",
    "reload()\n"
   ]
  },
  {
   "cell_type": "code",
   "execution_count": null,
   "metadata": {
    "collapsed": true
   },
   "outputs": [],
   "source": []
  },
  {
   "cell_type": "code",
   "execution_count": 28,
   "metadata": {},
   "outputs": [
    {
     "data": {
      "application/vnd.jupyter.widget-view+json": {
       "model_id": "2f9116a125f445249be5662d9aeb7533",
       "version_major": 2,
       "version_minor": 0
      },
      "text/html": [
       "<p>Failed to display Jupyter Widget of type <code>VBox</code>.</p>\n",
       "<p>\n",
       "  If you're reading this message in Jupyter Notebook or JupyterLab, it may mean\n",
       "  that the widgets JavaScript is still loading. If this message persists, it\n",
       "  likely means that the widgets JavaScript library is either not installed or\n",
       "  not enabled. See the <a href=\"https://ipywidgets.readthedocs.io/en/stable/user_install.html\">Jupyter\n",
       "  Widgets Documentation</a> for setup instructions.\n",
       "</p>\n",
       "<p>\n",
       "  If you're reading this message in another notebook frontend (for example, a static\n",
       "  rendering on GitHub or <a href=\"https://nbviewer.jupyter.org/\">NBViewer</a>),\n",
       "  it may mean that your frontend doesn't currently support widgets.\n",
       "</p>\n"
      ],
      "text/plain": [
       "VBox(children=(HBox(children=(Button(description='Previous Article', disabled=True, icon='caret-left', style=ButtonStyle()), Button(description='Reload Article', icon='refresh', style=ButtonStyle()), Button(description='Next Article', icon='caret-right', style=ButtonStyle()))), HBox(children=(Dropdown(description='Type', index=5, options=('Work', 'WorkSnowball', 'WorkForward', 'WorkBackward', 'WorkOk', 'WorkUnrelated', 'WorkNoFile', 'WorkLang', 'Site', 'Email'), value='WorkUnrelated'), ToggleButton(value=False, description='File'))), HBox(children=(Text(value='', description='Due'), Text(value='', description='Place'))), HBox(children=(Text(value='', description='Year'), Text(value='', description='Prefix Var'))), HBox(children=(Text(value='', description='PDFPage'), Text(value='', description='Related'))), HBox(children=(Text(value='', description='Display'), Text(value='', description='Summary'))), HBox(children=(Text(value='', description='Star'), Text(value='', description='Link'))), HBox(children=(Text(value='1', description='springer'),)), HBox(children=(Button(description='Reload Article', icon='refresh', style=ButtonStyle()), IntSlider(value=0, max=19), Label(value='1/20'))), Output()))"
      ]
     },
     "metadata": {},
     "output_type": "display_data"
    },
    {
     "data": {
      "application/javascript": [
       "$('span:contains(\"# Temp\")').closest('.cell').remove();"
      ],
      "text/plain": [
       "<IPython.core.display.Javascript object>"
      ]
     },
     "metadata": {},
     "output_type": "display_data"
    },
    {
     "data": {
      "application/javascript": [
       "\n",
       "        $('span:contains(\"# Temp\")').closest('.cell').remove();\n",
       "        var code = IPython.notebook.insert_cell_below('code');\n",
       "        code.set_text(atob(\"IyBUZW1wCmluc2VydCgnJycKICAgIGFsbGVtYW4yMDAyYSA9IERCKFdvcmtVbnJlbGF0ZWQoCiAgICAgICAgMjAwMiwgIkFnaWxlIFByb2plY3QgTWFuYWdlbWVudCBNZXRob2RzIGZvciBFUlA6IEhvdyB0byBBcHBseSBBZ2lsZSBQcm9jZXNzZXMgdG8gQ29tcGxleCBDT1RTIFByb2plY3RzIGFuZCBMaXZlIHRvIFRlbGwgYWJvdXQgSXQiLAogICAgICAgIGRpc3BsYXk9ImFsbGVtYW4iLAogICAgICAgIGF1dGhvcnM9IkFsbGVtYW4sIEdsZW4gQi4iLAogICAgICAgIHBsYWNlPUZBS0UsCiAgICAgICAgcHA9IjcwLS04OCIsCiAgICAgICAgZW50cnl0eXBlPSJpbnByb2NlZWRpbmdzIiwKICAgICAgICBlZGl0b3I9IldlbGxzLCBEb24KYW5kIFdpbGxpYW1zLCBMYXVyaWUiLAogICAgICAgIHB1Ymxpc2hlcj0iU3ByaW5nZXIgQmVybGluIEhlaWRlbGJlcmciLAogICAgICAgIGFkZHJlc3M9IkJlcmxpbiwgSGVpZGVsYmVyZyIsCiAgICAgICAgSUQ9IjEwLjEwMDcvMy01NDAtNDU2NzItNF84IiwKICAgICAgICBzcHJpbmdlcj0iMSIsCiAgICAgICAgcGxhY2V4PSJFeHRyZW1lIFByb2dyYW1taW5nIGFuZCBBZ2lsZSBNZXRob2RzIC0tLSBYUC9BZ2lsZSBVbml2ZXJzZSAyMDAyIiwKICAgICkpCicnJyk7\"));\n",
       "    "
      ],
      "text/plain": [
       "<IPython.core.display.Javascript object>"
      ]
     },
     "metadata": {},
     "output_type": "display_data"
    },
    {
     "data": {
      "application/javascript": [
       "$('span:contains(\"# Temp\")').closest('.cell').remove();"
      ],
      "text/plain": [
       "<IPython.core.display.Javascript object>"
      ]
     },
     "metadata": {},
     "output_type": "display_data"
    },
    {
     "data": {
      "application/javascript": [
       "\n",
       "        $('span:contains(\"# Temp\")').closest('.cell').remove();\n",
       "        var code = IPython.notebook.insert_cell_below('code');\n",
       "        code.set_text(atob(\"IyBUZW1wCmluc2VydCgnJycKICAgIHNpdG5pa292YTIwMDdhID0gREIoV29ya1VucmVsYXRlZCgKICAgICAgICAyMDA3LCAiU29mdHdhcmUgYW5kIHN5c3RlbXMgZW5naW5lZXJpbmcgcHJvY2VzcyBjYXBhYmlsaXR5IGluIHRoZSBTb3V0aCBBdXN0cmFsaWFuIGRlZmVuY2UgaW5kdXN0cnkiLAogICAgICAgIGRpc3BsYXk9InNpdG5pa292YSIsCiAgICAgICAgYXV0aG9ycz0iU2l0bmlrb3ZhLCBFbGVuYQphbmQgS3JvZWdlciwgVHJlbnQKYW5kIENvb2ssIFN0ZXBoZW4iLAogICAgICAgIHBsYWNlPUZBS0UsCiAgICAgICAgcHA9IjEyOS0tMTM5IiwKICAgICAgICBlbnRyeXR5cGU9ImFydGljbGUiLAogICAgICAgIG1vbnRoPSJKdW4iLAogICAgICAgIGRheT0iMDEiLAogICAgICAgIHZvbHVtZT0iMyIsCiAgICAgICAgbnVtYmVyPSIyIiwKICAgICAgICBJRD0iU2l0bmlrb3ZhMjAwNyIsCiAgICAgICAgc3ByaW5nZXI9IjEiLAogICAgICAgIHBsYWNleD0iSW5ub3ZhdGlvbnMgaW4gU3lzdGVtcyBhbmQgU29mdHdhcmUgRW5naW5lZXJpbmciLAogICAgKSkKJycnKTs=\"));\n",
       "    "
      ],
      "text/plain": [
       "<IPython.core.display.Javascript object>"
      ]
     },
     "metadata": {},
     "output_type": "display_data"
    },
    {
     "data": {
      "application/javascript": [
       "$('span:contains(\"# Temp\")').closest('.cell').remove();"
      ],
      "text/plain": [
       "<IPython.core.display.Javascript object>"
      ]
     },
     "metadata": {},
     "output_type": "display_data"
    },
    {
     "data": {
      "application/javascript": [
       "\n",
       "        $('span:contains(\"# Temp\")').closest('.cell').remove();\n",
       "        var code = IPython.notebook.insert_cell_below('code');\n",
       "        code.set_text(atob(\"IyBUZW1wCmluc2VydCgnJycKICAgIHNpdG5pa292YTIwMDdhID0gREIoV29ya1VucmVsYXRlZCgKICAgICAgICAyMDA3LCAiU29mdHdhcmUgYW5kIHN5c3RlbXMgZW5naW5lZXJpbmcgcHJvY2VzcyBjYXBhYmlsaXR5IGluIHRoZSBTb3V0aCBBdXN0cmFsaWFuIGRlZmVuY2UgaW5kdXN0cnkiLAogICAgICAgIGRpc3BsYXk9InNpdG5pa292YSIsCiAgICAgICAgYXV0aG9ycz0iU2l0bmlrb3ZhLCBFbGVuYQphbmQgS3JvZWdlciwgVHJlbnQKYW5kIENvb2ssIFN0ZXBoZW4iLAogICAgICAgIHBsYWNlPUZBS0UsCiAgICAgICAgcHA9IjEyOS0tMTM5IiwKICAgICAgICBlbnRyeXR5cGU9ImFydGljbGUiLAogICAgICAgIG1vbnRoPSJKdW4iLAogICAgICAgIGRheT0iMDEiLAogICAgICAgIHZvbHVtZT0iMyIsCiAgICAgICAgbnVtYmVyPSIyIiwKICAgICAgICBJRD0iU2l0bmlrb3ZhMjAwNyIsCiAgICAgICAgc3ByaW5nZXI9IjEiLAogICAgICAgIHBsYWNleD0iSW5ub3ZhdGlvbnMgaW4gU3lzdGVtcyBhbmQgU29mdHdhcmUgRW5naW5lZXJpbmciLAogICAgKSkKJycnKTs=\"));\n",
       "    "
      ],
      "text/plain": [
       "<IPython.core.display.Javascript object>"
      ]
     },
     "metadata": {},
     "output_type": "display_data"
    },
    {
     "data": {
      "application/javascript": [
       "$('span:contains(\"# Temp\")').closest('.cell').remove();"
      ],
      "text/plain": [
       "<IPython.core.display.Javascript object>"
      ]
     },
     "metadata": {},
     "output_type": "display_data"
    },
    {
     "data": {
      "application/javascript": [
       "\n",
       "        $('span:contains(\"# Temp\")').closest('.cell').remove();\n",
       "        var code = IPython.notebook.insert_cell_below('code');\n",
       "        code.set_text(atob(\"IyBUZW1wCmluc2VydCgnJycKICAgIHdvbmcyMDAyYSA9IERCKFdvcmtVbnJlbGF0ZWQoCiAgICAgICAgMjAwMiwgIkEgRnJhbWV3b3JrIGZvciBTb2Z0d2FyZSBRdWFsaXR5IEV2YWx1YXRpb24iLAogICAgICAgIGRpc3BsYXk9IndvbmciLAogICAgICAgIGF1dGhvcnM9IldvbmcsIEJlcm5hcmQKYW5kIEplZmZlcnksIFJvc3MiLAogICAgICAgIHBsYWNlPVBST0ZFUywKICAgICAgICBwcD0iMTAzLS0xMTgiLAogICAgICAgIGVudHJ5dHlwZT0iaW5wcm9jZWVkaW5ncyIsCiAgICAgICAgZWRpdG9yPSJPaXZvLCBNYXJra3UKYW5kIEtvbWktU2lydmn2LCBTZWlqYSIsCiAgICAgICAgcHVibGlzaGVyPSJTcHJpbmdlciBCZXJsaW4gSGVpZGVsYmVyZyIsCiAgICAgICAgYWRkcmVzcz0iQmVybGluLCBIZWlkZWxiZXJnIiwKICAgICAgICBJRD0iMTAuMTAwNy8zLTU0MC0zNjIwOS02XzExIiwKICAgICAgICBzcHJpbmdlcj0iMSIsCiAgICAgICAgcGxhY2V4PSJQcm9kdWN0IEZvY3VzZWQgU29mdHdhcmUgUHJvY2VzcyBJbXByb3ZlbWVudCIsCiAgICApKQonJycpOw==\"));\n",
       "    "
      ],
      "text/plain": [
       "<IPython.core.display.Javascript object>"
      ]
     },
     "metadata": {},
     "output_type": "display_data"
    },
    {
     "data": {
      "application/javascript": [
       "$('span:contains(\"# Temp\")').closest('.cell').remove();"
      ],
      "text/plain": [
       "<IPython.core.display.Javascript object>"
      ]
     },
     "metadata": {},
     "output_type": "display_data"
    },
    {
     "data": {
      "application/javascript": [
       "\n",
       "        $('span:contains(\"# Temp\")').closest('.cell').remove();\n",
       "        var code = IPython.notebook.insert_cell_below('code');\n",
       "        code.set_text(atob(\"IyBUZW1wCmluc2VydCgnJycKICAgIHdvbmcyMDAyYSA9IERCKFdvcmtVbnJlbGF0ZWQoCiAgICAgICAgMjAwMiwgIkEgRnJhbWV3b3JrIGZvciBTb2Z0d2FyZSBRdWFsaXR5IEV2YWx1YXRpb24iLAogICAgICAgIGRpc3BsYXk9IndvbmciLAogICAgICAgIGF1dGhvcnM9IldvbmcsIEJlcm5hcmQKYW5kIEplZmZlcnksIFJvc3MiLAogICAgICAgIHBsYWNlPVBST0ZFUywKICAgICAgICBwcD0iMTAzLS0xMTgiLAogICAgICAgIGVudHJ5dHlwZT0iaW5wcm9jZWVkaW5ncyIsCiAgICAgICAgZWRpdG9yPSJPaXZvLCBNYXJra3UKYW5kIEtvbWktU2lydmn2LCBTZWlqYSIsCiAgICAgICAgcHVibGlzaGVyPSJTcHJpbmdlciBCZXJsaW4gSGVpZGVsYmVyZyIsCiAgICAgICAgYWRkcmVzcz0iQmVybGluLCBIZWlkZWxiZXJnIiwKICAgICAgICBJRD0iMTAuMTAwNy8zLTU0MC0zNjIwOS02XzExIiwKICAgICAgICBzcHJpbmdlcj0iMSIsCiAgICAgICAgcGxhY2V4PSJQcm9kdWN0IEZvY3VzZWQgU29mdHdhcmUgUHJvY2VzcyBJbXByb3ZlbWVudCIsCiAgICApKQonJycpOw==\"));\n",
       "    "
      ],
      "text/plain": [
       "<IPython.core.display.Javascript object>"
      ]
     },
     "metadata": {},
     "output_type": "display_data"
    },
    {
     "data": {
      "application/javascript": [
       "$('span:contains(\"# Temp\")').closest('.cell').remove();"
      ],
      "text/plain": [
       "<IPython.core.display.Javascript object>"
      ]
     },
     "metadata": {},
     "output_type": "display_data"
    },
    {
     "data": {
      "application/javascript": [
       "\n",
       "        $('span:contains(\"# Temp\")').closest('.cell').remove();\n",
       "        var code = IPython.notebook.insert_cell_below('code');\n",
       "        code.set_text(atob(\"IyBUZW1wCmluc2VydCgnJycKICAgIGhhdWcyMDAxYyA9IERCKFdvcmtVbnJlbGF0ZWQoCiAgICAgICAgMjAwMSwgIlRoZSBFVVJFWCBQcm9qZWN0IiwKICAgICAgICBkaXNwbGF5PSJoYXVnIGMiLAogICAgICAgIGF1dGhvcnM9IkhhdWcsIE0uCmFuZCBPbHNlbiwgRS4gVy4iLAogICAgICAgIHBsYWNlPUZBS0UsCiAgICAgICAgcHA9IjE3LS0yNCIsCiAgICAgICAgZW50cnl0eXBlPSJpbmJvb2siLAogICAgICAgIGVkaXRvcj0iSGF1ZywgTWljaGFlbAphbmQgT2xzZW4sIEVyaWMgVy4KYW5kIEJlcmdtYW4sIExhcnMiLAogICAgICAgIHB1Ymxpc2hlcj0iU3ByaW5nZXIgQmVybGluIEhlaWRlbGJlcmciLAogICAgICAgIGFkZHJlc3M9IkJlcmxpbiwgSGVpZGVsYmVyZyIsCiAgICAgICAgSUQ9IkhhdWcyMDAxIiwKICAgICAgICBzcHJpbmdlcj0iMSIsCiAgICAgICAgcGxhY2V4PSJTb2Z0d2FyZSBQcm9jZXNzIEltcHJvdmVtZW50OiBNZXRyaWNzLCBNZWFzdXJlbWVudCwgYW5kIFByb2Nlc3MgTW9kZWxsaW5nOiBTb2Z0d2FyZSBCZXN0IFByYWN0aWNlIDQiLAogICAgKSkKJycnKTs=\"));\n",
       "    "
      ],
      "text/plain": [
       "<IPython.core.display.Javascript object>"
      ]
     },
     "metadata": {},
     "output_type": "display_data"
    },
    {
     "data": {
      "application/javascript": [
       "$('span:contains(\"# Temp\")').closest('.cell').remove();"
      ],
      "text/plain": [
       "<IPython.core.display.Javascript object>"
      ]
     },
     "metadata": {},
     "output_type": "display_data"
    },
    {
     "data": {
      "application/javascript": [
       "\n",
       "        $('span:contains(\"# Temp\")').closest('.cell').remove();\n",
       "        var code = IPython.notebook.insert_cell_below('code');\n",
       "        code.set_text(atob(\"IyBUZW1wCmluc2VydCgnJycKICAgIGhhdWcyMDAxYyA9IERCKFdvcmtVbnJlbGF0ZWQoCiAgICAgICAgMjAwMSwgIlRoZSBFVVJFWCBQcm9qZWN0IiwKICAgICAgICBkaXNwbGF5PSJoYXVnIGMiLAogICAgICAgIGF1dGhvcnM9IkhhdWcsIE0uCmFuZCBPbHNlbiwgRS4gVy4iLAogICAgICAgIHBsYWNlPUZBS0UsCiAgICAgICAgcHA9IjE3LS0yNCIsCiAgICAgICAgZW50cnl0eXBlPSJpbmJvb2siLAogICAgICAgIGVkaXRvcj0iSGF1ZywgTWljaGFlbAphbmQgT2xzZW4sIEVyaWMgVy4KYW5kIEJlcmdtYW4sIExhcnMiLAogICAgICAgIHB1Ymxpc2hlcj0iU3ByaW5nZXIgQmVybGluIEhlaWRlbGJlcmciLAogICAgICAgIGFkZHJlc3M9IkJlcmxpbiwgSGVpZGVsYmVyZyIsCiAgICAgICAgSUQ9IkhhdWcyMDAxIiwKICAgICAgICBzcHJpbmdlcj0iMSIsCiAgICAgICAgcGxhY2V4PSJTb2Z0d2FyZSBQcm9jZXNzIEltcHJvdmVtZW50OiBNZXRyaWNzLCBNZWFzdXJlbWVudCwgYW5kIFByb2Nlc3MgTW9kZWxsaW5nOiBTb2Z0d2FyZSBCZXN0IFByYWN0aWNlIDQiLAogICAgKSkKJycnKTs=\"));\n",
       "    "
      ],
      "text/plain": [
       "<IPython.core.display.Javascript object>"
      ]
     },
     "metadata": {},
     "output_type": "display_data"
    },
    {
     "data": {
      "application/javascript": [
       "$('span:contains(\"# Temp\")').closest('.cell').remove();"
      ],
      "text/plain": [
       "<IPython.core.display.Javascript object>"
      ]
     },
     "metadata": {},
     "output_type": "display_data"
    },
    {
     "data": {
      "application/javascript": [
       "\n",
       "        $('span:contains(\"# Temp\")').closest('.cell').remove();\n",
       "        var code = IPython.notebook.insert_cell_below('code');\n",
       "        code.set_text(atob(\"IyBUZW1wCmluc2VydCgnJycKICAgIGdvcnNjaGVrMjAwNmEgPSBEQihXb3JrVW5yZWxhdGVkKAogICAgICAgIDIwMDYsICJSZXF1aXJlbWVudHMgQWJzdHJhY3Rpb24gTW9kZWwiLAogICAgICAgIGRpc3BsYXk9ImdvcnNjaGVrIiwKICAgICAgICBhdXRob3JzPSJHb3JzY2hlaywgVG9ueQphbmQgV29obGluLCBDbGFlcyIsCiAgICAgICAgcGxhY2U9RkFLRSwKICAgICAgICBwcD0iNzktLTEwMSIsCiAgICAgICAgZW50cnl0eXBlPSJhcnRpY2xlIiwKICAgICAgICBtb250aD0iTWFyIiwKICAgICAgICBkYXk9IjAxIiwKICAgICAgICB2b2x1bWU9IjExIiwKICAgICAgICBudW1iZXI9IjEiLAogICAgICAgIElEPSJHb3JzY2hlazIwMDYiLAogICAgICAgIHNwcmluZ2VyPSIxIiwKICAgICAgICBwbGFjZXg9IlJlcXVpcmVtZW50cyBFbmdpbmVlcmluZyIsCiAgICApKQonJycpOw==\"));\n",
       "    "
      ],
      "text/plain": [
       "<IPython.core.display.Javascript object>"
      ]
     },
     "metadata": {},
     "output_type": "display_data"
    },
    {
     "data": {
      "application/javascript": [
       "$('span:contains(\"# Temp\")').closest('.cell').remove();"
      ],
      "text/plain": [
       "<IPython.core.display.Javascript object>"
      ]
     },
     "metadata": {},
     "output_type": "display_data"
    },
    {
     "data": {
      "application/javascript": [
       "\n",
       "        $('span:contains(\"# Temp\")').closest('.cell').remove();\n",
       "        var code = IPython.notebook.insert_cell_below('code');\n",
       "        code.set_text(atob(\"IyBUZW1wCmluc2VydCgnJycKICAgIGdvcnNjaGVrMjAwNmEgPSBEQihXb3JrVW5yZWxhdGVkKAogICAgICAgIDIwMDYsICJSZXF1aXJlbWVudHMgQWJzdHJhY3Rpb24gTW9kZWwiLAogICAgICAgIGRpc3BsYXk9ImdvcnNjaGVrIiwKICAgICAgICBhdXRob3JzPSJHb3JzY2hlaywgVG9ueQphbmQgV29obGluLCBDbGFlcyIsCiAgICAgICAgcGxhY2U9RkFLRSwKICAgICAgICBwcD0iNzktLTEwMSIsCiAgICAgICAgZW50cnl0eXBlPSJhcnRpY2xlIiwKICAgICAgICBtb250aD0iTWFyIiwKICAgICAgICBkYXk9IjAxIiwKICAgICAgICB2b2x1bWU9IjExIiwKICAgICAgICBudW1iZXI9IjEiLAogICAgICAgIElEPSJHb3JzY2hlazIwMDYiLAogICAgICAgIHNwcmluZ2VyPSIxIiwKICAgICAgICBwbGFjZXg9IlJlcXVpcmVtZW50cyBFbmdpbmVlcmluZyIsCiAgICApKQonJycpOw==\"));\n",
       "    "
      ],
      "text/plain": [
       "<IPython.core.display.Javascript object>"
      ]
     },
     "metadata": {},
     "output_type": "display_data"
    },
    {
     "data": {
      "application/javascript": [
       "$('span:contains(\"# Temp\")').closest('.cell').remove();"
      ],
      "text/plain": [
       "<IPython.core.display.Javascript object>"
      ]
     },
     "metadata": {},
     "output_type": "display_data"
    },
    {
     "data": {
      "application/javascript": [
       "\n",
       "        $('span:contains(\"# Temp\")').closest('.cell').remove();\n",
       "        var code = IPython.notebook.insert_cell_below('code');\n",
       "        code.set_text(atob(\"IyBUZW1wCmluc2VydCgnJycKICAgIHRvdmFsMjAwMmEgPSBEQihXb3JrVW5yZWxhdGVkKAogICAgICAgIDIwMDIsICJSZXF1aXJlbWVudHMgUmV1c2UgZm9yIEltcHJvdmluZyBJbmZvcm1hdGlvbiBTeXN0ZW1zIFNlY3VyaXR5OiBBIFByYWN0aXRpb25lcidzIEFwcHJvYWNoIiwKICAgICAgICBkaXNwbGF5PSJ0b3ZhbCIsCiAgICAgICAgYXV0aG9ycz0iVG92YWwsIEFtYnJvc2lvCmFuZCBOaWNvbOFzLCBKb2FxdXtpP31uCmFuZCBNb3JvcywgQmVnb3vxfWEKYW5kIEdhcmN7aT99YSwgRmVybmFuZG8iLAogICAgICAgIHBsYWNlPUZBS0UsCiAgICAgICAgcHA9IjIwNS0tMjE5IiwKICAgICAgICBlbnRyeXR5cGU9ImFydGljbGUiLAogICAgICAgIG1vbnRoPSJKYW4iLAogICAgICAgIGRheT0iMDEiLAogICAgICAgIHZvbHVtZT0iNiIsCiAgICAgICAgbnVtYmVyPSI0IiwKICAgICAgICBpc3NuPSIxNDMyLTAxMFgiLAogICAgICAgIGRvaT0iMTAuMTAwNy9QTDAwMDEwMzYwIiwKICAgICAgICBJRD0iVG92YWwyMDAyIiwKICAgICAgICBzcHJpbmdlcj0iMSIsCiAgICAgICAgcGxhY2V4PSJSZXF1aXJlbWVudHMgRW5naW5lZXJpbmciLAogICAgKSkKJycnKTs=\"));\n",
       "    "
      ],
      "text/plain": [
       "<IPython.core.display.Javascript object>"
      ]
     },
     "metadata": {},
     "output_type": "display_data"
    },
    {
     "data": {
      "application/javascript": [
       "$('span:contains(\"# Temp\")').closest('.cell').remove();"
      ],
      "text/plain": [
       "<IPython.core.display.Javascript object>"
      ]
     },
     "metadata": {},
     "output_type": "display_data"
    },
    {
     "data": {
      "application/javascript": [
       "\n",
       "        $('span:contains(\"# Temp\")').closest('.cell').remove();\n",
       "        var code = IPython.notebook.insert_cell_below('code');\n",
       "        code.set_text(atob(\"IyBUZW1wCmluc2VydCgnJycKICAgIHRvdmFsMjAwMmEgPSBEQihXb3JrVW5yZWxhdGVkKAogICAgICAgIDIwMDIsICJSZXF1aXJlbWVudHMgUmV1c2UgZm9yIEltcHJvdmluZyBJbmZvcm1hdGlvbiBTeXN0ZW1zIFNlY3VyaXR5OiBBIFByYWN0aXRpb25lcidzIEFwcHJvYWNoIiwKICAgICAgICBkaXNwbGF5PSJ0b3ZhbCIsCiAgICAgICAgYXV0aG9ycz0iVG92YWwsIEFtYnJvc2lvCmFuZCBOaWNvbOFzLCBKb2FxdXtpP31uCmFuZCBNb3JvcywgQmVnb3vxfWEKYW5kIEdhcmN7aT99YSwgRmVybmFuZG8iLAogICAgICAgIHBsYWNlPUZBS0UsCiAgICAgICAgcHA9IjIwNS0tMjE5IiwKICAgICAgICBlbnRyeXR5cGU9ImFydGljbGUiLAogICAgICAgIG1vbnRoPSJKYW4iLAogICAgICAgIGRheT0iMDEiLAogICAgICAgIHZvbHVtZT0iNiIsCiAgICAgICAgbnVtYmVyPSI0IiwKICAgICAgICBpc3NuPSIxNDMyLTAxMFgiLAogICAgICAgIGRvaT0iMTAuMTAwNy9QTDAwMDEwMzYwIiwKICAgICAgICBJRD0iVG92YWwyMDAyIiwKICAgICAgICBzcHJpbmdlcj0iMSIsCiAgICAgICAgcGxhY2V4PSJSZXF1aXJlbWVudHMgRW5naW5lZXJpbmciLAogICAgKSkKJycnKTs=\"));\n",
       "    "
      ],
      "text/plain": [
       "<IPython.core.display.Javascript object>"
      ]
     },
     "metadata": {},
     "output_type": "display_data"
    },
    {
     "data": {
      "application/javascript": [
       "$('span:contains(\"# Temp\")').closest('.cell').remove();"
      ],
      "text/plain": [
       "<IPython.core.display.Javascript object>"
      ]
     },
     "metadata": {},
     "output_type": "display_data"
    },
    {
     "data": {
      "application/javascript": [
       "\n",
       "        $('span:contains(\"# Temp\")').closest('.cell').remove();\n",
       "        var code = IPython.notebook.insert_cell_below('code');\n",
       "        code.set_text(atob(\"IyBUZW1wCmluc2VydCgnJycKICAgIHdhcmJveXMyMDAwYSA9IERCKFdvcmtVbnJlbGF0ZWQoCiAgICAgICAgMjAwMCwgIk1vZGVsbGluZyB0aGUgQ28tRXZvbHV0aW9uIG9mIEJ1c2luZXNzIFByb2Nlc3NlcyBhbmQgSVQgU3lzdGVtcyIsCiAgICAgICAgZGlzcGxheT0id2FyYm95cyIsCiAgICAgICAgYXV0aG9ycz0iV2FyYm95cywgQi4gQy4KYW5kIEdyZWVud29vZCwgUi4gTS4KYW5kIEthd2FsZWssIFAuIiwKICAgICAgICBwbGFjZT1GQUtFLAogICAgICAgIHBwPSIxMC0tMjMiLAogICAgICAgIGVudHJ5dHlwZT0iaW5ib29rIiwKICAgICAgICBlZGl0b3I9IkhlbmRlcnNvbiwgUGV0ZXIiLAogICAgICAgIHB1Ymxpc2hlcj0iU3ByaW5nZXIgTG9uZG9uIiwKICAgICAgICBhZGRyZXNzPSJMb25kb24iLAogICAgICAgIElEPSJXYXJib3lzMjAwMCIsCiAgICAgICAgc3ByaW5nZXI9IjEiLAogICAgICAgIHBsYWNleD0iU3lzdGVtcyBFbmdpbmVlcmluZyBmb3IgQnVzaW5lc3MgUHJvY2VzcyBDaGFuZ2U6IENvbGxlY3RlZCBQYXBlcnMgZnJvbSB0aGUgRVBTUkMgUmVzZWFyY2ggUHJvZ3JhbW1lIiwKICAgICkpCicnJyk7\"));\n",
       "    "
      ],
      "text/plain": [
       "<IPython.core.display.Javascript object>"
      ]
     },
     "metadata": {},
     "output_type": "display_data"
    },
    {
     "data": {
      "application/javascript": [
       "$('span:contains(\"# Temp\")').closest('.cell').remove();"
      ],
      "text/plain": [
       "<IPython.core.display.Javascript object>"
      ]
     },
     "metadata": {},
     "output_type": "display_data"
    },
    {
     "data": {
      "application/javascript": [
       "\n",
       "        $('span:contains(\"# Temp\")').closest('.cell').remove();\n",
       "        var code = IPython.notebook.insert_cell_below('code');\n",
       "        code.set_text(atob(\"IyBUZW1wCmluc2VydCgnJycKICAgIHdhcmJveXMyMDAwYSA9IERCKFdvcmtVbnJlbGF0ZWQoCiAgICAgICAgMjAwMCwgIk1vZGVsbGluZyB0aGUgQ28tRXZvbHV0aW9uIG9mIEJ1c2luZXNzIFByb2Nlc3NlcyBhbmQgSVQgU3lzdGVtcyIsCiAgICAgICAgZGlzcGxheT0id2FyYm95cyIsCiAgICAgICAgYXV0aG9ycz0iV2FyYm95cywgQi4gQy4KYW5kIEdyZWVud29vZCwgUi4gTS4KYW5kIEthd2FsZWssIFAuIiwKICAgICAgICBwbGFjZT1GQUtFLAogICAgICAgIHBwPSIxMC0tMjMiLAogICAgICAgIGVudHJ5dHlwZT0iaW5ib29rIiwKICAgICAgICBlZGl0b3I9IkhlbmRlcnNvbiwgUGV0ZXIiLAogICAgICAgIHB1Ymxpc2hlcj0iU3ByaW5nZXIgTG9uZG9uIiwKICAgICAgICBhZGRyZXNzPSJMb25kb24iLAogICAgICAgIElEPSJXYXJib3lzMjAwMCIsCiAgICAgICAgc3ByaW5nZXI9IjEiLAogICAgICAgIHBsYWNleD0iU3lzdGVtcyBFbmdpbmVlcmluZyBmb3IgQnVzaW5lc3MgUHJvY2VzcyBDaGFuZ2U6IENvbGxlY3RlZCBQYXBlcnMgZnJvbSB0aGUgRVBTUkMgUmVzZWFyY2ggUHJvZ3JhbW1lIiwKICAgICkpCicnJyk7\"));\n",
       "    "
      ],
      "text/plain": [
       "<IPython.core.display.Javascript object>"
      ]
     },
     "metadata": {},
     "output_type": "display_data"
    },
    {
     "data": {
      "application/javascript": [
       "$('span:contains(\"# Temp\")').closest('.cell').remove();"
      ],
      "text/plain": [
       "<IPython.core.display.Javascript object>"
      ]
     },
     "metadata": {},
     "output_type": "display_data"
    },
    {
     "data": {
      "application/javascript": [
       "\n",
       "        $('span:contains(\"# Temp\")').closest('.cell').remove();\n",
       "        var code = IPython.notebook.insert_cell_below('code');\n",
       "        code.set_text(atob(\"IyBUZW1wCmluc2VydCgnJycKICAgIGF5YWxhMjAxMWIgPSBEQihXb3JrVW5yZWxhdGVkKAogICAgICAgIDIwMTEsICJUb3dhcmRzIEltcHJvdmluZyBPU1MgUHJvZHVjdHMgU2VsZWN0aW9uIC0tIE1hdGNoaW5nIFNlbGVjdG9ycyBhbmQgT1NTIENvbW11bml0aWVzIFBlcnNwZWN0aXZlcyIsCiAgICAgICAgZGlzcGxheT0iYXlhbGEgYiIsCiAgICAgICAgYXV0aG9ycz0iQXlhbGEsIENsYXVkaWEKYW5kIENydXplcywgRGFuaWVsYSBTLgphbmQgRnJhbmNoLCBYYXZpZXIKYW5kIENvbnJhZGksIFJlaWRhciIsCiAgICAgICAgcGxhY2U9RkFLRSwKICAgICAgICBwcD0iMjQ0LS0yNTgiLAogICAgICAgIGVudHJ5dHlwZT0iaW5wcm9jZWVkaW5ncyIsCiAgICAgICAgZWRpdG9yPSJIaXNzYW0sIFNjb3R0IEEuCmFuZCBSdXNzbywgQmFyYmFyYQphbmQgZGUgTWVuZG9ue+d9YSBOZXRvLCBNYW5vZWwgRy4KYW5kIEtvbiwgRmFiaW8iLAogICAgICAgIHB1Ymxpc2hlcj0iU3ByaW5nZXIgQmVybGluIEhlaWRlbGJlcmciLAogICAgICAgIGFkZHJlc3M9IkJlcmxpbiwgSGVpZGVsYmVyZyIsCiAgICAgICAgSUQ9IjEwLjEwMDcvOTc4LTMtNjQyLTI0NDE4LTZfMTciLAogICAgICAgIHNwcmluZ2VyPSIxIiwKICAgICAgICBwbGFjZXg9Ik9wZW4gU291cmNlIFN5c3RlbXM6IEdyb3VuZGluZyBSZXNlYXJjaCIsCiAgICApKQonJycpOw==\"));\n",
       "    "
      ],
      "text/plain": [
       "<IPython.core.display.Javascript object>"
      ]
     },
     "metadata": {},
     "output_type": "display_data"
    },
    {
     "data": {
      "application/javascript": [
       "$('span:contains(\"# Temp\")').closest('.cell').remove();"
      ],
      "text/plain": [
       "<IPython.core.display.Javascript object>"
      ]
     },
     "metadata": {},
     "output_type": "display_data"
    },
    {
     "data": {
      "application/javascript": [
       "\n",
       "        $('span:contains(\"# Temp\")').closest('.cell').remove();\n",
       "        var code = IPython.notebook.insert_cell_below('code');\n",
       "        code.set_text(atob(\"IyBUZW1wCmluc2VydCgnJycKICAgIGF5YWxhMjAxMWIgPSBEQihXb3JrVW5yZWxhdGVkKAogICAgICAgIDIwMTEsICJUb3dhcmRzIEltcHJvdmluZyBPU1MgUHJvZHVjdHMgU2VsZWN0aW9uIC0tIE1hdGNoaW5nIFNlbGVjdG9ycyBhbmQgT1NTIENvbW11bml0aWVzIFBlcnNwZWN0aXZlcyIsCiAgICAgICAgZGlzcGxheT0iYXlhbGEgYiIsCiAgICAgICAgYXV0aG9ycz0iQXlhbGEsIENsYXVkaWEKYW5kIENydXplcywgRGFuaWVsYSBTLgphbmQgRnJhbmNoLCBYYXZpZXIKYW5kIENvbnJhZGksIFJlaWRhciIsCiAgICAgICAgcGxhY2U9RkFLRSwKICAgICAgICBwcD0iMjQ0LS0yNTgiLAogICAgICAgIGVudHJ5dHlwZT0iaW5wcm9jZWVkaW5ncyIsCiAgICAgICAgZWRpdG9yPSJIaXNzYW0sIFNjb3R0IEEuCmFuZCBSdXNzbywgQmFyYmFyYQphbmQgZGUgTWVuZG9ue+d9YSBOZXRvLCBNYW5vZWwgRy4KYW5kIEtvbiwgRmFiaW8iLAogICAgICAgIHB1Ymxpc2hlcj0iU3ByaW5nZXIgQmVybGluIEhlaWRlbGJlcmciLAogICAgICAgIGFkZHJlc3M9IkJlcmxpbiwgSGVpZGVsYmVyZyIsCiAgICAgICAgSUQ9IjEwLjEwMDcvOTc4LTMtNjQyLTI0NDE4LTZfMTciLAogICAgICAgIHNwcmluZ2VyPSIxIiwKICAgICAgICBwbGFjZXg9Ik9wZW4gU291cmNlIFN5c3RlbXM6IEdyb3VuZGluZyBSZXNlYXJjaCIsCiAgICApKQonJycpOw==\"));\n",
       "    "
      ],
      "text/plain": [
       "<IPython.core.display.Javascript object>"
      ]
     },
     "metadata": {},
     "output_type": "display_data"
    },
    {
     "data": {
      "application/javascript": [
       "$('span:contains(\"# Temp\")').closest('.cell').remove();"
      ],
      "text/plain": [
       "<IPython.core.display.Javascript object>"
      ]
     },
     "metadata": {},
     "output_type": "display_data"
    },
    {
     "data": {
      "application/javascript": [
       "\n",
       "        $('span:contains(\"# Temp\")').closest('.cell').remove();\n",
       "        var code = IPython.notebook.insert_cell_below('code');\n",
       "        code.set_text(atob(\"IyBUZW1wCmluc2VydCgnJycKICAgIHNjaG5laWRlcjIwMDFhID0gREIoV29ya1VucmVsYXRlZCgKICAgICAgICAyMDAxLCAiRXhwZXJpZW5jZSBNYWduZXRzIEF0dHJhY3RpbmcgRXhwZXJpZW5jZXMsIE5vdCBKdXN0IFN0b3JpbmcgVGhlbSIsCiAgICAgICAgZGlzcGxheT0ic2NobmVpZGVyIiwKICAgICAgICBhdXRob3JzPSJTY2huZWlkZXIsIEt1cnQiLAogICAgICAgIHBsYWNlPVBST0ZFUywKICAgICAgICBwcD0iMTI2LS0xNDAiLAogICAgICAgIGVudHJ5dHlwZT0iaW5wcm9jZWVkaW5ncyIsCiAgICAgICAgZWRpdG9yPSJCb21hcml1cywgRnJhbmsKYW5kIEtvbWktU2lydmn2LCBTZWlqYSIsCiAgICAgICAgcHVibGlzaGVyPSJTcHJpbmdlciBCZXJsaW4gSGVpZGVsYmVyZyIsCiAgICAgICAgYWRkcmVzcz0iQmVybGluLCBIZWlkZWxiZXJnIiwKICAgICAgICBJRD0iMTAuMTAwNy8zLTU0MC00NDgxMy02XzE0IiwKICAgICAgICBzcHJpbmdlcj0iMSIsCiAgICAgICAgcGxhY2V4PSJQcm9kdWN0IEZvY3VzZWQgU29mdHdhcmUgUHJvY2VzcyBJbXByb3ZlbWVudCIsCiAgICApKQonJycpOw==\"));\n",
       "    "
      ],
      "text/plain": [
       "<IPython.core.display.Javascript object>"
      ]
     },
     "metadata": {},
     "output_type": "display_data"
    },
    {
     "data": {
      "application/javascript": [
       "$('span:contains(\"# Temp\")').closest('.cell').remove();"
      ],
      "text/plain": [
       "<IPython.core.display.Javascript object>"
      ]
     },
     "metadata": {},
     "output_type": "display_data"
    },
    {
     "data": {
      "application/javascript": [
       "\n",
       "        $('span:contains(\"# Temp\")').closest('.cell').remove();\n",
       "        var code = IPython.notebook.insert_cell_below('code');\n",
       "        code.set_text(atob(\"IyBUZW1wCmluc2VydCgnJycKICAgIHNjaG5laWRlcjIwMDFhID0gREIoV29ya1VucmVsYXRlZCgKICAgICAgICAyMDAxLCAiRXhwZXJpZW5jZSBNYWduZXRzIEF0dHJhY3RpbmcgRXhwZXJpZW5jZXMsIE5vdCBKdXN0IFN0b3JpbmcgVGhlbSIsCiAgICAgICAgZGlzcGxheT0ic2NobmVpZGVyIiwKICAgICAgICBhdXRob3JzPSJTY2huZWlkZXIsIEt1cnQiLAogICAgICAgIHBsYWNlPVBST0ZFUywKICAgICAgICBwcD0iMTI2LS0xNDAiLAogICAgICAgIGVudHJ5dHlwZT0iaW5wcm9jZWVkaW5ncyIsCiAgICAgICAgZWRpdG9yPSJCb21hcml1cywgRnJhbmsKYW5kIEtvbWktU2lydmn2LCBTZWlqYSIsCiAgICAgICAgcHVibGlzaGVyPSJTcHJpbmdlciBCZXJsaW4gSGVpZGVsYmVyZyIsCiAgICAgICAgYWRkcmVzcz0iQmVybGluLCBIZWlkZWxiZXJnIiwKICAgICAgICBJRD0iMTAuMTAwNy8zLTU0MC00NDgxMy02XzE0IiwKICAgICAgICBzcHJpbmdlcj0iMSIsCiAgICAgICAgcGxhY2V4PSJQcm9kdWN0IEZvY3VzZWQgU29mdHdhcmUgUHJvY2VzcyBJbXByb3ZlbWVudCIsCiAgICApKQonJycpOw==\"));\n",
       "    "
      ],
      "text/plain": [
       "<IPython.core.display.Javascript object>"
      ]
     },
     "metadata": {},
     "output_type": "display_data"
    },
    {
     "data": {
      "application/javascript": [
       "$('span:contains(\"# Temp\")').closest('.cell').remove();"
      ],
      "text/plain": [
       "<IPython.core.display.Javascript object>"
      ]
     },
     "metadata": {},
     "output_type": "display_data"
    },
    {
     "data": {
      "application/javascript": [
       "\n",
       "        $('span:contains(\"# Temp\")').closest('.cell').remove();\n",
       "        var code = IPython.notebook.insert_cell_below('code');\n",
       "        code.set_text(atob(\"IyBUZW1wCmluc2VydCgnJycKICAgIGNvbnJhZGkyMDAwYSA9IERCKFdvcmtVbnJlbGF0ZWQoCiAgICAgICAgMjAwMCwgIlNvZnR3YXJlIEV4cGVyaWVuY2UgQmFzZXM6IEEgQ29uc29saWRhdGVkIEV2YWx1YXRpb24gYW5kIFN0YXR1cyBSZXBvcnQiLAogICAgICAgIGRpc3BsYXk9ImNvbnJhZGkiLAogICAgICAgIGF1dGhvcnM9IkNvbnJhZGksIFJlaWRhcgphbmQgRGluZ3P4eXIsIFRvcmdlaXIiLAogICAgICAgIHBsYWNlPVBST0ZFUywKICAgICAgICBwcD0iMzkxLS00MDYiLAogICAgICAgIGVudHJ5dHlwZT0iaW5wcm9jZWVkaW5ncyIsCiAgICAgICAgZWRpdG9yPSJCb21hcml1cywgRnJhbmsKYW5kIE9pdm8sIE1hcmtrdSIsCiAgICAgICAgcHVibGlzaGVyPSJTcHJpbmdlciBCZXJsaW4gSGVpZGVsYmVyZyIsCiAgICAgICAgYWRkcmVzcz0iQmVybGluLCBIZWlkZWxiZXJnIiwKICAgICAgICBJRD0iMTAuMTAwNy85NzgtMy01NDAtNDUwNTEtMV8zMyIsCiAgICAgICAgc3ByaW5nZXI9IjEiLAogICAgICAgIHBsYWNleD0iUHJvZHVjdCBGb2N1c2VkIFNvZnR3YXJlIFByb2Nlc3MgSW1wcm92ZW1lbnQiLAogICAgKSkKJycnKTs=\"));\n",
       "    "
      ],
      "text/plain": [
       "<IPython.core.display.Javascript object>"
      ]
     },
     "metadata": {},
     "output_type": "display_data"
    },
    {
     "data": {
      "application/javascript": [
       "$('span:contains(\"# Temp\")').closest('.cell').remove();"
      ],
      "text/plain": [
       "<IPython.core.display.Javascript object>"
      ]
     },
     "metadata": {},
     "output_type": "display_data"
    },
    {
     "data": {
      "application/javascript": [
       "\n",
       "        $('span:contains(\"# Temp\")').closest('.cell').remove();\n",
       "        var code = IPython.notebook.insert_cell_below('code');\n",
       "        code.set_text(atob(\"IyBUZW1wCmluc2VydCgnJycKICAgIGNvbnJhZGkyMDAwYSA9IERCKFdvcmtVbnJlbGF0ZWQoCiAgICAgICAgMjAwMCwgIlNvZnR3YXJlIEV4cGVyaWVuY2UgQmFzZXM6IEEgQ29uc29saWRhdGVkIEV2YWx1YXRpb24gYW5kIFN0YXR1cyBSZXBvcnQiLAogICAgICAgIGRpc3BsYXk9ImNvbnJhZGkiLAogICAgICAgIGF1dGhvcnM9IkNvbnJhZGksIFJlaWRhcgphbmQgRGluZ3P4eXIsIFRvcmdlaXIiLAogICAgICAgIHBsYWNlPVBST0ZFUywKICAgICAgICBwcD0iMzkxLS00MDYiLAogICAgICAgIGVudHJ5dHlwZT0iaW5wcm9jZWVkaW5ncyIsCiAgICAgICAgZWRpdG9yPSJCb21hcml1cywgRnJhbmsKYW5kIE9pdm8sIE1hcmtrdSIsCiAgICAgICAgcHVibGlzaGVyPSJTcHJpbmdlciBCZXJsaW4gSGVpZGVsYmVyZyIsCiAgICAgICAgYWRkcmVzcz0iQmVybGluLCBIZWlkZWxiZXJnIiwKICAgICAgICBJRD0iMTAuMTAwNy85NzgtMy01NDAtNDUwNTEtMV8zMyIsCiAgICAgICAgc3ByaW5nZXI9IjEiLAogICAgICAgIHBsYWNleD0iUHJvZHVjdCBGb2N1c2VkIFNvZnR3YXJlIFByb2Nlc3MgSW1wcm92ZW1lbnQiLAogICAgKSkKJycnKTs=\"));\n",
       "    "
      ],
      "text/plain": [
       "<IPython.core.display.Javascript object>"
      ]
     },
     "metadata": {},
     "output_type": "display_data"
    },
    {
     "data": {
      "application/javascript": [
       "$('span:contains(\"# Temp\")').closest('.cell').remove();"
      ],
      "text/plain": [
       "<IPython.core.display.Javascript object>"
      ]
     },
     "metadata": {},
     "output_type": "display_data"
    },
    {
     "data": {
      "application/javascript": [
       "\n",
       "        $('span:contains(\"# Temp\")').closest('.cell').remove();\n",
       "        var code = IPython.notebook.insert_cell_below('code');\n",
       "        code.set_text(atob(\"IyBUZW1wCmluc2VydCgnJycKICAgIGpvbmVzMjAwMmEgPSBEQihXb3JrVW5yZWxhdGVkKAogICAgICAgIDIwMDIsICJUaGUgUHJvY2Vzc2VzIHRvIE1hbmFnZSAoYW5kIE1pbmltaXNlKSB0aGUgSHVtYW4gUmlzayBpbiBDb21wbGV4IFN5c3RlbXMiLAogICAgICAgIGRpc3BsYXk9ImpvbmVzIiwKICAgICAgICBhdXRob3JzPSJKb25lcywgQnJpYW4gU2hlcndvb2QKYW5kIEVhcnRoeSwgSm9uYXRoYW4iLAogICAgICAgIHBsYWNlPUZBS0UsCiAgICAgICAgcHA9IjEwNy0tMTIyIiwKICAgICAgICBlbnRyeXR5cGU9ImlucHJvY2VlZGluZ3MiLAogICAgICAgIGVkaXRvcj0iUmVkbWlsbCwgRmVsaXgKYW5kIEFuZGVyc29uLCBUb20iLAogICAgICAgIHB1Ymxpc2hlcj0iU3ByaW5nZXIgTG9uZG9uIiwKICAgICAgICBhZGRyZXNzPSJMb25kb24iLAogICAgICAgIElEPSIxMC4xMDA3Lzk3OC0xLTQ0NzEtMDE3My00XzciLAogICAgICAgIHNwcmluZ2VyPSIxIiwKICAgICAgICBwbGFjZXg9IkNvbXBvbmVudHMgb2YgU3lzdGVtIFNhZmV0eSIsCiAgICApKQonJycpOw==\"));\n",
       "    "
      ],
      "text/plain": [
       "<IPython.core.display.Javascript object>"
      ]
     },
     "metadata": {},
     "output_type": "display_data"
    },
    {
     "data": {
      "application/javascript": [
       "$('span:contains(\"# Temp\")').closest('.cell').remove();"
      ],
      "text/plain": [
       "<IPython.core.display.Javascript object>"
      ]
     },
     "metadata": {},
     "output_type": "display_data"
    },
    {
     "data": {
      "application/javascript": [
       "\n",
       "        $('span:contains(\"# Temp\")').closest('.cell').remove();\n",
       "        var code = IPython.notebook.insert_cell_below('code');\n",
       "        code.set_text(atob(\"IyBUZW1wCmluc2VydCgnJycKICAgIGpvbmVzMjAwMmEgPSBEQihXb3JrVW5yZWxhdGVkKAogICAgICAgIDIwMDIsICJUaGUgUHJvY2Vzc2VzIHRvIE1hbmFnZSAoYW5kIE1pbmltaXNlKSB0aGUgSHVtYW4gUmlzayBpbiBDb21wbGV4IFN5c3RlbXMiLAogICAgICAgIGRpc3BsYXk9ImpvbmVzIiwKICAgICAgICBhdXRob3JzPSJKb25lcywgQnJpYW4gU2hlcndvb2QKYW5kIEVhcnRoeSwgSm9uYXRoYW4iLAogICAgICAgIHBsYWNlPUZBS0UsCiAgICAgICAgcHA9IjEwNy0tMTIyIiwKICAgICAgICBlbnRyeXR5cGU9ImlucHJvY2VlZGluZ3MiLAogICAgICAgIGVkaXRvcj0iUmVkbWlsbCwgRmVsaXgKYW5kIEFuZGVyc29uLCBUb20iLAogICAgICAgIHB1Ymxpc2hlcj0iU3ByaW5nZXIgTG9uZG9uIiwKICAgICAgICBhZGRyZXNzPSJMb25kb24iLAogICAgICAgIElEPSIxMC4xMDA3Lzk3OC0xLTQ0NzEtMDE3My00XzciLAogICAgICAgIHNwcmluZ2VyPSIxIiwKICAgICAgICBwbGFjZXg9IkNvbXBvbmVudHMgb2YgU3lzdGVtIFNhZmV0eSIsCiAgICApKQonJycpOw==\"));\n",
       "    "
      ],
      "text/plain": [
       "<IPython.core.display.Javascript object>"
      ]
     },
     "metadata": {},
     "output_type": "display_data"
    },
    {
     "data": {
      "application/javascript": [
       "$('span:contains(\"# Temp\")').closest('.cell').remove();"
      ],
      "text/plain": [
       "<IPython.core.display.Javascript object>"
      ]
     },
     "metadata": {},
     "output_type": "display_data"
    },
    {
     "data": {
      "application/javascript": [
       "\n",
       "        $('span:contains(\"# Temp\")').closest('.cell').remove();\n",
       "        var code = IPython.notebook.insert_cell_below('code');\n",
       "        code.set_text(atob(\"IyBUZW1wCmluc2VydCgnJycKICAgIGF5ZGluMjAwMmEgPSBEQihXb3JrVW5yZWxhdGVkKAogICAgICAgIDIwMDIsICJNYWtpbmcgYSBNZXRob2QgV29yayBmb3IgYSBQcm9qZWN0IFNpdHVhdGlvbiBpbiB0aGUgQ29udGV4dCBvZiBDTU0iLAogICAgICAgIGRpc3BsYXk9ImF5ZGluIiwKICAgICAgICBhdXRob3JzPSJBeWRpbiwgTWVobWV0IE4uCmFuZCBIYXJtc2VuLCBGcmFuayIsCiAgICAgICAgcGxhY2U9UFJPRkVTLAogICAgICAgIHBwPSIxNTgtLTE3MSIsCiAgICAgICAgZW50cnl0eXBlPSJpbnByb2NlZWRpbmdzIiwKICAgICAgICBlZGl0b3I9Ik9pdm8sIE1hcmtrdQphbmQgS29taS1TaXJ2afYsIFNlaWphIiwKICAgICAgICBwdWJsaXNoZXI9IlNwcmluZ2VyIEJlcmxpbiBIZWlkZWxiZXJnIiwKICAgICAgICBhZGRyZXNzPSJCZXJsaW4sIEhlaWRlbGJlcmciLAogICAgICAgIElEPSIxMC4xMDA3LzMtNTQwLTM2MjA5LTZfMTUiLAogICAgICAgIHNwcmluZ2VyPSIxIiwKICAgICAgICBwbGFjZXg9IlByb2R1Y3QgRm9jdXNlZCBTb2Z0d2FyZSBQcm9jZXNzIEltcHJvdmVtZW50IiwKICAgICkpCicnJyk7\"));\n",
       "    "
      ],
      "text/plain": [
       "<IPython.core.display.Javascript object>"
      ]
     },
     "metadata": {},
     "output_type": "display_data"
    },
    {
     "data": {
      "application/javascript": [
       "$('span:contains(\"# Temp\")').closest('.cell').remove();"
      ],
      "text/plain": [
       "<IPython.core.display.Javascript object>"
      ]
     },
     "metadata": {},
     "output_type": "display_data"
    },
    {
     "data": {
      "application/javascript": [
       "\n",
       "        $('span:contains(\"# Temp\")').closest('.cell').remove();\n",
       "        var code = IPython.notebook.insert_cell_below('code');\n",
       "        code.set_text(atob(\"IyBUZW1wCmluc2VydCgnJycKICAgIGF5ZGluMjAwMmEgPSBEQihXb3JrVW5yZWxhdGVkKAogICAgICAgIDIwMDIsICJNYWtpbmcgYSBNZXRob2QgV29yayBmb3IgYSBQcm9qZWN0IFNpdHVhdGlvbiBpbiB0aGUgQ29udGV4dCBvZiBDTU0iLAogICAgICAgIGRpc3BsYXk9ImF5ZGluIiwKICAgICAgICBhdXRob3JzPSJBeWRpbiwgTWVobWV0IE4uCmFuZCBIYXJtc2VuLCBGcmFuayIsCiAgICAgICAgcGxhY2U9UFJPRkVTLAogICAgICAgIHBwPSIxNTgtLTE3MSIsCiAgICAgICAgZW50cnl0eXBlPSJpbnByb2NlZWRpbmdzIiwKICAgICAgICBlZGl0b3I9Ik9pdm8sIE1hcmtrdQphbmQgS29taS1TaXJ2afYsIFNlaWphIiwKICAgICAgICBwdWJsaXNoZXI9IlNwcmluZ2VyIEJlcmxpbiBIZWlkZWxiZXJnIiwKICAgICAgICBhZGRyZXNzPSJCZXJsaW4sIEhlaWRlbGJlcmciLAogICAgICAgIElEPSIxMC4xMDA3LzMtNTQwLTM2MjA5LTZfMTUiLAogICAgICAgIHNwcmluZ2VyPSIxIiwKICAgICAgICBwbGFjZXg9IlByb2R1Y3QgRm9jdXNlZCBTb2Z0d2FyZSBQcm9jZXNzIEltcHJvdmVtZW50IiwKICAgICkpCicnJyk7\"));\n",
       "    "
      ],
      "text/plain": [
       "<IPython.core.display.Javascript object>"
      ]
     },
     "metadata": {},
     "output_type": "display_data"
    },
    {
     "data": {
      "application/javascript": [
       "$('span:contains(\"# Temp\")').closest('.cell').remove();"
      ],
      "text/plain": [
       "<IPython.core.display.Javascript object>"
      ]
     },
     "metadata": {},
     "output_type": "display_data"
    },
    {
     "data": {
      "application/javascript": [
       "\n",
       "        $('span:contains(\"# Temp\")').closest('.cell').remove();\n",
       "        var code = IPython.notebook.insert_cell_below('code');\n",
       "        code.set_text(atob(\"IyBUZW1wCmluc2VydCgnJycKY2hyaXN0aWUxOTk1YSA9IERCKFdvcmtVbnJlbGF0ZWQoCiAgICAxOTk1LCAiVGhlIEFwcGxpY2F0aW9uIG9mIFByb2Nlc3MtQ2VudGVyZWQgRW52aXJvbm1lbnRzIiwKICAgIGRpc3BsYXk9ImNocmlzdGllIiwKICAgIGF1dGhvcnM9IkNocmlzdGllLCBBbGFuIE0uIiwKICAgIHBsYWNlPUZBS0UsCiAgICBwcD0iMTI3LS0xNTAiLAogICAgZW50cnl0eXBlPSJpbmJvb2siLAogICAgcHVibGlzaGVyPSJTcHJpbmdlciBCZXJsaW4gSGVpZGVsYmVyZyIsCiAgICBhZGRyZXNzPSJCZXJsaW4sIEhlaWRlbGJlcmciLAogICAgSUQ9IkNocmlzdGllMTk5NSIsCiAgICBzcHJpbmdlcj0iMSIsCiAgICBwbGFjZXg9IlNvZnR3YXJlIFByb2Nlc3MgQXV0b21hdGlvbjogVGhlIFRlY2hub2xvZ3kgYW5kIEl0cyBBZG9wdGlvbiIsCikpCicnJyk7\"));\n",
       "    "
      ],
      "text/plain": [
       "<IPython.core.display.Javascript object>"
      ]
     },
     "metadata": {},
     "output_type": "display_data"
    },
    {
     "data": {
      "application/javascript": [
       "$('span:contains(\"# Temp\")').closest('.cell').remove();"
      ],
      "text/plain": [
       "<IPython.core.display.Javascript object>"
      ]
     },
     "metadata": {},
     "output_type": "display_data"
    },
    {
     "data": {
      "application/javascript": [
       "\n",
       "        $('span:contains(\"# Temp\")').closest('.cell').remove();\n",
       "        var code = IPython.notebook.insert_cell_below('code');\n",
       "        code.set_text(atob(\"IyBUZW1wCmluc2VydCgnJycKY2hyaXN0aWUxOTk1YSA9IERCKFdvcmtVbnJlbGF0ZWQoCiAgICAxOTk1LCAiVGhlIEFwcGxpY2F0aW9uIG9mIFByb2Nlc3MtQ2VudGVyZWQgRW52aXJvbm1lbnRzIiwKICAgIGRpc3BsYXk9ImNocmlzdGllIiwKICAgIGF1dGhvcnM9IkNocmlzdGllLCBBbGFuIE0uIiwKICAgIHBsYWNlPUZBS0UsCiAgICBwcD0iMTI3LS0xNTAiLAogICAgZW50cnl0eXBlPSJpbmJvb2siLAogICAgcHVibGlzaGVyPSJTcHJpbmdlciBCZXJsaW4gSGVpZGVsYmVyZyIsCiAgICBhZGRyZXNzPSJCZXJsaW4sIEhlaWRlbGJlcmciLAogICAgSUQ9IkNocmlzdGllMTk5NSIsCiAgICBzcHJpbmdlcj0iMSIsCiAgICBwbGFjZXg9IlNvZnR3YXJlIFByb2Nlc3MgQXV0b21hdGlvbjogVGhlIFRlY2hub2xvZ3kgYW5kIEl0cyBBZG9wdGlvbiIsCikpCicnJyk7\"));\n",
       "    "
      ],
      "text/plain": [
       "<IPython.core.display.Javascript object>"
      ]
     },
     "metadata": {},
     "output_type": "display_data"
    },
    {
     "data": {
      "application/javascript": [
       "$('span:contains(\"# Temp\")').closest('.cell').remove();"
      ],
      "text/plain": [
       "<IPython.core.display.Javascript object>"
      ]
     },
     "metadata": {},
     "output_type": "display_data"
    },
    {
     "data": {
      "application/javascript": [
       "\n",
       "        $('span:contains(\"# Temp\")').closest('.cell').remove();\n",
       "        var code = IPython.notebook.insert_cell_below('code');\n",
       "        code.set_text(atob(\"IyBUZW1wCmluc2VydCgnJycKICAgIGNhbmZvcmEyMDAyYSA9IERCKFdvcmtVbnJlbGF0ZWQoCiAgICAgICAgMjAwMiwgIkZyb20gS25vd2xlZGdlIE1hbmFnZW1lbnQgQ29uY2VwdHMgdG93YXJkIFNvZnR3YXJlIEVuZ2luZWVyaW5nIFByYWN0aWNlcyIsCiAgICAgICAgZGlzcGxheT0iY2FuZm9yYSIsCiAgICAgICAgYXV0aG9ycz0iQ2FuZm9yYSwgR2VyYXJkbwphbmQgQ2ltaXRpbGUsIEFuaWVsbG8KYW5kIEFhcm9uIFZpc2FnZ2lvLCBDb3JyYWRvIiwKICAgICAgICBwbGFjZT1QUk9GRVMsCiAgICAgICAgcHA9IjQwNy0tNDIyIiwKICAgICAgICBlbnRyeXR5cGU9ImlucHJvY2VlZGluZ3MiLAogICAgICAgIGVkaXRvcj0iT2l2bywgTWFya2t1CmFuZCBLb21pLVNpcnZp9iwgU2VpamEiLAogICAgICAgIHB1Ymxpc2hlcj0iU3ByaW5nZXIgQmVybGluIEhlaWRlbGJlcmciLAogICAgICAgIGFkZHJlc3M9IkJlcmxpbiwgSGVpZGVsYmVyZyIsCiAgICAgICAgSUQ9IjEwLjEwMDcvMy01NDAtMzYyMDktNl8zNCIsCiAgICAgICAgc3ByaW5nZXI9IjEiLAogICAgICAgIHBsYWNleD0iUHJvZHVjdCBGb2N1c2VkIFNvZnR3YXJlIFByb2Nlc3MgSW1wcm92ZW1lbnQiLAogICAgKSkKJycnKTs=\"));\n",
       "    "
      ],
      "text/plain": [
       "<IPython.core.display.Javascript object>"
      ]
     },
     "metadata": {},
     "output_type": "display_data"
    },
    {
     "data": {
      "application/javascript": [
       "$('span:contains(\"# Temp\")').closest('.cell').remove();"
      ],
      "text/plain": [
       "<IPython.core.display.Javascript object>"
      ]
     },
     "metadata": {},
     "output_type": "display_data"
    },
    {
     "data": {
      "application/javascript": [
       "\n",
       "        $('span:contains(\"# Temp\")').closest('.cell').remove();\n",
       "        var code = IPython.notebook.insert_cell_below('code');\n",
       "        code.set_text(atob(\"IyBUZW1wCmluc2VydCgnJycKICAgIGNhbmZvcmEyMDAyYSA9IERCKFdvcmtVbnJlbGF0ZWQoCiAgICAgICAgMjAwMiwgIkZyb20gS25vd2xlZGdlIE1hbmFnZW1lbnQgQ29uY2VwdHMgdG93YXJkIFNvZnR3YXJlIEVuZ2luZWVyaW5nIFByYWN0aWNlcyIsCiAgICAgICAgZGlzcGxheT0iY2FuZm9yYSIsCiAgICAgICAgYXV0aG9ycz0iQ2FuZm9yYSwgR2VyYXJkbwphbmQgQ2ltaXRpbGUsIEFuaWVsbG8KYW5kIEFhcm9uIFZpc2FnZ2lvLCBDb3JyYWRvIiwKICAgICAgICBwbGFjZT1QUk9GRVMsCiAgICAgICAgcHA9IjQwNy0tNDIyIiwKICAgICAgICBlbnRyeXR5cGU9ImlucHJvY2VlZGluZ3MiLAogICAgICAgIGVkaXRvcj0iT2l2bywgTWFya2t1CmFuZCBLb21pLVNpcnZp9iwgU2VpamEiLAogICAgICAgIHB1Ymxpc2hlcj0iU3ByaW5nZXIgQmVybGluIEhlaWRlbGJlcmciLAogICAgICAgIGFkZHJlc3M9IkJlcmxpbiwgSGVpZGVsYmVyZyIsCiAgICAgICAgSUQ9IjEwLjEwMDcvMy01NDAtMzYyMDktNl8zNCIsCiAgICAgICAgc3ByaW5nZXI9IjEiLAogICAgICAgIHBsYWNleD0iUHJvZHVjdCBGb2N1c2VkIFNvZnR3YXJlIFByb2Nlc3MgSW1wcm92ZW1lbnQiLAogICAgKSkKJycnKTs=\"));\n",
       "    "
      ],
      "text/plain": [
       "<IPython.core.display.Javascript object>"
      ]
     },
     "metadata": {},
     "output_type": "display_data"
    },
    {
     "data": {
      "application/javascript": [
       "$('span:contains(\"# Temp\")').closest('.cell').remove();"
      ],
      "text/plain": [
       "<IPython.core.display.Javascript object>"
      ]
     },
     "metadata": {},
     "output_type": "display_data"
    },
    {
     "data": {
      "application/javascript": [
       "\n",
       "        $('span:contains(\"# Temp\")').closest('.cell').remove();\n",
       "        var code = IPython.notebook.insert_cell_below('code');\n",
       "        code.set_text(atob(\"IyBUZW1wCmluc2VydCgnJycKICAgIGxhcnNzb24yMDA0YSA9IERCKFdvcmtVbnJlbGF0ZWQoCiAgICAgICAgMjAwNCwgIlNlbGVjdGluZyBDTU1JIEFwcHJhaXNhbCBDbGFzc2VzIEJhc2VkIG9uIE1hdHVyaXR5IGFuZCBPcGVubmVzcyIsCiAgICAgICAgZGlzcGxheT0ibGFyc3NvbiIsCiAgICAgICAgYXV0aG9ycz0iTGFyc3NvbiwgU3RpZwphbmQgRWtkYWhsLCBGcmVkcmlrIiwKICAgICAgICBwbGFjZT1QUk9GRVMsCiAgICAgICAgcHA9IjQ1Ny0tNDcwIiwKICAgICAgICBlbnRyeXR5cGU9ImlucHJvY2VlZGluZ3MiLAogICAgICAgIGVkaXRvcj0iQm9tYXJpdXMsIEZyYW5rCmFuZCBJaWRhLCBIYWppbXUiLAogICAgICAgIHB1Ymxpc2hlcj0iU3ByaW5nZXIgQmVybGluIEhlaWRlbGJlcmciLAogICAgICAgIGFkZHJlc3M9IkJlcmxpbiwgSGVpZGVsYmVyZyIsCiAgICAgICAgSUQ9IjEwLjEwMDcvOTc4LTMtNTQwLTI0NjU5LTZfMzMiLAogICAgICAgIHNwcmluZ2VyPSIxIiwKICAgICAgICBwbGFjZXg9IlByb2R1Y3QgRm9jdXNlZCBTb2Z0d2FyZSBQcm9jZXNzIEltcHJvdmVtZW50IiwKICAgICkpCicnJyk7\"));\n",
       "    "
      ],
      "text/plain": [
       "<IPython.core.display.Javascript object>"
      ]
     },
     "metadata": {},
     "output_type": "display_data"
    },
    {
     "data": {
      "application/javascript": [
       "$('span:contains(\"# Temp\")').closest('.cell').remove();"
      ],
      "text/plain": [
       "<IPython.core.display.Javascript object>"
      ]
     },
     "metadata": {},
     "output_type": "display_data"
    },
    {
     "data": {
      "application/javascript": [
       "\n",
       "        $('span:contains(\"# Temp\")').closest('.cell').remove();\n",
       "        var code = IPython.notebook.insert_cell_below('code');\n",
       "        code.set_text(atob(\"IyBUZW1wCmluc2VydCgnJycKICAgIGxhcnNzb24yMDA0YSA9IERCKFdvcmtVbnJlbGF0ZWQoCiAgICAgICAgMjAwNCwgIlNlbGVjdGluZyBDTU1JIEFwcHJhaXNhbCBDbGFzc2VzIEJhc2VkIG9uIE1hdHVyaXR5IGFuZCBPcGVubmVzcyIsCiAgICAgICAgZGlzcGxheT0ibGFyc3NvbiIsCiAgICAgICAgYXV0aG9ycz0iTGFyc3NvbiwgU3RpZwphbmQgRWtkYWhsLCBGcmVkcmlrIiwKICAgICAgICBwbGFjZT1QUk9GRVMsCiAgICAgICAgcHA9IjQ1Ny0tNDcwIiwKICAgICAgICBlbnRyeXR5cGU9ImlucHJvY2VlZGluZ3MiLAogICAgICAgIGVkaXRvcj0iQm9tYXJpdXMsIEZyYW5rCmFuZCBJaWRhLCBIYWppbXUiLAogICAgICAgIHB1Ymxpc2hlcj0iU3ByaW5nZXIgQmVybGluIEhlaWRlbGJlcmciLAogICAgICAgIGFkZHJlc3M9IkJlcmxpbiwgSGVpZGVsYmVyZyIsCiAgICAgICAgSUQ9IjEwLjEwMDcvOTc4LTMtNTQwLTI0NjU5LTZfMzMiLAogICAgICAgIHNwcmluZ2VyPSIxIiwKICAgICAgICBwbGFjZXg9IlByb2R1Y3QgRm9jdXNlZCBTb2Z0d2FyZSBQcm9jZXNzIEltcHJvdmVtZW50IiwKICAgICkpCicnJyk7\"));\n",
       "    "
      ],
      "text/plain": [
       "<IPython.core.display.Javascript object>"
      ]
     },
     "metadata": {},
     "output_type": "display_data"
    },
    {
     "data": {
      "application/javascript": [
       "$('span:contains(\"# Temp\")').closest('.cell').remove();"
      ],
      "text/plain": [
       "<IPython.core.display.Javascript object>"
      ]
     },
     "metadata": {},
     "output_type": "display_data"
    },
    {
     "data": {
      "application/javascript": [
       "\n",
       "        $('span:contains(\"# Temp\")').closest('.cell').remove();\n",
       "        var code = IPython.notebook.insert_cell_below('code');\n",
       "        code.set_text(atob(\"IyBUZW1wCmluc2VydCgnJycKbzIwMDJhID0gREIoV29ya1VucmVsYXRlZCgKICAgIDIwMDIsICJJbnRyb2R1Y3Rpb24gdG8gU29mdHdhcmUgUXVhbGl0eSIsCiAgICBkaXNwbGF5PSJvIiwKICAgIGF1dGhvcnM9Ik8nUmVnYW4sIEdlcmFyZCIsCiAgICBwbGFjZT1GQUtFLAogICAgcHA9IjEtLTQ4IiwKICAgIGVudHJ5dHlwZT0iaW5ib29rIiwKICAgIHB1Ymxpc2hlcj0iU3ByaW5nZXIgTmV3IFlvcmsiLAogICAgYWRkcmVzcz0iTmV3IFlvcmssIE5ZIiwKICAgIElEPSJPklJlZ2FuMjAwMiIsCiAgICBzcHJpbmdlcj0iMSIsCiAgICBwbGFjZXg9IkEgUHJhY3RpY2FsIEFwcHJvYWNoIHRvIFNvZnR3YXJlIFF1YWxpdHkiLAopKQonJycpOw==\"));\n",
       "    "
      ],
      "text/plain": [
       "<IPython.core.display.Javascript object>"
      ]
     },
     "metadata": {},
     "output_type": "display_data"
    },
    {
     "data": {
      "application/javascript": [
       "$('span:contains(\"# Temp\")').closest('.cell').remove();"
      ],
      "text/plain": [
       "<IPython.core.display.Javascript object>"
      ]
     },
     "metadata": {},
     "output_type": "display_data"
    },
    {
     "data": {
      "application/javascript": [
       "\n",
       "        $('span:contains(\"# Temp\")').closest('.cell').remove();\n",
       "        var code = IPython.notebook.insert_cell_below('code');\n",
       "        code.set_text(atob(\"IyBUZW1wCmluc2VydCgnJycKbzIwMDJhID0gREIoV29ya1VucmVsYXRlZCgKICAgIDIwMDIsICJJbnRyb2R1Y3Rpb24gdG8gU29mdHdhcmUgUXVhbGl0eSIsCiAgICBkaXNwbGF5PSJvIiwKICAgIGF1dGhvcnM9Ik8nUmVnYW4sIEdlcmFyZCIsCiAgICBwbGFjZT1GQUtFLAogICAgcHA9IjEtLTQ4IiwKICAgIGVudHJ5dHlwZT0iaW5ib29rIiwKICAgIHB1Ymxpc2hlcj0iU3ByaW5nZXIgTmV3IFlvcmsiLAogICAgYWRkcmVzcz0iTmV3IFlvcmssIE5ZIiwKICAgIElEPSJPklJlZ2FuMjAwMiIsCiAgICBzcHJpbmdlcj0iMSIsCiAgICBwbGFjZXg9IkEgUHJhY3RpY2FsIEFwcHJvYWNoIHRvIFNvZnR3YXJlIFF1YWxpdHkiLAopKQonJycpOw==\"));\n",
       "    "
      ],
      "text/plain": [
       "<IPython.core.display.Javascript object>"
      ]
     },
     "metadata": {},
     "output_type": "display_data"
    },
    {
     "data": {
      "application/javascript": [
       "$('span:contains(\"# Temp\")').closest('.cell').remove();"
      ],
      "text/plain": [
       "<IPython.core.display.Javascript object>"
      ]
     },
     "metadata": {},
     "output_type": "display_data"
    },
    {
     "data": {
      "application/javascript": [
       "\n",
       "        $('span:contains(\"# Temp\")').closest('.cell').remove();\n",
       "        var code = IPython.notebook.insert_cell_below('code');\n",
       "        code.set_text(atob(\"IyBUZW1wCmluc2VydCgnJycKICAgIHJhbWlsMTk5OGEgPSBEQihXb3JrVW5yZWxhdGVkKAogICAgICAgIDE5OTgsICJGdXp6eSBkeW5hbWljcyBpbiBzb2Z0d2FyZSBwcm9qZWN0IHNpbXVsYXRpb24gYW5kIHN1cHBvcnQiLAogICAgICAgIGRpc3BsYXk9InJhbWlsIiwKICAgICAgICBhdXRob3JzPSJGZXJu4W5kZXogUmFtaWwsIEouCmFuZCBMZWhtYW4sIE0uIE0uIiwKICAgICAgICBwbGFjZT1GQUtFLAogICAgICAgIHBwPSIxMjItLTEyNiIsCiAgICAgICAgZW50cnl0eXBlPSJpbnByb2NlZWRpbmdzIiwKICAgICAgICBlZGl0b3I9IkdydWhuLCBWb2xrZXIiLAogICAgICAgIHB1Ymxpc2hlcj0iU3ByaW5nZXIgQmVybGluIEhlaWRlbGJlcmciLAogICAgICAgIGFkZHJlc3M9IkJlcmxpbiwgSGVpZGVsYmVyZyIsCiAgICAgICAgSUQ9IjEwLjEwMDcvMy01NDAtNjQ5NTYtNV8xMiIsCiAgICAgICAgc3ByaW5nZXI9IjEiLAogICAgICAgIHBsYWNleD0iU29mdHdhcmUgUHJvY2VzcyBUZWNobm9sb2d5IiwKICAgICkpCicnJyk7\"));\n",
       "    "
      ],
      "text/plain": [
       "<IPython.core.display.Javascript object>"
      ]
     },
     "metadata": {},
     "output_type": "display_data"
    },
    {
     "data": {
      "application/javascript": [
       "$('span:contains(\"# Temp\")').closest('.cell').remove();"
      ],
      "text/plain": [
       "<IPython.core.display.Javascript object>"
      ]
     },
     "metadata": {},
     "output_type": "display_data"
    },
    {
     "data": {
      "application/javascript": [
       "\n",
       "        $('span:contains(\"# Temp\")').closest('.cell').remove();\n",
       "        var code = IPython.notebook.insert_cell_below('code');\n",
       "        code.set_text(atob(\"IyBUZW1wCmluc2VydCgnJycKICAgIHJhbWlsMTk5OGEgPSBEQihXb3JrVW5yZWxhdGVkKAogICAgICAgIDE5OTgsICJGdXp6eSBkeW5hbWljcyBpbiBzb2Z0d2FyZSBwcm9qZWN0IHNpbXVsYXRpb24gYW5kIHN1cHBvcnQiLAogICAgICAgIGRpc3BsYXk9InJhbWlsIiwKICAgICAgICBhdXRob3JzPSJGZXJu4W5kZXogUmFtaWwsIEouCmFuZCBMZWhtYW4sIE0uIE0uIiwKICAgICAgICBwbGFjZT1GQUtFLAogICAgICAgIHBwPSIxMjItLTEyNiIsCiAgICAgICAgZW50cnl0eXBlPSJpbnByb2NlZWRpbmdzIiwKICAgICAgICBlZGl0b3I9IkdydWhuLCBWb2xrZXIiLAogICAgICAgIHB1Ymxpc2hlcj0iU3ByaW5nZXIgQmVybGluIEhlaWRlbGJlcmciLAogICAgICAgIGFkZHJlc3M9IkJlcmxpbiwgSGVpZGVsYmVyZyIsCiAgICAgICAgSUQ9IjEwLjEwMDcvMy01NDAtNjQ5NTYtNV8xMiIsCiAgICAgICAgc3ByaW5nZXI9IjEiLAogICAgICAgIHBsYWNleD0iU29mdHdhcmUgUHJvY2VzcyBUZWNobm9sb2d5IiwKICAgICkpCicnJyk7\"));\n",
       "    "
      ],
      "text/plain": [
       "<IPython.core.display.Javascript object>"
      ]
     },
     "metadata": {},
     "output_type": "display_data"
    },
    {
     "data": {
      "application/javascript": [
       "$('span:contains(\"# Temp\")').closest('.cell').remove();"
      ],
      "text/plain": [
       "<IPython.core.display.Javascript object>"
      ]
     },
     "metadata": {},
     "output_type": "display_data"
    },
    {
     "data": {
      "application/javascript": [
       "\n",
       "        $('span:contains(\"# Temp\")').closest('.cell').remove();\n",
       "        var code = IPython.notebook.insert_cell_below('code');\n",
       "        code.set_text(atob(\"IyBUZW1wCmluc2VydCgnJycKICAgIGhlbm5pbmdlcjIwMDNhID0gREIoV29ya1VucmVsYXRlZCgKICAgICAgICAyMDAzLCAiVG9vbCBTdXBwb3J0IGZvciBFeHBlcmllbmNlLUJhc2VkIE1ldGhvZG9sb2dpZXMiLAogICAgICAgIGRpc3BsYXk9Imhlbm5pbmdlciIsCiAgICAgICAgYXV0aG9ycz0iSGVubmluZ2VyLCBTY290dCIsCiAgICAgICAgcGxhY2U9RkFLRSwKICAgICAgICBwcD0iNDQtLTU5IiwKICAgICAgICBlbnRyeXR5cGU9ImlucHJvY2VlZGluZ3MiLAogICAgICAgIGVkaXRvcj0iSGVubmluZ2VyLCBTY290dAphbmQgTWF1cmVyLCBGcmFuayIsCiAgICAgICAgcHVibGlzaGVyPSJTcHJpbmdlciBCZXJsaW4gSGVpZGVsYmVyZyIsCiAgICAgICAgYWRkcmVzcz0iQmVybGluLCBIZWlkZWxiZXJnIiwKICAgICAgICBJRD0iMTAuMTAwNy85NzgtMy01NDAtNDAwNTItM182IiwKICAgICAgICBzcHJpbmdlcj0iMSIsCiAgICAgICAgcGxhY2V4PSJBZHZhbmNlcyBpbiBMZWFybmluZyBTb2Z0d2FyZSBPcmdhbml6YXRpb25zIiwKICAgICkpCicnJyk7\"));\n",
       "    "
      ],
      "text/plain": [
       "<IPython.core.display.Javascript object>"
      ]
     },
     "metadata": {},
     "output_type": "display_data"
    },
    {
     "data": {
      "application/javascript": [
       "$('span:contains(\"# Temp\")').closest('.cell').remove();"
      ],
      "text/plain": [
       "<IPython.core.display.Javascript object>"
      ]
     },
     "metadata": {},
     "output_type": "display_data"
    },
    {
     "data": {
      "application/javascript": [
       "\n",
       "        $('span:contains(\"# Temp\")').closest('.cell').remove();\n",
       "        var code = IPython.notebook.insert_cell_below('code');\n",
       "        code.set_text(atob(\"IyBUZW1wCmluc2VydCgnJycKICAgIGhlbm5pbmdlcjIwMDNhID0gREIoV29ya1VucmVsYXRlZCgKICAgICAgICAyMDAzLCAiVG9vbCBTdXBwb3J0IGZvciBFeHBlcmllbmNlLUJhc2VkIE1ldGhvZG9sb2dpZXMiLAogICAgICAgIGRpc3BsYXk9Imhlbm5pbmdlciIsCiAgICAgICAgYXV0aG9ycz0iSGVubmluZ2VyLCBTY290dCIsCiAgICAgICAgcGxhY2U9RkFLRSwKICAgICAgICBwcD0iNDQtLTU5IiwKICAgICAgICBlbnRyeXR5cGU9ImlucHJvY2VlZGluZ3MiLAogICAgICAgIGVkaXRvcj0iSGVubmluZ2VyLCBTY290dAphbmQgTWF1cmVyLCBGcmFuayIsCiAgICAgICAgcHVibGlzaGVyPSJTcHJpbmdlciBCZXJsaW4gSGVpZGVsYmVyZyIsCiAgICAgICAgYWRkcmVzcz0iQmVybGluLCBIZWlkZWxiZXJnIiwKICAgICAgICBJRD0iMTAuMTAwNy85NzgtMy01NDAtNDAwNTItM182IiwKICAgICAgICBzcHJpbmdlcj0iMSIsCiAgICAgICAgcGxhY2V4PSJBZHZhbmNlcyBpbiBMZWFybmluZyBTb2Z0d2FyZSBPcmdhbml6YXRpb25zIiwKICAgICkpCicnJyk7\"));\n",
       "    "
      ],
      "text/plain": [
       "<IPython.core.display.Javascript object>"
      ]
     },
     "metadata": {},
     "output_type": "display_data"
    },
    {
     "data": {
      "application/javascript": [
       "$('span:contains(\"# Temp\")').closest('.cell').remove();"
      ],
      "text/plain": [
       "<IPython.core.display.Javascript object>"
      ]
     },
     "metadata": {},
     "output_type": "display_data"
    },
    {
     "data": {
      "application/javascript": [
       "\n",
       "        $('span:contains(\"# Temp\")').closest('.cell').remove();\n",
       "        var code = IPython.notebook.insert_cell_below('code');\n",
       "        code.set_text(atob(\"IyBUZW1wCmluc2VydCgnJycKICAgIGNhbXBhbmFpMTk5NWEgPSBEQihXb3JrVW5yZWxhdGVkKAogICAgICAgIDE5OTUsICJRdWFsaXR5IGVzdGltYXRpb24gb2Ygc29mdHdhcmUgYXBwbGljYXRpb25zIGZvciBiYW5raW5nIiwKICAgICAgICBkaXNwbGF5PSJjYW1wYW5haSIsCiAgICAgICAgYXV0aG9ycz0iQ2FtcGFuYWksIE0uCmFuZCBGZXJyZXR0aSwgRS4KYW5kIFZhbG9yaSwgVi4iLAogICAgICAgIHBsYWNlPUZBS0UsCiAgICAgICAgcHA9IjY0LS03NyIsCiAgICAgICAgZW50cnl0eXBlPSJpbnByb2NlZWRpbmdzIiwKICAgICAgICBlZGl0b3I9Ik5lc2ksIFBhb2xvIiwKICAgICAgICBwdWJsaXNoZXI9IlNwcmluZ2VyIEJlcmxpbiBIZWlkZWxiZXJnIiwKICAgICAgICBhZGRyZXNzPSJCZXJsaW4sIEhlaWRlbGJlcmciLAogICAgICAgIElEPSIxMC4xMDA3LzMtNTQwLTU5NDQ5LTNfMjQiLAogICAgICAgIHNwcmluZ2VyPSIxIiwKICAgICAgICBwbGFjZXg9Ik9iamVjdGl2ZSBTb2Z0d2FyZSBRdWFsaXR5IiwKICAgICkpCicnJyk7\"));\n",
       "    "
      ],
      "text/plain": [
       "<IPython.core.display.Javascript object>"
      ]
     },
     "metadata": {},
     "output_type": "display_data"
    },
    {
     "data": {
      "application/javascript": [
       "$('span:contains(\"# Temp\")').closest('.cell').remove();"
      ],
      "text/plain": [
       "<IPython.core.display.Javascript object>"
      ]
     },
     "metadata": {},
     "output_type": "display_data"
    },
    {
     "data": {
      "application/javascript": [
       "\n",
       "        $('span:contains(\"# Temp\")').closest('.cell').remove();\n",
       "        var code = IPython.notebook.insert_cell_below('code');\n",
       "        code.set_text(atob(\"IyBUZW1wCmluc2VydCgnJycKICAgIGNhbXBhbmFpMTk5NWEgPSBEQihXb3JrVW5yZWxhdGVkKAogICAgICAgIDE5OTUsICJRdWFsaXR5IGVzdGltYXRpb24gb2Ygc29mdHdhcmUgYXBwbGljYXRpb25zIGZvciBiYW5raW5nIiwKICAgICAgICBkaXNwbGF5PSJjYW1wYW5haSIsCiAgICAgICAgYXV0aG9ycz0iQ2FtcGFuYWksIE0uCmFuZCBGZXJyZXR0aSwgRS4KYW5kIFZhbG9yaSwgVi4iLAogICAgICAgIHBsYWNlPUZBS0UsCiAgICAgICAgcHA9IjY0LS03NyIsCiAgICAgICAgZW50cnl0eXBlPSJpbnByb2NlZWRpbmdzIiwKICAgICAgICBlZGl0b3I9Ik5lc2ksIFBhb2xvIiwKICAgICAgICBwdWJsaXNoZXI9IlNwcmluZ2VyIEJlcmxpbiBIZWlkZWxiZXJnIiwKICAgICAgICBhZGRyZXNzPSJCZXJsaW4sIEhlaWRlbGJlcmciLAogICAgICAgIElEPSIxMC4xMDA3LzMtNTQwLTU5NDQ5LTNfMjQiLAogICAgICAgIHNwcmluZ2VyPSIxIiwKICAgICAgICBwbGFjZXg9Ik9iamVjdGl2ZSBTb2Z0d2FyZSBRdWFsaXR5IiwKICAgICkpCicnJyk7\"));\n",
       "    "
      ],
      "text/plain": [
       "<IPython.core.display.Javascript object>"
      ]
     },
     "metadata": {},
     "output_type": "display_data"
    },
    {
     "data": {
      "application/javascript": [
       "$('span:contains(\"# Temp\")').closest('.cell').remove();"
      ],
      "text/plain": [
       "<IPython.core.display.Javascript object>"
      ]
     },
     "metadata": {},
     "output_type": "display_data"
    },
    {
     "data": {
      "application/javascript": [
       "\n",
       "        $('span:contains(\"# Temp\")').closest('.cell').remove();\n",
       "        var code = IPython.notebook.insert_cell_below('code');\n",
       "        code.set_text(atob(\"IyBUZW1wCmluc2VydCgnJycKICAgIGhhbnNlbjIwMDRiID0gREIoV29ya1VucmVsYXRlZCgKICAgICAgICAyMDA0LCAiS25vd2xlZGdlIE1hcHBpbmc6IEEgVGVjaG5pcXVlIGZvciBJZGVudGlmeWluZyBLbm93bGVkZ2UgRmxvd3MgaW4gU29mdHdhcmUgT3JnYW5pc2F0aW9ucyIsCiAgICAgICAgZGlzcGxheT0iaGFuc2VuIGIiLAogICAgICAgIGF1dGhvcnM9IkhhbnNlbiwgQm8gSGFuc2VuCmFuZCBLYXV0eiwgS2FybGhlaW56IiwKICAgICAgICBwbGFjZT1TUElQLAogICAgICAgIHBwPSIxMjYtLTEzNyIsCiAgICAgICAgZW50cnl0eXBlPSJpbnByb2NlZWRpbmdzIiwKICAgICAgICBlZGl0b3I9IkRpbmdz+HlyLCBUb3JnZWlyIiwKICAgICAgICBwdWJsaXNoZXI9IlNwcmluZ2VyIEJlcmxpbiBIZWlkZWxiZXJnIiwKICAgICAgICBhZGRyZXNzPSJCZXJsaW4sIEhlaWRlbGJlcmciLAogICAgICAgIElEPSIxMC4xMDA3Lzk3OC0zLTU0MC0zMDE4MS0zXzEyIiwKICAgICAgICBzcHJpbmdlcj0iMSIsCiAgICAgICAgcGxhY2V4PSJTb2Z0d2FyZSBQcm9jZXNzIEltcHJvdmVtZW50IiwKICAgICkpCicnJyk7\"));\n",
       "    "
      ],
      "text/plain": [
       "<IPython.core.display.Javascript object>"
      ]
     },
     "metadata": {},
     "output_type": "display_data"
    },
    {
     "data": {
      "application/javascript": [
       "$('span:contains(\"# Temp\")').closest('.cell').remove();"
      ],
      "text/plain": [
       "<IPython.core.display.Javascript object>"
      ]
     },
     "metadata": {},
     "output_type": "display_data"
    },
    {
     "data": {
      "application/javascript": [
       "\n",
       "        $('span:contains(\"# Temp\")').closest('.cell').remove();\n",
       "        var code = IPython.notebook.insert_cell_below('code');\n",
       "        code.set_text(atob(\"IyBUZW1wCmluc2VydCgnJycKICAgIGhhbnNlbjIwMDRiID0gREIoV29ya1VucmVsYXRlZCgKICAgICAgICAyMDA0LCAiS25vd2xlZGdlIE1hcHBpbmc6IEEgVGVjaG5pcXVlIGZvciBJZGVudGlmeWluZyBLbm93bGVkZ2UgRmxvd3MgaW4gU29mdHdhcmUgT3JnYW5pc2F0aW9ucyIsCiAgICAgICAgZGlzcGxheT0iaGFuc2VuIGIiLAogICAgICAgIGF1dGhvcnM9IkhhbnNlbiwgQm8gSGFuc2VuCmFuZCBLYXV0eiwgS2FybGhlaW56IiwKICAgICAgICBwbGFjZT1TUElQLAogICAgICAgIHBwPSIxMjYtLTEzNyIsCiAgICAgICAgZW50cnl0eXBlPSJpbnByb2NlZWRpbmdzIiwKICAgICAgICBlZGl0b3I9IkRpbmdz+HlyLCBUb3JnZWlyIiwKICAgICAgICBwdWJsaXNoZXI9IlNwcmluZ2VyIEJlcmxpbiBIZWlkZWxiZXJnIiwKICAgICAgICBhZGRyZXNzPSJCZXJsaW4sIEhlaWRlbGJlcmciLAogICAgICAgIElEPSIxMC4xMDA3Lzk3OC0zLTU0MC0zMDE4MS0zXzEyIiwKICAgICAgICBzcHJpbmdlcj0iMSIsCiAgICAgICAgcGxhY2V4PSJTb2Z0d2FyZSBQcm9jZXNzIEltcHJvdmVtZW50IiwKICAgICkpCicnJyk7\"));\n",
       "    "
      ],
      "text/plain": [
       "<IPython.core.display.Javascript object>"
      ]
     },
     "metadata": {},
     "output_type": "display_data"
    }
   ],
   "source": [
    "from custom_snowballing import UnrelatedInsert\n",
    "UnrelatedInsert(\"springer\", articles=article_list)"
   ]
  },
  {
   "cell_type": "code",
   "execution_count": 48,
   "metadata": {},
   "outputs": [
    {
     "name": "stdout",
     "output_type": "stream",
     "text": [
      "-Insert: hansen2004b\n"
     ]
    }
   ],
   "source": [
    "# Temp\n",
    "insert('''\n",
    "hansen2004b = DB(WorkUnrelated(\n",
    "    2004, \"Knowledge Mapping: A Technique for Identifying Knowledge Flows in Software Organisations\",\n",
    "    display=\"hansen b\",\n",
    "    authors=\"Hansen, Bo Hansen and Kautz, Karlheinz\",\n",
    "    place=SPIP,\n",
    "    pp=\"126--137\",\n",
    "    entrytype=\"inproceedings\",\n",
    "    editor=\"Dingsøyr, Torgeir\",\n",
    "    publisher=\"Springer Berlin Heidelberg\",\n",
    "    address=\"Berlin, Heidelberg\",\n",
    "    ID=\"10.1007/978-3-540-30181-3_12\",\n",
    "    springer=\"1\",\n",
    "    placex=\"Software Process Improvement\",\n",
    "))\n",
    "''');"
   ]
  },
  {
   "cell_type": "code",
   "execution_count": null,
   "metadata": {
    "collapsed": true,
    "scrolled": false
   },
   "outputs": [],
   "source": [
    "ArticleNavigator??"
   ]
  },
  {
   "cell_type": "code",
   "execution_count": null,
   "metadata": {
    "collapsed": true
   },
   "outputs": [],
   "source": [
    "ArticleNavigator(articles=article_list)"
   ]
  }
 ],
 "metadata": {
  "kernelspec": {
   "display_name": "Python 3",
   "language": "python",
   "name": "python3"
  },
  "language_info": {
   "codemirror_mode": {
    "name": "ipython",
    "version": 3
   },
   "file_extension": ".py",
   "mimetype": "text/x-python",
   "name": "python",
   "nbconvert_exporter": "python",
   "pygments_lexer": "ipython3",
   "version": "3.6.0"
  },
  "toc": {
   "nav_menu": {
    "height": "12px",
    "width": "252px"
   },
   "number_sections": true,
   "sideBar": true,
   "skip_h1_title": false,
   "toc_cell": false,
   "toc_position": {},
   "toc_section_display": "block",
   "toc_window_display": false
  }
 },
 "nbformat": 4,
 "nbformat_minor": 2
}
