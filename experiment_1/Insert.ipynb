{
 "cells": [
  {
   "cell_type": "code",
   "execution_count": 1,
   "metadata": {
    "collapsed": true
   },
   "outputs": [],
   "source": [
    "import database\n",
    "from snowballing.operations import load_work, reload, work_by_varname\n",
    "from snowballing.snowballing import Converter\n",
    "from snowballing.snowballing import ArticleNavigator\n",
    "from snowballing.dbmanager import insert, set_attribute"
   ]
  },
  {
   "cell_type": "code",
   "execution_count": 27,
   "metadata": {
    "scrolled": false
   },
   "outputs": [
    {
     "data": {
      "application/vnd.jupyter.widget-view+json": {
       "model_id": "1e992806b45b45f7a8dfda51556fec73",
       "version_major": 2,
       "version_minor": 0
      },
      "text/html": [
       "<p>Failed to display Jupyter Widget of type <code>VBox</code>.</p>\n",
       "<p>\n",
       "  If you're reading this message in Jupyter Notebook or JupyterLab, it may mean\n",
       "  that the widgets JavaScript is still loading. If this message persists, it\n",
       "  likely means that the widgets JavaScript library is either not installed or\n",
       "  not enabled. See the <a href=\"https://ipywidgets.readthedocs.io/en/stable/user_install.html\">Jupyter\n",
       "  Widgets Documentation</a> for setup instructions.\n",
       "</p>\n",
       "<p>\n",
       "  If you're reading this message in another notebook frontend (for example, a static\n",
       "  rendering on GitHub or <a href=\"https://nbviewer.jupyter.org/\">NBViewer</a>),\n",
       "  it may mean that your frontend doesn't currently support widgets.\n",
       "</p>\n"
      ],
      "text/plain": [
       "VBox(children=(HBox(children=(Dropdown(options={'BibTeX': 'bibtex', 'Text': 'text', '[N] author name place other year': 'citation', 'Quoted': 'quoted'}, value='bibtex'), Button(description='Set article_list variable', style=ButtonStyle()), Label(value=''))), HBox(children=(Textarea(value='', layout=Layout(height='500px', width='50%')), Textarea(value='', layout=Layout(height='500px', width='50%'))))))"
      ]
     },
     "metadata": {},
     "output_type": "display_data"
    }
   ],
   "source": [
    "Converter(\"bibtex\")"
   ]
  },
  {
   "cell_type": "code",
   "execution_count": 28,
   "metadata": {},
   "outputs": [
    {
     "data": {
      "text/plain": [
       "80"
      ]
     },
     "execution_count": 28,
     "metadata": {},
     "output_type": "execute_result"
    }
   ],
   "source": [
    "len(article_list)"
   ]
  },
  {
   "cell_type": "code",
   "execution_count": 29,
   "metadata": {},
   "outputs": [],
   "source": [
    "from snowballing.operations import reload\n",
    "reload()\n"
   ]
  },
  {
   "cell_type": "code",
   "execution_count": null,
   "metadata": {
    "collapsed": true
   },
   "outputs": [],
   "source": []
  },
  {
   "cell_type": "code",
   "execution_count": null,
   "metadata": {
    "collapsed": true,
    "scrolled": false
   },
   "outputs": [],
   "source": [
    "ArticleNavigator??"
   ]
  },
  {
   "cell_type": "code",
   "execution_count": null,
   "metadata": {
    "collapsed": true
   },
   "outputs": [],
   "source": []
  },
  {
   "cell_type": "code",
   "execution_count": null,
   "metadata": {
    "collapsed": true
   },
   "outputs": [],
   "source": []
  },
  {
   "cell_type": "code",
   "execution_count": 30,
   "metadata": {},
   "outputs": [
    {
     "data": {
      "application/vnd.jupyter.widget-view+json": {
       "model_id": "3aba1642232845d480bb087f51be61e4",
       "version_major": 2,
       "version_minor": 0
      },
      "text/html": [
       "<p>Failed to display Jupyter Widget of type <code>VBox</code>.</p>\n",
       "<p>\n",
       "  If you're reading this message in Jupyter Notebook or JupyterLab, it may mean\n",
       "  that the widgets JavaScript is still loading. If this message persists, it\n",
       "  likely means that the widgets JavaScript library is either not installed or\n",
       "  not enabled. See the <a href=\"https://ipywidgets.readthedocs.io/en/stable/user_install.html\">Jupyter\n",
       "  Widgets Documentation</a> for setup instructions.\n",
       "</p>\n",
       "<p>\n",
       "  If you're reading this message in another notebook frontend (for example, a static\n",
       "  rendering on GitHub or <a href=\"https://nbviewer.jupyter.org/\">NBViewer</a>),\n",
       "  it may mean that your frontend doesn't currently support widgets.\n",
       "</p>\n"
      ],
      "text/plain": [
       "VBox(children=(HBox(children=(Button(description='Previous Article', disabled=True, icon='caret-left', style=ButtonStyle()), Button(description='Reload Article', icon='refresh', style=ButtonStyle()), Button(description='Next Article', icon='caret-right', style=ButtonStyle()))), HBox(children=(Dropdown(description='Type', index=3, options=('Work', 'WorkSnowball', 'WorkOk', 'WorkUnrelated', 'WorkNoFile', 'WorkLang', 'Site', 'Email'), value='WorkUnrelated'), ToggleButton(value=False, description='File'))), HBox(children=(Text(value='', description='Due'), Text(value='', description='Place'))), HBox(children=(Text(value='', description='Year'), Text(value='', description='Prefix Var'))), HBox(children=(Text(value='', description='PDFPage'), Text(value='', description='Related'))), HBox(children=(Text(value='', description='Display'), Text(value='', description='Summary'))), HBox(children=(Text(value='', description='Star'), Text(value='', description='Link'))), HBox(children=(Text(value='1', description='webofscience2015'),)), HBox(children=(Button(description='Reload Article', icon='refresh', style=ButtonStyle()), IntSlider(value=0, max=79), Label(value='1/80'))), Output()))"
      ]
     },
     "metadata": {},
     "output_type": "display_data"
    },
    {
     "data": {
      "application/javascript": [
       "$('span:contains(\"# Temp\")').closest('.cell').remove();"
      ],
      "text/plain": [
       "<IPython.core.display.Javascript object>"
      ]
     },
     "metadata": {},
     "output_type": "display_data"
    },
    {
     "data": {
      "application/javascript": [
       "\n",
       "        $('span:contains(\"# Temp\")').closest('.cell').remove();\n",
       "        var code = IPython.notebook.insert_cell_below('code');\n",
       "        code.set_text(decodeURIComponent(window.atob(\"JTIzJTIwVGVtcCUwQWluc2VydCUyOCUyNyUyNyUyNyUwQSUyMCUyMCUyMCUyMHNob3ZhbDE5OTdhJTIwJTNEJTIwREIlMjhXb3JrVW5yZWxhdGVkJTI4JTBBJTIwJTIwJTIwJTIwJTIwJTIwJTIwJTIwMTk5NyUyQyUyMCUyMkElMjBjb21iaW5hdGlvbiUyMG9mJTIwdGhlJTIwTWstSUklMjBmdW5jdGlvbiUyMHBvaW50cyUyMHNvZnR3YXJlJTIwZXN0aW1hdGlvbiUyMG1ldGhvZCUwQXdpdGglMjB0aGUlMjBBRElTU0ElMjBtZXRob2RvbG9neSUyMGZvciUyMHN5c3RlbXMlMjBhbmFseXNpcyUyMGFuZCUyMGRlc2lnbiUyMiUyQyUwQSUyMCUyMCUyMCUyMCUyMCUyMCUyMCUyMGRpc3BsYXklM0QlMjJzaG92YWwlMjIlMkMlMEElMjAlMjAlMjAlMjAlMjAlMjAlMjAlMjBhdXRob3JzJTNEJTIyU2hvdmFsJTJDJTIwUCUyMGFuZCUyMEZlbGRtYW4lMkMlMjBPJTIyJTJDJTBBJTIwJTIwJTIwJTIwJTIwJTIwJTIwJTIwcGxhY2UlM0RGQUtFJTJDJTBBJTIwJTIwJTIwJTIwJTIwJTIwJTIwJTIwcHAlM0QlMjI4NTUtODY1JTIyJTJDJTBBJTIwJTIwJTIwJTIwJTIwJTIwJTIwJTIwZW50cnl0eXBlJTNEJTIyYXJ0aWNsZSUyMiUyQyUwQSUyMCUyMCUyMCUyMCUyMCUyMCUyMCUyMHZvbHVtZSUzRCUyMjM5JTIyJTJDJTBBJTIwJTIwJTIwJTIwJTIwJTIwJTIwJTIwbnVtYmVyJTNEJTIyMTMlMjIlMkMlMEElMjAlMjAlMjAlMjAlMjAlMjAlMjAlMjBtb250aCUzRCUyMkRFQyUyMDE1JTIyJTJDJTBBJTIwJTIwJTIwJTIwJTIwJTIwJTIwJTIwZG9pJTNEJTIyMTAuMTAxNi9TMDk1MC01ODQ5JTI4OTclMjkwMDAwOS04JTIyJTJDJTBBJTIwJTIwJTIwJTIwJTIwJTIwJTIwJTIwaXNzbiUzRCUyMjA5NTAtNTg0OSUyMiUyQyUwQSUyMCUyMCUyMCUyMCUyMCUyMCUyMCUyMGVpc3NuJTNEJTIyMTg3My02MDI1JTIyJTJDJTBBJTIwJTIwJTIwJTIwJTIwJTIwJTIwJTIwcmVzZWFyY2hlcmlkLW51bWJlcnMlM0QlMjJTaG92YWwlMkMlMjBQZXJldHovRi0xMjI5LTIwMTIlMjIlMkMlMEElMjAlMjAlMjAlMjAlMjAlMjAlMjAlMjBvcmNpZC1udW1iZXJzJTNEJTIyU2hvdmFsJTJDJTIwUGVyZXR6LzAwMDAtMDAwMi0wMTgzLTI4MzIlMjIlMkMlMEElMjAlMjAlMjAlMjAlMjAlMjAlMjAlMjB1bmlxdWUtaWQlM0QlMjJJU0klM0EwMDAwNzE1ODQzMDAwMDElMjIlMkMlMEElMjAlMjAlMjAlMjAlMjAlMjAlMjAlMjBJRCUzRCUyMklTSSUzQTAwMDA3MTU4NDMwMDAwMSUyMiUyQyUwQSUyMCUyMCUyMCUyMCUyMCUyMCUyMCUyMHdlYm9mc2NpZW5jZTIwMTUlM0QlMjIxJTIyJTJDJTBBJTIwJTIwJTIwJTIwJTIwJTIwJTIwJTIwcGxhY2V4JTNEJTIySU5GT1JNQVRJT04lMjBBTkQlMjBTT0ZUV0FSRSUyMFRFQ0hOT0xPR1klMjIlMkMlMEElMjAlMjAlMjAlMjAlMjklMjklMEElMjclMjclMjclMjklM0I=\")));\n",
       "    "
      ],
      "text/plain": [
       "<IPython.core.display.Javascript object>"
      ]
     },
     "metadata": {},
     "output_type": "display_data"
    },
    {
     "data": {
      "application/javascript": [
       "$('span:contains(\"# Temp\")').closest('.cell').remove();"
      ],
      "text/plain": [
       "<IPython.core.display.Javascript object>"
      ]
     },
     "metadata": {},
     "output_type": "display_data"
    },
    {
     "data": {
      "application/javascript": [
       "\n",
       "        $('span:contains(\"# Temp\")').closest('.cell').remove();\n",
       "        var code = IPython.notebook.insert_cell_below('code');\n",
       "        code.set_text(decodeURIComponent(window.atob(\"JTIzJTIwVGVtcCUwQWluc2VydCUyOCUyNyUyNyUyNyUwQSUyMCUyMCUyMCUyMHNob3ZhbDE5OTdhJTIwJTNEJTIwREIlMjhXb3JrVW5yZWxhdGVkJTI4JTBBJTIwJTIwJTIwJTIwJTIwJTIwJTIwJTIwMTk5NyUyQyUyMCUyMkElMjBjb21iaW5hdGlvbiUyMG9mJTIwdGhlJTIwTWstSUklMjBmdW5jdGlvbiUyMHBvaW50cyUyMHNvZnR3YXJlJTIwZXN0aW1hdGlvbiUyMG1ldGhvZCUwQXdpdGglMjB0aGUlMjBBRElTU0ElMjBtZXRob2RvbG9neSUyMGZvciUyMHN5c3RlbXMlMjBhbmFseXNpcyUyMGFuZCUyMGRlc2lnbiUyMiUyQyUwQSUyMCUyMCUyMCUyMCUyMCUyMCUyMCUyMGRpc3BsYXklM0QlMjJzaG92YWwlMjIlMkMlMEElMjAlMjAlMjAlMjAlMjAlMjAlMjAlMjBhdXRob3JzJTNEJTIyU2hvdmFsJTJDJTIwUCUyMGFuZCUyMEZlbGRtYW4lMkMlMjBPJTIyJTJDJTBBJTIwJTIwJTIwJTIwJTIwJTIwJTIwJTIwcGxhY2UlM0RGQUtFJTJDJTBBJTIwJTIwJTIwJTIwJTIwJTIwJTIwJTIwcHAlM0QlMjI4NTUtODY1JTIyJTJDJTBBJTIwJTIwJTIwJTIwJTIwJTIwJTIwJTIwZW50cnl0eXBlJTNEJTIyYXJ0aWNsZSUyMiUyQyUwQSUyMCUyMCUyMCUyMCUyMCUyMCUyMCUyMHZvbHVtZSUzRCUyMjM5JTIyJTJDJTBBJTIwJTIwJTIwJTIwJTIwJTIwJTIwJTIwbnVtYmVyJTNEJTIyMTMlMjIlMkMlMEElMjAlMjAlMjAlMjAlMjAlMjAlMjAlMjBtb250aCUzRCUyMkRFQyUyMDE1JTIyJTJDJTBBJTIwJTIwJTIwJTIwJTIwJTIwJTIwJTIwZG9pJTNEJTIyMTAuMTAxNi9TMDk1MC01ODQ5JTI4OTclMjkwMDAwOS04JTIyJTJDJTBBJTIwJTIwJTIwJTIwJTIwJTIwJTIwJTIwaXNzbiUzRCUyMjA5NTAtNTg0OSUyMiUyQyUwQSUyMCUyMCUyMCUyMCUyMCUyMCUyMCUyMGVpc3NuJTNEJTIyMTg3My02MDI1JTIyJTJDJTBBJTIwJTIwJTIwJTIwJTIwJTIwJTIwJTIwcmVzZWFyY2hlcmlkLW51bWJlcnMlM0QlMjJTaG92YWwlMkMlMjBQZXJldHovRi0xMjI5LTIwMTIlMjIlMkMlMEElMjAlMjAlMjAlMjAlMjAlMjAlMjAlMjBvcmNpZC1udW1iZXJzJTNEJTIyU2hvdmFsJTJDJTIwUGVyZXR6LzAwMDAtMDAwMi0wMTgzLTI4MzIlMjIlMkMlMEElMjAlMjAlMjAlMjAlMjAlMjAlMjAlMjB1bmlxdWUtaWQlM0QlMjJJU0klM0EwMDAwNzE1ODQzMDAwMDElMjIlMkMlMEElMjAlMjAlMjAlMjAlMjAlMjAlMjAlMjBJRCUzRCUyMklTSSUzQTAwMDA3MTU4NDMwMDAwMSUyMiUyQyUwQSUyMCUyMCUyMCUyMCUyMCUyMCUyMCUyMHdlYm9mc2NpZW5jZTIwMTUlM0QlMjIxJTIyJTJDJTBBJTIwJTIwJTIwJTIwJTIwJTIwJTIwJTIwcGxhY2V4JTNEJTIySU5GT1JNQVRJT04lMjBBTkQlMjBTT0ZUV0FSRSUyMFRFQ0hOT0xPR1klMjIlMkMlMEElMjAlMjAlMjAlMjAlMjklMjklMEElMjclMjclMjclMjklM0I=\")));\n",
       "    "
      ],
      "text/plain": [
       "<IPython.core.display.Javascript object>"
      ]
     },
     "metadata": {},
     "output_type": "display_data"
    },
    {
     "data": {
      "application/javascript": [
       "$('span:contains(\"# Temp\")').closest('.cell').remove();"
      ],
      "text/plain": [
       "<IPython.core.display.Javascript object>"
      ]
     },
     "metadata": {},
     "output_type": "display_data"
    },
    {
     "data": {
      "application/javascript": [
       "\n",
       "        $('span:contains(\"# Temp\")').closest('.cell').remove();\n",
       "        var code = IPython.notebook.insert_cell_below('code');\n",
       "        code.set_text(decodeURIComponent(window.atob(\"JTIzJTIwVGVtcCUwQWluc2VydCUyOCUyNyUyNyUyNyUwQSUyMCUyMCUyMCUyMHJ1aXoyMDE1YSUyMCUzRCUyMERCJTI4V29ya1VucmVsYXRlZCUyOCUwQSUyMCUyMCUyMCUyMCUyMCUyMCUyMCUyMDIwMTUlMkMlMjAlMjJBJTIwZnJhbWV3b3JrJTIwZm9yJTIwc29mdHdhcmUlMjBwcm9jZXNzJTIwZGVwbG95bWVudCUyMGFuZCUyMGV2YWx1YXRpb24lMjIlMkMlMEElMjAlMjAlMjAlMjAlMjAlMjAlMjAlMjBkaXNwbGF5JTNEJTIycnVpeiUyMiUyQyUwQSUyMCUyMCUyMCUyMCUyMCUyMCUyMCUyMGF1dGhvcnMlM0QlMjJSdWl6LVJ1YmUlMkMlMjBJdmFuJTIwYW5kJTIwTWFudWVsJTIwRG9kZXJvJTJDJTIwSnVhbiUyMGFuZCUyMENvbG9tby1QYWxhY2lvcyUyQyUyMFJpY2FyZG8lMjIlMkMlMEElMjAlMjAlMjAlMjAlMjAlMjAlMjAlMjBwbGFjZSUzREZBS0UlMkMlMEElMjAlMjAlMjAlMjAlMjAlMjAlMjAlMjBwcCUzRCUyMjIwNS0yMjElMjIlMkMlMEElMjAlMjAlMjAlMjAlMjAlMjAlMjAlMjBlbnRyeXR5cGUlM0QlMjJhcnRpY2xlJTIyJTJDJTBBJTIwJTIwJTIwJTIwJTIwJTIwJTIwJTIwdm9sdW1lJTNEJTIyNTklMjIlMkMlMEElMjAlMjAlMjAlMjAlMjAlMjAlMjAlMjBtb250aCUzRCUyMk1BUiUyMiUyQyUwQSUyMCUyMCUyMCUyMCUyMCUyMCUyMCUyMGRvaSUzRCUyMjEwLjEwMTYvai5pbmZzb2YuMjAxNC4xMi4wMDElMjIlMkMlMEElMjAlMjAlMjAlMjAlMjAlMjAlMjAlMjBpc3NuJTNEJTIyMDk1MC01ODQ5JTIyJTJDJTBBJTIwJTIwJTIwJTIwJTIwJTIwJTIwJTIwZWlzc24lM0QlMjIxODczLTYwMjUlMjIlMkMlMEElMjAlMjAlMjAlMjAlMjAlMjAlMjAlMjByZXNlYXJjaGVyaWQtbnVtYmVycyUzRCUyMlRyaXZlZGklMkMlMjBLcnV0aS9FLTc1NTgtMjAxNSUwQURvZGVybyUyQyUyMEp1YW4lMjBNYW51ZWwvRC00MTQzLTIwMDklMEFDb2xvbW8tUGFsYWNpb3MlMkMlMjBSaWNhcmRvL0UtNTEzOS0yMDEwJTIyJTJDJTBBJTIwJTIwJTIwJTIwJTIwJTIwJTIwJTIwb3JjaWQtbnVtYmVycyUzRCUyMkRvZGVybyUyQyUyMEp1YW4lMjBNYW51ZWwvMDAwMC0wMDAyLTQxMDUtNTY3OSUwQUNvbG9tby1QYWxhY2lvcyUyQyUyMFJpY2FyZG8vMDAwMC0wMDAyLTE1NTUtOTcyNiUyMiUyQyUwQSUyMCUyMCUyMCUyMCUyMCUyMCUyMCUyMHVuaXF1ZS1pZCUzRCUyMklTSSUzQTAwMDM0OTQyNzIwMDAxMiUyMiUyQyUwQSUyMCUyMCUyMCUyMCUyMCUyMCUyMCUyMElEJTNEJTIySVNJJTNBMDAwMzQ5NDI3MjAwMDEyJTIyJTJDJTBBJTIwJTIwJTIwJTIwJTIwJTIwJTIwJTIwd2Vib2ZzY2llbmNlMjAxNSUzRCUyMjElMjIlMkMlMEElMjAlMjAlMjAlMjAlMjAlMjAlMjAlMjBwbGFjZXglM0QlMjJJTkZPUk1BVElPTiUyMEFORCUyMFNPRlRXQVJFJTIwVEVDSE5PTE9HWSUyMiUyQyUwQSUyMCUyMCUyMCUyMCUyOSUyOSUwQSUyNyUyNyUyNyUyOSUzQg==\")));\n",
       "    "
      ],
      "text/plain": [
       "<IPython.core.display.Javascript object>"
      ]
     },
     "metadata": {},
     "output_type": "display_data"
    },
    {
     "data": {
      "application/javascript": [
       "$('span:contains(\"# Temp\")').closest('.cell').remove();"
      ],
      "text/plain": [
       "<IPython.core.display.Javascript object>"
      ]
     },
     "metadata": {},
     "output_type": "display_data"
    },
    {
     "data": {
      "application/javascript": [
       "\n",
       "        $('span:contains(\"# Temp\")').closest('.cell').remove();\n",
       "        var code = IPython.notebook.insert_cell_below('code');\n",
       "        code.set_text(decodeURIComponent(window.atob(\"JTIzJTIwVGVtcCUwQWluc2VydCUyOCUyNyUyNyUyNyUwQSUyMCUyMCUyMCUyMHJ1aXoyMDE1YSUyMCUzRCUyMERCJTI4V29ya1VucmVsYXRlZCUyOCUwQSUyMCUyMCUyMCUyMCUyMCUyMCUyMCUyMDIwMTUlMkMlMjAlMjJBJTIwZnJhbWV3b3JrJTIwZm9yJTIwc29mdHdhcmUlMjBwcm9jZXNzJTIwZGVwbG95bWVudCUyMGFuZCUyMGV2YWx1YXRpb24lMjIlMkMlMEElMjAlMjAlMjAlMjAlMjAlMjAlMjAlMjBkaXNwbGF5JTNEJTIycnVpeiUyMiUyQyUwQSUyMCUyMCUyMCUyMCUyMCUyMCUyMCUyMGF1dGhvcnMlM0QlMjJSdWl6LVJ1YmUlMkMlMjBJdmFuJTIwYW5kJTIwTWFudWVsJTIwRG9kZXJvJTJDJTIwSnVhbiUyMGFuZCUyMENvbG9tby1QYWxhY2lvcyUyQyUyMFJpY2FyZG8lMjIlMkMlMEElMjAlMjAlMjAlMjAlMjAlMjAlMjAlMjBwbGFjZSUzREZBS0UlMkMlMEElMjAlMjAlMjAlMjAlMjAlMjAlMjAlMjBwcCUzRCUyMjIwNS0yMjElMjIlMkMlMEElMjAlMjAlMjAlMjAlMjAlMjAlMjAlMjBlbnRyeXR5cGUlM0QlMjJhcnRpY2xlJTIyJTJDJTBBJTIwJTIwJTIwJTIwJTIwJTIwJTIwJTIwdm9sdW1lJTNEJTIyNTklMjIlMkMlMEElMjAlMjAlMjAlMjAlMjAlMjAlMjAlMjBtb250aCUzRCUyMk1BUiUyMiUyQyUwQSUyMCUyMCUyMCUyMCUyMCUyMCUyMCUyMGRvaSUzRCUyMjEwLjEwMTYvai5pbmZzb2YuMjAxNC4xMi4wMDElMjIlMkMlMEElMjAlMjAlMjAlMjAlMjAlMjAlMjAlMjBpc3NuJTNEJTIyMDk1MC01ODQ5JTIyJTJDJTBBJTIwJTIwJTIwJTIwJTIwJTIwJTIwJTIwZWlzc24lM0QlMjIxODczLTYwMjUlMjIlMkMlMEElMjAlMjAlMjAlMjAlMjAlMjAlMjAlMjByZXNlYXJjaGVyaWQtbnVtYmVycyUzRCUyMlRyaXZlZGklMkMlMjBLcnV0aS9FLTc1NTgtMjAxNSUwQURvZGVybyUyQyUyMEp1YW4lMjBNYW51ZWwvRC00MTQzLTIwMDklMEFDb2xvbW8tUGFsYWNpb3MlMkMlMjBSaWNhcmRvL0UtNTEzOS0yMDEwJTIyJTJDJTBBJTIwJTIwJTIwJTIwJTIwJTIwJTIwJTIwb3JjaWQtbnVtYmVycyUzRCUyMkRvZGVybyUyQyUyMEp1YW4lMjBNYW51ZWwvMDAwMC0wMDAyLTQxMDUtNTY3OSUwQUNvbG9tby1QYWxhY2lvcyUyQyUyMFJpY2FyZG8vMDAwMC0wMDAyLTE1NTUtOTcyNiUyMiUyQyUwQSUyMCUyMCUyMCUyMCUyMCUyMCUyMCUyMHVuaXF1ZS1pZCUzRCUyMklTSSUzQTAwMDM0OTQyNzIwMDAxMiUyMiUyQyUwQSUyMCUyMCUyMCUyMCUyMCUyMCUyMCUyMElEJTNEJTIySVNJJTNBMDAwMzQ5NDI3MjAwMDEyJTIyJTJDJTBBJTIwJTIwJTIwJTIwJTIwJTIwJTIwJTIwd2Vib2ZzY2llbmNlMjAxNSUzRCUyMjElMjIlMkMlMEElMjAlMjAlMjAlMjAlMjAlMjAlMjAlMjBwbGFjZXglM0QlMjJJTkZPUk1BVElPTiUyMEFORCUyMFNPRlRXQVJFJTIwVEVDSE5PTE9HWSUyMiUyQyUwQSUyMCUyMCUyMCUyMCUyOSUyOSUwQSUyNyUyNyUyNyUyOSUzQg==\")));\n",
       "    "
      ],
      "text/plain": [
       "<IPython.core.display.Javascript object>"
      ]
     },
     "metadata": {},
     "output_type": "display_data"
    },
    {
     "data": {
      "application/javascript": [
       "$('span:contains(\"# Temp\")').closest('.cell').remove();"
      ],
      "text/plain": [
       "<IPython.core.display.Javascript object>"
      ]
     },
     "metadata": {},
     "output_type": "display_data"
    },
    {
     "data": {
      "application/javascript": [
       "\n",
       "        $('span:contains(\"# Temp\")').closest('.cell').remove();\n",
       "        var code = IPython.notebook.insert_cell_below('code');\n",
       "        code.set_text(decodeURIComponent(window.atob(\"JTIzJTIwVGVtcCUwQWluc2VydCUyOCUyNyUyNyUyNyUwQSUyMCUyMCUyMCUyMHJ1aXoyMDE1YSUyMCUzRCUyMERCJTI4V29ya1VucmVsYXRlZCUyOCUwQSUyMCUyMCUyMCUyMCUyMCUyMCUyMCUyMDIwMTUlMkMlMjAlMjJBJTIwZnJhbWV3b3JrJTIwZm9yJTIwc29mdHdhcmUlMjBwcm9jZXNzJTIwZGVwbG95bWVudCUyMGFuZCUyMGV2YWx1YXRpb24lMjIlMkMlMEElMjAlMjAlMjAlMjAlMjAlMjAlMjAlMjBkaXNwbGF5JTNEJTIycnVpeiUyMiUyQyUwQSUyMCUyMCUyMCUyMCUyMCUyMCUyMCUyMGF1dGhvcnMlM0QlMjJSdWl6LVJ1YmUlMkMlMjBJdmFuJTIwYW5kJTIwTWFudWVsJTIwRG9kZXJvJTJDJTIwSnVhbiUyMGFuZCUyMENvbG9tby1QYWxhY2lvcyUyQyUyMFJpY2FyZG8lMjIlMkMlMEElMjAlMjAlMjAlMjAlMjAlMjAlMjAlMjBwbGFjZSUzREZBS0UlMkMlMEElMjAlMjAlMjAlMjAlMjAlMjAlMjAlMjBwcCUzRCUyMjIwNS0yMjElMjIlMkMlMEElMjAlMjAlMjAlMjAlMjAlMjAlMjAlMjBlbnRyeXR5cGUlM0QlMjJhcnRpY2xlJTIyJTJDJTBBJTIwJTIwJTIwJTIwJTIwJTIwJTIwJTIwdm9sdW1lJTNEJTIyNTklMjIlMkMlMEElMjAlMjAlMjAlMjAlMjAlMjAlMjAlMjBtb250aCUzRCUyMk1BUiUyMiUyQyUwQSUyMCUyMCUyMCUyMCUyMCUyMCUyMCUyMGRvaSUzRCUyMjEwLjEwMTYvai5pbmZzb2YuMjAxNC4xMi4wMDElMjIlMkMlMEElMjAlMjAlMjAlMjAlMjAlMjAlMjAlMjBpc3NuJTNEJTIyMDk1MC01ODQ5JTIyJTJDJTBBJTIwJTIwJTIwJTIwJTIwJTIwJTIwJTIwZWlzc24lM0QlMjIxODczLTYwMjUlMjIlMkMlMEElMjAlMjAlMjAlMjAlMjAlMjAlMjAlMjByZXNlYXJjaGVyaWQtbnVtYmVycyUzRCUyMlRyaXZlZGklMkMlMjBLcnV0aS9FLTc1NTgtMjAxNSUwQURvZGVybyUyQyUyMEp1YW4lMjBNYW51ZWwvRC00MTQzLTIwMDklMEFDb2xvbW8tUGFsYWNpb3MlMkMlMjBSaWNhcmRvL0UtNTEzOS0yMDEwJTIyJTJDJTBBJTIwJTIwJTIwJTIwJTIwJTIwJTIwJTIwb3JjaWQtbnVtYmVycyUzRCUyMkRvZGVybyUyQyUyMEp1YW4lMjBNYW51ZWwvMDAwMC0wMDAyLTQxMDUtNTY3OSUwQUNvbG9tby1QYWxhY2lvcyUyQyUyMFJpY2FyZG8vMDAwMC0wMDAyLTE1NTUtOTcyNiUyMiUyQyUwQSUyMCUyMCUyMCUyMCUyMCUyMCUyMCUyMHVuaXF1ZS1pZCUzRCUyMklTSSUzQTAwMDM0OTQyNzIwMDAxMiUyMiUyQyUwQSUyMCUyMCUyMCUyMCUyMCUyMCUyMCUyMElEJTNEJTIySVNJJTNBMDAwMzQ5NDI3MjAwMDEyJTIyJTJDJTBBJTIwJTIwJTIwJTIwJTIwJTIwJTIwJTIwd2Vib2ZzY2llbmNlMjAxNSUzRCUyMjElMjIlMkMlMEElMjAlMjAlMjAlMjAlMjAlMjAlMjAlMjBwbGFjZXglM0QlMjJJTkZPUk1BVElPTiUyMEFORCUyMFNPRlRXQVJFJTIwVEVDSE5PTE9HWSUyMiUyQyUwQSUyMCUyMCUyMCUyMCUyOSUyOSUwQSUyNyUyNyUyNyUyOSUzQg==\")));\n",
       "    "
      ],
      "text/plain": [
       "<IPython.core.display.Javascript object>"
      ]
     },
     "metadata": {},
     "output_type": "display_data"
    },
    {
     "data": {
      "application/javascript": [
       "$('span:contains(\"# Temp\")').closest('.cell').remove();"
      ],
      "text/plain": [
       "<IPython.core.display.Javascript object>"
      ]
     },
     "metadata": {},
     "output_type": "display_data"
    },
    {
     "data": {
      "application/javascript": [
       "\n",
       "        $('span:contains(\"# Temp\")').closest('.cell').remove();\n",
       "        var code = IPython.notebook.insert_cell_below('code');\n",
       "        code.set_text(decodeURIComponent(window.atob(\"JTIzJTIwVGVtcCUwQWluc2VydCUyOCUyNyUyNyUyNyUyNyUyNyUyNyUyOSUzQiUwQXNldF9hdHRyaWJ1dGUlMjglMjd3b2hsaW4yMDE1YSUyNyUyQyUyMCUyN21vbnRoJTI3JTJDJTIwJTI3Tk9WJTI3JTI5JTNCJTBBc2V0X2F0dHJpYnV0ZSUyOCUyN3dvaGxpbjIwMTVhJTI3JTJDJTIwJTI3ZWlzc24lMjclMkMlMjAlMjcxODczLTEyMjglMjclMjklM0IlMEFzZXRfYXR0cmlidXRlJTI4JTI3d29obGluMjAxNWElMjclMkMlMjAlMjdvcmNpZC1udW1iZXJzJTI3JTJDJTIwJTI3TW9lJTJDJTIwTmlscyUyMEJyZWRlLzAwMDAtMDAwMy0yNjY5LTA3NzglMEFXb2hsaW4lMkMlMjBDbGFlcy8wMDAwLTAwMDMtMDQ2MC01MjUzJTI3JTI5JTNCJTBBc2V0X2F0dHJpYnV0ZSUyOCUyN3dvaGxpbjIwMTVhJTI3JTJDJTIwJTI3dW5pcXVlLWlkJTI3JTJDJTIwJTI3SVNJJTNBMDAwMzYyMTM3NzAwMDE3JTI3JTI5JTNCJTBBc2V0X2F0dHJpYnV0ZSUyOCUyN3dvaGxpbjIwMTVhJTI3JTJDJTIwJTI3d2Vib2ZzY2llbmNlMjAxNSUyNyUyQyUyMCUyNzElMjclMjklM0I=\")));\n",
       "    "
      ],
      "text/plain": [
       "<IPython.core.display.Javascript object>"
      ]
     },
     "metadata": {},
     "output_type": "display_data"
    },
    {
     "data": {
      "application/javascript": [
       "$('span:contains(\"# Temp\")').closest('.cell').remove();"
      ],
      "text/plain": [
       "<IPython.core.display.Javascript object>"
      ]
     },
     "metadata": {},
     "output_type": "display_data"
    },
    {
     "data": {
      "application/javascript": [
       "\n",
       "        $('span:contains(\"# Temp\")').closest('.cell').remove();\n",
       "        var code = IPython.notebook.insert_cell_below('code');\n",
       "        code.set_text(decodeURIComponent(window.atob(\"JTIzJTIwVGVtcCUwQWluc2VydCUyOCUyNyUyNyUyNyUyNyUyNyUyNyUyOSUzQiUwQXNldF9hdHRyaWJ1dGUlMjglMjd3b2hsaW4yMDE1YSUyNyUyQyUyMCUyN21vbnRoJTI3JTJDJTIwJTI3Tk9WJTI3JTI5JTNCJTBBc2V0X2F0dHJpYnV0ZSUyOCUyN3dvaGxpbjIwMTVhJTI3JTJDJTIwJTI3ZWlzc24lMjclMkMlMjAlMjcxODczLTEyMjglMjclMjklM0IlMEFzZXRfYXR0cmlidXRlJTI4JTI3d29obGluMjAxNWElMjclMkMlMjAlMjdvcmNpZC1udW1iZXJzJTI3JTJDJTIwJTI3TW9lJTJDJTIwTmlscyUyMEJyZWRlLzAwMDAtMDAwMy0yNjY5LTA3NzglMEFXb2hsaW4lMkMlMjBDbGFlcy8wMDAwLTAwMDMtMDQ2MC01MjUzJTI3JTI5JTNCJTBBc2V0X2F0dHJpYnV0ZSUyOCUyN3dvaGxpbjIwMTVhJTI3JTJDJTIwJTI3dW5pcXVlLWlkJTI3JTJDJTIwJTI3SVNJJTNBMDAwMzYyMTM3NzAwMDE3JTI3JTI5JTNCJTBBc2V0X2F0dHJpYnV0ZSUyOCUyN3dvaGxpbjIwMTVhJTI3JTJDJTIwJTI3d2Vib2ZzY2llbmNlMjAxNSUyNyUyQyUyMCUyNzElMjclMjklM0I=\")));\n",
       "    "
      ],
      "text/plain": [
       "<IPython.core.display.Javascript object>"
      ]
     },
     "metadata": {},
     "output_type": "display_data"
    },
    {
     "data": {
      "application/javascript": [
       "$('span:contains(\"# Temp\")').closest('.cell').remove();"
      ],
      "text/plain": [
       "<IPython.core.display.Javascript object>"
      ]
     },
     "metadata": {},
     "output_type": "display_data"
    },
    {
     "data": {
      "application/javascript": [
       "\n",
       "        $('span:contains(\"# Temp\")').closest('.cell').remove();\n",
       "        var code = IPython.notebook.insert_cell_below('code');\n",
       "        code.set_text(decodeURIComponent(window.atob(\"JTIzJTIwVGVtcCUwQWluc2VydCUyOCUyNyUyNyUyNyUwQSUyMCUyMCUyMCUyMHRhbnJpb3ZlcjIwMTVhJTIwJTNEJTIwREIlMjhXb3JrVW5yZWxhdGVkJTI4JTBBJTIwJTIwJTIwJTIwJTIwJTIwJTIwJTIwMjAxNSUyQyUyMCUyMkElMjBwcm9jZXNzJTIwY2FwYWJpbGl0eSUyMGJhc2VkJTIwYXNzZXNzbWVudCUyMG1vZGVsJTIwZm9yJTIwc29mdHdhcmUlMjB3b3JrZm9yY2UlMjBpbiUwQWVtZXJnZW50JTIwc29mdHdhcmUlMjBvcmdhbml6YXRpb25zJTIyJTJDJTBBJTIwJTIwJTIwJTIwJTIwJTIwJTIwJTIwZGlzcGxheSUzRCUyMnRhbnJpb3ZlciUyMiUyQyUwQSUyMCUyMCUyMCUyMCUyMCUyMCUyMCUyMGF1dGhvcnMlM0QlMjJUYW5yaW92ZXIlMkMlMjBPLiUyME96Z3VyJTIwYW5kJTIwRGVtaXJvcnMlMkMlMjBPbnVyJTIyJTJDJTBBJTIwJTIwJTIwJTIwJTIwJTIwJTIwJTIwcGxhY2UlM0RGQUtFJTJDJTBBJTIwJTIwJTIwJTIwJTIwJTIwJTIwJTIwcHAlM0QlMjIyOS00MCUyMiUyQyUwQSUyMCUyMCUyMCUyMCUyMCUyMCUyMCUyMGVudHJ5dHlwZSUzRCUyMmFydGljbGUlMjIlMkMlMEElMjAlMjAlMjAlMjAlMjAlMjAlMjAlMjB2b2x1bWUlM0QlMjIzNyUyMiUyQyUwQSUyMCUyMCUyMCUyMCUyMCUyMCUyMCUyMG1vbnRoJTNEJTIySkFOJTIyJTJDJTBBJTIwJTIwJTIwJTIwJTIwJTIwJTIwJTIwZG9pJTNEJTIyMTAuMTAxNi9qLmNzaS4yMDE0LjA1LjAwMyUyMiUyQyUwQSUyMCUyMCUyMCUyMCUyMCUyMCUyMCUyMGlzc24lM0QlMjIwOTIwLTU0ODklMjIlMkMlMEElMjAlMjAlMjAlMjAlMjAlMjAlMjAlMjBlaXNzbiUzRCUyMjE4NzItNzAxOCUyMiUyQyUwQSUyMCUyMCUyMCUyMCUyMCUyMCUyMCUyMG9yY2lkLW51bWJlcnMlM0QlMjJEZW1pcm9ycyUyQyUyME9udXIvMDAwMC0wMDAxLTY2MDEtMzkzNyUyMiUyQyUwQSUyMCUyMCUyMCUyMCUyMCUyMCUyMCUyMHVuaXF1ZS1pZCUzRCUyMklTSSUzQTAwMDM0MzYzMzQwMDAwNCUyMiUyQyUwQSUyMCUyMCUyMCUyMCUyMCUyMCUyMCUyMElEJTNEJTIySVNJJTNBMDAwMzQzNjMzNDAwMDA0JTIyJTJDJTBBJTIwJTIwJTIwJTIwJTIwJTIwJTIwJTIwd2Vib2ZzY2llbmNlMjAxNSUzRCUyMjElMjIlMkMlMEElMjAlMjAlMjAlMjAlMjAlMjAlMjAlMjBwbGFjZXglM0QlMjJDT01QVVRFUiUyMFNUQU5EQVJEUyUyMCUyNiUyMElOVEVSRkFDRVMlMjIlMkMlMEElMjAlMjAlMjAlMjAlMjklMjklMEElMjclMjclMjclMjklM0I=\")));\n",
       "    "
      ],
      "text/plain": [
       "<IPython.core.display.Javascript object>"
      ]
     },
     "metadata": {},
     "output_type": "display_data"
    },
    {
     "data": {
      "application/javascript": [
       "$('span:contains(\"# Temp\")').closest('.cell').remove();"
      ],
      "text/plain": [
       "<IPython.core.display.Javascript object>"
      ]
     },
     "metadata": {},
     "output_type": "display_data"
    },
    {
     "data": {
      "application/javascript": [
       "\n",
       "        $('span:contains(\"# Temp\")').closest('.cell').remove();\n",
       "        var code = IPython.notebook.insert_cell_below('code');\n",
       "        code.set_text(decodeURIComponent(window.atob(\"JTIzJTIwVGVtcCUwQWluc2VydCUyOCUyNyUyNyUyNyUwQSUyMCUyMCUyMCUyMHRhbnJpb3ZlcjIwMTVhJTIwJTNEJTIwREIlMjhXb3JrVW5yZWxhdGVkJTI4JTBBJTIwJTIwJTIwJTIwJTIwJTIwJTIwJTIwMjAxNSUyQyUyMCUyMkElMjBwcm9jZXNzJTIwY2FwYWJpbGl0eSUyMGJhc2VkJTIwYXNzZXNzbWVudCUyMG1vZGVsJTIwZm9yJTIwc29mdHdhcmUlMjB3b3JrZm9yY2UlMjBpbiUwQWVtZXJnZW50JTIwc29mdHdhcmUlMjBvcmdhbml6YXRpb25zJTIyJTJDJTBBJTIwJTIwJTIwJTIwJTIwJTIwJTIwJTIwZGlzcGxheSUzRCUyMnRhbnJpb3ZlciUyMiUyQyUwQSUyMCUyMCUyMCUyMCUyMCUyMCUyMCUyMGF1dGhvcnMlM0QlMjJUYW5yaW92ZXIlMkMlMjBPLiUyME96Z3VyJTIwYW5kJTIwRGVtaXJvcnMlMkMlMjBPbnVyJTIyJTJDJTBBJTIwJTIwJTIwJTIwJTIwJTIwJTIwJTIwcGxhY2UlM0RGQUtFJTJDJTBBJTIwJTIwJTIwJTIwJTIwJTIwJTIwJTIwcHAlM0QlMjIyOS00MCUyMiUyQyUwQSUyMCUyMCUyMCUyMCUyMCUyMCUyMCUyMGVudHJ5dHlwZSUzRCUyMmFydGljbGUlMjIlMkMlMEElMjAlMjAlMjAlMjAlMjAlMjAlMjAlMjB2b2x1bWUlM0QlMjIzNyUyMiUyQyUwQSUyMCUyMCUyMCUyMCUyMCUyMCUyMCUyMG1vbnRoJTNEJTIySkFOJTIyJTJDJTBBJTIwJTIwJTIwJTIwJTIwJTIwJTIwJTIwZG9pJTNEJTIyMTAuMTAxNi9qLmNzaS4yMDE0LjA1LjAwMyUyMiUyQyUwQSUyMCUyMCUyMCUyMCUyMCUyMCUyMCUyMGlzc24lM0QlMjIwOTIwLTU0ODklMjIlMkMlMEElMjAlMjAlMjAlMjAlMjAlMjAlMjAlMjBlaXNzbiUzRCUyMjE4NzItNzAxOCUyMiUyQyUwQSUyMCUyMCUyMCUyMCUyMCUyMCUyMCUyMG9yY2lkLW51bWJlcnMlM0QlMjJEZW1pcm9ycyUyQyUyME9udXIvMDAwMC0wMDAxLTY2MDEtMzkzNyUyMiUyQyUwQSUyMCUyMCUyMCUyMCUyMCUyMCUyMCUyMHVuaXF1ZS1pZCUzRCUyMklTSSUzQTAwMDM0MzYzMzQwMDAwNCUyMiUyQyUwQSUyMCUyMCUyMCUyMCUyMCUyMCUyMCUyMElEJTNEJTIySVNJJTNBMDAwMzQzNjMzNDAwMDA0JTIyJTJDJTBBJTIwJTIwJTIwJTIwJTIwJTIwJTIwJTIwd2Vib2ZzY2llbmNlMjAxNSUzRCUyMjElMjIlMkMlMEElMjAlMjAlMjAlMjAlMjAlMjAlMjAlMjBwbGFjZXglM0QlMjJDT01QVVRFUiUyMFNUQU5EQVJEUyUyMCUyNiUyMElOVEVSRkFDRVMlMjIlMkMlMEElMjAlMjAlMjAlMjAlMjklMjklMEElMjclMjclMjclMjklM0I=\")));\n",
       "    "
      ],
      "text/plain": [
       "<IPython.core.display.Javascript object>"
      ]
     },
     "metadata": {},
     "output_type": "display_data"
    },
    {
     "data": {
      "application/javascript": [
       "$('span:contains(\"# Temp\")').closest('.cell').remove();"
      ],
      "text/plain": [
       "<IPython.core.display.Javascript object>"
      ]
     },
     "metadata": {},
     "output_type": "display_data"
    },
    {
     "data": {
      "application/javascript": [
       "\n",
       "        $('span:contains(\"# Temp\")').closest('.cell').remove();\n",
       "        var code = IPython.notebook.insert_cell_below('code');\n",
       "        code.set_text(decodeURIComponent(window.atob(\"JTIzJTIwVGVtcCUwQWluc2VydCUyOCUyNyUyNyUyNyUwQXJpY2hhcmRzb24yMDEyYSUyMCUzRCUyMERCJTI4V29ya1VucmVsYXRlZCUyOCUwQSUyMCUyMCUyMCUyMDIwMTIlMkMlMjAlMjJBJTIwUHJvY2VzcyUyMEZyYW1ld29yayUyMGZvciUyMEdsb2JhbCUyMFNvZnR3YXJlJTIwRW5naW5lZXJpbmclMjBUZWFtcyUyMiUyQyUwQSUyMCUyMCUyMCUyMGRpc3BsYXklM0QlMjJyaWNoYXJkc29uJTIyJTJDJTBBJTIwJTIwJTIwJTIwYXV0aG9ycyUzRCUyMlJpY2hhcmRzb24lMkMlMjBJdGElMjBhbmQlMjBDYXNleSUyQyUyMFZhbGVudGluZSUyMGFuZCUyME1jQ2FmZmVyeSUyQyUyMEZlcmdhbCUyMGFuZCUyMEJ1cnRvbiUyQyUyMEpvaG4lMjBhbmQlMjBCZWVjaGFtJTJDJTIwU2FyYWglMjIlMkMlMEElMjAlMjAlMjAlMjBwbGFjZSUzREZBS0UlMkMlMEElMjAlMjAlMjAlMjBwcCUzRCUyMjExNzUtMTE5MSUyMiUyQyUwQSUyMCUyMCUyMCUyMGVudHJ5dHlwZSUzRCUyMmFydGljbGUlMjIlMkMlMEElMjAlMjAlMjAlMjB2b2x1bWUlM0QlMjI1NCUyMiUyQyUwQSUyMCUyMCUyMCUyMG51bWJlciUzRCUyMjExJTIyJTJDJTBBJTIwJTIwJTIwJTIwbW9udGglM0QlMjJOT1YlMjIlMkMlMEElMjAlMjAlMjAlMjBkb2klM0QlMjIxMC4xMDE2L2ouaW5mc29mLjIwMTIuMDUuMDAyJTIyJTJDJTBBJTIwJTIwJTIwJTIwaXNzbiUzRCUyMjA5NTAtNTg0OSUyMiUyQyUwQSUyMCUyMCUyMCUyMHVuaXF1ZS1pZCUzRCUyMklTSSUzQTAwMDMwODM4NzUwMDAwMiUyMiUyQyUwQSUyMCUyMCUyMCUyMElEJTNEJTIySVNJJTNBMDAwMzA4Mzg3NTAwMDAyJTIyJTJDJTBBJTIwJTIwJTIwJTIwd2Vib2ZzY2llbmNlMjAxNSUzRCUyMjElMjIlMkMlMEElMjAlMjAlMjAlMjBwbGFjZXglM0QlMjJJTkZPUk1BVElPTiUyMEFORCUyMFNPRlRXQVJFJTIwVEVDSE5PTE9HWSUyMiUyQyUwQSUyOSUyOSUwQSUyNyUyNyUyNyUyOSUzQg==\")));\n",
       "    "
      ],
      "text/plain": [
       "<IPython.core.display.Javascript object>"
      ]
     },
     "metadata": {},
     "output_type": "display_data"
    },
    {
     "data": {
      "application/javascript": [
       "$('span:contains(\"# Temp\")').closest('.cell').remove();"
      ],
      "text/plain": [
       "<IPython.core.display.Javascript object>"
      ]
     },
     "metadata": {},
     "output_type": "display_data"
    },
    {
     "data": {
      "application/javascript": [
       "\n",
       "        $('span:contains(\"# Temp\")').closest('.cell').remove();\n",
       "        var code = IPython.notebook.insert_cell_below('code');\n",
       "        code.set_text(decodeURIComponent(window.atob(\"JTIzJTIwVGVtcCUwQWluc2VydCUyOCUyNyUyNyUyNyUwQXJpY2hhcmRzb24yMDEyYSUyMCUzRCUyMERCJTI4V29ya1VucmVsYXRlZCUyOCUwQSUyMCUyMCUyMCUyMDIwMTIlMkMlMjAlMjJBJTIwUHJvY2VzcyUyMEZyYW1ld29yayUyMGZvciUyMEdsb2JhbCUyMFNvZnR3YXJlJTIwRW5naW5lZXJpbmclMjBUZWFtcyUyMiUyQyUwQSUyMCUyMCUyMCUyMGRpc3BsYXklM0QlMjJyaWNoYXJkc29uJTIyJTJDJTBBJTIwJTIwJTIwJTIwYXV0aG9ycyUzRCUyMlJpY2hhcmRzb24lMkMlMjBJdGElMjBhbmQlMjBDYXNleSUyQyUyMFZhbGVudGluZSUyMGFuZCUyME1jQ2FmZmVyeSUyQyUyMEZlcmdhbCUyMGFuZCUyMEJ1cnRvbiUyQyUyMEpvaG4lMjBhbmQlMjBCZWVjaGFtJTJDJTIwU2FyYWglMjIlMkMlMEElMjAlMjAlMjAlMjBwbGFjZSUzREZBS0UlMkMlMEElMjAlMjAlMjAlMjBwcCUzRCUyMjExNzUtMTE5MSUyMiUyQyUwQSUyMCUyMCUyMCUyMGVudHJ5dHlwZSUzRCUyMmFydGljbGUlMjIlMkMlMEElMjAlMjAlMjAlMjB2b2x1bWUlM0QlMjI1NCUyMiUyQyUwQSUyMCUyMCUyMCUyMG51bWJlciUzRCUyMjExJTIyJTJDJTBBJTIwJTIwJTIwJTIwbW9udGglM0QlMjJOT1YlMjIlMkMlMEElMjAlMjAlMjAlMjBkb2klM0QlMjIxMC4xMDE2L2ouaW5mc29mLjIwMTIuMDUuMDAyJTIyJTJDJTBBJTIwJTIwJTIwJTIwaXNzbiUzRCUyMjA5NTAtNTg0OSUyMiUyQyUwQSUyMCUyMCUyMCUyMHVuaXF1ZS1pZCUzRCUyMklTSSUzQTAwMDMwODM4NzUwMDAwMiUyMiUyQyUwQSUyMCUyMCUyMCUyMElEJTNEJTIySVNJJTNBMDAwMzA4Mzg3NTAwMDAyJTIyJTJDJTBBJTIwJTIwJTIwJTIwd2Vib2ZzY2llbmNlMjAxNSUzRCUyMjElMjIlMkMlMEElMjAlMjAlMjAlMjBwbGFjZXglM0QlMjJJTkZPUk1BVElPTiUyMEFORCUyMFNPRlRXQVJFJTIwVEVDSE5PTE9HWSUyMiUyQyUwQSUyOSUyOSUwQSUyNyUyNyUyNyUyOSUzQg==\")));\n",
       "    "
      ],
      "text/plain": [
       "<IPython.core.display.Javascript object>"
      ]
     },
     "metadata": {},
     "output_type": "display_data"
    },
    {
     "data": {
      "application/javascript": [
       "$('span:contains(\"# Temp\")').closest('.cell').remove();"
      ],
      "text/plain": [
       "<IPython.core.display.Javascript object>"
      ]
     },
     "metadata": {},
     "output_type": "display_data"
    },
    {
     "data": {
      "application/javascript": [
       "\n",
       "        $('span:contains(\"# Temp\")').closest('.cell').remove();\n",
       "        var code = IPython.notebook.insert_cell_below('code');\n",
       "        code.set_text(decodeURIComponent(window.atob(\"JTIzJTIwVGVtcCUwQWluc2VydCUyOCUyNyUyNyUyNyUyNyUyNyUyNyUyOSUzQiUwQXNldF9hdHRyaWJ1dGUlMjglMjdqYWhhbmdpcmlhbjIwMTFhJTI3JTJDJTIwJTI3bW9udGglMjclMkMlMjAlMjdKVU4lMjclMjklM0IlMEFzZXRfYXR0cmlidXRlJTI4JTI3amFoYW5naXJpYW4yMDExYSUyNyUyQyUyMCUyN3Jlc2VhcmNoZXJpZC1udW1iZXJzJTI3JTJDJTIwJTI3R2FyZyUyQyUyMExhbGl0L0YtMTA5Ny0yMDEwJTBBJTI3JTI5JTNCJTBBc2V0X2F0dHJpYnV0ZSUyOCUyN2phaGFuZ2lyaWFuMjAxMWElMjclMkMlMjAlMjdvcmNpZC1udW1iZXJzJTI3JTJDJTIwJTI3R2FyZyUyQyUyMExhbGl0LzAwMDAtMDAwMi0zODY4LTA0ODElMEFFbGRhYmklMkMlMjBUaWxsYWwvMDAwMC0wMDAyLTAwNDUtNDA3NSUwQVlvdW5nJTJDJTIwVGVycnkvMDAwMC0wMDAxLTk1NDUtMjI2OSUyNyUyOSUzQiUwQXNldF9hdHRyaWJ1dGUlMjglMjdqYWhhbmdpcmlhbjIwMTFhJTI3JTJDJTIwJTI3dW5pcXVlLWlkJTI3JTJDJTIwJTI3SVNJJTNBMDAwMjkwODM2MDAwMDA3JTI3JTI5JTNCJTBBc2V0X2F0dHJpYnV0ZSUyOCUyN2phaGFuZ2lyaWFuMjAxMWElMjclMkMlMjAlMjd3ZWJvZnNjaWVuY2UyMDE1JTI3JTJDJTIwJTI3MSUyNyUyOSUzQg==\")));\n",
       "    "
      ],
      "text/plain": [
       "<IPython.core.display.Javascript object>"
      ]
     },
     "metadata": {},
     "output_type": "display_data"
    },
    {
     "data": {
      "application/javascript": [
       "$('span:contains(\"# Temp\")').closest('.cell').remove();"
      ],
      "text/plain": [
       "<IPython.core.display.Javascript object>"
      ]
     },
     "metadata": {},
     "output_type": "display_data"
    },
    {
     "data": {
      "application/javascript": [
       "\n",
       "        $('span:contains(\"# Temp\")').closest('.cell').remove();\n",
       "        var code = IPython.notebook.insert_cell_below('code');\n",
       "        code.set_text(decodeURIComponent(window.atob(\"JTIzJTIwVGVtcCUwQWluc2VydCUyOCUyNyUyNyUyNyUyNyUyNyUyNyUyOSUzQiUwQXNldF9hdHRyaWJ1dGUlMjglMjdqYWhhbmdpcmlhbjIwMTFhJTI3JTJDJTIwJTI3bW9udGglMjclMkMlMjAlMjdKVU4lMjclMjklM0IlMEFzZXRfYXR0cmlidXRlJTI4JTI3amFoYW5naXJpYW4yMDExYSUyNyUyQyUyMCUyN3Jlc2VhcmNoZXJpZC1udW1iZXJzJTI3JTJDJTIwJTI3R2FyZyUyQyUyMExhbGl0L0YtMTA5Ny0yMDEwJTBBJTI3JTI5JTNCJTBBc2V0X2F0dHJpYnV0ZSUyOCUyN2phaGFuZ2lyaWFuMjAxMWElMjclMkMlMjAlMjdvcmNpZC1udW1iZXJzJTI3JTJDJTIwJTI3R2FyZyUyQyUyMExhbGl0LzAwMDAtMDAwMi0zODY4LTA0ODElMEFFbGRhYmklMkMlMjBUaWxsYWwvMDAwMC0wMDAyLTAwNDUtNDA3NSUwQVlvdW5nJTJDJTIwVGVycnkvMDAwMC0wMDAxLTk1NDUtMjI2OSUyNyUyOSUzQiUwQXNldF9hdHRyaWJ1dGUlMjglMjdqYWhhbmdpcmlhbjIwMTFhJTI3JTJDJTIwJTI3dW5pcXVlLWlkJTI3JTJDJTIwJTI3SVNJJTNBMDAwMjkwODM2MDAwMDA3JTI3JTI5JTNCJTBBc2V0X2F0dHJpYnV0ZSUyOCUyN2phaGFuZ2lyaWFuMjAxMWElMjclMkMlMjAlMjd3ZWJvZnNjaWVuY2UyMDE1JTI3JTJDJTIwJTI3MSUyNyUyOSUzQg==\")));\n",
       "    "
      ],
      "text/plain": [
       "<IPython.core.display.Javascript object>"
      ]
     },
     "metadata": {},
     "output_type": "display_data"
    },
    {
     "data": {
      "application/javascript": [
       "$('span:contains(\"# Temp\")').closest('.cell').remove();"
      ],
      "text/plain": [
       "<IPython.core.display.Javascript object>"
      ]
     },
     "metadata": {},
     "output_type": "display_data"
    },
    {
     "data": {
      "application/javascript": [
       "\n",
       "        $('span:contains(\"# Temp\")').closest('.cell').remove();\n",
       "        var code = IPython.notebook.insert_cell_below('code');\n",
       "        code.set_text(decodeURIComponent(window.atob(\"JTIzJTIwVGVtcCUwQWluc2VydCUyOCUyNyUyNyUyNyUwQWdhcm91c2kyMDEzYSUyMCUzRCUyMERCJTI4V29ya1VucmVsYXRlZCUyOCUwQSUyMCUyMCUyMCUyMDIwMTMlMkMlMjAlMjJBJTIwc3VydmV5JTIwb2YlMjBzb2Z0d2FyZSUyMHRlc3RpbmclMjBwcmFjdGljZXMlMjBpbiUyMENhbmFkYSUyMiUyQyUwQSUyMCUyMCUyMCUyMGRpc3BsYXklM0QlMjJnYXJvdXNpJTIyJTJDJTBBJTIwJTIwJTIwJTIwYXV0aG9ycyUzRCUyMkdhcm91c2klMkMlMjBWYWhpZCUyMGFuZCUyMFpoaSUyQyUyMEp1bmppJTIyJTJDJTBBJTIwJTIwJTIwJTIwcGxhY2UlM0RGQUtFJTJDJTBBJTIwJTIwJTIwJTIwcHAlM0QlMjIxMzU0LTEzNzYlMjIlMkMlMEElMjAlMjAlMjAlMjBlbnRyeXR5cGUlM0QlMjJhcnRpY2xlJTIyJTJDJTBBJTIwJTIwJTIwJTIwdm9sdW1lJTNEJTIyODYlMjIlMkMlMEElMjAlMjAlMjAlMjBudW1iZXIlM0QlMjI1JTIyJTJDJTBBJTIwJTIwJTIwJTIwbW9udGglM0QlMjJNQVklMjIlMkMlMEElMjAlMjAlMjAlMjBkb2klM0QlMjIxMC4xMDE2L2ouanNzLjIwMTIuMTIuMDUxJTIyJTJDJTBBJTIwJTIwJTIwJTIwaXNzbiUzRCUyMjAxNjQtMTIxMiUyMiUyQyUwQSUyMCUyMCUyMCUyMGVpc3NuJTNEJTIyMTg3My0xMjI4JTIyJTJDJTBBJTIwJTIwJTIwJTIwb3JjaWQtbnVtYmVycyUzRCUyMkdhcm91c2klMkMlMjBWYWhpZC8wMDAwLTAwMDEtNjU5MC03NTc2JTIyJTJDJTBBJTIwJTIwJTIwJTIwdW5pcXVlLWlkJTNEJTIySVNJJTNBMDAwMzE3MzIyNDAwMDE0JTIyJTJDJTBBJTIwJTIwJTIwJTIwSUQlM0QlMjJJU0klM0EwMDAzMTczMjI0MDAwMTQlMjIlMkMlMEElMjAlMjAlMjAlMjB3ZWJvZnNjaWVuY2UyMDE1JTNEJTIyMSUyMiUyQyUwQSUyMCUyMCUyMCUyMHBsYWNleCUzRCUyMkpPVVJOQUwlMjBPRiUyMFNZU1RFTVMlMjBBTkQlMjBTT0ZUV0FSRSUyMiUyQyUwQSUyOSUyOSUwQSUyNyUyNyUyNyUyOSUzQg==\")));\n",
       "    "
      ],
      "text/plain": [
       "<IPython.core.display.Javascript object>"
      ]
     },
     "metadata": {},
     "output_type": "display_data"
    },
    {
     "data": {
      "application/javascript": [
       "$('span:contains(\"# Temp\")').closest('.cell').remove();"
      ],
      "text/plain": [
       "<IPython.core.display.Javascript object>"
      ]
     },
     "metadata": {},
     "output_type": "display_data"
    },
    {
     "data": {
      "application/javascript": [
       "\n",
       "        $('span:contains(\"# Temp\")').closest('.cell').remove();\n",
       "        var code = IPython.notebook.insert_cell_below('code');\n",
       "        code.set_text(decodeURIComponent(window.atob(\"JTIzJTIwVGVtcCUwQWluc2VydCUyOCUyNyUyNyUyNyUwQWdhcm91c2kyMDEzYSUyMCUzRCUyMERCJTI4V29ya1VucmVsYXRlZCUyOCUwQSUyMCUyMCUyMCUyMDIwMTMlMkMlMjAlMjJBJTIwc3VydmV5JTIwb2YlMjBzb2Z0d2FyZSUyMHRlc3RpbmclMjBwcmFjdGljZXMlMjBpbiUyMENhbmFkYSUyMiUyQyUwQSUyMCUyMCUyMCUyMGRpc3BsYXklM0QlMjJnYXJvdXNpJTIyJTJDJTBBJTIwJTIwJTIwJTIwYXV0aG9ycyUzRCUyMkdhcm91c2klMkMlMjBWYWhpZCUyMGFuZCUyMFpoaSUyQyUyMEp1bmppJTIyJTJDJTBBJTIwJTIwJTIwJTIwcGxhY2UlM0RGQUtFJTJDJTBBJTIwJTIwJTIwJTIwcHAlM0QlMjIxMzU0LTEzNzYlMjIlMkMlMEElMjAlMjAlMjAlMjBlbnRyeXR5cGUlM0QlMjJhcnRpY2xlJTIyJTJDJTBBJTIwJTIwJTIwJTIwdm9sdW1lJTNEJTIyODYlMjIlMkMlMEElMjAlMjAlMjAlMjBudW1iZXIlM0QlMjI1JTIyJTJDJTBBJTIwJTIwJTIwJTIwbW9udGglM0QlMjJNQVklMjIlMkMlMEElMjAlMjAlMjAlMjBkb2klM0QlMjIxMC4xMDE2L2ouanNzLjIwMTIuMTIuMDUxJTIyJTJDJTBBJTIwJTIwJTIwJTIwaXNzbiUzRCUyMjAxNjQtMTIxMiUyMiUyQyUwQSUyMCUyMCUyMCUyMGVpc3NuJTNEJTIyMTg3My0xMjI4JTIyJTJDJTBBJTIwJTIwJTIwJTIwb3JjaWQtbnVtYmVycyUzRCUyMkdhcm91c2klMkMlMjBWYWhpZC8wMDAwLTAwMDEtNjU5MC03NTc2JTIyJTJDJTBBJTIwJTIwJTIwJTIwdW5pcXVlLWlkJTNEJTIySVNJJTNBMDAwMzE3MzIyNDAwMDE0JTIyJTJDJTBBJTIwJTIwJTIwJTIwSUQlM0QlMjJJU0klM0EwMDAzMTczMjI0MDAwMTQlMjIlMkMlMEElMjAlMjAlMjAlMjB3ZWJvZnNjaWVuY2UyMDE1JTNEJTIyMSUyMiUyQyUwQSUyMCUyMCUyMCUyMHBsYWNleCUzRCUyMkpPVVJOQUwlMjBPRiUyMFNZU1RFTVMlMjBBTkQlMjBTT0ZUV0FSRSUyMiUyQyUwQSUyOSUyOSUwQSUyNyUyNyUyNyUyOSUzQg==\")));\n",
       "    "
      ],
      "text/plain": [
       "<IPython.core.display.Javascript object>"
      ]
     },
     "metadata": {},
     "output_type": "display_data"
    },
    {
     "data": {
      "application/javascript": [
       "$('span:contains(\"# Temp\")').closest('.cell').remove();"
      ],
      "text/plain": [
       "<IPython.core.display.Javascript object>"
      ]
     },
     "metadata": {},
     "output_type": "display_data"
    },
    {
     "data": {
      "application/javascript": [
       "\n",
       "        $('span:contains(\"# Temp\")').closest('.cell').remove();\n",
       "        var code = IPython.notebook.insert_cell_below('code');\n",
       "        code.set_text(decodeURIComponent(window.atob(\"JTIzJTIwVGVtcCUwQWluc2VydCUyOCUyNyUyNyUyNyUwQSUyMCUyMCUyMCUyMGhvbGwyMDEyYSUyMCUzRCUyMERCJTI4V29ya1VucmVsYXRlZCUyOCUwQSUyMCUyMCUyMCUyMCUyMCUyMCUyMCUyMDIwMTIlMkMlMjAlMjJBJTIwc3lzdGVtYXRpYyUyMHJldmlldyUyMGFuZCUyMGFuJTIwZXhwZXJ0JTIwc3VydmV5JTIwb24lMjBjYXBhYmlsaXRpZXMlMjBzdXBwb3J0aW5nJTBBbXVsdGklMjBwcm9kdWN0JTIwbGluZXMlMjIlMkMlMEElMjAlMjAlMjAlMjAlMjAlMjAlMjAlMjBkaXNwbGF5JTNEJTIyaG9sbCUyMiUyQyUwQSUyMCUyMCUyMCUyMCUyMCUyMCUyMCUyMGF1dGhvcnMlM0QlMjJIb2xsJTJDJTIwR2VyYWxkJTIwYW5kJTIwR3J1ZW5iYWNoZXIlMkMlMjBQYXVsJTIwYW5kJTIwUmFiaXNlciUyQyUyMFJpY2slMjIlMkMlMEElMjAlMjAlMjAlMjAlMjAlMjAlMjAlMjBwbGFjZSUzREZBS0UlMkMlMEElMjAlMjAlMjAlMjAlMjAlMjAlMjAlMjBwcCUzRCUyMjgyOC04NTIlMjIlMkMlMEElMjAlMjAlMjAlMjAlMjAlMjAlMjAlMjBlbnRyeXR5cGUlM0QlMjJhcnRpY2xlJTIyJTJDJTBBJTIwJTIwJTIwJTIwJTIwJTIwJTIwJTIwdm9sdW1lJTNEJTIyNTQlMjIlMkMlMEElMjAlMjAlMjAlMjAlMjAlMjAlMjAlMjBudW1iZXIlM0QlMjI4JTJDJTIwU0klMjIlMkMlMEElMjAlMjAlMjAlMjAlMjAlMjAlMjAlMjBtb250aCUzRCUyMkFVRyUyMiUyQyUwQSUyMCUyMCUyMCUyMCUyMCUyMCUyMCUyMGRvaSUzRCUyMjEwLjEwMTYvai5pbmZzb2YuMjAxMi4wMi4wMDIlMjIlMkMlMEElMjAlMjAlMjAlMjAlMjAlMjAlMjAlMjBpc3NuJTNEJTIyMDk1MC01ODQ5JTIyJTJDJTBBJTIwJTIwJTIwJTIwJTIwJTIwJTIwJTIwZWlzc24lM0QlMjIxODczLTYwMjUlMjIlMkMlMEElMjAlMjAlMjAlMjAlMjAlMjAlMjAlMjByZXNlYXJjaGVyaWQtbnVtYmVycyUzRCUyMlJhYmlzZXIlMkMlMjBSaWNrL0ItODY3My0yMDE3JTBBR3J1bmJhY2hlciUyQyUyMFBhdWwvQy0yOTcwLTIwMTMlMjIlMkMlMEElMjAlMjAlMjAlMjAlMjAlMjAlMjAlMjBvcmNpZC1udW1iZXJzJTNEJTIyUmFiaXNlciUyQyUyMFJpY2svMDAwMC0wMDAzLTM4NjItMTExMiUwQUdydW5iYWNoZXIlMkMlMjBQYXVsLzAwMDAtMDAwMi0xOTUxLTUyODglMjIlMkMlMEElMjAlMjAlMjAlMjAlMjAlMjAlMjAlMjB1bmlxdWUtaWQlM0QlMjJJU0klM0EwMDAzMDU1OTkyMDAwMDQlMjIlMkMlMEElMjAlMjAlMjAlMjAlMjAlMjAlMjAlMjBJRCUzRCUyMklTSSUzQTAwMDMwNTU5OTIwMDAwNCUyMiUyQyUwQSUyMCUyMCUyMCUyMCUyMCUyMCUyMCUyMHdlYm9mc2NpZW5jZTIwMTUlM0QlMjIxJTIyJTJDJTBBJTIwJTIwJTIwJTIwJTIwJTIwJTIwJTIwcGxhY2V4JTNEJTIySU5GT1JNQVRJT04lMjBBTkQlMjBTT0ZUV0FSRSUyMFRFQ0hOT0xPR1klMjIlMkMlMEElMjAlMjAlMjAlMjAlMjklMjklMEElMjclMjclMjclMjklM0I=\")));\n",
       "    "
      ],
      "text/plain": [
       "<IPython.core.display.Javascript object>"
      ]
     },
     "metadata": {},
     "output_type": "display_data"
    },
    {
     "data": {
      "application/javascript": [
       "$('span:contains(\"# Temp\")').closest('.cell').remove();"
      ],
      "text/plain": [
       "<IPython.core.display.Javascript object>"
      ]
     },
     "metadata": {},
     "output_type": "display_data"
    },
    {
     "data": {
      "application/javascript": [
       "\n",
       "        $('span:contains(\"# Temp\")').closest('.cell').remove();\n",
       "        var code = IPython.notebook.insert_cell_below('code');\n",
       "        code.set_text(decodeURIComponent(window.atob(\"JTIzJTIwVGVtcCUwQWluc2VydCUyOCUyNyUyNyUyNyUwQSUyMCUyMCUyMCUyMGhvbGwyMDEyYSUyMCUzRCUyMERCJTI4V29ya1VucmVsYXRlZCUyOCUwQSUyMCUyMCUyMCUyMCUyMCUyMCUyMCUyMDIwMTIlMkMlMjAlMjJBJTIwc3lzdGVtYXRpYyUyMHJldmlldyUyMGFuZCUyMGFuJTIwZXhwZXJ0JTIwc3VydmV5JTIwb24lMjBjYXBhYmlsaXRpZXMlMjBzdXBwb3J0aW5nJTBBbXVsdGklMjBwcm9kdWN0JTIwbGluZXMlMjIlMkMlMEElMjAlMjAlMjAlMjAlMjAlMjAlMjAlMjBkaXNwbGF5JTNEJTIyaG9sbCUyMiUyQyUwQSUyMCUyMCUyMCUyMCUyMCUyMCUyMCUyMGF1dGhvcnMlM0QlMjJIb2xsJTJDJTIwR2VyYWxkJTIwYW5kJTIwR3J1ZW5iYWNoZXIlMkMlMjBQYXVsJTIwYW5kJTIwUmFiaXNlciUyQyUyMFJpY2slMjIlMkMlMEElMjAlMjAlMjAlMjAlMjAlMjAlMjAlMjBwbGFjZSUzREZBS0UlMkMlMEElMjAlMjAlMjAlMjAlMjAlMjAlMjAlMjBwcCUzRCUyMjgyOC04NTIlMjIlMkMlMEElMjAlMjAlMjAlMjAlMjAlMjAlMjAlMjBlbnRyeXR5cGUlM0QlMjJhcnRpY2xlJTIyJTJDJTBBJTIwJTIwJTIwJTIwJTIwJTIwJTIwJTIwdm9sdW1lJTNEJTIyNTQlMjIlMkMlMEElMjAlMjAlMjAlMjAlMjAlMjAlMjAlMjBudW1iZXIlM0QlMjI4JTJDJTIwU0klMjIlMkMlMEElMjAlMjAlMjAlMjAlMjAlMjAlMjAlMjBtb250aCUzRCUyMkFVRyUyMiUyQyUwQSUyMCUyMCUyMCUyMCUyMCUyMCUyMCUyMGRvaSUzRCUyMjEwLjEwMTYvai5pbmZzb2YuMjAxMi4wMi4wMDIlMjIlMkMlMEElMjAlMjAlMjAlMjAlMjAlMjAlMjAlMjBpc3NuJTNEJTIyMDk1MC01ODQ5JTIyJTJDJTBBJTIwJTIwJTIwJTIwJTIwJTIwJTIwJTIwZWlzc24lM0QlMjIxODczLTYwMjUlMjIlMkMlMEElMjAlMjAlMjAlMjAlMjAlMjAlMjAlMjByZXNlYXJjaGVyaWQtbnVtYmVycyUzRCUyMlJhYmlzZXIlMkMlMjBSaWNrL0ItODY3My0yMDE3JTBBR3J1bmJhY2hlciUyQyUyMFBhdWwvQy0yOTcwLTIwMTMlMjIlMkMlMEElMjAlMjAlMjAlMjAlMjAlMjAlMjAlMjBvcmNpZC1udW1iZXJzJTNEJTIyUmFiaXNlciUyQyUyMFJpY2svMDAwMC0wMDAzLTM4NjItMTExMiUwQUdydW5iYWNoZXIlMkMlMjBQYXVsLzAwMDAtMDAwMi0xOTUxLTUyODglMjIlMkMlMEElMjAlMjAlMjAlMjAlMjAlMjAlMjAlMjB1bmlxdWUtaWQlM0QlMjJJU0klM0EwMDAzMDU1OTkyMDAwMDQlMjIlMkMlMEElMjAlMjAlMjAlMjAlMjAlMjAlMjAlMjBJRCUzRCUyMklTSSUzQTAwMDMwNTU5OTIwMDAwNCUyMiUyQyUwQSUyMCUyMCUyMCUyMCUyMCUyMCUyMCUyMHdlYm9mc2NpZW5jZTIwMTUlM0QlMjIxJTIyJTJDJTBBJTIwJTIwJTIwJTIwJTIwJTIwJTIwJTIwcGxhY2V4JTNEJTIySU5GT1JNQVRJT04lMjBBTkQlMjBTT0ZUV0FSRSUyMFRFQ0hOT0xPR1klMjIlMkMlMEElMjAlMjAlMjAlMjAlMjklMjklMEElMjclMjclMjclMjklM0I=\")));\n",
       "    "
      ],
      "text/plain": [
       "<IPython.core.display.Javascript object>"
      ]
     },
     "metadata": {},
     "output_type": "display_data"
    },
    {
     "data": {
      "application/javascript": [
       "$('span:contains(\"# Temp\")').closest('.cell').remove();"
      ],
      "text/plain": [
       "<IPython.core.display.Javascript object>"
      ]
     },
     "metadata": {},
     "output_type": "display_data"
    },
    {
     "data": {
      "application/javascript": [
       "\n",
       "        $('span:contains(\"# Temp\")').closest('.cell').remove();\n",
       "        var code = IPython.notebook.insert_cell_below('code');\n",
       "        code.set_text(decodeURIComponent(window.atob(\"JTIzJTIwVGVtcCUwQWluc2VydCUyOCUyNyUyNyUyNyUwQWtodXJ1bTIwMDlhJTIwJTNEJTIwREIlMjhXb3JrVW5yZWxhdGVkJTI4JTBBJTIwJTIwJTIwJTIwMjAwOSUyQyUyMCUyMkElMjBzeXN0ZW1hdGljJTIwcmV2aWV3JTIwb2YlMjBkb21haW4lMjBhbmFseXNpcyUyMHNvbHV0aW9ucyUyMGZvciUyMHByb2R1Y3QlMjBsaW5lcyUyMiUyQyUwQSUyMCUyMCUyMCUyMGRpc3BsYXklM0QlMjJraHVydW0lMjIlMkMlMEElMjAlMjAlMjAlMjBhdXRob3JzJTNEJTIyS2h1cnVtJTJDJTIwTWFodmlzaCUyMGFuZCUyMEdvcnNjaGVrJTJDJTIwVG9ueSUyMiUyQyUwQSUyMCUyMCUyMCUyMHBsYWNlJTNERkFLRSUyQyUwQSUyMCUyMCUyMCUyMHBwJTNEJTIyMTk4Mi0yMDAzJTIyJTJDJTBBJTIwJTIwJTIwJTIwZW50cnl0eXBlJTNEJTIyYXJ0aWNsZSUyMiUyQyUwQSUyMCUyMCUyMCUyMHZvbHVtZSUzRCUyMjgyJTIyJTJDJTBBJTIwJTIwJTIwJTIwbnVtYmVyJTNEJTIyMTIlMjIlMkMlMEElMjAlMjAlMjAlMjBtb250aCUzRCUyMkRFQyUyMiUyQyUwQSUyMCUyMCUyMCUyMGRvaSUzRCUyMjEwLjEwMTYvai5qc3MuMjAwOS4wNi4wNDglMjIlMkMlMEElMjAlMjAlMjAlMjBpc3NuJTNEJTIyMDE2NC0xMjEyJTIyJTJDJTBBJTIwJTIwJTIwJTIwcmVzZWFyY2hlcmlkLW51bWJlcnMlM0QlMjJHb3JzY2hlayUyQyUyMFRvbnkvRS0zNDQ1LTIwMTMlMjIlMkMlMEElMjAlMjAlMjAlMjB1bmlxdWUtaWQlM0QlMjJJU0klM0EwMDAyNzIwNjEwMDAwMDYlMjIlMkMlMEElMjAlMjAlMjAlMjBJRCUzRCUyMklTSSUzQTAwMDI3MjA2MTAwMDAwNiUyMiUyQyUwQSUyMCUyMCUyMCUyMHdlYm9mc2NpZW5jZTIwMTUlM0QlMjIxJTIyJTJDJTBBJTIwJTIwJTIwJTIwcGxhY2V4JTNEJTIySk9VUk5BTCUyME9GJTIwU1lTVEVNUyUyMEFORCUyMFNPRlRXQVJFJTIyJTJDJTBBJTI5JTI5JTBBJTI3JTI3JTI3JTI5JTNC\")));\n",
       "    "
      ],
      "text/plain": [
       "<IPython.core.display.Javascript object>"
      ]
     },
     "metadata": {},
     "output_type": "display_data"
    },
    {
     "data": {
      "application/javascript": [
       "$('span:contains(\"# Temp\")').closest('.cell').remove();"
      ],
      "text/plain": [
       "<IPython.core.display.Javascript object>"
      ]
     },
     "metadata": {},
     "output_type": "display_data"
    },
    {
     "data": {
      "application/javascript": [
       "\n",
       "        $('span:contains(\"# Temp\")').closest('.cell').remove();\n",
       "        var code = IPython.notebook.insert_cell_below('code');\n",
       "        code.set_text(decodeURIComponent(window.atob(\"JTIzJTIwVGVtcCUwQWluc2VydCUyOCUyNyUyNyUyNyUwQWtodXJ1bTIwMDlhJTIwJTNEJTIwREIlMjhXb3JrVW5yZWxhdGVkJTI4JTBBJTIwJTIwJTIwJTIwMjAwOSUyQyUyMCUyMkElMjBzeXN0ZW1hdGljJTIwcmV2aWV3JTIwb2YlMjBkb21haW4lMjBhbmFseXNpcyUyMHNvbHV0aW9ucyUyMGZvciUyMHByb2R1Y3QlMjBsaW5lcyUyMiUyQyUwQSUyMCUyMCUyMCUyMGRpc3BsYXklM0QlMjJraHVydW0lMjIlMkMlMEElMjAlMjAlMjAlMjBhdXRob3JzJTNEJTIyS2h1cnVtJTJDJTIwTWFodmlzaCUyMGFuZCUyMEdvcnNjaGVrJTJDJTIwVG9ueSUyMiUyQyUwQSUyMCUyMCUyMCUyMHBsYWNlJTNERkFLRSUyQyUwQSUyMCUyMCUyMCUyMHBwJTNEJTIyMTk4Mi0yMDAzJTIyJTJDJTBBJTIwJTIwJTIwJTIwZW50cnl0eXBlJTNEJTIyYXJ0aWNsZSUyMiUyQyUwQSUyMCUyMCUyMCUyMHZvbHVtZSUzRCUyMjgyJTIyJTJDJTBBJTIwJTIwJTIwJTIwbnVtYmVyJTNEJTIyMTIlMjIlMkMlMEElMjAlMjAlMjAlMjBtb250aCUzRCUyMkRFQyUyMiUyQyUwQSUyMCUyMCUyMCUyMGRvaSUzRCUyMjEwLjEwMTYvai5qc3MuMjAwOS4wNi4wNDglMjIlMkMlMEElMjAlMjAlMjAlMjBpc3NuJTNEJTIyMDE2NC0xMjEyJTIyJTJDJTBBJTIwJTIwJTIwJTIwcmVzZWFyY2hlcmlkLW51bWJlcnMlM0QlMjJHb3JzY2hlayUyQyUyMFRvbnkvRS0zNDQ1LTIwMTMlMjIlMkMlMEElMjAlMjAlMjAlMjB1bmlxdWUtaWQlM0QlMjJJU0klM0EwMDAyNzIwNjEwMDAwMDYlMjIlMkMlMEElMjAlMjAlMjAlMjBJRCUzRCUyMklTSSUzQTAwMDI3MjA2MTAwMDAwNiUyMiUyQyUwQSUyMCUyMCUyMCUyMHdlYm9mc2NpZW5jZTIwMTUlM0QlMjIxJTIyJTJDJTBBJTIwJTIwJTIwJTIwcGxhY2V4JTNEJTIySk9VUk5BTCUyME9GJTIwU1lTVEVNUyUyMEFORCUyMFNPRlRXQVJFJTIyJTJDJTBBJTI5JTI5JTBBJTI3JTI3JTI3JTI5JTNC\")));\n",
       "    "
      ],
      "text/plain": [
       "<IPython.core.display.Javascript object>"
      ]
     },
     "metadata": {},
     "output_type": "display_data"
    },
    {
     "data": {
      "application/javascript": [
       "$('span:contains(\"# Temp\")').closest('.cell').remove();"
      ],
      "text/plain": [
       "<IPython.core.display.Javascript object>"
      ]
     },
     "metadata": {},
     "output_type": "display_data"
    },
    {
     "data": {
      "application/javascript": [
       "\n",
       "        $('span:contains(\"# Temp\")').closest('.cell').remove();\n",
       "        var code = IPython.notebook.insert_cell_below('code');\n",
       "        code.set_text(decodeURIComponent(window.atob(\"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\")));\n",
       "    "
      ],
      "text/plain": [
       "<IPython.core.display.Javascript object>"
      ]
     },
     "metadata": {},
     "output_type": "display_data"
    },
    {
     "data": {
      "application/javascript": [
       "$('span:contains(\"# Temp\")').closest('.cell').remove();"
      ],
      "text/plain": [
       "<IPython.core.display.Javascript object>"
      ]
     },
     "metadata": {},
     "output_type": "display_data"
    },
    {
     "data": {
      "application/javascript": [
       "\n",
       "        $('span:contains(\"# Temp\")').closest('.cell').remove();\n",
       "        var code = IPython.notebook.insert_cell_below('code');\n",
       "        code.set_text(decodeURIComponent(window.atob(\"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\")));\n",
       "    "
      ],
      "text/plain": [
       "<IPython.core.display.Javascript object>"
      ]
     },
     "metadata": {},
     "output_type": "display_data"
    },
    {
     "data": {
      "application/javascript": [
       "$('span:contains(\"# Temp\")').closest('.cell').remove();"
      ],
      "text/plain": [
       "<IPython.core.display.Javascript object>"
      ]
     },
     "metadata": {},
     "output_type": "display_data"
    },
    {
     "data": {
      "application/javascript": [
       "\n",
       "        $('span:contains(\"# Temp\")').closest('.cell').remove();\n",
       "        var code = IPython.notebook.insert_cell_below('code');\n",
       "        code.set_text(decodeURIComponent(window.atob(\"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\")));\n",
       "    "
      ],
      "text/plain": [
       "<IPython.core.display.Javascript object>"
      ]
     },
     "metadata": {},
     "output_type": "display_data"
    },
    {
     "data": {
      "application/javascript": [
       "$('span:contains(\"# Temp\")').closest('.cell').remove();"
      ],
      "text/plain": [
       "<IPython.core.display.Javascript object>"
      ]
     },
     "metadata": {},
     "output_type": "display_data"
    },
    {
     "data": {
      "application/javascript": [
       "\n",
       "        $('span:contains(\"# Temp\")').closest('.cell').remove();\n",
       "        var code = IPython.notebook.insert_cell_below('code');\n",
       "        code.set_text(decodeURIComponent(window.atob(\"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\")));\n",
       "    "
      ],
      "text/plain": [
       "<IPython.core.display.Javascript object>"
      ]
     },
     "metadata": {},
     "output_type": "display_data"
    },
    {
     "data": {
      "application/javascript": [
       "$('span:contains(\"# Temp\")').closest('.cell').remove();"
      ],
      "text/plain": [
       "<IPython.core.display.Javascript object>"
      ]
     },
     "metadata": {},
     "output_type": "display_data"
    },
    {
     "data": {
      "application/javascript": [
       "\n",
       "        $('span:contains(\"# Temp\")').closest('.cell').remove();\n",
       "        var code = IPython.notebook.insert_cell_below('code');\n",
       "        code.set_text(decodeURIComponent(window.atob(\"JTIzJTIwVGVtcCUwQWluc2VydCUyOCUyNyUyNyUyNyUwQXZhdnBvdGljMjAwOWElMjAlM0QlMjBEQiUyOFdvcmtVbnJlbGF0ZWQlMjglMEElMjAlMjAlMjAlMjAyMDA5JTJDJTIwJTIyQW4lMjBhcHByb2FjaCUyMGZvciUyMGNvbmN1cnJlbnQlMjBldmFsdWF0aW9uJTIwb2YlMjB0ZWNobmljYWwlMjBhbmQlMjBzb2NpYWwlMjBhc3BlY3RzJTIwb2YlMjAlMjBzb2Z0d2FyZSUyMGRldmVsb3BtZW50JTIwbWV0aG9kb2xvZ2llcyUyMiUyQyUwQSUyMCUyMCUyMCUyMGRpc3BsYXklM0QlMjJ2YXZwb3RpYyUyMiUyQyUwQSUyMCUyMCUyMCUyMGF1dGhvcnMlM0QlMjJWYXZwb3RpYyUyQyUyMERhbWphbiUyMGFuZCUyMEJhamVjJTJDJTIwTWFya28lMjIlMkMlMEElMjAlMjAlMjAlMjBwbGFjZSUzREZBS0UlMkMlMEElMjAlMjAlMjAlMjBwcCUzRCUyMjUyOC01NDUlMjIlMkMlMEElMjAlMjAlMjAlMjBlbnRyeXR5cGUlM0QlMjJhcnRpY2xlJTIyJTJDJTBBJTIwJTIwJTIwJTIwdm9sdW1lJTNEJTIyNTElMjIlMkMlMEElMjAlMjAlMjAlMjBudW1iZXIlM0QlMjIyJTIyJTJDJTBBJTIwJTIwJTIwJTIwbW9udGglM0QlMjJGRUIlMjIlMkMlMEElMjAlMjAlMjAlMjBkb2klM0QlMjIxMC4xMDE2L2ouaW5mc29mLjIwMDguMDYuMDAxJTIyJTJDJTBBJTIwJTIwJTIwJTIwaXNzbiUzRCUyMjA5NTAtNTg0OSUyMiUyQyUwQSUyMCUyMCUyMCUyMHJlc2VhcmNoZXJpZC1udW1iZXJzJTNEJTIyVmF2cG90aWMlMkMlMjBEYW1qYW4vRy0zNTI3LTIwMTAlMjIlMkMlMEElMjAlMjAlMjAlMjB1bmlxdWUtaWQlM0QlMjJJU0klM0EwMDAyNjE5MTk5MDAwMjElMjIlMkMlMEElMjAlMjAlMjAlMjBJRCUzRCUyMklTSSUzQTAwMDI2MTkxOTkwMDAyMSUyMiUyQyUwQSUyMCUyMCUyMCUyMHdlYm9mc2NpZW5jZTIwMTUlM0QlMjIxJTIyJTJDJTBBJTIwJTIwJTIwJTIwcGxhY2V4JTNEJTIySU5GT1JNQVRJT04lMjBBTkQlMjBTT0ZUV0FSRSUyMFRFQ0hOT0xPR1klMjIlMkMlMEElMjklMjklMEElMjclMjclMjclMjklM0I=\")));\n",
       "    "
      ],
      "text/plain": [
       "<IPython.core.display.Javascript object>"
      ]
     },
     "metadata": {},
     "output_type": "display_data"
    },
    {
     "data": {
      "application/javascript": [
       "$('span:contains(\"# Temp\")').closest('.cell').remove();"
      ],
      "text/plain": [
       "<IPython.core.display.Javascript object>"
      ]
     },
     "metadata": {},
     "output_type": "display_data"
    },
    {
     "data": {
      "application/javascript": [
       "\n",
       "        $('span:contains(\"# Temp\")').closest('.cell').remove();\n",
       "        var code = IPython.notebook.insert_cell_below('code');\n",
       "        code.set_text(decodeURIComponent(window.atob(\"JTIzJTIwVGVtcCUwQWluc2VydCUyOCUyNyUyNyUyNyUwQXZhdnBvdGljMjAwOWElMjAlM0QlMjBEQiUyOFdvcmtVbnJlbGF0ZWQlMjglMEElMjAlMjAlMjAlMjAyMDA5JTJDJTIwJTIyQW4lMjBhcHByb2FjaCUyMGZvciUyMGNvbmN1cnJlbnQlMjBldmFsdWF0aW9uJTIwb2YlMjB0ZWNobmljYWwlMjBhbmQlMjBzb2NpYWwlMjBhc3BlY3RzJTIwb2YlMjAlMjBzb2Z0d2FyZSUyMGRldmVsb3BtZW50JTIwbWV0aG9kb2xvZ2llcyUyMiUyQyUwQSUyMCUyMCUyMCUyMGRpc3BsYXklM0QlMjJ2YXZwb3RpYyUyMiUyQyUwQSUyMCUyMCUyMCUyMGF1dGhvcnMlM0QlMjJWYXZwb3RpYyUyQyUyMERhbWphbiUyMGFuZCUyMEJhamVjJTJDJTIwTWFya28lMjIlMkMlMEElMjAlMjAlMjAlMjBwbGFjZSUzREZBS0UlMkMlMEElMjAlMjAlMjAlMjBwcCUzRCUyMjUyOC01NDUlMjIlMkMlMEElMjAlMjAlMjAlMjBlbnRyeXR5cGUlM0QlMjJhcnRpY2xlJTIyJTJDJTBBJTIwJTIwJTIwJTIwdm9sdW1lJTNEJTIyNTElMjIlMkMlMEElMjAlMjAlMjAlMjBudW1iZXIlM0QlMjIyJTIyJTJDJTBBJTIwJTIwJTIwJTIwbW9udGglM0QlMjJGRUIlMjIlMkMlMEElMjAlMjAlMjAlMjBkb2klM0QlMjIxMC4xMDE2L2ouaW5mc29mLjIwMDguMDYuMDAxJTIyJTJDJTBBJTIwJTIwJTIwJTIwaXNzbiUzRCUyMjA5NTAtNTg0OSUyMiUyQyUwQSUyMCUyMCUyMCUyMHJlc2VhcmNoZXJpZC1udW1iZXJzJTNEJTIyVmF2cG90aWMlMkMlMjBEYW1qYW4vRy0zNTI3LTIwMTAlMjIlMkMlMEElMjAlMjAlMjAlMjB1bmlxdWUtaWQlM0QlMjJJU0klM0EwMDAyNjE5MTk5MDAwMjElMjIlMkMlMEElMjAlMjAlMjAlMjBJRCUzRCUyMklTSSUzQTAwMDI2MTkxOTkwMDAyMSUyMiUyQyUwQSUyMCUyMCUyMCUyMHdlYm9mc2NpZW5jZTIwMTUlM0QlMjIxJTIyJTJDJTBBJTIwJTIwJTIwJTIwcGxhY2V4JTNEJTIySU5GT1JNQVRJT04lMjBBTkQlMjBTT0ZUV0FSRSUyMFRFQ0hOT0xPR1klMjIlMkMlMEElMjklMjklMEElMjclMjclMjclMjklM0I=\")));\n",
       "    "
      ],
      "text/plain": [
       "<IPython.core.display.Javascript object>"
      ]
     },
     "metadata": {},
     "output_type": "display_data"
    },
    {
     "data": {
      "application/javascript": [
       "$('span:contains(\"# Temp\")').closest('.cell').remove();"
      ],
      "text/plain": [
       "<IPython.core.display.Javascript object>"
      ]
     },
     "metadata": {},
     "output_type": "display_data"
    },
    {
     "data": {
      "application/javascript": [
       "\n",
       "        $('span:contains(\"# Temp\")').closest('.cell').remove();\n",
       "        var code = IPython.notebook.insert_cell_below('code');\n",
       "        code.set_text(decodeURIComponent(window.atob(\"JTIzJTIwVGVtcCUwQWluc2VydCUyOCUyNyUyNyUyNyUwQSUyMCUyMCUyMCUyMHN0YXBsZXMyMDA3YSUyMCUzRCUyMERCJTI4V29ya1VucmVsYXRlZCUyOCUwQSUyMCUyMCUyMCUyMCUyMCUyMCUyMCUyMDIwMDclMkMlMjAlMjJBbiUyMGV4cGxvcmF0b3J5JTIwc3R1ZHklMjBvZiUyMHdoeSUyMG9yZ2FuaXphdGlvbnMlMjBkbyUyMG5vdCUyMGFkb3B0JTIwQ01NSSUyMiUyQyUwQSUyMCUyMCUyMCUyMCUyMCUyMCUyMCUyMGRpc3BsYXklM0QlMjJzdGFwbGVzJTIyJTJDJTBBJTIwJTIwJTIwJTIwJTIwJTIwJTIwJTIwYXV0aG9ycyUzRCUyMlN0YXBsZXMlMkMlMjBNYXJrJTIwYW5kJTIwTmlhemklMkMlMjBNYWhtb29kJTIwYW5kJTIwSmVmZmVyeSUyQyUyMFJvc3MlMjBhbmQlMjBBYnJhaGFtcyUyQyUyMEFsYW4lMEFhbmQlMjBCeWF0dCUyQyUyMFBhdWwlMjBhbmQlMjBNdXJwaHklMkMlMjBSdXNzZWxsJTIyJTJDJTBBJTIwJTIwJTIwJTIwJTIwJTIwJTIwJTIwcGxhY2UlM0RGQUtFJTJDJTBBJTIwJTIwJTIwJTIwJTIwJTIwJTIwJTIwcHAlM0QlMjI4ODMtODk1JTIyJTJDJTBBJTIwJTIwJTIwJTIwJTIwJTIwJTIwJTIwZW50cnl0eXBlJTNEJTIyYXJ0aWNsZSUyMiUyQyUwQSUyMCUyMCUyMCUyMCUyMCUyMCUyMCUyMHZvbHVtZSUzRCUyMjgwJTIyJTJDJTBBJTIwJTIwJTIwJTIwJTIwJTIwJTIwJTIwbnVtYmVyJTNEJTIyNiUyMiUyQyUwQSUyMCUyMCUyMCUyMCUyMCUyMCUyMCUyMG1vbnRoJTNEJTIySlVOJTIyJTJDJTBBJTIwJTIwJTIwJTIwJTIwJTIwJTIwJTIwZG9pJTNEJTIyMTAuMTAxNi9qLmpzcy4yMDA2LjA5LjAwOCUyMiUyQyUwQSUyMCUyMCUyMCUyMCUyMCUyMCUyMCUyMGlzc24lM0QlMjIwMTY0LTEyMTIlMjIlMkMlMEElMjAlMjAlMjAlMjAlMjAlMjAlMjAlMjByZXNlYXJjaGVyaWQtbnVtYmVycyUzRCUyMk5pYXppJTJDJTIwTWFobW9vZC9DLTg4NzMtMjAxNSUyMiUyQyUwQSUyMCUyMCUyMCUyMCUyMCUyMCUyMCUyMG9yY2lkLW51bWJlcnMlM0QlMjJOaWF6aSUyQyUyME1haG1vb2QvMDAwMC0wMDAxLTczMTgtNzY0NCUyMiUyQyUwQSUyMCUyMCUyMCUyMCUyMCUyMCUyMCUyMHVuaXF1ZS1pZCUzRCUyMklTSSUzQTAwMDI0NzIyOTYwMDAwNyUyMiUyQyUwQSUyMCUyMCUyMCUyMCUyMCUyMCUyMCUyMElEJTNEJTIySVNJJTNBMDAwMjQ3MjI5NjAwMDA3JTIyJTJDJTBBJTIwJTIwJTIwJTIwJTIwJTIwJTIwJTIwd2Vib2ZzY2llbmNlMjAxNSUzRCUyMjElMjIlMkMlMEElMjAlMjAlMjAlMjAlMjAlMjAlMjAlMjBwbGFjZXglM0QlMjJKT1VSTkFMJTIwT0YlMjBTWVNURU1TJTIwQU5EJTIwU09GVFdBUkUlMjIlMkMlMEElMjAlMjAlMjAlMjAlMjklMjklMEElMjclMjclMjclMjklM0I=\")));\n",
       "    "
      ],
      "text/plain": [
       "<IPython.core.display.Javascript object>"
      ]
     },
     "metadata": {},
     "output_type": "display_data"
    },
    {
     "data": {
      "application/javascript": [
       "$('span:contains(\"# Temp\")').closest('.cell').remove();"
      ],
      "text/plain": [
       "<IPython.core.display.Javascript object>"
      ]
     },
     "metadata": {},
     "output_type": "display_data"
    },
    {
     "data": {
      "application/javascript": [
       "\n",
       "        $('span:contains(\"# Temp\")').closest('.cell').remove();\n",
       "        var code = IPython.notebook.insert_cell_below('code');\n",
       "        code.set_text(decodeURIComponent(window.atob(\"JTIzJTIwVGVtcCUwQWluc2VydCUyOCUyNyUyNyUyNyUwQSUyMCUyMCUyMCUyMHN0YXBsZXMyMDA3YSUyMCUzRCUyMERCJTI4V29ya1VucmVsYXRlZCUyOCUwQSUyMCUyMCUyMCUyMCUyMCUyMCUyMCUyMDIwMDclMkMlMjAlMjJBbiUyMGV4cGxvcmF0b3J5JTIwc3R1ZHklMjBvZiUyMHdoeSUyMG9yZ2FuaXphdGlvbnMlMjBkbyUyMG5vdCUyMGFkb3B0JTIwQ01NSSUyMiUyQyUwQSUyMCUyMCUyMCUyMCUyMCUyMCUyMCUyMGRpc3BsYXklM0QlMjJzdGFwbGVzJTIyJTJDJTBBJTIwJTIwJTIwJTIwJTIwJTIwJTIwJTIwYXV0aG9ycyUzRCUyMlN0YXBsZXMlMkMlMjBNYXJrJTIwYW5kJTIwTmlhemklMkMlMjBNYWhtb29kJTIwYW5kJTIwSmVmZmVyeSUyQyUyMFJvc3MlMjBhbmQlMjBBYnJhaGFtcyUyQyUyMEFsYW4lMEFhbmQlMjBCeWF0dCUyQyUyMFBhdWwlMjBhbmQlMjBNdXJwaHklMkMlMjBSdXNzZWxsJTIyJTJDJTBBJTIwJTIwJTIwJTIwJTIwJTIwJTIwJTIwcGxhY2UlM0RGQUtFJTJDJTBBJTIwJTIwJTIwJTIwJTIwJTIwJTIwJTIwcHAlM0QlMjI4ODMtODk1JTIyJTJDJTBBJTIwJTIwJTIwJTIwJTIwJTIwJTIwJTIwZW50cnl0eXBlJTNEJTIyYXJ0aWNsZSUyMiUyQyUwQSUyMCUyMCUyMCUyMCUyMCUyMCUyMCUyMHZvbHVtZSUzRCUyMjgwJTIyJTJDJTBBJTIwJTIwJTIwJTIwJTIwJTIwJTIwJTIwbnVtYmVyJTNEJTIyNiUyMiUyQyUwQSUyMCUyMCUyMCUyMCUyMCUyMCUyMCUyMG1vbnRoJTNEJTIySlVOJTIyJTJDJTBBJTIwJTIwJTIwJTIwJTIwJTIwJTIwJTIwZG9pJTNEJTIyMTAuMTAxNi9qLmpzcy4yMDA2LjA5LjAwOCUyMiUyQyUwQSUyMCUyMCUyMCUyMCUyMCUyMCUyMCUyMGlzc24lM0QlMjIwMTY0LTEyMTIlMjIlMkMlMEElMjAlMjAlMjAlMjAlMjAlMjAlMjAlMjByZXNlYXJjaGVyaWQtbnVtYmVycyUzRCUyMk5pYXppJTJDJTIwTWFobW9vZC9DLTg4NzMtMjAxNSUyMiUyQyUwQSUyMCUyMCUyMCUyMCUyMCUyMCUyMCUyMG9yY2lkLW51bWJlcnMlM0QlMjJOaWF6aSUyQyUyME1haG1vb2QvMDAwMC0wMDAxLTczMTgtNzY0NCUyMiUyQyUwQSUyMCUyMCUyMCUyMCUyMCUyMCUyMCUyMHVuaXF1ZS1pZCUzRCUyMklTSSUzQTAwMDI0NzIyOTYwMDAwNyUyMiUyQyUwQSUyMCUyMCUyMCUyMCUyMCUyMCUyMCUyMElEJTNEJTIySVNJJTNBMDAwMjQ3MjI5NjAwMDA3JTIyJTJDJTBBJTIwJTIwJTIwJTIwJTIwJTIwJTIwJTIwd2Vib2ZzY2llbmNlMjAxNSUzRCUyMjElMjIlMkMlMEElMjAlMjAlMjAlMjAlMjAlMjAlMjAlMjBwbGFjZXglM0QlMjJKT1VSTkFMJTIwT0YlMjBTWVNURU1TJTIwQU5EJTIwU09GVFdBUkUlMjIlMkMlMEElMjAlMjAlMjAlMjAlMjklMjklMEElMjclMjclMjclMjklM0I=\")));\n",
       "    "
      ],
      "text/plain": [
       "<IPython.core.display.Javascript object>"
      ]
     },
     "metadata": {},
     "output_type": "display_data"
    },
    {
     "data": {
      "application/javascript": [
       "$('span:contains(\"# Temp\")').closest('.cell').remove();"
      ],
      "text/plain": [
       "<IPython.core.display.Javascript object>"
      ]
     },
     "metadata": {},
     "output_type": "display_data"
    },
    {
     "data": {
      "application/javascript": [
       "\n",
       "        $('span:contains(\"# Temp\")').closest('.cell').remove();\n",
       "        var code = IPython.notebook.insert_cell_below('code');\n",
       "        code.set_text(decodeURIComponent(window.atob(\"JTIzJTIwVGVtcCUwQWluc2VydCUyOCUyNyUyNyUyNyUwQSUyMCUyMCUyMCUyMGNhcnJpbmd0b24yMDA1YSUyMCUzRCUyMERCJTI4V29ya1VucmVsYXRlZCUyOCUwQSUyMCUyMCUyMCUyMCUyMCUyMCUyMCUyMDIwMDUlMkMlMjAlMjJBbiUyMGluZHVzdHJ5L3VuaXZlcnNpdHklMjBjb2xsYWJvcmF0aW9uJTIwdG8lMjB1cGdyYWRlJTIwc29mdHdhcmUlMjBlbmdpbmVlcmluZyUwQWtub3dsZWRnZSUyMGFuZCUyMHNraWxscyUyMGluJTIwaW5kdXN0cnklMjIlMkMlMEElMjAlMjAlMjAlMjAlMjAlMjAlMjAlMjBkaXNwbGF5JTNEJTIyY2FycmluZ3RvbiUyMiUyQyUwQSUyMCUyMCUyMCUyMCUyMCUyMCUyMCUyMGF1dGhvcnMlM0QlMjJDYXJyaW5ndG9uJTJDJTIwRCUyMGFuZCUyMFN0cm9vcGVyJTJDJTIwUCUyMGFuZCUyME5ld2J5JTJDJTIwUyUyMGFuZCUyMFN0ZXZlbnNvbiUyQyUyMFQlMjIlMkMlMEElMjAlMjAlMjAlMjAlMjAlMjAlMjAlMjBwbGFjZSUzREZBS0UlMkMlMEElMjAlMjAlMjAlMjAlMjAlMjAlMjAlMjBwcCUzRCUyMjI5LTM5JTIyJTJDJTBBJTIwJTIwJTIwJTIwJTIwJTIwJTIwJTIwZW50cnl0eXBlJTNEJTIyYXJ0aWNsZSUyMiUyQyUwQSUyMCUyMCUyMCUyMCUyMCUyMCUyMCUyMHZvbHVtZSUzRCUyMjc1JTIyJTJDJTBBJTIwJTIwJTIwJTIwJTIwJTIwJTIwJTIwbnVtYmVyJTNEJTIyMS0yJTIyJTJDJTBBJTIwJTIwJTIwJTIwJTIwJTIwJTIwJTIwbW9udGglM0QlMjJGRUIlMjAxNSUyMiUyQyUwQSUyMCUyMCUyMCUyMCUyMCUyMCUyMCUyMG5vdGUlM0QlMjJJbnRlcm5hdGlvbmFsJTIwQ29uZmVyZW5jZSUyMG9uJTIwU29mdHdhcmUlMjBFbmdpbmVlcmluZyUyMGFuZCUyMFRyYWluaW5nJTJDJTIwTWFkcmlkJTJDJTIwU1BBSU4lMkMlMjAyMDAzJTIyJTJDJTBBJTIwJTIwJTIwJTIwJTIwJTIwJTIwJTIwZG9pJTNEJTIyMTAuMTAxNi9qLmpzcy4yMDA0LjAyLjAyMCUyMiUyQyUwQSUyMCUyMCUyMCUyMCUyMCUyMCUyMCUyMGlzc24lM0QlMjIwMTY0LTEyMTIlMjIlMkMlMEElMjAlMjAlMjAlMjAlMjAlMjAlMjAlMjBlaXNzbiUzRCUyMjE4NzMtMTIyOCUyMiUyQyUwQSUyMCUyMCUyMCUyMCUyMCUyMCUyMCUyMG9yY2lkLW51bWJlcnMlM0QlMjJTdHJvb3BlciUyQyUyMFBhdWwvMDAwMC0wMDAzLTQ3ODktMjg5NyUyMiUyQyUwQSUyMCUyMCUyMCUyMCUyMCUyMCUyMCUyMHVuaXF1ZS1pZCUzRCUyMklTSSUzQTAwMDIyNTY2ODAwMDAwNCUyMiUyQyUwQSUyMCUyMCUyMCUyMCUyMCUyMCUyMCUyMElEJTNEJTIySVNJJTNBMDAwMjI1NjY4MDAwMDA0JTIyJTJDJTBBJTIwJTIwJTIwJTIwJTIwJTIwJTIwJTIwd2Vib2ZzY2llbmNlMjAxNSUzRCUyMjElMjIlMkMlMEElMjAlMjAlMjAlMjAlMjAlMjAlMjAlMjBwbGFjZXglM0QlMjJKT1VSTkFMJTIwT0YlMjBTWVNURU1TJTIwQU5EJTIwU09GVFdBUkUlMjIlMkMlMEElMjAlMjAlMjAlMjAlMjklMjklMEElMjclMjclMjclMjklM0I=\")));\n",
       "    "
      ],
      "text/plain": [
       "<IPython.core.display.Javascript object>"
      ]
     },
     "metadata": {},
     "output_type": "display_data"
    },
    {
     "data": {
      "application/javascript": [
       "$('span:contains(\"# Temp\")').closest('.cell').remove();"
      ],
      "text/plain": [
       "<IPython.core.display.Javascript object>"
      ]
     },
     "metadata": {},
     "output_type": "display_data"
    },
    {
     "data": {
      "application/javascript": [
       "\n",
       "        $('span:contains(\"# Temp\")').closest('.cell').remove();\n",
       "        var code = IPython.notebook.insert_cell_below('code');\n",
       "        code.set_text(decodeURIComponent(window.atob(\"JTIzJTIwVGVtcCUwQWluc2VydCUyOCUyNyUyNyUyNyUwQSUyMCUyMCUyMCUyMGNhcnJpbmd0b24yMDA1YSUyMCUzRCUyMERCJTI4V29ya1VucmVsYXRlZCUyOCUwQSUyMCUyMCUyMCUyMCUyMCUyMCUyMCUyMDIwMDUlMkMlMjAlMjJBbiUyMGluZHVzdHJ5L3VuaXZlcnNpdHklMjBjb2xsYWJvcmF0aW9uJTIwdG8lMjB1cGdyYWRlJTIwc29mdHdhcmUlMjBlbmdpbmVlcmluZyUwQWtub3dsZWRnZSUyMGFuZCUyMHNraWxscyUyMGluJTIwaW5kdXN0cnklMjIlMkMlMEElMjAlMjAlMjAlMjAlMjAlMjAlMjAlMjBkaXNwbGF5JTNEJTIyY2FycmluZ3RvbiUyMiUyQyUwQSUyMCUyMCUyMCUyMCUyMCUyMCUyMCUyMGF1dGhvcnMlM0QlMjJDYXJyaW5ndG9uJTJDJTIwRCUyMGFuZCUyMFN0cm9vcGVyJTJDJTIwUCUyMGFuZCUyME5ld2J5JTJDJTIwUyUyMGFuZCUyMFN0ZXZlbnNvbiUyQyUyMFQlMjIlMkMlMEElMjAlMjAlMjAlMjAlMjAlMjAlMjAlMjBwbGFjZSUzREZBS0UlMkMlMEElMjAlMjAlMjAlMjAlMjAlMjAlMjAlMjBwcCUzRCUyMjI5LTM5JTIyJTJDJTBBJTIwJTIwJTIwJTIwJTIwJTIwJTIwJTIwZW50cnl0eXBlJTNEJTIyYXJ0aWNsZSUyMiUyQyUwQSUyMCUyMCUyMCUyMCUyMCUyMCUyMCUyMHZvbHVtZSUzRCUyMjc1JTIyJTJDJTBBJTIwJTIwJTIwJTIwJTIwJTIwJTIwJTIwbnVtYmVyJTNEJTIyMS0yJTIyJTJDJTBBJTIwJTIwJTIwJTIwJTIwJTIwJTIwJTIwbW9udGglM0QlMjJGRUIlMjAxNSUyMiUyQyUwQSUyMCUyMCUyMCUyMCUyMCUyMCUyMCUyMG5vdGUlM0QlMjJJbnRlcm5hdGlvbmFsJTIwQ29uZmVyZW5jZSUyMG9uJTIwU29mdHdhcmUlMjBFbmdpbmVlcmluZyUyMGFuZCUyMFRyYWluaW5nJTJDJTIwTWFkcmlkJTJDJTIwU1BBSU4lMkMlMjAyMDAzJTIyJTJDJTBBJTIwJTIwJTIwJTIwJTIwJTIwJTIwJTIwZG9pJTNEJTIyMTAuMTAxNi9qLmpzcy4yMDA0LjAyLjAyMCUyMiUyQyUwQSUyMCUyMCUyMCUyMCUyMCUyMCUyMCUyMGlzc24lM0QlMjIwMTY0LTEyMTIlMjIlMkMlMEElMjAlMjAlMjAlMjAlMjAlMjAlMjAlMjBlaXNzbiUzRCUyMjE4NzMtMTIyOCUyMiUyQyUwQSUyMCUyMCUyMCUyMCUyMCUyMCUyMCUyMG9yY2lkLW51bWJlcnMlM0QlMjJTdHJvb3BlciUyQyUyMFBhdWwvMDAwMC0wMDAzLTQ3ODktMjg5NyUyMiUyQyUwQSUyMCUyMCUyMCUyMCUyMCUyMCUyMCUyMHVuaXF1ZS1pZCUzRCUyMklTSSUzQTAwMDIyNTY2ODAwMDAwNCUyMiUyQyUwQSUyMCUyMCUyMCUyMCUyMCUyMCUyMCUyMElEJTNEJTIySVNJJTNBMDAwMjI1NjY4MDAwMDA0JTIyJTJDJTBBJTIwJTIwJTIwJTIwJTIwJTIwJTIwJTIwd2Vib2ZzY2llbmNlMjAxNSUzRCUyMjElMjIlMkMlMEElMjAlMjAlMjAlMjAlMjAlMjAlMjAlMjBwbGFjZXglM0QlMjJKT1VSTkFMJTIwT0YlMjBTWVNURU1TJTIwQU5EJTIwU09GVFdBUkUlMjIlMkMlMEElMjAlMjAlMjAlMjAlMjklMjklMEElMjclMjclMjclMjklM0I=\")));\n",
       "    "
      ],
      "text/plain": [
       "<IPython.core.display.Javascript object>"
      ]
     },
     "metadata": {},
     "output_type": "display_data"
    },
    {
     "data": {
      "application/javascript": [
       "$('span:contains(\"# Temp\")').closest('.cell').remove();"
      ],
      "text/plain": [
       "<IPython.core.display.Javascript object>"
      ]
     },
     "metadata": {},
     "output_type": "display_data"
    },
    {
     "data": {
      "application/javascript": [
       "\n",
       "        $('span:contains(\"# Temp\")').closest('.cell').remove();\n",
       "        var code = IPython.notebook.insert_cell_below('code');\n",
       "        code.set_text(decodeURIComponent(window.atob(\"JTIzJTIwVGVtcCUwQWluc2VydCUyOCUyNyUyNyUyNyUwQSUyMCUyMCUyMCUyMHNvbmcyMDA3YSUyMCUzRCUyMERCJTI4V29ya1VucmVsYXRlZCUyOCUwQSUyMCUyMCUyMCUyMCUyMCUyMCUyMCUyMDIwMDclMkMlMjAlMjJBbiUyMGludGVsbGlnZW50JTIwaW5mb3JtYXRpb24lMjBhZ2VudCUyMGZvciUyMGRvY3VtZW50JTIwdGl0bGUlMjBjbGFzc2lmaWNhdGlvbiUyMGFuZCUwQWZpbHRlcmluZyUyMGluJTIwZG9jdW1lbnQtaW50ZW5zaXZlJTIwZG9tYWlucyUyMiUyQyUwQSUyMCUyMCUyMCUyMCUyMCUyMCUyMCUyMGRpc3BsYXklM0QlMjJzb25nJTIyJTJDJTBBJTIwJTIwJTIwJTIwJTIwJTIwJTIwJTIwYXV0aG9ycyUzRCUyMlNvbmclMkMlMjBEYXdlaSUyMGFuZCUyMExhdSUyQyUyMFJheW1vbmQlMjBZLiUyMEsuJTIwYW5kJTIwQnJ1emElMkMlMjBQZXRlciUyMEQuJTIwYW5kJTIwV29uZyUyQyUyMEthbS1GYWklMEFhbmQlMjBDaGVuJTJDJTIwRGluZy1ZaSUyMiUyQyUwQSUyMCUyMCUyMCUyMCUyMCUyMCUyMCUyMHBsYWNlJTNERkFLRSUyQyUwQSUyMCUyMCUyMCUyMCUyMCUyMCUyMCUyMHBwJTNEJTIyMjUxLTI2NSUyMiUyQyUwQSUyMCUyMCUyMCUyMCUyMCUyMCUyMCUyMGVudHJ5dHlwZSUzRCUyMmFydGljbGUlMjIlMkMlMEElMjAlMjAlMjAlMjAlMjAlMjAlMjAlMjB2b2x1bWUlM0QlMjI0NCUyMiUyQyUwQSUyMCUyMCUyMCUyMCUyMCUyMCUyMCUyMG51bWJlciUzRCUyMjElMjIlMkMlMEElMjAlMjAlMjAlMjAlMjAlMjAlMjAlMjBtb250aCUzRCUyMk5PViUyMiUyQyUwQSUyMCUyMCUyMCUyMCUyMCUyMCUyMCUyMGRvaSUzRCUyMjEwLjEwMTYvai5kc3MuMjAwNy4wNC4wMDElMjIlMkMlMEElMjAlMjAlMjAlMjAlMjAlMjAlMjAlMjBpc3NuJTNEJTIyMDE2Ny05MjM2JTIyJTJDJTBBJTIwJTIwJTIwJTIwJTIwJTIwJTIwJTIwZWlzc24lM0QlMjIxODczLTU3OTclMjIlMkMlMEElMjAlMjAlMjAlMjAlMjAlMjAlMjAlMjBvcmNpZC1udW1iZXJzJTNEJTIyU29uZyUyQyUyMERhd2VpLzAwMDAtMDAwMi04NjYwLTM2MDglMEFCcnV6YSUyQyUyMFBldGVyLzAwMDAtMDAwMS03OTk5LTA1MzQlMEFMYXUlMkMlMjBSYXltb25kLzAwMDAtMDAwMi01NzUxLTQ1NTAlMjIlMkMlMEElMjAlMjAlMjAlMjAlMjAlMjAlMjAlMjB1bmlxdWUtaWQlM0QlMjJJU0klM0EwMDAyNTAwNzkzMDAwMTglMjIlMkMlMEElMjAlMjAlMjAlMjAlMjAlMjAlMjAlMjBJRCUzRCUyMklTSSUzQTAwMDI1MDA3OTMwMDAxOCUyMiUyQyUwQSUyMCUyMCUyMCUyMCUyMCUyMCUyMCUyMHdlYm9mc2NpZW5jZTIwMTUlM0QlMjIxJTIyJTJDJTBBJTIwJTIwJTIwJTIwJTIwJTIwJTIwJTIwcGxhY2V4JTNEJTIyREVDSVNJT04lMjBTVVBQT1JUJTIwU1lTVEVNUyUyMiUyQyUwQSUyMCUyMCUyMCUyMCUyOSUyOSUwQSUyNyUyNyUyNyUyOSUzQg==\")));\n",
       "    "
      ],
      "text/plain": [
       "<IPython.core.display.Javascript object>"
      ]
     },
     "metadata": {},
     "output_type": "display_data"
    },
    {
     "data": {
      "application/javascript": [
       "$('span:contains(\"# Temp\")').closest('.cell').remove();"
      ],
      "text/plain": [
       "<IPython.core.display.Javascript object>"
      ]
     },
     "metadata": {},
     "output_type": "display_data"
    },
    {
     "data": {
      "application/javascript": [
       "\n",
       "        $('span:contains(\"# Temp\")').closest('.cell').remove();\n",
       "        var code = IPython.notebook.insert_cell_below('code');\n",
       "        code.set_text(decodeURIComponent(window.atob(\"JTIzJTIwVGVtcCUwQWluc2VydCUyOCUyNyUyNyUyNyUwQSUyMCUyMCUyMCUyMHNvbmcyMDA3YSUyMCUzRCUyMERCJTI4V29ya1VucmVsYXRlZCUyOCUwQSUyMCUyMCUyMCUyMCUyMCUyMCUyMCUyMDIwMDclMkMlMjAlMjJBbiUyMGludGVsbGlnZW50JTIwaW5mb3JtYXRpb24lMjBhZ2VudCUyMGZvciUyMGRvY3VtZW50JTIwdGl0bGUlMjBjbGFzc2lmaWNhdGlvbiUyMGFuZCUwQWZpbHRlcmluZyUyMGluJTIwZG9jdW1lbnQtaW50ZW5zaXZlJTIwZG9tYWlucyUyMiUyQyUwQSUyMCUyMCUyMCUyMCUyMCUyMCUyMCUyMGRpc3BsYXklM0QlMjJzb25nJTIyJTJDJTBBJTIwJTIwJTIwJTIwJTIwJTIwJTIwJTIwYXV0aG9ycyUzRCUyMlNvbmclMkMlMjBEYXdlaSUyMGFuZCUyMExhdSUyQyUyMFJheW1vbmQlMjBZLiUyMEsuJTIwYW5kJTIwQnJ1emElMkMlMjBQZXRlciUyMEQuJTIwYW5kJTIwV29uZyUyQyUyMEthbS1GYWklMEFhbmQlMjBDaGVuJTJDJTIwRGluZy1ZaSUyMiUyQyUwQSUyMCUyMCUyMCUyMCUyMCUyMCUyMCUyMHBsYWNlJTNERkFLRSUyQyUwQSUyMCUyMCUyMCUyMCUyMCUyMCUyMCUyMHBwJTNEJTIyMjUxLTI2NSUyMiUyQyUwQSUyMCUyMCUyMCUyMCUyMCUyMCUyMCUyMGVudHJ5dHlwZSUzRCUyMmFydGljbGUlMjIlMkMlMEElMjAlMjAlMjAlMjAlMjAlMjAlMjAlMjB2b2x1bWUlM0QlMjI0NCUyMiUyQyUwQSUyMCUyMCUyMCUyMCUyMCUyMCUyMCUyMG51bWJlciUzRCUyMjElMjIlMkMlMEElMjAlMjAlMjAlMjAlMjAlMjAlMjAlMjBtb250aCUzRCUyMk5PViUyMiUyQyUwQSUyMCUyMCUyMCUyMCUyMCUyMCUyMCUyMGRvaSUzRCUyMjEwLjEwMTYvai5kc3MuMjAwNy4wNC4wMDElMjIlMkMlMEElMjAlMjAlMjAlMjAlMjAlMjAlMjAlMjBpc3NuJTNEJTIyMDE2Ny05MjM2JTIyJTJDJTBBJTIwJTIwJTIwJTIwJTIwJTIwJTIwJTIwZWlzc24lM0QlMjIxODczLTU3OTclMjIlMkMlMEElMjAlMjAlMjAlMjAlMjAlMjAlMjAlMjBvcmNpZC1udW1iZXJzJTNEJTIyU29uZyUyQyUyMERhd2VpLzAwMDAtMDAwMi04NjYwLTM2MDglMEFCcnV6YSUyQyUyMFBldGVyLzAwMDAtMDAwMS03OTk5LTA1MzQlMEFMYXUlMkMlMjBSYXltb25kLzAwMDAtMDAwMi01NzUxLTQ1NTAlMjIlMkMlMEElMjAlMjAlMjAlMjAlMjAlMjAlMjAlMjB1bmlxdWUtaWQlM0QlMjJJU0klM0EwMDAyNTAwNzkzMDAwMTglMjIlMkMlMEElMjAlMjAlMjAlMjAlMjAlMjAlMjAlMjBJRCUzRCUyMklTSSUzQTAwMDI1MDA3OTMwMDAxOCUyMiUyQyUwQSUyMCUyMCUyMCUyMCUyMCUyMCUyMCUyMHdlYm9mc2NpZW5jZTIwMTUlM0QlMjIxJTIyJTJDJTBBJTIwJTIwJTIwJTIwJTIwJTIwJTIwJTIwcGxhY2V4JTNEJTIyREVDSVNJT04lMjBTVVBQT1JUJTIwU1lTVEVNUyUyMiUyQyUwQSUyMCUyMCUyMCUyMCUyOSUyOSUwQSUyNyUyNyUyNyUyOSUzQg==\")));\n",
       "    "
      ],
      "text/plain": [
       "<IPython.core.display.Javascript object>"
      ]
     },
     "metadata": {},
     "output_type": "display_data"
    },
    {
     "data": {
      "application/javascript": [
       "$('span:contains(\"# Temp\")').closest('.cell').remove();"
      ],
      "text/plain": [
       "<IPython.core.display.Javascript object>"
      ]
     },
     "metadata": {},
     "output_type": "display_data"
    },
    {
     "data": {
      "application/javascript": [
       "\n",
       "        $('span:contains(\"# Temp\")').closest('.cell').remove();\n",
       "        var code = IPython.notebook.insert_cell_below('code');\n",
       "        code.set_text(decodeURIComponent(window.atob(\"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\")));\n",
       "    "
      ],
      "text/plain": [
       "<IPython.core.display.Javascript object>"
      ]
     },
     "metadata": {},
     "output_type": "display_data"
    },
    {
     "data": {
      "application/javascript": [
       "$('span:contains(\"# Temp\")').closest('.cell').remove();"
      ],
      "text/plain": [
       "<IPython.core.display.Javascript object>"
      ]
     },
     "metadata": {},
     "output_type": "display_data"
    },
    {
     "data": {
      "application/javascript": [
       "\n",
       "        $('span:contains(\"# Temp\")').closest('.cell').remove();\n",
       "        var code = IPython.notebook.insert_cell_below('code');\n",
       "        code.set_text(decodeURIComponent(window.atob(\"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\")));\n",
       "    "
      ],
      "text/plain": [
       "<IPython.core.display.Javascript object>"
      ]
     },
     "metadata": {},
     "output_type": "display_data"
    },
    {
     "data": {
      "application/javascript": [
       "$('span:contains(\"# Temp\")').closest('.cell').remove();"
      ],
      "text/plain": [
       "<IPython.core.display.Javascript object>"
      ]
     },
     "metadata": {},
     "output_type": "display_data"
    },
    {
     "data": {
      "application/javascript": [
       "\n",
       "        $('span:contains(\"# Temp\")').closest('.cell').remove();\n",
       "        var code = IPython.notebook.insert_cell_below('code');\n",
       "        code.set_text(decodeURIComponent(window.atob(\"JTIzJTIwVGVtcCUwQWluc2VydCUyOCUyNyUyNyUyNyUwQSUyMCUyMCUyMCUyMGxpMjAxMWElMjAlM0QlMjBEQiUyOFdvcmtVbnJlbGF0ZWQlMjglMEElMjAlMjAlMjAlMjAlMjAlMjAlMjAlMjAyMDExJTJDJTIwJTIyQW5hbHlzaXMlMjBvZiUyMFNvZnR3YXJlJTIwVGVzdGluZyUyMFN5c3RlbSUyMGluJTIwQ2l2aWwlMjBBdmlhdGlvbiUyMEZpZWxkJTIyJTJDJTBBJTIwJTIwJTIwJTIwJTIwJTIwJTIwJTIwZGlzcGxheSUzRCUyMmxpJTIyJTJDJTBBJTIwJTIwJTIwJTIwJTIwJTIwJTIwJTIwYXV0aG9ycyUzRCUyMkxpJTJDJTIwWW9uZ2h1YSUyMGFuZCUyMEZhbiUyQyUyMFdlaSUyMiUyQyUwQSUyMCUyMCUyMCUyMCUyMCUyMCUyMCUyMHBsYWNlJTNERkFLRSUyQyUwQSUyMCUyMCUyMCUyMCUyMCUyMCUyMCUyMHBwJTNEJTIyMjk5LTMwMiUyMiUyQyUwQSUyMCUyMCUyMCUyMCUyMCUyMCUyMCUyMGVudHJ5dHlwZSUzRCUyMmlucHJvY2VlZGluZ3MlMjIlMkMlMEElMjAlMjAlMjAlMjAlMjAlMjAlMjAlMjBlZGl0b3IlM0QlMjJEZW5nJTJDJTIwVyUyMiUyQyUwQSUyMCUyMCUyMCUyMCUyMCUyMCUyMCUyMG5vdGUlM0QlMjJBQVNSSSUyMENvbmZlcmVuY2UlMjBvbiUyMEFydGlmaWNpYWwlMjBJbnRlbGxpZ2VuY2UlMjBhbmQlMjBJbmR1c3RyeSUyMEFwcGxpY2F0aW9uJTBBJTI4QUFTUkktQUlJQSUyMDIwMTElMjklMkMlMjBNYWxlJTJDJTIwTUFMRElWRVMlMkMlMjBNQVklMjAyMy0yNCUyQyUyMDIwMTElMjIlMkMlMEElMjAlMjAlMjAlMjAlMjAlMjAlMjAlMjBvcmdhbml6YXRpb24lM0QlMjJBbWVyJTIwQXBwbCUyMFNjaSUyMFJlcyUyMEluc3QlMjIlMkMlMEElMjAlMjAlMjAlMjAlMjAlMjAlMjAlMjBpc2JuJTNEJTIyOTc4LTEtOTM3NzI4LTAyLTElMjIlMkMlMEElMjAlMjAlMjAlMjAlMjAlMjAlMjAlMjB1bmlxdWUtaWQlM0QlMjJJU0klM0EwMDAzOTg4NTA2MDAwNzQlMjIlMkMlMEElMjAlMjAlMjAlMjAlMjAlMjAlMjAlMjBJRCUzRCUyMklTSSUzQTAwMDM5ODg1MDYwMDA3NCUyMiUyQyUwQSUyMCUyMCUyMCUyMCUyMCUyMCUyMCUyMHdlYm9mc2NpZW5jZTIwMTUlM0QlMjIxJTIyJTJDJTBBJTIwJTIwJTIwJTIwJTIwJTIwJTIwJTIwcGxhY2V4JTNEJTIyMjAxMSUyMEFBU1JJJTIwQ09ORkVSRU5DRSUyME9OJTIwQVJUSUZJQ0lBTCUyMElOVEVMTElHRU5DRSUyMEFORCUyMElORFVTVFJZJTBBQVBQTElDQVRJT04lMjAlMjhBQVNSSS1BSUlBJTIwMjAxMSUyOSUyQyUyMFZPTCUyMDElMjIlMkMlMEElMjAlMjAlMjAlMjAlMjklMjklMEElMjclMjclMjclMjklM0I=\")));\n",
       "    "
      ],
      "text/plain": [
       "<IPython.core.display.Javascript object>"
      ]
     },
     "metadata": {},
     "output_type": "display_data"
    },
    {
     "data": {
      "application/javascript": [
       "$('span:contains(\"# Temp\")').closest('.cell').remove();"
      ],
      "text/plain": [
       "<IPython.core.display.Javascript object>"
      ]
     },
     "metadata": {},
     "output_type": "display_data"
    },
    {
     "data": {
      "application/javascript": [
       "\n",
       "        $('span:contains(\"# Temp\")').closest('.cell').remove();\n",
       "        var code = IPython.notebook.insert_cell_below('code');\n",
       "        code.set_text(decodeURIComponent(window.atob(\"JTIzJTIwVGVtcCUwQWluc2VydCUyOCUyNyUyNyUyNyUwQSUyMCUyMCUyMCUyMGxpMjAxMWElMjAlM0QlMjBEQiUyOFdvcmtVbnJlbGF0ZWQlMjglMEElMjAlMjAlMjAlMjAlMjAlMjAlMjAlMjAyMDExJTJDJTIwJTIyQW5hbHlzaXMlMjBvZiUyMFNvZnR3YXJlJTIwVGVzdGluZyUyMFN5c3RlbSUyMGluJTIwQ2l2aWwlMjBBdmlhdGlvbiUyMEZpZWxkJTIyJTJDJTBBJTIwJTIwJTIwJTIwJTIwJTIwJTIwJTIwZGlzcGxheSUzRCUyMmxpJTIyJTJDJTBBJTIwJTIwJTIwJTIwJTIwJTIwJTIwJTIwYXV0aG9ycyUzRCUyMkxpJTJDJTIwWW9uZ2h1YSUyMGFuZCUyMEZhbiUyQyUyMFdlaSUyMiUyQyUwQSUyMCUyMCUyMCUyMCUyMCUyMCUyMCUyMHBsYWNlJTNERkFLRSUyQyUwQSUyMCUyMCUyMCUyMCUyMCUyMCUyMCUyMHBwJTNEJTIyMjk5LTMwMiUyMiUyQyUwQSUyMCUyMCUyMCUyMCUyMCUyMCUyMCUyMGVudHJ5dHlwZSUzRCUyMmlucHJvY2VlZGluZ3MlMjIlMkMlMEElMjAlMjAlMjAlMjAlMjAlMjAlMjAlMjBlZGl0b3IlM0QlMjJEZW5nJTJDJTIwVyUyMiUyQyUwQSUyMCUyMCUyMCUyMCUyMCUyMCUyMCUyMG5vdGUlM0QlMjJBQVNSSSUyMENvbmZlcmVuY2UlMjBvbiUyMEFydGlmaWNpYWwlMjBJbnRlbGxpZ2VuY2UlMjBhbmQlMjBJbmR1c3RyeSUyMEFwcGxpY2F0aW9uJTBBJTI4QUFTUkktQUlJQSUyMDIwMTElMjklMkMlMjBNYWxlJTJDJTIwTUFMRElWRVMlMkMlMjBNQVklMjAyMy0yNCUyQyUyMDIwMTElMjIlMkMlMEElMjAlMjAlMjAlMjAlMjAlMjAlMjAlMjBvcmdhbml6YXRpb24lM0QlMjJBbWVyJTIwQXBwbCUyMFNjaSUyMFJlcyUyMEluc3QlMjIlMkMlMEElMjAlMjAlMjAlMjAlMjAlMjAlMjAlMjBpc2JuJTNEJTIyOTc4LTEtOTM3NzI4LTAyLTElMjIlMkMlMEElMjAlMjAlMjAlMjAlMjAlMjAlMjAlMjB1bmlxdWUtaWQlM0QlMjJJU0klM0EwMDAzOTg4NTA2MDAwNzQlMjIlMkMlMEElMjAlMjAlMjAlMjAlMjAlMjAlMjAlMjBJRCUzRCUyMklTSSUzQTAwMDM5ODg1MDYwMDA3NCUyMiUyQyUwQSUyMCUyMCUyMCUyMCUyMCUyMCUyMCUyMHdlYm9mc2NpZW5jZTIwMTUlM0QlMjIxJTIyJTJDJTBBJTIwJTIwJTIwJTIwJTIwJTIwJTIwJTIwcGxhY2V4JTNEJTIyMjAxMSUyMEFBU1JJJTIwQ09ORkVSRU5DRSUyME9OJTIwQVJUSUZJQ0lBTCUyMElOVEVMTElHRU5DRSUyMEFORCUyMElORFVTVFJZJTBBQVBQTElDQVRJT04lMjAlMjhBQVNSSS1BSUlBJTIwMjAxMSUyOSUyQyUyMFZPTCUyMDElMjIlMkMlMEElMjAlMjAlMjAlMjAlMjklMjklMEElMjclMjclMjclMjklM0I=\")));\n",
       "    "
      ],
      "text/plain": [
       "<IPython.core.display.Javascript object>"
      ]
     },
     "metadata": {},
     "output_type": "display_data"
    },
    {
     "data": {
      "application/javascript": [
       "$('span:contains(\"# Temp\")').closest('.cell').remove();"
      ],
      "text/plain": [
       "<IPython.core.display.Javascript object>"
      ]
     },
     "metadata": {},
     "output_type": "display_data"
    },
    {
     "data": {
      "application/javascript": [
       "\n",
       "        $('span:contains(\"# Temp\")').closest('.cell').remove();\n",
       "        var code = IPython.notebook.insert_cell_below('code');\n",
       "        code.set_text(decodeURIComponent(window.atob(\"JTIzJTIwVGVtcCUwQWluc2VydCUyOCUyNyUyNyUyNyUwQSUyMCUyMCUyMCUyMG1lbmVrbGlzMjAxMGElMjAlM0QlMjBEQiUyOFdvcmtVbnJlbGF0ZWQlMjglMEElMjAlMjAlMjAlMjAlMjAlMjAlMjAlMjAyMDEwJTJDJTIwJTIyQnJpZGdpbmclMjB0aGVvcnklMjBhbmQlMjBwcmFjdGljZSUyMGluJTIwZS1nb3Zlcm5tZW50JTNBJTIwQSUyMHNldCUyMG9mJTIwZ3VpZGVsaW5lcyUyMGZvciUwQWFyY2hpdGVjdHVyYWwlMjBkZXNpZ24lMjIlMkMlMEElMjAlMjAlMjAlMjAlMjAlMjAlMjAlMjBkaXNwbGF5JTNEJTIybWVuZWtsaXMlMjIlMkMlMEElMjAlMjAlMjAlMjAlMjAlMjAlMjAlMjBhdXRob3JzJTNEJTIyTWVuZWtsaXMlMkMlMjBWYXNzaWxpcyUyMGFuZCUyMERvdWxpZ2VyaXMlMkMlMjBDaHJpc3RvcyUyMiUyQyUwQSUyMCUyMCUyMCUyMCUyMCUyMCUyMCUyMHBsYWNlJTNERkFLRSUyQyUwQSUyMCUyMCUyMCUyMCUyMCUyMCUyMCUyMHBwJTNEJTIyNzAtODElMjIlMkMlMEElMjAlMjAlMjAlMjAlMjAlMjAlMjAlMjBlbnRyeXR5cGUlM0QlMjJhcnRpY2xlJTIyJTJDJTBBJTIwJTIwJTIwJTIwJTIwJTIwJTIwJTIwdm9sdW1lJTNEJTIyMjclMjIlMkMlMEElMjAlMjAlMjAlMjAlMjAlMjAlMjAlMjBudW1iZXIlM0QlMjIxJTIyJTJDJTBBJTIwJTIwJTIwJTIwJTIwJTIwJTIwJTIwbW9udGglM0QlMjJKQU4lMjIlMkMlMEElMjAlMjAlMjAlMjAlMjAlMjAlMjAlMjBkb2klM0QlMjIxMC4xMDE2L2ouZ2lxLjIwMDkuMDguMDA1JTIyJTJDJTBBJTIwJTIwJTIwJTIwJTIwJTIwJTIwJTIwaXNzbiUzRCUyMjA3NDAtNjI0WCUyMiUyQyUwQSUyMCUyMCUyMCUyMCUyMCUyMCUyMCUyMHVuaXF1ZS1pZCUzRCUyMklTSSUzQTAwMDI3MjY4NzYwMDAxMCUyMiUyQyUwQSUyMCUyMCUyMCUyMCUyMCUyMCUyMCUyMElEJTNEJTIySVNJJTNBMDAwMjcyNjg3NjAwMDEwJTIyJTJDJTBBJTIwJTIwJTIwJTIwJTIwJTIwJTIwJTIwd2Vib2ZzY2llbmNlMjAxNSUzRCUyMjElMjIlMkMlMEElMjAlMjAlMjAlMjAlMjAlMjAlMjAlMjBwbGFjZXglM0QlMjJHT1ZFUk5NRU5UJTIwSU5GT1JNQVRJT04lMjBRVUFSVEVSTFklMjIlMkMlMEElMjAlMjAlMjAlMjAlMjklMjklMEElMjclMjclMjclMjklM0I=\")));\n",
       "    "
      ],
      "text/plain": [
       "<IPython.core.display.Javascript object>"
      ]
     },
     "metadata": {},
     "output_type": "display_data"
    },
    {
     "data": {
      "application/javascript": [
       "$('span:contains(\"# Temp\")').closest('.cell').remove();"
      ],
      "text/plain": [
       "<IPython.core.display.Javascript object>"
      ]
     },
     "metadata": {},
     "output_type": "display_data"
    },
    {
     "data": {
      "application/javascript": [
       "\n",
       "        $('span:contains(\"# Temp\")').closest('.cell').remove();\n",
       "        var code = IPython.notebook.insert_cell_below('code');\n",
       "        code.set_text(decodeURIComponent(window.atob(\"JTIzJTIwVGVtcCUwQWluc2VydCUyOCUyNyUyNyUyNyUwQSUyMCUyMCUyMCUyMG1lbmVrbGlzMjAxMGElMjAlM0QlMjBEQiUyOFdvcmtVbnJlbGF0ZWQlMjglMEElMjAlMjAlMjAlMjAlMjAlMjAlMjAlMjAyMDEwJTJDJTIwJTIyQnJpZGdpbmclMjB0aGVvcnklMjBhbmQlMjBwcmFjdGljZSUyMGluJTIwZS1nb3Zlcm5tZW50JTNBJTIwQSUyMHNldCUyMG9mJTIwZ3VpZGVsaW5lcyUyMGZvciUwQWFyY2hpdGVjdHVyYWwlMjBkZXNpZ24lMjIlMkMlMEElMjAlMjAlMjAlMjAlMjAlMjAlMjAlMjBkaXNwbGF5JTNEJTIybWVuZWtsaXMlMjIlMkMlMEElMjAlMjAlMjAlMjAlMjAlMjAlMjAlMjBhdXRob3JzJTNEJTIyTWVuZWtsaXMlMkMlMjBWYXNzaWxpcyUyMGFuZCUyMERvdWxpZ2VyaXMlMkMlMjBDaHJpc3RvcyUyMiUyQyUwQSUyMCUyMCUyMCUyMCUyMCUyMCUyMCUyMHBsYWNlJTNERkFLRSUyQyUwQSUyMCUyMCUyMCUyMCUyMCUyMCUyMCUyMHBwJTNEJTIyNzAtODElMjIlMkMlMEElMjAlMjAlMjAlMjAlMjAlMjAlMjAlMjBlbnRyeXR5cGUlM0QlMjJhcnRpY2xlJTIyJTJDJTBBJTIwJTIwJTIwJTIwJTIwJTIwJTIwJTIwdm9sdW1lJTNEJTIyMjclMjIlMkMlMEElMjAlMjAlMjAlMjAlMjAlMjAlMjAlMjBudW1iZXIlM0QlMjIxJTIyJTJDJTBBJTIwJTIwJTIwJTIwJTIwJTIwJTIwJTIwbW9udGglM0QlMjJKQU4lMjIlMkMlMEElMjAlMjAlMjAlMjAlMjAlMjAlMjAlMjBkb2klM0QlMjIxMC4xMDE2L2ouZ2lxLjIwMDkuMDguMDA1JTIyJTJDJTBBJTIwJTIwJTIwJTIwJTIwJTIwJTIwJTIwaXNzbiUzRCUyMjA3NDAtNjI0WCUyMiUyQyUwQSUyMCUyMCUyMCUyMCUyMCUyMCUyMCUyMHVuaXF1ZS1pZCUzRCUyMklTSSUzQTAwMDI3MjY4NzYwMDAxMCUyMiUyQyUwQSUyMCUyMCUyMCUyMCUyMCUyMCUyMCUyMElEJTNEJTIySVNJJTNBMDAwMjcyNjg3NjAwMDEwJTIyJTJDJTBBJTIwJTIwJTIwJTIwJTIwJTIwJTIwJTIwd2Vib2ZzY2llbmNlMjAxNSUzRCUyMjElMjIlMkMlMEElMjAlMjAlMjAlMjAlMjAlMjAlMjAlMjBwbGFjZXglM0QlMjJHT1ZFUk5NRU5UJTIwSU5GT1JNQVRJT04lMjBRVUFSVEVSTFklMjIlMkMlMEElMjAlMjAlMjAlMjAlMjklMjklMEElMjclMjclMjclMjklM0I=\")));\n",
       "    "
      ],
      "text/plain": [
       "<IPython.core.display.Javascript object>"
      ]
     },
     "metadata": {},
     "output_type": "display_data"
    },
    {
     "data": {
      "application/javascript": [
       "$('span:contains(\"# Temp\")').closest('.cell').remove();"
      ],
      "text/plain": [
       "<IPython.core.display.Javascript object>"
      ]
     },
     "metadata": {},
     "output_type": "display_data"
    },
    {
     "data": {
      "application/javascript": [
       "\n",
       "        $('span:contains(\"# Temp\")').closest('.cell').remove();\n",
       "        var code = IPython.notebook.insert_cell_below('code');\n",
       "        code.set_text(decodeURIComponent(window.atob(\"JTIzJTIwVGVtcCUwQWluc2VydCUyOCUyNyUyNyUyNyUwQXdpbGxpYW1zMjAxMGElMjAlM0QlMjBEQiUyOFdvcmtVbnJlbGF0ZWQlMjglMEElMjAlMjAlMjAlMjAyMDEwJTJDJTIwJTIyQ2hhcmFjdGVyaXppbmclMjBzb2Z0d2FyZSUyMGFyY2hpdGVjdHVyZSUyMGNoYW5nZXMlM0ElMjBBJTIwc3lzdGVtYXRpYyUyMHJldmlldyUyMiUyQyUwQSUyMCUyMCUyMCUyMGRpc3BsYXklM0QlMjJ3aWxsaWFtcyUyMiUyQyUwQSUyMCUyMCUyMCUyMGF1dGhvcnMlM0QlMjJXaWxsaWFtcyUyQyUyMEJ5cm9uJTIwSi4lMjBhbmQlMjBDYXJ2ZXIlMkMlMjBKZWZmcmV5JTIwQy4lMjIlMkMlMEElMjAlMjAlMjAlMjBwbGFjZSUzREZBS0UlMkMlMEElMjAlMjAlMjAlMjBwcCUzRCUyMjMxLTUxJTIyJTJDJTBBJTIwJTIwJTIwJTIwZW50cnl0eXBlJTNEJTIyYXJ0aWNsZSUyMiUyQyUwQSUyMCUyMCUyMCUyMHZvbHVtZSUzRCUyMjUyJTIyJTJDJTBBJTIwJTIwJTIwJTIwbnVtYmVyJTNEJTIyMSUyMiUyQyUwQSUyMCUyMCUyMCUyMG1vbnRoJTNEJTIySkFOJTIyJTJDJTBBJTIwJTIwJTIwJTIwZG9pJTNEJTIyMTAuMTAxNi9qLmluZnNvZi4yMDA5LjA3LjAwMiUyMiUyQyUwQSUyMCUyMCUyMCUyMGlzc24lM0QlMjIwOTUwLTU4NDklMjIlMkMlMEElMjAlMjAlMjAlMjBlaXNzbiUzRCUyMjE4NzMtNjAyNSUyMiUyQyUwQSUyMCUyMCUyMCUyMHVuaXF1ZS1pZCUzRCUyMklTSSUzQTAwMDI3MjM3MjkwMDAwMyUyMiUyQyUwQSUyMCUyMCUyMCUyMElEJTNEJTIySVNJJTNBMDAwMjcyMzcyOTAwMDAzJTIyJTJDJTBBJTIwJTIwJTIwJTIwd2Vib2ZzY2llbmNlMjAxNSUzRCUyMjElMjIlMkMlMEElMjAlMjAlMjAlMjBwbGFjZXglM0QlMjJJTkZPUk1BVElPTiUyMEFORCUyMFNPRlRXQVJFJTIwVEVDSE5PTE9HWSUyMiUyQyUwQSUyOSUyOSUwQSUyNyUyNyUyNyUyOSUzQg==\")));\n",
       "    "
      ],
      "text/plain": [
       "<IPython.core.display.Javascript object>"
      ]
     },
     "metadata": {},
     "output_type": "display_data"
    },
    {
     "data": {
      "application/javascript": [
       "$('span:contains(\"# Temp\")').closest('.cell').remove();"
      ],
      "text/plain": [
       "<IPython.core.display.Javascript object>"
      ]
     },
     "metadata": {},
     "output_type": "display_data"
    },
    {
     "data": {
      "application/javascript": [
       "\n",
       "        $('span:contains(\"# Temp\")').closest('.cell').remove();\n",
       "        var code = IPython.notebook.insert_cell_below('code');\n",
       "        code.set_text(decodeURIComponent(window.atob(\"JTIzJTIwVGVtcCUwQWluc2VydCUyOCUyNyUyNyUyNyUwQXdpbGxpYW1zMjAxMGElMjAlM0QlMjBEQiUyOFdvcmtVbnJlbGF0ZWQlMjglMEElMjAlMjAlMjAlMjAyMDEwJTJDJTIwJTIyQ2hhcmFjdGVyaXppbmclMjBzb2Z0d2FyZSUyMGFyY2hpdGVjdHVyZSUyMGNoYW5nZXMlM0ElMjBBJTIwc3lzdGVtYXRpYyUyMHJldmlldyUyMiUyQyUwQSUyMCUyMCUyMCUyMGRpc3BsYXklM0QlMjJ3aWxsaWFtcyUyMiUyQyUwQSUyMCUyMCUyMCUyMGF1dGhvcnMlM0QlMjJXaWxsaWFtcyUyQyUyMEJ5cm9uJTIwSi4lMjBhbmQlMjBDYXJ2ZXIlMkMlMjBKZWZmcmV5JTIwQy4lMjIlMkMlMEElMjAlMjAlMjAlMjBwbGFjZSUzREZBS0UlMkMlMEElMjAlMjAlMjAlMjBwcCUzRCUyMjMxLTUxJTIyJTJDJTBBJTIwJTIwJTIwJTIwZW50cnl0eXBlJTNEJTIyYXJ0aWNsZSUyMiUyQyUwQSUyMCUyMCUyMCUyMHZvbHVtZSUzRCUyMjUyJTIyJTJDJTBBJTIwJTIwJTIwJTIwbnVtYmVyJTNEJTIyMSUyMiUyQyUwQSUyMCUyMCUyMCUyMG1vbnRoJTNEJTIySkFOJTIyJTJDJTBBJTIwJTIwJTIwJTIwZG9pJTNEJTIyMTAuMTAxNi9qLmluZnNvZi4yMDA5LjA3LjAwMiUyMiUyQyUwQSUyMCUyMCUyMCUyMGlzc24lM0QlMjIwOTUwLTU4NDklMjIlMkMlMEElMjAlMjAlMjAlMjBlaXNzbiUzRCUyMjE4NzMtNjAyNSUyMiUyQyUwQSUyMCUyMCUyMCUyMHVuaXF1ZS1pZCUzRCUyMklTSSUzQTAwMDI3MjM3MjkwMDAwMyUyMiUyQyUwQSUyMCUyMCUyMCUyMElEJTNEJTIySVNJJTNBMDAwMjcyMzcyOTAwMDAzJTIyJTJDJTBBJTIwJTIwJTIwJTIwd2Vib2ZzY2llbmNlMjAxNSUzRCUyMjElMjIlMkMlMEElMjAlMjAlMjAlMjBwbGFjZXglM0QlMjJJTkZPUk1BVElPTiUyMEFORCUyMFNPRlRXQVJFJTIwVEVDSE5PTE9HWSUyMiUyQyUwQSUyOSUyOSUwQSUyNyUyNyUyNyUyOSUzQg==\")));\n",
       "    "
      ],
      "text/plain": [
       "<IPython.core.display.Javascript object>"
      ]
     },
     "metadata": {},
     "output_type": "display_data"
    },
    {
     "data": {
      "application/javascript": [
       "$('span:contains(\"# Temp\")').closest('.cell').remove();"
      ],
      "text/plain": [
       "<IPython.core.display.Javascript object>"
      ]
     },
     "metadata": {},
     "output_type": "display_data"
    },
    {
     "data": {
      "application/javascript": [
       "\n",
       "        $('span:contains(\"# Temp\")').closest('.cell').remove();\n",
       "        var code = IPython.notebook.insert_cell_below('code');\n",
       "        code.set_text(decodeURIComponent(window.atob(\"JTIzJTIwVGVtcCUwQWluc2VydCUyOCUyNyUyNyUyNyUwQSUyMCUyMCUyMCUyMHdvdW5nYW5nMjAxMmElMjAlM0QlMjBEQiUyOFdvcmtVbnJlbGF0ZWQlMjglMEElMjAlMjAlMjAlMjAlMjAlMjAlMjAlMjAyMDEyJTJDJTIwJTIyQ29kaW5nLWVycm9yJTIwYmFzZWQlMjBkZWZlY3RzJTIwaW4lMjBlbnRlcnByaXNlJTIwcmVzb3VyY2UlMjBwbGFubmluZyUyMHNvZnR3YXJlJTNBJTBBUHJldmVudGlvbiUyQyUyMGRpc2NvdmVyeSUyQyUyMGVsaW1pbmF0aW9uJTIwYW5kJTIwbWl0aWdhdGlvbiUyMiUyQyUwQSUyMCUyMCUyMCUyMCUyMCUyMCUyMCUyMGRpc3BsYXklM0QlMjJ3b3VuZ2FuZyUyMiUyQyUwQSUyMCUyMCUyMCUyMCUyMCUyMCUyMCUyMGF1dGhvcnMlM0QlMjJXb3VuZ2FuZyUyQyUyMElzYWFjJTIwYW5kJTIwQWtpbmxhZGVqbyUyQyUyMEZlbGl4JTIwTy4lMjBhbmQlMjBXaGl0ZSUyQyUyMERhdmlkJTIwVy4lMjBhbmQlMEFPYmFpZGF0JTJDJTIwTW9oYW1tYWQlMjBTLiUyMiUyQyUwQSUyMCUyMCUyMCUyMCUyMCUyMCUyMCUyMHBsYWNlJTNERkFLRSUyQyUwQSUyMCUyMCUyMCUyMCUyMCUyMCUyMCUyMHBwJTNEJTIyMTY4Mi0xNjk4JTIyJTJDJTBBJTIwJTIwJTIwJTIwJTIwJTIwJTIwJTIwZW50cnl0eXBlJTNEJTIyYXJ0aWNsZSUyMiUyQyUwQSUyMCUyMCUyMCUyMCUyMCUyMCUyMCUyMHZvbHVtZSUzRCUyMjg1JTIyJTJDJTBBJTIwJTIwJTIwJTIwJTIwJTIwJTIwJTIwbnVtYmVyJTNEJTIyNyUyMiUyQyUwQSUyMCUyMCUyMCUyMCUyMCUyMCUyMCUyMG1vbnRoJTNEJTIySlVMJTIyJTJDJTBBJTIwJTIwJTIwJTIwJTIwJTIwJTIwJTIwZG9pJTNEJTIyMTAuMTAxNi9qLmpzcy4yMDEyLjAyLjAzNCUyMiUyQyUwQSUyMCUyMCUyMCUyMCUyMCUyMCUyMCUyMGlzc24lM0QlMjIwMTY0LTEyMTIlMjIlMkMlMEElMjAlMjAlMjAlMjAlMjAlMjAlMjAlMjBvcmNpZC1udW1iZXJzJTNEJTIyT2JhaWRhdCUyQyUyME1vaGFtbWFkJTIwUy4vMDAwMC0wMDAyLTE1NjktOTY1NyUyMiUyQyUwQSUyMCUyMCUyMCUyMCUyMCUyMCUyMCUyMHVuaXF1ZS1pZCUzRCUyMklTSSUzQTAwMDMwNDcyMjMwMDAxNyUyMiUyQyUwQSUyMCUyMCUyMCUyMCUyMCUyMCUyMCUyMElEJTNEJTIySVNJJTNBMDAwMzA0NzIyMzAwMDE3JTIyJTJDJTBBJTIwJTIwJTIwJTIwJTIwJTIwJTIwJTIwd2Vib2ZzY2llbmNlMjAxNSUzRCUyMjElMjIlMkMlMEElMjAlMjAlMjAlMjAlMjAlMjAlMjAlMjBwbGFjZXglM0QlMjJKT1VSTkFMJTIwT0YlMjBTWVNURU1TJTIwQU5EJTIwU09GVFdBUkUlMjIlMkMlMEElMjAlMjAlMjAlMjAlMjklMjklMEElMjclMjclMjclMjklM0I=\")));\n",
       "    "
      ],
      "text/plain": [
       "<IPython.core.display.Javascript object>"
      ]
     },
     "metadata": {},
     "output_type": "display_data"
    },
    {
     "data": {
      "application/javascript": [
       "$('span:contains(\"# Temp\")').closest('.cell').remove();"
      ],
      "text/plain": [
       "<IPython.core.display.Javascript object>"
      ]
     },
     "metadata": {},
     "output_type": "display_data"
    },
    {
     "data": {
      "application/javascript": [
       "\n",
       "        $('span:contains(\"# Temp\")').closest('.cell').remove();\n",
       "        var code = IPython.notebook.insert_cell_below('code');\n",
       "        code.set_text(decodeURIComponent(window.atob(\"JTIzJTIwVGVtcCUwQWluc2VydCUyOCUyNyUyNyUyNyUwQSUyMCUyMCUyMCUyMHdvdW5nYW5nMjAxMmElMjAlM0QlMjBEQiUyOFdvcmtVbnJlbGF0ZWQlMjglMEElMjAlMjAlMjAlMjAlMjAlMjAlMjAlMjAyMDEyJTJDJTIwJTIyQ29kaW5nLWVycm9yJTIwYmFzZWQlMjBkZWZlY3RzJTIwaW4lMjBlbnRlcnByaXNlJTIwcmVzb3VyY2UlMjBwbGFubmluZyUyMHNvZnR3YXJlJTNBJTBBUHJldmVudGlvbiUyQyUyMGRpc2NvdmVyeSUyQyUyMGVsaW1pbmF0aW9uJTIwYW5kJTIwbWl0aWdhdGlvbiUyMiUyQyUwQSUyMCUyMCUyMCUyMCUyMCUyMCUyMCUyMGRpc3BsYXklM0QlMjJ3b3VuZ2FuZyUyMiUyQyUwQSUyMCUyMCUyMCUyMCUyMCUyMCUyMCUyMGF1dGhvcnMlM0QlMjJXb3VuZ2FuZyUyQyUyMElzYWFjJTIwYW5kJTIwQWtpbmxhZGVqbyUyQyUyMEZlbGl4JTIwTy4lMjBhbmQlMjBXaGl0ZSUyQyUyMERhdmlkJTIwVy4lMjBhbmQlMEFPYmFpZGF0JTJDJTIwTW9oYW1tYWQlMjBTLiUyMiUyQyUwQSUyMCUyMCUyMCUyMCUyMCUyMCUyMCUyMHBsYWNlJTNERkFLRSUyQyUwQSUyMCUyMCUyMCUyMCUyMCUyMCUyMCUyMHBwJTNEJTIyMTY4Mi0xNjk4JTIyJTJDJTBBJTIwJTIwJTIwJTIwJTIwJTIwJTIwJTIwZW50cnl0eXBlJTNEJTIyYXJ0aWNsZSUyMiUyQyUwQSUyMCUyMCUyMCUyMCUyMCUyMCUyMCUyMHZvbHVtZSUzRCUyMjg1JTIyJTJDJTBBJTIwJTIwJTIwJTIwJTIwJTIwJTIwJTIwbnVtYmVyJTNEJTIyNyUyMiUyQyUwQSUyMCUyMCUyMCUyMCUyMCUyMCUyMCUyMG1vbnRoJTNEJTIySlVMJTIyJTJDJTBBJTIwJTIwJTIwJTIwJTIwJTIwJTIwJTIwZG9pJTNEJTIyMTAuMTAxNi9qLmpzcy4yMDEyLjAyLjAzNCUyMiUyQyUwQSUyMCUyMCUyMCUyMCUyMCUyMCUyMCUyMGlzc24lM0QlMjIwMTY0LTEyMTIlMjIlMkMlMEElMjAlMjAlMjAlMjAlMjAlMjAlMjAlMjBvcmNpZC1udW1iZXJzJTNEJTIyT2JhaWRhdCUyQyUyME1vaGFtbWFkJTIwUy4vMDAwMC0wMDAyLTE1NjktOTY1NyUyMiUyQyUwQSUyMCUyMCUyMCUyMCUyMCUyMCUyMCUyMHVuaXF1ZS1pZCUzRCUyMklTSSUzQTAwMDMwNDcyMjMwMDAxNyUyMiUyQyUwQSUyMCUyMCUyMCUyMCUyMCUyMCUyMCUyMElEJTNEJTIySVNJJTNBMDAwMzA0NzIyMzAwMDE3JTIyJTJDJTBBJTIwJTIwJTIwJTIwJTIwJTIwJTIwJTIwd2Vib2ZzY2llbmNlMjAxNSUzRCUyMjElMjIlMkMlMEElMjAlMjAlMjAlMjAlMjAlMjAlMjAlMjBwbGFjZXglM0QlMjJKT1VSTkFMJTIwT0YlMjBTWVNURU1TJTIwQU5EJTIwU09GVFdBUkUlMjIlMkMlMEElMjAlMjAlMjAlMjAlMjklMjklMEElMjclMjclMjclMjklM0I=\")));\n",
       "    "
      ],
      "text/plain": [
       "<IPython.core.display.Javascript object>"
      ]
     },
     "metadata": {},
     "output_type": "display_data"
    },
    {
     "data": {
      "application/javascript": [
       "$('span:contains(\"# Temp\")').closest('.cell').remove();"
      ],
      "text/plain": [
       "<IPython.core.display.Javascript object>"
      ]
     },
     "metadata": {},
     "output_type": "display_data"
    },
    {
     "data": {
      "application/javascript": [
       "\n",
       "        $('span:contains(\"# Temp\")').closest('.cell').remove();\n",
       "        var code = IPython.notebook.insert_cell_below('code');\n",
       "        code.set_text(decodeURIComponent(window.atob(\"JTIzJTIwVGVtcCUwQWluc2VydCUyOCUyNyUyNyUyNyUwQSUyMCUyMCUyMCUyMGZpdHpnZXJhbGQyMDE3YSUyMCUzRCUyMERCJTI4V29ya1VucmVsYXRlZCUyOCUwQSUyMCUyMCUyMCUyMCUyMCUyMCUyMCUyMDIwMTclMkMlMjAlMjJDb250aW51b3VzJTIwc29mdHdhcmUlMjBlbmdpbmVlcmluZyUzQSUyMEElMjByb2FkbWFwJTIwYW5kJTIwYWdlbmRhJTIyJTJDJTBBJTIwJTIwJTIwJTIwJTIwJTIwJTIwJTIwZGlzcGxheSUzRCUyMmZpdHpnZXJhbGQlMjIlMkMlMEElMjAlMjAlMjAlMjAlMjAlMjAlMjAlMjBhdXRob3JzJTNEJTIyRml0emdlcmFsZCUyQyUyMEJyaWFuJTIwYW5kJTIwU3RvbCUyQyUyMEtsYWFzLUphbiUyMiUyQyUwQSUyMCUyMCUyMCUyMCUyMCUyMCUyMCUyMHBsYWNlJTNERkFLRSUyQyUwQSUyMCUyMCUyMCUyMCUyMCUyMCUyMCUyMHBwJTNEJTIyMTc2LTE4OSUyMiUyQyUwQSUyMCUyMCUyMCUyMCUyMCUyMCUyMCUyMGVudHJ5dHlwZSUzRCUyMmFydGljbGUlMjIlMkMlMEElMjAlMjAlMjAlMjAlMjAlMjAlMjAlMjB2b2x1bWUlM0QlMjIxMjMlMjIlMkMlMEElMjAlMjAlMjAlMjAlMjAlMjAlMjAlMjBtb250aCUzRCUyMkpBTiUyMiUyQyUwQSUyMCUyMCUyMCUyMCUyMCUyMCUyMCUyMGRvaSUzRCUyMjEwLjEwMTYvai5qc3MuMjAxNS4wNi4wNjMlMjIlMkMlMEElMjAlMjAlMjAlMjAlMjAlMjAlMjAlMjBpc3NuJTNEJTIyMDE2NC0xMjEyJTIyJTJDJTBBJTIwJTIwJTIwJTIwJTIwJTIwJTIwJTIwZWlzc24lM0QlMjIxODczLTEyMjglMjIlMkMlMEElMjAlMjAlMjAlMjAlMjAlMjAlMjAlMjBvcmNpZC1udW1iZXJzJTNEJTIyU3RvbCUyQyUyMEtsYWFzLUphbi8wMDAwLTAwMDItMTAzOC01MDUwJTBBRml0emdlcmFsZCUyQyUyMEJyaWFuLzAwMDAtMDAwMS05MTkzLTI4NjMlMjIlMkMlMEElMjAlMjAlMjAlMjAlMjAlMjAlMjAlMjB1bmlxdWUtaWQlM0QlMjJJU0klM0EwMDAzODkxMDAxMDAwMTIlMjIlMkMlMEElMjAlMjAlMjAlMjAlMjAlMjAlMjAlMjBJRCUzRCUyMklTSSUzQTAwMDM4OTEwMDEwMDAxMiUyMiUyQyUwQSUyMCUyMCUyMCUyMCUyMCUyMCUyMCUyMHdlYm9mc2NpZW5jZTIwMTUlM0QlMjIxJTIyJTJDJTBBJTIwJTIwJTIwJTIwJTIwJTIwJTIwJTIwcGxhY2V4JTNEJTIySk9VUk5BTCUyME9GJTIwU1lTVEVNUyUyMEFORCUyMFNPRlRXQVJFJTIyJTJDJTBBJTIwJTIwJTIwJTIwJTI5JTI5JTBBJTI3JTI3JTI3JTI5JTNC\")));\n",
       "    "
      ],
      "text/plain": [
       "<IPython.core.display.Javascript object>"
      ]
     },
     "metadata": {},
     "output_type": "display_data"
    },
    {
     "data": {
      "application/javascript": [
       "$('span:contains(\"# Temp\")').closest('.cell').remove();"
      ],
      "text/plain": [
       "<IPython.core.display.Javascript object>"
      ]
     },
     "metadata": {},
     "output_type": "display_data"
    },
    {
     "data": {
      "application/javascript": [
       "\n",
       "        $('span:contains(\"# Temp\")').closest('.cell').remove();\n",
       "        var code = IPython.notebook.insert_cell_below('code');\n",
       "        code.set_text(decodeURIComponent(window.atob(\"JTIzJTIwVGVtcCUwQWluc2VydCUyOCUyNyUyNyUyNyUwQSUyMCUyMCUyMCUyMGZpdHpnZXJhbGQyMDE3YSUyMCUzRCUyMERCJTI4V29ya1VucmVsYXRlZCUyOCUwQSUyMCUyMCUyMCUyMCUyMCUyMCUyMCUyMDIwMTclMkMlMjAlMjJDb250aW51b3VzJTIwc29mdHdhcmUlMjBlbmdpbmVlcmluZyUzQSUyMEElMjByb2FkbWFwJTIwYW5kJTIwYWdlbmRhJTIyJTJDJTBBJTIwJTIwJTIwJTIwJTIwJTIwJTIwJTIwZGlzcGxheSUzRCUyMmZpdHpnZXJhbGQlMjIlMkMlMEElMjAlMjAlMjAlMjAlMjAlMjAlMjAlMjBhdXRob3JzJTNEJTIyRml0emdlcmFsZCUyQyUyMEJyaWFuJTIwYW5kJTIwU3RvbCUyQyUyMEtsYWFzLUphbiUyMiUyQyUwQSUyMCUyMCUyMCUyMCUyMCUyMCUyMCUyMHBsYWNlJTNERkFLRSUyQyUwQSUyMCUyMCUyMCUyMCUyMCUyMCUyMCUyMHBwJTNEJTIyMTc2LTE4OSUyMiUyQyUwQSUyMCUyMCUyMCUyMCUyMCUyMCUyMCUyMGVudHJ5dHlwZSUzRCUyMmFydGljbGUlMjIlMkMlMEElMjAlMjAlMjAlMjAlMjAlMjAlMjAlMjB2b2x1bWUlM0QlMjIxMjMlMjIlMkMlMEElMjAlMjAlMjAlMjAlMjAlMjAlMjAlMjBtb250aCUzRCUyMkpBTiUyMiUyQyUwQSUyMCUyMCUyMCUyMCUyMCUyMCUyMCUyMGRvaSUzRCUyMjEwLjEwMTYvai5qc3MuMjAxNS4wNi4wNjMlMjIlMkMlMEElMjAlMjAlMjAlMjAlMjAlMjAlMjAlMjBpc3NuJTNEJTIyMDE2NC0xMjEyJTIyJTJDJTBBJTIwJTIwJTIwJTIwJTIwJTIwJTIwJTIwZWlzc24lM0QlMjIxODczLTEyMjglMjIlMkMlMEElMjAlMjAlMjAlMjAlMjAlMjAlMjAlMjBvcmNpZC1udW1iZXJzJTNEJTIyU3RvbCUyQyUyMEtsYWFzLUphbi8wMDAwLTAwMDItMTAzOC01MDUwJTBBRml0emdlcmFsZCUyQyUyMEJyaWFuLzAwMDAtMDAwMS05MTkzLTI4NjMlMjIlMkMlMEElMjAlMjAlMjAlMjAlMjAlMjAlMjAlMjB1bmlxdWUtaWQlM0QlMjJJU0klM0EwMDAzODkxMDAxMDAwMTIlMjIlMkMlMEElMjAlMjAlMjAlMjAlMjAlMjAlMjAlMjBJRCUzRCUyMklTSSUzQTAwMDM4OTEwMDEwMDAxMiUyMiUyQyUwQSUyMCUyMCUyMCUyMCUyMCUyMCUyMCUyMHdlYm9mc2NpZW5jZTIwMTUlM0QlMjIxJTIyJTJDJTBBJTIwJTIwJTIwJTIwJTIwJTIwJTIwJTIwcGxhY2V4JTNEJTIySk9VUk5BTCUyME9GJTIwU1lTVEVNUyUyMEFORCUyMFNPRlRXQVJFJTIyJTJDJTBBJTIwJTIwJTIwJTIwJTI5JTI5JTBBJTI3JTI3JTI3JTI5JTNC\")));\n",
       "    "
      ],
      "text/plain": [
       "<IPython.core.display.Javascript object>"
      ]
     },
     "metadata": {},
     "output_type": "display_data"
    },
    {
     "data": {
      "application/javascript": [
       "$('span:contains(\"# Temp\")').closest('.cell').remove();"
      ],
      "text/plain": [
       "<IPython.core.display.Javascript object>"
      ]
     },
     "metadata": {},
     "output_type": "display_data"
    },
    {
     "data": {
      "application/javascript": [
       "\n",
       "        $('span:contains(\"# Temp\")').closest('.cell').remove();\n",
       "        var code = IPython.notebook.insert_cell_below('code');\n",
       "        code.set_text(decodeURIComponent(window.atob(\"JTIzJTIwVGVtcCUwQWluc2VydCUyOCUyNyUyNyUyNyUwQSUyMCUyMCUyMCUyMGJhZGRvbzIwMDNhJTIwJTNEJTIwREIlMjhXb3JrVW5yZWxhdGVkJTI4JTBBJTIwJTIwJTIwJTIwJTIwJTIwJTIwJTIwMjAwMyUyQyUyMCUyMkRlLW1vdGl2YXRvcnMlMjBmb3IlMjBzb2Z0d2FyZSUyMHByb2Nlc3MlMjBpbXByb3ZlbWVudCUzQSUyMGFuJTIwYW5hbHlzaXMlMjBvZiUwQXByYWN0aXRpb25lcnMlMjclMjB2aWV3cyUyMiUyQyUwQSUyMCUyMCUyMCUyMCUyMCUyMCUyMCUyMGRpc3BsYXklM0QlMjJiYWRkb28lMjIlMkMlMEElMjAlMjAlMjAlMjAlMjAlMjAlMjAlMjBhdXRob3JzJTNEJTIyQmFkZG9vJTJDJTIwTiUyMGFuZCUyMEhhbGwlMkMlMjBUJTIyJTJDJTBBJTIwJTIwJTIwJTIwJTIwJTIwJTIwJTIwcGxhY2UlM0RGQUtFJTJDJTBBJTIwJTIwJTIwJTIwJTIwJTIwJTIwJTIwcHAlM0QlMjIyMy0zMyUyMiUyQyUwQSUyMCUyMCUyMCUyMCUyMCUyMCUyMCUyMGVudHJ5dHlwZSUzRCUyMmFydGljbGUlMjIlMkMlMEElMjAlMjAlMjAlMjAlMjAlMjAlMjAlMjB2b2x1bWUlM0QlMjI2NiUyMiUyQyUwQSUyMCUyMCUyMCUyMCUyMCUyMCUyMCUyMG51bWJlciUzRCUyMjElMjIlMkMlMEElMjAlMjAlMjAlMjAlMjAlMjAlMjAlMjBtb250aCUzRCUyMkFQUiUyMDE1JTIyJTJDJTBBJTIwJTIwJTIwJTIwJTIwJTIwJTIwJTIwZG9pJTNEJTIyMTAuMTAxNi9TMDE2NC0xMjEyJTI4MDIlMjkwMDA2MC0yJTIyJTJDJTBBJTIwJTIwJTIwJTIwJTIwJTIwJTIwJTIwaXNzbiUzRCUyMjAxNjQtMTIxMiUyMiUyQyUwQSUyMCUyMCUyMCUyMCUyMCUyMCUyMCUyMG9yY2lkLW51bWJlcnMlM0QlMjJIYWxsJTJDJTIwVHJhY3kvMDAwMC0wMDAyLTI3MjgtOTAxNCUyMiUyQyUwQSUyMCUyMCUyMCUyMCUyMCUyMCUyMCUyMHVuaXF1ZS1pZCUzRCUyMklTSSUzQTAwMDE4MzUwNTQwMDAwMyUyMiUyQyUwQSUyMCUyMCUyMCUyMCUyMCUyMCUyMCUyMElEJTNEJTIySVNJJTNBMDAwMTgzNTA1NDAwMDAzJTIyJTJDJTBBJTIwJTIwJTIwJTIwJTIwJTIwJTIwJTIwd2Vib2ZzY2llbmNlMjAxNSUzRCUyMjElMjIlMkMlMEElMjAlMjAlMjAlMjAlMjAlMjAlMjAlMjBwbGFjZXglM0QlMjJKT1VSTkFMJTIwT0YlMjBTWVNURU1TJTIwQU5EJTIwU09GVFdBUkUlMjIlMkMlMEElMjAlMjAlMjAlMjAlMjklMjklMEElMjclMjclMjclMjklM0I=\")));\n",
       "    "
      ],
      "text/plain": [
       "<IPython.core.display.Javascript object>"
      ]
     },
     "metadata": {},
     "output_type": "display_data"
    },
    {
     "data": {
      "application/javascript": [
       "$('span:contains(\"# Temp\")').closest('.cell').remove();"
      ],
      "text/plain": [
       "<IPython.core.display.Javascript object>"
      ]
     },
     "metadata": {},
     "output_type": "display_data"
    },
    {
     "data": {
      "application/javascript": [
       "\n",
       "        $('span:contains(\"# Temp\")').closest('.cell').remove();\n",
       "        var code = IPython.notebook.insert_cell_below('code');\n",
       "        code.set_text(decodeURIComponent(window.atob(\"JTIzJTIwVGVtcCUwQWluc2VydCUyOCUyNyUyNyUyNyUwQSUyMCUyMCUyMCUyMGJhZGRvbzIwMDNhJTIwJTNEJTIwREIlMjhXb3JrVW5yZWxhdGVkJTI4JTBBJTIwJTIwJTIwJTIwJTIwJTIwJTIwJTIwMjAwMyUyQyUyMCUyMkRlLW1vdGl2YXRvcnMlMjBmb3IlMjBzb2Z0d2FyZSUyMHByb2Nlc3MlMjBpbXByb3ZlbWVudCUzQSUyMGFuJTIwYW5hbHlzaXMlMjBvZiUwQXByYWN0aXRpb25lcnMlMjclMjB2aWV3cyUyMiUyQyUwQSUyMCUyMCUyMCUyMCUyMCUyMCUyMCUyMGRpc3BsYXklM0QlMjJiYWRkb28lMjIlMkMlMEElMjAlMjAlMjAlMjAlMjAlMjAlMjAlMjBhdXRob3JzJTNEJTIyQmFkZG9vJTJDJTIwTiUyMGFuZCUyMEhhbGwlMkMlMjBUJTIyJTJDJTBBJTIwJTIwJTIwJTIwJTIwJTIwJTIwJTIwcGxhY2UlM0RGQUtFJTJDJTBBJTIwJTIwJTIwJTIwJTIwJTIwJTIwJTIwcHAlM0QlMjIyMy0zMyUyMiUyQyUwQSUyMCUyMCUyMCUyMCUyMCUyMCUyMCUyMGVudHJ5dHlwZSUzRCUyMmFydGljbGUlMjIlMkMlMEElMjAlMjAlMjAlMjAlMjAlMjAlMjAlMjB2b2x1bWUlM0QlMjI2NiUyMiUyQyUwQSUyMCUyMCUyMCUyMCUyMCUyMCUyMCUyMG51bWJlciUzRCUyMjElMjIlMkMlMEElMjAlMjAlMjAlMjAlMjAlMjAlMjAlMjBtb250aCUzRCUyMkFQUiUyMDE1JTIyJTJDJTBBJTIwJTIwJTIwJTIwJTIwJTIwJTIwJTIwZG9pJTNEJTIyMTAuMTAxNi9TMDE2NC0xMjEyJTI4MDIlMjkwMDA2MC0yJTIyJTJDJTBBJTIwJTIwJTIwJTIwJTIwJTIwJTIwJTIwaXNzbiUzRCUyMjAxNjQtMTIxMiUyMiUyQyUwQSUyMCUyMCUyMCUyMCUyMCUyMCUyMCUyMG9yY2lkLW51bWJlcnMlM0QlMjJIYWxsJTJDJTIwVHJhY3kvMDAwMC0wMDAyLTI3MjgtOTAxNCUyMiUyQyUwQSUyMCUyMCUyMCUyMCUyMCUyMCUyMCUyMHVuaXF1ZS1pZCUzRCUyMklTSSUzQTAwMDE4MzUwNTQwMDAwMyUyMiUyQyUwQSUyMCUyMCUyMCUyMCUyMCUyMCUyMCUyMElEJTNEJTIySVNJJTNBMDAwMTgzNTA1NDAwMDAzJTIyJTJDJTBBJTIwJTIwJTIwJTIwJTIwJTIwJTIwJTIwd2Vib2ZzY2llbmNlMjAxNSUzRCUyMjElMjIlMkMlMEElMjAlMjAlMjAlMjAlMjAlMjAlMjAlMjBwbGFjZXglM0QlMjJKT1VSTkFMJTIwT0YlMjBTWVNURU1TJTIwQU5EJTIwU09GVFdBUkUlMjIlMkMlMEElMjAlMjAlMjAlMjAlMjklMjklMEElMjclMjclMjclMjklM0I=\")));\n",
       "    "
      ],
      "text/plain": [
       "<IPython.core.display.Javascript object>"
      ]
     },
     "metadata": {},
     "output_type": "display_data"
    },
    {
     "data": {
      "application/javascript": [
       "$('span:contains(\"# Temp\")').closest('.cell').remove();"
      ],
      "text/plain": [
       "<IPython.core.display.Javascript object>"
      ]
     },
     "metadata": {},
     "output_type": "display_data"
    },
    {
     "data": {
      "application/javascript": [
       "\n",
       "        $('span:contains(\"# Temp\")').closest('.cell').remove();\n",
       "        var code = IPython.notebook.insert_cell_below('code');\n",
       "        code.set_text(decodeURIComponent(window.atob(\"JTIzJTIwVGVtcCUwQWluc2VydCUyOCUyNyUyNyUyNyUwQSUyMCUyMCUyMCUyMGdvcmxhMjAxMGElMjAlM0QlMjBEQiUyOFdvcmtVbnJlbGF0ZWQlMjglMEElMjAlMjAlMjAlMjAlMjAlMjAlMjAlMjAyMDEwJTJDJTIwJTIyRGV0ZXJtaW5hbnRzJTIwb2YlMjBzb2Z0d2FyZSUyMHF1YWxpdHklM0ElMjBBJTIwc3VydmV5JTIwb2YlMjBpbmZvcm1hdGlvbiUyMHN5c3RlbXMlMEFwcm9qZWN0JTIwbWFuYWdlcnMlMjIlMkMlMEElMjAlMjAlMjAlMjAlMjAlMjAlMjAlMjBkaXNwbGF5JTNEJTIyZ29ybGElMjIlMkMlMEElMjAlMjAlMjAlMjAlMjAlMjAlMjAlMjBhdXRob3JzJTNEJTIyR29ybGElMkMlMjBOYXJhc2ltaGFpYWglMjBhbmQlMjBMaW4lMkMlMjBTaGFuZy1DaGUlMjIlMkMlMEElMjAlMjAlMjAlMjAlMjAlMjAlMjAlMjBwbGFjZSUzREZBS0UlMkMlMEElMjAlMjAlMjAlMjAlMjAlMjAlMjAlMjBwcCUzRCUyMjYwMi02MTAlMjIlMkMlMEElMjAlMjAlMjAlMjAlMjAlMjAlMjAlMjBlbnRyeXR5cGUlM0QlMjJhcnRpY2xlJTIyJTJDJTBBJTIwJTIwJTIwJTIwJTIwJTIwJTIwJTIwdm9sdW1lJTNEJTIyNTIlMjIlMkMlMEElMjAlMjAlMjAlMjAlMjAlMjAlMjAlMjBudW1iZXIlM0QlMjI2JTIyJTJDJTBBJTIwJTIwJTIwJTIwJTIwJTIwJTIwJTIwbW9udGglM0QlMjJKVU4lMjIlMkMlMEElMjAlMjAlMjAlMjAlMjAlMjAlMjAlMjBkb2klM0QlMjIxMC4xMDE2L2ouaW5mc29mLjIwMDkuMTEuMDEyJTIyJTJDJTBBJTIwJTIwJTIwJTIwJTIwJTIwJTIwJTIwaXNzbiUzRCUyMjA5NTAtNTg0OSUyMiUyQyUwQSUyMCUyMCUyMCUyMCUyMCUyMCUyMCUyMHVuaXF1ZS1pZCUzRCUyMklTSSUzQTAwMDI3ODE1MDUwMDAwMiUyMiUyQyUwQSUyMCUyMCUyMCUyMCUyMCUyMCUyMCUyMElEJTNEJTIySVNJJTNBMDAwMjc4MTUwNTAwMDAyJTIyJTJDJTBBJTIwJTIwJTIwJTIwJTIwJTIwJTIwJTIwd2Vib2ZzY2llbmNlMjAxNSUzRCUyMjElMjIlMkMlMEElMjAlMjAlMjAlMjAlMjAlMjAlMjAlMjBwbGFjZXglM0QlMjJJTkZPUk1BVElPTiUyMEFORCUyMFNPRlRXQVJFJTIwVEVDSE5PTE9HWSUyMiUyQyUwQSUyMCUyMCUyMCUyMCUyOSUyOSUwQSUyNyUyNyUyNyUyOSUzQg==\")));\n",
       "    "
      ],
      "text/plain": [
       "<IPython.core.display.Javascript object>"
      ]
     },
     "metadata": {},
     "output_type": "display_data"
    },
    {
     "data": {
      "application/javascript": [
       "$('span:contains(\"# Temp\")').closest('.cell').remove();"
      ],
      "text/plain": [
       "<IPython.core.display.Javascript object>"
      ]
     },
     "metadata": {},
     "output_type": "display_data"
    },
    {
     "data": {
      "application/javascript": [
       "\n",
       "        $('span:contains(\"# Temp\")').closest('.cell').remove();\n",
       "        var code = IPython.notebook.insert_cell_below('code');\n",
       "        code.set_text(decodeURIComponent(window.atob(\"JTIzJTIwVGVtcCUwQWluc2VydCUyOCUyNyUyNyUyNyUwQSUyMCUyMCUyMCUyMGdvcmxhMjAxMGElMjAlM0QlMjBEQiUyOFdvcmtVbnJlbGF0ZWQlMjglMEElMjAlMjAlMjAlMjAlMjAlMjAlMjAlMjAyMDEwJTJDJTIwJTIyRGV0ZXJtaW5hbnRzJTIwb2YlMjBzb2Z0d2FyZSUyMHF1YWxpdHklM0ElMjBBJTIwc3VydmV5JTIwb2YlMjBpbmZvcm1hdGlvbiUyMHN5c3RlbXMlMEFwcm9qZWN0JTIwbWFuYWdlcnMlMjIlMkMlMEElMjAlMjAlMjAlMjAlMjAlMjAlMjAlMjBkaXNwbGF5JTNEJTIyZ29ybGElMjIlMkMlMEElMjAlMjAlMjAlMjAlMjAlMjAlMjAlMjBhdXRob3JzJTNEJTIyR29ybGElMkMlMjBOYXJhc2ltaGFpYWglMjBhbmQlMjBMaW4lMkMlMjBTaGFuZy1DaGUlMjIlMkMlMEElMjAlMjAlMjAlMjAlMjAlMjAlMjAlMjBwbGFjZSUzREZBS0UlMkMlMEElMjAlMjAlMjAlMjAlMjAlMjAlMjAlMjBwcCUzRCUyMjYwMi02MTAlMjIlMkMlMEElMjAlMjAlMjAlMjAlMjAlMjAlMjAlMjBlbnRyeXR5cGUlM0QlMjJhcnRpY2xlJTIyJTJDJTBBJTIwJTIwJTIwJTIwJTIwJTIwJTIwJTIwdm9sdW1lJTNEJTIyNTIlMjIlMkMlMEElMjAlMjAlMjAlMjAlMjAlMjAlMjAlMjBudW1iZXIlM0QlMjI2JTIyJTJDJTBBJTIwJTIwJTIwJTIwJTIwJTIwJTIwJTIwbW9udGglM0QlMjJKVU4lMjIlMkMlMEElMjAlMjAlMjAlMjAlMjAlMjAlMjAlMjBkb2klM0QlMjIxMC4xMDE2L2ouaW5mc29mLjIwMDkuMTEuMDEyJTIyJTJDJTBBJTIwJTIwJTIwJTIwJTIwJTIwJTIwJTIwaXNzbiUzRCUyMjA5NTAtNTg0OSUyMiUyQyUwQSUyMCUyMCUyMCUyMCUyMCUyMCUyMCUyMHVuaXF1ZS1pZCUzRCUyMklTSSUzQTAwMDI3ODE1MDUwMDAwMiUyMiUyQyUwQSUyMCUyMCUyMCUyMCUyMCUyMCUyMCUyMElEJTNEJTIySVNJJTNBMDAwMjc4MTUwNTAwMDAyJTIyJTJDJTBBJTIwJTIwJTIwJTIwJTIwJTIwJTIwJTIwd2Vib2ZzY2llbmNlMjAxNSUzRCUyMjElMjIlMkMlMEElMjAlMjAlMjAlMjAlMjAlMjAlMjAlMjBwbGFjZXglM0QlMjJJTkZPUk1BVElPTiUyMEFORCUyMFNPRlRXQVJFJTIwVEVDSE5PTE9HWSUyMiUyQyUwQSUyMCUyMCUyMCUyMCUyOSUyOSUwQSUyNyUyNyUyNyUyOSUzQg==\")));\n",
       "    "
      ],
      "text/plain": [
       "<IPython.core.display.Javascript object>"
      ]
     },
     "metadata": {},
     "output_type": "display_data"
    },
    {
     "data": {
      "application/javascript": [
       "$('span:contains(\"# Temp\")').closest('.cell').remove();"
      ],
      "text/plain": [
       "<IPython.core.display.Javascript object>"
      ]
     },
     "metadata": {},
     "output_type": "display_data"
    },
    {
     "data": {
      "application/javascript": [
       "\n",
       "        $('span:contains(\"# Temp\")').closest('.cell').remove();\n",
       "        var code = IPython.notebook.insert_cell_below('code');\n",
       "        code.set_text(decodeURIComponent(window.atob(\"JTIzJTIwVGVtcCUwQWluc2VydCUyOCUyNyUyNyUyNyUwQSUyMCUyMCUyMCUyMHR1cm5lcjIwMTBhJTIwJTNEJTIwREIlMjhXb3JrVW5yZWxhdGVkJTI4JTBBJTIwJTIwJTIwJTIwJTIwJTIwJTIwJTIwMjAxMCUyQyUyMCUyMkRvZXMlMjB0aGUlMjB0ZWNobm9sb2d5JTIwYWNjZXB0YW5jZSUyMG1vZGVsJTIwcHJlZGljdCUyMGFjdHVhbCUyMHVzZSUzRiUyMEElMjBzeXN0ZW1hdGljJTBBbGl0ZXJhdHVyZSUyMHJldmlldyUyMiUyQyUwQSUyMCUyMCUyMCUyMCUyMCUyMCUyMCUyMGRpc3BsYXklM0QlMjJ0dXJuZXIlMjIlMkMlMEElMjAlMjAlMjAlMjAlMjAlMjAlMjAlMjBhdXRob3JzJTNEJTIyVHVybmVyJTJDJTIwTWFyayUyMGFuZCUyMEtpdGNoZW5oYW0lMkMlMjBCYXJiYXJhJTIwYW5kJTIwQnJlcmV0b24lMkMlMjBQZWFybCUyMGFuZCUyMENoYXJ0ZXJzJTJDJTIwU3R1YXJ0JTIwYW5kJTIwQnVkZ2VuJTJDJTIwRGF2aWQlMjIlMkMlMEElMjAlMjAlMjAlMjAlMjAlMjAlMjAlMjBwbGFjZSUzREZBS0UlMkMlMEElMjAlMjAlMjAlMjAlMjAlMjAlMjAlMjBwcCUzRCUyMjQ2My00NzklMjIlMkMlMEElMjAlMjAlMjAlMjAlMjAlMjAlMjAlMjBlbnRyeXR5cGUlM0QlMjJhcnRpY2xlJTIyJTJDJTBBJTIwJTIwJTIwJTIwJTIwJTIwJTIwJTIwdm9sdW1lJTNEJTIyNTIlMjIlMkMlMEElMjAlMjAlMjAlMjAlMjAlMjAlMjAlMjBudW1iZXIlM0QlMjI1JTJDJTIwU0klMjIlMkMlMEElMjAlMjAlMjAlMjAlMjAlMjAlMjAlMjBtb250aCUzRCUyMk1BWSUyMiUyQyUwQSUyMCUyMCUyMCUyMCUyMCUyMCUyMCUyMGRvaSUzRCUyMjEwLjEwMTYvai5pbmZzb2YuMjAwOS4xMS4wMDUlMjIlMkMlMEElMjAlMjAlMjAlMjAlMjAlMjAlMjAlMjBpc3NuJTNEJTIyMDk1MC01ODQ5JTIyJTJDJTBBJTIwJTIwJTIwJTIwJTIwJTIwJTIwJTIwZWlzc24lM0QlMjIxODczLTYwMjUlMjIlMkMlMEElMjAlMjAlMjAlMjAlMjAlMjAlMjAlMjByZXNlYXJjaGVyaWQtbnVtYmVycyUzRCUyMkNoYXJ0ZXJzJTJDJTIwU3R1YXJ0L0MtMTc1MS0yMDEyJTBBJTIyJTJDJTBBJTIwJTIwJTIwJTIwJTIwJTIwJTIwJTIwb3JjaWQtbnVtYmVycyUzRCUyMktpdGNoZW5oYW0lMkMlMjBCYXJiYXJhLzAwMDAtMDAwMi02MTM0LTg0NjAlMjIlMkMlMEElMjAlMjAlMjAlMjAlMjAlMjAlMjAlMjB1bmlxdWUtaWQlM0QlMjJJU0klM0EwMDAyNzcxMDcyMDAwMDElMjIlMkMlMEElMjAlMjAlMjAlMjAlMjAlMjAlMjAlMjBJRCUzRCUyMklTSSUzQTAwMDI3NzEwNzIwMDAwMSUyMiUyQyUwQSUyMCUyMCUyMCUyMCUyMCUyMCUyMCUyMHdlYm9mc2NpZW5jZTIwMTUlM0QlMjIxJTIyJTJDJTBBJTIwJTIwJTIwJTIwJTIwJTIwJTIwJTIwcGxhY2V4JTNEJTIySU5GT1JNQVRJT04lMjBBTkQlMjBTT0ZUV0FSRSUyMFRFQ0hOT0xPR1klMjIlMkMlMEElMjAlMjAlMjAlMjAlMjklMjklMEElMjclMjclMjclMjklM0I=\")));\n",
       "    "
      ],
      "text/plain": [
       "<IPython.core.display.Javascript object>"
      ]
     },
     "metadata": {},
     "output_type": "display_data"
    },
    {
     "data": {
      "application/javascript": [
       "$('span:contains(\"# Temp\")').closest('.cell').remove();"
      ],
      "text/plain": [
       "<IPython.core.display.Javascript object>"
      ]
     },
     "metadata": {},
     "output_type": "display_data"
    },
    {
     "data": {
      "application/javascript": [
       "\n",
       "        $('span:contains(\"# Temp\")').closest('.cell').remove();\n",
       "        var code = IPython.notebook.insert_cell_below('code');\n",
       "        code.set_text(decodeURIComponent(window.atob(\"JTIzJTIwVGVtcCUwQWluc2VydCUyOCUyNyUyNyUyNyUwQSUyMCUyMCUyMCUyMHR1cm5lcjIwMTBhJTIwJTNEJTIwREIlMjhXb3JrVW5yZWxhdGVkJTI4JTBBJTIwJTIwJTIwJTIwJTIwJTIwJTIwJTIwMjAxMCUyQyUyMCUyMkRvZXMlMjB0aGUlMjB0ZWNobm9sb2d5JTIwYWNjZXB0YW5jZSUyMG1vZGVsJTIwcHJlZGljdCUyMGFjdHVhbCUyMHVzZSUzRiUyMEElMjBzeXN0ZW1hdGljJTBBbGl0ZXJhdHVyZSUyMHJldmlldyUyMiUyQyUwQSUyMCUyMCUyMCUyMCUyMCUyMCUyMCUyMGRpc3BsYXklM0QlMjJ0dXJuZXIlMjIlMkMlMEElMjAlMjAlMjAlMjAlMjAlMjAlMjAlMjBhdXRob3JzJTNEJTIyVHVybmVyJTJDJTIwTWFyayUyMGFuZCUyMEtpdGNoZW5oYW0lMkMlMjBCYXJiYXJhJTIwYW5kJTIwQnJlcmV0b24lMkMlMjBQZWFybCUyMGFuZCUyMENoYXJ0ZXJzJTJDJTIwU3R1YXJ0JTIwYW5kJTIwQnVkZ2VuJTJDJTIwRGF2aWQlMjIlMkMlMEElMjAlMjAlMjAlMjAlMjAlMjAlMjAlMjBwbGFjZSUzREZBS0UlMkMlMEElMjAlMjAlMjAlMjAlMjAlMjAlMjAlMjBwcCUzRCUyMjQ2My00NzklMjIlMkMlMEElMjAlMjAlMjAlMjAlMjAlMjAlMjAlMjBlbnRyeXR5cGUlM0QlMjJhcnRpY2xlJTIyJTJDJTBBJTIwJTIwJTIwJTIwJTIwJTIwJTIwJTIwdm9sdW1lJTNEJTIyNTIlMjIlMkMlMEElMjAlMjAlMjAlMjAlMjAlMjAlMjAlMjBudW1iZXIlM0QlMjI1JTJDJTIwU0klMjIlMkMlMEElMjAlMjAlMjAlMjAlMjAlMjAlMjAlMjBtb250aCUzRCUyMk1BWSUyMiUyQyUwQSUyMCUyMCUyMCUyMCUyMCUyMCUyMCUyMGRvaSUzRCUyMjEwLjEwMTYvai5pbmZzb2YuMjAwOS4xMS4wMDUlMjIlMkMlMEElMjAlMjAlMjAlMjAlMjAlMjAlMjAlMjBpc3NuJTNEJTIyMDk1MC01ODQ5JTIyJTJDJTBBJTIwJTIwJTIwJTIwJTIwJTIwJTIwJTIwZWlzc24lM0QlMjIxODczLTYwMjUlMjIlMkMlMEElMjAlMjAlMjAlMjAlMjAlMjAlMjAlMjByZXNlYXJjaGVyaWQtbnVtYmVycyUzRCUyMkNoYXJ0ZXJzJTJDJTIwU3R1YXJ0L0MtMTc1MS0yMDEyJTBBJTIyJTJDJTBBJTIwJTIwJTIwJTIwJTIwJTIwJTIwJTIwb3JjaWQtbnVtYmVycyUzRCUyMktpdGNoZW5oYW0lMkMlMjBCYXJiYXJhLzAwMDAtMDAwMi02MTM0LTg0NjAlMjIlMkMlMEElMjAlMjAlMjAlMjAlMjAlMjAlMjAlMjB1bmlxdWUtaWQlM0QlMjJJU0klM0EwMDAyNzcxMDcyMDAwMDElMjIlMkMlMEElMjAlMjAlMjAlMjAlMjAlMjAlMjAlMjBJRCUzRCUyMklTSSUzQTAwMDI3NzEwNzIwMDAwMSUyMiUyQyUwQSUyMCUyMCUyMCUyMCUyMCUyMCUyMCUyMHdlYm9mc2NpZW5jZTIwMTUlM0QlMjIxJTIyJTJDJTBBJTIwJTIwJTIwJTIwJTIwJTIwJTIwJTIwcGxhY2V4JTNEJTIySU5GT1JNQVRJT04lMjBBTkQlMjBTT0ZUV0FSRSUyMFRFQ0hOT0xPR1klMjIlMkMlMEElMjAlMjAlMjAlMjAlMjklMjklMEElMjclMjclMjclMjklM0I=\")));\n",
       "    "
      ],
      "text/plain": [
       "<IPython.core.display.Javascript object>"
      ]
     },
     "metadata": {},
     "output_type": "display_data"
    },
    {
     "data": {
      "application/javascript": [
       "$('span:contains(\"# Temp\")').closest('.cell').remove();"
      ],
      "text/plain": [
       "<IPython.core.display.Javascript object>"
      ]
     },
     "metadata": {},
     "output_type": "display_data"
    },
    {
     "data": {
      "application/javascript": [
       "\n",
       "        $('span:contains(\"# Temp\")').closest('.cell').remove();\n",
       "        var code = IPython.notebook.insert_cell_below('code');\n",
       "        code.set_text(decodeURIComponent(window.atob(\"JTIzJTIwVGVtcCUwQWluc2VydCUyOCUyNyUyNyUyNyUwQSUyMCUyMCUyMCUyMGhvbHQyMDE0YSUyMCUzRCUyMERCJTI4V29ya1VucmVsYXRlZCUyOCUwQSUyMCUyMCUyMCUyMCUyMCUyMCUyMCUyMDIwMTQlMkMlMjAlMjJFbXBpcmljYWwlMjBldmFsdWF0aW9ucyUyMG9uJTIwdGhlJTIwY29zdC1lZmZlY3RpdmVuZXNzJTIwb2YlMjBzdGF0ZS1iYXNlZCUyMHRlc3RpbmclM0ElMEFBbiUyMGluZHVzdHJpYWwlMjBjYXNlJTIwc3R1ZHklMjIlMkMlMEElMjAlMjAlMjAlMjAlMjAlMjAlMjAlMjBkaXNwbGF5JTNEJTIyaG9sdCUyMiUyQyUwQSUyMCUyMCUyMCUyMCUyMCUyMCUyMCUyMGF1dGhvcnMlM0QlMjJIb2x0JTJDJTIwTmluYSUyMEVsaXNhYmV0aCUyMGFuZCUyMEJyaWFuZCUyQyUyMExpb25lbCUyMEMuJTIwYW5kJTIwVG9ya2FyJTJDJTIwUmljaGFyZCUyMiUyQyUwQSUyMCUyMCUyMCUyMCUyMCUyMCUyMCUyMHBsYWNlJTNERkFLRSUyQyUwQSUyMCUyMCUyMCUyMCUyMCUyMCUyMCUyMHBwJTNEJTIyODkwLTkxMCUyMiUyQyUwQSUyMCUyMCUyMCUyMCUyMCUyMCUyMCUyMGVudHJ5dHlwZSUzRCUyMmFydGljbGUlMjIlMkMlMEElMjAlMjAlMjAlMjAlMjAlMjAlMjAlMjB2b2x1bWUlM0QlMjI1NiUyMiUyQyUwQSUyMCUyMCUyMCUyMCUyMCUyMCUyMCUyMG51bWJlciUzRCUyMjglMjIlMkMlMEElMjAlMjAlMjAlMjAlMjAlMjAlMjAlMjBtb250aCUzRCUyMkFVRyUyMiUyQyUwQSUyMCUyMCUyMCUyMCUyMCUyMCUyMCUyMGRvaSUzRCUyMjEwLjEwMTYvai5pbmZzb2YuMjAxNC4wMi4wMTElMjIlMkMlMEElMjAlMjAlMjAlMjAlMjAlMjAlMjAlMjBpc3NuJTNEJTIyMDk1MC01ODQ5JTIyJTJDJTBBJTIwJTIwJTIwJTIwJTIwJTIwJTIwJTIwZWlzc24lM0QlMjIxODczLTYwMjUlMjIlMkMlMEElMjAlMjAlMjAlMjAlMjAlMjAlMjAlMjB1bmlxdWUtaWQlM0QlMjJJU0klM0EwMDAzMzcyNjE4MDAwMDUlMjIlMkMlMEElMjAlMjAlMjAlMjAlMjAlMjAlMjAlMjBJRCUzRCUyMklTSSUzQTAwMDMzNzI2MTgwMDAwNSUyMiUyQyUwQSUyMCUyMCUyMCUyMCUyMCUyMCUyMCUyMHdlYm9mc2NpZW5jZTIwMTUlM0QlMjIxJTIyJTJDJTBBJTIwJTIwJTIwJTIwJTIwJTIwJTIwJTIwcGxhY2V4JTNEJTIySU5GT1JNQVRJT04lMjBBTkQlMjBTT0ZUV0FSRSUyMFRFQ0hOT0xPR1klMjIlMkMlMEElMjAlMjAlMjAlMjAlMjklMjklMEElMjclMjclMjclMjklM0I=\")));\n",
       "    "
      ],
      "text/plain": [
       "<IPython.core.display.Javascript object>"
      ]
     },
     "metadata": {},
     "output_type": "display_data"
    },
    {
     "data": {
      "application/javascript": [
       "$('span:contains(\"# Temp\")').closest('.cell').remove();"
      ],
      "text/plain": [
       "<IPython.core.display.Javascript object>"
      ]
     },
     "metadata": {},
     "output_type": "display_data"
    },
    {
     "data": {
      "application/javascript": [
       "\n",
       "        $('span:contains(\"# Temp\")').closest('.cell').remove();\n",
       "        var code = IPython.notebook.insert_cell_below('code');\n",
       "        code.set_text(decodeURIComponent(window.atob(\"JTIzJTIwVGVtcCUwQWluc2VydCUyOCUyNyUyNyUyNyUwQSUyMCUyMCUyMCUyMGhvbHQyMDE0YSUyMCUzRCUyMERCJTI4V29ya1VucmVsYXRlZCUyOCUwQSUyMCUyMCUyMCUyMCUyMCUyMCUyMCUyMDIwMTQlMkMlMjAlMjJFbXBpcmljYWwlMjBldmFsdWF0aW9ucyUyMG9uJTIwdGhlJTIwY29zdC1lZmZlY3RpdmVuZXNzJTIwb2YlMjBzdGF0ZS1iYXNlZCUyMHRlc3RpbmclM0ElMEFBbiUyMGluZHVzdHJpYWwlMjBjYXNlJTIwc3R1ZHklMjIlMkMlMEElMjAlMjAlMjAlMjAlMjAlMjAlMjAlMjBkaXNwbGF5JTNEJTIyaG9sdCUyMiUyQyUwQSUyMCUyMCUyMCUyMCUyMCUyMCUyMCUyMGF1dGhvcnMlM0QlMjJIb2x0JTJDJTIwTmluYSUyMEVsaXNhYmV0aCUyMGFuZCUyMEJyaWFuZCUyQyUyMExpb25lbCUyMEMuJTIwYW5kJTIwVG9ya2FyJTJDJTIwUmljaGFyZCUyMiUyQyUwQSUyMCUyMCUyMCUyMCUyMCUyMCUyMCUyMHBsYWNlJTNERkFLRSUyQyUwQSUyMCUyMCUyMCUyMCUyMCUyMCUyMCUyMHBwJTNEJTIyODkwLTkxMCUyMiUyQyUwQSUyMCUyMCUyMCUyMCUyMCUyMCUyMCUyMGVudHJ5dHlwZSUzRCUyMmFydGljbGUlMjIlMkMlMEElMjAlMjAlMjAlMjAlMjAlMjAlMjAlMjB2b2x1bWUlM0QlMjI1NiUyMiUyQyUwQSUyMCUyMCUyMCUyMCUyMCUyMCUyMCUyMG51bWJlciUzRCUyMjglMjIlMkMlMEElMjAlMjAlMjAlMjAlMjAlMjAlMjAlMjBtb250aCUzRCUyMkFVRyUyMiUyQyUwQSUyMCUyMCUyMCUyMCUyMCUyMCUyMCUyMGRvaSUzRCUyMjEwLjEwMTYvai5pbmZzb2YuMjAxNC4wMi4wMTElMjIlMkMlMEElMjAlMjAlMjAlMjAlMjAlMjAlMjAlMjBpc3NuJTNEJTIyMDk1MC01ODQ5JTIyJTJDJTBBJTIwJTIwJTIwJTIwJTIwJTIwJTIwJTIwZWlzc24lM0QlMjIxODczLTYwMjUlMjIlMkMlMEElMjAlMjAlMjAlMjAlMjAlMjAlMjAlMjB1bmlxdWUtaWQlM0QlMjJJU0klM0EwMDAzMzcyNjE4MDAwMDUlMjIlMkMlMEElMjAlMjAlMjAlMjAlMjAlMjAlMjAlMjBJRCUzRCUyMklTSSUzQTAwMDMzNzI2MTgwMDAwNSUyMiUyQyUwQSUyMCUyMCUyMCUyMCUyMCUyMCUyMCUyMHdlYm9mc2NpZW5jZTIwMTUlM0QlMjIxJTIyJTJDJTBBJTIwJTIwJTIwJTIwJTIwJTIwJTIwJTIwcGxhY2V4JTNEJTIySU5GT1JNQVRJT04lMjBBTkQlMjBTT0ZUV0FSRSUyMFRFQ0hOT0xPR1klMjIlMkMlMEElMjAlMjAlMjAlMjAlMjklMjklMEElMjclMjclMjclMjklM0I=\")));\n",
       "    "
      ],
      "text/plain": [
       "<IPython.core.display.Javascript object>"
      ]
     },
     "metadata": {},
     "output_type": "display_data"
    },
    {
     "data": {
      "application/javascript": [
       "$('span:contains(\"# Temp\")').closest('.cell').remove();"
      ],
      "text/plain": [
       "<IPython.core.display.Javascript object>"
      ]
     },
     "metadata": {},
     "output_type": "display_data"
    },
    {
     "data": {
      "application/javascript": [
       "\n",
       "        $('span:contains(\"# Temp\")').closest('.cell').remove();\n",
       "        var code = IPython.notebook.insert_cell_below('code');\n",
       "        code.set_text(decodeURIComponent(window.atob(\"JTIzJTIwVGVtcCUwQWluc2VydCUyOCUyNyUyNyUyNyUwQSUyMCUyMCUyMCUyMGlzbGFtMjAxMmElMjAlM0QlMjBEQiUyOFdvcmtVbnJlbGF0ZWQlMjglMEElMjAlMjAlMjAlMjAlMjAlMjAlMjAlMjAyMDEyJTJDJTIwJTIyRW1waXJpY2FsJTIwcHJlZGljdGlvbiUyMG1vZGVscyUyMGZvciUyMGFkYXB0aXZlJTIwcmVzb3VyY2UlMjBwcm92aXNpb25pbmclMjBpbiUyMHRoZSUwQWNsb3VkJTIyJTJDJTBBJTIwJTIwJTIwJTIwJTIwJTIwJTIwJTIwZGlzcGxheSUzRCUyMmlzbGFtJTIyJTJDJTBBJTIwJTIwJTIwJTIwJTIwJTIwJTIwJTIwYXV0aG9ycyUzRCUyMklzbGFtJTJDJTIwU2FkZWthJTIwYW5kJTIwS2V1bmclMkMlMjBKYWNreSUyMGFuZCUyMExlZSUyQyUyMEtldmluJTIwYW5kJTIwTGl1JTJDJTIwQW5uYSUyMiUyQyUwQSUyMCUyMCUyMCUyMCUyMCUyMCUyMCUyMHBsYWNlJTNERkFLRSUyQyUwQSUyMCUyMCUyMCUyMCUyMCUyMCUyMCUyMHBwJTNEJTIyMTU1LTE2MiUyMiUyQyUwQSUyMCUyMCUyMCUyMCUyMCUyMCUyMCUyMGVudHJ5dHlwZSUzRCUyMmFydGljbGUlMjIlMkMlMEElMjAlMjAlMjAlMjAlMjAlMjAlMjAlMjB2b2x1bWUlM0QlMjIyOCUyMiUyQyUwQSUyMCUyMCUyMCUyMCUyMCUyMCUyMCUyMG51bWJlciUzRCUyMjElMjIlMkMlMEElMjAlMjAlMjAlMjAlMjAlMjAlMjAlMjBtb250aCUzRCUyMkpBTiUyMiUyQyUwQSUyMCUyMCUyMCUyMCUyMCUyMCUyMCUyMG5vdGUlM0QlMjJJbnRlcm5hdGlvbmFsJTIwQ29uZmVyZW5jZSUyMG9uJTIwVXRpbGl0eSUyMGFuZCUyMENsb3VkJTIwQ29tcHV0aW5nJTJDJTIwQ2hlbm5haSUyQyUyMElORElBJTJDJTIwREVDJTJDJTIwMjAxMCUyMiUyQyUwQSUyMCUyMCUyMCUyMCUyMCUyMCUyMCUyMGRvaSUzRCUyMjEwLjEwMTYvai5mdXR1cmUuMjAxMS4wNS4wMjclMjIlMkMlMEElMjAlMjAlMjAlMjAlMjAlMjAlMjAlMjBpc3NuJTNEJTIyMDE2Ny03MzlYJTIyJTJDJTBBJTIwJTIwJTIwJTIwJTIwJTIwJTIwJTIwb3JjaWQtbnVtYmVycyUzRCUyMktFVU5HJTJDJTIwSmFja3kvMDAwMC0wMDAyLTM4MDMtOTYwMCUyMiUyQyUwQSUyMCUyMCUyMCUyMCUyMCUyMCUyMCUyMHVuaXF1ZS1pZCUzRCUyMklTSSUzQTAwMDI5NTk0NzkwMDAxOCUyMiUyQyUwQSUyMCUyMCUyMCUyMCUyMCUyMCUyMCUyMElEJTNEJTIySVNJJTNBMDAwMjk1OTQ3OTAwMDE4JTIyJTJDJTBBJTIwJTIwJTIwJTIwJTIwJTIwJTIwJTIwd2Vib2ZzY2llbmNlMjAxNSUzRCUyMjElMjIlMkMlMEElMjAlMjAlMjAlMjAlMjAlMjAlMjAlMjBwbGFjZXglM0QlMjJGVVRVUkUlMjBHRU5FUkFUSU9OJTIwQ09NUFVURVIlMjBTWVNURU1TLVRIRSUyMElOVEVSTkFUSU9OQUwlMjBKT1VSTkFMJTIwT0YlMjBHUklEJTBBQ09NUFVUSU5HJTIwQU5EJTIwRVNDSUVOQ0UlMjIlMkMlMEElMjAlMjAlMjAlMjAlMjklMjklMEElMjclMjclMjclMjklM0I=\")));\n",
       "    "
      ],
      "text/plain": [
       "<IPython.core.display.Javascript object>"
      ]
     },
     "metadata": {},
     "output_type": "display_data"
    },
    {
     "data": {
      "application/javascript": [
       "$('span:contains(\"# Temp\")').closest('.cell').remove();"
      ],
      "text/plain": [
       "<IPython.core.display.Javascript object>"
      ]
     },
     "metadata": {},
     "output_type": "display_data"
    },
    {
     "data": {
      "application/javascript": [
       "\n",
       "        $('span:contains(\"# Temp\")').closest('.cell').remove();\n",
       "        var code = IPython.notebook.insert_cell_below('code');\n",
       "        code.set_text(decodeURIComponent(window.atob(\"JTIzJTIwVGVtcCUwQWluc2VydCUyOCUyNyUyNyUyNyUwQSUyMCUyMCUyMCUyMGlzbGFtMjAxMmElMjAlM0QlMjBEQiUyOFdvcmtVbnJlbGF0ZWQlMjglMEElMjAlMjAlMjAlMjAlMjAlMjAlMjAlMjAyMDEyJTJDJTIwJTIyRW1waXJpY2FsJTIwcHJlZGljdGlvbiUyMG1vZGVscyUyMGZvciUyMGFkYXB0aXZlJTIwcmVzb3VyY2UlMjBwcm92aXNpb25pbmclMjBpbiUyMHRoZSUwQWNsb3VkJTIyJTJDJTBBJTIwJTIwJTIwJTIwJTIwJTIwJTIwJTIwZGlzcGxheSUzRCUyMmlzbGFtJTIyJTJDJTBBJTIwJTIwJTIwJTIwJTIwJTIwJTIwJTIwYXV0aG9ycyUzRCUyMklzbGFtJTJDJTIwU2FkZWthJTIwYW5kJTIwS2V1bmclMkMlMjBKYWNreSUyMGFuZCUyMExlZSUyQyUyMEtldmluJTIwYW5kJTIwTGl1JTJDJTIwQW5uYSUyMiUyQyUwQSUyMCUyMCUyMCUyMCUyMCUyMCUyMCUyMHBsYWNlJTNERkFLRSUyQyUwQSUyMCUyMCUyMCUyMCUyMCUyMCUyMCUyMHBwJTNEJTIyMTU1LTE2MiUyMiUyQyUwQSUyMCUyMCUyMCUyMCUyMCUyMCUyMCUyMGVudHJ5dHlwZSUzRCUyMmFydGljbGUlMjIlMkMlMEElMjAlMjAlMjAlMjAlMjAlMjAlMjAlMjB2b2x1bWUlM0QlMjIyOCUyMiUyQyUwQSUyMCUyMCUyMCUyMCUyMCUyMCUyMCUyMG51bWJlciUzRCUyMjElMjIlMkMlMEElMjAlMjAlMjAlMjAlMjAlMjAlMjAlMjBtb250aCUzRCUyMkpBTiUyMiUyQyUwQSUyMCUyMCUyMCUyMCUyMCUyMCUyMCUyMG5vdGUlM0QlMjJJbnRlcm5hdGlvbmFsJTIwQ29uZmVyZW5jZSUyMG9uJTIwVXRpbGl0eSUyMGFuZCUyMENsb3VkJTIwQ29tcHV0aW5nJTJDJTIwQ2hlbm5haSUyQyUyMElORElBJTJDJTIwREVDJTJDJTIwMjAxMCUyMiUyQyUwQSUyMCUyMCUyMCUyMCUyMCUyMCUyMCUyMGRvaSUzRCUyMjEwLjEwMTYvai5mdXR1cmUuMjAxMS4wNS4wMjclMjIlMkMlMEElMjAlMjAlMjAlMjAlMjAlMjAlMjAlMjBpc3NuJTNEJTIyMDE2Ny03MzlYJTIyJTJDJTBBJTIwJTIwJTIwJTIwJTIwJTIwJTIwJTIwb3JjaWQtbnVtYmVycyUzRCUyMktFVU5HJTJDJTIwSmFja3kvMDAwMC0wMDAyLTM4MDMtOTYwMCUyMiUyQyUwQSUyMCUyMCUyMCUyMCUyMCUyMCUyMCUyMHVuaXF1ZS1pZCUzRCUyMklTSSUzQTAwMDI5NTk0NzkwMDAxOCUyMiUyQyUwQSUyMCUyMCUyMCUyMCUyMCUyMCUyMCUyMElEJTNEJTIySVNJJTNBMDAwMjk1OTQ3OTAwMDE4JTIyJTJDJTBBJTIwJTIwJTIwJTIwJTIwJTIwJTIwJTIwd2Vib2ZzY2llbmNlMjAxNSUzRCUyMjElMjIlMkMlMEElMjAlMjAlMjAlMjAlMjAlMjAlMjAlMjBwbGFjZXglM0QlMjJGVVRVUkUlMjBHRU5FUkFUSU9OJTIwQ09NUFVURVIlMjBTWVNURU1TLVRIRSUyMElOVEVSTkFUSU9OQUwlMjBKT1VSTkFMJTIwT0YlMjBHUklEJTBBQ09NUFVUSU5HJTIwQU5EJTIwRVNDSUVOQ0UlMjIlMkMlMEElMjAlMjAlMjAlMjAlMjklMjklMEElMjclMjclMjclMjklM0I=\")));\n",
       "    "
      ],
      "text/plain": [
       "<IPython.core.display.Javascript object>"
      ]
     },
     "metadata": {},
     "output_type": "display_data"
    },
    {
     "data": {
      "application/javascript": [
       "$('span:contains(\"# Temp\")').closest('.cell').remove();"
      ],
      "text/plain": [
       "<IPython.core.display.Javascript object>"
      ]
     },
     "metadata": {},
     "output_type": "display_data"
    },
    {
     "data": {
      "application/javascript": [
       "\n",
       "        $('span:contains(\"# Temp\")').closest('.cell').remove();\n",
       "        var code = IPython.notebook.insert_cell_below('code');\n",
       "        code.set_text(decodeURIComponent(window.atob(\"JTIzJTIwVGVtcCUwQWluc2VydCUyOCUyNyUyNyUyNyUwQSUyMCUyMCUyMCUyMGFqaWxhMjAwN2ElMjAlM0QlMjBEQiUyOFdvcmtVbnJlbGF0ZWQlMjglMEElMjAlMjAlMjAlMjAlMjAlMjAlMjAlMjAyMDA3JTJDJTIwJTIyRW1waXJpY2FsJTIwc3R1ZHklMjBvZiUyMHRoZSUyMGVmZmVjdHMlMjBvZiUyMG9wZW4lMjBzb3VyY2UlMjBhZG9wdGlvbiUyMG9uJTIwc29mdHdhcmUlMEFkZXZlbG9wbWVudCUyMGVjb25vbWljcyUyMiUyQyUwQSUyMCUyMCUyMCUyMCUyMCUyMCUyMCUyMGRpc3BsYXklM0QlMjJhamlsYSUyMiUyQyUwQSUyMCUyMCUyMCUyMCUyMCUyMCUyMCUyMGF1dGhvcnMlM0QlMjJBamlsYSUyQyUyMFNhbXVlbCUyMEEuJTIwYW5kJTIwV3UlMkMlMjBEaSUyMiUyQyUwQSUyMCUyMCUyMCUyMCUyMCUyMCUyMCUyMHBsYWNlJTNERkFLRSUyQyUwQSUyMCUyMCUyMCUyMCUyMCUyMCUyMCUyMHBwJTNEJTIyMTUxNy0xNTI5JTIyJTJDJTBBJTIwJTIwJTIwJTIwJTIwJTIwJTIwJTIwZW50cnl0eXBlJTNEJTIyYXJ0aWNsZSUyMiUyQyUwQSUyMCUyMCUyMCUyMCUyMCUyMCUyMCUyMHZvbHVtZSUzRCUyMjgwJTIyJTJDJTBBJTIwJTIwJTIwJTIwJTIwJTIwJTIwJTIwbnVtYmVyJTNEJTIyOSUyMiUyQyUwQSUyMCUyMCUyMCUyMCUyMCUyMCUyMCUyMG1vbnRoJTNEJTIyU0VQJTIyJTJDJTBBJTIwJTIwJTIwJTIwJTIwJTIwJTIwJTIwZG9pJTNEJTIyMTAuMTAxNi9qLmpzcy4yMDA3LjAxLjAxMSUyMiUyQyUwQSUyMCUyMCUyMCUyMCUyMCUyMCUyMCUyMGlzc24lM0QlMjIwMTY0LTEyMTIlMjIlMkMlMEElMjAlMjAlMjAlMjAlMjAlMjAlMjAlMjBlaXNzbiUzRCUyMjE4NzMtMTIyOCUyMiUyQyUwQSUyMCUyMCUyMCUyMCUyMCUyMCUyMCUyMHVuaXF1ZS1pZCUzRCUyMklTSSUzQTAwMDI0OTQ3MjIwMDAxMCUyMiUyQyUwQSUyMCUyMCUyMCUyMCUyMCUyMCUyMCUyMElEJTNEJTIySVNJJTNBMDAwMjQ5NDcyMjAwMDEwJTIyJTJDJTBBJTIwJTIwJTIwJTIwJTIwJTIwJTIwJTIwd2Vib2ZzY2llbmNlMjAxNSUzRCUyMjElMjIlMkMlMEElMjAlMjAlMjAlMjAlMjAlMjAlMjAlMjBwbGFjZXglM0QlMjJKT1VSTkFMJTIwT0YlMjBTWVNURU1TJTIwQU5EJTIwU09GVFdBUkUlMjIlMkMlMEElMjAlMjAlMjAlMjAlMjklMjklMEElMjclMjclMjclMjklM0I=\")));\n",
       "    "
      ],
      "text/plain": [
       "<IPython.core.display.Javascript object>"
      ]
     },
     "metadata": {},
     "output_type": "display_data"
    },
    {
     "data": {
      "application/javascript": [
       "$('span:contains(\"# Temp\")').closest('.cell').remove();"
      ],
      "text/plain": [
       "<IPython.core.display.Javascript object>"
      ]
     },
     "metadata": {},
     "output_type": "display_data"
    },
    {
     "data": {
      "application/javascript": [
       "\n",
       "        $('span:contains(\"# Temp\")').closest('.cell').remove();\n",
       "        var code = IPython.notebook.insert_cell_below('code');\n",
       "        code.set_text(decodeURIComponent(window.atob(\"JTIzJTIwVGVtcCUwQWluc2VydCUyOCUyNyUyNyUyNyUwQSUyMCUyMCUyMCUyMGFqaWxhMjAwN2ElMjAlM0QlMjBEQiUyOFdvcmtVbnJlbGF0ZWQlMjglMEElMjAlMjAlMjAlMjAlMjAlMjAlMjAlMjAyMDA3JTJDJTIwJTIyRW1waXJpY2FsJTIwc3R1ZHklMjBvZiUyMHRoZSUyMGVmZmVjdHMlMjBvZiUyMG9wZW4lMjBzb3VyY2UlMjBhZG9wdGlvbiUyMG9uJTIwc29mdHdhcmUlMEFkZXZlbG9wbWVudCUyMGVjb25vbWljcyUyMiUyQyUwQSUyMCUyMCUyMCUyMCUyMCUyMCUyMCUyMGRpc3BsYXklM0QlMjJhamlsYSUyMiUyQyUwQSUyMCUyMCUyMCUyMCUyMCUyMCUyMCUyMGF1dGhvcnMlM0QlMjJBamlsYSUyQyUyMFNhbXVlbCUyMEEuJTIwYW5kJTIwV3UlMkMlMjBEaSUyMiUyQyUwQSUyMCUyMCUyMCUyMCUyMCUyMCUyMCUyMHBsYWNlJTNERkFLRSUyQyUwQSUyMCUyMCUyMCUyMCUyMCUyMCUyMCUyMHBwJTNEJTIyMTUxNy0xNTI5JTIyJTJDJTBBJTIwJTIwJTIwJTIwJTIwJTIwJTIwJTIwZW50cnl0eXBlJTNEJTIyYXJ0aWNsZSUyMiUyQyUwQSUyMCUyMCUyMCUyMCUyMCUyMCUyMCUyMHZvbHVtZSUzRCUyMjgwJTIyJTJDJTBBJTIwJTIwJTIwJTIwJTIwJTIwJTIwJTIwbnVtYmVyJTNEJTIyOSUyMiUyQyUwQSUyMCUyMCUyMCUyMCUyMCUyMCUyMCUyMG1vbnRoJTNEJTIyU0VQJTIyJTJDJTBBJTIwJTIwJTIwJTIwJTIwJTIwJTIwJTIwZG9pJTNEJTIyMTAuMTAxNi9qLmpzcy4yMDA3LjAxLjAxMSUyMiUyQyUwQSUyMCUyMCUyMCUyMCUyMCUyMCUyMCUyMGlzc24lM0QlMjIwMTY0LTEyMTIlMjIlMkMlMEElMjAlMjAlMjAlMjAlMjAlMjAlMjAlMjBlaXNzbiUzRCUyMjE4NzMtMTIyOCUyMiUyQyUwQSUyMCUyMCUyMCUyMCUyMCUyMCUyMCUyMHVuaXF1ZS1pZCUzRCUyMklTSSUzQTAwMDI0OTQ3MjIwMDAxMCUyMiUyQyUwQSUyMCUyMCUyMCUyMCUyMCUyMCUyMCUyMElEJTNEJTIySVNJJTNBMDAwMjQ5NDcyMjAwMDEwJTIyJTJDJTBBJTIwJTIwJTIwJTIwJTIwJTIwJTIwJTIwd2Vib2ZzY2llbmNlMjAxNSUzRCUyMjElMjIlMkMlMEElMjAlMjAlMjAlMjAlMjAlMjAlMjAlMjBwbGFjZXglM0QlMjJKT1VSTkFMJTIwT0YlMjBTWVNURU1TJTIwQU5EJTIwU09GVFdBUkUlMjIlMkMlMEElMjAlMjAlMjAlMjAlMjklMjklMEElMjclMjclMjclMjklM0I=\")));\n",
       "    "
      ],
      "text/plain": [
       "<IPython.core.display.Javascript object>"
      ]
     },
     "metadata": {},
     "output_type": "display_data"
    },
    {
     "data": {
      "application/javascript": [
       "$('span:contains(\"# Temp\")').closest('.cell').remove();"
      ],
      "text/plain": [
       "<IPython.core.display.Javascript object>"
      ]
     },
     "metadata": {},
     "output_type": "display_data"
    },
    {
     "data": {
      "application/javascript": [
       "\n",
       "        $('span:contains(\"# Temp\")').closest('.cell').remove();\n",
       "        var code = IPython.notebook.insert_cell_below('code');\n",
       "        code.set_text(decodeURIComponent(window.atob(\"JTIzJTIwVGVtcCUwQWluc2VydCUyOCUyNyUyNyUyNyUwQSUyMCUyMCUyMCUyMGJhYmFyMjAwN2IlMjAlM0QlMjBEQiUyOFdvcmtVbnJlbGF0ZWQlMjglMEElMjAlMjAlMjAlMjAlMjAlMjAlMjAlMjAyMDA3JTJDJTIwJTIyRXN0YWJsaXNoaW5nJTIwYW5kJTIwbWFpbnRhaW5pbmclMjB0cnVzdCUyMGluJTIwc29mdHdhcmUlMjBvdXRzb3VyY2luZyUwQXJlbGF0aW9uc2hpcHMlM0ElMjBBbiUyMGVtcGlyaWNhbCUyMGludmVzdGlnYXRpb24lMjIlMkMlMEElMjAlMjAlMjAlMjAlMjAlMjAlMjAlMjBkaXNwbGF5JTNEJTIyYmFiYXIlMjBiJTIyJTJDJTBBJTIwJTIwJTIwJTIwJTIwJTIwJTIwJTIwYXV0aG9ycyUzRCUyMkJhYmFyJTJDJTIwTXVoYW1tYWQlMjBBbGklMjBhbmQlMjBWZXJuZXIlMkMlMjBKdW5lJTIwTS4lMjBhbmQlMjBOZ3V5ZW4lMkMlMjBQaG9uZyUyMFRoYW5oJTIyJTJDJTBBJTIwJTIwJTIwJTIwJTIwJTIwJTIwJTIwcGxhY2UlM0RGQUtFJTJDJTBBJTIwJTIwJTIwJTIwJTIwJTIwJTIwJTIwcHAlM0QlMjIxNDM4LTE0NDklMjIlMkMlMEElMjAlMjAlMjAlMjAlMjAlMjAlMjAlMjBlbnRyeXR5cGUlM0QlMjJhcnRpY2xlJTIyJTJDJTBBJTIwJTIwJTIwJTIwJTIwJTIwJTIwJTIwdm9sdW1lJTNEJTIyODAlMjIlMkMlMEElMjAlMjAlMjAlMjAlMjAlMjAlMjAlMjBudW1iZXIlM0QlMjI5JTIyJTJDJTBBJTIwJTIwJTIwJTIwJTIwJTIwJTIwJTIwbW9udGglM0QlMjJTRVAlMjIlMkMlMEElMjAlMjAlMjAlMjAlMjAlMjAlMjAlMjBub3RlJTNEJTIyMTB0aCUyMEludGVybmF0aW9uYWwlMjBDb25mZXJlbmNlJTIwb24lMjBFdmFsdWF0aW9uJTIwYW5kJTIwQXNzZXNzbWVudCUyMGluJTIwU29mdHdhcmUlMEFFbmdpbmVlcmluZyUyMCUyOEVBU0UlMjklMkMlMjBLZWVsZSUyMFVuaXYlMkMlMjBLZWVsZSUyQyUyMEVOR0xBTkQlMkMlMjAyMDA2JTIyJTJDJTBBJTIwJTIwJTIwJTIwJTIwJTIwJTIwJTIwZG9pJTNEJTIyMTAuMTAxNi9qLmpzcy4yMDA2LjEyLjAzOCUyMiUyQyUwQSUyMCUyMCUyMCUyMCUyMCUyMCUyMCUyMGlzc24lM0QlMjIwMTY0LTEyMTIlMjIlMkMlMEElMjAlMjAlMjAlMjAlMjAlMjAlMjAlMjB1bmlxdWUtaWQlM0QlMjJJU0klM0EwMDAyNDk0NzIyMDAwMDMlMjIlMkMlMEElMjAlMjAlMjAlMjAlMjAlMjAlMjAlMjBJRCUzRCUyMklTSSUzQTAwMDI0OTQ3MjIwMDAwMyUyMiUyQyUwQSUyMCUyMCUyMCUyMCUyMCUyMCUyMCUyMHdlYm9mc2NpZW5jZTIwMTUlM0QlMjIxJTIyJTJDJTBBJTIwJTIwJTIwJTIwJTIwJTIwJTIwJTIwcGxhY2V4JTNEJTIySk9VUk5BTCUyME9GJTIwU1lTVEVNUyUyMEFORCUyMFNPRlRXQVJFJTIyJTJDJTBBJTIwJTIwJTIwJTIwJTI5JTI5JTBBJTI3JTI3JTI3JTI5JTNC\")));\n",
       "    "
      ],
      "text/plain": [
       "<IPython.core.display.Javascript object>"
      ]
     },
     "metadata": {},
     "output_type": "display_data"
    },
    {
     "data": {
      "application/javascript": [
       "$('span:contains(\"# Temp\")').closest('.cell').remove();"
      ],
      "text/plain": [
       "<IPython.core.display.Javascript object>"
      ]
     },
     "metadata": {},
     "output_type": "display_data"
    },
    {
     "data": {
      "application/javascript": [
       "\n",
       "        $('span:contains(\"# Temp\")').closest('.cell').remove();\n",
       "        var code = IPython.notebook.insert_cell_below('code');\n",
       "        code.set_text(decodeURIComponent(window.atob(\"JTIzJTIwVGVtcCUwQWluc2VydCUyOCUyNyUyNyUyNyUwQSUyMCUyMCUyMCUyMGJhYmFyMjAwN2IlMjAlM0QlMjBEQiUyOFdvcmtVbnJlbGF0ZWQlMjglMEElMjAlMjAlMjAlMjAlMjAlMjAlMjAlMjAyMDA3JTJDJTIwJTIyRXN0YWJsaXNoaW5nJTIwYW5kJTIwbWFpbnRhaW5pbmclMjB0cnVzdCUyMGluJTIwc29mdHdhcmUlMjBvdXRzb3VyY2luZyUwQXJlbGF0aW9uc2hpcHMlM0ElMjBBbiUyMGVtcGlyaWNhbCUyMGludmVzdGlnYXRpb24lMjIlMkMlMEElMjAlMjAlMjAlMjAlMjAlMjAlMjAlMjBkaXNwbGF5JTNEJTIyYmFiYXIlMjBiJTIyJTJDJTBBJTIwJTIwJTIwJTIwJTIwJTIwJTIwJTIwYXV0aG9ycyUzRCUyMkJhYmFyJTJDJTIwTXVoYW1tYWQlMjBBbGklMjBhbmQlMjBWZXJuZXIlMkMlMjBKdW5lJTIwTS4lMjBhbmQlMjBOZ3V5ZW4lMkMlMjBQaG9uZyUyMFRoYW5oJTIyJTJDJTBBJTIwJTIwJTIwJTIwJTIwJTIwJTIwJTIwcGxhY2UlM0RGQUtFJTJDJTBBJTIwJTIwJTIwJTIwJTIwJTIwJTIwJTIwcHAlM0QlMjIxNDM4LTE0NDklMjIlMkMlMEElMjAlMjAlMjAlMjAlMjAlMjAlMjAlMjBlbnRyeXR5cGUlM0QlMjJhcnRpY2xlJTIyJTJDJTBBJTIwJTIwJTIwJTIwJTIwJTIwJTIwJTIwdm9sdW1lJTNEJTIyODAlMjIlMkMlMEElMjAlMjAlMjAlMjAlMjAlMjAlMjAlMjBudW1iZXIlM0QlMjI5JTIyJTJDJTBBJTIwJTIwJTIwJTIwJTIwJTIwJTIwJTIwbW9udGglM0QlMjJTRVAlMjIlMkMlMEElMjAlMjAlMjAlMjAlMjAlMjAlMjAlMjBub3RlJTNEJTIyMTB0aCUyMEludGVybmF0aW9uYWwlMjBDb25mZXJlbmNlJTIwb24lMjBFdmFsdWF0aW9uJTIwYW5kJTIwQXNzZXNzbWVudCUyMGluJTIwU29mdHdhcmUlMEFFbmdpbmVlcmluZyUyMCUyOEVBU0UlMjklMkMlMjBLZWVsZSUyMFVuaXYlMkMlMjBLZWVsZSUyQyUyMEVOR0xBTkQlMkMlMjAyMDA2JTIyJTJDJTBBJTIwJTIwJTIwJTIwJTIwJTIwJTIwJTIwZG9pJTNEJTIyMTAuMTAxNi9qLmpzcy4yMDA2LjEyLjAzOCUyMiUyQyUwQSUyMCUyMCUyMCUyMCUyMCUyMCUyMCUyMGlzc24lM0QlMjIwMTY0LTEyMTIlMjIlMkMlMEElMjAlMjAlMjAlMjAlMjAlMjAlMjAlMjB1bmlxdWUtaWQlM0QlMjJJU0klM0EwMDAyNDk0NzIyMDAwMDMlMjIlMkMlMEElMjAlMjAlMjAlMjAlMjAlMjAlMjAlMjBJRCUzRCUyMklTSSUzQTAwMDI0OTQ3MjIwMDAwMyUyMiUyQyUwQSUyMCUyMCUyMCUyMCUyMCUyMCUyMCUyMHdlYm9mc2NpZW5jZTIwMTUlM0QlMjIxJTIyJTJDJTBBJTIwJTIwJTIwJTIwJTIwJTIwJTIwJTIwcGxhY2V4JTNEJTIySk9VUk5BTCUyME9GJTIwU1lTVEVNUyUyMEFORCUyMFNPRlRXQVJFJTIyJTJDJTBBJTIwJTIwJTIwJTIwJTI5JTI5JTBBJTI3JTI3JTI3JTI5JTNC\")));\n",
       "    "
      ],
      "text/plain": [
       "<IPython.core.display.Javascript object>"
      ]
     },
     "metadata": {},
     "output_type": "display_data"
    },
    {
     "data": {
      "application/javascript": [
       "$('span:contains(\"# Temp\")').closest('.cell').remove();"
      ],
      "text/plain": [
       "<IPython.core.display.Javascript object>"
      ]
     },
     "metadata": {},
     "output_type": "display_data"
    },
    {
     "data": {
      "application/javascript": [
       "\n",
       "        $('span:contains(\"# Temp\")').closest('.cell').remove();\n",
       "        var code = IPython.notebook.insert_cell_below('code');\n",
       "        code.set_text(decodeURIComponent(window.atob(\"JTIzJTIwVGVtcCUwQWluc2VydCUyOCUyNyUyNyUyNyUwQSUyMCUyMCUyMCUyMGtsdXRoMjAxNGElMjAlM0QlMjBEQiUyOFdvcmtVbnJlbGF0ZWQlMjglMEElMjAlMjAlMjAlMjAlMjAlMjAlMjAlMjAyMDE0JTJDJTIwJTIyRXZhbHVhdGlvbiUyMG9mJTIwQ29tcGxleGl0eSUyME1hbmFnZW1lbnQlMjBTeXN0ZW1zJTIwLSUyMFN5c3RlbWF0aWNhbCUyMGFuZCUwQU1hdHVyaXR5LUJhc2VkJTIwQXBwcm9hY2glMjIlMkMlMEElMjAlMjAlMjAlMjAlMjAlMjAlMjAlMjBkaXNwbGF5JTNEJTIya2x1dGglMjIlMkMlMEElMjAlMjAlMjAlMjAlMjAlMjAlMjAlMjBhdXRob3JzJTNEJTIyS2x1dGglMkMlMjBBbmRyZWFzJTIwYW5kJTIwSmFlZ2VyJTJDJTIwSmVucyUyMGFuZCUyMFNjaGF0eiUyQyUyMEFuamElMjBhbmQlMjBCYXVlcm5oYW5zbCUyQyUyMFRob21hcyUyMiUyQyUwQSUyMCUyMCUyMCUyMCUyMCUyMCUyMCUyMHBsYWNlJTNERkFLRSUyQyUwQSUyMCUyMCUyMCUyMCUyMCUyMCUyMCUyMHBwJTNEJTIyMjI0LTIyOSUyMiUyQyUwQSUyMCUyMCUyMCUyMCUyMCUyMCUyMCUyMGVudHJ5dHlwZSUzRCUyMmlucHJvY2VlZGluZ3MlMjIlMkMlMEElMjAlMjAlMjAlMjAlMjAlMjAlMjAlMjBlZGl0b3IlM0QlMjJFbE1hcmFnaHklMkMlMjBIJTIyJTJDJTBBJTIwJTIwJTIwJTIwJTIwJTIwJTIwJTIwc2VyaWVzJTNEJTIyUHJvY2VkaWElMjBDSVJQJTIyJTJDJTBBJTIwJTIwJTIwJTIwJTIwJTIwJTIwJTIwdm9sdW1lJTNEJTIyMTclMjIlMkMlMEElMjAlMjAlMjAlMjAlMjAlMjAlMjAlMjBub3RlJTNEJTIyNDd0aCUyMENJUlAlMjBDb25mZXJlbmNlJTIwb24lMjBNYW51ZmFjdHVyaW5nJTIwU3lzdGVtcyUyQyUyMFVuaXYlMjBXaW5kc29yJTJDJTIwV2luZHNvciUyQyUyMENBTkFEQSUyQyUyMEFQUiUyMDI4LTMwJTJDJTIwMjAxNCUyMiUyQyUwQSUyMCUyMCUyMCUyMCUyMCUyMCUyMCUyMG9yZ2FuaXphdGlvbiUzRCUyMkNJUlAlMjIlMkMlMEElMjAlMjAlMjAlMjAlMjAlMjAlMjAlMjBkb2klM0QlMjIxMC4xMDE2L2oucHJvY2lyLjIwMTQuMDEuMDgzJTIyJTJDJTBBJTIwJTIwJTIwJTIwJTIwJTIwJTIwJTIwaXNzbiUzRCUyMjIyMTItODI3MSUyMiUyQyUwQSUyMCUyMCUyMCUyMCUyMCUyMCUyMCUyMHVuaXF1ZS1pZCUzRCUyMklTSSUzQTAwMDM0NTQ1ODAwMDAzOSUyMiUyQyUwQSUyMCUyMCUyMCUyMCUyMCUyMCUyMCUyMElEJTNEJTIySVNJJTNBMDAwMzQ1NDU4MDAwMDM5JTIyJTJDJTBBJTIwJTIwJTIwJTIwJTIwJTIwJTIwJTIwd2Vib2ZzY2llbmNlMjAxNSUzRCUyMjElMjIlMkMlMEElMjAlMjAlMjAlMjAlMjAlMjAlMjAlMjBwbGFjZXglM0QlMjJWQVJJRVRZJTIwTUFOQUdFTUVOVCUyMElOJTIwTUFOVUZBQ1RVUklORyUzQSUyMFBST0NFRURJTkdTJTIwT0YlMjBUSEUlMjA0N1RIJTIwQ0lSUCUwQUNPTkZFUkVOQ0UlMjBPTiUyME1BTlVGQUNUVVJJTkclMjBTWVNURU1TJTIyJTJDJTBBJTIwJTIwJTIwJTIwJTI5JTI5JTBBJTI3JTI3JTI3JTI5JTNC\")));\n",
       "    "
      ],
      "text/plain": [
       "<IPython.core.display.Javascript object>"
      ]
     },
     "metadata": {},
     "output_type": "display_data"
    },
    {
     "data": {
      "application/javascript": [
       "$('span:contains(\"# Temp\")').closest('.cell').remove();"
      ],
      "text/plain": [
       "<IPython.core.display.Javascript object>"
      ]
     },
     "metadata": {},
     "output_type": "display_data"
    },
    {
     "data": {
      "application/javascript": [
       "\n",
       "        $('span:contains(\"# Temp\")').closest('.cell').remove();\n",
       "        var code = IPython.notebook.insert_cell_below('code');\n",
       "        code.set_text(decodeURIComponent(window.atob(\"JTIzJTIwVGVtcCUwQWluc2VydCUyOCUyNyUyNyUyNyUwQSUyMCUyMCUyMCUyMGtsdXRoMjAxNGElMjAlM0QlMjBEQiUyOFdvcmtVbnJlbGF0ZWQlMjglMEElMjAlMjAlMjAlMjAlMjAlMjAlMjAlMjAyMDE0JTJDJTIwJTIyRXZhbHVhdGlvbiUyMG9mJTIwQ29tcGxleGl0eSUyME1hbmFnZW1lbnQlMjBTeXN0ZW1zJTIwLSUyMFN5c3RlbWF0aWNhbCUyMGFuZCUwQU1hdHVyaXR5LUJhc2VkJTIwQXBwcm9hY2glMjIlMkMlMEElMjAlMjAlMjAlMjAlMjAlMjAlMjAlMjBkaXNwbGF5JTNEJTIya2x1dGglMjIlMkMlMEElMjAlMjAlMjAlMjAlMjAlMjAlMjAlMjBhdXRob3JzJTNEJTIyS2x1dGglMkMlMjBBbmRyZWFzJTIwYW5kJTIwSmFlZ2VyJTJDJTIwSmVucyUyMGFuZCUyMFNjaGF0eiUyQyUyMEFuamElMjBhbmQlMjBCYXVlcm5oYW5zbCUyQyUyMFRob21hcyUyMiUyQyUwQSUyMCUyMCUyMCUyMCUyMCUyMCUyMCUyMHBsYWNlJTNERkFLRSUyQyUwQSUyMCUyMCUyMCUyMCUyMCUyMCUyMCUyMHBwJTNEJTIyMjI0LTIyOSUyMiUyQyUwQSUyMCUyMCUyMCUyMCUyMCUyMCUyMCUyMGVudHJ5dHlwZSUzRCUyMmlucHJvY2VlZGluZ3MlMjIlMkMlMEElMjAlMjAlMjAlMjAlMjAlMjAlMjAlMjBlZGl0b3IlM0QlMjJFbE1hcmFnaHklMkMlMjBIJTIyJTJDJTBBJTIwJTIwJTIwJTIwJTIwJTIwJTIwJTIwc2VyaWVzJTNEJTIyUHJvY2VkaWElMjBDSVJQJTIyJTJDJTBBJTIwJTIwJTIwJTIwJTIwJTIwJTIwJTIwdm9sdW1lJTNEJTIyMTclMjIlMkMlMEElMjAlMjAlMjAlMjAlMjAlMjAlMjAlMjBub3RlJTNEJTIyNDd0aCUyMENJUlAlMjBDb25mZXJlbmNlJTIwb24lMjBNYW51ZmFjdHVyaW5nJTIwU3lzdGVtcyUyQyUyMFVuaXYlMjBXaW5kc29yJTJDJTIwV2luZHNvciUyQyUyMENBTkFEQSUyQyUyMEFQUiUyMDI4LTMwJTJDJTIwMjAxNCUyMiUyQyUwQSUyMCUyMCUyMCUyMCUyMCUyMCUyMCUyMG9yZ2FuaXphdGlvbiUzRCUyMkNJUlAlMjIlMkMlMEElMjAlMjAlMjAlMjAlMjAlMjAlMjAlMjBkb2klM0QlMjIxMC4xMDE2L2oucHJvY2lyLjIwMTQuMDEuMDgzJTIyJTJDJTBBJTIwJTIwJTIwJTIwJTIwJTIwJTIwJTIwaXNzbiUzRCUyMjIyMTItODI3MSUyMiUyQyUwQSUyMCUyMCUyMCUyMCUyMCUyMCUyMCUyMHVuaXF1ZS1pZCUzRCUyMklTSSUzQTAwMDM0NTQ1ODAwMDAzOSUyMiUyQyUwQSUyMCUyMCUyMCUyMCUyMCUyMCUyMCUyMElEJTNEJTIySVNJJTNBMDAwMzQ1NDU4MDAwMDM5JTIyJTJDJTBBJTIwJTIwJTIwJTIwJTIwJTIwJTIwJTIwd2Vib2ZzY2llbmNlMjAxNSUzRCUyMjElMjIlMkMlMEElMjAlMjAlMjAlMjAlMjAlMjAlMjAlMjBwbGFjZXglM0QlMjJWQVJJRVRZJTIwTUFOQUdFTUVOVCUyMElOJTIwTUFOVUZBQ1RVUklORyUzQSUyMFBST0NFRURJTkdTJTIwT0YlMjBUSEUlMjA0N1RIJTIwQ0lSUCUwQUNPTkZFUkVOQ0UlMjBPTiUyME1BTlVGQUNUVVJJTkclMjBTWVNURU1TJTIyJTJDJTBBJTIwJTIwJTIwJTIwJTI5JTI5JTBBJTI3JTI3JTI3JTI5JTNC\")));\n",
       "    "
      ],
      "text/plain": [
       "<IPython.core.display.Javascript object>"
      ]
     },
     "metadata": {},
     "output_type": "display_data"
    },
    {
     "data": {
      "application/javascript": [
       "$('span:contains(\"# Temp\")').closest('.cell').remove();"
      ],
      "text/plain": [
       "<IPython.core.display.Javascript object>"
      ]
     },
     "metadata": {},
     "output_type": "display_data"
    },
    {
     "data": {
      "application/javascript": [
       "\n",
       "        $('span:contains(\"# Temp\")').closest('.cell').remove();\n",
       "        var code = IPython.notebook.insert_cell_below('code');\n",
       "        code.set_text(decodeURIComponent(window.atob(\"JTIzJTIwVGVtcCUwQWluc2VydCUyOCUyNyUyNyUyNyUwQSUyMCUyMCUyMCUyMHN0YXBsZXMyMDA3YiUyMCUzRCUyMERCJTI4V29ya1VucmVsYXRlZCUyOCUwQSUyMCUyMCUyMCUyMCUyMCUyMCUyMCUyMDIwMDclMkMlMjAlMjJFeHBlcmllbmNlcyUyMHVzaW5nJTIwc3lzdGVtYXRpYyUyMHJldmlldyUyMGd1aWRlbGluZXMlMjIlMkMlMEElMjAlMjAlMjAlMjAlMjAlMjAlMjAlMjBkaXNwbGF5JTNEJTIyc3RhcGxlcyUyMGIlMjIlMkMlMEElMjAlMjAlMjAlMjAlMjAlMjAlMjAlMjBhdXRob3JzJTNEJTIyU3RhcGxlcyUyQyUyME1hcmslMjBhbmQlMjBOaWF6aSUyQyUyME1haG1vb2QlMjIlMkMlMEElMjAlMjAlMjAlMjAlMjAlMjAlMjAlMjBwbGFjZSUzREZBS0UlMkMlMEElMjAlMjAlMjAlMjAlMjAlMjAlMjAlMjBwcCUzRCUyMjE0MjUtMTQzNyUyMiUyQyUwQSUyMCUyMCUyMCUyMCUyMCUyMCUyMCUyMGVudHJ5dHlwZSUzRCUyMmFydGljbGUlMjIlMkMlMEElMjAlMjAlMjAlMjAlMjAlMjAlMjAlMjB2b2x1bWUlM0QlMjI4MCUyMiUyQyUwQSUyMCUyMCUyMCUyMCUyMCUyMCUyMCUyMG51bWJlciUzRCUyMjklMjIlMkMlMEElMjAlMjAlMjAlMjAlMjAlMjAlMjAlMjBtb250aCUzRCUyMlNFUCUyMiUyQyUwQSUyMCUyMCUyMCUyMCUyMCUyMCUyMCUyMG5vdGUlM0QlMjIxMHRoJTIwSW50ZXJuYXRpb25hbCUyMENvbmZlcmVuY2UlMjBvbiUyMEV2YWx1YXRpb24lMjBhbmQlMjBBc3Nlc3NtZW50JTIwaW4lMjBTb2Z0d2FyZSUwQUVuZ2luZWVyaW5nJTIwJTI4RUFTRSUyOSUyQyUyMEtlZWxlJTIwVW5pdiUyQyUyMEtlZWxlJTJDJTIwRU5HTEFORCUyQyUyMDIwMDYlMjIlMkMlMEElMjAlMjAlMjAlMjAlMjAlMjAlMjAlMjBkb2klM0QlMjIxMC4xMDE2L2ouanNzLjIwMDYuMDkuMDQ2JTIyJTJDJTBBJTIwJTIwJTIwJTIwJTIwJTIwJTIwJTIwaXNzbiUzRCUyMjAxNjQtMTIxMiUyMiUyQyUwQSUyMCUyMCUyMCUyMCUyMCUyMCUyMCUyMHJlc2VhcmNoZXJpZC1udW1iZXJzJTNEJTIyTmlhemklMkMlMjBNYWhtb29kL0MtODg3My0yMDE1JTIyJTJDJTBBJTIwJTIwJTIwJTIwJTIwJTIwJTIwJTIwb3JjaWQtbnVtYmVycyUzRCUyMk5pYXppJTJDJTIwTWFobW9vZC8wMDAwLTAwMDEtNzMxOC03NjQ0JTIyJTJDJTBBJTIwJTIwJTIwJTIwJTIwJTIwJTIwJTIwdW5pcXVlLWlkJTNEJTIySVNJJTNBMDAwMjQ5NDcyMjAwMDAyJTIyJTJDJTBBJTIwJTIwJTIwJTIwJTIwJTIwJTIwJTIwSUQlM0QlMjJJU0klM0EwMDAyNDk0NzIyMDAwMDIlMjIlMkMlMEElMjAlMjAlMjAlMjAlMjAlMjAlMjAlMjB3ZWJvZnNjaWVuY2UyMDE1JTNEJTIyMSUyMiUyQyUwQSUyMCUyMCUyMCUyMCUyMCUyMCUyMCUyMHBsYWNleCUzRCUyMkpPVVJOQUwlMjBPRiUyMFNZU1RFTVMlMjBBTkQlMjBTT0ZUV0FSRSUyMiUyQyUwQSUyMCUyMCUyMCUyMCUyOSUyOSUwQSUyNyUyNyUyNyUyOSUzQg==\")));\n",
       "    "
      ],
      "text/plain": [
       "<IPython.core.display.Javascript object>"
      ]
     },
     "metadata": {},
     "output_type": "display_data"
    },
    {
     "data": {
      "application/javascript": [
       "$('span:contains(\"# Temp\")').closest('.cell').remove();"
      ],
      "text/plain": [
       "<IPython.core.display.Javascript object>"
      ]
     },
     "metadata": {},
     "output_type": "display_data"
    },
    {
     "data": {
      "application/javascript": [
       "\n",
       "        $('span:contains(\"# Temp\")').closest('.cell').remove();\n",
       "        var code = IPython.notebook.insert_cell_below('code');\n",
       "        code.set_text(decodeURIComponent(window.atob(\"JTIzJTIwVGVtcCUwQWluc2VydCUyOCUyNyUyNyUyNyUwQSUyMCUyMCUyMCUyMHN0YXBsZXMyMDA3YiUyMCUzRCUyMERCJTI4V29ya1VucmVsYXRlZCUyOCUwQSUyMCUyMCUyMCUyMCUyMCUyMCUyMCUyMDIwMDclMkMlMjAlMjJFeHBlcmllbmNlcyUyMHVzaW5nJTIwc3lzdGVtYXRpYyUyMHJldmlldyUyMGd1aWRlbGluZXMlMjIlMkMlMEElMjAlMjAlMjAlMjAlMjAlMjAlMjAlMjBkaXNwbGF5JTNEJTIyc3RhcGxlcyUyMGIlMjIlMkMlMEElMjAlMjAlMjAlMjAlMjAlMjAlMjAlMjBhdXRob3JzJTNEJTIyU3RhcGxlcyUyQyUyME1hcmslMjBhbmQlMjBOaWF6aSUyQyUyME1haG1vb2QlMjIlMkMlMEElMjAlMjAlMjAlMjAlMjAlMjAlMjAlMjBwbGFjZSUzREZBS0UlMkMlMEElMjAlMjAlMjAlMjAlMjAlMjAlMjAlMjBwcCUzRCUyMjE0MjUtMTQzNyUyMiUyQyUwQSUyMCUyMCUyMCUyMCUyMCUyMCUyMCUyMGVudHJ5dHlwZSUzRCUyMmFydGljbGUlMjIlMkMlMEElMjAlMjAlMjAlMjAlMjAlMjAlMjAlMjB2b2x1bWUlM0QlMjI4MCUyMiUyQyUwQSUyMCUyMCUyMCUyMCUyMCUyMCUyMCUyMG51bWJlciUzRCUyMjklMjIlMkMlMEElMjAlMjAlMjAlMjAlMjAlMjAlMjAlMjBtb250aCUzRCUyMlNFUCUyMiUyQyUwQSUyMCUyMCUyMCUyMCUyMCUyMCUyMCUyMG5vdGUlM0QlMjIxMHRoJTIwSW50ZXJuYXRpb25hbCUyMENvbmZlcmVuY2UlMjBvbiUyMEV2YWx1YXRpb24lMjBhbmQlMjBBc3Nlc3NtZW50JTIwaW4lMjBTb2Z0d2FyZSUwQUVuZ2luZWVyaW5nJTIwJTI4RUFTRSUyOSUyQyUyMEtlZWxlJTIwVW5pdiUyQyUyMEtlZWxlJTJDJTIwRU5HTEFORCUyQyUyMDIwMDYlMjIlMkMlMEElMjAlMjAlMjAlMjAlMjAlMjAlMjAlMjBkb2klM0QlMjIxMC4xMDE2L2ouanNzLjIwMDYuMDkuMDQ2JTIyJTJDJTBBJTIwJTIwJTIwJTIwJTIwJTIwJTIwJTIwaXNzbiUzRCUyMjAxNjQtMTIxMiUyMiUyQyUwQSUyMCUyMCUyMCUyMCUyMCUyMCUyMCUyMHJlc2VhcmNoZXJpZC1udW1iZXJzJTNEJTIyTmlhemklMkMlMjBNYWhtb29kL0MtODg3My0yMDE1JTIyJTJDJTBBJTIwJTIwJTIwJTIwJTIwJTIwJTIwJTIwb3JjaWQtbnVtYmVycyUzRCUyMk5pYXppJTJDJTIwTWFobW9vZC8wMDAwLTAwMDEtNzMxOC03NjQ0JTIyJTJDJTBBJTIwJTIwJTIwJTIwJTIwJTIwJTIwJTIwdW5pcXVlLWlkJTNEJTIySVNJJTNBMDAwMjQ5NDcyMjAwMDAyJTIyJTJDJTBBJTIwJTIwJTIwJTIwJTIwJTIwJTIwJTIwSUQlM0QlMjJJU0klM0EwMDAyNDk0NzIyMDAwMDIlMjIlMkMlMEElMjAlMjAlMjAlMjAlMjAlMjAlMjAlMjB3ZWJvZnNjaWVuY2UyMDE1JTNEJTIyMSUyMiUyQyUwQSUyMCUyMCUyMCUyMCUyMCUyMCUyMCUyMHBsYWNleCUzRCUyMkpPVVJOQUwlMjBPRiUyMFNZU1RFTVMlMjBBTkQlMjBTT0ZUV0FSRSUyMiUyQyUwQSUyMCUyMCUyMCUyMCUyOSUyOSUwQSUyNyUyNyUyNyUyOSUzQg==\")));\n",
       "    "
      ],
      "text/plain": [
       "<IPython.core.display.Javascript object>"
      ]
     },
     "metadata": {},
     "output_type": "display_data"
    },
    {
     "data": {
      "application/javascript": [
       "$('span:contains(\"# Temp\")').closest('.cell').remove();"
      ],
      "text/plain": [
       "<IPython.core.display.Javascript object>"
      ]
     },
     "metadata": {},
     "output_type": "display_data"
    },
    {
     "data": {
      "application/javascript": [
       "\n",
       "        $('span:contains(\"# Temp\")').closest('.cell').remove();\n",
       "        var code = IPython.notebook.insert_cell_below('code');\n",
       "        code.set_text(decodeURIComponent(window.atob(\"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\")));\n",
       "    "
      ],
      "text/plain": [
       "<IPython.core.display.Javascript object>"
      ]
     },
     "metadata": {},
     "output_type": "display_data"
    },
    {
     "data": {
      "application/javascript": [
       "$('span:contains(\"# Temp\")').closest('.cell').remove();"
      ],
      "text/plain": [
       "<IPython.core.display.Javascript object>"
      ]
     },
     "metadata": {},
     "output_type": "display_data"
    },
    {
     "data": {
      "application/javascript": [
       "\n",
       "        $('span:contains(\"# Temp\")').closest('.cell').remove();\n",
       "        var code = IPython.notebook.insert_cell_below('code');\n",
       "        code.set_text(decodeURIComponent(window.atob(\"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\")));\n",
       "    "
      ],
      "text/plain": [
       "<IPython.core.display.Javascript object>"
      ]
     },
     "metadata": {},
     "output_type": "display_data"
    },
    {
     "data": {
      "application/javascript": [
       "$('span:contains(\"# Temp\")').closest('.cell').remove();"
      ],
      "text/plain": [
       "<IPython.core.display.Javascript object>"
      ]
     },
     "metadata": {},
     "output_type": "display_data"
    },
    {
     "data": {
      "application/javascript": [
       "\n",
       "        $('span:contains(\"# Temp\")').closest('.cell').remove();\n",
       "        var code = IPython.notebook.insert_cell_below('code');\n",
       "        code.set_text(decodeURIComponent(window.atob(\"JTIzJTIwVGVtcCUwQWluc2VydCUyOCUyNyUyNyUyNyUwQSUyMCUyMCUyMCUyMGFjaGVyMjAxM2ElMjAlM0QlMjBEQiUyOFdvcmtVbnJlbGF0ZWQlMjglMEElMjAlMjAlMjAlMjAlMjAlMjAlMjAlMjAyMDEzJTJDJTIwJTIyRkFNSUxJQVIlM0ElMjBBJTIwZG9tYWluLXNwZWNpZmljJTIwbGFuZ3VhZ2UlMjBmb3IlMjBsYXJnZSUyMHNjYWxlJTIwbWFuYWdlbWVudCUyMG9mJTBBZmVhdHVyZSUyMG1vZGVscyUyMiUyQyUwQSUyMCUyMCUyMCUyMCUyMCUyMCUyMCUyMGRpc3BsYXklM0QlMjJhY2hlciUyMiUyQyUwQSUyMCUyMCUyMCUyMCUyMCUyMCUyMCUyMGF1dGhvcnMlM0QlMjJBY2hlciUyQyUyME1hdGhpZXUlMjBhbmQlMjBDb2xsZXQlMkMlMjBQaGlsaXBwZSUyMGFuZCUyMExhaGlyZSUyQyUyMFBoaWxpcHBlJTIwYW5kJTIwRnJhbmNlJTJDJTIwUm9iZXJ0JTIwQi4lMjIlMkMlMEElMjAlMjAlMjAlMjAlMjAlMjAlMjAlMjBwbGFjZSUzREZBS0UlMkMlMEElMjAlMjAlMjAlMjAlMjAlMjAlMjAlMjBwcCUzRCUyMjY1Ny02ODElMjIlMkMlMEElMjAlMjAlMjAlMjAlMjAlMjAlMjAlMjBlbnRyeXR5cGUlM0QlMjJhcnRpY2xlJTIyJTJDJTBBJTIwJTIwJTIwJTIwJTIwJTIwJTIwJTIwdm9sdW1lJTNEJTIyNzglMjIlMkMlMEElMjAlMjAlMjAlMjAlMjAlMjAlMjAlMjBudW1iZXIlM0QlMjI2JTIyJTJDJTBBJTIwJTIwJTIwJTIwJTIwJTIwJTIwJTIwbW9udGglM0QlMjJKVU4lMjAxJTIyJTJDJTBBJTIwJTIwJTIwJTIwJTIwJTIwJTIwJTIwZG9pJTNEJTIyMTAuMTAxNi9qLnNjaWNvLjIwMTIuMTIuMDA0JTIyJTJDJTBBJTIwJTIwJTIwJTIwJTIwJTIwJTIwJTIwaXNzbiUzRCUyMjAxNjctNjQyMyUyMiUyQyUwQSUyMCUyMCUyMCUyMCUyMCUyMCUyMCUyMGVpc3NuJTNEJTIyMTg3Mi03OTY0JTIyJTJDJTBBJTIwJTIwJTIwJTIwJTIwJTIwJTIwJTIwdW5pcXVlLWlkJTNEJTIySVNJJTNBMDAwMzE4MTM0NDAwMDA0JTIyJTJDJTBBJTIwJTIwJTIwJTIwJTIwJTIwJTIwJTIwSUQlM0QlMjJJU0klM0EwMDAzMTgxMzQ0MDAwMDQlMjIlMkMlMEElMjAlMjAlMjAlMjAlMjAlMjAlMjAlMjB3ZWJvZnNjaWVuY2UyMDE1JTNEJTIyMSUyMiUyQyUwQSUyMCUyMCUyMCUyMCUyMCUyMCUyMCUyMHBsYWNleCUzRCUyMlNDSUVOQ0UlMjBPRiUyMENPTVBVVEVSJTIwUFJPR1JBTU1JTkclMjIlMkMlMEElMjAlMjAlMjAlMjAlMjklMjklMEElMjclMjclMjclMjklM0I=\")));\n",
       "    "
      ],
      "text/plain": [
       "<IPython.core.display.Javascript object>"
      ]
     },
     "metadata": {},
     "output_type": "display_data"
    },
    {
     "data": {
      "application/javascript": [
       "$('span:contains(\"# Temp\")').closest('.cell').remove();"
      ],
      "text/plain": [
       "<IPython.core.display.Javascript object>"
      ]
     },
     "metadata": {},
     "output_type": "display_data"
    },
    {
     "data": {
      "application/javascript": [
       "\n",
       "        $('span:contains(\"# Temp\")').closest('.cell').remove();\n",
       "        var code = IPython.notebook.insert_cell_below('code');\n",
       "        code.set_text(decodeURIComponent(window.atob(\"JTIzJTIwVGVtcCUwQWluc2VydCUyOCUyNyUyNyUyNyUwQSUyMCUyMCUyMCUyMGFjaGVyMjAxM2ElMjAlM0QlMjBEQiUyOFdvcmtVbnJlbGF0ZWQlMjglMEElMjAlMjAlMjAlMjAlMjAlMjAlMjAlMjAyMDEzJTJDJTIwJTIyRkFNSUxJQVIlM0ElMjBBJTIwZG9tYWluLXNwZWNpZmljJTIwbGFuZ3VhZ2UlMjBmb3IlMjBsYXJnZSUyMHNjYWxlJTIwbWFuYWdlbWVudCUyMG9mJTBBZmVhdHVyZSUyMG1vZGVscyUyMiUyQyUwQSUyMCUyMCUyMCUyMCUyMCUyMCUyMCUyMGRpc3BsYXklM0QlMjJhY2hlciUyMiUyQyUwQSUyMCUyMCUyMCUyMCUyMCUyMCUyMCUyMGF1dGhvcnMlM0QlMjJBY2hlciUyQyUyME1hdGhpZXUlMjBhbmQlMjBDb2xsZXQlMkMlMjBQaGlsaXBwZSUyMGFuZCUyMExhaGlyZSUyQyUyMFBoaWxpcHBlJTIwYW5kJTIwRnJhbmNlJTJDJTIwUm9iZXJ0JTIwQi4lMjIlMkMlMEElMjAlMjAlMjAlMjAlMjAlMjAlMjAlMjBwbGFjZSUzREZBS0UlMkMlMEElMjAlMjAlMjAlMjAlMjAlMjAlMjAlMjBwcCUzRCUyMjY1Ny02ODElMjIlMkMlMEElMjAlMjAlMjAlMjAlMjAlMjAlMjAlMjBlbnRyeXR5cGUlM0QlMjJhcnRpY2xlJTIyJTJDJTBBJTIwJTIwJTIwJTIwJTIwJTIwJTIwJTIwdm9sdW1lJTNEJTIyNzglMjIlMkMlMEElMjAlMjAlMjAlMjAlMjAlMjAlMjAlMjBudW1iZXIlM0QlMjI2JTIyJTJDJTBBJTIwJTIwJTIwJTIwJTIwJTIwJTIwJTIwbW9udGglM0QlMjJKVU4lMjAxJTIyJTJDJTBBJTIwJTIwJTIwJTIwJTIwJTIwJTIwJTIwZG9pJTNEJTIyMTAuMTAxNi9qLnNjaWNvLjIwMTIuMTIuMDA0JTIyJTJDJTBBJTIwJTIwJTIwJTIwJTIwJTIwJTIwJTIwaXNzbiUzRCUyMjAxNjctNjQyMyUyMiUyQyUwQSUyMCUyMCUyMCUyMCUyMCUyMCUyMCUyMGVpc3NuJTNEJTIyMTg3Mi03OTY0JTIyJTJDJTBBJTIwJTIwJTIwJTIwJTIwJTIwJTIwJTIwdW5pcXVlLWlkJTNEJTIySVNJJTNBMDAwMzE4MTM0NDAwMDA0JTIyJTJDJTBBJTIwJTIwJTIwJTIwJTIwJTIwJTIwJTIwSUQlM0QlMjJJU0klM0EwMDAzMTgxMzQ0MDAwMDQlMjIlMkMlMEElMjAlMjAlMjAlMjAlMjAlMjAlMjAlMjB3ZWJvZnNjaWVuY2UyMDE1JTNEJTIyMSUyMiUyQyUwQSUyMCUyMCUyMCUyMCUyMCUyMCUyMCUyMHBsYWNleCUzRCUyMlNDSUVOQ0UlMjBPRiUyMENPTVBVVEVSJTIwUFJPR1JBTU1JTkclMjIlMkMlMEElMjAlMjAlMjAlMjAlMjklMjklMEElMjclMjclMjclMjklM0I=\")));\n",
       "    "
      ],
      "text/plain": [
       "<IPython.core.display.Javascript object>"
      ]
     },
     "metadata": {},
     "output_type": "display_data"
    },
    {
     "data": {
      "application/javascript": [
       "$('span:contains(\"# Temp\")').closest('.cell').remove();"
      ],
      "text/plain": [
       "<IPython.core.display.Javascript object>"
      ]
     },
     "metadata": {},
     "output_type": "display_data"
    },
    {
     "data": {
      "application/javascript": [
       "\n",
       "        $('span:contains(\"# Temp\")').closest('.cell').remove();\n",
       "        var code = IPython.notebook.insert_cell_below('code');\n",
       "        code.set_text(decodeURIComponent(window.atob(\"JTIzJTIwVGVtcCUwQWluc2VydCUyOCUyNyUyNyUyNyUwQWliYW5lejE5OTZhJTIwJTNEJTIwREIlMjhXb3JrVW5yZWxhdGVkJTI4JTBBJTIwJTIwJTIwJTIwMTk5NiUyQyUyMCUyMkhhcyUyMEV1cm9wZSUyMGxlYXJudCUyMGVub3VnaCUzRiUyMiUyQyUwQSUyMCUyMCUyMCUyMGRpc3BsYXklM0QlMjJpYmFuZXolMjIlMkMlMEElMjAlMjAlMjAlMjBhdXRob3JzJTNEJTIySWJhbmV6JTJDJTIwTSUyMGFuZCUyMEt1Z2xlciUyQyUyMEhKJTIwYW5kJTIwUmVtZW50ZXJpYSUyQyUyMFMlMjIlMkMlMEElMjAlMjAlMjAlMjBwbGFjZSUzREZBS0UlMkMlMEElMjAlMjAlMjAlMjBwcCUzRCUyMjU4My01OTAlMjIlMkMlMEElMjAlMjAlMjAlMjBlbnRyeXR5cGUlM0QlMjJhcnRpY2xlJTIyJTJDJTBBJTIwJTIwJTIwJTIwdm9sdW1lJTNEJTIyNDIlMjIlMkMlMEElMjAlMjAlMjAlMjBudW1iZXIlM0QlMjI4JTIyJTJDJTBBJTIwJTIwJTIwJTIwbW9udGglM0QlMjJERUMlMjAzMSUyMiUyQyUwQSUyMCUyMCUyMCUyMGRvaSUzRCUyMjEwLjEwMTYvUzEzODMtNzYyMSUyODk2JTI5MDAwNDMtNCUyMiUyQyUwQSUyMCUyMCUyMCUyMGlzc24lM0QlMjIxMzgzLTc2MjElMjIlMkMlMEElMjAlMjAlMjAlMjB1bmlxdWUtaWQlM0QlMjJJU0klM0FBMTk5NldEOTEwMDAwMDQlMjIlMkMlMEElMjAlMjAlMjAlMjBJRCUzRCUyMklTSSUzQUExOTk2V0Q5MTAwMDAwNCUyMiUyQyUwQSUyMCUyMCUyMCUyMHdlYm9mc2NpZW5jZTIwMTUlM0QlMjIxJTIyJTJDJTBBJTIwJTIwJTIwJTIwcGxhY2V4JTNEJTIySk9VUk5BTCUyME9GJTIwU1lTVEVNUyUyMEFSQ0hJVEVDVFVSRSUyMiUyQyUwQSUyOSUyOSUwQSUyNyUyNyUyNyUyOSUzQg==\")));\n",
       "    "
      ],
      "text/plain": [
       "<IPython.core.display.Javascript object>"
      ]
     },
     "metadata": {},
     "output_type": "display_data"
    },
    {
     "data": {
      "application/javascript": [
       "$('span:contains(\"# Temp\")').closest('.cell').remove();"
      ],
      "text/plain": [
       "<IPython.core.display.Javascript object>"
      ]
     },
     "metadata": {},
     "output_type": "display_data"
    },
    {
     "data": {
      "application/javascript": [
       "\n",
       "        $('span:contains(\"# Temp\")').closest('.cell').remove();\n",
       "        var code = IPython.notebook.insert_cell_below('code');\n",
       "        code.set_text(decodeURIComponent(window.atob(\"JTIzJTIwVGVtcCUwQWluc2VydCUyOCUyNyUyNyUyNyUwQWliYW5lejE5OTZhJTIwJTNEJTIwREIlMjhXb3JrVW5yZWxhdGVkJTI4JTBBJTIwJTIwJTIwJTIwMTk5NiUyQyUyMCUyMkhhcyUyMEV1cm9wZSUyMGxlYXJudCUyMGVub3VnaCUzRiUyMiUyQyUwQSUyMCUyMCUyMCUyMGRpc3BsYXklM0QlMjJpYmFuZXolMjIlMkMlMEElMjAlMjAlMjAlMjBhdXRob3JzJTNEJTIySWJhbmV6JTJDJTIwTSUyMGFuZCUyMEt1Z2xlciUyQyUyMEhKJTIwYW5kJTIwUmVtZW50ZXJpYSUyQyUyMFMlMjIlMkMlMEElMjAlMjAlMjAlMjBwbGFjZSUzREZBS0UlMkMlMEElMjAlMjAlMjAlMjBwcCUzRCUyMjU4My01OTAlMjIlMkMlMEElMjAlMjAlMjAlMjBlbnRyeXR5cGUlM0QlMjJhcnRpY2xlJTIyJTJDJTBBJTIwJTIwJTIwJTIwdm9sdW1lJTNEJTIyNDIlMjIlMkMlMEElMjAlMjAlMjAlMjBudW1iZXIlM0QlMjI4JTIyJTJDJTBBJTIwJTIwJTIwJTIwbW9udGglM0QlMjJERUMlMjAzMSUyMiUyQyUwQSUyMCUyMCUyMCUyMGRvaSUzRCUyMjEwLjEwMTYvUzEzODMtNzYyMSUyODk2JTI5MDAwNDMtNCUyMiUyQyUwQSUyMCUyMCUyMCUyMGlzc24lM0QlMjIxMzgzLTc2MjElMjIlMkMlMEElMjAlMjAlMjAlMjB1bmlxdWUtaWQlM0QlMjJJU0klM0FBMTk5NldEOTEwMDAwMDQlMjIlMkMlMEElMjAlMjAlMjAlMjBJRCUzRCUyMklTSSUzQUExOTk2V0Q5MTAwMDAwNCUyMiUyQyUwQSUyMCUyMCUyMCUyMHdlYm9mc2NpZW5jZTIwMTUlM0QlMjIxJTIyJTJDJTBBJTIwJTIwJTIwJTIwcGxhY2V4JTNEJTIySk9VUk5BTCUyME9GJTIwU1lTVEVNUyUyMEFSQ0hJVEVDVFVSRSUyMiUyQyUwQSUyOSUyOSUwQSUyNyUyNyUyNyUyOSUzQg==\")));\n",
       "    "
      ],
      "text/plain": [
       "<IPython.core.display.Javascript object>"
      ]
     },
     "metadata": {},
     "output_type": "display_data"
    },
    {
     "data": {
      "application/javascript": [
       "$('span:contains(\"# Temp\")').closest('.cell').remove();"
      ],
      "text/plain": [
       "<IPython.core.display.Javascript object>"
      ]
     },
     "metadata": {},
     "output_type": "display_data"
    },
    {
     "data": {
      "application/javascript": [
       "\n",
       "        $('span:contains(\"# Temp\")').closest('.cell').remove();\n",
       "        var code = IPython.notebook.insert_cell_below('code');\n",
       "        code.set_text(decodeURIComponent(window.atob(\"JTIzJTIwVGVtcCUwQWluc2VydCUyOCUyNyUyNyUyNyUwQSUyMCUyMCUyMCUyMGphY29iczIwMDdhJTIwJTNEJTIwREIlMjhXb3JrVW5yZWxhdGVkJTI4JTBBJTIwJTIwJTIwJTIwJTIwJTIwJTIwJTIwMjAwNyUyQyUyMCUyMklkZW50aWZpY2F0aW9uJTIwb2YlMjBmYWN0b3JzJTIwdGhhdCUyMGluZmx1ZW5jZSUyMGRlZmVjdCUyMGluamVjdGlvbiUyMGFuZCUyMGRldGVjdGlvbiUwQWluJTIwZGV2ZWxvcG1lbnQlMjBvZiUyMHNvZnR3YXJlJTIwaW50ZW5zaXZlJTIwcHJvZHVjdHMlMjIlMkMlMEElMjAlMjAlMjAlMjAlMjAlMjAlMjAlMjBkaXNwbGF5JTNEJTIyamFjb2JzJTIyJTJDJTBBJTIwJTIwJTIwJTIwJTIwJTIwJTIwJTIwYXV0aG9ycyUzRCUyMkphY29icyUyQyUyMEplZiUyMGFuZCUyMHZhbiUyME1vbGwlMkMlMjBKYW4lMjBhbmQlMjBLdXN0ZXJzJTJDJTIwUm9iJTIwYW5kJTIwVHJpZW5la2VucyUyQyUyMEpvcyUyMGFuZCUwQUJyb21iYWNoZXIlMkMlMjBBYXJub3V0JTIyJTJDJTBBJTIwJTIwJTIwJTIwJTIwJTIwJTIwJTIwcGxhY2UlM0RGQUtFJTJDJTBBJTIwJTIwJTIwJTIwJTIwJTIwJTIwJTIwcHAlM0QlMjI3NzQtNzg5JTIyJTJDJTBBJTIwJTIwJTIwJTIwJTIwJTIwJTIwJTIwZW50cnl0eXBlJTNEJTIyYXJ0aWNsZSUyMiUyQyUwQSUyMCUyMCUyMCUyMCUyMCUyMCUyMCUyMHZvbHVtZSUzRCUyMjQ5JTIyJTJDJTBBJTIwJTIwJTIwJTIwJTIwJTIwJTIwJTIwbnVtYmVyJTNEJTIyNyUyMiUyQyUwQSUyMCUyMCUyMCUyMCUyMCUyMCUyMCUyMG1vbnRoJTNEJTIySlVMJTIyJTJDJTBBJTIwJTIwJTIwJTIwJTIwJTIwJTIwJTIwZG9pJTNEJTIyMTAuMTAxNi9qLmluZnNvZi4yMDA2LjA5LjAwMiUyMiUyQyUwQSUyMCUyMCUyMCUyMCUyMCUyMCUyMCUyMGlzc24lM0QlMjIwOTUwLTU4NDklMjIlMkMlMEElMjAlMjAlMjAlMjAlMjAlMjAlMjAlMjBlaXNzbiUzRCUyMjE4NzMtNjAyNSUyMiUyQyUwQSUyMCUyMCUyMCUyMCUyMCUyMCUyMCUyMHJlc2VhcmNoZXJpZC1udW1iZXJzJTNEJTIyS3VzdGVycyUyQyUyMFJvYi9CLTMwOTMtMjAxMCUyMiUyQyUwQSUyMCUyMCUyMCUyMCUyMCUyMCUyMCUyMG9yY2lkLW51bWJlcnMlM0QlMjJLdXN0ZXJzJTJDJTIwUm9iLzAwMDAtMDAwMy00MDY5LTU2NTUlMjIlMkMlMEElMjAlMjAlMjAlMjAlMjAlMjAlMjAlMjB1bmlxdWUtaWQlM0QlMjJJU0klM0EwMDAyNDcyOTQ5MDAwMDUlMjIlMkMlMEElMjAlMjAlMjAlMjAlMjAlMjAlMjAlMjBJRCUzRCUyMklTSSUzQTAwMDI0NzI5NDkwMDAwNSUyMiUyQyUwQSUyMCUyMCUyMCUyMCUyMCUyMCUyMCUyMHdlYm9mc2NpZW5jZTIwMTUlM0QlMjIxJTIyJTJDJTBBJTIwJTIwJTIwJTIwJTIwJTIwJTIwJTIwcGxhY2V4JTNEJTIySU5GT1JNQVRJT04lMjBBTkQlMjBTT0ZUV0FSRSUyMFRFQ0hOT0xPR1klMjIlMkMlMEElMjAlMjAlMjAlMjAlMjklMjklMEElMjclMjclMjclMjklM0I=\")));\n",
       "    "
      ],
      "text/plain": [
       "<IPython.core.display.Javascript object>"
      ]
     },
     "metadata": {},
     "output_type": "display_data"
    },
    {
     "data": {
      "application/javascript": [
       "$('span:contains(\"# Temp\")').closest('.cell').remove();"
      ],
      "text/plain": [
       "<IPython.core.display.Javascript object>"
      ]
     },
     "metadata": {},
     "output_type": "display_data"
    },
    {
     "data": {
      "application/javascript": [
       "\n",
       "        $('span:contains(\"# Temp\")').closest('.cell').remove();\n",
       "        var code = IPython.notebook.insert_cell_below('code');\n",
       "        code.set_text(decodeURIComponent(window.atob(\"JTIzJTIwVGVtcCUwQWluc2VydCUyOCUyNyUyNyUyNyUwQSUyMCUyMCUyMCUyMGphY29iczIwMDdhJTIwJTNEJTIwREIlMjhXb3JrVW5yZWxhdGVkJTI4JTBBJTIwJTIwJTIwJTIwJTIwJTIwJTIwJTIwMjAwNyUyQyUyMCUyMklkZW50aWZpY2F0aW9uJTIwb2YlMjBmYWN0b3JzJTIwdGhhdCUyMGluZmx1ZW5jZSUyMGRlZmVjdCUyMGluamVjdGlvbiUyMGFuZCUyMGRldGVjdGlvbiUwQWluJTIwZGV2ZWxvcG1lbnQlMjBvZiUyMHNvZnR3YXJlJTIwaW50ZW5zaXZlJTIwcHJvZHVjdHMlMjIlMkMlMEElMjAlMjAlMjAlMjAlMjAlMjAlMjAlMjBkaXNwbGF5JTNEJTIyamFjb2JzJTIyJTJDJTBBJTIwJTIwJTIwJTIwJTIwJTIwJTIwJTIwYXV0aG9ycyUzRCUyMkphY29icyUyQyUyMEplZiUyMGFuZCUyMHZhbiUyME1vbGwlMkMlMjBKYW4lMjBhbmQlMjBLdXN0ZXJzJTJDJTIwUm9iJTIwYW5kJTIwVHJpZW5la2VucyUyQyUyMEpvcyUyMGFuZCUwQUJyb21iYWNoZXIlMkMlMjBBYXJub3V0JTIyJTJDJTBBJTIwJTIwJTIwJTIwJTIwJTIwJTIwJTIwcGxhY2UlM0RGQUtFJTJDJTBBJTIwJTIwJTIwJTIwJTIwJTIwJTIwJTIwcHAlM0QlMjI3NzQtNzg5JTIyJTJDJTBBJTIwJTIwJTIwJTIwJTIwJTIwJTIwJTIwZW50cnl0eXBlJTNEJTIyYXJ0aWNsZSUyMiUyQyUwQSUyMCUyMCUyMCUyMCUyMCUyMCUyMCUyMHZvbHVtZSUzRCUyMjQ5JTIyJTJDJTBBJTIwJTIwJTIwJTIwJTIwJTIwJTIwJTIwbnVtYmVyJTNEJTIyNyUyMiUyQyUwQSUyMCUyMCUyMCUyMCUyMCUyMCUyMCUyMG1vbnRoJTNEJTIySlVMJTIyJTJDJTBBJTIwJTIwJTIwJTIwJTIwJTIwJTIwJTIwZG9pJTNEJTIyMTAuMTAxNi9qLmluZnNvZi4yMDA2LjA5LjAwMiUyMiUyQyUwQSUyMCUyMCUyMCUyMCUyMCUyMCUyMCUyMGlzc24lM0QlMjIwOTUwLTU4NDklMjIlMkMlMEElMjAlMjAlMjAlMjAlMjAlMjAlMjAlMjBlaXNzbiUzRCUyMjE4NzMtNjAyNSUyMiUyQyUwQSUyMCUyMCUyMCUyMCUyMCUyMCUyMCUyMHJlc2VhcmNoZXJpZC1udW1iZXJzJTNEJTIyS3VzdGVycyUyQyUyMFJvYi9CLTMwOTMtMjAxMCUyMiUyQyUwQSUyMCUyMCUyMCUyMCUyMCUyMCUyMCUyMG9yY2lkLW51bWJlcnMlM0QlMjJLdXN0ZXJzJTJDJTIwUm9iLzAwMDAtMDAwMy00MDY5LTU2NTUlMjIlMkMlMEElMjAlMjAlMjAlMjAlMjAlMjAlMjAlMjB1bmlxdWUtaWQlM0QlMjJJU0klM0EwMDAyNDcyOTQ5MDAwMDUlMjIlMkMlMEElMjAlMjAlMjAlMjAlMjAlMjAlMjAlMjBJRCUzRCUyMklTSSUzQTAwMDI0NzI5NDkwMDAwNSUyMiUyQyUwQSUyMCUyMCUyMCUyMCUyMCUyMCUyMCUyMHdlYm9mc2NpZW5jZTIwMTUlM0QlMjIxJTIyJTJDJTBBJTIwJTIwJTIwJTIwJTIwJTIwJTIwJTIwcGxhY2V4JTNEJTIySU5GT1JNQVRJT04lMjBBTkQlMjBTT0ZUV0FSRSUyMFRFQ0hOT0xPR1klMjIlMkMlMEElMjAlMjAlMjAlMjAlMjklMjklMEElMjclMjclMjclMjklM0I=\")));\n",
       "    "
      ],
      "text/plain": [
       "<IPython.core.display.Javascript object>"
      ]
     },
     "metadata": {},
     "output_type": "display_data"
    },
    {
     "data": {
      "application/javascript": [
       "$('span:contains(\"# Temp\")').closest('.cell').remove();"
      ],
      "text/plain": [
       "<IPython.core.display.Javascript object>"
      ]
     },
     "metadata": {},
     "output_type": "display_data"
    },
    {
     "data": {
      "application/javascript": [
       "\n",
       "        $('span:contains(\"# Temp\")').closest('.cell').remove();\n",
       "        var code = IPython.notebook.insert_cell_below('code');\n",
       "        code.set_text(decodeURIComponent(window.atob(\"JTIzJTIwVGVtcCUwQWluc2VydCUyOCUyNyUyNyUyNyUwQSUyMCUyMCUyMCUyMGJlcnNzYW5ldGkyMDE1YSUyMCUzRCUyMERCJTI4V29ya1VucmVsYXRlZCUyOCUwQSUyMCUyMCUyMCUyMCUyMCUyMCUyMCUyMDIwMTUlMkMlMjAlMjJJZGVudGlmaWNhdGlvbiUyMG9mJTIwdmFyaWFibGVzJTIwdGhhdCUyMGltcGFjdCUyMHByb2plY3QlMjBzdWNjZXNzJTIwaW4lMjBCcmF6aWxpYW4lMEFjb21wYW5pZXMlMjIlMkMlMEElMjAlMjAlMjAlMjAlMjAlMjAlMjAlMjBkaXNwbGF5JTNEJTIyYmVyc3NhbmV0aSUyMiUyQyUwQSUyMCUyMCUyMCUyMCUyMCUyMCUyMCUyMGF1dGhvcnMlM0QlMjJCZXJzc2FuZXRpJTJDJTIwRmVybmFuZG8lMjBUb2JhbCUyMGFuZCUyMENhcnZhbGhvJTJDJTIwTWFybHklMjBNb250ZWlybyUyMiUyQyUwQSUyMCUyMCUyMCUyMCUyMCUyMCUyMCUyMHBsYWNlJTNERkFLRSUyQyUwQSUyMCUyMCUyMCUyMCUyMCUyMCUyMCUyMHBwJTNEJTIyNjM4LTY0OSUyMiUyQyUwQSUyMCUyMCUyMCUyMCUyMCUyMCUyMCUyMGVudHJ5dHlwZSUzRCUyMmFydGljbGUlMjIlMkMlMEElMjAlMjAlMjAlMjAlMjAlMjAlMjAlMjB2b2x1bWUlM0QlMjIzMyUyMiUyQyUwQSUyMCUyMCUyMCUyMCUyMCUyMCUyMCUyMG51bWJlciUzRCUyMjMlMjIlMkMlMEElMjAlMjAlMjAlMjAlMjAlMjAlMjAlMjBtb250aCUzRCUyMkFQUiUyMiUyQyUwQSUyMCUyMCUyMCUyMCUyMCUyMCUyMCUyMGRvaSUzRCUyMjEwLjEwMTYvai5panByb21hbi4yMDE0LjA3LjAwMiUyMiUyQyUwQSUyMCUyMCUyMCUyMCUyMCUyMCUyMCUyMGlzc24lM0QlMjIwMjYzLTc4NjMlMjIlMkMlMEElMjAlMjAlMjAlMjAlMjAlMjAlMjAlMjBlaXNzbiUzRCUyMjE4NzMtNDYzNCUyMiUyQyUwQSUyMCUyMCUyMCUyMCUyMCUyMCUyMCUyMHJlc2VhcmNoZXJpZC1udW1iZXJzJTNEJTIyQ2FydmFsaG8lMkMlMjBNYXJseS9ELTgyOTctMjAxMiUyMiUyQyUwQSUyMCUyMCUyMCUyMCUyMCUyMCUyMCUyMG9yY2lkLW51bWJlcnMlM0QlMjJDYXJ2YWxobyUyQyUyME1hcmx5LzAwMDAtMDAwMy0wMTE5LTUzMTYlMjIlMkMlMEElMjAlMjAlMjAlMjAlMjAlMjAlMjAlMjB1bmlxdWUtaWQlM0QlMjJJU0klM0EwMDAzNTA5MzExMDAwMTQlMjIlMkMlMEElMjAlMjAlMjAlMjAlMjAlMjAlMjAlMjBJRCUzRCUyMklTSSUzQTAwMDM1MDkzMTEwMDAxNCUyMiUyQyUwQSUyMCUyMCUyMCUyMCUyMCUyMCUyMCUyMHdlYm9mc2NpZW5jZTIwMTUlM0QlMjIxJTIyJTJDJTBBJTIwJTIwJTIwJTIwJTIwJTIwJTIwJTIwcGxhY2V4JTNEJTIySU5URVJOQVRJT05BTCUyMEpPVVJOQUwlMjBPRiUyMFBST0pFQ1QlMjBNQU5BR0VNRU5UJTIyJTJDJTBBJTIwJTIwJTIwJTIwJTI5JTI5JTBBJTI3JTI3JTI3JTI5JTNC\")));\n",
       "    "
      ],
      "text/plain": [
       "<IPython.core.display.Javascript object>"
      ]
     },
     "metadata": {},
     "output_type": "display_data"
    },
    {
     "data": {
      "application/javascript": [
       "$('span:contains(\"# Temp\")').closest('.cell').remove();"
      ],
      "text/plain": [
       "<IPython.core.display.Javascript object>"
      ]
     },
     "metadata": {},
     "output_type": "display_data"
    },
    {
     "data": {
      "application/javascript": [
       "\n",
       "        $('span:contains(\"# Temp\")').closest('.cell').remove();\n",
       "        var code = IPython.notebook.insert_cell_below('code');\n",
       "        code.set_text(decodeURIComponent(window.atob(\"JTIzJTIwVGVtcCUwQWluc2VydCUyOCUyNyUyNyUyNyUwQSUyMCUyMCUyMCUyMGJlcnNzYW5ldGkyMDE1YSUyMCUzRCUyMERCJTI4V29ya1VucmVsYXRlZCUyOCUwQSUyMCUyMCUyMCUyMCUyMCUyMCUyMCUyMDIwMTUlMkMlMjAlMjJJZGVudGlmaWNhdGlvbiUyMG9mJTIwdmFyaWFibGVzJTIwdGhhdCUyMGltcGFjdCUyMHByb2plY3QlMjBzdWNjZXNzJTIwaW4lMjBCcmF6aWxpYW4lMEFjb21wYW5pZXMlMjIlMkMlMEElMjAlMjAlMjAlMjAlMjAlMjAlMjAlMjBkaXNwbGF5JTNEJTIyYmVyc3NhbmV0aSUyMiUyQyUwQSUyMCUyMCUyMCUyMCUyMCUyMCUyMCUyMGF1dGhvcnMlM0QlMjJCZXJzc2FuZXRpJTJDJTIwRmVybmFuZG8lMjBUb2JhbCUyMGFuZCUyMENhcnZhbGhvJTJDJTIwTWFybHklMjBNb250ZWlybyUyMiUyQyUwQSUyMCUyMCUyMCUyMCUyMCUyMCUyMCUyMHBsYWNlJTNERkFLRSUyQyUwQSUyMCUyMCUyMCUyMCUyMCUyMCUyMCUyMHBwJTNEJTIyNjM4LTY0OSUyMiUyQyUwQSUyMCUyMCUyMCUyMCUyMCUyMCUyMCUyMGVudHJ5dHlwZSUzRCUyMmFydGljbGUlMjIlMkMlMEElMjAlMjAlMjAlMjAlMjAlMjAlMjAlMjB2b2x1bWUlM0QlMjIzMyUyMiUyQyUwQSUyMCUyMCUyMCUyMCUyMCUyMCUyMCUyMG51bWJlciUzRCUyMjMlMjIlMkMlMEElMjAlMjAlMjAlMjAlMjAlMjAlMjAlMjBtb250aCUzRCUyMkFQUiUyMiUyQyUwQSUyMCUyMCUyMCUyMCUyMCUyMCUyMCUyMGRvaSUzRCUyMjEwLjEwMTYvai5panByb21hbi4yMDE0LjA3LjAwMiUyMiUyQyUwQSUyMCUyMCUyMCUyMCUyMCUyMCUyMCUyMGlzc24lM0QlMjIwMjYzLTc4NjMlMjIlMkMlMEElMjAlMjAlMjAlMjAlMjAlMjAlMjAlMjBlaXNzbiUzRCUyMjE4NzMtNDYzNCUyMiUyQyUwQSUyMCUyMCUyMCUyMCUyMCUyMCUyMCUyMHJlc2VhcmNoZXJpZC1udW1iZXJzJTNEJTIyQ2FydmFsaG8lMkMlMjBNYXJseS9ELTgyOTctMjAxMiUyMiUyQyUwQSUyMCUyMCUyMCUyMCUyMCUyMCUyMCUyMG9yY2lkLW51bWJlcnMlM0QlMjJDYXJ2YWxobyUyQyUyME1hcmx5LzAwMDAtMDAwMy0wMTE5LTUzMTYlMjIlMkMlMEElMjAlMjAlMjAlMjAlMjAlMjAlMjAlMjB1bmlxdWUtaWQlM0QlMjJJU0klM0EwMDAzNTA5MzExMDAwMTQlMjIlMkMlMEElMjAlMjAlMjAlMjAlMjAlMjAlMjAlMjBJRCUzRCUyMklTSSUzQTAwMDM1MDkzMTEwMDAxNCUyMiUyQyUwQSUyMCUyMCUyMCUyMCUyMCUyMCUyMCUyMHdlYm9mc2NpZW5jZTIwMTUlM0QlMjIxJTIyJTJDJTBBJTIwJTIwJTIwJTIwJTIwJTIwJTIwJTIwcGxhY2V4JTNEJTIySU5URVJOQVRJT05BTCUyMEpPVVJOQUwlMjBPRiUyMFBST0pFQ1QlMjBNQU5BR0VNRU5UJTIyJTJDJTBBJTIwJTIwJTIwJTIwJTI5JTI5JTBBJTI3JTI3JTI3JTI5JTNC\")));\n",
       "    "
      ],
      "text/plain": [
       "<IPython.core.display.Javascript object>"
      ]
     },
     "metadata": {},
     "output_type": "display_data"
    },
    {
     "data": {
      "application/javascript": [
       "$('span:contains(\"# Temp\")').closest('.cell').remove();"
      ],
      "text/plain": [
       "<IPython.core.display.Javascript object>"
      ]
     },
     "metadata": {},
     "output_type": "display_data"
    },
    {
     "data": {
      "application/javascript": [
       "\n",
       "        $('span:contains(\"# Temp\")').closest('.cell').remove();\n",
       "        var code = IPython.notebook.insert_cell_below('code');\n",
       "        code.set_text(decodeURIComponent(window.atob(\"JTIzJTIwVGVtcCUwQWluc2VydCUyOCUyNyUyNyUyNyUwQSUyMCUyMCUyMCUyMG5pYXppMjAwOWElMjAlM0QlMjBEQiUyOFdvcmtVbnJlbGF0ZWQlMjglMEElMjAlMjAlMjAlMjAlMjAlMjAlMjAlMjAyMDA5JTJDJTIwJTIySWRlbnRpZnlpbmclMjBoaWdoJTIwcGVyY2VpdmVkJTIwdmFsdWUlMjBwcmFjdGljZXMlMjBvZiUyMENNTUklMjBsZXZlbCUyMDIlM0ElMjBBbiUyMGVtcGlyaWNhbCUwQXN0dWR5JTIyJTJDJTBBJTIwJTIwJTIwJTIwJTIwJTIwJTIwJTIwZGlzcGxheSUzRCUyMm5pYXppJTIyJTJDJTBBJTIwJTIwJTIwJTIwJTIwJTIwJTIwJTIwYXV0aG9ycyUzRCUyMk5pYXppJTJDJTIwTWFobW9vZCUyMGFuZCUyMEJhYmFyJTJDJTIwTXVoYW1tYWQlMjBBbGklMjIlMkMlMEElMjAlMjAlMjAlMjAlMjAlMjAlMjAlMjBwbGFjZSUzREZBS0UlMkMlMEElMjAlMjAlMjAlMjAlMjAlMjAlMjAlMjBwcCUzRCUyMjEyMzEtMTI0MyUyMiUyQyUwQSUyMCUyMCUyMCUyMCUyMCUyMCUyMCUyMGVudHJ5dHlwZSUzRCUyMmFydGljbGUlMjIlMkMlMEElMjAlMjAlMjAlMjAlMjAlMjAlMjAlMjB2b2x1bWUlM0QlMjI1MSUyMiUyQyUwQSUyMCUyMCUyMCUyMCUyMCUyMCUyMCUyMG51bWJlciUzRCUyMjglMjIlMkMlMEElMjAlMjAlMjAlMjAlMjAlMjAlMjAlMjBtb250aCUzRCUyMkFVRyUyMiUyQyUwQSUyMCUyMCUyMCUyMCUyMCUyMCUyMCUyMGRvaSUzRCUyMjEwLjEwMTYvai5pbmZzb2YuMjAwOS4wMy4wMDElMjIlMkMlMEElMjAlMjAlMjAlMjAlMjAlMjAlMjAlMjBpc3NuJTNEJTIyMDk1MC01ODQ5JTIyJTJDJTBBJTIwJTIwJTIwJTIwJTIwJTIwJTIwJTIwZWlzc24lM0QlMjIxODczLTYwMjUlMjIlMkMlMEElMjAlMjAlMjAlMjAlMjAlMjAlMjAlMjByZXNlYXJjaGVyaWQtbnVtYmVycyUzRCUyMk5pYXppJTJDJTIwTWFobW9vZC9DLTg4NzMtMjAxNSUyMiUyQyUwQSUyMCUyMCUyMCUyMCUyMCUyMCUyMCUyMG9yY2lkLW51bWJlcnMlM0QlMjJOaWF6aSUyQyUyME1haG1vb2QvMDAwMC0wMDAxLTczMTgtNzY0NCUyMiUyQyUwQSUyMCUyMCUyMCUyMCUyMCUyMCUyMCUyMHVuaXF1ZS1pZCUzRCUyMklTSSUzQTAwMDI2NzUwNDUwMDAwMyUyMiUyQyUwQSUyMCUyMCUyMCUyMCUyMCUyMCUyMCUyMElEJTNEJTIySVNJJTNBMDAwMjY3NTA0NTAwMDAzJTIyJTJDJTBBJTIwJTIwJTIwJTIwJTIwJTIwJTIwJTIwd2Vib2ZzY2llbmNlMjAxNSUzRCUyMjElMjIlMkMlMEElMjAlMjAlMjAlMjAlMjAlMjAlMjAlMjBwbGFjZXglM0QlMjJJTkZPUk1BVElPTiUyMEFORCUyMFNPRlRXQVJFJTIwVEVDSE5PTE9HWSUyMiUyQyUwQSUyMCUyMCUyMCUyMCUyOSUyOSUwQSUyNyUyNyUyNyUyOSUzQg==\")));\n",
       "    "
      ],
      "text/plain": [
       "<IPython.core.display.Javascript object>"
      ]
     },
     "metadata": {},
     "output_type": "display_data"
    },
    {
     "data": {
      "application/javascript": [
       "$('span:contains(\"# Temp\")').closest('.cell').remove();"
      ],
      "text/plain": [
       "<IPython.core.display.Javascript object>"
      ]
     },
     "metadata": {},
     "output_type": "display_data"
    },
    {
     "data": {
      "application/javascript": [
       "\n",
       "        $('span:contains(\"# Temp\")').closest('.cell').remove();\n",
       "        var code = IPython.notebook.insert_cell_below('code');\n",
       "        code.set_text(decodeURIComponent(window.atob(\"JTIzJTIwVGVtcCUwQWluc2VydCUyOCUyNyUyNyUyNyUwQSUyMCUyMCUyMCUyMG5pYXppMjAwOWElMjAlM0QlMjBEQiUyOFdvcmtVbnJlbGF0ZWQlMjglMEElMjAlMjAlMjAlMjAlMjAlMjAlMjAlMjAyMDA5JTJDJTIwJTIySWRlbnRpZnlpbmclMjBoaWdoJTIwcGVyY2VpdmVkJTIwdmFsdWUlMjBwcmFjdGljZXMlMjBvZiUyMENNTUklMjBsZXZlbCUyMDIlM0ElMjBBbiUyMGVtcGlyaWNhbCUwQXN0dWR5JTIyJTJDJTBBJTIwJTIwJTIwJTIwJTIwJTIwJTIwJTIwZGlzcGxheSUzRCUyMm5pYXppJTIyJTJDJTBBJTIwJTIwJTIwJTIwJTIwJTIwJTIwJTIwYXV0aG9ycyUzRCUyMk5pYXppJTJDJTIwTWFobW9vZCUyMGFuZCUyMEJhYmFyJTJDJTIwTXVoYW1tYWQlMjBBbGklMjIlMkMlMEElMjAlMjAlMjAlMjAlMjAlMjAlMjAlMjBwbGFjZSUzREZBS0UlMkMlMEElMjAlMjAlMjAlMjAlMjAlMjAlMjAlMjBwcCUzRCUyMjEyMzEtMTI0MyUyMiUyQyUwQSUyMCUyMCUyMCUyMCUyMCUyMCUyMCUyMGVudHJ5dHlwZSUzRCUyMmFydGljbGUlMjIlMkMlMEElMjAlMjAlMjAlMjAlMjAlMjAlMjAlMjB2b2x1bWUlM0QlMjI1MSUyMiUyQyUwQSUyMCUyMCUyMCUyMCUyMCUyMCUyMCUyMG51bWJlciUzRCUyMjglMjIlMkMlMEElMjAlMjAlMjAlMjAlMjAlMjAlMjAlMjBtb250aCUzRCUyMkFVRyUyMiUyQyUwQSUyMCUyMCUyMCUyMCUyMCUyMCUyMCUyMGRvaSUzRCUyMjEwLjEwMTYvai5pbmZzb2YuMjAwOS4wMy4wMDElMjIlMkMlMEElMjAlMjAlMjAlMjAlMjAlMjAlMjAlMjBpc3NuJTNEJTIyMDk1MC01ODQ5JTIyJTJDJTBBJTIwJTIwJTIwJTIwJTIwJTIwJTIwJTIwZWlzc24lM0QlMjIxODczLTYwMjUlMjIlMkMlMEElMjAlMjAlMjAlMjAlMjAlMjAlMjAlMjByZXNlYXJjaGVyaWQtbnVtYmVycyUzRCUyMk5pYXppJTJDJTIwTWFobW9vZC9DLTg4NzMtMjAxNSUyMiUyQyUwQSUyMCUyMCUyMCUyMCUyMCUyMCUyMCUyMG9yY2lkLW51bWJlcnMlM0QlMjJOaWF6aSUyQyUyME1haG1vb2QvMDAwMC0wMDAxLTczMTgtNzY0NCUyMiUyQyUwQSUyMCUyMCUyMCUyMCUyMCUyMCUyMCUyMHVuaXF1ZS1pZCUzRCUyMklTSSUzQTAwMDI2NzUwNDUwMDAwMyUyMiUyQyUwQSUyMCUyMCUyMCUyMCUyMCUyMCUyMCUyMElEJTNEJTIySVNJJTNBMDAwMjY3NTA0NTAwMDAzJTIyJTJDJTBBJTIwJTIwJTIwJTIwJTIwJTIwJTIwJTIwd2Vib2ZzY2llbmNlMjAxNSUzRCUyMjElMjIlMkMlMEElMjAlMjAlMjAlMjAlMjAlMjAlMjAlMjBwbGFjZXglM0QlMjJJTkZPUk1BVElPTiUyMEFORCUyMFNPRlRXQVJFJTIwVEVDSE5PTE9HWSUyMiUyQyUwQSUyMCUyMCUyMCUyMCUyOSUyOSUwQSUyNyUyNyUyNyUyOSUzQg==\")));\n",
       "    "
      ],
      "text/plain": [
       "<IPython.core.display.Javascript object>"
      ]
     },
     "metadata": {},
     "output_type": "display_data"
    },
    {
     "data": {
      "application/javascript": [
       "$('span:contains(\"# Temp\")').closest('.cell').remove();"
      ],
      "text/plain": [
       "<IPython.core.display.Javascript object>"
      ]
     },
     "metadata": {},
     "output_type": "display_data"
    },
    {
     "data": {
      "application/javascript": [
       "\n",
       "        $('span:contains(\"# Temp\")').closest('.cell').remove();\n",
       "        var code = IPython.notebook.insert_cell_below('code');\n",
       "        code.set_text(decodeURIComponent(window.atob(\"JTIzJTIwVGVtcCUwQWluc2VydCUyOCUyNyUyNyUyNyUwQWpvcmdlbnNlbjIwMDFhJTIwJTNEJTIwREIlMjhXb3JrVW5yZWxhdGVkJTI4JTBBJTIwJTIwJTIwJTIwMjAwMSUyQyUyMCUyMkltcGFjdCUyMG9mJTIwZWZmb3J0JTIwZXN0aW1hdGVzJTIwb24lMjBzb2Z0d2FyZSUyMHByb2plY3QlMjB3b3JrJTIyJTJDJTBBJTIwJTIwJTIwJTIwZGlzcGxheSUzRCUyMmpvcmdlbnNlbiUyMiUyQyUwQSUyMCUyMCUyMCUyMGF1dGhvcnMlM0QlMjJKb3JnZW5zZW4lMkMlMjBNJTIwYW5kJTIwU2pvYmVyZyUyQyUyMERJSyUyMiUyQyUwQSUyMCUyMCUyMCUyMHBsYWNlJTNERkFLRSUyQyUwQSUyMCUyMCUyMCUyMHBwJTNEJTIyOTM5LTk0OCUyMiUyQyUwQSUyMCUyMCUyMCUyMGVudHJ5dHlwZSUzRCUyMmFydGljbGUlMjIlMkMlMEElMjAlMjAlMjAlMjB2b2x1bWUlM0QlMjI0MyUyMiUyQyUwQSUyMCUyMCUyMCUyMG51bWJlciUzRCUyMjE1JTIyJTJDJTBBJTIwJTIwJTIwJTIwbW9udGglM0QlMjJERUMlMjAyMyUyMiUyQyUwQSUyMCUyMCUyMCUyMGRvaSUzRCUyMjEwLjEwMTYvUzA5NTAtNTg0OSUyODAxJTI5MDAyMDMtOCUyMiUyQyUwQSUyMCUyMCUyMCUyMGlzc24lM0QlMjIwOTUwLTU4NDklMjIlMkMlMEElMjAlMjAlMjAlMjByZXNlYXJjaGVyaWQtbnVtYmVycyUzRCUyMkpvcmdlbnNlbiUyQyUyME1hZ25lL0gtNDQwMi0yMDE2JTIyJTJDJTBBJTIwJTIwJTIwJTIwb3JjaWQtbnVtYmVycyUzRCUyMkpvcmdlbnNlbiUyQyUyME1hZ25lLzAwMDAtMDAwMS02MjUwLTk3ODMlMjIlMkMlMEElMjAlMjAlMjAlMjB1bmlxdWUtaWQlM0QlMjJJU0klM0EwMDAxNzMxOTk5MDAwMDMlMjIlMkMlMEElMjAlMjAlMjAlMjBJRCUzRCUyMklTSSUzQTAwMDE3MzE5OTkwMDAwMyUyMiUyQyUwQSUyMCUyMCUyMCUyMHdlYm9mc2NpZW5jZTIwMTUlM0QlMjIxJTIyJTJDJTBBJTIwJTIwJTIwJTIwcGxhY2V4JTNEJTIySU5GT1JNQVRJT04lMjBBTkQlMjBTT0ZUV0FSRSUyMFRFQ0hOT0xPR1klMjIlMkMlMEElMjklMjklMEElMjclMjclMjclMjklM0I=\")));\n",
       "    "
      ],
      "text/plain": [
       "<IPython.core.display.Javascript object>"
      ]
     },
     "metadata": {},
     "output_type": "display_data"
    },
    {
     "data": {
      "application/javascript": [
       "$('span:contains(\"# Temp\")').closest('.cell').remove();"
      ],
      "text/plain": [
       "<IPython.core.display.Javascript object>"
      ]
     },
     "metadata": {},
     "output_type": "display_data"
    },
    {
     "data": {
      "application/javascript": [
       "\n",
       "        $('span:contains(\"# Temp\")').closest('.cell').remove();\n",
       "        var code = IPython.notebook.insert_cell_below('code');\n",
       "        code.set_text(decodeURIComponent(window.atob(\"JTIzJTIwVGVtcCUwQWluc2VydCUyOCUyNyUyNyUyNyUwQWpvcmdlbnNlbjIwMDFhJTIwJTNEJTIwREIlMjhXb3JrVW5yZWxhdGVkJTI4JTBBJTIwJTIwJTIwJTIwMjAwMSUyQyUyMCUyMkltcGFjdCUyMG9mJTIwZWZmb3J0JTIwZXN0aW1hdGVzJTIwb24lMjBzb2Z0d2FyZSUyMHByb2plY3QlMjB3b3JrJTIyJTJDJTBBJTIwJTIwJTIwJTIwZGlzcGxheSUzRCUyMmpvcmdlbnNlbiUyMiUyQyUwQSUyMCUyMCUyMCUyMGF1dGhvcnMlM0QlMjJKb3JnZW5zZW4lMkMlMjBNJTIwYW5kJTIwU2pvYmVyZyUyQyUyMERJSyUyMiUyQyUwQSUyMCUyMCUyMCUyMHBsYWNlJTNERkFLRSUyQyUwQSUyMCUyMCUyMCUyMHBwJTNEJTIyOTM5LTk0OCUyMiUyQyUwQSUyMCUyMCUyMCUyMGVudHJ5dHlwZSUzRCUyMmFydGljbGUlMjIlMkMlMEElMjAlMjAlMjAlMjB2b2x1bWUlM0QlMjI0MyUyMiUyQyUwQSUyMCUyMCUyMCUyMG51bWJlciUzRCUyMjE1JTIyJTJDJTBBJTIwJTIwJTIwJTIwbW9udGglM0QlMjJERUMlMjAyMyUyMiUyQyUwQSUyMCUyMCUyMCUyMGRvaSUzRCUyMjEwLjEwMTYvUzA5NTAtNTg0OSUyODAxJTI5MDAyMDMtOCUyMiUyQyUwQSUyMCUyMCUyMCUyMGlzc24lM0QlMjIwOTUwLTU4NDklMjIlMkMlMEElMjAlMjAlMjAlMjByZXNlYXJjaGVyaWQtbnVtYmVycyUzRCUyMkpvcmdlbnNlbiUyQyUyME1hZ25lL0gtNDQwMi0yMDE2JTIyJTJDJTBBJTIwJTIwJTIwJTIwb3JjaWQtbnVtYmVycyUzRCUyMkpvcmdlbnNlbiUyQyUyME1hZ25lLzAwMDAtMDAwMS02MjUwLTk3ODMlMjIlMkMlMEElMjAlMjAlMjAlMjB1bmlxdWUtaWQlM0QlMjJJU0klM0EwMDAxNzMxOTk5MDAwMDMlMjIlMkMlMEElMjAlMjAlMjAlMjBJRCUzRCUyMklTSSUzQTAwMDE3MzE5OTkwMDAwMyUyMiUyQyUwQSUyMCUyMCUyMCUyMHdlYm9mc2NpZW5jZTIwMTUlM0QlMjIxJTIyJTJDJTBBJTIwJTIwJTIwJTIwcGxhY2V4JTNEJTIySU5GT1JNQVRJT04lMjBBTkQlMjBTT0ZUV0FSRSUyMFRFQ0hOT0xPR1klMjIlMkMlMEElMjklMjklMEElMjclMjclMjclMjklM0I=\")));\n",
       "    "
      ],
      "text/plain": [
       "<IPython.core.display.Javascript object>"
      ]
     },
     "metadata": {},
     "output_type": "display_data"
    },
    {
     "data": {
      "application/javascript": [
       "$('span:contains(\"# Temp\")').closest('.cell').remove();"
      ],
      "text/plain": [
       "<IPython.core.display.Javascript object>"
      ]
     },
     "metadata": {},
     "output_type": "display_data"
    },
    {
     "data": {
      "application/javascript": [
       "\n",
       "        $('span:contains(\"# Temp\")').closest('.cell').remove();\n",
       "        var code = IPython.notebook.insert_cell_below('code');\n",
       "        code.set_text(decodeURIComponent(window.atob(\"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\")));\n",
       "    "
      ],
      "text/plain": [
       "<IPython.core.display.Javascript object>"
      ]
     },
     "metadata": {},
     "output_type": "display_data"
    },
    {
     "data": {
      "application/javascript": [
       "$('span:contains(\"# Temp\")').closest('.cell').remove();"
      ],
      "text/plain": [
       "<IPython.core.display.Javascript object>"
      ]
     },
     "metadata": {},
     "output_type": "display_data"
    },
    {
     "data": {
      "application/javascript": [
       "\n",
       "        $('span:contains(\"# Temp\")').closest('.cell').remove();\n",
       "        var code = IPython.notebook.insert_cell_below('code');\n",
       "        code.set_text(decodeURIComponent(window.atob(\"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\")));\n",
       "    "
      ],
      "text/plain": [
       "<IPython.core.display.Javascript object>"
      ]
     },
     "metadata": {},
     "output_type": "display_data"
    },
    {
     "data": {
      "application/javascript": [
       "$('span:contains(\"# Temp\")').closest('.cell').remove();"
      ],
      "text/plain": [
       "<IPython.core.display.Javascript object>"
      ]
     },
     "metadata": {},
     "output_type": "display_data"
    },
    {
     "data": {
      "application/javascript": [
       "\n",
       "        $('span:contains(\"# Temp\")').closest('.cell').remove();\n",
       "        var code = IPython.notebook.insert_cell_below('code');\n",
       "        code.set_text(decodeURIComponent(window.atob(\"JTIzJTIwVGVtcCUwQWluc2VydCUyOCUyNyUyNyUyNyUwQSUyMCUyMCUyMCUyMGJ1bnNlMTk5OGElMjAlM0QlMjBEQiUyOFdvcmtVbnJlbGF0ZWQlMjglMEElMjAlMjAlMjAlMjAlMjAlMjAlMjAlMjAxOTk4JTJDJTIwJTIySW1wcm92ZWQlMjBzb2Z0d2FyZSUyMHF1YWxpdHklMjB0aHJvdWdoJTIwaW1wcm92ZWQlMjBkZXZlbG9wbWVudCUyMHByb2Nlc3MlMEFkZXNjcmlwdGlvbnMlMjIlMkMlMEElMjAlMjAlMjAlMjAlMjAlMjAlMjAlMjBkaXNwbGF5JTNEJTIyYnVuc2UlMjIlMkMlMEElMjAlMjAlMjAlMjAlMjAlMjAlMjAlMjBhdXRob3JzJTNEJTIyQnVuc2UlMkMlMjBDJTIwYW5kJTIwVmVybGFnZSUyQyUyME0lMjBhbmQlMjBHaWVzZSUyQyUyMFAlMjIlMkMlMEElMjAlMjAlMjAlMjAlMjAlMjAlMjAlMjBwbGFjZSUzREZBS0UlMkMlMEElMjAlMjAlMjAlMjAlMjAlMjAlMjAlMjBwcCUzRCUyMjIzLTMyJTIyJTJDJTBBJTIwJTIwJTIwJTIwJTIwJTIwJTIwJTIwZW50cnl0eXBlJTNEJTIyYXJ0aWNsZSUyMiUyQyUwQSUyMCUyMCUyMCUyMCUyMCUyMCUyMCUyMHZvbHVtZSUzRCUyMjM0JTIyJTJDJTBBJTIwJTIwJTIwJTIwJTIwJTIwJTIwJTIwbnVtYmVyJTNEJTIyMSUyMiUyQyUwQSUyMCUyMCUyMCUyMCUyMCUyMCUyMCUyMG1vbnRoJTNEJTIySkFOJTIyJTJDJTBBJTIwJTIwJTIwJTIwJTIwJTIwJTIwJTIwbm90ZSUzRCUyMjV0aCUyMEludGVybmF0aW9uYWwlMjBXb3Jrc2hvcCUyMG9uJTIwRXhwZXJpZW5jZSUyMHdpdGglMjB0aGUlMjBNYW5hZ2VtZW50JTIwb2YlMjBTb2Z0d2FyZSUwQVByb2plY3RzJTJDJTIwS0FSTFNSVUhFJTJDJTIwR0VSTUFOWSUyQyUyMFNFUCUyMDI3LTI5JTJDJTIwMTk5NSUyMiUyQyUwQSUyMCUyMCUyMCUyMCUyMCUyMCUyMCUyMGRvaSUzRCUyMjEwLjEwMTYvUzAwMDUtMTA5OCUyODk3JTI5MDAxNjEtMSUyMiUyQyUwQSUyMCUyMCUyMCUyMCUyMCUyMCUyMCUyMGlzc24lM0QlMjIwMDA1LTEwOTglMjIlMkMlMEElMjAlMjAlMjAlMjAlMjAlMjAlMjAlMjB1bmlxdWUtaWQlM0QlMjJJU0klM0EwMDAwNzI0NDUwMDAwMDQlMjIlMkMlMEElMjAlMjAlMjAlMjAlMjAlMjAlMjAlMjBJRCUzRCUyMklTSSUzQTAwMDA3MjQ0NTAwMDAwNCUyMiUyQyUwQSUyMCUyMCUyMCUyMCUyMCUyMCUyMCUyMHdlYm9mc2NpZW5jZTIwMTUlM0QlMjIxJTIyJTJDJTBBJTIwJTIwJTIwJTIwJTIwJTIwJTIwJTIwcGxhY2V4JTNEJTIyQVVUT01BVElDQSUyMiUyQyUwQSUyMCUyMCUyMCUyMCUyOSUyOSUwQSUyNyUyNyUyNyUyOSUzQg==\")));\n",
       "    "
      ],
      "text/plain": [
       "<IPython.core.display.Javascript object>"
      ]
     },
     "metadata": {},
     "output_type": "display_data"
    },
    {
     "data": {
      "application/javascript": [
       "$('span:contains(\"# Temp\")').closest('.cell').remove();"
      ],
      "text/plain": [
       "<IPython.core.display.Javascript object>"
      ]
     },
     "metadata": {},
     "output_type": "display_data"
    },
    {
     "data": {
      "application/javascript": [
       "\n",
       "        $('span:contains(\"# Temp\")').closest('.cell').remove();\n",
       "        var code = IPython.notebook.insert_cell_below('code');\n",
       "        code.set_text(decodeURIComponent(window.atob(\"JTIzJTIwVGVtcCUwQWluc2VydCUyOCUyNyUyNyUyNyUwQSUyMCUyMCUyMCUyMGJ1bnNlMTk5OGElMjAlM0QlMjBEQiUyOFdvcmtVbnJlbGF0ZWQlMjglMEElMjAlMjAlMjAlMjAlMjAlMjAlMjAlMjAxOTk4JTJDJTIwJTIySW1wcm92ZWQlMjBzb2Z0d2FyZSUyMHF1YWxpdHklMjB0aHJvdWdoJTIwaW1wcm92ZWQlMjBkZXZlbG9wbWVudCUyMHByb2Nlc3MlMEFkZXNjcmlwdGlvbnMlMjIlMkMlMEElMjAlMjAlMjAlMjAlMjAlMjAlMjAlMjBkaXNwbGF5JTNEJTIyYnVuc2UlMjIlMkMlMEElMjAlMjAlMjAlMjAlMjAlMjAlMjAlMjBhdXRob3JzJTNEJTIyQnVuc2UlMkMlMjBDJTIwYW5kJTIwVmVybGFnZSUyQyUyME0lMjBhbmQlMjBHaWVzZSUyQyUyMFAlMjIlMkMlMEElMjAlMjAlMjAlMjAlMjAlMjAlMjAlMjBwbGFjZSUzREZBS0UlMkMlMEElMjAlMjAlMjAlMjAlMjAlMjAlMjAlMjBwcCUzRCUyMjIzLTMyJTIyJTJDJTBBJTIwJTIwJTIwJTIwJTIwJTIwJTIwJTIwZW50cnl0eXBlJTNEJTIyYXJ0aWNsZSUyMiUyQyUwQSUyMCUyMCUyMCUyMCUyMCUyMCUyMCUyMHZvbHVtZSUzRCUyMjM0JTIyJTJDJTBBJTIwJTIwJTIwJTIwJTIwJTIwJTIwJTIwbnVtYmVyJTNEJTIyMSUyMiUyQyUwQSUyMCUyMCUyMCUyMCUyMCUyMCUyMCUyMG1vbnRoJTNEJTIySkFOJTIyJTJDJTBBJTIwJTIwJTIwJTIwJTIwJTIwJTIwJTIwbm90ZSUzRCUyMjV0aCUyMEludGVybmF0aW9uYWwlMjBXb3Jrc2hvcCUyMG9uJTIwRXhwZXJpZW5jZSUyMHdpdGglMjB0aGUlMjBNYW5hZ2VtZW50JTIwb2YlMjBTb2Z0d2FyZSUwQVByb2plY3RzJTJDJTIwS0FSTFNSVUhFJTJDJTIwR0VSTUFOWSUyQyUyMFNFUCUyMDI3LTI5JTJDJTIwMTk5NSUyMiUyQyUwQSUyMCUyMCUyMCUyMCUyMCUyMCUyMCUyMGRvaSUzRCUyMjEwLjEwMTYvUzAwMDUtMTA5OCUyODk3JTI5MDAxNjEtMSUyMiUyQyUwQSUyMCUyMCUyMCUyMCUyMCUyMCUyMCUyMGlzc24lM0QlMjIwMDA1LTEwOTglMjIlMkMlMEElMjAlMjAlMjAlMjAlMjAlMjAlMjAlMjB1bmlxdWUtaWQlM0QlMjJJU0klM0EwMDAwNzI0NDUwMDAwMDQlMjIlMkMlMEElMjAlMjAlMjAlMjAlMjAlMjAlMjAlMjBJRCUzRCUyMklTSSUzQTAwMDA3MjQ0NTAwMDAwNCUyMiUyQyUwQSUyMCUyMCUyMCUyMCUyMCUyMCUyMCUyMHdlYm9mc2NpZW5jZTIwMTUlM0QlMjIxJTIyJTJDJTBBJTIwJTIwJTIwJTIwJTIwJTIwJTIwJTIwcGxhY2V4JTNEJTIyQVVUT01BVElDQSUyMiUyQyUwQSUyMCUyMCUyMCUyMCUyOSUyOSUwQSUyNyUyNyUyNyUyOSUzQg==\")));\n",
       "    "
      ],
      "text/plain": [
       "<IPython.core.display.Javascript object>"
      ]
     },
     "metadata": {},
     "output_type": "display_data"
    },
    {
     "data": {
      "application/javascript": [
       "$('span:contains(\"# Temp\")').closest('.cell').remove();"
      ],
      "text/plain": [
       "<IPython.core.display.Javascript object>"
      ]
     },
     "metadata": {},
     "output_type": "display_data"
    },
    {
     "data": {
      "application/javascript": [
       "\n",
       "        $('span:contains(\"# Temp\")').closest('.cell').remove();\n",
       "        var code = IPython.notebook.insert_cell_below('code');\n",
       "        code.set_text(decodeURIComponent(window.atob(\"JTIzJTIwVGVtcCUwQWluc2VydCUyOCUyNyUyNyUyNyUwQSUyMCUyMCUyMCUyMHNhbmNoZXoyMDEwYSUyMCUzRCUyMERCJTI4V29ya1VucmVsYXRlZCUyOCUwQSUyMCUyMCUyMCUyMCUyMCUyMCUyMCUyMDIwMTAlMkMlMjAlMjJJbXByb3ZpbmclMjB0aGUlMjBlZmZpY2llbmN5JTIwb2YlMjB1c2UlMjBvZiUyMHNvZnR3YXJlJTIwZW5naW5lZXJpbmclMjBwcmFjdGljZXMlMjB1c2luZyUwQXByb2R1Y3QlMjBwYXR0ZXJucyUyMiUyQyUwQSUyMCUyMCUyMCUyMCUyMCUyMCUyMCUyMGRpc3BsYXklM0QlMjJzYW5jaGV6JTIyJTJDJTBBJTIwJTIwJTIwJTIwJTIwJTIwJTIwJTIwYXV0aG9ycyUzRCUyMlNhbmNoZXotU2VndXJhJTJDJTIwTWFyaWEtSXNhYmVsJTIwYW5kJTIwTWVkaW5hLURvbWluZ3VleiUyQyUyMEZ1ZW5zYW50YSUyMGFuZCUyMGRlJTIwQW1lc2N1YSUyQyUyMEFudG9uaW8lMjBhbmQlMjBNb3JhLVNvdG8lMkMlMjBBcnR1cm8lMjIlMkMlMEElMjAlMjAlMjAlMjAlMjAlMjAlMjAlMjBwbGFjZSUzREZBS0UlMkMlMEElMjAlMjAlMjAlMjAlMjAlMjAlMjAlMjBwcCUzRCUyMjI3MjEtMjc0MiUyMiUyQyUwQSUyMCUyMCUyMCUyMCUyMCUyMCUyMCUyMGVudHJ5dHlwZSUzRCUyMmFydGljbGUlMjIlMkMlMEElMjAlMjAlMjAlMjAlMjAlMjAlMjAlMjB2b2x1bWUlM0QlMjIxODAlMjIlMkMlMEElMjAlMjAlMjAlMjAlMjAlMjAlMjAlMjBudW1iZXIlM0QlMjIxNCUyMiUyQyUwQSUyMCUyMCUyMCUyMCUyMCUyMCUyMCUyMG1vbnRoJTNEJTIySlVMJTIwMTUlMjIlMkMlMEElMjAlMjAlMjAlMjAlMjAlMjAlMjAlMjBkb2klM0QlMjIxMC4xMDE2L2ouaW5zLjIwMTAuMDMuMDI4JTIyJTJDJTBBJTIwJTIwJTIwJTIwJTIwJTIwJTIwJTIwaXNzbiUzRCUyMjAwMjAtMDI1NSUyMiUyQyUwQSUyMCUyMCUyMCUyMCUyMCUyMCUyMCUyMG9yY2lkLW51bWJlcnMlM0QlMjJNb3JhLVNvdG8lMkMlMjBBcnR1cm8vMDAwMC0wMDAxLTc3ODEtMTM2MCUyMiUyQyUwQSUyMCUyMCUyMCUyMCUyMCUyMCUyMCUyMHVuaXF1ZS1pZCUzRCUyMklTSSUzQTAwMDI3ODYyOTYwMDAwNyUyMiUyQyUwQSUyMCUyMCUyMCUyMCUyMCUyMCUyMCUyMElEJTNEJTIySVNJJTNBMDAwMjc4NjI5NjAwMDA3JTIyJTJDJTBBJTIwJTIwJTIwJTIwJTIwJTIwJTIwJTIwd2Vib2ZzY2llbmNlMjAxNSUzRCUyMjElMjIlMkMlMEElMjAlMjAlMjAlMjAlMjAlMjAlMjAlMjBwbGFjZXglM0QlMjJJTkZPUk1BVElPTiUyMFNDSUVOQ0VTJTIyJTJDJTBBJTIwJTIwJTIwJTIwJTI5JTI5JTBBJTI3JTI3JTI3JTI5JTNC\")));\n",
       "    "
      ],
      "text/plain": [
       "<IPython.core.display.Javascript object>"
      ]
     },
     "metadata": {},
     "output_type": "display_data"
    },
    {
     "data": {
      "application/javascript": [
       "$('span:contains(\"# Temp\")').closest('.cell').remove();"
      ],
      "text/plain": [
       "<IPython.core.display.Javascript object>"
      ]
     },
     "metadata": {},
     "output_type": "display_data"
    },
    {
     "data": {
      "application/javascript": [
       "\n",
       "        $('span:contains(\"# Temp\")').closest('.cell').remove();\n",
       "        var code = IPython.notebook.insert_cell_below('code');\n",
       "        code.set_text(decodeURIComponent(window.atob(\"JTIzJTIwVGVtcCUwQWluc2VydCUyOCUyNyUyNyUyNyUwQSUyMCUyMCUyMCUyMHNhbmNoZXoyMDEwYSUyMCUzRCUyMERCJTI4V29ya1VucmVsYXRlZCUyOCUwQSUyMCUyMCUyMCUyMCUyMCUyMCUyMCUyMDIwMTAlMkMlMjAlMjJJbXByb3ZpbmclMjB0aGUlMjBlZmZpY2llbmN5JTIwb2YlMjB1c2UlMjBvZiUyMHNvZnR3YXJlJTIwZW5naW5lZXJpbmclMjBwcmFjdGljZXMlMjB1c2luZyUwQXByb2R1Y3QlMjBwYXR0ZXJucyUyMiUyQyUwQSUyMCUyMCUyMCUyMCUyMCUyMCUyMCUyMGRpc3BsYXklM0QlMjJzYW5jaGV6JTIyJTJDJTBBJTIwJTIwJTIwJTIwJTIwJTIwJTIwJTIwYXV0aG9ycyUzRCUyMlNhbmNoZXotU2VndXJhJTJDJTIwTWFyaWEtSXNhYmVsJTIwYW5kJTIwTWVkaW5hLURvbWluZ3VleiUyQyUyMEZ1ZW5zYW50YSUyMGFuZCUyMGRlJTIwQW1lc2N1YSUyQyUyMEFudG9uaW8lMjBhbmQlMjBNb3JhLVNvdG8lMkMlMjBBcnR1cm8lMjIlMkMlMEElMjAlMjAlMjAlMjAlMjAlMjAlMjAlMjBwbGFjZSUzREZBS0UlMkMlMEElMjAlMjAlMjAlMjAlMjAlMjAlMjAlMjBwcCUzRCUyMjI3MjEtMjc0MiUyMiUyQyUwQSUyMCUyMCUyMCUyMCUyMCUyMCUyMCUyMGVudHJ5dHlwZSUzRCUyMmFydGljbGUlMjIlMkMlMEElMjAlMjAlMjAlMjAlMjAlMjAlMjAlMjB2b2x1bWUlM0QlMjIxODAlMjIlMkMlMEElMjAlMjAlMjAlMjAlMjAlMjAlMjAlMjBudW1iZXIlM0QlMjIxNCUyMiUyQyUwQSUyMCUyMCUyMCUyMCUyMCUyMCUyMCUyMG1vbnRoJTNEJTIySlVMJTIwMTUlMjIlMkMlMEElMjAlMjAlMjAlMjAlMjAlMjAlMjAlMjBkb2klM0QlMjIxMC4xMDE2L2ouaW5zLjIwMTAuMDMuMDI4JTIyJTJDJTBBJTIwJTIwJTIwJTIwJTIwJTIwJTIwJTIwaXNzbiUzRCUyMjAwMjAtMDI1NSUyMiUyQyUwQSUyMCUyMCUyMCUyMCUyMCUyMCUyMCUyMG9yY2lkLW51bWJlcnMlM0QlMjJNb3JhLVNvdG8lMkMlMjBBcnR1cm8vMDAwMC0wMDAxLTc3ODEtMTM2MCUyMiUyQyUwQSUyMCUyMCUyMCUyMCUyMCUyMCUyMCUyMHVuaXF1ZS1pZCUzRCUyMklTSSUzQTAwMDI3ODYyOTYwMDAwNyUyMiUyQyUwQSUyMCUyMCUyMCUyMCUyMCUyMCUyMCUyMElEJTNEJTIySVNJJTNBMDAwMjc4NjI5NjAwMDA3JTIyJTJDJTBBJTIwJTIwJTIwJTIwJTIwJTIwJTIwJTIwd2Vib2ZzY2llbmNlMjAxNSUzRCUyMjElMjIlMkMlMEElMjAlMjAlMjAlMjAlMjAlMjAlMjAlMjBwbGFjZXglM0QlMjJJTkZPUk1BVElPTiUyMFNDSUVOQ0VTJTIyJTJDJTBBJTIwJTIwJTIwJTIwJTI5JTI5JTBBJTI3JTI3JTI3JTI5JTNC\")));\n",
       "    "
      ],
      "text/plain": [
       "<IPython.core.display.Javascript object>"
      ]
     },
     "metadata": {},
     "output_type": "display_data"
    },
    {
     "data": {
      "application/javascript": [
       "$('span:contains(\"# Temp\")').closest('.cell').remove();"
      ],
      "text/plain": [
       "<IPython.core.display.Javascript object>"
      ]
     },
     "metadata": {},
     "output_type": "display_data"
    },
    {
     "data": {
      "application/javascript": [
       "\n",
       "        $('span:contains(\"# Temp\")').closest('.cell').remove();\n",
       "        var code = IPython.notebook.insert_cell_below('code');\n",
       "        code.set_text(decodeURIComponent(window.atob(\"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\")));\n",
       "    "
      ],
      "text/plain": [
       "<IPython.core.display.Javascript object>"
      ]
     },
     "metadata": {},
     "output_type": "display_data"
    },
    {
     "data": {
      "application/javascript": [
       "$('span:contains(\"# Temp\")').closest('.cell').remove();"
      ],
      "text/plain": [
       "<IPython.core.display.Javascript object>"
      ]
     },
     "metadata": {},
     "output_type": "display_data"
    },
    {
     "data": {
      "application/javascript": [
       "\n",
       "        $('span:contains(\"# Temp\")').closest('.cell').remove();\n",
       "        var code = IPython.notebook.insert_cell_below('code');\n",
       "        code.set_text(decodeURIComponent(window.atob(\"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\")));\n",
       "    "
      ],
      "text/plain": [
       "<IPython.core.display.Javascript object>"
      ]
     },
     "metadata": {},
     "output_type": "display_data"
    },
    {
     "data": {
      "application/javascript": [
       "$('span:contains(\"# Temp\")').closest('.cell').remove();"
      ],
      "text/plain": [
       "<IPython.core.display.Javascript object>"
      ]
     },
     "metadata": {},
     "output_type": "display_data"
    },
    {
     "data": {
      "application/javascript": [
       "\n",
       "        $('span:contains(\"# Temp\")').closest('.cell').remove();\n",
       "        var code = IPython.notebook.insert_cell_below('code');\n",
       "        code.set_text(decodeURIComponent(window.atob(\"JTIzJTIwVGVtcCUwQWluc2VydCUyOCUyNyUyNyUyNyUwQSUyMCUyMCUyMCUyMG1lc3F1aWRhMjAxNWIlMjAlM0QlMjBEQiUyOFdvcmtVbnJlbGF0ZWQlMjglMEElMjAlMjAlMjAlMjAlMjAlMjAlMjAlMjAyMDE1JTJDJTIwJTIySW50ZWdyYXRpbmclMjBJVCUyMHNlcnZpY2UlMjBtYW5hZ2VtZW50JTIwcmVxdWlyZW1lbnRzJTIwaW50byUyMHRoZSUyMG9yZ2FuaXphdGlvbmFsJTBBbWFuYWdlbWVudCUyMHN5c3RlbSUyMiUyQyUwQSUyMCUyMCUyMCUyMCUyMCUyMCUyMCUyMGRpc3BsYXklM0QlMjJtZXNxdWlkYSUyMGIlMjIlMkMlMEElMjAlMjAlMjAlMjAlMjAlMjAlMjAlMjBhdXRob3JzJTNEJTIyTWVzcXVpZGElMkMlMjBBbnRvbmktTGx1aXMlMjBhbmQlMjBNYXMlMkMlMjBBbnRvbmlhJTIyJTJDJTBBJTIwJTIwJTIwJTIwJTIwJTIwJTIwJTIwcGxhY2UlM0RGQUtFJTJDJTBBJTIwJTIwJTIwJTIwJTIwJTIwJTIwJTIwcHAlM0QlMjI4MC05MSUyMiUyQyUwQSUyMCUyMCUyMCUyMCUyMCUyMCUyMCUyMGVudHJ5dHlwZSUzRCUyMmFydGljbGUlMjIlMkMlMEElMjAlMjAlMjAlMjAlMjAlMjAlMjAlMjB2b2x1bWUlM0QlMjIzNyUyMiUyQyUwQSUyMCUyMCUyMCUyMCUyMCUyMCUyMCUyMG1vbnRoJTNEJTIySkFOJTIyJTJDJTBBJTIwJTIwJTIwJTIwJTIwJTIwJTIwJTIwZG9pJTNEJTIyMTAuMTAxNi9qLmNzaS4yMDE0LjA2LjAwNSUyMiUyQyUwQSUyMCUyMCUyMCUyMCUyMCUyMCUyMCUyMGlzc24lM0QlMjIwOTIwLTU0ODklMjIlMkMlMEElMjAlMjAlMjAlMjAlMjAlMjAlMjAlMjBlaXNzbiUzRCUyMjE4NzItNzAxOCUyMiUyQyUwQSUyMCUyMCUyMCUyMCUyMCUyMCUyMCUyMHJlc2VhcmNoZXJpZC1udW1iZXJzJTNEJTIyTWFzJTIwUGljaGFjbyUyQyUyMEFudG9uaWEvRy0yNTk2LTIwMTYlMEFNZXNxdWlkYSUyMENhbGFmYXQlMkMlMjBBbnRvbmklMjBMbHVpcy9GLTY4NjQtMjAxNiUyMiUyQyUwQSUyMCUyMCUyMCUyMCUyMCUyMCUyMCUyMG9yY2lkLW51bWJlcnMlM0QlMjJNYXMlMjBQaWNoYWNvJTJDJTIwQW50b25pYS8wMDAwLTAwMDMtNDE4OC04MDg4JTBBTWVzcXVpZGElMjBDYWxhZmF0JTJDJTIwQW50b25pJTIwTGx1aXMvMDAwMC0wMDAyLTExOTEtNjIyMCUyMiUyQyUwQSUyMCUyMCUyMCUyMCUyMCUyMCUyMCUyMHVuaXF1ZS1pZCUzRCUyMklTSSUzQTAwMDM0MzYzMzQwMDAwOSUyMiUyQyUwQSUyMCUyMCUyMCUyMCUyMCUyMCUyMCUyMElEJTNEJTIySVNJJTNBMDAwMzQzNjMzNDAwMDA5JTIyJTJDJTBBJTIwJTIwJTIwJTIwJTIwJTIwJTIwJTIwd2Vib2ZzY2llbmNlMjAxNSUzRCUyMjElMjIlMkMlMEElMjAlMjAlMjAlMjAlMjAlMjAlMjAlMjBwbGFjZXglM0QlMjJDT01QVVRFUiUyMFNUQU5EQVJEUyUyMCUyNiUyMElOVEVSRkFDRVMlMjIlMkMlMEElMjAlMjAlMjAlMjAlMjklMjklMEElMjclMjclMjclMjklM0I=\")));\n",
       "    "
      ],
      "text/plain": [
       "<IPython.core.display.Javascript object>"
      ]
     },
     "metadata": {},
     "output_type": "display_data"
    },
    {
     "data": {
      "application/javascript": [
       "$('span:contains(\"# Temp\")').closest('.cell').remove();"
      ],
      "text/plain": [
       "<IPython.core.display.Javascript object>"
      ]
     },
     "metadata": {},
     "output_type": "display_data"
    },
    {
     "data": {
      "application/javascript": [
       "\n",
       "        $('span:contains(\"# Temp\")').closest('.cell').remove();\n",
       "        var code = IPython.notebook.insert_cell_below('code');\n",
       "        code.set_text(decodeURIComponent(window.atob(\"JTIzJTIwVGVtcCUwQWluc2VydCUyOCUyNyUyNyUyNyUwQSUyMCUyMCUyMCUyMG1lc3F1aWRhMjAxNWIlMjAlM0QlMjBEQiUyOFdvcmtVbnJlbGF0ZWQlMjglMEElMjAlMjAlMjAlMjAlMjAlMjAlMjAlMjAyMDE1JTJDJTIwJTIySW50ZWdyYXRpbmclMjBJVCUyMHNlcnZpY2UlMjBtYW5hZ2VtZW50JTIwcmVxdWlyZW1lbnRzJTIwaW50byUyMHRoZSUyMG9yZ2FuaXphdGlvbmFsJTBBbWFuYWdlbWVudCUyMHN5c3RlbSUyMiUyQyUwQSUyMCUyMCUyMCUyMCUyMCUyMCUyMCUyMGRpc3BsYXklM0QlMjJtZXNxdWlkYSUyMGIlMjIlMkMlMEElMjAlMjAlMjAlMjAlMjAlMjAlMjAlMjBhdXRob3JzJTNEJTIyTWVzcXVpZGElMkMlMjBBbnRvbmktTGx1aXMlMjBhbmQlMjBNYXMlMkMlMjBBbnRvbmlhJTIyJTJDJTBBJTIwJTIwJTIwJTIwJTIwJTIwJTIwJTIwcGxhY2UlM0RGQUtFJTJDJTBBJTIwJTIwJTIwJTIwJTIwJTIwJTIwJTIwcHAlM0QlMjI4MC05MSUyMiUyQyUwQSUyMCUyMCUyMCUyMCUyMCUyMCUyMCUyMGVudHJ5dHlwZSUzRCUyMmFydGljbGUlMjIlMkMlMEElMjAlMjAlMjAlMjAlMjAlMjAlMjAlMjB2b2x1bWUlM0QlMjIzNyUyMiUyQyUwQSUyMCUyMCUyMCUyMCUyMCUyMCUyMCUyMG1vbnRoJTNEJTIySkFOJTIyJTJDJTBBJTIwJTIwJTIwJTIwJTIwJTIwJTIwJTIwZG9pJTNEJTIyMTAuMTAxNi9qLmNzaS4yMDE0LjA2LjAwNSUyMiUyQyUwQSUyMCUyMCUyMCUyMCUyMCUyMCUyMCUyMGlzc24lM0QlMjIwOTIwLTU0ODklMjIlMkMlMEElMjAlMjAlMjAlMjAlMjAlMjAlMjAlMjBlaXNzbiUzRCUyMjE4NzItNzAxOCUyMiUyQyUwQSUyMCUyMCUyMCUyMCUyMCUyMCUyMCUyMHJlc2VhcmNoZXJpZC1udW1iZXJzJTNEJTIyTWFzJTIwUGljaGFjbyUyQyUyMEFudG9uaWEvRy0yNTk2LTIwMTYlMEFNZXNxdWlkYSUyMENhbGFmYXQlMkMlMjBBbnRvbmklMjBMbHVpcy9GLTY4NjQtMjAxNiUyMiUyQyUwQSUyMCUyMCUyMCUyMCUyMCUyMCUyMCUyMG9yY2lkLW51bWJlcnMlM0QlMjJNYXMlMjBQaWNoYWNvJTJDJTIwQW50b25pYS8wMDAwLTAwMDMtNDE4OC04MDg4JTBBTWVzcXVpZGElMjBDYWxhZmF0JTJDJTIwQW50b25pJTIwTGx1aXMvMDAwMC0wMDAyLTExOTEtNjIyMCUyMiUyQyUwQSUyMCUyMCUyMCUyMCUyMCUyMCUyMCUyMHVuaXF1ZS1pZCUzRCUyMklTSSUzQTAwMDM0MzYzMzQwMDAwOSUyMiUyQyUwQSUyMCUyMCUyMCUyMCUyMCUyMCUyMCUyMElEJTNEJTIySVNJJTNBMDAwMzQzNjMzNDAwMDA5JTIyJTJDJTBBJTIwJTIwJTIwJTIwJTIwJTIwJTIwJTIwd2Vib2ZzY2llbmNlMjAxNSUzRCUyMjElMjIlMkMlMEElMjAlMjAlMjAlMjAlMjAlMjAlMjAlMjBwbGFjZXglM0QlMjJDT01QVVRFUiUyMFNUQU5EQVJEUyUyMCUyNiUyMElOVEVSRkFDRVMlMjIlMkMlMEElMjAlMjAlMjAlMjAlMjklMjklMEElMjclMjclMjclMjklM0I=\")));\n",
       "    "
      ],
      "text/plain": [
       "<IPython.core.display.Javascript object>"
      ]
     },
     "metadata": {},
     "output_type": "display_data"
    },
    {
     "data": {
      "application/javascript": [
       "$('span:contains(\"# Temp\")').closest('.cell').remove();"
      ],
      "text/plain": [
       "<IPython.core.display.Javascript object>"
      ]
     },
     "metadata": {},
     "output_type": "display_data"
    },
    {
     "data": {
      "application/javascript": [
       "\n",
       "        $('span:contains(\"# Temp\")').closest('.cell').remove();\n",
       "        var code = IPython.notebook.insert_cell_below('code');\n",
       "        code.set_text(decodeURIComponent(window.atob(\"JTIzJTIwVGVtcCUwQWluc2VydCUyOCUyNyUyNyUyNyUwQSUyMCUyMCUyMCUyMG5nMjAxNWElMjAlM0QlMjBEQiUyOFdvcmtVbnJlbGF0ZWQlMjglMEElMjAlMjAlMjAlMjAlMjAlMjAlMjAlMjAyMDE1JTJDJTIwJTIySW50ZWdyYXRpbmclMjBzb2Z0d2FyZSUyMGVuZ2luZWVyaW5nJTIwdGhlb3J5JTIwYW5kJTIwcHJhY3RpY2UlMjB1c2luZyUyMGVzc2VuY2UlM0ElMjBBJTBBY2FzZSUyMHN0dWR5JTIyJTJDJTBBJTIwJTIwJTIwJTIwJTIwJTIwJTIwJTIwZGlzcGxheSUzRCUyMm5nJTIyJTJDJTBBJTIwJTIwJTIwJTIwJTIwJTIwJTIwJTIwYXV0aG9ycyUzRCUyMk5nJTJDJTIwUGFuLVdlaSUyMiUyQyUwQSUyMCUyMCUyMCUyMCUyMCUyMCUyMCUyMHBsYWNlJTNERkFLRSUyQyUwQSUyMCUyMCUyMCUyMCUyMCUyMCUyMCUyMHBwJTNEJTIyNjYtNzglMjIlMkMlMEElMjAlMjAlMjAlMjAlMjAlMjAlMjAlMjBlbnRyeXR5cGUlM0QlMjJhcnRpY2xlJTIyJTJDJTBBJTIwJTIwJTIwJTIwJTIwJTIwJTIwJTIwdm9sdW1lJTNEJTIyMTAxJTIyJTJDJTBBJTIwJTIwJTIwJTIwJTIwJTIwJTIwJTIwbW9udGglM0QlMjJBUFIlMjAxJTIyJTJDJTBBJTIwJTIwJTIwJTIwJTIwJTIwJTIwJTIwZG9pJTNEJTIyMTAuMTAxNi9qLnNjaWNvLjIwMTQuMTEuMDA5JTIyJTJDJTBBJTIwJTIwJTIwJTIwJTIwJTIwJTIwJTIwaXNzbiUzRCUyMjAxNjctNjQyMyUyMiUyQyUwQSUyMCUyMCUyMCUyMCUyMCUyMCUyMCUyMGVpc3NuJTNEJTIyMTg3Mi03OTY0JTIyJTJDJTBBJTIwJTIwJTIwJTIwJTIwJTIwJTIwJTIwdW5pcXVlLWlkJTNEJTIySVNJJTNBMDAwMzUwNTEzNjAwMDA1JTIyJTJDJTBBJTIwJTIwJTIwJTIwJTIwJTIwJTIwJTIwSUQlM0QlMjJJU0klM0EwMDAzNTA1MTM2MDAwMDUlMjIlMkMlMEElMjAlMjAlMjAlMjAlMjAlMjAlMjAlMjB3ZWJvZnNjaWVuY2UyMDE1JTNEJTIyMSUyMiUyQyUwQSUyMCUyMCUyMCUyMCUyMCUyMCUyMCUyMHBsYWNleCUzRCUyMlNDSUVOQ0UlMjBPRiUyMENPTVBVVEVSJTIwUFJPR1JBTU1JTkclMjIlMkMlMEElMjAlMjAlMjAlMjAlMjklMjklMEElMjclMjclMjclMjklM0I=\")));\n",
       "    "
      ],
      "text/plain": [
       "<IPython.core.display.Javascript object>"
      ]
     },
     "metadata": {},
     "output_type": "display_data"
    },
    {
     "data": {
      "application/javascript": [
       "$('span:contains(\"# Temp\")').closest('.cell').remove();"
      ],
      "text/plain": [
       "<IPython.core.display.Javascript object>"
      ]
     },
     "metadata": {},
     "output_type": "display_data"
    },
    {
     "data": {
      "application/javascript": [
       "\n",
       "        $('span:contains(\"# Temp\")').closest('.cell').remove();\n",
       "        var code = IPython.notebook.insert_cell_below('code');\n",
       "        code.set_text(decodeURIComponent(window.atob(\"JTIzJTIwVGVtcCUwQWluc2VydCUyOCUyNyUyNyUyNyUwQSUyMCUyMCUyMCUyMG5nMjAxNWElMjAlM0QlMjBEQiUyOFdvcmtVbnJlbGF0ZWQlMjglMEElMjAlMjAlMjAlMjAlMjAlMjAlMjAlMjAyMDE1JTJDJTIwJTIySW50ZWdyYXRpbmclMjBzb2Z0d2FyZSUyMGVuZ2luZWVyaW5nJTIwdGhlb3J5JTIwYW5kJTIwcHJhY3RpY2UlMjB1c2luZyUyMGVzc2VuY2UlM0ElMjBBJTBBY2FzZSUyMHN0dWR5JTIyJTJDJTBBJTIwJTIwJTIwJTIwJTIwJTIwJTIwJTIwZGlzcGxheSUzRCUyMm5nJTIyJTJDJTBBJTIwJTIwJTIwJTIwJTIwJTIwJTIwJTIwYXV0aG9ycyUzRCUyMk5nJTJDJTIwUGFuLVdlaSUyMiUyQyUwQSUyMCUyMCUyMCUyMCUyMCUyMCUyMCUyMHBsYWNlJTNERkFLRSUyQyUwQSUyMCUyMCUyMCUyMCUyMCUyMCUyMCUyMHBwJTNEJTIyNjYtNzglMjIlMkMlMEElMjAlMjAlMjAlMjAlMjAlMjAlMjAlMjBlbnRyeXR5cGUlM0QlMjJhcnRpY2xlJTIyJTJDJTBBJTIwJTIwJTIwJTIwJTIwJTIwJTIwJTIwdm9sdW1lJTNEJTIyMTAxJTIyJTJDJTBBJTIwJTIwJTIwJTIwJTIwJTIwJTIwJTIwbW9udGglM0QlMjJBUFIlMjAxJTIyJTJDJTBBJTIwJTIwJTIwJTIwJTIwJTIwJTIwJTIwZG9pJTNEJTIyMTAuMTAxNi9qLnNjaWNvLjIwMTQuMTEuMDA5JTIyJTJDJTBBJTIwJTIwJTIwJTIwJTIwJTIwJTIwJTIwaXNzbiUzRCUyMjAxNjctNjQyMyUyMiUyQyUwQSUyMCUyMCUyMCUyMCUyMCUyMCUyMCUyMGVpc3NuJTNEJTIyMTg3Mi03OTY0JTIyJTJDJTBBJTIwJTIwJTIwJTIwJTIwJTIwJTIwJTIwdW5pcXVlLWlkJTNEJTIySVNJJTNBMDAwMzUwNTEzNjAwMDA1JTIyJTJDJTBBJTIwJTIwJTIwJTIwJTIwJTIwJTIwJTIwSUQlM0QlMjJJU0klM0EwMDAzNTA1MTM2MDAwMDUlMjIlMkMlMEElMjAlMjAlMjAlMjAlMjAlMjAlMjAlMjB3ZWJvZnNjaWVuY2UyMDE1JTNEJTIyMSUyMiUyQyUwQSUyMCUyMCUyMCUyMCUyMCUyMCUyMCUyMHBsYWNleCUzRCUyMlNDSUVOQ0UlMjBPRiUyMENPTVBVVEVSJTIwUFJPR1JBTU1JTkclMjIlMkMlMEElMjAlMjAlMjAlMjAlMjklMjklMEElMjclMjclMjclMjklM0I=\")));\n",
       "    "
      ],
      "text/plain": [
       "<IPython.core.display.Javascript object>"
      ]
     },
     "metadata": {},
     "output_type": "display_data"
    },
    {
     "data": {
      "application/javascript": [
       "$('span:contains(\"# Temp\")').closest('.cell').remove();"
      ],
      "text/plain": [
       "<IPython.core.display.Javascript object>"
      ]
     },
     "metadata": {},
     "output_type": "display_data"
    },
    {
     "data": {
      "application/javascript": [
       "\n",
       "        $('span:contains(\"# Temp\")').closest('.cell').remove();\n",
       "        var code = IPython.notebook.insert_cell_below('code');\n",
       "        code.set_text(decodeURIComponent(window.atob(\"JTIzJTIwVGVtcCUwQWluc2VydCUyOCUyNyUyNyUyNyUwQSUyMCUyMCUyMCUyMGphbGFsaTIwMTRhJTIwJTNEJTIwREIlMjhXb3JrVW5yZWxhdGVkJTI4JTBBJTIwJTIwJTIwJTIwJTIwJTIwJTIwJTIwMjAxNCUyQyUyMCUyMkludmVzdGlnYXRpbmclMjB0aGUlMjBhcHBsaWNhYmlsaXR5JTIwb2YlMjBBZ2lsaXR5JTIwYXNzZXNzbWVudCUyMHN1cnZleXMlM0ElMjBBJTIwY2FzZSUwQXN0dWR5JTIyJTJDJTBBJTIwJTIwJTIwJTIwJTIwJTIwJTIwJTIwZGlzcGxheSUzRCUyMmphbGFsaSUyMiUyQyUwQSUyMCUyMCUyMCUyMCUyMCUyMCUyMCUyMGF1dGhvcnMlM0QlMjJKYWxhbGklMkMlMjBTYW1pcmVoJTIwYW5kJTIwV29obGluJTJDJTIwQ2xhZXMlMjBhbmQlMjBBbmdlbGlzJTJDJTIwTGVmdGVyaXMlMjIlMkMlMEElMjAlMjAlMjAlMjAlMjAlMjAlMjAlMjBwbGFjZSUzREZBS0UlMkMlMEElMjAlMjAlMjAlMjAlMjAlMjAlMjAlMjBwcCUzRCUyMjE3Mi0xOTAlMjIlMkMlMEElMjAlMjAlMjAlMjAlMjAlMjAlMjAlMjBlbnRyeXR5cGUlM0QlMjJhcnRpY2xlJTIyJTJDJTBBJTIwJTIwJTIwJTIwJTIwJTIwJTIwJTIwdm9sdW1lJTNEJTIyOTglMjIlMkMlMEElMjAlMjAlMjAlMjAlMjAlMjAlMjAlMjBtb250aCUzRCUyMkRFQyUyMiUyQyUwQSUyMCUyMCUyMCUyMCUyMCUyMCUyMCUyMGRvaSUzRCUyMjEwLjEwMTYvai5qc3MuMjAxNC4wOC4wNjclMjIlMkMlMEElMjAlMjAlMjAlMjAlMjAlMjAlMjAlMjBpc3NuJTNEJTIyMDE2NC0xMjEyJTIyJTJDJTBBJTIwJTIwJTIwJTIwJTIwJTIwJTIwJTIwZWlzc24lM0QlMjIxODczLTEyMjglMjIlMkMlMEElMjAlMjAlMjAlMjAlMjAlMjAlMjAlMjBvcmNpZC1udW1iZXJzJTNEJTIyV29obGluJTJDJTIwQ2xhZXMvMDAwMC0wMDAzLTA0NjAtNTI1MyUyMiUyQyUwQSUyMCUyMCUyMCUyMCUyMCUyMCUyMCUyMHVuaXF1ZS1pZCUzRCUyMklTSSUzQTAwMDM0NDQyMTkwMDAxMSUyMiUyQyUwQSUyMCUyMCUyMCUyMCUyMCUyMCUyMCUyMElEJTNEJTIySVNJJTNBMDAwMzQ0NDIxOTAwMDExJTIyJTJDJTBBJTIwJTIwJTIwJTIwJTIwJTIwJTIwJTIwd2Vib2ZzY2llbmNlMjAxNSUzRCUyMjElMjIlMkMlMEElMjAlMjAlMjAlMjAlMjAlMjAlMjAlMjBwbGFjZXglM0QlMjJKT1VSTkFMJTIwT0YlMjBTWVNURU1TJTIwQU5EJTIwU09GVFdBUkUlMjIlMkMlMEElMjAlMjAlMjAlMjAlMjklMjklMEElMjclMjclMjclMjklM0I=\")));\n",
       "    "
      ],
      "text/plain": [
       "<IPython.core.display.Javascript object>"
      ]
     },
     "metadata": {},
     "output_type": "display_data"
    },
    {
     "data": {
      "application/javascript": [
       "$('span:contains(\"# Temp\")').closest('.cell').remove();"
      ],
      "text/plain": [
       "<IPython.core.display.Javascript object>"
      ]
     },
     "metadata": {},
     "output_type": "display_data"
    },
    {
     "data": {
      "application/javascript": [
       "\n",
       "        $('span:contains(\"# Temp\")').closest('.cell').remove();\n",
       "        var code = IPython.notebook.insert_cell_below('code');\n",
       "        code.set_text(decodeURIComponent(window.atob(\"JTIzJTIwVGVtcCUwQWluc2VydCUyOCUyNyUyNyUyNyUwQSUyMCUyMCUyMCUyMGphbGFsaTIwMTRhJTIwJTNEJTIwREIlMjhXb3JrVW5yZWxhdGVkJTI4JTBBJTIwJTIwJTIwJTIwJTIwJTIwJTIwJTIwMjAxNCUyQyUyMCUyMkludmVzdGlnYXRpbmclMjB0aGUlMjBhcHBsaWNhYmlsaXR5JTIwb2YlMjBBZ2lsaXR5JTIwYXNzZXNzbWVudCUyMHN1cnZleXMlM0ElMjBBJTIwY2FzZSUwQXN0dWR5JTIyJTJDJTBBJTIwJTIwJTIwJTIwJTIwJTIwJTIwJTIwZGlzcGxheSUzRCUyMmphbGFsaSUyMiUyQyUwQSUyMCUyMCUyMCUyMCUyMCUyMCUyMCUyMGF1dGhvcnMlM0QlMjJKYWxhbGklMkMlMjBTYW1pcmVoJTIwYW5kJTIwV29obGluJTJDJTIwQ2xhZXMlMjBhbmQlMjBBbmdlbGlzJTJDJTIwTGVmdGVyaXMlMjIlMkMlMEElMjAlMjAlMjAlMjAlMjAlMjAlMjAlMjBwbGFjZSUzREZBS0UlMkMlMEElMjAlMjAlMjAlMjAlMjAlMjAlMjAlMjBwcCUzRCUyMjE3Mi0xOTAlMjIlMkMlMEElMjAlMjAlMjAlMjAlMjAlMjAlMjAlMjBlbnRyeXR5cGUlM0QlMjJhcnRpY2xlJTIyJTJDJTBBJTIwJTIwJTIwJTIwJTIwJTIwJTIwJTIwdm9sdW1lJTNEJTIyOTglMjIlMkMlMEElMjAlMjAlMjAlMjAlMjAlMjAlMjAlMjBtb250aCUzRCUyMkRFQyUyMiUyQyUwQSUyMCUyMCUyMCUyMCUyMCUyMCUyMCUyMGRvaSUzRCUyMjEwLjEwMTYvai5qc3MuMjAxNC4wOC4wNjclMjIlMkMlMEElMjAlMjAlMjAlMjAlMjAlMjAlMjAlMjBpc3NuJTNEJTIyMDE2NC0xMjEyJTIyJTJDJTBBJTIwJTIwJTIwJTIwJTIwJTIwJTIwJTIwZWlzc24lM0QlMjIxODczLTEyMjglMjIlMkMlMEElMjAlMjAlMjAlMjAlMjAlMjAlMjAlMjBvcmNpZC1udW1iZXJzJTNEJTIyV29obGluJTJDJTIwQ2xhZXMvMDAwMC0wMDAzLTA0NjAtNTI1MyUyMiUyQyUwQSUyMCUyMCUyMCUyMCUyMCUyMCUyMCUyMHVuaXF1ZS1pZCUzRCUyMklTSSUzQTAwMDM0NDQyMTkwMDAxMSUyMiUyQyUwQSUyMCUyMCUyMCUyMCUyMCUyMCUyMCUyMElEJTNEJTIySVNJJTNBMDAwMzQ0NDIxOTAwMDExJTIyJTJDJTBBJTIwJTIwJTIwJTIwJTIwJTIwJTIwJTIwd2Vib2ZzY2llbmNlMjAxNSUzRCUyMjElMjIlMkMlMEElMjAlMjAlMjAlMjAlMjAlMjAlMjAlMjBwbGFjZXglM0QlMjJKT1VSTkFMJTIwT0YlMjBTWVNURU1TJTIwQU5EJTIwU09GVFdBUkUlMjIlMkMlMEElMjAlMjAlMjAlMjAlMjklMjklMEElMjclMjclMjclMjklM0I=\")));\n",
       "    "
      ],
      "text/plain": [
       "<IPython.core.display.Javascript object>"
      ]
     },
     "metadata": {},
     "output_type": "display_data"
    },
    {
     "data": {
      "application/javascript": [
       "$('span:contains(\"# Temp\")').closest('.cell').remove();"
      ],
      "text/plain": [
       "<IPython.core.display.Javascript object>"
      ]
     },
     "metadata": {},
     "output_type": "display_data"
    },
    {
     "data": {
      "application/javascript": [
       "\n",
       "        $('span:contains(\"# Temp\")').closest('.cell').remove();\n",
       "        var code = IPython.notebook.insert_cell_below('code');\n",
       "        code.set_text(decodeURIComponent(window.atob(\"JTIzJTIwVGVtcCUwQWluc2VydCUyOCUyNyUyNyUyNyUwQSUyMCUyMCUyMCUyMG1hZ2FsaGFlczIwMTVhJTIwJTNEJTIwREIlMjhXb3JrVW5yZWxhdGVkJTI4JTBBJTIwJTIwJTIwJTIwJTIwJTIwJTIwJTIwMjAxNSUyQyUyMCUyMkludmVzdGlnYXRpb25zJTIwYWJvdXQlMjByZXBsaWNhdGlvbiUyMG9mJTIwZW1waXJpY2FsJTIwc3R1ZGllcyUyMGluJTIwc29mdHdhcmUlMEFlbmdpbmVlcmluZyUzQSUyMEElMjBzeXN0ZW1hdGljJTIwbWFwcGluZyUyMHN0dWR5JTIyJTJDJTBBJTIwJTIwJTIwJTIwJTIwJTIwJTIwJTIwZGlzcGxheSUzRCUyMm1hZ2FsaGFlcyUyMiUyQyUwQSUyMCUyMCUyMCUyMCUyMCUyMCUyMCUyMGF1dGhvcnMlM0QlMjJkZSUyME1hZ2FsaGFlcyUyQyUyMENsZXl0b24lMjBWLiUyMEMuJTIwYW5kJTIwZGElMjBTaWx2YSUyQyUyMEZhYmlvJTIwUS4lMjBCLiUyMGFuZCUyMFNhbnRvcyUyQyUyMFJvbm5pZSUwQUUuJTIwUy4lMjBhbmQlMjBTdWFzc3VuYSUyQyUyME1hcmNvcyUyMiUyQyUwQSUyMCUyMCUyMCUyMCUyMCUyMCUyMCUyMHBsYWNlJTNERkFLRSUyQyUwQSUyMCUyMCUyMCUyMCUyMCUyMCUyMCUyMHBwJTNEJTIyNzYtMTAxJTIyJTJDJTBBJTIwJTIwJTIwJTIwJTIwJTIwJTIwJTIwZW50cnl0eXBlJTNEJTIyYXJ0aWNsZSUyMiUyQyUwQSUyMCUyMCUyMCUyMCUyMCUyMCUyMCUyMHZvbHVtZSUzRCUyMjY0JTIyJTJDJTBBJTIwJTIwJTIwJTIwJTIwJTIwJTIwJTIwbW9udGglM0QlMjJBVUclMjIlMkMlMEElMjAlMjAlMjAlMjAlMjAlMjAlMjAlMjBkb2klM0QlMjIxMC4xMDE2L2ouaW5mc29mLjIwMTUuMDIuMDAxJTIyJTJDJTBBJTIwJTIwJTIwJTIwJTIwJTIwJTIwJTIwaXNzbiUzRCUyMjA5NTAtNTg0OSUyMiUyQyUwQSUyMCUyMCUyMCUyMCUyMCUyMCUyMCUyMGVpc3NuJTNEJTIyMTg3My02MDI1JTIyJTJDJTBBJTIwJTIwJTIwJTIwJTIwJTIwJTIwJTIwdW5pcXVlLWlkJTNEJTIySVNJJTNBMDAwMzU1MzY1MTAwMDA2JTIyJTJDJTBBJTIwJTIwJTIwJTIwJTIwJTIwJTIwJTIwSUQlM0QlMjJJU0klM0EwMDAzNTUzNjUxMDAwMDYlMjIlMkMlMEElMjAlMjAlMjAlMjAlMjAlMjAlMjAlMjB3ZWJvZnNjaWVuY2UyMDE1JTNEJTIyMSUyMiUyQyUwQSUyMCUyMCUyMCUyMCUyMCUyMCUyMCUyMHBsYWNleCUzRCUyMklORk9STUFUSU9OJTIwQU5EJTIwU09GVFdBUkUlMjBURUNITk9MT0dZJTIyJTJDJTBBJTIwJTIwJTIwJTIwJTI5JTI5JTBBJTI3JTI3JTI3JTI5JTNC\")));\n",
       "    "
      ],
      "text/plain": [
       "<IPython.core.display.Javascript object>"
      ]
     },
     "metadata": {},
     "output_type": "display_data"
    },
    {
     "data": {
      "application/javascript": [
       "$('span:contains(\"# Temp\")').closest('.cell').remove();"
      ],
      "text/plain": [
       "<IPython.core.display.Javascript object>"
      ]
     },
     "metadata": {},
     "output_type": "display_data"
    },
    {
     "data": {
      "application/javascript": [
       "\n",
       "        $('span:contains(\"# Temp\")').closest('.cell').remove();\n",
       "        var code = IPython.notebook.insert_cell_below('code');\n",
       "        code.set_text(decodeURIComponent(window.atob(\"JTIzJTIwVGVtcCUwQWluc2VydCUyOCUyNyUyNyUyNyUwQSUyMCUyMCUyMCUyMG1hZ2FsaGFlczIwMTVhJTIwJTNEJTIwREIlMjhXb3JrVW5yZWxhdGVkJTI4JTBBJTIwJTIwJTIwJTIwJTIwJTIwJTIwJTIwMjAxNSUyQyUyMCUyMkludmVzdGlnYXRpb25zJTIwYWJvdXQlMjByZXBsaWNhdGlvbiUyMG9mJTIwZW1waXJpY2FsJTIwc3R1ZGllcyUyMGluJTIwc29mdHdhcmUlMEFlbmdpbmVlcmluZyUzQSUyMEElMjBzeXN0ZW1hdGljJTIwbWFwcGluZyUyMHN0dWR5JTIyJTJDJTBBJTIwJTIwJTIwJTIwJTIwJTIwJTIwJTIwZGlzcGxheSUzRCUyMm1hZ2FsaGFlcyUyMiUyQyUwQSUyMCUyMCUyMCUyMCUyMCUyMCUyMCUyMGF1dGhvcnMlM0QlMjJkZSUyME1hZ2FsaGFlcyUyQyUyMENsZXl0b24lMjBWLiUyMEMuJTIwYW5kJTIwZGElMjBTaWx2YSUyQyUyMEZhYmlvJTIwUS4lMjBCLiUyMGFuZCUyMFNhbnRvcyUyQyUyMFJvbm5pZSUwQUUuJTIwUy4lMjBhbmQlMjBTdWFzc3VuYSUyQyUyME1hcmNvcyUyMiUyQyUwQSUyMCUyMCUyMCUyMCUyMCUyMCUyMCUyMHBsYWNlJTNERkFLRSUyQyUwQSUyMCUyMCUyMCUyMCUyMCUyMCUyMCUyMHBwJTNEJTIyNzYtMTAxJTIyJTJDJTBBJTIwJTIwJTIwJTIwJTIwJTIwJTIwJTIwZW50cnl0eXBlJTNEJTIyYXJ0aWNsZSUyMiUyQyUwQSUyMCUyMCUyMCUyMCUyMCUyMCUyMCUyMHZvbHVtZSUzRCUyMjY0JTIyJTJDJTBBJTIwJTIwJTIwJTIwJTIwJTIwJTIwJTIwbW9udGglM0QlMjJBVUclMjIlMkMlMEElMjAlMjAlMjAlMjAlMjAlMjAlMjAlMjBkb2klM0QlMjIxMC4xMDE2L2ouaW5mc29mLjIwMTUuMDIuMDAxJTIyJTJDJTBBJTIwJTIwJTIwJTIwJTIwJTIwJTIwJTIwaXNzbiUzRCUyMjA5NTAtNTg0OSUyMiUyQyUwQSUyMCUyMCUyMCUyMCUyMCUyMCUyMCUyMGVpc3NuJTNEJTIyMTg3My02MDI1JTIyJTJDJTBBJTIwJTIwJTIwJTIwJTIwJTIwJTIwJTIwdW5pcXVlLWlkJTNEJTIySVNJJTNBMDAwMzU1MzY1MTAwMDA2JTIyJTJDJTBBJTIwJTIwJTIwJTIwJTIwJTIwJTIwJTIwSUQlM0QlMjJJU0klM0EwMDAzNTUzNjUxMDAwMDYlMjIlMkMlMEElMjAlMjAlMjAlMjAlMjAlMjAlMjAlMjB3ZWJvZnNjaWVuY2UyMDE1JTNEJTIyMSUyMiUyQyUwQSUyMCUyMCUyMCUyMCUyMCUyMCUyMCUyMHBsYWNleCUzRCUyMklORk9STUFUSU9OJTIwQU5EJTIwU09GVFdBUkUlMjBURUNITk9MT0dZJTIyJTJDJTBBJTIwJTIwJTIwJTIwJTI5JTI5JTBBJTI3JTI3JTI3JTI5JTNC\")));\n",
       "    "
      ],
      "text/plain": [
       "<IPython.core.display.Javascript object>"
      ]
     },
     "metadata": {},
     "output_type": "display_data"
    },
    {
     "data": {
      "application/javascript": [
       "$('span:contains(\"# Temp\")').closest('.cell').remove();"
      ],
      "text/plain": [
       "<IPython.core.display.Javascript object>"
      ]
     },
     "metadata": {},
     "output_type": "display_data"
    },
    {
     "data": {
      "application/javascript": [
       "\n",
       "        $('span:contains(\"# Temp\")').closest('.cell').remove();\n",
       "        var code = IPython.notebook.insert_cell_below('code');\n",
       "        code.set_text(decodeURIComponent(window.atob(\"JTIzJTIwVGVtcCUwQWluc2VydCUyOCUyNyUyNyUyNyUwQXJhYmlzZXIyMDExYSUyMCUzRCUyMERCJTI4V29ya1VucmVsYXRlZCUyOCUwQSUyMCUyMCUyMCUyMDIwMTElMkMlMjAlMjJLZXklMjBhY3Rpdml0aWVzJTIwZm9yJTIwcHJvZHVjdCUyMGRlcml2YXRpb24lMjBpbiUyMHNvZnR3YXJlJTIwcHJvZHVjdCUyMGxpbmVzJTIyJTJDJTBBJTIwJTIwJTIwJTIwZGlzcGxheSUzRCUyMnJhYmlzZXIlMjIlMkMlMEElMjAlMjAlMjAlMjBhdXRob3JzJTNEJTIyUmFiaXNlciUyQyUyMFJpY2slMjBhbmQlMjBPJTI3TGVhcnklMkMlMjBQYWRyYWlnJTIwYW5kJTIwUmljaGFyZHNvbiUyQyUyMEl0YSUyMiUyQyUwQSUyMCUyMCUyMCUyMHBsYWNlJTNERkFLRSUyQyUwQSUyMCUyMCUyMCUyMHBwJTNEJTIyMjg1LTMwMCUyMiUyQyUwQSUyMCUyMCUyMCUyMGVudHJ5dHlwZSUzRCUyMmFydGljbGUlMjIlMkMlMEElMjAlMjAlMjAlMjB2b2x1bWUlM0QlMjI4NCUyMiUyQyUwQSUyMCUyMCUyMCUyMG51bWJlciUzRCUyMjIlMjIlMkMlMEElMjAlMjAlMjAlMjBtb250aCUzRCUyMkZFQiUyMiUyQyUwQSUyMCUyMCUyMCUyMGRvaSUzRCUyMjEwLjEwMTYvai5qc3MuMjAxMC4wOS4wNDIlMjIlMkMlMEElMjAlMjAlMjAlMjBpc3NuJTNEJTIyMDE2NC0xMjEyJTIyJTJDJTBBJTIwJTIwJTIwJTIwcmVzZWFyY2hlcmlkLW51bWJlcnMlM0QlMjJSYWJpc2VyJTJDJTIwUmljay9CLTg2NzMtMjAxNyUyMiUyQyUwQSUyMCUyMCUyMCUyMG9yY2lkLW51bWJlcnMlM0QlMjJSYWJpc2VyJTJDJTIwUmljay8wMDAwLTAwMDMtMzg2Mi0xMTEyJTIyJTJDJTBBJTIwJTIwJTIwJTIwdW5pcXVlLWlkJTNEJTIySVNJJTNBMDAwMjg2ODQ5NzAwMDEwJTIyJTJDJTBBJTIwJTIwJTIwJTIwSUQlM0QlMjJJU0klM0EwMDAyODY4NDk3MDAwMTAlMjIlMkMlMEElMjAlMjAlMjAlMjB3ZWJvZnNjaWVuY2UyMDE1JTNEJTIyMSUyMiUyQyUwQSUyMCUyMCUyMCUyMHBsYWNleCUzRCUyMkpPVVJOQUwlMjBPRiUyMFNZU1RFTVMlMjBBTkQlMjBTT0ZUV0FSRSUyMiUyQyUwQSUyOSUyOSUwQSUyNyUyNyUyNyUyOSUzQg==\")));\n",
       "    "
      ],
      "text/plain": [
       "<IPython.core.display.Javascript object>"
      ]
     },
     "metadata": {},
     "output_type": "display_data"
    },
    {
     "data": {
      "application/javascript": [
       "$('span:contains(\"# Temp\")').closest('.cell').remove();"
      ],
      "text/plain": [
       "<IPython.core.display.Javascript object>"
      ]
     },
     "metadata": {},
     "output_type": "display_data"
    },
    {
     "data": {
      "application/javascript": [
       "\n",
       "        $('span:contains(\"# Temp\")').closest('.cell').remove();\n",
       "        var code = IPython.notebook.insert_cell_below('code');\n",
       "        code.set_text(decodeURIComponent(window.atob(\"JTIzJTIwVGVtcCUwQWluc2VydCUyOCUyNyUyNyUyNyUwQXJhYmlzZXIyMDExYSUyMCUzRCUyMERCJTI4V29ya1VucmVsYXRlZCUyOCUwQSUyMCUyMCUyMCUyMDIwMTElMkMlMjAlMjJLZXklMjBhY3Rpdml0aWVzJTIwZm9yJTIwcHJvZHVjdCUyMGRlcml2YXRpb24lMjBpbiUyMHNvZnR3YXJlJTIwcHJvZHVjdCUyMGxpbmVzJTIyJTJDJTBBJTIwJTIwJTIwJTIwZGlzcGxheSUzRCUyMnJhYmlzZXIlMjIlMkMlMEElMjAlMjAlMjAlMjBhdXRob3JzJTNEJTIyUmFiaXNlciUyQyUyMFJpY2slMjBhbmQlMjBPJTI3TGVhcnklMkMlMjBQYWRyYWlnJTIwYW5kJTIwUmljaGFyZHNvbiUyQyUyMEl0YSUyMiUyQyUwQSUyMCUyMCUyMCUyMHBsYWNlJTNERkFLRSUyQyUwQSUyMCUyMCUyMCUyMHBwJTNEJTIyMjg1LTMwMCUyMiUyQyUwQSUyMCUyMCUyMCUyMGVudHJ5dHlwZSUzRCUyMmFydGljbGUlMjIlMkMlMEElMjAlMjAlMjAlMjB2b2x1bWUlM0QlMjI4NCUyMiUyQyUwQSUyMCUyMCUyMCUyMG51bWJlciUzRCUyMjIlMjIlMkMlMEElMjAlMjAlMjAlMjBtb250aCUzRCUyMkZFQiUyMiUyQyUwQSUyMCUyMCUyMCUyMGRvaSUzRCUyMjEwLjEwMTYvai5qc3MuMjAxMC4wOS4wNDIlMjIlMkMlMEElMjAlMjAlMjAlMjBpc3NuJTNEJTIyMDE2NC0xMjEyJTIyJTJDJTBBJTIwJTIwJTIwJTIwcmVzZWFyY2hlcmlkLW51bWJlcnMlM0QlMjJSYWJpc2VyJTJDJTIwUmljay9CLTg2NzMtMjAxNyUyMiUyQyUwQSUyMCUyMCUyMCUyMG9yY2lkLW51bWJlcnMlM0QlMjJSYWJpc2VyJTJDJTIwUmljay8wMDAwLTAwMDMtMzg2Mi0xMTEyJTIyJTJDJTBBJTIwJTIwJTIwJTIwdW5pcXVlLWlkJTNEJTIySVNJJTNBMDAwMjg2ODQ5NzAwMDEwJTIyJTJDJTBBJTIwJTIwJTIwJTIwSUQlM0QlMjJJU0klM0EwMDAyODY4NDk3MDAwMTAlMjIlMkMlMEElMjAlMjAlMjAlMjB3ZWJvZnNjaWVuY2UyMDE1JTNEJTIyMSUyMiUyQyUwQSUyMCUyMCUyMCUyMHBsYWNleCUzRCUyMkpPVVJOQUwlMjBPRiUyMFNZU1RFTVMlMjBBTkQlMjBTT0ZUV0FSRSUyMiUyQyUwQSUyOSUyOSUwQSUyNyUyNyUyNyUyOSUzQg==\")));\n",
       "    "
      ],
      "text/plain": [
       "<IPython.core.display.Javascript object>"
      ]
     },
     "metadata": {},
     "output_type": "display_data"
    },
    {
     "data": {
      "application/javascript": [
       "$('span:contains(\"# Temp\")').closest('.cell').remove();"
      ],
      "text/plain": [
       "<IPython.core.display.Javascript object>"
      ]
     },
     "metadata": {},
     "output_type": "display_data"
    },
    {
     "data": {
      "application/javascript": [
       "\n",
       "        $('span:contains(\"# Temp\")').closest('.cell').remove();\n",
       "        var code = IPython.notebook.insert_cell_below('code');\n",
       "        code.set_text(decodeURIComponent(window.atob(\"JTIzJTIwVGVtcCUwQWluc2VydCUyOCUyNyUyNyUyNyUwQWRpbmcyMDE0YSUyMCUzRCUyMERCJTI4V29ya1VucmVsYXRlZCUyOCUwQSUyMCUyMCUyMCUyMDIwMTQlMkMlMjAlMjJLbm93bGVkZ2UtYmFzZWQlMjBhcHByb2FjaGVzJTIwaW4lMjBzb2Z0d2FyZSUyMGRvY3VtZW50YXRpb24lM0ElMjBBJTIwc3lzdGVtYXRpYyUyMGxpdGVyYXR1cmUlMjByZXZpZXclMjIlMkMlMEElMjAlMjAlMjAlMjBkaXNwbGF5JTNEJTIyZGluZyUyMiUyQyUwQSUyMCUyMCUyMCUyMGF1dGhvcnMlM0QlMjJEaW5nJTJDJTIwV2VpJTIwYW5kJTIwTGlhbmclMkMlMjBQZW5nJTIwYW5kJTIwVGFuZyUyQyUyMEFudG9ueSUyMGFuZCUyMHZhbiUyMFZsaWV0JTJDJTIwSGFucyUyMiUyQyUwQSUyMCUyMCUyMCUyMHBsYWNlJTNERkFLRSUyQyUwQSUyMCUyMCUyMCUyMHBwJTNEJTIyNTQ1LTU2NyUyMiUyQyUwQSUyMCUyMCUyMCUyMGVudHJ5dHlwZSUzRCUyMmFydGljbGUlMjIlMkMlMEElMjAlMjAlMjAlMjB2b2x1bWUlM0QlMjI1NiUyMiUyQyUwQSUyMCUyMCUyMCUyMG51bWJlciUzRCUyMjYlMjIlMkMlMEElMjAlMjAlMjAlMjBtb250aCUzRCUyMkpVTiUyMiUyQyUwQSUyMCUyMCUyMCUyMGRvaSUzRCUyMjEwLjEwMTYvai5pbmZzb2YuMjAxNC4wMS4wMDglMjIlMkMlMEElMjAlMjAlMjAlMjBpc3NuJTNEJTIyMDk1MC01ODQ5JTIyJTJDJTBBJTIwJTIwJTIwJTIwZWlzc24lM0QlMjIxODczLTYwMjUlMjIlMkMlMEElMjAlMjAlMjAlMjByZXNlYXJjaGVyaWQtbnVtYmVycyUzRCUyMlRhbmclMkMlMjBBbnRvbnkvQy0yNDU5LTIwMDklMjIlMkMlMEElMjAlMjAlMjAlMjBvcmNpZC1udW1iZXJzJTNEJTIyVGFuZyUyQyUyMEFudG9ueS8wMDAwLTAwMDItMzU3NC0zOTc3JTIyJTJDJTBBJTIwJTIwJTIwJTIwdW5pcXVlLWlkJTNEJTIySVNJJTNBMDAwMzM1NDg2MzAwMDAyJTIyJTJDJTBBJTIwJTIwJTIwJTIwSUQlM0QlMjJJU0klM0EwMDAzMzU0ODYzMDAwMDIlMjIlMkMlMEElMjAlMjAlMjAlMjB3ZWJvZnNjaWVuY2UyMDE1JTNEJTIyMSUyMiUyQyUwQSUyMCUyMCUyMCUyMHBsYWNleCUzRCUyMklORk9STUFUSU9OJTIwQU5EJTIwU09GVFdBUkUlMjBURUNITk9MT0dZJTIyJTJDJTBBJTI5JTI5JTBBJTI3JTI3JTI3JTI5JTNC\")));\n",
       "    "
      ],
      "text/plain": [
       "<IPython.core.display.Javascript object>"
      ]
     },
     "metadata": {},
     "output_type": "display_data"
    },
    {
     "data": {
      "application/javascript": [
       "$('span:contains(\"# Temp\")').closest('.cell').remove();"
      ],
      "text/plain": [
       "<IPython.core.display.Javascript object>"
      ]
     },
     "metadata": {},
     "output_type": "display_data"
    },
    {
     "data": {
      "application/javascript": [
       "\n",
       "        $('span:contains(\"# Temp\")').closest('.cell').remove();\n",
       "        var code = IPython.notebook.insert_cell_below('code');\n",
       "        code.set_text(decodeURIComponent(window.atob(\"JTIzJTIwVGVtcCUwQWluc2VydCUyOCUyNyUyNyUyNyUwQWRpbmcyMDE0YSUyMCUzRCUyMERCJTI4V29ya1VucmVsYXRlZCUyOCUwQSUyMCUyMCUyMCUyMDIwMTQlMkMlMjAlMjJLbm93bGVkZ2UtYmFzZWQlMjBhcHByb2FjaGVzJTIwaW4lMjBzb2Z0d2FyZSUyMGRvY3VtZW50YXRpb24lM0ElMjBBJTIwc3lzdGVtYXRpYyUyMGxpdGVyYXR1cmUlMjByZXZpZXclMjIlMkMlMEElMjAlMjAlMjAlMjBkaXNwbGF5JTNEJTIyZGluZyUyMiUyQyUwQSUyMCUyMCUyMCUyMGF1dGhvcnMlM0QlMjJEaW5nJTJDJTIwV2VpJTIwYW5kJTIwTGlhbmclMkMlMjBQZW5nJTIwYW5kJTIwVGFuZyUyQyUyMEFudG9ueSUyMGFuZCUyMHZhbiUyMFZsaWV0JTJDJTIwSGFucyUyMiUyQyUwQSUyMCUyMCUyMCUyMHBsYWNlJTNERkFLRSUyQyUwQSUyMCUyMCUyMCUyMHBwJTNEJTIyNTQ1LTU2NyUyMiUyQyUwQSUyMCUyMCUyMCUyMGVudHJ5dHlwZSUzRCUyMmFydGljbGUlMjIlMkMlMEElMjAlMjAlMjAlMjB2b2x1bWUlM0QlMjI1NiUyMiUyQyUwQSUyMCUyMCUyMCUyMG51bWJlciUzRCUyMjYlMjIlMkMlMEElMjAlMjAlMjAlMjBtb250aCUzRCUyMkpVTiUyMiUyQyUwQSUyMCUyMCUyMCUyMGRvaSUzRCUyMjEwLjEwMTYvai5pbmZzb2YuMjAxNC4wMS4wMDglMjIlMkMlMEElMjAlMjAlMjAlMjBpc3NuJTNEJTIyMDk1MC01ODQ5JTIyJTJDJTBBJTIwJTIwJTIwJTIwZWlzc24lM0QlMjIxODczLTYwMjUlMjIlMkMlMEElMjAlMjAlMjAlMjByZXNlYXJjaGVyaWQtbnVtYmVycyUzRCUyMlRhbmclMkMlMjBBbnRvbnkvQy0yNDU5LTIwMDklMjIlMkMlMEElMjAlMjAlMjAlMjBvcmNpZC1udW1iZXJzJTNEJTIyVGFuZyUyQyUyMEFudG9ueS8wMDAwLTAwMDItMzU3NC0zOTc3JTIyJTJDJTBBJTIwJTIwJTIwJTIwdW5pcXVlLWlkJTNEJTIySVNJJTNBMDAwMzM1NDg2MzAwMDAyJTIyJTJDJTBBJTIwJTIwJTIwJTIwSUQlM0QlMjJJU0klM0EwMDAzMzU0ODYzMDAwMDIlMjIlMkMlMEElMjAlMjAlMjAlMjB3ZWJvZnNjaWVuY2UyMDE1JTNEJTIyMSUyMiUyQyUwQSUyMCUyMCUyMCUyMHBsYWNleCUzRCUyMklORk9STUFUSU9OJTIwQU5EJTIwU09GVFdBUkUlMjBURUNITk9MT0dZJTIyJTJDJTBBJTI5JTI5JTBBJTI3JTI3JTI3JTI5JTNC\")));\n",
       "    "
      ],
      "text/plain": [
       "<IPython.core.display.Javascript object>"
      ]
     },
     "metadata": {},
     "output_type": "display_data"
    },
    {
     "data": {
      "application/javascript": [
       "$('span:contains(\"# Temp\")').closest('.cell').remove();"
      ],
      "text/plain": [
       "<IPython.core.display.Javascript object>"
      ]
     },
     "metadata": {},
     "output_type": "display_data"
    },
    {
     "data": {
      "application/javascript": [
       "\n",
       "        $('span:contains(\"# Temp\")').closest('.cell').remove();\n",
       "        var code = IPython.notebook.insert_cell_below('code');\n",
       "        code.set_text(decodeURIComponent(window.atob(\"JTIzJTIwVGVtcCUwQWluc2VydCUyOCUyNyUyNyUyNyUwQSUyMCUyMCUyMCUyMHdlbGxpc2NoMjAwM2ElMjAlM0QlMjBEQiUyOFdvcmtVbnJlbGF0ZWQlMjglMEElMjAlMjAlMjAlMjAlMjAlMjAlMjAlMjAyMDAzJTJDJTIwJTIyTWFwcGluZyUyMG1vZGVybiUyMHNvZnR3YXJlJTIwcHJvY2VzcyUyMGVuZ2luZWVyaW5nJTIwdGVjaG5pcXVlcyUyMG9udG8lMjBhbiUyMEhFUCUyMGRldmVsb3BtZW50JTIwZW52aXJvbm1lbnQlMjIlMkMlMEElMjAlMjAlMjAlMjAlMjAlMjAlMjAlMjBkaXNwbGF5JTNEJTIyd2VsbGlzY2glMjIlMkMlMEElMjAlMjAlMjAlMjAlMjAlMjAlMjAlMjBhdXRob3JzJTNEJTIyV2VsbGlzY2glMkMlMjBKUCUyMiUyQyUwQSUyMCUyMCUyMCUyMCUyMCUyMCUyMCUyMHBsYWNlJTNERkFLRSUyQyUwQSUyMCUyMCUyMCUyMCUyMCUyMCUyMCUyMHBwJTNEJTIyNjg5LTY5MiUyMiUyQyUwQSUyMCUyMCUyMCUyMCUyMCUyMCUyMCUyMGVudHJ5dHlwZSUzRCUyMmFydGljbGUlMjIlMkMlMEElMjAlMjAlMjAlMjAlMjAlMjAlMjAlMjB2b2x1bWUlM0QlMjI1MDIlMjIlMkMlMEElMjAlMjAlMjAlMjAlMjAlMjAlMjAlMjBudW1iZXIlM0QlMjIyLTMlMjIlMkMlMEElMjAlMjAlMjAlMjAlMjAlMjAlMjAlMjBtb250aCUzRCUyMkFQUiUyMDIxJTIyJTJDJTBBJTIwJTIwJTIwJTIwJTIwJTIwJTIwJTIwbm90ZSUzRCUyMjh0aCUyMEludGVybmF0aW9uYWwlMjBXb3Jrc2hvcCUyMG9uJTIwQWR2YW5jZWQlMjBDb21wdXRpbmclMjBhbmQlMjBBbmFseXNpcyUyMFRlY2huaXF1ZXMlMEFpbiUyMFBoeXNpY3MlMjBSZXNlYXJjaCUyMCUyOEFDQVQlMjAyMDAyJTI5JTJDJTIwTU9TQ09XJTJDJTIwUlVTU0lBJTJDJTIwSlVOJTIwMjQtMjglMkMlMjAyMDAyJTIyJTJDJTBBJTIwJTIwJTIwJTIwJTIwJTIwJTIwJTIwZG9pJTNEJTIyMTAuMTAxNi9TMDE2OC05MDAyJTI4MDMlMjkwMDU0NS1YJTIyJTJDJTBBJTIwJTIwJTIwJTIwJTIwJTIwJTIwJTIwaXNzbiUzRCUyMjAxNjgtOTAwMiUyMiUyQyUwQSUyMCUyMCUyMCUyMCUyMCUyMCUyMCUyMHVuaXF1ZS1pZCUzRCUyMklTSSUzQTAwMDE4Mjg5MzQwMDExMCUyMiUyQyUwQSUyMCUyMCUyMCUyMCUyMCUyMCUyMCUyMElEJTNEJTIySVNJJTNBMDAwMTgyODkzNDAwMTEwJTIyJTJDJTBBJTIwJTIwJTIwJTIwJTIwJTIwJTIwJTIwd2Vib2ZzY2llbmNlMjAxNSUzRCUyMjElMjIlMkMlMEElMjAlMjAlMjAlMjAlMjAlMjAlMjAlMjBwbGFjZXglM0QlMjJOVUNMRUFSJTIwSU5TVFJVTUVOVFMlMjAlMjYlMjBNRVRIT0RTJTIwSU4lMjBQSFlTSUNTJTIwUkVTRUFSQ0glMjBTRUNUSU9OJTBBQS1BQ0NFTEVSQVRPUlMlMjBTUEVDVFJPTUVURVJTJTIwREVURUNUT1JTJTIwQU5EJTIwQVNTT0NJQVRFRCUyMEVRVUlQTUVOVCUyMiUyQyUwQSUyMCUyMCUyMCUyMCUyOSUyOSUwQSUyNyUyNyUyNyUyOSUzQg==\")));\n",
       "    "
      ],
      "text/plain": [
       "<IPython.core.display.Javascript object>"
      ]
     },
     "metadata": {},
     "output_type": "display_data"
    },
    {
     "data": {
      "application/javascript": [
       "$('span:contains(\"# Temp\")').closest('.cell').remove();"
      ],
      "text/plain": [
       "<IPython.core.display.Javascript object>"
      ]
     },
     "metadata": {},
     "output_type": "display_data"
    },
    {
     "data": {
      "application/javascript": [
       "\n",
       "        $('span:contains(\"# Temp\")').closest('.cell').remove();\n",
       "        var code = IPython.notebook.insert_cell_below('code');\n",
       "        code.set_text(decodeURIComponent(window.atob(\"JTIzJTIwVGVtcCUwQWluc2VydCUyOCUyNyUyNyUyNyUwQSUyMCUyMCUyMCUyMHdlbGxpc2NoMjAwM2ElMjAlM0QlMjBEQiUyOFdvcmtVbnJlbGF0ZWQlMjglMEElMjAlMjAlMjAlMjAlMjAlMjAlMjAlMjAyMDAzJTJDJTIwJTIyTWFwcGluZyUyMG1vZGVybiUyMHNvZnR3YXJlJTIwcHJvY2VzcyUyMGVuZ2luZWVyaW5nJTIwdGVjaG5pcXVlcyUyMG9udG8lMjBhbiUyMEhFUCUyMGRldmVsb3BtZW50JTIwZW52aXJvbm1lbnQlMjIlMkMlMEElMjAlMjAlMjAlMjAlMjAlMjAlMjAlMjBkaXNwbGF5JTNEJTIyd2VsbGlzY2glMjIlMkMlMEElMjAlMjAlMjAlMjAlMjAlMjAlMjAlMjBhdXRob3JzJTNEJTIyV2VsbGlzY2glMkMlMjBKUCUyMiUyQyUwQSUyMCUyMCUyMCUyMCUyMCUyMCUyMCUyMHBsYWNlJTNERkFLRSUyQyUwQSUyMCUyMCUyMCUyMCUyMCUyMCUyMCUyMHBwJTNEJTIyNjg5LTY5MiUyMiUyQyUwQSUyMCUyMCUyMCUyMCUyMCUyMCUyMCUyMGVudHJ5dHlwZSUzRCUyMmFydGljbGUlMjIlMkMlMEElMjAlMjAlMjAlMjAlMjAlMjAlMjAlMjB2b2x1bWUlM0QlMjI1MDIlMjIlMkMlMEElMjAlMjAlMjAlMjAlMjAlMjAlMjAlMjBudW1iZXIlM0QlMjIyLTMlMjIlMkMlMEElMjAlMjAlMjAlMjAlMjAlMjAlMjAlMjBtb250aCUzRCUyMkFQUiUyMDIxJTIyJTJDJTBBJTIwJTIwJTIwJTIwJTIwJTIwJTIwJTIwbm90ZSUzRCUyMjh0aCUyMEludGVybmF0aW9uYWwlMjBXb3Jrc2hvcCUyMG9uJTIwQWR2YW5jZWQlMjBDb21wdXRpbmclMjBhbmQlMjBBbmFseXNpcyUyMFRlY2huaXF1ZXMlMEFpbiUyMFBoeXNpY3MlMjBSZXNlYXJjaCUyMCUyOEFDQVQlMjAyMDAyJTI5JTJDJTIwTU9TQ09XJTJDJTIwUlVTU0lBJTJDJTIwSlVOJTIwMjQtMjglMkMlMjAyMDAyJTIyJTJDJTBBJTIwJTIwJTIwJTIwJTIwJTIwJTIwJTIwZG9pJTNEJTIyMTAuMTAxNi9TMDE2OC05MDAyJTI4MDMlMjkwMDU0NS1YJTIyJTJDJTBBJTIwJTIwJTIwJTIwJTIwJTIwJTIwJTIwaXNzbiUzRCUyMjAxNjgtOTAwMiUyMiUyQyUwQSUyMCUyMCUyMCUyMCUyMCUyMCUyMCUyMHVuaXF1ZS1pZCUzRCUyMklTSSUzQTAwMDE4Mjg5MzQwMDExMCUyMiUyQyUwQSUyMCUyMCUyMCUyMCUyMCUyMCUyMCUyMElEJTNEJTIySVNJJTNBMDAwMTgyODkzNDAwMTEwJTIyJTJDJTBBJTIwJTIwJTIwJTIwJTIwJTIwJTIwJTIwd2Vib2ZzY2llbmNlMjAxNSUzRCUyMjElMjIlMkMlMEElMjAlMjAlMjAlMjAlMjAlMjAlMjAlMjBwbGFjZXglM0QlMjJOVUNMRUFSJTIwSU5TVFJVTUVOVFMlMjAlMjYlMjBNRVRIT0RTJTIwSU4lMjBQSFlTSUNTJTIwUkVTRUFSQ0glMjBTRUNUSU9OJTBBQS1BQ0NFTEVSQVRPUlMlMjBTUEVDVFJPTUVURVJTJTIwREVURUNUT1JTJTIwQU5EJTIwQVNTT0NJQVRFRCUyMEVRVUlQTUVOVCUyMiUyQyUwQSUyMCUyMCUyMCUyMCUyOSUyOSUwQSUyNyUyNyUyNyUyOSUzQg==\")));\n",
       "    "
      ],
      "text/plain": [
       "<IPython.core.display.Javascript object>"
      ]
     },
     "metadata": {},
     "output_type": "display_data"
    },
    {
     "data": {
      "application/javascript": [
       "$('span:contains(\"# Temp\")').closest('.cell').remove();"
      ],
      "text/plain": [
       "<IPython.core.display.Javascript object>"
      ]
     },
     "metadata": {},
     "output_type": "display_data"
    },
    {
     "data": {
      "application/javascript": [
       "\n",
       "        $('span:contains(\"# Temp\")').closest('.cell').remove();\n",
       "        var code = IPython.notebook.insert_cell_below('code');\n",
       "        code.set_text(decodeURIComponent(window.atob(\"JTIzJTIwVGVtcCUwQWluc2VydCUyOCUyNyUyNyUyNyUwQSUyMCUyMCUyMCUyMHBldGVyc2VuMjAxMWIlMjAlM0QlMjBEQiUyOFdvcmtVbnJlbGF0ZWQlMjglMEElMjAlMjAlMjAlMjAlMjAlMjAlMjAlMjAyMDExJTJDJTIwJTIyTWVhc3VyaW5nJTIwYW5kJTIwcHJlZGljdGluZyUyMHNvZnR3YXJlJTIwcHJvZHVjdGl2aXR5JTNBJTIwQSUyMHN5c3RlbWF0aWMlMjBtYXAlMjBhbmQlMEFyZXZpZXclMjIlMkMlMEElMjAlMjAlMjAlMjAlMjAlMjAlMjAlMjBkaXNwbGF5JTNEJTIycGV0ZXJzZW4lMjBiJTIyJTJDJTBBJTIwJTIwJTIwJTIwJTIwJTIwJTIwJTIwYXV0aG9ycyUzRCUyMlBldGVyc2VuJTJDJTIwS2FpJTIyJTJDJTBBJTIwJTIwJTIwJTIwJTIwJTIwJTIwJTIwcGxhY2UlM0RGQUtFJTJDJTBBJTIwJTIwJTIwJTIwJTIwJTIwJTIwJTIwcHAlM0QlMjIzMTctMzQzJTIyJTJDJTBBJTIwJTIwJTIwJTIwJTIwJTIwJTIwJTIwZW50cnl0eXBlJTNEJTIyYXJ0aWNsZSUyMiUyQyUwQSUyMCUyMCUyMCUyMCUyMCUyMCUyMCUyMHZvbHVtZSUzRCUyMjUzJTIyJTJDJTBBJTIwJTIwJTIwJTIwJTIwJTIwJTIwJTIwbnVtYmVyJTNEJTIyNCUyQyUyMFNJJTIyJTJDJTBBJTIwJTIwJTIwJTIwJTIwJTIwJTIwJTIwbW9udGglM0QlMjJBUFIlMjIlMkMlMEElMjAlMjAlMjAlMjAlMjAlMjAlMjAlMjBkb2klM0QlMjIxMC4xMDE2L2ouaW5mc29mLjIwMTAuMTIuMDAxJTIyJTJDJTBBJTIwJTIwJTIwJTIwJTIwJTIwJTIwJTIwaXNzbiUzRCUyMjA5NTAtNTg0OSUyMiUyQyUwQSUyMCUyMCUyMCUyMCUyMCUyMCUyMCUyMGVpc3NuJTNEJTIyMTg3My02MDI1JTIyJTJDJTBBJTIwJTIwJTIwJTIwJTIwJTIwJTIwJTIwdW5pcXVlLWlkJTNEJTIySVNJJTNBMDAwMjg4NzMyNzAwMDA0JTIyJTJDJTBBJTIwJTIwJTIwJTIwJTIwJTIwJTIwJTIwSUQlM0QlMjJJU0klM0EwMDAyODg3MzI3MDAwMDQlMjIlMkMlMEElMjAlMjAlMjAlMjAlMjAlMjAlMjAlMjB3ZWJvZnNjaWVuY2UyMDE1JTNEJTIyMSUyMiUyQyUwQSUyMCUyMCUyMCUyMCUyMCUyMCUyMCUyMHBsYWNleCUzRCUyMklORk9STUFUSU9OJTIwQU5EJTIwU09GVFdBUkUlMjBURUNITk9MT0dZJTIyJTJDJTBBJTIwJTIwJTIwJTIwJTI5JTI5JTBBJTI3JTI3JTI3JTI5JTNC\")));\n",
       "    "
      ],
      "text/plain": [
       "<IPython.core.display.Javascript object>"
      ]
     },
     "metadata": {},
     "output_type": "display_data"
    },
    {
     "data": {
      "application/javascript": [
       "$('span:contains(\"# Temp\")').closest('.cell').remove();"
      ],
      "text/plain": [
       "<IPython.core.display.Javascript object>"
      ]
     },
     "metadata": {},
     "output_type": "display_data"
    },
    {
     "data": {
      "application/javascript": [
       "\n",
       "        $('span:contains(\"# Temp\")').closest('.cell').remove();\n",
       "        var code = IPython.notebook.insert_cell_below('code');\n",
       "        code.set_text(decodeURIComponent(window.atob(\"JTIzJTIwVGVtcCUwQWluc2VydCUyOCUyNyUyNyUyNyUwQSUyMCUyMCUyMCUyMHBldGVyc2VuMjAxMWIlMjAlM0QlMjBEQiUyOFdvcmtVbnJlbGF0ZWQlMjglMEElMjAlMjAlMjAlMjAlMjAlMjAlMjAlMjAyMDExJTJDJTIwJTIyTWVhc3VyaW5nJTIwYW5kJTIwcHJlZGljdGluZyUyMHNvZnR3YXJlJTIwcHJvZHVjdGl2aXR5JTNBJTIwQSUyMHN5c3RlbWF0aWMlMjBtYXAlMjBhbmQlMEFyZXZpZXclMjIlMkMlMEElMjAlMjAlMjAlMjAlMjAlMjAlMjAlMjBkaXNwbGF5JTNEJTIycGV0ZXJzZW4lMjBiJTIyJTJDJTBBJTIwJTIwJTIwJTIwJTIwJTIwJTIwJTIwYXV0aG9ycyUzRCUyMlBldGVyc2VuJTJDJTIwS2FpJTIyJTJDJTBBJTIwJTIwJTIwJTIwJTIwJTIwJTIwJTIwcGxhY2UlM0RGQUtFJTJDJTBBJTIwJTIwJTIwJTIwJTIwJTIwJTIwJTIwcHAlM0QlMjIzMTctMzQzJTIyJTJDJTBBJTIwJTIwJTIwJTIwJTIwJTIwJTIwJTIwZW50cnl0eXBlJTNEJTIyYXJ0aWNsZSUyMiUyQyUwQSUyMCUyMCUyMCUyMCUyMCUyMCUyMCUyMHZvbHVtZSUzRCUyMjUzJTIyJTJDJTBBJTIwJTIwJTIwJTIwJTIwJTIwJTIwJTIwbnVtYmVyJTNEJTIyNCUyQyUyMFNJJTIyJTJDJTBBJTIwJTIwJTIwJTIwJTIwJTIwJTIwJTIwbW9udGglM0QlMjJBUFIlMjIlMkMlMEElMjAlMjAlMjAlMjAlMjAlMjAlMjAlMjBkb2klM0QlMjIxMC4xMDE2L2ouaW5mc29mLjIwMTAuMTIuMDAxJTIyJTJDJTBBJTIwJTIwJTIwJTIwJTIwJTIwJTIwJTIwaXNzbiUzRCUyMjA5NTAtNTg0OSUyMiUyQyUwQSUyMCUyMCUyMCUyMCUyMCUyMCUyMCUyMGVpc3NuJTNEJTIyMTg3My02MDI1JTIyJTJDJTBBJTIwJTIwJTIwJTIwJTIwJTIwJTIwJTIwdW5pcXVlLWlkJTNEJTIySVNJJTNBMDAwMjg4NzMyNzAwMDA0JTIyJTJDJTBBJTIwJTIwJTIwJTIwJTIwJTIwJTIwJTIwSUQlM0QlMjJJU0klM0EwMDAyODg3MzI3MDAwMDQlMjIlMkMlMEElMjAlMjAlMjAlMjAlMjAlMjAlMjAlMjB3ZWJvZnNjaWVuY2UyMDE1JTNEJTIyMSUyMiUyQyUwQSUyMCUyMCUyMCUyMCUyMCUyMCUyMCUyMHBsYWNleCUzRCUyMklORk9STUFUSU9OJTIwQU5EJTIwU09GVFdBUkUlMjBURUNITk9MT0dZJTIyJTJDJTBBJTIwJTIwJTIwJTIwJTI5JTI5JTBBJTI3JTI3JTI3JTI5JTNC\")));\n",
       "    "
      ],
      "text/plain": [
       "<IPython.core.display.Javascript object>"
      ]
     },
     "metadata": {},
     "output_type": "display_data"
    },
    {
     "data": {
      "application/javascript": [
       "$('span:contains(\"# Temp\")').closest('.cell').remove();"
      ],
      "text/plain": [
       "<IPython.core.display.Javascript object>"
      ]
     },
     "metadata": {},
     "output_type": "display_data"
    },
    {
     "data": {
      "application/javascript": [
       "\n",
       "        $('span:contains(\"# Temp\")').closest('.cell').remove();\n",
       "        var code = IPython.notebook.insert_cell_below('code');\n",
       "        code.set_text(decodeURIComponent(window.atob(\"JTIzJTIwVGVtcCUwQWluc2VydCUyOCUyNyUyNyUyNyUwQSUyMCUyMCUyMCUyMGJhZGRvbzIwMDJhJTIwJTNEJTIwREIlMjhXb3JrVW5yZWxhdGVkJTI4JTBBJTIwJTIwJTIwJTIwJTIwJTIwJTIwJTIwMjAwMiUyQyUyMCUyMk1vdGl2YXRvcnMlMjBvZiUyMFNvZnR3YXJlJTIwUHJvY2VzcyUyMEltcHJvdmVtZW50JTNBJTIwYW4lMjBhbmFseXNpcyUyMG9mJTBBcHJhY3RpdGlvbmVycyUyNyUyMHZpZXdzJTIyJTJDJTBBJTIwJTIwJTIwJTIwJTIwJTIwJTIwJTIwZGlzcGxheSUzRCUyMmJhZGRvbyUyMiUyQyUwQSUyMCUyMCUyMCUyMCUyMCUyMCUyMCUyMGF1dGhvcnMlM0QlMjJCYWRkb28lMkMlMjBOJTIwYW5kJTIwSGFsbCUyQyUyMFQlMjIlMkMlMEElMjAlMjAlMjAlMjAlMjAlMjAlMjAlMjBwbGFjZSUzREZBS0UlMkMlMEElMjAlMjAlMjAlMjAlMjAlMjAlMjAlMjBwcCUzRCUyMjg1LTk2JTIyJTJDJTBBJTIwJTIwJTIwJTIwJTIwJTIwJTIwJTIwZW50cnl0eXBlJTNEJTIyYXJ0aWNsZSUyMiUyQyUwQSUyMCUyMCUyMCUyMCUyMCUyMCUyMCUyMHZvbHVtZSUzRCUyMjYyJTIyJTJDJTBBJTIwJTIwJTIwJTIwJTIwJTIwJTIwJTIwbnVtYmVyJTNEJTIyMiUyMiUyQyUwQSUyMCUyMCUyMCUyMCUyMCUyMCUyMCUyMG1vbnRoJTNEJTIyTUFZJTIwMTUlMjIlMkMlMEElMjAlMjAlMjAlMjAlMjAlMjAlMjAlMjBkb2klM0QlMjIxMC4xMDE2L1MwMTY0LTEyMTIlMjgwMSUyOTAwMTI1LVglMjIlMkMlMEElMjAlMjAlMjAlMjAlMjAlMjAlMjAlMjBhcnRpY2xlLW51bWJlciUzRCUyMlBJSSUyMFMwMTY0LTEyMTIlMjgwMSUyOTAwMTI1LVglMjIlMkMlMEElMjAlMjAlMjAlMjAlMjAlMjAlMjAlMjBpc3NuJTNEJTIyMDE2NC0xMjEyJTIyJTJDJTBBJTIwJTIwJTIwJTIwJTIwJTIwJTIwJTIwb3JjaWQtbnVtYmVycyUzRCUyMkhhbGwlMkMlMjBUcmFjeS8wMDAwLTAwMDItMjcyOC05MDE0JTIyJTJDJTBBJTIwJTIwJTIwJTIwJTIwJTIwJTIwJTIwdW5pcXVlLWlkJTNEJTIySVNJJTNBMDAwMTc2MjExMDAwMDAyJTIyJTJDJTBBJTIwJTIwJTIwJTIwJTIwJTIwJTIwJTIwSUQlM0QlMjJJU0klM0EwMDAxNzYyMTEwMDAwMDIlMjIlMkMlMEElMjAlMjAlMjAlMjAlMjAlMjAlMjAlMjB3ZWJvZnNjaWVuY2UyMDE1JTNEJTIyMSUyMiUyQyUwQSUyMCUyMCUyMCUyMCUyMCUyMCUyMCUyMHBsYWNleCUzRCUyMkpPVVJOQUwlMjBPRiUyMFNZU1RFTVMlMjBBTkQlMjBTT0ZUV0FSRSUyMiUyQyUwQSUyMCUyMCUyMCUyMCUyOSUyOSUwQSUyNyUyNyUyNyUyOSUzQg==\")));\n",
       "    "
      ],
      "text/plain": [
       "<IPython.core.display.Javascript object>"
      ]
     },
     "metadata": {},
     "output_type": "display_data"
    },
    {
     "data": {
      "application/javascript": [
       "$('span:contains(\"# Temp\")').closest('.cell').remove();"
      ],
      "text/plain": [
       "<IPython.core.display.Javascript object>"
      ]
     },
     "metadata": {},
     "output_type": "display_data"
    },
    {
     "data": {
      "application/javascript": [
       "\n",
       "        $('span:contains(\"# Temp\")').closest('.cell').remove();\n",
       "        var code = IPython.notebook.insert_cell_below('code');\n",
       "        code.set_text(decodeURIComponent(window.atob(\"JTIzJTIwVGVtcCUwQWluc2VydCUyOCUyNyUyNyUyNyUwQSUyMCUyMCUyMCUyMGJhZGRvbzIwMDJhJTIwJTNEJTIwREIlMjhXb3JrVW5yZWxhdGVkJTI4JTBBJTIwJTIwJTIwJTIwJTIwJTIwJTIwJTIwMjAwMiUyQyUyMCUyMk1vdGl2YXRvcnMlMjBvZiUyMFNvZnR3YXJlJTIwUHJvY2VzcyUyMEltcHJvdmVtZW50JTNBJTIwYW4lMjBhbmFseXNpcyUyMG9mJTBBcHJhY3RpdGlvbmVycyUyNyUyMHZpZXdzJTIyJTJDJTBBJTIwJTIwJTIwJTIwJTIwJTIwJTIwJTIwZGlzcGxheSUzRCUyMmJhZGRvbyUyMiUyQyUwQSUyMCUyMCUyMCUyMCUyMCUyMCUyMCUyMGF1dGhvcnMlM0QlMjJCYWRkb28lMkMlMjBOJTIwYW5kJTIwSGFsbCUyQyUyMFQlMjIlMkMlMEElMjAlMjAlMjAlMjAlMjAlMjAlMjAlMjBwbGFjZSUzREZBS0UlMkMlMEElMjAlMjAlMjAlMjAlMjAlMjAlMjAlMjBwcCUzRCUyMjg1LTk2JTIyJTJDJTBBJTIwJTIwJTIwJTIwJTIwJTIwJTIwJTIwZW50cnl0eXBlJTNEJTIyYXJ0aWNsZSUyMiUyQyUwQSUyMCUyMCUyMCUyMCUyMCUyMCUyMCUyMHZvbHVtZSUzRCUyMjYyJTIyJTJDJTBBJTIwJTIwJTIwJTIwJTIwJTIwJTIwJTIwbnVtYmVyJTNEJTIyMiUyMiUyQyUwQSUyMCUyMCUyMCUyMCUyMCUyMCUyMCUyMG1vbnRoJTNEJTIyTUFZJTIwMTUlMjIlMkMlMEElMjAlMjAlMjAlMjAlMjAlMjAlMjAlMjBkb2klM0QlMjIxMC4xMDE2L1MwMTY0LTEyMTIlMjgwMSUyOTAwMTI1LVglMjIlMkMlMEElMjAlMjAlMjAlMjAlMjAlMjAlMjAlMjBhcnRpY2xlLW51bWJlciUzRCUyMlBJSSUyMFMwMTY0LTEyMTIlMjgwMSUyOTAwMTI1LVglMjIlMkMlMEElMjAlMjAlMjAlMjAlMjAlMjAlMjAlMjBpc3NuJTNEJTIyMDE2NC0xMjEyJTIyJTJDJTBBJTIwJTIwJTIwJTIwJTIwJTIwJTIwJTIwb3JjaWQtbnVtYmVycyUzRCUyMkhhbGwlMkMlMjBUcmFjeS8wMDAwLTAwMDItMjcyOC05MDE0JTIyJTJDJTBBJTIwJTIwJTIwJTIwJTIwJTIwJTIwJTIwdW5pcXVlLWlkJTNEJTIySVNJJTNBMDAwMTc2MjExMDAwMDAyJTIyJTJDJTBBJTIwJTIwJTIwJTIwJTIwJTIwJTIwJTIwSUQlM0QlMjJJU0klM0EwMDAxNzYyMTEwMDAwMDIlMjIlMkMlMEElMjAlMjAlMjAlMjAlMjAlMjAlMjAlMjB3ZWJvZnNjaWVuY2UyMDE1JTNEJTIyMSUyMiUyQyUwQSUyMCUyMCUyMCUyMCUyMCUyMCUyMCUyMHBsYWNleCUzRCUyMkpPVVJOQUwlMjBPRiUyMFNZU1RFTVMlMjBBTkQlMjBTT0ZUV0FSRSUyMiUyQyUwQSUyMCUyMCUyMCUyMCUyOSUyOSUwQSUyNyUyNyUyNyUyOSUzQg==\")));\n",
       "    "
      ],
      "text/plain": [
       "<IPython.core.display.Javascript object>"
      ]
     },
     "metadata": {},
     "output_type": "display_data"
    },
    {
     "data": {
      "application/javascript": [
       "$('span:contains(\"# Temp\")').closest('.cell').remove();"
      ],
      "text/plain": [
       "<IPython.core.display.Javascript object>"
      ]
     },
     "metadata": {},
     "output_type": "display_data"
    },
    {
     "data": {
      "application/javascript": [
       "\n",
       "        $('span:contains(\"# Temp\")').closest('.cell').remove();\n",
       "        var code = IPython.notebook.insert_cell_below('code');\n",
       "        code.set_text(decodeURIComponent(window.atob(\"JTIzJTIwVGVtcCUwQWluc2VydCUyOCUyNyUyNyUyNyUwQSUyMCUyMCUyMCUyMHdvaGxpbjIwMTNhJTIwJTNEJTIwREIlMjhXb3JrVW5yZWxhdGVkJTI4JTBBJTIwJTIwJTIwJTIwJTIwJTIwJTIwJTIwMjAxMyUyQyUyMCUyMk9uJTIwdGhlJTIwcmVsaWFiaWxpdHklMjBvZiUyMG1hcHBpbmclMjBzdHVkaWVzJTIwaW4lMjBzb2Z0d2FyZSUyMGVuZ2luZWVyaW5nJTIyJTJDJTBBJTIwJTIwJTIwJTIwJTIwJTIwJTIwJTIwZGlzcGxheSUzRCUyMndvaGxpbiUyMiUyQyUwQSUyMCUyMCUyMCUyMCUyMCUyMCUyMCUyMGF1dGhvcnMlM0QlMjJXb2hsaW4lMkMlMjBDbGFlcyUyMGFuZCUyMFJ1bmVzb24lMkMlMjBQZXIlMjBhbmQlMjBkYSUyME1vdGElMjBTaWx2ZWlyYSUyME5ldG8lMkMlMjBQYXVsbyUyMEFuc2VsbW8lMEFhbmQlMjBFbmdzdHJvbSUyQyUyMEVtZWxpZSUyMGFuZCUyME1hY2hhZG8lMkMlMjBJdmFuJTIwZG8lMjBDYXJtbyUyMGFuZCUyMGRlJTIwQWxtZWlkYSUyQyUyMEVkdWFyZG8lMEFTYW50YW5hJTIyJTJDJTBBJTIwJTIwJTIwJTIwJTIwJTIwJTIwJTIwcGxhY2UlM0RGQUtFJTJDJTBBJTIwJTIwJTIwJTIwJTIwJTIwJTIwJTIwcHAlM0QlMjIyNTk0LTI2MTAlMjIlMkMlMEElMjAlMjAlMjAlMjAlMjAlMjAlMjAlMjBlbnRyeXR5cGUlM0QlMjJhcnRpY2xlJTIyJTJDJTBBJTIwJTIwJTIwJTIwJTIwJTIwJTIwJTIwdm9sdW1lJTNEJTIyODYlMjIlMkMlMEElMjAlMjAlMjAlMjAlMjAlMjAlMjAlMjBudW1iZXIlM0QlMjIxMCUyMiUyQyUwQSUyMCUyMCUyMCUyMCUyMCUyMCUyMCUyMG1vbnRoJTNEJTIyT0NUJTIyJTJDJTBBJTIwJTIwJTIwJTIwJTIwJTIwJTIwJTIwZG9pJTNEJTIyMTAuMTAxNi9qLmpzcy4yMDEzLjA0LjA3NiUyMiUyQyUwQSUyMCUyMCUyMCUyMCUyMCUyMCUyMCUyMGlzc24lM0QlMjIwMTY0LTEyMTIlMjIlMkMlMEElMjAlMjAlMjAlMjAlMjAlMjAlMjAlMjBlaXNzbiUzRCUyMjE4NzMtMTIyOCUyMiUyQyUwQSUyMCUyMCUyMCUyMCUyMCUyMCUyMCUyMHJlc2VhcmNoZXJpZC1udW1iZXJzJTNEJTIyTWFjaGFkbyUyQyUyMEl2YW4vRS03MjI4LTIwMTMlMEElMjIlMkMlMEElMjAlMjAlMjAlMjAlMjAlMjAlMjAlMjBvcmNpZC1udW1iZXJzJTNEJTIyTWFjaGFkbyUyQyUyMEl2YW4vMDAwMC0wMDAxLTkwMjctMjI5MyUwQVdvaGxpbiUyQyUyMENsYWVzLzAwMDAtMDAwMy0wNDYwLTUyNTMlMEFSdW5lc29uJTJDJTIwUGVyLzAwMDAtMDAwMy0yNzk1LTQ4NTElMjIlMkMlMEElMjAlMjAlMjAlMjAlMjAlMjAlMjAlMjB1bmlxdWUtaWQlM0QlMjJJU0klM0EwMDAzMjQ1NjQxMDAwMDklMjIlMkMlMEElMjAlMjAlMjAlMjAlMjAlMjAlMjAlMjBJRCUzRCUyMklTSSUzQTAwMDMyNDU2NDEwMDAwOSUyMiUyQyUwQSUyMCUyMCUyMCUyMCUyMCUyMCUyMCUyMHdlYm9mc2NpZW5jZTIwMTUlM0QlMjIxJTIyJTJDJTBBJTIwJTIwJTIwJTIwJTIwJTIwJTIwJTIwcGxhY2V4JTNEJTIySk9VUk5BTCUyME9GJTIwU1lTVEVNUyUyMEFORCUyMFNPRlRXQVJFJTIyJTJDJTBBJTIwJTIwJTIwJTIwJTI5JTI5JTBBJTI3JTI3JTI3JTI5JTNC\")));\n",
       "    "
      ],
      "text/plain": [
       "<IPython.core.display.Javascript object>"
      ]
     },
     "metadata": {},
     "output_type": "display_data"
    },
    {
     "data": {
      "application/javascript": [
       "$('span:contains(\"# Temp\")').closest('.cell').remove();"
      ],
      "text/plain": [
       "<IPython.core.display.Javascript object>"
      ]
     },
     "metadata": {},
     "output_type": "display_data"
    },
    {
     "data": {
      "application/javascript": [
       "\n",
       "        $('span:contains(\"# Temp\")').closest('.cell').remove();\n",
       "        var code = IPython.notebook.insert_cell_below('code');\n",
       "        code.set_text(decodeURIComponent(window.atob(\"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\")));\n",
       "    "
      ],
      "text/plain": [
       "<IPython.core.display.Javascript object>"
      ]
     },
     "metadata": {},
     "output_type": "display_data"
    },
    {
     "data": {
      "application/javascript": [
       "$('span:contains(\"# Temp\")').closest('.cell').remove();"
      ],
      "text/plain": [
       "<IPython.core.display.Javascript object>"
      ]
     },
     "metadata": {},
     "output_type": "display_data"
    },
    {
     "data": {
      "application/javascript": [
       "\n",
       "        $('span:contains(\"# Temp\")').closest('.cell').remove();\n",
       "        var code = IPython.notebook.insert_cell_below('code');\n",
       "        code.set_text(decodeURIComponent(window.atob(\"JTIzJTIwVGVtcCUwQWluc2VydCUyOCUyNyUyNyUyNyUwQWZ1Z2dldHRhMjAwM2ElMjAlM0QlMjBEQiUyOFdvcmtVbnJlbGF0ZWQlMjglMEElMjAlMjAlMjAlMjAyMDAzJTJDJTIwJTIyT3BlbiUyMHNvdXJjZSUyMHNvZnR3YXJlJTIwLSUyMGFuJTIwZXZhbHVhdGlvbiUyMiUyQyUwQSUyMCUyMCUyMCUyMGRpc3BsYXklM0QlMjJmdWdnZXR0YSUyMiUyQyUwQSUyMCUyMCUyMCUyMGF1dGhvcnMlM0QlMjJGdWdnZXR0YSUyQyUyMEElMjIlMkMlMEElMjAlMjAlMjAlMjBwbGFjZSUzREZBS0UlMkMlMEElMjAlMjAlMjAlMjBwcCUzRCUyMjc3LTkwJTIyJTJDJTBBJTIwJTIwJTIwJTIwZW50cnl0eXBlJTNEJTIyYXJ0aWNsZSUyMiUyQyUwQSUyMCUyMCUyMCUyMHZvbHVtZSUzRCUyMjY2JTIyJTJDJTBBJTIwJTIwJTIwJTIwbnVtYmVyJTNEJTIyMSUyMiUyQyUwQSUyMCUyMCUyMCUyMG1vbnRoJTNEJTIyQVBSJTIwMTUlMjIlMkMlMEElMjAlMjAlMjAlMjBkb2klM0QlMjIxMC4xMDE2L1MwMTY0LTEyMTIlMjgwMiUyOTAwMDY1LTElMjIlMkMlMEElMjAlMjAlMjAlMjBpc3NuJTNEJTIyMDE2NC0xMjEyJTIyJTJDJTBBJTIwJTIwJTIwJTIwdW5pcXVlLWlkJTNEJTIySVNJJTNBMDAwMTgzNTA1NDAwMDA4JTIyJTJDJTBBJTIwJTIwJTIwJTIwSUQlM0QlMjJJU0klM0EwMDAxODM1MDU0MDAwMDglMjIlMkMlMEElMjAlMjAlMjAlMjB3ZWJvZnNjaWVuY2UyMDE1JTNEJTIyMSUyMiUyQyUwQSUyMCUyMCUyMCUyMHBsYWNleCUzRCUyMkpPVVJOQUwlMjBPRiUyMFNZU1RFTVMlMjBBTkQlMjBTT0ZUV0FSRSUyMiUyQyUwQSUyOSUyOSUwQSUyNyUyNyUyNyUyOSUzQg==\")));\n",
       "    "
      ],
      "text/plain": [
       "<IPython.core.display.Javascript object>"
      ]
     },
     "metadata": {},
     "output_type": "display_data"
    },
    {
     "data": {
      "application/javascript": [
       "$('span:contains(\"# Temp\")').closest('.cell').remove();"
      ],
      "text/plain": [
       "<IPython.core.display.Javascript object>"
      ]
     },
     "metadata": {},
     "output_type": "display_data"
    },
    {
     "data": {
      "application/javascript": [
       "\n",
       "        $('span:contains(\"# Temp\")').closest('.cell').remove();\n",
       "        var code = IPython.notebook.insert_cell_below('code');\n",
       "        code.set_text(decodeURIComponent(window.atob(\"JTIzJTIwVGVtcCUwQWluc2VydCUyOCUyNyUyNyUyNyUwQWZ1Z2dldHRhMjAwM2ElMjAlM0QlMjBEQiUyOFdvcmtVbnJlbGF0ZWQlMjglMEElMjAlMjAlMjAlMjAyMDAzJTJDJTIwJTIyT3BlbiUyMHNvdXJjZSUyMHNvZnR3YXJlJTIwLSUyMGFuJTIwZXZhbHVhdGlvbiUyMiUyQyUwQSUyMCUyMCUyMCUyMGRpc3BsYXklM0QlMjJmdWdnZXR0YSUyMiUyQyUwQSUyMCUyMCUyMCUyMGF1dGhvcnMlM0QlMjJGdWdnZXR0YSUyQyUyMEElMjIlMkMlMEElMjAlMjAlMjAlMjBwbGFjZSUzREZBS0UlMkMlMEElMjAlMjAlMjAlMjBwcCUzRCUyMjc3LTkwJTIyJTJDJTBBJTIwJTIwJTIwJTIwZW50cnl0eXBlJTNEJTIyYXJ0aWNsZSUyMiUyQyUwQSUyMCUyMCUyMCUyMHZvbHVtZSUzRCUyMjY2JTIyJTJDJTBBJTIwJTIwJTIwJTIwbnVtYmVyJTNEJTIyMSUyMiUyQyUwQSUyMCUyMCUyMCUyMG1vbnRoJTNEJTIyQVBSJTIwMTUlMjIlMkMlMEElMjAlMjAlMjAlMjBkb2klM0QlMjIxMC4xMDE2L1MwMTY0LTEyMTIlMjgwMiUyOTAwMDY1LTElMjIlMkMlMEElMjAlMjAlMjAlMjBpc3NuJTNEJTIyMDE2NC0xMjEyJTIyJTJDJTBBJTIwJTIwJTIwJTIwdW5pcXVlLWlkJTNEJTIySVNJJTNBMDAwMTgzNTA1NDAwMDA4JTIyJTJDJTBBJTIwJTIwJTIwJTIwSUQlM0QlMjJJU0klM0EwMDAxODM1MDU0MDAwMDglMjIlMkMlMEElMjAlMjAlMjAlMjB3ZWJvZnNjaWVuY2UyMDE1JTNEJTIyMSUyMiUyQyUwQSUyMCUyMCUyMCUyMHBsYWNleCUzRCUyMkpPVVJOQUwlMjBPRiUyMFNZU1RFTVMlMjBBTkQlMjBTT0ZUV0FSRSUyMiUyQyUwQSUyOSUyOSUwQSUyNyUyNyUyNyUyOSUzQg==\")));\n",
       "    "
      ],
      "text/plain": [
       "<IPython.core.display.Javascript object>"
      ]
     },
     "metadata": {},
     "output_type": "display_data"
    },
    {
     "data": {
      "application/javascript": [
       "$('span:contains(\"# Temp\")').closest('.cell').remove();"
      ],
      "text/plain": [
       "<IPython.core.display.Javascript object>"
      ]
     },
     "metadata": {},
     "output_type": "display_data"
    },
    {
     "data": {
      "application/javascript": [
       "\n",
       "        $('span:contains(\"# Temp\")').closest('.cell').remove();\n",
       "        var code = IPython.notebook.insert_cell_below('code');\n",
       "        code.set_text(decodeURIComponent(window.atob(\"JTIzJTIwVGVtcCUwQWluc2VydCUyOCUyNyUyNyUyNyUwQWxpMjAxMGElMjAlM0QlMjBEQiUyOFdvcmtVbnJlbGF0ZWQlMjglMEElMjAlMjAlMjAlMjAyMDEwJTJDJTIwJTIyUGVydHVyYmF0aW9uLWJhc2VkJTIwdXNlci1pbnB1dC12YWxpZGF0aW9uJTIwdGVzdGluZyUyMG9mJTIwd2ViJTIwYXBwbGljYXRpb25zJTIyJTJDJTBBJTIwJTIwJTIwJTIwZGlzcGxheSUzRCUyMmxpJTIyJTJDJTBBJTIwJTIwJTIwJTIwYXV0aG9ycyUzRCUyMkxpJTJDJTIwTnVvJTIwYW5kJTIwWGllJTJDJTIwVGFvJTIwYW5kJTIwSmluJTJDJTIwTWFvemhvbmclMjBhbmQlMjBMaXUlMkMlMjBDaGFvJTIyJTJDJTBBJTIwJTIwJTIwJTIwcGxhY2UlM0RGQUtFJTJDJTBBJTIwJTIwJTIwJTIwcHAlM0QlMjIyMjYzLTIyNzQlMjIlMkMlMEElMjAlMjAlMjAlMjBlbnRyeXR5cGUlM0QlMjJhcnRpY2xlJTIyJTJDJTBBJTIwJTIwJTIwJTIwdm9sdW1lJTNEJTIyODMlMjIlMkMlMEElMjAlMjAlMjAlMjBudW1iZXIlM0QlMjIxMSUyQyUyMFNJJTIyJTJDJTBBJTIwJTIwJTIwJTIwbW9udGglM0QlMjJOT1YlMjIlMkMlMEElMjAlMjAlMjAlMjBkb2klM0QlMjIxMC4xMDE2L2ouanNzLjIwMTAuMDcuMDA3JTIyJTJDJTBBJTIwJTIwJTIwJTIwaXNzbiUzRCUyMjAxNjQtMTIxMiUyMiUyQyUwQSUyMCUyMCUyMCUyMHVuaXF1ZS1pZCUzRCUyMklTSSUzQTAwMDI4MzY0MTYwMDAyMCUyMiUyQyUwQSUyMCUyMCUyMCUyMElEJTNEJTIySVNJJTNBMDAwMjgzNjQxNjAwMDIwJTIyJTJDJTBBJTIwJTIwJTIwJTIwd2Vib2ZzY2llbmNlMjAxNSUzRCUyMjElMjIlMkMlMEElMjAlMjAlMjAlMjBwbGFjZXglM0QlMjJKT1VSTkFMJTIwT0YlMjBTWVNURU1TJTIwQU5EJTIwU09GVFdBUkUlMjIlMkMlMEElMjklMjklMEElMjclMjclMjclMjklM0I=\")));\n",
       "    "
      ],
      "text/plain": [
       "<IPython.core.display.Javascript object>"
      ]
     },
     "metadata": {},
     "output_type": "display_data"
    },
    {
     "data": {
      "application/javascript": [
       "$('span:contains(\"# Temp\")').closest('.cell').remove();"
      ],
      "text/plain": [
       "<IPython.core.display.Javascript object>"
      ]
     },
     "metadata": {},
     "output_type": "display_data"
    },
    {
     "data": {
      "application/javascript": [
       "\n",
       "        $('span:contains(\"# Temp\")').closest('.cell').remove();\n",
       "        var code = IPython.notebook.insert_cell_below('code');\n",
       "        code.set_text(decodeURIComponent(window.atob(\"JTIzJTIwVGVtcCUwQWluc2VydCUyOCUyNyUyNyUyNyUwQWxpMjAxMGElMjAlM0QlMjBEQiUyOFdvcmtVbnJlbGF0ZWQlMjglMEElMjAlMjAlMjAlMjAyMDEwJTJDJTIwJTIyUGVydHVyYmF0aW9uLWJhc2VkJTIwdXNlci1pbnB1dC12YWxpZGF0aW9uJTIwdGVzdGluZyUyMG9mJTIwd2ViJTIwYXBwbGljYXRpb25zJTIyJTJDJTBBJTIwJTIwJTIwJTIwZGlzcGxheSUzRCUyMmxpJTIyJTJDJTBBJTIwJTIwJTIwJTIwYXV0aG9ycyUzRCUyMkxpJTJDJTIwTnVvJTIwYW5kJTIwWGllJTJDJTIwVGFvJTIwYW5kJTIwSmluJTJDJTIwTWFvemhvbmclMjBhbmQlMjBMaXUlMkMlMjBDaGFvJTIyJTJDJTBBJTIwJTIwJTIwJTIwcGxhY2UlM0RGQUtFJTJDJTBBJTIwJTIwJTIwJTIwcHAlM0QlMjIyMjYzLTIyNzQlMjIlMkMlMEElMjAlMjAlMjAlMjBlbnRyeXR5cGUlM0QlMjJhcnRpY2xlJTIyJTJDJTBBJTIwJTIwJTIwJTIwdm9sdW1lJTNEJTIyODMlMjIlMkMlMEElMjAlMjAlMjAlMjBudW1iZXIlM0QlMjIxMSUyQyUyMFNJJTIyJTJDJTBBJTIwJTIwJTIwJTIwbW9udGglM0QlMjJOT1YlMjIlMkMlMEElMjAlMjAlMjAlMjBkb2klM0QlMjIxMC4xMDE2L2ouanNzLjIwMTAuMDcuMDA3JTIyJTJDJTBBJTIwJTIwJTIwJTIwaXNzbiUzRCUyMjAxNjQtMTIxMiUyMiUyQyUwQSUyMCUyMCUyMCUyMHVuaXF1ZS1pZCUzRCUyMklTSSUzQTAwMDI4MzY0MTYwMDAyMCUyMiUyQyUwQSUyMCUyMCUyMCUyMElEJTNEJTIySVNJJTNBMDAwMjgzNjQxNjAwMDIwJTIyJTJDJTBBJTIwJTIwJTIwJTIwd2Vib2ZzY2llbmNlMjAxNSUzRCUyMjElMjIlMkMlMEElMjAlMjAlMjAlMjBwbGFjZXglM0QlMjJKT1VSTkFMJTIwT0YlMjBTWVNURU1TJTIwQU5EJTIwU09GVFdBUkUlMjIlMkMlMEElMjklMjklMEElMjclMjclMjclMjklM0I=\")));\n",
       "    "
      ],
      "text/plain": [
       "<IPython.core.display.Javascript object>"
      ]
     },
     "metadata": {},
     "output_type": "display_data"
    },
    {
     "data": {
      "application/javascript": [
       "$('span:contains(\"# Temp\")').closest('.cell').remove();"
      ],
      "text/plain": [
       "<IPython.core.display.Javascript object>"
      ]
     },
     "metadata": {},
     "output_type": "display_data"
    },
    {
     "data": {
      "application/javascript": [
       "\n",
       "        $('span:contains(\"# Temp\")').closest('.cell').remove();\n",
       "        var code = IPython.notebook.insert_cell_below('code');\n",
       "        code.set_text(decodeURIComponent(window.atob(\"JTIzJTIwVGVtcCUwQWluc2VydCUyOCUyNyUyNyUyNyUyNyUyNyUyNyUyOSUzQiUwQXNldF9hdHRyaWJ1dGUlMjglMjduaWVsc2VuMjAxNGElMjclMkMlMjAlMjdtb250aCUyNyUyQyUyMCUyN0pVTCUyNyUyOSUzQiUwQXNldF9hdHRyaWJ1dGUlMjglMjduaWVsc2VuMjAxNGElMjclMkMlMjAlMjdlaXNzbiUyNyUyQyUyMCUyNzE4NzItOTUxNyUyNyUyOSUzQiUwQXNldF9hdHRyaWJ1dGUlMjglMjduaWVsc2VuMjAxNGElMjclMkMlMjAlMjd1bmlxdWUtaWQlMjclMkMlMjAlMjdJU0klM0EwMDAzNDIwMzcxMDAwMDclMjclMjklM0IlMEFzZXRfYXR0cmlidXRlJTI4JTI3bmllbHNlbjIwMTRhJTI3JTJDJTIwJTI3d2Vib2ZzY2llbmNlMjAxNSUyNyUyQyUyMCUyNzElMjclMjklM0I=\")));\n",
       "    "
      ],
      "text/plain": [
       "<IPython.core.display.Javascript object>"
      ]
     },
     "metadata": {},
     "output_type": "display_data"
    },
    {
     "data": {
      "application/javascript": [
       "$('span:contains(\"# Temp\")').closest('.cell').remove();"
      ],
      "text/plain": [
       "<IPython.core.display.Javascript object>"
      ]
     },
     "metadata": {},
     "output_type": "display_data"
    },
    {
     "data": {
      "application/javascript": [
       "\n",
       "        $('span:contains(\"# Temp\")').closest('.cell').remove();\n",
       "        var code = IPython.notebook.insert_cell_below('code');\n",
       "        code.set_text(decodeURIComponent(window.atob(\"JTIzJTIwVGVtcCUwQWluc2VydCUyOCUyNyUyNyUyNyUyNyUyNyUyNyUyOSUzQiUwQXNldF9hdHRyaWJ1dGUlMjglMjduaWVsc2VuMjAxNGElMjclMkMlMjAlMjdtb250aCUyNyUyQyUyMCUyN0pVTCUyNyUyOSUzQiUwQXNldF9hdHRyaWJ1dGUlMjglMjduaWVsc2VuMjAxNGElMjclMkMlMjAlMjdlaXNzbiUyNyUyQyUyMCUyNzE4NzItOTUxNyUyNyUyOSUzQiUwQXNldF9hdHRyaWJ1dGUlMjglMjduaWVsc2VuMjAxNGElMjclMkMlMjAlMjd1bmlxdWUtaWQlMjclMkMlMjAlMjdJU0klM0EwMDAzNDIwMzcxMDAwMDclMjclMjklM0IlMEFzZXRfYXR0cmlidXRlJTI4JTI3bmllbHNlbjIwMTRhJTI3JTJDJTIwJTI3d2Vib2ZzY2llbmNlMjAxNSUyNyUyQyUyMCUyNzElMjclMjklM0I=\")));\n",
       "    "
      ],
      "text/plain": [
       "<IPython.core.display.Javascript object>"
      ]
     },
     "metadata": {},
     "output_type": "display_data"
    },
    {
     "data": {
      "application/javascript": [
       "$('span:contains(\"# Temp\")').closest('.cell').remove();"
      ],
      "text/plain": [
       "<IPython.core.display.Javascript object>"
      ]
     },
     "metadata": {},
     "output_type": "display_data"
    },
    {
     "data": {
      "application/javascript": [
       "\n",
       "        $('span:contains(\"# Temp\")').closest('.cell').remove();\n",
       "        var code = IPython.notebook.insert_cell_below('code');\n",
       "        code.set_text(decodeURIComponent(window.atob(\"JTIzJTIwVGVtcCUwQWluc2VydCUyOCUyNyUyNyUyNyUwQWJhc2tlcnZpbGxlMjAxMWElMjAlM0QlMjBEQiUyOFdvcmtVbnJlbGF0ZWQlMjglMEElMjAlMjAlMjAlMjAyMDExJTJDJTIwJTIyUG9zdC1hZ2lsaXR5JTNBJTIwV2hhdCUyMGZvbGxvd3MlMjBhJTIwZGVjYWRlJTIwb2YlMjBhZ2lsaXR5JTNGJTIyJTJDJTBBJTIwJTIwJTIwJTIwZGlzcGxheSUzRCUyMmJhc2tlcnZpbGxlJTIyJTJDJTBBJTIwJTIwJTIwJTIwYXV0aG9ycyUzRCUyMkJhc2tlcnZpbGxlJTJDJTIwUmljaGFyZCUyMGFuZCUyMFByaWVzLUhlamUlMkMlMjBKYW4lMjBhbmQlMjBNYWRzZW4lMkMlMjBTYWJpbmUlMjIlMkMlMEElMjAlMjAlMjAlMjBwbGFjZSUzREZBS0UlMkMlMEElMjAlMjAlMjAlMjBwcCUzRCUyMjU0My01NTUlMjIlMkMlMEElMjAlMjAlMjAlMjBlbnRyeXR5cGUlM0QlMjJhcnRpY2xlJTIyJTJDJTBBJTIwJTIwJTIwJTIwdm9sdW1lJTNEJTIyNTMlMjIlMkMlMEElMjAlMjAlMjAlMjBudW1iZXIlM0QlMjI1JTJDJTIwU0klMjIlMkMlMEElMjAlMjAlMjAlMjBtb250aCUzRCUyMk1BWSUyMiUyQyUwQSUyMCUyMCUyMCUyMGRvaSUzRCUyMjEwLjEwMTYvai5pbmZzb2YuMjAxMC4xMC4wMTAlMjIlMkMlMEElMjAlMjAlMjAlMjBpc3NuJTNEJTIyMDk1MC01ODQ5JTIyJTJDJTBBJTIwJTIwJTIwJTIwdW5pcXVlLWlkJTNEJTIySVNJJTNBMDAwMjg4OTE5OTAwMDExJTIyJTJDJTBBJTIwJTIwJTIwJTIwSUQlM0QlMjJJU0klM0EwMDAyODg5MTk5MDAwMTElMjIlMkMlMEElMjAlMjAlMjAlMjB3ZWJvZnNjaWVuY2UyMDE1JTNEJTIyMSUyMiUyQyUwQSUyMCUyMCUyMCUyMHBsYWNleCUzRCUyMklORk9STUFUSU9OJTIwQU5EJTIwU09GVFdBUkUlMjBURUNITk9MT0dZJTIyJTJDJTBBJTI5JTI5JTBBJTI3JTI3JTI3JTI5JTNC\")));\n",
       "    "
      ],
      "text/plain": [
       "<IPython.core.display.Javascript object>"
      ]
     },
     "metadata": {},
     "output_type": "display_data"
    },
    {
     "data": {
      "application/javascript": [
       "$('span:contains(\"# Temp\")').closest('.cell').remove();"
      ],
      "text/plain": [
       "<IPython.core.display.Javascript object>"
      ]
     },
     "metadata": {},
     "output_type": "display_data"
    },
    {
     "data": {
      "application/javascript": [
       "\n",
       "        $('span:contains(\"# Temp\")').closest('.cell').remove();\n",
       "        var code = IPython.notebook.insert_cell_below('code');\n",
       "        code.set_text(decodeURIComponent(window.atob(\"JTIzJTIwVGVtcCUwQWluc2VydCUyOCUyNyUyNyUyNyUwQWJhc2tlcnZpbGxlMjAxMWElMjAlM0QlMjBEQiUyOFdvcmtVbnJlbGF0ZWQlMjglMEElMjAlMjAlMjAlMjAyMDExJTJDJTIwJTIyUG9zdC1hZ2lsaXR5JTNBJTIwV2hhdCUyMGZvbGxvd3MlMjBhJTIwZGVjYWRlJTIwb2YlMjBhZ2lsaXR5JTNGJTIyJTJDJTBBJTIwJTIwJTIwJTIwZGlzcGxheSUzRCUyMmJhc2tlcnZpbGxlJTIyJTJDJTBBJTIwJTIwJTIwJTIwYXV0aG9ycyUzRCUyMkJhc2tlcnZpbGxlJTJDJTIwUmljaGFyZCUyMGFuZCUyMFByaWVzLUhlamUlMkMlMjBKYW4lMjBhbmQlMjBNYWRzZW4lMkMlMjBTYWJpbmUlMjIlMkMlMEElMjAlMjAlMjAlMjBwbGFjZSUzREZBS0UlMkMlMEElMjAlMjAlMjAlMjBwcCUzRCUyMjU0My01NTUlMjIlMkMlMEElMjAlMjAlMjAlMjBlbnRyeXR5cGUlM0QlMjJhcnRpY2xlJTIyJTJDJTBBJTIwJTIwJTIwJTIwdm9sdW1lJTNEJTIyNTMlMjIlMkMlMEElMjAlMjAlMjAlMjBudW1iZXIlM0QlMjI1JTJDJTIwU0klMjIlMkMlMEElMjAlMjAlMjAlMjBtb250aCUzRCUyMk1BWSUyMiUyQyUwQSUyMCUyMCUyMCUyMGRvaSUzRCUyMjEwLjEwMTYvai5pbmZzb2YuMjAxMC4xMC4wMTAlMjIlMkMlMEElMjAlMjAlMjAlMjBpc3NuJTNEJTIyMDk1MC01ODQ5JTIyJTJDJTBBJTIwJTIwJTIwJTIwdW5pcXVlLWlkJTNEJTIySVNJJTNBMDAwMjg4OTE5OTAwMDExJTIyJTJDJTBBJTIwJTIwJTIwJTIwSUQlM0QlMjJJU0klM0EwMDAyODg5MTk5MDAwMTElMjIlMkMlMEElMjAlMjAlMjAlMjB3ZWJvZnNjaWVuY2UyMDE1JTNEJTIyMSUyMiUyQyUwQSUyMCUyMCUyMCUyMHBsYWNleCUzRCUyMklORk9STUFUSU9OJTIwQU5EJTIwU09GVFdBUkUlMjBURUNITk9MT0dZJTIyJTJDJTBBJTI5JTI5JTBBJTI3JTI3JTI3JTI5JTNC\")));\n",
       "    "
      ],
      "text/plain": [
       "<IPython.core.display.Javascript object>"
      ]
     },
     "metadata": {},
     "output_type": "display_data"
    },
    {
     "data": {
      "application/javascript": [
       "$('span:contains(\"# Temp\")').closest('.cell').remove();"
      ],
      "text/plain": [
       "<IPython.core.display.Javascript object>"
      ]
     },
     "metadata": {},
     "output_type": "display_data"
    },
    {
     "data": {
      "application/javascript": [
       "\n",
       "        $('span:contains(\"# Temp\")').closest('.cell').remove();\n",
       "        var code = IPython.notebook.insert_cell_below('code');\n",
       "        code.set_text(decodeURIComponent(window.atob(\"JTIzJTIwVGVtcCUwQWluc2VydCUyOCUyNyUyNyUyNyUwQSUyMCUyMCUyMCUyMGZlcm5hbmRlejIwMTRhJTIwJTNEJTIwREIlMjhXb3JrVW5yZWxhdGVkJTI4JTBBJTIwJTIwJTIwJTIwJTIwJTIwJTIwJTIwMjAxNCUyQyUyMCUyMlBvdGVudGlhbCUyMGFuZCUyMGxpbWl0YXRpb25zJTIwb2YlMjB0aGUlMjBJU0JTRyUyMGRhdGFzZXQlMjBpbiUyMGVuaGFuY2luZyUyMHNvZnR3YXJlJTBBZW5naW5lZXJpbmclMjByZXNlYXJjaCUzQSUyMEElMjBtYXBwaW5nJTIwcmV2aWV3JTIyJTJDJTBBJTIwJTIwJTIwJTIwJTIwJTIwJTIwJTIwZGlzcGxheSUzRCUyMmZlcm5hbmRleiUyMiUyQyUwQSUyMCUyMCUyMCUyMCUyMCUyMCUyMCUyMGF1dGhvcnMlM0QlMjJGZXJuYW5kZXotRGllZ28lMkMlMjBNYXJ0YSUyMGFuZCUyMEdvbnphbGV6LUxhZHJvbi1kZS1HdWV2YXJhJTJDJTIwRmVybmFuZG8lMjIlMkMlMEElMjAlMjAlMjAlMjAlMjAlMjAlMjAlMjBwbGFjZSUzREZBS0UlMkMlMEElMjAlMjAlMjAlMjAlMjAlMjAlMjAlMjBwcCUzRCUyMjUyNy01NDQlMjIlMkMlMEElMjAlMjAlMjAlMjAlMjAlMjAlMjAlMjBlbnRyeXR5cGUlM0QlMjJhcnRpY2xlJTIyJTJDJTBBJTIwJTIwJTIwJTIwJTIwJTIwJTIwJTIwdm9sdW1lJTNEJTIyNTYlMjIlMkMlMEElMjAlMjAlMjAlMjAlMjAlMjAlMjAlMjBudW1iZXIlM0QlMjI2JTIyJTJDJTBBJTIwJTIwJTIwJTIwJTIwJTIwJTIwJTIwbW9udGglM0QlMjJKVU4lMjIlMkMlMEElMjAlMjAlMjAlMjAlMjAlMjAlMjAlMjBkb2klM0QlMjIxMC4xMDE2L2ouaW5mc29mLjIwMTQuMDEuMDAzJTIyJTJDJTBBJTIwJTIwJTIwJTIwJTIwJTIwJTIwJTIwaXNzbiUzRCUyMjA5NTAtNTg0OSUyMiUyQyUwQSUyMCUyMCUyMCUyMCUyMCUyMCUyMCUyMGVpc3NuJTNEJTIyMTg3My02MDI1JTIyJTJDJTBBJTIwJTIwJTIwJTIwJTIwJTIwJTIwJTIwdW5pcXVlLWlkJTNEJTIySVNJJTNBMDAwMzM1NDg2MzAwMDAxJTIyJTJDJTBBJTIwJTIwJTIwJTIwJTIwJTIwJTIwJTIwSUQlM0QlMjJJU0klM0EwMDAzMzU0ODYzMDAwMDElMjIlMkMlMEElMjAlMjAlMjAlMjAlMjAlMjAlMjAlMjB3ZWJvZnNjaWVuY2UyMDE1JTNEJTIyMSUyMiUyQyUwQSUyMCUyMCUyMCUyMCUyMCUyMCUyMCUyMHBsYWNleCUzRCUyMklORk9STUFUSU9OJTIwQU5EJTIwU09GVFdBUkUlMjBURUNITk9MT0dZJTIyJTJDJTBBJTIwJTIwJTIwJTIwJTI5JTI5JTBBJTI3JTI3JTI3JTI5JTNC\")));\n",
       "    "
      ],
      "text/plain": [
       "<IPython.core.display.Javascript object>"
      ]
     },
     "metadata": {},
     "output_type": "display_data"
    },
    {
     "data": {
      "application/javascript": [
       "$('span:contains(\"# Temp\")').closest('.cell').remove();"
      ],
      "text/plain": [
       "<IPython.core.display.Javascript object>"
      ]
     },
     "metadata": {},
     "output_type": "display_data"
    },
    {
     "data": {
      "application/javascript": [
       "\n",
       "        $('span:contains(\"# Temp\")').closest('.cell').remove();\n",
       "        var code = IPython.notebook.insert_cell_below('code');\n",
       "        code.set_text(decodeURIComponent(window.atob(\"JTIzJTIwVGVtcCUwQWluc2VydCUyOCUyNyUyNyUyNyUwQSUyMCUyMCUyMCUyMGZlcm5hbmRlejIwMTRhJTIwJTNEJTIwREIlMjhXb3JrVW5yZWxhdGVkJTI4JTBBJTIwJTIwJTIwJTIwJTIwJTIwJTIwJTIwMjAxNCUyQyUyMCUyMlBvdGVudGlhbCUyMGFuZCUyMGxpbWl0YXRpb25zJTIwb2YlMjB0aGUlMjBJU0JTRyUyMGRhdGFzZXQlMjBpbiUyMGVuaGFuY2luZyUyMHNvZnR3YXJlJTBBZW5naW5lZXJpbmclMjByZXNlYXJjaCUzQSUyMEElMjBtYXBwaW5nJTIwcmV2aWV3JTIyJTJDJTBBJTIwJTIwJTIwJTIwJTIwJTIwJTIwJTIwZGlzcGxheSUzRCUyMmZlcm5hbmRleiUyMiUyQyUwQSUyMCUyMCUyMCUyMCUyMCUyMCUyMCUyMGF1dGhvcnMlM0QlMjJGZXJuYW5kZXotRGllZ28lMkMlMjBNYXJ0YSUyMGFuZCUyMEdvbnphbGV6LUxhZHJvbi1kZS1HdWV2YXJhJTJDJTIwRmVybmFuZG8lMjIlMkMlMEElMjAlMjAlMjAlMjAlMjAlMjAlMjAlMjBwbGFjZSUzREZBS0UlMkMlMEElMjAlMjAlMjAlMjAlMjAlMjAlMjAlMjBwcCUzRCUyMjUyNy01NDQlMjIlMkMlMEElMjAlMjAlMjAlMjAlMjAlMjAlMjAlMjBlbnRyeXR5cGUlM0QlMjJhcnRpY2xlJTIyJTJDJTBBJTIwJTIwJTIwJTIwJTIwJTIwJTIwJTIwdm9sdW1lJTNEJTIyNTYlMjIlMkMlMEElMjAlMjAlMjAlMjAlMjAlMjAlMjAlMjBudW1iZXIlM0QlMjI2JTIyJTJDJTBBJTIwJTIwJTIwJTIwJTIwJTIwJTIwJTIwbW9udGglM0QlMjJKVU4lMjIlMkMlMEElMjAlMjAlMjAlMjAlMjAlMjAlMjAlMjBkb2klM0QlMjIxMC4xMDE2L2ouaW5mc29mLjIwMTQuMDEuMDAzJTIyJTJDJTBBJTIwJTIwJTIwJTIwJTIwJTIwJTIwJTIwaXNzbiUzRCUyMjA5NTAtNTg0OSUyMiUyQyUwQSUyMCUyMCUyMCUyMCUyMCUyMCUyMCUyMGVpc3NuJTNEJTIyMTg3My02MDI1JTIyJTJDJTBBJTIwJTIwJTIwJTIwJTIwJTIwJTIwJTIwdW5pcXVlLWlkJTNEJTIySVNJJTNBMDAwMzM1NDg2MzAwMDAxJTIyJTJDJTBBJTIwJTIwJTIwJTIwJTIwJTIwJTIwJTIwSUQlM0QlMjJJU0klM0EwMDAzMzU0ODYzMDAwMDElMjIlMkMlMEElMjAlMjAlMjAlMjAlMjAlMjAlMjAlMjB3ZWJvZnNjaWVuY2UyMDE1JTNEJTIyMSUyMiUyQyUwQSUyMCUyMCUyMCUyMCUyMCUyMCUyMCUyMHBsYWNleCUzRCUyMklORk9STUFUSU9OJTIwQU5EJTIwU09GVFdBUkUlMjBURUNITk9MT0dZJTIyJTJDJTBBJTIwJTIwJTIwJTIwJTI5JTI5JTBBJTI3JTI3JTI3JTI5JTNC\")));\n",
       "    "
      ],
      "text/plain": [
       "<IPython.core.display.Javascript object>"
      ]
     },
     "metadata": {},
     "output_type": "display_data"
    }
   ],
   "source": [
    "from custom_snowballing import UnrelatedInsert\n",
    "UnrelatedInsert(\"webofscience2015\", articles=article_list)"
   ]
  },
  {
   "cell_type": "code",
   "execution_count": 97,
   "metadata": {},
   "outputs": [
    {
     "name": "stdout",
     "output_type": "stream",
     "text": [
      "-Insert: fernandez2014a\n"
     ]
    }
   ],
   "source": [
    "# Temp\n",
    "insert('''\n",
    "fernandez2014a = DB(WorkUnrelated(\n",
    "    2014, \"Potential and limitations of the ISBSG dataset in enhancing software engineering research: A mapping review\",\n",
    "    display=\"fernandez\",\n",
    "    authors=\"Fernandez-Diego, Marta and Gonzalez-Ladron-de-Guevara, Fernando\",\n",
    "    place=FAKE,\n",
    "    pp=\"527-544\",\n",
    "    entrytype=\"article\",\n",
    "    volume=\"56\",\n",
    "    number=\"6\",\n",
    "    month=\"JUN\",\n",
    "    doi=\"10.1016/j.infsof.2014.01.003\",\n",
    "    issn=\"0950-5849\",\n",
    "    eissn=\"1873-6025\",\n",
    "    unique_id=\"ISI:000335486300001\",\n",
    "    ID=\"ISI:000335486300001\",\n",
    "    webofscience2015=\"1\",\n",
    "    placex=\"INFORMATION AND SOFTWARE TECHNOLOGY\",\n",
    "))\n",
    "''');"
   ]
  },
  {
   "cell_type": "code",
   "execution_count": 111,
   "metadata": {},
   "outputs": [
    {
     "data": {
      "application/vnd.jupyter.widget-view+json": {
       "model_id": "5c5bff0086fc4821975a5b7d51575128",
       "version_major": 2,
       "version_minor": 0
      },
      "text/html": [
       "<p>Failed to display Jupyter Widget of type <code>VBox</code>.</p>\n",
       "<p>\n",
       "  If you're reading this message in Jupyter Notebook or JupyterLab, it may mean\n",
       "  that the widgets JavaScript is still loading. If this message persists, it\n",
       "  likely means that the widgets JavaScript library is either not installed or\n",
       "  not enabled. See the <a href=\"https://ipywidgets.readthedocs.io/en/stable/user_install.html\">Jupyter\n",
       "  Widgets Documentation</a> for setup instructions.\n",
       "</p>\n",
       "<p>\n",
       "  If you're reading this message in another notebook frontend (for example, a static\n",
       "  rendering on GitHub or <a href=\"https://nbviewer.jupyter.org/\">NBViewer</a>),\n",
       "  it may mean that your frontend doesn't currently support widgets.\n",
       "</p>\n"
      ],
      "text/plain": [
       "VBox(children=(HBox(children=(Button(description='Previous Article', disabled=True, icon='caret-left', style=ButtonStyle()), Button(description='Reload Article', icon='refresh', style=ButtonStyle()), Button(description='Next Article', disabled=True, icon='caret-right', style=ButtonStyle()))), HBox(children=(Button(description='Unrelated: Scripts', style=ButtonStyle()), Button(description='Unrelated: Provenance', style=ButtonStyle()), Button(description='Both', style=ButtonStyle()), Button(description='Ok', style=ButtonStyle()))), HBox(children=(Dropdown(description='Type', options=('Work', 'WorkSnowball', 'WorkForward', 'WorkBackward', 'WorkOk', 'WorkUnrelated', 'WorkNoFile', 'WorkLang', 'Site', 'Email'), value='Work'), ToggleButton(value=False, description='File'))), HBox(children=(Text(value='', description='Due'), Text(value='', description='Place'))), HBox(children=(Text(value='', description='Year'), Text(value='', description='Prefix Var'))), HBox(children=(Text(value='', description='PDFPage'), Text(value='', description='Related'))), HBox(children=(Text(value='', description='Display'), Text(value='', description='Summary'))), HBox(children=(Text(value='', description='Star'), Text(value='', description='Link'))), HBox(children=(Button(description='Reload Article', icon='refresh', style=ButtonStyle()), IntSlider(value=0, max=0), Label(value='1/1'))), Output()))"
      ]
     },
     "metadata": {},
     "output_type": "display_data"
    },
    {
     "data": {
      "application/javascript": [
       "$('span:contains(\"# Temp\")').closest('.cell').remove();"
      ],
      "text/plain": [
       "<IPython.core.display.Javascript object>"
      ]
     },
     "metadata": {},
     "output_type": "display_data"
    },
    {
     "data": {
      "application/javascript": [
       "\n",
       "        $('span:contains(\"# Temp\")').closest('.cell').remove();\n",
       "        var code = IPython.notebook.insert_cell_below('code');\n",
       "        code.set_text(atob(\"IyBUZW1wCmluc2VydCgnJycKbWVzc25hcnoxOTk5YSA9IERCKFdvcmtTbm93YmFsbCgKICAgIDE5OTksICJCZXR0ZXIgU29mdHdhcmUgUHJhY3RpY2UgZm9yIEJ1c2luZXNzIEJlbmVmaXQ6IFByaW5jaXBsZXMgYW5kIEV4cGVyaWVuY2VzIiwKICAgIGRpc3BsYXk9Im1lc3NuYXJ6IiwKICAgIGF1dGhvcnM9Ik1lc3NuYXJ6LCBSaWNoYXJkIGFuZCBUdWxseSwgQ29saW4gSiIsCiAgICBwbGFjZT1Cb29rLAogICAgZW50cnl0eXBlPSJib29rIiwKICAgIHB1Ymxpc2hlcj0iSUVFRSBDb21wdXRlciBTb2NpZXR5IFByZXNzIiwKICAgIElEPSJtZXNzbmFyejE5OTliZXR0ZXIiLAopKQonJycpOw==\"));\n",
       "    "
      ],
      "text/plain": [
       "<IPython.core.display.Javascript object>"
      ]
     },
     "metadata": {},
     "output_type": "display_data"
    }
   ],
   "source": [
    "ArticleNavigator(articles=article_list)"
   ]
  }
 ],
 "metadata": {
  "kernelspec": {
   "display_name": "Python 3",
   "language": "python",
   "name": "python3"
  },
  "language_info": {
   "codemirror_mode": {
    "name": "ipython",
    "version": 3
   },
   "file_extension": ".py",
   "mimetype": "text/x-python",
   "name": "python",
   "nbconvert_exporter": "python",
   "pygments_lexer": "ipython3",
   "version": "3.6.0"
  },
  "toc": {
   "nav_menu": {
    "height": "12px",
    "width": "252px"
   },
   "number_sections": true,
   "sideBar": true,
   "skip_h1_title": false,
   "toc_cell": false,
   "toc_position": {},
   "toc_section_display": "block",
   "toc_window_display": false
  }
 },
 "nbformat": 4,
 "nbformat_minor": 2
}
