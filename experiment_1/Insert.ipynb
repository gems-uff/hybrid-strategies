{
 "cells": [
  {
   "cell_type": "code",
   "execution_count": 1,
   "metadata": {
    "collapsed": true
   },
   "outputs": [],
   "source": [
    "import database\n",
    "from snowballing.operations import load_work, reload, work_by_varname\n",
    "from snowballing.snowballing import Converter\n",
    "from snowballing.snowballing import ArticleNavigator\n",
    "from snowballing.dbmanager import insert, set_attribute"
   ]
  },
  {
   "cell_type": "code",
   "execution_count": 4,
   "metadata": {
    "scrolled": false
   },
   "outputs": [
    {
     "data": {
      "application/vnd.jupyter.widget-view+json": {
       "model_id": "7c701751e60f4013979edf189a75b63c",
       "version_major": 2,
       "version_minor": 0
      },
      "text/html": [
       "<p>Failed to display Jupyter Widget of type <code>VBox</code>.</p>\n",
       "<p>\n",
       "  If you're reading this message in Jupyter Notebook or JupyterLab, it may mean\n",
       "  that the widgets JavaScript is still loading. If this message persists, it\n",
       "  likely means that the widgets JavaScript library is either not installed or\n",
       "  not enabled. See the <a href=\"https://ipywidgets.readthedocs.io/en/stable/user_install.html\">Jupyter\n",
       "  Widgets Documentation</a> for setup instructions.\n",
       "</p>\n",
       "<p>\n",
       "  If you're reading this message in another notebook frontend (for example, a static\n",
       "  rendering on GitHub or <a href=\"https://nbviewer.jupyter.org/\">NBViewer</a>),\n",
       "  it may mean that your frontend doesn't currently support widgets.\n",
       "</p>\n"
      ],
      "text/plain": [
       "VBox(children=(HBox(children=(Dropdown(options={'BibTeX': 'bibtex', 'Text': 'text', '[N] author name place other year': 'citation', 'Quoted': 'quoted'}, value='bibtex'), Button(description='Set article_list variable', style=ButtonStyle()), Label(value=''))), HBox(children=(Textarea(value='', layout=Layout(height='500px', width='50%')), Textarea(value='', layout=Layout(height='500px', width='50%'))))))"
      ]
     },
     "metadata": {},
     "output_type": "display_data"
    }
   ],
   "source": [
    "Converter(\"bibtex\")"
   ]
  },
  {
   "cell_type": "code",
   "execution_count": 5,
   "metadata": {},
   "outputs": [
    {
     "data": {
      "text/plain": [
       "20"
      ]
     },
     "execution_count": 5,
     "metadata": {},
     "output_type": "execute_result"
    }
   ],
   "source": [
    "len(article_list)"
   ]
  },
  {
   "cell_type": "code",
   "execution_count": 6,
   "metadata": {
    "collapsed": true
   },
   "outputs": [],
   "source": [
    "from snowballing.operations import reload\n",
    "reload()\n"
   ]
  },
  {
   "cell_type": "code",
   "execution_count": null,
   "metadata": {
    "collapsed": true
   },
   "outputs": [],
   "source": []
  },
  {
   "cell_type": "code",
   "execution_count": 8,
   "metadata": {},
   "outputs": [
    {
     "data": {
      "application/vnd.jupyter.widget-view+json": {
       "model_id": "ea1604d1fd724485955236e5f419ccfc",
       "version_major": 2,
       "version_minor": 0
      },
      "text/html": [
       "<p>Failed to display Jupyter Widget of type <code>VBox</code>.</p>\n",
       "<p>\n",
       "  If you're reading this message in Jupyter Notebook or JupyterLab, it may mean\n",
       "  that the widgets JavaScript is still loading. If this message persists, it\n",
       "  likely means that the widgets JavaScript library is either not installed or\n",
       "  not enabled. See the <a href=\"https://ipywidgets.readthedocs.io/en/stable/user_install.html\">Jupyter\n",
       "  Widgets Documentation</a> for setup instructions.\n",
       "</p>\n",
       "<p>\n",
       "  If you're reading this message in another notebook frontend (for example, a static\n",
       "  rendering on GitHub or <a href=\"https://nbviewer.jupyter.org/\">NBViewer</a>),\n",
       "  it may mean that your frontend doesn't currently support widgets.\n",
       "</p>\n"
      ],
      "text/plain": [
       "VBox(children=(HBox(children=(Button(description='Previous Article', disabled=True, icon='caret-left', style=ButtonStyle()), Button(description='Reload Article', icon='refresh', style=ButtonStyle()), Button(description='Next Article', icon='caret-right', style=ButtonStyle()))), HBox(children=(Dropdown(description='Type', index=5, options=('Work', 'WorkSnowball', 'WorkForward', 'WorkBackward', 'WorkOk', 'WorkUnrelated', 'WorkNoFile', 'WorkLang', 'Site', 'Email'), value='WorkUnrelated'), ToggleButton(value=False, description='File'))), HBox(children=(Text(value='', description='Due'), Text(value='', description='Place'))), HBox(children=(Text(value='', description='Year'), Text(value='', description='Prefix Var'))), HBox(children=(Text(value='', description='PDFPage'), Text(value='', description='Related'))), HBox(children=(Text(value='', description='Display'), Text(value='', description='Summary'))), HBox(children=(Text(value='', description='Star'), Text(value='', description='Link'))), HBox(children=(Text(value='1', description='springer'),)), HBox(children=(Button(description='Reload Article', icon='refresh', style=ButtonStyle()), IntSlider(value=0, max=19), Label(value='1/20'))), Output()))"
      ]
     },
     "metadata": {},
     "output_type": "display_data"
    },
    {
     "data": {
      "application/javascript": [
       "$('span:contains(\"# Temp\")').closest('.cell').remove();"
      ],
      "text/plain": [
       "<IPython.core.display.Javascript object>"
      ]
     },
     "metadata": {},
     "output_type": "display_data"
    },
    {
     "data": {
      "application/javascript": [
       "\n",
       "        $('span:contains(\"# Temp\")').closest('.cell').remove();\n",
       "        var code = IPython.notebook.insert_cell_below('code');\n",
       "        code.set_text(atob(\"IyBUZW1wCmluc2VydCgnJycKICAgIGhhbWFubjIwMDFhID0gREIoV29ya1VucmVsYXRlZCgKICAgICAgICAyMDAxLCAiVXNpbmcgRkFNRSBBc3Nlc3NtZW50cyB0byBEZWZpbmUgTWVhc3VyZW1lbnQgR29hbHMiLAogICAgICAgIGRpc3BsYXk9ImhhbWFubiIsCiAgICAgICAgYXV0aG9ycz0iSGFtYW5uLCBEaXJrCmFuZCBCZWl0eiwgQW5kcmV3CmFuZCBN/GxsZXIsIE1hcmt1cwphbmQgdmFuIFNvbGluZ2VuLCBSaW5pIiwKICAgICAgICBwbGFjZT1GQUtFLAogICAgICAgIHBwPSIyMjAtLTIzMiIsCiAgICAgICAgZW50cnl0eXBlPSJpbnByb2NlZWRpbmdzIiwKICAgICAgICBlZGl0b3I9IkR1bWtlLCBSZWluZXIKYW5kIEFicmFuLCBBbGFpbiIsCiAgICAgICAgcHVibGlzaGVyPSJTcHJpbmdlciBCZXJsaW4gSGVpZGVsYmVyZyIsCiAgICAgICAgYWRkcmVzcz0iQmVybGluLCBIZWlkZWxiZXJnIiwKICAgICAgICBJRD0iMTAuMTAwNy8zLTU0MC00NDcwNC0wXzE4IiwKICAgICAgICBzcHJpbmdlcj0iMSIsCiAgICAgICAgcGxhY2V4PSJOZXcgQXBwcm9hY2hlcyBpbiBTb2Z0d2FyZSBNZWFzdXJlbWVudCIsCiAgICApKQonJycpOw==\"));\n",
       "    "
      ],
      "text/plain": [
       "<IPython.core.display.Javascript object>"
      ]
     },
     "metadata": {},
     "output_type": "display_data"
    },
    {
     "data": {
      "application/javascript": [
       "$('span:contains(\"# Temp\")').closest('.cell').remove();"
      ],
      "text/plain": [
       "<IPython.core.display.Javascript object>"
      ]
     },
     "metadata": {},
     "output_type": "display_data"
    },
    {
     "data": {
      "application/javascript": [
       "\n",
       "        $('span:contains(\"# Temp\")').closest('.cell').remove();\n",
       "        var code = IPython.notebook.insert_cell_below('code');\n",
       "        code.set_text(atob(\"IyBUZW1wCmluc2VydCgnJycKICAgIGxlZTIwMDJhID0gREIoV29ya1VucmVsYXRlZCgKICAgICAgICAyMDAyLCAiVHJhbnNpdGlvbiBNYW5hZ2VtZW50IG9mIFNvZnR3YXJlIFByb2Nlc3MgSW1wcm92ZW1lbnQiLAogICAgICAgIGRpc3BsYXk9ImxlZSIsCiAgICAgICAgYXV0aG9ycz0iTGVlLCBTZW9uLWFoCmFuZCBDaG9pLCBCeW91bmdqdSIsCiAgICAgICAgcGxhY2U9UFJPRkVTLAogICAgICAgIHBwPSIxOS0tMzQiLAogICAgICAgIGVudHJ5dHlwZT0iaW5wcm9jZWVkaW5ncyIsCiAgICAgICAgZWRpdG9yPSJPaXZvLCBNYXJra3UKYW5kIEtvbWktU2lydmn2LCBTZWlqYSIsCiAgICAgICAgcHVibGlzaGVyPSJTcHJpbmdlciBCZXJsaW4gSGVpZGVsYmVyZyIsCiAgICAgICAgYWRkcmVzcz0iQmVybGluLCBIZWlkZWxiZXJnIiwKICAgICAgICBJRD0iMTAuMTAwNy8zLTU0MC0zNjIwOS02XzUiLAogICAgICAgIHNwcmluZ2VyPSIxIiwKICAgICAgICBwbGFjZXg9IlByb2R1Y3QgRm9jdXNlZCBTb2Z0d2FyZSBQcm9jZXNzIEltcHJvdmVtZW50IiwKICAgICkpCicnJyk7\"));\n",
       "    "
      ],
      "text/plain": [
       "<IPython.core.display.Javascript object>"
      ]
     },
     "metadata": {},
     "output_type": "display_data"
    },
    {
     "data": {
      "application/javascript": [
       "$('span:contains(\"# Temp\")').closest('.cell').remove();"
      ],
      "text/plain": [
       "<IPython.core.display.Javascript object>"
      ]
     },
     "metadata": {},
     "output_type": "display_data"
    },
    {
     "data": {
      "application/javascript": [
       "\n",
       "        $('span:contains(\"# Temp\")').closest('.cell').remove();\n",
       "        var code = IPython.notebook.insert_cell_below('code');\n",
       "        code.set_text(atob(\"IyBUZW1wCmluc2VydCgnJycKICAgIGxlZTIwMDJhID0gREIoV29ya1VucmVsYXRlZCgKICAgICAgICAyMDAyLCAiVHJhbnNpdGlvbiBNYW5hZ2VtZW50IG9mIFNvZnR3YXJlIFByb2Nlc3MgSW1wcm92ZW1lbnQiLAogICAgICAgIGRpc3BsYXk9ImxlZSIsCiAgICAgICAgYXV0aG9ycz0iTGVlLCBTZW9uLWFoCmFuZCBDaG9pLCBCeW91bmdqdSIsCiAgICAgICAgcGxhY2U9UFJPRkVTLAogICAgICAgIHBwPSIxOS0tMzQiLAogICAgICAgIGVudHJ5dHlwZT0iaW5wcm9jZWVkaW5ncyIsCiAgICAgICAgZWRpdG9yPSJPaXZvLCBNYXJra3UKYW5kIEtvbWktU2lydmn2LCBTZWlqYSIsCiAgICAgICAgcHVibGlzaGVyPSJTcHJpbmdlciBCZXJsaW4gSGVpZGVsYmVyZyIsCiAgICAgICAgYWRkcmVzcz0iQmVybGluLCBIZWlkZWxiZXJnIiwKICAgICAgICBJRD0iMTAuMTAwNy8zLTU0MC0zNjIwOS02XzUiLAogICAgICAgIHNwcmluZ2VyPSIxIiwKICAgICAgICBwbGFjZXg9IlByb2R1Y3QgRm9jdXNlZCBTb2Z0d2FyZSBQcm9jZXNzIEltcHJvdmVtZW50IiwKICAgICkpCicnJyk7\"));\n",
       "    "
      ],
      "text/plain": [
       "<IPython.core.display.Javascript object>"
      ]
     },
     "metadata": {},
     "output_type": "display_data"
    },
    {
     "data": {
      "application/javascript": [
       "$('span:contains(\"# Temp\")').closest('.cell').remove();"
      ],
      "text/plain": [
       "<IPython.core.display.Javascript object>"
      ]
     },
     "metadata": {},
     "output_type": "display_data"
    },
    {
     "data": {
      "application/javascript": [
       "\n",
       "        $('span:contains(\"# Temp\")').closest('.cell').remove();\n",
       "        var code = IPython.notebook.insert_cell_below('code');\n",
       "        code.set_text(atob(\"IyBUZW1wCmluc2VydCgnJycKICAgIGhhdWcyMDAxYSA9IERCKFdvcmtVbnJlbGF0ZWQoCiAgICAgICAgMjAwMSwgIlNvZnR3YXJlIFByb2Nlc3MgSW1wcm92ZW1lbnQgQSBFdXJvcGVhbiBWaWV3IiwKICAgICAgICBkaXNwbGF5PSJoYXVnIiwKICAgICAgICBhdXRob3JzPSJIYXVnLCBNaWNoYWVsCmFuZCBPbHNlbiwgRXJpYyBXLgphbmQgQ3VldmFzLCBHb256YWxvCmFuZCBSZW1lbnRlcmlhLCBTYW50aWFnbyIsCiAgICAgICAgcGxhY2U9RkFLRSwKICAgICAgICBwcD0iMy0tMTUiLAogICAgICAgIGVudHJ5dHlwZT0iaW5ib29rIiwKICAgICAgICBlZGl0b3I9IkhhdWcsIE1pY2hhZWwKYW5kIE9sc2VuLCBFcmljIFcuCmFuZCBDdWV2YXMsIEdvbnphbG8KYW5kIFJlbWVudGVyaWEsIFNhbnRpYWdvIiwKICAgICAgICBwdWJsaXNoZXI9IlNwcmluZ2VyIEJlcmxpbiBIZWlkZWxiZXJnIiwKICAgICAgICBhZGRyZXNzPSJCZXJsaW4sIEhlaWRlbGJlcmciLAogICAgICAgIElEPSJIYXVnMjAwMSIsCiAgICAgICAgc3ByaW5nZXI9IjEiLAogICAgICAgIHBsYWNleD0iTWFuYWdpbmcgdGhlIENoYW5nZTogU29mdHdhcmUgQ29uZmlndXJhdGlvbiBhbmQgQ2hhbmdlIE1hbmFnZW1lbnQ6IFNvZnR3YXJlIEJlc3QgUHJhY3RpY2UgMiIsCiAgICApKQonJycpOw==\"));\n",
       "    "
      ],
      "text/plain": [
       "<IPython.core.display.Javascript object>"
      ]
     },
     "metadata": {},
     "output_type": "display_data"
    },
    {
     "data": {
      "application/javascript": [
       "$('span:contains(\"# Temp\")').closest('.cell').remove();"
      ],
      "text/plain": [
       "<IPython.core.display.Javascript object>"
      ]
     },
     "metadata": {},
     "output_type": "display_data"
    },
    {
     "data": {
      "application/javascript": [
       "\n",
       "        $('span:contains(\"# Temp\")').closest('.cell').remove();\n",
       "        var code = IPython.notebook.insert_cell_below('code');\n",
       "        code.set_text(atob(\"IyBUZW1wCmluc2VydCgnJycKICAgIGhhdWcyMDAxYSA9IERCKFdvcmtVbnJlbGF0ZWQoCiAgICAgICAgMjAwMSwgIlNvZnR3YXJlIFByb2Nlc3MgSW1wcm92ZW1lbnQgQSBFdXJvcGVhbiBWaWV3IiwKICAgICAgICBkaXNwbGF5PSJoYXVnIiwKICAgICAgICBhdXRob3JzPSJIYXVnLCBNaWNoYWVsCmFuZCBPbHNlbiwgRXJpYyBXLgphbmQgQ3VldmFzLCBHb256YWxvCmFuZCBSZW1lbnRlcmlhLCBTYW50aWFnbyIsCiAgICAgICAgcGxhY2U9RkFLRSwKICAgICAgICBwcD0iMy0tMTUiLAogICAgICAgIGVudHJ5dHlwZT0iaW5ib29rIiwKICAgICAgICBlZGl0b3I9IkhhdWcsIE1pY2hhZWwKYW5kIE9sc2VuLCBFcmljIFcuCmFuZCBDdWV2YXMsIEdvbnphbG8KYW5kIFJlbWVudGVyaWEsIFNhbnRpYWdvIiwKICAgICAgICBwdWJsaXNoZXI9IlNwcmluZ2VyIEJlcmxpbiBIZWlkZWxiZXJnIiwKICAgICAgICBhZGRyZXNzPSJCZXJsaW4sIEhlaWRlbGJlcmciLAogICAgICAgIElEPSJIYXVnMjAwMSIsCiAgICAgICAgc3ByaW5nZXI9IjEiLAogICAgICAgIHBsYWNleD0iTWFuYWdpbmcgdGhlIENoYW5nZTogU29mdHdhcmUgQ29uZmlndXJhdGlvbiBhbmQgQ2hhbmdlIE1hbmFnZW1lbnQ6IFNvZnR3YXJlIEJlc3QgUHJhY3RpY2UgMiIsCiAgICApKQonJycpOw==\"));\n",
       "    "
      ],
      "text/plain": [
       "<IPython.core.display.Javascript object>"
      ]
     },
     "metadata": {},
     "output_type": "display_data"
    },
    {
     "data": {
      "application/javascript": [
       "$('span:contains(\"# Temp\")').closest('.cell').remove();"
      ],
      "text/plain": [
       "<IPython.core.display.Javascript object>"
      ]
     },
     "metadata": {},
     "output_type": "display_data"
    },
    {
     "data": {
      "application/javascript": [
       "\n",
       "        $('span:contains(\"# Temp\")').closest('.cell').remove();\n",
       "        var code = IPython.notebook.insert_cell_below('code');\n",
       "        code.set_text(atob(\"IyBUZW1wCmluc2VydCgnJycnJycpOw==\"));\n",
       "    "
      ],
      "text/plain": [
       "<IPython.core.display.Javascript object>"
      ]
     },
     "metadata": {},
     "output_type": "display_data"
    },
    {
     "data": {
      "application/javascript": [
       "$('span:contains(\"# Temp\")').closest('.cell').remove();"
      ],
      "text/plain": [
       "<IPython.core.display.Javascript object>"
      ]
     },
     "metadata": {},
     "output_type": "display_data"
    },
    {
     "data": {
      "application/javascript": [
       "\n",
       "        $('span:contains(\"# Temp\")').closest('.cell').remove();\n",
       "        var code = IPython.notebook.insert_cell_below('code');\n",
       "        code.set_text(atob(\"IyBUZW1wCmluc2VydCgnJycnJycpOw==\"));\n",
       "    "
      ],
      "text/plain": [
       "<IPython.core.display.Javascript object>"
      ]
     },
     "metadata": {},
     "output_type": "display_data"
    },
    {
     "data": {
      "application/javascript": [
       "$('span:contains(\"# Temp\")').closest('.cell').remove();"
      ],
      "text/plain": [
       "<IPython.core.display.Javascript object>"
      ]
     },
     "metadata": {},
     "output_type": "display_data"
    },
    {
     "data": {
      "application/javascript": [
       "\n",
       "        $('span:contains(\"# Temp\")').closest('.cell').remove();\n",
       "        var code = IPython.notebook.insert_cell_below('code');\n",
       "        code.set_text(atob(\"IyBUZW1wCmluc2VydCgnJycnJycpOw==\"));\n",
       "    "
      ],
      "text/plain": [
       "<IPython.core.display.Javascript object>"
      ]
     },
     "metadata": {},
     "output_type": "display_data"
    },
    {
     "data": {
      "application/javascript": [
       "$('span:contains(\"# Temp\")').closest('.cell').remove();"
      ],
      "text/plain": [
       "<IPython.core.display.Javascript object>"
      ]
     },
     "metadata": {},
     "output_type": "display_data"
    },
    {
     "data": {
      "application/javascript": [
       "\n",
       "        $('span:contains(\"# Temp\")').closest('.cell').remove();\n",
       "        var code = IPython.notebook.insert_cell_below('code');\n",
       "        code.set_text(atob(\"IyBUZW1wCmluc2VydCgnJycnJycpOw==\"));\n",
       "    "
      ],
      "text/plain": [
       "<IPython.core.display.Javascript object>"
      ]
     },
     "metadata": {},
     "output_type": "display_data"
    },
    {
     "data": {
      "application/javascript": [
       "$('span:contains(\"# Temp\")').closest('.cell').remove();"
      ],
      "text/plain": [
       "<IPython.core.display.Javascript object>"
      ]
     },
     "metadata": {},
     "output_type": "display_data"
    },
    {
     "data": {
      "application/javascript": [
       "\n",
       "        $('span:contains(\"# Temp\")').closest('.cell').remove();\n",
       "        var code = IPython.notebook.insert_cell_below('code');\n",
       "        code.set_text(atob(\"IyBUZW1wCmluc2VydCgnJycnJycpOw==\"));\n",
       "    "
      ],
      "text/plain": [
       "<IPython.core.display.Javascript object>"
      ]
     },
     "metadata": {},
     "output_type": "display_data"
    },
    {
     "data": {
      "application/javascript": [
       "$('span:contains(\"# Temp\")').closest('.cell').remove();"
      ],
      "text/plain": [
       "<IPython.core.display.Javascript object>"
      ]
     },
     "metadata": {},
     "output_type": "display_data"
    },
    {
     "data": {
      "application/javascript": [
       "\n",
       "        $('span:contains(\"# Temp\")').closest('.cell').remove();\n",
       "        var code = IPython.notebook.insert_cell_below('code');\n",
       "        code.set_text(atob(\"IyBUZW1wCmluc2VydCgnJycnJycpOw==\"));\n",
       "    "
      ],
      "text/plain": [
       "<IPython.core.display.Javascript object>"
      ]
     },
     "metadata": {},
     "output_type": "display_data"
    },
    {
     "data": {
      "application/javascript": [
       "$('span:contains(\"# Temp\")').closest('.cell').remove();"
      ],
      "text/plain": [
       "<IPython.core.display.Javascript object>"
      ]
     },
     "metadata": {},
     "output_type": "display_data"
    },
    {
     "data": {
      "application/javascript": [
       "\n",
       "        $('span:contains(\"# Temp\")').closest('.cell').remove();\n",
       "        var code = IPython.notebook.insert_cell_below('code');\n",
       "        code.set_text(atob(\"IyBUZW1wCmluc2VydCgnJycnJycpOw==\"));\n",
       "    "
      ],
      "text/plain": [
       "<IPython.core.display.Javascript object>"
      ]
     },
     "metadata": {},
     "output_type": "display_data"
    },
    {
     "data": {
      "application/javascript": [
       "$('span:contains(\"# Temp\")').closest('.cell').remove();"
      ],
      "text/plain": [
       "<IPython.core.display.Javascript object>"
      ]
     },
     "metadata": {},
     "output_type": "display_data"
    },
    {
     "data": {
      "application/javascript": [
       "\n",
       "        $('span:contains(\"# Temp\")').closest('.cell').remove();\n",
       "        var code = IPython.notebook.insert_cell_below('code');\n",
       "        code.set_text(atob(\"IyBUZW1wCmluc2VydCgnJycnJycpOw==\"));\n",
       "    "
      ],
      "text/plain": [
       "<IPython.core.display.Javascript object>"
      ]
     },
     "metadata": {},
     "output_type": "display_data"
    },
    {
     "data": {
      "application/javascript": [
       "$('span:contains(\"# Temp\")').closest('.cell').remove();"
      ],
      "text/plain": [
       "<IPython.core.display.Javascript object>"
      ]
     },
     "metadata": {},
     "output_type": "display_data"
    },
    {
     "data": {
      "application/javascript": [
       "\n",
       "        $('span:contains(\"# Temp\")').closest('.cell').remove();\n",
       "        var code = IPython.notebook.insert_cell_below('code');\n",
       "        code.set_text(atob(\"IyBUZW1wCmluc2VydCgnJycnJycpOw==\"));\n",
       "    "
      ],
      "text/plain": [
       "<IPython.core.display.Javascript object>"
      ]
     },
     "metadata": {},
     "output_type": "display_data"
    },
    {
     "data": {
      "application/javascript": [
       "$('span:contains(\"# Temp\")').closest('.cell').remove();"
      ],
      "text/plain": [
       "<IPython.core.display.Javascript object>"
      ]
     },
     "metadata": {},
     "output_type": "display_data"
    },
    {
     "data": {
      "application/javascript": [
       "\n",
       "        $('span:contains(\"# Temp\")').closest('.cell').remove();\n",
       "        var code = IPython.notebook.insert_cell_below('code');\n",
       "        code.set_text(atob(\"IyBUZW1wCmluc2VydCgnJycnJycpOw==\"));\n",
       "    "
      ],
      "text/plain": [
       "<IPython.core.display.Javascript object>"
      ]
     },
     "metadata": {},
     "output_type": "display_data"
    },
    {
     "data": {
      "application/javascript": [
       "$('span:contains(\"# Temp\")').closest('.cell').remove();"
      ],
      "text/plain": [
       "<IPython.core.display.Javascript object>"
      ]
     },
     "metadata": {},
     "output_type": "display_data"
    },
    {
     "data": {
      "application/javascript": [
       "\n",
       "        $('span:contains(\"# Temp\")').closest('.cell').remove();\n",
       "        var code = IPython.notebook.insert_cell_below('code');\n",
       "        code.set_text(atob(\"IyBUZW1wCmluc2VydCgnJycnJycpOw==\"));\n",
       "    "
      ],
      "text/plain": [
       "<IPython.core.display.Javascript object>"
      ]
     },
     "metadata": {},
     "output_type": "display_data"
    },
    {
     "data": {
      "application/javascript": [
       "$('span:contains(\"# Temp\")').closest('.cell').remove();"
      ],
      "text/plain": [
       "<IPython.core.display.Javascript object>"
      ]
     },
     "metadata": {},
     "output_type": "display_data"
    },
    {
     "data": {
      "application/javascript": [
       "\n",
       "        $('span:contains(\"# Temp\")').closest('.cell').remove();\n",
       "        var code = IPython.notebook.insert_cell_below('code');\n",
       "        code.set_text(atob(\"IyBUZW1wCmluc2VydCgnJycnJycpOw==\"));\n",
       "    "
      ],
      "text/plain": [
       "<IPython.core.display.Javascript object>"
      ]
     },
     "metadata": {},
     "output_type": "display_data"
    },
    {
     "data": {
      "application/javascript": [
       "$('span:contains(\"# Temp\")').closest('.cell').remove();"
      ],
      "text/plain": [
       "<IPython.core.display.Javascript object>"
      ]
     },
     "metadata": {},
     "output_type": "display_data"
    },
    {
     "data": {
      "application/javascript": [
       "\n",
       "        $('span:contains(\"# Temp\")').closest('.cell').remove();\n",
       "        var code = IPython.notebook.insert_cell_below('code');\n",
       "        code.set_text(atob(\"IyBUZW1wCmluc2VydCgnJycnJycpOw==\"));\n",
       "    "
      ],
      "text/plain": [
       "<IPython.core.display.Javascript object>"
      ]
     },
     "metadata": {},
     "output_type": "display_data"
    },
    {
     "data": {
      "application/javascript": [
       "$('span:contains(\"# Temp\")').closest('.cell').remove();"
      ],
      "text/plain": [
       "<IPython.core.display.Javascript object>"
      ]
     },
     "metadata": {},
     "output_type": "display_data"
    },
    {
     "data": {
      "application/javascript": [
       "\n",
       "        $('span:contains(\"# Temp\")').closest('.cell').remove();\n",
       "        var code = IPython.notebook.insert_cell_below('code');\n",
       "        code.set_text(atob(\"IyBUZW1wCmluc2VydCgnJycnJycpOw==\"));\n",
       "    "
      ],
      "text/plain": [
       "<IPython.core.display.Javascript object>"
      ]
     },
     "metadata": {},
     "output_type": "display_data"
    },
    {
     "data": {
      "application/javascript": [
       "$('span:contains(\"# Temp\")').closest('.cell').remove();"
      ],
      "text/plain": [
       "<IPython.core.display.Javascript object>"
      ]
     },
     "metadata": {},
     "output_type": "display_data"
    },
    {
     "data": {
      "application/javascript": [
       "\n",
       "        $('span:contains(\"# Temp\")').closest('.cell').remove();\n",
       "        var code = IPython.notebook.insert_cell_below('code');\n",
       "        code.set_text(atob(\"IyBUZW1wCmluc2VydCgnJycnJycpOw==\"));\n",
       "    "
      ],
      "text/plain": [
       "<IPython.core.display.Javascript object>"
      ]
     },
     "metadata": {},
     "output_type": "display_data"
    },
    {
     "data": {
      "application/javascript": [
       "$('span:contains(\"# Temp\")').closest('.cell').remove();"
      ],
      "text/plain": [
       "<IPython.core.display.Javascript object>"
      ]
     },
     "metadata": {},
     "output_type": "display_data"
    },
    {
     "data": {
      "application/javascript": [
       "\n",
       "        $('span:contains(\"# Temp\")').closest('.cell').remove();\n",
       "        var code = IPython.notebook.insert_cell_below('code');\n",
       "        code.set_text(atob(\"IyBUZW1wCmluc2VydCgnJycnJycpOw==\"));\n",
       "    "
      ],
      "text/plain": [
       "<IPython.core.display.Javascript object>"
      ]
     },
     "metadata": {},
     "output_type": "display_data"
    },
    {
     "data": {
      "application/javascript": [
       "$('span:contains(\"# Temp\")').closest('.cell').remove();"
      ],
      "text/plain": [
       "<IPython.core.display.Javascript object>"
      ]
     },
     "metadata": {},
     "output_type": "display_data"
    },
    {
     "data": {
      "application/javascript": [
       "\n",
       "        $('span:contains(\"# Temp\")').closest('.cell').remove();\n",
       "        var code = IPython.notebook.insert_cell_below('code');\n",
       "        code.set_text(atob(\"IyBUZW1wCmluc2VydCgnJycKICAgIGJlcmdtYW4yMDAxYSA9IERCKFdvcmtVbnJlbGF0ZWQoCiAgICAgICAgMjAwMSwgIkxlc3NvbnMgZnJvbSB0aGUgRVVSRVggV29ya3Nob3BzIiwKICAgICAgICBkaXNwbGF5PSJiZXJnbWFuIiwKICAgICAgICBhdXRob3JzPSJCZXJnbWFuLCBMYXJzIiwKICAgICAgICBwbGFjZT1GQUtFLAogICAgICAgIHBwPSIyNTctLTMwNCIsCiAgICAgICAgZW50cnl0eXBlPSJpbmJvb2siLAogICAgICAgIGVkaXRvcj0iSGF1ZywgTWljaGFlbAphbmQgT2xzZW4sIEVyaWMgVy4KYW5kIEJlcmdtYW4sIExhcnMiLAogICAgICAgIHB1Ymxpc2hlcj0iU3ByaW5nZXIgQmVybGluIEhlaWRlbGJlcmciLAogICAgICAgIGFkZHJlc3M9IkJlcmxpbiwgSGVpZGVsYmVyZyIsCiAgICAgICAgSUQ9IkJlcmdtYW4yMDAxIiwKICAgICAgICBzcHJpbmdlcj0iMSIsCiAgICAgICAgcGxhY2V4PSJTb2Z0d2FyZSBQcm9jZXNzIEltcHJvdmVtZW50OiBNZXRyaWNzLCBNZWFzdXJlbWVudCwgYW5kIFByb2Nlc3MgTW9kZWxsaW5nOiBTb2Z0d2FyZSBCZXN0IFByYWN0aWNlIDQiLAogICAgKSkKJycnKTs=\"));\n",
       "    "
      ],
      "text/plain": [
       "<IPython.core.display.Javascript object>"
      ]
     },
     "metadata": {},
     "output_type": "display_data"
    },
    {
     "data": {
      "application/javascript": [
       "$('span:contains(\"# Temp\")').closest('.cell').remove();"
      ],
      "text/plain": [
       "<IPython.core.display.Javascript object>"
      ]
     },
     "metadata": {},
     "output_type": "display_data"
    },
    {
     "data": {
      "application/javascript": [
       "\n",
       "        $('span:contains(\"# Temp\")').closest('.cell').remove();\n",
       "        var code = IPython.notebook.insert_cell_below('code');\n",
       "        code.set_text(atob(\"IyBUZW1wCmluc2VydCgnJycKICAgIGJlcmdtYW4yMDAxYSA9IERCKFdvcmtVbnJlbGF0ZWQoCiAgICAgICAgMjAwMSwgIkxlc3NvbnMgZnJvbSB0aGUgRVVSRVggV29ya3Nob3BzIiwKICAgICAgICBkaXNwbGF5PSJiZXJnbWFuIiwKICAgICAgICBhdXRob3JzPSJCZXJnbWFuLCBMYXJzIiwKICAgICAgICBwbGFjZT1GQUtFLAogICAgICAgIHBwPSIyNTctLTMwNCIsCiAgICAgICAgZW50cnl0eXBlPSJpbmJvb2siLAogICAgICAgIGVkaXRvcj0iSGF1ZywgTWljaGFlbAphbmQgT2xzZW4sIEVyaWMgVy4KYW5kIEJlcmdtYW4sIExhcnMiLAogICAgICAgIHB1Ymxpc2hlcj0iU3ByaW5nZXIgQmVybGluIEhlaWRlbGJlcmciLAogICAgICAgIGFkZHJlc3M9IkJlcmxpbiwgSGVpZGVsYmVyZyIsCiAgICAgICAgSUQ9IkJlcmdtYW4yMDAxIiwKICAgICAgICBzcHJpbmdlcj0iMSIsCiAgICAgICAgcGxhY2V4PSJTb2Z0d2FyZSBQcm9jZXNzIEltcHJvdmVtZW50OiBNZXRyaWNzLCBNZWFzdXJlbWVudCwgYW5kIFByb2Nlc3MgTW9kZWxsaW5nOiBTb2Z0d2FyZSBCZXN0IFByYWN0aWNlIDQiLAogICAgKSkKJycnKTs=\"));\n",
       "    "
      ],
      "text/plain": [
       "<IPython.core.display.Javascript object>"
      ]
     },
     "metadata": {},
     "output_type": "display_data"
    },
    {
     "data": {
      "application/javascript": [
       "$('span:contains(\"# Temp\")').closest('.cell').remove();"
      ],
      "text/plain": [
       "<IPython.core.display.Javascript object>"
      ]
     },
     "metadata": {},
     "output_type": "display_data"
    },
    {
     "data": {
      "application/javascript": [
       "\n",
       "        $('span:contains(\"# Temp\")').closest('.cell').remove();\n",
       "        var code = IPython.notebook.insert_cell_below('code');\n",
       "        code.set_text(atob(\"IyBUZW1wCmluc2VydCgnJycKICAgIGplZGxpdHNjaGthMjAwNGEgPSBEQihXb3JrVW5yZWxhdGVkKAogICAgICAgIDIwMDQsICJUb3dhcmRzIENvbXByZWhlbnNpdmUgRXhwZXJpZW5jZS1CYXNlZCBEZWNpc2lvbiBTdXBwb3J0IiwKICAgICAgICBkaXNwbGF5PSJqZWRsaXRzY2hrYSIsCiAgICAgICAgYXV0aG9ycz0iSmVkbGl0c2Noa2EsIEFuZHJlYXMKYW5kIFBmYWhsLCBEaWV0bWFyIiwKICAgICAgICBwbGFjZT1TUElQLAogICAgICAgIHBwPSIzNC0tNDUiLAogICAgICAgIGVudHJ5dHlwZT0iaW5wcm9jZWVkaW5ncyIsCiAgICAgICAgZWRpdG9yPSJEaW5nc/h5ciwgVG9yZ2VpciIsCiAgICAgICAgcHVibGlzaGVyPSJTcHJpbmdlciBCZXJsaW4gSGVpZGVsYmVyZyIsCiAgICAgICAgYWRkcmVzcz0iQmVybGluLCBIZWlkZWxiZXJnIiwKICAgICAgICBJRD0iMTAuMTAwNy85NzgtMy01NDAtMzAxODEtM180IiwKICAgICAgICBzcHJpbmdlcj0iMSIsCiAgICAgICAgcGxhY2V4PSJTb2Z0d2FyZSBQcm9jZXNzIEltcHJvdmVtZW50IiwKICAgICkpCicnJyk7\"));\n",
       "    "
      ],
      "text/plain": [
       "<IPython.core.display.Javascript object>"
      ]
     },
     "metadata": {},
     "output_type": "display_data"
    },
    {
     "data": {
      "application/javascript": [
       "$('span:contains(\"# Temp\")').closest('.cell').remove();"
      ],
      "text/plain": [
       "<IPython.core.display.Javascript object>"
      ]
     },
     "metadata": {},
     "output_type": "display_data"
    },
    {
     "data": {
      "application/javascript": [
       "\n",
       "        $('span:contains(\"# Temp\")').closest('.cell').remove();\n",
       "        var code = IPython.notebook.insert_cell_below('code');\n",
       "        code.set_text(atob(\"IyBUZW1wCmluc2VydCgnJycKICAgIGplZGxpdHNjaGthMjAwNGEgPSBEQihXb3JrVW5yZWxhdGVkKAogICAgICAgIDIwMDQsICJUb3dhcmRzIENvbXByZWhlbnNpdmUgRXhwZXJpZW5jZS1CYXNlZCBEZWNpc2lvbiBTdXBwb3J0IiwKICAgICAgICBkaXNwbGF5PSJqZWRsaXRzY2hrYSIsCiAgICAgICAgYXV0aG9ycz0iSmVkbGl0c2Noa2EsIEFuZHJlYXMKYW5kIFBmYWhsLCBEaWV0bWFyIiwKICAgICAgICBwbGFjZT1TUElQLAogICAgICAgIHBwPSIzNC0tNDUiLAogICAgICAgIGVudHJ5dHlwZT0iaW5wcm9jZWVkaW5ncyIsCiAgICAgICAgZWRpdG9yPSJEaW5nc/h5ciwgVG9yZ2VpciIsCiAgICAgICAgcHVibGlzaGVyPSJTcHJpbmdlciBCZXJsaW4gSGVpZGVsYmVyZyIsCiAgICAgICAgYWRkcmVzcz0iQmVybGluLCBIZWlkZWxiZXJnIiwKICAgICAgICBJRD0iMTAuMTAwNy85NzgtMy01NDAtMzAxODEtM180IiwKICAgICAgICBzcHJpbmdlcj0iMSIsCiAgICAgICAgcGxhY2V4PSJTb2Z0d2FyZSBQcm9jZXNzIEltcHJvdmVtZW50IiwKICAgICkpCicnJyk7\"));\n",
       "    "
      ],
      "text/plain": [
       "<IPython.core.display.Javascript object>"
      ]
     },
     "metadata": {},
     "output_type": "display_data"
    },
    {
     "data": {
      "application/javascript": [
       "$('span:contains(\"# Temp\")').closest('.cell').remove();"
      ],
      "text/plain": [
       "<IPython.core.display.Javascript object>"
      ]
     },
     "metadata": {},
     "output_type": "display_data"
    },
    {
     "data": {
      "application/javascript": [
       "\n",
       "        $('span:contains(\"# Temp\")').closest('.cell').remove();\n",
       "        var code = IPython.notebook.insert_cell_below('code');\n",
       "        code.set_text(atob(\"IyBUZW1wCmluc2VydCgnJycKICAgIGrkcnZpbmVuMjAwMGEgPSBEQihXb3JrVW5yZWxhdGVkKAogICAgICAgIDIwMDAsICJUaGUgUFJPRkVTIEltcHJvdmVtZW50IE1ldGhvZG9sb2d5IC0tIEVuYWJsaW5nIFRlY2hub2xvZ2llcyBhbmQgTWV0aG9kb2xvZ3kgRGVzaWduIiwKICAgICAgICBkaXNwbGF5PSJq5HJ2aW5lbiIsCiAgICAgICAgYXV0aG9ycz0iSuRydmluZW4sIEphbm5lCmFuZCBLb21pLVNpcnZp9iwgU2VpamEKYW5kIFJ1aGUsIEd1ZW50aGVyIiwKICAgICAgICBwbGFjZT1QUk9GRVMsCiAgICAgICAgZW50cnl0eXBlPSJpbnByb2NlZWRpbmdzIiwKICAgICAgICBlZGl0b3I9IkJvbWFyaXVzLCBGcmFuawphbmQgT2l2bywgTWFya2t1IiwKICAgICAgICBwdWJsaXNoZXI9IlNwcmluZ2VyIEJlcmxpbiBIZWlkZWxiZXJnIiwKICAgICAgICBhZGRyZXNzPSJCZXJsaW4sIEhlaWRlbGJlcmciLAogICAgICAgIElEPSIxMC4xMDA3Lzk3OC0zLTU0MC00NTA1MS0xXzI0IiwKICAgICAgICBzcHJpbmdlcj0iMSIsCiAgICAgICAgcGxhY2V4PSJQcm9kdWN0IEZvY3VzZWQgU29mdHdhcmUgUHJvY2VzcyBJbXByb3ZlbWVudCIsCiAgICApKQonJycpOw==\"));\n",
       "    "
      ],
      "text/plain": [
       "<IPython.core.display.Javascript object>"
      ]
     },
     "metadata": {},
     "output_type": "display_data"
    },
    {
     "data": {
      "application/javascript": [
       "$('span:contains(\"# Temp\")').closest('.cell').remove();"
      ],
      "text/plain": [
       "<IPython.core.display.Javascript object>"
      ]
     },
     "metadata": {},
     "output_type": "display_data"
    },
    {
     "data": {
      "application/javascript": [
       "\n",
       "        $('span:contains(\"# Temp\")').closest('.cell').remove();\n",
       "        var code = IPython.notebook.insert_cell_below('code');\n",
       "        code.set_text(atob(\"IyBUZW1wCmluc2VydCgnJycKICAgIGrkcnZpbmVuMjAwMGEgPSBEQihXb3JrVW5yZWxhdGVkKAogICAgICAgIDIwMDAsICJUaGUgUFJPRkVTIEltcHJvdmVtZW50IE1ldGhvZG9sb2d5IC0tIEVuYWJsaW5nIFRlY2hub2xvZ2llcyBhbmQgTWV0aG9kb2xvZ3kgRGVzaWduIiwKICAgICAgICBkaXNwbGF5PSJq5HJ2aW5lbiIsCiAgICAgICAgYXV0aG9ycz0iSuRydmluZW4sIEphbm5lCmFuZCBLb21pLVNpcnZp9iwgU2VpamEKYW5kIFJ1aGUsIEd1ZW50aGVyIiwKICAgICAgICBwbGFjZT1QUk9GRVMsCiAgICAgICAgZW50cnl0eXBlPSJpbnByb2NlZWRpbmdzIiwKICAgICAgICBlZGl0b3I9IkJvbWFyaXVzLCBGcmFuawphbmQgT2l2bywgTWFya2t1IiwKICAgICAgICBwdWJsaXNoZXI9IlNwcmluZ2VyIEJlcmxpbiBIZWlkZWxiZXJnIiwKICAgICAgICBhZGRyZXNzPSJCZXJsaW4sIEhlaWRlbGJlcmciLAogICAgICAgIElEPSIxMC4xMDA3Lzk3OC0zLTU0MC00NTA1MS0xXzI0IiwKICAgICAgICBzcHJpbmdlcj0iMSIsCiAgICAgICAgcGxhY2V4PSJQcm9kdWN0IEZvY3VzZWQgU29mdHdhcmUgUHJvY2VzcyBJbXByb3ZlbWVudCIsCiAgICApKQonJycpOw==\"));\n",
       "    "
      ],
      "text/plain": [
       "<IPython.core.display.Javascript object>"
      ]
     },
     "metadata": {},
     "output_type": "display_data"
    },
    {
     "data": {
      "application/javascript": [
       "$('span:contains(\"# Temp\")').closest('.cell').remove();"
      ],
      "text/plain": [
       "<IPython.core.display.Javascript object>"
      ]
     },
     "metadata": {},
     "output_type": "display_data"
    },
    {
     "data": {
      "application/javascript": [
       "\n",
       "        $('span:contains(\"# Temp\")').closest('.cell').remove();\n",
       "        var code = IPython.notebook.insert_cell_below('code');\n",
       "        code.set_text(atob(\"IyBUZW1wCmluc2VydCgnJycKICAgIHZhbGVyaW8yMDAyYSA9IERCKFdvcmtVbnJlbGF0ZWQoCiAgICAgICAgMjAwMiwgIlNvZnR3YXJlIFByb2Nlc3MgSW1wcm92ZW1lbnQgdGhyb3VnaCBVc2UgQ2FzZXM6IEJ1aWxkaW5nIFF1YWxpdHkgZnJvbSB0aGUgVmVyeSBCZWdpbm5pbmciLAogICAgICAgIGRpc3BsYXk9InZhbGVyaW8iLAogICAgICAgIGF1dGhvcnM9IlZhbGVyaW8sIEFuZHJlYQphbmQgRmVuYXJvbGksIE1hc3NpbW8iLAogICAgICAgIHBsYWNlPVBST0ZFUywKICAgICAgICBwcD0iMzk4LS00MDYiLAogICAgICAgIGVudHJ5dHlwZT0iaW5wcm9jZWVkaW5ncyIsCiAgICAgICAgZWRpdG9yPSJPaXZvLCBNYXJra3UKYW5kIEtvbWktU2lydmn2LCBTZWlqYSIsCiAgICAgICAgcHVibGlzaGVyPSJTcHJpbmdlciBCZXJsaW4gSGVpZGVsYmVyZyIsCiAgICAgICAgYWRkcmVzcz0iQmVybGluLCBIZWlkZWxiZXJnIiwKICAgICAgICBJRD0iMTAuMTAwNy8zLTU0MC0zNjIwOS02XzMzIiwKICAgICAgICBzcHJpbmdlcj0iMSIsCiAgICAgICAgcGxhY2V4PSJQcm9kdWN0IEZvY3VzZWQgU29mdHdhcmUgUHJvY2VzcyBJbXByb3ZlbWVudCIsCiAgICApKQonJycpOw==\"));\n",
       "    "
      ],
      "text/plain": [
       "<IPython.core.display.Javascript object>"
      ]
     },
     "metadata": {},
     "output_type": "display_data"
    },
    {
     "data": {
      "application/javascript": [
       "$('span:contains(\"# Temp\")').closest('.cell').remove();"
      ],
      "text/plain": [
       "<IPython.core.display.Javascript object>"
      ]
     },
     "metadata": {},
     "output_type": "display_data"
    },
    {
     "data": {
      "application/javascript": [
       "\n",
       "        $('span:contains(\"# Temp\")').closest('.cell').remove();\n",
       "        var code = IPython.notebook.insert_cell_below('code');\n",
       "        code.set_text(atob(\"IyBUZW1wCmluc2VydCgnJycKICAgIHZhbGVyaW8yMDAyYSA9IERCKFdvcmtVbnJlbGF0ZWQoCiAgICAgICAgMjAwMiwgIlNvZnR3YXJlIFByb2Nlc3MgSW1wcm92ZW1lbnQgdGhyb3VnaCBVc2UgQ2FzZXM6IEJ1aWxkaW5nIFF1YWxpdHkgZnJvbSB0aGUgVmVyeSBCZWdpbm5pbmciLAogICAgICAgIGRpc3BsYXk9InZhbGVyaW8iLAogICAgICAgIGF1dGhvcnM9IlZhbGVyaW8sIEFuZHJlYQphbmQgRmVuYXJvbGksIE1hc3NpbW8iLAogICAgICAgIHBsYWNlPVBST0ZFUywKICAgICAgICBwcD0iMzk4LS00MDYiLAogICAgICAgIGVudHJ5dHlwZT0iaW5wcm9jZWVkaW5ncyIsCiAgICAgICAgZWRpdG9yPSJPaXZvLCBNYXJra3UKYW5kIEtvbWktU2lydmn2LCBTZWlqYSIsCiAgICAgICAgcHVibGlzaGVyPSJTcHJpbmdlciBCZXJsaW4gSGVpZGVsYmVyZyIsCiAgICAgICAgYWRkcmVzcz0iQmVybGluLCBIZWlkZWxiZXJnIiwKICAgICAgICBJRD0iMTAuMTAwNy8zLTU0MC0zNjIwOS02XzMzIiwKICAgICAgICBzcHJpbmdlcj0iMSIsCiAgICAgICAgcGxhY2V4PSJQcm9kdWN0IEZvY3VzZWQgU29mdHdhcmUgUHJvY2VzcyBJbXByb3ZlbWVudCIsCiAgICApKQonJycpOw==\"));\n",
       "    "
      ],
      "text/plain": [
       "<IPython.core.display.Javascript object>"
      ]
     },
     "metadata": {},
     "output_type": "display_data"
    },
    {
     "data": {
      "application/javascript": [
       "$('span:contains(\"# Temp\")').closest('.cell').remove();"
      ],
      "text/plain": [
       "<IPython.core.display.Javascript object>"
      ]
     },
     "metadata": {},
     "output_type": "display_data"
    },
    {
     "data": {
      "application/javascript": [
       "\n",
       "        $('span:contains(\"# Temp\")').closest('.cell').remove();\n",
       "        var code = IPython.notebook.insert_cell_below('code');\n",
       "        code.set_text(atob(\"IyBUZW1wCmluc2VydCgnJycKICAgIGhhdWcyMDAxYiA9IERCKFdvcmtVbnJlbGF0ZWQoCiAgICAgICAgMjAwMSwgIlN1bW1hcmllcyBvZiBQSUUgUmVwb3J0cyIsCiAgICAgICAgZGlzcGxheT0iaGF1ZyBiIiwKICAgICAgICBhdXRob3JzPSJIYXVnLCBNaWNoYWVsCmFuZCBPbHNlbiwgRXJpYyBXLgphbmQgQ29uc29saW5pLCBMdWlzYSIsCiAgICAgICAgcGxhY2U9RkFLRSwKICAgICAgICBwcD0iMjE1LS0yOTMiLAogICAgICAgIGVudHJ5dHlwZT0iaW5ib29rIiwKICAgICAgICBlZGl0b3I9IkhhdWcsIE1pY2hhZWwKYW5kIE9sc2VuLCBFcmljIFcuCmFuZCBDb25zb2xpbmksIEx1aXNhIiwKICAgICAgICBwdWJsaXNoZXI9IlNwcmluZ2VyIEJlcmxpbiBIZWlkZWxiZXJnIiwKICAgICAgICBhZGRyZXNzPSJCZXJsaW4sIEhlaWRlbGJlcmciLAogICAgICAgIElEPSJIYXVnMjAwMSIsCiAgICAgICAgc3ByaW5nZXI9IjEiLAogICAgICAgIHBsYWNleD0iU29mdHdhcmUgUXVhbGl0eSBBcHByb2FjaGVzOiBUZXN0aW5nLCBWZXJpZmljYXRpb24sIGFuZCBWYWxpZGF0aW9uOiBTb2Z0d2FyZSBCZXN0IFByYWN0aWNlIDEiLAogICAgKSkKJycnKTs=\"));\n",
       "    "
      ],
      "text/plain": [
       "<IPython.core.display.Javascript object>"
      ]
     },
     "metadata": {},
     "output_type": "display_data"
    },
    {
     "data": {
      "application/javascript": [
       "$('span:contains(\"# Temp\")').closest('.cell').remove();"
      ],
      "text/plain": [
       "<IPython.core.display.Javascript object>"
      ]
     },
     "metadata": {},
     "output_type": "display_data"
    },
    {
     "data": {
      "application/javascript": [
       "\n",
       "        $('span:contains(\"# Temp\")').closest('.cell').remove();\n",
       "        var code = IPython.notebook.insert_cell_below('code');\n",
       "        code.set_text(atob(\"IyBUZW1wCmluc2VydCgnJycKICAgIGhhdWcyMDAxYiA9IERCKFdvcmtVbnJlbGF0ZWQoCiAgICAgICAgMjAwMSwgIlN1bW1hcmllcyBvZiBQSUUgUmVwb3J0cyIsCiAgICAgICAgZGlzcGxheT0iaGF1ZyBiIiwKICAgICAgICBhdXRob3JzPSJIYXVnLCBNaWNoYWVsCmFuZCBPbHNlbiwgRXJpYyBXLgphbmQgQ29uc29saW5pLCBMdWlzYSIsCiAgICAgICAgcGxhY2U9RkFLRSwKICAgICAgICBwcD0iMjE1LS0yOTMiLAogICAgICAgIGVudHJ5dHlwZT0iaW5ib29rIiwKICAgICAgICBlZGl0b3I9IkhhdWcsIE1pY2hhZWwKYW5kIE9sc2VuLCBFcmljIFcuCmFuZCBDb25zb2xpbmksIEx1aXNhIiwKICAgICAgICBwdWJsaXNoZXI9IlNwcmluZ2VyIEJlcmxpbiBIZWlkZWxiZXJnIiwKICAgICAgICBhZGRyZXNzPSJCZXJsaW4sIEhlaWRlbGJlcmciLAogICAgICAgIElEPSJIYXVnMjAwMSIsCiAgICAgICAgc3ByaW5nZXI9IjEiLAogICAgICAgIHBsYWNleD0iU29mdHdhcmUgUXVhbGl0eSBBcHByb2FjaGVzOiBUZXN0aW5nLCBWZXJpZmljYXRpb24sIGFuZCBWYWxpZGF0aW9uOiBTb2Z0d2FyZSBCZXN0IFByYWN0aWNlIDEiLAogICAgKSkKJycnKTs=\"));\n",
       "    "
      ],
      "text/plain": [
       "<IPython.core.display.Javascript object>"
      ]
     },
     "metadata": {},
     "output_type": "display_data"
    },
    {
     "data": {
      "application/javascript": [
       "$('span:contains(\"# Temp\")').closest('.cell').remove();"
      ],
      "text/plain": [
       "<IPython.core.display.Javascript object>"
      ]
     },
     "metadata": {},
     "output_type": "display_data"
    },
    {
     "data": {
      "application/javascript": [
       "\n",
       "        $('span:contains(\"# Temp\")').closest('.cell').remove();\n",
       "        var code = IPython.notebook.insert_cell_below('code');\n",
       "        code.set_text(atob(\"IyBUZW1wCmluc2VydCgnJycKa3V2YWphMTk5NWEgPSBEQihXb3JrVW5yZWxhdGVkKAogICAgMTk5NSwgIkJPT1RTVFJBUDogQSBzb2Z0d2FyZSBwcm9jZXNzIGFzc2Vzc21lbnQgYW5kIGltcHJvdmVtZW50IG1ldGhvZG9sb2d5IiwKICAgIGRpc3BsYXk9Imt1dmFqYSIsCiAgICBhdXRob3JzPSJLdXZhamEsIFBhc2kiLAogICAgcGxhY2U9RkFLRSwKICAgIHBwPSIzMS0tNDgiLAogICAgZW50cnl0eXBlPSJpbnByb2NlZWRpbmdzIiwKICAgIGVkaXRvcj0iTmVzaSwgUGFvbG8iLAogICAgcHVibGlzaGVyPSJTcHJpbmdlciBCZXJsaW4gSGVpZGVsYmVyZyIsCiAgICBhZGRyZXNzPSJCZXJsaW4sIEhlaWRlbGJlcmciLAogICAgSUQ9IjEwLjEwMDcvMy01NDAtNTk0NDktM18yMiIsCiAgICBzcHJpbmdlcj0iMSIsCiAgICBwbGFjZXg9Ik9iamVjdGl2ZSBTb2Z0d2FyZSBRdWFsaXR5IiwKKSkKJycnKTs=\"));\n",
       "    "
      ],
      "text/plain": [
       "<IPython.core.display.Javascript object>"
      ]
     },
     "metadata": {},
     "output_type": "display_data"
    },
    {
     "data": {
      "application/javascript": [
       "$('span:contains(\"# Temp\")').closest('.cell').remove();"
      ],
      "text/plain": [
       "<IPython.core.display.Javascript object>"
      ]
     },
     "metadata": {},
     "output_type": "display_data"
    },
    {
     "data": {
      "application/javascript": [
       "\n",
       "        $('span:contains(\"# Temp\")').closest('.cell').remove();\n",
       "        var code = IPython.notebook.insert_cell_below('code');\n",
       "        code.set_text(atob(\"IyBUZW1wCmluc2VydCgnJycKa3V2YWphMTk5NWEgPSBEQihXb3JrVW5yZWxhdGVkKAogICAgMTk5NSwgIkJPT1RTVFJBUDogQSBzb2Z0d2FyZSBwcm9jZXNzIGFzc2Vzc21lbnQgYW5kIGltcHJvdmVtZW50IG1ldGhvZG9sb2d5IiwKICAgIGRpc3BsYXk9Imt1dmFqYSIsCiAgICBhdXRob3JzPSJLdXZhamEsIFBhc2kiLAogICAgcGxhY2U9RkFLRSwKICAgIHBwPSIzMS0tNDgiLAogICAgZW50cnl0eXBlPSJpbnByb2NlZWRpbmdzIiwKICAgIGVkaXRvcj0iTmVzaSwgUGFvbG8iLAogICAgcHVibGlzaGVyPSJTcHJpbmdlciBCZXJsaW4gSGVpZGVsYmVyZyIsCiAgICBhZGRyZXNzPSJCZXJsaW4sIEhlaWRlbGJlcmciLAogICAgSUQ9IjEwLjEwMDcvMy01NDAtNTk0NDktM18yMiIsCiAgICBzcHJpbmdlcj0iMSIsCiAgICBwbGFjZXg9Ik9iamVjdGl2ZSBTb2Z0d2FyZSBRdWFsaXR5IiwKKSkKJycnKTs=\"));\n",
       "    "
      ],
      "text/plain": [
       "<IPython.core.display.Javascript object>"
      ]
     },
     "metadata": {},
     "output_type": "display_data"
    },
    {
     "data": {
      "application/javascript": [
       "$('span:contains(\"# Temp\")').closest('.cell').remove();"
      ],
      "text/plain": [
       "<IPython.core.display.Javascript object>"
      ]
     },
     "metadata": {},
     "output_type": "display_data"
    },
    {
     "data": {
      "application/javascript": [
       "\n",
       "        $('span:contains(\"# Temp\")').closest('.cell').remove();\n",
       "        var code = IPython.notebook.insert_cell_below('code');\n",
       "        code.set_text(atob(\"IyBUZW1wCmluc2VydCgnJycnJycpOw==\"));\n",
       "    "
      ],
      "text/plain": [
       "<IPython.core.display.Javascript object>"
      ]
     },
     "metadata": {},
     "output_type": "display_data"
    },
    {
     "data": {
      "application/javascript": [
       "$('span:contains(\"# Temp\")').closest('.cell').remove();"
      ],
      "text/plain": [
       "<IPython.core.display.Javascript object>"
      ]
     },
     "metadata": {},
     "output_type": "display_data"
    },
    {
     "data": {
      "application/javascript": [
       "\n",
       "        $('span:contains(\"# Temp\")').closest('.cell').remove();\n",
       "        var code = IPython.notebook.insert_cell_below('code');\n",
       "        code.set_text(atob(\"IyBUZW1wCmluc2VydCgnJycnJycpOw==\"));\n",
       "    "
      ],
      "text/plain": [
       "<IPython.core.display.Javascript object>"
      ]
     },
     "metadata": {},
     "output_type": "display_data"
    },
    {
     "data": {
      "application/javascript": [
       "$('span:contains(\"# Temp\")').closest('.cell').remove();"
      ],
      "text/plain": [
       "<IPython.core.display.Javascript object>"
      ]
     },
     "metadata": {},
     "output_type": "display_data"
    },
    {
     "data": {
      "application/javascript": [
       "\n",
       "        $('span:contains(\"# Temp\")').closest('.cell').remove();\n",
       "        var code = IPython.notebook.insert_cell_below('code');\n",
       "        code.set_text(atob(\"IyBUZW1wCmluc2VydCgnJycKICAgIHZpc2NvbnRpMjAwMmEgPSBEQihXb3JrVW5yZWxhdGVkKAogICAgICAgIDIwMDIsICJBIE1ldGEtbW9kZWwgRnJhbWV3b3JrIGZvciBTb2Z0d2FyZSBQcm9jZXNzIE1vZGVsaW5nIiwKICAgICAgICBkaXNwbGF5PSJ2aXNjb250aSIsCiAgICAgICAgYXV0aG9ycz0iVmlzY29udGksIE1hcmNlbGxvCmFuZCBDb29rLCBDdXJ0aXMgUi4iLAogICAgICAgIHBsYWNlPVBST0ZFUywKICAgICAgICBwcD0iNTMyLS01NDUiLAogICAgICAgIGVudHJ5dHlwZT0iaW5wcm9jZWVkaW5ncyIsCiAgICAgICAgZWRpdG9yPSJPaXZvLCBNYXJra3UKYW5kIEtvbWktU2lydmn2LCBTZWlqYSIsCiAgICAgICAgcHVibGlzaGVyPSJTcHJpbmdlciBCZXJsaW4gSGVpZGVsYmVyZyIsCiAgICAgICAgYWRkcmVzcz0iQmVybGluLCBIZWlkZWxiZXJnIiwKICAgICAgICBJRD0iMTAuMTAwNy8zLTU0MC0zNjIwOS02XzQ0IiwKICAgICAgICBzcHJpbmdlcj0iMSIsCiAgICAgICAgcGxhY2V4PSJQcm9kdWN0IEZvY3VzZWQgU29mdHdhcmUgUHJvY2VzcyBJbXByb3ZlbWVudCIsCiAgICApKQonJycpOw==\"));\n",
       "    "
      ],
      "text/plain": [
       "<IPython.core.display.Javascript object>"
      ]
     },
     "metadata": {},
     "output_type": "display_data"
    },
    {
     "data": {
      "application/javascript": [
       "$('span:contains(\"# Temp\")').closest('.cell').remove();"
      ],
      "text/plain": [
       "<IPython.core.display.Javascript object>"
      ]
     },
     "metadata": {},
     "output_type": "display_data"
    },
    {
     "data": {
      "application/javascript": [
       "\n",
       "        $('span:contains(\"# Temp\")').closest('.cell').remove();\n",
       "        var code = IPython.notebook.insert_cell_below('code');\n",
       "        code.set_text(atob(\"IyBUZW1wCmluc2VydCgnJycKICAgIHZpc2NvbnRpMjAwMmEgPSBEQihXb3JrVW5yZWxhdGVkKAogICAgICAgIDIwMDIsICJBIE1ldGEtbW9kZWwgRnJhbWV3b3JrIGZvciBTb2Z0d2FyZSBQcm9jZXNzIE1vZGVsaW5nIiwKICAgICAgICBkaXNwbGF5PSJ2aXNjb250aSIsCiAgICAgICAgYXV0aG9ycz0iVmlzY29udGksIE1hcmNlbGxvCmFuZCBDb29rLCBDdXJ0aXMgUi4iLAogICAgICAgIHBsYWNlPVBST0ZFUywKICAgICAgICBwcD0iNTMyLS01NDUiLAogICAgICAgIGVudHJ5dHlwZT0iaW5wcm9jZWVkaW5ncyIsCiAgICAgICAgZWRpdG9yPSJPaXZvLCBNYXJra3UKYW5kIEtvbWktU2lydmn2LCBTZWlqYSIsCiAgICAgICAgcHVibGlzaGVyPSJTcHJpbmdlciBCZXJsaW4gSGVpZGVsYmVyZyIsCiAgICAgICAgYWRkcmVzcz0iQmVybGluLCBIZWlkZWxiZXJnIiwKICAgICAgICBJRD0iMTAuMTAwNy8zLTU0MC0zNjIwOS02XzQ0IiwKICAgICAgICBzcHJpbmdlcj0iMSIsCiAgICAgICAgcGxhY2V4PSJQcm9kdWN0IEZvY3VzZWQgU29mdHdhcmUgUHJvY2VzcyBJbXByb3ZlbWVudCIsCiAgICApKQonJycpOw==\"));\n",
       "    "
      ],
      "text/plain": [
       "<IPython.core.display.Javascript object>"
      ]
     },
     "metadata": {},
     "output_type": "display_data"
    },
    {
     "data": {
      "application/javascript": [
       "$('span:contains(\"# Temp\")').closest('.cell').remove();"
      ],
      "text/plain": [
       "<IPython.core.display.Javascript object>"
      ]
     },
     "metadata": {},
     "output_type": "display_data"
    },
    {
     "data": {
      "application/javascript": [
       "\n",
       "        $('span:contains(\"# Temp\")').closest('.cell').remove();\n",
       "        var code = IPython.notebook.insert_cell_below('code');\n",
       "        code.set_text(atob(\"IyBUZW1wCmluc2VydCgnJycnJycpOw==\"));\n",
       "    "
      ],
      "text/plain": [
       "<IPython.core.display.Javascript object>"
      ]
     },
     "metadata": {},
     "output_type": "display_data"
    },
    {
     "data": {
      "application/javascript": [
       "$('span:contains(\"# Temp\")').closest('.cell').remove();"
      ],
      "text/plain": [
       "<IPython.core.display.Javascript object>"
      ]
     },
     "metadata": {},
     "output_type": "display_data"
    },
    {
     "data": {
      "application/javascript": [
       "\n",
       "        $('span:contains(\"# Temp\")').closest('.cell').remove();\n",
       "        var code = IPython.notebook.insert_cell_below('code');\n",
       "        code.set_text(atob(\"IyBUZW1wCmluc2VydCgnJycnJycpOw==\"));\n",
       "    "
      ],
      "text/plain": [
       "<IPython.core.display.Javascript object>"
      ]
     },
     "metadata": {},
     "output_type": "display_data"
    },
    {
     "data": {
      "application/javascript": [
       "$('span:contains(\"# Temp\")').closest('.cell').remove();"
      ],
      "text/plain": [
       "<IPython.core.display.Javascript object>"
      ]
     },
     "metadata": {},
     "output_type": "display_data"
    },
    {
     "data": {
      "application/javascript": [
       "\n",
       "        $('span:contains(\"# Temp\")').closest('.cell').remove();\n",
       "        var code = IPython.notebook.insert_cell_below('code');\n",
       "        code.set_text(atob(\"IyBUZW1wCmluc2VydCgnJycKICAgIGJpcmsyMDAyYSA9IERCKFdvcmtVbnJlbGF0ZWQoCiAgICAgICAgMjAwMiwgIkEgU3lzdGVtcyBQZXJzcGVjdGl2ZSBvbiBTb2Z0d2FyZSBQcm9jZXNzIEltcHJvdmVtZW50IiwKICAgICAgICBkaXNwbGF5PSJiaXJrIiwKICAgICAgICBhdXRob3JzPSJCaXJrLCBBbmRyZWFzCmFuZCBQZmFobCwgRGlldG1hciIsCiAgICAgICAgcGxhY2U9UFJPRkVTLAogICAgICAgIHBwPSI0LS0xOCIsCiAgICAgICAgZW50cnl0eXBlPSJpbnByb2NlZWRpbmdzIiwKICAgICAgICBlZGl0b3I9Ik9pdm8sIE1hcmtrdQphbmQgS29taS1TaXJ2afYsIFNlaWphIiwKICAgICAgICBwdWJsaXNoZXI9IlNwcmluZ2VyIEJlcmxpbiBIZWlkZWxiZXJnIiwKICAgICAgICBhZGRyZXNzPSJCZXJsaW4sIEhlaWRlbGJlcmciLAogICAgICAgIElEPSIxMC4xMDA3LzMtNTQwLTM2MjA5LTZfNCIsCiAgICAgICAgc3ByaW5nZXI9IjEiLAogICAgICAgIHBsYWNleD0iUHJvZHVjdCBGb2N1c2VkIFNvZnR3YXJlIFByb2Nlc3MgSW1wcm92ZW1lbnQiLAogICAgKSkKJycnKTs=\"));\n",
       "    "
      ],
      "text/plain": [
       "<IPython.core.display.Javascript object>"
      ]
     },
     "metadata": {},
     "output_type": "display_data"
    },
    {
     "data": {
      "application/javascript": [
       "$('span:contains(\"# Temp\")').closest('.cell').remove();"
      ],
      "text/plain": [
       "<IPython.core.display.Javascript object>"
      ]
     },
     "metadata": {},
     "output_type": "display_data"
    },
    {
     "data": {
      "application/javascript": [
       "\n",
       "        $('span:contains(\"# Temp\")').closest('.cell').remove();\n",
       "        var code = IPython.notebook.insert_cell_below('code');\n",
       "        code.set_text(atob(\"IyBUZW1wCmluc2VydCgnJycKICAgIGJpcmsyMDAyYSA9IERCKFdvcmtVbnJlbGF0ZWQoCiAgICAgICAgMjAwMiwgIkEgU3lzdGVtcyBQZXJzcGVjdGl2ZSBvbiBTb2Z0d2FyZSBQcm9jZXNzIEltcHJvdmVtZW50IiwKICAgICAgICBkaXNwbGF5PSJiaXJrIiwKICAgICAgICBhdXRob3JzPSJCaXJrLCBBbmRyZWFzCmFuZCBQZmFobCwgRGlldG1hciIsCiAgICAgICAgcGxhY2U9UFJPRkVTLAogICAgICAgIHBwPSI0LS0xOCIsCiAgICAgICAgZW50cnl0eXBlPSJpbnByb2NlZWRpbmdzIiwKICAgICAgICBlZGl0b3I9Ik9pdm8sIE1hcmtrdQphbmQgS29taS1TaXJ2afYsIFNlaWphIiwKICAgICAgICBwdWJsaXNoZXI9IlNwcmluZ2VyIEJlcmxpbiBIZWlkZWxiZXJnIiwKICAgICAgICBhZGRyZXNzPSJCZXJsaW4sIEhlaWRlbGJlcmciLAogICAgICAgIElEPSIxMC4xMDA3LzMtNTQwLTM2MjA5LTZfNCIsCiAgICAgICAgc3ByaW5nZXI9IjEiLAogICAgICAgIHBsYWNleD0iUHJvZHVjdCBGb2N1c2VkIFNvZnR3YXJlIFByb2Nlc3MgSW1wcm92ZW1lbnQiLAogICAgKSkKJycnKTs=\"));\n",
       "    "
      ],
      "text/plain": [
       "<IPython.core.display.Javascript object>"
      ]
     },
     "metadata": {},
     "output_type": "display_data"
    },
    {
     "data": {
      "application/javascript": [
       "$('span:contains(\"# Temp\")').closest('.cell').remove();"
      ],
      "text/plain": [
       "<IPython.core.display.Javascript object>"
      ]
     },
     "metadata": {},
     "output_type": "display_data"
    },
    {
     "data": {
      "application/javascript": [
       "\n",
       "        $('span:contains(\"# Temp\")').closest('.cell').remove();\n",
       "        var code = IPython.notebook.insert_cell_below('code');\n",
       "        code.set_text(atob(\"IyBUZW1wCmluc2VydCgnJycKICAgIGFyZGltZW50bzIwMDRhID0gREIoV29ya1VucmVsYXRlZCgKICAgICAgICAyMDA0LCAiTXVsdGl2aWV3IEZyYW1ld29yayBmb3IgR29hbCBPcmllbnRlZCBNZWFzdXJlbWVudCBQbGFuIERlc2lnbiIsCiAgICAgICAgZGlzcGxheT0iYXJkaW1lbnRvIiwKICAgICAgICBhdXRob3JzPSJBcmRpbWVudG8sIFBhc3F1YWxlCmFuZCBCYWxkYXNzYXJyZSwgTWFyaWEgVGVyZXNhCmFuZCBDYWl2YW5vLCBEYW5pbG8KYW5kIFZpc2FnZ2lvLCBHaXVzZXBwZSIsCiAgICAgICAgcGxhY2U9UFJPRkVTLAogICAgICAgIHBwPSIxNTktLTE3MyIsCiAgICAgICAgZW50cnl0eXBlPSJpbnByb2NlZWRpbmdzIiwKICAgICAgICBlZGl0b3I9IkJvbWFyaXVzLCBGcmFuawphbmQgSWlkYSwgSGFqaW11IiwKICAgICAgICBwdWJsaXNoZXI9IlNwcmluZ2VyIEJlcmxpbiBIZWlkZWxiZXJnIiwKICAgICAgICBhZGRyZXNzPSJCZXJsaW4sIEhlaWRlbGJlcmciLAogICAgICAgIElEPSIxMC4xMDA3Lzk3OC0zLTU0MC0yNDY1OS02XzEyIiwKICAgICAgICBzcHJpbmdlcj0iMSIsCiAgICAgICAgcGxhY2V4PSJQcm9kdWN0IEZvY3VzZWQgU29mdHdhcmUgUHJvY2VzcyBJbXByb3ZlbWVudCIsCiAgICApKQonJycpOw==\"));\n",
       "    "
      ],
      "text/plain": [
       "<IPython.core.display.Javascript object>"
      ]
     },
     "metadata": {},
     "output_type": "display_data"
    },
    {
     "data": {
      "application/javascript": [
       "$('span:contains(\"# Temp\")').closest('.cell').remove();"
      ],
      "text/plain": [
       "<IPython.core.display.Javascript object>"
      ]
     },
     "metadata": {},
     "output_type": "display_data"
    },
    {
     "data": {
      "application/javascript": [
       "\n",
       "        $('span:contains(\"# Temp\")').closest('.cell').remove();\n",
       "        var code = IPython.notebook.insert_cell_below('code');\n",
       "        code.set_text(atob(\"IyBUZW1wCmluc2VydCgnJycKICAgIGFyZGltZW50bzIwMDRhID0gREIoV29ya1VucmVsYXRlZCgKICAgICAgICAyMDA0LCAiTXVsdGl2aWV3IEZyYW1ld29yayBmb3IgR29hbCBPcmllbnRlZCBNZWFzdXJlbWVudCBQbGFuIERlc2lnbiIsCiAgICAgICAgZGlzcGxheT0iYXJkaW1lbnRvIiwKICAgICAgICBhdXRob3JzPSJBcmRpbWVudG8sIFBhc3F1YWxlCmFuZCBCYWxkYXNzYXJyZSwgTWFyaWEgVGVyZXNhCmFuZCBDYWl2YW5vLCBEYW5pbG8KYW5kIFZpc2FnZ2lvLCBHaXVzZXBwZSIsCiAgICAgICAgcGxhY2U9UFJPRkVTLAogICAgICAgIHBwPSIxNTktLTE3MyIsCiAgICAgICAgZW50cnl0eXBlPSJpbnByb2NlZWRpbmdzIiwKICAgICAgICBlZGl0b3I9IkJvbWFyaXVzLCBGcmFuawphbmQgSWlkYSwgSGFqaW11IiwKICAgICAgICBwdWJsaXNoZXI9IlNwcmluZ2VyIEJlcmxpbiBIZWlkZWxiZXJnIiwKICAgICAgICBhZGRyZXNzPSJCZXJsaW4sIEhlaWRlbGJlcmciLAogICAgICAgIElEPSIxMC4xMDA3Lzk3OC0zLTU0MC0yNDY1OS02XzEyIiwKICAgICAgICBzcHJpbmdlcj0iMSIsCiAgICAgICAgcGxhY2V4PSJQcm9kdWN0IEZvY3VzZWQgU29mdHdhcmUgUHJvY2VzcyBJbXByb3ZlbWVudCIsCiAgICApKQonJycpOw==\"));\n",
       "    "
      ],
      "text/plain": [
       "<IPython.core.display.Javascript object>"
      ]
     },
     "metadata": {},
     "output_type": "display_data"
    },
    {
     "data": {
      "application/javascript": [
       "$('span:contains(\"# Temp\")').closest('.cell').remove();"
      ],
      "text/plain": [
       "<IPython.core.display.Javascript object>"
      ]
     },
     "metadata": {},
     "output_type": "display_data"
    },
    {
     "data": {
      "application/javascript": [
       "\n",
       "        $('span:contains(\"# Temp\")').closest('.cell').remove();\n",
       "        var code = IPython.notebook.insert_cell_below('code');\n",
       "        code.set_text(atob(\"IyBUZW1wCmluc2VydCgnJycnJycpOw==\"));\n",
       "    "
      ],
      "text/plain": [
       "<IPython.core.display.Javascript object>"
      ]
     },
     "metadata": {},
     "output_type": "display_data"
    },
    {
     "data": {
      "application/javascript": [
       "$('span:contains(\"# Temp\")').closest('.cell').remove();"
      ],
      "text/plain": [
       "<IPython.core.display.Javascript object>"
      ]
     },
     "metadata": {},
     "output_type": "display_data"
    },
    {
     "data": {
      "application/javascript": [
       "\n",
       "        $('span:contains(\"# Temp\")').closest('.cell').remove();\n",
       "        var code = IPython.notebook.insert_cell_below('code');\n",
       "        code.set_text(atob(\"IyBUZW1wCmluc2VydCgnJycnJycpOw==\"));\n",
       "    "
      ],
      "text/plain": [
       "<IPython.core.display.Javascript object>"
      ]
     },
     "metadata": {},
     "output_type": "display_data"
    },
    {
     "data": {
      "application/javascript": [
       "$('span:contains(\"# Temp\")').closest('.cell').remove();"
      ],
      "text/plain": [
       "<IPython.core.display.Javascript object>"
      ]
     },
     "metadata": {},
     "output_type": "display_data"
    },
    {
     "data": {
      "application/javascript": [
       "\n",
       "        $('span:contains(\"# Temp\")').closest('.cell').remove();\n",
       "        var code = IPython.notebook.insert_cell_below('code');\n",
       "        code.set_text(atob(\"IyBUZW1wCmluc2VydCgnJycKa3VudHptYW5uMTk5NWEgPSBEQihXb3JrVW5yZWxhdGVkKAogICAgMTk5NSwgIlF1YW50aXRhdGl2ZSBhcHByb2FjaCB0byBzb2Z0d2FyZSBwcm9jZXNzIGltcHJvdmVtZW50IiwKICAgIGRpc3BsYXk9Imt1bnR6bWFubiIsCiAgICBhdXRob3JzPSJLdW50em1hbm4tQ29tYmVsbGVzLCBBbm5pZSIsCiAgICBwbGFjZT1GQUtFLAogICAgcHA9IjE2LS0zMCIsCiAgICBlbnRyeXR5cGU9ImlucHJvY2VlZGluZ3MiLAogICAgZWRpdG9yPSJOZXNpLCBQYW9sbyIsCiAgICBwdWJsaXNoZXI9IlNwcmluZ2VyIEJlcmxpbiBIZWlkZWxiZXJnIiwKICAgIGFkZHJlc3M9IkJlcmxpbiwgSGVpZGVsYmVyZyIsCiAgICBJRD0iMTAuMTAwNy8zLTU0MC01OTQ0OS0zXzIxIiwKICAgIHNwcmluZ2VyPSIxIiwKICAgIHBsYWNleD0iT2JqZWN0aXZlIFNvZnR3YXJlIFF1YWxpdHkiLAopKQonJycpOw==\"));\n",
       "    "
      ],
      "text/plain": [
       "<IPython.core.display.Javascript object>"
      ]
     },
     "metadata": {},
     "output_type": "display_data"
    },
    {
     "data": {
      "application/javascript": [
       "$('span:contains(\"# Temp\")').closest('.cell').remove();"
      ],
      "text/plain": [
       "<IPython.core.display.Javascript object>"
      ]
     },
     "metadata": {},
     "output_type": "display_data"
    },
    {
     "data": {
      "application/javascript": [
       "\n",
       "        $('span:contains(\"# Temp\")').closest('.cell').remove();\n",
       "        var code = IPython.notebook.insert_cell_below('code');\n",
       "        code.set_text(atob(\"IyBUZW1wCmluc2VydCgnJycKa3VudHptYW5uMTk5NWEgPSBEQihXb3JrVW5yZWxhdGVkKAogICAgMTk5NSwgIlF1YW50aXRhdGl2ZSBhcHByb2FjaCB0byBzb2Z0d2FyZSBwcm9jZXNzIGltcHJvdmVtZW50IiwKICAgIGRpc3BsYXk9Imt1bnR6bWFubiIsCiAgICBhdXRob3JzPSJLdW50em1hbm4tQ29tYmVsbGVzLCBBbm5pZSIsCiAgICBwbGFjZT1GQUtFLAogICAgcHA9IjE2LS0zMCIsCiAgICBlbnRyeXR5cGU9ImlucHJvY2VlZGluZ3MiLAogICAgZWRpdG9yPSJOZXNpLCBQYW9sbyIsCiAgICBwdWJsaXNoZXI9IlNwcmluZ2VyIEJlcmxpbiBIZWlkZWxiZXJnIiwKICAgIGFkZHJlc3M9IkJlcmxpbiwgSGVpZGVsYmVyZyIsCiAgICBJRD0iMTAuMTAwNy8zLTU0MC01OTQ0OS0zXzIxIiwKICAgIHNwcmluZ2VyPSIxIiwKICAgIHBsYWNleD0iT2JqZWN0aXZlIFNvZnR3YXJlIFF1YWxpdHkiLAopKQonJycpOw==\"));\n",
       "    "
      ],
      "text/plain": [
       "<IPython.core.display.Javascript object>"
      ]
     },
     "metadata": {},
     "output_type": "display_data"
    },
    {
     "data": {
      "application/javascript": [
       "$('span:contains(\"# Temp\")').closest('.cell').remove();"
      ],
      "text/plain": [
       "<IPython.core.display.Javascript object>"
      ]
     },
     "metadata": {},
     "output_type": "display_data"
    },
    {
     "data": {
      "application/javascript": [
       "\n",
       "        $('span:contains(\"# Temp\")').closest('.cell').remove();\n",
       "        var code = IPython.notebook.insert_cell_below('code');\n",
       "        code.set_text(atob(\"IyBUZW1wCmluc2VydCgnJycnJycpOw==\"));\n",
       "    "
      ],
      "text/plain": [
       "<IPython.core.display.Javascript object>"
      ]
     },
     "metadata": {},
     "output_type": "display_data"
    },
    {
     "data": {
      "application/javascript": [
       "$('span:contains(\"# Temp\")').closest('.cell').remove();"
      ],
      "text/plain": [
       "<IPython.core.display.Javascript object>"
      ]
     },
     "metadata": {},
     "output_type": "display_data"
    },
    {
     "data": {
      "application/javascript": [
       "\n",
       "        $('span:contains(\"# Temp\")').closest('.cell').remove();\n",
       "        var code = IPython.notebook.insert_cell_below('code');\n",
       "        code.set_text(atob(\"IyBUZW1wCmluc2VydCgnJycnJycpOw==\"));\n",
       "    "
      ],
      "text/plain": [
       "<IPython.core.display.Javascript object>"
      ]
     },
     "metadata": {},
     "output_type": "display_data"
    },
    {
     "data": {
      "application/javascript": [
       "$('span:contains(\"# Temp\")').closest('.cell').remove();"
      ],
      "text/plain": [
       "<IPython.core.display.Javascript object>"
      ]
     },
     "metadata": {},
     "output_type": "display_data"
    },
    {
     "data": {
      "application/javascript": [
       "\n",
       "        $('span:contains(\"# Temp\")').closest('.cell').remove();\n",
       "        var code = IPython.notebook.insert_cell_below('code');\n",
       "        code.set_text(atob(\"IyBUZW1wCmluc2VydCgnJycKICAgIGJlcmdtYW4yMDAxYiA9IERCKFdvcmtVbnJlbGF0ZWQoCiAgICAgICAgMjAwMSwgIkV4cGVyaWVuY2UgUmVwb3J0cyIsCiAgICAgICAgZGlzcGxheT0iYmVyZ21hbiBiIiwKICAgICAgICBhdXRob3JzPSJCZXJnbWFuLCBMYXJzCmFuZCBXb2RhLCBIZWxtdXQKYW5kIFJvZGVuYmFjaCwgRXJpawphbmQgdmFuIExhdHVtLCBGcmFuawphbmQgdmFuIFNvbGluZ2VuLCBSaW5pCmFuZCBDaW50aSwgU3RlZmFubwphbmQgT2xkYW5vLCBHaWFuZG9tZW5pY28KYW5kIE9yYXppLCBFbGVuYQphbmQgR3Jlc3NlLCBDaHJpc3RpYW5lCmFuZCBIb2lzbCwgQmFyYmFyYQphbmQgUm9tYmFjaCwgRGlldGVyCmFuZCBSdWhlLCBHdW50aGVyCmFuZCBPaXZvLCBNYXJra3UKYW5kIEZ1Z2dldHRhLCBBbGZvbnNvCmFuZCBMYXZhenphLCBMdWlnaQphbmQgTW9yYXNjYSwgU2FuZHJvCmFuZCBCYXJiYXRpLCBSLgphbmQgSnVkZ2UsIFQuIFIuCmFuZCBXaWxsaWFtcywgQS4KYW5kIFNhYmJhdGljaSwgRy4KYW5kIFJvbWUsIEFsZW5pYQphbmQgUGFuYXJvbm8sIFAuCmFuZCBGYXJpbmEsIFMuCmFuZCBSb2FsZCwgSGVsZ2UgTS4KYW5kIExhcnNlbiwgSmVucy1PdHRvCmFuZCBQb3dlbGwsIEFudGhvbnkKYW5kIEJyb3duLCBEdW5jYW4KYW5kIEVpY2tlbHBhc2NoLCBHZXJkIiwKICAgICAgICBwbGFjZT1GQUtFLAogICAgICAgIHBwPSIxMDEtLTI1NSIsCiAgICAgICAgZW50cnl0eXBlPSJpbmJvb2siLAogICAgICAgIGVkaXRvcj0iSGF1ZywgTWljaGFlbAphbmQgT2xzZW4sIEVyaWMgVy4KYW5kIEJlcmdtYW4sIExhcnMiLAogICAgICAgIHB1Ymxpc2hlcj0iU3ByaW5nZXIgQmVybGluIEhlaWRlbGJlcmciLAogICAgICAgIGFkZHJlc3M9IkJlcmxpbiwgSGVpZGVsYmVyZyIsCiAgICAgICAgSUQ9IkJlcmdtYW4yMDAxIiwKICAgICAgICBzcHJpbmdlcj0iMSIsCiAgICAgICAgcGxhY2V4PSJTb2Z0d2FyZSBQcm9jZXNzIEltcHJvdmVtZW50OiBNZXRyaWNzLCBNZWFzdXJlbWVudCwgYW5kIFByb2Nlc3MgTW9kZWxsaW5nOiBTb2Z0d2FyZSBCZXN0IFByYWN0aWNlIDQiLAogICAgKSkKJycnKTs=\"));\n",
       "    "
      ],
      "text/plain": [
       "<IPython.core.display.Javascript object>"
      ]
     },
     "metadata": {},
     "output_type": "display_data"
    },
    {
     "data": {
      "application/javascript": [
       "$('span:contains(\"# Temp\")').closest('.cell').remove();"
      ],
      "text/plain": [
       "<IPython.core.display.Javascript object>"
      ]
     },
     "metadata": {},
     "output_type": "display_data"
    },
    {
     "data": {
      "application/javascript": [
       "\n",
       "        $('span:contains(\"# Temp\")').closest('.cell').remove();\n",
       "        var code = IPython.notebook.insert_cell_below('code');\n",
       "        code.set_text(atob(\"IyBUZW1wCmluc2VydCgnJycKICAgIGJlcmdtYW4yMDAxYiA9IERCKFdvcmtVbnJlbGF0ZWQoCiAgICAgICAgMjAwMSwgIkV4cGVyaWVuY2UgUmVwb3J0cyIsCiAgICAgICAgZGlzcGxheT0iYmVyZ21hbiBiIiwKICAgICAgICBhdXRob3JzPSJCZXJnbWFuLCBMYXJzCmFuZCBXb2RhLCBIZWxtdXQKYW5kIFJvZGVuYmFjaCwgRXJpawphbmQgdmFuIExhdHVtLCBGcmFuawphbmQgdmFuIFNvbGluZ2VuLCBSaW5pCmFuZCBDaW50aSwgU3RlZmFubwphbmQgT2xkYW5vLCBHaWFuZG9tZW5pY28KYW5kIE9yYXppLCBFbGVuYQphbmQgR3Jlc3NlLCBDaHJpc3RpYW5lCmFuZCBIb2lzbCwgQmFyYmFyYQphbmQgUm9tYmFjaCwgRGlldGVyCmFuZCBSdWhlLCBHdW50aGVyCmFuZCBPaXZvLCBNYXJra3UKYW5kIEZ1Z2dldHRhLCBBbGZvbnNvCmFuZCBMYXZhenphLCBMdWlnaQphbmQgTW9yYXNjYSwgU2FuZHJvCmFuZCBCYXJiYXRpLCBSLgphbmQgSnVkZ2UsIFQuIFIuCmFuZCBXaWxsaWFtcywgQS4KYW5kIFNhYmJhdGljaSwgRy4KYW5kIFJvbWUsIEFsZW5pYQphbmQgUGFuYXJvbm8sIFAuCmFuZCBGYXJpbmEsIFMuCmFuZCBSb2FsZCwgSGVsZ2UgTS4KYW5kIExhcnNlbiwgSmVucy1PdHRvCmFuZCBQb3dlbGwsIEFudGhvbnkKYW5kIEJyb3duLCBEdW5jYW4KYW5kIEVpY2tlbHBhc2NoLCBHZXJkIiwKICAgICAgICBwbGFjZT1GQUtFLAogICAgICAgIHBwPSIxMDEtLTI1NSIsCiAgICAgICAgZW50cnl0eXBlPSJpbmJvb2siLAogICAgICAgIGVkaXRvcj0iSGF1ZywgTWljaGFlbAphbmQgT2xzZW4sIEVyaWMgVy4KYW5kIEJlcmdtYW4sIExhcnMiLAogICAgICAgIHB1Ymxpc2hlcj0iU3ByaW5nZXIgQmVybGluIEhlaWRlbGJlcmciLAogICAgICAgIGFkZHJlc3M9IkJlcmxpbiwgSGVpZGVsYmVyZyIsCiAgICAgICAgSUQ9IkJlcmdtYW4yMDAxIiwKICAgICAgICBzcHJpbmdlcj0iMSIsCiAgICAgICAgcGxhY2V4PSJTb2Z0d2FyZSBQcm9jZXNzIEltcHJvdmVtZW50OiBNZXRyaWNzLCBNZWFzdXJlbWVudCwgYW5kIFByb2Nlc3MgTW9kZWxsaW5nOiBTb2Z0d2FyZSBCZXN0IFByYWN0aWNlIDQiLAogICAgKSkKJycnKTs=\"));\n",
       "    "
      ],
      "text/plain": [
       "<IPython.core.display.Javascript object>"
      ]
     },
     "metadata": {},
     "output_type": "display_data"
    }
   ],
   "source": [
    "from custom_snowballing import UnrelatedInsert\n",
    "UnrelatedInsert(\"springer\", articles=article_list)"
   ]
  },
  {
   "cell_type": "code",
   "execution_count": null,
   "metadata": {
    "collapsed": true
   },
   "outputs": [],
   "source": [
    "# Temp\n",
    "insert('''\n",
    "    bergman2001b = DB(WorkUnrelated(\n",
    "        2001, \"Experience Reports\",\n",
    "        display=\"bergman b\",\n",
    "        authors=\"Bergman, Lars and Woda, Helmut and Rodenbach, Erik and van Latum, Frank and van Solingen, Rini and Cinti, Stefano and Oldano, Giandomenico and Orazi, Elena and Gresse, Christiane and Hoisl, Barbara and Rombach, Dieter and Ruhe, Gunther and Oivo, Markku and Fuggetta, Alfonso and Lavazza, Luigi and Morasca, Sandro and Barbati, R. and Judge, T. R. and Williams, A. and Sabbatici, G. and Rome, Alenia and Panarono, P. and Farina, S. and Roald, Helge M. and Larsen, Jens-Otto and Powell, Anthony and Brown, Duncan and Eickelpasch, Gerd\",\n",
    "        place=FAKE,\n",
    "        pp=\"101--255\",\n",
    "        entrytype=\"inbook\",\n",
    "        editor=\"Haug, Michael and Olsen, Eric W. and Bergman, Lars\",\n",
    "        publisher=\"Springer Berlin Heidelberg\",\n",
    "        address=\"Berlin, Heidelberg\",\n",
    "        ID=\"Bergman2001\",\n",
    "        springer=\"1\",\n",
    "        placex=\"Software Process Improvement: Metrics, Measurement, and Process Modelling: Software Best Practice 4\",\n",
    "    ))\n",
    "''');"
   ]
  },
  {
   "cell_type": "code",
   "execution_count": null,
   "metadata": {
    "collapsed": true,
    "scrolled": false
   },
   "outputs": [],
   "source": [
    "ArticleNavigator??"
   ]
  },
  {
   "cell_type": "code",
   "execution_count": null,
   "metadata": {
    "collapsed": true
   },
   "outputs": [],
   "source": [
    "ArticleNavigator(articles=article_list)"
   ]
  }
 ],
 "metadata": {
  "kernelspec": {
   "display_name": "Python 3",
   "language": "python",
   "name": "python3"
  },
  "language_info": {
   "codemirror_mode": {
    "name": "ipython",
    "version": 3
   },
   "file_extension": ".py",
   "mimetype": "text/x-python",
   "name": "python",
   "nbconvert_exporter": "python",
   "pygments_lexer": "ipython3",
   "version": "3.6.0"
  },
  "toc": {
   "nav_menu": {
    "height": "12px",
    "width": "252px"
   },
   "number_sections": true,
   "sideBar": true,
   "skip_h1_title": false,
   "toc_cell": false,
   "toc_position": {},
   "toc_section_display": "block",
   "toc_window_display": false
  }
 },
 "nbformat": 4,
 "nbformat_minor": 2
}
