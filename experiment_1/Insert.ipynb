{
 "cells": [
  {
   "cell_type": "code",
   "execution_count": 1,
   "metadata": {
    "collapsed": true
   },
   "outputs": [],
   "source": [
    "import database\n",
    "from snowballing.operations import load_work, reload, work_by_varname\n",
    "from snowballing.snowballing import Converter\n",
    "from snowballing.snowballing import ArticleNavigator\n",
    "from snowballing.dbmanager import insert, set_attribute"
   ]
  },
  {
   "cell_type": "code",
   "execution_count": 2,
   "metadata": {
    "scrolled": false
   },
   "outputs": [
    {
     "data": {
      "application/vnd.jupyter.widget-view+json": {
       "model_id": "df7214f617ac45719efac4dc74609876",
       "version_major": 2,
       "version_minor": 0
      },
      "text/plain": [
       "A Jupyter Widget"
      ]
     },
     "metadata": {},
     "output_type": "display_data"
    }
   ],
   "source": [
    "Converter(\"bibtex\")"
   ]
  },
  {
   "cell_type": "code",
   "execution_count": 3,
   "metadata": {},
   "outputs": [
    {
     "data": {
      "text/plain": [
       "17"
      ]
     },
     "execution_count": 3,
     "metadata": {},
     "output_type": "execute_result"
    }
   ],
   "source": [
    "len(article_list)"
   ]
  },
  {
   "cell_type": "code",
   "execution_count": null,
   "metadata": {
    "collapsed": true
   },
   "outputs": [],
   "source": [
    "from snowballing.operations import reload\n",
    "reload()\n"
   ]
  },
  {
   "cell_type": "code",
   "execution_count": 4,
   "metadata": {},
   "outputs": [
    {
     "data": {
      "application/vnd.jupyter.widget-view+json": {
       "model_id": "949765ef008c4a27ad4d8f23ff0bd528",
       "version_major": 2,
       "version_minor": 0
      },
      "text/html": [
       "<p>Failed to display Jupyter Widget of type <code>VBox</code>.</p>\n",
       "<p>\n",
       "  If you're reading this message in Jupyter Notebook or JupyterLab, it may mean\n",
       "  that the widgets JavaScript is still loading. If this message persists, it\n",
       "  likely means that the widgets JavaScript library is either not installed or\n",
       "  not enabled. See the <a href=\"https://ipywidgets.readthedocs.io/en/stable/user_install.html\">Jupyter\n",
       "  Widgets Documentation</a> for setup instructions.\n",
       "</p>\n",
       "<p>\n",
       "  If you're reading this message in another notebook frontend (for example, a static\n",
       "  rendering on GitHub or <a href=\"https://nbviewer.jupyter.org/\">NBViewer</a>),\n",
       "  it may mean that your frontend doesn't currently support widgets.\n",
       "</p>\n"
      ],
      "text/plain": [
       "VBox(children=(HBox(children=(Button(description='Previous Article', disabled=True, icon='caret-left', style=ButtonStyle()), Button(description='Reload Article', icon='refresh', style=ButtonStyle()), Button(description='Next Article', icon='caret-right', style=ButtonStyle()))), HBox(children=(Dropdown(description='Type', index=5, options=('Work', 'WorkSnowball', 'WorkForward', 'WorkBackward', 'WorkOk', 'WorkUnrelated', 'WorkNoFile', 'WorkLang', 'Site', 'Email'), value='WorkUnrelated'), ToggleButton(value=False, description='File'))), HBox(children=(Text(value='', description='Due'), Text(value='', description='Place'))), HBox(children=(Text(value='', description='Year'), Text(value='', description='Prefix Var'))), HBox(children=(Text(value='', description='PDFPage'), Text(value='', description='Related'))), HBox(children=(Text(value='', description='Display'), Text(value='', description='Summary'))), HBox(children=(Text(value='', description='Star'), Text(value='', description='Link'))), HBox(children=(Text(value='1', description='scopus'),)), HBox(children=(Button(description='Reload Article', icon='refresh', style=ButtonStyle()), IntSlider(value=0, max=16), Label(value='1/17'))), Output()))"
      ]
     },
     "metadata": {},
     "output_type": "display_data"
    },
    {
     "data": {
      "application/javascript": [
       "$('span:contains(\"# Temp\")').closest('.cell').remove();"
      ],
      "text/plain": [
       "<IPython.core.display.Javascript object>"
      ]
     },
     "metadata": {},
     "output_type": "display_data"
    },
    {
     "data": {
      "application/javascript": [
       "\n",
       "        $('span:contains(\"# Temp\")').closest('.cell').remove();\n",
       "        var code = IPython.notebook.insert_cell_below('code');\n",
       "        code.set_text(atob(\"IyBUZW1wCmluc2VydCgnJycKYmF5b25hMjAxMmEgPSBEQihXb3JrVW5yZWxhdGVkKAogICAgMjAxMiwgIkNyaXRpY2FsIHN1Y2Nlc3MgZmFjdG9ycyBpbiBzb2Z0d2FyZSBwcm9jZXNzIGltcHJvdmVtZW50OiBBIHN5c3RlbWF0aWMgcmV2aWV3IiwKICAgIGRpc3BsYXk9ImJheW9uYSIsCiAgICBhdXRob3JzPSJCYXlvbmEsIFMuIGFuZCBDYWx2by1NYW56YW5vLCBKLkEuIGFuZCBTYW4gRmVsaXUsIFQuIiwKICAgIHBsYWNlPUNDSVMsCiAgICBwcD0iMS0xMiIsCiAgICBlbnRyeXR5cGU9ImFydGljbGUiLAogICAgdm9sdW1lPSIyOTAgQ0NJUyIsCiAgICBkb2k9IjEwLjEwMDcvOTc4LTMtNjQyLTMwNDM5LTJfMSIsCiAgICBub3RlPSJjaXRlZCBCeSA4IiwKICAgIGxpbms9Imh0dHBzOi8vd3d3LnNjb3B1cy5jb20vaW53YXJkL3JlY29yZC51cmk/ZWlkPTItczIuMC04NDg2MjE5NDUxNiZkb2k9MTAuMTAwNyUyZjk3OC0zLTY0Mi0zMDQzOS0yXzEmcGFydG5lcklEPTQwJm1kNT03ZTg0ZmRmMGI0ZDNjY2U5MWNiZDM5YWQ1MGNiOTQ4NyIsCiAgICBkb2N1bWVudF90eXBlPSJDb25mZXJlbmNlIFBhcGVyIiwKICAgIHNvdXJjZT0iU2NvcHVzIiwKICAgIElEPSJCYXlvbmEyMDEyMSIsCiAgICBzY29wdXM9IjEiLAopKQonJycpOw==\"));\n",
       "    "
      ],
      "text/plain": [
       "<IPython.core.display.Javascript object>"
      ]
     },
     "metadata": {},
     "output_type": "display_data"
    },
    {
     "data": {
      "application/javascript": [
       "$('span:contains(\"# Temp\")').closest('.cell').remove();"
      ],
      "text/plain": [
       "<IPython.core.display.Javascript object>"
      ]
     },
     "metadata": {},
     "output_type": "display_data"
    },
    {
     "data": {
      "application/javascript": [
       "\n",
       "        $('span:contains(\"# Temp\")').closest('.cell').remove();\n",
       "        var code = IPython.notebook.insert_cell_below('code');\n",
       "        code.set_text(atob(\"IyBUZW1wCmluc2VydCgnJycnJycpOwpzZXRfYXR0cmlidXRlKCdrYW5la28yMDExYScsICdzY29wdXMnLCAnMScpOw==\"));\n",
       "    "
      ],
      "text/plain": [
       "<IPython.core.display.Javascript object>"
      ]
     },
     "metadata": {},
     "output_type": "display_data"
    },
    {
     "data": {
      "application/javascript": [
       "$('span:contains(\"# Temp\")').closest('.cell').remove();"
      ],
      "text/plain": [
       "<IPython.core.display.Javascript object>"
      ]
     },
     "metadata": {},
     "output_type": "display_data"
    },
    {
     "data": {
      "application/javascript": [
       "\n",
       "        $('span:contains(\"# Temp\")').closest('.cell').remove();\n",
       "        var code = IPython.notebook.insert_cell_below('code');\n",
       "        code.set_text(atob(\"IyBUZW1wCmluc2VydCgnJycnJycpOwpzZXRfYXR0cmlidXRlKCdrYW5la28yMDExYScsICdzY29wdXMnLCAnMScpOw==\"));\n",
       "    "
      ],
      "text/plain": [
       "<IPython.core.display.Javascript object>"
      ]
     },
     "metadata": {},
     "output_type": "display_data"
    },
    {
     "data": {
      "application/javascript": [
       "$('span:contains(\"# Temp\")').closest('.cell').remove();"
      ],
      "text/plain": [
       "<IPython.core.display.Javascript object>"
      ]
     },
     "metadata": {},
     "output_type": "display_data"
    },
    {
     "data": {
      "application/javascript": [
       "\n",
       "        $('span:contains(\"# Temp\")').closest('.cell').remove();\n",
       "        var code = IPython.notebook.insert_cell_below('code');\n",
       "        code.set_text(atob(\"IyBUZW1wCmluc2VydCgnJycnJycpOwpzZXRfYXR0cmlidXRlKCdwbPZzY2gyMDExYScsICdzY29wdXMnLCAnMScpOw==\"));\n",
       "    "
      ],
      "text/plain": [
       "<IPython.core.display.Javascript object>"
      ]
     },
     "metadata": {},
     "output_type": "display_data"
    },
    {
     "data": {
      "application/javascript": [
       "$('span:contains(\"# Temp\")').closest('.cell').remove();"
      ],
      "text/plain": [
       "<IPython.core.display.Javascript object>"
      ]
     },
     "metadata": {},
     "output_type": "display_data"
    },
    {
     "data": {
      "application/javascript": [
       "\n",
       "        $('span:contains(\"# Temp\")').closest('.cell').remove();\n",
       "        var code = IPython.notebook.insert_cell_below('code');\n",
       "        code.set_text(atob(\"IyBUZW1wCmluc2VydCgnJycnJycpOwpzZXRfYXR0cmlidXRlKCdwbPZzY2gyMDExYScsICdzY29wdXMnLCAnMScpOw==\"));\n",
       "    "
      ],
      "text/plain": [
       "<IPython.core.display.Javascript object>"
      ]
     },
     "metadata": {},
     "output_type": "display_data"
    },
    {
     "data": {
      "application/javascript": [
       "$('span:contains(\"# Temp\")').closest('.cell').remove();"
      ],
      "text/plain": [
       "<IPython.core.display.Javascript object>"
      ]
     },
     "metadata": {},
     "output_type": "display_data"
    },
    {
     "data": {
      "application/javascript": [
       "\n",
       "        $('span:contains(\"# Temp\")').closest('.cell').remove();\n",
       "        var code = IPython.notebook.insert_cell_below('code');\n",
       "        code.set_text(atob(\"IyBUZW1wCmluc2VydCgnJycKc3RhbGxpbmdlcjIwMTFhID0gREIoV29ya1VucmVsYXRlZCgKICAgIDIwMTEsICJMaW5raW5nIHNvZnR3YXJlIGxpZmUgY3ljbGUgYWN0aXZpdGllcyB3aXRoIHByb2R1Y3Qgc3RyYXRlZ3kgYW5kIGVjb25vbWljczogRXh0ZW5kaW5nIElTTy9JRUMgMTIyMDcgd2l0aCBwcm9kdWN0IG1hbmFnZW1lbnQgYmVzdCBwcmFjdGljZXMiLAogICAgZGlzcGxheT0ic3RhbGxpbmdlciIsCiAgICBhdXRob3JzPSJTdGFsbGluZ2VyLCBGLiBhbmQgTmV1bWFubiwgUi4gYW5kIFNjaG9zc2xlaXRuZXIsIFIuIGFuZCBaZWlsaW5nZXIsIFIuIiwKICAgIHBsYWNlPUNDSVMsCiAgICBwcD0iMTU3LTE2OCIsCiAgICBlbnRyeXR5cGU9ImFydGljbGUiLAogICAgdm9sdW1lPSIxNTUgQ0NJUyIsCiAgICBkb2k9IjEwLjEwMDcvOTc4LTMtNjQyLTIxMjMzLTgtMTQiLAogICAgbm90ZT0iY2l0ZWQgQnkgOSIsCiAgICBsaW5rPSJodHRwczovL3d3dy5zY29wdXMuY29tL2lud2FyZC9yZWNvcmQudXJpP2VpZD0yLXMyLjAtNzk5NTkzODMwOTQmZG9pPTEwLjEwMDclMmY5NzgtMy02NDItMjEyMzMtOC0xNCZwYXJ0bmVySUQ9NDAmbWQ1PWY2NTRkZjJkN2QwZjAwNWY5N2I4ODdjNmMzMjE4YjlmIiwKICAgIGRvY3VtZW50X3R5cGU9IkNvbmZlcmVuY2UgUGFwZXIiLAogICAgc291cmNlPSJTY29wdXMiLAogICAgSUQ9IlN0YWxsaW5nZXIyMDExMTU3IiwKICAgIHNjb3B1cz0iMSIsCikpCicnJyk7\"));\n",
       "    "
      ],
      "text/plain": [
       "<IPython.core.display.Javascript object>"
      ]
     },
     "metadata": {},
     "output_type": "display_data"
    },
    {
     "data": {
      "application/javascript": [
       "$('span:contains(\"# Temp\")').closest('.cell').remove();"
      ],
      "text/plain": [
       "<IPython.core.display.Javascript object>"
      ]
     },
     "metadata": {},
     "output_type": "display_data"
    },
    {
     "data": {
      "application/javascript": [
       "\n",
       "        $('span:contains(\"# Temp\")').closest('.cell').remove();\n",
       "        var code = IPython.notebook.insert_cell_below('code');\n",
       "        code.set_text(atob(\"IyBUZW1wCmluc2VydCgnJycKc3RhbGxpbmdlcjIwMTFhID0gREIoV29ya1VucmVsYXRlZCgKICAgIDIwMTEsICJMaW5raW5nIHNvZnR3YXJlIGxpZmUgY3ljbGUgYWN0aXZpdGllcyB3aXRoIHByb2R1Y3Qgc3RyYXRlZ3kgYW5kIGVjb25vbWljczogRXh0ZW5kaW5nIElTTy9JRUMgMTIyMDcgd2l0aCBwcm9kdWN0IG1hbmFnZW1lbnQgYmVzdCBwcmFjdGljZXMiLAogICAgZGlzcGxheT0ic3RhbGxpbmdlciIsCiAgICBhdXRob3JzPSJTdGFsbGluZ2VyLCBGLiBhbmQgTmV1bWFubiwgUi4gYW5kIFNjaG9zc2xlaXRuZXIsIFIuIGFuZCBaZWlsaW5nZXIsIFIuIiwKICAgIHBsYWNlPUNDSVMsCiAgICBwcD0iMTU3LTE2OCIsCiAgICBlbnRyeXR5cGU9ImFydGljbGUiLAogICAgdm9sdW1lPSIxNTUgQ0NJUyIsCiAgICBkb2k9IjEwLjEwMDcvOTc4LTMtNjQyLTIxMjMzLTgtMTQiLAogICAgbm90ZT0iY2l0ZWQgQnkgOSIsCiAgICBsaW5rPSJodHRwczovL3d3dy5zY29wdXMuY29tL2lud2FyZC9yZWNvcmQudXJpP2VpZD0yLXMyLjAtNzk5NTkzODMwOTQmZG9pPTEwLjEwMDclMmY5NzgtMy02NDItMjEyMzMtOC0xNCZwYXJ0bmVySUQ9NDAmbWQ1PWY2NTRkZjJkN2QwZjAwNWY5N2I4ODdjNmMzMjE4YjlmIiwKICAgIGRvY3VtZW50X3R5cGU9IkNvbmZlcmVuY2UgUGFwZXIiLAogICAgc291cmNlPSJTY29wdXMiLAogICAgSUQ9IlN0YWxsaW5nZXIyMDExMTU3IiwKICAgIHNjb3B1cz0iMSIsCikpCicnJyk7\"));\n",
       "    "
      ],
      "text/plain": [
       "<IPython.core.display.Javascript object>"
      ]
     },
     "metadata": {},
     "output_type": "display_data"
    },
    {
     "data": {
      "application/javascript": [
       "$('span:contains(\"# Temp\")').closest('.cell').remove();"
      ],
      "text/plain": [
       "<IPython.core.display.Javascript object>"
      ]
     },
     "metadata": {},
     "output_type": "display_data"
    },
    {
     "data": {
      "application/javascript": [
       "\n",
       "        $('span:contains(\"# Temp\")').closest('.cell').remove();\n",
       "        var code = IPython.notebook.insert_cell_below('code');\n",
       "        code.set_text(atob(\"IyBUZW1wCmluc2VydCgnJycKYXNhdG8yMDExYSA9IERCKFdvcmtVbnJlbGF0ZWQoCiAgICAyMDExLCAiQWxpZ25tZW50IGJldHdlZW4gdGhlIGJ1c2luZXNzIHN0cmF0ZWd5IGFuZCB0aGUgc29mdHdhcmUgcHJvY2Vzc2VzIGltcHJvdmVtZW50OiBBIHJvYWRtYXAgZm9yIHRoZSBpbXBsZW1lbnRhdGlvbiBbQWxpbmhhbWVudG8gZW50cmUgZXN0cmF0ZWdpYSBkZSBuZWdvY2lvcyBlIG1lbGhvcmlhIGRlIHByb2Nlc3NvcyBkZSBzb2Z0d2FyZTogVW0gcm90ZWlybyBkZSBpbXBsZW1lbnRhY2FvXSIsCiAgICBkaXNwbGF5PSJhc2F0byIsCiAgICBhdXRob3JzPSJBc2F0bywgUi4gYW5kIFNwaW5vbGEsIE0uTS4gYW5kIENvc3RhLCBJLiBhbmQgRGUgRmFyaWFzIFNpbHZhLCBXLkguIiwKICAgIHBwPSIzMTQtMzI4IiwKICAgIHBsYWNlMT0iUHJvZHVjYW8iLAogICAgZW50cnl0eXBlPSJhcnRpY2xlIiwKICAgIHZvbHVtZT0iMjEiLAogICAgbnVtYmVyPSIyIiwKICAgIGRvaT0iMTAuMTU5MC9TMDEwMy02NTEzMjAxMTAwNTAwMDAyOCIsCiAgICBub3RlPSJjaXRlZCBCeSAzIiwKICAgIGxpbms9Imh0dHBzOi8vd3d3LnNjb3B1cy5jb20vaW53YXJkL3JlY29yZC51cmk/ZWlkPTItczIuMC03OTk2MTAwMzMxMCZkb2k9MTAuMTU5MCUyZlMwMTAzLTY1MTMyMDExMDA1MDAwMDI4JnBhcnRuZXJJRD00MCZtZDU9NGY3NGQ0ODM2MTdlZjlhMGI1NzVhMjFiMzRhN2E4OGMiLAogICAgZG9jdW1lbnRfdHlwZT0iQXJ0aWNsZSIsCiAgICBzb3VyY2U9IlNjb3B1cyIsCiAgICBJRD0iQXNhdG8yMDExMzE0IiwKICAgIHNjb3B1cz0iMSIsCikpCicnJyk7\"));\n",
       "    "
      ],
      "text/plain": [
       "<IPython.core.display.Javascript object>"
      ]
     },
     "metadata": {},
     "output_type": "display_data"
    },
    {
     "data": {
      "application/javascript": [
       "$('span:contains(\"# Temp\")').closest('.cell').remove();"
      ],
      "text/plain": [
       "<IPython.core.display.Javascript object>"
      ]
     },
     "metadata": {},
     "output_type": "display_data"
    },
    {
     "data": {
      "application/javascript": [
       "\n",
       "        $('span:contains(\"# Temp\")').closest('.cell').remove();\n",
       "        var code = IPython.notebook.insert_cell_below('code');\n",
       "        code.set_text(atob(\"IyBUZW1wCmluc2VydCgnJycKYXNhdG8yMDExYSA9IERCKFdvcmtVbnJlbGF0ZWQoCiAgICAyMDExLCAiQWxpZ25tZW50IGJldHdlZW4gdGhlIGJ1c2luZXNzIHN0cmF0ZWd5IGFuZCB0aGUgc29mdHdhcmUgcHJvY2Vzc2VzIGltcHJvdmVtZW50OiBBIHJvYWRtYXAgZm9yIHRoZSBpbXBsZW1lbnRhdGlvbiBbQWxpbmhhbWVudG8gZW50cmUgZXN0cmF0ZWdpYSBkZSBuZWdvY2lvcyBlIG1lbGhvcmlhIGRlIHByb2Nlc3NvcyBkZSBzb2Z0d2FyZTogVW0gcm90ZWlybyBkZSBpbXBsZW1lbnRhY2FvXSIsCiAgICBkaXNwbGF5PSJhc2F0byIsCiAgICBhdXRob3JzPSJBc2F0bywgUi4gYW5kIFNwaW5vbGEsIE0uTS4gYW5kIENvc3RhLCBJLiBhbmQgRGUgRmFyaWFzIFNpbHZhLCBXLkguIiwKICAgIHBwPSIzMTQtMzI4IiwKICAgIHBsYWNlMT0iUHJvZHVjYW8iLAogICAgZW50cnl0eXBlPSJhcnRpY2xlIiwKICAgIHZvbHVtZT0iMjEiLAogICAgbnVtYmVyPSIyIiwKICAgIGRvaT0iMTAuMTU5MC9TMDEwMy02NTEzMjAxMTAwNTAwMDAyOCIsCiAgICBub3RlPSJjaXRlZCBCeSAzIiwKICAgIGxpbms9Imh0dHBzOi8vd3d3LnNjb3B1cy5jb20vaW53YXJkL3JlY29yZC51cmk/ZWlkPTItczIuMC03OTk2MTAwMzMxMCZkb2k9MTAuMTU5MCUyZlMwMTAzLTY1MTMyMDExMDA1MDAwMDI4JnBhcnRuZXJJRD00MCZtZDU9NGY3NGQ0ODM2MTdlZjlhMGI1NzVhMjFiMzRhN2E4OGMiLAogICAgZG9jdW1lbnRfdHlwZT0iQXJ0aWNsZSIsCiAgICBzb3VyY2U9IlNjb3B1cyIsCiAgICBJRD0iQXNhdG8yMDExMzE0IiwKICAgIHNjb3B1cz0iMSIsCikpCicnJyk7\"));\n",
       "    "
      ],
      "text/plain": [
       "<IPython.core.display.Javascript object>"
      ]
     },
     "metadata": {},
     "output_type": "display_data"
    },
    {
     "data": {
      "application/javascript": [
       "$('span:contains(\"# Temp\")').closest('.cell').remove();"
      ],
      "text/plain": [
       "<IPython.core.display.Javascript object>"
      ]
     },
     "metadata": {},
     "output_type": "display_data"
    },
    {
     "data": {
      "application/javascript": [
       "\n",
       "        $('span:contains(\"# Temp\")').closest('.cell').remove();\n",
       "        var code = IPython.notebook.insert_cell_below('code');\n",
       "        code.set_text(atob(\"IyBUZW1wCmluc2VydCgnJycnJycpOwpzZXRfYXR0cmlidXRlKCdndXpt4W4yMDEwYScsICdzY29wdXMnLCAnMScpOw==\"));\n",
       "    "
      ],
      "text/plain": [
       "<IPython.core.display.Javascript object>"
      ]
     },
     "metadata": {},
     "output_type": "display_data"
    },
    {
     "data": {
      "application/javascript": [
       "$('span:contains(\"# Temp\")').closest('.cell').remove();"
      ],
      "text/plain": [
       "<IPython.core.display.Javascript object>"
      ]
     },
     "metadata": {},
     "output_type": "display_data"
    },
    {
     "data": {
      "application/javascript": [
       "\n",
       "        $('span:contains(\"# Temp\")').closest('.cell').remove();\n",
       "        var code = IPython.notebook.insert_cell_below('code');\n",
       "        code.set_text(atob(\"IyBUZW1wCmluc2VydCgnJycnJycpOwpzZXRfYXR0cmlidXRlKCdndXpt4W4yMDEwYScsICdzY29wdXMnLCAnMScpOw==\"));\n",
       "    "
      ],
      "text/plain": [
       "<IPython.core.display.Javascript object>"
      ]
     },
     "metadata": {},
     "output_type": "display_data"
    },
    {
     "data": {
      "application/javascript": [
       "$('span:contains(\"# Temp\")').closest('.cell').remove();"
      ],
      "text/plain": [
       "<IPython.core.display.Javascript object>"
      ]
     },
     "metadata": {},
     "output_type": "display_data"
    },
    {
     "data": {
      "application/javascript": [
       "\n",
       "        $('span:contains(\"# Temp\")').closest('.cell').remove();\n",
       "        var code = IPython.notebook.insert_cell_below('code');\n",
       "        code.set_text(atob(\"IyBUZW1wCmluc2VydCgnJycKemFsemFsYTIwMTBhID0gREIoV29ya1VucmVsYXRlZCgKICAgIDIwMTAsICJTb2Z0d2FyZSBwcm9jZXNzIGltcHJvdmVtZW50IGZvciB0aGUgYWlybGluZSBpbmR1c3RyeSIsCiAgICBkaXNwbGF5PSJ6YWx6YWxhIiwKICAgIGF1dGhvcnM9IlphbHphbGEsIEEuIGFuZCBVZGFpcHVyd2FsYSwgQS4iLAogICAgcGxhY2U9RUNJTUUsCiAgICBwcD0iMzk3LTQwOCIsCiAgICBlbnRyeXR5cGU9ImNvbmZlcmVuY2UiLAogICAgbm90ZT0iY2l0ZWQgQnkgMCIsCiAgICBsaW5rPSJodHRwczovL3d3dy5zY29wdXMuY29tL2lud2FyZC9yZWNvcmQudXJpP2VpZD0yLXMyLjAtODQ5MDA4MDQ2OTgmcGFydG5lcklEPTQwJm1kNT0xYWUxZDFiZTkyMTJmYzE1NGI1MTQ0ZDllMjIwODhhZSIsCiAgICBkb2N1bWVudF90eXBlPSJDb25mZXJlbmNlIFBhcGVyIiwKICAgIHNvdXJjZT0iU2NvcHVzIiwKICAgIElEPSJaYWx6YWxhMjAxMDM5NyIsCiAgICBzY29wdXM9IjEiLAopKQonJycpOw==\"));\n",
       "    "
      ],
      "text/plain": [
       "<IPython.core.display.Javascript object>"
      ]
     },
     "metadata": {},
     "output_type": "display_data"
    },
    {
     "data": {
      "application/javascript": [
       "$('span:contains(\"# Temp\")').closest('.cell').remove();"
      ],
      "text/plain": [
       "<IPython.core.display.Javascript object>"
      ]
     },
     "metadata": {},
     "output_type": "display_data"
    },
    {
     "data": {
      "application/javascript": [
       "\n",
       "        $('span:contains(\"# Temp\")').closest('.cell').remove();\n",
       "        var code = IPython.notebook.insert_cell_below('code');\n",
       "        code.set_text(atob(\"IyBUZW1wCmluc2VydCgnJycKemFsemFsYTIwMTBhID0gREIoV29ya1VucmVsYXRlZCgKICAgIDIwMTAsICJTb2Z0d2FyZSBwcm9jZXNzIGltcHJvdmVtZW50IGZvciB0aGUgYWlybGluZSBpbmR1c3RyeSIsCiAgICBkaXNwbGF5PSJ6YWx6YWxhIiwKICAgIGF1dGhvcnM9IlphbHphbGEsIEEuIGFuZCBVZGFpcHVyd2FsYSwgQS4iLAogICAgcGxhY2U9RUNJTUUsCiAgICBwcD0iMzk3LTQwOCIsCiAgICBlbnRyeXR5cGU9ImNvbmZlcmVuY2UiLAogICAgbm90ZT0iY2l0ZWQgQnkgMCIsCiAgICBsaW5rPSJodHRwczovL3d3dy5zY29wdXMuY29tL2lud2FyZC9yZWNvcmQudXJpP2VpZD0yLXMyLjAtODQ5MDA4MDQ2OTgmcGFydG5lcklEPTQwJm1kNT0xYWUxZDFiZTkyMTJmYzE1NGI1MTQ0ZDllMjIwODhhZSIsCiAgICBkb2N1bWVudF90eXBlPSJDb25mZXJlbmNlIFBhcGVyIiwKICAgIHNvdXJjZT0iU2NvcHVzIiwKICAgIElEPSJaYWx6YWxhMjAxMDM5NyIsCiAgICBzY29wdXM9IjEiLAopKQonJycpOw==\"));\n",
       "    "
      ],
      "text/plain": [
       "<IPython.core.display.Javascript object>"
      ]
     },
     "metadata": {},
     "output_type": "display_data"
    },
    {
     "data": {
      "application/javascript": [
       "$('span:contains(\"# Temp\")').closest('.cell').remove();"
      ],
      "text/plain": [
       "<IPython.core.display.Javascript object>"
      ]
     },
     "metadata": {},
     "output_type": "display_data"
    },
    {
     "data": {
      "application/javascript": [
       "\n",
       "        $('span:contains(\"# Temp\")').closest('.cell').remove();\n",
       "        var code = IPython.notebook.insert_cell_below('code');\n",
       "        code.set_text(atob(\"IyBUZW1wCmluc2VydCgnJycKZ2FsaW5hYzIwMDlhID0gREIoV29ya1VucmVsYXRlZCgKICAgIDIwMDksICJFbXBpcmljYWwgZXZhbHVhdGlvbiBvZiBzZWxlY3RlZCBiZXN0IHByYWN0aWNlcyBpbiBpbXBsZW1lbnRhdGlvbiBvZiBzb2Z0d2FyZSBwcm9jZXNzIGltcHJvdmVtZW50IiwKICAgIGRpc3BsYXk9ImdhbGluYWMiLAogICAgYXV0aG9ycz0iR2FsaW5hYywgVC4iLAogICAgcGxhY2U9SVNULAogICAgcHA9IjEzNTEtMTM2NCIsCiAgICBlbnRyeXR5cGU9ImFydGljbGUiLAogICAgdm9sdW1lPSI1MSIsCiAgICBudW1iZXI9IjkiLAogICAgZG9pPSIxMC4xMDE2L2ouaW5mc29mLjIwMDkuMDUuMDAyIiwKICAgIG5vdGU9ImNpdGVkIEJ5IDkiLAogICAgbGluaz0iaHR0cHM6Ly93d3cuc2NvcHVzLmNvbS9pbndhcmQvcmVjb3JkLnVyaT9laWQ9Mi1zMi4wLTY3NjQ5MjEwMjAzJmRvaT0xMC4xMDE2JTJmai5pbmZzb2YuMjAwOS4wNS4wMDImcGFydG5lcklEPTQwJm1kNT04MTU4M2IwZjU1YTkyZTQ1ZmU2MmFlZDY2NTQxYTJhNiIsCiAgICBkb2N1bWVudF90eXBlPSJBcnRpY2xlIiwKICAgIHNvdXJjZT0iU2NvcHVzIiwKICAgIElEPSJHYWxpbmFjMjAwOTEzNTEiLAogICAgc2NvcHVzPSIxIiwKKSkKJycnKTs=\"));\n",
       "    "
      ],
      "text/plain": [
       "<IPython.core.display.Javascript object>"
      ]
     },
     "metadata": {},
     "output_type": "display_data"
    },
    {
     "data": {
      "application/javascript": [
       "$('span:contains(\"# Temp\")').closest('.cell').remove();"
      ],
      "text/plain": [
       "<IPython.core.display.Javascript object>"
      ]
     },
     "metadata": {},
     "output_type": "display_data"
    },
    {
     "data": {
      "application/javascript": [
       "\n",
       "        $('span:contains(\"# Temp\")').closest('.cell').remove();\n",
       "        var code = IPython.notebook.insert_cell_below('code');\n",
       "        code.set_text(atob(\"IyBUZW1wCmluc2VydCgnJycKZ2FsaW5hYzIwMDlhID0gREIoV29ya1VucmVsYXRlZCgKICAgIDIwMDksICJFbXBpcmljYWwgZXZhbHVhdGlvbiBvZiBzZWxlY3RlZCBiZXN0IHByYWN0aWNlcyBpbiBpbXBsZW1lbnRhdGlvbiBvZiBzb2Z0d2FyZSBwcm9jZXNzIGltcHJvdmVtZW50IiwKICAgIGRpc3BsYXk9ImdhbGluYWMiLAogICAgYXV0aG9ycz0iR2FsaW5hYywgVC4iLAogICAgcGxhY2U9SVNULAogICAgcHA9IjEzNTEtMTM2NCIsCiAgICBlbnRyeXR5cGU9ImFydGljbGUiLAogICAgdm9sdW1lPSI1MSIsCiAgICBudW1iZXI9IjkiLAogICAgZG9pPSIxMC4xMDE2L2ouaW5mc29mLjIwMDkuMDUuMDAyIiwKICAgIG5vdGU9ImNpdGVkIEJ5IDkiLAogICAgbGluaz0iaHR0cHM6Ly93d3cuc2NvcHVzLmNvbS9pbndhcmQvcmVjb3JkLnVyaT9laWQ9Mi1zMi4wLTY3NjQ5MjEwMjAzJmRvaT0xMC4xMDE2JTJmai5pbmZzb2YuMjAwOS4wNS4wMDImcGFydG5lcklEPTQwJm1kNT04MTU4M2IwZjU1YTkyZTQ1ZmU2MmFlZDY2NTQxYTJhNiIsCiAgICBkb2N1bWVudF90eXBlPSJBcnRpY2xlIiwKICAgIHNvdXJjZT0iU2NvcHVzIiwKICAgIElEPSJHYWxpbmFjMjAwOTEzNTEiLAogICAgc2NvcHVzPSIxIiwKKSkKJycnKTs=\"));\n",
       "    "
      ],
      "text/plain": [
       "<IPython.core.display.Javascript object>"
      ]
     },
     "metadata": {},
     "output_type": "display_data"
    },
    {
     "data": {
      "application/javascript": [
       "$('span:contains(\"# Temp\")').closest('.cell').remove();"
      ],
      "text/plain": [
       "<IPython.core.display.Javascript object>"
      ]
     },
     "metadata": {},
     "output_type": "display_data"
    },
    {
     "data": {
      "application/javascript": [
       "\n",
       "        $('span:contains(\"# Temp\")').closest('.cell').remove();\n",
       "        var code = IPython.notebook.insert_cell_below('code');\n",
       "        code.set_text(atob(\"IyBUZW1wCmluc2VydCgnJycnJycpOwpzZXRfYXR0cmlidXRlKCdhbGJ1cXVlcnF1ZTIwMDlhJywgJ3Njb3B1cycsICcxJyk7\"));\n",
       "    "
      ],
      "text/plain": [
       "<IPython.core.display.Javascript object>"
      ]
     },
     "metadata": {},
     "output_type": "display_data"
    },
    {
     "data": {
      "application/javascript": [
       "$('span:contains(\"# Temp\")').closest('.cell').remove();"
      ],
      "text/plain": [
       "<IPython.core.display.Javascript object>"
      ]
     },
     "metadata": {},
     "output_type": "display_data"
    },
    {
     "data": {
      "application/javascript": [
       "\n",
       "        $('span:contains(\"# Temp\")').closest('.cell').remove();\n",
       "        var code = IPython.notebook.insert_cell_below('code');\n",
       "        code.set_text(atob(\"IyBUZW1wCmluc2VydCgnJycnJycpOwpzZXRfYXR0cmlidXRlKCdhbGJ1cXVlcnF1ZTIwMDlhJywgJ3Njb3B1cycsICcxJyk7\"));\n",
       "    "
      ],
      "text/plain": [
       "<IPython.core.display.Javascript object>"
      ]
     },
     "metadata": {},
     "output_type": "display_data"
    },
    {
     "data": {
      "application/javascript": [
       "$('span:contains(\"# Temp\")').closest('.cell').remove();"
      ],
      "text/plain": [
       "<IPython.core.display.Javascript object>"
      ]
     },
     "metadata": {},
     "output_type": "display_data"
    },
    {
     "data": {
      "application/javascript": [
       "\n",
       "        $('span:contains(\"# Temp\")').closest('.cell').remove();\n",
       "        var code = IPython.notebook.insert_cell_below('code');\n",
       "        code.set_text(atob(\"IyBUZW1wCmluc2VydCgnJycKdmllaXJhMjAwOWEgPSBEQihXb3JrVW5yZWxhdGVkKAogICAgMjAwOSwgIlVzaW5nIHN0cmF0ZWdpYyBwbGFubmluZyBmb3Igc2VsZWN0aW9uIG9mIFNQSSBwcm9jZXNzZXM6IEFuIGV4cGVyaWVuY2UgcmVwb3J0IiwKICAgIGRpc3BsYXk9InZpZWlyYSIsCiAgICBhdXRob3JzPSJWaWVpcmEsIFIuRi5NLiBhbmQgTWNCcmlkZSwgVC4iLAogICAgcGxhY2U9SUNTUElDRCwKICAgIHBwPSIyOC0zMyIsCiAgICBlbnRyeXR5cGU9ImNvbmZlcmVuY2UiLAogICAgbm90ZT0iY2l0ZWQgQnkgMCIsCiAgICBsaW5rPSJodHRwczovL3d3dy5zY29wdXMuY29tL2lud2FyZC9yZWNvcmQudXJpP2VpZD0yLXMyLjAtODQ5MjQwNjY2NDAmcGFydG5lcklEPTQwJm1kNT00ZTU2ODlhNGI2Y2Y2NTM3Mzc0N2M2NjdkMjcyODA1ZSIsCiAgICBkb2N1bWVudF90eXBlPSJDb25mZXJlbmNlIFBhcGVyIiwKICAgIHNvdXJjZT0iU2NvcHVzIiwKICAgIElEPSJWaWVpcmEyMDA5MjgiLAogICAgc2NvcHVzPSIxIiwKKSkKJycnKTs=\"));\n",
       "    "
      ],
      "text/plain": [
       "<IPython.core.display.Javascript object>"
      ]
     },
     "metadata": {},
     "output_type": "display_data"
    },
    {
     "data": {
      "application/javascript": [
       "$('span:contains(\"# Temp\")').closest('.cell').remove();"
      ],
      "text/plain": [
       "<IPython.core.display.Javascript object>"
      ]
     },
     "metadata": {},
     "output_type": "display_data"
    },
    {
     "data": {
      "application/javascript": [
       "\n",
       "        $('span:contains(\"# Temp\")').closest('.cell').remove();\n",
       "        var code = IPython.notebook.insert_cell_below('code');\n",
       "        code.set_text(atob(\"IyBUZW1wCmluc2VydCgnJycKdmllaXJhMjAwOWEgPSBEQihXb3JrVW5yZWxhdGVkKAogICAgMjAwOSwgIlVzaW5nIHN0cmF0ZWdpYyBwbGFubmluZyBmb3Igc2VsZWN0aW9uIG9mIFNQSSBwcm9jZXNzZXM6IEFuIGV4cGVyaWVuY2UgcmVwb3J0IiwKICAgIGRpc3BsYXk9InZpZWlyYSIsCiAgICBhdXRob3JzPSJWaWVpcmEsIFIuRi5NLiBhbmQgTWNCcmlkZSwgVC4iLAogICAgcGxhY2U9SUNTUElDRCwKICAgIHBwPSIyOC0zMyIsCiAgICBlbnRyeXR5cGU9ImNvbmZlcmVuY2UiLAogICAgbm90ZT0iY2l0ZWQgQnkgMCIsCiAgICBsaW5rPSJodHRwczovL3d3dy5zY29wdXMuY29tL2lud2FyZC9yZWNvcmQudXJpP2VpZD0yLXMyLjAtODQ5MjQwNjY2NDAmcGFydG5lcklEPTQwJm1kNT00ZTU2ODlhNGI2Y2Y2NTM3Mzc0N2M2NjdkMjcyODA1ZSIsCiAgICBkb2N1bWVudF90eXBlPSJDb25mZXJlbmNlIFBhcGVyIiwKICAgIHNvdXJjZT0iU2NvcHVzIiwKICAgIElEPSJWaWVpcmEyMDA5MjgiLAogICAgc2NvcHVzPSIxIiwKKSkKJycnKTs=\"));\n",
       "    "
      ],
      "text/plain": [
       "<IPython.core.display.Javascript object>"
      ]
     },
     "metadata": {},
     "output_type": "display_data"
    },
    {
     "data": {
      "application/javascript": [
       "$('span:contains(\"# Temp\")').closest('.cell').remove();"
      ],
      "text/plain": [
       "<IPython.core.display.Javascript object>"
      ]
     },
     "metadata": {},
     "output_type": "display_data"
    },
    {
     "data": {
      "application/javascript": [
       "\n",
       "        $('span:contains(\"# Temp\")').closest('.cell').remove();\n",
       "        var code = IPython.notebook.insert_cell_below('code');\n",
       "        code.set_text(atob(\"IyBUZW1wCmluc2VydCgnJycnJycpOwpzZXRfYXR0cmlidXRlKCdiZWNrZXIyMDA4YScsICdzY29wdXMnLCAnMScpOw==\"));\n",
       "    "
      ],
      "text/plain": [
       "<IPython.core.display.Javascript object>"
      ]
     },
     "metadata": {},
     "output_type": "display_data"
    },
    {
     "data": {
      "application/javascript": [
       "$('span:contains(\"# Temp\")').closest('.cell').remove();"
      ],
      "text/plain": [
       "<IPython.core.display.Javascript object>"
      ]
     },
     "metadata": {},
     "output_type": "display_data"
    },
    {
     "data": {
      "application/javascript": [
       "\n",
       "        $('span:contains(\"# Temp\")').closest('.cell').remove();\n",
       "        var code = IPython.notebook.insert_cell_below('code');\n",
       "        code.set_text(atob(\"IyBUZW1wCmluc2VydCgnJycnJycpOwpzZXRfYXR0cmlidXRlKCdiZWNrZXIyMDA4YScsICdzY29wdXMnLCAnMScpOw==\"));\n",
       "    "
      ],
      "text/plain": [
       "<IPython.core.display.Javascript object>"
      ]
     },
     "metadata": {},
     "output_type": "display_data"
    },
    {
     "data": {
      "application/javascript": [
       "$('span:contains(\"# Temp\")').closest('.cell').remove();"
      ],
      "text/plain": [
       "<IPython.core.display.Javascript object>"
      ]
     },
     "metadata": {},
     "output_type": "display_data"
    },
    {
     "data": {
      "application/javascript": [
       "\n",
       "        $('span:contains(\"# Temp\")').closest('.cell').remove();\n",
       "        var code = IPython.notebook.insert_cell_below('code');\n",
       "        code.set_text(atob(\"IyBUZW1wCmluc2VydCgnJycnJycpOwpzZXRfYXR0cmlidXRlKCdtYXJ0aW5zMjAwOGEnLCAnc2NvcHVzJywgJzEnKTs=\"));\n",
       "    "
      ],
      "text/plain": [
       "<IPython.core.display.Javascript object>"
      ]
     },
     "metadata": {},
     "output_type": "display_data"
    },
    {
     "data": {
      "application/javascript": [
       "$('span:contains(\"# Temp\")').closest('.cell').remove();"
      ],
      "text/plain": [
       "<IPython.core.display.Javascript object>"
      ]
     },
     "metadata": {},
     "output_type": "display_data"
    },
    {
     "data": {
      "application/javascript": [
       "\n",
       "        $('span:contains(\"# Temp\")').closest('.cell').remove();\n",
       "        var code = IPython.notebook.insert_cell_below('code');\n",
       "        code.set_text(atob(\"IyBUZW1wCmluc2VydCgnJycnJycpOwpzZXRfYXR0cmlidXRlKCdtYXJ0aW5zMjAwOGEnLCAnc2NvcHVzJywgJzEnKTs=\"));\n",
       "    "
      ],
      "text/plain": [
       "<IPython.core.display.Javascript object>"
      ]
     },
     "metadata": {},
     "output_type": "display_data"
    },
    {
     "data": {
      "application/javascript": [
       "$('span:contains(\"# Temp\")').closest('.cell').remove();"
      ],
      "text/plain": [
       "<IPython.core.display.Javascript object>"
      ]
     },
     "metadata": {},
     "output_type": "display_data"
    },
    {
     "data": {
      "application/javascript": [
       "\n",
       "        $('span:contains(\"# Temp\")').closest('.cell').remove();\n",
       "        var code = IPython.notebook.insert_cell_below('code');\n",
       "        code.set_text(atob(\"IyBUZW1wCmluc2VydCgnJycKbWFydGluczIwMDdhID0gREIoV29ya1VucmVsYXRlZCgKICAgIDIwMDcsICJBIGNvbXBhcmF0aXZlIHN0dWR5IG9mIFNQSSBhcHByb2FjaGVzIHdpdGggUHJvUEFNIiwKICAgIGRpc3BsYXk9Im1hcnRpbnMiLAogICAgYXV0aG9ycz0iTWFydGlucywgUC5WLiBhbmQgRGEgU2lsdmEsIEEuUi4iLAogICAgcGxhY2U9SUNRSUNULAogICAgcHA9IjEwMC0xMDkiLAogICAgZW50cnl0eXBlPSJjb25mZXJlbmNlIiwKICAgIGRvaT0iMTAuMTEwOS9RVUFUSUMuMjAwNy41IiwKICAgIGFydF9udW1iZXI9IjQzMzUyMzgiLAogICAgbm90ZT0iY2l0ZWQgQnkgMSIsCiAgICBsaW5rPSJodHRwczovL3d3dy5zY29wdXMuY29tL2lud2FyZC9yZWNvcmQudXJpP2VpZD0yLXMyLjAtNDg0NDkwOTYyMTcmZG9pPTEwLjExMDklMmZRVUFUSUMuMjAwNy41JnBhcnRuZXJJRD00MCZtZDU9OWZiMGM1ZmY4ZGE0NWY1OTIxMzI1MDFhOTQyNzE0MGMiLAogICAgZG9jdW1lbnRfdHlwZT0iQ29uZmVyZW5jZSBQYXBlciIsCiAgICBzb3VyY2U9IlNjb3B1cyIsCiAgICBJRD0iTWFydGluczIwMDcxMDAiLAogICAgc2NvcHVzPSIxIiwKKSkKJycnKTs=\"));\n",
       "    "
      ],
      "text/plain": [
       "<IPython.core.display.Javascript object>"
      ]
     },
     "metadata": {},
     "output_type": "display_data"
    },
    {
     "data": {
      "application/javascript": [
       "$('span:contains(\"# Temp\")').closest('.cell').remove();"
      ],
      "text/plain": [
       "<IPython.core.display.Javascript object>"
      ]
     },
     "metadata": {},
     "output_type": "display_data"
    },
    {
     "data": {
      "application/javascript": [
       "\n",
       "        $('span:contains(\"# Temp\")').closest('.cell').remove();\n",
       "        var code = IPython.notebook.insert_cell_below('code');\n",
       "        code.set_text(atob(\"IyBUZW1wCmluc2VydCgnJycKbWFydGluczIwMDdhID0gREIoV29ya1VucmVsYXRlZCgKICAgIDIwMDcsICJBIGNvbXBhcmF0aXZlIHN0dWR5IG9mIFNQSSBhcHByb2FjaGVzIHdpdGggUHJvUEFNIiwKICAgIGRpc3BsYXk9Im1hcnRpbnMiLAogICAgYXV0aG9ycz0iTWFydGlucywgUC5WLiBhbmQgRGEgU2lsdmEsIEEuUi4iLAogICAgcGxhY2U9SUNRSUNULAogICAgcHA9IjEwMC0xMDkiLAogICAgZW50cnl0eXBlPSJjb25mZXJlbmNlIiwKICAgIGRvaT0iMTAuMTEwOS9RVUFUSUMuMjAwNy41IiwKICAgIGFydF9udW1iZXI9IjQzMzUyMzgiLAogICAgbm90ZT0iY2l0ZWQgQnkgMSIsCiAgICBsaW5rPSJodHRwczovL3d3dy5zY29wdXMuY29tL2lud2FyZC9yZWNvcmQudXJpP2VpZD0yLXMyLjAtNDg0NDkwOTYyMTcmZG9pPTEwLjExMDklMmZRVUFUSUMuMjAwNy41JnBhcnRuZXJJRD00MCZtZDU9OWZiMGM1ZmY4ZGE0NWY1OTIxMzI1MDFhOTQyNzE0MGMiLAogICAgZG9jdW1lbnRfdHlwZT0iQ29uZmVyZW5jZSBQYXBlciIsCiAgICBzb3VyY2U9IlNjb3B1cyIsCiAgICBJRD0iTWFydGluczIwMDcxMDAiLAogICAgc2NvcHVzPSIxIiwKKSkKJycnKTs=\"));\n",
       "    "
      ],
      "text/plain": [
       "<IPython.core.display.Javascript object>"
      ]
     },
     "metadata": {},
     "output_type": "display_data"
    },
    {
     "data": {
      "application/javascript": [
       "$('span:contains(\"# Temp\")').closest('.cell').remove();"
      ],
      "text/plain": [
       "<IPython.core.display.Javascript object>"
      ]
     },
     "metadata": {},
     "output_type": "display_data"
    },
    {
     "data": {
      "application/javascript": [
       "\n",
       "        $('span:contains(\"# Temp\")').closest('.cell').remove();\n",
       "        var code = IPython.notebook.insert_cell_below('code');\n",
       "        code.set_text(atob(\"IyBUZW1wCmluc2VydCgnJycnJycpOwpzZXRfYXR0cmlidXRlKCd3aWxraWUyMDA3YScsICdzY29wdXMnLCAnMScpOw==\"));\n",
       "    "
      ],
      "text/plain": [
       "<IPython.core.display.Javascript object>"
      ]
     },
     "metadata": {},
     "output_type": "display_data"
    },
    {
     "data": {
      "application/javascript": [
       "$('span:contains(\"# Temp\")').closest('.cell').remove();"
      ],
      "text/plain": [
       "<IPython.core.display.Javascript object>"
      ]
     },
     "metadata": {},
     "output_type": "display_data"
    },
    {
     "data": {
      "application/javascript": [
       "\n",
       "        $('span:contains(\"# Temp\")').closest('.cell').remove();\n",
       "        var code = IPython.notebook.insert_cell_below('code');\n",
       "        code.set_text(atob(\"IyBUZW1wCmluc2VydCgnJycnJycpOwpzZXRfYXR0cmlidXRlKCd3aWxraWUyMDA3YScsICdzY29wdXMnLCAnMScpOw==\"));\n",
       "    "
      ],
      "text/plain": [
       "<IPython.core.display.Javascript object>"
      ]
     },
     "metadata": {},
     "output_type": "display_data"
    },
    {
     "data": {
      "application/javascript": [
       "$('span:contains(\"# Temp\")').closest('.cell').remove();"
      ],
      "text/plain": [
       "<IPython.core.display.Javascript object>"
      ]
     },
     "metadata": {},
     "output_type": "display_data"
    },
    {
     "data": {
      "application/javascript": [
       "\n",
       "        $('span:contains(\"# Temp\")').closest('.cell').remove();\n",
       "        var code = IPython.notebook.insert_cell_below('code');\n",
       "        code.set_text(atob(\"IyBUZW1wCmluc2VydCgnJycKbWFydGluczIwMDZhID0gREIoV29ya1VucmVsYXRlZCgKICAgIDIwMDYsICJBIGNhc2Ugc3R1ZHkgYXBwbHlpbmcgcHJvY2VzcyBhbmQgcHJvamVjdCBhbGlnbm1lbnQgbWV0aG9kb2xvZ3kiLAogICAgZGlzcGxheT0ibWFydGlucyIsCiAgICBhdXRob3JzPSJNYXJ0aW5zLCBQLlYuIGFuZCBkYSBTaWx2YSwgQS5SLiIsCiAgICBwbGFjZT1KQkNTLAogICAgcHA9IjY1LTgyIiwKICAgIGVudHJ5dHlwZT0iYXJ0aWNsZSIsCiAgICB2b2x1bWU9IjEyIiwKICAgIG51bWJlcj0iMyIsCiAgICBkb2k9IjEwLjEwMDcvQkYwMzE5NDQ5NiIsCiAgICBub3RlPSJjaXRlZCBCeSAyIiwKICAgIGxpbms9Imh0dHBzOi8vd3d3LnNjb3B1cy5jb20vaW53YXJkL3JlY29yZC51cmk/ZWlkPTItczIuMC04NDk0Mjc1MjA5OCZkb2k9MTAuMTAwNyUyZkJGMDMxOTQ0OTYmcGFydG5lcklEPTQwJm1kNT0wMjUxYTlhNmJkYmVkMzllMmIwZTRjODg1MjgxZWYwMCIsCiAgICBkb2N1bWVudF90eXBlPSJBcnRpY2xlIiwKICAgIHNvdXJjZT0iU2NvcHVzIiwKICAgIElEPSJNYXJ0aW5zMjAwNjY1IiwKICAgIHNjb3B1cz0iMSIsCikpCicnJyk7\"));\n",
       "    "
      ],
      "text/plain": [
       "<IPython.core.display.Javascript object>"
      ]
     },
     "metadata": {},
     "output_type": "display_data"
    },
    {
     "data": {
      "application/javascript": [
       "$('span:contains(\"# Temp\")').closest('.cell').remove();"
      ],
      "text/plain": [
       "<IPython.core.display.Javascript object>"
      ]
     },
     "metadata": {},
     "output_type": "display_data"
    },
    {
     "data": {
      "application/javascript": [
       "\n",
       "        $('span:contains(\"# Temp\")').closest('.cell').remove();\n",
       "        var code = IPython.notebook.insert_cell_below('code');\n",
       "        code.set_text(atob(\"IyBUZW1wCmluc2VydCgnJycKbWFydGluczIwMDZhID0gREIoV29ya1VucmVsYXRlZCgKICAgIDIwMDYsICJBIGNhc2Ugc3R1ZHkgYXBwbHlpbmcgcHJvY2VzcyBhbmQgcHJvamVjdCBhbGlnbm1lbnQgbWV0aG9kb2xvZ3kiLAogICAgZGlzcGxheT0ibWFydGlucyIsCiAgICBhdXRob3JzPSJNYXJ0aW5zLCBQLlYuIGFuZCBkYSBTaWx2YSwgQS5SLiIsCiAgICBwbGFjZT1KQkNTLAogICAgcHA9IjY1LTgyIiwKICAgIGVudHJ5dHlwZT0iYXJ0aWNsZSIsCiAgICB2b2x1bWU9IjEyIiwKICAgIG51bWJlcj0iMyIsCiAgICBkb2k9IjEwLjEwMDcvQkYwMzE5NDQ5NiIsCiAgICBub3RlPSJjaXRlZCBCeSAyIiwKICAgIGxpbms9Imh0dHBzOi8vd3d3LnNjb3B1cy5jb20vaW53YXJkL3JlY29yZC51cmk/ZWlkPTItczIuMC04NDk0Mjc1MjA5OCZkb2k9MTAuMTAwNyUyZkJGMDMxOTQ0OTYmcGFydG5lcklEPTQwJm1kNT0wMjUxYTlhNmJkYmVkMzllMmIwZTRjODg1MjgxZWYwMCIsCiAgICBkb2N1bWVudF90eXBlPSJBcnRpY2xlIiwKICAgIHNvdXJjZT0iU2NvcHVzIiwKICAgIElEPSJNYXJ0aW5zMjAwNjY1IiwKICAgIHNjb3B1cz0iMSIsCikpCicnJyk7\"));\n",
       "    "
      ],
      "text/plain": [
       "<IPython.core.display.Javascript object>"
      ]
     },
     "metadata": {},
     "output_type": "display_data"
    },
    {
     "data": {
      "application/javascript": [
       "$('span:contains(\"# Temp\")').closest('.cell').remove();"
      ],
      "text/plain": [
       "<IPython.core.display.Javascript object>"
      ]
     },
     "metadata": {},
     "output_type": "display_data"
    },
    {
     "data": {
      "application/javascript": [
       "\n",
       "        $('span:contains(\"# Temp\")').closest('.cell').remove();\n",
       "        var code = IPython.notebook.insert_cell_below('code');\n",
       "        code.set_text(atob(\"IyBUZW1wCmluc2VydCgnJycKdmVyeWFyZDE5OThhID0gREIoV29ya1VucmVsYXRlZCgKICAgIDE5OTgsICJEZW1hbmRpbmcgY2hhbmdlOiBIb3cgdG8gcmVtYWluIGluIGJ1c2luZXNzIGRlc3BpdGUgSVQiLAogICAgZGlzcGxheT0idmVyeWFyZCIsCiAgICBhdXRob3JzPSJWZXJ5YXJkLCBSaWNoYXJkIiwKICAgIHBsYWNlPUlFRUNELAogICAgcHA9IjEvMS0xLzMiLAogICAgZW50cnl0eXBlPSJjb25mZXJlbmNlIiwKICAgIG51bWJlcj0iMzEyIiwKICAgIG5vdGU9ImNpdGVkIEJ5IDAiLAogICAgbGluaz0iaHR0cHM6Ly93d3cuc2NvcHVzLmNvbS9pbndhcmQvcmVjb3JkLnVyaT9laWQ9Mi1zMi4wLTAwMzE2NDI1MTgmcGFydG5lcklEPTQwJm1kNT1lYTE2OWE1NjUyOWQ1MjYwYTViNzdhY2RlZjMxNjQ1MCIsCiAgICBkb2N1bWVudF90eXBlPSJDb25mZXJlbmNlIFBhcGVyIiwKICAgIHNvdXJjZT0iU2NvcHVzIiwKICAgIElEPSJWZXJ5YXJkMTk5ODEvMSIsCiAgICBzY29wdXM9IjEiLAopKQonJycpOw==\"));\n",
       "    "
      ],
      "text/plain": [
       "<IPython.core.display.Javascript object>"
      ]
     },
     "metadata": {},
     "output_type": "display_data"
    },
    {
     "data": {
      "application/javascript": [
       "$('span:contains(\"# Temp\")').closest('.cell').remove();"
      ],
      "text/plain": [
       "<IPython.core.display.Javascript object>"
      ]
     },
     "metadata": {},
     "output_type": "display_data"
    },
    {
     "data": {
      "application/javascript": [
       "\n",
       "        $('span:contains(\"# Temp\")').closest('.cell').remove();\n",
       "        var code = IPython.notebook.insert_cell_below('code');\n",
       "        code.set_text(atob(\"IyBUZW1wCmluc2VydCgnJycKdmVyeWFyZDE5OThhID0gREIoV29ya1VucmVsYXRlZCgKICAgIDE5OTgsICJEZW1hbmRpbmcgY2hhbmdlOiBIb3cgdG8gcmVtYWluIGluIGJ1c2luZXNzIGRlc3BpdGUgSVQiLAogICAgZGlzcGxheT0idmVyeWFyZCIsCiAgICBhdXRob3JzPSJWZXJ5YXJkLCBSaWNoYXJkIiwKICAgIHBsYWNlPUlFRUNELAogICAgcHA9IjEvMS0xLzMiLAogICAgZW50cnl0eXBlPSJjb25mZXJlbmNlIiwKICAgIG51bWJlcj0iMzEyIiwKICAgIG5vdGU9ImNpdGVkIEJ5IDAiLAogICAgbGluaz0iaHR0cHM6Ly93d3cuc2NvcHVzLmNvbS9pbndhcmQvcmVjb3JkLnVyaT9laWQ9Mi1zMi4wLTAwMzE2NDI1MTgmcGFydG5lcklEPTQwJm1kNT1lYTE2OWE1NjUyOWQ1MjYwYTViNzdhY2RlZjMxNjQ1MCIsCiAgICBkb2N1bWVudF90eXBlPSJDb25mZXJlbmNlIFBhcGVyIiwKICAgIHNvdXJjZT0iU2NvcHVzIiwKICAgIElEPSJWZXJ5YXJkMTk5ODEvMSIsCiAgICBzY29wdXM9IjEiLAopKQonJycpOw==\"));\n",
       "    "
      ],
      "text/plain": [
       "<IPython.core.display.Javascript object>"
      ]
     },
     "metadata": {},
     "output_type": "display_data"
    },
    {
     "data": {
      "application/javascript": [
       "$('span:contains(\"# Temp\")').closest('.cell').remove();"
      ],
      "text/plain": [
       "<IPython.core.display.Javascript object>"
      ]
     },
     "metadata": {},
     "output_type": "display_data"
    },
    {
     "data": {
      "application/javascript": [
       "\n",
       "        $('span:contains(\"# Temp\")').closest('.cell').remove();\n",
       "        var code = IPython.notebook.insert_cell_below('code');\n",
       "        code.set_text(atob(\"IyBUZW1wCmluc2VydCgnJycnJycpOwpzZXRfYXR0cmlidXRlKCdyZWlibGVpbjE5OTdhJywgJ3Njb3B1cycsICcxJyk7\"));\n",
       "    "
      ],
      "text/plain": [
       "<IPython.core.display.Javascript object>"
      ]
     },
     "metadata": {},
     "output_type": "display_data"
    },
    {
     "data": {
      "application/javascript": [
       "$('span:contains(\"# Temp\")').closest('.cell').remove();"
      ],
      "text/plain": [
       "<IPython.core.display.Javascript object>"
      ]
     },
     "metadata": {},
     "output_type": "display_data"
    },
    {
     "data": {
      "application/javascript": [
       "\n",
       "        $('span:contains(\"# Temp\")').closest('.cell').remove();\n",
       "        var code = IPython.notebook.insert_cell_below('code');\n",
       "        code.set_text(atob(\"IyBUZW1wCmluc2VydCgnJycnJycpOwpzZXRfYXR0cmlidXRlKCdyZWlibGVpbjE5OTdhJywgJ3Njb3B1cycsICcxJyk7\"));\n",
       "    "
      ],
      "text/plain": [
       "<IPython.core.display.Javascript object>"
      ]
     },
     "metadata": {},
     "output_type": "display_data"
    }
   ],
   "source": [
    "from custom_snowballing import UnrelatedInsert\n",
    "UnrelatedInsert(\"scopus\", articles=article_list)"
   ]
  },
  {
   "cell_type": "code",
   "execution_count": 21,
   "metadata": {
    "collapsed": true
   },
   "outputs": [],
   "source": [
    "# Temp\n",
    "insert('''''');\n",
    "set_attribute('reiblein1997a', 'scopus', '1');"
   ]
  },
  {
   "cell_type": "code",
   "execution_count": null,
   "metadata": {
    "collapsed": true
   },
   "outputs": [],
   "source": []
  },
  {
   "cell_type": "code",
   "execution_count": null,
   "metadata": {
    "collapsed": true
   },
   "outputs": [],
   "source": [
    "ArticleNavigator(articles=article_list)"
   ]
  },
  {
   "cell_type": "code",
   "execution_count": null,
   "metadata": {
    "collapsed": true,
    "scrolled": false
   },
   "outputs": [],
   "source": [
    "ArticleNavigator(articles=article_list)"
   ]
  }
 ],
 "metadata": {
  "kernelspec": {
   "display_name": "Python 3",
   "language": "python",
   "name": "python3"
  },
  "language_info": {
   "codemirror_mode": {
    "name": "ipython",
    "version": 3
   },
   "file_extension": ".py",
   "mimetype": "text/x-python",
   "name": "python",
   "nbconvert_exporter": "python",
   "pygments_lexer": "ipython3",
   "version": "3.6.3"
  },
  "toc": {
   "nav_menu": {
    "height": "12px",
    "width": "252px"
   },
   "number_sections": true,
   "sideBar": true,
   "skip_h1_title": false,
   "toc_cell": false,
   "toc_position": {},
   "toc_section_display": "block",
   "toc_window_display": false
  }
 },
 "nbformat": 4,
 "nbformat_minor": 2
}
