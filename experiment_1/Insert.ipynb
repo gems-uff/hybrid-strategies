{
 "cells": [
  {
   "cell_type": "code",
   "execution_count": 1,
   "metadata": {
    "collapsed": true
   },
   "outputs": [],
   "source": [
    "import database\n",
    "from snowballing.operations import load_work, reload, work_by_varname\n",
    "from snowballing.snowballing import Converter\n",
    "from snowballing.snowballing import ArticleNavigator\n",
    "from snowballing.dbmanager import insert, set_attribute"
   ]
  },
  {
   "cell_type": "code",
   "execution_count": 27,
   "metadata": {
    "scrolled": false
   },
   "outputs": [
    {
     "data": {
      "application/vnd.jupyter.widget-view+json": {
       "model_id": "1e992806b45b45f7a8dfda51556fec73",
       "version_major": 2,
       "version_minor": 0
      },
      "text/html": [
       "<p>Failed to display Jupyter Widget of type <code>VBox</code>.</p>\n",
       "<p>\n",
       "  If you're reading this message in Jupyter Notebook or JupyterLab, it may mean\n",
       "  that the widgets JavaScript is still loading. If this message persists, it\n",
       "  likely means that the widgets JavaScript library is either not installed or\n",
       "  not enabled. See the <a href=\"https://ipywidgets.readthedocs.io/en/stable/user_install.html\">Jupyter\n",
       "  Widgets Documentation</a> for setup instructions.\n",
       "</p>\n",
       "<p>\n",
       "  If you're reading this message in another notebook frontend (for example, a static\n",
       "  rendering on GitHub or <a href=\"https://nbviewer.jupyter.org/\">NBViewer</a>),\n",
       "  it may mean that your frontend doesn't currently support widgets.\n",
       "</p>\n"
      ],
      "text/plain": [
       "VBox(children=(HBox(children=(Dropdown(options={'BibTeX': 'bibtex', 'Text': 'text', '[N] author name place other year': 'citation', 'Quoted': 'quoted'}, value='bibtex'), Button(description='Set article_list variable', style=ButtonStyle()), Label(value=''))), HBox(children=(Textarea(value='', layout=Layout(height='500px', width='50%')), Textarea(value='', layout=Layout(height='500px', width='50%'))))))"
      ]
     },
     "metadata": {},
     "output_type": "display_data"
    }
   ],
   "source": [
    "Converter(\"bibtex\")"
   ]
  },
  {
   "cell_type": "code",
   "execution_count": 28,
   "metadata": {},
   "outputs": [
    {
     "data": {
      "text/plain": [
       "80"
      ]
     },
     "execution_count": 28,
     "metadata": {},
     "output_type": "execute_result"
    }
   ],
   "source": [
    "len(article_list)"
   ]
  },
  {
   "cell_type": "code",
   "execution_count": 29,
   "metadata": {},
   "outputs": [],
   "source": [
    "from snowballing.operations import reload\n",
    "reload()\n"
   ]
  },
  {
   "cell_type": "code",
   "execution_count": null,
   "metadata": {
    "collapsed": true
   },
   "outputs": [],
   "source": []
  },
  {
   "cell_type": "code",
   "execution_count": null,
   "metadata": {
    "collapsed": true,
    "scrolled": false
   },
   "outputs": [],
   "source": [
    "ArticleNavigator??"
   ]
  },
  {
   "cell_type": "code",
   "execution_count": null,
   "metadata": {
    "collapsed": true
   },
   "outputs": [],
   "source": []
  },
  {
   "cell_type": "code",
   "execution_count": null,
   "metadata": {
    "collapsed": true
   },
   "outputs": [],
   "source": []
  },
  {
   "cell_type": "code",
   "execution_count": 30,
   "metadata": {},
   "outputs": [
    {
     "data": {
      "application/vnd.jupyter.widget-view+json": {
       "model_id": "3aba1642232845d480bb087f51be61e4",
       "version_major": 2,
       "version_minor": 0
      },
      "text/html": [
       "<p>Failed to display Jupyter Widget of type <code>VBox</code>.</p>\n",
       "<p>\n",
       "  If you're reading this message in Jupyter Notebook or JupyterLab, it may mean\n",
       "  that the widgets JavaScript is still loading. If this message persists, it\n",
       "  likely means that the widgets JavaScript library is either not installed or\n",
       "  not enabled. See the <a href=\"https://ipywidgets.readthedocs.io/en/stable/user_install.html\">Jupyter\n",
       "  Widgets Documentation</a> for setup instructions.\n",
       "</p>\n",
       "<p>\n",
       "  If you're reading this message in another notebook frontend (for example, a static\n",
       "  rendering on GitHub or <a href=\"https://nbviewer.jupyter.org/\">NBViewer</a>),\n",
       "  it may mean that your frontend doesn't currently support widgets.\n",
       "</p>\n"
      ],
      "text/plain": [
       "VBox(children=(HBox(children=(Button(description='Previous Article', disabled=True, icon='caret-left', style=ButtonStyle()), Button(description='Reload Article', icon='refresh', style=ButtonStyle()), Button(description='Next Article', icon='caret-right', style=ButtonStyle()))), HBox(children=(Dropdown(description='Type', index=3, options=('Work', 'WorkSnowball', 'WorkOk', 'WorkUnrelated', 'WorkNoFile', 'WorkLang', 'Site', 'Email'), value='WorkUnrelated'), ToggleButton(value=False, description='File'))), HBox(children=(Text(value='', description='Due'), Text(value='', description='Place'))), HBox(children=(Text(value='', description='Year'), Text(value='', description='Prefix Var'))), HBox(children=(Text(value='', description='PDFPage'), Text(value='', description='Related'))), HBox(children=(Text(value='', description='Display'), Text(value='', description='Summary'))), HBox(children=(Text(value='', description='Star'), Text(value='', description='Link'))), HBox(children=(Text(value='1', description='webofscience2015'),)), HBox(children=(Button(description='Reload Article', icon='refresh', style=ButtonStyle()), IntSlider(value=0, max=79), Label(value='1/80'))), Output()))"
      ]
     },
     "metadata": {},
     "output_type": "display_data"
    },
    {
     "data": {
      "application/javascript": [
       "$('span:contains(\"# Temp\")').closest('.cell').remove();"
      ],
      "text/plain": [
       "<IPython.core.display.Javascript object>"
      ]
     },
     "metadata": {},
     "output_type": "display_data"
    },
    {
     "data": {
      "application/javascript": [
       "\n",
       "        $('span:contains(\"# Temp\")').closest('.cell').remove();\n",
       "        var code = IPython.notebook.insert_cell_below('code');\n",
       "        code.set_text(decodeURIComponent(window.atob(\"JTIzJTIwVGVtcCUwQWluc2VydCUyOCUyNyUyNyUyNyUwQSUyMCUyMCUyMCUyMHNob3ZhbDE5OTdhJTIwJTNEJTIwREIlMjhXb3JrVW5yZWxhdGVkJTI4JTBBJTIwJTIwJTIwJTIwJTIwJTIwJTIwJTIwMTk5NyUyQyUyMCUyMkElMjBjb21iaW5hdGlvbiUyMG9mJTIwdGhlJTIwTWstSUklMjBmdW5jdGlvbiUyMHBvaW50cyUyMHNvZnR3YXJlJTIwZXN0aW1hdGlvbiUyMG1ldGhvZCUwQXdpdGglMjB0aGUlMjBBRElTU0ElMjBtZXRob2RvbG9neSUyMGZvciUyMHN5c3RlbXMlMjBhbmFseXNpcyUyMGFuZCUyMGRlc2lnbiUyMiUyQyUwQSUyMCUyMCUyMCUyMCUyMCUyMCUyMCUyMGRpc3BsYXklM0QlMjJzaG92YWwlMjIlMkMlMEElMjAlMjAlMjAlMjAlMjAlMjAlMjAlMjBhdXRob3JzJTNEJTIyU2hvdmFsJTJDJTIwUCUyMGFuZCUyMEZlbGRtYW4lMkMlMjBPJTIyJTJDJTBBJTIwJTIwJTIwJTIwJTIwJTIwJTIwJTIwcGxhY2UlM0RGQUtFJTJDJTBBJTIwJTIwJTIwJTIwJTIwJTIwJTIwJTIwcHAlM0QlMjI4NTUtODY1JTIyJTJDJTBBJTIwJTIwJTIwJTIwJTIwJTIwJTIwJTIwZW50cnl0eXBlJTNEJTIyYXJ0aWNsZSUyMiUyQyUwQSUyMCUyMCUyMCUyMCUyMCUyMCUyMCUyMHZvbHVtZSUzRCUyMjM5JTIyJTJDJTBBJTIwJTIwJTIwJTIwJTIwJTIwJTIwJTIwbnVtYmVyJTNEJTIyMTMlMjIlMkMlMEElMjAlMjAlMjAlMjAlMjAlMjAlMjAlMjBtb250aCUzRCUyMkRFQyUyMDE1JTIyJTJDJTBBJTIwJTIwJTIwJTIwJTIwJTIwJTIwJTIwZG9pJTNEJTIyMTAuMTAxNi9TMDk1MC01ODQ5JTI4OTclMjkwMDAwOS04JTIyJTJDJTBBJTIwJTIwJTIwJTIwJTIwJTIwJTIwJTIwaXNzbiUzRCUyMjA5NTAtNTg0OSUyMiUyQyUwQSUyMCUyMCUyMCUyMCUyMCUyMCUyMCUyMGVpc3NuJTNEJTIyMTg3My02MDI1JTIyJTJDJTBBJTIwJTIwJTIwJTIwJTIwJTIwJTIwJTIwcmVzZWFyY2hlcmlkLW51bWJlcnMlM0QlMjJTaG92YWwlMkMlMjBQZXJldHovRi0xMjI5LTIwMTIlMjIlMkMlMEElMjAlMjAlMjAlMjAlMjAlMjAlMjAlMjBvcmNpZC1udW1iZXJzJTNEJTIyU2hvdmFsJTJDJTIwUGVyZXR6LzAwMDAtMDAwMi0wMTgzLTI4MzIlMjIlMkMlMEElMjAlMjAlMjAlMjAlMjAlMjAlMjAlMjB1bmlxdWUtaWQlM0QlMjJJU0klM0EwMDAwNzE1ODQzMDAwMDElMjIlMkMlMEElMjAlMjAlMjAlMjAlMjAlMjAlMjAlMjBJRCUzRCUyMklTSSUzQTAwMDA3MTU4NDMwMDAwMSUyMiUyQyUwQSUyMCUyMCUyMCUyMCUyMCUyMCUyMCUyMHdlYm9mc2NpZW5jZTIwMTUlM0QlMjIxJTIyJTJDJTBBJTIwJTIwJTIwJTIwJTIwJTIwJTIwJTIwcGxhY2V4JTNEJTIySU5GT1JNQVRJT04lMjBBTkQlMjBTT0ZUV0FSRSUyMFRFQ0hOT0xPR1klMjIlMkMlMEElMjAlMjAlMjAlMjAlMjklMjklMEElMjclMjclMjclMjklM0I=\")));\n",
       "    "
      ],
      "text/plain": [
       "<IPython.core.display.Javascript object>"
      ]
     },
     "metadata": {},
     "output_type": "display_data"
    },
    {
     "data": {
      "application/javascript": [
       "$('span:contains(\"# Temp\")').closest('.cell').remove();"
      ],
      "text/plain": [
       "<IPython.core.display.Javascript object>"
      ]
     },
     "metadata": {},
     "output_type": "display_data"
    },
    {
     "data": {
      "application/javascript": [
       "\n",
       "        $('span:contains(\"# Temp\")').closest('.cell').remove();\n",
       "        var code = IPython.notebook.insert_cell_below('code');\n",
       "        code.set_text(decodeURIComponent(window.atob(\"JTIzJTIwVGVtcCUwQWluc2VydCUyOCUyNyUyNyUyNyUwQSUyMCUyMCUyMCUyMHNob3ZhbDE5OTdhJTIwJTNEJTIwREIlMjhXb3JrVW5yZWxhdGVkJTI4JTBBJTIwJTIwJTIwJTIwJTIwJTIwJTIwJTIwMTk5NyUyQyUyMCUyMkElMjBjb21iaW5hdGlvbiUyMG9mJTIwdGhlJTIwTWstSUklMjBmdW5jdGlvbiUyMHBvaW50cyUyMHNvZnR3YXJlJTIwZXN0aW1hdGlvbiUyMG1ldGhvZCUwQXdpdGglMjB0aGUlMjBBRElTU0ElMjBtZXRob2RvbG9neSUyMGZvciUyMHN5c3RlbXMlMjBhbmFseXNpcyUyMGFuZCUyMGRlc2lnbiUyMiUyQyUwQSUyMCUyMCUyMCUyMCUyMCUyMCUyMCUyMGRpc3BsYXklM0QlMjJzaG92YWwlMjIlMkMlMEElMjAlMjAlMjAlMjAlMjAlMjAlMjAlMjBhdXRob3JzJTNEJTIyU2hvdmFsJTJDJTIwUCUyMGFuZCUyMEZlbGRtYW4lMkMlMjBPJTIyJTJDJTBBJTIwJTIwJTIwJTIwJTIwJTIwJTIwJTIwcGxhY2UlM0RGQUtFJTJDJTBBJTIwJTIwJTIwJTIwJTIwJTIwJTIwJTIwcHAlM0QlMjI4NTUtODY1JTIyJTJDJTBBJTIwJTIwJTIwJTIwJTIwJTIwJTIwJTIwZW50cnl0eXBlJTNEJTIyYXJ0aWNsZSUyMiUyQyUwQSUyMCUyMCUyMCUyMCUyMCUyMCUyMCUyMHZvbHVtZSUzRCUyMjM5JTIyJTJDJTBBJTIwJTIwJTIwJTIwJTIwJTIwJTIwJTIwbnVtYmVyJTNEJTIyMTMlMjIlMkMlMEElMjAlMjAlMjAlMjAlMjAlMjAlMjAlMjBtb250aCUzRCUyMkRFQyUyMDE1JTIyJTJDJTBBJTIwJTIwJTIwJTIwJTIwJTIwJTIwJTIwZG9pJTNEJTIyMTAuMTAxNi9TMDk1MC01ODQ5JTI4OTclMjkwMDAwOS04JTIyJTJDJTBBJTIwJTIwJTIwJTIwJTIwJTIwJTIwJTIwaXNzbiUzRCUyMjA5NTAtNTg0OSUyMiUyQyUwQSUyMCUyMCUyMCUyMCUyMCUyMCUyMCUyMGVpc3NuJTNEJTIyMTg3My02MDI1JTIyJTJDJTBBJTIwJTIwJTIwJTIwJTIwJTIwJTIwJTIwcmVzZWFyY2hlcmlkLW51bWJlcnMlM0QlMjJTaG92YWwlMkMlMjBQZXJldHovRi0xMjI5LTIwMTIlMjIlMkMlMEElMjAlMjAlMjAlMjAlMjAlMjAlMjAlMjBvcmNpZC1udW1iZXJzJTNEJTIyU2hvdmFsJTJDJTIwUGVyZXR6LzAwMDAtMDAwMi0wMTgzLTI4MzIlMjIlMkMlMEElMjAlMjAlMjAlMjAlMjAlMjAlMjAlMjB1bmlxdWUtaWQlM0QlMjJJU0klM0EwMDAwNzE1ODQzMDAwMDElMjIlMkMlMEElMjAlMjAlMjAlMjAlMjAlMjAlMjAlMjBJRCUzRCUyMklTSSUzQTAwMDA3MTU4NDMwMDAwMSUyMiUyQyUwQSUyMCUyMCUyMCUyMCUyMCUyMCUyMCUyMHdlYm9mc2NpZW5jZTIwMTUlM0QlMjIxJTIyJTJDJTBBJTIwJTIwJTIwJTIwJTIwJTIwJTIwJTIwcGxhY2V4JTNEJTIySU5GT1JNQVRJT04lMjBBTkQlMjBTT0ZUV0FSRSUyMFRFQ0hOT0xPR1klMjIlMkMlMEElMjAlMjAlMjAlMjAlMjklMjklMEElMjclMjclMjclMjklM0I=\")));\n",
       "    "
      ],
      "text/plain": [
       "<IPython.core.display.Javascript object>"
      ]
     },
     "metadata": {},
     "output_type": "display_data"
    },
    {
     "data": {
      "application/javascript": [
       "$('span:contains(\"# Temp\")').closest('.cell').remove();"
      ],
      "text/plain": [
       "<IPython.core.display.Javascript object>"
      ]
     },
     "metadata": {},
     "output_type": "display_data"
    },
    {
     "data": {
      "application/javascript": [
       "\n",
       "        $('span:contains(\"# Temp\")').closest('.cell').remove();\n",
       "        var code = IPython.notebook.insert_cell_below('code');\n",
       "        code.set_text(decodeURIComponent(window.atob(\"JTIzJTIwVGVtcCUwQWluc2VydCUyOCUyNyUyNyUyNyUwQSUyMCUyMCUyMCUyMHJ1aXoyMDE1YSUyMCUzRCUyMERCJTI4V29ya1VucmVsYXRlZCUyOCUwQSUyMCUyMCUyMCUyMCUyMCUyMCUyMCUyMDIwMTUlMkMlMjAlMjJBJTIwZnJhbWV3b3JrJTIwZm9yJTIwc29mdHdhcmUlMjBwcm9jZXNzJTIwZGVwbG95bWVudCUyMGFuZCUyMGV2YWx1YXRpb24lMjIlMkMlMEElMjAlMjAlMjAlMjAlMjAlMjAlMjAlMjBkaXNwbGF5JTNEJTIycnVpeiUyMiUyQyUwQSUyMCUyMCUyMCUyMCUyMCUyMCUyMCUyMGF1dGhvcnMlM0QlMjJSdWl6LVJ1YmUlMkMlMjBJdmFuJTIwYW5kJTIwTWFudWVsJTIwRG9kZXJvJTJDJTIwSnVhbiUyMGFuZCUyMENvbG9tby1QYWxhY2lvcyUyQyUyMFJpY2FyZG8lMjIlMkMlMEElMjAlMjAlMjAlMjAlMjAlMjAlMjAlMjBwbGFjZSUzREZBS0UlMkMlMEElMjAlMjAlMjAlMjAlMjAlMjAlMjAlMjBwcCUzRCUyMjIwNS0yMjElMjIlMkMlMEElMjAlMjAlMjAlMjAlMjAlMjAlMjAlMjBlbnRyeXR5cGUlM0QlMjJhcnRpY2xlJTIyJTJDJTBBJTIwJTIwJTIwJTIwJTIwJTIwJTIwJTIwdm9sdW1lJTNEJTIyNTklMjIlMkMlMEElMjAlMjAlMjAlMjAlMjAlMjAlMjAlMjBtb250aCUzRCUyMk1BUiUyMiUyQyUwQSUyMCUyMCUyMCUyMCUyMCUyMCUyMCUyMGRvaSUzRCUyMjEwLjEwMTYvai5pbmZzb2YuMjAxNC4xMi4wMDElMjIlMkMlMEElMjAlMjAlMjAlMjAlMjAlMjAlMjAlMjBpc3NuJTNEJTIyMDk1MC01ODQ5JTIyJTJDJTBBJTIwJTIwJTIwJTIwJTIwJTIwJTIwJTIwZWlzc24lM0QlMjIxODczLTYwMjUlMjIlMkMlMEElMjAlMjAlMjAlMjAlMjAlMjAlMjAlMjByZXNlYXJjaGVyaWQtbnVtYmVycyUzRCUyMlRyaXZlZGklMkMlMjBLcnV0aS9FLTc1NTgtMjAxNSUwQURvZGVybyUyQyUyMEp1YW4lMjBNYW51ZWwvRC00MTQzLTIwMDklMEFDb2xvbW8tUGFsYWNpb3MlMkMlMjBSaWNhcmRvL0UtNTEzOS0yMDEwJTIyJTJDJTBBJTIwJTIwJTIwJTIwJTIwJTIwJTIwJTIwb3JjaWQtbnVtYmVycyUzRCUyMkRvZGVybyUyQyUyMEp1YW4lMjBNYW51ZWwvMDAwMC0wMDAyLTQxMDUtNTY3OSUwQUNvbG9tby1QYWxhY2lvcyUyQyUyMFJpY2FyZG8vMDAwMC0wMDAyLTE1NTUtOTcyNiUyMiUyQyUwQSUyMCUyMCUyMCUyMCUyMCUyMCUyMCUyMHVuaXF1ZS1pZCUzRCUyMklTSSUzQTAwMDM0OTQyNzIwMDAxMiUyMiUyQyUwQSUyMCUyMCUyMCUyMCUyMCUyMCUyMCUyMElEJTNEJTIySVNJJTNBMDAwMzQ5NDI3MjAwMDEyJTIyJTJDJTBBJTIwJTIwJTIwJTIwJTIwJTIwJTIwJTIwd2Vib2ZzY2llbmNlMjAxNSUzRCUyMjElMjIlMkMlMEElMjAlMjAlMjAlMjAlMjAlMjAlMjAlMjBwbGFjZXglM0QlMjJJTkZPUk1BVElPTiUyMEFORCUyMFNPRlRXQVJFJTIwVEVDSE5PTE9HWSUyMiUyQyUwQSUyMCUyMCUyMCUyMCUyOSUyOSUwQSUyNyUyNyUyNyUyOSUzQg==\")));\n",
       "    "
      ],
      "text/plain": [
       "<IPython.core.display.Javascript object>"
      ]
     },
     "metadata": {},
     "output_type": "display_data"
    },
    {
     "data": {
      "application/javascript": [
       "$('span:contains(\"# Temp\")').closest('.cell').remove();"
      ],
      "text/plain": [
       "<IPython.core.display.Javascript object>"
      ]
     },
     "metadata": {},
     "output_type": "display_data"
    },
    {
     "data": {
      "application/javascript": [
       "\n",
       "        $('span:contains(\"# Temp\")').closest('.cell').remove();\n",
       "        var code = IPython.notebook.insert_cell_below('code');\n",
       "        code.set_text(decodeURIComponent(window.atob(\"JTIzJTIwVGVtcCUwQWluc2VydCUyOCUyNyUyNyUyNyUwQSUyMCUyMCUyMCUyMHJ1aXoyMDE1YSUyMCUzRCUyMERCJTI4V29ya1VucmVsYXRlZCUyOCUwQSUyMCUyMCUyMCUyMCUyMCUyMCUyMCUyMDIwMTUlMkMlMjAlMjJBJTIwZnJhbWV3b3JrJTIwZm9yJTIwc29mdHdhcmUlMjBwcm9jZXNzJTIwZGVwbG95bWVudCUyMGFuZCUyMGV2YWx1YXRpb24lMjIlMkMlMEElMjAlMjAlMjAlMjAlMjAlMjAlMjAlMjBkaXNwbGF5JTNEJTIycnVpeiUyMiUyQyUwQSUyMCUyMCUyMCUyMCUyMCUyMCUyMCUyMGF1dGhvcnMlM0QlMjJSdWl6LVJ1YmUlMkMlMjBJdmFuJTIwYW5kJTIwTWFudWVsJTIwRG9kZXJvJTJDJTIwSnVhbiUyMGFuZCUyMENvbG9tby1QYWxhY2lvcyUyQyUyMFJpY2FyZG8lMjIlMkMlMEElMjAlMjAlMjAlMjAlMjAlMjAlMjAlMjBwbGFjZSUzREZBS0UlMkMlMEElMjAlMjAlMjAlMjAlMjAlMjAlMjAlMjBwcCUzRCUyMjIwNS0yMjElMjIlMkMlMEElMjAlMjAlMjAlMjAlMjAlMjAlMjAlMjBlbnRyeXR5cGUlM0QlMjJhcnRpY2xlJTIyJTJDJTBBJTIwJTIwJTIwJTIwJTIwJTIwJTIwJTIwdm9sdW1lJTNEJTIyNTklMjIlMkMlMEElMjAlMjAlMjAlMjAlMjAlMjAlMjAlMjBtb250aCUzRCUyMk1BUiUyMiUyQyUwQSUyMCUyMCUyMCUyMCUyMCUyMCUyMCUyMGRvaSUzRCUyMjEwLjEwMTYvai5pbmZzb2YuMjAxNC4xMi4wMDElMjIlMkMlMEElMjAlMjAlMjAlMjAlMjAlMjAlMjAlMjBpc3NuJTNEJTIyMDk1MC01ODQ5JTIyJTJDJTBBJTIwJTIwJTIwJTIwJTIwJTIwJTIwJTIwZWlzc24lM0QlMjIxODczLTYwMjUlMjIlMkMlMEElMjAlMjAlMjAlMjAlMjAlMjAlMjAlMjByZXNlYXJjaGVyaWQtbnVtYmVycyUzRCUyMlRyaXZlZGklMkMlMjBLcnV0aS9FLTc1NTgtMjAxNSUwQURvZGVybyUyQyUyMEp1YW4lMjBNYW51ZWwvRC00MTQzLTIwMDklMEFDb2xvbW8tUGFsYWNpb3MlMkMlMjBSaWNhcmRvL0UtNTEzOS0yMDEwJTIyJTJDJTBBJTIwJTIwJTIwJTIwJTIwJTIwJTIwJTIwb3JjaWQtbnVtYmVycyUzRCUyMkRvZGVybyUyQyUyMEp1YW4lMjBNYW51ZWwvMDAwMC0wMDAyLTQxMDUtNTY3OSUwQUNvbG9tby1QYWxhY2lvcyUyQyUyMFJpY2FyZG8vMDAwMC0wMDAyLTE1NTUtOTcyNiUyMiUyQyUwQSUyMCUyMCUyMCUyMCUyMCUyMCUyMCUyMHVuaXF1ZS1pZCUzRCUyMklTSSUzQTAwMDM0OTQyNzIwMDAxMiUyMiUyQyUwQSUyMCUyMCUyMCUyMCUyMCUyMCUyMCUyMElEJTNEJTIySVNJJTNBMDAwMzQ5NDI3MjAwMDEyJTIyJTJDJTBBJTIwJTIwJTIwJTIwJTIwJTIwJTIwJTIwd2Vib2ZzY2llbmNlMjAxNSUzRCUyMjElMjIlMkMlMEElMjAlMjAlMjAlMjAlMjAlMjAlMjAlMjBwbGFjZXglM0QlMjJJTkZPUk1BVElPTiUyMEFORCUyMFNPRlRXQVJFJTIwVEVDSE5PTE9HWSUyMiUyQyUwQSUyMCUyMCUyMCUyMCUyOSUyOSUwQSUyNyUyNyUyNyUyOSUzQg==\")));\n",
       "    "
      ],
      "text/plain": [
       "<IPython.core.display.Javascript object>"
      ]
     },
     "metadata": {},
     "output_type": "display_data"
    },
    {
     "data": {
      "application/javascript": [
       "$('span:contains(\"# Temp\")').closest('.cell').remove();"
      ],
      "text/plain": [
       "<IPython.core.display.Javascript object>"
      ]
     },
     "metadata": {},
     "output_type": "display_data"
    },
    {
     "data": {
      "application/javascript": [
       "\n",
       "        $('span:contains(\"# Temp\")').closest('.cell').remove();\n",
       "        var code = IPython.notebook.insert_cell_below('code');\n",
       "        code.set_text(decodeURIComponent(window.atob(\"JTIzJTIwVGVtcCUwQWluc2VydCUyOCUyNyUyNyUyNyUwQSUyMCUyMCUyMCUyMHJ1aXoyMDE1YSUyMCUzRCUyMERCJTI4V29ya1VucmVsYXRlZCUyOCUwQSUyMCUyMCUyMCUyMCUyMCUyMCUyMCUyMDIwMTUlMkMlMjAlMjJBJTIwZnJhbWV3b3JrJTIwZm9yJTIwc29mdHdhcmUlMjBwcm9jZXNzJTIwZGVwbG95bWVudCUyMGFuZCUyMGV2YWx1YXRpb24lMjIlMkMlMEElMjAlMjAlMjAlMjAlMjAlMjAlMjAlMjBkaXNwbGF5JTNEJTIycnVpeiUyMiUyQyUwQSUyMCUyMCUyMCUyMCUyMCUyMCUyMCUyMGF1dGhvcnMlM0QlMjJSdWl6LVJ1YmUlMkMlMjBJdmFuJTIwYW5kJTIwTWFudWVsJTIwRG9kZXJvJTJDJTIwSnVhbiUyMGFuZCUyMENvbG9tby1QYWxhY2lvcyUyQyUyMFJpY2FyZG8lMjIlMkMlMEElMjAlMjAlMjAlMjAlMjAlMjAlMjAlMjBwbGFjZSUzREZBS0UlMkMlMEElMjAlMjAlMjAlMjAlMjAlMjAlMjAlMjBwcCUzRCUyMjIwNS0yMjElMjIlMkMlMEElMjAlMjAlMjAlMjAlMjAlMjAlMjAlMjBlbnRyeXR5cGUlM0QlMjJhcnRpY2xlJTIyJTJDJTBBJTIwJTIwJTIwJTIwJTIwJTIwJTIwJTIwdm9sdW1lJTNEJTIyNTklMjIlMkMlMEElMjAlMjAlMjAlMjAlMjAlMjAlMjAlMjBtb250aCUzRCUyMk1BUiUyMiUyQyUwQSUyMCUyMCUyMCUyMCUyMCUyMCUyMCUyMGRvaSUzRCUyMjEwLjEwMTYvai5pbmZzb2YuMjAxNC4xMi4wMDElMjIlMkMlMEElMjAlMjAlMjAlMjAlMjAlMjAlMjAlMjBpc3NuJTNEJTIyMDk1MC01ODQ5JTIyJTJDJTBBJTIwJTIwJTIwJTIwJTIwJTIwJTIwJTIwZWlzc24lM0QlMjIxODczLTYwMjUlMjIlMkMlMEElMjAlMjAlMjAlMjAlMjAlMjAlMjAlMjByZXNlYXJjaGVyaWQtbnVtYmVycyUzRCUyMlRyaXZlZGklMkMlMjBLcnV0aS9FLTc1NTgtMjAxNSUwQURvZGVybyUyQyUyMEp1YW4lMjBNYW51ZWwvRC00MTQzLTIwMDklMEFDb2xvbW8tUGFsYWNpb3MlMkMlMjBSaWNhcmRvL0UtNTEzOS0yMDEwJTIyJTJDJTBBJTIwJTIwJTIwJTIwJTIwJTIwJTIwJTIwb3JjaWQtbnVtYmVycyUzRCUyMkRvZGVybyUyQyUyMEp1YW4lMjBNYW51ZWwvMDAwMC0wMDAyLTQxMDUtNTY3OSUwQUNvbG9tby1QYWxhY2lvcyUyQyUyMFJpY2FyZG8vMDAwMC0wMDAyLTE1NTUtOTcyNiUyMiUyQyUwQSUyMCUyMCUyMCUyMCUyMCUyMCUyMCUyMHVuaXF1ZS1pZCUzRCUyMklTSSUzQTAwMDM0OTQyNzIwMDAxMiUyMiUyQyUwQSUyMCUyMCUyMCUyMCUyMCUyMCUyMCUyMElEJTNEJTIySVNJJTNBMDAwMzQ5NDI3MjAwMDEyJTIyJTJDJTBBJTIwJTIwJTIwJTIwJTIwJTIwJTIwJTIwd2Vib2ZzY2llbmNlMjAxNSUzRCUyMjElMjIlMkMlMEElMjAlMjAlMjAlMjAlMjAlMjAlMjAlMjBwbGFjZXglM0QlMjJJTkZPUk1BVElPTiUyMEFORCUyMFNPRlRXQVJFJTIwVEVDSE5PTE9HWSUyMiUyQyUwQSUyMCUyMCUyMCUyMCUyOSUyOSUwQSUyNyUyNyUyNyUyOSUzQg==\")));\n",
       "    "
      ],
      "text/plain": [
       "<IPython.core.display.Javascript object>"
      ]
     },
     "metadata": {},
     "output_type": "display_data"
    },
    {
     "data": {
      "application/javascript": [
       "$('span:contains(\"# Temp\")').closest('.cell').remove();"
      ],
      "text/plain": [
       "<IPython.core.display.Javascript object>"
      ]
     },
     "metadata": {},
     "output_type": "display_data"
    },
    {
     "data": {
      "application/javascript": [
       "\n",
       "        $('span:contains(\"# Temp\")').closest('.cell').remove();\n",
       "        var code = IPython.notebook.insert_cell_below('code');\n",
       "        code.set_text(decodeURIComponent(window.atob(\"JTIzJTIwVGVtcCUwQWluc2VydCUyOCUyNyUyNyUyNyUyNyUyNyUyNyUyOSUzQiUwQXNldF9hdHRyaWJ1dGUlMjglMjd3b2hsaW4yMDE1YSUyNyUyQyUyMCUyN21vbnRoJTI3JTJDJTIwJTI3Tk9WJTI3JTI5JTNCJTBBc2V0X2F0dHJpYnV0ZSUyOCUyN3dvaGxpbjIwMTVhJTI3JTJDJTIwJTI3ZWlzc24lMjclMkMlMjAlMjcxODczLTEyMjglMjclMjklM0IlMEFzZXRfYXR0cmlidXRlJTI4JTI3d29obGluMjAxNWElMjclMkMlMjAlMjdvcmNpZC1udW1iZXJzJTI3JTJDJTIwJTI3TW9lJTJDJTIwTmlscyUyMEJyZWRlLzAwMDAtMDAwMy0yNjY5LTA3NzglMEFXb2hsaW4lMkMlMjBDbGFlcy8wMDAwLTAwMDMtMDQ2MC01MjUzJTI3JTI5JTNCJTBBc2V0X2F0dHJpYnV0ZSUyOCUyN3dvaGxpbjIwMTVhJTI3JTJDJTIwJTI3dW5pcXVlLWlkJTI3JTJDJTIwJTI3SVNJJTNBMDAwMzYyMTM3NzAwMDE3JTI3JTI5JTNCJTBBc2V0X2F0dHJpYnV0ZSUyOCUyN3dvaGxpbjIwMTVhJTI3JTJDJTIwJTI3d2Vib2ZzY2llbmNlMjAxNSUyNyUyQyUyMCUyNzElMjclMjklM0I=\")));\n",
       "    "
      ],
      "text/plain": [
       "<IPython.core.display.Javascript object>"
      ]
     },
     "metadata": {},
     "output_type": "display_data"
    },
    {
     "data": {
      "application/javascript": [
       "$('span:contains(\"# Temp\")').closest('.cell').remove();"
      ],
      "text/plain": [
       "<IPython.core.display.Javascript object>"
      ]
     },
     "metadata": {},
     "output_type": "display_data"
    },
    {
     "data": {
      "application/javascript": [
       "\n",
       "        $('span:contains(\"# Temp\")').closest('.cell').remove();\n",
       "        var code = IPython.notebook.insert_cell_below('code');\n",
       "        code.set_text(decodeURIComponent(window.atob(\"JTIzJTIwVGVtcCUwQWluc2VydCUyOCUyNyUyNyUyNyUyNyUyNyUyNyUyOSUzQiUwQXNldF9hdHRyaWJ1dGUlMjglMjd3b2hsaW4yMDE1YSUyNyUyQyUyMCUyN21vbnRoJTI3JTJDJTIwJTI3Tk9WJTI3JTI5JTNCJTBBc2V0X2F0dHJpYnV0ZSUyOCUyN3dvaGxpbjIwMTVhJTI3JTJDJTIwJTI3ZWlzc24lMjclMkMlMjAlMjcxODczLTEyMjglMjclMjklM0IlMEFzZXRfYXR0cmlidXRlJTI4JTI3d29obGluMjAxNWElMjclMkMlMjAlMjdvcmNpZC1udW1iZXJzJTI3JTJDJTIwJTI3TW9lJTJDJTIwTmlscyUyMEJyZWRlLzAwMDAtMDAwMy0yNjY5LTA3NzglMEFXb2hsaW4lMkMlMjBDbGFlcy8wMDAwLTAwMDMtMDQ2MC01MjUzJTI3JTI5JTNCJTBBc2V0X2F0dHJpYnV0ZSUyOCUyN3dvaGxpbjIwMTVhJTI3JTJDJTIwJTI3dW5pcXVlLWlkJTI3JTJDJTIwJTI3SVNJJTNBMDAwMzYyMTM3NzAwMDE3JTI3JTI5JTNCJTBBc2V0X2F0dHJpYnV0ZSUyOCUyN3dvaGxpbjIwMTVhJTI3JTJDJTIwJTI3d2Vib2ZzY2llbmNlMjAxNSUyNyUyQyUyMCUyNzElMjclMjklM0I=\")));\n",
       "    "
      ],
      "text/plain": [
       "<IPython.core.display.Javascript object>"
      ]
     },
     "metadata": {},
     "output_type": "display_data"
    },
    {
     "data": {
      "application/javascript": [
       "$('span:contains(\"# Temp\")').closest('.cell').remove();"
      ],
      "text/plain": [
       "<IPython.core.display.Javascript object>"
      ]
     },
     "metadata": {},
     "output_type": "display_data"
    },
    {
     "data": {
      "application/javascript": [
       "\n",
       "        $('span:contains(\"# Temp\")').closest('.cell').remove();\n",
       "        var code = IPython.notebook.insert_cell_below('code');\n",
       "        code.set_text(decodeURIComponent(window.atob(\"JTIzJTIwVGVtcCUwQWluc2VydCUyOCUyNyUyNyUyNyUwQSUyMCUyMCUyMCUyMHRhbnJpb3ZlcjIwMTVhJTIwJTNEJTIwREIlMjhXb3JrVW5yZWxhdGVkJTI4JTBBJTIwJTIwJTIwJTIwJTIwJTIwJTIwJTIwMjAxNSUyQyUyMCUyMkElMjBwcm9jZXNzJTIwY2FwYWJpbGl0eSUyMGJhc2VkJTIwYXNzZXNzbWVudCUyMG1vZGVsJTIwZm9yJTIwc29mdHdhcmUlMjB3b3JrZm9yY2UlMjBpbiUwQWVtZXJnZW50JTIwc29mdHdhcmUlMjBvcmdhbml6YXRpb25zJTIyJTJDJTBBJTIwJTIwJTIwJTIwJTIwJTIwJTIwJTIwZGlzcGxheSUzRCUyMnRhbnJpb3ZlciUyMiUyQyUwQSUyMCUyMCUyMCUyMCUyMCUyMCUyMCUyMGF1dGhvcnMlM0QlMjJUYW5yaW92ZXIlMkMlMjBPLiUyME96Z3VyJTIwYW5kJTIwRGVtaXJvcnMlMkMlMjBPbnVyJTIyJTJDJTBBJTIwJTIwJTIwJTIwJTIwJTIwJTIwJTIwcGxhY2UlM0RGQUtFJTJDJTBBJTIwJTIwJTIwJTIwJTIwJTIwJTIwJTIwcHAlM0QlMjIyOS00MCUyMiUyQyUwQSUyMCUyMCUyMCUyMCUyMCUyMCUyMCUyMGVudHJ5dHlwZSUzRCUyMmFydGljbGUlMjIlMkMlMEElMjAlMjAlMjAlMjAlMjAlMjAlMjAlMjB2b2x1bWUlM0QlMjIzNyUyMiUyQyUwQSUyMCUyMCUyMCUyMCUyMCUyMCUyMCUyMG1vbnRoJTNEJTIySkFOJTIyJTJDJTBBJTIwJTIwJTIwJTIwJTIwJTIwJTIwJTIwZG9pJTNEJTIyMTAuMTAxNi9qLmNzaS4yMDE0LjA1LjAwMyUyMiUyQyUwQSUyMCUyMCUyMCUyMCUyMCUyMCUyMCUyMGlzc24lM0QlMjIwOTIwLTU0ODklMjIlMkMlMEElMjAlMjAlMjAlMjAlMjAlMjAlMjAlMjBlaXNzbiUzRCUyMjE4NzItNzAxOCUyMiUyQyUwQSUyMCUyMCUyMCUyMCUyMCUyMCUyMCUyMG9yY2lkLW51bWJlcnMlM0QlMjJEZW1pcm9ycyUyQyUyME9udXIvMDAwMC0wMDAxLTY2MDEtMzkzNyUyMiUyQyUwQSUyMCUyMCUyMCUyMCUyMCUyMCUyMCUyMHVuaXF1ZS1pZCUzRCUyMklTSSUzQTAwMDM0MzYzMzQwMDAwNCUyMiUyQyUwQSUyMCUyMCUyMCUyMCUyMCUyMCUyMCUyMElEJTNEJTIySVNJJTNBMDAwMzQzNjMzNDAwMDA0JTIyJTJDJTBBJTIwJTIwJTIwJTIwJTIwJTIwJTIwJTIwd2Vib2ZzY2llbmNlMjAxNSUzRCUyMjElMjIlMkMlMEElMjAlMjAlMjAlMjAlMjAlMjAlMjAlMjBwbGFjZXglM0QlMjJDT01QVVRFUiUyMFNUQU5EQVJEUyUyMCUyNiUyMElOVEVSRkFDRVMlMjIlMkMlMEElMjAlMjAlMjAlMjAlMjklMjklMEElMjclMjclMjclMjklM0I=\")));\n",
       "    "
      ],
      "text/plain": [
       "<IPython.core.display.Javascript object>"
      ]
     },
     "metadata": {},
     "output_type": "display_data"
    },
    {
     "data": {
      "application/javascript": [
       "$('span:contains(\"# Temp\")').closest('.cell').remove();"
      ],
      "text/plain": [
       "<IPython.core.display.Javascript object>"
      ]
     },
     "metadata": {},
     "output_type": "display_data"
    },
    {
     "data": {
      "application/javascript": [
       "\n",
       "        $('span:contains(\"# Temp\")').closest('.cell').remove();\n",
       "        var code = IPython.notebook.insert_cell_below('code');\n",
       "        code.set_text(decodeURIComponent(window.atob(\"JTIzJTIwVGVtcCUwQWluc2VydCUyOCUyNyUyNyUyNyUwQSUyMCUyMCUyMCUyMHRhbnJpb3ZlcjIwMTVhJTIwJTNEJTIwREIlMjhXb3JrVW5yZWxhdGVkJTI4JTBBJTIwJTIwJTIwJTIwJTIwJTIwJTIwJTIwMjAxNSUyQyUyMCUyMkElMjBwcm9jZXNzJTIwY2FwYWJpbGl0eSUyMGJhc2VkJTIwYXNzZXNzbWVudCUyMG1vZGVsJTIwZm9yJTIwc29mdHdhcmUlMjB3b3JrZm9yY2UlMjBpbiUwQWVtZXJnZW50JTIwc29mdHdhcmUlMjBvcmdhbml6YXRpb25zJTIyJTJDJTBBJTIwJTIwJTIwJTIwJTIwJTIwJTIwJTIwZGlzcGxheSUzRCUyMnRhbnJpb3ZlciUyMiUyQyUwQSUyMCUyMCUyMCUyMCUyMCUyMCUyMCUyMGF1dGhvcnMlM0QlMjJUYW5yaW92ZXIlMkMlMjBPLiUyME96Z3VyJTIwYW5kJTIwRGVtaXJvcnMlMkMlMjBPbnVyJTIyJTJDJTBBJTIwJTIwJTIwJTIwJTIwJTIwJTIwJTIwcGxhY2UlM0RGQUtFJTJDJTBBJTIwJTIwJTIwJTIwJTIwJTIwJTIwJTIwcHAlM0QlMjIyOS00MCUyMiUyQyUwQSUyMCUyMCUyMCUyMCUyMCUyMCUyMCUyMGVudHJ5dHlwZSUzRCUyMmFydGljbGUlMjIlMkMlMEElMjAlMjAlMjAlMjAlMjAlMjAlMjAlMjB2b2x1bWUlM0QlMjIzNyUyMiUyQyUwQSUyMCUyMCUyMCUyMCUyMCUyMCUyMCUyMG1vbnRoJTNEJTIySkFOJTIyJTJDJTBBJTIwJTIwJTIwJTIwJTIwJTIwJTIwJTIwZG9pJTNEJTIyMTAuMTAxNi9qLmNzaS4yMDE0LjA1LjAwMyUyMiUyQyUwQSUyMCUyMCUyMCUyMCUyMCUyMCUyMCUyMGlzc24lM0QlMjIwOTIwLTU0ODklMjIlMkMlMEElMjAlMjAlMjAlMjAlMjAlMjAlMjAlMjBlaXNzbiUzRCUyMjE4NzItNzAxOCUyMiUyQyUwQSUyMCUyMCUyMCUyMCUyMCUyMCUyMCUyMG9yY2lkLW51bWJlcnMlM0QlMjJEZW1pcm9ycyUyQyUyME9udXIvMDAwMC0wMDAxLTY2MDEtMzkzNyUyMiUyQyUwQSUyMCUyMCUyMCUyMCUyMCUyMCUyMCUyMHVuaXF1ZS1pZCUzRCUyMklTSSUzQTAwMDM0MzYzMzQwMDAwNCUyMiUyQyUwQSUyMCUyMCUyMCUyMCUyMCUyMCUyMCUyMElEJTNEJTIySVNJJTNBMDAwMzQzNjMzNDAwMDA0JTIyJTJDJTBBJTIwJTIwJTIwJTIwJTIwJTIwJTIwJTIwd2Vib2ZzY2llbmNlMjAxNSUzRCUyMjElMjIlMkMlMEElMjAlMjAlMjAlMjAlMjAlMjAlMjAlMjBwbGFjZXglM0QlMjJDT01QVVRFUiUyMFNUQU5EQVJEUyUyMCUyNiUyMElOVEVSRkFDRVMlMjIlMkMlMEElMjAlMjAlMjAlMjAlMjklMjklMEElMjclMjclMjclMjklM0I=\")));\n",
       "    "
      ],
      "text/plain": [
       "<IPython.core.display.Javascript object>"
      ]
     },
     "metadata": {},
     "output_type": "display_data"
    },
    {
     "data": {
      "application/javascript": [
       "$('span:contains(\"# Temp\")').closest('.cell').remove();"
      ],
      "text/plain": [
       "<IPython.core.display.Javascript object>"
      ]
     },
     "metadata": {},
     "output_type": "display_data"
    },
    {
     "data": {
      "application/javascript": [
       "\n",
       "        $('span:contains(\"# Temp\")').closest('.cell').remove();\n",
       "        var code = IPython.notebook.insert_cell_below('code');\n",
       "        code.set_text(decodeURIComponent(window.atob(\"JTIzJTIwVGVtcCUwQWluc2VydCUyOCUyNyUyNyUyNyUwQXJpY2hhcmRzb24yMDEyYSUyMCUzRCUyMERCJTI4V29ya1VucmVsYXRlZCUyOCUwQSUyMCUyMCUyMCUyMDIwMTIlMkMlMjAlMjJBJTIwUHJvY2VzcyUyMEZyYW1ld29yayUyMGZvciUyMEdsb2JhbCUyMFNvZnR3YXJlJTIwRW5naW5lZXJpbmclMjBUZWFtcyUyMiUyQyUwQSUyMCUyMCUyMCUyMGRpc3BsYXklM0QlMjJyaWNoYXJkc29uJTIyJTJDJTBBJTIwJTIwJTIwJTIwYXV0aG9ycyUzRCUyMlJpY2hhcmRzb24lMkMlMjBJdGElMjBhbmQlMjBDYXNleSUyQyUyMFZhbGVudGluZSUyMGFuZCUyME1jQ2FmZmVyeSUyQyUyMEZlcmdhbCUyMGFuZCUyMEJ1cnRvbiUyQyUyMEpvaG4lMjBhbmQlMjBCZWVjaGFtJTJDJTIwU2FyYWglMjIlMkMlMEElMjAlMjAlMjAlMjBwbGFjZSUzREZBS0UlMkMlMEElMjAlMjAlMjAlMjBwcCUzRCUyMjExNzUtMTE5MSUyMiUyQyUwQSUyMCUyMCUyMCUyMGVudHJ5dHlwZSUzRCUyMmFydGljbGUlMjIlMkMlMEElMjAlMjAlMjAlMjB2b2x1bWUlM0QlMjI1NCUyMiUyQyUwQSUyMCUyMCUyMCUyMG51bWJlciUzRCUyMjExJTIyJTJDJTBBJTIwJTIwJTIwJTIwbW9udGglM0QlMjJOT1YlMjIlMkMlMEElMjAlMjAlMjAlMjBkb2klM0QlMjIxMC4xMDE2L2ouaW5mc29mLjIwMTIuMDUuMDAyJTIyJTJDJTBBJTIwJTIwJTIwJTIwaXNzbiUzRCUyMjA5NTAtNTg0OSUyMiUyQyUwQSUyMCUyMCUyMCUyMHVuaXF1ZS1pZCUzRCUyMklTSSUzQTAwMDMwODM4NzUwMDAwMiUyMiUyQyUwQSUyMCUyMCUyMCUyMElEJTNEJTIySVNJJTNBMDAwMzA4Mzg3NTAwMDAyJTIyJTJDJTBBJTIwJTIwJTIwJTIwd2Vib2ZzY2llbmNlMjAxNSUzRCUyMjElMjIlMkMlMEElMjAlMjAlMjAlMjBwbGFjZXglM0QlMjJJTkZPUk1BVElPTiUyMEFORCUyMFNPRlRXQVJFJTIwVEVDSE5PTE9HWSUyMiUyQyUwQSUyOSUyOSUwQSUyNyUyNyUyNyUyOSUzQg==\")));\n",
       "    "
      ],
      "text/plain": [
       "<IPython.core.display.Javascript object>"
      ]
     },
     "metadata": {},
     "output_type": "display_data"
    },
    {
     "data": {
      "application/javascript": [
       "$('span:contains(\"# Temp\")').closest('.cell').remove();"
      ],
      "text/plain": [
       "<IPython.core.display.Javascript object>"
      ]
     },
     "metadata": {},
     "output_type": "display_data"
    },
    {
     "data": {
      "application/javascript": [
       "\n",
       "        $('span:contains(\"# Temp\")').closest('.cell').remove();\n",
       "        var code = IPython.notebook.insert_cell_below('code');\n",
       "        code.set_text(decodeURIComponent(window.atob(\"JTIzJTIwVGVtcCUwQWluc2VydCUyOCUyNyUyNyUyNyUwQXJpY2hhcmRzb24yMDEyYSUyMCUzRCUyMERCJTI4V29ya1VucmVsYXRlZCUyOCUwQSUyMCUyMCUyMCUyMDIwMTIlMkMlMjAlMjJBJTIwUHJvY2VzcyUyMEZyYW1ld29yayUyMGZvciUyMEdsb2JhbCUyMFNvZnR3YXJlJTIwRW5naW5lZXJpbmclMjBUZWFtcyUyMiUyQyUwQSUyMCUyMCUyMCUyMGRpc3BsYXklM0QlMjJyaWNoYXJkc29uJTIyJTJDJTBBJTIwJTIwJTIwJTIwYXV0aG9ycyUzRCUyMlJpY2hhcmRzb24lMkMlMjBJdGElMjBhbmQlMjBDYXNleSUyQyUyMFZhbGVudGluZSUyMGFuZCUyME1jQ2FmZmVyeSUyQyUyMEZlcmdhbCUyMGFuZCUyMEJ1cnRvbiUyQyUyMEpvaG4lMjBhbmQlMjBCZWVjaGFtJTJDJTIwU2FyYWglMjIlMkMlMEElMjAlMjAlMjAlMjBwbGFjZSUzREZBS0UlMkMlMEElMjAlMjAlMjAlMjBwcCUzRCUyMjExNzUtMTE5MSUyMiUyQyUwQSUyMCUyMCUyMCUyMGVudHJ5dHlwZSUzRCUyMmFydGljbGUlMjIlMkMlMEElMjAlMjAlMjAlMjB2b2x1bWUlM0QlMjI1NCUyMiUyQyUwQSUyMCUyMCUyMCUyMG51bWJlciUzRCUyMjExJTIyJTJDJTBBJTIwJTIwJTIwJTIwbW9udGglM0QlMjJOT1YlMjIlMkMlMEElMjAlMjAlMjAlMjBkb2klM0QlMjIxMC4xMDE2L2ouaW5mc29mLjIwMTIuMDUuMDAyJTIyJTJDJTBBJTIwJTIwJTIwJTIwaXNzbiUzRCUyMjA5NTAtNTg0OSUyMiUyQyUwQSUyMCUyMCUyMCUyMHVuaXF1ZS1pZCUzRCUyMklTSSUzQTAwMDMwODM4NzUwMDAwMiUyMiUyQyUwQSUyMCUyMCUyMCUyMElEJTNEJTIySVNJJTNBMDAwMzA4Mzg3NTAwMDAyJTIyJTJDJTBBJTIwJTIwJTIwJTIwd2Vib2ZzY2llbmNlMjAxNSUzRCUyMjElMjIlMkMlMEElMjAlMjAlMjAlMjBwbGFjZXglM0QlMjJJTkZPUk1BVElPTiUyMEFORCUyMFNPRlRXQVJFJTIwVEVDSE5PTE9HWSUyMiUyQyUwQSUyOSUyOSUwQSUyNyUyNyUyNyUyOSUzQg==\")));\n",
       "    "
      ],
      "text/plain": [
       "<IPython.core.display.Javascript object>"
      ]
     },
     "metadata": {},
     "output_type": "display_data"
    },
    {
     "data": {
      "application/javascript": [
       "$('span:contains(\"# Temp\")').closest('.cell').remove();"
      ],
      "text/plain": [
       "<IPython.core.display.Javascript object>"
      ]
     },
     "metadata": {},
     "output_type": "display_data"
    },
    {
     "data": {
      "application/javascript": [
       "\n",
       "        $('span:contains(\"# Temp\")').closest('.cell').remove();\n",
       "        var code = IPython.notebook.insert_cell_below('code');\n",
       "        code.set_text(decodeURIComponent(window.atob(\"JTIzJTIwVGVtcCUwQWluc2VydCUyOCUyNyUyNyUyNyUyNyUyNyUyNyUyOSUzQiUwQXNldF9hdHRyaWJ1dGUlMjglMjdqYWhhbmdpcmlhbjIwMTFhJTI3JTJDJTIwJTI3bW9udGglMjclMkMlMjAlMjdKVU4lMjclMjklM0IlMEFzZXRfYXR0cmlidXRlJTI4JTI3amFoYW5naXJpYW4yMDExYSUyNyUyQyUyMCUyN3Jlc2VhcmNoZXJpZC1udW1iZXJzJTI3JTJDJTIwJTI3R2FyZyUyQyUyMExhbGl0L0YtMTA5Ny0yMDEwJTBBJTI3JTI5JTNCJTBBc2V0X2F0dHJpYnV0ZSUyOCUyN2phaGFuZ2lyaWFuMjAxMWElMjclMkMlMjAlMjdvcmNpZC1udW1iZXJzJTI3JTJDJTIwJTI3R2FyZyUyQyUyMExhbGl0LzAwMDAtMDAwMi0zODY4LTA0ODElMEFFbGRhYmklMkMlMjBUaWxsYWwvMDAwMC0wMDAyLTAwNDUtNDA3NSUwQVlvdW5nJTJDJTIwVGVycnkvMDAwMC0wMDAxLTk1NDUtMjI2OSUyNyUyOSUzQiUwQXNldF9hdHRyaWJ1dGUlMjglMjdqYWhhbmdpcmlhbjIwMTFhJTI3JTJDJTIwJTI3dW5pcXVlLWlkJTI3JTJDJTIwJTI3SVNJJTNBMDAwMjkwODM2MDAwMDA3JTI3JTI5JTNCJTBBc2V0X2F0dHJpYnV0ZSUyOCUyN2phaGFuZ2lyaWFuMjAxMWElMjclMkMlMjAlMjd3ZWJvZnNjaWVuY2UyMDE1JTI3JTJDJTIwJTI3MSUyNyUyOSUzQg==\")));\n",
       "    "
      ],
      "text/plain": [
       "<IPython.core.display.Javascript object>"
      ]
     },
     "metadata": {},
     "output_type": "display_data"
    },
    {
     "data": {
      "application/javascript": [
       "$('span:contains(\"# Temp\")').closest('.cell').remove();"
      ],
      "text/plain": [
       "<IPython.core.display.Javascript object>"
      ]
     },
     "metadata": {},
     "output_type": "display_data"
    },
    {
     "data": {
      "application/javascript": [
       "\n",
       "        $('span:contains(\"# Temp\")').closest('.cell').remove();\n",
       "        var code = IPython.notebook.insert_cell_below('code');\n",
       "        code.set_text(decodeURIComponent(window.atob(\"JTIzJTIwVGVtcCUwQWluc2VydCUyOCUyNyUyNyUyNyUyNyUyNyUyNyUyOSUzQiUwQXNldF9hdHRyaWJ1dGUlMjglMjdqYWhhbmdpcmlhbjIwMTFhJTI3JTJDJTIwJTI3bW9udGglMjclMkMlMjAlMjdKVU4lMjclMjklM0IlMEFzZXRfYXR0cmlidXRlJTI4JTI3amFoYW5naXJpYW4yMDExYSUyNyUyQyUyMCUyN3Jlc2VhcmNoZXJpZC1udW1iZXJzJTI3JTJDJTIwJTI3R2FyZyUyQyUyMExhbGl0L0YtMTA5Ny0yMDEwJTBBJTI3JTI5JTNCJTBBc2V0X2F0dHJpYnV0ZSUyOCUyN2phaGFuZ2lyaWFuMjAxMWElMjclMkMlMjAlMjdvcmNpZC1udW1iZXJzJTI3JTJDJTIwJTI3R2FyZyUyQyUyMExhbGl0LzAwMDAtMDAwMi0zODY4LTA0ODElMEFFbGRhYmklMkMlMjBUaWxsYWwvMDAwMC0wMDAyLTAwNDUtNDA3NSUwQVlvdW5nJTJDJTIwVGVycnkvMDAwMC0wMDAxLTk1NDUtMjI2OSUyNyUyOSUzQiUwQXNldF9hdHRyaWJ1dGUlMjglMjdqYWhhbmdpcmlhbjIwMTFhJTI3JTJDJTIwJTI3dW5pcXVlLWlkJTI3JTJDJTIwJTI3SVNJJTNBMDAwMjkwODM2MDAwMDA3JTI3JTI5JTNCJTBBc2V0X2F0dHJpYnV0ZSUyOCUyN2phaGFuZ2lyaWFuMjAxMWElMjclMkMlMjAlMjd3ZWJvZnNjaWVuY2UyMDE1JTI3JTJDJTIwJTI3MSUyNyUyOSUzQg==\")));\n",
       "    "
      ],
      "text/plain": [
       "<IPython.core.display.Javascript object>"
      ]
     },
     "metadata": {},
     "output_type": "display_data"
    },
    {
     "data": {
      "application/javascript": [
       "$('span:contains(\"# Temp\")').closest('.cell').remove();"
      ],
      "text/plain": [
       "<IPython.core.display.Javascript object>"
      ]
     },
     "metadata": {},
     "output_type": "display_data"
    },
    {
     "data": {
      "application/javascript": [
       "\n",
       "        $('span:contains(\"# Temp\")').closest('.cell').remove();\n",
       "        var code = IPython.notebook.insert_cell_below('code');\n",
       "        code.set_text(decodeURIComponent(window.atob(\"JTIzJTIwVGVtcCUwQWluc2VydCUyOCUyNyUyNyUyNyUwQWdhcm91c2kyMDEzYSUyMCUzRCUyMERCJTI4V29ya1VucmVsYXRlZCUyOCUwQSUyMCUyMCUyMCUyMDIwMTMlMkMlMjAlMjJBJTIwc3VydmV5JTIwb2YlMjBzb2Z0d2FyZSUyMHRlc3RpbmclMjBwcmFjdGljZXMlMjBpbiUyMENhbmFkYSUyMiUyQyUwQSUyMCUyMCUyMCUyMGRpc3BsYXklM0QlMjJnYXJvdXNpJTIyJTJDJTBBJTIwJTIwJTIwJTIwYXV0aG9ycyUzRCUyMkdhcm91c2klMkMlMjBWYWhpZCUyMGFuZCUyMFpoaSUyQyUyMEp1bmppJTIyJTJDJTBBJTIwJTIwJTIwJTIwcGxhY2UlM0RGQUtFJTJDJTBBJTIwJTIwJTIwJTIwcHAlM0QlMjIxMzU0LTEzNzYlMjIlMkMlMEElMjAlMjAlMjAlMjBlbnRyeXR5cGUlM0QlMjJhcnRpY2xlJTIyJTJDJTBBJTIwJTIwJTIwJTIwdm9sdW1lJTNEJTIyODYlMjIlMkMlMEElMjAlMjAlMjAlMjBudW1iZXIlM0QlMjI1JTIyJTJDJTBBJTIwJTIwJTIwJTIwbW9udGglM0QlMjJNQVklMjIlMkMlMEElMjAlMjAlMjAlMjBkb2klM0QlMjIxMC4xMDE2L2ouanNzLjIwMTIuMTIuMDUxJTIyJTJDJTBBJTIwJTIwJTIwJTIwaXNzbiUzRCUyMjAxNjQtMTIxMiUyMiUyQyUwQSUyMCUyMCUyMCUyMGVpc3NuJTNEJTIyMTg3My0xMjI4JTIyJTJDJTBBJTIwJTIwJTIwJTIwb3JjaWQtbnVtYmVycyUzRCUyMkdhcm91c2klMkMlMjBWYWhpZC8wMDAwLTAwMDEtNjU5MC03NTc2JTIyJTJDJTBBJTIwJTIwJTIwJTIwdW5pcXVlLWlkJTNEJTIySVNJJTNBMDAwMzE3MzIyNDAwMDE0JTIyJTJDJTBBJTIwJTIwJTIwJTIwSUQlM0QlMjJJU0klM0EwMDAzMTczMjI0MDAwMTQlMjIlMkMlMEElMjAlMjAlMjAlMjB3ZWJvZnNjaWVuY2UyMDE1JTNEJTIyMSUyMiUyQyUwQSUyMCUyMCUyMCUyMHBsYWNleCUzRCUyMkpPVVJOQUwlMjBPRiUyMFNZU1RFTVMlMjBBTkQlMjBTT0ZUV0FSRSUyMiUyQyUwQSUyOSUyOSUwQSUyNyUyNyUyNyUyOSUzQg==\")));\n",
       "    "
      ],
      "text/plain": [
       "<IPython.core.display.Javascript object>"
      ]
     },
     "metadata": {},
     "output_type": "display_data"
    },
    {
     "data": {
      "application/javascript": [
       "$('span:contains(\"# Temp\")').closest('.cell').remove();"
      ],
      "text/plain": [
       "<IPython.core.display.Javascript object>"
      ]
     },
     "metadata": {},
     "output_type": "display_data"
    },
    {
     "data": {
      "application/javascript": [
       "\n",
       "        $('span:contains(\"# Temp\")').closest('.cell').remove();\n",
       "        var code = IPython.notebook.insert_cell_below('code');\n",
       "        code.set_text(decodeURIComponent(window.atob(\"JTIzJTIwVGVtcCUwQWluc2VydCUyOCUyNyUyNyUyNyUwQWdhcm91c2kyMDEzYSUyMCUzRCUyMERCJTI4V29ya1VucmVsYXRlZCUyOCUwQSUyMCUyMCUyMCUyMDIwMTMlMkMlMjAlMjJBJTIwc3VydmV5JTIwb2YlMjBzb2Z0d2FyZSUyMHRlc3RpbmclMjBwcmFjdGljZXMlMjBpbiUyMENhbmFkYSUyMiUyQyUwQSUyMCUyMCUyMCUyMGRpc3BsYXklM0QlMjJnYXJvdXNpJTIyJTJDJTBBJTIwJTIwJTIwJTIwYXV0aG9ycyUzRCUyMkdhcm91c2klMkMlMjBWYWhpZCUyMGFuZCUyMFpoaSUyQyUyMEp1bmppJTIyJTJDJTBBJTIwJTIwJTIwJTIwcGxhY2UlM0RGQUtFJTJDJTBBJTIwJTIwJTIwJTIwcHAlM0QlMjIxMzU0LTEzNzYlMjIlMkMlMEElMjAlMjAlMjAlMjBlbnRyeXR5cGUlM0QlMjJhcnRpY2xlJTIyJTJDJTBBJTIwJTIwJTIwJTIwdm9sdW1lJTNEJTIyODYlMjIlMkMlMEElMjAlMjAlMjAlMjBudW1iZXIlM0QlMjI1JTIyJTJDJTBBJTIwJTIwJTIwJTIwbW9udGglM0QlMjJNQVklMjIlMkMlMEElMjAlMjAlMjAlMjBkb2klM0QlMjIxMC4xMDE2L2ouanNzLjIwMTIuMTIuMDUxJTIyJTJDJTBBJTIwJTIwJTIwJTIwaXNzbiUzRCUyMjAxNjQtMTIxMiUyMiUyQyUwQSUyMCUyMCUyMCUyMGVpc3NuJTNEJTIyMTg3My0xMjI4JTIyJTJDJTBBJTIwJTIwJTIwJTIwb3JjaWQtbnVtYmVycyUzRCUyMkdhcm91c2klMkMlMjBWYWhpZC8wMDAwLTAwMDEtNjU5MC03NTc2JTIyJTJDJTBBJTIwJTIwJTIwJTIwdW5pcXVlLWlkJTNEJTIySVNJJTNBMDAwMzE3MzIyNDAwMDE0JTIyJTJDJTBBJTIwJTIwJTIwJTIwSUQlM0QlMjJJU0klM0EwMDAzMTczMjI0MDAwMTQlMjIlMkMlMEElMjAlMjAlMjAlMjB3ZWJvZnNjaWVuY2UyMDE1JTNEJTIyMSUyMiUyQyUwQSUyMCUyMCUyMCUyMHBsYWNleCUzRCUyMkpPVVJOQUwlMjBPRiUyMFNZU1RFTVMlMjBBTkQlMjBTT0ZUV0FSRSUyMiUyQyUwQSUyOSUyOSUwQSUyNyUyNyUyNyUyOSUzQg==\")));\n",
       "    "
      ],
      "text/plain": [
       "<IPython.core.display.Javascript object>"
      ]
     },
     "metadata": {},
     "output_type": "display_data"
    },
    {
     "data": {
      "application/javascript": [
       "$('span:contains(\"# Temp\")').closest('.cell').remove();"
      ],
      "text/plain": [
       "<IPython.core.display.Javascript object>"
      ]
     },
     "metadata": {},
     "output_type": "display_data"
    },
    {
     "data": {
      "application/javascript": [
       "\n",
       "        $('span:contains(\"# Temp\")').closest('.cell').remove();\n",
       "        var code = IPython.notebook.insert_cell_below('code');\n",
       "        code.set_text(decodeURIComponent(window.atob(\"JTIzJTIwVGVtcCUwQWluc2VydCUyOCUyNyUyNyUyNyUwQSUyMCUyMCUyMCUyMGhvbGwyMDEyYSUyMCUzRCUyMERCJTI4V29ya1VucmVsYXRlZCUyOCUwQSUyMCUyMCUyMCUyMCUyMCUyMCUyMCUyMDIwMTIlMkMlMjAlMjJBJTIwc3lzdGVtYXRpYyUyMHJldmlldyUyMGFuZCUyMGFuJTIwZXhwZXJ0JTIwc3VydmV5JTIwb24lMjBjYXBhYmlsaXRpZXMlMjBzdXBwb3J0aW5nJTBBbXVsdGklMjBwcm9kdWN0JTIwbGluZXMlMjIlMkMlMEElMjAlMjAlMjAlMjAlMjAlMjAlMjAlMjBkaXNwbGF5JTNEJTIyaG9sbCUyMiUyQyUwQSUyMCUyMCUyMCUyMCUyMCUyMCUyMCUyMGF1dGhvcnMlM0QlMjJIb2xsJTJDJTIwR2VyYWxkJTIwYW5kJTIwR3J1ZW5iYWNoZXIlMkMlMjBQYXVsJTIwYW5kJTIwUmFiaXNlciUyQyUyMFJpY2slMjIlMkMlMEElMjAlMjAlMjAlMjAlMjAlMjAlMjAlMjBwbGFjZSUzREZBS0UlMkMlMEElMjAlMjAlMjAlMjAlMjAlMjAlMjAlMjBwcCUzRCUyMjgyOC04NTIlMjIlMkMlMEElMjAlMjAlMjAlMjAlMjAlMjAlMjAlMjBlbnRyeXR5cGUlM0QlMjJhcnRpY2xlJTIyJTJDJTBBJTIwJTIwJTIwJTIwJTIwJTIwJTIwJTIwdm9sdW1lJTNEJTIyNTQlMjIlMkMlMEElMjAlMjAlMjAlMjAlMjAlMjAlMjAlMjBudW1iZXIlM0QlMjI4JTJDJTIwU0klMjIlMkMlMEElMjAlMjAlMjAlMjAlMjAlMjAlMjAlMjBtb250aCUzRCUyMkFVRyUyMiUyQyUwQSUyMCUyMCUyMCUyMCUyMCUyMCUyMCUyMGRvaSUzRCUyMjEwLjEwMTYvai5pbmZzb2YuMjAxMi4wMi4wMDIlMjIlMkMlMEElMjAlMjAlMjAlMjAlMjAlMjAlMjAlMjBpc3NuJTNEJTIyMDk1MC01ODQ5JTIyJTJDJTBBJTIwJTIwJTIwJTIwJTIwJTIwJTIwJTIwZWlzc24lM0QlMjIxODczLTYwMjUlMjIlMkMlMEElMjAlMjAlMjAlMjAlMjAlMjAlMjAlMjByZXNlYXJjaGVyaWQtbnVtYmVycyUzRCUyMlJhYmlzZXIlMkMlMjBSaWNrL0ItODY3My0yMDE3JTBBR3J1bmJhY2hlciUyQyUyMFBhdWwvQy0yOTcwLTIwMTMlMjIlMkMlMEElMjAlMjAlMjAlMjAlMjAlMjAlMjAlMjBvcmNpZC1udW1iZXJzJTNEJTIyUmFiaXNlciUyQyUyMFJpY2svMDAwMC0wMDAzLTM4NjItMTExMiUwQUdydW5iYWNoZXIlMkMlMjBQYXVsLzAwMDAtMDAwMi0xOTUxLTUyODglMjIlMkMlMEElMjAlMjAlMjAlMjAlMjAlMjAlMjAlMjB1bmlxdWUtaWQlM0QlMjJJU0klM0EwMDAzMDU1OTkyMDAwMDQlMjIlMkMlMEElMjAlMjAlMjAlMjAlMjAlMjAlMjAlMjBJRCUzRCUyMklTSSUzQTAwMDMwNTU5OTIwMDAwNCUyMiUyQyUwQSUyMCUyMCUyMCUyMCUyMCUyMCUyMCUyMHdlYm9mc2NpZW5jZTIwMTUlM0QlMjIxJTIyJTJDJTBBJTIwJTIwJTIwJTIwJTIwJTIwJTIwJTIwcGxhY2V4JTNEJTIySU5GT1JNQVRJT04lMjBBTkQlMjBTT0ZUV0FSRSUyMFRFQ0hOT0xPR1klMjIlMkMlMEElMjAlMjAlMjAlMjAlMjklMjklMEElMjclMjclMjclMjklM0I=\")));\n",
       "    "
      ],
      "text/plain": [
       "<IPython.core.display.Javascript object>"
      ]
     },
     "metadata": {},
     "output_type": "display_data"
    },
    {
     "data": {
      "application/javascript": [
       "$('span:contains(\"# Temp\")').closest('.cell').remove();"
      ],
      "text/plain": [
       "<IPython.core.display.Javascript object>"
      ]
     },
     "metadata": {},
     "output_type": "display_data"
    },
    {
     "data": {
      "application/javascript": [
       "\n",
       "        $('span:contains(\"# Temp\")').closest('.cell').remove();\n",
       "        var code = IPython.notebook.insert_cell_below('code');\n",
       "        code.set_text(decodeURIComponent(window.atob(\"JTIzJTIwVGVtcCUwQWluc2VydCUyOCUyNyUyNyUyNyUwQSUyMCUyMCUyMCUyMGhvbGwyMDEyYSUyMCUzRCUyMERCJTI4V29ya1VucmVsYXRlZCUyOCUwQSUyMCUyMCUyMCUyMCUyMCUyMCUyMCUyMDIwMTIlMkMlMjAlMjJBJTIwc3lzdGVtYXRpYyUyMHJldmlldyUyMGFuZCUyMGFuJTIwZXhwZXJ0JTIwc3VydmV5JTIwb24lMjBjYXBhYmlsaXRpZXMlMjBzdXBwb3J0aW5nJTBBbXVsdGklMjBwcm9kdWN0JTIwbGluZXMlMjIlMkMlMEElMjAlMjAlMjAlMjAlMjAlMjAlMjAlMjBkaXNwbGF5JTNEJTIyaG9sbCUyMiUyQyUwQSUyMCUyMCUyMCUyMCUyMCUyMCUyMCUyMGF1dGhvcnMlM0QlMjJIb2xsJTJDJTIwR2VyYWxkJTIwYW5kJTIwR3J1ZW5iYWNoZXIlMkMlMjBQYXVsJTIwYW5kJTIwUmFiaXNlciUyQyUyMFJpY2slMjIlMkMlMEElMjAlMjAlMjAlMjAlMjAlMjAlMjAlMjBwbGFjZSUzREZBS0UlMkMlMEElMjAlMjAlMjAlMjAlMjAlMjAlMjAlMjBwcCUzRCUyMjgyOC04NTIlMjIlMkMlMEElMjAlMjAlMjAlMjAlMjAlMjAlMjAlMjBlbnRyeXR5cGUlM0QlMjJhcnRpY2xlJTIyJTJDJTBBJTIwJTIwJTIwJTIwJTIwJTIwJTIwJTIwdm9sdW1lJTNEJTIyNTQlMjIlMkMlMEElMjAlMjAlMjAlMjAlMjAlMjAlMjAlMjBudW1iZXIlM0QlMjI4JTJDJTIwU0klMjIlMkMlMEElMjAlMjAlMjAlMjAlMjAlMjAlMjAlMjBtb250aCUzRCUyMkFVRyUyMiUyQyUwQSUyMCUyMCUyMCUyMCUyMCUyMCUyMCUyMGRvaSUzRCUyMjEwLjEwMTYvai5pbmZzb2YuMjAxMi4wMi4wMDIlMjIlMkMlMEElMjAlMjAlMjAlMjAlMjAlMjAlMjAlMjBpc3NuJTNEJTIyMDk1MC01ODQ5JTIyJTJDJTBBJTIwJTIwJTIwJTIwJTIwJTIwJTIwJTIwZWlzc24lM0QlMjIxODczLTYwMjUlMjIlMkMlMEElMjAlMjAlMjAlMjAlMjAlMjAlMjAlMjByZXNlYXJjaGVyaWQtbnVtYmVycyUzRCUyMlJhYmlzZXIlMkMlMjBSaWNrL0ItODY3My0yMDE3JTBBR3J1bmJhY2hlciUyQyUyMFBhdWwvQy0yOTcwLTIwMTMlMjIlMkMlMEElMjAlMjAlMjAlMjAlMjAlMjAlMjAlMjBvcmNpZC1udW1iZXJzJTNEJTIyUmFiaXNlciUyQyUyMFJpY2svMDAwMC0wMDAzLTM4NjItMTExMiUwQUdydW5iYWNoZXIlMkMlMjBQYXVsLzAwMDAtMDAwMi0xOTUxLTUyODglMjIlMkMlMEElMjAlMjAlMjAlMjAlMjAlMjAlMjAlMjB1bmlxdWUtaWQlM0QlMjJJU0klM0EwMDAzMDU1OTkyMDAwMDQlMjIlMkMlMEElMjAlMjAlMjAlMjAlMjAlMjAlMjAlMjBJRCUzRCUyMklTSSUzQTAwMDMwNTU5OTIwMDAwNCUyMiUyQyUwQSUyMCUyMCUyMCUyMCUyMCUyMCUyMCUyMHdlYm9mc2NpZW5jZTIwMTUlM0QlMjIxJTIyJTJDJTBBJTIwJTIwJTIwJTIwJTIwJTIwJTIwJTIwcGxhY2V4JTNEJTIySU5GT1JNQVRJT04lMjBBTkQlMjBTT0ZUV0FSRSUyMFRFQ0hOT0xPR1klMjIlMkMlMEElMjAlMjAlMjAlMjAlMjklMjklMEElMjclMjclMjclMjklM0I=\")));\n",
       "    "
      ],
      "text/plain": [
       "<IPython.core.display.Javascript object>"
      ]
     },
     "metadata": {},
     "output_type": "display_data"
    },
    {
     "data": {
      "application/javascript": [
       "$('span:contains(\"# Temp\")').closest('.cell').remove();"
      ],
      "text/plain": [
       "<IPython.core.display.Javascript object>"
      ]
     },
     "metadata": {},
     "output_type": "display_data"
    },
    {
     "data": {
      "application/javascript": [
       "\n",
       "        $('span:contains(\"# Temp\")').closest('.cell').remove();\n",
       "        var code = IPython.notebook.insert_cell_below('code');\n",
       "        code.set_text(decodeURIComponent(window.atob(\"JTIzJTIwVGVtcCUwQWluc2VydCUyOCUyNyUyNyUyNyUwQWtodXJ1bTIwMDlhJTIwJTNEJTIwREIlMjhXb3JrVW5yZWxhdGVkJTI4JTBBJTIwJTIwJTIwJTIwMjAwOSUyQyUyMCUyMkElMjBzeXN0ZW1hdGljJTIwcmV2aWV3JTIwb2YlMjBkb21haW4lMjBhbmFseXNpcyUyMHNvbHV0aW9ucyUyMGZvciUyMHByb2R1Y3QlMjBsaW5lcyUyMiUyQyUwQSUyMCUyMCUyMCUyMGRpc3BsYXklM0QlMjJraHVydW0lMjIlMkMlMEElMjAlMjAlMjAlMjBhdXRob3JzJTNEJTIyS2h1cnVtJTJDJTIwTWFodmlzaCUyMGFuZCUyMEdvcnNjaGVrJTJDJTIwVG9ueSUyMiUyQyUwQSUyMCUyMCUyMCUyMHBsYWNlJTNERkFLRSUyQyUwQSUyMCUyMCUyMCUyMHBwJTNEJTIyMTk4Mi0yMDAzJTIyJTJDJTBBJTIwJTIwJTIwJTIwZW50cnl0eXBlJTNEJTIyYXJ0aWNsZSUyMiUyQyUwQSUyMCUyMCUyMCUyMHZvbHVtZSUzRCUyMjgyJTIyJTJDJTBBJTIwJTIwJTIwJTIwbnVtYmVyJTNEJTIyMTIlMjIlMkMlMEElMjAlMjAlMjAlMjBtb250aCUzRCUyMkRFQyUyMiUyQyUwQSUyMCUyMCUyMCUyMGRvaSUzRCUyMjEwLjEwMTYvai5qc3MuMjAwOS4wNi4wNDglMjIlMkMlMEElMjAlMjAlMjAlMjBpc3NuJTNEJTIyMDE2NC0xMjEyJTIyJTJDJTBBJTIwJTIwJTIwJTIwcmVzZWFyY2hlcmlkLW51bWJlcnMlM0QlMjJHb3JzY2hlayUyQyUyMFRvbnkvRS0zNDQ1LTIwMTMlMjIlMkMlMEElMjAlMjAlMjAlMjB1bmlxdWUtaWQlM0QlMjJJU0klM0EwMDAyNzIwNjEwMDAwMDYlMjIlMkMlMEElMjAlMjAlMjAlMjBJRCUzRCUyMklTSSUzQTAwMDI3MjA2MTAwMDAwNiUyMiUyQyUwQSUyMCUyMCUyMCUyMHdlYm9mc2NpZW5jZTIwMTUlM0QlMjIxJTIyJTJDJTBBJTIwJTIwJTIwJTIwcGxhY2V4JTNEJTIySk9VUk5BTCUyME9GJTIwU1lTVEVNUyUyMEFORCUyMFNPRlRXQVJFJTIyJTJDJTBBJTI5JTI5JTBBJTI3JTI3JTI3JTI5JTNC\")));\n",
       "    "
      ],
      "text/plain": [
       "<IPython.core.display.Javascript object>"
      ]
     },
     "metadata": {},
     "output_type": "display_data"
    },
    {
     "data": {
      "application/javascript": [
       "$('span:contains(\"# Temp\")').closest('.cell').remove();"
      ],
      "text/plain": [
       "<IPython.core.display.Javascript object>"
      ]
     },
     "metadata": {},
     "output_type": "display_data"
    },
    {
     "data": {
      "application/javascript": [
       "\n",
       "        $('span:contains(\"# Temp\")').closest('.cell').remove();\n",
       "        var code = IPython.notebook.insert_cell_below('code');\n",
       "        code.set_text(decodeURIComponent(window.atob(\"JTIzJTIwVGVtcCUwQWluc2VydCUyOCUyNyUyNyUyNyUwQWtodXJ1bTIwMDlhJTIwJTNEJTIwREIlMjhXb3JrVW5yZWxhdGVkJTI4JTBBJTIwJTIwJTIwJTIwMjAwOSUyQyUyMCUyMkElMjBzeXN0ZW1hdGljJTIwcmV2aWV3JTIwb2YlMjBkb21haW4lMjBhbmFseXNpcyUyMHNvbHV0aW9ucyUyMGZvciUyMHByb2R1Y3QlMjBsaW5lcyUyMiUyQyUwQSUyMCUyMCUyMCUyMGRpc3BsYXklM0QlMjJraHVydW0lMjIlMkMlMEElMjAlMjAlMjAlMjBhdXRob3JzJTNEJTIyS2h1cnVtJTJDJTIwTWFodmlzaCUyMGFuZCUyMEdvcnNjaGVrJTJDJTIwVG9ueSUyMiUyQyUwQSUyMCUyMCUyMCUyMHBsYWNlJTNERkFLRSUyQyUwQSUyMCUyMCUyMCUyMHBwJTNEJTIyMTk4Mi0yMDAzJTIyJTJDJTBBJTIwJTIwJTIwJTIwZW50cnl0eXBlJTNEJTIyYXJ0aWNsZSUyMiUyQyUwQSUyMCUyMCUyMCUyMHZvbHVtZSUzRCUyMjgyJTIyJTJDJTBBJTIwJTIwJTIwJTIwbnVtYmVyJTNEJTIyMTIlMjIlMkMlMEElMjAlMjAlMjAlMjBtb250aCUzRCUyMkRFQyUyMiUyQyUwQSUyMCUyMCUyMCUyMGRvaSUzRCUyMjEwLjEwMTYvai5qc3MuMjAwOS4wNi4wNDglMjIlMkMlMEElMjAlMjAlMjAlMjBpc3NuJTNEJTIyMDE2NC0xMjEyJTIyJTJDJTBBJTIwJTIwJTIwJTIwcmVzZWFyY2hlcmlkLW51bWJlcnMlM0QlMjJHb3JzY2hlayUyQyUyMFRvbnkvRS0zNDQ1LTIwMTMlMjIlMkMlMEElMjAlMjAlMjAlMjB1bmlxdWUtaWQlM0QlMjJJU0klM0EwMDAyNzIwNjEwMDAwMDYlMjIlMkMlMEElMjAlMjAlMjAlMjBJRCUzRCUyMklTSSUzQTAwMDI3MjA2MTAwMDAwNiUyMiUyQyUwQSUyMCUyMCUyMCUyMHdlYm9mc2NpZW5jZTIwMTUlM0QlMjIxJTIyJTJDJTBBJTIwJTIwJTIwJTIwcGxhY2V4JTNEJTIySk9VUk5BTCUyME9GJTIwU1lTVEVNUyUyMEFORCUyMFNPRlRXQVJFJTIyJTJDJTBBJTI5JTI5JTBBJTI3JTI3JTI3JTI5JTNC\")));\n",
       "    "
      ],
      "text/plain": [
       "<IPython.core.display.Javascript object>"
      ]
     },
     "metadata": {},
     "output_type": "display_data"
    },
    {
     "data": {
      "application/javascript": [
       "$('span:contains(\"# Temp\")').closest('.cell').remove();"
      ],
      "text/plain": [
       "<IPython.core.display.Javascript object>"
      ]
     },
     "metadata": {},
     "output_type": "display_data"
    },
    {
     "data": {
      "application/javascript": [
       "\n",
       "        $('span:contains(\"# Temp\")').closest('.cell').remove();\n",
       "        var code = IPython.notebook.insert_cell_below('code');\n",
       "        code.set_text(decodeURIComponent(window.atob(\"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\")));\n",
       "    "
      ],
      "text/plain": [
       "<IPython.core.display.Javascript object>"
      ]
     },
     "metadata": {},
     "output_type": "display_data"
    },
    {
     "data": {
      "application/javascript": [
       "$('span:contains(\"# Temp\")').closest('.cell').remove();"
      ],
      "text/plain": [
       "<IPython.core.display.Javascript object>"
      ]
     },
     "metadata": {},
     "output_type": "display_data"
    },
    {
     "data": {
      "application/javascript": [
       "\n",
       "        $('span:contains(\"# Temp\")').closest('.cell').remove();\n",
       "        var code = IPython.notebook.insert_cell_below('code');\n",
       "        code.set_text(decodeURIComponent(window.atob(\"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\")));\n",
       "    "
      ],
      "text/plain": [
       "<IPython.core.display.Javascript object>"
      ]
     },
     "metadata": {},
     "output_type": "display_data"
    },
    {
     "data": {
      "application/javascript": [
       "$('span:contains(\"# Temp\")').closest('.cell').remove();"
      ],
      "text/plain": [
       "<IPython.core.display.Javascript object>"
      ]
     },
     "metadata": {},
     "output_type": "display_data"
    },
    {
     "data": {
      "application/javascript": [
       "\n",
       "        $('span:contains(\"# Temp\")').closest('.cell').remove();\n",
       "        var code = IPython.notebook.insert_cell_below('code');\n",
       "        code.set_text(decodeURIComponent(window.atob(\"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\")));\n",
       "    "
      ],
      "text/plain": [
       "<IPython.core.display.Javascript object>"
      ]
     },
     "metadata": {},
     "output_type": "display_data"
    },
    {
     "data": {
      "application/javascript": [
       "$('span:contains(\"# Temp\")').closest('.cell').remove();"
      ],
      "text/plain": [
       "<IPython.core.display.Javascript object>"
      ]
     },
     "metadata": {},
     "output_type": "display_data"
    },
    {
     "data": {
      "application/javascript": [
       "\n",
       "        $('span:contains(\"# Temp\")').closest('.cell').remove();\n",
       "        var code = IPython.notebook.insert_cell_below('code');\n",
       "        code.set_text(decodeURIComponent(window.atob(\"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\")));\n",
       "    "
      ],
      "text/plain": [
       "<IPython.core.display.Javascript object>"
      ]
     },
     "metadata": {},
     "output_type": "display_data"
    },
    {
     "data": {
      "application/javascript": [
       "$('span:contains(\"# Temp\")').closest('.cell').remove();"
      ],
      "text/plain": [
       "<IPython.core.display.Javascript object>"
      ]
     },
     "metadata": {},
     "output_type": "display_data"
    },
    {
     "data": {
      "application/javascript": [
       "\n",
       "        $('span:contains(\"# Temp\")').closest('.cell').remove();\n",
       "        var code = IPython.notebook.insert_cell_below('code');\n",
       "        code.set_text(decodeURIComponent(window.atob(\"JTIzJTIwVGVtcCUwQWluc2VydCUyOCUyNyUyNyUyNyUwQXZhdnBvdGljMjAwOWElMjAlM0QlMjBEQiUyOFdvcmtVbnJlbGF0ZWQlMjglMEElMjAlMjAlMjAlMjAyMDA5JTJDJTIwJTIyQW4lMjBhcHByb2FjaCUyMGZvciUyMGNvbmN1cnJlbnQlMjBldmFsdWF0aW9uJTIwb2YlMjB0ZWNobmljYWwlMjBhbmQlMjBzb2NpYWwlMjBhc3BlY3RzJTIwb2YlMjAlMjBzb2Z0d2FyZSUyMGRldmVsb3BtZW50JTIwbWV0aG9kb2xvZ2llcyUyMiUyQyUwQSUyMCUyMCUyMCUyMGRpc3BsYXklM0QlMjJ2YXZwb3RpYyUyMiUyQyUwQSUyMCUyMCUyMCUyMGF1dGhvcnMlM0QlMjJWYXZwb3RpYyUyQyUyMERhbWphbiUyMGFuZCUyMEJhamVjJTJDJTIwTWFya28lMjIlMkMlMEElMjAlMjAlMjAlMjBwbGFjZSUzREZBS0UlMkMlMEElMjAlMjAlMjAlMjBwcCUzRCUyMjUyOC01NDUlMjIlMkMlMEElMjAlMjAlMjAlMjBlbnRyeXR5cGUlM0QlMjJhcnRpY2xlJTIyJTJDJTBBJTIwJTIwJTIwJTIwdm9sdW1lJTNEJTIyNTElMjIlMkMlMEElMjAlMjAlMjAlMjBudW1iZXIlM0QlMjIyJTIyJTJDJTBBJTIwJTIwJTIwJTIwbW9udGglM0QlMjJGRUIlMjIlMkMlMEElMjAlMjAlMjAlMjBkb2klM0QlMjIxMC4xMDE2L2ouaW5mc29mLjIwMDguMDYuMDAxJTIyJTJDJTBBJTIwJTIwJTIwJTIwaXNzbiUzRCUyMjA5NTAtNTg0OSUyMiUyQyUwQSUyMCUyMCUyMCUyMHJlc2VhcmNoZXJpZC1udW1iZXJzJTNEJTIyVmF2cG90aWMlMkMlMjBEYW1qYW4vRy0zNTI3LTIwMTAlMjIlMkMlMEElMjAlMjAlMjAlMjB1bmlxdWUtaWQlM0QlMjJJU0klM0EwMDAyNjE5MTk5MDAwMjElMjIlMkMlMEElMjAlMjAlMjAlMjBJRCUzRCUyMklTSSUzQTAwMDI2MTkxOTkwMDAyMSUyMiUyQyUwQSUyMCUyMCUyMCUyMHdlYm9mc2NpZW5jZTIwMTUlM0QlMjIxJTIyJTJDJTBBJTIwJTIwJTIwJTIwcGxhY2V4JTNEJTIySU5GT1JNQVRJT04lMjBBTkQlMjBTT0ZUV0FSRSUyMFRFQ0hOT0xPR1klMjIlMkMlMEElMjklMjklMEElMjclMjclMjclMjklM0I=\")));\n",
       "    "
      ],
      "text/plain": [
       "<IPython.core.display.Javascript object>"
      ]
     },
     "metadata": {},
     "output_type": "display_data"
    },
    {
     "data": {
      "application/javascript": [
       "$('span:contains(\"# Temp\")').closest('.cell').remove();"
      ],
      "text/plain": [
       "<IPython.core.display.Javascript object>"
      ]
     },
     "metadata": {},
     "output_type": "display_data"
    },
    {
     "data": {
      "application/javascript": [
       "\n",
       "        $('span:contains(\"# Temp\")').closest('.cell').remove();\n",
       "        var code = IPython.notebook.insert_cell_below('code');\n",
       "        code.set_text(decodeURIComponent(window.atob(\"JTIzJTIwVGVtcCUwQWluc2VydCUyOCUyNyUyNyUyNyUwQXZhdnBvdGljMjAwOWElMjAlM0QlMjBEQiUyOFdvcmtVbnJlbGF0ZWQlMjglMEElMjAlMjAlMjAlMjAyMDA5JTJDJTIwJTIyQW4lMjBhcHByb2FjaCUyMGZvciUyMGNvbmN1cnJlbnQlMjBldmFsdWF0aW9uJTIwb2YlMjB0ZWNobmljYWwlMjBhbmQlMjBzb2NpYWwlMjBhc3BlY3RzJTIwb2YlMjAlMjBzb2Z0d2FyZSUyMGRldmVsb3BtZW50JTIwbWV0aG9kb2xvZ2llcyUyMiUyQyUwQSUyMCUyMCUyMCUyMGRpc3BsYXklM0QlMjJ2YXZwb3RpYyUyMiUyQyUwQSUyMCUyMCUyMCUyMGF1dGhvcnMlM0QlMjJWYXZwb3RpYyUyQyUyMERhbWphbiUyMGFuZCUyMEJhamVjJTJDJTIwTWFya28lMjIlMkMlMEElMjAlMjAlMjAlMjBwbGFjZSUzREZBS0UlMkMlMEElMjAlMjAlMjAlMjBwcCUzRCUyMjUyOC01NDUlMjIlMkMlMEElMjAlMjAlMjAlMjBlbnRyeXR5cGUlM0QlMjJhcnRpY2xlJTIyJTJDJTBBJTIwJTIwJTIwJTIwdm9sdW1lJTNEJTIyNTElMjIlMkMlMEElMjAlMjAlMjAlMjBudW1iZXIlM0QlMjIyJTIyJTJDJTBBJTIwJTIwJTIwJTIwbW9udGglM0QlMjJGRUIlMjIlMkMlMEElMjAlMjAlMjAlMjBkb2klM0QlMjIxMC4xMDE2L2ouaW5mc29mLjIwMDguMDYuMDAxJTIyJTJDJTBBJTIwJTIwJTIwJTIwaXNzbiUzRCUyMjA5NTAtNTg0OSUyMiUyQyUwQSUyMCUyMCUyMCUyMHJlc2VhcmNoZXJpZC1udW1iZXJzJTNEJTIyVmF2cG90aWMlMkMlMjBEYW1qYW4vRy0zNTI3LTIwMTAlMjIlMkMlMEElMjAlMjAlMjAlMjB1bmlxdWUtaWQlM0QlMjJJU0klM0EwMDAyNjE5MTk5MDAwMjElMjIlMkMlMEElMjAlMjAlMjAlMjBJRCUzRCUyMklTSSUzQTAwMDI2MTkxOTkwMDAyMSUyMiUyQyUwQSUyMCUyMCUyMCUyMHdlYm9mc2NpZW5jZTIwMTUlM0QlMjIxJTIyJTJDJTBBJTIwJTIwJTIwJTIwcGxhY2V4JTNEJTIySU5GT1JNQVRJT04lMjBBTkQlMjBTT0ZUV0FSRSUyMFRFQ0hOT0xPR1klMjIlMkMlMEElMjklMjklMEElMjclMjclMjclMjklM0I=\")));\n",
       "    "
      ],
      "text/plain": [
       "<IPython.core.display.Javascript object>"
      ]
     },
     "metadata": {},
     "output_type": "display_data"
    },
    {
     "data": {
      "application/javascript": [
       "$('span:contains(\"# Temp\")').closest('.cell').remove();"
      ],
      "text/plain": [
       "<IPython.core.display.Javascript object>"
      ]
     },
     "metadata": {},
     "output_type": "display_data"
    },
    {
     "data": {
      "application/javascript": [
       "\n",
       "        $('span:contains(\"# Temp\")').closest('.cell').remove();\n",
       "        var code = IPython.notebook.insert_cell_below('code');\n",
       "        code.set_text(decodeURIComponent(window.atob(\"JTIzJTIwVGVtcCUwQWluc2VydCUyOCUyNyUyNyUyNyUwQSUyMCUyMCUyMCUyMHN0YXBsZXMyMDA3YSUyMCUzRCUyMERCJTI4V29ya1VucmVsYXRlZCUyOCUwQSUyMCUyMCUyMCUyMCUyMCUyMCUyMCUyMDIwMDclMkMlMjAlMjJBbiUyMGV4cGxvcmF0b3J5JTIwc3R1ZHklMjBvZiUyMHdoeSUyMG9yZ2FuaXphdGlvbnMlMjBkbyUyMG5vdCUyMGFkb3B0JTIwQ01NSSUyMiUyQyUwQSUyMCUyMCUyMCUyMCUyMCUyMCUyMCUyMGRpc3BsYXklM0QlMjJzdGFwbGVzJTIyJTJDJTBBJTIwJTIwJTIwJTIwJTIwJTIwJTIwJTIwYXV0aG9ycyUzRCUyMlN0YXBsZXMlMkMlMjBNYXJrJTIwYW5kJTIwTmlhemklMkMlMjBNYWhtb29kJTIwYW5kJTIwSmVmZmVyeSUyQyUyMFJvc3MlMjBhbmQlMjBBYnJhaGFtcyUyQyUyMEFsYW4lMEFhbmQlMjBCeWF0dCUyQyUyMFBhdWwlMjBhbmQlMjBNdXJwaHklMkMlMjBSdXNzZWxsJTIyJTJDJTBBJTIwJTIwJTIwJTIwJTIwJTIwJTIwJTIwcGxhY2UlM0RGQUtFJTJDJTBBJTIwJTIwJTIwJTIwJTIwJTIwJTIwJTIwcHAlM0QlMjI4ODMtODk1JTIyJTJDJTBBJTIwJTIwJTIwJTIwJTIwJTIwJTIwJTIwZW50cnl0eXBlJTNEJTIyYXJ0aWNsZSUyMiUyQyUwQSUyMCUyMCUyMCUyMCUyMCUyMCUyMCUyMHZvbHVtZSUzRCUyMjgwJTIyJTJDJTBBJTIwJTIwJTIwJTIwJTIwJTIwJTIwJTIwbnVtYmVyJTNEJTIyNiUyMiUyQyUwQSUyMCUyMCUyMCUyMCUyMCUyMCUyMCUyMG1vbnRoJTNEJTIySlVOJTIyJTJDJTBBJTIwJTIwJTIwJTIwJTIwJTIwJTIwJTIwZG9pJTNEJTIyMTAuMTAxNi9qLmpzcy4yMDA2LjA5LjAwOCUyMiUyQyUwQSUyMCUyMCUyMCUyMCUyMCUyMCUyMCUyMGlzc24lM0QlMjIwMTY0LTEyMTIlMjIlMkMlMEElMjAlMjAlMjAlMjAlMjAlMjAlMjAlMjByZXNlYXJjaGVyaWQtbnVtYmVycyUzRCUyMk5pYXppJTJDJTIwTWFobW9vZC9DLTg4NzMtMjAxNSUyMiUyQyUwQSUyMCUyMCUyMCUyMCUyMCUyMCUyMCUyMG9yY2lkLW51bWJlcnMlM0QlMjJOaWF6aSUyQyUyME1haG1vb2QvMDAwMC0wMDAxLTczMTgtNzY0NCUyMiUyQyUwQSUyMCUyMCUyMCUyMCUyMCUyMCUyMCUyMHVuaXF1ZS1pZCUzRCUyMklTSSUzQTAwMDI0NzIyOTYwMDAwNyUyMiUyQyUwQSUyMCUyMCUyMCUyMCUyMCUyMCUyMCUyMElEJTNEJTIySVNJJTNBMDAwMjQ3MjI5NjAwMDA3JTIyJTJDJTBBJTIwJTIwJTIwJTIwJTIwJTIwJTIwJTIwd2Vib2ZzY2llbmNlMjAxNSUzRCUyMjElMjIlMkMlMEElMjAlMjAlMjAlMjAlMjAlMjAlMjAlMjBwbGFjZXglM0QlMjJKT1VSTkFMJTIwT0YlMjBTWVNURU1TJTIwQU5EJTIwU09GVFdBUkUlMjIlMkMlMEElMjAlMjAlMjAlMjAlMjklMjklMEElMjclMjclMjclMjklM0I=\")));\n",
       "    "
      ],
      "text/plain": [
       "<IPython.core.display.Javascript object>"
      ]
     },
     "metadata": {},
     "output_type": "display_data"
    },
    {
     "data": {
      "application/javascript": [
       "$('span:contains(\"# Temp\")').closest('.cell').remove();"
      ],
      "text/plain": [
       "<IPython.core.display.Javascript object>"
      ]
     },
     "metadata": {},
     "output_type": "display_data"
    },
    {
     "data": {
      "application/javascript": [
       "\n",
       "        $('span:contains(\"# Temp\")').closest('.cell').remove();\n",
       "        var code = IPython.notebook.insert_cell_below('code');\n",
       "        code.set_text(decodeURIComponent(window.atob(\"JTIzJTIwVGVtcCUwQWluc2VydCUyOCUyNyUyNyUyNyUwQSUyMCUyMCUyMCUyMHN0YXBsZXMyMDA3YSUyMCUzRCUyMERCJTI4V29ya1VucmVsYXRlZCUyOCUwQSUyMCUyMCUyMCUyMCUyMCUyMCUyMCUyMDIwMDclMkMlMjAlMjJBbiUyMGV4cGxvcmF0b3J5JTIwc3R1ZHklMjBvZiUyMHdoeSUyMG9yZ2FuaXphdGlvbnMlMjBkbyUyMG5vdCUyMGFkb3B0JTIwQ01NSSUyMiUyQyUwQSUyMCUyMCUyMCUyMCUyMCUyMCUyMCUyMGRpc3BsYXklM0QlMjJzdGFwbGVzJTIyJTJDJTBBJTIwJTIwJTIwJTIwJTIwJTIwJTIwJTIwYXV0aG9ycyUzRCUyMlN0YXBsZXMlMkMlMjBNYXJrJTIwYW5kJTIwTmlhemklMkMlMjBNYWhtb29kJTIwYW5kJTIwSmVmZmVyeSUyQyUyMFJvc3MlMjBhbmQlMjBBYnJhaGFtcyUyQyUyMEFsYW4lMEFhbmQlMjBCeWF0dCUyQyUyMFBhdWwlMjBhbmQlMjBNdXJwaHklMkMlMjBSdXNzZWxsJTIyJTJDJTBBJTIwJTIwJTIwJTIwJTIwJTIwJTIwJTIwcGxhY2UlM0RGQUtFJTJDJTBBJTIwJTIwJTIwJTIwJTIwJTIwJTIwJTIwcHAlM0QlMjI4ODMtODk1JTIyJTJDJTBBJTIwJTIwJTIwJTIwJTIwJTIwJTIwJTIwZW50cnl0eXBlJTNEJTIyYXJ0aWNsZSUyMiUyQyUwQSUyMCUyMCUyMCUyMCUyMCUyMCUyMCUyMHZvbHVtZSUzRCUyMjgwJTIyJTJDJTBBJTIwJTIwJTIwJTIwJTIwJTIwJTIwJTIwbnVtYmVyJTNEJTIyNiUyMiUyQyUwQSUyMCUyMCUyMCUyMCUyMCUyMCUyMCUyMG1vbnRoJTNEJTIySlVOJTIyJTJDJTBBJTIwJTIwJTIwJTIwJTIwJTIwJTIwJTIwZG9pJTNEJTIyMTAuMTAxNi9qLmpzcy4yMDA2LjA5LjAwOCUyMiUyQyUwQSUyMCUyMCUyMCUyMCUyMCUyMCUyMCUyMGlzc24lM0QlMjIwMTY0LTEyMTIlMjIlMkMlMEElMjAlMjAlMjAlMjAlMjAlMjAlMjAlMjByZXNlYXJjaGVyaWQtbnVtYmVycyUzRCUyMk5pYXppJTJDJTIwTWFobW9vZC9DLTg4NzMtMjAxNSUyMiUyQyUwQSUyMCUyMCUyMCUyMCUyMCUyMCUyMCUyMG9yY2lkLW51bWJlcnMlM0QlMjJOaWF6aSUyQyUyME1haG1vb2QvMDAwMC0wMDAxLTczMTgtNzY0NCUyMiUyQyUwQSUyMCUyMCUyMCUyMCUyMCUyMCUyMCUyMHVuaXF1ZS1pZCUzRCUyMklTSSUzQTAwMDI0NzIyOTYwMDAwNyUyMiUyQyUwQSUyMCUyMCUyMCUyMCUyMCUyMCUyMCUyMElEJTNEJTIySVNJJTNBMDAwMjQ3MjI5NjAwMDA3JTIyJTJDJTBBJTIwJTIwJTIwJTIwJTIwJTIwJTIwJTIwd2Vib2ZzY2llbmNlMjAxNSUzRCUyMjElMjIlMkMlMEElMjAlMjAlMjAlMjAlMjAlMjAlMjAlMjBwbGFjZXglM0QlMjJKT1VSTkFMJTIwT0YlMjBTWVNURU1TJTIwQU5EJTIwU09GVFdBUkUlMjIlMkMlMEElMjAlMjAlMjAlMjAlMjklMjklMEElMjclMjclMjclMjklM0I=\")));\n",
       "    "
      ],
      "text/plain": [
       "<IPython.core.display.Javascript object>"
      ]
     },
     "metadata": {},
     "output_type": "display_data"
    },
    {
     "data": {
      "application/javascript": [
       "$('span:contains(\"# Temp\")').closest('.cell').remove();"
      ],
      "text/plain": [
       "<IPython.core.display.Javascript object>"
      ]
     },
     "metadata": {},
     "output_type": "display_data"
    },
    {
     "data": {
      "application/javascript": [
       "\n",
       "        $('span:contains(\"# Temp\")').closest('.cell').remove();\n",
       "        var code = IPython.notebook.insert_cell_below('code');\n",
       "        code.set_text(decodeURIComponent(window.atob(\"JTIzJTIwVGVtcCUwQWluc2VydCUyOCUyNyUyNyUyNyUwQSUyMCUyMCUyMCUyMGNhcnJpbmd0b24yMDA1YSUyMCUzRCUyMERCJTI4V29ya1VucmVsYXRlZCUyOCUwQSUyMCUyMCUyMCUyMCUyMCUyMCUyMCUyMDIwMDUlMkMlMjAlMjJBbiUyMGluZHVzdHJ5L3VuaXZlcnNpdHklMjBjb2xsYWJvcmF0aW9uJTIwdG8lMjB1cGdyYWRlJTIwc29mdHdhcmUlMjBlbmdpbmVlcmluZyUwQWtub3dsZWRnZSUyMGFuZCUyMHNraWxscyUyMGluJTIwaW5kdXN0cnklMjIlMkMlMEElMjAlMjAlMjAlMjAlMjAlMjAlMjAlMjBkaXNwbGF5JTNEJTIyY2FycmluZ3RvbiUyMiUyQyUwQSUyMCUyMCUyMCUyMCUyMCUyMCUyMCUyMGF1dGhvcnMlM0QlMjJDYXJyaW5ndG9uJTJDJTIwRCUyMGFuZCUyMFN0cm9vcGVyJTJDJTIwUCUyMGFuZCUyME5ld2J5JTJDJTIwUyUyMGFuZCUyMFN0ZXZlbnNvbiUyQyUyMFQlMjIlMkMlMEElMjAlMjAlMjAlMjAlMjAlMjAlMjAlMjBwbGFjZSUzREZBS0UlMkMlMEElMjAlMjAlMjAlMjAlMjAlMjAlMjAlMjBwcCUzRCUyMjI5LTM5JTIyJTJDJTBBJTIwJTIwJTIwJTIwJTIwJTIwJTIwJTIwZW50cnl0eXBlJTNEJTIyYXJ0aWNsZSUyMiUyQyUwQSUyMCUyMCUyMCUyMCUyMCUyMCUyMCUyMHZvbHVtZSUzRCUyMjc1JTIyJTJDJTBBJTIwJTIwJTIwJTIwJTIwJTIwJTIwJTIwbnVtYmVyJTNEJTIyMS0yJTIyJTJDJTBBJTIwJTIwJTIwJTIwJTIwJTIwJTIwJTIwbW9udGglM0QlMjJGRUIlMjAxNSUyMiUyQyUwQSUyMCUyMCUyMCUyMCUyMCUyMCUyMCUyMG5vdGUlM0QlMjJJbnRlcm5hdGlvbmFsJTIwQ29uZmVyZW5jZSUyMG9uJTIwU29mdHdhcmUlMjBFbmdpbmVlcmluZyUyMGFuZCUyMFRyYWluaW5nJTJDJTIwTWFkcmlkJTJDJTIwU1BBSU4lMkMlMjAyMDAzJTIyJTJDJTBBJTIwJTIwJTIwJTIwJTIwJTIwJTIwJTIwZG9pJTNEJTIyMTAuMTAxNi9qLmpzcy4yMDA0LjAyLjAyMCUyMiUyQyUwQSUyMCUyMCUyMCUyMCUyMCUyMCUyMCUyMGlzc24lM0QlMjIwMTY0LTEyMTIlMjIlMkMlMEElMjAlMjAlMjAlMjAlMjAlMjAlMjAlMjBlaXNzbiUzRCUyMjE4NzMtMTIyOCUyMiUyQyUwQSUyMCUyMCUyMCUyMCUyMCUyMCUyMCUyMG9yY2lkLW51bWJlcnMlM0QlMjJTdHJvb3BlciUyQyUyMFBhdWwvMDAwMC0wMDAzLTQ3ODktMjg5NyUyMiUyQyUwQSUyMCUyMCUyMCUyMCUyMCUyMCUyMCUyMHVuaXF1ZS1pZCUzRCUyMklTSSUzQTAwMDIyNTY2ODAwMDAwNCUyMiUyQyUwQSUyMCUyMCUyMCUyMCUyMCUyMCUyMCUyMElEJTNEJTIySVNJJTNBMDAwMjI1NjY4MDAwMDA0JTIyJTJDJTBBJTIwJTIwJTIwJTIwJTIwJTIwJTIwJTIwd2Vib2ZzY2llbmNlMjAxNSUzRCUyMjElMjIlMkMlMEElMjAlMjAlMjAlMjAlMjAlMjAlMjAlMjBwbGFjZXglM0QlMjJKT1VSTkFMJTIwT0YlMjBTWVNURU1TJTIwQU5EJTIwU09GVFdBUkUlMjIlMkMlMEElMjAlMjAlMjAlMjAlMjklMjklMEElMjclMjclMjclMjklM0I=\")));\n",
       "    "
      ],
      "text/plain": [
       "<IPython.core.display.Javascript object>"
      ]
     },
     "metadata": {},
     "output_type": "display_data"
    },
    {
     "data": {
      "application/javascript": [
       "$('span:contains(\"# Temp\")').closest('.cell').remove();"
      ],
      "text/plain": [
       "<IPython.core.display.Javascript object>"
      ]
     },
     "metadata": {},
     "output_type": "display_data"
    },
    {
     "data": {
      "application/javascript": [
       "\n",
       "        $('span:contains(\"# Temp\")').closest('.cell').remove();\n",
       "        var code = IPython.notebook.insert_cell_below('code');\n",
       "        code.set_text(decodeURIComponent(window.atob(\"JTIzJTIwVGVtcCUwQWluc2VydCUyOCUyNyUyNyUyNyUwQSUyMCUyMCUyMCUyMGNhcnJpbmd0b24yMDA1YSUyMCUzRCUyMERCJTI4V29ya1VucmVsYXRlZCUyOCUwQSUyMCUyMCUyMCUyMCUyMCUyMCUyMCUyMDIwMDUlMkMlMjAlMjJBbiUyMGluZHVzdHJ5L3VuaXZlcnNpdHklMjBjb2xsYWJvcmF0aW9uJTIwdG8lMjB1cGdyYWRlJTIwc29mdHdhcmUlMjBlbmdpbmVlcmluZyUwQWtub3dsZWRnZSUyMGFuZCUyMHNraWxscyUyMGluJTIwaW5kdXN0cnklMjIlMkMlMEElMjAlMjAlMjAlMjAlMjAlMjAlMjAlMjBkaXNwbGF5JTNEJTIyY2FycmluZ3RvbiUyMiUyQyUwQSUyMCUyMCUyMCUyMCUyMCUyMCUyMCUyMGF1dGhvcnMlM0QlMjJDYXJyaW5ndG9uJTJDJTIwRCUyMGFuZCUyMFN0cm9vcGVyJTJDJTIwUCUyMGFuZCUyME5ld2J5JTJDJTIwUyUyMGFuZCUyMFN0ZXZlbnNvbiUyQyUyMFQlMjIlMkMlMEElMjAlMjAlMjAlMjAlMjAlMjAlMjAlMjBwbGFjZSUzREZBS0UlMkMlMEElMjAlMjAlMjAlMjAlMjAlMjAlMjAlMjBwcCUzRCUyMjI5LTM5JTIyJTJDJTBBJTIwJTIwJTIwJTIwJTIwJTIwJTIwJTIwZW50cnl0eXBlJTNEJTIyYXJ0aWNsZSUyMiUyQyUwQSUyMCUyMCUyMCUyMCUyMCUyMCUyMCUyMHZvbHVtZSUzRCUyMjc1JTIyJTJDJTBBJTIwJTIwJTIwJTIwJTIwJTIwJTIwJTIwbnVtYmVyJTNEJTIyMS0yJTIyJTJDJTBBJTIwJTIwJTIwJTIwJTIwJTIwJTIwJTIwbW9udGglM0QlMjJGRUIlMjAxNSUyMiUyQyUwQSUyMCUyMCUyMCUyMCUyMCUyMCUyMCUyMG5vdGUlM0QlMjJJbnRlcm5hdGlvbmFsJTIwQ29uZmVyZW5jZSUyMG9uJTIwU29mdHdhcmUlMjBFbmdpbmVlcmluZyUyMGFuZCUyMFRyYWluaW5nJTJDJTIwTWFkcmlkJTJDJTIwU1BBSU4lMkMlMjAyMDAzJTIyJTJDJTBBJTIwJTIwJTIwJTIwJTIwJTIwJTIwJTIwZG9pJTNEJTIyMTAuMTAxNi9qLmpzcy4yMDA0LjAyLjAyMCUyMiUyQyUwQSUyMCUyMCUyMCUyMCUyMCUyMCUyMCUyMGlzc24lM0QlMjIwMTY0LTEyMTIlMjIlMkMlMEElMjAlMjAlMjAlMjAlMjAlMjAlMjAlMjBlaXNzbiUzRCUyMjE4NzMtMTIyOCUyMiUyQyUwQSUyMCUyMCUyMCUyMCUyMCUyMCUyMCUyMG9yY2lkLW51bWJlcnMlM0QlMjJTdHJvb3BlciUyQyUyMFBhdWwvMDAwMC0wMDAzLTQ3ODktMjg5NyUyMiUyQyUwQSUyMCUyMCUyMCUyMCUyMCUyMCUyMCUyMHVuaXF1ZS1pZCUzRCUyMklTSSUzQTAwMDIyNTY2ODAwMDAwNCUyMiUyQyUwQSUyMCUyMCUyMCUyMCUyMCUyMCUyMCUyMElEJTNEJTIySVNJJTNBMDAwMjI1NjY4MDAwMDA0JTIyJTJDJTBBJTIwJTIwJTIwJTIwJTIwJTIwJTIwJTIwd2Vib2ZzY2llbmNlMjAxNSUzRCUyMjElMjIlMkMlMEElMjAlMjAlMjAlMjAlMjAlMjAlMjAlMjBwbGFjZXglM0QlMjJKT1VSTkFMJTIwT0YlMjBTWVNURU1TJTIwQU5EJTIwU09GVFdBUkUlMjIlMkMlMEElMjAlMjAlMjAlMjAlMjklMjklMEElMjclMjclMjclMjklM0I=\")));\n",
       "    "
      ],
      "text/plain": [
       "<IPython.core.display.Javascript object>"
      ]
     },
     "metadata": {},
     "output_type": "display_data"
    },
    {
     "data": {
      "application/javascript": [
       "$('span:contains(\"# Temp\")').closest('.cell').remove();"
      ],
      "text/plain": [
       "<IPython.core.display.Javascript object>"
      ]
     },
     "metadata": {},
     "output_type": "display_data"
    },
    {
     "data": {
      "application/javascript": [
       "\n",
       "        $('span:contains(\"# Temp\")').closest('.cell').remove();\n",
       "        var code = IPython.notebook.insert_cell_below('code');\n",
       "        code.set_text(decodeURIComponent(window.atob(\"JTIzJTIwVGVtcCUwQWluc2VydCUyOCUyNyUyNyUyNyUwQSUyMCUyMCUyMCUyMHNvbmcyMDA3YSUyMCUzRCUyMERCJTI4V29ya1VucmVsYXRlZCUyOCUwQSUyMCUyMCUyMCUyMCUyMCUyMCUyMCUyMDIwMDclMkMlMjAlMjJBbiUyMGludGVsbGlnZW50JTIwaW5mb3JtYXRpb24lMjBhZ2VudCUyMGZvciUyMGRvY3VtZW50JTIwdGl0bGUlMjBjbGFzc2lmaWNhdGlvbiUyMGFuZCUwQWZpbHRlcmluZyUyMGluJTIwZG9jdW1lbnQtaW50ZW5zaXZlJTIwZG9tYWlucyUyMiUyQyUwQSUyMCUyMCUyMCUyMCUyMCUyMCUyMCUyMGRpc3BsYXklM0QlMjJzb25nJTIyJTJDJTBBJTIwJTIwJTIwJTIwJTIwJTIwJTIwJTIwYXV0aG9ycyUzRCUyMlNvbmclMkMlMjBEYXdlaSUyMGFuZCUyMExhdSUyQyUyMFJheW1vbmQlMjBZLiUyMEsuJTIwYW5kJTIwQnJ1emElMkMlMjBQZXRlciUyMEQuJTIwYW5kJTIwV29uZyUyQyUyMEthbS1GYWklMEFhbmQlMjBDaGVuJTJDJTIwRGluZy1ZaSUyMiUyQyUwQSUyMCUyMCUyMCUyMCUyMCUyMCUyMCUyMHBsYWNlJTNERkFLRSUyQyUwQSUyMCUyMCUyMCUyMCUyMCUyMCUyMCUyMHBwJTNEJTIyMjUxLTI2NSUyMiUyQyUwQSUyMCUyMCUyMCUyMCUyMCUyMCUyMCUyMGVudHJ5dHlwZSUzRCUyMmFydGljbGUlMjIlMkMlMEElMjAlMjAlMjAlMjAlMjAlMjAlMjAlMjB2b2x1bWUlM0QlMjI0NCUyMiUyQyUwQSUyMCUyMCUyMCUyMCUyMCUyMCUyMCUyMG51bWJlciUzRCUyMjElMjIlMkMlMEElMjAlMjAlMjAlMjAlMjAlMjAlMjAlMjBtb250aCUzRCUyMk5PViUyMiUyQyUwQSUyMCUyMCUyMCUyMCUyMCUyMCUyMCUyMGRvaSUzRCUyMjEwLjEwMTYvai5kc3MuMjAwNy4wNC4wMDElMjIlMkMlMEElMjAlMjAlMjAlMjAlMjAlMjAlMjAlMjBpc3NuJTNEJTIyMDE2Ny05MjM2JTIyJTJDJTBBJTIwJTIwJTIwJTIwJTIwJTIwJTIwJTIwZWlzc24lM0QlMjIxODczLTU3OTclMjIlMkMlMEElMjAlMjAlMjAlMjAlMjAlMjAlMjAlMjBvcmNpZC1udW1iZXJzJTNEJTIyU29uZyUyQyUyMERhd2VpLzAwMDAtMDAwMi04NjYwLTM2MDglMEFCcnV6YSUyQyUyMFBldGVyLzAwMDAtMDAwMS03OTk5LTA1MzQlMEFMYXUlMkMlMjBSYXltb25kLzAwMDAtMDAwMi01NzUxLTQ1NTAlMjIlMkMlMEElMjAlMjAlMjAlMjAlMjAlMjAlMjAlMjB1bmlxdWUtaWQlM0QlMjJJU0klM0EwMDAyNTAwNzkzMDAwMTglMjIlMkMlMEElMjAlMjAlMjAlMjAlMjAlMjAlMjAlMjBJRCUzRCUyMklTSSUzQTAwMDI1MDA3OTMwMDAxOCUyMiUyQyUwQSUyMCUyMCUyMCUyMCUyMCUyMCUyMCUyMHdlYm9mc2NpZW5jZTIwMTUlM0QlMjIxJTIyJTJDJTBBJTIwJTIwJTIwJTIwJTIwJTIwJTIwJTIwcGxhY2V4JTNEJTIyREVDSVNJT04lMjBTVVBQT1JUJTIwU1lTVEVNUyUyMiUyQyUwQSUyMCUyMCUyMCUyMCUyOSUyOSUwQSUyNyUyNyUyNyUyOSUzQg==\")));\n",
       "    "
      ],
      "text/plain": [
       "<IPython.core.display.Javascript object>"
      ]
     },
     "metadata": {},
     "output_type": "display_data"
    },
    {
     "data": {
      "application/javascript": [
       "$('span:contains(\"# Temp\")').closest('.cell').remove();"
      ],
      "text/plain": [
       "<IPython.core.display.Javascript object>"
      ]
     },
     "metadata": {},
     "output_type": "display_data"
    },
    {
     "data": {
      "application/javascript": [
       "\n",
       "        $('span:contains(\"# Temp\")').closest('.cell').remove();\n",
       "        var code = IPython.notebook.insert_cell_below('code');\n",
       "        code.set_text(decodeURIComponent(window.atob(\"JTIzJTIwVGVtcCUwQWluc2VydCUyOCUyNyUyNyUyNyUwQSUyMCUyMCUyMCUyMHNvbmcyMDA3YSUyMCUzRCUyMERCJTI4V29ya1VucmVsYXRlZCUyOCUwQSUyMCUyMCUyMCUyMCUyMCUyMCUyMCUyMDIwMDclMkMlMjAlMjJBbiUyMGludGVsbGlnZW50JTIwaW5mb3JtYXRpb24lMjBhZ2VudCUyMGZvciUyMGRvY3VtZW50JTIwdGl0bGUlMjBjbGFzc2lmaWNhdGlvbiUyMGFuZCUwQWZpbHRlcmluZyUyMGluJTIwZG9jdW1lbnQtaW50ZW5zaXZlJTIwZG9tYWlucyUyMiUyQyUwQSUyMCUyMCUyMCUyMCUyMCUyMCUyMCUyMGRpc3BsYXklM0QlMjJzb25nJTIyJTJDJTBBJTIwJTIwJTIwJTIwJTIwJTIwJTIwJTIwYXV0aG9ycyUzRCUyMlNvbmclMkMlMjBEYXdlaSUyMGFuZCUyMExhdSUyQyUyMFJheW1vbmQlMjBZLiUyMEsuJTIwYW5kJTIwQnJ1emElMkMlMjBQZXRlciUyMEQuJTIwYW5kJTIwV29uZyUyQyUyMEthbS1GYWklMEFhbmQlMjBDaGVuJTJDJTIwRGluZy1ZaSUyMiUyQyUwQSUyMCUyMCUyMCUyMCUyMCUyMCUyMCUyMHBsYWNlJTNERkFLRSUyQyUwQSUyMCUyMCUyMCUyMCUyMCUyMCUyMCUyMHBwJTNEJTIyMjUxLTI2NSUyMiUyQyUwQSUyMCUyMCUyMCUyMCUyMCUyMCUyMCUyMGVudHJ5dHlwZSUzRCUyMmFydGljbGUlMjIlMkMlMEElMjAlMjAlMjAlMjAlMjAlMjAlMjAlMjB2b2x1bWUlM0QlMjI0NCUyMiUyQyUwQSUyMCUyMCUyMCUyMCUyMCUyMCUyMCUyMG51bWJlciUzRCUyMjElMjIlMkMlMEElMjAlMjAlMjAlMjAlMjAlMjAlMjAlMjBtb250aCUzRCUyMk5PViUyMiUyQyUwQSUyMCUyMCUyMCUyMCUyMCUyMCUyMCUyMGRvaSUzRCUyMjEwLjEwMTYvai5kc3MuMjAwNy4wNC4wMDElMjIlMkMlMEElMjAlMjAlMjAlMjAlMjAlMjAlMjAlMjBpc3NuJTNEJTIyMDE2Ny05MjM2JTIyJTJDJTBBJTIwJTIwJTIwJTIwJTIwJTIwJTIwJTIwZWlzc24lM0QlMjIxODczLTU3OTclMjIlMkMlMEElMjAlMjAlMjAlMjAlMjAlMjAlMjAlMjBvcmNpZC1udW1iZXJzJTNEJTIyU29uZyUyQyUyMERhd2VpLzAwMDAtMDAwMi04NjYwLTM2MDglMEFCcnV6YSUyQyUyMFBldGVyLzAwMDAtMDAwMS03OTk5LTA1MzQlMEFMYXUlMkMlMjBSYXltb25kLzAwMDAtMDAwMi01NzUxLTQ1NTAlMjIlMkMlMEElMjAlMjAlMjAlMjAlMjAlMjAlMjAlMjB1bmlxdWUtaWQlM0QlMjJJU0klM0EwMDAyNTAwNzkzMDAwMTglMjIlMkMlMEElMjAlMjAlMjAlMjAlMjAlMjAlMjAlMjBJRCUzRCUyMklTSSUzQTAwMDI1MDA3OTMwMDAxOCUyMiUyQyUwQSUyMCUyMCUyMCUyMCUyMCUyMCUyMCUyMHdlYm9mc2NpZW5jZTIwMTUlM0QlMjIxJTIyJTJDJTBBJTIwJTIwJTIwJTIwJTIwJTIwJTIwJTIwcGxhY2V4JTNEJTIyREVDSVNJT04lMjBTVVBQT1JUJTIwU1lTVEVNUyUyMiUyQyUwQSUyMCUyMCUyMCUyMCUyOSUyOSUwQSUyNyUyNyUyNyUyOSUzQg==\")));\n",
       "    "
      ],
      "text/plain": [
       "<IPython.core.display.Javascript object>"
      ]
     },
     "metadata": {},
     "output_type": "display_data"
    },
    {
     "data": {
      "application/javascript": [
       "$('span:contains(\"# Temp\")').closest('.cell').remove();"
      ],
      "text/plain": [
       "<IPython.core.display.Javascript object>"
      ]
     },
     "metadata": {},
     "output_type": "display_data"
    },
    {
     "data": {
      "application/javascript": [
       "\n",
       "        $('span:contains(\"# Temp\")').closest('.cell').remove();\n",
       "        var code = IPython.notebook.insert_cell_below('code');\n",
       "        code.set_text(decodeURIComponent(window.atob(\"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\")));\n",
       "    "
      ],
      "text/plain": [
       "<IPython.core.display.Javascript object>"
      ]
     },
     "metadata": {},
     "output_type": "display_data"
    },
    {
     "data": {
      "application/javascript": [
       "$('span:contains(\"# Temp\")').closest('.cell').remove();"
      ],
      "text/plain": [
       "<IPython.core.display.Javascript object>"
      ]
     },
     "metadata": {},
     "output_type": "display_data"
    },
    {
     "data": {
      "application/javascript": [
       "\n",
       "        $('span:contains(\"# Temp\")').closest('.cell').remove();\n",
       "        var code = IPython.notebook.insert_cell_below('code');\n",
       "        code.set_text(decodeURIComponent(window.atob(\"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\")));\n",
       "    "
      ],
      "text/plain": [
       "<IPython.core.display.Javascript object>"
      ]
     },
     "metadata": {},
     "output_type": "display_data"
    },
    {
     "data": {
      "application/javascript": [
       "$('span:contains(\"# Temp\")').closest('.cell').remove();"
      ],
      "text/plain": [
       "<IPython.core.display.Javascript object>"
      ]
     },
     "metadata": {},
     "output_type": "display_data"
    }
   ],
   "source": [
    "from custom_snowballing import UnrelatedInsert\n",
    "UnrelatedInsert(\"webofscience2015\", articles=article_list)"
   ]
  },
  {
   "cell_type": "code",
   "execution_count": 111,
   "metadata": {},
   "outputs": [
    {
     "data": {
      "application/vnd.jupyter.widget-view+json": {
       "model_id": "5c5bff0086fc4821975a5b7d51575128",
       "version_major": 2,
       "version_minor": 0
      },
      "text/html": [
       "<p>Failed to display Jupyter Widget of type <code>VBox</code>.</p>\n",
       "<p>\n",
       "  If you're reading this message in Jupyter Notebook or JupyterLab, it may mean\n",
       "  that the widgets JavaScript is still loading. If this message persists, it\n",
       "  likely means that the widgets JavaScript library is either not installed or\n",
       "  not enabled. See the <a href=\"https://ipywidgets.readthedocs.io/en/stable/user_install.html\">Jupyter\n",
       "  Widgets Documentation</a> for setup instructions.\n",
       "</p>\n",
       "<p>\n",
       "  If you're reading this message in another notebook frontend (for example, a static\n",
       "  rendering on GitHub or <a href=\"https://nbviewer.jupyter.org/\">NBViewer</a>),\n",
       "  it may mean that your frontend doesn't currently support widgets.\n",
       "</p>\n"
      ],
      "text/plain": [
       "VBox(children=(HBox(children=(Button(description='Previous Article', disabled=True, icon='caret-left', style=ButtonStyle()), Button(description='Reload Article', icon='refresh', style=ButtonStyle()), Button(description='Next Article', disabled=True, icon='caret-right', style=ButtonStyle()))), HBox(children=(Button(description='Unrelated: Scripts', style=ButtonStyle()), Button(description='Unrelated: Provenance', style=ButtonStyle()), Button(description='Both', style=ButtonStyle()), Button(description='Ok', style=ButtonStyle()))), HBox(children=(Dropdown(description='Type', options=('Work', 'WorkSnowball', 'WorkForward', 'WorkBackward', 'WorkOk', 'WorkUnrelated', 'WorkNoFile', 'WorkLang', 'Site', 'Email'), value='Work'), ToggleButton(value=False, description='File'))), HBox(children=(Text(value='', description='Due'), Text(value='', description='Place'))), HBox(children=(Text(value='', description='Year'), Text(value='', description='Prefix Var'))), HBox(children=(Text(value='', description='PDFPage'), Text(value='', description='Related'))), HBox(children=(Text(value='', description='Display'), Text(value='', description='Summary'))), HBox(children=(Text(value='', description='Star'), Text(value='', description='Link'))), HBox(children=(Button(description='Reload Article', icon='refresh', style=ButtonStyle()), IntSlider(value=0, max=0), Label(value='1/1'))), Output()))"
      ]
     },
     "metadata": {},
     "output_type": "display_data"
    },
    {
     "data": {
      "application/javascript": [
       "$('span:contains(\"# Temp\")').closest('.cell').remove();"
      ],
      "text/plain": [
       "<IPython.core.display.Javascript object>"
      ]
     },
     "metadata": {},
     "output_type": "display_data"
    },
    {
     "data": {
      "application/javascript": [
       "\n",
       "        $('span:contains(\"# Temp\")').closest('.cell').remove();\n",
       "        var code = IPython.notebook.insert_cell_below('code');\n",
       "        code.set_text(atob(\"IyBUZW1wCmluc2VydCgnJycKbWVzc25hcnoxOTk5YSA9IERCKFdvcmtTbm93YmFsbCgKICAgIDE5OTksICJCZXR0ZXIgU29mdHdhcmUgUHJhY3RpY2UgZm9yIEJ1c2luZXNzIEJlbmVmaXQ6IFByaW5jaXBsZXMgYW5kIEV4cGVyaWVuY2VzIiwKICAgIGRpc3BsYXk9Im1lc3NuYXJ6IiwKICAgIGF1dGhvcnM9Ik1lc3NuYXJ6LCBSaWNoYXJkIGFuZCBUdWxseSwgQ29saW4gSiIsCiAgICBwbGFjZT1Cb29rLAogICAgZW50cnl0eXBlPSJib29rIiwKICAgIHB1Ymxpc2hlcj0iSUVFRSBDb21wdXRlciBTb2NpZXR5IFByZXNzIiwKICAgIElEPSJtZXNzbmFyejE5OTliZXR0ZXIiLAopKQonJycpOw==\"));\n",
       "    "
      ],
      "text/plain": [
       "<IPython.core.display.Javascript object>"
      ]
     },
     "metadata": {},
     "output_type": "display_data"
    }
   ],
   "source": [
    "ArticleNavigator(articles=article_list)"
   ]
  }
 ],
 "metadata": {
  "kernelspec": {
   "display_name": "Python 3",
   "language": "python",
   "name": "python3"
  },
  "language_info": {
   "codemirror_mode": {
    "name": "ipython",
    "version": 3
   },
   "file_extension": ".py",
   "mimetype": "text/x-python",
   "name": "python",
   "nbconvert_exporter": "python",
   "pygments_lexer": "ipython3",
   "version": "3.6.0"
  },
  "toc": {
   "nav_menu": {
    "height": "12px",
    "width": "252px"
   },
   "number_sections": true,
   "sideBar": true,
   "skip_h1_title": false,
   "toc_cell": false,
   "toc_position": {},
   "toc_section_display": "block",
   "toc_window_display": false
  }
 },
 "nbformat": 4,
 "nbformat_minor": 2
}
