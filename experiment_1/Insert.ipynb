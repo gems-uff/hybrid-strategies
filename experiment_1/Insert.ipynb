{
 "cells": [
  {
   "cell_type": "code",
   "execution_count": 1,
   "metadata": {
    "collapsed": true
   },
   "outputs": [],
   "source": [
    "import database\n",
    "from snowballing.operations import load_work, reload, work_by_varname\n",
    "from snowballing.snowballing import Converter\n",
    "from snowballing.snowballing import ArticleNavigator\n",
    "from snowballing.dbmanager import insert, set_attribute"
   ]
  },
  {
   "cell_type": "code",
   "execution_count": 2,
   "metadata": {
    "scrolled": false
   },
   "outputs": [
    {
     "data": {
      "application/vnd.jupyter.widget-view+json": {
       "model_id": "bab780e946954a3ea71266d26244dcbc",
       "version_major": 2,
       "version_minor": 0
      },
      "text/html": [
       "<p>Failed to display Jupyter Widget of type <code>VBox</code>.</p>\n",
       "<p>\n",
       "  If you're reading this message in Jupyter Notebook or JupyterLab, it may mean\n",
       "  that the widgets JavaScript is still loading. If this message persists, it\n",
       "  likely means that the widgets JavaScript library is either not installed or\n",
       "  not enabled. See the <a href=\"https://ipywidgets.readthedocs.io/en/stable/user_install.html\">Jupyter\n",
       "  Widgets Documentation</a> for setup instructions.\n",
       "</p>\n",
       "<p>\n",
       "  If you're reading this message in another notebook frontend (for example, a static\n",
       "  rendering on GitHub or <a href=\"https://nbviewer.jupyter.org/\">NBViewer</a>),\n",
       "  it may mean that your frontend doesn't currently support widgets.\n",
       "</p>\n"
      ],
      "text/plain": [
       "VBox(children=(HBox(children=(Dropdown(options={'BibTeX': 'bibtex', 'Text': 'text', '[N] author name place other year': 'citation', 'Quoted': 'quoted'}, value='bibtex'), Button(description='Set article_list variable', style=ButtonStyle()), Label(value=''))), HBox(children=(Textarea(value='', layout=Layout(height='500px', width='50%')), Textarea(value='', layout=Layout(height='500px', width='50%'))))))"
      ]
     },
     "metadata": {},
     "output_type": "display_data"
    }
   ],
   "source": [
    "Converter(\"bibtex\")"
   ]
  },
  {
   "cell_type": "code",
   "execution_count": 4,
   "metadata": {},
   "outputs": [
    {
     "data": {
      "text/plain": [
       "10"
      ]
     },
     "execution_count": 4,
     "metadata": {},
     "output_type": "execute_result"
    }
   ],
   "source": [
    "len(article_list)"
   ]
  },
  {
   "cell_type": "code",
   "execution_count": 5,
   "metadata": {
    "collapsed": true
   },
   "outputs": [],
   "source": [
    "from snowballing.operations import reload\n",
    "reload()\n"
   ]
  },
  {
   "cell_type": "code",
   "execution_count": null,
   "metadata": {
    "collapsed": true
   },
   "outputs": [],
   "source": []
  },
  {
   "cell_type": "code",
   "execution_count": 6,
   "metadata": {},
   "outputs": [
    {
     "data": {
      "application/vnd.jupyter.widget-view+json": {
       "model_id": "86e12d654579491dba49dcb5ced8f0d0",
       "version_major": 2,
       "version_minor": 0
      },
      "text/html": [
       "<p>Failed to display Jupyter Widget of type <code>VBox</code>.</p>\n",
       "<p>\n",
       "  If you're reading this message in Jupyter Notebook or JupyterLab, it may mean\n",
       "  that the widgets JavaScript is still loading. If this message persists, it\n",
       "  likely means that the widgets JavaScript library is either not installed or\n",
       "  not enabled. See the <a href=\"https://ipywidgets.readthedocs.io/en/stable/user_install.html\">Jupyter\n",
       "  Widgets Documentation</a> for setup instructions.\n",
       "</p>\n",
       "<p>\n",
       "  If you're reading this message in another notebook frontend (for example, a static\n",
       "  rendering on GitHub or <a href=\"https://nbviewer.jupyter.org/\">NBViewer</a>),\n",
       "  it may mean that your frontend doesn't currently support widgets.\n",
       "</p>\n"
      ],
      "text/plain": [
       "VBox(children=(HBox(children=(Button(description='Previous Article', disabled=True, icon='caret-left', style=ButtonStyle()), Button(description='Reload Article', icon='refresh', style=ButtonStyle()), Button(description='Next Article', icon='caret-right', style=ButtonStyle()))), HBox(children=(Dropdown(description='Type', index=5, options=('Work', 'WorkSnowball', 'WorkForward', 'WorkBackward', 'WorkOk', 'WorkUnrelated', 'WorkNoFile', 'WorkLang', 'Site', 'Email'), value='WorkUnrelated'), ToggleButton(value=False, description='File'))), HBox(children=(Text(value='', description='Due'), Text(value='', description='Place'))), HBox(children=(Text(value='', description='Year'), Text(value='', description='Prefix Var'))), HBox(children=(Text(value='', description='PDFPage'), Text(value='', description='Related'))), HBox(children=(Text(value='', description='Display'), Text(value='', description='Summary'))), HBox(children=(Text(value='', description='Star'), Text(value='', description='Link'))), HBox(children=(Text(value='1', description='webofscience'),)), HBox(children=(Button(description='Reload Article', icon='refresh', style=ButtonStyle()), IntSlider(value=0, max=9), Label(value='1/10'))), Output()))"
      ]
     },
     "metadata": {},
     "output_type": "display_data"
    },
    {
     "data": {
      "application/javascript": [
       "$('span:contains(\"# Temp\")').closest('.cell').remove();"
      ],
      "text/plain": [
       "<IPython.core.display.Javascript object>"
      ]
     },
     "metadata": {},
     "output_type": "display_data"
    },
    {
     "data": {
      "application/javascript": [
       "\n",
       "        $('span:contains(\"# Temp\")').closest('.cell').remove();\n",
       "        var code = IPython.notebook.insert_cell_below('code');\n",
       "        code.set_text(atob(\"IyBUZW1wCmluc2VydCgnJycnJycpOwpzZXRfYXR0cmlidXRlKCdiYXlvbmEyMDEyYicsICdub3RlJywgJzEydGggSW50ZXJuYXRpb25hbCBDb25mZXJlbmNlIG9uIFNvZnR3YXJlIFByb2Nlc3MgSW1wcm92ZW1lbnQgYW5kCkNhcGFiaWxpdHkgRGV0ZXJtaW5hdGlvbiAoU1BJQ0UgMjAxMiksIFBhbG1hLCBTUEFJTiwgTUFZIDI5LTMxLCAyMDEyJyk7CnNldF9hdHRyaWJ1dGUoJ2JheW9uYTIwMTJiJywgJ3Jlc2VhcmNoZXJpZC1udW1iZXJzJywgJ0NhbHZvLU1hbnphbm8sIEpvc2UvSy05NDI2LTIwMTMKJyk7CnNldF9hdHRyaWJ1dGUoJ2JheW9uYTIwMTJiJywgJ29yY2lkLW51bWJlcnMnLCAnQ2Fsdm8tTWFuemFubywgSm9zZS8wMDAwLTAwMDItMjg2NC0yMjAzCkJheW9uYSwgbHV6IFN1c3N5LzAwMDAtMDAwMS03MTMzLTkxMDYKU2FuIEZlbGl1LCBUb21hcy8wMDAwLTAwMDItNjEwNC03NDMwJyk7CnNldF9hdHRyaWJ1dGUoJ2JheW9uYTIwMTJiJywgJ3VuaXF1ZS1pZCcsICdJU0k6MDAwMzEwOTM4MTAwMDAxJyk7CnNldF9hdHRyaWJ1dGUoJ2JheW9uYTIwMTJiJywgJ3BsYWNleCcsICdTT0ZUV0FSRSBQUk9DRVNTIElNUFJPVkVNRU5UIEFORCBDQVBBQklMSVRZIERFVEVSTUlOQVRJT04nKTs=\"));\n",
       "    "
      ],
      "text/plain": [
       "<IPython.core.display.Javascript object>"
      ]
     },
     "metadata": {},
     "output_type": "display_data"
    },
    {
     "data": {
      "application/javascript": [
       "$('span:contains(\"# Temp\")').closest('.cell').remove();"
      ],
      "text/plain": [
       "<IPython.core.display.Javascript object>"
      ]
     },
     "metadata": {},
     "output_type": "display_data"
    },
    {
     "data": {
      "application/javascript": [
       "\n",
       "        $('span:contains(\"# Temp\")').closest('.cell').remove();\n",
       "        var code = IPython.notebook.insert_cell_below('code');\n",
       "        code.set_text(atob(\"IyBUZW1wCmluc2VydCgnJycnJycpOwpzZXRfYXR0cmlidXRlKCdiYXlvbmEyMDEyYicsICdub3RlJywgJzEydGggSW50ZXJuYXRpb25hbCBDb25mZXJlbmNlIG9uIFNvZnR3YXJlIFByb2Nlc3MgSW1wcm92ZW1lbnQgYW5kCkNhcGFiaWxpdHkgRGV0ZXJtaW5hdGlvbiAoU1BJQ0UgMjAxMiksIFBhbG1hLCBTUEFJTiwgTUFZIDI5LTMxLCAyMDEyJyk7CnNldF9hdHRyaWJ1dGUoJ2JheW9uYTIwMTJiJywgJ3Jlc2VhcmNoZXJpZC1udW1iZXJzJywgJ0NhbHZvLU1hbnphbm8sIEpvc2UvSy05NDI2LTIwMTMKJyk7CnNldF9hdHRyaWJ1dGUoJ2JheW9uYTIwMTJiJywgJ29yY2lkLW51bWJlcnMnLCAnQ2Fsdm8tTWFuemFubywgSm9zZS8wMDAwLTAwMDItMjg2NC0yMjAzCkJheW9uYSwgbHV6IFN1c3N5LzAwMDAtMDAwMS03MTMzLTkxMDYKU2FuIEZlbGl1LCBUb21hcy8wMDAwLTAwMDItNjEwNC03NDMwJyk7CnNldF9hdHRyaWJ1dGUoJ2JheW9uYTIwMTJiJywgJ3VuaXF1ZS1pZCcsICdJU0k6MDAwMzEwOTM4MTAwMDAxJyk7CnNldF9hdHRyaWJ1dGUoJ2JheW9uYTIwMTJiJywgJ3BsYWNleCcsICdTT0ZUV0FSRSBQUk9DRVNTIElNUFJPVkVNRU5UIEFORCBDQVBBQklMSVRZIERFVEVSTUlOQVRJT04nKTs=\"));\n",
       "    "
      ],
      "text/plain": [
       "<IPython.core.display.Javascript object>"
      ]
     },
     "metadata": {},
     "output_type": "display_data"
    },
    {
     "data": {
      "application/javascript": [
       "$('span:contains(\"# Temp\")').closest('.cell').remove();"
      ],
      "text/plain": [
       "<IPython.core.display.Javascript object>"
      ]
     },
     "metadata": {},
     "output_type": "display_data"
    },
    {
     "data": {
      "application/javascript": [
       "\n",
       "        $('span:contains(\"# Temp\")').closest('.cell').remove();\n",
       "        var code = IPython.notebook.insert_cell_below('code');\n",
       "        code.set_text(atob(\"IyBUZW1wCmluc2VydCgnJycnJycpOwpzZXRfYXR0cmlidXRlKCdzdGFsbGluZ2VyMjAxMWEnLCAnZWRpdG9yJywgJ09Db25ub3IsIFJWIGFuZCBSb3V0LCBUIGFuZCBNY0NhZmZlcnksIEYgYW5kIERvcmxpbmcsIEEnKTsKc2V0X2F0dHJpYnV0ZSgnc3RhbGxpbmdlcjIwMTFhJywgJ3NlcmllcycsICdDb21tdW5pY2F0aW9ucyBpbiBDb21wdXRlciBhbmQgSW5mb3JtYXRpb24gU2NpZW5jZScpOwpzZXRfYXR0cmlidXRlKCdzdGFsbGluZ2VyMjAxMWEnLCAnb3JnYW5pemF0aW9uJywgJ1NjaSBGZG4gSXJlbGFuZDsgRENVOyBTUElDRSBVc2VyIEdycDsgSXJpc2ggU29mdHdhcmUgRW5nbiBSZXMgQ3RyJyk7CnNldF9hdHRyaWJ1dGUoJ3N0YWxsaW5nZXIyMDExYScsICdpc3NuJywgJzE4NjUtMDkyOScpOwpzZXRfYXR0cmlidXRlKCdzdGFsbGluZ2VyMjAxMWEnLCAnZWlzc24nLCAnMTg2NS0wOTM3Jyk7CnNldF9hdHRyaWJ1dGUoJ3N0YWxsaW5nZXIyMDExYScsICdpc2JuJywgJzk3OC0zLTY0Mi0yMTIzMi0xJyk7CnNldF9hdHRyaWJ1dGUoJ3N0YWxsaW5nZXIyMDExYScsICd1bmlxdWUtaWQnLCAnSVNJOjAwMDI5NzAzMTYwMDAxNCcpOwpzZXRfYXR0cmlidXRlKCdzdGFsbGluZ2VyMjAxMWEnLCAnd2Vib2ZzY2llbmNlJywgJzEnKTsKc2V0X2F0dHJpYnV0ZSgnc3RhbGxpbmdlcjIwMTFhJywgJ3BsYWNleCcsICdTT0ZUV0FSRSBQUk9DRVNTIElNUFJPVkVNRU5UIEFORCBDQVBBQklMSVRZIERFVEVSTUlOQVRJT04nKTs=\"));\n",
       "    "
      ],
      "text/plain": [
       "<IPython.core.display.Javascript object>"
      ]
     },
     "metadata": {},
     "output_type": "display_data"
    },
    {
     "data": {
      "application/javascript": [
       "$('span:contains(\"# Temp\")').closest('.cell').remove();"
      ],
      "text/plain": [
       "<IPython.core.display.Javascript object>"
      ]
     },
     "metadata": {},
     "output_type": "display_data"
    },
    {
     "data": {
      "application/javascript": [
       "\n",
       "        $('span:contains(\"# Temp\")').closest('.cell').remove();\n",
       "        var code = IPython.notebook.insert_cell_below('code');\n",
       "        code.set_text(atob(\"IyBUZW1wCmluc2VydCgnJycnJycpOwpzZXRfYXR0cmlidXRlKCdzdGFsbGluZ2VyMjAxMWEnLCAnZWRpdG9yJywgJ09Db25ub3IsIFJWIGFuZCBSb3V0LCBUIGFuZCBNY0NhZmZlcnksIEYgYW5kIERvcmxpbmcsIEEnKTsKc2V0X2F0dHJpYnV0ZSgnc3RhbGxpbmdlcjIwMTFhJywgJ3NlcmllcycsICdDb21tdW5pY2F0aW9ucyBpbiBDb21wdXRlciBhbmQgSW5mb3JtYXRpb24gU2NpZW5jZScpOwpzZXRfYXR0cmlidXRlKCdzdGFsbGluZ2VyMjAxMWEnLCAnb3JnYW5pemF0aW9uJywgJ1NjaSBGZG4gSXJlbGFuZDsgRENVOyBTUElDRSBVc2VyIEdycDsgSXJpc2ggU29mdHdhcmUgRW5nbiBSZXMgQ3RyJyk7CnNldF9hdHRyaWJ1dGUoJ3N0YWxsaW5nZXIyMDExYScsICdpc3NuJywgJzE4NjUtMDkyOScpOwpzZXRfYXR0cmlidXRlKCdzdGFsbGluZ2VyMjAxMWEnLCAnZWlzc24nLCAnMTg2NS0wOTM3Jyk7CnNldF9hdHRyaWJ1dGUoJ3N0YWxsaW5nZXIyMDExYScsICdpc2JuJywgJzk3OC0zLTY0Mi0yMTIzMi0xJyk7CnNldF9hdHRyaWJ1dGUoJ3N0YWxsaW5nZXIyMDExYScsICd1bmlxdWUtaWQnLCAnSVNJOjAwMDI5NzAzMTYwMDAxNCcpOwpzZXRfYXR0cmlidXRlKCdzdGFsbGluZ2VyMjAxMWEnLCAnd2Vib2ZzY2llbmNlJywgJzEnKTsKc2V0X2F0dHJpYnV0ZSgnc3RhbGxpbmdlcjIwMTFhJywgJ3BsYWNleCcsICdTT0ZUV0FSRSBQUk9DRVNTIElNUFJPVkVNRU5UIEFORCBDQVBBQklMSVRZIERFVEVSTUlOQVRJT04nKTs=\"));\n",
       "    "
      ],
      "text/plain": [
       "<IPython.core.display.Javascript object>"
      ]
     },
     "metadata": {},
     "output_type": "display_data"
    },
    {
     "data": {
      "application/javascript": [
       "$('span:contains(\"# Temp\")').closest('.cell').remove();"
      ],
      "text/plain": [
       "<IPython.core.display.Javascript object>"
      ]
     },
     "metadata": {},
     "output_type": "display_data"
    },
    {
     "data": {
      "application/javascript": [
       "\n",
       "        $('span:contains(\"# Temp\")').closest('.cell').remove();\n",
       "        var code = IPython.notebook.insert_cell_below('code');\n",
       "        code.set_text(atob(\"IyBUZW1wCmluc2VydCgnJycnJycpOwpzZXRfYXR0cmlidXRlKCdwbPZzY2gyMDExYScsICdlZGl0b3InLCAnT0Nvbm5vciwgUlYgYW5kIFJvdXQsIFQgYW5kIE1jQ2FmZmVyeSwgRiBhbmQgRG9ybGluZywgQScpOwpzZXRfYXR0cmlidXRlKCdwbPZzY2gyMDExYScsICdzZXJpZXMnLCAnQ29tbXVuaWNhdGlvbnMgaW4gQ29tcHV0ZXIgYW5kIEluZm9ybWF0aW9uIFNjaWVuY2UnKTsKc2V0X2F0dHJpYnV0ZSgncGz2c2NoMjAxMWEnLCAnb3JnYW5pemF0aW9uJywgJ1NjaSBGZG4gSXJlbGFuZDsgRENVOyBTUElDRSBVc2VyIEdycDsgSXJpc2ggU29mdHdhcmUgRW5nbiBSZXMgQ3RyJyk7CnNldF9hdHRyaWJ1dGUoJ3Bs9nNjaDIwMTFhJywgJ2lzc24nLCAnMTg2NS0wOTI5Jyk7CnNldF9hdHRyaWJ1dGUoJ3Bs9nNjaDIwMTFhJywgJ2Vpc3NuJywgJzE4NjUtMDkzNycpOwpzZXRfYXR0cmlidXRlKCdwbPZzY2gyMDExYScsICdpc2JuJywgJzk3OC0zLTY0Mi0yMTIzMi0xJyk7CnNldF9hdHRyaWJ1dGUoJ3Bs9nNjaDIwMTFhJywgJ3VuaXF1ZS1pZCcsICdJU0k6MDAwMjk3MDMxNjAwMDI2Jyk7CnNldF9hdHRyaWJ1dGUoJ3Bs9nNjaDIwMTFhJywgJ3dlYm9mc2NpZW5jZScsICcxJyk7CnNldF9hdHRyaWJ1dGUoJ3Bs9nNjaDIwMTFhJywgJ3BsYWNleCcsICdTT0ZUV0FSRSBQUk9DRVNTIElNUFJPVkVNRU5UIEFORCBDQVBBQklMSVRZIERFVEVSTUlOQVRJT04nKTs=\"));\n",
       "    "
      ],
      "text/plain": [
       "<IPython.core.display.Javascript object>"
      ]
     },
     "metadata": {},
     "output_type": "display_data"
    },
    {
     "data": {
      "application/javascript": [
       "$('span:contains(\"# Temp\")').closest('.cell').remove();"
      ],
      "text/plain": [
       "<IPython.core.display.Javascript object>"
      ]
     },
     "metadata": {},
     "output_type": "display_data"
    },
    {
     "data": {
      "application/javascript": [
       "\n",
       "        $('span:contains(\"# Temp\")').closest('.cell').remove();\n",
       "        var code = IPython.notebook.insert_cell_below('code');\n",
       "        code.set_text(atob(\"IyBUZW1wCmluc2VydCgnJycnJycpOwpzZXRfYXR0cmlidXRlKCdwbPZzY2gyMDExYScsICdlZGl0b3InLCAnT0Nvbm5vciwgUlYgYW5kIFJvdXQsIFQgYW5kIE1jQ2FmZmVyeSwgRiBhbmQgRG9ybGluZywgQScpOwpzZXRfYXR0cmlidXRlKCdwbPZzY2gyMDExYScsICdzZXJpZXMnLCAnQ29tbXVuaWNhdGlvbnMgaW4gQ29tcHV0ZXIgYW5kIEluZm9ybWF0aW9uIFNjaWVuY2UnKTsKc2V0X2F0dHJpYnV0ZSgncGz2c2NoMjAxMWEnLCAnb3JnYW5pemF0aW9uJywgJ1NjaSBGZG4gSXJlbGFuZDsgRENVOyBTUElDRSBVc2VyIEdycDsgSXJpc2ggU29mdHdhcmUgRW5nbiBSZXMgQ3RyJyk7CnNldF9hdHRyaWJ1dGUoJ3Bs9nNjaDIwMTFhJywgJ2lzc24nLCAnMTg2NS0wOTI5Jyk7CnNldF9hdHRyaWJ1dGUoJ3Bs9nNjaDIwMTFhJywgJ2Vpc3NuJywgJzE4NjUtMDkzNycpOwpzZXRfYXR0cmlidXRlKCdwbPZzY2gyMDExYScsICdpc2JuJywgJzk3OC0zLTY0Mi0yMTIzMi0xJyk7CnNldF9hdHRyaWJ1dGUoJ3Bs9nNjaDIwMTFhJywgJ3VuaXF1ZS1pZCcsICdJU0k6MDAwMjk3MDMxNjAwMDI2Jyk7CnNldF9hdHRyaWJ1dGUoJ3Bs9nNjaDIwMTFhJywgJ3dlYm9mc2NpZW5jZScsICcxJyk7CnNldF9hdHRyaWJ1dGUoJ3Bs9nNjaDIwMTFhJywgJ3BsYWNleCcsICdTT0ZUV0FSRSBQUk9DRVNTIElNUFJPVkVNRU5UIEFORCBDQVBBQklMSVRZIERFVEVSTUlOQVRJT04nKTs=\"));\n",
       "    "
      ],
      "text/plain": [
       "<IPython.core.display.Javascript object>"
      ]
     },
     "metadata": {},
     "output_type": "display_data"
    },
    {
     "data": {
      "application/javascript": [
       "$('span:contains(\"# Temp\")').closest('.cell').remove();"
      ],
      "text/plain": [
       "<IPython.core.display.Javascript object>"
      ]
     },
     "metadata": {},
     "output_type": "display_data"
    },
    {
     "data": {
      "application/javascript": [
       "\n",
       "        $('span:contains(\"# Temp\")').closest('.cell').remove();\n",
       "        var code = IPython.notebook.insert_cell_below('code');\n",
       "        code.set_text(atob(\"IyBUZW1wCmluc2VydCgnJycnJycpOwpzZXRfYXR0cmlidXRlKCdndXpt4W4yMDEwYScsICdtb250aCcsICdTRVAnKTsKc2V0X2F0dHJpYnV0ZSgnZ3V6beFuMjAxMGEnLCAnaXNzbicsICcwOTYzLTkzMTQnKTsKc2V0X2F0dHJpYnV0ZSgnZ3V6beFuMjAxMGEnLCAncmVzZWFyY2hlcmlkLW51bWJlcnMnLCAnR2FyY2lhIEd1em1hbiwgSmF2aWVyL0wtNDY2Ni0yMDE0CicpOwpzZXRfYXR0cmlidXRlKCdndXpt4W4yMDEwYScsICdvcmNpZC1udW1iZXJzJywgJ01pdHJlLUhlcm5hbmRleiwgSHVnby8wMDAwLTAwMDMtMjg0MC0zOTk4ClZlbGFzY28sIE1hbnVlbC8wMDAwLTAwMDItMDc2NC0zMDYzJyk7CnNldF9hdHRyaWJ1dGUoJ2d1em3hbjIwMTBhJywgJ3VuaXF1ZS1pZCcsICdJU0k6MDAwMjc4NDcyOTAwMDAyJyk7CnNldF9hdHRyaWJ1dGUoJ2d1em3hbjIwMTBhJywgJ3dlYm9mc2NpZW5jZScsICcxJyk7CnNldF9hdHRyaWJ1dGUoJ2d1em3hbjIwMTBhJywgJ3BsYWNleCcsICdTb2Z0d2FyZSBRdWFsaXR5IEpvdXJuYWwnKTs=\"));\n",
       "    "
      ],
      "text/plain": [
       "<IPython.core.display.Javascript object>"
      ]
     },
     "metadata": {},
     "output_type": "display_data"
    },
    {
     "data": {
      "application/javascript": [
       "$('span:contains(\"# Temp\")').closest('.cell').remove();"
      ],
      "text/plain": [
       "<IPython.core.display.Javascript object>"
      ]
     },
     "metadata": {},
     "output_type": "display_data"
    },
    {
     "data": {
      "application/javascript": [
       "\n",
       "        $('span:contains(\"# Temp\")').closest('.cell').remove();\n",
       "        var code = IPython.notebook.insert_cell_below('code');\n",
       "        code.set_text(atob(\"IyBUZW1wCmluc2VydCgnJycnJycpOwpzZXRfYXR0cmlidXRlKCdndXpt4W4yMDEwYScsICdtb250aCcsICdTRVAnKTsKc2V0X2F0dHJpYnV0ZSgnZ3V6beFuMjAxMGEnLCAnaXNzbicsICcwOTYzLTkzMTQnKTsKc2V0X2F0dHJpYnV0ZSgnZ3V6beFuMjAxMGEnLCAncmVzZWFyY2hlcmlkLW51bWJlcnMnLCAnR2FyY2lhIEd1em1hbiwgSmF2aWVyL0wtNDY2Ni0yMDE0CicpOwpzZXRfYXR0cmlidXRlKCdndXpt4W4yMDEwYScsICdvcmNpZC1udW1iZXJzJywgJ01pdHJlLUhlcm5hbmRleiwgSHVnby8wMDAwLTAwMDMtMjg0MC0zOTk4ClZlbGFzY28sIE1hbnVlbC8wMDAwLTAwMDItMDc2NC0zMDYzJyk7CnNldF9hdHRyaWJ1dGUoJ2d1em3hbjIwMTBhJywgJ3VuaXF1ZS1pZCcsICdJU0k6MDAwMjc4NDcyOTAwMDAyJyk7CnNldF9hdHRyaWJ1dGUoJ2d1em3hbjIwMTBhJywgJ3dlYm9mc2NpZW5jZScsICcxJyk7CnNldF9hdHRyaWJ1dGUoJ2d1em3hbjIwMTBhJywgJ3BsYWNleCcsICdTb2Z0d2FyZSBRdWFsaXR5IEpvdXJuYWwnKTs=\"));\n",
       "    "
      ],
      "text/plain": [
       "<IPython.core.display.Javascript object>"
      ]
     },
     "metadata": {},
     "output_type": "display_data"
    },
    {
     "data": {
      "application/javascript": [
       "$('span:contains(\"# Temp\")').closest('.cell').remove();"
      ],
      "text/plain": [
       "<IPython.core.display.Javascript object>"
      ]
     },
     "metadata": {},
     "output_type": "display_data"
    },
    {
     "data": {
      "application/javascript": [
       "\n",
       "        $('span:contains(\"# Temp\")').closest('.cell').remove();\n",
       "        var code = IPython.notebook.insert_cell_below('code');\n",
       "        code.set_text(atob(\"IyBUZW1wCmluc2VydCgnJycnJycpOwpzZXRfYXR0cmlidXRlKCd6YWx6YWxhMjAxMGEnLCAnZWRpdG9yJywgJ0Nhc3RybyBOZXRvLCBNJyk7CnNldF9hdHRyaWJ1dGUoJ3phbHphbGEyMDEwYScsICdpc2JuJywgJzk3OC0xLTkwNjYzOC03Mi02Jyk7CnNldF9hdHRyaWJ1dGUoJ3phbHphbGEyMDEwYScsICd1bmlxdWUtaWQnLCAnSVNJOjAwMDI4NDI2MjQwMDA0NycpOwpzZXRfYXR0cmlidXRlKCd6YWx6YWxhMjAxMGEnLCAnd2Vib2ZzY2llbmNlJywgJzEnKTsKc2V0X2F0dHJpYnV0ZSgnemFsemFsYTIwMTBhJywgJ3BsYWNleCcsICdQUk9DRUVESU5HUyBPRiBUSEUgNFRIIEVVUk9QRUFOIENPTkZFUkVOQ0UgT04gSU5GT1JNQVRJT04gTUFOQUdFTUVOVCBBTkQKRVZBTFVBVElPTicpOw==\"));\n",
       "    "
      ],
      "text/plain": [
       "<IPython.core.display.Javascript object>"
      ]
     },
     "metadata": {},
     "output_type": "display_data"
    },
    {
     "data": {
      "application/javascript": [
       "$('span:contains(\"# Temp\")').closest('.cell').remove();"
      ],
      "text/plain": [
       "<IPython.core.display.Javascript object>"
      ]
     },
     "metadata": {},
     "output_type": "display_data"
    },
    {
     "data": {
      "application/javascript": [
       "\n",
       "        $('span:contains(\"# Temp\")').closest('.cell').remove();\n",
       "        var code = IPython.notebook.insert_cell_below('code');\n",
       "        code.set_text(atob(\"IyBUZW1wCmluc2VydCgnJycnJycpOwpzZXRfYXR0cmlidXRlKCd6YWx6YWxhMjAxMGEnLCAnZWRpdG9yJywgJ0Nhc3RybyBOZXRvLCBNJyk7CnNldF9hdHRyaWJ1dGUoJ3phbHphbGEyMDEwYScsICdpc2JuJywgJzk3OC0xLTkwNjYzOC03Mi02Jyk7CnNldF9hdHRyaWJ1dGUoJ3phbHphbGEyMDEwYScsICd1bmlxdWUtaWQnLCAnSVNJOjAwMDI4NDI2MjQwMDA0NycpOwpzZXRfYXR0cmlidXRlKCd6YWx6YWxhMjAxMGEnLCAnd2Vib2ZzY2llbmNlJywgJzEnKTsKc2V0X2F0dHJpYnV0ZSgnemFsemFsYTIwMTBhJywgJ3BsYWNleCcsICdQUk9DRUVESU5HUyBPRiBUSEUgNFRIIEVVUk9QRUFOIENPTkZFUkVOQ0UgT04gSU5GT1JNQVRJT04gTUFOQUdFTUVOVCBBTkQKRVZBTFVBVElPTicpOw==\"));\n",
       "    "
      ],
      "text/plain": [
       "<IPython.core.display.Javascript object>"
      ]
     },
     "metadata": {},
     "output_type": "display_data"
    },
    {
     "data": {
      "application/javascript": [
       "$('span:contains(\"# Temp\")').closest('.cell').remove();"
      ],
      "text/plain": [
       "<IPython.core.display.Javascript object>"
      ]
     },
     "metadata": {},
     "output_type": "display_data"
    },
    {
     "data": {
      "application/javascript": [
       "\n",
       "        $('span:contains(\"# Temp\")').closest('.cell').remove();\n",
       "        var code = IPython.notebook.insert_cell_below('code');\n",
       "        code.set_text(atob(\"IyBUZW1wCmluc2VydCgnJycnJycpOwpzZXRfYXR0cmlidXRlKCdhbGJ1cXVlcnF1ZTIwMDlhJywgJ2VkaXRvcicsICdCb21hcml1cywgRiBhbmQgT2l2bywgTSBhbmQgSmFyaW5nLCBQIGFuZCBBYnJhaGFtc3NvbiwgUCcpOwpzZXRfYXR0cmlidXRlKCdhbGJ1cXVlcnF1ZTIwMDlhJywgJ3NlcmllcycsICdMZWN0dXJlIE5vdGVzIGluIEJ1c2luZXNzIEluZm9ybWF0aW9uIFByb2Nlc3NpbmcnKTsKc2V0X2F0dHJpYnV0ZSgnYWxidXF1ZXJxdWUyMDA5YScsICdvcmdhbml6YXRpb24nLCAnVlRUIFRlY2ggUmVzIEN0cjsgVW5pdiBPdWx1OyBGcmF1bmhvZmVyIElFU0U7IEthaXNlcnNsYXV0ZXJuOyBVbml2CkhlbHNpbmtpOyBDaXR5IE91bHUnKTsKc2V0X2F0dHJpYnV0ZSgnYWxidXF1ZXJxdWUyMDA5YScsICdpc3NuJywgJzE4NjUtMTM0OCcpOwpzZXRfYXR0cmlidXRlKCdhbGJ1cXVlcnF1ZTIwMDlhJywgJ2lzYm4nLCAnOTc4LTMtNjQyLTAyMTUxLTAnKTsKc2V0X2F0dHJpYnV0ZSgnYWxidXF1ZXJxdWUyMDA5YScsICd1bmlxdWUtaWQnLCAnSVNJOjAwMDI2Nzc5NTQwMDAyNicpOwpzZXRfYXR0cmlidXRlKCdhbGJ1cXVlcnF1ZTIwMDlhJywgJ3dlYm9mc2NpZW5jZScsICcxJyk7CnNldF9hdHRyaWJ1dGUoJ2FsYnVxdWVycXVlMjAwOWEnLCAncGxhY2V4JywgJ1BST0RVQ1QtRk9DVVNFRCBTT0ZUV0FSRSBQUk9DRVNTIElNUFJPVkVNRU5ULCBQUk9DRUVESU5HUycpOw==\"));\n",
       "    "
      ],
      "text/plain": [
       "<IPython.core.display.Javascript object>"
      ]
     },
     "metadata": {},
     "output_type": "display_data"
    },
    {
     "data": {
      "application/javascript": [
       "$('span:contains(\"# Temp\")').closest('.cell').remove();"
      ],
      "text/plain": [
       "<IPython.core.display.Javascript object>"
      ]
     },
     "metadata": {},
     "output_type": "display_data"
    },
    {
     "data": {
      "application/javascript": [
       "\n",
       "        $('span:contains(\"# Temp\")').closest('.cell').remove();\n",
       "        var code = IPython.notebook.insert_cell_below('code');\n",
       "        code.set_text(atob(\"IyBUZW1wCmluc2VydCgnJycnJycpOwpzZXRfYXR0cmlidXRlKCdhbGJ1cXVlcnF1ZTIwMDlhJywgJ2VkaXRvcicsICdCb21hcml1cywgRiBhbmQgT2l2bywgTSBhbmQgSmFyaW5nLCBQIGFuZCBBYnJhaGFtc3NvbiwgUCcpOwpzZXRfYXR0cmlidXRlKCdhbGJ1cXVlcnF1ZTIwMDlhJywgJ3NlcmllcycsICdMZWN0dXJlIE5vdGVzIGluIEJ1c2luZXNzIEluZm9ybWF0aW9uIFByb2Nlc3NpbmcnKTsKc2V0X2F0dHJpYnV0ZSgnYWxidXF1ZXJxdWUyMDA5YScsICdvcmdhbml6YXRpb24nLCAnVlRUIFRlY2ggUmVzIEN0cjsgVW5pdiBPdWx1OyBGcmF1bmhvZmVyIElFU0U7IEthaXNlcnNsYXV0ZXJuOyBVbml2CkhlbHNpbmtpOyBDaXR5IE91bHUnKTsKc2V0X2F0dHJpYnV0ZSgnYWxidXF1ZXJxdWUyMDA5YScsICdpc3NuJywgJzE4NjUtMTM0OCcpOwpzZXRfYXR0cmlidXRlKCdhbGJ1cXVlcnF1ZTIwMDlhJywgJ2lzYm4nLCAnOTc4LTMtNjQyLTAyMTUxLTAnKTsKc2V0X2F0dHJpYnV0ZSgnYWxidXF1ZXJxdWUyMDA5YScsICd1bmlxdWUtaWQnLCAnSVNJOjAwMDI2Nzc5NTQwMDAyNicpOwpzZXRfYXR0cmlidXRlKCdhbGJ1cXVlcnF1ZTIwMDlhJywgJ3dlYm9mc2NpZW5jZScsICcxJyk7CnNldF9hdHRyaWJ1dGUoJ2FsYnVxdWVycXVlMjAwOWEnLCAncGxhY2V4JywgJ1BST0RVQ1QtRk9DVVNFRCBTT0ZUV0FSRSBQUk9DRVNTIElNUFJPVkVNRU5ULCBQUk9DRUVESU5HUycpOw==\"));\n",
       "    "
      ],
      "text/plain": [
       "<IPython.core.display.Javascript object>"
      ]
     },
     "metadata": {},
     "output_type": "display_data"
    },
    {
     "data": {
      "application/javascript": [
       "$('span:contains(\"# Temp\")').closest('.cell').remove();"
      ],
      "text/plain": [
       "<IPython.core.display.Javascript object>"
      ]
     },
     "metadata": {},
     "output_type": "display_data"
    },
    {
     "data": {
      "application/javascript": [
       "\n",
       "        $('span:contains(\"# Temp\")').closest('.cell').remove();\n",
       "        var code = IPython.notebook.insert_cell_below('code');\n",
       "        code.set_text(atob(\"IyBUZW1wCmluc2VydCgnJycKICAgIGJlY2tlcjIwMDhjID0gREIoV29ya1VucmVsYXRlZCgKICAgICAgICAyMDA4LCAiQU4gQVBQUk9BQ0ggVE8gU1VQUE9SVCBUSEUgU1RSQVRFR0lDIEFMSUdOTUVOVCBPRiBTT0ZUV0FSRSBQUk9DRVNTCklNUFJPVkVNRU5UIFBST0dSQU1TIiwKICAgICAgICBkaXNwbGF5PSJiZWNrZXIgYyIsCiAgICAgICAgYXV0aG9ycz0iQmVja2VyLCBBbmRyZSBMdWl6IGFuZCBBdWR5LCBKb3JnZSBMdWlzIE5pY29sYXMgYW5kIFByaWtsYWRuaWNraSwgUmFmYWVsIiwKICAgICAgICBwbGFjZT1GQUtFLAogICAgICAgIHBwPSI2Ni03MyIsCiAgICAgICAgZW50cnl0eXBlPSJpbnByb2NlZWRpbmdzIiwKICAgICAgICBlZGl0b3I9IkNvcmRlaXJvLCBKIGFuZCBGaWxpcGUsIEoiLAogICAgICAgIG5vdGU9IjEwdGggSW50ZXJuYXRpb25hbCBDb25mZXJlbmNlIG9uIEVudGVycHJpc2UgSW5mb3JtYXRpb24gU3lzdGVtcywgQmFyY2Vsb25hLCBTUEFJTiwgSlVOIDEyLTE2LCAyMDA4IiwKICAgICAgICBvcmdhbml6YXRpb249Ikluc3QgU3lzdCAmIFRlY2hub2xvZ2llcyBJbmZvcm1hdCwgQ29udHJvbCAmIENvbW11bjsgV29ya2Zsb3cKTWFuYWdlbWVudCBDb2FsaXQ7IEFzc29jIEFkdiBBcnRpZmljaWFsIEludGVsbGlnZW5jZSIsCiAgICAgICAgaXNibj0iOTc4LTk4OS04MTExLTM4LTgiLAogICAgICAgIHVuaXF1ZS1pZD0iSVNJOjAwMDI1OTYwNTcwMDAxMiIsCiAgICAgICAgSUQ9IklTSTowMDAyNTk2MDU3MDAwMTIiLAogICAgICAgIHdlYm9mc2NpZW5jZT0iMSIsCiAgICAgICAgcGxhY2V4PSJJQ0VJUyAyMDA4OiBQUk9DRUVESU5HUyBPRiBUSEUgVEVOVEggSU5URVJOQVRJT05BTCBDT05GRVJFTkNFIE9OCkVOVEVSUFJJU0UgSU5GT1JNQVRJT04gU1lTVEVNUywgVk9MIElTQVMtMTogSU5GT1JNQVRJT04gU1lTVEVNUyBBTkFMWVNJUwpBTkQgU1BFQ0lGSUNBVElPTiwgVk9MIDEiLAogICAgKSkKJycnKTs=\"));\n",
       "    "
      ],
      "text/plain": [
       "<IPython.core.display.Javascript object>"
      ]
     },
     "metadata": {},
     "output_type": "display_data"
    },
    {
     "data": {
      "application/javascript": [
       "$('span:contains(\"# Temp\")').closest('.cell').remove();"
      ],
      "text/plain": [
       "<IPython.core.display.Javascript object>"
      ]
     },
     "metadata": {},
     "output_type": "display_data"
    },
    {
     "data": {
      "application/javascript": [
       "\n",
       "        $('span:contains(\"# Temp\")').closest('.cell').remove();\n",
       "        var code = IPython.notebook.insert_cell_below('code');\n",
       "        code.set_text(atob(\"IyBUZW1wCmluc2VydCgnJycKICAgIGJlY2tlcjIwMDhjID0gREIoV29ya1VucmVsYXRlZCgKICAgICAgICAyMDA4LCAiQU4gQVBQUk9BQ0ggVE8gU1VQUE9SVCBUSEUgU1RSQVRFR0lDIEFMSUdOTUVOVCBPRiBTT0ZUV0FSRSBQUk9DRVNTCklNUFJPVkVNRU5UIFBST0dSQU1TIiwKICAgICAgICBkaXNwbGF5PSJiZWNrZXIgYyIsCiAgICAgICAgYXV0aG9ycz0iQmVja2VyLCBBbmRyZSBMdWl6IGFuZCBBdWR5LCBKb3JnZSBMdWlzIE5pY29sYXMgYW5kIFByaWtsYWRuaWNraSwgUmFmYWVsIiwKICAgICAgICBwbGFjZT1GQUtFLAogICAgICAgIHBwPSI2Ni03MyIsCiAgICAgICAgZW50cnl0eXBlPSJpbnByb2NlZWRpbmdzIiwKICAgICAgICBlZGl0b3I9IkNvcmRlaXJvLCBKIGFuZCBGaWxpcGUsIEoiLAogICAgICAgIG5vdGU9IjEwdGggSW50ZXJuYXRpb25hbCBDb25mZXJlbmNlIG9uIEVudGVycHJpc2UgSW5mb3JtYXRpb24gU3lzdGVtcywgQmFyY2Vsb25hLCBTUEFJTiwgSlVOIDEyLTE2LCAyMDA4IiwKICAgICAgICBvcmdhbml6YXRpb249Ikluc3QgU3lzdCAmIFRlY2hub2xvZ2llcyBJbmZvcm1hdCwgQ29udHJvbCAmIENvbW11bjsgV29ya2Zsb3cKTWFuYWdlbWVudCBDb2FsaXQ7IEFzc29jIEFkdiBBcnRpZmljaWFsIEludGVsbGlnZW5jZSIsCiAgICAgICAgaXNibj0iOTc4LTk4OS04MTExLTM4LTgiLAogICAgICAgIHVuaXF1ZS1pZD0iSVNJOjAwMDI1OTYwNTcwMDAxMiIsCiAgICAgICAgSUQ9IklTSTowMDAyNTk2MDU3MDAwMTIiLAogICAgICAgIHdlYm9mc2NpZW5jZT0iMSIsCiAgICAgICAgcGxhY2V4PSJJQ0VJUyAyMDA4OiBQUk9DRUVESU5HUyBPRiBUSEUgVEVOVEggSU5URVJOQVRJT05BTCBDT05GRVJFTkNFIE9OCkVOVEVSUFJJU0UgSU5GT1JNQVRJT04gU1lTVEVNUywgVk9MIElTQVMtMTogSU5GT1JNQVRJT04gU1lTVEVNUyBBTkFMWVNJUwpBTkQgU1BFQ0lGSUNBVElPTiwgVk9MIDEiLAogICAgKSkKJycnKTs=\"));\n",
       "    "
      ],
      "text/plain": [
       "<IPython.core.display.Javascript object>"
      ]
     },
     "metadata": {},
     "output_type": "display_data"
    },
    {
     "data": {
      "application/javascript": [
       "$('span:contains(\"# Temp\")').closest('.cell').remove();"
      ],
      "text/plain": [
       "<IPython.core.display.Javascript object>"
      ]
     },
     "metadata": {},
     "output_type": "display_data"
    },
    {
     "data": {
      "application/javascript": [
       "\n",
       "        $('span:contains(\"# Temp\")').closest('.cell').remove();\n",
       "        var code = IPython.notebook.insert_cell_below('code');\n",
       "        code.set_text(atob(\"IyBUZW1wCmluc2VydCgnJycKICAgIGJlY2tlcjIwMDhjID0gREIoV29ya1VucmVsYXRlZCgKICAgICAgICAyMDA4LCAiQU4gQVBQUk9BQ0ggVE8gU1VQUE9SVCBUSEUgU1RSQVRFR0lDIEFMSUdOTUVOVCBPRiBTT0ZUV0FSRSBQUk9DRVNTCklNUFJPVkVNRU5UIFBST0dSQU1TIiwKICAgICAgICBkaXNwbGF5PSJiZWNrZXIgYyIsCiAgICAgICAgYXV0aG9ycz0iQmVja2VyLCBBbmRyZSBMdWl6IGFuZCBBdWR5LCBKb3JnZSBMdWlzIE5pY29sYXMgYW5kIFByaWtsYWRuaWNraSwgUmFmYWVsIiwKICAgICAgICBwbGFjZT1GQUtFLAogICAgICAgIHBwPSI2Ni03MyIsCiAgICAgICAgZW50cnl0eXBlPSJpbnByb2NlZWRpbmdzIiwKICAgICAgICBlZGl0b3I9IkNvcmRlaXJvLCBKIGFuZCBGaWxpcGUsIEoiLAogICAgICAgIG5vdGU9IjEwdGggSW50ZXJuYXRpb25hbCBDb25mZXJlbmNlIG9uIEVudGVycHJpc2UgSW5mb3JtYXRpb24gU3lzdGVtcywgQmFyY2Vsb25hLCBTUEFJTiwgSlVOIDEyLTE2LCAyMDA4IiwKICAgICAgICBvcmdhbml6YXRpb249Ikluc3QgU3lzdCAmIFRlY2hub2xvZ2llcyBJbmZvcm1hdCwgQ29udHJvbCAmIENvbW11bjsgV29ya2Zsb3cKTWFuYWdlbWVudCBDb2FsaXQ7IEFzc29jIEFkdiBBcnRpZmljaWFsIEludGVsbGlnZW5jZSIsCiAgICAgICAgaXNibj0iOTc4LTk4OS04MTExLTM4LTgiLAogICAgICAgIHVuaXF1ZS1pZD0iSVNJOjAwMDI1OTYwNTcwMDAxMiIsCiAgICAgICAgSUQ9IklTSTowMDAyNTk2MDU3MDAwMTIiLAogICAgICAgIHdlYm9mc2NpZW5jZT0iMSIsCiAgICAgICAgcGxhY2V4PSJJQ0VJUyAyMDA4OiBQUk9DRUVESU5HUyBPRiBUSEUgVEVOVEggSU5URVJOQVRJT05BTCBDT05GRVJFTkNFIE9OCkVOVEVSUFJJU0UgSU5GT1JNQVRJT04gU1lTVEVNUywgVk9MIElTQVMtMTogSU5GT1JNQVRJT04gU1lTVEVNUyBBTkFMWVNJUwpBTkQgU1BFQ0lGSUNBVElPTiwgVk9MIDEiLAogICAgKSkKJycnKTs=\"));\n",
       "    "
      ],
      "text/plain": [
       "<IPython.core.display.Javascript object>"
      ]
     },
     "metadata": {},
     "output_type": "display_data"
    }
   ],
   "source": [
    "from custom_snowballing import UnrelatedInsert\n",
    "UnrelatedInsert(\"webofscience\", articles=article_list)"
   ]
  },
  {
   "cell_type": "code",
   "execution_count": 15,
   "metadata": {},
   "outputs": [
    {
     "name": "stdout",
     "output_type": "stream",
     "text": [
      "-Insert: becker2008c\n"
     ]
    }
   ],
   "source": [
    "# Temp\n",
    "insert('''\n",
    "becker2008c = DB(WorkUnrelated(\n",
    "    2008, \"AN APPROACH TO SUPPORT THE STRATEGIC ALIGNMENT OF SOFTWARE PROCESS IMPROVEMENT PROGRAMS\",\n",
    "    display=\"becker c\",\n",
    "    authors=\"Becker, Andre Luiz and Audy, Jorge Luis Nicolas and Prikladnicki, Rafael\",\n",
    "    place=FAKE,\n",
    "    pp=\"66-73\",\n",
    "    entrytype=\"inproceedings\",\n",
    "    editor=\"Cordeiro, J and Filipe, J\",\n",
    "    note=\"10th International Conference on Enterprise Information Systems, Barcelona, SPAIN, JUN 12-16, 2008\",\n",
    "    organization=\"Inst Syst & Technologies Informat, Control & Commun; Workflow Management Coalit; Assoc Adv Artificial Intelligence\",\n",
    "    isbn=\"978-989-8111-38-8\",\n",
    "    ID=\"ISI:000259605700012\",\n",
    "    webofscience=\"1\",\n",
    "    placex=\"ICEIS 2008: PROCEEDINGS OF THE TENTH INTERNATIONAL CONFERENCE ON ENTERPRISE INFORMATION SYSTEMS, VOL ISAS-1: INFORMATION SYSTEMS ANALYSIS AND SPECIFICATION, VOL 1\",\n",
    "))\n",
    "''');"
   ]
  },
  {
   "cell_type": "code",
   "execution_count": null,
   "metadata": {
    "collapsed": true,
    "scrolled": false
   },
   "outputs": [],
   "source": [
    "ArticleNavigator??"
   ]
  },
  {
   "cell_type": "code",
   "execution_count": null,
   "metadata": {
    "collapsed": true
   },
   "outputs": [],
   "source": [
    "ArticleNavigator(articles=article_list)"
   ]
  }
 ],
 "metadata": {
  "kernelspec": {
   "display_name": "Python 3",
   "language": "python",
   "name": "python3"
  },
  "language_info": {
   "codemirror_mode": {
    "name": "ipython",
    "version": 3
   },
   "file_extension": ".py",
   "mimetype": "text/x-python",
   "name": "python",
   "nbconvert_exporter": "python",
   "pygments_lexer": "ipython3",
   "version": "3.6.0"
  },
  "toc": {
   "nav_menu": {
    "height": "12px",
    "width": "252px"
   },
   "number_sections": true,
   "sideBar": true,
   "skip_h1_title": false,
   "toc_cell": false,
   "toc_position": {},
   "toc_section_display": "block",
   "toc_window_display": false
  }
 },
 "nbformat": 4,
 "nbformat_minor": 2
}
