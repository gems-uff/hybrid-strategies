{
 "cells": [
  {
   "cell_type": "code",
   "execution_count": 115,
   "metadata": {
    "collapsed": true
   },
   "outputs": [],
   "source": [
    "import database\n",
    "from snowballing.operations import load_work, reload, work_by_varname\n",
    "from snowballing.snowballing import Converter\n",
    "from snowballing.snowballing import ArticleNavigator\n",
    "from snowballing.dbmanager import insert, set_attribute"
   ]
  },
  {
   "cell_type": "code",
   "execution_count": 117,
   "metadata": {
    "scrolled": false
   },
   "outputs": [
    {
     "data": {
      "application/vnd.jupyter.widget-view+json": {
       "model_id": "e1e0051997924849846a629f70ba7a3e",
       "version_major": 2,
       "version_minor": 0
      },
      "text/html": [
       "<p>Failed to display Jupyter Widget of type <code>VBox</code>.</p>\n",
       "<p>\n",
       "  If you're reading this message in Jupyter Notebook or JupyterLab, it may mean\n",
       "  that the widgets JavaScript is still loading. If this message persists, it\n",
       "  likely means that the widgets JavaScript library is either not installed or\n",
       "  not enabled. See the <a href=\"https://ipywidgets.readthedocs.io/en/stable/user_install.html\">Jupyter\n",
       "  Widgets Documentation</a> for setup instructions.\n",
       "</p>\n",
       "<p>\n",
       "  If you're reading this message in another notebook frontend (for example, a static\n",
       "  rendering on GitHub or <a href=\"https://nbviewer.jupyter.org/\">NBViewer</a>),\n",
       "  it may mean that your frontend doesn't currently support widgets.\n",
       "</p>\n"
      ],
      "text/plain": [
       "VBox(children=(HBox(children=(Dropdown(options={'BibTeX': 'bibtex', 'Text': 'text', '[N] author name place other year': 'citation', 'Quoted': 'quoted'}, value='bibtex'), Button(description='Set article_list variable', style=ButtonStyle()), Label(value=''))), HBox(children=(Textarea(value='', layout=Layout(height='500px', width='50%')), Textarea(value='', layout=Layout(height='500px', width='50%'))))))"
      ]
     },
     "metadata": {},
     "output_type": "display_data"
    }
   ],
   "source": [
    "Converter(\"bibtex\")"
   ]
  },
  {
   "cell_type": "code",
   "execution_count": 118,
   "metadata": {},
   "outputs": [
    {
     "data": {
      "text/plain": [
       "7"
      ]
     },
     "execution_count": 118,
     "metadata": {},
     "output_type": "execute_result"
    }
   ],
   "source": [
    "len(article_list)"
   ]
  },
  {
   "cell_type": "code",
   "execution_count": 119,
   "metadata": {
    "collapsed": true
   },
   "outputs": [],
   "source": [
    "from snowballing.operations import reload\n",
    "reload()\n"
   ]
  },
  {
   "cell_type": "code",
   "execution_count": null,
   "metadata": {
    "collapsed": true
   },
   "outputs": [],
   "source": []
  },
  {
   "cell_type": "code",
   "execution_count": 120,
   "metadata": {},
   "outputs": [
    {
     "data": {
      "application/vnd.jupyter.widget-view+json": {
       "model_id": "01e1628fc4ab41d7915f81d40e8c1eab",
       "version_major": 2,
       "version_minor": 0
      },
      "text/html": [
       "<p>Failed to display Jupyter Widget of type <code>VBox</code>.</p>\n",
       "<p>\n",
       "  If you're reading this message in Jupyter Notebook or JupyterLab, it may mean\n",
       "  that the widgets JavaScript is still loading. If this message persists, it\n",
       "  likely means that the widgets JavaScript library is either not installed or\n",
       "  not enabled. See the <a href=\"https://ipywidgets.readthedocs.io/en/stable/user_install.html\">Jupyter\n",
       "  Widgets Documentation</a> for setup instructions.\n",
       "</p>\n",
       "<p>\n",
       "  If you're reading this message in another notebook frontend (for example, a static\n",
       "  rendering on GitHub or <a href=\"https://nbviewer.jupyter.org/\">NBViewer</a>),\n",
       "  it may mean that your frontend doesn't currently support widgets.\n",
       "</p>\n"
      ],
      "text/plain": [
       "VBox(children=(HBox(children=(Button(description='Previous Article', disabled=True, icon='caret-left', style=ButtonStyle()), Button(description='Reload Article', icon='refresh', style=ButtonStyle()), Button(description='Next Article', icon='caret-right', style=ButtonStyle()))), HBox(children=(Dropdown(description='Type', index=5, options=('Work', 'WorkSnowball', 'WorkForward', 'WorkBackward', 'WorkOk', 'WorkUnrelated', 'WorkNoFile', 'WorkLang', 'Site', 'Email'), value='WorkUnrelated'), ToggleButton(value=False, description='File'))), HBox(children=(Text(value='', description='Due'), Text(value='', description='Place'))), HBox(children=(Text(value='', description='Year'), Text(value='', description='Prefix Var'))), HBox(children=(Text(value='', description='PDFPage'), Text(value='', description='Related'))), HBox(children=(Text(value='', description='Display'), Text(value='', description='Summary'))), HBox(children=(Text(value='', description='Star'), Text(value='', description='Link'))), HBox(children=(Text(value='1', description='sciencedirect'),)), HBox(children=(Button(description='Reload Article', icon='refresh', style=ButtonStyle()), IntSlider(value=0, max=6), Label(value='1/7'))), Output()))"
      ]
     },
     "metadata": {},
     "output_type": "display_data"
    },
    {
     "data": {
      "application/javascript": [
       "$('span:contains(\"# Temp\")').closest('.cell').remove();"
      ],
      "text/plain": [
       "<IPython.core.display.Javascript object>"
      ]
     },
     "metadata": {},
     "output_type": "display_data"
    },
    {
     "data": {
      "application/javascript": [
       "\n",
       "        $('span:contains(\"# Temp\")').closest('.cell').remove();\n",
       "        var code = IPython.notebook.insert_cell_below('code');\n",
       "        code.set_text(atob(\"IyBUZW1wCmluc2VydCgnJycKemVsa293aXRzMjAwMGEgPSBEQihXb3JrVW5yZWxhdGVkKAogICAgMjAwMCwgIlN1YmplY3QgaW5kZXgiLAogICAgZGlzcGxheT0iemVsa293aXRzIiwKICAgIGF1dGhvcnM9Ik1hcnZpbiBWLiBaZWxrb3dpdHMiLAogICAgcGxhY2U9RkFLRSwKICAgIHBwPSI1MTEgLSA1MjMiLAogICAgZW50cnl0eXBlPSJpbmNvbGxlY3Rpb24iLAogICAgZWRpdG9yPSJNYXJ2aW4gVi4gWmVsa293aXRzIiwKICAgIHB1Ymxpc2hlcj0iRWxzZXZpZXIiLAogICAgdm9sdW1lPSI1MyIsCiAgICBzZXJpZXM9IkFkdmFuY2VzIGluIENvbXB1dGVycyIsCiAgICBpc3NuPSIwMDY1LTI0NTgiLAogICAgZG9pPSJodHRwczovL2RvaS5vcmcvMTAuMTAxNi9TMDA2NS0yNDU4KDAwKTgwMDEyLTEiLAogICAgbGluaz0iaHR0cHM6Ly93d3cuc2NpZW5jZWRpcmVjdC5jb20vc2NpZW5jZS9hcnRpY2xlL3BpaS9TMDA2NTI0NTgwMDgwMDEyMSIsCiAgICBrZXk9InRhZ2tleTIwMDA1MTEiLAogICAgSUQ9InRhZ2tleTIwMDA1MTEiLAogICAgc2NpZW5jZWRpcmVjdD0iMSIsCiAgICBwbGFjZXg9IkVtcGhhc2l6aW5nIERpc3RyaWJ1dGVkIFN5c3RlbXMiLAopKQonJycpOw==\"));\n",
       "    "
      ],
      "text/plain": [
       "<IPython.core.display.Javascript object>"
      ]
     },
     "metadata": {},
     "output_type": "display_data"
    },
    {
     "data": {
      "application/javascript": [
       "$('span:contains(\"# Temp\")').closest('.cell').remove();"
      ],
      "text/plain": [
       "<IPython.core.display.Javascript object>"
      ]
     },
     "metadata": {},
     "output_type": "display_data"
    },
    {
     "data": {
      "application/javascript": [
       "\n",
       "        $('span:contains(\"# Temp\")').closest('.cell').remove();\n",
       "        var code = IPython.notebook.insert_cell_below('code');\n",
       "        code.set_text(atob(\"IyBUZW1wCmluc2VydCgnJycKa2luZzE5OTdhID0gREIoV29ya1VucmVsYXRlZCgKICAgIDE5OTcsICJUb29sIHN1cHBvcnQgZm9yIHN5c3RlbXMgZW1lcmdlbmNlOiBBIG11bHRpbWVkaWEgXENBU0VcIHRvb2wiLAogICAgZGlzcGxheT0ia2luZyIsCiAgICBhdXRob3JzPSJTdGVwaGVuIEtpbmciLAogICAgcGxhY2U9SVNULAogICAgcHA9IjMyMyAtIDMzMCIsCiAgICBlbnRyeXR5cGU9ImFydGljbGUiLAogICAgdm9sdW1lPSIzOSIsCiAgICBudW1iZXI9IjUiLAogICAgbm90ZT0iIiwKICAgIGlzc249IjA5NTAtNTg0OSIsCiAgICBkb2k9Imh0dHBzOi8vZG9pLm9yZy8xMC4xMDE2L1MwOTUwLTU4NDkoOTYpMDExNTMtNiIsCiAgICBsaW5rPSJodHRwczovL3d3dy5zY2llbmNlZGlyZWN0LmNvbS9zY2llbmNlL2FydGljbGUvcGlpL1MwOTUwNTg0OTk2MDExNTM2IiwKICAgIGtleXdvcmQ9IkNvbXB1dGVyLWJhc2VkIGxlYXJuaW5nIiwKICAgIElEPSJLaW5nMTk5NzMyMyIsCiAgICBzY2llbmNlZGlyZWN0PSIxIiwKICAgIHBsYWNleD0iSW5mb3JtYXRpb24gYW5kIFNvZnR3YXJlIFRlY2hub2xvZ3kiLAopKQonJycpOw==\"));\n",
       "    "
      ],
      "text/plain": [
       "<IPython.core.display.Javascript object>"
      ]
     },
     "metadata": {},
     "output_type": "display_data"
    },
    {
     "data": {
      "application/javascript": [
       "$('span:contains(\"# Temp\")').closest('.cell').remove();"
      ],
      "text/plain": [
       "<IPython.core.display.Javascript object>"
      ]
     },
     "metadata": {},
     "output_type": "display_data"
    },
    {
     "data": {
      "application/javascript": [
       "\n",
       "        $('span:contains(\"# Temp\")').closest('.cell').remove();\n",
       "        var code = IPython.notebook.insert_cell_below('code');\n",
       "        code.set_text(atob(\"IyBUZW1wCmluc2VydCgnJycKa2luZzE5OTdhID0gREIoV29ya1VucmVsYXRlZCgKICAgIDE5OTcsICJUb29sIHN1cHBvcnQgZm9yIHN5c3RlbXMgZW1lcmdlbmNlOiBBIG11bHRpbWVkaWEgXENBU0VcIHRvb2wiLAogICAgZGlzcGxheT0ia2luZyIsCiAgICBhdXRob3JzPSJTdGVwaGVuIEtpbmciLAogICAgcGxhY2U9SVNULAogICAgcHA9IjMyMyAtIDMzMCIsCiAgICBlbnRyeXR5cGU9ImFydGljbGUiLAogICAgdm9sdW1lPSIzOSIsCiAgICBudW1iZXI9IjUiLAogICAgbm90ZT0iIiwKICAgIGlzc249IjA5NTAtNTg0OSIsCiAgICBkb2k9Imh0dHBzOi8vZG9pLm9yZy8xMC4xMDE2L1MwOTUwLTU4NDkoOTYpMDExNTMtNiIsCiAgICBsaW5rPSJodHRwczovL3d3dy5zY2llbmNlZGlyZWN0LmNvbS9zY2llbmNlL2FydGljbGUvcGlpL1MwOTUwNTg0OTk2MDExNTM2IiwKICAgIGtleXdvcmQ9IkNvbXB1dGVyLWJhc2VkIGxlYXJuaW5nIiwKICAgIElEPSJLaW5nMTk5NzMyMyIsCiAgICBzY2llbmNlZGlyZWN0PSIxIiwKICAgIHBsYWNleD0iSW5mb3JtYXRpb24gYW5kIFNvZnR3YXJlIFRlY2hub2xvZ3kiLAopKQonJycpOw==\"));\n",
       "    "
      ],
      "text/plain": [
       "<IPython.core.display.Javascript object>"
      ]
     },
     "metadata": {},
     "output_type": "display_data"
    },
    {
     "data": {
      "application/javascript": [
       "$('span:contains(\"# Temp\")').closest('.cell').remove();"
      ],
      "text/plain": [
       "<IPython.core.display.Javascript object>"
      ]
     },
     "metadata": {},
     "output_type": "display_data"
    },
    {
     "data": {
      "application/javascript": [
       "\n",
       "        $('span:contains(\"# Temp\")').closest('.cell').remove();\n",
       "        var code = IPython.notebook.insert_cell_below('code');\n",
       "        code.set_text(atob(\"IyBUZW1wCmluc2VydCgnJycKdmVyaG9lZjIwMDdhID0gREIoV29ya1VucmVsYXRlZCgKICAgIDIwMDcsICJRdWFudGlmeWluZyB0aGUgZWZmZWN0cyBvZiBJVC1nb3Zlcm5hbmNlIHJ1bGVzIiwKICAgIGRpc3BsYXk9InZlcmhvZWYiLAogICAgYXV0aG9ycz0iQy4gVmVyaG9lZiIsCiAgICBwbGFjZT1TQ1AsCiAgICBwcD0iMjQ3IC0gMjc3IiwKICAgIGVudHJ5dHlwZT0iYXJ0aWNsZSIsCiAgICB2b2x1bWU9IjY3IiwKICAgIG51bWJlcj0iMpYzIiwKICAgIG5vdGU9IiIsCiAgICBpc3NuPSIwMTY3LTY0MjMiLAogICAgZG9pPSJodHRwczovL2RvaS5vcmcvMTAuMTAxNi9qLnNjaWNvLjIwMDcuMDEuMDEwIiwKICAgIGxpbms9Imh0dHBzOi8vd3d3LnNjaWVuY2VkaXJlY3QuY29tL3NjaWVuY2UvYXJ0aWNsZS9waWkvUzAxNjc2NDIzMDcwMDA3ODAiLAogICAga2V5d29yZD0iU2Vhc29uYWxpdHkgZWZmZWN0cyIsCiAgICBJRD0iVmVyaG9lZjIwMDcyNDciLAogICAgc2NpZW5jZWRpcmVjdD0iMSIsCiAgICBwbGFjZXg9IlNjaWVuY2Ugb2YgQ29tcHV0ZXIgUHJvZ3JhbW1pbmciLAopKQonJycpOw==\"));\n",
       "    "
      ],
      "text/plain": [
       "<IPython.core.display.Javascript object>"
      ]
     },
     "metadata": {},
     "output_type": "display_data"
    },
    {
     "data": {
      "application/javascript": [
       "$('span:contains(\"# Temp\")').closest('.cell').remove();"
      ],
      "text/plain": [
       "<IPython.core.display.Javascript object>"
      ]
     },
     "metadata": {},
     "output_type": "display_data"
    },
    {
     "data": {
      "application/javascript": [
       "\n",
       "        $('span:contains(\"# Temp\")').closest('.cell').remove();\n",
       "        var code = IPython.notebook.insert_cell_below('code');\n",
       "        code.set_text(atob(\"IyBUZW1wCmluc2VydCgnJycKdmVyaG9lZjIwMDdhID0gREIoV29ya1VucmVsYXRlZCgKICAgIDIwMDcsICJRdWFudGlmeWluZyB0aGUgZWZmZWN0cyBvZiBJVC1nb3Zlcm5hbmNlIHJ1bGVzIiwKICAgIGRpc3BsYXk9InZlcmhvZWYiLAogICAgYXV0aG9ycz0iQy4gVmVyaG9lZiIsCiAgICBwbGFjZT1TQ1AsCiAgICBwcD0iMjQ3IC0gMjc3IiwKICAgIGVudHJ5dHlwZT0iYXJ0aWNsZSIsCiAgICB2b2x1bWU9IjY3IiwKICAgIG51bWJlcj0iMpYzIiwKICAgIG5vdGU9IiIsCiAgICBpc3NuPSIwMTY3LTY0MjMiLAogICAgZG9pPSJodHRwczovL2RvaS5vcmcvMTAuMTAxNi9qLnNjaWNvLjIwMDcuMDEuMDEwIiwKICAgIGxpbms9Imh0dHBzOi8vd3d3LnNjaWVuY2VkaXJlY3QuY29tL3NjaWVuY2UvYXJ0aWNsZS9waWkvUzAxNjc2NDIzMDcwMDA3ODAiLAogICAga2V5d29yZD0iU2Vhc29uYWxpdHkgZWZmZWN0cyIsCiAgICBJRD0iVmVyaG9lZjIwMDcyNDciLAogICAgc2NpZW5jZWRpcmVjdD0iMSIsCiAgICBwbGFjZXg9IlNjaWVuY2Ugb2YgQ29tcHV0ZXIgUHJvZ3JhbW1pbmciLAopKQonJycpOw==\"));\n",
       "    "
      ],
      "text/plain": [
       "<IPython.core.display.Javascript object>"
      ]
     },
     "metadata": {},
     "output_type": "display_data"
    },
    {
     "data": {
      "application/javascript": [
       "$('span:contains(\"# Temp\")').closest('.cell').remove();"
      ],
      "text/plain": [
       "<IPython.core.display.Javascript object>"
      ]
     },
     "metadata": {},
     "output_type": "display_data"
    },
    {
     "data": {
      "application/javascript": [
       "\n",
       "        $('span:contains(\"# Temp\")').closest('.cell').remove();\n",
       "        var code = IPython.notebook.insert_cell_below('code');\n",
       "        code.set_text(atob(\"IyBUZW1wCmluc2VydCgnJycKcGV0ZXJzMjAwOGEgPSBEQihXb3JrVW5yZWxhdGVkKAogICAgMjAwOCwgIlF1YW50aWZ5aW5nIHRoZSB5aWVsZCBvZiByaXNrLWJlYXJpbmcgSVQtcG9ydGZvbGlvcyIsCiAgICBkaXNwbGF5PSJwZXRlcnMiLAogICAgYXV0aG9ycz0iUi5KLiBQZXRlcnMgYW5kIEMuIFZlcmhvZWYiLAogICAgcGxhY2U9U0NQLAogICAgcHA9IjE3IC0gNTYiLAogICAgZW50cnl0eXBlPSJhcnRpY2xlIiwKICAgIHZvbHVtZT0iNzEiLAogICAgbnVtYmVyPSIxIiwKICAgIG5vdGU9IiIsCiAgICBpc3NuPSIwMTY3LTY0MjMiLAogICAgZG9pPSJodHRwczovL2RvaS5vcmcvMTAuMTAxNi9qLnNjaWNvLjIwMDcuMTEuMDAxIiwKICAgIGxpbms9Imh0dHBzOi8vd3d3LnNjaWVuY2VkaXJlY3QuY29tL3NjaWVuY2UvYXJ0aWNsZS9waWkvUzAxNjc2NDIzMDcwMDE4OVgiLAogICAga2V5d29yZD0iVGltZSBvdmVyLXJ1bnMiLAogICAgSUQ9IlBldGVyczIwMDgxNyIsCiAgICBzY2llbmNlZGlyZWN0PSIxIiwKICAgIHBsYWNleD0iU2NpZW5jZSBvZiBDb21wdXRlciBQcm9ncmFtbWluZyIsCikpCicnJyk7\"));\n",
       "    "
      ],
      "text/plain": [
       "<IPython.core.display.Javascript object>"
      ]
     },
     "metadata": {},
     "output_type": "display_data"
    },
    {
     "data": {
      "application/javascript": [
       "$('span:contains(\"# Temp\")').closest('.cell').remove();"
      ],
      "text/plain": [
       "<IPython.core.display.Javascript object>"
      ]
     },
     "metadata": {},
     "output_type": "display_data"
    },
    {
     "data": {
      "application/javascript": [
       "\n",
       "        $('span:contains(\"# Temp\")').closest('.cell').remove();\n",
       "        var code = IPython.notebook.insert_cell_below('code');\n",
       "        code.set_text(atob(\"IyBUZW1wCmluc2VydCgnJycKcGV0ZXJzMjAwOGEgPSBEQihXb3JrVW5yZWxhdGVkKAogICAgMjAwOCwgIlF1YW50aWZ5aW5nIHRoZSB5aWVsZCBvZiByaXNrLWJlYXJpbmcgSVQtcG9ydGZvbGlvcyIsCiAgICBkaXNwbGF5PSJwZXRlcnMiLAogICAgYXV0aG9ycz0iUi5KLiBQZXRlcnMgYW5kIEMuIFZlcmhvZWYiLAogICAgcGxhY2U9U0NQLAogICAgcHA9IjE3IC0gNTYiLAogICAgZW50cnl0eXBlPSJhcnRpY2xlIiwKICAgIHZvbHVtZT0iNzEiLAogICAgbnVtYmVyPSIxIiwKICAgIG5vdGU9IiIsCiAgICBpc3NuPSIwMTY3LTY0MjMiLAogICAgZG9pPSJodHRwczovL2RvaS5vcmcvMTAuMTAxNi9qLnNjaWNvLjIwMDcuMTEuMDAxIiwKICAgIGxpbms9Imh0dHBzOi8vd3d3LnNjaWVuY2VkaXJlY3QuY29tL3NjaWVuY2UvYXJ0aWNsZS9waWkvUzAxNjc2NDIzMDcwMDE4OVgiLAogICAga2V5d29yZD0iVGltZSBvdmVyLXJ1bnMiLAogICAgSUQ9IlBldGVyczIwMDgxNyIsCiAgICBzY2llbmNlZGlyZWN0PSIxIiwKICAgIHBsYWNleD0iU2NpZW5jZSBvZiBDb21wdXRlciBQcm9ncmFtbWluZyIsCikpCicnJyk7\"));\n",
       "    "
      ],
      "text/plain": [
       "<IPython.core.display.Javascript object>"
      ]
     },
     "metadata": {},
     "output_type": "display_data"
    },
    {
     "data": {
      "application/javascript": [
       "$('span:contains(\"# Temp\")').closest('.cell').remove();"
      ],
      "text/plain": [
       "<IPython.core.display.Javascript object>"
      ]
     },
     "metadata": {},
     "output_type": "display_data"
    },
    {
     "data": {
      "application/javascript": [
       "\n",
       "        $('span:contains(\"# Temp\")').closest('.cell').remove();\n",
       "        var code = IPython.notebook.insert_cell_below('code');\n",
       "        code.set_text(atob(\"IyBUZW1wCmluc2VydCgnJycKbWFsb3RhdXgyMDA0YSA9IERCKFdvcmtVbnJlbGF0ZWQoCiAgICAyMDA0LCAiQ2hhcHRlciA2IC0gRXZvbHV0aW9uYXJ5IERldmVsb3BtZW50OiBIb3cgdG8gZGVsaXZlciBRdWFsaXR5IE9uIFRpbWUgaW4gU29mdHdhcmUgRGV2ZWxvcG1lbnQgYW5kIFN5c3RlbXMgRW5naW5lZXJpbmcgUHJvamVjdHMiLAogICAgZGlzcGxheT0ibWFsb3RhdXgiLAogICAgYXV0aG9ycz0iTmllbHMgTWFsb3RhdXgiLAogICAgcGxhY2U9RkFLRSwKICAgIHBwPSI3NyAtIDEwMCIsCiAgICBlbnRyeXR5cGU9ImluY29sbGVjdGlvbiIsCiAgICBlZGl0b3I9IkdhbnNzbGUsIEphY2siLAogICAgcHVibGlzaGVyPSJOZXduZXMiLAogICAgZWRpdGlvbj0iIiwKICAgIGFkZHJlc3M9IkJ1cmxpbmd0b24iLAogICAgc2VyaWVzPSJFbWJlZGRlZCBUZWNobm9sb2d5IiwKICAgIGlzYm49Ijk3OC0wLTc1MDYtNzYwNi05IiwKICAgIGRvaT0iaHR0cHM6Ly9kb2kub3JnLzEwLjEwMTYvQjk3OC0wNzUwNjc2MDYtOS81MDAxMC0yIiwKICAgIGxpbms9Imh0dHBzOi8vd3d3LnNjaWVuY2VkaXJlY3QuY29tL3NjaWVuY2UvYXJ0aWNsZS9waWkvQjk3ODA3NTA2NzYwNjk1MDAxMDIiLAogICAgSUQ9Ik1hbG90YXV4MjAwNDc3IiwKICAgIHNjaWVuY2VkaXJlY3Q9IjEiLAogICAgcGxhY2V4PSJUaGUgRmlybXdhcmUgSGFuZGJvb2siLAopKQonJycpOw==\"));\n",
       "    "
      ],
      "text/plain": [
       "<IPython.core.display.Javascript object>"
      ]
     },
     "metadata": {},
     "output_type": "display_data"
    },
    {
     "data": {
      "application/javascript": [
       "$('span:contains(\"# Temp\")').closest('.cell').remove();"
      ],
      "text/plain": [
       "<IPython.core.display.Javascript object>"
      ]
     },
     "metadata": {},
     "output_type": "display_data"
    },
    {
     "data": {
      "application/javascript": [
       "\n",
       "        $('span:contains(\"# Temp\")').closest('.cell').remove();\n",
       "        var code = IPython.notebook.insert_cell_below('code');\n",
       "        code.set_text(atob(\"IyBUZW1wCmluc2VydCgnJycKbWFsb3RhdXgyMDA0YSA9IERCKFdvcmtVbnJlbGF0ZWQoCiAgICAyMDA0LCAiQ2hhcHRlciA2IC0gRXZvbHV0aW9uYXJ5IERldmVsb3BtZW50OiBIb3cgdG8gZGVsaXZlciBRdWFsaXR5IE9uIFRpbWUgaW4gU29mdHdhcmUgRGV2ZWxvcG1lbnQgYW5kIFN5c3RlbXMgRW5naW5lZXJpbmcgUHJvamVjdHMiLAogICAgZGlzcGxheT0ibWFsb3RhdXgiLAogICAgYXV0aG9ycz0iTmllbHMgTWFsb3RhdXgiLAogICAgcGxhY2U9RkFLRSwKICAgIHBwPSI3NyAtIDEwMCIsCiAgICBlbnRyeXR5cGU9ImluY29sbGVjdGlvbiIsCiAgICBlZGl0b3I9IkdhbnNzbGUsIEphY2siLAogICAgcHVibGlzaGVyPSJOZXduZXMiLAogICAgZWRpdGlvbj0iIiwKICAgIGFkZHJlc3M9IkJ1cmxpbmd0b24iLAogICAgc2VyaWVzPSJFbWJlZGRlZCBUZWNobm9sb2d5IiwKICAgIGlzYm49Ijk3OC0wLTc1MDYtNzYwNi05IiwKICAgIGRvaT0iaHR0cHM6Ly9kb2kub3JnLzEwLjEwMTYvQjk3OC0wNzUwNjc2MDYtOS81MDAxMC0yIiwKICAgIGxpbms9Imh0dHBzOi8vd3d3LnNjaWVuY2VkaXJlY3QuY29tL3NjaWVuY2UvYXJ0aWNsZS9waWkvQjk3ODA3NTA2NzYwNjk1MDAxMDIiLAogICAgSUQ9Ik1hbG90YXV4MjAwNDc3IiwKICAgIHNjaWVuY2VkaXJlY3Q9IjEiLAogICAgcGxhY2V4PSJUaGUgRmlybXdhcmUgSGFuZGJvb2siLAopKQonJycpOw==\"));\n",
       "    "
      ],
      "text/plain": [
       "<IPython.core.display.Javascript object>"
      ]
     },
     "metadata": {},
     "output_type": "display_data"
    },
    {
     "data": {
      "application/javascript": [
       "$('span:contains(\"# Temp\")').closest('.cell').remove();"
      ],
      "text/plain": [
       "<IPython.core.display.Javascript object>"
      ]
     },
     "metadata": {},
     "output_type": "display_data"
    },
    {
     "data": {
      "application/javascript": [
       "\n",
       "        $('span:contains(\"# Temp\")').closest('.cell').remove();\n",
       "        var code = IPython.notebook.insert_cell_below('code');\n",
       "        code.set_text(atob(\"IyBUZW1wCmluc2VydCgnJycKZWJlcnQxOTk4YSA9IERCKFdvcmtVbnJlbGF0ZWQoCiAgICAxOTk4LCAiUHV0dGluZyByZXF1aXJlbWVudCBtYW5hZ2VtZW50IGludG8gcHJheGlzOiBkZWFsaW5nIHdpdGggbm9uZnVuY3Rpb25hbCByZXF1aXJlbWVudHMiLAogICAgZGlzcGxheT0iZWJlcnQiLAogICAgYXV0aG9ycz0iQ2hyaXN0b2YgRWJlcnQiLAogICAgcGxhY2U9SVNULAogICAgcHA9IjE3NSAtIDE4NSIsCiAgICBlbnRyeXR5cGU9ImFydGljbGUiLAogICAgdm9sdW1lPSI0MCIsCiAgICBudW1iZXI9IjMiLAogICAgbm90ZT0iIiwKICAgIGlzc249IjA5NTAtNTg0OSIsCiAgICBkb2k9Imh0dHBzOi8vZG9pLm9yZy8xMC4xMDE2L1MwOTUwLTU4NDkoOTgpMDAwNDktNCIsCiAgICBsaW5rPSJodHRwczovL3d3dy5zY2llbmNlZGlyZWN0LmNvbS9zY2llbmNlL2FydGljbGUvcGlpL1MwOTUwNTg0OTk4MDAwNDk0IiwKICAgIGtleXdvcmQ9IlJpc2sgbWFuYWdlbWVudCIsCiAgICBJRD0iRWJlcnQxOTk4MTc1IiwKICAgIHNjaWVuY2VkaXJlY3Q9IjEiLAogICAgcGxhY2V4PSJJbmZvcm1hdGlvbiBhbmQgU29mdHdhcmUgVGVjaG5vbG9neSIsCikpCicnJyk7\"));\n",
       "    "
      ],
      "text/plain": [
       "<IPython.core.display.Javascript object>"
      ]
     },
     "metadata": {},
     "output_type": "display_data"
    },
    {
     "data": {
      "application/javascript": [
       "$('span:contains(\"# Temp\")').closest('.cell').remove();"
      ],
      "text/plain": [
       "<IPython.core.display.Javascript object>"
      ]
     },
     "metadata": {},
     "output_type": "display_data"
    },
    {
     "data": {
      "application/javascript": [
       "\n",
       "        $('span:contains(\"# Temp\")').closest('.cell').remove();\n",
       "        var code = IPython.notebook.insert_cell_below('code');\n",
       "        code.set_text(atob(\"IyBUZW1wCmluc2VydCgnJycKZWJlcnQxOTk4YSA9IERCKFdvcmtVbnJlbGF0ZWQoCiAgICAxOTk4LCAiUHV0dGluZyByZXF1aXJlbWVudCBtYW5hZ2VtZW50IGludG8gcHJheGlzOiBkZWFsaW5nIHdpdGggbm9uZnVuY3Rpb25hbCByZXF1aXJlbWVudHMiLAogICAgZGlzcGxheT0iZWJlcnQiLAogICAgYXV0aG9ycz0iQ2hyaXN0b2YgRWJlcnQiLAogICAgcGxhY2U9SVNULAogICAgcHA9IjE3NSAtIDE4NSIsCiAgICBlbnRyeXR5cGU9ImFydGljbGUiLAogICAgdm9sdW1lPSI0MCIsCiAgICBudW1iZXI9IjMiLAogICAgbm90ZT0iIiwKICAgIGlzc249IjA5NTAtNTg0OSIsCiAgICBkb2k9Imh0dHBzOi8vZG9pLm9yZy8xMC4xMDE2L1MwOTUwLTU4NDkoOTgpMDAwNDktNCIsCiAgICBsaW5rPSJodHRwczovL3d3dy5zY2llbmNlZGlyZWN0LmNvbS9zY2llbmNlL2FydGljbGUvcGlpL1MwOTUwNTg0OTk4MDAwNDk0IiwKICAgIGtleXdvcmQ9IlJpc2sgbWFuYWdlbWVudCIsCiAgICBJRD0iRWJlcnQxOTk4MTc1IiwKICAgIHNjaWVuY2VkaXJlY3Q9IjEiLAogICAgcGxhY2V4PSJJbmZvcm1hdGlvbiBhbmQgU29mdHdhcmUgVGVjaG5vbG9neSIsCikpCicnJyk7\"));\n",
       "    "
      ],
      "text/plain": [
       "<IPython.core.display.Javascript object>"
      ]
     },
     "metadata": {},
     "output_type": "display_data"
    },
    {
     "data": {
      "application/javascript": [
       "$('span:contains(\"# Temp\")').closest('.cell').remove();"
      ],
      "text/plain": [
       "<IPython.core.display.Javascript object>"
      ]
     },
     "metadata": {},
     "output_type": "display_data"
    },
    {
     "data": {
      "application/javascript": [
       "\n",
       "        $('span:contains(\"# Temp\")').closest('.cell').remove();\n",
       "        var code = IPython.notebook.insert_cell_below('code');\n",
       "        code.set_text(atob(\"IyBUZW1wCmluc2VydCgnJycKcm9vazE5OTFhID0gREIoV29ya1VucmVsYXRlZCgKICAgIDE5OTEsICIyNyAtIFByb2plY3QgcGxhbm5pbmcgYW5kIGNvbnRyb2wiLAogICAgZGlzcGxheT0icm9vayIsCiAgICBhdXRob3JzPSJQYXVsIFJvb2siLAogICAgcGxhY2U9RkFLRSwKICAgIHBwPSIyNy8xIC0gMjcvMzYiLAogICAgZW50cnl0eXBlPSJpbmNvbGxlY3Rpb24iLAogICAgZWRpdG9yPSJNY0Rlcm1pZCwgSm9obiBBIiwKICAgIHB1Ymxpc2hlcj0iQnV0dGVyd29ydGgtSGVpbmVtYW5uIiwKICAgIGVkaXRpb249IiIsCiAgICBhZGRyZXNzPSIiLAogICAgaXNibj0iOTc4LTAtNzUwNi0wODEzLTgiLAogICAgZG9pPSJodHRwczovL2RvaS5vcmcvMTAuMTAxNi9COTc4LTAtNzUwNi0wODEzLTguNTAwMzQtNCIsCiAgICBsaW5rPSJodHRwczovL3d3dy5zY2llbmNlZGlyZWN0LmNvbS9zY2llbmNlL2FydGljbGUvcGlpL0I5NzgwNzUwNjA4MTM4NTAwMzQ0IiwKICAgIElEPSJSb29rMTk5MTI3LzEiLAogICAgc2NpZW5jZWRpcmVjdD0iMSIsCiAgICBwbGFjZXg9IlNvZnR3YXJlIEVuZ2luZWVyJ3MgUmVmZXJlbmNlIEJvb2siLAopKQonJycpOw==\"));\n",
       "    "
      ],
      "text/plain": [
       "<IPython.core.display.Javascript object>"
      ]
     },
     "metadata": {},
     "output_type": "display_data"
    },
    {
     "data": {
      "application/javascript": [
       "$('span:contains(\"# Temp\")').closest('.cell').remove();"
      ],
      "text/plain": [
       "<IPython.core.display.Javascript object>"
      ]
     },
     "metadata": {},
     "output_type": "display_data"
    },
    {
     "data": {
      "application/javascript": [
       "\n",
       "        $('span:contains(\"# Temp\")').closest('.cell').remove();\n",
       "        var code = IPython.notebook.insert_cell_below('code');\n",
       "        code.set_text(atob(\"IyBUZW1wCmluc2VydCgnJycKcm9vazE5OTFhID0gREIoV29ya1VucmVsYXRlZCgKICAgIDE5OTEsICIyNyAtIFByb2plY3QgcGxhbm5pbmcgYW5kIGNvbnRyb2wiLAogICAgZGlzcGxheT0icm9vayIsCiAgICBhdXRob3JzPSJQYXVsIFJvb2siLAogICAgcGxhY2U9RkFLRSwKICAgIHBwPSIyNy8xIC0gMjcvMzYiLAogICAgZW50cnl0eXBlPSJpbmNvbGxlY3Rpb24iLAogICAgZWRpdG9yPSJNY0Rlcm1pZCwgSm9obiBBIiwKICAgIHB1Ymxpc2hlcj0iQnV0dGVyd29ydGgtSGVpbmVtYW5uIiwKICAgIGVkaXRpb249IiIsCiAgICBhZGRyZXNzPSIiLAogICAgaXNibj0iOTc4LTAtNzUwNi0wODEzLTgiLAogICAgZG9pPSJodHRwczovL2RvaS5vcmcvMTAuMTAxNi9COTc4LTAtNzUwNi0wODEzLTguNTAwMzQtNCIsCiAgICBsaW5rPSJodHRwczovL3d3dy5zY2llbmNlZGlyZWN0LmNvbS9zY2llbmNlL2FydGljbGUvcGlpL0I5NzgwNzUwNjA4MTM4NTAwMzQ0IiwKICAgIElEPSJSb29rMTk5MTI3LzEiLAogICAgc2NpZW5jZWRpcmVjdD0iMSIsCiAgICBwbGFjZXg9IlNvZnR3YXJlIEVuZ2luZWVyJ3MgUmVmZXJlbmNlIEJvb2siLAopKQonJycpOw==\"));\n",
       "    "
      ],
      "text/plain": [
       "<IPython.core.display.Javascript object>"
      ]
     },
     "metadata": {},
     "output_type": "display_data"
    }
   ],
   "source": [
    "from custom_snowballing import UnrelatedInsert\n",
    "UnrelatedInsert(\"sciencedirect\", articles=article_list)"
   ]
  },
  {
   "cell_type": "code",
   "execution_count": 127,
   "metadata": {},
   "outputs": [
    {
     "name": "stdout",
     "output_type": "stream",
     "text": [
      "-Insert: rook1991a\n"
     ]
    }
   ],
   "source": [
    "# Temp\n",
    "insert('''\n",
    "rook1991a = DB(WorkUnrelated(\n",
    "    1991, \"27 - Project planning and control\",\n",
    "    display=\"rook\",\n",
    "    authors=\"Paul Rook\",\n",
    "    place=FAKE,\n",
    "    pp=\"27/1 - 27/36\",\n",
    "    entrytype=\"incollection\",\n",
    "    editor=\"McDermid, John A\",\n",
    "    publisher=\"Butterworth-Heinemann\",\n",
    "    edition=\"\",\n",
    "    address=\"\",\n",
    "    isbn=\"978-0-7506-0813-8\",\n",
    "    doi=\"https://doi.org/10.1016/B978-0-7506-0813-8.50034-4\",\n",
    "    link=\"https://www.sciencedirect.com/science/article/pii/B9780750608138500344\",\n",
    "    ID=\"Rook199127/1\",\n",
    "    sciencedirect=\"1\",\n",
    "    placex=\"Software Engineer's Reference Book\",\n",
    "))\n",
    "''');"
   ]
  },
  {
   "cell_type": "code",
   "execution_count": null,
   "metadata": {
    "collapsed": true,
    "scrolled": false
   },
   "outputs": [],
   "source": [
    "ArticleNavigator??"
   ]
  },
  {
   "cell_type": "code",
   "execution_count": null,
   "metadata": {
    "collapsed": true
   },
   "outputs": [],
   "source": [
    "ArticleNavigator(articles=article_list)"
   ]
  }
 ],
 "metadata": {
  "kernelspec": {
   "display_name": "Python 3",
   "language": "python",
   "name": "python3"
  },
  "language_info": {
   "codemirror_mode": {
    "name": "ipython",
    "version": 3
   },
   "file_extension": ".py",
   "mimetype": "text/x-python",
   "name": "python",
   "nbconvert_exporter": "python",
   "pygments_lexer": "ipython3",
   "version": "3.6.0"
  },
  "toc": {
   "nav_menu": {
    "height": "12px",
    "width": "252px"
   },
   "number_sections": true,
   "sideBar": true,
   "skip_h1_title": false,
   "toc_cell": false,
   "toc_position": {},
   "toc_section_display": "block",
   "toc_window_display": false
  }
 },
 "nbformat": 4,
 "nbformat_minor": 2
}
