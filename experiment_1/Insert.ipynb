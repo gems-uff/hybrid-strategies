{
 "cells": [
  {
   "cell_type": "code",
   "execution_count": 1,
   "metadata": {
    "collapsed": true
   },
   "outputs": [],
   "source": [
    "import database\n",
    "from snowballing.operations import load_work, reload, work_by_varname\n",
    "from snowballing.snowballing import Converter\n",
    "from snowballing.snowballing import ArticleNavigator\n",
    "from snowballing.dbmanager import insert, set_attribute"
   ]
  },
  {
   "cell_type": "code",
   "execution_count": 2,
   "metadata": {
    "scrolled": false
   },
   "outputs": [
    {
     "data": {
      "application/vnd.jupyter.widget-view+json": {
       "model_id": "40da53b78d04424aaabd24d0d31e44c7",
       "version_major": 2,
       "version_minor": 0
      },
      "text/html": [
       "<p>Failed to display Jupyter Widget of type <code>VBox</code>.</p>\n",
       "<p>\n",
       "  If you're reading this message in Jupyter Notebook or JupyterLab, it may mean\n",
       "  that the widgets JavaScript is still loading. If this message persists, it\n",
       "  likely means that the widgets JavaScript library is either not installed or\n",
       "  not enabled. See the <a href=\"https://ipywidgets.readthedocs.io/en/stable/user_install.html\">Jupyter\n",
       "  Widgets Documentation</a> for setup instructions.\n",
       "</p>\n",
       "<p>\n",
       "  If you're reading this message in another notebook frontend (for example, a static\n",
       "  rendering on GitHub or <a href=\"https://nbviewer.jupyter.org/\">NBViewer</a>),\n",
       "  it may mean that your frontend doesn't currently support widgets.\n",
       "</p>\n"
      ],
      "text/plain": [
       "VBox(children=(HBox(children=(Dropdown(options={'BibTeX': 'bibtex', 'Text': 'text', '[N] author name place other year': 'citation', 'Quoted': 'quoted'}, value='bibtex'), Button(description='Set article_list variable', style=ButtonStyle()), Label(value=''))), HBox(children=(Textarea(value='', layout=Layout(height='500px', width='50%')), Textarea(value='', layout=Layout(height='500px', width='50%'))))))"
      ]
     },
     "metadata": {},
     "output_type": "display_data"
    }
   ],
   "source": [
    "Converter(\"bibtex\")"
   ]
  },
  {
   "cell_type": "code",
   "execution_count": 3,
   "metadata": {},
   "outputs": [
    {
     "data": {
      "text/plain": [
       "57"
      ]
     },
     "execution_count": 3,
     "metadata": {},
     "output_type": "execute_result"
    }
   ],
   "source": [
    "len(article_list)"
   ]
  },
  {
   "cell_type": "code",
   "execution_count": 4,
   "metadata": {},
   "outputs": [],
   "source": [
    "from snowballing.operations import reload\n",
    "reload()\n"
   ]
  },
  {
   "cell_type": "code",
   "execution_count": null,
   "metadata": {
    "collapsed": true
   },
   "outputs": [],
   "source": []
  },
  {
   "cell_type": "code",
   "execution_count": null,
   "metadata": {
    "collapsed": true,
    "scrolled": false
   },
   "outputs": [],
   "source": [
    "ArticleNavigator??"
   ]
  },
  {
   "cell_type": "code",
   "execution_count": null,
   "metadata": {
    "collapsed": true
   },
   "outputs": [],
   "source": []
  },
  {
   "cell_type": "code",
   "execution_count": null,
   "metadata": {
    "collapsed": true
   },
   "outputs": [],
   "source": []
  },
  {
   "cell_type": "code",
   "execution_count": 5,
   "metadata": {},
   "outputs": [
    {
     "data": {
      "application/vnd.jupyter.widget-view+json": {
       "model_id": "5ea851a188bd4aa6a1059e5776f3a9e0",
       "version_major": 2,
       "version_minor": 0
      },
      "text/html": [
       "<p>Failed to display Jupyter Widget of type <code>VBox</code>.</p>\n",
       "<p>\n",
       "  If you're reading this message in Jupyter Notebook or JupyterLab, it may mean\n",
       "  that the widgets JavaScript is still loading. If this message persists, it\n",
       "  likely means that the widgets JavaScript library is either not installed or\n",
       "  not enabled. See the <a href=\"https://ipywidgets.readthedocs.io/en/stable/user_install.html\">Jupyter\n",
       "  Widgets Documentation</a> for setup instructions.\n",
       "</p>\n",
       "<p>\n",
       "  If you're reading this message in another notebook frontend (for example, a static\n",
       "  rendering on GitHub or <a href=\"https://nbviewer.jupyter.org/\">NBViewer</a>),\n",
       "  it may mean that your frontend doesn't currently support widgets.\n",
       "</p>\n"
      ],
      "text/plain": [
       "VBox(children=(HBox(children=(Button(description='Previous Article', disabled=True, icon='caret-left', style=ButtonStyle()), Button(description='Reload Article', icon='refresh', style=ButtonStyle()), Button(description='Next Article', icon='caret-right', style=ButtonStyle()))), HBox(children=(Dropdown(description='Type', index=3, options=('Work', 'WorkSnowball', 'WorkOk', 'WorkUnrelated', 'WorkNoFile', 'WorkLang', 'Site', 'Email'), value='WorkUnrelated'), ToggleButton(value=False, description='File'))), HBox(children=(Text(value='', description='Due'), Text(value='', description='Place'))), HBox(children=(Text(value='', description='Year'), Text(value='', description='Prefix Var'))), HBox(children=(Text(value='', description='PDFPage'), Text(value='', description='Related'))), HBox(children=(Text(value='', description='Display'), Text(value='', description='Summary'))), HBox(children=(Text(value='', description='Star'), Text(value='', description='Link'))), HBox(children=(Text(value='1', description='acm2015'),)), HBox(children=(Button(description='Reload Article', icon='refresh', style=ButtonStyle()), IntSlider(value=0, max=56), Label(value='1/57'))), Output()))"
      ]
     },
     "metadata": {},
     "output_type": "display_data"
    },
    {
     "data": {
      "application/javascript": [
       "$('span:contains(\"# Temp\")').closest('.cell').remove();"
      ],
      "text/plain": [
       "<IPython.core.display.Javascript object>"
      ]
     },
     "metadata": {},
     "output_type": "display_data"
    },
    {
     "data": {
      "application/javascript": [
       "\n",
       "        $('span:contains(\"# Temp\")').closest('.cell').remove();\n",
       "        var code = IPython.notebook.insert_cell_below('code');\n",
       "        code.set_text(decodeURIComponent(window.atob(\"JTIzJTIwVGVtcCUwQWluc2VydCUyOCUyNyUyNyUyNyUwQWRpZWJvbGQyMDE1YSUyMCUzRCUyMERCJTI4V29ya1VucmVsYXRlZCUyOCUwQSUyMCUyMCUyMCUyMDIwMTUlMkMlMjAlMjJUaGUlMjBBZ2lsZSUyMFByYWN0aWNlcyUyMEltcGFjdCUyME1vZGVsJTNBJTIwSWRlYSUyQyUyMENvbmNlcHQlMkMlMjBhbmQlMjBBcHBsaWNhdGlvbiUyMFNjZW5hcmlvJTIyJTJDJTBBJTIwJTIwJTIwJTIwZGlzcGxheSUzRCUyMmRpZWJvbGQlMjIlMkMlMEElMjAlMjAlMjAlMjBhdXRob3JzJTNEJTIyRGllYm9sZCUyQyUyMFBoaWxpcHAlMjBhbmQlMjBaZWhsZXIlMkMlMjBUaG9tYXMlMjIlMkMlMEElMjAlMjAlMjAlMjBwbGFjZSUzREZBS0UlMkMlMEElMjAlMjAlMjAlMjBwcCUzRCUyMjkyLS05NiUyMiUyQyUwQSUyMCUyMCUyMCUyMGVudHJ5dHlwZSUzRCUyMmlucHJvY2VlZGluZ3MlMjIlMkMlMEElMjAlMjAlMjAlMjBzZXJpZXMlM0QlMjJJQ1NTUCUyMDIwMTUlMjIlMkMlMEElMjAlMjAlMjAlMjBpc2JuJTNEJTIyOTc4LTEtNDUwMy0zMzQ2LTclMjIlMkMlMEElMjAlMjAlMjAlMjBsb2NhdGlvbiUzRCUyMlRhbGxpbm4lMkMlMjBFc3RvbmlhJTIyJTJDJTBBJTIwJTIwJTIwJTIwbnVtcGFnZXMlM0QlMjI1JTIyJTJDJTBBJTIwJTIwJTIwJTIwbGluayUzRCUyMmh0dHAlM0EvL2RvaS5hY20ub3JnLzEwLjExNDUvMjc4NTU5Mi4yNzg1NjA5JTIyJTJDJTBBJTIwJTIwJTIwJTIwZG9pJTNEJTIyMTAuMTE0NS8yNzg1NTkyLjI3ODU2MDklMjIlMkMlMEElMjAlMjAlMjAlMjBhY21pZCUzRCUyMjI3ODU2MDklMjIlMkMlMEElMjAlMjAlMjAlMjBwdWJsaXNoZXIlM0QlMjJBQ00lMjIlMkMlMEElMjAlMjAlMjAlMjBhZGRyZXNzJTNEJTIyTmV3JTIwWW9yayUyQyUyME5ZJTJDJTIwVVNBJTIyJTJDJTBBJTIwJTIwJTIwJTIwa2V5d29yZCUzRCUyMkFnaWxlJTIwQ2FwYWJpbGl0eSUyMEFuYWx5c2lzJTJDJTIwQWdpbGUlMjBQcmFjdGljZXMlMkMlMjBBZ2lsZSUyMFByYWN0aWNlcyUyMEltcGFjdCUyQyUyMENhdXNhbCUyME1vZGVsJTJDJTIwSW1wYWN0JTIwTW9kZWwlMjIlMkMlMEElMjAlMjAlMjAlMjBJRCUzRCUyMkRpZWJvbGQlM0EyMDE1JTNBQVBJJTNBMjc4NTU5Mi4yNzg1NjA5JTIyJTJDJTBBJTIwJTIwJTIwJTIwYWNtMjAxNSUzRCUyMjElMjIlMkMlMEElMjAlMjAlMjAlMjBwbGFjZXglM0QlMjJQcm9jZWVkaW5ncyUyMG9mJTIwdGhlJTIwMjAxNSUyMEludGVybmF0aW9uYWwlMjBDb25mZXJlbmNlJTIwb24lMjBTb2Z0d2FyZSUyMGFuZCUyMFN5c3RlbSUyMFByb2Nlc3MlMjIlMkMlMEElMjklMjklMEElMjclMjclMjclMjklM0I=\")));\n",
       "    "
      ],
      "text/plain": [
       "<IPython.core.display.Javascript object>"
      ]
     },
     "metadata": {},
     "output_type": "display_data"
    },
    {
     "data": {
      "application/javascript": [
       "$('span:contains(\"# Temp\")').closest('.cell').remove();"
      ],
      "text/plain": [
       "<IPython.core.display.Javascript object>"
      ]
     },
     "metadata": {},
     "output_type": "display_data"
    },
    {
     "data": {
      "application/javascript": [
       "\n",
       "        $('span:contains(\"# Temp\")').closest('.cell').remove();\n",
       "        var code = IPython.notebook.insert_cell_below('code');\n",
       "        code.set_text(decodeURIComponent(window.atob(\"JTIzJTIwVGVtcCUwQWluc2VydCUyOCUyNyUyNyUyNyUwQWFsdmVzMjAxMGElMjAlM0QlMjBEQiUyOFdvcmtVbnJlbGF0ZWQlMjglMEElMjAlMjAlMjAlMjAyMDEwJTJDJTIwJTIyQnJhemlsaWFuJTIwUHVibGljJTIwU29mdHdhcmUlM0ElMjBCZXlvbmQlMjBTaGFyaW5nJTIyJTJDJTBBJTIwJTIwJTIwJTIwZGlzcGxheSUzRCUyMmFsdmVzJTIyJTJDJTBBJTIwJTIwJTIwJTIwYXV0aG9ycyUzRCUyMkFsdmVzJTJDJTIwQS4lMjBNLiUyMGFuZCUyMFBlc3MlQzMlQjRhJTJDJTIwTWFyY2VsbyUyMiUyQyUwQSUyMCUyMCUyMCUyMHBsYWNlJTNERkFLRSUyQyUwQSUyMCUyMCUyMCUyMHBwJTNEJTIyNzMtLTgwJTIyJTJDJTBBJTIwJTIwJTIwJTIwZW50cnl0eXBlJTNEJTIyaW5wcm9jZWVkaW5ncyUyMiUyQyUwQSUyMCUyMCUyMCUyMHNlcmllcyUzRCUyMk1FREVTJTIwJTI3MTAlMjIlMkMlMEElMjAlMjAlMjAlMjBpc2JuJTNEJTIyOTc4LTEtNDUwMy0wMDQ3LTYlMjIlMkMlMEElMjAlMjAlMjAlMjBsb2NhdGlvbiUzRCUyMkJhbmdrb2slMkMlMjBUaGFpbGFuZCUyMiUyQyUwQSUyMCUyMCUyMCUyMG51bXBhZ2VzJTNEJTIyOCUyMiUyQyUwQSUyMCUyMCUyMCUyMGxpbmslM0QlMjJodHRwJTNBLy9kb2kuYWNtLm9yZy8xMC4xMTQ1LzE5MzYyNTQuMTkzNjI2OCUyMiUyQyUwQSUyMCUyMCUyMCUyMGRvaSUzRCUyMjEwLjExNDUvMTkzNjI1NC4xOTM2MjY4JTIyJTJDJTBBJTIwJTIwJTIwJTIwYWNtaWQlM0QlMjIxOTM2MjY4JTIyJTJDJTBBJTIwJTIwJTIwJTIwcHVibGlzaGVyJTNEJTIyQUNNJTIyJTJDJTBBJTIwJTIwJTIwJTIwYWRkcmVzcyUzRCUyMk5ldyUyMFlvcmslMkMlMjBOWSUyQyUyMFVTQSUyMiUyQyUwQSUyMCUyMCUyMCUyMGtleXdvcmQlM0QlMjJjb21wbGV4JTIwc3lzdGVtJTJDJTIwY29tcGxleCUyMHRoZW9yeSUyMHRoaW5raW5nJTJDJTIwY29vcGVyYXRpdmUlMjBlbmdpbmVlcmluZyUyQyUyMGRpZ2l0YWwlMjBlbWVyZ2luZyUyMGVjb3N5c3RlbSUyQyUyMGUtZ292ZXJubWVudCUyQyUyMG5ldHdvcmslMjBxdWFsaXR5JTIwbW9kZWwlMkMlMjBxdWFsaXR5JTIwaW4lMjBzb2Z0d2FyZSUyMGVjb3N5c3RlbSUyMiUyQyUwQSUyMCUyMCUyMCUyMElEJTNEJTIyQWx2ZXMlM0EyMDEwJTNBQlBTJTNBMTkzNjI1NC4xOTM2MjY4JTIyJTJDJTBBJTIwJTIwJTIwJTIwYWNtMjAxNSUzRCUyMjElMjIlMkMlMEElMjAlMjAlMjAlMjBwbGFjZXglM0QlMjJQcm9jZWVkaW5ncyUyMG9mJTIwdGhlJTIwSW50ZXJuYXRpb25hbCUyMENvbmZlcmVuY2UlMjBvbiUyME1hbmFnZW1lbnQlMjBvZiUyMEVtZXJnZW50JTIwRGlnaXRhbCUyMEVjb1N5c3RlbXMlMjIlMkMlMEElMjklMjklMEElMjclMjclMjclMjklM0I=\")));\n",
       "    "
      ],
      "text/plain": [
       "<IPython.core.display.Javascript object>"
      ]
     },
     "metadata": {},
     "output_type": "display_data"
    },
    {
     "data": {
      "application/javascript": [
       "$('span:contains(\"# Temp\")').closest('.cell').remove();"
      ],
      "text/plain": [
       "<IPython.core.display.Javascript object>"
      ]
     },
     "metadata": {},
     "output_type": "display_data"
    },
    {
     "data": {
      "application/javascript": [
       "\n",
       "        $('span:contains(\"# Temp\")').closest('.cell').remove();\n",
       "        var code = IPython.notebook.insert_cell_below('code');\n",
       "        code.set_text(decodeURIComponent(window.atob(\"JTIzJTIwVGVtcCUwQWluc2VydCUyOCUyNyUyNyUyNyUwQWFsdmVzMjAxMGElMjAlM0QlMjBEQiUyOFdvcmtVbnJlbGF0ZWQlMjglMEElMjAlMjAlMjAlMjAyMDEwJTJDJTIwJTIyQnJhemlsaWFuJTIwUHVibGljJTIwU29mdHdhcmUlM0ElMjBCZXlvbmQlMjBTaGFyaW5nJTIyJTJDJTBBJTIwJTIwJTIwJTIwZGlzcGxheSUzRCUyMmFsdmVzJTIyJTJDJTBBJTIwJTIwJTIwJTIwYXV0aG9ycyUzRCUyMkFsdmVzJTJDJTIwQS4lMjBNLiUyMGFuZCUyMFBlc3MlQzMlQjRhJTJDJTIwTWFyY2VsbyUyMiUyQyUwQSUyMCUyMCUyMCUyMHBsYWNlJTNERkFLRSUyQyUwQSUyMCUyMCUyMCUyMHBwJTNEJTIyNzMtLTgwJTIyJTJDJTBBJTIwJTIwJTIwJTIwZW50cnl0eXBlJTNEJTIyaW5wcm9jZWVkaW5ncyUyMiUyQyUwQSUyMCUyMCUyMCUyMHNlcmllcyUzRCUyMk1FREVTJTIwJTI3MTAlMjIlMkMlMEElMjAlMjAlMjAlMjBpc2JuJTNEJTIyOTc4LTEtNDUwMy0wMDQ3LTYlMjIlMkMlMEElMjAlMjAlMjAlMjBsb2NhdGlvbiUzRCUyMkJhbmdrb2slMkMlMjBUaGFpbGFuZCUyMiUyQyUwQSUyMCUyMCUyMCUyMG51bXBhZ2VzJTNEJTIyOCUyMiUyQyUwQSUyMCUyMCUyMCUyMGxpbmslM0QlMjJodHRwJTNBLy9kb2kuYWNtLm9yZy8xMC4xMTQ1LzE5MzYyNTQuMTkzNjI2OCUyMiUyQyUwQSUyMCUyMCUyMCUyMGRvaSUzRCUyMjEwLjExNDUvMTkzNjI1NC4xOTM2MjY4JTIyJTJDJTBBJTIwJTIwJTIwJTIwYWNtaWQlM0QlMjIxOTM2MjY4JTIyJTJDJTBBJTIwJTIwJTIwJTIwcHVibGlzaGVyJTNEJTIyQUNNJTIyJTJDJTBBJTIwJTIwJTIwJTIwYWRkcmVzcyUzRCUyMk5ldyUyMFlvcmslMkMlMjBOWSUyQyUyMFVTQSUyMiUyQyUwQSUyMCUyMCUyMCUyMGtleXdvcmQlM0QlMjJjb21wbGV4JTIwc3lzdGVtJTJDJTIwY29tcGxleCUyMHRoZW9yeSUyMHRoaW5raW5nJTJDJTIwY29vcGVyYXRpdmUlMjBlbmdpbmVlcmluZyUyQyUyMGRpZ2l0YWwlMjBlbWVyZ2luZyUyMGVjb3N5c3RlbSUyQyUyMGUtZ292ZXJubWVudCUyQyUyMG5ldHdvcmslMjBxdWFsaXR5JTIwbW9kZWwlMkMlMjBxdWFsaXR5JTIwaW4lMjBzb2Z0d2FyZSUyMGVjb3N5c3RlbSUyMiUyQyUwQSUyMCUyMCUyMCUyMElEJTNEJTIyQWx2ZXMlM0EyMDEwJTNBQlBTJTNBMTkzNjI1NC4xOTM2MjY4JTIyJTJDJTBBJTIwJTIwJTIwJTIwYWNtMjAxNSUzRCUyMjElMjIlMkMlMEElMjAlMjAlMjAlMjBwbGFjZXglM0QlMjJQcm9jZWVkaW5ncyUyMG9mJTIwdGhlJTIwSW50ZXJuYXRpb25hbCUyMENvbmZlcmVuY2UlMjBvbiUyME1hbmFnZW1lbnQlMjBvZiUyMEVtZXJnZW50JTIwRGlnaXRhbCUyMEVjb1N5c3RlbXMlMjIlMkMlMEElMjklMjklMEElMjclMjclMjclMjklM0I=\")));\n",
       "    "
      ],
      "text/plain": [
       "<IPython.core.display.Javascript object>"
      ]
     },
     "metadata": {},
     "output_type": "display_data"
    },
    {
     "data": {
      "application/javascript": [
       "$('span:contains(\"# Temp\")').closest('.cell').remove();"
      ],
      "text/plain": [
       "<IPython.core.display.Javascript object>"
      ]
     },
     "metadata": {},
     "output_type": "display_data"
    },
    {
     "data": {
      "application/javascript": [
       "\n",
       "        $('span:contains(\"# Temp\")').closest('.cell').remove();\n",
       "        var code = IPython.notebook.insert_cell_below('code');\n",
       "        code.set_text(decodeURIComponent(window.atob(\"JTIzJTIwVGVtcCUwQWluc2VydCUyOCUyNyUyNyUyNyUwQWhpbHN0MjAxMGElMjAlM0QlMjBEQiUyOFdvcmtVbnJlbGF0ZWQlMjglMEElMjAlMjAlMjAlMjAyMDEwJTJDJTIwJTIyQSUyMFBhdHRlcm4lMjBTeXN0ZW0lMjBvZiUyMFVuZGVybHlpbmclMjBUaGVvcmllcyUyMGZvciUyMFByb2Nlc3MlMjBJbXByb3ZlbWVudCUyMiUyQyUwQSUyMCUyMCUyMCUyMGRpc3BsYXklM0QlMjJoaWxzdCUyMiUyQyUwQSUyMCUyMCUyMCUyMGF1dGhvcnMlM0QlMjJWYW4lMjBIaWxzdCUyQyUyME1pY2hhZWwlMjBhbmQlMjBGZXJuYW5kZXolMkMlMjBFZHVhcmRvJTIwQi4lMjIlMkMlMEElMjAlMjAlMjAlMjBwbGFjZSUzREZBS0UlMkMlMEElMjAlMjAlMjAlMjBwcCUzRCUyMjglM0ExLS04JTNBMjQlMjIlMkMlMEElMjAlMjAlMjAlMjBlbnRyeXR5cGUlM0QlMjJpbnByb2NlZWRpbmdzJTIyJTJDJTBBJTIwJTIwJTIwJTIwc2VyaWVzJTNEJTIyUExPUCUyMCUyNzEwJTIyJTJDJTBBJTIwJTIwJTIwJTIwaXNibiUzRCUyMjk3OC0xLTQ1MDMtMDEwNy03JTIyJTJDJTBBJTIwJTIwJTIwJTIwbG9jYXRpb24lM0QlMjJSZW5vJTJDJTIwTmV2YWRhJTJDJTIwVVNBJTIyJTJDJTBBJTIwJTIwJTIwJTIwYXJ0aWNsZW5vJTNEJTIyOCUyMiUyQyUwQSUyMCUyMCUyMCUyMG51bXBhZ2VzJTNEJTIyMjQlMjIlMkMlMEElMjAlMjAlMjAlMjBsaW5rJTNEJTIyaHR0cCUzQS8vZG9pLmFjbS5vcmcvMTAuMTE0NS8yNDkzMjg4LjI0OTMyOTYlMjIlMkMlMEElMjAlMjAlMjAlMjBkb2klM0QlMjIxMC4xMTQ1LzI0OTMyODguMjQ5MzI5NiUyMiUyQyUwQSUyMCUyMCUyMCUyMGFjbWlkJTNEJTIyMjQ5MzI5NiUyMiUyQyUwQSUyMCUyMCUyMCUyMHB1Ymxpc2hlciUzRCUyMkFDTSUyMiUyQyUwQSUyMCUyMCUyMCUyMGFkZHJlc3MlM0QlMjJOZXclMjBZb3JrJTJDJTIwTlklMkMlMjBVU0ElMjIlMkMlMEElMjAlMjAlMjAlMjBrZXl3b3JkJTNEJTIyYWdpbGUlMkMlMjBiZXN0JTIwcHJhY3RpY2VzJTJDJTIwbGVhbiUyQyUyMHByb2Nlc3MlMjBpbXByb3ZlbWVudCUyMiUyQyUwQSUyMCUyMCUyMCUyMElEJTNEJTIyVmFuSGlsc3QlM0EyMDEwJTNBUFNVJTNBMjQ5MzI4OC4yNDkzMjk2JTIyJTJDJTBBJTIwJTIwJTIwJTIwYWNtMjAxNSUzRCUyMjElMjIlMkMlMEElMjAlMjAlMjAlMjBwbGFjZXglM0QlMjJQcm9jZWVkaW5ncyUyMG9mJTIwdGhlJTIwMTd0aCUyMENvbmZlcmVuY2UlMjBvbiUyMFBhdHRlcm4lMjBMYW5ndWFnZXMlMjBvZiUyMFByb2dyYW1zJTIyJTJDJTBBJTI5JTI5JTBBJTI3JTI3JTI3JTI5JTNC\")));\n",
       "    "
      ],
      "text/plain": [
       "<IPython.core.display.Javascript object>"
      ]
     },
     "metadata": {},
     "output_type": "display_data"
    },
    {
     "data": {
      "application/javascript": [
       "$('span:contains(\"# Temp\")').closest('.cell').remove();"
      ],
      "text/plain": [
       "<IPython.core.display.Javascript object>"
      ]
     },
     "metadata": {},
     "output_type": "display_data"
    },
    {
     "data": {
      "application/javascript": [
       "\n",
       "        $('span:contains(\"# Temp\")').closest('.cell').remove();\n",
       "        var code = IPython.notebook.insert_cell_below('code');\n",
       "        code.set_text(decodeURIComponent(window.atob(\"JTIzJTIwVGVtcCUwQWluc2VydCUyOCUyNyUyNyUyNyUwQWhpbHN0MjAxMGElMjAlM0QlMjBEQiUyOFdvcmtVbnJlbGF0ZWQlMjglMEElMjAlMjAlMjAlMjAyMDEwJTJDJTIwJTIyQSUyMFBhdHRlcm4lMjBTeXN0ZW0lMjBvZiUyMFVuZGVybHlpbmclMjBUaGVvcmllcyUyMGZvciUyMFByb2Nlc3MlMjBJbXByb3ZlbWVudCUyMiUyQyUwQSUyMCUyMCUyMCUyMGRpc3BsYXklM0QlMjJoaWxzdCUyMiUyQyUwQSUyMCUyMCUyMCUyMGF1dGhvcnMlM0QlMjJWYW4lMjBIaWxzdCUyQyUyME1pY2hhZWwlMjBhbmQlMjBGZXJuYW5kZXolMkMlMjBFZHVhcmRvJTIwQi4lMjIlMkMlMEElMjAlMjAlMjAlMjBwbGFjZSUzREZBS0UlMkMlMEElMjAlMjAlMjAlMjBwcCUzRCUyMjglM0ExLS04JTNBMjQlMjIlMkMlMEElMjAlMjAlMjAlMjBlbnRyeXR5cGUlM0QlMjJpbnByb2NlZWRpbmdzJTIyJTJDJTBBJTIwJTIwJTIwJTIwc2VyaWVzJTNEJTIyUExPUCUyMCUyNzEwJTIyJTJDJTBBJTIwJTIwJTIwJTIwaXNibiUzRCUyMjk3OC0xLTQ1MDMtMDEwNy03JTIyJTJDJTBBJTIwJTIwJTIwJTIwbG9jYXRpb24lM0QlMjJSZW5vJTJDJTIwTmV2YWRhJTJDJTIwVVNBJTIyJTJDJTBBJTIwJTIwJTIwJTIwYXJ0aWNsZW5vJTNEJTIyOCUyMiUyQyUwQSUyMCUyMCUyMCUyMG51bXBhZ2VzJTNEJTIyMjQlMjIlMkMlMEElMjAlMjAlMjAlMjBsaW5rJTNEJTIyaHR0cCUzQS8vZG9pLmFjbS5vcmcvMTAuMTE0NS8yNDkzMjg4LjI0OTMyOTYlMjIlMkMlMEElMjAlMjAlMjAlMjBkb2klM0QlMjIxMC4xMTQ1LzI0OTMyODguMjQ5MzI5NiUyMiUyQyUwQSUyMCUyMCUyMCUyMGFjbWlkJTNEJTIyMjQ5MzI5NiUyMiUyQyUwQSUyMCUyMCUyMCUyMHB1Ymxpc2hlciUzRCUyMkFDTSUyMiUyQyUwQSUyMCUyMCUyMCUyMGFkZHJlc3MlM0QlMjJOZXclMjBZb3JrJTJDJTIwTlklMkMlMjBVU0ElMjIlMkMlMEElMjAlMjAlMjAlMjBrZXl3b3JkJTNEJTIyYWdpbGUlMkMlMjBiZXN0JTIwcHJhY3RpY2VzJTJDJTIwbGVhbiUyQyUyMHByb2Nlc3MlMjBpbXByb3ZlbWVudCUyMiUyQyUwQSUyMCUyMCUyMCUyMElEJTNEJTIyVmFuSGlsc3QlM0EyMDEwJTNBUFNVJTNBMjQ5MzI4OC4yNDkzMjk2JTIyJTJDJTBBJTIwJTIwJTIwJTIwYWNtMjAxNSUzRCUyMjElMjIlMkMlMEElMjAlMjAlMjAlMjBwbGFjZXglM0QlMjJQcm9jZWVkaW5ncyUyMG9mJTIwdGhlJTIwMTd0aCUyMENvbmZlcmVuY2UlMjBvbiUyMFBhdHRlcm4lMjBMYW5ndWFnZXMlMjBvZiUyMFByb2dyYW1zJTIyJTJDJTBBJTI5JTI5JTBBJTI3JTI3JTI3JTI5JTNC\")));\n",
       "    "
      ],
      "text/plain": [
       "<IPython.core.display.Javascript object>"
      ]
     },
     "metadata": {},
     "output_type": "display_data"
    },
    {
     "data": {
      "application/javascript": [
       "$('span:contains(\"# Temp\")').closest('.cell').remove();"
      ],
      "text/plain": [
       "<IPython.core.display.Javascript object>"
      ]
     },
     "metadata": {},
     "output_type": "display_data"
    },
    {
     "data": {
      "application/javascript": [
       "\n",
       "        $('span:contains(\"# Temp\")').closest('.cell').remove();\n",
       "        var code = IPython.notebook.insert_cell_below('code');\n",
       "        code.set_text(decodeURIComponent(window.atob(\"JTIzJTIwVGVtcCUwQWluc2VydCUyOCUyNyUyNyUyNyUwQWxlaXRuZXIyMDEwYSUyMCUzRCUyMERCJTI4V29ya1VucmVsYXRlZCUyOCUwQSUyMCUyMCUyMCUyMDIwMTAlMkMlMjAlMjJNYW5hZ2luZyUyMEVSUCUyMENvbmZpZ3VyYXRpb24lMjBWYXJpYW50cyUzQSUyMEFuJTIwRXhwZXJpZW5jZSUyMFJlcG9ydCUyMiUyQyUwQSUyMCUyMCUyMCUyMGRpc3BsYXklM0QlMjJsZWl0bmVyJTIyJTJDJTBBJTIwJTIwJTIwJTIwYXV0aG9ycyUzRCUyMkxlaXRuZXIlMkMlMjBBbmRyZWElMjBhbmQlMjBLcmVpbmVyJTJDJTIwQ2hyaXN0aWFuJTIyJTJDJTBBJTIwJTIwJTIwJTIwcGxhY2UlM0RGQUtFJTJDJTBBJTIwJTIwJTIwJTIwcHAlM0QlMjIyJTNBMS0tMiUzQTYlMjIlMkMlMEElMjAlMjAlMjAlMjBlbnRyeXR5cGUlM0QlMjJpbnByb2NlZWRpbmdzJTIyJTJDJTBBJTIwJTIwJTIwJTIwc2VyaWVzJTNEJTIyS09QTEUlMjAlMjcxMCUyMiUyQyUwQSUyMCUyMCUyMCUyMGlzYm4lM0QlMjI5NzgtMS00NTAzLTA1NDItNiUyMiUyQyUwQSUyMCUyMCUyMCUyMGxvY2F0aW9uJTNEJTIyUmVubyUyQyUyME5ldmFkYSUyMiUyQyUwQSUyMCUyMCUyMCUyMGFydGljbGVubyUzRCUyMjIlMjIlMkMlMEElMjAlMjAlMjAlMjBudW1wYWdlcyUzRCUyMjYlMjIlMkMlMEElMjAlMjAlMjAlMjBsaW5rJTNEJTIyaHR0cCUzQS8vZG9pLmFjbS5vcmcvMTAuMTE0NS8xOTY0MTM4LjE5NjQxNDAlMjIlMkMlMEElMjAlMjAlMjAlMjBkb2klM0QlMjIxMC4xMTQ1LzE5NjQxMzguMTk2NDE0MCUyMiUyQyUwQSUyMCUyMCUyMCUyMGFjbWlkJTNEJTIyMTk2NDE0MCUyMiUyQyUwQSUyMCUyMCUyMCUyMHB1Ymxpc2hlciUzRCUyMkFDTSUyMiUyQyUwQSUyMCUyMCUyMCUyMGFkZHJlc3MlM0QlMjJOZXclMjBZb3JrJTJDJTIwTlklMkMlMjBVU0ElMjIlMkMlMEElMjAlMjAlMjAlMjBrZXl3b3JkJTNEJTIySVQlMjBtYW5hZ2VtZW50JTJDJTIwZW50ZXJwcmlzZSUyMHJlc291cmNlJTIwcGxhbm5pbmclMkMlMjBleHBlcmllbmNlJTIwcmVwb3J0JTJDJTIwc29mdHdhcmUlMjBwcm9kdWN0JTIwbGluZSUyMGVuZ2luZWVyaW5nJTIyJTJDJTBBJTIwJTIwJTIwJTIwSUQlM0QlMjJMZWl0bmVyJTNBMjAxMCUzQU1FQyUzQTE5NjQxMzguMTk2NDE0MCUyMiUyQyUwQSUyMCUyMCUyMCUyMGFjbTIwMTUlM0QlMjIxJTIyJTJDJTBBJTIwJTIwJTIwJTIwcGxhY2V4JTNEJTIyUHJvY2VlZGluZ3MlMjBvZiUyMHRoZSUyMDIwMTAlMjBXb3Jrc2hvcCUyMG9uJTIwS25vd2xlZGdlLU9yaWVudGVkJTIwUHJvZHVjdCUyMExpbmUlMjBFbmdpbmVlcmluZyUyMiUyQyUwQSUyOSUyOSUwQSUyNyUyNyUyNyUyOSUzQg==\")));\n",
       "    "
      ],
      "text/plain": [
       "<IPython.core.display.Javascript object>"
      ]
     },
     "metadata": {},
     "output_type": "display_data"
    },
    {
     "data": {
      "application/javascript": [
       "$('span:contains(\"# Temp\")').closest('.cell').remove();"
      ],
      "text/plain": [
       "<IPython.core.display.Javascript object>"
      ]
     },
     "metadata": {},
     "output_type": "display_data"
    },
    {
     "data": {
      "application/javascript": [
       "\n",
       "        $('span:contains(\"# Temp\")').closest('.cell').remove();\n",
       "        var code = IPython.notebook.insert_cell_below('code');\n",
       "        code.set_text(decodeURIComponent(window.atob(\"JTIzJTIwVGVtcCUwQWluc2VydCUyOCUyNyUyNyUyNyUwQWxlaXRuZXIyMDEwYSUyMCUzRCUyMERCJTI4V29ya1VucmVsYXRlZCUyOCUwQSUyMCUyMCUyMCUyMDIwMTAlMkMlMjAlMjJNYW5hZ2luZyUyMEVSUCUyMENvbmZpZ3VyYXRpb24lMjBWYXJpYW50cyUzQSUyMEFuJTIwRXhwZXJpZW5jZSUyMFJlcG9ydCUyMiUyQyUwQSUyMCUyMCUyMCUyMGRpc3BsYXklM0QlMjJsZWl0bmVyJTIyJTJDJTBBJTIwJTIwJTIwJTIwYXV0aG9ycyUzRCUyMkxlaXRuZXIlMkMlMjBBbmRyZWElMjBhbmQlMjBLcmVpbmVyJTJDJTIwQ2hyaXN0aWFuJTIyJTJDJTBBJTIwJTIwJTIwJTIwcGxhY2UlM0RGQUtFJTJDJTBBJTIwJTIwJTIwJTIwcHAlM0QlMjIyJTNBMS0tMiUzQTYlMjIlMkMlMEElMjAlMjAlMjAlMjBlbnRyeXR5cGUlM0QlMjJpbnByb2NlZWRpbmdzJTIyJTJDJTBBJTIwJTIwJTIwJTIwc2VyaWVzJTNEJTIyS09QTEUlMjAlMjcxMCUyMiUyQyUwQSUyMCUyMCUyMCUyMGlzYm4lM0QlMjI5NzgtMS00NTAzLTA1NDItNiUyMiUyQyUwQSUyMCUyMCUyMCUyMGxvY2F0aW9uJTNEJTIyUmVubyUyQyUyME5ldmFkYSUyMiUyQyUwQSUyMCUyMCUyMCUyMGFydGljbGVubyUzRCUyMjIlMjIlMkMlMEElMjAlMjAlMjAlMjBudW1wYWdlcyUzRCUyMjYlMjIlMkMlMEElMjAlMjAlMjAlMjBsaW5rJTNEJTIyaHR0cCUzQS8vZG9pLmFjbS5vcmcvMTAuMTE0NS8xOTY0MTM4LjE5NjQxNDAlMjIlMkMlMEElMjAlMjAlMjAlMjBkb2klM0QlMjIxMC4xMTQ1LzE5NjQxMzguMTk2NDE0MCUyMiUyQyUwQSUyMCUyMCUyMCUyMGFjbWlkJTNEJTIyMTk2NDE0MCUyMiUyQyUwQSUyMCUyMCUyMCUyMHB1Ymxpc2hlciUzRCUyMkFDTSUyMiUyQyUwQSUyMCUyMCUyMCUyMGFkZHJlc3MlM0QlMjJOZXclMjBZb3JrJTJDJTIwTlklMkMlMjBVU0ElMjIlMkMlMEElMjAlMjAlMjAlMjBrZXl3b3JkJTNEJTIySVQlMjBtYW5hZ2VtZW50JTJDJTIwZW50ZXJwcmlzZSUyMHJlc291cmNlJTIwcGxhbm5pbmclMkMlMjBleHBlcmllbmNlJTIwcmVwb3J0JTJDJTIwc29mdHdhcmUlMjBwcm9kdWN0JTIwbGluZSUyMGVuZ2luZWVyaW5nJTIyJTJDJTBBJTIwJTIwJTIwJTIwSUQlM0QlMjJMZWl0bmVyJTNBMjAxMCUzQU1FQyUzQTE5NjQxMzguMTk2NDE0MCUyMiUyQyUwQSUyMCUyMCUyMCUyMGFjbTIwMTUlM0QlMjIxJTIyJTJDJTBBJTIwJTIwJTIwJTIwcGxhY2V4JTNEJTIyUHJvY2VlZGluZ3MlMjBvZiUyMHRoZSUyMDIwMTAlMjBXb3Jrc2hvcCUyMG9uJTIwS25vd2xlZGdlLU9yaWVudGVkJTIwUHJvZHVjdCUyMExpbmUlMjBFbmdpbmVlcmluZyUyMiUyQyUwQSUyOSUyOSUwQSUyNyUyNyUyNyUyOSUzQg==\")));\n",
       "    "
      ],
      "text/plain": [
       "<IPython.core.display.Javascript object>"
      ]
     },
     "metadata": {},
     "output_type": "display_data"
    },
    {
     "data": {
      "application/javascript": [
       "$('span:contains(\"# Temp\")').closest('.cell').remove();"
      ],
      "text/plain": [
       "<IPython.core.display.Javascript object>"
      ]
     },
     "metadata": {},
     "output_type": "display_data"
    },
    {
     "data": {
      "application/javascript": [
       "\n",
       "        $('span:contains(\"# Temp\")').closest('.cell').remove();\n",
       "        var code = IPython.notebook.insert_cell_below('code');\n",
       "        code.set_text(decodeURIComponent(window.atob(\"JTIzJTIwVGVtcCUwQWluc2VydCUyOCUyNyUyNyUyNyUwQW1hciVDMyVBRG4yMDEzYSUyMCUzRCUyMERCJTI4V29ya1VucmVsYXRlZCUyOCUwQSUyMCUyMCUyMCUyMDIwMTMlMkMlMjAlMjJVc2luZyUyMGElMjBGdW5jdGlvbmFsJTIwU2l6ZSUyME1lYXN1cmVtZW50JTIwUHJvY2VkdXJlJTIwdG8lMjBFdmFsdWF0ZSUyMHRoZSUyMFF1YWxpdHklMjBvZiUyME1vZGVscyUyMGluJTIwTUREJTIwRW52aXJvbm1lbnRzJTIyJTJDJTBBJTIwJTIwJTIwJTIwZGlzcGxheSUzRCUyMm1hciVDMyVBRG4lMjIlMkMlMEElMjAlMjAlMjAlMjBhdXRob3JzJTNEJTIyTWFyJUMzJUFEbiUyQyUyMEJlYXRyaXolMjBhbmQlMjBHaWFjaGV0dGklMkMlMjBHaW92YW5uaSUyMGFuZCUyMFBhc3RvciUyQyUyME9zY2FyJTIwYW5kJTIwVm9zJTJDJTIwVGFuamElMjBFLiUyMEouJTIwYW5kJTIwQWJyYW4lMkMlMjBBbGFpbiUyMiUyQyUwQSUyMCUyMCUyMCUyMHBsYWNlJTNERkFLRSUyQyUwQSUyMCUyMCUyMCUyMHBwJTNEJTIyMjYlM0ExLS0yNiUzQTMxJTIyJTJDJTBBJTIwJTIwJTIwJTIwZW50cnl0eXBlJTNEJTIyYXJ0aWNsZSUyMiUyQyUwQSUyMCUyMCUyMCUyMGlzc3VlX2RhdGUlM0QlMjJKdWx5JTIwMjAxMyUyMiUyQyUwQSUyMCUyMCUyMCUyMHZvbHVtZSUzRCUyMjIyJTIyJTJDJTBBJTIwJTIwJTIwJTIwbnVtYmVyJTNEJTIyMyUyMiUyQyUwQSUyMCUyMCUyMCUyMG1vbnRoJTNEJTIyanVsJTIyJTJDJTBBJTIwJTIwJTIwJTIwaXNzbiUzRCUyMjEwNDktMzMxWCUyMiUyQyUwQSUyMCUyMCUyMCUyMGFydGljbGVubyUzRCUyMjI2JTIyJTJDJTBBJTIwJTIwJTIwJTIwbnVtcGFnZXMlM0QlMjIzMSUyMiUyQyUwQSUyMCUyMCUyMCUyMGxpbmslM0QlMjJodHRwJTNBLy9kb2kuYWNtLm9yZy8xMC4xMTQ1LzI0OTE1MDkuMjQ5MTUyMCUyMiUyQyUwQSUyMCUyMCUyMCUyMGRvaSUzRCUyMjEwLjExNDUvMjQ5MTUwOS4yNDkxNTIwJTIyJTJDJTBBJTIwJTIwJTIwJTIwYWNtaWQlM0QlMjIyNDkxNTIwJTIyJTJDJTBBJTIwJTIwJTIwJTIwcHVibGlzaGVyJTNEJTIyQUNNJTIyJTJDJTBBJTIwJTIwJTIwJTIwYWRkcmVzcyUzRCUyMk5ldyUyMFlvcmslMkMlMjBOWSUyQyUyMFVTQSUyMiUyQyUwQSUyMCUyMCUyMCUyMGtleXdvcmQlM0QlMjJDYXNlJTIwc3R1ZHklMkMlMjBkZWZlY3QlMjBkZXRlY3Rpb24lMkMlMjBmdW5jdGlvbmFsJTIwc2l6ZSUyQyUyMG1vZGVsLWRyaXZlbiUyMGRldmVsb3BtZW50JTIyJTJDJTBBJTIwJTIwJTIwJTIwSUQlM0QlMjJNYXJpbiUzQTIwMTMlM0FVRlMlM0EyNDkxNTA5LjI0OTE1MjAlMjIlMkMlMEElMjAlMjAlMjAlMjBhY20yMDE1JTNEJTIyMSUyMiUyQyUwQSUyMCUyMCUyMCUyMHBsYWNleCUzRCUyMkFDTSUyMFRyYW5zLiUyMFNvZnR3LiUyMEVuZy4lMjBNZXRob2RvbC4lMjIlMkMlMEElMjklMjklMEElMjclMjclMjclMjklM0I=\")));\n",
       "    "
      ],
      "text/plain": [
       "<IPython.core.display.Javascript object>"
      ]
     },
     "metadata": {},
     "output_type": "display_data"
    },
    {
     "data": {
      "application/javascript": [
       "$('span:contains(\"# Temp\")').closest('.cell').remove();"
      ],
      "text/plain": [
       "<IPython.core.display.Javascript object>"
      ]
     },
     "metadata": {},
     "output_type": "display_data"
    },
    {
     "data": {
      "application/javascript": [
       "\n",
       "        $('span:contains(\"# Temp\")').closest('.cell').remove();\n",
       "        var code = IPython.notebook.insert_cell_below('code');\n",
       "        code.set_text(decodeURIComponent(window.atob(\"JTIzJTIwVGVtcCUwQWluc2VydCUyOCUyNyUyNyUyNyUwQW1hciVDMyVBRG4yMDEzYSUyMCUzRCUyMERCJTI4V29ya1VucmVsYXRlZCUyOCUwQSUyMCUyMCUyMCUyMDIwMTMlMkMlMjAlMjJVc2luZyUyMGElMjBGdW5jdGlvbmFsJTIwU2l6ZSUyME1lYXN1cmVtZW50JTIwUHJvY2VkdXJlJTIwdG8lMjBFdmFsdWF0ZSUyMHRoZSUyMFF1YWxpdHklMjBvZiUyME1vZGVscyUyMGluJTIwTUREJTIwRW52aXJvbm1lbnRzJTIyJTJDJTBBJTIwJTIwJTIwJTIwZGlzcGxheSUzRCUyMm1hciVDMyVBRG4lMjIlMkMlMEElMjAlMjAlMjAlMjBhdXRob3JzJTNEJTIyTWFyJUMzJUFEbiUyQyUyMEJlYXRyaXolMjBhbmQlMjBHaWFjaGV0dGklMkMlMjBHaW92YW5uaSUyMGFuZCUyMFBhc3RvciUyQyUyME9zY2FyJTIwYW5kJTIwVm9zJTJDJTIwVGFuamElMjBFLiUyMEouJTIwYW5kJTIwQWJyYW4lMkMlMjBBbGFpbiUyMiUyQyUwQSUyMCUyMCUyMCUyMHBsYWNlJTNERkFLRSUyQyUwQSUyMCUyMCUyMCUyMHBwJTNEJTIyMjYlM0ExLS0yNiUzQTMxJTIyJTJDJTBBJTIwJTIwJTIwJTIwZW50cnl0eXBlJTNEJTIyYXJ0aWNsZSUyMiUyQyUwQSUyMCUyMCUyMCUyMGlzc3VlX2RhdGUlM0QlMjJKdWx5JTIwMjAxMyUyMiUyQyUwQSUyMCUyMCUyMCUyMHZvbHVtZSUzRCUyMjIyJTIyJTJDJTBBJTIwJTIwJTIwJTIwbnVtYmVyJTNEJTIyMyUyMiUyQyUwQSUyMCUyMCUyMCUyMG1vbnRoJTNEJTIyanVsJTIyJTJDJTBBJTIwJTIwJTIwJTIwaXNzbiUzRCUyMjEwNDktMzMxWCUyMiUyQyUwQSUyMCUyMCUyMCUyMGFydGljbGVubyUzRCUyMjI2JTIyJTJDJTBBJTIwJTIwJTIwJTIwbnVtcGFnZXMlM0QlMjIzMSUyMiUyQyUwQSUyMCUyMCUyMCUyMGxpbmslM0QlMjJodHRwJTNBLy9kb2kuYWNtLm9yZy8xMC4xMTQ1LzI0OTE1MDkuMjQ5MTUyMCUyMiUyQyUwQSUyMCUyMCUyMCUyMGRvaSUzRCUyMjEwLjExNDUvMjQ5MTUwOS4yNDkxNTIwJTIyJTJDJTBBJTIwJTIwJTIwJTIwYWNtaWQlM0QlMjIyNDkxNTIwJTIyJTJDJTBBJTIwJTIwJTIwJTIwcHVibGlzaGVyJTNEJTIyQUNNJTIyJTJDJTBBJTIwJTIwJTIwJTIwYWRkcmVzcyUzRCUyMk5ldyUyMFlvcmslMkMlMjBOWSUyQyUyMFVTQSUyMiUyQyUwQSUyMCUyMCUyMCUyMGtleXdvcmQlM0QlMjJDYXNlJTIwc3R1ZHklMkMlMjBkZWZlY3QlMjBkZXRlY3Rpb24lMkMlMjBmdW5jdGlvbmFsJTIwc2l6ZSUyQyUyMG1vZGVsLWRyaXZlbiUyMGRldmVsb3BtZW50JTIyJTJDJTBBJTIwJTIwJTIwJTIwSUQlM0QlMjJNYXJpbiUzQTIwMTMlM0FVRlMlM0EyNDkxNTA5LjI0OTE1MjAlMjIlMkMlMEElMjAlMjAlMjAlMjBhY20yMDE1JTNEJTIyMSUyMiUyQyUwQSUyMCUyMCUyMCUyMHBsYWNleCUzRCUyMkFDTSUyMFRyYW5zLiUyMFNvZnR3LiUyMEVuZy4lMjBNZXRob2RvbC4lMjIlMkMlMEElMjklMjklMEElMjclMjclMjclMjklM0I=\")));\n",
       "    "
      ],
      "text/plain": [
       "<IPython.core.display.Javascript object>"
      ]
     },
     "metadata": {},
     "output_type": "display_data"
    },
    {
     "data": {
      "application/javascript": [
       "$('span:contains(\"# Temp\")').closest('.cell').remove();"
      ],
      "text/plain": [
       "<IPython.core.display.Javascript object>"
      ]
     },
     "metadata": {},
     "output_type": "display_data"
    },
    {
     "data": {
      "application/javascript": [
       "\n",
       "        $('span:contains(\"# Temp\")').closest('.cell').remove();\n",
       "        var code = IPython.notebook.insert_cell_below('code');\n",
       "        code.set_text(decodeURIComponent(window.atob(\"JTIzJTIwVGVtcCUwQWluc2VydCUyOCUyNyUyNyUyNyUwQXNvdWVyMjAxMGElMjAlM0QlMjBEQiUyOFdvcmtVbnJlbGF0ZWQlMjglMEElMjAlMjAlMjAlMjAyMDEwJTJDJTIwJTIyQW4lMjBBcHByb2FjaCUyMHRvJTIwSWRlbnRpZnklMjBDb21tb25hbGl0aWVzJTIwaW4lMjBXZWIlMjBBcHBsaWNhdGlvbiUyMEVuZ2luZWVyaW5nJTIwZm9yJTIwYSUyMFdlYiUyMENvbnRlbnQlMjBNYW5hZ2VtZW50JTIwU3lzdGVtJTIyJTJDJTBBJTIwJTIwJTIwJTIwZGlzcGxheSUzRCUyMnNvdWVyJTIyJTJDJTBBJTIwJTIwJTIwJTIwYXV0aG9ycyUzRCUyMlNvdWVyJTJDJTIwSnVycmlhYW4lMjBhbmQlMjBKb29yJTJDJTIwRGlyay1KYW4lMjIlMkMlMEElMjAlMjAlMjAlMjBwbGFjZSUzREZBS0UlMkMlMEElMjAlMjAlMjAlMjBwcCUzRCUyMjU1OC0tNTY1JTIyJTJDJTBBJTIwJTIwJTIwJTIwZW50cnl0eXBlJTNEJTIyaW5wcm9jZWVkaW5ncyUyMiUyQyUwQSUyMCUyMCUyMCUyMHNlcmllcyUzRCUyMmlpV0FTJTIwJTI3MTAlMjIlMkMlMEElMjAlMjAlMjAlMjBpc2JuJTNEJTIyOTc4LTEtNDUwMy0wNDIxLTQlMjIlMkMlMEElMjAlMjAlMjAlMjBsb2NhdGlvbiUzRCUyMlBhcmlzJTJDJTIwRnJhbmNlJTIyJTJDJTBBJTIwJTIwJTIwJTIwbnVtcGFnZXMlM0QlMjI4JTIyJTJDJTBBJTIwJTIwJTIwJTIwbGluayUzRCUyMmh0dHAlM0EvL2RvaS5hY20ub3JnLzEwLjExNDUvMTk2NzQ4Ni4xOTY3NTcyJTIyJTJDJTBBJTIwJTIwJTIwJTIwZG9pJTNEJTIyMTAuMTE0NS8xOTY3NDg2LjE5Njc1NzIlMjIlMkMlMEElMjAlMjAlMjAlMjBhY21pZCUzRCUyMjE5Njc1NzIlMjIlMkMlMEElMjAlMjAlMjAlMjBwdWJsaXNoZXIlM0QlMjJBQ00lMjIlMkMlMEElMjAlMjAlMjAlMjBhZGRyZXNzJTNEJTIyTmV3JTIwWW9yayUyQyUyME5ZJTJDJTIwVVNBJTIyJTJDJTBBJTIwJTIwJTIwJTIwa2V5d29yZCUzRCUyMnNvZnR3YXJlJTIwcHJvZHVjdCUyMGxpbmVzJTJDJTIwd2ViJTIwY29udGVudCUyMG1hbmFnZW1lbnQlMjBzeXN0ZW0lMkMlMjB3ZWIlMjBlbmdpbmVlcmluZyUyMiUyQyUwQSUyMCUyMCUyMCUyMElEJTNEJTIyU291ZXIlM0EyMDEwJTNBQUlDJTNBMTk2NzQ4Ni4xOTY3NTcyJTIyJTJDJTBBJTIwJTIwJTIwJTIwYWNtMjAxNSUzRCUyMjElMjIlMkMlMEElMjAlMjAlMjAlMjBwbGFjZXglM0QlMjJQcm9jZWVkaW5ncyUyMG9mJTIwdGhlJTIwMTJ0aCUyMEludGVybmF0aW9uYWwlMjBDb25mZXJlbmNlJTIwb24lMjBJbmZvcm1hdGlvbiUyMEludGVncmF0aW9uJTIwYW5kJTIwV2ViLWJhc2VkJTIwQXBwbGljYXRpb25zJTIwJTI2JTIzMzglM0IlMjBTZXJ2aWNlcyUyMiUyQyUwQSUyOSUyOSUwQSUyNyUyNyUyNyUyOSUzQg==\")));\n",
       "    "
      ],
      "text/plain": [
       "<IPython.core.display.Javascript object>"
      ]
     },
     "metadata": {},
     "output_type": "display_data"
    },
    {
     "data": {
      "application/javascript": [
       "$('span:contains(\"# Temp\")').closest('.cell').remove();"
      ],
      "text/plain": [
       "<IPython.core.display.Javascript object>"
      ]
     },
     "metadata": {},
     "output_type": "display_data"
    },
    {
     "data": {
      "application/javascript": [
       "\n",
       "        $('span:contains(\"# Temp\")').closest('.cell').remove();\n",
       "        var code = IPython.notebook.insert_cell_below('code');\n",
       "        code.set_text(decodeURIComponent(window.atob(\"JTIzJTIwVGVtcCUwQWluc2VydCUyOCUyNyUyNyUyNyUwQXNvdWVyMjAxMGElMjAlM0QlMjBEQiUyOFdvcmtVbnJlbGF0ZWQlMjglMEElMjAlMjAlMjAlMjAyMDEwJTJDJTIwJTIyQW4lMjBBcHByb2FjaCUyMHRvJTIwSWRlbnRpZnklMjBDb21tb25hbGl0aWVzJTIwaW4lMjBXZWIlMjBBcHBsaWNhdGlvbiUyMEVuZ2luZWVyaW5nJTIwZm9yJTIwYSUyMFdlYiUyMENvbnRlbnQlMjBNYW5hZ2VtZW50JTIwU3lzdGVtJTIyJTJDJTBBJTIwJTIwJTIwJTIwZGlzcGxheSUzRCUyMnNvdWVyJTIyJTJDJTBBJTIwJTIwJTIwJTIwYXV0aG9ycyUzRCUyMlNvdWVyJTJDJTIwSnVycmlhYW4lMjBhbmQlMjBKb29yJTJDJTIwRGlyay1KYW4lMjIlMkMlMEElMjAlMjAlMjAlMjBwbGFjZSUzREZBS0UlMkMlMEElMjAlMjAlMjAlMjBwcCUzRCUyMjU1OC0tNTY1JTIyJTJDJTBBJTIwJTIwJTIwJTIwZW50cnl0eXBlJTNEJTIyaW5wcm9jZWVkaW5ncyUyMiUyQyUwQSUyMCUyMCUyMCUyMHNlcmllcyUzRCUyMmlpV0FTJTIwJTI3MTAlMjIlMkMlMEElMjAlMjAlMjAlMjBpc2JuJTNEJTIyOTc4LTEtNDUwMy0wNDIxLTQlMjIlMkMlMEElMjAlMjAlMjAlMjBsb2NhdGlvbiUzRCUyMlBhcmlzJTJDJTIwRnJhbmNlJTIyJTJDJTBBJTIwJTIwJTIwJTIwbnVtcGFnZXMlM0QlMjI4JTIyJTJDJTBBJTIwJTIwJTIwJTIwbGluayUzRCUyMmh0dHAlM0EvL2RvaS5hY20ub3JnLzEwLjExNDUvMTk2NzQ4Ni4xOTY3NTcyJTIyJTJDJTBBJTIwJTIwJTIwJTIwZG9pJTNEJTIyMTAuMTE0NS8xOTY3NDg2LjE5Njc1NzIlMjIlMkMlMEElMjAlMjAlMjAlMjBhY21pZCUzRCUyMjE5Njc1NzIlMjIlMkMlMEElMjAlMjAlMjAlMjBwdWJsaXNoZXIlM0QlMjJBQ00lMjIlMkMlMEElMjAlMjAlMjAlMjBhZGRyZXNzJTNEJTIyTmV3JTIwWW9yayUyQyUyME5ZJTJDJTIwVVNBJTIyJTJDJTBBJTIwJTIwJTIwJTIwa2V5d29yZCUzRCUyMnNvZnR3YXJlJTIwcHJvZHVjdCUyMGxpbmVzJTJDJTIwd2ViJTIwY29udGVudCUyMG1hbmFnZW1lbnQlMjBzeXN0ZW0lMkMlMjB3ZWIlMjBlbmdpbmVlcmluZyUyMiUyQyUwQSUyMCUyMCUyMCUyMElEJTNEJTIyU291ZXIlM0EyMDEwJTNBQUlDJTNBMTk2NzQ4Ni4xOTY3NTcyJTIyJTJDJTBBJTIwJTIwJTIwJTIwYWNtMjAxNSUzRCUyMjElMjIlMkMlMEElMjAlMjAlMjAlMjBwbGFjZXglM0QlMjJQcm9jZWVkaW5ncyUyMG9mJTIwdGhlJTIwMTJ0aCUyMEludGVybmF0aW9uYWwlMjBDb25mZXJlbmNlJTIwb24lMjBJbmZvcm1hdGlvbiUyMEludGVncmF0aW9uJTIwYW5kJTIwV2ViLWJhc2VkJTIwQXBwbGljYXRpb25zJTIwJTI2JTIzMzglM0IlMjBTZXJ2aWNlcyUyMiUyQyUwQSUyOSUyOSUwQSUyNyUyNyUyNyUyOSUzQg==\")));\n",
       "    "
      ],
      "text/plain": [
       "<IPython.core.display.Javascript object>"
      ]
     },
     "metadata": {},
     "output_type": "display_data"
    },
    {
     "data": {
      "application/javascript": [
       "$('span:contains(\"# Temp\")').closest('.cell').remove();"
      ],
      "text/plain": [
       "<IPython.core.display.Javascript object>"
      ]
     },
     "metadata": {},
     "output_type": "display_data"
    },
    {
     "data": {
      "application/javascript": [
       "\n",
       "        $('span:contains(\"# Temp\")').closest('.cell').remove();\n",
       "        var code = IPython.notebook.insert_cell_below('code');\n",
       "        code.set_text(decodeURIComponent(window.atob(\"JTIzJTIwVGVtcCUwQWluc2VydCUyOCUyNyUyNyUyNyUyNyUyNyUyNyUyOSUzQg==\")));\n",
       "    "
      ],
      "text/plain": [
       "<IPython.core.display.Javascript object>"
      ]
     },
     "metadata": {},
     "output_type": "display_data"
    },
    {
     "data": {
      "application/javascript": [
       "$('span:contains(\"# Temp\")').closest('.cell').remove();"
      ],
      "text/plain": [
       "<IPython.core.display.Javascript object>"
      ]
     },
     "metadata": {},
     "output_type": "display_data"
    },
    {
     "data": {
      "application/javascript": [
       "\n",
       "        $('span:contains(\"# Temp\")').closest('.cell').remove();\n",
       "        var code = IPython.notebook.insert_cell_below('code');\n",
       "        code.set_text(decodeURIComponent(window.atob(\"JTIzJTIwVGVtcCUwQWluc2VydCUyOCUyNyUyNyUyNyUyNyUyNyUyNyUyOSUzQg==\")));\n",
       "    "
      ],
      "text/plain": [
       "<IPython.core.display.Javascript object>"
      ]
     },
     "metadata": {},
     "output_type": "display_data"
    },
    {
     "data": {
      "application/javascript": [
       "$('span:contains(\"# Temp\")').closest('.cell').remove();"
      ],
      "text/plain": [
       "<IPython.core.display.Javascript object>"
      ]
     },
     "metadata": {},
     "output_type": "display_data"
    },
    {
     "data": {
      "application/javascript": [
       "\n",
       "        $('span:contains(\"# Temp\")').closest('.cell').remove();\n",
       "        var code = IPython.notebook.insert_cell_below('code');\n",
       "        code.set_text(decodeURIComponent(window.atob(\"JTIzJTIwVGVtcCUwQWluc2VydCUyOCUyNyUyNyUyNyUwQXNvdWVyMjAxMGElMjAlM0QlMjBEQiUyOFdvcmtVbnJlbGF0ZWQlMjglMEElMjAlMjAlMjAlMjAyMDEwJTJDJTIwJTIyQW4lMjBBcHByb2FjaCUyMHRvJTIwSWRlbnRpZnklMjBDb21tb25hbGl0aWVzJTIwaW4lMjBXZWIlMjBBcHBsaWNhdGlvbiUyMEVuZ2luZWVyaW5nJTIwZm9yJTIwYSUyMFdlYiUyMENvbnRlbnQlMjBNYW5hZ2VtZW50JTIwU3lzdGVtJTIyJTJDJTBBJTIwJTIwJTIwJTIwZGlzcGxheSUzRCUyMnNvdWVyJTIyJTJDJTBBJTIwJTIwJTIwJTIwYXV0aG9ycyUzRCUyMlNvdWVyJTJDJTIwSnVycmlhYW4lMjBhbmQlMjBKb29yJTJDJTIwRGlyay1KYW4lMjIlMkMlMEElMjAlMjAlMjAlMjBwbGFjZSUzREZBS0UlMkMlMEElMjAlMjAlMjAlMjBwcCUzRCUyMjU1OC0tNTY1JTIyJTJDJTBBJTIwJTIwJTIwJTIwZW50cnl0eXBlJTNEJTIyaW5wcm9jZWVkaW5ncyUyMiUyQyUwQSUyMCUyMCUyMCUyMHNlcmllcyUzRCUyMmlpV0FTJTIwJTI3MTAlMjIlMkMlMEElMjAlMjAlMjAlMjBpc2JuJTNEJTIyOTc4LTEtNDUwMy0wNDIxLTQlMjIlMkMlMEElMjAlMjAlMjAlMjBsb2NhdGlvbiUzRCUyMlBhcmlzJTJDJTIwRnJhbmNlJTIyJTJDJTBBJTIwJTIwJTIwJTIwbnVtcGFnZXMlM0QlMjI4JTIyJTJDJTBBJTIwJTIwJTIwJTIwbGluayUzRCUyMmh0dHAlM0EvL2RvaS5hY20ub3JnLzEwLjExNDUvMTk2NzQ4Ni4xOTY3NTcyJTIyJTJDJTBBJTIwJTIwJTIwJTIwZG9pJTNEJTIyMTAuMTE0NS8xOTY3NDg2LjE5Njc1NzIlMjIlMkMlMEElMjAlMjAlMjAlMjBhY21pZCUzRCUyMjE5Njc1NzIlMjIlMkMlMEElMjAlMjAlMjAlMjBwdWJsaXNoZXIlM0QlMjJBQ00lMjIlMkMlMEElMjAlMjAlMjAlMjBhZGRyZXNzJTNEJTIyTmV3JTIwWW9yayUyQyUyME5ZJTJDJTIwVVNBJTIyJTJDJTBBJTIwJTIwJTIwJTIwa2V5d29yZCUzRCUyMnNvZnR3YXJlJTIwcHJvZHVjdCUyMGxpbmVzJTJDJTIwd2ViJTIwY29udGVudCUyMG1hbmFnZW1lbnQlMjBzeXN0ZW0lMkMlMjB3ZWIlMjBlbmdpbmVlcmluZyUyMiUyQyUwQSUyMCUyMCUyMCUyMElEJTNEJTIyU291ZXIlM0EyMDEwJTNBQUlDJTNBMTk2NzQ4Ni4xOTY3NTcyJTIyJTJDJTBBJTIwJTIwJTIwJTIwYWNtMjAxNSUzRCUyMjElMjIlMkMlMEElMjAlMjAlMjAlMjBwbGFjZXglM0QlMjJQcm9jZWVkaW5ncyUyMG9mJTIwdGhlJTIwMTJ0aCUyMEludGVybmF0aW9uYWwlMjBDb25mZXJlbmNlJTIwb24lMjBJbmZvcm1hdGlvbiUyMEludGVncmF0aW9uJTIwYW5kJTIwV2ViLWJhc2VkJTIwQXBwbGljYXRpb25zJTIwJTI2JTIzMzglM0IlMjBTZXJ2aWNlcyUyMiUyQyUwQSUyOSUyOSUwQSUyNyUyNyUyNyUyOSUzQg==\")));\n",
       "    "
      ],
      "text/plain": [
       "<IPython.core.display.Javascript object>"
      ]
     },
     "metadata": {},
     "output_type": "display_data"
    },
    {
     "data": {
      "application/javascript": [
       "$('span:contains(\"# Temp\")').closest('.cell').remove();"
      ],
      "text/plain": [
       "<IPython.core.display.Javascript object>"
      ]
     },
     "metadata": {},
     "output_type": "display_data"
    },
    {
     "data": {
      "application/javascript": [
       "\n",
       "        $('span:contains(\"# Temp\")').closest('.cell').remove();\n",
       "        var code = IPython.notebook.insert_cell_below('code');\n",
       "        code.set_text(decodeURIComponent(window.atob(\"JTIzJTIwVGVtcCUwQWluc2VydCUyOCUyNyUyNyUyNyUwQXNvdWVyMjAxMGElMjAlM0QlMjBEQiUyOFdvcmtVbnJlbGF0ZWQlMjglMEElMjAlMjAlMjAlMjAyMDEwJTJDJTIwJTIyQW4lMjBBcHByb2FjaCUyMHRvJTIwSWRlbnRpZnklMjBDb21tb25hbGl0aWVzJTIwaW4lMjBXZWIlMjBBcHBsaWNhdGlvbiUyMEVuZ2luZWVyaW5nJTIwZm9yJTIwYSUyMFdlYiUyMENvbnRlbnQlMjBNYW5hZ2VtZW50JTIwU3lzdGVtJTIyJTJDJTBBJTIwJTIwJTIwJTIwZGlzcGxheSUzRCUyMnNvdWVyJTIyJTJDJTBBJTIwJTIwJTIwJTIwYXV0aG9ycyUzRCUyMlNvdWVyJTJDJTIwSnVycmlhYW4lMjBhbmQlMjBKb29yJTJDJTIwRGlyay1KYW4lMjIlMkMlMEElMjAlMjAlMjAlMjBwbGFjZSUzREZBS0UlMkMlMEElMjAlMjAlMjAlMjBwcCUzRCUyMjU1OC0tNTY1JTIyJTJDJTBBJTIwJTIwJTIwJTIwZW50cnl0eXBlJTNEJTIyaW5wcm9jZWVkaW5ncyUyMiUyQyUwQSUyMCUyMCUyMCUyMHNlcmllcyUzRCUyMmlpV0FTJTIwJTI3MTAlMjIlMkMlMEElMjAlMjAlMjAlMjBpc2JuJTNEJTIyOTc4LTEtNDUwMy0wNDIxLTQlMjIlMkMlMEElMjAlMjAlMjAlMjBsb2NhdGlvbiUzRCUyMlBhcmlzJTJDJTIwRnJhbmNlJTIyJTJDJTBBJTIwJTIwJTIwJTIwbnVtcGFnZXMlM0QlMjI4JTIyJTJDJTBBJTIwJTIwJTIwJTIwbGluayUzRCUyMmh0dHAlM0EvL2RvaS5hY20ub3JnLzEwLjExNDUvMTk2NzQ4Ni4xOTY3NTcyJTIyJTJDJTBBJTIwJTIwJTIwJTIwZG9pJTNEJTIyMTAuMTE0NS8xOTY3NDg2LjE5Njc1NzIlMjIlMkMlMEElMjAlMjAlMjAlMjBhY21pZCUzRCUyMjE5Njc1NzIlMjIlMkMlMEElMjAlMjAlMjAlMjBwdWJsaXNoZXIlM0QlMjJBQ00lMjIlMkMlMEElMjAlMjAlMjAlMjBhZGRyZXNzJTNEJTIyTmV3JTIwWW9yayUyQyUyME5ZJTJDJTIwVVNBJTIyJTJDJTBBJTIwJTIwJTIwJTIwa2V5d29yZCUzRCUyMnNvZnR3YXJlJTIwcHJvZHVjdCUyMGxpbmVzJTJDJTIwd2ViJTIwY29udGVudCUyMG1hbmFnZW1lbnQlMjBzeXN0ZW0lMkMlMjB3ZWIlMjBlbmdpbmVlcmluZyUyMiUyQyUwQSUyMCUyMCUyMCUyMElEJTNEJTIyU291ZXIlM0EyMDEwJTNBQUlDJTNBMTk2NzQ4Ni4xOTY3NTcyJTIyJTJDJTBBJTIwJTIwJTIwJTIwYWNtMjAxNSUzRCUyMjElMjIlMkMlMEElMjAlMjAlMjAlMjBwbGFjZXglM0QlMjJQcm9jZWVkaW5ncyUyMG9mJTIwdGhlJTIwMTJ0aCUyMEludGVybmF0aW9uYWwlMjBDb25mZXJlbmNlJTIwb24lMjBJbmZvcm1hdGlvbiUyMEludGVncmF0aW9uJTIwYW5kJTIwV2ViLWJhc2VkJTIwQXBwbGljYXRpb25zJTIwJTI2JTIzMzglM0IlMjBTZXJ2aWNlcyUyMiUyQyUwQSUyOSUyOSUwQSUyNyUyNyUyNyUyOSUzQg==\")));\n",
       "    "
      ],
      "text/plain": [
       "<IPython.core.display.Javascript object>"
      ]
     },
     "metadata": {},
     "output_type": "display_data"
    },
    {
     "data": {
      "application/javascript": [
       "$('span:contains(\"# Temp\")').closest('.cell').remove();"
      ],
      "text/plain": [
       "<IPython.core.display.Javascript object>"
      ]
     },
     "metadata": {},
     "output_type": "display_data"
    },
    {
     "data": {
      "application/javascript": [
       "\n",
       "        $('span:contains(\"# Temp\")').closest('.cell').remove();\n",
       "        var code = IPython.notebook.insert_cell_below('code');\n",
       "        code.set_text(decodeURIComponent(window.atob(\"JTIzJTIwVGVtcCUwQWluc2VydCUyOCUyNyUyNyUyNyUyNyUyNyUyNyUyOSUzQg==\")));\n",
       "    "
      ],
      "text/plain": [
       "<IPython.core.display.Javascript object>"
      ]
     },
     "metadata": {},
     "output_type": "display_data"
    },
    {
     "data": {
      "application/javascript": [
       "$('span:contains(\"# Temp\")').closest('.cell').remove();"
      ],
      "text/plain": [
       "<IPython.core.display.Javascript object>"
      ]
     },
     "metadata": {},
     "output_type": "display_data"
    },
    {
     "data": {
      "application/javascript": [
       "\n",
       "        $('span:contains(\"# Temp\")').closest('.cell').remove();\n",
       "        var code = IPython.notebook.insert_cell_below('code');\n",
       "        code.set_text(decodeURIComponent(window.atob(\"JTIzJTIwVGVtcCUwQWluc2VydCUyOCUyNyUyNyUyNyUyNyUyNyUyNyUyOSUzQg==\")));\n",
       "    "
      ],
      "text/plain": [
       "<IPython.core.display.Javascript object>"
      ]
     },
     "metadata": {},
     "output_type": "display_data"
    },
    {
     "data": {
      "application/javascript": [
       "$('span:contains(\"# Temp\")').closest('.cell').remove();"
      ],
      "text/plain": [
       "<IPython.core.display.Javascript object>"
      ]
     },
     "metadata": {},
     "output_type": "display_data"
    },
    {
     "data": {
      "application/javascript": [
       "\n",
       "        $('span:contains(\"# Temp\")').closest('.cell').remove();\n",
       "        var code = IPython.notebook.insert_cell_below('code');\n",
       "        code.set_text(decodeURIComponent(window.atob(\"JTIzJTIwVGVtcCUwQWluc2VydCUyOCUyNyUyNyUyNyUyNyUyNyUyNyUyOSUzQg==\")));\n",
       "    "
      ],
      "text/plain": [
       "<IPython.core.display.Javascript object>"
      ]
     },
     "metadata": {},
     "output_type": "display_data"
    },
    {
     "data": {
      "application/javascript": [
       "$('span:contains(\"# Temp\")').closest('.cell').remove();"
      ],
      "text/plain": [
       "<IPython.core.display.Javascript object>"
      ]
     },
     "metadata": {},
     "output_type": "display_data"
    },
    {
     "data": {
      "application/javascript": [
       "\n",
       "        $('span:contains(\"# Temp\")').closest('.cell').remove();\n",
       "        var code = IPython.notebook.insert_cell_below('code');\n",
       "        code.set_text(decodeURIComponent(window.atob(\"JTIzJTIwVGVtcCUwQWluc2VydCUyOCUyNyUyNyUyNyUyNyUyNyUyNyUyOSUzQg==\")));\n",
       "    "
      ],
      "text/plain": [
       "<IPython.core.display.Javascript object>"
      ]
     },
     "metadata": {},
     "output_type": "display_data"
    },
    {
     "data": {
      "application/javascript": [
       "$('span:contains(\"# Temp\")').closest('.cell').remove();"
      ],
      "text/plain": [
       "<IPython.core.display.Javascript object>"
      ]
     },
     "metadata": {},
     "output_type": "display_data"
    },
    {
     "data": {
      "application/javascript": [
       "\n",
       "        $('span:contains(\"# Temp\")').closest('.cell').remove();\n",
       "        var code = IPython.notebook.insert_cell_below('code');\n",
       "        code.set_text(decodeURIComponent(window.atob(\"JTIzJTIwVGVtcCUwQWluc2VydCUyOCUyNyUyNyUyNyUyNyUyNyUyNyUyOSUzQg==\")));\n",
       "    "
      ],
      "text/plain": [
       "<IPython.core.display.Javascript object>"
      ]
     },
     "metadata": {},
     "output_type": "display_data"
    },
    {
     "data": {
      "application/javascript": [
       "$('span:contains(\"# Temp\")').closest('.cell').remove();"
      ],
      "text/plain": [
       "<IPython.core.display.Javascript object>"
      ]
     },
     "metadata": {},
     "output_type": "display_data"
    },
    {
     "data": {
      "application/javascript": [
       "\n",
       "        $('span:contains(\"# Temp\")').closest('.cell').remove();\n",
       "        var code = IPython.notebook.insert_cell_below('code');\n",
       "        code.set_text(decodeURIComponent(window.atob(\"JTIzJTIwVGVtcCUwQWluc2VydCUyOCUyNyUyNyUyNyUyNyUyNyUyNyUyOSUzQg==\")));\n",
       "    "
      ],
      "text/plain": [
       "<IPython.core.display.Javascript object>"
      ]
     },
     "metadata": {},
     "output_type": "display_data"
    },
    {
     "data": {
      "application/javascript": [
       "$('span:contains(\"# Temp\")').closest('.cell').remove();"
      ],
      "text/plain": [
       "<IPython.core.display.Javascript object>"
      ]
     },
     "metadata": {},
     "output_type": "display_data"
    },
    {
     "data": {
      "application/javascript": [
       "\n",
       "        $('span:contains(\"# Temp\")').closest('.cell').remove();\n",
       "        var code = IPython.notebook.insert_cell_below('code');\n",
       "        code.set_text(decodeURIComponent(window.atob(\"JTIzJTIwVGVtcCUwQWluc2VydCUyOCUyNyUyNyUyNyUyNyUyNyUyNyUyOSUzQg==\")));\n",
       "    "
      ],
      "text/plain": [
       "<IPython.core.display.Javascript object>"
      ]
     },
     "metadata": {},
     "output_type": "display_data"
    },
    {
     "data": {
      "application/javascript": [
       "$('span:contains(\"# Temp\")').closest('.cell').remove();"
      ],
      "text/plain": [
       "<IPython.core.display.Javascript object>"
      ]
     },
     "metadata": {},
     "output_type": "display_data"
    },
    {
     "data": {
      "application/javascript": [
       "\n",
       "        $('span:contains(\"# Temp\")').closest('.cell').remove();\n",
       "        var code = IPython.notebook.insert_cell_below('code');\n",
       "        code.set_text(decodeURIComponent(window.atob(\"JTIzJTIwVGVtcCUwQWluc2VydCUyOCUyNyUyNyUyNyUyNyUyNyUyNyUyOSUzQg==\")));\n",
       "    "
      ],
      "text/plain": [
       "<IPython.core.display.Javascript object>"
      ]
     },
     "metadata": {},
     "output_type": "display_data"
    },
    {
     "data": {
      "application/javascript": [
       "$('span:contains(\"# Temp\")').closest('.cell').remove();"
      ],
      "text/plain": [
       "<IPython.core.display.Javascript object>"
      ]
     },
     "metadata": {},
     "output_type": "display_data"
    },
    {
     "data": {
      "application/javascript": [
       "\n",
       "        $('span:contains(\"# Temp\")').closest('.cell').remove();\n",
       "        var code = IPython.notebook.insert_cell_below('code');\n",
       "        code.set_text(decodeURIComponent(window.atob(\"JTIzJTIwVGVtcCUwQWluc2VydCUyOCUyNyUyNyUyNyUyNyUyNyUyNyUyOSUzQg==\")));\n",
       "    "
      ],
      "text/plain": [
       "<IPython.core.display.Javascript object>"
      ]
     },
     "metadata": {},
     "output_type": "display_data"
    },
    {
     "data": {
      "application/javascript": [
       "$('span:contains(\"# Temp\")').closest('.cell').remove();"
      ],
      "text/plain": [
       "<IPython.core.display.Javascript object>"
      ]
     },
     "metadata": {},
     "output_type": "display_data"
    },
    {
     "data": {
      "application/javascript": [
       "\n",
       "        $('span:contains(\"# Temp\")').closest('.cell').remove();\n",
       "        var code = IPython.notebook.insert_cell_below('code');\n",
       "        code.set_text(decodeURIComponent(window.atob(\"JTIzJTIwVGVtcCUwQWluc2VydCUyOCUyNyUyNyUyNyUyNyUyNyUyNyUyOSUzQg==\")));\n",
       "    "
      ],
      "text/plain": [
       "<IPython.core.display.Javascript object>"
      ]
     },
     "metadata": {},
     "output_type": "display_data"
    },
    {
     "data": {
      "application/javascript": [
       "$('span:contains(\"# Temp\")').closest('.cell').remove();"
      ],
      "text/plain": [
       "<IPython.core.display.Javascript object>"
      ]
     },
     "metadata": {},
     "output_type": "display_data"
    },
    {
     "data": {
      "application/javascript": [
       "\n",
       "        $('span:contains(\"# Temp\")').closest('.cell').remove();\n",
       "        var code = IPython.notebook.insert_cell_below('code');\n",
       "        code.set_text(decodeURIComponent(window.atob(\"JTIzJTIwVGVtcCUwQWluc2VydCUyOCUyNyUyNyUyNyUyNyUyNyUyNyUyOSUzQg==\")));\n",
       "    "
      ],
      "text/plain": [
       "<IPython.core.display.Javascript object>"
      ]
     },
     "metadata": {},
     "output_type": "display_data"
    },
    {
     "data": {
      "application/javascript": [
       "$('span:contains(\"# Temp\")').closest('.cell').remove();"
      ],
      "text/plain": [
       "<IPython.core.display.Javascript object>"
      ]
     },
     "metadata": {},
     "output_type": "display_data"
    },
    {
     "data": {
      "application/javascript": [
       "\n",
       "        $('span:contains(\"# Temp\")').closest('.cell').remove();\n",
       "        var code = IPython.notebook.insert_cell_below('code');\n",
       "        code.set_text(decodeURIComponent(window.atob(\"JTIzJTIwVGVtcCUwQWluc2VydCUyOCUyNyUyNyUyNyUyNyUyNyUyNyUyOSUzQg==\")));\n",
       "    "
      ],
      "text/plain": [
       "<IPython.core.display.Javascript object>"
      ]
     },
     "metadata": {},
     "output_type": "display_data"
    },
    {
     "data": {
      "application/javascript": [
       "$('span:contains(\"# Temp\")').closest('.cell').remove();"
      ],
      "text/plain": [
       "<IPython.core.display.Javascript object>"
      ]
     },
     "metadata": {},
     "output_type": "display_data"
    },
    {
     "data": {
      "application/javascript": [
       "\n",
       "        $('span:contains(\"# Temp\")').closest('.cell').remove();\n",
       "        var code = IPython.notebook.insert_cell_below('code');\n",
       "        code.set_text(decodeURIComponent(window.atob(\"JTIzJTIwVGVtcCUwQWluc2VydCUyOCUyNyUyNyUyNyUyNyUyNyUyNyUyOSUzQg==\")));\n",
       "    "
      ],
      "text/plain": [
       "<IPython.core.display.Javascript object>"
      ]
     },
     "metadata": {},
     "output_type": "display_data"
    },
    {
     "data": {
      "application/javascript": [
       "$('span:contains(\"# Temp\")').closest('.cell').remove();"
      ],
      "text/plain": [
       "<IPython.core.display.Javascript object>"
      ]
     },
     "metadata": {},
     "output_type": "display_data"
    },
    {
     "data": {
      "application/javascript": [
       "\n",
       "        $('span:contains(\"# Temp\")').closest('.cell').remove();\n",
       "        var code = IPython.notebook.insert_cell_below('code');\n",
       "        code.set_text(decodeURIComponent(window.atob(\"JTIzJTIwVGVtcCUwQWluc2VydCUyOCUyNyUyNyUyNyUyNyUyNyUyNyUyOSUzQg==\")));\n",
       "    "
      ],
      "text/plain": [
       "<IPython.core.display.Javascript object>"
      ]
     },
     "metadata": {},
     "output_type": "display_data"
    },
    {
     "data": {
      "application/javascript": [
       "$('span:contains(\"# Temp\")').closest('.cell').remove();"
      ],
      "text/plain": [
       "<IPython.core.display.Javascript object>"
      ]
     },
     "metadata": {},
     "output_type": "display_data"
    },
    {
     "data": {
      "application/javascript": [
       "\n",
       "        $('span:contains(\"# Temp\")').closest('.cell').remove();\n",
       "        var code = IPython.notebook.insert_cell_below('code');\n",
       "        code.set_text(decodeURIComponent(window.atob(\"JTIzJTIwVGVtcCUwQWluc2VydCUyOCUyNyUyNyUyNyUyNyUyNyUyNyUyOSUzQg==\")));\n",
       "    "
      ],
      "text/plain": [
       "<IPython.core.display.Javascript object>"
      ]
     },
     "metadata": {},
     "output_type": "display_data"
    },
    {
     "data": {
      "application/javascript": [
       "$('span:contains(\"# Temp\")').closest('.cell').remove();"
      ],
      "text/plain": [
       "<IPython.core.display.Javascript object>"
      ]
     },
     "metadata": {},
     "output_type": "display_data"
    },
    {
     "data": {
      "application/javascript": [
       "\n",
       "        $('span:contains(\"# Temp\")').closest('.cell').remove();\n",
       "        var code = IPython.notebook.insert_cell_below('code');\n",
       "        code.set_text(decodeURIComponent(window.atob(\"JTIzJTIwVGVtcCUwQWluc2VydCUyOCUyNyUyNyUyNyUyNyUyNyUyNyUyOSUzQg==\")));\n",
       "    "
      ],
      "text/plain": [
       "<IPython.core.display.Javascript object>"
      ]
     },
     "metadata": {},
     "output_type": "display_data"
    },
    {
     "data": {
      "application/javascript": [
       "$('span:contains(\"# Temp\")').closest('.cell').remove();"
      ],
      "text/plain": [
       "<IPython.core.display.Javascript object>"
      ]
     },
     "metadata": {},
     "output_type": "display_data"
    },
    {
     "data": {
      "application/javascript": [
       "\n",
       "        $('span:contains(\"# Temp\")').closest('.cell').remove();\n",
       "        var code = IPython.notebook.insert_cell_below('code');\n",
       "        code.set_text(decodeURIComponent(window.atob(\"JTIzJTIwVGVtcCUwQWluc2VydCUyOCUyNyUyNyUyNyUyNyUyNyUyNyUyOSUzQg==\")));\n",
       "    "
      ],
      "text/plain": [
       "<IPython.core.display.Javascript object>"
      ]
     },
     "metadata": {},
     "output_type": "display_data"
    },
    {
     "data": {
      "application/javascript": [
       "$('span:contains(\"# Temp\")').closest('.cell').remove();"
      ],
      "text/plain": [
       "<IPython.core.display.Javascript object>"
      ]
     },
     "metadata": {},
     "output_type": "display_data"
    },
    {
     "data": {
      "application/javascript": [
       "\n",
       "        $('span:contains(\"# Temp\")').closest('.cell').remove();\n",
       "        var code = IPython.notebook.insert_cell_below('code');\n",
       "        code.set_text(decodeURIComponent(window.atob(\"JTIzJTIwVGVtcCUwQWluc2VydCUyOCUyNyUyNyUyNyUyNyUyNyUyNyUyOSUzQg==\")));\n",
       "    "
      ],
      "text/plain": [
       "<IPython.core.display.Javascript object>"
      ]
     },
     "metadata": {},
     "output_type": "display_data"
    },
    {
     "data": {
      "application/javascript": [
       "$('span:contains(\"# Temp\")').closest('.cell').remove();"
      ],
      "text/plain": [
       "<IPython.core.display.Javascript object>"
      ]
     },
     "metadata": {},
     "output_type": "display_data"
    },
    {
     "data": {
      "application/javascript": [
       "\n",
       "        $('span:contains(\"# Temp\")').closest('.cell').remove();\n",
       "        var code = IPython.notebook.insert_cell_below('code');\n",
       "        code.set_text(decodeURIComponent(window.atob(\"JTIzJTIwVGVtcCUwQWluc2VydCUyOCUyNyUyNyUyNyUwQXNvdWVyMjAxMGElMjAlM0QlMjBEQiUyOFdvcmtVbnJlbGF0ZWQlMjglMEElMjAlMjAlMjAlMjAyMDEwJTJDJTIwJTIyQW4lMjBBcHByb2FjaCUyMHRvJTIwSWRlbnRpZnklMjBDb21tb25hbGl0aWVzJTIwaW4lMjBXZWIlMjBBcHBsaWNhdGlvbiUyMEVuZ2luZWVyaW5nJTIwZm9yJTIwYSUyMFdlYiUyMENvbnRlbnQlMjBNYW5hZ2VtZW50JTIwU3lzdGVtJTIyJTJDJTBBJTIwJTIwJTIwJTIwZGlzcGxheSUzRCUyMnNvdWVyJTIyJTJDJTBBJTIwJTIwJTIwJTIwYXV0aG9ycyUzRCUyMlNvdWVyJTJDJTIwSnVycmlhYW4lMjBhbmQlMjBKb29yJTJDJTIwRGlyay1KYW4lMjIlMkMlMEElMjAlMjAlMjAlMjBwbGFjZSUzREZBS0UlMkMlMEElMjAlMjAlMjAlMjBwcCUzRCUyMjU1OC0tNTY1JTIyJTJDJTBBJTIwJTIwJTIwJTIwZW50cnl0eXBlJTNEJTIyaW5wcm9jZWVkaW5ncyUyMiUyQyUwQSUyMCUyMCUyMCUyMHNlcmllcyUzRCUyMmlpV0FTJTIwJTI3MTAlMjIlMkMlMEElMjAlMjAlMjAlMjBpc2JuJTNEJTIyOTc4LTEtNDUwMy0wNDIxLTQlMjIlMkMlMEElMjAlMjAlMjAlMjBsb2NhdGlvbiUzRCUyMlBhcmlzJTJDJTIwRnJhbmNlJTIyJTJDJTBBJTIwJTIwJTIwJTIwbnVtcGFnZXMlM0QlMjI4JTIyJTJDJTBBJTIwJTIwJTIwJTIwbGluayUzRCUyMmh0dHAlM0EvL2RvaS5hY20ub3JnLzEwLjExNDUvMTk2NzQ4Ni4xOTY3NTcyJTIyJTJDJTBBJTIwJTIwJTIwJTIwZG9pJTNEJTIyMTAuMTE0NS8xOTY3NDg2LjE5Njc1NzIlMjIlMkMlMEElMjAlMjAlMjAlMjBhY21pZCUzRCUyMjE5Njc1NzIlMjIlMkMlMEElMjAlMjAlMjAlMjBwdWJsaXNoZXIlM0QlMjJBQ00lMjIlMkMlMEElMjAlMjAlMjAlMjBhZGRyZXNzJTNEJTIyTmV3JTIwWW9yayUyQyUyME5ZJTJDJTIwVVNBJTIyJTJDJTBBJTIwJTIwJTIwJTIwa2V5d29yZCUzRCUyMnNvZnR3YXJlJTIwcHJvZHVjdCUyMGxpbmVzJTJDJTIwd2ViJTIwY29udGVudCUyMG1hbmFnZW1lbnQlMjBzeXN0ZW0lMkMlMjB3ZWIlMjBlbmdpbmVlcmluZyUyMiUyQyUwQSUyMCUyMCUyMCUyMElEJTNEJTIyU291ZXIlM0EyMDEwJTNBQUlDJTNBMTk2NzQ4Ni4xOTY3NTcyJTIyJTJDJTBBJTIwJTIwJTIwJTIwYWNtMjAxNSUzRCUyMjElMjIlMkMlMEElMjAlMjAlMjAlMjBwbGFjZXglM0QlMjJQcm9jZWVkaW5ncyUyMG9mJTIwdGhlJTIwMTJ0aCUyMEludGVybmF0aW9uYWwlMjBDb25mZXJlbmNlJTIwb24lMjBJbmZvcm1hdGlvbiUyMEludGVncmF0aW9uJTIwYW5kJTIwV2ViLWJhc2VkJTIwQXBwbGljYXRpb25zJTIwJTI2JTIzMzglM0IlMjBTZXJ2aWNlcyUyMiUyQyUwQSUyOSUyOSUwQSUyNyUyNyUyNyUyOSUzQg==\")));\n",
       "    "
      ],
      "text/plain": [
       "<IPython.core.display.Javascript object>"
      ]
     },
     "metadata": {},
     "output_type": "display_data"
    },
    {
     "data": {
      "application/javascript": [
       "$('span:contains(\"# Temp\")').closest('.cell').remove();"
      ],
      "text/plain": [
       "<IPython.core.display.Javascript object>"
      ]
     },
     "metadata": {},
     "output_type": "display_data"
    },
    {
     "data": {
      "application/javascript": [
       "\n",
       "        $('span:contains(\"# Temp\")').closest('.cell').remove();\n",
       "        var code = IPython.notebook.insert_cell_below('code');\n",
       "        code.set_text(decodeURIComponent(window.atob(\"JTIzJTIwVGVtcCUwQWluc2VydCUyOCUyNyUyNyUyNyUwQXNvdWVyMjAxMGElMjAlM0QlMjBEQiUyOFdvcmtVbnJlbGF0ZWQlMjglMEElMjAlMjAlMjAlMjAyMDEwJTJDJTIwJTIyQW4lMjBBcHByb2FjaCUyMHRvJTIwSWRlbnRpZnklMjBDb21tb25hbGl0aWVzJTIwaW4lMjBXZWIlMjBBcHBsaWNhdGlvbiUyMEVuZ2luZWVyaW5nJTIwZm9yJTIwYSUyMFdlYiUyMENvbnRlbnQlMjBNYW5hZ2VtZW50JTIwU3lzdGVtJTIyJTJDJTBBJTIwJTIwJTIwJTIwZGlzcGxheSUzRCUyMnNvdWVyJTIyJTJDJTBBJTIwJTIwJTIwJTIwYXV0aG9ycyUzRCUyMlNvdWVyJTJDJTIwSnVycmlhYW4lMjBhbmQlMjBKb29yJTJDJTIwRGlyay1KYW4lMjIlMkMlMEElMjAlMjAlMjAlMjBwbGFjZSUzREZBS0UlMkMlMEElMjAlMjAlMjAlMjBwcCUzRCUyMjU1OC0tNTY1JTIyJTJDJTBBJTIwJTIwJTIwJTIwZW50cnl0eXBlJTNEJTIyaW5wcm9jZWVkaW5ncyUyMiUyQyUwQSUyMCUyMCUyMCUyMHNlcmllcyUzRCUyMmlpV0FTJTIwJTI3MTAlMjIlMkMlMEElMjAlMjAlMjAlMjBpc2JuJTNEJTIyOTc4LTEtNDUwMy0wNDIxLTQlMjIlMkMlMEElMjAlMjAlMjAlMjBsb2NhdGlvbiUzRCUyMlBhcmlzJTJDJTIwRnJhbmNlJTIyJTJDJTBBJTIwJTIwJTIwJTIwbnVtcGFnZXMlM0QlMjI4JTIyJTJDJTBBJTIwJTIwJTIwJTIwbGluayUzRCUyMmh0dHAlM0EvL2RvaS5hY20ub3JnLzEwLjExNDUvMTk2NzQ4Ni4xOTY3NTcyJTIyJTJDJTBBJTIwJTIwJTIwJTIwZG9pJTNEJTIyMTAuMTE0NS8xOTY3NDg2LjE5Njc1NzIlMjIlMkMlMEElMjAlMjAlMjAlMjBhY21pZCUzRCUyMjE5Njc1NzIlMjIlMkMlMEElMjAlMjAlMjAlMjBwdWJsaXNoZXIlM0QlMjJBQ00lMjIlMkMlMEElMjAlMjAlMjAlMjBhZGRyZXNzJTNEJTIyTmV3JTIwWW9yayUyQyUyME5ZJTJDJTIwVVNBJTIyJTJDJTBBJTIwJTIwJTIwJTIwa2V5d29yZCUzRCUyMnNvZnR3YXJlJTIwcHJvZHVjdCUyMGxpbmVzJTJDJTIwd2ViJTIwY29udGVudCUyMG1hbmFnZW1lbnQlMjBzeXN0ZW0lMkMlMjB3ZWIlMjBlbmdpbmVlcmluZyUyMiUyQyUwQSUyMCUyMCUyMCUyMElEJTNEJTIyU291ZXIlM0EyMDEwJTNBQUlDJTNBMTk2NzQ4Ni4xOTY3NTcyJTIyJTJDJTBBJTIwJTIwJTIwJTIwYWNtMjAxNSUzRCUyMjElMjIlMkMlMEElMjAlMjAlMjAlMjBwbGFjZXglM0QlMjJQcm9jZWVkaW5ncyUyMG9mJTIwdGhlJTIwMTJ0aCUyMEludGVybmF0aW9uYWwlMjBDb25mZXJlbmNlJTIwb24lMjBJbmZvcm1hdGlvbiUyMEludGVncmF0aW9uJTIwYW5kJTIwV2ViLWJhc2VkJTIwQXBwbGljYXRpb25zJTIwJTI2JTIzMzglM0IlMjBTZXJ2aWNlcyUyMiUyQyUwQSUyOSUyOSUwQSUyNyUyNyUyNyUyOSUzQg==\")));\n",
       "    "
      ],
      "text/plain": [
       "<IPython.core.display.Javascript object>"
      ]
     },
     "metadata": {},
     "output_type": "display_data"
    },
    {
     "data": {
      "application/javascript": [
       "$('span:contains(\"# Temp\")').closest('.cell').remove();"
      ],
      "text/plain": [
       "<IPython.core.display.Javascript object>"
      ]
     },
     "metadata": {},
     "output_type": "display_data"
    },
    {
     "data": {
      "application/javascript": [
       "\n",
       "        $('span:contains(\"# Temp\")').closest('.cell').remove();\n",
       "        var code = IPython.notebook.insert_cell_below('code');\n",
       "        code.set_text(decodeURIComponent(window.atob(\"JTIzJTIwVGVtcCUwQWluc2VydCUyOCUyNyUyNyUyNyUwQXNjYWNjaGkyMDA3YSUyMCUzRCUyMERCJTI4V29ya1VucmVsYXRlZCUyOCUwQSUyMCUyMCUyMCUyMDIwMDclMkMlMjAlMjJGcmVlL09wZW4lMjBTb3VyY2UlMjBTb2Z0d2FyZSUyMERldmVsb3BtZW50JTIyJTJDJTBBJTIwJTIwJTIwJTIwZGlzcGxheSUzRCUyMnNjYWNjaGklMjIlMkMlMEElMjAlMjAlMjAlMjBhdXRob3JzJTNEJTIyU2NhY2NoaSUyQyUyMFdhbHQlMjIlMkMlMEElMjAlMjAlMjAlMjBwbGFjZSUzRFNJR1NPRlQlMkMlMEElMjAlMjAlMjAlMjBwcCUzRCUyMjQ1OS0tNDY4JTIyJTJDJTBBJTIwJTIwJTIwJTIwZW50cnl0eXBlJTNEJTIyaW5wcm9jZWVkaW5ncyUyMiUyQyUwQSUyMCUyMCUyMCUyMHNlcmllcyUzRCUyMkVTRUMtRlNFJTIwJTI3MDclMjIlMkMlMEElMjAlMjAlMjAlMjBpc2JuJTNEJTIyOTc4LTEtNTk1OTMtODExLTQlMjIlMkMlMEElMjAlMjAlMjAlMjBsb2NhdGlvbiUzRCUyMkR1YnJvdm5payUyQyUyMENyb2F0aWElMjIlMkMlMEElMjAlMjAlMjAlMjBudW1wYWdlcyUzRCUyMjEwJTIyJTJDJTBBJTIwJTIwJTIwJTIwbGluayUzRCUyMmh0dHAlM0EvL2RvaS5hY20ub3JnLzEwLjExNDUvMTI4NzYyNC4xMjg3Njg5JTIyJTJDJTBBJTIwJTIwJTIwJTIwZG9pJTNEJTIyMTAuMTE0NS8xMjg3NjI0LjEyODc2ODklMjIlMkMlMEElMjAlMjAlMjAlMjBhY21pZCUzRCUyMjEyODc2ODklMjIlMkMlMEElMjAlMjAlMjAlMjBwdWJsaXNoZXIlM0QlMjJBQ00lMjIlMkMlMEElMjAlMjAlMjAlMjBhZGRyZXNzJTNEJTIyTmV3JTIwWW9yayUyQyUyME5ZJTJDJTIwVVNBJTIyJTJDJTBBJTIwJTIwJTIwJTIwa2V5d29yZCUzRCUyMmVtcGlyaWNhbCUyMHN0dWRpZXMlMkMlMjBmcmVlJTIwc29mdHdhcmUlMkMlMjBvcGVuJTIwc291cmNlJTIwc29mdHdhcmUlMkMlMjBzb2Npby10ZWNobmljYWwlMjByZWxhdGlvbnNoaXBzJTJDJTIwc29mdHdhcmUlMjBkZXZlbG9wbWVudCUyMHByYWN0aWNlcyUyMiUyQyUwQSUyMCUyMCUyMCUyMElEJTNEJTIyU2NhY2NoaSUzQTIwMDclM0FGU1MlM0ExMjg3NjI0LjEyODc2ODklMjIlMkMlMEElMjAlMjAlMjAlMjBhY20yMDE1JTNEJTIyMSUyMiUyQyUwQSUyMCUyMCUyMCUyMHBsYWNleCUzRCUyMlByb2NlZWRpbmdzJTIwb2YlMjB0aGUlMjB0aGUlMjA2dGglMjBKb2ludCUyME1lZXRpbmclMjBvZiUyMHRoZSUyMEV1cm9wZWFuJTIwU29mdHdhcmUlMjBFbmdpbmVlcmluZyUyMENvbmZlcmVuY2UlMjBhbmQlMjB0aGUlMjBBQ00lMjBTSUdTT0ZUJTIwU3ltcG9zaXVtJTIwb24lMjBUaGUlMjBGb3VuZGF0aW9ucyUyMG9mJTIwU29mdHdhcmUlMjBFbmdpbmVlcmluZyUyMiUyQyUwQSUyOSUyOSUwQSUyNyUyNyUyNyUyOSUzQg==\")));\n",
       "    "
      ],
      "text/plain": [
       "<IPython.core.display.Javascript object>"
      ]
     },
     "metadata": {},
     "output_type": "display_data"
    },
    {
     "data": {
      "application/javascript": [
       "$('span:contains(\"# Temp\")').closest('.cell').remove();"
      ],
      "text/plain": [
       "<IPython.core.display.Javascript object>"
      ]
     },
     "metadata": {},
     "output_type": "display_data"
    },
    {
     "data": {
      "application/javascript": [
       "\n",
       "        $('span:contains(\"# Temp\")').closest('.cell').remove();\n",
       "        var code = IPython.notebook.insert_cell_below('code');\n",
       "        code.set_text(decodeURIComponent(window.atob(\"JTIzJTIwVGVtcCUwQWluc2VydCUyOCUyNyUyNyUyNyUwQXNjYWNjaGkyMDA3YSUyMCUzRCUyMERCJTI4V29ya1VucmVsYXRlZCUyOCUwQSUyMCUyMCUyMCUyMDIwMDclMkMlMjAlMjJGcmVlL09wZW4lMjBTb3VyY2UlMjBTb2Z0d2FyZSUyMERldmVsb3BtZW50JTIyJTJDJTBBJTIwJTIwJTIwJTIwZGlzcGxheSUzRCUyMnNjYWNjaGklMjIlMkMlMEElMjAlMjAlMjAlMjBhdXRob3JzJTNEJTIyU2NhY2NoaSUyQyUyMFdhbHQlMjIlMkMlMEElMjAlMjAlMjAlMjBwbGFjZSUzRFNJR1NPRlQlMkMlMEElMjAlMjAlMjAlMjBwcCUzRCUyMjQ1OS0tNDY4JTIyJTJDJTBBJTIwJTIwJTIwJTIwZW50cnl0eXBlJTNEJTIyaW5wcm9jZWVkaW5ncyUyMiUyQyUwQSUyMCUyMCUyMCUyMHNlcmllcyUzRCUyMkVTRUMtRlNFJTIwJTI3MDclMjIlMkMlMEElMjAlMjAlMjAlMjBpc2JuJTNEJTIyOTc4LTEtNTk1OTMtODExLTQlMjIlMkMlMEElMjAlMjAlMjAlMjBsb2NhdGlvbiUzRCUyMkR1YnJvdm5payUyQyUyMENyb2F0aWElMjIlMkMlMEElMjAlMjAlMjAlMjBudW1wYWdlcyUzRCUyMjEwJTIyJTJDJTBBJTIwJTIwJTIwJTIwbGluayUzRCUyMmh0dHAlM0EvL2RvaS5hY20ub3JnLzEwLjExNDUvMTI4NzYyNC4xMjg3Njg5JTIyJTJDJTBBJTIwJTIwJTIwJTIwZG9pJTNEJTIyMTAuMTE0NS8xMjg3NjI0LjEyODc2ODklMjIlMkMlMEElMjAlMjAlMjAlMjBhY21pZCUzRCUyMjEyODc2ODklMjIlMkMlMEElMjAlMjAlMjAlMjBwdWJsaXNoZXIlM0QlMjJBQ00lMjIlMkMlMEElMjAlMjAlMjAlMjBhZGRyZXNzJTNEJTIyTmV3JTIwWW9yayUyQyUyME5ZJTJDJTIwVVNBJTIyJTJDJTBBJTIwJTIwJTIwJTIwa2V5d29yZCUzRCUyMmVtcGlyaWNhbCUyMHN0dWRpZXMlMkMlMjBmcmVlJTIwc29mdHdhcmUlMkMlMjBvcGVuJTIwc291cmNlJTIwc29mdHdhcmUlMkMlMjBzb2Npby10ZWNobmljYWwlMjByZWxhdGlvbnNoaXBzJTJDJTIwc29mdHdhcmUlMjBkZXZlbG9wbWVudCUyMHByYWN0aWNlcyUyMiUyQyUwQSUyMCUyMCUyMCUyMElEJTNEJTIyU2NhY2NoaSUzQTIwMDclM0FGU1MlM0ExMjg3NjI0LjEyODc2ODklMjIlMkMlMEElMjAlMjAlMjAlMjBhY20yMDE1JTNEJTIyMSUyMiUyQyUwQSUyMCUyMCUyMCUyMHBsYWNleCUzRCUyMlByb2NlZWRpbmdzJTIwb2YlMjB0aGUlMjB0aGUlMjA2dGglMjBKb2ludCUyME1lZXRpbmclMjBvZiUyMHRoZSUyMEV1cm9wZWFuJTIwU29mdHdhcmUlMjBFbmdpbmVlcmluZyUyMENvbmZlcmVuY2UlMjBhbmQlMjB0aGUlMjBBQ00lMjBTSUdTT0ZUJTIwU3ltcG9zaXVtJTIwb24lMjBUaGUlMjBGb3VuZGF0aW9ucyUyMG9mJTIwU29mdHdhcmUlMjBFbmdpbmVlcmluZyUyMiUyQyUwQSUyOSUyOSUwQSUyNyUyNyUyNyUyOSUzQg==\")));\n",
       "    "
      ],
      "text/plain": [
       "<IPython.core.display.Javascript object>"
      ]
     },
     "metadata": {},
     "output_type": "display_data"
    },
    {
     "data": {
      "application/javascript": [
       "$('span:contains(\"# Temp\")').closest('.cell').remove();"
      ],
      "text/plain": [
       "<IPython.core.display.Javascript object>"
      ]
     },
     "metadata": {},
     "output_type": "display_data"
    },
    {
     "data": {
      "application/javascript": [
       "\n",
       "        $('span:contains(\"# Temp\")').closest('.cell').remove();\n",
       "        var code = IPython.notebook.insert_cell_below('code');\n",
       "        code.set_text(decodeURIComponent(window.atob(\"JTIzJTIwVGVtcCUwQWluc2VydCUyOCUyNyUyNyUyNyUwQXNyaW5pdmFzYW4yMDEwYSUyMCUzRCUyMERCJTI4V29ya1VucmVsYXRlZCUyOCUwQSUyMCUyMCUyMCUyMDIwMTAlMkMlMjAlMjJTdHVkeWluZyUyMFNvZnR3YXJlJTIwT3JnYW5pemF0aW9ucyUzQSUyMEluJTIwU2VhcmNoJTIwb2YlMjBhJTIwTWV0aG9kJTIyJTJDJTBBJTIwJTIwJTIwJTIwZGlzcGxheSUzRCUyMnNyaW5pdmFzYW4lMjIlMkMlMEElMjAlMjAlMjAlMjBhdXRob3JzJTNEJTIyU3Jpbml2YXNhbiUyQyUyMEpheWFrYW50aCUyMGFuZCUyMEx1bmRxdmlzdCUyQyUyMEtyaXN0aW5hJTIwYW5kJTIwTm9yc3RyJUMzJUI2bSUyQyUyMENocmlzdGVyJTIyJTJDJTBBJTIwJTIwJTIwJTIwcGxhY2UlM0RTRUMlMkMlMEElMjAlMjAlMjAlMjBwcCUzRCUyMjUxLS02MCUyMiUyQyUwQSUyMCUyMCUyMCUyMGVudHJ5dHlwZSUzRCUyMmlucHJvY2VlZGluZ3MlMjIlMkMlMEElMjAlMjAlMjAlMjBzZXJpZXMlM0QlMjJJU0VDJTIwJTI3MTAlMjIlMkMlMEElMjAlMjAlMjAlMjBpc2JuJTNEJTIyOTc4LTEtNjA1NTgtOTIyLTAlMjIlMkMlMEElMjAlMjAlMjAlMjBsb2NhdGlvbiUzRCUyMk15c29yZSUyQyUyMEluZGlhJTIyJTJDJTBBJTIwJTIwJTIwJTIwbnVtcGFnZXMlM0QlMjIxMCUyMiUyQyUwQSUyMCUyMCUyMCUyMGxpbmslM0QlMjJodHRwJTNBLy9kb2kuYWNtLm9yZy8xMC4xMTQ1LzE3MzA4NzQuMTczMDg4NSUyMiUyQyUwQSUyMCUyMCUyMCUyMGRvaSUzRCUyMjEwLjExNDUvMTczMDg3NC4xNzMwODg1JTIyJTJDJTBBJTIwJTIwJTIwJTIwYWNtaWQlM0QlMjIxNzMwODg1JTIyJTJDJTBBJTIwJTIwJTIwJTIwcHVibGlzaGVyJTNEJTIyQUNNJTIyJTJDJTBBJTIwJTIwJTIwJTIwYWRkcmVzcyUzRCUyMk5ldyUyMFlvcmslMkMlMjBOWSUyQyUyMFVTQSUyMiUyQyUwQSUyMCUyMCUyMCUyMGtleXdvcmQlM0QlMjJjYXNlJTIwc3R1ZGllcyUyQyUyMGVuZ2FnZWQlMjBzY2hvbGFyc2hpcCUyQyUyMGdyb3VuZGVkJTIwdGhlb3J5JTJDJTIwcmVzZWFyY2glMjBtZXRob2RzJTIyJTJDJTBBJTIwJTIwJTIwJTIwSUQlM0QlMjJTcmluaXZhc2FuJTNBMjAxMCUzQVNTTyUzQTE3MzA4NzQuMTczMDg4NSUyMiUyQyUwQSUyMCUyMCUyMCUyMGFjbTIwMTUlM0QlMjIxJTIyJTJDJTBBJTIwJTIwJTIwJTIwcGxhY2V4JTNEJTIyUHJvY2VlZGluZ3MlMjBvZiUyMHRoZSUyMDNyZCUyMEluZGlhJTIwU29mdHdhcmUlMjBFbmdpbmVlcmluZyUyMENvbmZlcmVuY2UlMjIlMkMlMEElMjklMjklMEElMjclMjclMjclMjklM0I=\")));\n",
       "    "
      ],
      "text/plain": [
       "<IPython.core.display.Javascript object>"
      ]
     },
     "metadata": {},
     "output_type": "display_data"
    },
    {
     "data": {
      "application/javascript": [
       "$('span:contains(\"# Temp\")').closest('.cell').remove();"
      ],
      "text/plain": [
       "<IPython.core.display.Javascript object>"
      ]
     },
     "metadata": {},
     "output_type": "display_data"
    },
    {
     "data": {
      "application/javascript": [
       "\n",
       "        $('span:contains(\"# Temp\")').closest('.cell').remove();\n",
       "        var code = IPython.notebook.insert_cell_below('code');\n",
       "        code.set_text(decodeURIComponent(window.atob(\"JTIzJTIwVGVtcCUwQWluc2VydCUyOCUyNyUyNyUyNyUwQXNyaW5pdmFzYW4yMDEwYSUyMCUzRCUyMERCJTI4V29ya1VucmVsYXRlZCUyOCUwQSUyMCUyMCUyMCUyMDIwMTAlMkMlMjAlMjJTdHVkeWluZyUyMFNvZnR3YXJlJTIwT3JnYW5pemF0aW9ucyUzQSUyMEluJTIwU2VhcmNoJTIwb2YlMjBhJTIwTWV0aG9kJTIyJTJDJTBBJTIwJTIwJTIwJTIwZGlzcGxheSUzRCUyMnNyaW5pdmFzYW4lMjIlMkMlMEElMjAlMjAlMjAlMjBhdXRob3JzJTNEJTIyU3Jpbml2YXNhbiUyQyUyMEpheWFrYW50aCUyMGFuZCUyMEx1bmRxdmlzdCUyQyUyMEtyaXN0aW5hJTIwYW5kJTIwTm9yc3RyJUMzJUI2bSUyQyUyMENocmlzdGVyJTIyJTJDJTBBJTIwJTIwJTIwJTIwcGxhY2UlM0RTRUMlMkMlMEElMjAlMjAlMjAlMjBwcCUzRCUyMjUxLS02MCUyMiUyQyUwQSUyMCUyMCUyMCUyMGVudHJ5dHlwZSUzRCUyMmlucHJvY2VlZGluZ3MlMjIlMkMlMEElMjAlMjAlMjAlMjBzZXJpZXMlM0QlMjJJU0VDJTIwJTI3MTAlMjIlMkMlMEElMjAlMjAlMjAlMjBpc2JuJTNEJTIyOTc4LTEtNjA1NTgtOTIyLTAlMjIlMkMlMEElMjAlMjAlMjAlMjBsb2NhdGlvbiUzRCUyMk15c29yZSUyQyUyMEluZGlhJTIyJTJDJTBBJTIwJTIwJTIwJTIwbnVtcGFnZXMlM0QlMjIxMCUyMiUyQyUwQSUyMCUyMCUyMCUyMGxpbmslM0QlMjJodHRwJTNBLy9kb2kuYWNtLm9yZy8xMC4xMTQ1LzE3MzA4NzQuMTczMDg4NSUyMiUyQyUwQSUyMCUyMCUyMCUyMGRvaSUzRCUyMjEwLjExNDUvMTczMDg3NC4xNzMwODg1JTIyJTJDJTBBJTIwJTIwJTIwJTIwYWNtaWQlM0QlMjIxNzMwODg1JTIyJTJDJTBBJTIwJTIwJTIwJTIwcHVibGlzaGVyJTNEJTIyQUNNJTIyJTJDJTBBJTIwJTIwJTIwJTIwYWRkcmVzcyUzRCUyMk5ldyUyMFlvcmslMkMlMjBOWSUyQyUyMFVTQSUyMiUyQyUwQSUyMCUyMCUyMCUyMGtleXdvcmQlM0QlMjJjYXNlJTIwc3R1ZGllcyUyQyUyMGVuZ2FnZWQlMjBzY2hvbGFyc2hpcCUyQyUyMGdyb3VuZGVkJTIwdGhlb3J5JTJDJTIwcmVzZWFyY2glMjBtZXRob2RzJTIyJTJDJTBBJTIwJTIwJTIwJTIwSUQlM0QlMjJTcmluaXZhc2FuJTNBMjAxMCUzQVNTTyUzQTE3MzA4NzQuMTczMDg4NSUyMiUyQyUwQSUyMCUyMCUyMCUyMGFjbTIwMTUlM0QlMjIxJTIyJTJDJTBBJTIwJTIwJTIwJTIwcGxhY2V4JTNEJTIyUHJvY2VlZGluZ3MlMjBvZiUyMHRoZSUyMDNyZCUyMEluZGlhJTIwU29mdHdhcmUlMjBFbmdpbmVlcmluZyUyMENvbmZlcmVuY2UlMjIlMkMlMEElMjklMjklMEElMjclMjclMjclMjklM0I=\")));\n",
       "    "
      ],
      "text/plain": [
       "<IPython.core.display.Javascript object>"
      ]
     },
     "metadata": {},
     "output_type": "display_data"
    },
    {
     "data": {
      "application/javascript": [
       "$('span:contains(\"# Temp\")').closest('.cell').remove();"
      ],
      "text/plain": [
       "<IPython.core.display.Javascript object>"
      ]
     },
     "metadata": {},
     "output_type": "display_data"
    },
    {
     "data": {
      "application/javascript": [
       "\n",
       "        $('span:contains(\"# Temp\")').closest('.cell').remove();\n",
       "        var code = IPython.notebook.insert_cell_below('code');\n",
       "        code.set_text(decodeURIComponent(window.atob(\"JTIzJTIwVGVtcCUwQWluc2VydCUyOCUyNyUyNyUyNyUwQXlpbG1hejIwMTFhJTIwJTNEJTIwREIlMjhXb3JrVW5yZWxhdGVkJTI4JTBBJTIwJTIwJTIwJTIwMjAxMSUyQyUyMCUyMkElMjBTb2Z0d2FyZSUyMFByb2Nlc3MlMjBFbmdpbmVlcmluZyUyMEFwcHJvYWNoJTIwdG8lMjBJbXByb3ZpbmclMjBTb2Z0d2FyZSUyMFRlYW0lMjBQcm9kdWN0aXZpdHklMjBVc2luZyUyMFNvY2lvZWNvbm9taWMlMjBNZWNoYW5pc20lMjBEZXNpZ24lMjIlMkMlMEElMjAlMjAlMjAlMjBkaXNwbGF5JTNEJTIyeWlsbWF6JTIyJTJDJTBBJTIwJTIwJTIwJTIwYXV0aG9ycyUzRCUyMllpbG1heiUyQyUyME11cmF0JTIwYW5kJTIwTyUyN0Nvbm5vciUyQyUyMFJvcnklMjBWLiUyMiUyQyUwQSUyMCUyMCUyMCUyMHBsYWNlJTNERkFLRSUyQyUwQSUyMCUyMCUyMCUyMHBwJTNEJTIyMS0tNSUyMiUyQyUwQSUyMCUyMCUyMCUyMGVudHJ5dHlwZSUzRCUyMmFydGljbGUlMjIlMkMlMEElMjAlMjAlMjAlMjBpc3N1ZV9kYXRlJTNEJTIyU2VwdGVtYmVyJTIwMjAxMSUyMiUyQyUwQSUyMCUyMCUyMCUyMHZvbHVtZSUzRCUyMjM2JTIyJTJDJTBBJTIwJTIwJTIwJTIwbnVtYmVyJTNEJTIyNSUyMiUyQyUwQSUyMCUyMCUyMCUyMG1vbnRoJTNEJTIyc2VwJTIyJTJDJTBBJTIwJTIwJTIwJTIwaXNzbiUzRCUyMjAxNjMtNTk0OCUyMiUyQyUwQSUyMCUyMCUyMCUyMG51bXBhZ2VzJTNEJTIyNSUyMiUyQyUwQSUyMCUyMCUyMCUyMGxpbmslM0QlMjJodHRwJTNBLy9kb2kuYWNtLm9yZy8xMC4xMTQ1LzIwMjA5NzYuMjAyMDk5OCUyMiUyQyUwQSUyMCUyMCUyMCUyMGRvaSUzRCUyMjEwLjExNDUvMjAyMDk3Ni4yMDIwOTk4JTIyJTJDJTBBJTIwJTIwJTIwJTIwYWNtaWQlM0QlMjIyMDIwOTk4JTIyJTJDJTBBJTIwJTIwJTIwJTIwcHVibGlzaGVyJTNEJTIyQUNNJTIyJTJDJTBBJTIwJTIwJTIwJTIwYWRkcmVzcyUzRCUyMk5ldyUyMFlvcmslMkMlMjBOWSUyQyUyMFVTQSUyMiUyQyUwQSUyMCUyMCUyMCUyMGtleXdvcmQlM0QlMjJnYW1lJTIwdGhlb3J5JTJDJTIwbWVjaGFuaXNtJTIwZGVzaWduJTJDJTIwcHJvZHVjdGl2aXR5JTJDJTIwc29jaWFsJTIwYXNwZWN0cyUyMG9mJTIwZGV2ZWxvcG1lbnQlMkMlMjBzb2Z0d2FyZSUyMGVuZ2luZWVyaW5nJTIwZWNvbm9taWNzJTJDJTIwc29mdHdhcmUlMjBtYW5hZ2VtZW50JTJDJTIwc29mdHdhcmUlMjBwcm9jZXNzJTIwaW1wcm92ZW1lbnQlMkMlMjB0ZWFtJTIwZHluYW1pY3MlMjIlMkMlMEElMjAlMjAlMjAlMjBJRCUzRCUyMllpbG1heiUzQTIwMTElM0FTUEUlM0EyMDIwOTc2LjIwMjA5OTglMjIlMkMlMEElMjAlMjAlMjAlMjBhY20yMDE1JTNEJTIyMSUyMiUyQyUwQSUyMCUyMCUyMCUyMHBsYWNleCUzRCUyMlNJR1NPRlQlMjBTb2Z0dy4lMjBFbmcuJTIwTm90ZXMlMjIlMkMlMEElMjklMjklMEElMjclMjclMjclMjklM0I=\")));\n",
       "    "
      ],
      "text/plain": [
       "<IPython.core.display.Javascript object>"
      ]
     },
     "metadata": {},
     "output_type": "display_data"
    },
    {
     "data": {
      "application/javascript": [
       "$('span:contains(\"# Temp\")').closest('.cell').remove();"
      ],
      "text/plain": [
       "<IPython.core.display.Javascript object>"
      ]
     },
     "metadata": {},
     "output_type": "display_data"
    },
    {
     "data": {
      "application/javascript": [
       "\n",
       "        $('span:contains(\"# Temp\")').closest('.cell').remove();\n",
       "        var code = IPython.notebook.insert_cell_below('code');\n",
       "        code.set_text(decodeURIComponent(window.atob(\"JTIzJTIwVGVtcCUwQWluc2VydCUyOCUyNyUyNyUyNyUwQXlpbG1hejIwMTFhJTIwJTNEJTIwREIlMjhXb3JrVW5yZWxhdGVkJTI4JTBBJTIwJTIwJTIwJTIwMjAxMSUyQyUyMCUyMkElMjBTb2Z0d2FyZSUyMFByb2Nlc3MlMjBFbmdpbmVlcmluZyUyMEFwcHJvYWNoJTIwdG8lMjBJbXByb3ZpbmclMjBTb2Z0d2FyZSUyMFRlYW0lMjBQcm9kdWN0aXZpdHklMjBVc2luZyUyMFNvY2lvZWNvbm9taWMlMjBNZWNoYW5pc20lMjBEZXNpZ24lMjIlMkMlMEElMjAlMjAlMjAlMjBkaXNwbGF5JTNEJTIyeWlsbWF6JTIyJTJDJTBBJTIwJTIwJTIwJTIwYXV0aG9ycyUzRCUyMllpbG1heiUyQyUyME11cmF0JTIwYW5kJTIwTyUyN0Nvbm5vciUyQyUyMFJvcnklMjBWLiUyMiUyQyUwQSUyMCUyMCUyMCUyMHBsYWNlJTNERkFLRSUyQyUwQSUyMCUyMCUyMCUyMHBwJTNEJTIyMS0tNSUyMiUyQyUwQSUyMCUyMCUyMCUyMGVudHJ5dHlwZSUzRCUyMmFydGljbGUlMjIlMkMlMEElMjAlMjAlMjAlMjBpc3N1ZV9kYXRlJTNEJTIyU2VwdGVtYmVyJTIwMjAxMSUyMiUyQyUwQSUyMCUyMCUyMCUyMHZvbHVtZSUzRCUyMjM2JTIyJTJDJTBBJTIwJTIwJTIwJTIwbnVtYmVyJTNEJTIyNSUyMiUyQyUwQSUyMCUyMCUyMCUyMG1vbnRoJTNEJTIyc2VwJTIyJTJDJTBBJTIwJTIwJTIwJTIwaXNzbiUzRCUyMjAxNjMtNTk0OCUyMiUyQyUwQSUyMCUyMCUyMCUyMG51bXBhZ2VzJTNEJTIyNSUyMiUyQyUwQSUyMCUyMCUyMCUyMGxpbmslM0QlMjJodHRwJTNBLy9kb2kuYWNtLm9yZy8xMC4xMTQ1LzIwMjA5NzYuMjAyMDk5OCUyMiUyQyUwQSUyMCUyMCUyMCUyMGRvaSUzRCUyMjEwLjExNDUvMjAyMDk3Ni4yMDIwOTk4JTIyJTJDJTBBJTIwJTIwJTIwJTIwYWNtaWQlM0QlMjIyMDIwOTk4JTIyJTJDJTBBJTIwJTIwJTIwJTIwcHVibGlzaGVyJTNEJTIyQUNNJTIyJTJDJTBBJTIwJTIwJTIwJTIwYWRkcmVzcyUzRCUyMk5ldyUyMFlvcmslMkMlMjBOWSUyQyUyMFVTQSUyMiUyQyUwQSUyMCUyMCUyMCUyMGtleXdvcmQlM0QlMjJnYW1lJTIwdGhlb3J5JTJDJTIwbWVjaGFuaXNtJTIwZGVzaWduJTJDJTIwcHJvZHVjdGl2aXR5JTJDJTIwc29jaWFsJTIwYXNwZWN0cyUyMG9mJTIwZGV2ZWxvcG1lbnQlMkMlMjBzb2Z0d2FyZSUyMGVuZ2luZWVyaW5nJTIwZWNvbm9taWNzJTJDJTIwc29mdHdhcmUlMjBtYW5hZ2VtZW50JTJDJTIwc29mdHdhcmUlMjBwcm9jZXNzJTIwaW1wcm92ZW1lbnQlMkMlMjB0ZWFtJTIwZHluYW1pY3MlMjIlMkMlMEElMjAlMjAlMjAlMjBJRCUzRCUyMllpbG1heiUzQTIwMTElM0FTUEUlM0EyMDIwOTc2LjIwMjA5OTglMjIlMkMlMEElMjAlMjAlMjAlMjBhY20yMDE1JTNEJTIyMSUyMiUyQyUwQSUyMCUyMCUyMCUyMHBsYWNleCUzRCUyMlNJR1NPRlQlMjBTb2Z0dy4lMjBFbmcuJTIwTm90ZXMlMjIlMkMlMEElMjklMjklMEElMjclMjclMjclMjklM0I=\")));\n",
       "    "
      ],
      "text/plain": [
       "<IPython.core.display.Javascript object>"
      ]
     },
     "metadata": {},
     "output_type": "display_data"
    },
    {
     "data": {
      "application/javascript": [
       "$('span:contains(\"# Temp\")').closest('.cell').remove();"
      ],
      "text/plain": [
       "<IPython.core.display.Javascript object>"
      ]
     },
     "metadata": {},
     "output_type": "display_data"
    },
    {
     "data": {
      "application/javascript": [
       "\n",
       "        $('span:contains(\"# Temp\")').closest('.cell').remove();\n",
       "        var code = IPython.notebook.insert_cell_below('code');\n",
       "        code.set_text(decodeURIComponent(window.atob(\"JTIzJTIwVGVtcCUwQWluc2VydCUyOCUyNyUyNyUyNyUwQXNjaG1pZDIwMDJhJTIwJTNEJTIwREIlMjhXb3JrVW5yZWxhdGVkJTI4JTBBJTIwJTIwJTIwJTIwMjAwMiUyQyUyMCUyMkElMjBDb21wcmVoZW5zaXZlJTIwUHJvZHVjdCUyMExpbmUlMjBTY29waW5nJTIwQXBwcm9hY2glMjBhbmQlMjBJdHMlMjBWYWxpZGF0aW9uJTIyJTJDJTBBJTIwJTIwJTIwJTIwZGlzcGxheSUzRCUyMnNjaG1pZCUyMiUyQyUwQSUyMCUyMCUyMCUyMGF1dGhvcnMlM0QlMjJTY2htaWQlMkMlMjBLbGF1cyUyMiUyQyUwQSUyMCUyMCUyMCUyMHBsYWNlJTNESUNTRSUyQyUwQSUyMCUyMCUyMCUyMHBwJTNEJTIyNTkzLS02MDMlMjIlMkMlMEElMjAlMjAlMjAlMjBlbnRyeXR5cGUlM0QlMjJpbnByb2NlZWRpbmdzJTIyJTJDJTBBJTIwJTIwJTIwJTIwc2VyaWVzJTNEJTIySUNTRSUyMCUyNzAyJTIyJTJDJTBBJTIwJTIwJTIwJTIwaXNibiUzRCUyMjEtNTgxMTMtNDcyLVglMjIlMkMlMEElMjAlMjAlMjAlMjBsb2NhdGlvbiUzRCUyMk9ybGFuZG8lMkMlMjBGbG9yaWRhJTIyJTJDJTBBJTIwJTIwJTIwJTIwbnVtcGFnZXMlM0QlMjIxMSUyMiUyQyUwQSUyMCUyMCUyMCUyMGxpbmslM0QlMjJodHRwJTNBLy9kb2kuYWNtLm9yZy8xMC4xMTQ1LzU4MTMzOS41ODE0MTUlMjIlMkMlMEElMjAlMjAlMjAlMjBkb2klM0QlMjIxMC4xMTQ1LzU4MTMzOS41ODE0MTUlMjIlMkMlMEElMjAlMjAlMjAlMjBhY21pZCUzRCUyMjU4MTQxNSUyMiUyQyUwQSUyMCUyMCUyMCUyMHB1Ymxpc2hlciUzRCUyMkFDTSUyMiUyQyUwQSUyMCUyMCUyMCUyMGFkZHJlc3MlM0QlMjJOZXclMjBZb3JrJTJDJTIwTlklMkMlMjBVU0ElMjIlMkMlMEElMjAlMjAlMjAlMjBJRCUzRCUyMlNjaG1pZCUzQTIwMDIlM0FDUEwlM0E1ODEzMzkuNTgxNDE1JTIyJTJDJTBBJTIwJTIwJTIwJTIwYWNtMjAxNSUzRCUyMjElMjIlMkMlMEElMjAlMjAlMjAlMjBwbGFjZXglM0QlMjJQcm9jZWVkaW5ncyUyMG9mJTIwdGhlJTIwMjR0aCUyMEludGVybmF0aW9uYWwlMjBDb25mZXJlbmNlJTIwb24lMjBTb2Z0d2FyZSUyMEVuZ2luZWVyaW5nJTIyJTJDJTBBJTI5JTI5JTBBJTI3JTI3JTI3JTI5JTNC\")));\n",
       "    "
      ],
      "text/plain": [
       "<IPython.core.display.Javascript object>"
      ]
     },
     "metadata": {},
     "output_type": "display_data"
    },
    {
     "data": {
      "application/javascript": [
       "$('span:contains(\"# Temp\")').closest('.cell').remove();"
      ],
      "text/plain": [
       "<IPython.core.display.Javascript object>"
      ]
     },
     "metadata": {},
     "output_type": "display_data"
    },
    {
     "data": {
      "application/javascript": [
       "\n",
       "        $('span:contains(\"# Temp\")').closest('.cell').remove();\n",
       "        var code = IPython.notebook.insert_cell_below('code');\n",
       "        code.set_text(decodeURIComponent(window.atob(\"JTIzJTIwVGVtcCUwQWluc2VydCUyOCUyNyUyNyUyNyUwQXNjaG1pZDIwMDJhJTIwJTNEJTIwREIlMjhXb3JrVW5yZWxhdGVkJTI4JTBBJTIwJTIwJTIwJTIwMjAwMiUyQyUyMCUyMkElMjBDb21wcmVoZW5zaXZlJTIwUHJvZHVjdCUyMExpbmUlMjBTY29waW5nJTIwQXBwcm9hY2glMjBhbmQlMjBJdHMlMjBWYWxpZGF0aW9uJTIyJTJDJTBBJTIwJTIwJTIwJTIwZGlzcGxheSUzRCUyMnNjaG1pZCUyMiUyQyUwQSUyMCUyMCUyMCUyMGF1dGhvcnMlM0QlMjJTY2htaWQlMkMlMjBLbGF1cyUyMiUyQyUwQSUyMCUyMCUyMCUyMHBsYWNlJTNESUNTRSUyQyUwQSUyMCUyMCUyMCUyMHBwJTNEJTIyNTkzLS02MDMlMjIlMkMlMEElMjAlMjAlMjAlMjBlbnRyeXR5cGUlM0QlMjJpbnByb2NlZWRpbmdzJTIyJTJDJTBBJTIwJTIwJTIwJTIwc2VyaWVzJTNEJTIySUNTRSUyMCUyNzAyJTIyJTJDJTBBJTIwJTIwJTIwJTIwaXNibiUzRCUyMjEtNTgxMTMtNDcyLVglMjIlMkMlMEElMjAlMjAlMjAlMjBsb2NhdGlvbiUzRCUyMk9ybGFuZG8lMkMlMjBGbG9yaWRhJTIyJTJDJTBBJTIwJTIwJTIwJTIwbnVtcGFnZXMlM0QlMjIxMSUyMiUyQyUwQSUyMCUyMCUyMCUyMGxpbmslM0QlMjJodHRwJTNBLy9kb2kuYWNtLm9yZy8xMC4xMTQ1LzU4MTMzOS41ODE0MTUlMjIlMkMlMEElMjAlMjAlMjAlMjBkb2klM0QlMjIxMC4xMTQ1LzU4MTMzOS41ODE0MTUlMjIlMkMlMEElMjAlMjAlMjAlMjBhY21pZCUzRCUyMjU4MTQxNSUyMiUyQyUwQSUyMCUyMCUyMCUyMHB1Ymxpc2hlciUzRCUyMkFDTSUyMiUyQyUwQSUyMCUyMCUyMCUyMGFkZHJlc3MlM0QlMjJOZXclMjBZb3JrJTJDJTIwTlklMkMlMjBVU0ElMjIlMkMlMEElMjAlMjAlMjAlMjBJRCUzRCUyMlNjaG1pZCUzQTIwMDIlM0FDUEwlM0E1ODEzMzkuNTgxNDE1JTIyJTJDJTBBJTIwJTIwJTIwJTIwYWNtMjAxNSUzRCUyMjElMjIlMkMlMEElMjAlMjAlMjAlMjBwbGFjZXglM0QlMjJQcm9jZWVkaW5ncyUyMG9mJTIwdGhlJTIwMjR0aCUyMEludGVybmF0aW9uYWwlMjBDb25mZXJlbmNlJTIwb24lMjBTb2Z0d2FyZSUyMEVuZ2luZWVyaW5nJTIyJTJDJTBBJTI5JTI5JTBBJTI3JTI3JTI3JTI5JTNC\")));\n",
       "    "
      ],
      "text/plain": [
       "<IPython.core.display.Javascript object>"
      ]
     },
     "metadata": {},
     "output_type": "display_data"
    },
    {
     "data": {
      "application/javascript": [
       "$('span:contains(\"# Temp\")').closest('.cell').remove();"
      ],
      "text/plain": [
       "<IPython.core.display.Javascript object>"
      ]
     },
     "metadata": {},
     "output_type": "display_data"
    },
    {
     "data": {
      "application/javascript": [
       "\n",
       "        $('span:contains(\"# Temp\")').closest('.cell').remove();\n",
       "        var code = IPython.notebook.insert_cell_below('code');\n",
       "        code.set_text(decodeURIComponent(window.atob(\"JTIzJTIwVGVtcCUwQWluc2VydCUyOCUyNyUyNyUyNyUwQW1vc2VyMjAxMGElMjAlM0QlMjBEQiUyOFdvcmtVbnJlbGF0ZWQlMjglMEElMjAlMjAlMjAlMjAyMDEwJTJDJTIwJTIyUHJvY2Vzcy1kcml2ZW4lMjBGZWF0dXJlJTIwTW9kZWxpbmclMjBmb3IlMjBWYXJpYWJpbGl0eSUyME1hbmFnZW1lbnQlMjBvZiUyMFByb2plY3QlMjBFbnZpcm9ubWVudCUyMENvbmZpZ3VyYXRpb25zJTIyJTJDJTBBJTIwJTIwJTIwJTIwZGlzcGxheSUzRCUyMm1vc2VyJTIyJTJDJTBBJTIwJTIwJTIwJTIwYXV0aG9ycyUzRCUyMk1vc2VyJTJDJTIwVGhvbWFzJTIwYW5kJTIwQmlmZmwlMkMlMjBTdGVmYW4lMjBhbmQlMjBXaW5rbGVyJTJDJTIwRGlldG1hciUyMiUyQyUwQSUyMCUyMCUyMCUyMHBsYWNlJTNESUNQRlNQSSUyQyUwQSUyMCUyMCUyMCUyMHBwJTNEJTIyNDctLTUwJTIyJTJDJTBBJTIwJTIwJTIwJTIwZW50cnl0eXBlJTNEJTIyaW5wcm9jZWVkaW5ncyUyMiUyQyUwQSUyMCUyMCUyMCUyMHNlcmllcyUzRCUyMlBST0ZFUyUyMCUyNzEwJTIyJTJDJTBBJTIwJTIwJTIwJTIwaXNibiUzRCUyMjk3OC0xLTQ1MDMtMDI4MS00JTIyJTJDJTBBJTIwJTIwJTIwJTIwbG9jYXRpb24lM0QlMjJMaW1lcmljayUyQyUyMElyZWxhbmQlMjIlMkMlMEElMjAlMjAlMjAlMjBudW1wYWdlcyUzRCUyMjQlMjIlMkMlMEElMjAlMjAlMjAlMjBsaW5rJTNEJTIyaHR0cCUzQS8vZG9pLmFjbS5vcmcvMTAuMTE0NS8xOTYxMjU4LjE5NjEyNzAlMjIlMkMlMEElMjAlMjAlMjAlMjBkb2klM0QlMjIxMC4xMTQ1LzE5NjEyNTguMTk2MTI3MCUyMiUyQyUwQSUyMCUyMCUyMCUyMGFjbWlkJTNEJTIyMTk2MTI3MCUyMiUyQyUwQSUyMCUyMCUyMCUyMHB1Ymxpc2hlciUzRCUyMkFDTSUyMiUyQyUwQSUyMCUyMCUyMCUyMGFkZHJlc3MlM0QlMjJOZXclMjBZb3JrJTJDJTIwTlklMkMlMjBVU0ElMjIlMkMlMEElMjAlMjAlMjAlMjBrZXl3b3JkJTNEJTIyZmVhdHVyZSUyMG1vZGVsaW5nJTJDJTIwcHJvamVjdCUyMGVudmlyb25tZW50JTIwdmFyaWFiaWxpdHklMjBtYW5hZ2VtZW50JTIyJTJDJTBBJTIwJTIwJTIwJTIwSUQlM0QlMjJNb3NlciUzQTIwMTAlM0FQRk0lM0ExOTYxMjU4LjE5NjEyNzAlMjIlMkMlMEElMjAlMjAlMjAlMjBhY20yMDE1JTNEJTIyMSUyMiUyQyUwQSUyMCUyMCUyMCUyMHBsYWNleCUzRCUyMlByb2NlZWRpbmdzJTIwb2YlMjB0aGUlMjAxMXRoJTIwSW50ZXJuYXRpb25hbCUyMENvbmZlcmVuY2UlMjBvbiUyMFByb2R1Y3QlMjBGb2N1c2VkJTIwU29mdHdhcmUlMjIlMkMlMEElMjklMjklMEElMjclMjclMjclMjklM0I=\")));\n",
       "    "
      ],
      "text/plain": [
       "<IPython.core.display.Javascript object>"
      ]
     },
     "metadata": {},
     "output_type": "display_data"
    },
    {
     "data": {
      "application/javascript": [
       "$('span:contains(\"# Temp\")').closest('.cell').remove();"
      ],
      "text/plain": [
       "<IPython.core.display.Javascript object>"
      ]
     },
     "metadata": {},
     "output_type": "display_data"
    },
    {
     "data": {
      "application/javascript": [
       "\n",
       "        $('span:contains(\"# Temp\")').closest('.cell').remove();\n",
       "        var code = IPython.notebook.insert_cell_below('code');\n",
       "        code.set_text(decodeURIComponent(window.atob(\"JTIzJTIwVGVtcCUwQWluc2VydCUyOCUyNyUyNyUyNyUwQW1vc2VyMjAxMGElMjAlM0QlMjBEQiUyOFdvcmtVbnJlbGF0ZWQlMjglMEElMjAlMjAlMjAlMjAyMDEwJTJDJTIwJTIyUHJvY2Vzcy1kcml2ZW4lMjBGZWF0dXJlJTIwTW9kZWxpbmclMjBmb3IlMjBWYXJpYWJpbGl0eSUyME1hbmFnZW1lbnQlMjBvZiUyMFByb2plY3QlMjBFbnZpcm9ubWVudCUyMENvbmZpZ3VyYXRpb25zJTIyJTJDJTBBJTIwJTIwJTIwJTIwZGlzcGxheSUzRCUyMm1vc2VyJTIyJTJDJTBBJTIwJTIwJTIwJTIwYXV0aG9ycyUzRCUyMk1vc2VyJTJDJTIwVGhvbWFzJTIwYW5kJTIwQmlmZmwlMkMlMjBTdGVmYW4lMjBhbmQlMjBXaW5rbGVyJTJDJTIwRGlldG1hciUyMiUyQyUwQSUyMCUyMCUyMCUyMHBsYWNlJTNESUNQRlNQSSUyQyUwQSUyMCUyMCUyMCUyMHBwJTNEJTIyNDctLTUwJTIyJTJDJTBBJTIwJTIwJTIwJTIwZW50cnl0eXBlJTNEJTIyaW5wcm9jZWVkaW5ncyUyMiUyQyUwQSUyMCUyMCUyMCUyMHNlcmllcyUzRCUyMlBST0ZFUyUyMCUyNzEwJTIyJTJDJTBBJTIwJTIwJTIwJTIwaXNibiUzRCUyMjk3OC0xLTQ1MDMtMDI4MS00JTIyJTJDJTBBJTIwJTIwJTIwJTIwbG9jYXRpb24lM0QlMjJMaW1lcmljayUyQyUyMElyZWxhbmQlMjIlMkMlMEElMjAlMjAlMjAlMjBudW1wYWdlcyUzRCUyMjQlMjIlMkMlMEElMjAlMjAlMjAlMjBsaW5rJTNEJTIyaHR0cCUzQS8vZG9pLmFjbS5vcmcvMTAuMTE0NS8xOTYxMjU4LjE5NjEyNzAlMjIlMkMlMEElMjAlMjAlMjAlMjBkb2klM0QlMjIxMC4xMTQ1LzE5NjEyNTguMTk2MTI3MCUyMiUyQyUwQSUyMCUyMCUyMCUyMGFjbWlkJTNEJTIyMTk2MTI3MCUyMiUyQyUwQSUyMCUyMCUyMCUyMHB1Ymxpc2hlciUzRCUyMkFDTSUyMiUyQyUwQSUyMCUyMCUyMCUyMGFkZHJlc3MlM0QlMjJOZXclMjBZb3JrJTJDJTIwTlklMkMlMjBVU0ElMjIlMkMlMEElMjAlMjAlMjAlMjBrZXl3b3JkJTNEJTIyZmVhdHVyZSUyMG1vZGVsaW5nJTJDJTIwcHJvamVjdCUyMGVudmlyb25tZW50JTIwdmFyaWFiaWxpdHklMjBtYW5hZ2VtZW50JTIyJTJDJTBBJTIwJTIwJTIwJTIwSUQlM0QlMjJNb3NlciUzQTIwMTAlM0FQRk0lM0ExOTYxMjU4LjE5NjEyNzAlMjIlMkMlMEElMjAlMjAlMjAlMjBhY20yMDE1JTNEJTIyMSUyMiUyQyUwQSUyMCUyMCUyMCUyMHBsYWNleCUzRCUyMlByb2NlZWRpbmdzJTIwb2YlMjB0aGUlMjAxMXRoJTIwSW50ZXJuYXRpb25hbCUyMENvbmZlcmVuY2UlMjBvbiUyMFByb2R1Y3QlMjBGb2N1c2VkJTIwU29mdHdhcmUlMjIlMkMlMEElMjklMjklMEElMjclMjclMjclMjklM0I=\")));\n",
       "    "
      ],
      "text/plain": [
       "<IPython.core.display.Javascript object>"
      ]
     },
     "metadata": {},
     "output_type": "display_data"
    },
    {
     "data": {
      "application/javascript": [
       "$('span:contains(\"# Temp\")').closest('.cell').remove();"
      ],
      "text/plain": [
       "<IPython.core.display.Javascript object>"
      ]
     },
     "metadata": {},
     "output_type": "display_data"
    },
    {
     "data": {
      "application/javascript": [
       "\n",
       "        $('span:contains(\"# Temp\")').closest('.cell').remove();\n",
       "        var code = IPython.notebook.insert_cell_below('code');\n",
       "        code.set_text(decodeURIComponent(window.atob(\"JTIzJTIwVGVtcCUwQWluc2VydCUyOCUyNyUyNyUyNyUwQXJhamFuZW4yMDEyYSUyMCUzRCUyMERCJTI4V29ya1VucmVsYXRlZCUyOCUwQSUyMCUyMCUyMCUyMDIwMTIlMkMlMjAlMjJJbnRyb2R1Y2luZyUyMFVzYWJpbGl0eSUyMEFjdGl2aXRpZXMlMjBpbnRvJTIwT3BlbiUyMFNvdXJjZSUyMFNvZnR3YXJlJTIwRGV2ZWxvcG1lbnQlMjBQcm9qZWN0cyUzQSUyMEElMjBQYXJ0aWNpcGF0aXZlJTIwQXBwcm9hY2glMjIlMkMlMEElMjAlMjAlMjAlMjBkaXNwbGF5JTNEJTIycmFqYW5lbiUyMiUyQyUwQSUyMCUyMCUyMCUyMGF1dGhvcnMlM0QlMjJSYWphbmVuJTJDJTIwTWlra28lMjBhbmQlMjBJaXZhcmklMkMlMjBOZXR0YSUyMGFuZCUyMEtlc2tpdGFsbyUyQyUyMEVpbm8lMjIlMkMlMEElMjAlMjAlMjAlMjBwbGFjZSUzREZBS0UlMkMlMEElMjAlMjAlMjAlMjBwcCUzRCUyMjY4My0tNjkyJTIyJTJDJTBBJTIwJTIwJTIwJTIwZW50cnl0eXBlJTNEJTIyaW5wcm9jZWVkaW5ncyUyMiUyQyUwQSUyMCUyMCUyMCUyMHNlcmllcyUzRCUyMk5vcmRpQ0hJJTIwJTI3MTIlMjIlMkMlMEElMjAlMjAlMjAlMjBpc2JuJTNEJTIyOTc4LTEtNDUwMy0xNDgyLTQlMjIlMkMlMEElMjAlMjAlMjAlMjBsb2NhdGlvbiUzRCUyMkNvcGVuaGFnZW4lMkMlMjBEZW5tYXJrJTIyJTJDJTBBJTIwJTIwJTIwJTIwbnVtcGFnZXMlM0QlMjIxMCUyMiUyQyUwQSUyMCUyMCUyMCUyMGxpbmslM0QlMjJodHRwJTNBLy9kb2kuYWNtLm9yZy8xMC4xMTQ1LzIzOTkwMTYuMjM5OTEyMCUyMiUyQyUwQSUyMCUyMCUyMCUyMGRvaSUzRCUyMjEwLjExNDUvMjM5OTAxNi4yMzk5MTIwJTIyJTJDJTBBJTIwJTIwJTIwJTIwYWNtaWQlM0QlMjIyMzk5MTIwJTIyJTJDJTBBJTIwJTIwJTIwJTIwcHVibGlzaGVyJTNEJTIyQUNNJTIyJTJDJTBBJTIwJTIwJTIwJTIwYWRkcmVzcyUzRCUyMk5ldyUyMFlvcmslMkMlMjBOWSUyQyUyMFVTQSUyMiUyQyUwQSUyMCUyMCUyMCUyMGtleXdvcmQlM0QlMjJvcGVuJTIwc291cmNlJTIwc29mdHdhcmUlMkMlMjBwYXJ0aWNpcGF0aXZlJTIwYXBwcm9hY2glMkMlMjB1c2FiaWxpdHklMjIlMkMlMEElMjAlMjAlMjAlMjBJRCUzRCUyMlJhamFuZW4lM0EyMDEyJTNBSVVBJTNBMjM5OTAxNi4yMzk5MTIwJTIyJTJDJTBBJTIwJTIwJTIwJTIwYWNtMjAxNSUzRCUyMjElMjIlMkMlMEElMjAlMjAlMjAlMjBwbGFjZXglM0QlMjJQcm9jZWVkaW5ncyUyMG9mJTIwdGhlJTIwN3RoJTIwTm9yZGljJTIwQ29uZmVyZW5jZSUyMG9uJTIwSHVtYW4tQ29tcHV0ZXIlMjBJbnRlcmFjdGlvbiUzQSUyME1ha2luZyUyMFNlbnNlJTIwVGhyb3VnaCUyMERlc2lnbiUyMiUyQyUwQSUyOSUyOSUwQSUyNyUyNyUyNyUyOSUzQg==\")));\n",
       "    "
      ],
      "text/plain": [
       "<IPython.core.display.Javascript object>"
      ]
     },
     "metadata": {},
     "output_type": "display_data"
    },
    {
     "data": {
      "application/javascript": [
       "$('span:contains(\"# Temp\")').closest('.cell').remove();"
      ],
      "text/plain": [
       "<IPython.core.display.Javascript object>"
      ]
     },
     "metadata": {},
     "output_type": "display_data"
    },
    {
     "data": {
      "application/javascript": [
       "\n",
       "        $('span:contains(\"# Temp\")').closest('.cell').remove();\n",
       "        var code = IPython.notebook.insert_cell_below('code');\n",
       "        code.set_text(decodeURIComponent(window.atob(\"JTIzJTIwVGVtcCUwQWluc2VydCUyOCUyNyUyNyUyNyUwQXJhamFuZW4yMDEyYSUyMCUzRCUyMERCJTI4V29ya1VucmVsYXRlZCUyOCUwQSUyMCUyMCUyMCUyMDIwMTIlMkMlMjAlMjJJbnRyb2R1Y2luZyUyMFVzYWJpbGl0eSUyMEFjdGl2aXRpZXMlMjBpbnRvJTIwT3BlbiUyMFNvdXJjZSUyMFNvZnR3YXJlJTIwRGV2ZWxvcG1lbnQlMjBQcm9qZWN0cyUzQSUyMEElMjBQYXJ0aWNpcGF0aXZlJTIwQXBwcm9hY2glMjIlMkMlMEElMjAlMjAlMjAlMjBkaXNwbGF5JTNEJTIycmFqYW5lbiUyMiUyQyUwQSUyMCUyMCUyMCUyMGF1dGhvcnMlM0QlMjJSYWphbmVuJTJDJTIwTWlra28lMjBhbmQlMjBJaXZhcmklMkMlMjBOZXR0YSUyMGFuZCUyMEtlc2tpdGFsbyUyQyUyMEVpbm8lMjIlMkMlMEElMjAlMjAlMjAlMjBwbGFjZSUzREZBS0UlMkMlMEElMjAlMjAlMjAlMjBwcCUzRCUyMjY4My0tNjkyJTIyJTJDJTBBJTIwJTIwJTIwJTIwZW50cnl0eXBlJTNEJTIyaW5wcm9jZWVkaW5ncyUyMiUyQyUwQSUyMCUyMCUyMCUyMHNlcmllcyUzRCUyMk5vcmRpQ0hJJTIwJTI3MTIlMjIlMkMlMEElMjAlMjAlMjAlMjBpc2JuJTNEJTIyOTc4LTEtNDUwMy0xNDgyLTQlMjIlMkMlMEElMjAlMjAlMjAlMjBsb2NhdGlvbiUzRCUyMkNvcGVuaGFnZW4lMkMlMjBEZW5tYXJrJTIyJTJDJTBBJTIwJTIwJTIwJTIwbnVtcGFnZXMlM0QlMjIxMCUyMiUyQyUwQSUyMCUyMCUyMCUyMGxpbmslM0QlMjJodHRwJTNBLy9kb2kuYWNtLm9yZy8xMC4xMTQ1LzIzOTkwMTYuMjM5OTEyMCUyMiUyQyUwQSUyMCUyMCUyMCUyMGRvaSUzRCUyMjEwLjExNDUvMjM5OTAxNi4yMzk5MTIwJTIyJTJDJTBBJTIwJTIwJTIwJTIwYWNtaWQlM0QlMjIyMzk5MTIwJTIyJTJDJTBBJTIwJTIwJTIwJTIwcHVibGlzaGVyJTNEJTIyQUNNJTIyJTJDJTBBJTIwJTIwJTIwJTIwYWRkcmVzcyUzRCUyMk5ldyUyMFlvcmslMkMlMjBOWSUyQyUyMFVTQSUyMiUyQyUwQSUyMCUyMCUyMCUyMGtleXdvcmQlM0QlMjJvcGVuJTIwc291cmNlJTIwc29mdHdhcmUlMkMlMjBwYXJ0aWNpcGF0aXZlJTIwYXBwcm9hY2glMkMlMjB1c2FiaWxpdHklMjIlMkMlMEElMjAlMjAlMjAlMjBJRCUzRCUyMlJhamFuZW4lM0EyMDEyJTNBSVVBJTNBMjM5OTAxNi4yMzk5MTIwJTIyJTJDJTBBJTIwJTIwJTIwJTIwYWNtMjAxNSUzRCUyMjElMjIlMkMlMEElMjAlMjAlMjAlMjBwbGFjZXglM0QlMjJQcm9jZWVkaW5ncyUyMG9mJTIwdGhlJTIwN3RoJTIwTm9yZGljJTIwQ29uZmVyZW5jZSUyMG9uJTIwSHVtYW4tQ29tcHV0ZXIlMjBJbnRlcmFjdGlvbiUzQSUyME1ha2luZyUyMFNlbnNlJTIwVGhyb3VnaCUyMERlc2lnbiUyMiUyQyUwQSUyOSUyOSUwQSUyNyUyNyUyNyUyOSUzQg==\")));\n",
       "    "
      ],
      "text/plain": [
       "<IPython.core.display.Javascript object>"
      ]
     },
     "metadata": {},
     "output_type": "display_data"
    },
    {
     "data": {
      "application/javascript": [
       "$('span:contains(\"# Temp\")').closest('.cell').remove();"
      ],
      "text/plain": [
       "<IPython.core.display.Javascript object>"
      ]
     },
     "metadata": {},
     "output_type": "display_data"
    },
    {
     "data": {
      "application/javascript": [
       "\n",
       "        $('span:contains(\"# Temp\")').closest('.cell').remove();\n",
       "        var code = IPython.notebook.insert_cell_below('code');\n",
       "        code.set_text(decodeURIComponent(window.atob(\"JTIzJTIwVGVtcCUwQWluc2VydCUyOCUyNyUyNyUyNyUwQW1hcnRpbmkyMDEyYSUyMCUzRCUyMERCJTI4V29ya1VucmVsYXRlZCUyOCUwQSUyMCUyMCUyMCUyMDIwMTIlMkMlMjAlMjJFbmFibGVycyUyMGFuZCUyMEluaGliaXRvcnMlMjBmb3IlMjBTcGVlZCUyMHdpdGglMjBSZXVzZSUyMiUyQyUwQSUyMCUyMCUyMCUyMGRpc3BsYXklM0QlMjJtYXJ0aW5pJTIyJTJDJTBBJTIwJTIwJTIwJTIwYXV0aG9ycyUzRCUyMk1hcnRpbmklMkMlMjBBbnRvbmlvJTIwYW5kJTIwUGFyZXRvJTJDJTIwTGFycyUyMGFuZCUyMEJvc2NoJTJDJTIwSmFuJTIyJTJDJTBBJTIwJTIwJTIwJTIwcGxhY2UlM0RGQUtFJTJDJTBBJTIwJTIwJTIwJTIwcHAlM0QlMjIxMTYtLTEyNSUyMiUyQyUwQSUyMCUyMCUyMCUyMGVudHJ5dHlwZSUzRCUyMmlucHJvY2VlZGluZ3MlMjIlMkMlMEElMjAlMjAlMjAlMjBzZXJpZXMlM0QlMjJTUExDJTIwJTI3MTIlMjIlMkMlMEElMjAlMjAlMjAlMjBpc2JuJTNEJTIyOTc4LTEtNDUwMy0xMDk0LTklMjIlMkMlMEElMjAlMjAlMjAlMjBsb2NhdGlvbiUzRCUyMlNhbHZhZG9yJTJDJTIwQnJhemlsJTIyJTJDJTBBJTIwJTIwJTIwJTIwbnVtcGFnZXMlM0QlMjIxMCUyMiUyQyUwQSUyMCUyMCUyMCUyMGxpbmslM0QlMjJodHRwJTNBLy9kb2kuYWNtLm9yZy8xMC4xMTQ1LzIzNjI1MzYuMjM2MjU1NCUyMiUyQyUwQSUyMCUyMCUyMCUyMGRvaSUzRCUyMjEwLjExNDUvMjM2MjUzNi4yMzYyNTU0JTIyJTJDJTBBJTIwJTIwJTIwJTIwYWNtaWQlM0QlMjIyMzYyNTU0JTIyJTJDJTBBJTIwJTIwJTIwJTIwcHVibGlzaGVyJTNEJTIyQUNNJTIyJTJDJTBBJTIwJTIwJTIwJTIwYWRkcmVzcyUzRCUyMk5ldyUyMFlvcmslMkMlMjBOWSUyQyUyMFVTQSUyMiUyQyUwQSUyMCUyMCUyMCUyMGtleXdvcmQlM0QlMjJhZ2lsZSUyMHNvZnR3YXJlJTIwZGV2ZWxvcG1lbnQlMkMlMjBlbWJlZGRlZCUyMHN5c3RlbXMlMkMlMjBlbmFibGVycyUyQyUyMGluaGliaXRvcnMlMkMlMjBzb2Z0d2FyZSUyMHByb2Nlc3MlMjBpbXByb3ZlbWVudCUyMCUyOFNQSSUyOSUyQyUyMHNvZnR3YXJlJTIwcmV1c2UlMkMlMjBzcGVlZCUyMiUyQyUwQSUyMCUyMCUyMCUyMElEJTNEJTIyTWFydGluaSUzQTIwMTIlM0FFSVMlM0EyMzYyNTM2LjIzNjI1NTQlMjIlMkMlMEElMjAlMjAlMjAlMjBhY20yMDE1JTNEJTIyMSUyMiUyQyUwQSUyMCUyMCUyMCUyMHBsYWNleCUzRCUyMlByb2NlZWRpbmdzJTIwb2YlMjB0aGUlMjAxNnRoJTIwSW50ZXJuYXRpb25hbCUyMFNvZnR3YXJlJTIwUHJvZHVjdCUyMExpbmUlMjBDb25mZXJlbmNlJTIwLSUyMFZvbHVtZSUyMDElMjIlMkMlMEElMjklMjklMEElMjclMjclMjclMjklM0I=\")));\n",
       "    "
      ],
      "text/plain": [
       "<IPython.core.display.Javascript object>"
      ]
     },
     "metadata": {},
     "output_type": "display_data"
    },
    {
     "data": {
      "application/javascript": [
       "$('span:contains(\"# Temp\")').closest('.cell').remove();"
      ],
      "text/plain": [
       "<IPython.core.display.Javascript object>"
      ]
     },
     "metadata": {},
     "output_type": "display_data"
    },
    {
     "data": {
      "application/javascript": [
       "\n",
       "        $('span:contains(\"# Temp\")').closest('.cell').remove();\n",
       "        var code = IPython.notebook.insert_cell_below('code');\n",
       "        code.set_text(decodeURIComponent(window.atob(\"JTIzJTIwVGVtcCUwQWluc2VydCUyOCUyNyUyNyUyNyUwQW1hcnRpbmkyMDEyYSUyMCUzRCUyMERCJTI4V29ya1VucmVsYXRlZCUyOCUwQSUyMCUyMCUyMCUyMDIwMTIlMkMlMjAlMjJFbmFibGVycyUyMGFuZCUyMEluaGliaXRvcnMlMjBmb3IlMjBTcGVlZCUyMHdpdGglMjBSZXVzZSUyMiUyQyUwQSUyMCUyMCUyMCUyMGRpc3BsYXklM0QlMjJtYXJ0aW5pJTIyJTJDJTBBJTIwJTIwJTIwJTIwYXV0aG9ycyUzRCUyMk1hcnRpbmklMkMlMjBBbnRvbmlvJTIwYW5kJTIwUGFyZXRvJTJDJTIwTGFycyUyMGFuZCUyMEJvc2NoJTJDJTIwSmFuJTIyJTJDJTBBJTIwJTIwJTIwJTIwcGxhY2UlM0RGQUtFJTJDJTBBJTIwJTIwJTIwJTIwcHAlM0QlMjIxMTYtLTEyNSUyMiUyQyUwQSUyMCUyMCUyMCUyMGVudHJ5dHlwZSUzRCUyMmlucHJvY2VlZGluZ3MlMjIlMkMlMEElMjAlMjAlMjAlMjBzZXJpZXMlM0QlMjJTUExDJTIwJTI3MTIlMjIlMkMlMEElMjAlMjAlMjAlMjBpc2JuJTNEJTIyOTc4LTEtNDUwMy0xMDk0LTklMjIlMkMlMEElMjAlMjAlMjAlMjBsb2NhdGlvbiUzRCUyMlNhbHZhZG9yJTJDJTIwQnJhemlsJTIyJTJDJTBBJTIwJTIwJTIwJTIwbnVtcGFnZXMlM0QlMjIxMCUyMiUyQyUwQSUyMCUyMCUyMCUyMGxpbmslM0QlMjJodHRwJTNBLy9kb2kuYWNtLm9yZy8xMC4xMTQ1LzIzNjI1MzYuMjM2MjU1NCUyMiUyQyUwQSUyMCUyMCUyMCUyMGRvaSUzRCUyMjEwLjExNDUvMjM2MjUzNi4yMzYyNTU0JTIyJTJDJTBBJTIwJTIwJTIwJTIwYWNtaWQlM0QlMjIyMzYyNTU0JTIyJTJDJTBBJTIwJTIwJTIwJTIwcHVibGlzaGVyJTNEJTIyQUNNJTIyJTJDJTBBJTIwJTIwJTIwJTIwYWRkcmVzcyUzRCUyMk5ldyUyMFlvcmslMkMlMjBOWSUyQyUyMFVTQSUyMiUyQyUwQSUyMCUyMCUyMCUyMGtleXdvcmQlM0QlMjJhZ2lsZSUyMHNvZnR3YXJlJTIwZGV2ZWxvcG1lbnQlMkMlMjBlbWJlZGRlZCUyMHN5c3RlbXMlMkMlMjBlbmFibGVycyUyQyUyMGluaGliaXRvcnMlMkMlMjBzb2Z0d2FyZSUyMHByb2Nlc3MlMjBpbXByb3ZlbWVudCUyMCUyOFNQSSUyOSUyQyUyMHNvZnR3YXJlJTIwcmV1c2UlMkMlMjBzcGVlZCUyMiUyQyUwQSUyMCUyMCUyMCUyMElEJTNEJTIyTWFydGluaSUzQTIwMTIlM0FFSVMlM0EyMzYyNTM2LjIzNjI1NTQlMjIlMkMlMEElMjAlMjAlMjAlMjBhY20yMDE1JTNEJTIyMSUyMiUyQyUwQSUyMCUyMCUyMCUyMHBsYWNleCUzRCUyMlByb2NlZWRpbmdzJTIwb2YlMjB0aGUlMjAxNnRoJTIwSW50ZXJuYXRpb25hbCUyMFNvZnR3YXJlJTIwUHJvZHVjdCUyMExpbmUlMjBDb25mZXJlbmNlJTIwLSUyMFZvbHVtZSUyMDElMjIlMkMlMEElMjklMjklMEElMjclMjclMjclMjklM0I=\")));\n",
       "    "
      ],
      "text/plain": [
       "<IPython.core.display.Javascript object>"
      ]
     },
     "metadata": {},
     "output_type": "display_data"
    },
    {
     "data": {
      "application/javascript": [
       "$('span:contains(\"# Temp\")').closest('.cell').remove();"
      ],
      "text/plain": [
       "<IPython.core.display.Javascript object>"
      ]
     },
     "metadata": {},
     "output_type": "display_data"
    },
    {
     "data": {
      "application/javascript": [
       "\n",
       "        $('span:contains(\"# Temp\")').closest('.cell').remove();\n",
       "        var code = IPython.notebook.insert_cell_below('code');\n",
       "        code.set_text(decodeURIComponent(window.atob(\"JTIzJTIwVGVtcCUwQWluc2VydCUyOCUyNyUyNyUyNyUwQW5pa2l0aW5hMjAxMGElMjAlM0QlMjBEQiUyOFdvcmtVbnJlbGF0ZWQlMjglMEElMjAlMjAlMjAlMjAyMDEwJTJDJTIwJTIyQ29uc2VxdWVuY2VzJTIwb2YlMjBCdXNpbmVzcyUyMEdyb3d0aCUyMG9uJTIwU29mdHdhcmUlMjBQcm9jZXNzZXMlMjIlMkMlMEElMjAlMjAlMjAlMjBkaXNwbGF5JTNEJTIybmlraXRpbmElMjIlMkMlMEElMjAlMjAlMjAlMjBhdXRob3JzJTNEJTIyTmlraXRpbmElMkMlMjBOYXRhbGphJTIwYW5kJTIwS2Fqa28tTWF0dHNzb24lMkMlMjBNaXJhJTIyJTJDJTBBJTIwJTIwJTIwJTIwcGxhY2UlM0RJQ1BGU1BJJTJDJTBBJTIwJTIwJTIwJTIwcHAlM0QlMjIzNS0tMzglMjIlMkMlMEElMjAlMjAlMjAlMjBlbnRyeXR5cGUlM0QlMjJpbnByb2NlZWRpbmdzJTIyJTJDJTBBJTIwJTIwJTIwJTIwc2VyaWVzJTNEJTIyUFJPRkVTJTIwJTI3MTAlMjIlMkMlMEElMjAlMjAlMjAlMjBpc2JuJTNEJTIyOTc4LTEtNDUwMy0wMjgxLTQlMjIlMkMlMEElMjAlMjAlMjAlMjBsb2NhdGlvbiUzRCUyMkxpbWVyaWNrJTJDJTIwSXJlbGFuZCUyMiUyQyUwQSUyMCUyMCUyMCUyMG51bXBhZ2VzJTNEJTIyNCUyMiUyQyUwQSUyMCUyMCUyMCUyMGxpbmslM0QlMjJodHRwJTNBLy9kb2kuYWNtLm9yZy8xMC4xMTQ1LzE5NjEyNTguMTk2MTI2NyUyMiUyQyUwQSUyMCUyMCUyMCUyMGRvaSUzRCUyMjEwLjExNDUvMTk2MTI1OC4xOTYxMjY3JTIyJTJDJTBBJTIwJTIwJTIwJTIwYWNtaWQlM0QlMjIxOTYxMjY3JTIyJTJDJTBBJTIwJTIwJTIwJTIwcHVibGlzaGVyJTNEJTIyQUNNJTIyJTJDJTBBJTIwJTIwJTIwJTIwYWRkcmVzcyUzRCUyMk5ldyUyMFlvcmslMkMlMjBOWSUyQyUyMFVTQSUyMiUyQyUwQSUyMCUyMCUyMCUyMGtleXdvcmQlM0QlMjJTY3J1bSUyQyUyMGJ1c2luZXNzJTIwZ3Jvd3RoJTJDJTIwZGlzdHJpYnV0ZWQlMjB0ZWFtcyUyQyUyMHByb2Nlc3MlMjBjaGFuZ2UlMjIlMkMlMEElMjAlMjAlMjAlMjBJRCUzRCUyMk5pa2l0aW5hJTNBMjAxMCUzQUNCRyUzQTE5NjEyNTguMTk2MTI2NyUyMiUyQyUwQSUyMCUyMCUyMCUyMGFjbTIwMTUlM0QlMjIxJTIyJTJDJTBBJTIwJTIwJTIwJTIwcGxhY2V4JTNEJTIyUHJvY2VlZGluZ3MlMjBvZiUyMHRoZSUyMDExdGglMjBJbnRlcm5hdGlvbmFsJTIwQ29uZmVyZW5jZSUyMG9uJTIwUHJvZHVjdCUyMEZvY3VzZWQlMjBTb2Z0d2FyZSUyMiUyQyUwQSUyOSUyOSUwQSUyNyUyNyUyNyUyOSUzQg==\")));\n",
       "    "
      ],
      "text/plain": [
       "<IPython.core.display.Javascript object>"
      ]
     },
     "metadata": {},
     "output_type": "display_data"
    },
    {
     "data": {
      "application/javascript": [
       "$('span:contains(\"# Temp\")').closest('.cell').remove();"
      ],
      "text/plain": [
       "<IPython.core.display.Javascript object>"
      ]
     },
     "metadata": {},
     "output_type": "display_data"
    },
    {
     "data": {
      "application/javascript": [
       "\n",
       "        $('span:contains(\"# Temp\")').closest('.cell').remove();\n",
       "        var code = IPython.notebook.insert_cell_below('code');\n",
       "        code.set_text(decodeURIComponent(window.atob(\"JTIzJTIwVGVtcCUwQWluc2VydCUyOCUyNyUyNyUyNyUwQW5pa2l0aW5hMjAxMGElMjAlM0QlMjBEQiUyOFdvcmtVbnJlbGF0ZWQlMjglMEElMjAlMjAlMjAlMjAyMDEwJTJDJTIwJTIyQ29uc2VxdWVuY2VzJTIwb2YlMjBCdXNpbmVzcyUyMEdyb3d0aCUyMG9uJTIwU29mdHdhcmUlMjBQcm9jZXNzZXMlMjIlMkMlMEElMjAlMjAlMjAlMjBkaXNwbGF5JTNEJTIybmlraXRpbmElMjIlMkMlMEElMjAlMjAlMjAlMjBhdXRob3JzJTNEJTIyTmlraXRpbmElMkMlMjBOYXRhbGphJTIwYW5kJTIwS2Fqa28tTWF0dHNzb24lMkMlMjBNaXJhJTIyJTJDJTBBJTIwJTIwJTIwJTIwcGxhY2UlM0RJQ1BGU1BJJTJDJTBBJTIwJTIwJTIwJTIwcHAlM0QlMjIzNS0tMzglMjIlMkMlMEElMjAlMjAlMjAlMjBlbnRyeXR5cGUlM0QlMjJpbnByb2NlZWRpbmdzJTIyJTJDJTBBJTIwJTIwJTIwJTIwc2VyaWVzJTNEJTIyUFJPRkVTJTIwJTI3MTAlMjIlMkMlMEElMjAlMjAlMjAlMjBpc2JuJTNEJTIyOTc4LTEtNDUwMy0wMjgxLTQlMjIlMkMlMEElMjAlMjAlMjAlMjBsb2NhdGlvbiUzRCUyMkxpbWVyaWNrJTJDJTIwSXJlbGFuZCUyMiUyQyUwQSUyMCUyMCUyMCUyMG51bXBhZ2VzJTNEJTIyNCUyMiUyQyUwQSUyMCUyMCUyMCUyMGxpbmslM0QlMjJodHRwJTNBLy9kb2kuYWNtLm9yZy8xMC4xMTQ1LzE5NjEyNTguMTk2MTI2NyUyMiUyQyUwQSUyMCUyMCUyMCUyMGRvaSUzRCUyMjEwLjExNDUvMTk2MTI1OC4xOTYxMjY3JTIyJTJDJTBBJTIwJTIwJTIwJTIwYWNtaWQlM0QlMjIxOTYxMjY3JTIyJTJDJTBBJTIwJTIwJTIwJTIwcHVibGlzaGVyJTNEJTIyQUNNJTIyJTJDJTBBJTIwJTIwJTIwJTIwYWRkcmVzcyUzRCUyMk5ldyUyMFlvcmslMkMlMjBOWSUyQyUyMFVTQSUyMiUyQyUwQSUyMCUyMCUyMCUyMGtleXdvcmQlM0QlMjJTY3J1bSUyQyUyMGJ1c2luZXNzJTIwZ3Jvd3RoJTJDJTIwZGlzdHJpYnV0ZWQlMjB0ZWFtcyUyQyUyMHByb2Nlc3MlMjBjaGFuZ2UlMjIlMkMlMEElMjAlMjAlMjAlMjBJRCUzRCUyMk5pa2l0aW5hJTNBMjAxMCUzQUNCRyUzQTE5NjEyNTguMTk2MTI2NyUyMiUyQyUwQSUyMCUyMCUyMCUyMGFjbTIwMTUlM0QlMjIxJTIyJTJDJTBBJTIwJTIwJTIwJTIwcGxhY2V4JTNEJTIyUHJvY2VlZGluZ3MlMjBvZiUyMHRoZSUyMDExdGglMjBJbnRlcm5hdGlvbmFsJTIwQ29uZmVyZW5jZSUyMG9uJTIwUHJvZHVjdCUyMEZvY3VzZWQlMjBTb2Z0d2FyZSUyMiUyQyUwQSUyOSUyOSUwQSUyNyUyNyUyNyUyOSUzQg==\")));\n",
       "    "
      ],
      "text/plain": [
       "<IPython.core.display.Javascript object>"
      ]
     },
     "metadata": {},
     "output_type": "display_data"
    },
    {
     "data": {
      "application/javascript": [
       "$('span:contains(\"# Temp\")').closest('.cell').remove();"
      ],
      "text/plain": [
       "<IPython.core.display.Javascript object>"
      ]
     },
     "metadata": {},
     "output_type": "display_data"
    },
    {
     "data": {
      "application/javascript": [
       "\n",
       "        $('span:contains(\"# Temp\")').closest('.cell').remove();\n",
       "        var code = IPython.notebook.insert_cell_below('code');\n",
       "        code.set_text(decodeURIComponent(window.atob(\"JTIzJTIwVGVtcCUwQWluc2VydCUyOCUyNyUyNyUyNyUyNyUyNyUyNyUyOSUzQg==\")));\n",
       "    "
      ],
      "text/plain": [
       "<IPython.core.display.Javascript object>"
      ]
     },
     "metadata": {},
     "output_type": "display_data"
    },
    {
     "data": {
      "application/javascript": [
       "$('span:contains(\"# Temp\")').closest('.cell').remove();"
      ],
      "text/plain": [
       "<IPython.core.display.Javascript object>"
      ]
     },
     "metadata": {},
     "output_type": "display_data"
    },
    {
     "data": {
      "application/javascript": [
       "\n",
       "        $('span:contains(\"# Temp\")').closest('.cell').remove();\n",
       "        var code = IPython.notebook.insert_cell_below('code');\n",
       "        code.set_text(decodeURIComponent(window.atob(\"JTIzJTIwVGVtcCUwQWluc2VydCUyOCUyNyUyNyUyNyUyNyUyNyUyNyUyOSUzQg==\")));\n",
       "    "
      ],
      "text/plain": [
       "<IPython.core.display.Javascript object>"
      ]
     },
     "metadata": {},
     "output_type": "display_data"
    },
    {
     "data": {
      "application/javascript": [
       "$('span:contains(\"# Temp\")').closest('.cell').remove();"
      ],
      "text/plain": [
       "<IPython.core.display.Javascript object>"
      ]
     },
     "metadata": {},
     "output_type": "display_data"
    },
    {
     "data": {
      "application/javascript": [
       "\n",
       "        $('span:contains(\"# Temp\")').closest('.cell').remove();\n",
       "        var code = IPython.notebook.insert_cell_below('code');\n",
       "        code.set_text(decodeURIComponent(window.atob(\"JTIzJTIwVGVtcCUwQWluc2VydCUyOCUyNyUyNyUyNyUwQW5pa2l0aW5hMjAxMGElMjAlM0QlMjBEQiUyOFdvcmtVbnJlbGF0ZWQlMjglMEElMjAlMjAlMjAlMjAyMDEwJTJDJTIwJTIyQ29uc2VxdWVuY2VzJTIwb2YlMjBCdXNpbmVzcyUyMEdyb3d0aCUyMG9uJTIwU29mdHdhcmUlMjBQcm9jZXNzZXMlMjIlMkMlMEElMjAlMjAlMjAlMjBkaXNwbGF5JTNEJTIybmlraXRpbmElMjIlMkMlMEElMjAlMjAlMjAlMjBhdXRob3JzJTNEJTIyTmlraXRpbmElMkMlMjBOYXRhbGphJTIwYW5kJTIwS2Fqa28tTWF0dHNzb24lMkMlMjBNaXJhJTIyJTJDJTBBJTIwJTIwJTIwJTIwcGxhY2UlM0RJQ1BGU1BJJTJDJTBBJTIwJTIwJTIwJTIwcHAlM0QlMjIzNS0tMzglMjIlMkMlMEElMjAlMjAlMjAlMjBlbnRyeXR5cGUlM0QlMjJpbnByb2NlZWRpbmdzJTIyJTJDJTBBJTIwJTIwJTIwJTIwc2VyaWVzJTNEJTIyUFJPRkVTJTIwJTI3MTAlMjIlMkMlMEElMjAlMjAlMjAlMjBpc2JuJTNEJTIyOTc4LTEtNDUwMy0wMjgxLTQlMjIlMkMlMEElMjAlMjAlMjAlMjBsb2NhdGlvbiUzRCUyMkxpbWVyaWNrJTJDJTIwSXJlbGFuZCUyMiUyQyUwQSUyMCUyMCUyMCUyMG51bXBhZ2VzJTNEJTIyNCUyMiUyQyUwQSUyMCUyMCUyMCUyMGxpbmslM0QlMjJodHRwJTNBLy9kb2kuYWNtLm9yZy8xMC4xMTQ1LzE5NjEyNTguMTk2MTI2NyUyMiUyQyUwQSUyMCUyMCUyMCUyMGRvaSUzRCUyMjEwLjExNDUvMTk2MTI1OC4xOTYxMjY3JTIyJTJDJTBBJTIwJTIwJTIwJTIwYWNtaWQlM0QlMjIxOTYxMjY3JTIyJTJDJTBBJTIwJTIwJTIwJTIwcHVibGlzaGVyJTNEJTIyQUNNJTIyJTJDJTBBJTIwJTIwJTIwJTIwYWRkcmVzcyUzRCUyMk5ldyUyMFlvcmslMkMlMjBOWSUyQyUyMFVTQSUyMiUyQyUwQSUyMCUyMCUyMCUyMGtleXdvcmQlM0QlMjJTY3J1bSUyQyUyMGJ1c2luZXNzJTIwZ3Jvd3RoJTJDJTIwZGlzdHJpYnV0ZWQlMjB0ZWFtcyUyQyUyMHByb2Nlc3MlMjBjaGFuZ2UlMjIlMkMlMEElMjAlMjAlMjAlMjBJRCUzRCUyMk5pa2l0aW5hJTNBMjAxMCUzQUNCRyUzQTE5NjEyNTguMTk2MTI2NyUyMiUyQyUwQSUyMCUyMCUyMCUyMGFjbTIwMTUlM0QlMjIxJTIyJTJDJTBBJTIwJTIwJTIwJTIwcGxhY2V4JTNEJTIyUHJvY2VlZGluZ3MlMjBvZiUyMHRoZSUyMDExdGglMjBJbnRlcm5hdGlvbmFsJTIwQ29uZmVyZW5jZSUyMG9uJTIwUHJvZHVjdCUyMEZvY3VzZWQlMjBTb2Z0d2FyZSUyMiUyQyUwQSUyOSUyOSUwQSUyNyUyNyUyNyUyOSUzQg==\")));\n",
       "    "
      ],
      "text/plain": [
       "<IPython.core.display.Javascript object>"
      ]
     },
     "metadata": {},
     "output_type": "display_data"
    },
    {
     "data": {
      "application/javascript": [
       "$('span:contains(\"# Temp\")').closest('.cell').remove();"
      ],
      "text/plain": [
       "<IPython.core.display.Javascript object>"
      ]
     },
     "metadata": {},
     "output_type": "display_data"
    },
    {
     "data": {
      "application/javascript": [
       "\n",
       "        $('span:contains(\"# Temp\")').closest('.cell').remove();\n",
       "        var code = IPython.notebook.insert_cell_below('code');\n",
       "        code.set_text(decodeURIComponent(window.atob(\"JTIzJTIwVGVtcCUwQWluc2VydCUyOCUyNyUyNyUyNyUwQW5pa2l0aW5hMjAxMGElMjAlM0QlMjBEQiUyOFdvcmtVbnJlbGF0ZWQlMjglMEElMjAlMjAlMjAlMjAyMDEwJTJDJTIwJTIyQ29uc2VxdWVuY2VzJTIwb2YlMjBCdXNpbmVzcyUyMEdyb3d0aCUyMG9uJTIwU29mdHdhcmUlMjBQcm9jZXNzZXMlMjIlMkMlMEElMjAlMjAlMjAlMjBkaXNwbGF5JTNEJTIybmlraXRpbmElMjIlMkMlMEElMjAlMjAlMjAlMjBhdXRob3JzJTNEJTIyTmlraXRpbmElMkMlMjBOYXRhbGphJTIwYW5kJTIwS2Fqa28tTWF0dHNzb24lMkMlMjBNaXJhJTIyJTJDJTBBJTIwJTIwJTIwJTIwcGxhY2UlM0RJQ1BGU1BJJTJDJTBBJTIwJTIwJTIwJTIwcHAlM0QlMjIzNS0tMzglMjIlMkMlMEElMjAlMjAlMjAlMjBlbnRyeXR5cGUlM0QlMjJpbnByb2NlZWRpbmdzJTIyJTJDJTBBJTIwJTIwJTIwJTIwc2VyaWVzJTNEJTIyUFJPRkVTJTIwJTI3MTAlMjIlMkMlMEElMjAlMjAlMjAlMjBpc2JuJTNEJTIyOTc4LTEtNDUwMy0wMjgxLTQlMjIlMkMlMEElMjAlMjAlMjAlMjBsb2NhdGlvbiUzRCUyMkxpbWVyaWNrJTJDJTIwSXJlbGFuZCUyMiUyQyUwQSUyMCUyMCUyMCUyMG51bXBhZ2VzJTNEJTIyNCUyMiUyQyUwQSUyMCUyMCUyMCUyMGxpbmslM0QlMjJodHRwJTNBLy9kb2kuYWNtLm9yZy8xMC4xMTQ1LzE5NjEyNTguMTk2MTI2NyUyMiUyQyUwQSUyMCUyMCUyMCUyMGRvaSUzRCUyMjEwLjExNDUvMTk2MTI1OC4xOTYxMjY3JTIyJTJDJTBBJTIwJTIwJTIwJTIwYWNtaWQlM0QlMjIxOTYxMjY3JTIyJTJDJTBBJTIwJTIwJTIwJTIwcHVibGlzaGVyJTNEJTIyQUNNJTIyJTJDJTBBJTIwJTIwJTIwJTIwYWRkcmVzcyUzRCUyMk5ldyUyMFlvcmslMkMlMjBOWSUyQyUyMFVTQSUyMiUyQyUwQSUyMCUyMCUyMCUyMGtleXdvcmQlM0QlMjJTY3J1bSUyQyUyMGJ1c2luZXNzJTIwZ3Jvd3RoJTJDJTIwZGlzdHJpYnV0ZWQlMjB0ZWFtcyUyQyUyMHByb2Nlc3MlMjBjaGFuZ2UlMjIlMkMlMEElMjAlMjAlMjAlMjBJRCUzRCUyMk5pa2l0aW5hJTNBMjAxMCUzQUNCRyUzQTE5NjEyNTguMTk2MTI2NyUyMiUyQyUwQSUyMCUyMCUyMCUyMGFjbTIwMTUlM0QlMjIxJTIyJTJDJTBBJTIwJTIwJTIwJTIwcGxhY2V4JTNEJTIyUHJvY2VlZGluZ3MlMjBvZiUyMHRoZSUyMDExdGglMjBJbnRlcm5hdGlvbmFsJTIwQ29uZmVyZW5jZSUyMG9uJTIwUHJvZHVjdCUyMEZvY3VzZWQlMjBTb2Z0d2FyZSUyMiUyQyUwQSUyOSUyOSUwQSUyNyUyNyUyNyUyOSUzQg==\")));\n",
       "    "
      ],
      "text/plain": [
       "<IPython.core.display.Javascript object>"
      ]
     },
     "metadata": {},
     "output_type": "display_data"
    },
    {
     "data": {
      "application/javascript": [
       "$('span:contains(\"# Temp\")').closest('.cell').remove();"
      ],
      "text/plain": [
       "<IPython.core.display.Javascript object>"
      ]
     },
     "metadata": {},
     "output_type": "display_data"
    },
    {
     "data": {
      "application/javascript": [
       "\n",
       "        $('span:contains(\"# Temp\")').closest('.cell').remove();\n",
       "        var code = IPython.notebook.insert_cell_below('code');\n",
       "        code.set_text(decodeURIComponent(window.atob(\"JTIzJTIwVGVtcCUwQWluc2VydCUyOCUyNyUyNyUyNyUwQWNvbnJhZGkyMDAxYSUyMCUzRCUyMERCJTI4V29ya1VucmVsYXRlZCUyOCUwQSUyMCUyMCUyMCUyMDIwMDElMkMlMjAlMjJBbiUyMEVtcGlyaWNhbCUyMFN0dWR5JTIwb24lMjB0aGUlMjBVdGlsaXR5JTIwb2YlMjBGb3JtYWwlMjBSb3V0aW5lcyUyMHRvJTIwVHJhbnNmZXIlMjBLbm93bGVkZ2UlMjBhbmQlMjBFeHBlcmllbmNlJTIyJTJDJTBBJTIwJTIwJTIwJTIwZGlzcGxheSUzRCUyMmNvbnJhZGklMjIlMkMlMEElMjAlMjAlMjAlMjBhdXRob3JzJTNEJTIyQ29ucmFkaSUyQyUyMFJlaWRhciUyMGFuZCUyMER5YiVDMyVBNSUyQyUyMFRvcmUlMjIlMkMlMEElMjAlMjAlMjAlMjBwbGFjZSUzREZBS0UlMkMlMEElMjAlMjAlMjAlMjBwcCUzRCUyMjI2OC0tMjc2JTIyJTJDJTBBJTIwJTIwJTIwJTIwZW50cnl0eXBlJTNEJTIyYXJ0aWNsZSUyMiUyQyUwQSUyMCUyMCUyMCUyMGlzc3VlX2RhdGUlM0QlMjJTZXB0LiUyMDIwMDElMjIlMkMlMEElMjAlMjAlMjAlMjB2b2x1bWUlM0QlMjIyNiUyMiUyQyUwQSUyMCUyMCUyMCUyMG51bWJlciUzRCUyMjUlMjIlMkMlMEElMjAlMjAlMjAlMjBtb250aCUzRCUyMnNlcCUyMiUyQyUwQSUyMCUyMCUyMCUyMGlzc24lM0QlMjIwMTYzLTU5NDglMjIlMkMlMEElMjAlMjAlMjAlMjBudW1wYWdlcyUzRCUyMjklMjIlMkMlMEElMjAlMjAlMjAlMjBsaW5rJTNEJTIyaHR0cCUzQS8vZG9pLmFjbS5vcmcvMTAuMTE0NS81MDMyNzEuNTAzMjQ2JTIyJTJDJTBBJTIwJTIwJTIwJTIwZG9pJTNEJTIyMTAuMTE0NS81MDMyNzEuNTAzMjQ2JTIyJTJDJTBBJTIwJTIwJTIwJTIwYWNtaWQlM0QlMjI1MDMyNDYlMjIlMkMlMEElMjAlMjAlMjAlMjBwdWJsaXNoZXIlM0QlMjJBQ00lMjIlMkMlMEElMjAlMjAlMjAlMjBhZGRyZXNzJTNEJTIyTmV3JTIwWW9yayUyQyUyME5ZJTJDJTIwVVNBJTIyJTJDJTBBJTIwJTIwJTIwJTIwa2V5d29yZCUzRCUyMmRldmVsb3BlciUyMGF0dGl0dWRlcyUyQyUyMGZvcm1hbCUyMHJvdXRpbmVzJTJDJTIwa25vd2xlZGdlJTIwbWFuYWdlbWVudCUyQyUyMGtub3dsZWRnZSUyMHRyYW5zZmVyJTJDJTIwc29mdHdhcmUlMjBwcm9jZXNzJTIwaW1wcm92ZW1lbnQlMjIlMkMlMEElMjAlMjAlMjAlMjBJRCUzRCUyMkNvbnJhZGklM0EyMDAxJTNBRVNVJTNBNTAzMjcxLjUwMzI0NiUyMiUyQyUwQSUyMCUyMCUyMCUyMGFjbTIwMTUlM0QlMjIxJTIyJTJDJTBBJTIwJTIwJTIwJTIwcGxhY2V4JTNEJTIyU0lHU09GVCUyMFNvZnR3LiUyMEVuZy4lMjBOb3RlcyUyMiUyQyUwQSUyOSUyOSUwQSUyNyUyNyUyNyUyOSUzQg==\")));\n",
       "    "
      ],
      "text/plain": [
       "<IPython.core.display.Javascript object>"
      ]
     },
     "metadata": {},
     "output_type": "display_data"
    },
    {
     "data": {
      "application/javascript": [
       "$('span:contains(\"# Temp\")').closest('.cell').remove();"
      ],
      "text/plain": [
       "<IPython.core.display.Javascript object>"
      ]
     },
     "metadata": {},
     "output_type": "display_data"
    },
    {
     "data": {
      "application/javascript": [
       "\n",
       "        $('span:contains(\"# Temp\")').closest('.cell').remove();\n",
       "        var code = IPython.notebook.insert_cell_below('code');\n",
       "        code.set_text(decodeURIComponent(window.atob(\"JTIzJTIwVGVtcCUwQWluc2VydCUyOCUyNyUyNyUyNyUwQWNvbnJhZGkyMDAxYSUyMCUzRCUyMERCJTI4V29ya1VucmVsYXRlZCUyOCUwQSUyMCUyMCUyMCUyMDIwMDElMkMlMjAlMjJBbiUyMEVtcGlyaWNhbCUyMFN0dWR5JTIwb24lMjB0aGUlMjBVdGlsaXR5JTIwb2YlMjBGb3JtYWwlMjBSb3V0aW5lcyUyMHRvJTIwVHJhbnNmZXIlMjBLbm93bGVkZ2UlMjBhbmQlMjBFeHBlcmllbmNlJTIyJTJDJTBBJTIwJTIwJTIwJTIwZGlzcGxheSUzRCUyMmNvbnJhZGklMjIlMkMlMEElMjAlMjAlMjAlMjBhdXRob3JzJTNEJTIyQ29ucmFkaSUyQyUyMFJlaWRhciUyMGFuZCUyMER5YiVDMyVBNSUyQyUyMFRvcmUlMjIlMkMlMEElMjAlMjAlMjAlMjBwbGFjZSUzREZBS0UlMkMlMEElMjAlMjAlMjAlMjBwcCUzRCUyMjI2OC0tMjc2JTIyJTJDJTBBJTIwJTIwJTIwJTIwZW50cnl0eXBlJTNEJTIyYXJ0aWNsZSUyMiUyQyUwQSUyMCUyMCUyMCUyMGlzc3VlX2RhdGUlM0QlMjJTZXB0LiUyMDIwMDElMjIlMkMlMEElMjAlMjAlMjAlMjB2b2x1bWUlM0QlMjIyNiUyMiUyQyUwQSUyMCUyMCUyMCUyMG51bWJlciUzRCUyMjUlMjIlMkMlMEElMjAlMjAlMjAlMjBtb250aCUzRCUyMnNlcCUyMiUyQyUwQSUyMCUyMCUyMCUyMGlzc24lM0QlMjIwMTYzLTU5NDglMjIlMkMlMEElMjAlMjAlMjAlMjBudW1wYWdlcyUzRCUyMjklMjIlMkMlMEElMjAlMjAlMjAlMjBsaW5rJTNEJTIyaHR0cCUzQS8vZG9pLmFjbS5vcmcvMTAuMTE0NS81MDMyNzEuNTAzMjQ2JTIyJTJDJTBBJTIwJTIwJTIwJTIwZG9pJTNEJTIyMTAuMTE0NS81MDMyNzEuNTAzMjQ2JTIyJTJDJTBBJTIwJTIwJTIwJTIwYWNtaWQlM0QlMjI1MDMyNDYlMjIlMkMlMEElMjAlMjAlMjAlMjBwdWJsaXNoZXIlM0QlMjJBQ00lMjIlMkMlMEElMjAlMjAlMjAlMjBhZGRyZXNzJTNEJTIyTmV3JTIwWW9yayUyQyUyME5ZJTJDJTIwVVNBJTIyJTJDJTBBJTIwJTIwJTIwJTIwa2V5d29yZCUzRCUyMmRldmVsb3BlciUyMGF0dGl0dWRlcyUyQyUyMGZvcm1hbCUyMHJvdXRpbmVzJTJDJTIwa25vd2xlZGdlJTIwbWFuYWdlbWVudCUyQyUyMGtub3dsZWRnZSUyMHRyYW5zZmVyJTJDJTIwc29mdHdhcmUlMjBwcm9jZXNzJTIwaW1wcm92ZW1lbnQlMjIlMkMlMEElMjAlMjAlMjAlMjBJRCUzRCUyMkNvbnJhZGklM0EyMDAxJTNBRVNVJTNBNTAzMjcxLjUwMzI0NiUyMiUyQyUwQSUyMCUyMCUyMCUyMGFjbTIwMTUlM0QlMjIxJTIyJTJDJTBBJTIwJTIwJTIwJTIwcGxhY2V4JTNEJTIyU0lHU09GVCUyMFNvZnR3LiUyMEVuZy4lMjBOb3RlcyUyMiUyQyUwQSUyOSUyOSUwQSUyNyUyNyUyNyUyOSUzQg==\")));\n",
       "    "
      ],
      "text/plain": [
       "<IPython.core.display.Javascript object>"
      ]
     },
     "metadata": {},
     "output_type": "display_data"
    },
    {
     "data": {
      "application/javascript": [
       "$('span:contains(\"# Temp\")').closest('.cell').remove();"
      ],
      "text/plain": [
       "<IPython.core.display.Javascript object>"
      ]
     },
     "metadata": {},
     "output_type": "display_data"
    },
    {
     "data": {
      "application/javascript": [
       "\n",
       "        $('span:contains(\"# Temp\")').closest('.cell').remove();\n",
       "        var code = IPython.notebook.insert_cell_below('code');\n",
       "        code.set_text(decodeURIComponent(window.atob(\"JTIzJTIwVGVtcCUwQWluc2VydCUyOCUyNyUyNyUyNyUyNyUyNyUyNyUyOSUzQiUwQXNldF9hdHRyaWJ1dGUlMjglMjdjb25yYWRpMjAwMWElMjclMkMlMjAlMjdzZXJpZXMlMjclMkMlMjAlMjdFU0VDL0ZTRS05JTI3JTI5JTNCJTBBc2V0X2F0dHJpYnV0ZSUyOCUyN2NvbnJhZGkyMDAxYSUyNyUyQyUyMCUyN2lzYm4lMjclMkMlMjAlMjcxLTU4MTEzLTM5MC0xJTI3JTI5JTNCJTBBc2V0X2F0dHJpYnV0ZSUyOCUyN2NvbnJhZGkyMDAxYSUyNyUyQyUyMCUyN2xvY2F0aW9uJTI3JTJDJTIwJTI3Vmllbm5hJTJDJTIwQXVzdHJpYSUyNyUyOSUzQg==\")));\n",
       "    "
      ],
      "text/plain": [
       "<IPython.core.display.Javascript object>"
      ]
     },
     "metadata": {},
     "output_type": "display_data"
    },
    {
     "data": {
      "application/javascript": [
       "$('span:contains(\"# Temp\")').closest('.cell').remove();"
      ],
      "text/plain": [
       "<IPython.core.display.Javascript object>"
      ]
     },
     "metadata": {},
     "output_type": "display_data"
    },
    {
     "data": {
      "application/javascript": [
       "\n",
       "        $('span:contains(\"# Temp\")').closest('.cell').remove();\n",
       "        var code = IPython.notebook.insert_cell_below('code');\n",
       "        code.set_text(decodeURIComponent(window.atob(\"JTIzJTIwVGVtcCUwQWluc2VydCUyOCUyNyUyNyUyNyUyNyUyNyUyNyUyOSUzQiUwQXNldF9hdHRyaWJ1dGUlMjglMjdjb25yYWRpMjAwMWElMjclMkMlMjAlMjdzZXJpZXMlMjclMkMlMjAlMjdFU0VDL0ZTRS05JTI3JTI5JTNCJTBBc2V0X2F0dHJpYnV0ZSUyOCUyN2NvbnJhZGkyMDAxYSUyNyUyQyUyMCUyN2lzYm4lMjclMkMlMjAlMjcxLTU4MTEzLTM5MC0xJTI3JTI5JTNCJTBBc2V0X2F0dHJpYnV0ZSUyOCUyN2NvbnJhZGkyMDAxYSUyNyUyQyUyMCUyN2xvY2F0aW9uJTI3JTJDJTIwJTI3Vmllbm5hJTJDJTIwQXVzdHJpYSUyNyUyOSUzQg==\")));\n",
       "    "
      ],
      "text/plain": [
       "<IPython.core.display.Javascript object>"
      ]
     },
     "metadata": {},
     "output_type": "display_data"
    },
    {
     "data": {
      "application/javascript": [
       "$('span:contains(\"# Temp\")').closest('.cell').remove();"
      ],
      "text/plain": [
       "<IPython.core.display.Javascript object>"
      ]
     },
     "metadata": {},
     "output_type": "display_data"
    },
    {
     "data": {
      "application/javascript": [
       "\n",
       "        $('span:contains(\"# Temp\")').closest('.cell').remove();\n",
       "        var code = IPython.notebook.insert_cell_below('code');\n",
       "        code.set_text(decodeURIComponent(window.atob(\"JTIzJTIwVGVtcCUwQWluc2VydCUyOCUyNyUyNyUyNyUwQXBhdWxpc2NoMjAwOGElMjAlM0QlMjBEQiUyOFdvcmtVbnJlbGF0ZWQlMjglMEElMjAlMjAlMjAlMjAyMDA4JTJDJTIwJTIyQnVzaW5lc3MlMjBJbXBhY3QlMjBvZiUyMFByb2Nlc3MlMjBJbXByb3ZlbWVudHMlMjIlMkMlMEElMjAlMjAlMjAlMjBkaXNwbGF5JTNEJTIycGF1bGlzY2glMjIlMkMlMEElMjAlMjAlMjAlMjBhdXRob3JzJTNEJTIyUGF1bGlzY2glMkMlMjBGcmFuY2VzJTIwYW5kJTIwRWJlcnQlMkMlMjBDaHJpc3RvZiUyMiUyQyUwQSUyMCUyMCUyMCUyMHBsYWNlJTNESUNTRSUyQyUwQSUyMCUyMCUyMCUyMHBwJTNEJTIyMTA3My0tMTA3NCUyMiUyQyUwQSUyMCUyMCUyMCUyMGVudHJ5dHlwZSUzRCUyMmlucHJvY2VlZGluZ3MlMjIlMkMlMEElMjAlMjAlMjAlMjBzZXJpZXMlM0QlMjJJQ1NFJTIwQ29tcGFuaW9uJTIwJTI3MDglMjIlMkMlMEElMjAlMjAlMjAlMjBpc2JuJTNEJTIyOTc4LTEtNjA1NTgtMDc5LTElMjIlMkMlMEElMjAlMjAlMjAlMjBsb2NhdGlvbiUzRCUyMkxlaXB6aWclMkMlMjBHZXJtYW55JTIyJTJDJTBBJTIwJTIwJTIwJTIwbnVtcGFnZXMlM0QlMjIyJTIyJTJDJTBBJTIwJTIwJTIwJTIwbGluayUzRCUyMmh0dHAlM0EvL2RvaS5hY20ub3JnLzEwLjExNDUvMTM3MDE3NS4xMzcwMjUzJTIyJTJDJTBBJTIwJTIwJTIwJTIwZG9pJTNEJTIyMTAuMTE0NS8xMzcwMTc1LjEzNzAyNTMlMjIlMkMlMEElMjAlMjAlMjAlMjBhY21pZCUzRCUyMjEzNzAyNTMlMjIlMkMlMEElMjAlMjAlMjAlMjBwdWJsaXNoZXIlM0QlMjJBQ00lMjIlMkMlMEElMjAlMjAlMjAlMjBhZGRyZXNzJTNEJTIyTmV3JTIwWW9yayUyQyUyME5ZJTJDJTIwVVNBJTIyJTJDJTBBJTIwJTIwJTIwJTIwa2V5d29yZCUzRCUyMmFnaWxlJTIwYW5kJTIwaXRlcmF0aXZlJTIwZGV2ZWxvcG1lbnQlMkMlMjBidXNpbmVzcyUyMGJlbmVmaXRzJTJDJTIwYnVzaW5lc3MlMjBpbXBhY3QlMkMlMjBjYXVzZSUyMGFuZCUyMGVmZmVjdCUyMGNoYWlucyUyQyUyMGNvc3QtYmVuZWZpdCUyMGFuYWx5c2lzJTJDJTIwZWNvbm9taWNzJTJDJTIwZWZmb3J0JTIwZXN0aW1hdGlvbiUyQyUyMHBlcmZvcm1hbmNlJTJDJTIwcHJvY2VzcyUyMGltcHJvdmVtZW50JTJDJTIwcWZkJTJDJTIwcm9pJTIyJTJDJTBBJTIwJTIwJTIwJTIwSUQlM0QlMjJQYXVsaXNjaCUzQTIwMDglM0FCSVAlM0ExMzcwMTc1LjEzNzAyNTMlMjIlMkMlMEElMjAlMjAlMjAlMjBhY20yMDE1JTNEJTIyMSUyMiUyQyUwQSUyMCUyMCUyMCUyMHBsYWNleCUzRCUyMkNvbXBhbmlvbiUyMG9mJTIwdGhlJTIwMzB0aCUyMEludGVybmF0aW9uYWwlMjBDb25mZXJlbmNlJTIwb24lMjBTb2Z0d2FyZSUyMEVuZ2luZWVyaW5nJTIyJTJDJTBBJTI5JTI5JTBBJTI3JTI3JTI3JTI5JTNC\")));\n",
       "    "
      ],
      "text/plain": [
       "<IPython.core.display.Javascript object>"
      ]
     },
     "metadata": {},
     "output_type": "display_data"
    },
    {
     "data": {
      "application/javascript": [
       "$('span:contains(\"# Temp\")').closest('.cell').remove();"
      ],
      "text/plain": [
       "<IPython.core.display.Javascript object>"
      ]
     },
     "metadata": {},
     "output_type": "display_data"
    },
    {
     "data": {
      "application/javascript": [
       "\n",
       "        $('span:contains(\"# Temp\")').closest('.cell').remove();\n",
       "        var code = IPython.notebook.insert_cell_below('code');\n",
       "        code.set_text(decodeURIComponent(window.atob(\"JTIzJTIwVGVtcCUwQWluc2VydCUyOCUyNyUyNyUyNyUwQXBhdWxpc2NoMjAwOGElMjAlM0QlMjBEQiUyOFdvcmtVbnJlbGF0ZWQlMjglMEElMjAlMjAlMjAlMjAyMDA4JTJDJTIwJTIyQnVzaW5lc3MlMjBJbXBhY3QlMjBvZiUyMFByb2Nlc3MlMjBJbXByb3ZlbWVudHMlMjIlMkMlMEElMjAlMjAlMjAlMjBkaXNwbGF5JTNEJTIycGF1bGlzY2glMjIlMkMlMEElMjAlMjAlMjAlMjBhdXRob3JzJTNEJTIyUGF1bGlzY2glMkMlMjBGcmFuY2VzJTIwYW5kJTIwRWJlcnQlMkMlMjBDaHJpc3RvZiUyMiUyQyUwQSUyMCUyMCUyMCUyMHBsYWNlJTNESUNTRSUyQyUwQSUyMCUyMCUyMCUyMHBwJTNEJTIyMTA3My0tMTA3NCUyMiUyQyUwQSUyMCUyMCUyMCUyMGVudHJ5dHlwZSUzRCUyMmlucHJvY2VlZGluZ3MlMjIlMkMlMEElMjAlMjAlMjAlMjBzZXJpZXMlM0QlMjJJQ1NFJTIwQ29tcGFuaW9uJTIwJTI3MDglMjIlMkMlMEElMjAlMjAlMjAlMjBpc2JuJTNEJTIyOTc4LTEtNjA1NTgtMDc5LTElMjIlMkMlMEElMjAlMjAlMjAlMjBsb2NhdGlvbiUzRCUyMkxlaXB6aWclMkMlMjBHZXJtYW55JTIyJTJDJTBBJTIwJTIwJTIwJTIwbnVtcGFnZXMlM0QlMjIyJTIyJTJDJTBBJTIwJTIwJTIwJTIwbGluayUzRCUyMmh0dHAlM0EvL2RvaS5hY20ub3JnLzEwLjExNDUvMTM3MDE3NS4xMzcwMjUzJTIyJTJDJTBBJTIwJTIwJTIwJTIwZG9pJTNEJTIyMTAuMTE0NS8xMzcwMTc1LjEzNzAyNTMlMjIlMkMlMEElMjAlMjAlMjAlMjBhY21pZCUzRCUyMjEzNzAyNTMlMjIlMkMlMEElMjAlMjAlMjAlMjBwdWJsaXNoZXIlM0QlMjJBQ00lMjIlMkMlMEElMjAlMjAlMjAlMjBhZGRyZXNzJTNEJTIyTmV3JTIwWW9yayUyQyUyME5ZJTJDJTIwVVNBJTIyJTJDJTBBJTIwJTIwJTIwJTIwa2V5d29yZCUzRCUyMmFnaWxlJTIwYW5kJTIwaXRlcmF0aXZlJTIwZGV2ZWxvcG1lbnQlMkMlMjBidXNpbmVzcyUyMGJlbmVmaXRzJTJDJTIwYnVzaW5lc3MlMjBpbXBhY3QlMkMlMjBjYXVzZSUyMGFuZCUyMGVmZmVjdCUyMGNoYWlucyUyQyUyMGNvc3QtYmVuZWZpdCUyMGFuYWx5c2lzJTJDJTIwZWNvbm9taWNzJTJDJTIwZWZmb3J0JTIwZXN0aW1hdGlvbiUyQyUyMHBlcmZvcm1hbmNlJTJDJTIwcHJvY2VzcyUyMGltcHJvdmVtZW50JTJDJTIwcWZkJTJDJTIwcm9pJTIyJTJDJTBBJTIwJTIwJTIwJTIwSUQlM0QlMjJQYXVsaXNjaCUzQTIwMDglM0FCSVAlM0ExMzcwMTc1LjEzNzAyNTMlMjIlMkMlMEElMjAlMjAlMjAlMjBhY20yMDE1JTNEJTIyMSUyMiUyQyUwQSUyMCUyMCUyMCUyMHBsYWNleCUzRCUyMkNvbXBhbmlvbiUyMG9mJTIwdGhlJTIwMzB0aCUyMEludGVybmF0aW9uYWwlMjBDb25mZXJlbmNlJTIwb24lMjBTb2Z0d2FyZSUyMEVuZ2luZWVyaW5nJTIyJTJDJTBBJTI5JTI5JTBBJTI3JTI3JTI3JTI5JTNC\")));\n",
       "    "
      ],
      "text/plain": [
       "<IPython.core.display.Javascript object>"
      ]
     },
     "metadata": {},
     "output_type": "display_data"
    },
    {
     "data": {
      "application/javascript": [
       "$('span:contains(\"# Temp\")').closest('.cell').remove();"
      ],
      "text/plain": [
       "<IPython.core.display.Javascript object>"
      ]
     },
     "metadata": {},
     "output_type": "display_data"
    },
    {
     "data": {
      "application/javascript": [
       "\n",
       "        $('span:contains(\"# Temp\")').closest('.cell').remove();\n",
       "        var code = IPython.notebook.insert_cell_below('code');\n",
       "        code.set_text(decodeURIComponent(window.atob(\"JTIzJTIwVGVtcCUwQWluc2VydCUyOCUyNyUyNyUyNyUwQWJhbm5lcm1hbjIwMDhhJTIwJTNEJTIwREIlMjhXb3JrVW5yZWxhdGVkJTI4JTBBJTIwJTIwJTIwJTIwMjAwOCUyQyUyMCUyMkNhcHR1cmluZyUyMEJ1c2luZXNzJTIwQmVuZWZpdHMlMjBmcm9tJTIwUHJvY2VzcyUyMEltcHJvdmVtZW50JTNBJTIwRm91ciUyMEZhbGxhY2llcyUyMGFuZCUyMFdoYXQlMjB0byUyMERvJTIwQWJvdXQlMjBUaGVtJTIyJTJDJTBBJTIwJTIwJTIwJTIwZGlzcGxheSUzRCUyMmJhbm5lcm1hbiUyMiUyQyUwQSUyMCUyMCUyMCUyMGF1dGhvcnMlM0QlMjJCYW5uZXJtYW4lMkMlMjBQYXVsJTIwTC4lMjIlMkMlMEElMjAlMjAlMjAlMjBwbGFjZSUzRElXQklQSSUyQyUwQSUyMCUyMCUyMCUyMHBwJTNEJTIyMS0tOCUyMiUyQyUwQSUyMCUyMCUyMCUyMGVudHJ5dHlwZSUzRCUyMmlucHJvY2VlZGluZ3MlMjIlMkMlMEElMjAlMjAlMjAlMjBzZXJpZXMlM0QlMjJCaVBpJTIwJTI3MDglMjIlMkMlMEElMjAlMjAlMjAlMjBpc2JuJTNEJTIyOTc4LTEtNjA1NTgtMDMyLTYlMjIlMkMlMEElMjAlMjAlMjAlMjBsb2NhdGlvbiUzRCUyMkxlaXB6aWclMkMlMjBHZXJtYW55JTIyJTJDJTBBJTIwJTIwJTIwJTIwbnVtcGFnZXMlM0QlMjI4JTIyJTJDJTBBJTIwJTIwJTIwJTIwbGluayUzRCUyMmh0dHAlM0EvL2RvaS5hY20ub3JnLzEwLjExNDUvMTM3MDgzNy4xMzcwODM5JTIyJTJDJTBBJTIwJTIwJTIwJTIwZG9pJTNEJTIyMTAuMTE0NS8xMzcwODM3LjEzNzA4MzklMjIlMkMlMEElMjAlMjAlMjAlMjBhY21pZCUzRCUyMjEzNzA4MzklMjIlMkMlMEElMjAlMjAlMjAlMjBwdWJsaXNoZXIlM0QlMjJBQ00lMjIlMkMlMEElMjAlMjAlMjAlMjBhZGRyZXNzJTNEJTIyTmV3JTIwWW9yayUyQyUyME5ZJTJDJTIwVVNBJTIyJTJDJTBBJTIwJTIwJTIwJTIwa2V5d29yZCUzRCUyMmJ1c2luZXNzJTIwYmVuZWZpdCUyQyUyMHByb2Nlc3MlMjBjaGFuZ2UlMkMlMjBzb2Z0d2FyZSUyMHByb2Nlc3MlMjBpbXByb3ZlbWVudCUyMiUyQyUwQSUyMCUyMCUyMCUyMElEJTNEJTIyQmFubmVybWFuJTNBMjAwOCUzQUNCQiUzQTEzNzA4MzcuMTM3MDgzOSUyMiUyQyUwQSUyMCUyMCUyMCUyMGFjbTIwMTUlM0QlMjIxJTIyJTJDJTBBJTIwJTIwJTIwJTIwcGxhY2V4JTNEJTIyUHJvY2VlZGluZ3MlMjBvZiUyMHRoZSUyMDFzdCUyMEludGVybmF0aW9uYWwlMjBXb3Jrc2hvcCUyMG9uJTIwQnVzaW5lc3MlMjBJbXBhY3QlMjBvZiUyMFByb2Nlc3MlMjBJbXByb3ZlbWVudHMlMjIlMkMlMEElMjklMjklMEElMjclMjclMjclMjklM0I=\")));\n",
       "    "
      ],
      "text/plain": [
       "<IPython.core.display.Javascript object>"
      ]
     },
     "metadata": {},
     "output_type": "display_data"
    },
    {
     "data": {
      "application/javascript": [
       "$('span:contains(\"# Temp\")').closest('.cell').remove();"
      ],
      "text/plain": [
       "<IPython.core.display.Javascript object>"
      ]
     },
     "metadata": {},
     "output_type": "display_data"
    },
    {
     "data": {
      "application/javascript": [
       "\n",
       "        $('span:contains(\"# Temp\")').closest('.cell').remove();\n",
       "        var code = IPython.notebook.insert_cell_below('code');\n",
       "        code.set_text(decodeURIComponent(window.atob(\"JTIzJTIwVGVtcCUwQWluc2VydCUyOCUyNyUyNyUyNyUwQWJhbm5lcm1hbjIwMDhhJTIwJTNEJTIwREIlMjhXb3JrVW5yZWxhdGVkJTI4JTBBJTIwJTIwJTIwJTIwMjAwOCUyQyUyMCUyMkNhcHR1cmluZyUyMEJ1c2luZXNzJTIwQmVuZWZpdHMlMjBmcm9tJTIwUHJvY2VzcyUyMEltcHJvdmVtZW50JTNBJTIwRm91ciUyMEZhbGxhY2llcyUyMGFuZCUyMFdoYXQlMjB0byUyMERvJTIwQWJvdXQlMjBUaGVtJTIyJTJDJTBBJTIwJTIwJTIwJTIwZGlzcGxheSUzRCUyMmJhbm5lcm1hbiUyMiUyQyUwQSUyMCUyMCUyMCUyMGF1dGhvcnMlM0QlMjJCYW5uZXJtYW4lMkMlMjBQYXVsJTIwTC4lMjIlMkMlMEElMjAlMjAlMjAlMjBwbGFjZSUzRElXQklQSSUyQyUwQSUyMCUyMCUyMCUyMHBwJTNEJTIyMS0tOCUyMiUyQyUwQSUyMCUyMCUyMCUyMGVudHJ5dHlwZSUzRCUyMmlucHJvY2VlZGluZ3MlMjIlMkMlMEElMjAlMjAlMjAlMjBzZXJpZXMlM0QlMjJCaVBpJTIwJTI3MDglMjIlMkMlMEElMjAlMjAlMjAlMjBpc2JuJTNEJTIyOTc4LTEtNjA1NTgtMDMyLTYlMjIlMkMlMEElMjAlMjAlMjAlMjBsb2NhdGlvbiUzRCUyMkxlaXB6aWclMkMlMjBHZXJtYW55JTIyJTJDJTBBJTIwJTIwJTIwJTIwbnVtcGFnZXMlM0QlMjI4JTIyJTJDJTBBJTIwJTIwJTIwJTIwbGluayUzRCUyMmh0dHAlM0EvL2RvaS5hY20ub3JnLzEwLjExNDUvMTM3MDgzNy4xMzcwODM5JTIyJTJDJTBBJTIwJTIwJTIwJTIwZG9pJTNEJTIyMTAuMTE0NS8xMzcwODM3LjEzNzA4MzklMjIlMkMlMEElMjAlMjAlMjAlMjBhY21pZCUzRCUyMjEzNzA4MzklMjIlMkMlMEElMjAlMjAlMjAlMjBwdWJsaXNoZXIlM0QlMjJBQ00lMjIlMkMlMEElMjAlMjAlMjAlMjBhZGRyZXNzJTNEJTIyTmV3JTIwWW9yayUyQyUyME5ZJTJDJTIwVVNBJTIyJTJDJTBBJTIwJTIwJTIwJTIwa2V5d29yZCUzRCUyMmJ1c2luZXNzJTIwYmVuZWZpdCUyQyUyMHByb2Nlc3MlMjBjaGFuZ2UlMkMlMjBzb2Z0d2FyZSUyMHByb2Nlc3MlMjBpbXByb3ZlbWVudCUyMiUyQyUwQSUyMCUyMCUyMCUyMElEJTNEJTIyQmFubmVybWFuJTNBMjAwOCUzQUNCQiUzQTEzNzA4MzcuMTM3MDgzOSUyMiUyQyUwQSUyMCUyMCUyMCUyMGFjbTIwMTUlM0QlMjIxJTIyJTJDJTBBJTIwJTIwJTIwJTIwcGxhY2V4JTNEJTIyUHJvY2VlZGluZ3MlMjBvZiUyMHRoZSUyMDFzdCUyMEludGVybmF0aW9uYWwlMjBXb3Jrc2hvcCUyMG9uJTIwQnVzaW5lc3MlMjBJbXBhY3QlMjBvZiUyMFByb2Nlc3MlMjBJbXByb3ZlbWVudHMlMjIlMkMlMEElMjklMjklMEElMjclMjclMjclMjklM0I=\")));\n",
       "    "
      ],
      "text/plain": [
       "<IPython.core.display.Javascript object>"
      ]
     },
     "metadata": {},
     "output_type": "display_data"
    },
    {
     "data": {
      "application/javascript": [
       "$('span:contains(\"# Temp\")').closest('.cell').remove();"
      ],
      "text/plain": [
       "<IPython.core.display.Javascript object>"
      ]
     },
     "metadata": {},
     "output_type": "display_data"
    },
    {
     "data": {
      "application/javascript": [
       "\n",
       "        $('span:contains(\"# Temp\")').closest('.cell').remove();\n",
       "        var code = IPython.notebook.insert_cell_below('code');\n",
       "        code.set_text(decodeURIComponent(window.atob(\"JTIzJTIwVGVtcCUwQWluc2VydCUyOCUyNyUyNyUyNyUwQXN0b2wyMDE0YSUyMCUzRCUyMERCJTI4V29ya1VucmVsYXRlZCUyOCUwQSUyMCUyMCUyMCUyMDIwMTQlMkMlMjAlMjJUd28lMjdzJTIwQ29tcGFueSUyQyUyMFRocmVlJTI3cyUyMGElMjBDcm93ZCUzQSUyMEElMjBDYXNlJTIwU3R1ZHklMjBvZiUyMENyb3dkc291cmNpbmclMjBTb2Z0d2FyZSUyMERldmVsb3BtZW50JTIyJTJDJTBBJTIwJTIwJTIwJTIwZGlzcGxheSUzRCUyMnN0b2wlMjIlMkMlMEElMjAlMjAlMjAlMjBhdXRob3JzJTNEJTIyU3RvbCUyQyUyMEtsYWFzLUphbiUyMGFuZCUyMEZpdHpnZXJhbGQlMkMlMjBCcmlhbiUyMiUyQyUwQSUyMCUyMCUyMCUyMHBsYWNlJTNESUNTRSUyQyUwQSUyMCUyMCUyMCUyMHBwJTNEJTIyMTg3LS0xOTglMjIlMkMlMEElMjAlMjAlMjAlMjBlbnRyeXR5cGUlM0QlMjJpbnByb2NlZWRpbmdzJTIyJTJDJTBBJTIwJTIwJTIwJTIwc2VyaWVzJTNEJTIySUNTRSUyMDIwMTQlMjIlMkMlMEElMjAlMjAlMjAlMjBpc2JuJTNEJTIyOTc4LTEtNDUwMy0yNzU2LTUlMjIlMkMlMEElMjAlMjAlMjAlMjBsb2NhdGlvbiUzRCUyMkh5ZGVyYWJhZCUyQyUyMEluZGlhJTIyJTJDJTBBJTIwJTIwJTIwJTIwbnVtcGFnZXMlM0QlMjIxMiUyMiUyQyUwQSUyMCUyMCUyMCUyMGxpbmslM0QlMjJodHRwJTNBLy9kb2kuYWNtLm9yZy8xMC4xMTQ1LzI1NjgyMjUuMjU2ODI0OSUyMiUyQyUwQSUyMCUyMCUyMCUyMGRvaSUzRCUyMjEwLjExNDUvMjU2ODIyNS4yNTY4MjQ5JTIyJTJDJTBBJTIwJTIwJTIwJTIwYWNtaWQlM0QlMjIyNTY4MjQ5JTIyJTJDJTBBJTIwJTIwJTIwJTIwcHVibGlzaGVyJTNEJTIyQUNNJTIyJTJDJTBBJTIwJTIwJTIwJTIwYWRkcmVzcyUzRCUyMk5ldyUyMFlvcmslMkMlMjBOWSUyQyUyMFVTQSUyMiUyQyUwQSUyMCUyMCUyMCUyMGtleXdvcmQlM0QlMjJDcm93ZHNvdXJjaW5nJTJDJTIwY2FzZSUyMHN0dWR5JTJDJTIwY2hhbGxlbmdlcyUyQyUyMHNvZnR3YXJlJTIwZGV2ZWxvcG1lbnQlMjIlMkMlMEElMjAlMjAlMjAlMjBJRCUzRCUyMlN0b2wlM0EyMDE0JTNBVENUJTNBMjU2ODIyNS4yNTY4MjQ5JTIyJTJDJTBBJTIwJTIwJTIwJTIwYWNtMjAxNSUzRCUyMjElMjIlMkMlMEElMjAlMjAlMjAlMjBwbGFjZXglM0QlMjJQcm9jZWVkaW5ncyUyMG9mJTIwdGhlJTIwMzZ0aCUyMEludGVybmF0aW9uYWwlMjBDb25mZXJlbmNlJTIwb24lMjBTb2Z0d2FyZSUyMEVuZ2luZWVyaW5nJTIyJTJDJTBBJTI5JTI5JTBBJTI3JTI3JTI3JTI5JTNC\")));\n",
       "    "
      ],
      "text/plain": [
       "<IPython.core.display.Javascript object>"
      ]
     },
     "metadata": {},
     "output_type": "display_data"
    },
    {
     "data": {
      "application/javascript": [
       "$('span:contains(\"# Temp\")').closest('.cell').remove();"
      ],
      "text/plain": [
       "<IPython.core.display.Javascript object>"
      ]
     },
     "metadata": {},
     "output_type": "display_data"
    },
    {
     "data": {
      "application/javascript": [
       "\n",
       "        $('span:contains(\"# Temp\")').closest('.cell').remove();\n",
       "        var code = IPython.notebook.insert_cell_below('code');\n",
       "        code.set_text(decodeURIComponent(window.atob(\"JTIzJTIwVGVtcCUwQWluc2VydCUyOCUyNyUyNyUyNyUwQXN0b2wyMDE0YSUyMCUzRCUyMERCJTI4V29ya1VucmVsYXRlZCUyOCUwQSUyMCUyMCUyMCUyMDIwMTQlMkMlMjAlMjJUd28lMjdzJTIwQ29tcGFueSUyQyUyMFRocmVlJTI3cyUyMGElMjBDcm93ZCUzQSUyMEElMjBDYXNlJTIwU3R1ZHklMjBvZiUyMENyb3dkc291cmNpbmclMjBTb2Z0d2FyZSUyMERldmVsb3BtZW50JTIyJTJDJTBBJTIwJTIwJTIwJTIwZGlzcGxheSUzRCUyMnN0b2wlMjIlMkMlMEElMjAlMjAlMjAlMjBhdXRob3JzJTNEJTIyU3RvbCUyQyUyMEtsYWFzLUphbiUyMGFuZCUyMEZpdHpnZXJhbGQlMkMlMjBCcmlhbiUyMiUyQyUwQSUyMCUyMCUyMCUyMHBsYWNlJTNESUNTRSUyQyUwQSUyMCUyMCUyMCUyMHBwJTNEJTIyMTg3LS0xOTglMjIlMkMlMEElMjAlMjAlMjAlMjBlbnRyeXR5cGUlM0QlMjJpbnByb2NlZWRpbmdzJTIyJTJDJTBBJTIwJTIwJTIwJTIwc2VyaWVzJTNEJTIySUNTRSUyMDIwMTQlMjIlMkMlMEElMjAlMjAlMjAlMjBpc2JuJTNEJTIyOTc4LTEtNDUwMy0yNzU2LTUlMjIlMkMlMEElMjAlMjAlMjAlMjBsb2NhdGlvbiUzRCUyMkh5ZGVyYWJhZCUyQyUyMEluZGlhJTIyJTJDJTBBJTIwJTIwJTIwJTIwbnVtcGFnZXMlM0QlMjIxMiUyMiUyQyUwQSUyMCUyMCUyMCUyMGxpbmslM0QlMjJodHRwJTNBLy9kb2kuYWNtLm9yZy8xMC4xMTQ1LzI1NjgyMjUuMjU2ODI0OSUyMiUyQyUwQSUyMCUyMCUyMCUyMGRvaSUzRCUyMjEwLjExNDUvMjU2ODIyNS4yNTY4MjQ5JTIyJTJDJTBBJTIwJTIwJTIwJTIwYWNtaWQlM0QlMjIyNTY4MjQ5JTIyJTJDJTBBJTIwJTIwJTIwJTIwcHVibGlzaGVyJTNEJTIyQUNNJTIyJTJDJTBBJTIwJTIwJTIwJTIwYWRkcmVzcyUzRCUyMk5ldyUyMFlvcmslMkMlMjBOWSUyQyUyMFVTQSUyMiUyQyUwQSUyMCUyMCUyMCUyMGtleXdvcmQlM0QlMjJDcm93ZHNvdXJjaW5nJTJDJTIwY2FzZSUyMHN0dWR5JTJDJTIwY2hhbGxlbmdlcyUyQyUyMHNvZnR3YXJlJTIwZGV2ZWxvcG1lbnQlMjIlMkMlMEElMjAlMjAlMjAlMjBJRCUzRCUyMlN0b2wlM0EyMDE0JTNBVENUJTNBMjU2ODIyNS4yNTY4MjQ5JTIyJTJDJTBBJTIwJTIwJTIwJTIwYWNtMjAxNSUzRCUyMjElMjIlMkMlMEElMjAlMjAlMjAlMjBwbGFjZXglM0QlMjJQcm9jZWVkaW5ncyUyMG9mJTIwdGhlJTIwMzZ0aCUyMEludGVybmF0aW9uYWwlMjBDb25mZXJlbmNlJTIwb24lMjBTb2Z0d2FyZSUyMEVuZ2luZWVyaW5nJTIyJTJDJTBBJTI5JTI5JTBBJTI3JTI3JTI3JTI5JTNC\")));\n",
       "    "
      ],
      "text/plain": [
       "<IPython.core.display.Javascript object>"
      ]
     },
     "metadata": {},
     "output_type": "display_data"
    },
    {
     "data": {
      "application/javascript": [
       "$('span:contains(\"# Temp\")').closest('.cell').remove();"
      ],
      "text/plain": [
       "<IPython.core.display.Javascript object>"
      ]
     },
     "metadata": {},
     "output_type": "display_data"
    },
    {
     "data": {
      "application/javascript": [
       "\n",
       "        $('span:contains(\"# Temp\")').closest('.cell').remove();\n",
       "        var code = IPython.notebook.insert_cell_below('code');\n",
       "        code.set_text(decodeURIComponent(window.atob(\"JTIzJTIwVGVtcCUwQWluc2VydCUyOCUyNyUyNyUyNyUwQWF5c29sbWF6MjAxNGElMjAlM0QlMjBEQiUyOFdvcmtVbnJlbGF0ZWQlMjglMEElMjAlMjAlMjAlMjAyMDE0JTJDJTIwJTIyTW9kZWxpbmclMjBCdXNpbmVzcyUyMFByb2Nlc3NlcyUyMHRvJTIwR2VuZXJhdGUlMjBBcnRpZmFjdHMlMjBmb3IlMjBTb2Z0d2FyZSUyMERldmVsb3BtZW50JTNBJTIwQSUyME1ldGhvZG9sb2d5JTIyJTJDJTBBJTIwJTIwJTIwJTIwZGlzcGxheSUzRCUyMmF5c29sbWF6JTIyJTJDJTBBJTIwJTIwJTIwJTIwYXV0aG9ycyUzRCUyMkF5c29sbWF6JTJDJTIwQmFudSUyMGFuZCUyMERlbWlyb3JzJTJDJTIwT251ciUyMiUyQyUwQSUyMCUyMCUyMCUyMHBsYWNlJTNEUE1TRSUyQyUwQSUyMCUyMCUyMCUyMHBwJTNEJTIyNy0tMTIlMjIlMkMlMEElMjAlMjAlMjAlMjBlbnRyeXR5cGUlM0QlMjJpbnByb2NlZWRpbmdzJTIyJTJDJTBBJTIwJTIwJTIwJTIwc2VyaWVzJTNEJTIyTWlTRSUyMDIwMTQlMjIlMkMlMEElMjAlMjAlMjAlMjBpc2JuJTNEJTIyOTc4LTEtNDUwMy0yODQ5LTQlMjIlMkMlMEElMjAlMjAlMjAlMjBsb2NhdGlvbiUzRCUyMkh5ZGVyYWJhZCUyQyUyMEluZGlhJTIyJTJDJTBBJTIwJTIwJTIwJTIwbnVtcGFnZXMlM0QlMjI2JTIyJTJDJTBBJTIwJTIwJTIwJTIwbGluayUzRCUyMmh0dHAlM0EvL2RvaS5hY20ub3JnLzEwLjExNDUvMjU5Mzc3MC4yNTkzNzc1JTIyJTJDJTBBJTIwJTIwJTIwJTIwZG9pJTNEJTIyMTAuMTE0NS8yNTkzNzcwLjI1OTM3NzUlMjIlMkMlMEElMjAlMjAlMjAlMjBhY21pZCUzRCUyMjI1OTM3NzUlMjIlMkMlMEElMjAlMjAlMjAlMjBwdWJsaXNoZXIlM0QlMjJBQ00lMjIlMkMlMEElMjAlMjAlMjAlMjBhZGRyZXNzJTNEJTIyTmV3JTIwWW9yayUyQyUyME5ZJTJDJTIwVVNBJTIyJTJDJTBBJTIwJTIwJTIwJTIwa2V5d29yZCUzRCUyMkJ1c2luZXNzJTIwcHJvY2VzcyUyMG1vZGVsaW5nJTJDJTIwQ09TTUlDJTJDJTIwYnVzaW5lc3MlMjBnbG9zc2FyeSUyQyUyMHByb2Nlc3MlMjBkZWZpbml0aW9uJTIwZG9jdW1lbnQlMkMlMjBwcm9jZXNzJTIwbWV0cmljcyUyQyUyMHJlcXVpcmVtZW50cyUyMGFuYWx5c2lzJTJDJTIwc29mdHdhcmUlMjBzaXplJTIwZXN0aW1hdGlvbiUyMiUyQyUwQSUyMCUyMCUyMCUyMElEJTNEJTIyQXlzb2xtYXolM0EyMDE0JTNBTUJQJTNBMjU5Mzc3MC4yNTkzNzc1JTIyJTJDJTBBJTIwJTIwJTIwJTIwYWNtMjAxNSUzRCUyMjElMjIlMkMlMEElMjAlMjAlMjAlMjBwbGFjZXglM0QlMjJQcm9jZWVkaW5ncyUyMG9mJTIwdGhlJTIwNnRoJTIwSW50ZXJuYXRpb25hbCUyMFdvcmtzaG9wJTIwb24lMjBNb2RlbGluZyUyMGluJTIwU29mdHdhcmUlMjBFbmdpbmVlcmluZyUyMiUyQyUwQSUyOSUyOSUwQSUyNyUyNyUyNyUyOSUzQg==\")));\n",
       "    "
      ],
      "text/plain": [
       "<IPython.core.display.Javascript object>"
      ]
     },
     "metadata": {},
     "output_type": "display_data"
    },
    {
     "data": {
      "application/javascript": [
       "$('span:contains(\"# Temp\")').closest('.cell').remove();"
      ],
      "text/plain": [
       "<IPython.core.display.Javascript object>"
      ]
     },
     "metadata": {},
     "output_type": "display_data"
    },
    {
     "data": {
      "application/javascript": [
       "\n",
       "        $('span:contains(\"# Temp\")').closest('.cell').remove();\n",
       "        var code = IPython.notebook.insert_cell_below('code');\n",
       "        code.set_text(decodeURIComponent(window.atob(\"JTIzJTIwVGVtcCUwQWluc2VydCUyOCUyNyUyNyUyNyUwQWF5c29sbWF6MjAxNGElMjAlM0QlMjBEQiUyOFdvcmtVbnJlbGF0ZWQlMjglMEElMjAlMjAlMjAlMjAyMDE0JTJDJTIwJTIyTW9kZWxpbmclMjBCdXNpbmVzcyUyMFByb2Nlc3NlcyUyMHRvJTIwR2VuZXJhdGUlMjBBcnRpZmFjdHMlMjBmb3IlMjBTb2Z0d2FyZSUyMERldmVsb3BtZW50JTNBJTIwQSUyME1ldGhvZG9sb2d5JTIyJTJDJTBBJTIwJTIwJTIwJTIwZGlzcGxheSUzRCUyMmF5c29sbWF6JTIyJTJDJTBBJTIwJTIwJTIwJTIwYXV0aG9ycyUzRCUyMkF5c29sbWF6JTJDJTIwQmFudSUyMGFuZCUyMERlbWlyb3JzJTJDJTIwT251ciUyMiUyQyUwQSUyMCUyMCUyMCUyMHBsYWNlJTNEUE1TRSUyQyUwQSUyMCUyMCUyMCUyMHBwJTNEJTIyNy0tMTIlMjIlMkMlMEElMjAlMjAlMjAlMjBlbnRyeXR5cGUlM0QlMjJpbnByb2NlZWRpbmdzJTIyJTJDJTBBJTIwJTIwJTIwJTIwc2VyaWVzJTNEJTIyTWlTRSUyMDIwMTQlMjIlMkMlMEElMjAlMjAlMjAlMjBpc2JuJTNEJTIyOTc4LTEtNDUwMy0yODQ5LTQlMjIlMkMlMEElMjAlMjAlMjAlMjBsb2NhdGlvbiUzRCUyMkh5ZGVyYWJhZCUyQyUyMEluZGlhJTIyJTJDJTBBJTIwJTIwJTIwJTIwbnVtcGFnZXMlM0QlMjI2JTIyJTJDJTBBJTIwJTIwJTIwJTIwbGluayUzRCUyMmh0dHAlM0EvL2RvaS5hY20ub3JnLzEwLjExNDUvMjU5Mzc3MC4yNTkzNzc1JTIyJTJDJTBBJTIwJTIwJTIwJTIwZG9pJTNEJTIyMTAuMTE0NS8yNTkzNzcwLjI1OTM3NzUlMjIlMkMlMEElMjAlMjAlMjAlMjBhY21pZCUzRCUyMjI1OTM3NzUlMjIlMkMlMEElMjAlMjAlMjAlMjBwdWJsaXNoZXIlM0QlMjJBQ00lMjIlMkMlMEElMjAlMjAlMjAlMjBhZGRyZXNzJTNEJTIyTmV3JTIwWW9yayUyQyUyME5ZJTJDJTIwVVNBJTIyJTJDJTBBJTIwJTIwJTIwJTIwa2V5d29yZCUzRCUyMkJ1c2luZXNzJTIwcHJvY2VzcyUyMG1vZGVsaW5nJTJDJTIwQ09TTUlDJTJDJTIwYnVzaW5lc3MlMjBnbG9zc2FyeSUyQyUyMHByb2Nlc3MlMjBkZWZpbml0aW9uJTIwZG9jdW1lbnQlMkMlMjBwcm9jZXNzJTIwbWV0cmljcyUyQyUyMHJlcXVpcmVtZW50cyUyMGFuYWx5c2lzJTJDJTIwc29mdHdhcmUlMjBzaXplJTIwZXN0aW1hdGlvbiUyMiUyQyUwQSUyMCUyMCUyMCUyMElEJTNEJTIyQXlzb2xtYXolM0EyMDE0JTNBTUJQJTNBMjU5Mzc3MC4yNTkzNzc1JTIyJTJDJTBBJTIwJTIwJTIwJTIwYWNtMjAxNSUzRCUyMjElMjIlMkMlMEElMjAlMjAlMjAlMjBwbGFjZXglM0QlMjJQcm9jZWVkaW5ncyUyMG9mJTIwdGhlJTIwNnRoJTIwSW50ZXJuYXRpb25hbCUyMFdvcmtzaG9wJTIwb24lMjBNb2RlbGluZyUyMGluJTIwU29mdHdhcmUlMjBFbmdpbmVlcmluZyUyMiUyQyUwQSUyOSUyOSUwQSUyNyUyNyUyNyUyOSUzQg==\")));\n",
       "    "
      ],
      "text/plain": [
       "<IPython.core.display.Javascript object>"
      ]
     },
     "metadata": {},
     "output_type": "display_data"
    },
    {
     "data": {
      "application/javascript": [
       "$('span:contains(\"# Temp\")').closest('.cell').remove();"
      ],
      "text/plain": [
       "<IPython.core.display.Javascript object>"
      ]
     },
     "metadata": {},
     "output_type": "display_data"
    },
    {
     "data": {
      "application/javascript": [
       "\n",
       "        $('span:contains(\"# Temp\")').closest('.cell').remove();\n",
       "        var code = IPython.notebook.insert_cell_below('code');\n",
       "        code.set_text(decodeURIComponent(window.atob(\"JTIzJTIwVGVtcCUwQWluc2VydCUyOCUyNyUyNyUyNyUwQWh1bGtrbzIwMDVhJTIwJTNEJTIwREIlMjhXb3JrVW5yZWxhdGVkJTI4JTBBJTIwJTIwJTIwJTIwMjAwNSUyQyUyMCUyMkElMjBNdWx0aXBsZSUyMENhc2UlMjBTdHVkeSUyMG9uJTIwdGhlJTIwSW1wYWN0JTIwb2YlMjBQYWlyJTIwUHJvZ3JhbW1pbmclMjBvbiUyMFByb2R1Y3QlMjBRdWFsaXR5JTIyJTJDJTBBJTIwJTIwJTIwJTIwZGlzcGxheSUzRCUyMmh1bGtrbyUyMiUyQyUwQSUyMCUyMCUyMCUyMGF1dGhvcnMlM0QlMjJIdWxra28lMkMlMjBIYW5uYSUyMGFuZCUyMEFicmFoYW1zc29uJTJDJTIwUGVra2ElMjIlMkMlMEElMjAlMjAlMjAlMjBwbGFjZSUzRElDU0UlMkMlMEElMjAlMjAlMjAlMjBwcCUzRCUyMjQ5NS0tNTA0JTIyJTJDJTBBJTIwJTIwJTIwJTIwZW50cnl0eXBlJTNEJTIyaW5wcm9jZWVkaW5ncyUyMiUyQyUwQSUyMCUyMCUyMCUyMHNlcmllcyUzRCUyMklDU0UlMjAlMjcwNSUyMiUyQyUwQSUyMCUyMCUyMCUyMGlzYm4lM0QlMjIxLTU4MTEzLTk2My0yJTIyJTJDJTBBJTIwJTIwJTIwJTIwbG9jYXRpb24lM0QlMjJTdC4lMjBMb3VpcyUyQyUyME1PJTJDJTIwVVNBJTIyJTJDJTBBJTIwJTIwJTIwJTIwbnVtcGFnZXMlM0QlMjIxMCUyMiUyQyUwQSUyMCUyMCUyMCUyMGxpbmslM0QlMjJodHRwJTNBLy9kb2kuYWNtLm9yZy8xMC4xMTQ1LzEwNjI0NTUuMTA2MjU0NSUyMiUyQyUwQSUyMCUyMCUyMCUyMGRvaSUzRCUyMjEwLjExNDUvMTA2MjQ1NS4xMDYyNTQ1JTIyJTJDJTBBJTIwJTIwJTIwJTIwYWNtaWQlM0QlMjIxMDYyNTQ1JTIyJTJDJTBBJTIwJTIwJTIwJTIwcHVibGlzaGVyJTNEJTIyQUNNJTIyJTJDJTBBJTIwJTIwJTIwJTIwYWRkcmVzcyUzRCUyMk5ldyUyMFlvcmslMkMlMjBOWSUyQyUyMFVTQSUyMiUyQyUwQSUyMCUyMCUyMCUyMGtleXdvcmQlM0QlMjJhZ2lsZSUyMHNvZnR3YXJlJTIwZGV2ZWxvcG1lbnQlMkMlMjBlbXBpcmljYWwlMjBzb2Z0d2FyZSUyMGVuZ2luZWVyaW5nJTJDJTIwZXh0cmVtZSUyMHByb2dyYW1taW5nJTJDJTIwcHJvZHVjdGl2aXR5JTJDJTIwc29mdHdhcmUlMjBxdWFsaXR5JTIyJTJDJTBBJTIwJTIwJTIwJTIwSUQlM0QlMjJIdWxra28lM0EyMDA1JTNBTUNTJTNBMTA2MjQ1NS4xMDYyNTQ1JTIyJTJDJTBBJTIwJTIwJTIwJTIwYWNtMjAxNSUzRCUyMjElMjIlMkMlMEElMjAlMjAlMjAlMjBwbGFjZXglM0QlMjJQcm9jZWVkaW5ncyUyMG9mJTIwdGhlJTIwMjd0aCUyMEludGVybmF0aW9uYWwlMjBDb25mZXJlbmNlJTIwb24lMjBTb2Z0d2FyZSUyMEVuZ2luZWVyaW5nJTIyJTJDJTBBJTI5JTI5JTBBJTI3JTI3JTI3JTI5JTNC\")));\n",
       "    "
      ],
      "text/plain": [
       "<IPython.core.display.Javascript object>"
      ]
     },
     "metadata": {},
     "output_type": "display_data"
    },
    {
     "data": {
      "application/javascript": [
       "$('span:contains(\"# Temp\")').closest('.cell').remove();"
      ],
      "text/plain": [
       "<IPython.core.display.Javascript object>"
      ]
     },
     "metadata": {},
     "output_type": "display_data"
    },
    {
     "data": {
      "application/javascript": [
       "\n",
       "        $('span:contains(\"# Temp\")').closest('.cell').remove();\n",
       "        var code = IPython.notebook.insert_cell_below('code');\n",
       "        code.set_text(decodeURIComponent(window.atob(\"JTIzJTIwVGVtcCUwQWluc2VydCUyOCUyNyUyNyUyNyUwQWh1bGtrbzIwMDVhJTIwJTNEJTIwREIlMjhXb3JrVW5yZWxhdGVkJTI4JTBBJTIwJTIwJTIwJTIwMjAwNSUyQyUyMCUyMkElMjBNdWx0aXBsZSUyMENhc2UlMjBTdHVkeSUyMG9uJTIwdGhlJTIwSW1wYWN0JTIwb2YlMjBQYWlyJTIwUHJvZ3JhbW1pbmclMjBvbiUyMFByb2R1Y3QlMjBRdWFsaXR5JTIyJTJDJTBBJTIwJTIwJTIwJTIwZGlzcGxheSUzRCUyMmh1bGtrbyUyMiUyQyUwQSUyMCUyMCUyMCUyMGF1dGhvcnMlM0QlMjJIdWxra28lMkMlMjBIYW5uYSUyMGFuZCUyMEFicmFoYW1zc29uJTJDJTIwUGVra2ElMjIlMkMlMEElMjAlMjAlMjAlMjBwbGFjZSUzRElDU0UlMkMlMEElMjAlMjAlMjAlMjBwcCUzRCUyMjQ5NS0tNTA0JTIyJTJDJTBBJTIwJTIwJTIwJTIwZW50cnl0eXBlJTNEJTIyaW5wcm9jZWVkaW5ncyUyMiUyQyUwQSUyMCUyMCUyMCUyMHNlcmllcyUzRCUyMklDU0UlMjAlMjcwNSUyMiUyQyUwQSUyMCUyMCUyMCUyMGlzYm4lM0QlMjIxLTU4MTEzLTk2My0yJTIyJTJDJTBBJTIwJTIwJTIwJTIwbG9jYXRpb24lM0QlMjJTdC4lMjBMb3VpcyUyQyUyME1PJTJDJTIwVVNBJTIyJTJDJTBBJTIwJTIwJTIwJTIwbnVtcGFnZXMlM0QlMjIxMCUyMiUyQyUwQSUyMCUyMCUyMCUyMGxpbmslM0QlMjJodHRwJTNBLy9kb2kuYWNtLm9yZy8xMC4xMTQ1LzEwNjI0NTUuMTA2MjU0NSUyMiUyQyUwQSUyMCUyMCUyMCUyMGRvaSUzRCUyMjEwLjExNDUvMTA2MjQ1NS4xMDYyNTQ1JTIyJTJDJTBBJTIwJTIwJTIwJTIwYWNtaWQlM0QlMjIxMDYyNTQ1JTIyJTJDJTBBJTIwJTIwJTIwJTIwcHVibGlzaGVyJTNEJTIyQUNNJTIyJTJDJTBBJTIwJTIwJTIwJTIwYWRkcmVzcyUzRCUyMk5ldyUyMFlvcmslMkMlMjBOWSUyQyUyMFVTQSUyMiUyQyUwQSUyMCUyMCUyMCUyMGtleXdvcmQlM0QlMjJhZ2lsZSUyMHNvZnR3YXJlJTIwZGV2ZWxvcG1lbnQlMkMlMjBlbXBpcmljYWwlMjBzb2Z0d2FyZSUyMGVuZ2luZWVyaW5nJTJDJTIwZXh0cmVtZSUyMHByb2dyYW1taW5nJTJDJTIwcHJvZHVjdGl2aXR5JTJDJTIwc29mdHdhcmUlMjBxdWFsaXR5JTIyJTJDJTBBJTIwJTIwJTIwJTIwSUQlM0QlMjJIdWxra28lM0EyMDA1JTNBTUNTJTNBMTA2MjQ1NS4xMDYyNTQ1JTIyJTJDJTBBJTIwJTIwJTIwJTIwYWNtMjAxNSUzRCUyMjElMjIlMkMlMEElMjAlMjAlMjAlMjBwbGFjZXglM0QlMjJQcm9jZWVkaW5ncyUyMG9mJTIwdGhlJTIwMjd0aCUyMEludGVybmF0aW9uYWwlMjBDb25mZXJlbmNlJTIwb24lMjBTb2Z0d2FyZSUyMEVuZ2luZWVyaW5nJTIyJTJDJTBBJTI5JTI5JTBBJTI3JTI3JTI3JTI5JTNC\")));\n",
       "    "
      ],
      "text/plain": [
       "<IPython.core.display.Javascript object>"
      ]
     },
     "metadata": {},
     "output_type": "display_data"
    },
    {
     "data": {
      "application/javascript": [
       "$('span:contains(\"# Temp\")').closest('.cell').remove();"
      ],
      "text/plain": [
       "<IPython.core.display.Javascript object>"
      ]
     },
     "metadata": {},
     "output_type": "display_data"
    },
    {
     "data": {
      "application/javascript": [
       "\n",
       "        $('span:contains(\"# Temp\")').closest('.cell').remove();\n",
       "        var code = IPython.notebook.insert_cell_below('code');\n",
       "        code.set_text(decodeURIComponent(window.atob(\"JTIzJTIwVGVtcCUwQWluc2VydCUyOCUyNyUyNyUyNyUwQXBpbm8yMDA5YyUyMCUzRCUyMERCJTI4V29ya1VucmVsYXRlZCUyOCUwQSUyMCUyMCUyMCUyMDIwMDklMkMlMjAlMjJLZXklMjBQcm9jZXNzZXMlMjB0byUyMFN0YXJ0JTIwU29mdHdhcmUlMjBQcm9jZXNzJTIwSW1wcm92ZW1lbnQlMjBpbiUyMFNtYWxsJTIwQ29tcGFuaWVzJTIyJTJDJTBBJTIwJTIwJTIwJTIwZGlzcGxheSUzRCUyMnBpbm8lMjBjJTIyJTJDJTBBJTIwJTIwJTIwJTIwYXV0aG9ycyUzRCUyMlBpbm8lMkMlMjBGcmFuY2lzY28lMjBKLiUyMGFuZCUyMEdhcmNpYSUyQyUyMEYlQzMlQTlsaXglMjBhbmQlMjBQaWF0dGluaSUyQyUyME1hcmlvJTIyJTJDJTBBJTIwJTIwJTIwJTIwcGxhY2UlM0RGQUtFJTJDJTBBJTIwJTIwJTIwJTIwcHAlM0QlMjI1MDktLTUxNiUyMiUyQyUwQSUyMCUyMCUyMCUyMGVudHJ5dHlwZSUzRCUyMmlucHJvY2VlZGluZ3MlMjIlMkMlMEElMjAlMjAlMjAlMjBzZXJpZXMlM0QlMjJTQUMlMjAlMjcwOSUyMiUyQyUwQSUyMCUyMCUyMCUyMGlzYm4lM0QlMjI5NzgtMS02MDU1OC0xNjYtOCUyMiUyQyUwQSUyMCUyMCUyMCUyMGxvY2F0aW9uJTNEJTIySG9ub2x1bHUlMkMlMjBIYXdhaWklMjIlMkMlMEElMjAlMjAlMjAlMjBudW1wYWdlcyUzRCUyMjglMjIlMkMlMEElMjAlMjAlMjAlMjBsaW5rJTNEJTIyaHR0cCUzQS8vZG9pLmFjbS5vcmcvMTAuMTE0NS8xNTI5MjgyLjE1MjkzODklMjIlMkMlMEElMjAlMjAlMjAlMjBkb2klM0QlMjIxMC4xMTQ1LzE1MjkyODIuMTUyOTM4OSUyMiUyQyUwQSUyMCUyMCUyMCUyMGFjbWlkJTNEJTIyMTUyOTM4OSUyMiUyQyUwQSUyMCUyMCUyMCUyMHB1Ymxpc2hlciUzRCUyMkFDTSUyMiUyQyUwQSUyMCUyMCUyMCUyMGFkZHJlc3MlM0QlMjJOZXclMjBZb3JrJTJDJTIwTlklMkMlMjBVU0ElMjIlMkMlMEElMjAlMjAlMjAlMjBrZXl3b3JkJTNEJTIyU01FcyUyQyUyMFNQSSUyQyUyMFZTRXMlMkMlMjBwcm9jZXNzJTIwc29mdHdhcmUlMkMlMjBwcm9jZXNzJTIwc29mdHdhcmUlMjBpbXByb3ZlbWVudCUyQyUyMHByb2Nlc3NlcyUyMHByaW9yaXRpemF0aW9uJTJDJTIwc21hbGwlMjBzb2Z0d2FyZSUyMG9yZ2FuaXphdGlvbnMlMjIlMkMlMEElMjAlMjAlMjAlMjBJRCUzRCUyMlBpbm8lM0EyMDA5JTNBS1BTJTNBMTUyOTI4Mi4xNTI5Mzg5JTIyJTJDJTBBJTIwJTIwJTIwJTIwYWNtMjAxNSUzRCUyMjElMjIlMkMlMEElMjAlMjAlMjAlMjBwbGFjZXglM0QlMjJQcm9jZWVkaW5ncyUyMG9mJTIwdGhlJTIwMjAwOSUyMEFDTSUyMFN5bXBvc2l1bSUyMG9uJTIwQXBwbGllZCUyMENvbXB1dGluZyUyMiUyQyUwQSUyOSUyOSUwQSUyNyUyNyUyNyUyOSUzQg==\")));\n",
       "    "
      ],
      "text/plain": [
       "<IPython.core.display.Javascript object>"
      ]
     },
     "metadata": {},
     "output_type": "display_data"
    },
    {
     "data": {
      "application/javascript": [
       "$('span:contains(\"# Temp\")').closest('.cell').remove();"
      ],
      "text/plain": [
       "<IPython.core.display.Javascript object>"
      ]
     },
     "metadata": {},
     "output_type": "display_data"
    },
    {
     "data": {
      "application/javascript": [
       "\n",
       "        $('span:contains(\"# Temp\")').closest('.cell').remove();\n",
       "        var code = IPython.notebook.insert_cell_below('code');\n",
       "        code.set_text(decodeURIComponent(window.atob(\"JTIzJTIwVGVtcCUwQWluc2VydCUyOCUyNyUyNyUyNyUwQXBpbm8yMDA5YyUyMCUzRCUyMERCJTI4V29ya1VucmVsYXRlZCUyOCUwQSUyMCUyMCUyMCUyMDIwMDklMkMlMjAlMjJLZXklMjBQcm9jZXNzZXMlMjB0byUyMFN0YXJ0JTIwU29mdHdhcmUlMjBQcm9jZXNzJTIwSW1wcm92ZW1lbnQlMjBpbiUyMFNtYWxsJTIwQ29tcGFuaWVzJTIyJTJDJTBBJTIwJTIwJTIwJTIwZGlzcGxheSUzRCUyMnBpbm8lMjBjJTIyJTJDJTBBJTIwJTIwJTIwJTIwYXV0aG9ycyUzRCUyMlBpbm8lMkMlMjBGcmFuY2lzY28lMjBKLiUyMGFuZCUyMEdhcmNpYSUyQyUyMEYlQzMlQTlsaXglMjBhbmQlMjBQaWF0dGluaSUyQyUyME1hcmlvJTIyJTJDJTBBJTIwJTIwJTIwJTIwcGxhY2UlM0RGQUtFJTJDJTBBJTIwJTIwJTIwJTIwcHAlM0QlMjI1MDktLTUxNiUyMiUyQyUwQSUyMCUyMCUyMCUyMGVudHJ5dHlwZSUzRCUyMmlucHJvY2VlZGluZ3MlMjIlMkMlMEElMjAlMjAlMjAlMjBzZXJpZXMlM0QlMjJTQUMlMjAlMjcwOSUyMiUyQyUwQSUyMCUyMCUyMCUyMGlzYm4lM0QlMjI5NzgtMS02MDU1OC0xNjYtOCUyMiUyQyUwQSUyMCUyMCUyMCUyMGxvY2F0aW9uJTNEJTIySG9ub2x1bHUlMkMlMjBIYXdhaWklMjIlMkMlMEElMjAlMjAlMjAlMjBudW1wYWdlcyUzRCUyMjglMjIlMkMlMEElMjAlMjAlMjAlMjBsaW5rJTNEJTIyaHR0cCUzQS8vZG9pLmFjbS5vcmcvMTAuMTE0NS8xNTI5MjgyLjE1MjkzODklMjIlMkMlMEElMjAlMjAlMjAlMjBkb2klM0QlMjIxMC4xMTQ1LzE1MjkyODIuMTUyOTM4OSUyMiUyQyUwQSUyMCUyMCUyMCUyMGFjbWlkJTNEJTIyMTUyOTM4OSUyMiUyQyUwQSUyMCUyMCUyMCUyMHB1Ymxpc2hlciUzRCUyMkFDTSUyMiUyQyUwQSUyMCUyMCUyMCUyMGFkZHJlc3MlM0QlMjJOZXclMjBZb3JrJTJDJTIwTlklMkMlMjBVU0ElMjIlMkMlMEElMjAlMjAlMjAlMjBrZXl3b3JkJTNEJTIyU01FcyUyQyUyMFNQSSUyQyUyMFZTRXMlMkMlMjBwcm9jZXNzJTIwc29mdHdhcmUlMkMlMjBwcm9jZXNzJTIwc29mdHdhcmUlMjBpbXByb3ZlbWVudCUyQyUyMHByb2Nlc3NlcyUyMHByaW9yaXRpemF0aW9uJTJDJTIwc21hbGwlMjBzb2Z0d2FyZSUyMG9yZ2FuaXphdGlvbnMlMjIlMkMlMEElMjAlMjAlMjAlMjBJRCUzRCUyMlBpbm8lM0EyMDA5JTNBS1BTJTNBMTUyOTI4Mi4xNTI5Mzg5JTIyJTJDJTBBJTIwJTIwJTIwJTIwYWNtMjAxNSUzRCUyMjElMjIlMkMlMEElMjAlMjAlMjAlMjBwbGFjZXglM0QlMjJQcm9jZWVkaW5ncyUyMG9mJTIwdGhlJTIwMjAwOSUyMEFDTSUyMFN5bXBvc2l1bSUyMG9uJTIwQXBwbGllZCUyMENvbXB1dGluZyUyMiUyQyUwQSUyOSUyOSUwQSUyNyUyNyUyNyUyOSUzQg==\")));\n",
       "    "
      ],
      "text/plain": [
       "<IPython.core.display.Javascript object>"
      ]
     },
     "metadata": {},
     "output_type": "display_data"
    },
    {
     "data": {
      "application/javascript": [
       "$('span:contains(\"# Temp\")').closest('.cell').remove();"
      ],
      "text/plain": [
       "<IPython.core.display.Javascript object>"
      ]
     },
     "metadata": {},
     "output_type": "display_data"
    },
    {
     "data": {
      "application/javascript": [
       "\n",
       "        $('span:contains(\"# Temp\")').closest('.cell').remove();\n",
       "        var code = IPython.notebook.insert_cell_below('code');\n",
       "        code.set_text(decodeURIComponent(window.atob(\"JTIzJTIwVGVtcCUwQWluc2VydCUyOCUyNyUyNyUyNyUwQXBhcmRvMjAxMGElMjAlM0QlMjBEQiUyOFdvcmtVbnJlbGF0ZWQlMjglMEElMjAlMjAlMjAlMjAyMDEwJTJDJTIwJTIyQSUyMFByb2Nlc3MlMjBmb3IlMjBEcml2aW5nJTIwdGhlJTIwSGFybW9uaXphdGlvbiUyMG9mJTIwTW9kZWxzJTIyJTJDJTBBJTIwJTIwJTIwJTIwZGlzcGxheSUzRCUyMnBhcmRvJTIyJTJDJTBBJTIwJTIwJTIwJTIwYXV0aG9ycyUzRCUyMlBhcmRvJTJDJTIwQyVDMyVBOXNhciUyMGFuZCUyMFBpbm8lMkMlMjBGcmFuY2lzY28lMjBKLiUyMGFuZCUyMEdhcmMlQzMlQURhJTJDJTIwRiVDMyVBOWxpeCUyMGFuZCUyMFBpYXR0aW5pJTJDJTIwTWFyaW8lMjBhbmQlMjBCYWxkYXNzYXJyZSUyQyUyME1hcmlhJTIwVGVyZXNhJTIyJTJDJTBBJTIwJTIwJTIwJTIwcGxhY2UlM0RJQ1BGU1BJJTJDJTBBJTIwJTIwJTIwJTIwcHAlM0QlMjI1MS0tNTQlMjIlMkMlMEElMjAlMjAlMjAlMjBlbnRyeXR5cGUlM0QlMjJpbnByb2NlZWRpbmdzJTIyJTJDJTBBJTIwJTIwJTIwJTIwc2VyaWVzJTNEJTIyUFJPRkVTJTIwJTI3MTAlMjIlMkMlMEElMjAlMjAlMjAlMjBpc2JuJTNEJTIyOTc4LTEtNDUwMy0wMjgxLTQlMjIlMkMlMEElMjAlMjAlMjAlMjBsb2NhdGlvbiUzRCUyMkxpbWVyaWNrJTJDJTIwSXJlbGFuZCUyMiUyQyUwQSUyMCUyMCUyMCUyMG51bXBhZ2VzJTNEJTIyNCUyMiUyQyUwQSUyMCUyMCUyMCUyMGxpbmslM0QlMjJodHRwJTNBLy9kb2kuYWNtLm9yZy8xMC4xMTQ1LzE5NjEyNTguMTk2MTI3MSUyMiUyQyUwQSUyMCUyMCUyMCUyMGRvaSUzRCUyMjEwLjExNDUvMTk2MTI1OC4xOTYxMjcxJTIyJTJDJTBBJTIwJTIwJTIwJTIwYWNtaWQlM0QlMjIxOTYxMjcxJTIyJTJDJTBBJTIwJTIwJTIwJTIwcHVibGlzaGVyJTNEJTIyQUNNJTIyJTJDJTBBJTIwJTIwJTIwJTIwYWRkcmVzcyUzRCUyMk5ldyUyMFlvcmslMkMlMjBOWSUyQyUyMFVTQSUyMiUyQyUwQSUyMCUyMCUyMCUyMGtleXdvcmQlM0QlMjJTUEklMkMlMjBleHBlcmllbmNlJTIwcmVwb3J0JTJDJTIwaGFybW9uaXphdGlvbiUyQyUyMGltcHJvdmVtZW50JTIwcHJvY2VzcyUyQyUyMG11bHRpLW1vZGVsJTIyJTJDJTBBJTIwJTIwJTIwJTIwSUQlM0QlMjJQYXJkbyUzQTIwMTAlM0FQREglM0ExOTYxMjU4LjE5NjEyNzElMjIlMkMlMEElMjAlMjAlMjAlMjBhY20yMDE1JTNEJTIyMSUyMiUyQyUwQSUyMCUyMCUyMCUyMHBsYWNleCUzRCUyMlByb2NlZWRpbmdzJTIwb2YlMjB0aGUlMjAxMXRoJTIwSW50ZXJuYXRpb25hbCUyMENvbmZlcmVuY2UlMjBvbiUyMFByb2R1Y3QlMjBGb2N1c2VkJTIwU29mdHdhcmUlMjIlMkMlMEElMjklMjklMEElMjclMjclMjclMjklM0I=\")));\n",
       "    "
      ],
      "text/plain": [
       "<IPython.core.display.Javascript object>"
      ]
     },
     "metadata": {},
     "output_type": "display_data"
    },
    {
     "data": {
      "application/javascript": [
       "$('span:contains(\"# Temp\")').closest('.cell').remove();"
      ],
      "text/plain": [
       "<IPython.core.display.Javascript object>"
      ]
     },
     "metadata": {},
     "output_type": "display_data"
    },
    {
     "data": {
      "application/javascript": [
       "\n",
       "        $('span:contains(\"# Temp\")').closest('.cell').remove();\n",
       "        var code = IPython.notebook.insert_cell_below('code');\n",
       "        code.set_text(decodeURIComponent(window.atob(\"JTIzJTIwVGVtcCUwQWluc2VydCUyOCUyNyUyNyUyNyUwQXBhcmRvMjAxMGElMjAlM0QlMjBEQiUyOFdvcmtVbnJlbGF0ZWQlMjglMEElMjAlMjAlMjAlMjAyMDEwJTJDJTIwJTIyQSUyMFByb2Nlc3MlMjBmb3IlMjBEcml2aW5nJTIwdGhlJTIwSGFybW9uaXphdGlvbiUyMG9mJTIwTW9kZWxzJTIyJTJDJTBBJTIwJTIwJTIwJTIwZGlzcGxheSUzRCUyMnBhcmRvJTIyJTJDJTBBJTIwJTIwJTIwJTIwYXV0aG9ycyUzRCUyMlBhcmRvJTJDJTIwQyVDMyVBOXNhciUyMGFuZCUyMFBpbm8lMkMlMjBGcmFuY2lzY28lMjBKLiUyMGFuZCUyMEdhcmMlQzMlQURhJTJDJTIwRiVDMyVBOWxpeCUyMGFuZCUyMFBpYXR0aW5pJTJDJTIwTWFyaW8lMjBhbmQlMjBCYWxkYXNzYXJyZSUyQyUyME1hcmlhJTIwVGVyZXNhJTIyJTJDJTBBJTIwJTIwJTIwJTIwcGxhY2UlM0RJQ1BGU1BJJTJDJTBBJTIwJTIwJTIwJTIwcHAlM0QlMjI1MS0tNTQlMjIlMkMlMEElMjAlMjAlMjAlMjBlbnRyeXR5cGUlM0QlMjJpbnByb2NlZWRpbmdzJTIyJTJDJTBBJTIwJTIwJTIwJTIwc2VyaWVzJTNEJTIyUFJPRkVTJTIwJTI3MTAlMjIlMkMlMEElMjAlMjAlMjAlMjBpc2JuJTNEJTIyOTc4LTEtNDUwMy0wMjgxLTQlMjIlMkMlMEElMjAlMjAlMjAlMjBsb2NhdGlvbiUzRCUyMkxpbWVyaWNrJTJDJTIwSXJlbGFuZCUyMiUyQyUwQSUyMCUyMCUyMCUyMG51bXBhZ2VzJTNEJTIyNCUyMiUyQyUwQSUyMCUyMCUyMCUyMGxpbmslM0QlMjJodHRwJTNBLy9kb2kuYWNtLm9yZy8xMC4xMTQ1LzE5NjEyNTguMTk2MTI3MSUyMiUyQyUwQSUyMCUyMCUyMCUyMGRvaSUzRCUyMjEwLjExNDUvMTk2MTI1OC4xOTYxMjcxJTIyJTJDJTBBJTIwJTIwJTIwJTIwYWNtaWQlM0QlMjIxOTYxMjcxJTIyJTJDJTBBJTIwJTIwJTIwJTIwcHVibGlzaGVyJTNEJTIyQUNNJTIyJTJDJTBBJTIwJTIwJTIwJTIwYWRkcmVzcyUzRCUyMk5ldyUyMFlvcmslMkMlMjBOWSUyQyUyMFVTQSUyMiUyQyUwQSUyMCUyMCUyMCUyMGtleXdvcmQlM0QlMjJTUEklMkMlMjBleHBlcmllbmNlJTIwcmVwb3J0JTJDJTIwaGFybW9uaXphdGlvbiUyQyUyMGltcHJvdmVtZW50JTIwcHJvY2VzcyUyQyUyMG11bHRpLW1vZGVsJTIyJTJDJTBBJTIwJTIwJTIwJTIwSUQlM0QlMjJQYXJkbyUzQTIwMTAlM0FQREglM0ExOTYxMjU4LjE5NjEyNzElMjIlMkMlMEElMjAlMjAlMjAlMjBhY20yMDE1JTNEJTIyMSUyMiUyQyUwQSUyMCUyMCUyMCUyMHBsYWNleCUzRCUyMlByb2NlZWRpbmdzJTIwb2YlMjB0aGUlMjAxMXRoJTIwSW50ZXJuYXRpb25hbCUyMENvbmZlcmVuY2UlMjBvbiUyMFByb2R1Y3QlMjBGb2N1c2VkJTIwU29mdHdhcmUlMjIlMkMlMEElMjklMjklMEElMjclMjclMjclMjklM0I=\")));\n",
       "    "
      ],
      "text/plain": [
       "<IPython.core.display.Javascript object>"
      ]
     },
     "metadata": {},
     "output_type": "display_data"
    },
    {
     "data": {
      "application/javascript": [
       "$('span:contains(\"# Temp\")').closest('.cell').remove();"
      ],
      "text/plain": [
       "<IPython.core.display.Javascript object>"
      ]
     },
     "metadata": {},
     "output_type": "display_data"
    },
    {
     "data": {
      "application/javascript": [
       "\n",
       "        $('span:contains(\"# Temp\")').closest('.cell').remove();\n",
       "        var code = IPython.notebook.insert_cell_below('code');\n",
       "        code.set_text(decodeURIComponent(window.atob(\"JTIzJTIwVGVtcCUwQWluc2VydCUyOCUyNyUyNyUyNyUwQWJyb3duMjAxMmElMjAlM0QlMjBEQiUyOFdvcmtVbnJlbGF0ZWQlMjglMEElMjAlMjAlMjAlMjAyMDEyJTJDJTIwJTIySm9pbnQlMjBJbXBsaWNpdCUyMEFsaWdubWVudCUyMFdvcmslMjBvZiUyMEludGVyYWN0aW9uJTIwRGVzaWduZXJzJTIwYW5kJTIwU29mdHdhcmUlMjBEZXZlbG9wZXJzJTIyJTJDJTBBJTIwJTIwJTIwJTIwZGlzcGxheSUzRCUyMmJyb3duJTIyJTJDJTBBJTIwJTIwJTIwJTIwYXV0aG9ycyUzRCUyMkJyb3duJTJDJTIwSnVkaXRoJTIwTS4lMjBhbmQlMjBMaW5kZ2FhcmQlMkMlMjBHaXR0ZSUyMGFuZCUyMEJpZGRsZSUyQyUyMFJvYmVydCUyMiUyQyUwQSUyMCUyMCUyMCUyMHBsYWNlJTNERkFLRSUyQyUwQSUyMCUyMCUyMCUyMHBwJTNEJTIyNjkzLS03MDIlMjIlMkMlMEElMjAlMjAlMjAlMjBlbnRyeXR5cGUlM0QlMjJpbnByb2NlZWRpbmdzJTIyJTJDJTBBJTIwJTIwJTIwJTIwc2VyaWVzJTNEJTIyTm9yZGlDSEklMjAlMjcxMiUyMiUyQyUwQSUyMCUyMCUyMCUyMGlzYm4lM0QlMjI5NzgtMS00NTAzLTE0ODItNCUyMiUyQyUwQSUyMCUyMCUyMCUyMGxvY2F0aW9uJTNEJTIyQ29wZW5oYWdlbiUyQyUyMERlbm1hcmslMjIlMkMlMEElMjAlMjAlMjAlMjBudW1wYWdlcyUzRCUyMjEwJTIyJTJDJTBBJTIwJTIwJTIwJTIwbGluayUzRCUyMmh0dHAlM0EvL2RvaS5hY20ub3JnLzEwLjExNDUvMjM5OTAxNi4yMzk5MTIxJTIyJTJDJTBBJTIwJTIwJTIwJTIwZG9pJTNEJTIyMTAuMTE0NS8yMzk5MDE2LjIzOTkxMjElMjIlMkMlMEElMjAlMjAlMjAlMjBhY21pZCUzRCUyMjIzOTkxMjElMjIlMkMlMEElMjAlMjAlMjAlMjBwdWJsaXNoZXIlM0QlMjJBQ00lMjIlMkMlMEElMjAlMjAlMjAlMjBhZGRyZXNzJTNEJTIyTmV3JTIwWW9yayUyQyUyME5ZJTJDJTIwVVNBJTIyJTJDJTBBJTIwJTIwJTIwJTIwa2V5d29yZCUzRCUyMmRldmVsb3BlcnMlMkMlMjBmaWVsZCUyMHN0dWR5JTJDJTIwaW50ZXJhY3Rpb24lMjBkZXNpZ25lcnMlMkMlMjBtb2RlbGxpbmclMkMlMjBxdWFsaXRhdGl2ZSUyMGFuYWx5c2lzJTJDJTIwc29mdHdhcmUlMjBkZXZlbG9wbWVudCUyMiUyQyUwQSUyMCUyMCUyMCUyMElEJTNEJTIyQnJvd24lM0EyMDEyJTNBSklBJTNBMjM5OTAxNi4yMzk5MTIxJTIyJTJDJTBBJTIwJTIwJTIwJTIwYWNtMjAxNSUzRCUyMjElMjIlMkMlMEElMjAlMjAlMjAlMjBwbGFjZXglM0QlMjJQcm9jZWVkaW5ncyUyMG9mJTIwdGhlJTIwN3RoJTIwTm9yZGljJTIwQ29uZmVyZW5jZSUyMG9uJTIwSHVtYW4tQ29tcHV0ZXIlMjBJbnRlcmFjdGlvbiUzQSUyME1ha2luZyUyMFNlbnNlJTIwVGhyb3VnaCUyMERlc2lnbiUyMiUyQyUwQSUyOSUyOSUwQSUyNyUyNyUyNyUyOSUzQg==\")));\n",
       "    "
      ],
      "text/plain": [
       "<IPython.core.display.Javascript object>"
      ]
     },
     "metadata": {},
     "output_type": "display_data"
    },
    {
     "data": {
      "application/javascript": [
       "$('span:contains(\"# Temp\")').closest('.cell').remove();"
      ],
      "text/plain": [
       "<IPython.core.display.Javascript object>"
      ]
     },
     "metadata": {},
     "output_type": "display_data"
    },
    {
     "data": {
      "application/javascript": [
       "\n",
       "        $('span:contains(\"# Temp\")').closest('.cell').remove();\n",
       "        var code = IPython.notebook.insert_cell_below('code');\n",
       "        code.set_text(decodeURIComponent(window.atob(\"JTIzJTIwVGVtcCUwQWluc2VydCUyOCUyNyUyNyUyNyUwQWJyb3duMjAxMmElMjAlM0QlMjBEQiUyOFdvcmtVbnJlbGF0ZWQlMjglMEElMjAlMjAlMjAlMjAyMDEyJTJDJTIwJTIySm9pbnQlMjBJbXBsaWNpdCUyMEFsaWdubWVudCUyMFdvcmslMjBvZiUyMEludGVyYWN0aW9uJTIwRGVzaWduZXJzJTIwYW5kJTIwU29mdHdhcmUlMjBEZXZlbG9wZXJzJTIyJTJDJTBBJTIwJTIwJTIwJTIwZGlzcGxheSUzRCUyMmJyb3duJTIyJTJDJTBBJTIwJTIwJTIwJTIwYXV0aG9ycyUzRCUyMkJyb3duJTJDJTIwSnVkaXRoJTIwTS4lMjBhbmQlMjBMaW5kZ2FhcmQlMkMlMjBHaXR0ZSUyMGFuZCUyMEJpZGRsZSUyQyUyMFJvYmVydCUyMiUyQyUwQSUyMCUyMCUyMCUyMHBsYWNlJTNERkFLRSUyQyUwQSUyMCUyMCUyMCUyMHBwJTNEJTIyNjkzLS03MDIlMjIlMkMlMEElMjAlMjAlMjAlMjBlbnRyeXR5cGUlM0QlMjJpbnByb2NlZWRpbmdzJTIyJTJDJTBBJTIwJTIwJTIwJTIwc2VyaWVzJTNEJTIyTm9yZGlDSEklMjAlMjcxMiUyMiUyQyUwQSUyMCUyMCUyMCUyMGlzYm4lM0QlMjI5NzgtMS00NTAzLTE0ODItNCUyMiUyQyUwQSUyMCUyMCUyMCUyMGxvY2F0aW9uJTNEJTIyQ29wZW5oYWdlbiUyQyUyMERlbm1hcmslMjIlMkMlMEElMjAlMjAlMjAlMjBudW1wYWdlcyUzRCUyMjEwJTIyJTJDJTBBJTIwJTIwJTIwJTIwbGluayUzRCUyMmh0dHAlM0EvL2RvaS5hY20ub3JnLzEwLjExNDUvMjM5OTAxNi4yMzk5MTIxJTIyJTJDJTBBJTIwJTIwJTIwJTIwZG9pJTNEJTIyMTAuMTE0NS8yMzk5MDE2LjIzOTkxMjElMjIlMkMlMEElMjAlMjAlMjAlMjBhY21pZCUzRCUyMjIzOTkxMjElMjIlMkMlMEElMjAlMjAlMjAlMjBwdWJsaXNoZXIlM0QlMjJBQ00lMjIlMkMlMEElMjAlMjAlMjAlMjBhZGRyZXNzJTNEJTIyTmV3JTIwWW9yayUyQyUyME5ZJTJDJTIwVVNBJTIyJTJDJTBBJTIwJTIwJTIwJTIwa2V5d29yZCUzRCUyMmRldmVsb3BlcnMlMkMlMjBmaWVsZCUyMHN0dWR5JTJDJTIwaW50ZXJhY3Rpb24lMjBkZXNpZ25lcnMlMkMlMjBtb2RlbGxpbmclMkMlMjBxdWFsaXRhdGl2ZSUyMGFuYWx5c2lzJTJDJTIwc29mdHdhcmUlMjBkZXZlbG9wbWVudCUyMiUyQyUwQSUyMCUyMCUyMCUyMElEJTNEJTIyQnJvd24lM0EyMDEyJTNBSklBJTNBMjM5OTAxNi4yMzk5MTIxJTIyJTJDJTBBJTIwJTIwJTIwJTIwYWNtMjAxNSUzRCUyMjElMjIlMkMlMEElMjAlMjAlMjAlMjBwbGFjZXglM0QlMjJQcm9jZWVkaW5ncyUyMG9mJTIwdGhlJTIwN3RoJTIwTm9yZGljJTIwQ29uZmVyZW5jZSUyMG9uJTIwSHVtYW4tQ29tcHV0ZXIlMjBJbnRlcmFjdGlvbiUzQSUyME1ha2luZyUyMFNlbnNlJTIwVGhyb3VnaCUyMERlc2lnbiUyMiUyQyUwQSUyOSUyOSUwQSUyNyUyNyUyNyUyOSUzQg==\")));\n",
       "    "
      ],
      "text/plain": [
       "<IPython.core.display.Javascript object>"
      ]
     },
     "metadata": {},
     "output_type": "display_data"
    },
    {
     "data": {
      "application/javascript": [
       "$('span:contains(\"# Temp\")').closest('.cell').remove();"
      ],
      "text/plain": [
       "<IPython.core.display.Javascript object>"
      ]
     },
     "metadata": {},
     "output_type": "display_data"
    },
    {
     "data": {
      "application/javascript": [
       "\n",
       "        $('span:contains(\"# Temp\")').closest('.cell').remove();\n",
       "        var code = IPython.notebook.insert_cell_below('code');\n",
       "        code.set_text(decodeURIComponent(window.atob(\"JTIzJTIwVGVtcCUwQWluc2VydCUyOCUyNyUyNyUyNyUwQW8yMDE1YSUyMCUzRCUyMERCJTI4V29ya1VucmVsYXRlZCUyOCUwQSUyMCUyMCUyMCUyMDIwMTUlMkMlMjAlMjJTb2Z0d2FyZSUyMFByb2Nlc3MlMjBSZWZsZXhpdml0eSUyMGFuZCUyMEJ1c2luZXNzJTIwUGVyZm9ybWFuY2UlM0ElMjBJbml0aWFsJTIwUmVzdWx0cyUyMGZyb20lMjBhbiUyMEVtcGlyaWNhbCUyMFN0dWR5JTIyJTJDJTBBJTIwJTIwJTIwJTIwZGlzcGxheSUzRCUyMm8lMjIlMkMlMEElMjAlMjAlMjAlMjBhdXRob3JzJTNEJTIyTyUyNiUyMzAzOSUzQkNvbm5vciUyQyUyMFJvcnklMjBWLiUyMGFuZCUyMENsYXJrZSUyQyUyMFBhdWwlMjIlMkMlMEElMjAlMjAlMjAlMjBwbGFjZSUzREZBS0UlMkMlMEElMjAlMjAlMjAlMjBwcCUzRCUyMjE0Mi0tMTQ2JTIyJTJDJTBBJTIwJTIwJTIwJTIwZW50cnl0eXBlJTNEJTIyaW5wcm9jZWVkaW5ncyUyMiUyQyUwQSUyMCUyMCUyMCUyMHNlcmllcyUzRCUyMklDU1NQJTIwMjAxNSUyMiUyQyUwQSUyMCUyMCUyMCUyMGlzYm4lM0QlMjI5NzgtMS00NTAzLTMzNDYtNyUyMiUyQyUwQSUyMCUyMCUyMCUyMGxvY2F0aW9uJTNEJTIyVGFsbGlubiUyQyUyMEVzdG9uaWElMjIlMkMlMEElMjAlMjAlMjAlMjBudW1wYWdlcyUzRCUyMjUlMjIlMkMlMEElMjAlMjAlMjAlMjBsaW5rJTNEJTIyaHR0cCUzQS8vZG9pLmFjbS5vcmcvMTAuMTE0NS8yNzg1NTkyLjI3ODU2MDclMjIlMkMlMEElMjAlMjAlMjAlMjBkb2klM0QlMjIxMC4xMTQ1LzI3ODU1OTIuMjc4NTYwNyUyMiUyQyUwQSUyMCUyMCUyMCUyMGFjbWlkJTNEJTIyMjc4NTYwNyUyMiUyQyUwQSUyMCUyMCUyMCUyMHB1Ymxpc2hlciUzRCUyMkFDTSUyMiUyQyUwQSUyMCUyMCUyMCUyMGFkZHJlc3MlM0QlMjJOZXclMjBZb3JrJTJDJTIwTlklMkMlMjBVU0ElMjIlMkMlMEElMjAlMjAlMjAlMjBrZXl3b3JkJTNEJTIyU29mdHdhcmUlMjBwcm9jZXNzJTIwaW1wcm92ZW1lbnQlMkMlMjBwcm9jZXNzJTIwZXZvbHV0aW9uJTJDJTIwcHJvY2VzcyUyMHJlZmxleGl2aXR5JTIyJTJDJTBBJTIwJTIwJTIwJTIwSUQlM0QlMjJPJTI2JTIzMDM5JTNCQ29ubm9yJTNBMjAxNSUzQVNQUiUzQTI3ODU1OTIuMjc4NTYwNyUyMiUyQyUwQSUyMCUyMCUyMCUyMGFjbTIwMTUlM0QlMjIxJTIyJTJDJTBBJTIwJTIwJTIwJTIwcGxhY2V4JTNEJTIyUHJvY2VlZGluZ3MlMjBvZiUyMHRoZSUyMDIwMTUlMjBJbnRlcm5hdGlvbmFsJTIwQ29uZmVyZW5jZSUyMG9uJTIwU29mdHdhcmUlMjBhbmQlMjBTeXN0ZW0lMjBQcm9jZXNzJTIyJTJDJTBBJTI5JTI5JTBBJTI3JTI3JTI3JTI5JTNC\")));\n",
       "    "
      ],
      "text/plain": [
       "<IPython.core.display.Javascript object>"
      ]
     },
     "metadata": {},
     "output_type": "display_data"
    },
    {
     "data": {
      "application/javascript": [
       "$('span:contains(\"# Temp\")').closest('.cell').remove();"
      ],
      "text/plain": [
       "<IPython.core.display.Javascript object>"
      ]
     },
     "metadata": {},
     "output_type": "display_data"
    },
    {
     "data": {
      "application/javascript": [
       "\n",
       "        $('span:contains(\"# Temp\")').closest('.cell').remove();\n",
       "        var code = IPython.notebook.insert_cell_below('code');\n",
       "        code.set_text(decodeURIComponent(window.atob(\"JTIzJTIwVGVtcCUwQWluc2VydCUyOCUyNyUyNyUyNyUwQW8yMDE1YSUyMCUzRCUyMERCJTI4V29ya1VucmVsYXRlZCUyOCUwQSUyMCUyMCUyMCUyMDIwMTUlMkMlMjAlMjJTb2Z0d2FyZSUyMFByb2Nlc3MlMjBSZWZsZXhpdml0eSUyMGFuZCUyMEJ1c2luZXNzJTIwUGVyZm9ybWFuY2UlM0ElMjBJbml0aWFsJTIwUmVzdWx0cyUyMGZyb20lMjBhbiUyMEVtcGlyaWNhbCUyMFN0dWR5JTIyJTJDJTBBJTIwJTIwJTIwJTIwZGlzcGxheSUzRCUyMm8lMjIlMkMlMEElMjAlMjAlMjAlMjBhdXRob3JzJTNEJTIyTyUyNiUyMzAzOSUzQkNvbm5vciUyQyUyMFJvcnklMjBWLiUyMGFuZCUyMENsYXJrZSUyQyUyMFBhdWwlMjIlMkMlMEElMjAlMjAlMjAlMjBwbGFjZSUzREZBS0UlMkMlMEElMjAlMjAlMjAlMjBwcCUzRCUyMjE0Mi0tMTQ2JTIyJTJDJTBBJTIwJTIwJTIwJTIwZW50cnl0eXBlJTNEJTIyaW5wcm9jZWVkaW5ncyUyMiUyQyUwQSUyMCUyMCUyMCUyMHNlcmllcyUzRCUyMklDU1NQJTIwMjAxNSUyMiUyQyUwQSUyMCUyMCUyMCUyMGlzYm4lM0QlMjI5NzgtMS00NTAzLTMzNDYtNyUyMiUyQyUwQSUyMCUyMCUyMCUyMGxvY2F0aW9uJTNEJTIyVGFsbGlubiUyQyUyMEVzdG9uaWElMjIlMkMlMEElMjAlMjAlMjAlMjBudW1wYWdlcyUzRCUyMjUlMjIlMkMlMEElMjAlMjAlMjAlMjBsaW5rJTNEJTIyaHR0cCUzQS8vZG9pLmFjbS5vcmcvMTAuMTE0NS8yNzg1NTkyLjI3ODU2MDclMjIlMkMlMEElMjAlMjAlMjAlMjBkb2klM0QlMjIxMC4xMTQ1LzI3ODU1OTIuMjc4NTYwNyUyMiUyQyUwQSUyMCUyMCUyMCUyMGFjbWlkJTNEJTIyMjc4NTYwNyUyMiUyQyUwQSUyMCUyMCUyMCUyMHB1Ymxpc2hlciUzRCUyMkFDTSUyMiUyQyUwQSUyMCUyMCUyMCUyMGFkZHJlc3MlM0QlMjJOZXclMjBZb3JrJTJDJTIwTlklMkMlMjBVU0ElMjIlMkMlMEElMjAlMjAlMjAlMjBrZXl3b3JkJTNEJTIyU29mdHdhcmUlMjBwcm9jZXNzJTIwaW1wcm92ZW1lbnQlMkMlMjBwcm9jZXNzJTIwZXZvbHV0aW9uJTJDJTIwcHJvY2VzcyUyMHJlZmxleGl2aXR5JTIyJTJDJTBBJTIwJTIwJTIwJTIwSUQlM0QlMjJPJTI2JTIzMDM5JTNCQ29ubm9yJTNBMjAxNSUzQVNQUiUzQTI3ODU1OTIuMjc4NTYwNyUyMiUyQyUwQSUyMCUyMCUyMCUyMGFjbTIwMTUlM0QlMjIxJTIyJTJDJTBBJTIwJTIwJTIwJTIwcGxhY2V4JTNEJTIyUHJvY2VlZGluZ3MlMjBvZiUyMHRoZSUyMDIwMTUlMjBJbnRlcm5hdGlvbmFsJTIwQ29uZmVyZW5jZSUyMG9uJTIwU29mdHdhcmUlMjBhbmQlMjBTeXN0ZW0lMjBQcm9jZXNzJTIyJTJDJTBBJTI5JTI5JTBBJTI3JTI3JTI3JTI5JTNC\")));\n",
       "    "
      ],
      "text/plain": [
       "<IPython.core.display.Javascript object>"
      ]
     },
     "metadata": {},
     "output_type": "display_data"
    },
    {
     "data": {
      "application/javascript": [
       "$('span:contains(\"# Temp\")').closest('.cell').remove();"
      ],
      "text/plain": [
       "<IPython.core.display.Javascript object>"
      ]
     },
     "metadata": {},
     "output_type": "display_data"
    },
    {
     "data": {
      "application/javascript": [
       "\n",
       "        $('span:contains(\"# Temp\")').closest('.cell').remove();\n",
       "        var code = IPython.notebook.insert_cell_below('code');\n",
       "        code.set_text(decodeURIComponent(window.atob(\"JTIzJTIwVGVtcCUwQWluc2VydCUyOCUyNyUyNyUyNyUwQWZhZ2VyaG9sbTIwMTJhJTIwJTNEJTIwREIlMjhXb3JrVW5yZWxhdGVkJTI4JTBBJTIwJTIwJTIwJTIwMjAxMiUyQyUyMCUyMkRldmVsb3BlciUyMEV4cGVyaWVuY2UlM0ElMjBDb25jZXB0JTIwYW5kJTIwRGVmaW5pdGlvbiUyMiUyQyUwQSUyMCUyMCUyMCUyMGRpc3BsYXklM0QlMjJmYWdlcmhvbG0lMjIlMkMlMEElMjAlMjAlMjAlMjBhdXRob3JzJTNEJTIyRmFnZXJob2xtJTJDJTIwRmFiaWFuJTIwYW5kJTIwTSVDMyVCQ25jaCUyQyUyMEolQzMlQkNyZ2VuJTIyJTJDJTBBJTIwJTIwJTIwJTIwcGxhY2UlM0RGQUtFJTJDJTBBJTIwJTIwJTIwJTIwcHAlM0QlMjI3My0tNzclMjIlMkMlMEElMjAlMjAlMjAlMjBlbnRyeXR5cGUlM0QlMjJpbnByb2NlZWRpbmdzJTIyJTJDJTBBJTIwJTIwJTIwJTIwc2VyaWVzJTNEJTIySUNTU1AlMjAlMjcxMiUyMiUyQyUwQSUyMCUyMCUyMCUyMGlzYm4lM0QlMjI5NzgtMS00NjczLTIzNTItOSUyMiUyQyUwQSUyMCUyMCUyMCUyMGxvY2F0aW9uJTNEJTIyWnVyaWNoJTJDJTIwU3dpdHplcmxhbmQlMjIlMkMlMEElMjAlMjAlMjAlMjBudW1wYWdlcyUzRCUyMjUlMjIlMkMlMEElMjAlMjAlMjAlMjBsaW5rJTNEJTIyaHR0cCUzQS8vZGwuYWNtLm9yZy9jaXRhdGlvbi5jZm0lM0ZpZCUzRDI2NjQzNjAuMjY2NDM3MiUyMiUyQyUwQSUyMCUyMCUyMCUyMGFjbWlkJTNEJTIyMjY2NDM3MiUyMiUyQyUwQSUyMCUyMCUyMCUyMHB1Ymxpc2hlciUzRCUyMklFRUUlMjBQcmVzcyUyMiUyQyUwQSUyMCUyMCUyMCUyMGFkZHJlc3MlM0QlMjJQaXNjYXRhd2F5JTJDJTIwTkolMkMlMjBVU0ElMjIlMkMlMEElMjAlMjAlMjAlMjBrZXl3b3JkJTNEJTIyZGV2ZWxvcGVyJTIwZXhwZXJpZW5jZSUyQyUyMGhpZ2gtcGVyZm9ybWluZyUyMHRlYW1zJTJDJTIwaHVtYW4lMjBmYWN0b3JzJTJDJTIwc29mdHdhcmUlMjBkZXZlbG9wbWVudCUyMGVudmlyb25tZW50JTJDJTIwc29mdHdhcmUlMjBwc3ljaG9sb2d5JTIyJTJDJTBBJTIwJTIwJTIwJTIwSUQlM0QlMjJGYWdlcmhvbG0lM0EyMDEyJTNBREVDJTNBMjY2NDM2MC4yNjY0MzcyJTIyJTJDJTBBJTIwJTIwJTIwJTIwYWNtMjAxNSUzRCUyMjElMjIlMkMlMEElMjAlMjAlMjAlMjBwbGFjZXglM0QlMjJQcm9jZWVkaW5ncyUyMG9mJTIwdGhlJTIwSW50ZXJuYXRpb25hbCUyMENvbmZlcmVuY2UlMjBvbiUyMFNvZnR3YXJlJTIwYW5kJTIwU3lzdGVtJTIwUHJvY2VzcyUyMiUyQyUwQSUyOSUyOSUwQSUyNyUyNyUyNyUyOSUzQg==\")));\n",
       "    "
      ],
      "text/plain": [
       "<IPython.core.display.Javascript object>"
      ]
     },
     "metadata": {},
     "output_type": "display_data"
    },
    {
     "data": {
      "application/javascript": [
       "$('span:contains(\"# Temp\")').closest('.cell').remove();"
      ],
      "text/plain": [
       "<IPython.core.display.Javascript object>"
      ]
     },
     "metadata": {},
     "output_type": "display_data"
    },
    {
     "data": {
      "application/javascript": [
       "\n",
       "        $('span:contains(\"# Temp\")').closest('.cell').remove();\n",
       "        var code = IPython.notebook.insert_cell_below('code');\n",
       "        code.set_text(decodeURIComponent(window.atob(\"JTIzJTIwVGVtcCUwQWluc2VydCUyOCUyNyUyNyUyNyUwQWZhZ2VyaG9sbTIwMTJhJTIwJTNEJTIwREIlMjhXb3JrVW5yZWxhdGVkJTI4JTBBJTIwJTIwJTIwJTIwMjAxMiUyQyUyMCUyMkRldmVsb3BlciUyMEV4cGVyaWVuY2UlM0ElMjBDb25jZXB0JTIwYW5kJTIwRGVmaW5pdGlvbiUyMiUyQyUwQSUyMCUyMCUyMCUyMGRpc3BsYXklM0QlMjJmYWdlcmhvbG0lMjIlMkMlMEElMjAlMjAlMjAlMjBhdXRob3JzJTNEJTIyRmFnZXJob2xtJTJDJTIwRmFiaWFuJTIwYW5kJTIwTSVDMyVCQ25jaCUyQyUyMEolQzMlQkNyZ2VuJTIyJTJDJTBBJTIwJTIwJTIwJTIwcGxhY2UlM0RGQUtFJTJDJTBBJTIwJTIwJTIwJTIwcHAlM0QlMjI3My0tNzclMjIlMkMlMEElMjAlMjAlMjAlMjBlbnRyeXR5cGUlM0QlMjJpbnByb2NlZWRpbmdzJTIyJTJDJTBBJTIwJTIwJTIwJTIwc2VyaWVzJTNEJTIySUNTU1AlMjAlMjcxMiUyMiUyQyUwQSUyMCUyMCUyMCUyMGlzYm4lM0QlMjI5NzgtMS00NjczLTIzNTItOSUyMiUyQyUwQSUyMCUyMCUyMCUyMGxvY2F0aW9uJTNEJTIyWnVyaWNoJTJDJTIwU3dpdHplcmxhbmQlMjIlMkMlMEElMjAlMjAlMjAlMjBudW1wYWdlcyUzRCUyMjUlMjIlMkMlMEElMjAlMjAlMjAlMjBsaW5rJTNEJTIyaHR0cCUzQS8vZGwuYWNtLm9yZy9jaXRhdGlvbi5jZm0lM0ZpZCUzRDI2NjQzNjAuMjY2NDM3MiUyMiUyQyUwQSUyMCUyMCUyMCUyMGFjbWlkJTNEJTIyMjY2NDM3MiUyMiUyQyUwQSUyMCUyMCUyMCUyMHB1Ymxpc2hlciUzRCUyMklFRUUlMjBQcmVzcyUyMiUyQyUwQSUyMCUyMCUyMCUyMGFkZHJlc3MlM0QlMjJQaXNjYXRhd2F5JTJDJTIwTkolMkMlMjBVU0ElMjIlMkMlMEElMjAlMjAlMjAlMjBrZXl3b3JkJTNEJTIyZGV2ZWxvcGVyJTIwZXhwZXJpZW5jZSUyQyUyMGhpZ2gtcGVyZm9ybWluZyUyMHRlYW1zJTJDJTIwaHVtYW4lMjBmYWN0b3JzJTJDJTIwc29mdHdhcmUlMjBkZXZlbG9wbWVudCUyMGVudmlyb25tZW50JTJDJTIwc29mdHdhcmUlMjBwc3ljaG9sb2d5JTIyJTJDJTBBJTIwJTIwJTIwJTIwSUQlM0QlMjJGYWdlcmhvbG0lM0EyMDEyJTNBREVDJTNBMjY2NDM2MC4yNjY0MzcyJTIyJTJDJTBBJTIwJTIwJTIwJTIwYWNtMjAxNSUzRCUyMjElMjIlMkMlMEElMjAlMjAlMjAlMjBwbGFjZXglM0QlMjJQcm9jZWVkaW5ncyUyMG9mJTIwdGhlJTIwSW50ZXJuYXRpb25hbCUyMENvbmZlcmVuY2UlMjBvbiUyMFNvZnR3YXJlJTIwYW5kJTIwU3lzdGVtJTIwUHJvY2VzcyUyMiUyQyUwQSUyOSUyOSUwQSUyNyUyNyUyNyUyOSUzQg==\")));\n",
       "    "
      ],
      "text/plain": [
       "<IPython.core.display.Javascript object>"
      ]
     },
     "metadata": {},
     "output_type": "display_data"
    },
    {
     "data": {
      "application/javascript": [
       "$('span:contains(\"# Temp\")').closest('.cell').remove();"
      ],
      "text/plain": [
       "<IPython.core.display.Javascript object>"
      ]
     },
     "metadata": {},
     "output_type": "display_data"
    },
    {
     "data": {
      "application/javascript": [
       "\n",
       "        $('span:contains(\"# Temp\")').closest('.cell').remove();\n",
       "        var code = IPython.notebook.insert_cell_below('code');\n",
       "        code.set_text(decodeURIComponent(window.atob(\"JTIzJTIwVGVtcCUwQWluc2VydCUyOCUyNyUyNyUyNyUwQXNvdWVyMjAwOGElMjAlM0QlMjBEQiUyOFdvcmtVbnJlbGF0ZWQlMjglMEElMjAlMjAlMjAlMjAyMDA4JTJDJTIwJTIyRW5naW5lZXJpbmclMjBhJTIwRGVzaWduJTIwTWV0aG9kJTIwZm9yJTIwV2ViJTIwQ29udGVudCUyME1hbmFnZW1lbnQlMjBJbXBsZW1lbnRhdGlvbnMlMjIlMkMlMEElMjAlMjAlMjAlMjBkaXNwbGF5JTNEJTIyc291ZXIlMjIlMkMlMEElMjAlMjAlMjAlMjBhdXRob3JzJTNEJTIyU291ZXIlMkMlMjBKdXJyaWFhbiUyMGFuZCUyMEx1aW5lbmJ1cmclMkMlMjBMdXR6ZW4lMjBhbmQlMjBWZXJzZW5kYWFsJTJDJTIwSm9oYW4lMjBhbmQlMjB2YW4lMjBkZSUyMFdlZXJkJTJDJTIwSW5nZSUyMGFuZCUyMEJyaW5ra2VtcGVyJTJDJTIwU2phYWslMjIlMkMlMEElMjAlMjAlMjAlMjBwbGFjZSUzREZBS0UlMkMlMEElMjAlMjAlMjAlMjBwcCUzRCUyMjM1MS0tMzU4JTIyJTJDJTBBJTIwJTIwJTIwJTIwZW50cnl0eXBlJTNEJTIyaW5wcm9jZWVkaW5ncyUyMiUyQyUwQSUyMCUyMCUyMCUyMHNlcmllcyUzRCUyMmlpV0FTJTIwJTI3MDglMjIlMkMlMEElMjAlMjAlMjAlMjBpc2JuJTNEJTIyOTc4LTEtNjA1NTgtMzQ5LTUlMjIlMkMlMEElMjAlMjAlMjAlMjBsb2NhdGlvbiUzRCUyMkxpbnolMkMlMjBBdXN0cmlhJTIyJTJDJTBBJTIwJTIwJTIwJTIwbnVtcGFnZXMlM0QlMjI4JTIyJTJDJTBBJTIwJTIwJTIwJTIwbGluayUzRCUyMmh0dHAlM0EvL2RvaS5hY20ub3JnLzEwLjExNDUvMTQ5NzMwOC4xNDk3MzcyJTIyJTJDJTBBJTIwJTIwJTIwJTIwZG9pJTNEJTIyMTAuMTE0NS8xNDk3MzA4LjE0OTczNzIlMjIlMkMlMEElMjAlMjAlMjAlMjBhY21pZCUzRCUyMjE0OTczNzIlMjIlMkMlMEElMjAlMjAlMjAlMjBwdWJsaXNoZXIlM0QlMjJBQ00lMjIlMkMlMEElMjAlMjAlMjAlMjBhZGRyZXNzJTNEJTIyTmV3JTIwWW9yayUyQyUyME5ZJTJDJTIwVVNBJTIyJTJDJTBBJTIwJTIwJTIwJTIwSUQlM0QlMjJTb3VlciUzQTIwMDglM0FFRE0lM0ExNDk3MzA4LjE0OTczNzIlMjIlMkMlMEElMjAlMjAlMjAlMjBhY20yMDE1JTNEJTIyMSUyMiUyQyUwQSUyMCUyMCUyMCUyMHBsYWNleCUzRCUyMlByb2NlZWRpbmdzJTIwb2YlMjB0aGUlMjAxMHRoJTIwSW50ZXJuYXRpb25hbCUyMENvbmZlcmVuY2UlMjBvbiUyMEluZm9ybWF0aW9uJTIwSW50ZWdyYXRpb24lMjBhbmQlMjBXZWItYmFzZWQlMjBBcHBsaWNhdGlvbnMlMjAlMjYlMjBTZXJ2aWNlcyUyMiUyQyUwQSUyOSUyOSUwQSUyNyUyNyUyNyUyOSUzQg==\")));\n",
       "    "
      ],
      "text/plain": [
       "<IPython.core.display.Javascript object>"
      ]
     },
     "metadata": {},
     "output_type": "display_data"
    },
    {
     "data": {
      "application/javascript": [
       "$('span:contains(\"# Temp\")').closest('.cell').remove();"
      ],
      "text/plain": [
       "<IPython.core.display.Javascript object>"
      ]
     },
     "metadata": {},
     "output_type": "display_data"
    },
    {
     "data": {
      "application/javascript": [
       "\n",
       "        $('span:contains(\"# Temp\")').closest('.cell').remove();\n",
       "        var code = IPython.notebook.insert_cell_below('code');\n",
       "        code.set_text(decodeURIComponent(window.atob(\"JTIzJTIwVGVtcCUwQWluc2VydCUyOCUyNyUyNyUyNyUwQXNvdWVyMjAwOGElMjAlM0QlMjBEQiUyOFdvcmtVbnJlbGF0ZWQlMjglMEElMjAlMjAlMjAlMjAyMDA4JTJDJTIwJTIyRW5naW5lZXJpbmclMjBhJTIwRGVzaWduJTIwTWV0aG9kJTIwZm9yJTIwV2ViJTIwQ29udGVudCUyME1hbmFnZW1lbnQlMjBJbXBsZW1lbnRhdGlvbnMlMjIlMkMlMEElMjAlMjAlMjAlMjBkaXNwbGF5JTNEJTIyc291ZXIlMjIlMkMlMEElMjAlMjAlMjAlMjBhdXRob3JzJTNEJTIyU291ZXIlMkMlMjBKdXJyaWFhbiUyMGFuZCUyMEx1aW5lbmJ1cmclMkMlMjBMdXR6ZW4lMjBhbmQlMjBWZXJzZW5kYWFsJTJDJTIwSm9oYW4lMjBhbmQlMjB2YW4lMjBkZSUyMFdlZXJkJTJDJTIwSW5nZSUyMGFuZCUyMEJyaW5ra2VtcGVyJTJDJTIwU2phYWslMjIlMkMlMEElMjAlMjAlMjAlMjBwbGFjZSUzREZBS0UlMkMlMEElMjAlMjAlMjAlMjBwcCUzRCUyMjM1MS0tMzU4JTIyJTJDJTBBJTIwJTIwJTIwJTIwZW50cnl0eXBlJTNEJTIyaW5wcm9jZWVkaW5ncyUyMiUyQyUwQSUyMCUyMCUyMCUyMHNlcmllcyUzRCUyMmlpV0FTJTIwJTI3MDglMjIlMkMlMEElMjAlMjAlMjAlMjBpc2JuJTNEJTIyOTc4LTEtNjA1NTgtMzQ5LTUlMjIlMkMlMEElMjAlMjAlMjAlMjBsb2NhdGlvbiUzRCUyMkxpbnolMkMlMjBBdXN0cmlhJTIyJTJDJTBBJTIwJTIwJTIwJTIwbnVtcGFnZXMlM0QlMjI4JTIyJTJDJTBBJTIwJTIwJTIwJTIwbGluayUzRCUyMmh0dHAlM0EvL2RvaS5hY20ub3JnLzEwLjExNDUvMTQ5NzMwOC4xNDk3MzcyJTIyJTJDJTBBJTIwJTIwJTIwJTIwZG9pJTNEJTIyMTAuMTE0NS8xNDk3MzA4LjE0OTczNzIlMjIlMkMlMEElMjAlMjAlMjAlMjBhY21pZCUzRCUyMjE0OTczNzIlMjIlMkMlMEElMjAlMjAlMjAlMjBwdWJsaXNoZXIlM0QlMjJBQ00lMjIlMkMlMEElMjAlMjAlMjAlMjBhZGRyZXNzJTNEJTIyTmV3JTIwWW9yayUyQyUyME5ZJTJDJTIwVVNBJTIyJTJDJTBBJTIwJTIwJTIwJTIwSUQlM0QlMjJTb3VlciUzQTIwMDglM0FFRE0lM0ExNDk3MzA4LjE0OTczNzIlMjIlMkMlMEElMjAlMjAlMjAlMjBhY20yMDE1JTNEJTIyMSUyMiUyQyUwQSUyMCUyMCUyMCUyMHBsYWNleCUzRCUyMlByb2NlZWRpbmdzJTIwb2YlMjB0aGUlMjAxMHRoJTIwSW50ZXJuYXRpb25hbCUyMENvbmZlcmVuY2UlMjBvbiUyMEluZm9ybWF0aW9uJTIwSW50ZWdyYXRpb24lMjBhbmQlMjBXZWItYmFzZWQlMjBBcHBsaWNhdGlvbnMlMjAlMjYlMjBTZXJ2aWNlcyUyMiUyQyUwQSUyOSUyOSUwQSUyNyUyNyUyNyUyOSUzQg==\")));\n",
       "    "
      ],
      "text/plain": [
       "<IPython.core.display.Javascript object>"
      ]
     },
     "metadata": {},
     "output_type": "display_data"
    },
    {
     "data": {
      "application/javascript": [
       "$('span:contains(\"# Temp\")').closest('.cell').remove();"
      ],
      "text/plain": [
       "<IPython.core.display.Javascript object>"
      ]
     },
     "metadata": {},
     "output_type": "display_data"
    },
    {
     "data": {
      "application/javascript": [
       "\n",
       "        $('span:contains(\"# Temp\")').closest('.cell').remove();\n",
       "        var code = IPython.notebook.insert_cell_below('code');\n",
       "        code.set_text(decodeURIComponent(window.atob(\"JTIzJTIwVGVtcCUwQWluc2VydCUyOCUyNyUyNyUyNyUwQW1raG9tYXppMjAxMWElMjAlM0QlMjBEQiUyOFdvcmtVbnJlbGF0ZWQlMjglMEElMjAlMjAlMjAlMjAyMDExJTJDJTIwJTIyVGhlJTIwU29jaWFsJTIwQ29udGV4dCUyMG9mJTIwQnJvYWRiYW5kJTIwSW5mcmFzdHJ1Y3R1cmUlMjBTaGFyaW5nJTIyJTJDJTBBJTIwJTIwJTIwJTIwZGlzcGxheSUzRCUyMm1raG9tYXppJTIyJTJDJTBBJTIwJTIwJTIwJTIwYXV0aG9ycyUzRCUyMk1raG9tYXppJTJDJTIwU2hhcm9sJTIwU2lib25naWxlJTIwYW5kJTIwSXlhbXUlMkMlMjBUaWtvJTIyJTJDJTBBJTIwJTIwJTIwJTIwcGxhY2UlM0RGQUtFJTJDJTBBJTIwJTIwJTIwJTIwcHAlM0QlMjI0MDMtLTQwNyUyMiUyQyUwQSUyMCUyMCUyMCUyMGVudHJ5dHlwZSUzRCUyMmlucHJvY2VlZGluZ3MlMjIlMkMlMEElMjAlMjAlMjAlMjBzZXJpZXMlM0QlMjJpaVdBUyUyMCUyNzExJTIyJTJDJTBBJTIwJTIwJTIwJTIwaXNibiUzRCUyMjk3OC0xLTQ1MDMtMDc4NC0wJTIyJTJDJTBBJTIwJTIwJTIwJTIwbG9jYXRpb24lM0QlMjJIbyUyMENoaSUyME1pbmglMjBDaXR5JTJDJTIwVmlldG5hbSUyMiUyQyUwQSUyMCUyMCUyMCUyMG51bXBhZ2VzJTNEJTIyNSUyMiUyQyUwQSUyMCUyMCUyMCUyMGxpbmslM0QlMjJodHRwJTNBLy9kb2kuYWNtLm9yZy8xMC4xMTQ1LzIwOTU1MzYuMjA5NTYxNyUyMiUyQyUwQSUyMCUyMCUyMCUyMGRvaSUzRCUyMjEwLjExNDUvMjA5NTUzNi4yMDk1NjE3JTIyJTJDJTBBJTIwJTIwJTIwJTIwYWNtaWQlM0QlMjIyMDk1NjE3JTIyJTJDJTBBJTIwJTIwJTIwJTIwcHVibGlzaGVyJTNEJTIyQUNNJTIyJTJDJTBBJTIwJTIwJTIwJTIwYWRkcmVzcyUzRCUyMk5ldyUyMFlvcmslMkMlMjBOWSUyQyUyMFVTQSUyMiUyQyUwQSUyMCUyMCUyMCUyMGtleXdvcmQlM0QlMjJicm9hZGJhbmQlMkMlMjBpbmZyYXN0cnVjdHVyZSUyMHNoYXJpbmclMkMlMjB0ZWxlY29tbXVuaWNhdGlvbiUyMiUyQyUwQSUyMCUyMCUyMCUyMElEJTNEJTIyTWtob21hemklM0EyMDExJTNBU0NCJTNBMjA5NTUzNi4yMDk1NjE3JTIyJTJDJTBBJTIwJTIwJTIwJTIwYWNtMjAxNSUzRCUyMjElMjIlMkMlMEElMjAlMjAlMjAlMjBwbGFjZXglM0QlMjJQcm9jZWVkaW5ncyUyMG9mJTIwdGhlJTIwMTN0aCUyMEludGVybmF0aW9uYWwlMjBDb25mZXJlbmNlJTIwb24lMjBJbmZvcm1hdGlvbiUyMEludGVncmF0aW9uJTIwYW5kJTIwV2ViLWJhc2VkJTIwQXBwbGljYXRpb25zJTIwYW5kJTIwU2VydmljZXMlMjIlMkMlMEElMjklMjklMEElMjclMjclMjclMjklM0I=\")));\n",
       "    "
      ],
      "text/plain": [
       "<IPython.core.display.Javascript object>"
      ]
     },
     "metadata": {},
     "output_type": "display_data"
    },
    {
     "data": {
      "application/javascript": [
       "$('span:contains(\"# Temp\")').closest('.cell').remove();"
      ],
      "text/plain": [
       "<IPython.core.display.Javascript object>"
      ]
     },
     "metadata": {},
     "output_type": "display_data"
    },
    {
     "data": {
      "application/javascript": [
       "\n",
       "        $('span:contains(\"# Temp\")').closest('.cell').remove();\n",
       "        var code = IPython.notebook.insert_cell_below('code');\n",
       "        code.set_text(decodeURIComponent(window.atob(\"JTIzJTIwVGVtcCUwQWluc2VydCUyOCUyNyUyNyUyNyUwQW1raG9tYXppMjAxMWElMjAlM0QlMjBEQiUyOFdvcmtVbnJlbGF0ZWQlMjglMEElMjAlMjAlMjAlMjAyMDExJTJDJTIwJTIyVGhlJTIwU29jaWFsJTIwQ29udGV4dCUyMG9mJTIwQnJvYWRiYW5kJTIwSW5mcmFzdHJ1Y3R1cmUlMjBTaGFyaW5nJTIyJTJDJTBBJTIwJTIwJTIwJTIwZGlzcGxheSUzRCUyMm1raG9tYXppJTIyJTJDJTBBJTIwJTIwJTIwJTIwYXV0aG9ycyUzRCUyMk1raG9tYXppJTJDJTIwU2hhcm9sJTIwU2lib25naWxlJTIwYW5kJTIwSXlhbXUlMkMlMjBUaWtvJTIyJTJDJTBBJTIwJTIwJTIwJTIwcGxhY2UlM0RGQUtFJTJDJTBBJTIwJTIwJTIwJTIwcHAlM0QlMjI0MDMtLTQwNyUyMiUyQyUwQSUyMCUyMCUyMCUyMGVudHJ5dHlwZSUzRCUyMmlucHJvY2VlZGluZ3MlMjIlMkMlMEElMjAlMjAlMjAlMjBzZXJpZXMlM0QlMjJpaVdBUyUyMCUyNzExJTIyJTJDJTBBJTIwJTIwJTIwJTIwaXNibiUzRCUyMjk3OC0xLTQ1MDMtMDc4NC0wJTIyJTJDJTBBJTIwJTIwJTIwJTIwbG9jYXRpb24lM0QlMjJIbyUyMENoaSUyME1pbmglMjBDaXR5JTJDJTIwVmlldG5hbSUyMiUyQyUwQSUyMCUyMCUyMCUyMG51bXBhZ2VzJTNEJTIyNSUyMiUyQyUwQSUyMCUyMCUyMCUyMGxpbmslM0QlMjJodHRwJTNBLy9kb2kuYWNtLm9yZy8xMC4xMTQ1LzIwOTU1MzYuMjA5NTYxNyUyMiUyQyUwQSUyMCUyMCUyMCUyMGRvaSUzRCUyMjEwLjExNDUvMjA5NTUzNi4yMDk1NjE3JTIyJTJDJTBBJTIwJTIwJTIwJTIwYWNtaWQlM0QlMjIyMDk1NjE3JTIyJTJDJTBBJTIwJTIwJTIwJTIwcHVibGlzaGVyJTNEJTIyQUNNJTIyJTJDJTBBJTIwJTIwJTIwJTIwYWRkcmVzcyUzRCUyMk5ldyUyMFlvcmslMkMlMjBOWSUyQyUyMFVTQSUyMiUyQyUwQSUyMCUyMCUyMCUyMGtleXdvcmQlM0QlMjJicm9hZGJhbmQlMkMlMjBpbmZyYXN0cnVjdHVyZSUyMHNoYXJpbmclMkMlMjB0ZWxlY29tbXVuaWNhdGlvbiUyMiUyQyUwQSUyMCUyMCUyMCUyMElEJTNEJTIyTWtob21hemklM0EyMDExJTNBU0NCJTNBMjA5NTUzNi4yMDk1NjE3JTIyJTJDJTBBJTIwJTIwJTIwJTIwYWNtMjAxNSUzRCUyMjElMjIlMkMlMEElMjAlMjAlMjAlMjBwbGFjZXglM0QlMjJQcm9jZWVkaW5ncyUyMG9mJTIwdGhlJTIwMTN0aCUyMEludGVybmF0aW9uYWwlMjBDb25mZXJlbmNlJTIwb24lMjBJbmZvcm1hdGlvbiUyMEludGVncmF0aW9uJTIwYW5kJTIwV2ViLWJhc2VkJTIwQXBwbGljYXRpb25zJTIwYW5kJTIwU2VydmljZXMlMjIlMkMlMEElMjklMjklMEElMjclMjclMjclMjklM0I=\")));\n",
       "    "
      ],
      "text/plain": [
       "<IPython.core.display.Javascript object>"
      ]
     },
     "metadata": {},
     "output_type": "display_data"
    },
    {
     "data": {
      "application/javascript": [
       "$('span:contains(\"# Temp\")').closest('.cell').remove();"
      ],
      "text/plain": [
       "<IPython.core.display.Javascript object>"
      ]
     },
     "metadata": {},
     "output_type": "display_data"
    },
    {
     "data": {
      "application/javascript": [
       "\n",
       "        $('span:contains(\"# Temp\")').closest('.cell').remove();\n",
       "        var code = IPython.notebook.insert_cell_below('code');\n",
       "        code.set_text(decodeURIComponent(window.atob(\"JTIzJTIwVGVtcCUwQWluc2VydCUyOCUyNyUyNyUyNyUwQW1jbGVvZDIwMTFhJTIwJTNEJTIwREIlMjhXb3JrVW5yZWxhdGVkJTI4JTBBJTIwJTIwJTIwJTIwMjAxMSUyQyUyMCUyMkZhY3RvcnMlMjBUaGF0JTIwQWZmZWN0JTIwU29mdHdhcmUlMjBTeXN0ZW1zJTIwRGV2ZWxvcG1lbnQlMjBQcm9qZWN0JTIwT3V0Y29tZXMlM0ElMjBBJTIwU3VydmV5JTIwb2YlMjBSZXNlYXJjaCUyMiUyQyUwQSUyMCUyMCUyMCUyMGRpc3BsYXklM0QlMjJtY2xlb2QlMjIlMkMlMEElMjAlMjAlMjAlMjBhdXRob3JzJTNEJTIyTWNMZW9kJTJDJTIwTGF1cmllJTIwYW5kJTIwTWFjRG9uZWxsJTJDJTIwU3RlcGhlbiUyMEcuJTIyJTJDJTBBJTIwJTIwJTIwJTIwcGxhY2UlM0RGQUtFJTJDJTBBJTIwJTIwJTIwJTIwcHAlM0QlMjIyNCUzQTEtLTI0JTNBNTYlMjIlMkMlMEElMjAlMjAlMjAlMjBlbnRyeXR5cGUlM0QlMjJhcnRpY2xlJTIyJTJDJTBBJTIwJTIwJTIwJTIwaXNzdWVfZGF0ZSUzRCUyMk9jdG9iZXIlMjAyMDExJTIyJTJDJTBBJTIwJTIwJTIwJTIwdm9sdW1lJTNEJTIyNDMlMjIlMkMlMEElMjAlMjAlMjAlMjBudW1iZXIlM0QlMjI0JTIyJTJDJTBBJTIwJTIwJTIwJTIwbW9udGglM0QlMjJvY3QlMjIlMkMlMEElMjAlMjAlMjAlMjBpc3NuJTNEJTIyMDM2MC0wMzAwJTIyJTJDJTBBJTIwJTIwJTIwJTIwYXJ0aWNsZW5vJTNEJTIyMjQlMjIlMkMlMEElMjAlMjAlMjAlMjBudW1wYWdlcyUzRCUyMjU2JTIyJTJDJTBBJTIwJTIwJTIwJTIwbGluayUzRCUyMmh0dHAlM0EvL2RvaS5hY20ub3JnLzEwLjExNDUvMTk3ODgwMi4xOTc4ODAzJTIyJTJDJTBBJTIwJTIwJTIwJTIwZG9pJTNEJTIyMTAuMTE0NS8xOTc4ODAyLjE5Nzg4MDMlMjIlMkMlMEElMjAlMjAlMjAlMjBhY21pZCUzRCUyMjE5Nzg4MDMlMjIlMkMlMEElMjAlMjAlMjAlMjBwdWJsaXNoZXIlM0QlMjJBQ00lMjIlMkMlMEElMjAlMjAlMjAlMjBhZGRyZXNzJTNEJTIyTmV3JTIwWW9yayUyQyUyME5ZJTJDJTIwVVNBJTIyJTJDJTBBJTIwJTIwJTIwJTIwa2V5d29yZCUzRCUyMkRldmVsb3BtZW50JTIwcHJvY2Vzc2VzJTJDJTIwaW5zdGl0dXRpb25hbCUyMGNvbnRleHQlMkMlMjBwZW9wbGUlMjBhbmQlMjBhY3Rpb24lMkMlMjBwcm9qZWN0JTIwY29udGVudCUyQyUyMHByb2plY3QlMjBvdXRjb21lcyUyMiUyQyUwQSUyMCUyMCUyMCUyMElEJTNEJTIyTWNMZW9kJTNBMjAxMSUzQUZBUyUzQTE5Nzg4MDIuMTk3ODgwMyUyMiUyQyUwQSUyMCUyMCUyMCUyMGFjbTIwMTUlM0QlMjIxJTIyJTJDJTBBJTIwJTIwJTIwJTIwcGxhY2V4JTNEJTIyQUNNJTIwQ29tcHV0LiUyMFN1cnYuJTIyJTJDJTBBJTI5JTI5JTBBJTI3JTI3JTI3JTI5JTNC\")));\n",
       "    "
      ],
      "text/plain": [
       "<IPython.core.display.Javascript object>"
      ]
     },
     "metadata": {},
     "output_type": "display_data"
    },
    {
     "data": {
      "application/javascript": [
       "$('span:contains(\"# Temp\")').closest('.cell').remove();"
      ],
      "text/plain": [
       "<IPython.core.display.Javascript object>"
      ]
     },
     "metadata": {},
     "output_type": "display_data"
    },
    {
     "data": {
      "application/javascript": [
       "\n",
       "        $('span:contains(\"# Temp\")').closest('.cell').remove();\n",
       "        var code = IPython.notebook.insert_cell_below('code');\n",
       "        code.set_text(decodeURIComponent(window.atob(\"JTIzJTIwVGVtcCUwQWluc2VydCUyOCUyNyUyNyUyNyUwQW1jbGVvZDIwMTFhJTIwJTNEJTIwREIlMjhXb3JrVW5yZWxhdGVkJTI4JTBBJTIwJTIwJTIwJTIwMjAxMSUyQyUyMCUyMkZhY3RvcnMlMjBUaGF0JTIwQWZmZWN0JTIwU29mdHdhcmUlMjBTeXN0ZW1zJTIwRGV2ZWxvcG1lbnQlMjBQcm9qZWN0JTIwT3V0Y29tZXMlM0ElMjBBJTIwU3VydmV5JTIwb2YlMjBSZXNlYXJjaCUyMiUyQyUwQSUyMCUyMCUyMCUyMGRpc3BsYXklM0QlMjJtY2xlb2QlMjIlMkMlMEElMjAlMjAlMjAlMjBhdXRob3JzJTNEJTIyTWNMZW9kJTJDJTIwTGF1cmllJTIwYW5kJTIwTWFjRG9uZWxsJTJDJTIwU3RlcGhlbiUyMEcuJTIyJTJDJTBBJTIwJTIwJTIwJTIwcGxhY2UlM0RGQUtFJTJDJTBBJTIwJTIwJTIwJTIwcHAlM0QlMjIyNCUzQTEtLTI0JTNBNTYlMjIlMkMlMEElMjAlMjAlMjAlMjBlbnRyeXR5cGUlM0QlMjJhcnRpY2xlJTIyJTJDJTBBJTIwJTIwJTIwJTIwaXNzdWVfZGF0ZSUzRCUyMk9jdG9iZXIlMjAyMDExJTIyJTJDJTBBJTIwJTIwJTIwJTIwdm9sdW1lJTNEJTIyNDMlMjIlMkMlMEElMjAlMjAlMjAlMjBudW1iZXIlM0QlMjI0JTIyJTJDJTBBJTIwJTIwJTIwJTIwbW9udGglM0QlMjJvY3QlMjIlMkMlMEElMjAlMjAlMjAlMjBpc3NuJTNEJTIyMDM2MC0wMzAwJTIyJTJDJTBBJTIwJTIwJTIwJTIwYXJ0aWNsZW5vJTNEJTIyMjQlMjIlMkMlMEElMjAlMjAlMjAlMjBudW1wYWdlcyUzRCUyMjU2JTIyJTJDJTBBJTIwJTIwJTIwJTIwbGluayUzRCUyMmh0dHAlM0EvL2RvaS5hY20ub3JnLzEwLjExNDUvMTk3ODgwMi4xOTc4ODAzJTIyJTJDJTBBJTIwJTIwJTIwJTIwZG9pJTNEJTIyMTAuMTE0NS8xOTc4ODAyLjE5Nzg4MDMlMjIlMkMlMEElMjAlMjAlMjAlMjBhY21pZCUzRCUyMjE5Nzg4MDMlMjIlMkMlMEElMjAlMjAlMjAlMjBwdWJsaXNoZXIlM0QlMjJBQ00lMjIlMkMlMEElMjAlMjAlMjAlMjBhZGRyZXNzJTNEJTIyTmV3JTIwWW9yayUyQyUyME5ZJTJDJTIwVVNBJTIyJTJDJTBBJTIwJTIwJTIwJTIwa2V5d29yZCUzRCUyMkRldmVsb3BtZW50JTIwcHJvY2Vzc2VzJTJDJTIwaW5zdGl0dXRpb25hbCUyMGNvbnRleHQlMkMlMjBwZW9wbGUlMjBhbmQlMjBhY3Rpb24lMkMlMjBwcm9qZWN0JTIwY29udGVudCUyQyUyMHByb2plY3QlMjBvdXRjb21lcyUyMiUyQyUwQSUyMCUyMCUyMCUyMElEJTNEJTIyTWNMZW9kJTNBMjAxMSUzQUZBUyUzQTE5Nzg4MDIuMTk3ODgwMyUyMiUyQyUwQSUyMCUyMCUyMCUyMGFjbTIwMTUlM0QlMjIxJTIyJTJDJTBBJTIwJTIwJTIwJTIwcGxhY2V4JTNEJTIyQUNNJTIwQ29tcHV0LiUyMFN1cnYuJTIyJTJDJTBBJTI5JTI5JTBBJTI3JTI3JTI3JTI5JTNC\")));\n",
       "    "
      ],
      "text/plain": [
       "<IPython.core.display.Javascript object>"
      ]
     },
     "metadata": {},
     "output_type": "display_data"
    },
    {
     "data": {
      "application/javascript": [
       "$('span:contains(\"# Temp\")').closest('.cell').remove();"
      ],
      "text/plain": [
       "<IPython.core.display.Javascript object>"
      ]
     },
     "metadata": {},
     "output_type": "display_data"
    },
    {
     "data": {
      "application/javascript": [
       "\n",
       "        $('span:contains(\"# Temp\")').closest('.cell').remove();\n",
       "        var code = IPython.notebook.insert_cell_below('code');\n",
       "        code.set_text(decodeURIComponent(window.atob(\"JTIzJTIwVGVtcCUwQWluc2VydCUyOCUyNyUyNyUyNyUwQWx1enVyaWFnYTIwMDhhJTIwJTNEJTIwREIlMjhXb3JrVW5yZWxhdGVkJTI4JTBBJTIwJTIwJTIwJTIwMjAwOCUyQyUyMCUyMlNldHRpbmclMjBTUEklMjBQcmFjdGljZXMlMjBpbiUyMExhdGluJTIwQW1lcmljYSUzQSUyMEFuJTIwRXhwbG9yYXRvcnklMjBDYXNlJTIwU3R1ZHklMjBpbiUyMHRoZSUyMEp1c3RpY2UlMjBBcmVhJTIyJTJDJTBBJTIwJTIwJTIwJTIwZGlzcGxheSUzRCUyMmx1enVyaWFnYSUyMiUyQyUwQSUyMCUyMCUyMCUyMGF1dGhvcnMlM0QlMjJMdXp1cmlhZ2ElMkMlMjBKdWFuJTIwTS4lMjBhbmQlMjBNYXJ0JUMzJUFEbmV6JTJDJTIwUm9kb2xmbyUyMGFuZCUyMENlY2hpY2glMkMlMjBBbGVqYW5kcmElMjIlMkMlMEElMjAlMjAlMjAlMjBwbGFjZSUzREZBS0UlMkMlMEElMjAlMjAlMjAlMjBwcCUzRCUyMjE3Mi0tMTc3JTIyJTJDJTBBJTIwJTIwJTIwJTIwZW50cnl0eXBlJTNEJTIyaW5wcm9jZWVkaW5ncyUyMiUyQyUwQSUyMCUyMCUyMCUyMHNlcmllcyUzRCUyMklDRUdPViUyMCUyNzA4JTIyJTJDJTBBJTIwJTIwJTIwJTIwaXNibiUzRCUyMjk3OC0xLTYwNTU4LTM4Ni0wJTIyJTJDJTBBJTIwJTIwJTIwJTIwbG9jYXRpb24lM0QlMjJDYWlybyUyQyUyMEVneXB0JTIyJTJDJTBBJTIwJTIwJTIwJTIwbnVtcGFnZXMlM0QlMjI2JTIyJTJDJTBBJTIwJTIwJTIwJTIwbGluayUzRCUyMmh0dHAlM0EvL2RvaS5hY20ub3JnLzEwLjExNDUvMTUwOTA5Ni4xNTA5MTMwJTIyJTJDJTBBJTIwJTIwJTIwJTIwZG9pJTNEJTIyMTAuMTE0NS8xNTA5MDk2LjE1MDkxMzAlMjIlMkMlMEElMjAlMjAlMjAlMjBhY21pZCUzRCUyMjE1MDkxMzAlMjIlMkMlMEElMjAlMjAlMjAlMjBwdWJsaXNoZXIlM0QlMjJBQ00lMjIlMkMlMEElMjAlMjAlMjAlMjBhZGRyZXNzJTNEJTIyTmV3JTIwWW9yayUyQyUyME5ZJTJDJTIwVVNBJTIyJTJDJTBBJTIwJTIwJTIwJTIwa2V5d29yZCUzRCUyMkNvbXBldGlTb2Z0JTIwcHJvY2VzcyUyMG1vZGVsJTJDJTIwY3VzdG9tZXIlMjBzYXRpc2ZhY3Rpb24lMkMlMjBzb2Z0d2FyZSUyMHByb2Nlc3MlMjBldmFsdWF0aW9uJTJDJTIwc29mdHdhcmUlMjBwcm9jZXNzJTIwaW1wcm92ZW1lbnQlMjIlMkMlMEElMjAlMjAlMjAlMjBJRCUzRCUyMkx1enVyaWFnYSUzQTIwMDglM0FTU1AlM0ExNTA5MDk2LjE1MDkxMzAlMjIlMkMlMEElMjAlMjAlMjAlMjBhY20yMDE1JTNEJTIyMSUyMiUyQyUwQSUyMCUyMCUyMCUyMHBsYWNleCUzRCUyMlByb2NlZWRpbmdzJTIwb2YlMjB0aGUlMjAyTmQlMjBJbnRlcm5hdGlvbmFsJTIwQ29uZmVyZW5jZSUyMG9uJTIwVGhlb3J5JTIwYW5kJTIwUHJhY3RpY2UlMjBvZiUyMEVsZWN0cm9uaWMlMjBHb3Zlcm5hbmNlJTIyJTJDJTBBJTI5JTI5JTBBJTI3JTI3JTI3JTI5JTNC\")));\n",
       "    "
      ],
      "text/plain": [
       "<IPython.core.display.Javascript object>"
      ]
     },
     "metadata": {},
     "output_type": "display_data"
    },
    {
     "data": {
      "application/javascript": [
       "$('span:contains(\"# Temp\")').closest('.cell').remove();"
      ],
      "text/plain": [
       "<IPython.core.display.Javascript object>"
      ]
     },
     "metadata": {},
     "output_type": "display_data"
    },
    {
     "data": {
      "application/javascript": [
       "\n",
       "        $('span:contains(\"# Temp\")').closest('.cell').remove();\n",
       "        var code = IPython.notebook.insert_cell_below('code');\n",
       "        code.set_text(decodeURIComponent(window.atob(\"JTIzJTIwVGVtcCUwQWluc2VydCUyOCUyNyUyNyUyNyUwQWx1enVyaWFnYTIwMDhhJTIwJTNEJTIwREIlMjhXb3JrVW5yZWxhdGVkJTI4JTBBJTIwJTIwJTIwJTIwMjAwOCUyQyUyMCUyMlNldHRpbmclMjBTUEklMjBQcmFjdGljZXMlMjBpbiUyMExhdGluJTIwQW1lcmljYSUzQSUyMEFuJTIwRXhwbG9yYXRvcnklMjBDYXNlJTIwU3R1ZHklMjBpbiUyMHRoZSUyMEp1c3RpY2UlMjBBcmVhJTIyJTJDJTBBJTIwJTIwJTIwJTIwZGlzcGxheSUzRCUyMmx1enVyaWFnYSUyMiUyQyUwQSUyMCUyMCUyMCUyMGF1dGhvcnMlM0QlMjJMdXp1cmlhZ2ElMkMlMjBKdWFuJTIwTS4lMjBhbmQlMjBNYXJ0JUMzJUFEbmV6JTJDJTIwUm9kb2xmbyUyMGFuZCUyMENlY2hpY2glMkMlMjBBbGVqYW5kcmElMjIlMkMlMEElMjAlMjAlMjAlMjBwbGFjZSUzREZBS0UlMkMlMEElMjAlMjAlMjAlMjBwcCUzRCUyMjE3Mi0tMTc3JTIyJTJDJTBBJTIwJTIwJTIwJTIwZW50cnl0eXBlJTNEJTIyaW5wcm9jZWVkaW5ncyUyMiUyQyUwQSUyMCUyMCUyMCUyMHNlcmllcyUzRCUyMklDRUdPViUyMCUyNzA4JTIyJTJDJTBBJTIwJTIwJTIwJTIwaXNibiUzRCUyMjk3OC0xLTYwNTU4LTM4Ni0wJTIyJTJDJTBBJTIwJTIwJTIwJTIwbG9jYXRpb24lM0QlMjJDYWlybyUyQyUyMEVneXB0JTIyJTJDJTBBJTIwJTIwJTIwJTIwbnVtcGFnZXMlM0QlMjI2JTIyJTJDJTBBJTIwJTIwJTIwJTIwbGluayUzRCUyMmh0dHAlM0EvL2RvaS5hY20ub3JnLzEwLjExNDUvMTUwOTA5Ni4xNTA5MTMwJTIyJTJDJTBBJTIwJTIwJTIwJTIwZG9pJTNEJTIyMTAuMTE0NS8xNTA5MDk2LjE1MDkxMzAlMjIlMkMlMEElMjAlMjAlMjAlMjBhY21pZCUzRCUyMjE1MDkxMzAlMjIlMkMlMEElMjAlMjAlMjAlMjBwdWJsaXNoZXIlM0QlMjJBQ00lMjIlMkMlMEElMjAlMjAlMjAlMjBhZGRyZXNzJTNEJTIyTmV3JTIwWW9yayUyQyUyME5ZJTJDJTIwVVNBJTIyJTJDJTBBJTIwJTIwJTIwJTIwa2V5d29yZCUzRCUyMkNvbXBldGlTb2Z0JTIwcHJvY2VzcyUyMG1vZGVsJTJDJTIwY3VzdG9tZXIlMjBzYXRpc2ZhY3Rpb24lMkMlMjBzb2Z0d2FyZSUyMHByb2Nlc3MlMjBldmFsdWF0aW9uJTJDJTIwc29mdHdhcmUlMjBwcm9jZXNzJTIwaW1wcm92ZW1lbnQlMjIlMkMlMEElMjAlMjAlMjAlMjBJRCUzRCUyMkx1enVyaWFnYSUzQTIwMDglM0FTU1AlM0ExNTA5MDk2LjE1MDkxMzAlMjIlMkMlMEElMjAlMjAlMjAlMjBhY20yMDE1JTNEJTIyMSUyMiUyQyUwQSUyMCUyMCUyMCUyMHBsYWNleCUzRCUyMlByb2NlZWRpbmdzJTIwb2YlMjB0aGUlMjAyTmQlMjBJbnRlcm5hdGlvbmFsJTIwQ29uZmVyZW5jZSUyMG9uJTIwVGhlb3J5JTIwYW5kJTIwUHJhY3RpY2UlMjBvZiUyMEVsZWN0cm9uaWMlMjBHb3Zlcm5hbmNlJTIyJTJDJTBBJTI5JTI5JTBBJTI3JTI3JTI3JTI5JTNC\")));\n",
       "    "
      ],
      "text/plain": [
       "<IPython.core.display.Javascript object>"
      ]
     },
     "metadata": {},
     "output_type": "display_data"
    },
    {
     "data": {
      "application/javascript": [
       "$('span:contains(\"# Temp\")').closest('.cell').remove();"
      ],
      "text/plain": [
       "<IPython.core.display.Javascript object>"
      ]
     },
     "metadata": {},
     "output_type": "display_data"
    },
    {
     "data": {
      "application/javascript": [
       "\n",
       "        $('span:contains(\"# Temp\")').closest('.cell').remove();\n",
       "        var code = IPython.notebook.insert_cell_below('code');\n",
       "        code.set_text(decodeURIComponent(window.atob(\"JTIzJTIwVGVtcCUwQWluc2VydCUyOCUyNyUyNyUyNyUwQWltdGlhejIwMTJhJTIwJTNEJTIwREIlMjhXb3JrVW5yZWxhdGVkJTI4JTBBJTIwJTIwJTIwJTIwMjAxMiUyQyUyMCUyMkFyY2hpdGVjdHVyYWwlMjBUYXNrJTIwQWxsb2NhdGlvbiUyMGluJTIwRGlzdHJpYnV0ZWQlMjBFbnZpcm9ubWVudCUzQSUyMEElMjBUcmFjZWFiaWxpdHklMjBQZXJzcGVjdGl2ZSUyMiUyQyUwQSUyMCUyMCUyMCUyMGRpc3BsYXklM0QlMjJpbXRpYXolMjIlMkMlMEElMjAlMjAlMjAlMjBhdXRob3JzJTNEJTIySW10aWF6JTJDJTIwU2FsbWElMjIlMkMlMEElMjAlMjAlMjAlMjBwbGFjZSUzRElDU0UlMkMlMEElMjAlMjAlMjAlMjBwcCUzRCUyMjE1MTUtLTE1MTglMjIlMkMlMEElMjAlMjAlMjAlMjBlbnRyeXR5cGUlM0QlMjJpbnByb2NlZWRpbmdzJTIyJTJDJTBBJTIwJTIwJTIwJTIwc2VyaWVzJTNEJTIySUNTRSUyMCUyNzEyJTIyJTJDJTBBJTIwJTIwJTIwJTIwaXNibiUzRCUyMjk3OC0xLTQ2NzMtMTA2Ny0zJTIyJTJDJTBBJTIwJTIwJTIwJTIwbG9jYXRpb24lM0QlMjJadXJpY2glMkMlMjBTd2l0emVybGFuZCUyMiUyQyUwQSUyMCUyMCUyMCUyMG51bXBhZ2VzJTNEJTIyNCUyMiUyQyUwQSUyMCUyMCUyMCUyMGxpbmslM0QlMjJodHRwJTNBLy9kbC5hY20ub3JnL2NpdGF0aW9uLmNmbSUzRmlkJTNEMjMzNzIyMy4yMzM3NDcwJTIyJTJDJTBBJTIwJTIwJTIwJTIwYWNtaWQlM0QlMjIyMzM3NDcwJTIyJTJDJTBBJTIwJTIwJTIwJTIwcHVibGlzaGVyJTNEJTIySUVFRSUyMFByZXNzJTIyJTJDJTBBJTIwJTIwJTIwJTIwYWRkcmVzcyUzRCUyMlBpc2NhdGF3YXklMkMlMjBOSiUyQyUyMFVTQSUyMiUyQyUwQSUyMCUyMCUyMCUyMElEJTNEJTIySW10aWF6JTNBMjAxMiUzQUFUQSUzQTIzMzcyMjMuMjMzNzQ3MCUyMiUyQyUwQSUyMCUyMCUyMCUyMGFjbTIwMTUlM0QlMjIxJTIyJTJDJTBBJTIwJTIwJTIwJTIwcGxhY2V4JTNEJTIyUHJvY2VlZGluZ3MlMjBvZiUyMHRoZSUyMDM0dGglMjBJbnRlcm5hdGlvbmFsJTIwQ29uZmVyZW5jZSUyMG9uJTIwU29mdHdhcmUlMjBFbmdpbmVlcmluZyUyMiUyQyUwQSUyOSUyOSUwQSUyNyUyNyUyNyUyOSUzQg==\")));\n",
       "    "
      ],
      "text/plain": [
       "<IPython.core.display.Javascript object>"
      ]
     },
     "metadata": {},
     "output_type": "display_data"
    },
    {
     "data": {
      "application/javascript": [
       "$('span:contains(\"# Temp\")').closest('.cell').remove();"
      ],
      "text/plain": [
       "<IPython.core.display.Javascript object>"
      ]
     },
     "metadata": {},
     "output_type": "display_data"
    },
    {
     "data": {
      "application/javascript": [
       "\n",
       "        $('span:contains(\"# Temp\")').closest('.cell').remove();\n",
       "        var code = IPython.notebook.insert_cell_below('code');\n",
       "        code.set_text(decodeURIComponent(window.atob(\"JTIzJTIwVGVtcCUwQWluc2VydCUyOCUyNyUyNyUyNyUwQWltdGlhejIwMTJhJTIwJTNEJTIwREIlMjhXb3JrVW5yZWxhdGVkJTI4JTBBJTIwJTIwJTIwJTIwMjAxMiUyQyUyMCUyMkFyY2hpdGVjdHVyYWwlMjBUYXNrJTIwQWxsb2NhdGlvbiUyMGluJTIwRGlzdHJpYnV0ZWQlMjBFbnZpcm9ubWVudCUzQSUyMEElMjBUcmFjZWFiaWxpdHklMjBQZXJzcGVjdGl2ZSUyMiUyQyUwQSUyMCUyMCUyMCUyMGRpc3BsYXklM0QlMjJpbXRpYXolMjIlMkMlMEElMjAlMjAlMjAlMjBhdXRob3JzJTNEJTIySW10aWF6JTJDJTIwU2FsbWElMjIlMkMlMEElMjAlMjAlMjAlMjBwbGFjZSUzRElDU0UlMkMlMEElMjAlMjAlMjAlMjBwcCUzRCUyMjE1MTUtLTE1MTglMjIlMkMlMEElMjAlMjAlMjAlMjBlbnRyeXR5cGUlM0QlMjJpbnByb2NlZWRpbmdzJTIyJTJDJTBBJTIwJTIwJTIwJTIwc2VyaWVzJTNEJTIySUNTRSUyMCUyNzEyJTIyJTJDJTBBJTIwJTIwJTIwJTIwaXNibiUzRCUyMjk3OC0xLTQ2NzMtMTA2Ny0zJTIyJTJDJTBBJTIwJTIwJTIwJTIwbG9jYXRpb24lM0QlMjJadXJpY2glMkMlMjBTd2l0emVybGFuZCUyMiUyQyUwQSUyMCUyMCUyMCUyMG51bXBhZ2VzJTNEJTIyNCUyMiUyQyUwQSUyMCUyMCUyMCUyMGxpbmslM0QlMjJodHRwJTNBLy9kbC5hY20ub3JnL2NpdGF0aW9uLmNmbSUzRmlkJTNEMjMzNzIyMy4yMzM3NDcwJTIyJTJDJTBBJTIwJTIwJTIwJTIwYWNtaWQlM0QlMjIyMzM3NDcwJTIyJTJDJTBBJTIwJTIwJTIwJTIwcHVibGlzaGVyJTNEJTIySUVFRSUyMFByZXNzJTIyJTJDJTBBJTIwJTIwJTIwJTIwYWRkcmVzcyUzRCUyMlBpc2NhdGF3YXklMkMlMjBOSiUyQyUyMFVTQSUyMiUyQyUwQSUyMCUyMCUyMCUyMElEJTNEJTIySW10aWF6JTNBMjAxMiUzQUFUQSUzQTIzMzcyMjMuMjMzNzQ3MCUyMiUyQyUwQSUyMCUyMCUyMCUyMGFjbTIwMTUlM0QlMjIxJTIyJTJDJTBBJTIwJTIwJTIwJTIwcGxhY2V4JTNEJTIyUHJvY2VlZGluZ3MlMjBvZiUyMHRoZSUyMDM0dGglMjBJbnRlcm5hdGlvbmFsJTIwQ29uZmVyZW5jZSUyMG9uJTIwU29mdHdhcmUlMjBFbmdpbmVlcmluZyUyMiUyQyUwQSUyOSUyOSUwQSUyNyUyNyUyNyUyOSUzQg==\")));\n",
       "    "
      ],
      "text/plain": [
       "<IPython.core.display.Javascript object>"
      ]
     },
     "metadata": {},
     "output_type": "display_data"
    },
    {
     "data": {
      "application/javascript": [
       "$('span:contains(\"# Temp\")').closest('.cell').remove();"
      ],
      "text/plain": [
       "<IPython.core.display.Javascript object>"
      ]
     },
     "metadata": {},
     "output_type": "display_data"
    },
    {
     "data": {
      "application/javascript": [
       "\n",
       "        $('span:contains(\"# Temp\")').closest('.cell').remove();\n",
       "        var code = IPython.notebook.insert_cell_below('code');\n",
       "        code.set_text(decodeURIComponent(window.atob(\"JTIzJTIwVGVtcCUwQWluc2VydCUyOCUyNyUyNyUyNyUwQWZlcnJlaXJhMjAwN2ElMjAlM0QlMjBEQiUyOFdvcmtVbnJlbGF0ZWQlMjglMEElMjAlMjAlMjAlMjAyMDA3JTJDJTIwJTIyQXBwbHlpbmclMjBJU08lMjA5MDAxJTNBJTIwMjAwMCUyQyUyME1QUy5CUiUyMGFuZCUyMENNTUklMjB0byUyMEFjaGlldmUlMjBTb2Z0d2FyZSUyMFByb2Nlc3MlMjBNYXR1cml0eSUzQSUyMEJMJTIwSW5mb3JtYXRpY2ElMjdzJTIwUGF0aHdheSUyMiUyQyUwQSUyMCUyMCUyMCUyMGRpc3BsYXklM0QlMjJmZXJyZWlyYSUyMiUyQyUwQSUyMCUyMCUyMCUyMGF1dGhvcnMlM0QlMjJJcmlnb3llbiUyMEZlcnJlaXJvJTIwRmVycmVpcmElMkMlMjBBbmFsaWElMjBhbmQlMjBTYW50b3MlMkMlMjBHbGVpc29uJTIwYW5kJTIwQ2VycXVlaXJhJTJDJTIwUm9iZXJ0YSUyMGFuZCUyME1vbnRvbmklMkMlMjBNYXJpYW5vJTIwYW5kJTIwQmFycmV0byUyQyUyMEFoaWx0b24lMjBhbmQlMjBTb2FyZXMlMjBCYXJyZXRvJTJDJTIwQW5kcmVhJTIwTy4lMjBhbmQlMjBSb2NoYSUyQyUyMEFuYSUyMFJlZ2luYSUyMiUyQyUwQSUyMCUyMCUyMCUyMHBsYWNlJTNESUNTRSUyQyUwQSUyMCUyMCUyMCUyMHBwJTNEJTIyNjQyLS02NTElMjIlMkMlMEElMjAlMjAlMjAlMjBlbnRyeXR5cGUlM0QlMjJpbnByb2NlZWRpbmdzJTIyJTJDJTBBJTIwJTIwJTIwJTIwc2VyaWVzJTNEJTIySUNTRSUyMCUyNzA3JTIyJTJDJTBBJTIwJTIwJTIwJTIwaXNibiUzRCUyMjAtNzY5NS0yODI4LTclMjIlMkMlMEElMjAlMjAlMjAlMjBudW1wYWdlcyUzRCUyMjEwJTIyJTJDJTBBJTIwJTIwJTIwJTIwbGluayUzRCUyMmh0dHAlM0EvL2R4LmRvaS5vcmcvMTAuMTEwOS9JQ1NFLjIwMDcuMTUlMjIlMkMlMEElMjAlMjAlMjAlMjBkb2klM0QlMjIxMC4xMTA5L0lDU0UuMjAwNy4xNSUyMiUyQyUwQSUyMCUyMCUyMCUyMGFjbWlkJTNEJTIyMTI0ODg5NCUyMiUyQyUwQSUyMCUyMCUyMCUyMHB1Ymxpc2hlciUzRCUyMklFRUUlMjBDb21wdXRlciUyMFNvY2lldHklMjIlMkMlMEElMjAlMjAlMjAlMjBhZGRyZXNzJTNEJTIyV2FzaGluZ3RvbiUyQyUyMERDJTJDJTIwVVNBJTIyJTJDJTBBJTIwJTIwJTIwJTIwSUQlM0QlMjJJcmlnb3llbkZlcnJlaXJvRmVycmVpcmElM0EyMDA3JTNBQUk5JTNBMTI0ODgyMC4xMjQ4ODk0JTIyJTJDJTBBJTIwJTIwJTIwJTIwYWNtMjAxNSUzRCUyMjElMjIlMkMlMEElMjAlMjAlMjAlMjBwbGFjZXglM0QlMjJQcm9jZWVkaW5ncyUyMG9mJTIwdGhlJTIwMjl0aCUyMEludGVybmF0aW9uYWwlMjBDb25mZXJlbmNlJTIwb24lMjBTb2Z0d2FyZSUyMEVuZ2luZWVyaW5nJTIyJTJDJTBBJTI5JTI5JTBBJTI3JTI3JTI3JTI5JTNC\")));\n",
       "    "
      ],
      "text/plain": [
       "<IPython.core.display.Javascript object>"
      ]
     },
     "metadata": {},
     "output_type": "display_data"
    },
    {
     "data": {
      "application/javascript": [
       "$('span:contains(\"# Temp\")').closest('.cell').remove();"
      ],
      "text/plain": [
       "<IPython.core.display.Javascript object>"
      ]
     },
     "metadata": {},
     "output_type": "display_data"
    },
    {
     "data": {
      "application/javascript": [
       "\n",
       "        $('span:contains(\"# Temp\")').closest('.cell').remove();\n",
       "        var code = IPython.notebook.insert_cell_below('code');\n",
       "        code.set_text(decodeURIComponent(window.atob(\"JTIzJTIwVGVtcCUwQWluc2VydCUyOCUyNyUyNyUyNyUwQWZlcnJlaXJhMjAwN2ElMjAlM0QlMjBEQiUyOFdvcmtVbnJlbGF0ZWQlMjglMEElMjAlMjAlMjAlMjAyMDA3JTJDJTIwJTIyQXBwbHlpbmclMjBJU08lMjA5MDAxJTNBJTIwMjAwMCUyQyUyME1QUy5CUiUyMGFuZCUyMENNTUklMjB0byUyMEFjaGlldmUlMjBTb2Z0d2FyZSUyMFByb2Nlc3MlMjBNYXR1cml0eSUzQSUyMEJMJTIwSW5mb3JtYXRpY2ElMjdzJTIwUGF0aHdheSUyMiUyQyUwQSUyMCUyMCUyMCUyMGRpc3BsYXklM0QlMjJmZXJyZWlyYSUyMiUyQyUwQSUyMCUyMCUyMCUyMGF1dGhvcnMlM0QlMjJJcmlnb3llbiUyMEZlcnJlaXJvJTIwRmVycmVpcmElMkMlMjBBbmFsaWElMjBhbmQlMjBTYW50b3MlMkMlMjBHbGVpc29uJTIwYW5kJTIwQ2VycXVlaXJhJTJDJTIwUm9iZXJ0YSUyMGFuZCUyME1vbnRvbmklMkMlMjBNYXJpYW5vJTIwYW5kJTIwQmFycmV0byUyQyUyMEFoaWx0b24lMjBhbmQlMjBTb2FyZXMlMjBCYXJyZXRvJTJDJTIwQW5kcmVhJTIwTy4lMjBhbmQlMjBSb2NoYSUyQyUyMEFuYSUyMFJlZ2luYSUyMiUyQyUwQSUyMCUyMCUyMCUyMHBsYWNlJTNESUNTRSUyQyUwQSUyMCUyMCUyMCUyMHBwJTNEJTIyNjQyLS02NTElMjIlMkMlMEElMjAlMjAlMjAlMjBlbnRyeXR5cGUlM0QlMjJpbnByb2NlZWRpbmdzJTIyJTJDJTBBJTIwJTIwJTIwJTIwc2VyaWVzJTNEJTIySUNTRSUyMCUyNzA3JTIyJTJDJTBBJTIwJTIwJTIwJTIwaXNibiUzRCUyMjAtNzY5NS0yODI4LTclMjIlMkMlMEElMjAlMjAlMjAlMjBudW1wYWdlcyUzRCUyMjEwJTIyJTJDJTBBJTIwJTIwJTIwJTIwbGluayUzRCUyMmh0dHAlM0EvL2R4LmRvaS5vcmcvMTAuMTEwOS9JQ1NFLjIwMDcuMTUlMjIlMkMlMEElMjAlMjAlMjAlMjBkb2klM0QlMjIxMC4xMTA5L0lDU0UuMjAwNy4xNSUyMiUyQyUwQSUyMCUyMCUyMCUyMGFjbWlkJTNEJTIyMTI0ODg5NCUyMiUyQyUwQSUyMCUyMCUyMCUyMHB1Ymxpc2hlciUzRCUyMklFRUUlMjBDb21wdXRlciUyMFNvY2lldHklMjIlMkMlMEElMjAlMjAlMjAlMjBhZGRyZXNzJTNEJTIyV2FzaGluZ3RvbiUyQyUyMERDJTJDJTIwVVNBJTIyJTJDJTBBJTIwJTIwJTIwJTIwSUQlM0QlMjJJcmlnb3llbkZlcnJlaXJvRmVycmVpcmElM0EyMDA3JTNBQUk5JTNBMTI0ODgyMC4xMjQ4ODk0JTIyJTJDJTBBJTIwJTIwJTIwJTIwYWNtMjAxNSUzRCUyMjElMjIlMkMlMEElMjAlMjAlMjAlMjBwbGFjZXglM0QlMjJQcm9jZWVkaW5ncyUyMG9mJTIwdGhlJTIwMjl0aCUyMEludGVybmF0aW9uYWwlMjBDb25mZXJlbmNlJTIwb24lMjBTb2Z0d2FyZSUyMEVuZ2luZWVyaW5nJTIyJTJDJTBBJTI5JTI5JTBBJTI3JTI3JTI3JTI5JTNC\")));\n",
       "    "
      ],
      "text/plain": [
       "<IPython.core.display.Javascript object>"
      ]
     },
     "metadata": {},
     "output_type": "display_data"
    },
    {
     "data": {
      "application/javascript": [
       "$('span:contains(\"# Temp\")').closest('.cell').remove();"
      ],
      "text/plain": [
       "<IPython.core.display.Javascript object>"
      ]
     },
     "metadata": {},
     "output_type": "display_data"
    },
    {
     "data": {
      "application/javascript": [
       "\n",
       "        $('span:contains(\"# Temp\")').closest('.cell').remove();\n",
       "        var code = IPython.notebook.insert_cell_below('code');\n",
       "        code.set_text(decodeURIComponent(window.atob(\"JTIzJTIwVGVtcCUwQWluc2VydCUyOCUyNyUyNyUyNyUwQXphaGVkaTIwMTRhJTIwJTNEJTIwREIlMjhXb3JrVW5yZWxhdGVkJTI4JTBBJTIwJTIwJTIwJTIwMjAxNCUyQyUyMCUyMlRvd2FyZHMlMjBhbiUyMFVuZGVyc3RhbmRpbmclMjBvZiUyMEVuYWJsaW5nJTIwUHJvY2VzcyUyMEtub3dpbmclMjBpbiUyMEdsb2JhbCUyMFNvZnR3YXJlJTIwRGV2ZWxvcG1lbnQlM0ElMjBBJTIwQ2FzZSUyMFN0dWR5JTIyJTJDJTBBJTIwJTIwJTIwJTIwZGlzcGxheSUzRCUyMnphaGVkaSUyMiUyQyUwQSUyMCUyMCUyMCUyMGF1dGhvcnMlM0QlMjJaYWhlZGklMkMlMjBNYW5zb29yZWglMjBhbmQlMjBCYWJhciUyQyUyME11aGFtbWFkJTIwQWxpJTIyJTJDJTBBJTIwJTIwJTIwJTIwcGxhY2UlM0RGQUtFJTJDJTBBJTIwJTIwJTIwJTIwcHAlM0QlMjIzMC0tMzklMjIlMkMlMEElMjAlMjAlMjAlMjBlbnRyeXR5cGUlM0QlMjJpbnByb2NlZWRpbmdzJTIyJTJDJTBBJTIwJTIwJTIwJTIwc2VyaWVzJTNEJTIySUNTU1AlMjAyMDE0JTIyJTJDJTBBJTIwJTIwJTIwJTIwaXNibiUzRCUyMjk3OC0xLTQ1MDMtMjc1NC0xJTIyJTJDJTBBJTIwJTIwJTIwJTIwbG9jYXRpb24lM0QlMjJOYW5qaW5nJTJDJTIwQ2hpbmElMjIlMkMlMEElMjAlMjAlMjAlMjBudW1wYWdlcyUzRCUyMjEwJTIyJTJDJTBBJTIwJTIwJTIwJTIwbGluayUzRCUyMmh0dHAlM0EvL2RvaS5hY20ub3JnLzEwLjExNDUvMjYwMDgyMS4yNjAwODM2JTIyJTJDJTBBJTIwJTIwJTIwJTIwZG9pJTNEJTIyMTAuMTE0NS8yNjAwODIxLjI2MDA4MzYlMjIlMkMlMEElMjAlMjAlMjAlMjBhY21pZCUzRCUyMjI2MDA4MzYlMjIlMkMlMEElMjAlMjAlMjAlMjBwdWJsaXNoZXIlM0QlMjJBQ00lMjIlMkMlMEElMjAlMjAlMjAlMjBhZGRyZXNzJTNEJTIyTmV3JTIwWW9yayUyQyUyME5ZJTJDJTIwVVNBJTIyJTJDJTBBJTIwJTIwJTIwJTIwa2V5d29yZCUzRCUyMkNhc2UlMjBTdHVkeSUyQyUyMEVtcGlyaWNhbCUyMFNvZnR3YXJlJTIwRW5naW5lZXJpbmclMkMlMjBHU0QlMkMlMjBLbm93bGVkZ2UlMjBNYW5hZ2VtZW50JTJDJTIwUHJvY2VzcyUyMEltcHJvdmVtZW50JTIyJTJDJTBBJTIwJTIwJTIwJTIwSUQlM0QlMjJaYWhlZGklM0EyMDE0JTNBVFVFJTNBMjYwMDgyMS4yNjAwODM2JTIyJTJDJTBBJTIwJTIwJTIwJTIwYWNtMjAxNSUzRCUyMjElMjIlMkMlMEElMjAlMjAlMjAlMjBwbGFjZXglM0QlMjJQcm9jZWVkaW5ncyUyMG9mJTIwdGhlJTIwMjAxNCUyMEludGVybmF0aW9uYWwlMjBDb25mZXJlbmNlJTIwb24lMjBTb2Z0d2FyZSUyMGFuZCUyMFN5c3RlbSUyMFByb2Nlc3MlMjIlMkMlMEElMjklMjklMEElMjclMjclMjclMjklM0I=\")));\n",
       "    "
      ],
      "text/plain": [
       "<IPython.core.display.Javascript object>"
      ]
     },
     "metadata": {},
     "output_type": "display_data"
    },
    {
     "data": {
      "application/javascript": [
       "$('span:contains(\"# Temp\")').closest('.cell').remove();"
      ],
      "text/plain": [
       "<IPython.core.display.Javascript object>"
      ]
     },
     "metadata": {},
     "output_type": "display_data"
    },
    {
     "data": {
      "application/javascript": [
       "\n",
       "        $('span:contains(\"# Temp\")').closest('.cell').remove();\n",
       "        var code = IPython.notebook.insert_cell_below('code');\n",
       "        code.set_text(decodeURIComponent(window.atob(\"JTIzJTIwVGVtcCUwQWluc2VydCUyOCUyNyUyNyUyNyUwQXphaGVkaTIwMTRhJTIwJTNEJTIwREIlMjhXb3JrVW5yZWxhdGVkJTI4JTBBJTIwJTIwJTIwJTIwMjAxNCUyQyUyMCUyMlRvd2FyZHMlMjBhbiUyMFVuZGVyc3RhbmRpbmclMjBvZiUyMEVuYWJsaW5nJTIwUHJvY2VzcyUyMEtub3dpbmclMjBpbiUyMEdsb2JhbCUyMFNvZnR3YXJlJTIwRGV2ZWxvcG1lbnQlM0ElMjBBJTIwQ2FzZSUyMFN0dWR5JTIyJTJDJTBBJTIwJTIwJTIwJTIwZGlzcGxheSUzRCUyMnphaGVkaSUyMiUyQyUwQSUyMCUyMCUyMCUyMGF1dGhvcnMlM0QlMjJaYWhlZGklMkMlMjBNYW5zb29yZWglMjBhbmQlMjBCYWJhciUyQyUyME11aGFtbWFkJTIwQWxpJTIyJTJDJTBBJTIwJTIwJTIwJTIwcGxhY2UlM0RGQUtFJTJDJTBBJTIwJTIwJTIwJTIwcHAlM0QlMjIzMC0tMzklMjIlMkMlMEElMjAlMjAlMjAlMjBlbnRyeXR5cGUlM0QlMjJpbnByb2NlZWRpbmdzJTIyJTJDJTBBJTIwJTIwJTIwJTIwc2VyaWVzJTNEJTIySUNTU1AlMjAyMDE0JTIyJTJDJTBBJTIwJTIwJTIwJTIwaXNibiUzRCUyMjk3OC0xLTQ1MDMtMjc1NC0xJTIyJTJDJTBBJTIwJTIwJTIwJTIwbG9jYXRpb24lM0QlMjJOYW5qaW5nJTJDJTIwQ2hpbmElMjIlMkMlMEElMjAlMjAlMjAlMjBudW1wYWdlcyUzRCUyMjEwJTIyJTJDJTBBJTIwJTIwJTIwJTIwbGluayUzRCUyMmh0dHAlM0EvL2RvaS5hY20ub3JnLzEwLjExNDUvMjYwMDgyMS4yNjAwODM2JTIyJTJDJTBBJTIwJTIwJTIwJTIwZG9pJTNEJTIyMTAuMTE0NS8yNjAwODIxLjI2MDA4MzYlMjIlMkMlMEElMjAlMjAlMjAlMjBhY21pZCUzRCUyMjI2MDA4MzYlMjIlMkMlMEElMjAlMjAlMjAlMjBwdWJsaXNoZXIlM0QlMjJBQ00lMjIlMkMlMEElMjAlMjAlMjAlMjBhZGRyZXNzJTNEJTIyTmV3JTIwWW9yayUyQyUyME5ZJTJDJTIwVVNBJTIyJTJDJTBBJTIwJTIwJTIwJTIwa2V5d29yZCUzRCUyMkNhc2UlMjBTdHVkeSUyQyUyMEVtcGlyaWNhbCUyMFNvZnR3YXJlJTIwRW5naW5lZXJpbmclMkMlMjBHU0QlMkMlMjBLbm93bGVkZ2UlMjBNYW5hZ2VtZW50JTJDJTIwUHJvY2VzcyUyMEltcHJvdmVtZW50JTIyJTJDJTBBJTIwJTIwJTIwJTIwSUQlM0QlMjJaYWhlZGklM0EyMDE0JTNBVFVFJTNBMjYwMDgyMS4yNjAwODM2JTIyJTJDJTBBJTIwJTIwJTIwJTIwYWNtMjAxNSUzRCUyMjElMjIlMkMlMEElMjAlMjAlMjAlMjBwbGFjZXglM0QlMjJQcm9jZWVkaW5ncyUyMG9mJTIwdGhlJTIwMjAxNCUyMEludGVybmF0aW9uYWwlMjBDb25mZXJlbmNlJTIwb24lMjBTb2Z0d2FyZSUyMGFuZCUyMFN5c3RlbSUyMFByb2Nlc3MlMjIlMkMlMEElMjklMjklMEElMjclMjclMjclMjklM0I=\")));\n",
       "    "
      ],
      "text/plain": [
       "<IPython.core.display.Javascript object>"
      ]
     },
     "metadata": {},
     "output_type": "display_data"
    },
    {
     "data": {
      "application/javascript": [
       "$('span:contains(\"# Temp\")').closest('.cell').remove();"
      ],
      "text/plain": [
       "<IPython.core.display.Javascript object>"
      ]
     },
     "metadata": {},
     "output_type": "display_data"
    },
    {
     "data": {
      "application/javascript": [
       "\n",
       "        $('span:contains(\"# Temp\")').closest('.cell').remove();\n",
       "        var code = IPython.notebook.insert_cell_below('code');\n",
       "        code.set_text(decodeURIComponent(window.atob(\"JTIzJTIwVGVtcCUwQWluc2VydCUyOCUyNyUyNyUyNyUwQXZpcnRhbmVuMjAxM2ElMjAlM0QlMjBEQiUyOFdvcmtVbnJlbGF0ZWQlMjglMEElMjAlMjAlMjAlMjAyMDEzJTJDJTIwJTIyVGVhbSUyMExlYWRlcnMlMjclMjBQZXJjZXB0aW9ucyUyMGluJTIwdGhlJTIwUmVuZXdpbmclMjBvZiUyMFNvZnR3YXJlJTIwUHJvZHVjdGlvbiUyMFByb2Nlc3MlMjIlMkMlMEElMjAlMjAlMjAlMjBkaXNwbGF5JTNEJTIydmlydGFuZW4lMjIlMkMlMEElMjAlMjAlMjAlMjBhdXRob3JzJTNEJTIyVmlydGFuZW4lMkMlMjBQYXNpJTIwUC4lMjIlMkMlMEElMjAlMjAlMjAlMjBwbGFjZSUzREZBS0UlMkMlMEElMjAlMjAlMjAlMjBwcCUzRCUyMjE1OS0tMTY2JTIyJTJDJTBBJTIwJTIwJTIwJTIwZW50cnl0eXBlJTNEJTIyaW5wcm9jZWVkaW5ncyUyMiUyQyUwQSUyMCUyMCUyMCUyMHNlcmllcyUzRCUyMlNJR01JUy1DUFIlMjAlMjcxMyUyMiUyQyUwQSUyMCUyMCUyMCUyMGlzYm4lM0QlMjI5NzgtMS00NTAzLTE5NzUtMSUyMiUyQyUwQSUyMCUyMCUyMCUyMGxvY2F0aW9uJTNEJTIyQ2luY2lubmF0aSUyQyUyME9oaW8lMkMlMjBVU0ElMjIlMkMlMEElMjAlMjAlMjAlMjBudW1wYWdlcyUzRCUyMjglMjIlMkMlMEElMjAlMjAlMjAlMjBsaW5rJTNEJTIyaHR0cCUzQS8vZG9pLmFjbS5vcmcvMTAuMTE0NS8yNDg3Mjk0LjI0ODczMjklMjIlMkMlMEElMjAlMjAlMjAlMjBkb2klM0QlMjIxMC4xMTQ1LzI0ODcyOTQuMjQ4NzMyOSUyMiUyQyUwQSUyMCUyMCUyMCUyMGFjbWlkJTNEJTIyMjQ4NzMyOSUyMiUyQyUwQSUyMCUyMCUyMCUyMHB1Ymxpc2hlciUzRCUyMkFDTSUyMiUyQyUwQSUyMCUyMCUyMCUyMGFkZHJlc3MlM0QlMjJOZXclMjBZb3JrJTJDJTIwTlklMkMlMjBVU0ElMjIlMkMlMEElMjAlMjAlMjAlMjBrZXl3b3JkJTNEJTIyb3JnYW5pemF0aW9uYWwlMjBjaGFuZ2UlMkMlMjBzb2Z0d2FyZSUyMHByb2R1Y3Rpb24lMjBkZXZlbG9wbWVudCUyQyUyMHRlYW0lMjBsZWFkZXJzJTIyJTJDJTBBJTIwJTIwJTIwJTIwSUQlM0QlMjJWaXJ0YW5lbiUzQTIwMTMlM0FUTFAlM0EyNDg3Mjk0LjI0ODczMjklMjIlMkMlMEElMjAlMjAlMjAlMjBhY20yMDE1JTNEJTIyMSUyMiUyQyUwQSUyMCUyMCUyMCUyMHBsYWNleCUzRCUyMlByb2NlZWRpbmdzJTIwb2YlMjB0aGUlMjAyMDEzJTIwQW5udWFsJTIwQ29uZmVyZW5jZSUyMG9uJTIwQ29tcHV0ZXJzJTIwYW5kJTIwUGVvcGxlJTIwUmVzZWFyY2glMjIlMkMlMEElMjklMjklMEElMjclMjclMjclMjklM0I=\")));\n",
       "    "
      ],
      "text/plain": [
       "<IPython.core.display.Javascript object>"
      ]
     },
     "metadata": {},
     "output_type": "display_data"
    },
    {
     "data": {
      "application/javascript": [
       "$('span:contains(\"# Temp\")').closest('.cell').remove();"
      ],
      "text/plain": [
       "<IPython.core.display.Javascript object>"
      ]
     },
     "metadata": {},
     "output_type": "display_data"
    },
    {
     "data": {
      "application/javascript": [
       "\n",
       "        $('span:contains(\"# Temp\")').closest('.cell').remove();\n",
       "        var code = IPython.notebook.insert_cell_below('code');\n",
       "        code.set_text(decodeURIComponent(window.atob(\"JTIzJTIwVGVtcCUwQWluc2VydCUyOCUyNyUyNyUyNyUwQXZpcnRhbmVuMjAxM2ElMjAlM0QlMjBEQiUyOFdvcmtVbnJlbGF0ZWQlMjglMEElMjAlMjAlMjAlMjAyMDEzJTJDJTIwJTIyVGVhbSUyMExlYWRlcnMlMjclMjBQZXJjZXB0aW9ucyUyMGluJTIwdGhlJTIwUmVuZXdpbmclMjBvZiUyMFNvZnR3YXJlJTIwUHJvZHVjdGlvbiUyMFByb2Nlc3MlMjIlMkMlMEElMjAlMjAlMjAlMjBkaXNwbGF5JTNEJTIydmlydGFuZW4lMjIlMkMlMEElMjAlMjAlMjAlMjBhdXRob3JzJTNEJTIyVmlydGFuZW4lMkMlMjBQYXNpJTIwUC4lMjIlMkMlMEElMjAlMjAlMjAlMjBwbGFjZSUzREZBS0UlMkMlMEElMjAlMjAlMjAlMjBwcCUzRCUyMjE1OS0tMTY2JTIyJTJDJTBBJTIwJTIwJTIwJTIwZW50cnl0eXBlJTNEJTIyaW5wcm9jZWVkaW5ncyUyMiUyQyUwQSUyMCUyMCUyMCUyMHNlcmllcyUzRCUyMlNJR01JUy1DUFIlMjAlMjcxMyUyMiUyQyUwQSUyMCUyMCUyMCUyMGlzYm4lM0QlMjI5NzgtMS00NTAzLTE5NzUtMSUyMiUyQyUwQSUyMCUyMCUyMCUyMGxvY2F0aW9uJTNEJTIyQ2luY2lubmF0aSUyQyUyME9oaW8lMkMlMjBVU0ElMjIlMkMlMEElMjAlMjAlMjAlMjBudW1wYWdlcyUzRCUyMjglMjIlMkMlMEElMjAlMjAlMjAlMjBsaW5rJTNEJTIyaHR0cCUzQS8vZG9pLmFjbS5vcmcvMTAuMTE0NS8yNDg3Mjk0LjI0ODczMjklMjIlMkMlMEElMjAlMjAlMjAlMjBkb2klM0QlMjIxMC4xMTQ1LzI0ODcyOTQuMjQ4NzMyOSUyMiUyQyUwQSUyMCUyMCUyMCUyMGFjbWlkJTNEJTIyMjQ4NzMyOSUyMiUyQyUwQSUyMCUyMCUyMCUyMHB1Ymxpc2hlciUzRCUyMkFDTSUyMiUyQyUwQSUyMCUyMCUyMCUyMGFkZHJlc3MlM0QlMjJOZXclMjBZb3JrJTJDJTIwTlklMkMlMjBVU0ElMjIlMkMlMEElMjAlMjAlMjAlMjBrZXl3b3JkJTNEJTIyb3JnYW5pemF0aW9uYWwlMjBjaGFuZ2UlMkMlMjBzb2Z0d2FyZSUyMHByb2R1Y3Rpb24lMjBkZXZlbG9wbWVudCUyQyUyMHRlYW0lMjBsZWFkZXJzJTIyJTJDJTBBJTIwJTIwJTIwJTIwSUQlM0QlMjJWaXJ0YW5lbiUzQTIwMTMlM0FUTFAlM0EyNDg3Mjk0LjI0ODczMjklMjIlMkMlMEElMjAlMjAlMjAlMjBhY20yMDE1JTNEJTIyMSUyMiUyQyUwQSUyMCUyMCUyMCUyMHBsYWNleCUzRCUyMlByb2NlZWRpbmdzJTIwb2YlMjB0aGUlMjAyMDEzJTIwQW5udWFsJTIwQ29uZmVyZW5jZSUyMG9uJTIwQ29tcHV0ZXJzJTIwYW5kJTIwUGVvcGxlJTIwUmVzZWFyY2glMjIlMkMlMEElMjklMjklMEElMjclMjclMjclMjklM0I=\")));\n",
       "    "
      ],
      "text/plain": [
       "<IPython.core.display.Javascript object>"
      ]
     },
     "metadata": {},
     "output_type": "display_data"
    },
    {
     "data": {
      "application/javascript": [
       "$('span:contains(\"# Temp\")').closest('.cell').remove();"
      ],
      "text/plain": [
       "<IPython.core.display.Javascript object>"
      ]
     },
     "metadata": {},
     "output_type": "display_data"
    },
    {
     "data": {
      "application/javascript": [
       "\n",
       "        $('span:contains(\"# Temp\")').closest('.cell').remove();\n",
       "        var code = IPython.notebook.insert_cell_below('code');\n",
       "        code.set_text(decodeURIComponent(window.atob(\"JTIzJTIwVGVtcCUwQWluc2VydCUyOCUyNyUyNyUyNyUwQXNob2VtYWtlcjIwMDNhJTIwJTNEJTIwREIlMjhXb3JrVW5yZWxhdGVkJTI4JTBBJTIwJTIwJTIwJTIwMjAwMyUyQyUyMCUyMkElMjBDYXNlJTIwZm9yJTIwdGhlJTIwU3R1ZHklMjBvZiUyMFNvZnR3YXJlJTIwTWFuYWdlbWVudCUyMFdpdGhpbiUyMGElMjBCcm9hZCUyMEluZm9ybWF0aW9uJTIwVGVjaG5vbG9neSUyMEN1cnJpY3VsdW0lMjIlMkMlMEElMjAlMjAlMjAlMjBkaXNwbGF5JTNEJTIyc2hvZW1ha2VyJTIyJTJDJTBBJTIwJTIwJTIwJTIwYXV0aG9ycyUzRCUyMlNob2VtYWtlciUyQyUyMERhbmllbCUyMGFuZCUyMEpvdmFub3ZpYyUyQyUyMFZsYWRhbiUyMGFuZCUyMERyb21taSUyQyUyMEFudG9uaW8lMjIlMkMlMEElMjAlMjAlMjAlMjBwbGFjZSUzREZBS0UlMkMlMEElMjAlMjAlMjAlMjBwcCUzRCUyMjE3NC0tMTc5JTIyJTJDJTBBJTIwJTIwJTIwJTIwZW50cnl0eXBlJTNEJTIyaW5wcm9jZWVkaW5ncyUyMiUyQyUwQSUyMCUyMCUyMCUyMHNlcmllcyUzRCUyMkNJVEM0JTIwJTI3MDMlMjIlMkMlMEElMjAlMjAlMjAlMjBpc2JuJTNEJTIyMS01ODExMy03NzAtMiUyMiUyQyUwQSUyMCUyMCUyMCUyMGxvY2F0aW9uJTNEJTIyTGFmYXlldHRlJTJDJTIwSW5kaWFuYSUyQyUyMFVTQSUyMiUyQyUwQSUyMCUyMCUyMCUyMG51bXBhZ2VzJTNEJTIyNiUyMiUyQyUwQSUyMCUyMCUyMCUyMGxpbmslM0QlMjJodHRwJTNBLy9kb2kuYWNtLm9yZy8xMC4xMTQ1Lzk0NzEyMS45NDcxNjElMjIlMkMlMEElMjAlMjAlMjAlMjBkb2klM0QlMjIxMC4xMTQ1Lzk0NzEyMS45NDcxNjElMjIlMkMlMEElMjAlMjAlMjAlMjBhY21pZCUzRCUyMjk0NzE2MSUyMiUyQyUwQSUyMCUyMCUyMCUyMHB1Ymxpc2hlciUzRCUyMkFDTSUyMiUyQyUwQSUyMCUyMCUyMCUyMGFkZHJlc3MlM0QlMjJOZXclMjBZb3JrJTJDJTIwTlklMkMlMjBVU0ElMjIlMkMlMEElMjAlMjAlMjAlMjBrZXl3b3JkJTNEJTIyY3VycmljdWx1bSUyQyUyMGluZm9ybWF0aW9uJTIwdGVjaG5vbG9neSUyQyUyMHNvZnR3YXJlJTIwbWFuYWdlbWVudCUyMiUyQyUwQSUyMCUyMCUyMCUyMElEJTNEJTIyU2hvZW1ha2VyJTNBMjAwMyUzQUNTUyUzQTk0NzEyMS45NDcxNjElMjIlMkMlMEElMjAlMjAlMjAlMjBhY20yMDE1JTNEJTIyMSUyMiUyQyUwQSUyMCUyMCUyMCUyMHBsYWNleCUzRCUyMlByb2NlZWRpbmdzJTIwb2YlMjB0aGUlMjA0dGglMjBDb25mZXJlbmNlJTIwb24lMjBJbmZvcm1hdGlvbiUyMFRlY2hub2xvZ3klMjBDdXJyaWN1bHVtJTIyJTJDJTBBJTI5JTI5JTBBJTI3JTI3JTI3JTI5JTNC\")));\n",
       "    "
      ],
      "text/plain": [
       "<IPython.core.display.Javascript object>"
      ]
     },
     "metadata": {},
     "output_type": "display_data"
    },
    {
     "data": {
      "application/javascript": [
       "$('span:contains(\"# Temp\")').closest('.cell').remove();"
      ],
      "text/plain": [
       "<IPython.core.display.Javascript object>"
      ]
     },
     "metadata": {},
     "output_type": "display_data"
    },
    {
     "data": {
      "application/javascript": [
       "\n",
       "        $('span:contains(\"# Temp\")').closest('.cell').remove();\n",
       "        var code = IPython.notebook.insert_cell_below('code');\n",
       "        code.set_text(decodeURIComponent(window.atob(\"JTIzJTIwVGVtcCUwQWluc2VydCUyOCUyNyUyNyUyNyUwQXNob2VtYWtlcjIwMDNhJTIwJTNEJTIwREIlMjhXb3JrVW5yZWxhdGVkJTI4JTBBJTIwJTIwJTIwJTIwMjAwMyUyQyUyMCUyMkElMjBDYXNlJTIwZm9yJTIwdGhlJTIwU3R1ZHklMjBvZiUyMFNvZnR3YXJlJTIwTWFuYWdlbWVudCUyMFdpdGhpbiUyMGElMjBCcm9hZCUyMEluZm9ybWF0aW9uJTIwVGVjaG5vbG9neSUyMEN1cnJpY3VsdW0lMjIlMkMlMEElMjAlMjAlMjAlMjBkaXNwbGF5JTNEJTIyc2hvZW1ha2VyJTIyJTJDJTBBJTIwJTIwJTIwJTIwYXV0aG9ycyUzRCUyMlNob2VtYWtlciUyQyUyMERhbmllbCUyMGFuZCUyMEpvdmFub3ZpYyUyQyUyMFZsYWRhbiUyMGFuZCUyMERyb21taSUyQyUyMEFudG9uaW8lMjIlMkMlMEElMjAlMjAlMjAlMjBwbGFjZSUzREZBS0UlMkMlMEElMjAlMjAlMjAlMjBwcCUzRCUyMjE3NC0tMTc5JTIyJTJDJTBBJTIwJTIwJTIwJTIwZW50cnl0eXBlJTNEJTIyaW5wcm9jZWVkaW5ncyUyMiUyQyUwQSUyMCUyMCUyMCUyMHNlcmllcyUzRCUyMkNJVEM0JTIwJTI3MDMlMjIlMkMlMEElMjAlMjAlMjAlMjBpc2JuJTNEJTIyMS01ODExMy03NzAtMiUyMiUyQyUwQSUyMCUyMCUyMCUyMGxvY2F0aW9uJTNEJTIyTGFmYXlldHRlJTJDJTIwSW5kaWFuYSUyQyUyMFVTQSUyMiUyQyUwQSUyMCUyMCUyMCUyMG51bXBhZ2VzJTNEJTIyNiUyMiUyQyUwQSUyMCUyMCUyMCUyMGxpbmslM0QlMjJodHRwJTNBLy9kb2kuYWNtLm9yZy8xMC4xMTQ1Lzk0NzEyMS45NDcxNjElMjIlMkMlMEElMjAlMjAlMjAlMjBkb2klM0QlMjIxMC4xMTQ1Lzk0NzEyMS45NDcxNjElMjIlMkMlMEElMjAlMjAlMjAlMjBhY21pZCUzRCUyMjk0NzE2MSUyMiUyQyUwQSUyMCUyMCUyMCUyMHB1Ymxpc2hlciUzRCUyMkFDTSUyMiUyQyUwQSUyMCUyMCUyMCUyMGFkZHJlc3MlM0QlMjJOZXclMjBZb3JrJTJDJTIwTlklMkMlMjBVU0ElMjIlMkMlMEElMjAlMjAlMjAlMjBrZXl3b3JkJTNEJTIyY3VycmljdWx1bSUyQyUyMGluZm9ybWF0aW9uJTIwdGVjaG5vbG9neSUyQyUyMHNvZnR3YXJlJTIwbWFuYWdlbWVudCUyMiUyQyUwQSUyMCUyMCUyMCUyMElEJTNEJTIyU2hvZW1ha2VyJTNBMjAwMyUzQUNTUyUzQTk0NzEyMS45NDcxNjElMjIlMkMlMEElMjAlMjAlMjAlMjBhY20yMDE1JTNEJTIyMSUyMiUyQyUwQSUyMCUyMCUyMCUyMHBsYWNleCUzRCUyMlByb2NlZWRpbmdzJTIwb2YlMjB0aGUlMjA0dGglMjBDb25mZXJlbmNlJTIwb24lMjBJbmZvcm1hdGlvbiUyMFRlY2hub2xvZ3klMjBDdXJyaWN1bHVtJTIyJTJDJTBBJTI5JTI5JTBBJTI3JTI3JTI3JTI5JTNC\")));\n",
       "    "
      ],
      "text/plain": [
       "<IPython.core.display.Javascript object>"
      ]
     },
     "metadata": {},
     "output_type": "display_data"
    },
    {
     "data": {
      "application/javascript": [
       "$('span:contains(\"# Temp\")').closest('.cell').remove();"
      ],
      "text/plain": [
       "<IPython.core.display.Javascript object>"
      ]
     },
     "metadata": {},
     "output_type": "display_data"
    },
    {
     "data": {
      "application/javascript": [
       "\n",
       "        $('span:contains(\"# Temp\")').closest('.cell').remove();\n",
       "        var code = IPython.notebook.insert_cell_below('code');\n",
       "        code.set_text(decodeURIComponent(window.atob(\"JTIzJTIwVGVtcCUwQWluc2VydCUyOCUyNyUyNyUyNyUwQWtpcmsyMDE0YSUyMCUzRCUyMERCJTI4V29ya1VucmVsYXRlZCUyOCUwQSUyMCUyMCUyMCUyMDIwMTQlMkMlMjAlMjJJbnZlc3RpZ2F0aW5nJTIwYSUyMENvbmNlcHR1YWwlMjBDb25zdHJ1Y3QlMjBmb3IlMjBTb2Z0d2FyZSUyMENvbnRleHQlMjIlMkMlMEElMjAlMjAlMjAlMjBkaXNwbGF5JTNEJTIya2lyayUyMiUyQyUwQSUyMCUyMCUyMCUyMGF1dGhvcnMlM0QlMjJLaXJrJTJDJTIwRGlhbmElMjBhbmQlMjBNYWNEb25lbGwlMkMlMjBTdGVwaGVuJTIwRy4lMjIlMkMlMEElMjAlMjAlMjAlMjBwbGFjZSUzREVBU0UlMkMlMEElMjAlMjAlMjAlMjBwcCUzRCUyMjI3JTNBMS0tMjclM0ExMCUyMiUyQyUwQSUyMCUyMCUyMCUyMGVudHJ5dHlwZSUzRCUyMmlucHJvY2VlZGluZ3MlMjIlMkMlMEElMjAlMjAlMjAlMjBzZXJpZXMlM0QlMjJFQVNFJTIwJTI3MTQlMjIlMkMlMEElMjAlMjAlMjAlMjBpc2JuJTNEJTIyOTc4LTEtNDUwMy0yNDc2LTIlMjIlMkMlMEElMjAlMjAlMjAlMjBsb2NhdGlvbiUzRCUyMkxvbmRvbiUyQyUyMEVuZ2xhbmQlMkMlMjBVbml0ZWQlMjBLaW5nZG9tJTIyJTJDJTBBJTIwJTIwJTIwJTIwYXJ0aWNsZW5vJTNEJTIyMjclMjIlMkMlMEElMjAlMjAlMjAlMjBudW1wYWdlcyUzRCUyMjEwJTIyJTJDJTBBJTIwJTIwJTIwJTIwbGluayUzRCUyMmh0dHAlM0EvL2RvaS5hY20ub3JnLzEwLjExNDUvMjYwMTI0OC4yNjAxMjYzJTIyJTJDJTBBJTIwJTIwJTIwJTIwZG9pJTNEJTIyMTAuMTE0NS8yNjAxMjQ4LjI2MDEyNjMlMjIlMkMlMEElMjAlMjAlMjAlMjBhY21pZCUzRCUyMjI2MDEyNjMlMjIlMkMlMEElMjAlMjAlMjAlMjBwdWJsaXNoZXIlM0QlMjJBQ00lMjIlMkMlMEElMjAlMjAlMjAlMjBhZGRyZXNzJTNEJTIyTmV3JTIwWW9yayUyQyUyME5ZJTJDJTIwVVNBJTIyJTJDJTBBJTIwJTIwJTIwJTIwa2V5d29yZCUzRCUyMnNvZnR3YXJlJTIwY29udGV4dCUyQyUyMHRoZW9yeSUyMGJ1aWxkaW5nJTIyJTJDJTBBJTIwJTIwJTIwJTIwSUQlM0QlMjJLaXJrJTNBMjAxNCUzQUlDQyUzQTI2MDEyNDguMjYwMTI2MyUyMiUyQyUwQSUyMCUyMCUyMCUyMGFjbTIwMTUlM0QlMjIxJTIyJTJDJTBBJTIwJTIwJTIwJTIwcGxhY2V4JTNEJTIyUHJvY2VlZGluZ3MlMjBvZiUyMHRoZSUyMDE4dGglMjBJbnRlcm5hdGlvbmFsJTIwQ29uZmVyZW5jZSUyMG9uJTIwRXZhbHVhdGlvbiUyMGFuZCUyMEFzc2Vzc21lbnQlMjBpbiUyMFNvZnR3YXJlJTIwRW5naW5lZXJpbmclMjIlMkMlMEElMjklMjklMEElMjclMjclMjclMjklM0I=\")));\n",
       "    "
      ],
      "text/plain": [
       "<IPython.core.display.Javascript object>"
      ]
     },
     "metadata": {},
     "output_type": "display_data"
    },
    {
     "data": {
      "application/javascript": [
       "$('span:contains(\"# Temp\")').closest('.cell').remove();"
      ],
      "text/plain": [
       "<IPython.core.display.Javascript object>"
      ]
     },
     "metadata": {},
     "output_type": "display_data"
    },
    {
     "data": {
      "application/javascript": [
       "\n",
       "        $('span:contains(\"# Temp\")').closest('.cell').remove();\n",
       "        var code = IPython.notebook.insert_cell_below('code');\n",
       "        code.set_text(decodeURIComponent(window.atob(\"JTIzJTIwVGVtcCUwQWluc2VydCUyOCUyNyUyNyUyNyUwQWtpcmsyMDE0YSUyMCUzRCUyMERCJTI4V29ya1VucmVsYXRlZCUyOCUwQSUyMCUyMCUyMCUyMDIwMTQlMkMlMjAlMjJJbnZlc3RpZ2F0aW5nJTIwYSUyMENvbmNlcHR1YWwlMjBDb25zdHJ1Y3QlMjBmb3IlMjBTb2Z0d2FyZSUyMENvbnRleHQlMjIlMkMlMEElMjAlMjAlMjAlMjBkaXNwbGF5JTNEJTIya2lyayUyMiUyQyUwQSUyMCUyMCUyMCUyMGF1dGhvcnMlM0QlMjJLaXJrJTJDJTIwRGlhbmElMjBhbmQlMjBNYWNEb25lbGwlMkMlMjBTdGVwaGVuJTIwRy4lMjIlMkMlMEElMjAlMjAlMjAlMjBwbGFjZSUzREVBU0UlMkMlMEElMjAlMjAlMjAlMjBwcCUzRCUyMjI3JTNBMS0tMjclM0ExMCUyMiUyQyUwQSUyMCUyMCUyMCUyMGVudHJ5dHlwZSUzRCUyMmlucHJvY2VlZGluZ3MlMjIlMkMlMEElMjAlMjAlMjAlMjBzZXJpZXMlM0QlMjJFQVNFJTIwJTI3MTQlMjIlMkMlMEElMjAlMjAlMjAlMjBpc2JuJTNEJTIyOTc4LTEtNDUwMy0yNDc2LTIlMjIlMkMlMEElMjAlMjAlMjAlMjBsb2NhdGlvbiUzRCUyMkxvbmRvbiUyQyUyMEVuZ2xhbmQlMkMlMjBVbml0ZWQlMjBLaW5nZG9tJTIyJTJDJTBBJTIwJTIwJTIwJTIwYXJ0aWNsZW5vJTNEJTIyMjclMjIlMkMlMEElMjAlMjAlMjAlMjBudW1wYWdlcyUzRCUyMjEwJTIyJTJDJTBBJTIwJTIwJTIwJTIwbGluayUzRCUyMmh0dHAlM0EvL2RvaS5hY20ub3JnLzEwLjExNDUvMjYwMTI0OC4yNjAxMjYzJTIyJTJDJTBBJTIwJTIwJTIwJTIwZG9pJTNEJTIyMTAuMTE0NS8yNjAxMjQ4LjI2MDEyNjMlMjIlMkMlMEElMjAlMjAlMjAlMjBhY21pZCUzRCUyMjI2MDEyNjMlMjIlMkMlMEElMjAlMjAlMjAlMjBwdWJsaXNoZXIlM0QlMjJBQ00lMjIlMkMlMEElMjAlMjAlMjAlMjBhZGRyZXNzJTNEJTIyTmV3JTIwWW9yayUyQyUyME5ZJTJDJTIwVVNBJTIyJTJDJTBBJTIwJTIwJTIwJTIwa2V5d29yZCUzRCUyMnNvZnR3YXJlJTIwY29udGV4dCUyQyUyMHRoZW9yeSUyMGJ1aWxkaW5nJTIyJTJDJTBBJTIwJTIwJTIwJTIwSUQlM0QlMjJLaXJrJTNBMjAxNCUzQUlDQyUzQTI2MDEyNDguMjYwMTI2MyUyMiUyQyUwQSUyMCUyMCUyMCUyMGFjbTIwMTUlM0QlMjIxJTIyJTJDJTBBJTIwJTIwJTIwJTIwcGxhY2V4JTNEJTIyUHJvY2VlZGluZ3MlMjBvZiUyMHRoZSUyMDE4dGglMjBJbnRlcm5hdGlvbmFsJTIwQ29uZmVyZW5jZSUyMG9uJTIwRXZhbHVhdGlvbiUyMGFuZCUyMEFzc2Vzc21lbnQlMjBpbiUyMFNvZnR3YXJlJTIwRW5naW5lZXJpbmclMjIlMkMlMEElMjklMjklMEElMjclMjclMjclMjklM0I=\")));\n",
       "    "
      ],
      "text/plain": [
       "<IPython.core.display.Javascript object>"
      ]
     },
     "metadata": {},
     "output_type": "display_data"
    },
    {
     "data": {
      "application/javascript": [
       "$('span:contains(\"# Temp\")').closest('.cell').remove();"
      ],
      "text/plain": [
       "<IPython.core.display.Javascript object>"
      ]
     },
     "metadata": {},
     "output_type": "display_data"
    },
    {
     "data": {
      "application/javascript": [
       "\n",
       "        $('span:contains(\"# Temp\")').closest('.cell').remove();\n",
       "        var code = IPython.notebook.insert_cell_below('code');\n",
       "        code.set_text(decodeURIComponent(window.atob(\"JTIzJTIwVGVtcCUwQWluc2VydCUyOCUyNyUyNyUyNyUwQXJlY2gyMDExYSUyMCUzRCUyMERCJTI4V29ya1VucmVsYXRlZCUyOCUwQSUyMCUyMCUyMCUyMDIwMTElMkMlMjAlMjJBZ2dyZWdhdGlvbiUyMG9mJTIwRXhwZXJpZW5jZXMlMjBpbiUyMEV4cGVyaWVuY2UlMjBGYWN0b3JpZXMlMjBpbnRvJTIwU29mdHdhcmUlMjBQYXR0ZXJucyUyMiUyQyUwQSUyMCUyMCUyMCUyMGRpc3BsYXklM0QlMjJyZWNoJTIyJTJDJTBBJTIwJTIwJTIwJTIwYXV0aG9ycyUzRCUyMlJlY2glMkMlMjBKJUMzJUI2cmclMjBhbmQlMjBSYXMlMkMlMjBFcmljJTIyJTJDJTBBJTIwJTIwJTIwJTIwcGxhY2UlM0RGQUtFJTJDJTBBJTIwJTIwJTIwJTIwcHAlM0QlMjIxLS00JTIyJTJDJTBBJTIwJTIwJTIwJTIwZW50cnl0eXBlJTNEJTIyYXJ0aWNsZSUyMiUyQyUwQSUyMCUyMCUyMCUyMGlzc3VlX2RhdGUlM0QlMjJNYXJjaCUyMDIwMTElMjIlMkMlMEElMjAlMjAlMjAlMjB2b2x1bWUlM0QlMjIzNiUyMiUyQyUwQSUyMCUyMCUyMCUyMG51bWJlciUzRCUyMjIlMjIlMkMlMEElMjAlMjAlMjAlMjBtb250aCUzRCUyMm1hciUyMiUyQyUwQSUyMCUyMCUyMCUyMGlzc24lM0QlMjIwMTYzLTU5NDglMjIlMkMlMEElMjAlMjAlMjAlMjBudW1wYWdlcyUzRCUyMjQlMjIlMkMlMEElMjAlMjAlMjAlMjBsaW5rJTNEJTIyaHR0cCUzQS8vZG9pLmFjbS5vcmcvMTAuMTE0NS8xOTQzMzcxLjE5NDMzOTAlMjIlMkMlMEElMjAlMjAlMjAlMjBkb2klM0QlMjIxMC4xMTQ1LzE5NDMzNzEuMTk0MzM5MCUyMiUyQyUwQSUyMCUyMCUyMCUyMGFjbWlkJTNEJTIyMTk0MzM5MCUyMiUyQyUwQSUyMCUyMCUyMCUyMHB1Ymxpc2hlciUzRCUyMkFDTSUyMiUyQyUwQSUyMCUyMCUyMCUyMGFkZHJlc3MlM0QlMjJOZXclMjBZb3JrJTJDJTIwTlklMkMlMjBVU0ElMjIlMkMlMEElMjAlMjAlMjAlMjBrZXl3b3JkJTNEJTIyZGVzaWduJTIwcGF0dGVybnMlMkMlMjBleHBlcmllbmNlJTIwZmFjdG9yeSUyQyUyMGV4cGVyaWVuY2UlMjBtYW5hZ2VtZW50JTIyJTJDJTBBJTIwJTIwJTIwJTIwSUQlM0QlMjJSZWNoJTNBMjAxMSUzQUFFRSUzQTE5NDMzNzEuMTk0MzM5MCUyMiUyQyUwQSUyMCUyMCUyMCUyMGFjbTIwMTUlM0QlMjIxJTIyJTJDJTBBJTIwJTIwJTIwJTIwcGxhY2V4JTNEJTIyU0lHU09GVCUyMFNvZnR3LiUyMEVuZy4lMjBOb3RlcyUyMiUyQyUwQSUyOSUyOSUwQSUyNyUyNyUyNyUyOSUzQg==\")));\n",
       "    "
      ],
      "text/plain": [
       "<IPython.core.display.Javascript object>"
      ]
     },
     "metadata": {},
     "output_type": "display_data"
    },
    {
     "data": {
      "application/javascript": [
       "$('span:contains(\"# Temp\")').closest('.cell').remove();"
      ],
      "text/plain": [
       "<IPython.core.display.Javascript object>"
      ]
     },
     "metadata": {},
     "output_type": "display_data"
    },
    {
     "data": {
      "application/javascript": [
       "\n",
       "        $('span:contains(\"# Temp\")').closest('.cell').remove();\n",
       "        var code = IPython.notebook.insert_cell_below('code');\n",
       "        code.set_text(decodeURIComponent(window.atob(\"JTIzJTIwVGVtcCUwQWluc2VydCUyOCUyNyUyNyUyNyUwQXJlY2gyMDExYSUyMCUzRCUyMERCJTI4V29ya1VucmVsYXRlZCUyOCUwQSUyMCUyMCUyMCUyMDIwMTElMkMlMjAlMjJBZ2dyZWdhdGlvbiUyMG9mJTIwRXhwZXJpZW5jZXMlMjBpbiUyMEV4cGVyaWVuY2UlMjBGYWN0b3JpZXMlMjBpbnRvJTIwU29mdHdhcmUlMjBQYXR0ZXJucyUyMiUyQyUwQSUyMCUyMCUyMCUyMGRpc3BsYXklM0QlMjJyZWNoJTIyJTJDJTBBJTIwJTIwJTIwJTIwYXV0aG9ycyUzRCUyMlJlY2glMkMlMjBKJUMzJUI2cmclMjBhbmQlMjBSYXMlMkMlMjBFcmljJTIyJTJDJTBBJTIwJTIwJTIwJTIwcGxhY2UlM0RGQUtFJTJDJTBBJTIwJTIwJTIwJTIwcHAlM0QlMjIxLS00JTIyJTJDJTBBJTIwJTIwJTIwJTIwZW50cnl0eXBlJTNEJTIyYXJ0aWNsZSUyMiUyQyUwQSUyMCUyMCUyMCUyMGlzc3VlX2RhdGUlM0QlMjJNYXJjaCUyMDIwMTElMjIlMkMlMEElMjAlMjAlMjAlMjB2b2x1bWUlM0QlMjIzNiUyMiUyQyUwQSUyMCUyMCUyMCUyMG51bWJlciUzRCUyMjIlMjIlMkMlMEElMjAlMjAlMjAlMjBtb250aCUzRCUyMm1hciUyMiUyQyUwQSUyMCUyMCUyMCUyMGlzc24lM0QlMjIwMTYzLTU5NDglMjIlMkMlMEElMjAlMjAlMjAlMjBudW1wYWdlcyUzRCUyMjQlMjIlMkMlMEElMjAlMjAlMjAlMjBsaW5rJTNEJTIyaHR0cCUzQS8vZG9pLmFjbS5vcmcvMTAuMTE0NS8xOTQzMzcxLjE5NDMzOTAlMjIlMkMlMEElMjAlMjAlMjAlMjBkb2klM0QlMjIxMC4xMTQ1LzE5NDMzNzEuMTk0MzM5MCUyMiUyQyUwQSUyMCUyMCUyMCUyMGFjbWlkJTNEJTIyMTk0MzM5MCUyMiUyQyUwQSUyMCUyMCUyMCUyMHB1Ymxpc2hlciUzRCUyMkFDTSUyMiUyQyUwQSUyMCUyMCUyMCUyMGFkZHJlc3MlM0QlMjJOZXclMjBZb3JrJTJDJTIwTlklMkMlMjBVU0ElMjIlMkMlMEElMjAlMjAlMjAlMjBrZXl3b3JkJTNEJTIyZGVzaWduJTIwcGF0dGVybnMlMkMlMjBleHBlcmllbmNlJTIwZmFjdG9yeSUyQyUyMGV4cGVyaWVuY2UlMjBtYW5hZ2VtZW50JTIyJTJDJTBBJTIwJTIwJTIwJTIwSUQlM0QlMjJSZWNoJTNBMjAxMSUzQUFFRSUzQTE5NDMzNzEuMTk0MzM5MCUyMiUyQyUwQSUyMCUyMCUyMCUyMGFjbTIwMTUlM0QlMjIxJTIyJTJDJTBBJTIwJTIwJTIwJTIwcGxhY2V4JTNEJTIyU0lHU09GVCUyMFNvZnR3LiUyMEVuZy4lMjBOb3RlcyUyMiUyQyUwQSUyOSUyOSUwQSUyNyUyNyUyNyUyOSUzQg==\")));\n",
       "    "
      ],
      "text/plain": [
       "<IPython.core.display.Javascript object>"
      ]
     },
     "metadata": {},
     "output_type": "display_data"
    },
    {
     "data": {
      "application/javascript": [
       "$('span:contains(\"# Temp\")').closest('.cell').remove();"
      ],
      "text/plain": [
       "<IPython.core.display.Javascript object>"
      ]
     },
     "metadata": {},
     "output_type": "display_data"
    },
    {
     "data": {
      "application/javascript": [
       "\n",
       "        $('span:contains(\"# Temp\")').closest('.cell').remove();\n",
       "        var code = IPython.notebook.insert_cell_below('code');\n",
       "        code.set_text(decodeURIComponent(window.atob(\"JTIzJTIwVGVtcCUwQWluc2VydCUyOCUyNyUyNyUyNyUwQWJhcmNlbGxvczIwMTNiJTIwJTNEJTIwREIlMjhXb3JrVW5yZWxhdGVkJTI4JTBBJTIwJTIwJTIwJTIwMjAxMyUyQyUyMCUyMkElMjBTb2Z0d2FyZSUyME1lYXN1cmVtZW50JTIwVGFzayUyME9udG9sb2d5JTIyJTJDJTBBJTIwJTIwJTIwJTIwZGlzcGxheSUzRCUyMmJhcmNlbGxvcyUyMGIlMjIlMkMlMEElMjAlMjAlMjAlMjBhdXRob3JzJTNEJTIyQmFyY2VsbG9zJTJDJTIwTW9uYWxlc3NhJTIwUGVyaW5pJTIwYW5kJTIwZGUlMjBBbG1laWRhJTIwRmFsYm8lMkMlMjBSaWNhcmRvJTIyJTJDJTBBJTIwJTIwJTIwJTIwcGxhY2UlM0RGQUtFJTJDJTBBJTIwJTIwJTIwJTIwcHAlM0QlMjIzMTEtLTMxOCUyMiUyQyUwQSUyMCUyMCUyMCUyMGVudHJ5dHlwZSUzRCUyMmlucHJvY2VlZGluZ3MlMjIlMkMlMEElMjAlMjAlMjAlMjBzZXJpZXMlM0QlMjJTQUMlMjAlMjcxMyUyMiUyQyUwQSUyMCUyMCUyMCUyMGlzYm4lM0QlMjI5NzgtMS00NTAzLTE2NTYtOSUyMiUyQyUwQSUyMCUyMCUyMCUyMGxvY2F0aW9uJTNEJTIyQ29pbWJyYSUyQyUyMFBvcnR1Z2FsJTIyJTJDJTBBJTIwJTIwJTIwJTIwbnVtcGFnZXMlM0QlMjI4JTIyJTJDJTBBJTIwJTIwJTIwJTIwbGluayUzRCUyMmh0dHAlM0EvL2RvaS5hY20ub3JnLzEwLjExNDUvMjQ4MDM2Mi4yNDgwNDI4JTIyJTJDJTBBJTIwJTIwJTIwJTIwZG9pJTNEJTIyMTAuMTE0NS8yNDgwMzYyLjI0ODA0MjglMjIlMkMlMEElMjAlMjAlMjAlMjBhY21pZCUzRCUyMjI0ODA0MjglMjIlMkMlMEElMjAlMjAlMjAlMjBwdWJsaXNoZXIlM0QlMjJBQ00lMjIlMkMlMEElMjAlMjAlMjAlMjBhZGRyZXNzJTNEJTIyTmV3JTIwWW9yayUyQyUyME5ZJTJDJTIwVVNBJTIyJTJDJTBBJTIwJTIwJTIwJTIwa2V5d29yZCUzRCUyMnNlbWFudGljJTIwaW50ZXJvcGVyYWJpbGl0eSUyQyUyMHNvZnR3YXJlJTIwbWVhc3VyZW1lbnQlMkMlMjB0YXNrJTIwb250b2xvZ3klMjIlMkMlMEElMjAlMjAlMjAlMjBJRCUzRCUyMkJhcmNlbGxvcyUzQTIwMTMlM0FTTVQlM0EyNDgwMzYyLjI0ODA0MjglMjIlMkMlMEElMjAlMjAlMjAlMjBhY20yMDE1JTNEJTIyMSUyMiUyQyUwQSUyMCUyMCUyMCUyMHBsYWNleCUzRCUyMlByb2NlZWRpbmdzJTIwb2YlMjB0aGUlMjAyOHRoJTIwQW5udWFsJTIwQUNNJTIwU3ltcG9zaXVtJTIwb24lMjBBcHBsaWVkJTIwQ29tcHV0aW5nJTIyJTJDJTBBJTI5JTI5JTBBJTI3JTI3JTI3JTI5JTNC\")));\n",
       "    "
      ],
      "text/plain": [
       "<IPython.core.display.Javascript object>"
      ]
     },
     "metadata": {},
     "output_type": "display_data"
    },
    {
     "data": {
      "application/javascript": [
       "$('span:contains(\"# Temp\")').closest('.cell').remove();"
      ],
      "text/plain": [
       "<IPython.core.display.Javascript object>"
      ]
     },
     "metadata": {},
     "output_type": "display_data"
    },
    {
     "data": {
      "application/javascript": [
       "\n",
       "        $('span:contains(\"# Temp\")').closest('.cell').remove();\n",
       "        var code = IPython.notebook.insert_cell_below('code');\n",
       "        code.set_text(decodeURIComponent(window.atob(\"JTIzJTIwVGVtcCUwQWluc2VydCUyOCUyNyUyNyUyNyUwQWJhcmNlbGxvczIwMTNiJTIwJTNEJTIwREIlMjhXb3JrVW5yZWxhdGVkJTI4JTBBJTIwJTIwJTIwJTIwMjAxMyUyQyUyMCUyMkElMjBTb2Z0d2FyZSUyME1lYXN1cmVtZW50JTIwVGFzayUyME9udG9sb2d5JTIyJTJDJTBBJTIwJTIwJTIwJTIwZGlzcGxheSUzRCUyMmJhcmNlbGxvcyUyMGIlMjIlMkMlMEElMjAlMjAlMjAlMjBhdXRob3JzJTNEJTIyQmFyY2VsbG9zJTJDJTIwTW9uYWxlc3NhJTIwUGVyaW5pJTIwYW5kJTIwZGUlMjBBbG1laWRhJTIwRmFsYm8lMkMlMjBSaWNhcmRvJTIyJTJDJTBBJTIwJTIwJTIwJTIwcGxhY2UlM0RGQUtFJTJDJTBBJTIwJTIwJTIwJTIwcHAlM0QlMjIzMTEtLTMxOCUyMiUyQyUwQSUyMCUyMCUyMCUyMGVudHJ5dHlwZSUzRCUyMmlucHJvY2VlZGluZ3MlMjIlMkMlMEElMjAlMjAlMjAlMjBzZXJpZXMlM0QlMjJTQUMlMjAlMjcxMyUyMiUyQyUwQSUyMCUyMCUyMCUyMGlzYm4lM0QlMjI5NzgtMS00NTAzLTE2NTYtOSUyMiUyQyUwQSUyMCUyMCUyMCUyMGxvY2F0aW9uJTNEJTIyQ29pbWJyYSUyQyUyMFBvcnR1Z2FsJTIyJTJDJTBBJTIwJTIwJTIwJTIwbnVtcGFnZXMlM0QlMjI4JTIyJTJDJTBBJTIwJTIwJTIwJTIwbGluayUzRCUyMmh0dHAlM0EvL2RvaS5hY20ub3JnLzEwLjExNDUvMjQ4MDM2Mi4yNDgwNDI4JTIyJTJDJTBBJTIwJTIwJTIwJTIwZG9pJTNEJTIyMTAuMTE0NS8yNDgwMzYyLjI0ODA0MjglMjIlMkMlMEElMjAlMjAlMjAlMjBhY21pZCUzRCUyMjI0ODA0MjglMjIlMkMlMEElMjAlMjAlMjAlMjBwdWJsaXNoZXIlM0QlMjJBQ00lMjIlMkMlMEElMjAlMjAlMjAlMjBhZGRyZXNzJTNEJTIyTmV3JTIwWW9yayUyQyUyME5ZJTJDJTIwVVNBJTIyJTJDJTBBJTIwJTIwJTIwJTIwa2V5d29yZCUzRCUyMnNlbWFudGljJTIwaW50ZXJvcGVyYWJpbGl0eSUyQyUyMHNvZnR3YXJlJTIwbWVhc3VyZW1lbnQlMkMlMjB0YXNrJTIwb250b2xvZ3klMjIlMkMlMEElMjAlMjAlMjAlMjBJRCUzRCUyMkJhcmNlbGxvcyUzQTIwMTMlM0FTTVQlM0EyNDgwMzYyLjI0ODA0MjglMjIlMkMlMEElMjAlMjAlMjAlMjBhY20yMDE1JTNEJTIyMSUyMiUyQyUwQSUyMCUyMCUyMCUyMHBsYWNleCUzRCUyMlByb2NlZWRpbmdzJTIwb2YlMjB0aGUlMjAyOHRoJTIwQW5udWFsJTIwQUNNJTIwU3ltcG9zaXVtJTIwb24lMjBBcHBsaWVkJTIwQ29tcHV0aW5nJTIyJTJDJTBBJTI5JTI5JTBBJTI3JTI3JTI3JTI5JTNC\")));\n",
       "    "
      ],
      "text/plain": [
       "<IPython.core.display.Javascript object>"
      ]
     },
     "metadata": {},
     "output_type": "display_data"
    },
    {
     "data": {
      "application/javascript": [
       "$('span:contains(\"# Temp\")').closest('.cell').remove();"
      ],
      "text/plain": [
       "<IPython.core.display.Javascript object>"
      ]
     },
     "metadata": {},
     "output_type": "display_data"
    },
    {
     "data": {
      "application/javascript": [
       "\n",
       "        $('span:contains(\"# Temp\")').closest('.cell').remove();\n",
       "        var code = IPython.notebook.insert_cell_below('code');\n",
       "        code.set_text(decodeURIComponent(window.atob(\"JTIzJTIwVGVtcCUwQWluc2VydCUyOCUyNyUyNyUyNyUwQW1ldHRsZXIyMDA5YSUyMCUzRCUyMERCJTI4V29ya1VucmVsYXRlZCUyOCUwQSUyMCUyMCUyMCUyMDIwMDklMkMlMjAlMjJTaXR1YXRpb25hbCUyME1hdHVyaXR5JTIwTW9kZWxzJTIwQXMlMjBJbnN0cnVtZW50YWwlMjBBcnRpZmFjdHMlMjBmb3IlMjBPcmdhbml6YXRpb25hbCUyMERlc2lnbiUyMiUyQyUwQSUyMCUyMCUyMCUyMGRpc3BsYXklM0QlMjJtZXR0bGVyJTIyJTJDJTBBJTIwJTIwJTIwJTIwYXV0aG9ycyUzRCUyMk1ldHRsZXIlMkMlMjBUb2JpYXMlMjBhbmQlMjBSb2huZXIlMkMlMjBQZXRlciUyMiUyQyUwQSUyMCUyMCUyMCUyMHBsYWNlJTNERkFLRSUyQyUwQSUyMCUyMCUyMCUyMHBwJTNEJTIyMjIlM0ExLS0yMiUzQTklMjIlMkMlMEElMjAlMjAlMjAlMjBlbnRyeXR5cGUlM0QlMjJpbnByb2NlZWRpbmdzJTIyJTJDJTBBJTIwJTIwJTIwJTIwc2VyaWVzJTNEJTIyREVTUklTVCUyMCUyNzA5JTIyJTJDJTBBJTIwJTIwJTIwJTIwaXNibiUzRCUyMjk3OC0xLTYwNTU4LTQwOC05JTIyJTJDJTBBJTIwJTIwJTIwJTIwbG9jYXRpb24lM0QlMjJQaGlsYWRlbHBoaWElMkMlMjBQZW5uc3lsdmFuaWElMjIlMkMlMEElMjAlMjAlMjAlMjBhcnRpY2xlbm8lM0QlMjIyMiUyMiUyQyUwQSUyMCUyMCUyMCUyMG51bXBhZ2VzJTNEJTIyOSUyMiUyQyUwQSUyMCUyMCUyMCUyMGxpbmslM0QlMjJodHRwJTNBLy9kb2kuYWNtLm9yZy8xMC4xMTQ1LzE1NTU2MTkuMTU1NTY0OSUyMiUyQyUwQSUyMCUyMCUyMCUyMGRvaSUzRCUyMjEwLjExNDUvMTU1NTYxOS4xNTU1NjQ5JTIyJTJDJTBBJTIwJTIwJTIwJTIwYWNtaWQlM0QlMjIxNTU1NjQ5JTIyJTJDJTBBJTIwJTIwJTIwJTIwcHVibGlzaGVyJTNEJTIyQUNNJTIyJTJDJTBBJTIwJTIwJTIwJTIwYWRkcmVzcyUzRCUyMk5ldyUyMFlvcmslMkMlMjBOWSUyQyUyMFVTQSUyMiUyQyUwQSUyMCUyMCUyMCUyMGtleXdvcmQlM0QlMjJjaGFuZ2UlMjBlbmdpbmVlcmluZyUyQyUyMGRlc2lnbiUyMHJlc2VhcmNoJTJDJTIwbWF0dXJpdHklMjBtb2RlbHMlMkMlMjBvcmdhbml6YXRpb25hbCUyMGRlc2lnbiUyQyUyMG9yZ2FuaXphdGlvbmFsJTIwZW5naW5lZXJpbmclMjIlMkMlMEElMjAlMjAlMjAlMjBJRCUzRCUyMk1ldHRsZXIlM0EyMDA5JTNBU01NJTNBMTU1NTYxOS4xNTU1NjQ5JTIyJTJDJTBBJTIwJTIwJTIwJTIwYWNtMjAxNSUzRCUyMjElMjIlMkMlMEElMjAlMjAlMjAlMjBwbGFjZXglM0QlMjJQcm9jZWVkaW5ncyUyMG9mJTIwdGhlJTIwNHRoJTIwSW50ZXJuYXRpb25hbCUyMENvbmZlcmVuY2UlMjBvbiUyMERlc2lnbiUyMFNjaWVuY2UlMjBSZXNlYXJjaCUyMGluJTIwSW5mb3JtYXRpb24lMjBTeXN0ZW1zJTIwYW5kJTIwVGVjaG5vbG9neSUyMiUyQyUwQSUyOSUyOSUwQSUyNyUyNyUyNyUyOSUzQg==\")));\n",
       "    "
      ],
      "text/plain": [
       "<IPython.core.display.Javascript object>"
      ]
     },
     "metadata": {},
     "output_type": "display_data"
    },
    {
     "data": {
      "application/javascript": [
       "$('span:contains(\"# Temp\")').closest('.cell').remove();"
      ],
      "text/plain": [
       "<IPython.core.display.Javascript object>"
      ]
     },
     "metadata": {},
     "output_type": "display_data"
    },
    {
     "data": {
      "application/javascript": [
       "\n",
       "        $('span:contains(\"# Temp\")').closest('.cell').remove();\n",
       "        var code = IPython.notebook.insert_cell_below('code');\n",
       "        code.set_text(decodeURIComponent(window.atob(\"JTIzJTIwVGVtcCUwQWluc2VydCUyOCUyNyUyNyUyNyUwQW1ldHRsZXIyMDA5YSUyMCUzRCUyMERCJTI4V29ya1VucmVsYXRlZCUyOCUwQSUyMCUyMCUyMCUyMDIwMDklMkMlMjAlMjJTaXR1YXRpb25hbCUyME1hdHVyaXR5JTIwTW9kZWxzJTIwQXMlMjBJbnN0cnVtZW50YWwlMjBBcnRpZmFjdHMlMjBmb3IlMjBPcmdhbml6YXRpb25hbCUyMERlc2lnbiUyMiUyQyUwQSUyMCUyMCUyMCUyMGRpc3BsYXklM0QlMjJtZXR0bGVyJTIyJTJDJTBBJTIwJTIwJTIwJTIwYXV0aG9ycyUzRCUyMk1ldHRsZXIlMkMlMjBUb2JpYXMlMjBhbmQlMjBSb2huZXIlMkMlMjBQZXRlciUyMiUyQyUwQSUyMCUyMCUyMCUyMHBsYWNlJTNERkFLRSUyQyUwQSUyMCUyMCUyMCUyMHBwJTNEJTIyMjIlM0ExLS0yMiUzQTklMjIlMkMlMEElMjAlMjAlMjAlMjBlbnRyeXR5cGUlM0QlMjJpbnByb2NlZWRpbmdzJTIyJTJDJTBBJTIwJTIwJTIwJTIwc2VyaWVzJTNEJTIyREVTUklTVCUyMCUyNzA5JTIyJTJDJTBBJTIwJTIwJTIwJTIwaXNibiUzRCUyMjk3OC0xLTYwNTU4LTQwOC05JTIyJTJDJTBBJTIwJTIwJTIwJTIwbG9jYXRpb24lM0QlMjJQaGlsYWRlbHBoaWElMkMlMjBQZW5uc3lsdmFuaWElMjIlMkMlMEElMjAlMjAlMjAlMjBhcnRpY2xlbm8lM0QlMjIyMiUyMiUyQyUwQSUyMCUyMCUyMCUyMG51bXBhZ2VzJTNEJTIyOSUyMiUyQyUwQSUyMCUyMCUyMCUyMGxpbmslM0QlMjJodHRwJTNBLy9kb2kuYWNtLm9yZy8xMC4xMTQ1LzE1NTU2MTkuMTU1NTY0OSUyMiUyQyUwQSUyMCUyMCUyMCUyMGRvaSUzRCUyMjEwLjExNDUvMTU1NTYxOS4xNTU1NjQ5JTIyJTJDJTBBJTIwJTIwJTIwJTIwYWNtaWQlM0QlMjIxNTU1NjQ5JTIyJTJDJTBBJTIwJTIwJTIwJTIwcHVibGlzaGVyJTNEJTIyQUNNJTIyJTJDJTBBJTIwJTIwJTIwJTIwYWRkcmVzcyUzRCUyMk5ldyUyMFlvcmslMkMlMjBOWSUyQyUyMFVTQSUyMiUyQyUwQSUyMCUyMCUyMCUyMGtleXdvcmQlM0QlMjJjaGFuZ2UlMjBlbmdpbmVlcmluZyUyQyUyMGRlc2lnbiUyMHJlc2VhcmNoJTJDJTIwbWF0dXJpdHklMjBtb2RlbHMlMkMlMjBvcmdhbml6YXRpb25hbCUyMGRlc2lnbiUyQyUyMG9yZ2FuaXphdGlvbmFsJTIwZW5naW5lZXJpbmclMjIlMkMlMEElMjAlMjAlMjAlMjBJRCUzRCUyMk1ldHRsZXIlM0EyMDA5JTNBU01NJTNBMTU1NTYxOS4xNTU1NjQ5JTIyJTJDJTBBJTIwJTIwJTIwJTIwYWNtMjAxNSUzRCUyMjElMjIlMkMlMEElMjAlMjAlMjAlMjBwbGFjZXglM0QlMjJQcm9jZWVkaW5ncyUyMG9mJTIwdGhlJTIwNHRoJTIwSW50ZXJuYXRpb25hbCUyMENvbmZlcmVuY2UlMjBvbiUyMERlc2lnbiUyMFNjaWVuY2UlMjBSZXNlYXJjaCUyMGluJTIwSW5mb3JtYXRpb24lMjBTeXN0ZW1zJTIwYW5kJTIwVGVjaG5vbG9neSUyMiUyQyUwQSUyOSUyOSUwQSUyNyUyNyUyNyUyOSUzQg==\")));\n",
       "    "
      ],
      "text/plain": [
       "<IPython.core.display.Javascript object>"
      ]
     },
     "metadata": {},
     "output_type": "display_data"
    },
    {
     "data": {
      "application/javascript": [
       "$('span:contains(\"# Temp\")').closest('.cell').remove();"
      ],
      "text/plain": [
       "<IPython.core.display.Javascript object>"
      ]
     },
     "metadata": {},
     "output_type": "display_data"
    },
    {
     "data": {
      "application/javascript": [
       "\n",
       "        $('span:contains(\"# Temp\")').closest('.cell').remove();\n",
       "        var code = IPython.notebook.insert_cell_below('code');\n",
       "        code.set_text(decodeURIComponent(window.atob(\"JTIzJTIwVGVtcCUwQWluc2VydCUyOCUyNyUyNyUyNyUwQWFsa2FkaGkyMDE0YSUyMCUzRCUyMERCJTI4V29ya1VucmVsYXRlZCUyOCUwQSUyMCUyMCUyMCUyMDIwMTQlMkMlMjAlMjJDYW4lMjBDb2xsYWJvcmF0aXZlJTIwVGFnZ2luZyUyMEltcHJvdmUlMjBVc2VyJTIwRmVlZGJhY2slM0YlMjBBJTIwQ2FzZSUyMFN0dWR5JTIyJTJDJTBBJTIwJTIwJTIwJTIwZGlzcGxheSUzRCUyMmFsa2FkaGklMjIlMkMlMEElMjAlMjAlMjAlMjBhdXRob3JzJTNEJTIyQWxrYWRoaSUyQyUyMFJhbmElMjBhbmQlMjBQYWdhbm8lMkMlMjBEZW5uaXMlMjBhbmQlMjBCcnVlZ2dlJTJDJTIwQmVybmQlMjIlMkMlMEElMjAlMjAlMjAlMjBwbGFjZSUzREZBS0UlMkMlMEElMjAlMjAlMjAlMjBwcCUzRCUyMjEtLTglMjIlMkMlMEElMjAlMjAlMjAlMjBlbnRyeXR5cGUlM0QlMjJpbnByb2NlZWRpbmdzJTIyJTJDJTBBJTIwJTIwJTIwJTIwc2VyaWVzJTNEJTIyU1NFJTIwMjAxNCUyMiUyQyUwQSUyMCUyMCUyMCUyMGlzYm4lM0QlMjI5NzgtMS00NTAzLTMyMjctOSUyMiUyQyUwQSUyMCUyMCUyMCUyMGxvY2F0aW9uJTNEJTIySG9uZyUyMEtvbmclMkMlMjBDaGluYSUyMiUyQyUwQSUyMCUyMCUyMCUyMG51bXBhZ2VzJTNEJTIyOCUyMiUyQyUwQSUyMCUyMCUyMCUyMGxpbmslM0QlMjJodHRwJTNBLy9kb2kuYWNtLm9yZy8xMC4xMTQ1LzI2NjE2ODUuMjY2MTY5MiUyMiUyQyUwQSUyMCUyMCUyMCUyMGRvaSUzRCUyMjEwLjExNDUvMjY2MTY4NS4yNjYxNjkyJTIyJTJDJTBBJTIwJTIwJTIwJTIwYWNtaWQlM0QlMjIyNjYxNjkyJTIyJTJDJTBBJTIwJTIwJTIwJTIwcHVibGlzaGVyJTNEJTIyQUNNJTIyJTJDJTBBJTIwJTIwJTIwJTIwYWRkcmVzcyUzRCUyMk5ldyUyMFlvcmslMkMlMjBOWSUyQyUyMFVTQSUyMiUyQyUwQSUyMCUyMCUyMCUyMGtleXdvcmQlM0QlMjJTb2NpYWwlMjBzb2Z0d2FyZSUyQyUyMGNvbGxhYm9yYXRpdmUlMjB0YWdnaW5nJTJDJTIwdXNlciUyMGZlZWRiYWNrJTJDJTIwdXNlciUyMGludm9sdmVtZW50JTIyJTJDJTBBJTIwJTIwJTIwJTIwSUQlM0QlMjJBbGthZGhpJTNBMjAxNCUzQUNUSSUzQTI2NjE2ODUuMjY2MTY5MiUyMiUyQyUwQSUyMCUyMCUyMCUyMGFjbTIwMTUlM0QlMjIxJTIyJTJDJTBBJTIwJTIwJTIwJTIwcGxhY2V4JTNEJTIyUHJvY2VlZGluZ3MlMjBvZiUyMHRoZSUyMDZ0aCUyMEludGVybmF0aW9uYWwlMjBXb3Jrc2hvcCUyMG9uJTIwU29jaWFsJTIwU29mdHdhcmUlMjBFbmdpbmVlcmluZyUyMiUyQyUwQSUyOSUyOSUwQSUyNyUyNyUyNyUyOSUzQg==\")));\n",
       "    "
      ],
      "text/plain": [
       "<IPython.core.display.Javascript object>"
      ]
     },
     "metadata": {},
     "output_type": "display_data"
    },
    {
     "data": {
      "application/javascript": [
       "$('span:contains(\"# Temp\")').closest('.cell').remove();"
      ],
      "text/plain": [
       "<IPython.core.display.Javascript object>"
      ]
     },
     "metadata": {},
     "output_type": "display_data"
    },
    {
     "data": {
      "application/javascript": [
       "\n",
       "        $('span:contains(\"# Temp\")').closest('.cell').remove();\n",
       "        var code = IPython.notebook.insert_cell_below('code');\n",
       "        code.set_text(decodeURIComponent(window.atob(\"JTIzJTIwVGVtcCUwQWluc2VydCUyOCUyNyUyNyUyNyUwQWFsa2FkaGkyMDE0YSUyMCUzRCUyMERCJTI4V29ya1VucmVsYXRlZCUyOCUwQSUyMCUyMCUyMCUyMDIwMTQlMkMlMjAlMjJDYW4lMjBDb2xsYWJvcmF0aXZlJTIwVGFnZ2luZyUyMEltcHJvdmUlMjBVc2VyJTIwRmVlZGJhY2slM0YlMjBBJTIwQ2FzZSUyMFN0dWR5JTIyJTJDJTBBJTIwJTIwJTIwJTIwZGlzcGxheSUzRCUyMmFsa2FkaGklMjIlMkMlMEElMjAlMjAlMjAlMjBhdXRob3JzJTNEJTIyQWxrYWRoaSUyQyUyMFJhbmElMjBhbmQlMjBQYWdhbm8lMkMlMjBEZW5uaXMlMjBhbmQlMjBCcnVlZ2dlJTJDJTIwQmVybmQlMjIlMkMlMEElMjAlMjAlMjAlMjBwbGFjZSUzREZBS0UlMkMlMEElMjAlMjAlMjAlMjBwcCUzRCUyMjEtLTglMjIlMkMlMEElMjAlMjAlMjAlMjBlbnRyeXR5cGUlM0QlMjJpbnByb2NlZWRpbmdzJTIyJTJDJTBBJTIwJTIwJTIwJTIwc2VyaWVzJTNEJTIyU1NFJTIwMjAxNCUyMiUyQyUwQSUyMCUyMCUyMCUyMGlzYm4lM0QlMjI5NzgtMS00NTAzLTMyMjctOSUyMiUyQyUwQSUyMCUyMCUyMCUyMGxvY2F0aW9uJTNEJTIySG9uZyUyMEtvbmclMkMlMjBDaGluYSUyMiUyQyUwQSUyMCUyMCUyMCUyMG51bXBhZ2VzJTNEJTIyOCUyMiUyQyUwQSUyMCUyMCUyMCUyMGxpbmslM0QlMjJodHRwJTNBLy9kb2kuYWNtLm9yZy8xMC4xMTQ1LzI2NjE2ODUuMjY2MTY5MiUyMiUyQyUwQSUyMCUyMCUyMCUyMGRvaSUzRCUyMjEwLjExNDUvMjY2MTY4NS4yNjYxNjkyJTIyJTJDJTBBJTIwJTIwJTIwJTIwYWNtaWQlM0QlMjIyNjYxNjkyJTIyJTJDJTBBJTIwJTIwJTIwJTIwcHVibGlzaGVyJTNEJTIyQUNNJTIyJTJDJTBBJTIwJTIwJTIwJTIwYWRkcmVzcyUzRCUyMk5ldyUyMFlvcmslMkMlMjBOWSUyQyUyMFVTQSUyMiUyQyUwQSUyMCUyMCUyMCUyMGtleXdvcmQlM0QlMjJTb2NpYWwlMjBzb2Z0d2FyZSUyQyUyMGNvbGxhYm9yYXRpdmUlMjB0YWdnaW5nJTJDJTIwdXNlciUyMGZlZWRiYWNrJTJDJTIwdXNlciUyMGludm9sdmVtZW50JTIyJTJDJTBBJTIwJTIwJTIwJTIwSUQlM0QlMjJBbGthZGhpJTNBMjAxNCUzQUNUSSUzQTI2NjE2ODUuMjY2MTY5MiUyMiUyQyUwQSUyMCUyMCUyMCUyMGFjbTIwMTUlM0QlMjIxJTIyJTJDJTBBJTIwJTIwJTIwJTIwcGxhY2V4JTNEJTIyUHJvY2VlZGluZ3MlMjBvZiUyMHRoZSUyMDZ0aCUyMEludGVybmF0aW9uYWwlMjBXb3Jrc2hvcCUyMG9uJTIwU29jaWFsJTIwU29mdHdhcmUlMjBFbmdpbmVlcmluZyUyMiUyQyUwQSUyOSUyOSUwQSUyNyUyNyUyNyUyOSUzQg==\")));\n",
       "    "
      ],
      "text/plain": [
       "<IPython.core.display.Javascript object>"
      ]
     },
     "metadata": {},
     "output_type": "display_data"
    },
    {
     "data": {
      "application/javascript": [
       "$('span:contains(\"# Temp\")').closest('.cell').remove();"
      ],
      "text/plain": [
       "<IPython.core.display.Javascript object>"
      ]
     },
     "metadata": {},
     "output_type": "display_data"
    },
    {
     "data": {
      "application/javascript": [
       "\n",
       "        $('span:contains(\"# Temp\")').closest('.cell').remove();\n",
       "        var code = IPython.notebook.insert_cell_below('code');\n",
       "        code.set_text(decodeURIComponent(window.atob(\"JTIzJTIwVGVtcCUwQWluc2VydCUyOCUyNyUyNyUyNyUwQWR5YiVDMyVBNTIwMTJhJTIwJTNEJTIwREIlMjhXb3JrVW5yZWxhdGVkJTI4JTBBJTIwJTIwJTIwJTIwMjAxMiUyQyUyMCUyMldoYXQlMjBXb3JrcyUyMGZvciUyMFdob20lMkMlMjBXaGVyZSUyQyUyMHdoZW4lMkMlMjBhbmQlMjBXaHklM0YlM0ElMjBPbiUyMHRoZSUyMFJvbGUlMjBvZiUyMENvbnRleHQlMjBpbiUyMEVtcGlyaWNhbCUyMFNvZnR3YXJlJTIwRW5naW5lZXJpbmclMjIlMkMlMEElMjAlMjAlMjAlMjBkaXNwbGF5JTNEJTIyZHliJUMzJUE1JTIyJTJDJTBBJTIwJTIwJTIwJTIwYXV0aG9ycyUzRCUyMkR5YiVDMyVBNSUyQyUyMFRvcmUlMjBhbmQlMjBTaiVDMyVCOGJlcmclMkMlMjBEYWclMjBJLksuJTIwYW5kJTIwQ3J1emVzJTJDJTIwRGFuaWVsYSUyMFMuJTIyJTJDJTBBJTIwJTIwJTIwJTIwcGxhY2UlM0RFU0VNJTJDJTBBJTIwJTIwJTIwJTIwcHAlM0QlMjIxOS0tMjglMjIlMkMlMEElMjAlMjAlMjAlMjBlbnRyeXR5cGUlM0QlMjJpbnByb2NlZWRpbmdzJTIyJTJDJTBBJTIwJTIwJTIwJTIwc2VyaWVzJTNEJTIyRVNFTSUyMCUyNzEyJTIyJTJDJTBBJTIwJTIwJTIwJTIwaXNibiUzRCUyMjk3OC0xLTQ1MDMtMTA1Ni03JTIyJTJDJTBBJTIwJTIwJTIwJTIwbG9jYXRpb24lM0QlMjJMdW5kJTJDJTIwU3dlZGVuJTIyJTJDJTBBJTIwJTIwJTIwJTIwbnVtcGFnZXMlM0QlMjIxMCUyMiUyQyUwQSUyMCUyMCUyMCUyMGxpbmslM0QlMjJodHRwJTNBLy9kb2kuYWNtLm9yZy8xMC4xMTQ1LzIzNzIyNTEuMjM3MjI1NiUyMiUyQyUwQSUyMCUyMCUyMCUyMGRvaSUzRCUyMjEwLjExNDUvMjM3MjI1MS4yMzcyMjU2JTIyJTJDJTBBJTIwJTIwJTIwJTIwYWNtaWQlM0QlMjIyMzcyMjU2JTIyJTJDJTBBJTIwJTIwJTIwJTIwcHVibGlzaGVyJTNEJTIyQUNNJTIyJTJDJTBBJTIwJTIwJTIwJTIwYWRkcmVzcyUzRCUyMk5ldyUyMFlvcmslMkMlMjBOWSUyQyUyMFVTQSUyMiUyQyUwQSUyMCUyMCUyMCUyMGtleXdvcmQlM0QlMjJlbXBpcmljYWwlMjBtZXRob2RzJTJDJTIwZXZpZGVuY2UtYmFzZWQlMjBzb2Z0d2FyZSUyMGVuZ2luZWVyaW5nJTJDJTIwZ2VuZXJhbGl6YXRpb24lMkMlMjBzb2Npb3RlY2huaWNhbCUyMHN5c3RlbSUyQyUyMHRoZW9yeSUyMiUyQyUwQSUyMCUyMCUyMCUyMElEJTNEJTIyRHliYSUzQTIwMTIlM0FXV1clM0EyMzcyMjUxLjIzNzIyNTYlMjIlMkMlMEElMjAlMjAlMjAlMjBhY20yMDE1JTNEJTIyMSUyMiUyQyUwQSUyMCUyMCUyMCUyMHBsYWNleCUzRCUyMlByb2NlZWRpbmdzJTIwb2YlMjB0aGUlMjBBQ00tSUVFRSUyMEludGVybmF0aW9uYWwlMjBTeW1wb3NpdW0lMjBvbiUyMEVtcGlyaWNhbCUyMFNvZnR3YXJlJTIwRW5naW5lZXJpbmclMjBhbmQlMjBNZWFzdXJlbWVudCUyMiUyQyUwQSUyOSUyOSUwQSUyNyUyNyUyNyUyOSUzQg==\")));\n",
       "    "
      ],
      "text/plain": [
       "<IPython.core.display.Javascript object>"
      ]
     },
     "metadata": {},
     "output_type": "display_data"
    },
    {
     "data": {
      "application/javascript": [
       "$('span:contains(\"# Temp\")').closest('.cell').remove();"
      ],
      "text/plain": [
       "<IPython.core.display.Javascript object>"
      ]
     },
     "metadata": {},
     "output_type": "display_data"
    },
    {
     "data": {
      "application/javascript": [
       "\n",
       "        $('span:contains(\"# Temp\")').closest('.cell').remove();\n",
       "        var code = IPython.notebook.insert_cell_below('code');\n",
       "        code.set_text(decodeURIComponent(window.atob(\"JTIzJTIwVGVtcCUwQWluc2VydCUyOCUyNyUyNyUyNyUwQWR5YiVDMyVBNTIwMTJhJTIwJTNEJTIwREIlMjhXb3JrVW5yZWxhdGVkJTI4JTBBJTIwJTIwJTIwJTIwMjAxMiUyQyUyMCUyMldoYXQlMjBXb3JrcyUyMGZvciUyMFdob20lMkMlMjBXaGVyZSUyQyUyMHdoZW4lMkMlMjBhbmQlMjBXaHklM0YlM0ElMjBPbiUyMHRoZSUyMFJvbGUlMjBvZiUyMENvbnRleHQlMjBpbiUyMEVtcGlyaWNhbCUyMFNvZnR3YXJlJTIwRW5naW5lZXJpbmclMjIlMkMlMEElMjAlMjAlMjAlMjBkaXNwbGF5JTNEJTIyZHliJUMzJUE1JTIyJTJDJTBBJTIwJTIwJTIwJTIwYXV0aG9ycyUzRCUyMkR5YiVDMyVBNSUyQyUyMFRvcmUlMjBhbmQlMjBTaiVDMyVCOGJlcmclMkMlMjBEYWclMjBJLksuJTIwYW5kJTIwQ3J1emVzJTJDJTIwRGFuaWVsYSUyMFMuJTIyJTJDJTBBJTIwJTIwJTIwJTIwcGxhY2UlM0RFU0VNJTJDJTBBJTIwJTIwJTIwJTIwcHAlM0QlMjIxOS0tMjglMjIlMkMlMEElMjAlMjAlMjAlMjBlbnRyeXR5cGUlM0QlMjJpbnByb2NlZWRpbmdzJTIyJTJDJTBBJTIwJTIwJTIwJTIwc2VyaWVzJTNEJTIyRVNFTSUyMCUyNzEyJTIyJTJDJTBBJTIwJTIwJTIwJTIwaXNibiUzRCUyMjk3OC0xLTQ1MDMtMTA1Ni03JTIyJTJDJTBBJTIwJTIwJTIwJTIwbG9jYXRpb24lM0QlMjJMdW5kJTJDJTIwU3dlZGVuJTIyJTJDJTBBJTIwJTIwJTIwJTIwbnVtcGFnZXMlM0QlMjIxMCUyMiUyQyUwQSUyMCUyMCUyMCUyMGxpbmslM0QlMjJodHRwJTNBLy9kb2kuYWNtLm9yZy8xMC4xMTQ1LzIzNzIyNTEuMjM3MjI1NiUyMiUyQyUwQSUyMCUyMCUyMCUyMGRvaSUzRCUyMjEwLjExNDUvMjM3MjI1MS4yMzcyMjU2JTIyJTJDJTBBJTIwJTIwJTIwJTIwYWNtaWQlM0QlMjIyMzcyMjU2JTIyJTJDJTBBJTIwJTIwJTIwJTIwcHVibGlzaGVyJTNEJTIyQUNNJTIyJTJDJTBBJTIwJTIwJTIwJTIwYWRkcmVzcyUzRCUyMk5ldyUyMFlvcmslMkMlMjBOWSUyQyUyMFVTQSUyMiUyQyUwQSUyMCUyMCUyMCUyMGtleXdvcmQlM0QlMjJlbXBpcmljYWwlMjBtZXRob2RzJTJDJTIwZXZpZGVuY2UtYmFzZWQlMjBzb2Z0d2FyZSUyMGVuZ2luZWVyaW5nJTJDJTIwZ2VuZXJhbGl6YXRpb24lMkMlMjBzb2Npb3RlY2huaWNhbCUyMHN5c3RlbSUyQyUyMHRoZW9yeSUyMiUyQyUwQSUyMCUyMCUyMCUyMElEJTNEJTIyRHliYSUzQTIwMTIlM0FXV1clM0EyMzcyMjUxLjIzNzIyNTYlMjIlMkMlMEElMjAlMjAlMjAlMjBhY20yMDE1JTNEJTIyMSUyMiUyQyUwQSUyMCUyMCUyMCUyMHBsYWNleCUzRCUyMlByb2NlZWRpbmdzJTIwb2YlMjB0aGUlMjBBQ00tSUVFRSUyMEludGVybmF0aW9uYWwlMjBTeW1wb3NpdW0lMjBvbiUyMEVtcGlyaWNhbCUyMFNvZnR3YXJlJTIwRW5naW5lZXJpbmclMjBhbmQlMjBNZWFzdXJlbWVudCUyMiUyQyUwQSUyOSUyOSUwQSUyNyUyNyUyNyUyOSUzQg==\")));\n",
       "    "
      ],
      "text/plain": [
       "<IPython.core.display.Javascript object>"
      ]
     },
     "metadata": {},
     "output_type": "display_data"
    },
    {
     "data": {
      "application/javascript": [
       "$('span:contains(\"# Temp\")').closest('.cell').remove();"
      ],
      "text/plain": [
       "<IPython.core.display.Javascript object>"
      ]
     },
     "metadata": {},
     "output_type": "display_data"
    },
    {
     "data": {
      "application/javascript": [
       "\n",
       "        $('span:contains(\"# Temp\")').closest('.cell').remove();\n",
       "        var code = IPython.notebook.insert_cell_below('code');\n",
       "        code.set_text(decodeURIComponent(window.atob(\"JTIzJTIwVGVtcCUwQWluc2VydCUyOCUyNyUyNyUyNyUwQXdpZXNjaGUyMDE0YSUyMCUzRCUyMERCJTI4V29ya1VucmVsYXRlZCUyOCUwQSUyMCUyMCUyMCUyMDIwMTQlMkMlMjAlMjJUaGUlMjBSZWxhdGlvbnNoaXAlMjBvZiUyMFBlcnNvbmFsaXR5JTIwTW9kZWxzJTIwYW5kJTIwRGV2ZWxvcG1lbnQlMjBUYXNrcyUyMGluJTIwU29mdHdhcmUlMjBFbmdpbmVlcmluZyUyMiUyQyUwQSUyMCUyMCUyMCUyMGRpc3BsYXklM0QlMjJ3aWVzY2hlJTIyJTJDJTBBJTIwJTIwJTIwJTIwYXV0aG9ycyUzRCUyMldpZXNjaGUlMkMlMjBNYW51ZWwlMjBhbmQlMjBLcmNtYXIlMkMlMjBIZWxtdXQlMjIlMkMlMEElMjAlMjAlMjAlMjBwbGFjZSUzREZBS0UlMkMlMEElMjAlMjAlMjAlMjBwcCUzRCUyMjE0OS0tMTYxJTIyJTJDJTBBJTIwJTIwJTIwJTIwZW50cnl0eXBlJTNEJTIyaW5wcm9jZWVkaW5ncyUyMiUyQyUwQSUyMCUyMCUyMCUyMHNlcmllcyUzRCUyMlNJR1NJTS1DUFIlMjAlMjcxNCUyMiUyQyUwQSUyMCUyMCUyMCUyMGlzYm4lM0QlMjI5NzgtMS00NTAzLTI2MjUtNCUyMiUyQyUwQSUyMCUyMCUyMCUyMGxvY2F0aW9uJTNEJTIyU2luZ2Fwb3JlJTJDJTIwU2luZ2Fwb3JlJTIyJTJDJTBBJTIwJTIwJTIwJTIwbnVtcGFnZXMlM0QlMjIxMyUyMiUyQyUwQSUyMCUyMCUyMCUyMGxpbmslM0QlMjJodHRwJTNBLy9kb2kuYWNtLm9yZy8xMC4xMTQ1LzI1OTk5OTAuMjYwMDAxMiUyMiUyQyUwQSUyMCUyMCUyMCUyMGRvaSUzRCUyMjEwLjExNDUvMjU5OTk5MC4yNjAwMDEyJTIyJTJDJTBBJTIwJTIwJTIwJTIwYWNtaWQlM0QlMjIyNjAwMDEyJTIyJTJDJTBBJTIwJTIwJTIwJTIwcHVibGlzaGVyJTNEJTIyQUNNJTIyJTJDJTBBJTIwJTIwJTIwJTIwYWRkcmVzcyUzRCUyMk5ldyUyMFlvcmslMkMlMjBOWSUyQyUyMFVTQSUyMiUyQyUwQSUyMCUyMCUyMCUyMGtleXdvcmQlM0QlMjJiaWclMjA1JTIwcGVyc29uYWxpdHklMjBkaW1lbnNpb25zJTJDJTIwZGlzcG9zaXRpb24lMkMlMjBmaXZlJTIwZmFjdG9ycyUyMG1vZGVsJTIwJTI4ZmZtJTI5JTJDJTIwam9iJTIwZGlhZ25vc3RpYyUyMHN1cnZleSUyMCUyOGpkcyUyOSUyQyUyMGxpdGVyYXR1cmUlMjByZXZpZXclMkMlMjBteWVycy1icmlnZ3MlMjB0eXBlJTIwaW5kaWNhdG9yJTIwJTI4bWJ0aSUyOSUyQyUyMHBlcnNvbmFsaXR5JTJDJTIwc29mdHdhcmUlMjBlbmdpbmVlcmluZyUyMiUyQyUwQSUyMCUyMCUyMCUyMElEJTNEJTIyV2llc2NoZSUzQTIwMTQlM0FSUE0lM0EyNTk5OTkwLjI2MDAwMTIlMjIlMkMlMEElMjAlMjAlMjAlMjBhY20yMDE1JTNEJTIyMSUyMiUyQyUwQSUyMCUyMCUyMCUyMHBsYWNleCUzRCUyMlByb2NlZWRpbmdzJTIwb2YlMjB0aGUlMjA1Mk5kJTIwQUNNJTIwQ29uZmVyZW5jZSUyMG9uJTIwQ29tcHV0ZXJzJTIwYW5kJTIwUGVvcGxlJTIwUmVzZWFyY2glMjIlMkMlMEElMjklMjklMEElMjclMjclMjclMjklM0I=\")));\n",
       "    "
      ],
      "text/plain": [
       "<IPython.core.display.Javascript object>"
      ]
     },
     "metadata": {},
     "output_type": "display_data"
    },
    {
     "data": {
      "application/javascript": [
       "$('span:contains(\"# Temp\")').closest('.cell').remove();"
      ],
      "text/plain": [
       "<IPython.core.display.Javascript object>"
      ]
     },
     "metadata": {},
     "output_type": "display_data"
    },
    {
     "data": {
      "application/javascript": [
       "\n",
       "        $('span:contains(\"# Temp\")').closest('.cell').remove();\n",
       "        var code = IPython.notebook.insert_cell_below('code');\n",
       "        code.set_text(decodeURIComponent(window.atob(\"JTIzJTIwVGVtcCUwQWluc2VydCUyOCUyNyUyNyUyNyUwQXdpZXNjaGUyMDE0YSUyMCUzRCUyMERCJTI4V29ya1VucmVsYXRlZCUyOCUwQSUyMCUyMCUyMCUyMDIwMTQlMkMlMjAlMjJUaGUlMjBSZWxhdGlvbnNoaXAlMjBvZiUyMFBlcnNvbmFsaXR5JTIwTW9kZWxzJTIwYW5kJTIwRGV2ZWxvcG1lbnQlMjBUYXNrcyUyMGluJTIwU29mdHdhcmUlMjBFbmdpbmVlcmluZyUyMiUyQyUwQSUyMCUyMCUyMCUyMGRpc3BsYXklM0QlMjJ3aWVzY2hlJTIyJTJDJTBBJTIwJTIwJTIwJTIwYXV0aG9ycyUzRCUyMldpZXNjaGUlMkMlMjBNYW51ZWwlMjBhbmQlMjBLcmNtYXIlMkMlMjBIZWxtdXQlMjIlMkMlMEElMjAlMjAlMjAlMjBwbGFjZSUzREZBS0UlMkMlMEElMjAlMjAlMjAlMjBwcCUzRCUyMjE0OS0tMTYxJTIyJTJDJTBBJTIwJTIwJTIwJTIwZW50cnl0eXBlJTNEJTIyaW5wcm9jZWVkaW5ncyUyMiUyQyUwQSUyMCUyMCUyMCUyMHNlcmllcyUzRCUyMlNJR1NJTS1DUFIlMjAlMjcxNCUyMiUyQyUwQSUyMCUyMCUyMCUyMGlzYm4lM0QlMjI5NzgtMS00NTAzLTI2MjUtNCUyMiUyQyUwQSUyMCUyMCUyMCUyMGxvY2F0aW9uJTNEJTIyU2luZ2Fwb3JlJTJDJTIwU2luZ2Fwb3JlJTIyJTJDJTBBJTIwJTIwJTIwJTIwbnVtcGFnZXMlM0QlMjIxMyUyMiUyQyUwQSUyMCUyMCUyMCUyMGxpbmslM0QlMjJodHRwJTNBLy9kb2kuYWNtLm9yZy8xMC4xMTQ1LzI1OTk5OTAuMjYwMDAxMiUyMiUyQyUwQSUyMCUyMCUyMCUyMGRvaSUzRCUyMjEwLjExNDUvMjU5OTk5MC4yNjAwMDEyJTIyJTJDJTBBJTIwJTIwJTIwJTIwYWNtaWQlM0QlMjIyNjAwMDEyJTIyJTJDJTBBJTIwJTIwJTIwJTIwcHVibGlzaGVyJTNEJTIyQUNNJTIyJTJDJTBBJTIwJTIwJTIwJTIwYWRkcmVzcyUzRCUyMk5ldyUyMFlvcmslMkMlMjBOWSUyQyUyMFVTQSUyMiUyQyUwQSUyMCUyMCUyMCUyMGtleXdvcmQlM0QlMjJiaWclMjA1JTIwcGVyc29uYWxpdHklMjBkaW1lbnNpb25zJTJDJTIwZGlzcG9zaXRpb24lMkMlMjBmaXZlJTIwZmFjdG9ycyUyMG1vZGVsJTIwJTI4ZmZtJTI5JTJDJTIwam9iJTIwZGlhZ25vc3RpYyUyMHN1cnZleSUyMCUyOGpkcyUyOSUyQyUyMGxpdGVyYXR1cmUlMjByZXZpZXclMkMlMjBteWVycy1icmlnZ3MlMjB0eXBlJTIwaW5kaWNhdG9yJTIwJTI4bWJ0aSUyOSUyQyUyMHBlcnNvbmFsaXR5JTJDJTIwc29mdHdhcmUlMjBlbmdpbmVlcmluZyUyMiUyQyUwQSUyMCUyMCUyMCUyMElEJTNEJTIyV2llc2NoZSUzQTIwMTQlM0FSUE0lM0EyNTk5OTkwLjI2MDAwMTIlMjIlMkMlMEElMjAlMjAlMjAlMjBhY20yMDE1JTNEJTIyMSUyMiUyQyUwQSUyMCUyMCUyMCUyMHBsYWNleCUzRCUyMlByb2NlZWRpbmdzJTIwb2YlMjB0aGUlMjA1Mk5kJTIwQUNNJTIwQ29uZmVyZW5jZSUyMG9uJTIwQ29tcHV0ZXJzJTIwYW5kJTIwUGVvcGxlJTIwUmVzZWFyY2glMjIlMkMlMEElMjklMjklMEElMjclMjclMjclMjklM0I=\")));\n",
       "    "
      ],
      "text/plain": [
       "<IPython.core.display.Javascript object>"
      ]
     },
     "metadata": {},
     "output_type": "display_data"
    },
    {
     "data": {
      "application/javascript": [
       "$('span:contains(\"# Temp\")').closest('.cell').remove();"
      ],
      "text/plain": [
       "<IPython.core.display.Javascript object>"
      ]
     },
     "metadata": {},
     "output_type": "display_data"
    },
    {
     "data": {
      "application/javascript": [
       "\n",
       "        $('span:contains(\"# Temp\")').closest('.cell').remove();\n",
       "        var code = IPython.notebook.insert_cell_below('code');\n",
       "        code.set_text(decodeURIComponent(window.atob(\"JTIzJTIwVGVtcCUwQWluc2VydCUyOCUyNyUyNyUyNyUwQXdhcmQxOTk5YSUyMCUzRCUyMERCJTI4V29ya1VucmVsYXRlZCUyOCUwQSUyMCUyMCUyMCUyMDE5OTklMkMlMjAlMjJTb21lJTIwT2JzZXJ2YXRpb25zJTIwb24lMjBTb2Z0d2FyZSUyMFF1YWxpdHklMjIlMkMlMEElMjAlMjAlMjAlMjBkaXNwbGF5JTNEJTIyd2FyZCUyMiUyQyUwQSUyMCUyMCUyMCUyMGF1dGhvcnMlM0QlMjJXYXJkJTJDSnIuJTJDJTIwV2lsbGlhbSUyMEElMjBhbmQlMjBWZW5rYXRhcmFtYW4lMkMlMjBCLiUyMiUyQyUwQSUyMCUyMCUyMCUyMHBsYWNlJTNERkFLRSUyQyUwQSUyMCUyMCUyMCUyMGVudHJ5dHlwZSUzRCUyMmlucHJvY2VlZGluZ3MlMjIlMkMlMEElMjAlMjAlMjAlMjBzZXJpZXMlM0QlMjJBQ00tU0UlMjAzNyUyMiUyQyUwQSUyMCUyMCUyMCUyMGlzYm4lM0QlMjIxLTU4MTEzLTEyOC0zJTIyJTJDJTBBJTIwJTIwJTIwJTIwYXJ0aWNsZW5vJTNEJTIyMiUyMiUyQyUwQSUyMCUyMCUyMCUyMGxpbmslM0QlMjJodHRwJTNBLy9kb2kuYWNtLm9yZy8xMC4xMTQ1LzMwNjM2My4zMDYzNjclMjIlMkMlMEElMjAlMjAlMjAlMjBkb2klM0QlMjIxMC4xMTQ1LzMwNjM2My4zMDYzNjclMjIlMkMlMEElMjAlMjAlMjAlMjBhY21pZCUzRCUyMjMwNjM2NyUyMiUyQyUwQSUyMCUyMCUyMCUyMHB1Ymxpc2hlciUzRCUyMkFDTSUyMiUyQyUwQSUyMCUyMCUyMCUyMGFkZHJlc3MlM0QlMjJOZXclMjBZb3JrJTJDJTIwTlklMkMlMjBVU0ElMjIlMkMlMEElMjAlMjAlMjAlMjBJRCUzRCUyMldhcmQlM0ExOTk5JTNBT1NRJTNBMzA2MzYzLjMwNjM2NyUyMiUyQyUwQSUyMCUyMCUyMCUyMGFjbTIwMTUlM0QlMjIxJTIyJTJDJTBBJTIwJTIwJTIwJTIwcGxhY2V4JTNEJTIyUHJvY2VlZGluZ3MlMjBvZiUyMHRoZSUyMDM3dGglMjBBbm51YWwlMjBTb3V0aGVhc3QlMjBSZWdpb25hbCUyMENvbmZlcmVuY2UlMjAlMjhDRC1ST00lMjklMjIlMkMlMEElMjklMjklMEElMjclMjclMjclMjklM0I=\")));\n",
       "    "
      ],
      "text/plain": [
       "<IPython.core.display.Javascript object>"
      ]
     },
     "metadata": {},
     "output_type": "display_data"
    },
    {
     "data": {
      "application/javascript": [
       "$('span:contains(\"# Temp\")').closest('.cell').remove();"
      ],
      "text/plain": [
       "<IPython.core.display.Javascript object>"
      ]
     },
     "metadata": {},
     "output_type": "display_data"
    },
    {
     "data": {
      "application/javascript": [
       "\n",
       "        $('span:contains(\"# Temp\")').closest('.cell').remove();\n",
       "        var code = IPython.notebook.insert_cell_below('code');\n",
       "        code.set_text(decodeURIComponent(window.atob(\"JTIzJTIwVGVtcCUwQWluc2VydCUyOCUyNyUyNyUyNyUwQXdhcmQxOTk5YSUyMCUzRCUyMERCJTI4V29ya1VucmVsYXRlZCUyOCUwQSUyMCUyMCUyMCUyMDE5OTklMkMlMjAlMjJTb21lJTIwT2JzZXJ2YXRpb25zJTIwb24lMjBTb2Z0d2FyZSUyMFF1YWxpdHklMjIlMkMlMEElMjAlMjAlMjAlMjBkaXNwbGF5JTNEJTIyd2FyZCUyMiUyQyUwQSUyMCUyMCUyMCUyMGF1dGhvcnMlM0QlMjJXYXJkJTJDSnIuJTJDJTIwV2lsbGlhbSUyMEElMjBhbmQlMjBWZW5rYXRhcmFtYW4lMkMlMjBCLiUyMiUyQyUwQSUyMCUyMCUyMCUyMHBsYWNlJTNERkFLRSUyQyUwQSUyMCUyMCUyMCUyMGVudHJ5dHlwZSUzRCUyMmlucHJvY2VlZGluZ3MlMjIlMkMlMEElMjAlMjAlMjAlMjBzZXJpZXMlM0QlMjJBQ00tU0UlMjAzNyUyMiUyQyUwQSUyMCUyMCUyMCUyMGlzYm4lM0QlMjIxLTU4MTEzLTEyOC0zJTIyJTJDJTBBJTIwJTIwJTIwJTIwYXJ0aWNsZW5vJTNEJTIyMiUyMiUyQyUwQSUyMCUyMCUyMCUyMGxpbmslM0QlMjJodHRwJTNBLy9kb2kuYWNtLm9yZy8xMC4xMTQ1LzMwNjM2My4zMDYzNjclMjIlMkMlMEElMjAlMjAlMjAlMjBkb2klM0QlMjIxMC4xMTQ1LzMwNjM2My4zMDYzNjclMjIlMkMlMEElMjAlMjAlMjAlMjBhY21pZCUzRCUyMjMwNjM2NyUyMiUyQyUwQSUyMCUyMCUyMCUyMHB1Ymxpc2hlciUzRCUyMkFDTSUyMiUyQyUwQSUyMCUyMCUyMCUyMGFkZHJlc3MlM0QlMjJOZXclMjBZb3JrJTJDJTIwTlklMkMlMjBVU0ElMjIlMkMlMEElMjAlMjAlMjAlMjBJRCUzRCUyMldhcmQlM0ExOTk5JTNBT1NRJTNBMzA2MzYzLjMwNjM2NyUyMiUyQyUwQSUyMCUyMCUyMCUyMGFjbTIwMTUlM0QlMjIxJTIyJTJDJTBBJTIwJTIwJTIwJTIwcGxhY2V4JTNEJTIyUHJvY2VlZGluZ3MlMjBvZiUyMHRoZSUyMDM3dGglMjBBbm51YWwlMjBTb3V0aGVhc3QlMjBSZWdpb25hbCUyMENvbmZlcmVuY2UlMjAlMjhDRC1ST00lMjklMjIlMkMlMEElMjklMjklMEElMjclMjclMjclMjklM0I=\")));\n",
       "    "
      ],
      "text/plain": [
       "<IPython.core.display.Javascript object>"
      ]
     },
     "metadata": {},
     "output_type": "display_data"
    },
    {
     "data": {
      "application/javascript": [
       "$('span:contains(\"# Temp\")').closest('.cell').remove();"
      ],
      "text/plain": [
       "<IPython.core.display.Javascript object>"
      ]
     },
     "metadata": {},
     "output_type": "display_data"
    },
    {
     "data": {
      "application/javascript": [
       "\n",
       "        $('span:contains(\"# Temp\")').closest('.cell').remove();\n",
       "        var code = IPython.notebook.insert_cell_below('code');\n",
       "        code.set_text(decodeURIComponent(window.atob(\"JTIzJTIwVGVtcCUwQWluc2VydCUyOCUyNyUyNyUyNyUwQW5hamFyMjAwOWElMjAlM0QlMjBEQiUyOFdvcmtVbnJlbGF0ZWQlMjglMEElMjAlMjAlMjAlMjAyMDA5JTJDJTIwJTIyU2VtYW50aWMlMjBSZXByZXNlbnRhdGlvbiUyMG9mJTIwQ29udGV4dCUyME1vZGVscyUzQSUyMEElMjBGcmFtZXdvcmslMjBmb3IlMjBBbmFseXppbmclMjBhbmQlMjBVbmRlcnN0YW5kaW5nJTIyJTJDJTBBJTIwJTIwJTIwJTIwZGlzcGxheSUzRCUyMm5hamFyJTIyJTJDJTBBJTIwJTIwJTIwJTIwYXV0aG9ycyUzRCUyMk5hamFyJTJDJTIwU2FsbWElMjBhbmQlMjBTYWlkYW5pJTJDJTIwT3VtYWltYSUyMGFuZCUyMEtpcnNjaC1QaW5oZWlybyUyQyUyME1hbnVlbGUlMjBhbmQlMjBTb3V2ZXlldCUyQyUyMENhcmluZSUyMGFuZCUyME51cmNhbiUyQyUyMFNlbG1pbiUyMiUyQyUwQSUyMCUyMCUyMCUyMHBsYWNlJTNERkFLRSUyQyUwQSUyMCUyMCUyMCUyMHBwJTNEJTIyNiUzQTEtLTYlM0ExMCUyMiUyQyUwQSUyMCUyMCUyMCUyMGVudHJ5dHlwZSUzRCUyMmlucHJvY2VlZGluZ3MlMjIlMkMlMEElMjAlMjAlMjAlMjBzZXJpZXMlM0QlMjJDSUFPJTIwJTI3MDklMjIlMkMlMEElMjAlMjAlMjAlMjBpc2JuJTNEJTIyOTc4LTEtNjA1NTgtNTI4LTQlMjIlMkMlMEElMjAlMjAlMjAlMjBsb2NhdGlvbiUzRCUyMkhlcmFrbGlvbiUyQyUyMEdyZWVjZSUyMiUyQyUwQSUyMCUyMCUyMCUyMGFydGljbGVubyUzRCUyMjYlMjIlMkMlMEElMjAlMjAlMjAlMjBudW1wYWdlcyUzRCUyMjEwJTIyJTJDJTBBJTIwJTIwJTIwJTIwbGluayUzRCUyMmh0dHAlM0EvL2RvaS5hY20ub3JnLzEwLjExNDUvMTU1MjI2Mi4xNTUyMjY4JTIyJTJDJTBBJTIwJTIwJTIwJTIwZG9pJTNEJTIyMTAuMTE0NS8xNTUyMjYyLjE1NTIyNjglMjIlMkMlMEElMjAlMjAlMjAlMjBhY21pZCUzRCUyMjE1NTIyNjglMjIlMkMlMEElMjAlMjAlMjAlMjBwdWJsaXNoZXIlM0QlMjJBQ00lMjIlMkMlMEElMjAlMjAlMjAlMjBhZGRyZXNzJTNEJTIyTmV3JTIwWW9yayUyQyUyME5ZJTJDJTIwVVNBJTIyJTJDJTBBJTIwJTIwJTIwJTIwa2V5d29yZCUzRCUyMmJ1c2luZXNzZXMlMjBwcm9jZXNzJTJDJTIwY29udGV4dCUyMG1vZGVsaW5nJTJDJTIwY29udGV4dC1hd2FyZSUyMGNvbXB1dGluZyUyQyUyMG9udG9sb2d5JTIyJTJDJTBBJTIwJTIwJTIwJTIwSUQlM0QlMjJOYWphciUzQTIwMDklM0FTUkMlM0ExNTUyMjYyLjE1NTIyNjglMjIlMkMlMEElMjAlMjAlMjAlMjBhY20yMDE1JTNEJTIyMSUyMiUyQyUwQSUyMCUyMCUyMCUyMHBsYWNleCUzRCUyMlByb2NlZWRpbmdzJTIwb2YlMjB0aGUlMjAxc3QlMjBXb3Jrc2hvcCUyMG9uJTIwQ29udGV4dCUyQyUyMEluZm9ybWF0aW9uJTIwYW5kJTIwT250b2xvZ2llcyUyMiUyQyUwQSUyOSUyOSUwQSUyNyUyNyUyNyUyOSUzQg==\")));\n",
       "    "
      ],
      "text/plain": [
       "<IPython.core.display.Javascript object>"
      ]
     },
     "metadata": {},
     "output_type": "display_data"
    },
    {
     "data": {
      "application/javascript": [
       "$('span:contains(\"# Temp\")').closest('.cell').remove();"
      ],
      "text/plain": [
       "<IPython.core.display.Javascript object>"
      ]
     },
     "metadata": {},
     "output_type": "display_data"
    },
    {
     "data": {
      "application/javascript": [
       "\n",
       "        $('span:contains(\"# Temp\")').closest('.cell').remove();\n",
       "        var code = IPython.notebook.insert_cell_below('code');\n",
       "        code.set_text(decodeURIComponent(window.atob(\"JTIzJTIwVGVtcCUwQWluc2VydCUyOCUyNyUyNyUyNyUwQW5hamFyMjAwOWElMjAlM0QlMjBEQiUyOFdvcmtVbnJlbGF0ZWQlMjglMEElMjAlMjAlMjAlMjAyMDA5JTJDJTIwJTIyU2VtYW50aWMlMjBSZXByZXNlbnRhdGlvbiUyMG9mJTIwQ29udGV4dCUyME1vZGVscyUzQSUyMEElMjBGcmFtZXdvcmslMjBmb3IlMjBBbmFseXppbmclMjBhbmQlMjBVbmRlcnN0YW5kaW5nJTIyJTJDJTBBJTIwJTIwJTIwJTIwZGlzcGxheSUzRCUyMm5hamFyJTIyJTJDJTBBJTIwJTIwJTIwJTIwYXV0aG9ycyUzRCUyMk5hamFyJTJDJTIwU2FsbWElMjBhbmQlMjBTYWlkYW5pJTJDJTIwT3VtYWltYSUyMGFuZCUyMEtpcnNjaC1QaW5oZWlybyUyQyUyME1hbnVlbGUlMjBhbmQlMjBTb3V2ZXlldCUyQyUyMENhcmluZSUyMGFuZCUyME51cmNhbiUyQyUyMFNlbG1pbiUyMiUyQyUwQSUyMCUyMCUyMCUyMHBsYWNlJTNERkFLRSUyQyUwQSUyMCUyMCUyMCUyMHBwJTNEJTIyNiUzQTEtLTYlM0ExMCUyMiUyQyUwQSUyMCUyMCUyMCUyMGVudHJ5dHlwZSUzRCUyMmlucHJvY2VlZGluZ3MlMjIlMkMlMEElMjAlMjAlMjAlMjBzZXJpZXMlM0QlMjJDSUFPJTIwJTI3MDklMjIlMkMlMEElMjAlMjAlMjAlMjBpc2JuJTNEJTIyOTc4LTEtNjA1NTgtNTI4LTQlMjIlMkMlMEElMjAlMjAlMjAlMjBsb2NhdGlvbiUzRCUyMkhlcmFrbGlvbiUyQyUyMEdyZWVjZSUyMiUyQyUwQSUyMCUyMCUyMCUyMGFydGljbGVubyUzRCUyMjYlMjIlMkMlMEElMjAlMjAlMjAlMjBudW1wYWdlcyUzRCUyMjEwJTIyJTJDJTBBJTIwJTIwJTIwJTIwbGluayUzRCUyMmh0dHAlM0EvL2RvaS5hY20ub3JnLzEwLjExNDUvMTU1MjI2Mi4xNTUyMjY4JTIyJTJDJTBBJTIwJTIwJTIwJTIwZG9pJTNEJTIyMTAuMTE0NS8xNTUyMjYyLjE1NTIyNjglMjIlMkMlMEElMjAlMjAlMjAlMjBhY21pZCUzRCUyMjE1NTIyNjglMjIlMkMlMEElMjAlMjAlMjAlMjBwdWJsaXNoZXIlM0QlMjJBQ00lMjIlMkMlMEElMjAlMjAlMjAlMjBhZGRyZXNzJTNEJTIyTmV3JTIwWW9yayUyQyUyME5ZJTJDJTIwVVNBJTIyJTJDJTBBJTIwJTIwJTIwJTIwa2V5d29yZCUzRCUyMmJ1c2luZXNzZXMlMjBwcm9jZXNzJTJDJTIwY29udGV4dCUyMG1vZGVsaW5nJTJDJTIwY29udGV4dC1hd2FyZSUyMGNvbXB1dGluZyUyQyUyMG9udG9sb2d5JTIyJTJDJTBBJTIwJTIwJTIwJTIwSUQlM0QlMjJOYWphciUzQTIwMDklM0FTUkMlM0ExNTUyMjYyLjE1NTIyNjglMjIlMkMlMEElMjAlMjAlMjAlMjBhY20yMDE1JTNEJTIyMSUyMiUyQyUwQSUyMCUyMCUyMCUyMHBsYWNleCUzRCUyMlByb2NlZWRpbmdzJTIwb2YlMjB0aGUlMjAxc3QlMjBXb3Jrc2hvcCUyMG9uJTIwQ29udGV4dCUyQyUyMEluZm9ybWF0aW9uJTIwYW5kJTIwT250b2xvZ2llcyUyMiUyQyUwQSUyOSUyOSUwQSUyNyUyNyUyNyUyOSUzQg==\")));\n",
       "    "
      ],
      "text/plain": [
       "<IPython.core.display.Javascript object>"
      ]
     },
     "metadata": {},
     "output_type": "display_data"
    },
    {
     "data": {
      "application/javascript": [
       "$('span:contains(\"# Temp\")').closest('.cell').remove();"
      ],
      "text/plain": [
       "<IPython.core.display.Javascript object>"
      ]
     },
     "metadata": {},
     "output_type": "display_data"
    },
    {
     "data": {
      "application/javascript": [
       "\n",
       "        $('span:contains(\"# Temp\")').closest('.cell').remove();\n",
       "        var code = IPython.notebook.insert_cell_below('code');\n",
       "        code.set_text(decodeURIComponent(window.atob(\"JTIzJTIwVGVtcCUwQWluc2VydCUyOCUyNyUyNyUyNyUwQWJvZXIyMDA5YSUyMCUzRCUyMERCJTI4V29ya1VucmVsYXRlZCUyOCUwQSUyMCUyMCUyMCUyMDIwMDklMkMlMjAlMjJXcml0aW5nJTIwYW5kJTIwUmVhZGluZyUyMFNvZnR3YXJlJTIwRG9jdW1lbnRhdGlvbiUzQSUyMEhvdyUyMHRoZSUyMERldmVsb3BtZW50JTIwUHJvY2VzcyUyME1heSUyMEFmZmVjdCUyMFVuZGVyc3RhbmRpbmclMjIlMkMlMEElMjAlMjAlMjAlMjBkaXNwbGF5JTNEJTIyYm9lciUyMiUyQyUwQSUyMCUyMCUyMCUyMGF1dGhvcnMlM0QlMjJkZSUyMEJvZXIlMkMlMjBSZW1jbyUyMEMuJTIwYW5kJTIwdmFuJTIwVmxpZXQlMkMlMjBIYW5zJTIyJTJDJTBBJTIwJTIwJTIwJTIwcGxhY2UlM0RGQUtFJTJDJTBBJTIwJTIwJTIwJTIwcHAlM0QlMjI0MC0tNDclMjIlMkMlMEElMjAlMjAlMjAlMjBlbnRyeXR5cGUlM0QlMjJpbnByb2NlZWRpbmdzJTIyJTJDJTBBJTIwJTIwJTIwJTIwc2VyaWVzJTNEJTIyQ0hBU0UlMjAlMjcwOSUyMiUyQyUwQSUyMCUyMCUyMCUyMGlzYm4lM0QlMjI5NzgtMS00MjQ0LTM3MTItMiUyMiUyQyUwQSUyMCUyMCUyMCUyMG51bXBhZ2VzJTNEJTIyOCUyMiUyQyUwQSUyMCUyMCUyMCUyMGxpbmslM0QlMjJodHRwJTNBLy9keC5kb2kub3JnLzEwLjExMDkvQ0hBU0UuMjAwOS41MDcxNDA5JTIyJTJDJTBBJTIwJTIwJTIwJTIwZG9pJTNEJTIyMTAuMTEwOS9DSEFTRS4yMDA5LjUwNzE0MDklMjIlMkMlMEElMjAlMjAlMjAlMjBhY21pZCUzRCUyMjE1NzIyMTIlMjIlMkMlMEElMjAlMjAlMjAlMjBwdWJsaXNoZXIlM0QlMjJJRUVFJTIwQ29tcHV0ZXIlMjBTb2NpZXR5JTIyJTJDJTBBJTIwJTIwJTIwJTIwYWRkcmVzcyUzRCUyMldhc2hpbmd0b24lMkMlMjBEQyUyQyUyMFVTQSUyMiUyQyUwQSUyMCUyMCUyMCUyMElEJTNEJTIyZGVCb2VyJTNBMjAwOSUzQVdSUyUzQTE1NzIxOTMuMTU3MjIxMiUyMiUyQyUwQSUyMCUyMCUyMCUyMGFjbTIwMTUlM0QlMjIxJTIyJTJDJTBBJTIwJTIwJTIwJTIwcGxhY2V4JTNEJTIyUHJvY2VlZGluZ3MlMjBvZiUyMHRoZSUyMDIwMDklMjBJQ1NFJTIwV29ya3Nob3AlMjBvbiUyMENvb3BlcmF0aXZlJTIwYW5kJTIwSHVtYW4lMjBBc3BlY3RzJTIwb24lMjBTb2Z0d2FyZSUyMEVuZ2luZWVyaW5nJTIyJTJDJTBBJTI5JTI5JTBBJTI3JTI3JTI3JTI5JTNC\")));\n",
       "    "
      ],
      "text/plain": [
       "<IPython.core.display.Javascript object>"
      ]
     },
     "metadata": {},
     "output_type": "display_data"
    },
    {
     "data": {
      "application/javascript": [
       "$('span:contains(\"# Temp\")').closest('.cell').remove();"
      ],
      "text/plain": [
       "<IPython.core.display.Javascript object>"
      ]
     },
     "metadata": {},
     "output_type": "display_data"
    },
    {
     "data": {
      "application/javascript": [
       "\n",
       "        $('span:contains(\"# Temp\")').closest('.cell').remove();\n",
       "        var code = IPython.notebook.insert_cell_below('code');\n",
       "        code.set_text(decodeURIComponent(window.atob(\"JTIzJTIwVGVtcCUwQWluc2VydCUyOCUyNyUyNyUyNyUwQWJvZXIyMDA5YSUyMCUzRCUyMERCJTI4V29ya1VucmVsYXRlZCUyOCUwQSUyMCUyMCUyMCUyMDIwMDklMkMlMjAlMjJXcml0aW5nJTIwYW5kJTIwUmVhZGluZyUyMFNvZnR3YXJlJTIwRG9jdW1lbnRhdGlvbiUzQSUyMEhvdyUyMHRoZSUyMERldmVsb3BtZW50JTIwUHJvY2VzcyUyME1heSUyMEFmZmVjdCUyMFVuZGVyc3RhbmRpbmclMjIlMkMlMEElMjAlMjAlMjAlMjBkaXNwbGF5JTNEJTIyYm9lciUyMiUyQyUwQSUyMCUyMCUyMCUyMGF1dGhvcnMlM0QlMjJkZSUyMEJvZXIlMkMlMjBSZW1jbyUyMEMuJTIwYW5kJTIwdmFuJTIwVmxpZXQlMkMlMjBIYW5zJTIyJTJDJTBBJTIwJTIwJTIwJTIwcGxhY2UlM0RGQUtFJTJDJTBBJTIwJTIwJTIwJTIwcHAlM0QlMjI0MC0tNDclMjIlMkMlMEElMjAlMjAlMjAlMjBlbnRyeXR5cGUlM0QlMjJpbnByb2NlZWRpbmdzJTIyJTJDJTBBJTIwJTIwJTIwJTIwc2VyaWVzJTNEJTIyQ0hBU0UlMjAlMjcwOSUyMiUyQyUwQSUyMCUyMCUyMCUyMGlzYm4lM0QlMjI5NzgtMS00MjQ0LTM3MTItMiUyMiUyQyUwQSUyMCUyMCUyMCUyMG51bXBhZ2VzJTNEJTIyOCUyMiUyQyUwQSUyMCUyMCUyMCUyMGxpbmslM0QlMjJodHRwJTNBLy9keC5kb2kub3JnLzEwLjExMDkvQ0hBU0UuMjAwOS41MDcxNDA5JTIyJTJDJTBBJTIwJTIwJTIwJTIwZG9pJTNEJTIyMTAuMTEwOS9DSEFTRS4yMDA5LjUwNzE0MDklMjIlMkMlMEElMjAlMjAlMjAlMjBhY21pZCUzRCUyMjE1NzIyMTIlMjIlMkMlMEElMjAlMjAlMjAlMjBwdWJsaXNoZXIlM0QlMjJJRUVFJTIwQ29tcHV0ZXIlMjBTb2NpZXR5JTIyJTJDJTBBJTIwJTIwJTIwJTIwYWRkcmVzcyUzRCUyMldhc2hpbmd0b24lMkMlMjBEQyUyQyUyMFVTQSUyMiUyQyUwQSUyMCUyMCUyMCUyMElEJTNEJTIyZGVCb2VyJTNBMjAwOSUzQVdSUyUzQTE1NzIxOTMuMTU3MjIxMiUyMiUyQyUwQSUyMCUyMCUyMCUyMGFjbTIwMTUlM0QlMjIxJTIyJTJDJTBBJTIwJTIwJTIwJTIwcGxhY2V4JTNEJTIyUHJvY2VlZGluZ3MlMjBvZiUyMHRoZSUyMDIwMDklMjBJQ1NFJTIwV29ya3Nob3AlMjBvbiUyMENvb3BlcmF0aXZlJTIwYW5kJTIwSHVtYW4lMjBBc3BlY3RzJTIwb24lMjBTb2Z0d2FyZSUyMEVuZ2luZWVyaW5nJTIyJTJDJTBBJTI5JTI5JTBBJTI3JTI3JTI3JTI5JTNC\")));\n",
       "    "
      ],
      "text/plain": [
       "<IPython.core.display.Javascript object>"
      ]
     },
     "metadata": {},
     "output_type": "display_data"
    },
    {
     "data": {
      "application/javascript": [
       "$('span:contains(\"# Temp\")').closest('.cell').remove();"
      ],
      "text/plain": [
       "<IPython.core.display.Javascript object>"
      ]
     },
     "metadata": {},
     "output_type": "display_data"
    },
    {
     "data": {
      "application/javascript": [
       "\n",
       "        $('span:contains(\"# Temp\")').closest('.cell').remove();\n",
       "        var code = IPython.notebook.insert_cell_below('code');\n",
       "        code.set_text(decodeURIComponent(window.atob(\"JTIzJTIwVGVtcCUwQWluc2VydCUyOCUyNyUyNyUyNyUwQWxlZTIwMTBiJTIwJTNEJTIwREIlMjhXb3JrVW5yZWxhdGVkJTI4JTBBJTIwJTIwJTIwJTIwMjAxMCUyQyUyMCUyMk9wdGltaXppbmclMjBJVCUyMFByb2Nlc3MlMjBNYW5hZ2VtZW50JTIyJTJDJTBBJTIwJTIwJTIwJTIwZGlzcGxheSUzRCUyMmxlZSUyMGIlMjIlMkMlMEElMjAlMjAlMjAlMjBhdXRob3JzJTNEJTIyVG9ueSUyMExlZSUyQyUyMFRvbnklMjIlMkMlMEElMjAlMjAlMjAlMjBwbGFjZSUzREZBS0UlMkMlMEElMjAlMjAlMjAlMjBwcCUzRCUyMjEtLTEwJTIyJTJDJTBBJTIwJTIwJTIwJTIwZW50cnl0eXBlJTNEJTIyYXJ0aWNsZSUyMiUyQyUwQSUyMCUyMCUyMCUyMGlzc3VlX2RhdGUlM0QlMjJKdWx5JTIwMjAxMCUyMiUyQyUwQSUyMCUyMCUyMCUyMHZvbHVtZSUzRCUyMjM1JTIyJTJDJTBBJTIwJTIwJTIwJTIwbnVtYmVyJTNEJTIyNCUyMiUyQyUwQSUyMCUyMCUyMCUyMG1vbnRoJTNEJTIyanVsJTIyJTJDJTBBJTIwJTIwJTIwJTIwaXNzbiUzRCUyMjAxNjMtNTk0OCUyMiUyQyUwQSUyMCUyMCUyMCUyMG51bXBhZ2VzJTNEJTIyMTAlMjIlMkMlMEElMjAlMjAlMjAlMjBsaW5rJTNEJTIyaHR0cCUzQS8vZG9pLmFjbS5vcmcvMTAuMTE0NS8xODExMjI2LjE4MTEyMzIlMjIlMkMlMEElMjAlMjAlMjAlMjBkb2klM0QlMjIxMC4xMTQ1LzE4MTEyMjYuMTgxMTIzMiUyMiUyQyUwQSUyMCUyMCUyMCUyMGFjbWlkJTNEJTIyMTgxMTIzMiUyMiUyQyUwQSUyMCUyMCUyMCUyMHB1Ymxpc2hlciUzRCUyMkFDTSUyMiUyQyUwQSUyMCUyMCUyMCUyMGFkZHJlc3MlM0QlMjJOZXclMjBZb3JrJTJDJTIwTlklMkMlMjBVU0ElMjIlMkMlMEElMjAlMjAlMjAlMjBrZXl3b3JkJTNEJTIySVQlMjBwcm9jZXNzJTIwbWFuYWdlbWVudCUyMiUyQyUwQSUyMCUyMCUyMCUyMElEJTNEJTIyVG9ueUxlZSUzQTIwMTAlM0FPUE0lM0ExODExMjI2LjE4MTEyMzIlMjIlMkMlMEElMjAlMjAlMjAlMjBhY20yMDE1JTNEJTIyMSUyMiUyQyUwQSUyMCUyMCUyMCUyMHBsYWNleCUzRCUyMlNJR1NPRlQlMjBTb2Z0dy4lMjBFbmcuJTIwTm90ZXMlMjIlMkMlMEElMjklMjklMEElMjclMjclMjclMjklM0I=\")));\n",
       "    "
      ],
      "text/plain": [
       "<IPython.core.display.Javascript object>"
      ]
     },
     "metadata": {},
     "output_type": "display_data"
    },
    {
     "data": {
      "application/javascript": [
       "$('span:contains(\"# Temp\")').closest('.cell').remove();"
      ],
      "text/plain": [
       "<IPython.core.display.Javascript object>"
      ]
     },
     "metadata": {},
     "output_type": "display_data"
    },
    {
     "data": {
      "application/javascript": [
       "\n",
       "        $('span:contains(\"# Temp\")').closest('.cell').remove();\n",
       "        var code = IPython.notebook.insert_cell_below('code');\n",
       "        code.set_text(decodeURIComponent(window.atob(\"JTIzJTIwVGVtcCUwQWluc2VydCUyOCUyNyUyNyUyNyUwQWxlZTIwMTBiJTIwJTNEJTIwREIlMjhXb3JrVW5yZWxhdGVkJTI4JTBBJTIwJTIwJTIwJTIwMjAxMCUyQyUyMCUyMk9wdGltaXppbmclMjBJVCUyMFByb2Nlc3MlMjBNYW5hZ2VtZW50JTIyJTJDJTBBJTIwJTIwJTIwJTIwZGlzcGxheSUzRCUyMmxlZSUyMGIlMjIlMkMlMEElMjAlMjAlMjAlMjBhdXRob3JzJTNEJTIyVG9ueSUyMExlZSUyQyUyMFRvbnklMjIlMkMlMEElMjAlMjAlMjAlMjBwbGFjZSUzREZBS0UlMkMlMEElMjAlMjAlMjAlMjBwcCUzRCUyMjEtLTEwJTIyJTJDJTBBJTIwJTIwJTIwJTIwZW50cnl0eXBlJTNEJTIyYXJ0aWNsZSUyMiUyQyUwQSUyMCUyMCUyMCUyMGlzc3VlX2RhdGUlM0QlMjJKdWx5JTIwMjAxMCUyMiUyQyUwQSUyMCUyMCUyMCUyMHZvbHVtZSUzRCUyMjM1JTIyJTJDJTBBJTIwJTIwJTIwJTIwbnVtYmVyJTNEJTIyNCUyMiUyQyUwQSUyMCUyMCUyMCUyMG1vbnRoJTNEJTIyanVsJTIyJTJDJTBBJTIwJTIwJTIwJTIwaXNzbiUzRCUyMjAxNjMtNTk0OCUyMiUyQyUwQSUyMCUyMCUyMCUyMG51bXBhZ2VzJTNEJTIyMTAlMjIlMkMlMEElMjAlMjAlMjAlMjBsaW5rJTNEJTIyaHR0cCUzQS8vZG9pLmFjbS5vcmcvMTAuMTE0NS8xODExMjI2LjE4MTEyMzIlMjIlMkMlMEElMjAlMjAlMjAlMjBkb2klM0QlMjIxMC4xMTQ1LzE4MTEyMjYuMTgxMTIzMiUyMiUyQyUwQSUyMCUyMCUyMCUyMGFjbWlkJTNEJTIyMTgxMTIzMiUyMiUyQyUwQSUyMCUyMCUyMCUyMHB1Ymxpc2hlciUzRCUyMkFDTSUyMiUyQyUwQSUyMCUyMCUyMCUyMGFkZHJlc3MlM0QlMjJOZXclMjBZb3JrJTJDJTIwTlklMkMlMjBVU0ElMjIlMkMlMEElMjAlMjAlMjAlMjBrZXl3b3JkJTNEJTIySVQlMjBwcm9jZXNzJTIwbWFuYWdlbWVudCUyMiUyQyUwQSUyMCUyMCUyMCUyMElEJTNEJTIyVG9ueUxlZSUzQTIwMTAlM0FPUE0lM0ExODExMjI2LjE4MTEyMzIlMjIlMkMlMEElMjAlMjAlMjAlMjBhY20yMDE1JTNEJTIyMSUyMiUyQyUwQSUyMCUyMCUyMCUyMHBsYWNleCUzRCUyMlNJR1NPRlQlMjBTb2Z0dy4lMjBFbmcuJTIwTm90ZXMlMjIlMkMlMEElMjklMjklMEElMjclMjclMjclMjklM0I=\")));\n",
       "    "
      ],
      "text/plain": [
       "<IPython.core.display.Javascript object>"
      ]
     },
     "metadata": {},
     "output_type": "display_data"
    },
    {
     "data": {
      "application/javascript": [
       "$('span:contains(\"# Temp\")').closest('.cell').remove();"
      ],
      "text/plain": [
       "<IPython.core.display.Javascript object>"
      ]
     },
     "metadata": {},
     "output_type": "display_data"
    },
    {
     "data": {
      "application/javascript": [
       "\n",
       "        $('span:contains(\"# Temp\")').closest('.cell').remove();\n",
       "        var code = IPython.notebook.insert_cell_below('code');\n",
       "        code.set_text(decodeURIComponent(window.atob(\"JTIzJTIwVGVtcCUwQWluc2VydCUyOCUyNyUyNyUyNyUwQXNjYWNjaGkyMDA3YiUyMCUzRCUyMERCJTI4V29ya1VucmVsYXRlZCUyOCUwQSUyMCUyMCUyMCUyMDIwMDclMkMlMjAlMjJGcmVlL09wZW4lMjBTb3VyY2UlMjBTb2Z0d2FyZSUyMERldmVsb3BtZW50JTNBJTIwUmVjZW50JTIwUmVzZWFyY2glMjBSZXN1bHRzJTIwYW5kJTIwRW1lcmdpbmclMjBPcHBvcnR1bml0aWVzJTIyJTJDJTBBJTIwJTIwJTIwJTIwZGlzcGxheSUzRCUyMnNjYWNjaGklMjBiJTIyJTJDJTBBJTIwJTIwJTIwJTIwYXV0aG9ycyUzRCUyMlNjYWNjaGklMkMlMjBXYWx0JTIyJTJDJTBBJTIwJTIwJTIwJTIwcGxhY2UlM0RGQUtFJTJDJTBBJTIwJTIwJTIwJTIwcHAlM0QlMjI0NTktLTQ2OCUyMiUyQyUwQSUyMCUyMCUyMCUyMGVudHJ5dHlwZSUzRCUyMmlucHJvY2VlZGluZ3MlMjIlMkMlMEElMjAlMjAlMjAlMjBzZXJpZXMlM0QlMjJFU0VDLUZTRSUyMGNvbXBhbmlvbiUyMCUyNzA3JTIyJTJDJTBBJTIwJTIwJTIwJTIwaXNibiUzRCUyMjk3OC0xLTU5NTkzLTgxMi0xJTIyJTJDJTBBJTIwJTIwJTIwJTIwbG9jYXRpb24lM0QlMjJEdWJyb3ZuaWslMkMlMjBDcm9hdGlhJTIyJTJDJTBBJTIwJTIwJTIwJTIwbnVtcGFnZXMlM0QlMjIxMCUyMiUyQyUwQSUyMCUyMCUyMCUyMGxpbmslM0QlMjJodHRwJTNBLy9kb2kuYWNtLm9yZy8xMC4xMTQ1LzEyOTUwMTQuMTI5NTAxOSUyMiUyQyUwQSUyMCUyMCUyMCUyMGRvaSUzRCUyMjEwLjExNDUvMTI5NTAxNC4xMjk1MDE5JTIyJTJDJTBBJTIwJTIwJTIwJTIwYWNtaWQlM0QlMjIxMjk1MDE5JTIyJTJDJTBBJTIwJTIwJTIwJTIwcHVibGlzaGVyJTNEJTIyQUNNJTIyJTJDJTBBJTIwJTIwJTIwJTIwYWRkcmVzcyUzRCUyMk5ldyUyMFlvcmslMkMlMjBOWSUyQyUyMFVTQSUyMiUyQyUwQSUyMCUyMCUyMCUyMGtleXdvcmQlM0QlMjJlbXBpcmljYWwlMjBzdHVkaWVzJTJDJTIwZnJlZSUyMHNvZnR3YXJlJTJDJTIwb3BlbiUyMHNvdXJjZSUyMHNvZnR3YXJlJTJDJTIwc29jaW8tdGVjaG5pY2FsJTIwcmVsYXRpb25zaGlwcyUyQyUyMHNvZnR3YXJlJTIwZGV2ZWxvcG1lbnQlMjBwcmFjdGljZXMlMjIlMkMlMEElMjAlMjAlMjAlMjBJRCUzRCUyMlNjYWNjaGklM0EyMDA3JTNBRlNTJTNBMTI5NTAxNC4xMjk1MDE5JTIyJTJDJTBBJTIwJTIwJTIwJTIwYWNtMjAxNSUzRCUyMjElMjIlMkMlMEElMjAlMjAlMjAlMjBwbGFjZXglM0QlMjJUaGUlMjA2dGglMjBKb2ludCUyME1lZXRpbmclMjBvbiUyMEV1cm9wZWFuJTIwU29mdHdhcmUlMjBFbmdpbmVlcmluZyUyMENvbmZlcmVuY2UlMjBhbmQlMjB0aGUlMjBBQ00lMjBTSUdTT0ZUJTIwU3ltcG9zaXVtJTIwb24lMjB0aGUlMjBGb3VuZGF0aW9ucyUyMG9mJTIwU29mdHdhcmUlMjBFbmdpbmVlcmluZyUzQSUyMENvbXBhbmlvbiUyMFBhcGVycyUyMiUyQyUwQSUyOSUyOSUwQSUyNyUyNyUyNyUyOSUzQg==\")));\n",
       "    "
      ],
      "text/plain": [
       "<IPython.core.display.Javascript object>"
      ]
     },
     "metadata": {},
     "output_type": "display_data"
    },
    {
     "data": {
      "application/javascript": [
       "$('span:contains(\"# Temp\")').closest('.cell').remove();"
      ],
      "text/plain": [
       "<IPython.core.display.Javascript object>"
      ]
     },
     "metadata": {},
     "output_type": "display_data"
    },
    {
     "data": {
      "application/javascript": [
       "\n",
       "        $('span:contains(\"# Temp\")').closest('.cell').remove();\n",
       "        var code = IPython.notebook.insert_cell_below('code');\n",
       "        code.set_text(decodeURIComponent(window.atob(\"JTIzJTIwVGVtcCUwQWluc2VydCUyOCUyNyUyNyUyNyUwQXNjYWNjaGkyMDA3YiUyMCUzRCUyMERCJTI4V29ya1VucmVsYXRlZCUyOCUwQSUyMCUyMCUyMCUyMDIwMDclMkMlMjAlMjJGcmVlL09wZW4lMjBTb3VyY2UlMjBTb2Z0d2FyZSUyMERldmVsb3BtZW50JTNBJTIwUmVjZW50JTIwUmVzZWFyY2glMjBSZXN1bHRzJTIwYW5kJTIwRW1lcmdpbmclMjBPcHBvcnR1bml0aWVzJTIyJTJDJTBBJTIwJTIwJTIwJTIwZGlzcGxheSUzRCUyMnNjYWNjaGklMjBiJTIyJTJDJTBBJTIwJTIwJTIwJTIwYXV0aG9ycyUzRCUyMlNjYWNjaGklMkMlMjBXYWx0JTIyJTJDJTBBJTIwJTIwJTIwJTIwcGxhY2UlM0RGQUtFJTJDJTBBJTIwJTIwJTIwJTIwcHAlM0QlMjI0NTktLTQ2OCUyMiUyQyUwQSUyMCUyMCUyMCUyMGVudHJ5dHlwZSUzRCUyMmlucHJvY2VlZGluZ3MlMjIlMkMlMEElMjAlMjAlMjAlMjBzZXJpZXMlM0QlMjJFU0VDLUZTRSUyMGNvbXBhbmlvbiUyMCUyNzA3JTIyJTJDJTBBJTIwJTIwJTIwJTIwaXNibiUzRCUyMjk3OC0xLTU5NTkzLTgxMi0xJTIyJTJDJTBBJTIwJTIwJTIwJTIwbG9jYXRpb24lM0QlMjJEdWJyb3ZuaWslMkMlMjBDcm9hdGlhJTIyJTJDJTBBJTIwJTIwJTIwJTIwbnVtcGFnZXMlM0QlMjIxMCUyMiUyQyUwQSUyMCUyMCUyMCUyMGxpbmslM0QlMjJodHRwJTNBLy9kb2kuYWNtLm9yZy8xMC4xMTQ1LzEyOTUwMTQuMTI5NTAxOSUyMiUyQyUwQSUyMCUyMCUyMCUyMGRvaSUzRCUyMjEwLjExNDUvMTI5NTAxNC4xMjk1MDE5JTIyJTJDJTBBJTIwJTIwJTIwJTIwYWNtaWQlM0QlMjIxMjk1MDE5JTIyJTJDJTBBJTIwJTIwJTIwJTIwcHVibGlzaGVyJTNEJTIyQUNNJTIyJTJDJTBBJTIwJTIwJTIwJTIwYWRkcmVzcyUzRCUyMk5ldyUyMFlvcmslMkMlMjBOWSUyQyUyMFVTQSUyMiUyQyUwQSUyMCUyMCUyMCUyMGtleXdvcmQlM0QlMjJlbXBpcmljYWwlMjBzdHVkaWVzJTJDJTIwZnJlZSUyMHNvZnR3YXJlJTJDJTIwb3BlbiUyMHNvdXJjZSUyMHNvZnR3YXJlJTJDJTIwc29jaW8tdGVjaG5pY2FsJTIwcmVsYXRpb25zaGlwcyUyQyUyMHNvZnR3YXJlJTIwZGV2ZWxvcG1lbnQlMjBwcmFjdGljZXMlMjIlMkMlMEElMjAlMjAlMjAlMjBJRCUzRCUyMlNjYWNjaGklM0EyMDA3JTNBRlNTJTNBMTI5NTAxNC4xMjk1MDE5JTIyJTJDJTBBJTIwJTIwJTIwJTIwYWNtMjAxNSUzRCUyMjElMjIlMkMlMEElMjAlMjAlMjAlMjBwbGFjZXglM0QlMjJUaGUlMjA2dGglMjBKb2ludCUyME1lZXRpbmclMjBvbiUyMEV1cm9wZWFuJTIwU29mdHdhcmUlMjBFbmdpbmVlcmluZyUyMENvbmZlcmVuY2UlMjBhbmQlMjB0aGUlMjBBQ00lMjBTSUdTT0ZUJTIwU3ltcG9zaXVtJTIwb24lMjB0aGUlMjBGb3VuZGF0aW9ucyUyMG9mJTIwU29mdHdhcmUlMjBFbmdpbmVlcmluZyUzQSUyMENvbXBhbmlvbiUyMFBhcGVycyUyMiUyQyUwQSUyOSUyOSUwQSUyNyUyNyUyNyUyOSUzQg==\")));\n",
       "    "
      ],
      "text/plain": [
       "<IPython.core.display.Javascript object>"
      ]
     },
     "metadata": {},
     "output_type": "display_data"
    },
    {
     "data": {
      "application/javascript": [
       "$('span:contains(\"# Temp\")').closest('.cell').remove();"
      ],
      "text/plain": [
       "<IPython.core.display.Javascript object>"
      ]
     },
     "metadata": {},
     "output_type": "display_data"
    },
    {
     "data": {
      "application/javascript": [
       "\n",
       "        $('span:contains(\"# Temp\")').closest('.cell').remove();\n",
       "        var code = IPython.notebook.insert_cell_below('code');\n",
       "        code.set_text(decodeURIComponent(window.atob(\"JTIzJTIwVGVtcCUwQWluc2VydCUyOCUyNyUyNyUyNyUwQXN1YnJhbWFuaWFuMjAwOWElMjAlM0QlMjBEQiUyOFdvcmtVbnJlbGF0ZWQlMjglMEElMjAlMjAlMjAlMjAyMDA5JTJDJTIwJTIyQmFsYW5jaW5nJTIwRm91ciUyMEZhY3RvcnMlMjBpbiUyMFN5c3RlbSUyMERldmVsb3BtZW50JTIwUHJvamVjdHMlMjIlMkMlMEElMjAlMjAlMjAlMjBkaXNwbGF5JTNEJTIyc3VicmFtYW5pYW4lMjIlMkMlMEElMjAlMjAlMjAlMjBhdXRob3JzJTNEJTIyU3VicmFtYW5pYW4lMkMlMjBHaXJpc2glMjBILiUyMGFuZCUyMEtsZWluJTJDJTIwR2FyeSUyMGFuZCUyMEppYW5nJTJDJTIwSmFtZXMlMjBKLiUyMGFuZCUyMENoYW4lMkMlMjBDaGllbi1MdW5nJTIyJTJDJTBBJTIwJTIwJTIwJTIwcGxhY2UlM0RGQUtFJTJDJTBBJTIwJTIwJTIwJTIwcHAlM0QlMjIxMTgtLTEyMSUyMiUyQyUwQSUyMCUyMCUyMCUyMGVudHJ5dHlwZSUzRCUyMmFydGljbGUlMjIlMkMlMEElMjAlMjAlMjAlMjBpc3N1ZV9kYXRlJTNEJTIyT2N0b2JlciUyMDIwMDklMjIlMkMlMEElMjAlMjAlMjAlMjB2b2x1bWUlM0QlMjI1MiUyMiUyQyUwQSUyMCUyMCUyMCUyMG51bWJlciUzRCUyMjEwJTIyJTJDJTBBJTIwJTIwJTIwJTIwbW9udGglM0QlMjJvY3QlMjIlMkMlMEElMjAlMjAlMjAlMjBpc3NuJTNEJTIyMDAwMS0wNzgyJTIyJTJDJTBBJTIwJTIwJTIwJTIwbnVtcGFnZXMlM0QlMjI0JTIyJTJDJTBBJTIwJTIwJTIwJTIwbGluayUzRCUyMmh0dHAlM0EvL2RvaS5hY20ub3JnLzEwLjExNDUvMTU2Mjc2NC4xNTYyNzk0JTIyJTJDJTBBJTIwJTIwJTIwJTIwZG9pJTNEJTIyMTAuMTE0NS8xNTYyNzY0LjE1NjI3OTQlMjIlMkMlMEElMjAlMjAlMjAlMjBhY21pZCUzRCUyMjE1NjI3OTQlMjIlMkMlMEElMjAlMjAlMjAlMjBwdWJsaXNoZXIlM0QlMjJBQ00lMjIlMkMlMEElMjAlMjAlMjAlMjBhZGRyZXNzJTNEJTIyTmV3JTIwWW9yayUyQyUyME5ZJTJDJTIwVVNBJTIyJTJDJTBBJTIwJTIwJTIwJTIwSUQlM0QlMjJTdWJyYW1hbmlhbiUzQTIwMDklM0FCRkYlM0ExNTYyNzY0LjE1NjI3OTQlMjIlMkMlMEElMjAlMjAlMjAlMjBhY20yMDE1JTNEJTIyMSUyMiUyQyUwQSUyMCUyMCUyMCUyMHBsYWNleCUzRCUyMkNvbW11bi4lMjBBQ00lMjIlMkMlMEElMjklMjklMEElMjclMjclMjclMjklM0I=\")));\n",
       "    "
      ],
      "text/plain": [
       "<IPython.core.display.Javascript object>"
      ]
     },
     "metadata": {},
     "output_type": "display_data"
    },
    {
     "data": {
      "application/javascript": [
       "$('span:contains(\"# Temp\")').closest('.cell').remove();"
      ],
      "text/plain": [
       "<IPython.core.display.Javascript object>"
      ]
     },
     "metadata": {},
     "output_type": "display_data"
    },
    {
     "data": {
      "application/javascript": [
       "\n",
       "        $('span:contains(\"# Temp\")').closest('.cell').remove();\n",
       "        var code = IPython.notebook.insert_cell_below('code');\n",
       "        code.set_text(decodeURIComponent(window.atob(\"JTIzJTIwVGVtcCUwQWluc2VydCUyOCUyNyUyNyUyNyUwQXN1YnJhbWFuaWFuMjAwOWElMjAlM0QlMjBEQiUyOFdvcmtVbnJlbGF0ZWQlMjglMEElMjAlMjAlMjAlMjAyMDA5JTJDJTIwJTIyQmFsYW5jaW5nJTIwRm91ciUyMEZhY3RvcnMlMjBpbiUyMFN5c3RlbSUyMERldmVsb3BtZW50JTIwUHJvamVjdHMlMjIlMkMlMEElMjAlMjAlMjAlMjBkaXNwbGF5JTNEJTIyc3VicmFtYW5pYW4lMjIlMkMlMEElMjAlMjAlMjAlMjBhdXRob3JzJTNEJTIyU3VicmFtYW5pYW4lMkMlMjBHaXJpc2glMjBILiUyMGFuZCUyMEtsZWluJTJDJTIwR2FyeSUyMGFuZCUyMEppYW5nJTJDJTIwSmFtZXMlMjBKLiUyMGFuZCUyMENoYW4lMkMlMjBDaGllbi1MdW5nJTIyJTJDJTBBJTIwJTIwJTIwJTIwcGxhY2UlM0RGQUtFJTJDJTBBJTIwJTIwJTIwJTIwcHAlM0QlMjIxMTgtLTEyMSUyMiUyQyUwQSUyMCUyMCUyMCUyMGVudHJ5dHlwZSUzRCUyMmFydGljbGUlMjIlMkMlMEElMjAlMjAlMjAlMjBpc3N1ZV9kYXRlJTNEJTIyT2N0b2JlciUyMDIwMDklMjIlMkMlMEElMjAlMjAlMjAlMjB2b2x1bWUlM0QlMjI1MiUyMiUyQyUwQSUyMCUyMCUyMCUyMG51bWJlciUzRCUyMjEwJTIyJTJDJTBBJTIwJTIwJTIwJTIwbW9udGglM0QlMjJvY3QlMjIlMkMlMEElMjAlMjAlMjAlMjBpc3NuJTNEJTIyMDAwMS0wNzgyJTIyJTJDJTBBJTIwJTIwJTIwJTIwbnVtcGFnZXMlM0QlMjI0JTIyJTJDJTBBJTIwJTIwJTIwJTIwbGluayUzRCUyMmh0dHAlM0EvL2RvaS5hY20ub3JnLzEwLjExNDUvMTU2Mjc2NC4xNTYyNzk0JTIyJTJDJTBBJTIwJTIwJTIwJTIwZG9pJTNEJTIyMTAuMTE0NS8xNTYyNzY0LjE1NjI3OTQlMjIlMkMlMEElMjAlMjAlMjAlMjBhY21pZCUzRCUyMjE1NjI3OTQlMjIlMkMlMEElMjAlMjAlMjAlMjBwdWJsaXNoZXIlM0QlMjJBQ00lMjIlMkMlMEElMjAlMjAlMjAlMjBhZGRyZXNzJTNEJTIyTmV3JTIwWW9yayUyQyUyME5ZJTJDJTIwVVNBJTIyJTJDJTBBJTIwJTIwJTIwJTIwSUQlM0QlMjJTdWJyYW1hbmlhbiUzQTIwMDklM0FCRkYlM0ExNTYyNzY0LjE1NjI3OTQlMjIlMkMlMEElMjAlMjAlMjAlMjBhY20yMDE1JTNEJTIyMSUyMiUyQyUwQSUyMCUyMCUyMCUyMHBsYWNleCUzRCUyMkNvbW11bi4lMjBBQ00lMjIlMkMlMEElMjklMjklMEElMjclMjclMjclMjklM0I=\")));\n",
       "    "
      ],
      "text/plain": [
       "<IPython.core.display.Javascript object>"
      ]
     },
     "metadata": {},
     "output_type": "display_data"
    },
    {
     "data": {
      "application/javascript": [
       "$('span:contains(\"# Temp\")').closest('.cell').remove();"
      ],
      "text/plain": [
       "<IPython.core.display.Javascript object>"
      ]
     },
     "metadata": {},
     "output_type": "display_data"
    },
    {
     "data": {
      "application/javascript": [
       "\n",
       "        $('span:contains(\"# Temp\")').closest('.cell').remove();\n",
       "        var code = IPython.notebook.insert_cell_below('code');\n",
       "        code.set_text(decodeURIComponent(window.atob(\"JTIzJTIwVGVtcCUwQWluc2VydCUyOCUyNyUyNyUyNyUwQXNyaW5pdmFzYW4yMDEwYiUyMCUzRCUyMERCJTI4V29ya1VucmVsYXRlZCUyOCUwQSUyMCUyMCUyMCUyMDIwMTAlMkMlMjAlMjJBZ2lsZSUyMGluJTIwSW5kaWElM0ElMjBDaGFsbGVuZ2VzJTIwYW5kJTIwTGVzc29ucyUyMExlYXJuZWQlMjIlMkMlMEElMjAlMjAlMjAlMjBkaXNwbGF5JTNEJTIyc3Jpbml2YXNhbiUyMGIlMjIlMkMlMEElMjAlMjAlMjAlMjBhdXRob3JzJTNEJTIyU3Jpbml2YXNhbiUyQyUyMEpheWFrYW50aCUyMGFuZCUyMEx1bmRxdmlzdCUyQyUyMEtyaXN0aW5hJTIyJTJDJTBBJTIwJTIwJTIwJTIwcGxhY2UlM0RTRUMlMkMlMEElMjAlMjAlMjAlMjBwcCUzRCUyMjEyNS0tMTMwJTIyJTJDJTBBJTIwJTIwJTIwJTIwZW50cnl0eXBlJTNEJTIyaW5wcm9jZWVkaW5ncyUyMiUyQyUwQSUyMCUyMCUyMCUyMHNlcmllcyUzRCUyMklTRUMlMjAlMjcxMCUyMiUyQyUwQSUyMCUyMCUyMCUyMGlzYm4lM0QlMjI5NzgtMS02MDU1OC05MjItMCUyMiUyQyUwQSUyMCUyMCUyMCUyMGxvY2F0aW9uJTNEJTIyTXlzb3JlJTJDJTIwSW5kaWElMjIlMkMlMEElMjAlMjAlMjAlMjBudW1wYWdlcyUzRCUyMjYlMjIlMkMlMEElMjAlMjAlMjAlMjBsaW5rJTNEJTIyaHR0cCUzQS8vZG9pLmFjbS5vcmcvMTAuMTE0NS8xNzMwODc0LjE3MzA4OTglMjIlMkMlMEElMjAlMjAlMjAlMjBkb2klM0QlMjIxMC4xMTQ1LzE3MzA4NzQuMTczMDg5OCUyMiUyQyUwQSUyMCUyMCUyMCUyMGFjbWlkJTNEJTIyMTczMDg5OCUyMiUyQyUwQSUyMCUyMCUyMCUyMHB1Ymxpc2hlciUzRCUyMkFDTSUyMiUyQyUwQSUyMCUyMCUyMCUyMGFkZHJlc3MlM0QlMjJOZXclMjBZb3JrJTJDJTIwTlklMkMlMjBVU0ElMjIlMkMlMEElMjAlMjAlMjAlMjBrZXl3b3JkJTNEJTIyYWdpbGUlMjBtZXRob2RzJTJDJTIwY2FzZSUyMHN0dWR5JTJDJTIwb3V0c291cmNpbmclMkMlMjBzb2Z0d2FyZSUyMHByb2Nlc3MlMjBpbXByb3ZlbWVudCUyMiUyQyUwQSUyMCUyMCUyMCUyMElEJTNEJTIyU3Jpbml2YXNhbiUzQTIwMTAlM0FBSUMlM0ExNzMwODc0LjE3MzA4OTglMjIlMkMlMEElMjAlMjAlMjAlMjBhY20yMDE1JTNEJTIyMSUyMiUyQyUwQSUyMCUyMCUyMCUyMHBsYWNleCUzRCUyMlByb2NlZWRpbmdzJTIwb2YlMjB0aGUlMjAzcmQlMjBJbmRpYSUyMFNvZnR3YXJlJTIwRW5naW5lZXJpbmclMjBDb25mZXJlbmNlJTIyJTJDJTBBJTI5JTI5JTBBJTI3JTI3JTI3JTI5JTNC\")));\n",
       "    "
      ],
      "text/plain": [
       "<IPython.core.display.Javascript object>"
      ]
     },
     "metadata": {},
     "output_type": "display_data"
    },
    {
     "data": {
      "application/javascript": [
       "$('span:contains(\"# Temp\")').closest('.cell').remove();"
      ],
      "text/plain": [
       "<IPython.core.display.Javascript object>"
      ]
     },
     "metadata": {},
     "output_type": "display_data"
    },
    {
     "data": {
      "application/javascript": [
       "\n",
       "        $('span:contains(\"# Temp\")').closest('.cell').remove();\n",
       "        var code = IPython.notebook.insert_cell_below('code');\n",
       "        code.set_text(decodeURIComponent(window.atob(\"JTIzJTIwVGVtcCUwQWluc2VydCUyOCUyNyUyNyUyNyUwQXNyaW5pdmFzYW4yMDEwYiUyMCUzRCUyMERCJTI4V29ya1VucmVsYXRlZCUyOCUwQSUyMCUyMCUyMCUyMDIwMTAlMkMlMjAlMjJBZ2lsZSUyMGluJTIwSW5kaWElM0ElMjBDaGFsbGVuZ2VzJTIwYW5kJTIwTGVzc29ucyUyMExlYXJuZWQlMjIlMkMlMEElMjAlMjAlMjAlMjBkaXNwbGF5JTNEJTIyc3Jpbml2YXNhbiUyMGIlMjIlMkMlMEElMjAlMjAlMjAlMjBhdXRob3JzJTNEJTIyU3Jpbml2YXNhbiUyQyUyMEpheWFrYW50aCUyMGFuZCUyMEx1bmRxdmlzdCUyQyUyMEtyaXN0aW5hJTIyJTJDJTBBJTIwJTIwJTIwJTIwcGxhY2UlM0RTRUMlMkMlMEElMjAlMjAlMjAlMjBwcCUzRCUyMjEyNS0tMTMwJTIyJTJDJTBBJTIwJTIwJTIwJTIwZW50cnl0eXBlJTNEJTIyaW5wcm9jZWVkaW5ncyUyMiUyQyUwQSUyMCUyMCUyMCUyMHNlcmllcyUzRCUyMklTRUMlMjAlMjcxMCUyMiUyQyUwQSUyMCUyMCUyMCUyMGlzYm4lM0QlMjI5NzgtMS02MDU1OC05MjItMCUyMiUyQyUwQSUyMCUyMCUyMCUyMGxvY2F0aW9uJTNEJTIyTXlzb3JlJTJDJTIwSW5kaWElMjIlMkMlMEElMjAlMjAlMjAlMjBudW1wYWdlcyUzRCUyMjYlMjIlMkMlMEElMjAlMjAlMjAlMjBsaW5rJTNEJTIyaHR0cCUzQS8vZG9pLmFjbS5vcmcvMTAuMTE0NS8xNzMwODc0LjE3MzA4OTglMjIlMkMlMEElMjAlMjAlMjAlMjBkb2klM0QlMjIxMC4xMTQ1LzE3MzA4NzQuMTczMDg5OCUyMiUyQyUwQSUyMCUyMCUyMCUyMGFjbWlkJTNEJTIyMTczMDg5OCUyMiUyQyUwQSUyMCUyMCUyMCUyMHB1Ymxpc2hlciUzRCUyMkFDTSUyMiUyQyUwQSUyMCUyMCUyMCUyMGFkZHJlc3MlM0QlMjJOZXclMjBZb3JrJTJDJTIwTlklMkMlMjBVU0ElMjIlMkMlMEElMjAlMjAlMjAlMjBrZXl3b3JkJTNEJTIyYWdpbGUlMjBtZXRob2RzJTJDJTIwY2FzZSUyMHN0dWR5JTJDJTIwb3V0c291cmNpbmclMkMlMjBzb2Z0d2FyZSUyMHByb2Nlc3MlMjBpbXByb3ZlbWVudCUyMiUyQyUwQSUyMCUyMCUyMCUyMElEJTNEJTIyU3Jpbml2YXNhbiUzQTIwMTAlM0FBSUMlM0ExNzMwODc0LjE3MzA4OTglMjIlMkMlMEElMjAlMjAlMjAlMjBhY20yMDE1JTNEJTIyMSUyMiUyQyUwQSUyMCUyMCUyMCUyMHBsYWNleCUzRCUyMlByb2NlZWRpbmdzJTIwb2YlMjB0aGUlMjAzcmQlMjBJbmRpYSUyMFNvZnR3YXJlJTIwRW5naW5lZXJpbmclMjBDb25mZXJlbmNlJTIyJTJDJTBBJTI5JTI5JTBBJTI3JTI3JTI3JTI5JTNC\")));\n",
       "    "
      ],
      "text/plain": [
       "<IPython.core.display.Javascript object>"
      ]
     },
     "metadata": {},
     "output_type": "display_data"
    },
    {
     "data": {
      "application/javascript": [
       "$('span:contains(\"# Temp\")').closest('.cell').remove();"
      ],
      "text/plain": [
       "<IPython.core.display.Javascript object>"
      ]
     },
     "metadata": {},
     "output_type": "display_data"
    },
    {
     "data": {
      "application/javascript": [
       "\n",
       "        $('span:contains(\"# Temp\")').closest('.cell').remove();\n",
       "        var code = IPython.notebook.insert_cell_below('code');\n",
       "        code.set_text(decodeURIComponent(window.atob(\"JTIzJTIwVGVtcCUwQWluc2VydCUyOCUyNyUyNyUyNyUwQWNhcmRvc28yMDEzYSUyMCUzRCUyMERCJTI4V29ya1VucmVsYXRlZCUyOCUwQSUyMCUyMCUyMCUyMDIwMTMlMkMlMjAlMjJUaGUlMjBQdWJsaWMlMjBTb2Z0d2FyZSUyMEVjb3N5c3RlbSUzQSUyMEV4cGxvcmF0b3J5JTIwU3VydmV5JTIyJTJDJTBBJTIwJTIwJTIwJTIwZGlzcGxheSUzRCUyMmNhcmRvc28lMjIlMkMlMEElMjAlMjAlMjAlMjBhdXRob3JzJTNEJTIyQ2FyZG9zbyUyQ0pyLiUyQyUyMEphcmJhcyUyMExvcGVzJTIwYW5kJTIwQmFyYmluJTJDJTIwU2lsdmlvJTIwRXJuZXN0byUyMGFuZCUyMEFuZHJlcyUyQyUyMEZyZWRlcmljJTIwYW5kJTIwRmlsaG8lMkMlMjBPc2NhciUyMFNhbHZpYW5vJTIwU2lsdmElMjIlMkMlMEElMjAlMjAlMjAlMjBwbGFjZSUzREZBS0UlMkMlMEElMjAlMjAlMjAlMjBwcCUzRCUyMjI4OS0tMjk2JTIyJTJDJTBBJTIwJTIwJTIwJTIwZW50cnl0eXBlJTNEJTIyaW5wcm9jZWVkaW5ncyUyMiUyQyUwQSUyMCUyMCUyMCUyMHNlcmllcyUzRCUyMk1FREVTJTIwJTI3MTMlMjIlMkMlMEElMjAlMjAlMjAlMjBpc2JuJTNEJTIyOTc4LTEtNDUwMy0yMDA0LTclMjIlMkMlMEElMjAlMjAlMjAlMjBsb2NhdGlvbiUzRCUyMkx1eGVtYm91cmclMkMlMjBMdXhlbWJvdXJnJTIyJTJDJTBBJTIwJTIwJTIwJTIwbnVtcGFnZXMlM0QlMjI4JTIyJTJDJTBBJTIwJTIwJTIwJTIwbGluayUzRCUyMmh0dHAlM0EvL2RvaS5hY20ub3JnLzEwLjExNDUvMjUzNjE0Ni4yNTM2MTg5JTIyJTJDJTBBJTIwJTIwJTIwJTIwZG9pJTNEJTIyMTAuMTE0NS8yNTM2MTQ2LjI1MzYxODklMjIlMkMlMEElMjAlMjAlMjAlMjBhY21pZCUzRCUyMjI1MzYxODklMjIlMkMlMEElMjAlMjAlMjAlMjBwdWJsaXNoZXIlM0QlMjJBQ00lMjIlMkMlMEElMjAlMjAlMjAlMjBhZGRyZXNzJTNEJTIyTmV3JTIwWW9yayUyQyUyME5ZJTJDJTIwVVNBJTIyJTJDJTBBJTIwJTIwJTIwJTIwa2V5d29yZCUzRCUyMmNvbGxlY3RpdmUlMjBpbnRlbGxpZ2VuY2UlMkMlMjBkaWdpdGFsJTIwZWNvc3lzdGVtJTJDJTIwZnJlZSUyMGFuZCUyMG9wZW4lMjBzb2Z0d2FyZSUyQyUyMHNvY2lhbCUyMG5ldHdvcmslMkMlMjBzb2Z0d2FyZSUyMGZvcmdlJTIwZWNvc3lzdGVtJTIyJTJDJTBBJTIwJTIwJTIwJTIwSUQlM0QlMjJDYXJkb3NvJTNBMjAxMyUzQVBTRSUzQTI1MzYxNDYuMjUzNjE4OSUyMiUyQyUwQSUyMCUyMCUyMCUyMGFjbTIwMTUlM0QlMjIxJTIyJTJDJTBBJTIwJTIwJTIwJTIwcGxhY2V4JTNEJTIyUHJvY2VlZGluZ3MlMjBvZiUyMHRoZSUyMEZpZnRoJTIwSW50ZXJuYXRpb25hbCUyMENvbmZlcmVuY2UlMjBvbiUyME1hbmFnZW1lbnQlMjBvZiUyMEVtZXJnZW50JTIwRGlnaXRhbCUyMEVjb1N5c3RlbXMlMjIlMkMlMEElMjklMjklMEElMjclMjclMjclMjklM0I=\")));\n",
       "    "
      ],
      "text/plain": [
       "<IPython.core.display.Javascript object>"
      ]
     },
     "metadata": {},
     "output_type": "display_data"
    },
    {
     "data": {
      "application/javascript": [
       "$('span:contains(\"# Temp\")').closest('.cell').remove();"
      ],
      "text/plain": [
       "<IPython.core.display.Javascript object>"
      ]
     },
     "metadata": {},
     "output_type": "display_data"
    },
    {
     "data": {
      "application/javascript": [
       "\n",
       "        $('span:contains(\"# Temp\")').closest('.cell').remove();\n",
       "        var code = IPython.notebook.insert_cell_below('code');\n",
       "        code.set_text(decodeURIComponent(window.atob(\"JTIzJTIwVGVtcCUwQWluc2VydCUyOCUyNyUyNyUyNyUwQWNhcmRvc28yMDEzYSUyMCUzRCUyMERCJTI4V29ya1VucmVsYXRlZCUyOCUwQSUyMCUyMCUyMCUyMDIwMTMlMkMlMjAlMjJUaGUlMjBQdWJsaWMlMjBTb2Z0d2FyZSUyMEVjb3N5c3RlbSUzQSUyMEV4cGxvcmF0b3J5JTIwU3VydmV5JTIyJTJDJTBBJTIwJTIwJTIwJTIwZGlzcGxheSUzRCUyMmNhcmRvc28lMjIlMkMlMEElMjAlMjAlMjAlMjBhdXRob3JzJTNEJTIyQ2FyZG9zbyUyQ0pyLiUyQyUyMEphcmJhcyUyMExvcGVzJTIwYW5kJTIwQmFyYmluJTJDJTIwU2lsdmlvJTIwRXJuZXN0byUyMGFuZCUyMEFuZHJlcyUyQyUyMEZyZWRlcmljJTIwYW5kJTIwRmlsaG8lMkMlMjBPc2NhciUyMFNhbHZpYW5vJTIwU2lsdmElMjIlMkMlMEElMjAlMjAlMjAlMjBwbGFjZSUzREZBS0UlMkMlMEElMjAlMjAlMjAlMjBwcCUzRCUyMjI4OS0tMjk2JTIyJTJDJTBBJTIwJTIwJTIwJTIwZW50cnl0eXBlJTNEJTIyaW5wcm9jZWVkaW5ncyUyMiUyQyUwQSUyMCUyMCUyMCUyMHNlcmllcyUzRCUyMk1FREVTJTIwJTI3MTMlMjIlMkMlMEElMjAlMjAlMjAlMjBpc2JuJTNEJTIyOTc4LTEtNDUwMy0yMDA0LTclMjIlMkMlMEElMjAlMjAlMjAlMjBsb2NhdGlvbiUzRCUyMkx1eGVtYm91cmclMkMlMjBMdXhlbWJvdXJnJTIyJTJDJTBBJTIwJTIwJTIwJTIwbnVtcGFnZXMlM0QlMjI4JTIyJTJDJTBBJTIwJTIwJTIwJTIwbGluayUzRCUyMmh0dHAlM0EvL2RvaS5hY20ub3JnLzEwLjExNDUvMjUzNjE0Ni4yNTM2MTg5JTIyJTJDJTBBJTIwJTIwJTIwJTIwZG9pJTNEJTIyMTAuMTE0NS8yNTM2MTQ2LjI1MzYxODklMjIlMkMlMEElMjAlMjAlMjAlMjBhY21pZCUzRCUyMjI1MzYxODklMjIlMkMlMEElMjAlMjAlMjAlMjBwdWJsaXNoZXIlM0QlMjJBQ00lMjIlMkMlMEElMjAlMjAlMjAlMjBhZGRyZXNzJTNEJTIyTmV3JTIwWW9yayUyQyUyME5ZJTJDJTIwVVNBJTIyJTJDJTBBJTIwJTIwJTIwJTIwa2V5d29yZCUzRCUyMmNvbGxlY3RpdmUlMjBpbnRlbGxpZ2VuY2UlMkMlMjBkaWdpdGFsJTIwZWNvc3lzdGVtJTJDJTIwZnJlZSUyMGFuZCUyMG9wZW4lMjBzb2Z0d2FyZSUyQyUyMHNvY2lhbCUyMG5ldHdvcmslMkMlMjBzb2Z0d2FyZSUyMGZvcmdlJTIwZWNvc3lzdGVtJTIyJTJDJTBBJTIwJTIwJTIwJTIwSUQlM0QlMjJDYXJkb3NvJTNBMjAxMyUzQVBTRSUzQTI1MzYxNDYuMjUzNjE4OSUyMiUyQyUwQSUyMCUyMCUyMCUyMGFjbTIwMTUlM0QlMjIxJTIyJTJDJTBBJTIwJTIwJTIwJTIwcGxhY2V4JTNEJTIyUHJvY2VlZGluZ3MlMjBvZiUyMHRoZSUyMEZpZnRoJTIwSW50ZXJuYXRpb25hbCUyMENvbmZlcmVuY2UlMjBvbiUyME1hbmFnZW1lbnQlMjBvZiUyMEVtZXJnZW50JTIwRGlnaXRhbCUyMEVjb1N5c3RlbXMlMjIlMkMlMEElMjklMjklMEElMjclMjclMjclMjklM0I=\")));\n",
       "    "
      ],
      "text/plain": [
       "<IPython.core.display.Javascript object>"
      ]
     },
     "metadata": {},
     "output_type": "display_data"
    },
    {
     "data": {
      "application/javascript": [
       "$('span:contains(\"# Temp\")').closest('.cell').remove();"
      ],
      "text/plain": [
       "<IPython.core.display.Javascript object>"
      ]
     },
     "metadata": {},
     "output_type": "display_data"
    },
    {
     "data": {
      "application/javascript": [
       "\n",
       "        $('span:contains(\"# Temp\")').closest('.cell').remove();\n",
       "        var code = IPython.notebook.insert_cell_below('code');\n",
       "        code.set_text(decodeURIComponent(window.atob(\"JTIzJTIwVGVtcCUwQWluc2VydCUyOCUyNyUyNyUyNyUwQWZpdHpnZXJhbGQyMDE0YSUyMCUzRCUyMERCJTI4V29ya1VucmVsYXRlZCUyOCUwQSUyMCUyMCUyMCUyMDIwMTQlMkMlMjAlMjJDb250aW51b3VzJTIwU29mdHdhcmUlMjBFbmdpbmVlcmluZyUyMGFuZCUyMEJleW9uZCUzQSUyMFRyZW5kcyUyMGFuZCUyMENoYWxsZW5nZXMlMjIlMkMlMEElMjAlMjAlMjAlMjBkaXNwbGF5JTNEJTIyZml0emdlcmFsZCUyMiUyQyUwQSUyMCUyMCUyMCUyMGF1dGhvcnMlM0QlMjJGaXR6Z2VyYWxkJTJDJTIwQnJpYW4lMjBhbmQlMjBTdG9sJTJDJTIwS2xhYXMtSmFuJTIyJTJDJTBBJTIwJTIwJTIwJTIwcGxhY2UlM0RGQUtFJTJDJTBBJTIwJTIwJTIwJTIwcHAlM0QlMjIxLS05JTIyJTJDJTBBJTIwJTIwJTIwJTIwZW50cnl0eXBlJTNEJTIyaW5wcm9jZWVkaW5ncyUyMiUyQyUwQSUyMCUyMCUyMCUyMHNlcmllcyUzRCUyMlJDb1NFJTIwMjAxNCUyMiUyQyUwQSUyMCUyMCUyMCUyMGlzYm4lM0QlMjI5NzgtMS00NTAzLTI4NTYtMiUyMiUyQyUwQSUyMCUyMCUyMCUyMGxvY2F0aW9uJTNEJTIySHlkZXJhYmFkJTJDJTIwSW5kaWElMjIlMkMlMEElMjAlMjAlMjAlMjBudW1wYWdlcyUzRCUyMjklMjIlMkMlMEElMjAlMjAlMjAlMjBsaW5rJTNEJTIyaHR0cCUzQS8vZG9pLmFjbS5vcmcvMTAuMTE0NS8yNTkzODEyLjI1OTM4MTMlMjIlMkMlMEElMjAlMjAlMjAlMjBkb2klM0QlMjIxMC4xMTQ1LzI1OTM4MTIuMjU5MzgxMyUyMiUyQyUwQSUyMCUyMCUyMCUyMGFjbWlkJTNEJTIyMjU5MzgxMyUyMiUyQyUwQSUyMCUyMCUyMCUyMHB1Ymxpc2hlciUzRCUyMkFDTSUyMiUyQyUwQSUyMCUyMCUyMCUyMGFkZHJlc3MlM0QlMjJOZXclMjBZb3JrJTJDJTIwTlklMkMlMjBVU0ElMjIlMkMlMEElMjAlMjAlMjAlMjBrZXl3b3JkJTNEJTIyQml6RGV2JTJDJTIwQ29udGludW91cyUyMFN0YXIlMkMlMjBEZXZPcHMlMkMlMjBjb250aW51b3VzJTIwc29mdHdhcmUlMjBlbmdpbmVlcmluZyUyMiUyQyUwQSUyMCUyMCUyMCUyMElEJTNEJTIyRml0emdlcmFsZCUzQTIwMTQlM0FDU0UlM0EyNTkzODEyLjI1OTM4MTMlMjIlMkMlMEElMjAlMjAlMjAlMjBhY20yMDE1JTNEJTIyMSUyMiUyQyUwQSUyMCUyMCUyMCUyMHBsYWNleCUzRCUyMlByb2NlZWRpbmdzJTIwb2YlMjB0aGUlMjAxc3QlMjBJbnRlcm5hdGlvbmFsJTIwV29ya3Nob3AlMjBvbiUyMFJhcGlkJTIwQ29udGludW91cyUyMFNvZnR3YXJlJTIwRW5naW5lZXJpbmclMjIlMkMlMEElMjklMjklMEElMjclMjclMjclMjklM0I=\")));\n",
       "    "
      ],
      "text/plain": [
       "<IPython.core.display.Javascript object>"
      ]
     },
     "metadata": {},
     "output_type": "display_data"
    },
    {
     "data": {
      "application/javascript": [
       "$('span:contains(\"# Temp\")').closest('.cell').remove();"
      ],
      "text/plain": [
       "<IPython.core.display.Javascript object>"
      ]
     },
     "metadata": {},
     "output_type": "display_data"
    },
    {
     "data": {
      "application/javascript": [
       "\n",
       "        $('span:contains(\"# Temp\")').closest('.cell').remove();\n",
       "        var code = IPython.notebook.insert_cell_below('code');\n",
       "        code.set_text(decodeURIComponent(window.atob(\"JTIzJTIwVGVtcCUwQWluc2VydCUyOCUyNyUyNyUyNyUwQWZpdHpnZXJhbGQyMDE0YSUyMCUzRCUyMERCJTI4V29ya1VucmVsYXRlZCUyOCUwQSUyMCUyMCUyMCUyMDIwMTQlMkMlMjAlMjJDb250aW51b3VzJTIwU29mdHdhcmUlMjBFbmdpbmVlcmluZyUyMGFuZCUyMEJleW9uZCUzQSUyMFRyZW5kcyUyMGFuZCUyMENoYWxsZW5nZXMlMjIlMkMlMEElMjAlMjAlMjAlMjBkaXNwbGF5JTNEJTIyZml0emdlcmFsZCUyMiUyQyUwQSUyMCUyMCUyMCUyMGF1dGhvcnMlM0QlMjJGaXR6Z2VyYWxkJTJDJTIwQnJpYW4lMjBhbmQlMjBTdG9sJTJDJTIwS2xhYXMtSmFuJTIyJTJDJTBBJTIwJTIwJTIwJTIwcGxhY2UlM0RGQUtFJTJDJTBBJTIwJTIwJTIwJTIwcHAlM0QlMjIxLS05JTIyJTJDJTBBJTIwJTIwJTIwJTIwZW50cnl0eXBlJTNEJTIyaW5wcm9jZWVkaW5ncyUyMiUyQyUwQSUyMCUyMCUyMCUyMHNlcmllcyUzRCUyMlJDb1NFJTIwMjAxNCUyMiUyQyUwQSUyMCUyMCUyMCUyMGlzYm4lM0QlMjI5NzgtMS00NTAzLTI4NTYtMiUyMiUyQyUwQSUyMCUyMCUyMCUyMGxvY2F0aW9uJTNEJTIySHlkZXJhYmFkJTJDJTIwSW5kaWElMjIlMkMlMEElMjAlMjAlMjAlMjBudW1wYWdlcyUzRCUyMjklMjIlMkMlMEElMjAlMjAlMjAlMjBsaW5rJTNEJTIyaHR0cCUzQS8vZG9pLmFjbS5vcmcvMTAuMTE0NS8yNTkzODEyLjI1OTM4MTMlMjIlMkMlMEElMjAlMjAlMjAlMjBkb2klM0QlMjIxMC4xMTQ1LzI1OTM4MTIuMjU5MzgxMyUyMiUyQyUwQSUyMCUyMCUyMCUyMGFjbWlkJTNEJTIyMjU5MzgxMyUyMiUyQyUwQSUyMCUyMCUyMCUyMHB1Ymxpc2hlciUzRCUyMkFDTSUyMiUyQyUwQSUyMCUyMCUyMCUyMGFkZHJlc3MlM0QlMjJOZXclMjBZb3JrJTJDJTIwTlklMkMlMjBVU0ElMjIlMkMlMEElMjAlMjAlMjAlMjBrZXl3b3JkJTNEJTIyQml6RGV2JTJDJTIwQ29udGludW91cyUyMFN0YXIlMkMlMjBEZXZPcHMlMkMlMjBjb250aW51b3VzJTIwc29mdHdhcmUlMjBlbmdpbmVlcmluZyUyMiUyQyUwQSUyMCUyMCUyMCUyMElEJTNEJTIyRml0emdlcmFsZCUzQTIwMTQlM0FDU0UlM0EyNTkzODEyLjI1OTM4MTMlMjIlMkMlMEElMjAlMjAlMjAlMjBhY20yMDE1JTNEJTIyMSUyMiUyQyUwQSUyMCUyMCUyMCUyMHBsYWNleCUzRCUyMlByb2NlZWRpbmdzJTIwb2YlMjB0aGUlMjAxc3QlMjBJbnRlcm5hdGlvbmFsJTIwV29ya3Nob3AlMjBvbiUyMFJhcGlkJTIwQ29udGludW91cyUyMFNvZnR3YXJlJTIwRW5naW5lZXJpbmclMjIlMkMlMEElMjklMjklMEElMjclMjclMjclMjklM0I=\")));\n",
       "    "
      ],
      "text/plain": [
       "<IPython.core.display.Javascript object>"
      ]
     },
     "metadata": {},
     "output_type": "display_data"
    },
    {
     "data": {
      "application/javascript": [
       "$('span:contains(\"# Temp\")').closest('.cell').remove();"
      ],
      "text/plain": [
       "<IPython.core.display.Javascript object>"
      ]
     },
     "metadata": {},
     "output_type": "display_data"
    },
    {
     "data": {
      "application/javascript": [
       "\n",
       "        $('span:contains(\"# Temp\")').closest('.cell').remove();\n",
       "        var code = IPython.notebook.insert_cell_below('code');\n",
       "        code.set_text(decodeURIComponent(window.atob(\"JTIzJTIwVGVtcCUwQWluc2VydCUyOCUyNyUyNyUyNyUwQWFicmFoYW1zc29uMjAwMWIlMjAlM0QlMjBEQiUyOFdvcmtVbnJlbGF0ZWQlMjglMEElMjAlMjAlMjAlMjAyMDAxJTJDJTIwJTIyQ29tbWl0bWVudCUyMERldmVsb3BtZW50JTIwaW4lMjBTb2Z0d2FyZSUyMFByb2Nlc3MlMjBJbXByb3ZlbWVudCUzQSUyMENyaXRpY2FsJTIwTWlzY29uY2VwdGlvbnMlMjIlMkMlMEElMjAlMjAlMjAlMjBkaXNwbGF5JTNEJTIyYWJyYWhhbXNzb24lMjBiJTIyJTJDJTBBJTIwJTIwJTIwJTIwYXV0aG9ycyUzRCUyMkFicmFoYW1zc29uJTJDJTIwUGVra2ElMjIlMkMlMEElMjAlMjAlMjAlMjBwbGFjZSUzRElDU0UlMkMlMEElMjAlMjAlMjAlMjBwcCUzRCUyMjcxLS04MCUyMiUyQyUwQSUyMCUyMCUyMCUyMGVudHJ5dHlwZSUzRCUyMmlucHJvY2VlZGluZ3MlMjIlMkMlMEElMjAlMjAlMjAlMjBzZXJpZXMlM0QlMjJJQ1NFJTIwJTI3MDElMjIlMkMlMEElMjAlMjAlMjAlMjBpc2JuJTNEJTIyMC03Njk1LTEwNTAtNyUyMiUyQyUwQSUyMCUyMCUyMCUyMGxvY2F0aW9uJTNEJTIyVG9yb250byUyQyUyME9udGFyaW8lMkMlMjBDYW5hZGElMjIlMkMlMEElMjAlMjAlMjAlMjBudW1wYWdlcyUzRCUyMjEwJTIyJTJDJTBBJTIwJTIwJTIwJTIwbGluayUzRCUyMmh0dHAlM0EvL2RsLmFjbS5vcmcvY2l0YXRpb24uY2ZtJTNGaWQlM0QzODE0NzMuMzgxNDgwJTIyJTJDJTBBJTIwJTIwJTIwJTIwYWNtaWQlM0QlMjIzODE0ODAlMjIlMkMlMEElMjAlMjAlMjAlMjBwdWJsaXNoZXIlM0QlMjJJRUVFJTIwQ29tcHV0ZXIlMjBTb2NpZXR5JTIyJTJDJTBBJTIwJTIwJTIwJTIwYWRkcmVzcyUzRCUyMldhc2hpbmd0b24lMkMlMjBEQyUyQyUyMFVTQSUyMiUyQyUwQSUyMCUyMCUyMCUyMGtleXdvcmQlM0QlMjJjb21taXRtZW50JTJDJTIwY29tbWl0bWVudCUyMG1vZGVscyUyQyUyMGZvcm1zJTIwb2YlMjBjb21taXRtZW50JTJDJTIwbWlzY29uY2VwdGlvbnMlMkMlMjBzb2Z0d2FyZSUyMHByb2Nlc3MlMjBpbXByb3ZlbWVudCUyMiUyQyUwQSUyMCUyMCUyMCUyMElEJTNEJTIyQWJyYWhhbXNzb24lM0EyMDAxJTNBQ0RTJTNBMzgxNDczLjM4MTQ4MCUyMiUyQyUwQSUyMCUyMCUyMCUyMGFjbTIwMTUlM0QlMjIxJTIyJTJDJTBBJTIwJTIwJTIwJTIwcGxhY2V4JTNEJTIyUHJvY2VlZGluZ3MlMjBvZiUyMHRoZSUyMDIzcmQlMjBJbnRlcm5hdGlvbmFsJTIwQ29uZmVyZW5jZSUyMG9uJTIwU29mdHdhcmUlMjBFbmdpbmVlcmluZyUyMiUyQyUwQSUyOSUyOSUwQSUyNyUyNyUyNyUyOSUzQg==\")));\n",
       "    "
      ],
      "text/plain": [
       "<IPython.core.display.Javascript object>"
      ]
     },
     "metadata": {},
     "output_type": "display_data"
    },
    {
     "data": {
      "application/javascript": [
       "$('span:contains(\"# Temp\")').closest('.cell').remove();"
      ],
      "text/plain": [
       "<IPython.core.display.Javascript object>"
      ]
     },
     "metadata": {},
     "output_type": "display_data"
    },
    {
     "data": {
      "application/javascript": [
       "\n",
       "        $('span:contains(\"# Temp\")').closest('.cell').remove();\n",
       "        var code = IPython.notebook.insert_cell_below('code');\n",
       "        code.set_text(decodeURIComponent(window.atob(\"JTIzJTIwVGVtcCUwQWluc2VydCUyOCUyNyUyNyUyNyUwQWFicmFoYW1zc29uMjAwMWIlMjAlM0QlMjBEQiUyOFdvcmtVbnJlbGF0ZWQlMjglMEElMjAlMjAlMjAlMjAyMDAxJTJDJTIwJTIyQ29tbWl0bWVudCUyMERldmVsb3BtZW50JTIwaW4lMjBTb2Z0d2FyZSUyMFByb2Nlc3MlMjBJbXByb3ZlbWVudCUzQSUyMENyaXRpY2FsJTIwTWlzY29uY2VwdGlvbnMlMjIlMkMlMEElMjAlMjAlMjAlMjBkaXNwbGF5JTNEJTIyYWJyYWhhbXNzb24lMjBiJTIyJTJDJTBBJTIwJTIwJTIwJTIwYXV0aG9ycyUzRCUyMkFicmFoYW1zc29uJTJDJTIwUGVra2ElMjIlMkMlMEElMjAlMjAlMjAlMjBwbGFjZSUzRElDU0UlMkMlMEElMjAlMjAlMjAlMjBwcCUzRCUyMjcxLS04MCUyMiUyQyUwQSUyMCUyMCUyMCUyMGVudHJ5dHlwZSUzRCUyMmlucHJvY2VlZGluZ3MlMjIlMkMlMEElMjAlMjAlMjAlMjBzZXJpZXMlM0QlMjJJQ1NFJTIwJTI3MDElMjIlMkMlMEElMjAlMjAlMjAlMjBpc2JuJTNEJTIyMC03Njk1LTEwNTAtNyUyMiUyQyUwQSUyMCUyMCUyMCUyMGxvY2F0aW9uJTNEJTIyVG9yb250byUyQyUyME9udGFyaW8lMkMlMjBDYW5hZGElMjIlMkMlMEElMjAlMjAlMjAlMjBudW1wYWdlcyUzRCUyMjEwJTIyJTJDJTBBJTIwJTIwJTIwJTIwbGluayUzRCUyMmh0dHAlM0EvL2RsLmFjbS5vcmcvY2l0YXRpb24uY2ZtJTNGaWQlM0QzODE0NzMuMzgxNDgwJTIyJTJDJTBBJTIwJTIwJTIwJTIwYWNtaWQlM0QlMjIzODE0ODAlMjIlMkMlMEElMjAlMjAlMjAlMjBwdWJsaXNoZXIlM0QlMjJJRUVFJTIwQ29tcHV0ZXIlMjBTb2NpZXR5JTIyJTJDJTBBJTIwJTIwJTIwJTIwYWRkcmVzcyUzRCUyMldhc2hpbmd0b24lMkMlMjBEQyUyQyUyMFVTQSUyMiUyQyUwQSUyMCUyMCUyMCUyMGtleXdvcmQlM0QlMjJjb21taXRtZW50JTJDJTIwY29tbWl0bWVudCUyMG1vZGVscyUyQyUyMGZvcm1zJTIwb2YlMjBjb21taXRtZW50JTJDJTIwbWlzY29uY2VwdGlvbnMlMkMlMjBzb2Z0d2FyZSUyMHByb2Nlc3MlMjBpbXByb3ZlbWVudCUyMiUyQyUwQSUyMCUyMCUyMCUyMElEJTNEJTIyQWJyYWhhbXNzb24lM0EyMDAxJTNBQ0RTJTNBMzgxNDczLjM4MTQ4MCUyMiUyQyUwQSUyMCUyMCUyMCUyMGFjbTIwMTUlM0QlMjIxJTIyJTJDJTBBJTIwJTIwJTIwJTIwcGxhY2V4JTNEJTIyUHJvY2VlZGluZ3MlMjBvZiUyMHRoZSUyMDIzcmQlMjBJbnRlcm5hdGlvbmFsJTIwQ29uZmVyZW5jZSUyMG9uJTIwU29mdHdhcmUlMjBFbmdpbmVlcmluZyUyMiUyQyUwQSUyOSUyOSUwQSUyNyUyNyUyNyUyOSUzQg==\")));\n",
       "    "
      ],
      "text/plain": [
       "<IPython.core.display.Javascript object>"
      ]
     },
     "metadata": {},
     "output_type": "display_data"
    },
    {
     "data": {
      "application/javascript": [
       "$('span:contains(\"# Temp\")').closest('.cell').remove();"
      ],
      "text/plain": [
       "<IPython.core.display.Javascript object>"
      ]
     },
     "metadata": {},
     "output_type": "display_data"
    },
    {
     "data": {
      "application/javascript": [
       "\n",
       "        $('span:contains(\"# Temp\")').closest('.cell').remove();\n",
       "        var code = IPython.notebook.insert_cell_below('code');\n",
       "        code.set_text(decodeURIComponent(window.atob(\"JTIzJTIwVGVtcCUwQWluc2VydCUyOCUyNyUyNyUyNyUwQW1haG1vb2QyMDE1YSUyMCUzRCUyMERCJTI4V29ya1VucmVsYXRlZCUyOCUwQSUyMCUyMCUyMCUyMDIwMTUlMkMlMjAlMjJJZGVudGlmeWluZyUyMHRoZSUyMEZhY3RvcnMlMjBUaGF0JTIwSW5mbHVlbmNlJTIwVGFzayUyMEFsbG9jYXRpb24lMjBpbiUyMEdsb2JhbCUyMFNvZnR3YXJlJTIwRGV2ZWxvcG1lbnQlM0ElMjBQcmVsaW1pbmFyeSUyMFJlc3VsdHMlMjIlMkMlMEElMjAlMjAlMjAlMjBkaXNwbGF5JTNEJTIybWFobW9vZCUyMiUyQyUwQSUyMCUyMCUyMCUyMGF1dGhvcnMlM0QlMjJNYWhtb29kJTJDJTIwU2FqamFkJTIwYW5kJTIwQW53ZXIlMkMlMjBTYWppZCUyMGFuZCUyME5pYXppJTJDJTIwTWFobW9vZCUyMGFuZCUyMEFsc2hheWViJTJDJTIwTW9oYW1tYWQlMjBhbmQlMjBSaWNoYXJkc29uJTJDJTIwSXRhJTIyJTJDJTBBJTIwJTIwJTIwJTIwcGxhY2UlM0RFQVNFJTJDJTBBJTIwJTIwJTIwJTIwcHAlM0QlMjIzMSUzQTEtLTMxJTNBNiUyMiUyQyUwQSUyMCUyMCUyMCUyMGVudHJ5dHlwZSUzRCUyMmlucHJvY2VlZGluZ3MlMjIlMkMlMEElMjAlMjAlMjAlMjBzZXJpZXMlM0QlMjJFQVNFJTIwJTI3MTUlMjIlMkMlMEElMjAlMjAlMjAlMjBpc2JuJTNEJTIyOTc4LTEtNDUwMy0zMzUwLTQlMjIlMkMlMEElMjAlMjAlMjAlMjBsb2NhdGlvbiUzRCUyMk5hbmppbmclMkMlMjBDaGluYSUyMiUyQyUwQSUyMCUyMCUyMCUyMGFydGljbGVubyUzRCUyMjMxJTIyJTJDJTBBJTIwJTIwJTIwJTIwbnVtcGFnZXMlM0QlMjI2JTIyJTJDJTBBJTIwJTIwJTIwJTIwbGluayUzRCUyMmh0dHAlM0EvL2RvaS5hY20ub3JnLzEwLjExNDUvMjc0NTgwMi4yNzQ1ODMxJTIyJTJDJTBBJTIwJTIwJTIwJTIwZG9pJTNEJTIyMTAuMTE0NS8yNzQ1ODAyLjI3NDU4MzElMjIlMkMlMEElMjAlMjAlMjAlMjBhY21pZCUzRCUyMjI3NDU4MzElMjIlMkMlMEElMjAlMjAlMjAlMjBwdWJsaXNoZXIlM0QlMjJBQ00lMjIlMkMlMEElMjAlMjAlMjAlMjBhZGRyZXNzJTNEJTIyTmV3JTIwWW9yayUyQyUyME5ZJTJDJTIwVVNBJTIyJTJDJTBBJTIwJTIwJTIwJTIwa2V5d29yZCUzRCUyMmdsb2JhbCUyMHNvZnR3YXJlJTIwZGV2ZWxvcG1lbnQlMkMlMjBzeXN0ZW1hdGljJTIwbGl0ZXJhdHVyZSUyMHJldmlldyUyQyUyMHRhc2slMjBhbGxvY2F0aW9uJTJDJTIwd29yayUyMGRpc3RyaWJ1dGlvbiUyMiUyQyUwQSUyMCUyMCUyMCUyMElEJTNEJTIyTWFobW9vZCUzQTIwMTUlM0FJRkklM0EyNzQ1ODAyLjI3NDU4MzElMjIlMkMlMEElMjAlMjAlMjAlMjBhY20yMDE1JTNEJTIyMSUyMiUyQyUwQSUyMCUyMCUyMCUyMHBsYWNleCUzRCUyMlByb2NlZWRpbmdzJTIwb2YlMjB0aGUlMjAxOXRoJTIwSW50ZXJuYXRpb25hbCUyMENvbmZlcmVuY2UlMjBvbiUyMEV2YWx1YXRpb24lMjBhbmQlMjBBc3Nlc3NtZW50JTIwaW4lMjBTb2Z0d2FyZSUyMEVuZ2luZWVyaW5nJTIyJTJDJTBBJTI5JTI5JTBBJTI3JTI3JTI3JTI5JTNC\")));\n",
       "    "
      ],
      "text/plain": [
       "<IPython.core.display.Javascript object>"
      ]
     },
     "metadata": {},
     "output_type": "display_data"
    },
    {
     "data": {
      "application/javascript": [
       "$('span:contains(\"# Temp\")').closest('.cell').remove();"
      ],
      "text/plain": [
       "<IPython.core.display.Javascript object>"
      ]
     },
     "metadata": {},
     "output_type": "display_data"
    },
    {
     "data": {
      "application/javascript": [
       "\n",
       "        $('span:contains(\"# Temp\")').closest('.cell').remove();\n",
       "        var code = IPython.notebook.insert_cell_below('code');\n",
       "        code.set_text(decodeURIComponent(window.atob(\"JTIzJTIwVGVtcCUwQWluc2VydCUyOCUyNyUyNyUyNyUwQW1haG1vb2QyMDE1YSUyMCUzRCUyMERCJTI4V29ya1VucmVsYXRlZCUyOCUwQSUyMCUyMCUyMCUyMDIwMTUlMkMlMjAlMjJJZGVudGlmeWluZyUyMHRoZSUyMEZhY3RvcnMlMjBUaGF0JTIwSW5mbHVlbmNlJTIwVGFzayUyMEFsbG9jYXRpb24lMjBpbiUyMEdsb2JhbCUyMFNvZnR3YXJlJTIwRGV2ZWxvcG1lbnQlM0ElMjBQcmVsaW1pbmFyeSUyMFJlc3VsdHMlMjIlMkMlMEElMjAlMjAlMjAlMjBkaXNwbGF5JTNEJTIybWFobW9vZCUyMiUyQyUwQSUyMCUyMCUyMCUyMGF1dGhvcnMlM0QlMjJNYWhtb29kJTJDJTIwU2FqamFkJTIwYW5kJTIwQW53ZXIlMkMlMjBTYWppZCUyMGFuZCUyME5pYXppJTJDJTIwTWFobW9vZCUyMGFuZCUyMEFsc2hheWViJTJDJTIwTW9oYW1tYWQlMjBhbmQlMjBSaWNoYXJkc29uJTJDJTIwSXRhJTIyJTJDJTBBJTIwJTIwJTIwJTIwcGxhY2UlM0RFQVNFJTJDJTBBJTIwJTIwJTIwJTIwcHAlM0QlMjIzMSUzQTEtLTMxJTNBNiUyMiUyQyUwQSUyMCUyMCUyMCUyMGVudHJ5dHlwZSUzRCUyMmlucHJvY2VlZGluZ3MlMjIlMkMlMEElMjAlMjAlMjAlMjBzZXJpZXMlM0QlMjJFQVNFJTIwJTI3MTUlMjIlMkMlMEElMjAlMjAlMjAlMjBpc2JuJTNEJTIyOTc4LTEtNDUwMy0zMzUwLTQlMjIlMkMlMEElMjAlMjAlMjAlMjBsb2NhdGlvbiUzRCUyMk5hbmppbmclMkMlMjBDaGluYSUyMiUyQyUwQSUyMCUyMCUyMCUyMGFydGljbGVubyUzRCUyMjMxJTIyJTJDJTBBJTIwJTIwJTIwJTIwbnVtcGFnZXMlM0QlMjI2JTIyJTJDJTBBJTIwJTIwJTIwJTIwbGluayUzRCUyMmh0dHAlM0EvL2RvaS5hY20ub3JnLzEwLjExNDUvMjc0NTgwMi4yNzQ1ODMxJTIyJTJDJTBBJTIwJTIwJTIwJTIwZG9pJTNEJTIyMTAuMTE0NS8yNzQ1ODAyLjI3NDU4MzElMjIlMkMlMEElMjAlMjAlMjAlMjBhY21pZCUzRCUyMjI3NDU4MzElMjIlMkMlMEElMjAlMjAlMjAlMjBwdWJsaXNoZXIlM0QlMjJBQ00lMjIlMkMlMEElMjAlMjAlMjAlMjBhZGRyZXNzJTNEJTIyTmV3JTIwWW9yayUyQyUyME5ZJTJDJTIwVVNBJTIyJTJDJTBBJTIwJTIwJTIwJTIwa2V5d29yZCUzRCUyMmdsb2JhbCUyMHNvZnR3YXJlJTIwZGV2ZWxvcG1lbnQlMkMlMjBzeXN0ZW1hdGljJTIwbGl0ZXJhdHVyZSUyMHJldmlldyUyQyUyMHRhc2slMjBhbGxvY2F0aW9uJTJDJTIwd29yayUyMGRpc3RyaWJ1dGlvbiUyMiUyQyUwQSUyMCUyMCUyMCUyMElEJTNEJTIyTWFobW9vZCUzQTIwMTUlM0FJRkklM0EyNzQ1ODAyLjI3NDU4MzElMjIlMkMlMEElMjAlMjAlMjAlMjBhY20yMDE1JTNEJTIyMSUyMiUyQyUwQSUyMCUyMCUyMCUyMHBsYWNleCUzRCUyMlByb2NlZWRpbmdzJTIwb2YlMjB0aGUlMjAxOXRoJTIwSW50ZXJuYXRpb25hbCUyMENvbmZlcmVuY2UlMjBvbiUyMEV2YWx1YXRpb24lMjBhbmQlMjBBc3Nlc3NtZW50JTIwaW4lMjBTb2Z0d2FyZSUyMEVuZ2luZWVyaW5nJTIyJTJDJTBBJTI5JTI5JTBBJTI3JTI3JTI3JTI5JTNC\")));\n",
       "    "
      ],
      "text/plain": [
       "<IPython.core.display.Javascript object>"
      ]
     },
     "metadata": {},
     "output_type": "display_data"
    },
    {
     "data": {
      "application/javascript": [
       "$('span:contains(\"# Temp\")').closest('.cell').remove();"
      ],
      "text/plain": [
       "<IPython.core.display.Javascript object>"
      ]
     },
     "metadata": {},
     "output_type": "display_data"
    },
    {
     "data": {
      "application/javascript": [
       "\n",
       "        $('span:contains(\"# Temp\")').closest('.cell').remove();\n",
       "        var code = IPython.notebook.insert_cell_below('code');\n",
       "        code.set_text(decodeURIComponent(window.atob(\"JTIzJTIwVGVtcCUwQWluc2VydCUyOCUyNyUyNyUyNyUwQW1pc2hyYTIwMTBhJTIwJTNEJTIwREIlMjhXb3JrVW5yZWxhdGVkJTI4JTBBJTIwJTIwJTIwJTIwMjAxMCUyQyUyMCUyMlBlb3BsZSUyME1hbmFnZW1lbnQlMjBpbiUyMFNvZnR3YXJlJTIwSW5kdXN0cnklM0ElMjBUaGUlMjBLZXklMjB0byUyMFN1Y2Nlc3MlMjIlMkMlMEElMjAlMjAlMjAlMjBkaXNwbGF5JTNEJTIybWlzaHJhJTIyJTJDJTBBJTIwJTIwJTIwJTIwYXV0aG9ycyUzRCUyMk1pc2hyYSUyQyUyMEFtaXQlMjBhbmQlMjBNaXNyYSUyQyUyMFNhbmpheSUyMiUyQyUwQSUyMCUyMCUyMCUyMHBsYWNlJTNERkFLRSUyQyUwQSUyMCUyMCUyMCUyMHBwJTNEJTIyMS0tNCUyMiUyQyUwQSUyMCUyMCUyMCUyMGVudHJ5dHlwZSUzRCUyMmFydGljbGUlMjIlMkMlMEElMjAlMjAlMjAlMjBpc3N1ZV9kYXRlJTNEJTIyTm92ZW1iZXIlMjAyMDEwJTIyJTJDJTBBJTIwJTIwJTIwJTIwdm9sdW1lJTNEJTIyMzUlMjIlMkMlMEElMjAlMjAlMjAlMjBudW1iZXIlM0QlMjI2JTIyJTJDJTBBJTIwJTIwJTIwJTIwbW9udGglM0QlMjJub3YlMjIlMkMlMEElMjAlMjAlMjAlMjBpc3NuJTNEJTIyMDE2My01OTQ4JTIyJTJDJTBBJTIwJTIwJTIwJTIwbnVtcGFnZXMlM0QlMjI0JTIyJTJDJTBBJTIwJTIwJTIwJTIwbGluayUzRCUyMmh0dHAlM0EvL2RvaS5hY20ub3JnLzEwLjExNDUvMTg3NDM5MS4xODc0NDAyJTIyJTJDJTBBJTIwJTIwJTIwJTIwZG9pJTNEJTIyMTAuMTE0NS8xODc0MzkxLjE4NzQ0MDIlMjIlMkMlMEElMjAlMjAlMjAlMjBhY21pZCUzRCUyMjE4NzQ0MDIlMjIlMkMlMEElMjAlMjAlMjAlMjBwdWJsaXNoZXIlM0QlMjJBQ00lMjIlMkMlMEElMjAlMjAlMjAlMjBhZGRyZXNzJTNEJTIyTmV3JTIwWW9yayUyQyUyME5ZJTJDJTIwVVNBJTIyJTJDJTBBJTIwJTIwJTIwJTIwa2V5d29yZCUzRCUyMnBlb3BsZSUyMG1hbmFnZW1lbnQlMkMlMjBzb2Z0d2FyZSUyMGRldmVsb3BtZW50JTJDJTIwc29mdHdhcmUlMjBpbmR1c3RyeSUyMiUyQyUwQSUyMCUyMCUyMCUyMElEJTNEJTIyTWlzaHJhJTNBMjAxMCUzQVBNUyUzQTE4NzQzOTEuMTg3NDQwMiUyMiUyQyUwQSUyMCUyMCUyMCUyMGFjbTIwMTUlM0QlMjIxJTIyJTJDJTBBJTIwJTIwJTIwJTIwcGxhY2V4JTNEJTIyU0lHU09GVCUyMFNvZnR3LiUyMEVuZy4lMjBOb3RlcyUyMiUyQyUwQSUyOSUyOSUwQSUyNyUyNyUyNyUyOSUzQg==\")));\n",
       "    "
      ],
      "text/plain": [
       "<IPython.core.display.Javascript object>"
      ]
     },
     "metadata": {},
     "output_type": "display_data"
    },
    {
     "data": {
      "application/javascript": [
       "$('span:contains(\"# Temp\")').closest('.cell').remove();"
      ],
      "text/plain": [
       "<IPython.core.display.Javascript object>"
      ]
     },
     "metadata": {},
     "output_type": "display_data"
    },
    {
     "data": {
      "application/javascript": [
       "\n",
       "        $('span:contains(\"# Temp\")').closest('.cell').remove();\n",
       "        var code = IPython.notebook.insert_cell_below('code');\n",
       "        code.set_text(decodeURIComponent(window.atob(\"JTIzJTIwVGVtcCUwQWluc2VydCUyOCUyNyUyNyUyNyUwQW1pc2hyYTIwMTBhJTIwJTNEJTIwREIlMjhXb3JrVW5yZWxhdGVkJTI4JTBBJTIwJTIwJTIwJTIwMjAxMCUyQyUyMCUyMlBlb3BsZSUyME1hbmFnZW1lbnQlMjBpbiUyMFNvZnR3YXJlJTIwSW5kdXN0cnklM0ElMjBUaGUlMjBLZXklMjB0byUyMFN1Y2Nlc3MlMjIlMkMlMEElMjAlMjAlMjAlMjBkaXNwbGF5JTNEJTIybWlzaHJhJTIyJTJDJTBBJTIwJTIwJTIwJTIwYXV0aG9ycyUzRCUyMk1pc2hyYSUyQyUyMEFtaXQlMjBhbmQlMjBNaXNyYSUyQyUyMFNhbmpheSUyMiUyQyUwQSUyMCUyMCUyMCUyMHBsYWNlJTNERkFLRSUyQyUwQSUyMCUyMCUyMCUyMHBwJTNEJTIyMS0tNCUyMiUyQyUwQSUyMCUyMCUyMCUyMGVudHJ5dHlwZSUzRCUyMmFydGljbGUlMjIlMkMlMEElMjAlMjAlMjAlMjBpc3N1ZV9kYXRlJTNEJTIyTm92ZW1iZXIlMjAyMDEwJTIyJTJDJTBBJTIwJTIwJTIwJTIwdm9sdW1lJTNEJTIyMzUlMjIlMkMlMEElMjAlMjAlMjAlMjBudW1iZXIlM0QlMjI2JTIyJTJDJTBBJTIwJTIwJTIwJTIwbW9udGglM0QlMjJub3YlMjIlMkMlMEElMjAlMjAlMjAlMjBpc3NuJTNEJTIyMDE2My01OTQ4JTIyJTJDJTBBJTIwJTIwJTIwJTIwbnVtcGFnZXMlM0QlMjI0JTIyJTJDJTBBJTIwJTIwJTIwJTIwbGluayUzRCUyMmh0dHAlM0EvL2RvaS5hY20ub3JnLzEwLjExNDUvMTg3NDM5MS4xODc0NDAyJTIyJTJDJTBBJTIwJTIwJTIwJTIwZG9pJTNEJTIyMTAuMTE0NS8xODc0MzkxLjE4NzQ0MDIlMjIlMkMlMEElMjAlMjAlMjAlMjBhY21pZCUzRCUyMjE4NzQ0MDIlMjIlMkMlMEElMjAlMjAlMjAlMjBwdWJsaXNoZXIlM0QlMjJBQ00lMjIlMkMlMEElMjAlMjAlMjAlMjBhZGRyZXNzJTNEJTIyTmV3JTIwWW9yayUyQyUyME5ZJTJDJTIwVVNBJTIyJTJDJTBBJTIwJTIwJTIwJTIwa2V5d29yZCUzRCUyMnBlb3BsZSUyMG1hbmFnZW1lbnQlMkMlMjBzb2Z0d2FyZSUyMGRldmVsb3BtZW50JTJDJTIwc29mdHdhcmUlMjBpbmR1c3RyeSUyMiUyQyUwQSUyMCUyMCUyMCUyMElEJTNEJTIyTWlzaHJhJTNBMjAxMCUzQVBNUyUzQTE4NzQzOTEuMTg3NDQwMiUyMiUyQyUwQSUyMCUyMCUyMCUyMGFjbTIwMTUlM0QlMjIxJTIyJTJDJTBBJTIwJTIwJTIwJTIwcGxhY2V4JTNEJTIyU0lHU09GVCUyMFNvZnR3LiUyMEVuZy4lMjBOb3RlcyUyMiUyQyUwQSUyOSUyOSUwQSUyNyUyNyUyNyUyOSUzQg==\")));\n",
       "    "
      ],
      "text/plain": [
       "<IPython.core.display.Javascript object>"
      ]
     },
     "metadata": {},
     "output_type": "display_data"
    },
    {
     "data": {
      "application/javascript": [
       "$('span:contains(\"# Temp\")').closest('.cell').remove();"
      ],
      "text/plain": [
       "<IPython.core.display.Javascript object>"
      ]
     },
     "metadata": {},
     "output_type": "display_data"
    },
    {
     "data": {
      "application/javascript": [
       "\n",
       "        $('span:contains(\"# Temp\")').closest('.cell').remove();\n",
       "        var code = IPython.notebook.insert_cell_below('code');\n",
       "        code.set_text(decodeURIComponent(window.atob(\"JTIzJTIwVGVtcCUwQWluc2VydCUyOCUyNyUyNyUyNyUwQXNwb2Vsc3RyYTIwMTFhJTIwJTNEJTIwREIlMjhXb3JrVW5yZWxhdGVkJTI4JTBBJTIwJTIwJTIwJTIwMjAxMSUyQyUyMCUyMlNvZnR3YXJlJTIwUmV1c2UlMjBpbiUyMEFnaWxlJTIwRGV2ZWxvcG1lbnQlMjBPcmdhbml6YXRpb25zJTNBJTIwQSUyMENvbmNlcHR1YWwlMjBNYW5hZ2VtZW50JTIwVG9vbCUyMiUyQyUwQSUyMCUyMCUyMCUyMGRpc3BsYXklM0QlMjJzcG9lbHN0cmElMjIlMkMlMEElMjAlMjAlMjAlMjBhdXRob3JzJTNEJTIyU3BvZWxzdHJhJTJDJTIwV291dGVyJTIwYW5kJTIwSWFjb2IlMkMlMjBNYXJpYSUyMGFuZCUyMHZhbiUyMFNpbmRlcmVuJTJDJTIwTWFydGVuJTIyJTJDJTBBJTIwJTIwJTIwJTIwcGxhY2UlM0RGQUtFJTJDJTBBJTIwJTIwJTIwJTIwcHAlM0QlMjIzMTUtLTMyMiUyMiUyQyUwQSUyMCUyMCUyMCUyMGVudHJ5dHlwZSUzRCUyMmlucHJvY2VlZGluZ3MlMjIlMkMlMEElMjAlMjAlMjAlMjBzZXJpZXMlM0QlMjJTQUMlMjAlMjcxMSUyMiUyQyUwQSUyMCUyMCUyMCUyMGlzYm4lM0QlMjI5NzgtMS00NTAzLTAxMTMtOCUyMiUyQyUwQSUyMCUyMCUyMCUyMGxvY2F0aW9uJTNEJTIyVGFpQ2h1bmclMkMlMjBUYWl3YW4lMjIlMkMlMEElMjAlMjAlMjAlMjBudW1wYWdlcyUzRCUyMjglMjIlMkMlMEElMjAlMjAlMjAlMjBsaW5rJTNEJTIyaHR0cCUzQS8vZG9pLmFjbS5vcmcvMTAuMTE0NS8xOTgyMTg1LjE5ODIyNTUlMjIlMkMlMEElMjAlMjAlMjAlMjBkb2klM0QlMjIxMC4xMTQ1LzE5ODIxODUuMTk4MjI1NSUyMiUyQyUwQSUyMCUyMCUyMCUyMGFjbWlkJTNEJTIyMTk4MjI1NSUyMiUyQyUwQSUyMCUyMCUyMCUyMHB1Ymxpc2hlciUzRCUyMkFDTSUyMiUyQyUwQSUyMCUyMCUyMCUyMGFkZHJlc3MlM0QlMjJOZXclMjBZb3JrJTJDJTIwTlklMkMlMjBVU0ElMjIlMkMlMEElMjAlMjAlMjAlMjBrZXl3b3JkJTNEJTIyYWdpbGUlMjBkZXZlbG9wbWVudCUyQyUyMGFzc2Vzc21lbnQlMjBtZXRob2QlMkMlMjBrbm93bGVkZ2UlMjBtYW5hZ2VtZW50JTJDJTIwbWF0dXJpdHklMjBsZXZlbHMlMkMlMjByZXVzZSUyMGZhY3RvcnMlMkMlMjByZXVzZSUyMG1hdHVyaXR5JTIwbW9kZWwlMkMlMjBzb2Z0d2FyZSUyMHJldXNlJTIyJTJDJTBBJTIwJTIwJTIwJTIwSUQlM0QlMjJTcG9lbHN0cmElM0EyMDExJTNBU1JBJTNBMTk4MjE4NS4xOTgyMjU1JTIyJTJDJTBBJTIwJTIwJTIwJTIwYWNtMjAxNSUzRCUyMjElMjIlMkMlMEElMjAlMjAlMjAlMjBwbGFjZXglM0QlMjJQcm9jZWVkaW5ncyUyMG9mJTIwdGhlJTIwMjAxMSUyMEFDTSUyMFN5bXBvc2l1bSUyMG9uJTIwQXBwbGllZCUyMENvbXB1dGluZyUyMiUyQyUwQSUyOSUyOSUwQSUyNyUyNyUyNyUyOSUzQg==\")));\n",
       "    "
      ],
      "text/plain": [
       "<IPython.core.display.Javascript object>"
      ]
     },
     "metadata": {},
     "output_type": "display_data"
    },
    {
     "data": {
      "application/javascript": [
       "$('span:contains(\"# Temp\")').closest('.cell').remove();"
      ],
      "text/plain": [
       "<IPython.core.display.Javascript object>"
      ]
     },
     "metadata": {},
     "output_type": "display_data"
    },
    {
     "data": {
      "application/javascript": [
       "\n",
       "        $('span:contains(\"# Temp\")').closest('.cell').remove();\n",
       "        var code = IPython.notebook.insert_cell_below('code');\n",
       "        code.set_text(decodeURIComponent(window.atob(\"JTIzJTIwVGVtcCUwQWluc2VydCUyOCUyNyUyNyUyNyUwQXNwb2Vsc3RyYTIwMTFhJTIwJTNEJTIwREIlMjhXb3JrVW5yZWxhdGVkJTI4JTBBJTIwJTIwJTIwJTIwMjAxMSUyQyUyMCUyMlNvZnR3YXJlJTIwUmV1c2UlMjBpbiUyMEFnaWxlJTIwRGV2ZWxvcG1lbnQlMjBPcmdhbml6YXRpb25zJTNBJTIwQSUyMENvbmNlcHR1YWwlMjBNYW5hZ2VtZW50JTIwVG9vbCUyMiUyQyUwQSUyMCUyMCUyMCUyMGRpc3BsYXklM0QlMjJzcG9lbHN0cmElMjIlMkMlMEElMjAlMjAlMjAlMjBhdXRob3JzJTNEJTIyU3BvZWxzdHJhJTJDJTIwV291dGVyJTIwYW5kJTIwSWFjb2IlMkMlMjBNYXJpYSUyMGFuZCUyMHZhbiUyMFNpbmRlcmVuJTJDJTIwTWFydGVuJTIyJTJDJTBBJTIwJTIwJTIwJTIwcGxhY2UlM0RGQUtFJTJDJTBBJTIwJTIwJTIwJTIwcHAlM0QlMjIzMTUtLTMyMiUyMiUyQyUwQSUyMCUyMCUyMCUyMGVudHJ5dHlwZSUzRCUyMmlucHJvY2VlZGluZ3MlMjIlMkMlMEElMjAlMjAlMjAlMjBzZXJpZXMlM0QlMjJTQUMlMjAlMjcxMSUyMiUyQyUwQSUyMCUyMCUyMCUyMGlzYm4lM0QlMjI5NzgtMS00NTAzLTAxMTMtOCUyMiUyQyUwQSUyMCUyMCUyMCUyMGxvY2F0aW9uJTNEJTIyVGFpQ2h1bmclMkMlMjBUYWl3YW4lMjIlMkMlMEElMjAlMjAlMjAlMjBudW1wYWdlcyUzRCUyMjglMjIlMkMlMEElMjAlMjAlMjAlMjBsaW5rJTNEJTIyaHR0cCUzQS8vZG9pLmFjbS5vcmcvMTAuMTE0NS8xOTgyMTg1LjE5ODIyNTUlMjIlMkMlMEElMjAlMjAlMjAlMjBkb2klM0QlMjIxMC4xMTQ1LzE5ODIxODUuMTk4MjI1NSUyMiUyQyUwQSUyMCUyMCUyMCUyMGFjbWlkJTNEJTIyMTk4MjI1NSUyMiUyQyUwQSUyMCUyMCUyMCUyMHB1Ymxpc2hlciUzRCUyMkFDTSUyMiUyQyUwQSUyMCUyMCUyMCUyMGFkZHJlc3MlM0QlMjJOZXclMjBZb3JrJTJDJTIwTlklMkMlMjBVU0ElMjIlMkMlMEElMjAlMjAlMjAlMjBrZXl3b3JkJTNEJTIyYWdpbGUlMjBkZXZlbG9wbWVudCUyQyUyMGFzc2Vzc21lbnQlMjBtZXRob2QlMkMlMjBrbm93bGVkZ2UlMjBtYW5hZ2VtZW50JTJDJTIwbWF0dXJpdHklMjBsZXZlbHMlMkMlMjByZXVzZSUyMGZhY3RvcnMlMkMlMjByZXVzZSUyMG1hdHVyaXR5JTIwbW9kZWwlMkMlMjBzb2Z0d2FyZSUyMHJldXNlJTIyJTJDJTBBJTIwJTIwJTIwJTIwSUQlM0QlMjJTcG9lbHN0cmElM0EyMDExJTNBU1JBJTNBMTk4MjE4NS4xOTgyMjU1JTIyJTJDJTBBJTIwJTIwJTIwJTIwYWNtMjAxNSUzRCUyMjElMjIlMkMlMEElMjAlMjAlMjAlMjBwbGFjZXglM0QlMjJQcm9jZWVkaW5ncyUyMG9mJTIwdGhlJTIwMjAxMSUyMEFDTSUyMFN5bXBvc2l1bSUyMG9uJTIwQXBwbGllZCUyMENvbXB1dGluZyUyMiUyQyUwQSUyOSUyOSUwQSUyNyUyNyUyNyUyOSUzQg==\")));\n",
       "    "
      ],
      "text/plain": [
       "<IPython.core.display.Javascript object>"
      ]
     },
     "metadata": {},
     "output_type": "display_data"
    },
    {
     "data": {
      "application/javascript": [
       "$('span:contains(\"# Temp\")').closest('.cell').remove();"
      ],
      "text/plain": [
       "<IPython.core.display.Javascript object>"
      ]
     },
     "metadata": {},
     "output_type": "display_data"
    },
    {
     "data": {
      "application/javascript": [
       "\n",
       "        $('span:contains(\"# Temp\")').closest('.cell').remove();\n",
       "        var code = IPython.notebook.insert_cell_below('code');\n",
       "        code.set_text(decodeURIComponent(window.atob(\"JTIzJTIwVGVtcCUwQWluc2VydCUyOCUyNyUyNyUyNyUwQWZhbGVzc2kyMDEzYSUyMCUzRCUyMERCJTI4V29ya1VucmVsYXRlZCUyOCUwQSUyMCUyMCUyMCUyMDIwMTMlMkMlMjAlMjJUaGUlMjBWYWx1ZSUyMG9mJTIwRGVzaWduJTIwUmF0aW9uYWxlJTIwSW5mb3JtYXRpb24lMjIlMkMlMEElMjAlMjAlMjAlMjBkaXNwbGF5JTNEJTIyZmFsZXNzaSUyMiUyQyUwQSUyMCUyMCUyMCUyMGF1dGhvcnMlM0QlMjJGYWxlc3NpJTJDJTIwRGF2aWRlJTIwYW5kJTIwQnJpYW5kJTJDJTIwTGlvbmVsJTIwQy4lMjBhbmQlMjBDYW50b25lJTJDJTIwR2lvdmFubmklMjBhbmQlMjBDYXBpbGxhJTJDJTIwUmFmYWVsJTIwYW5kJTIwS3J1Y2h0ZW4lMkMlMjBQaGlsaXBwZSUyMiUyQyUwQSUyMCUyMCUyMCUyMHBsYWNlJTNERkFLRSUyQyUwQSUyMCUyMCUyMCUyMHBwJTNEJTIyMjElM0ExLS0yMSUzQTMyJTIyJTJDJTBBJTIwJTIwJTIwJTIwZW50cnl0eXBlJTNEJTIyYXJ0aWNsZSUyMiUyQyUwQSUyMCUyMCUyMCUyMGlzc3VlX2RhdGUlM0QlMjJKdWx5JTIwMjAxMyUyMiUyQyUwQSUyMCUyMCUyMCUyMHZvbHVtZSUzRCUyMjIyJTIyJTJDJTBBJTIwJTIwJTIwJTIwbnVtYmVyJTNEJTIyMyUyMiUyQyUwQSUyMCUyMCUyMCUyMG1vbnRoJTNEJTIyanVsJTIyJTJDJTBBJTIwJTIwJTIwJTIwaXNzbiUzRCUyMjEwNDktMzMxWCUyMiUyQyUwQSUyMCUyMCUyMCUyMGFydGljbGVubyUzRCUyMjIxJTIyJTJDJTBBJTIwJTIwJTIwJTIwbnVtcGFnZXMlM0QlMjIzMiUyMiUyQyUwQSUyMCUyMCUyMCUyMGxpbmslM0QlMjJodHRwJTNBLy9kb2kuYWNtLm9yZy8xMC4xMTQ1LzI0OTE1MDkuMjQ5MTUxNSUyMiUyQyUwQSUyMCUyMCUyMCUyMGRvaSUzRCUyMjEwLjExNDUvMjQ5MTUwOS4yNDkxNTE1JTIyJTJDJTBBJTIwJTIwJTIwJTIwYWNtaWQlM0QlMjIyNDkxNTE1JTIyJTJDJTBBJTIwJTIwJTIwJTIwcHVibGlzaGVyJTNEJTIyQUNNJTIyJTJDJTBBJTIwJTIwJTIwJTIwYWRkcmVzcyUzRCUyMk5ldyUyMFlvcmslMkMlMjBOWSUyQyUyMFVTQSUyMiUyQyUwQSUyMCUyMCUyMCUyMGtleXdvcmQlM0QlMjJFbXBpcmljYWwlMjBzb2Z0d2FyZSUyMGVuZ2luZWVyaW5nJTJDJTIwZGVzaWduJTIwZGVjaXNpb25zJTJDJTIwc29mdHdhcmUlMjBhcmNoaXRlY3R1cmUlMkMlMjBzb2Z0d2FyZSUyMG1haW50ZW5hbmNlJTJDJTIwdmFsdWUtYmFzZWQlMjBzb2Z0d2FyZSUyMGVuZ2luZWVyaW5nJTIyJTJDJTBBJTIwJTIwJTIwJTIwSUQlM0QlMjJGYWxlc3NpJTNBMjAxMyUzQVZEUiUzQTI0OTE1MDkuMjQ5MTUxNSUyMiUyQyUwQSUyMCUyMCUyMCUyMGFjbTIwMTUlM0QlMjIxJTIyJTJDJTBBJTIwJTIwJTIwJTIwcGxhY2V4JTNEJTIyQUNNJTIwVHJhbnMuJTIwU29mdHcuJTIwRW5nLiUyME1ldGhvZG9sLiUyMiUyQyUwQSUyOSUyOSUwQSUyNyUyNyUyNyUyOSUzQg==\")));\n",
       "    "
      ],
      "text/plain": [
       "<IPython.core.display.Javascript object>"
      ]
     },
     "metadata": {},
     "output_type": "display_data"
    },
    {
     "data": {
      "application/javascript": [
       "$('span:contains(\"# Temp\")').closest('.cell').remove();"
      ],
      "text/plain": [
       "<IPython.core.display.Javascript object>"
      ]
     },
     "metadata": {},
     "output_type": "display_data"
    },
    {
     "data": {
      "application/javascript": [
       "\n",
       "        $('span:contains(\"# Temp\")').closest('.cell').remove();\n",
       "        var code = IPython.notebook.insert_cell_below('code');\n",
       "        code.set_text(decodeURIComponent(window.atob(\"JTIzJTIwVGVtcCUwQWluc2VydCUyOCUyNyUyNyUyNyUwQWZhbGVzc2kyMDEzYSUyMCUzRCUyMERCJTI4V29ya1VucmVsYXRlZCUyOCUwQSUyMCUyMCUyMCUyMDIwMTMlMkMlMjAlMjJUaGUlMjBWYWx1ZSUyMG9mJTIwRGVzaWduJTIwUmF0aW9uYWxlJTIwSW5mb3JtYXRpb24lMjIlMkMlMEElMjAlMjAlMjAlMjBkaXNwbGF5JTNEJTIyZmFsZXNzaSUyMiUyQyUwQSUyMCUyMCUyMCUyMGF1dGhvcnMlM0QlMjJGYWxlc3NpJTJDJTIwRGF2aWRlJTIwYW5kJTIwQnJpYW5kJTJDJTIwTGlvbmVsJTIwQy4lMjBhbmQlMjBDYW50b25lJTJDJTIwR2lvdmFubmklMjBhbmQlMjBDYXBpbGxhJTJDJTIwUmFmYWVsJTIwYW5kJTIwS3J1Y2h0ZW4lMkMlMjBQaGlsaXBwZSUyMiUyQyUwQSUyMCUyMCUyMCUyMHBsYWNlJTNERkFLRSUyQyUwQSUyMCUyMCUyMCUyMHBwJTNEJTIyMjElM0ExLS0yMSUzQTMyJTIyJTJDJTBBJTIwJTIwJTIwJTIwZW50cnl0eXBlJTNEJTIyYXJ0aWNsZSUyMiUyQyUwQSUyMCUyMCUyMCUyMGlzc3VlX2RhdGUlM0QlMjJKdWx5JTIwMjAxMyUyMiUyQyUwQSUyMCUyMCUyMCUyMHZvbHVtZSUzRCUyMjIyJTIyJTJDJTBBJTIwJTIwJTIwJTIwbnVtYmVyJTNEJTIyMyUyMiUyQyUwQSUyMCUyMCUyMCUyMG1vbnRoJTNEJTIyanVsJTIyJTJDJTBBJTIwJTIwJTIwJTIwaXNzbiUzRCUyMjEwNDktMzMxWCUyMiUyQyUwQSUyMCUyMCUyMCUyMGFydGljbGVubyUzRCUyMjIxJTIyJTJDJTBBJTIwJTIwJTIwJTIwbnVtcGFnZXMlM0QlMjIzMiUyMiUyQyUwQSUyMCUyMCUyMCUyMGxpbmslM0QlMjJodHRwJTNBLy9kb2kuYWNtLm9yZy8xMC4xMTQ1LzI0OTE1MDkuMjQ5MTUxNSUyMiUyQyUwQSUyMCUyMCUyMCUyMGRvaSUzRCUyMjEwLjExNDUvMjQ5MTUwOS4yNDkxNTE1JTIyJTJDJTBBJTIwJTIwJTIwJTIwYWNtaWQlM0QlMjIyNDkxNTE1JTIyJTJDJTBBJTIwJTIwJTIwJTIwcHVibGlzaGVyJTNEJTIyQUNNJTIyJTJDJTBBJTIwJTIwJTIwJTIwYWRkcmVzcyUzRCUyMk5ldyUyMFlvcmslMkMlMjBOWSUyQyUyMFVTQSUyMiUyQyUwQSUyMCUyMCUyMCUyMGtleXdvcmQlM0QlMjJFbXBpcmljYWwlMjBzb2Z0d2FyZSUyMGVuZ2luZWVyaW5nJTJDJTIwZGVzaWduJTIwZGVjaXNpb25zJTJDJTIwc29mdHdhcmUlMjBhcmNoaXRlY3R1cmUlMkMlMjBzb2Z0d2FyZSUyMG1haW50ZW5hbmNlJTJDJTIwdmFsdWUtYmFzZWQlMjBzb2Z0d2FyZSUyMGVuZ2luZWVyaW5nJTIyJTJDJTBBJTIwJTIwJTIwJTIwSUQlM0QlMjJGYWxlc3NpJTNBMjAxMyUzQVZEUiUzQTI0OTE1MDkuMjQ5MTUxNSUyMiUyQyUwQSUyMCUyMCUyMCUyMGFjbTIwMTUlM0QlMjIxJTIyJTJDJTBBJTIwJTIwJTIwJTIwcGxhY2V4JTNEJTIyQUNNJTIwVHJhbnMuJTIwU29mdHcuJTIwRW5nLiUyME1ldGhvZG9sLiUyMiUyQyUwQSUyOSUyOSUwQSUyNyUyNyUyNyUyOSUzQg==\")));\n",
       "    "
      ],
      "text/plain": [
       "<IPython.core.display.Javascript object>"
      ]
     },
     "metadata": {},
     "output_type": "display_data"
    },
    {
     "data": {
      "application/javascript": [
       "$('span:contains(\"# Temp\")').closest('.cell').remove();"
      ],
      "text/plain": [
       "<IPython.core.display.Javascript object>"
      ]
     },
     "metadata": {},
     "output_type": "display_data"
    },
    {
     "data": {
      "application/javascript": [
       "\n",
       "        $('span:contains(\"# Temp\")').closest('.cell').remove();\n",
       "        var code = IPython.notebook.insert_cell_below('code');\n",
       "        code.set_text(decodeURIComponent(window.atob(\"JTIzJTIwVGVtcCUwQWluc2VydCUyOCUyNyUyNyUyNyUwQXR1cm51MjAwNGElMjAlM0QlMjBEQiUyOFdvcmtVbnJlbGF0ZWQlMjglMEElMjAlMjAlMjAlMjAyMDA0JTJDJTIwJTIySW50cm9kdWNpbmclMjBUREQlMjBvbiUyMGElMjBGcmVlJTIwTGlicmUlMjBPcGVuJTIwU291cmNlJTIwU29mdHdhcmUlMjBQcm9qZWN0JTNBJTIwQSUyMFNpbXVsYXRpb24lMjBFeHBlcmltZW50JTIyJTJDJTBBJTIwJTIwJTIwJTIwZGlzcGxheSUzRCUyMnR1cm51JTIyJTJDJTBBJTIwJTIwJTIwJTIwYXV0aG9ycyUzRCUyMlR1cm51JTJDJTIwSXZhbmElMjBhbmQlMjBNZWxpcyUyQyUyME1hcmNvJTIwYW5kJTIwQ2F1JTJDJTIwQWxlc3NhbmRyYSUyMGFuZCUyME1hcmNoZXNpJTJDJTIwTWljaGVsZSUyMGFuZCUyMFNldHp1JTJDJTIwQWxlc3NpbyUyMiUyQyUwQSUyMCUyMCUyMCUyMHBsYWNlJTNERkFLRSUyQyUwQSUyMCUyMCUyMCUyMHBwJTNEJTIyNTktLTY1JTIyJTJDJTBBJTIwJTIwJTIwJTIwZW50cnl0eXBlJTNEJTIyaW5wcm9jZWVkaW5ncyUyMiUyQyUwQSUyMCUyMCUyMCUyMHNlcmllcyUzRCUyMlFVVEUtU1dBUCUyMCUyNzA0JTIyJTJDJTBBJTIwJTIwJTIwJTIwbG9jYXRpb24lM0QlMjJOZXdwb3J0JTIwQmVhY2glMkMlMjBDYWxpZm9ybmlhJTIyJTJDJTBBJTIwJTIwJTIwJTIwbnVtcGFnZXMlM0QlMjI3JTIyJTJDJTBBJTIwJTIwJTIwJTIwbGluayUzRCUyMmh0dHAlM0EvL2RvaS5hY20ub3JnLzEwLjExNDUvMTE1MTQzMy4xMTUxNDQyJTIyJTJDJTBBJTIwJTIwJTIwJTIwZG9pJTNEJTIyMTAuMTE0NS8xMTUxNDMzLjExNTE0NDIlMjIlMkMlMEElMjAlMjAlMjAlMjBhY21pZCUzRCUyMjExNTE0NDIlMjIlMkMlMEElMjAlMjAlMjAlMjBwdWJsaXNoZXIlM0QlMjJBQ00lMjIlMkMlMEElMjAlMjAlMjAlMjBhZGRyZXNzJTNEJTIyTmV3JTIwWW9yayUyQyUyME5ZJTJDJTIwVVNBJTIyJTJDJTBBJTIwJTIwJTIwJTIwa2V5d29yZCUzRCUyMmRpc2NyZXRlJTIwZXZlbnQlMjBtb2RlbGluZyUyQyUyMG9wZW4lMjBzb3VyY2UlMjBwcm9jZXNzJTJDJTIwcHJvY2VzcyUyMG1vZGVsaW5nJTIwYW5kJTIwc2ltdWxhdGlvbiUyMiUyQyUwQSUyMCUyMCUyMCUyMElEJTNEJTIyVHVybnUlM0EyMDA0JTNBSVRGJTNBMTE1MTQzMy4xMTUxNDQyJTIyJTJDJTBBJTIwJTIwJTIwJTIwYWNtMjAxNSUzRCUyMjElMjIlMkMlMEElMjAlMjAlMjAlMjBwbGFjZXglM0QlMjJQcm9jZWVkaW5ncyUyMG9mJTIwdGhlJTIwMjAwNCUyMFdvcmtzaG9wJTIwb24lMjBRdWFudGl0YXRpdmUlMjBUZWNobmlxdWVzJTIwZm9yJTIwU29mdHdhcmUlMjBBZ2lsZSUyMFByb2Nlc3MlMjIlMkMlMEElMjklMjklMEElMjclMjclMjclMjklM0I=\")));\n",
       "    "
      ],
      "text/plain": [
       "<IPython.core.display.Javascript object>"
      ]
     },
     "metadata": {},
     "output_type": "display_data"
    },
    {
     "data": {
      "application/javascript": [
       "$('span:contains(\"# Temp\")').closest('.cell').remove();"
      ],
      "text/plain": [
       "<IPython.core.display.Javascript object>"
      ]
     },
     "metadata": {},
     "output_type": "display_data"
    },
    {
     "data": {
      "application/javascript": [
       "\n",
       "        $('span:contains(\"# Temp\")').closest('.cell').remove();\n",
       "        var code = IPython.notebook.insert_cell_below('code');\n",
       "        code.set_text(decodeURIComponent(window.atob(\"JTIzJTIwVGVtcCUwQWluc2VydCUyOCUyNyUyNyUyNyUwQXR1cm51MjAwNGElMjAlM0QlMjBEQiUyOFdvcmtVbnJlbGF0ZWQlMjglMEElMjAlMjAlMjAlMjAyMDA0JTJDJTIwJTIySW50cm9kdWNpbmclMjBUREQlMjBvbiUyMGElMjBGcmVlJTIwTGlicmUlMjBPcGVuJTIwU291cmNlJTIwU29mdHdhcmUlMjBQcm9qZWN0JTNBJTIwQSUyMFNpbXVsYXRpb24lMjBFeHBlcmltZW50JTIyJTJDJTBBJTIwJTIwJTIwJTIwZGlzcGxheSUzRCUyMnR1cm51JTIyJTJDJTBBJTIwJTIwJTIwJTIwYXV0aG9ycyUzRCUyMlR1cm51JTJDJTIwSXZhbmElMjBhbmQlMjBNZWxpcyUyQyUyME1hcmNvJTIwYW5kJTIwQ2F1JTJDJTIwQWxlc3NhbmRyYSUyMGFuZCUyME1hcmNoZXNpJTJDJTIwTWljaGVsZSUyMGFuZCUyMFNldHp1JTJDJTIwQWxlc3NpbyUyMiUyQyUwQSUyMCUyMCUyMCUyMHBsYWNlJTNERkFLRSUyQyUwQSUyMCUyMCUyMCUyMHBwJTNEJTIyNTktLTY1JTIyJTJDJTBBJTIwJTIwJTIwJTIwZW50cnl0eXBlJTNEJTIyaW5wcm9jZWVkaW5ncyUyMiUyQyUwQSUyMCUyMCUyMCUyMHNlcmllcyUzRCUyMlFVVEUtU1dBUCUyMCUyNzA0JTIyJTJDJTBBJTIwJTIwJTIwJTIwbG9jYXRpb24lM0QlMjJOZXdwb3J0JTIwQmVhY2glMkMlMjBDYWxpZm9ybmlhJTIyJTJDJTBBJTIwJTIwJTIwJTIwbnVtcGFnZXMlM0QlMjI3JTIyJTJDJTBBJTIwJTIwJTIwJTIwbGluayUzRCUyMmh0dHAlM0EvL2RvaS5hY20ub3JnLzEwLjExNDUvMTE1MTQzMy4xMTUxNDQyJTIyJTJDJTBBJTIwJTIwJTIwJTIwZG9pJTNEJTIyMTAuMTE0NS8xMTUxNDMzLjExNTE0NDIlMjIlMkMlMEElMjAlMjAlMjAlMjBhY21pZCUzRCUyMjExNTE0NDIlMjIlMkMlMEElMjAlMjAlMjAlMjBwdWJsaXNoZXIlM0QlMjJBQ00lMjIlMkMlMEElMjAlMjAlMjAlMjBhZGRyZXNzJTNEJTIyTmV3JTIwWW9yayUyQyUyME5ZJTJDJTIwVVNBJTIyJTJDJTBBJTIwJTIwJTIwJTIwa2V5d29yZCUzRCUyMmRpc2NyZXRlJTIwZXZlbnQlMjBtb2RlbGluZyUyQyUyMG9wZW4lMjBzb3VyY2UlMjBwcm9jZXNzJTJDJTIwcHJvY2VzcyUyMG1vZGVsaW5nJTIwYW5kJTIwc2ltdWxhdGlvbiUyMiUyQyUwQSUyMCUyMCUyMCUyMElEJTNEJTIyVHVybnUlM0EyMDA0JTNBSVRGJTNBMTE1MTQzMy4xMTUxNDQyJTIyJTJDJTBBJTIwJTIwJTIwJTIwYWNtMjAxNSUzRCUyMjElMjIlMkMlMEElMjAlMjAlMjAlMjBwbGFjZXglM0QlMjJQcm9jZWVkaW5ncyUyMG9mJTIwdGhlJTIwMjAwNCUyMFdvcmtzaG9wJTIwb24lMjBRdWFudGl0YXRpdmUlMjBUZWNobmlxdWVzJTIwZm9yJTIwU29mdHdhcmUlMjBBZ2lsZSUyMFByb2Nlc3MlMjIlMkMlMEElMjklMjklMEElMjclMjclMjclMjklM0I=\")));\n",
       "    "
      ],
      "text/plain": [
       "<IPython.core.display.Javascript object>"
      ]
     },
     "metadata": {},
     "output_type": "display_data"
    }
   ],
   "source": [
    "from custom_snowballing import UnrelatedInsert\n",
    "UnrelatedInsert(\"acm2015\", articles=article_list)"
   ]
  },
  {
   "cell_type": "code",
   "execution_count": 62,
   "metadata": {},
   "outputs": [
    {
     "name": "stdout",
     "output_type": "stream",
     "text": [
      "-Insert: turnu2004a\n"
     ]
    }
   ],
   "source": [
    "# Temp\n",
    "insert('''\n",
    "turnu2004a = DB(WorkUnrelated(\n",
    "    2004, \"Introducing TDD on a Free Libre Open Source Software Project: A Simulation Experiment\",\n",
    "    display=\"turnu\",\n",
    "    authors=\"Turnu, Ivana and Melis, Marco and Cau, Alessandra and Marchesi, Michele and Setzu, Alessio\",\n",
    "    place=FAKE,\n",
    "    pp=\"59--65\",\n",
    "    entrytype=\"inproceedings\",\n",
    "    series=\"QUTE-SWAP '04\",\n",
    "    location=\"Newport Beach, California\",\n",
    "    numpages=\"7\",\n",
    "    link=\"http://doi.acm.org/10.1145/1151433.1151442\",\n",
    "    doi=\"10.1145/1151433.1151442\",\n",
    "    acmid=\"1151442\",\n",
    "    publisher=\"ACM\",\n",
    "    address=\"New York, NY, USA\",\n",
    "    keyword=\"discrete event modeling, open source process, process modeling and simulation\",\n",
    "    ID=\"Turnu:2004:ITF:1151433.1151442\",\n",
    "    acm2015=\"1\",\n",
    "    placex=\"Proceedings of the 2004 Workshop on Quantitative Techniques for Software Agile Process\",\n",
    "))\n",
    "''');"
   ]
  },
  {
   "cell_type": "code",
   "execution_count": null,
   "metadata": {},
   "outputs": [],
   "source": [
    "ArticleNavigator(articles=article_list)"
   ]
  }
 ],
 "metadata": {
  "kernelspec": {
   "display_name": "Python 3",
   "language": "python",
   "name": "python3"
  },
  "language_info": {
   "codemirror_mode": {
    "name": "ipython",
    "version": 3
   },
   "file_extension": ".py",
   "mimetype": "text/x-python",
   "name": "python",
   "nbconvert_exporter": "python",
   "pygments_lexer": "ipython3",
   "version": "3.6.0"
  },
  "toc": {
   "nav_menu": {
    "height": "12px",
    "width": "252px"
   },
   "number_sections": true,
   "sideBar": true,
   "skip_h1_title": false,
   "toc_cell": false,
   "toc_position": {},
   "toc_section_display": "block",
   "toc_window_display": false
  }
 },
 "nbformat": 4,
 "nbformat_minor": 2
}
