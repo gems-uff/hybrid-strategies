{
 "cells": [
  {
   "cell_type": "code",
   "execution_count": 1,
   "metadata": {
    "collapsed": true
   },
   "outputs": [],
   "source": [
    "import database\n",
    "from snowballing.operations import load_work, reload, work_by_varname\n",
    "from snowballing.snowballing import Converter\n",
    "from snowballing.snowballing import ArticleNavigator\n",
    "from snowballing.dbmanager import insert, set_attribute"
   ]
  },
  {
   "cell_type": "code",
   "execution_count": 125,
   "metadata": {
    "scrolled": false
   },
   "outputs": [
    {
     "data": {
      "application/vnd.jupyter.widget-view+json": {
       "model_id": "bc09573a51844d1085a71383250d3bef",
       "version_major": 2,
       "version_minor": 0
      },
      "text/html": [
       "<p>Failed to display Jupyter Widget of type <code>VBox</code>.</p>\n",
       "<p>\n",
       "  If you're reading this message in Jupyter Notebook or JupyterLab, it may mean\n",
       "  that the widgets JavaScript is still loading. If this message persists, it\n",
       "  likely means that the widgets JavaScript library is either not installed or\n",
       "  not enabled. See the <a href=\"https://ipywidgets.readthedocs.io/en/stable/user_install.html\">Jupyter\n",
       "  Widgets Documentation</a> for setup instructions.\n",
       "</p>\n",
       "<p>\n",
       "  If you're reading this message in another notebook frontend (for example, a static\n",
       "  rendering on GitHub or <a href=\"https://nbviewer.jupyter.org/\">NBViewer</a>),\n",
       "  it may mean that your frontend doesn't currently support widgets.\n",
       "</p>\n"
      ],
      "text/plain": [
       "VBox(children=(HBox(children=(Dropdown(options={'BibTeX': 'bibtex', 'Text': 'text', '[N] author name place other year': 'citation', 'Quoted': 'quoted'}, value='bibtex'), Button(description='Set article_list variable', style=ButtonStyle()), Label(value=''))), HBox(children=(Textarea(value='', layout=Layout(height='500px', width='50%')), Textarea(value='', layout=Layout(height='500px', width='50%'))))))"
      ]
     },
     "metadata": {},
     "output_type": "display_data"
    }
   ],
   "source": [
    "Converter(\"bibtex\")"
   ]
  },
  {
   "cell_type": "code",
   "execution_count": 126,
   "metadata": {},
   "outputs": [
    {
     "data": {
      "text/plain": [
       "4"
      ]
     },
     "execution_count": 126,
     "metadata": {},
     "output_type": "execute_result"
    }
   ],
   "source": [
    "len(article_list)"
   ]
  },
  {
   "cell_type": "code",
   "execution_count": 127,
   "metadata": {},
   "outputs": [],
   "source": [
    "from snowballing.operations import reload\n",
    "reload()\n"
   ]
  },
  {
   "cell_type": "code",
   "execution_count": null,
   "metadata": {
    "collapsed": true
   },
   "outputs": [],
   "source": []
  },
  {
   "cell_type": "code",
   "execution_count": null,
   "metadata": {
    "collapsed": true,
    "scrolled": false
   },
   "outputs": [],
   "source": [
    "ArticleNavigator??"
   ]
  },
  {
   "cell_type": "code",
   "execution_count": null,
   "metadata": {
    "collapsed": true
   },
   "outputs": [],
   "source": []
  },
  {
   "cell_type": "code",
   "execution_count": null,
   "metadata": {
    "collapsed": true
   },
   "outputs": [],
   "source": []
  },
  {
   "cell_type": "code",
   "execution_count": 128,
   "metadata": {},
   "outputs": [
    {
     "data": {
      "application/vnd.jupyter.widget-view+json": {
       "model_id": "7ec14be4a6fa4fee9f5748354070b33a",
       "version_major": 2,
       "version_minor": 0
      },
      "text/html": [
       "<p>Failed to display Jupyter Widget of type <code>VBox</code>.</p>\n",
       "<p>\n",
       "  If you're reading this message in Jupyter Notebook or JupyterLab, it may mean\n",
       "  that the widgets JavaScript is still loading. If this message persists, it\n",
       "  likely means that the widgets JavaScript library is either not installed or\n",
       "  not enabled. See the <a href=\"https://ipywidgets.readthedocs.io/en/stable/user_install.html\">Jupyter\n",
       "  Widgets Documentation</a> for setup instructions.\n",
       "</p>\n",
       "<p>\n",
       "  If you're reading this message in another notebook frontend (for example, a static\n",
       "  rendering on GitHub or <a href=\"https://nbviewer.jupyter.org/\">NBViewer</a>),\n",
       "  it may mean that your frontend doesn't currently support widgets.\n",
       "</p>\n"
      ],
      "text/plain": [
       "VBox(children=(HBox(children=(Button(description='Previous Article', disabled=True, icon='caret-left', style=ButtonStyle()), Button(description='Reload Article', icon='refresh', style=ButtonStyle()), Button(description='Next Article', icon='caret-right', style=ButtonStyle()))), HBox(children=(Dropdown(description='Type', index=3, options=('Work', 'WorkSnowball', 'WorkOk', 'WorkUnrelated', 'WorkNoFile', 'WorkLang', 'Site', 'Email'), value='WorkUnrelated'), ToggleButton(value=False, description='File'))), HBox(children=(Text(value='', description='Due'), Text(value='', description='Place'))), HBox(children=(Text(value='', description='Year'), Text(value='', description='Prefix Var'))), HBox(children=(Text(value='', description='PDFPage'), Text(value='', description='Related'))), HBox(children=(Text(value='', description='Display'), Text(value='', description='Summary'))), HBox(children=(Text(value='', description='Star'), Text(value='', description='Link'))), HBox(children=(Text(value='1', description='sciencedirect2015'),)), HBox(children=(Button(description='Reload Article', icon='refresh', style=ButtonStyle()), IntSlider(value=0, max=3), Label(value='1/4'))), Output()))"
      ]
     },
     "metadata": {},
     "output_type": "display_data"
    },
    {
     "data": {
      "application/javascript": [
       "$('span:contains(\"# Temp\")').closest('.cell').remove();"
      ],
      "text/plain": [
       "<IPython.core.display.Javascript object>"
      ]
     },
     "metadata": {},
     "output_type": "display_data"
    },
    {
     "data": {
      "application/javascript": [
       "\n",
       "        $('span:contains(\"# Temp\")').closest('.cell').remove();\n",
       "        var code = IPython.notebook.insert_cell_below('code');\n",
       "        code.set_text(decodeURIComponent(window.atob(\"JTIzJTIwVGVtcCUwQWluc2VydCUyOCUyNyUyNyUyNyUwQWtyaXNobmFuMTk5OGElMjAlM0QlMjBEQiUyOFdvcmtVbnJlbGF0ZWQlMjglMEElMjAlMjAlMjAlMjAxOTk4JTJDJTIwJTIyQW4lMjBlbXBpcmljYWwlMjBhbmFseXNpcyUyMG9mJTIwY3VzdG9tZXIlMjBzYXRpc2ZhY3Rpb24lMjBmb3IlMjBJbnRyYW5ldCUyMG1hcmtldGluZyUyMHN5c3RlbXMlMjIlMkMlMEElMjAlMjAlMjAlMjBkaXNwbGF5JTNEJTIya3Jpc2huYW4lMjIlMkMlMEElMjAlMjAlMjAlMjBhdXRob3JzJTNEJTIyS3Jpc2huYW4lMkMlMjBNYXl1cmFtJTIwUyUyMGFuZCUyMFJhbWFzd2FteSUyQyUyMFZlbmthdHJhbSUyMiUyQyUwQSUyMCUyMCUyMCUyMHBsYWNlJTNERkFLRSUyQyUwQSUyMCUyMCUyMCUyMHBwJTNEJTIyNDUtLTU0JTIyJTJDJTBBJTIwJTIwJTIwJTIwZW50cnl0eXBlJTNEJTIyYXJ0aWNsZSUyMiUyQyUwQSUyMCUyMCUyMCUyMHZvbHVtZSUzRCUyMjI0JTIyJTJDJTBBJTIwJTIwJTIwJTIwbnVtYmVyJTNEJTIyMSUyMiUyQyUwQSUyMCUyMCUyMCUyMHB1Ymxpc2hlciUzRCUyMkVsc2V2aWVyJTIyJTJDJTBBJTIwJTIwJTIwJTIwSUQlM0QlMjJrcmlzaG5hbjE5OThlbXBpcmljYWwlMjIlMkMlMEElMjAlMjAlMjAlMjBzY2llbmNlZGlyZWN0MjAxNSUzRCUyMjElMjIlMkMlMEElMjAlMjAlMjAlMjBwbGFjZXglM0QlMjJEZWNpc2lvbiUyMFN1cHBvcnQlMjBTeXN0ZW1zJTIyJTJDJTBBJTI5JTI5JTBBJTI3JTI3JTI3JTI5JTNC\")));\n",
       "    "
      ],
      "text/plain": [
       "<IPython.core.display.Javascript object>"
      ]
     },
     "metadata": {},
     "output_type": "display_data"
    },
    {
     "data": {
      "application/javascript": [
       "$('span:contains(\"# Temp\")').closest('.cell').remove();"
      ],
      "text/plain": [
       "<IPython.core.display.Javascript object>"
      ]
     },
     "metadata": {},
     "output_type": "display_data"
    },
    {
     "data": {
      "application/javascript": [
       "\n",
       "        $('span:contains(\"# Temp\")').closest('.cell').remove();\n",
       "        var code = IPython.notebook.insert_cell_below('code');\n",
       "        code.set_text(decodeURIComponent(window.atob(\"JTIzJTIwVGVtcCUwQWluc2VydCUyOCUyNyUyNyUyNyUwQWZlcm5hbmRlczIwMTFhJTIwJTNEJTIwREIlMjhXb3JrVW5yZWxhdGVkJTI4JTBBJTIwJTIwJTIwJTIwMjAxMSUyQyUyMCUyMlBlcmZvcm1hbmNlJTIwZXZhbHVhdGlvbiUyMG9mJTIwc29mdHdhcmUlMjBkZXZlbG9wbWVudCUyMHRlYW1zJTNBJTIwYSUyMHByYWN0aWNhbCUyMGNhc2UlMjBzdHVkeSUyMiUyQyUwQSUyMCUyMCUyMCUyMGRpc3BsYXklM0QlMjJmZXJuYW5kZXMlMjIlMkMlMEElMjAlMjAlMjAlMjBhdXRob3JzJTNEJTIyRmVybmFuZGVzJTJDJTIwUGF1bG8lMjBhbmQlMjBTYWxlcyUyQyUyMEFmb25zbyUyMGFuZCUyMFNhbnRvcyUyQyUyMEFsYW4lMjBSJTIwYW5kJTIwV2ViYmVyJTJDJTIwVGhhaXMlMjIlMkMlMEElMjAlMjAlMjAlMjBwbGFjZSUzREZBS0UlMkMlMEElMjAlMjAlMjAlMjBwcCUzRCUyMjczLS05MiUyMiUyQyUwQSUyMCUyMCUyMCUyMGVudHJ5dHlwZSUzRCUyMmFydGljbGUlMjIlMkMlMEElMjAlMjAlMjAlMjB2b2x1bWUlM0QlMjIyNzUlMjIlMkMlMEElMjAlMjAlMjAlMjBwdWJsaXNoZXIlM0QlMjJFbHNldmllciUyMiUyQyUwQSUyMCUyMCUyMCUyMElEJTNEJTIyZmVybmFuZGVzMjAxMXBlcmZvcm1hbmNlJTIyJTJDJTBBJTIwJTIwJTIwJTIwc2NpZW5jZWRpcmVjdDIwMTUlM0QlMjIxJTIyJTJDJTBBJTIwJTIwJTIwJTIwcGxhY2V4JTNEJTIyRWxlY3Ryb25pYyUyME5vdGVzJTIwaW4lMjBUaGVvcmV0aWNhbCUyMENvbXB1dGVyJTIwU2NpZW5jZSUyMiUyQyUwQSUyOSUyOSUwQSUyNyUyNyUyNyUyOSUzQg==\")));\n",
       "    "
      ],
      "text/plain": [
       "<IPython.core.display.Javascript object>"
      ]
     },
     "metadata": {},
     "output_type": "display_data"
    },
    {
     "data": {
      "application/javascript": [
       "$('span:contains(\"# Temp\")').closest('.cell').remove();"
      ],
      "text/plain": [
       "<IPython.core.display.Javascript object>"
      ]
     },
     "metadata": {},
     "output_type": "display_data"
    },
    {
     "data": {
      "application/javascript": [
       "\n",
       "        $('span:contains(\"# Temp\")').closest('.cell').remove();\n",
       "        var code = IPython.notebook.insert_cell_below('code');\n",
       "        code.set_text(decodeURIComponent(window.atob(\"JTIzJTIwVGVtcCUwQWluc2VydCUyOCUyNyUyNyUyNyUwQWZlcm5hbmRlczIwMTFhJTIwJTNEJTIwREIlMjhXb3JrVW5yZWxhdGVkJTI4JTBBJTIwJTIwJTIwJTIwMjAxMSUyQyUyMCUyMlBlcmZvcm1hbmNlJTIwZXZhbHVhdGlvbiUyMG9mJTIwc29mdHdhcmUlMjBkZXZlbG9wbWVudCUyMHRlYW1zJTNBJTIwYSUyMHByYWN0aWNhbCUyMGNhc2UlMjBzdHVkeSUyMiUyQyUwQSUyMCUyMCUyMCUyMGRpc3BsYXklM0QlMjJmZXJuYW5kZXMlMjIlMkMlMEElMjAlMjAlMjAlMjBhdXRob3JzJTNEJTIyRmVybmFuZGVzJTJDJTIwUGF1bG8lMjBhbmQlMjBTYWxlcyUyQyUyMEFmb25zbyUyMGFuZCUyMFNhbnRvcyUyQyUyMEFsYW4lMjBSJTIwYW5kJTIwV2ViYmVyJTJDJTIwVGhhaXMlMjIlMkMlMEElMjAlMjAlMjAlMjBwbGFjZSUzREZBS0UlMkMlMEElMjAlMjAlMjAlMjBwcCUzRCUyMjczLS05MiUyMiUyQyUwQSUyMCUyMCUyMCUyMGVudHJ5dHlwZSUzRCUyMmFydGljbGUlMjIlMkMlMEElMjAlMjAlMjAlMjB2b2x1bWUlM0QlMjIyNzUlMjIlMkMlMEElMjAlMjAlMjAlMjBwdWJsaXNoZXIlM0QlMjJFbHNldmllciUyMiUyQyUwQSUyMCUyMCUyMCUyMElEJTNEJTIyZmVybmFuZGVzMjAxMXBlcmZvcm1hbmNlJTIyJTJDJTBBJTIwJTIwJTIwJTIwc2NpZW5jZWRpcmVjdDIwMTUlM0QlMjIxJTIyJTJDJTBBJTIwJTIwJTIwJTIwcGxhY2V4JTNEJTIyRWxlY3Ryb25pYyUyME5vdGVzJTIwaW4lMjBUaGVvcmV0aWNhbCUyMENvbXB1dGVyJTIwU2NpZW5jZSUyMiUyQyUwQSUyOSUyOSUwQSUyNyUyNyUyNyUyOSUzQg==\")));\n",
       "    "
      ],
      "text/plain": [
       "<IPython.core.display.Javascript object>"
      ]
     },
     "metadata": {},
     "output_type": "display_data"
    },
    {
     "data": {
      "application/javascript": [
       "$('span:contains(\"# Temp\")').closest('.cell').remove();"
      ],
      "text/plain": [
       "<IPython.core.display.Javascript object>"
      ]
     },
     "metadata": {},
     "output_type": "display_data"
    },
    {
     "data": {
      "application/javascript": [
       "\n",
       "        $('span:contains(\"# Temp\")').closest('.cell').remove();\n",
       "        var code = IPython.notebook.insert_cell_below('code');\n",
       "        code.set_text(decodeURIComponent(window.atob(\"JTIzJTIwVGVtcCUwQWluc2VydCUyOCUyNyUyNyUyNyUwQWFsbHUlQzMlQTkyMDEzYSUyMCUzRCUyMERCJTI4V29ya1VucmVsYXRlZCUyOCUwQSUyMCUyMCUyMCUyMDIwMTMlMkMlMjAlMjJRUlAlM0ElMjBhJTIwQ01NSSUyMGFwcHJhaXNhbCUyMHRvb2wlMjBmb3IlMjBwcm9qZWN0JTIwcXVhbGl0eSUyMG1hbmFnZW1lbnQlMjIlMkMlMEElMjAlMjAlMjAlMjBkaXNwbGF5JTNEJTIyYWxsdSVDMyVBOSUyMiUyQyUwQSUyMCUyMCUyMCUyMGF1dGhvcnMlM0QlMjJBbGx1JUMzJUE5JTJDJTIwQWxiZXJ0byUyMGFuZCUyMERvbSVDMyVBRG5ndWV6JTJDJTIwRWxhZGlvJTIwYW5kJTIwTCVDMyVCM3BleiUyQyUyMEFudG9uaW8lMjBhbmQlMjBaYXBhdGElMkMlMjBNYXIlQzMlQURhJTIwQSUyMiUyQyUwQSUyMCUyMCUyMCUyMHBsYWNlJTNERkFLRSUyQyUwQSUyMCUyMCUyMCUyMHBwJTNEJTIyNjY0LS02NjklMjIlMkMlMEElMjAlMjAlMjAlMjBlbnRyeXR5cGUlM0QlMjJhcnRpY2xlJTIyJTJDJTBBJTIwJTIwJTIwJTIwdm9sdW1lJTNEJTIyOSUyMiUyQyUwQSUyMCUyMCUyMCUyMHB1Ymxpc2hlciUzRCUyMkVsc2V2aWVyJTIyJTJDJTBBJTIwJTIwJTIwJTIwSUQlM0QlMjJhbGx1ZTIwMTNxcnAlMjIlMkMlMEElMjAlMjAlMjAlMjBzY2llbmNlZGlyZWN0MjAxNSUzRCUyMjElMjIlMkMlMEElMjAlMjAlMjAlMjBwbGFjZXglM0QlMjJQcm9jZWRpYSUyMFRlY2hub2xvZ3klMjIlMkMlMEElMjklMjklMEElMjclMjclMjclMjklM0I=\")));\n",
       "    "
      ],
      "text/plain": [
       "<IPython.core.display.Javascript object>"
      ]
     },
     "metadata": {},
     "output_type": "display_data"
    },
    {
     "data": {
      "application/javascript": [
       "$('span:contains(\"# Temp\")').closest('.cell').remove();"
      ],
      "text/plain": [
       "<IPython.core.display.Javascript object>"
      ]
     },
     "metadata": {},
     "output_type": "display_data"
    },
    {
     "data": {
      "application/javascript": [
       "\n",
       "        $('span:contains(\"# Temp\")').closest('.cell').remove();\n",
       "        var code = IPython.notebook.insert_cell_below('code');\n",
       "        code.set_text(decodeURIComponent(window.atob(\"JTIzJTIwVGVtcCUwQWluc2VydCUyOCUyNyUyNyUyNyUwQWFsbHUlQzMlQTkyMDEzYSUyMCUzRCUyMERCJTI4V29ya1VucmVsYXRlZCUyOCUwQSUyMCUyMCUyMCUyMDIwMTMlMkMlMjAlMjJRUlAlM0ElMjBhJTIwQ01NSSUyMGFwcHJhaXNhbCUyMHRvb2wlMjBmb3IlMjBwcm9qZWN0JTIwcXVhbGl0eSUyMG1hbmFnZW1lbnQlMjIlMkMlMEElMjAlMjAlMjAlMjBkaXNwbGF5JTNEJTIyYWxsdSVDMyVBOSUyMiUyQyUwQSUyMCUyMCUyMCUyMGF1dGhvcnMlM0QlMjJBbGx1JUMzJUE5JTJDJTIwQWxiZXJ0byUyMGFuZCUyMERvbSVDMyVBRG5ndWV6JTJDJTIwRWxhZGlvJTIwYW5kJTIwTCVDMyVCM3BleiUyQyUyMEFudG9uaW8lMjBhbmQlMjBaYXBhdGElMkMlMjBNYXIlQzMlQURhJTIwQSUyMiUyQyUwQSUyMCUyMCUyMCUyMHBsYWNlJTNERkFLRSUyQyUwQSUyMCUyMCUyMCUyMHBwJTNEJTIyNjY0LS02NjklMjIlMkMlMEElMjAlMjAlMjAlMjBlbnRyeXR5cGUlM0QlMjJhcnRpY2xlJTIyJTJDJTBBJTIwJTIwJTIwJTIwdm9sdW1lJTNEJTIyOSUyMiUyQyUwQSUyMCUyMCUyMCUyMHB1Ymxpc2hlciUzRCUyMkVsc2V2aWVyJTIyJTJDJTBBJTIwJTIwJTIwJTIwSUQlM0QlMjJhbGx1ZTIwMTNxcnAlMjIlMkMlMEElMjAlMjAlMjAlMjBzY2llbmNlZGlyZWN0MjAxNSUzRCUyMjElMjIlMkMlMEElMjAlMjAlMjAlMjBwbGFjZXglM0QlMjJQcm9jZWRpYSUyMFRlY2hub2xvZ3klMjIlMkMlMEElMjklMjklMEElMjclMjclMjclMjklM0I=\")));\n",
       "    "
      ],
      "text/plain": [
       "<IPython.core.display.Javascript object>"
      ]
     },
     "metadata": {},
     "output_type": "display_data"
    },
    {
     "data": {
      "application/javascript": [
       "$('span:contains(\"# Temp\")').closest('.cell').remove();"
      ],
      "text/plain": [
       "<IPython.core.display.Javascript object>"
      ]
     },
     "metadata": {},
     "output_type": "display_data"
    },
    {
     "data": {
      "application/javascript": [
       "\n",
       "        $('span:contains(\"# Temp\")').closest('.cell').remove();\n",
       "        var code = IPython.notebook.insert_cell_below('code');\n",
       "        code.set_text(decodeURIComponent(window.atob(\"JTIzJTIwVGVtcCUwQWluc2VydCUyOCUyNyUyNyUyNyUwQWtlbGxuZXIxOTk5YSUyMCUzRCUyMERCJTI4V29ya1VucmVsYXRlZCUyOCUwQSUyMCUyMCUyMCUyMDE5OTklMkMlMjAlMjJTb2Z0d2FyZSUyMHByb2Nlc3MlMjBzaW11bGF0aW9uJTIwbW9kZWxpbmclM0ElMjB3aHklM0YlMjB3aGF0JTNGJTIwaG93JTNGJTIyJTJDJTBBJTIwJTIwJTIwJTIwZGlzcGxheSUzRCUyMmtlbGxuZXIlMjIlMkMlMEElMjAlMjAlMjAlMjBhdXRob3JzJTNEJTIyS2VsbG5lciUyQyUyME1hcmMlMjBJJTIwYW5kJTIwTWFkYWNoeSUyQyUyMFJheW1vbmQlMjBKJTIwYW5kJTIwUmFmZm8lMkMlMjBEYXZpZCUyME0lMjIlMkMlMEElMjAlMjAlMjAlMjBwbGFjZSUzREpTUyUyQyUwQSUyMCUyMCUyMCUyMHBwJTNEJTIyOTEtLTEwNSUyMiUyQyUwQSUyMCUyMCUyMCUyMGVudHJ5dHlwZSUzRCUyMmFydGljbGUlMjIlMkMlMEElMjAlMjAlMjAlMjB2b2x1bWUlM0QlMjI0NiUyMiUyQyUwQSUyMCUyMCUyMCUyMG51bWJlciUzRCUyMjItMyUyMiUyQyUwQSUyMCUyMCUyMCUyMHB1Ymxpc2hlciUzRCUyMkVsc2V2aWVyJTIyJTJDJTBBJTIwJTIwJTIwJTIwSUQlM0QlMjJrZWxsbmVyMTk5OXNvZnR3YXJlJTIyJTJDJTBBJTIwJTIwJTIwJTIwc2NpZW5jZWRpcmVjdDIwMTUlM0QlMjIxJTIyJTJDJTBBJTIwJTIwJTIwJTIwcGxhY2V4JTNEJTIySm91cm5hbCUyMG9mJTIwU3lzdGVtcyUyMGFuZCUyMFNvZnR3YXJlJTIyJTJDJTBBJTI5JTI5JTBBJTI3JTI3JTI3JTI5JTNC\")));\n",
       "    "
      ],
      "text/plain": [
       "<IPython.core.display.Javascript object>"
      ]
     },
     "metadata": {},
     "output_type": "display_data"
    },
    {
     "data": {
      "application/javascript": [
       "$('span:contains(\"# Temp\")').closest('.cell').remove();"
      ],
      "text/plain": [
       "<IPython.core.display.Javascript object>"
      ]
     },
     "metadata": {},
     "output_type": "display_data"
    },
    {
     "data": {
      "application/javascript": [
       "\n",
       "        $('span:contains(\"# Temp\")').closest('.cell').remove();\n",
       "        var code = IPython.notebook.insert_cell_below('code');\n",
       "        code.set_text(decodeURIComponent(window.atob(\"JTIzJTIwVGVtcCUwQWluc2VydCUyOCUyNyUyNyUyNyUwQWtlbGxuZXIxOTk5YSUyMCUzRCUyMERCJTI4V29ya1VucmVsYXRlZCUyOCUwQSUyMCUyMCUyMCUyMDE5OTklMkMlMjAlMjJTb2Z0d2FyZSUyMHByb2Nlc3MlMjBzaW11bGF0aW9uJTIwbW9kZWxpbmclM0ElMjB3aHklM0YlMjB3aGF0JTNGJTIwaG93JTNGJTIyJTJDJTBBJTIwJTIwJTIwJTIwZGlzcGxheSUzRCUyMmtlbGxuZXIlMjIlMkMlMEElMjAlMjAlMjAlMjBhdXRob3JzJTNEJTIyS2VsbG5lciUyQyUyME1hcmMlMjBJJTIwYW5kJTIwTWFkYWNoeSUyQyUyMFJheW1vbmQlMjBKJTIwYW5kJTIwUmFmZm8lMkMlMjBEYXZpZCUyME0lMjIlMkMlMEElMjAlMjAlMjAlMjBwbGFjZSUzREpTUyUyQyUwQSUyMCUyMCUyMCUyMHBwJTNEJTIyOTEtLTEwNSUyMiUyQyUwQSUyMCUyMCUyMCUyMGVudHJ5dHlwZSUzRCUyMmFydGljbGUlMjIlMkMlMEElMjAlMjAlMjAlMjB2b2x1bWUlM0QlMjI0NiUyMiUyQyUwQSUyMCUyMCUyMCUyMG51bWJlciUzRCUyMjItMyUyMiUyQyUwQSUyMCUyMCUyMCUyMHB1Ymxpc2hlciUzRCUyMkVsc2V2aWVyJTIyJTJDJTBBJTIwJTIwJTIwJTIwSUQlM0QlMjJrZWxsbmVyMTk5OXNvZnR3YXJlJTIyJTJDJTBBJTIwJTIwJTIwJTIwc2NpZW5jZWRpcmVjdDIwMTUlM0QlMjIxJTIyJTJDJTBBJTIwJTIwJTIwJTIwcGxhY2V4JTNEJTIySm91cm5hbCUyMG9mJTIwU3lzdGVtcyUyMGFuZCUyMFNvZnR3YXJlJTIyJTJDJTBBJTI5JTI5JTBBJTI3JTI3JTI3JTI5JTNC\")));\n",
       "    "
      ],
      "text/plain": [
       "<IPython.core.display.Javascript object>"
      ]
     },
     "metadata": {},
     "output_type": "display_data"
    }
   ],
   "source": [
    "from custom_snowballing import UnrelatedInsert\n",
    "UnrelatedInsert(\"acm2015\", articles=article_list)"
   ]
  },
  {
   "cell_type": "code",
   "execution_count": 132,
   "metadata": {},
   "outputs": [
    {
     "name": "stdout",
     "output_type": "stream",
     "text": [
      "-Insert: kellner1999a\n"
     ]
    }
   ],
   "source": [
    "# Temp\n",
    "insert('''\n",
    "kellner1999a = DB(WorkUnrelated(\n",
    "    1999, \"Software process simulation modeling: why? what? how?\",\n",
    "    display=\"kellner\",\n",
    "    authors=\"Kellner, Marc I and Madachy, Raymond J and Raffo, David M\",\n",
    "    place=JSS,\n",
    "    pp=\"91--105\",\n",
    "    entrytype=\"article\",\n",
    "    volume=\"46\",\n",
    "    number=\"2-3\",\n",
    "    publisher=\"Elsevier\",\n",
    "    ID=\"kellner1999software\",\n",
    "    sciencedirect2015=\"1\",\n",
    "    placex=\"Journal of Systems and Software\",\n",
    "))\n",
    "''');"
   ]
  },
  {
   "cell_type": "code",
   "execution_count": null,
   "metadata": {},
   "outputs": [],
   "source": [
    "ArticleNavigator(articles=article_list)"
   ]
  }
 ],
 "metadata": {
  "kernelspec": {
   "display_name": "Python 3",
   "language": "python",
   "name": "python3"
  },
  "language_info": {
   "codemirror_mode": {
    "name": "ipython",
    "version": 3
   },
   "file_extension": ".py",
   "mimetype": "text/x-python",
   "name": "python",
   "nbconvert_exporter": "python",
   "pygments_lexer": "ipython3",
   "version": "3.6.0"
  },
  "toc": {
   "nav_menu": {
    "height": "12px",
    "width": "252px"
   },
   "number_sections": true,
   "sideBar": true,
   "skip_h1_title": false,
   "toc_cell": false,
   "toc_position": {},
   "toc_section_display": "block",
   "toc_window_display": false
  }
 },
 "nbformat": 4,
 "nbformat_minor": 2
}
