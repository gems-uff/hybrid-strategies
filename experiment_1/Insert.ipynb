{
 "cells": [
  {
   "cell_type": "code",
   "execution_count": 1,
   "metadata": {
    "collapsed": true
   },
   "outputs": [],
   "source": [
    "import database\n",
    "from snowballing.operations import load_work, reload, work_by_varname\n",
    "from snowballing.snowballing import Converter\n",
    "from snowballing.snowballing import ArticleNavigator\n",
    "from snowballing.dbmanager import insert, set_attribute"
   ]
  },
  {
   "cell_type": "code",
   "execution_count": 2,
   "metadata": {
    "scrolled": false
   },
   "outputs": [
    {
     "data": {
      "application/vnd.jupyter.widget-view+json": {
       "model_id": "314dd3687fc14c17b50f58a407f5a812",
       "version_major": 2,
       "version_minor": 0
      },
      "text/html": [
       "<p>Failed to display Jupyter Widget of type <code>VBox</code>.</p>\n",
       "<p>\n",
       "  If you're reading this message in Jupyter Notebook or JupyterLab, it may mean\n",
       "  that the widgets JavaScript is still loading. If this message persists, it\n",
       "  likely means that the widgets JavaScript library is either not installed or\n",
       "  not enabled. See the <a href=\"https://ipywidgets.readthedocs.io/en/stable/user_install.html\">Jupyter\n",
       "  Widgets Documentation</a> for setup instructions.\n",
       "</p>\n",
       "<p>\n",
       "  If you're reading this message in another notebook frontend (for example, a static\n",
       "  rendering on GitHub or <a href=\"https://nbviewer.jupyter.org/\">NBViewer</a>),\n",
       "  it may mean that your frontend doesn't currently support widgets.\n",
       "</p>\n"
      ],
      "text/plain": [
       "VBox(children=(HBox(children=(Dropdown(options={'BibTeX': 'bibtex', 'Text': 'text', '[N] author name place other year': 'citation', 'Quoted': 'quoted'}, value='bibtex'), Button(description='Set article_list variable', style=ButtonStyle()), Label(value=''))), HBox(children=(Textarea(value='', layout=Layout(height='500px', width='50%')), Textarea(value='', layout=Layout(height='500px', width='50%'))))))"
      ]
     },
     "metadata": {},
     "output_type": "display_data"
    }
   ],
   "source": [
    "Converter(\"bibtex\")"
   ]
  },
  {
   "cell_type": "code",
   "execution_count": 3,
   "metadata": {},
   "outputs": [
    {
     "data": {
      "text/plain": [
       "1"
      ]
     },
     "execution_count": 3,
     "metadata": {},
     "output_type": "execute_result"
    }
   ],
   "source": [
    "len(article_list)"
   ]
  },
  {
   "cell_type": "code",
   "execution_count": 7,
   "metadata": {},
   "outputs": [],
   "source": [
    "from snowballing.operations import reload\n",
    "reload()\n"
   ]
  },
  {
   "cell_type": "code",
   "execution_count": null,
   "metadata": {
    "collapsed": true
   },
   "outputs": [],
   "source": []
  },
  {
   "cell_type": "code",
   "execution_count": null,
   "metadata": {
    "collapsed": true,
    "scrolled": false
   },
   "outputs": [],
   "source": [
    "ArticleNavigator??"
   ]
  },
  {
   "cell_type": "code",
   "execution_count": null,
   "metadata": {
    "collapsed": true
   },
   "outputs": [],
   "source": []
  },
  {
   "cell_type": "code",
   "execution_count": null,
   "metadata": {
    "collapsed": true
   },
   "outputs": [],
   "source": []
  },
  {
   "cell_type": "code",
   "execution_count": 10,
   "metadata": {},
   "outputs": [
    {
     "data": {
      "application/vnd.jupyter.widget-view+json": {
       "model_id": "8211939ead034f979b7a98ae869b822c",
       "version_major": 2,
       "version_minor": 0
      },
      "text/html": [
       "<p>Failed to display Jupyter Widget of type <code>VBox</code>.</p>\n",
       "<p>\n",
       "  If you're reading this message in Jupyter Notebook or JupyterLab, it may mean\n",
       "  that the widgets JavaScript is still loading. If this message persists, it\n",
       "  likely means that the widgets JavaScript library is either not installed or\n",
       "  not enabled. See the <a href=\"https://ipywidgets.readthedocs.io/en/stable/user_install.html\">Jupyter\n",
       "  Widgets Documentation</a> for setup instructions.\n",
       "</p>\n",
       "<p>\n",
       "  If you're reading this message in another notebook frontend (for example, a static\n",
       "  rendering on GitHub or <a href=\"https://nbviewer.jupyter.org/\">NBViewer</a>),\n",
       "  it may mean that your frontend doesn't currently support widgets.\n",
       "</p>\n"
      ],
      "text/plain": [
       "VBox(children=(HBox(children=(Button(description='Previous Article', disabled=True, icon='caret-left', style=ButtonStyle()), Button(description='Reload Article', icon='refresh', style=ButtonStyle()), Button(description='Next Article', icon='caret-right', style=ButtonStyle()))), HBox(children=(Dropdown(description='Type', index=3, options=('Work', 'WorkSnowball', 'WorkOk', 'WorkUnrelated', 'WorkNoFile', 'WorkLang', 'Site', 'Email'), value='WorkUnrelated'), ToggleButton(value=False, description='File'))), HBox(children=(Text(value='', description='Due'), Text(value='', description='Place'))), HBox(children=(Text(value='', description='Year'), Text(value='', description='Prefix Var'))), HBox(children=(Text(value='', description='PDFPage'), Text(value='', description='Related'))), HBox(children=(Text(value='', description='Display'), Text(value='', description='Summary'))), HBox(children=(Text(value='', description='Star'), Text(value='', description='Link'))), HBox(children=(Text(value='1', description='ieee2015'),)), HBox(children=(Button(description='Reload Article', icon='refresh', style=ButtonStyle()), IntSlider(value=0, max=15), Label(value='1/16'))), Output()))"
      ]
     },
     "metadata": {},
     "output_type": "display_data"
    },
    {
     "data": {
      "application/javascript": [
       "$('span:contains(\"# Temp\")').closest('.cell').remove();"
      ],
      "text/plain": [
       "<IPython.core.display.Javascript object>"
      ]
     },
     "metadata": {},
     "output_type": "display_data"
    },
    {
     "data": {
      "application/javascript": [
       "\n",
       "        $('span:contains(\"# Temp\")').closest('.cell').remove();\n",
       "        var code = IPython.notebook.insert_cell_below('code');\n",
       "        code.set_text(decodeURIComponent(window.atob(\"JTIzJTIwVGVtcCUwQWluc2VydCUyOCUyNyUyNyUyNyUwQWdpbWVuZXMyMDA4YSUyMCUzRCUyMERCJTI4V29ya1VucmVsYXRlZCUyOCUwQSUyMCUyMCUyMCUyMDIwMDglMkMlMjAlMjJBJTIwUHJvZHVjdCUyMExpbmUlMjBmb3IlMjBCdXNpbmVzcyUyMFByb2Nlc3MlMjBNYW5hZ2VtZW50JTIyJTJDJTBBJTIwJTIwJTIwJTIwZGlzcGxheSUzRCUyMmdpbWVuZXMlMjIlMkMlMEElMjAlMjAlMjAlMjBhdXRob3JzJTNEJTIySS4lMjBNLiUyMGQuJTIwUy4lMjBHaW1lbmVzJTIwYW5kJTIwTS4lMjBGYW50aW5hdG8lMjBhbmQlMjBNLiUyMEIuJTIwRi4lMjBkLiUyMFRvbGVkbyUyMiUyQyUwQSUyMCUyMCUyMCUyMHBsYWNlJTNERkFLRSUyQyUwQSUyMCUyMCUyMCUyMHBwJTNEJTIyMjY1LTI3NCUyMiUyQyUwQSUyMCUyMCUyMCUyMGVudHJ5dHlwZSUzRCUyMmlucHJvY2VlZGluZ3MlMjIlMkMlMEElMjAlMjAlMjAlMjB2b2x1bWUlM0QlMjIlMjIlMkMlMEElMjAlMjAlMjAlMjBudW1iZXIlM0QlMjIlMjIlMkMlMEElMjAlMjAlMjAlMjBrZXl3b3JkJTNEJTIyYnVzaW5lc3MlMjBkYXRhJTIwcHJvY2Vzc2luZyUzQmNvbnRyYWN0cyUzQm9yZ2FuaXNhdGlvbmFsJTIwYXNwZWN0cyUzQnByb2R1Y3QlMjBkZXZlbG9wbWVudCUzQnNvZnR3YXJlJTIwcmV1c2FiaWxpdHklM0JJbnRlcm5ldCUyMHRlY2hub2xvZ3klM0JidXNpbmVzcyUyMHByb2Nlc3MlMjBtYW5hZ2VtZW50JTNCZS1jb250cmFjdCUyMG5lZ290aWF0aW9uJTNCZWxlY3Ryb25pYyUyMGNvbnRyYWN0JTIwZXN0YWJsaXNobWVudCUzQmZlYXR1cmUlMjBtb2RlbGluZyUzQmludHJhb3JnYW5pemF0aW9uYWwlMjBpbnRlcmNoYW5nZSUzQnByb2R1Y3QlMjBsaW5lJTNCc2VydmljZSUyMG9yaWVudGVkJTIwY29tcHV0aW5nJTNCQXNzZXQlMjBtYW5hZ2VtZW50JTNCQ29uZmVyZW5jZSUyMG1hbmFnZW1lbnQlM0JDb250cmFjdHMlM0JJbmZvcm1hdGljcyUzQk1hcmluZSUyMHRlY2hub2xvZ3klM0JNb25pdG9yaW5nJTNCUXVhbGl0eSUyMG9mJTIwc2VydmljZSUzQlRlbGVjb21tdW5pY2F0aW9uJTIwY29tcHV0aW5nJTNCV2ViJTIwYW5kJTIwaW50ZXJuZXQlMjBzZXJ2aWNlcyUzQldlYiUyMHNlcnZpY2VzJTIyJTJDJTBBJTIwJTIwJTIwJTIwZG9pJTNEJTIyMTAuMTEwOS9TUExDLjIwMDguMTAlMjIlMkMlMEElMjAlMjAlMjAlMjBpc3NuJTNEJTIyJTIyJTJDJTBBJTIwJTIwJTIwJTIwSUQlM0QlMjI0NjI2ODYwJTIyJTJDJTBBJTIwJTIwJTIwJTIwaWVlZTIwMTUlM0QlMjIxJTIyJTJDJTBBJTIwJTIwJTIwJTIwcGxhY2V4JTNEJTIyMjAwOCUyMDEydGglMjBJbnRlcm5hdGlvbmFsJTIwU29mdHdhcmUlMjBQcm9kdWN0JTIwTGluZSUyMENvbmZlcmVuY2UlMjIlMkMlMEElMjklMjklMEElMjclMjclMjclMjklM0I=\")));\n",
       "    "
      ],
      "text/plain": [
       "<IPython.core.display.Javascript object>"
      ]
     },
     "metadata": {},
     "output_type": "display_data"
    },
    {
     "data": {
      "application/javascript": [
       "$('span:contains(\"# Temp\")').closest('.cell').remove();"
      ],
      "text/plain": [
       "<IPython.core.display.Javascript object>"
      ]
     },
     "metadata": {},
     "output_type": "display_data"
    },
    {
     "data": {
      "application/javascript": [
       "\n",
       "        $('span:contains(\"# Temp\")').closest('.cell').remove();\n",
       "        var code = IPython.notebook.insert_cell_below('code');\n",
       "        code.set_text(decodeURIComponent(window.atob(\"JTIzJTIwVGVtcCUwQWluc2VydCUyOCUyNyUyNyUyNyUwQWJyZWJuZXIxOTk4YSUyMCUzRCUyMERCJTI4V29ya1VucmVsYXRlZCUyOCUwQSUyMCUyMCUyMCUyMDE5OTglMkMlMjAlMjJTb2Z0d2FyZSUyMHByb2Nlc3MlMjBpbXByb3ZlbWVudCUyMGJ5JTIwZXhhbXBsZSUyMCUyOFNQSUUlMjklMjIlMkMlMEElMjAlMjAlMjAlMjBkaXNwbGF5JTNEJTIyYnJlYm5lciUyMiUyQyUwQSUyMCUyMCUyMCUyMGF1dGhvcnMlM0QlMjJQLiUyMEMuJTIwQnJlYm5lciUyMiUyQyUwQSUyMCUyMCUyMCUyMHBsYWNlJTNERkFLRSUyQyUwQSUyMCUyMCUyMCUyMHBwJTNEJTIyODgtOTUlMjIlMkMlMEElMjAlMjAlMjAlMjBlbnRyeXR5cGUlM0QlMjJpbnByb2NlZWRpbmdzJTIyJTJDJTBBJTIwJTIwJTIwJTIwdm9sdW1lJTNEJTIyJTIyJTJDJTBBJTIwJTIwJTIwJTIwbnVtYmVyJTNEJTIyJTIyJTJDJTBBJTIwJTIwJTIwJTIwa2V5d29yZCUzRCUyMnByb2plY3QlMjBtYW5hZ2VtZW50JTNCc29mdHdhcmUlMjBlbmdpbmVlcmluZyUzQnNvZnR3YXJlJTIwdG9vbHMlM0JTUElFJTNCb3JnYW5pc2F0aW9uJTNCc2NpZW50aWZpYyUyMHNvZnR3YXJlJTIwcHJvamVjdHMlM0Jzb2Z0d2FyZSUyMGRldmVsb3BtZW50JTIwY3VsdHVyZSUzQnNvZnR3YXJlJTIwZGV2ZWxvcG1lbnQlMjBwcmFjdGljZXMlM0Jzb2Z0d2FyZSUyMHByb2Nlc3MlMjBlbmdpbmVlciUzQnNvZnR3YXJlJTIwcHJvY2VzcyUyMGltcHJvdmVtZW50JTIwYnklMjBleGFtcGxlJTNCc29mdHdhcmUlMjB0b29scyUzQkF1c3RyYWxpYSUzQkRlY2lzaW9uJTIwc3VwcG9ydCUyMHN5c3RlbXMlM0JFbGVjdHJpY2FsJTIwY2FwYWNpdGFuY2UlMjB0b21vZ3JhcGh5JTNCRXhwZXJ0JTIwc3lzdGVtcyUzQkdlb2dyYXBoaWMlMjBJbmZvcm1hdGlvbiUyMFN5c3RlbXMlM0JJbmZvcm1hdGlvbiUyMHN5c3RlbXMlM0JJbnRlcm5ldCUzQk51bWVyaWNhbCUyMHNpbXVsYXRpb24lM0JQcm9ncmFtbWluZyUzQlNvZnR3YXJlJTIwZW5naW5lZXJpbmclMjIlMkMlMEElMjAlMjAlMjAlMjBkb2klM0QlMjIxMC4xMTA5L1NFRVAuMTk5OC43MDc2MzclMjIlMkMlMEElMjAlMjAlMjAlMjBpc3NuJTNEJTIyJTIyJTJDJTBBJTIwJTIwJTIwJTIwSUQlM0QlMjI3MDc2MzclMjIlMkMlMEElMjAlMjAlMjAlMjBpZWVlMjAxNSUzRCUyMjElMjIlMkMlMEElMjAlMjAlMjAlMjBwbGFjZXglM0QlMjJQcm9jZWVkaW5ncy4lMjAxOTk4JTIwSW50ZXJuYXRpb25hbCUyMENvbmZlcmVuY2UlMjBTb2Z0d2FyZSUyMEVuZ2luZWVyaW5nJTNBJTIwRWR1Y2F0aW9uJTIwYW5kJTIwUHJhY3RpY2UlMjAlMjhDYXQuJTIwTm8uOThFWDIyMCUyOSUyMiUyQyUwQSUyOSUyOSUwQSUyNyUyNyUyNyUyOSUzQg==\")));\n",
       "    "
      ],
      "text/plain": [
       "<IPython.core.display.Javascript object>"
      ]
     },
     "metadata": {},
     "output_type": "display_data"
    },
    {
     "data": {
      "application/javascript": [
       "$('span:contains(\"# Temp\")').closest('.cell').remove();"
      ],
      "text/plain": [
       "<IPython.core.display.Javascript object>"
      ]
     },
     "metadata": {},
     "output_type": "display_data"
    },
    {
     "data": {
      "application/javascript": [
       "\n",
       "        $('span:contains(\"# Temp\")').closest('.cell').remove();\n",
       "        var code = IPython.notebook.insert_cell_below('code');\n",
       "        code.set_text(decodeURIComponent(window.atob(\"JTIzJTIwVGVtcCUwQWluc2VydCUyOCUyNyUyNyUyNyUwQWJyZWJuZXIxOTk4YSUyMCUzRCUyMERCJTI4V29ya1VucmVsYXRlZCUyOCUwQSUyMCUyMCUyMCUyMDE5OTglMkMlMjAlMjJTb2Z0d2FyZSUyMHByb2Nlc3MlMjBpbXByb3ZlbWVudCUyMGJ5JTIwZXhhbXBsZSUyMCUyOFNQSUUlMjklMjIlMkMlMEElMjAlMjAlMjAlMjBkaXNwbGF5JTNEJTIyYnJlYm5lciUyMiUyQyUwQSUyMCUyMCUyMCUyMGF1dGhvcnMlM0QlMjJQLiUyMEMuJTIwQnJlYm5lciUyMiUyQyUwQSUyMCUyMCUyMCUyMHBsYWNlJTNERkFLRSUyQyUwQSUyMCUyMCUyMCUyMHBwJTNEJTIyODgtOTUlMjIlMkMlMEElMjAlMjAlMjAlMjBlbnRyeXR5cGUlM0QlMjJpbnByb2NlZWRpbmdzJTIyJTJDJTBBJTIwJTIwJTIwJTIwdm9sdW1lJTNEJTIyJTIyJTJDJTBBJTIwJTIwJTIwJTIwbnVtYmVyJTNEJTIyJTIyJTJDJTBBJTIwJTIwJTIwJTIwa2V5d29yZCUzRCUyMnByb2plY3QlMjBtYW5hZ2VtZW50JTNCc29mdHdhcmUlMjBlbmdpbmVlcmluZyUzQnNvZnR3YXJlJTIwdG9vbHMlM0JTUElFJTNCb3JnYW5pc2F0aW9uJTNCc2NpZW50aWZpYyUyMHNvZnR3YXJlJTIwcHJvamVjdHMlM0Jzb2Z0d2FyZSUyMGRldmVsb3BtZW50JTIwY3VsdHVyZSUzQnNvZnR3YXJlJTIwZGV2ZWxvcG1lbnQlMjBwcmFjdGljZXMlM0Jzb2Z0d2FyZSUyMHByb2Nlc3MlMjBlbmdpbmVlciUzQnNvZnR3YXJlJTIwcHJvY2VzcyUyMGltcHJvdmVtZW50JTIwYnklMjBleGFtcGxlJTNCc29mdHdhcmUlMjB0b29scyUzQkF1c3RyYWxpYSUzQkRlY2lzaW9uJTIwc3VwcG9ydCUyMHN5c3RlbXMlM0JFbGVjdHJpY2FsJTIwY2FwYWNpdGFuY2UlMjB0b21vZ3JhcGh5JTNCRXhwZXJ0JTIwc3lzdGVtcyUzQkdlb2dyYXBoaWMlMjBJbmZvcm1hdGlvbiUyMFN5c3RlbXMlM0JJbmZvcm1hdGlvbiUyMHN5c3RlbXMlM0JJbnRlcm5ldCUzQk51bWVyaWNhbCUyMHNpbXVsYXRpb24lM0JQcm9ncmFtbWluZyUzQlNvZnR3YXJlJTIwZW5naW5lZXJpbmclMjIlMkMlMEElMjAlMjAlMjAlMjBkb2klM0QlMjIxMC4xMTA5L1NFRVAuMTk5OC43MDc2MzclMjIlMkMlMEElMjAlMjAlMjAlMjBpc3NuJTNEJTIyJTIyJTJDJTBBJTIwJTIwJTIwJTIwSUQlM0QlMjI3MDc2MzclMjIlMkMlMEElMjAlMjAlMjAlMjBpZWVlMjAxNSUzRCUyMjElMjIlMkMlMEElMjAlMjAlMjAlMjBwbGFjZXglM0QlMjJQcm9jZWVkaW5ncy4lMjAxOTk4JTIwSW50ZXJuYXRpb25hbCUyMENvbmZlcmVuY2UlMjBTb2Z0d2FyZSUyMEVuZ2luZWVyaW5nJTNBJTIwRWR1Y2F0aW9uJTIwYW5kJTIwUHJhY3RpY2UlMjAlMjhDYXQuJTIwTm8uOThFWDIyMCUyOSUyMiUyQyUwQSUyOSUyOSUwQSUyNyUyNyUyNyUyOSUzQg==\")));\n",
       "    "
      ],
      "text/plain": [
       "<IPython.core.display.Javascript object>"
      ]
     },
     "metadata": {},
     "output_type": "display_data"
    },
    {
     "data": {
      "application/javascript": [
       "$('span:contains(\"# Temp\")').closest('.cell').remove();"
      ],
      "text/plain": [
       "<IPython.core.display.Javascript object>"
      ]
     },
     "metadata": {},
     "output_type": "display_data"
    },
    {
     "data": {
      "application/javascript": [
       "\n",
       "        $('span:contains(\"# Temp\")').closest('.cell').remove();\n",
       "        var code = IPython.notebook.insert_cell_below('code');\n",
       "        code.set_text(decodeURIComponent(window.atob(\"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\")));\n",
       "    "
      ],
      "text/plain": [
       "<IPython.core.display.Javascript object>"
      ]
     },
     "metadata": {},
     "output_type": "display_data"
    },
    {
     "data": {
      "application/javascript": [
       "$('span:contains(\"# Temp\")').closest('.cell').remove();"
      ],
      "text/plain": [
       "<IPython.core.display.Javascript object>"
      ]
     },
     "metadata": {},
     "output_type": "display_data"
    },
    {
     "data": {
      "application/javascript": [
       "\n",
       "        $('span:contains(\"# Temp\")').closest('.cell').remove();\n",
       "        var code = IPython.notebook.insert_cell_below('code');\n",
       "        code.set_text(decodeURIComponent(window.atob(\"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\")));\n",
       "    "
      ],
      "text/plain": [
       "<IPython.core.display.Javascript object>"
      ]
     },
     "metadata": {},
     "output_type": "display_data"
    },
    {
     "data": {
      "application/javascript": [
       "$('span:contains(\"# Temp\")').closest('.cell').remove();"
      ],
      "text/plain": [
       "<IPython.core.display.Javascript object>"
      ]
     },
     "metadata": {},
     "output_type": "display_data"
    },
    {
     "data": {
      "application/javascript": [
       "\n",
       "        $('span:contains(\"# Temp\")').closest('.cell').remove();\n",
       "        var code = IPython.notebook.insert_cell_below('code');\n",
       "        code.set_text(decodeURIComponent(window.atob(\"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\")));\n",
       "    "
      ],
      "text/plain": [
       "<IPython.core.display.Javascript object>"
      ]
     },
     "metadata": {},
     "output_type": "display_data"
    },
    {
     "data": {
      "application/javascript": [
       "$('span:contains(\"# Temp\")').closest('.cell').remove();"
      ],
      "text/plain": [
       "<IPython.core.display.Javascript object>"
      ]
     },
     "metadata": {},
     "output_type": "display_data"
    },
    {
     "data": {
      "application/javascript": [
       "\n",
       "        $('span:contains(\"# Temp\")').closest('.cell').remove();\n",
       "        var code = IPython.notebook.insert_cell_below('code');\n",
       "        code.set_text(decodeURIComponent(window.atob(\"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\")));\n",
       "    "
      ],
      "text/plain": [
       "<IPython.core.display.Javascript object>"
      ]
     },
     "metadata": {},
     "output_type": "display_data"
    },
    {
     "data": {
      "application/javascript": [
       "$('span:contains(\"# Temp\")').closest('.cell').remove();"
      ],
      "text/plain": [
       "<IPython.core.display.Javascript object>"
      ]
     },
     "metadata": {},
     "output_type": "display_data"
    },
    {
     "data": {
      "application/javascript": [
       "\n",
       "        $('span:contains(\"# Temp\")').closest('.cell').remove();\n",
       "        var code = IPython.notebook.insert_cell_below('code');\n",
       "        code.set_text(decodeURIComponent(window.atob(\"JTIzJTIwVGVtcCUwQWluc2VydCUyOCUyNyUyNyUyNyUwQXBvbmlzaW8yMDA4YSUyMCUzRCUyMERCJTI4V29ya1VucmVsYXRlZCUyOCUwQSUyMCUyMCUyMCUyMDIwMDglMkMlMjAlMjJBbmFseXNpbmclMjBCb3VuZGFyeSUyME9iamVjdHMlMjB0byUyMERldmVsb3AlMjBSZXN1bHRzJTIwdGhhdCUyMFN1cHBvcnQlMjBCdXNpbmVzcyUyMEdvYWxzJTIyJTJDJTBBJTIwJTIwJTIwJTIwZGlzcGxheSUzRCUyMnBvbmlzaW8lMjIlMkMlMEElMjAlMjAlMjAlMjBhdXRob3JzJTNEJTIyTS4lMjBMLiUyMFBvbmlzaW8lMjBhbmQlMjBQLiUyMFZydWdnaW5rJTIyJTJDJTBBJTIwJTIwJTIwJTIwcGxhY2UlM0RGQUtFJTJDJTBBJTIwJTIwJTIwJTIwcHAlM0QlMjI1MTYtNTIxJTIyJTJDJTBBJTIwJTIwJTIwJTIwZW50cnl0eXBlJTNEJTIyaW5wcm9jZWVkaW5ncyUyMiUyQyUwQSUyMCUyMCUyMCUyMHZvbHVtZSUzRCUyMiUyMiUyQyUwQSUyMCUyMCUyMCUyMG51bWJlciUzRCUyMiUyMiUyQyUwQSUyMCUyMCUyMCUyMGtleXdvcmQlM0QlMjJrbm93bGVkZ2UlMjBtYW5hZ2VtZW50JTNCb3V0c291cmNpbmclM0Jwcm9qZWN0JTIwbWFuYWdlbWVudCUzQnNvZnR3YXJlJTIwZGV2ZWxvcG1lbnQlMjBtYW5hZ2VtZW50JTNCYm91bmRhcnklMjBvYmplY3QlM0Jib3VuZGFyeSUyMG9iamVjdCUyMHRyYW5zbGF0aW9uJTNCYnVzaW5lc3MlMjBnb2FsJTNCY29vcmRpbmF0aW9uJTIwcHJhY3RpY2UlM0Jrbm93bGVkZ2UlMjBjb29yZGluYXRpb24lM0JtZWRpYXRvciUzQm11bHRpcGxlJTIwaW5mb3JtYXRpb24lMjBwYXNzYWdlJTIwcG9pbnQlM0JvdXRzb3VyY2luZyUyMHByb2plY3QlM0Jzb2Z0d2FyZSUyMGRldmVsb3BtZW50JTNCd29yayUyMHZpc2liaWxpdHklM0JDb2xsYWJvcmF0aXZlJTIwd29yayUzQkNvbXBhbmllcyUzQkNvbmNyZXRlJTNCQ29zdHMlM0JHdWlkZWxpbmVzJTNCSW5mb3JtYXRpb24lMjBhbmFseXNpcyUzQktub3dsZWRnZSUyMHRyYW5zZmVyJTNCT3V0c291cmNpbmclM0JQcm9ncmFtbWluZyUzQlByb2plY3QlMjBtYW5hZ2VtZW50JTNCb3V0c291cmNpbmclM0Jwcm9qZWN0JTIwbWFuYWdlbWVudCUzQnNvZnR3YXJlJTIwZGV2ZWxvcG1lbnQlMjIlMkMlMEElMjAlMjAlMjAlMjBkb2klM0QlMjIxMC4xMTA5L0NJTUNBLjIwMDguMTMxJTIyJTJDJTBBJTIwJTIwJTIwJTIwaXNzbiUzRCUyMiUyMiUyQyUwQSUyMCUyMCUyMCUyMElEJTNEJTIyNTE3MjY3OSUyMiUyQyUwQSUyMCUyMCUyMCUyMGllZWUyMDE1JTNEJTIyMSUyMiUyQyUwQSUyMCUyMCUyMCUyMHBsYWNleCUzRCUyMjIwMDglMjBJbnRlcm5hdGlvbmFsJTIwQ29uZmVyZW5jZSUyMG9uJTIwQ29tcHV0YXRpb25hbCUyMEludGVsbGlnZW5jZSUyMGZvciUyME1vZGVsbGluZyUyMENvbnRyb2wlMjBBdXRvbWF0aW9uJTIyJTJDJTBBJTI5JTI5JTBBJTI3JTI3JTI3JTI5JTNC\")));\n",
       "    "
      ],
      "text/plain": [
       "<IPython.core.display.Javascript object>"
      ]
     },
     "metadata": {},
     "output_type": "display_data"
    },
    {
     "data": {
      "application/javascript": [
       "$('span:contains(\"# Temp\")').closest('.cell').remove();"
      ],
      "text/plain": [
       "<IPython.core.display.Javascript object>"
      ]
     },
     "metadata": {},
     "output_type": "display_data"
    },
    {
     "data": {
      "application/javascript": [
       "\n",
       "        $('span:contains(\"# Temp\")').closest('.cell').remove();\n",
       "        var code = IPython.notebook.insert_cell_below('code');\n",
       "        code.set_text(decodeURIComponent(window.atob(\"JTIzJTIwVGVtcCUwQWluc2VydCUyOCUyNyUyNyUyNyUwQXBvbmlzaW8yMDA4YSUyMCUzRCUyMERCJTI4V29ya1VucmVsYXRlZCUyOCUwQSUyMCUyMCUyMCUyMDIwMDglMkMlMjAlMjJBbmFseXNpbmclMjBCb3VuZGFyeSUyME9iamVjdHMlMjB0byUyMERldmVsb3AlMjBSZXN1bHRzJTIwdGhhdCUyMFN1cHBvcnQlMjBCdXNpbmVzcyUyMEdvYWxzJTIyJTJDJTBBJTIwJTIwJTIwJTIwZGlzcGxheSUzRCUyMnBvbmlzaW8lMjIlMkMlMEElMjAlMjAlMjAlMjBhdXRob3JzJTNEJTIyTS4lMjBMLiUyMFBvbmlzaW8lMjBhbmQlMjBQLiUyMFZydWdnaW5rJTIyJTJDJTBBJTIwJTIwJTIwJTIwcGxhY2UlM0RGQUtFJTJDJTBBJTIwJTIwJTIwJTIwcHAlM0QlMjI1MTYtNTIxJTIyJTJDJTBBJTIwJTIwJTIwJTIwZW50cnl0eXBlJTNEJTIyaW5wcm9jZWVkaW5ncyUyMiUyQyUwQSUyMCUyMCUyMCUyMHZvbHVtZSUzRCUyMiUyMiUyQyUwQSUyMCUyMCUyMCUyMG51bWJlciUzRCUyMiUyMiUyQyUwQSUyMCUyMCUyMCUyMGtleXdvcmQlM0QlMjJrbm93bGVkZ2UlMjBtYW5hZ2VtZW50JTNCb3V0c291cmNpbmclM0Jwcm9qZWN0JTIwbWFuYWdlbWVudCUzQnNvZnR3YXJlJTIwZGV2ZWxvcG1lbnQlMjBtYW5hZ2VtZW50JTNCYm91bmRhcnklMjBvYmplY3QlM0Jib3VuZGFyeSUyMG9iamVjdCUyMHRyYW5zbGF0aW9uJTNCYnVzaW5lc3MlMjBnb2FsJTNCY29vcmRpbmF0aW9uJTIwcHJhY3RpY2UlM0Jrbm93bGVkZ2UlMjBjb29yZGluYXRpb24lM0JtZWRpYXRvciUzQm11bHRpcGxlJTIwaW5mb3JtYXRpb24lMjBwYXNzYWdlJTIwcG9pbnQlM0JvdXRzb3VyY2luZyUyMHByb2plY3QlM0Jzb2Z0d2FyZSUyMGRldmVsb3BtZW50JTNCd29yayUyMHZpc2liaWxpdHklM0JDb2xsYWJvcmF0aXZlJTIwd29yayUzQkNvbXBhbmllcyUzQkNvbmNyZXRlJTNCQ29zdHMlM0JHdWlkZWxpbmVzJTNCSW5mb3JtYXRpb24lMjBhbmFseXNpcyUzQktub3dsZWRnZSUyMHRyYW5zZmVyJTNCT3V0c291cmNpbmclM0JQcm9ncmFtbWluZyUzQlByb2plY3QlMjBtYW5hZ2VtZW50JTNCb3V0c291cmNpbmclM0Jwcm9qZWN0JTIwbWFuYWdlbWVudCUzQnNvZnR3YXJlJTIwZGV2ZWxvcG1lbnQlMjIlMkMlMEElMjAlMjAlMjAlMjBkb2klM0QlMjIxMC4xMTA5L0NJTUNBLjIwMDguMTMxJTIyJTJDJTBBJTIwJTIwJTIwJTIwaXNzbiUzRCUyMiUyMiUyQyUwQSUyMCUyMCUyMCUyMElEJTNEJTIyNTE3MjY3OSUyMiUyQyUwQSUyMCUyMCUyMCUyMGllZWUyMDE1JTNEJTIyMSUyMiUyQyUwQSUyMCUyMCUyMCUyMHBsYWNleCUzRCUyMjIwMDglMjBJbnRlcm5hdGlvbmFsJTIwQ29uZmVyZW5jZSUyMG9uJTIwQ29tcHV0YXRpb25hbCUyMEludGVsbGlnZW5jZSUyMGZvciUyME1vZGVsbGluZyUyMENvbnRyb2wlMjBBdXRvbWF0aW9uJTIyJTJDJTBBJTI5JTI5JTBBJTI3JTI3JTI3JTI5JTNC\")));\n",
       "    "
      ],
      "text/plain": [
       "<IPython.core.display.Javascript object>"
      ]
     },
     "metadata": {},
     "output_type": "display_data"
    },
    {
     "data": {
      "application/javascript": [
       "$('span:contains(\"# Temp\")').closest('.cell').remove();"
      ],
      "text/plain": [
       "<IPython.core.display.Javascript object>"
      ]
     },
     "metadata": {},
     "output_type": "display_data"
    },
    {
     "data": {
      "application/javascript": [
       "\n",
       "        $('span:contains(\"# Temp\")').closest('.cell').remove();\n",
       "        var code = IPython.notebook.insert_cell_below('code');\n",
       "        code.set_text(decodeURIComponent(window.atob(\"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\")));\n",
       "    "
      ],
      "text/plain": [
       "<IPython.core.display.Javascript object>"
      ]
     },
     "metadata": {},
     "output_type": "display_data"
    },
    {
     "data": {
      "application/javascript": [
       "$('span:contains(\"# Temp\")').closest('.cell').remove();"
      ],
      "text/plain": [
       "<IPython.core.display.Javascript object>"
      ]
     },
     "metadata": {},
     "output_type": "display_data"
    },
    {
     "data": {
      "application/javascript": [
       "\n",
       "        $('span:contains(\"# Temp\")').closest('.cell').remove();\n",
       "        var code = IPython.notebook.insert_cell_below('code');\n",
       "        code.set_text(decodeURIComponent(window.atob(\"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\")));\n",
       "    "
      ],
      "text/plain": [
       "<IPython.core.display.Javascript object>"
      ]
     },
     "metadata": {},
     "output_type": "display_data"
    },
    {
     "data": {
      "application/javascript": [
       "$('span:contains(\"# Temp\")').closest('.cell').remove();"
      ],
      "text/plain": [
       "<IPython.core.display.Javascript object>"
      ]
     },
     "metadata": {},
     "output_type": "display_data"
    },
    {
     "data": {
      "application/javascript": [
       "\n",
       "        $('span:contains(\"# Temp\")').closest('.cell').remove();\n",
       "        var code = IPython.notebook.insert_cell_below('code');\n",
       "        code.set_text(decodeURIComponent(window.atob(\"JTIzJTIwVGVtcCUwQWluc2VydCUyOCUyNyUyNyUyNyUwQWJldHoyMDExYSUyMCUzRCUyMERCJTI4V29ya1VucmVsYXRlZCUyOCUwQSUyMCUyMCUyMCUyMDIwMTElMkMlMjAlMjJSaXNrLUF3YXJlJTIwQnVzaW5lc3MlMjBQcm9jZXNzJTIwTW9kZWxpbmclMjBhbmQlMjBTaW11bGF0aW9uJTIwVXNpbmclMjBYTUwlMjBOZXRzJTIyJTJDJTBBJTIwJTIwJTIwJTIwZGlzcGxheSUzRCUyMmJldHolMjIlMkMlMEElMjAlMjAlMjAlMjBhdXRob3JzJTNEJTIyUy4lMjBCZXR6JTIwYW5kJTIwUy4lMjBIaWNrbCUyMGFuZCUyMEEuJTIwT2JlcndlaXMlMjIlMkMlMEElMjAlMjAlMjAlMjBwbGFjZSUzREZBS0UlMkMlMEElMjAlMjAlMjAlMjBwcCUzRCUyMjM0OS0zNTYlMjIlMkMlMEElMjAlMjAlMjAlMjBlbnRyeXR5cGUlM0QlMjJpbnByb2NlZWRpbmdzJTIyJTJDJTBBJTIwJTIwJTIwJTIwdm9sdW1lJTNEJTIyJTIyJTJDJTBBJTIwJTIwJTIwJTIwbnVtYmVyJTNEJTIyJTIyJTJDJTBBJTIwJTIwJTIwJTIwa2V5d29yZCUzRCUyMlBldHJpJTIwbmV0cyUzQlhNTCUzQmJ1c2luZXNzJTIwY29udGludWl0eSUzQmJ1c2luZXNzJTIwZGF0YSUyMHByb2Nlc3NpbmclM0Jjb3Jwb3JhdGUlMjBtb2RlbGxpbmclM0JvcmdhbmlzYXRpb25hbCUyMGFzcGVjdHMlM0JyaXNrJTIwbWFuYWdlbWVudCUzQlBldHJpJTIwbmV0cyUzQlhNTCUyMG5ldHMlM0JidXNpbmVzcyUyMGNvbnRpbnVpdHklM0JidXNpbmVzcyUyMHByb2Nlc3MlMjBtYW5hZ2VtZW50JTNCb3JnYW5pemF0aW9uYWwlMjBnb2FscyUzQnJpc2slMjBhd2FyZSUyMGJ1c2luZXNzJTIwcHJvY2VzcyUyMG1vZGVsaW5nJTNCcmlzayUyMGF3YXJlJTIwYnVzaW5lc3MlMjBwcm9jZXNzJTIwc2ltdWxhdGlvbiUzQnJpc2slMjBpZGVudGlmaWNhdGlvbiUyMHRlY2huaXF1ZXMlM0JyaXNrJTIwbWFuYWdlbWVudCUzQnJpc2slMjB2aXNpYmlsaXR5JTNCTWF0aGVtYXRpY2FsJTIwbW9kZWwlM0JQZXRyaSUyMG5ldHMlM0JSaXNrJTIwbWFuYWdlbWVudCUzQlNvZnR3YXJlJTNCVW5pZmllZCUyMG1vZGVsaW5nJTIwbGFuZ3VhZ2UlM0JYTUwlM0JQZXRyaSUyMG5ldHMlM0JidXNpbmVzcyUyMHByb2Nlc3MlMjBtYW5hZ2VtZW50JTNCYnVzaW5lc3MlMjBwcm9jZXNzJTIwbW9kZWxpbmclMjBhbmQlMjBzaW11bGF0aW9uJTNCcmlzayUyMG1hbmFnZW1lbnQlMjIlMkMlMEElMjAlMjAlMjAlMjBkb2klM0QlMjIxMC4xMTA5L0NFQy4yMDExLjU4JTIyJTJDJTBBJTIwJTIwJTIwJTIwaXNzbiUzRCUyMjIzNzgtMTk2MyUyMiUyQyUwQSUyMCUyMCUyMCUyMElEJTNEJTIyNjA0Njk5OCUyMiUyQyUwQSUyMCUyMCUyMCUyMGllZWUyMDE1JTNEJTIyMSUyMiUyQyUwQSUyMCUyMCUyMCUyMHBsYWNleCUzRCUyMjIwMTElMjBJRUVFJTIwMTN0aCUyMENvbmZlcmVuY2UlMjBvbiUyMENvbW1lcmNlJTIwYW5kJTIwRW50ZXJwcmlzZSUyMENvbXB1dGluZyUyMiUyQyUwQSUyOSUyOSUwQSUyNyUyNyUyNyUyOSUzQg==\")));\n",
       "    "
      ],
      "text/plain": [
       "<IPython.core.display.Javascript object>"
      ]
     },
     "metadata": {},
     "output_type": "display_data"
    },
    {
     "data": {
      "application/javascript": [
       "$('span:contains(\"# Temp\")').closest('.cell').remove();"
      ],
      "text/plain": [
       "<IPython.core.display.Javascript object>"
      ]
     },
     "metadata": {},
     "output_type": "display_data"
    },
    {
     "data": {
      "application/javascript": [
       "\n",
       "        $('span:contains(\"# Temp\")').closest('.cell').remove();\n",
       "        var code = IPython.notebook.insert_cell_below('code');\n",
       "        code.set_text(decodeURIComponent(window.atob(\"JTIzJTIwVGVtcCUwQWluc2VydCUyOCUyNyUyNyUyNyUwQWJldHoyMDExYSUyMCUzRCUyMERCJTI4V29ya1VucmVsYXRlZCUyOCUwQSUyMCUyMCUyMCUyMDIwMTElMkMlMjAlMjJSaXNrLUF3YXJlJTIwQnVzaW5lc3MlMjBQcm9jZXNzJTIwTW9kZWxpbmclMjBhbmQlMjBTaW11bGF0aW9uJTIwVXNpbmclMjBYTUwlMjBOZXRzJTIyJTJDJTBBJTIwJTIwJTIwJTIwZGlzcGxheSUzRCUyMmJldHolMjIlMkMlMEElMjAlMjAlMjAlMjBhdXRob3JzJTNEJTIyUy4lMjBCZXR6JTIwYW5kJTIwUy4lMjBIaWNrbCUyMGFuZCUyMEEuJTIwT2JlcndlaXMlMjIlMkMlMEElMjAlMjAlMjAlMjBwbGFjZSUzREZBS0UlMkMlMEElMjAlMjAlMjAlMjBwcCUzRCUyMjM0OS0zNTYlMjIlMkMlMEElMjAlMjAlMjAlMjBlbnRyeXR5cGUlM0QlMjJpbnByb2NlZWRpbmdzJTIyJTJDJTBBJTIwJTIwJTIwJTIwdm9sdW1lJTNEJTIyJTIyJTJDJTBBJTIwJTIwJTIwJTIwbnVtYmVyJTNEJTIyJTIyJTJDJTBBJTIwJTIwJTIwJTIwa2V5d29yZCUzRCUyMlBldHJpJTIwbmV0cyUzQlhNTCUzQmJ1c2luZXNzJTIwY29udGludWl0eSUzQmJ1c2luZXNzJTIwZGF0YSUyMHByb2Nlc3NpbmclM0Jjb3Jwb3JhdGUlMjBtb2RlbGxpbmclM0JvcmdhbmlzYXRpb25hbCUyMGFzcGVjdHMlM0JyaXNrJTIwbWFuYWdlbWVudCUzQlBldHJpJTIwbmV0cyUzQlhNTCUyMG5ldHMlM0JidXNpbmVzcyUyMGNvbnRpbnVpdHklM0JidXNpbmVzcyUyMHByb2Nlc3MlMjBtYW5hZ2VtZW50JTNCb3JnYW5pemF0aW9uYWwlMjBnb2FscyUzQnJpc2slMjBhd2FyZSUyMGJ1c2luZXNzJTIwcHJvY2VzcyUyMG1vZGVsaW5nJTNCcmlzayUyMGF3YXJlJTIwYnVzaW5lc3MlMjBwcm9jZXNzJTIwc2ltdWxhdGlvbiUzQnJpc2slMjBpZGVudGlmaWNhdGlvbiUyMHRlY2huaXF1ZXMlM0JyaXNrJTIwbWFuYWdlbWVudCUzQnJpc2slMjB2aXNpYmlsaXR5JTNCTWF0aGVtYXRpY2FsJTIwbW9kZWwlM0JQZXRyaSUyMG5ldHMlM0JSaXNrJTIwbWFuYWdlbWVudCUzQlNvZnR3YXJlJTNCVW5pZmllZCUyMG1vZGVsaW5nJTIwbGFuZ3VhZ2UlM0JYTUwlM0JQZXRyaSUyMG5ldHMlM0JidXNpbmVzcyUyMHByb2Nlc3MlMjBtYW5hZ2VtZW50JTNCYnVzaW5lc3MlMjBwcm9jZXNzJTIwbW9kZWxpbmclMjBhbmQlMjBzaW11bGF0aW9uJTNCcmlzayUyMG1hbmFnZW1lbnQlMjIlMkMlMEElMjAlMjAlMjAlMjBkb2klM0QlMjIxMC4xMTA5L0NFQy4yMDExLjU4JTIyJTJDJTBBJTIwJTIwJTIwJTIwaXNzbiUzRCUyMjIzNzgtMTk2MyUyMiUyQyUwQSUyMCUyMCUyMCUyMElEJTNEJTIyNjA0Njk5OCUyMiUyQyUwQSUyMCUyMCUyMCUyMGllZWUyMDE1JTNEJTIyMSUyMiUyQyUwQSUyMCUyMCUyMCUyMHBsYWNleCUzRCUyMjIwMTElMjBJRUVFJTIwMTN0aCUyMENvbmZlcmVuY2UlMjBvbiUyMENvbW1lcmNlJTIwYW5kJTIwRW50ZXJwcmlzZSUyMENvbXB1dGluZyUyMiUyQyUwQSUyOSUyOSUwQSUyNyUyNyUyNyUyOSUzQg==\")));\n",
       "    "
      ],
      "text/plain": [
       "<IPython.core.display.Javascript object>"
      ]
     },
     "metadata": {},
     "output_type": "display_data"
    },
    {
     "data": {
      "application/javascript": [
       "$('span:contains(\"# Temp\")').closest('.cell').remove();"
      ],
      "text/plain": [
       "<IPython.core.display.Javascript object>"
      ]
     },
     "metadata": {},
     "output_type": "display_data"
    },
    {
     "data": {
      "application/javascript": [
       "\n",
       "        $('span:contains(\"# Temp\")').closest('.cell').remove();\n",
       "        var code = IPython.notebook.insert_cell_below('code');\n",
       "        code.set_text(decodeURIComponent(window.atob(\"JTIzJTIwVGVtcCUwQWluc2VydCUyOCUyNyUyNyUyNyUwQWdyaXNzMTk5OWElMjAlM0QlMjBEQiUyOFdvcmtVbnJlbGF0ZWQlMjglMEElMjAlMjAlMjAlMjAxOTk5JTJDJTIwJTIyQXJjaGl0ZWN0aW5nJTIwZm9yJTIwbGFyZ2Utc2NhbGUlMjBzeXN0ZW1hdGljJTIwY29tcG9uZW50JTIwcmV1c2UlMjIlMkMlMEElMjAlMjAlMjAlMjBkaXNwbGF5JTNEJTIyZ3Jpc3MlMjIlMkMlMEElMjAlMjAlMjAlMjBhdXRob3JzJTNEJTIyTS4lMjBMLiUyMEdyaXNzJTIyJTJDJTBBJTIwJTIwJTIwJTIwcGxhY2UlM0RJQ1NFJTJDJTBBJTIwJTIwJTIwJTIwcHAlM0QlMjI2MTUtNjE2JTIyJTJDJTBBJTIwJTIwJTIwJTIwZW50cnl0eXBlJTNEJTIyaW5wcm9jZWVkaW5ncyUyMiUyQyUwQSUyMCUyMCUyMCUyMHZvbHVtZSUzRCUyMiUyMiUyQyUwQSUyMCUyMCUyMCUyMG51bWJlciUzRCUyMiUyMiUyQyUwQSUyMCUyMCUyMCUyMGtleXdvcmQlM0QlMjJzb2Z0d2FyZSUyMGFyY2hpdGVjdHVyZSUzQnNvZnR3YXJlJTIwcmV1c2FiaWxpdHklM0JVTUwlM0JidXNpbmVzcyUyMGFuZCUyMHN5c3RlbSUyMG1vZGVsaW5nJTNCY29tcG9uZW50JTIwcmV1c2UlM0Jjb21wb25lbnQtYmFzZWQlMjBzb2Z0d2FyZSUyMHJldXNlJTNCb2JqZWN0LW9yaWVudGVkJTNCQXBwbGljYXRpb24lMjBzb2Z0d2FyZSUzQkJ1c2luZXNzJTIwcHJvY2VzcyUyMHJlLWVuZ2luZWVyaW5nJTNCQ29tcGFuaWVzJTNCQ29tcHV0ZXIlMjBhcmNoaXRlY3R1cmUlM0JMYXJnZS1zY2FsZSUyMHN5c3RlbXMlM0JPYmplY3QlMjBvcmllbnRlZCUyMG1vZGVsaW5nJTNCUHJvZ3JhbW1pbmclM0JTb2Z0d2FyZSUyMHF1YWxpdHklM0JTb2Z0d2FyZSUyMHN5c3RlbXMlM0JVbmlmaWVkJTIwbW9kZWxpbmclMjBsYW5ndWFnZSUyMiUyQyUwQSUyMCUyMCUyMCUyMGRvaSUzRCUyMjEwLjExNDUvMzAyNDA1LjMwMjcxNSUyMiUyQyUwQSUyMCUyMCUyMCUyMGlzc24lM0QlMjIwMjcwLTUyNTclMjIlMkMlMEElMjAlMjAlMjAlMjBJRCUzRCUyMjg0MTA1NiUyMiUyQyUwQSUyMCUyMCUyMCUyMGllZWUyMDE1JTNEJTIyMSUyMiUyQyUwQSUyMCUyMCUyMCUyMHBsYWNleCUzRCUyMlByb2NlZWRpbmdzJTIwb2YlMjB0aGUlMjAxOTk5JTIwSW50ZXJuYXRpb25hbCUyMENvbmZlcmVuY2UlMjBvbiUyMFNvZnR3YXJlJTIwRW5naW5lZXJpbmclMjAlMjhJRUVFJTIwQ2F0LiUyME5vLjk5Q0IzNzAwMiUyOSUyMiUyQyUwQSUyOSUyOSUwQSUyNyUyNyUyNyUyOSUzQg==\")));\n",
       "    "
      ],
      "text/plain": [
       "<IPython.core.display.Javascript object>"
      ]
     },
     "metadata": {},
     "output_type": "display_data"
    },
    {
     "data": {
      "application/javascript": [
       "$('span:contains(\"# Temp\")').closest('.cell').remove();"
      ],
      "text/plain": [
       "<IPython.core.display.Javascript object>"
      ]
     },
     "metadata": {},
     "output_type": "display_data"
    },
    {
     "data": {
      "application/javascript": [
       "\n",
       "        $('span:contains(\"# Temp\")').closest('.cell').remove();\n",
       "        var code = IPython.notebook.insert_cell_below('code');\n",
       "        code.set_text(decodeURIComponent(window.atob(\"JTIzJTIwVGVtcCUwQWluc2VydCUyOCUyNyUyNyUyNyUwQWdyaXNzMTk5OWElMjAlM0QlMjBEQiUyOFdvcmtVbnJlbGF0ZWQlMjglMEElMjAlMjAlMjAlMjAxOTk5JTJDJTIwJTIyQXJjaGl0ZWN0aW5nJTIwZm9yJTIwbGFyZ2Utc2NhbGUlMjBzeXN0ZW1hdGljJTIwY29tcG9uZW50JTIwcmV1c2UlMjIlMkMlMEElMjAlMjAlMjAlMjBkaXNwbGF5JTNEJTIyZ3Jpc3MlMjIlMkMlMEElMjAlMjAlMjAlMjBhdXRob3JzJTNEJTIyTS4lMjBMLiUyMEdyaXNzJTIyJTJDJTBBJTIwJTIwJTIwJTIwcGxhY2UlM0RJQ1NFJTJDJTBBJTIwJTIwJTIwJTIwcHAlM0QlMjI2MTUtNjE2JTIyJTJDJTBBJTIwJTIwJTIwJTIwZW50cnl0eXBlJTNEJTIyaW5wcm9jZWVkaW5ncyUyMiUyQyUwQSUyMCUyMCUyMCUyMHZvbHVtZSUzRCUyMiUyMiUyQyUwQSUyMCUyMCUyMCUyMG51bWJlciUzRCUyMiUyMiUyQyUwQSUyMCUyMCUyMCUyMGtleXdvcmQlM0QlMjJzb2Z0d2FyZSUyMGFyY2hpdGVjdHVyZSUzQnNvZnR3YXJlJTIwcmV1c2FiaWxpdHklM0JVTUwlM0JidXNpbmVzcyUyMGFuZCUyMHN5c3RlbSUyMG1vZGVsaW5nJTNCY29tcG9uZW50JTIwcmV1c2UlM0Jjb21wb25lbnQtYmFzZWQlMjBzb2Z0d2FyZSUyMHJldXNlJTNCb2JqZWN0LW9yaWVudGVkJTNCQXBwbGljYXRpb24lMjBzb2Z0d2FyZSUzQkJ1c2luZXNzJTIwcHJvY2VzcyUyMHJlLWVuZ2luZWVyaW5nJTNCQ29tcGFuaWVzJTNCQ29tcHV0ZXIlMjBhcmNoaXRlY3R1cmUlM0JMYXJnZS1zY2FsZSUyMHN5c3RlbXMlM0JPYmplY3QlMjBvcmllbnRlZCUyMG1vZGVsaW5nJTNCUHJvZ3JhbW1pbmclM0JTb2Z0d2FyZSUyMHF1YWxpdHklM0JTb2Z0d2FyZSUyMHN5c3RlbXMlM0JVbmlmaWVkJTIwbW9kZWxpbmclMjBsYW5ndWFnZSUyMiUyQyUwQSUyMCUyMCUyMCUyMGRvaSUzRCUyMjEwLjExNDUvMzAyNDA1LjMwMjcxNSUyMiUyQyUwQSUyMCUyMCUyMCUyMGlzc24lM0QlMjIwMjcwLTUyNTclMjIlMkMlMEElMjAlMjAlMjAlMjBJRCUzRCUyMjg0MTA1NiUyMiUyQyUwQSUyMCUyMCUyMCUyMGllZWUyMDE1JTNEJTIyMSUyMiUyQyUwQSUyMCUyMCUyMCUyMHBsYWNleCUzRCUyMlByb2NlZWRpbmdzJTIwb2YlMjB0aGUlMjAxOTk5JTIwSW50ZXJuYXRpb25hbCUyMENvbmZlcmVuY2UlMjBvbiUyMFNvZnR3YXJlJTIwRW5naW5lZXJpbmclMjAlMjhJRUVFJTIwQ2F0LiUyME5vLjk5Q0IzNzAwMiUyOSUyMiUyQyUwQSUyOSUyOSUwQSUyNyUyNyUyNyUyOSUzQg==\")));\n",
       "    "
      ],
      "text/plain": [
       "<IPython.core.display.Javascript object>"
      ]
     },
     "metadata": {},
     "output_type": "display_data"
    },
    {
     "data": {
      "application/javascript": [
       "$('span:contains(\"# Temp\")').closest('.cell').remove();"
      ],
      "text/plain": [
       "<IPython.core.display.Javascript object>"
      ]
     },
     "metadata": {},
     "output_type": "display_data"
    },
    {
     "data": {
      "application/javascript": [
       "\n",
       "        $('span:contains(\"# Temp\")').closest('.cell').remove();\n",
       "        var code = IPython.notebook.insert_cell_below('code');\n",
       "        code.set_text(decodeURIComponent(window.atob(\"JTIzJTIwVGVtcCUwQWluc2VydCUyOCUyNyUyNyUyNyUwQXJhY2hldmEyMDEwYSUyMCUzRCUyMERCJTI4V29ya1VucmVsYXRlZCUyOCUwQSUyMCUyMCUyMCUyMDIwMTAlMkMlMjAlMjJEbyUyMFdlJTIwS25vdyUyMEVub3VnaCUyMGFib3V0JTIwUmVxdWlyZW1lbnRzJTIwUHJpb3JpdGl6YXRpb24lMjBpbiUyMEFnaWxlJTIwUHJvamVjdHMlM0ElMjBJbnNpZ2h0cyUyMGZyb20lMjBhJTIwQ2FzZSUyMFN0dWR5JTIyJTJDJTBBJTIwJTIwJTIwJTIwZGlzcGxheSUzRCUyMnJhY2hldmElMjIlMkMlMEElMjAlMjAlMjAlMjBhdXRob3JzJTNEJTIyWi4lMjBSYWNoZXZhJTIwYW5kJTIwTS4lMjBEYW5ldmElMjBhbmQlMjBLLiUyMFNpa2tlbCUyMGFuZCUyMEEuJTIwSGVycm1hbm4lMjBhbmQlMjBSLiUyMFdpZXJpbmdhJTIyJTJDJTBBJTIwJTIwJTIwJTIwcGxhY2UlM0RGQUtFJTJDJTBBJTIwJTIwJTIwJTIwcHAlM0QlMjIxNDctMTU2JTIyJTJDJTBBJTIwJTIwJTIwJTIwZW50cnl0eXBlJTNEJTIyaW5wcm9jZWVkaW5ncyUyMiUyQyUwQSUyMCUyMCUyMCUyMHZvbHVtZSUzRCUyMiUyMiUyQyUwQSUyMCUyMCUyMCUyMG51bWJlciUzRCUyMiUyMiUyQyUwQSUyMCUyMCUyMCUyMGtleXdvcmQlM0QlMjJzb2Z0d2FyZSUyMGVuZ2luZWVyaW5nJTNCYWdpbGUlMjBwcm9qZWN0JTIwY29udGV4dHMlM0JhZ2lsZSUyMHByb2plY3RzJTNCYWdpbGUlMjBzb2Z0d2FyZSUyMGRldmVsb3BtZW50JTIwYXBwcm9hY2hlcyUzQmJ1c2luZXNzJTIwdmFsdWUlMjBkZWxpdmVyeSUyMHByb2Nlc3NlcyUzQmNyb3NzJTIwY2FzZSUyMHN0dWR5JTNCZWlnaHQlMjBzb2Z0d2FyZSUyMG9yZ2FuaXphdGlvbnMlM0Jlc3NlbnRpYWwlMjBtZWNoYW5pc20lM0JyZXF1aXJlbWVudHMlMjBwcmlvcml0aXphdGlvbiUzQkNvbXBhbmllcyUzQkNvbnRleHQlM0JEZWNpc2lvbiUyMG1ha2luZyUzQkludGVydmlld3MlM0JTb2Z0d2FyZSUzQmFnaWxlJTIwZGV2ZWxvcG1lbnQlM0JleHBsb3JhdG9yeSUyMGNhc2UlMjBzdHVkeSUzQnJlcXVpcmVtZW50cyUyMHByaW9yaXRpemF0aW9uJTNCdmFsdWUlMjBjcmVhdGlvbiUyMiUyQyUwQSUyMCUyMCUyMCUyMGRvaSUzRCUyMjEwLjExMDkvUkUuMjAxMC4yNyUyMiUyQyUwQSUyMCUyMCUyMCUyMGlzc24lM0QlMjIxMDkwLTcwNVglMjIlMkMlMEElMjAlMjAlMjAlMjBJRCUzRCUyMjU2MzY4OTAlMjIlMkMlMEElMjAlMjAlMjAlMjBpZWVlMjAxNSUzRCUyMjElMjIlMkMlMEElMjAlMjAlMjAlMjBwbGFjZXglM0QlMjIyMDEwJTIwMTh0aCUyMElFRUUlMjBJbnRlcm5hdGlvbmFsJTIwUmVxdWlyZW1lbnRzJTIwRW5naW5lZXJpbmclMjBDb25mZXJlbmNlJTIyJTJDJTBBJTI5JTI5JTBBJTI3JTI3JTI3JTI5JTNC\")));\n",
       "    "
      ],
      "text/plain": [
       "<IPython.core.display.Javascript object>"
      ]
     },
     "metadata": {},
     "output_type": "display_data"
    },
    {
     "data": {
      "application/javascript": [
       "$('span:contains(\"# Temp\")').closest('.cell').remove();"
      ],
      "text/plain": [
       "<IPython.core.display.Javascript object>"
      ]
     },
     "metadata": {},
     "output_type": "display_data"
    },
    {
     "data": {
      "application/javascript": [
       "\n",
       "        $('span:contains(\"# Temp\")').closest('.cell').remove();\n",
       "        var code = IPython.notebook.insert_cell_below('code');\n",
       "        code.set_text(decodeURIComponent(window.atob(\"JTIzJTIwVGVtcCUwQWluc2VydCUyOCUyNyUyNyUyNyUwQXJhY2hldmEyMDEwYSUyMCUzRCUyMERCJTI4V29ya1VucmVsYXRlZCUyOCUwQSUyMCUyMCUyMCUyMDIwMTAlMkMlMjAlMjJEbyUyMFdlJTIwS25vdyUyMEVub3VnaCUyMGFib3V0JTIwUmVxdWlyZW1lbnRzJTIwUHJpb3JpdGl6YXRpb24lMjBpbiUyMEFnaWxlJTIwUHJvamVjdHMlM0ElMjBJbnNpZ2h0cyUyMGZyb20lMjBhJTIwQ2FzZSUyMFN0dWR5JTIyJTJDJTBBJTIwJTIwJTIwJTIwZGlzcGxheSUzRCUyMnJhY2hldmElMjIlMkMlMEElMjAlMjAlMjAlMjBhdXRob3JzJTNEJTIyWi4lMjBSYWNoZXZhJTIwYW5kJTIwTS4lMjBEYW5ldmElMjBhbmQlMjBLLiUyMFNpa2tlbCUyMGFuZCUyMEEuJTIwSGVycm1hbm4lMjBhbmQlMjBSLiUyMFdpZXJpbmdhJTIyJTJDJTBBJTIwJTIwJTIwJTIwcGxhY2UlM0RGQUtFJTJDJTBBJTIwJTIwJTIwJTIwcHAlM0QlMjIxNDctMTU2JTIyJTJDJTBBJTIwJTIwJTIwJTIwZW50cnl0eXBlJTNEJTIyaW5wcm9jZWVkaW5ncyUyMiUyQyUwQSUyMCUyMCUyMCUyMHZvbHVtZSUzRCUyMiUyMiUyQyUwQSUyMCUyMCUyMCUyMG51bWJlciUzRCUyMiUyMiUyQyUwQSUyMCUyMCUyMCUyMGtleXdvcmQlM0QlMjJzb2Z0d2FyZSUyMGVuZ2luZWVyaW5nJTNCYWdpbGUlMjBwcm9qZWN0JTIwY29udGV4dHMlM0JhZ2lsZSUyMHByb2plY3RzJTNCYWdpbGUlMjBzb2Z0d2FyZSUyMGRldmVsb3BtZW50JTIwYXBwcm9hY2hlcyUzQmJ1c2luZXNzJTIwdmFsdWUlMjBkZWxpdmVyeSUyMHByb2Nlc3NlcyUzQmNyb3NzJTIwY2FzZSUyMHN0dWR5JTNCZWlnaHQlMjBzb2Z0d2FyZSUyMG9yZ2FuaXphdGlvbnMlM0Jlc3NlbnRpYWwlMjBtZWNoYW5pc20lM0JyZXF1aXJlbWVudHMlMjBwcmlvcml0aXphdGlvbiUzQkNvbXBhbmllcyUzQkNvbnRleHQlM0JEZWNpc2lvbiUyMG1ha2luZyUzQkludGVydmlld3MlM0JTb2Z0d2FyZSUzQmFnaWxlJTIwZGV2ZWxvcG1lbnQlM0JleHBsb3JhdG9yeSUyMGNhc2UlMjBzdHVkeSUzQnJlcXVpcmVtZW50cyUyMHByaW9yaXRpemF0aW9uJTNCdmFsdWUlMjBjcmVhdGlvbiUyMiUyQyUwQSUyMCUyMCUyMCUyMGRvaSUzRCUyMjEwLjExMDkvUkUuMjAxMC4yNyUyMiUyQyUwQSUyMCUyMCUyMCUyMGlzc24lM0QlMjIxMDkwLTcwNVglMjIlMkMlMEElMjAlMjAlMjAlMjBJRCUzRCUyMjU2MzY4OTAlMjIlMkMlMEElMjAlMjAlMjAlMjBpZWVlMjAxNSUzRCUyMjElMjIlMkMlMEElMjAlMjAlMjAlMjBwbGFjZXglM0QlMjIyMDEwJTIwMTh0aCUyMElFRUUlMjBJbnRlcm5hdGlvbmFsJTIwUmVxdWlyZW1lbnRzJTIwRW5naW5lZXJpbmclMjBDb25mZXJlbmNlJTIyJTJDJTBBJTI5JTI5JTBBJTI3JTI3JTI3JTI5JTNC\")));\n",
       "    "
      ],
      "text/plain": [
       "<IPython.core.display.Javascript object>"
      ]
     },
     "metadata": {},
     "output_type": "display_data"
    },
    {
     "data": {
      "application/javascript": [
       "$('span:contains(\"# Temp\")').closest('.cell').remove();"
      ],
      "text/plain": [
       "<IPython.core.display.Javascript object>"
      ]
     },
     "metadata": {},
     "output_type": "display_data"
    },
    {
     "data": {
      "application/javascript": [
       "\n",
       "        $('span:contains(\"# Temp\")').closest('.cell').remove();\n",
       "        var code = IPython.notebook.insert_cell_below('code');\n",
       "        code.set_text(decodeURIComponent(window.atob(\"JTIzJTIwVGVtcCUwQWluc2VydCUyOCUyNyUyNyUyNyUwQW1hemluYW5pYW4yMDEyYSUyMCUzRCUyMERCJTI4V29ya1VucmVsYXRlZCUyOCUwQSUyMCUyMCUyMCUyMDIwMTIlMkMlMjAlMjJXRE1FUyUzQSUyMEElMjBjb21wcmVoZW5zaXZlJTIwbWVhc3VyZW1lbnQlMjBzeXN0ZW0lMjBmb3IlMjB3ZWIlMjBhcHBsaWNhdGlvbiUyMGRldmVsb3BtZW50JTIyJTJDJTBBJTIwJTIwJTIwJTIwZGlzcGxheSUzRCUyMm1hemluYW5pYW4lMjIlMkMlMEElMjAlMjAlMjAlMjBhdXRob3JzJTNEJTIyRC4lMjBNYXppbmFuaWFuJTIwYW5kJTIwTS4lMjBEb3Jvb2RjaGklMjBhbmQlMjBNLiUyMEhhc3NhbnklMjIlMkMlMEElMjAlMjAlMjAlMjBwbGFjZSUzREZBS0UlMkMlMEElMjAlMjAlMjAlMjBwcCUzRCUyMjEtOCUyMiUyQyUwQSUyMCUyMCUyMCUyMGVudHJ5dHlwZSUzRCUyMmlucHJvY2VlZGluZ3MlMjIlMkMlMEElMjAlMjAlMjAlMjB2b2x1bWUlM0QlMjIlMjIlMkMlMEElMjAlMjAlMjAlMjBudW1iZXIlM0QlMjIlMjIlMkMlMEElMjAlMjAlMjAlMjBrZXl3b3JkJTNEJTIySW50ZXJuZXQlM0JleHBlcnQlMjBzeXN0ZW1zJTNCc29mdHdhcmUlMjBlbmdpbmVlcmluZyUzQnNvZnR3YXJlJTIwbWV0cmljcyUzQnN0YXRpc3RpY2FsJTIwYW5hbHlzaXMlM0JXRE1FUyUzQldlYiUyMGFwcGxpY2F0aW9uJTIwZGV2ZWxvcG1lbnQlM0JXZWIlMjBkZXZlbG9wZXJzJTNCV2ViJTIwZGV2ZWxvcG1lbnQlMjBtZWFzdXJlbWVudCUyMGV4cGVydCUyMHN5c3RlbSUzQldlYiUyMGluZm9ybWF0aW9uJTIwc3lzdGVtJTNCY29tcHJlaGVuc2l2ZSUyMG1lYXN1cmVtZW50JTIwc3lzdGVtJTNCc29mdHdhcmUlMjBlbmdpbmVlcmluZyUzQnNvZnR3YXJlJTIwbWV0cmljJTIwc2VsZWN0aW9uJTNCc3RhdGlzdGljYWwlMjBoeXBvdGhlc2lzJTIwdGVzdGluZyUzQnRpbWUtY29uc3VtaW5nJTIwdGFzayUzQndlbGwtZ3JvdW5kZWQlMjBtb2RlbCUzQkNvbXBsZXhpdHklMjB0aGVvcnklM0JJbmZvcm1hdGlvbiUyMHN5c3RlbXMlM0JPYmplY3QlMjBvcmllbnRlZCUyMG1vZGVsaW5nJTNCU29mdHdhcmUlM0JTb2Z0d2FyZSUyMG1lYXN1cmVtZW50JTNCVW5pZmllZCUyMG1vZGVsaW5nJTIwbGFuZ3VhZ2UlM0JNZXRyaWNzJTNCU29mdHdhcmUlMjBNZWFzdXJlbWVudCUzQldlYiUyMEluZm9ybWF0aW9uJTIwU3lzdGVtcyUyMiUyQyUwQSUyMCUyMCUyMCUyMGRvaSUzRCUyMjEwLjExNDUvMjI2MTYwNS4yMjYxNjI1JTIyJTJDJTBBJTIwJTIwJTIwJTIwaXNzbiUzRCUyMiUyMiUyQyUwQSUyMCUyMCUyMCUyMElEJTNEJTIyNjIxODA2MCUyMiUyQyUwQSUyMCUyMCUyMCUyMGllZWUyMDE1JTNEJTIyMSUyMiUyQyUwQSUyMCUyMCUyMCUyMHBsYWNleCUzRCUyMjIwMTIlMjA2dGglMjBFdXJvJTIwQW1lcmljYW4lMjBDb25mZXJlbmNlJTIwb24lMjBUZWxlbWF0aWNzJTIwYW5kJTIwSW5mb3JtYXRpb24lMjBTeXN0ZW1zJTIwJTI4RUFUSVMlMjklMjIlMkMlMEElMjklMjklMEElMjclMjclMjclMjklM0I=\")));\n",
       "    "
      ],
      "text/plain": [
       "<IPython.core.display.Javascript object>"
      ]
     },
     "metadata": {},
     "output_type": "display_data"
    },
    {
     "data": {
      "application/javascript": [
       "$('span:contains(\"# Temp\")').closest('.cell').remove();"
      ],
      "text/plain": [
       "<IPython.core.display.Javascript object>"
      ]
     },
     "metadata": {},
     "output_type": "display_data"
    },
    {
     "data": {
      "application/javascript": [
       "\n",
       "        $('span:contains(\"# Temp\")').closest('.cell').remove();\n",
       "        var code = IPython.notebook.insert_cell_below('code');\n",
       "        code.set_text(decodeURIComponent(window.atob(\"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\")));\n",
       "    "
      ],
      "text/plain": [
       "<IPython.core.display.Javascript object>"
      ]
     },
     "metadata": {},
     "output_type": "display_data"
    },
    {
     "data": {
      "application/javascript": [
       "$('span:contains(\"# Temp\")').closest('.cell').remove();"
      ],
      "text/plain": [
       "<IPython.core.display.Javascript object>"
      ]
     },
     "metadata": {},
     "output_type": "display_data"
    },
    {
     "data": {
      "application/javascript": [
       "\n",
       "        $('span:contains(\"# Temp\")').closest('.cell').remove();\n",
       "        var code = IPython.notebook.insert_cell_below('code');\n",
       "        code.set_text(decodeURIComponent(window.atob(\"JTIzJTIwVGVtcCUwQWluc2VydCUyOCUyNyUyNyUyNyUwQWR1a2EyMDEwYSUyMCUzRCUyMERCJTI4V29ya1VucmVsYXRlZCUyOCUwQSUyMCUyMCUyMCUyMDIwMTAlMkMlMjAlMjJGYXVsdCUyMFNsaXAlMjBUaHJvdWdoJTIwbWVhc3VyZW1lbnQlMjBpbiUyMHNvZnR3YXJlJTIwZGV2ZWxvcG1lbnQlMjBwcm9jZXNzJTIyJTJDJTBBJTIwJTIwJTIwJTIwZGlzcGxheSUzRCUyMmR1a2ElMjIlMkMlMEElMjAlMjAlMjAlMjBhdXRob3JzJTNEJTIyRC4lMjBEdWthJTIwYW5kJTIwTC4lMjBIcmliYXIlMjIlMkMlMEElMjAlMjAlMjAlMjBwbGFjZSUzREZBS0UlMkMlMEElMjAlMjAlMjAlMjBwcCUzRCUyMjE3Ny0xODIlMjIlMkMlMEElMjAlMjAlMjAlMjBlbnRyeXR5cGUlM0QlMjJpbnByb2NlZWRpbmdzJTIyJTJDJTBBJTIwJTIwJTIwJTIwdm9sdW1lJTNEJTIyJTIyJTJDJTBBJTIwJTIwJTIwJTIwbnVtYmVyJTNEJTIyJTIyJTJDJTBBJTIwJTIwJTIwJTIwa2V5d29yZCUzRCUyMnNvZnR3YXJlJTIwZGV2ZWxvcG1lbnQlMjBtYW5hZ2VtZW50JTNCc29mdHdhcmUlMjBmYXVsdCUyMHRvbGVyYW5jZSUzQnNvZnR3YXJlJTIwbWV0cmljcyUzQmZhdWx0JTIwc2xpcCUyMHRocm91Z2glMjBtZWFzdXJlbWVudCUzQm1hcmtldC1kcml2ZW4lMjBkZXZlbG9wbWVudCUzQnNvZnR3YXJlJTIwZGV2ZWxvcG1lbnQlMjBwcm9jZXNzJTNCQ3VycmVudCUyMG1lYXN1cmVtZW50JTNCRmF1bHQlMjBkaWFnbm9zaXMlM0JPcmdhbml6YXRpb25zJTNCUGhhc2UlMjBtZWFzdXJlbWVudCUzQlByb2dyYW1taW5nJTNCU29mdHdhcmUlM0JUZXN0aW5nJTNCZWFybHklMjBmYXVsdCUyMGRldGVjdGlvbiUzQmZhdWx0JTIwbGF0ZW5jeSUzQmZhdWx0JTIwbWV0cmljJTNCZmF1bHRzLXNsaXAtdGhyb3VnaCUyMiUyQyUwQSUyMCUyMCUyMCUyMGRvaSUzRCUyMiUyMiUyQyUwQSUyMCUyMCUyMCUyMGlzc24lM0QlMjIxMzM0LTI2MzAlMjIlMkMlMEElMjAlMjAlMjAlMjBJRCUzRCUyMjU2MDYxMTAlMjIlMkMlMEElMjAlMjAlMjAlMjBpZWVlMjAxNSUzRCUyMjElMjIlMkMlMEElMjAlMjAlMjAlMjBwbGFjZXglM0QlMjJQcm9jZWVkaW5ncyUyMEVMTUFSLTIwMTAlMjIlMkMlMEElMjklMjklMEElMjclMjclMjclMjklM0I=\")));\n",
       "    "
      ],
      "text/plain": [
       "<IPython.core.display.Javascript object>"
      ]
     },
     "metadata": {},
     "output_type": "display_data"
    },
    {
     "data": {
      "application/javascript": [
       "$('span:contains(\"# Temp\")').closest('.cell').remove();"
      ],
      "text/plain": [
       "<IPython.core.display.Javascript object>"
      ]
     },
     "metadata": {},
     "output_type": "display_data"
    },
    {
     "data": {
      "application/javascript": [
       "\n",
       "        $('span:contains(\"# Temp\")').closest('.cell').remove();\n",
       "        var code = IPython.notebook.insert_cell_below('code');\n",
       "        code.set_text(decodeURIComponent(window.atob(\"JTIzJTIwVGVtcCUwQWluc2VydCUyOCUyNyUyNyUyNyUwQWR1a2EyMDEwYSUyMCUzRCUyMERCJTI4V29ya1VucmVsYXRlZCUyOCUwQSUyMCUyMCUyMCUyMDIwMTAlMkMlMjAlMjJGYXVsdCUyMFNsaXAlMjBUaHJvdWdoJTIwbWVhc3VyZW1lbnQlMjBpbiUyMHNvZnR3YXJlJTIwZGV2ZWxvcG1lbnQlMjBwcm9jZXNzJTIyJTJDJTBBJTIwJTIwJTIwJTIwZGlzcGxheSUzRCUyMmR1a2ElMjIlMkMlMEElMjAlMjAlMjAlMjBhdXRob3JzJTNEJTIyRC4lMjBEdWthJTIwYW5kJTIwTC4lMjBIcmliYXIlMjIlMkMlMEElMjAlMjAlMjAlMjBwbGFjZSUzREZBS0UlMkMlMEElMjAlMjAlMjAlMjBwcCUzRCUyMjE3Ny0xODIlMjIlMkMlMEElMjAlMjAlMjAlMjBlbnRyeXR5cGUlM0QlMjJpbnByb2NlZWRpbmdzJTIyJTJDJTBBJTIwJTIwJTIwJTIwdm9sdW1lJTNEJTIyJTIyJTJDJTBBJTIwJTIwJTIwJTIwbnVtYmVyJTNEJTIyJTIyJTJDJTBBJTIwJTIwJTIwJTIwa2V5d29yZCUzRCUyMnNvZnR3YXJlJTIwZGV2ZWxvcG1lbnQlMjBtYW5hZ2VtZW50JTNCc29mdHdhcmUlMjBmYXVsdCUyMHRvbGVyYW5jZSUzQnNvZnR3YXJlJTIwbWV0cmljcyUzQmZhdWx0JTIwc2xpcCUyMHRocm91Z2glMjBtZWFzdXJlbWVudCUzQm1hcmtldC1kcml2ZW4lMjBkZXZlbG9wbWVudCUzQnNvZnR3YXJlJTIwZGV2ZWxvcG1lbnQlMjBwcm9jZXNzJTNCQ3VycmVudCUyMG1lYXN1cmVtZW50JTNCRmF1bHQlMjBkaWFnbm9zaXMlM0JPcmdhbml6YXRpb25zJTNCUGhhc2UlMjBtZWFzdXJlbWVudCUzQlByb2dyYW1taW5nJTNCU29mdHdhcmUlM0JUZXN0aW5nJTNCZWFybHklMjBmYXVsdCUyMGRldGVjdGlvbiUzQmZhdWx0JTIwbGF0ZW5jeSUzQmZhdWx0JTIwbWV0cmljJTNCZmF1bHRzLXNsaXAtdGhyb3VnaCUyMiUyQyUwQSUyMCUyMCUyMCUyMGRvaSUzRCUyMiUyMiUyQyUwQSUyMCUyMCUyMCUyMGlzc24lM0QlMjIxMzM0LTI2MzAlMjIlMkMlMEElMjAlMjAlMjAlMjBJRCUzRCUyMjU2MDYxMTAlMjIlMkMlMEElMjAlMjAlMjAlMjBpZWVlMjAxNSUzRCUyMjElMjIlMkMlMEElMjAlMjAlMjAlMjBwbGFjZXglM0QlMjJQcm9jZWVkaW5ncyUyMEVMTUFSLTIwMTAlMjIlMkMlMEElMjklMjklMEElMjclMjclMjclMjklM0I=\")));\n",
       "    "
      ],
      "text/plain": [
       "<IPython.core.display.Javascript object>"
      ]
     },
     "metadata": {},
     "output_type": "display_data"
    },
    {
     "data": {
      "application/javascript": [
       "$('span:contains(\"# Temp\")').closest('.cell').remove();"
      ],
      "text/plain": [
       "<IPython.core.display.Javascript object>"
      ]
     },
     "metadata": {},
     "output_type": "display_data"
    },
    {
     "data": {
      "application/javascript": [
       "\n",
       "        $('span:contains(\"# Temp\")').closest('.cell').remove();\n",
       "        var code = IPython.notebook.insert_cell_below('code');\n",
       "        code.set_text(decodeURIComponent(window.atob(\"JTIzJTIwVGVtcCUwQWluc2VydCUyOCUyNyUyNyUyNyUwQWhvbmd5aW5nMjAxMWElMjAlM0QlMjBEQiUyOFdvcmtVbnJlbGF0ZWQlMjglMEElMjAlMjAlMjAlMjAyMDExJTJDJTIwJTIyQSUyMGN1c3RvbWl6YWJsZSUyMGFnaWxlJTIwc29mdHdhcmUlMjBRdWFsaXR5JTIwQXNzdXJhbmNlJTIwbW9kZWwlMjIlMkMlMEElMjAlMjAlMjAlMjBkaXNwbGF5JTNEJTIyaG9uZ3lpbmclMjIlMkMlMEElMjAlMjAlMjAlMjBhdXRob3JzJTNEJTIyRy4lMjBIb25neWluZyUyMGFuZCUyMFkuJTIwQ2hlbmclMjIlMkMlMEElMjAlMjAlMjAlMjBwbGFjZSUzREZBS0UlMkMlMEElMjAlMjAlMjAlMjBwcCUzRCUyMjM4Mi0zODclMjIlMkMlMEElMjAlMjAlMjAlMjBlbnRyeXR5cGUlM0QlMjJpbnByb2NlZWRpbmdzJTIyJTJDJTBBJTIwJTIwJTIwJTIwdm9sdW1lJTNEJTIyMiUyMiUyQyUwQSUyMCUyMCUyMCUyMG51bWJlciUzRCUyMiUyMiUyQyUwQSUyMCUyMCUyMCUyMGtleXdvcmQlM0QlMjJxdWFsaXR5JTIwYXNzdXJhbmNlJTNCc29mdHdhcmUlMjBwcm90b3R5cGluZyUzQnNvZnR3YXJlJTIwcXVhbGl0eSUzQkFRQU0lM0JRQSUyMGNhcGFiaWxpdHklM0JhZ2lsZSUyMHNvZnR3YXJlJTIwZGV2ZWxvcG1lbnQlMjB0ZWFtcyUzQmN1c3RvbWl6YWJsZSUyMGFnaWxlJTIwc29mdHdhcmUlMjBxdWFsaXR5JTIwYXNzdXJhbmNlJTIwbW9kZWwlM0Jzb2Z0d2FyZSUyMGRldmVsb3BtZW50JTIwcHJvY2VzcyUzQnNvZnR3YXJlJTIwaW5kdXN0cnklM0JCZXN0JTIwcHJhY3RpY2VzJTNCQ2FwYWJpbGl0eSUyMG1hdHVyaXR5JTIwbW9kZWwlM0JHdWlkZWxpbmVzJTNCT3JnYW5pemF0aW9ucyUzQlByb2dyYW1taW5nJTNCVGVzdGluZyUzQktleSUyMFByb2Nlc3MlMjBBcmVhJTNCUHJvY2VzcyUyME1vZGVsJTNCUXVhbGl0eSUyMEFzc3VyYW5jZSUyMiUyQyUwQSUyMCUyMCUyMCUyMGRvaSUzRCUyMiUyMiUyQyUwQSUyMCUyMCUyMCUyMGlzc24lM0QlMjIlMjIlMkMlMEElMjAlMjAlMjAlMjBJRCUzRCUyMjYwOTM0NTklMjIlMkMlMEElMjAlMjAlMjAlMjBpZWVlMjAxNSUzRCUyMjElMjIlMkMlMEElMjAlMjAlMjAlMjBwbGFjZXglM0QlMjJUaGUlMjA1dGglMjBJbnRlcm5hdGlvbmFsJTIwQ29uZmVyZW5jZSUyMG9uJTIwTmV3JTIwVHJlbmRzJTIwaW4lMjBJbmZvcm1hdGlvbiUyMFNjaWVuY2UlMjBhbmQlMjBTZXJ2aWNlJTIwU2NpZW5jZSUyMiUyQyUwQSUyOSUyOSUwQSUyNyUyNyUyNyUyOSUzQg==\")));\n",
       "    "
      ],
      "text/plain": [
       "<IPython.core.display.Javascript object>"
      ]
     },
     "metadata": {},
     "output_type": "display_data"
    },
    {
     "data": {
      "application/javascript": [
       "$('span:contains(\"# Temp\")').closest('.cell').remove();"
      ],
      "text/plain": [
       "<IPython.core.display.Javascript object>"
      ]
     },
     "metadata": {},
     "output_type": "display_data"
    },
    {
     "data": {
      "application/javascript": [
       "\n",
       "        $('span:contains(\"# Temp\")').closest('.cell').remove();\n",
       "        var code = IPython.notebook.insert_cell_below('code');\n",
       "        code.set_text(decodeURIComponent(window.atob(\"JTIzJTIwVGVtcCUwQWluc2VydCUyOCUyNyUyNyUyNyUwQWhvbmd5aW5nMjAxMWElMjAlM0QlMjBEQiUyOFdvcmtVbnJlbGF0ZWQlMjglMEElMjAlMjAlMjAlMjAyMDExJTJDJTIwJTIyQSUyMGN1c3RvbWl6YWJsZSUyMGFnaWxlJTIwc29mdHdhcmUlMjBRdWFsaXR5JTIwQXNzdXJhbmNlJTIwbW9kZWwlMjIlMkMlMEElMjAlMjAlMjAlMjBkaXNwbGF5JTNEJTIyaG9uZ3lpbmclMjIlMkMlMEElMjAlMjAlMjAlMjBhdXRob3JzJTNEJTIyRy4lMjBIb25neWluZyUyMGFuZCUyMFkuJTIwQ2hlbmclMjIlMkMlMEElMjAlMjAlMjAlMjBwbGFjZSUzREZBS0UlMkMlMEElMjAlMjAlMjAlMjBwcCUzRCUyMjM4Mi0zODclMjIlMkMlMEElMjAlMjAlMjAlMjBlbnRyeXR5cGUlM0QlMjJpbnByb2NlZWRpbmdzJTIyJTJDJTBBJTIwJTIwJTIwJTIwdm9sdW1lJTNEJTIyMiUyMiUyQyUwQSUyMCUyMCUyMCUyMG51bWJlciUzRCUyMiUyMiUyQyUwQSUyMCUyMCUyMCUyMGtleXdvcmQlM0QlMjJxdWFsaXR5JTIwYXNzdXJhbmNlJTNCc29mdHdhcmUlMjBwcm90b3R5cGluZyUzQnNvZnR3YXJlJTIwcXVhbGl0eSUzQkFRQU0lM0JRQSUyMGNhcGFiaWxpdHklM0JhZ2lsZSUyMHNvZnR3YXJlJTIwZGV2ZWxvcG1lbnQlMjB0ZWFtcyUzQmN1c3RvbWl6YWJsZSUyMGFnaWxlJTIwc29mdHdhcmUlMjBxdWFsaXR5JTIwYXNzdXJhbmNlJTIwbW9kZWwlM0Jzb2Z0d2FyZSUyMGRldmVsb3BtZW50JTIwcHJvY2VzcyUzQnNvZnR3YXJlJTIwaW5kdXN0cnklM0JCZXN0JTIwcHJhY3RpY2VzJTNCQ2FwYWJpbGl0eSUyMG1hdHVyaXR5JTIwbW9kZWwlM0JHdWlkZWxpbmVzJTNCT3JnYW5pemF0aW9ucyUzQlByb2dyYW1taW5nJTNCVGVzdGluZyUzQktleSUyMFByb2Nlc3MlMjBBcmVhJTNCUHJvY2VzcyUyME1vZGVsJTNCUXVhbGl0eSUyMEFzc3VyYW5jZSUyMiUyQyUwQSUyMCUyMCUyMCUyMGRvaSUzRCUyMiUyMiUyQyUwQSUyMCUyMCUyMCUyMGlzc24lM0QlMjIlMjIlMkMlMEElMjAlMjAlMjAlMjBJRCUzRCUyMjYwOTM0NTklMjIlMkMlMEElMjAlMjAlMjAlMjBpZWVlMjAxNSUzRCUyMjElMjIlMkMlMEElMjAlMjAlMjAlMjBwbGFjZXglM0QlMjJUaGUlMjA1dGglMjBJbnRlcm5hdGlvbmFsJTIwQ29uZmVyZW5jZSUyMG9uJTIwTmV3JTIwVHJlbmRzJTIwaW4lMjBJbmZvcm1hdGlvbiUyMFNjaWVuY2UlMjBhbmQlMjBTZXJ2aWNlJTIwU2NpZW5jZSUyMiUyQyUwQSUyOSUyOSUwQSUyNyUyNyUyNyUyOSUzQg==\")));\n",
       "    "
      ],
      "text/plain": [
       "<IPython.core.display.Javascript object>"
      ]
     },
     "metadata": {},
     "output_type": "display_data"
    },
    {
     "data": {
      "application/javascript": [
       "$('span:contains(\"# Temp\")').closest('.cell').remove();"
      ],
      "text/plain": [
       "<IPython.core.display.Javascript object>"
      ]
     },
     "metadata": {},
     "output_type": "display_data"
    },
    {
     "data": {
      "application/javascript": [
       "\n",
       "        $('span:contains(\"# Temp\")').closest('.cell').remove();\n",
       "        var code = IPython.notebook.insert_cell_below('code');\n",
       "        code.set_text(decodeURIComponent(window.atob(\"JTIzJTIwVGVtcCUwQWluc2VydCUyOCUyNyUyNyUyNyUwQWNoYXN0ZWsyMDExYSUyMCUzRCUyMERCJTI4V29ya1VucmVsYXRlZCUyOCUwQSUyMCUyMCUyMCUyMDIwMTElMkMlMjAlMjJFbmdpbmVlcmluZyUyMGElMjBQcm9kdWN0aW9uJTIwTWV0aG9kJTIwZm9yJTIwYSUyMFNvZnR3YXJlJTIwUHJvZHVjdCUyMExpbmUlMjIlMkMlMEElMjAlMjAlMjAlMjBkaXNwbGF5JTNEJTIyY2hhc3RlayUyMiUyQyUwQSUyMCUyMCUyMCUyMGF1dGhvcnMlM0QlMjJHLiUyMENoYXN0ZWslMjBhbmQlMjBQLiUyMERvbm9ob2UlMjBhbmQlMjBKLiUyMEQuJTIwTWNHcmVnb3IlMjBhbmQlMjBELiUyME11dGhpZyUyMiUyQyUwQSUyMCUyMCUyMCUyMHBsYWNlJTNERkFLRSUyQyUwQSUyMCUyMCUyMCUyMHBwJTNEJTIyMjc3LTI4NiUyMiUyQyUwQSUyMCUyMCUyMCUyMGVudHJ5dHlwZSUzRCUyMmlucHJvY2VlZGluZ3MlMjIlMkMlMEElMjAlMjAlMjAlMjB2b2x1bWUlM0QlMjIlMjIlMkMlMEElMjAlMjAlMjAlMjBudW1iZXIlM0QlMjIlMjIlMkMlMEElMjAlMjAlMjAlMjBrZXl3b3JkJTNEJTIycHJvZHVjdCUyMGRldmVsb3BtZW50JTNCc29mdHdhcmUlMjBkZXZlbG9wbWVudCUyMG1hbmFnZW1lbnQlM0Jzb2Z0d2FyZSUyMHByb2Nlc3MlMjBpbXByb3ZlbWVudCUzQmNvcmUlMjBhc3NldCUyMGRldmVsb3BtZW50JTNCbWV0aG9kJTIwZW5naW5lZXJpbmclM0Jwcm9kdWN0JTIwZGV2ZWxvcG1lbnQlM0Jwcm9kdWN0aW9uJTIwbWV0aG9kJTNCc29mdHdhcmUlMjBwcm9kdWN0JTIwbGluZSUzQkF0bW9zcGhlcmljJTIwbW9kZWxpbmclM0JDb21wdXRlciUyMGFyY2hpdGVjdHVyZSUzQk9yZ2FuaXphdGlvbnMlM0JQcm9kdWN0JTIwZGV2ZWxvcG1lbnQlM0JQcm9kdWN0aW9uJTNCU29mdHdhcmUlM0JVbmlmaWVkJTIwbW9kZWxpbmclMjBsYW5ndWFnZSUzQm1ldGhvZCUyMGVuZ2luZWVyaW5nJTNCc29mdHdhcmUlMjBwcm9kdWN0JTIwbGluZSUyMiUyQyUwQSUyMCUyMCUyMCUyMGRvaSUzRCUyMjEwLjExMDkvU1BMQy4yMDExLjQ2JTIyJTJDJTBBJTIwJTIwJTIwJTIwaXNzbiUzRCUyMiUyMiUyQyUwQSUyMCUyMCUyMCUyMElEJTNEJTIyNjAzMDA3MCUyMiUyQyUwQSUyMCUyMCUyMCUyMGllZWUyMDE1JTNEJTIyMSUyMiUyQyUwQSUyMCUyMCUyMCUyMHBsYWNleCUzRCUyMjIwMTElMjAxNXRoJTIwSW50ZXJuYXRpb25hbCUyMFNvZnR3YXJlJTIwUHJvZHVjdCUyMExpbmUlMjBDb25mZXJlbmNlJTIyJTJDJTBBJTI5JTI5JTBBJTI3JTI3JTI3JTI5JTNC\")));\n",
       "    "
      ],
      "text/plain": [
       "<IPython.core.display.Javascript object>"
      ]
     },
     "metadata": {},
     "output_type": "display_data"
    },
    {
     "data": {
      "application/javascript": [
       "$('span:contains(\"# Temp\")').closest('.cell').remove();"
      ],
      "text/plain": [
       "<IPython.core.display.Javascript object>"
      ]
     },
     "metadata": {},
     "output_type": "display_data"
    },
    {
     "data": {
      "application/javascript": [
       "\n",
       "        $('span:contains(\"# Temp\")').closest('.cell').remove();\n",
       "        var code = IPython.notebook.insert_cell_below('code');\n",
       "        code.set_text(decodeURIComponent(window.atob(\"JTIzJTIwVGVtcCUwQWluc2VydCUyOCUyNyUyNyUyNyUwQWNoYXN0ZWsyMDExYSUyMCUzRCUyMERCJTI4V29ya1VucmVsYXRlZCUyOCUwQSUyMCUyMCUyMCUyMDIwMTElMkMlMjAlMjJFbmdpbmVlcmluZyUyMGElMjBQcm9kdWN0aW9uJTIwTWV0aG9kJTIwZm9yJTIwYSUyMFNvZnR3YXJlJTIwUHJvZHVjdCUyMExpbmUlMjIlMkMlMEElMjAlMjAlMjAlMjBkaXNwbGF5JTNEJTIyY2hhc3RlayUyMiUyQyUwQSUyMCUyMCUyMCUyMGF1dGhvcnMlM0QlMjJHLiUyMENoYXN0ZWslMjBhbmQlMjBQLiUyMERvbm9ob2UlMjBhbmQlMjBKLiUyMEQuJTIwTWNHcmVnb3IlMjBhbmQlMjBELiUyME11dGhpZyUyMiUyQyUwQSUyMCUyMCUyMCUyMHBsYWNlJTNERkFLRSUyQyUwQSUyMCUyMCUyMCUyMHBwJTNEJTIyMjc3LTI4NiUyMiUyQyUwQSUyMCUyMCUyMCUyMGVudHJ5dHlwZSUzRCUyMmlucHJvY2VlZGluZ3MlMjIlMkMlMEElMjAlMjAlMjAlMjB2b2x1bWUlM0QlMjIlMjIlMkMlMEElMjAlMjAlMjAlMjBudW1iZXIlM0QlMjIlMjIlMkMlMEElMjAlMjAlMjAlMjBrZXl3b3JkJTNEJTIycHJvZHVjdCUyMGRldmVsb3BtZW50JTNCc29mdHdhcmUlMjBkZXZlbG9wbWVudCUyMG1hbmFnZW1lbnQlM0Jzb2Z0d2FyZSUyMHByb2Nlc3MlMjBpbXByb3ZlbWVudCUzQmNvcmUlMjBhc3NldCUyMGRldmVsb3BtZW50JTNCbWV0aG9kJTIwZW5naW5lZXJpbmclM0Jwcm9kdWN0JTIwZGV2ZWxvcG1lbnQlM0Jwcm9kdWN0aW9uJTIwbWV0aG9kJTNCc29mdHdhcmUlMjBwcm9kdWN0JTIwbGluZSUzQkF0bW9zcGhlcmljJTIwbW9kZWxpbmclM0JDb21wdXRlciUyMGFyY2hpdGVjdHVyZSUzQk9yZ2FuaXphdGlvbnMlM0JQcm9kdWN0JTIwZGV2ZWxvcG1lbnQlM0JQcm9kdWN0aW9uJTNCU29mdHdhcmUlM0JVbmlmaWVkJTIwbW9kZWxpbmclMjBsYW5ndWFnZSUzQm1ldGhvZCUyMGVuZ2luZWVyaW5nJTNCc29mdHdhcmUlMjBwcm9kdWN0JTIwbGluZSUyMiUyQyUwQSUyMCUyMCUyMCUyMGRvaSUzRCUyMjEwLjExMDkvU1BMQy4yMDExLjQ2JTIyJTJDJTBBJTIwJTIwJTIwJTIwaXNzbiUzRCUyMiUyMiUyQyUwQSUyMCUyMCUyMCUyMElEJTNEJTIyNjAzMDA3MCUyMiUyQyUwQSUyMCUyMCUyMCUyMGllZWUyMDE1JTNEJTIyMSUyMiUyQyUwQSUyMCUyMCUyMCUyMHBsYWNleCUzRCUyMjIwMTElMjAxNXRoJTIwSW50ZXJuYXRpb25hbCUyMFNvZnR3YXJlJTIwUHJvZHVjdCUyMExpbmUlMjBDb25mZXJlbmNlJTIyJTJDJTBBJTI5JTI5JTBBJTI3JTI3JTI3JTI5JTNC\")));\n",
       "    "
      ],
      "text/plain": [
       "<IPython.core.display.Javascript object>"
      ]
     },
     "metadata": {},
     "output_type": "display_data"
    },
    {
     "data": {
      "application/javascript": [
       "$('span:contains(\"# Temp\")').closest('.cell').remove();"
      ],
      "text/plain": [
       "<IPython.core.display.Javascript object>"
      ]
     },
     "metadata": {},
     "output_type": "display_data"
    },
    {
     "data": {
      "application/javascript": [
       "\n",
       "        $('span:contains(\"# Temp\")').closest('.cell').remove();\n",
       "        var code = IPython.notebook.insert_cell_below('code');\n",
       "        code.set_text(decodeURIComponent(window.atob(\"JTIzJTIwVGVtcCUwQWluc2VydCUyOCUyNyUyNyUyNyUwQXNvZnR3YXJlMjAwMmElMjAlM0QlMjBEQiUyOFdvcmtVbnJlbGF0ZWQlMjglMEElMjAlMjAlMjAlMjAyMDAyJTJDJTIwJTIyQXR0YWluaW5nJTIwTGV2ZWwlMjA1JTIwaW4lMjBDTU0lMjBwcm9jZXNzJTIwbWF0dXJpdHklMjIlMkMlMEElMjAlMjAlMjAlMjBkaXNwbGF5JTNEJTIyc29mdHdhcmUlMjIlMkMlMEElMjAlMjAlMjAlMjBhdXRob3JzJTNEJTIySUVFRSUyMFNvZnR3YXJlJTIyJTJDJTBBJTIwJTIwJTIwJTIwcGxhY2UlM0RJRUVFUyUyQyUwQSUyMCUyMCUyMCUyMHBwJTNEJTIyODctOTYlMjIlMkMlMEElMjAlMjAlMjAlMjBlbnRyeXR5cGUlM0QlMjJhcnRpY2xlJTIyJTJDJTBBJTIwJTIwJTIwJTIwdm9sdW1lJTNEJTIyMTklMjIlMkMlMEElMjAlMjAlMjAlMjBudW1iZXIlM0QlMjI2JTIyJTJDJTBBJTIwJTIwJTIwJTIwa2V5d29yZCUzRCUyMnNvZnR3YXJlJTIwZGV2ZWxvcG1lbnQlMjBtYW5hZ2VtZW50JTNCc29mdHdhcmUlMjBwcm9jZXNzJTIwaW1wcm92ZW1lbnQlM0JDYXBhYmlsaXR5JTIwTWF0dXJpdHklMjBNb2RlbCUyMExldmVsJTIwNSUzQmFnZ3Jlc3NpdmUlMjBwcm9jZXNzJTIwaW1wcm92ZW1lbnQlMjBpbml0aWF0aXZlJTNCcHJvY2VzcyUyMGV4cGVyaWVuY2UlMjBkYXRhJTNCc29mdHdhcmUtaW50ZW5zaXZlJTIwb3JnYW5pemF0aW9ucyUzQkNvbXB1dGVyJTIwaW5kdXN0cnklM0JDb29yZGluYXRlJTIwbWVhc3VyaW5nJTIwbWFjaGluZXMlM0JJU08lMjBzdGFuZGFyZHMlM0JQYWNrYWdpbmclM0JQZXJzb25uZWwlM0JSZWZpbmluZyUzQlNlYSUyMG1lYXN1cmVtZW50cyUzQlNvZnR3YXJlJTIwZW5naW5lZXJpbmclM0JTdGFuZGFyZHMlMjBkZXZlbG9wbWVudCUzQlN5c3RlbXMlMjBlbmdpbmVlcmluZyUyMGFuZCUyMHRoZW9yeSUyMiUyQyUwQSUyMCUyMCUyMCUyMGRvaSUzRCUyMjEwLjExMDkvTVMuMjAwMi4xMDQ5Mzk3JTIyJTJDJTBBJTIwJTIwJTIwJTIwaXNzbiUzRCUyMjA3NDAtNzQ1OSUyMiUyQyUwQSUyMCUyMCUyMCUyMElEJTNEJTIyMTA0OTM5NyUyMiUyQyUwQSUyMCUyMCUyMCUyMGllZWUyMDE1JTNEJTIyMSUyMiUyQyUwQSUyMCUyMCUyMCUyMHBsYWNleCUzRCUyMklFRUUlMjBTb2Z0d2FyZSUyMiUyQyUwQSUyOSUyOSUwQSUyNyUyNyUyNyUyOSUzQg==\")));\n",
       "    "
      ],
      "text/plain": [
       "<IPython.core.display.Javascript object>"
      ]
     },
     "metadata": {},
     "output_type": "display_data"
    },
    {
     "data": {
      "application/javascript": [
       "$('span:contains(\"# Temp\")').closest('.cell').remove();"
      ],
      "text/plain": [
       "<IPython.core.display.Javascript object>"
      ]
     },
     "metadata": {},
     "output_type": "display_data"
    },
    {
     "data": {
      "application/javascript": [
       "\n",
       "        $('span:contains(\"# Temp\")').closest('.cell').remove();\n",
       "        var code = IPython.notebook.insert_cell_below('code');\n",
       "        code.set_text(decodeURIComponent(window.atob(\"JTIzJTIwVGVtcCUwQWluc2VydCUyOCUyNyUyNyUyNyUwQXNvZnR3YXJlMjAwMmElMjAlM0QlMjBEQiUyOFdvcmtVbnJlbGF0ZWQlMjglMEElMjAlMjAlMjAlMjAyMDAyJTJDJTIwJTIyQXR0YWluaW5nJTIwTGV2ZWwlMjA1JTIwaW4lMjBDTU0lMjBwcm9jZXNzJTIwbWF0dXJpdHklMjIlMkMlMEElMjAlMjAlMjAlMjBkaXNwbGF5JTNEJTIyc29mdHdhcmUlMjIlMkMlMEElMjAlMjAlMjAlMjBhdXRob3JzJTNEJTIySUVFRSUyMFNvZnR3YXJlJTIyJTJDJTBBJTIwJTIwJTIwJTIwcGxhY2UlM0RJRUVFUyUyQyUwQSUyMCUyMCUyMCUyMHBwJTNEJTIyODctOTYlMjIlMkMlMEElMjAlMjAlMjAlMjBlbnRyeXR5cGUlM0QlMjJhcnRpY2xlJTIyJTJDJTBBJTIwJTIwJTIwJTIwdm9sdW1lJTNEJTIyMTklMjIlMkMlMEElMjAlMjAlMjAlMjBudW1iZXIlM0QlMjI2JTIyJTJDJTBBJTIwJTIwJTIwJTIwa2V5d29yZCUzRCUyMnNvZnR3YXJlJTIwZGV2ZWxvcG1lbnQlMjBtYW5hZ2VtZW50JTNCc29mdHdhcmUlMjBwcm9jZXNzJTIwaW1wcm92ZW1lbnQlM0JDYXBhYmlsaXR5JTIwTWF0dXJpdHklMjBNb2RlbCUyMExldmVsJTIwNSUzQmFnZ3Jlc3NpdmUlMjBwcm9jZXNzJTIwaW1wcm92ZW1lbnQlMjBpbml0aWF0aXZlJTNCcHJvY2VzcyUyMGV4cGVyaWVuY2UlMjBkYXRhJTNCc29mdHdhcmUtaW50ZW5zaXZlJTIwb3JnYW5pemF0aW9ucyUzQkNvbXB1dGVyJTIwaW5kdXN0cnklM0JDb29yZGluYXRlJTIwbWVhc3VyaW5nJTIwbWFjaGluZXMlM0JJU08lMjBzdGFuZGFyZHMlM0JQYWNrYWdpbmclM0JQZXJzb25uZWwlM0JSZWZpbmluZyUzQlNlYSUyMG1lYXN1cmVtZW50cyUzQlNvZnR3YXJlJTIwZW5naW5lZXJpbmclM0JTdGFuZGFyZHMlMjBkZXZlbG9wbWVudCUzQlN5c3RlbXMlMjBlbmdpbmVlcmluZyUyMGFuZCUyMHRoZW9yeSUyMiUyQyUwQSUyMCUyMCUyMCUyMGRvaSUzRCUyMjEwLjExMDkvTVMuMjAwMi4xMDQ5Mzk3JTIyJTJDJTBBJTIwJTIwJTIwJTIwaXNzbiUzRCUyMjA3NDAtNzQ1OSUyMiUyQyUwQSUyMCUyMCUyMCUyMElEJTNEJTIyMTA0OTM5NyUyMiUyQyUwQSUyMCUyMCUyMCUyMGllZWUyMDE1JTNEJTIyMSUyMiUyQyUwQSUyMCUyMCUyMCUyMHBsYWNleCUzRCUyMklFRUUlMjBTb2Z0d2FyZSUyMiUyQyUwQSUyOSUyOSUwQSUyNyUyNyUyNyUyOSUzQg==\")));\n",
       "    "
      ],
      "text/plain": [
       "<IPython.core.display.Javascript object>"
      ]
     },
     "metadata": {},
     "output_type": "display_data"
    },
    {
     "data": {
      "application/javascript": [
       "$('span:contains(\"# Temp\")').closest('.cell').remove();"
      ],
      "text/plain": [
       "<IPython.core.display.Javascript object>"
      ]
     },
     "metadata": {},
     "output_type": "display_data"
    },
    {
     "data": {
      "application/javascript": [
       "\n",
       "        $('span:contains(\"# Temp\")').closest('.cell').remove();\n",
       "        var code = IPython.notebook.insert_cell_below('code');\n",
       "        code.set_text(decodeURIComponent(window.atob(\"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\")));\n",
       "    "
      ],
      "text/plain": [
       "<IPython.core.display.Javascript object>"
      ]
     },
     "metadata": {},
     "output_type": "display_data"
    },
    {
     "data": {
      "application/javascript": [
       "$('span:contains(\"# Temp\")').closest('.cell').remove();"
      ],
      "text/plain": [
       "<IPython.core.display.Javascript object>"
      ]
     },
     "metadata": {},
     "output_type": "display_data"
    },
    {
     "data": {
      "application/javascript": [
       "\n",
       "        $('span:contains(\"# Temp\")').closest('.cell').remove();\n",
       "        var code = IPython.notebook.insert_cell_below('code');\n",
       "        code.set_text(decodeURIComponent(window.atob(\"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\")));\n",
       "    "
      ],
      "text/plain": [
       "<IPython.core.display.Javascript object>"
      ]
     },
     "metadata": {},
     "output_type": "display_data"
    },
    {
     "data": {
      "application/javascript": [
       "$('span:contains(\"# Temp\")').closest('.cell').remove();"
      ],
      "text/plain": [
       "<IPython.core.display.Javascript object>"
      ]
     },
     "metadata": {},
     "output_type": "display_data"
    },
    {
     "data": {
      "application/javascript": [
       "\n",
       "        $('span:contains(\"# Temp\")').closest('.cell').remove();\n",
       "        var code = IPython.notebook.insert_cell_below('code');\n",
       "        code.set_text(decodeURIComponent(window.atob(\"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\")));\n",
       "    "
      ],
      "text/plain": [
       "<IPython.core.display.Javascript object>"
      ]
     },
     "metadata": {},
     "output_type": "display_data"
    },
    {
     "data": {
      "application/javascript": [
       "$('span:contains(\"# Temp\")').closest('.cell').remove();"
      ],
      "text/plain": [
       "<IPython.core.display.Javascript object>"
      ]
     },
     "metadata": {},
     "output_type": "display_data"
    },
    {
     "data": {
      "application/javascript": [
       "\n",
       "        $('span:contains(\"# Temp\")').closest('.cell').remove();\n",
       "        var code = IPython.notebook.insert_cell_below('code');\n",
       "        code.set_text(decodeURIComponent(window.atob(\"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\")));\n",
       "    "
      ],
      "text/plain": [
       "<IPython.core.display.Javascript object>"
      ]
     },
     "metadata": {},
     "output_type": "display_data"
    }
   ],
   "source": [
    "from custom_snowballing import UnrelatedInsert\n",
    "UnrelatedInsert(\"ieee2015\", articles=article_list)"
   ]
  },
  {
   "cell_type": "code",
   "execution_count": 26,
   "metadata": {},
   "outputs": [
    {
     "name": "stdout",
     "output_type": "stream",
     "text": [
      "-Insert: veer2001a\n"
     ]
    }
   ],
   "source": [
    "# Temp\n",
    "insert('''\n",
    "veer2001a = DB(WorkUnrelated(\n",
    "    2001, \"The human-computer interface is the system; a plea for a poor man's HCI component in software engineering curricula\",\n",
    "    display=\"veer\",\n",
    "    authors=\"G. van der Veer and H. van Vliet\",\n",
    "    place=FAKE,\n",
    "    pp=\"276-286\",\n",
    "    entrytype=\"inproceedings\",\n",
    "    volume=\"\",\n",
    "    number=\"\",\n",
    "    keyword=\"computer science education;educational courses;human factors;interactive systems;software engineering;teaching;user interfaces;HCI component;human-computer interaction;human-computer interface;integrated approach;minimal course;software development;software engineering approaches;software engineering curricula;system functionality;user interface design;user interface problems;Application software;Computer science;Engines;Human computer interaction;Interactive systems;Mathematics;Programming;Software engineering;Usability;User interfaces\",\n",
    "    doi=\"10.1109/CSEE.2001.913854\",\n",
    "    issn=\"1093-0175\",\n",
    "    ID=\"913854\",\n",
    "    ieee2015=\"1\",\n",
    "    placex=\"Software Engineering Education and Training, 2001. Proceedings. 14th Conference on\",\n",
    "))\n",
    "''');"
   ]
  },
  {
   "cell_type": "code",
   "execution_count": 111,
   "metadata": {},
   "outputs": [
    {
     "data": {
      "application/vnd.jupyter.widget-view+json": {
       "model_id": "5c5bff0086fc4821975a5b7d51575128",
       "version_major": 2,
       "version_minor": 0
      },
      "text/html": [
       "<p>Failed to display Jupyter Widget of type <code>VBox</code>.</p>\n",
       "<p>\n",
       "  If you're reading this message in Jupyter Notebook or JupyterLab, it may mean\n",
       "  that the widgets JavaScript is still loading. If this message persists, it\n",
       "  likely means that the widgets JavaScript library is either not installed or\n",
       "  not enabled. See the <a href=\"https://ipywidgets.readthedocs.io/en/stable/user_install.html\">Jupyter\n",
       "  Widgets Documentation</a> for setup instructions.\n",
       "</p>\n",
       "<p>\n",
       "  If you're reading this message in another notebook frontend (for example, a static\n",
       "  rendering on GitHub or <a href=\"https://nbviewer.jupyter.org/\">NBViewer</a>),\n",
       "  it may mean that your frontend doesn't currently support widgets.\n",
       "</p>\n"
      ],
      "text/plain": [
       "VBox(children=(HBox(children=(Button(description='Previous Article', disabled=True, icon='caret-left', style=ButtonStyle()), Button(description='Reload Article', icon='refresh', style=ButtonStyle()), Button(description='Next Article', disabled=True, icon='caret-right', style=ButtonStyle()))), HBox(children=(Button(description='Unrelated: Scripts', style=ButtonStyle()), Button(description='Unrelated: Provenance', style=ButtonStyle()), Button(description='Both', style=ButtonStyle()), Button(description='Ok', style=ButtonStyle()))), HBox(children=(Dropdown(description='Type', options=('Work', 'WorkSnowball', 'WorkForward', 'WorkBackward', 'WorkOk', 'WorkUnrelated', 'WorkNoFile', 'WorkLang', 'Site', 'Email'), value='Work'), ToggleButton(value=False, description='File'))), HBox(children=(Text(value='', description='Due'), Text(value='', description='Place'))), HBox(children=(Text(value='', description='Year'), Text(value='', description='Prefix Var'))), HBox(children=(Text(value='', description='PDFPage'), Text(value='', description='Related'))), HBox(children=(Text(value='', description='Display'), Text(value='', description='Summary'))), HBox(children=(Text(value='', description='Star'), Text(value='', description='Link'))), HBox(children=(Button(description='Reload Article', icon='refresh', style=ButtonStyle()), IntSlider(value=0, max=0), Label(value='1/1'))), Output()))"
      ]
     },
     "metadata": {},
     "output_type": "display_data"
    },
    {
     "data": {
      "application/javascript": [
       "$('span:contains(\"# Temp\")').closest('.cell').remove();"
      ],
      "text/plain": [
       "<IPython.core.display.Javascript object>"
      ]
     },
     "metadata": {},
     "output_type": "display_data"
    },
    {
     "data": {
      "application/javascript": [
       "\n",
       "        $('span:contains(\"# Temp\")').closest('.cell').remove();\n",
       "        var code = IPython.notebook.insert_cell_below('code');\n",
       "        code.set_text(atob(\"IyBUZW1wCmluc2VydCgnJycKbWVzc25hcnoxOTk5YSA9IERCKFdvcmtTbm93YmFsbCgKICAgIDE5OTksICJCZXR0ZXIgU29mdHdhcmUgUHJhY3RpY2UgZm9yIEJ1c2luZXNzIEJlbmVmaXQ6IFByaW5jaXBsZXMgYW5kIEV4cGVyaWVuY2VzIiwKICAgIGRpc3BsYXk9Im1lc3NuYXJ6IiwKICAgIGF1dGhvcnM9Ik1lc3NuYXJ6LCBSaWNoYXJkIGFuZCBUdWxseSwgQ29saW4gSiIsCiAgICBwbGFjZT1Cb29rLAogICAgZW50cnl0eXBlPSJib29rIiwKICAgIHB1Ymxpc2hlcj0iSUVFRSBDb21wdXRlciBTb2NpZXR5IFByZXNzIiwKICAgIElEPSJtZXNzbmFyejE5OTliZXR0ZXIiLAopKQonJycpOw==\"));\n",
       "    "
      ],
      "text/plain": [
       "<IPython.core.display.Javascript object>"
      ]
     },
     "metadata": {},
     "output_type": "display_data"
    }
   ],
   "source": [
    "ArticleNavigator(articles=article_list)"
   ]
  }
 ],
 "metadata": {
  "kernelspec": {
   "display_name": "Python 3",
   "language": "python",
   "name": "python3"
  },
  "language_info": {
   "codemirror_mode": {
    "name": "ipython",
    "version": 3
   },
   "file_extension": ".py",
   "mimetype": "text/x-python",
   "name": "python",
   "nbconvert_exporter": "python",
   "pygments_lexer": "ipython3",
   "version": "3.6.0"
  },
  "toc": {
   "nav_menu": {
    "height": "12px",
    "width": "252px"
   },
   "number_sections": true,
   "sideBar": true,
   "skip_h1_title": false,
   "toc_cell": false,
   "toc_position": {},
   "toc_section_display": "block",
   "toc_window_display": false
  }
 },
 "nbformat": 4,
 "nbformat_minor": 2
}
