{
 "cells": [
  {
   "cell_type": "code",
   "execution_count": 45,
   "metadata": {
    "collapsed": true
   },
   "outputs": [],
   "source": [
    "import database\n",
    "from snowballing.operations import load_work, reload, work_by_varname\n",
    "from snowballing.snowballing import Converter\n",
    "from snowballing.snowballing import ArticleNavigator\n",
    "from snowballing.dbmanager import insert, set_attribute"
   ]
  },
  {
   "cell_type": "code",
   "execution_count": 46,
   "metadata": {
    "scrolled": false
   },
   "outputs": [
    {
     "data": {
      "application/vnd.jupyter.widget-view+json": {
       "model_id": "8b174b519fde4a9ba415d099210c984b",
       "version_major": 2,
       "version_minor": 0
      },
      "text/html": [
       "<p>Failed to display Jupyter Widget of type <code>VBox</code>.</p>\n",
       "<p>\n",
       "  If you're reading this message in Jupyter Notebook or JupyterLab, it may mean\n",
       "  that the widgets JavaScript is still loading. If this message persists, it\n",
       "  likely means that the widgets JavaScript library is either not installed or\n",
       "  not enabled. See the <a href=\"https://ipywidgets.readthedocs.io/en/stable/user_install.html\">Jupyter\n",
       "  Widgets Documentation</a> for setup instructions.\n",
       "</p>\n",
       "<p>\n",
       "  If you're reading this message in another notebook frontend (for example, a static\n",
       "  rendering on GitHub or <a href=\"https://nbviewer.jupyter.org/\">NBViewer</a>),\n",
       "  it may mean that your frontend doesn't currently support widgets.\n",
       "</p>\n"
      ],
      "text/plain": [
       "VBox(children=(HBox(children=(Dropdown(options={'BibTeX': 'bibtex', 'Text': 'text', '[N] author name place other year': 'citation', 'Quoted': 'quoted'}, value='bibtex'), Button(description='Set article_list variable', style=ButtonStyle()), Label(value=''))), HBox(children=(Textarea(value='', layout=Layout(height='500px', width='50%')), Textarea(value='', layout=Layout(height='500px', width='50%'))))))"
      ]
     },
     "metadata": {},
     "output_type": "display_data"
    }
   ],
   "source": [
    "Converter(\"bibtex\")"
   ]
  },
  {
   "cell_type": "code",
   "execution_count": 47,
   "metadata": {},
   "outputs": [
    {
     "data": {
      "text/plain": [
       "32"
      ]
     },
     "execution_count": 47,
     "metadata": {},
     "output_type": "execute_result"
    }
   ],
   "source": [
    "len(article_list)"
   ]
  },
  {
   "cell_type": "code",
   "execution_count": 48,
   "metadata": {
    "collapsed": true
   },
   "outputs": [],
   "source": [
    "from snowballing.operations import reload\n",
    "reload()\n"
   ]
  },
  {
   "cell_type": "code",
   "execution_count": null,
   "metadata": {
    "collapsed": true
   },
   "outputs": [],
   "source": []
  },
  {
   "cell_type": "code",
   "execution_count": 49,
   "metadata": {},
   "outputs": [
    {
     "data": {
      "application/vnd.jupyter.widget-view+json": {
       "model_id": "485ec304b1c74426bfa60d50085e71ef",
       "version_major": 2,
       "version_minor": 0
      },
      "text/html": [
       "<p>Failed to display Jupyter Widget of type <code>VBox</code>.</p>\n",
       "<p>\n",
       "  If you're reading this message in Jupyter Notebook or JupyterLab, it may mean\n",
       "  that the widgets JavaScript is still loading. If this message persists, it\n",
       "  likely means that the widgets JavaScript library is either not installed or\n",
       "  not enabled. See the <a href=\"https://ipywidgets.readthedocs.io/en/stable/user_install.html\">Jupyter\n",
       "  Widgets Documentation</a> for setup instructions.\n",
       "</p>\n",
       "<p>\n",
       "  If you're reading this message in another notebook frontend (for example, a static\n",
       "  rendering on GitHub or <a href=\"https://nbviewer.jupyter.org/\">NBViewer</a>),\n",
       "  it may mean that your frontend doesn't currently support widgets.\n",
       "</p>\n"
      ],
      "text/plain": [
       "VBox(children=(HBox(children=(Button(description='Previous Article', disabled=True, icon='caret-left', style=ButtonStyle()), Button(description='Reload Article', icon='refresh', style=ButtonStyle()), Button(description='Next Article', icon='caret-right', style=ButtonStyle()))), HBox(children=(Dropdown(description='Type', index=5, options=('Work', 'WorkSnowball', 'WorkForward', 'WorkBackward', 'WorkOk', 'WorkUnrelated', 'WorkNoFile', 'WorkLang', 'Site', 'Email'), value='WorkUnrelated'), ToggleButton(value=False, description='File'))), HBox(children=(Text(value='', description='Due'), Text(value='', description='Place'))), HBox(children=(Text(value='', description='Year'), Text(value='', description='Prefix Var'))), HBox(children=(Text(value='', description='PDFPage'), Text(value='', description='Related'))), HBox(children=(Text(value='', description='Display'), Text(value='', description='Summary'))), HBox(children=(Text(value='', description='Star'), Text(value='', description='Link'))), HBox(children=(Text(value='1', description='sciencedirect'),)), HBox(children=(Button(description='Reload Article', icon='refresh', style=ButtonStyle()), IntSlider(value=0, max=31), Label(value='1/32'))), Output()))"
      ]
     },
     "metadata": {},
     "output_type": "display_data"
    },
    {
     "data": {
      "application/javascript": [
       "$('span:contains(\"# Temp\")').closest('.cell').remove();"
      ],
      "text/plain": [
       "<IPython.core.display.Javascript object>"
      ]
     },
     "metadata": {},
     "output_type": "display_data"
    },
    {
     "data": {
      "application/javascript": [
       "\n",
       "        $('span:contains(\"# Temp\")').closest('.cell').remove();\n",
       "        var code = IPython.notebook.insert_cell_below('code');\n",
       "        code.set_text(atob(\"IyBUZW1wCmluc2VydCgnJycKamFoYW5naXJpYW4yMDExYSA9IERCKFdvcmtVbnJlbGF0ZWQoCiAgICAyMDExLCAiQSByYXBpZCByZXZpZXcgbWV0aG9kIGZvciBleHRyZW1lbHkgbGFyZ2UgY29ycG9yYSBvZiBsaXRlcmF0dXJlOiBBcHBsaWNhdGlvbnMgdG8gdGhlIGRvbWFpbnMgb2YgbW9kZWxsaW5nLCBzaW11bGF0aW9uLCBhbmQgbWFuYWdlbWVudCIsCiAgICBkaXNwbGF5PSJqYWhhbmdpcmlhbiIsCiAgICBhdXRob3JzPSJNb2hzZW4gSmFoYW5naXJpYW4gYW5kIFRpbGxhbCBFbGRhYmkgYW5kIExhbGl0IEdhcmcgYW5kIEd5dWNoYW4gVC4gSnVuIGFuZCBBaXNoYSBOYXNlZXIgYW5kIEJyaWplc2ggUGF0ZWwgYW5kIExhbXByb3MgU3Rlcmdpb3VsYXMgYW5kIFRlcnJ5IFlvdW5nIiwKICAgIHBsYWNlPUZBS0UsCiAgICBwcD0iMjM0IC0gMjQzIiwKICAgIGVudHJ5dHlwZT0iYXJ0aWNsZSIsCiAgICB2b2x1bWU9IjMxIiwKICAgIG51bWJlcj0iMyIsCiAgICBub3RlPSIiLAogICAgaXNzbj0iMDI2OC00MDEyIiwKICAgIGRvaT0iaHR0cHM6Ly9kb2kub3JnLzEwLjEwMTYvai5pamluZm9tZ3QuMjAxMC4wNy4wMDQiLAogICAgbGluaz0iaHR0cHM6Ly93d3cuc2NpZW5jZWRpcmVjdC5jb20vc2NpZW5jZS9hcnRpY2xlL3BpaS9TMDI2ODQwMTIxMDAwMDk3NiIsCiAgICBrZXl3b3JkPSJWaXN1YWxpc2F0aW9uIiwKICAgIElEPSJKYWhhbmdpcmlhbjIwMTEyMzQiLAogICAgc2NpZW5jZWRpcmVjdD0iMSIsCiAgICBwbGFjZXg9IkludGVybmF0aW9uYWwgSm91cm5hbCBvZiBJbmZvcm1hdGlvbiBNYW5hZ2VtZW50IiwKKSkKJycnKTs=\"));\n",
       "    "
      ],
      "text/plain": [
       "<IPython.core.display.Javascript object>"
      ]
     },
     "metadata": {},
     "output_type": "display_data"
    },
    {
     "data": {
      "application/javascript": [
       "$('span:contains(\"# Temp\")').closest('.cell').remove();"
      ],
      "text/plain": [
       "<IPython.core.display.Javascript object>"
      ]
     },
     "metadata": {},
     "output_type": "display_data"
    },
    {
     "data": {
      "application/javascript": [
       "\n",
       "        $('span:contains(\"# Temp\")').closest('.cell').remove();\n",
       "        var code = IPython.notebook.insert_cell_below('code');\n",
       "        code.set_text(atob(\"IyBUZW1wCmluc2VydCgnJycKaHVzdGFkMjAxNGEgPSBEQihXb3JrVW5yZWxhdGVkKAogICAgMjAxNCwgIlNlcnZpY2Utb3JpZW50ZWQgQXJjaGl0ZWN0dXJlIFByb2plY3RzIGluIFByYWN0aWNlOiBBIFN0dWR5IG9mIGEgU2hhcmVkIERvY3VtZW50IFNlcnZpY2UgSW1wbGVtZW50YXRpb24iLAogICAgZGlzcGxheT0iaHVzdGFkIiwKICAgIGF1dGhvcnM9IkVsaSBIdXN0YWQgYW5kIENocmlzdGVyIGRlIExhbmdlIiwKICAgIHBsYWNlPUZBS0UsCiAgICBwcD0iNjg0IC0gNjkzIiwKICAgIGVudHJ5dHlwZT0iYXJ0aWNsZSIsCiAgICB2b2x1bWU9IjE2IiwKICAgIG51bWJlcj0iIiwKICAgIG5vdGU9Ilx7Q0VOVEVSSVNcfSAyMDE0IC0gQ29uZmVyZW5jZSBvbiBce0VOVEVScHJpc2VcfSBJbmZvcm1hdGlvbiBTeXN0ZW1zIC8gUHJvak1BTiAyMDE0IC0gSW50ZXJuYXRpb25hbCBDb25mZXJlbmNlIG9uIFByb2plY3QgXHtNQU5hZ2VtZW50XH0gLyBce0hDSVNUXH0gMjAxNCAtIEludGVybmF0aW9uYWwgQ29uZmVyZW5jZSBvbiBIZWFsdGggYW5kIFNvY2lhbCBDYXJlIEluZm9ybWF0aW9uIFN5c3RlbXMgYW5kIFRlY2hub2xvZ2llcyIsCiAgICBpc3NuPSIyMjEyLTAxNzMiLAogICAgZG9pPSJodHRwczovL2RvaS5vcmcvMTAuMTAxNi9qLnByb3RjeS4yMDE0LjEwLjAxNyIsCiAgICBsaW5rPSJodHRwczovL3d3dy5zY2llbmNlZGlyZWN0LmNvbS9zY2llbmNlL2FydGljbGUvcGlpL1MyMjEyMDE3MzE0MDAyNDQ4IiwKICAgIGtleXdvcmQ9IlNjcnVtIiwKICAgIElEPSJIdXN0YWQyMDE0Njg0IiwKICAgIHNjaWVuY2VkaXJlY3Q9IjEiLAogICAgcGxhY2V4PSJQcm9jZWRpYSBUZWNobm9sb2d5IiwKKSkKJycnKTs=\"));\n",
       "    "
      ],
      "text/plain": [
       "<IPython.core.display.Javascript object>"
      ]
     },
     "metadata": {},
     "output_type": "display_data"
    },
    {
     "data": {
      "application/javascript": [
       "$('span:contains(\"# Temp\")').closest('.cell').remove();"
      ],
      "text/plain": [
       "<IPython.core.display.Javascript object>"
      ]
     },
     "metadata": {},
     "output_type": "display_data"
    },
    {
     "data": {
      "application/javascript": [
       "\n",
       "        $('span:contains(\"# Temp\")').closest('.cell').remove();\n",
       "        var code = IPython.notebook.insert_cell_below('code');\n",
       "        code.set_text(atob(\"IyBUZW1wCmluc2VydCgnJycKaHVzdGFkMjAxNGEgPSBEQihXb3JrVW5yZWxhdGVkKAogICAgMjAxNCwgIlNlcnZpY2Utb3JpZW50ZWQgQXJjaGl0ZWN0dXJlIFByb2plY3RzIGluIFByYWN0aWNlOiBBIFN0dWR5IG9mIGEgU2hhcmVkIERvY3VtZW50IFNlcnZpY2UgSW1wbGVtZW50YXRpb24iLAogICAgZGlzcGxheT0iaHVzdGFkIiwKICAgIGF1dGhvcnM9IkVsaSBIdXN0YWQgYW5kIENocmlzdGVyIGRlIExhbmdlIiwKICAgIHBsYWNlPUZBS0UsCiAgICBwcD0iNjg0IC0gNjkzIiwKICAgIGVudHJ5dHlwZT0iYXJ0aWNsZSIsCiAgICB2b2x1bWU9IjE2IiwKICAgIG51bWJlcj0iIiwKICAgIG5vdGU9Ilx7Q0VOVEVSSVNcfSAyMDE0IC0gQ29uZmVyZW5jZSBvbiBce0VOVEVScHJpc2VcfSBJbmZvcm1hdGlvbiBTeXN0ZW1zIC8gUHJvak1BTiAyMDE0IC0gSW50ZXJuYXRpb25hbCBDb25mZXJlbmNlIG9uIFByb2plY3QgXHtNQU5hZ2VtZW50XH0gLyBce0hDSVNUXH0gMjAxNCAtIEludGVybmF0aW9uYWwgQ29uZmVyZW5jZSBvbiBIZWFsdGggYW5kIFNvY2lhbCBDYXJlIEluZm9ybWF0aW9uIFN5c3RlbXMgYW5kIFRlY2hub2xvZ2llcyIsCiAgICBpc3NuPSIyMjEyLTAxNzMiLAogICAgZG9pPSJodHRwczovL2RvaS5vcmcvMTAuMTAxNi9qLnByb3RjeS4yMDE0LjEwLjAxNyIsCiAgICBsaW5rPSJodHRwczovL3d3dy5zY2llbmNlZGlyZWN0LmNvbS9zY2llbmNlL2FydGljbGUvcGlpL1MyMjEyMDE3MzE0MDAyNDQ4IiwKICAgIGtleXdvcmQ9IlNjcnVtIiwKICAgIElEPSJIdXN0YWQyMDE0Njg0IiwKICAgIHNjaWVuY2VkaXJlY3Q9IjEiLAogICAgcGxhY2V4PSJQcm9jZWRpYSBUZWNobm9sb2d5IiwKKSkKJycnKTs=\"));\n",
       "    "
      ],
      "text/plain": [
       "<IPython.core.display.Javascript object>"
      ]
     },
     "metadata": {},
     "output_type": "display_data"
    },
    {
     "data": {
      "application/javascript": [
       "$('span:contains(\"# Temp\")').closest('.cell').remove();"
      ],
      "text/plain": [
       "<IPython.core.display.Javascript object>"
      ]
     },
     "metadata": {},
     "output_type": "display_data"
    },
    {
     "data": {
      "application/javascript": [
       "\n",
       "        $('span:contains(\"# Temp\")').closest('.cell').remove();\n",
       "        var code = IPython.notebook.insert_cell_below('code');\n",
       "        code.set_text(atob(\"IyBUZW1wCmluc2VydCgnJycKaGFja2JhcnRoMjAxNWEgPSBEQihXb3JrVW5yZWxhdGVkKAogICAgMjAxNSwgIkNoYXB0ZXIgMTUgLSBBc3Nlc3NpbmcgdGhlIFN0YXRlIG9mIFNvZnR3YXJlIGluIGEgTGFyZ2UgRW50ZXJwcmlzZTogQSAxMi1ZZWFyIFJldHJvc3BlY3RpdmUiLAogICAgZGlzcGxheT0iaGFja2JhcnRoIiwKICAgIGF1dGhvcnM9IlJhbmR5IEhhY2tiYXJ0aCBhbmQgQXVkcmlzIE1vY2t1cyBhbmQgSm9obiBQYWxmcmFtYW4gYW5kIERhdmlkIFdlaXNzIiwKICAgIHBsYWNlPUZBS0UsCiAgICBwcD0iNDExIC0gNDUxIiwKICAgIGVudHJ5dHlwZT0iaW5jb2xsZWN0aW9uIiwKICAgIGVkaXRvcj0iQmlyZCwgQ2hyaXN0aWFuIGFuZCBNZW56aWVzLCBUaW0gIGFuZCBaaW1tZXJtYW5uLCBUaG9tYXMiLAogICAgcHVibGlzaGVyPSJNb3JnYW4gS2F1Zm1hbm4iLAogICAgZWRpdGlvbj0iIiwKICAgIGFkZHJlc3M9IkJvc3RvbiIsCiAgICBpc2JuPSI5NzgtMC0xMi00MTE1MTktNCIsCiAgICBkb2k9Imh0dHBzOi8vZG9pLm9yZy8xMC4xMDE2L0I5NzgtMC0xMi00MTE1MTktNC4wMDAxNS1YIiwKICAgIGxpbms9Imh0dHBzOi8vd3d3LnNjaWVuY2VkaXJlY3QuY29tL3NjaWVuY2UvYXJ0aWNsZS9waWkvQjk3ODAxMjQxMTUxOTQwMDAxNVgiLAogICAga2V5d29yZD0iU29mdHdhcmUgcXVhbGl0eSIsCiAgICBJRD0iSGFja2JhcnRoMjAxNTQxMSIsCiAgICBzY2llbmNlZGlyZWN0PSIxIiwKICAgIHBsYWNleD0iVGhlIEFydCBhbmQgU2NpZW5jZSBvZiBBbmFseXppbmcgU29mdHdhcmUgRGF0YSIsCikpCicnJyk7\"));\n",
       "    "
      ],
      "text/plain": [
       "<IPython.core.display.Javascript object>"
      ]
     },
     "metadata": {},
     "output_type": "display_data"
    },
    {
     "data": {
      "application/javascript": [
       "$('span:contains(\"# Temp\")').closest('.cell').remove();"
      ],
      "text/plain": [
       "<IPython.core.display.Javascript object>"
      ]
     },
     "metadata": {},
     "output_type": "display_data"
    },
    {
     "data": {
      "application/javascript": [
       "\n",
       "        $('span:contains(\"# Temp\")').closest('.cell').remove();\n",
       "        var code = IPython.notebook.insert_cell_below('code');\n",
       "        code.set_text(atob(\"IyBUZW1wCmluc2VydCgnJycKaGFja2JhcnRoMjAxNWEgPSBEQihXb3JrVW5yZWxhdGVkKAogICAgMjAxNSwgIkNoYXB0ZXIgMTUgLSBBc3Nlc3NpbmcgdGhlIFN0YXRlIG9mIFNvZnR3YXJlIGluIGEgTGFyZ2UgRW50ZXJwcmlzZTogQSAxMi1ZZWFyIFJldHJvc3BlY3RpdmUiLAogICAgZGlzcGxheT0iaGFja2JhcnRoIiwKICAgIGF1dGhvcnM9IlJhbmR5IEhhY2tiYXJ0aCBhbmQgQXVkcmlzIE1vY2t1cyBhbmQgSm9obiBQYWxmcmFtYW4gYW5kIERhdmlkIFdlaXNzIiwKICAgIHBsYWNlPUZBS0UsCiAgICBwcD0iNDExIC0gNDUxIiwKICAgIGVudHJ5dHlwZT0iaW5jb2xsZWN0aW9uIiwKICAgIGVkaXRvcj0iQmlyZCwgQ2hyaXN0aWFuIGFuZCBNZW56aWVzLCBUaW0gIGFuZCBaaW1tZXJtYW5uLCBUaG9tYXMiLAogICAgcHVibGlzaGVyPSJNb3JnYW4gS2F1Zm1hbm4iLAogICAgZWRpdGlvbj0iIiwKICAgIGFkZHJlc3M9IkJvc3RvbiIsCiAgICBpc2JuPSI5NzgtMC0xMi00MTE1MTktNCIsCiAgICBkb2k9Imh0dHBzOi8vZG9pLm9yZy8xMC4xMDE2L0I5NzgtMC0xMi00MTE1MTktNC4wMDAxNS1YIiwKICAgIGxpbms9Imh0dHBzOi8vd3d3LnNjaWVuY2VkaXJlY3QuY29tL3NjaWVuY2UvYXJ0aWNsZS9waWkvQjk3ODAxMjQxMTUxOTQwMDAxNVgiLAogICAga2V5d29yZD0iU29mdHdhcmUgcXVhbGl0eSIsCiAgICBJRD0iSGFja2JhcnRoMjAxNTQxMSIsCiAgICBzY2llbmNlZGlyZWN0PSIxIiwKICAgIHBsYWNleD0iVGhlIEFydCBhbmQgU2NpZW5jZSBvZiBBbmFseXppbmcgU29mdHdhcmUgRGF0YSIsCikpCicnJyk7\"));\n",
       "    "
      ],
      "text/plain": [
       "<IPython.core.display.Javascript object>"
      ]
     },
     "metadata": {},
     "output_type": "display_data"
    },
    {
     "data": {
      "application/javascript": [
       "$('span:contains(\"# Temp\")').closest('.cell').remove();"
      ],
      "text/plain": [
       "<IPython.core.display.Javascript object>"
      ]
     },
     "metadata": {},
     "output_type": "display_data"
    },
    {
     "data": {
      "application/javascript": [
       "\n",
       "        $('span:contains(\"# Temp\")').closest('.cell').remove();\n",
       "        var code = IPython.notebook.insert_cell_below('code');\n",
       "        code.set_text(atob(\"IyBUZW1wCmluc2VydCgnJycKbm9icmUyMDA4YSA9IERCKFdvcmtVbnJlbGF0ZWQoCiAgICAyMDA4LCAiVGhlIHB1cnN1aXQgb2YgY29nbml0aW9uIGluIG1hbnVmYWN0dXJpbmcgb3JnYW5pemF0aW9ucyIsCiAgICBkaXNwbGF5PSJub2JyZSIsCiAgICBhdXRob3JzPSJGYXJsZXkgUy4gTm9icmUgYW5kIEFuZHJldyBNLiBUb2JpYXMgYW5kIERhdmlkIFMuIFdhbGtlciIsCiAgICBwbGFjZT1GQUtFLAogICAgcHA9IjE0NSAtIDE1NyIsCiAgICBlbnRyeXR5cGU9ImFydGljbGUiLAogICAgdm9sdW1lPSIyNyIsCiAgICBudW1iZXI9IjQiLAogICAgbm90ZT0iIiwKICAgIGlzc249IjAyNzgtNjEyNSIsCiAgICBkb2k9Imh0dHBzOi8vZG9pLm9yZy8xMC4xMDE2L2ouam1zeS4yMDA5LjAxLjAwMSIsCiAgICBsaW5rPSJodHRwczovL3d3dy5zY2llbmNlZGlyZWN0LmNvbS9zY2llbmNlL2FydGljbGUvcGlpL1MwMjc4NjEyNTA5MDAwMjM1IiwKICAgIElEPSJOb2JyZTIwMDgxNDUiLAogICAgc2NpZW5jZWRpcmVjdD0iMSIsCiAgICBwbGFjZXg9IkpvdXJuYWwgb2YgTWFudWZhY3R1cmluZyBTeXN0ZW1zIiwKKSkKJycnKTs=\"));\n",
       "    "
      ],
      "text/plain": [
       "<IPython.core.display.Javascript object>"
      ]
     },
     "metadata": {},
     "output_type": "display_data"
    },
    {
     "data": {
      "application/javascript": [
       "$('span:contains(\"# Temp\")').closest('.cell').remove();"
      ],
      "text/plain": [
       "<IPython.core.display.Javascript object>"
      ]
     },
     "metadata": {},
     "output_type": "display_data"
    },
    {
     "data": {
      "application/javascript": [
       "\n",
       "        $('span:contains(\"# Temp\")').closest('.cell').remove();\n",
       "        var code = IPython.notebook.insert_cell_below('code');\n",
       "        code.set_text(atob(\"IyBUZW1wCmluc2VydCgnJycKbm9icmUyMDA4YSA9IERCKFdvcmtVbnJlbGF0ZWQoCiAgICAyMDA4LCAiVGhlIHB1cnN1aXQgb2YgY29nbml0aW9uIGluIG1hbnVmYWN0dXJpbmcgb3JnYW5pemF0aW9ucyIsCiAgICBkaXNwbGF5PSJub2JyZSIsCiAgICBhdXRob3JzPSJGYXJsZXkgUy4gTm9icmUgYW5kIEFuZHJldyBNLiBUb2JpYXMgYW5kIERhdmlkIFMuIFdhbGtlciIsCiAgICBwbGFjZT1GQUtFLAogICAgcHA9IjE0NSAtIDE1NyIsCiAgICBlbnRyeXR5cGU9ImFydGljbGUiLAogICAgdm9sdW1lPSIyNyIsCiAgICBudW1iZXI9IjQiLAogICAgbm90ZT0iIiwKICAgIGlzc249IjAyNzgtNjEyNSIsCiAgICBkb2k9Imh0dHBzOi8vZG9pLm9yZy8xMC4xMDE2L2ouam1zeS4yMDA5LjAxLjAwMSIsCiAgICBsaW5rPSJodHRwczovL3d3dy5zY2llbmNlZGlyZWN0LmNvbS9zY2llbmNlL2FydGljbGUvcGlpL1MwMjc4NjEyNTA5MDAwMjM1IiwKICAgIElEPSJOb2JyZTIwMDgxNDUiLAogICAgc2NpZW5jZWRpcmVjdD0iMSIsCiAgICBwbGFjZXg9IkpvdXJuYWwgb2YgTWFudWZhY3R1cmluZyBTeXN0ZW1zIiwKKSkKJycnKTs=\"));\n",
       "    "
      ],
      "text/plain": [
       "<IPython.core.display.Javascript object>"
      ]
     },
     "metadata": {},
     "output_type": "display_data"
    },
    {
     "data": {
      "application/javascript": [
       "$('span:contains(\"# Temp\")').closest('.cell').remove();"
      ],
      "text/plain": [
       "<IPython.core.display.Javascript object>"
      ]
     },
     "metadata": {},
     "output_type": "display_data"
    },
    {
     "data": {
      "application/javascript": [
       "\n",
       "        $('span:contains(\"# Temp\")').closest('.cell').remove();\n",
       "        var code = IPython.notebook.insert_cell_below('code');\n",
       "        code.set_text(atob(\"IyBUZW1wCmluc2VydCgnJycKZGFobGJlcmcxOTk3YSA9IERCKFdvcmtVbnJlbGF0ZWQoCiAgICAxOTk3LCAiQ2hhbGxlbmdlcyB0byBcSVNcIHF1YWxpdHkiLAogICAgZGlzcGxheT0iZGFobGJlcmciLAogICAgYXV0aG9ycz0iVG9taSBEYWhsYmVyZyBhbmQgSmFubmUgSmFydmluZW4iLAogICAgcGxhY2U9SVNULAogICAgcHA9IjgwOSAtIDgxOCIsCiAgICBlbnRyeXR5cGU9ImFydGljbGUiLAogICAgdm9sdW1lPSIzOSIsCiAgICBudW1iZXI9IjEyIiwKICAgIG5vdGU9IkluZm9ybWF0aW9uIFN5c3RlbSBRdWFsaXR5IiwKICAgIGlzc249IjA5NTAtNTg0OSIsCiAgICBkb2k9Imh0dHBzOi8vZG9pLm9yZy8xMC4xMDE2L1MwOTUwLTU4NDkoOTcpMDAwMzktNiIsCiAgICBsaW5rPSJodHRwczovL3d3dy5zY2llbmNlZGlyZWN0LmNvbS9zY2llbmNlL2FydGljbGUvcGlpL1MwOTUwNTg0OTk3MDAwMzk2IiwKICAgIGtleXdvcmQ9IlNvZnR3YXJlIHByb2Nlc3MiLAogICAgSUQ9IkRhaGxiZXJnMTk5NzgwOSIsCiAgICBzY2llbmNlZGlyZWN0PSIxIiwKICAgIHBsYWNleD0iSW5mb3JtYXRpb24gYW5kIFNvZnR3YXJlIFRlY2hub2xvZ3kiLAopKQonJycpOw==\"));\n",
       "    "
      ],
      "text/plain": [
       "<IPython.core.display.Javascript object>"
      ]
     },
     "metadata": {},
     "output_type": "display_data"
    },
    {
     "data": {
      "application/javascript": [
       "$('span:contains(\"# Temp\")').closest('.cell').remove();"
      ],
      "text/plain": [
       "<IPython.core.display.Javascript object>"
      ]
     },
     "metadata": {},
     "output_type": "display_data"
    },
    {
     "data": {
      "application/javascript": [
       "\n",
       "        $('span:contains(\"# Temp\")').closest('.cell').remove();\n",
       "        var code = IPython.notebook.insert_cell_below('code');\n",
       "        code.set_text(atob(\"IyBUZW1wCmluc2VydCgnJycKZGFobGJlcmcxOTk3YSA9IERCKFdvcmtVbnJlbGF0ZWQoCiAgICAxOTk3LCAiQ2hhbGxlbmdlcyB0byBcSVNcIHF1YWxpdHkiLAogICAgZGlzcGxheT0iZGFobGJlcmciLAogICAgYXV0aG9ycz0iVG9taSBEYWhsYmVyZyBhbmQgSmFubmUgSmFydmluZW4iLAogICAgcGxhY2U9SVNULAogICAgcHA9IjgwOSAtIDgxOCIsCiAgICBlbnRyeXR5cGU9ImFydGljbGUiLAogICAgdm9sdW1lPSIzOSIsCiAgICBudW1iZXI9IjEyIiwKICAgIG5vdGU9IkluZm9ybWF0aW9uIFN5c3RlbSBRdWFsaXR5IiwKICAgIGlzc249IjA5NTAtNTg0OSIsCiAgICBkb2k9Imh0dHBzOi8vZG9pLm9yZy8xMC4xMDE2L1MwOTUwLTU4NDkoOTcpMDAwMzktNiIsCiAgICBsaW5rPSJodHRwczovL3d3dy5zY2llbmNlZGlyZWN0LmNvbS9zY2llbmNlL2FydGljbGUvcGlpL1MwOTUwNTg0OTk3MDAwMzk2IiwKICAgIGtleXdvcmQ9IlNvZnR3YXJlIHByb2Nlc3MiLAogICAgSUQ9IkRhaGxiZXJnMTk5NzgwOSIsCiAgICBzY2llbmNlZGlyZWN0PSIxIiwKICAgIHBsYWNleD0iSW5mb3JtYXRpb24gYW5kIFNvZnR3YXJlIFRlY2hub2xvZ3kiLAopKQonJycpOw==\"));\n",
       "    "
      ],
      "text/plain": [
       "<IPython.core.display.Javascript object>"
      ]
     },
     "metadata": {},
     "output_type": "display_data"
    },
    {
     "data": {
      "application/javascript": [
       "$('span:contains(\"# Temp\")').closest('.cell').remove();"
      ],
      "text/plain": [
       "<IPython.core.display.Javascript object>"
      ]
     },
     "metadata": {},
     "output_type": "display_data"
    },
    {
     "data": {
      "application/javascript": [
       "\n",
       "        $('span:contains(\"# Temp\")').closest('.cell').remove();\n",
       "        var code = IPython.notebook.insert_cell_below('code');\n",
       "        code.set_text(atob(\"IyBUZW1wCmluc2VydCgnJycKbWVsbGFkbzIwMTBhID0gREIoV29ya1VucmVsYXRlZCgKICAgIDIwMTAsICJBIHN5c3RlbWF0aWMgcmV2aWV3IG9mIHNlY3VyaXR5IHJlcXVpcmVtZW50cyBlbmdpbmVlcmluZyIsCiAgICBkaXNwbGF5PSJtZWxsYWRvIiwKICAgIGF1dGhvcnM9IkRhbmllbCBNZWxsYWRvIGFuZCBDYXJsb3MgQmxhbmNvIGFuZCBMdWlzIEUuIFPhbmNoZXogYW5kIEVkdWFyZG8gRmVybuFuZGV6LU1lZGluYSIsCiAgICBwbGFjZT1DU0ksCiAgICBwcD0iMTUzIC0gMTY1IiwKICAgIGVudHJ5dHlwZT0iYXJ0aWNsZSIsCiAgICB2b2x1bWU9IjMyIiwKICAgIG51bWJlcj0iNCIsCiAgICBub3RlPSIiLAogICAgaXNzbj0iMDkyMC01NDg5IiwKICAgIGRvaT0iaHR0cHM6Ly9kb2kub3JnLzEwLjEwMTYvai5jc2kuMjAxMC4wMS4wMDYiLAogICAgbGluaz0iaHR0cHM6Ly93d3cuc2NpZW5jZWRpcmVjdC5jb20vc2NpZW5jZS9hcnRpY2xlL3BpaS9TMDkyMDU0ODkxMDAwMDI1NSIsCiAgICBrZXl3b3JkPSJTeXN0ZW1hdGljIHJldmlldyIsCiAgICBJRD0iTWVsbGFkbzIwMTAxNTMiLAogICAgc2NpZW5jZWRpcmVjdD0iMSIsCiAgICBwbGFjZXg9IkNvbXB1dGVyIFN0YW5kYXJkcyAmIEludGVyZmFjZXMiLAopKQonJycpOw==\"));\n",
       "    "
      ],
      "text/plain": [
       "<IPython.core.display.Javascript object>"
      ]
     },
     "metadata": {},
     "output_type": "display_data"
    },
    {
     "data": {
      "application/javascript": [
       "$('span:contains(\"# Temp\")').closest('.cell').remove();"
      ],
      "text/plain": [
       "<IPython.core.display.Javascript object>"
      ]
     },
     "metadata": {},
     "output_type": "display_data"
    },
    {
     "data": {
      "application/javascript": [
       "\n",
       "        $('span:contains(\"# Temp\")').closest('.cell').remove();\n",
       "        var code = IPython.notebook.insert_cell_below('code');\n",
       "        code.set_text(atob(\"IyBUZW1wCmluc2VydCgnJycKbWVsbGFkbzIwMTBhID0gREIoV29ya1VucmVsYXRlZCgKICAgIDIwMTAsICJBIHN5c3RlbWF0aWMgcmV2aWV3IG9mIHNlY3VyaXR5IHJlcXVpcmVtZW50cyBlbmdpbmVlcmluZyIsCiAgICBkaXNwbGF5PSJtZWxsYWRvIiwKICAgIGF1dGhvcnM9IkRhbmllbCBNZWxsYWRvIGFuZCBDYXJsb3MgQmxhbmNvIGFuZCBMdWlzIEUuIFPhbmNoZXogYW5kIEVkdWFyZG8gRmVybuFuZGV6LU1lZGluYSIsCiAgICBwbGFjZT1DU0ksCiAgICBwcD0iMTUzIC0gMTY1IiwKICAgIGVudHJ5dHlwZT0iYXJ0aWNsZSIsCiAgICB2b2x1bWU9IjMyIiwKICAgIG51bWJlcj0iNCIsCiAgICBub3RlPSIiLAogICAgaXNzbj0iMDkyMC01NDg5IiwKICAgIGRvaT0iaHR0cHM6Ly9kb2kub3JnLzEwLjEwMTYvai5jc2kuMjAxMC4wMS4wMDYiLAogICAgbGluaz0iaHR0cHM6Ly93d3cuc2NpZW5jZWRpcmVjdC5jb20vc2NpZW5jZS9hcnRpY2xlL3BpaS9TMDkyMDU0ODkxMDAwMDI1NSIsCiAgICBrZXl3b3JkPSJTeXN0ZW1hdGljIHJldmlldyIsCiAgICBJRD0iTWVsbGFkbzIwMTAxNTMiLAogICAgc2NpZW5jZWRpcmVjdD0iMSIsCiAgICBwbGFjZXg9IkNvbXB1dGVyIFN0YW5kYXJkcyAmIEludGVyZmFjZXMiLAopKQonJycpOw==\"));\n",
       "    "
      ],
      "text/plain": [
       "<IPython.core.display.Javascript object>"
      ]
     },
     "metadata": {},
     "output_type": "display_data"
    },
    {
     "data": {
      "application/javascript": [
       "$('span:contains(\"# Temp\")').closest('.cell').remove();"
      ],
      "text/plain": [
       "<IPython.core.display.Javascript object>"
      ]
     },
     "metadata": {},
     "output_type": "display_data"
    },
    {
     "data": {
      "application/javascript": [
       "\n",
       "        $('span:contains(\"# Temp\")').closest('.cell').remove();\n",
       "        var code = IPython.notebook.insert_cell_below('code');\n",
       "        code.set_text(atob(\"IyBUZW1wCmluc2VydCgnJycKZWxsaW90dDIwMDBhID0gREIoV29ya1VucmVsYXRlZCgKICAgIDIwMDAsICJEZXNpZ24gb2YgYSBwcm9kdWN0LWZvY3VzZWQgY3VzdG9tZXItb3JpZW50ZWQgcHJvY2VzcyIsCiAgICBkaXNwbGF5PSJlbGxpb3R0IiwKICAgIGF1dGhvcnM9IkouSiBFbGxpb3R0IiwKICAgIHBsYWNlPUlTVCwKICAgIHBwPSI5NzMgLSA5ODEiLAogICAgZW50cnl0eXBlPSJhcnRpY2xlIiwKICAgIHZvbHVtZT0iNDIiLAogICAgbnVtYmVyPSIxNCIsCiAgICBub3RlPSIiLAogICAgaXNzbj0iMDk1MC01ODQ5IiwKICAgIGRvaT0iaHR0cHM6Ly9kb2kub3JnLzEwLjEwMTYvUzA5NTAtNTg0OSgwMCkwMDE0OS1YIiwKICAgIGxpbms9Imh0dHBzOi8vd3d3LnNjaWVuY2VkaXJlY3QuY29tL3NjaWVuY2UvYXJ0aWNsZS9waWkvUzA5NTA1ODQ5MDAwMDE0OVgiLAogICAga2V5d29yZD0iUHJvZHVjdCBxdWFsaXR5IiwKICAgIElEPSJFbGxpb3R0MjAwMDk3MyIsCiAgICBzY2llbmNlZGlyZWN0PSIxIiwKICAgIHBsYWNleD0iSW5mb3JtYXRpb24gYW5kIFNvZnR3YXJlIFRlY2hub2xvZ3kiLAopKQonJycpOw==\"));\n",
       "    "
      ],
      "text/plain": [
       "<IPython.core.display.Javascript object>"
      ]
     },
     "metadata": {},
     "output_type": "display_data"
    },
    {
     "data": {
      "application/javascript": [
       "$('span:contains(\"# Temp\")').closest('.cell').remove();"
      ],
      "text/plain": [
       "<IPython.core.display.Javascript object>"
      ]
     },
     "metadata": {},
     "output_type": "display_data"
    },
    {
     "data": {
      "application/javascript": [
       "\n",
       "        $('span:contains(\"# Temp\")').closest('.cell').remove();\n",
       "        var code = IPython.notebook.insert_cell_below('code');\n",
       "        code.set_text(atob(\"IyBUZW1wCmluc2VydCgnJycKZWxsaW90dDIwMDBhID0gREIoV29ya1VucmVsYXRlZCgKICAgIDIwMDAsICJEZXNpZ24gb2YgYSBwcm9kdWN0LWZvY3VzZWQgY3VzdG9tZXItb3JpZW50ZWQgcHJvY2VzcyIsCiAgICBkaXNwbGF5PSJlbGxpb3R0IiwKICAgIGF1dGhvcnM9IkouSiBFbGxpb3R0IiwKICAgIHBsYWNlPUlTVCwKICAgIHBwPSI5NzMgLSA5ODEiLAogICAgZW50cnl0eXBlPSJhcnRpY2xlIiwKICAgIHZvbHVtZT0iNDIiLAogICAgbnVtYmVyPSIxNCIsCiAgICBub3RlPSIiLAogICAgaXNzbj0iMDk1MC01ODQ5IiwKICAgIGRvaT0iaHR0cHM6Ly9kb2kub3JnLzEwLjEwMTYvUzA5NTAtNTg0OSgwMCkwMDE0OS1YIiwKICAgIGxpbms9Imh0dHBzOi8vd3d3LnNjaWVuY2VkaXJlY3QuY29tL3NjaWVuY2UvYXJ0aWNsZS9waWkvUzA5NTA1ODQ5MDAwMDE0OVgiLAogICAga2V5d29yZD0iUHJvZHVjdCBxdWFsaXR5IiwKICAgIElEPSJFbGxpb3R0MjAwMDk3MyIsCiAgICBzY2llbmNlZGlyZWN0PSIxIiwKICAgIHBsYWNleD0iSW5mb3JtYXRpb24gYW5kIFNvZnR3YXJlIFRlY2hub2xvZ3kiLAopKQonJycpOw==\"));\n",
       "    "
      ],
      "text/plain": [
       "<IPython.core.display.Javascript object>"
      ]
     },
     "metadata": {},
     "output_type": "display_data"
    },
    {
     "data": {
      "application/javascript": [
       "$('span:contains(\"# Temp\")').closest('.cell').remove();"
      ],
      "text/plain": [
       "<IPython.core.display.Javascript object>"
      ]
     },
     "metadata": {},
     "output_type": "display_data"
    },
    {
     "data": {
      "application/javascript": [
       "\n",
       "        $('span:contains(\"# Temp\")').closest('.cell').remove();\n",
       "        var code = IPython.notebook.insert_cell_below('code');\n",
       "        code.set_text(atob(\"IyBUZW1wCmluc2VydCgnJycKcm9jaGUxOTk0YSA9IERCKFdvcmtVbnJlbGF0ZWQoCiAgICAxOTk0LCAiU29mdHdhcmUgbWVhc3VyZW1lbnQgbWV0aG9kczogcmVjaXBlcyBmb3Igc3VjY2Vzcz8iLAogICAgZGlzcGxheT0icm9jaGUiLAogICAgYXV0aG9ycz0iSm9obiBSb2NoZSBhbmQgTWlrZSBKYWNrc29uIiwKICAgIHBsYWNlPUlTVCwKICAgIHBwPSIxNzMgLSAxODkiLAogICAgZW50cnl0eXBlPSJhcnRpY2xlIiwKICAgIHZvbHVtZT0iMzYiLAogICAgbnVtYmVyPSIzIiwKICAgIG5vdGU9IiIsCiAgICBpc3NuPSIwOTUwLTU4NDkiLAogICAgZG9pPSJodHRwczovL2RvaS5vcmcvMTAuMTAxNi8wOTUwLTU4NDkoOTQpOTAwNTYtNiIsCiAgICBsaW5rPSJodHRwczovL3d3dy5zY2llbmNlZGlyZWN0LmNvbS9zY2llbmNlL2FydGljbGUvcGlpLzA5NTA1ODQ5OTQ5MDA1NjYiLAogICAga2V5d29yZD0ic29mdHdhcmUgZGV2ZWxvcG1lbnQgcHJvY2Vzc2VzIiwKICAgIElEPSJSb2NoZTE5OTQxNzMiLAogICAgc2NpZW5jZWRpcmVjdD0iMSIsCiAgICBwbGFjZXg9IkluZm9ybWF0aW9uIGFuZCBTb2Z0d2FyZSBUZWNobm9sb2d5IiwKKSkKJycnKTs=\"));\n",
       "    "
      ],
      "text/plain": [
       "<IPython.core.display.Javascript object>"
      ]
     },
     "metadata": {},
     "output_type": "display_data"
    },
    {
     "data": {
      "application/javascript": [
       "$('span:contains(\"# Temp\")').closest('.cell').remove();"
      ],
      "text/plain": [
       "<IPython.core.display.Javascript object>"
      ]
     },
     "metadata": {},
     "output_type": "display_data"
    },
    {
     "data": {
      "application/javascript": [
       "\n",
       "        $('span:contains(\"# Temp\")').closest('.cell').remove();\n",
       "        var code = IPython.notebook.insert_cell_below('code');\n",
       "        code.set_text(atob(\"IyBUZW1wCmluc2VydCgnJycKcm9jaGUxOTk0YSA9IERCKFdvcmtVbnJlbGF0ZWQoCiAgICAxOTk0LCAiU29mdHdhcmUgbWVhc3VyZW1lbnQgbWV0aG9kczogcmVjaXBlcyBmb3Igc3VjY2Vzcz8iLAogICAgZGlzcGxheT0icm9jaGUiLAogICAgYXV0aG9ycz0iSm9obiBSb2NoZSBhbmQgTWlrZSBKYWNrc29uIiwKICAgIHBsYWNlPUlTVCwKICAgIHBwPSIxNzMgLSAxODkiLAogICAgZW50cnl0eXBlPSJhcnRpY2xlIiwKICAgIHZvbHVtZT0iMzYiLAogICAgbnVtYmVyPSIzIiwKICAgIG5vdGU9IiIsCiAgICBpc3NuPSIwOTUwLTU4NDkiLAogICAgZG9pPSJodHRwczovL2RvaS5vcmcvMTAuMTAxNi8wOTUwLTU4NDkoOTQpOTAwNTYtNiIsCiAgICBsaW5rPSJodHRwczovL3d3dy5zY2llbmNlZGlyZWN0LmNvbS9zY2llbmNlL2FydGljbGUvcGlpLzA5NTA1ODQ5OTQ5MDA1NjYiLAogICAga2V5d29yZD0ic29mdHdhcmUgZGV2ZWxvcG1lbnQgcHJvY2Vzc2VzIiwKICAgIElEPSJSb2NoZTE5OTQxNzMiLAogICAgc2NpZW5jZWRpcmVjdD0iMSIsCiAgICBwbGFjZXg9IkluZm9ybWF0aW9uIGFuZCBTb2Z0d2FyZSBUZWNobm9sb2d5IiwKKSkKJycnKTs=\"));\n",
       "    "
      ],
      "text/plain": [
       "<IPython.core.display.Javascript object>"
      ]
     },
     "metadata": {},
     "output_type": "display_data"
    },
    {
     "data": {
      "application/javascript": [
       "$('span:contains(\"# Temp\")').closest('.cell').remove();"
      ],
      "text/plain": [
       "<IPython.core.display.Javascript object>"
      ]
     },
     "metadata": {},
     "output_type": "display_data"
    },
    {
     "data": {
      "application/javascript": [
       "\n",
       "        $('span:contains(\"# Temp\")').closest('.cell').remove();\n",
       "        var code = IPython.notebook.insert_cell_below('code');\n",
       "        code.set_text(atob(\"IyBUZW1wCmluc2VydCgnJycKc2hhaG1laHJpMjAxMmEgPSBEQihXb3JrVW5yZWxhdGVkKAogICAgMjAxMiwgIkFuIGFkdmFuY2VkIGFwcHJvYWNoIGZvciBtb2RlbGluZyBhbmQgZGV0ZWN0aW5nIHNvZnR3YXJlIHZ1bG5lcmFiaWxpdGllcyIsCiAgICBkaXNwbGF5PSJzaGFobWVocmkiLAogICAgYXV0aG9ycz0iTmFoaWQgU2hhaG1laHJpIGFuZCBBbWVsIE1hbW1hciBhbmQgRWRnYXJkbyBNb250ZXMgZGUgT2NhIGFuZCBEYXZpZCBCeWVycyBhbmQgQW5hIENhdmFsbGkgYW5kIFNoYW5haSBBcmRpIGFuZCBXaWxseSBKaW1lbmV6IiwKICAgIHBsYWNlPUlTVCwKICAgIHBwPSI5OTcgLSAxMDEzIiwKICAgIGVudHJ5dHlwZT0iYXJ0aWNsZSIsCiAgICB2b2x1bWU9IjU0IiwKICAgIG51bWJlcj0iOSIsCiAgICBub3RlPSIiLAogICAgaXNzbj0iMDk1MC01ODQ5IiwKICAgIGRvaT0iaHR0cHM6Ly9kb2kub3JnLzEwLjEwMTYvai5pbmZzb2YuMjAxMi4wMy4wMDQiLAogICAgbGluaz0iaHR0cHM6Ly93d3cuc2NpZW5jZWRpcmVjdC5jb20vc2NpZW5jZS9hcnRpY2xlL3BpaS9TMDk1MDU4NDkxMjAwMDUzNSIsCiAgICBrZXl3b3JkPSJEeW5hbWljIGFuYWx5c2lzIiwKICAgIElEPSJTaGFobWVocmkyMDEyOTk3IiwKICAgIHNjaWVuY2VkaXJlY3Q9IjEiLAogICAgcGxhY2V4PSJJbmZvcm1hdGlvbiBhbmQgU29mdHdhcmUgVGVjaG5vbG9neSIsCikpCicnJyk7\"));\n",
       "    "
      ],
      "text/plain": [
       "<IPython.core.display.Javascript object>"
      ]
     },
     "metadata": {},
     "output_type": "display_data"
    },
    {
     "data": {
      "application/javascript": [
       "$('span:contains(\"# Temp\")').closest('.cell').remove();"
      ],
      "text/plain": [
       "<IPython.core.display.Javascript object>"
      ]
     },
     "metadata": {},
     "output_type": "display_data"
    },
    {
     "data": {
      "application/javascript": [
       "\n",
       "        $('span:contains(\"# Temp\")').closest('.cell').remove();\n",
       "        var code = IPython.notebook.insert_cell_below('code');\n",
       "        code.set_text(atob(\"IyBUZW1wCmluc2VydCgnJycKc2hhaG1laHJpMjAxMmEgPSBEQihXb3JrVW5yZWxhdGVkKAogICAgMjAxMiwgIkFuIGFkdmFuY2VkIGFwcHJvYWNoIGZvciBtb2RlbGluZyBhbmQgZGV0ZWN0aW5nIHNvZnR3YXJlIHZ1bG5lcmFiaWxpdGllcyIsCiAgICBkaXNwbGF5PSJzaGFobWVocmkiLAogICAgYXV0aG9ycz0iTmFoaWQgU2hhaG1laHJpIGFuZCBBbWVsIE1hbW1hciBhbmQgRWRnYXJkbyBNb250ZXMgZGUgT2NhIGFuZCBEYXZpZCBCeWVycyBhbmQgQW5hIENhdmFsbGkgYW5kIFNoYW5haSBBcmRpIGFuZCBXaWxseSBKaW1lbmV6IiwKICAgIHBsYWNlPUlTVCwKICAgIHBwPSI5OTcgLSAxMDEzIiwKICAgIGVudHJ5dHlwZT0iYXJ0aWNsZSIsCiAgICB2b2x1bWU9IjU0IiwKICAgIG51bWJlcj0iOSIsCiAgICBub3RlPSIiLAogICAgaXNzbj0iMDk1MC01ODQ5IiwKICAgIGRvaT0iaHR0cHM6Ly9kb2kub3JnLzEwLjEwMTYvai5pbmZzb2YuMjAxMi4wMy4wMDQiLAogICAgbGluaz0iaHR0cHM6Ly93d3cuc2NpZW5jZWRpcmVjdC5jb20vc2NpZW5jZS9hcnRpY2xlL3BpaS9TMDk1MDU4NDkxMjAwMDUzNSIsCiAgICBrZXl3b3JkPSJEeW5hbWljIGFuYWx5c2lzIiwKICAgIElEPSJTaGFobWVocmkyMDEyOTk3IiwKICAgIHNjaWVuY2VkaXJlY3Q9IjEiLAogICAgcGxhY2V4PSJJbmZvcm1hdGlvbiBhbmQgU29mdHdhcmUgVGVjaG5vbG9neSIsCikpCicnJyk7\"));\n",
       "    "
      ],
      "text/plain": [
       "<IPython.core.display.Javascript object>"
      ]
     },
     "metadata": {},
     "output_type": "display_data"
    },
    {
     "data": {
      "application/javascript": [
       "$('span:contains(\"# Temp\")').closest('.cell').remove();"
      ],
      "text/plain": [
       "<IPython.core.display.Javascript object>"
      ]
     },
     "metadata": {},
     "output_type": "display_data"
    },
    {
     "data": {
      "application/javascript": [
       "\n",
       "        $('span:contains(\"# Temp\")').closest('.cell').remove();\n",
       "        var code = IPython.notebook.insert_cell_below('code');\n",
       "        code.set_text(atob(\"IyBUZW1wCmluc2VydCgnJycKbWFyZXcyMDA5YSA9IERCKFdvcmtVbnJlbGF0ZWQoCiAgICAyMDA5LCAiVGFjdGljcyBiYXNlZCBhcHByb2FjaCBmb3IgaW50ZWdyYXRpbmcgbm9uLWZ1bmN0aW9uYWwgcmVxdWlyZW1lbnRzIGluIG9iamVjdC1vcmllbnRlZCBhbmFseXNpcyBhbmQgZGVzaWduIiwKICAgIGRpc3BsYXk9Im1hcmV3IiwKICAgIGF1dGhvcnM9IlRlZ2VnbmUgTWFyZXcgYW5kIEpvb24tU2FuZyBMZWUgYW5kIERvby1Id2FuIEJhZSIsCiAgICBwbGFjZT1KU1MsCiAgICBwcD0iMTY0MiAtIDE2NTYiLAogICAgZW50cnl0eXBlPSJhcnRpY2xlIiwKICAgIHZvbHVtZT0iODIiLAogICAgbnVtYmVyPSIxMCIsCiAgICBub3RlPSJTSTogXHtZQVVcfSIsCiAgICBpc3NuPSIwMTY0LTEyMTIiLAogICAgZG9pPSJodHRwczovL2RvaS5vcmcvMTAuMTAxNi9qLmpzcy4yMDA5LjAzLjAzMiIsCiAgICBsaW5rPSJodHRwczovL3d3dy5zY2llbmNlZGlyZWN0LmNvbS9zY2llbmNlL2FydGljbGUvcGlpL1MwMTY0MTIxMjA5MDAwNTMzIiwKICAgIGtleXdvcmQ9IkFzcGVjdCBvcmllbnRlZCBzb2Z0d2FyZSBkZXNpZ24iLAogICAgSUQ9Ik1hcmV3MjAwOTE2NDIiLAogICAgc2NpZW5jZWRpcmVjdD0iMSIsCiAgICBwbGFjZXg9IkpvdXJuYWwgb2YgU3lzdGVtcyBhbmQgU29mdHdhcmUiLAopKQonJycpOw==\"));\n",
       "    "
      ],
      "text/plain": [
       "<IPython.core.display.Javascript object>"
      ]
     },
     "metadata": {},
     "output_type": "display_data"
    },
    {
     "data": {
      "application/javascript": [
       "$('span:contains(\"# Temp\")').closest('.cell').remove();"
      ],
      "text/plain": [
       "<IPython.core.display.Javascript object>"
      ]
     },
     "metadata": {},
     "output_type": "display_data"
    },
    {
     "data": {
      "application/javascript": [
       "\n",
       "        $('span:contains(\"# Temp\")').closest('.cell').remove();\n",
       "        var code = IPython.notebook.insert_cell_below('code');\n",
       "        code.set_text(atob(\"IyBUZW1wCmluc2VydCgnJycKbWFyZXcyMDA5YSA9IERCKFdvcmtVbnJlbGF0ZWQoCiAgICAyMDA5LCAiVGFjdGljcyBiYXNlZCBhcHByb2FjaCBmb3IgaW50ZWdyYXRpbmcgbm9uLWZ1bmN0aW9uYWwgcmVxdWlyZW1lbnRzIGluIG9iamVjdC1vcmllbnRlZCBhbmFseXNpcyBhbmQgZGVzaWduIiwKICAgIGRpc3BsYXk9Im1hcmV3IiwKICAgIGF1dGhvcnM9IlRlZ2VnbmUgTWFyZXcgYW5kIEpvb24tU2FuZyBMZWUgYW5kIERvby1Id2FuIEJhZSIsCiAgICBwbGFjZT1KU1MsCiAgICBwcD0iMTY0MiAtIDE2NTYiLAogICAgZW50cnl0eXBlPSJhcnRpY2xlIiwKICAgIHZvbHVtZT0iODIiLAogICAgbnVtYmVyPSIxMCIsCiAgICBub3RlPSJTSTogXHtZQVVcfSIsCiAgICBpc3NuPSIwMTY0LTEyMTIiLAogICAgZG9pPSJodHRwczovL2RvaS5vcmcvMTAuMTAxNi9qLmpzcy4yMDA5LjAzLjAzMiIsCiAgICBsaW5rPSJodHRwczovL3d3dy5zY2llbmNlZGlyZWN0LmNvbS9zY2llbmNlL2FydGljbGUvcGlpL1MwMTY0MTIxMjA5MDAwNTMzIiwKICAgIGtleXdvcmQ9IkFzcGVjdCBvcmllbnRlZCBzb2Z0d2FyZSBkZXNpZ24iLAogICAgSUQ9Ik1hcmV3MjAwOTE2NDIiLAogICAgc2NpZW5jZWRpcmVjdD0iMSIsCiAgICBwbGFjZXg9IkpvdXJuYWwgb2YgU3lzdGVtcyBhbmQgU29mdHdhcmUiLAopKQonJycpOw==\"));\n",
       "    "
      ],
      "text/plain": [
       "<IPython.core.display.Javascript object>"
      ]
     },
     "metadata": {},
     "output_type": "display_data"
    },
    {
     "data": {
      "application/javascript": [
       "$('span:contains(\"# Temp\")').closest('.cell').remove();"
      ],
      "text/plain": [
       "<IPython.core.display.Javascript object>"
      ]
     },
     "metadata": {},
     "output_type": "display_data"
    },
    {
     "data": {
      "application/javascript": [
       "\n",
       "        $('span:contains(\"# Temp\")').closest('.cell').remove();\n",
       "        var code = IPython.notebook.insert_cell_below('code');\n",
       "        code.set_text(atob(\"IyBUZW1wCmluc2VydCgnJycKYXlhbGEyMDExYSA9IERCKFdvcmtVbnJlbGF0ZWQoCiAgICAyMDExLCAiU2VsZWN0aW9uIG9mIHRoaXJkIHBhcnR5IHNvZnR3YXJlIGluIE9mZi1UaGUtU2hlbGYtYmFzZWQgc29mdHdhcmUgZGV2ZWxvcG1lbnSXQW4gaW50ZXJ2aWV3IHN0dWR5IHdpdGggaW5kdXN0cmlhbCBwcmFjdGl0aW9uZXJzIiwKICAgIGRpc3BsYXk9ImF5YWxhIiwKICAgIGF1dGhvcnM9IkNsYXVkaWEgQXlhbGEgYW5kINh5dmluZCBIYXVnZSBhbmQgUmVpZGFyIENvbnJhZGkgYW5kIFhhdmllciBGcmFuY2ggYW5kIEppbmd5dWUgTGkiLAogICAgcGxhY2U9SlNTLAogICAgcHA9IjYyMCAtIDYzNyIsCiAgICBlbnRyeXR5cGU9ImFydGljbGUiLAogICAgdm9sdW1lPSI4NCIsCiAgICBudW1iZXI9IjQiLAogICAgbm90ZT0iVGhlIE5pbnRoIEludGVybmF0aW9uYWwgQ29uZmVyZW5jZSBvbiBRdWFsaXR5IFNvZnR3YXJlIiwKICAgIGlzc249IjAxNjQtMTIxMiIsCiAgICBkb2k9Imh0dHBzOi8vZG9pLm9yZy8xMC4xMDE2L2ouanNzLjIwMTAuMTAuMDE5IiwKICAgIGxpbms9Imh0dHBzOi8vd3d3LnNjaWVuY2VkaXJlY3QuY29tL3NjaWVuY2UvYXJ0aWNsZS9waWkvUzAxNjQxMjEyMTAwMDI4NjQiLAogICAga2V5d29yZD0iQ29tcG9uZW50IHNlbGVjdGlvbiIsCiAgICBJRD0iQXlhbGEyMDExNjIwIiwKICAgIHNjaWVuY2VkaXJlY3Q9IjEiLAogICAgcGxhY2V4PSJKb3VybmFsIG9mIFN5c3RlbXMgYW5kIFNvZnR3YXJlIiwKKSkKJycnKTs=\"));\n",
       "    "
      ],
      "text/plain": [
       "<IPython.core.display.Javascript object>"
      ]
     },
     "metadata": {},
     "output_type": "display_data"
    },
    {
     "data": {
      "application/javascript": [
       "$('span:contains(\"# Temp\")').closest('.cell').remove();"
      ],
      "text/plain": [
       "<IPython.core.display.Javascript object>"
      ]
     },
     "metadata": {},
     "output_type": "display_data"
    },
    {
     "data": {
      "application/javascript": [
       "\n",
       "        $('span:contains(\"# Temp\")').closest('.cell').remove();\n",
       "        var code = IPython.notebook.insert_cell_below('code');\n",
       "        code.set_text(atob(\"IyBUZW1wCmluc2VydCgnJycKYXlhbGEyMDExYSA9IERCKFdvcmtVbnJlbGF0ZWQoCiAgICAyMDExLCAiU2VsZWN0aW9uIG9mIHRoaXJkIHBhcnR5IHNvZnR3YXJlIGluIE9mZi1UaGUtU2hlbGYtYmFzZWQgc29mdHdhcmUgZGV2ZWxvcG1lbnSXQW4gaW50ZXJ2aWV3IHN0dWR5IHdpdGggaW5kdXN0cmlhbCBwcmFjdGl0aW9uZXJzIiwKICAgIGRpc3BsYXk9ImF5YWxhIiwKICAgIGF1dGhvcnM9IkNsYXVkaWEgQXlhbGEgYW5kINh5dmluZCBIYXVnZSBhbmQgUmVpZGFyIENvbnJhZGkgYW5kIFhhdmllciBGcmFuY2ggYW5kIEppbmd5dWUgTGkiLAogICAgcGxhY2U9SlNTLAogICAgcHA9IjYyMCAtIDYzNyIsCiAgICBlbnRyeXR5cGU9ImFydGljbGUiLAogICAgdm9sdW1lPSI4NCIsCiAgICBudW1iZXI9IjQiLAogICAgbm90ZT0iVGhlIE5pbnRoIEludGVybmF0aW9uYWwgQ29uZmVyZW5jZSBvbiBRdWFsaXR5IFNvZnR3YXJlIiwKICAgIGlzc249IjAxNjQtMTIxMiIsCiAgICBkb2k9Imh0dHBzOi8vZG9pLm9yZy8xMC4xMDE2L2ouanNzLjIwMTAuMTAuMDE5IiwKICAgIGxpbms9Imh0dHBzOi8vd3d3LnNjaWVuY2VkaXJlY3QuY29tL3NjaWVuY2UvYXJ0aWNsZS9waWkvUzAxNjQxMjEyMTAwMDI4NjQiLAogICAga2V5d29yZD0iQ29tcG9uZW50IHNlbGVjdGlvbiIsCiAgICBJRD0iQXlhbGEyMDExNjIwIiwKICAgIHNjaWVuY2VkaXJlY3Q9IjEiLAogICAgcGxhY2V4PSJKb3VybmFsIG9mIFN5c3RlbXMgYW5kIFNvZnR3YXJlIiwKKSkKJycnKTs=\"));\n",
       "    "
      ],
      "text/plain": [
       "<IPython.core.display.Javascript object>"
      ]
     },
     "metadata": {},
     "output_type": "display_data"
    },
    {
     "data": {
      "application/javascript": [
       "$('span:contains(\"# Temp\")').closest('.cell').remove();"
      ],
      "text/plain": [
       "<IPython.core.display.Javascript object>"
      ]
     },
     "metadata": {},
     "output_type": "display_data"
    },
    {
     "data": {
      "application/javascript": [
       "\n",
       "        $('span:contains(\"# Temp\")').closest('.cell').remove();\n",
       "        var code = IPython.notebook.insert_cell_below('code');\n",
       "        code.set_text(atob(\"IyBUZW1wCmluc2VydCgnJycKYWJyYW4yMDAzYSA9IERCKFdvcmtVbnJlbGF0ZWQoCiAgICAyMDAzLCAiQSBtdWx0aWRpbWVuc2lvbmFsIHBlcmZvcm1hbmNlIG1vZGVsIGZvciBjb25zb2xpZGF0aW5nIEJhbGFuY2VkIFNjb3JlY2FyZHMiLAogICAgZGlzcGxheT0iYWJyYW4iLAogICAgYXV0aG9ycz0iQWxhaW4gQWJyYW4gYW5kIEx1aWdpIEJ1Z2xpb25lIiwKICAgIHBsYWNlPUZBS0UsCiAgICBwcD0iMzM5IC0gMzQ5IiwKICAgIGVudHJ5dHlwZT0iYXJ0aWNsZSIsCiAgICB2b2x1bWU9IjM0IiwKICAgIG51bWJlcj0iNiIsCiAgICBub3RlPSIiLAogICAgaXNzbj0iMDk2NS05OTc4IiwKICAgIGRvaT0iaHR0cHM6Ly9kb2kub3JnLzEwLjEwMTYvUzA5NjUtOTk3OCgwMykwMDAzMy00IiwKICAgIGxpbms9Imh0dHBzOi8vd3d3LnNjaWVuY2VkaXJlY3QuY29tL3NjaWVuY2UvYXJ0aWNsZS9waWkvUzA5NjU5OTc4MDMwMDAzMzQiLAogICAga2V5d29yZD0iU3RyYXRlZ3kiLAogICAgSUQ9IkFicmFuMjAwMzMzOSIsCiAgICBzY2llbmNlZGlyZWN0PSIxIiwKICAgIHBsYWNleD0iQWR2YW5jZXMgaW4gRW5naW5lZXJpbmcgU29mdHdhcmUiLAopKQonJycpOw==\"));\n",
       "    "
      ],
      "text/plain": [
       "<IPython.core.display.Javascript object>"
      ]
     },
     "metadata": {},
     "output_type": "display_data"
    },
    {
     "data": {
      "application/javascript": [
       "$('span:contains(\"# Temp\")').closest('.cell').remove();"
      ],
      "text/plain": [
       "<IPython.core.display.Javascript object>"
      ]
     },
     "metadata": {},
     "output_type": "display_data"
    },
    {
     "data": {
      "application/javascript": [
       "\n",
       "        $('span:contains(\"# Temp\")').closest('.cell').remove();\n",
       "        var code = IPython.notebook.insert_cell_below('code');\n",
       "        code.set_text(atob(\"IyBUZW1wCmluc2VydCgnJycKYWJyYW4yMDAzYSA9IERCKFdvcmtVbnJlbGF0ZWQoCiAgICAyMDAzLCAiQSBtdWx0aWRpbWVuc2lvbmFsIHBlcmZvcm1hbmNlIG1vZGVsIGZvciBjb25zb2xpZGF0aW5nIEJhbGFuY2VkIFNjb3JlY2FyZHMiLAogICAgZGlzcGxheT0iYWJyYW4iLAogICAgYXV0aG9ycz0iQWxhaW4gQWJyYW4gYW5kIEx1aWdpIEJ1Z2xpb25lIiwKICAgIHBsYWNlPUZBS0UsCiAgICBwcD0iMzM5IC0gMzQ5IiwKICAgIGVudHJ5dHlwZT0iYXJ0aWNsZSIsCiAgICB2b2x1bWU9IjM0IiwKICAgIG51bWJlcj0iNiIsCiAgICBub3RlPSIiLAogICAgaXNzbj0iMDk2NS05OTc4IiwKICAgIGRvaT0iaHR0cHM6Ly9kb2kub3JnLzEwLjEwMTYvUzA5NjUtOTk3OCgwMykwMDAzMy00IiwKICAgIGxpbms9Imh0dHBzOi8vd3d3LnNjaWVuY2VkaXJlY3QuY29tL3NjaWVuY2UvYXJ0aWNsZS9waWkvUzA5NjU5OTc4MDMwMDAzMzQiLAogICAga2V5d29yZD0iU3RyYXRlZ3kiLAogICAgSUQ9IkFicmFuMjAwMzMzOSIsCiAgICBzY2llbmNlZGlyZWN0PSIxIiwKICAgIHBsYWNleD0iQWR2YW5jZXMgaW4gRW5naW5lZXJpbmcgU29mdHdhcmUiLAopKQonJycpOw==\"));\n",
       "    "
      ],
      "text/plain": [
       "<IPython.core.display.Javascript object>"
      ]
     },
     "metadata": {},
     "output_type": "display_data"
    },
    {
     "data": {
      "application/javascript": [
       "$('span:contains(\"# Temp\")').closest('.cell').remove();"
      ],
      "text/plain": [
       "<IPython.core.display.Javascript object>"
      ]
     },
     "metadata": {},
     "output_type": "display_data"
    },
    {
     "data": {
      "application/javascript": [
       "\n",
       "        $('span:contains(\"# Temp\")').closest('.cell').remove();\n",
       "        var code = IPython.notebook.insert_cell_below('code');\n",
       "        code.set_text(atob(\"IyBUZW1wCmluc2VydCgnJycKeWFwMjAwM2EgPSBEQihXb3JrVW5yZWxhdGVkKAogICAgMjAwMywgIkxldmVyYWdpbmcga25vd2xlZGdlIHJlcHJlc2VudGF0aW9uLCB1c2FnZSwgYW5kIGludGVycHJldGF0aW9uIHRvIGhlbHAgcmVlbmdpbmVlciB0aGUgcHJvZHVjdCBkZXZlbG9wbWVudCBsaWZlIGN5Y2xlOiB2aXN1YWwgY29tcHV0aW5nIGFuZCB0aGUgdGFjaXQgZGltZW5zaW9ucyBvZiBwcm9kdWN0IGRldmVsb3BtZW50IiwKICAgIGRpc3BsYXk9InlhcCIsCiAgICBhdXRob3JzPSJBbGV4YW5kZXIgWS4gWWFwIGFuZCBPamVsYW5raSBOZ3dlbnlhbWEgYW5kIEt3ZWt1LU11YXRhIE9zZWktQnJ5c29uIiwKICAgIHBsYWNlPUMsCiAgICBwcD0iODkgLSAxMTAiLAogICAgZW50cnl0eXBlPSJhcnRpY2xlIiwKICAgIHZvbHVtZT0iNTEiLAogICAgbnVtYmVyPSIxIiwKICAgIG5vdGU9IiIsCiAgICBpc3NuPSIwMTY2LTM2MTUiLAogICAgZG9pPSJodHRwczovL2RvaS5vcmcvMTAuMTAxNi9TMDE2Ni0zNjE1KDAzKTAwMDIzLVgiLAogICAgbGluaz0iaHR0cHM6Ly93d3cuc2NpZW5jZWRpcmVjdC5jb20vc2NpZW5jZS9hcnRpY2xlL3BpaS9TMDE2NjM2MTUwMzAwMDIzWCIsCiAgICBrZXl3b3JkPSJWaXJ0dWFsIHJlYWxpdHkiLAogICAgSUQ9IllhcDIwMDM4OSIsCiAgICBzY2llbmNlZGlyZWN0PSIxIiwKICAgIHBsYWNleD0iQ29tcHV0ZXJzIGluIEluZHVzdHJ5IiwKKSkKJycnKTs=\"));\n",
       "    "
      ],
      "text/plain": [
       "<IPython.core.display.Javascript object>"
      ]
     },
     "metadata": {},
     "output_type": "display_data"
    },
    {
     "data": {
      "application/javascript": [
       "$('span:contains(\"# Temp\")').closest('.cell').remove();"
      ],
      "text/plain": [
       "<IPython.core.display.Javascript object>"
      ]
     },
     "metadata": {},
     "output_type": "display_data"
    },
    {
     "data": {
      "application/javascript": [
       "\n",
       "        $('span:contains(\"# Temp\")').closest('.cell').remove();\n",
       "        var code = IPython.notebook.insert_cell_below('code');\n",
       "        code.set_text(atob(\"IyBUZW1wCmluc2VydCgnJycKeWFwMjAwM2EgPSBEQihXb3JrVW5yZWxhdGVkKAogICAgMjAwMywgIkxldmVyYWdpbmcga25vd2xlZGdlIHJlcHJlc2VudGF0aW9uLCB1c2FnZSwgYW5kIGludGVycHJldGF0aW9uIHRvIGhlbHAgcmVlbmdpbmVlciB0aGUgcHJvZHVjdCBkZXZlbG9wbWVudCBsaWZlIGN5Y2xlOiB2aXN1YWwgY29tcHV0aW5nIGFuZCB0aGUgdGFjaXQgZGltZW5zaW9ucyBvZiBwcm9kdWN0IGRldmVsb3BtZW50IiwKICAgIGRpc3BsYXk9InlhcCIsCiAgICBhdXRob3JzPSJBbGV4YW5kZXIgWS4gWWFwIGFuZCBPamVsYW5raSBOZ3dlbnlhbWEgYW5kIEt3ZWt1LU11YXRhIE9zZWktQnJ5c29uIiwKICAgIHBsYWNlPUMsCiAgICBwcD0iODkgLSAxMTAiLAogICAgZW50cnl0eXBlPSJhcnRpY2xlIiwKICAgIHZvbHVtZT0iNTEiLAogICAgbnVtYmVyPSIxIiwKICAgIG5vdGU9IiIsCiAgICBpc3NuPSIwMTY2LTM2MTUiLAogICAgZG9pPSJodHRwczovL2RvaS5vcmcvMTAuMTAxNi9TMDE2Ni0zNjE1KDAzKTAwMDIzLVgiLAogICAgbGluaz0iaHR0cHM6Ly93d3cuc2NpZW5jZWRpcmVjdC5jb20vc2NpZW5jZS9hcnRpY2xlL3BpaS9TMDE2NjM2MTUwMzAwMDIzWCIsCiAgICBrZXl3b3JkPSJWaXJ0dWFsIHJlYWxpdHkiLAogICAgSUQ9IllhcDIwMDM4OSIsCiAgICBzY2llbmNlZGlyZWN0PSIxIiwKICAgIHBsYWNleD0iQ29tcHV0ZXJzIGluIEluZHVzdHJ5IiwKKSkKJycnKTs=\"));\n",
       "    "
      ],
      "text/plain": [
       "<IPython.core.display.Javascript object>"
      ]
     },
     "metadata": {},
     "output_type": "display_data"
    },
    {
     "data": {
      "application/javascript": [
       "$('span:contains(\"# Temp\")').closest('.cell').remove();"
      ],
      "text/plain": [
       "<IPython.core.display.Javascript object>"
      ]
     },
     "metadata": {},
     "output_type": "display_data"
    },
    {
     "data": {
      "application/javascript": [
       "\n",
       "        $('span:contains(\"# Temp\")').closest('.cell').remove();\n",
       "        var code = IPython.notebook.insert_cell_below('code');\n",
       "        code.set_text(atob(\"IyBUZW1wCmluc2VydCgnJycKdHJlbmRvd2ljejIwMDlhID0gREIoV29ya1VucmVsYXRlZCgKICAgIDIwMDksICJDaGFwdGVyIDYgRmFjdG9ycyBJbmZsdWVuY2luZyBTb2Z0d2FyZSBEZXZlbG9wbWVudCBQcm9kdWN0aXZpdHmXU3RhdGU/b2Y/dGhlP0FydCBhbmQgSW5kdXN0cmlhbCBFeHBlcmllbmNlcyIsCiAgICBkaXNwbGF5PSJ0cmVuZG93aWN6IiwKICAgIGF1dGhvcnM9IkFkYW0gVHJlbmRvd2ljeiBhbmQgSvxyZ2VuIE38bmNoIiwKICAgIHBsYWNlPUZBS0UsCiAgICBwcD0iMTg1IC0gMjQxIiwKICAgIGVudHJ5dHlwZT0iaW5jb2xsZWN0aW9uIiwKICAgIGVkaXRvcj0iIiwKICAgIHB1Ymxpc2hlcj0iRWxzZXZpZXIiLAogICAgdm9sdW1lPSI3NyIsCiAgICBzZXJpZXM9IkFkdmFuY2VzIGluIENvbXB1dGVycyIsCiAgICBpc3NuPSIwMDY1LTI0NTgiLAogICAgZG9pPSJodHRwczovL2RvaS5vcmcvMTAuMTAxNi9TMDA2NS0yNDU4KDA5KTAxMjA2LTYiLAogICAgbGluaz0iaHR0cHM6Ly93d3cuc2NpZW5jZWRpcmVjdC5jb20vc2NpZW5jZS9hcnRpY2xlL3BpaS9TMDA2NTI0NTgwOTAxMjA2NiIsCiAgICBJRD0iVHJlbmRvd2ljejIwMDkxODUiLAogICAgc2NpZW5jZWRpcmVjdD0iMSIsCiAgICBwbGFjZXg9IiIsCikpCicnJyk7\"));\n",
       "    "
      ],
      "text/plain": [
       "<IPython.core.display.Javascript object>"
      ]
     },
     "metadata": {},
     "output_type": "display_data"
    },
    {
     "data": {
      "application/javascript": [
       "$('span:contains(\"# Temp\")').closest('.cell').remove();"
      ],
      "text/plain": [
       "<IPython.core.display.Javascript object>"
      ]
     },
     "metadata": {},
     "output_type": "display_data"
    },
    {
     "data": {
      "application/javascript": [
       "\n",
       "        $('span:contains(\"# Temp\")').closest('.cell').remove();\n",
       "        var code = IPython.notebook.insert_cell_below('code');\n",
       "        code.set_text(atob(\"IyBUZW1wCmluc2VydCgnJycKdHJlbmRvd2ljejIwMDlhID0gREIoV29ya1VucmVsYXRlZCgKICAgIDIwMDksICJDaGFwdGVyIDYgRmFjdG9ycyBJbmZsdWVuY2luZyBTb2Z0d2FyZSBEZXZlbG9wbWVudCBQcm9kdWN0aXZpdHmXU3RhdGU/b2Y/dGhlP0FydCBhbmQgSW5kdXN0cmlhbCBFeHBlcmllbmNlcyIsCiAgICBkaXNwbGF5PSJ0cmVuZG93aWN6IiwKICAgIGF1dGhvcnM9IkFkYW0gVHJlbmRvd2ljeiBhbmQgSvxyZ2VuIE38bmNoIiwKICAgIHBsYWNlPUZBS0UsCiAgICBwcD0iMTg1IC0gMjQxIiwKICAgIGVudHJ5dHlwZT0iaW5jb2xsZWN0aW9uIiwKICAgIGVkaXRvcj0iIiwKICAgIHB1Ymxpc2hlcj0iRWxzZXZpZXIiLAogICAgdm9sdW1lPSI3NyIsCiAgICBzZXJpZXM9IkFkdmFuY2VzIGluIENvbXB1dGVycyIsCiAgICBpc3NuPSIwMDY1LTI0NTgiLAogICAgZG9pPSJodHRwczovL2RvaS5vcmcvMTAuMTAxNi9TMDA2NS0yNDU4KDA5KTAxMjA2LTYiLAogICAgbGluaz0iaHR0cHM6Ly93d3cuc2NpZW5jZWRpcmVjdC5jb20vc2NpZW5jZS9hcnRpY2xlL3BpaS9TMDA2NTI0NTgwOTAxMjA2NiIsCiAgICBJRD0iVHJlbmRvd2ljejIwMDkxODUiLAogICAgc2NpZW5jZWRpcmVjdD0iMSIsCiAgICBwbGFjZXg9IiIsCikpCicnJyk7\"));\n",
       "    "
      ],
      "text/plain": [
       "<IPython.core.display.Javascript object>"
      ]
     },
     "metadata": {},
     "output_type": "display_data"
    },
    {
     "data": {
      "application/javascript": [
       "$('span:contains(\"# Temp\")').closest('.cell').remove();"
      ],
      "text/plain": [
       "<IPython.core.display.Javascript object>"
      ]
     },
     "metadata": {},
     "output_type": "display_data"
    },
    {
     "data": {
      "application/javascript": [
       "\n",
       "        $('span:contains(\"# Temp\")').closest('.cell').remove();\n",
       "        var code = IPython.notebook.insert_cell_below('code');\n",
       "        code.set_text(atob(\"IyBUZW1wCmluc2VydCgnJycKanVuZzIwMDNhID0gREIoV29ya1VucmVsYXRlZCgKICAgIDIwMDMsICJFdmFsdWF0aW5nIGludGVycmF0ZXIgYWdyZWVtZW50IGluIFNQSUNFLWJhc2VkIGFzc2Vzc21lbnRzIiwKICAgIGRpc3BsYXk9Imp1bmciLAogICAgYXV0aG9ycz0iSG8tV29uIEp1bmciLAogICAgcGxhY2U9Q1NJLAogICAgcHA9IjQ3NyAtIDQ5OSIsCiAgICBlbnRyeXR5cGU9ImFydGljbGUiLAogICAgdm9sdW1lPSIyNSIsCiAgICBudW1iZXI9IjUiLAogICAgbm90ZT0iIiwKICAgIGlzc249IjA5MjAtNTQ4OSIsCiAgICBkb2k9Imh0dHBzOi8vZG9pLm9yZy8xMC4xMDE2L1MwOTIwLTU0ODkoMDMpMDAwMTgtNyIsCiAgICBsaW5rPSJodHRwczovL3d3dy5zY2llbmNlZGlyZWN0LmNvbS9zY2llbmNlL2FydGljbGUvcGlpL1MwOTIwNTQ4OTAzMDAwMTg3IiwKICAgIGtleXdvcmQ9IlNQSUNFIiwKICAgIElEPSJKdW5nMjAwMzQ3NyIsCiAgICBzY2llbmNlZGlyZWN0PSIxIiwKICAgIHBsYWNleD0iQ29tcHV0ZXIgU3RhbmRhcmRzICYgSW50ZXJmYWNlcyIsCikpCicnJyk7\"));\n",
       "    "
      ],
      "text/plain": [
       "<IPython.core.display.Javascript object>"
      ]
     },
     "metadata": {},
     "output_type": "display_data"
    },
    {
     "data": {
      "application/javascript": [
       "$('span:contains(\"# Temp\")').closest('.cell').remove();"
      ],
      "text/plain": [
       "<IPython.core.display.Javascript object>"
      ]
     },
     "metadata": {},
     "output_type": "display_data"
    },
    {
     "data": {
      "application/javascript": [
       "\n",
       "        $('span:contains(\"# Temp\")').closest('.cell').remove();\n",
       "        var code = IPython.notebook.insert_cell_below('code');\n",
       "        code.set_text(atob(\"IyBUZW1wCmluc2VydCgnJycKanVuZzIwMDNhID0gREIoV29ya1VucmVsYXRlZCgKICAgIDIwMDMsICJFdmFsdWF0aW5nIGludGVycmF0ZXIgYWdyZWVtZW50IGluIFNQSUNFLWJhc2VkIGFzc2Vzc21lbnRzIiwKICAgIGRpc3BsYXk9Imp1bmciLAogICAgYXV0aG9ycz0iSG8tV29uIEp1bmciLAogICAgcGxhY2U9Q1NJLAogICAgcHA9IjQ3NyAtIDQ5OSIsCiAgICBlbnRyeXR5cGU9ImFydGljbGUiLAogICAgdm9sdW1lPSIyNSIsCiAgICBudW1iZXI9IjUiLAogICAgbm90ZT0iIiwKICAgIGlzc249IjA5MjAtNTQ4OSIsCiAgICBkb2k9Imh0dHBzOi8vZG9pLm9yZy8xMC4xMDE2L1MwOTIwLTU0ODkoMDMpMDAwMTgtNyIsCiAgICBsaW5rPSJodHRwczovL3d3dy5zY2llbmNlZGlyZWN0LmNvbS9zY2llbmNlL2FydGljbGUvcGlpL1MwOTIwNTQ4OTAzMDAwMTg3IiwKICAgIGtleXdvcmQ9IlNQSUNFIiwKICAgIElEPSJKdW5nMjAwMzQ3NyIsCiAgICBzY2llbmNlZGlyZWN0PSIxIiwKICAgIHBsYWNleD0iQ29tcHV0ZXIgU3RhbmRhcmRzICYgSW50ZXJmYWNlcyIsCikpCicnJyk7\"));\n",
       "    "
      ],
      "text/plain": [
       "<IPython.core.display.Javascript object>"
      ]
     },
     "metadata": {},
     "output_type": "display_data"
    },
    {
     "data": {
      "application/javascript": [
       "$('span:contains(\"# Temp\")').closest('.cell').remove();"
      ],
      "text/plain": [
       "<IPython.core.display.Javascript object>"
      ]
     },
     "metadata": {},
     "output_type": "display_data"
    },
    {
     "data": {
      "application/javascript": [
       "\n",
       "        $('span:contains(\"# Temp\")').closest('.cell').remove();\n",
       "        var code = IPython.notebook.insert_cell_below('code');\n",
       "        code.set_text(atob(\"IyBUZW1wCmluc2VydCgnJycKc2Fyb3NhMjAxMmEgPSBEQihXb3JrVW5yZWxhdGVkKAogICAgMjAxMiwgIkFkb3B0aW9uIG9mIFNvY2lhbCBNZWRpYSBOZXR3b3JrcyBieSBJbmRvbmVzaWFuIFNNRTogQSBDYXNlIFN0dWR5IiwKICAgIGRpc3BsYXk9InNhcm9zYSIsCiAgICBhdXRob3JzPSJTYW1pYWppIFNhcm9zYSIsCiAgICBwbGFjZT1GQUtFLAogICAgcHA9IjI0NCAtIDI1NCIsCiAgICBlbnRyeXR5cGU9ImFydGljbGUiLAogICAgdm9sdW1lPSI0IiwKICAgIG51bWJlcj0iIiwKICAgIG5vdGU9IkludGVybmF0aW9uYWwgQ29uZmVyZW5jZSBvbiBTbWFsbCBhbmQgTWVkaXVtIEVudGVycHJpc2VzIERldmVsb3BtZW50IHdpdGggYSBUaGVtZSA/SW5ub3ZhdGlvbiBhbmQgU3VzdGFpbmFiaWxpdHkgaW4gXHtTTUVcfSBEZXZlbG9wbWVudD8gKElDU01FRCAyMDEyKSIsCiAgICBpc3NuPSIyMjEyLTU2NzEiLAogICAgZG9pPSJodHRwczovL2RvaS5vcmcvMTAuMTAxNi9TMjIxMi01NjcxKDEyKTAwMzM5LTUiLAogICAgbGluaz0iaHR0cHM6Ly93d3cuc2NpZW5jZWRpcmVjdC5jb20vc2NpZW5jZS9hcnRpY2xlL3BpaS9TMjIxMjU2NzExMjAwMzM5NSIsCiAgICBrZXl3b3JkPSJGYWNlYm9vayIsCiAgICBJRD0iU2Fyb3NhMjAxMjI0NCIsCiAgICBzY2llbmNlZGlyZWN0PSIxIiwKICAgIHBsYWNleD0iUHJvY2VkaWEgRWNvbm9taWNzIGFuZCBGaW5hbmNlIiwKKSkKJycnKTs=\"));\n",
       "    "
      ],
      "text/plain": [
       "<IPython.core.display.Javascript object>"
      ]
     },
     "metadata": {},
     "output_type": "display_data"
    },
    {
     "data": {
      "application/javascript": [
       "$('span:contains(\"# Temp\")').closest('.cell').remove();"
      ],
      "text/plain": [
       "<IPython.core.display.Javascript object>"
      ]
     },
     "metadata": {},
     "output_type": "display_data"
    },
    {
     "data": {
      "application/javascript": [
       "\n",
       "        $('span:contains(\"# Temp\")').closest('.cell').remove();\n",
       "        var code = IPython.notebook.insert_cell_below('code');\n",
       "        code.set_text(atob(\"IyBUZW1wCmluc2VydCgnJycKc2Fyb3NhMjAxMmEgPSBEQihXb3JrVW5yZWxhdGVkKAogICAgMjAxMiwgIkFkb3B0aW9uIG9mIFNvY2lhbCBNZWRpYSBOZXR3b3JrcyBieSBJbmRvbmVzaWFuIFNNRTogQSBDYXNlIFN0dWR5IiwKICAgIGRpc3BsYXk9InNhcm9zYSIsCiAgICBhdXRob3JzPSJTYW1pYWppIFNhcm9zYSIsCiAgICBwbGFjZT1GQUtFLAogICAgcHA9IjI0NCAtIDI1NCIsCiAgICBlbnRyeXR5cGU9ImFydGljbGUiLAogICAgdm9sdW1lPSI0IiwKICAgIG51bWJlcj0iIiwKICAgIG5vdGU9IkludGVybmF0aW9uYWwgQ29uZmVyZW5jZSBvbiBTbWFsbCBhbmQgTWVkaXVtIEVudGVycHJpc2VzIERldmVsb3BtZW50IHdpdGggYSBUaGVtZSA/SW5ub3ZhdGlvbiBhbmQgU3VzdGFpbmFiaWxpdHkgaW4gXHtTTUVcfSBEZXZlbG9wbWVudD8gKElDU01FRCAyMDEyKSIsCiAgICBpc3NuPSIyMjEyLTU2NzEiLAogICAgZG9pPSJodHRwczovL2RvaS5vcmcvMTAuMTAxNi9TMjIxMi01NjcxKDEyKTAwMzM5LTUiLAogICAgbGluaz0iaHR0cHM6Ly93d3cuc2NpZW5jZWRpcmVjdC5jb20vc2NpZW5jZS9hcnRpY2xlL3BpaS9TMjIxMjU2NzExMjAwMzM5NSIsCiAgICBrZXl3b3JkPSJGYWNlYm9vayIsCiAgICBJRD0iU2Fyb3NhMjAxMjI0NCIsCiAgICBzY2llbmNlZGlyZWN0PSIxIiwKICAgIHBsYWNleD0iUHJvY2VkaWEgRWNvbm9taWNzIGFuZCBGaW5hbmNlIiwKKSkKJycnKTs=\"));\n",
       "    "
      ],
      "text/plain": [
       "<IPython.core.display.Javascript object>"
      ]
     },
     "metadata": {},
     "output_type": "display_data"
    },
    {
     "data": {
      "application/javascript": [
       "$('span:contains(\"# Temp\")').closest('.cell').remove();"
      ],
      "text/plain": [
       "<IPython.core.display.Javascript object>"
      ]
     },
     "metadata": {},
     "output_type": "display_data"
    },
    {
     "data": {
      "application/javascript": [
       "\n",
       "        $('span:contains(\"# Temp\")').closest('.cell').remove();\n",
       "        var code = IPython.notebook.insert_cell_below('code');\n",
       "        code.set_text(atob(\"IyBUZW1wCmluc2VydCgnJycKYmFyemlsYXkyMDE0YSA9IERCKFdvcmtVbnJlbGF0ZWQoCiAgICAyMDE0LCAiVW5kZXJzdGFuZGluZyByZXVzZSBvZiBzb2Z0d2FyZSBleGFtcGxlczogQSBjYXNlIHN0dWR5IG9mIHByZWp1ZGljZSBpbiBhIGNvbW11bml0eSBvZiBwcmFjdGljZSIsCiAgICBkaXNwbGF5PSJiYXJ6aWxheSIsCiAgICBhdXRob3JzPSJPaGFkIEJhcnppbGF5IGFuZCBDYXRoeSBVcnF1aGFydCIsCiAgICBwbGFjZT1JU1QsCiAgICBwcD0iMTYxMyAtIDE2MjgiLAogICAgZW50cnl0eXBlPSJhcnRpY2xlIiwKICAgIHZvbHVtZT0iNTYiLAogICAgbnVtYmVyPSIxMiIsCiAgICBub3RlPSJTcGVjaWFsIGlzc3VlOiBIdW1hbiBGYWN0b3JzIGluIFNvZnR3YXJlIERldmVsb3BtZW50IiwKICAgIGlzc249IjA5NTAtNTg0OSIsCiAgICBkb2k9Imh0dHBzOi8vZG9pLm9yZy8xMC4xMDE2L2ouaW5mc29mLjIwMTQuMDIuMDEzIiwKICAgIGxpbms9Imh0dHBzOi8vd3d3LnNjaWVuY2VkaXJlY3QuY29tL3NjaWVuY2UvYXJ0aWNsZS9waWkvUzA5NTA1ODQ5MTQwMDA2NjQiLAogICAga2V5d29yZD0iT3BlbiBzb3VyY2UgZGV2ZWxvcG1lbnQiLAogICAgSUQ9IkJhcnppbGF5MjAxNDE2MTMiLAogICAgc2NpZW5jZWRpcmVjdD0iMSIsCiAgICBwbGFjZXg9IkluZm9ybWF0aW9uIGFuZCBTb2Z0d2FyZSBUZWNobm9sb2d5IiwKKSkKJycnKTs=\"));\n",
       "    "
      ],
      "text/plain": [
       "<IPython.core.display.Javascript object>"
      ]
     },
     "metadata": {},
     "output_type": "display_data"
    },
    {
     "data": {
      "application/javascript": [
       "$('span:contains(\"# Temp\")').closest('.cell').remove();"
      ],
      "text/plain": [
       "<IPython.core.display.Javascript object>"
      ]
     },
     "metadata": {},
     "output_type": "display_data"
    },
    {
     "data": {
      "application/javascript": [
       "\n",
       "        $('span:contains(\"# Temp\")').closest('.cell').remove();\n",
       "        var code = IPython.notebook.insert_cell_below('code');\n",
       "        code.set_text(atob(\"IyBUZW1wCmluc2VydCgnJycKYmFyemlsYXkyMDE0YSA9IERCKFdvcmtVbnJlbGF0ZWQoCiAgICAyMDE0LCAiVW5kZXJzdGFuZGluZyByZXVzZSBvZiBzb2Z0d2FyZSBleGFtcGxlczogQSBjYXNlIHN0dWR5IG9mIHByZWp1ZGljZSBpbiBhIGNvbW11bml0eSBvZiBwcmFjdGljZSIsCiAgICBkaXNwbGF5PSJiYXJ6aWxheSIsCiAgICBhdXRob3JzPSJPaGFkIEJhcnppbGF5IGFuZCBDYXRoeSBVcnF1aGFydCIsCiAgICBwbGFjZT1JU1QsCiAgICBwcD0iMTYxMyAtIDE2MjgiLAogICAgZW50cnl0eXBlPSJhcnRpY2xlIiwKICAgIHZvbHVtZT0iNTYiLAogICAgbnVtYmVyPSIxMiIsCiAgICBub3RlPSJTcGVjaWFsIGlzc3VlOiBIdW1hbiBGYWN0b3JzIGluIFNvZnR3YXJlIERldmVsb3BtZW50IiwKICAgIGlzc249IjA5NTAtNTg0OSIsCiAgICBkb2k9Imh0dHBzOi8vZG9pLm9yZy8xMC4xMDE2L2ouaW5mc29mLjIwMTQuMDIuMDEzIiwKICAgIGxpbms9Imh0dHBzOi8vd3d3LnNjaWVuY2VkaXJlY3QuY29tL3NjaWVuY2UvYXJ0aWNsZS9waWkvUzA5NTA1ODQ5MTQwMDA2NjQiLAogICAga2V5d29yZD0iT3BlbiBzb3VyY2UgZGV2ZWxvcG1lbnQiLAogICAgSUQ9IkJhcnppbGF5MjAxNDE2MTMiLAogICAgc2NpZW5jZWRpcmVjdD0iMSIsCiAgICBwbGFjZXg9IkluZm9ybWF0aW9uIGFuZCBTb2Z0d2FyZSBUZWNobm9sb2d5IiwKKSkKJycnKTs=\"));\n",
       "    "
      ],
      "text/plain": [
       "<IPython.core.display.Javascript object>"
      ]
     },
     "metadata": {},
     "output_type": "display_data"
    },
    {
     "data": {
      "application/javascript": [
       "$('span:contains(\"# Temp\")').closest('.cell').remove();"
      ],
      "text/plain": [
       "<IPython.core.display.Javascript object>"
      ]
     },
     "metadata": {},
     "output_type": "display_data"
    },
    {
     "data": {
      "application/javascript": [
       "\n",
       "        $('span:contains(\"# Temp\")').closest('.cell').remove();\n",
       "        var code = IPython.notebook.insert_cell_below('code');\n",
       "        code.set_text(atob(\"IyBUZW1wCmluc2VydCgnJycKc3Rhcm9uMjAwOWEgPSBEQihXb3JrVW5yZWxhdGVkKAogICAgMjAwOSwgIkEgZnJhbWV3b3JrIGZvciBkZXZlbG9waW5nIG1lYXN1cmVtZW50IHN5c3RlbXMgYW5kIGl0cyBpbmR1c3RyaWFsIGV2YWx1YXRpb24iLAogICAgZGlzcGxheT0ic3Rhcm9uIiwKICAgIGF1dGhvcnM9Ik1pcm9zbGF3IFN0YXJvbiBhbmQgV2lsaGVsbSBNZWRpbmcgYW5kIENocmlzdGVyIE5pbHNzb24iLAogICAgcGxhY2U9SVNULAogICAgcHA9IjcyMSAtIDczNyIsCiAgICBlbnRyeXR5cGU9ImFydGljbGUiLAogICAgdm9sdW1lPSI1MSIsCiAgICBudW1iZXI9IjQiLAogICAgbm90ZT0iIiwKICAgIGlzc249IjA5NTAtNTg0OSIsCiAgICBkb2k9Imh0dHBzOi8vZG9pLm9yZy8xMC4xMDE2L2ouaW5mc29mLjIwMDguMTAuMDAxIiwKICAgIGxpbms9Imh0dHBzOi8vd3d3LnNjaWVuY2VkaXJlY3QuY29tL3NjaWVuY2UvYXJ0aWNsZS9waWkvUzA5NTA1ODQ5MDgwMDE0MTkiLAogICAga2V5d29yZD0iTWVhc3VyZW1lbnQgc3lzdGVtcyIsCiAgICBJRD0iU3Rhcm9uMjAwOTcyMSIsCiAgICBzY2llbmNlZGlyZWN0PSIxIiwKICAgIHBsYWNleD0iSW5mb3JtYXRpb24gYW5kIFNvZnR3YXJlIFRlY2hub2xvZ3kiLAopKQonJycpOw==\"));\n",
       "    "
      ],
      "text/plain": [
       "<IPython.core.display.Javascript object>"
      ]
     },
     "metadata": {},
     "output_type": "display_data"
    },
    {
     "data": {
      "application/javascript": [
       "$('span:contains(\"# Temp\")').closest('.cell').remove();"
      ],
      "text/plain": [
       "<IPython.core.display.Javascript object>"
      ]
     },
     "metadata": {},
     "output_type": "display_data"
    },
    {
     "data": {
      "application/javascript": [
       "\n",
       "        $('span:contains(\"# Temp\")').closest('.cell').remove();\n",
       "        var code = IPython.notebook.insert_cell_below('code');\n",
       "        code.set_text(atob(\"IyBUZW1wCmluc2VydCgnJycKc3Rhcm9uMjAwOWEgPSBEQihXb3JrVW5yZWxhdGVkKAogICAgMjAwOSwgIkEgZnJhbWV3b3JrIGZvciBkZXZlbG9waW5nIG1lYXN1cmVtZW50IHN5c3RlbXMgYW5kIGl0cyBpbmR1c3RyaWFsIGV2YWx1YXRpb24iLAogICAgZGlzcGxheT0ic3Rhcm9uIiwKICAgIGF1dGhvcnM9Ik1pcm9zbGF3IFN0YXJvbiBhbmQgV2lsaGVsbSBNZWRpbmcgYW5kIENocmlzdGVyIE5pbHNzb24iLAogICAgcGxhY2U9SVNULAogICAgcHA9IjcyMSAtIDczNyIsCiAgICBlbnRyeXR5cGU9ImFydGljbGUiLAogICAgdm9sdW1lPSI1MSIsCiAgICBudW1iZXI9IjQiLAogICAgbm90ZT0iIiwKICAgIGlzc249IjA5NTAtNTg0OSIsCiAgICBkb2k9Imh0dHBzOi8vZG9pLm9yZy8xMC4xMDE2L2ouaW5mc29mLjIwMDguMTAuMDAxIiwKICAgIGxpbms9Imh0dHBzOi8vd3d3LnNjaWVuY2VkaXJlY3QuY29tL3NjaWVuY2UvYXJ0aWNsZS9waWkvUzA5NTA1ODQ5MDgwMDE0MTkiLAogICAga2V5d29yZD0iTWVhc3VyZW1lbnQgc3lzdGVtcyIsCiAgICBJRD0iU3Rhcm9uMjAwOTcyMSIsCiAgICBzY2llbmNlZGlyZWN0PSIxIiwKICAgIHBsYWNleD0iSW5mb3JtYXRpb24gYW5kIFNvZnR3YXJlIFRlY2hub2xvZ3kiLAopKQonJycpOw==\"));\n",
       "    "
      ],
      "text/plain": [
       "<IPython.core.display.Javascript object>"
      ]
     },
     "metadata": {},
     "output_type": "display_data"
    },
    {
     "data": {
      "application/javascript": [
       "$('span:contains(\"# Temp\")').closest('.cell').remove();"
      ],
      "text/plain": [
       "<IPython.core.display.Javascript object>"
      ]
     },
     "metadata": {},
     "output_type": "display_data"
    },
    {
     "data": {
      "application/javascript": [
       "\n",
       "        $('span:contains(\"# Temp\")').closest('.cell').remove();\n",
       "        var code = IPython.notebook.insert_cell_below('code');\n",
       "        code.set_text(atob(\"IyBUZW1wCmluc2VydCgnJycKaGVpa2tpbOQyMDE1YSA9IERCKFdvcmtVbnJlbGF0ZWQoCiAgICAyMDE1LCAiT3BlcmF0aW9uYWwgcmVsZWFzZSBwbGFubmluZyBpbiBsYXJnZS1zY2FsZSBTY3J1bSB3aXRoIG11bHRpcGxlIHN0YWtlaG9sZGVycyCWIEEgbG9uZ2l0dWRpbmFsIGNhc2Ugc3R1ZHkgYXQgRi1TZWN1cmUgQ29ycG9yYXRpb24iLAogICAgZGlzcGxheT0iaGVpa2tpbOQiLAogICAgYXV0aG9ycz0iVmlsbGUgVC4gSGVpa2tpbOQgYW5kIE1hcmlhIFBhYXNpdmFhcmEgYW5kIEtyaXN0aWFuIFJhdXRpYWluZW4gYW5kIENhc3BlciBMYXNzZW5pdXMgYW5kIFRvd28gVG9pdm9sYSBhbmQgSmFubmUgSuRydmluZW4iLAogICAgcGxhY2U9SVNULAogICAgcHA9IjExNiAtIDE0MCIsCiAgICBlbnRyeXR5cGU9ImFydGljbGUiLAogICAgdm9sdW1lPSI1NyIsCiAgICBudW1iZXI9IiIsCiAgICBub3RlPSIiLAogICAgaXNzbj0iMDk1MC01ODQ5IiwKICAgIGRvaT0iaHR0cHM6Ly9kb2kub3JnLzEwLjEwMTYvai5pbmZzb2YuMjAxNC4wOS4wMDUiLAogICAgbGluaz0iaHR0cHM6Ly93d3cuc2NpZW5jZWRpcmVjdC5jb20vc2NpZW5jZS9hcnRpY2xlL3BpaS9TMDk1MDU4NDkxNDAwMjA0MyIsCiAgICBrZXl3b3JkPSJTb2Z0d2FyZSBwcm9qZWN0IG1hbmFnZW1lbnQiLAogICAgSUQ9IkhlaWtraWzkMjAxNTExNiIsCiAgICBzY2llbmNlZGlyZWN0PSIxIiwKICAgIHBsYWNleD0iSW5mb3JtYXRpb24gYW5kIFNvZnR3YXJlIFRlY2hub2xvZ3kiLAopKQonJycpOw==\"));\n",
       "    "
      ],
      "text/plain": [
       "<IPython.core.display.Javascript object>"
      ]
     },
     "metadata": {},
     "output_type": "display_data"
    },
    {
     "data": {
      "application/javascript": [
       "$('span:contains(\"# Temp\")').closest('.cell').remove();"
      ],
      "text/plain": [
       "<IPython.core.display.Javascript object>"
      ]
     },
     "metadata": {},
     "output_type": "display_data"
    },
    {
     "data": {
      "application/javascript": [
       "\n",
       "        $('span:contains(\"# Temp\")').closest('.cell').remove();\n",
       "        var code = IPython.notebook.insert_cell_below('code');\n",
       "        code.set_text(atob(\"IyBUZW1wCmluc2VydCgnJycKaGVpa2tpbOQyMDE1YSA9IERCKFdvcmtVbnJlbGF0ZWQoCiAgICAyMDE1LCAiT3BlcmF0aW9uYWwgcmVsZWFzZSBwbGFubmluZyBpbiBsYXJnZS1zY2FsZSBTY3J1bSB3aXRoIG11bHRpcGxlIHN0YWtlaG9sZGVycyCWIEEgbG9uZ2l0dWRpbmFsIGNhc2Ugc3R1ZHkgYXQgRi1TZWN1cmUgQ29ycG9yYXRpb24iLAogICAgZGlzcGxheT0iaGVpa2tpbOQiLAogICAgYXV0aG9ycz0iVmlsbGUgVC4gSGVpa2tpbOQgYW5kIE1hcmlhIFBhYXNpdmFhcmEgYW5kIEtyaXN0aWFuIFJhdXRpYWluZW4gYW5kIENhc3BlciBMYXNzZW5pdXMgYW5kIFRvd28gVG9pdm9sYSBhbmQgSmFubmUgSuRydmluZW4iLAogICAgcGxhY2U9SVNULAogICAgcHA9IjExNiAtIDE0MCIsCiAgICBlbnRyeXR5cGU9ImFydGljbGUiLAogICAgdm9sdW1lPSI1NyIsCiAgICBudW1iZXI9IiIsCiAgICBub3RlPSIiLAogICAgaXNzbj0iMDk1MC01ODQ5IiwKICAgIGRvaT0iaHR0cHM6Ly9kb2kub3JnLzEwLjEwMTYvai5pbmZzb2YuMjAxNC4wOS4wMDUiLAogICAgbGluaz0iaHR0cHM6Ly93d3cuc2NpZW5jZWRpcmVjdC5jb20vc2NpZW5jZS9hcnRpY2xlL3BpaS9TMDk1MDU4NDkxNDAwMjA0MyIsCiAgICBrZXl3b3JkPSJTb2Z0d2FyZSBwcm9qZWN0IG1hbmFnZW1lbnQiLAogICAgSUQ9IkhlaWtraWzkMjAxNTExNiIsCiAgICBzY2llbmNlZGlyZWN0PSIxIiwKICAgIHBsYWNleD0iSW5mb3JtYXRpb24gYW5kIFNvZnR3YXJlIFRlY2hub2xvZ3kiLAopKQonJycpOw==\"));\n",
       "    "
      ],
      "text/plain": [
       "<IPython.core.display.Javascript object>"
      ]
     },
     "metadata": {},
     "output_type": "display_data"
    },
    {
     "data": {
      "application/javascript": [
       "$('span:contains(\"# Temp\")').closest('.cell').remove();"
      ],
      "text/plain": [
       "<IPython.core.display.Javascript object>"
      ]
     },
     "metadata": {},
     "output_type": "display_data"
    },
    {
     "data": {
      "application/javascript": [
       "\n",
       "        $('span:contains(\"# Temp\")').closest('.cell').remove();\n",
       "        var code = IPython.notebook.insert_cell_below('code');\n",
       "        code.set_text(atob(\"IyBUZW1wCmluc2VydCgnJycKZ3JhbnQyMDA0YSA9IERCKFdvcmtVbnJlbGF0ZWQoCiAgICAyMDA0LCAiU3BlY2lhbCBzZWN0aW9uIiwKICAgIGRpc3BsYXk9ImdyYW50IiwKICAgIGF1dGhvcnM9IktldmluIEdyYW50IGFuZCBEYXZpZCBFZGdhciBhbmQgTWlrZSBKb3JkYW4iLAogICAgcGxhY2U9RkFLRSwKICAgIHBwPSI0NDkgLSA0NTYiLAogICAgZW50cnl0eXBlPSJhcnRpY2xlIiwKICAgIHZvbHVtZT0iMjQiLAogICAgbnVtYmVyPSI2IiwKICAgIG5vdGU9IiIsCiAgICBpc3NuPSIwMjY4LTQwMTIiLAogICAgZG9pPSJodHRwczovL2RvaS5vcmcvMTAuMTAxNi9qLmlqaW5mb21ndC4yMDA0LjA4LjAwNSIsCiAgICBsaW5rPSJodHRwczovL3d3dy5zY2llbmNlZGlyZWN0LmNvbS9zY2llbmNlL2FydGljbGUvcGlpL1MwMjY4NDAxMjA0MDAwOTIxIiwKICAgIElEPSJHcmFudDIwMDQ0NDkiLAogICAgc2NpZW5jZWRpcmVjdD0iMSIsCiAgICBwbGFjZXg9IkludGVybmF0aW9uYWwgSm91cm5hbCBvZiBJbmZvcm1hdGlvbiBNYW5hZ2VtZW50IiwKKSkKJycnKTs=\"));\n",
       "    "
      ],
      "text/plain": [
       "<IPython.core.display.Javascript object>"
      ]
     },
     "metadata": {},
     "output_type": "display_data"
    },
    {
     "data": {
      "application/javascript": [
       "$('span:contains(\"# Temp\")').closest('.cell').remove();"
      ],
      "text/plain": [
       "<IPython.core.display.Javascript object>"
      ]
     },
     "metadata": {},
     "output_type": "display_data"
    },
    {
     "data": {
      "application/javascript": [
       "\n",
       "        $('span:contains(\"# Temp\")').closest('.cell').remove();\n",
       "        var code = IPython.notebook.insert_cell_below('code');\n",
       "        code.set_text(atob(\"IyBUZW1wCmluc2VydCgnJycKZ3JhbnQyMDA0YSA9IERCKFdvcmtVbnJlbGF0ZWQoCiAgICAyMDA0LCAiU3BlY2lhbCBzZWN0aW9uIiwKICAgIGRpc3BsYXk9ImdyYW50IiwKICAgIGF1dGhvcnM9IktldmluIEdyYW50IGFuZCBEYXZpZCBFZGdhciBhbmQgTWlrZSBKb3JkYW4iLAogICAgcGxhY2U9RkFLRSwKICAgIHBwPSI0NDkgLSA0NTYiLAogICAgZW50cnl0eXBlPSJhcnRpY2xlIiwKICAgIHZvbHVtZT0iMjQiLAogICAgbnVtYmVyPSI2IiwKICAgIG5vdGU9IiIsCiAgICBpc3NuPSIwMjY4LTQwMTIiLAogICAgZG9pPSJodHRwczovL2RvaS5vcmcvMTAuMTAxNi9qLmlqaW5mb21ndC4yMDA0LjA4LjAwNSIsCiAgICBsaW5rPSJodHRwczovL3d3dy5zY2llbmNlZGlyZWN0LmNvbS9zY2llbmNlL2FydGljbGUvcGlpL1MwMjY4NDAxMjA0MDAwOTIxIiwKICAgIElEPSJHcmFudDIwMDQ0NDkiLAogICAgc2NpZW5jZWRpcmVjdD0iMSIsCiAgICBwbGFjZXg9IkludGVybmF0aW9uYWwgSm91cm5hbCBvZiBJbmZvcm1hdGlvbiBNYW5hZ2VtZW50IiwKKSkKJycnKTs=\"));\n",
       "    "
      ],
      "text/plain": [
       "<IPython.core.display.Javascript object>"
      ]
     },
     "metadata": {},
     "output_type": "display_data"
    },
    {
     "data": {
      "application/javascript": [
       "$('span:contains(\"# Temp\")').closest('.cell').remove();"
      ],
      "text/plain": [
       "<IPython.core.display.Javascript object>"
      ]
     },
     "metadata": {},
     "output_type": "display_data"
    },
    {
     "data": {
      "application/javascript": [
       "\n",
       "        $('span:contains(\"# Temp\")').closest('.cell').remove();\n",
       "        var code = IPython.notebook.insert_cell_below('code');\n",
       "        code.set_text(atob(\"IyBUZW1wCmluc2VydCgnJycKbG9pa2thbmVuMjAwOWEgPSBEQihXb3JrVW5yZWxhdGVkKAogICAgMjAwOSwgIlRoZSByb2xlIG9mIHRoZSB0ZWNobm9sb2d5IGJhcm9tZXRlciBpbiBhc3Nlc3NpbmcgdGhlIHBlcmZvcm1hbmNlIG9mIHRoZSBuYXRpb25hbCBpbm5vdmF0aW9uIHN5c3RlbSIsCiAgICBkaXNwbGF5PSJsb2lra2FuZW4iLAogICAgYXV0aG9ycz0iVG9yc3RpIExvaWtrYW5lbiBhbmQgVG9uaSBBaGxxdmlzdCBhbmQgUGVra2EgUGVsbGluZW4iLAogICAgcGxhY2U9RkFLRSwKICAgIHBwPSIxMTc3IC0gMTE4NiIsCiAgICBlbnRyeXR5cGU9ImFydGljbGUiLAogICAgdm9sdW1lPSI3NiIsCiAgICBudW1iZXI9IjkiLAogICAgbm90ZT0iRnV0dXJlLU9yaWVudGVkIFRlY2hub2xvZ3kgQW5hbHlzaXMgKEZUQSk6IEltcGFjdHMgYW5kIEltcGxpY2F0aW9ucyBmb3IgUG9saWN5IGFuZCBEZWNpc2lvbiBNYWtpbmcgKFRoZSAyMDA4IFx7RlRBXH0gSW50ZXJuYXRpb25hbCBTZXZpbGxlIENvbmZlcmVuY2UpIiwKICAgIGlzc249IjAwNDAtMTYyNSIsCiAgICBkb2k9Imh0dHBzOi8vZG9pLm9yZy8xMC4xMDE2L2oudGVjaGZvcmUuMjAwOS4wNy4wMTEiLAogICAgbGluaz0iaHR0cHM6Ly93d3cuc2NpZW5jZWRpcmVjdC5jb20vc2NpZW5jZS9hcnRpY2xlL3BpaS9TMDA0MDE2MjUwOTAwMTA5NyIsCiAgICBrZXl3b3JkPSJGdXR1cmUtb3JpZW50ZWQga25vd2xlZGdlIiwKICAgIElEPSJMb2lra2FuZW4yMDA5MTE3NyIsCiAgICBzY2llbmNlZGlyZWN0PSIxIiwKICAgIHBsYWNleD0iVGVjaG5vbG9naWNhbCBGb3JlY2FzdGluZyBhbmQgU29jaWFsIENoYW5nZSIsCikpCicnJyk7\"));\n",
       "    "
      ],
      "text/plain": [
       "<IPython.core.display.Javascript object>"
      ]
     },
     "metadata": {},
     "output_type": "display_data"
    },
    {
     "data": {
      "application/javascript": [
       "$('span:contains(\"# Temp\")').closest('.cell').remove();"
      ],
      "text/plain": [
       "<IPython.core.display.Javascript object>"
      ]
     },
     "metadata": {},
     "output_type": "display_data"
    },
    {
     "data": {
      "application/javascript": [
       "\n",
       "        $('span:contains(\"# Temp\")').closest('.cell').remove();\n",
       "        var code = IPython.notebook.insert_cell_below('code');\n",
       "        code.set_text(atob(\"IyBUZW1wCmluc2VydCgnJycKbG9pa2thbmVuMjAwOWEgPSBEQihXb3JrVW5yZWxhdGVkKAogICAgMjAwOSwgIlRoZSByb2xlIG9mIHRoZSB0ZWNobm9sb2d5IGJhcm9tZXRlciBpbiBhc3Nlc3NpbmcgdGhlIHBlcmZvcm1hbmNlIG9mIHRoZSBuYXRpb25hbCBpbm5vdmF0aW9uIHN5c3RlbSIsCiAgICBkaXNwbGF5PSJsb2lra2FuZW4iLAogICAgYXV0aG9ycz0iVG9yc3RpIExvaWtrYW5lbiBhbmQgVG9uaSBBaGxxdmlzdCBhbmQgUGVra2EgUGVsbGluZW4iLAogICAgcGxhY2U9RkFLRSwKICAgIHBwPSIxMTc3IC0gMTE4NiIsCiAgICBlbnRyeXR5cGU9ImFydGljbGUiLAogICAgdm9sdW1lPSI3NiIsCiAgICBudW1iZXI9IjkiLAogICAgbm90ZT0iRnV0dXJlLU9yaWVudGVkIFRlY2hub2xvZ3kgQW5hbHlzaXMgKEZUQSk6IEltcGFjdHMgYW5kIEltcGxpY2F0aW9ucyBmb3IgUG9saWN5IGFuZCBEZWNpc2lvbiBNYWtpbmcgKFRoZSAyMDA4IFx7RlRBXH0gSW50ZXJuYXRpb25hbCBTZXZpbGxlIENvbmZlcmVuY2UpIiwKICAgIGlzc249IjAwNDAtMTYyNSIsCiAgICBkb2k9Imh0dHBzOi8vZG9pLm9yZy8xMC4xMDE2L2oudGVjaGZvcmUuMjAwOS4wNy4wMTEiLAogICAgbGluaz0iaHR0cHM6Ly93d3cuc2NpZW5jZWRpcmVjdC5jb20vc2NpZW5jZS9hcnRpY2xlL3BpaS9TMDA0MDE2MjUwOTAwMTA5NyIsCiAgICBrZXl3b3JkPSJGdXR1cmUtb3JpZW50ZWQga25vd2xlZGdlIiwKICAgIElEPSJMb2lra2FuZW4yMDA5MTE3NyIsCiAgICBzY2llbmNlZGlyZWN0PSIxIiwKICAgIHBsYWNleD0iVGVjaG5vbG9naWNhbCBGb3JlY2FzdGluZyBhbmQgU29jaWFsIENoYW5nZSIsCikpCicnJyk7\"));\n",
       "    "
      ],
      "text/plain": [
       "<IPython.core.display.Javascript object>"
      ]
     },
     "metadata": {},
     "output_type": "display_data"
    },
    {
     "data": {
      "application/javascript": [
       "$('span:contains(\"# Temp\")').closest('.cell').remove();"
      ],
      "text/plain": [
       "<IPython.core.display.Javascript object>"
      ]
     },
     "metadata": {},
     "output_type": "display_data"
    },
    {
     "data": {
      "application/javascript": [
       "\n",
       "        $('span:contains(\"# Temp\")').closest('.cell').remove();\n",
       "        var code = IPython.notebook.insert_cell_below('code');\n",
       "        code.set_text(atob(\"IyBUZW1wCmluc2VydCgnJycKa2lzaG9yZTIwMDZhID0gREIoV29ya1VucmVsYXRlZCgKICAgIDIwMDYsICJFbnRlcnByaXNlIGludGVncmF0aW9uIHVzaW5nIHRoZSBhZ2VudCBwYXJhZGlnbTogZm91bmRhdGlvbnMgb2YgbXVsdGktYWdlbnQtYmFzZWQgaW50ZWdyYXRpdmUgYnVzaW5lc3MgaW5mb3JtYXRpb24gc3lzdGVtcyIsCiAgICBkaXNwbGF5PSJraXNob3JlIiwKICAgIGF1dGhvcnM9IlJhaml2IEtpc2hvcmUgYW5kIEhvbmcgWmhhbmcgYW5kIFIuIFJhbWVzaCIsCiAgICBwbGFjZT1GQUtFLAogICAgcHA9IjQ4IC0gNzgiLAogICAgZW50cnl0eXBlPSJhcnRpY2xlIiwKICAgIHZvbHVtZT0iNDIiLAogICAgbnVtYmVyPSIxIiwKICAgIG5vdGU9IiIsCiAgICBpc3NuPSIwMTY3LTkyMzYiLAogICAgZG9pPSJodHRwczovL2RvaS5vcmcvMTAuMTAxNi9qLmRzcy4yMDA0LjA5LjAxMSIsCiAgICBsaW5rPSJodHRwczovL3d3dy5zY2llbmNlZGlyZWN0LmNvbS9zY2llbmNlL2FydGljbGUvcGlpL1MwMTY3OTIzNjA0MDAyMTU1IiwKICAgIGtleXdvcmQ9IkNvbmNlcHR1YWwgbW9kZWxpbmciLAogICAgSUQ9Iktpc2hvcmUyMDA2NDgiLAogICAgc2NpZW5jZWRpcmVjdD0iMSIsCiAgICBwbGFjZXg9IkRlY2lzaW9uIFN1cHBvcnQgU3lzdGVtcyIsCikpCicnJyk7\"));\n",
       "    "
      ],
      "text/plain": [
       "<IPython.core.display.Javascript object>"
      ]
     },
     "metadata": {},
     "output_type": "display_data"
    },
    {
     "data": {
      "application/javascript": [
       "$('span:contains(\"# Temp\")').closest('.cell').remove();"
      ],
      "text/plain": [
       "<IPython.core.display.Javascript object>"
      ]
     },
     "metadata": {},
     "output_type": "display_data"
    },
    {
     "data": {
      "application/javascript": [
       "\n",
       "        $('span:contains(\"# Temp\")').closest('.cell').remove();\n",
       "        var code = IPython.notebook.insert_cell_below('code');\n",
       "        code.set_text(atob(\"IyBUZW1wCmluc2VydCgnJycKa2lzaG9yZTIwMDZhID0gREIoV29ya1VucmVsYXRlZCgKICAgIDIwMDYsICJFbnRlcnByaXNlIGludGVncmF0aW9uIHVzaW5nIHRoZSBhZ2VudCBwYXJhZGlnbTogZm91bmRhdGlvbnMgb2YgbXVsdGktYWdlbnQtYmFzZWQgaW50ZWdyYXRpdmUgYnVzaW5lc3MgaW5mb3JtYXRpb24gc3lzdGVtcyIsCiAgICBkaXNwbGF5PSJraXNob3JlIiwKICAgIGF1dGhvcnM9IlJhaml2IEtpc2hvcmUgYW5kIEhvbmcgWmhhbmcgYW5kIFIuIFJhbWVzaCIsCiAgICBwbGFjZT1GQUtFLAogICAgcHA9IjQ4IC0gNzgiLAogICAgZW50cnl0eXBlPSJhcnRpY2xlIiwKICAgIHZvbHVtZT0iNDIiLAogICAgbnVtYmVyPSIxIiwKICAgIG5vdGU9IiIsCiAgICBpc3NuPSIwMTY3LTkyMzYiLAogICAgZG9pPSJodHRwczovL2RvaS5vcmcvMTAuMTAxNi9qLmRzcy4yMDA0LjA5LjAxMSIsCiAgICBsaW5rPSJodHRwczovL3d3dy5zY2llbmNlZGlyZWN0LmNvbS9zY2llbmNlL2FydGljbGUvcGlpL1MwMTY3OTIzNjA0MDAyMTU1IiwKICAgIGtleXdvcmQ9IkNvbmNlcHR1YWwgbW9kZWxpbmciLAogICAgSUQ9Iktpc2hvcmUyMDA2NDgiLAogICAgc2NpZW5jZWRpcmVjdD0iMSIsCiAgICBwbGFjZXg9IkRlY2lzaW9uIFN1cHBvcnQgU3lzdGVtcyIsCikpCicnJyk7\"));\n",
       "    "
      ],
      "text/plain": [
       "<IPython.core.display.Javascript object>"
      ]
     },
     "metadata": {},
     "output_type": "display_data"
    },
    {
     "data": {
      "application/javascript": [
       "$('span:contains(\"# Temp\")').closest('.cell').remove();"
      ],
      "text/plain": [
       "<IPython.core.display.Javascript object>"
      ]
     },
     "metadata": {},
     "output_type": "display_data"
    },
    {
     "data": {
      "application/javascript": [
       "\n",
       "        $('span:contains(\"# Temp\")').closest('.cell').remove();\n",
       "        var code = IPython.notebook.insert_cell_below('code');\n",
       "        code.set_text(atob(\"IyBUZW1wCmluc2VydCgnJycKZm93bGVyMTk5N2EgPSBEQihXb3JrVW5yZWxhdGVkKAogICAgMTk5NywgIkFuIGV4cGVydCBzeXN0ZW0gaW4gdGhlIGRvbWFpbiBvZiBzb2Z0d2FyZSB0ZWNobm9sb2d5IHRyYW5zZmVyIiwKICAgIGRpc3BsYXk9ImZvd2xlciIsCiAgICBhdXRob3JzPSJQLiBGb3dsZXIgYW5kIEkuIEdhcmPtYSBNYXJ07W4gYW5kIE4uIEp1cmlzdG8gYW5kIEwuIExldmluZSBhbmQgSi5MLiBNb3JhbnQiLAogICAgcGxhY2U9RkFLRSwKICAgIHBwPSIyNzUgLSAzMDAiLAogICAgZW50cnl0eXBlPSJhcnRpY2xlIiwKICAgIHZvbHVtZT0iMTIiLAogICAgbnVtYmVyPSIzIiwKICAgIG5vdGU9IiIsCiAgICBpc3NuPSIwOTU3LTQxNzQiLAogICAgZG9pPSJodHRwczovL2RvaS5vcmcvMTAuMTAxNi9TMDk1Ny00MTc0KDk2KTAwMTAwLTUiLAogICAgbGluaz0iaHR0cHM6Ly93d3cuc2NpZW5jZWRpcmVjdC5jb20vc2NpZW5jZS9hcnRpY2xlL3BpaS9TMDk1NzQxNzQ5NjAwMTAwNSIsCiAgICBJRD0iRm93bGVyMTk5NzI3NSIsCiAgICBzY2llbmNlZGlyZWN0PSIxIiwKICAgIHBsYWNleD0iRXhwZXJ0IFN5c3RlbXMgd2l0aCBBcHBsaWNhdGlvbnMiLAopKQonJycpOw==\"));\n",
       "    "
      ],
      "text/plain": [
       "<IPython.core.display.Javascript object>"
      ]
     },
     "metadata": {},
     "output_type": "display_data"
    },
    {
     "data": {
      "application/javascript": [
       "$('span:contains(\"# Temp\")').closest('.cell').remove();"
      ],
      "text/plain": [
       "<IPython.core.display.Javascript object>"
      ]
     },
     "metadata": {},
     "output_type": "display_data"
    },
    {
     "data": {
      "application/javascript": [
       "\n",
       "        $('span:contains(\"# Temp\")').closest('.cell').remove();\n",
       "        var code = IPython.notebook.insert_cell_below('code');\n",
       "        code.set_text(atob(\"IyBUZW1wCmluc2VydCgnJycKZm93bGVyMTk5N2EgPSBEQihXb3JrVW5yZWxhdGVkKAogICAgMTk5NywgIkFuIGV4cGVydCBzeXN0ZW0gaW4gdGhlIGRvbWFpbiBvZiBzb2Z0d2FyZSB0ZWNobm9sb2d5IHRyYW5zZmVyIiwKICAgIGRpc3BsYXk9ImZvd2xlciIsCiAgICBhdXRob3JzPSJQLiBGb3dsZXIgYW5kIEkuIEdhcmPtYSBNYXJ07W4gYW5kIE4uIEp1cmlzdG8gYW5kIEwuIExldmluZSBhbmQgSi5MLiBNb3JhbnQiLAogICAgcGxhY2U9RkFLRSwKICAgIHBwPSIyNzUgLSAzMDAiLAogICAgZW50cnl0eXBlPSJhcnRpY2xlIiwKICAgIHZvbHVtZT0iMTIiLAogICAgbnVtYmVyPSIzIiwKICAgIG5vdGU9IiIsCiAgICBpc3NuPSIwOTU3LTQxNzQiLAogICAgZG9pPSJodHRwczovL2RvaS5vcmcvMTAuMTAxNi9TMDk1Ny00MTc0KDk2KTAwMTAwLTUiLAogICAgbGluaz0iaHR0cHM6Ly93d3cuc2NpZW5jZWRpcmVjdC5jb20vc2NpZW5jZS9hcnRpY2xlL3BpaS9TMDk1NzQxNzQ5NjAwMTAwNSIsCiAgICBJRD0iRm93bGVyMTk5NzI3NSIsCiAgICBzY2llbmNlZGlyZWN0PSIxIiwKICAgIHBsYWNleD0iRXhwZXJ0IFN5c3RlbXMgd2l0aCBBcHBsaWNhdGlvbnMiLAopKQonJycpOw==\"));\n",
       "    "
      ],
      "text/plain": [
       "<IPython.core.display.Javascript object>"
      ]
     },
     "metadata": {},
     "output_type": "display_data"
    },
    {
     "data": {
      "application/javascript": [
       "$('span:contains(\"# Temp\")').closest('.cell').remove();"
      ],
      "text/plain": [
       "<IPython.core.display.Javascript object>"
      ]
     },
     "metadata": {},
     "output_type": "display_data"
    },
    {
     "data": {
      "application/javascript": [
       "\n",
       "        $('span:contains(\"# Temp\")').closest('.cell').remove();\n",
       "        var code = IPython.notebook.insert_cell_below('code');\n",
       "        code.set_text(atob(\"IyBUZW1wCmluc2VydCgnJycKZW1hbTIwMDFhID0gREIoV29ya1VucmVsYXRlZCgKICAgIDIwMDEsICJBbiBlbXBpcmljYWwgZXZhbHVhdGlvbiBvZiB0aGUgSVNPL0lFQyAxNTUwNCBhc3Nlc3NtZW50IG1vZGVsIiwKICAgIGRpc3BsYXk9ImVtYW0iLAogICAgYXV0aG9ycz0iS2hhbGVkIEVsIEVtYW0gYW5kIEhvLVdvbiBKdW5nIiwKICAgIHBsYWNlPUpTUywKICAgIHBwPSIyMyAtIDQxIiwKICAgIGVudHJ5dHlwZT0iYXJ0aWNsZSIsCiAgICB2b2x1bWU9IjU5IiwKICAgIG51bWJlcj0iMSIsCiAgICBub3RlPSIiLAogICAgaXNzbj0iMDE2NC0xMjEyIiwKICAgIGRvaT0iaHR0cHM6Ly9kb2kub3JnLzEwLjEwMTYvUzAxNjQtMTIxMigwMSkwMDA0Ni0yIiwKICAgIGxpbms9Imh0dHBzOi8vd3d3LnNjaWVuY2VkaXJlY3QuY29tL3NjaWVuY2UvYXJ0aWNsZS9waWkvUzAxNjQxMjEyMDEwMDA0NjIiLAogICAga2V5d29yZD0iU29mdHdhcmUgcHJvY2VzcyIsCiAgICBJRD0iRW1hbTIwMDEyMyIsCiAgICBzY2llbmNlZGlyZWN0PSIxIiwKICAgIHBsYWNleD0iSm91cm5hbCBvZiBTeXN0ZW1zIGFuZCBTb2Z0d2FyZSIsCikpCicnJyk7\"));\n",
       "    "
      ],
      "text/plain": [
       "<IPython.core.display.Javascript object>"
      ]
     },
     "metadata": {},
     "output_type": "display_data"
    },
    {
     "data": {
      "application/javascript": [
       "$('span:contains(\"# Temp\")').closest('.cell').remove();"
      ],
      "text/plain": [
       "<IPython.core.display.Javascript object>"
      ]
     },
     "metadata": {},
     "output_type": "display_data"
    },
    {
     "data": {
      "application/javascript": [
       "\n",
       "        $('span:contains(\"# Temp\")').closest('.cell').remove();\n",
       "        var code = IPython.notebook.insert_cell_below('code');\n",
       "        code.set_text(atob(\"IyBUZW1wCmluc2VydCgnJycKZW1hbTIwMDFhID0gREIoV29ya1VucmVsYXRlZCgKICAgIDIwMDEsICJBbiBlbXBpcmljYWwgZXZhbHVhdGlvbiBvZiB0aGUgSVNPL0lFQyAxNTUwNCBhc3Nlc3NtZW50IG1vZGVsIiwKICAgIGRpc3BsYXk9ImVtYW0iLAogICAgYXV0aG9ycz0iS2hhbGVkIEVsIEVtYW0gYW5kIEhvLVdvbiBKdW5nIiwKICAgIHBsYWNlPUpTUywKICAgIHBwPSIyMyAtIDQxIiwKICAgIGVudHJ5dHlwZT0iYXJ0aWNsZSIsCiAgICB2b2x1bWU9IjU5IiwKICAgIG51bWJlcj0iMSIsCiAgICBub3RlPSIiLAogICAgaXNzbj0iMDE2NC0xMjEyIiwKICAgIGRvaT0iaHR0cHM6Ly9kb2kub3JnLzEwLjEwMTYvUzAxNjQtMTIxMigwMSkwMDA0Ni0yIiwKICAgIGxpbms9Imh0dHBzOi8vd3d3LnNjaWVuY2VkaXJlY3QuY29tL3NjaWVuY2UvYXJ0aWNsZS9waWkvUzAxNjQxMjEyMDEwMDA0NjIiLAogICAga2V5d29yZD0iU29mdHdhcmUgcHJvY2VzcyIsCiAgICBJRD0iRW1hbTIwMDEyMyIsCiAgICBzY2llbmNlZGlyZWN0PSIxIiwKICAgIHBsYWNleD0iSm91cm5hbCBvZiBTeXN0ZW1zIGFuZCBTb2Z0d2FyZSIsCikpCicnJyk7\"));\n",
       "    "
      ],
      "text/plain": [
       "<IPython.core.display.Javascript object>"
      ]
     },
     "metadata": {},
     "output_type": "display_data"
    },
    {
     "data": {
      "application/javascript": [
       "$('span:contains(\"# Temp\")').closest('.cell').remove();"
      ],
      "text/plain": [
       "<IPython.core.display.Javascript object>"
      ]
     },
     "metadata": {},
     "output_type": "display_data"
    },
    {
     "data": {
      "application/javascript": [
       "\n",
       "        $('span:contains(\"# Temp\")').closest('.cell').remove();\n",
       "        var code = IPython.notebook.insert_cell_below('code');\n",
       "        code.set_text(atob(\"IyBUZW1wCmluc2VydCgnJycKcmFscGgyMDE1YSA9IERCKFdvcmtVbnJlbGF0ZWQoCiAgICAyMDE1LCAiVGhlIFNlbnNlbWFraW5nLUNvZXZvbHV0aW9uLUltcGxlbWVudGF0aW9uIFRoZW9yeSBvZiBzb2Z0d2FyZSBkZXNpZ24iLAogICAgZGlzcGxheT0icmFscGgiLAogICAgYXV0aG9ycz0iUGF1bCBSYWxwaCIsCiAgICBwbGFjZT1TQ1AsCiAgICBwcD0iMjEgLSA0MSIsCiAgICBlbnRyeXR5cGU9ImFydGljbGUiLAogICAgdm9sdW1lPSIxMDEiLAogICAgbnVtYmVyPSIiLAogICAgbm90ZT0iVG93YXJkcyBnZW5lcmFsIHRoZW9yaWVzIG9mIHNvZnR3YXJlIGVuZ2luZWVyaW5nIiwKICAgIGlzc249IjAxNjctNjQyMyIsCiAgICBkb2k9Imh0dHBzOi8vZG9pLm9yZy8xMC4xMDE2L2ouc2NpY28uMjAxNC4xMS4wMDciLAogICAgbGluaz0iaHR0cHM6Ly93d3cuc2NpZW5jZWRpcmVjdC5jb20vc2NpZW5jZS9hcnRpY2xlL3BpaS9TMDE2NzY0MjMxNDAwNTM5NSIsCiAgICBrZXl3b3JkPSJDb2V2b2x1dGlvbiIsCiAgICBJRD0iUmFscGgyMDE1MjEiLAogICAgc2NpZW5jZWRpcmVjdD0iMSIsCiAgICBwbGFjZXg9IlNjaWVuY2Ugb2YgQ29tcHV0ZXIgUHJvZ3JhbW1pbmciLAopKQonJycpOw==\"));\n",
       "    "
      ],
      "text/plain": [
       "<IPython.core.display.Javascript object>"
      ]
     },
     "metadata": {},
     "output_type": "display_data"
    },
    {
     "data": {
      "application/javascript": [
       "$('span:contains(\"# Temp\")').closest('.cell').remove();"
      ],
      "text/plain": [
       "<IPython.core.display.Javascript object>"
      ]
     },
     "metadata": {},
     "output_type": "display_data"
    },
    {
     "data": {
      "application/javascript": [
       "\n",
       "        $('span:contains(\"# Temp\")').closest('.cell').remove();\n",
       "        var code = IPython.notebook.insert_cell_below('code');\n",
       "        code.set_text(atob(\"IyBUZW1wCmluc2VydCgnJycKcmFscGgyMDE1YSA9IERCKFdvcmtVbnJlbGF0ZWQoCiAgICAyMDE1LCAiVGhlIFNlbnNlbWFraW5nLUNvZXZvbHV0aW9uLUltcGxlbWVudGF0aW9uIFRoZW9yeSBvZiBzb2Z0d2FyZSBkZXNpZ24iLAogICAgZGlzcGxheT0icmFscGgiLAogICAgYXV0aG9ycz0iUGF1bCBSYWxwaCIsCiAgICBwbGFjZT1TQ1AsCiAgICBwcD0iMjEgLSA0MSIsCiAgICBlbnRyeXR5cGU9ImFydGljbGUiLAogICAgdm9sdW1lPSIxMDEiLAogICAgbnVtYmVyPSIiLAogICAgbm90ZT0iVG93YXJkcyBnZW5lcmFsIHRoZW9yaWVzIG9mIHNvZnR3YXJlIGVuZ2luZWVyaW5nIiwKICAgIGlzc249IjAxNjctNjQyMyIsCiAgICBkb2k9Imh0dHBzOi8vZG9pLm9yZy8xMC4xMDE2L2ouc2NpY28uMjAxNC4xMS4wMDciLAogICAgbGluaz0iaHR0cHM6Ly93d3cuc2NpZW5jZWRpcmVjdC5jb20vc2NpZW5jZS9hcnRpY2xlL3BpaS9TMDE2NzY0MjMxNDAwNTM5NSIsCiAgICBrZXl3b3JkPSJDb2V2b2x1dGlvbiIsCiAgICBJRD0iUmFscGgyMDE1MjEiLAogICAgc2NpZW5jZWRpcmVjdD0iMSIsCiAgICBwbGFjZXg9IlNjaWVuY2Ugb2YgQ29tcHV0ZXIgUHJvZ3JhbW1pbmciLAopKQonJycpOw==\"));\n",
       "    "
      ],
      "text/plain": [
       "<IPython.core.display.Javascript object>"
      ]
     },
     "metadata": {},
     "output_type": "display_data"
    },
    {
     "data": {
      "application/javascript": [
       "$('span:contains(\"# Temp\")').closest('.cell').remove();"
      ],
      "text/plain": [
       "<IPython.core.display.Javascript object>"
      ]
     },
     "metadata": {},
     "output_type": "display_data"
    },
    {
     "data": {
      "application/javascript": [
       "\n",
       "        $('span:contains(\"# Temp\")').closest('.cell').remove();\n",
       "        var code = IPython.notebook.insert_cell_below('code');\n",
       "        code.set_text(atob(\"IyBUZW1wCmluc2VydCgnJycKcm9tYmFjaDE5OTVhID0gREIoV29ya1VucmVsYXRlZCgKICAgIDE5OTUsICJEaXJlY3Rpb25zIGluIFNvZnR3YXJlIFByb2Nlc3MgUmVzZWFyY2giLAogICAgZGlzcGxheT0icm9tYmFjaCIsCiAgICBhdXRob3JzPSJILiBEaWV0ZXIgUm9tYmFjaCBhbmQgTWFydGluIFZlcmxhZ2UiLAogICAgcGxhY2U9RkFLRSwKICAgIHBwPSIxIC0gNjMiLAogICAgZW50cnl0eXBlPSJpbmNvbGxlY3Rpb24iLAogICAgZWRpdG9yPSJNYXJ2aW4gWmVsa293aXR6IiwKICAgIHB1Ymxpc2hlcj0iRWxzZXZpZXIiLAogICAgdm9sdW1lPSI0MSIsCiAgICBzZXJpZXM9IkFkdmFuY2VzIGluIENvbXB1dGVycyIsCiAgICBpc3NuPSIwMDY1LTI0NTgiLAogICAgZG9pPSJodHRwczovL2RvaS5vcmcvMTAuMTAxNi9TMDA2NS0yNDU4KDA4KTYwMjMwLTIiLAogICAgbGluaz0iaHR0cHM6Ly93d3cuc2NpZW5jZWRpcmVjdC5jb20vc2NpZW5jZS9hcnRpY2xlL3BpaS9TMDA2NTI0NTgwODYwMjMwMiIsCiAgICBJRD0iUm9tYmFjaDE5OTUxIiwKICAgIHNjaWVuY2VkaXJlY3Q9IjEiLAogICAgcGxhY2V4PSIiLAopKQonJycpOw==\"));\n",
       "    "
      ],
      "text/plain": [
       "<IPython.core.display.Javascript object>"
      ]
     },
     "metadata": {},
     "output_type": "display_data"
    },
    {
     "data": {
      "application/javascript": [
       "$('span:contains(\"# Temp\")').closest('.cell').remove();"
      ],
      "text/plain": [
       "<IPython.core.display.Javascript object>"
      ]
     },
     "metadata": {},
     "output_type": "display_data"
    },
    {
     "data": {
      "application/javascript": [
       "\n",
       "        $('span:contains(\"# Temp\")').closest('.cell').remove();\n",
       "        var code = IPython.notebook.insert_cell_below('code');\n",
       "        code.set_text(atob(\"IyBUZW1wCmluc2VydCgnJycKcm9tYmFjaDE5OTVhID0gREIoV29ya1VucmVsYXRlZCgKICAgIDE5OTUsICJEaXJlY3Rpb25zIGluIFNvZnR3YXJlIFByb2Nlc3MgUmVzZWFyY2giLAogICAgZGlzcGxheT0icm9tYmFjaCIsCiAgICBhdXRob3JzPSJILiBEaWV0ZXIgUm9tYmFjaCBhbmQgTWFydGluIFZlcmxhZ2UiLAogICAgcGxhY2U9RkFLRSwKICAgIHBwPSIxIC0gNjMiLAogICAgZW50cnl0eXBlPSJpbmNvbGxlY3Rpb24iLAogICAgZWRpdG9yPSJNYXJ2aW4gWmVsa293aXR6IiwKICAgIHB1Ymxpc2hlcj0iRWxzZXZpZXIiLAogICAgdm9sdW1lPSI0MSIsCiAgICBzZXJpZXM9IkFkdmFuY2VzIGluIENvbXB1dGVycyIsCiAgICBpc3NuPSIwMDY1LTI0NTgiLAogICAgZG9pPSJodHRwczovL2RvaS5vcmcvMTAuMTAxNi9TMDA2NS0yNDU4KDA4KTYwMjMwLTIiLAogICAgbGluaz0iaHR0cHM6Ly93d3cuc2NpZW5jZWRpcmVjdC5jb20vc2NpZW5jZS9hcnRpY2xlL3BpaS9TMDA2NTI0NTgwODYwMjMwMiIsCiAgICBJRD0iUm9tYmFjaDE5OTUxIiwKICAgIHNjaWVuY2VkaXJlY3Q9IjEiLAogICAgcGxhY2V4PSIiLAopKQonJycpOw==\"));\n",
       "    "
      ],
      "text/plain": [
       "<IPython.core.display.Javascript object>"
      ]
     },
     "metadata": {},
     "output_type": "display_data"
    },
    {
     "data": {
      "application/javascript": [
       "$('span:contains(\"# Temp\")').closest('.cell').remove();"
      ],
      "text/plain": [
       "<IPython.core.display.Javascript object>"
      ]
     },
     "metadata": {},
     "output_type": "display_data"
    },
    {
     "data": {
      "application/javascript": [
       "\n",
       "        $('span:contains(\"# Temp\")').closest('.cell').remove();\n",
       "        var code = IPython.notebook.insert_cell_below('code');\n",
       "        code.set_text(atob(\"IyBUZW1wCmluc2VydCgnJycKc2VvMjAxMmEgPSBEQihXb3JrVW5yZWxhdGVkKAogICAgMjAxMiwgIkxpZ2h0d2VpZ2h0IGVtYmVkZGVkIHNvZnR3YXJlIHBlcmZvcm1hbmNlIGFuYWx5c2lzIG1ldGhvZCBieSBrZXJuZWwgaGFjayBhbmQgaXRzIGluZHVzdHJpYWwgZmllbGQgc3R1ZHkiLAogICAgZGlzcGxheT0ic2VvIiwKICAgIGF1dGhvcnM9Ikpvb3lvdW5nIFNlbyBhbmQgQnlvdW5nanUgQ2hvaSBhbmQgU3Vlbmctd2FuIFlhbmciLAogICAgcGxhY2U9SlNTLAogICAgcHA9IjI4IC0gNDIiLAogICAgZW50cnl0eXBlPSJhcnRpY2xlIiwKICAgIHZvbHVtZT0iODUiLAogICAgbnVtYmVyPSIxIiwKICAgIG5vdGU9IkR5bmFtaWMgQW5hbHlzaXMgYW5kIFRlc3Rpbmcgb2YgRW1iZWRkZWQgU29mdHdhcmUiLAogICAgaXNzbj0iMDE2NC0xMjEyIiwKICAgIGRvaT0iaHR0cHM6Ly9kb2kub3JnLzEwLjEwMTYvai5qc3MuMjAxMS4wMy4wNDkiLAogICAgbGluaz0iaHR0cHM6Ly93d3cuc2NpZW5jZWRpcmVjdC5jb20vc2NpZW5jZS9hcnRpY2xlL3BpaS9TMDE2NDEyMTIxMTAwMDc4MSIsCiAgICBrZXl3b3JkPSJFbWJlZGRlZCBzeXN0ZW0iLAogICAgSUQ9IlNlbzIwMTIyOCIsCiAgICBzY2llbmNlZGlyZWN0PSIxIiwKICAgIHBsYWNleD0iSm91cm5hbCBvZiBTeXN0ZW1zIGFuZCBTb2Z0d2FyZSIsCikpCicnJyk7\"));\n",
       "    "
      ],
      "text/plain": [
       "<IPython.core.display.Javascript object>"
      ]
     },
     "metadata": {},
     "output_type": "display_data"
    },
    {
     "data": {
      "application/javascript": [
       "$('span:contains(\"# Temp\")').closest('.cell').remove();"
      ],
      "text/plain": [
       "<IPython.core.display.Javascript object>"
      ]
     },
     "metadata": {},
     "output_type": "display_data"
    },
    {
     "data": {
      "application/javascript": [
       "\n",
       "        $('span:contains(\"# Temp\")').closest('.cell').remove();\n",
       "        var code = IPython.notebook.insert_cell_below('code');\n",
       "        code.set_text(atob(\"IyBUZW1wCmluc2VydCgnJycKc2VvMjAxMmEgPSBEQihXb3JrVW5yZWxhdGVkKAogICAgMjAxMiwgIkxpZ2h0d2VpZ2h0IGVtYmVkZGVkIHNvZnR3YXJlIHBlcmZvcm1hbmNlIGFuYWx5c2lzIG1ldGhvZCBieSBrZXJuZWwgaGFjayBhbmQgaXRzIGluZHVzdHJpYWwgZmllbGQgc3R1ZHkiLAogICAgZGlzcGxheT0ic2VvIiwKICAgIGF1dGhvcnM9Ikpvb3lvdW5nIFNlbyBhbmQgQnlvdW5nanUgQ2hvaSBhbmQgU3Vlbmctd2FuIFlhbmciLAogICAgcGxhY2U9SlNTLAogICAgcHA9IjI4IC0gNDIiLAogICAgZW50cnl0eXBlPSJhcnRpY2xlIiwKICAgIHZvbHVtZT0iODUiLAogICAgbnVtYmVyPSIxIiwKICAgIG5vdGU9IkR5bmFtaWMgQW5hbHlzaXMgYW5kIFRlc3Rpbmcgb2YgRW1iZWRkZWQgU29mdHdhcmUiLAogICAgaXNzbj0iMDE2NC0xMjEyIiwKICAgIGRvaT0iaHR0cHM6Ly9kb2kub3JnLzEwLjEwMTYvai5qc3MuMjAxMS4wMy4wNDkiLAogICAgbGluaz0iaHR0cHM6Ly93d3cuc2NpZW5jZWRpcmVjdC5jb20vc2NpZW5jZS9hcnRpY2xlL3BpaS9TMDE2NDEyMTIxMTAwMDc4MSIsCiAgICBrZXl3b3JkPSJFbWJlZGRlZCBzeXN0ZW0iLAogICAgSUQ9IlNlbzIwMTIyOCIsCiAgICBzY2llbmNlZGlyZWN0PSIxIiwKICAgIHBsYWNleD0iSm91cm5hbCBvZiBTeXN0ZW1zIGFuZCBTb2Z0d2FyZSIsCikpCicnJyk7\"));\n",
       "    "
      ],
      "text/plain": [
       "<IPython.core.display.Javascript object>"
      ]
     },
     "metadata": {},
     "output_type": "display_data"
    },
    {
     "data": {
      "application/javascript": [
       "$('span:contains(\"# Temp\")').closest('.cell').remove();"
      ],
      "text/plain": [
       "<IPython.core.display.Javascript object>"
      ]
     },
     "metadata": {},
     "output_type": "display_data"
    },
    {
     "data": {
      "application/javascript": [
       "\n",
       "        $('span:contains(\"# Temp\")').closest('.cell').remove();\n",
       "        var code = IPython.notebook.insert_cell_below('code');\n",
       "        code.set_text(atob(\"IyBUZW1wCmluc2VydCgnJycKYXVlcjE5OTZhID0gREIoV29ya1VucmVsYXRlZCgKICAgIDE5OTYsICJJbXByb3ZpbmcgUiZhbXA7RCBwcm9jZXNzZXMgYnkgYW4gXElTT1wgOTAwMS1iYXNlZCBRdWFsaXR5IE1hbmFnZW1lbnQgU3lzdGVtIiwKICAgIGRpc3BsYXk9ImF1ZXIiLAogICAgYXV0aG9ycz0iQW50dGkgQXVlciBhbmQgSnVra2EgS2FyamFsYWluZW4gYW5kIFZlaWtrbyBTZXBw5G5lbiIsCiAgICBwbGFjZT1GQUtFLAogICAgcHA9IjY0MyAtIDY1MSIsCiAgICBlbnRyeXR5cGU9ImFydGljbGUiLAogICAgdm9sdW1lPSI0MiIsCiAgICBudW1iZXI9IjgiLAogICAgbm90ZT0iU3BlY2lhbCBJc3N1ZTogXHtFU1BJVElcfSIsCiAgICBpc3NuPSIxMzgzLTc2MjEiLAogICAgZG9pPSJodHRwczovL2RvaS5vcmcvMTAuMTAxNi9TMTM4My03NjIxKDk2KTAwMDQ5LTUiLAogICAgbGluaz0iaHR0cHM6Ly93d3cuc2NpZW5jZWRpcmVjdC5jb20vc2NpZW5jZS9hcnRpY2xlL3BpaS9TMTM4Mzc2MjE5NjAwMDQ5NSIsCiAgICBrZXl3b3JkPSJFbWJlZGRlZCBzeXN0ZW1zIGRldmVsb3BtZW50IiwKICAgIElEPSJBdWVyMTk5NjY0MyIsCiAgICBzY2llbmNlZGlyZWN0PSIxIiwKICAgIHBsYWNleD0iSm91cm5hbCBvZiBTeXN0ZW1zIEFyY2hpdGVjdHVyZSIsCikpCicnJyk7\"));\n",
       "    "
      ],
      "text/plain": [
       "<IPython.core.display.Javascript object>"
      ]
     },
     "metadata": {},
     "output_type": "display_data"
    },
    {
     "data": {
      "application/javascript": [
       "$('span:contains(\"# Temp\")').closest('.cell').remove();"
      ],
      "text/plain": [
       "<IPython.core.display.Javascript object>"
      ]
     },
     "metadata": {},
     "output_type": "display_data"
    },
    {
     "data": {
      "application/javascript": [
       "\n",
       "        $('span:contains(\"# Temp\")').closest('.cell').remove();\n",
       "        var code = IPython.notebook.insert_cell_below('code');\n",
       "        code.set_text(atob(\"IyBUZW1wCmluc2VydCgnJycKYXVlcjE5OTZhID0gREIoV29ya1VucmVsYXRlZCgKICAgIDE5OTYsICJJbXByb3ZpbmcgUiZhbXA7RCBwcm9jZXNzZXMgYnkgYW4gXElTT1wgOTAwMS1iYXNlZCBRdWFsaXR5IE1hbmFnZW1lbnQgU3lzdGVtIiwKICAgIGRpc3BsYXk9ImF1ZXIiLAogICAgYXV0aG9ycz0iQW50dGkgQXVlciBhbmQgSnVra2EgS2FyamFsYWluZW4gYW5kIFZlaWtrbyBTZXBw5G5lbiIsCiAgICBwbGFjZT1GQUtFLAogICAgcHA9IjY0MyAtIDY1MSIsCiAgICBlbnRyeXR5cGU9ImFydGljbGUiLAogICAgdm9sdW1lPSI0MiIsCiAgICBudW1iZXI9IjgiLAogICAgbm90ZT0iU3BlY2lhbCBJc3N1ZTogXHtFU1BJVElcfSIsCiAgICBpc3NuPSIxMzgzLTc2MjEiLAogICAgZG9pPSJodHRwczovL2RvaS5vcmcvMTAuMTAxNi9TMTM4My03NjIxKDk2KTAwMDQ5LTUiLAogICAgbGluaz0iaHR0cHM6Ly93d3cuc2NpZW5jZWRpcmVjdC5jb20vc2NpZW5jZS9hcnRpY2xlL3BpaS9TMTM4Mzc2MjE5NjAwMDQ5NSIsCiAgICBrZXl3b3JkPSJFbWJlZGRlZCBzeXN0ZW1zIGRldmVsb3BtZW50IiwKICAgIElEPSJBdWVyMTk5NjY0MyIsCiAgICBzY2llbmNlZGlyZWN0PSIxIiwKICAgIHBsYWNleD0iSm91cm5hbCBvZiBTeXN0ZW1zIEFyY2hpdGVjdHVyZSIsCikpCicnJyk7\"));\n",
       "    "
      ],
      "text/plain": [
       "<IPython.core.display.Javascript object>"
      ]
     },
     "metadata": {},
     "output_type": "display_data"
    },
    {
     "data": {
      "application/javascript": [
       "$('span:contains(\"# Temp\")').closest('.cell').remove();"
      ],
      "text/plain": [
       "<IPython.core.display.Javascript object>"
      ]
     },
     "metadata": {},
     "output_type": "display_data"
    },
    {
     "data": {
      "application/javascript": [
       "\n",
       "        $('span:contains(\"# Temp\")').closest('.cell').remove();\n",
       "        var code = IPython.notebook.insert_cell_below('code');\n",
       "        code.set_text(atob(\"IyBUZW1wCmluc2VydCgnJycKd2Vja2VubWFubjIwMTNhID0gREIoV29ya1VucmVsYXRlZCgKICAgIDIwMTMsICJNZXRob2RpYyBEZXNpZ24gb2YgYSBDdXN0b21pemVkIE1hdHVyaXR5IE1vZGVsIGZvciBHZW9tZXRyaWNhbCBUb2xlcmFuY2luZyIsCiAgICBkaXNwbGF5PSJ3ZWNrZW5tYW5uIiwKICAgIGF1dGhvcnM9IkFsYmVydCBXZWNrZW5tYW5uIGFuZCBH9mtoYW4gQWtrYXNvZ2x1IiwKICAgIHBsYWNlPUZBS0UsCiAgICBwcD0iMTE5IC0gMTI0IiwKICAgIGVudHJ5dHlwZT0iYXJ0aWNsZSIsCiAgICB2b2x1bWU9IjEwIiwKICAgIG51bWJlcj0iIiwKICAgIG5vdGU9IlRoZSBUd2VsZnRoIFx7Q0lSUFx9IENvbmZlcmVuY2Ugb24gQ29tcHV0ZXIgQWlkZWQgVG9sZXJhbmNpbmciLAogICAgaXNzbj0iMjIxMi04MjcxIiwKICAgIGRvaT0iaHR0cHM6Ly9kb2kub3JnLzEwLjEwMTYvai5wcm9jaXIuMjAxMy4wOC4wMjEiLAogICAgbGluaz0iaHR0cHM6Ly93d3cuc2NpZW5jZWRpcmVjdC5jb20vc2NpZW5jZS9hcnRpY2xlL3BpaS9TMjIxMjgyNzExMzAwNTcwMiIsCiAgICBrZXl3b3JkPSJkZWNpc2lvbi1tYWtpbmciLAogICAgSUQ9IldlY2tlbm1hbm4yMDEzMTE5IiwKICAgIHNjaWVuY2VkaXJlY3Q9IjEiLAogICAgcGxhY2V4PSJQcm9jZWRpYSBce0NJUlBcfSIsCikpCicnJyk7\"));\n",
       "    "
      ],
      "text/plain": [
       "<IPython.core.display.Javascript object>"
      ]
     },
     "metadata": {},
     "output_type": "display_data"
    },
    {
     "data": {
      "application/javascript": [
       "$('span:contains(\"# Temp\")').closest('.cell').remove();"
      ],
      "text/plain": [
       "<IPython.core.display.Javascript object>"
      ]
     },
     "metadata": {},
     "output_type": "display_data"
    },
    {
     "data": {
      "application/javascript": [
       "\n",
       "        $('span:contains(\"# Temp\")').closest('.cell').remove();\n",
       "        var code = IPython.notebook.insert_cell_below('code');\n",
       "        code.set_text(atob(\"IyBUZW1wCmluc2VydCgnJycKd2Vja2VubWFubjIwMTNhID0gREIoV29ya1VucmVsYXRlZCgKICAgIDIwMTMsICJNZXRob2RpYyBEZXNpZ24gb2YgYSBDdXN0b21pemVkIE1hdHVyaXR5IE1vZGVsIGZvciBHZW9tZXRyaWNhbCBUb2xlcmFuY2luZyIsCiAgICBkaXNwbGF5PSJ3ZWNrZW5tYW5uIiwKICAgIGF1dGhvcnM9IkFsYmVydCBXZWNrZW5tYW5uIGFuZCBH9mtoYW4gQWtrYXNvZ2x1IiwKICAgIHBsYWNlPUZBS0UsCiAgICBwcD0iMTE5IC0gMTI0IiwKICAgIGVudHJ5dHlwZT0iYXJ0aWNsZSIsCiAgICB2b2x1bWU9IjEwIiwKICAgIG51bWJlcj0iIiwKICAgIG5vdGU9IlRoZSBUd2VsZnRoIFx7Q0lSUFx9IENvbmZlcmVuY2Ugb24gQ29tcHV0ZXIgQWlkZWQgVG9sZXJhbmNpbmciLAogICAgaXNzbj0iMjIxMi04MjcxIiwKICAgIGRvaT0iaHR0cHM6Ly9kb2kub3JnLzEwLjEwMTYvai5wcm9jaXIuMjAxMy4wOC4wMjEiLAogICAgbGluaz0iaHR0cHM6Ly93d3cuc2NpZW5jZWRpcmVjdC5jb20vc2NpZW5jZS9hcnRpY2xlL3BpaS9TMjIxMjgyNzExMzAwNTcwMiIsCiAgICBrZXl3b3JkPSJkZWNpc2lvbi1tYWtpbmciLAogICAgSUQ9IldlY2tlbm1hbm4yMDEzMTE5IiwKICAgIHNjaWVuY2VkaXJlY3Q9IjEiLAogICAgcGxhY2V4PSJQcm9jZWRpYSBce0NJUlBcfSIsCikpCicnJyk7\"));\n",
       "    "
      ],
      "text/plain": [
       "<IPython.core.display.Javascript object>"
      ]
     },
     "metadata": {},
     "output_type": "display_data"
    },
    {
     "data": {
      "application/javascript": [
       "$('span:contains(\"# Temp\")').closest('.cell').remove();"
      ],
      "text/plain": [
       "<IPython.core.display.Javascript object>"
      ]
     },
     "metadata": {},
     "output_type": "display_data"
    },
    {
     "data": {
      "application/javascript": [
       "\n",
       "        $('span:contains(\"# Temp\")').closest('.cell').remove();\n",
       "        var code = IPython.notebook.insert_cell_below('code');\n",
       "        code.set_text(atob(\"IyBUZW1wCmluc2VydCgnJycKcGF0ZXJub3N0ZXIyMDE0YSA9IERCKFdvcmtVbnJlbGF0ZWQoCiAgICAyMDE0LCAiU29mdHdhcmUgZGV2ZWxvcG1lbnQgaW4gc3RhcnR1cCBjb21wYW5pZXM6IEEgc3lzdGVtYXRpYyBtYXBwaW5nIHN0dWR5IiwKICAgIGRpc3BsYXk9InBhdGVybm9zdGVyIiwKICAgIGF1dGhvcnM9Ik5pY29s8iBQYXRlcm5vc3RlciBhbmQgQ2FybWluZSBHaWFyZGlubyBhbmQgTWljaGFlbCBVbnRlcmthbG1zdGVpbmVyIGFuZCBUb255IEdvcnNjaGVrIGFuZCBQZWtrYSBBYnJhaGFtc3NvbiIsCiAgICBwbGFjZT1JU1QsCiAgICBwcD0iMTIwMCAtIDEyMTgiLAogICAgZW50cnl0eXBlPSJhcnRpY2xlIiwKICAgIHZvbHVtZT0iNTYiLAogICAgbnVtYmVyPSIxMCIsCiAgICBub3RlPSIiLAogICAgaXNzbj0iMDk1MC01ODQ5IiwKICAgIGRvaT0iaHR0cHM6Ly9kb2kub3JnLzEwLjEwMTYvai5pbmZzb2YuMjAxNC4wNC4wMTQiLAogICAgbGluaz0iaHR0cHM6Ly93d3cuc2NpZW5jZWRpcmVjdC5jb20vc2NpZW5jZS9hcnRpY2xlL3BpaS9TMDk1MDU4NDkxNDAwMDk1MCIsCiAgICBrZXl3b3JkPSJTeXN0ZW1hdGljIG1hcHBpbmcgc3R1ZHkiLAogICAgSUQ9IlBhdGVybm9zdGVyMjAxNDEyMDAiLAogICAgc2NpZW5jZWRpcmVjdD0iMSIsCiAgICBwbGFjZXg9IkluZm9ybWF0aW9uIGFuZCBTb2Z0d2FyZSBUZWNobm9sb2d5IiwKKSkKJycnKTs=\"));\n",
       "    "
      ],
      "text/plain": [
       "<IPython.core.display.Javascript object>"
      ]
     },
     "metadata": {},
     "output_type": "display_data"
    },
    {
     "data": {
      "application/javascript": [
       "$('span:contains(\"# Temp\")').closest('.cell').remove();"
      ],
      "text/plain": [
       "<IPython.core.display.Javascript object>"
      ]
     },
     "metadata": {},
     "output_type": "display_data"
    },
    {
     "data": {
      "application/javascript": [
       "\n",
       "        $('span:contains(\"# Temp\")').closest('.cell').remove();\n",
       "        var code = IPython.notebook.insert_cell_below('code');\n",
       "        code.set_text(atob(\"IyBUZW1wCmluc2VydCgnJycKcGF0ZXJub3N0ZXIyMDE0YSA9IERCKFdvcmtVbnJlbGF0ZWQoCiAgICAyMDE0LCAiU29mdHdhcmUgZGV2ZWxvcG1lbnQgaW4gc3RhcnR1cCBjb21wYW5pZXM6IEEgc3lzdGVtYXRpYyBtYXBwaW5nIHN0dWR5IiwKICAgIGRpc3BsYXk9InBhdGVybm9zdGVyIiwKICAgIGF1dGhvcnM9Ik5pY29s8iBQYXRlcm5vc3RlciBhbmQgQ2FybWluZSBHaWFyZGlubyBhbmQgTWljaGFlbCBVbnRlcmthbG1zdGVpbmVyIGFuZCBUb255IEdvcnNjaGVrIGFuZCBQZWtrYSBBYnJhaGFtc3NvbiIsCiAgICBwbGFjZT1JU1QsCiAgICBwcD0iMTIwMCAtIDEyMTgiLAogICAgZW50cnl0eXBlPSJhcnRpY2xlIiwKICAgIHZvbHVtZT0iNTYiLAogICAgbnVtYmVyPSIxMCIsCiAgICBub3RlPSIiLAogICAgaXNzbj0iMDk1MC01ODQ5IiwKICAgIGRvaT0iaHR0cHM6Ly9kb2kub3JnLzEwLjEwMTYvai5pbmZzb2YuMjAxNC4wNC4wMTQiLAogICAgbGluaz0iaHR0cHM6Ly93d3cuc2NpZW5jZWRpcmVjdC5jb20vc2NpZW5jZS9hcnRpY2xlL3BpaS9TMDk1MDU4NDkxNDAwMDk1MCIsCiAgICBrZXl3b3JkPSJTeXN0ZW1hdGljIG1hcHBpbmcgc3R1ZHkiLAogICAgSUQ9IlBhdGVybm9zdGVyMjAxNDEyMDAiLAogICAgc2NpZW5jZWRpcmVjdD0iMSIsCiAgICBwbGFjZXg9IkluZm9ybWF0aW9uIGFuZCBTb2Z0d2FyZSBUZWNobm9sb2d5IiwKKSkKJycnKTs=\"));\n",
       "    "
      ],
      "text/plain": [
       "<IPython.core.display.Javascript object>"
      ]
     },
     "metadata": {},
     "output_type": "display_data"
    }
   ],
   "source": [
    "from custom_snowballing import UnrelatedInsert\n",
    "UnrelatedInsert(\"sciencedirect\", articles=article_list)"
   ]
  },
  {
   "cell_type": "code",
   "execution_count": 79,
   "metadata": {},
   "outputs": [
    {
     "name": "stdout",
     "output_type": "stream",
     "text": [
      "-Insert: paternoster2014a\n"
     ]
    }
   ],
   "source": [
    "# Temp\n",
    "insert('''\n",
    "paternoster2014a = DB(WorkUnrelated(\n",
    "    2014, \"Software development in startup companies: A systematic mapping study\",\n",
    "    display=\"paternoster\",\n",
    "    authors=\"Nicolò Paternoster and Carmine Giardino and Michael Unterkalmsteiner and Tony Gorschek and Pekka Abrahamsson\",\n",
    "    place=IST,\n",
    "    pp=\"1200 - 1218\",\n",
    "    entrytype=\"article\",\n",
    "    volume=\"56\",\n",
    "    number=\"10\",\n",
    "    note=\"\",\n",
    "    issn=\"0950-5849\",\n",
    "    doi=\"https://doi.org/10.1016/j.infsof.2014.04.014\",\n",
    "    link=\"https://www.sciencedirect.com/science/article/pii/S0950584914000950\",\n",
    "    keyword=\"Systematic mapping study\",\n",
    "    ID=\"Paternoster20141200\",\n",
    "    sciencedirect=\"1\",\n",
    "    placex=\"Information and Software Technology\",\n",
    "))\n",
    "''');"
   ]
  },
  {
   "cell_type": "code",
   "execution_count": null,
   "metadata": {
    "collapsed": true,
    "scrolled": false
   },
   "outputs": [],
   "source": [
    "ArticleNavigator??"
   ]
  },
  {
   "cell_type": "code",
   "execution_count": null,
   "metadata": {
    "collapsed": true
   },
   "outputs": [],
   "source": [
    "ArticleNavigator(articles=article_list)"
   ]
  }
 ],
 "metadata": {
  "kernelspec": {
   "display_name": "Python 3",
   "language": "python",
   "name": "python3"
  },
  "language_info": {
   "codemirror_mode": {
    "name": "ipython",
    "version": 3
   },
   "file_extension": ".py",
   "mimetype": "text/x-python",
   "name": "python",
   "nbconvert_exporter": "python",
   "pygments_lexer": "ipython3",
   "version": "3.6.0"
  },
  "toc": {
   "nav_menu": {
    "height": "12px",
    "width": "252px"
   },
   "number_sections": true,
   "sideBar": true,
   "skip_h1_title": false,
   "toc_cell": false,
   "toc_position": {},
   "toc_section_display": "block",
   "toc_window_display": false
  }
 },
 "nbformat": 4,
 "nbformat_minor": 2
}
