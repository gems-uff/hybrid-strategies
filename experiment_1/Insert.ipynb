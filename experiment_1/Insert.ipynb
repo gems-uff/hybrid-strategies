{
 "cells": [
  {
   "cell_type": "code",
   "execution_count": 26,
   "metadata": {
    "collapsed": true
   },
   "outputs": [],
   "source": [
    "import database\n",
    "from snowballing.operations import load_work, reload, work_by_varname\n",
    "from snowballing.snowballing import Converter\n",
    "from snowballing.snowballing import ArticleNavigator\n",
    "from snowballing.dbmanager import insert, set_attribute"
   ]
  },
  {
   "cell_type": "code",
   "execution_count": 27,
   "metadata": {
    "scrolled": false
   },
   "outputs": [
    {
     "data": {
      "application/vnd.jupyter.widget-view+json": {
       "model_id": "ee0f825643f64326993f723de63f3f0e",
       "version_major": 2,
       "version_minor": 0
      },
      "text/html": [
       "<p>Failed to display Jupyter Widget of type <code>VBox</code>.</p>\n",
       "<p>\n",
       "  If you're reading this message in Jupyter Notebook or JupyterLab, it may mean\n",
       "  that the widgets JavaScript is still loading. If this message persists, it\n",
       "  likely means that the widgets JavaScript library is either not installed or\n",
       "  not enabled. See the <a href=\"https://ipywidgets.readthedocs.io/en/stable/user_install.html\">Jupyter\n",
       "  Widgets Documentation</a> for setup instructions.\n",
       "</p>\n",
       "<p>\n",
       "  If you're reading this message in another notebook frontend (for example, a static\n",
       "  rendering on GitHub or <a href=\"https://nbviewer.jupyter.org/\">NBViewer</a>),\n",
       "  it may mean that your frontend doesn't currently support widgets.\n",
       "</p>\n"
      ],
      "text/plain": [
       "VBox(children=(HBox(children=(Dropdown(options={'BibTeX': 'bibtex', 'Text': 'text', '[N] author name place other year': 'citation', 'Quoted': 'quoted'}, value='bibtex'), Button(description='Set article_list variable', style=ButtonStyle()), Label(value=''))), HBox(children=(Textarea(value='', layout=Layout(height='500px', width='50%')), Textarea(value='', layout=Layout(height='500px', width='50%'))))))"
      ]
     },
     "metadata": {},
     "output_type": "display_data"
    }
   ],
   "source": [
    "Converter(\"bibtex\")"
   ]
  },
  {
   "cell_type": "code",
   "execution_count": 28,
   "metadata": {},
   "outputs": [
    {
     "data": {
      "text/plain": [
       "20"
      ]
     },
     "execution_count": 28,
     "metadata": {},
     "output_type": "execute_result"
    }
   ],
   "source": [
    "len(article_list)"
   ]
  },
  {
   "cell_type": "code",
   "execution_count": 29,
   "metadata": {
    "collapsed": true
   },
   "outputs": [],
   "source": [
    "from snowballing.operations import reload\n",
    "reload()\n"
   ]
  },
  {
   "cell_type": "code",
   "execution_count": null,
   "metadata": {
    "collapsed": true
   },
   "outputs": [],
   "source": []
  },
  {
   "cell_type": "code",
   "execution_count": null,
   "metadata": {
    "collapsed": true,
    "scrolled": false
   },
   "outputs": [],
   "source": [
    "ArticleNavigator??"
   ]
  },
  {
   "cell_type": "code",
   "execution_count": null,
   "metadata": {},
   "outputs": [],
   "source": [
    "ArticleNavigator(articles=article_list)"
   ]
  },
  {
   "cell_type": "code",
   "execution_count": null,
   "metadata": {
    "collapsed": true
   },
   "outputs": [],
   "source": []
  },
  {
   "cell_type": "code",
   "execution_count": 30,
   "metadata": {},
   "outputs": [
    {
     "data": {
      "application/vnd.jupyter.widget-view+json": {
       "model_id": "0fa41910452f4af4ae25ab26d4389f27",
       "version_major": 2,
       "version_minor": 0
      },
      "text/html": [
       "<p>Failed to display Jupyter Widget of type <code>VBox</code>.</p>\n",
       "<p>\n",
       "  If you're reading this message in Jupyter Notebook or JupyterLab, it may mean\n",
       "  that the widgets JavaScript is still loading. If this message persists, it\n",
       "  likely means that the widgets JavaScript library is either not installed or\n",
       "  not enabled. See the <a href=\"https://ipywidgets.readthedocs.io/en/stable/user_install.html\">Jupyter\n",
       "  Widgets Documentation</a> for setup instructions.\n",
       "</p>\n",
       "<p>\n",
       "  If you're reading this message in another notebook frontend (for example, a static\n",
       "  rendering on GitHub or <a href=\"https://nbviewer.jupyter.org/\">NBViewer</a>),\n",
       "  it may mean that your frontend doesn't currently support widgets.\n",
       "</p>\n"
      ],
      "text/plain": [
       "VBox(children=(HBox(children=(Button(description='Previous Article', disabled=True, icon='caret-left', style=ButtonStyle()), Button(description='Reload Article', icon='refresh', style=ButtonStyle()), Button(description='Next Article', icon='caret-right', style=ButtonStyle()))), HBox(children=(Dropdown(description='Type', index=5, options=('Work', 'WorkSnowball', 'WorkForward', 'WorkBackward', 'WorkOk', 'WorkUnrelated', 'WorkNoFile', 'WorkLang', 'Site', 'Email'), value='WorkUnrelated'), ToggleButton(value=False, description='File'))), HBox(children=(Text(value='', description='Due'), Text(value='', description='Place'))), HBox(children=(Text(value='', description='Year'), Text(value='', description='Prefix Var'))), HBox(children=(Text(value='', description='PDFPage'), Text(value='', description='Related'))), HBox(children=(Text(value='', description='Display'), Text(value='', description='Summary'))), HBox(children=(Text(value='', description='Star'), Text(value='', description='Link'))), HBox(children=(Text(value='1', description='gs'),)), HBox(children=(Button(description='Reload Article', icon='refresh', style=ButtonStyle()), IntSlider(value=0, max=19), Label(value='1/20'))), Output()))"
      ]
     },
     "metadata": {},
     "output_type": "display_data"
    },
    {
     "data": {
      "application/javascript": [
       "$('span:contains(\"# Temp\")').closest('.cell').remove();"
      ],
      "text/plain": [
       "<IPython.core.display.Javascript object>"
      ]
     },
     "metadata": {},
     "output_type": "display_data"
    },
    {
     "data": {
      "application/javascript": [
       "\n",
       "        $('span:contains(\"# Temp\")').closest('.cell').remove();\n",
       "        var code = IPython.notebook.insert_cell_below('code');\n",
       "        code.set_text(atob(\"IyBUZW1wCmluc2VydCgnJycnJycpOwpzZXRfYXR0cmlidXRlKCdtb2hhcGF0cmEyMDAxYScsICdvcmdhbml6YXRpb24nLCAnSUVFRSBDb21wdXRlciBTb2NpZXR5Jyk7CnNldF9hdHRyaWJ1dGUoJ21vaGFwYXRyYTIwMDFhJywgJ2dzJywgJzEnKTs=\"));\n",
       "    "
      ],
      "text/plain": [
       "<IPython.core.display.Javascript object>"
      ]
     },
     "metadata": {},
     "output_type": "display_data"
    },
    {
     "data": {
      "application/javascript": [
       "$('span:contains(\"# Temp\")').closest('.cell').remove();"
      ],
      "text/plain": [
       "<IPython.core.display.Javascript object>"
      ]
     },
     "metadata": {},
     "output_type": "display_data"
    },
    {
     "data": {
      "application/javascript": [
       "\n",
       "        $('span:contains(\"# Temp\")').closest('.cell').remove();\n",
       "        var code = IPython.notebook.insert_cell_below('code');\n",
       "        code.set_text(atob(\"IyBUZW1wCmluc2VydCgnJycKcG90dGVyMjAwMmEgPSBEQihXb3JrVW5yZWxhdGVkKAogICAgMjAwMiwgIk1ha2luZyBwcm9jZXNzIGltcHJvdmVtZW50IHdvcms6IGEgY29uY2lzZSBhY3Rpb24gZ3VpZGUgZm9yIHNvZnR3YXJlIG1hbmFnZXJzIGFuZCBwcmFjdGl0aW9uZXJzIiwKICAgIGRpc3BsYXk9InBvdHRlciIsCiAgICBhdXRob3JzPSJQb3R0ZXIsIE5laWwgYW5kIFNha3J5LCBNYXJ5IiwKICAgIHBsYWNlPUJvb2ssCiAgICBlbnRyeXR5cGU9ImJvb2siLAogICAgcHVibGlzaGVyPSJBZGRpc29uLVdlc2xleSIsCiAgICBJRD0icG90dGVyMjAwMm1ha2luZyIsCiAgICBncz0iMSIsCiAgICBwbGFjZXg9IiIsCikpCicnJyk7\"));\n",
       "    "
      ],
      "text/plain": [
       "<IPython.core.display.Javascript object>"
      ]
     },
     "metadata": {},
     "output_type": "display_data"
    },
    {
     "data": {
      "application/javascript": [
       "$('span:contains(\"# Temp\")').closest('.cell').remove();"
      ],
      "text/plain": [
       "<IPython.core.display.Javascript object>"
      ]
     },
     "metadata": {},
     "output_type": "display_data"
    },
    {
     "data": {
      "application/javascript": [
       "\n",
       "        $('span:contains(\"# Temp\")').closest('.cell').remove();\n",
       "        var code = IPython.notebook.insert_cell_below('code');\n",
       "        code.set_text(atob(\"IyBUZW1wCmluc2VydCgnJycKcG90dGVyMjAwMmEgPSBEQihXb3JrVW5yZWxhdGVkKAogICAgMjAwMiwgIk1ha2luZyBwcm9jZXNzIGltcHJvdmVtZW50IHdvcms6IGEgY29uY2lzZSBhY3Rpb24gZ3VpZGUgZm9yIHNvZnR3YXJlIG1hbmFnZXJzIGFuZCBwcmFjdGl0aW9uZXJzIiwKICAgIGRpc3BsYXk9InBvdHRlciIsCiAgICBhdXRob3JzPSJQb3R0ZXIsIE5laWwgYW5kIFNha3J5LCBNYXJ5IiwKICAgIHBsYWNlPUJvb2ssCiAgICBlbnRyeXR5cGU9ImJvb2siLAogICAgcHVibGlzaGVyPSJBZGRpc29uLVdlc2xleSIsCiAgICBJRD0icG90dGVyMjAwMm1ha2luZyIsCiAgICBncz0iMSIsCiAgICBwbGFjZXg9IiIsCikpCicnJyk7\"));\n",
       "    "
      ],
      "text/plain": [
       "<IPython.core.display.Javascript object>"
      ]
     },
     "metadata": {},
     "output_type": "display_data"
    },
    {
     "data": {
      "application/javascript": [
       "$('span:contains(\"# Temp\")').closest('.cell').remove();"
      ],
      "text/plain": [
       "<IPython.core.display.Javascript object>"
      ]
     },
     "metadata": {},
     "output_type": "display_data"
    },
    {
     "data": {
      "application/javascript": [
       "\n",
       "        $('span:contains(\"# Temp\")').closest('.cell').remove();\n",
       "        var code = IPython.notebook.insert_cell_below('code');\n",
       "        code.set_text(atob(\"IyBUZW1wCmluc2VydCgnJycnJycpOwpzZXRfYXR0cmlidXRlKCdjYWZmZXJ5MjAwNWEnLCAnb3JnYW5pemF0aW9uJywgJ1NwcmluZ2VyJyk7CnNldF9hdHRyaWJ1dGUoJ2NhZmZlcnkyMDA1YScsICdncycsICcxJyk7CnNldF9hdHRyaWJ1dGUoJ2NhZmZlcnkyMDA1YScsICdwbGFjZXgnLCAnSW50ZXJuYXRpb25hbCBDb25mZXJlbmNlIG9uIFByb2R1Y3QgRm9jdXNlZCBTb2Z0d2FyZSBQcm9jZXNzIEltcHJvdmVtZW50Jyk7\"));\n",
       "    "
      ],
      "text/plain": [
       "<IPython.core.display.Javascript object>"
      ]
     },
     "metadata": {},
     "output_type": "display_data"
    },
    {
     "data": {
      "application/javascript": [
       "$('span:contains(\"# Temp\")').closest('.cell').remove();"
      ],
      "text/plain": [
       "<IPython.core.display.Javascript object>"
      ]
     },
     "metadata": {},
     "output_type": "display_data"
    },
    {
     "data": {
      "application/javascript": [
       "\n",
       "        $('span:contains(\"# Temp\")').closest('.cell').remove();\n",
       "        var code = IPython.notebook.insert_cell_below('code');\n",
       "        code.set_text(atob(\"IyBUZW1wCmluc2VydCgnJycnJycpOwpzZXRfYXR0cmlidXRlKCdjYWZmZXJ5MjAwNWEnLCAnb3JnYW5pemF0aW9uJywgJ1NwcmluZ2VyJyk7CnNldF9hdHRyaWJ1dGUoJ2NhZmZlcnkyMDA1YScsICdncycsICcxJyk7CnNldF9hdHRyaWJ1dGUoJ2NhZmZlcnkyMDA1YScsICdwbGFjZXgnLCAnSW50ZXJuYXRpb25hbCBDb25mZXJlbmNlIG9uIFByb2R1Y3QgRm9jdXNlZCBTb2Z0d2FyZSBQcm9jZXNzIEltcHJvdmVtZW50Jyk7\"));\n",
       "    "
      ],
      "text/plain": [
       "<IPython.core.display.Javascript object>"
      ]
     },
     "metadata": {},
     "output_type": "display_data"
    },
    {
     "data": {
      "application/javascript": [
       "$('span:contains(\"# Temp\")').closest('.cell').remove();"
      ],
      "text/plain": [
       "<IPython.core.display.Javascript object>"
      ]
     },
     "metadata": {},
     "output_type": "display_data"
    },
    {
     "data": {
      "application/javascript": [
       "\n",
       "        $('span:contains(\"# Temp\")').closest('.cell').remove();\n",
       "        var code = IPython.notebook.insert_cell_below('code');\n",
       "        code.set_text(atob(\"IyBUZW1wCmluc2VydCgnJycKYWltaW4yMDA5YSA9IERCKFdvcmtVbnJlbGF0ZWQoCiAgICAyMDA5LCAiQmFzZWQgb24gcXVhbnRpZmljYXRpb24gc29mdHdhcmUgcXVhbGl0eSBhc3Nlc3NtZW50IG1ldGhvZCIsCiAgICBkaXNwbGF5PSJhaW1pbiIsCiAgICBhdXRob3JzPSJBaW1pbiwgWWFuZyBhbmQgV2VueGlhbmcsIFpoYW5nIiwKICAgIHBsYWNlPUZBS0UsCiAgICBwcD0iMTExMC0tMTExOCIsCiAgICBlbnRyeXR5cGU9ImFydGljbGUiLAogICAgdm9sdW1lPSI0IiwKICAgIG51bWJlcj0iMTAiLAogICAgSUQ9ImFpbWluMjAwOWJhc2VkIiwKICAgIGdzPSIxIiwKICAgIHBsYWNleD0iam91cm5hbCBvZiBzb2Z0d2FyZSIsCikpCicnJyk7\"));\n",
       "    "
      ],
      "text/plain": [
       "<IPython.core.display.Javascript object>"
      ]
     },
     "metadata": {},
     "output_type": "display_data"
    },
    {
     "data": {
      "application/javascript": [
       "$('span:contains(\"# Temp\")').closest('.cell').remove();"
      ],
      "text/plain": [
       "<IPython.core.display.Javascript object>"
      ]
     },
     "metadata": {},
     "output_type": "display_data"
    },
    {
     "data": {
      "application/javascript": [
       "\n",
       "        $('span:contains(\"# Temp\")').closest('.cell').remove();\n",
       "        var code = IPython.notebook.insert_cell_below('code');\n",
       "        code.set_text(atob(\"IyBUZW1wCmluc2VydCgnJycKYWltaW4yMDA5YSA9IERCKFdvcmtVbnJlbGF0ZWQoCiAgICAyMDA5LCAiQmFzZWQgb24gcXVhbnRpZmljYXRpb24gc29mdHdhcmUgcXVhbGl0eSBhc3Nlc3NtZW50IG1ldGhvZCIsCiAgICBkaXNwbGF5PSJhaW1pbiIsCiAgICBhdXRob3JzPSJBaW1pbiwgWWFuZyBhbmQgV2VueGlhbmcsIFpoYW5nIiwKICAgIHBsYWNlPUZBS0UsCiAgICBwcD0iMTExMC0tMTExOCIsCiAgICBlbnRyeXR5cGU9ImFydGljbGUiLAogICAgdm9sdW1lPSI0IiwKICAgIG51bWJlcj0iMTAiLAogICAgSUQ9ImFpbWluMjAwOWJhc2VkIiwKICAgIGdzPSIxIiwKICAgIHBsYWNleD0iam91cm5hbCBvZiBzb2Z0d2FyZSIsCikpCicnJyk7\"));\n",
       "    "
      ],
      "text/plain": [
       "<IPython.core.display.Javascript object>"
      ]
     },
     "metadata": {},
     "output_type": "display_data"
    },
    {
     "data": {
      "application/javascript": [
       "$('span:contains(\"# Temp\")').closest('.cell').remove();"
      ],
      "text/plain": [
       "<IPython.core.display.Javascript object>"
      ]
     },
     "metadata": {},
     "output_type": "display_data"
    },
    {
     "data": {
      "application/javascript": [
       "\n",
       "        $('span:contains(\"# Temp\")').closest('.cell').remove();\n",
       "        var code = IPython.notebook.insert_cell_below('code');\n",
       "        code.set_text(atob(\"IyBUZW1wCmluc2VydCgnJycKcm9jaGEyMDEzYSA9IERCKFdvcmtVbnJlbGF0ZWQoCiAgICAyMDEzLCAiVGhlIHVzZSBvZiBzb2Z0d2FyZSBwcm9kdWN0IGxpbmVzIGZvciBidXNpbmVzcyBwcm9jZXNzIG1hbmFnZW1lbnQ6IEEgc3lzdGVtYXRpYyBsaXRlcmF0dXJlIHJldmlldyIsCiAgICBkaXNwbGF5PSJyb2NoYSIsCiAgICBhdXRob3JzPSJkb3MgU2FudG9zIFJvY2hhLCBSb2JlcnRvIGFuZCBGYW50aW5hdG8sIE1hcmNlbG8iLAogICAgcGxhY2U9SVNULAogICAgcHA9IjEzNTUtLTEzNzMiLAogICAgZW50cnl0eXBlPSJhcnRpY2xlIiwKICAgIHZvbHVtZT0iNTUiLAogICAgbnVtYmVyPSI4IiwKICAgIHB1Ymxpc2hlcj0iRWxzZXZpZXIiLAogICAgSUQ9ImRvczIwMTN1c2UiLAogICAgZ3M9IjEiLAogICAgcGxhY2V4PSJJbmZvcm1hdGlvbiBhbmQgU29mdHdhcmUgVGVjaG5vbG9neSIsCikpCicnJyk7\"));\n",
       "    "
      ],
      "text/plain": [
       "<IPython.core.display.Javascript object>"
      ]
     },
     "metadata": {},
     "output_type": "display_data"
    },
    {
     "data": {
      "application/javascript": [
       "$('span:contains(\"# Temp\")').closest('.cell').remove();"
      ],
      "text/plain": [
       "<IPython.core.display.Javascript object>"
      ]
     },
     "metadata": {},
     "output_type": "display_data"
    },
    {
     "data": {
      "application/javascript": [
       "\n",
       "        $('span:contains(\"# Temp\")').closest('.cell').remove();\n",
       "        var code = IPython.notebook.insert_cell_below('code');\n",
       "        code.set_text(atob(\"IyBUZW1wCmluc2VydCgnJycKcm9jaGEyMDEzYSA9IERCKFdvcmtVbnJlbGF0ZWQoCiAgICAyMDEzLCAiVGhlIHVzZSBvZiBzb2Z0d2FyZSBwcm9kdWN0IGxpbmVzIGZvciBidXNpbmVzcyBwcm9jZXNzIG1hbmFnZW1lbnQ6IEEgc3lzdGVtYXRpYyBsaXRlcmF0dXJlIHJldmlldyIsCiAgICBkaXNwbGF5PSJyb2NoYSIsCiAgICBhdXRob3JzPSJkb3MgU2FudG9zIFJvY2hhLCBSb2JlcnRvIGFuZCBGYW50aW5hdG8sIE1hcmNlbG8iLAogICAgcGxhY2U9SVNULAogICAgcHA9IjEzNTUtLTEzNzMiLAogICAgZW50cnl0eXBlPSJhcnRpY2xlIiwKICAgIHZvbHVtZT0iNTUiLAogICAgbnVtYmVyPSI4IiwKICAgIHB1Ymxpc2hlcj0iRWxzZXZpZXIiLAogICAgSUQ9ImRvczIwMTN1c2UiLAogICAgZ3M9IjEiLAogICAgcGxhY2V4PSJJbmZvcm1hdGlvbiBhbmQgU29mdHdhcmUgVGVjaG5vbG9neSIsCikpCicnJyk7\"));\n",
       "    "
      ],
      "text/plain": [
       "<IPython.core.display.Javascript object>"
      ]
     },
     "metadata": {},
     "output_type": "display_data"
    },
    {
     "data": {
      "application/javascript": [
       "$('span:contains(\"# Temp\")').closest('.cell').remove();"
      ],
      "text/plain": [
       "<IPython.core.display.Javascript object>"
      ]
     },
     "metadata": {},
     "output_type": "display_data"
    },
    {
     "data": {
      "application/javascript": [
       "\n",
       "        $('span:contains(\"# Temp\")').closest('.cell').remove();\n",
       "        var code = IPython.notebook.insert_cell_below('code');\n",
       "        code.set_text(atob(\"IyBUZW1wCmluc2VydCgnJycKbGFtaTIwMDlhID0gREIoV29ya1VucmVsYXRlZCgKICAgIDIwMDksICJJcyBJU08vSUVDIDE1NTA0IEFwcGxpY2FibGUgdG8gQWdpbGUgTWV0aG9kcz8iLAogICAgZGlzcGxheT0ibGFtaSIsCiAgICBhdXRob3JzPSJMYW1pLCBHaXVzZXBwZSBhbmQgRmFsY2luaSwgRmFiaW8iLAogICAgcGxhY2U9RkFLRSwKICAgIHBwPSIxMzAtLTEzNSIsCiAgICBlbnRyeXR5cGU9ImlucHJvY2VlZGluZ3MiLAogICAgb3JnYW5pemF0aW9uPSJTcHJpbmdlciIsCiAgICBJRD0ibGFtaTIwMDlpc28iLAogICAgZ3M9IjEiLAogICAgcGxhY2V4PSJJbnRlcm5hdGlvbmFsIENvbmZlcmVuY2Ugb24gQWdpbGUgUHJvY2Vzc2VzIGFuZCBFeHRyZW1lIFByb2dyYW1taW5nIGluIFNvZnR3YXJlIEVuZ2luZWVyaW5nIiwKKSkKJycnKTs=\"));\n",
       "    "
      ],
      "text/plain": [
       "<IPython.core.display.Javascript object>"
      ]
     },
     "metadata": {},
     "output_type": "display_data"
    },
    {
     "data": {
      "application/javascript": [
       "$('span:contains(\"# Temp\")').closest('.cell').remove();"
      ],
      "text/plain": [
       "<IPython.core.display.Javascript object>"
      ]
     },
     "metadata": {},
     "output_type": "display_data"
    },
    {
     "data": {
      "application/javascript": [
       "\n",
       "        $('span:contains(\"# Temp\")').closest('.cell').remove();\n",
       "        var code = IPython.notebook.insert_cell_below('code');\n",
       "        code.set_text(atob(\"IyBUZW1wCmluc2VydCgnJycKbGFtaTIwMDlhID0gREIoV29ya1VucmVsYXRlZCgKICAgIDIwMDksICJJcyBJU08vSUVDIDE1NTA0IEFwcGxpY2FibGUgdG8gQWdpbGUgTWV0aG9kcz8iLAogICAgZGlzcGxheT0ibGFtaSIsCiAgICBhdXRob3JzPSJMYW1pLCBHaXVzZXBwZSBhbmQgRmFsY2luaSwgRmFiaW8iLAogICAgcGxhY2U9RkFLRSwKICAgIHBwPSIxMzAtLTEzNSIsCiAgICBlbnRyeXR5cGU9ImlucHJvY2VlZGluZ3MiLAogICAgb3JnYW5pemF0aW9uPSJTcHJpbmdlciIsCiAgICBJRD0ibGFtaTIwMDlpc28iLAogICAgZ3M9IjEiLAogICAgcGxhY2V4PSJJbnRlcm5hdGlvbmFsIENvbmZlcmVuY2Ugb24gQWdpbGUgUHJvY2Vzc2VzIGFuZCBFeHRyZW1lIFByb2dyYW1taW5nIGluIFNvZnR3YXJlIEVuZ2luZWVyaW5nIiwKKSkKJycnKTs=\"));\n",
       "    "
      ],
      "text/plain": [
       "<IPython.core.display.Javascript object>"
      ]
     },
     "metadata": {},
     "output_type": "display_data"
    },
    {
     "data": {
      "application/javascript": [
       "$('span:contains(\"# Temp\")').closest('.cell').remove();"
      ],
      "text/plain": [
       "<IPython.core.display.Javascript object>"
      ]
     },
     "metadata": {},
     "output_type": "display_data"
    },
    {
     "data": {
      "application/javascript": [
       "\n",
       "        $('span:contains(\"# Temp\")').closest('.cell').remove();\n",
       "        var code = IPython.notebook.insert_cell_below('code');\n",
       "        code.set_text(atob(\"IyBUZW1wCmluc2VydCgnJycnJycpOwpzZXRfYXR0cmlidXRlKCdraHVydW0yMDA3YScsICdvcmdhbml6YXRpb24nLCAnSUVFRScpOwpzZXRfYXR0cmlidXRlKCdraHVydW0yMDA3YScsICdncycsICcxJyk7\"));\n",
       "    "
      ],
      "text/plain": [
       "<IPython.core.display.Javascript object>"
      ]
     },
     "metadata": {},
     "output_type": "display_data"
    },
    {
     "data": {
      "application/javascript": [
       "$('span:contains(\"# Temp\")').closest('.cell').remove();"
      ],
      "text/plain": [
       "<IPython.core.display.Javascript object>"
      ]
     },
     "metadata": {},
     "output_type": "display_data"
    },
    {
     "data": {
      "application/javascript": [
       "\n",
       "        $('span:contains(\"# Temp\")').closest('.cell').remove();\n",
       "        var code = IPython.notebook.insert_cell_below('code');\n",
       "        code.set_text(atob(\"IyBUZW1wCmluc2VydCgnJycnJycpOwpzZXRfYXR0cmlidXRlKCdraHVydW0yMDA3YScsICdvcmdhbml6YXRpb24nLCAnSUVFRScpOwpzZXRfYXR0cmlidXRlKCdraHVydW0yMDA3YScsICdncycsICcxJyk7\"));\n",
       "    "
      ],
      "text/plain": [
       "<IPython.core.display.Javascript object>"
      ]
     },
     "metadata": {},
     "output_type": "display_data"
    },
    {
     "data": {
      "application/javascript": [
       "$('span:contains(\"# Temp\")').closest('.cell').remove();"
      ],
      "text/plain": [
       "<IPython.core.display.Javascript object>"
      ]
     },
     "metadata": {},
     "output_type": "display_data"
    },
    {
     "data": {
      "application/javascript": [
       "\n",
       "        $('span:contains(\"# Temp\")').closest('.cell').remove();\n",
       "        var code = IPython.notebook.insert_cell_below('code');\n",
       "        code.set_text(atob(\"IyBUZW1wCmluc2VydCgnJycKc3RlZW5iZXJnZW4yMDA3YiA9IERCKFdvcmtVbnJlbGF0ZWQoCiAgICAyMDA3LCAiQW4gSW5zdHJ1bWVudCBmb3IgdGhlIERldmVsb3BtZW50IG9mIHRoZSBFbnRlcnByaXNlIEFyY2hpdGVjdHVyZSBQcmFjdGljZS4iLAogICAgZGlzcGxheT0ic3RlZW5iZXJnZW4gYiIsCiAgICBhdXRob3JzPSJ2YW4gU3RlZW5iZXJnZW4sIE1hcmxpZXMgYW5kIHZhbiBkZW4gQmVyZywgTWFydGluIGFuZCBCcmlua2tlbXBlciwgU2phYWsiLAogICAgcGxhY2U9RkFLRSwKICAgIHBwPSIxNC0tMjIiLAogICAgZW50cnl0eXBlPSJpbnByb2NlZWRpbmdzIiwKICAgIElEPSJ2YW4yMDA3aW5zdHJ1bWVudCIsCiAgICBncz0iMSIsCiAgICBwbGFjZXg9IklDRUlTICgzKSIsCikpCicnJyk7\"));\n",
       "    "
      ],
      "text/plain": [
       "<IPython.core.display.Javascript object>"
      ]
     },
     "metadata": {},
     "output_type": "display_data"
    },
    {
     "data": {
      "application/javascript": [
       "$('span:contains(\"# Temp\")').closest('.cell').remove();"
      ],
      "text/plain": [
       "<IPython.core.display.Javascript object>"
      ]
     },
     "metadata": {},
     "output_type": "display_data"
    },
    {
     "data": {
      "application/javascript": [
       "\n",
       "        $('span:contains(\"# Temp\")').closest('.cell').remove();\n",
       "        var code = IPython.notebook.insert_cell_below('code');\n",
       "        code.set_text(atob(\"IyBUZW1wCmluc2VydCgnJycKc3RlZW5iZXJnZW4yMDA3YiA9IERCKFdvcmtVbnJlbGF0ZWQoCiAgICAyMDA3LCAiQW4gSW5zdHJ1bWVudCBmb3IgdGhlIERldmVsb3BtZW50IG9mIHRoZSBFbnRlcnByaXNlIEFyY2hpdGVjdHVyZSBQcmFjdGljZS4iLAogICAgZGlzcGxheT0ic3RlZW5iZXJnZW4gYiIsCiAgICBhdXRob3JzPSJ2YW4gU3RlZW5iZXJnZW4sIE1hcmxpZXMgYW5kIHZhbiBkZW4gQmVyZywgTWFydGluIGFuZCBCcmlua2tlbXBlciwgU2phYWsiLAogICAgcGxhY2U9RkFLRSwKICAgIHBwPSIxNC0tMjIiLAogICAgZW50cnl0eXBlPSJpbnByb2NlZWRpbmdzIiwKICAgIElEPSJ2YW4yMDA3aW5zdHJ1bWVudCIsCiAgICBncz0iMSIsCiAgICBwbGFjZXg9IklDRUlTICgzKSIsCikpCicnJyk7\"));\n",
       "    "
      ],
      "text/plain": [
       "<IPython.core.display.Javascript object>"
      ]
     },
     "metadata": {},
     "output_type": "display_data"
    },
    {
     "data": {
      "application/javascript": [
       "$('span:contains(\"# Temp\")').closest('.cell').remove();"
      ],
      "text/plain": [
       "<IPython.core.display.Javascript object>"
      ]
     },
     "metadata": {},
     "output_type": "display_data"
    },
    {
     "data": {
      "application/javascript": [
       "\n",
       "        $('span:contains(\"# Temp\")').closest('.cell').remove();\n",
       "        var code = IPython.notebook.insert_cell_below('code');\n",
       "        code.set_text(atob(\"IyBUZW1wCmluc2VydCgnJycnJycpOwpzZXRfYXR0cmlidXRlKCd6b3dnaGkyMDEwYScsICdvcmdhbml6YXRpb24nLCAnSUVFRScpOwpzZXRfYXR0cmlidXRlKCd6b3dnaGkyMDEwYScsICdncycsICcxJyk7\"));\n",
       "    "
      ],
      "text/plain": [
       "<IPython.core.display.Javascript object>"
      ]
     },
     "metadata": {},
     "output_type": "display_data"
    },
    {
     "data": {
      "application/javascript": [
       "$('span:contains(\"# Temp\")').closest('.cell').remove();"
      ],
      "text/plain": [
       "<IPython.core.display.Javascript object>"
      ]
     },
     "metadata": {},
     "output_type": "display_data"
    },
    {
     "data": {
      "application/javascript": [
       "\n",
       "        $('span:contains(\"# Temp\")').closest('.cell').remove();\n",
       "        var code = IPython.notebook.insert_cell_below('code');\n",
       "        code.set_text(atob(\"IyBUZW1wCmluc2VydCgnJycnJycpOwpzZXRfYXR0cmlidXRlKCd6b3dnaGkyMDEwYScsICdvcmdhbml6YXRpb24nLCAnSUVFRScpOwpzZXRfYXR0cmlidXRlKCd6b3dnaGkyMDEwYScsICdncycsICcxJyk7\"));\n",
       "    "
      ],
      "text/plain": [
       "<IPython.core.display.Javascript object>"
      ]
     },
     "metadata": {},
     "output_type": "display_data"
    },
    {
     "data": {
      "application/javascript": [
       "$('span:contains(\"# Temp\")').closest('.cell').remove();"
      ],
      "text/plain": [
       "<IPython.core.display.Javascript object>"
      ]
     },
     "metadata": {},
     "output_type": "display_data"
    },
    {
     "data": {
      "application/javascript": [
       "\n",
       "        $('span:contains(\"# Temp\")').closest('.cell').remove();\n",
       "        var code = IPython.notebook.insert_cell_below('code');\n",
       "        code.set_text(atob(\"IyBUZW1wCmluc2VydCgnJycKbmlhemkyMDA2YSA9IERCKFdvcmtVbnJlbGF0ZWQoCiAgICAyMDA2LCAiQW4gZW1waXJpY2FsIHN0dWR5IGlkZW50aWZ5aW5nIGhpZ2ggcGVyY2VpdmVkIHZhbHVlIHJlcXVpcmVtZW50cyBlbmdpbmVlcmluZyBwcmFjdGljZXMiLAogICAgZGlzcGxheT0ibmlhemkiLAogICAgYXV0aG9ycz0iTmlhemksIE1haG1vb2QgYW5kIENveCwgS2FybCBBIGFuZCBWZXJuZXIsIEp1bmUgTSIsCiAgICBwbGFjZT1GQUtFLAogICAgcHA9IjczMS0tNzQzIiwKICAgIGVudHJ5dHlwZT0iaW5jb2xsZWN0aW9uIiwKICAgIHB1Ymxpc2hlcj0iU3ByaW5nZXIiLAogICAgSUQ9Im5pYXppMjAwNmVtcGlyaWNhbCIsCiAgICBncz0iMSIsCiAgICBwbGFjZXg9IkFkdmFuY2VzIGluIEluZm9ybWF0aW9uIFN5c3RlbXMgRGV2ZWxvcG1lbnQiLAopKQonJycpOw==\"));\n",
       "    "
      ],
      "text/plain": [
       "<IPython.core.display.Javascript object>"
      ]
     },
     "metadata": {},
     "output_type": "display_data"
    },
    {
     "data": {
      "application/javascript": [
       "$('span:contains(\"# Temp\")').closest('.cell').remove();"
      ],
      "text/plain": [
       "<IPython.core.display.Javascript object>"
      ]
     },
     "metadata": {},
     "output_type": "display_data"
    },
    {
     "data": {
      "application/javascript": [
       "\n",
       "        $('span:contains(\"# Temp\")').closest('.cell').remove();\n",
       "        var code = IPython.notebook.insert_cell_below('code');\n",
       "        code.set_text(atob(\"IyBUZW1wCmluc2VydCgnJycKbmlhemkyMDA2YSA9IERCKFdvcmtVbnJlbGF0ZWQoCiAgICAyMDA2LCAiQW4gZW1waXJpY2FsIHN0dWR5IGlkZW50aWZ5aW5nIGhpZ2ggcGVyY2VpdmVkIHZhbHVlIHJlcXVpcmVtZW50cyBlbmdpbmVlcmluZyBwcmFjdGljZXMiLAogICAgZGlzcGxheT0ibmlhemkiLAogICAgYXV0aG9ycz0iTmlhemksIE1haG1vb2QgYW5kIENveCwgS2FybCBBIGFuZCBWZXJuZXIsIEp1bmUgTSIsCiAgICBwbGFjZT1GQUtFLAogICAgcHA9IjczMS0tNzQzIiwKICAgIGVudHJ5dHlwZT0iaW5jb2xsZWN0aW9uIiwKICAgIHB1Ymxpc2hlcj0iU3ByaW5nZXIiLAogICAgSUQ9Im5pYXppMjAwNmVtcGlyaWNhbCIsCiAgICBncz0iMSIsCiAgICBwbGFjZXg9IkFkdmFuY2VzIGluIEluZm9ybWF0aW9uIFN5c3RlbXMgRGV2ZWxvcG1lbnQiLAopKQonJycpOw==\"));\n",
       "    "
      ],
      "text/plain": [
       "<IPython.core.display.Javascript object>"
      ]
     },
     "metadata": {},
     "output_type": "display_data"
    },
    {
     "data": {
      "application/javascript": [
       "$('span:contains(\"# Temp\")').closest('.cell').remove();"
      ],
      "text/plain": [
       "<IPython.core.display.Javascript object>"
      ]
     },
     "metadata": {},
     "output_type": "display_data"
    },
    {
     "data": {
      "application/javascript": [
       "\n",
       "        $('span:contains(\"# Temp\")').closest('.cell').remove();\n",
       "        var code = IPython.notebook.insert_cell_below('code');\n",
       "        code.set_text(atob(\"IyBUZW1wCmluc2VydCgnJycKYW1lbmd1YWwyMDA3YSA9IERCKFdvcmtVbnJlbGF0ZWQoCiAgICAyMDA3LCAiU29mdHdhcmUgcHJvY2VzcyBpbXByb3ZlbWVudCB0aHJvdWdoIHRlYW13b3JrIG1hbmFnZW1lbnQiLAogICAgZGlzcGxheT0iYW1lbmd1YWwiLAogICAgYXV0aG9ycz0iQW1lbmd1YWwsIEVzcGVyYW57531hIGFuZCBNYXMsIEFudPJuaWEiLAogICAgcGxhY2U9SUNQRlNQSSwKICAgIHBwPSIxMDgtLTExNyIsCiAgICBlbnRyeXR5cGU9ImlucHJvY2VlZGluZ3MiLAogICAgb3JnYW5pemF0aW9uPSJTcHJpbmdlciIsCiAgICBJRD0iYW1lbmd1YWwyMDA3c29mdHdhcmUiLAogICAgZ3M9IjEiLAogICAgcGxhY2V4PSJJbnRlcm5hdGlvbmFsIENvbmZlcmVuY2Ugb24gUHJvZHVjdCBGb2N1c2VkIFNvZnR3YXJlIFByb2Nlc3MgSW1wcm92ZW1lbnQiLAopKQonJycpOw==\"));\n",
       "    "
      ],
      "text/plain": [
       "<IPython.core.display.Javascript object>"
      ]
     },
     "metadata": {},
     "output_type": "display_data"
    },
    {
     "data": {
      "application/javascript": [
       "$('span:contains(\"# Temp\")').closest('.cell').remove();"
      ],
      "text/plain": [
       "<IPython.core.display.Javascript object>"
      ]
     },
     "metadata": {},
     "output_type": "display_data"
    },
    {
     "data": {
      "application/javascript": [
       "\n",
       "        $('span:contains(\"# Temp\")').closest('.cell').remove();\n",
       "        var code = IPython.notebook.insert_cell_below('code');\n",
       "        code.set_text(atob(\"IyBUZW1wCmluc2VydCgnJycKYW1lbmd1YWwyMDA3YSA9IERCKFdvcmtVbnJlbGF0ZWQoCiAgICAyMDA3LCAiU29mdHdhcmUgcHJvY2VzcyBpbXByb3ZlbWVudCB0aHJvdWdoIHRlYW13b3JrIG1hbmFnZW1lbnQiLAogICAgZGlzcGxheT0iYW1lbmd1YWwiLAogICAgYXV0aG9ycz0iQW1lbmd1YWwsIEVzcGVyYW57531hIGFuZCBNYXMsIEFudPJuaWEiLAogICAgcGxhY2U9SUNQRlNQSSwKICAgIHBwPSIxMDgtLTExNyIsCiAgICBlbnRyeXR5cGU9ImlucHJvY2VlZGluZ3MiLAogICAgb3JnYW5pemF0aW9uPSJTcHJpbmdlciIsCiAgICBJRD0iYW1lbmd1YWwyMDA3c29mdHdhcmUiLAogICAgZ3M9IjEiLAogICAgcGxhY2V4PSJJbnRlcm5hdGlvbmFsIENvbmZlcmVuY2Ugb24gUHJvZHVjdCBGb2N1c2VkIFNvZnR3YXJlIFByb2Nlc3MgSW1wcm92ZW1lbnQiLAopKQonJycpOw==\"));\n",
       "    "
      ],
      "text/plain": [
       "<IPython.core.display.Javascript object>"
      ]
     },
     "metadata": {},
     "output_type": "display_data"
    },
    {
     "data": {
      "application/javascript": [
       "$('span:contains(\"# Temp\")').closest('.cell').remove();"
      ],
      "text/plain": [
       "<IPython.core.display.Javascript object>"
      ]
     },
     "metadata": {},
     "output_type": "display_data"
    },
    {
     "data": {
      "application/javascript": [
       "\n",
       "        $('span:contains(\"# Temp\")').closest('.cell').remove();\n",
       "        var code = IPython.notebook.insert_cell_below('code');\n",
       "        code.set_text(atob(\"IyBUZW1wCmluc2VydCgnJycKc2F2aW5vMjAxMmEgPSBEQihXb3JrVW5yZWxhdGVkKAogICAgMjAxMiwgIlBMTSBtYXR1cml0eSBtb2RlbDogYSBtdWx0aS1jcml0ZXJpYSBhc3Nlc3NtZW50IGluIHNvdXRoZXJuIEl0YWx5IGNvbXBhbmllcyIsCiAgICBkaXNwbGF5PSJzYXZpbm8iLAogICAgYXV0aG9ycz0iU2F2aW5vLCBNYXR0ZW8gTSBhbmQgTWF6emEsIEFudG9uaW8gYW5kIE91enJvdXQsIFlhY2luZSIsCiAgICBwbGFjZT1GQUtFLAogICAgcHA9IjE1OS0tMTgwIiwKICAgIGVudHJ5dHlwZT0iYXJ0aWNsZSIsCiAgICB2b2x1bWU9IjE4IiwKICAgIG51bWJlcj0iMyIsCiAgICBJRD0ic2F2aW5vMjAxMnBsbSIsCiAgICBncz0iMSIsCiAgICBwbGFjZXg9IkludGVybmF0aW9uYWwgSm91cm5hbCBvZiBPcGVyYXRpb25zIGFuZCBRdWFudGl0YXRpdmUgTWFuYWdlbWVudCIsCikpCicnJyk7\"));\n",
       "    "
      ],
      "text/plain": [
       "<IPython.core.display.Javascript object>"
      ]
     },
     "metadata": {},
     "output_type": "display_data"
    },
    {
     "data": {
      "application/javascript": [
       "$('span:contains(\"# Temp\")').closest('.cell').remove();"
      ],
      "text/plain": [
       "<IPython.core.display.Javascript object>"
      ]
     },
     "metadata": {},
     "output_type": "display_data"
    },
    {
     "data": {
      "application/javascript": [
       "\n",
       "        $('span:contains(\"# Temp\")').closest('.cell').remove();\n",
       "        var code = IPython.notebook.insert_cell_below('code');\n",
       "        code.set_text(atob(\"IyBUZW1wCmluc2VydCgnJycKc2F2aW5vMjAxMmEgPSBEQihXb3JrVW5yZWxhdGVkKAogICAgMjAxMiwgIlBMTSBtYXR1cml0eSBtb2RlbDogYSBtdWx0aS1jcml0ZXJpYSBhc3Nlc3NtZW50IGluIHNvdXRoZXJuIEl0YWx5IGNvbXBhbmllcyIsCiAgICBkaXNwbGF5PSJzYXZpbm8iLAogICAgYXV0aG9ycz0iU2F2aW5vLCBNYXR0ZW8gTSBhbmQgTWF6emEsIEFudG9uaW8gYW5kIE91enJvdXQsIFlhY2luZSIsCiAgICBwbGFjZT1GQUtFLAogICAgcHA9IjE1OS0tMTgwIiwKICAgIGVudHJ5dHlwZT0iYXJ0aWNsZSIsCiAgICB2b2x1bWU9IjE4IiwKICAgIG51bWJlcj0iMyIsCiAgICBJRD0ic2F2aW5vMjAxMnBsbSIsCiAgICBncz0iMSIsCiAgICBwbGFjZXg9IkludGVybmF0aW9uYWwgSm91cm5hbCBvZiBPcGVyYXRpb25zIGFuZCBRdWFudGl0YXRpdmUgTWFuYWdlbWVudCIsCikpCicnJyk7\"));\n",
       "    "
      ],
      "text/plain": [
       "<IPython.core.display.Javascript object>"
      ]
     },
     "metadata": {},
     "output_type": "display_data"
    },
    {
     "data": {
      "application/javascript": [
       "$('span:contains(\"# Temp\")').closest('.cell').remove();"
      ],
      "text/plain": [
       "<IPython.core.display.Javascript object>"
      ]
     },
     "metadata": {},
     "output_type": "display_data"
    },
    {
     "data": {
      "application/javascript": [
       "\n",
       "        $('span:contains(\"# Temp\")').closest('.cell').remove();\n",
       "        var code = IPython.notebook.insert_cell_below('code');\n",
       "        code.set_text(atob(\"IyBUZW1wCmluc2VydCgnJycKa2FiYWFsZTIwMTVhID0gREIoV29ya1VucmVsYXRlZCgKICAgIDIwMTUsICJBIHRoZW9yZXRpY2FsIGZyYW1ld29yayBmb3IgcmVxdWlyZW1lbnRzIGVuZ2luZWVyaW5nIGFuZCBwcm9jZXNzIGltcHJvdmVtZW50IGluIHNtYWxsIGFuZCBtZWRpdW0gc29mdHdhcmUgY29tcGFuaWVzIiwKICAgIGRpc3BsYXk9ImthYmFhbGUiLAogICAgYXV0aG9ycz0iS2FiYWFsZSwgRWR3YXJkIGFuZCBLaXR1eWksIEdlb2ZmcmV5IE1heW9rYSIsCiAgICBwbGFjZT1GQUtFLAogICAgcHA9IjgwLS05OSIsCiAgICBlbnRyeXR5cGU9ImFydGljbGUiLAogICAgdm9sdW1lPSIyMSIsCiAgICBudW1iZXI9IjEiLAogICAgcHVibGlzaGVyPSJFbWVyYWxkIEdyb3VwIFB1Ymxpc2hpbmcgTGltaXRlZCIsCiAgICBJRD0ia2FiYWFsZTIwMTV0aGVvcmV0aWNhbCIsCiAgICBncz0iMSIsCiAgICBwbGFjZXg9IkJ1c2luZXNzIFByb2Nlc3MgTWFuYWdlbWVudCBKb3VybmFsIiwKKSkKJycnKTs=\"));\n",
       "    "
      ],
      "text/plain": [
       "<IPython.core.display.Javascript object>"
      ]
     },
     "metadata": {},
     "output_type": "display_data"
    },
    {
     "data": {
      "application/javascript": [
       "$('span:contains(\"# Temp\")').closest('.cell').remove();"
      ],
      "text/plain": [
       "<IPython.core.display.Javascript object>"
      ]
     },
     "metadata": {},
     "output_type": "display_data"
    },
    {
     "data": {
      "application/javascript": [
       "\n",
       "        $('span:contains(\"# Temp\")').closest('.cell').remove();\n",
       "        var code = IPython.notebook.insert_cell_below('code');\n",
       "        code.set_text(atob(\"IyBUZW1wCmluc2VydCgnJycKa2FiYWFsZTIwMTVhID0gREIoV29ya1VucmVsYXRlZCgKICAgIDIwMTUsICJBIHRoZW9yZXRpY2FsIGZyYW1ld29yayBmb3IgcmVxdWlyZW1lbnRzIGVuZ2luZWVyaW5nIGFuZCBwcm9jZXNzIGltcHJvdmVtZW50IGluIHNtYWxsIGFuZCBtZWRpdW0gc29mdHdhcmUgY29tcGFuaWVzIiwKICAgIGRpc3BsYXk9ImthYmFhbGUiLAogICAgYXV0aG9ycz0iS2FiYWFsZSwgRWR3YXJkIGFuZCBLaXR1eWksIEdlb2ZmcmV5IE1heW9rYSIsCiAgICBwbGFjZT1GQUtFLAogICAgcHA9IjgwLS05OSIsCiAgICBlbnRyeXR5cGU9ImFydGljbGUiLAogICAgdm9sdW1lPSIyMSIsCiAgICBudW1iZXI9IjEiLAogICAgcHVibGlzaGVyPSJFbWVyYWxkIEdyb3VwIFB1Ymxpc2hpbmcgTGltaXRlZCIsCiAgICBJRD0ia2FiYWFsZTIwMTV0aGVvcmV0aWNhbCIsCiAgICBncz0iMSIsCiAgICBwbGFjZXg9IkJ1c2luZXNzIFByb2Nlc3MgTWFuYWdlbWVudCBKb3VybmFsIiwKKSkKJycnKTs=\"));\n",
       "    "
      ],
      "text/plain": [
       "<IPython.core.display.Javascript object>"
      ]
     },
     "metadata": {},
     "output_type": "display_data"
    },
    {
     "data": {
      "application/javascript": [
       "$('span:contains(\"# Temp\")').closest('.cell').remove();"
      ],
      "text/plain": [
       "<IPython.core.display.Javascript object>"
      ]
     },
     "metadata": {},
     "output_type": "display_data"
    },
    {
     "data": {
      "application/javascript": [
       "\n",
       "        $('span:contains(\"# Temp\")').closest('.cell').remove();\n",
       "        var code = IPython.notebook.insert_cell_below('code');\n",
       "        code.set_text(atob(\"IyBUZW1wCmluc2VydCgnJycKdWxsYWgyMDEzYiA9IERCKFdvcmtVbnJlbGF0ZWQoCiAgICAyMDEzLCAiUmVxdWlyZW1lbnRzIGVuZ2luZWVyaW5nIGFuZCBCdXNpbmVzcy9JVCBhbGlnbm1lbnQ6IExlc3NvbnMgTGVhcm5lZC4iLAogICAgZGlzcGxheT0idWxsYWggYiIsCiAgICBhdXRob3JzPSJVbGxhaCwgQXptYXQgYW5kIExhaSwgUmljaGFyZCIsCiAgICBwbGFjZT1GQUtFLAogICAgcHA9IjEtLTEwIiwKICAgIGVudHJ5dHlwZT0iYXJ0aWNsZSIsCiAgICB2b2x1bWU9IjgiLAogICAgbnVtYmVyPSIxIiwKICAgIHB1Ymxpc2hlcj0iQ2l0ZXNlZXIiLAogICAgSUQ9InVsbGFoMjAxM3JlcXVpcmVtZW50cyIsCiAgICBncz0iMSIsCiAgICBwbGFjZXg9IkpTVyIsCikpCicnJyk7\"));\n",
       "    "
      ],
      "text/plain": [
       "<IPython.core.display.Javascript object>"
      ]
     },
     "metadata": {},
     "output_type": "display_data"
    },
    {
     "data": {
      "application/javascript": [
       "$('span:contains(\"# Temp\")').closest('.cell').remove();"
      ],
      "text/plain": [
       "<IPython.core.display.Javascript object>"
      ]
     },
     "metadata": {},
     "output_type": "display_data"
    },
    {
     "data": {
      "application/javascript": [
       "\n",
       "        $('span:contains(\"# Temp\")').closest('.cell').remove();\n",
       "        var code = IPython.notebook.insert_cell_below('code');\n",
       "        code.set_text(atob(\"IyBUZW1wCmluc2VydCgnJycKdWxsYWgyMDEzYiA9IERCKFdvcmtVbnJlbGF0ZWQoCiAgICAyMDEzLCAiUmVxdWlyZW1lbnRzIGVuZ2luZWVyaW5nIGFuZCBCdXNpbmVzcy9JVCBhbGlnbm1lbnQ6IExlc3NvbnMgTGVhcm5lZC4iLAogICAgZGlzcGxheT0idWxsYWggYiIsCiAgICBhdXRob3JzPSJVbGxhaCwgQXptYXQgYW5kIExhaSwgUmljaGFyZCIsCiAgICBwbGFjZT1GQUtFLAogICAgcHA9IjEtLTEwIiwKICAgIGVudHJ5dHlwZT0iYXJ0aWNsZSIsCiAgICB2b2x1bWU9IjgiLAogICAgbnVtYmVyPSIxIiwKICAgIHB1Ymxpc2hlcj0iQ2l0ZXNlZXIiLAogICAgSUQ9InVsbGFoMjAxM3JlcXVpcmVtZW50cyIsCiAgICBncz0iMSIsCiAgICBwbGFjZXg9IkpTVyIsCikpCicnJyk7\"));\n",
       "    "
      ],
      "text/plain": [
       "<IPython.core.display.Javascript object>"
      ]
     },
     "metadata": {},
     "output_type": "display_data"
    },
    {
     "data": {
      "application/javascript": [
       "$('span:contains(\"# Temp\")').closest('.cell').remove();"
      ],
      "text/plain": [
       "<IPython.core.display.Javascript object>"
      ]
     },
     "metadata": {},
     "output_type": "display_data"
    },
    {
     "data": {
      "application/javascript": [
       "\n",
       "        $('span:contains(\"# Temp\")').closest('.cell').remove();\n",
       "        var code = IPython.notebook.insert_cell_below('code');\n",
       "        code.set_text(atob(\"IyBUZW1wCmluc2VydCgnJycKbWFydGluaTIwMTNhID0gREIoV29ya1VucmVsYXRlZCgKICAgIDIwMTMsICJDb21tdW5pY2F0aW9uIGZhY3RvcnMgZm9yIHNwZWVkIGFuZCByZXVzZSBpbiBsYXJnZS1zY2FsZSBhZ2lsZSBzb2Z0d2FyZSBkZXZlbG9wbWVudCIsCiAgICBkaXNwbGF5PSJtYXJ0aW5pIiwKICAgIGF1dGhvcnM9Ik1hcnRpbmksIEFudG9uaW8gYW5kIFBhcmV0bywgTGFycyBhbmQgQm9zY2gsIEphbiIsCiAgICBwbGFjZT1GQUtFLAogICAgcHA9IjQyLS01MSIsCiAgICBlbnRyeXR5cGU9ImlucHJvY2VlZGluZ3MiLAogICAgb3JnYW5pemF0aW9uPSJBQ00iLAogICAgSUQ9Im1hcnRpbmkyMDEzY29tbXVuaWNhdGlvbiIsCiAgICBncz0iMSIsCiAgICBwbGFjZXg9IlByb2NlZWRpbmdzIG9mIHRoZSAxN3RoIGludGVybmF0aW9uYWwgc29mdHdhcmUgcHJvZHVjdCBsaW5lIGNvbmZlcmVuY2UiLAopKQonJycpOw==\"));\n",
       "    "
      ],
      "text/plain": [
       "<IPython.core.display.Javascript object>"
      ]
     },
     "metadata": {},
     "output_type": "display_data"
    },
    {
     "data": {
      "application/javascript": [
       "$('span:contains(\"# Temp\")').closest('.cell').remove();"
      ],
      "text/plain": [
       "<IPython.core.display.Javascript object>"
      ]
     },
     "metadata": {},
     "output_type": "display_data"
    },
    {
     "data": {
      "application/javascript": [
       "\n",
       "        $('span:contains(\"# Temp\")').closest('.cell').remove();\n",
       "        var code = IPython.notebook.insert_cell_below('code');\n",
       "        code.set_text(atob(\"IyBUZW1wCmluc2VydCgnJycKbWFydGluaTIwMTNhID0gREIoV29ya1VucmVsYXRlZCgKICAgIDIwMTMsICJDb21tdW5pY2F0aW9uIGZhY3RvcnMgZm9yIHNwZWVkIGFuZCByZXVzZSBpbiBsYXJnZS1zY2FsZSBhZ2lsZSBzb2Z0d2FyZSBkZXZlbG9wbWVudCIsCiAgICBkaXNwbGF5PSJtYXJ0aW5pIiwKICAgIGF1dGhvcnM9Ik1hcnRpbmksIEFudG9uaW8gYW5kIFBhcmV0bywgTGFycyBhbmQgQm9zY2gsIEphbiIsCiAgICBwbGFjZT1GQUtFLAogICAgcHA9IjQyLS01MSIsCiAgICBlbnRyeXR5cGU9ImlucHJvY2VlZGluZ3MiLAogICAgb3JnYW5pemF0aW9uPSJBQ00iLAogICAgSUQ9Im1hcnRpbmkyMDEzY29tbXVuaWNhdGlvbiIsCiAgICBncz0iMSIsCiAgICBwbGFjZXg9IlByb2NlZWRpbmdzIG9mIHRoZSAxN3RoIGludGVybmF0aW9uYWwgc29mdHdhcmUgcHJvZHVjdCBsaW5lIGNvbmZlcmVuY2UiLAopKQonJycpOw==\"));\n",
       "    "
      ],
      "text/plain": [
       "<IPython.core.display.Javascript object>"
      ]
     },
     "metadata": {},
     "output_type": "display_data"
    },
    {
     "data": {
      "application/javascript": [
       "$('span:contains(\"# Temp\")').closest('.cell').remove();"
      ],
      "text/plain": [
       "<IPython.core.display.Javascript object>"
      ]
     },
     "metadata": {},
     "output_type": "display_data"
    },
    {
     "data": {
      "application/javascript": [
       "\n",
       "        $('span:contains(\"# Temp\")').closest('.cell').remove();\n",
       "        var code = IPython.notebook.insert_cell_below('code');\n",
       "        code.set_text(atob(\"IyBUZW1wCmluc2VydCgnJycKYmFsYmlubzIwMTFhID0gREIoV29ya1VucmVsYXRlZCgKICAgIDIwMTEsICJBbiBBZ2lsZSBTY29waW5nIFByb2Nlc3MgZm9yIFNvZnR3YXJlIFByb2R1Y3QgTGluZXMuIiwKICAgIGRpc3BsYXk9ImJhbGJpbm8iLAogICAgYXV0aG9ycz0iQmFsYmlubywgTWFyY2VsYSBhbmQgZGUgQWxtZWlkYSwgRWR1YXJkbyBTYW50YW5hIGFuZCBkZSBMZW1vcyBNZWlyYSwgU2lsdmlvIFJvbWVybyIsCiAgICBwbGFjZT1GQUtFLAogICAgcHA9IjcxNy0tNzIyIiwKICAgIGVudHJ5dHlwZT0iaW5wcm9jZWVkaW5ncyIsCiAgICBJRD0iYmFsYmlubzIwMTFhZ2lsZSIsCiAgICBncz0iMSIsCiAgICBwbGFjZXg9IlNFS0UiLAopKQonJycpOw==\"));\n",
       "    "
      ],
      "text/plain": [
       "<IPython.core.display.Javascript object>"
      ]
     },
     "metadata": {},
     "output_type": "display_data"
    },
    {
     "data": {
      "application/javascript": [
       "$('span:contains(\"# Temp\")').closest('.cell').remove();"
      ],
      "text/plain": [
       "<IPython.core.display.Javascript object>"
      ]
     },
     "metadata": {},
     "output_type": "display_data"
    },
    {
     "data": {
      "application/javascript": [
       "\n",
       "        $('span:contains(\"# Temp\")').closest('.cell').remove();\n",
       "        var code = IPython.notebook.insert_cell_below('code');\n",
       "        code.set_text(atob(\"IyBUZW1wCmluc2VydCgnJycKYmFsYmlubzIwMTFhID0gREIoV29ya1VucmVsYXRlZCgKICAgIDIwMTEsICJBbiBBZ2lsZSBTY29waW5nIFByb2Nlc3MgZm9yIFNvZnR3YXJlIFByb2R1Y3QgTGluZXMuIiwKICAgIGRpc3BsYXk9ImJhbGJpbm8iLAogICAgYXV0aG9ycz0iQmFsYmlubywgTWFyY2VsYSBhbmQgZGUgQWxtZWlkYSwgRWR1YXJkbyBTYW50YW5hIGFuZCBkZSBMZW1vcyBNZWlyYSwgU2lsdmlvIFJvbWVybyIsCiAgICBwbGFjZT1GQUtFLAogICAgcHA9IjcxNy0tNzIyIiwKICAgIGVudHJ5dHlwZT0iaW5wcm9jZWVkaW5ncyIsCiAgICBJRD0iYmFsYmlubzIwMTFhZ2lsZSIsCiAgICBncz0iMSIsCiAgICBwbGFjZXg9IlNFS0UiLAopKQonJycpOw==\"));\n",
       "    "
      ],
      "text/plain": [
       "<IPython.core.display.Javascript object>"
      ]
     },
     "metadata": {},
     "output_type": "display_data"
    },
    {
     "data": {
      "application/javascript": [
       "$('span:contains(\"# Temp\")').closest('.cell').remove();"
      ],
      "text/plain": [
       "<IPython.core.display.Javascript object>"
      ]
     },
     "metadata": {},
     "output_type": "display_data"
    },
    {
     "data": {
      "application/javascript": [
       "\n",
       "        $('span:contains(\"# Temp\")').closest('.cell').remove();\n",
       "        var code = IPython.notebook.insert_cell_below('code');\n",
       "        code.set_text(atob(\"IyBUZW1wCmluc2VydCgnJycnJycpOwpzZXRfYXR0cmlidXRlKCdwYXJrMjAwNmEnLCAnb3JnYW5pemF0aW9uJywgJ0lFRUUnKTsKc2V0X2F0dHJpYnV0ZSgncGFyazIwMDZhJywgJ2dzJywgJzEnKTs=\"));\n",
       "    "
      ],
      "text/plain": [
       "<IPython.core.display.Javascript object>"
      ]
     },
     "metadata": {},
     "output_type": "display_data"
    },
    {
     "data": {
      "application/javascript": [
       "$('span:contains(\"# Temp\")').closest('.cell').remove();"
      ],
      "text/plain": [
       "<IPython.core.display.Javascript object>"
      ]
     },
     "metadata": {},
     "output_type": "display_data"
    },
    {
     "data": {
      "application/javascript": [
       "\n",
       "        $('span:contains(\"# Temp\")').closest('.cell').remove();\n",
       "        var code = IPython.notebook.insert_cell_below('code');\n",
       "        code.set_text(atob(\"IyBUZW1wCmluc2VydCgnJycnJycpOwpzZXRfYXR0cmlidXRlKCdwYXJrMjAwNmEnLCAnb3JnYW5pemF0aW9uJywgJ0lFRUUnKTsKc2V0X2F0dHJpYnV0ZSgncGFyazIwMDZhJywgJ2dzJywgJzEnKTs=\"));\n",
       "    "
      ],
      "text/plain": [
       "<IPython.core.display.Javascript object>"
      ]
     },
     "metadata": {},
     "output_type": "display_data"
    },
    {
     "data": {
      "application/javascript": [
       "$('span:contains(\"# Temp\")').closest('.cell').remove();"
      ],
      "text/plain": [
       "<IPython.core.display.Javascript object>"
      ]
     },
     "metadata": {},
     "output_type": "display_data"
    },
    {
     "data": {
      "application/javascript": [
       "\n",
       "        $('span:contains(\"# Temp\")').closest('.cell').remove();\n",
       "        var code = IPython.notebook.insert_cell_below('code');\n",
       "        code.set_text(atob(\"IyBUZW1wCmluc2VydCgnJycKY294MjAwOWEgPSBEQihXb3JrVW5yZWxhdGVkKAogICAgMjAwOSwgIkVtcGlyaWNhbCBzdHVkeSBvZiBTb21tZXJ2aWxsZSBhbmQgU2F3eWVyJ3MgcmVxdWlyZW1lbnRzIGVuZ2luZWVyaW5nIHByYWN0aWNlcyIsCiAgICBkaXNwbGF5PSJjb3giLAogICAgYXV0aG9ycz0iQ294LCBLYXJsIGFuZCBOaWF6aSwgTWFobW9vZCBhbmQgVmVybmVyLCBKdW5lIiwKICAgIHBsYWNlPUlFRUVTLAogICAgcHA9IjMzOS0tMzU1IiwKICAgIGVudHJ5dHlwZT0iYXJ0aWNsZSIsCiAgICB2b2x1bWU9IjMiLAogICAgbnVtYmVyPSI1IiwKICAgIHB1Ymxpc2hlcj0iSUVUIiwKICAgIElEPSJjb3gyMDA5ZW1waXJpY2FsIiwKICAgIGdzPSIxIiwKICAgIHBsYWNleD0iSUVUIHNvZnR3YXJlIiwKKSkKJycnKTs=\"));\n",
       "    "
      ],
      "text/plain": [
       "<IPython.core.display.Javascript object>"
      ]
     },
     "metadata": {},
     "output_type": "display_data"
    },
    {
     "data": {
      "application/javascript": [
       "$('span:contains(\"# Temp\")').closest('.cell').remove();"
      ],
      "text/plain": [
       "<IPython.core.display.Javascript object>"
      ]
     },
     "metadata": {},
     "output_type": "display_data"
    },
    {
     "data": {
      "application/javascript": [
       "\n",
       "        $('span:contains(\"# Temp\")').closest('.cell').remove();\n",
       "        var code = IPython.notebook.insert_cell_below('code');\n",
       "        code.set_text(atob(\"IyBUZW1wCmluc2VydCgnJycKY294MjAwOWEgPSBEQihXb3JrVW5yZWxhdGVkKAogICAgMjAwOSwgIkVtcGlyaWNhbCBzdHVkeSBvZiBTb21tZXJ2aWxsZSBhbmQgU2F3eWVyJ3MgcmVxdWlyZW1lbnRzIGVuZ2luZWVyaW5nIHByYWN0aWNlcyIsCiAgICBkaXNwbGF5PSJjb3giLAogICAgYXV0aG9ycz0iQ294LCBLYXJsIGFuZCBOaWF6aSwgTWFobW9vZCBhbmQgVmVybmVyLCBKdW5lIiwKICAgIHBsYWNlPUlFRUVTLAogICAgcHA9IjMzOS0tMzU1IiwKICAgIGVudHJ5dHlwZT0iYXJ0aWNsZSIsCiAgICB2b2x1bWU9IjMiLAogICAgbnVtYmVyPSI1IiwKICAgIHB1Ymxpc2hlcj0iSUVUIiwKICAgIElEPSJjb3gyMDA5ZW1waXJpY2FsIiwKICAgIGdzPSIxIiwKICAgIHBsYWNleD0iSUVUIHNvZnR3YXJlIiwKKSkKJycnKTs=\"));\n",
       "    "
      ],
      "text/plain": [
       "<IPython.core.display.Javascript object>"
      ]
     },
     "metadata": {},
     "output_type": "display_data"
    },
    {
     "data": {
      "application/javascript": [
       "$('span:contains(\"# Temp\")').closest('.cell').remove();"
      ],
      "text/plain": [
       "<IPython.core.display.Javascript object>"
      ]
     },
     "metadata": {},
     "output_type": "display_data"
    },
    {
     "data": {
      "application/javascript": [
       "\n",
       "        $('span:contains(\"# Temp\")').closest('.cell').remove();\n",
       "        var code = IPython.notebook.insert_cell_below('code');\n",
       "        code.set_text(atob(\"IyBUZW1wCmluc2VydCgnJycnJycpOwpzZXRfYXR0cmlidXRlKCdiYXJyZXRvMjAxMGInLCAnZ3MnLCAnMScpOw==\"));\n",
       "    "
      ],
      "text/plain": [
       "<IPython.core.display.Javascript object>"
      ]
     },
     "metadata": {},
     "output_type": "display_data"
    },
    {
     "data": {
      "application/javascript": [
       "$('span:contains(\"# Temp\")').closest('.cell').remove();"
      ],
      "text/plain": [
       "<IPython.core.display.Javascript object>"
      ]
     },
     "metadata": {},
     "output_type": "display_data"
    },
    {
     "data": {
      "application/javascript": [
       "\n",
       "        $('span:contains(\"# Temp\")').closest('.cell').remove();\n",
       "        var code = IPython.notebook.insert_cell_below('code');\n",
       "        code.set_text(atob(\"IyBUZW1wCmluc2VydCgnJycnJycpOwpzZXRfYXR0cmlidXRlKCdiYXJyZXRvMjAxMGInLCAnZ3MnLCAnMScpOw==\"));\n",
       "    "
      ],
      "text/plain": [
       "<IPython.core.display.Javascript object>"
      ]
     },
     "metadata": {},
     "output_type": "display_data"
    },
    {
     "data": {
      "application/javascript": [
       "$('span:contains(\"# Temp\")').closest('.cell').remove();"
      ],
      "text/plain": [
       "<IPython.core.display.Javascript object>"
      ]
     },
     "metadata": {},
     "output_type": "display_data"
    },
    {
     "data": {
      "application/javascript": [
       "\n",
       "        $('span:contains(\"# Temp\")').closest('.cell').remove();\n",
       "        var code = IPython.notebook.insert_cell_below('code');\n",
       "        code.set_text(atob(\"IyBUZW1wCmluc2VydCgnJycKYmFyY2VsbG9zMjAxM2EgPSBEQihXb3JrVW5yZWxhdGVkKAogICAgMjAxMywgIkEgc3RyYXRlZ3kgZm9yIHByZXBhcmluZyBzb2Z0d2FyZSBvcmdhbml6YXRpb25zIGZvciBzdGF0aXN0aWNhbCBwcm9jZXNzIGNvbnRyb2wiLAogICAgZGlzcGxheT0iYmFyY2VsbG9zIiwKICAgIGF1dGhvcnM9IkJhcmNlbGxvcywgTW9uYWxlc3NhIFBlcmluaSBhbmQgZGUgQWxtZWlkYSBGYWxibywgUmljYXJkbyBhbmQgUm9jaGEsIEFuYSBSZWdpbmEiLAogICAgcGxhY2U9SkJDUywKICAgIHBwPSI0NDUtLTQ3MyIsCiAgICBlbnRyeXR5cGU9ImFydGljbGUiLAogICAgdm9sdW1lPSIxOSIsCiAgICBudW1iZXI9IjQiLAogICAgcHVibGlzaGVyPSJTcHJpbmdlciIsCiAgICBJRD0iYmFyY2VsbG9zMjAxM3N0cmF0ZWd5IiwKICAgIGdzPSIxIiwKICAgIHBsYWNleD0iSm91cm5hbCBvZiB0aGUgQnJhemlsaWFuIENvbXB1dGVyIFNvY2lldHkiLAopKQonJycpOw==\"));\n",
       "    "
      ],
      "text/plain": [
       "<IPython.core.display.Javascript object>"
      ]
     },
     "metadata": {},
     "output_type": "display_data"
    },
    {
     "data": {
      "application/javascript": [
       "$('span:contains(\"# Temp\")').closest('.cell').remove();"
      ],
      "text/plain": [
       "<IPython.core.display.Javascript object>"
      ]
     },
     "metadata": {},
     "output_type": "display_data"
    },
    {
     "data": {
      "application/javascript": [
       "\n",
       "        $('span:contains(\"# Temp\")').closest('.cell').remove();\n",
       "        var code = IPython.notebook.insert_cell_below('code');\n",
       "        code.set_text(atob(\"IyBUZW1wCmluc2VydCgnJycKYmFyY2VsbG9zMjAxM2EgPSBEQihXb3JrVW5yZWxhdGVkKAogICAgMjAxMywgIkEgc3RyYXRlZ3kgZm9yIHByZXBhcmluZyBzb2Z0d2FyZSBvcmdhbml6YXRpb25zIGZvciBzdGF0aXN0aWNhbCBwcm9jZXNzIGNvbnRyb2wiLAogICAgZGlzcGxheT0iYmFyY2VsbG9zIiwKICAgIGF1dGhvcnM9IkJhcmNlbGxvcywgTW9uYWxlc3NhIFBlcmluaSBhbmQgZGUgQWxtZWlkYSBGYWxibywgUmljYXJkbyBhbmQgUm9jaGEsIEFuYSBSZWdpbmEiLAogICAgcGxhY2U9SkJDUywKICAgIHBwPSI0NDUtLTQ3MyIsCiAgICBlbnRyeXR5cGU9ImFydGljbGUiLAogICAgdm9sdW1lPSIxOSIsCiAgICBudW1iZXI9IjQiLAogICAgcHVibGlzaGVyPSJTcHJpbmdlciIsCiAgICBJRD0iYmFyY2VsbG9zMjAxM3N0cmF0ZWd5IiwKICAgIGdzPSIxIiwKICAgIHBsYWNleD0iSm91cm5hbCBvZiB0aGUgQnJhemlsaWFuIENvbXB1dGVyIFNvY2lldHkiLAopKQonJycpOw==\"));\n",
       "    "
      ],
      "text/plain": [
       "<IPython.core.display.Javascript object>"
      ]
     },
     "metadata": {},
     "output_type": "display_data"
    }
   ],
   "source": [
    "from custom_snowballing import UnrelatedInsert\n",
    "UnrelatedInsert(\"gs\", articles=article_list)"
   ]
  },
  {
   "cell_type": "code",
   "execution_count": 50,
   "metadata": {},
   "outputs": [
    {
     "name": "stdout",
     "output_type": "stream",
     "text": [
      "-Insert: barcellos2013a\n"
     ]
    }
   ],
   "source": [
    "# Temp\n",
    "insert('''\n",
    "barcellos2013a = DB(WorkUnrelated(\n",
    "    2013, \"A strategy for preparing software organizations for statistical process control\",\n",
    "    display=\"barcellos\",\n",
    "    authors=\"Barcellos, Monalessa Perini and de Almeida Falbo, Ricardo and Rocha, Ana Regina\",\n",
    "    place=JBCS,\n",
    "    pp=\"445--473\",\n",
    "    entrytype=\"article\",\n",
    "    volume=\"19\",\n",
    "    number=\"4\",\n",
    "    publisher=\"Springer\",\n",
    "    ID=\"barcellos2013strategy\",\n",
    "    gs=\"1\",\n",
    "    placex=\"Journal of the Brazilian Computer Society\",\n",
    "))\n",
    "''');"
   ]
  },
  {
   "cell_type": "code",
   "execution_count": null,
   "metadata": {
    "collapsed": true
   },
   "outputs": [],
   "source": []
  }
 ],
 "metadata": {
  "kernelspec": {
   "display_name": "Python 3",
   "language": "python",
   "name": "python3"
  },
  "language_info": {
   "codemirror_mode": {
    "name": "ipython",
    "version": 3
   },
   "file_extension": ".py",
   "mimetype": "text/x-python",
   "name": "python",
   "nbconvert_exporter": "python",
   "pygments_lexer": "ipython3",
   "version": "3.6.0"
  },
  "toc": {
   "nav_menu": {
    "height": "12px",
    "width": "252px"
   },
   "number_sections": true,
   "sideBar": true,
   "skip_h1_title": false,
   "toc_cell": false,
   "toc_position": {},
   "toc_section_display": "block",
   "toc_window_display": false
  }
 },
 "nbformat": 4,
 "nbformat_minor": 2
}
