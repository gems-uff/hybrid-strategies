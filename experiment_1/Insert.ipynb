{
 "cells": [
  {
   "cell_type": "code",
   "execution_count": 95,
   "metadata": {
    "collapsed": true
   },
   "outputs": [],
   "source": [
    "import database\n",
    "from snowballing.operations import load_work, reload, work_by_varname\n",
    "from snowballing.snowballing import Converter\n",
    "from snowballing.snowballing import ArticleNavigator\n",
    "from snowballing.dbmanager import insert, set_attribute"
   ]
  },
  {
   "cell_type": "code",
   "execution_count": 96,
   "metadata": {
    "scrolled": false
   },
   "outputs": [
    {
     "data": {
      "application/vnd.jupyter.widget-view+json": {
       "model_id": "7833d62f8a894fe3ac947433953d98dc",
       "version_major": 2,
       "version_minor": 0
      },
      "text/html": [
       "<p>Failed to display Jupyter Widget of type <code>VBox</code>.</p>\n",
       "<p>\n",
       "  If you're reading this message in Jupyter Notebook or JupyterLab, it may mean\n",
       "  that the widgets JavaScript is still loading. If this message persists, it\n",
       "  likely means that the widgets JavaScript library is either not installed or\n",
       "  not enabled. See the <a href=\"https://ipywidgets.readthedocs.io/en/stable/user_install.html\">Jupyter\n",
       "  Widgets Documentation</a> for setup instructions.\n",
       "</p>\n",
       "<p>\n",
       "  If you're reading this message in another notebook frontend (for example, a static\n",
       "  rendering on GitHub or <a href=\"https://nbviewer.jupyter.org/\">NBViewer</a>),\n",
       "  it may mean that your frontend doesn't currently support widgets.\n",
       "</p>\n"
      ],
      "text/plain": [
       "VBox(children=(HBox(children=(Dropdown(options={'BibTeX': 'bibtex', 'Text': 'text', '[N] author name place other year': 'citation', 'Quoted': 'quoted'}, value='bibtex'), Button(description='Set article_list variable', style=ButtonStyle()), Label(value=''))), HBox(children=(Textarea(value='', layout=Layout(height='500px', width='50%')), Textarea(value='', layout=Layout(height='500px', width='50%'))))))"
      ]
     },
     "metadata": {},
     "output_type": "display_data"
    }
   ],
   "source": [
    "Converter(\"bibtex\")"
   ]
  },
  {
   "cell_type": "code",
   "execution_count": 97,
   "metadata": {},
   "outputs": [
    {
     "data": {
      "text/plain": [
       "21"
      ]
     },
     "execution_count": 97,
     "metadata": {},
     "output_type": "execute_result"
    }
   ],
   "source": [
    "len(article_list)"
   ]
  },
  {
   "cell_type": "code",
   "execution_count": 98,
   "metadata": {
    "collapsed": true
   },
   "outputs": [],
   "source": [
    "from snowballing.operations import reload\n",
    "reload()\n"
   ]
  },
  {
   "cell_type": "code",
   "execution_count": null,
   "metadata": {
    "collapsed": true
   },
   "outputs": [],
   "source": []
  },
  {
   "cell_type": "code",
   "execution_count": 99,
   "metadata": {},
   "outputs": [
    {
     "data": {
      "application/vnd.jupyter.widget-view+json": {
       "model_id": "cf23677761fa48759b2c5d10fd5971d0",
       "version_major": 2,
       "version_minor": 0
      },
      "text/html": [
       "<p>Failed to display Jupyter Widget of type <code>VBox</code>.</p>\n",
       "<p>\n",
       "  If you're reading this message in Jupyter Notebook or JupyterLab, it may mean\n",
       "  that the widgets JavaScript is still loading. If this message persists, it\n",
       "  likely means that the widgets JavaScript library is either not installed or\n",
       "  not enabled. See the <a href=\"https://ipywidgets.readthedocs.io/en/stable/user_install.html\">Jupyter\n",
       "  Widgets Documentation</a> for setup instructions.\n",
       "</p>\n",
       "<p>\n",
       "  If you're reading this message in another notebook frontend (for example, a static\n",
       "  rendering on GitHub or <a href=\"https://nbviewer.jupyter.org/\">NBViewer</a>),\n",
       "  it may mean that your frontend doesn't currently support widgets.\n",
       "</p>\n"
      ],
      "text/plain": [
       "VBox(children=(HBox(children=(Button(description='Previous Article', disabled=True, icon='caret-left', style=ButtonStyle()), Button(description='Reload Article', icon='refresh', style=ButtonStyle()), Button(description='Next Article', icon='caret-right', style=ButtonStyle()))), HBox(children=(Dropdown(description='Type', index=5, options=('Work', 'WorkSnowball', 'WorkForward', 'WorkBackward', 'WorkOk', 'WorkUnrelated', 'WorkNoFile', 'WorkLang', 'Site', 'Email'), value='WorkUnrelated'), ToggleButton(value=False, description='File'))), HBox(children=(Text(value='', description='Due'), Text(value='', description='Place'))), HBox(children=(Text(value='', description='Year'), Text(value='', description='Prefix Var'))), HBox(children=(Text(value='', description='PDFPage'), Text(value='', description='Related'))), HBox(children=(Text(value='', description='Display'), Text(value='', description='Summary'))), HBox(children=(Text(value='', description='Star'), Text(value='', description='Link'))), HBox(children=(Text(value='1', description='springer'),)), HBox(children=(Button(description='Reload Article', icon='refresh', style=ButtonStyle()), IntSlider(value=0, max=20), Label(value='1/21'))), Output()))"
      ]
     },
     "metadata": {},
     "output_type": "display_data"
    },
    {
     "data": {
      "application/javascript": [
       "$('span:contains(\"# Temp\")').closest('.cell').remove();"
      ],
      "text/plain": [
       "<IPython.core.display.Javascript object>"
      ]
     },
     "metadata": {},
     "output_type": "display_data"
    },
    {
     "data": {
      "application/javascript": [
       "\n",
       "        $('span:contains(\"# Temp\")').closest('.cell').remove();\n",
       "        var code = IPython.notebook.insert_cell_below('code');\n",
       "        code.set_text(atob(\"IyBUZW1wCmluc2VydCgnJycKICAgIHBvc3RlbWEyMDAyYSA9IERCKFdvcmtVbnJlbGF0ZWQoCiAgICAgICAgMjAwMiwgIlBsYXRmb3JtIEJhc2VkIFByb2R1Y3QgRGV2ZWxvcG1lbnQiLAogICAgICAgIGRpc3BsYXk9InBvc3RlbWEiLAogICAgICAgIGF1dGhvcnM9IlBvc3RlbWEsIEhlcm1hbgphbmQgT2JiaW5rLCBKLiBIZW5rIiwKICAgICAgICBwbGFjZT1GQUtFLAogICAgICAgIHBwPSIzOTAtLTQwMCIsCiAgICAgICAgZW50cnl0eXBlPSJpbnByb2NlZWRpbmdzIiwKICAgICAgICBlZGl0b3I9InZhbiBkZXIgTGluZGVuLCBGcmFuayIsCiAgICAgICAgcHVibGlzaGVyPSJTcHJpbmdlciBCZXJsaW4gSGVpZGVsYmVyZyIsCiAgICAgICAgYWRkcmVzcz0iQmVybGluLCBIZWlkZWxiZXJnIiwKICAgICAgICBJRD0iMTAuMTAwNy8zLTU0MC00NzgzMy03XzM2IiwKICAgICAgICBzcHJpbmdlcj0iMSIsCiAgICAgICAgcGxhY2V4PSJTb2Z0d2FyZSBQcm9kdWN0LUZhbWlseSBFbmdpbmVlcmluZyIsCiAgICApKQonJycpOw==\"));\n",
       "    "
      ],
      "text/plain": [
       "<IPython.core.display.Javascript object>"
      ]
     },
     "metadata": {},
     "output_type": "display_data"
    },
    {
     "data": {
      "application/javascript": [
       "$('span:contains(\"# Temp\")').closest('.cell').remove();"
      ],
      "text/plain": [
       "<IPython.core.display.Javascript object>"
      ]
     },
     "metadata": {},
     "output_type": "display_data"
    },
    {
     "data": {
      "application/javascript": [
       "\n",
       "        $('span:contains(\"# Temp\")').closest('.cell').remove();\n",
       "        var code = IPython.notebook.insert_cell_below('code');\n",
       "        code.set_text(atob(\"IyBUZW1wCmluc2VydCgnJycKICAgIGhhdWdlMjAxMGIgPSBEQihXb3JrVW5yZWxhdGVkKAogICAgICAgIDIwMTAsICJSaXNrcyBhbmQgUmlzayBNaXRpZ2F0aW9uIGluIE9wZW4gU291cmNlIFNvZnR3YXJlIEFkb3B0aW9uOiBCcmlkZ2luZyB0aGUgR2FwIGJldHdlZW4gTGl0ZXJhdHVyZSBhbmQgUHJhY3RpY2UiLAogICAgICAgIGRpc3BsYXk9ImhhdWdlIGIiLAogICAgICAgIGF1dGhvcnM9IkhhdWdlLCDYeXZpbmQKYW5kIENydXplcywgRGFuaWVsYSBTb2FyZXMKYW5kIENvbnJhZGksIFJlaWRhcgphbmQgVmVsbGUsIEtldGlsIFNhbmRhbmdlcgphbmQgU2thcnBlbmVzLCBUcm9uIEFuZHLpIiwKICAgICAgICBwbGFjZT1GQUtFLAogICAgICAgIHBwPSIxMDUtLTExOCIsCiAgICAgICAgZW50cnl0eXBlPSJpbnByb2NlZWRpbmdzIiwKICAgICAgICBlZGl0b3I9IsVnZXJmYWxrLCBQ5HIKYW5kIEJvbGR5cmVmZiwgQ29ybmVsaWEKYW5kIEdvbnrhbGV6LUJhcmFob25hLCBKZXP6cyBNLgphbmQgTWFkZXksIEdyZWdvcnkgUi4KYW5kIE5vbGwsIEpvaG4iLAogICAgICAgIHB1Ymxpc2hlcj0iU3ByaW5nZXIgQmVybGluIEhlaWRlbGJlcmciLAogICAgICAgIGFkZHJlc3M9IkJlcmxpbiwgSGVpZGVsYmVyZyIsCiAgICAgICAgSUQ9IjEwLjEwMDcvOTc4LTMtNjQyLTEzMjQ0LTVfOSIsCiAgICAgICAgc3ByaW5nZXI9IjEiLAogICAgICAgIHBsYWNleD0iT3BlbiBTb3VyY2UgU29mdHdhcmU6IE5ldyBIb3Jpem9ucyIsCiAgICApKQonJycpOw==\"));\n",
       "    "
      ],
      "text/plain": [
       "<IPython.core.display.Javascript object>"
      ]
     },
     "metadata": {},
     "output_type": "display_data"
    },
    {
     "data": {
      "application/javascript": [
       "$('span:contains(\"# Temp\")').closest('.cell').remove();"
      ],
      "text/plain": [
       "<IPython.core.display.Javascript object>"
      ]
     },
     "metadata": {},
     "output_type": "display_data"
    },
    {
     "data": {
      "application/javascript": [
       "\n",
       "        $('span:contains(\"# Temp\")').closest('.cell').remove();\n",
       "        var code = IPython.notebook.insert_cell_below('code');\n",
       "        code.set_text(atob(\"IyBUZW1wCmluc2VydCgnJycKICAgIGhhdWdlMjAxMGIgPSBEQihXb3JrVW5yZWxhdGVkKAogICAgICAgIDIwMTAsICJSaXNrcyBhbmQgUmlzayBNaXRpZ2F0aW9uIGluIE9wZW4gU291cmNlIFNvZnR3YXJlIEFkb3B0aW9uOiBCcmlkZ2luZyB0aGUgR2FwIGJldHdlZW4gTGl0ZXJhdHVyZSBhbmQgUHJhY3RpY2UiLAogICAgICAgIGRpc3BsYXk9ImhhdWdlIGIiLAogICAgICAgIGF1dGhvcnM9IkhhdWdlLCDYeXZpbmQKYW5kIENydXplcywgRGFuaWVsYSBTb2FyZXMKYW5kIENvbnJhZGksIFJlaWRhcgphbmQgVmVsbGUsIEtldGlsIFNhbmRhbmdlcgphbmQgU2thcnBlbmVzLCBUcm9uIEFuZHLpIiwKICAgICAgICBwbGFjZT1GQUtFLAogICAgICAgIHBwPSIxMDUtLTExOCIsCiAgICAgICAgZW50cnl0eXBlPSJpbnByb2NlZWRpbmdzIiwKICAgICAgICBlZGl0b3I9IsVnZXJmYWxrLCBQ5HIKYW5kIEJvbGR5cmVmZiwgQ29ybmVsaWEKYW5kIEdvbnrhbGV6LUJhcmFob25hLCBKZXP6cyBNLgphbmQgTWFkZXksIEdyZWdvcnkgUi4KYW5kIE5vbGwsIEpvaG4iLAogICAgICAgIHB1Ymxpc2hlcj0iU3ByaW5nZXIgQmVybGluIEhlaWRlbGJlcmciLAogICAgICAgIGFkZHJlc3M9IkJlcmxpbiwgSGVpZGVsYmVyZyIsCiAgICAgICAgSUQ9IjEwLjEwMDcvOTc4LTMtNjQyLTEzMjQ0LTVfOSIsCiAgICAgICAgc3ByaW5nZXI9IjEiLAogICAgICAgIHBsYWNleD0iT3BlbiBTb3VyY2UgU29mdHdhcmU6IE5ldyBIb3Jpem9ucyIsCiAgICApKQonJycpOw==\"));\n",
       "    "
      ],
      "text/plain": [
       "<IPython.core.display.Javascript object>"
      ]
     },
     "metadata": {},
     "output_type": "display_data"
    },
    {
     "data": {
      "application/javascript": [
       "$('span:contains(\"# Temp\")').closest('.cell').remove();"
      ],
      "text/plain": [
       "<IPython.core.display.Javascript object>"
      ]
     },
     "metadata": {},
     "output_type": "display_data"
    },
    {
     "data": {
      "application/javascript": [
       "\n",
       "        $('span:contains(\"# Temp\")').closest('.cell').remove();\n",
       "        var code = IPython.notebook.insert_cell_below('code');\n",
       "        code.set_text(atob(\"IyBUZW1wCmluc2VydCgnJycKb2JiaW5rMTk5NWEgPSBEQihXb3JrVW5yZWxhdGVkKAogICAgMTk5NSwgIlByb2Nlc3MgZGlmZmVyZW50aWF0aW9uIGFuZCBpbnRlZ3JhdGlvbjogVGhlIGtleSB0byBqdXN0LWluLXRpbWUgaW4gcHJvZHVjdCBkZXZlbG9wbWVudCIsCiAgICBkaXNwbGF5PSJvYmJpbmsiLAogICAgYXV0aG9ycz0iT2JiaW5rLCBKLiBIZW5rIiwKICAgIHBsYWNlPUZBS0UsCiAgICBwcD0iNzktLTkyIiwKICAgIGVudHJ5dHlwZT0iaW5wcm9jZWVkaW5ncyIsCiAgICBlZGl0b3I9IlNjaORmZXIsIFdpbGhlbG0iLAogICAgcHVibGlzaGVyPSJTcHJpbmdlciBCZXJsaW4gSGVpZGVsYmVyZyIsCiAgICBhZGRyZXNzPSJCZXJsaW4sIEhlaWRlbGJlcmciLAogICAgSUQ9IjEwLjEwMDcvMy01NDAtNTkyMDUtOV80NCIsCiAgICBzcHJpbmdlcj0iMSIsCiAgICBwbGFjZXg9IlNvZnR3YXJlIFByb2Nlc3MgVGVjaG5vbG9neSIsCikpCicnJyk7\"));\n",
       "    "
      ],
      "text/plain": [
       "<IPython.core.display.Javascript object>"
      ]
     },
     "metadata": {},
     "output_type": "display_data"
    },
    {
     "data": {
      "application/javascript": [
       "$('span:contains(\"# Temp\")').closest('.cell').remove();"
      ],
      "text/plain": [
       "<IPython.core.display.Javascript object>"
      ]
     },
     "metadata": {},
     "output_type": "display_data"
    },
    {
     "data": {
      "application/javascript": [
       "\n",
       "        $('span:contains(\"# Temp\")').closest('.cell').remove();\n",
       "        var code = IPython.notebook.insert_cell_below('code');\n",
       "        code.set_text(atob(\"IyBUZW1wCmluc2VydCgnJycKb2JiaW5rMTk5NWEgPSBEQihXb3JrVW5yZWxhdGVkKAogICAgMTk5NSwgIlByb2Nlc3MgZGlmZmVyZW50aWF0aW9uIGFuZCBpbnRlZ3JhdGlvbjogVGhlIGtleSB0byBqdXN0LWluLXRpbWUgaW4gcHJvZHVjdCBkZXZlbG9wbWVudCIsCiAgICBkaXNwbGF5PSJvYmJpbmsiLAogICAgYXV0aG9ycz0iT2JiaW5rLCBKLiBIZW5rIiwKICAgIHBsYWNlPUZBS0UsCiAgICBwcD0iNzktLTkyIiwKICAgIGVudHJ5dHlwZT0iaW5wcm9jZWVkaW5ncyIsCiAgICBlZGl0b3I9IlNjaORmZXIsIFdpbGhlbG0iLAogICAgcHVibGlzaGVyPSJTcHJpbmdlciBCZXJsaW4gSGVpZGVsYmVyZyIsCiAgICBhZGRyZXNzPSJCZXJsaW4sIEhlaWRlbGJlcmciLAogICAgSUQ9IjEwLjEwMDcvMy01NDAtNTkyMDUtOV80NCIsCiAgICBzcHJpbmdlcj0iMSIsCiAgICBwbGFjZXg9IlNvZnR3YXJlIFByb2Nlc3MgVGVjaG5vbG9neSIsCikpCicnJyk7\"));\n",
       "    "
      ],
      "text/plain": [
       "<IPython.core.display.Javascript object>"
      ]
     },
     "metadata": {},
     "output_type": "display_data"
    },
    {
     "data": {
      "application/javascript": [
       "$('span:contains(\"# Temp\")').closest('.cell').remove();"
      ],
      "text/plain": [
       "<IPython.core.display.Javascript object>"
      ]
     },
     "metadata": {},
     "output_type": "display_data"
    },
    {
     "data": {
      "application/javascript": [
       "\n",
       "        $('span:contains(\"# Temp\")').closest('.cell').remove();\n",
       "        var code = IPython.notebook.insert_cell_below('code');\n",
       "        code.set_text(atob(\"IyBUZW1wCmluc2VydCgnJycKICAgIGRhZzIwMDJhID0gREIoV29ya1VucmVsYXRlZCgKICAgICAgICAyMDAyLCAiQSBGZWFzaWJpbGl0eSBTdHVkeSBvZiBBdXRvbWF0ZWQgTmF0dXJhbCBMYW5ndWFnZSBSZXF1aXJlbWVudHMgQW5hbHlzaXMgaW4gTWFya2V0LURyaXZlbiBEZXZlbG9wbWVudCIsCiAgICAgICAgZGlzcGxheT0iZGFnIiwKICAgICAgICBhdXRob3JzPSJOYXR0IG9jaCBEYWcsIEpvaGFuCmFuZCBSZWduZWxsLCBCavZybgphbmQgQ2FybHNoYW1yZSwgUORyCmFuZCBBbmRlcnNzb24sIE1pY2hhZWwKYW5kIEthcmxzc29uLCBKb2FjaGltIiwKICAgICAgICBwbGFjZT1GQUtFLAogICAgICAgIHBwPSIyMC0tMzMiLAogICAgICAgIGVudHJ5dHlwZT0iYXJ0aWNsZSIsCiAgICAgICAgbW9udGg9IkFwciIsCiAgICAgICAgZGF5PSIwMSIsCiAgICAgICAgdm9sdW1lPSI3IiwKICAgICAgICBudW1iZXI9IjEiLAogICAgICAgIGlzc249IjE0MzItMDEwWCIsCiAgICAgICAgZG9pPSIxMC4xMDA3L3MwMDc2NjAyMDAwMDIiLAogICAgICAgIElEPSJOYXR0b2NoRGFnMjAwMiIsCiAgICAgICAgc3ByaW5nZXI9IjEiLAogICAgICAgIHBsYWNleD0iUmVxdWlyZW1lbnRzIEVuZ2luZWVyaW5nIiwKICAgICkpCicnJyk7\"));\n",
       "    "
      ],
      "text/plain": [
       "<IPython.core.display.Javascript object>"
      ]
     },
     "metadata": {},
     "output_type": "display_data"
    },
    {
     "data": {
      "application/javascript": [
       "$('span:contains(\"# Temp\")').closest('.cell').remove();"
      ],
      "text/plain": [
       "<IPython.core.display.Javascript object>"
      ]
     },
     "metadata": {},
     "output_type": "display_data"
    },
    {
     "data": {
      "application/javascript": [
       "\n",
       "        $('span:contains(\"# Temp\")').closest('.cell').remove();\n",
       "        var code = IPython.notebook.insert_cell_below('code');\n",
       "        code.set_text(atob(\"IyBUZW1wCmluc2VydCgnJycKICAgIGRhZzIwMDJhID0gREIoV29ya1VucmVsYXRlZCgKICAgICAgICAyMDAyLCAiQSBGZWFzaWJpbGl0eSBTdHVkeSBvZiBBdXRvbWF0ZWQgTmF0dXJhbCBMYW5ndWFnZSBSZXF1aXJlbWVudHMgQW5hbHlzaXMgaW4gTWFya2V0LURyaXZlbiBEZXZlbG9wbWVudCIsCiAgICAgICAgZGlzcGxheT0iZGFnIiwKICAgICAgICBhdXRob3JzPSJOYXR0IG9jaCBEYWcsIEpvaGFuCmFuZCBSZWduZWxsLCBCavZybgphbmQgQ2FybHNoYW1yZSwgUORyCmFuZCBBbmRlcnNzb24sIE1pY2hhZWwKYW5kIEthcmxzc29uLCBKb2FjaGltIiwKICAgICAgICBwbGFjZT1GQUtFLAogICAgICAgIHBwPSIyMC0tMzMiLAogICAgICAgIGVudHJ5dHlwZT0iYXJ0aWNsZSIsCiAgICAgICAgbW9udGg9IkFwciIsCiAgICAgICAgZGF5PSIwMSIsCiAgICAgICAgdm9sdW1lPSI3IiwKICAgICAgICBudW1iZXI9IjEiLAogICAgICAgIGlzc249IjE0MzItMDEwWCIsCiAgICAgICAgZG9pPSIxMC4xMDA3L3MwMDc2NjAyMDAwMDIiLAogICAgICAgIElEPSJOYXR0b2NoRGFnMjAwMiIsCiAgICAgICAgc3ByaW5nZXI9IjEiLAogICAgICAgIHBsYWNleD0iUmVxdWlyZW1lbnRzIEVuZ2luZWVyaW5nIiwKICAgICkpCicnJyk7\"));\n",
       "    "
      ],
      "text/plain": [
       "<IPython.core.display.Javascript object>"
      ]
     },
     "metadata": {},
     "output_type": "display_data"
    },
    {
     "data": {
      "application/javascript": [
       "$('span:contains(\"# Temp\")').closest('.cell').remove();"
      ],
      "text/plain": [
       "<IPython.core.display.Javascript object>"
      ]
     },
     "metadata": {},
     "output_type": "display_data"
    },
    {
     "data": {
      "application/javascript": [
       "\n",
       "        $('span:contains(\"# Temp\")').closest('.cell').remove();\n",
       "        var code = IPython.notebook.insert_cell_below('code');\n",
       "        code.set_text(atob(\"IyBUZW1wCmluc2VydCgnJycKICAgIG5pZWJ1aHIyMDA4YSA9IERCKFdvcmtVbnJlbGF0ZWQoCiAgICAgICAgMjAwOCwgIkVuZ2FnaW5nIFBhdHRlcm5zOiBDaGFsbGVuZ2VzIGFuZCBNZWFucyBTaG93biBieSBhbiBFeGFtcGxlIiwKICAgICAgICBkaXNwbGF5PSJuaWVidWhyIiwKICAgICAgICBhdXRob3JzPSJOaWVidWhyLCBTYWJpbmUKYW5kIEtvaGxlciwgS2lyc3RpbgphbmQgR3JhZiwgQ2hyaXN0aWFuIiwKICAgICAgICBwbGFjZT1GQUtFLAogICAgICAgIHBwPSI1ODYtLTYwMCIsCiAgICAgICAgZW50cnl0eXBlPSJpbnByb2NlZWRpbmdzIiwKICAgICAgICBlZGl0b3I9Ikd1bGxpa3NlbiwgSmFuCmFuZCBIYXJuaW5nLCBNb3J0b24gQm9ydXAKYW5kIFBhbGFucXVlLCBQaGlsaXBwZQphbmQgdmFuIGRlciBWZWVyLCBHZXJyaXQgQy4KYW5kIFdlc3NvbiwgSmFuZXQiLAogICAgICAgIHB1Ymxpc2hlcj0iU3ByaW5nZXIgQmVybGluIEhlaWRlbGJlcmciLAogICAgICAgIGFkZHJlc3M9IkJlcmxpbiwgSGVpZGVsYmVyZyIsCiAgICAgICAgSUQ9IjEwLjEwMDcvOTc4LTMtNTQwLTkyNjk4LTZfMzUiLAogICAgICAgIHNwcmluZ2VyPSIxIiwKICAgICAgICBwbGFjZXg9IkVuZ2luZWVyaW5nIEludGVyYWN0aXZlIFN5c3RlbXMiLAogICAgKSkKJycnKTs=\"));\n",
       "    "
      ],
      "text/plain": [
       "<IPython.core.display.Javascript object>"
      ]
     },
     "metadata": {},
     "output_type": "display_data"
    },
    {
     "data": {
      "application/javascript": [
       "$('span:contains(\"# Temp\")').closest('.cell').remove();"
      ],
      "text/plain": [
       "<IPython.core.display.Javascript object>"
      ]
     },
     "metadata": {},
     "output_type": "display_data"
    },
    {
     "data": {
      "application/javascript": [
       "\n",
       "        $('span:contains(\"# Temp\")').closest('.cell').remove();\n",
       "        var code = IPython.notebook.insert_cell_below('code');\n",
       "        code.set_text(atob(\"IyBUZW1wCmluc2VydCgnJycKICAgIG5pZWJ1aHIyMDA4YSA9IERCKFdvcmtVbnJlbGF0ZWQoCiAgICAgICAgMjAwOCwgIkVuZ2FnaW5nIFBhdHRlcm5zOiBDaGFsbGVuZ2VzIGFuZCBNZWFucyBTaG93biBieSBhbiBFeGFtcGxlIiwKICAgICAgICBkaXNwbGF5PSJuaWVidWhyIiwKICAgICAgICBhdXRob3JzPSJOaWVidWhyLCBTYWJpbmUKYW5kIEtvaGxlciwgS2lyc3RpbgphbmQgR3JhZiwgQ2hyaXN0aWFuIiwKICAgICAgICBwbGFjZT1GQUtFLAogICAgICAgIHBwPSI1ODYtLTYwMCIsCiAgICAgICAgZW50cnl0eXBlPSJpbnByb2NlZWRpbmdzIiwKICAgICAgICBlZGl0b3I9Ikd1bGxpa3NlbiwgSmFuCmFuZCBIYXJuaW5nLCBNb3J0b24gQm9ydXAKYW5kIFBhbGFucXVlLCBQaGlsaXBwZQphbmQgdmFuIGRlciBWZWVyLCBHZXJyaXQgQy4KYW5kIFdlc3NvbiwgSmFuZXQiLAogICAgICAgIHB1Ymxpc2hlcj0iU3ByaW5nZXIgQmVybGluIEhlaWRlbGJlcmciLAogICAgICAgIGFkZHJlc3M9IkJlcmxpbiwgSGVpZGVsYmVyZyIsCiAgICAgICAgSUQ9IjEwLjEwMDcvOTc4LTMtNTQwLTkyNjk4LTZfMzUiLAogICAgICAgIHNwcmluZ2VyPSIxIiwKICAgICAgICBwbGFjZXg9IkVuZ2luZWVyaW5nIEludGVyYWN0aXZlIFN5c3RlbXMiLAogICAgKSkKJycnKTs=\"));\n",
       "    "
      ],
      "text/plain": [
       "<IPython.core.display.Javascript object>"
      ]
     },
     "metadata": {},
     "output_type": "display_data"
    },
    {
     "data": {
      "application/javascript": [
       "$('span:contains(\"# Temp\")').closest('.cell').remove();"
      ],
      "text/plain": [
       "<IPython.core.display.Javascript object>"
      ]
     },
     "metadata": {},
     "output_type": "display_data"
    },
    {
     "data": {
      "application/javascript": [
       "\n",
       "        $('span:contains(\"# Temp\")').closest('.cell').remove();\n",
       "        var code = IPython.notebook.insert_cell_below('code');\n",
       "        code.set_text(atob(\"IyBUZW1wCmluc2VydCgnJycKICAgIHJvYmxlczIwMTJhID0gREIoV29ya1VucmVsYXRlZCgKICAgICAgICAyMDEyLCAiQSBDb21wcmVoZW5zaXZlIFN0dWR5IG9mIFNvZnR3YXJlIEZvcmtzOiBEYXRlcywgUmVhc29ucyBhbmQgT3V0Y29tZXMiLAogICAgICAgIGRpc3BsYXk9InJvYmxlcyIsCiAgICAgICAgYXV0aG9ycz0iUm9ibGVzLCBHcmVnb3JpbwphbmQgR29ueuFsZXotQmFyYWhvbmEsIEplc/pzIE0uIiwKICAgICAgICBwbGFjZT1GQUtFLAogICAgICAgIHBwPSIxLS0xNCIsCiAgICAgICAgZW50cnl0eXBlPSJpbnByb2NlZWRpbmdzIiwKICAgICAgICBlZGl0b3I9IkhhbW1vdWRhLCBJbWVkCmFuZCBMdW5kZWxsLCBCavZybgphbmQgTWlra29uZW4sIFRvbW1pCmFuZCBTY2FjY2hpLCBXYWx0IiwKICAgICAgICBwdWJsaXNoZXI9IlNwcmluZ2VyIEJlcmxpbiBIZWlkZWxiZXJnIiwKICAgICAgICBhZGRyZXNzPSJCZXJsaW4sIEhlaWRlbGJlcmciLAogICAgICAgIElEPSIxMC4xMDA3Lzk3OC0zLTY0Mi0zMzQ0Mi05XzEiLAogICAgICAgIHNwcmluZ2VyPSIxIiwKICAgICAgICBwbGFjZXg9Ik9wZW4gU291cmNlIFN5c3RlbXM6IExvbmctVGVybSBTdXN0YWluYWJpbGl0eSIsCiAgICApKQonJycpOw==\"));\n",
       "    "
      ],
      "text/plain": [
       "<IPython.core.display.Javascript object>"
      ]
     },
     "metadata": {},
     "output_type": "display_data"
    },
    {
     "data": {
      "application/javascript": [
       "$('span:contains(\"# Temp\")').closest('.cell').remove();"
      ],
      "text/plain": [
       "<IPython.core.display.Javascript object>"
      ]
     },
     "metadata": {},
     "output_type": "display_data"
    },
    {
     "data": {
      "application/javascript": [
       "\n",
       "        $('span:contains(\"# Temp\")').closest('.cell').remove();\n",
       "        var code = IPython.notebook.insert_cell_below('code');\n",
       "        code.set_text(atob(\"IyBUZW1wCmluc2VydCgnJycKICAgIHJvYmxlczIwMTJhID0gREIoV29ya1VucmVsYXRlZCgKICAgICAgICAyMDEyLCAiQSBDb21wcmVoZW5zaXZlIFN0dWR5IG9mIFNvZnR3YXJlIEZvcmtzOiBEYXRlcywgUmVhc29ucyBhbmQgT3V0Y29tZXMiLAogICAgICAgIGRpc3BsYXk9InJvYmxlcyIsCiAgICAgICAgYXV0aG9ycz0iUm9ibGVzLCBHcmVnb3JpbwphbmQgR29ueuFsZXotQmFyYWhvbmEsIEplc/pzIE0uIiwKICAgICAgICBwbGFjZT1GQUtFLAogICAgICAgIHBwPSIxLS0xNCIsCiAgICAgICAgZW50cnl0eXBlPSJpbnByb2NlZWRpbmdzIiwKICAgICAgICBlZGl0b3I9IkhhbW1vdWRhLCBJbWVkCmFuZCBMdW5kZWxsLCBCavZybgphbmQgTWlra29uZW4sIFRvbW1pCmFuZCBTY2FjY2hpLCBXYWx0IiwKICAgICAgICBwdWJsaXNoZXI9IlNwcmluZ2VyIEJlcmxpbiBIZWlkZWxiZXJnIiwKICAgICAgICBhZGRyZXNzPSJCZXJsaW4sIEhlaWRlbGJlcmciLAogICAgICAgIElEPSIxMC4xMDA3Lzk3OC0zLTY0Mi0zMzQ0Mi05XzEiLAogICAgICAgIHNwcmluZ2VyPSIxIiwKICAgICAgICBwbGFjZXg9Ik9wZW4gU291cmNlIFN5c3RlbXM6IExvbmctVGVybSBTdXN0YWluYWJpbGl0eSIsCiAgICApKQonJycpOw==\"));\n",
       "    "
      ],
      "text/plain": [
       "<IPython.core.display.Javascript object>"
      ]
     },
     "metadata": {},
     "output_type": "display_data"
    },
    {
     "data": {
      "application/javascript": [
       "$('span:contains(\"# Temp\")').closest('.cell').remove();"
      ],
      "text/plain": [
       "<IPython.core.display.Javascript object>"
      ]
     },
     "metadata": {},
     "output_type": "display_data"
    },
    {
     "data": {
      "application/javascript": [
       "\n",
       "        $('span:contains(\"# Temp\")').closest('.cell').remove();\n",
       "        var code = IPython.notebook.insert_cell_below('code');\n",
       "        code.set_text(atob(\"IyBUZW1wCmluc2VydCgnJycKICAgIGNlZGVybGluZzE5OTNhID0gREIoV29ya1VucmVsYXRlZCgKICAgICAgICAxOTkzLCAiSW5kdXN0cmlhbCBzb2Z0d2FyZSBkZXZlbG9wbWVudCAtLS0gYSBjYXNlIHN0dWR5IiwKICAgICAgICBkaXNwbGF5PSJjZWRlcmxpbmciLAogICAgICAgIGF1dGhvcnM9IkNlZGVybGluZywgVWxmIiwKICAgICAgICBwbGFjZT1GQUtFLAogICAgICAgIHBwPSIyMjYtLTIzNyIsCiAgICAgICAgZW50cnl0eXBlPSJpbnByb2NlZWRpbmdzIiwKICAgICAgICBlZGl0b3I9IlNvbW1lcnZpbGxlLCBJYW4KYW5kIFBhdWwsIE1hbmZyZWQiLAogICAgICAgIHB1Ymxpc2hlcj0iU3ByaW5nZXIgQmVybGluIEhlaWRlbGJlcmciLAogICAgICAgIGFkZHJlc3M9IkJlcmxpbiwgSGVpZGVsYmVyZyIsCiAgICAgICAgSUQ9IjEwLjEwMDcvMy01NDAtNTcyMDktMF8xNiIsCiAgICAgICAgc3ByaW5nZXI9IjEiLAogICAgICAgIHBsYWNleD0iU29mdHdhcmUgRW5naW5lZXJpbmcgLS0tIEVTRUMgJzkzIiwKICAgICkpCicnJyk7\"));\n",
       "    "
      ],
      "text/plain": [
       "<IPython.core.display.Javascript object>"
      ]
     },
     "metadata": {},
     "output_type": "display_data"
    },
    {
     "data": {
      "application/javascript": [
       "$('span:contains(\"# Temp\")').closest('.cell').remove();"
      ],
      "text/plain": [
       "<IPython.core.display.Javascript object>"
      ]
     },
     "metadata": {},
     "output_type": "display_data"
    },
    {
     "data": {
      "application/javascript": [
       "\n",
       "        $('span:contains(\"# Temp\")').closest('.cell').remove();\n",
       "        var code = IPython.notebook.insert_cell_below('code');\n",
       "        code.set_text(atob(\"IyBUZW1wCmluc2VydCgnJycKICAgIGNlZGVybGluZzE5OTNhID0gREIoV29ya1VucmVsYXRlZCgKICAgICAgICAxOTkzLCAiSW5kdXN0cmlhbCBzb2Z0d2FyZSBkZXZlbG9wbWVudCAtLS0gYSBjYXNlIHN0dWR5IiwKICAgICAgICBkaXNwbGF5PSJjZWRlcmxpbmciLAogICAgICAgIGF1dGhvcnM9IkNlZGVybGluZywgVWxmIiwKICAgICAgICBwbGFjZT1GQUtFLAogICAgICAgIHBwPSIyMjYtLTIzNyIsCiAgICAgICAgZW50cnl0eXBlPSJpbnByb2NlZWRpbmdzIiwKICAgICAgICBlZGl0b3I9IlNvbW1lcnZpbGxlLCBJYW4KYW5kIFBhdWwsIE1hbmZyZWQiLAogICAgICAgIHB1Ymxpc2hlcj0iU3ByaW5nZXIgQmVybGluIEhlaWRlbGJlcmciLAogICAgICAgIGFkZHJlc3M9IkJlcmxpbiwgSGVpZGVsYmVyZyIsCiAgICAgICAgSUQ9IjEwLjEwMDcvMy01NDAtNTcyMDktMF8xNiIsCiAgICAgICAgc3ByaW5nZXI9IjEiLAogICAgICAgIHBsYWNleD0iU29mdHdhcmUgRW5naW5lZXJpbmcgLS0tIEVTRUMgJzkzIiwKICAgICkpCicnJyk7\"));\n",
       "    "
      ],
      "text/plain": [
       "<IPython.core.display.Javascript object>"
      ]
     },
     "metadata": {},
     "output_type": "display_data"
    },
    {
     "data": {
      "application/javascript": [
       "$('span:contains(\"# Temp\")').closest('.cell').remove();"
      ],
      "text/plain": [
       "<IPython.core.display.Javascript object>"
      ]
     },
     "metadata": {},
     "output_type": "display_data"
    },
    {
     "data": {
      "application/javascript": [
       "\n",
       "        $('span:contains(\"# Temp\")').closest('.cell').remove();\n",
       "        var code = IPython.notebook.insert_cell_below('code');\n",
       "        code.set_text(atob(\"IyBUZW1wCmluc2VydCgnJycKICAgIGplbnNlbjIwMTFhID0gREIoV29ya1VucmVsYXRlZCgKICAgICAgICAyMDExLCAiTGljZW5zZSBVcGRhdGUgYW5kIE1pZ3JhdGlvbiBQcm9jZXNzZXMgaW4gT3BlbiBTb3VyY2UgU29mdHdhcmUgUHJvamVjdHMiLAogICAgICAgIGRpc3BsYXk9ImplbnNlbiIsCiAgICAgICAgYXV0aG9ycz0iSmVuc2VuLCBDaHJpcwphbmQgU2NhY2NoaSwgV2FsdCIsCiAgICAgICAgcGxhY2U9RkFLRSwKICAgICAgICBwcD0iMTc3LS0xOTUiLAogICAgICAgIGVudHJ5dHlwZT0iaW5wcm9jZWVkaW5ncyIsCiAgICAgICAgZWRpdG9yPSJIaXNzYW0sIFNjb3R0IEEuCmFuZCBSdXNzbywgQmFyYmFyYQphbmQgZGUgTWVuZG9ue+d9YSBOZXRvLCBNYW5vZWwgRy4KYW5kIEtvbiwgRmFiaW8iLAogICAgICAgIHB1Ymxpc2hlcj0iU3ByaW5nZXIgQmVybGluIEhlaWRlbGJlcmciLAogICAgICAgIGFkZHJlc3M9IkJlcmxpbiwgSGVpZGVsYmVyZyIsCiAgICAgICAgSUQ9IjEwLjEwMDcvOTc4LTMtNjQyLTI0NDE4LTZfMTIiLAogICAgICAgIHNwcmluZ2VyPSIxIiwKICAgICAgICBwbGFjZXg9Ik9wZW4gU291cmNlIFN5c3RlbXM6IEdyb3VuZGluZyBSZXNlYXJjaCIsCiAgICApKQonJycpOw==\"));\n",
       "    "
      ],
      "text/plain": [
       "<IPython.core.display.Javascript object>"
      ]
     },
     "metadata": {},
     "output_type": "display_data"
    },
    {
     "data": {
      "application/javascript": [
       "$('span:contains(\"# Temp\")').closest('.cell').remove();"
      ],
      "text/plain": [
       "<IPython.core.display.Javascript object>"
      ]
     },
     "metadata": {},
     "output_type": "display_data"
    },
    {
     "data": {
      "application/javascript": [
       "\n",
       "        $('span:contains(\"# Temp\")').closest('.cell').remove();\n",
       "        var code = IPython.notebook.insert_cell_below('code');\n",
       "        code.set_text(atob(\"IyBUZW1wCmluc2VydCgnJycKICAgIGplbnNlbjIwMTFhID0gREIoV29ya1VucmVsYXRlZCgKICAgICAgICAyMDExLCAiTGljZW5zZSBVcGRhdGUgYW5kIE1pZ3JhdGlvbiBQcm9jZXNzZXMgaW4gT3BlbiBTb3VyY2UgU29mdHdhcmUgUHJvamVjdHMiLAogICAgICAgIGRpc3BsYXk9ImplbnNlbiIsCiAgICAgICAgYXV0aG9ycz0iSmVuc2VuLCBDaHJpcwphbmQgU2NhY2NoaSwgV2FsdCIsCiAgICAgICAgcGxhY2U9RkFLRSwKICAgICAgICBwcD0iMTc3LS0xOTUiLAogICAgICAgIGVudHJ5dHlwZT0iaW5wcm9jZWVkaW5ncyIsCiAgICAgICAgZWRpdG9yPSJIaXNzYW0sIFNjb3R0IEEuCmFuZCBSdXNzbywgQmFyYmFyYQphbmQgZGUgTWVuZG9ue+d9YSBOZXRvLCBNYW5vZWwgRy4KYW5kIEtvbiwgRmFiaW8iLAogICAgICAgIHB1Ymxpc2hlcj0iU3ByaW5nZXIgQmVybGluIEhlaWRlbGJlcmciLAogICAgICAgIGFkZHJlc3M9IkJlcmxpbiwgSGVpZGVsYmVyZyIsCiAgICAgICAgSUQ9IjEwLjEwMDcvOTc4LTMtNjQyLTI0NDE4LTZfMTIiLAogICAgICAgIHNwcmluZ2VyPSIxIiwKICAgICAgICBwbGFjZXg9Ik9wZW4gU291cmNlIFN5c3RlbXM6IEdyb3VuZGluZyBSZXNlYXJjaCIsCiAgICApKQonJycpOw==\"));\n",
       "    "
      ],
      "text/plain": [
       "<IPython.core.display.Javascript object>"
      ]
     },
     "metadata": {},
     "output_type": "display_data"
    },
    {
     "data": {
      "application/javascript": [
       "$('span:contains(\"# Temp\")').closest('.cell').remove();"
      ],
      "text/plain": [
       "<IPython.core.display.Javascript object>"
      ]
     },
     "metadata": {},
     "output_type": "display_data"
    },
    {
     "data": {
      "application/javascript": [
       "\n",
       "        $('span:contains(\"# Temp\")').closest('.cell').remove();\n",
       "        var code = IPython.notebook.insert_cell_below('code');\n",
       "        code.set_text(atob(\"IyBUZW1wCmluc2VydCgnJycKICAgIGhvbHoyMDA0YSA9IERCKFdvcmtVbnJlbGF0ZWQoCiAgICAgICAgMjAwNCwgIlJlc2VhcmNoIG9uIExlYXJuaW5nIFNvZnR3YXJlIE9yZ2FuaXphdGlvbnMgLS0gUGFzdCwgUHJlc2VudCwgYW5kIEZ1dHVyZSIsCiAgICAgICAgZGlzcGxheT0iaG9seiIsCiAgICAgICAgYXV0aG9ycz0iSG9seiwgSGFyYWxkCmFuZCBNZWxuaWssIEdyaWdvcmkiLAogICAgICAgIHBsYWNlPUZBS0UsCiAgICAgICAgcHA9IjEtLTYiLAogICAgICAgIGVudHJ5dHlwZT0iaW5wcm9jZWVkaW5ncyIsCiAgICAgICAgZWRpdG9yPSJNZWxuaWssIEdyaWdvcmkKYW5kIEhvbHosIEhhcmFsZCIsCiAgICAgICAgcHVibGlzaGVyPSJTcHJpbmdlciBCZXJsaW4gSGVpZGVsYmVyZyIsCiAgICAgICAgYWRkcmVzcz0iQmVybGluLCBIZWlkZWxiZXJnIiwKICAgICAgICBJRD0iMTAuMTAwNy85NzgtMy01NDAtMjU5ODMtMV8xIiwKICAgICAgICBzcHJpbmdlcj0iMSIsCiAgICAgICAgcGxhY2V4PSJBZHZhbmNlcyBpbiBMZWFybmluZyBTb2Z0d2FyZSBPcmdhbml6YXRpb25zIiwKICAgICkpCicnJyk7\"));\n",
       "    "
      ],
      "text/plain": [
       "<IPython.core.display.Javascript object>"
      ]
     },
     "metadata": {},
     "output_type": "display_data"
    },
    {
     "data": {
      "application/javascript": [
       "$('span:contains(\"# Temp\")').closest('.cell').remove();"
      ],
      "text/plain": [
       "<IPython.core.display.Javascript object>"
      ]
     },
     "metadata": {},
     "output_type": "display_data"
    },
    {
     "data": {
      "application/javascript": [
       "\n",
       "        $('span:contains(\"# Temp\")').closest('.cell').remove();\n",
       "        var code = IPython.notebook.insert_cell_below('code');\n",
       "        code.set_text(atob(\"IyBUZW1wCmluc2VydCgnJycKICAgIGhvbHoyMDA0YSA9IERCKFdvcmtVbnJlbGF0ZWQoCiAgICAgICAgMjAwNCwgIlJlc2VhcmNoIG9uIExlYXJuaW5nIFNvZnR3YXJlIE9yZ2FuaXphdGlvbnMgLS0gUGFzdCwgUHJlc2VudCwgYW5kIEZ1dHVyZSIsCiAgICAgICAgZGlzcGxheT0iaG9seiIsCiAgICAgICAgYXV0aG9ycz0iSG9seiwgSGFyYWxkCmFuZCBNZWxuaWssIEdyaWdvcmkiLAogICAgICAgIHBsYWNlPUZBS0UsCiAgICAgICAgcHA9IjEtLTYiLAogICAgICAgIGVudHJ5dHlwZT0iaW5wcm9jZWVkaW5ncyIsCiAgICAgICAgZWRpdG9yPSJNZWxuaWssIEdyaWdvcmkKYW5kIEhvbHosIEhhcmFsZCIsCiAgICAgICAgcHVibGlzaGVyPSJTcHJpbmdlciBCZXJsaW4gSGVpZGVsYmVyZyIsCiAgICAgICAgYWRkcmVzcz0iQmVybGluLCBIZWlkZWxiZXJnIiwKICAgICAgICBJRD0iMTAuMTAwNy85NzgtMy01NDAtMjU5ODMtMV8xIiwKICAgICAgICBzcHJpbmdlcj0iMSIsCiAgICAgICAgcGxhY2V4PSJBZHZhbmNlcyBpbiBMZWFybmluZyBTb2Z0d2FyZSBPcmdhbml6YXRpb25zIiwKICAgICkpCicnJyk7\"));\n",
       "    "
      ],
      "text/plain": [
       "<IPython.core.display.Javascript object>"
      ]
     },
     "metadata": {},
     "output_type": "display_data"
    },
    {
     "data": {
      "application/javascript": [
       "$('span:contains(\"# Temp\")').closest('.cell').remove();"
      ],
      "text/plain": [
       "<IPython.core.display.Javascript object>"
      ]
     },
     "metadata": {},
     "output_type": "display_data"
    },
    {
     "data": {
      "application/javascript": [
       "\n",
       "        $('span:contains(\"# Temp\")').closest('.cell').remove();\n",
       "        var code = IPython.notebook.insert_cell_below('code');\n",
       "        code.set_text(atob(\"IyBUZW1wCmluc2VydCgnJycKICAgIGNhcmxzb24yMDE0YSA9IERCKFdvcmtVbnJlbGF0ZWQoCiAgICAgICAgMjAxNCwgIlRoZSBOQVNBIGF1dG9tYXRlZCByZXF1aXJlbWVudHMgbWVhc3VyZW1lbnQgdG9vbDogYSByZWNvbnN0cnVjdGlvbiIsCiAgICAgICAgZGlzcGxheT0iY2FybHNvbiIsCiAgICAgICAgYXV0aG9ycz0iQ2FybHNvbiwgTmF0aGFuCmFuZCBMYXBsYW50ZSwgUGhpbCIsCiAgICAgICAgcGxhY2U9RkFLRSwKICAgICAgICBwcD0iNzctLTkxIiwKICAgICAgICBlbnRyeXR5cGU9ImFydGljbGUiLAogICAgICAgIG1vbnRoPSJKdW4iLAogICAgICAgIGRheT0iMDEiLAogICAgICAgIHZvbHVtZT0iMTAiLAogICAgICAgIG51bWJlcj0iMiIsCiAgICAgICAgSUQ9IkNhcmxzb24yMDE0IiwKICAgICAgICBzcHJpbmdlcj0iMSIsCiAgICAgICAgcGxhY2V4PSJJbm5vdmF0aW9ucyBpbiBTeXN0ZW1zIGFuZCBTb2Z0d2FyZSBFbmdpbmVlcmluZyIsCiAgICApKQonJycpOw==\"));\n",
       "    "
      ],
      "text/plain": [
       "<IPython.core.display.Javascript object>"
      ]
     },
     "metadata": {},
     "output_type": "display_data"
    },
    {
     "data": {
      "application/javascript": [
       "$('span:contains(\"# Temp\")').closest('.cell').remove();"
      ],
      "text/plain": [
       "<IPython.core.display.Javascript object>"
      ]
     },
     "metadata": {},
     "output_type": "display_data"
    },
    {
     "data": {
      "application/javascript": [
       "\n",
       "        $('span:contains(\"# Temp\")').closest('.cell').remove();\n",
       "        var code = IPython.notebook.insert_cell_below('code');\n",
       "        code.set_text(atob(\"IyBUZW1wCmluc2VydCgnJycKICAgIGNhcmxzb24yMDE0YSA9IERCKFdvcmtVbnJlbGF0ZWQoCiAgICAgICAgMjAxNCwgIlRoZSBOQVNBIGF1dG9tYXRlZCByZXF1aXJlbWVudHMgbWVhc3VyZW1lbnQgdG9vbDogYSByZWNvbnN0cnVjdGlvbiIsCiAgICAgICAgZGlzcGxheT0iY2FybHNvbiIsCiAgICAgICAgYXV0aG9ycz0iQ2FybHNvbiwgTmF0aGFuCmFuZCBMYXBsYW50ZSwgUGhpbCIsCiAgICAgICAgcGxhY2U9RkFLRSwKICAgICAgICBwcD0iNzctLTkxIiwKICAgICAgICBlbnRyeXR5cGU9ImFydGljbGUiLAogICAgICAgIG1vbnRoPSJKdW4iLAogICAgICAgIGRheT0iMDEiLAogICAgICAgIHZvbHVtZT0iMTAiLAogICAgICAgIG51bWJlcj0iMiIsCiAgICAgICAgSUQ9IkNhcmxzb24yMDE0IiwKICAgICAgICBzcHJpbmdlcj0iMSIsCiAgICAgICAgcGxhY2V4PSJJbm5vdmF0aW9ucyBpbiBTeXN0ZW1zIGFuZCBTb2Z0d2FyZSBFbmdpbmVlcmluZyIsCiAgICApKQonJycpOw==\"));\n",
       "    "
      ],
      "text/plain": [
       "<IPython.core.display.Javascript object>"
      ]
     },
     "metadata": {},
     "output_type": "display_data"
    },
    {
     "data": {
      "application/javascript": [
       "$('span:contains(\"# Temp\")').closest('.cell').remove();"
      ],
      "text/plain": [
       "<IPython.core.display.Javascript object>"
      ]
     },
     "metadata": {},
     "output_type": "display_data"
    },
    {
     "data": {
      "application/javascript": [
       "\n",
       "        $('span:contains(\"# Temp\")').closest('.cell').remove();\n",
       "        var code = IPython.notebook.insert_cell_below('code');\n",
       "        code.set_text(atob(\"IyBUZW1wCmluc2VydCgnJycKICAgIGF5YWxhMjAxMmEgPSBEQihXb3JrVW5yZWxhdGVkKAogICAgICAgIDIwMTIsICJPU1MgSW50ZWdyYXRpb24gSXNzdWVzIGFuZCBDb21tdW5pdHkgU3VwcG9ydDogQW4gSW50ZWdyYXRvciBQZXJzcGVjdGl2ZSIsCiAgICAgICAgZGlzcGxheT0iYXlhbGEiLAogICAgICAgIGF1dGhvcnM9IkF5YWxhLCBDbGF1ZGlhCmFuZCBDcnV6ZXMsIERhbmllbGEgUy4KYW5kIE5ndXllbiwgQW5oIER1YwphbmQgQ29ucmFkaSwgUmVpZGFyCmFuZCBGcmFuY2gsIFhhdmllcgphbmQgSPZzdCwgTWFydGluCmFuZCBCYWJhciwgTXVoYW1tYWQgQWxpIiwKICAgICAgICBwbGFjZT1GQUtFLAogICAgICAgIHBwPSIxMjktLTE0MyIsCiAgICAgICAgZW50cnl0eXBlPSJpbnByb2NlZWRpbmdzIiwKICAgICAgICBlZGl0b3I9IkhhbW1vdWRhLCBJbWVkCmFuZCBMdW5kZWxsLCBCavZybgphbmQgTWlra29uZW4sIFRvbW1pCmFuZCBTY2FjY2hpLCBXYWx0IiwKICAgICAgICBwdWJsaXNoZXI9IlNwcmluZ2VyIEJlcmxpbiBIZWlkZWxiZXJnIiwKICAgICAgICBhZGRyZXNzPSJCZXJsaW4sIEhlaWRlbGJlcmciLAogICAgICAgIElEPSIxMC4xMDA3Lzk3OC0zLTY0Mi0zMzQ0Mi05XzkiLAogICAgICAgIHNwcmluZ2VyPSIxIiwKICAgICAgICBwbGFjZXg9Ik9wZW4gU291cmNlIFN5c3RlbXM6IExvbmctVGVybSBTdXN0YWluYWJpbGl0eSIsCiAgICApKQonJycpOw==\"));\n",
       "    "
      ],
      "text/plain": [
       "<IPython.core.display.Javascript object>"
      ]
     },
     "metadata": {},
     "output_type": "display_data"
    },
    {
     "data": {
      "application/javascript": [
       "$('span:contains(\"# Temp\")').closest('.cell').remove();"
      ],
      "text/plain": [
       "<IPython.core.display.Javascript object>"
      ]
     },
     "metadata": {},
     "output_type": "display_data"
    },
    {
     "data": {
      "application/javascript": [
       "\n",
       "        $('span:contains(\"# Temp\")').closest('.cell').remove();\n",
       "        var code = IPython.notebook.insert_cell_below('code');\n",
       "        code.set_text(atob(\"IyBUZW1wCmluc2VydCgnJycKICAgIGF5YWxhMjAxMmEgPSBEQihXb3JrVW5yZWxhdGVkKAogICAgICAgIDIwMTIsICJPU1MgSW50ZWdyYXRpb24gSXNzdWVzIGFuZCBDb21tdW5pdHkgU3VwcG9ydDogQW4gSW50ZWdyYXRvciBQZXJzcGVjdGl2ZSIsCiAgICAgICAgZGlzcGxheT0iYXlhbGEiLAogICAgICAgIGF1dGhvcnM9IkF5YWxhLCBDbGF1ZGlhCmFuZCBDcnV6ZXMsIERhbmllbGEgUy4KYW5kIE5ndXllbiwgQW5oIER1YwphbmQgQ29ucmFkaSwgUmVpZGFyCmFuZCBGcmFuY2gsIFhhdmllcgphbmQgSPZzdCwgTWFydGluCmFuZCBCYWJhciwgTXVoYW1tYWQgQWxpIiwKICAgICAgICBwbGFjZT1GQUtFLAogICAgICAgIHBwPSIxMjktLTE0MyIsCiAgICAgICAgZW50cnl0eXBlPSJpbnByb2NlZWRpbmdzIiwKICAgICAgICBlZGl0b3I9IkhhbW1vdWRhLCBJbWVkCmFuZCBMdW5kZWxsLCBCavZybgphbmQgTWlra29uZW4sIFRvbW1pCmFuZCBTY2FjY2hpLCBXYWx0IiwKICAgICAgICBwdWJsaXNoZXI9IlNwcmluZ2VyIEJlcmxpbiBIZWlkZWxiZXJnIiwKICAgICAgICBhZGRyZXNzPSJCZXJsaW4sIEhlaWRlbGJlcmciLAogICAgICAgIElEPSIxMC4xMDA3Lzk3OC0zLTY0Mi0zMzQ0Mi05XzkiLAogICAgICAgIHNwcmluZ2VyPSIxIiwKICAgICAgICBwbGFjZXg9Ik9wZW4gU291cmNlIFN5c3RlbXM6IExvbmctVGVybSBTdXN0YWluYWJpbGl0eSIsCiAgICApKQonJycpOw==\"));\n",
       "    "
      ],
      "text/plain": [
       "<IPython.core.display.Javascript object>"
      ]
     },
     "metadata": {},
     "output_type": "display_data"
    },
    {
     "data": {
      "application/javascript": [
       "$('span:contains(\"# Temp\")').closest('.cell').remove();"
      ],
      "text/plain": [
       "<IPython.core.display.Javascript object>"
      ]
     },
     "metadata": {},
     "output_type": "display_data"
    },
    {
     "data": {
      "application/javascript": [
       "\n",
       "        $('span:contains(\"# Temp\")').closest('.cell').remove();\n",
       "        var code = IPython.notebook.insert_cell_below('code');\n",
       "        code.set_text(atob(\"IyBUZW1wCmluc2VydCgnJycKICAgIHJvZHIyMDA0YSA9IERCKFdvcmtVbnJlbGF0ZWQoCiAgICAgICAgMjAwNCwgIkVmZmVjdGl2ZSBTb2Z0d2FyZSBQcm9qZWN0IE1hbmFnZW1lbnQgRWR1Y2F0aW9uIHRocm91Z2ggU2ltdWxhdGlvbiBNb2RlbHM6IEFuIEV4dGVybmFsbHkgUmVwbGljYXRlZCBFeHBlcmltZW50IiwKICAgICAgICBkaXNwbGF5PSJyb2RyIiwKICAgICAgICBhdXRob3JzPSJSb2Rye2k/fWd1ZXosIEQuCmFuZCBTYXRwYXRoeSwgTS4KYW5kIFBmYWhsLCBELiIsCiAgICAgICAgcGxhY2U9UFJPRkVTLAogICAgICAgIHBwPSIyODctLTMwMSIsCiAgICAgICAgZW50cnl0eXBlPSJpbnByb2NlZWRpbmdzIiwKICAgICAgICBlZGl0b3I9IkJvbWFyaXVzLCBGcmFuawphbmQgSWlkYSwgSGFqaW11IiwKICAgICAgICBwdWJsaXNoZXI9IlNwcmluZ2VyIEJlcmxpbiBIZWlkZWxiZXJnIiwKICAgICAgICBhZGRyZXNzPSJCZXJsaW4sIEhlaWRlbGJlcmciLAogICAgICAgIElEPSIxMC4xMDA3Lzk3OC0zLTU0MC0yNDY1OS02XzIxIiwKICAgICAgICBzcHJpbmdlcj0iMSIsCiAgICAgICAgcGxhY2V4PSJQcm9kdWN0IEZvY3VzZWQgU29mdHdhcmUgUHJvY2VzcyBJbXByb3ZlbWVudCIsCiAgICApKQonJycpOw==\"));\n",
       "    "
      ],
      "text/plain": [
       "<IPython.core.display.Javascript object>"
      ]
     },
     "metadata": {},
     "output_type": "display_data"
    },
    {
     "data": {
      "application/javascript": [
       "$('span:contains(\"# Temp\")').closest('.cell').remove();"
      ],
      "text/plain": [
       "<IPython.core.display.Javascript object>"
      ]
     },
     "metadata": {},
     "output_type": "display_data"
    },
    {
     "data": {
      "application/javascript": [
       "\n",
       "        $('span:contains(\"# Temp\")').closest('.cell').remove();\n",
       "        var code = IPython.notebook.insert_cell_below('code');\n",
       "        code.set_text(atob(\"IyBUZW1wCmluc2VydCgnJycKICAgIHJvZHIyMDA0YSA9IERCKFdvcmtVbnJlbGF0ZWQoCiAgICAgICAgMjAwNCwgIkVmZmVjdGl2ZSBTb2Z0d2FyZSBQcm9qZWN0IE1hbmFnZW1lbnQgRWR1Y2F0aW9uIHRocm91Z2ggU2ltdWxhdGlvbiBNb2RlbHM6IEFuIEV4dGVybmFsbHkgUmVwbGljYXRlZCBFeHBlcmltZW50IiwKICAgICAgICBkaXNwbGF5PSJyb2RyIiwKICAgICAgICBhdXRob3JzPSJSb2Rye2k/fWd1ZXosIEQuCmFuZCBTYXRwYXRoeSwgTS4KYW5kIFBmYWhsLCBELiIsCiAgICAgICAgcGxhY2U9UFJPRkVTLAogICAgICAgIHBwPSIyODctLTMwMSIsCiAgICAgICAgZW50cnl0eXBlPSJpbnByb2NlZWRpbmdzIiwKICAgICAgICBlZGl0b3I9IkJvbWFyaXVzLCBGcmFuawphbmQgSWlkYSwgSGFqaW11IiwKICAgICAgICBwdWJsaXNoZXI9IlNwcmluZ2VyIEJlcmxpbiBIZWlkZWxiZXJnIiwKICAgICAgICBhZGRyZXNzPSJCZXJsaW4sIEhlaWRlbGJlcmciLAogICAgICAgIElEPSIxMC4xMDA3Lzk3OC0zLTU0MC0yNDY1OS02XzIxIiwKICAgICAgICBzcHJpbmdlcj0iMSIsCiAgICAgICAgcGxhY2V4PSJQcm9kdWN0IEZvY3VzZWQgU29mdHdhcmUgUHJvY2VzcyBJbXByb3ZlbWVudCIsCiAgICApKQonJycpOw==\"));\n",
       "    "
      ],
      "text/plain": [
       "<IPython.core.display.Javascript object>"
      ]
     },
     "metadata": {},
     "output_type": "display_data"
    },
    {
     "data": {
      "application/javascript": [
       "$('span:contains(\"# Temp\")').closest('.cell').remove();"
      ],
      "text/plain": [
       "<IPython.core.display.Javascript object>"
      ]
     },
     "metadata": {},
     "output_type": "display_data"
    },
    {
     "data": {
      "application/javascript": [
       "\n",
       "        $('span:contains(\"# Temp\")').closest('.cell').remove();\n",
       "        var code = IPython.notebook.insert_cell_below('code');\n",
       "        code.set_text(atob(\"IyBUZW1wCmluc2VydCgnJycKICAgIGxlaHRvbGEyMDA0YSA9IERCKFdvcmtVbnJlbGF0ZWQoCiAgICAgICAgMjAwNCwgIlJlcXVpcmVtZW50cyBQcmlvcml0aXphdGlvbiBDaGFsbGVuZ2VzIGluIFByYWN0aWNlIiwKICAgICAgICBkaXNwbGF5PSJsZWh0b2xhIiwKICAgICAgICBhdXRob3JzPSJMZWh0b2xhLCBMYXVyYQphbmQgS2F1cHBpbmVuLCBNYXJqbwphbmQgS3VqYWxhLCBTYXJpIiwKICAgICAgICBwbGFjZT1QUk9GRVMsCiAgICAgICAgcHA9IjQ5Ny0tNTA4IiwKICAgICAgICBlbnRyeXR5cGU9ImlucHJvY2VlZGluZ3MiLAogICAgICAgIGVkaXRvcj0iQm9tYXJpdXMsIEZyYW5rCmFuZCBJaWRhLCBIYWppbXUiLAogICAgICAgIHB1Ymxpc2hlcj0iU3ByaW5nZXIgQmVybGluIEhlaWRlbGJlcmciLAogICAgICAgIGFkZHJlc3M9IkJlcmxpbiwgSGVpZGVsYmVyZyIsCiAgICAgICAgSUQ9IjEwLjEwMDcvOTc4LTMtNTQwLTI0NjU5LTZfMzYiLAogICAgICAgIHNwcmluZ2VyPSIxIiwKICAgICAgICBwbGFjZXg9IlByb2R1Y3QgRm9jdXNlZCBTb2Z0d2FyZSBQcm9jZXNzIEltcHJvdmVtZW50IiwKICAgICkpCicnJyk7\"));\n",
       "    "
      ],
      "text/plain": [
       "<IPython.core.display.Javascript object>"
      ]
     },
     "metadata": {},
     "output_type": "display_data"
    },
    {
     "data": {
      "application/javascript": [
       "$('span:contains(\"# Temp\")').closest('.cell').remove();"
      ],
      "text/plain": [
       "<IPython.core.display.Javascript object>"
      ]
     },
     "metadata": {},
     "output_type": "display_data"
    },
    {
     "data": {
      "application/javascript": [
       "\n",
       "        $('span:contains(\"# Temp\")').closest('.cell').remove();\n",
       "        var code = IPython.notebook.insert_cell_below('code');\n",
       "        code.set_text(atob(\"IyBUZW1wCmluc2VydCgnJycKICAgIGxlaHRvbGEyMDA0YSA9IERCKFdvcmtVbnJlbGF0ZWQoCiAgICAgICAgMjAwNCwgIlJlcXVpcmVtZW50cyBQcmlvcml0aXphdGlvbiBDaGFsbGVuZ2VzIGluIFByYWN0aWNlIiwKICAgICAgICBkaXNwbGF5PSJsZWh0b2xhIiwKICAgICAgICBhdXRob3JzPSJMZWh0b2xhLCBMYXVyYQphbmQgS2F1cHBpbmVuLCBNYXJqbwphbmQgS3VqYWxhLCBTYXJpIiwKICAgICAgICBwbGFjZT1QUk9GRVMsCiAgICAgICAgcHA9IjQ5Ny0tNTA4IiwKICAgICAgICBlbnRyeXR5cGU9ImlucHJvY2VlZGluZ3MiLAogICAgICAgIGVkaXRvcj0iQm9tYXJpdXMsIEZyYW5rCmFuZCBJaWRhLCBIYWppbXUiLAogICAgICAgIHB1Ymxpc2hlcj0iU3ByaW5nZXIgQmVybGluIEhlaWRlbGJlcmciLAogICAgICAgIGFkZHJlc3M9IkJlcmxpbiwgSGVpZGVsYmVyZyIsCiAgICAgICAgSUQ9IjEwLjEwMDcvOTc4LTMtNTQwLTI0NjU5LTZfMzYiLAogICAgICAgIHNwcmluZ2VyPSIxIiwKICAgICAgICBwbGFjZXg9IlByb2R1Y3QgRm9jdXNlZCBTb2Z0d2FyZSBQcm9jZXNzIEltcHJvdmVtZW50IiwKICAgICkpCicnJyk7\"));\n",
       "    "
      ],
      "text/plain": [
       "<IPython.core.display.Javascript object>"
      ]
     },
     "metadata": {},
     "output_type": "display_data"
    },
    {
     "data": {
      "application/javascript": [
       "$('span:contains(\"# Temp\")').closest('.cell').remove();"
      ],
      "text/plain": [
       "<IPython.core.display.Javascript object>"
      ]
     },
     "metadata": {},
     "output_type": "display_data"
    },
    {
     "data": {
      "application/javascript": [
       "\n",
       "        $('span:contains(\"# Temp\")').closest('.cell').remove();\n",
       "        var code = IPython.notebook.insert_cell_below('code');\n",
       "        code.set_text(atob(\"IyBUZW1wCmluc2VydCgnJycKICAgIGNlY2hpY2gyMDAzYSA9IERCKFdvcmtVbnJlbGF0ZWQoCiAgICAgICAgMjAwMywgIkFzc2Vzc2luZyBDb21wb25lbnQtQmFzZWQgU3lzdGVtcyIsCiAgICAgICAgZGlzcGxheT0iY2VjaGljaCIsCiAgICAgICAgYXV0aG9ycz0iQ2VjaGljaCwgQWxlamFuZHJhCmFuZCBQaWF0dGluaSwgTWFyaW8KYW5kIFZhbGxlY2lsbG8sIEFudG9uaW8iLAogICAgICAgIHBsYWNlPUZBS0UsCiAgICAgICAgcHA9IjEtLTIwIiwKICAgICAgICBlbnRyeXR5cGU9ImluYm9vayIsCiAgICAgICAgZWRpdG9yPSJDZWNoaWNoLCBBbGVqYW5kcmEKYW5kIFBpYXR0aW5pLCBNYXJpbwphbmQgVmFsbGVjaWxsbywgQW50b25pbyIsCiAgICAgICAgcHVibGlzaGVyPSJTcHJpbmdlciBCZXJsaW4gSGVpZGVsYmVyZyIsCiAgICAgICAgYWRkcmVzcz0iQmVybGluLCBIZWlkZWxiZXJnIiwKICAgICAgICBJRD0iQ2VjaGljaDIwMDMiLAogICAgICAgIHNwcmluZ2VyPSIxIiwKICAgICAgICBwbGFjZXg9IkNvbXBvbmVudC1CYXNlZCBTb2Z0d2FyZSBRdWFsaXR5OiBNZXRob2RzIGFuZCBUZWNobmlxdWVzIiwKICAgICkpCicnJyk7\"));\n",
       "    "
      ],
      "text/plain": [
       "<IPython.core.display.Javascript object>"
      ]
     },
     "metadata": {},
     "output_type": "display_data"
    },
    {
     "data": {
      "application/javascript": [
       "$('span:contains(\"# Temp\")').closest('.cell').remove();"
      ],
      "text/plain": [
       "<IPython.core.display.Javascript object>"
      ]
     },
     "metadata": {},
     "output_type": "display_data"
    },
    {
     "data": {
      "application/javascript": [
       "\n",
       "        $('span:contains(\"# Temp\")').closest('.cell').remove();\n",
       "        var code = IPython.notebook.insert_cell_below('code');\n",
       "        code.set_text(atob(\"IyBUZW1wCmluc2VydCgnJycKICAgIGNlY2hpY2gyMDAzYSA9IERCKFdvcmtVbnJlbGF0ZWQoCiAgICAgICAgMjAwMywgIkFzc2Vzc2luZyBDb21wb25lbnQtQmFzZWQgU3lzdGVtcyIsCiAgICAgICAgZGlzcGxheT0iY2VjaGljaCIsCiAgICAgICAgYXV0aG9ycz0iQ2VjaGljaCwgQWxlamFuZHJhCmFuZCBQaWF0dGluaSwgTWFyaW8KYW5kIFZhbGxlY2lsbG8sIEFudG9uaW8iLAogICAgICAgIHBsYWNlPUZBS0UsCiAgICAgICAgcHA9IjEtLTIwIiwKICAgICAgICBlbnRyeXR5cGU9ImluYm9vayIsCiAgICAgICAgZWRpdG9yPSJDZWNoaWNoLCBBbGVqYW5kcmEKYW5kIFBpYXR0aW5pLCBNYXJpbwphbmQgVmFsbGVjaWxsbywgQW50b25pbyIsCiAgICAgICAgcHVibGlzaGVyPSJTcHJpbmdlciBCZXJsaW4gSGVpZGVsYmVyZyIsCiAgICAgICAgYWRkcmVzcz0iQmVybGluLCBIZWlkZWxiZXJnIiwKICAgICAgICBJRD0iQ2VjaGljaDIwMDMiLAogICAgICAgIHNwcmluZ2VyPSIxIiwKICAgICAgICBwbGFjZXg9IkNvbXBvbmVudC1CYXNlZCBTb2Z0d2FyZSBRdWFsaXR5OiBNZXRob2RzIGFuZCBUZWNobmlxdWVzIiwKICAgICkpCicnJyk7\"));\n",
       "    "
      ],
      "text/plain": [
       "<IPython.core.display.Javascript object>"
      ]
     },
     "metadata": {},
     "output_type": "display_data"
    },
    {
     "data": {
      "application/javascript": [
       "$('span:contains(\"# Temp\")').closest('.cell').remove();"
      ],
      "text/plain": [
       "<IPython.core.display.Javascript object>"
      ]
     },
     "metadata": {},
     "output_type": "display_data"
    },
    {
     "data": {
      "application/javascript": [
       "\n",
       "        $('span:contains(\"# Temp\")').closest('.cell').remove();\n",
       "        var code = IPython.notebook.insert_cell_below('code');\n",
       "        code.set_text(atob(\"IyBUZW1wCmluc2VydCgnJycKICAgIHNjaG1pZXRlbmRvcmYyMDAxYSA9IERCKFdvcmtVbnJlbGF0ZWQoCiAgICAgICAgMjAwMSwgIk1hdHVyaXR5IEV2YWx1YXRpb24gb2YgdGhlIFBlcmZvcm1hbmNlIEVuZ2luZWVyaW5nIFByb2Nlc3MiLAogICAgICAgIGRpc3BsYXk9InNjaG1pZXRlbmRvcmYiLAogICAgICAgIGF1dGhvcnM9IlNjaG1pZXRlbmRvcmYsIEFuZHJlYXMKYW5kIFNjaG9seiwgQW5kcukiLAogICAgICAgIHBsYWNlPUZBS0UsCiAgICAgICAgcHA9IjExMS0tMTI0IiwKICAgICAgICBlbnRyeXR5cGU9ImlucHJvY2VlZGluZ3MiLAogICAgICAgIGVkaXRvcj0iRHVta2UsIFJlaW5lcgphbmQgQWJyYW4sIEFsYWluIiwKICAgICAgICBwdWJsaXNoZXI9IlNwcmluZ2VyIEJlcmxpbiBIZWlkZWxiZXJnIiwKICAgICAgICBhZGRyZXNzPSJCZXJsaW4sIEhlaWRlbGJlcmciLAogICAgICAgIElEPSIxMC4xMDA3LzMtNTQwLTQ0NzA0LTBfOSIsCiAgICAgICAgc3ByaW5nZXI9IjEiLAogICAgICAgIHBsYWNleD0iTmV3IEFwcHJvYWNoZXMgaW4gU29mdHdhcmUgTWVhc3VyZW1lbnQiLAogICAgKSkKJycnKTs=\"));\n",
       "    "
      ],
      "text/plain": [
       "<IPython.core.display.Javascript object>"
      ]
     },
     "metadata": {},
     "output_type": "display_data"
    },
    {
     "data": {
      "application/javascript": [
       "$('span:contains(\"# Temp\")').closest('.cell').remove();"
      ],
      "text/plain": [
       "<IPython.core.display.Javascript object>"
      ]
     },
     "metadata": {},
     "output_type": "display_data"
    },
    {
     "data": {
      "application/javascript": [
       "\n",
       "        $('span:contains(\"# Temp\")').closest('.cell').remove();\n",
       "        var code = IPython.notebook.insert_cell_below('code');\n",
       "        code.set_text(atob(\"IyBUZW1wCmluc2VydCgnJycKICAgIHNjaG1pZXRlbmRvcmYyMDAxYSA9IERCKFdvcmtVbnJlbGF0ZWQoCiAgICAgICAgMjAwMSwgIk1hdHVyaXR5IEV2YWx1YXRpb24gb2YgdGhlIFBlcmZvcm1hbmNlIEVuZ2luZWVyaW5nIFByb2Nlc3MiLAogICAgICAgIGRpc3BsYXk9InNjaG1pZXRlbmRvcmYiLAogICAgICAgIGF1dGhvcnM9IlNjaG1pZXRlbmRvcmYsIEFuZHJlYXMKYW5kIFNjaG9seiwgQW5kcukiLAogICAgICAgIHBsYWNlPUZBS0UsCiAgICAgICAgcHA9IjExMS0tMTI0IiwKICAgICAgICBlbnRyeXR5cGU9ImlucHJvY2VlZGluZ3MiLAogICAgICAgIGVkaXRvcj0iRHVta2UsIFJlaW5lcgphbmQgQWJyYW4sIEFsYWluIiwKICAgICAgICBwdWJsaXNoZXI9IlNwcmluZ2VyIEJlcmxpbiBIZWlkZWxiZXJnIiwKICAgICAgICBhZGRyZXNzPSJCZXJsaW4sIEhlaWRlbGJlcmciLAogICAgICAgIElEPSIxMC4xMDA3LzMtNTQwLTQ0NzA0LTBfOSIsCiAgICAgICAgc3ByaW5nZXI9IjEiLAogICAgICAgIHBsYWNleD0iTmV3IEFwcHJvYWNoZXMgaW4gU29mdHdhcmUgTWVhc3VyZW1lbnQiLAogICAgKSkKJycnKTs=\"));\n",
       "    "
      ],
      "text/plain": [
       "<IPython.core.display.Javascript object>"
      ]
     },
     "metadata": {},
     "output_type": "display_data"
    },
    {
     "data": {
      "application/javascript": [
       "$('span:contains(\"# Temp\")').closest('.cell').remove();"
      ],
      "text/plain": [
       "<IPython.core.display.Javascript object>"
      ]
     },
     "metadata": {},
     "output_type": "display_data"
    },
    {
     "data": {
      "application/javascript": [
       "\n",
       "        $('span:contains(\"# Temp\")').closest('.cell').remove();\n",
       "        var code = IPython.notebook.insert_cell_below('code');\n",
       "        code.set_text(atob(\"IyBUZW1wCmluc2VydCgnJycKICAgIGZlbGRtYW5uMjAwM2EgPSBEQihXb3JrVW5yZWxhdGVkKAogICAgICAgIDIwMDMsICJBbiBPbi1MaW5lIFNvZnR3YXJlIEVuZ2luZWVyaW5nIFJlcG9zaXRvcnkgZm9yIEdlcm1hbnkncyBTTUUgLS0gQW4gRXhwZXJpZW5jZSBSZXBvcnQiLAogICAgICAgIGRpc3BsYXk9ImZlbGRtYW5uIiwKICAgICAgICBhdXRob3JzPSJGZWxkbWFubiwgUmFpbXVuZCBMLgphbmQgUGl6a2EsIE1hcmt1cyIsCiAgICAgICAgcGxhY2U9RkFLRSwKICAgICAgICBwcD0iMzQtLTQzIiwKICAgICAgICBlbnRyeXR5cGU9ImlucHJvY2VlZGluZ3MiLAogICAgICAgIGVkaXRvcj0iSGVubmluZ2VyLCBTY290dAphbmQgTWF1cmVyLCBGcmFuayIsCiAgICAgICAgcHVibGlzaGVyPSJTcHJpbmdlciBCZXJsaW4gSGVpZGVsYmVyZyIsCiAgICAgICAgYWRkcmVzcz0iQmVybGluLCBIZWlkZWxiZXJnIiwKICAgICAgICBJRD0iMTAuMTAwNy85NzgtMy01NDAtNDAwNTItM181IiwKICAgICAgICBzcHJpbmdlcj0iMSIsCiAgICAgICAgcGxhY2V4PSJBZHZhbmNlcyBpbiBMZWFybmluZyBTb2Z0d2FyZSBPcmdhbml6YXRpb25zIiwKICAgICkpCicnJyk7\"));\n",
       "    "
      ],
      "text/plain": [
       "<IPython.core.display.Javascript object>"
      ]
     },
     "metadata": {},
     "output_type": "display_data"
    },
    {
     "data": {
      "application/javascript": [
       "$('span:contains(\"# Temp\")').closest('.cell').remove();"
      ],
      "text/plain": [
       "<IPython.core.display.Javascript object>"
      ]
     },
     "metadata": {},
     "output_type": "display_data"
    },
    {
     "data": {
      "application/javascript": [
       "\n",
       "        $('span:contains(\"# Temp\")').closest('.cell').remove();\n",
       "        var code = IPython.notebook.insert_cell_below('code');\n",
       "        code.set_text(atob(\"IyBUZW1wCmluc2VydCgnJycKICAgIGZlbGRtYW5uMjAwM2EgPSBEQihXb3JrVW5yZWxhdGVkKAogICAgICAgIDIwMDMsICJBbiBPbi1MaW5lIFNvZnR3YXJlIEVuZ2luZWVyaW5nIFJlcG9zaXRvcnkgZm9yIEdlcm1hbnkncyBTTUUgLS0gQW4gRXhwZXJpZW5jZSBSZXBvcnQiLAogICAgICAgIGRpc3BsYXk9ImZlbGRtYW5uIiwKICAgICAgICBhdXRob3JzPSJGZWxkbWFubiwgUmFpbXVuZCBMLgphbmQgUGl6a2EsIE1hcmt1cyIsCiAgICAgICAgcGxhY2U9RkFLRSwKICAgICAgICBwcD0iMzQtLTQzIiwKICAgICAgICBlbnRyeXR5cGU9ImlucHJvY2VlZGluZ3MiLAogICAgICAgIGVkaXRvcj0iSGVubmluZ2VyLCBTY290dAphbmQgTWF1cmVyLCBGcmFuayIsCiAgICAgICAgcHVibGlzaGVyPSJTcHJpbmdlciBCZXJsaW4gSGVpZGVsYmVyZyIsCiAgICAgICAgYWRkcmVzcz0iQmVybGluLCBIZWlkZWxiZXJnIiwKICAgICAgICBJRD0iMTAuMTAwNy85NzgtMy01NDAtNDAwNTItM181IiwKICAgICAgICBzcHJpbmdlcj0iMSIsCiAgICAgICAgcGxhY2V4PSJBZHZhbmNlcyBpbiBMZWFybmluZyBTb2Z0d2FyZSBPcmdhbml6YXRpb25zIiwKICAgICkpCicnJyk7\"));\n",
       "    "
      ],
      "text/plain": [
       "<IPython.core.display.Javascript object>"
      ]
     },
     "metadata": {},
     "output_type": "display_data"
    },
    {
     "data": {
      "application/javascript": [
       "$('span:contains(\"# Temp\")').closest('.cell').remove();"
      ],
      "text/plain": [
       "<IPython.core.display.Javascript object>"
      ]
     },
     "metadata": {},
     "output_type": "display_data"
    },
    {
     "data": {
      "application/javascript": [
       "\n",
       "        $('span:contains(\"# Temp\")').closest('.cell').remove();\n",
       "        var code = IPython.notebook.insert_cell_below('code');\n",
       "        code.set_text(atob(\"IyBUZW1wCmluc2VydCgnJycKICAgIGRhbmV2YTIwMDFhID0gREIoV29ya1VucmVsYXRlZCgKICAgICAgICAyMDAxLCAiQW4gQXNzZXNzbWVudCBvZiB0aGUgRWZmZWN0cyBvZiBSZXF1aXJlbWVudHMgUmV1c2UgTWVhc3VyZW1lbnRzIG9uIHRoZSBFUlAgUmVxdWlyZW1lbnRzIEVuZ2luZWVyaW5nIFByb2Nlc3MiLAogICAgICAgIGRpc3BsYXk9ImRhbmV2YSIsCiAgICAgICAgYXV0aG9ycz0iRGFuZXZhLCBNYXlhIiwKICAgICAgICBwbGFjZT1GQUtFLAogICAgICAgIHBwPSIxNzItLTE4MiIsCiAgICAgICAgZW50cnl0eXBlPSJpbnByb2NlZWRpbmdzIiwKICAgICAgICBlZGl0b3I9IkR1bWtlLCBSZWluZXIKYW5kIEFicmFuLCBBbGFpbiIsCiAgICAgICAgcHVibGlzaGVyPSJTcHJpbmdlciBCZXJsaW4gSGVpZGVsYmVyZyIsCiAgICAgICAgYWRkcmVzcz0iQmVybGluLCBIZWlkZWxiZXJnIiwKICAgICAgICBJRD0iMTAuMTAwNy8zLTU0MC00NDcwNC0wXzE0IiwKICAgICAgICBzcHJpbmdlcj0iMSIsCiAgICAgICAgcGxhY2V4PSJOZXcgQXBwcm9hY2hlcyBpbiBTb2Z0d2FyZSBNZWFzdXJlbWVudCIsCiAgICApKQonJycpOw==\"));\n",
       "    "
      ],
      "text/plain": [
       "<IPython.core.display.Javascript object>"
      ]
     },
     "metadata": {},
     "output_type": "display_data"
    },
    {
     "data": {
      "application/javascript": [
       "$('span:contains(\"# Temp\")').closest('.cell').remove();"
      ],
      "text/plain": [
       "<IPython.core.display.Javascript object>"
      ]
     },
     "metadata": {},
     "output_type": "display_data"
    },
    {
     "data": {
      "application/javascript": [
       "\n",
       "        $('span:contains(\"# Temp\")').closest('.cell').remove();\n",
       "        var code = IPython.notebook.insert_cell_below('code');\n",
       "        code.set_text(atob(\"IyBUZW1wCmluc2VydCgnJycKICAgIGRhbmV2YTIwMDFhID0gREIoV29ya1VucmVsYXRlZCgKICAgICAgICAyMDAxLCAiQW4gQXNzZXNzbWVudCBvZiB0aGUgRWZmZWN0cyBvZiBSZXF1aXJlbWVudHMgUmV1c2UgTWVhc3VyZW1lbnRzIG9uIHRoZSBFUlAgUmVxdWlyZW1lbnRzIEVuZ2luZWVyaW5nIFByb2Nlc3MiLAogICAgICAgIGRpc3BsYXk9ImRhbmV2YSIsCiAgICAgICAgYXV0aG9ycz0iRGFuZXZhLCBNYXlhIiwKICAgICAgICBwbGFjZT1GQUtFLAogICAgICAgIHBwPSIxNzItLTE4MiIsCiAgICAgICAgZW50cnl0eXBlPSJpbnByb2NlZWRpbmdzIiwKICAgICAgICBlZGl0b3I9IkR1bWtlLCBSZWluZXIKYW5kIEFicmFuLCBBbGFpbiIsCiAgICAgICAgcHVibGlzaGVyPSJTcHJpbmdlciBCZXJsaW4gSGVpZGVsYmVyZyIsCiAgICAgICAgYWRkcmVzcz0iQmVybGluLCBIZWlkZWxiZXJnIiwKICAgICAgICBJRD0iMTAuMTAwNy8zLTU0MC00NDcwNC0wXzE0IiwKICAgICAgICBzcHJpbmdlcj0iMSIsCiAgICAgICAgcGxhY2V4PSJOZXcgQXBwcm9hY2hlcyBpbiBTb2Z0d2FyZSBNZWFzdXJlbWVudCIsCiAgICApKQonJycpOw==\"));\n",
       "    "
      ],
      "text/plain": [
       "<IPython.core.display.Javascript object>"
      ]
     },
     "metadata": {},
     "output_type": "display_data"
    },
    {
     "data": {
      "application/javascript": [
       "$('span:contains(\"# Temp\")').closest('.cell').remove();"
      ],
      "text/plain": [
       "<IPython.core.display.Javascript object>"
      ]
     },
     "metadata": {},
     "output_type": "display_data"
    },
    {
     "data": {
      "application/javascript": [
       "\n",
       "        $('span:contains(\"# Temp\")').closest('.cell').remove();\n",
       "        var code = IPython.notebook.insert_cell_below('code');\n",
       "        code.set_text(atob(\"IyBUZW1wCmluc2VydCgnJycKICAgIGVuZ2Vsa2FtcDIwMDBhID0gREIoV29ya1VucmVsYXRlZCgKICAgICAgICAyMDAwLCAiUHJvamVjdCBFeHBlcmllbmNlIERhdGFiYXNlOiBBIFJlcG9ydCBCYXNlZCBvbiBGaXJzdCBQcmFjdGljYWwgRXhwZXJpZW5jZSIsCiAgICAgICAgZGlzcGxheT0iZW5nZWxrYW1wIiwKICAgICAgICBhdXRob3JzPSJFbmdlbGthbXAsIFN0ZWZhbgphbmQgSGFydGtvcGYsIFN1c2FubmUKYW5kIEJy9nNzbGVyLCBQZXRlciIsCiAgICAgICAgcGxhY2U9UFJPRkVTLAogICAgICAgIHBwPSIyMDQtLTIxNSIsCiAgICAgICAgZW50cnl0eXBlPSJpbnByb2NlZWRpbmdzIiwKICAgICAgICBlZGl0b3I9IkJvbWFyaXVzLCBGcmFuawphbmQgT2l2bywgTWFya2t1IiwKICAgICAgICBwdWJsaXNoZXI9IlNwcmluZ2VyIEJlcmxpbiBIZWlkZWxiZXJnIiwKICAgICAgICBhZGRyZXNzPSJCZXJsaW4sIEhlaWRlbGJlcmciLAogICAgICAgIElEPSIxMC4xMDA3Lzk3OC0zLTU0MC00NTA1MS0xXzIwIiwKICAgICAgICBzcHJpbmdlcj0iMSIsCiAgICAgICAgcGxhY2V4PSJQcm9kdWN0IEZvY3VzZWQgU29mdHdhcmUgUHJvY2VzcyBJbXByb3ZlbWVudCIsCiAgICApKQonJycpOw==\"));\n",
       "    "
      ],
      "text/plain": [
       "<IPython.core.display.Javascript object>"
      ]
     },
     "metadata": {},
     "output_type": "display_data"
    },
    {
     "data": {
      "application/javascript": [
       "$('span:contains(\"# Temp\")').closest('.cell').remove();"
      ],
      "text/plain": [
       "<IPython.core.display.Javascript object>"
      ]
     },
     "metadata": {},
     "output_type": "display_data"
    },
    {
     "data": {
      "application/javascript": [
       "\n",
       "        $('span:contains(\"# Temp\")').closest('.cell').remove();\n",
       "        var code = IPython.notebook.insert_cell_below('code');\n",
       "        code.set_text(atob(\"IyBUZW1wCmluc2VydCgnJycKICAgIGVuZ2Vsa2FtcDIwMDBhID0gREIoV29ya1VucmVsYXRlZCgKICAgICAgICAyMDAwLCAiUHJvamVjdCBFeHBlcmllbmNlIERhdGFiYXNlOiBBIFJlcG9ydCBCYXNlZCBvbiBGaXJzdCBQcmFjdGljYWwgRXhwZXJpZW5jZSIsCiAgICAgICAgZGlzcGxheT0iZW5nZWxrYW1wIiwKICAgICAgICBhdXRob3JzPSJFbmdlbGthbXAsIFN0ZWZhbgphbmQgSGFydGtvcGYsIFN1c2FubmUKYW5kIEJy9nNzbGVyLCBQZXRlciIsCiAgICAgICAgcGxhY2U9UFJPRkVTLAogICAgICAgIHBwPSIyMDQtLTIxNSIsCiAgICAgICAgZW50cnl0eXBlPSJpbnByb2NlZWRpbmdzIiwKICAgICAgICBlZGl0b3I9IkJvbWFyaXVzLCBGcmFuawphbmQgT2l2bywgTWFya2t1IiwKICAgICAgICBwdWJsaXNoZXI9IlNwcmluZ2VyIEJlcmxpbiBIZWlkZWxiZXJnIiwKICAgICAgICBhZGRyZXNzPSJCZXJsaW4sIEhlaWRlbGJlcmciLAogICAgICAgIElEPSIxMC4xMDA3Lzk3OC0zLTU0MC00NTA1MS0xXzIwIiwKICAgICAgICBzcHJpbmdlcj0iMSIsCiAgICAgICAgcGxhY2V4PSJQcm9kdWN0IEZvY3VzZWQgU29mdHdhcmUgUHJvY2VzcyBJbXByb3ZlbWVudCIsCiAgICApKQonJycpOw==\"));\n",
       "    "
      ],
      "text/plain": [
       "<IPython.core.display.Javascript object>"
      ]
     },
     "metadata": {},
     "output_type": "display_data"
    },
    {
     "data": {
      "application/javascript": [
       "$('span:contains(\"# Temp\")').closest('.cell').remove();"
      ],
      "text/plain": [
       "<IPython.core.display.Javascript object>"
      ]
     },
     "metadata": {},
     "output_type": "display_data"
    },
    {
     "data": {
      "application/javascript": [
       "\n",
       "        $('span:contains(\"# Temp\")').closest('.cell').remove();\n",
       "        var code = IPython.notebook.insert_cell_below('code');\n",
       "        code.set_text(atob(\"IyBUZW1wCmluc2VydCgnJycKICAgIGhhaWthbGExOTkyYSA9IERCKFdvcmtVbnJlbGF0ZWQoCiAgICAgICAgMTk5MiwgIihDb250aW51aW5nKSBlZHVjYXRpb24gb2Ygc29mdHdhcmUgcHJvZmVzc2lvbmFscyIsCiAgICAgICAgZGlzcGxheT0iaGFpa2FsYSIsCiAgICAgICAgYXV0aG9ycz0iSGFpa2FsYSwgSWxra2EgSi4KYW5kIE1hcmlqYXJ2aSwgSnVra2EiLAogICAgICAgIHBsYWNlPUZBS0UsCiAgICAgICAgcHA9IjE4MC0tMTkzIiwKICAgICAgICBlbnRyeXR5cGU9ImlucHJvY2VlZGluZ3MiLAogICAgICAgIGVkaXRvcj0iU2xlZGdlLCBDYXJvbCIsCiAgICAgICAgcHVibGlzaGVyPSJTcHJpbmdlciBCZXJsaW4gSGVpZGVsYmVyZyIsCiAgICAgICAgYWRkcmVzcz0iQmVybGluLCBIZWlkZWxiZXJnIiwKICAgICAgICBJRD0iMTAuMTAwNy8zLTU0MC01NTk2My05XzUwIiwKICAgICAgICBzcHJpbmdlcj0iMSIsCiAgICAgICAgcGxhY2V4PSJTb2Z0d2FyZSBFbmdpbmVlcmluZyBFZHVjYXRpb24iLAogICAgKSkKJycnKTs=\"));\n",
       "    "
      ],
      "text/plain": [
       "<IPython.core.display.Javascript object>"
      ]
     },
     "metadata": {},
     "output_type": "display_data"
    },
    {
     "data": {
      "application/javascript": [
       "$('span:contains(\"# Temp\")').closest('.cell').remove();"
      ],
      "text/plain": [
       "<IPython.core.display.Javascript object>"
      ]
     },
     "metadata": {},
     "output_type": "display_data"
    },
    {
     "data": {
      "application/javascript": [
       "\n",
       "        $('span:contains(\"# Temp\")').closest('.cell').remove();\n",
       "        var code = IPython.notebook.insert_cell_below('code');\n",
       "        code.set_text(atob(\"IyBUZW1wCmluc2VydCgnJycKICAgIGhhaWthbGExOTkyYSA9IERCKFdvcmtVbnJlbGF0ZWQoCiAgICAgICAgMTk5MiwgIihDb250aW51aW5nKSBlZHVjYXRpb24gb2Ygc29mdHdhcmUgcHJvZmVzc2lvbmFscyIsCiAgICAgICAgZGlzcGxheT0iaGFpa2FsYSIsCiAgICAgICAgYXV0aG9ycz0iSGFpa2FsYSwgSWxra2EgSi4KYW5kIE1hcmlqYXJ2aSwgSnVra2EiLAogICAgICAgIHBsYWNlPUZBS0UsCiAgICAgICAgcHA9IjE4MC0tMTkzIiwKICAgICAgICBlbnRyeXR5cGU9ImlucHJvY2VlZGluZ3MiLAogICAgICAgIGVkaXRvcj0iU2xlZGdlLCBDYXJvbCIsCiAgICAgICAgcHVibGlzaGVyPSJTcHJpbmdlciBCZXJsaW4gSGVpZGVsYmVyZyIsCiAgICAgICAgYWRkcmVzcz0iQmVybGluLCBIZWlkZWxiZXJnIiwKICAgICAgICBJRD0iMTAuMTAwNy8zLTU0MC01NTk2My05XzUwIiwKICAgICAgICBzcHJpbmdlcj0iMSIsCiAgICAgICAgcGxhY2V4PSJTb2Z0d2FyZSBFbmdpbmVlcmluZyBFZHVjYXRpb24iLAogICAgKSkKJycnKTs=\"));\n",
       "    "
      ],
      "text/plain": [
       "<IPython.core.display.Javascript object>"
      ]
     },
     "metadata": {},
     "output_type": "display_data"
    },
    {
     "data": {
      "application/javascript": [
       "$('span:contains(\"# Temp\")').closest('.cell').remove();"
      ],
      "text/plain": [
       "<IPython.core.display.Javascript object>"
      ]
     },
     "metadata": {},
     "output_type": "display_data"
    },
    {
     "data": {
      "application/javascript": [
       "\n",
       "        $('span:contains(\"# Temp\")').closest('.cell').remove();\n",
       "        var code = IPython.notebook.insert_cell_below('code');\n",
       "        code.set_text(atob(\"IyBUZW1wCmluc2VydCgnJycKICAgIG5pbHNzb24yMDE1YSA9IERCKFdvcmtVbnJlbGF0ZWQoCiAgICAgICAgMjAxNSwgIkFzc2Vzc2luZyB0aGUgZWZmZWN0cyBvZiBpbnRyb2R1Y2luZyBhIG5ldyBzb2Z0d2FyZSBkZXZlbG9wbWVudCBwcm9jZXNzOiBhIG1ldGhvZG9sb2dpY2FsIGRlc2NyaXB0aW9uIiwKICAgICAgICBkaXNwbGF5PSJuaWxzc29uIiwKICAgICAgICBhdXRob3JzPSJOaWxzc29uLCBBZ25ldGEKYW5kIENhc3RybywgTGF1cmEgTS4KYW5kIFJpdmFzLCBTYW11ZWwKYW5kIEFydHMsIFRob21hcyIsCiAgICAgICAgcGxhY2U9RkFLRSwKICAgICAgICBwcD0iMS0tMTYiLAogICAgICAgIGVudHJ5dHlwZT0iYXJ0aWNsZSIsCiAgICAgICAgbW9udGg9IkZlYiIsCiAgICAgICAgZGF5PSIwMSIsCiAgICAgICAgdm9sdW1lPSIxNyIsCiAgICAgICAgbnVtYmVyPSIxIiwKICAgICAgICBJRD0iTmlsc3NvbjIwMTUiLAogICAgICAgIHNwcmluZ2VyPSIxIiwKICAgICAgICBwbGFjZXg9IkludGVybmF0aW9uYWwgSm91cm5hbCBvbiBTb2Z0d2FyZSBUb29scyBmb3IgVGVjaG5vbG9neSBUcmFuc2ZlciIsCiAgICApKQonJycpOw==\"));\n",
       "    "
      ],
      "text/plain": [
       "<IPython.core.display.Javascript object>"
      ]
     },
     "metadata": {},
     "output_type": "display_data"
    },
    {
     "data": {
      "application/javascript": [
       "$('span:contains(\"# Temp\")').closest('.cell').remove();"
      ],
      "text/plain": [
       "<IPython.core.display.Javascript object>"
      ]
     },
     "metadata": {},
     "output_type": "display_data"
    },
    {
     "data": {
      "application/javascript": [
       "\n",
       "        $('span:contains(\"# Temp\")').closest('.cell').remove();\n",
       "        var code = IPython.notebook.insert_cell_below('code');\n",
       "        code.set_text(atob(\"IyBUZW1wCmluc2VydCgnJycKICAgIG5pbHNzb24yMDE1YSA9IERCKFdvcmtVbnJlbGF0ZWQoCiAgICAgICAgMjAxNSwgIkFzc2Vzc2luZyB0aGUgZWZmZWN0cyBvZiBpbnRyb2R1Y2luZyBhIG5ldyBzb2Z0d2FyZSBkZXZlbG9wbWVudCBwcm9jZXNzOiBhIG1ldGhvZG9sb2dpY2FsIGRlc2NyaXB0aW9uIiwKICAgICAgICBkaXNwbGF5PSJuaWxzc29uIiwKICAgICAgICBhdXRob3JzPSJOaWxzc29uLCBBZ25ldGEKYW5kIENhc3RybywgTGF1cmEgTS4KYW5kIFJpdmFzLCBTYW11ZWwKYW5kIEFydHMsIFRob21hcyIsCiAgICAgICAgcGxhY2U9RkFLRSwKICAgICAgICBwcD0iMS0tMTYiLAogICAgICAgIGVudHJ5dHlwZT0iYXJ0aWNsZSIsCiAgICAgICAgbW9udGg9IkZlYiIsCiAgICAgICAgZGF5PSIwMSIsCiAgICAgICAgdm9sdW1lPSIxNyIsCiAgICAgICAgbnVtYmVyPSIxIiwKICAgICAgICBJRD0iTmlsc3NvbjIwMTUiLAogICAgICAgIHNwcmluZ2VyPSIxIiwKICAgICAgICBwbGFjZXg9IkludGVybmF0aW9uYWwgSm91cm5hbCBvbiBTb2Z0d2FyZSBUb29scyBmb3IgVGVjaG5vbG9neSBUcmFuc2ZlciIsCiAgICApKQonJycpOw==\"));\n",
       "    "
      ],
      "text/plain": [
       "<IPython.core.display.Javascript object>"
      ]
     },
     "metadata": {},
     "output_type": "display_data"
    },
    {
     "data": {
      "application/javascript": [
       "$('span:contains(\"# Temp\")').closest('.cell').remove();"
      ],
      "text/plain": [
       "<IPython.core.display.Javascript object>"
      ]
     },
     "metadata": {},
     "output_type": "display_data"
    },
    {
     "data": {
      "application/javascript": [
       "\n",
       "        $('span:contains(\"# Temp\")').closest('.cell').remove();\n",
       "        var code = IPython.notebook.insert_cell_below('code');\n",
       "        code.set_text(atob(\"IyBUZW1wCmluc2VydCgnJycKICAgIHJhbnRhcHVza2EyMDExYSA9IERCKFdvcmtVbnJlbGF0ZWQoCiAgICAgICAgMjAxMSwgIlByb2dyZXNzIG9mIENvbW1pdG1lbnQgaW4gQ28tb3BlcmF0aXZlIFNvZnR3YXJlIEFjcXVpc2l0aW9uIiwKICAgICAgICBkaXNwbGF5PSJyYW50YXB1c2thIiwKICAgICAgICBhdXRob3JzPSJSYW50YXB1c2thLCBUb3JzdGkKYW5kIFNvcmUsIFNhcmlzZWVsaWEiLAogICAgICAgIHBsYWNlPUZBS0UsCiAgICAgICAgcHA9IjIyNC0tMjM1IiwKICAgICAgICBlbnRyeXR5cGU9ImlucHJvY2VlZGluZ3MiLAogICAgICAgIGVkaXRvcj0iTvx0dGdlbnMsIE1hcmt1cwphbmQgR2FkYXRzY2gsIEFuZHJlYXMKYW5kIEthdXR6LCBLYXJsaGVpbnoKYW5kIFNjaGlybWVyLCBJbmdyaWQKYW5kIEJsaW5uLCBOYWRpbmUiLAogICAgICAgIHB1Ymxpc2hlcj0iU3ByaW5nZXIgQmVybGluIEhlaWRlbGJlcmciLAogICAgICAgIGFkZHJlc3M9IkJlcmxpbiwgSGVpZGVsYmVyZyIsCiAgICAgICAgSUQ9IjEwLjEwMDcvOTc4LTMtNjQyLTI0MTQ4LTJfMTQiLAogICAgICAgIHNwcmluZ2VyPSIxIiwKICAgICAgICBwbGFjZXg9IkdvdmVybmFuY2UgYW5kIFN1c3RhaW5hYmlsaXR5IGluIEluZm9ybWF0aW9uIFN5c3RlbXMuIE1hbmFnaW5nIHRoZSBUcmFuc2ZlciBhbmQgRGlmZnVzaW9uIG9mIElUIiwKICAgICkpCicnJyk7\"));\n",
       "    "
      ],
      "text/plain": [
       "<IPython.core.display.Javascript object>"
      ]
     },
     "metadata": {},
     "output_type": "display_data"
    },
    {
     "data": {
      "application/javascript": [
       "$('span:contains(\"# Temp\")').closest('.cell').remove();"
      ],
      "text/plain": [
       "<IPython.core.display.Javascript object>"
      ]
     },
     "metadata": {},
     "output_type": "display_data"
    },
    {
     "data": {
      "application/javascript": [
       "\n",
       "        $('span:contains(\"# Temp\")').closest('.cell').remove();\n",
       "        var code = IPython.notebook.insert_cell_below('code');\n",
       "        code.set_text(atob(\"IyBUZW1wCmluc2VydCgnJycKICAgIHJhbnRhcHVza2EyMDExYSA9IERCKFdvcmtVbnJlbGF0ZWQoCiAgICAgICAgMjAxMSwgIlByb2dyZXNzIG9mIENvbW1pdG1lbnQgaW4gQ28tb3BlcmF0aXZlIFNvZnR3YXJlIEFjcXVpc2l0aW9uIiwKICAgICAgICBkaXNwbGF5PSJyYW50YXB1c2thIiwKICAgICAgICBhdXRob3JzPSJSYW50YXB1c2thLCBUb3JzdGkKYW5kIFNvcmUsIFNhcmlzZWVsaWEiLAogICAgICAgIHBsYWNlPUZBS0UsCiAgICAgICAgcHA9IjIyNC0tMjM1IiwKICAgICAgICBlbnRyeXR5cGU9ImlucHJvY2VlZGluZ3MiLAogICAgICAgIGVkaXRvcj0iTvx0dGdlbnMsIE1hcmt1cwphbmQgR2FkYXRzY2gsIEFuZHJlYXMKYW5kIEthdXR6LCBLYXJsaGVpbnoKYW5kIFNjaGlybWVyLCBJbmdyaWQKYW5kIEJsaW5uLCBOYWRpbmUiLAogICAgICAgIHB1Ymxpc2hlcj0iU3ByaW5nZXIgQmVybGluIEhlaWRlbGJlcmciLAogICAgICAgIGFkZHJlc3M9IkJlcmxpbiwgSGVpZGVsYmVyZyIsCiAgICAgICAgSUQ9IjEwLjEwMDcvOTc4LTMtNjQyLTI0MTQ4LTJfMTQiLAogICAgICAgIHNwcmluZ2VyPSIxIiwKICAgICAgICBwbGFjZXg9IkdvdmVybmFuY2UgYW5kIFN1c3RhaW5hYmlsaXR5IGluIEluZm9ybWF0aW9uIFN5c3RlbXMuIE1hbmFnaW5nIHRoZSBUcmFuc2ZlciBhbmQgRGlmZnVzaW9uIG9mIElUIiwKICAgICkpCicnJyk7\"));\n",
       "    "
      ],
      "text/plain": [
       "<IPython.core.display.Javascript object>"
      ]
     },
     "metadata": {},
     "output_type": "display_data"
    }
   ],
   "source": [
    "from custom_snowballing import UnrelatedInsert\n",
    "UnrelatedInsert(\"springer\", articles=article_list)"
   ]
  },
  {
   "cell_type": "code",
   "execution_count": 120,
   "metadata": {},
   "outputs": [
    {
     "name": "stdout",
     "output_type": "stream",
     "text": [
      "-Insert: rantapuska2011a\n"
     ]
    }
   ],
   "source": [
    "# Temp\n",
    "insert('''\n",
    "rantapuska2011a = DB(WorkUnrelated(\n",
    "    2011, \"Progress of Commitment in Co-operative Software Acquisition\",\n",
    "    display=\"rantapuska\",\n",
    "    authors=\"Rantapuska, Torsti and Sore, Sariseelia\",\n",
    "    place=FAKE,\n",
    "    pp=\"224--235\",\n",
    "    entrytype=\"inproceedings\",\n",
    "    editor=\"Nüttgens, Markus and Gadatsch, Andreas and Kautz, Karlheinz and Schirmer, Ingrid and Blinn, Nadine\",\n",
    "    publisher=\"Springer Berlin Heidelberg\",\n",
    "    address=\"Berlin, Heidelberg\",\n",
    "    ID=\"10.1007/978-3-642-24148-2_14\",\n",
    "    springer=\"1\",\n",
    "    placex=\"Governance and Sustainability in Information Systems. Managing the Transfer and Diffusion of IT\",\n",
    "))\n",
    "''');"
   ]
  },
  {
   "cell_type": "code",
   "execution_count": null,
   "metadata": {
    "collapsed": true,
    "scrolled": false
   },
   "outputs": [],
   "source": [
    "ArticleNavigator??"
   ]
  },
  {
   "cell_type": "code",
   "execution_count": null,
   "metadata": {
    "collapsed": true
   },
   "outputs": [],
   "source": [
    "ArticleNavigator(articles=article_list)"
   ]
  }
 ],
 "metadata": {
  "kernelspec": {
   "display_name": "Python 3",
   "language": "python",
   "name": "python3"
  },
  "language_info": {
   "codemirror_mode": {
    "name": "ipython",
    "version": 3
   },
   "file_extension": ".py",
   "mimetype": "text/x-python",
   "name": "python",
   "nbconvert_exporter": "python",
   "pygments_lexer": "ipython3",
   "version": "3.6.0"
  },
  "toc": {
   "nav_menu": {
    "height": "12px",
    "width": "252px"
   },
   "number_sections": true,
   "sideBar": true,
   "skip_h1_title": false,
   "toc_cell": false,
   "toc_position": {},
   "toc_section_display": "block",
   "toc_window_display": false
  }
 },
 "nbformat": 4,
 "nbformat_minor": 2
}
