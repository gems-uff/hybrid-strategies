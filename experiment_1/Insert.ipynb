{
 "cells": [
  {
   "cell_type": "code",
   "execution_count": 52,
   "metadata": {
    "collapsed": true
   },
   "outputs": [],
   "source": [
    "import database\n",
    "from snowballing.operations import load_work, reload, work_by_varname\n",
    "from snowballing.snowballing import Converter\n",
    "from snowballing.snowballing import ArticleNavigator\n",
    "from snowballing.dbmanager import insert, set_attribute"
   ]
  },
  {
   "cell_type": "code",
   "execution_count": 53,
   "metadata": {
    "scrolled": false
   },
   "outputs": [
    {
     "data": {
      "application/vnd.jupyter.widget-view+json": {
       "model_id": "b7a2047d7dc743d783a207c4dd414fb0",
       "version_major": 2,
       "version_minor": 0
      },
      "text/html": [
       "<p>Failed to display Jupyter Widget of type <code>VBox</code>.</p>\n",
       "<p>\n",
       "  If you're reading this message in Jupyter Notebook or JupyterLab, it may mean\n",
       "  that the widgets JavaScript is still loading. If this message persists, it\n",
       "  likely means that the widgets JavaScript library is either not installed or\n",
       "  not enabled. See the <a href=\"https://ipywidgets.readthedocs.io/en/stable/user_install.html\">Jupyter\n",
       "  Widgets Documentation</a> for setup instructions.\n",
       "</p>\n",
       "<p>\n",
       "  If you're reading this message in another notebook frontend (for example, a static\n",
       "  rendering on GitHub or <a href=\"https://nbviewer.jupyter.org/\">NBViewer</a>),\n",
       "  it may mean that your frontend doesn't currently support widgets.\n",
       "</p>\n"
      ],
      "text/plain": [
       "VBox(children=(HBox(children=(Dropdown(options={'BibTeX': 'bibtex', 'Text': 'text', '[N] author name place other year': 'citation', 'Quoted': 'quoted'}, value='bibtex'), Button(description='Set article_list variable', style=ButtonStyle()), Label(value=''))), HBox(children=(Textarea(value='', layout=Layout(height='500px', width='50%')), Textarea(value='', layout=Layout(height='500px', width='50%'))))))"
      ]
     },
     "metadata": {},
     "output_type": "display_data"
    }
   ],
   "source": [
    "Converter(\"bibtex\")"
   ]
  },
  {
   "cell_type": "code",
   "execution_count": 54,
   "metadata": {},
   "outputs": [
    {
     "data": {
      "text/plain": [
       "11"
      ]
     },
     "execution_count": 54,
     "metadata": {},
     "output_type": "execute_result"
    }
   ],
   "source": [
    "len(article_list)"
   ]
  },
  {
   "cell_type": "code",
   "execution_count": 55,
   "metadata": {
    "collapsed": true
   },
   "outputs": [],
   "source": [
    "from snowballing.operations import reload\n",
    "reload()\n"
   ]
  },
  {
   "cell_type": "code",
   "execution_count": null,
   "metadata": {
    "collapsed": true
   },
   "outputs": [],
   "source": []
  },
  {
   "cell_type": "code",
   "execution_count": 56,
   "metadata": {},
   "outputs": [
    {
     "data": {
      "application/vnd.jupyter.widget-view+json": {
       "model_id": "d33ed56e6cfa4dd58cbf9eeb15b71d39",
       "version_major": 2,
       "version_minor": 0
      },
      "text/html": [
       "<p>Failed to display Jupyter Widget of type <code>VBox</code>.</p>\n",
       "<p>\n",
       "  If you're reading this message in Jupyter Notebook or JupyterLab, it may mean\n",
       "  that the widgets JavaScript is still loading. If this message persists, it\n",
       "  likely means that the widgets JavaScript library is either not installed or\n",
       "  not enabled. See the <a href=\"https://ipywidgets.readthedocs.io/en/stable/user_install.html\">Jupyter\n",
       "  Widgets Documentation</a> for setup instructions.\n",
       "</p>\n",
       "<p>\n",
       "  If you're reading this message in another notebook frontend (for example, a static\n",
       "  rendering on GitHub or <a href=\"https://nbviewer.jupyter.org/\">NBViewer</a>),\n",
       "  it may mean that your frontend doesn't currently support widgets.\n",
       "</p>\n"
      ],
      "text/plain": [
       "VBox(children=(HBox(children=(Button(description='Previous Article', disabled=True, icon='caret-left', style=ButtonStyle()), Button(description='Reload Article', icon='refresh', style=ButtonStyle()), Button(description='Next Article', icon='caret-right', style=ButtonStyle()))), HBox(children=(Dropdown(description='Type', index=5, options=('Work', 'WorkSnowball', 'WorkForward', 'WorkBackward', 'WorkOk', 'WorkUnrelated', 'WorkNoFile', 'WorkLang', 'Site', 'Email'), value='WorkUnrelated'), ToggleButton(value=False, description='File'))), HBox(children=(Text(value='', description='Due'), Text(value='', description='Place'))), HBox(children=(Text(value='', description='Year'), Text(value='', description='Prefix Var'))), HBox(children=(Text(value='', description='PDFPage'), Text(value='', description='Related'))), HBox(children=(Text(value='', description='Display'), Text(value='', description='Summary'))), HBox(children=(Text(value='', description='Star'), Text(value='', description='Link'))), HBox(children=(Text(value='1', description='sciencedirect'),)), HBox(children=(Button(description='Reload Article', icon='refresh', style=ButtonStyle()), IntSlider(value=0, max=10), Label(value='1/11'))), Output()))"
      ]
     },
     "metadata": {},
     "output_type": "display_data"
    },
    {
     "data": {
      "application/javascript": [
       "$('span:contains(\"# Temp\")').closest('.cell').remove();"
      ],
      "text/plain": [
       "<IPython.core.display.Javascript object>"
      ]
     },
     "metadata": {},
     "output_type": "display_data"
    },
    {
     "data": {
      "application/javascript": [
       "\n",
       "        $('span:contains(\"# Temp\")').closest('.cell').remove();\n",
       "        var code = IPython.notebook.insert_cell_below('code');\n",
       "        code.set_text(atob(\"IyBUZW1wCmluc2VydCgnJycKZ2FyeuFzMjAxM2EgPSBEQihXb3JrVW5yZWxhdGVkKAogICAgMjAxMywgIkEgbWF0dXJpdHkgbW9kZWwgZm9yIHRoZSBTcGFuaXNoIHNvZnR3YXJlIGluZHVzdHJ5IGJhc2VkIG9uIFxJU09cIHN0YW5kYXJkcyIsCiAgICBkaXNwbGF5PSJnYXJ64XMiLAogICAgYXV0aG9ycz0iSmF2aWVyIEdhcnrhcyBhbmQgRnJhbmNpc2NvIEouIFBpbm8gYW5kIE1hcmlvIFBpYXR0aW5pIGFuZCBDYXJsb3MgTWFudWVsIEZlcm7hbmRleiIsCiAgICBwbGFjZT1DU0ksCiAgICBwcD0iNjE2IC0gNjI4IiwKICAgIGVudHJ5dHlwZT0iYXJ0aWNsZSIsCiAgICB2b2x1bWU9IjM1IiwKICAgIG51bWJlcj0iNiIsCiAgICBub3RlPSIiLAogICAgaXNzbj0iMDkyMC01NDg5IiwKICAgIGRvaT0iaHR0cHM6Ly9kb2kub3JnLzEwLjEwMTYvai5jc2kuMjAxMy4wNC4wMDIiLAogICAgbGluaz0iaHR0cHM6Ly93d3cuc2NpZW5jZWRpcmVjdC5jb20vc2NpZW5jZS9hcnRpY2xlL3BpaS9TMDkyMDU0ODkxMzAwMDI0WCIsCiAgICBrZXl3b3JkPSJBRU5PUiIsCiAgICBJRD0iR2FyeuFzMjAxMzYxNiIsCiAgICBzY2llbmNlZGlyZWN0PSIxIiwKICAgIHBsYWNleD0iQ29tcHV0ZXIgU3RhbmRhcmRzICYgSW50ZXJmYWNlcyIsCikpCicnJyk7\"));\n",
       "    "
      ],
      "text/plain": [
       "<IPython.core.display.Javascript object>"
      ]
     },
     "metadata": {},
     "output_type": "display_data"
    },
    {
     "data": {
      "application/javascript": [
       "$('span:contains(\"# Temp\")').closest('.cell').remove();"
      ],
      "text/plain": [
       "<IPython.core.display.Javascript object>"
      ]
     },
     "metadata": {},
     "output_type": "display_data"
    },
    {
     "data": {
      "application/javascript": [
       "\n",
       "        $('span:contains(\"# Temp\")').closest('.cell').remove();\n",
       "        var code = IPython.notebook.insert_cell_below('code');\n",
       "        code.set_text(atob(\"IyBUZW1wCmluc2VydCgnJycKYWxpMjAxNGEgPSBEQihXb3JrVW5yZWxhdGVkKAogICAgMjAxNCwgIkEgc3lzdGVtYXRpYyBsaXRlcmF0dXJlIHJldmlldyBvbiB0aGUgaW5kdXN0cmlhbCB1c2Ugb2Ygc29mdHdhcmUgcHJvY2VzcyBzaW11bGF0aW9uIiwKICAgIGRpc3BsYXk9ImFsaSIsCiAgICBhdXRob3JzPSJOYXVtYW4gQmluIEFsaSBhbmQgS2FpIFBldGVyc2VuIGFuZCBDbGFlcyBXb2hsaW4iLAogICAgcGxhY2U9SlNTLAogICAgcHA9IjY1IC0gODUiLAogICAgZW50cnl0eXBlPSJhcnRpY2xlIiwKICAgIHZvbHVtZT0iOTciLAogICAgbnVtYmVyPSIiLAogICAgbm90ZT0iIiwKICAgIGlzc249IjAxNjQtMTIxMiIsCiAgICBkb2k9Imh0dHBzOi8vZG9pLm9yZy8xMC4xMDE2L2ouanNzLjIwMTQuMDYuMDU5IiwKICAgIGxpbms9Imh0dHBzOi8vd3d3LnNjaWVuY2VkaXJlY3QuY29tL3NjaWVuY2UvYXJ0aWNsZS9waWkvUzAxNjQxMjEyMTQwMDE1MDIiLAogICAga2V5d29yZD0iU3lzdGVtYXRpYyBsaXRlcmF0dXJlIHJldmlldyIsCiAgICBJRD0iQWxpMjAxNDY1IiwKICAgIHNjaWVuY2VkaXJlY3Q9IjEiLAogICAgcGxhY2V4PSJKb3VybmFsIG9mIFN5c3RlbXMgYW5kIFNvZnR3YXJlIiwKKSkKJycnKTs=\"));\n",
       "    "
      ],
      "text/plain": [
       "<IPython.core.display.Javascript object>"
      ]
     },
     "metadata": {},
     "output_type": "display_data"
    },
    {
     "data": {
      "application/javascript": [
       "$('span:contains(\"# Temp\")').closest('.cell').remove();"
      ],
      "text/plain": [
       "<IPython.core.display.Javascript object>"
      ]
     },
     "metadata": {},
     "output_type": "display_data"
    },
    {
     "data": {
      "application/javascript": [
       "\n",
       "        $('span:contains(\"# Temp\")').closest('.cell').remove();\n",
       "        var code = IPython.notebook.insert_cell_below('code');\n",
       "        code.set_text(atob(\"IyBUZW1wCmluc2VydCgnJycKYWxpMjAxNGEgPSBEQihXb3JrVW5yZWxhdGVkKAogICAgMjAxNCwgIkEgc3lzdGVtYXRpYyBsaXRlcmF0dXJlIHJldmlldyBvbiB0aGUgaW5kdXN0cmlhbCB1c2Ugb2Ygc29mdHdhcmUgcHJvY2VzcyBzaW11bGF0aW9uIiwKICAgIGRpc3BsYXk9ImFsaSIsCiAgICBhdXRob3JzPSJOYXVtYW4gQmluIEFsaSBhbmQgS2FpIFBldGVyc2VuIGFuZCBDbGFlcyBXb2hsaW4iLAogICAgcGxhY2U9SlNTLAogICAgcHA9IjY1IC0gODUiLAogICAgZW50cnl0eXBlPSJhcnRpY2xlIiwKICAgIHZvbHVtZT0iOTciLAogICAgbnVtYmVyPSIiLAogICAgbm90ZT0iIiwKICAgIGlzc249IjAxNjQtMTIxMiIsCiAgICBkb2k9Imh0dHBzOi8vZG9pLm9yZy8xMC4xMDE2L2ouanNzLjIwMTQuMDYuMDU5IiwKICAgIGxpbms9Imh0dHBzOi8vd3d3LnNjaWVuY2VkaXJlY3QuY29tL3NjaWVuY2UvYXJ0aWNsZS9waWkvUzAxNjQxMjEyMTQwMDE1MDIiLAogICAga2V5d29yZD0iU3lzdGVtYXRpYyBsaXRlcmF0dXJlIHJldmlldyIsCiAgICBJRD0iQWxpMjAxNDY1IiwKICAgIHNjaWVuY2VkaXJlY3Q9IjEiLAogICAgcGxhY2V4PSJKb3VybmFsIG9mIFN5c3RlbXMgYW5kIFNvZnR3YXJlIiwKKSkKJycnKTs=\"));\n",
       "    "
      ],
      "text/plain": [
       "<IPython.core.display.Javascript object>"
      ]
     },
     "metadata": {},
     "output_type": "display_data"
    },
    {
     "data": {
      "application/javascript": [
       "$('span:contains(\"# Temp\")').closest('.cell').remove();"
      ],
      "text/plain": [
       "<IPython.core.display.Javascript object>"
      ]
     },
     "metadata": {},
     "output_type": "display_data"
    },
    {
     "data": {
      "application/javascript": [
       "\n",
       "        $('span:contains(\"# Temp\")').closest('.cell').remove();\n",
       "        var code = IPython.notebook.insert_cell_below('code');\n",
       "        code.set_text(atob(\"IyBUZW1wCmluc2VydCgnJycKY2hvdXNlaW5vZ2xvdTIwMTNhID0gREIoV29ya1VucmVsYXRlZCgKICAgIDIwMTMsICJBaU9Mb1M6IEEgbW9kZWwgZm9yIGFzc2Vzc2luZyBvcmdhbml6YXRpb25hbCBsZWFybmluZyBpbiBzb2Z0d2FyZSBkZXZlbG9wbWVudCBvcmdhbml6YXRpb25zIiwKICAgIGRpc3BsYXk9ImNob3VzZWlub2dsb3UiLAogICAgYXV0aG9ycz0iT3Vtb3V0IENob3VzZWlub2dsb3UgYW5kIERlbml6ID9yZW4gYW5kIE4uIEFscGF5IEthcmFn9nogYW5kIFNlbWloIEJpbGdlbiIsCiAgICBwbGFjZT1JU1QsCiAgICBwcD0iMTkwNCAtIDE5MjQiLAogICAgZW50cnl0eXBlPSJhcnRpY2xlIiwKICAgIHZvbHVtZT0iNTUiLAogICAgbnVtYmVyPSIxMSIsCiAgICBub3RlPSIiLAogICAgaXNzbj0iMDk1MC01ODQ5IiwKICAgIGRvaT0iaHR0cHM6Ly9kb2kub3JnLzEwLjEwMTYvai5pbmZzb2YuMjAxMy4wNS4wMDQiLAogICAgbGluaz0iaHR0cHM6Ly93d3cuc2NpZW5jZWRpcmVjdC5jb20vc2NpZW5jZS9hcnRpY2xlL3BpaS9TMDk1MDU4NDkxMzAwMTE3MSIsCiAgICBrZXl3b3JkPSJMZWFybmluZyBzb2Z0d2FyZSBvcmdhbml6YXRpb25zIiwKICAgIElEPSJDaG91c2Vpbm9nbG91MjAxMzE5MDQiLAogICAgc2NpZW5jZWRpcmVjdD0iMSIsCiAgICBwbGFjZXg9IkluZm9ybWF0aW9uIGFuZCBTb2Z0d2FyZSBUZWNobm9sb2d5IiwKKSkKJycnKTs=\"));\n",
       "    "
      ],
      "text/plain": [
       "<IPython.core.display.Javascript object>"
      ]
     },
     "metadata": {},
     "output_type": "display_data"
    },
    {
     "data": {
      "application/javascript": [
       "$('span:contains(\"# Temp\")').closest('.cell').remove();"
      ],
      "text/plain": [
       "<IPython.core.display.Javascript object>"
      ]
     },
     "metadata": {},
     "output_type": "display_data"
    },
    {
     "data": {
      "application/javascript": [
       "\n",
       "        $('span:contains(\"# Temp\")').closest('.cell').remove();\n",
       "        var code = IPython.notebook.insert_cell_below('code');\n",
       "        code.set_text(atob(\"IyBUZW1wCmluc2VydCgnJycKY2hvdXNlaW5vZ2xvdTIwMTNhID0gREIoV29ya1VucmVsYXRlZCgKICAgIDIwMTMsICJBaU9Mb1M6IEEgbW9kZWwgZm9yIGFzc2Vzc2luZyBvcmdhbml6YXRpb25hbCBsZWFybmluZyBpbiBzb2Z0d2FyZSBkZXZlbG9wbWVudCBvcmdhbml6YXRpb25zIiwKICAgIGRpc3BsYXk9ImNob3VzZWlub2dsb3UiLAogICAgYXV0aG9ycz0iT3Vtb3V0IENob3VzZWlub2dsb3UgYW5kIERlbml6ID9yZW4gYW5kIE4uIEFscGF5IEthcmFn9nogYW5kIFNlbWloIEJpbGdlbiIsCiAgICBwbGFjZT1JU1QsCiAgICBwcD0iMTkwNCAtIDE5MjQiLAogICAgZW50cnl0eXBlPSJhcnRpY2xlIiwKICAgIHZvbHVtZT0iNTUiLAogICAgbnVtYmVyPSIxMSIsCiAgICBub3RlPSIiLAogICAgaXNzbj0iMDk1MC01ODQ5IiwKICAgIGRvaT0iaHR0cHM6Ly9kb2kub3JnLzEwLjEwMTYvai5pbmZzb2YuMjAxMy4wNS4wMDQiLAogICAgbGluaz0iaHR0cHM6Ly93d3cuc2NpZW5jZWRpcmVjdC5jb20vc2NpZW5jZS9hcnRpY2xlL3BpaS9TMDk1MDU4NDkxMzAwMTE3MSIsCiAgICBrZXl3b3JkPSJMZWFybmluZyBzb2Z0d2FyZSBvcmdhbml6YXRpb25zIiwKICAgIElEPSJDaG91c2Vpbm9nbG91MjAxMzE5MDQiLAogICAgc2NpZW5jZWRpcmVjdD0iMSIsCiAgICBwbGFjZXg9IkluZm9ybWF0aW9uIGFuZCBTb2Z0d2FyZSBUZWNobm9sb2d5IiwKKSkKJycnKTs=\"));\n",
       "    "
      ],
      "text/plain": [
       "<IPython.core.display.Javascript object>"
      ]
     },
     "metadata": {},
     "output_type": "display_data"
    },
    {
     "data": {
      "application/javascript": [
       "$('span:contains(\"# Temp\")').closest('.cell').remove();"
      ],
      "text/plain": [
       "<IPython.core.display.Javascript object>"
      ]
     },
     "metadata": {},
     "output_type": "display_data"
    },
    {
     "data": {
      "application/javascript": [
       "\n",
       "        $('span:contains(\"# Temp\")').closest('.cell').remove();\n",
       "        var code = IPython.notebook.insert_cell_below('code');\n",
       "        code.set_text(atob(\"IyBUZW1wCmluc2VydCgnJycKa2V0dHVuZW4yMDA5YSA9IERCKFdvcmtVbnJlbGF0ZWQoCiAgICAyMDA5LCAiQWRvcHRpbmcga2V5IGxlc3NvbnMgZnJvbSBhZ2lsZSBtYW51ZmFjdHVyaW5nIHRvIGFnaWxlIHNvZnR3YXJlIHByb2R1Y3QgZGV2ZWxvcG1lbnSXQSBjb21wYXJhdGl2ZSBzdHVkeSIsCiAgICBkaXNwbGF5PSJrZXR0dW5lbiIsCiAgICBhdXRob3JzPSJQZXRyaSBLZXR0dW5lbiIsCiAgICBwbGFjZT1GQUtFLAogICAgcHA9IjQwOCAtIDQyMiIsCiAgICBlbnRyeXR5cGU9ImFydGljbGUiLAogICAgdm9sdW1lPSIyOSIsCiAgICBudW1iZXI9IjaWNyIsCiAgICBub3RlPSIiLAogICAgaXNzbj0iMDE2Ni00OTcyIiwKICAgIGRvaT0iaHR0cHM6Ly9kb2kub3JnLzEwLjEwMTYvai50ZWNobm92YXRpb24uMjAwOC4xMC4wMDMiLAogICAgbGluaz0iaHR0cHM6Ly93d3cuc2NpZW5jZWRpcmVjdC5jb20vc2NpZW5jZS9hcnRpY2xlL3BpaS9TMDE2NjQ5NzIwODAwMTMwMiIsCiAgICBrZXl3b3JkPSJOZXcgcHJvZHVjdCBkZXZlbG9wbWVudCIsCiAgICBJRD0iS2V0dHVuZW4yMDA5NDA4IiwKICAgIHNjaWVuY2VkaXJlY3Q9IjEiLAogICAgcGxhY2V4PSJUZWNobm92YXRpb24iLAopKQonJycpOw==\"));\n",
       "    "
      ],
      "text/plain": [
       "<IPython.core.display.Javascript object>"
      ]
     },
     "metadata": {},
     "output_type": "display_data"
    },
    {
     "data": {
      "application/javascript": [
       "$('span:contains(\"# Temp\")').closest('.cell').remove();"
      ],
      "text/plain": [
       "<IPython.core.display.Javascript object>"
      ]
     },
     "metadata": {},
     "output_type": "display_data"
    },
    {
     "data": {
      "application/javascript": [
       "\n",
       "        $('span:contains(\"# Temp\")').closest('.cell').remove();\n",
       "        var code = IPython.notebook.insert_cell_below('code');\n",
       "        code.set_text(atob(\"IyBUZW1wCmluc2VydCgnJycKa2V0dHVuZW4yMDA5YSA9IERCKFdvcmtVbnJlbGF0ZWQoCiAgICAyMDA5LCAiQWRvcHRpbmcga2V5IGxlc3NvbnMgZnJvbSBhZ2lsZSBtYW51ZmFjdHVyaW5nIHRvIGFnaWxlIHNvZnR3YXJlIHByb2R1Y3QgZGV2ZWxvcG1lbnSXQSBjb21wYXJhdGl2ZSBzdHVkeSIsCiAgICBkaXNwbGF5PSJrZXR0dW5lbiIsCiAgICBhdXRob3JzPSJQZXRyaSBLZXR0dW5lbiIsCiAgICBwbGFjZT1GQUtFLAogICAgcHA9IjQwOCAtIDQyMiIsCiAgICBlbnRyeXR5cGU9ImFydGljbGUiLAogICAgdm9sdW1lPSIyOSIsCiAgICBudW1iZXI9IjaWNyIsCiAgICBub3RlPSIiLAogICAgaXNzbj0iMDE2Ni00OTcyIiwKICAgIGRvaT0iaHR0cHM6Ly9kb2kub3JnLzEwLjEwMTYvai50ZWNobm92YXRpb24uMjAwOC4xMC4wMDMiLAogICAgbGluaz0iaHR0cHM6Ly93d3cuc2NpZW5jZWRpcmVjdC5jb20vc2NpZW5jZS9hcnRpY2xlL3BpaS9TMDE2NjQ5NzIwODAwMTMwMiIsCiAgICBrZXl3b3JkPSJOZXcgcHJvZHVjdCBkZXZlbG9wbWVudCIsCiAgICBJRD0iS2V0dHVuZW4yMDA5NDA4IiwKICAgIHNjaWVuY2VkaXJlY3Q9IjEiLAogICAgcGxhY2V4PSJUZWNobm92YXRpb24iLAopKQonJycpOw==\"));\n",
       "    "
      ],
      "text/plain": [
       "<IPython.core.display.Javascript object>"
      ]
     },
     "metadata": {},
     "output_type": "display_data"
    },
    {
     "data": {
      "application/javascript": [
       "$('span:contains(\"# Temp\")').closest('.cell').remove();"
      ],
      "text/plain": [
       "<IPython.core.display.Javascript object>"
      ]
     },
     "metadata": {},
     "output_type": "display_data"
    },
    {
     "data": {
      "application/javascript": [
       "\n",
       "        $('span:contains(\"# Temp\")').closest('.cell').remove();\n",
       "        var code = IPython.notebook.insert_cell_below('code');\n",
       "        code.set_text(atob(\"IyBUZW1wCmluc2VydCgnJycKY2xhcmtlMjAxMmEgPSBEQihXb3JrVW5yZWxhdGVkKAogICAgMjAxMiwgIlRoZSBpbmZsdWVuY2Ugb2YgXFNQSVwgb24gYnVzaW5lc3Mgc3VjY2VzcyBpbiBzb2Z0d2FyZSBTTUVzOiBBbiBlbXBpcmljYWwgc3R1ZHkiLAogICAgZGlzcGxheT0iY2xhcmtlIiwKICAgIGF1dGhvcnM9IlBhdWwgQ2xhcmtlIGFuZCBSb3J5IFYuIE+SQ29ubm9yIiwKICAgIHBsYWNlPUpTUywKICAgIHBwPSIyMzU2IC0gMjM2NyIsCiAgICBlbnRyeXR5cGU9ImFydGljbGUiLAogICAgdm9sdW1lPSI4NSIsCiAgICBudW1iZXI9IjEwIiwKICAgIG5vdGU9IkF1dG9tYXRlZCBTb2Z0d2FyZSBFdm9sdXRpb24iLAogICAgaXNzbj0iMDE2NC0xMjEyIiwKICAgIGRvaT0iaHR0cHM6Ly9kb2kub3JnLzEwLjEwMTYvai5qc3MuMjAxMi4wNS4wMjQiLAogICAgbGluaz0iaHR0cHM6Ly93d3cuc2NpZW5jZWRpcmVjdC5jb20vc2NpZW5jZS9hcnRpY2xlL3BpaS9TMDE2NDEyMTIxMjAwMTM1NSIsCiAgICBrZXl3b3JkPSJTb2Z0d2FyZSBwcm9jZXNzIGltcHJvdmVtZW50IiwKICAgIElEPSJDbGFya2UyMDEyMjM1NiIsCiAgICBzY2llbmNlZGlyZWN0PSIxIiwKICAgIHBsYWNleD0iSm91cm5hbCBvZiBTeXN0ZW1zIGFuZCBTb2Z0d2FyZSIsCikpCicnJyk7\"));\n",
       "    "
      ],
      "text/plain": [
       "<IPython.core.display.Javascript object>"
      ]
     },
     "metadata": {},
     "output_type": "display_data"
    },
    {
     "data": {
      "application/javascript": [
       "$('span:contains(\"# Temp\")').closest('.cell').remove();"
      ],
      "text/plain": [
       "<IPython.core.display.Javascript object>"
      ]
     },
     "metadata": {},
     "output_type": "display_data"
    },
    {
     "data": {
      "application/javascript": [
       "\n",
       "        $('span:contains(\"# Temp\")').closest('.cell').remove();\n",
       "        var code = IPython.notebook.insert_cell_below('code');\n",
       "        code.set_text(atob(\"IyBUZW1wCmluc2VydCgnJycKY2xhcmtlMjAxMmEgPSBEQihXb3JrVW5yZWxhdGVkKAogICAgMjAxMiwgIlRoZSBpbmZsdWVuY2Ugb2YgXFNQSVwgb24gYnVzaW5lc3Mgc3VjY2VzcyBpbiBzb2Z0d2FyZSBTTUVzOiBBbiBlbXBpcmljYWwgc3R1ZHkiLAogICAgZGlzcGxheT0iY2xhcmtlIiwKICAgIGF1dGhvcnM9IlBhdWwgQ2xhcmtlIGFuZCBSb3J5IFYuIE+SQ29ubm9yIiwKICAgIHBsYWNlPUpTUywKICAgIHBwPSIyMzU2IC0gMjM2NyIsCiAgICBlbnRyeXR5cGU9ImFydGljbGUiLAogICAgdm9sdW1lPSI4NSIsCiAgICBudW1iZXI9IjEwIiwKICAgIG5vdGU9IkF1dG9tYXRlZCBTb2Z0d2FyZSBFdm9sdXRpb24iLAogICAgaXNzbj0iMDE2NC0xMjEyIiwKICAgIGRvaT0iaHR0cHM6Ly9kb2kub3JnLzEwLjEwMTYvai5qc3MuMjAxMi4wNS4wMjQiLAogICAgbGluaz0iaHR0cHM6Ly93d3cuc2NpZW5jZWRpcmVjdC5jb20vc2NpZW5jZS9hcnRpY2xlL3BpaS9TMDE2NDEyMTIxMjAwMTM1NSIsCiAgICBrZXl3b3JkPSJTb2Z0d2FyZSBwcm9jZXNzIGltcHJvdmVtZW50IiwKICAgIElEPSJDbGFya2UyMDEyMjM1NiIsCiAgICBzY2llbmNlZGlyZWN0PSIxIiwKICAgIHBsYWNleD0iSm91cm5hbCBvZiBTeXN0ZW1zIGFuZCBTb2Z0d2FyZSIsCikpCicnJyk7\"));\n",
       "    "
      ],
      "text/plain": [
       "<IPython.core.display.Javascript object>"
      ]
     },
     "metadata": {},
     "output_type": "display_data"
    },
    {
     "data": {
      "application/javascript": [
       "$('span:contains(\"# Temp\")').closest('.cell').remove();"
      ],
      "text/plain": [
       "<IPython.core.display.Javascript object>"
      ]
     },
     "metadata": {},
     "output_type": "display_data"
    },
    {
     "data": {
      "application/javascript": [
       "\n",
       "        $('span:contains(\"# Temp\")').closest('.cell').remove();\n",
       "        var code = IPython.notebook.insert_cell_below('code');\n",
       "        code.set_text(atob(\"IyBUZW1wCmluc2VydCgnJycKcmk/P2V2aT9zMjAxM2EgPSBEQihXb3JrVW5yZWxhdGVkKAogICAgMjAxMywgIkVxdWFsaXR5IGluIGN1bXVsYXRpdmUgdm90aW5nOiBBIHN5c3RlbWF0aWMgcmV2aWV3IHdpdGggYW4gaW1wcm92ZW1lbnQgcHJvcG9zYWwiLAogICAgZGlzcGxheT0icmk/P2V2aT9zIiwKICAgIGF1dGhvcnM9IksuIFJpPz9ldmk/cyBhbmQgUi4gVG9ya2FyIiwKICAgIHBsYWNlPUlTVCwKICAgIHBwPSIyNjcgLSAyODciLAogICAgZW50cnl0eXBlPSJhcnRpY2xlIiwKICAgIHZvbHVtZT0iNTUiLAogICAgbnVtYmVyPSIyIiwKICAgIG5vdGU9IlNwZWNpYWwgU2VjdGlvbjogQ29tcG9uZW50LUJhc2VkIFNvZnR3YXJlIEVuZ2luZWVyaW5nIChDQlNFKSwgMjAxMSIsCiAgICBpc3NuPSIwOTUwLTU4NDkiLAogICAgZG9pPSJodHRwczovL2RvaS5vcmcvMTAuMTAxNi9qLmluZnNvZi4yMDEyLjA4LjAwNCIsCiAgICBsaW5rPSJodHRwczovL3d3dy5zY2llbmNlZGlyZWN0LmNvbS9zY2llbmNlL2FydGljbGUvcGlpL1MwOTUwNTg0OTEyMDAxNTg5IiwKICAgIGtleXdvcmQ9IkNvbXBvc2l0aW9uYWwgZGF0YSIsCiAgICBJRD0iUmk/P2V2aT9zMjAxMzI2NyIsCiAgICBzY2llbmNlZGlyZWN0PSIxIiwKICAgIHBsYWNleD0iSW5mb3JtYXRpb24gYW5kIFNvZnR3YXJlIFRlY2hub2xvZ3kiLAopKQonJycpOw==\"));\n",
       "    "
      ],
      "text/plain": [
       "<IPython.core.display.Javascript object>"
      ]
     },
     "metadata": {},
     "output_type": "display_data"
    },
    {
     "data": {
      "application/javascript": [
       "$('span:contains(\"# Temp\")').closest('.cell').remove();"
      ],
      "text/plain": [
       "<IPython.core.display.Javascript object>"
      ]
     },
     "metadata": {},
     "output_type": "display_data"
    },
    {
     "data": {
      "application/javascript": [
       "\n",
       "        $('span:contains(\"# Temp\")').closest('.cell').remove();\n",
       "        var code = IPython.notebook.insert_cell_below('code');\n",
       "        code.set_text(atob(\"IyBUZW1wCmluc2VydCgnJycKcmk/P2V2aT9zMjAxM2EgPSBEQihXb3JrVW5yZWxhdGVkKAogICAgMjAxMywgIkVxdWFsaXR5IGluIGN1bXVsYXRpdmUgdm90aW5nOiBBIHN5c3RlbWF0aWMgcmV2aWV3IHdpdGggYW4gaW1wcm92ZW1lbnQgcHJvcG9zYWwiLAogICAgZGlzcGxheT0icmk/P2V2aT9zIiwKICAgIGF1dGhvcnM9IksuIFJpPz9ldmk/cyBhbmQgUi4gVG9ya2FyIiwKICAgIHBsYWNlPUlTVCwKICAgIHBwPSIyNjcgLSAyODciLAogICAgZW50cnl0eXBlPSJhcnRpY2xlIiwKICAgIHZvbHVtZT0iNTUiLAogICAgbnVtYmVyPSIyIiwKICAgIG5vdGU9IlNwZWNpYWwgU2VjdGlvbjogQ29tcG9uZW50LUJhc2VkIFNvZnR3YXJlIEVuZ2luZWVyaW5nIChDQlNFKSwgMjAxMSIsCiAgICBpc3NuPSIwOTUwLTU4NDkiLAogICAgZG9pPSJodHRwczovL2RvaS5vcmcvMTAuMTAxNi9qLmluZnNvZi4yMDEyLjA4LjAwNCIsCiAgICBsaW5rPSJodHRwczovL3d3dy5zY2llbmNlZGlyZWN0LmNvbS9zY2llbmNlL2FydGljbGUvcGlpL1MwOTUwNTg0OTEyMDAxNTg5IiwKICAgIGtleXdvcmQ9IkNvbXBvc2l0aW9uYWwgZGF0YSIsCiAgICBJRD0iUmk/P2V2aT9zMjAxMzI2NyIsCiAgICBzY2llbmNlZGlyZWN0PSIxIiwKICAgIHBsYWNleD0iSW5mb3JtYXRpb24gYW5kIFNvZnR3YXJlIFRlY2hub2xvZ3kiLAopKQonJycpOw==\"));\n",
       "    "
      ],
      "text/plain": [
       "<IPython.core.display.Javascript object>"
      ]
     },
     "metadata": {},
     "output_type": "display_data"
    },
    {
     "data": {
      "application/javascript": [
       "$('span:contains(\"# Temp\")').closest('.cell').remove();"
      ],
      "text/plain": [
       "<IPython.core.display.Javascript object>"
      ]
     },
     "metadata": {},
     "output_type": "display_data"
    },
    {
     "data": {
      "application/javascript": [
       "\n",
       "        $('span:contains(\"# Temp\")').closest('.cell').remove();\n",
       "        var code = IPython.notebook.insert_cell_below('code');\n",
       "        code.set_text(atob(\"IyBUZW1wCmluc2VydCgnJycKc2NvdHQyMDAyYSA9IERCKFdvcmtVbnJlbGF0ZWQoCiAgICAyMDAyLCAiVW5kZXJzdGFuZGluZyB0aGUgdXNlIG9mIGFuIGVsZWN0cm9uaWMgcHJvY2VzcyBndWlkZSIsCiAgICBkaXNwbGF5PSJzY290dCIsCiAgICBhdXRob3JzPSJMb3Vpc2UgU2NvdHQgYW5kIEx1Y2lsYSBDYXJ2YWxobyBhbmQgUm9zcyBKZWZmZXJ5IGFuZCBKb2huIEQnQW1icmEgYW5kIFVscmlrZSBCZWNrZXItS29ybnN0YWVkdCIsCiAgICBwbGFjZT1JU1QsCiAgICBwcD0iNjAxIC0gNjE2IiwKICAgIGVudHJ5dHlwZT0iYXJ0aWNsZSIsCiAgICB2b2x1bWU9IjQ0IiwKICAgIG51bWJlcj0iMTAiLAogICAgbm90ZT0iIiwKICAgIGlzc249IjA5NTAtNTg0OSIsCiAgICBkb2k9Imh0dHBzOi8vZG9pLm9yZy8xMC4xMDE2L1MwOTUwLTU4NDkoMDIpMDAwODAtMCIsCiAgICBsaW5rPSJodHRwczovL3d3dy5zY2llbmNlZGlyZWN0LmNvbS9zY2llbmNlL2FydGljbGUvcGlpL1MwOTUwNTg0OTAyMDAwODAwIiwKICAgIGtleXdvcmQ9IkVtcGlyaWNhbCBzb2Z0d2FyZSBlbmdpbmVlcmluZyIsCiAgICBJRD0iU2NvdHQyMDAyNjAxIiwKICAgIHNjaWVuY2VkaXJlY3Q9IjEiLAogICAgcGxhY2V4PSJJbmZvcm1hdGlvbiBhbmQgU29mdHdhcmUgVGVjaG5vbG9neSIsCikpCicnJyk7\"));\n",
       "    "
      ],
      "text/plain": [
       "<IPython.core.display.Javascript object>"
      ]
     },
     "metadata": {},
     "output_type": "display_data"
    },
    {
     "data": {
      "application/javascript": [
       "$('span:contains(\"# Temp\")').closest('.cell').remove();"
      ],
      "text/plain": [
       "<IPython.core.display.Javascript object>"
      ]
     },
     "metadata": {},
     "output_type": "display_data"
    },
    {
     "data": {
      "application/javascript": [
       "\n",
       "        $('span:contains(\"# Temp\")').closest('.cell').remove();\n",
       "        var code = IPython.notebook.insert_cell_below('code');\n",
       "        code.set_text(atob(\"IyBUZW1wCmluc2VydCgnJycKc2NvdHQyMDAyYSA9IERCKFdvcmtVbnJlbGF0ZWQoCiAgICAyMDAyLCAiVW5kZXJzdGFuZGluZyB0aGUgdXNlIG9mIGFuIGVsZWN0cm9uaWMgcHJvY2VzcyBndWlkZSIsCiAgICBkaXNwbGF5PSJzY290dCIsCiAgICBhdXRob3JzPSJMb3Vpc2UgU2NvdHQgYW5kIEx1Y2lsYSBDYXJ2YWxobyBhbmQgUm9zcyBKZWZmZXJ5IGFuZCBKb2huIEQnQW1icmEgYW5kIFVscmlrZSBCZWNrZXItS29ybnN0YWVkdCIsCiAgICBwbGFjZT1JU1QsCiAgICBwcD0iNjAxIC0gNjE2IiwKICAgIGVudHJ5dHlwZT0iYXJ0aWNsZSIsCiAgICB2b2x1bWU9IjQ0IiwKICAgIG51bWJlcj0iMTAiLAogICAgbm90ZT0iIiwKICAgIGlzc249IjA5NTAtNTg0OSIsCiAgICBkb2k9Imh0dHBzOi8vZG9pLm9yZy8xMC4xMDE2L1MwOTUwLTU4NDkoMDIpMDAwODAtMCIsCiAgICBsaW5rPSJodHRwczovL3d3dy5zY2llbmNlZGlyZWN0LmNvbS9zY2llbmNlL2FydGljbGUvcGlpL1MwOTUwNTg0OTAyMDAwODAwIiwKICAgIGtleXdvcmQ9IkVtcGlyaWNhbCBzb2Z0d2FyZSBlbmdpbmVlcmluZyIsCiAgICBJRD0iU2NvdHQyMDAyNjAxIiwKICAgIHNjaWVuY2VkaXJlY3Q9IjEiLAogICAgcGxhY2V4PSJJbmZvcm1hdGlvbiBhbmQgU29mdHdhcmUgVGVjaG5vbG9neSIsCikpCicnJyk7\"));\n",
       "    "
      ],
      "text/plain": [
       "<IPython.core.display.Javascript object>"
      ]
     },
     "metadata": {},
     "output_type": "display_data"
    },
    {
     "data": {
      "application/javascript": [
       "$('span:contains(\"# Temp\")').closest('.cell').remove();"
      ],
      "text/plain": [
       "<IPython.core.display.Javascript object>"
      ]
     },
     "metadata": {},
     "output_type": "display_data"
    },
    {
     "data": {
      "application/javascript": [
       "\n",
       "        $('span:contains(\"# Temp\")').closest('.cell').remove();\n",
       "        var code = IPython.notebook.insert_cell_below('code');\n",
       "        code.set_text(atob(\"IyBUZW1wCmluc2VydCgnJycKZHJhZ2hpY2kyMDEyYSA9IERCKFdvcmtVbnJlbGF0ZWQoCiAgICAyMDEyLCAiXElDVFwgSW5mcmFzdHJ1Y3R1cmUgQ3JlYXRlZCB0byBTdXBwb3J0IENlcnRpQlBNIFByb2plY3QgYW5kIFRyYWluaW5nIFByb2dyYW0iLAogICAgZGlzcGxheT0iZHJhZ2hpY2kiLAogICAgYXV0aG9ycz0iQW5jYSBEcmFnaGljaSBhbmQgR2VvcmdlIERyYWdoaWNpIGFuZCBDcmlzdGlhbiBPbGFyaXUgYW5kIEFsZXhhbmRydSBDYW5kYSIsCiAgICBwbGFjZT1GQUtFLAogICAgcHA9IjUyNyAtIDUzNiIsCiAgICBlbnRyeXR5cGU9ImFydGljbGUiLAogICAgdm9sdW1lPSI1IiwKICAgIG51bWJlcj0iIiwKICAgIG5vdGU9IjR0aCBDb25mZXJlbmNlIG9mIFx7RU5URVJwcmlzZVx9IEluZm9ybWF0aW9uIFN5c3RlbXMgliBhbGlnbmluZyB0ZWNobm9sb2d5LCBvcmdhbml6YXRpb25zIGFuZCBwZW9wbGUgKENFTlRFUklTIDIwMTIpIiwKICAgIGlzc249IjIyMTItMDE3MyIsCiAgICBkb2k9Imh0dHBzOi8vZG9pLm9yZy8xMC4xMDE2L2oucHJvdGN5LjIwMTIuMDkuMDU4IiwKICAgIGxpbms9Imh0dHBzOi8vd3d3LnNjaWVuY2VkaXJlY3QuY29tL3NjaWVuY2UvYXJ0aWNsZS9waWkvUzIyMTIwMTczMTIwMDQ4OTYiLAogICAga2V5d29yZD0iVmlydHVhbCBPZmZpY2UiLAogICAgSUQ9IkRyYWdoaWNpMjAxMjUyNyIsCiAgICBzY2llbmNlZGlyZWN0PSIxIiwKICAgIHBsYWNleD0iUHJvY2VkaWEgVGVjaG5vbG9neSIsCikpCicnJyk7\"));\n",
       "    "
      ],
      "text/plain": [
       "<IPython.core.display.Javascript object>"
      ]
     },
     "metadata": {},
     "output_type": "display_data"
    },
    {
     "data": {
      "application/javascript": [
       "$('span:contains(\"# Temp\")').closest('.cell').remove();"
      ],
      "text/plain": [
       "<IPython.core.display.Javascript object>"
      ]
     },
     "metadata": {},
     "output_type": "display_data"
    },
    {
     "data": {
      "application/javascript": [
       "\n",
       "        $('span:contains(\"# Temp\")').closest('.cell').remove();\n",
       "        var code = IPython.notebook.insert_cell_below('code');\n",
       "        code.set_text(atob(\"IyBUZW1wCmluc2VydCgnJycKZHJhZ2hpY2kyMDEyYSA9IERCKFdvcmtVbnJlbGF0ZWQoCiAgICAyMDEyLCAiXElDVFwgSW5mcmFzdHJ1Y3R1cmUgQ3JlYXRlZCB0byBTdXBwb3J0IENlcnRpQlBNIFByb2plY3QgYW5kIFRyYWluaW5nIFByb2dyYW0iLAogICAgZGlzcGxheT0iZHJhZ2hpY2kiLAogICAgYXV0aG9ycz0iQW5jYSBEcmFnaGljaSBhbmQgR2VvcmdlIERyYWdoaWNpIGFuZCBDcmlzdGlhbiBPbGFyaXUgYW5kIEFsZXhhbmRydSBDYW5kYSIsCiAgICBwbGFjZT1GQUtFLAogICAgcHA9IjUyNyAtIDUzNiIsCiAgICBlbnRyeXR5cGU9ImFydGljbGUiLAogICAgdm9sdW1lPSI1IiwKICAgIG51bWJlcj0iIiwKICAgIG5vdGU9IjR0aCBDb25mZXJlbmNlIG9mIFx7RU5URVJwcmlzZVx9IEluZm9ybWF0aW9uIFN5c3RlbXMgliBhbGlnbmluZyB0ZWNobm9sb2d5LCBvcmdhbml6YXRpb25zIGFuZCBwZW9wbGUgKENFTlRFUklTIDIwMTIpIiwKICAgIGlzc249IjIyMTItMDE3MyIsCiAgICBkb2k9Imh0dHBzOi8vZG9pLm9yZy8xMC4xMDE2L2oucHJvdGN5LjIwMTIuMDkuMDU4IiwKICAgIGxpbms9Imh0dHBzOi8vd3d3LnNjaWVuY2VkaXJlY3QuY29tL3NjaWVuY2UvYXJ0aWNsZS9waWkvUzIyMTIwMTczMTIwMDQ4OTYiLAogICAga2V5d29yZD0iVmlydHVhbCBPZmZpY2UiLAogICAgSUQ9IkRyYWdoaWNpMjAxMjUyNyIsCiAgICBzY2llbmNlZGlyZWN0PSIxIiwKICAgIHBsYWNleD0iUHJvY2VkaWEgVGVjaG5vbG9neSIsCikpCicnJyk7\"));\n",
       "    "
      ],
      "text/plain": [
       "<IPython.core.display.Javascript object>"
      ]
     },
     "metadata": {},
     "output_type": "display_data"
    },
    {
     "data": {
      "application/javascript": [
       "$('span:contains(\"# Temp\")').closest('.cell').remove();"
      ],
      "text/plain": [
       "<IPython.core.display.Javascript object>"
      ]
     },
     "metadata": {},
     "output_type": "display_data"
    },
    {
     "data": {
      "application/javascript": [
       "\n",
       "        $('span:contains(\"# Temp\")').closest('.cell').remove();\n",
       "        var code = IPython.notebook.insert_cell_below('code');\n",
       "        code.set_text(atob(\"IyBUZW1wCmluc2VydCgnJycKbWl0cmUtaGVybuFuZGV6MjAxNGEgPSBEQihXb3JrVW5yZWxhdGVkKAogICAgMjAxNCwgIkRlc2lnbmluZyBhIFN0cmF0ZWdpYyBNZWFzdXJlbWVudCBQcm9ncmFtIGZvciBTb2Z0d2FyZSBFbmdpbmVlcmluZyBPcmdhbml6YXRpb25zOiBEaXNjb3ZlcmluZyBEaWZmaWN1bHRpZXMgYW5kIFByb2JsZW1zIiwKICAgIGRpc3BsYXk9Im1pdHJlLWhlcm7hbmRleiIsCiAgICBhdXRob3JzPSJIdWdvIEEuIE1pdHJlLUhlcm7hbmRleiBhbmQgR2FyY+1hLUd1em3hbiBKYXZpZXIgYW5kIERlIEFtZXNjdWEtU2VjbyBBbnRvbmlvIGFuZCBWZWxhc2NvLUVsaXpvbmRvIFBlcmxhIiwKICAgIHBsYWNlPUZBS0UsCiAgICBwcD0iMjUzIC0gMjY5IiwKICAgIGVudHJ5dHlwZT0iYXJ0aWNsZSIsCiAgICB2b2x1bWU9IjE1IiwKICAgIG51bWJlcj0iMiIsCiAgICBub3RlPSIiLAogICAgaXNzbj0iMTQwNS03NzQzIiwKICAgIGRvaT0iaHR0cHM6Ly9kb2kub3JnLzEwLjEwMTYvUzE0MDUtNzc0MygxNCk3MjIxNS0yIiwKICAgIGxpbms9Imh0dHBzOi8vd3d3LnNjaWVuY2VkaXJlY3QuY29tL3NjaWVuY2UvYXJ0aWNsZS9waWkvUzE0MDU3NzQzMTQ3MjIxNTIiLAogICAga2V5d29yZD0iZGlzZfFvIGRlIGVzdHJhdGVnaWEiLAogICAgSUQ9Ik1pdHJlSGVybuFuZGV6MjAxNDI1MyIsCiAgICBzY2llbmNlZGlyZWN0PSIxIiwKICAgIHBsYWNleD0iSW5nZW5pZXLtYSwgSW52ZXN0aWdhY2nzbiB5IFRlY25vbG9n7WEiLAopKQonJycpOw==\"));\n",
       "    "
      ],
      "text/plain": [
       "<IPython.core.display.Javascript object>"
      ]
     },
     "metadata": {},
     "output_type": "display_data"
    },
    {
     "data": {
      "application/javascript": [
       "$('span:contains(\"# Temp\")').closest('.cell').remove();"
      ],
      "text/plain": [
       "<IPython.core.display.Javascript object>"
      ]
     },
     "metadata": {},
     "output_type": "display_data"
    },
    {
     "data": {
      "application/javascript": [
       "\n",
       "        $('span:contains(\"# Temp\")').closest('.cell').remove();\n",
       "        var code = IPython.notebook.insert_cell_below('code');\n",
       "        code.set_text(atob(\"IyBUZW1wCmluc2VydCgnJycKbWl0cmUtaGVybuFuZGV6MjAxNGEgPSBEQihXb3JrVW5yZWxhdGVkKAogICAgMjAxNCwgIkRlc2lnbmluZyBhIFN0cmF0ZWdpYyBNZWFzdXJlbWVudCBQcm9ncmFtIGZvciBTb2Z0d2FyZSBFbmdpbmVlcmluZyBPcmdhbml6YXRpb25zOiBEaXNjb3ZlcmluZyBEaWZmaWN1bHRpZXMgYW5kIFByb2JsZW1zIiwKICAgIGRpc3BsYXk9Im1pdHJlLWhlcm7hbmRleiIsCiAgICBhdXRob3JzPSJIdWdvIEEuIE1pdHJlLUhlcm7hbmRleiBhbmQgR2FyY+1hLUd1em3hbiBKYXZpZXIgYW5kIERlIEFtZXNjdWEtU2VjbyBBbnRvbmlvIGFuZCBWZWxhc2NvLUVsaXpvbmRvIFBlcmxhIiwKICAgIHBsYWNlPUZBS0UsCiAgICBwcD0iMjUzIC0gMjY5IiwKICAgIGVudHJ5dHlwZT0iYXJ0aWNsZSIsCiAgICB2b2x1bWU9IjE1IiwKICAgIG51bWJlcj0iMiIsCiAgICBub3RlPSIiLAogICAgaXNzbj0iMTQwNS03NzQzIiwKICAgIGRvaT0iaHR0cHM6Ly9kb2kub3JnLzEwLjEwMTYvUzE0MDUtNzc0MygxNCk3MjIxNS0yIiwKICAgIGxpbms9Imh0dHBzOi8vd3d3LnNjaWVuY2VkaXJlY3QuY29tL3NjaWVuY2UvYXJ0aWNsZS9waWkvUzE0MDU3NzQzMTQ3MjIxNTIiLAogICAga2V5d29yZD0iZGlzZfFvIGRlIGVzdHJhdGVnaWEiLAogICAgSUQ9Ik1pdHJlSGVybuFuZGV6MjAxNDI1MyIsCiAgICBzY2llbmNlZGlyZWN0PSIxIiwKICAgIHBsYWNleD0iSW5nZW5pZXLtYSwgSW52ZXN0aWdhY2nzbiB5IFRlY25vbG9n7WEiLAopKQonJycpOw==\"));\n",
       "    "
      ],
      "text/plain": [
       "<IPython.core.display.Javascript object>"
      ]
     },
     "metadata": {},
     "output_type": "display_data"
    }
   ],
   "source": [
    "from custom_snowballing import UnrelatedInsert\n",
    "UnrelatedInsert(\"sciencedirect\", articles=article_list)"
   ]
  },
  {
   "cell_type": "code",
   "execution_count": null,
   "metadata": {
    "collapsed": true
   },
   "outputs": [],
   "source": [
    "# Temp\n",
    "insert('''\n",
    "mitrehernández2014a = DB(WorkUnrelated(\n",
    "    2014, \"Designing a Strategic Measurement Program for Software Engineering Organizations: Discovering Difficulties and Problems\",\n",
    "    display=\"mitre-hernández\",\n",
    "    authors=\"Hugo A. Mitre-Hernández and García-Guzmán Javier and De Amescua-Seco Antonio and Velasco-Elizondo Perla\",\n",
    "    place=FAKE,\n",
    "    pp=\"253 - 269\",\n",
    "    entrytype=\"article\",\n",
    "    volume=\"15\",\n",
    "    number=\"2\",\n",
    "    note=\"\",\n",
    "    issn=\"1405-7743\",\n",
    "    doi=\"https://doi.org/10.1016/S1405-7743(14)72215-2\",\n",
    "    link=\"https://www.sciencedirect.com/science/article/pii/S1405774314722152\",\n",
    "    keyword=\"diseño de estrategia\",\n",
    "    ID=\"MitreHernández2014253\",\n",
    "    sciencedirect=\"1\",\n",
    "    placex=\"Ingeniería, Investigación y Tecnología\",\n",
    "))\n",
    "''');"
   ]
  },
  {
   "cell_type": "code",
   "execution_count": 41,
   "metadata": {
    "collapsed": true,
    "scrolled": false
   },
   "outputs": [],
   "source": [
    "ArticleNavigator??"
   ]
  },
  {
   "cell_type": "code",
   "execution_count": null,
   "metadata": {
    "collapsed": true
   },
   "outputs": [],
   "source": [
    "ArticleNavigator(articles=article_list)"
   ]
  }
 ],
 "metadata": {
  "kernelspec": {
   "display_name": "Python 3",
   "language": "python",
   "name": "python3"
  },
  "language_info": {
   "codemirror_mode": {
    "name": "ipython",
    "version": 3
   },
   "file_extension": ".py",
   "mimetype": "text/x-python",
   "name": "python",
   "nbconvert_exporter": "python",
   "pygments_lexer": "ipython3",
   "version": "3.6.0"
  },
  "toc": {
   "nav_menu": {
    "height": "12px",
    "width": "252px"
   },
   "number_sections": true,
   "sideBar": true,
   "skip_h1_title": false,
   "toc_cell": false,
   "toc_position": {},
   "toc_section_display": "block",
   "toc_window_display": false
  }
 },
 "nbformat": 4,
 "nbformat_minor": 2
}
