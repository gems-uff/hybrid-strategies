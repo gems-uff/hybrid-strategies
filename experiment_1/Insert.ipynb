{
 "cells": [
  {
   "cell_type": "code",
   "execution_count": 19,
   "metadata": {
    "collapsed": true
   },
   "outputs": [],
   "source": [
    "import database\n",
    "from snowballing.operations import load_work, reload, work_by_varname\n",
    "from snowballing.snowballing import Converter\n",
    "from snowballing.snowballing import ArticleNavigator\n",
    "from snowballing.dbmanager import insert, set_attribute"
   ]
  },
  {
   "cell_type": "code",
   "execution_count": 20,
   "metadata": {
    "scrolled": false
   },
   "outputs": [
    {
     "data": {
      "application/vnd.jupyter.widget-view+json": {
       "model_id": "efd251e6442641f2804147eb391c59fd",
       "version_major": 2,
       "version_minor": 0
      },
      "text/html": [
       "<p>Failed to display Jupyter Widget of type <code>VBox</code>.</p>\n",
       "<p>\n",
       "  If you're reading this message in Jupyter Notebook or JupyterLab, it may mean\n",
       "  that the widgets JavaScript is still loading. If this message persists, it\n",
       "  likely means that the widgets JavaScript library is either not installed or\n",
       "  not enabled. See the <a href=\"https://ipywidgets.readthedocs.io/en/stable/user_install.html\">Jupyter\n",
       "  Widgets Documentation</a> for setup instructions.\n",
       "</p>\n",
       "<p>\n",
       "  If you're reading this message in another notebook frontend (for example, a static\n",
       "  rendering on GitHub or <a href=\"https://nbviewer.jupyter.org/\">NBViewer</a>),\n",
       "  it may mean that your frontend doesn't currently support widgets.\n",
       "</p>\n"
      ],
      "text/plain": [
       "VBox(children=(HBox(children=(Dropdown(options={'BibTeX': 'bibtex', 'Text': 'text', '[N] author name place other year': 'citation', 'Quoted': 'quoted'}, value='bibtex'), Button(description='Set article_list variable', style=ButtonStyle()), Label(value=''))), HBox(children=(Textarea(value='', layout=Layout(height='500px', width='50%')), Textarea(value='', layout=Layout(height='500px', width='50%'))))))"
      ]
     },
     "metadata": {},
     "output_type": "display_data"
    }
   ],
   "source": [
    "Converter(\"bibtex\")"
   ]
  },
  {
   "cell_type": "code",
   "execution_count": 21,
   "metadata": {},
   "outputs": [
    {
     "data": {
      "text/plain": [
       "11"
      ]
     },
     "execution_count": 21,
     "metadata": {},
     "output_type": "execute_result"
    }
   ],
   "source": [
    "len(article_list)"
   ]
  },
  {
   "cell_type": "code",
   "execution_count": 22,
   "metadata": {
    "collapsed": true
   },
   "outputs": [],
   "source": [
    "from snowballing.operations import reload\n",
    "reload()\n"
   ]
  },
  {
   "cell_type": "code",
   "execution_count": null,
   "metadata": {
    "collapsed": true
   },
   "outputs": [],
   "source": []
  },
  {
   "cell_type": "code",
   "execution_count": 23,
   "metadata": {},
   "outputs": [
    {
     "data": {
      "application/vnd.jupyter.widget-view+json": {
       "model_id": "d145428c5ff0412fb7a2acc73344267c",
       "version_major": 2,
       "version_minor": 0
      },
      "text/html": [
       "<p>Failed to display Jupyter Widget of type <code>VBox</code>.</p>\n",
       "<p>\n",
       "  If you're reading this message in Jupyter Notebook or JupyterLab, it may mean\n",
       "  that the widgets JavaScript is still loading. If this message persists, it\n",
       "  likely means that the widgets JavaScript library is either not installed or\n",
       "  not enabled. See the <a href=\"https://ipywidgets.readthedocs.io/en/stable/user_install.html\">Jupyter\n",
       "  Widgets Documentation</a> for setup instructions.\n",
       "</p>\n",
       "<p>\n",
       "  If you're reading this message in another notebook frontend (for example, a static\n",
       "  rendering on GitHub or <a href=\"https://nbviewer.jupyter.org/\">NBViewer</a>),\n",
       "  it may mean that your frontend doesn't currently support widgets.\n",
       "</p>\n"
      ],
      "text/plain": [
       "VBox(children=(HBox(children=(Button(description='Previous Article', disabled=True, icon='caret-left', style=ButtonStyle()), Button(description='Reload Article', icon='refresh', style=ButtonStyle()), Button(description='Next Article', icon='caret-right', style=ButtonStyle()))), HBox(children=(Dropdown(description='Type', index=5, options=('Work', 'WorkSnowball', 'WorkForward', 'WorkBackward', 'WorkOk', 'WorkUnrelated', 'WorkNoFile', 'WorkLang', 'Site', 'Email'), value='WorkUnrelated'), ToggleButton(value=False, description='File'))), HBox(children=(Text(value='', description='Due'), Text(value='', description='Place'))), HBox(children=(Text(value='', description='Year'), Text(value='', description='Prefix Var'))), HBox(children=(Text(value='', description='PDFPage'), Text(value='', description='Related'))), HBox(children=(Text(value='', description='Display'), Text(value='', description='Summary'))), HBox(children=(Text(value='', description='Star'), Text(value='', description='Link'))), HBox(children=(Text(value='1', description='sciencedirect'),)), HBox(children=(Button(description='Reload Article', icon='refresh', style=ButtonStyle()), IntSlider(value=0, max=10), Label(value='1/11'))), Output()))"
      ]
     },
     "metadata": {},
     "output_type": "display_data"
    },
    {
     "data": {
      "application/javascript": [
       "$('span:contains(\"# Temp\")').closest('.cell').remove();"
      ],
      "text/plain": [
       "<IPython.core.display.Javascript object>"
      ]
     },
     "metadata": {},
     "output_type": "display_data"
    },
    {
     "data": {
      "application/javascript": [
       "\n",
       "        $('span:contains(\"# Temp\")').closest('.cell').remove();\n",
       "        var code = IPython.notebook.insert_cell_below('code');\n",
       "        code.set_text(atob(\"IyBUZW1wCmluc2VydCgnJycnJycpOwpzZXRfYXR0cmlidXRlKCd0cmllbmVrZW5zMjAwNWEnLCAnaXNzbicsICcwOTUwLTU4NDknKTsKc2V0X2F0dHJpYnV0ZSgndHJpZW5la2VuczIwMDVhJywgJ2tleXdvcmQnLCAnTWVhc3VyZW1lbnQnKTsKc2V0X2F0dHJpYnV0ZSgndHJpZW5la2VuczIwMDVhJywgJ3NjaWVuY2VkaXJlY3QnLCAnMScpOwpzZXRfYXR0cmlidXRlKCd0cmllbmVrZW5zMjAwNWEnLCAncGxhY2V4JywgJ0luZm9ybWF0aW9uIGFuZCBTb2Z0d2FyZSBUZWNobm9sb2d5Jyk7\"));\n",
       "    "
      ],
      "text/plain": [
       "<IPython.core.display.Javascript object>"
      ]
     },
     "metadata": {},
     "output_type": "display_data"
    },
    {
     "data": {
      "application/javascript": [
       "$('span:contains(\"# Temp\")').closest('.cell').remove();"
      ],
      "text/plain": [
       "<IPython.core.display.Javascript object>"
      ]
     },
     "metadata": {},
     "output_type": "display_data"
    },
    {
     "data": {
      "application/javascript": [
       "\n",
       "        $('span:contains(\"# Temp\")').closest('.cell').remove();\n",
       "        var code = IPython.notebook.insert_cell_below('code');\n",
       "        code.set_text(atob(\"IyBUZW1wCmluc2VydCgnJycKaGFuc2VuMjAwNGEgPSBEQihXb3JrVW5yZWxhdGVkKAogICAgMjAwNCwgIlByZXNjcmlwdGlvbiwgZGVzY3JpcHRpb24sIHJlZmxlY3Rpb246IHRoZSBzaGFwZSBvZiB0aGUgc29mdHdhcmUgcHJvY2VzcyBpbXByb3ZlbWVudCBmaWVsZCIsCiAgICBkaXNwbGF5PSJoYW5zZW4iLAogICAgYXV0aG9ycz0iQm8gSGFuc2VuIGFuZCBKZXJlbXkgUm9zZSBhbmQgR2l0dGUgVGr4cm5laPhqIiwKICAgIHBsYWNlPUZBS0UsCiAgICBwcD0iNDU3IC0gNDcyIiwKICAgIGVudHJ5dHlwZT0iYXJ0aWNsZSIsCiAgICB2b2x1bWU9IjI0IiwKICAgIG51bWJlcj0iNiIsCiAgICBub3RlPSIiLAogICAgaXNzbj0iMDI2OC00MDEyIiwKICAgIGRvaT0iaHR0cHM6Ly9kb2kub3JnLzEwLjEwMTYvai5pamluZm9tZ3QuMjAwNC4wOC4wMDciLAogICAgbGluaz0iaHR0cHM6Ly93d3cuc2NpZW5jZWRpcmVjdC5jb20vc2NpZW5jZS9hcnRpY2xlL3BpaS9TMDI2ODQwMTIwNDAwMDk0NSIsCiAgICBrZXl3b3JkPSJMaXRlcmF0dXJlIHJldmlldyIsCiAgICBJRD0iSGFuc2VuMjAwNDQ1NyIsCiAgICBzY2llbmNlZGlyZWN0PSIxIiwKICAgIHBsYWNleD0iSW50ZXJuYXRpb25hbCBKb3VybmFsIG9mIEluZm9ybWF0aW9uIE1hbmFnZW1lbnQiLAopKQonJycpOw==\"));\n",
       "    "
      ],
      "text/plain": [
       "<IPython.core.display.Javascript object>"
      ]
     },
     "metadata": {},
     "output_type": "display_data"
    },
    {
     "data": {
      "application/javascript": [
       "$('span:contains(\"# Temp\")').closest('.cell').remove();"
      ],
      "text/plain": [
       "<IPython.core.display.Javascript object>"
      ]
     },
     "metadata": {},
     "output_type": "display_data"
    },
    {
     "data": {
      "application/javascript": [
       "\n",
       "        $('span:contains(\"# Temp\")').closest('.cell').remove();\n",
       "        var code = IPython.notebook.insert_cell_below('code');\n",
       "        code.set_text(atob(\"IyBUZW1wCmluc2VydCgnJycKaGFuc2VuMjAwNGEgPSBEQihXb3JrVW5yZWxhdGVkKAogICAgMjAwNCwgIlByZXNjcmlwdGlvbiwgZGVzY3JpcHRpb24sIHJlZmxlY3Rpb246IHRoZSBzaGFwZSBvZiB0aGUgc29mdHdhcmUgcHJvY2VzcyBpbXByb3ZlbWVudCBmaWVsZCIsCiAgICBkaXNwbGF5PSJoYW5zZW4iLAogICAgYXV0aG9ycz0iQm8gSGFuc2VuIGFuZCBKZXJlbXkgUm9zZSBhbmQgR2l0dGUgVGr4cm5laPhqIiwKICAgIHBsYWNlPUZBS0UsCiAgICBwcD0iNDU3IC0gNDcyIiwKICAgIGVudHJ5dHlwZT0iYXJ0aWNsZSIsCiAgICB2b2x1bWU9IjI0IiwKICAgIG51bWJlcj0iNiIsCiAgICBub3RlPSIiLAogICAgaXNzbj0iMDI2OC00MDEyIiwKICAgIGRvaT0iaHR0cHM6Ly9kb2kub3JnLzEwLjEwMTYvai5pamluZm9tZ3QuMjAwNC4wOC4wMDciLAogICAgbGluaz0iaHR0cHM6Ly93d3cuc2NpZW5jZWRpcmVjdC5jb20vc2NpZW5jZS9hcnRpY2xlL3BpaS9TMDI2ODQwMTIwNDAwMDk0NSIsCiAgICBrZXl3b3JkPSJMaXRlcmF0dXJlIHJldmlldyIsCiAgICBJRD0iSGFuc2VuMjAwNDQ1NyIsCiAgICBzY2llbmNlZGlyZWN0PSIxIiwKICAgIHBsYWNleD0iSW50ZXJuYXRpb25hbCBKb3VybmFsIG9mIEluZm9ybWF0aW9uIE1hbmFnZW1lbnQiLAopKQonJycpOw==\"));\n",
       "    "
      ],
      "text/plain": [
       "<IPython.core.display.Javascript object>"
      ]
     },
     "metadata": {},
     "output_type": "display_data"
    },
    {
     "data": {
      "application/javascript": [
       "$('span:contains(\"# Temp\")').closest('.cell').remove();"
      ],
      "text/plain": [
       "<IPython.core.display.Javascript object>"
      ]
     },
     "metadata": {},
     "output_type": "display_data"
    },
    {
     "data": {
      "application/javascript": [
       "\n",
       "        $('span:contains(\"# Temp\")').closest('.cell').remove();\n",
       "        var code = IPython.notebook.insert_cell_below('code');\n",
       "        code.set_text(atob(\"IyBUZW1wCmluc2VydCgnJycKZ2FyYmV0dDE5OTlhID0gREIoV29ya1VucmVsYXRlZCgKICAgIDE5OTksICJBIGNhc2Ugc3R1ZHkgaW4gaW5ub3ZhdGl2ZSBwcm9jZXNzIGltcHJvdmVtZW50OiBjb2RlIHN5bnRoZXNpcyBmcm9tIGZvcm1hbCBzcGVjaWZpY2F0aW9ucyIsCiAgICBkaXNwbGF5PSJnYXJiZXR0IiwKICAgIGF1dGhvcnM9IlAuIEdhcmJldHQgYW5kIEouUC4gUGFya2VzIGFuZCBNLiBTaGFja2xldG9uIGFuZCBTLiBBbmRlcnNvbiIsCiAgICBwbGFjZT1GQUtFLAogICAgcHA9IjQxNyAtIDQyNCIsCiAgICBlbnRyeXR5cGU9ImFydGljbGUiLAogICAgdm9sdW1lPSIyMyIsCiAgICBudW1iZXI9IjciLAogICAgbm90ZT0iIiwKICAgIGlzc249IjAxNDEtOTMzMSIsCiAgICBkb2k9Imh0dHBzOi8vZG9pLm9yZy8xMC4xMDE2L1MwMTQxLTkzMzEoOTkpMDAwNTItNiIsCiAgICBsaW5rPSJodHRwczovL3d3dy5zY2llbmNlZGlyZWN0LmNvbS9zY2llbmNlL2FydGljbGUvcGlpL1MwMTQxOTMzMTk5MDAwNTI2IiwKICAgIGtleXdvcmQ9IlNhZmV0eS1jcml0aWNhbCBzb2Z0d2FyZSIsCiAgICBJRD0iR2FyYmV0dDE5OTk0MTciLAogICAgc2NpZW5jZWRpcmVjdD0iMSIsCiAgICBwbGFjZXg9Ik1pY3JvcHJvY2Vzc29ycyBhbmQgTWljcm9zeXN0ZW1zIiwKKSkKJycnKTs=\"));\n",
       "    "
      ],
      "text/plain": [
       "<IPython.core.display.Javascript object>"
      ]
     },
     "metadata": {},
     "output_type": "display_data"
    },
    {
     "data": {
      "application/javascript": [
       "$('span:contains(\"# Temp\")').closest('.cell').remove();"
      ],
      "text/plain": [
       "<IPython.core.display.Javascript object>"
      ]
     },
     "metadata": {},
     "output_type": "display_data"
    },
    {
     "data": {
      "application/javascript": [
       "\n",
       "        $('span:contains(\"# Temp\")').closest('.cell').remove();\n",
       "        var code = IPython.notebook.insert_cell_below('code');\n",
       "        code.set_text(atob(\"IyBUZW1wCmluc2VydCgnJycKZ2FyYmV0dDE5OTlhID0gREIoV29ya1VucmVsYXRlZCgKICAgIDE5OTksICJBIGNhc2Ugc3R1ZHkgaW4gaW5ub3ZhdGl2ZSBwcm9jZXNzIGltcHJvdmVtZW50OiBjb2RlIHN5bnRoZXNpcyBmcm9tIGZvcm1hbCBzcGVjaWZpY2F0aW9ucyIsCiAgICBkaXNwbGF5PSJnYXJiZXR0IiwKICAgIGF1dGhvcnM9IlAuIEdhcmJldHQgYW5kIEouUC4gUGFya2VzIGFuZCBNLiBTaGFja2xldG9uIGFuZCBTLiBBbmRlcnNvbiIsCiAgICBwbGFjZT1GQUtFLAogICAgcHA9IjQxNyAtIDQyNCIsCiAgICBlbnRyeXR5cGU9ImFydGljbGUiLAogICAgdm9sdW1lPSIyMyIsCiAgICBudW1iZXI9IjciLAogICAgbm90ZT0iIiwKICAgIGlzc249IjAxNDEtOTMzMSIsCiAgICBkb2k9Imh0dHBzOi8vZG9pLm9yZy8xMC4xMDE2L1MwMTQxLTkzMzEoOTkpMDAwNTItNiIsCiAgICBsaW5rPSJodHRwczovL3d3dy5zY2llbmNlZGlyZWN0LmNvbS9zY2llbmNlL2FydGljbGUvcGlpL1MwMTQxOTMzMTk5MDAwNTI2IiwKICAgIGtleXdvcmQ9IlNhZmV0eS1jcml0aWNhbCBzb2Z0d2FyZSIsCiAgICBJRD0iR2FyYmV0dDE5OTk0MTciLAogICAgc2NpZW5jZWRpcmVjdD0iMSIsCiAgICBwbGFjZXg9Ik1pY3JvcHJvY2Vzc29ycyBhbmQgTWljcm9zeXN0ZW1zIiwKKSkKJycnKTs=\"));\n",
       "    "
      ],
      "text/plain": [
       "<IPython.core.display.Javascript object>"
      ]
     },
     "metadata": {},
     "output_type": "display_data"
    },
    {
     "data": {
      "application/javascript": [
       "$('span:contains(\"# Temp\")').closest('.cell').remove();"
      ],
      "text/plain": [
       "<IPython.core.display.Javascript object>"
      ]
     },
     "metadata": {},
     "output_type": "display_data"
    },
    {
     "data": {
      "application/javascript": [
       "\n",
       "        $('span:contains(\"# Temp\")').closest('.cell').remove();\n",
       "        var code = IPython.notebook.insert_cell_below('code');\n",
       "        code.set_text(atob(\"IyBUZW1wCmluc2VydCgnJycKZWJlcnQxOTk5YSA9IERCKFdvcmtVbnJlbGF0ZWQoCiAgICAxOTk5LCAiVGVjaG5pY2FsIGNvbnRyb2xsaW5nIGFuZCBzb2Z0d2FyZSBwcm9jZXNzIGltcHJvdmVtZW50IiwKICAgIGRpc3BsYXk9ImViZXJ0IiwKICAgIGF1dGhvcnM9IkNocmlzdG9mIEViZXJ0IiwKICAgIHBsYWNlPUpTUywKICAgIHBwPSIyNSAtIDM5IiwKICAgIGVudHJ5dHlwZT0iYXJ0aWNsZSIsCiAgICB2b2x1bWU9IjQ2IiwKICAgIG51bWJlcj0iMSIsCiAgICBub3RlPSIiLAogICAgaXNzbj0iMDE2NC0xMjEyIiwKICAgIGRvaT0iaHR0cHM6Ly9kb2kub3JnLzEwLjEwMTYvUzAxNjQtMTIxMig5OCkxMDA4Ni05IiwKICAgIGxpbms9Imh0dHBzOi8vd3d3LnNjaWVuY2VkaXJlY3QuY29tL3NjaWVuY2UvYXJ0aWNsZS9waWkvUzAxNjQxMjEyOTgxMDA4NjkiLAogICAga2V5d29yZD0iVGVjaG5pY2FsIGNvbnRyb2xsaW5nIiwKICAgIElEPSJFYmVydDE5OTkyNSIsCiAgICBzY2llbmNlZGlyZWN0PSIxIiwKICAgIHBsYWNleD0iSm91cm5hbCBvZiBTeXN0ZW1zIGFuZCBTb2Z0d2FyZSIsCikpCicnJyk7\"));\n",
       "    "
      ],
      "text/plain": [
       "<IPython.core.display.Javascript object>"
      ]
     },
     "metadata": {},
     "output_type": "display_data"
    },
    {
     "data": {
      "application/javascript": [
       "$('span:contains(\"# Temp\")').closest('.cell').remove();"
      ],
      "text/plain": [
       "<IPython.core.display.Javascript object>"
      ]
     },
     "metadata": {},
     "output_type": "display_data"
    },
    {
     "data": {
      "application/javascript": [
       "\n",
       "        $('span:contains(\"# Temp\")').closest('.cell').remove();\n",
       "        var code = IPython.notebook.insert_cell_below('code');\n",
       "        code.set_text(atob(\"IyBUZW1wCmluc2VydCgnJycKZWJlcnQxOTk5YSA9IERCKFdvcmtVbnJlbGF0ZWQoCiAgICAxOTk5LCAiVGVjaG5pY2FsIGNvbnRyb2xsaW5nIGFuZCBzb2Z0d2FyZSBwcm9jZXNzIGltcHJvdmVtZW50IiwKICAgIGRpc3BsYXk9ImViZXJ0IiwKICAgIGF1dGhvcnM9IkNocmlzdG9mIEViZXJ0IiwKICAgIHBsYWNlPUpTUywKICAgIHBwPSIyNSAtIDM5IiwKICAgIGVudHJ5dHlwZT0iYXJ0aWNsZSIsCiAgICB2b2x1bWU9IjQ2IiwKICAgIG51bWJlcj0iMSIsCiAgICBub3RlPSIiLAogICAgaXNzbj0iMDE2NC0xMjEyIiwKICAgIGRvaT0iaHR0cHM6Ly9kb2kub3JnLzEwLjEwMTYvUzAxNjQtMTIxMig5OCkxMDA4Ni05IiwKICAgIGxpbms9Imh0dHBzOi8vd3d3LnNjaWVuY2VkaXJlY3QuY29tL3NjaWVuY2UvYXJ0aWNsZS9waWkvUzAxNjQxMjEyOTgxMDA4NjkiLAogICAga2V5d29yZD0iVGVjaG5pY2FsIGNvbnRyb2xsaW5nIiwKICAgIElEPSJFYmVydDE5OTkyNSIsCiAgICBzY2llbmNlZGlyZWN0PSIxIiwKICAgIHBsYWNleD0iSm91cm5hbCBvZiBTeXN0ZW1zIGFuZCBTb2Z0d2FyZSIsCikpCicnJyk7\"));\n",
       "    "
      ],
      "text/plain": [
       "<IPython.core.display.Javascript object>"
      ]
     },
     "metadata": {},
     "output_type": "display_data"
    },
    {
     "data": {
      "application/javascript": [
       "$('span:contains(\"# Temp\")').closest('.cell').remove();"
      ],
      "text/plain": [
       "<IPython.core.display.Javascript object>"
      ]
     },
     "metadata": {},
     "output_type": "display_data"
    },
    {
     "data": {
      "application/javascript": [
       "\n",
       "        $('span:contains(\"# Temp\")').closest('.cell').remove();\n",
       "        var code = IPython.notebook.insert_cell_below('code');\n",
       "        code.set_text(atob(\"IyBUZW1wCmluc2VydCgnJycKZGVib3UxOTk0YSA9IERCKFdvcmtVbnJlbGF0ZWQoCiAgICAxOTk0LCAiRGVjaXNpb24gbWFraW5nIGZvciBzb2Z0d2FyZSBwcm9jZXNzIGltcHJvdmVtZW50OiBBIHF1YW50aXRhdGl2ZSBhcHByb2FjaCIsCiAgICBkaXNwbGF5PSJkZWJvdSIsCiAgICBhdXRob3JzPSJDaHJpc3RvcGhlIERlYm91IGFuZCBKYXJvc2xhdiBMaXB04WsgYW5kIEhlcmJlcnQgU2NoaXBwZXJzIiwKICAgIHBsYWNlPUpTUywKICAgIHBwPSI0MyAtIDUyIiwKICAgIGVudHJ5dHlwZT0iYXJ0aWNsZSIsCiAgICB2b2x1bWU9IjI2IiwKICAgIG51bWJlcj0iMSIsCiAgICBub3RlPSJBY2hpZXZpbmcgcXVhbGl0eSBpbiBzb2Z0d2FyZSIsCiAgICBpc3NuPSIwMTY0LTEyMTIiLAogICAgZG9pPSJodHRwczovL2RvaS5vcmcvMTAuMTAxNi8wMTY0LTEyMTIoOTQpOTAwOTQtOSIsCiAgICBsaW5rPSJodHRwczovL3d3dy5zY2llbmNlZGlyZWN0LmNvbS9zY2llbmNlL2FydGljbGUvcGlpLzAxNjQxMjEyOTQ5MDA5NDkiLAogICAgSUQ9IkRlYm91MTk5NDQzIiwKICAgIHNjaWVuY2VkaXJlY3Q9IjEiLAogICAgcGxhY2V4PSJKb3VybmFsIG9mIFN5c3RlbXMgYW5kIFNvZnR3YXJlIiwKKSkKJycnKTs=\"));\n",
       "    "
      ],
      "text/plain": [
       "<IPython.core.display.Javascript object>"
      ]
     },
     "metadata": {},
     "output_type": "display_data"
    },
    {
     "data": {
      "application/javascript": [
       "$('span:contains(\"# Temp\")').closest('.cell').remove();"
      ],
      "text/plain": [
       "<IPython.core.display.Javascript object>"
      ]
     },
     "metadata": {},
     "output_type": "display_data"
    },
    {
     "data": {
      "application/javascript": [
       "\n",
       "        $('span:contains(\"# Temp\")').closest('.cell').remove();\n",
       "        var code = IPython.notebook.insert_cell_below('code');\n",
       "        code.set_text(atob(\"IyBUZW1wCmluc2VydCgnJycKZGVib3UxOTk0YSA9IERCKFdvcmtVbnJlbGF0ZWQoCiAgICAxOTk0LCAiRGVjaXNpb24gbWFraW5nIGZvciBzb2Z0d2FyZSBwcm9jZXNzIGltcHJvdmVtZW50OiBBIHF1YW50aXRhdGl2ZSBhcHByb2FjaCIsCiAgICBkaXNwbGF5PSJkZWJvdSIsCiAgICBhdXRob3JzPSJDaHJpc3RvcGhlIERlYm91IGFuZCBKYXJvc2xhdiBMaXB04WsgYW5kIEhlcmJlcnQgU2NoaXBwZXJzIiwKICAgIHBsYWNlPUpTUywKICAgIHBwPSI0MyAtIDUyIiwKICAgIGVudHJ5dHlwZT0iYXJ0aWNsZSIsCiAgICB2b2x1bWU9IjI2IiwKICAgIG51bWJlcj0iMSIsCiAgICBub3RlPSJBY2hpZXZpbmcgcXVhbGl0eSBpbiBzb2Z0d2FyZSIsCiAgICBpc3NuPSIwMTY0LTEyMTIiLAogICAgZG9pPSJodHRwczovL2RvaS5vcmcvMTAuMTAxNi8wMTY0LTEyMTIoOTQpOTAwOTQtOSIsCiAgICBsaW5rPSJodHRwczovL3d3dy5zY2llbmNlZGlyZWN0LmNvbS9zY2llbmNlL2FydGljbGUvcGlpLzAxNjQxMjEyOTQ5MDA5NDkiLAogICAgSUQ9IkRlYm91MTk5NDQzIiwKICAgIHNjaWVuY2VkaXJlY3Q9IjEiLAogICAgcGxhY2V4PSJKb3VybmFsIG9mIFN5c3RlbXMgYW5kIFNvZnR3YXJlIiwKKSkKJycnKTs=\"));\n",
       "    "
      ],
      "text/plain": [
       "<IPython.core.display.Javascript object>"
      ]
     },
     "metadata": {},
     "output_type": "display_data"
    },
    {
     "data": {
      "application/javascript": [
       "$('span:contains(\"# Temp\")').closest('.cell').remove();"
      ],
      "text/plain": [
       "<IPython.core.display.Javascript object>"
      ]
     },
     "metadata": {},
     "output_type": "display_data"
    },
    {
     "data": {
      "application/javascript": [
       "\n",
       "        $('span:contains(\"# Temp\")').closest('.cell').remove();\n",
       "        var code = IPython.notebook.insert_cell_below('code');\n",
       "        code.set_text(atob(\"IyBUZW1wCmluc2VydCgnJycKY3VydGlzMTk5M2EgPSBEQihXb3JrVW5yZWxhdGVkKAogICAgMTk5MywgIkNyZWF0aW5nIGEgc29mdHdhcmUgcHJvY2VzcyBpbXByb3ZlbWVudCBwcm9ncmFtIiwKICAgIGRpc3BsYXk9ImN1cnRpcyIsCiAgICBhdXRob3JzPSJCIEN1cnRpcyBhbmQgTSBQYXVsayIsCiAgICBwbGFjZT1JU1QsCiAgICBwcD0iMzgxIC0gMzg2IiwKICAgIGVudHJ5dHlwZT0iYXJ0aWNsZSIsCiAgICB2b2x1bWU9IjM1IiwKICAgIG51bWJlcj0iNpY3IiwKICAgIG5vdGU9IlNvZnR3YXJlIFByb2Nlc3MgTW9kZWxsaW5nIGluIFByYWN0aWNlIiwKICAgIGlzc249IjA5NTAtNTg0OSIsCiAgICBkb2k9Imh0dHBzOi8vZG9pLm9yZy8xMC4xMDE2LzA5NTAtNTg0OSg5Myk5MDAwOS1SIiwKICAgIGxpbms9Imh0dHBzOi8vd3d3LnNjaWVuY2VkaXJlY3QuY29tL3NjaWVuY2UvYXJ0aWNsZS9waWkvMDk1MDU4NDk5MzkwMDA5UiIsCiAgICBrZXl3b3JkPSJjYXBhYmlsaXR5IG1hdHVyaXR5IG1vZGVsIiwKICAgIElEPSJDdXJ0aXMxOTkzMzgxIiwKICAgIHNjaWVuY2VkaXJlY3Q9IjEiLAogICAgcGxhY2V4PSJJbmZvcm1hdGlvbiBhbmQgU29mdHdhcmUgVGVjaG5vbG9neSIsCikpCicnJyk7\"));\n",
       "    "
      ],
      "text/plain": [
       "<IPython.core.display.Javascript object>"
      ]
     },
     "metadata": {},
     "output_type": "display_data"
    },
    {
     "data": {
      "application/javascript": [
       "$('span:contains(\"# Temp\")').closest('.cell').remove();"
      ],
      "text/plain": [
       "<IPython.core.display.Javascript object>"
      ]
     },
     "metadata": {},
     "output_type": "display_data"
    },
    {
     "data": {
      "application/javascript": [
       "\n",
       "        $('span:contains(\"# Temp\")').closest('.cell').remove();\n",
       "        var code = IPython.notebook.insert_cell_below('code');\n",
       "        code.set_text(atob(\"IyBUZW1wCmluc2VydCgnJycKY3VydGlzMTk5M2EgPSBEQihXb3JrVW5yZWxhdGVkKAogICAgMTk5MywgIkNyZWF0aW5nIGEgc29mdHdhcmUgcHJvY2VzcyBpbXByb3ZlbWVudCBwcm9ncmFtIiwKICAgIGRpc3BsYXk9ImN1cnRpcyIsCiAgICBhdXRob3JzPSJCIEN1cnRpcyBhbmQgTSBQYXVsayIsCiAgICBwbGFjZT1JU1QsCiAgICBwcD0iMzgxIC0gMzg2IiwKICAgIGVudHJ5dHlwZT0iYXJ0aWNsZSIsCiAgICB2b2x1bWU9IjM1IiwKICAgIG51bWJlcj0iNpY3IiwKICAgIG5vdGU9IlNvZnR3YXJlIFByb2Nlc3MgTW9kZWxsaW5nIGluIFByYWN0aWNlIiwKICAgIGlzc249IjA5NTAtNTg0OSIsCiAgICBkb2k9Imh0dHBzOi8vZG9pLm9yZy8xMC4xMDE2LzA5NTAtNTg0OSg5Myk5MDAwOS1SIiwKICAgIGxpbms9Imh0dHBzOi8vd3d3LnNjaWVuY2VkaXJlY3QuY29tL3NjaWVuY2UvYXJ0aWNsZS9waWkvMDk1MDU4NDk5MzkwMDA5UiIsCiAgICBrZXl3b3JkPSJjYXBhYmlsaXR5IG1hdHVyaXR5IG1vZGVsIiwKICAgIElEPSJDdXJ0aXMxOTkzMzgxIiwKICAgIHNjaWVuY2VkaXJlY3Q9IjEiLAogICAgcGxhY2V4PSJJbmZvcm1hdGlvbiBhbmQgU29mdHdhcmUgVGVjaG5vbG9neSIsCikpCicnJyk7\"));\n",
       "    "
      ],
      "text/plain": [
       "<IPython.core.display.Javascript object>"
      ]
     },
     "metadata": {},
     "output_type": "display_data"
    },
    {
     "data": {
      "application/javascript": [
       "$('span:contains(\"# Temp\")').closest('.cell').remove();"
      ],
      "text/plain": [
       "<IPython.core.display.Javascript object>"
      ]
     },
     "metadata": {},
     "output_type": "display_data"
    },
    {
     "data": {
      "application/javascript": [
       "\n",
       "        $('span:contains(\"# Temp\")').closest('.cell').remove();\n",
       "        var code = IPython.notebook.insert_cell_below('code');\n",
       "        code.set_text(atob(\"IyBUZW1wCmluc2VydCgnJycKZGVsZ2FkbzIwMTRhID0gREIoV29ya1VucmVsYXRlZCgKICAgIDIwMTQsICJBbiBpbnRlZ3JhdGVkIGFwcHJvYWNoIGJhc2VkIG9uIGV4ZWN1dGlvbiBtZWFzdXJlcyBmb3IgdGhlIGNvbnRpbnVvdXMgaW1wcm92ZW1lbnQgb2YgYnVzaW5lc3MgcHJvY2Vzc2VzIHJlYWxpemVkIGJ5IHNlcnZpY2VzIiwKICAgIGRpc3BsYXk9ImRlbGdhZG8iLAogICAgYXV0aG9ycz0iQW5kcmVhIERlbGdhZG8gYW5kIEJhcmJhcmEgV2ViZXIgYW5kIEZyYW5jaXNjbyBSdWl6IGFuZCBJZ25hY2lvIEdhcmNpYS1Sb2Ry7Wd1ZXogZGUgR3V6beFuIGFuZCBNYXJpbyBQaWF0dGluaSIsCiAgICBwbGFjZT1JU1QsCiAgICBwcD0iMTM0IC0gMTYyIiwKICAgIGVudHJ5dHlwZT0iYXJ0aWNsZSIsCiAgICB2b2x1bWU9IjU2IiwKICAgIG51bWJlcj0iMiIsCiAgICBub3RlPSIiLAogICAgaXNzbj0iMDk1MC01ODQ5IiwKICAgIGRvaT0iaHR0cHM6Ly9kb2kub3JnLzEwLjEwMTYvai5pbmZzb2YuMjAxMy4wOC4wMDMiLAogICAgbGluaz0iaHR0cHM6Ly93d3cuc2NpZW5jZWRpcmVjdC5jb20vc2NpZW5jZS9hcnRpY2xlL3BpaS9TMDk1MDU4NDkxMzAwMTc0MiIsCiAgICBrZXl3b3JkPSJQcm9NIGZyYW1ld29yayIsCiAgICBJRD0iRGVsZ2FkbzIwMTQxMzQiLAogICAgc2NpZW5jZWRpcmVjdD0iMSIsCiAgICBwbGFjZXg9IkluZm9ybWF0aW9uIGFuZCBTb2Z0d2FyZSBUZWNobm9sb2d5IiwKKSkKJycnKTs=\"));\n",
       "    "
      ],
      "text/plain": [
       "<IPython.core.display.Javascript object>"
      ]
     },
     "metadata": {},
     "output_type": "display_data"
    },
    {
     "data": {
      "application/javascript": [
       "$('span:contains(\"# Temp\")').closest('.cell').remove();"
      ],
      "text/plain": [
       "<IPython.core.display.Javascript object>"
      ]
     },
     "metadata": {},
     "output_type": "display_data"
    },
    {
     "data": {
      "application/javascript": [
       "\n",
       "        $('span:contains(\"# Temp\")').closest('.cell').remove();\n",
       "        var code = IPython.notebook.insert_cell_below('code');\n",
       "        code.set_text(atob(\"IyBUZW1wCmluc2VydCgnJycKZGVsZ2FkbzIwMTRhID0gREIoV29ya1VucmVsYXRlZCgKICAgIDIwMTQsICJBbiBpbnRlZ3JhdGVkIGFwcHJvYWNoIGJhc2VkIG9uIGV4ZWN1dGlvbiBtZWFzdXJlcyBmb3IgdGhlIGNvbnRpbnVvdXMgaW1wcm92ZW1lbnQgb2YgYnVzaW5lc3MgcHJvY2Vzc2VzIHJlYWxpemVkIGJ5IHNlcnZpY2VzIiwKICAgIGRpc3BsYXk9ImRlbGdhZG8iLAogICAgYXV0aG9ycz0iQW5kcmVhIERlbGdhZG8gYW5kIEJhcmJhcmEgV2ViZXIgYW5kIEZyYW5jaXNjbyBSdWl6IGFuZCBJZ25hY2lvIEdhcmNpYS1Sb2Ry7Wd1ZXogZGUgR3V6beFuIGFuZCBNYXJpbyBQaWF0dGluaSIsCiAgICBwbGFjZT1JU1QsCiAgICBwcD0iMTM0IC0gMTYyIiwKICAgIGVudHJ5dHlwZT0iYXJ0aWNsZSIsCiAgICB2b2x1bWU9IjU2IiwKICAgIG51bWJlcj0iMiIsCiAgICBub3RlPSIiLAogICAgaXNzbj0iMDk1MC01ODQ5IiwKICAgIGRvaT0iaHR0cHM6Ly9kb2kub3JnLzEwLjEwMTYvai5pbmZzb2YuMjAxMy4wOC4wMDMiLAogICAgbGluaz0iaHR0cHM6Ly93d3cuc2NpZW5jZWRpcmVjdC5jb20vc2NpZW5jZS9hcnRpY2xlL3BpaS9TMDk1MDU4NDkxMzAwMTc0MiIsCiAgICBrZXl3b3JkPSJQcm9NIGZyYW1ld29yayIsCiAgICBJRD0iRGVsZ2FkbzIwMTQxMzQiLAogICAgc2NpZW5jZWRpcmVjdD0iMSIsCiAgICBwbGFjZXg9IkluZm9ybWF0aW9uIGFuZCBTb2Z0d2FyZSBUZWNobm9sb2d5IiwKKSkKJycnKTs=\"));\n",
       "    "
      ],
      "text/plain": [
       "<IPython.core.display.Javascript object>"
      ]
     },
     "metadata": {},
     "output_type": "display_data"
    },
    {
     "data": {
      "application/javascript": [
       "$('span:contains(\"# Temp\")').closest('.cell').remove();"
      ],
      "text/plain": [
       "<IPython.core.display.Javascript object>"
      ]
     },
     "metadata": {},
     "output_type": "display_data"
    },
    {
     "data": {
      "application/javascript": [
       "\n",
       "        $('span:contains(\"# Temp\")').closest('.cell').remove();\n",
       "        var code = IPython.notebook.insert_cell_below('code');\n",
       "        code.set_text(atob(\"IyBUZW1wCmluc2VydCgnJycKeHUyMDA2YSA9IERCKFdvcmtVbnJlbGF0ZWQoCiAgICAyMDA2LCAiUmVxdWlyZW1lbnQgcHJvY2VzcyBlc3RhYmxpc2htZW50IGFuZCBpbXByb3ZlbWVudCBmcm9tIHRoZSB2aWV3cG9pbnQgb2YgY3liZXJuZXRpY3MiLAogICAgZGlzcGxheT0ieHUiLAogICAgYXV0aG9ycz0iSG9uZyBYdSBhbmQgUGV0ZSBTYXd5ZXIgYW5kIElhbiBTb21tZXJ2aWxsZSIsCiAgICBwbGFjZT1KU1MsCiAgICBwcD0iMTUwNCAtIDE1MTMiLAogICAgZW50cnl0eXBlPSJhcnRpY2xlIiwKICAgIHZvbHVtZT0iNzkiLAogICAgbnVtYmVyPSIxMSIsCiAgICBub3RlPSJTb2Z0d2FyZSBDeWJlcm5ldGljcyIsCiAgICBpc3NuPSIwMTY0LTEyMTIiLAogICAgZG9pPSJodHRwczovL2RvaS5vcmcvMTAuMTAxNi9qLmpzcy4yMDA2LjAzLjA1MCIsCiAgICBsaW5rPSJodHRwczovL3d3dy5zY2llbmNlZGlyZWN0LmNvbS9zY2llbmNlL2FydGljbGUvcGlpL1MwMTY0MTIxMjA2MDAxMTkxIiwKICAgIGtleXdvcmQ9IkNvbnRyb2wgdGhlb3J5IiwKICAgIElEPSJYdTIwMDYxNTA0IiwKICAgIHNjaWVuY2VkaXJlY3Q9IjEiLAogICAgcGxhY2V4PSJKb3VybmFsIG9mIFN5c3RlbXMgYW5kIFNvZnR3YXJlIiwKKSkKJycnKTs=\"));\n",
       "    "
      ],
      "text/plain": [
       "<IPython.core.display.Javascript object>"
      ]
     },
     "metadata": {},
     "output_type": "display_data"
    },
    {
     "data": {
      "application/javascript": [
       "$('span:contains(\"# Temp\")').closest('.cell').remove();"
      ],
      "text/plain": [
       "<IPython.core.display.Javascript object>"
      ]
     },
     "metadata": {},
     "output_type": "display_data"
    },
    {
     "data": {
      "application/javascript": [
       "\n",
       "        $('span:contains(\"# Temp\")').closest('.cell').remove();\n",
       "        var code = IPython.notebook.insert_cell_below('code');\n",
       "        code.set_text(atob(\"IyBUZW1wCmluc2VydCgnJycKeHUyMDA2YSA9IERCKFdvcmtVbnJlbGF0ZWQoCiAgICAyMDA2LCAiUmVxdWlyZW1lbnQgcHJvY2VzcyBlc3RhYmxpc2htZW50IGFuZCBpbXByb3ZlbWVudCBmcm9tIHRoZSB2aWV3cG9pbnQgb2YgY3liZXJuZXRpY3MiLAogICAgZGlzcGxheT0ieHUiLAogICAgYXV0aG9ycz0iSG9uZyBYdSBhbmQgUGV0ZSBTYXd5ZXIgYW5kIElhbiBTb21tZXJ2aWxsZSIsCiAgICBwbGFjZT1KU1MsCiAgICBwcD0iMTUwNCAtIDE1MTMiLAogICAgZW50cnl0eXBlPSJhcnRpY2xlIiwKICAgIHZvbHVtZT0iNzkiLAogICAgbnVtYmVyPSIxMSIsCiAgICBub3RlPSJTb2Z0d2FyZSBDeWJlcm5ldGljcyIsCiAgICBpc3NuPSIwMTY0LTEyMTIiLAogICAgZG9pPSJodHRwczovL2RvaS5vcmcvMTAuMTAxNi9qLmpzcy4yMDA2LjAzLjA1MCIsCiAgICBsaW5rPSJodHRwczovL3d3dy5zY2llbmNlZGlyZWN0LmNvbS9zY2llbmNlL2FydGljbGUvcGlpL1MwMTY0MTIxMjA2MDAxMTkxIiwKICAgIGtleXdvcmQ9IkNvbnRyb2wgdGhlb3J5IiwKICAgIElEPSJYdTIwMDYxNTA0IiwKICAgIHNjaWVuY2VkaXJlY3Q9IjEiLAogICAgcGxhY2V4PSJKb3VybmFsIG9mIFN5c3RlbXMgYW5kIFNvZnR3YXJlIiwKKSkKJycnKTs=\"));\n",
       "    "
      ],
      "text/plain": [
       "<IPython.core.display.Javascript object>"
      ]
     },
     "metadata": {},
     "output_type": "display_data"
    },
    {
     "data": {
      "application/javascript": [
       "$('span:contains(\"# Temp\")').closest('.cell').remove();"
      ],
      "text/plain": [
       "<IPython.core.display.Javascript object>"
      ]
     },
     "metadata": {},
     "output_type": "display_data"
    },
    {
     "data": {
      "application/javascript": [
       "\n",
       "        $('span:contains(\"# Temp\")').closest('.cell').remove();\n",
       "        var code = IPython.notebook.insert_cell_below('code');\n",
       "        code.set_text(atob(\"IyBUZW1wCmluc2VydCgnJycKcGF1bGsxOTk4YSA9IERCKFdvcmtVbnJlbGF0ZWQoCiAgICAxOTk4LCAiU29mdHdhcmUgUHJvY2VzcyBBcHByYWlzYWwgYW5kIEltcHJvdmVtZW50OiBNb2RlbHMgYW5kIFN0YW5kYXJkcyIsCiAgICBkaXNwbGF5PSJwYXVsayIsCiAgICBhdXRob3JzPSJNYXJrIEMuIFBhdWxrIiwKICAgIHBsYWNlPUZBS0UsCiAgICBwcD0iMSAtIDMzIiwKICAgIGVudHJ5dHlwZT0iaW5jb2xsZWN0aW9uIiwKICAgIGVkaXRvcj0iTWFydmluIFYuIFplbGtvd2l0eiIsCiAgICBwdWJsaXNoZXI9IkVsc2V2aWVyIiwKICAgIHZvbHVtZT0iNDYiLAogICAgc2VyaWVzPSJBZHZhbmNlcyBpbiBDb21wdXRlcnMiLAogICAgaXNzbj0iMDA2NS0yNDU4IiwKICAgIGRvaT0iaHR0cHM6Ly9kb2kub3JnLzEwLjEwMTYvUzAwNjUtMjQ1OCgwOCk2MDIwMi04IiwKICAgIGxpbms9Imh0dHBzOi8vd3d3LnNjaWVuY2VkaXJlY3QuY29tL3NjaWVuY2UvYXJ0aWNsZS9waWkvUzAwNjUyNDU4MDg2MDIwMjgiLAogICAgSUQ9IlBhdWxrMTk5ODEiLAogICAgc2NpZW5jZWRpcmVjdD0iMSIsCiAgICBwbGFjZXg9IiIsCikpCicnJyk7\"));\n",
       "    "
      ],
      "text/plain": [
       "<IPython.core.display.Javascript object>"
      ]
     },
     "metadata": {},
     "output_type": "display_data"
    },
    {
     "data": {
      "application/javascript": [
       "$('span:contains(\"# Temp\")').closest('.cell').remove();"
      ],
      "text/plain": [
       "<IPython.core.display.Javascript object>"
      ]
     },
     "metadata": {},
     "output_type": "display_data"
    },
    {
     "data": {
      "application/javascript": [
       "\n",
       "        $('span:contains(\"# Temp\")').closest('.cell').remove();\n",
       "        var code = IPython.notebook.insert_cell_below('code');\n",
       "        code.set_text(atob(\"IyBUZW1wCmluc2VydCgnJycKcGF1bGsxOTk4YSA9IERCKFdvcmtVbnJlbGF0ZWQoCiAgICAxOTk4LCAiU29mdHdhcmUgUHJvY2VzcyBBcHByYWlzYWwgYW5kIEltcHJvdmVtZW50OiBNb2RlbHMgYW5kIFN0YW5kYXJkcyIsCiAgICBkaXNwbGF5PSJwYXVsayIsCiAgICBhdXRob3JzPSJNYXJrIEMuIFBhdWxrIiwKICAgIHBsYWNlPUZBS0UsCiAgICBwcD0iMSAtIDMzIiwKICAgIGVudHJ5dHlwZT0iaW5jb2xsZWN0aW9uIiwKICAgIGVkaXRvcj0iTWFydmluIFYuIFplbGtvd2l0eiIsCiAgICBwdWJsaXNoZXI9IkVsc2V2aWVyIiwKICAgIHZvbHVtZT0iNDYiLAogICAgc2VyaWVzPSJBZHZhbmNlcyBpbiBDb21wdXRlcnMiLAogICAgaXNzbj0iMDA2NS0yNDU4IiwKICAgIGRvaT0iaHR0cHM6Ly9kb2kub3JnLzEwLjEwMTYvUzAwNjUtMjQ1OCgwOCk2MDIwMi04IiwKICAgIGxpbms9Imh0dHBzOi8vd3d3LnNjaWVuY2VkaXJlY3QuY29tL3NjaWVuY2UvYXJ0aWNsZS9waWkvUzAwNjUyNDU4MDg2MDIwMjgiLAogICAgSUQ9IlBhdWxrMTk5ODEiLAogICAgc2NpZW5jZWRpcmVjdD0iMSIsCiAgICBwbGFjZXg9IiIsCikpCicnJyk7\"));\n",
       "    "
      ],
      "text/plain": [
       "<IPython.core.display.Javascript object>"
      ]
     },
     "metadata": {},
     "output_type": "display_data"
    },
    {
     "data": {
      "application/javascript": [
       "$('span:contains(\"# Temp\")').closest('.cell').remove();"
      ],
      "text/plain": [
       "<IPython.core.display.Javascript object>"
      ]
     },
     "metadata": {},
     "output_type": "display_data"
    },
    {
     "data": {
      "application/javascript": [
       "\n",
       "        $('span:contains(\"# Temp\")').closest('.cell').remove();\n",
       "        var code = IPython.notebook.insert_cell_below('code');\n",
       "        code.set_text(atob(\"IyBUZW1wCmluc2VydCgnJycKYnVnbGlvbmUyMDEzYSA9IERCKFdvcmtVbnJlbGF0ZWQoCiAgICAyMDEzLCAiVGhlIFxMRUdPXCBzdHJhdGVneTogR3VpZGVsaW5lcyBmb3IgYSBwcm9maXRhYmxlIGRlcGxveW1lbnQiLAogICAgZGlzcGxheT0iYnVnbGlvbmUiLAogICAgYXV0aG9ycz0iTHVpZ2kgQnVnbGlvbmUgYW5kIENocmlzdGlhbmUgR3Jlc3NlIHZvbiBXYW5nZW5oZWltIGFuZCBGZXJnYWwgTWNDYWZmZXJ5IGFuZCBKZWFuIENhcmxvIFJvc3NhIEhhdWNrIiwKICAgIHBsYWNlPUNTSSwKICAgIHBwPSIxMCAtIDIwIiwKICAgIGVudHJ5dHlwZT0iYXJ0aWNsZSIsCiAgICB2b2x1bWU9IjM2IiwKICAgIG51bWJlcj0iMSIsCiAgICBub3RlPSIiLAogICAgaXNzbj0iMDkyMC01NDg5IiwKICAgIGRvaT0iaHR0cHM6Ly9kb2kub3JnLzEwLjEwMTYvai5jc2kuMjAxMy4wNy4wMDgiLAogICAgbGluaz0iaHR0cHM6Ly93d3cuc2NpZW5jZWRpcmVjdC5jb20vc2NpZW5jZS9hcnRpY2xlL3BpaS9TMDkyMDU0ODkxMzAwMDczMSIsCiAgICBrZXl3b3JkPSJJU08vSUVDIDE1NTA0IiwKICAgIElEPSJCdWdsaW9uZTIwMTMxMCIsCiAgICBzY2llbmNlZGlyZWN0PSIxIiwKICAgIHBsYWNleD0iQ29tcHV0ZXIgU3RhbmRhcmRzICYgSW50ZXJmYWNlcyIsCikpCicnJyk7\"));\n",
       "    "
      ],
      "text/plain": [
       "<IPython.core.display.Javascript object>"
      ]
     },
     "metadata": {},
     "output_type": "display_data"
    },
    {
     "data": {
      "application/javascript": [
       "$('span:contains(\"# Temp\")').closest('.cell').remove();"
      ],
      "text/plain": [
       "<IPython.core.display.Javascript object>"
      ]
     },
     "metadata": {},
     "output_type": "display_data"
    },
    {
     "data": {
      "application/javascript": [
       "\n",
       "        $('span:contains(\"# Temp\")').closest('.cell').remove();\n",
       "        var code = IPython.notebook.insert_cell_below('code');\n",
       "        code.set_text(atob(\"IyBUZW1wCmluc2VydCgnJycKYnVnbGlvbmUyMDEzYSA9IERCKFdvcmtVbnJlbGF0ZWQoCiAgICAyMDEzLCAiVGhlIFxMRUdPXCBzdHJhdGVneTogR3VpZGVsaW5lcyBmb3IgYSBwcm9maXRhYmxlIGRlcGxveW1lbnQiLAogICAgZGlzcGxheT0iYnVnbGlvbmUiLAogICAgYXV0aG9ycz0iTHVpZ2kgQnVnbGlvbmUgYW5kIENocmlzdGlhbmUgR3Jlc3NlIHZvbiBXYW5nZW5oZWltIGFuZCBGZXJnYWwgTWNDYWZmZXJ5IGFuZCBKZWFuIENhcmxvIFJvc3NhIEhhdWNrIiwKICAgIHBsYWNlPUNTSSwKICAgIHBwPSIxMCAtIDIwIiwKICAgIGVudHJ5dHlwZT0iYXJ0aWNsZSIsCiAgICB2b2x1bWU9IjM2IiwKICAgIG51bWJlcj0iMSIsCiAgICBub3RlPSIiLAogICAgaXNzbj0iMDkyMC01NDg5IiwKICAgIGRvaT0iaHR0cHM6Ly9kb2kub3JnLzEwLjEwMTYvai5jc2kuMjAxMy4wNy4wMDgiLAogICAgbGluaz0iaHR0cHM6Ly93d3cuc2NpZW5jZWRpcmVjdC5jb20vc2NpZW5jZS9hcnRpY2xlL3BpaS9TMDkyMDU0ODkxMzAwMDczMSIsCiAgICBrZXl3b3JkPSJJU08vSUVDIDE1NTA0IiwKICAgIElEPSJCdWdsaW9uZTIwMTMxMCIsCiAgICBzY2llbmNlZGlyZWN0PSIxIiwKICAgIHBsYWNleD0iQ29tcHV0ZXIgU3RhbmRhcmRzICYgSW50ZXJmYWNlcyIsCikpCicnJyk7\"));\n",
       "    "
      ],
      "text/plain": [
       "<IPython.core.display.Javascript object>"
      ]
     },
     "metadata": {},
     "output_type": "display_data"
    },
    {
     "data": {
      "application/javascript": [
       "$('span:contains(\"# Temp\")').closest('.cell').remove();"
      ],
      "text/plain": [
       "<IPython.core.display.Javascript object>"
      ]
     },
     "metadata": {},
     "output_type": "display_data"
    },
    {
     "data": {
      "application/javascript": [
       "\n",
       "        $('span:contains(\"# Temp\")').closest('.cell').remove();\n",
       "        var code = IPython.notebook.insert_cell_below('code');\n",
       "        code.set_text(atob(\"IyBUZW1wCmluc2VydCgnJycKaGVycmFuejIwMTNhID0gREIoV29ya1VucmVsYXRlZCgKICAgIDIwMTMsICJUb3dhcmRzIGEgTmV3IEFwcHJvYWNoIHRvIFN1cHBvcnRpbmcgVG9wIE1hbmFnZXJzIGluIFxTUElcIE9yZ2FuaXphdGlvbmFsIENoYW5nZSBNYW5hZ2VtZW50IiwKICAgIGRpc3BsYXk9ImhlcnJhbnoiLAogICAgYXV0aG9ycz0iRWR1YXJkbyBIZXJyYW56IGFuZCBSaWNhcmRvIENvbG9tby1QYWxhY2lvcyBhbmQgQW50b25pbyBBbWVzY3VhLVNlY28iLAogICAgcGxhY2U9RkFLRSwKICAgIHBwPSIxMjkgLSAxMzgiLAogICAgZW50cnl0eXBlPSJhcnRpY2xlIiwKICAgIHZvbHVtZT0iOSIsCiAgICBudW1iZXI9IiIsCiAgICBub3RlPSJce0NFTlRFUklTXH0gMjAxMyAtIENvbmZlcmVuY2Ugb24gXHtFTlRFUnByaXNlXH0gSW5mb3JtYXRpb24gU3lzdGVtcyAvIFByb2pNQU4gMjAxMyAtIEludGVybmF0aW9uYWwgQ29uZmVyZW5jZSBvbiBQcm9qZWN0IE1BTmFnZW1lbnQvIFx7SENJU1RcfSAyMDEzIC0gSW50ZXJuYXRpb25hbCBDb25mZXJlbmNlIG9uIEhlYWx0aCBhbmQgU29jaWFsIENhcmUgSW5mb3JtYXRpb24gU3lzdGVtcyBhbmQgVGVjaG5vbG9naWVzIiwKICAgIGlzc249IjIyMTItMDE3MyIsCiAgICBkb2k9Imh0dHBzOi8vZG9pLm9yZy8xMC4xMDE2L2oucHJvdGN5LjIwMTMuMTIuMDE0IiwKICAgIGxpbms9Imh0dHBzOi8vd3d3LnNjaWVuY2VkaXJlY3QuY29tL3NjaWVuY2UvYXJ0aWNsZS9waWkvUzIyMTIwMTczMTMwMDE2ODAiLAogICAga2V5d29yZD0iT3JnYW5pemF0aW9uYWwgQ2hhbmdlIE1hbmFnZW1lbnQiLAogICAgSUQ9IkhlcnJhbnoyMDEzMTI5IiwKICAgIHNjaWVuY2VkaXJlY3Q9IjEiLAogICAgcGxhY2V4PSJQcm9jZWRpYSBUZWNobm9sb2d5IiwKKSkKJycnKTs=\"));\n",
       "    "
      ],
      "text/plain": [
       "<IPython.core.display.Javascript object>"
      ]
     },
     "metadata": {},
     "output_type": "display_data"
    },
    {
     "data": {
      "application/javascript": [
       "$('span:contains(\"# Temp\")').closest('.cell').remove();"
      ],
      "text/plain": [
       "<IPython.core.display.Javascript object>"
      ]
     },
     "metadata": {},
     "output_type": "display_data"
    },
    {
     "data": {
      "application/javascript": [
       "\n",
       "        $('span:contains(\"# Temp\")').closest('.cell').remove();\n",
       "        var code = IPython.notebook.insert_cell_below('code');\n",
       "        code.set_text(atob(\"IyBUZW1wCmluc2VydCgnJycKaGVycmFuejIwMTNhID0gREIoV29ya1VucmVsYXRlZCgKICAgIDIwMTMsICJUb3dhcmRzIGEgTmV3IEFwcHJvYWNoIHRvIFN1cHBvcnRpbmcgVG9wIE1hbmFnZXJzIGluIFxTUElcIE9yZ2FuaXphdGlvbmFsIENoYW5nZSBNYW5hZ2VtZW50IiwKICAgIGRpc3BsYXk9ImhlcnJhbnoiLAogICAgYXV0aG9ycz0iRWR1YXJkbyBIZXJyYW56IGFuZCBSaWNhcmRvIENvbG9tby1QYWxhY2lvcyBhbmQgQW50b25pbyBBbWVzY3VhLVNlY28iLAogICAgcGxhY2U9RkFLRSwKICAgIHBwPSIxMjkgLSAxMzgiLAogICAgZW50cnl0eXBlPSJhcnRpY2xlIiwKICAgIHZvbHVtZT0iOSIsCiAgICBudW1iZXI9IiIsCiAgICBub3RlPSJce0NFTlRFUklTXH0gMjAxMyAtIENvbmZlcmVuY2Ugb24gXHtFTlRFUnByaXNlXH0gSW5mb3JtYXRpb24gU3lzdGVtcyAvIFByb2pNQU4gMjAxMyAtIEludGVybmF0aW9uYWwgQ29uZmVyZW5jZSBvbiBQcm9qZWN0IE1BTmFnZW1lbnQvIFx7SENJU1RcfSAyMDEzIC0gSW50ZXJuYXRpb25hbCBDb25mZXJlbmNlIG9uIEhlYWx0aCBhbmQgU29jaWFsIENhcmUgSW5mb3JtYXRpb24gU3lzdGVtcyBhbmQgVGVjaG5vbG9naWVzIiwKICAgIGlzc249IjIyMTItMDE3MyIsCiAgICBkb2k9Imh0dHBzOi8vZG9pLm9yZy8xMC4xMDE2L2oucHJvdGN5LjIwMTMuMTIuMDE0IiwKICAgIGxpbms9Imh0dHBzOi8vd3d3LnNjaWVuY2VkaXJlY3QuY29tL3NjaWVuY2UvYXJ0aWNsZS9waWkvUzIyMTIwMTczMTMwMDE2ODAiLAogICAga2V5d29yZD0iT3JnYW5pemF0aW9uYWwgQ2hhbmdlIE1hbmFnZW1lbnQiLAogICAgSUQ9IkhlcnJhbnoyMDEzMTI5IiwKICAgIHNjaWVuY2VkaXJlY3Q9IjEiLAogICAgcGxhY2V4PSJQcm9jZWRpYSBUZWNobm9sb2d5IiwKKSkKJycnKTs=\"));\n",
       "    "
      ],
      "text/plain": [
       "<IPython.core.display.Javascript object>"
      ]
     },
     "metadata": {},
     "output_type": "display_data"
    }
   ],
   "source": [
    "from custom_snowballing import UnrelatedInsert\n",
    "UnrelatedInsert(\"sciencedirect\", articles=article_list)"
   ]
  },
  {
   "cell_type": "code",
   "execution_count": 34,
   "metadata": {},
   "outputs": [
    {
     "name": "stdout",
     "output_type": "stream",
     "text": [
      "-Insert: herranz2013a\n"
     ]
    }
   ],
   "source": [
    "# Temp\n",
    "insert('''\n",
    "herranz2013a = DB(WorkUnrelated(\n",
    "    2013, \"Towards a New Approach to Supporting Top Managers in \\SPI\\ Organizational Change Management\",\n",
    "    display=\"herranz\",\n",
    "    authors=\"Eduardo Herranz and Ricardo Colomo-Palacios and Antonio Amescua-Seco\",\n",
    "    place=FAKE,\n",
    "    pp=\"129 - 138\",\n",
    "    entrytype=\"article\",\n",
    "    volume=\"9\",\n",
    "    number=\"\",\n",
    "    note=\"\\{CENTERIS\\} 2013 - Conference on \\{ENTERprise\\} Information Systems / ProjMAN 2013 - International Conference on Project MANagement/ \\{HCIST\\} 2013 - International Conference on Health and Social Care Information Systems and Technologies\",\n",
    "    issn=\"2212-0173\",\n",
    "    doi=\"https://doi.org/10.1016/j.protcy.2013.12.014\",\n",
    "    link=\"https://www.sciencedirect.com/science/article/pii/S2212017313001680\",\n",
    "    keyword=\"Organizational Change Management\",\n",
    "    ID=\"Herranz2013129\",\n",
    "    sciencedirect=\"1\",\n",
    "    placex=\"Procedia Technology\",\n",
    "))\n",
    "''');"
   ]
  },
  {
   "cell_type": "code",
   "execution_count": null,
   "metadata": {
    "collapsed": true,
    "scrolled": false
   },
   "outputs": [],
   "source": [
    "ArticleNavigator??"
   ]
  },
  {
   "cell_type": "code",
   "execution_count": null,
   "metadata": {
    "collapsed": true
   },
   "outputs": [],
   "source": [
    "ArticleNavigator(articles=article_list)"
   ]
  }
 ],
 "metadata": {
  "kernelspec": {
   "display_name": "Python 3",
   "language": "python",
   "name": "python3"
  },
  "language_info": {
   "codemirror_mode": {
    "name": "ipython",
    "version": 3
   },
   "file_extension": ".py",
   "mimetype": "text/x-python",
   "name": "python",
   "nbconvert_exporter": "python",
   "pygments_lexer": "ipython3",
   "version": "3.6.0"
  },
  "toc": {
   "nav_menu": {
    "height": "12px",
    "width": "252px"
   },
   "number_sections": true,
   "sideBar": true,
   "skip_h1_title": false,
   "toc_cell": false,
   "toc_position": {},
   "toc_section_display": "block",
   "toc_window_display": false
  }
 },
 "nbformat": 4,
 "nbformat_minor": 2
}
