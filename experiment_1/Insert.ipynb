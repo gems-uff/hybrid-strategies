{
 "cells": [
  {
   "cell_type": "code",
   "execution_count": 1,
   "metadata": {
    "collapsed": true
   },
   "outputs": [],
   "source": [
    "import database\n",
    "from snowballing.operations import load_work, reload, work_by_varname\n",
    "from snowballing.snowballing import Converter\n",
    "from snowballing.snowballing import ArticleNavigator\n",
    "from snowballing.dbmanager import insert, set_attribute"
   ]
  },
  {
   "cell_type": "code",
   "execution_count": 125,
   "metadata": {
    "scrolled": false
   },
   "outputs": [
    {
     "data": {
      "application/vnd.jupyter.widget-view+json": {
       "model_id": "bc09573a51844d1085a71383250d3bef",
       "version_major": 2,
       "version_minor": 0
      },
      "text/html": [
       "<p>Failed to display Jupyter Widget of type <code>VBox</code>.</p>\n",
       "<p>\n",
       "  If you're reading this message in Jupyter Notebook or JupyterLab, it may mean\n",
       "  that the widgets JavaScript is still loading. If this message persists, it\n",
       "  likely means that the widgets JavaScript library is either not installed or\n",
       "  not enabled. See the <a href=\"https://ipywidgets.readthedocs.io/en/stable/user_install.html\">Jupyter\n",
       "  Widgets Documentation</a> for setup instructions.\n",
       "</p>\n",
       "<p>\n",
       "  If you're reading this message in another notebook frontend (for example, a static\n",
       "  rendering on GitHub or <a href=\"https://nbviewer.jupyter.org/\">NBViewer</a>),\n",
       "  it may mean that your frontend doesn't currently support widgets.\n",
       "</p>\n"
      ],
      "text/plain": [
       "VBox(children=(HBox(children=(Dropdown(options={'BibTeX': 'bibtex', 'Text': 'text', '[N] author name place other year': 'citation', 'Quoted': 'quoted'}, value='bibtex'), Button(description='Set article_list variable', style=ButtonStyle()), Label(value=''))), HBox(children=(Textarea(value='', layout=Layout(height='500px', width='50%')), Textarea(value='', layout=Layout(height='500px', width='50%'))))))"
      ]
     },
     "metadata": {},
     "output_type": "display_data"
    }
   ],
   "source": [
    "Converter(\"bibtex\")"
   ]
  },
  {
   "cell_type": "code",
   "execution_count": 133,
   "metadata": {},
   "outputs": [
    {
     "data": {
      "text/plain": [
       "27"
      ]
     },
     "execution_count": 133,
     "metadata": {},
     "output_type": "execute_result"
    }
   ],
   "source": [
    "len(article_list)"
   ]
  },
  {
   "cell_type": "code",
   "execution_count": 134,
   "metadata": {},
   "outputs": [],
   "source": [
    "from snowballing.operations import reload\n",
    "reload()\n"
   ]
  },
  {
   "cell_type": "code",
   "execution_count": null,
   "metadata": {
    "collapsed": true
   },
   "outputs": [],
   "source": []
  },
  {
   "cell_type": "code",
   "execution_count": null,
   "metadata": {
    "collapsed": true,
    "scrolled": false
   },
   "outputs": [],
   "source": [
    "ArticleNavigator??"
   ]
  },
  {
   "cell_type": "code",
   "execution_count": null,
   "metadata": {
    "collapsed": true
   },
   "outputs": [],
   "source": []
  },
  {
   "cell_type": "code",
   "execution_count": null,
   "metadata": {
    "collapsed": true
   },
   "outputs": [],
   "source": []
  },
  {
   "cell_type": "code",
   "execution_count": 135,
   "metadata": {},
   "outputs": [
    {
     "data": {
      "application/vnd.jupyter.widget-view+json": {
       "model_id": "4f641c4ed78b4a66adf1b12beddc1b42",
       "version_major": 2,
       "version_minor": 0
      },
      "text/html": [
       "<p>Failed to display Jupyter Widget of type <code>VBox</code>.</p>\n",
       "<p>\n",
       "  If you're reading this message in Jupyter Notebook or JupyterLab, it may mean\n",
       "  that the widgets JavaScript is still loading. If this message persists, it\n",
       "  likely means that the widgets JavaScript library is either not installed or\n",
       "  not enabled. See the <a href=\"https://ipywidgets.readthedocs.io/en/stable/user_install.html\">Jupyter\n",
       "  Widgets Documentation</a> for setup instructions.\n",
       "</p>\n",
       "<p>\n",
       "  If you're reading this message in another notebook frontend (for example, a static\n",
       "  rendering on GitHub or <a href=\"https://nbviewer.jupyter.org/\">NBViewer</a>),\n",
       "  it may mean that your frontend doesn't currently support widgets.\n",
       "</p>\n"
      ],
      "text/plain": [
       "VBox(children=(HBox(children=(Button(description='Previous Article', disabled=True, icon='caret-left', style=ButtonStyle()), Button(description='Reload Article', icon='refresh', style=ButtonStyle()), Button(description='Next Article', icon='caret-right', style=ButtonStyle()))), HBox(children=(Dropdown(description='Type', index=3, options=('Work', 'WorkSnowball', 'WorkOk', 'WorkUnrelated', 'WorkNoFile', 'WorkLang', 'Site', 'Email'), value='WorkUnrelated'), ToggleButton(value=False, description='File'))), HBox(children=(Text(value='', description='Due'), Text(value='', description='Place'))), HBox(children=(Text(value='', description='Year'), Text(value='', description='Prefix Var'))), HBox(children=(Text(value='', description='PDFPage'), Text(value='', description='Related'))), HBox(children=(Text(value='', description='Display'), Text(value='', description='Summary'))), HBox(children=(Text(value='', description='Star'), Text(value='', description='Link'))), HBox(children=(Text(value='1', description='acm2015'),)), HBox(children=(Button(description='Reload Article', icon='refresh', style=ButtonStyle()), IntSlider(value=0, max=26), Label(value='1/27'))), Output()))"
      ]
     },
     "metadata": {},
     "output_type": "display_data"
    },
    {
     "data": {
      "application/javascript": [
       "$('span:contains(\"# Temp\")').closest('.cell').remove();"
      ],
      "text/plain": [
       "<IPython.core.display.Javascript object>"
      ]
     },
     "metadata": {},
     "output_type": "display_data"
    },
    {
     "data": {
      "application/javascript": [
       "\n",
       "        $('span:contains(\"# Temp\")').closest('.cell').remove();\n",
       "        var code = IPython.notebook.insert_cell_below('code');\n",
       "        code.set_text(decodeURIComponent(window.atob(\"JTIzJTIwVGVtcCUwQWluc2VydCUyOCUyNyUyNyUyNyUwQWJvZWhtMjAwM2QlMjAlM0QlMjBEQiUyOFdvcmtVbnJlbGF0ZWQlMjglMEElMjAlMjAlMjAlMjAyMDAzJTJDJTIwJTIyVmFsdWUtYmFzZWQlMjBzb2Z0d2FyZSUyMGVuZ2luZWVyaW5nJTNBJTIwcmVpbnZlbnRpbmclMjIlMkMlMEElMjAlMjAlMjAlMjBkaXNwbGF5JTNEJTIyYm9laG0lMjBkJTIyJTJDJTBBJTIwJTIwJTIwJTIwYXV0aG9ycyUzRCUyMkJvZWhtJTJDJTIwQmFycnklMjIlMkMlMEElMjAlMjAlMjAlMjBwbGFjZSUzREZBS0UlMkMlMEElMjAlMjAlMjAlMjBwcCUzRCUyMjMlMjIlMkMlMEElMjAlMjAlMjAlMjBlbnRyeXR5cGUlM0QlMjJhcnRpY2xlJTIyJTJDJTBBJTIwJTIwJTIwJTIwdm9sdW1lJTNEJTIyMjglMjIlMkMlMEElMjAlMjAlMjAlMjBudW1iZXIlM0QlMjIyJTIyJTJDJTBBJTIwJTIwJTIwJTIwcHVibGlzaGVyJTNEJTIyQUNNJTIyJTJDJTBBJTIwJTIwJTIwJTIwSUQlM0QlMjJib2VobTIwMDN2YWx1ZSUyMiUyQyUwQSUyMCUyMCUyMCUyMGFjbTIwMTUlM0QlMjIxJTIyJTJDJTBBJTIwJTIwJTIwJTIwcGxhY2V4JTNEJTIyQUNNJTIwU0lHU09GVCUyMFNvZnR3YXJlJTIwRW5naW5lZXJpbmclMjBOb3RlcyUyMiUyQyUwQSUyOSUyOSUwQSUyNyUyNyUyNyUyOSUzQg==\")));\n",
       "    "
      ],
      "text/plain": [
       "<IPython.core.display.Javascript object>"
      ]
     },
     "metadata": {},
     "output_type": "display_data"
    },
    {
     "data": {
      "application/javascript": [
       "$('span:contains(\"# Temp\")').closest('.cell').remove();"
      ],
      "text/plain": [
       "<IPython.core.display.Javascript object>"
      ]
     },
     "metadata": {},
     "output_type": "display_data"
    },
    {
     "data": {
      "application/javascript": [
       "\n",
       "        $('span:contains(\"# Temp\")').closest('.cell').remove();\n",
       "        var code = IPython.notebook.insert_cell_below('code');\n",
       "        code.set_text(decodeURIComponent(window.atob(\"JTIzJTIwVGVtcCUwQWluc2VydCUyOCUyNyUyNyUyNyUwQWphbnR1bmVuMjAwNmElMjAlM0QlMjBEQiUyOFdvcmtVbnJlbGF0ZWQlMjglMEElMjAlMjAlMjAlMjAyMDA2JTJDJTIwJTIyVG93YXJkcyUyMGdsb2JhbCUyMG1hcmtldC1kcml2ZW4lMjBzb2Z0d2FyZSUyMGRldmVsb3BtZW50JTIwcHJvY2Vzc2VzJTNBJTIwYW4lMjBpbmR1c3RyaWFsJTIwY2FzZSUyMHN0dWR5JTIyJTJDJTBBJTIwJTIwJTIwJTIwZGlzcGxheSUzRCUyMmphbnR1bmVuJTIyJTJDJTBBJTIwJTIwJTIwJTIwYXV0aG9ycyUzRCUyMkphbnR1bmVuJTJDJTIwU2FtaSUyMGFuZCUyMFNtb2xhbmRlciUyQyUyMEthcmklMjIlMkMlMEElMjAlMjAlMjAlMjBwbGFjZSUzREZBS0UlMkMlMEElMjAlMjAlMjAlMjBwcCUzRCUyMjk0LS0xMDAlMjIlMkMlMEElMjAlMjAlMjAlMjBlbnRyeXR5cGUlM0QlMjJpbnByb2NlZWRpbmdzJTIyJTJDJTBBJTIwJTIwJTIwJTIwb3JnYW5pemF0aW9uJTNEJTIyQUNNJTIyJTJDJTBBJTIwJTIwJTIwJTIwSUQlM0QlMjJqYW50dW5lbjIwMDZ0b3dhcmRzJTIyJTJDJTBBJTIwJTIwJTIwJTIwYWNtMjAxNSUzRCUyMjElMjIlMkMlMEElMjAlMjAlMjAlMjBwbGFjZXglM0QlMjJQcm9jZWVkaW5ncyUyMG9mJTIwdGhlJTIwMjAwNiUyMGludGVybmF0aW9uYWwlMjB3b3Jrc2hvcCUyMG9uJTIwR2xvYmFsJTIwc29mdHdhcmUlMjBkZXZlbG9wbWVudCUyMGZvciUyMHRoZSUyMHByYWN0aXRpb25lciUyMiUyQyUwQSUyOSUyOSUwQSUyNyUyNyUyNyUyOSUzQg==\")));\n",
       "    "
      ],
      "text/plain": [
       "<IPython.core.display.Javascript object>"
      ]
     },
     "metadata": {},
     "output_type": "display_data"
    },
    {
     "data": {
      "application/javascript": [
       "$('span:contains(\"# Temp\")').closest('.cell').remove();"
      ],
      "text/plain": [
       "<IPython.core.display.Javascript object>"
      ]
     },
     "metadata": {},
     "output_type": "display_data"
    },
    {
     "data": {
      "application/javascript": [
       "\n",
       "        $('span:contains(\"# Temp\")').closest('.cell').remove();\n",
       "        var code = IPython.notebook.insert_cell_below('code');\n",
       "        code.set_text(decodeURIComponent(window.atob(\"JTIzJTIwVGVtcCUwQWluc2VydCUyOCUyNyUyNyUyNyUwQWphbnR1bmVuMjAwNmElMjAlM0QlMjBEQiUyOFdvcmtVbnJlbGF0ZWQlMjglMEElMjAlMjAlMjAlMjAyMDA2JTJDJTIwJTIyVG93YXJkcyUyMGdsb2JhbCUyMG1hcmtldC1kcml2ZW4lMjBzb2Z0d2FyZSUyMGRldmVsb3BtZW50JTIwcHJvY2Vzc2VzJTNBJTIwYW4lMjBpbmR1c3RyaWFsJTIwY2FzZSUyMHN0dWR5JTIyJTJDJTBBJTIwJTIwJTIwJTIwZGlzcGxheSUzRCUyMmphbnR1bmVuJTIyJTJDJTBBJTIwJTIwJTIwJTIwYXV0aG9ycyUzRCUyMkphbnR1bmVuJTJDJTIwU2FtaSUyMGFuZCUyMFNtb2xhbmRlciUyQyUyMEthcmklMjIlMkMlMEElMjAlMjAlMjAlMjBwbGFjZSUzREZBS0UlMkMlMEElMjAlMjAlMjAlMjBwcCUzRCUyMjk0LS0xMDAlMjIlMkMlMEElMjAlMjAlMjAlMjBlbnRyeXR5cGUlM0QlMjJpbnByb2NlZWRpbmdzJTIyJTJDJTBBJTIwJTIwJTIwJTIwb3JnYW5pemF0aW9uJTNEJTIyQUNNJTIyJTJDJTBBJTIwJTIwJTIwJTIwSUQlM0QlMjJqYW50dW5lbjIwMDZ0b3dhcmRzJTIyJTJDJTBBJTIwJTIwJTIwJTIwYWNtMjAxNSUzRCUyMjElMjIlMkMlMEElMjAlMjAlMjAlMjBwbGFjZXglM0QlMjJQcm9jZWVkaW5ncyUyMG9mJTIwdGhlJTIwMjAwNiUyMGludGVybmF0aW9uYWwlMjB3b3Jrc2hvcCUyMG9uJTIwR2xvYmFsJTIwc29mdHdhcmUlMjBkZXZlbG9wbWVudCUyMGZvciUyMHRoZSUyMHByYWN0aXRpb25lciUyMiUyQyUwQSUyOSUyOSUwQSUyNyUyNyUyNyUyOSUzQg==\")));\n",
       "    "
      ],
      "text/plain": [
       "<IPython.core.display.Javascript object>"
      ]
     },
     "metadata": {},
     "output_type": "display_data"
    },
    {
     "data": {
      "application/javascript": [
       "$('span:contains(\"# Temp\")').closest('.cell').remove();"
      ],
      "text/plain": [
       "<IPython.core.display.Javascript object>"
      ]
     },
     "metadata": {},
     "output_type": "display_data"
    },
    {
     "data": {
      "application/javascript": [
       "\n",
       "        $('span:contains(\"# Temp\")').closest('.cell').remove();\n",
       "        var code = IPython.notebook.insert_cell_below('code');\n",
       "        code.set_text(decodeURIComponent(window.atob(\"JTIzJTIwVGVtcCUwQWluc2VydCUyOCUyNyUyNyUyNyUwQXR1bjIwMDlhJTIwJTNEJTIwREIlMjhXb3JrVW5yZWxhdGVkJTI4JTBBJTIwJTIwJTIwJTIwMjAwOSUyQyUyMCUyMlJlbGF0aW5nJTIwcmVxdWlyZW1lbnRzJTIwYW5kJTIwZmVhdHVyZSUyMGNvbmZpZ3VyYXRpb25zJTNBJTIwQSUyMHN5c3RlbWF0aWMlMjBhcHByb2FjaCUyMiUyQyUwQSUyMCUyMCUyMCUyMGRpc3BsYXklM0QlMjJ0dW4lMjIlMkMlMEElMjAlMjAlMjAlMjBhdXRob3JzJTNEJTIyVGhhbiUyMFR1biUyQyUyMFRoZWluJTIwYW5kJTIwQm91Y2hlciUyQyUyMFF1ZW50aW4lMjBhbmQlMjBDbGFzc2VuJTJDJTIwQW5kcmVhcyUyMGFuZCUyMEh1YmF1eCUyQyUyMEFybmF1ZCUyMGFuZCUyMEhleW1hbnMlMkMlMjBQYXRyaWNrJTIyJTJDJTBBJTIwJTIwJTIwJTIwcGxhY2UlM0RJRUVFJTJDJTBBJTIwJTIwJTIwJTIwcHAlM0QlMjIyMDEtLTIxMCUyMiUyQyUwQSUyMCUyMCUyMCUyMGVudHJ5dHlwZSUzRCUyMmlucHJvY2VlZGluZ3MlMjIlMkMlMEElMjAlMjAlMjAlMjBvcmdhbml6YXRpb24lM0QlMjJDYXJuZWdpZSUyME1lbGxvbiUyMFVuaXZlcnNpdHklMjIlMkMlMEElMjAlMjAlMjAlMjBJRCUzRCUyMnRoYW4yMDA5cmVsYXRpbmclMjIlMkMlMEElMjAlMjAlMjAlMjBhY20yMDE1JTNEJTIyMSUyMiUyQyUwQSUyMCUyMCUyMCUyMHBsYWNleCUzRCUyMlByb2NlZWRpbmdzJTIwb2YlMjB0aGUlMjAxM3RoJTIwSW50ZXJuYXRpb25hbCUyMFNvZnR3YXJlJTIwUHJvZHVjdCUyMExpbmUlMjBDb25mZXJlbmNlJTIyJTJDJTBBJTI5JTI5JTBBJTI3JTI3JTI3JTI5JTNC\")));\n",
       "    "
      ],
      "text/plain": [
       "<IPython.core.display.Javascript object>"
      ]
     },
     "metadata": {},
     "output_type": "display_data"
    },
    {
     "data": {
      "application/javascript": [
       "$('span:contains(\"# Temp\")').closest('.cell').remove();"
      ],
      "text/plain": [
       "<IPython.core.display.Javascript object>"
      ]
     },
     "metadata": {},
     "output_type": "display_data"
    },
    {
     "data": {
      "application/javascript": [
       "\n",
       "        $('span:contains(\"# Temp\")').closest('.cell').remove();\n",
       "        var code = IPython.notebook.insert_cell_below('code');\n",
       "        code.set_text(decodeURIComponent(window.atob(\"JTIzJTIwVGVtcCUwQWluc2VydCUyOCUyNyUyNyUyNyUwQXR1bjIwMDlhJTIwJTNEJTIwREIlMjhXb3JrVW5yZWxhdGVkJTI4JTBBJTIwJTIwJTIwJTIwMjAwOSUyQyUyMCUyMlJlbGF0aW5nJTIwcmVxdWlyZW1lbnRzJTIwYW5kJTIwZmVhdHVyZSUyMGNvbmZpZ3VyYXRpb25zJTNBJTIwQSUyMHN5c3RlbWF0aWMlMjBhcHByb2FjaCUyMiUyQyUwQSUyMCUyMCUyMCUyMGRpc3BsYXklM0QlMjJ0dW4lMjIlMkMlMEElMjAlMjAlMjAlMjBhdXRob3JzJTNEJTIyVGhhbiUyMFR1biUyQyUyMFRoZWluJTIwYW5kJTIwQm91Y2hlciUyQyUyMFF1ZW50aW4lMjBhbmQlMjBDbGFzc2VuJTJDJTIwQW5kcmVhcyUyMGFuZCUyMEh1YmF1eCUyQyUyMEFybmF1ZCUyMGFuZCUyMEhleW1hbnMlMkMlMjBQYXRyaWNrJTIyJTJDJTBBJTIwJTIwJTIwJTIwcGxhY2UlM0RJRUVFJTJDJTBBJTIwJTIwJTIwJTIwcHAlM0QlMjIyMDEtLTIxMCUyMiUyQyUwQSUyMCUyMCUyMCUyMGVudHJ5dHlwZSUzRCUyMmlucHJvY2VlZGluZ3MlMjIlMkMlMEElMjAlMjAlMjAlMjBvcmdhbml6YXRpb24lM0QlMjJDYXJuZWdpZSUyME1lbGxvbiUyMFVuaXZlcnNpdHklMjIlMkMlMEElMjAlMjAlMjAlMjBJRCUzRCUyMnRoYW4yMDA5cmVsYXRpbmclMjIlMkMlMEElMjAlMjAlMjAlMjBhY20yMDE1JTNEJTIyMSUyMiUyQyUwQSUyMCUyMCUyMCUyMHBsYWNleCUzRCUyMlByb2NlZWRpbmdzJTIwb2YlMjB0aGUlMjAxM3RoJTIwSW50ZXJuYXRpb25hbCUyMFNvZnR3YXJlJTIwUHJvZHVjdCUyMExpbmUlMjBDb25mZXJlbmNlJTIyJTJDJTBBJTI5JTI5JTBBJTI3JTI3JTI3JTI5JTNC\")));\n",
       "    "
      ],
      "text/plain": [
       "<IPython.core.display.Javascript object>"
      ]
     },
     "metadata": {},
     "output_type": "display_data"
    },
    {
     "data": {
      "application/javascript": [
       "$('span:contains(\"# Temp\")').closest('.cell').remove();"
      ],
      "text/plain": [
       "<IPython.core.display.Javascript object>"
      ]
     },
     "metadata": {},
     "output_type": "display_data"
    },
    {
     "data": {
      "application/javascript": [
       "\n",
       "        $('span:contains(\"# Temp\")').closest('.cell').remove();\n",
       "        var code = IPython.notebook.insert_cell_below('code');\n",
       "        code.set_text(decodeURIComponent(window.atob(\"JTIzJTIwVGVtcCUwQWluc2VydCUyOCUyNyUyNyUyNyUwQW1haGVzaHdhcmkyMDExYSUyMCUzRCUyMERCJTI4V29ya1VucmVsYXRlZCUyOCUwQSUyMCUyMCUyMCUyMDIwMTElMkMlMjAlMjJBJTIwbXVsdGktbGV2ZWwlMjBmcmFtZXdvcmslMjBmb3IlMjBtZWFzdXJpbmclMjBhbmQlMjBiZW5jaG1hcmtpbmclMjBwdWJsaWMlMjBzZXJ2aWNlJTIwb3JnYW5pemF0aW9ucyUzQSUyMGNvbm5lY3RpbmclMjBzdGFnZXMtb2YtZ3Jvd3RoJTIwbW9kZWxzJTIwYW5kJTIwZW50ZXJwcmlzZSUyMGFyY2hpdGVjdHVyZSUyMiUyQyUwQSUyMCUyMCUyMCUyMGRpc3BsYXklM0QlMjJtYWhlc2h3YXJpJTIyJTJDJTBBJTIwJTIwJTIwJTIwYXV0aG9ycyUzRCUyMk1haGVzaHdhcmklMkMlMjBEZXZlbmRlciUyMGFuZCUyMEphbnNzZW4lMkMlMjBNYXJpam4lMjBhbmQlMjB2YW4lMjBWZWVuc3RyYSUyQyUyMEFubmUlMjBGbGV1ciUyMiUyQyUwQSUyMCUyMCUyMCUyMHBsYWNlJTNERkFLRSUyQyUwQSUyMCUyMCUyMCUyMHBwJTNEJTIyNzMtLTgwJTIyJTJDJTBBJTIwJTIwJTIwJTIwZW50cnl0eXBlJTNEJTIyaW5wcm9jZWVkaW5ncyUyMiUyQyUwQSUyMCUyMCUyMCUyMG9yZ2FuaXphdGlvbiUzRCUyMkFDTSUyMiUyQyUwQSUyMCUyMCUyMCUyMElEJTNEJTIybWFoZXNod2FyaTIwMTFtdWx0aSUyMiUyQyUwQSUyMCUyMCUyMCUyMGFjbTIwMTUlM0QlMjIxJTIyJTJDJTBBJTIwJTIwJTIwJTIwcGxhY2V4JTNEJTIyUHJvY2VlZGluZ3MlMjBvZiUyMHRoZSUyMDV0aCUyMEludGVybmF0aW9uYWwlMjBDb25mZXJlbmNlJTIwb24lMjBUaGVvcnklMjBhbmQlMjBQcmFjdGljZSUyMG9mJTIwRWxlY3Ryb25pYyUyMEdvdmVybmFuY2UlMjIlMkMlMEElMjklMjklMEElMjclMjclMjclMjklM0I=\")));\n",
       "    "
      ],
      "text/plain": [
       "<IPython.core.display.Javascript object>"
      ]
     },
     "metadata": {},
     "output_type": "display_data"
    },
    {
     "data": {
      "application/javascript": [
       "$('span:contains(\"# Temp\")').closest('.cell').remove();"
      ],
      "text/plain": [
       "<IPython.core.display.Javascript object>"
      ]
     },
     "metadata": {},
     "output_type": "display_data"
    },
    {
     "data": {
      "application/javascript": [
       "\n",
       "        $('span:contains(\"# Temp\")').closest('.cell').remove();\n",
       "        var code = IPython.notebook.insert_cell_below('code');\n",
       "        code.set_text(decodeURIComponent(window.atob(\"JTIzJTIwVGVtcCUwQWluc2VydCUyOCUyNyUyNyUyNyUwQW1haGVzaHdhcmkyMDExYSUyMCUzRCUyMERCJTI4V29ya1VucmVsYXRlZCUyOCUwQSUyMCUyMCUyMCUyMDIwMTElMkMlMjAlMjJBJTIwbXVsdGktbGV2ZWwlMjBmcmFtZXdvcmslMjBmb3IlMjBtZWFzdXJpbmclMjBhbmQlMjBiZW5jaG1hcmtpbmclMjBwdWJsaWMlMjBzZXJ2aWNlJTIwb3JnYW5pemF0aW9ucyUzQSUyMGNvbm5lY3RpbmclMjBzdGFnZXMtb2YtZ3Jvd3RoJTIwbW9kZWxzJTIwYW5kJTIwZW50ZXJwcmlzZSUyMGFyY2hpdGVjdHVyZSUyMiUyQyUwQSUyMCUyMCUyMCUyMGRpc3BsYXklM0QlMjJtYWhlc2h3YXJpJTIyJTJDJTBBJTIwJTIwJTIwJTIwYXV0aG9ycyUzRCUyMk1haGVzaHdhcmklMkMlMjBEZXZlbmRlciUyMGFuZCUyMEphbnNzZW4lMkMlMjBNYXJpam4lMjBhbmQlMjB2YW4lMjBWZWVuc3RyYSUyQyUyMEFubmUlMjBGbGV1ciUyMiUyQyUwQSUyMCUyMCUyMCUyMHBsYWNlJTNERkFLRSUyQyUwQSUyMCUyMCUyMCUyMHBwJTNEJTIyNzMtLTgwJTIyJTJDJTBBJTIwJTIwJTIwJTIwZW50cnl0eXBlJTNEJTIyaW5wcm9jZWVkaW5ncyUyMiUyQyUwQSUyMCUyMCUyMCUyMG9yZ2FuaXphdGlvbiUzRCUyMkFDTSUyMiUyQyUwQSUyMCUyMCUyMCUyMElEJTNEJTIybWFoZXNod2FyaTIwMTFtdWx0aSUyMiUyQyUwQSUyMCUyMCUyMCUyMGFjbTIwMTUlM0QlMjIxJTIyJTJDJTBBJTIwJTIwJTIwJTIwcGxhY2V4JTNEJTIyUHJvY2VlZGluZ3MlMjBvZiUyMHRoZSUyMDV0aCUyMEludGVybmF0aW9uYWwlMjBDb25mZXJlbmNlJTIwb24lMjBUaGVvcnklMjBhbmQlMjBQcmFjdGljZSUyMG9mJTIwRWxlY3Ryb25pYyUyMEdvdmVybmFuY2UlMjIlMkMlMEElMjklMjklMEElMjclMjclMjclMjklM0I=\")));\n",
       "    "
      ],
      "text/plain": [
       "<IPython.core.display.Javascript object>"
      ]
     },
     "metadata": {},
     "output_type": "display_data"
    },
    {
     "data": {
      "application/javascript": [
       "$('span:contains(\"# Temp\")').closest('.cell').remove();"
      ],
      "text/plain": [
       "<IPython.core.display.Javascript object>"
      ]
     },
     "metadata": {},
     "output_type": "display_data"
    },
    {
     "data": {
      "application/javascript": [
       "\n",
       "        $('span:contains(\"# Temp\")').closest('.cell').remove();\n",
       "        var code = IPython.notebook.insert_cell_below('code');\n",
       "        code.set_text(decodeURIComponent(window.atob(\"JTIzJTIwVGVtcCUwQWluc2VydCUyOCUyNyUyNyUyNyUwQXJhbXNpbjIwMDhhJTIwJTNEJTIwREIlMjhXb3JrVW5yZWxhdGVkJTI4JTBBJTIwJTIwJTIwJTIwMjAwOCUyQyUyMCUyMlByb2Nlc3MtY2VudGVyZWQlMjByZXZpZXclMjBvZiUyMG9iamVjdCUyMG9yaWVudGVkJTIwc29mdHdhcmUlMjBkZXZlbG9wbWVudCUyMG1ldGhvZG9sb2dpZXMlMjIlMkMlMEElMjAlMjAlMjAlMjBkaXNwbGF5JTNEJTIycmFtc2luJTIyJTJDJTBBJTIwJTIwJTIwJTIwYXV0aG9ycyUzRCUyMlJhbXNpbiUyQyUyMFJhbWFuJTIwYW5kJTIwUGFpZ2UlMkMlMjBSaWNoYXJkJTIwRiUyMiUyQyUwQSUyMCUyMCUyMCUyMHBsYWNlJTNEQ1NVUiUyQyUwQSUyMCUyMCUyMCUyMHBwJTNEJTIyMyUyMiUyQyUwQSUyMCUyMCUyMCUyMGVudHJ5dHlwZSUzRCUyMmFydGljbGUlMjIlMkMlMEElMjAlMjAlMjAlMjB2b2x1bWUlM0QlMjI0MCUyMiUyQyUwQSUyMCUyMCUyMCUyMG51bWJlciUzRCUyMjElMjIlMkMlMEElMjAlMjAlMjAlMjBwdWJsaXNoZXIlM0QlMjJBQ00lMjIlMkMlMEElMjAlMjAlMjAlMjBJRCUzRCUyMnJhbXNpbjIwMDhwcm9jZXNzJTIyJTJDJTBBJTIwJTIwJTIwJTIwYWNtMjAxNSUzRCUyMjElMjIlMkMlMEElMjAlMjAlMjAlMjBwbGFjZXglM0QlMjJBQ00lMjBDb21wdXRpbmclMjBTdXJ2ZXlzJTIwJTI4Q1NVUiUyOSUyMiUyQyUwQSUyOSUyOSUwQSUyNyUyNyUyNyUyOSUzQg==\")));\n",
       "    "
      ],
      "text/plain": [
       "<IPython.core.display.Javascript object>"
      ]
     },
     "metadata": {},
     "output_type": "display_data"
    },
    {
     "data": {
      "application/javascript": [
       "$('span:contains(\"# Temp\")').closest('.cell').remove();"
      ],
      "text/plain": [
       "<IPython.core.display.Javascript object>"
      ]
     },
     "metadata": {},
     "output_type": "display_data"
    },
    {
     "data": {
      "application/javascript": [
       "\n",
       "        $('span:contains(\"# Temp\")').closest('.cell').remove();\n",
       "        var code = IPython.notebook.insert_cell_below('code');\n",
       "        code.set_text(decodeURIComponent(window.atob(\"JTIzJTIwVGVtcCUwQWluc2VydCUyOCUyNyUyNyUyNyUwQXJhbXNpbjIwMDhhJTIwJTNEJTIwREIlMjhXb3JrVW5yZWxhdGVkJTI4JTBBJTIwJTIwJTIwJTIwMjAwOCUyQyUyMCUyMlByb2Nlc3MtY2VudGVyZWQlMjByZXZpZXclMjBvZiUyMG9iamVjdCUyMG9yaWVudGVkJTIwc29mdHdhcmUlMjBkZXZlbG9wbWVudCUyMG1ldGhvZG9sb2dpZXMlMjIlMkMlMEElMjAlMjAlMjAlMjBkaXNwbGF5JTNEJTIycmFtc2luJTIyJTJDJTBBJTIwJTIwJTIwJTIwYXV0aG9ycyUzRCUyMlJhbXNpbiUyQyUyMFJhbWFuJTIwYW5kJTIwUGFpZ2UlMkMlMjBSaWNoYXJkJTIwRiUyMiUyQyUwQSUyMCUyMCUyMCUyMHBsYWNlJTNEQ1NVUiUyQyUwQSUyMCUyMCUyMCUyMHBwJTNEJTIyMyUyMiUyQyUwQSUyMCUyMCUyMCUyMGVudHJ5dHlwZSUzRCUyMmFydGljbGUlMjIlMkMlMEElMjAlMjAlMjAlMjB2b2x1bWUlM0QlMjI0MCUyMiUyQyUwQSUyMCUyMCUyMCUyMG51bWJlciUzRCUyMjElMjIlMkMlMEElMjAlMjAlMjAlMjBwdWJsaXNoZXIlM0QlMjJBQ00lMjIlMkMlMEElMjAlMjAlMjAlMjBJRCUzRCUyMnJhbXNpbjIwMDhwcm9jZXNzJTIyJTJDJTBBJTIwJTIwJTIwJTIwYWNtMjAxNSUzRCUyMjElMjIlMkMlMEElMjAlMjAlMjAlMjBwbGFjZXglM0QlMjJBQ00lMjBDb21wdXRpbmclMjBTdXJ2ZXlzJTIwJTI4Q1NVUiUyOSUyMiUyQyUwQSUyOSUyOSUwQSUyNyUyNyUyNyUyOSUzQg==\")));\n",
       "    "
      ],
      "text/plain": [
       "<IPython.core.display.Javascript object>"
      ]
     },
     "metadata": {},
     "output_type": "display_data"
    },
    {
     "data": {
      "application/javascript": [
       "$('span:contains(\"# Temp\")').closest('.cell').remove();"
      ],
      "text/plain": [
       "<IPython.core.display.Javascript object>"
      ]
     },
     "metadata": {},
     "output_type": "display_data"
    },
    {
     "data": {
      "application/javascript": [
       "\n",
       "        $('span:contains(\"# Temp\")').closest('.cell').remove();\n",
       "        var code = IPython.notebook.insert_cell_below('code');\n",
       "        code.set_text(decodeURIComponent(window.atob(\"JTIzJTIwVGVtcCUwQWluc2VydCUyOCUyNyUyNyUyNyUwQWJvdXN0ZWR0MjAwOGElMjAlM0QlMjBEQiUyOFdvcmtVbnJlbGF0ZWQlMjglMEElMjAlMjAlMjAlMjAyMDA4JTJDJTIwJTIyQSUyMG1ldGhvZG9sb2d5JTIwZm9yJTIwZXhwbG9yaW5nJTIwc3R1ZGVudHMlMjclMjBleHBlcmllbmNlcyUyMGFuZCUyMGludGVyYWN0aW9uJTIwd2l0aCUyMGxhcmdlLXNjYWxlJTIwc29mdHdhcmUlMjB0aHJvdWdoJTIwcm9sZS1wbGF5JTIwYW5kJTIwcGhlbm9tZW5vZ3JhcGh5JTIyJTJDJTBBJTIwJTIwJTIwJTIwZGlzcGxheSUzRCUyMmJvdXN0ZWR0JTIyJTJDJTBBJTIwJTIwJTIwJTIwYXV0aG9ycyUzRCUyMkJvdXN0ZWR0JTJDJTIwSm9uYXMlMjIlMkMlMEElMjAlMjAlMjAlMjBwbGFjZSUzREZBS0UlMkMlMEElMjAlMjAlMjAlMjBwcCUzRCUyMjI3LS0zOCUyMiUyQyUwQSUyMCUyMCUyMCUyMGVudHJ5dHlwZSUzRCUyMmlucHJvY2VlZGluZ3MlMjIlMkMlMEElMjAlMjAlMjAlMjBvcmdhbml6YXRpb24lM0QlMjJBQ00lMjIlMkMlMEElMjAlMjAlMjAlMjBJRCUzRCUyMmJvdXN0ZWR0MjAwOG1ldGhvZG9sb2d5JTIyJTJDJTBBJTIwJTIwJTIwJTIwYWNtMjAxNSUzRCUyMjElMjIlMkMlMEElMjAlMjAlMjAlMjBwbGFjZXglM0QlMjJQcm9jZWVkaW5ncyUyMG9mJTIwdGhlJTIwRm91cnRoJTIwaW50ZXJuYXRpb25hbCUyMFdvcmtzaG9wJTIwb24lMjBDb21wdXRpbmclMjBFZHVjYXRpb24lMjBSZXNlYXJjaCUyMiUyQyUwQSUyOSUyOSUwQSUyNyUyNyUyNyUyOSUzQg==\")));\n",
       "    "
      ],
      "text/plain": [
       "<IPython.core.display.Javascript object>"
      ]
     },
     "metadata": {},
     "output_type": "display_data"
    },
    {
     "data": {
      "application/javascript": [
       "$('span:contains(\"# Temp\")').closest('.cell').remove();"
      ],
      "text/plain": [
       "<IPython.core.display.Javascript object>"
      ]
     },
     "metadata": {},
     "output_type": "display_data"
    },
    {
     "data": {
      "application/javascript": [
       "\n",
       "        $('span:contains(\"# Temp\")').closest('.cell').remove();\n",
       "        var code = IPython.notebook.insert_cell_below('code');\n",
       "        code.set_text(decodeURIComponent(window.atob(\"JTIzJTIwVGVtcCUwQWluc2VydCUyOCUyNyUyNyUyNyUwQWJvdXN0ZWR0MjAwOGElMjAlM0QlMjBEQiUyOFdvcmtVbnJlbGF0ZWQlMjglMEElMjAlMjAlMjAlMjAyMDA4JTJDJTIwJTIyQSUyMG1ldGhvZG9sb2d5JTIwZm9yJTIwZXhwbG9yaW5nJTIwc3R1ZGVudHMlMjclMjBleHBlcmllbmNlcyUyMGFuZCUyMGludGVyYWN0aW9uJTIwd2l0aCUyMGxhcmdlLXNjYWxlJTIwc29mdHdhcmUlMjB0aHJvdWdoJTIwcm9sZS1wbGF5JTIwYW5kJTIwcGhlbm9tZW5vZ3JhcGh5JTIyJTJDJTBBJTIwJTIwJTIwJTIwZGlzcGxheSUzRCUyMmJvdXN0ZWR0JTIyJTJDJTBBJTIwJTIwJTIwJTIwYXV0aG9ycyUzRCUyMkJvdXN0ZWR0JTJDJTIwSm9uYXMlMjIlMkMlMEElMjAlMjAlMjAlMjBwbGFjZSUzREZBS0UlMkMlMEElMjAlMjAlMjAlMjBwcCUzRCUyMjI3LS0zOCUyMiUyQyUwQSUyMCUyMCUyMCUyMGVudHJ5dHlwZSUzRCUyMmlucHJvY2VlZGluZ3MlMjIlMkMlMEElMjAlMjAlMjAlMjBvcmdhbml6YXRpb24lM0QlMjJBQ00lMjIlMkMlMEElMjAlMjAlMjAlMjBJRCUzRCUyMmJvdXN0ZWR0MjAwOG1ldGhvZG9sb2d5JTIyJTJDJTBBJTIwJTIwJTIwJTIwYWNtMjAxNSUzRCUyMjElMjIlMkMlMEElMjAlMjAlMjAlMjBwbGFjZXglM0QlMjJQcm9jZWVkaW5ncyUyMG9mJTIwdGhlJTIwRm91cnRoJTIwaW50ZXJuYXRpb25hbCUyMFdvcmtzaG9wJTIwb24lMjBDb21wdXRpbmclMjBFZHVjYXRpb24lMjBSZXNlYXJjaCUyMiUyQyUwQSUyOSUyOSUwQSUyNyUyNyUyNyUyOSUzQg==\")));\n",
       "    "
      ],
      "text/plain": [
       "<IPython.core.display.Javascript object>"
      ]
     },
     "metadata": {},
     "output_type": "display_data"
    },
    {
     "data": {
      "application/javascript": [
       "$('span:contains(\"# Temp\")').closest('.cell').remove();"
      ],
      "text/plain": [
       "<IPython.core.display.Javascript object>"
      ]
     },
     "metadata": {},
     "output_type": "display_data"
    },
    {
     "data": {
      "application/javascript": [
       "\n",
       "        $('span:contains(\"# Temp\")').closest('.cell').remove();\n",
       "        var code = IPython.notebook.insert_cell_below('code');\n",
       "        code.set_text(decodeURIComponent(window.atob(\"JTIzJTIwVGVtcCUwQWluc2VydCUyOCUyNyUyNyUyNyUwQWF2aWxhMjAwN2ElMjAlM0QlMjBEQiUyOFdvcmtVbnJlbGF0ZWQlMjglMEElMjAlMjAlMjAlMjAyMDA3JTJDJTIwJTIyVXNpbmclMjBzb2Z0d2FyZSUyMHByb2R1Y3QlMjBsaW5lcyUyMHRvJTIwbWFuYWdlJTIwbW9kZWwlMjBmYW1pbGllcyUyMGluJTIwbW9kZWwtZHJpdmVuJTIwZW5naW5lZXJpbmclMjIlMkMlMEElMjAlMjAlMjAlMjBkaXNwbGF5JTNEJTIyYXZpbGElMjIlMkMlMEElMjAlMjAlMjAlMjBhdXRob3JzJTNEJTIyQXZpbGEtR2FyYyVDMyVBRGElMkMlMjBPcmxhbmRvJTIwYW5kJTIwR2FyYyVDMyVBRGElMkMlMjBBbnRvbmlvJTIwRXN0JUMzJUE5dmV6JTIwYW5kJTIwUmVidWxsJTJDJTIwRSUyMiUyQyUwQSUyMCUyMCUyMCUyMHBsYWNlJTNERkFLRSUyQyUwQSUyMCUyMCUyMCUyMHBwJTNEJTIyMTAwNi0tMTAxMSUyMiUyQyUwQSUyMCUyMCUyMCUyMGVudHJ5dHlwZSUzRCUyMmlucHJvY2VlZGluZ3MlMjIlMkMlMEElMjAlMjAlMjAlMjBvcmdhbml6YXRpb24lM0QlMjJBQ00lMjIlMkMlMEElMjAlMjAlMjAlMjBJRCUzRCUyMmF2aWxhMjAwN3VzaW5nJTIyJTJDJTBBJTIwJTIwJTIwJTIwYWNtMjAxNSUzRCUyMjElMjIlMkMlMEElMjAlMjAlMjAlMjBwbGFjZXglM0QlMjJQcm9jZWVkaW5ncyUyMG9mJTIwdGhlJTIwMjAwNyUyMEFDTSUyMHN5bXBvc2l1bSUyMG9uJTIwQXBwbGllZCUyMGNvbXB1dGluZyUyMiUyQyUwQSUyOSUyOSUwQSUyNyUyNyUyNyUyOSUzQg==\")));\n",
       "    "
      ],
      "text/plain": [
       "<IPython.core.display.Javascript object>"
      ]
     },
     "metadata": {},
     "output_type": "display_data"
    },
    {
     "data": {
      "application/javascript": [
       "$('span:contains(\"# Temp\")').closest('.cell').remove();"
      ],
      "text/plain": [
       "<IPython.core.display.Javascript object>"
      ]
     },
     "metadata": {},
     "output_type": "display_data"
    },
    {
     "data": {
      "application/javascript": [
       "\n",
       "        $('span:contains(\"# Temp\")').closest('.cell').remove();\n",
       "        var code = IPython.notebook.insert_cell_below('code');\n",
       "        code.set_text(decodeURIComponent(window.atob(\"JTIzJTIwVGVtcCUwQWluc2VydCUyOCUyNyUyNyUyNyUwQWF2aWxhMjAwN2ElMjAlM0QlMjBEQiUyOFdvcmtVbnJlbGF0ZWQlMjglMEElMjAlMjAlMjAlMjAyMDA3JTJDJTIwJTIyVXNpbmclMjBzb2Z0d2FyZSUyMHByb2R1Y3QlMjBsaW5lcyUyMHRvJTIwbWFuYWdlJTIwbW9kZWwlMjBmYW1pbGllcyUyMGluJTIwbW9kZWwtZHJpdmVuJTIwZW5naW5lZXJpbmclMjIlMkMlMEElMjAlMjAlMjAlMjBkaXNwbGF5JTNEJTIyYXZpbGElMjIlMkMlMEElMjAlMjAlMjAlMjBhdXRob3JzJTNEJTIyQXZpbGEtR2FyYyVDMyVBRGElMkMlMjBPcmxhbmRvJTIwYW5kJTIwR2FyYyVDMyVBRGElMkMlMjBBbnRvbmlvJTIwRXN0JUMzJUE5dmV6JTIwYW5kJTIwUmVidWxsJTJDJTIwRSUyMiUyQyUwQSUyMCUyMCUyMCUyMHBsYWNlJTNERkFLRSUyQyUwQSUyMCUyMCUyMCUyMHBwJTNEJTIyMTAwNi0tMTAxMSUyMiUyQyUwQSUyMCUyMCUyMCUyMGVudHJ5dHlwZSUzRCUyMmlucHJvY2VlZGluZ3MlMjIlMkMlMEElMjAlMjAlMjAlMjBvcmdhbml6YXRpb24lM0QlMjJBQ00lMjIlMkMlMEElMjAlMjAlMjAlMjBJRCUzRCUyMmF2aWxhMjAwN3VzaW5nJTIyJTJDJTBBJTIwJTIwJTIwJTIwYWNtMjAxNSUzRCUyMjElMjIlMkMlMEElMjAlMjAlMjAlMjBwbGFjZXglM0QlMjJQcm9jZWVkaW5ncyUyMG9mJTIwdGhlJTIwMjAwNyUyMEFDTSUyMHN5bXBvc2l1bSUyMG9uJTIwQXBwbGllZCUyMGNvbXB1dGluZyUyMiUyQyUwQSUyOSUyOSUwQSUyNyUyNyUyNyUyOSUzQg==\")));\n",
       "    "
      ],
      "text/plain": [
       "<IPython.core.display.Javascript object>"
      ]
     },
     "metadata": {},
     "output_type": "display_data"
    },
    {
     "data": {
      "application/javascript": [
       "$('span:contains(\"# Temp\")').closest('.cell').remove();"
      ],
      "text/plain": [
       "<IPython.core.display.Javascript object>"
      ]
     },
     "metadata": {},
     "output_type": "display_data"
    },
    {
     "data": {
      "application/javascript": [
       "\n",
       "        $('span:contains(\"# Temp\")').closest('.cell').remove();\n",
       "        var code = IPython.notebook.insert_cell_below('code');\n",
       "        code.set_text(decodeURIComponent(window.atob(\"JTIzJTIwVGVtcCUwQWluc2VydCUyOCUyNyUyNyUyNyUwQWxhdmF6emEyMDA1YSUyMCUzRCUyMERCJTI4V29ya1VucmVsYXRlZCUyOCUwQSUyMCUyMCUyMCUyMDIwMDUlMkMlMjAlMjJBdXRvbWF0ZWQlMjBzdXBwb3J0JTIwZm9yJTIwcHJvY2Vzcy1hd2FyZSUyMGRlZmluaXRpb24lMjBhbmQlMjBleGVjdXRpb24lMjBvZiUyMG1lYXN1cmVtZW50JTIwcGxhbnMlMjIlMkMlMEElMjAlMjAlMjAlMjBkaXNwbGF5JTNEJTIybGF2YXp6YSUyMiUyQyUwQSUyMCUyMCUyMCUyMGF1dGhvcnMlM0QlMjJMYXZhenphJTJDJTIwTHVpZ2klMjBhbmQlMjBCYXJyZXNpJTJDJTIwR2lhbmNhcmxvJTIyJTJDJTBBJTIwJTIwJTIwJTIwcGxhY2UlM0RJQ1NFJTJDJTBBJTIwJTIwJTIwJTIwcHAlM0QlMjIyMzQtLTI0MyUyMiUyQyUwQSUyMCUyMCUyMCUyMGVudHJ5dHlwZSUzRCUyMmlucHJvY2VlZGluZ3MlMjIlMkMlMEElMjAlMjAlMjAlMjBvcmdhbml6YXRpb24lM0QlMjJJRUVFJTIyJTJDJTBBJTIwJTIwJTIwJTIwSUQlM0QlMjJsYXZhenphMjAwNWF1dG9tYXRlZCUyMiUyQyUwQSUyMCUyMCUyMCUyMGFjbTIwMTUlM0QlMjIxJTIyJTJDJTBBJTIwJTIwJTIwJTIwcGxhY2V4JTNEJTIyU29mdHdhcmUlMjBFbmdpbmVlcmluZyUyQyUyMDIwMDUuJTIwSUNTRSUyMDIwMDUuJTIwUHJvY2VlZGluZ3MuJTIwMjd0aCUyMEludGVybmF0aW9uYWwlMjBDb25mZXJlbmNlJTIwb24lMjIlMkMlMEElMjklMjklMEElMjclMjclMjclMjklM0I=\")));\n",
       "    "
      ],
      "text/plain": [
       "<IPython.core.display.Javascript object>"
      ]
     },
     "metadata": {},
     "output_type": "display_data"
    },
    {
     "data": {
      "application/javascript": [
       "$('span:contains(\"# Temp\")').closest('.cell').remove();"
      ],
      "text/plain": [
       "<IPython.core.display.Javascript object>"
      ]
     },
     "metadata": {},
     "output_type": "display_data"
    },
    {
     "data": {
      "application/javascript": [
       "\n",
       "        $('span:contains(\"# Temp\")').closest('.cell').remove();\n",
       "        var code = IPython.notebook.insert_cell_below('code');\n",
       "        code.set_text(decodeURIComponent(window.atob(\"JTIzJTIwVGVtcCUwQWluc2VydCUyOCUyNyUyNyUyNyUwQWxhdmF6emEyMDA1YSUyMCUzRCUyMERCJTI4V29ya1VucmVsYXRlZCUyOCUwQSUyMCUyMCUyMCUyMDIwMDUlMkMlMjAlMjJBdXRvbWF0ZWQlMjBzdXBwb3J0JTIwZm9yJTIwcHJvY2Vzcy1hd2FyZSUyMGRlZmluaXRpb24lMjBhbmQlMjBleGVjdXRpb24lMjBvZiUyMG1lYXN1cmVtZW50JTIwcGxhbnMlMjIlMkMlMEElMjAlMjAlMjAlMjBkaXNwbGF5JTNEJTIybGF2YXp6YSUyMiUyQyUwQSUyMCUyMCUyMCUyMGF1dGhvcnMlM0QlMjJMYXZhenphJTJDJTIwTHVpZ2klMjBhbmQlMjBCYXJyZXNpJTJDJTIwR2lhbmNhcmxvJTIyJTJDJTBBJTIwJTIwJTIwJTIwcGxhY2UlM0RJQ1NFJTJDJTBBJTIwJTIwJTIwJTIwcHAlM0QlMjIyMzQtLTI0MyUyMiUyQyUwQSUyMCUyMCUyMCUyMGVudHJ5dHlwZSUzRCUyMmlucHJvY2VlZGluZ3MlMjIlMkMlMEElMjAlMjAlMjAlMjBvcmdhbml6YXRpb24lM0QlMjJJRUVFJTIyJTJDJTBBJTIwJTIwJTIwJTIwSUQlM0QlMjJsYXZhenphMjAwNWF1dG9tYXRlZCUyMiUyQyUwQSUyMCUyMCUyMCUyMGFjbTIwMTUlM0QlMjIxJTIyJTJDJTBBJTIwJTIwJTIwJTIwcGxhY2V4JTNEJTIyU29mdHdhcmUlMjBFbmdpbmVlcmluZyUyQyUyMDIwMDUuJTIwSUNTRSUyMDIwMDUuJTIwUHJvY2VlZGluZ3MuJTIwMjd0aCUyMEludGVybmF0aW9uYWwlMjBDb25mZXJlbmNlJTIwb24lMjIlMkMlMEElMjklMjklMEElMjclMjclMjclMjklM0I=\")));\n",
       "    "
      ],
      "text/plain": [
       "<IPython.core.display.Javascript object>"
      ]
     },
     "metadata": {},
     "output_type": "display_data"
    },
    {
     "data": {
      "application/javascript": [
       "$('span:contains(\"# Temp\")').closest('.cell').remove();"
      ],
      "text/plain": [
       "<IPython.core.display.Javascript object>"
      ]
     },
     "metadata": {},
     "output_type": "display_data"
    },
    {
     "data": {
      "application/javascript": [
       "\n",
       "        $('span:contains(\"# Temp\")').closest('.cell').remove();\n",
       "        var code = IPython.notebook.insert_cell_below('code');\n",
       "        code.set_text(decodeURIComponent(window.atob(\"JTIzJTIwVGVtcCUwQWluc2VydCUyOCUyNyUyNyUyNyUwQXdoaXRlaGVhZDIwMDdhJTIwJTNEJTIwREIlMjhXb3JrVW5yZWxhdGVkJTI4JTBBJTIwJTIwJTIwJTIwMjAwNyUyQyUyMCUyMkNvbGxhYm9yYXRpb24lMjBpbiUyMHNvZnR3YXJlJTIwZW5naW5lZXJpbmclM0ElMjBBJTIwcm9hZG1hcCUyMiUyQyUwQSUyMCUyMCUyMCUyMGRpc3BsYXklM0QlMjJ3aGl0ZWhlYWQlMjIlMkMlMEElMjAlMjAlMjAlMjBhdXRob3JzJTNEJTIyV2hpdGVoZWFkJTJDJTIwSmltJTIyJTJDJTBBJTIwJTIwJTIwJTIwcGxhY2UlM0RGQUtFJTJDJTBBJTIwJTIwJTIwJTIwcHAlM0QlMjIyMTQtLTIyNSUyMiUyQyUwQSUyMCUyMCUyMCUyMGVudHJ5dHlwZSUzRCUyMmlucHJvY2VlZGluZ3MlMjIlMkMlMEElMjAlMjAlMjAlMjBvcmdhbml6YXRpb24lM0QlMjJJRUVFJTIwQ29tcHV0ZXIlMjBTb2NpZXR5JTIyJTJDJTBBJTIwJTIwJTIwJTIwSUQlM0QlMjJ3aGl0ZWhlYWQyMDA3Y29sbGFib3JhdGlvbiUyMiUyQyUwQSUyMCUyMCUyMCUyMGFjbTIwMTUlM0QlMjIxJTIyJTJDJTBBJTIwJTIwJTIwJTIwcGxhY2V4JTNEJTIyMjAwNyUyMEZ1dHVyZSUyMG9mJTIwU29mdHdhcmUlMjBFbmdpbmVlcmluZyUyMiUyQyUwQSUyOSUyOSUwQSUyNyUyNyUyNyUyOSUzQg==\")));\n",
       "    "
      ],
      "text/plain": [
       "<IPython.core.display.Javascript object>"
      ]
     },
     "metadata": {},
     "output_type": "display_data"
    },
    {
     "data": {
      "application/javascript": [
       "$('span:contains(\"# Temp\")').closest('.cell').remove();"
      ],
      "text/plain": [
       "<IPython.core.display.Javascript object>"
      ]
     },
     "metadata": {},
     "output_type": "display_data"
    },
    {
     "data": {
      "application/javascript": [
       "\n",
       "        $('span:contains(\"# Temp\")').closest('.cell').remove();\n",
       "        var code = IPython.notebook.insert_cell_below('code');\n",
       "        code.set_text(decodeURIComponent(window.atob(\"JTIzJTIwVGVtcCUwQWluc2VydCUyOCUyNyUyNyUyNyUwQXdoaXRlaGVhZDIwMDdhJTIwJTNEJTIwREIlMjhXb3JrVW5yZWxhdGVkJTI4JTBBJTIwJTIwJTIwJTIwMjAwNyUyQyUyMCUyMkNvbGxhYm9yYXRpb24lMjBpbiUyMHNvZnR3YXJlJTIwZW5naW5lZXJpbmclM0ElMjBBJTIwcm9hZG1hcCUyMiUyQyUwQSUyMCUyMCUyMCUyMGRpc3BsYXklM0QlMjJ3aGl0ZWhlYWQlMjIlMkMlMEElMjAlMjAlMjAlMjBhdXRob3JzJTNEJTIyV2hpdGVoZWFkJTJDJTIwSmltJTIyJTJDJTBBJTIwJTIwJTIwJTIwcGxhY2UlM0RGQUtFJTJDJTBBJTIwJTIwJTIwJTIwcHAlM0QlMjIyMTQtLTIyNSUyMiUyQyUwQSUyMCUyMCUyMCUyMGVudHJ5dHlwZSUzRCUyMmlucHJvY2VlZGluZ3MlMjIlMkMlMEElMjAlMjAlMjAlMjBvcmdhbml6YXRpb24lM0QlMjJJRUVFJTIwQ29tcHV0ZXIlMjBTb2NpZXR5JTIyJTJDJTBBJTIwJTIwJTIwJTIwSUQlM0QlMjJ3aGl0ZWhlYWQyMDA3Y29sbGFib3JhdGlvbiUyMiUyQyUwQSUyMCUyMCUyMCUyMGFjbTIwMTUlM0QlMjIxJTIyJTJDJTBBJTIwJTIwJTIwJTIwcGxhY2V4JTNEJTIyMjAwNyUyMEZ1dHVyZSUyMG9mJTIwU29mdHdhcmUlMjBFbmdpbmVlcmluZyUyMiUyQyUwQSUyOSUyOSUwQSUyNyUyNyUyNyUyOSUzQg==\")));\n",
       "    "
      ],
      "text/plain": [
       "<IPython.core.display.Javascript object>"
      ]
     },
     "metadata": {},
     "output_type": "display_data"
    },
    {
     "data": {
      "application/javascript": [
       "$('span:contains(\"# Temp\")').closest('.cell').remove();"
      ],
      "text/plain": [
       "<IPython.core.display.Javascript object>"
      ]
     },
     "metadata": {},
     "output_type": "display_data"
    },
    {
     "data": {
      "application/javascript": [
       "\n",
       "        $('span:contains(\"# Temp\")').closest('.cell').remove();\n",
       "        var code = IPython.notebook.insert_cell_below('code');\n",
       "        code.set_text(decodeURIComponent(window.atob(\"JTIzJTIwVGVtcCUwQWluc2VydCUyOCUyNyUyNyUyNyUwQWR1c3p5bnNraTIwMTFhJTIwJTNEJTIwREIlMjhXb3JrVW5yZWxhdGVkJTI4JTBBJTIwJTIwJTIwJTIwMjAxMSUyQyUyMCUyMkElMjBzY2FsYWJsZSUyMGdvYWwtb3JpZW50ZWQlMjBhcHByb2FjaCUyMHRvJTIwc29mdHdhcmUlMjB2YXJpYWJpbGl0eSUyMHJlY292ZXJ5JTIyJTJDJTBBJTIwJTIwJTIwJTIwZGlzcGxheSUzRCUyMmR1c3p5bnNraSUyMiUyQyUwQSUyMCUyMCUyMCUyMGF1dGhvcnMlM0QlMjJEdXN6eW5za2klMkMlMjBTbGF3b21pciUyMiUyQyUwQSUyMCUyMCUyMCUyMHBsYWNlJTNERkFLRSUyQyUwQSUyMCUyMCUyMCUyMHBwJTNEJTIyNDIlMjIlMkMlMEElMjAlMjAlMjAlMjBlbnRyeXR5cGUlM0QlMjJpbnByb2NlZWRpbmdzJTIyJTJDJTBBJTIwJTIwJTIwJTIwb3JnYW5pemF0aW9uJTNEJTIyQUNNJTIyJTJDJTBBJTIwJTIwJTIwJTIwSUQlM0QlMjJkdXN6eW5za2kyMDExc2NhbGFibGUlMjIlMkMlMEElMjAlMjAlMjAlMjBhY20yMDE1JTNEJTIyMSUyMiUyQyUwQSUyMCUyMCUyMCUyMHBsYWNleCUzRCUyMlByb2NlZWRpbmdzJTIwb2YlMjB0aGUlMjAxNXRoJTIwSW50ZXJuYXRpb25hbCUyMFNvZnR3YXJlJTIwUHJvZHVjdCUyMExpbmUlMjBDb25mZXJlbmNlJTJDJTIwVm9sdW1lJTIwMiUyMiUyQyUwQSUyOSUyOSUwQSUyNyUyNyUyNyUyOSUzQg==\")));\n",
       "    "
      ],
      "text/plain": [
       "<IPython.core.display.Javascript object>"
      ]
     },
     "metadata": {},
     "output_type": "display_data"
    },
    {
     "data": {
      "application/javascript": [
       "$('span:contains(\"# Temp\")').closest('.cell').remove();"
      ],
      "text/plain": [
       "<IPython.core.display.Javascript object>"
      ]
     },
     "metadata": {},
     "output_type": "display_data"
    },
    {
     "data": {
      "application/javascript": [
       "\n",
       "        $('span:contains(\"# Temp\")').closest('.cell').remove();\n",
       "        var code = IPython.notebook.insert_cell_below('code');\n",
       "        code.set_text(decodeURIComponent(window.atob(\"JTIzJTIwVGVtcCUwQWluc2VydCUyOCUyNyUyNyUyNyUwQWR1c3p5bnNraTIwMTFhJTIwJTNEJTIwREIlMjhXb3JrVW5yZWxhdGVkJTI4JTBBJTIwJTIwJTIwJTIwMjAxMSUyQyUyMCUyMkElMjBzY2FsYWJsZSUyMGdvYWwtb3JpZW50ZWQlMjBhcHByb2FjaCUyMHRvJTIwc29mdHdhcmUlMjB2YXJpYWJpbGl0eSUyMHJlY292ZXJ5JTIyJTJDJTBBJTIwJTIwJTIwJTIwZGlzcGxheSUzRCUyMmR1c3p5bnNraSUyMiUyQyUwQSUyMCUyMCUyMCUyMGF1dGhvcnMlM0QlMjJEdXN6eW5za2klMkMlMjBTbGF3b21pciUyMiUyQyUwQSUyMCUyMCUyMCUyMHBsYWNlJTNERkFLRSUyQyUwQSUyMCUyMCUyMCUyMHBwJTNEJTIyNDIlMjIlMkMlMEElMjAlMjAlMjAlMjBlbnRyeXR5cGUlM0QlMjJpbnByb2NlZWRpbmdzJTIyJTJDJTBBJTIwJTIwJTIwJTIwb3JnYW5pemF0aW9uJTNEJTIyQUNNJTIyJTJDJTBBJTIwJTIwJTIwJTIwSUQlM0QlMjJkdXN6eW5za2kyMDExc2NhbGFibGUlMjIlMkMlMEElMjAlMjAlMjAlMjBhY20yMDE1JTNEJTIyMSUyMiUyQyUwQSUyMCUyMCUyMCUyMHBsYWNleCUzRCUyMlByb2NlZWRpbmdzJTIwb2YlMjB0aGUlMjAxNXRoJTIwSW50ZXJuYXRpb25hbCUyMFNvZnR3YXJlJTIwUHJvZHVjdCUyMExpbmUlMjBDb25mZXJlbmNlJTJDJTIwVm9sdW1lJTIwMiUyMiUyQyUwQSUyOSUyOSUwQSUyNyUyNyUyNyUyOSUzQg==\")));\n",
       "    "
      ],
      "text/plain": [
       "<IPython.core.display.Javascript object>"
      ]
     },
     "metadata": {},
     "output_type": "display_data"
    },
    {
     "data": {
      "application/javascript": [
       "$('span:contains(\"# Temp\")').closest('.cell').remove();"
      ],
      "text/plain": [
       "<IPython.core.display.Javascript object>"
      ]
     },
     "metadata": {},
     "output_type": "display_data"
    },
    {
     "data": {
      "application/javascript": [
       "\n",
       "        $('span:contains(\"# Temp\")').closest('.cell').remove();\n",
       "        var code = IPython.notebook.insert_cell_below('code');\n",
       "        code.set_text(decodeURIComponent(window.atob(\"JTIzJTIwVGVtcCUwQWluc2VydCUyOCUyNyUyNyUyNyUwQWFsMjAxNGIlMjAlM0QlMjBEQiUyOFdvcmtVbnJlbGF0ZWQlMjglMEElMjAlMjAlMjAlMjAyMDE0JTJDJTIwJTIyQ2xvdWQtYmFzZWQlMjBzdXBwb3J0JTIwZm9yJTIwZ2xvYmFsJTIwc29mdHdhcmUlMjBlbmdpbmVlcmluZyUzQSUyMFBvdGVudGlhbHMlMkMlMjByaXNrcyUyQyUyMGFuZCUyMGdhcHMlMjIlMkMlMEElMjAlMjAlMjAlMjBkaXNwbGF5JTNEJTIyYWwlMjBiJTIyJTJDJTBBJTIwJTIwJTIwJTIwYXV0aG9ycyUzRCUyMkFsLXFhZGhpJTJDJTIwTW9oYW1tZWQlMjBhbmQlMjBLZXVuZyUyQyUyMEphY2t5JTIyJTJDJTBBJTIwJTIwJTIwJTIwcGxhY2UlM0RGQUtFJTJDJTBBJTIwJTIwJTIwJTIwcHAlM0QlMjI1Ny0tNjQlMjIlMkMlMEElMjAlMjAlMjAlMjBlbnRyeXR5cGUlM0QlMjJpbnByb2NlZWRpbmdzJTIyJTJDJTBBJTIwJTIwJTIwJTIwb3JnYW5pemF0aW9uJTNEJTIyQUNNJTIyJTJDJTBBJTIwJTIwJTIwJTIwSUQlM0QlMjJhbDIwMTRjbG91ZCUyMiUyQyUwQSUyMCUyMCUyMCUyMGFjbTIwMTUlM0QlMjIxJTIyJTJDJTBBJTIwJTIwJTIwJTIwcGxhY2V4JTNEJTIyUHJvY2VlZGluZ3MlMjBvZiUyMHRoZSUyMEludGVybmF0aW9uYWwlMjBXb3Jrc2hvcCUyMG9uJTIwSW5ub3ZhdGl2ZSUyMFNvZnR3YXJlJTIwRGV2ZWxvcG1lbnQlMjBNZXRob2RvbG9naWVzJTIwYW5kJTIwUHJhY3RpY2VzJTIyJTJDJTBBJTI5JTI5JTBBJTI3JTI3JTI3JTI5JTNC\")));\n",
       "    "
      ],
      "text/plain": [
       "<IPython.core.display.Javascript object>"
      ]
     },
     "metadata": {},
     "output_type": "display_data"
    },
    {
     "data": {
      "application/javascript": [
       "$('span:contains(\"# Temp\")').closest('.cell').remove();"
      ],
      "text/plain": [
       "<IPython.core.display.Javascript object>"
      ]
     },
     "metadata": {},
     "output_type": "display_data"
    },
    {
     "data": {
      "application/javascript": [
       "\n",
       "        $('span:contains(\"# Temp\")').closest('.cell').remove();\n",
       "        var code = IPython.notebook.insert_cell_below('code');\n",
       "        code.set_text(decodeURIComponent(window.atob(\"JTIzJTIwVGVtcCUwQWluc2VydCUyOCUyNyUyNyUyNyUwQWFsMjAxNGIlMjAlM0QlMjBEQiUyOFdvcmtVbnJlbGF0ZWQlMjglMEElMjAlMjAlMjAlMjAyMDE0JTJDJTIwJTIyQ2xvdWQtYmFzZWQlMjBzdXBwb3J0JTIwZm9yJTIwZ2xvYmFsJTIwc29mdHdhcmUlMjBlbmdpbmVlcmluZyUzQSUyMFBvdGVudGlhbHMlMkMlMjByaXNrcyUyQyUyMGFuZCUyMGdhcHMlMjIlMkMlMEElMjAlMjAlMjAlMjBkaXNwbGF5JTNEJTIyYWwlMjBiJTIyJTJDJTBBJTIwJTIwJTIwJTIwYXV0aG9ycyUzRCUyMkFsLXFhZGhpJTJDJTIwTW9oYW1tZWQlMjBhbmQlMjBLZXVuZyUyQyUyMEphY2t5JTIyJTJDJTBBJTIwJTIwJTIwJTIwcGxhY2UlM0RGQUtFJTJDJTBBJTIwJTIwJTIwJTIwcHAlM0QlMjI1Ny0tNjQlMjIlMkMlMEElMjAlMjAlMjAlMjBlbnRyeXR5cGUlM0QlMjJpbnByb2NlZWRpbmdzJTIyJTJDJTBBJTIwJTIwJTIwJTIwb3JnYW5pemF0aW9uJTNEJTIyQUNNJTIyJTJDJTBBJTIwJTIwJTIwJTIwSUQlM0QlMjJhbDIwMTRjbG91ZCUyMiUyQyUwQSUyMCUyMCUyMCUyMGFjbTIwMTUlM0QlMjIxJTIyJTJDJTBBJTIwJTIwJTIwJTIwcGxhY2V4JTNEJTIyUHJvY2VlZGluZ3MlMjBvZiUyMHRoZSUyMEludGVybmF0aW9uYWwlMjBXb3Jrc2hvcCUyMG9uJTIwSW5ub3ZhdGl2ZSUyMFNvZnR3YXJlJTIwRGV2ZWxvcG1lbnQlMjBNZXRob2RvbG9naWVzJTIwYW5kJTIwUHJhY3RpY2VzJTIyJTJDJTBBJTI5JTI5JTBBJTI3JTI3JTI3JTI5JTNC\")));\n",
       "    "
      ],
      "text/plain": [
       "<IPython.core.display.Javascript object>"
      ]
     },
     "metadata": {},
     "output_type": "display_data"
    },
    {
     "data": {
      "application/javascript": [
       "$('span:contains(\"# Temp\")').closest('.cell').remove();"
      ],
      "text/plain": [
       "<IPython.core.display.Javascript object>"
      ]
     },
     "metadata": {},
     "output_type": "display_data"
    },
    {
     "data": {
      "application/javascript": [
       "\n",
       "        $('span:contains(\"# Temp\")').closest('.cell').remove();\n",
       "        var code = IPython.notebook.insert_cell_below('code');\n",
       "        code.set_text(decodeURIComponent(window.atob(\"JTIzJTIwVGVtcCUwQWluc2VydCUyOCUyNyUyNyUyNyUwQWJlbmVzdGFkMjAxMWElMjAlM0QlMjBEQiUyOFdvcmtVbnJlbGF0ZWQlMjglMEElMjAlMjAlMjAlMjAyMDExJTJDJTIwJTIyQSUyMGNvbXBhcmlzb24lMjBvZiUyMG1vZGVsLWJhc2VkJTIwYW5kJTIwanVkZ21lbnQtYmFzZWQlMjByZWxlYXNlJTIwcGxhbm5pbmclMjBpbiUyMGluY3JlbWVudGFsJTIwc29mdHdhcmUlMjBwcm9qZWN0cyUyMiUyQyUwQSUyMCUyMCUyMCUyMGRpc3BsYXklM0QlMjJiZW5lc3RhZCUyMiUyQyUwQSUyMCUyMCUyMCUyMGF1dGhvcnMlM0QlMjJCZW5lc3RhZCUyQyUyMEhhbnMlMjBDaHJpc3RpYW4lMjBhbmQlMjBIYW5uYXklMkMlMjBKbyUyMEUlMjIlMkMlMEElMjAlMjAlMjAlMjBwbGFjZSUzRElDU0UlMkMlMEElMjAlMjAlMjAlMjBwcCUzRCUyMjc2Ni0tNzc1JTIyJTJDJTBBJTIwJTIwJTIwJTIwZW50cnl0eXBlJTNEJTIyaW5wcm9jZWVkaW5ncyUyMiUyQyUwQSUyMCUyMCUyMCUyMG9yZ2FuaXphdGlvbiUzRCUyMkFDTSUyMiUyQyUwQSUyMCUyMCUyMCUyMElEJTNEJTIyYmVuZXN0YWQyMDExY29tcGFyaXNvbiUyMiUyQyUwQSUyMCUyMCUyMCUyMGFjbTIwMTUlM0QlMjIxJTIyJTJDJTBBJTIwJTIwJTIwJTIwcGxhY2V4JTNEJTIyUHJvY2VlZGluZ3MlMjBvZiUyMHRoZSUyMDMzcmQlMjBJbnRlcm5hdGlvbmFsJTIwQ29uZmVyZW5jZSUyMG9uJTIwU29mdHdhcmUlMjBFbmdpbmVlcmluZyUyMiUyQyUwQSUyOSUyOSUwQSUyNyUyNyUyNyUyOSUzQg==\")));\n",
       "    "
      ],
      "text/plain": [
       "<IPython.core.display.Javascript object>"
      ]
     },
     "metadata": {},
     "output_type": "display_data"
    },
    {
     "data": {
      "application/javascript": [
       "$('span:contains(\"# Temp\")').closest('.cell').remove();"
      ],
      "text/plain": [
       "<IPython.core.display.Javascript object>"
      ]
     },
     "metadata": {},
     "output_type": "display_data"
    },
    {
     "data": {
      "application/javascript": [
       "\n",
       "        $('span:contains(\"# Temp\")').closest('.cell').remove();\n",
       "        var code = IPython.notebook.insert_cell_below('code');\n",
       "        code.set_text(decodeURIComponent(window.atob(\"JTIzJTIwVGVtcCUwQWluc2VydCUyOCUyNyUyNyUyNyUwQWJlbmVzdGFkMjAxMWElMjAlM0QlMjBEQiUyOFdvcmtVbnJlbGF0ZWQlMjglMEElMjAlMjAlMjAlMjAyMDExJTJDJTIwJTIyQSUyMGNvbXBhcmlzb24lMjBvZiUyMG1vZGVsLWJhc2VkJTIwYW5kJTIwanVkZ21lbnQtYmFzZWQlMjByZWxlYXNlJTIwcGxhbm5pbmclMjBpbiUyMGluY3JlbWVudGFsJTIwc29mdHdhcmUlMjBwcm9qZWN0cyUyMiUyQyUwQSUyMCUyMCUyMCUyMGRpc3BsYXklM0QlMjJiZW5lc3RhZCUyMiUyQyUwQSUyMCUyMCUyMCUyMGF1dGhvcnMlM0QlMjJCZW5lc3RhZCUyQyUyMEhhbnMlMjBDaHJpc3RpYW4lMjBhbmQlMjBIYW5uYXklMkMlMjBKbyUyMEUlMjIlMkMlMEElMjAlMjAlMjAlMjBwbGFjZSUzRElDU0UlMkMlMEElMjAlMjAlMjAlMjBwcCUzRCUyMjc2Ni0tNzc1JTIyJTJDJTBBJTIwJTIwJTIwJTIwZW50cnl0eXBlJTNEJTIyaW5wcm9jZWVkaW5ncyUyMiUyQyUwQSUyMCUyMCUyMCUyMG9yZ2FuaXphdGlvbiUzRCUyMkFDTSUyMiUyQyUwQSUyMCUyMCUyMCUyMElEJTNEJTIyYmVuZXN0YWQyMDExY29tcGFyaXNvbiUyMiUyQyUwQSUyMCUyMCUyMCUyMGFjbTIwMTUlM0QlMjIxJTIyJTJDJTBBJTIwJTIwJTIwJTIwcGxhY2V4JTNEJTIyUHJvY2VlZGluZ3MlMjBvZiUyMHRoZSUyMDMzcmQlMjBJbnRlcm5hdGlvbmFsJTIwQ29uZmVyZW5jZSUyMG9uJTIwU29mdHdhcmUlMjBFbmdpbmVlcmluZyUyMiUyQyUwQSUyOSUyOSUwQSUyNyUyNyUyNyUyOSUzQg==\")));\n",
       "    "
      ],
      "text/plain": [
       "<IPython.core.display.Javascript object>"
      ]
     },
     "metadata": {},
     "output_type": "display_data"
    },
    {
     "data": {
      "application/javascript": [
       "$('span:contains(\"# Temp\")').closest('.cell').remove();"
      ],
      "text/plain": [
       "<IPython.core.display.Javascript object>"
      ]
     },
     "metadata": {},
     "output_type": "display_data"
    },
    {
     "data": {
      "application/javascript": [
       "\n",
       "        $('span:contains(\"# Temp\")').closest('.cell').remove();\n",
       "        var code = IPython.notebook.insert_cell_below('code');\n",
       "        code.set_text(decodeURIComponent(window.atob(\"JTIzJTIwVGVtcCUwQWluc2VydCUyOCUyNyUyNyUyNyUwQWZlbGRlcmVyMjAxNGMlMjAlM0QlMjBEQiUyOFdvcmtVbnJlbGF0ZWQlMjglMEElMjAlMjAlMjAlMjAyMDE0JTJDJTIwJTIySW5kdXN0cmlhbCUyMGV2YWx1YXRpb24lMjBvZiUyMHRoZSUyMGltcGFjdCUyMG9mJTIwcXVhbGl0eS1kcml2ZW4lMjByZWxlYXNlJTIwcGxhbm5pbmclMjIlMkMlMEElMjAlMjAlMjAlMjBkaXNwbGF5JTNEJTIyZmVsZGVyZXIlMjBjJTIyJTJDJTBBJTIwJTIwJTIwJTIwYXV0aG9ycyUzRCUyMkZlbGRlcmVyJTJDJTIwTWljaGFlbCUyMGFuZCUyMEJlZXIlMkMlMjBBcm1pbiUyMGFuZCUyMEhvJTJDJTIwSmFzb24lMjBhbmQlMjBSdWhlJTJDJTIwR3VlbnRoZXIlMjIlMkMlMEElMjAlMjAlMjAlMjBwbGFjZSUzREVTRU0lMkMlMEElMjAlMjAlMjAlMjBwcCUzRCUyMjYyJTIyJTJDJTBBJTIwJTIwJTIwJTIwZW50cnl0eXBlJTNEJTIyaW5wcm9jZWVkaW5ncyUyMiUyQyUwQSUyMCUyMCUyMCUyMG9yZ2FuaXphdGlvbiUzRCUyMkFDTSUyMiUyQyUwQSUyMCUyMCUyMCUyMElEJTNEJTIyZmVsZGVyZXIyMDE0aW5kdXN0cmlhbCUyMiUyQyUwQSUyMCUyMCUyMCUyMGFjbTIwMTUlM0QlMjIxJTIyJTJDJTBBJTIwJTIwJTIwJTIwcGxhY2V4JTNEJTIyUHJvY2VlZGluZ3MlMjBvZiUyMHRoZSUyMDh0aCUyMEFDTS9JRUVFJTIwSW50ZXJuYXRpb25hbCUyMFN5bXBvc2l1bSUyMG9uJTIwRW1waXJpY2FsJTIwU29mdHdhcmUlMjBFbmdpbmVlcmluZyUyMGFuZCUyME1lYXN1cmVtZW50JTIyJTJDJTBBJTI5JTI5JTBBJTI3JTI3JTI3JTI5JTNC\")));\n",
       "    "
      ],
      "text/plain": [
       "<IPython.core.display.Javascript object>"
      ]
     },
     "metadata": {},
     "output_type": "display_data"
    },
    {
     "data": {
      "application/javascript": [
       "$('span:contains(\"# Temp\")').closest('.cell').remove();"
      ],
      "text/plain": [
       "<IPython.core.display.Javascript object>"
      ]
     },
     "metadata": {},
     "output_type": "display_data"
    },
    {
     "data": {
      "application/javascript": [
       "\n",
       "        $('span:contains(\"# Temp\")').closest('.cell').remove();\n",
       "        var code = IPython.notebook.insert_cell_below('code');\n",
       "        code.set_text(decodeURIComponent(window.atob(\"JTIzJTIwVGVtcCUwQWluc2VydCUyOCUyNyUyNyUyNyUwQWZlbGRlcmVyMjAxNGMlMjAlM0QlMjBEQiUyOFdvcmtVbnJlbGF0ZWQlMjglMEElMjAlMjAlMjAlMjAyMDE0JTJDJTIwJTIySW5kdXN0cmlhbCUyMGV2YWx1YXRpb24lMjBvZiUyMHRoZSUyMGltcGFjdCUyMG9mJTIwcXVhbGl0eS1kcml2ZW4lMjByZWxlYXNlJTIwcGxhbm5pbmclMjIlMkMlMEElMjAlMjAlMjAlMjBkaXNwbGF5JTNEJTIyZmVsZGVyZXIlMjBjJTIyJTJDJTBBJTIwJTIwJTIwJTIwYXV0aG9ycyUzRCUyMkZlbGRlcmVyJTJDJTIwTWljaGFlbCUyMGFuZCUyMEJlZXIlMkMlMjBBcm1pbiUyMGFuZCUyMEhvJTJDJTIwSmFzb24lMjBhbmQlMjBSdWhlJTJDJTIwR3VlbnRoZXIlMjIlMkMlMEElMjAlMjAlMjAlMjBwbGFjZSUzREVTRU0lMkMlMEElMjAlMjAlMjAlMjBwcCUzRCUyMjYyJTIyJTJDJTBBJTIwJTIwJTIwJTIwZW50cnl0eXBlJTNEJTIyaW5wcm9jZWVkaW5ncyUyMiUyQyUwQSUyMCUyMCUyMCUyMG9yZ2FuaXphdGlvbiUzRCUyMkFDTSUyMiUyQyUwQSUyMCUyMCUyMCUyMElEJTNEJTIyZmVsZGVyZXIyMDE0aW5kdXN0cmlhbCUyMiUyQyUwQSUyMCUyMCUyMCUyMGFjbTIwMTUlM0QlMjIxJTIyJTJDJTBBJTIwJTIwJTIwJTIwcGxhY2V4JTNEJTIyUHJvY2VlZGluZ3MlMjBvZiUyMHRoZSUyMDh0aCUyMEFDTS9JRUVFJTIwSW50ZXJuYXRpb25hbCUyMFN5bXBvc2l1bSUyMG9uJTIwRW1waXJpY2FsJTIwU29mdHdhcmUlMjBFbmdpbmVlcmluZyUyMGFuZCUyME1lYXN1cmVtZW50JTIyJTJDJTBBJTI5JTI5JTBBJTI3JTI3JTI3JTI5JTNC\")));\n",
       "    "
      ],
      "text/plain": [
       "<IPython.core.display.Javascript object>"
      ]
     },
     "metadata": {},
     "output_type": "display_data"
    },
    {
     "data": {
      "application/javascript": [
       "$('span:contains(\"# Temp\")').closest('.cell').remove();"
      ],
      "text/plain": [
       "<IPython.core.display.Javascript object>"
      ]
     },
     "metadata": {},
     "output_type": "display_data"
    },
    {
     "data": {
      "application/javascript": [
       "\n",
       "        $('span:contains(\"# Temp\")').closest('.cell').remove();\n",
       "        var code = IPython.notebook.insert_cell_below('code');\n",
       "        code.set_text(decodeURIComponent(window.atob(\"JTIzJTIwVGVtcCUwQWluc2VydCUyOCUyNyUyNyUyNyUwQWRlc2FpMjAwOWElMjAlM0QlMjBEQiUyOFdvcmtVbnJlbGF0ZWQlMjglMEElMjAlMjAlMjAlMjAyMDA5JTJDJTIwJTIyQW1vZWJhJTNBJTIwQSUyMG1ldGhvZG9sb2d5JTIwZm9yJTIwbW9kZWxpbmclMjBhbmQlMjBldm9sdmluZyUyMGNyb3NzLW9yZ2FuaXphdGlvbmFsJTIwYnVzaW5lc3MlMjBwcm9jZXNzZXMlMjIlMkMlMEElMjAlMjAlMjAlMjBkaXNwbGF5JTNEJTIyZGVzYWklMjIlMkMlMEElMjAlMjAlMjAlMjBhdXRob3JzJTNEJTIyRGVzYWklMkMlMjBOaXJtaXQlMjBhbmQlMjBDaG9wcmElMkMlMjBBbWl0JTIwSyUyMGFuZCUyMFNpbmdoJTJDJTIwTXVuaW5kYXIlMjBQJTIyJTJDJTBBJTIwJTIwJTIwJTIwcGxhY2UlM0RUb1NFJTJDJTBBJTIwJTIwJTIwJTIwcHAlM0QlMjI2JTIyJTJDJTBBJTIwJTIwJTIwJTIwZW50cnl0eXBlJTNEJTIyYXJ0aWNsZSUyMiUyQyUwQSUyMCUyMCUyMCUyMHZvbHVtZSUzRCUyMjE5JTIyJTJDJTBBJTIwJTIwJTIwJTIwbnVtYmVyJTNEJTIyMiUyMiUyQyUwQSUyMCUyMCUyMCUyMHB1Ymxpc2hlciUzRCUyMkFDTSUyMiUyQyUwQSUyMCUyMCUyMCUyMElEJTNEJTIyZGVzYWkyMDA5YW1vZWJhJTIyJTJDJTBBJTIwJTIwJTIwJTIwYWNtMjAxNSUzRCUyMjElMjIlMkMlMEElMjAlMjAlMjAlMjBwbGFjZXglM0QlMjJBQ00lMjBUcmFuc2FjdGlvbnMlMjBvbiUyMFNvZnR3YXJlJTIwRW5naW5lZXJpbmclMjBhbmQlMjBNZXRob2RvbG9neSUyMCUyOFRPU0VNJTI5JTIyJTJDJTBBJTI5JTI5JTBBJTI3JTI3JTI3JTI5JTNC\")));\n",
       "    "
      ],
      "text/plain": [
       "<IPython.core.display.Javascript object>"
      ]
     },
     "metadata": {},
     "output_type": "display_data"
    },
    {
     "data": {
      "application/javascript": [
       "$('span:contains(\"# Temp\")').closest('.cell').remove();"
      ],
      "text/plain": [
       "<IPython.core.display.Javascript object>"
      ]
     },
     "metadata": {},
     "output_type": "display_data"
    },
    {
     "data": {
      "application/javascript": [
       "\n",
       "        $('span:contains(\"# Temp\")').closest('.cell').remove();\n",
       "        var code = IPython.notebook.insert_cell_below('code');\n",
       "        code.set_text(decodeURIComponent(window.atob(\"JTIzJTIwVGVtcCUwQWluc2VydCUyOCUyNyUyNyUyNyUwQWRlc2FpMjAwOWElMjAlM0QlMjBEQiUyOFdvcmtVbnJlbGF0ZWQlMjglMEElMjAlMjAlMjAlMjAyMDA5JTJDJTIwJTIyQW1vZWJhJTNBJTIwQSUyMG1ldGhvZG9sb2d5JTIwZm9yJTIwbW9kZWxpbmclMjBhbmQlMjBldm9sdmluZyUyMGNyb3NzLW9yZ2FuaXphdGlvbmFsJTIwYnVzaW5lc3MlMjBwcm9jZXNzZXMlMjIlMkMlMEElMjAlMjAlMjAlMjBkaXNwbGF5JTNEJTIyZGVzYWklMjIlMkMlMEElMjAlMjAlMjAlMjBhdXRob3JzJTNEJTIyRGVzYWklMkMlMjBOaXJtaXQlMjBhbmQlMjBDaG9wcmElMkMlMjBBbWl0JTIwSyUyMGFuZCUyMFNpbmdoJTJDJTIwTXVuaW5kYXIlMjBQJTIyJTJDJTBBJTIwJTIwJTIwJTIwcGxhY2UlM0RUb1NFJTJDJTBBJTIwJTIwJTIwJTIwcHAlM0QlMjI2JTIyJTJDJTBBJTIwJTIwJTIwJTIwZW50cnl0eXBlJTNEJTIyYXJ0aWNsZSUyMiUyQyUwQSUyMCUyMCUyMCUyMHZvbHVtZSUzRCUyMjE5JTIyJTJDJTBBJTIwJTIwJTIwJTIwbnVtYmVyJTNEJTIyMiUyMiUyQyUwQSUyMCUyMCUyMCUyMHB1Ymxpc2hlciUzRCUyMkFDTSUyMiUyQyUwQSUyMCUyMCUyMCUyMElEJTNEJTIyZGVzYWkyMDA5YW1vZWJhJTIyJTJDJTBBJTIwJTIwJTIwJTIwYWNtMjAxNSUzRCUyMjElMjIlMkMlMEElMjAlMjAlMjAlMjBwbGFjZXglM0QlMjJBQ00lMjBUcmFuc2FjdGlvbnMlMjBvbiUyMFNvZnR3YXJlJTIwRW5naW5lZXJpbmclMjBhbmQlMjBNZXRob2RvbG9neSUyMCUyOFRPU0VNJTI5JTIyJTJDJTBBJTI5JTI5JTBBJTI3JTI3JTI3JTI5JTNC\")));\n",
       "    "
      ],
      "text/plain": [
       "<IPython.core.display.Javascript object>"
      ]
     },
     "metadata": {},
     "output_type": "display_data"
    },
    {
     "data": {
      "application/javascript": [
       "$('span:contains(\"# Temp\")').closest('.cell').remove();"
      ],
      "text/plain": [
       "<IPython.core.display.Javascript object>"
      ]
     },
     "metadata": {},
     "output_type": "display_data"
    },
    {
     "data": {
      "application/javascript": [
       "\n",
       "        $('span:contains(\"# Temp\")').closest('.cell').remove();\n",
       "        var code = IPython.notebook.insert_cell_below('code');\n",
       "        code.set_text(decodeURIComponent(window.atob(\"JTIzJTIwVGVtcCUwQWluc2VydCUyOCUyNyUyNyUyNyUwQWhhcnRlcjIwMDBhJTIwJTNEJTIwREIlMjhXb3JrVW5yZWxhdGVkJTI4JTBBJTIwJTIwJTIwJTIwMjAwMCUyQyUyMCUyMlByb2Nlc3MlMjBtYXR1cml0eSUyMGFuZCUyMHNvZnR3YXJlJTIwcXVhbGl0eSUzQSUyMGElMjBmaWVsZCUyMHN0dWR5JTIyJTJDJTBBJTIwJTIwJTIwJTIwZGlzcGxheSUzRCUyMmhhcnRlciUyMiUyQyUwQSUyMCUyMCUyMCUyMGF1dGhvcnMlM0QlMjJIYXJ0ZXIlMkMlMjBEb25hbGQlMjBFJTIwYW5kJTIwU2xhdWdodGVyJTJDJTIwU2FuZHJhJTIwQSUyMiUyQyUwQSUyMCUyMCUyMCUyMHBsYWNlJTNESUNFSVMlMkMlMEElMjAlMjAlMjAlMjBwcCUzRCUyMjQwNy0tNDExJTIyJTJDJTBBJTIwJTIwJTIwJTIwZW50cnl0eXBlJTNEJTIyaW5wcm9jZWVkaW5ncyUyMiUyQyUwQSUyMCUyMCUyMCUyMG9yZ2FuaXphdGlvbiUzRCUyMkFzc29jaWF0aW9uJTIwZm9yJTIwSW5mb3JtYXRpb24lMjBTeXN0ZW1zJTIyJTJDJTBBJTIwJTIwJTIwJTIwSUQlM0QlMjJoYXJ0ZXIyMDAwcHJvY2VzcyUyMiUyQyUwQSUyMCUyMCUyMCUyMGFjbTIwMTUlM0QlMjIxJTIyJTJDJTBBJTIwJTIwJTIwJTIwcGxhY2V4JTNEJTIyUHJvY2VlZGluZ3MlMjBvZiUyMHRoZSUyMHR3ZW50eSUyMGZpcnN0JTIwaW50ZXJuYXRpb25hbCUyMGNvbmZlcmVuY2UlMjBvbiUyMEluZm9ybWF0aW9uJTIwc3lzdGVtcyUyMiUyQyUwQSUyOSUyOSUwQSUyNyUyNyUyNyUyOSUzQg==\")));\n",
       "    "
      ],
      "text/plain": [
       "<IPython.core.display.Javascript object>"
      ]
     },
     "metadata": {},
     "output_type": "display_data"
    },
    {
     "data": {
      "application/javascript": [
       "$('span:contains(\"# Temp\")').closest('.cell').remove();"
      ],
      "text/plain": [
       "<IPython.core.display.Javascript object>"
      ]
     },
     "metadata": {},
     "output_type": "display_data"
    },
    {
     "data": {
      "application/javascript": [
       "\n",
       "        $('span:contains(\"# Temp\")').closest('.cell').remove();\n",
       "        var code = IPython.notebook.insert_cell_below('code');\n",
       "        code.set_text(decodeURIComponent(window.atob(\"JTIzJTIwVGVtcCUwQWluc2VydCUyOCUyNyUyNyUyNyUwQWhhcnRlcjIwMDBhJTIwJTNEJTIwREIlMjhXb3JrVW5yZWxhdGVkJTI4JTBBJTIwJTIwJTIwJTIwMjAwMCUyQyUyMCUyMlByb2Nlc3MlMjBtYXR1cml0eSUyMGFuZCUyMHNvZnR3YXJlJTIwcXVhbGl0eSUzQSUyMGElMjBmaWVsZCUyMHN0dWR5JTIyJTJDJTBBJTIwJTIwJTIwJTIwZGlzcGxheSUzRCUyMmhhcnRlciUyMiUyQyUwQSUyMCUyMCUyMCUyMGF1dGhvcnMlM0QlMjJIYXJ0ZXIlMkMlMjBEb25hbGQlMjBFJTIwYW5kJTIwU2xhdWdodGVyJTJDJTIwU2FuZHJhJTIwQSUyMiUyQyUwQSUyMCUyMCUyMCUyMHBsYWNlJTNESUNFSVMlMkMlMEElMjAlMjAlMjAlMjBwcCUzRCUyMjQwNy0tNDExJTIyJTJDJTBBJTIwJTIwJTIwJTIwZW50cnl0eXBlJTNEJTIyaW5wcm9jZWVkaW5ncyUyMiUyQyUwQSUyMCUyMCUyMCUyMG9yZ2FuaXphdGlvbiUzRCUyMkFzc29jaWF0aW9uJTIwZm9yJTIwSW5mb3JtYXRpb24lMjBTeXN0ZW1zJTIyJTJDJTBBJTIwJTIwJTIwJTIwSUQlM0QlMjJoYXJ0ZXIyMDAwcHJvY2VzcyUyMiUyQyUwQSUyMCUyMCUyMCUyMGFjbTIwMTUlM0QlMjIxJTIyJTJDJTBBJTIwJTIwJTIwJTIwcGxhY2V4JTNEJTIyUHJvY2VlZGluZ3MlMjBvZiUyMHRoZSUyMHR3ZW50eSUyMGZpcnN0JTIwaW50ZXJuYXRpb25hbCUyMGNvbmZlcmVuY2UlMjBvbiUyMEluZm9ybWF0aW9uJTIwc3lzdGVtcyUyMiUyQyUwQSUyOSUyOSUwQSUyNyUyNyUyNyUyOSUzQg==\")));\n",
       "    "
      ],
      "text/plain": [
       "<IPython.core.display.Javascript object>"
      ]
     },
     "metadata": {},
     "output_type": "display_data"
    }
   ],
   "source": [
    "from custom_snowballing import UnrelatedInsert\n",
    "UnrelatedInsert(\"acm2015\", articles=article_list)"
   ]
  },
  {
   "cell_type": "code",
   "execution_count": 150,
   "metadata": {},
   "outputs": [
    {
     "name": "stdout",
     "output_type": "stream",
     "text": [
      "-Insert: harter2000a\n"
     ]
    }
   ],
   "source": [
    "# Temp\n",
    "insert('''\n",
    "harter2000a = DB(WorkUnrelated(\n",
    "    2000, \"Process maturity and software quality: a field study\",\n",
    "    display=\"harter\",\n",
    "    authors=\"Harter, Donald E and Slaughter, Sandra A\",\n",
    "    place=ICEIS,\n",
    "    pp=\"407--411\",\n",
    "    entrytype=\"inproceedings\",\n",
    "    organization=\"Association for Information Systems\",\n",
    "    ID=\"harter2000process\",\n",
    "    acm2015=\"1\",\n",
    "    placex=\"Proceedings of the twenty first international conference on Information systems\",\n",
    "))\n",
    "''');"
   ]
  },
  {
   "cell_type": "code",
   "execution_count": null,
   "metadata": {},
   "outputs": [],
   "source": [
    "ArticleNavigator(articles=article_list)"
   ]
  }
 ],
 "metadata": {
  "kernelspec": {
   "display_name": "Python 3",
   "language": "python",
   "name": "python3"
  },
  "language_info": {
   "codemirror_mode": {
    "name": "ipython",
    "version": 3
   },
   "file_extension": ".py",
   "mimetype": "text/x-python",
   "name": "python",
   "nbconvert_exporter": "python",
   "pygments_lexer": "ipython3",
   "version": "3.6.0"
  },
  "toc": {
   "nav_menu": {
    "height": "12px",
    "width": "252px"
   },
   "number_sections": true,
   "sideBar": true,
   "skip_h1_title": false,
   "toc_cell": false,
   "toc_position": {},
   "toc_section_display": "block",
   "toc_window_display": false
  }
 },
 "nbformat": 4,
 "nbformat_minor": 2
}
