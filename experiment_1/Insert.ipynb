{
 "cells": [
  {
   "cell_type": "code",
   "execution_count": 38,
   "metadata": {
    "collapsed": true
   },
   "outputs": [],
   "source": [
    "import database\n",
    "from snowballing.operations import load_work, reload, work_by_varname\n",
    "from snowballing.snowballing import Converter\n",
    "from snowballing.snowballing import ArticleNavigator\n",
    "from snowballing.dbmanager import insert, set_attribute"
   ]
  },
  {
   "cell_type": "code",
   "execution_count": 39,
   "metadata": {
    "scrolled": false
   },
   "outputs": [
    {
     "data": {
      "application/vnd.jupyter.widget-view+json": {
       "model_id": "738350d8dbad45c9ab354f35037d9480",
       "version_major": 2,
       "version_minor": 0
      },
      "text/html": [
       "<p>Failed to display Jupyter Widget of type <code>VBox</code>.</p>\n",
       "<p>\n",
       "  If you're reading this message in Jupyter Notebook or JupyterLab, it may mean\n",
       "  that the widgets JavaScript is still loading. If this message persists, it\n",
       "  likely means that the widgets JavaScript library is either not installed or\n",
       "  not enabled. See the <a href=\"https://ipywidgets.readthedocs.io/en/stable/user_install.html\">Jupyter\n",
       "  Widgets Documentation</a> for setup instructions.\n",
       "</p>\n",
       "<p>\n",
       "  If you're reading this message in another notebook frontend (for example, a static\n",
       "  rendering on GitHub or <a href=\"https://nbviewer.jupyter.org/\">NBViewer</a>),\n",
       "  it may mean that your frontend doesn't currently support widgets.\n",
       "</p>\n"
      ],
      "text/plain": [
       "VBox(children=(HBox(children=(Dropdown(options={'BibTeX': 'bibtex', 'Text': 'text', '[N] author name place other year': 'citation', 'Quoted': 'quoted'}, value='bibtex'), Button(description='Set article_list variable', style=ButtonStyle()), Label(value=''))), HBox(children=(Textarea(value='', layout=Layout(height='500px', width='50%')), Textarea(value='', layout=Layout(height='500px', width='50%'))))))"
      ]
     },
     "metadata": {},
     "output_type": "display_data"
    }
   ],
   "source": [
    "Converter(\"bibtex\")"
   ]
  },
  {
   "cell_type": "code",
   "execution_count": 40,
   "metadata": {},
   "outputs": [
    {
     "data": {
      "text/plain": [
       "1"
      ]
     },
     "execution_count": 40,
     "metadata": {},
     "output_type": "execute_result"
    }
   ],
   "source": [
    "len(article_list)"
   ]
  },
  {
   "cell_type": "code",
   "execution_count": null,
   "metadata": {
    "collapsed": true
   },
   "outputs": [],
   "source": [
    "from snowballing.operations import reload\n",
    "reload()\n"
   ]
  },
  {
   "cell_type": "code",
   "execution_count": 41,
   "metadata": {
    "scrolled": false
   },
   "outputs": [
    {
     "data": {
      "application/vnd.jupyter.widget-view+json": {
       "model_id": "30e7062afafe4f2bb08cc7647ab4693a",
       "version_major": 2,
       "version_minor": 0
      },
      "text/html": [
       "<p>Failed to display Jupyter Widget of type <code>VBox</code>.</p>\n",
       "<p>\n",
       "  If you're reading this message in Jupyter Notebook or JupyterLab, it may mean\n",
       "  that the widgets JavaScript is still loading. If this message persists, it\n",
       "  likely means that the widgets JavaScript library is either not installed or\n",
       "  not enabled. See the <a href=\"https://ipywidgets.readthedocs.io/en/stable/user_install.html\">Jupyter\n",
       "  Widgets Documentation</a> for setup instructions.\n",
       "</p>\n",
       "<p>\n",
       "  If you're reading this message in another notebook frontend (for example, a static\n",
       "  rendering on GitHub or <a href=\"https://nbviewer.jupyter.org/\">NBViewer</a>),\n",
       "  it may mean that your frontend doesn't currently support widgets.\n",
       "</p>\n"
      ],
      "text/plain": [
       "VBox(children=(HBox(children=(Button(description='Previous Article', disabled=True, icon='caret-left', style=ButtonStyle()), Button(description='Reload Article', icon='refresh', style=ButtonStyle()), Button(description='Next Article', disabled=True, icon='caret-right', style=ButtonStyle()))), HBox(children=(Button(description='Unrelated: Scripts', style=ButtonStyle()), Button(description='Unrelated: Provenance', style=ButtonStyle()), Button(description='Both', style=ButtonStyle()), Button(description='Ok', style=ButtonStyle()))), HBox(children=(Dropdown(description='Type', options=('Work', 'WorkSnowball', 'WorkForward', 'WorkBackward', 'WorkOk', 'WorkUnrelated', 'WorkNoFile', 'WorkLang', 'Site', 'Email'), value='Work'), ToggleButton(value=False, description='File'))), HBox(children=(Text(value='', description='Due'), Text(value='', description='Place'))), HBox(children=(Text(value='', description='Year'), Text(value='', description='Prefix Var'))), HBox(children=(Text(value='', description='PDFPage'), Text(value='', description='Related'))), HBox(children=(Text(value='', description='Display'), Text(value='', description='Summary'))), HBox(children=(Text(value='', description='Star'), Text(value='', description='Link'))), HBox(children=(Button(description='Reload Article', icon='refresh', style=ButtonStyle()), IntSlider(value=0, max=0), Label(value='1/1'))), Output()))"
      ]
     },
     "metadata": {},
     "output_type": "display_data"
    },
    {
     "data": {
      "application/javascript": [
       "$('span:contains(\"# Temp\")').closest('.cell').remove();"
      ],
      "text/plain": [
       "<IPython.core.display.Javascript object>"
      ]
     },
     "metadata": {},
     "output_type": "display_data"
    },
    {
     "data": {
      "application/javascript": [
       "\n",
       "        $('span:contains(\"# Temp\")').closest('.cell').remove();\n",
       "        var code = IPython.notebook.insert_cell_below('code');\n",
       "        code.set_text(atob(\"IyBUZW1wCmluc2VydCgnJycKbWFydGluczIwMDhhID0gREIoV29ya1Nub3diYWxsKAogICAgMjAwOCwgIlByb3BhbWV0OiBBIG1ldHJpYyBmb3IgcHJvY2VzcyBhbmQgcHJvamVjdCBhbGlnbm1lbnQiLAogICAgZGlzcGxheT0ibWFydGlucyIsCiAgICBhdXRob3JzPSJNYXJ0aW5zLCBQLlYuIGFuZCBTaWx2YSwgQS5SLkQuIiwKICAgIHBsYWNlPUNDSVMsCiAgICBwcD0iMjAxLTIxMiIsCiAgICBlbnRyeXR5cGU9ImFydGljbGUiLAogICAgdm9sdW1lPSIxNiIsCiAgICBub3RlPSJjaXRlZCBCeSA2IiwKICAgIGxpbms9Imh0dHBzOi8vd3d3LnNjb3B1cy5jb20vaW53YXJkL3JlY29yZC51cmk/ZWlkPTItczIuMC04NDk4ODAyMTI2MyZwYXJ0bmVySUQ9NDAmbWQ1PTg2OTRjOGQ4OTYxNjI2ODI3MGQyN2EzNWRlZDdkZGE5IiwKICAgIGRvY3VtZW50X3R5cGU9IkNvbmZlcmVuY2UgUGFwZXIiLAogICAgc291cmNlPSJTY29wdXMiLAogICAgSUQ9Ik1hcnRpbnMyMDA4MjAxIiwKKSkKJycnKTs=\"));\n",
       "    "
      ],
      "text/plain": [
       "<IPython.core.display.Javascript object>"
      ]
     },
     "metadata": {},
     "output_type": "display_data"
    }
   ],
   "source": [
    "ArticleNavigator(articles=article_list)"
   ]
  },
  {
   "cell_type": "code",
   "execution_count": 42,
   "metadata": {},
   "outputs": [
    {
     "name": "stdout",
     "output_type": "stream",
     "text": [
      "-Insert: martins2008a\n"
     ]
    }
   ],
   "source": [
    "# Temp\n",
    "insert('''\n",
    "martins2008a = DB(WorkSnowball(\n",
    "    2008, \"Propamet: A metric for process and project alignment\",\n",
    "    display=\"martins\",\n",
    "    authors=\"Martins, P.V. and Silva, A.R.D.\",\n",
    "    place=CCIS,\n",
    "    pp=\"201-212\",\n",
    "    entrytype=\"article\",\n",
    "    volume=\"16\",\n",
    "    note=\"cited By 6\",\n",
    "    link=\"https://www.scopus.com/inward/record.uri?eid=2-s2.0-84988021263&partnerID=40&md5=8694c8d89616268270d27a35ded7dda9\",\n",
    "    document_type=\"Conference Paper\",\n",
    "    source=\"Scopus\",\n",
    "    ID=\"Martins2008201\",\n",
    "))\n",
    "''');"
   ]
  },
  {
   "cell_type": "code",
   "execution_count": null,
   "metadata": {},
   "outputs": [],
   "source": [
    "from custom_snowballing import UnrelatedInsert\n",
    "UnrelatedInsert(\"scopus\", articles=article_list)"
   ]
  },
  {
   "cell_type": "code",
   "execution_count": null,
   "metadata": {
    "collapsed": true
   },
   "outputs": [],
   "source": []
  },
  {
   "cell_type": "code",
   "execution_count": null,
   "metadata": {
    "collapsed": true
   },
   "outputs": [],
   "source": [
    "ArticleNavigator(articles=article_list)"
   ]
  }
 ],
 "metadata": {
  "kernelspec": {
   "display_name": "Python 3",
   "language": "python",
   "name": "python3"
  },
  "language_info": {
   "codemirror_mode": {
    "name": "ipython",
    "version": 3
   },
   "file_extension": ".py",
   "mimetype": "text/x-python",
   "name": "python",
   "nbconvert_exporter": "python",
   "pygments_lexer": "ipython3",
   "version": "3.6.0"
  },
  "toc": {
   "nav_menu": {
    "height": "12px",
    "width": "252px"
   },
   "number_sections": true,
   "sideBar": true,
   "skip_h1_title": false,
   "toc_cell": false,
   "toc_position": {},
   "toc_section_display": "block",
   "toc_window_display": false
  }
 },
 "nbformat": 4,
 "nbformat_minor": 2
}
