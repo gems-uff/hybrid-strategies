{
 "cells": [
  {
   "cell_type": "code",
   "execution_count": 1,
   "metadata": {
    "collapsed": true
   },
   "outputs": [],
   "source": [
    "import database\n",
    "from snowballing.operations import load_work, reload, work_by_varname\n",
    "from snowballing.snowballing import Converter\n",
    "from snowballing.snowballing import ArticleNavigator\n",
    "from snowballing.dbmanager import insert, set_attribute"
   ]
  },
  {
   "cell_type": "code",
   "execution_count": 2,
   "metadata": {
    "scrolled": false
   },
   "outputs": [
    {
     "data": {
      "application/vnd.jupyter.widget-view+json": {
       "model_id": "207de85c21a740d18393cc0342584ce5",
       "version_major": 2,
       "version_minor": 0
      },
      "text/html": [
       "<p>Failed to display Jupyter Widget of type <code>VBox</code>.</p>\n",
       "<p>\n",
       "  If you're reading this message in Jupyter Notebook or JupyterLab, it may mean\n",
       "  that the widgets JavaScript is still loading. If this message persists, it\n",
       "  likely means that the widgets JavaScript library is either not installed or\n",
       "  not enabled. See the <a href=\"https://ipywidgets.readthedocs.io/en/stable/user_install.html\">Jupyter\n",
       "  Widgets Documentation</a> for setup instructions.\n",
       "</p>\n",
       "<p>\n",
       "  If you're reading this message in another notebook frontend (for example, a static\n",
       "  rendering on GitHub or <a href=\"https://nbviewer.jupyter.org/\">NBViewer</a>),\n",
       "  it may mean that your frontend doesn't currently support widgets.\n",
       "</p>\n"
      ],
      "text/plain": [
       "VBox(children=(HBox(children=(Dropdown(options={'BibTeX': 'bibtex', 'Text': 'text', '[N] author name place other year': 'citation', 'Quoted': 'quoted'}, value='bibtex'), Button(description='Set article_list variable', style=ButtonStyle()), Label(value=''))), HBox(children=(Textarea(value='', layout=Layout(height='500px', width='50%')), Textarea(value='', layout=Layout(height='500px', width='50%'))))))"
      ]
     },
     "metadata": {},
     "output_type": "display_data"
    }
   ],
   "source": [
    "Converter(\"bibtex\")"
   ]
  },
  {
   "cell_type": "code",
   "execution_count": 3,
   "metadata": {},
   "outputs": [
    {
     "data": {
      "text/plain": [
       "109"
      ]
     },
     "execution_count": 3,
     "metadata": {},
     "output_type": "execute_result"
    }
   ],
   "source": [
    "len(article_list)"
   ]
  },
  {
   "cell_type": "code",
   "execution_count": 4,
   "metadata": {
    "collapsed": true
   },
   "outputs": [],
   "source": [
    "from snowballing.operations import reload\n",
    "reload()\n"
   ]
  },
  {
   "cell_type": "code",
   "execution_count": null,
   "metadata": {
    "collapsed": true
   },
   "outputs": [],
   "source": []
  },
  {
   "cell_type": "code",
   "execution_count": 6,
   "metadata": {},
   "outputs": [
    {
     "data": {
      "application/vnd.jupyter.widget-view+json": {
       "model_id": "d00316d97edb43c2a60ecf5c8f7f9d46",
       "version_major": 2,
       "version_minor": 0
      },
      "text/html": [
       "<p>Failed to display Jupyter Widget of type <code>VBox</code>.</p>\n",
       "<p>\n",
       "  If you're reading this message in Jupyter Notebook or JupyterLab, it may mean\n",
       "  that the widgets JavaScript is still loading. If this message persists, it\n",
       "  likely means that the widgets JavaScript library is either not installed or\n",
       "  not enabled. See the <a href=\"https://ipywidgets.readthedocs.io/en/stable/user_install.html\">Jupyter\n",
       "  Widgets Documentation</a> for setup instructions.\n",
       "</p>\n",
       "<p>\n",
       "  If you're reading this message in another notebook frontend (for example, a static\n",
       "  rendering on GitHub or <a href=\"https://nbviewer.jupyter.org/\">NBViewer</a>),\n",
       "  it may mean that your frontend doesn't currently support widgets.\n",
       "</p>\n"
      ],
      "text/plain": [
       "VBox(children=(HBox(children=(Button(description='Previous Article', disabled=True, icon='caret-left', style=ButtonStyle()), Button(description='Reload Article', icon='refresh', style=ButtonStyle()), Button(description='Next Article', icon='caret-right', style=ButtonStyle()))), HBox(children=(Dropdown(description='Type', index=5, options=('Work', 'WorkSnowball', 'WorkForward', 'WorkBackward', 'WorkOk', 'WorkUnrelated', 'WorkNoFile', 'WorkLang', 'Site', 'Email'), value='WorkUnrelated'), ToggleButton(value=False, description='File'))), HBox(children=(Text(value='', description='Due'), Text(value='', description='Place'))), HBox(children=(Text(value='', description='Year'), Text(value='', description='Prefix Var'))), HBox(children=(Text(value='', description='PDFPage'), Text(value='', description='Related'))), HBox(children=(Text(value='', description='Display'), Text(value='', description='Summary'))), HBox(children=(Text(value='', description='Star'), Text(value='', description='Link'))), HBox(children=(Text(value='1', description='acm'),)), HBox(children=(Button(description='Reload Article', icon='refresh', style=ButtonStyle()), IntSlider(value=0, max=108), Label(value='1/109'))), Output()))"
      ]
     },
     "metadata": {},
     "output_type": "display_data"
    },
    {
     "data": {
      "application/javascript": [
       "$('span:contains(\"# Temp\")').closest('.cell').remove();"
      ],
      "text/plain": [
       "<IPython.core.display.Javascript object>"
      ]
     },
     "metadata": {},
     "output_type": "display_data"
    },
    {
     "data": {
      "application/javascript": [
       "\n",
       "        $('span:contains(\"# Temp\")').closest('.cell').remove();\n",
       "        var code = IPython.notebook.insert_cell_below('code');\n",
       "        code.set_text(atob(\"IyBUZW1wCmluc2VydCgnJycKYmxlaXN0ZWluMjAwNWEgPSBEQihXb3JrVW5yZWxhdGVkKAogICAgMjAwNSwgIlN0cmF0ZWdpYyBBbGlnbm1lbnQgaW4gUmVxdWlyZW1lbnRzIEFuYWx5c2lzIGZvciBPcmdhbml6YXRpb25hbCBJVDogQW4gSW50ZWdyYXRlZCBBcHByb2FjaCIsCiAgICBkaXNwbGF5PSJibGVpc3RlaW4iLAogICAgYXV0aG9ycz0iQmxlaXN0ZWluLCBTdGV2ZW4gSi4gYW5kIENveCwgS2FybCBhbmQgVmVybmVyLCBKdW5lIiwKICAgIHBsYWNlPUZBS0UsCiAgICBwcD0iMTMwMC0tMTMwNyIsCiAgICBlbnRyeXR5cGU9ImlucHJvY2VlZGluZ3MiLAogICAgc2VyaWVzPSJTQUMgJzA1IiwKICAgIGlzYm49IjEtNTgxMTMtOTY0LTAiLAogICAgbG9jYXRpb249IlNhbnRhIEZlLCBOZXcgTWV4aWNvIiwKICAgIElEPSJCbGVpc3RlaW46MjAwNTpTQVI6MTA2NjY3Ny4xMDY2OTcyIiwKICAgIGFjbT0iMSIsCiAgICBwbGFjZXg9IlByb2NlZWRpbmdzIG9mIHRoZSAyMDA1IEFDTSBTeW1wb3NpdW0gb24gQXBwbGllZCBDb21wdXRpbmciLAopKQonJycpOw==\"));\n",
       "    "
      ],
      "text/plain": [
       "<IPython.core.display.Javascript object>"
      ]
     },
     "metadata": {},
     "output_type": "display_data"
    },
    {
     "data": {
      "application/javascript": [
       "$('span:contains(\"# Temp\")').closest('.cell').remove();"
      ],
      "text/plain": [
       "<IPython.core.display.Javascript object>"
      ]
     },
     "metadata": {},
     "output_type": "display_data"
    },
    {
     "data": {
      "application/javascript": [
       "\n",
       "        $('span:contains(\"# Temp\")').closest('.cell').remove();\n",
       "        var code = IPython.notebook.insert_cell_below('code');\n",
       "        code.set_text(atob(\"IyBUZW1wCmluc2VydCgnJycKcGlqcGVyczIwMDhhID0gREIoV29ya1VucmVsYXRlZCgKICAgIDIwMDgsICJCdXNpbmVzcyBzdHJhdGVneS1JVCBBbGlnbm1lbnQgaW4gYSBNdWx0aS1hY3RvciBTZXR0aW5nOiBBIE1vYmlsZSBlLVNlcnZpY2UgQ2FzZSIsCiAgICBkaXNwbGF5PSJwaWpwZXJzIiwKICAgIGF1dGhvcnM9IlBpanBlcnMsIFZpbmNlbnQgYW5kIEdvcmRpam4sIEphYXAgYW5kIEFra2VybWFucywgSGFucyIsCiAgICBwbGFjZT1GQUtFLAogICAgcHA9Ijg6MS0tODoxMCIsCiAgICBlbnRyeXR5cGU9ImlucHJvY2VlZGluZ3MiLAogICAgc2VyaWVzPSJJQ0VDICcwOCIsCiAgICBpc2JuPSI5NzgtMS02MDU1OC0wNzUtMyIsCiAgICBsb2NhdGlvbj0iSW5uc2JydWNrLCBBdXN0cmlhIiwKICAgIElEPSJQaWpwZXJzOjIwMDg6QlNBOjE0MDk1NDAuMTQwOTU1MSIsCiAgICBhY209IjEiLAogICAgcGxhY2V4PSJQcm9jZWVkaW5ncyBvZiB0aGUgMTB0aCBJbnRlcm5hdGlvbmFsIENvbmZlcmVuY2Ugb24gRWxlY3Ryb25pYyBDb21tZXJjZSIsCikpCicnJyk7\"));\n",
       "    "
      ],
      "text/plain": [
       "<IPython.core.display.Javascript object>"
      ]
     },
     "metadata": {},
     "output_type": "display_data"
    },
    {
     "data": {
      "application/javascript": [
       "$('span:contains(\"# Temp\")').closest('.cell').remove();"
      ],
      "text/plain": [
       "<IPython.core.display.Javascript object>"
      ]
     },
     "metadata": {},
     "output_type": "display_data"
    },
    {
     "data": {
      "application/javascript": [
       "\n",
       "        $('span:contains(\"# Temp\")').closest('.cell').remove();\n",
       "        var code = IPython.notebook.insert_cell_below('code');\n",
       "        code.set_text(atob(\"IyBUZW1wCmluc2VydCgnJycKcGlqcGVyczIwMDhhID0gREIoV29ya1VucmVsYXRlZCgKICAgIDIwMDgsICJCdXNpbmVzcyBzdHJhdGVneS1JVCBBbGlnbm1lbnQgaW4gYSBNdWx0aS1hY3RvciBTZXR0aW5nOiBBIE1vYmlsZSBlLVNlcnZpY2UgQ2FzZSIsCiAgICBkaXNwbGF5PSJwaWpwZXJzIiwKICAgIGF1dGhvcnM9IlBpanBlcnMsIFZpbmNlbnQgYW5kIEdvcmRpam4sIEphYXAgYW5kIEFra2VybWFucywgSGFucyIsCiAgICBwbGFjZT1GQUtFLAogICAgcHA9Ijg6MS0tODoxMCIsCiAgICBlbnRyeXR5cGU9ImlucHJvY2VlZGluZ3MiLAogICAgc2VyaWVzPSJJQ0VDICcwOCIsCiAgICBpc2JuPSI5NzgtMS02MDU1OC0wNzUtMyIsCiAgICBsb2NhdGlvbj0iSW5uc2JydWNrLCBBdXN0cmlhIiwKICAgIElEPSJQaWpwZXJzOjIwMDg6QlNBOjE0MDk1NDAuMTQwOTU1MSIsCiAgICBhY209IjEiLAogICAgcGxhY2V4PSJQcm9jZWVkaW5ncyBvZiB0aGUgMTB0aCBJbnRlcm5hdGlvbmFsIENvbmZlcmVuY2Ugb24gRWxlY3Ryb25pYyBDb21tZXJjZSIsCikpCicnJyk7\"));\n",
       "    "
      ],
      "text/plain": [
       "<IPython.core.display.Javascript object>"
      ]
     },
     "metadata": {},
     "output_type": "display_data"
    },
    {
     "data": {
      "application/javascript": [
       "$('span:contains(\"# Temp\")').closest('.cell').remove();"
      ],
      "text/plain": [
       "<IPython.core.display.Javascript object>"
      ]
     },
     "metadata": {},
     "output_type": "display_data"
    },
    {
     "data": {
      "application/javascript": [
       "\n",
       "        $('span:contains(\"# Temp\")').closest('.cell').remove();\n",
       "        var code = IPython.notebook.insert_cell_below('code');\n",
       "        code.set_text(atob(\"IyBUZW1wCmluc2VydCgnJycKb3Jk8/FlejIwMDdhID0gREIoV29ya1VucmVsYXRlZCgKICAgIDIwMDcsICJTdHJhdGVneSBSZWNvbW1lbmRlciBBZ2VudHMgKEFMRVgpIC0gdGhlIE1ldGhvZG9sb2d5IiwKICAgIGRpc3BsYXk9Im9yZPPxZXoiLAogICAgYXV0aG9ycz0iUnVpeiBPcmTz8WV6LCBSb25hbGQgVXJpZWwgYW5kIGRlIGxhIFJvc2EgaSBFc3RldmEsIEpvc2VwIExsdWlzIGFuZCBHdXpt4W4tT2JhbmRvLCBKYXZpZXIiLAogICAgcGxhY2U9RkFLRSwKICAgIHBwPSIxNjk6MS0tMTY5OjMiLAogICAgZW50cnl0eXBlPSJpbnByb2NlZWRpbmdzIiwKICAgIHNlcmllcz0iQUFNQVMgJzA3IiwKICAgIGlzYm49Ijk3OC04MS05MDQyNjItNy01IiwKICAgIGxvY2F0aW9uPSJIb25vbHVsdSwgSGF3YWlpIiwKICAgIElEPSJSdWl6T3Jkb25lejoyMDA3OlNSQToxMzI5MTI1LjEzMjkzMzEiLAogICAgYWNtPSIxIiwKICAgIHBsYWNleD0iUHJvY2VlZGluZ3Mgb2YgdGhlIDZ0aCBJbnRlcm5hdGlvbmFsIEpvaW50IENvbmZlcmVuY2Ugb24gQXV0b25vbW91cyBBZ2VudHMgYW5kIE11bHRpYWdlbnQgU3lzdGVtcyIsCikpCicnJyk7\"));\n",
       "    "
      ],
      "text/plain": [
       "<IPython.core.display.Javascript object>"
      ]
     },
     "metadata": {},
     "output_type": "display_data"
    },
    {
     "data": {
      "application/javascript": [
       "$('span:contains(\"# Temp\")').closest('.cell').remove();"
      ],
      "text/plain": [
       "<IPython.core.display.Javascript object>"
      ]
     },
     "metadata": {},
     "output_type": "display_data"
    },
    {
     "data": {
      "application/javascript": [
       "\n",
       "        $('span:contains(\"# Temp\")').closest('.cell').remove();\n",
       "        var code = IPython.notebook.insert_cell_below('code');\n",
       "        code.set_text(atob(\"IyBUZW1wCmluc2VydCgnJycKb3Jk8/FlejIwMDdhID0gREIoV29ya1VucmVsYXRlZCgKICAgIDIwMDcsICJTdHJhdGVneSBSZWNvbW1lbmRlciBBZ2VudHMgKEFMRVgpIC0gdGhlIE1ldGhvZG9sb2d5IiwKICAgIGRpc3BsYXk9Im9yZPPxZXoiLAogICAgYXV0aG9ycz0iUnVpeiBPcmTz8WV6LCBSb25hbGQgVXJpZWwgYW5kIGRlIGxhIFJvc2EgaSBFc3RldmEsIEpvc2VwIExsdWlzIGFuZCBHdXpt4W4tT2JhbmRvLCBKYXZpZXIiLAogICAgcGxhY2U9RkFLRSwKICAgIHBwPSIxNjk6MS0tMTY5OjMiLAogICAgZW50cnl0eXBlPSJpbnByb2NlZWRpbmdzIiwKICAgIHNlcmllcz0iQUFNQVMgJzA3IiwKICAgIGlzYm49Ijk3OC04MS05MDQyNjItNy01IiwKICAgIGxvY2F0aW9uPSJIb25vbHVsdSwgSGF3YWlpIiwKICAgIElEPSJSdWl6T3Jkb25lejoyMDA3OlNSQToxMzI5MTI1LjEzMjkzMzEiLAogICAgYWNtPSIxIiwKICAgIHBsYWNleD0iUHJvY2VlZGluZ3Mgb2YgdGhlIDZ0aCBJbnRlcm5hdGlvbmFsIEpvaW50IENvbmZlcmVuY2Ugb24gQXV0b25vbW91cyBBZ2VudHMgYW5kIE11bHRpYWdlbnQgU3lzdGVtcyIsCikpCicnJyk7\"));\n",
       "    "
      ],
      "text/plain": [
       "<IPython.core.display.Javascript object>"
      ]
     },
     "metadata": {},
     "output_type": "display_data"
    },
    {
     "data": {
      "application/javascript": [
       "$('span:contains(\"# Temp\")').closest('.cell').remove();"
      ],
      "text/plain": [
       "<IPython.core.display.Javascript object>"
      ]
     },
     "metadata": {},
     "output_type": "display_data"
    },
    {
     "data": {
      "application/javascript": [
       "\n",
       "        $('span:contains(\"# Temp\")').closest('.cell').remove();\n",
       "        var code = IPython.notebook.insert_cell_below('code');\n",
       "        code.set_text(atob(\"IyBUZW1wCmluc2VydCgnJycKcWl1MjAwOWEgPSBEQihXb3JrVW5yZWxhdGVkKAogICAgMjAwOSwgIkEgU3R1ZHkgZm9yIEVuZCBVc2VycycgUGVyY2VwdGlvbnMgb2YgQnVzaW5lc3MgU3RyYXRlZ2ljIEZhY3RvcnMgQW1vbmcgRGlmZmVyZW50IElTL0lUIENvbnRleHRzIiwKICAgIGRpc3BsYXk9InFpdSIsCiAgICBhdXRob3JzPSJRaXUsIFdlaW1pbmcgYW5kIExpLCBEb25nIiwKICAgIHBsYWNlPUZBS0UsCiAgICBwcD0iNTItLTYxIiwKICAgIGVudHJ5dHlwZT0iYXJ0aWNsZSIsCiAgICBpc3N1ZV9kYXRlPSJGZWJ1YXJ5IDIwMDkiLAogICAgdm9sdW1lPSI0MCIsCiAgICBudW1iZXI9IjEiLAogICAgbW9udGg9ImphbiIsCiAgICBpc3NuPSIwMDk1LTAwMzMiLAogICAgSUQ9IlFpdToyMDA5OlNFVToxNDk2OTMwLjE0OTY5MzgiLAogICAgYWNtPSIxIiwKICAgIHBsYWNleD0iU0lHTUlTIERhdGFiYXNlIiwKKSkKJycnKTs=\"));\n",
       "    "
      ],
      "text/plain": [
       "<IPython.core.display.Javascript object>"
      ]
     },
     "metadata": {},
     "output_type": "display_data"
    },
    {
     "data": {
      "application/javascript": [
       "$('span:contains(\"# Temp\")').closest('.cell').remove();"
      ],
      "text/plain": [
       "<IPython.core.display.Javascript object>"
      ]
     },
     "metadata": {},
     "output_type": "display_data"
    },
    {
     "data": {
      "application/javascript": [
       "\n",
       "        $('span:contains(\"# Temp\")').closest('.cell').remove();\n",
       "        var code = IPython.notebook.insert_cell_below('code');\n",
       "        code.set_text(atob(\"IyBUZW1wCmluc2VydCgnJycKcWl1MjAwOWEgPSBEQihXb3JrVW5yZWxhdGVkKAogICAgMjAwOSwgIkEgU3R1ZHkgZm9yIEVuZCBVc2VycycgUGVyY2VwdGlvbnMgb2YgQnVzaW5lc3MgU3RyYXRlZ2ljIEZhY3RvcnMgQW1vbmcgRGlmZmVyZW50IElTL0lUIENvbnRleHRzIiwKICAgIGRpc3BsYXk9InFpdSIsCiAgICBhdXRob3JzPSJRaXUsIFdlaW1pbmcgYW5kIExpLCBEb25nIiwKICAgIHBsYWNlPUZBS0UsCiAgICBwcD0iNTItLTYxIiwKICAgIGVudHJ5dHlwZT0iYXJ0aWNsZSIsCiAgICBpc3N1ZV9kYXRlPSJGZWJ1YXJ5IDIwMDkiLAogICAgdm9sdW1lPSI0MCIsCiAgICBudW1iZXI9IjEiLAogICAgbW9udGg9ImphbiIsCiAgICBpc3NuPSIwMDk1LTAwMzMiLAogICAgSUQ9IlFpdToyMDA5OlNFVToxNDk2OTMwLjE0OTY5MzgiLAogICAgYWNtPSIxIiwKICAgIHBsYWNleD0iU0lHTUlTIERhdGFiYXNlIiwKKSkKJycnKTs=\"));\n",
       "    "
      ],
      "text/plain": [
       "<IPython.core.display.Javascript object>"
      ]
     },
     "metadata": {},
     "output_type": "display_data"
    },
    {
     "data": {
      "application/javascript": [
       "$('span:contains(\"# Temp\")').closest('.cell').remove();"
      ],
      "text/plain": [
       "<IPython.core.display.Javascript object>"
      ]
     },
     "metadata": {},
     "output_type": "display_data"
    },
    {
     "data": {
      "application/javascript": [
       "\n",
       "        $('span:contains(\"# Temp\")').closest('.cell').remove();\n",
       "        var code = IPython.notebook.insert_cell_below('code');\n",
       "        code.set_text(atob(\"IyBUZW1wCmluc2VydCgnJycKa2FyYWdpYW5uaXMyMDA3YSA9IERCKFdvcmtVbnJlbGF0ZWQoCiAgICAyMDA3LCAiQnVzaW5lc3Mtb3JpZW50ZWQgSVQgTWFuYWdlbWVudDogRGV2ZWxvcGluZyBlLUJ1c2luZXNzIEFwcGxpY2F0aW9ucyB3aXRoIEUtQlBNUyIsCiAgICBkaXNwbGF5PSJrYXJhZ2lhbm5pcyIsCiAgICBhdXRob3JzPSJLYXJhZ2lhbm5pcywgRGltaXRyaXMgYW5kIFJvbmFnaGksIEZhcmlib3JzIGFuZCBGaWxsLCBIYW5zLUdlb3JnIiwKICAgIHBsYWNlPUZBS0UsCiAgICBwcD0iOTctLTEwMCIsCiAgICBlbnRyeXR5cGU9ImlucHJvY2VlZGluZ3MiLAogICAgc2VyaWVzPSJJQ0VDICcwNyIsCiAgICBpc2JuPSI5NzgtMS01OTU5My03MDAtMSIsCiAgICBsb2NhdGlvbj0iTWlubmVhcG9saXMsIE1OLCBVU0EiLAogICAgSUQ9IkthcmFnaWFubmlzOjIwMDc6Qk1EOjEyODIxMDAuMTI4MjEyMiIsCiAgICBhY209IjEiLAogICAgcGxhY2V4PSJQcm9jZWVkaW5ncyBvZiB0aGUgTmludGggSW50ZXJuYXRpb25hbCBDb25mZXJlbmNlIG9uIEVsZWN0cm9uaWMgQ29tbWVyY2UiLAopKQonJycpOw==\"));\n",
       "    "
      ],
      "text/plain": [
       "<IPython.core.display.Javascript object>"
      ]
     },
     "metadata": {},
     "output_type": "display_data"
    },
    {
     "data": {
      "application/javascript": [
       "$('span:contains(\"# Temp\")').closest('.cell').remove();"
      ],
      "text/plain": [
       "<IPython.core.display.Javascript object>"
      ]
     },
     "metadata": {},
     "output_type": "display_data"
    },
    {
     "data": {
      "application/javascript": [
       "\n",
       "        $('span:contains(\"# Temp\")').closest('.cell').remove();\n",
       "        var code = IPython.notebook.insert_cell_below('code');\n",
       "        code.set_text(atob(\"IyBUZW1wCmluc2VydCgnJycKa2FyYWdpYW5uaXMyMDA3YSA9IERCKFdvcmtVbnJlbGF0ZWQoCiAgICAyMDA3LCAiQnVzaW5lc3Mtb3JpZW50ZWQgSVQgTWFuYWdlbWVudDogRGV2ZWxvcGluZyBlLUJ1c2luZXNzIEFwcGxpY2F0aW9ucyB3aXRoIEUtQlBNUyIsCiAgICBkaXNwbGF5PSJrYXJhZ2lhbm5pcyIsCiAgICBhdXRob3JzPSJLYXJhZ2lhbm5pcywgRGltaXRyaXMgYW5kIFJvbmFnaGksIEZhcmlib3JzIGFuZCBGaWxsLCBIYW5zLUdlb3JnIiwKICAgIHBsYWNlPUZBS0UsCiAgICBwcD0iOTctLTEwMCIsCiAgICBlbnRyeXR5cGU9ImlucHJvY2VlZGluZ3MiLAogICAgc2VyaWVzPSJJQ0VDICcwNyIsCiAgICBpc2JuPSI5NzgtMS01OTU5My03MDAtMSIsCiAgICBsb2NhdGlvbj0iTWlubmVhcG9saXMsIE1OLCBVU0EiLAogICAgSUQ9IkthcmFnaWFubmlzOjIwMDc6Qk1EOjEyODIxMDAuMTI4MjEyMiIsCiAgICBhY209IjEiLAogICAgcGxhY2V4PSJQcm9jZWVkaW5ncyBvZiB0aGUgTmludGggSW50ZXJuYXRpb25hbCBDb25mZXJlbmNlIG9uIEVsZWN0cm9uaWMgQ29tbWVyY2UiLAopKQonJycpOw==\"));\n",
       "    "
      ],
      "text/plain": [
       "<IPython.core.display.Javascript object>"
      ]
     },
     "metadata": {},
     "output_type": "display_data"
    },
    {
     "data": {
      "application/javascript": [
       "$('span:contains(\"# Temp\")').closest('.cell').remove();"
      ],
      "text/plain": [
       "<IPython.core.display.Javascript object>"
      ]
     },
     "metadata": {},
     "output_type": "display_data"
    },
    {
     "data": {
      "application/javascript": [
       "\n",
       "        $('span:contains(\"# Temp\")').closest('.cell').remove();\n",
       "        var code = IPython.notebook.insert_cell_below('code');\n",
       "        code.set_text(atob(\"IyBUZW1wCmluc2VydCgnJycKbmlldGVyczIwMTFhID0gREIoV29ya1VucmVsYXRlZCgKICAgIDIwMTEsICJMZWFkaW5nIENoYW5nZSB3aXRoIENvbGxhYm9yYXRpdmUgRGVzaWduIFdvcmtzaG9wcyIsCiAgICBkaXNwbGF5PSJuaWV0ZXJzIiwKICAgIGF1dGhvcnM9Ik5pZXRlcnMsIEppbSBhbmQgQm9sbG1hbiwgRXJpYyIsCiAgICBwbGFjZT1GQUtFLAogICAgcHA9IjcyOS0tNzM5IiwKICAgIGVudHJ5dHlwZT0iaW5wcm9jZWVkaW5ncyIsCiAgICBzZXJpZXM9IkNISSBFQSAnMTEiLAogICAgaXNibj0iOTc4LTEtNDUwMy0wMjY4LTUiLAogICAgbG9jYXRpb249IlZhbmNvdXZlciwgQkMsIENhbmFkYSIsCiAgICBJRD0iTmlldGVyczoyMDExOkxDQzoxOTc5NzQyLjE5Nzk2NzEiLAogICAgYWNtPSIxIiwKICAgIHBsYWNleD0iQ0hJICcxMSBFeHRlbmRlZCBBYnN0cmFjdHMgb24gSHVtYW4gRmFjdG9ycyBpbiBDb21wdXRpbmcgU3lzdGVtcyIsCikpCicnJyk7\"));\n",
       "    "
      ],
      "text/plain": [
       "<IPython.core.display.Javascript object>"
      ]
     },
     "metadata": {},
     "output_type": "display_data"
    },
    {
     "data": {
      "application/javascript": [
       "$('span:contains(\"# Temp\")').closest('.cell').remove();"
      ],
      "text/plain": [
       "<IPython.core.display.Javascript object>"
      ]
     },
     "metadata": {},
     "output_type": "display_data"
    },
    {
     "data": {
      "application/javascript": [
       "\n",
       "        $('span:contains(\"# Temp\")').closest('.cell').remove();\n",
       "        var code = IPython.notebook.insert_cell_below('code');\n",
       "        code.set_text(atob(\"IyBUZW1wCmluc2VydCgnJycKbmlldGVyczIwMTFhID0gREIoV29ya1VucmVsYXRlZCgKICAgIDIwMTEsICJMZWFkaW5nIENoYW5nZSB3aXRoIENvbGxhYm9yYXRpdmUgRGVzaWduIFdvcmtzaG9wcyIsCiAgICBkaXNwbGF5PSJuaWV0ZXJzIiwKICAgIGF1dGhvcnM9Ik5pZXRlcnMsIEppbSBhbmQgQm9sbG1hbiwgRXJpYyIsCiAgICBwbGFjZT1GQUtFLAogICAgcHA9IjcyOS0tNzM5IiwKICAgIGVudHJ5dHlwZT0iaW5wcm9jZWVkaW5ncyIsCiAgICBzZXJpZXM9IkNISSBFQSAnMTEiLAogICAgaXNibj0iOTc4LTEtNDUwMy0wMjY4LTUiLAogICAgbG9jYXRpb249IlZhbmNvdXZlciwgQkMsIENhbmFkYSIsCiAgICBJRD0iTmlldGVyczoyMDExOkxDQzoxOTc5NzQyLjE5Nzk2NzEiLAogICAgYWNtPSIxIiwKICAgIHBsYWNleD0iQ0hJICcxMSBFeHRlbmRlZCBBYnN0cmFjdHMgb24gSHVtYW4gRmFjdG9ycyBpbiBDb21wdXRpbmcgU3lzdGVtcyIsCikpCicnJyk7\"));\n",
       "    "
      ],
      "text/plain": [
       "<IPython.core.display.Javascript object>"
      ]
     },
     "metadata": {},
     "output_type": "display_data"
    },
    {
     "data": {
      "application/javascript": [
       "$('span:contains(\"# Temp\")').closest('.cell').remove();"
      ],
      "text/plain": [
       "<IPython.core.display.Javascript object>"
      ]
     },
     "metadata": {},
     "output_type": "display_data"
    },
    {
     "data": {
      "application/javascript": [
       "\n",
       "        $('span:contains(\"# Temp\")').closest('.cell').remove();\n",
       "        var code = IPython.notebook.insert_cell_below('code');\n",
       "        code.set_text(atob(\"IyBUZW1wCmluc2VydCgnJycKaG9ya29mZjIwMDZhID0gREIoV29ya1VucmVsYXRlZCgKICAgIDIwMDYsICJBbmFseXppbmcgVHJ1c3QgaW4gVGVjaG5vbG9neSBTdHJhdGVnaWVzIiwKICAgIGRpc3BsYXk9ImhvcmtvZmYiLAogICAgYXV0aG9ycz0iSG9ya29mZiwgSmVubmlmZXIgYW5kIFl1LCBFcmljIGFuZCBMaXUsIExpbiIsCiAgICBwbGFjZT1GQUtFLAogICAgcHA9Ijk6MS0tOToxMiIsCiAgICBlbnRyeXR5cGU9ImlucHJvY2VlZGluZ3MiLAogICAgc2VyaWVzPSJQU1QgJzA2IiwKICAgIGlzYm49IjEtNTk1OTMtNjA0LTEiLAogICAgbG9jYXRpb249Ik1hcmtoYW0sIE9udGFyaW8sIENhbmFkYSIsCiAgICBJRD0iSG9ya29mZjoyMDA2OkFUVDoxNTAxNDM0LjE1MDE0NDYiLAogICAgYWNtPSIxIiwKICAgIHBsYWNleD0iUHJvY2VlZGluZ3Mgb2YgdGhlIDIwMDYgSW50ZXJuYXRpb25hbCBDb25mZXJlbmNlIG9uIFByaXZhY3ksIFNlY3VyaXR5IGFuZCBUcnVzdDogQnJpZGdlIHRoZSBHYXAgQmV0d2VlbiBQU1QgVGVjaG5vbG9naWVzIGFuZCBCdXNpbmVzcyBTZXJ2aWNlcyIsCikpCicnJyk7\"));\n",
       "    "
      ],
      "text/plain": [
       "<IPython.core.display.Javascript object>"
      ]
     },
     "metadata": {},
     "output_type": "display_data"
    },
    {
     "data": {
      "application/javascript": [
       "$('span:contains(\"# Temp\")').closest('.cell').remove();"
      ],
      "text/plain": [
       "<IPython.core.display.Javascript object>"
      ]
     },
     "metadata": {},
     "output_type": "display_data"
    },
    {
     "data": {
      "application/javascript": [
       "\n",
       "        $('span:contains(\"# Temp\")').closest('.cell').remove();\n",
       "        var code = IPython.notebook.insert_cell_below('code');\n",
       "        code.set_text(atob(\"IyBUZW1wCmluc2VydCgnJycKaG9ya29mZjIwMDZhID0gREIoV29ya1VucmVsYXRlZCgKICAgIDIwMDYsICJBbmFseXppbmcgVHJ1c3QgaW4gVGVjaG5vbG9neSBTdHJhdGVnaWVzIiwKICAgIGRpc3BsYXk9ImhvcmtvZmYiLAogICAgYXV0aG9ycz0iSG9ya29mZiwgSmVubmlmZXIgYW5kIFl1LCBFcmljIGFuZCBMaXUsIExpbiIsCiAgICBwbGFjZT1GQUtFLAogICAgcHA9Ijk6MS0tOToxMiIsCiAgICBlbnRyeXR5cGU9ImlucHJvY2VlZGluZ3MiLAogICAgc2VyaWVzPSJQU1QgJzA2IiwKICAgIGlzYm49IjEtNTk1OTMtNjA0LTEiLAogICAgbG9jYXRpb249Ik1hcmtoYW0sIE9udGFyaW8sIENhbmFkYSIsCiAgICBJRD0iSG9ya29mZjoyMDA2OkFUVDoxNTAxNDM0LjE1MDE0NDYiLAogICAgYWNtPSIxIiwKICAgIHBsYWNleD0iUHJvY2VlZGluZ3Mgb2YgdGhlIDIwMDYgSW50ZXJuYXRpb25hbCBDb25mZXJlbmNlIG9uIFByaXZhY3ksIFNlY3VyaXR5IGFuZCBUcnVzdDogQnJpZGdlIHRoZSBHYXAgQmV0d2VlbiBQU1QgVGVjaG5vbG9naWVzIGFuZCBCdXNpbmVzcyBTZXJ2aWNlcyIsCikpCicnJyk7\"));\n",
       "    "
      ],
      "text/plain": [
       "<IPython.core.display.Javascript object>"
      ]
     },
     "metadata": {},
     "output_type": "display_data"
    },
    {
     "data": {
      "application/javascript": [
       "$('span:contains(\"# Temp\")').closest('.cell').remove();"
      ],
      "text/plain": [
       "<IPython.core.display.Javascript object>"
      ]
     },
     "metadata": {},
     "output_type": "display_data"
    },
    {
     "data": {
      "application/javascript": [
       "\n",
       "        $('span:contains(\"# Temp\")').closest('.cell').remove();\n",
       "        var code = IPython.notebook.insert_cell_below('code');\n",
       "        code.set_text(atob(\"IyBUZW1wCmluc2VydCgnJycKYmFiYXIyMDA3YSA9IERCKFdvcmtVbnJlbGF0ZWQoCiAgICAyMDA3LCAiVG93YXJkcyBFdm9sdXRpb24gb2YgU3RyYXRlZ2ljIElUIFJlcXVpcmVtZW50cyIsCiAgICBkaXNwbGF5PSJiYWJhciIsCiAgICBhdXRob3JzPSJCYWJhciwgQWJkdWwgYW5kIENveCwgS2FybCBhbmQgQmxlaXN0ZWluLCBTdGV2ZW4gYW5kIFZlcm5lciwgSnVuZSIsCiAgICBwbGFjZT1GQUtFLAogICAgcHA9IjEyMjAtLTEyMjciLAogICAgZW50cnl0eXBlPSJpbnByb2NlZWRpbmdzIiwKICAgIHNlcmllcz0iU0FDICcwNyIsCiAgICBpc2JuPSIxLTU5NTkzLTQ4MC00IiwKICAgIGxvY2F0aW9uPSJTZW91bCwgS29yZWEiLAogICAgSUQ9IkJhYmFyOjIwMDc6VEVTOjEyNDQwMDIuMTI0NDI2OCIsCiAgICBhY209IjEiLAogICAgcGxhY2V4PSJQcm9jZWVkaW5ncyBvZiB0aGUgMjAwNyBBQ00gU3ltcG9zaXVtIG9uIEFwcGxpZWQgQ29tcHV0aW5nIiwKKSkKJycnKTs=\"));\n",
       "    "
      ],
      "text/plain": [
       "<IPython.core.display.Javascript object>"
      ]
     },
     "metadata": {},
     "output_type": "display_data"
    },
    {
     "data": {
      "application/javascript": [
       "$('span:contains(\"# Temp\")').closest('.cell').remove();"
      ],
      "text/plain": [
       "<IPython.core.display.Javascript object>"
      ]
     },
     "metadata": {},
     "output_type": "display_data"
    },
    {
     "data": {
      "application/javascript": [
       "\n",
       "        $('span:contains(\"# Temp\")').closest('.cell').remove();\n",
       "        var code = IPython.notebook.insert_cell_below('code');\n",
       "        code.set_text(atob(\"IyBUZW1wCmluc2VydCgnJycKYmFiYXIyMDA3YSA9IERCKFdvcmtVbnJlbGF0ZWQoCiAgICAyMDA3LCAiVG93YXJkcyBFdm9sdXRpb24gb2YgU3RyYXRlZ2ljIElUIFJlcXVpcmVtZW50cyIsCiAgICBkaXNwbGF5PSJiYWJhciIsCiAgICBhdXRob3JzPSJCYWJhciwgQWJkdWwgYW5kIENveCwgS2FybCBhbmQgQmxlaXN0ZWluLCBTdGV2ZW4gYW5kIFZlcm5lciwgSnVuZSIsCiAgICBwbGFjZT1GQUtFLAogICAgcHA9IjEyMjAtLTEyMjciLAogICAgZW50cnl0eXBlPSJpbnByb2NlZWRpbmdzIiwKICAgIHNlcmllcz0iU0FDICcwNyIsCiAgICBpc2JuPSIxLTU5NTkzLTQ4MC00IiwKICAgIGxvY2F0aW9uPSJTZW91bCwgS29yZWEiLAogICAgSUQ9IkJhYmFyOjIwMDc6VEVTOjEyNDQwMDIuMTI0NDI2OCIsCiAgICBhY209IjEiLAogICAgcGxhY2V4PSJQcm9jZWVkaW5ncyBvZiB0aGUgMjAwNyBBQ00gU3ltcG9zaXVtIG9uIEFwcGxpZWQgQ29tcHV0aW5nIiwKKSkKJycnKTs=\"));\n",
       "    "
      ],
      "text/plain": [
       "<IPython.core.display.Javascript object>"
      ]
     },
     "metadata": {},
     "output_type": "display_data"
    },
    {
     "data": {
      "application/javascript": [
       "$('span:contains(\"# Temp\")').closest('.cell').remove();"
      ],
      "text/plain": [
       "<IPython.core.display.Javascript object>"
      ]
     },
     "metadata": {},
     "output_type": "display_data"
    },
    {
     "data": {
      "application/javascript": [
       "\n",
       "        $('span:contains(\"# Temp\")').closest('.cell').remove();\n",
       "        var code = IPython.notebook.insert_cell_below('code');\n",
       "        code.set_text(atob(\"IyBUZW1wCmluc2VydCgnJycKbGVlMjAxMGEgPSBEQihXb3JrVW5yZWxhdGVkKAogICAgMjAxMCwgIkEgUmVxdWlyZW1lbnRzIEVsaWNpdGF0aW9uIEZyYW1ld29yayBhbmQgVG9vbCBmb3IgU291cmNpbmcgYnVzaW5lc3MtSVQgQWxpZ25lZCBlLVNlcnZpY2VzIiwKICAgIGRpc3BsYXk9ImxlZSIsCiAgICBhdXRob3JzPSJMZWUtS2xlbnosIFNvb25od2EgYW5kIFNhbXBhaW8sIFBlZHJvIGFuZCBXb29kLUhhcnBlciwgVHJldm9yIiwKICAgIHBsYWNlPUZBS0UsCiAgICBwcD0iMTExLS0xMTciLAogICAgZW50cnl0eXBlPSJpbnByb2NlZWRpbmdzIiwKICAgIHNlcmllcz0iU0FDICcxMCIsCiAgICBpc2JuPSI5NzgtMS02MDU1OC02MzktNyIsCiAgICBsb2NhdGlvbj0iU2llcnJlLCBTd2l0emVybGFuZCIsCiAgICBJRD0iTGVlLUtsZW56OjIwMTA6UkVGOjE3NzQwODguMTc3NDExMiIsCiAgICBhY209IjEiLAogICAgcGxhY2V4PSJQcm9jZWVkaW5ncyBvZiB0aGUgMjAxMCBBQ00gU3ltcG9zaXVtIG9uIEFwcGxpZWQgQ29tcHV0aW5nIiwKKSkKJycnKTs=\"));\n",
       "    "
      ],
      "text/plain": [
       "<IPython.core.display.Javascript object>"
      ]
     },
     "metadata": {},
     "output_type": "display_data"
    },
    {
     "data": {
      "application/javascript": [
       "$('span:contains(\"# Temp\")').closest('.cell').remove();"
      ],
      "text/plain": [
       "<IPython.core.display.Javascript object>"
      ]
     },
     "metadata": {},
     "output_type": "display_data"
    },
    {
     "data": {
      "application/javascript": [
       "\n",
       "        $('span:contains(\"# Temp\")').closest('.cell').remove();\n",
       "        var code = IPython.notebook.insert_cell_below('code');\n",
       "        code.set_text(atob(\"IyBUZW1wCmluc2VydCgnJycKbGVlMjAxMGEgPSBEQihXb3JrVW5yZWxhdGVkKAogICAgMjAxMCwgIkEgUmVxdWlyZW1lbnRzIEVsaWNpdGF0aW9uIEZyYW1ld29yayBhbmQgVG9vbCBmb3IgU291cmNpbmcgYnVzaW5lc3MtSVQgQWxpZ25lZCBlLVNlcnZpY2VzIiwKICAgIGRpc3BsYXk9ImxlZSIsCiAgICBhdXRob3JzPSJMZWUtS2xlbnosIFNvb25od2EgYW5kIFNhbXBhaW8sIFBlZHJvIGFuZCBXb29kLUhhcnBlciwgVHJldm9yIiwKICAgIHBsYWNlPUZBS0UsCiAgICBwcD0iMTExLS0xMTciLAogICAgZW50cnl0eXBlPSJpbnByb2NlZWRpbmdzIiwKICAgIHNlcmllcz0iU0FDICcxMCIsCiAgICBpc2JuPSI5NzgtMS02MDU1OC02MzktNyIsCiAgICBsb2NhdGlvbj0iU2llcnJlLCBTd2l0emVybGFuZCIsCiAgICBJRD0iTGVlLUtsZW56OjIwMTA6UkVGOjE3NzQwODguMTc3NDExMiIsCiAgICBhY209IjEiLAogICAgcGxhY2V4PSJQcm9jZWVkaW5ncyBvZiB0aGUgMjAxMCBBQ00gU3ltcG9zaXVtIG9uIEFwcGxpZWQgQ29tcHV0aW5nIiwKKSkKJycnKTs=\"));\n",
       "    "
      ],
      "text/plain": [
       "<IPython.core.display.Javascript object>"
      ]
     },
     "metadata": {},
     "output_type": "display_data"
    },
    {
     "data": {
      "application/javascript": [
       "$('span:contains(\"# Temp\")').closest('.cell').remove();"
      ],
      "text/plain": [
       "<IPython.core.display.Javascript object>"
      ]
     },
     "metadata": {},
     "output_type": "display_data"
    },
    {
     "data": {
      "application/javascript": [
       "\n",
       "        $('span:contains(\"# Temp\")').closest('.cell').remove();\n",
       "        var code = IPython.notebook.insert_cell_below('code');\n",
       "        code.set_text(atob(\"IyBUZW1wCmluc2VydCgnJycKd2lkeWEyMDA5YSA9IERCKFdvcmtVbnJlbGF0ZWQoCiAgICAyMDA5LCAiRWFybHkgUGhhc2UgUmVxdWlyZW1lbnRzIEFzc2Vzc21lbnQgb2YgYSBUZWxldHJlYXRtZW50IFRyaWFsIiwKICAgIGRpc3BsYXk9IndpZHlhIiwKICAgIGF1dGhvcnM9IldpZHlhLCBJLiBhbmQgdmFuIEJlaWpudW0sIEIuIEouIEYuIGFuZCBCdWx0cywgUi4gYW5kIEpvbmVzLCBWLiBhbmQgSGVybWVucywgSC4gYW5kIFNhbmRzavYsIEwuIGFuZCBTY2hhYWtlLCBMLiBhbmQgaW4ndCBWZWxkLCBNLiBILiBBLiBIdWlzIiwKICAgIHBsYWNlPUZBS0UsCiAgICBwcD0iMzk1LS0zOTYiLAogICAgZW50cnl0eXBlPSJpbnByb2NlZWRpbmdzIiwKICAgIHNlcmllcz0iU0FDICcwOSIsCiAgICBpc2JuPSI5NzgtMS02MDU1OC0xNjYtOCIsCiAgICBsb2NhdGlvbj0iSG9ub2x1bHUsIEhhd2FpaSIsCiAgICBJRD0iV2lkeWE6MjAwOTpFUFI6MTUyOTI4Mi4xNTI5MzY4IiwKICAgIGFjbT0iMSIsCiAgICBwbGFjZXg9IlByb2NlZWRpbmdzIG9mIHRoZSAyMDA5IEFDTSBTeW1wb3NpdW0gb24gQXBwbGllZCBDb21wdXRpbmciLAopKQonJycpOw==\"));\n",
       "    "
      ],
      "text/plain": [
       "<IPython.core.display.Javascript object>"
      ]
     },
     "metadata": {},
     "output_type": "display_data"
    },
    {
     "data": {
      "application/javascript": [
       "$('span:contains(\"# Temp\")').closest('.cell').remove();"
      ],
      "text/plain": [
       "<IPython.core.display.Javascript object>"
      ]
     },
     "metadata": {},
     "output_type": "display_data"
    },
    {
     "data": {
      "application/javascript": [
       "\n",
       "        $('span:contains(\"# Temp\")').closest('.cell').remove();\n",
       "        var code = IPython.notebook.insert_cell_below('code');\n",
       "        code.set_text(atob(\"IyBUZW1wCmluc2VydCgnJycKd2lkeWEyMDA5YSA9IERCKFdvcmtVbnJlbGF0ZWQoCiAgICAyMDA5LCAiRWFybHkgUGhhc2UgUmVxdWlyZW1lbnRzIEFzc2Vzc21lbnQgb2YgYSBUZWxldHJlYXRtZW50IFRyaWFsIiwKICAgIGRpc3BsYXk9IndpZHlhIiwKICAgIGF1dGhvcnM9IldpZHlhLCBJLiBhbmQgdmFuIEJlaWpudW0sIEIuIEouIEYuIGFuZCBCdWx0cywgUi4gYW5kIEpvbmVzLCBWLiBhbmQgSGVybWVucywgSC4gYW5kIFNhbmRzavYsIEwuIGFuZCBTY2hhYWtlLCBMLiBhbmQgaW4ndCBWZWxkLCBNLiBILiBBLiBIdWlzIiwKICAgIHBsYWNlPUZBS0UsCiAgICBwcD0iMzk1LS0zOTYiLAogICAgZW50cnl0eXBlPSJpbnByb2NlZWRpbmdzIiwKICAgIHNlcmllcz0iU0FDICcwOSIsCiAgICBpc2JuPSI5NzgtMS02MDU1OC0xNjYtOCIsCiAgICBsb2NhdGlvbj0iSG9ub2x1bHUsIEhhd2FpaSIsCiAgICBJRD0iV2lkeWE6MjAwOTpFUFI6MTUyOTI4Mi4xNTI5MzY4IiwKICAgIGFjbT0iMSIsCiAgICBwbGFjZXg9IlByb2NlZWRpbmdzIG9mIHRoZSAyMDA5IEFDTSBTeW1wb3NpdW0gb24gQXBwbGllZCBDb21wdXRpbmciLAopKQonJycpOw==\"));\n",
       "    "
      ],
      "text/plain": [
       "<IPython.core.display.Javascript object>"
      ]
     },
     "metadata": {},
     "output_type": "display_data"
    },
    {
     "data": {
      "application/javascript": [
       "$('span:contains(\"# Temp\")').closest('.cell').remove();"
      ],
      "text/plain": [
       "<IPython.core.display.Javascript object>"
      ]
     },
     "metadata": {},
     "output_type": "display_data"
    },
    {
     "data": {
      "application/javascript": [
       "\n",
       "        $('span:contains(\"# Temp\")').closest('.cell').remove();\n",
       "        var code = IPython.notebook.insert_cell_below('code');\n",
       "        code.set_text(atob(\"IyBUZW1wCmluc2VydCgnJycKc2FldGFuZzIwMTFhID0gREIoV29ya1VucmVsYXRlZCgKICAgIDIwMTEsICJDb25jZXB0dWFsIEFzcGVjdHMgb2YgSVQgR292ZXJuYW5jZSBpbiBFbnRlcnByaXNlIEVudmlyb25tZW50IiwKICAgIGRpc3BsYXk9InNhZXRhbmciLAogICAgYXV0aG9ycz0iU2FldGFuZywgU3VyZWVyYXQgYW5kIEhhaWRlciwgQWJyYXIiLAogICAgcGxhY2U9RkFLRSwKICAgIHBwPSI3OS0tODIiLAogICAgZW50cnl0eXBlPSJpbnByb2NlZWRpbmdzIiwKICAgIHNlcmllcz0iU0lHTUlTLUNQUiAnMTEiLAogICAgaXNibj0iOTc4LTEtNDUwMy0wNjY2LTkiLAogICAgbG9jYXRpb249IlNhbiBBbnRvbmlvLCBUZXhhcywgVVNBIiwKICAgIElEPSJTYWV0YW5nOjIwMTE6Q0FHOjE5ODIxNDMuMTk4MjE2NCIsCiAgICBhY209IjEiLAogICAgcGxhY2V4PSJQcm9jZWVkaW5ncyBvZiB0aGUgNDl0aCBTSUdNSVMgQW5udWFsIENvbmZlcmVuY2Ugb24gQ29tcHV0ZXIgUGVyc29ubmVsIFJlc2VhcmNoIiwKKSkKJycnKTs=\"));\n",
       "    "
      ],
      "text/plain": [
       "<IPython.core.display.Javascript object>"
      ]
     },
     "metadata": {},
     "output_type": "display_data"
    },
    {
     "data": {
      "application/javascript": [
       "$('span:contains(\"# Temp\")').closest('.cell').remove();"
      ],
      "text/plain": [
       "<IPython.core.display.Javascript object>"
      ]
     },
     "metadata": {},
     "output_type": "display_data"
    },
    {
     "data": {
      "application/javascript": [
       "\n",
       "        $('span:contains(\"# Temp\")').closest('.cell').remove();\n",
       "        var code = IPython.notebook.insert_cell_below('code');\n",
       "        code.set_text(atob(\"IyBUZW1wCmluc2VydCgnJycKc2FldGFuZzIwMTFhID0gREIoV29ya1VucmVsYXRlZCgKICAgIDIwMTEsICJDb25jZXB0dWFsIEFzcGVjdHMgb2YgSVQgR292ZXJuYW5jZSBpbiBFbnRlcnByaXNlIEVudmlyb25tZW50IiwKICAgIGRpc3BsYXk9InNhZXRhbmciLAogICAgYXV0aG9ycz0iU2FldGFuZywgU3VyZWVyYXQgYW5kIEhhaWRlciwgQWJyYXIiLAogICAgcGxhY2U9RkFLRSwKICAgIHBwPSI3OS0tODIiLAogICAgZW50cnl0eXBlPSJpbnByb2NlZWRpbmdzIiwKICAgIHNlcmllcz0iU0lHTUlTLUNQUiAnMTEiLAogICAgaXNibj0iOTc4LTEtNDUwMy0wNjY2LTkiLAogICAgbG9jYXRpb249IlNhbiBBbnRvbmlvLCBUZXhhcywgVVNBIiwKICAgIElEPSJTYWV0YW5nOjIwMTE6Q0FHOjE5ODIxNDMuMTk4MjE2NCIsCiAgICBhY209IjEiLAogICAgcGxhY2V4PSJQcm9jZWVkaW5ncyBvZiB0aGUgNDl0aCBTSUdNSVMgQW5udWFsIENvbmZlcmVuY2Ugb24gQ29tcHV0ZXIgUGVyc29ubmVsIFJlc2VhcmNoIiwKKSkKJycnKTs=\"));\n",
       "    "
      ],
      "text/plain": [
       "<IPython.core.display.Javascript object>"
      ]
     },
     "metadata": {},
     "output_type": "display_data"
    },
    {
     "data": {
      "application/javascript": [
       "$('span:contains(\"# Temp\")').closest('.cell').remove();"
      ],
      "text/plain": [
       "<IPython.core.display.Javascript object>"
      ]
     },
     "metadata": {},
     "output_type": "display_data"
    },
    {
     "data": {
      "application/javascript": [
       "\n",
       "        $('span:contains(\"# Temp\")').closest('.cell').remove();\n",
       "        var code = IPython.notebook.insert_cell_below('code');\n",
       "        code.set_text(atob(\"IyBUZW1wCmluc2VydCgnJycKaG9ybmLmazIwMDhhID0gREIoV29ya1VucmVsYXRlZCgKICAgIDIwMDgsICJNYWtpbmcgVXNlIG9mIEJ1c2luZXNzIEdvYWxzIGluIFVzYWJpbGl0eSBFdmFsdWF0aW9uOiBBbiBFeHBlcmltZW50IHdpdGggTm92aWNlIEV2YWx1YXRvcnMiLAogICAgZGlzcGxheT0iaG9ybmLmayIsCiAgICBhdXRob3JzPSJIb3JuYuZrLCBLYXNwZXIgYW5kIEZy+Gtq5nIsIEVyaWsiLAogICAgcGxhY2U9RkFLRSwKICAgIHBwPSI5MDMtLTkxMiIsCiAgICBlbnRyeXR5cGU9ImlucHJvY2VlZGluZ3MiLAogICAgc2VyaWVzPSJDSEkgJzA4IiwKICAgIGlzYm49Ijk3OC0xLTYwNTU4LTAxMS0xIiwKICAgIGxvY2F0aW9uPSJGbG9yZW5jZSwgSXRhbHkiLAogICAgSUQ9Ikhvcm5iYWVrOjIwMDg6TVVCOjEzNTcwNTQuMTM1NzE5NyIsCiAgICBhY209IjEiLAogICAgcGxhY2V4PSJQcm9jZWVkaW5ncyBvZiB0aGUgU0lHQ0hJIENvbmZlcmVuY2Ugb24gSHVtYW4gRmFjdG9ycyBpbiBDb21wdXRpbmcgU3lzdGVtcyIsCikpCicnJyk7\"));\n",
       "    "
      ],
      "text/plain": [
       "<IPython.core.display.Javascript object>"
      ]
     },
     "metadata": {},
     "output_type": "display_data"
    },
    {
     "data": {
      "application/javascript": [
       "$('span:contains(\"# Temp\")').closest('.cell').remove();"
      ],
      "text/plain": [
       "<IPython.core.display.Javascript object>"
      ]
     },
     "metadata": {},
     "output_type": "display_data"
    },
    {
     "data": {
      "application/javascript": [
       "\n",
       "        $('span:contains(\"# Temp\")').closest('.cell').remove();\n",
       "        var code = IPython.notebook.insert_cell_below('code');\n",
       "        code.set_text(atob(\"IyBUZW1wCmluc2VydCgnJycKaG9ybmLmazIwMDhhID0gREIoV29ya1VucmVsYXRlZCgKICAgIDIwMDgsICJNYWtpbmcgVXNlIG9mIEJ1c2luZXNzIEdvYWxzIGluIFVzYWJpbGl0eSBFdmFsdWF0aW9uOiBBbiBFeHBlcmltZW50IHdpdGggTm92aWNlIEV2YWx1YXRvcnMiLAogICAgZGlzcGxheT0iaG9ybmLmayIsCiAgICBhdXRob3JzPSJIb3JuYuZrLCBLYXNwZXIgYW5kIEZy+Gtq5nIsIEVyaWsiLAogICAgcGxhY2U9RkFLRSwKICAgIHBwPSI5MDMtLTkxMiIsCiAgICBlbnRyeXR5cGU9ImlucHJvY2VlZGluZ3MiLAogICAgc2VyaWVzPSJDSEkgJzA4IiwKICAgIGlzYm49Ijk3OC0xLTYwNTU4LTAxMS0xIiwKICAgIGxvY2F0aW9uPSJGbG9yZW5jZSwgSXRhbHkiLAogICAgSUQ9Ikhvcm5iYWVrOjIwMDg6TVVCOjEzNTcwNTQuMTM1NzE5NyIsCiAgICBhY209IjEiLAogICAgcGxhY2V4PSJQcm9jZWVkaW5ncyBvZiB0aGUgU0lHQ0hJIENvbmZlcmVuY2Ugb24gSHVtYW4gRmFjdG9ycyBpbiBDb21wdXRpbmcgU3lzdGVtcyIsCikpCicnJyk7\"));\n",
       "    "
      ],
      "text/plain": [
       "<IPython.core.display.Javascript object>"
      ]
     },
     "metadata": {},
     "output_type": "display_data"
    },
    {
     "data": {
      "application/javascript": [
       "$('span:contains(\"# Temp\")').closest('.cell').remove();"
      ],
      "text/plain": [
       "<IPython.core.display.Javascript object>"
      ]
     },
     "metadata": {},
     "output_type": "display_data"
    },
    {
     "data": {
      "application/javascript": [
       "\n",
       "        $('span:contains(\"# Temp\")').closest('.cell').remove();\n",
       "        var code = IPython.notebook.insert_cell_below('code');\n",
       "        code.set_text(atob(\"IyBUZW1wCmluc2VydCgnJycKZGF3c29uMjAxMWEgPSBEQihXb3JrVW5yZWxhdGVkKAogICAgMjAxMSwgIlVuY292ZXJpbmcgYW5kIFRlc3RpbmcgQXJjaGV0eXBlcyBvZiBFZmZlY3RpdmUgUHVibGljIFNlY3RvciBDSU9zIiwKICAgIGRpc3BsYXk9ImRhd3NvbiIsCiAgICBhdXRob3JzPSJEYXdzb24sIEdyZWdvcnkgUy4gYW5kIFdhdHNvbiwgUmljaGFyZCBULiIsCiAgICBwbGFjZT1GQUtFLAogICAgcHA9IjU6MS0tNToxOSIsCiAgICBlbnRyeXR5cGU9ImFydGljbGUiLAogICAgaXNzdWVfZGF0ZT0iTWFyY2ggMjAxMSIsCiAgICB2b2x1bWU9IjIiLAogICAgbnVtYmVyPSIxIiwKICAgIG1vbnRoPSJtYXIiLAogICAgaXNzbj0iMjE1OC02NTZYIiwKICAgIElEPSJEYXdzb246MjAxMTpVVEE6MTkyOTkxNi4xOTI5OTIxIiwKICAgIGFjbT0iMSIsCiAgICBwbGFjZXg9IkFDTSBUcmFucy4gTWFuYWdlLiBJbmYuIFN5c3QuIiwKKSkKJycnKTs=\"));\n",
       "    "
      ],
      "text/plain": [
       "<IPython.core.display.Javascript object>"
      ]
     },
     "metadata": {},
     "output_type": "display_data"
    },
    {
     "data": {
      "application/javascript": [
       "$('span:contains(\"# Temp\")').closest('.cell').remove();"
      ],
      "text/plain": [
       "<IPython.core.display.Javascript object>"
      ]
     },
     "metadata": {},
     "output_type": "display_data"
    },
    {
     "data": {
      "application/javascript": [
       "\n",
       "        $('span:contains(\"# Temp\")').closest('.cell').remove();\n",
       "        var code = IPython.notebook.insert_cell_below('code');\n",
       "        code.set_text(atob(\"IyBUZW1wCmluc2VydCgnJycKZGF3c29uMjAxMWEgPSBEQihXb3JrVW5yZWxhdGVkKAogICAgMjAxMSwgIlVuY292ZXJpbmcgYW5kIFRlc3RpbmcgQXJjaGV0eXBlcyBvZiBFZmZlY3RpdmUgUHVibGljIFNlY3RvciBDSU9zIiwKICAgIGRpc3BsYXk9ImRhd3NvbiIsCiAgICBhdXRob3JzPSJEYXdzb24sIEdyZWdvcnkgUy4gYW5kIFdhdHNvbiwgUmljaGFyZCBULiIsCiAgICBwbGFjZT1GQUtFLAogICAgcHA9IjU6MS0tNToxOSIsCiAgICBlbnRyeXR5cGU9ImFydGljbGUiLAogICAgaXNzdWVfZGF0ZT0iTWFyY2ggMjAxMSIsCiAgICB2b2x1bWU9IjIiLAogICAgbnVtYmVyPSIxIiwKICAgIG1vbnRoPSJtYXIiLAogICAgaXNzbj0iMjE1OC02NTZYIiwKICAgIElEPSJEYXdzb246MjAxMTpVVEE6MTkyOTkxNi4xOTI5OTIxIiwKICAgIGFjbT0iMSIsCiAgICBwbGFjZXg9IkFDTSBUcmFucy4gTWFuYWdlLiBJbmYuIFN5c3QuIiwKKSkKJycnKTs=\"));\n",
       "    "
      ],
      "text/plain": [
       "<IPython.core.display.Javascript object>"
      ]
     },
     "metadata": {},
     "output_type": "display_data"
    },
    {
     "data": {
      "application/javascript": [
       "$('span:contains(\"# Temp\")').closest('.cell').remove();"
      ],
      "text/plain": [
       "<IPython.core.display.Javascript object>"
      ]
     },
     "metadata": {},
     "output_type": "display_data"
    },
    {
     "data": {
      "application/javascript": [
       "\n",
       "        $('span:contains(\"# Temp\")').closest('.cell').remove();\n",
       "        var code = IPython.notebook.insert_cell_below('code');\n",
       "        code.set_text(atob(\"IyBUZW1wCmluc2VydCgnJycKb2RpaXQyMDE0YSA9IERCKFdvcmtVbnJlbGF0ZWQoCiAgICAyMDE0LCAiQWxpZ25tZW50IG9mIEluZm9ybWF0aW9uIFN5c3RlbXMgdG8gU3RyYXRlZ3kgaW4gdGhlIEhlYWx0aCBTZWN0b3IgVXNpbmcgYSBTeXN0ZW1zIER5bmFtaWNzIEFwcHJvYWNoIiwKICAgIGRpc3BsYXk9Im9kaWl0IiwKICAgIGF1dGhvcnM9Ik9kaWl0LCBNYXJ5IENlbGVzdGluZSBBZGllIGFuZCBNYXlva2EsIEdlb2ZmcmV5IEtpdHV5aSBhbmQgUndhc2hhbmEsIEFnbmVzIFNlbXdhbmdhIGFuZCBPY2hhcmEsIE5peG9uIE11Z2FuZGEiLAogICAgcGxhY2U9RkFLRSwKICAgIHBwPSIzODozOC0tMzg6NDkiLAogICAgZW50cnl0eXBlPSJpbnByb2NlZWRpbmdzIiwKICAgIHNlcmllcz0iU0FJQ1NJVCAnMTQiLAogICAgaXNibj0iOTc4LTEtNDUwMy0zMjQ2LTAiLAogICAgbG9jYXRpb249IkNlbnR1cmlvbiwgU291dGggQWZyaWNhIiwKICAgIElEPSJPZGlpdDoyMDE0OkFJUzoyNjY0NTkxLjI2NjQ2MjQiLAogICAgYWNtPSIxIiwKICAgIHBsYWNleD0iUHJvY2VlZGluZ3Mgb2YgdGhlIFNvdXRoZXJuIEFmcmljYW4gSW5zdGl0dXRlIGZvciBDb21wdXRlciBTY2llbnRpc3QgYW5kIEluZm9ybWF0aW9uIFRlY2hub2xvZ2lzdHMgQW5udWFsIENvbmZlcmVuY2UgMjAxNCBvbiBTQUlDU0lUIDIwMTQgRW1wb3dlcmVkIGJ5IFRlY2hub2xvZ3kiLAopKQonJycpOw==\"));\n",
       "    "
      ],
      "text/plain": [
       "<IPython.core.display.Javascript object>"
      ]
     },
     "metadata": {},
     "output_type": "display_data"
    },
    {
     "data": {
      "application/javascript": [
       "$('span:contains(\"# Temp\")').closest('.cell').remove();"
      ],
      "text/plain": [
       "<IPython.core.display.Javascript object>"
      ]
     },
     "metadata": {},
     "output_type": "display_data"
    },
    {
     "data": {
      "application/javascript": [
       "\n",
       "        $('span:contains(\"# Temp\")').closest('.cell').remove();\n",
       "        var code = IPython.notebook.insert_cell_below('code');\n",
       "        code.set_text(atob(\"IyBUZW1wCmluc2VydCgnJycKb2RpaXQyMDE0YSA9IERCKFdvcmtVbnJlbGF0ZWQoCiAgICAyMDE0LCAiQWxpZ25tZW50IG9mIEluZm9ybWF0aW9uIFN5c3RlbXMgdG8gU3RyYXRlZ3kgaW4gdGhlIEhlYWx0aCBTZWN0b3IgVXNpbmcgYSBTeXN0ZW1zIER5bmFtaWNzIEFwcHJvYWNoIiwKICAgIGRpc3BsYXk9Im9kaWl0IiwKICAgIGF1dGhvcnM9Ik9kaWl0LCBNYXJ5IENlbGVzdGluZSBBZGllIGFuZCBNYXlva2EsIEdlb2ZmcmV5IEtpdHV5aSBhbmQgUndhc2hhbmEsIEFnbmVzIFNlbXdhbmdhIGFuZCBPY2hhcmEsIE5peG9uIE11Z2FuZGEiLAogICAgcGxhY2U9RkFLRSwKICAgIHBwPSIzODozOC0tMzg6NDkiLAogICAgZW50cnl0eXBlPSJpbnByb2NlZWRpbmdzIiwKICAgIHNlcmllcz0iU0FJQ1NJVCAnMTQiLAogICAgaXNibj0iOTc4LTEtNDUwMy0zMjQ2LTAiLAogICAgbG9jYXRpb249IkNlbnR1cmlvbiwgU291dGggQWZyaWNhIiwKICAgIElEPSJPZGlpdDoyMDE0OkFJUzoyNjY0NTkxLjI2NjQ2MjQiLAogICAgYWNtPSIxIiwKICAgIHBsYWNleD0iUHJvY2VlZGluZ3Mgb2YgdGhlIFNvdXRoZXJuIEFmcmljYW4gSW5zdGl0dXRlIGZvciBDb21wdXRlciBTY2llbnRpc3QgYW5kIEluZm9ybWF0aW9uIFRlY2hub2xvZ2lzdHMgQW5udWFsIENvbmZlcmVuY2UgMjAxNCBvbiBTQUlDU0lUIDIwMTQgRW1wb3dlcmVkIGJ5IFRlY2hub2xvZ3kiLAopKQonJycpOw==\"));\n",
       "    "
      ],
      "text/plain": [
       "<IPython.core.display.Javascript object>"
      ]
     },
     "metadata": {},
     "output_type": "display_data"
    },
    {
     "data": {
      "application/javascript": [
       "$('span:contains(\"# Temp\")').closest('.cell').remove();"
      ],
      "text/plain": [
       "<IPython.core.display.Javascript object>"
      ]
     },
     "metadata": {},
     "output_type": "display_data"
    },
    {
     "data": {
      "application/javascript": [
       "\n",
       "        $('span:contains(\"# Temp\")').closest('.cell').remove();\n",
       "        var code = IPython.notebook.insert_cell_below('code');\n",
       "        code.set_text(atob(\"IyBUZW1wCmluc2VydCgnJycKYmFjb24yMDAxYSA9IERCKFdvcmtVbnJlbGF0ZWQoCiAgICAyMDAxLCAiQSBTeXN0ZW1pYyBGcmFtZXdvcmsgZm9yIHRoZSBGaWVsZCBvZiBJbmZvcm1hdGlvbiBTeXN0ZW1zIiwKICAgIGRpc3BsYXk9ImJhY29uIiwKICAgIGF1dGhvcnM9IkJhY29uLCBDLiBKYW1lcyBhbmQgRml0emdlcmFsZCwgQnJpYW4iLAogICAgcGxhY2U9RkFLRSwKICAgIHBwPSI0Ni0tNjciLAogICAgZW50cnl0eXBlPSJhcnRpY2xlIiwKICAgIGlzc3VlX2RhdGU9IlNwcmluZyAyMDAxIiwKICAgIHZvbHVtZT0iMzIiLAogICAgbnVtYmVyPSIyIiwKICAgIG1vbnRoPSJhcHIiLAogICAgaXNzbj0iMDA5NS0wMDMzIiwKICAgIElEPSJCYWNvbjoyMDAxOlNGRjo1MDY3MzIuNTA2NzM4IiwKICAgIGFjbT0iMSIsCiAgICBwbGFjZXg9IlNJR01JUyBEYXRhYmFzZSIsCikpCicnJyk7\"));\n",
       "    "
      ],
      "text/plain": [
       "<IPython.core.display.Javascript object>"
      ]
     },
     "metadata": {},
     "output_type": "display_data"
    },
    {
     "data": {
      "application/javascript": [
       "$('span:contains(\"# Temp\")').closest('.cell').remove();"
      ],
      "text/plain": [
       "<IPython.core.display.Javascript object>"
      ]
     },
     "metadata": {},
     "output_type": "display_data"
    },
    {
     "data": {
      "application/javascript": [
       "\n",
       "        $('span:contains(\"# Temp\")').closest('.cell').remove();\n",
       "        var code = IPython.notebook.insert_cell_below('code');\n",
       "        code.set_text(atob(\"IyBUZW1wCmluc2VydCgnJycKYmFjb24yMDAxYSA9IERCKFdvcmtVbnJlbGF0ZWQoCiAgICAyMDAxLCAiQSBTeXN0ZW1pYyBGcmFtZXdvcmsgZm9yIHRoZSBGaWVsZCBvZiBJbmZvcm1hdGlvbiBTeXN0ZW1zIiwKICAgIGRpc3BsYXk9ImJhY29uIiwKICAgIGF1dGhvcnM9IkJhY29uLCBDLiBKYW1lcyBhbmQgRml0emdlcmFsZCwgQnJpYW4iLAogICAgcGxhY2U9RkFLRSwKICAgIHBwPSI0Ni0tNjciLAogICAgZW50cnl0eXBlPSJhcnRpY2xlIiwKICAgIGlzc3VlX2RhdGU9IlNwcmluZyAyMDAxIiwKICAgIHZvbHVtZT0iMzIiLAogICAgbnVtYmVyPSIyIiwKICAgIG1vbnRoPSJhcHIiLAogICAgaXNzbj0iMDA5NS0wMDMzIiwKICAgIElEPSJCYWNvbjoyMDAxOlNGRjo1MDY3MzIuNTA2NzM4IiwKICAgIGFjbT0iMSIsCiAgICBwbGFjZXg9IlNJR01JUyBEYXRhYmFzZSIsCikpCicnJyk7\"));\n",
       "    "
      ],
      "text/plain": [
       "<IPython.core.display.Javascript object>"
      ]
     },
     "metadata": {},
     "output_type": "display_data"
    },
    {
     "data": {
      "application/javascript": [
       "$('span:contains(\"# Temp\")').closest('.cell').remove();"
      ],
      "text/plain": [
       "<IPython.core.display.Javascript object>"
      ]
     },
     "metadata": {},
     "output_type": "display_data"
    },
    {
     "data": {
      "application/javascript": [
       "\n",
       "        $('span:contains(\"# Temp\")').closest('.cell').remove();\n",
       "        var code = IPython.notebook.insert_cell_below('code');\n",
       "        code.set_text(atob(\"IyBUZW1wCmluc2VydCgnJycKamhhMjAwNmEgPSBEQihXb3JrVW5yZWxhdGVkKAogICAgMjAwNiwgIlByb2JsZW0gRnJhbWVzIEFwcHJvYWNoIHRvIFdlYiBTZXJ2aWNlcyBSZXF1aXJlbWVudHMiLAogICAgZGlzcGxheT0iamhhIiwKICAgIGF1dGhvcnM9IkpoYSwgQW5qdSIsCiAgICBwbGFjZT1GQUtFLAogICAgcHA9IjMzLS00MCIsCiAgICBlbnRyeXR5cGU9ImlucHJvY2VlZGluZ3MiLAogICAgc2VyaWVzPSJJV0FBUEYgJzA2IiwKICAgIGlzYm49IjEtNTk1OTMtNDA2LTUiLAogICAgbG9jYXRpb249IlNoYW5naGFpLCBDaGluYSIsCiAgICBJRD0iSmhhOjIwMDY6UEZBOjExMzg2NzAuMTEzODY3NyIsCiAgICBhY209IjEiLAogICAgcGxhY2V4PSJQcm9jZWVkaW5ncyBvZiB0aGUgMjAwNiBJbnRlcm5hdGlvbmFsIFdvcmtzaG9wIG9uIEFkdmFuY2VzIGFuZCBBcHBsaWNhdGlvbnMgb2YgUHJvYmxlbSBGcmFtZXMiLAopKQonJycpOw==\"));\n",
       "    "
      ],
      "text/plain": [
       "<IPython.core.display.Javascript object>"
      ]
     },
     "metadata": {},
     "output_type": "display_data"
    },
    {
     "data": {
      "application/javascript": [
       "$('span:contains(\"# Temp\")').closest('.cell').remove();"
      ],
      "text/plain": [
       "<IPython.core.display.Javascript object>"
      ]
     },
     "metadata": {},
     "output_type": "display_data"
    },
    {
     "data": {
      "application/javascript": [
       "\n",
       "        $('span:contains(\"# Temp\")').closest('.cell').remove();\n",
       "        var code = IPython.notebook.insert_cell_below('code');\n",
       "        code.set_text(atob(\"IyBUZW1wCmluc2VydCgnJycKamhhMjAwNmEgPSBEQihXb3JrVW5yZWxhdGVkKAogICAgMjAwNiwgIlByb2JsZW0gRnJhbWVzIEFwcHJvYWNoIHRvIFdlYiBTZXJ2aWNlcyBSZXF1aXJlbWVudHMiLAogICAgZGlzcGxheT0iamhhIiwKICAgIGF1dGhvcnM9IkpoYSwgQW5qdSIsCiAgICBwbGFjZT1GQUtFLAogICAgcHA9IjMzLS00MCIsCiAgICBlbnRyeXR5cGU9ImlucHJvY2VlZGluZ3MiLAogICAgc2VyaWVzPSJJV0FBUEYgJzA2IiwKICAgIGlzYm49IjEtNTk1OTMtNDA2LTUiLAogICAgbG9jYXRpb249IlNoYW5naGFpLCBDaGluYSIsCiAgICBJRD0iSmhhOjIwMDY6UEZBOjExMzg2NzAuMTEzODY3NyIsCiAgICBhY209IjEiLAogICAgcGxhY2V4PSJQcm9jZWVkaW5ncyBvZiB0aGUgMjAwNiBJbnRlcm5hdGlvbmFsIFdvcmtzaG9wIG9uIEFkdmFuY2VzIGFuZCBBcHBsaWNhdGlvbnMgb2YgUHJvYmxlbSBGcmFtZXMiLAopKQonJycpOw==\"));\n",
       "    "
      ],
      "text/plain": [
       "<IPython.core.display.Javascript object>"
      ]
     },
     "metadata": {},
     "output_type": "display_data"
    },
    {
     "data": {
      "application/javascript": [
       "$('span:contains(\"# Temp\")').closest('.cell').remove();"
      ],
      "text/plain": [
       "<IPython.core.display.Javascript object>"
      ]
     },
     "metadata": {},
     "output_type": "display_data"
    },
    {
     "data": {
      "application/javascript": [
       "\n",
       "        $('span:contains(\"# Temp\")').closest('.cell').remove();\n",
       "        var code = IPython.notebook.insert_cell_below('code');\n",
       "        code.set_text(atob(\"IyBUZW1wCmluc2VydCgnJycKYmFrZXIyMDExYSA9IERCKFdvcmtVbnJlbGF0ZWQoCiAgICAyMDExLCAiRGVzaWduIEdvYWwtb3JpZW50ZWQgTGV2ZWwgRGVzaWduIiwKICAgIGRpc3BsYXk9ImJha2VyIiwKICAgIGF1dGhvcnM9IkJha2VyLCBFcmljIGFuZCBNYXksIEJyaWFuIiwKICAgIHBsYWNlPUZBS0UsCiAgICBwcD0iMTg6MS0tMTg6MSIsCiAgICBlbnRyeXR5cGU9ImlucHJvY2VlZGluZ3MiLAogICAgc2VyaWVzPSJTSUdHUkFQSCAnMTEiLAogICAgaXNibj0iOTc4LTEtNDUwMy0wOTcxLTQiLAogICAgbG9jYXRpb249IlZhbmNvdXZlciwgQnJpdGlzaCBDb2x1bWJpYSwgQ2FuYWRhIiwKICAgIElEPSJCYWtlcjoyMDExOkRHTDoyMDM3NzE1LjIwMzc3MzciLAogICAgYWNtPSIxIiwKICAgIHBsYWNleD0iQUNNIFNJR0dSQVBIIDIwMTEgUG9zdGVycyIsCikpCicnJyk7\"));\n",
       "    "
      ],
      "text/plain": [
       "<IPython.core.display.Javascript object>"
      ]
     },
     "metadata": {},
     "output_type": "display_data"
    },
    {
     "data": {
      "application/javascript": [
       "$('span:contains(\"# Temp\")').closest('.cell').remove();"
      ],
      "text/plain": [
       "<IPython.core.display.Javascript object>"
      ]
     },
     "metadata": {},
     "output_type": "display_data"
    },
    {
     "data": {
      "application/javascript": [
       "\n",
       "        $('span:contains(\"# Temp\")').closest('.cell').remove();\n",
       "        var code = IPython.notebook.insert_cell_below('code');\n",
       "        code.set_text(atob(\"IyBUZW1wCmluc2VydCgnJycKYmFrZXIyMDExYSA9IERCKFdvcmtVbnJlbGF0ZWQoCiAgICAyMDExLCAiRGVzaWduIEdvYWwtb3JpZW50ZWQgTGV2ZWwgRGVzaWduIiwKICAgIGRpc3BsYXk9ImJha2VyIiwKICAgIGF1dGhvcnM9IkJha2VyLCBFcmljIGFuZCBNYXksIEJyaWFuIiwKICAgIHBsYWNlPUZBS0UsCiAgICBwcD0iMTg6MS0tMTg6MSIsCiAgICBlbnRyeXR5cGU9ImlucHJvY2VlZGluZ3MiLAogICAgc2VyaWVzPSJTSUdHUkFQSCAnMTEiLAogICAgaXNibj0iOTc4LTEtNDUwMy0wOTcxLTQiLAogICAgbG9jYXRpb249IlZhbmNvdXZlciwgQnJpdGlzaCBDb2x1bWJpYSwgQ2FuYWRhIiwKICAgIElEPSJCYWtlcjoyMDExOkRHTDoyMDM3NzE1LjIwMzc3MzciLAogICAgYWNtPSIxIiwKICAgIHBsYWNleD0iQUNNIFNJR0dSQVBIIDIwMTEgUG9zdGVycyIsCikpCicnJyk7\"));\n",
       "    "
      ],
      "text/plain": [
       "<IPython.core.display.Javascript object>"
      ]
     },
     "metadata": {},
     "output_type": "display_data"
    },
    {
     "data": {
      "application/javascript": [
       "$('span:contains(\"# Temp\")').closest('.cell').remove();"
      ],
      "text/plain": [
       "<IPython.core.display.Javascript object>"
      ]
     },
     "metadata": {},
     "output_type": "display_data"
    },
    {
     "data": {
      "application/javascript": [
       "\n",
       "        $('span:contains(\"# Temp\")').closest('.cell').remove();\n",
       "        var code = IPython.notebook.insert_cell_below('code');\n",
       "        code.set_text(atob(\"IyBUZW1wCmluc2VydCgnJycKcm9zYTIwMTVhID0gREIoV29ya1VucmVsYXRlZCgKICAgIDIwMTUsICJTdHJhdGVnaWMgQnVzaW5lc3MgUHJvY2VzcyBNYW5hZ2VtZW50IiwKICAgIGRpc3BsYXk9InJvc2EiLAogICAgYXV0aG9ycz0iTGEgUm9zYSwgTWFyY2VsbG8iLAogICAgcGxhY2U9RkFLRSwKICAgIHBwPSIxNzctLTE3OCIsCiAgICBlbnRyeXR5cGU9ImlucHJvY2VlZGluZ3MiLAogICAgc2VyaWVzPSJJQ1NTUCAyMDE1IiwKICAgIGlzYm49Ijk3OC0xLTQ1MDMtMzM0Ni03IiwKICAgIGxvY2F0aW9uPSJUYWxsaW5uLCBFc3RvbmlhIiwKICAgIElEPSJMYVJvc2E6MjAxNTpTQlA6Mjc4NTU5Mi4yNzg1NjIwIiwKICAgIGFjbT0iMSIsCiAgICBwbGFjZXg9IlByb2NlZWRpbmdzIG9mIHRoZSAyMDE1IEludGVybmF0aW9uYWwgQ29uZmVyZW5jZSBvbiBTb2Z0d2FyZSBhbmQgU3lzdGVtIFByb2Nlc3MiLAopKQonJycpOw==\"));\n",
       "    "
      ],
      "text/plain": [
       "<IPython.core.display.Javascript object>"
      ]
     },
     "metadata": {},
     "output_type": "display_data"
    },
    {
     "data": {
      "application/javascript": [
       "$('span:contains(\"# Temp\")').closest('.cell').remove();"
      ],
      "text/plain": [
       "<IPython.core.display.Javascript object>"
      ]
     },
     "metadata": {},
     "output_type": "display_data"
    },
    {
     "data": {
      "application/javascript": [
       "\n",
       "        $('span:contains(\"# Temp\")').closest('.cell').remove();\n",
       "        var code = IPython.notebook.insert_cell_below('code');\n",
       "        code.set_text(atob(\"IyBUZW1wCmluc2VydCgnJycKcm9zYTIwMTVhID0gREIoV29ya1VucmVsYXRlZCgKICAgIDIwMTUsICJTdHJhdGVnaWMgQnVzaW5lc3MgUHJvY2VzcyBNYW5hZ2VtZW50IiwKICAgIGRpc3BsYXk9InJvc2EiLAogICAgYXV0aG9ycz0iTGEgUm9zYSwgTWFyY2VsbG8iLAogICAgcGxhY2U9RkFLRSwKICAgIHBwPSIxNzctLTE3OCIsCiAgICBlbnRyeXR5cGU9ImlucHJvY2VlZGluZ3MiLAogICAgc2VyaWVzPSJJQ1NTUCAyMDE1IiwKICAgIGlzYm49Ijk3OC0xLTQ1MDMtMzM0Ni03IiwKICAgIGxvY2F0aW9uPSJUYWxsaW5uLCBFc3RvbmlhIiwKICAgIElEPSJMYVJvc2E6MjAxNTpTQlA6Mjc4NTU5Mi4yNzg1NjIwIiwKICAgIGFjbT0iMSIsCiAgICBwbGFjZXg9IlByb2NlZWRpbmdzIG9mIHRoZSAyMDE1IEludGVybmF0aW9uYWwgQ29uZmVyZW5jZSBvbiBTb2Z0d2FyZSBhbmQgU3lzdGVtIFByb2Nlc3MiLAopKQonJycpOw==\"));\n",
       "    "
      ],
      "text/plain": [
       "<IPython.core.display.Javascript object>"
      ]
     },
     "metadata": {},
     "output_type": "display_data"
    },
    {
     "data": {
      "application/javascript": [
       "$('span:contains(\"# Temp\")').closest('.cell').remove();"
      ],
      "text/plain": [
       "<IPython.core.display.Javascript object>"
      ]
     },
     "metadata": {},
     "output_type": "display_data"
    },
    {
     "data": {
      "application/javascript": [
       "\n",
       "        $('span:contains(\"# Temp\")').closest('.cell').remove();\n",
       "        var code = IPython.notebook.insert_cell_below('code');\n",
       "        code.set_text(atob(\"IyBUZW1wCmluc2VydCgnJycKa2Fyam90aDIwMTVhID0gREIoV29ya1VucmVsYXRlZCgKICAgIDIwMTUsICJBbGlnbmluZyBTZWN1cml0eSBhbmQgQnVzaW5lc3MgT2JqZWN0aXZlcyBmb3IgUHJvY2Vzcy1Bd2FyZSBJbmZvcm1hdGlvbiBTeXN0ZW1zIiwKICAgIGRpc3BsYXk9ImthcmpvdGgiLAogICAgYXV0aG9ycz0iS2Fyam90aCwgR/xudGVyIiwKICAgIHBsYWNlPUZBS0UsCiAgICBwcD0iMjQzLS0yNDMiLAogICAgZW50cnl0eXBlPSJpbnByb2NlZWRpbmdzIiwKICAgIHNlcmllcz0iQ09EQVNQWSAnMTUiLAogICAgaXNibj0iOTc4LTEtNDUwMy0zMTkxLTMiLAogICAgbG9jYXRpb249IlNhbiBBbnRvbmlvLCBUZXhhcywgVVNBIiwKICAgIElEPSJLYXJqb3RoOjIwMTU6QVNCOjI2OTkwMjYuMjY5OTAyOCIsCiAgICBhY209IjEiLAogICAgcGxhY2V4PSJQcm9jZWVkaW5ncyBvZiB0aGUgNXRoIEFDTSBDb25mZXJlbmNlIG9uIERhdGEgYW5kIEFwcGxpY2F0aW9uIFNlY3VyaXR5IGFuZCBQcml2YWN5IiwKKSkKJycnKTs=\"));\n",
       "    "
      ],
      "text/plain": [
       "<IPython.core.display.Javascript object>"
      ]
     },
     "metadata": {},
     "output_type": "display_data"
    },
    {
     "data": {
      "application/javascript": [
       "$('span:contains(\"# Temp\")').closest('.cell').remove();"
      ],
      "text/plain": [
       "<IPython.core.display.Javascript object>"
      ]
     },
     "metadata": {},
     "output_type": "display_data"
    },
    {
     "data": {
      "application/javascript": [
       "\n",
       "        $('span:contains(\"# Temp\")').closest('.cell').remove();\n",
       "        var code = IPython.notebook.insert_cell_below('code');\n",
       "        code.set_text(atob(\"IyBUZW1wCmluc2VydCgnJycKa2Fyam90aDIwMTVhID0gREIoV29ya1VucmVsYXRlZCgKICAgIDIwMTUsICJBbGlnbmluZyBTZWN1cml0eSBhbmQgQnVzaW5lc3MgT2JqZWN0aXZlcyBmb3IgUHJvY2Vzcy1Bd2FyZSBJbmZvcm1hdGlvbiBTeXN0ZW1zIiwKICAgIGRpc3BsYXk9ImthcmpvdGgiLAogICAgYXV0aG9ycz0iS2Fyam90aCwgR/xudGVyIiwKICAgIHBsYWNlPUZBS0UsCiAgICBwcD0iMjQzLS0yNDMiLAogICAgZW50cnl0eXBlPSJpbnByb2NlZWRpbmdzIiwKICAgIHNlcmllcz0iQ09EQVNQWSAnMTUiLAogICAgaXNibj0iOTc4LTEtNDUwMy0zMTkxLTMiLAogICAgbG9jYXRpb249IlNhbiBBbnRvbmlvLCBUZXhhcywgVVNBIiwKICAgIElEPSJLYXJqb3RoOjIwMTU6QVNCOjI2OTkwMjYuMjY5OTAyOCIsCiAgICBhY209IjEiLAogICAgcGxhY2V4PSJQcm9jZWVkaW5ncyBvZiB0aGUgNXRoIEFDTSBDb25mZXJlbmNlIG9uIERhdGEgYW5kIEFwcGxpY2F0aW9uIFNlY3VyaXR5IGFuZCBQcml2YWN5IiwKKSkKJycnKTs=\"));\n",
       "    "
      ],
      "text/plain": [
       "<IPython.core.display.Javascript object>"
      ]
     },
     "metadata": {},
     "output_type": "display_data"
    },
    {
     "data": {
      "application/javascript": [
       "$('span:contains(\"# Temp\")').closest('.cell').remove();"
      ],
      "text/plain": [
       "<IPython.core.display.Javascript object>"
      ]
     },
     "metadata": {},
     "output_type": "display_data"
    },
    {
     "data": {
      "application/javascript": [
       "\n",
       "        $('span:contains(\"# Temp\")').closest('.cell').remove();\n",
       "        var code = IPython.notebook.insert_cell_below('code');\n",
       "        code.set_text(atob(\"IyBUZW1wCmluc2VydCgnJycKa2z2Y2tuZXIyMDEwYSA9IERCKFdvcmtVbnJlbGF0ZWQoCiAgICAyMDEwLCAiQWxpZ25pbmcgQnVzaW5lc3MgR29hbHMgYW5kIFVzZXIgR29hbHMgYnkgRW5naW5lZXJpbmcgSGVkb25pYyBRdWFsaXR5IiwKICAgIGRpc3BsYXk9Imts9mNrbmVyIiwKICAgIGF1dGhvcnM9Ikts9mNrbmVyLCBLZXJzdGluIGFuZCBLb2hsZXIsIEtpcnN0aW4gYW5kIEtlcmtvdywgRGFuaWVsIGFuZCBOaWVidWhyLCBTYWJpbmUgYW5kIE5hc3MsIENsYXVkaWEiLAogICAgcGxhY2U9RkFLRSwKICAgIHBwPSIyNDEtLTI1MCIsCiAgICBlbnRyeXR5cGU9ImlucHJvY2VlZGluZ3MiLAogICAgc2VyaWVzPSJFSUNTICcxMCIsCiAgICBpc2JuPSI5NzgtMS00NTAzLTAwODMtNCIsCiAgICBsb2NhdGlvbj0iQmVybGluLCBHZXJtYW55IiwKICAgIElEPSJLbG9ja25lcjoyMDEwOkFCRzoxODIyMDE4LjE4MjIwNTYiLAogICAgYWNtPSIxIiwKICAgIHBsYWNleD0iUHJvY2VlZGluZ3Mgb2YgdGhlIDJOZCBBQ00gU0lHQ0hJIFN5bXBvc2l1bSBvbiBFbmdpbmVlcmluZyBJbnRlcmFjdGl2ZSBDb21wdXRpbmcgU3lzdGVtcyIsCikpCicnJyk7\"));\n",
       "    "
      ],
      "text/plain": [
       "<IPython.core.display.Javascript object>"
      ]
     },
     "metadata": {},
     "output_type": "display_data"
    },
    {
     "data": {
      "application/javascript": [
       "$('span:contains(\"# Temp\")').closest('.cell').remove();"
      ],
      "text/plain": [
       "<IPython.core.display.Javascript object>"
      ]
     },
     "metadata": {},
     "output_type": "display_data"
    },
    {
     "data": {
      "application/javascript": [
       "\n",
       "        $('span:contains(\"# Temp\")').closest('.cell').remove();\n",
       "        var code = IPython.notebook.insert_cell_below('code');\n",
       "        code.set_text(atob(\"IyBUZW1wCmluc2VydCgnJycKa2z2Y2tuZXIyMDEwYSA9IERCKFdvcmtVbnJlbGF0ZWQoCiAgICAyMDEwLCAiQWxpZ25pbmcgQnVzaW5lc3MgR29hbHMgYW5kIFVzZXIgR29hbHMgYnkgRW5naW5lZXJpbmcgSGVkb25pYyBRdWFsaXR5IiwKICAgIGRpc3BsYXk9Imts9mNrbmVyIiwKICAgIGF1dGhvcnM9Ikts9mNrbmVyLCBLZXJzdGluIGFuZCBLb2hsZXIsIEtpcnN0aW4gYW5kIEtlcmtvdywgRGFuaWVsIGFuZCBOaWVidWhyLCBTYWJpbmUgYW5kIE5hc3MsIENsYXVkaWEiLAogICAgcGxhY2U9RkFLRSwKICAgIHBwPSIyNDEtLTI1MCIsCiAgICBlbnRyeXR5cGU9ImlucHJvY2VlZGluZ3MiLAogICAgc2VyaWVzPSJFSUNTICcxMCIsCiAgICBpc2JuPSI5NzgtMS00NTAzLTAwODMtNCIsCiAgICBsb2NhdGlvbj0iQmVybGluLCBHZXJtYW55IiwKICAgIElEPSJLbG9ja25lcjoyMDEwOkFCRzoxODIyMDE4LjE4MjIwNTYiLAogICAgYWNtPSIxIiwKICAgIHBsYWNleD0iUHJvY2VlZGluZ3Mgb2YgdGhlIDJOZCBBQ00gU0lHQ0hJIFN5bXBvc2l1bSBvbiBFbmdpbmVlcmluZyBJbnRlcmFjdGl2ZSBDb21wdXRpbmcgU3lzdGVtcyIsCikpCicnJyk7\"));\n",
       "    "
      ],
      "text/plain": [
       "<IPython.core.display.Javascript object>"
      ]
     },
     "metadata": {},
     "output_type": "display_data"
    },
    {
     "data": {
      "application/javascript": [
       "$('span:contains(\"# Temp\")').closest('.cell').remove();"
      ],
      "text/plain": [
       "<IPython.core.display.Javascript object>"
      ]
     },
     "metadata": {},
     "output_type": "display_data"
    },
    {
     "data": {
      "application/javascript": [
       "\n",
       "        $('span:contains(\"# Temp\")').closest('.cell').remove();\n",
       "        var code = IPython.notebook.insert_cell_below('code');\n",
       "        code.set_text(atob(\"IyBUZW1wCmluc2VydCgnJycKYmFiYXIyMDA4YSA9IERCKFdvcmtVbnJlbGF0ZWQoCiAgICAyMDA4LCAiUHJvYmxlbSBGcmFtZXMgYW5kIEJ1c2luZXNzIFN0cmF0ZWd5IE1vZGVsbGluZyIsCiAgICBkaXNwbGF5PSJiYWJhciIsCiAgICBhdXRob3JzPSJCYWJhciwgQWJkdWwgUi4gYW5kIFpvd2doaSwgRGlkYXIgYW5kIENveCwgS2FybCBhbmQgVG9zaWMsIFZsYWRpbWlyIGFuZCBCbGVpc3RlaW4sIFN0ZXZlbiBhbmQgVmVybmVyLCBKdW5lIiwKICAgIHBsYWNlPUZBS0UsCiAgICBwcD0iNDgtLTUxIiwKICAgIGVudHJ5dHlwZT0iaW5wcm9jZWVkaW5ncyIsCiAgICBzZXJpZXM9IklXQUFQRiAnMDgiLAogICAgaXNibj0iOTc4LTEtNjA1NTgtMDIwLTMiLAogICAgbG9jYXRpb249IkxlaXB6aWcsIEdlcm1hbnkiLAogICAgSUQ9IkJhYmFyOjIwMDg6UEZCOjEzNzA4MTEuMTM3MDgyMSIsCiAgICBhY209IjEiLAogICAgcGxhY2V4PSJQcm9jZWVkaW5ncyBvZiB0aGUgM3JkIEludGVybmF0aW9uYWwgV29ya3Nob3Agb24gQXBwbGljYXRpb25zIGFuZCBBZHZhbmNlcyBvZiBQcm9ibGVtIEZyYW1lcyIsCikpCicnJyk7\"));\n",
       "    "
      ],
      "text/plain": [
       "<IPython.core.display.Javascript object>"
      ]
     },
     "metadata": {},
     "output_type": "display_data"
    },
    {
     "data": {
      "application/javascript": [
       "$('span:contains(\"# Temp\")').closest('.cell').remove();"
      ],
      "text/plain": [
       "<IPython.core.display.Javascript object>"
      ]
     },
     "metadata": {},
     "output_type": "display_data"
    },
    {
     "data": {
      "application/javascript": [
       "\n",
       "        $('span:contains(\"# Temp\")').closest('.cell').remove();\n",
       "        var code = IPython.notebook.insert_cell_below('code');\n",
       "        code.set_text(atob(\"IyBUZW1wCmluc2VydCgnJycKYmFiYXIyMDA4YSA9IERCKFdvcmtVbnJlbGF0ZWQoCiAgICAyMDA4LCAiUHJvYmxlbSBGcmFtZXMgYW5kIEJ1c2luZXNzIFN0cmF0ZWd5IE1vZGVsbGluZyIsCiAgICBkaXNwbGF5PSJiYWJhciIsCiAgICBhdXRob3JzPSJCYWJhciwgQWJkdWwgUi4gYW5kIFpvd2doaSwgRGlkYXIgYW5kIENveCwgS2FybCBhbmQgVG9zaWMsIFZsYWRpbWlyIGFuZCBCbGVpc3RlaW4sIFN0ZXZlbiBhbmQgVmVybmVyLCBKdW5lIiwKICAgIHBsYWNlPUZBS0UsCiAgICBwcD0iNDgtLTUxIiwKICAgIGVudHJ5dHlwZT0iaW5wcm9jZWVkaW5ncyIsCiAgICBzZXJpZXM9IklXQUFQRiAnMDgiLAogICAgaXNibj0iOTc4LTEtNjA1NTgtMDIwLTMiLAogICAgbG9jYXRpb249IkxlaXB6aWcsIEdlcm1hbnkiLAogICAgSUQ9IkJhYmFyOjIwMDg6UEZCOjEzNzA4MTEuMTM3MDgyMSIsCiAgICBhY209IjEiLAogICAgcGxhY2V4PSJQcm9jZWVkaW5ncyBvZiB0aGUgM3JkIEludGVybmF0aW9uYWwgV29ya3Nob3Agb24gQXBwbGljYXRpb25zIGFuZCBBZHZhbmNlcyBvZiBQcm9ibGVtIEZyYW1lcyIsCikpCicnJyk7\"));\n",
       "    "
      ],
      "text/plain": [
       "<IPython.core.display.Javascript object>"
      ]
     },
     "metadata": {},
     "output_type": "display_data"
    },
    {
     "data": {
      "application/javascript": [
       "$('span:contains(\"# Temp\")').closest('.cell').remove();"
      ],
      "text/plain": [
       "<IPython.core.display.Javascript object>"
      ]
     },
     "metadata": {},
     "output_type": "display_data"
    },
    {
     "data": {
      "application/javascript": [
       "\n",
       "        $('span:contains(\"# Temp\")').closest('.cell').remove();\n",
       "        var code = IPython.notebook.insert_cell_below('code');\n",
       "        code.set_text(atob(\"IyBUZW1wCmluc2VydCgnJycKbGV0aWVyMjAwNGEgPSBEQihXb3JrVW5yZWxhdGVkKAogICAgMjAwNCwgIlJlYXNvbmluZyBBYm91dCBQYXJ0aWFsIEdvYWwgU2F0aXNmYWN0aW9uIGZvciBSZXF1aXJlbWVudHMgYW5kIERlc2lnbiBFbmdpbmVlcmluZyIsCiAgICBkaXNwbGF5PSJsZXRpZXIiLAogICAgYXV0aG9ycz0iTGV0aWVyLCBFbW1hbnVlbCBhbmQgdmFuIExhbXN3ZWVyZGUsIEF4ZWwiLAogICAgcGxhY2U9RkFLRSwKICAgIHBwPSI1My0tNjIiLAogICAgZW50cnl0eXBlPSJhcnRpY2xlIiwKICAgIGlzc3VlX2RhdGU9Ik5vdmVtYmVyIDIwMDQiLAogICAgdm9sdW1lPSIyOSIsCiAgICBudW1iZXI9IjYiLAogICAgbW9udGg9Im9jdCIsCiAgICBpc3NuPSIwMTYzLTU5NDgiLAogICAgSUQ9IkxldGllcjoyMDA0OlJQRzoxMDQxNjg1LjEwMjk5MDUiLAogICAgYWNtPSIxIiwKICAgIHBsYWNleD0iU0lHU09GVCBTb2Z0dy4gRW5nLiBOb3RlcyIsCikpCicnJyk7\"));\n",
       "    "
      ],
      "text/plain": [
       "<IPython.core.display.Javascript object>"
      ]
     },
     "metadata": {},
     "output_type": "display_data"
    },
    {
     "data": {
      "application/javascript": [
       "$('span:contains(\"# Temp\")').closest('.cell').remove();"
      ],
      "text/plain": [
       "<IPython.core.display.Javascript object>"
      ]
     },
     "metadata": {},
     "output_type": "display_data"
    },
    {
     "data": {
      "application/javascript": [
       "\n",
       "        $('span:contains(\"# Temp\")').closest('.cell').remove();\n",
       "        var code = IPython.notebook.insert_cell_below('code');\n",
       "        code.set_text(atob(\"IyBUZW1wCmluc2VydCgnJycKbGV0aWVyMjAwNGEgPSBEQihXb3JrVW5yZWxhdGVkKAogICAgMjAwNCwgIlJlYXNvbmluZyBBYm91dCBQYXJ0aWFsIEdvYWwgU2F0aXNmYWN0aW9uIGZvciBSZXF1aXJlbWVudHMgYW5kIERlc2lnbiBFbmdpbmVlcmluZyIsCiAgICBkaXNwbGF5PSJsZXRpZXIiLAogICAgYXV0aG9ycz0iTGV0aWVyLCBFbW1hbnVlbCBhbmQgdmFuIExhbXN3ZWVyZGUsIEF4ZWwiLAogICAgcGxhY2U9RkFLRSwKICAgIHBwPSI1My0tNjIiLAogICAgZW50cnl0eXBlPSJhcnRpY2xlIiwKICAgIGlzc3VlX2RhdGU9Ik5vdmVtYmVyIDIwMDQiLAogICAgdm9sdW1lPSIyOSIsCiAgICBudW1iZXI9IjYiLAogICAgbW9udGg9Im9jdCIsCiAgICBpc3NuPSIwMTYzLTU5NDgiLAogICAgSUQ9IkxldGllcjoyMDA0OlJQRzoxMDQxNjg1LjEwMjk5MDUiLAogICAgYWNtPSIxIiwKICAgIHBsYWNleD0iU0lHU09GVCBTb2Z0dy4gRW5nLiBOb3RlcyIsCikpCicnJyk7\"));\n",
       "    "
      ],
      "text/plain": [
       "<IPython.core.display.Javascript object>"
      ]
     },
     "metadata": {},
     "output_type": "display_data"
    },
    {
     "data": {
      "application/javascript": [
       "$('span:contains(\"# Temp\")').closest('.cell').remove();"
      ],
      "text/plain": [
       "<IPython.core.display.Javascript object>"
      ]
     },
     "metadata": {},
     "output_type": "display_data"
    },
    {
     "data": {
      "application/javascript": [
       "\n",
       "        $('span:contains(\"# Temp\")').closest('.cell').remove();\n",
       "        var code = IPython.notebook.insert_cell_below('code');\n",
       "        code.set_text(atob(\"IyBUZW1wCmluc2VydCgnJycnJycpOwpzZXRfYXR0cmlidXRlKCdsZXRpZXIyMDA0YScsICdzZXJpZXMnLCAnU0lHU09GVCAnMDQvRlNFLTEyJyk7CnNldF9hdHRyaWJ1dGUoJ2xldGllcjIwMDRhJywgJ2lzYm4nLCAnMS01ODExMy04NTUtNScpOwpzZXRfYXR0cmlidXRlKCdsZXRpZXIyMDA0YScsICdsb2NhdGlvbicsICdOZXdwb3J0IEJlYWNoLCBDQSwgVVNBJyk7\"));\n",
       "    "
      ],
      "text/plain": [
       "<IPython.core.display.Javascript object>"
      ]
     },
     "metadata": {},
     "output_type": "display_data"
    },
    {
     "data": {
      "application/javascript": [
       "$('span:contains(\"# Temp\")').closest('.cell').remove();"
      ],
      "text/plain": [
       "<IPython.core.display.Javascript object>"
      ]
     },
     "metadata": {},
     "output_type": "display_data"
    },
    {
     "data": {
      "application/javascript": [
       "\n",
       "        $('span:contains(\"# Temp\")').closest('.cell').remove();\n",
       "        var code = IPython.notebook.insert_cell_below('code');\n",
       "        code.set_text(atob(\"IyBUZW1wCmluc2VydCgnJycnJycpOwpzZXRfYXR0cmlidXRlKCdsZXRpZXIyMDA0YScsICdzZXJpZXMnLCAnU0lHU09GVCAnMDQvRlNFLTEyJyk7CnNldF9hdHRyaWJ1dGUoJ2xldGllcjIwMDRhJywgJ2lzYm4nLCAnMS01ODExMy04NTUtNScpOwpzZXRfYXR0cmlidXRlKCdsZXRpZXIyMDA0YScsICdsb2NhdGlvbicsICdOZXdwb3J0IEJlYWNoLCBDQSwgVVNBJyk7\"));\n",
       "    "
      ],
      "text/plain": [
       "<IPython.core.display.Javascript object>"
      ]
     },
     "metadata": {},
     "output_type": "display_data"
    },
    {
     "data": {
      "application/javascript": [
       "$('span:contains(\"# Temp\")').closest('.cell').remove();"
      ],
      "text/plain": [
       "<IPython.core.display.Javascript object>"
      ]
     },
     "metadata": {},
     "output_type": "display_data"
    },
    {
     "data": {
      "application/javascript": [
       "\n",
       "        $('span:contains(\"# Temp\")').closest('.cell').remove();\n",
       "        var code = IPython.notebook.insert_cell_below('code');\n",
       "        code.set_text(atob(\"IyBUZW1wCmluc2VydCgnJycKcm9zc2VsZXQyMDA5YSA9IERCKFdvcmtVbnJlbGF0ZWQoCiAgICAyMDA5LCAiS25vd2xlZGdlIE1hbmFnZW1lbnQgRnJhbWV3b3JrIGZvciBJVCBQcm9qZWN0IFBvcnRmb2xpbyBSaXNrIE1hbmFnZW1lbnQiLAogICAgZGlzcGxheT0icm9zc2VsZXQiLAogICAgYXV0aG9ycz0iUm9zc2VsZXQsIFVseXNzZSBhbmQgV2VudGxhbmQsIE1haWEiLAogICAgcGxhY2U9RkFLRSwKICAgIHBwPSIyMDMtLTIwNCIsCiAgICBlbnRyeXR5cGU9ImlucHJvY2VlZGluZ3MiLAogICAgc2VyaWVzPSJLLUNBUCAnMDkiLAogICAgaXNibj0iOTc4LTEtNjA1NTgtNjU4LTgiLAogICAgbG9jYXRpb249IlJlZG9uZG8gQmVhY2gsIENhbGlmb3JuaWEsIFVTQSIsCiAgICBJRD0iUm9zc2VsZXQ6MjAwOTpLTUY6MTU5NzczNS4xNTk3NzgzIiwKICAgIGFjbT0iMSIsCiAgICBwbGFjZXg9IlByb2NlZWRpbmdzIG9mIHRoZSBGaWZ0aCBJbnRlcm5hdGlvbmFsIENvbmZlcmVuY2Ugb24gS25vd2xlZGdlIENhcHR1cmUiLAopKQonJycpOw==\"));\n",
       "    "
      ],
      "text/plain": [
       "<IPython.core.display.Javascript object>"
      ]
     },
     "metadata": {},
     "output_type": "display_data"
    },
    {
     "data": {
      "application/javascript": [
       "$('span:contains(\"# Temp\")').closest('.cell').remove();"
      ],
      "text/plain": [
       "<IPython.core.display.Javascript object>"
      ]
     },
     "metadata": {},
     "output_type": "display_data"
    },
    {
     "data": {
      "application/javascript": [
       "\n",
       "        $('span:contains(\"# Temp\")').closest('.cell').remove();\n",
       "        var code = IPython.notebook.insert_cell_below('code');\n",
       "        code.set_text(atob(\"IyBUZW1wCmluc2VydCgnJycKcm9zc2VsZXQyMDA5YSA9IERCKFdvcmtVbnJlbGF0ZWQoCiAgICAyMDA5LCAiS25vd2xlZGdlIE1hbmFnZW1lbnQgRnJhbWV3b3JrIGZvciBJVCBQcm9qZWN0IFBvcnRmb2xpbyBSaXNrIE1hbmFnZW1lbnQiLAogICAgZGlzcGxheT0icm9zc2VsZXQiLAogICAgYXV0aG9ycz0iUm9zc2VsZXQsIFVseXNzZSBhbmQgV2VudGxhbmQsIE1haWEiLAogICAgcGxhY2U9RkFLRSwKICAgIHBwPSIyMDMtLTIwNCIsCiAgICBlbnRyeXR5cGU9ImlucHJvY2VlZGluZ3MiLAogICAgc2VyaWVzPSJLLUNBUCAnMDkiLAogICAgaXNibj0iOTc4LTEtNjA1NTgtNjU4LTgiLAogICAgbG9jYXRpb249IlJlZG9uZG8gQmVhY2gsIENhbGlmb3JuaWEsIFVTQSIsCiAgICBJRD0iUm9zc2VsZXQ6MjAwOTpLTUY6MTU5NzczNS4xNTk3NzgzIiwKICAgIGFjbT0iMSIsCiAgICBwbGFjZXg9IlByb2NlZWRpbmdzIG9mIHRoZSBGaWZ0aCBJbnRlcm5hdGlvbmFsIENvbmZlcmVuY2Ugb24gS25vd2xlZGdlIENhcHR1cmUiLAopKQonJycpOw==\"));\n",
       "    "
      ],
      "text/plain": [
       "<IPython.core.display.Javascript object>"
      ]
     },
     "metadata": {},
     "output_type": "display_data"
    },
    {
     "data": {
      "application/javascript": [
       "$('span:contains(\"# Temp\")').closest('.cell').remove();"
      ],
      "text/plain": [
       "<IPython.core.display.Javascript object>"
      ]
     },
     "metadata": {},
     "output_type": "display_data"
    },
    {
     "data": {
      "application/javascript": [
       "\n",
       "        $('span:contains(\"# Temp\")').closest('.cell').remove();\n",
       "        var code = IPython.notebook.insert_cell_below('code');\n",
       "        code.set_text(atob(\"IyBUZW1wCmluc2VydCgnJycnJycpOwpzZXRfYXR0cmlidXRlKCdsZXRpZXIyMDA0YScsICdzZXJpZXMnLCAnU0lHU09GVCAnMDQvRlNFLTEyJyk7CnNldF9hdHRyaWJ1dGUoJ2xldGllcjIwMDRhJywgJ2lzYm4nLCAnMS01ODExMy04NTUtNScpOwpzZXRfYXR0cmlidXRlKCdsZXRpZXIyMDA0YScsICdsb2NhdGlvbicsICdOZXdwb3J0IEJlYWNoLCBDQSwgVVNBJyk7\"));\n",
       "    "
      ],
      "text/plain": [
       "<IPython.core.display.Javascript object>"
      ]
     },
     "metadata": {},
     "output_type": "display_data"
    },
    {
     "data": {
      "application/javascript": [
       "$('span:contains(\"# Temp\")').closest('.cell').remove();"
      ],
      "text/plain": [
       "<IPython.core.display.Javascript object>"
      ]
     },
     "metadata": {},
     "output_type": "display_data"
    },
    {
     "data": {
      "application/javascript": [
       "\n",
       "        $('span:contains(\"# Temp\")').closest('.cell').remove();\n",
       "        var code = IPython.notebook.insert_cell_below('code');\n",
       "        code.set_text(atob(\"IyBUZW1wCmluc2VydCgnJycnJycpOwpzZXRfYXR0cmlidXRlKCdsZXRpZXIyMDA0YScsICdzZXJpZXMnLCAnU0lHU09GVCAnMDQvRlNFLTEyJyk7CnNldF9hdHRyaWJ1dGUoJ2xldGllcjIwMDRhJywgJ2lzYm4nLCAnMS01ODExMy04NTUtNScpOwpzZXRfYXR0cmlidXRlKCdsZXRpZXIyMDA0YScsICdsb2NhdGlvbicsICdOZXdwb3J0IEJlYWNoLCBDQSwgVVNBJyk7\"));\n",
       "    "
      ],
      "text/plain": [
       "<IPython.core.display.Javascript object>"
      ]
     },
     "metadata": {},
     "output_type": "display_data"
    },
    {
     "data": {
      "application/javascript": [
       "$('span:contains(\"# Temp\")').closest('.cell').remove();"
      ],
      "text/plain": [
       "<IPython.core.display.Javascript object>"
      ]
     },
     "metadata": {},
     "output_type": "display_data"
    },
    {
     "data": {
      "application/javascript": [
       "\n",
       "        $('span:contains(\"# Temp\")').closest('.cell').remove();\n",
       "        var code = IPython.notebook.insert_cell_below('code');\n",
       "        code.set_text(atob(\"IyBUZW1wCmluc2VydCgnJycKcm9zc2VsZXQyMDA5YSA9IERCKFdvcmtVbnJlbGF0ZWQoCiAgICAyMDA5LCAiS25vd2xlZGdlIE1hbmFnZW1lbnQgRnJhbWV3b3JrIGZvciBJVCBQcm9qZWN0IFBvcnRmb2xpbyBSaXNrIE1hbmFnZW1lbnQiLAogICAgZGlzcGxheT0icm9zc2VsZXQiLAogICAgYXV0aG9ycz0iUm9zc2VsZXQsIFVseXNzZSBhbmQgV2VudGxhbmQsIE1haWEiLAogICAgcGxhY2U9RkFLRSwKICAgIHBwPSIyMDMtLTIwNCIsCiAgICBlbnRyeXR5cGU9ImlucHJvY2VlZGluZ3MiLAogICAgc2VyaWVzPSJLLUNBUCAnMDkiLAogICAgaXNibj0iOTc4LTEtNjA1NTgtNjU4LTgiLAogICAgbG9jYXRpb249IlJlZG9uZG8gQmVhY2gsIENhbGlmb3JuaWEsIFVTQSIsCiAgICBJRD0iUm9zc2VsZXQ6MjAwOTpLTUY6MTU5NzczNS4xNTk3NzgzIiwKICAgIGFjbT0iMSIsCiAgICBwbGFjZXg9IlByb2NlZWRpbmdzIG9mIHRoZSBGaWZ0aCBJbnRlcm5hdGlvbmFsIENvbmZlcmVuY2Ugb24gS25vd2xlZGdlIENhcHR1cmUiLAopKQonJycpOw==\"));\n",
       "    "
      ],
      "text/plain": [
       "<IPython.core.display.Javascript object>"
      ]
     },
     "metadata": {},
     "output_type": "display_data"
    },
    {
     "data": {
      "application/javascript": [
       "$('span:contains(\"# Temp\")').closest('.cell').remove();"
      ],
      "text/plain": [
       "<IPython.core.display.Javascript object>"
      ]
     },
     "metadata": {},
     "output_type": "display_data"
    },
    {
     "data": {
      "application/javascript": [
       "\n",
       "        $('span:contains(\"# Temp\")').closest('.cell').remove();\n",
       "        var code = IPython.notebook.insert_cell_below('code');\n",
       "        code.set_text(atob(\"IyBUZW1wCmluc2VydCgnJycKcm9zc2VsZXQyMDA5YSA9IERCKFdvcmtVbnJlbGF0ZWQoCiAgICAyMDA5LCAiS25vd2xlZGdlIE1hbmFnZW1lbnQgRnJhbWV3b3JrIGZvciBJVCBQcm9qZWN0IFBvcnRmb2xpbyBSaXNrIE1hbmFnZW1lbnQiLAogICAgZGlzcGxheT0icm9zc2VsZXQiLAogICAgYXV0aG9ycz0iUm9zc2VsZXQsIFVseXNzZSBhbmQgV2VudGxhbmQsIE1haWEiLAogICAgcGxhY2U9RkFLRSwKICAgIHBwPSIyMDMtLTIwNCIsCiAgICBlbnRyeXR5cGU9ImlucHJvY2VlZGluZ3MiLAogICAgc2VyaWVzPSJLLUNBUCAnMDkiLAogICAgaXNibj0iOTc4LTEtNjA1NTgtNjU4LTgiLAogICAgbG9jYXRpb249IlJlZG9uZG8gQmVhY2gsIENhbGlmb3JuaWEsIFVTQSIsCiAgICBJRD0iUm9zc2VsZXQ6MjAwOTpLTUY6MTU5NzczNS4xNTk3NzgzIiwKICAgIGFjbT0iMSIsCiAgICBwbGFjZXg9IlByb2NlZWRpbmdzIG9mIHRoZSBGaWZ0aCBJbnRlcm5hdGlvbmFsIENvbmZlcmVuY2Ugb24gS25vd2xlZGdlIENhcHR1cmUiLAopKQonJycpOw==\"));\n",
       "    "
      ],
      "text/plain": [
       "<IPython.core.display.Javascript object>"
      ]
     },
     "metadata": {},
     "output_type": "display_data"
    },
    {
     "data": {
      "application/javascript": [
       "$('span:contains(\"# Temp\")').closest('.cell').remove();"
      ],
      "text/plain": [
       "<IPython.core.display.Javascript object>"
      ]
     },
     "metadata": {},
     "output_type": "display_data"
    },
    {
     "data": {
      "application/javascript": [
       "\n",
       "        $('span:contains(\"# Temp\")').closest('.cell').remove();\n",
       "        var code = IPython.notebook.insert_cell_below('code');\n",
       "        code.set_text(atob(\"IyBUZW1wCmluc2VydCgnJycnJycpOwpzZXRfYXR0cmlidXRlKCdtYW5kaT8yMDEwYicsICdwcCcsICcyMDoxLS0yMDoxMCcpOwpzZXRfYXR0cmlidXRlKCdtYW5kaT8yMDEwYicsICdzZXJpZXMnLCAnRVNFTSAnMTAnKTsKc2V0X2F0dHJpYnV0ZSgnbWFuZGk/MjAxMGInLCAnaXNibicsICc5NzgtMS00NTAzLTAwMzktMScpOwpzZXRfYXR0cmlidXRlKCdtYW5kaT8yMDEwYicsICdsb2NhdGlvbicsICdCb2x6YW5vLUJvemVuLCBJdGFseScpOwpzZXRfYXR0cmlidXRlKCdtYW5kaT8yMDEwYicsICdhY20nLCAnMScpOwpzZXRfYXR0cmlidXRlKCdtYW5kaT8yMDEwYicsICdwbGFjZXgnLCAnUHJvY2VlZGluZ3Mgb2YgdGhlIDIwMTAgQUNNLUlFRUUgSW50ZXJuYXRpb25hbCBTeW1wb3NpdW0gb24gRW1waXJpY2FsIFNvZnR3YXJlIEVuZ2luZWVyaW5nIGFuZCBNZWFzdXJlbWVudCcpOw==\"));\n",
       "    "
      ],
      "text/plain": [
       "<IPython.core.display.Javascript object>"
      ]
     },
     "metadata": {},
     "output_type": "display_data"
    },
    {
     "data": {
      "application/javascript": [
       "$('span:contains(\"# Temp\")').closest('.cell').remove();"
      ],
      "text/plain": [
       "<IPython.core.display.Javascript object>"
      ]
     },
     "metadata": {},
     "output_type": "display_data"
    },
    {
     "data": {
      "application/javascript": [
       "\n",
       "        $('span:contains(\"# Temp\")').closest('.cell').remove();\n",
       "        var code = IPython.notebook.insert_cell_below('code');\n",
       "        code.set_text(atob(\"IyBUZW1wCmluc2VydCgnJycnJycpOwpzZXRfYXR0cmlidXRlKCdtYW5kaT8yMDEwYicsICdwcCcsICcyMDoxLS0yMDoxMCcpOwpzZXRfYXR0cmlidXRlKCdtYW5kaT8yMDEwYicsICdzZXJpZXMnLCAnRVNFTSAnMTAnKTsKc2V0X2F0dHJpYnV0ZSgnbWFuZGk/MjAxMGInLCAnaXNibicsICc5NzgtMS00NTAzLTAwMzktMScpOwpzZXRfYXR0cmlidXRlKCdtYW5kaT8yMDEwYicsICdsb2NhdGlvbicsICdCb2x6YW5vLUJvemVuLCBJdGFseScpOwpzZXRfYXR0cmlidXRlKCdtYW5kaT8yMDEwYicsICdhY20nLCAnMScpOwpzZXRfYXR0cmlidXRlKCdtYW5kaT8yMDEwYicsICdwbGFjZXgnLCAnUHJvY2VlZGluZ3Mgb2YgdGhlIDIwMTAgQUNNLUlFRUUgSW50ZXJuYXRpb25hbCBTeW1wb3NpdW0gb24gRW1waXJpY2FsIFNvZnR3YXJlIEVuZ2luZWVyaW5nIGFuZCBNZWFzdXJlbWVudCcpOw==\"));\n",
       "    "
      ],
      "text/plain": [
       "<IPython.core.display.Javascript object>"
      ]
     },
     "metadata": {},
     "output_type": "display_data"
    },
    {
     "data": {
      "application/javascript": [
       "$('span:contains(\"# Temp\")').closest('.cell').remove();"
      ],
      "text/plain": [
       "<IPython.core.display.Javascript object>"
      ]
     },
     "metadata": {},
     "output_type": "display_data"
    },
    {
     "data": {
      "application/javascript": [
       "\n",
       "        $('span:contains(\"# Temp\")').closest('.cell').remove();\n",
       "        var code = IPython.notebook.insert_cell_below('code');\n",
       "        code.set_text(atob(\"IyBUZW1wCmluc2VydCgnJycKb2xvbml0ZXJ1MjAxM2EgPSBEQihXb3JrVW5yZWxhdGVkKAogICAgMjAxMywgIk9uIEVraXRpJ3MgU21hcnQgR292ZXJuYW5jZSBmb3IgRGV2ZWxvcG1lbnQgQXBwcm9hY2g6IEEgUmVmbGV4aXZlIEFjY291bnQiLAogICAgZGlzcGxheT0ib2xvbml0ZXJ1IiwKICAgIGF1dGhvcnM9Ik9sb25pdGVydSwgT2x1dG95aW4gSi4gYW5kIE9qbywgQWRlZ2JveWVnYSIsCiAgICBwbGFjZT1GQUtFLAogICAgcHA9IjE5MC0tMTkzIiwKICAgIGVudHJ5dHlwZT0iaW5wcm9jZWVkaW5ncyIsCiAgICBzZXJpZXM9IklDRUdPViAnMTMiLAogICAgaXNibj0iOTc4LTEtNDUwMy0yNDU2LTQiLAogICAgbG9jYXRpb249IlNlb3VsLCBSZXB1YmxpYyBvZiBLb3JlYSIsCiAgICBJRD0iT2xvbml0ZXJ1OjIwMTM6RVNHOjI1OTE4ODguMjU5MTkyMCIsCiAgICBhY209IjEiLAogICAgcGxhY2V4PSJQcm9jZWVkaW5ncyBvZiB0aGUgN3RoIEludGVybmF0aW9uYWwgQ29uZmVyZW5jZSBvbiBUaGVvcnkgYW5kIFByYWN0aWNlIG9mIEVsZWN0cm9uaWMgR292ZXJuYW5jZSIsCikpCicnJyk7\"));\n",
       "    "
      ],
      "text/plain": [
       "<IPython.core.display.Javascript object>"
      ]
     },
     "metadata": {},
     "output_type": "display_data"
    },
    {
     "data": {
      "application/javascript": [
       "$('span:contains(\"# Temp\")').closest('.cell').remove();"
      ],
      "text/plain": [
       "<IPython.core.display.Javascript object>"
      ]
     },
     "metadata": {},
     "output_type": "display_data"
    },
    {
     "data": {
      "application/javascript": [
       "\n",
       "        $('span:contains(\"# Temp\")').closest('.cell').remove();\n",
       "        var code = IPython.notebook.insert_cell_below('code');\n",
       "        code.set_text(atob(\"IyBUZW1wCmluc2VydCgnJycKb2xvbml0ZXJ1MjAxM2EgPSBEQihXb3JrVW5yZWxhdGVkKAogICAgMjAxMywgIk9uIEVraXRpJ3MgU21hcnQgR292ZXJuYW5jZSBmb3IgRGV2ZWxvcG1lbnQgQXBwcm9hY2g6IEEgUmVmbGV4aXZlIEFjY291bnQiLAogICAgZGlzcGxheT0ib2xvbml0ZXJ1IiwKICAgIGF1dGhvcnM9Ik9sb25pdGVydSwgT2x1dG95aW4gSi4gYW5kIE9qbywgQWRlZ2JveWVnYSIsCiAgICBwbGFjZT1GQUtFLAogICAgcHA9IjE5MC0tMTkzIiwKICAgIGVudHJ5dHlwZT0iaW5wcm9jZWVkaW5ncyIsCiAgICBzZXJpZXM9IklDRUdPViAnMTMiLAogICAgaXNibj0iOTc4LTEtNDUwMy0yNDU2LTQiLAogICAgbG9jYXRpb249IlNlb3VsLCBSZXB1YmxpYyBvZiBLb3JlYSIsCiAgICBJRD0iT2xvbml0ZXJ1OjIwMTM6RVNHOjI1OTE4ODguMjU5MTkyMCIsCiAgICBhY209IjEiLAogICAgcGxhY2V4PSJQcm9jZWVkaW5ncyBvZiB0aGUgN3RoIEludGVybmF0aW9uYWwgQ29uZmVyZW5jZSBvbiBUaGVvcnkgYW5kIFByYWN0aWNlIG9mIEVsZWN0cm9uaWMgR292ZXJuYW5jZSIsCikpCicnJyk7\"));\n",
       "    "
      ],
      "text/plain": [
       "<IPython.core.display.Javascript object>"
      ]
     },
     "metadata": {},
     "output_type": "display_data"
    },
    {
     "data": {
      "application/javascript": [
       "$('span:contains(\"# Temp\")').closest('.cell').remove();"
      ],
      "text/plain": [
       "<IPython.core.display.Javascript object>"
      ]
     },
     "metadata": {},
     "output_type": "display_data"
    },
    {
     "data": {
      "application/javascript": [
       "\n",
       "        $('span:contains(\"# Temp\")').closest('.cell').remove();\n",
       "        var code = IPython.notebook.insert_cell_below('code');\n",
       "        code.set_text(atob(\"IyBUZW1wCmluc2VydCgnJycnJycpOwpzZXRfYXR0cmlidXRlKCdtYW5kaT8yMDEwYicsICdwcCcsICcyMDoxLS0yMDoxMCcpOwpzZXRfYXR0cmlidXRlKCdtYW5kaT8yMDEwYicsICdzZXJpZXMnLCAnRVNFTSAnMTAnKTsKc2V0X2F0dHJpYnV0ZSgnbWFuZGk/MjAxMGInLCAnaXNibicsICc5NzgtMS00NTAzLTAwMzktMScpOwpzZXRfYXR0cmlidXRlKCdtYW5kaT8yMDEwYicsICdsb2NhdGlvbicsICdCb2x6YW5vLUJvemVuLCBJdGFseScpOwpzZXRfYXR0cmlidXRlKCdtYW5kaT8yMDEwYicsICdhY20nLCAnMScpOwpzZXRfYXR0cmlidXRlKCdtYW5kaT8yMDEwYicsICdwbGFjZXgnLCAnUHJvY2VlZGluZ3Mgb2YgdGhlIDIwMTAgQUNNLUlFRUUgSW50ZXJuYXRpb25hbCBTeW1wb3NpdW0gb24gRW1waXJpY2FsIFNvZnR3YXJlIEVuZ2luZWVyaW5nIGFuZCBNZWFzdXJlbWVudCcpOw==\"));\n",
       "    "
      ],
      "text/plain": [
       "<IPython.core.display.Javascript object>"
      ]
     },
     "metadata": {},
     "output_type": "display_data"
    },
    {
     "data": {
      "application/javascript": [
       "$('span:contains(\"# Temp\")').closest('.cell').remove();"
      ],
      "text/plain": [
       "<IPython.core.display.Javascript object>"
      ]
     },
     "metadata": {},
     "output_type": "display_data"
    },
    {
     "data": {
      "application/javascript": [
       "\n",
       "        $('span:contains(\"# Temp\")').closest('.cell').remove();\n",
       "        var code = IPython.notebook.insert_cell_below('code');\n",
       "        code.set_text(atob(\"IyBUZW1wCmluc2VydCgnJycnJycpOwpzZXRfYXR0cmlidXRlKCdtYW5kaT8yMDEwYicsICdwcCcsICcyMDoxLS0yMDoxMCcpOwpzZXRfYXR0cmlidXRlKCdtYW5kaT8yMDEwYicsICdzZXJpZXMnLCAnRVNFTSAnMTAnKTsKc2V0X2F0dHJpYnV0ZSgnbWFuZGk/MjAxMGInLCAnaXNibicsICc5NzgtMS00NTAzLTAwMzktMScpOwpzZXRfYXR0cmlidXRlKCdtYW5kaT8yMDEwYicsICdsb2NhdGlvbicsICdCb2x6YW5vLUJvemVuLCBJdGFseScpOwpzZXRfYXR0cmlidXRlKCdtYW5kaT8yMDEwYicsICdhY20nLCAnMScpOwpzZXRfYXR0cmlidXRlKCdtYW5kaT8yMDEwYicsICdwbGFjZXgnLCAnUHJvY2VlZGluZ3Mgb2YgdGhlIDIwMTAgQUNNLUlFRUUgSW50ZXJuYXRpb25hbCBTeW1wb3NpdW0gb24gRW1waXJpY2FsIFNvZnR3YXJlIEVuZ2luZWVyaW5nIGFuZCBNZWFzdXJlbWVudCcpOw==\"));\n",
       "    "
      ],
      "text/plain": [
       "<IPython.core.display.Javascript object>"
      ]
     },
     "metadata": {},
     "output_type": "display_data"
    },
    {
     "data": {
      "application/javascript": [
       "$('span:contains(\"# Temp\")').closest('.cell').remove();"
      ],
      "text/plain": [
       "<IPython.core.display.Javascript object>"
      ]
     },
     "metadata": {},
     "output_type": "display_data"
    },
    {
     "data": {
      "application/javascript": [
       "\n",
       "        $('span:contains(\"# Temp\")').closest('.cell').remove();\n",
       "        var code = IPython.notebook.insert_cell_below('code');\n",
       "        code.set_text(atob(\"IyBUZW1wCmluc2VydCgnJycnJycpOw==\"));\n",
       "    "
      ],
      "text/plain": [
       "<IPython.core.display.Javascript object>"
      ]
     },
     "metadata": {},
     "output_type": "display_data"
    },
    {
     "data": {
      "application/javascript": [
       "$('span:contains(\"# Temp\")').closest('.cell').remove();"
      ],
      "text/plain": [
       "<IPython.core.display.Javascript object>"
      ]
     },
     "metadata": {},
     "output_type": "display_data"
    },
    {
     "data": {
      "application/javascript": [
       "\n",
       "        $('span:contains(\"# Temp\")').closest('.cell').remove();\n",
       "        var code = IPython.notebook.insert_cell_below('code');\n",
       "        code.set_text(atob(\"IyBUZW1wCmluc2VydCgnJycnJycpOw==\"));\n",
       "    "
      ],
      "text/plain": [
       "<IPython.core.display.Javascript object>"
      ]
     },
     "metadata": {},
     "output_type": "display_data"
    },
    {
     "data": {
      "application/javascript": [
       "$('span:contains(\"# Temp\")').closest('.cell').remove();"
      ],
      "text/plain": [
       "<IPython.core.display.Javascript object>"
      ]
     },
     "metadata": {},
     "output_type": "display_data"
    },
    {
     "data": {
      "application/javascript": [
       "\n",
       "        $('span:contains(\"# Temp\")').closest('.cell').remove();\n",
       "        var code = IPython.notebook.insert_cell_below('code');\n",
       "        code.set_text(atob(\"IyBUZW1wCmluc2VydCgnJycKY294MjAwNmEgPSBEQihXb3JrVW5yZWxhdGVkKAogICAgMjAwNiwgIkEgQ29udGluZ2VuY3kgVmlldyBvZiBPcmdhbml6YXRpb25hbCBJbmZyYXN0cnVjdHVyZSBSZXF1aXJlbWVudHMgRW5naW5lZXJpbmciLAogICAgZGlzcGxheT0iY294IiwKICAgIGF1dGhvcnM9IkNveCwgS2FybCBhbmQgQmxlaXN0ZWluLCBTdGV2ZW4gSi4gYW5kIFJleW5vbGRzLCBQZXRlciBhbmQgVGhvcm9nb29kLCBBbGFuIiwKICAgIHBsYWNlPUZBS0UsCiAgICBwcD0iMTQ5Ny0tMTUwNCIsCiAgICBlbnRyeXR5cGU9ImlucHJvY2VlZGluZ3MiLAogICAgc2VyaWVzPSJTQUMgJzA2IiwKICAgIGlzYm49IjEtNTk1OTMtMTA4LTIiLAogICAgbG9jYXRpb249IkRpam9uLCBGcmFuY2UiLAogICAgSUQ9IkNveDoyMDA2OkNWTzoxMTQxMjc3LjExNDE2MjgiLAogICAgYWNtPSIxIiwKICAgIHBsYWNleD0iUHJvY2VlZGluZ3Mgb2YgdGhlIDIwMDYgQUNNIFN5bXBvc2l1bSBvbiBBcHBsaWVkIENvbXB1dGluZyIsCikpCicnJyk7\"));\n",
       "    "
      ],
      "text/plain": [
       "<IPython.core.display.Javascript object>"
      ]
     },
     "metadata": {},
     "output_type": "display_data"
    },
    {
     "data": {
      "application/javascript": [
       "$('span:contains(\"# Temp\")').closest('.cell').remove();"
      ],
      "text/plain": [
       "<IPython.core.display.Javascript object>"
      ]
     },
     "metadata": {},
     "output_type": "display_data"
    },
    {
     "data": {
      "application/javascript": [
       "\n",
       "        $('span:contains(\"# Temp\")').closest('.cell').remove();\n",
       "        var code = IPython.notebook.insert_cell_below('code');\n",
       "        code.set_text(atob(\"IyBUZW1wCmluc2VydCgnJycKY294MjAwNmEgPSBEQihXb3JrVW5yZWxhdGVkKAogICAgMjAwNiwgIkEgQ29udGluZ2VuY3kgVmlldyBvZiBPcmdhbml6YXRpb25hbCBJbmZyYXN0cnVjdHVyZSBSZXF1aXJlbWVudHMgRW5naW5lZXJpbmciLAogICAgZGlzcGxheT0iY294IiwKICAgIGF1dGhvcnM9IkNveCwgS2FybCBhbmQgQmxlaXN0ZWluLCBTdGV2ZW4gSi4gYW5kIFJleW5vbGRzLCBQZXRlciBhbmQgVGhvcm9nb29kLCBBbGFuIiwKICAgIHBsYWNlPUZBS0UsCiAgICBwcD0iMTQ5Ny0tMTUwNCIsCiAgICBlbnRyeXR5cGU9ImlucHJvY2VlZGluZ3MiLAogICAgc2VyaWVzPSJTQUMgJzA2IiwKICAgIGlzYm49IjEtNTk1OTMtMTA4LTIiLAogICAgbG9jYXRpb249IkRpam9uLCBGcmFuY2UiLAogICAgSUQ9IkNveDoyMDA2OkNWTzoxMTQxMjc3LjExNDE2MjgiLAogICAgYWNtPSIxIiwKICAgIHBsYWNleD0iUHJvY2VlZGluZ3Mgb2YgdGhlIDIwMDYgQUNNIFN5bXBvc2l1bSBvbiBBcHBsaWVkIENvbXB1dGluZyIsCikpCicnJyk7\"));\n",
       "    "
      ],
      "text/plain": [
       "<IPython.core.display.Javascript object>"
      ]
     },
     "metadata": {},
     "output_type": "display_data"
    },
    {
     "data": {
      "application/javascript": [
       "$('span:contains(\"# Temp\")').closest('.cell').remove();"
      ],
      "text/plain": [
       "<IPython.core.display.Javascript object>"
      ]
     },
     "metadata": {},
     "output_type": "display_data"
    },
    {
     "data": {
      "application/javascript": [
       "\n",
       "        $('span:contains(\"# Temp\")').closest('.cell').remove();\n",
       "        var code = IPython.notebook.insert_cell_below('code');\n",
       "        code.set_text(atob(\"IyBUZW1wCmluc2VydCgnJycKZ2hhbmF2YXRpMjAxNGEgPSBEQihXb3JrVW5yZWxhdGVkKAogICAgMjAxNCwgIkxlZ2FsIEdvYWwtb3JpZW50ZWQgUmVxdWlyZW1lbnQgTGFuZ3VhZ2UgKExlZ2FsIEdSTCkgZm9yIE1vZGVsaW5nIFJlZ3VsYXRpb25zIiwKICAgIGRpc3BsYXk9ImdoYW5hdmF0aSIsCiAgICBhdXRob3JzPSJHaGFuYXZhdGksIFNlcGlkZWggYW5kIEFteW90LCBEYW5pZWwgYW5kIFJpZmF1dCwgQW5kcukiLAogICAgcGxhY2U9UE1TRSwKICAgIHBwPSIxLS02IiwKICAgIGVudHJ5dHlwZT0iaW5wcm9jZWVkaW5ncyIsCiAgICBzZXJpZXM9Ik1pU0UgMjAxNCIsCiAgICBpc2JuPSI5NzgtMS00NTAzLTI4NDktNCIsCiAgICBsb2NhdGlvbj0iSHlkZXJhYmFkLCBJbmRpYSIsCiAgICBJRD0iR2hhbmF2YXRpOjIwMTQ6TEdSOjI1OTM3NzAuMjU5Mzc4MCIsCiAgICBhY209IjEiLAogICAgcGxhY2V4PSJQcm9jZWVkaW5ncyBvZiB0aGUgNnRoIEludGVybmF0aW9uYWwgV29ya3Nob3Agb24gTW9kZWxpbmcgaW4gU29mdHdhcmUgRW5naW5lZXJpbmciLAopKQonJycpOw==\"));\n",
       "    "
      ],
      "text/plain": [
       "<IPython.core.display.Javascript object>"
      ]
     },
     "metadata": {},
     "output_type": "display_data"
    },
    {
     "data": {
      "application/javascript": [
       "$('span:contains(\"# Temp\")').closest('.cell').remove();"
      ],
      "text/plain": [
       "<IPython.core.display.Javascript object>"
      ]
     },
     "metadata": {},
     "output_type": "display_data"
    },
    {
     "data": {
      "application/javascript": [
       "\n",
       "        $('span:contains(\"# Temp\")').closest('.cell').remove();\n",
       "        var code = IPython.notebook.insert_cell_below('code');\n",
       "        code.set_text(atob(\"IyBUZW1wCmluc2VydCgnJycKZ2hhbmF2YXRpMjAxNGEgPSBEQihXb3JrVW5yZWxhdGVkKAogICAgMjAxNCwgIkxlZ2FsIEdvYWwtb3JpZW50ZWQgUmVxdWlyZW1lbnQgTGFuZ3VhZ2UgKExlZ2FsIEdSTCkgZm9yIE1vZGVsaW5nIFJlZ3VsYXRpb25zIiwKICAgIGRpc3BsYXk9ImdoYW5hdmF0aSIsCiAgICBhdXRob3JzPSJHaGFuYXZhdGksIFNlcGlkZWggYW5kIEFteW90LCBEYW5pZWwgYW5kIFJpZmF1dCwgQW5kcukiLAogICAgcGxhY2U9UE1TRSwKICAgIHBwPSIxLS02IiwKICAgIGVudHJ5dHlwZT0iaW5wcm9jZWVkaW5ncyIsCiAgICBzZXJpZXM9Ik1pU0UgMjAxNCIsCiAgICBpc2JuPSI5NzgtMS00NTAzLTI4NDktNCIsCiAgICBsb2NhdGlvbj0iSHlkZXJhYmFkLCBJbmRpYSIsCiAgICBJRD0iR2hhbmF2YXRpOjIwMTQ6TEdSOjI1OTM3NzAuMjU5Mzc4MCIsCiAgICBhY209IjEiLAogICAgcGxhY2V4PSJQcm9jZWVkaW5ncyBvZiB0aGUgNnRoIEludGVybmF0aW9uYWwgV29ya3Nob3Agb24gTW9kZWxpbmcgaW4gU29mdHdhcmUgRW5naW5lZXJpbmciLAopKQonJycpOw==\"));\n",
       "    "
      ],
      "text/plain": [
       "<IPython.core.display.Javascript object>"
      ]
     },
     "metadata": {},
     "output_type": "display_data"
    },
    {
     "data": {
      "application/javascript": [
       "$('span:contains(\"# Temp\")').closest('.cell').remove();"
      ],
      "text/plain": [
       "<IPython.core.display.Javascript object>"
      ]
     },
     "metadata": {},
     "output_type": "display_data"
    },
    {
     "data": {
      "application/javascript": [
       "\n",
       "        $('span:contains(\"# Temp\")').closest('.cell').remove();\n",
       "        var code = IPython.notebook.insert_cell_below('code');\n",
       "        code.set_text(atob(\"IyBUZW1wCmluc2VydCgnJycKdWxsYWgyMDEzYSA9IERCKFdvcmtVbnJlbGF0ZWQoCiAgICAyMDEzLCAiQSBTeXN0ZW1hdGljIFJldmlldyBvZiBCdXNpbmVzcyBhbmQgSW5mb3JtYXRpb24gVGVjaG5vbG9neSBBbGlnbm1lbnQiLAogICAgZGlzcGxheT0idWxsYWgiLAogICAgYXV0aG9ycz0iVWxsYWgsIEF6bWF0IGFuZCBMYWksIFJpY2hhcmQiLAogICAgcGxhY2U9RkFLRSwKICAgIHBwPSI0OjEtLTQ6MzAiLAogICAgZW50cnl0eXBlPSJhcnRpY2xlIiwKICAgIGlzc3VlX2RhdGU9IkFwcmlsIDIwMTMiLAogICAgdm9sdW1lPSI0IiwKICAgIG51bWJlcj0iMSIsCiAgICBtb250aD0iYXByIiwKICAgIGlzc249IjIxNTgtNjU2WCIsCiAgICBJRD0iVWxsYWg6MjAxMzpTUkI6MjQ0NTU2MC4yNDQ1NTY0IiwKICAgIGFjbT0iMSIsCiAgICBwbGFjZXg9IkFDTSBUcmFucy4gTWFuYWdlLiBJbmYuIFN5c3QuIiwKKSkKJycnKTs=\"));\n",
       "    "
      ],
      "text/plain": [
       "<IPython.core.display.Javascript object>"
      ]
     },
     "metadata": {},
     "output_type": "display_data"
    },
    {
     "data": {
      "application/javascript": [
       "$('span:contains(\"# Temp\")').closest('.cell').remove();"
      ],
      "text/plain": [
       "<IPython.core.display.Javascript object>"
      ]
     },
     "metadata": {},
     "output_type": "display_data"
    },
    {
     "data": {
      "application/javascript": [
       "\n",
       "        $('span:contains(\"# Temp\")').closest('.cell').remove();\n",
       "        var code = IPython.notebook.insert_cell_below('code');\n",
       "        code.set_text(atob(\"IyBUZW1wCmluc2VydCgnJycKdWxsYWgyMDEzYSA9IERCKFdvcmtVbnJlbGF0ZWQoCiAgICAyMDEzLCAiQSBTeXN0ZW1hdGljIFJldmlldyBvZiBCdXNpbmVzcyBhbmQgSW5mb3JtYXRpb24gVGVjaG5vbG9neSBBbGlnbm1lbnQiLAogICAgZGlzcGxheT0idWxsYWgiLAogICAgYXV0aG9ycz0iVWxsYWgsIEF6bWF0IGFuZCBMYWksIFJpY2hhcmQiLAogICAgcGxhY2U9RkFLRSwKICAgIHBwPSI0OjEtLTQ6MzAiLAogICAgZW50cnl0eXBlPSJhcnRpY2xlIiwKICAgIGlzc3VlX2RhdGU9IkFwcmlsIDIwMTMiLAogICAgdm9sdW1lPSI0IiwKICAgIG51bWJlcj0iMSIsCiAgICBtb250aD0iYXByIiwKICAgIGlzc249IjIxNTgtNjU2WCIsCiAgICBJRD0iVWxsYWg6MjAxMzpTUkI6MjQ0NTU2MC4yNDQ1NTY0IiwKICAgIGFjbT0iMSIsCiAgICBwbGFjZXg9IkFDTSBUcmFucy4gTWFuYWdlLiBJbmYuIFN5c3QuIiwKKSkKJycnKTs=\"));\n",
       "    "
      ],
      "text/plain": [
       "<IPython.core.display.Javascript object>"
      ]
     },
     "metadata": {},
     "output_type": "display_data"
    },
    {
     "data": {
      "application/javascript": [
       "$('span:contains(\"# Temp\")').closest('.cell').remove();"
      ],
      "text/plain": [
       "<IPython.core.display.Javascript object>"
      ]
     },
     "metadata": {},
     "output_type": "display_data"
    },
    {
     "data": {
      "application/javascript": [
       "\n",
       "        $('span:contains(\"# Temp\")').closest('.cell').remove();\n",
       "        var code = IPython.notebook.insert_cell_below('code');\n",
       "        code.set_text(atob(\"IyBUZW1wCmluc2VydCgnJycKcmFocm92YW5pMjAxNGEgPSBEQihXb3JrVW5yZWxhdGVkKAogICAgMjAxNCwgIkFsaWduaW5nIElUIGZvciBGdXR1cmUgQnVzaW5lc3MgVmFsdWU6IENvbmNlcHR1YWxpemluZyBJdCBQcm9qZWN0IFBvcnRmb2xpbyBBbGlnbm1lbnQiLAogICAgZGlzcGxheT0icmFocm92YW5pIiwKICAgIGF1dGhvcnM9IlJhaHJvdmFuaSwgWWFzc2VyIGFuZCBLZXJtYW5zaGFoLCBBbGkgYW5kIFBpbnNvbm5lYXVsdCwgQWxhaW4iLAogICAgcGxhY2U9RkFLRSwKICAgIHBwPSIzMC0tNTMiLAogICAgZW50cnl0eXBlPSJhcnRpY2xlIiwKICAgIGlzc3VlX2RhdGU9IkF1Z3VzdCAyMDE0IiwKICAgIHZvbHVtZT0iNDUiLAogICAgbnVtYmVyPSIzIiwKICAgIG1vbnRoPSJhdWciLAogICAgaXNzbj0iMDA5NS0wMDMzIiwKICAgIElEPSJSYWhyb3Zhbmk6MjAxNDpBRkI6MjY1OTI1NC4yNjU5MjU3IiwKICAgIGFjbT0iMSIsCiAgICBwbGFjZXg9IlNJR01JUyBEYXRhYmFzZSIsCikpCicnJyk7\"));\n",
       "    "
      ],
      "text/plain": [
       "<IPython.core.display.Javascript object>"
      ]
     },
     "metadata": {},
     "output_type": "display_data"
    },
    {
     "data": {
      "application/javascript": [
       "$('span:contains(\"# Temp\")').closest('.cell').remove();"
      ],
      "text/plain": [
       "<IPython.core.display.Javascript object>"
      ]
     },
     "metadata": {},
     "output_type": "display_data"
    },
    {
     "data": {
      "application/javascript": [
       "\n",
       "        $('span:contains(\"# Temp\")').closest('.cell').remove();\n",
       "        var code = IPython.notebook.insert_cell_below('code');\n",
       "        code.set_text(atob(\"IyBUZW1wCmluc2VydCgnJycKcmFocm92YW5pMjAxNGEgPSBEQihXb3JrVW5yZWxhdGVkKAogICAgMjAxNCwgIkFsaWduaW5nIElUIGZvciBGdXR1cmUgQnVzaW5lc3MgVmFsdWU6IENvbmNlcHR1YWxpemluZyBJdCBQcm9qZWN0IFBvcnRmb2xpbyBBbGlnbm1lbnQiLAogICAgZGlzcGxheT0icmFocm92YW5pIiwKICAgIGF1dGhvcnM9IlJhaHJvdmFuaSwgWWFzc2VyIGFuZCBLZXJtYW5zaGFoLCBBbGkgYW5kIFBpbnNvbm5lYXVsdCwgQWxhaW4iLAogICAgcGxhY2U9RkFLRSwKICAgIHBwPSIzMC0tNTMiLAogICAgZW50cnl0eXBlPSJhcnRpY2xlIiwKICAgIGlzc3VlX2RhdGU9IkF1Z3VzdCAyMDE0IiwKICAgIHZvbHVtZT0iNDUiLAogICAgbnVtYmVyPSIzIiwKICAgIG1vbnRoPSJhdWciLAogICAgaXNzbj0iMDA5NS0wMDMzIiwKICAgIElEPSJSYWhyb3Zhbmk6MjAxNDpBRkI6MjY1OTI1NC4yNjU5MjU3IiwKICAgIGFjbT0iMSIsCiAgICBwbGFjZXg9IlNJR01JUyBEYXRhYmFzZSIsCikpCicnJyk7\"));\n",
       "    "
      ],
      "text/plain": [
       "<IPython.core.display.Javascript object>"
      ]
     },
     "metadata": {},
     "output_type": "display_data"
    },
    {
     "data": {
      "application/javascript": [
       "$('span:contains(\"# Temp\")').closest('.cell').remove();"
      ],
      "text/plain": [
       "<IPython.core.display.Javascript object>"
      ]
     },
     "metadata": {},
     "output_type": "display_data"
    },
    {
     "data": {
      "application/javascript": [
       "\n",
       "        $('span:contains(\"# Temp\")').closest('.cell').remove();\n",
       "        var code = IPython.notebook.insert_cell_below('code');\n",
       "        code.set_text(atob(\"IyBUZW1wCmluc2VydCgnJycKZGFtYXMyMDA2YSA9IERCKFdvcmtVbnJlbGF0ZWQoCiAgICAyMDA2LCAiU2NlbmFyaW9zLCBHb2FscywgYW5kIFN0YXRlIE1hY2hpbmVzOiBBIFdpbi13aW4gUGFydG5lcnNoaXAgZm9yIE1vZGVsIFN5bnRoZXNpcyIsCiAgICBkaXNwbGF5PSJkYW1hcyIsCiAgICBhdXRob3JzPSJEYW1hcywgQ2hyaXN0b3BoZSBhbmQgTGFtYmVhdSwgQmVybmFyZCBhbmQgdmFuIExhbXN3ZWVyZGUsIEF4ZWwiLAogICAgcGxhY2U9RkFLRSwKICAgIHBwPSIxOTctLTIwNyIsCiAgICBlbnRyeXR5cGU9ImlucHJvY2VlZGluZ3MiLAogICAgc2VyaWVzPSJTSUdTT0ZUICcwNi9GU0UtMTQiLAogICAgaXNibj0iMS01OTU5My00NjgtNSIsCiAgICBsb2NhdGlvbj0iUG9ydGxhbmQsIE9yZWdvbiwgVVNBIiwKICAgIElEPSJEYW1hczoyMDA2OlNHUzoxMTgxNzc1LjExODE4MDAiLAogICAgYWNtPSIxIiwKICAgIHBsYWNleD0iUHJvY2VlZGluZ3Mgb2YgdGhlIDE0dGggQUNNIFNJR1NPRlQgSW50ZXJuYXRpb25hbCBTeW1wb3NpdW0gb24gRm91bmRhdGlvbnMgb2YgU29mdHdhcmUgRW5naW5lZXJpbmciLAopKQonJycpOw==\"));\n",
       "    "
      ],
      "text/plain": [
       "<IPython.core.display.Javascript object>"
      ]
     },
     "metadata": {},
     "output_type": "display_data"
    },
    {
     "data": {
      "application/javascript": [
       "$('span:contains(\"# Temp\")').closest('.cell').remove();"
      ],
      "text/plain": [
       "<IPython.core.display.Javascript object>"
      ]
     },
     "metadata": {},
     "output_type": "display_data"
    },
    {
     "data": {
      "application/javascript": [
       "\n",
       "        $('span:contains(\"# Temp\")').closest('.cell').remove();\n",
       "        var code = IPython.notebook.insert_cell_below('code');\n",
       "        code.set_text(atob(\"IyBUZW1wCmluc2VydCgnJycKZGFtYXMyMDA2YSA9IERCKFdvcmtVbnJlbGF0ZWQoCiAgICAyMDA2LCAiU2NlbmFyaW9zLCBHb2FscywgYW5kIFN0YXRlIE1hY2hpbmVzOiBBIFdpbi13aW4gUGFydG5lcnNoaXAgZm9yIE1vZGVsIFN5bnRoZXNpcyIsCiAgICBkaXNwbGF5PSJkYW1hcyIsCiAgICBhdXRob3JzPSJEYW1hcywgQ2hyaXN0b3BoZSBhbmQgTGFtYmVhdSwgQmVybmFyZCBhbmQgdmFuIExhbXN3ZWVyZGUsIEF4ZWwiLAogICAgcGxhY2U9RkFLRSwKICAgIHBwPSIxOTctLTIwNyIsCiAgICBlbnRyeXR5cGU9ImlucHJvY2VlZGluZ3MiLAogICAgc2VyaWVzPSJTSUdTT0ZUICcwNi9GU0UtMTQiLAogICAgaXNibj0iMS01OTU5My00NjgtNSIsCiAgICBsb2NhdGlvbj0iUG9ydGxhbmQsIE9yZWdvbiwgVVNBIiwKICAgIElEPSJEYW1hczoyMDA2OlNHUzoxMTgxNzc1LjExODE4MDAiLAogICAgYWNtPSIxIiwKICAgIHBsYWNleD0iUHJvY2VlZGluZ3Mgb2YgdGhlIDE0dGggQUNNIFNJR1NPRlQgSW50ZXJuYXRpb25hbCBTeW1wb3NpdW0gb24gRm91bmRhdGlvbnMgb2YgU29mdHdhcmUgRW5naW5lZXJpbmciLAopKQonJycpOw==\"));\n",
       "    "
      ],
      "text/plain": [
       "<IPython.core.display.Javascript object>"
      ]
     },
     "metadata": {},
     "output_type": "display_data"
    },
    {
     "data": {
      "application/javascript": [
       "$('span:contains(\"# Temp\")').closest('.cell').remove();"
      ],
      "text/plain": [
       "<IPython.core.display.Javascript object>"
      ]
     },
     "metadata": {},
     "output_type": "display_data"
    },
    {
     "data": {
      "application/javascript": [
       "\n",
       "        $('span:contains(\"# Temp\")').closest('.cell').remove();\n",
       "        var code = IPython.notebook.insert_cell_below('code');\n",
       "        code.set_text(atob(\"IyBUZW1wCmluc2VydCgnJycKc2lyaXMyMDE1YSA9IERCKFdvcmtVbnJlbGF0ZWQoCiAgICAyMDE1LCAiTW9iaWxlIE11bHRpcGF0aCBEYXRhIFRyYW5zZmVyIG92ZXIgTXVsdGlyYXRlIFdpLUZpIExpbmtzIiwKICAgIGRpc3BsYXk9InNpcmlzIiwKICAgIGF1dGhvcnM9IlNpcmlzLCBWYXNpbGlvcyBBLiBhbmQgRGltb3BvdWxvcywgRGltaXRyaW9zIiwKICAgIHBsYWNlPUZBS0UsCiAgICBwcD0iNTctLTYyIiwKICAgIGVudHJ5dHlwZT0iaW5wcm9jZWVkaW5ncyIsCiAgICBzZXJpZXM9Ik1vYmlBcmNoICcxNSIsCiAgICBpc2JuPSI5NzgtMS00NTAzLTM2OTUtNiIsCiAgICBsb2NhdGlvbj0iUGFyaXMsIEZyYW5jZSIsCiAgICBJRD0iU2lyaXM6MjAxNTpNTUQ6Mjc5NTM4MS4yNzk1MzkxIiwKICAgIGFjbT0iMSIsCiAgICBwbGFjZXg9IlByb2NlZWRpbmdzIG9mIHRoZSAxMHRoIEludGVybmF0aW9uYWwgV29ya3Nob3Agb24gTW9iaWxpdHkgaW4gdGhlIEV2b2x2aW5nIEludGVybmV0IEFyY2hpdGVjdHVyZSIsCikpCicnJyk7\"));\n",
       "    "
      ],
      "text/plain": [
       "<IPython.core.display.Javascript object>"
      ]
     },
     "metadata": {},
     "output_type": "display_data"
    },
    {
     "data": {
      "application/javascript": [
       "$('span:contains(\"# Temp\")').closest('.cell').remove();"
      ],
      "text/plain": [
       "<IPython.core.display.Javascript object>"
      ]
     },
     "metadata": {},
     "output_type": "display_data"
    },
    {
     "data": {
      "application/javascript": [
       "\n",
       "        $('span:contains(\"# Temp\")').closest('.cell').remove();\n",
       "        var code = IPython.notebook.insert_cell_below('code');\n",
       "        code.set_text(atob(\"IyBUZW1wCmluc2VydCgnJycKc2lyaXMyMDE1YSA9IERCKFdvcmtVbnJlbGF0ZWQoCiAgICAyMDE1LCAiTW9iaWxlIE11bHRpcGF0aCBEYXRhIFRyYW5zZmVyIG92ZXIgTXVsdGlyYXRlIFdpLUZpIExpbmtzIiwKICAgIGRpc3BsYXk9InNpcmlzIiwKICAgIGF1dGhvcnM9IlNpcmlzLCBWYXNpbGlvcyBBLiBhbmQgRGltb3BvdWxvcywgRGltaXRyaW9zIiwKICAgIHBsYWNlPUZBS0UsCiAgICBwcD0iNTctLTYyIiwKICAgIGVudHJ5dHlwZT0iaW5wcm9jZWVkaW5ncyIsCiAgICBzZXJpZXM9Ik1vYmlBcmNoICcxNSIsCiAgICBpc2JuPSI5NzgtMS00NTAzLTM2OTUtNiIsCiAgICBsb2NhdGlvbj0iUGFyaXMsIEZyYW5jZSIsCiAgICBJRD0iU2lyaXM6MjAxNTpNTUQ6Mjc5NTM4MS4yNzk1MzkxIiwKICAgIGFjbT0iMSIsCiAgICBwbGFjZXg9IlByb2NlZWRpbmdzIG9mIHRoZSAxMHRoIEludGVybmF0aW9uYWwgV29ya3Nob3Agb24gTW9iaWxpdHkgaW4gdGhlIEV2b2x2aW5nIEludGVybmV0IEFyY2hpdGVjdHVyZSIsCikpCicnJyk7\"));\n",
       "    "
      ],
      "text/plain": [
       "<IPython.core.display.Javascript object>"
      ]
     },
     "metadata": {},
     "output_type": "display_data"
    },
    {
     "data": {
      "application/javascript": [
       "$('span:contains(\"# Temp\")').closest('.cell').remove();"
      ],
      "text/plain": [
       "<IPython.core.display.Javascript object>"
      ]
     },
     "metadata": {},
     "output_type": "display_data"
    },
    {
     "data": {
      "application/javascript": [
       "\n",
       "        $('span:contains(\"# Temp\")').closest('.cell').remove();\n",
       "        var code = IPython.notebook.insert_cell_below('code');\n",
       "        code.set_text(atob(\"IyBUZW1wCmluc2VydCgnJycKY29zdGEyMDE0YSA9IERCKFdvcmtVbnJlbGF0ZWQoCiAgICAyMDE0LCAiQ2hhbGxlbmdlcyBpbiBDb21wdXRpbmcgU2VtYW50aWMgUmVsYXRlZG5lc3MgZm9yIExhcmdlIFNlbWFudGljIEdyYXBocyIsCiAgICBkaXNwbGF5PSJjb3N0YSIsCiAgICBhdXRob3JzPSJDb3N0YSwgVGVyZXNhIGFuZCBMZWFsLCBKb3PpIFBhdWxvIiwKICAgIHBsYWNlPUZBS0UsCiAgICBwcD0iMzc2LS0zNzciLAogICAgZW50cnl0eXBlPSJpbnByb2NlZWRpbmdzIiwKICAgIHNlcmllcz0iSURFQVMgJzE0IiwKICAgIGlzYm49Ijk3OC0xLTQ1MDMtMjYyNy04IiwKICAgIGxvY2F0aW9uPSJQb3J0bywgUG9ydHVnYWwiLAogICAgSUQ9IkNvc3RhOjIwMTQ6Q0NTOjI2MjgxOTQuMjYyODIwMCIsCiAgICBhY209IjEiLAogICAgcGxhY2V4PSJQcm9jZWVkaW5ncyBvZiB0aGUgMTh0aCBJbnRlcm5hdGlvbmFsIERhdGFiYXNlIEVuZ2luZWVyaW5nICYjMzg7IEFwcGxpY2F0aW9ucyBTeW1wb3NpdW0iLAopKQonJycpOw==\"));\n",
       "    "
      ],
      "text/plain": [
       "<IPython.core.display.Javascript object>"
      ]
     },
     "metadata": {},
     "output_type": "display_data"
    },
    {
     "data": {
      "application/javascript": [
       "$('span:contains(\"# Temp\")').closest('.cell').remove();"
      ],
      "text/plain": [
       "<IPython.core.display.Javascript object>"
      ]
     },
     "metadata": {},
     "output_type": "display_data"
    },
    {
     "data": {
      "application/javascript": [
       "\n",
       "        $('span:contains(\"# Temp\")').closest('.cell').remove();\n",
       "        var code = IPython.notebook.insert_cell_below('code');\n",
       "        code.set_text(atob(\"IyBUZW1wCmluc2VydCgnJycKY29zdGEyMDE0YSA9IERCKFdvcmtVbnJlbGF0ZWQoCiAgICAyMDE0LCAiQ2hhbGxlbmdlcyBpbiBDb21wdXRpbmcgU2VtYW50aWMgUmVsYXRlZG5lc3MgZm9yIExhcmdlIFNlbWFudGljIEdyYXBocyIsCiAgICBkaXNwbGF5PSJjb3N0YSIsCiAgICBhdXRob3JzPSJDb3N0YSwgVGVyZXNhIGFuZCBMZWFsLCBKb3PpIFBhdWxvIiwKICAgIHBsYWNlPUZBS0UsCiAgICBwcD0iMzc2LS0zNzciLAogICAgZW50cnl0eXBlPSJpbnByb2NlZWRpbmdzIiwKICAgIHNlcmllcz0iSURFQVMgJzE0IiwKICAgIGlzYm49Ijk3OC0xLTQ1MDMtMjYyNy04IiwKICAgIGxvY2F0aW9uPSJQb3J0bywgUG9ydHVnYWwiLAogICAgSUQ9IkNvc3RhOjIwMTQ6Q0NTOjI2MjgxOTQuMjYyODIwMCIsCiAgICBhY209IjEiLAogICAgcGxhY2V4PSJQcm9jZWVkaW5ncyBvZiB0aGUgMTh0aCBJbnRlcm5hdGlvbmFsIERhdGFiYXNlIEVuZ2luZWVyaW5nICYjMzg7IEFwcGxpY2F0aW9ucyBTeW1wb3NpdW0iLAopKQonJycpOw==\"));\n",
       "    "
      ],
      "text/plain": [
       "<IPython.core.display.Javascript object>"
      ]
     },
     "metadata": {},
     "output_type": "display_data"
    },
    {
     "data": {
      "application/javascript": [
       "$('span:contains(\"# Temp\")').closest('.cell').remove();"
      ],
      "text/plain": [
       "<IPython.core.display.Javascript object>"
      ]
     },
     "metadata": {},
     "output_type": "display_data"
    },
    {
     "data": {
      "application/javascript": [
       "\n",
       "        $('span:contains(\"# Temp\")').closest('.cell').remove();\n",
       "        var code = IPython.notebook.insert_cell_below('code');\n",
       "        code.set_text(atob(\"IyBUZW1wCmluc2VydCgnJycKZ2lyYXRhMjAxNGEgPSBEQihXb3JrVW5yZWxhdGVkKAogICAgMjAxNCwgImVHb3YgV2Vic2l0ZSBFdm9sdXRpb24gU3R1ZHkgV2l0aGluIFN0cmF0ZWdpYyBQbGFubmluZyIsCiAgICBkaXNwbGF5PSJnaXJhdGEiLAogICAgYXV0aG9ycz0iR2lyYXRhLCBOYXRhbGluYSBOYW1pZSBIaXJhdGEgYW5kIE1hY2llbCwgQ3Jpc3RpYW5vIiwKICAgIHBsYWNlPUZBS0UsCiAgICBwcD0iNjktLTc4IiwKICAgIGVudHJ5dHlwZT0iaW5wcm9jZWVkaW5ncyIsCiAgICBzZXJpZXM9ImRnLm8gJzE0IiwKICAgIGlzYm49Ijk3OC0xLTQ1MDMtMjkwMS05IiwKICAgIGxvY2F0aW9uPSJBZ3Vhc2NhbGllbnRlcywgTWV4aWNvIiwKICAgIElEPSJHaXJhdGE6MjAxNDpFV0U6MjYxMjczMy4yNjEyNzc0IiwKICAgIGFjbT0iMSIsCiAgICBwbGFjZXg9IlByb2NlZWRpbmdzIG9mIHRoZSAxNXRoIEFubnVhbCBJbnRlcm5hdGlvbmFsIENvbmZlcmVuY2Ugb24gRGlnaXRhbCBHb3Zlcm5tZW50IFJlc2VhcmNoIiwKKSkKJycnKTs=\"));\n",
       "    "
      ],
      "text/plain": [
       "<IPython.core.display.Javascript object>"
      ]
     },
     "metadata": {},
     "output_type": "display_data"
    },
    {
     "data": {
      "application/javascript": [
       "$('span:contains(\"# Temp\")').closest('.cell').remove();"
      ],
      "text/plain": [
       "<IPython.core.display.Javascript object>"
      ]
     },
     "metadata": {},
     "output_type": "display_data"
    },
    {
     "data": {
      "application/javascript": [
       "\n",
       "        $('span:contains(\"# Temp\")').closest('.cell').remove();\n",
       "        var code = IPython.notebook.insert_cell_below('code');\n",
       "        code.set_text(atob(\"IyBUZW1wCmluc2VydCgnJycKZ2lyYXRhMjAxNGEgPSBEQihXb3JrVW5yZWxhdGVkKAogICAgMjAxNCwgImVHb3YgV2Vic2l0ZSBFdm9sdXRpb24gU3R1ZHkgV2l0aGluIFN0cmF0ZWdpYyBQbGFubmluZyIsCiAgICBkaXNwbGF5PSJnaXJhdGEiLAogICAgYXV0aG9ycz0iR2lyYXRhLCBOYXRhbGluYSBOYW1pZSBIaXJhdGEgYW5kIE1hY2llbCwgQ3Jpc3RpYW5vIiwKICAgIHBsYWNlPUZBS0UsCiAgICBwcD0iNjktLTc4IiwKICAgIGVudHJ5dHlwZT0iaW5wcm9jZWVkaW5ncyIsCiAgICBzZXJpZXM9ImRnLm8gJzE0IiwKICAgIGlzYm49Ijk3OC0xLTQ1MDMtMjkwMS05IiwKICAgIGxvY2F0aW9uPSJBZ3Vhc2NhbGllbnRlcywgTWV4aWNvIiwKICAgIElEPSJHaXJhdGE6MjAxNDpFV0U6MjYxMjczMy4yNjEyNzc0IiwKICAgIGFjbT0iMSIsCiAgICBwbGFjZXg9IlByb2NlZWRpbmdzIG9mIHRoZSAxNXRoIEFubnVhbCBJbnRlcm5hdGlvbmFsIENvbmZlcmVuY2Ugb24gRGlnaXRhbCBHb3Zlcm5tZW50IFJlc2VhcmNoIiwKKSkKJycnKTs=\"));\n",
       "    "
      ],
      "text/plain": [
       "<IPython.core.display.Javascript object>"
      ]
     },
     "metadata": {},
     "output_type": "display_data"
    },
    {
     "data": {
      "application/javascript": [
       "$('span:contains(\"# Temp\")').closest('.cell').remove();"
      ],
      "text/plain": [
       "<IPython.core.display.Javascript object>"
      ]
     },
     "metadata": {},
     "output_type": "display_data"
    },
    {
     "data": {
      "application/javascript": [
       "\n",
       "        $('span:contains(\"# Temp\")').closest('.cell').remove();\n",
       "        var code = IPython.notebook.insert_cell_below('code');\n",
       "        code.set_text(atob(\"IyBUZW1wCmluc2VydCgnJycKbWFrcmlzMjAxM2EgPSBEQihXb3JrVW5yZWxhdGVkKAogICAgMjAxMywgIkltcHJvdmVkIFRleHQgQW5ub3RhdGlvbiB3aXRoIFdpa2lwZWRpYSBFbnRpdGllcyIsCiAgICBkaXNwbGF5PSJtYWtyaXMiLAogICAgYXV0aG9ycz0iTWFrcmlzLCBDaHJpc3RvcyBhbmQgUGxlZ2FzLCBZYW5uaXMgYW5kIFRoZW9kb3JpZGlzLCBFdmFuZ2Vsb3MiLAogICAgcGxhY2U9RkFLRSwKICAgIHBwPSIyODgtLTI5NSIsCiAgICBlbnRyeXR5cGU9ImlucHJvY2VlZGluZ3MiLAogICAgc2VyaWVzPSJTQUMgJzEzIiwKICAgIGlzYm49Ijk3OC0xLTQ1MDMtMTY1Ni05IiwKICAgIGxvY2F0aW9uPSJDb2ltYnJhLCBQb3J0dWdhbCIsCiAgICBJRD0iTWFrcmlzOjIwMTM6SVRBOjI0ODAzNjIuMjQ4MDQyNSIsCiAgICBhY209IjEiLAogICAgcGxhY2V4PSJQcm9jZWVkaW5ncyBvZiB0aGUgMjh0aCBBbm51YWwgQUNNIFN5bXBvc2l1bSBvbiBBcHBsaWVkIENvbXB1dGluZyIsCikpCicnJyk7\"));\n",
       "    "
      ],
      "text/plain": [
       "<IPython.core.display.Javascript object>"
      ]
     },
     "metadata": {},
     "output_type": "display_data"
    },
    {
     "data": {
      "application/javascript": [
       "$('span:contains(\"# Temp\")').closest('.cell').remove();"
      ],
      "text/plain": [
       "<IPython.core.display.Javascript object>"
      ]
     },
     "metadata": {},
     "output_type": "display_data"
    },
    {
     "data": {
      "application/javascript": [
       "\n",
       "        $('span:contains(\"# Temp\")').closest('.cell').remove();\n",
       "        var code = IPython.notebook.insert_cell_below('code');\n",
       "        code.set_text(atob(\"IyBUZW1wCmluc2VydCgnJycKbWFrcmlzMjAxM2EgPSBEQihXb3JrVW5yZWxhdGVkKAogICAgMjAxMywgIkltcHJvdmVkIFRleHQgQW5ub3RhdGlvbiB3aXRoIFdpa2lwZWRpYSBFbnRpdGllcyIsCiAgICBkaXNwbGF5PSJtYWtyaXMiLAogICAgYXV0aG9ycz0iTWFrcmlzLCBDaHJpc3RvcyBhbmQgUGxlZ2FzLCBZYW5uaXMgYW5kIFRoZW9kb3JpZGlzLCBFdmFuZ2Vsb3MiLAogICAgcGxhY2U9RkFLRSwKICAgIHBwPSIyODgtLTI5NSIsCiAgICBlbnRyeXR5cGU9ImlucHJvY2VlZGluZ3MiLAogICAgc2VyaWVzPSJTQUMgJzEzIiwKICAgIGlzYm49Ijk3OC0xLTQ1MDMtMTY1Ni05IiwKICAgIGxvY2F0aW9uPSJDb2ltYnJhLCBQb3J0dWdhbCIsCiAgICBJRD0iTWFrcmlzOjIwMTM6SVRBOjI0ODAzNjIuMjQ4MDQyNSIsCiAgICBhY209IjEiLAogICAgcGxhY2V4PSJQcm9jZWVkaW5ncyBvZiB0aGUgMjh0aCBBbm51YWwgQUNNIFN5bXBvc2l1bSBvbiBBcHBsaWVkIENvbXB1dGluZyIsCikpCicnJyk7\"));\n",
       "    "
      ],
      "text/plain": [
       "<IPython.core.display.Javascript object>"
      ]
     },
     "metadata": {},
     "output_type": "display_data"
    },
    {
     "data": {
      "application/javascript": [
       "$('span:contains(\"# Temp\")').closest('.cell').remove();"
      ],
      "text/plain": [
       "<IPython.core.display.Javascript object>"
      ]
     },
     "metadata": {},
     "output_type": "display_data"
    },
    {
     "data": {
      "application/javascript": [
       "\n",
       "        $('span:contains(\"# Temp\")').closest('.cell').remove();\n",
       "        var code = IPython.notebook.insert_cell_below('code');\n",
       "        code.set_text(atob(\"IyBUZW1wCmluc2VydCgnJycKcHVueWFidWtrYW5hMjAwOGEgPSBEQihXb3JrVW5yZWxhdGVkKAogICAgMjAwOCwgIlRoYWlsYW5kJ3MgTmF0aW9uYWwgRGlnaXRhbCBEaXZpZGUgU3RyYXRlZ2ljIEZyYW1ld29yayIsCiAgICBkaXNwbGF5PSJwdW55YWJ1a2thbmEiLAogICAgYXV0aG9ycz0iUHVueWFidWtrYW5hLCBQcm9hZHByYW4gYW5kIFRoYW5hd2FzdGllbiwgU3VjaGFpIGFuZCBKaXJhY2hpZWZwYXR0YW5hLCBBamluIiwKICAgIHBsYWNlPUZBS0UsCiAgICBwcD0iOTctLTEwMCIsCiAgICBlbnRyeXR5cGU9ImlucHJvY2VlZGluZ3MiLAogICAgc2VyaWVzPSJXNEEgJzA4IiwKICAgIGlzYm49Ijk3OC0xLTYwNTU4LTE1My04IiwKICAgIGxvY2F0aW9uPSJCZWlqaW5nLCBDaGluYSIsCiAgICBJRD0iUHVueWFidWtrYW5hOjIwMDg6VE5EOjEzNjgwNDQuMTM2ODA2NSIsCiAgICBhY209IjEiLAogICAgcGxhY2V4PSJQcm9jZWVkaW5ncyBvZiB0aGUgMjAwOCBJbnRlcm5hdGlvbmFsIENyb3NzLWRpc2NpcGxpbmFyeSBDb25mZXJlbmNlIG9uIFdlYiBBY2Nlc3NpYmlsaXR5IChXNEEpIiwKKSkKJycnKTs=\"));\n",
       "    "
      ],
      "text/plain": [
       "<IPython.core.display.Javascript object>"
      ]
     },
     "metadata": {},
     "output_type": "display_data"
    },
    {
     "data": {
      "application/javascript": [
       "$('span:contains(\"# Temp\")').closest('.cell').remove();"
      ],
      "text/plain": [
       "<IPython.core.display.Javascript object>"
      ]
     },
     "metadata": {},
     "output_type": "display_data"
    },
    {
     "data": {
      "application/javascript": [
       "\n",
       "        $('span:contains(\"# Temp\")').closest('.cell').remove();\n",
       "        var code = IPython.notebook.insert_cell_below('code');\n",
       "        code.set_text(atob(\"IyBUZW1wCmluc2VydCgnJycKcHVueWFidWtrYW5hMjAwOGEgPSBEQihXb3JrVW5yZWxhdGVkKAogICAgMjAwOCwgIlRoYWlsYW5kJ3MgTmF0aW9uYWwgRGlnaXRhbCBEaXZpZGUgU3RyYXRlZ2ljIEZyYW1ld29yayIsCiAgICBkaXNwbGF5PSJwdW55YWJ1a2thbmEiLAogICAgYXV0aG9ycz0iUHVueWFidWtrYW5hLCBQcm9hZHByYW4gYW5kIFRoYW5hd2FzdGllbiwgU3VjaGFpIGFuZCBKaXJhY2hpZWZwYXR0YW5hLCBBamluIiwKICAgIHBsYWNlPUZBS0UsCiAgICBwcD0iOTctLTEwMCIsCiAgICBlbnRyeXR5cGU9ImlucHJvY2VlZGluZ3MiLAogICAgc2VyaWVzPSJXNEEgJzA4IiwKICAgIGlzYm49Ijk3OC0xLTYwNTU4LTE1My04IiwKICAgIGxvY2F0aW9uPSJCZWlqaW5nLCBDaGluYSIsCiAgICBJRD0iUHVueWFidWtrYW5hOjIwMDg6VE5EOjEzNjgwNDQuMTM2ODA2NSIsCiAgICBhY209IjEiLAogICAgcGxhY2V4PSJQcm9jZWVkaW5ncyBvZiB0aGUgMjAwOCBJbnRlcm5hdGlvbmFsIENyb3NzLWRpc2NpcGxpbmFyeSBDb25mZXJlbmNlIG9uIFdlYiBBY2Nlc3NpYmlsaXR5IChXNEEpIiwKKSkKJycnKTs=\"));\n",
       "    "
      ],
      "text/plain": [
       "<IPython.core.display.Javascript object>"
      ]
     },
     "metadata": {},
     "output_type": "display_data"
    },
    {
     "data": {
      "application/javascript": [
       "$('span:contains(\"# Temp\")').closest('.cell').remove();"
      ],
      "text/plain": [
       "<IPython.core.display.Javascript object>"
      ]
     },
     "metadata": {},
     "output_type": "display_data"
    },
    {
     "data": {
      "application/javascript": [
       "\n",
       "        $('span:contains(\"# Temp\")').closest('.cell').remove();\n",
       "        var code = IPython.notebook.insert_cell_below('code');\n",
       "        code.set_text(atob(\"IyBUZW1wCmluc2VydCgnJycKYnVrb3dza2kxOTk1YSA9IERCKFdvcmtVbnJlbGF0ZWQoCiAgICAxOTk1LCAiT2JqZWN0IEFzc29jaWF0aW9uczogQSBTaW1wbGUgYW5kIFByYWN0aWNhbCBBcHByb2FjaCB0byBWaXJ0dWFsIDNEIE1hbmlwdWxhdGlvbiIsCiAgICBkaXNwbGF5PSJidWtvd3NraSIsCiAgICBhdXRob3JzPSJCdWtvd3NraSwgUmljaGFyZCBXLiBhbmQgU+lxdWluLCBDYXJsbyBILiIsCiAgICBwbGFjZT1GQUtFLAogICAgcHA9IjEzMS0tZmYuIiwKICAgIGVudHJ5dHlwZT0iaW5wcm9jZWVkaW5ncyIsCiAgICBzZXJpZXM9IkkzRCAnOTUiLAogICAgaXNibj0iMC04OTc5MS03MzYtNyIsCiAgICBsb2NhdGlvbj0iTW9udGVyZXksIENhbGlmb3JuaWEsIFVTQSIsCiAgICBJRD0iQnVrb3dza2k6MTk5NTpPQVM6MTk5NDA0LjE5OTQyNyIsCiAgICBhY209IjEiLAogICAgcGxhY2V4PSJQcm9jZWVkaW5ncyBvZiB0aGUgMTk5NSBTeW1wb3NpdW0gb24gSW50ZXJhY3RpdmUgM0QgR3JhcGhpY3MiLAopKQonJycpOw==\"));\n",
       "    "
      ],
      "text/plain": [
       "<IPython.core.display.Javascript object>"
      ]
     },
     "metadata": {},
     "output_type": "display_data"
    },
    {
     "data": {
      "application/javascript": [
       "$('span:contains(\"# Temp\")').closest('.cell').remove();"
      ],
      "text/plain": [
       "<IPython.core.display.Javascript object>"
      ]
     },
     "metadata": {},
     "output_type": "display_data"
    },
    {
     "data": {
      "application/javascript": [
       "\n",
       "        $('span:contains(\"# Temp\")').closest('.cell').remove();\n",
       "        var code = IPython.notebook.insert_cell_below('code');\n",
       "        code.set_text(atob(\"IyBUZW1wCmluc2VydCgnJycKYnVrb3dza2kxOTk1YSA9IERCKFdvcmtVbnJlbGF0ZWQoCiAgICAxOTk1LCAiT2JqZWN0IEFzc29jaWF0aW9uczogQSBTaW1wbGUgYW5kIFByYWN0aWNhbCBBcHByb2FjaCB0byBWaXJ0dWFsIDNEIE1hbmlwdWxhdGlvbiIsCiAgICBkaXNwbGF5PSJidWtvd3NraSIsCiAgICBhdXRob3JzPSJCdWtvd3NraSwgUmljaGFyZCBXLiBhbmQgU+lxdWluLCBDYXJsbyBILiIsCiAgICBwbGFjZT1GQUtFLAogICAgcHA9IjEzMS0tZmYuIiwKICAgIGVudHJ5dHlwZT0iaW5wcm9jZWVkaW5ncyIsCiAgICBzZXJpZXM9IkkzRCAnOTUiLAogICAgaXNibj0iMC04OTc5MS03MzYtNyIsCiAgICBsb2NhdGlvbj0iTW9udGVyZXksIENhbGlmb3JuaWEsIFVTQSIsCiAgICBJRD0iQnVrb3dza2k6MTk5NTpPQVM6MTk5NDA0LjE5OTQyNyIsCiAgICBhY209IjEiLAogICAgcGxhY2V4PSJQcm9jZWVkaW5ncyBvZiB0aGUgMTk5NSBTeW1wb3NpdW0gb24gSW50ZXJhY3RpdmUgM0QgR3JhcGhpY3MiLAopKQonJycpOw==\"));\n",
       "    "
      ],
      "text/plain": [
       "<IPython.core.display.Javascript object>"
      ]
     },
     "metadata": {},
     "output_type": "display_data"
    },
    {
     "data": {
      "application/javascript": [
       "$('span:contains(\"# Temp\")').closest('.cell').remove();"
      ],
      "text/plain": [
       "<IPython.core.display.Javascript object>"
      ]
     },
     "metadata": {},
     "output_type": "display_data"
    },
    {
     "data": {
      "application/javascript": [
       "\n",
       "        $('span:contains(\"# Temp\")').closest('.cell').remove();\n",
       "        var code = IPython.notebook.insert_cell_below('code');\n",
       "        code.set_text(atob(\"IyBUZW1wCmluc2VydCgnJycKc21hcnQyMDAxYSA9IERCKFdvcmtVbnJlbGF0ZWQoCiAgICAyMDAxLCAiQ3JlYXRpbmcgRWZmZWN0aXZlIGFuZCBFbmpveWFibGUgRG9jdW1lbnRhdGlvbjogRW5oYW5jaW5nIHRoZSBFeHBlcmllbmNlIG9mIFVzZXJzIGJ5IEFsaWduaW5nIEluZm9ybWF0aW9uIHdpdGggU3RyYXRlZ2ljIERpcmVjdGlvbiBhbmQgQ3VzdG9tZXIgSW5zaWdodHMiLAogICAgZGlzcGxheT0ic21hcnQiLAogICAgYXV0aG9ycz0iU21hcnQsIEthcmwgYW5kIE5vcnRvbiwgRGF2ZSIsCiAgICBwbGFjZT1GQUtFLAogICAgcHA9IjIyMC0tMjIwIiwKICAgIGVudHJ5dHlwZT0iaW5wcm9jZWVkaW5ncyIsCiAgICBzZXJpZXM9IlNJR0RPQyAnMDEiLAogICAgaXNibj0iMS01ODExMy0yOTUtNiIsCiAgICBsb2NhdGlvbj0iU2FudGUgRmUsIE5ldyBNZXhpY28sIFVTQSIsCiAgICBJRD0iU21hcnQ6MjAwMTpDRUU6NTAxNTE2LjUwMTU1OSIsCiAgICBhY209IjEiLAogICAgcGxhY2V4PSJQcm9jZWVkaW5ncyBvZiB0aGUgMTl0aCBBbm51YWwgSW50ZXJuYXRpb25hbCBDb25mZXJlbmNlIG9uIENvbXB1dGVyIERvY3VtZW50YXRpb24iLAopKQonJycpOw==\"));\n",
       "    "
      ],
      "text/plain": [
       "<IPython.core.display.Javascript object>"
      ]
     },
     "metadata": {},
     "output_type": "display_data"
    },
    {
     "data": {
      "application/javascript": [
       "$('span:contains(\"# Temp\")').closest('.cell').remove();"
      ],
      "text/plain": [
       "<IPython.core.display.Javascript object>"
      ]
     },
     "metadata": {},
     "output_type": "display_data"
    },
    {
     "data": {
      "application/javascript": [
       "\n",
       "        $('span:contains(\"# Temp\")').closest('.cell').remove();\n",
       "        var code = IPython.notebook.insert_cell_below('code');\n",
       "        code.set_text(atob(\"IyBUZW1wCmluc2VydCgnJycKc21hcnQyMDAxYSA9IERCKFdvcmtVbnJlbGF0ZWQoCiAgICAyMDAxLCAiQ3JlYXRpbmcgRWZmZWN0aXZlIGFuZCBFbmpveWFibGUgRG9jdW1lbnRhdGlvbjogRW5oYW5jaW5nIHRoZSBFeHBlcmllbmNlIG9mIFVzZXJzIGJ5IEFsaWduaW5nIEluZm9ybWF0aW9uIHdpdGggU3RyYXRlZ2ljIERpcmVjdGlvbiBhbmQgQ3VzdG9tZXIgSW5zaWdodHMiLAogICAgZGlzcGxheT0ic21hcnQiLAogICAgYXV0aG9ycz0iU21hcnQsIEthcmwgYW5kIE5vcnRvbiwgRGF2ZSIsCiAgICBwbGFjZT1GQUtFLAogICAgcHA9IjIyMC0tMjIwIiwKICAgIGVudHJ5dHlwZT0iaW5wcm9jZWVkaW5ncyIsCiAgICBzZXJpZXM9IlNJR0RPQyAnMDEiLAogICAgaXNibj0iMS01ODExMy0yOTUtNiIsCiAgICBsb2NhdGlvbj0iU2FudGUgRmUsIE5ldyBNZXhpY28sIFVTQSIsCiAgICBJRD0iU21hcnQ6MjAwMTpDRUU6NTAxNTE2LjUwMTU1OSIsCiAgICBhY209IjEiLAogICAgcGxhY2V4PSJQcm9jZWVkaW5ncyBvZiB0aGUgMTl0aCBBbm51YWwgSW50ZXJuYXRpb25hbCBDb25mZXJlbmNlIG9uIENvbXB1dGVyIERvY3VtZW50YXRpb24iLAopKQonJycpOw==\"));\n",
       "    "
      ],
      "text/plain": [
       "<IPython.core.display.Javascript object>"
      ]
     },
     "metadata": {},
     "output_type": "display_data"
    },
    {
     "data": {
      "application/javascript": [
       "$('span:contains(\"# Temp\")').closest('.cell').remove();"
      ],
      "text/plain": [
       "<IPython.core.display.Javascript object>"
      ]
     },
     "metadata": {},
     "output_type": "display_data"
    },
    {
     "data": {
      "application/javascript": [
       "\n",
       "        $('span:contains(\"# Temp\")').closest('.cell').remove();\n",
       "        var code = IPython.notebook.insert_cell_below('code');\n",
       "        code.set_text(atob(\"IyBUZW1wCmluc2VydCgnJycnJycpOw==\"));\n",
       "    "
      ],
      "text/plain": [
       "<IPython.core.display.Javascript object>"
      ]
     },
     "metadata": {},
     "output_type": "display_data"
    },
    {
     "data": {
      "application/javascript": [
       "$('span:contains(\"# Temp\")').closest('.cell').remove();"
      ],
      "text/plain": [
       "<IPython.core.display.Javascript object>"
      ]
     },
     "metadata": {},
     "output_type": "display_data"
    },
    {
     "data": {
      "application/javascript": [
       "\n",
       "        $('span:contains(\"# Temp\")').closest('.cell').remove();\n",
       "        var code = IPython.notebook.insert_cell_below('code');\n",
       "        code.set_text(atob(\"IyBUZW1wCmluc2VydCgnJycnJycpOw==\"));\n",
       "    "
      ],
      "text/plain": [
       "<IPython.core.display.Javascript object>"
      ]
     },
     "metadata": {},
     "output_type": "display_data"
    },
    {
     "data": {
      "application/javascript": [
       "$('span:contains(\"# Temp\")').closest('.cell').remove();"
      ],
      "text/plain": [
       "<IPython.core.display.Javascript object>"
      ]
     },
     "metadata": {},
     "output_type": "display_data"
    },
    {
     "data": {
      "application/javascript": [
       "\n",
       "        $('span:contains(\"# Temp\")').closest('.cell').remove();\n",
       "        var code = IPython.notebook.insert_cell_below('code');\n",
       "        code.set_text(atob(\"IyBUZW1wCmluc2VydCgnJycKc21hcnQyMDAxYSA9IERCKFdvcmtVbnJlbGF0ZWQoCiAgICAyMDAxLCAiQ3JlYXRpbmcgRWZmZWN0aXZlIGFuZCBFbmpveWFibGUgRG9jdW1lbnRhdGlvbjogRW5oYW5jaW5nIHRoZSBFeHBlcmllbmNlIG9mIFVzZXJzIGJ5IEFsaWduaW5nIEluZm9ybWF0aW9uIHdpdGggU3RyYXRlZ2ljIERpcmVjdGlvbiBhbmQgQ3VzdG9tZXIgSW5zaWdodHMiLAogICAgZGlzcGxheT0ic21hcnQiLAogICAgYXV0aG9ycz0iU21hcnQsIEthcmwgYW5kIE5vcnRvbiwgRGF2ZSIsCiAgICBwbGFjZT1GQUtFLAogICAgcHA9IjIyMC0tMjIwIiwKICAgIGVudHJ5dHlwZT0iaW5wcm9jZWVkaW5ncyIsCiAgICBzZXJpZXM9IlNJR0RPQyAnMDEiLAogICAgaXNibj0iMS01ODExMy0yOTUtNiIsCiAgICBsb2NhdGlvbj0iU2FudGUgRmUsIE5ldyBNZXhpY28sIFVTQSIsCiAgICBJRD0iU21hcnQ6MjAwMTpDRUU6NTAxNTE2LjUwMTU1OSIsCiAgICBhY209IjEiLAogICAgcGxhY2V4PSJQcm9jZWVkaW5ncyBvZiB0aGUgMTl0aCBBbm51YWwgSW50ZXJuYXRpb25hbCBDb25mZXJlbmNlIG9uIENvbXB1dGVyIERvY3VtZW50YXRpb24iLAopKQonJycpOw==\"));\n",
       "    "
      ],
      "text/plain": [
       "<IPython.core.display.Javascript object>"
      ]
     },
     "metadata": {},
     "output_type": "display_data"
    },
    {
     "data": {
      "application/javascript": [
       "$('span:contains(\"# Temp\")').closest('.cell').remove();"
      ],
      "text/plain": [
       "<IPython.core.display.Javascript object>"
      ]
     },
     "metadata": {},
     "output_type": "display_data"
    },
    {
     "data": {
      "application/javascript": [
       "\n",
       "        $('span:contains(\"# Temp\")').closest('.cell').remove();\n",
       "        var code = IPython.notebook.insert_cell_below('code');\n",
       "        code.set_text(atob(\"IyBUZW1wCmluc2VydCgnJycKc21hcnQyMDAxYSA9IERCKFdvcmtVbnJlbGF0ZWQoCiAgICAyMDAxLCAiQ3JlYXRpbmcgRWZmZWN0aXZlIGFuZCBFbmpveWFibGUgRG9jdW1lbnRhdGlvbjogRW5oYW5jaW5nIHRoZSBFeHBlcmllbmNlIG9mIFVzZXJzIGJ5IEFsaWduaW5nIEluZm9ybWF0aW9uIHdpdGggU3RyYXRlZ2ljIERpcmVjdGlvbiBhbmQgQ3VzdG9tZXIgSW5zaWdodHMiLAogICAgZGlzcGxheT0ic21hcnQiLAogICAgYXV0aG9ycz0iU21hcnQsIEthcmwgYW5kIE5vcnRvbiwgRGF2ZSIsCiAgICBwbGFjZT1GQUtFLAogICAgcHA9IjIyMC0tMjIwIiwKICAgIGVudHJ5dHlwZT0iaW5wcm9jZWVkaW5ncyIsCiAgICBzZXJpZXM9IlNJR0RPQyAnMDEiLAogICAgaXNibj0iMS01ODExMy0yOTUtNiIsCiAgICBsb2NhdGlvbj0iU2FudGUgRmUsIE5ldyBNZXhpY28sIFVTQSIsCiAgICBJRD0iU21hcnQ6MjAwMTpDRUU6NTAxNTE2LjUwMTU1OSIsCiAgICBhY209IjEiLAogICAgcGxhY2V4PSJQcm9jZWVkaW5ncyBvZiB0aGUgMTl0aCBBbm51YWwgSW50ZXJuYXRpb25hbCBDb25mZXJlbmNlIG9uIENvbXB1dGVyIERvY3VtZW50YXRpb24iLAopKQonJycpOw==\"));\n",
       "    "
      ],
      "text/plain": [
       "<IPython.core.display.Javascript object>"
      ]
     },
     "metadata": {},
     "output_type": "display_data"
    },
    {
     "data": {
      "application/javascript": [
       "$('span:contains(\"# Temp\")').closest('.cell').remove();"
      ],
      "text/plain": [
       "<IPython.core.display.Javascript object>"
      ]
     },
     "metadata": {},
     "output_type": "display_data"
    },
    {
     "data": {
      "application/javascript": [
       "\n",
       "        $('span:contains(\"# Temp\")').closest('.cell').remove();\n",
       "        var code = IPython.notebook.insert_cell_below('code');\n",
       "        code.set_text(atob(\"IyBUZW1wCmluc2VydCgnJycKdGV1ZmVsMTk5NWEgPSBEQihXb3JrVW5yZWxhdGVkKAogICAgMTk5NSwgIkJyaWRnaW5nIEluZm9ybWF0aW9uIFRlY2hub2xvZ3kgYW5kIEJ1c2luZXNzJk1kYXNoO1NvbWUgTW9kZWxsaW5nIEFzcGVjdHMiLAogICAgZGlzcGxheT0idGV1ZmVsIiwKICAgIGF1dGhvcnM9IlRldWZlbCwgU3RlcGhhbmllIGFuZCBUZXVmZWwsIEJlcm5kIiwKICAgIHBsYWNlPUZBS0UsCiAgICBwcD0iMTMtLTE3IiwKICAgIGVudHJ5dHlwZT0iYXJ0aWNsZSIsCiAgICBpc3N1ZV9kYXRlPSJBdWcuIDE5OTUiLAogICAgdm9sdW1lPSIxNiIsCiAgICBudW1iZXI9IjEiLAogICAgbW9udGg9ImF1ZyIsCiAgICBpc3NuPSIwODk0LTA4MTkiLAogICAgSUQ9IlRldWZlbDoxOTk1OkJJVDoyMDk4OTEuMjA5ODk1IiwKICAgIGFjbT0iMSIsCiAgICBwbGFjZXg9IlNJR09JUyBCdWxsLiIsCikpCicnJyk7\"));\n",
       "    "
      ],
      "text/plain": [
       "<IPython.core.display.Javascript object>"
      ]
     },
     "metadata": {},
     "output_type": "display_data"
    },
    {
     "data": {
      "application/javascript": [
       "$('span:contains(\"# Temp\")').closest('.cell').remove();"
      ],
      "text/plain": [
       "<IPython.core.display.Javascript object>"
      ]
     },
     "metadata": {},
     "output_type": "display_data"
    },
    {
     "data": {
      "application/javascript": [
       "\n",
       "        $('span:contains(\"# Temp\")').closest('.cell').remove();\n",
       "        var code = IPython.notebook.insert_cell_below('code');\n",
       "        code.set_text(atob(\"IyBUZW1wCmluc2VydCgnJycKdGV1ZmVsMTk5NWEgPSBEQihXb3JrVW5yZWxhdGVkKAogICAgMTk5NSwgIkJyaWRnaW5nIEluZm9ybWF0aW9uIFRlY2hub2xvZ3kgYW5kIEJ1c2luZXNzJk1kYXNoO1NvbWUgTW9kZWxsaW5nIEFzcGVjdHMiLAogICAgZGlzcGxheT0idGV1ZmVsIiwKICAgIGF1dGhvcnM9IlRldWZlbCwgU3RlcGhhbmllIGFuZCBUZXVmZWwsIEJlcm5kIiwKICAgIHBsYWNlPUZBS0UsCiAgICBwcD0iMTMtLTE3IiwKICAgIGVudHJ5dHlwZT0iYXJ0aWNsZSIsCiAgICBpc3N1ZV9kYXRlPSJBdWcuIDE5OTUiLAogICAgdm9sdW1lPSIxNiIsCiAgICBudW1iZXI9IjEiLAogICAgbW9udGg9ImF1ZyIsCiAgICBpc3NuPSIwODk0LTA4MTkiLAogICAgSUQ9IlRldWZlbDoxOTk1OkJJVDoyMDk4OTEuMjA5ODk1IiwKICAgIGFjbT0iMSIsCiAgICBwbGFjZXg9IlNJR09JUyBCdWxsLiIsCikpCicnJyk7\"));\n",
       "    "
      ],
      "text/plain": [
       "<IPython.core.display.Javascript object>"
      ]
     },
     "metadata": {},
     "output_type": "display_data"
    },
    {
     "data": {
      "application/javascript": [
       "$('span:contains(\"# Temp\")').closest('.cell').remove();"
      ],
      "text/plain": [
       "<IPython.core.display.Javascript object>"
      ]
     },
     "metadata": {},
     "output_type": "display_data"
    },
    {
     "data": {
      "application/javascript": [
       "\n",
       "        $('span:contains(\"# Temp\")').closest('.cell').remove();\n",
       "        var code = IPython.notebook.insert_cell_below('code');\n",
       "        code.set_text(atob(\"IyBUZW1wCmluc2VydCgnJycKduRo5G5paXR0eTIwMDhhID0gREIoV29ya1VucmVsYXRlZCgKICAgIDIwMDgsICJUb3dhcmRzIGEgQ29uY2VwdHVhbCBGcmFtZXdvcmsgYW5kIFRvb2wgU3VwcG9ydCBmb3IgTGlua2luZyBMb25nLXRlcm0gUHJvZHVjdCBhbmQgQnVzaW5lc3MgUGxhbm5pbmcgd2l0aCBBZ2lsZSBTb2Z0d2FyZSBEZXZlbG9wbWVudCIsCiAgICBkaXNwbGF5PSJ25GjkbmlpdHR5IiwKICAgIGF1dGhvcnM9IlbkaORuaWl0dHksIEphcm5vIGFuZCBSYXV0aWFpbmVuLCBLcmlzdGlhbiBULiIsCiAgICBwbGFjZT1GQUtFLAogICAgcHA9IjI1LS0yOCIsCiAgICBlbnRyeXR5cGU9ImlucHJvY2VlZGluZ3MiLAogICAgc2VyaWVzPSJTREcgJzA4IiwKICAgIGlzYm49Ijk3OC0xLTYwNTU4LTAzNS03IiwKICAgIGxvY2F0aW9uPSJMZWlwemlnLCBHZXJtYW55IiwKICAgIElEPSJWYWhhbmlpdHR5OjIwMDg6VENGOjEzNzA3MjAuMTM3MDczMCIsCiAgICBhY209IjEiLAogICAgcGxhY2V4PSJQcm9jZWVkaW5ncyBvZiB0aGUgMXN0IEludGVybmF0aW9uYWwgV29ya3Nob3Agb24gU29mdHdhcmUgRGV2ZWxvcG1lbnQgR292ZXJuYW5jZSIsCikpCicnJyk7\"));\n",
       "    "
      ],
      "text/plain": [
       "<IPython.core.display.Javascript object>"
      ]
     },
     "metadata": {},
     "output_type": "display_data"
    },
    {
     "data": {
      "application/javascript": [
       "$('span:contains(\"# Temp\")').closest('.cell').remove();"
      ],
      "text/plain": [
       "<IPython.core.display.Javascript object>"
      ]
     },
     "metadata": {},
     "output_type": "display_data"
    },
    {
     "data": {
      "application/javascript": [
       "\n",
       "        $('span:contains(\"# Temp\")').closest('.cell').remove();\n",
       "        var code = IPython.notebook.insert_cell_below('code');\n",
       "        code.set_text(atob(\"IyBUZW1wCmluc2VydCgnJycKduRo5G5paXR0eTIwMDhhID0gREIoV29ya1VucmVsYXRlZCgKICAgIDIwMDgsICJUb3dhcmRzIGEgQ29uY2VwdHVhbCBGcmFtZXdvcmsgYW5kIFRvb2wgU3VwcG9ydCBmb3IgTGlua2luZyBMb25nLXRlcm0gUHJvZHVjdCBhbmQgQnVzaW5lc3MgUGxhbm5pbmcgd2l0aCBBZ2lsZSBTb2Z0d2FyZSBEZXZlbG9wbWVudCIsCiAgICBkaXNwbGF5PSJ25GjkbmlpdHR5IiwKICAgIGF1dGhvcnM9IlbkaORuaWl0dHksIEphcm5vIGFuZCBSYXV0aWFpbmVuLCBLcmlzdGlhbiBULiIsCiAgICBwbGFjZT1GQUtFLAogICAgcHA9IjI1LS0yOCIsCiAgICBlbnRyeXR5cGU9ImlucHJvY2VlZGluZ3MiLAogICAgc2VyaWVzPSJTREcgJzA4IiwKICAgIGlzYm49Ijk3OC0xLTYwNTU4LTAzNS03IiwKICAgIGxvY2F0aW9uPSJMZWlwemlnLCBHZXJtYW55IiwKICAgIElEPSJWYWhhbmlpdHR5OjIwMDg6VENGOjEzNzA3MjAuMTM3MDczMCIsCiAgICBhY209IjEiLAogICAgcGxhY2V4PSJQcm9jZWVkaW5ncyBvZiB0aGUgMXN0IEludGVybmF0aW9uYWwgV29ya3Nob3Agb24gU29mdHdhcmUgRGV2ZWxvcG1lbnQgR292ZXJuYW5jZSIsCikpCicnJyk7\"));\n",
       "    "
      ],
      "text/plain": [
       "<IPython.core.display.Javascript object>"
      ]
     },
     "metadata": {},
     "output_type": "display_data"
    },
    {
     "data": {
      "application/javascript": [
       "$('span:contains(\"# Temp\")').closest('.cell').remove();"
      ],
      "text/plain": [
       "<IPython.core.display.Javascript object>"
      ]
     },
     "metadata": {},
     "output_type": "display_data"
    },
    {
     "data": {
      "application/javascript": [
       "\n",
       "        $('span:contains(\"# Temp\")').closest('.cell').remove();\n",
       "        var code = IPython.notebook.insert_cell_below('code');\n",
       "        code.set_text(atob(\"IyBUZW1wCmluc2VydCgnJycKYmVoZXNoaXRoYTIwMTVhID0gREIoV29ya1VucmVsYXRlZCgKICAgIDIwMTUsICJBIFByb2Nlc3MgTWluaW5nIEFwcHJvYWNoIHRvIExpbmtpbmcgdGhlIFN0dWR5IG9mIEFwdGl0dWRlIGFuZCBFdmVudCBGYWNldHMgb2YgU2VsZi1yZWd1bGF0ZWQgTGVhcm5pbmciLAogICAgZGlzcGxheT0iYmVoZXNoaXRoYSIsCiAgICBhdXRob3JzPSJCZWhlc2hpdGhhLCBTYW5hbSBTaGlyYXppIGFuZCBHYZpldmk/LCBEcmFnYW4gYW5kIEhhdGFsYSwgTWFyZWsiLAogICAgcGxhY2U9RkFLRSwKICAgIHBwPSIyNjUtLTI2OSIsCiAgICBlbnRyeXR5cGU9ImlucHJvY2VlZGluZ3MiLAogICAgc2VyaWVzPSJMQUsgJzE1IiwKICAgIGlzYm49Ijk3OC0xLTQ1MDMtMzQxNy00IiwKICAgIGxvY2F0aW9uPSJQb3VnaGtlZXBzaWUsIE5ldyBZb3JrIiwKICAgIElEPSJCZWhlc2hpdGhhOjIwMTU6UE1BOjI3MjM1NzYuMjcyMzYyOCIsCiAgICBhY209IjEiLAogICAgcGxhY2V4PSJQcm9jZWVkaW5ncyBvZiB0aGUgRmlmdGggSW50ZXJuYXRpb25hbCBDb25mZXJlbmNlIG9uIExlYXJuaW5nIEFuYWx5dGljcyBBbmQgS25vd2xlZGdlIiwKKSkKJycnKTs=\"));\n",
       "    "
      ],
      "text/plain": [
       "<IPython.core.display.Javascript object>"
      ]
     },
     "metadata": {},
     "output_type": "display_data"
    },
    {
     "data": {
      "application/javascript": [
       "$('span:contains(\"# Temp\")').closest('.cell').remove();"
      ],
      "text/plain": [
       "<IPython.core.display.Javascript object>"
      ]
     },
     "metadata": {},
     "output_type": "display_data"
    },
    {
     "data": {
      "application/javascript": [
       "\n",
       "        $('span:contains(\"# Temp\")').closest('.cell').remove();\n",
       "        var code = IPython.notebook.insert_cell_below('code');\n",
       "        code.set_text(atob(\"IyBUZW1wCmluc2VydCgnJycKYmVoZXNoaXRoYTIwMTVhID0gREIoV29ya1VucmVsYXRlZCgKICAgIDIwMTUsICJBIFByb2Nlc3MgTWluaW5nIEFwcHJvYWNoIHRvIExpbmtpbmcgdGhlIFN0dWR5IG9mIEFwdGl0dWRlIGFuZCBFdmVudCBGYWNldHMgb2YgU2VsZi1yZWd1bGF0ZWQgTGVhcm5pbmciLAogICAgZGlzcGxheT0iYmVoZXNoaXRoYSIsCiAgICBhdXRob3JzPSJCZWhlc2hpdGhhLCBTYW5hbSBTaGlyYXppIGFuZCBHYZpldmk/LCBEcmFnYW4gYW5kIEhhdGFsYSwgTWFyZWsiLAogICAgcGxhY2U9RkFLRSwKICAgIHBwPSIyNjUtLTI2OSIsCiAgICBlbnRyeXR5cGU9ImlucHJvY2VlZGluZ3MiLAogICAgc2VyaWVzPSJMQUsgJzE1IiwKICAgIGlzYm49Ijk3OC0xLTQ1MDMtMzQxNy00IiwKICAgIGxvY2F0aW9uPSJQb3VnaGtlZXBzaWUsIE5ldyBZb3JrIiwKICAgIElEPSJCZWhlc2hpdGhhOjIwMTU6UE1BOjI3MjM1NzYuMjcyMzYyOCIsCiAgICBhY209IjEiLAogICAgcGxhY2V4PSJQcm9jZWVkaW5ncyBvZiB0aGUgRmlmdGggSW50ZXJuYXRpb25hbCBDb25mZXJlbmNlIG9uIExlYXJuaW5nIEFuYWx5dGljcyBBbmQgS25vd2xlZGdlIiwKKSkKJycnKTs=\"));\n",
       "    "
      ],
      "text/plain": [
       "<IPython.core.display.Javascript object>"
      ]
     },
     "metadata": {},
     "output_type": "display_data"
    },
    {
     "data": {
      "application/javascript": [
       "$('span:contains(\"# Temp\")').closest('.cell').remove();"
      ],
      "text/plain": [
       "<IPython.core.display.Javascript object>"
      ]
     },
     "metadata": {},
     "output_type": "display_data"
    },
    {
     "data": {
      "application/javascript": [
       "\n",
       "        $('span:contains(\"# Temp\")').closest('.cell').remove();\n",
       "        var code = IPython.notebook.insert_cell_below('code');\n",
       "        code.set_text(atob(\"IyBUZW1wCmluc2VydCgnJycKYmFiYXIyMDA4YiA9IERCKFdvcmtVbnJlbGF0ZWQoCiAgICAyMDA4LCAiVGhyZWUgSW50ZWdyYXRpb24gQXBwcm9hY2hlcyBmb3IgTWFwIGFuZCBCLVNDUCBSZXF1aXJlbWVudHMgRW5naW5lZXJpbmcgVGVjaG5pcXVlcyIsCiAgICBkaXNwbGF5PSJiYWJhciBiIiwKICAgIGF1dGhvcnM9IkJhYmFyLCBBYmR1bCBhbmQgWm93Z2hpLCBEaWRhciBhbmQgQ294LCBLYXJsIGFuZCBUb3NpYywgVmxhZGltaXIiLAogICAgcGxhY2U9RkFLRSwKICAgIHBwPSI2NTAtLTY1NSIsCiAgICBlbnRyeXR5cGU9ImlucHJvY2VlZGluZ3MiLAogICAgc2VyaWVzPSJTQUMgJzA4IiwKICAgIGlzYm49Ijk3OC0xLTU5NTkzLTc1My03IiwKICAgIGxvY2F0aW9uPSJGb3J0YWxlemEsIENlYXJhLCBCcmF6aWwiLAogICAgSUQ9IkJhYmFyOjIwMDg6VElBOjEzNjM2ODYuMTM2Mzg0MSIsCiAgICBhY209IjEiLAogICAgcGxhY2V4PSJQcm9jZWVkaW5ncyBvZiB0aGUgMjAwOCBBQ00gU3ltcG9zaXVtIG9uIEFwcGxpZWQgQ29tcHV0aW5nIiwKKSkKJycnKTs=\"));\n",
       "    "
      ],
      "text/plain": [
       "<IPython.core.display.Javascript object>"
      ]
     },
     "metadata": {},
     "output_type": "display_data"
    },
    {
     "data": {
      "application/javascript": [
       "$('span:contains(\"# Temp\")').closest('.cell').remove();"
      ],
      "text/plain": [
       "<IPython.core.display.Javascript object>"
      ]
     },
     "metadata": {},
     "output_type": "display_data"
    },
    {
     "data": {
      "application/javascript": [
       "\n",
       "        $('span:contains(\"# Temp\")').closest('.cell').remove();\n",
       "        var code = IPython.notebook.insert_cell_below('code');\n",
       "        code.set_text(atob(\"IyBUZW1wCmluc2VydCgnJycKYmFiYXIyMDA4YiA9IERCKFdvcmtVbnJlbGF0ZWQoCiAgICAyMDA4LCAiVGhyZWUgSW50ZWdyYXRpb24gQXBwcm9hY2hlcyBmb3IgTWFwIGFuZCBCLVNDUCBSZXF1aXJlbWVudHMgRW5naW5lZXJpbmcgVGVjaG5pcXVlcyIsCiAgICBkaXNwbGF5PSJiYWJhciBiIiwKICAgIGF1dGhvcnM9IkJhYmFyLCBBYmR1bCBhbmQgWm93Z2hpLCBEaWRhciBhbmQgQ294LCBLYXJsIGFuZCBUb3NpYywgVmxhZGltaXIiLAogICAgcGxhY2U9RkFLRSwKICAgIHBwPSI2NTAtLTY1NSIsCiAgICBlbnRyeXR5cGU9ImlucHJvY2VlZGluZ3MiLAogICAgc2VyaWVzPSJTQUMgJzA4IiwKICAgIGlzYm49Ijk3OC0xLTU5NTkzLTc1My03IiwKICAgIGxvY2F0aW9uPSJGb3J0YWxlemEsIENlYXJhLCBCcmF6aWwiLAogICAgSUQ9IkJhYmFyOjIwMDg6VElBOjEzNjM2ODYuMTM2Mzg0MSIsCiAgICBhY209IjEiLAogICAgcGxhY2V4PSJQcm9jZWVkaW5ncyBvZiB0aGUgMjAwOCBBQ00gU3ltcG9zaXVtIG9uIEFwcGxpZWQgQ29tcHV0aW5nIiwKKSkKJycnKTs=\"));\n",
       "    "
      ],
      "text/plain": [
       "<IPython.core.display.Javascript object>"
      ]
     },
     "metadata": {},
     "output_type": "display_data"
    },
    {
     "data": {
      "application/javascript": [
       "$('span:contains(\"# Temp\")').closest('.cell').remove();"
      ],
      "text/plain": [
       "<IPython.core.display.Javascript object>"
      ]
     },
     "metadata": {},
     "output_type": "display_data"
    },
    {
     "data": {
      "application/javascript": [
       "\n",
       "        $('span:contains(\"# Temp\")').closest('.cell').remove();\n",
       "        var code = IPython.notebook.insert_cell_below('code');\n",
       "        code.set_text(atob(\"IyBUZW1wCmluc2VydCgnJycKZGVsZ2FkbzIwMTJhID0gREIoV29ya1VucmVsYXRlZCgKICAgIDIwMTIsICJNb2RlbCBUcmFuc2Zvcm1hdGlvbnMgZm9yIEJ1c2luZXNzLUlUIEFsaWdubWVudDogRnJvbSBDb2xsYWJvcmF0aXZlIEJ1c2luZXNzIFByb2Nlc3MgdG8gU29hTUwgU2VydmljZSBNb2RlbCIsCiAgICBkaXNwbGF5PSJkZWxnYWRvIiwKICAgIGF1dGhvcnM9IkRlbGdhZG8sIEFuZHJlYSBhbmQgUnVpeiwgRnJhbmNpc2NvIGFuZCBkZSBHdXpt4W4sIElnbmFjaW8gR2FyY+1hLVJvZHLtZ3VleiBhbmQgUGlhdHRpbmksIE1hcmlvIiwKICAgIHBsYWNlPUZBS0UsCiAgICBwcD0iMTcyMC0tMTcyMiIsCiAgICBlbnRyeXR5cGU9ImlucHJvY2VlZGluZ3MiLAogICAgc2VyaWVzPSJTQUMgJzEyIiwKICAgIGlzYm49Ijk3OC0xLTQ1MDMtMDg1Ny0xIiwKICAgIGxvY2F0aW9uPSJUcmVudG8sIEl0YWx5IiwKICAgIElEPSJEZWxnYWRvOjIwMTI6TVRCOjIyNDUyNzYuMjIzMjA1MyIsCiAgICBhY209IjEiLAogICAgcGxhY2V4PSJQcm9jZWVkaW5ncyBvZiB0aGUgMjd0aCBBbm51YWwgQUNNIFN5bXBvc2l1bSBvbiBBcHBsaWVkIENvbXB1dGluZyIsCikpCicnJyk7\"));\n",
       "    "
      ],
      "text/plain": [
       "<IPython.core.display.Javascript object>"
      ]
     },
     "metadata": {},
     "output_type": "display_data"
    },
    {
     "data": {
      "application/javascript": [
       "$('span:contains(\"# Temp\")').closest('.cell').remove();"
      ],
      "text/plain": [
       "<IPython.core.display.Javascript object>"
      ]
     },
     "metadata": {},
     "output_type": "display_data"
    },
    {
     "data": {
      "application/javascript": [
       "\n",
       "        $('span:contains(\"# Temp\")').closest('.cell').remove();\n",
       "        var code = IPython.notebook.insert_cell_below('code');\n",
       "        code.set_text(atob(\"IyBUZW1wCmluc2VydCgnJycKZGVsZ2FkbzIwMTJhID0gREIoV29ya1VucmVsYXRlZCgKICAgIDIwMTIsICJNb2RlbCBUcmFuc2Zvcm1hdGlvbnMgZm9yIEJ1c2luZXNzLUlUIEFsaWdubWVudDogRnJvbSBDb2xsYWJvcmF0aXZlIEJ1c2luZXNzIFByb2Nlc3MgdG8gU29hTUwgU2VydmljZSBNb2RlbCIsCiAgICBkaXNwbGF5PSJkZWxnYWRvIiwKICAgIGF1dGhvcnM9IkRlbGdhZG8sIEFuZHJlYSBhbmQgUnVpeiwgRnJhbmNpc2NvIGFuZCBkZSBHdXpt4W4sIElnbmFjaW8gR2FyY+1hLVJvZHLtZ3VleiBhbmQgUGlhdHRpbmksIE1hcmlvIiwKICAgIHBsYWNlPUZBS0UsCiAgICBwcD0iMTcyMC0tMTcyMiIsCiAgICBlbnRyeXR5cGU9ImlucHJvY2VlZGluZ3MiLAogICAgc2VyaWVzPSJTQUMgJzEyIiwKICAgIGlzYm49Ijk3OC0xLTQ1MDMtMDg1Ny0xIiwKICAgIGxvY2F0aW9uPSJUcmVudG8sIEl0YWx5IiwKICAgIElEPSJEZWxnYWRvOjIwMTI6TVRCOjIyNDUyNzYuMjIzMjA1MyIsCiAgICBhY209IjEiLAogICAgcGxhY2V4PSJQcm9jZWVkaW5ncyBvZiB0aGUgMjd0aCBBbm51YWwgQUNNIFN5bXBvc2l1bSBvbiBBcHBsaWVkIENvbXB1dGluZyIsCikpCicnJyk7\"));\n",
       "    "
      ],
      "text/plain": [
       "<IPython.core.display.Javascript object>"
      ]
     },
     "metadata": {},
     "output_type": "display_data"
    },
    {
     "data": {
      "application/javascript": [
       "$('span:contains(\"# Temp\")').closest('.cell').remove();"
      ],
      "text/plain": [
       "<IPython.core.display.Javascript object>"
      ]
     },
     "metadata": {},
     "output_type": "display_data"
    },
    {
     "data": {
      "application/javascript": [
       "\n",
       "        $('span:contains(\"# Temp\")').closest('.cell').remove();\n",
       "        var code = IPython.notebook.insert_cell_below('code');\n",
       "        code.set_text(atob(\"IyBUZW1wCmluc2VydCgnJycKcmFtMTk5MGEgPSBEQihXb3JrVW5yZWxhdGVkKAogICAgMTk5MCwgIkh5cGVySW50ZWxsaWdlbmNlOiBUaGUgTmV4dCBGcm9udGllciIsCiAgICBkaXNwbGF5PSJyYW0iLAogICAgYXV0aG9ycz0iUmFtLCBTdWRoYSBhbmQgQ2FybHNvbiwgRGF2aWQgQS4iLAogICAgcGxhY2U9RkFLRSwKICAgIHBwPSIzMTEtLTMyMSIsCiAgICBlbnRyeXR5cGU9ImFydGljbGUiLAogICAgaXNzdWVfZGF0ZT0iTWFyY2ggMTk5MCIsCiAgICB2b2x1bWU9IjMzIiwKICAgIG51bWJlcj0iMyIsCiAgICBtb250aD0ibWFyIiwKICAgIGlzc249IjAwMDEtMDc4MiIsCiAgICBJRD0iUmFtOjE5OTA6SE5GOjc3NDgxLjc3NDg0IiwKICAgIGFjbT0iMSIsCiAgICBwbGFjZXg9IkNvbW11bi4gQUNNIiwKKSkKJycnKTs=\"));\n",
       "    "
      ],
      "text/plain": [
       "<IPython.core.display.Javascript object>"
      ]
     },
     "metadata": {},
     "output_type": "display_data"
    },
    {
     "data": {
      "application/javascript": [
       "$('span:contains(\"# Temp\")').closest('.cell').remove();"
      ],
      "text/plain": [
       "<IPython.core.display.Javascript object>"
      ]
     },
     "metadata": {},
     "output_type": "display_data"
    },
    {
     "data": {
      "application/javascript": [
       "\n",
       "        $('span:contains(\"# Temp\")').closest('.cell').remove();\n",
       "        var code = IPython.notebook.insert_cell_below('code');\n",
       "        code.set_text(atob(\"IyBUZW1wCmluc2VydCgnJycKcmFtMTk5MGEgPSBEQihXb3JrVW5yZWxhdGVkKAogICAgMTk5MCwgIkh5cGVySW50ZWxsaWdlbmNlOiBUaGUgTmV4dCBGcm9udGllciIsCiAgICBkaXNwbGF5PSJyYW0iLAogICAgYXV0aG9ycz0iUmFtLCBTdWRoYSBhbmQgQ2FybHNvbiwgRGF2aWQgQS4iLAogICAgcGxhY2U9RkFLRSwKICAgIHBwPSIzMTEtLTMyMSIsCiAgICBlbnRyeXR5cGU9ImFydGljbGUiLAogICAgaXNzdWVfZGF0ZT0iTWFyY2ggMTk5MCIsCiAgICB2b2x1bWU9IjMzIiwKICAgIG51bWJlcj0iMyIsCiAgICBtb250aD0ibWFyIiwKICAgIGlzc249IjAwMDEtMDc4MiIsCiAgICBJRD0iUmFtOjE5OTA6SE5GOjc3NDgxLjc3NDg0IiwKICAgIGFjbT0iMSIsCiAgICBwbGFjZXg9IkNvbW11bi4gQUNNIiwKKSkKJycnKTs=\"));\n",
       "    "
      ],
      "text/plain": [
       "<IPython.core.display.Javascript object>"
      ]
     },
     "metadata": {},
     "output_type": "display_data"
    },
    {
     "data": {
      "application/javascript": [
       "$('span:contains(\"# Temp\")').closest('.cell').remove();"
      ],
      "text/plain": [
       "<IPython.core.display.Javascript object>"
      ]
     },
     "metadata": {},
     "output_type": "display_data"
    },
    {
     "data": {
      "application/javascript": [
       "\n",
       "        $('span:contains(\"# Temp\")').closest('.cell').remove();\n",
       "        var code = IPython.notebook.insert_cell_below('code');\n",
       "        code.set_text(atob(\"IyBUZW1wCmluc2VydCgnJycKZmFpcndlYXRoZXIyMDA4YSA9IERCKFdvcmtVbnJlbGF0ZWQoCiAgICAyMDA4LCAiSG93IE9sZGVyIGFuZCBZb3VuZ2VyIEFkdWx0cyBEaWZmZXIgaW4gVGhlaXIgQXBwcm9hY2ggdG8gUHJvYmxlbSBTb2x2aW5nIG9uIGEgQ29tcGxleCBXZWJzaXRlIiwKICAgIGRpc3BsYXk9ImZhaXJ3ZWF0aGVyIiwKICAgIGF1dGhvcnM9IkZhaXJ3ZWF0aGVyLCBQZXRlciBHLiIsCiAgICBwbGFjZT1GQUtFLAogICAgcHA9IjY3LS03MiIsCiAgICBlbnRyeXR5cGU9ImlucHJvY2VlZGluZ3MiLAogICAgc2VyaWVzPSJBc3NldHMgJzA4IiwKICAgIGlzYm49Ijk3OC0xLTU5NTkzLTk3Ni0wIiwKICAgIGxvY2F0aW9uPSJIYWxpZmF4LCBOb3ZhIFNjb3RpYSwgQ2FuYWRhIiwKICAgIElEPSJGYWlyd2VhdGhlcjoyMDA4Ok9ZQToxNDE0NDcxLjE0MTQ0ODUiLAogICAgYWNtPSIxIiwKICAgIHBsYWNleD0iUHJvY2VlZGluZ3Mgb2YgdGhlIDEwdGggSW50ZXJuYXRpb25hbCBBQ00gU0lHQUNDRVNTIENvbmZlcmVuY2Ugb24gQ29tcHV0ZXJzIGFuZCBBY2Nlc3NpYmlsaXR5IiwKKSkKJycnKTs=\"));\n",
       "    "
      ],
      "text/plain": [
       "<IPython.core.display.Javascript object>"
      ]
     },
     "metadata": {},
     "output_type": "display_data"
    },
    {
     "data": {
      "application/javascript": [
       "$('span:contains(\"# Temp\")').closest('.cell').remove();"
      ],
      "text/plain": [
       "<IPython.core.display.Javascript object>"
      ]
     },
     "metadata": {},
     "output_type": "display_data"
    },
    {
     "data": {
      "application/javascript": [
       "\n",
       "        $('span:contains(\"# Temp\")').closest('.cell').remove();\n",
       "        var code = IPython.notebook.insert_cell_below('code');\n",
       "        code.set_text(atob(\"IyBUZW1wCmluc2VydCgnJycKZmFpcndlYXRoZXIyMDA4YSA9IERCKFdvcmtVbnJlbGF0ZWQoCiAgICAyMDA4LCAiSG93IE9sZGVyIGFuZCBZb3VuZ2VyIEFkdWx0cyBEaWZmZXIgaW4gVGhlaXIgQXBwcm9hY2ggdG8gUHJvYmxlbSBTb2x2aW5nIG9uIGEgQ29tcGxleCBXZWJzaXRlIiwKICAgIGRpc3BsYXk9ImZhaXJ3ZWF0aGVyIiwKICAgIGF1dGhvcnM9IkZhaXJ3ZWF0aGVyLCBQZXRlciBHLiIsCiAgICBwbGFjZT1GQUtFLAogICAgcHA9IjY3LS03MiIsCiAgICBlbnRyeXR5cGU9ImlucHJvY2VlZGluZ3MiLAogICAgc2VyaWVzPSJBc3NldHMgJzA4IiwKICAgIGlzYm49Ijk3OC0xLTU5NTkzLTk3Ni0wIiwKICAgIGxvY2F0aW9uPSJIYWxpZmF4LCBOb3ZhIFNjb3RpYSwgQ2FuYWRhIiwKICAgIElEPSJGYWlyd2VhdGhlcjoyMDA4Ok9ZQToxNDE0NDcxLjE0MTQ0ODUiLAogICAgYWNtPSIxIiwKICAgIHBsYWNleD0iUHJvY2VlZGluZ3Mgb2YgdGhlIDEwdGggSW50ZXJuYXRpb25hbCBBQ00gU0lHQUNDRVNTIENvbmZlcmVuY2Ugb24gQ29tcHV0ZXJzIGFuZCBBY2Nlc3NpYmlsaXR5IiwKKSkKJycnKTs=\"));\n",
       "    "
      ],
      "text/plain": [
       "<IPython.core.display.Javascript object>"
      ]
     },
     "metadata": {},
     "output_type": "display_data"
    },
    {
     "data": {
      "application/javascript": [
       "$('span:contains(\"# Temp\")').closest('.cell').remove();"
      ],
      "text/plain": [
       "<IPython.core.display.Javascript object>"
      ]
     },
     "metadata": {},
     "output_type": "display_data"
    },
    {
     "data": {
      "application/javascript": [
       "\n",
       "        $('span:contains(\"# Temp\")').closest('.cell').remove();\n",
       "        var code = IPython.notebook.insert_cell_below('code');\n",
       "        code.set_text(atob(\"IyBUZW1wCmluc2VydCgnJycKemVsZXRpMjAxNGEgPSBEQihXb3JrVW5yZWxhdGVkKAogICAgMjAxNCwgIkVtZXJnaW5nIEJ1c2luZXNzIE1vZGVscyBmb3IgdGhlIE9wZW4gRGF0YSBJbmR1c3RyeTogQ2hhcmFjdGVyaXphdGlvbiBhbmQgQW5hbHlzaXMiLAogICAgZGlzcGxheT0iemVsZXRpIiwKICAgIGF1dGhvcnM9IlplbGV0aSwgRmF0ZW1laCBBaG1hZGkgYW5kIE9qbywgQWRlZ2JveWVnYSBhbmQgQ3VycnksIEVkd2FyZCIsCiAgICBwbGFjZT1GQUtFLAogICAgcHA9IjIxNS0tMjI2IiwKICAgIGVudHJ5dHlwZT0iaW5wcm9jZWVkaW5ncyIsCiAgICBzZXJpZXM9ImRnLm8gJzE0IiwKICAgIGlzYm49Ijk3OC0xLTQ1MDMtMjkwMS05IiwKICAgIGxvY2F0aW9uPSJBZ3Vhc2NhbGllbnRlcywgTWV4aWNvIiwKICAgIG51bXBhZ2VzPSIxMiIsCiAgICBJRD0iWmVsZXRpOjIwMTQ6RUJNOjI2MTI3MzMuMjYxMjc0NSIsCiAgICBhY209IjEiLAogICAgcGxhY2V4PSJQcm9jZWVkaW5ncyBvZiB0aGUgMTV0aCBBbm51YWwgSW50ZXJuYXRpb25hbCBDb25mZXJlbmNlIG9uIERpZ2l0YWwgR292ZXJubWVudCBSZXNlYXJjaCIsCikpCicnJyk7\"));\n",
       "    "
      ],
      "text/plain": [
       "<IPython.core.display.Javascript object>"
      ]
     },
     "metadata": {},
     "output_type": "display_data"
    },
    {
     "data": {
      "application/javascript": [
       "$('span:contains(\"# Temp\")').closest('.cell').remove();"
      ],
      "text/plain": [
       "<IPython.core.display.Javascript object>"
      ]
     },
     "metadata": {},
     "output_type": "display_data"
    },
    {
     "data": {
      "application/javascript": [
       "\n",
       "        $('span:contains(\"# Temp\")').closest('.cell').remove();\n",
       "        var code = IPython.notebook.insert_cell_below('code');\n",
       "        code.set_text(atob(\"IyBUZW1wCmluc2VydCgnJycKemVsZXRpMjAxNGEgPSBEQihXb3JrVW5yZWxhdGVkKAogICAgMjAxNCwgIkVtZXJnaW5nIEJ1c2luZXNzIE1vZGVscyBmb3IgdGhlIE9wZW4gRGF0YSBJbmR1c3RyeTogQ2hhcmFjdGVyaXphdGlvbiBhbmQgQW5hbHlzaXMiLAogICAgZGlzcGxheT0iemVsZXRpIiwKICAgIGF1dGhvcnM9IlplbGV0aSwgRmF0ZW1laCBBaG1hZGkgYW5kIE9qbywgQWRlZ2JveWVnYSBhbmQgQ3VycnksIEVkd2FyZCIsCiAgICBwbGFjZT1GQUtFLAogICAgcHA9IjIxNS0tMjI2IiwKICAgIGVudHJ5dHlwZT0iaW5wcm9jZWVkaW5ncyIsCiAgICBzZXJpZXM9ImRnLm8gJzE0IiwKICAgIGlzYm49Ijk3OC0xLTQ1MDMtMjkwMS05IiwKICAgIGxvY2F0aW9uPSJBZ3Vhc2NhbGllbnRlcywgTWV4aWNvIiwKICAgIG51bXBhZ2VzPSIxMiIsCiAgICBJRD0iWmVsZXRpOjIwMTQ6RUJNOjI2MTI3MzMuMjYxMjc0NSIsCiAgICBhY209IjEiLAogICAgcGxhY2V4PSJQcm9jZWVkaW5ncyBvZiB0aGUgMTV0aCBBbm51YWwgSW50ZXJuYXRpb25hbCBDb25mZXJlbmNlIG9uIERpZ2l0YWwgR292ZXJubWVudCBSZXNlYXJjaCIsCikpCicnJyk7\"));\n",
       "    "
      ],
      "text/plain": [
       "<IPython.core.display.Javascript object>"
      ]
     },
     "metadata": {},
     "output_type": "display_data"
    },
    {
     "data": {
      "application/javascript": [
       "$('span:contains(\"# Temp\")').closest('.cell').remove();"
      ],
      "text/plain": [
       "<IPython.core.display.Javascript object>"
      ]
     },
     "metadata": {},
     "output_type": "display_data"
    },
    {
     "data": {
      "application/javascript": [
       "\n",
       "        $('span:contains(\"# Temp\")').closest('.cell').remove();\n",
       "        var code = IPython.notebook.insert_cell_below('code');\n",
       "        code.set_text(atob(\"IyBUZW1wCmluc2VydCgnJycKa2xlaW5iZXJnMjAwOGEgPSBEQihXb3JrVW5yZWxhdGVkKAogICAgMjAwOCwgIlN0cmF0ZWdpYyBOZXR3b3JrIEZvcm1hdGlvbiB3aXRoIFN0cnVjdHVyYWwgSG9sZXMiLAogICAgZGlzcGxheT0ia2xlaW5iZXJnIiwKICAgIGF1dGhvcnM9IktsZWluYmVyZywgSm9uIGFuZCBTdXJpLCBTaWRkaGFydGggYW5kIFRhcmRvcywgyXZhIGFuZCBXZXhsZXIsIFRvbSIsCiAgICBwbGFjZT1GQUtFLAogICAgcHA9IjI4NC0tMjkzIiwKICAgIGVudHJ5dHlwZT0iaW5wcm9jZWVkaW5ncyIsCiAgICBzZXJpZXM9IkVDICcwOCIsCiAgICBpc2JuPSI5NzgtMS02MDU1OC0xNjktOSIsCiAgICBsb2NhdGlvbj0iQ2hpY2FnbywgSWwsIFVTQSIsCiAgICBudW1wYWdlcz0iMTAiLAogICAgSUQ9IktsZWluYmVyZzoyMDA4OlNORjoxMzg2NzkwLjEzODY4MzUiLAogICAgYWNtPSIxIiwKICAgIHBsYWNleD0iUHJvY2VlZGluZ3Mgb2YgdGhlIDl0aCBBQ00gQ29uZmVyZW5jZSBvbiBFbGVjdHJvbmljIENvbW1lcmNlIiwKKSkKJycnKTs=\"));\n",
       "    "
      ],
      "text/plain": [
       "<IPython.core.display.Javascript object>"
      ]
     },
     "metadata": {},
     "output_type": "display_data"
    },
    {
     "data": {
      "application/javascript": [
       "$('span:contains(\"# Temp\")').closest('.cell').remove();"
      ],
      "text/plain": [
       "<IPython.core.display.Javascript object>"
      ]
     },
     "metadata": {},
     "output_type": "display_data"
    },
    {
     "data": {
      "application/javascript": [
       "\n",
       "        $('span:contains(\"# Temp\")').closest('.cell').remove();\n",
       "        var code = IPython.notebook.insert_cell_below('code');\n",
       "        code.set_text(atob(\"IyBUZW1wCmluc2VydCgnJycKa2xlaW5iZXJnMjAwOGEgPSBEQihXb3JrVW5yZWxhdGVkKAogICAgMjAwOCwgIlN0cmF0ZWdpYyBOZXR3b3JrIEZvcm1hdGlvbiB3aXRoIFN0cnVjdHVyYWwgSG9sZXMiLAogICAgZGlzcGxheT0ia2xlaW5iZXJnIiwKICAgIGF1dGhvcnM9IktsZWluYmVyZywgSm9uIGFuZCBTdXJpLCBTaWRkaGFydGggYW5kIFRhcmRvcywgyXZhIGFuZCBXZXhsZXIsIFRvbSIsCiAgICBwbGFjZT1GQUtFLAogICAgcHA9IjI4NC0tMjkzIiwKICAgIGVudHJ5dHlwZT0iaW5wcm9jZWVkaW5ncyIsCiAgICBzZXJpZXM9IkVDICcwOCIsCiAgICBpc2JuPSI5NzgtMS02MDU1OC0xNjktOSIsCiAgICBsb2NhdGlvbj0iQ2hpY2FnbywgSWwsIFVTQSIsCiAgICBudW1wYWdlcz0iMTAiLAogICAgSUQ9IktsZWluYmVyZzoyMDA4OlNORjoxMzg2NzkwLjEzODY4MzUiLAogICAgYWNtPSIxIiwKICAgIHBsYWNleD0iUHJvY2VlZGluZ3Mgb2YgdGhlIDl0aCBBQ00gQ29uZmVyZW5jZSBvbiBFbGVjdHJvbmljIENvbW1lcmNlIiwKKSkKJycnKTs=\"));\n",
       "    "
      ],
      "text/plain": [
       "<IPython.core.display.Javascript object>"
      ]
     },
     "metadata": {},
     "output_type": "display_data"
    },
    {
     "data": {
      "application/javascript": [
       "$('span:contains(\"# Temp\")').closest('.cell').remove();"
      ],
      "text/plain": [
       "<IPython.core.display.Javascript object>"
      ]
     },
     "metadata": {},
     "output_type": "display_data"
    },
    {
     "data": {
      "application/javascript": [
       "\n",
       "        $('span:contains(\"# Temp\")').closest('.cell').remove();\n",
       "        var code = IPython.notebook.insert_cell_below('code');\n",
       "        code.set_text(atob(\"IyBUZW1wCmluc2VydCgnJycKaGFha2VyMjAwNGEgPSBEQihXb3JrVW5yZWxhdGVkKAogICAgMjAwNCwgIkJhbGFuY2luZyBTdHJhdGVnaWMgSW50ZXJlc3RzIGFuZCBUZWNobm9sb2dpY2FsIFJlcXVpcmVtZW50cyBmb3IgTW9iaWxlIFNlcnZpY2VzIiwKICAgIGRpc3BsYXk9ImhhYWtlciIsCiAgICBhdXRob3JzPSJIYWFrZXIsIFRpbWJlciBhbmQgRmFiZXIsIEVkd2FyZCBhbmQgQm91d21hbiwgSGFycnkiLAogICAgcGxhY2U9RkFLRSwKICAgIHBwPSI2MDktLTYxOCIsCiAgICBlbnRyeXR5cGU9ImlucHJvY2VlZGluZ3MiLAogICAgc2VyaWVzPSJJQ0VDICcwNCIsCiAgICBpc2JuPSIxLTU4MTEzLTkzMC02IiwKICAgIGxvY2F0aW9uPSJEZWxmdCwgVGhlIE5ldGhlcmxhbmRzIiwKICAgIElEPSJIYWFrZXI6MjAwNDpCU0k6MTA1MjIyMC4xMDUyMjk4IiwKICAgIGFjbT0iMSIsCiAgICBwbGFjZXg9IlByb2NlZWRpbmdzIG9mIHRoZSA2dGggSW50ZXJuYXRpb25hbCBDb25mZXJlbmNlIG9uIEVsZWN0cm9uaWMgQ29tbWVyY2UiLAopKQonJycpOw==\"));\n",
       "    "
      ],
      "text/plain": [
       "<IPython.core.display.Javascript object>"
      ]
     },
     "metadata": {},
     "output_type": "display_data"
    },
    {
     "data": {
      "application/javascript": [
       "$('span:contains(\"# Temp\")').closest('.cell').remove();"
      ],
      "text/plain": [
       "<IPython.core.display.Javascript object>"
      ]
     },
     "metadata": {},
     "output_type": "display_data"
    },
    {
     "data": {
      "application/javascript": [
       "\n",
       "        $('span:contains(\"# Temp\")').closest('.cell').remove();\n",
       "        var code = IPython.notebook.insert_cell_below('code');\n",
       "        code.set_text(atob(\"IyBUZW1wCmluc2VydCgnJycKaGFha2VyMjAwNGEgPSBEQihXb3JrVW5yZWxhdGVkKAogICAgMjAwNCwgIkJhbGFuY2luZyBTdHJhdGVnaWMgSW50ZXJlc3RzIGFuZCBUZWNobm9sb2dpY2FsIFJlcXVpcmVtZW50cyBmb3IgTW9iaWxlIFNlcnZpY2VzIiwKICAgIGRpc3BsYXk9ImhhYWtlciIsCiAgICBhdXRob3JzPSJIYWFrZXIsIFRpbWJlciBhbmQgRmFiZXIsIEVkd2FyZCBhbmQgQm91d21hbiwgSGFycnkiLAogICAgcGxhY2U9RkFLRSwKICAgIHBwPSI2MDktLTYxOCIsCiAgICBlbnRyeXR5cGU9ImlucHJvY2VlZGluZ3MiLAogICAgc2VyaWVzPSJJQ0VDICcwNCIsCiAgICBpc2JuPSIxLTU4MTEzLTkzMC02IiwKICAgIGxvY2F0aW9uPSJEZWxmdCwgVGhlIE5ldGhlcmxhbmRzIiwKICAgIElEPSJIYWFrZXI6MjAwNDpCU0k6MTA1MjIyMC4xMDUyMjk4IiwKICAgIGFjbT0iMSIsCiAgICBwbGFjZXg9IlByb2NlZWRpbmdzIG9mIHRoZSA2dGggSW50ZXJuYXRpb25hbCBDb25mZXJlbmNlIG9uIEVsZWN0cm9uaWMgQ29tbWVyY2UiLAopKQonJycpOw==\"));\n",
       "    "
      ],
      "text/plain": [
       "<IPython.core.display.Javascript object>"
      ]
     },
     "metadata": {},
     "output_type": "display_data"
    },
    {
     "data": {
      "application/javascript": [
       "$('span:contains(\"# Temp\")').closest('.cell').remove();"
      ],
      "text/plain": [
       "<IPython.core.display.Javascript object>"
      ]
     },
     "metadata": {},
     "output_type": "display_data"
    },
    {
     "data": {
      "application/javascript": [
       "\n",
       "        $('span:contains(\"# Temp\")').closest('.cell').remove();\n",
       "        var code = IPython.notebook.insert_cell_below('code');\n",
       "        code.set_text(atob(\"IyBUZW1wCmluc2VydCgnJycKdGlzc2VsbGkyMDEwYSA9IERCKFdvcmtVbnJlbGF0ZWQoCiAgICAyMDEwLCAiVGhpbmtmbGlja3J0aGluazogQSBDYXNlIFN0dWR5IG9uIFN0cmF0ZWdpYyBUYWdnaW5nIiwKICAgIGRpc3BsYXk9InRpc3NlbGxpIiwKICAgIGF1dGhvcnM9IlRpc3NlbGxpLCBFdWdlbmlvIiwKICAgIHBsYWNlPUZBS0UsCiAgICBwcD0iMTQxLS0xNDUiLAogICAgZW50cnl0eXBlPSJhcnRpY2xlIiwKICAgIGlzc3VlX2RhdGU9IkF1Z3VzdCAyMDEwIiwKICAgIHZvbHVtZT0iNTMiLAogICAgbnVtYmVyPSI4IiwKICAgIG1vbnRoPSJhdWciLAogICAgaXNzbj0iMDAwMS0wNzgyIiwKICAgIElEPSJUaXNzZWxsaToyMDEwOlRDUzoxNzg3MjM0LjE3ODcyNzAiLAogICAgYWNtPSIxIiwKICAgIHBsYWNleD0iQ29tbXVuLiBBQ00iLAopKQonJycpOw==\"));\n",
       "    "
      ],
      "text/plain": [
       "<IPython.core.display.Javascript object>"
      ]
     },
     "metadata": {},
     "output_type": "display_data"
    },
    {
     "data": {
      "application/javascript": [
       "$('span:contains(\"# Temp\")').closest('.cell').remove();"
      ],
      "text/plain": [
       "<IPython.core.display.Javascript object>"
      ]
     },
     "metadata": {},
     "output_type": "display_data"
    },
    {
     "data": {
      "application/javascript": [
       "\n",
       "        $('span:contains(\"# Temp\")').closest('.cell').remove();\n",
       "        var code = IPython.notebook.insert_cell_below('code');\n",
       "        code.set_text(atob(\"IyBUZW1wCmluc2VydCgnJycKdGlzc2VsbGkyMDEwYSA9IERCKFdvcmtVbnJlbGF0ZWQoCiAgICAyMDEwLCAiVGhpbmtmbGlja3J0aGluazogQSBDYXNlIFN0dWR5IG9uIFN0cmF0ZWdpYyBUYWdnaW5nIiwKICAgIGRpc3BsYXk9InRpc3NlbGxpIiwKICAgIGF1dGhvcnM9IlRpc3NlbGxpLCBFdWdlbmlvIiwKICAgIHBsYWNlPUZBS0UsCiAgICBwcD0iMTQxLS0xNDUiLAogICAgZW50cnl0eXBlPSJhcnRpY2xlIiwKICAgIGlzc3VlX2RhdGU9IkF1Z3VzdCAyMDEwIiwKICAgIHZvbHVtZT0iNTMiLAogICAgbnVtYmVyPSI4IiwKICAgIG1vbnRoPSJhdWciLAogICAgaXNzbj0iMDAwMS0wNzgyIiwKICAgIElEPSJUaXNzZWxsaToyMDEwOlRDUzoxNzg3MjM0LjE3ODcyNzAiLAogICAgYWNtPSIxIiwKICAgIHBsYWNleD0iQ29tbXVuLiBBQ00iLAopKQonJycpOw==\"));\n",
       "    "
      ],
      "text/plain": [
       "<IPython.core.display.Javascript object>"
      ]
     },
     "metadata": {},
     "output_type": "display_data"
    },
    {
     "data": {
      "application/javascript": [
       "$('span:contains(\"# Temp\")').closest('.cell').remove();"
      ],
      "text/plain": [
       "<IPython.core.display.Javascript object>"
      ]
     },
     "metadata": {},
     "output_type": "display_data"
    },
    {
     "data": {
      "application/javascript": [
       "\n",
       "        $('span:contains(\"# Temp\")').closest('.cell').remove();\n",
       "        var code = IPython.notebook.insert_cell_below('code');\n",
       "        code.set_text(atob(\"IyBUZW1wCmluc2VydCgnJycKbWVyY2VyMjAxNGEgPSBEQihXb3JrVW5yZWxhdGVkKAogICAgMjAxNCwgIkh1bWFuLWF1dG9tYXRpb24gQ29vcGVyYXRpb24gZm9yIFNlcGFyYXRpb24gQXNzdXJhbmNlIGluIEZ1dHVyZSBOZXh0R2VuIEVudmlyb25tZW50cyIsCiAgICBkaXNwbGF5PSJtZXJjZXIiLAogICAgYXV0aG9ycz0iTWVyY2VyLCBKb2V5IGFuZCBIb21vbGEsIEplZmZyZXkgYW5kIENhYnJhbGwsIENocmlzdG9waGVyIGFuZCBNYXJ0aW4sIEx5bm5lIGFuZCBNb3JleSwgU3VzYW4gYW5kIEdvbWV6LCBBc2hsZXkgYW5kIFByZXb0dCwgVGhvbWFzIiwKICAgIHBsYWNlPUZBS0UsCiAgICBwcD0iMToxLS0xOjgiLAogICAgZW50cnl0eXBlPSJpbnByb2NlZWRpbmdzIiwKICAgIHNlcmllcz0iSENJLUFlcm8gJzE0IiwKICAgIGlzYm49Ijk3OC0xLTQ1MDMtMjU2MC04IiwKICAgIGxvY2F0aW9uPSJTYW50YSBDbGFyYSwgQ2FsaWZvcm5pYSIsCiAgICBJRD0iTWVyY2VyOjIwMTQ6SENTOjI2Njk1OTIuMjY2OTY0NCIsCiAgICBhY209IjEiLAogICAgcGxhY2V4PSJQcm9jZWVkaW5ncyBvZiB0aGUgSW50ZXJuYXRpb25hbCBDb25mZXJlbmNlIG9uIEh1bWFuLUNvbXB1dGVyIEludGVyYWN0aW9uIGluIEFlcm9zcGFjZSIsCikpCicnJyk7\"));\n",
       "    "
      ],
      "text/plain": [
       "<IPython.core.display.Javascript object>"
      ]
     },
     "metadata": {},
     "output_type": "display_data"
    },
    {
     "data": {
      "application/javascript": [
       "$('span:contains(\"# Temp\")').closest('.cell').remove();"
      ],
      "text/plain": [
       "<IPython.core.display.Javascript object>"
      ]
     },
     "metadata": {},
     "output_type": "display_data"
    },
    {
     "data": {
      "application/javascript": [
       "\n",
       "        $('span:contains(\"# Temp\")').closest('.cell').remove();\n",
       "        var code = IPython.notebook.insert_cell_below('code');\n",
       "        code.set_text(atob(\"IyBUZW1wCmluc2VydCgnJycKbWVyY2VyMjAxNGEgPSBEQihXb3JrVW5yZWxhdGVkKAogICAgMjAxNCwgIkh1bWFuLWF1dG9tYXRpb24gQ29vcGVyYXRpb24gZm9yIFNlcGFyYXRpb24gQXNzdXJhbmNlIGluIEZ1dHVyZSBOZXh0R2VuIEVudmlyb25tZW50cyIsCiAgICBkaXNwbGF5PSJtZXJjZXIiLAogICAgYXV0aG9ycz0iTWVyY2VyLCBKb2V5IGFuZCBIb21vbGEsIEplZmZyZXkgYW5kIENhYnJhbGwsIENocmlzdG9waGVyIGFuZCBNYXJ0aW4sIEx5bm5lIGFuZCBNb3JleSwgU3VzYW4gYW5kIEdvbWV6LCBBc2hsZXkgYW5kIFByZXb0dCwgVGhvbWFzIiwKICAgIHBsYWNlPUZBS0UsCiAgICBwcD0iMToxLS0xOjgiLAogICAgZW50cnl0eXBlPSJpbnByb2NlZWRpbmdzIiwKICAgIHNlcmllcz0iSENJLUFlcm8gJzE0IiwKICAgIGlzYm49Ijk3OC0xLTQ1MDMtMjU2MC04IiwKICAgIGxvY2F0aW9uPSJTYW50YSBDbGFyYSwgQ2FsaWZvcm5pYSIsCiAgICBJRD0iTWVyY2VyOjIwMTQ6SENTOjI2Njk1OTIuMjY2OTY0NCIsCiAgICBhY209IjEiLAogICAgcGxhY2V4PSJQcm9jZWVkaW5ncyBvZiB0aGUgSW50ZXJuYXRpb25hbCBDb25mZXJlbmNlIG9uIEh1bWFuLUNvbXB1dGVyIEludGVyYWN0aW9uIGluIEFlcm9zcGFjZSIsCikpCicnJyk7\"));\n",
       "    "
      ],
      "text/plain": [
       "<IPython.core.display.Javascript object>"
      ]
     },
     "metadata": {},
     "output_type": "display_data"
    },
    {
     "data": {
      "application/javascript": [
       "$('span:contains(\"# Temp\")').closest('.cell').remove();"
      ],
      "text/plain": [
       "<IPython.core.display.Javascript object>"
      ]
     },
     "metadata": {},
     "output_type": "display_data"
    },
    {
     "data": {
      "application/javascript": [
       "\n",
       "        $('span:contains(\"# Temp\")').closest('.cell').remove();\n",
       "        var code = IPython.notebook.insert_cell_below('code');\n",
       "        code.set_text(atob(\"IyBUZW1wCmluc2VydCgnJycKY2hpcHJvdXQyMDEwYSA9IERCKFdvcmtVbnJlbGF0ZWQoCiAgICAyMDEwLCAiT24tZGllIFBvd2VyIEdyaWRzOiBUaGUgTWlzc2luZyBMaW5rIiwKICAgIGRpc3BsYXk9ImNoaXByb3V0IiwKICAgIGF1dGhvcnM9IkNoaXByb3V0LCBFbGkiLAogICAgcGxhY2U9RkFLRSwKICAgIHBwPSI5NDAtLTk0NSIsCiAgICBlbnRyeXR5cGU9ImlucHJvY2VlZGluZ3MiLAogICAgc2VyaWVzPSJEQUMgJzEwIiwKICAgIGlzYm49Ijk3OC0xLTQ1MDMtMDAwMi01IiwKICAgIGxvY2F0aW9uPSJBbmFoZWltLCBDYWxpZm9ybmlhIiwKICAgIElEPSJDaGlwcm91dDoyMDEwOk9QRzoxODM3Mjc0LjE4Mzc1MTEiLAogICAgYWNtPSIxIiwKICAgIHBsYWNleD0iUHJvY2VlZGluZ3Mgb2YgdGhlIDQ3dGggRGVzaWduIEF1dG9tYXRpb24gQ29uZmVyZW5jZSIsCikpCicnJyk7\"));\n",
       "    "
      ],
      "text/plain": [
       "<IPython.core.display.Javascript object>"
      ]
     },
     "metadata": {},
     "output_type": "display_data"
    },
    {
     "data": {
      "application/javascript": [
       "$('span:contains(\"# Temp\")').closest('.cell').remove();"
      ],
      "text/plain": [
       "<IPython.core.display.Javascript object>"
      ]
     },
     "metadata": {},
     "output_type": "display_data"
    },
    {
     "data": {
      "application/javascript": [
       "\n",
       "        $('span:contains(\"# Temp\")').closest('.cell').remove();\n",
       "        var code = IPython.notebook.insert_cell_below('code');\n",
       "        code.set_text(atob(\"IyBUZW1wCmluc2VydCgnJycKY2hpcHJvdXQyMDEwYSA9IERCKFdvcmtVbnJlbGF0ZWQoCiAgICAyMDEwLCAiT24tZGllIFBvd2VyIEdyaWRzOiBUaGUgTWlzc2luZyBMaW5rIiwKICAgIGRpc3BsYXk9ImNoaXByb3V0IiwKICAgIGF1dGhvcnM9IkNoaXByb3V0LCBFbGkiLAogICAgcGxhY2U9RkFLRSwKICAgIHBwPSI5NDAtLTk0NSIsCiAgICBlbnRyeXR5cGU9ImlucHJvY2VlZGluZ3MiLAogICAgc2VyaWVzPSJEQUMgJzEwIiwKICAgIGlzYm49Ijk3OC0xLTQ1MDMtMDAwMi01IiwKICAgIGxvY2F0aW9uPSJBbmFoZWltLCBDYWxpZm9ybmlhIiwKICAgIElEPSJDaGlwcm91dDoyMDEwOk9QRzoxODM3Mjc0LjE4Mzc1MTEiLAogICAgYWNtPSIxIiwKICAgIHBsYWNleD0iUHJvY2VlZGluZ3Mgb2YgdGhlIDQ3dGggRGVzaWduIEF1dG9tYXRpb24gQ29uZmVyZW5jZSIsCikpCicnJyk7\"));\n",
       "    "
      ],
      "text/plain": [
       "<IPython.core.display.Javascript object>"
      ]
     },
     "metadata": {},
     "output_type": "display_data"
    },
    {
     "data": {
      "application/javascript": [
       "$('span:contains(\"# Temp\")').closest('.cell').remove();"
      ],
      "text/plain": [
       "<IPython.core.display.Javascript object>"
      ]
     },
     "metadata": {},
     "output_type": "display_data"
    },
    {
     "data": {
      "application/javascript": [
       "\n",
       "        $('span:contains(\"# Temp\")').closest('.cell').remove();\n",
       "        var code = IPython.notebook.insert_cell_below('code');\n",
       "        code.set_text(atob(\"IyBUZW1wCmluc2VydCgnJycKa3Vkcnlhc2hvdmEyMDE0YSA9IERCKFdvcmtVbnJlbGF0ZWQoCiAgICAyMDE0LCAiVGhlIE1hcmtldCBvZiBJbnRlcm5ldCBTcG9uc29yZWQgTGlua3MgaW4gdGhlIENvbnRleHQgb2YgQ29tcGV0aXRpb24gTGF3OiBDYW4gTW9kZWxpbmcgSGVscD8iLAogICAgZGlzcGxheT0ia3Vkcnlhc2hvdmEiLAogICAgYXV0aG9ycz0iS3Vkcnlhc2hvdmEsIE5hdGFsaWEiLAogICAgcGxhY2U9RkFLRSwKICAgIHBwPSIzMzEtLTMzMiIsCiAgICBlbnRyeXR5cGU9ImlucHJvY2VlZGluZ3MiLAogICAgc2VyaWVzPSJXV1cgJzE0IENvbXBhbmlvbiIsCiAgICBpc2JuPSI5NzgtMS00NTAzLTI3NDUtOSIsCiAgICBsb2NhdGlvbj0iU2VvdWwsIEtvcmVhIiwKICAgIG51bXBhZ2VzPSIyIiwKICAgIElEPSJLdWRyeWFzaG92YToyMDE0Ok1JUzoyNTY3OTQ4LjI1NzczNjkiLAogICAgYWNtPSIxIiwKICAgIHBsYWNleD0iUHJvY2VlZGluZ3Mgb2YgdGhlIDIzcmQgSW50ZXJuYXRpb25hbCBDb25mZXJlbmNlIG9uIFdvcmxkIFdpZGUgV2ViIiwKKSkKJycnKTs=\"));\n",
       "    "
      ],
      "text/plain": [
       "<IPython.core.display.Javascript object>"
      ]
     },
     "metadata": {},
     "output_type": "display_data"
    },
    {
     "data": {
      "application/javascript": [
       "$('span:contains(\"# Temp\")').closest('.cell').remove();"
      ],
      "text/plain": [
       "<IPython.core.display.Javascript object>"
      ]
     },
     "metadata": {},
     "output_type": "display_data"
    },
    {
     "data": {
      "application/javascript": [
       "\n",
       "        $('span:contains(\"# Temp\")').closest('.cell').remove();\n",
       "        var code = IPython.notebook.insert_cell_below('code');\n",
       "        code.set_text(atob(\"IyBUZW1wCmluc2VydCgnJycKa3Vkcnlhc2hvdmEyMDE0YSA9IERCKFdvcmtVbnJlbGF0ZWQoCiAgICAyMDE0LCAiVGhlIE1hcmtldCBvZiBJbnRlcm5ldCBTcG9uc29yZWQgTGlua3MgaW4gdGhlIENvbnRleHQgb2YgQ29tcGV0aXRpb24gTGF3OiBDYW4gTW9kZWxpbmcgSGVscD8iLAogICAgZGlzcGxheT0ia3Vkcnlhc2hvdmEiLAogICAgYXV0aG9ycz0iS3Vkcnlhc2hvdmEsIE5hdGFsaWEiLAogICAgcGxhY2U9RkFLRSwKICAgIHBwPSIzMzEtLTMzMiIsCiAgICBlbnRyeXR5cGU9ImlucHJvY2VlZGluZ3MiLAogICAgc2VyaWVzPSJXV1cgJzE0IENvbXBhbmlvbiIsCiAgICBpc2JuPSI5NzgtMS00NTAzLTI3NDUtOSIsCiAgICBsb2NhdGlvbj0iU2VvdWwsIEtvcmVhIiwKICAgIG51bXBhZ2VzPSIyIiwKICAgIElEPSJLdWRyeWFzaG92YToyMDE0Ok1JUzoyNTY3OTQ4LjI1NzczNjkiLAogICAgYWNtPSIxIiwKICAgIHBsYWNleD0iUHJvY2VlZGluZ3Mgb2YgdGhlIDIzcmQgSW50ZXJuYXRpb25hbCBDb25mZXJlbmNlIG9uIFdvcmxkIFdpZGUgV2ViIiwKKSkKJycnKTs=\"));\n",
       "    "
      ],
      "text/plain": [
       "<IPython.core.display.Javascript object>"
      ]
     },
     "metadata": {},
     "output_type": "display_data"
    },
    {
     "data": {
      "application/javascript": [
       "$('span:contains(\"# Temp\")').closest('.cell').remove();"
      ],
      "text/plain": [
       "<IPython.core.display.Javascript object>"
      ]
     },
     "metadata": {},
     "output_type": "display_data"
    },
    {
     "data": {
      "application/javascript": [
       "\n",
       "        $('span:contains(\"# Temp\")').closest('.cell').remove();\n",
       "        var code = IPython.notebook.insert_cell_below('code');\n",
       "        code.set_text(atob(\"IyBUZW1wCmluc2VydCgnJycKYmVja2VyMjAxMWEgPSBEQihXb3JrVW5yZWxhdGVkKAogICAgMjAxMSwgIlN0cmF0ZWd5IHRvIEltcHJvdmUgUXVhbGl0eSBmb3IgU29mdHdhcmUgQXBwbGljYXRpb25zOiBBIFByb2Nlc3MgVmlldyIsCiAgICBkaXNwbGF5PSJiZWNrZXIiLAogICAgYXV0aG9ycz0iQmVja2VyLCBQYWJsbyBhbmQgTGV3LCBQaGlsaXAgYW5kIE9sc2luYSwgTHVpcyIsCiAgICBwbGFjZT1GQUtFLAogICAgcHA9IjEyOS0tMTM4IiwKICAgIGVudHJ5dHlwZT0iaW5wcm9jZWVkaW5ncyIsCiAgICBzZXJpZXM9IklDU1NQICcxMSIsCiAgICBpc2JuPSI5NzgtMS00NTAzLTA3MzAtNyIsCiAgICBsb2NhdGlvbj0iV2Fpa2lraSwgSG9ub2x1bHUsIEhJLCBVU0EiLAogICAgSUQ9IkJlY2tlcjoyMDExOlNJUToxOTg3ODc1LjE5ODc4OTciLAogICAgYWNtPSIxIiwKICAgIHBsYWNleD0iUHJvY2VlZGluZ3Mgb2YgdGhlIDIwMTEgSW50ZXJuYXRpb25hbCBDb25mZXJlbmNlIG9uIFNvZnR3YXJlIGFuZCBTeXN0ZW1zIFByb2Nlc3MiLAopKQonJycpOw==\"));\n",
       "    "
      ],
      "text/plain": [
       "<IPython.core.display.Javascript object>"
      ]
     },
     "metadata": {},
     "output_type": "display_data"
    },
    {
     "data": {
      "application/javascript": [
       "$('span:contains(\"# Temp\")').closest('.cell').remove();"
      ],
      "text/plain": [
       "<IPython.core.display.Javascript object>"
      ]
     },
     "metadata": {},
     "output_type": "display_data"
    },
    {
     "data": {
      "application/javascript": [
       "\n",
       "        $('span:contains(\"# Temp\")').closest('.cell').remove();\n",
       "        var code = IPython.notebook.insert_cell_below('code');\n",
       "        code.set_text(atob(\"IyBUZW1wCmluc2VydCgnJycKYmVja2VyMjAxMWEgPSBEQihXb3JrVW5yZWxhdGVkKAogICAgMjAxMSwgIlN0cmF0ZWd5IHRvIEltcHJvdmUgUXVhbGl0eSBmb3IgU29mdHdhcmUgQXBwbGljYXRpb25zOiBBIFByb2Nlc3MgVmlldyIsCiAgICBkaXNwbGF5PSJiZWNrZXIiLAogICAgYXV0aG9ycz0iQmVja2VyLCBQYWJsbyBhbmQgTGV3LCBQaGlsaXAgYW5kIE9sc2luYSwgTHVpcyIsCiAgICBwbGFjZT1GQUtFLAogICAgcHA9IjEyOS0tMTM4IiwKICAgIGVudHJ5dHlwZT0iaW5wcm9jZWVkaW5ncyIsCiAgICBzZXJpZXM9IklDU1NQICcxMSIsCiAgICBpc2JuPSI5NzgtMS00NTAzLTA3MzAtNyIsCiAgICBsb2NhdGlvbj0iV2Fpa2lraSwgSG9ub2x1bHUsIEhJLCBVU0EiLAogICAgSUQ9IkJlY2tlcjoyMDExOlNJUToxOTg3ODc1LjE5ODc4OTciLAogICAgYWNtPSIxIiwKICAgIHBsYWNleD0iUHJvY2VlZGluZ3Mgb2YgdGhlIDIwMTEgSW50ZXJuYXRpb25hbCBDb25mZXJlbmNlIG9uIFNvZnR3YXJlIGFuZCBTeXN0ZW1zIFByb2Nlc3MiLAopKQonJycpOw==\"));\n",
       "    "
      ],
      "text/plain": [
       "<IPython.core.display.Javascript object>"
      ]
     },
     "metadata": {},
     "output_type": "display_data"
    },
    {
     "data": {
      "application/javascript": [
       "$('span:contains(\"# Temp\")').closest('.cell').remove();"
      ],
      "text/plain": [
       "<IPython.core.display.Javascript object>"
      ]
     },
     "metadata": {},
     "output_type": "display_data"
    },
    {
     "data": {
      "application/javascript": [
       "\n",
       "        $('span:contains(\"# Temp\")').closest('.cell').remove();\n",
       "        var code = IPython.notebook.insert_cell_below('code');\n",
       "        code.set_text(atob(\"IyBUZW1wCmluc2VydCgnJycKbWFyY29saW4yMDE1YSA9IERCKFdvcmtVbnJlbGF0ZWQoCiAgICAyMDE1LCAiQSBTdHJhdGVnaWMgUm9hZG1hcCBmb3IgTmF2aWdhdGluZyBBY2FkZW1pYy1JbmR1c3RyeSBDb2xsYWJvcmF0aW9ucyBpbiBJbmZvcm1hdGlvbiBTeXN0ZW1zIFJlc2VhcmNoOiBBdm9pZGluZyBSaWdvciBNb3J0aXMiLAogICAgZGlzcGxheT0ibWFyY29saW4iLAogICAgYXV0aG9ycz0iTWFyY29saW4sIEJhcmJhcmEgTC4gYW5kIFNhdW5kZXJzLCBXLiBDaGFkIiwKICAgIHBsYWNlPUZBS0UsCiAgICBwcD0iMjMtLTUxIiwKICAgIGVudHJ5dHlwZT0iYXJ0aWNsZSIsCiAgICBpc3N1ZV9kYXRlPSJBdWd1c3QgMjAxNSIsCiAgICB2b2x1bWU9IjQ2IiwKICAgIG51bWJlcj0iMyIsCiAgICBtb250aD0ianVsIiwKICAgIGlzc249IjAwOTUtMDAzMyIsCiAgICBJRD0iTWFyY29saW46MjAxNTpTUk46MjgwNDA3NS4yODA0MDc4IiwKICAgIGFjbT0iMSIsCiAgICBwbGFjZXg9IlNJR01JUyBEYXRhYmFzZSIsCikpCicnJyk7\"));\n",
       "    "
      ],
      "text/plain": [
       "<IPython.core.display.Javascript object>"
      ]
     },
     "metadata": {},
     "output_type": "display_data"
    },
    {
     "data": {
      "application/javascript": [
       "$('span:contains(\"# Temp\")').closest('.cell').remove();"
      ],
      "text/plain": [
       "<IPython.core.display.Javascript object>"
      ]
     },
     "metadata": {},
     "output_type": "display_data"
    },
    {
     "data": {
      "application/javascript": [
       "\n",
       "        $('span:contains(\"# Temp\")').closest('.cell').remove();\n",
       "        var code = IPython.notebook.insert_cell_below('code');\n",
       "        code.set_text(atob(\"IyBUZW1wCmluc2VydCgnJycKbWFyY29saW4yMDE1YSA9IERCKFdvcmtVbnJlbGF0ZWQoCiAgICAyMDE1LCAiQSBTdHJhdGVnaWMgUm9hZG1hcCBmb3IgTmF2aWdhdGluZyBBY2FkZW1pYy1JbmR1c3RyeSBDb2xsYWJvcmF0aW9ucyBpbiBJbmZvcm1hdGlvbiBTeXN0ZW1zIFJlc2VhcmNoOiBBdm9pZGluZyBSaWdvciBNb3J0aXMiLAogICAgZGlzcGxheT0ibWFyY29saW4iLAogICAgYXV0aG9ycz0iTWFyY29saW4sIEJhcmJhcmEgTC4gYW5kIFNhdW5kZXJzLCBXLiBDaGFkIiwKICAgIHBsYWNlPUZBS0UsCiAgICBwcD0iMjMtLTUxIiwKICAgIGVudHJ5dHlwZT0iYXJ0aWNsZSIsCiAgICBpc3N1ZV9kYXRlPSJBdWd1c3QgMjAxNSIsCiAgICB2b2x1bWU9IjQ2IiwKICAgIG51bWJlcj0iMyIsCiAgICBtb250aD0ianVsIiwKICAgIGlzc249IjAwOTUtMDAzMyIsCiAgICBJRD0iTWFyY29saW46MjAxNTpTUk46MjgwNDA3NS4yODA0MDc4IiwKICAgIGFjbT0iMSIsCiAgICBwbGFjZXg9IlNJR01JUyBEYXRhYmFzZSIsCikpCicnJyk7\"));\n",
       "    "
      ],
      "text/plain": [
       "<IPython.core.display.Javascript object>"
      ]
     },
     "metadata": {},
     "output_type": "display_data"
    },
    {
     "data": {
      "application/javascript": [
       "$('span:contains(\"# Temp\")').closest('.cell').remove();"
      ],
      "text/plain": [
       "<IPython.core.display.Javascript object>"
      ]
     },
     "metadata": {},
     "output_type": "display_data"
    },
    {
     "data": {
      "application/javascript": [
       "\n",
       "        $('span:contains(\"# Temp\")').closest('.cell').remove();\n",
       "        var code = IPython.notebook.insert_cell_below('code');\n",
       "        code.set_text(atob(\"IyBUZW1wCmluc2VydCgnJycKdGhvbXBzb24yMDE1YSA9IERCKFdvcmtVbnJlbGF0ZWQoCiAgICAyMDE1LCAiUmFwaWQgRGVzaWduIExhYnM6IEEgVG9vbCB0byBUdXJib2NoYXJnZSBEZXNpZ24tTGVkIElubm92YXRpb24iLAogICAgZGlzcGxheT0idGhvbXBzb24iLAogICAgYXV0aG9ycz0iVGhvbXBzb24sIENhcm9sYSBGZWxsZW56IGFuZCBOaWV0ZXJzLCBKaW0iLAogICAgcGxhY2U9RkFLRSwKICAgIHBwPSIyNDkxLS0yNDkyIiwKICAgIGVudHJ5dHlwZT0iaW5wcm9jZWVkaW5ncyIsCiAgICBzZXJpZXM9IkNISSBFQSAnMTUiLAogICAgaXNibj0iOTc4LTEtNDUwMy0zMTQ2LTMiLAogICAgbG9jYXRpb249IlNlb3VsLCBSZXB1YmxpYyBvZiBLb3JlYSIsCiAgICBJRD0iVGhvbXBzb246MjAxNTpSREw6MjcwMjYxMy4yNzA2NjgwIiwKICAgIGFjbT0iMSIsCiAgICBwbGFjZXg9IlByb2NlZWRpbmdzIG9mIHRoZSAzM3JkIEFubnVhbCBBQ00gQ29uZmVyZW5jZSBFeHRlbmRlZCBBYnN0cmFjdHMgb24gSHVtYW4gRmFjdG9ycyBpbiBDb21wdXRpbmcgU3lzdGVtcyIsCikpCicnJyk7\"));\n",
       "    "
      ],
      "text/plain": [
       "<IPython.core.display.Javascript object>"
      ]
     },
     "metadata": {},
     "output_type": "display_data"
    },
    {
     "data": {
      "application/javascript": [
       "$('span:contains(\"# Temp\")').closest('.cell').remove();"
      ],
      "text/plain": [
       "<IPython.core.display.Javascript object>"
      ]
     },
     "metadata": {},
     "output_type": "display_data"
    },
    {
     "data": {
      "application/javascript": [
       "\n",
       "        $('span:contains(\"# Temp\")').closest('.cell').remove();\n",
       "        var code = IPython.notebook.insert_cell_below('code');\n",
       "        code.set_text(atob(\"IyBUZW1wCmluc2VydCgnJycKdGhvbXBzb24yMDE1YSA9IERCKFdvcmtVbnJlbGF0ZWQoCiAgICAyMDE1LCAiUmFwaWQgRGVzaWduIExhYnM6IEEgVG9vbCB0byBUdXJib2NoYXJnZSBEZXNpZ24tTGVkIElubm92YXRpb24iLAogICAgZGlzcGxheT0idGhvbXBzb24iLAogICAgYXV0aG9ycz0iVGhvbXBzb24sIENhcm9sYSBGZWxsZW56IGFuZCBOaWV0ZXJzLCBKaW0iLAogICAgcGxhY2U9RkFLRSwKICAgIHBwPSIyNDkxLS0yNDkyIiwKICAgIGVudHJ5dHlwZT0iaW5wcm9jZWVkaW5ncyIsCiAgICBzZXJpZXM9IkNISSBFQSAnMTUiLAogICAgaXNibj0iOTc4LTEtNDUwMy0zMTQ2LTMiLAogICAgbG9jYXRpb249IlNlb3VsLCBSZXB1YmxpYyBvZiBLb3JlYSIsCiAgICBJRD0iVGhvbXBzb246MjAxNTpSREw6MjcwMjYxMy4yNzA2NjgwIiwKICAgIGFjbT0iMSIsCiAgICBwbGFjZXg9IlByb2NlZWRpbmdzIG9mIHRoZSAzM3JkIEFubnVhbCBBQ00gQ29uZmVyZW5jZSBFeHRlbmRlZCBBYnN0cmFjdHMgb24gSHVtYW4gRmFjdG9ycyBpbiBDb21wdXRpbmcgU3lzdGVtcyIsCikpCicnJyk7\"));\n",
       "    "
      ],
      "text/plain": [
       "<IPython.core.display.Javascript object>"
      ]
     },
     "metadata": {},
     "output_type": "display_data"
    },
    {
     "data": {
      "application/javascript": [
       "$('span:contains(\"# Temp\")').closest('.cell').remove();"
      ],
      "text/plain": [
       "<IPython.core.display.Javascript object>"
      ]
     },
     "metadata": {},
     "output_type": "display_data"
    },
    {
     "data": {
      "application/javascript": [
       "\n",
       "        $('span:contains(\"# Temp\")').closest('.cell').remove();\n",
       "        var code = IPython.notebook.insert_cell_below('code');\n",
       "        code.set_text(atob(\"IyBUZW1wCmluc2VydCgnJycKY291bnNlbGwyMDAxYSA9IERCKFdvcmtVbnJlbGF0ZWQoCiAgICAyMDAxLCAiQW4gRXZvbHV0aW9uYXJ5IEFwcHJvYWNoIHRvIERpZ2l0YWwgUmVjb3JkaW5nIGFuZCBJbmZvcm1hdGlvbiBBYm91dCBIZXJpdGFnZSBTaXRlcyIsCiAgICBkaXNwbGF5PSJjb3Vuc2VsbCIsCiAgICBhdXRob3JzPSJDb3Vuc2VsbCwgSm9obiIsCiAgICBwbGFjZT1GQUtFLAogICAgcHA9IjMzLS00MiIsCiAgICBlbnRyeXR5cGU9ImlucHJvY2VlZGluZ3MiLAogICAgc2VyaWVzPSJWQVNUICcwMSIsCiAgICBpc2JuPSIxLTU4MTEzLTQ0Ny05IiwKICAgIGxvY2F0aW9uPSJHbHlmYWRhLCBHcmVlY2UiLAogICAgSUQ9IkNvdW5zZWxsOjIwMDE6RUFEOjU4NDk5My41ODQ5OTkiLAogICAgYWNtPSIxIiwKICAgIHBsYWNleD0iUHJvY2VlZGluZ3Mgb2YgdGhlIDIwMDEgQ29uZmVyZW5jZSBvbiBWaXJ0dWFsIFJlYWxpdHksIEFyY2hlb2xvZ3ksIGFuZCBDdWx0dXJhbCBIZXJpdGFnZSIsCikpCicnJyk7\"));\n",
       "    "
      ],
      "text/plain": [
       "<IPython.core.display.Javascript object>"
      ]
     },
     "metadata": {},
     "output_type": "display_data"
    },
    {
     "data": {
      "application/javascript": [
       "$('span:contains(\"# Temp\")').closest('.cell').remove();"
      ],
      "text/plain": [
       "<IPython.core.display.Javascript object>"
      ]
     },
     "metadata": {},
     "output_type": "display_data"
    },
    {
     "data": {
      "application/javascript": [
       "\n",
       "        $('span:contains(\"# Temp\")').closest('.cell').remove();\n",
       "        var code = IPython.notebook.insert_cell_below('code');\n",
       "        code.set_text(atob(\"IyBUZW1wCmluc2VydCgnJycKY291bnNlbGwyMDAxYSA9IERCKFdvcmtVbnJlbGF0ZWQoCiAgICAyMDAxLCAiQW4gRXZvbHV0aW9uYXJ5IEFwcHJvYWNoIHRvIERpZ2l0YWwgUmVjb3JkaW5nIGFuZCBJbmZvcm1hdGlvbiBBYm91dCBIZXJpdGFnZSBTaXRlcyIsCiAgICBkaXNwbGF5PSJjb3Vuc2VsbCIsCiAgICBhdXRob3JzPSJDb3Vuc2VsbCwgSm9obiIsCiAgICBwbGFjZT1GQUtFLAogICAgcHA9IjMzLS00MiIsCiAgICBlbnRyeXR5cGU9ImlucHJvY2VlZGluZ3MiLAogICAgc2VyaWVzPSJWQVNUICcwMSIsCiAgICBpc2JuPSIxLTU4MTEzLTQ0Ny05IiwKICAgIGxvY2F0aW9uPSJHbHlmYWRhLCBHcmVlY2UiLAogICAgSUQ9IkNvdW5zZWxsOjIwMDE6RUFEOjU4NDk5My41ODQ5OTkiLAogICAgYWNtPSIxIiwKICAgIHBsYWNleD0iUHJvY2VlZGluZ3Mgb2YgdGhlIDIwMDEgQ29uZmVyZW5jZSBvbiBWaXJ0dWFsIFJlYWxpdHksIEFyY2hlb2xvZ3ksIGFuZCBDdWx0dXJhbCBIZXJpdGFnZSIsCikpCicnJyk7\"));\n",
       "    "
      ],
      "text/plain": [
       "<IPython.core.display.Javascript object>"
      ]
     },
     "metadata": {},
     "output_type": "display_data"
    },
    {
     "data": {
      "application/javascript": [
       "$('span:contains(\"# Temp\")').closest('.cell').remove();"
      ],
      "text/plain": [
       "<IPython.core.display.Javascript object>"
      ]
     },
     "metadata": {},
     "output_type": "display_data"
    },
    {
     "data": {
      "application/javascript": [
       "\n",
       "        $('span:contains(\"# Temp\")').closest('.cell').remove();\n",
       "        var code = IPython.notebook.insert_cell_below('code');\n",
       "        code.set_text(atob(\"IyBUZW1wCmluc2VydCgnJycKZGViYXJyMjAwNmEgPSBEQihXb3JrVW5yZWxhdGVkKAogICAgMjAwNiwgIkNsb3NpbmcgdGhlIEdhcDogQXV0b21hdGVkIFNjcmVlbmluZyBvZiBUYXggUmV0dXJucyB0byBJZGVudGlmeSBFZ3JlZ2lvdXMgVGF4IFNoZWx0ZXJzIiwKICAgIGRpc3BsYXk9ImRlYmFyciIsCiAgICBhdXRob3JzPSJEZUJhcnIsIERhdmUgYW5kIEV5bGVyLVdhbGtlciwgWmFjaCIsCiAgICBwbGFjZT1GQUtFLAogICAgcHA9IjExLS0xNiIsCiAgICBlbnRyeXR5cGU9ImFydGljbGUiLAogICAgaXNzdWVfZGF0ZT0iSnVuZSAyMDA2IiwKICAgIHZvbHVtZT0iOCIsCiAgICBudW1iZXI9IjEiLAogICAgbW9udGg9Imp1biIsCiAgICBpc3NuPSIxOTMxLTAxNDUiLAogICAgSUQ9IkRlQmFycjoyMDA2OkNHQToxMTQ3MjM0LjExNDcyMzciLAogICAgYWNtPSIxIiwKICAgIHBsYWNleD0iU0lHS0REIEV4cGxvci4gTmV3c2wuIiwKKSkKJycnKTs=\"));\n",
       "    "
      ],
      "text/plain": [
       "<IPython.core.display.Javascript object>"
      ]
     },
     "metadata": {},
     "output_type": "display_data"
    },
    {
     "data": {
      "application/javascript": [
       "$('span:contains(\"# Temp\")').closest('.cell').remove();"
      ],
      "text/plain": [
       "<IPython.core.display.Javascript object>"
      ]
     },
     "metadata": {},
     "output_type": "display_data"
    },
    {
     "data": {
      "application/javascript": [
       "\n",
       "        $('span:contains(\"# Temp\")').closest('.cell').remove();\n",
       "        var code = IPython.notebook.insert_cell_below('code');\n",
       "        code.set_text(atob(\"IyBUZW1wCmluc2VydCgnJycKZGViYXJyMjAwNmEgPSBEQihXb3JrVW5yZWxhdGVkKAogICAgMjAwNiwgIkNsb3NpbmcgdGhlIEdhcDogQXV0b21hdGVkIFNjcmVlbmluZyBvZiBUYXggUmV0dXJucyB0byBJZGVudGlmeSBFZ3JlZ2lvdXMgVGF4IFNoZWx0ZXJzIiwKICAgIGRpc3BsYXk9ImRlYmFyciIsCiAgICBhdXRob3JzPSJEZUJhcnIsIERhdmUgYW5kIEV5bGVyLVdhbGtlciwgWmFjaCIsCiAgICBwbGFjZT1GQUtFLAogICAgcHA9IjExLS0xNiIsCiAgICBlbnRyeXR5cGU9ImFydGljbGUiLAogICAgaXNzdWVfZGF0ZT0iSnVuZSAyMDA2IiwKICAgIHZvbHVtZT0iOCIsCiAgICBudW1iZXI9IjEiLAogICAgbW9udGg9Imp1biIsCiAgICBpc3NuPSIxOTMxLTAxNDUiLAogICAgSUQ9IkRlQmFycjoyMDA2OkNHQToxMTQ3MjM0LjExNDcyMzciLAogICAgYWNtPSIxIiwKICAgIHBsYWNleD0iU0lHS0REIEV4cGxvci4gTmV3c2wuIiwKKSkKJycnKTs=\"));\n",
       "    "
      ],
      "text/plain": [
       "<IPython.core.display.Javascript object>"
      ]
     },
     "metadata": {},
     "output_type": "display_data"
    },
    {
     "data": {
      "application/javascript": [
       "$('span:contains(\"# Temp\")').closest('.cell').remove();"
      ],
      "text/plain": [
       "<IPython.core.display.Javascript object>"
      ]
     },
     "metadata": {},
     "output_type": "display_data"
    },
    {
     "data": {
      "application/javascript": [
       "\n",
       "        $('span:contains(\"# Temp\")').closest('.cell').remove();\n",
       "        var code = IPython.notebook.insert_cell_below('code');\n",
       "        code.set_text(atob(\"IyBUZW1wCmluc2VydCgnJycKYnJhbm5lbjIwMTRhID0gREIoV29ya1VucmVsYXRlZCgKICAgIDIwMTQsICJMYW5ndWFnZSwgQ3VsdHVyZSBhbmQgQm91bmRhcnktc3Bhbm5pbmc6IFB1c2hpbmcgdGhlIEZyb250aWVycyBvZiBSZXNlYXJjaCBvbiBHbG9iYWwgTGVhcm5pbmcgYW5kIElubm92YXRpb24iLAogICAgZGlzcGxheT0iYnJhbm5lbiIsCiAgICBhdXRob3JzPSJCcmFubmVuLCBNYXJ5IFlva28iLAogICAgcGxhY2U9RkFLRSwKICAgIHBwPSIxLS0xIiwKICAgIGVudHJ5dHlwZT0iaW5wcm9jZWVkaW5ncyIsCiAgICBzZXJpZXM9IkNBQlMgJzE0IiwKICAgIGlzYm49Ijk3OC0xLTQ1MDMtMjU1Ny04IiwKICAgIGxvY2F0aW9uPSJLeW90bywgSmFwYW4iLAogICAgSUQ9IkJyYW5uZW46MjAxNDpMQ0I6MjYzMTQ4OC4yNjM3NDMwIiwKICAgIGFjbT0iMSIsCiAgICBwbGFjZXg9IlByb2NlZWRpbmdzIG9mIHRoZSA1dGggQUNNIEludGVybmF0aW9uYWwgQ29uZmVyZW5jZSBvbiBDb2xsYWJvcmF0aW9uIEFjcm9zcyBCb3VuZGFyaWVzOiBDdWx0dXJlLCBEaXN0YW5jZSAmIzM4OyBUZWNobm9sb2d5IiwKKSkKJycnKTs=\"));\n",
       "    "
      ],
      "text/plain": [
       "<IPython.core.display.Javascript object>"
      ]
     },
     "metadata": {},
     "output_type": "display_data"
    },
    {
     "data": {
      "application/javascript": [
       "$('span:contains(\"# Temp\")').closest('.cell').remove();"
      ],
      "text/plain": [
       "<IPython.core.display.Javascript object>"
      ]
     },
     "metadata": {},
     "output_type": "display_data"
    },
    {
     "data": {
      "application/javascript": [
       "\n",
       "        $('span:contains(\"# Temp\")').closest('.cell').remove();\n",
       "        var code = IPython.notebook.insert_cell_below('code');\n",
       "        code.set_text(atob(\"IyBUZW1wCmluc2VydCgnJycKYnJhbm5lbjIwMTRhID0gREIoV29ya1VucmVsYXRlZCgKICAgIDIwMTQsICJMYW5ndWFnZSwgQ3VsdHVyZSBhbmQgQm91bmRhcnktc3Bhbm5pbmc6IFB1c2hpbmcgdGhlIEZyb250aWVycyBvZiBSZXNlYXJjaCBvbiBHbG9iYWwgTGVhcm5pbmcgYW5kIElubm92YXRpb24iLAogICAgZGlzcGxheT0iYnJhbm5lbiIsCiAgICBhdXRob3JzPSJCcmFubmVuLCBNYXJ5IFlva28iLAogICAgcGxhY2U9RkFLRSwKICAgIHBwPSIxLS0xIiwKICAgIGVudHJ5dHlwZT0iaW5wcm9jZWVkaW5ncyIsCiAgICBzZXJpZXM9IkNBQlMgJzE0IiwKICAgIGlzYm49Ijk3OC0xLTQ1MDMtMjU1Ny04IiwKICAgIGxvY2F0aW9uPSJLeW90bywgSmFwYW4iLAogICAgSUQ9IkJyYW5uZW46MjAxNDpMQ0I6MjYzMTQ4OC4yNjM3NDMwIiwKICAgIGFjbT0iMSIsCiAgICBwbGFjZXg9IlByb2NlZWRpbmdzIG9mIHRoZSA1dGggQUNNIEludGVybmF0aW9uYWwgQ29uZmVyZW5jZSBvbiBDb2xsYWJvcmF0aW9uIEFjcm9zcyBCb3VuZGFyaWVzOiBDdWx0dXJlLCBEaXN0YW5jZSAmIzM4OyBUZWNobm9sb2d5IiwKKSkKJycnKTs=\"));\n",
       "    "
      ],
      "text/plain": [
       "<IPython.core.display.Javascript object>"
      ]
     },
     "metadata": {},
     "output_type": "display_data"
    },
    {
     "data": {
      "application/javascript": [
       "$('span:contains(\"# Temp\")').closest('.cell').remove();"
      ],
      "text/plain": [
       "<IPython.core.display.Javascript object>"
      ]
     },
     "metadata": {},
     "output_type": "display_data"
    },
    {
     "data": {
      "application/javascript": [
       "\n",
       "        $('span:contains(\"# Temp\")').closest('.cell').remove();\n",
       "        var code = IPython.notebook.insert_cell_below('code');\n",
       "        code.set_text(atob(\"IyBUZW1wCmluc2VydCgnJycKcmVuYWxzMjAxNGEgPSBEQihXb3JrVW5yZWxhdGVkKAogICAgMjAxNCwgIlJPQ0tJVDogUm9hZG1hcCBmb3IgQ29udmVyc2F0aW9uYWwgSW50ZXJhY3Rpb24gVGVjaG5vbG9naWVzIiwKICAgIGRpc3BsYXk9InJlbmFscyIsCiAgICBhdXRob3JzPSJSZW5hbHMsIFN0ZXZlIGFuZCBDYXJsZXR0YSwgSmVhbiBhbmQgRWR3YXJkcywgS2VpdGggYW5kIEJvdXJsYXJkLCBIZXJ26SBhbmQgR2FybmVyLCBQaGlsIGFuZCBQb3Blc2N1LUJlbGlzLCBBbmRyZWkgYW5kIEtsYWtvdywgRGlldHJpY2ggYW5kIEdpcmVua28sIEFuZHJleSBhbmQgUGV0dWtvdmEsIFZvbGhhIGFuZCBXYWNrZXIsIFBoaWxpcHBlIGFuZCBKb3NjZWx5bmUsIEFuZHJldyBhbmQgS29tcGlzLCBDb3N0aXMgYW5kIEFsaXdlbGwsIFNpbW9uIGFuZCBTdGV2ZW5zLCBXaWxsaWFtIGFuZCBTYWJiYWgsIFlvdXNzZWYiLAogICAgcGxhY2U9RkFLRSwKICAgIHBwPSIzOS0tNDIiLAogICAgZW50cnl0eXBlPSJpbnByb2NlZWRpbmdzIiwKICAgIHNlcmllcz0iUkZNSVIgJzE0IiwKICAgIGlzYm49Ijk3OC0xLTQ1MDMtMDYxNS03IiwKICAgIGxvY2F0aW9uPSJJc3RhbmJ1bCwgVHVya2V5IiwKICAgIElEPSJSZW5hbHM6MjAxNDpSUkM6MjY2NjI1My4yNjY2MjYyIiwKICAgIGFjbT0iMSIsCiAgICBwbGFjZXg9IlByb2NlZWRpbmdzIG9mIHRoZSAyMDE0IFdvcmtzaG9wIG9uIFJvYWRtYXBwaW5nIHRoZSBGdXR1cmUgb2YgTXVsdGltb2RhbCBJbnRlcmFjdGlvbiBSZXNlYXJjaCBJbmNsdWRpbmcgQnVzaW5lc3MgT3Bwb3J0dW5pdGllcyBhbmQgQ2hhbGxlbmdlcyIsCikpCicnJyk7\"));\n",
       "    "
      ],
      "text/plain": [
       "<IPython.core.display.Javascript object>"
      ]
     },
     "metadata": {},
     "output_type": "display_data"
    },
    {
     "data": {
      "application/javascript": [
       "$('span:contains(\"# Temp\")').closest('.cell').remove();"
      ],
      "text/plain": [
       "<IPython.core.display.Javascript object>"
      ]
     },
     "metadata": {},
     "output_type": "display_data"
    },
    {
     "data": {
      "application/javascript": [
       "\n",
       "        $('span:contains(\"# Temp\")').closest('.cell').remove();\n",
       "        var code = IPython.notebook.insert_cell_below('code');\n",
       "        code.set_text(atob(\"IyBUZW1wCmluc2VydCgnJycKcmVuYWxzMjAxNGEgPSBEQihXb3JrVW5yZWxhdGVkKAogICAgMjAxNCwgIlJPQ0tJVDogUm9hZG1hcCBmb3IgQ29udmVyc2F0aW9uYWwgSW50ZXJhY3Rpb24gVGVjaG5vbG9naWVzIiwKICAgIGRpc3BsYXk9InJlbmFscyIsCiAgICBhdXRob3JzPSJSZW5hbHMsIFN0ZXZlIGFuZCBDYXJsZXR0YSwgSmVhbiBhbmQgRWR3YXJkcywgS2VpdGggYW5kIEJvdXJsYXJkLCBIZXJ26SBhbmQgR2FybmVyLCBQaGlsIGFuZCBQb3Blc2N1LUJlbGlzLCBBbmRyZWkgYW5kIEtsYWtvdywgRGlldHJpY2ggYW5kIEdpcmVua28sIEFuZHJleSBhbmQgUGV0dWtvdmEsIFZvbGhhIGFuZCBXYWNrZXIsIFBoaWxpcHBlIGFuZCBKb3NjZWx5bmUsIEFuZHJldyBhbmQgS29tcGlzLCBDb3N0aXMgYW5kIEFsaXdlbGwsIFNpbW9uIGFuZCBTdGV2ZW5zLCBXaWxsaWFtIGFuZCBTYWJiYWgsIFlvdXNzZWYiLAogICAgcGxhY2U9RkFLRSwKICAgIHBwPSIzOS0tNDIiLAogICAgZW50cnl0eXBlPSJpbnByb2NlZWRpbmdzIiwKICAgIHNlcmllcz0iUkZNSVIgJzE0IiwKICAgIGlzYm49Ijk3OC0xLTQ1MDMtMDYxNS03IiwKICAgIGxvY2F0aW9uPSJJc3RhbmJ1bCwgVHVya2V5IiwKICAgIElEPSJSZW5hbHM6MjAxNDpSUkM6MjY2NjI1My4yNjY2MjYyIiwKICAgIGFjbT0iMSIsCiAgICBwbGFjZXg9IlByb2NlZWRpbmdzIG9mIHRoZSAyMDE0IFdvcmtzaG9wIG9uIFJvYWRtYXBwaW5nIHRoZSBGdXR1cmUgb2YgTXVsdGltb2RhbCBJbnRlcmFjdGlvbiBSZXNlYXJjaCBJbmNsdWRpbmcgQnVzaW5lc3MgT3Bwb3J0dW5pdGllcyBhbmQgQ2hhbGxlbmdlcyIsCikpCicnJyk7\"));\n",
       "    "
      ],
      "text/plain": [
       "<IPython.core.display.Javascript object>"
      ]
     },
     "metadata": {},
     "output_type": "display_data"
    },
    {
     "data": {
      "application/javascript": [
       "$('span:contains(\"# Temp\")').closest('.cell').remove();"
      ],
      "text/plain": [
       "<IPython.core.display.Javascript object>"
      ]
     },
     "metadata": {},
     "output_type": "display_data"
    },
    {
     "data": {
      "application/javascript": [
       "\n",
       "        $('span:contains(\"# Temp\")').closest('.cell').remove();\n",
       "        var code = IPython.notebook.insert_cell_below('code');\n",
       "        code.set_text(atob(\"IyBUZW1wCmluc2VydCgnJycKa29jazIwMDJhID0gREIoV29ya1VucmVsYXRlZCgKICAgIDIwMDIsICJNYW5hZ2luZyB3aXRoIFdlYi1iYXNlZCBJVCBpbiBNaW5kIiwKICAgIGRpc3BsYXk9ImtvY2siLAogICAgYXV0aG9ycz0iS29jaywgTmVkIiwKICAgIHBsYWNlPUZBS0UsCiAgICBwcD0iMTAyLS0xMDYiLAogICAgZW50cnl0eXBlPSJhcnRpY2xlIiwKICAgIGlzc3VlX2RhdGU9Ik1heSAyMDAyIiwKICAgIHZvbHVtZT0iNDUiLAogICAgbnVtYmVyPSI1IiwKICAgIG1vbnRoPSJtYXkiLAogICAgaXNzbj0iMDAwMS0wNzgyIiwKICAgIElEPSJLb2NrOjIwMDI6TVdNOjUwNjIxOC41MDYyMjMiLAogICAgYWNtPSIxIiwKICAgIHBsYWNleD0iQ29tbXVuLiBBQ00iLAopKQonJycpOw==\"));\n",
       "    "
      ],
      "text/plain": [
       "<IPython.core.display.Javascript object>"
      ]
     },
     "metadata": {},
     "output_type": "display_data"
    },
    {
     "data": {
      "application/javascript": [
       "$('span:contains(\"# Temp\")').closest('.cell').remove();"
      ],
      "text/plain": [
       "<IPython.core.display.Javascript object>"
      ]
     },
     "metadata": {},
     "output_type": "display_data"
    },
    {
     "data": {
      "application/javascript": [
       "\n",
       "        $('span:contains(\"# Temp\")').closest('.cell').remove();\n",
       "        var code = IPython.notebook.insert_cell_below('code');\n",
       "        code.set_text(atob(\"IyBUZW1wCmluc2VydCgnJycKa29jazIwMDJhID0gREIoV29ya1VucmVsYXRlZCgKICAgIDIwMDIsICJNYW5hZ2luZyB3aXRoIFdlYi1iYXNlZCBJVCBpbiBNaW5kIiwKICAgIGRpc3BsYXk9ImtvY2siLAogICAgYXV0aG9ycz0iS29jaywgTmVkIiwKICAgIHBsYWNlPUZBS0UsCiAgICBwcD0iMTAyLS0xMDYiLAogICAgZW50cnl0eXBlPSJhcnRpY2xlIiwKICAgIGlzc3VlX2RhdGU9Ik1heSAyMDAyIiwKICAgIHZvbHVtZT0iNDUiLAogICAgbnVtYmVyPSI1IiwKICAgIG1vbnRoPSJtYXkiLAogICAgaXNzbj0iMDAwMS0wNzgyIiwKICAgIElEPSJLb2NrOjIwMDI6TVdNOjUwNjIxOC41MDYyMjMiLAogICAgYWNtPSIxIiwKICAgIHBsYWNleD0iQ29tbXVuLiBBQ00iLAopKQonJycpOw==\"));\n",
       "    "
      ],
      "text/plain": [
       "<IPython.core.display.Javascript object>"
      ]
     },
     "metadata": {},
     "output_type": "display_data"
    },
    {
     "data": {
      "application/javascript": [
       "$('span:contains(\"# Temp\")').closest('.cell').remove();"
      ],
      "text/plain": [
       "<IPython.core.display.Javascript object>"
      ]
     },
     "metadata": {},
     "output_type": "display_data"
    },
    {
     "data": {
      "application/javascript": [
       "\n",
       "        $('span:contains(\"# Temp\")').closest('.cell').remove();\n",
       "        var code = IPython.notebook.insert_cell_below('code');\n",
       "        code.set_text(atob(\"IyBUZW1wCmluc2VydCgnJycKdmFudGVyMjAwNWEgPSBEQihXb3JrVW5yZWxhdGVkKAogICAgMjAwNSwgIkhQQyBOZWVkcyBhIFRvb2wgU3RyYXRlZ3kiLAogICAgZGlzcGxheT0idmFudGVyIiwKICAgIGF1dGhvcnM9IlZhbiBEZSBWYW50ZXIsIE1pY2hhZWwgTC4gYW5kIFBvc3QsIEQuIEUuIGFuZCBab3NlbCwgTWFyeSBFLiIsCiAgICBwbGFjZT1GQUtFLAogICAgcHA9IjU1LS01OSIsCiAgICBlbnRyeXR5cGU9ImlucHJvY2VlZGluZ3MiLAogICAgc2VyaWVzPSJTRS1IUENTICcwNSIsCiAgICBpc2JuPSIxLTU5NTkzLTExNy0xIiwKICAgIGxvY2F0aW9uPSJTdC4gTG91aXMsIE1pc3NvdXJpIiwKICAgIElEPSJWYW5EZVZhbnRlcjoyMDA1OkhOVDoxMTQ1MzE5LjExNDUzMzUiLAogICAgYWNtPSIxIiwKICAgIHBsYWNleD0iUHJvY2VlZGluZ3Mgb2YgdGhlIFNlY29uZCBJbnRlcm5hdGlvbmFsIFdvcmtzaG9wIG9uIFNvZnR3YXJlIEVuZ2luZWVyaW5nIGZvciBIaWdoIFBlcmZvcm1hbmNlIENvbXB1dGluZyBTeXN0ZW0gQXBwbGljYXRpb25zIiwKKSkKJycnKTs=\"));\n",
       "    "
      ],
      "text/plain": [
       "<IPython.core.display.Javascript object>"
      ]
     },
     "metadata": {},
     "output_type": "display_data"
    },
    {
     "data": {
      "application/javascript": [
       "$('span:contains(\"# Temp\")').closest('.cell').remove();"
      ],
      "text/plain": [
       "<IPython.core.display.Javascript object>"
      ]
     },
     "metadata": {},
     "output_type": "display_data"
    },
    {
     "data": {
      "application/javascript": [
       "\n",
       "        $('span:contains(\"# Temp\")').closest('.cell').remove();\n",
       "        var code = IPython.notebook.insert_cell_below('code');\n",
       "        code.set_text(atob(\"IyBUZW1wCmluc2VydCgnJycKdmFudGVyMjAwNWEgPSBEQihXb3JrVW5yZWxhdGVkKAogICAgMjAwNSwgIkhQQyBOZWVkcyBhIFRvb2wgU3RyYXRlZ3kiLAogICAgZGlzcGxheT0idmFudGVyIiwKICAgIGF1dGhvcnM9IlZhbiBEZSBWYW50ZXIsIE1pY2hhZWwgTC4gYW5kIFBvc3QsIEQuIEUuIGFuZCBab3NlbCwgTWFyeSBFLiIsCiAgICBwbGFjZT1GQUtFLAogICAgcHA9IjU1LS01OSIsCiAgICBlbnRyeXR5cGU9ImlucHJvY2VlZGluZ3MiLAogICAgc2VyaWVzPSJTRS1IUENTICcwNSIsCiAgICBpc2JuPSIxLTU5NTkzLTExNy0xIiwKICAgIGxvY2F0aW9uPSJTdC4gTG91aXMsIE1pc3NvdXJpIiwKICAgIElEPSJWYW5EZVZhbnRlcjoyMDA1OkhOVDoxMTQ1MzE5LjExNDUzMzUiLAogICAgYWNtPSIxIiwKICAgIHBsYWNleD0iUHJvY2VlZGluZ3Mgb2YgdGhlIFNlY29uZCBJbnRlcm5hdGlvbmFsIFdvcmtzaG9wIG9uIFNvZnR3YXJlIEVuZ2luZWVyaW5nIGZvciBIaWdoIFBlcmZvcm1hbmNlIENvbXB1dGluZyBTeXN0ZW0gQXBwbGljYXRpb25zIiwKKSkKJycnKTs=\"));\n",
       "    "
      ],
      "text/plain": [
       "<IPython.core.display.Javascript object>"
      ]
     },
     "metadata": {},
     "output_type": "display_data"
    },
    {
     "data": {
      "application/javascript": [
       "$('span:contains(\"# Temp\")').closest('.cell').remove();"
      ],
      "text/plain": [
       "<IPython.core.display.Javascript object>"
      ]
     },
     "metadata": {},
     "output_type": "display_data"
    },
    {
     "data": {
      "application/javascript": [
       "\n",
       "        $('span:contains(\"# Temp\")').closest('.cell').remove();\n",
       "        var code = IPython.notebook.insert_cell_below('code');\n",
       "        code.set_text(atob(\"IyBUZW1wCmluc2VydCgnJycKdGlldHoyMDExYSA9IERCKFdvcmtVbnJlbGF0ZWQoCiAgICAyMDExLCAiVG93YXJkcyBUYXNrLWJhc2VkIERldmVsb3BtZW50IG9mIEVudGVycHJpc2UgTWFzaHVwcyIsCiAgICBkaXNwbGF5PSJ0aWV0eiIsCiAgICBhdXRob3JzPSJUaWV0eiwgVmluY2VudCBhbmQgUGlldHNjaG1hbm4sIFN0ZWZhbiBhbmQgQmxpY2htYW5uLCBHcmVnb3IgYW5kIE1laVxzc25lciwgS2xhdXMgYW5kIENhc2FsbCwgQWxleGFuZGVyIGFuZCBHcmFtcywgQmVybmQiLAogICAgcGxhY2U9RkFLRSwKICAgIHBwPSIzMjUtLTMyOCIsCiAgICBlbnRyeXR5cGU9ImlucHJvY2VlZGluZ3MiLAogICAgc2VyaWVzPSJpaVdBUyAnMTEiLAogICAgaXNibj0iOTc4LTEtNDUwMy0wNzg0LTAiLAogICAgbG9jYXRpb249IkhvIENoaSBNaW5oIENpdHksIFZpZXRuYW0iLAogICAgSUQ9IlRpZXR6OjIwMTE6VFREOjIwOTU1MzYuMjA5NTU5NCIsCiAgICBhY209IjEiLAogICAgcGxhY2V4PSJQcm9jZWVkaW5ncyBvZiB0aGUgMTN0aCBJbnRlcm5hdGlvbmFsIENvbmZlcmVuY2Ugb24gSW5mb3JtYXRpb24gSW50ZWdyYXRpb24gYW5kIFdlYi1iYXNlZCBBcHBsaWNhdGlvbnMgYW5kIFNlcnZpY2VzIiwKKSkKJycnKTs=\"));\n",
       "    "
      ],
      "text/plain": [
       "<IPython.core.display.Javascript object>"
      ]
     },
     "metadata": {},
     "output_type": "display_data"
    },
    {
     "data": {
      "application/javascript": [
       "$('span:contains(\"# Temp\")').closest('.cell').remove();"
      ],
      "text/plain": [
       "<IPython.core.display.Javascript object>"
      ]
     },
     "metadata": {},
     "output_type": "display_data"
    },
    {
     "data": {
      "application/javascript": [
       "\n",
       "        $('span:contains(\"# Temp\")').closest('.cell').remove();\n",
       "        var code = IPython.notebook.insert_cell_below('code');\n",
       "        code.set_text(atob(\"IyBUZW1wCmluc2VydCgnJycKdGlldHoyMDExYSA9IERCKFdvcmtVbnJlbGF0ZWQoCiAgICAyMDExLCAiVG93YXJkcyBUYXNrLWJhc2VkIERldmVsb3BtZW50IG9mIEVudGVycHJpc2UgTWFzaHVwcyIsCiAgICBkaXNwbGF5PSJ0aWV0eiIsCiAgICBhdXRob3JzPSJUaWV0eiwgVmluY2VudCBhbmQgUGlldHNjaG1hbm4sIFN0ZWZhbiBhbmQgQmxpY2htYW5uLCBHcmVnb3IgYW5kIE1laVxzc25lciwgS2xhdXMgYW5kIENhc2FsbCwgQWxleGFuZGVyIGFuZCBHcmFtcywgQmVybmQiLAogICAgcGxhY2U9RkFLRSwKICAgIHBwPSIzMjUtLTMyOCIsCiAgICBlbnRyeXR5cGU9ImlucHJvY2VlZGluZ3MiLAogICAgc2VyaWVzPSJpaVdBUyAnMTEiLAogICAgaXNibj0iOTc4LTEtNDUwMy0wNzg0LTAiLAogICAgbG9jYXRpb249IkhvIENoaSBNaW5oIENpdHksIFZpZXRuYW0iLAogICAgSUQ9IlRpZXR6OjIwMTE6VFREOjIwOTU1MzYuMjA5NTU5NCIsCiAgICBhY209IjEiLAogICAgcGxhY2V4PSJQcm9jZWVkaW5ncyBvZiB0aGUgMTN0aCBJbnRlcm5hdGlvbmFsIENvbmZlcmVuY2Ugb24gSW5mb3JtYXRpb24gSW50ZWdyYXRpb24gYW5kIFdlYi1iYXNlZCBBcHBsaWNhdGlvbnMgYW5kIFNlcnZpY2VzIiwKKSkKJycnKTs=\"));\n",
       "    "
      ],
      "text/plain": [
       "<IPython.core.display.Javascript object>"
      ]
     },
     "metadata": {},
     "output_type": "display_data"
    },
    {
     "data": {
      "application/javascript": [
       "$('span:contains(\"# Temp\")').closest('.cell').remove();"
      ],
      "text/plain": [
       "<IPython.core.display.Javascript object>"
      ]
     },
     "metadata": {},
     "output_type": "display_data"
    },
    {
     "data": {
      "application/javascript": [
       "\n",
       "        $('span:contains(\"# Temp\")').closest('.cell').remove();\n",
       "        var code = IPython.notebook.insert_cell_below('code');\n",
       "        code.set_text(atob(\"IyBUZW1wCmluc2VydCgnJycKa25vbGwxOTk0YSA9IERCKFdvcmtVbnJlbGF0ZWQoCiAgICAxOTk0LCAiSW5mb3JtYXRpb24gVGVjaG5vbG9neSBBbGlnbm1lbnQgb3IgJkxkcXVvO0ZpdCZSZHF1bzsgaW4gSGlnaGx5IFR1cmJ1bGVudCBFbnZpcm9ubWVudHM6IFRoZSBDb25jZXB0IG9mIEZsZXhpYmlsaXR5IiwKICAgIGRpc3BsYXk9Imtub2xsIiwKICAgIGF1dGhvcnM9Iktub2xsLCBLYXRobGVlbiBhbmQgSmFydmVucGFhLCBTaXJra2EgTC4iLAogICAgcGxhY2U9RkFLRSwKICAgIHBwPSIxLS0xNCIsCiAgICBlbnRyeXR5cGU9ImlucHJvY2VlZGluZ3MiLAogICAgc2VyaWVzPSJTSUdDUFIgJzk0IiwKICAgIGlzYm49IjAtODk3OTEtNjUyLTIiLAogICAgbG9jYXRpb249IkFsZXhhbmRyaWEsIFZpcmdpbmlhLCBVU0EiLAogICAgSUQ9Iktub2xsOjE5OTQ6SVRBOjE4NjI4MS4xODYyODYiLAogICAgYWNtPSIxIiwKICAgIHBsYWNleD0iUHJvY2VlZGluZ3Mgb2YgdGhlIDE5OTQgQ29tcHV0ZXIgUGVyc29ubmVsIFJlc2VhcmNoIENvbmZlcmVuY2Ugb24gUmVpbnZlbnRpbmcgSVMgOiBNYW5hZ2luZyBJbmZvcm1hdGlvbiBUZWNobm9sb2d5IGluIENoYW5naW5nIE9yZ2FuaXphdGlvbnM6IE1hbmFnaW5nIEluZm9ybWF0aW9uIFRlY2hub2xvZ3kgaW4gQ2hhbmdpbmcgT3JnYW5pemF0aW9ucyIsCikpCicnJyk7\"));\n",
       "    "
      ],
      "text/plain": [
       "<IPython.core.display.Javascript object>"
      ]
     },
     "metadata": {},
     "output_type": "display_data"
    },
    {
     "data": {
      "application/javascript": [
       "$('span:contains(\"# Temp\")').closest('.cell').remove();"
      ],
      "text/plain": [
       "<IPython.core.display.Javascript object>"
      ]
     },
     "metadata": {},
     "output_type": "display_data"
    },
    {
     "data": {
      "application/javascript": [
       "\n",
       "        $('span:contains(\"# Temp\")').closest('.cell').remove();\n",
       "        var code = IPython.notebook.insert_cell_below('code');\n",
       "        code.set_text(atob(\"IyBUZW1wCmluc2VydCgnJycKa25vbGwxOTk0YSA9IERCKFdvcmtVbnJlbGF0ZWQoCiAgICAxOTk0LCAiSW5mb3JtYXRpb24gVGVjaG5vbG9neSBBbGlnbm1lbnQgb3IgJkxkcXVvO0ZpdCZSZHF1bzsgaW4gSGlnaGx5IFR1cmJ1bGVudCBFbnZpcm9ubWVudHM6IFRoZSBDb25jZXB0IG9mIEZsZXhpYmlsaXR5IiwKICAgIGRpc3BsYXk9Imtub2xsIiwKICAgIGF1dGhvcnM9Iktub2xsLCBLYXRobGVlbiBhbmQgSmFydmVucGFhLCBTaXJra2EgTC4iLAogICAgcGxhY2U9RkFLRSwKICAgIHBwPSIxLS0xNCIsCiAgICBlbnRyeXR5cGU9ImlucHJvY2VlZGluZ3MiLAogICAgc2VyaWVzPSJTSUdDUFIgJzk0IiwKICAgIGlzYm49IjAtODk3OTEtNjUyLTIiLAogICAgbG9jYXRpb249IkFsZXhhbmRyaWEsIFZpcmdpbmlhLCBVU0EiLAogICAgSUQ9Iktub2xsOjE5OTQ6SVRBOjE4NjI4MS4xODYyODYiLAogICAgYWNtPSIxIiwKICAgIHBsYWNleD0iUHJvY2VlZGluZ3Mgb2YgdGhlIDE5OTQgQ29tcHV0ZXIgUGVyc29ubmVsIFJlc2VhcmNoIENvbmZlcmVuY2Ugb24gUmVpbnZlbnRpbmcgSVMgOiBNYW5hZ2luZyBJbmZvcm1hdGlvbiBUZWNobm9sb2d5IGluIENoYW5naW5nIE9yZ2FuaXphdGlvbnM6IE1hbmFnaW5nIEluZm9ybWF0aW9uIFRlY2hub2xvZ3kgaW4gQ2hhbmdpbmcgT3JnYW5pemF0aW9ucyIsCikpCicnJyk7\"));\n",
       "    "
      ],
      "text/plain": [
       "<IPython.core.display.Javascript object>"
      ]
     },
     "metadata": {},
     "output_type": "display_data"
    },
    {
     "data": {
      "application/javascript": [
       "$('span:contains(\"# Temp\")').closest('.cell').remove();"
      ],
      "text/plain": [
       "<IPython.core.display.Javascript object>"
      ]
     },
     "metadata": {},
     "output_type": "display_data"
    },
    {
     "data": {
      "application/javascript": [
       "\n",
       "        $('span:contains(\"# Temp\")').closest('.cell').remove();\n",
       "        var code = IPython.notebook.insert_cell_below('code');\n",
       "        code.set_text(atob(\"IyBUZW1wCmluc2VydCgnJycKa2F6YXRvMjAxM2EgPSBEQihXb3JrVW5yZWxhdGVkKAogICAgMjAxMywgIlRvd2FyZHMgQ2xhc3NpZmljYXRpb24gb2YgRE5TIEVycm9uZW91cyBRdWVyaWVzIiwKICAgIGRpc3BsYXk9ImthemF0byIsCiAgICBhdXRob3JzPSJLYXphdG8sIFl1dGEgYW5kIEZ1a3VkYSwgS2Vuc3VrZSBhbmQgU3VnYXdhcmEsIFRvc2hpaGFydSIsCiAgICBwbGFjZT1GQUtFLAogICAgcHA9IjI1LS0zMiIsCiAgICBlbnRyeXR5cGU9ImlucHJvY2VlZGluZ3MiLAogICAgc2VyaWVzPSJBSU5URUMgJzEzIiwKICAgIGlzYm49Ijk3OC0xLTQ1MDMtMjQ1MS05IiwKICAgIGxvY2F0aW9uPSJDaGlhbmcgTWFpLCBUaGFpbGFuZCIsCiAgICBJRD0iS2F6YXRvOjIwMTM6VENEOjI1MzQxNDIuMjUzNDE0NiIsCiAgICBhY209IjEiLAogICAgcGxhY2V4PSJQcm9jZWVkaW5ncyBvZiB0aGUgOXRoIEFzaWFuIEludGVybmV0IEVuZ2luZWVyaW5nIENvbmZlcmVuY2UiLAopKQonJycpOw==\"));\n",
       "    "
      ],
      "text/plain": [
       "<IPython.core.display.Javascript object>"
      ]
     },
     "metadata": {},
     "output_type": "display_data"
    },
    {
     "data": {
      "application/javascript": [
       "$('span:contains(\"# Temp\")').closest('.cell').remove();"
      ],
      "text/plain": [
       "<IPython.core.display.Javascript object>"
      ]
     },
     "metadata": {},
     "output_type": "display_data"
    },
    {
     "data": {
      "application/javascript": [
       "\n",
       "        $('span:contains(\"# Temp\")').closest('.cell').remove();\n",
       "        var code = IPython.notebook.insert_cell_below('code');\n",
       "        code.set_text(atob(\"IyBUZW1wCmluc2VydCgnJycKa2F6YXRvMjAxM2EgPSBEQihXb3JrVW5yZWxhdGVkKAogICAgMjAxMywgIlRvd2FyZHMgQ2xhc3NpZmljYXRpb24gb2YgRE5TIEVycm9uZW91cyBRdWVyaWVzIiwKICAgIGRpc3BsYXk9ImthemF0byIsCiAgICBhdXRob3JzPSJLYXphdG8sIFl1dGEgYW5kIEZ1a3VkYSwgS2Vuc3VrZSBhbmQgU3VnYXdhcmEsIFRvc2hpaGFydSIsCiAgICBwbGFjZT1GQUtFLAogICAgcHA9IjI1LS0zMiIsCiAgICBlbnRyeXR5cGU9ImlucHJvY2VlZGluZ3MiLAogICAgc2VyaWVzPSJBSU5URUMgJzEzIiwKICAgIGlzYm49Ijk3OC0xLTQ1MDMtMjQ1MS05IiwKICAgIGxvY2F0aW9uPSJDaGlhbmcgTWFpLCBUaGFpbGFuZCIsCiAgICBJRD0iS2F6YXRvOjIwMTM6VENEOjI1MzQxNDIuMjUzNDE0NiIsCiAgICBhY209IjEiLAogICAgcGxhY2V4PSJQcm9jZWVkaW5ncyBvZiB0aGUgOXRoIEFzaWFuIEludGVybmV0IEVuZ2luZWVyaW5nIENvbmZlcmVuY2UiLAopKQonJycpOw==\"));\n",
       "    "
      ],
      "text/plain": [
       "<IPython.core.display.Javascript object>"
      ]
     },
     "metadata": {},
     "output_type": "display_data"
    },
    {
     "data": {
      "application/javascript": [
       "$('span:contains(\"# Temp\")').closest('.cell').remove();"
      ],
      "text/plain": [
       "<IPython.core.display.Javascript object>"
      ]
     },
     "metadata": {},
     "output_type": "display_data"
    },
    {
     "data": {
      "application/javascript": [
       "\n",
       "        $('span:contains(\"# Temp\")').closest('.cell').remove();\n",
       "        var code = IPython.notebook.insert_cell_below('code');\n",
       "        code.set_text(atob(\"IyBUZW1wCmluc2VydCgnJycKaGl0aG5hd2kyMDE1YSA9IERCKFdvcmtVbnJlbGF0ZWQoCiAgICAyMDE1LCAiVElJTTogVGVjaG5vbG9neS1pbmRlcGVuZGVudCBJbnRlcmZlcmVuY2UgTWl0aWdhdGlvbiBmb3IgTG93LXBvd2VyIFdpcmVsZXNzIE5ldHdvcmtzIiwKICAgIGRpc3BsYXk9ImhpdGhuYXdpIiwKICAgIGF1dGhvcnM9IkhpdGhuYXdpLCBBbndhciBhbmQgU2hhZmFnaCwgSG9zc2VpbiBhbmQgRHVxdWVubm95LCBTaW1vbiIsCiAgICBwbGFjZT1GQUtFLAogICAgcHA9IjEtLTEyIiwKICAgIGVudHJ5dHlwZT0iaW5wcm9jZWVkaW5ncyIsCiAgICBzZXJpZXM9IklQU04gJzE1IiwKICAgIGlzYm49Ijk3OC0xLTQ1MDMtMzQ3NS00IiwKICAgIGxvY2F0aW9uPSJTZWF0dGxlLCBXYXNoaW5ndG9uIiwKICAgIElEPSJIaXRobmF3aToyMDE1OlRUSToyNzM3MDk1LjI3MzcxMDQiLAogICAgYWNtPSIxIiwKICAgIHBsYWNleD0iUHJvY2VlZGluZ3Mgb2YgdGhlIDE0dGggSW50ZXJuYXRpb25hbCBDb25mZXJlbmNlIG9uIEluZm9ybWF0aW9uIFByb2Nlc3NpbmcgaW4gU2Vuc29yIE5ldHdvcmtzIiwKKSkKJycnKTs=\"));\n",
       "    "
      ],
      "text/plain": [
       "<IPython.core.display.Javascript object>"
      ]
     },
     "metadata": {},
     "output_type": "display_data"
    },
    {
     "data": {
      "application/javascript": [
       "$('span:contains(\"# Temp\")').closest('.cell').remove();"
      ],
      "text/plain": [
       "<IPython.core.display.Javascript object>"
      ]
     },
     "metadata": {},
     "output_type": "display_data"
    },
    {
     "data": {
      "application/javascript": [
       "\n",
       "        $('span:contains(\"# Temp\")').closest('.cell').remove();\n",
       "        var code = IPython.notebook.insert_cell_below('code');\n",
       "        code.set_text(atob(\"IyBUZW1wCmluc2VydCgnJycKaGl0aG5hd2kyMDE1YSA9IERCKFdvcmtVbnJlbGF0ZWQoCiAgICAyMDE1LCAiVElJTTogVGVjaG5vbG9neS1pbmRlcGVuZGVudCBJbnRlcmZlcmVuY2UgTWl0aWdhdGlvbiBmb3IgTG93LXBvd2VyIFdpcmVsZXNzIE5ldHdvcmtzIiwKICAgIGRpc3BsYXk9ImhpdGhuYXdpIiwKICAgIGF1dGhvcnM9IkhpdGhuYXdpLCBBbndhciBhbmQgU2hhZmFnaCwgSG9zc2VpbiBhbmQgRHVxdWVubm95LCBTaW1vbiIsCiAgICBwbGFjZT1GQUtFLAogICAgcHA9IjEtLTEyIiwKICAgIGVudHJ5dHlwZT0iaW5wcm9jZWVkaW5ncyIsCiAgICBzZXJpZXM9IklQU04gJzE1IiwKICAgIGlzYm49Ijk3OC0xLTQ1MDMtMzQ3NS00IiwKICAgIGxvY2F0aW9uPSJTZWF0dGxlLCBXYXNoaW5ndG9uIiwKICAgIElEPSJIaXRobmF3aToyMDE1OlRUSToyNzM3MDk1LjI3MzcxMDQiLAogICAgYWNtPSIxIiwKICAgIHBsYWNleD0iUHJvY2VlZGluZ3Mgb2YgdGhlIDE0dGggSW50ZXJuYXRpb25hbCBDb25mZXJlbmNlIG9uIEluZm9ybWF0aW9uIFByb2Nlc3NpbmcgaW4gU2Vuc29yIE5ldHdvcmtzIiwKKSkKJycnKTs=\"));\n",
       "    "
      ],
      "text/plain": [
       "<IPython.core.display.Javascript object>"
      ]
     },
     "metadata": {},
     "output_type": "display_data"
    },
    {
     "data": {
      "application/javascript": [
       "$('span:contains(\"# Temp\")').closest('.cell').remove();"
      ],
      "text/plain": [
       "<IPython.core.display.Javascript object>"
      ]
     },
     "metadata": {},
     "output_type": "display_data"
    },
    {
     "data": {
      "application/javascript": [
       "\n",
       "        $('span:contains(\"# Temp\")').closest('.cell').remove();\n",
       "        var code = IPython.notebook.insert_cell_below('code');\n",
       "        code.set_text(atob(\"IyBUZW1wCmluc2VydCgnJycKbWFyYTIwMTVhID0gREIoV29ya1VucmVsYXRlZCgKICAgIDIwMTUsICJDYXB0dXJpbmcgU29jaWFsIFZhbHVlIGluIFVYIFByb2plY3RzIiwKICAgIGRpc3BsYXk9Im1hcmEiLAogICAgYXV0aG9ycz0iTWFyYSwgQW5kcmV3IGFuZCBNYXJhLCBNaXJpYW0iLAogICAgcGxhY2U9RkFLRSwKICAgIHBwPSIyMzoxLS0yMzo2IiwKICAgIGVudHJ5dHlwZT0iaW5wcm9jZWVkaW5ncyIsCiAgICBzZXJpZXM9IlNJR0RPQyAnMTUiLAogICAgaXNibj0iOTc4LTEtNDUwMy0zNjQ4LTIiLAogICAgbG9jYXRpb249IkxpbWVyaWNrLCBJcmVsYW5kIiwKICAgIElEPSJNYXJhOjIwMTU6Q1NWOjI3NzU0NDEuMjc3NTQ3OSIsCiAgICBhY209IjEiLAogICAgcGxhY2V4PSJQcm9jZWVkaW5ncyBvZiB0aGUgMzNyZCBBbm51YWwgSW50ZXJuYXRpb25hbCBDb25mZXJlbmNlIG9uIHRoZSBEZXNpZ24gb2YgQ29tbXVuaWNhdGlvbiIsCikpCicnJyk7\"));\n",
       "    "
      ],
      "text/plain": [
       "<IPython.core.display.Javascript object>"
      ]
     },
     "metadata": {},
     "output_type": "display_data"
    },
    {
     "data": {
      "application/javascript": [
       "$('span:contains(\"# Temp\")').closest('.cell').remove();"
      ],
      "text/plain": [
       "<IPython.core.display.Javascript object>"
      ]
     },
     "metadata": {},
     "output_type": "display_data"
    },
    {
     "data": {
      "application/javascript": [
       "\n",
       "        $('span:contains(\"# Temp\")').closest('.cell').remove();\n",
       "        var code = IPython.notebook.insert_cell_below('code');\n",
       "        code.set_text(atob(\"IyBUZW1wCmluc2VydCgnJycKbWFyYTIwMTVhID0gREIoV29ya1VucmVsYXRlZCgKICAgIDIwMTUsICJDYXB0dXJpbmcgU29jaWFsIFZhbHVlIGluIFVYIFByb2plY3RzIiwKICAgIGRpc3BsYXk9Im1hcmEiLAogICAgYXV0aG9ycz0iTWFyYSwgQW5kcmV3IGFuZCBNYXJhLCBNaXJpYW0iLAogICAgcGxhY2U9RkFLRSwKICAgIHBwPSIyMzoxLS0yMzo2IiwKICAgIGVudHJ5dHlwZT0iaW5wcm9jZWVkaW5ncyIsCiAgICBzZXJpZXM9IlNJR0RPQyAnMTUiLAogICAgaXNibj0iOTc4LTEtNDUwMy0zNjQ4LTIiLAogICAgbG9jYXRpb249IkxpbWVyaWNrLCBJcmVsYW5kIiwKICAgIElEPSJNYXJhOjIwMTU6Q1NWOjI3NzU0NDEuMjc3NTQ3OSIsCiAgICBhY209IjEiLAogICAgcGxhY2V4PSJQcm9jZWVkaW5ncyBvZiB0aGUgMzNyZCBBbm51YWwgSW50ZXJuYXRpb25hbCBDb25mZXJlbmNlIG9uIHRoZSBEZXNpZ24gb2YgQ29tbXVuaWNhdGlvbiIsCikpCicnJyk7\"));\n",
       "    "
      ],
      "text/plain": [
       "<IPython.core.display.Javascript object>"
      ]
     },
     "metadata": {},
     "output_type": "display_data"
    },
    {
     "data": {
      "application/javascript": [
       "$('span:contains(\"# Temp\")').closest('.cell').remove();"
      ],
      "text/plain": [
       "<IPython.core.display.Javascript object>"
      ]
     },
     "metadata": {},
     "output_type": "display_data"
    },
    {
     "data": {
      "application/javascript": [
       "\n",
       "        $('span:contains(\"# Temp\")').closest('.cell').remove();\n",
       "        var code = IPython.notebook.insert_cell_below('code');\n",
       "        code.set_text(atob(\"IyBUZW1wCmluc2VydCgnJycKZHViaW5za3kyMDA5YSA9IERCKFdvcmtVbnJlbGF0ZWQoCiAgICAyMDA5LCAiU29mdHdhcmUgRGV2ZWxvcG1lbnQgR292ZXJuYW5jZSAoU0RHKTogUmVwb3J0IG9uIDJOZCBXb3Jrc2hvcCIsCiAgICBkaXNwbGF5PSJkdWJpbnNreSIsCiAgICBhdXRob3JzPSJEdWJpbnNreSwgWWFlbCBhbmQgS3J1Y2h0ZW4sIFBoaWxpcHBlIiwKICAgIHBsYWNlPUZBS0UsCiAgICBwcD0iNDYtLTQ3IiwKICAgIGVudHJ5dHlwZT0iYXJ0aWNsZSIsCiAgICBpc3N1ZV9kYXRlPSJTZXB0ZW1iZXIgMjAwOSIsCiAgICB2b2x1bWU9IjM0IiwKICAgIG51bWJlcj0iNSIsCiAgICBtb250aD0ib2N0IiwKICAgIGlzc249IjAxNjMtNTk0OCIsCiAgICBJRD0iRHViaW5za3k6MjAwOTpTREc6MTU5ODczMi4xNTk4NzYwIiwKICAgIGFjbT0iMSIsCiAgICBwbGFjZXg9IlNJR1NPRlQgU29mdHcuIEVuZy4gTm90ZXMiLAopKQonJycpOw==\"));\n",
       "    "
      ],
      "text/plain": [
       "<IPython.core.display.Javascript object>"
      ]
     },
     "metadata": {},
     "output_type": "display_data"
    },
    {
     "data": {
      "application/javascript": [
       "$('span:contains(\"# Temp\")').closest('.cell').remove();"
      ],
      "text/plain": [
       "<IPython.core.display.Javascript object>"
      ]
     },
     "metadata": {},
     "output_type": "display_data"
    },
    {
     "data": {
      "application/javascript": [
       "\n",
       "        $('span:contains(\"# Temp\")').closest('.cell').remove();\n",
       "        var code = IPython.notebook.insert_cell_below('code');\n",
       "        code.set_text(atob(\"IyBUZW1wCmluc2VydCgnJycKZHViaW5za3kyMDA5YSA9IERCKFdvcmtVbnJlbGF0ZWQoCiAgICAyMDA5LCAiU29mdHdhcmUgRGV2ZWxvcG1lbnQgR292ZXJuYW5jZSAoU0RHKTogUmVwb3J0IG9uIDJOZCBXb3Jrc2hvcCIsCiAgICBkaXNwbGF5PSJkdWJpbnNreSIsCiAgICBhdXRob3JzPSJEdWJpbnNreSwgWWFlbCBhbmQgS3J1Y2h0ZW4sIFBoaWxpcHBlIiwKICAgIHBsYWNlPUZBS0UsCiAgICBwcD0iNDYtLTQ3IiwKICAgIGVudHJ5dHlwZT0iYXJ0aWNsZSIsCiAgICBpc3N1ZV9kYXRlPSJTZXB0ZW1iZXIgMjAwOSIsCiAgICB2b2x1bWU9IjM0IiwKICAgIG51bWJlcj0iNSIsCiAgICBtb250aD0ib2N0IiwKICAgIGlzc249IjAxNjMtNTk0OCIsCiAgICBJRD0iRHViaW5za3k6MjAwOTpTREc6MTU5ODczMi4xNTk4NzYwIiwKICAgIGFjbT0iMSIsCiAgICBwbGFjZXg9IlNJR1NPRlQgU29mdHcuIEVuZy4gTm90ZXMiLAopKQonJycpOw==\"));\n",
       "    "
      ],
      "text/plain": [
       "<IPython.core.display.Javascript object>"
      ]
     },
     "metadata": {},
     "output_type": "display_data"
    },
    {
     "data": {
      "application/javascript": [
       "$('span:contains(\"# Temp\")').closest('.cell').remove();"
      ],
      "text/plain": [
       "<IPython.core.display.Javascript object>"
      ]
     },
     "metadata": {},
     "output_type": "display_data"
    },
    {
     "data": {
      "application/javascript": [
       "\n",
       "        $('span:contains(\"# Temp\")').closest('.cell').remove();\n",
       "        var code = IPython.notebook.insert_cell_below('code');\n",
       "        code.set_text(atob(\"IyBUZW1wCmluc2VydCgnJycKdm9zMjAxNGEgPSBEQihXb3JrVW5yZWxhdGVkKAogICAgMjAxNCwgIk1hdHJpeCBDYWxjdWx1cyBmb3IgQ2xhc3NpY2FsIGFuZCBRdWFudHVtIENpcmN1aXRzIiwKICAgIGRpc3BsYXk9InZvcyIsCiAgICBhdXRob3JzPSJEZSBWb3MsIEFsZXhpcyBhbmQgRGUgQmFlcmRlbWFja2VyLCBTdGlqbiIsCiAgICBwbGFjZT1GQUtFLAogICAgcHA9Ijk6MS0tOToxMSIsCiAgICBlbnRyeXR5cGU9ImFydGljbGUiLAogICAgaXNzdWVfZGF0ZT0iTm92ZW1iZXIgMjAxNCIsCiAgICB2b2x1bWU9IjExIiwKICAgIG51bWJlcj0iMiIsCiAgICBtb250aD0ibm92IiwKICAgIGlzc249IjE1NTAtNDgzMiIsCiAgICBJRD0iRGVWb3M6MjAxNDpNQ0M6MjY4Njc2Mi4yNjY5MzcwIiwKICAgIGFjbT0iMSIsCiAgICBwbGFjZXg9IkouIEVtZXJnLiBUZWNobm9sLiBDb21wdXQuIFN5c3QuIiwKKSkKJycnKTs=\"));\n",
       "    "
      ],
      "text/plain": [
       "<IPython.core.display.Javascript object>"
      ]
     },
     "metadata": {},
     "output_type": "display_data"
    },
    {
     "data": {
      "application/javascript": [
       "$('span:contains(\"# Temp\")').closest('.cell').remove();"
      ],
      "text/plain": [
       "<IPython.core.display.Javascript object>"
      ]
     },
     "metadata": {},
     "output_type": "display_data"
    },
    {
     "data": {
      "application/javascript": [
       "\n",
       "        $('span:contains(\"# Temp\")').closest('.cell').remove();\n",
       "        var code = IPython.notebook.insert_cell_below('code');\n",
       "        code.set_text(atob(\"IyBUZW1wCmluc2VydCgnJycKdm9zMjAxNGEgPSBEQihXb3JrVW5yZWxhdGVkKAogICAgMjAxNCwgIk1hdHJpeCBDYWxjdWx1cyBmb3IgQ2xhc3NpY2FsIGFuZCBRdWFudHVtIENpcmN1aXRzIiwKICAgIGRpc3BsYXk9InZvcyIsCiAgICBhdXRob3JzPSJEZSBWb3MsIEFsZXhpcyBhbmQgRGUgQmFlcmRlbWFja2VyLCBTdGlqbiIsCiAgICBwbGFjZT1GQUtFLAogICAgcHA9Ijk6MS0tOToxMSIsCiAgICBlbnRyeXR5cGU9ImFydGljbGUiLAogICAgaXNzdWVfZGF0ZT0iTm92ZW1iZXIgMjAxNCIsCiAgICB2b2x1bWU9IjExIiwKICAgIG51bWJlcj0iMiIsCiAgICBtb250aD0ibm92IiwKICAgIGlzc249IjE1NTAtNDgzMiIsCiAgICBJRD0iRGVWb3M6MjAxNDpNQ0M6MjY4Njc2Mi4yNjY5MzcwIiwKICAgIGFjbT0iMSIsCiAgICBwbGFjZXg9IkouIEVtZXJnLiBUZWNobm9sLiBDb21wdXQuIFN5c3QuIiwKKSkKJycnKTs=\"));\n",
       "    "
      ],
      "text/plain": [
       "<IPython.core.display.Javascript object>"
      ]
     },
     "metadata": {},
     "output_type": "display_data"
    },
    {
     "data": {
      "application/javascript": [
       "$('span:contains(\"# Temp\")').closest('.cell').remove();"
      ],
      "text/plain": [
       "<IPython.core.display.Javascript object>"
      ]
     },
     "metadata": {},
     "output_type": "display_data"
    },
    {
     "data": {
      "application/javascript": [
       "\n",
       "        $('span:contains(\"# Temp\")').closest('.cell').remove();\n",
       "        var code = IPython.notebook.insert_cell_below('code');\n",
       "        code.set_text(atob(\"IyBUZW1wCmluc2VydCgnJycKY2hlbmcyMDA4YSA9IERCKFdvcmtVbnJlbGF0ZWQoCiAgICAyMDA4LCAiU2VtaS1zdXBlcnZpc2VkIExlYXJuaW5nIHdpdGggRGF0YSBDYWxpYnJhdGlvbiBmb3IgTG9uZy10ZXJtIFRpbWUgU2VyaWVzIEZvcmVjYXN0aW5nIiwKICAgIGRpc3BsYXk9ImNoZW5nIiwKICAgIGF1dGhvcnM9IkNoZW5nLCBIYWliaW4gYW5kIFRhbiwgUGFuZy1OaW5nIiwKICAgIHBsYWNlPUZBS0UsCiAgICBwcD0iMTMzLS0xNDEiLAogICAgZW50cnl0eXBlPSJpbnByb2NlZWRpbmdzIiwKICAgIHNlcmllcz0iS0REICcwOCIsCiAgICBpc2JuPSI5NzgtMS02MDU1OC0xOTMtNCIsCiAgICBsb2NhdGlvbj0iTGFzIFZlZ2FzLCBOZXZhZGEsIFVTQSIsCiAgICBJRD0iQ2hlbmc6MjAwODpTTEQ6MTQwMTg5MC4xNDAxOTExIiwKICAgIGFjbT0iMSIsCiAgICBwbGFjZXg9IlByb2NlZWRpbmdzIG9mIHRoZSAxNHRoIEFDTSBTSUdLREQgSW50ZXJuYXRpb25hbCBDb25mZXJlbmNlIG9uIEtub3dsZWRnZSBEaXNjb3ZlcnkgYW5kIERhdGEgTWluaW5nIiwKKSkKJycnKTs=\"));\n",
       "    "
      ],
      "text/plain": [
       "<IPython.core.display.Javascript object>"
      ]
     },
     "metadata": {},
     "output_type": "display_data"
    },
    {
     "data": {
      "application/javascript": [
       "$('span:contains(\"# Temp\")').closest('.cell').remove();"
      ],
      "text/plain": [
       "<IPython.core.display.Javascript object>"
      ]
     },
     "metadata": {},
     "output_type": "display_data"
    },
    {
     "data": {
      "application/javascript": [
       "\n",
       "        $('span:contains(\"# Temp\")').closest('.cell').remove();\n",
       "        var code = IPython.notebook.insert_cell_below('code');\n",
       "        code.set_text(atob(\"IyBUZW1wCmluc2VydCgnJycKY2hlbmcyMDA4YSA9IERCKFdvcmtVbnJlbGF0ZWQoCiAgICAyMDA4LCAiU2VtaS1zdXBlcnZpc2VkIExlYXJuaW5nIHdpdGggRGF0YSBDYWxpYnJhdGlvbiBmb3IgTG9uZy10ZXJtIFRpbWUgU2VyaWVzIEZvcmVjYXN0aW5nIiwKICAgIGRpc3BsYXk9ImNoZW5nIiwKICAgIGF1dGhvcnM9IkNoZW5nLCBIYWliaW4gYW5kIFRhbiwgUGFuZy1OaW5nIiwKICAgIHBsYWNlPUZBS0UsCiAgICBwcD0iMTMzLS0xNDEiLAogICAgZW50cnl0eXBlPSJpbnByb2NlZWRpbmdzIiwKICAgIHNlcmllcz0iS0REICcwOCIsCiAgICBpc2JuPSI5NzgtMS02MDU1OC0xOTMtNCIsCiAgICBsb2NhdGlvbj0iTGFzIFZlZ2FzLCBOZXZhZGEsIFVTQSIsCiAgICBJRD0iQ2hlbmc6MjAwODpTTEQ6MTQwMTg5MC4xNDAxOTExIiwKICAgIGFjbT0iMSIsCiAgICBwbGFjZXg9IlByb2NlZWRpbmdzIG9mIHRoZSAxNHRoIEFDTSBTSUdLREQgSW50ZXJuYXRpb25hbCBDb25mZXJlbmNlIG9uIEtub3dsZWRnZSBEaXNjb3ZlcnkgYW5kIERhdGEgTWluaW5nIiwKKSkKJycnKTs=\"));\n",
       "    "
      ],
      "text/plain": [
       "<IPython.core.display.Javascript object>"
      ]
     },
     "metadata": {},
     "output_type": "display_data"
    },
    {
     "data": {
      "application/javascript": [
       "$('span:contains(\"# Temp\")').closest('.cell').remove();"
      ],
      "text/plain": [
       "<IPython.core.display.Javascript object>"
      ]
     },
     "metadata": {},
     "output_type": "display_data"
    },
    {
     "data": {
      "application/javascript": [
       "\n",
       "        $('span:contains(\"# Temp\")').closest('.cell').remove();\n",
       "        var code = IPython.notebook.insert_cell_below('code');\n",
       "        code.set_text(atob(\"IyBUZW1wCmluc2VydCgnJycKamFhbnVzMjAxMmEgPSBEQihXb3JrVW5yZWxhdGVkKAogICAgMjAxMiwgIkR5bmFtaWMgYW5kIFN0YWJpbGl6aW5nIEZvcmNlcyBpbiBLbm93bGVkZ2UgT3JnYW5pemF0aW9uIFN5c3RlbXMgZm9yIEJ1c2luZXNzIEVjb3N5c3RlbXMiLAogICAgZGlzcGxheT0iamFhbnVzIiwKICAgIGF1dGhvcnM9IkphYW51cywgSvZyZ2VuIGFuZCBMZXksIFRvYmlhcyIsCiAgICBwbGFjZT1GQUtFLAogICAgcHA9IjI3OjEtLTI3OjQiLAogICAgZW50cnl0eXBlPSJpbnByb2NlZWRpbmdzIiwKICAgIHNlcmllcz0iaS1LTk9XICcxMiIsCiAgICBpc2JuPSI5NzgtMS00NTAzLTEyNDItNCIsCiAgICBsb2NhdGlvbj0iR3JheiwgQXVzdHJpYSIsCiAgICBJRD0iSmFhbnVzOjIwMTI6RFNGOjIzNjI0NTYuMjM2MjQ5MSIsCiAgICBhY209IjEiLAogICAgcGxhY2V4PSJQcm9jZWVkaW5ncyBvZiB0aGUgMTJ0aCBJbnRlcm5hdGlvbmFsIENvbmZlcmVuY2Ugb24gS25vd2xlZGdlIE1hbmFnZW1lbnQgYW5kIEtub3dsZWRnZSBUZWNobm9sb2dpZXMiLAopKQonJycpOw==\"));\n",
       "    "
      ],
      "text/plain": [
       "<IPython.core.display.Javascript object>"
      ]
     },
     "metadata": {},
     "output_type": "display_data"
    },
    {
     "data": {
      "application/javascript": [
       "$('span:contains(\"# Temp\")').closest('.cell').remove();"
      ],
      "text/plain": [
       "<IPython.core.display.Javascript object>"
      ]
     },
     "metadata": {},
     "output_type": "display_data"
    },
    {
     "data": {
      "application/javascript": [
       "\n",
       "        $('span:contains(\"# Temp\")').closest('.cell').remove();\n",
       "        var code = IPython.notebook.insert_cell_below('code');\n",
       "        code.set_text(atob(\"IyBUZW1wCmluc2VydCgnJycKamFhbnVzMjAxMmEgPSBEQihXb3JrVW5yZWxhdGVkKAogICAgMjAxMiwgIkR5bmFtaWMgYW5kIFN0YWJpbGl6aW5nIEZvcmNlcyBpbiBLbm93bGVkZ2UgT3JnYW5pemF0aW9uIFN5c3RlbXMgZm9yIEJ1c2luZXNzIEVjb3N5c3RlbXMiLAogICAgZGlzcGxheT0iamFhbnVzIiwKICAgIGF1dGhvcnM9IkphYW51cywgSvZyZ2VuIGFuZCBMZXksIFRvYmlhcyIsCiAgICBwbGFjZT1GQUtFLAogICAgcHA9IjI3OjEtLTI3OjQiLAogICAgZW50cnl0eXBlPSJpbnByb2NlZWRpbmdzIiwKICAgIHNlcmllcz0iaS1LTk9XICcxMiIsCiAgICBpc2JuPSI5NzgtMS00NTAzLTEyNDItNCIsCiAgICBsb2NhdGlvbj0iR3JheiwgQXVzdHJpYSIsCiAgICBJRD0iSmFhbnVzOjIwMTI6RFNGOjIzNjI0NTYuMjM2MjQ5MSIsCiAgICBhY209IjEiLAogICAgcGxhY2V4PSJQcm9jZWVkaW5ncyBvZiB0aGUgMTJ0aCBJbnRlcm5hdGlvbmFsIENvbmZlcmVuY2Ugb24gS25vd2xlZGdlIE1hbmFnZW1lbnQgYW5kIEtub3dsZWRnZSBUZWNobm9sb2dpZXMiLAopKQonJycpOw==\"));\n",
       "    "
      ],
      "text/plain": [
       "<IPython.core.display.Javascript object>"
      ]
     },
     "metadata": {},
     "output_type": "display_data"
    },
    {
     "data": {
      "application/javascript": [
       "$('span:contains(\"# Temp\")').closest('.cell').remove();"
      ],
      "text/plain": [
       "<IPython.core.display.Javascript object>"
      ]
     },
     "metadata": {},
     "output_type": "display_data"
    },
    {
     "data": {
      "application/javascript": [
       "\n",
       "        $('span:contains(\"# Temp\")').closest('.cell').remove();\n",
       "        var code = IPython.notebook.insert_cell_below('code');\n",
       "        code.set_text(atob(\"IyBUZW1wCmluc2VydCgnJycKbGl1MjAxNWEgPSBEQihXb3JrVW5yZWxhdGVkKAogICAgMjAxNSwgIkFjaGlldmluZyBIaWdoIFRocm91Z2hwdXQgYW5kIExvdyBEZWxheSBpbiBNb2JpbGUgRGF0YSBOZXR3b3JrcyBieSBBY2N1cmF0ZWx5IFByZWRpY3RpbmcgUXVldWUgTGVuZ3RocyIsCiAgICBkaXNwbGF5PSJsaXUiLAogICAgYXV0aG9ycz0iTGl1LCBLZSBhbmQgTGVlLCBKYWNrIFkuIEIuIiwKICAgIHBsYWNlPUZBS0UsCiAgICBwcD0iMjA6MS0tMjA6OCIsCiAgICBlbnRyeXR5cGU9ImlucHJvY2VlZGluZ3MiLAogICAgc2VyaWVzPSJDRiAnMTUiLAogICAgaXNibj0iOTc4LTEtNDUwMy0zMzU4LTAiLAogICAgbG9jYXRpb249IklzY2hpYSwgSXRhbHkiLAogICAgSUQ9IkxpdToyMDE1OkFIVDoyNzQyODU0LjI3NDI4NzUiLAogICAgYWNtPSIxIiwKICAgIHBsYWNleD0iUHJvY2VlZGluZ3Mgb2YgdGhlIDEydGggQUNNIEludGVybmF0aW9uYWwgQ29uZmVyZW5jZSBvbiBDb21wdXRpbmcgRnJvbnRpZXJzIiwKKSkKJycnKTs=\"));\n",
       "    "
      ],
      "text/plain": [
       "<IPython.core.display.Javascript object>"
      ]
     },
     "metadata": {},
     "output_type": "display_data"
    },
    {
     "data": {
      "application/javascript": [
       "$('span:contains(\"# Temp\")').closest('.cell').remove();"
      ],
      "text/plain": [
       "<IPython.core.display.Javascript object>"
      ]
     },
     "metadata": {},
     "output_type": "display_data"
    },
    {
     "data": {
      "application/javascript": [
       "\n",
       "        $('span:contains(\"# Temp\")').closest('.cell').remove();\n",
       "        var code = IPython.notebook.insert_cell_below('code');\n",
       "        code.set_text(atob(\"IyBUZW1wCmluc2VydCgnJycKbGl1MjAxNWEgPSBEQihXb3JrVW5yZWxhdGVkKAogICAgMjAxNSwgIkFjaGlldmluZyBIaWdoIFRocm91Z2hwdXQgYW5kIExvdyBEZWxheSBpbiBNb2JpbGUgRGF0YSBOZXR3b3JrcyBieSBBY2N1cmF0ZWx5IFByZWRpY3RpbmcgUXVldWUgTGVuZ3RocyIsCiAgICBkaXNwbGF5PSJsaXUiLAogICAgYXV0aG9ycz0iTGl1LCBLZSBhbmQgTGVlLCBKYWNrIFkuIEIuIiwKICAgIHBsYWNlPUZBS0UsCiAgICBwcD0iMjA6MS0tMjA6OCIsCiAgICBlbnRyeXR5cGU9ImlucHJvY2VlZGluZ3MiLAogICAgc2VyaWVzPSJDRiAnMTUiLAogICAgaXNibj0iOTc4LTEtNDUwMy0zMzU4LTAiLAogICAgbG9jYXRpb249IklzY2hpYSwgSXRhbHkiLAogICAgSUQ9IkxpdToyMDE1OkFIVDoyNzQyODU0LjI3NDI4NzUiLAogICAgYWNtPSIxIiwKICAgIHBsYWNleD0iUHJvY2VlZGluZ3Mgb2YgdGhlIDEydGggQUNNIEludGVybmF0aW9uYWwgQ29uZmVyZW5jZSBvbiBDb21wdXRpbmcgRnJvbnRpZXJzIiwKKSkKJycnKTs=\"));\n",
       "    "
      ],
      "text/plain": [
       "<IPython.core.display.Javascript object>"
      ]
     },
     "metadata": {},
     "output_type": "display_data"
    },
    {
     "data": {
      "application/javascript": [
       "$('span:contains(\"# Temp\")').closest('.cell').remove();"
      ],
      "text/plain": [
       "<IPython.core.display.Javascript object>"
      ]
     },
     "metadata": {},
     "output_type": "display_data"
    },
    {
     "data": {
      "application/javascript": [
       "\n",
       "        $('span:contains(\"# Temp\")').closest('.cell').remove();\n",
       "        var code = IPython.notebook.insert_cell_below('code');\n",
       "        code.set_text(atob(\"IyBUZW1wCmluc2VydCgnJycKY2FudG9yMjAxMWEgPSBEQihXb3JrVW5yZWxhdGVkKAogICAgMjAxMSwgIkNhbGN1bGF0aW5nIGFuZCBJbXByb3ZpbmcgUk9JIGluIFNvZnR3YXJlIGFuZCBTeXN0ZW0gUHJvZ3JhbXMiLAogICAgZGlzcGxheT0iY2FudG9yIiwKICAgIGF1dGhvcnM9IkNhbnRvciwgTXVycmF5IiwKICAgIHBsYWNlPUZBS0UsCiAgICBwcD0iMTIxLS0xMzAiLAogICAgZW50cnl0eXBlPSJhcnRpY2xlIiwKICAgIGlzc3VlX2RhdGU9IlNlcHRlbWJlciAyMDExIiwKICAgIHZvbHVtZT0iNTQiLAogICAgbnVtYmVyPSI5IiwKICAgIG1vbnRoPSJzZXAiLAogICAgaXNzbj0iMDAwMS0wNzgyIiwKICAgIElEPSJDYW50b3I6MjAxMTpDSVI6MTk5NTM3Ni4xOTk1NDA0IiwKICAgIGFjbT0iMSIsCiAgICBwbGFjZXg9IkNvbW11bi4gQUNNIiwKKSkKJycnKTs=\"));\n",
       "    "
      ],
      "text/plain": [
       "<IPython.core.display.Javascript object>"
      ]
     },
     "metadata": {},
     "output_type": "display_data"
    },
    {
     "data": {
      "application/javascript": [
       "$('span:contains(\"# Temp\")').closest('.cell').remove();"
      ],
      "text/plain": [
       "<IPython.core.display.Javascript object>"
      ]
     },
     "metadata": {},
     "output_type": "display_data"
    },
    {
     "data": {
      "application/javascript": [
       "\n",
       "        $('span:contains(\"# Temp\")').closest('.cell').remove();\n",
       "        var code = IPython.notebook.insert_cell_below('code');\n",
       "        code.set_text(atob(\"IyBUZW1wCmluc2VydCgnJycKY2FudG9yMjAxMWEgPSBEQihXb3JrVW5yZWxhdGVkKAogICAgMjAxMSwgIkNhbGN1bGF0aW5nIGFuZCBJbXByb3ZpbmcgUk9JIGluIFNvZnR3YXJlIGFuZCBTeXN0ZW0gUHJvZ3JhbXMiLAogICAgZGlzcGxheT0iY2FudG9yIiwKICAgIGF1dGhvcnM9IkNhbnRvciwgTXVycmF5IiwKICAgIHBsYWNlPUZBS0UsCiAgICBwcD0iMTIxLS0xMzAiLAogICAgZW50cnl0eXBlPSJhcnRpY2xlIiwKICAgIGlzc3VlX2RhdGU9IlNlcHRlbWJlciAyMDExIiwKICAgIHZvbHVtZT0iNTQiLAogICAgbnVtYmVyPSI5IiwKICAgIG1vbnRoPSJzZXAiLAogICAgaXNzbj0iMDAwMS0wNzgyIiwKICAgIElEPSJDYW50b3I6MjAxMTpDSVI6MTk5NTM3Ni4xOTk1NDA0IiwKICAgIGFjbT0iMSIsCiAgICBwbGFjZXg9IkNvbW11bi4gQUNNIiwKKSkKJycnKTs=\"));\n",
       "    "
      ],
      "text/plain": [
       "<IPython.core.display.Javascript object>"
      ]
     },
     "metadata": {},
     "output_type": "display_data"
    },
    {
     "data": {
      "application/javascript": [
       "$('span:contains(\"# Temp\")').closest('.cell').remove();"
      ],
      "text/plain": [
       "<IPython.core.display.Javascript object>"
      ]
     },
     "metadata": {},
     "output_type": "display_data"
    },
    {
     "data": {
      "application/javascript": [
       "\n",
       "        $('span:contains(\"# Temp\")').closest('.cell').remove();\n",
       "        var code = IPython.notebook.insert_cell_below('code');\n",
       "        code.set_text(atob(\"IyBUZW1wCmluc2VydCgnJycKYm9zY2gyMDE0YSA9IERCKFdvcmtVbnJlbGF0ZWQoCiAgICAyMDE0LCAiRVNBTzogVG93YXJkcyBEYXRhLSBhbmQgRWNvc3lzdGVtLWRyaXZlbiBSJiMzODtEIiwKICAgIGRpc3BsYXk9ImJvc2NoIiwKICAgIGF1dGhvcnM9IkJvc2NoLCBKYW4iLAogICAgcGxhY2U9RkFLRSwKICAgIHBwPSIzNjMtLTM2MyIsCiAgICBlbnRyeXR5cGU9ImlucHJvY2VlZGluZ3MiLAogICAgc2VyaWVzPSJTUExDICcxNCIsCiAgICBpc2JuPSI5NzgtMS00NTAzLTI3NDAtNCIsCiAgICBsb2NhdGlvbj0iRmxvcmVuY2UsIEl0YWx5IiwKICAgIElEPSJCb3NjaDoyMDE0OkVURDoyNjQ4NTExLjI2NDg1NjAiLAogICAgYWNtPSIxIiwKICAgIHBsYWNleD0iUHJvY2VlZGluZ3Mgb2YgdGhlIDE4dGggSW50ZXJuYXRpb25hbCBTb2Z0d2FyZSBQcm9kdWN0IExpbmUgQ29uZmVyZW5jZSAtIFZvbHVtZSAxIiwKKSkKJycnKTs=\"));\n",
       "    "
      ],
      "text/plain": [
       "<IPython.core.display.Javascript object>"
      ]
     },
     "metadata": {},
     "output_type": "display_data"
    },
    {
     "data": {
      "application/javascript": [
       "$('span:contains(\"# Temp\")').closest('.cell').remove();"
      ],
      "text/plain": [
       "<IPython.core.display.Javascript object>"
      ]
     },
     "metadata": {},
     "output_type": "display_data"
    },
    {
     "data": {
      "application/javascript": [
       "\n",
       "        $('span:contains(\"# Temp\")').closest('.cell').remove();\n",
       "        var code = IPython.notebook.insert_cell_below('code');\n",
       "        code.set_text(atob(\"IyBUZW1wCmluc2VydCgnJycKYm9zY2gyMDE0YSA9IERCKFdvcmtVbnJlbGF0ZWQoCiAgICAyMDE0LCAiRVNBTzogVG93YXJkcyBEYXRhLSBhbmQgRWNvc3lzdGVtLWRyaXZlbiBSJiMzODtEIiwKICAgIGRpc3BsYXk9ImJvc2NoIiwKICAgIGF1dGhvcnM9IkJvc2NoLCBKYW4iLAogICAgcGxhY2U9RkFLRSwKICAgIHBwPSIzNjMtLTM2MyIsCiAgICBlbnRyeXR5cGU9ImlucHJvY2VlZGluZ3MiLAogICAgc2VyaWVzPSJTUExDICcxNCIsCiAgICBpc2JuPSI5NzgtMS00NTAzLTI3NDAtNCIsCiAgICBsb2NhdGlvbj0iRmxvcmVuY2UsIEl0YWx5IiwKICAgIElEPSJCb3NjaDoyMDE0OkVURDoyNjQ4NTExLjI2NDg1NjAiLAogICAgYWNtPSIxIiwKICAgIHBsYWNleD0iUHJvY2VlZGluZ3Mgb2YgdGhlIDE4dGggSW50ZXJuYXRpb25hbCBTb2Z0d2FyZSBQcm9kdWN0IExpbmUgQ29uZmVyZW5jZSAtIFZvbHVtZSAxIiwKKSkKJycnKTs=\"));\n",
       "    "
      ],
      "text/plain": [
       "<IPython.core.display.Javascript object>"
      ]
     },
     "metadata": {},
     "output_type": "display_data"
    },
    {
     "data": {
      "application/javascript": [
       "$('span:contains(\"# Temp\")').closest('.cell').remove();"
      ],
      "text/plain": [
       "<IPython.core.display.Javascript object>"
      ]
     },
     "metadata": {},
     "output_type": "display_data"
    },
    {
     "data": {
      "application/javascript": [
       "\n",
       "        $('span:contains(\"# Temp\")').closest('.cell').remove();\n",
       "        var code = IPython.notebook.insert_cell_below('code');\n",
       "        code.set_text(atob(\"IyBUZW1wCmluc2VydCgnJycKcmFtbmFuaTIwMTRhID0gREIoV29ya1VucmVsYXRlZCgKICAgIDIwMTQsICJBIE1vZGVsIHRvIEluY29ycG9yYXRlIEVtb3Rpb25hbCBTZW5zaXRpdml0eSBpbnRvIEh1bWFuIENvbXB1dGVyIEludGVyYWN0aW9ucyIsCiAgICBkaXNwbGF5PSJyYW1uYW5pIiwKICAgIGF1dGhvcnM9IlJhbW5hbmksIFN3ZWV0eSBhbmQgR29ydGhpLCBSYXZpIFByYWthc2giLAogICAgcGxhY2U9RkFLRSwKICAgIHBwPSIyNS0tMzAiLAogICAgZW50cnl0eXBlPSJpbnByb2NlZWRpbmdzIiwKICAgIHNlcmllcz0iRVJNNEhDSSAnMTQiLAogICAgaXNibj0iOTc4LTEtNDUwMy0wMTI0LTQiLAogICAgbG9jYXRpb249IklzdGFuYnVsLCBUdXJrZXkiLAogICAgSUQ9IlJhbW5hbmk6MjAxNDpNSUU6MjY2ODA1Ni4yNjY4MDU5IiwKICAgIGFjbT0iMSIsCiAgICBwbGFjZXg9IlByb2NlZWRpbmdzIG9mIHRoZSAyMDE0IFdvcmtzaG9wIG9uIEVtb3Rpb24gUmVwcmVzZW50YXRpb24gYW5kIE1vZGVsbGluZyBpbiBIdW1hbi1Db21wdXRlci1JbnRlcmFjdGlvbi1TeXN0ZW1zIiwKKSkKJycnKTs=\"));\n",
       "    "
      ],
      "text/plain": [
       "<IPython.core.display.Javascript object>"
      ]
     },
     "metadata": {},
     "output_type": "display_data"
    },
    {
     "data": {
      "application/javascript": [
       "$('span:contains(\"# Temp\")').closest('.cell').remove();"
      ],
      "text/plain": [
       "<IPython.core.display.Javascript object>"
      ]
     },
     "metadata": {},
     "output_type": "display_data"
    },
    {
     "data": {
      "application/javascript": [
       "\n",
       "        $('span:contains(\"# Temp\")').closest('.cell').remove();\n",
       "        var code = IPython.notebook.insert_cell_below('code');\n",
       "        code.set_text(atob(\"IyBUZW1wCmluc2VydCgnJycKcmFtbmFuaTIwMTRhID0gREIoV29ya1VucmVsYXRlZCgKICAgIDIwMTQsICJBIE1vZGVsIHRvIEluY29ycG9yYXRlIEVtb3Rpb25hbCBTZW5zaXRpdml0eSBpbnRvIEh1bWFuIENvbXB1dGVyIEludGVyYWN0aW9ucyIsCiAgICBkaXNwbGF5PSJyYW1uYW5pIiwKICAgIGF1dGhvcnM9IlJhbW5hbmksIFN3ZWV0eSBhbmQgR29ydGhpLCBSYXZpIFByYWthc2giLAogICAgcGxhY2U9RkFLRSwKICAgIHBwPSIyNS0tMzAiLAogICAgZW50cnl0eXBlPSJpbnByb2NlZWRpbmdzIiwKICAgIHNlcmllcz0iRVJNNEhDSSAnMTQiLAogICAgaXNibj0iOTc4LTEtNDUwMy0wMTI0LTQiLAogICAgbG9jYXRpb249IklzdGFuYnVsLCBUdXJrZXkiLAogICAgSUQ9IlJhbW5hbmk6MjAxNDpNSUU6MjY2ODA1Ni4yNjY4MDU5IiwKICAgIGFjbT0iMSIsCiAgICBwbGFjZXg9IlByb2NlZWRpbmdzIG9mIHRoZSAyMDE0IFdvcmtzaG9wIG9uIEVtb3Rpb24gUmVwcmVzZW50YXRpb24gYW5kIE1vZGVsbGluZyBpbiBIdW1hbi1Db21wdXRlci1JbnRlcmFjdGlvbi1TeXN0ZW1zIiwKKSkKJycnKTs=\"));\n",
       "    "
      ],
      "text/plain": [
       "<IPython.core.display.Javascript object>"
      ]
     },
     "metadata": {},
     "output_type": "display_data"
    },
    {
     "data": {
      "application/javascript": [
       "$('span:contains(\"# Temp\")').closest('.cell').remove();"
      ],
      "text/plain": [
       "<IPython.core.display.Javascript object>"
      ]
     },
     "metadata": {},
     "output_type": "display_data"
    },
    {
     "data": {
      "application/javascript": [
       "\n",
       "        $('span:contains(\"# Temp\")').closest('.cell').remove();\n",
       "        var code = IPython.notebook.insert_cell_below('code');\n",
       "        code.set_text(atob(\"IyBUZW1wCmluc2VydCgnJycKa3JlbW1lbDIwMTBhID0gREIoV29ya1VucmVsYXRlZCgKICAgIDIwMTAsICJNdWx0aW9iamVjdGl2ZSBFdm9sdXRpb25hcnkgQWxnb3JpdGhtIGZvciBTb2Z0d2FyZSBQcm9qZWN0IFBvcnRmb2xpbyBPcHRpbWl6YXRpb24iLAogICAgZGlzcGxheT0ia3JlbW1lbCIsCiAgICBhdXRob3JzPSJLcmVtbWVsLCBUaG9tYXMgYW5kIEt1YmFsaWssIEppP+0gYW5kIEJpZmZsLCBTdGVmYW4iLAogICAgcGxhY2U9RkFLRSwKICAgIHBwPSIxMzg5LS0xMzkwIiwKICAgIGVudHJ5dHlwZT0iaW5wcm9jZWVkaW5ncyIsCiAgICBzZXJpZXM9IkdFQ0NPICcxMCIsCiAgICBpc2JuPSI5NzgtMS00NTAzLTAwNzItOCIsCiAgICBsb2NhdGlvbj0iUG9ydGxhbmQsIE9yZWdvbiwgVVNBIiwKICAgIElEPSJLcmVtbWVsOjIwMTA6TUVBOjE4MzA0ODMuMTgzMDczOCIsCiAgICBhY209IjEiLAogICAgcGxhY2V4PSJQcm9jZWVkaW5ncyBvZiB0aGUgMTJ0aCBBbm51YWwgQ29uZmVyZW5jZSBvbiBHZW5ldGljIGFuZCBFdm9sdXRpb25hcnkgQ29tcHV0YXRpb24iLAopKQonJycpOw==\"));\n",
       "    "
      ],
      "text/plain": [
       "<IPython.core.display.Javascript object>"
      ]
     },
     "metadata": {},
     "output_type": "display_data"
    },
    {
     "data": {
      "application/javascript": [
       "$('span:contains(\"# Temp\")').closest('.cell').remove();"
      ],
      "text/plain": [
       "<IPython.core.display.Javascript object>"
      ]
     },
     "metadata": {},
     "output_type": "display_data"
    },
    {
     "data": {
      "application/javascript": [
       "\n",
       "        $('span:contains(\"# Temp\")').closest('.cell').remove();\n",
       "        var code = IPython.notebook.insert_cell_below('code');\n",
       "        code.set_text(atob(\"IyBUZW1wCmluc2VydCgnJycKa3JlbW1lbDIwMTBhID0gREIoV29ya1VucmVsYXRlZCgKICAgIDIwMTAsICJNdWx0aW9iamVjdGl2ZSBFdm9sdXRpb25hcnkgQWxnb3JpdGhtIGZvciBTb2Z0d2FyZSBQcm9qZWN0IFBvcnRmb2xpbyBPcHRpbWl6YXRpb24iLAogICAgZGlzcGxheT0ia3JlbW1lbCIsCiAgICBhdXRob3JzPSJLcmVtbWVsLCBUaG9tYXMgYW5kIEt1YmFsaWssIEppP+0gYW5kIEJpZmZsLCBTdGVmYW4iLAogICAgcGxhY2U9RkFLRSwKICAgIHBwPSIxMzg5LS0xMzkwIiwKICAgIGVudHJ5dHlwZT0iaW5wcm9jZWVkaW5ncyIsCiAgICBzZXJpZXM9IkdFQ0NPICcxMCIsCiAgICBpc2JuPSI5NzgtMS00NTAzLTAwNzItOCIsCiAgICBsb2NhdGlvbj0iUG9ydGxhbmQsIE9yZWdvbiwgVVNBIiwKICAgIElEPSJLcmVtbWVsOjIwMTA6TUVBOjE4MzA0ODMuMTgzMDczOCIsCiAgICBhY209IjEiLAogICAgcGxhY2V4PSJQcm9jZWVkaW5ncyBvZiB0aGUgMTJ0aCBBbm51YWwgQ29uZmVyZW5jZSBvbiBHZW5ldGljIGFuZCBFdm9sdXRpb25hcnkgQ29tcHV0YXRpb24iLAopKQonJycpOw==\"));\n",
       "    "
      ],
      "text/plain": [
       "<IPython.core.display.Javascript object>"
      ]
     },
     "metadata": {},
     "output_type": "display_data"
    },
    {
     "data": {
      "application/javascript": [
       "$('span:contains(\"# Temp\")').closest('.cell').remove();"
      ],
      "text/plain": [
       "<IPython.core.display.Javascript object>"
      ]
     },
     "metadata": {},
     "output_type": "display_data"
    },
    {
     "data": {
      "application/javascript": [
       "\n",
       "        $('span:contains(\"# Temp\")').closest('.cell').remove();\n",
       "        var code = IPython.notebook.insert_cell_below('code');\n",
       "        code.set_text(atob(\"IyBUZW1wCmluc2VydCgnJycKZWxsaW90dDIwMTNhID0gREIoV29ya1VucmVsYXRlZCgKICAgIDIwMTMsICJBIE5ldHdvcmsgQXBwcm9hY2ggdG8gUHVibGljIEdvb2RzIiwKICAgIGRpc3BsYXk9ImVsbGlvdHQiLAogICAgYXV0aG9ycz0iRWxsaW90dCwgTWF0dGhldyBhbmQgR29sdWIsIEJlbmphbWluIiwKICAgIHBsYWNlPUZBS0UsCiAgICBwcD0iMzc3LS0zNzgiLAogICAgZW50cnl0eXBlPSJpbnByb2NlZWRpbmdzIiwKICAgIHNlcmllcz0iRUMgJzEzIiwKICAgIGlzYm49Ijk3OC0xLTQ1MDMtMTk2Mi0xIiwKICAgIGxvY2F0aW9uPSJQaGlsYWRlbHBoaWEsIFBlbm5zeWx2YW5pYSwgVVNBIiwKICAgIElEPSJFbGxpb3R0OjIwMTM6TkFQOjI0OTIwMDIuMjQ4MjU1NiIsCiAgICBhY209IjEiLAogICAgcGxhY2V4PSJQcm9jZWVkaW5ncyBvZiB0aGUgRm91cnRlZW50aCBBQ00gQ29uZmVyZW5jZSBvbiBFbGVjdHJvbmljIENvbW1lcmNlIiwKKSkKJycnKTs=\"));\n",
       "    "
      ],
      "text/plain": [
       "<IPython.core.display.Javascript object>"
      ]
     },
     "metadata": {},
     "output_type": "display_data"
    },
    {
     "data": {
      "application/javascript": [
       "$('span:contains(\"# Temp\")').closest('.cell').remove();"
      ],
      "text/plain": [
       "<IPython.core.display.Javascript object>"
      ]
     },
     "metadata": {},
     "output_type": "display_data"
    },
    {
     "data": {
      "application/javascript": [
       "\n",
       "        $('span:contains(\"# Temp\")').closest('.cell').remove();\n",
       "        var code = IPython.notebook.insert_cell_below('code');\n",
       "        code.set_text(atob(\"IyBUZW1wCmluc2VydCgnJycKZWxsaW90dDIwMTNhID0gREIoV29ya1VucmVsYXRlZCgKICAgIDIwMTMsICJBIE5ldHdvcmsgQXBwcm9hY2ggdG8gUHVibGljIEdvb2RzIiwKICAgIGRpc3BsYXk9ImVsbGlvdHQiLAogICAgYXV0aG9ycz0iRWxsaW90dCwgTWF0dGhldyBhbmQgR29sdWIsIEJlbmphbWluIiwKICAgIHBsYWNlPUZBS0UsCiAgICBwcD0iMzc3LS0zNzgiLAogICAgZW50cnl0eXBlPSJpbnByb2NlZWRpbmdzIiwKICAgIHNlcmllcz0iRUMgJzEzIiwKICAgIGlzYm49Ijk3OC0xLTQ1MDMtMTk2Mi0xIiwKICAgIGxvY2F0aW9uPSJQaGlsYWRlbHBoaWEsIFBlbm5zeWx2YW5pYSwgVVNBIiwKICAgIElEPSJFbGxpb3R0OjIwMTM6TkFQOjI0OTIwMDIuMjQ4MjU1NiIsCiAgICBhY209IjEiLAogICAgcGxhY2V4PSJQcm9jZWVkaW5ncyBvZiB0aGUgRm91cnRlZW50aCBBQ00gQ29uZmVyZW5jZSBvbiBFbGVjdHJvbmljIENvbW1lcmNlIiwKKSkKJycnKTs=\"));\n",
       "    "
      ],
      "text/plain": [
       "<IPython.core.display.Javascript object>"
      ]
     },
     "metadata": {},
     "output_type": "display_data"
    },
    {
     "data": {
      "application/javascript": [
       "$('span:contains(\"# Temp\")').closest('.cell').remove();"
      ],
      "text/plain": [
       "<IPython.core.display.Javascript object>"
      ]
     },
     "metadata": {},
     "output_type": "display_data"
    },
    {
     "data": {
      "application/javascript": [
       "\n",
       "        $('span:contains(\"# Temp\")').closest('.cell').remove();\n",
       "        var code = IPython.notebook.insert_cell_below('code');\n",
       "        code.set_text(atob(\"IyBUZW1wCmluc2VydCgnJycKc2hlYXJkMjAwMmEgPSBEQihXb3JrVW5yZWxhdGVkKAogICAgMjAwMiwgIkNoZWF0aW5nIGFuZCBQbGFnaWFyaXNtOiBQZXJjZXB0aW9ucyBhbmQgUHJhY3RpY2VzIG9mIEZpcnN0IFllYXIgSVQgU3R1ZGVudHMiLAogICAgZGlzcGxheT0ic2hlYXJkIiwKICAgIGF1dGhvcnM9IlNoZWFyZCwgSnVkeSBhbmQgRGljaywgTWFydGluIGFuZCBNYXJraGFtLCBTZWxieSBhbmQgTWFjZG9uYWxkLCBJYW4gYW5kIFdhbHNoLCBNZWFnaGFuIiwKICAgIHBsYWNlPUZBS0UsCiAgICBwcD0iMTgzLS0xODciLAogICAgZW50cnl0eXBlPSJhcnRpY2xlIiwKICAgIGlzc3VlX2RhdGU9IlNlcHRlbWJlciAyMDAyIiwKICAgIHZvbHVtZT0iMzQiLAogICAgbnVtYmVyPSIzIiwKICAgIG1vbnRoPSJqdW4iLAogICAgaXNzbj0iMDA5Ny04NDE4IiwKICAgIElEPSJTaGVhcmQ6MjAwMjpDUFA6NjM3NjEwLjU0NDQ2OCIsCiAgICBhY209IjEiLAogICAgcGxhY2V4PSJTSUdDU0UgQnVsbC4iLAopKQonJycpOw==\"));\n",
       "    "
      ],
      "text/plain": [
       "<IPython.core.display.Javascript object>"
      ]
     },
     "metadata": {},
     "output_type": "display_data"
    },
    {
     "data": {
      "application/javascript": [
       "$('span:contains(\"# Temp\")').closest('.cell').remove();"
      ],
      "text/plain": [
       "<IPython.core.display.Javascript object>"
      ]
     },
     "metadata": {},
     "output_type": "display_data"
    },
    {
     "data": {
      "application/javascript": [
       "\n",
       "        $('span:contains(\"# Temp\")').closest('.cell').remove();\n",
       "        var code = IPython.notebook.insert_cell_below('code');\n",
       "        code.set_text(atob(\"IyBUZW1wCmluc2VydCgnJycKc2hlYXJkMjAwMmEgPSBEQihXb3JrVW5yZWxhdGVkKAogICAgMjAwMiwgIkNoZWF0aW5nIGFuZCBQbGFnaWFyaXNtOiBQZXJjZXB0aW9ucyBhbmQgUHJhY3RpY2VzIG9mIEZpcnN0IFllYXIgSVQgU3R1ZGVudHMiLAogICAgZGlzcGxheT0ic2hlYXJkIiwKICAgIGF1dGhvcnM9IlNoZWFyZCwgSnVkeSBhbmQgRGljaywgTWFydGluIGFuZCBNYXJraGFtLCBTZWxieSBhbmQgTWFjZG9uYWxkLCBJYW4gYW5kIFdhbHNoLCBNZWFnaGFuIiwKICAgIHBsYWNlPUZBS0UsCiAgICBwcD0iMTgzLS0xODciLAogICAgZW50cnl0eXBlPSJhcnRpY2xlIiwKICAgIGlzc3VlX2RhdGU9IlNlcHRlbWJlciAyMDAyIiwKICAgIHZvbHVtZT0iMzQiLAogICAgbnVtYmVyPSIzIiwKICAgIG1vbnRoPSJqdW4iLAogICAgaXNzbj0iMDA5Ny04NDE4IiwKICAgIElEPSJTaGVhcmQ6MjAwMjpDUFA6NjM3NjEwLjU0NDQ2OCIsCiAgICBhY209IjEiLAogICAgcGxhY2V4PSJTSUdDU0UgQnVsbC4iLAopKQonJycpOw==\"));\n",
       "    "
      ],
      "text/plain": [
       "<IPython.core.display.Javascript object>"
      ]
     },
     "metadata": {},
     "output_type": "display_data"
    },
    {
     "data": {
      "application/javascript": [
       "$('span:contains(\"# Temp\")').closest('.cell').remove();"
      ],
      "text/plain": [
       "<IPython.core.display.Javascript object>"
      ]
     },
     "metadata": {},
     "output_type": "display_data"
    },
    {
     "data": {
      "application/javascript": [
       "\n",
       "        $('span:contains(\"# Temp\")').closest('.cell').remove();\n",
       "        var code = IPython.notebook.insert_cell_below('code');\n",
       "        code.set_text(atob(\"IyBUZW1wCmluc2VydCgnJycnJycpOwpzZXRfYXR0cmlidXRlKCdzaGVhcmQyMDAyYScsICdzZXJpZXMnLCAnSVRpQ1NFICcwMicpOwpzZXRfYXR0cmlidXRlKCdzaGVhcmQyMDAyYScsICdpc2JuJywgJzEtNTgxMTMtNDk5LTEnKTsKc2V0X2F0dHJpYnV0ZSgnc2hlYXJkMjAwMmEnLCAnbG9jYXRpb24nLCAnQWFyaHVzLCBEZW5tYXJrJyk7\"));\n",
       "    "
      ],
      "text/plain": [
       "<IPython.core.display.Javascript object>"
      ]
     },
     "metadata": {},
     "output_type": "display_data"
    },
    {
     "data": {
      "application/javascript": [
       "$('span:contains(\"# Temp\")').closest('.cell').remove();"
      ],
      "text/plain": [
       "<IPython.core.display.Javascript object>"
      ]
     },
     "metadata": {},
     "output_type": "display_data"
    },
    {
     "data": {
      "application/javascript": [
       "\n",
       "        $('span:contains(\"# Temp\")').closest('.cell').remove();\n",
       "        var code = IPython.notebook.insert_cell_below('code');\n",
       "        code.set_text(atob(\"IyBUZW1wCmluc2VydCgnJycnJycpOwpzZXRfYXR0cmlidXRlKCdzaGVhcmQyMDAyYScsICdzZXJpZXMnLCAnSVRpQ1NFICcwMicpOwpzZXRfYXR0cmlidXRlKCdzaGVhcmQyMDAyYScsICdpc2JuJywgJzEtNTgxMTMtNDk5LTEnKTsKc2V0X2F0dHJpYnV0ZSgnc2hlYXJkMjAwMmEnLCAnbG9jYXRpb24nLCAnQWFyaHVzLCBEZW5tYXJrJyk7\"));\n",
       "    "
      ],
      "text/plain": [
       "<IPython.core.display.Javascript object>"
      ]
     },
     "metadata": {},
     "output_type": "display_data"
    },
    {
     "data": {
      "application/javascript": [
       "$('span:contains(\"# Temp\")').closest('.cell').remove();"
      ],
      "text/plain": [
       "<IPython.core.display.Javascript object>"
      ]
     },
     "metadata": {},
     "output_type": "display_data"
    },
    {
     "data": {
      "application/javascript": [
       "\n",
       "        $('span:contains(\"# Temp\")').closest('.cell').remove();\n",
       "        var code = IPython.notebook.insert_cell_below('code');\n",
       "        code.set_text(atob(\"IyBUZW1wCmluc2VydCgnJycKY2FldGFubzIwMDVhID0gREIoV29ya1VucmVsYXRlZCgKICAgIDIwMDUsICJVc2luZyBSb2xlcyBhbmQgQnVzaW5lc3MgT2JqZWN0cyB0byBNb2RlbCBhbmQgVW5kZXJzdGFuZCBCdXNpbmVzcyBQcm9jZXNzZXMiLAogICAgZGlzcGxheT0iY2FldGFubyIsCiAgICBhdXRob3JzPSJDYWV0YW5vLCBBcnR1ciBhbmQgU2lsdmEsIEFudG9uaW8gUml08yBhbmQgVHJpYm9sZXQsIEpvc+kiLAogICAgcGxhY2U9RkFLRSwKICAgIHBwPSIxMzA4LS0xMzEzIiwKICAgIGVudHJ5dHlwZT0iaW5wcm9jZWVkaW5ncyIsCiAgICBzZXJpZXM9IlNBQyAnMDUiLAogICAgaXNibj0iMS01ODExMy05NjQtMCIsCiAgICBsb2NhdGlvbj0iU2FudGEgRmUsIE5ldyBNZXhpY28iLAogICAgSUQ9IkNhZXRhbm86MjAwNTpVUkI6MTA2NjY3Ny4xMDY2OTczIiwKICAgIGFjbT0iMSIsCiAgICBwbGFjZXg9IlByb2NlZWRpbmdzIG9mIHRoZSAyMDA1IEFDTSBTeW1wb3NpdW0gb24gQXBwbGllZCBDb21wdXRpbmciLAopKQonJycpOw==\"));\n",
       "    "
      ],
      "text/plain": [
       "<IPython.core.display.Javascript object>"
      ]
     },
     "metadata": {},
     "output_type": "display_data"
    },
    {
     "data": {
      "application/javascript": [
       "$('span:contains(\"# Temp\")').closest('.cell').remove();"
      ],
      "text/plain": [
       "<IPython.core.display.Javascript object>"
      ]
     },
     "metadata": {},
     "output_type": "display_data"
    },
    {
     "data": {
      "application/javascript": [
       "\n",
       "        $('span:contains(\"# Temp\")').closest('.cell').remove();\n",
       "        var code = IPython.notebook.insert_cell_below('code');\n",
       "        code.set_text(atob(\"IyBUZW1wCmluc2VydCgnJycKY2FldGFubzIwMDVhID0gREIoV29ya1VucmVsYXRlZCgKICAgIDIwMDUsICJVc2luZyBSb2xlcyBhbmQgQnVzaW5lc3MgT2JqZWN0cyB0byBNb2RlbCBhbmQgVW5kZXJzdGFuZCBCdXNpbmVzcyBQcm9jZXNzZXMiLAogICAgZGlzcGxheT0iY2FldGFubyIsCiAgICBhdXRob3JzPSJDYWV0YW5vLCBBcnR1ciBhbmQgU2lsdmEsIEFudG9uaW8gUml08yBhbmQgVHJpYm9sZXQsIEpvc+kiLAogICAgcGxhY2U9RkFLRSwKICAgIHBwPSIxMzA4LS0xMzEzIiwKICAgIGVudHJ5dHlwZT0iaW5wcm9jZWVkaW5ncyIsCiAgICBzZXJpZXM9IlNBQyAnMDUiLAogICAgaXNibj0iMS01ODExMy05NjQtMCIsCiAgICBsb2NhdGlvbj0iU2FudGEgRmUsIE5ldyBNZXhpY28iLAogICAgSUQ9IkNhZXRhbm86MjAwNTpVUkI6MTA2NjY3Ny4xMDY2OTczIiwKICAgIGFjbT0iMSIsCiAgICBwbGFjZXg9IlByb2NlZWRpbmdzIG9mIHRoZSAyMDA1IEFDTSBTeW1wb3NpdW0gb24gQXBwbGllZCBDb21wdXRpbmciLAopKQonJycpOw==\"));\n",
       "    "
      ],
      "text/plain": [
       "<IPython.core.display.Javascript object>"
      ]
     },
     "metadata": {},
     "output_type": "display_data"
    },
    {
     "data": {
      "application/javascript": [
       "$('span:contains(\"# Temp\")').closest('.cell').remove();"
      ],
      "text/plain": [
       "<IPython.core.display.Javascript object>"
      ]
     },
     "metadata": {},
     "output_type": "display_data"
    },
    {
     "data": {
      "application/javascript": [
       "\n",
       "        $('span:contains(\"# Temp\")').closest('.cell').remove();\n",
       "        var code = IPython.notebook.insert_cell_below('code');\n",
       "        code.set_text(atob(\"IyBUZW1wCmluc2VydCgnJycKYmFybjIwMTNhID0gREIoV29ya1VucmVsYXRlZCgKICAgIDIwMTMsICJFbnRlcnByaXNlIEFyY2hpdGVjdHVyZSBDb2hlcmVuY2UgYW5kIHRoZSBNb2RlbCBEcml2ZW4gRW50ZXJwcmlzZTogSXMgU2ltdWxhdGlvbiB0aGUgQW5zd2VyIG9yIEFyZSBXZSBGbHlpbmcgS2l0ZXM/IiwKICAgIGRpc3BsYXk9ImJhcm4iLAogICAgYXV0aG9ycz0iQmFybiwgQmFsYmlyIFMuIGFuZCBDbGFyaywgVG9ueSBhbmQgTG9vbWVzLCBNYXJ0aW4iLAogICAgcGxhY2U9U0VDLAogICAgcHA9Ijk3LS0xMDIiLAogICAgZW50cnl0eXBlPSJpbnByb2NlZWRpbmdzIiwKICAgIHNlcmllcz0iSVNFQyAnMTMiLAogICAgaXNibj0iOTc4LTEtNDUwMy0xOTg3LTQiLAogICAgbG9jYXRpb249Ik5ldyBEZWxoaSwgSW5kaWEiLAogICAgSUQ9IkJhcm46MjAxMzpFQUM6MjQ0Mjc1NC4yNDQyNzY5IiwKICAgIGFjbT0iMSIsCiAgICBwbGFjZXg9IlByb2NlZWRpbmdzIG9mIHRoZSA2dGggSW5kaWEgU29mdHdhcmUgRW5naW5lZXJpbmcgQ29uZmVyZW5jZSIsCikpCicnJyk7\"));\n",
       "    "
      ],
      "text/plain": [
       "<IPython.core.display.Javascript object>"
      ]
     },
     "metadata": {},
     "output_type": "display_data"
    },
    {
     "data": {
      "application/javascript": [
       "$('span:contains(\"# Temp\")').closest('.cell').remove();"
      ],
      "text/plain": [
       "<IPython.core.display.Javascript object>"
      ]
     },
     "metadata": {},
     "output_type": "display_data"
    },
    {
     "data": {
      "application/javascript": [
       "\n",
       "        $('span:contains(\"# Temp\")').closest('.cell').remove();\n",
       "        var code = IPython.notebook.insert_cell_below('code');\n",
       "        code.set_text(atob(\"IyBUZW1wCmluc2VydCgnJycKYmFybjIwMTNhID0gREIoV29ya1VucmVsYXRlZCgKICAgIDIwMTMsICJFbnRlcnByaXNlIEFyY2hpdGVjdHVyZSBDb2hlcmVuY2UgYW5kIHRoZSBNb2RlbCBEcml2ZW4gRW50ZXJwcmlzZTogSXMgU2ltdWxhdGlvbiB0aGUgQW5zd2VyIG9yIEFyZSBXZSBGbHlpbmcgS2l0ZXM/IiwKICAgIGRpc3BsYXk9ImJhcm4iLAogICAgYXV0aG9ycz0iQmFybiwgQmFsYmlyIFMuIGFuZCBDbGFyaywgVG9ueSBhbmQgTG9vbWVzLCBNYXJ0aW4iLAogICAgcGxhY2U9U0VDLAogICAgcHA9Ijk3LS0xMDIiLAogICAgZW50cnl0eXBlPSJpbnByb2NlZWRpbmdzIiwKICAgIHNlcmllcz0iSVNFQyAnMTMiLAogICAgaXNibj0iOTc4LTEtNDUwMy0xOTg3LTQiLAogICAgbG9jYXRpb249Ik5ldyBEZWxoaSwgSW5kaWEiLAogICAgSUQ9IkJhcm46MjAxMzpFQUM6MjQ0Mjc1NC4yNDQyNzY5IiwKICAgIGFjbT0iMSIsCiAgICBwbGFjZXg9IlByb2NlZWRpbmdzIG9mIHRoZSA2dGggSW5kaWEgU29mdHdhcmUgRW5naW5lZXJpbmcgQ29uZmVyZW5jZSIsCikpCicnJyk7\"));\n",
       "    "
      ],
      "text/plain": [
       "<IPython.core.display.Javascript object>"
      ]
     },
     "metadata": {},
     "output_type": "display_data"
    },
    {
     "data": {
      "application/javascript": [
       "$('span:contains(\"# Temp\")').closest('.cell').remove();"
      ],
      "text/plain": [
       "<IPython.core.display.Javascript object>"
      ]
     },
     "metadata": {},
     "output_type": "display_data"
    },
    {
     "data": {
      "application/javascript": [
       "\n",
       "        $('span:contains(\"# Temp\")').closest('.cell').remove();\n",
       "        var code = IPython.notebook.insert_cell_below('code');\n",
       "        code.set_text(atob(\"IyBUZW1wCmluc2VydCgnJycKZ3UyMDEzYSA9IERCKFdvcmtVbnJlbGF0ZWQoCiAgICAyMDEzLCAiRWZmaWNpZW50IE1vbWVudCBFc3RpbWF0aW9uIHdpdGggRXh0cmVtZWx5IFNtYWxsIFNhbXBsZSBTaXplIHZpYSBCYXllc2lhbiBJbmZlcmVuY2UgZm9yIEFuYWxvZy9NaXhlZC1zaWduYWwgVmFsaWRhdGlvbiIsCiAgICBkaXNwbGF5PSJndSIsCiAgICBhdXRob3JzPSJHdSwgQ2hlbmppZSBhbmQgQ2hpcHJvdXQsIEVsaSBhbmQgTGksIFhpbiIsCiAgICBwbGFjZT1GQUtFLAogICAgcHA9IjY1OjEtLTY1OjciLAogICAgZW50cnl0eXBlPSJpbnByb2NlZWRpbmdzIiwKICAgIHNlcmllcz0iREFDICcxMyIsCiAgICBpc2JuPSI5NzgtMS00NTAzLTIwNzEtOSIsCiAgICBsb2NhdGlvbj0iQXVzdGluLCBUZXhhcyIsCiAgICBJRD0iR3U6MjAxMzpFTUU6MjQ2MzIwOS4yNDg4ODEzIiwKICAgIGFjbT0iMSIsCiAgICBwbGFjZXg9IlByb2NlZWRpbmdzIG9mIHRoZSA1MHRoIEFubnVhbCBEZXNpZ24gQXV0b21hdGlvbiBDb25mZXJlbmNlIiwKKSkKJycnKTs=\"));\n",
       "    "
      ],
      "text/plain": [
       "<IPython.core.display.Javascript object>"
      ]
     },
     "metadata": {},
     "output_type": "display_data"
    },
    {
     "data": {
      "application/javascript": [
       "$('span:contains(\"# Temp\")').closest('.cell').remove();"
      ],
      "text/plain": [
       "<IPython.core.display.Javascript object>"
      ]
     },
     "metadata": {},
     "output_type": "display_data"
    },
    {
     "data": {
      "application/javascript": [
       "\n",
       "        $('span:contains(\"# Temp\")').closest('.cell').remove();\n",
       "        var code = IPython.notebook.insert_cell_below('code');\n",
       "        code.set_text(atob(\"IyBUZW1wCmluc2VydCgnJycKZ3UyMDEzYSA9IERCKFdvcmtVbnJlbGF0ZWQoCiAgICAyMDEzLCAiRWZmaWNpZW50IE1vbWVudCBFc3RpbWF0aW9uIHdpdGggRXh0cmVtZWx5IFNtYWxsIFNhbXBsZSBTaXplIHZpYSBCYXllc2lhbiBJbmZlcmVuY2UgZm9yIEFuYWxvZy9NaXhlZC1zaWduYWwgVmFsaWRhdGlvbiIsCiAgICBkaXNwbGF5PSJndSIsCiAgICBhdXRob3JzPSJHdSwgQ2hlbmppZSBhbmQgQ2hpcHJvdXQsIEVsaSBhbmQgTGksIFhpbiIsCiAgICBwbGFjZT1GQUtFLAogICAgcHA9IjY1OjEtLTY1OjciLAogICAgZW50cnl0eXBlPSJpbnByb2NlZWRpbmdzIiwKICAgIHNlcmllcz0iREFDICcxMyIsCiAgICBpc2JuPSI5NzgtMS00NTAzLTIwNzEtOSIsCiAgICBsb2NhdGlvbj0iQXVzdGluLCBUZXhhcyIsCiAgICBJRD0iR3U6MjAxMzpFTUU6MjQ2MzIwOS4yNDg4ODEzIiwKICAgIGFjbT0iMSIsCiAgICBwbGFjZXg9IlByb2NlZWRpbmdzIG9mIHRoZSA1MHRoIEFubnVhbCBEZXNpZ24gQXV0b21hdGlvbiBDb25mZXJlbmNlIiwKKSkKJycnKTs=\"));\n",
       "    "
      ],
      "text/plain": [
       "<IPython.core.display.Javascript object>"
      ]
     },
     "metadata": {},
     "output_type": "display_data"
    },
    {
     "data": {
      "application/javascript": [
       "$('span:contains(\"# Temp\")').closest('.cell').remove();"
      ],
      "text/plain": [
       "<IPython.core.display.Javascript object>"
      ]
     },
     "metadata": {},
     "output_type": "display_data"
    },
    {
     "data": {
      "application/javascript": [
       "\n",
       "        $('span:contains(\"# Temp\")').closest('.cell').remove();\n",
       "        var code = IPython.notebook.insert_cell_below('code');\n",
       "        code.set_text(atob(\"IyBUZW1wCmluc2VydCgnJycKcmVpdGJhdWVyMjAwOGEgPSBEQihXb3JrVW5yZWxhdGVkKAogICAgMjAwOCwgIlJlZGVzaWduaW5nIEJ1c2luZXNzIE5ldHdvcmtzOiBSZWZlcmVuY2UgUHJvY2VzcywgTmV0d29yayBhbmQgU2VydmljZSBNYXAiLAogICAgZGlzcGxheT0icmVpdGJhdWVyIiwKICAgIGF1dGhvcnM9IlJlaXRiYXVlciwgU3RlZmFuIGFuZCBLb2hsbWFubiwgRmFsayBhbmQgRWNrZXJ0LCBDbGVtZW5zIGFuZCBNYW5zZmVsZHQsIEtlbiBhbmQgQWx0LCBSYWluZXIiLAogICAgcGxhY2U9RkFLRSwKICAgIHBwPSI1NDAtLTU0NyIsCiAgICBlbnRyeXR5cGU9ImlucHJvY2VlZGluZ3MiLAogICAgc2VyaWVzPSJTQUMgJzA4IiwKICAgIGlzYm49Ijk3OC0xLTU5NTkzLTc1My03IiwKICAgIGxvY2F0aW9uPSJGb3J0YWxlemEsIENlYXJhLCBCcmF6aWwiLAogICAgSUQ9IlJlaXRiYXVlcjoyMDA4OlJCTjoxMzYzNjg2LjEzNjM4MTkiLAogICAgYWNtPSIxIiwKICAgIHBsYWNleD0iUHJvY2VlZGluZ3Mgb2YgdGhlIDIwMDggQUNNIFN5bXBvc2l1bSBvbiBBcHBsaWVkIENvbXB1dGluZyIsCikpCicnJyk7\"));\n",
       "    "
      ],
      "text/plain": [
       "<IPython.core.display.Javascript object>"
      ]
     },
     "metadata": {},
     "output_type": "display_data"
    },
    {
     "data": {
      "application/javascript": [
       "$('span:contains(\"# Temp\")').closest('.cell').remove();"
      ],
      "text/plain": [
       "<IPython.core.display.Javascript object>"
      ]
     },
     "metadata": {},
     "output_type": "display_data"
    },
    {
     "data": {
      "application/javascript": [
       "\n",
       "        $('span:contains(\"# Temp\")').closest('.cell').remove();\n",
       "        var code = IPython.notebook.insert_cell_below('code');\n",
       "        code.set_text(atob(\"IyBUZW1wCmluc2VydCgnJycKcmVpdGJhdWVyMjAwOGEgPSBEQihXb3JrVW5yZWxhdGVkKAogICAgMjAwOCwgIlJlZGVzaWduaW5nIEJ1c2luZXNzIE5ldHdvcmtzOiBSZWZlcmVuY2UgUHJvY2VzcywgTmV0d29yayBhbmQgU2VydmljZSBNYXAiLAogICAgZGlzcGxheT0icmVpdGJhdWVyIiwKICAgIGF1dGhvcnM9IlJlaXRiYXVlciwgU3RlZmFuIGFuZCBLb2hsbWFubiwgRmFsayBhbmQgRWNrZXJ0LCBDbGVtZW5zIGFuZCBNYW5zZmVsZHQsIEtlbiBhbmQgQWx0LCBSYWluZXIiLAogICAgcGxhY2U9RkFLRSwKICAgIHBwPSI1NDAtLTU0NyIsCiAgICBlbnRyeXR5cGU9ImlucHJvY2VlZGluZ3MiLAogICAgc2VyaWVzPSJTQUMgJzA4IiwKICAgIGlzYm49Ijk3OC0xLTU5NTkzLTc1My03IiwKICAgIGxvY2F0aW9uPSJGb3J0YWxlemEsIENlYXJhLCBCcmF6aWwiLAogICAgSUQ9IlJlaXRiYXVlcjoyMDA4OlJCTjoxMzYzNjg2LjEzNjM4MTkiLAogICAgYWNtPSIxIiwKICAgIHBsYWNleD0iUHJvY2VlZGluZ3Mgb2YgdGhlIDIwMDggQUNNIFN5bXBvc2l1bSBvbiBBcHBsaWVkIENvbXB1dGluZyIsCikpCicnJyk7\"));\n",
       "    "
      ],
      "text/plain": [
       "<IPython.core.display.Javascript object>"
      ]
     },
     "metadata": {},
     "output_type": "display_data"
    },
    {
     "data": {
      "application/javascript": [
       "$('span:contains(\"# Temp\")').closest('.cell').remove();"
      ],
      "text/plain": [
       "<IPython.core.display.Javascript object>"
      ]
     },
     "metadata": {},
     "output_type": "display_data"
    },
    {
     "data": {
      "application/javascript": [
       "\n",
       "        $('span:contains(\"# Temp\")').closest('.cell').remove();\n",
       "        var code = IPython.notebook.insert_cell_below('code');\n",
       "        code.set_text(atob(\"IyBUZW1wCmluc2VydCgnJycKeW91bjIwMTRhID0gREIoV29ya1VucmVsYXRlZCgKICAgIDIwMTQsICJQcm9iYWJpbGlzdGljIEJ1ZyBMb2NhbGl6YXRpb24gdmlhIFN0YXRpc3RpY2FsIEluZmVyZW5jZSBCYXNlZCBvbiBQYXJ0aWFsbHkgT2JzZXJ2ZWQgRGF0YSIsCiAgICBkaXNwbGF5PSJ5b3VuIiwKICAgIGF1dGhvcnM9IllvdW4sIFNhbmdobyBhbmQgR3UsIENoZW5qaWUgYW5kIEtpbSwgSmFlaGEiLAogICAgcGxhY2U9RkFLRSwKICAgIHBwPSIxMjA6MS0tMTIwOjYiLAogICAgZW50cnl0eXBlPSJpbnByb2NlZWRpbmdzIiwKICAgIHNlcmllcz0iREFDICcxNCIsCiAgICBpc2JuPSI5NzgtMS00NTAzLTI3MzAtNSIsCiAgICBsb2NhdGlvbj0iU2FuIEZyYW5jaXNjbywgQ0EsIFVTQSIsCiAgICBJRD0iWW91bjoyMDE0OlBCTDoyNTkzMDY5LjI1OTMxOTAiLAogICAgYWNtPSIxIiwKICAgIHBsYWNleD0iUHJvY2VlZGluZ3Mgb2YgdGhlIDUxc3QgQW5udWFsIERlc2lnbiBBdXRvbWF0aW9uIENvbmZlcmVuY2UiLAopKQonJycpOw==\"));\n",
       "    "
      ],
      "text/plain": [
       "<IPython.core.display.Javascript object>"
      ]
     },
     "metadata": {},
     "output_type": "display_data"
    },
    {
     "data": {
      "application/javascript": [
       "$('span:contains(\"# Temp\")').closest('.cell').remove();"
      ],
      "text/plain": [
       "<IPython.core.display.Javascript object>"
      ]
     },
     "metadata": {},
     "output_type": "display_data"
    },
    {
     "data": {
      "application/javascript": [
       "\n",
       "        $('span:contains(\"# Temp\")').closest('.cell').remove();\n",
       "        var code = IPython.notebook.insert_cell_below('code');\n",
       "        code.set_text(atob(\"IyBUZW1wCmluc2VydCgnJycKeW91bjIwMTRhID0gREIoV29ya1VucmVsYXRlZCgKICAgIDIwMTQsICJQcm9iYWJpbGlzdGljIEJ1ZyBMb2NhbGl6YXRpb24gdmlhIFN0YXRpc3RpY2FsIEluZmVyZW5jZSBCYXNlZCBvbiBQYXJ0aWFsbHkgT2JzZXJ2ZWQgRGF0YSIsCiAgICBkaXNwbGF5PSJ5b3VuIiwKICAgIGF1dGhvcnM9IllvdW4sIFNhbmdobyBhbmQgR3UsIENoZW5qaWUgYW5kIEtpbSwgSmFlaGEiLAogICAgcGxhY2U9RkFLRSwKICAgIHBwPSIxMjA6MS0tMTIwOjYiLAogICAgZW50cnl0eXBlPSJpbnByb2NlZWRpbmdzIiwKICAgIHNlcmllcz0iREFDICcxNCIsCiAgICBpc2JuPSI5NzgtMS00NTAzLTI3MzAtNSIsCiAgICBsb2NhdGlvbj0iU2FuIEZyYW5jaXNjbywgQ0EsIFVTQSIsCiAgICBJRD0iWW91bjoyMDE0OlBCTDoyNTkzMDY5LjI1OTMxOTAiLAogICAgYWNtPSIxIiwKICAgIHBsYWNleD0iUHJvY2VlZGluZ3Mgb2YgdGhlIDUxc3QgQW5udWFsIERlc2lnbiBBdXRvbWF0aW9uIENvbmZlcmVuY2UiLAopKQonJycpOw==\"));\n",
       "    "
      ],
      "text/plain": [
       "<IPython.core.display.Javascript object>"
      ]
     },
     "metadata": {},
     "output_type": "display_data"
    },
    {
     "data": {
      "application/javascript": [
       "$('span:contains(\"# Temp\")').closest('.cell').remove();"
      ],
      "text/plain": [
       "<IPython.core.display.Javascript object>"
      ]
     },
     "metadata": {},
     "output_type": "display_data"
    },
    {
     "data": {
      "application/javascript": [
       "\n",
       "        $('span:contains(\"# Temp\")').closest('.cell').remove();\n",
       "        var code = IPython.notebook.insert_cell_below('code');\n",
       "        code.set_text(atob(\"IyBUZW1wCmluc2VydCgnJycKZ2hhbHkyMDExYSA9IERCKFdvcmtVbnJlbGF0ZWQoCiAgICAyMDExLCAiR1BTLXRhZ2dlZCBJbWFnZXMgRGVmaW5lIHRoZSBUcmFpbCBvZiBhbiBJbnRlcmRpc2NpcGxpbmFyeSBNaW5pdGVybSBpbiBFZ3lwdCIsCiAgICBkaXNwbGF5PSJnaGFseSIsCiAgICBhdXRob3JzPSJHaGFseSwgQXNocmFmIiwKICAgIHBsYWNlPUZBS0UsCiAgICBwcD0iNTA6MS0tNTA6MiIsCiAgICBlbnRyeXR5cGU9ImlucHJvY2VlZGluZ3MiLAogICAgc2VyaWVzPSJDT00uR2VvICcxMSIsCiAgICBpc2JuPSI5NzgtMS00NTAzLTA2ODEtMiIsCiAgICBsb2NhdGlvbj0iV2FzaGluZ3RvbiwgREMsIFVTQSIsCiAgICBJRD0iR2hhbHk6MjAxMTpHSUQ6MTk5OTMyMC4xOTk5MzcxIiwKICAgIGFjbT0iMSIsCiAgICBwbGFjZXg9IlByb2NlZWRpbmdzIG9mIHRoZSAyTmQgSW50ZXJuYXRpb25hbCBDb25mZXJlbmNlIG9uIENvbXB1dGluZyBmb3IgR2Vvc3BhdGlhbCBSZXNlYXJjaCAmIEFwcGxpY2F0aW9ucyIsCikpCicnJyk7\"));\n",
       "    "
      ],
      "text/plain": [
       "<IPython.core.display.Javascript object>"
      ]
     },
     "metadata": {},
     "output_type": "display_data"
    },
    {
     "data": {
      "application/javascript": [
       "$('span:contains(\"# Temp\")').closest('.cell').remove();"
      ],
      "text/plain": [
       "<IPython.core.display.Javascript object>"
      ]
     },
     "metadata": {},
     "output_type": "display_data"
    },
    {
     "data": {
      "application/javascript": [
       "\n",
       "        $('span:contains(\"# Temp\")').closest('.cell').remove();\n",
       "        var code = IPython.notebook.insert_cell_below('code');\n",
       "        code.set_text(atob(\"IyBUZW1wCmluc2VydCgnJycKZ2hhbHkyMDExYSA9IERCKFdvcmtVbnJlbGF0ZWQoCiAgICAyMDExLCAiR1BTLXRhZ2dlZCBJbWFnZXMgRGVmaW5lIHRoZSBUcmFpbCBvZiBhbiBJbnRlcmRpc2NpcGxpbmFyeSBNaW5pdGVybSBpbiBFZ3lwdCIsCiAgICBkaXNwbGF5PSJnaGFseSIsCiAgICBhdXRob3JzPSJHaGFseSwgQXNocmFmIiwKICAgIHBsYWNlPUZBS0UsCiAgICBwcD0iNTA6MS0tNTA6MiIsCiAgICBlbnRyeXR5cGU9ImlucHJvY2VlZGluZ3MiLAogICAgc2VyaWVzPSJDT00uR2VvICcxMSIsCiAgICBpc2JuPSI5NzgtMS00NTAzLTA2ODEtMiIsCiAgICBsb2NhdGlvbj0iV2FzaGluZ3RvbiwgREMsIFVTQSIsCiAgICBJRD0iR2hhbHk6MjAxMTpHSUQ6MTk5OTMyMC4xOTk5MzcxIiwKICAgIGFjbT0iMSIsCiAgICBwbGFjZXg9IlByb2NlZWRpbmdzIG9mIHRoZSAyTmQgSW50ZXJuYXRpb25hbCBDb25mZXJlbmNlIG9uIENvbXB1dGluZyBmb3IgR2Vvc3BhdGlhbCBSZXNlYXJjaCAmIEFwcGxpY2F0aW9ucyIsCikpCicnJyk7\"));\n",
       "    "
      ],
      "text/plain": [
       "<IPython.core.display.Javascript object>"
      ]
     },
     "metadata": {},
     "output_type": "display_data"
    },
    {
     "data": {
      "application/javascript": [
       "$('span:contains(\"# Temp\")').closest('.cell').remove();"
      ],
      "text/plain": [
       "<IPython.core.display.Javascript object>"
      ]
     },
     "metadata": {},
     "output_type": "display_data"
    },
    {
     "data": {
      "application/javascript": [
       "\n",
       "        $('span:contains(\"# Temp\")').closest('.cell').remove();\n",
       "        var code = IPython.notebook.insert_cell_below('code');\n",
       "        code.set_text(atob(\"IyBUZW1wCmluc2VydCgnJycKamFuc3NlbjIwMDhhID0gREIoV29ya1VucmVsYXRlZCgKICAgIDIwMDgsICJUcmFuc2Zvcm1hdGlvbmFsIEdvdmVybm1lbnQ6IEJhc2ljcyBhbmQgS2V5IElzc3VlcyIsCiAgICBkaXNwbGF5PSJqYW5zc2VuIiwKICAgIGF1dGhvcnM9IkphbnNzZW4sIE1hcmlqbiBhbmQgU2h1LCBXaWxsaWFtIFMuIiwKICAgIHBsYWNlPUZBS0UsCiAgICBwcD0iMTE3LS0xMjIiLAogICAgZW50cnl0eXBlPSJpbnByb2NlZWRpbmdzIiwKICAgIHNlcmllcz0iSUNFR09WICcwOCIsCiAgICBpc2JuPSI5NzgtMS02MDU1OC0zODYtMCIsCiAgICBsb2NhdGlvbj0iQ2Fpcm8sIEVneXB0IiwKICAgIElEPSJKYW5zc2VuOjIwMDg6VEdCOjE1MDkwOTYuMTUwOTEyMCIsCiAgICBhY209IjEiLAogICAgcGxhY2V4PSJQcm9jZWVkaW5ncyBvZiB0aGUgMk5kIEludGVybmF0aW9uYWwgQ29uZmVyZW5jZSBvbiBUaGVvcnkgYW5kIFByYWN0aWNlIG9mIEVsZWN0cm9uaWMgR292ZXJuYW5jZSIsCikpCicnJyk7\"));\n",
       "    "
      ],
      "text/plain": [
       "<IPython.core.display.Javascript object>"
      ]
     },
     "metadata": {},
     "output_type": "display_data"
    },
    {
     "data": {
      "application/javascript": [
       "$('span:contains(\"# Temp\")').closest('.cell').remove();"
      ],
      "text/plain": [
       "<IPython.core.display.Javascript object>"
      ]
     },
     "metadata": {},
     "output_type": "display_data"
    },
    {
     "data": {
      "application/javascript": [
       "\n",
       "        $('span:contains(\"# Temp\")').closest('.cell').remove();\n",
       "        var code = IPython.notebook.insert_cell_below('code');\n",
       "        code.set_text(atob(\"IyBUZW1wCmluc2VydCgnJycKamFuc3NlbjIwMDhhID0gREIoV29ya1VucmVsYXRlZCgKICAgIDIwMDgsICJUcmFuc2Zvcm1hdGlvbmFsIEdvdmVybm1lbnQ6IEJhc2ljcyBhbmQgS2V5IElzc3VlcyIsCiAgICBkaXNwbGF5PSJqYW5zc2VuIiwKICAgIGF1dGhvcnM9IkphbnNzZW4sIE1hcmlqbiBhbmQgU2h1LCBXaWxsaWFtIFMuIiwKICAgIHBsYWNlPUZBS0UsCiAgICBwcD0iMTE3LS0xMjIiLAogICAgZW50cnl0eXBlPSJpbnByb2NlZWRpbmdzIiwKICAgIHNlcmllcz0iSUNFR09WICcwOCIsCiAgICBpc2JuPSI5NzgtMS02MDU1OC0zODYtMCIsCiAgICBsb2NhdGlvbj0iQ2Fpcm8sIEVneXB0IiwKICAgIElEPSJKYW5zc2VuOjIwMDg6VEdCOjE1MDkwOTYuMTUwOTEyMCIsCiAgICBhY209IjEiLAogICAgcGxhY2V4PSJQcm9jZWVkaW5ncyBvZiB0aGUgMk5kIEludGVybmF0aW9uYWwgQ29uZmVyZW5jZSBvbiBUaGVvcnkgYW5kIFByYWN0aWNlIG9mIEVsZWN0cm9uaWMgR292ZXJuYW5jZSIsCikpCicnJyk7\"));\n",
       "    "
      ],
      "text/plain": [
       "<IPython.core.display.Javascript object>"
      ]
     },
     "metadata": {},
     "output_type": "display_data"
    },
    {
     "data": {
      "application/javascript": [
       "$('span:contains(\"# Temp\")').closest('.cell').remove();"
      ],
      "text/plain": [
       "<IPython.core.display.Javascript object>"
      ]
     },
     "metadata": {},
     "output_type": "display_data"
    },
    {
     "data": {
      "application/javascript": [
       "\n",
       "        $('span:contains(\"# Temp\")').closest('.cell').remove();\n",
       "        var code = IPython.notebook.insert_cell_below('code');\n",
       "        code.set_text(atob(\"IyBUZW1wCmluc2VydCgnJycKbmlldGVyczIwMTRhID0gREIoV29ya1VucmVsYXRlZCgKICAgIDIwMTQsICJSYXBpZCBEZXNpZ24gTGFiczogQSBUb29sIHRvIFR1cmJvY2hhcmdlIERlc2lnbi1sZWQgSW5ub3ZhdGlvbiIsCiAgICBkaXNwbGF5PSJuaWV0ZXJzIiwKICAgIGF1dGhvcnM9Ik5pZXRlcnMsIEppbSBhbmQgVGhvbXBzb24sIENhcm9sYSBGZWxsZW56IiwKICAgIHBsYWNlPUZBS0UsCiAgICBwcD0iMTA0NS0tMTA0NiIsCiAgICBlbnRyeXR5cGU9ImlucHJvY2VlZGluZ3MiLAogICAgc2VyaWVzPSJDSEkgRUEgJzE0IiwKICAgIGlzYm49Ijk3OC0xLTQ1MDMtMjQ3NC04IiwKICAgIGxvY2F0aW9uPSJUb3JvbnRvLCBPbnRhcmlvLCBDYW5hZGEiLAogICAgSUQ9Ik5pZXRlcnM6MjAxNDpSREw6MjU1OTIwNi4yNTY3ODMxIiwKICAgIGFjbT0iMSIsCiAgICBwbGFjZXg9IkNISSAnMTQgRXh0ZW5kZWQgQWJzdHJhY3RzIG9uIEh1bWFuIEZhY3RvcnMgaW4gQ29tcHV0aW5nIFN5c3RlbXMiLAopKQonJycpOw==\"));\n",
       "    "
      ],
      "text/plain": [
       "<IPython.core.display.Javascript object>"
      ]
     },
     "metadata": {},
     "output_type": "display_data"
    },
    {
     "data": {
      "application/javascript": [
       "$('span:contains(\"# Temp\")').closest('.cell').remove();"
      ],
      "text/plain": [
       "<IPython.core.display.Javascript object>"
      ]
     },
     "metadata": {},
     "output_type": "display_data"
    },
    {
     "data": {
      "application/javascript": [
       "\n",
       "        $('span:contains(\"# Temp\")').closest('.cell').remove();\n",
       "        var code = IPython.notebook.insert_cell_below('code');\n",
       "        code.set_text(atob(\"IyBUZW1wCmluc2VydCgnJycKbmlldGVyczIwMTRhID0gREIoV29ya1VucmVsYXRlZCgKICAgIDIwMTQsICJSYXBpZCBEZXNpZ24gTGFiczogQSBUb29sIHRvIFR1cmJvY2hhcmdlIERlc2lnbi1sZWQgSW5ub3ZhdGlvbiIsCiAgICBkaXNwbGF5PSJuaWV0ZXJzIiwKICAgIGF1dGhvcnM9Ik5pZXRlcnMsIEppbSBhbmQgVGhvbXBzb24sIENhcm9sYSBGZWxsZW56IiwKICAgIHBsYWNlPUZBS0UsCiAgICBwcD0iMTA0NS0tMTA0NiIsCiAgICBlbnRyeXR5cGU9ImlucHJvY2VlZGluZ3MiLAogICAgc2VyaWVzPSJDSEkgRUEgJzE0IiwKICAgIGlzYm49Ijk3OC0xLTQ1MDMtMjQ3NC04IiwKICAgIGxvY2F0aW9uPSJUb3JvbnRvLCBPbnRhcmlvLCBDYW5hZGEiLAogICAgSUQ9Ik5pZXRlcnM6MjAxNDpSREw6MjU1OTIwNi4yNTY3ODMxIiwKICAgIGFjbT0iMSIsCiAgICBwbGFjZXg9IkNISSAnMTQgRXh0ZW5kZWQgQWJzdHJhY3RzIG9uIEh1bWFuIEZhY3RvcnMgaW4gQ29tcHV0aW5nIFN5c3RlbXMiLAopKQonJycpOw==\"));\n",
       "    "
      ],
      "text/plain": [
       "<IPython.core.display.Javascript object>"
      ]
     },
     "metadata": {},
     "output_type": "display_data"
    },
    {
     "data": {
      "application/javascript": [
       "$('span:contains(\"# Temp\")').closest('.cell').remove();"
      ],
      "text/plain": [
       "<IPython.core.display.Javascript object>"
      ]
     },
     "metadata": {},
     "output_type": "display_data"
    },
    {
     "data": {
      "application/javascript": [
       "\n",
       "        $('span:contains(\"# Temp\")').closest('.cell').remove();\n",
       "        var code = IPython.notebook.insert_cell_below('code');\n",
       "        code.set_text(atob(\"IyBUZW1wCmluc2VydCgnJycnJycpOw==\"));\n",
       "    "
      ],
      "text/plain": [
       "<IPython.core.display.Javascript object>"
      ]
     },
     "metadata": {},
     "output_type": "display_data"
    },
    {
     "data": {
      "application/javascript": [
       "$('span:contains(\"# Temp\")').closest('.cell').remove();"
      ],
      "text/plain": [
       "<IPython.core.display.Javascript object>"
      ]
     },
     "metadata": {},
     "output_type": "display_data"
    },
    {
     "data": {
      "application/javascript": [
       "\n",
       "        $('span:contains(\"# Temp\")').closest('.cell').remove();\n",
       "        var code = IPython.notebook.insert_cell_below('code');\n",
       "        code.set_text(atob(\"IyBUZW1wCmluc2VydCgnJycnJycpOw==\"));\n",
       "    "
      ],
      "text/plain": [
       "<IPython.core.display.Javascript object>"
      ]
     },
     "metadata": {},
     "output_type": "display_data"
    },
    {
     "data": {
      "application/javascript": [
       "$('span:contains(\"# Temp\")').closest('.cell').remove();"
      ],
      "text/plain": [
       "<IPython.core.display.Javascript object>"
      ]
     },
     "metadata": {},
     "output_type": "display_data"
    },
    {
     "data": {
      "application/javascript": [
       "\n",
       "        $('span:contains(\"# Temp\")').closest('.cell').remove();\n",
       "        var code = IPython.notebook.insert_cell_below('code');\n",
       "        code.set_text(atob(\"IyBUZW1wCmluc2VydCgnJycKbWFycXVlczE5ODlhID0gREIoV29ya1VucmVsYXRlZCgKICAgIDE5ODksICJFeHRlbmRpbmcgdGhlIE9wZXJhdGluZyBTeXN0ZW0gdG8gU3VwcG9ydCBhbiBPYmplY3Qtb3JpZW50ZWQgRW52aXJvbm1lbnQiLAogICAgZGlzcGxheT0ibWFycXVlcyIsCiAgICBhdXRob3JzPSJNYXJxdWVzLCBKLiBBLiBhbmQgR3VlZGVzLCBQLiIsCiAgICBwbGFjZT1GQUtFLAogICAgcHA9IjExMy0tMTIyIiwKICAgIGVudHJ5dHlwZT0iYXJ0aWNsZSIsCiAgICBpc3N1ZV9kYXRlPSJPY3QuIDE5ODkiLAogICAgdm9sdW1lPSIyNCIsCiAgICBudW1iZXI9IjEwIiwKICAgIG1vbnRoPSJzZXAiLAogICAgaXNzbj0iMDM2Mi0xMzQwIiwKICAgIElEPSJNYXJxdWVzOjE5ODk6RU9TOjc0ODc4Ljc0ODkwIiwKICAgIGFjbT0iMSIsCiAgICBwbGFjZXg9IlNJR1BMQU4gTm90LiIsCikpCicnJyk7\"));\n",
       "    "
      ],
      "text/plain": [
       "<IPython.core.display.Javascript object>"
      ]
     },
     "metadata": {},
     "output_type": "display_data"
    },
    {
     "data": {
      "application/javascript": [
       "$('span:contains(\"# Temp\")').closest('.cell').remove();"
      ],
      "text/plain": [
       "<IPython.core.display.Javascript object>"
      ]
     },
     "metadata": {},
     "output_type": "display_data"
    },
    {
     "data": {
      "application/javascript": [
       "\n",
       "        $('span:contains(\"# Temp\")').closest('.cell').remove();\n",
       "        var code = IPython.notebook.insert_cell_below('code');\n",
       "        code.set_text(atob(\"IyBUZW1wCmluc2VydCgnJycKbWFycXVlczE5ODlhID0gREIoV29ya1VucmVsYXRlZCgKICAgIDE5ODksICJFeHRlbmRpbmcgdGhlIE9wZXJhdGluZyBTeXN0ZW0gdG8gU3VwcG9ydCBhbiBPYmplY3Qtb3JpZW50ZWQgRW52aXJvbm1lbnQiLAogICAgZGlzcGxheT0ibWFycXVlcyIsCiAgICBhdXRob3JzPSJNYXJxdWVzLCBKLiBBLiBhbmQgR3VlZGVzLCBQLiIsCiAgICBwbGFjZT1GQUtFLAogICAgcHA9IjExMy0tMTIyIiwKICAgIGVudHJ5dHlwZT0iYXJ0aWNsZSIsCiAgICBpc3N1ZV9kYXRlPSJPY3QuIDE5ODkiLAogICAgdm9sdW1lPSIyNCIsCiAgICBudW1iZXI9IjEwIiwKICAgIG1vbnRoPSJzZXAiLAogICAgaXNzbj0iMDM2Mi0xMzQwIiwKICAgIElEPSJNYXJxdWVzOjE5ODk6RU9TOjc0ODc4Ljc0ODkwIiwKICAgIGFjbT0iMSIsCiAgICBwbGFjZXg9IlNJR1BMQU4gTm90LiIsCikpCicnJyk7\"));\n",
       "    "
      ],
      "text/plain": [
       "<IPython.core.display.Javascript object>"
      ]
     },
     "metadata": {},
     "output_type": "display_data"
    },
    {
     "data": {
      "application/javascript": [
       "$('span:contains(\"# Temp\")').closest('.cell').remove();"
      ],
      "text/plain": [
       "<IPython.core.display.Javascript object>"
      ]
     },
     "metadata": {},
     "output_type": "display_data"
    },
    {
     "data": {
      "application/javascript": [
       "\n",
       "        $('span:contains(\"# Temp\")').closest('.cell').remove();\n",
       "        var code = IPython.notebook.insert_cell_below('code');\n",
       "        code.set_text(atob(\"IyBUZW1wCmluc2VydCgnJycnJycpOwpzZXRfYXR0cmlidXRlKCdtYXJxdWVzMTk4OWEnLCAnc2VyaWVzJywgJ09PUFNMQSAnODknKTsKc2V0X2F0dHJpYnV0ZSgnbWFycXVlczE5ODlhJywgJ2lzYm4nLCAnMC04OTc5MS0zMzMtNycpOwpzZXRfYXR0cmlidXRlKCdtYXJxdWVzMTk4OWEnLCAnbG9jYXRpb24nLCAnTmV3IE9ybGVhbnMsIExvdWlzaWFuYSwgVVNBJyk7\"));\n",
       "    "
      ],
      "text/plain": [
       "<IPython.core.display.Javascript object>"
      ]
     },
     "metadata": {},
     "output_type": "display_data"
    },
    {
     "data": {
      "application/javascript": [
       "$('span:contains(\"# Temp\")').closest('.cell').remove();"
      ],
      "text/plain": [
       "<IPython.core.display.Javascript object>"
      ]
     },
     "metadata": {},
     "output_type": "display_data"
    },
    {
     "data": {
      "application/javascript": [
       "\n",
       "        $('span:contains(\"# Temp\")').closest('.cell').remove();\n",
       "        var code = IPython.notebook.insert_cell_below('code');\n",
       "        code.set_text(atob(\"IyBUZW1wCmluc2VydCgnJycnJycpOwpzZXRfYXR0cmlidXRlKCdtYXJxdWVzMTk4OWEnLCAnc2VyaWVzJywgJ09PUFNMQSAnODknKTsKc2V0X2F0dHJpYnV0ZSgnbWFycXVlczE5ODlhJywgJ2lzYm4nLCAnMC04OTc5MS0zMzMtNycpOwpzZXRfYXR0cmlidXRlKCdtYXJxdWVzMTk4OWEnLCAnbG9jYXRpb24nLCAnTmV3IE9ybGVhbnMsIExvdWlzaWFuYSwgVVNBJyk7\"));\n",
       "    "
      ],
      "text/plain": [
       "<IPython.core.display.Javascript object>"
      ]
     },
     "metadata": {},
     "output_type": "display_data"
    },
    {
     "data": {
      "application/javascript": [
       "$('span:contains(\"# Temp\")').closest('.cell').remove();"
      ],
      "text/plain": [
       "<IPython.core.display.Javascript object>"
      ]
     },
     "metadata": {},
     "output_type": "display_data"
    },
    {
     "data": {
      "application/javascript": [
       "\n",
       "        $('span:contains(\"# Temp\")').closest('.cell').remove();\n",
       "        var code = IPython.notebook.insert_cell_below('code');\n",
       "        code.set_text(atob(\"IyBUZW1wCmluc2VydCgnJycKbWFzaGFwYTIwMTBhID0gREIoV29ya1VucmVsYXRlZCgKICAgIDIwMTAsICJVc2VyIEV4cGVyaWVuY2UgRXZhbHVhdGlvbiBNZXRyaWNzIGZvciBVc2FibGUgQWNjb3VudGluZyBUb29scyIsCiAgICBkaXNwbGF5PSJtYXNoYXBhIiwKICAgIGF1dGhvcnM9Ik1hc2hhcGEsIEpvYiBhbmQgdmFuIEdyZXVuZW4sIERhcmVsbGUiLAogICAgcGxhY2U9RkFLRSwKICAgIHBwPSIxNzAtLTE4MSIsCiAgICBlbnRyeXR5cGU9ImlucHJvY2VlZGluZ3MiLAogICAgc2VyaWVzPSJTQUlDU0lUICcxMCIsCiAgICBpc2JuPSI5NzgtMS02MDU1OC05NTAtMyIsCiAgICBsb2NhdGlvbj0iQmVsYSBCZWxhLCBTb3V0aCBBZnJpY2EiLAogICAgSUQ9Ik1hc2hhcGE6MjAxMDpVRUU6MTg5OTUwMy4xODk5NTIyIiwKICAgIGFjbT0iMSIsCiAgICBwbGFjZXg9IlByb2NlZWRpbmdzIG9mIHRoZSAyMDEwIEFubnVhbCBSZXNlYXJjaCBDb25mZXJlbmNlIG9mIHRoZSBTb3V0aCBBZnJpY2FuIEluc3RpdHV0ZSBvZiBDb21wdXRlciBTY2llbnRpc3RzIGFuZCBJbmZvcm1hdGlvbiBUZWNobm9sb2dpc3RzIiwKKSkKJycnKTs=\"));\n",
       "    "
      ],
      "text/plain": [
       "<IPython.core.display.Javascript object>"
      ]
     },
     "metadata": {},
     "output_type": "display_data"
    },
    {
     "data": {
      "application/javascript": [
       "$('span:contains(\"# Temp\")').closest('.cell').remove();"
      ],
      "text/plain": [
       "<IPython.core.display.Javascript object>"
      ]
     },
     "metadata": {},
     "output_type": "display_data"
    },
    {
     "data": {
      "application/javascript": [
       "\n",
       "        $('span:contains(\"# Temp\")').closest('.cell').remove();\n",
       "        var code = IPython.notebook.insert_cell_below('code');\n",
       "        code.set_text(atob(\"IyBUZW1wCmluc2VydCgnJycKbWFzaGFwYTIwMTBhID0gREIoV29ya1VucmVsYXRlZCgKICAgIDIwMTAsICJVc2VyIEV4cGVyaWVuY2UgRXZhbHVhdGlvbiBNZXRyaWNzIGZvciBVc2FibGUgQWNjb3VudGluZyBUb29scyIsCiAgICBkaXNwbGF5PSJtYXNoYXBhIiwKICAgIGF1dGhvcnM9Ik1hc2hhcGEsIEpvYiBhbmQgdmFuIEdyZXVuZW4sIERhcmVsbGUiLAogICAgcGxhY2U9RkFLRSwKICAgIHBwPSIxNzAtLTE4MSIsCiAgICBlbnRyeXR5cGU9ImlucHJvY2VlZGluZ3MiLAogICAgc2VyaWVzPSJTQUlDU0lUICcxMCIsCiAgICBpc2JuPSI5NzgtMS02MDU1OC05NTAtMyIsCiAgICBsb2NhdGlvbj0iQmVsYSBCZWxhLCBTb3V0aCBBZnJpY2EiLAogICAgSUQ9Ik1hc2hhcGE6MjAxMDpVRUU6MTg5OTUwMy4xODk5NTIyIiwKICAgIGFjbT0iMSIsCiAgICBwbGFjZXg9IlByb2NlZWRpbmdzIG9mIHRoZSAyMDEwIEFubnVhbCBSZXNlYXJjaCBDb25mZXJlbmNlIG9mIHRoZSBTb3V0aCBBZnJpY2FuIEluc3RpdHV0ZSBvZiBDb21wdXRlciBTY2llbnRpc3RzIGFuZCBJbmZvcm1hdGlvbiBUZWNobm9sb2dpc3RzIiwKKSkKJycnKTs=\"));\n",
       "    "
      ],
      "text/plain": [
       "<IPython.core.display.Javascript object>"
      ]
     },
     "metadata": {},
     "output_type": "display_data"
    },
    {
     "data": {
      "application/javascript": [
       "$('span:contains(\"# Temp\")').closest('.cell').remove();"
      ],
      "text/plain": [
       "<IPython.core.display.Javascript object>"
      ]
     },
     "metadata": {},
     "output_type": "display_data"
    },
    {
     "data": {
      "application/javascript": [
       "\n",
       "        $('span:contains(\"# Temp\")').closest('.cell').remove();\n",
       "        var code = IPython.notebook.insert_cell_below('code');\n",
       "        code.set_text(atob(\"IyBUZW1wCmluc2VydCgnJycKZOl0aWVubmUyMDEwYSA9IERCKFdvcmtVbnJlbGF0ZWQoCiAgICAyMDEwLCAiV2h5IERvIFVzZXJzIENvbW11bmljYXRlIHZpYSBTdWNoIG9yIFN1Y2ggTWVkaWE/OiBTb21lIEluc2lnaHRzIGZyb20gVXNlcnMnIERhaWx5IEV4cGVyaWVuY2VzIiwKICAgIGRpc3BsYXk9ImTpdGllbm5lIiwKICAgIGF1dGhvcnM9IkTpdGllbm5lLCBGcmFu529pc2UgYW5kIENhaG91ciwgQulhdHJpY2UgYW5kIExlZmVidnJlLCBMaXYiLAogICAgcGxhY2U9RkFLRSwKICAgIHBwPSI2MjctLTYzMCIsCiAgICBlbnRyeXR5cGU9ImlucHJvY2VlZGluZ3MiLAogICAgc2VyaWVzPSJOb3JkaUNISSAnMTAiLAogICAgaXNibj0iOTc4LTEtNjA1NTgtOTM0LTMiLAogICAgbG9jYXRpb249IlJleWtqYXZpaywgSWNlbGFuZCIsCiAgICBJRD0iRGV0aWVubmU6MjAxMDpXVUM6MTg2ODkxNC4xODY4OTkwIiwKICAgIGFjbT0iMSIsCiAgICBwbGFjZXg9IlByb2NlZWRpbmdzIG9mIHRoZSA2dGggTm9yZGljIENvbmZlcmVuY2Ugb24gSHVtYW4tQ29tcHV0ZXIgSW50ZXJhY3Rpb246IEV4dGVuZGluZyBCb3VuZGFyaWVzIiwKKSkKJycnKTs=\"));\n",
       "    "
      ],
      "text/plain": [
       "<IPython.core.display.Javascript object>"
      ]
     },
     "metadata": {},
     "output_type": "display_data"
    },
    {
     "data": {
      "application/javascript": [
       "$('span:contains(\"# Temp\")').closest('.cell').remove();"
      ],
      "text/plain": [
       "<IPython.core.display.Javascript object>"
      ]
     },
     "metadata": {},
     "output_type": "display_data"
    },
    {
     "data": {
      "application/javascript": [
       "\n",
       "        $('span:contains(\"# Temp\")').closest('.cell').remove();\n",
       "        var code = IPython.notebook.insert_cell_below('code');\n",
       "        code.set_text(atob(\"IyBUZW1wCmluc2VydCgnJycKZOl0aWVubmUyMDEwYSA9IERCKFdvcmtVbnJlbGF0ZWQoCiAgICAyMDEwLCAiV2h5IERvIFVzZXJzIENvbW11bmljYXRlIHZpYSBTdWNoIG9yIFN1Y2ggTWVkaWE/OiBTb21lIEluc2lnaHRzIGZyb20gVXNlcnMnIERhaWx5IEV4cGVyaWVuY2VzIiwKICAgIGRpc3BsYXk9ImTpdGllbm5lIiwKICAgIGF1dGhvcnM9IkTpdGllbm5lLCBGcmFu529pc2UgYW5kIENhaG91ciwgQulhdHJpY2UgYW5kIExlZmVidnJlLCBMaXYiLAogICAgcGxhY2U9RkFLRSwKICAgIHBwPSI2MjctLTYzMCIsCiAgICBlbnRyeXR5cGU9ImlucHJvY2VlZGluZ3MiLAogICAgc2VyaWVzPSJOb3JkaUNISSAnMTAiLAogICAgaXNibj0iOTc4LTEtNjA1NTgtOTM0LTMiLAogICAgbG9jYXRpb249IlJleWtqYXZpaywgSWNlbGFuZCIsCiAgICBJRD0iRGV0aWVubmU6MjAxMDpXVUM6MTg2ODkxNC4xODY4OTkwIiwKICAgIGFjbT0iMSIsCiAgICBwbGFjZXg9IlByb2NlZWRpbmdzIG9mIHRoZSA2dGggTm9yZGljIENvbmZlcmVuY2Ugb24gSHVtYW4tQ29tcHV0ZXIgSW50ZXJhY3Rpb246IEV4dGVuZGluZyBCb3VuZGFyaWVzIiwKKSkKJycnKTs=\"));\n",
       "    "
      ],
      "text/plain": [
       "<IPython.core.display.Javascript object>"
      ]
     },
     "metadata": {},
     "output_type": "display_data"
    },
    {
     "data": {
      "application/javascript": [
       "$('span:contains(\"# Temp\")').closest('.cell').remove();"
      ],
      "text/plain": [
       "<IPython.core.display.Javascript object>"
      ]
     },
     "metadata": {},
     "output_type": "display_data"
    },
    {
     "data": {
      "application/javascript": [
       "\n",
       "        $('span:contains(\"# Temp\")').closest('.cell').remove();\n",
       "        var code = IPython.notebook.insert_cell_below('code');\n",
       "        code.set_text(atob(\"IyBUZW1wCmluc2VydCgnJycKZGVuZzIwMDdhID0gREIoV29ya1VucmVsYXRlZCgKICAgIDIwMDcsICJQb25nOiBEaWFnbm9zaW5nIFNwYXRpby10ZW1wb3JhbCBJbnRlcm5ldCBDb25nZXN0aW9uIFByb3BlcnRpZXMiLAogICAgZGlzcGxheT0iZGVuZyIsCiAgICBhdXRob3JzPSJEZW5nLCBMZWl3ZW4gYW5kIEt1em1hbm92aWMsIEFsZWtzYW5kYXIiLAogICAgcGxhY2U9RkFLRSwKICAgIHBwPSIzODEtLTM4MiIsCiAgICBlbnRyeXR5cGU9ImFydGljbGUiLAogICAgaXNzdWVfZGF0ZT0iSnVuZSAyMDA3IiwKICAgIHZvbHVtZT0iMzUiLAogICAgbnVtYmVyPSIxIiwKICAgIG1vbnRoPSJqdW4iLAogICAgaXNzbj0iMDE2My01OTk5IiwKICAgIElEPSJEZW5nOjIwMDc6UERTOjEyNjk4OTkuMTI1NDk0MCIsCiAgICBhY209IjEiLAogICAgcGxhY2V4PSJTSUdNRVRSSUNTIFBlcmZvcm0uIEV2YWwuIFJldi4iLAopKQonJycpOw==\"));\n",
       "    "
      ],
      "text/plain": [
       "<IPython.core.display.Javascript object>"
      ]
     },
     "metadata": {},
     "output_type": "display_data"
    },
    {
     "data": {
      "application/javascript": [
       "$('span:contains(\"# Temp\")').closest('.cell').remove();"
      ],
      "text/plain": [
       "<IPython.core.display.Javascript object>"
      ]
     },
     "metadata": {},
     "output_type": "display_data"
    },
    {
     "data": {
      "application/javascript": [
       "\n",
       "        $('span:contains(\"# Temp\")').closest('.cell').remove();\n",
       "        var code = IPython.notebook.insert_cell_below('code');\n",
       "        code.set_text(atob(\"IyBUZW1wCmluc2VydCgnJycKZGVuZzIwMDdhID0gREIoV29ya1VucmVsYXRlZCgKICAgIDIwMDcsICJQb25nOiBEaWFnbm9zaW5nIFNwYXRpby10ZW1wb3JhbCBJbnRlcm5ldCBDb25nZXN0aW9uIFByb3BlcnRpZXMiLAogICAgZGlzcGxheT0iZGVuZyIsCiAgICBhdXRob3JzPSJEZW5nLCBMZWl3ZW4gYW5kIEt1em1hbm92aWMsIEFsZWtzYW5kYXIiLAogICAgcGxhY2U9RkFLRSwKICAgIHBwPSIzODEtLTM4MiIsCiAgICBlbnRyeXR5cGU9ImFydGljbGUiLAogICAgaXNzdWVfZGF0ZT0iSnVuZSAyMDA3IiwKICAgIHZvbHVtZT0iMzUiLAogICAgbnVtYmVyPSIxIiwKICAgIG1vbnRoPSJqdW4iLAogICAgaXNzbj0iMDE2My01OTk5IiwKICAgIElEPSJEZW5nOjIwMDc6UERTOjEyNjk4OTkuMTI1NDk0MCIsCiAgICBhY209IjEiLAogICAgcGxhY2V4PSJTSUdNRVRSSUNTIFBlcmZvcm0uIEV2YWwuIFJldi4iLAopKQonJycpOw==\"));\n",
       "    "
      ],
      "text/plain": [
       "<IPython.core.display.Javascript object>"
      ]
     },
     "metadata": {},
     "output_type": "display_data"
    },
    {
     "data": {
      "application/javascript": [
       "$('span:contains(\"# Temp\")').closest('.cell').remove();"
      ],
      "text/plain": [
       "<IPython.core.display.Javascript object>"
      ]
     },
     "metadata": {},
     "output_type": "display_data"
    },
    {
     "data": {
      "application/javascript": [
       "\n",
       "        $('span:contains(\"# Temp\")').closest('.cell').remove();\n",
       "        var code = IPython.notebook.insert_cell_below('code');\n",
       "        code.set_text(atob(\"IyBUZW1wCmluc2VydCgnJycnJycpOwpzZXRfYXR0cmlidXRlKCdkZW5nMjAwN2EnLCAnc2VyaWVzJywgJ1NJR01FVFJJQ1MgJzA3Jyk7CnNldF9hdHRyaWJ1dGUoJ2RlbmcyMDA3YScsICdpc2JuJywgJzk3OC0xLTU5NTkzLTYzOS00Jyk7CnNldF9hdHRyaWJ1dGUoJ2RlbmcyMDA3YScsICdsb2NhdGlvbicsICdTYW4gRGllZ28sIENhbGlmb3JuaWEsIFVTQScpOw==\"));\n",
       "    "
      ],
      "text/plain": [
       "<IPython.core.display.Javascript object>"
      ]
     },
     "metadata": {},
     "output_type": "display_data"
    },
    {
     "data": {
      "application/javascript": [
       "$('span:contains(\"# Temp\")').closest('.cell').remove();"
      ],
      "text/plain": [
       "<IPython.core.display.Javascript object>"
      ]
     },
     "metadata": {},
     "output_type": "display_data"
    },
    {
     "data": {
      "application/javascript": [
       "\n",
       "        $('span:contains(\"# Temp\")').closest('.cell').remove();\n",
       "        var code = IPython.notebook.insert_cell_below('code');\n",
       "        code.set_text(atob(\"IyBUZW1wCmluc2VydCgnJycnJycpOwpzZXRfYXR0cmlidXRlKCdkZW5nMjAwN2EnLCAnc2VyaWVzJywgJ1NJR01FVFJJQ1MgJzA3Jyk7CnNldF9hdHRyaWJ1dGUoJ2RlbmcyMDA3YScsICdpc2JuJywgJzk3OC0xLTU5NTkzLTYzOS00Jyk7CnNldF9hdHRyaWJ1dGUoJ2RlbmcyMDA3YScsICdsb2NhdGlvbicsICdTYW4gRGllZ28sIENhbGlmb3JuaWEsIFVTQScpOw==\"));\n",
       "    "
      ],
      "text/plain": [
       "<IPython.core.display.Javascript object>"
      ]
     },
     "metadata": {},
     "output_type": "display_data"
    },
    {
     "data": {
      "application/javascript": [
       "$('span:contains(\"# Temp\")').closest('.cell').remove();"
      ],
      "text/plain": [
       "<IPython.core.display.Javascript object>"
      ]
     },
     "metadata": {},
     "output_type": "display_data"
    },
    {
     "data": {
      "application/javascript": [
       "\n",
       "        $('span:contains(\"# Temp\")').closest('.cell').remove();\n",
       "        var code = IPython.notebook.insert_cell_below('code');\n",
       "        code.set_text(atob(\"IyBUZW1wCmluc2VydCgnJycnJycpOw==\"));\n",
       "    "
      ],
      "text/plain": [
       "<IPython.core.display.Javascript object>"
      ]
     },
     "metadata": {},
     "output_type": "display_data"
    },
    {
     "data": {
      "application/javascript": [
       "$('span:contains(\"# Temp\")').closest('.cell').remove();"
      ],
      "text/plain": [
       "<IPython.core.display.Javascript object>"
      ]
     },
     "metadata": {},
     "output_type": "display_data"
    },
    {
     "data": {
      "application/javascript": [
       "\n",
       "        $('span:contains(\"# Temp\")').closest('.cell').remove();\n",
       "        var code = IPython.notebook.insert_cell_below('code');\n",
       "        code.set_text(atob(\"IyBUZW1wCmluc2VydCgnJycnJycpOw==\"));\n",
       "    "
      ],
      "text/plain": [
       "<IPython.core.display.Javascript object>"
      ]
     },
     "metadata": {},
     "output_type": "display_data"
    },
    {
     "data": {
      "application/javascript": [
       "$('span:contains(\"# Temp\")').closest('.cell').remove();"
      ],
      "text/plain": [
       "<IPython.core.display.Javascript object>"
      ]
     },
     "metadata": {},
     "output_type": "display_data"
    },
    {
     "data": {
      "application/javascript": [
       "\n",
       "        $('span:contains(\"# Temp\")').closest('.cell').remove();\n",
       "        var code = IPython.notebook.insert_cell_below('code');\n",
       "        code.set_text(atob(\"IyBUZW1wCmluc2VydCgnJycnJycpOw==\"));\n",
       "    "
      ],
      "text/plain": [
       "<IPython.core.display.Javascript object>"
      ]
     },
     "metadata": {},
     "output_type": "display_data"
    },
    {
     "data": {
      "application/javascript": [
       "$('span:contains(\"# Temp\")').closest('.cell').remove();"
      ],
      "text/plain": [
       "<IPython.core.display.Javascript object>"
      ]
     },
     "metadata": {},
     "output_type": "display_data"
    },
    {
     "data": {
      "application/javascript": [
       "\n",
       "        $('span:contains(\"# Temp\")').closest('.cell').remove();\n",
       "        var code = IPython.notebook.insert_cell_below('code');\n",
       "        code.set_text(atob(\"IyBUZW1wCmluc2VydCgnJycnJycpOw==\"));\n",
       "    "
      ],
      "text/plain": [
       "<IPython.core.display.Javascript object>"
      ]
     },
     "metadata": {},
     "output_type": "display_data"
    },
    {
     "data": {
      "application/javascript": [
       "$('span:contains(\"# Temp\")').closest('.cell').remove();"
      ],
      "text/plain": [
       "<IPython.core.display.Javascript object>"
      ]
     },
     "metadata": {},
     "output_type": "display_data"
    },
    {
     "data": {
      "application/javascript": [
       "\n",
       "        $('span:contains(\"# Temp\")').closest('.cell').remove();\n",
       "        var code = IPython.notebook.insert_cell_below('code');\n",
       "        code.set_text(atob(\"IyBUZW1wCmluc2VydCgnJycnJycpOw==\"));\n",
       "    "
      ],
      "text/plain": [
       "<IPython.core.display.Javascript object>"
      ]
     },
     "metadata": {},
     "output_type": "display_data"
    },
    {
     "data": {
      "application/javascript": [
       "$('span:contains(\"# Temp\")').closest('.cell').remove();"
      ],
      "text/plain": [
       "<IPython.core.display.Javascript object>"
      ]
     },
     "metadata": {},
     "output_type": "display_data"
    },
    {
     "data": {
      "application/javascript": [
       "\n",
       "        $('span:contains(\"# Temp\")').closest('.cell').remove();\n",
       "        var code = IPython.notebook.insert_cell_below('code');\n",
       "        code.set_text(atob(\"IyBUZW1wCmluc2VydCgnJycnJycpOw==\"));\n",
       "    "
      ],
      "text/plain": [
       "<IPython.core.display.Javascript object>"
      ]
     },
     "metadata": {},
     "output_type": "display_data"
    },
    {
     "data": {
      "application/javascript": [
       "$('span:contains(\"# Temp\")').closest('.cell').remove();"
      ],
      "text/plain": [
       "<IPython.core.display.Javascript object>"
      ]
     },
     "metadata": {},
     "output_type": "display_data"
    },
    {
     "data": {
      "application/javascript": [
       "\n",
       "        $('span:contains(\"# Temp\")').closest('.cell').remove();\n",
       "        var code = IPython.notebook.insert_cell_below('code');\n",
       "        code.set_text(atob(\"IyBUZW1wCmluc2VydCgnJycnJycpOw==\"));\n",
       "    "
      ],
      "text/plain": [
       "<IPython.core.display.Javascript object>"
      ]
     },
     "metadata": {},
     "output_type": "display_data"
    },
    {
     "data": {
      "application/javascript": [
       "$('span:contains(\"# Temp\")').closest('.cell').remove();"
      ],
      "text/plain": [
       "<IPython.core.display.Javascript object>"
      ]
     },
     "metadata": {},
     "output_type": "display_data"
    },
    {
     "data": {
      "application/javascript": [
       "\n",
       "        $('span:contains(\"# Temp\")').closest('.cell').remove();\n",
       "        var code = IPython.notebook.insert_cell_below('code');\n",
       "        code.set_text(atob(\"IyBUZW1wCmluc2VydCgnJycnJycpOw==\"));\n",
       "    "
      ],
      "text/plain": [
       "<IPython.core.display.Javascript object>"
      ]
     },
     "metadata": {},
     "output_type": "display_data"
    },
    {
     "data": {
      "application/javascript": [
       "$('span:contains(\"# Temp\")').closest('.cell').remove();"
      ],
      "text/plain": [
       "<IPython.core.display.Javascript object>"
      ]
     },
     "metadata": {},
     "output_type": "display_data"
    },
    {
     "data": {
      "application/javascript": [
       "\n",
       "        $('span:contains(\"# Temp\")').closest('.cell').remove();\n",
       "        var code = IPython.notebook.insert_cell_below('code');\n",
       "        code.set_text(atob(\"IyBUZW1wCmluc2VydCgnJycnJycpOw==\"));\n",
       "    "
      ],
      "text/plain": [
       "<IPython.core.display.Javascript object>"
      ]
     },
     "metadata": {},
     "output_type": "display_data"
    },
    {
     "data": {
      "application/javascript": [
       "$('span:contains(\"# Temp\")').closest('.cell').remove();"
      ],
      "text/plain": [
       "<IPython.core.display.Javascript object>"
      ]
     },
     "metadata": {},
     "output_type": "display_data"
    },
    {
     "data": {
      "application/javascript": [
       "\n",
       "        $('span:contains(\"# Temp\")').closest('.cell').remove();\n",
       "        var code = IPython.notebook.insert_cell_below('code');\n",
       "        code.set_text(atob(\"IyBUZW1wCmluc2VydCgnJycnJycpOw==\"));\n",
       "    "
      ],
      "text/plain": [
       "<IPython.core.display.Javascript object>"
      ]
     },
     "metadata": {},
     "output_type": "display_data"
    },
    {
     "data": {
      "application/javascript": [
       "$('span:contains(\"# Temp\")').closest('.cell').remove();"
      ],
      "text/plain": [
       "<IPython.core.display.Javascript object>"
      ]
     },
     "metadata": {},
     "output_type": "display_data"
    },
    {
     "data": {
      "application/javascript": [
       "\n",
       "        $('span:contains(\"# Temp\")').closest('.cell').remove();\n",
       "        var code = IPython.notebook.insert_cell_below('code');\n",
       "        code.set_text(atob(\"IyBUZW1wCmluc2VydCgnJycnJycpOwpzZXRfYXR0cmlidXRlKCdkZW5nMjAwN2EnLCAnc2VyaWVzJywgJ1NJR01FVFJJQ1MgJzA3Jyk7CnNldF9hdHRyaWJ1dGUoJ2RlbmcyMDA3YScsICdpc2JuJywgJzk3OC0xLTU5NTkzLTYzOS00Jyk7CnNldF9hdHRyaWJ1dGUoJ2RlbmcyMDA3YScsICdsb2NhdGlvbicsICdTYW4gRGllZ28sIENhbGlmb3JuaWEsIFVTQScpOw==\"));\n",
       "    "
      ],
      "text/plain": [
       "<IPython.core.display.Javascript object>"
      ]
     },
     "metadata": {},
     "output_type": "display_data"
    },
    {
     "data": {
      "application/javascript": [
       "$('span:contains(\"# Temp\")').closest('.cell').remove();"
      ],
      "text/plain": [
       "<IPython.core.display.Javascript object>"
      ]
     },
     "metadata": {},
     "output_type": "display_data"
    },
    {
     "data": {
      "application/javascript": [
       "\n",
       "        $('span:contains(\"# Temp\")').closest('.cell').remove();\n",
       "        var code = IPython.notebook.insert_cell_below('code');\n",
       "        code.set_text(atob(\"IyBUZW1wCmluc2VydCgnJycnJycpOwpzZXRfYXR0cmlidXRlKCdkZW5nMjAwN2EnLCAnc2VyaWVzJywgJ1NJR01FVFJJQ1MgJzA3Jyk7CnNldF9hdHRyaWJ1dGUoJ2RlbmcyMDA3YScsICdpc2JuJywgJzk3OC0xLTU5NTkzLTYzOS00Jyk7CnNldF9hdHRyaWJ1dGUoJ2RlbmcyMDA3YScsICdsb2NhdGlvbicsICdTYW4gRGllZ28sIENhbGlmb3JuaWEsIFVTQScpOw==\"));\n",
       "    "
      ],
      "text/plain": [
       "<IPython.core.display.Javascript object>"
      ]
     },
     "metadata": {},
     "output_type": "display_data"
    },
    {
     "data": {
      "application/javascript": [
       "$('span:contains(\"# Temp\")').closest('.cell').remove();"
      ],
      "text/plain": [
       "<IPython.core.display.Javascript object>"
      ]
     },
     "metadata": {},
     "output_type": "display_data"
    },
    {
     "data": {
      "application/javascript": [
       "\n",
       "        $('span:contains(\"# Temp\")').closest('.cell').remove();\n",
       "        var code = IPython.notebook.insert_cell_below('code');\n",
       "        code.set_text(atob(\"IyBUZW1wCmluc2VydCgnJycKY2hhdWRldDIwMDVhID0gREIoV29ya1VucmVsYXRlZCgKICAgIDIwMDUsICJPcHRpbWFsIFBvc2l0aW9uaW5nIG9mIEFjdGl2ZSBhbmQgUGFzc2l2ZSBNb25pdG9yaW5nIERldmljZXMiLAogICAgZGlzcGxheT0iY2hhdWRldCIsCiAgICBhdXRob3JzPSJDaGF1ZGV0LCBDbGF1ZGUgYW5kIEZsZXVyeSwgRXJpYyBhbmQgTGFzc291cywgSXNhYmVsbGUgR3XpcmluIGFuZCBSaXZhbm8sIEhlcnbpIGFuZCBWb2dlLCBNYXJpZS1FbWlsaWUiLAogICAgcGxhY2U9RkFLRSwKICAgIHBwPSI3MS0tODIiLAogICAgZW50cnl0eXBlPSJpbnByb2NlZWRpbmdzIiwKICAgIHNlcmllcz0iQ29ORVhUICcwNSIsCiAgICBpc2JuPSIxLTU5NTkzLTE5Ny1YIiwKICAgIGxvY2F0aW9uPSJUb3Vsb3VzZSwgRnJhbmNlIiwKICAgIElEPSJDaGF1ZGV0OjIwMDU6T1BBOjEwOTU5MjEuMTA5NTkzMiIsCiAgICBhY209IjEiLAogICAgcGxhY2V4PSJQcm9jZWVkaW5ncyBvZiB0aGUgMjAwNSBBQ00gQ29uZmVyZW5jZSBvbiBFbWVyZ2luZyBOZXR3b3JrIEV4cGVyaW1lbnQgYW5kIFRlY2hub2xvZ3kiLAopKQonJycpOw==\"));\n",
       "    "
      ],
      "text/plain": [
       "<IPython.core.display.Javascript object>"
      ]
     },
     "metadata": {},
     "output_type": "display_data"
    },
    {
     "data": {
      "application/javascript": [
       "$('span:contains(\"# Temp\")').closest('.cell').remove();"
      ],
      "text/plain": [
       "<IPython.core.display.Javascript object>"
      ]
     },
     "metadata": {},
     "output_type": "display_data"
    },
    {
     "data": {
      "application/javascript": [
       "\n",
       "        $('span:contains(\"# Temp\")').closest('.cell').remove();\n",
       "        var code = IPython.notebook.insert_cell_below('code');\n",
       "        code.set_text(atob(\"IyBUZW1wCmluc2VydCgnJycKY2hhdWRldDIwMDVhID0gREIoV29ya1VucmVsYXRlZCgKICAgIDIwMDUsICJPcHRpbWFsIFBvc2l0aW9uaW5nIG9mIEFjdGl2ZSBhbmQgUGFzc2l2ZSBNb25pdG9yaW5nIERldmljZXMiLAogICAgZGlzcGxheT0iY2hhdWRldCIsCiAgICBhdXRob3JzPSJDaGF1ZGV0LCBDbGF1ZGUgYW5kIEZsZXVyeSwgRXJpYyBhbmQgTGFzc291cywgSXNhYmVsbGUgR3XpcmluIGFuZCBSaXZhbm8sIEhlcnbpIGFuZCBWb2dlLCBNYXJpZS1FbWlsaWUiLAogICAgcGxhY2U9RkFLRSwKICAgIHBwPSI3MS0tODIiLAogICAgZW50cnl0eXBlPSJpbnByb2NlZWRpbmdzIiwKICAgIHNlcmllcz0iQ29ORVhUICcwNSIsCiAgICBpc2JuPSIxLTU5NTkzLTE5Ny1YIiwKICAgIGxvY2F0aW9uPSJUb3Vsb3VzZSwgRnJhbmNlIiwKICAgIElEPSJDaGF1ZGV0OjIwMDU6T1BBOjEwOTU5MjEuMTA5NTkzMiIsCiAgICBhY209IjEiLAogICAgcGxhY2V4PSJQcm9jZWVkaW5ncyBvZiB0aGUgMjAwNSBBQ00gQ29uZmVyZW5jZSBvbiBFbWVyZ2luZyBOZXR3b3JrIEV4cGVyaW1lbnQgYW5kIFRlY2hub2xvZ3kiLAopKQonJycpOw==\"));\n",
       "    "
      ],
      "text/plain": [
       "<IPython.core.display.Javascript object>"
      ]
     },
     "metadata": {},
     "output_type": "display_data"
    },
    {
     "data": {
      "application/javascript": [
       "$('span:contains(\"# Temp\")').closest('.cell').remove();"
      ],
      "text/plain": [
       "<IPython.core.display.Javascript object>"
      ]
     },
     "metadata": {},
     "output_type": "display_data"
    },
    {
     "data": {
      "application/javascript": [
       "\n",
       "        $('span:contains(\"# Temp\")').closest('.cell').remove();\n",
       "        var code = IPython.notebook.insert_cell_below('code');\n",
       "        code.set_text(atob(\"IyBUZW1wCmluc2VydCgnJycKcm9tZXJvMjAxMGEgPSBEQihXb3JrVW5yZWxhdGVkKAogICAgMjAxMCwgIkVSUDogRHJpbGxpbmcgZm9yIFByb2ZpdCBpbiB0aGUgT2lsIGFuZCBHYXMgSW5kdXN0cnkiLAogICAgZGlzcGxheT0icm9tZXJvIiwKICAgIGF1dGhvcnM9IlJvbWVybywgSm9yZ2UgQS4gYW5kIE1lbm9uLCBOaXJ1cCBhbmQgQmFua2VyLCBSYWppdiBELiBhbmQgQW5kZXJzb24sIE1hcmsiLAogICAgcGxhY2U9RkFLRSwKICAgIHBwPSIxMTgtLTEyMSIsCiAgICBlbnRyeXR5cGU9ImFydGljbGUiLAogICAgaXNzdWVfZGF0ZT0iSnVseSAyMDEwIiwKICAgIHZvbHVtZT0iNTMiLAogICAgbnVtYmVyPSI3IiwKICAgIG1vbnRoPSJqdWwiLAogICAgaXNzbj0iMDAwMS0wNzgyIiwKICAgIElEPSJSb21lcm86MjAxMDpFRFA6MTc4NTQxNC4xNzg1NDQ4IiwKICAgIGFjbT0iMSIsCiAgICBwbGFjZXg9IkNvbW11bi4gQUNNIiwKKSkKJycnKTs=\"));\n",
       "    "
      ],
      "text/plain": [
       "<IPython.core.display.Javascript object>"
      ]
     },
     "metadata": {},
     "output_type": "display_data"
    },
    {
     "data": {
      "application/javascript": [
       "$('span:contains(\"# Temp\")').closest('.cell').remove();"
      ],
      "text/plain": [
       "<IPython.core.display.Javascript object>"
      ]
     },
     "metadata": {},
     "output_type": "display_data"
    },
    {
     "data": {
      "application/javascript": [
       "\n",
       "        $('span:contains(\"# Temp\")').closest('.cell').remove();\n",
       "        var code = IPython.notebook.insert_cell_below('code');\n",
       "        code.set_text(atob(\"IyBUZW1wCmluc2VydCgnJycKcm9tZXJvMjAxMGEgPSBEQihXb3JrVW5yZWxhdGVkKAogICAgMjAxMCwgIkVSUDogRHJpbGxpbmcgZm9yIFByb2ZpdCBpbiB0aGUgT2lsIGFuZCBHYXMgSW5kdXN0cnkiLAogICAgZGlzcGxheT0icm9tZXJvIiwKICAgIGF1dGhvcnM9IlJvbWVybywgSm9yZ2UgQS4gYW5kIE1lbm9uLCBOaXJ1cCBhbmQgQmFua2VyLCBSYWppdiBELiBhbmQgQW5kZXJzb24sIE1hcmsiLAogICAgcGxhY2U9RkFLRSwKICAgIHBwPSIxMTgtLTEyMSIsCiAgICBlbnRyeXR5cGU9ImFydGljbGUiLAogICAgaXNzdWVfZGF0ZT0iSnVseSAyMDEwIiwKICAgIHZvbHVtZT0iNTMiLAogICAgbnVtYmVyPSI3IiwKICAgIG1vbnRoPSJqdWwiLAogICAgaXNzbj0iMDAwMS0wNzgyIiwKICAgIElEPSJSb21lcm86MjAxMDpFRFA6MTc4NTQxNC4xNzg1NDQ4IiwKICAgIGFjbT0iMSIsCiAgICBwbGFjZXg9IkNvbW11bi4gQUNNIiwKKSkKJycnKTs=\"));\n",
       "    "
      ],
      "text/plain": [
       "<IPython.core.display.Javascript object>"
      ]
     },
     "metadata": {},
     "output_type": "display_data"
    },
    {
     "data": {
      "application/javascript": [
       "$('span:contains(\"# Temp\")').closest('.cell').remove();"
      ],
      "text/plain": [
       "<IPython.core.display.Javascript object>"
      ]
     },
     "metadata": {},
     "output_type": "display_data"
    },
    {
     "data": {
      "application/javascript": [
       "\n",
       "        $('span:contains(\"# Temp\")').closest('.cell').remove();\n",
       "        var code = IPython.notebook.insert_cell_below('code');\n",
       "        code.set_text(atob(\"IyBUZW1wCmluc2VydCgnJycKYXNva2FuMjAwOGEgPSBEQihXb3JrVW5yZWxhdGVkKAogICAgMjAwOCwgIkhlYWx0aHkgVGVjaG5vbG9neSIsCiAgICBkaXNwbGF5PSJhc29rYW4iLAogICAgYXV0aG9ycz0iQXNva2FuLCBBc2h3aW5pIGFuZCBQYXluZSwgTWljaGFlbCAuSi4iLAogICAgcGxhY2U9RkFLRSwKICAgIHBwPSIyMDUzLS0yMDY2IiwKICAgIGVudHJ5dHlwZT0iaW5wcm9jZWVkaW5ncyIsCiAgICBzZXJpZXM9IkNISSBFQSAnMDgiLAogICAgaXNibj0iOTc4LTEtNjA1NTgtMDEyLTgiLAogICAgbG9jYXRpb249IkZsb3JlbmNlLCBJdGFseSIsCiAgICBJRD0iQXNva2FuOjIwMDg6SFQ6MTM1ODYyOC4xMzU4NjM3IiwKICAgIGFjbT0iMSIsCiAgICBwbGFjZXg9IkNISSAnMDggRXh0ZW5kZWQgQWJzdHJhY3RzIG9uIEh1bWFuIEZhY3RvcnMgaW4gQ29tcHV0aW5nIFN5c3RlbXMiLAopKQonJycpOw==\"));\n",
       "    "
      ],
      "text/plain": [
       "<IPython.core.display.Javascript object>"
      ]
     },
     "metadata": {},
     "output_type": "display_data"
    },
    {
     "data": {
      "application/javascript": [
       "$('span:contains(\"# Temp\")').closest('.cell').remove();"
      ],
      "text/plain": [
       "<IPython.core.display.Javascript object>"
      ]
     },
     "metadata": {},
     "output_type": "display_data"
    },
    {
     "data": {
      "application/javascript": [
       "\n",
       "        $('span:contains(\"# Temp\")').closest('.cell').remove();\n",
       "        var code = IPython.notebook.insert_cell_below('code');\n",
       "        code.set_text(atob(\"IyBUZW1wCmluc2VydCgnJycKYXNva2FuMjAwOGEgPSBEQihXb3JrVW5yZWxhdGVkKAogICAgMjAwOCwgIkhlYWx0aHkgVGVjaG5vbG9neSIsCiAgICBkaXNwbGF5PSJhc29rYW4iLAogICAgYXV0aG9ycz0iQXNva2FuLCBBc2h3aW5pIGFuZCBQYXluZSwgTWljaGFlbCAuSi4iLAogICAgcGxhY2U9RkFLRSwKICAgIHBwPSIyMDUzLS0yMDY2IiwKICAgIGVudHJ5dHlwZT0iaW5wcm9jZWVkaW5ncyIsCiAgICBzZXJpZXM9IkNISSBFQSAnMDgiLAogICAgaXNibj0iOTc4LTEtNjA1NTgtMDEyLTgiLAogICAgbG9jYXRpb249IkZsb3JlbmNlLCBJdGFseSIsCiAgICBJRD0iQXNva2FuOjIwMDg6SFQ6MTM1ODYyOC4xMzU4NjM3IiwKICAgIGFjbT0iMSIsCiAgICBwbGFjZXg9IkNISSAnMDggRXh0ZW5kZWQgQWJzdHJhY3RzIG9uIEh1bWFuIEZhY3RvcnMgaW4gQ29tcHV0aW5nIFN5c3RlbXMiLAopKQonJycpOw==\"));\n",
       "    "
      ],
      "text/plain": [
       "<IPython.core.display.Javascript object>"
      ]
     },
     "metadata": {},
     "output_type": "display_data"
    },
    {
     "data": {
      "application/javascript": [
       "$('span:contains(\"# Temp\")').closest('.cell').remove();"
      ],
      "text/plain": [
       "<IPython.core.display.Javascript object>"
      ]
     },
     "metadata": {},
     "output_type": "display_data"
    },
    {
     "data": {
      "application/javascript": [
       "\n",
       "        $('span:contains(\"# Temp\")').closest('.cell').remove();\n",
       "        var code = IPython.notebook.insert_cell_below('code');\n",
       "        code.set_text(atob(\"IyBUZW1wCmluc2VydCgnJycKZ2FpcmluZzIwMDVhID0gREIoV29ya1VucmVsYXRlZCgKICAgIDIwMDUsICJTZWxmaXNoIFJvdXRpbmcgd2l0aCBJbmNvbXBsZXRlIEluZm9ybWF0aW9uIiwKICAgIGRpc3BsYXk9ImdhaXJpbmciLAogICAgYXV0aG9ycz0iR2FpcmluZywgTWFydGluIGFuZCBNb25pZW4sIEJ1cmtoYXJkIGFuZCBUaWVtYW5uLCBLYXJzdGVuIiwKICAgIHBsYWNlPUZBS0UsCiAgICBwcD0iMjAzLS0yMTIiLAogICAgZW50cnl0eXBlPSJpbnByb2NlZWRpbmdzIiwKICAgIHNlcmllcz0iU1BBQSAnMDUiLAogICAgaXNibj0iMS01ODExMy05ODYtMSIsCiAgICBsb2NhdGlvbj0iTGFzIFZlZ2FzLCBOZXZhZGEsIFVTQSIsCiAgICBJRD0iR2FpcmluZzoyMDA1OlNSSToxMDczOTcwLjEwNzQwMDAiLAogICAgYWNtPSIxIiwKICAgIHBsYWNleD0iUHJvY2VlZGluZ3Mgb2YgdGhlIFNldmVudGVlbnRoIEFubnVhbCBBQ00gU3ltcG9zaXVtIG9uIFBhcmFsbGVsaXNtIGluIEFsZ29yaXRobXMgYW5kIEFyY2hpdGVjdHVyZXMiLAopKQonJycpOw==\"));\n",
       "    "
      ],
      "text/plain": [
       "<IPython.core.display.Javascript object>"
      ]
     },
     "metadata": {},
     "output_type": "display_data"
    },
    {
     "data": {
      "application/javascript": [
       "$('span:contains(\"# Temp\")').closest('.cell').remove();"
      ],
      "text/plain": [
       "<IPython.core.display.Javascript object>"
      ]
     },
     "metadata": {},
     "output_type": "display_data"
    },
    {
     "data": {
      "application/javascript": [
       "\n",
       "        $('span:contains(\"# Temp\")').closest('.cell').remove();\n",
       "        var code = IPython.notebook.insert_cell_below('code');\n",
       "        code.set_text(atob(\"IyBUZW1wCmluc2VydCgnJycKZ2FpcmluZzIwMDVhID0gREIoV29ya1VucmVsYXRlZCgKICAgIDIwMDUsICJTZWxmaXNoIFJvdXRpbmcgd2l0aCBJbmNvbXBsZXRlIEluZm9ybWF0aW9uIiwKICAgIGRpc3BsYXk9ImdhaXJpbmciLAogICAgYXV0aG9ycz0iR2FpcmluZywgTWFydGluIGFuZCBNb25pZW4sIEJ1cmtoYXJkIGFuZCBUaWVtYW5uLCBLYXJzdGVuIiwKICAgIHBsYWNlPUZBS0UsCiAgICBwcD0iMjAzLS0yMTIiLAogICAgZW50cnl0eXBlPSJpbnByb2NlZWRpbmdzIiwKICAgIHNlcmllcz0iU1BBQSAnMDUiLAogICAgaXNibj0iMS01ODExMy05ODYtMSIsCiAgICBsb2NhdGlvbj0iTGFzIFZlZ2FzLCBOZXZhZGEsIFVTQSIsCiAgICBJRD0iR2FpcmluZzoyMDA1OlNSSToxMDczOTcwLjEwNzQwMDAiLAogICAgYWNtPSIxIiwKICAgIHBsYWNleD0iUHJvY2VlZGluZ3Mgb2YgdGhlIFNldmVudGVlbnRoIEFubnVhbCBBQ00gU3ltcG9zaXVtIG9uIFBhcmFsbGVsaXNtIGluIEFsZ29yaXRobXMgYW5kIEFyY2hpdGVjdHVyZXMiLAopKQonJycpOw==\"));\n",
       "    "
      ],
      "text/plain": [
       "<IPython.core.display.Javascript object>"
      ]
     },
     "metadata": {},
     "output_type": "display_data"
    },
    {
     "data": {
      "application/javascript": [
       "$('span:contains(\"# Temp\")').closest('.cell').remove();"
      ],
      "text/plain": [
       "<IPython.core.display.Javascript object>"
      ]
     },
     "metadata": {},
     "output_type": "display_data"
    },
    {
     "data": {
      "application/javascript": [
       "\n",
       "        $('span:contains(\"# Temp\")').closest('.cell').remove();\n",
       "        var code = IPython.notebook.insert_cell_below('code');\n",
       "        code.set_text(atob(\"IyBUZW1wCmluc2VydCgnJycKYmFjY2FyZWxsaTIwMDdhID0gREIoV29ya1VucmVsYXRlZCgKICAgIDIwMDcsICJNdWx0aS1hbnRlbm5hIENvZ25pdGl2ZSBSYWRpbyBmb3IgQnJvYWRiYW5kIEFjY2VzcyBpbiA0Ry1XTEFOcyIsCiAgICBkaXNwbGF5PSJiYWNjYXJlbGxpIiwKICAgIGF1dGhvcnM9IkJhY2NhcmVsbGksIEVuem8gYW5kIEJpYWdpLCBNYXVybyBhbmQgUGVsaXp6b25pLCBDcmlzdGlhbiBhbmQgQ29yZGVzY2hpLCBOaWNvbGEiLAogICAgcGxhY2U9RkFLRSwKICAgIHBwPSI2Ni0tNzMiLAogICAgZW50cnl0eXBlPSJpbnByb2NlZWRpbmdzIiwKICAgIHNlcmllcz0iTW9iaVdhYyAnMDciLAogICAgaXNibj0iOTc4LTEtNTk1OTMtODA5LTEiLAogICAgbG9jYXRpb249IkNoYW5pYSwgQ3JldGUgSXNsYW5kLCBHcmVlY2UiLAogICAgSUQ9IkJhY2NhcmVsbGk6MjAwNzpNQ1I6MTI5ODA5MS4xMjk4MTAzIiwKICAgIGFjbT0iMSIsCiAgICBwbGFjZXg9IlByb2NlZWRpbmdzIG9mIHRoZSA1dGggQUNNIEludGVybmF0aW9uYWwgV29ya3Nob3Agb24gTW9iaWxpdHkgTWFuYWdlbWVudCBhbmQgV2lyZWxlc3MgQWNjZXNzIiwKKSkKJycnKTs=\"));\n",
       "    "
      ],
      "text/plain": [
       "<IPython.core.display.Javascript object>"
      ]
     },
     "metadata": {},
     "output_type": "display_data"
    },
    {
     "data": {
      "application/javascript": [
       "$('span:contains(\"# Temp\")').closest('.cell').remove();"
      ],
      "text/plain": [
       "<IPython.core.display.Javascript object>"
      ]
     },
     "metadata": {},
     "output_type": "display_data"
    },
    {
     "data": {
      "application/javascript": [
       "\n",
       "        $('span:contains(\"# Temp\")').closest('.cell').remove();\n",
       "        var code = IPython.notebook.insert_cell_below('code');\n",
       "        code.set_text(atob(\"IyBUZW1wCmluc2VydCgnJycKYmFjY2FyZWxsaTIwMDdhID0gREIoV29ya1VucmVsYXRlZCgKICAgIDIwMDcsICJNdWx0aS1hbnRlbm5hIENvZ25pdGl2ZSBSYWRpbyBmb3IgQnJvYWRiYW5kIEFjY2VzcyBpbiA0Ry1XTEFOcyIsCiAgICBkaXNwbGF5PSJiYWNjYXJlbGxpIiwKICAgIGF1dGhvcnM9IkJhY2NhcmVsbGksIEVuem8gYW5kIEJpYWdpLCBNYXVybyBhbmQgUGVsaXp6b25pLCBDcmlzdGlhbiBhbmQgQ29yZGVzY2hpLCBOaWNvbGEiLAogICAgcGxhY2U9RkFLRSwKICAgIHBwPSI2Ni0tNzMiLAogICAgZW50cnl0eXBlPSJpbnByb2NlZWRpbmdzIiwKICAgIHNlcmllcz0iTW9iaVdhYyAnMDciLAogICAgaXNibj0iOTc4LTEtNTk1OTMtODA5LTEiLAogICAgbG9jYXRpb249IkNoYW5pYSwgQ3JldGUgSXNsYW5kLCBHcmVlY2UiLAogICAgSUQ9IkJhY2NhcmVsbGk6MjAwNzpNQ1I6MTI5ODA5MS4xMjk4MTAzIiwKICAgIGFjbT0iMSIsCiAgICBwbGFjZXg9IlByb2NlZWRpbmdzIG9mIHRoZSA1dGggQUNNIEludGVybmF0aW9uYWwgV29ya3Nob3Agb24gTW9iaWxpdHkgTWFuYWdlbWVudCBhbmQgV2lyZWxlc3MgQWNjZXNzIiwKKSkKJycnKTs=\"));\n",
       "    "
      ],
      "text/plain": [
       "<IPython.core.display.Javascript object>"
      ]
     },
     "metadata": {},
     "output_type": "display_data"
    },
    {
     "data": {
      "application/javascript": [
       "$('span:contains(\"# Temp\")').closest('.cell').remove();"
      ],
      "text/plain": [
       "<IPython.core.display.Javascript object>"
      ]
     },
     "metadata": {},
     "output_type": "display_data"
    },
    {
     "data": {
      "application/javascript": [
       "\n",
       "        $('span:contains(\"# Temp\")').closest('.cell').remove();\n",
       "        var code = IPython.notebook.insert_cell_below('code');\n",
       "        code.set_text(atob(\"IyBUZW1wCmluc2VydCgnJycKMjAwNmEgPSBEQihXb3JrVW5yZWxhdGVkKAogICAgMjAwNiwgIk9uIHRoZSBMb2dpYyBvZiBDb2FsaXRpb25hbCBHYW1lcyIsCiAgICBkaXNwbGF5PSIiLAogICAgYXV0aG9ycz0iXEFBZ290bmVzLCBUaG9tYXMgYW5kIHZhbiBkZXIgSG9laywgV2llYmUgYW5kIFdvb2xkcmlkZ2UsIE1pY2hhZWwiLAogICAgcGxhY2U9RkFLRSwKICAgIHBwPSIxNTMtLTE2MCIsCiAgICBlbnRyeXR5cGU9ImlucHJvY2VlZGluZ3MiLAogICAgc2VyaWVzPSJBQU1BUyAnMDYiLAogICAgaXNibj0iMS01OTU5My0zMDMtNCIsCiAgICBsb2NhdGlvbj0iSGFrb2RhdGUsIEphcGFuIiwKICAgIElEPSJBZ290bmVzOjIwMDY6TENHOjExNjA2MzMuMTE2MDY1OSIsCiAgICBhY209IjEiLAogICAgcGxhY2V4PSJQcm9jZWVkaW5ncyBvZiB0aGUgRmlmdGggSW50ZXJuYXRpb25hbCBKb2ludCBDb25mZXJlbmNlIG9uIEF1dG9ub21vdXMgQWdlbnRzIGFuZCBNdWx0aWFnZW50IFN5c3RlbXMiLAopKQonJycpOw==\"));\n",
       "    "
      ],
      "text/plain": [
       "<IPython.core.display.Javascript object>"
      ]
     },
     "metadata": {},
     "output_type": "display_data"
    },
    {
     "data": {
      "application/javascript": [
       "$('span:contains(\"# Temp\")').closest('.cell').remove();"
      ],
      "text/plain": [
       "<IPython.core.display.Javascript object>"
      ]
     },
     "metadata": {},
     "output_type": "display_data"
    },
    {
     "data": {
      "application/javascript": [
       "\n",
       "        $('span:contains(\"# Temp\")').closest('.cell').remove();\n",
       "        var code = IPython.notebook.insert_cell_below('code');\n",
       "        code.set_text(atob(\"IyBUZW1wCmluc2VydCgnJycKMjAwNmEgPSBEQihXb3JrVW5yZWxhdGVkKAogICAgMjAwNiwgIk9uIHRoZSBMb2dpYyBvZiBDb2FsaXRpb25hbCBHYW1lcyIsCiAgICBkaXNwbGF5PSIiLAogICAgYXV0aG9ycz0iXEFBZ290bmVzLCBUaG9tYXMgYW5kIHZhbiBkZXIgSG9laywgV2llYmUgYW5kIFdvb2xkcmlkZ2UsIE1pY2hhZWwiLAogICAgcGxhY2U9RkFLRSwKICAgIHBwPSIxNTMtLTE2MCIsCiAgICBlbnRyeXR5cGU9ImlucHJvY2VlZGluZ3MiLAogICAgc2VyaWVzPSJBQU1BUyAnMDYiLAogICAgaXNibj0iMS01OTU5My0zMDMtNCIsCiAgICBsb2NhdGlvbj0iSGFrb2RhdGUsIEphcGFuIiwKICAgIElEPSJBZ290bmVzOjIwMDY6TENHOjExNjA2MzMuMTE2MDY1OSIsCiAgICBhY209IjEiLAogICAgcGxhY2V4PSJQcm9jZWVkaW5ncyBvZiB0aGUgRmlmdGggSW50ZXJuYXRpb25hbCBKb2ludCBDb25mZXJlbmNlIG9uIEF1dG9ub21vdXMgQWdlbnRzIGFuZCBNdWx0aWFnZW50IFN5c3RlbXMiLAopKQonJycpOw==\"));\n",
       "    "
      ],
      "text/plain": [
       "<IPython.core.display.Javascript object>"
      ]
     },
     "metadata": {},
     "output_type": "display_data"
    },
    {
     "data": {
      "application/javascript": [
       "$('span:contains(\"# Temp\")').closest('.cell').remove();"
      ],
      "text/plain": [
       "<IPython.core.display.Javascript object>"
      ]
     },
     "metadata": {},
     "output_type": "display_data"
    },
    {
     "data": {
      "application/javascript": [
       "\n",
       "        $('span:contains(\"# Temp\")').closest('.cell').remove();\n",
       "        var code = IPython.notebook.insert_cell_below('code');\n",
       "        code.set_text(atob(\"IyBUZW1wCmluc2VydCgnJycnJycpOw==\"));\n",
       "    "
      ],
      "text/plain": [
       "<IPython.core.display.Javascript object>"
      ]
     },
     "metadata": {},
     "output_type": "display_data"
    },
    {
     "data": {
      "application/javascript": [
       "$('span:contains(\"# Temp\")').closest('.cell').remove();"
      ],
      "text/plain": [
       "<IPython.core.display.Javascript object>"
      ]
     },
     "metadata": {},
     "output_type": "display_data"
    },
    {
     "data": {
      "application/javascript": [
       "\n",
       "        $('span:contains(\"# Temp\")').closest('.cell').remove();\n",
       "        var code = IPython.notebook.insert_cell_below('code');\n",
       "        code.set_text(atob(\"IyBUZW1wCmluc2VydCgnJycnJycpOw==\"));\n",
       "    "
      ],
      "text/plain": [
       "<IPython.core.display.Javascript object>"
      ]
     },
     "metadata": {},
     "output_type": "display_data"
    },
    {
     "data": {
      "application/javascript": [
       "$('span:contains(\"# Temp\")').closest('.cell').remove();"
      ],
      "text/plain": [
       "<IPython.core.display.Javascript object>"
      ]
     },
     "metadata": {},
     "output_type": "display_data"
    },
    {
     "data": {
      "application/javascript": [
       "\n",
       "        $('span:contains(\"# Temp\")').closest('.cell').remove();\n",
       "        var code = IPython.notebook.insert_cell_below('code');\n",
       "        code.set_text(atob(\"IyBUZW1wCmluc2VydCgnJycKMjAwNmEgPSBEQihXb3JrVW5yZWxhdGVkKAogICAgMjAwNiwgIk9uIHRoZSBMb2dpYyBvZiBDb2FsaXRpb25hbCBHYW1lcyIsCiAgICBkaXNwbGF5PSIiLAogICAgYXV0aG9ycz0iXEFBZ290bmVzLCBUaG9tYXMgYW5kIHZhbiBkZXIgSG9laywgV2llYmUgYW5kIFdvb2xkcmlkZ2UsIE1pY2hhZWwiLAogICAgcGxhY2U9RkFLRSwKICAgIHBwPSIxNTMtLTE2MCIsCiAgICBlbnRyeXR5cGU9ImlucHJvY2VlZGluZ3MiLAogICAgc2VyaWVzPSJBQU1BUyAnMDYiLAogICAgaXNibj0iMS01OTU5My0zMDMtNCIsCiAgICBsb2NhdGlvbj0iSGFrb2RhdGUsIEphcGFuIiwKICAgIElEPSJBZ290bmVzOjIwMDY6TENHOjExNjA2MzMuMTE2MDY1OSIsCiAgICBhY209IjEiLAogICAgcGxhY2V4PSJQcm9jZWVkaW5ncyBvZiB0aGUgRmlmdGggSW50ZXJuYXRpb25hbCBKb2ludCBDb25mZXJlbmNlIG9uIEF1dG9ub21vdXMgQWdlbnRzIGFuZCBNdWx0aWFnZW50IFN5c3RlbXMiLAopKQonJycpOw==\"));\n",
       "    "
      ],
      "text/plain": [
       "<IPython.core.display.Javascript object>"
      ]
     },
     "metadata": {},
     "output_type": "display_data"
    },
    {
     "data": {
      "application/javascript": [
       "$('span:contains(\"# Temp\")').closest('.cell').remove();"
      ],
      "text/plain": [
       "<IPython.core.display.Javascript object>"
      ]
     },
     "metadata": {},
     "output_type": "display_data"
    },
    {
     "data": {
      "application/javascript": [
       "\n",
       "        $('span:contains(\"# Temp\")').closest('.cell').remove();\n",
       "        var code = IPython.notebook.insert_cell_below('code');\n",
       "        code.set_text(atob(\"IyBUZW1wCmluc2VydCgnJycKMjAwNmEgPSBEQihXb3JrVW5yZWxhdGVkKAogICAgMjAwNiwgIk9uIHRoZSBMb2dpYyBvZiBDb2FsaXRpb25hbCBHYW1lcyIsCiAgICBkaXNwbGF5PSIiLAogICAgYXV0aG9ycz0iXEFBZ290bmVzLCBUaG9tYXMgYW5kIHZhbiBkZXIgSG9laywgV2llYmUgYW5kIFdvb2xkcmlkZ2UsIE1pY2hhZWwiLAogICAgcGxhY2U9RkFLRSwKICAgIHBwPSIxNTMtLTE2MCIsCiAgICBlbnRyeXR5cGU9ImlucHJvY2VlZGluZ3MiLAogICAgc2VyaWVzPSJBQU1BUyAnMDYiLAogICAgaXNibj0iMS01OTU5My0zMDMtNCIsCiAgICBsb2NhdGlvbj0iSGFrb2RhdGUsIEphcGFuIiwKICAgIElEPSJBZ290bmVzOjIwMDY6TENHOjExNjA2MzMuMTE2MDY1OSIsCiAgICBhY209IjEiLAogICAgcGxhY2V4PSJQcm9jZWVkaW5ncyBvZiB0aGUgRmlmdGggSW50ZXJuYXRpb25hbCBKb2ludCBDb25mZXJlbmNlIG9uIEF1dG9ub21vdXMgQWdlbnRzIGFuZCBNdWx0aWFnZW50IFN5c3RlbXMiLAopKQonJycpOw==\"));\n",
       "    "
      ],
      "text/plain": [
       "<IPython.core.display.Javascript object>"
      ]
     },
     "metadata": {},
     "output_type": "display_data"
    },
    {
     "data": {
      "application/javascript": [
       "$('span:contains(\"# Temp\")').closest('.cell').remove();"
      ],
      "text/plain": [
       "<IPython.core.display.Javascript object>"
      ]
     },
     "metadata": {},
     "output_type": "display_data"
    },
    {
     "data": {
      "application/javascript": [
       "\n",
       "        $('span:contains(\"# Temp\")').closest('.cell').remove();\n",
       "        var code = IPython.notebook.insert_cell_below('code');\n",
       "        code.set_text(atob(\"IyBUZW1wCmluc2VydCgnJycKbXVua3ZvbGQyMDAyYSA9IERCKFdvcmtVbnJlbGF0ZWQoCiAgICAyMDAyLCAiU3BlY2lhbCBJc3N1ZSBvbjogRS1jb21tZXJjZSBTeXN0ZW1zIERldmVsb3BtZW50IFByYWN0aWNlcyIsCiAgICBkaXNwbGF5PSJtdW5rdm9sZCIsCiAgICBhdXRob3JzPSJNdW5rdm9sZCwgQmr4cm4gRXJpayBhbmQgUHVyYW8sIFNhbmRlZXAiLAogICAgcGxhY2U9RkFLRSwKICAgIHBwPSI2LS03IiwKICAgIGVudHJ5dHlwZT0iYXJ0aWNsZSIsCiAgICBpc3N1ZV9kYXRlPSJGYWxsIDIwMDIiLAogICAgdm9sdW1lPSIzMyIsCiAgICBudW1iZXI9IjQiLAogICAgbW9udGg9ImRlYyIsCiAgICBpc3NuPSIwMDk1LTAwMzMiLAogICAgSUQ9Ik11bmt2b2xkOjIwMDI6U0lFOjU5MDgwNi41OTA4MDkiLAogICAgYWNtPSIxIiwKICAgIHBsYWNleD0iU0lHTUlTIERhdGFiYXNlIiwKKSkKJycnKTs=\"));\n",
       "    "
      ],
      "text/plain": [
       "<IPython.core.display.Javascript object>"
      ]
     },
     "metadata": {},
     "output_type": "display_data"
    },
    {
     "data": {
      "application/javascript": [
       "$('span:contains(\"# Temp\")').closest('.cell').remove();"
      ],
      "text/plain": [
       "<IPython.core.display.Javascript object>"
      ]
     },
     "metadata": {},
     "output_type": "display_data"
    },
    {
     "data": {
      "application/javascript": [
       "\n",
       "        $('span:contains(\"# Temp\")').closest('.cell').remove();\n",
       "        var code = IPython.notebook.insert_cell_below('code');\n",
       "        code.set_text(atob(\"IyBUZW1wCmluc2VydCgnJycKbXVua3ZvbGQyMDAyYSA9IERCKFdvcmtVbnJlbGF0ZWQoCiAgICAyMDAyLCAiU3BlY2lhbCBJc3N1ZSBvbjogRS1jb21tZXJjZSBTeXN0ZW1zIERldmVsb3BtZW50IFByYWN0aWNlcyIsCiAgICBkaXNwbGF5PSJtdW5rdm9sZCIsCiAgICBhdXRob3JzPSJNdW5rdm9sZCwgQmr4cm4gRXJpayBhbmQgUHVyYW8sIFNhbmRlZXAiLAogICAgcGxhY2U9RkFLRSwKICAgIHBwPSI2LS03IiwKICAgIGVudHJ5dHlwZT0iYXJ0aWNsZSIsCiAgICBpc3N1ZV9kYXRlPSJGYWxsIDIwMDIiLAogICAgdm9sdW1lPSIzMyIsCiAgICBudW1iZXI9IjQiLAogICAgbW9udGg9ImRlYyIsCiAgICBpc3NuPSIwMDk1LTAwMzMiLAogICAgSUQ9Ik11bmt2b2xkOjIwMDI6U0lFOjU5MDgwNi41OTA4MDkiLAogICAgYWNtPSIxIiwKICAgIHBsYWNleD0iU0lHTUlTIERhdGFiYXNlIiwKKSkKJycnKTs=\"));\n",
       "    "
      ],
      "text/plain": [
       "<IPython.core.display.Javascript object>"
      ]
     },
     "metadata": {},
     "output_type": "display_data"
    },
    {
     "data": {
      "application/javascript": [
       "$('span:contains(\"# Temp\")').closest('.cell').remove();"
      ],
      "text/plain": [
       "<IPython.core.display.Javascript object>"
      ]
     },
     "metadata": {},
     "output_type": "display_data"
    },
    {
     "data": {
      "application/javascript": [
       "\n",
       "        $('span:contains(\"# Temp\")').closest('.cell').remove();\n",
       "        var code = IPython.notebook.insert_cell_below('code');\n",
       "        code.set_text(atob(\"IyBUZW1wCmluc2VydCgnJycKMjAwNmEgPSBEQihXb3JrVW5yZWxhdGVkKAogICAgMjAwNiwgIk9uIHRoZSBMb2dpYyBvZiBDb2FsaXRpb25hbCBHYW1lcyIsCiAgICBkaXNwbGF5PSIiLAogICAgYXV0aG9ycz0iXEFBZ290bmVzLCBUaG9tYXMgYW5kIHZhbiBkZXIgSG9laywgV2llYmUgYW5kIFdvb2xkcmlkZ2UsIE1pY2hhZWwiLAogICAgcGxhY2U9RkFLRSwKICAgIHBwPSIxNTMtLTE2MCIsCiAgICBlbnRyeXR5cGU9ImlucHJvY2VlZGluZ3MiLAogICAgc2VyaWVzPSJBQU1BUyAnMDYiLAogICAgaXNibj0iMS01OTU5My0zMDMtNCIsCiAgICBsb2NhdGlvbj0iSGFrb2RhdGUsIEphcGFuIiwKICAgIElEPSJBZ290bmVzOjIwMDY6TENHOjExNjA2MzMuMTE2MDY1OSIsCiAgICBhY209IjEiLAogICAgcGxhY2V4PSJQcm9jZWVkaW5ncyBvZiB0aGUgRmlmdGggSW50ZXJuYXRpb25hbCBKb2ludCBDb25mZXJlbmNlIG9uIEF1dG9ub21vdXMgQWdlbnRzIGFuZCBNdWx0aWFnZW50IFN5c3RlbXMiLAopKQonJycpOw==\"));\n",
       "    "
      ],
      "text/plain": [
       "<IPython.core.display.Javascript object>"
      ]
     },
     "metadata": {},
     "output_type": "display_data"
    },
    {
     "data": {
      "application/javascript": [
       "$('span:contains(\"# Temp\")').closest('.cell').remove();"
      ],
      "text/plain": [
       "<IPython.core.display.Javascript object>"
      ]
     },
     "metadata": {},
     "output_type": "display_data"
    },
    {
     "data": {
      "application/javascript": [
       "\n",
       "        $('span:contains(\"# Temp\")').closest('.cell').remove();\n",
       "        var code = IPython.notebook.insert_cell_below('code');\n",
       "        code.set_text(atob(\"IyBUZW1wCmluc2VydCgnJycKMjAwNmEgPSBEQihXb3JrVW5yZWxhdGVkKAogICAgMjAwNiwgIk9uIHRoZSBMb2dpYyBvZiBDb2FsaXRpb25hbCBHYW1lcyIsCiAgICBkaXNwbGF5PSIiLAogICAgYXV0aG9ycz0iXEFBZ290bmVzLCBUaG9tYXMgYW5kIHZhbiBkZXIgSG9laywgV2llYmUgYW5kIFdvb2xkcmlkZ2UsIE1pY2hhZWwiLAogICAgcGxhY2U9RkFLRSwKICAgIHBwPSIxNTMtLTE2MCIsCiAgICBlbnRyeXR5cGU9ImlucHJvY2VlZGluZ3MiLAogICAgc2VyaWVzPSJBQU1BUyAnMDYiLAogICAgaXNibj0iMS01OTU5My0zMDMtNCIsCiAgICBsb2NhdGlvbj0iSGFrb2RhdGUsIEphcGFuIiwKICAgIElEPSJBZ290bmVzOjIwMDY6TENHOjExNjA2MzMuMTE2MDY1OSIsCiAgICBhY209IjEiLAogICAgcGxhY2V4PSJQcm9jZWVkaW5ncyBvZiB0aGUgRmlmdGggSW50ZXJuYXRpb25hbCBKb2ludCBDb25mZXJlbmNlIG9uIEF1dG9ub21vdXMgQWdlbnRzIGFuZCBNdWx0aWFnZW50IFN5c3RlbXMiLAopKQonJycpOw==\"));\n",
       "    "
      ],
      "text/plain": [
       "<IPython.core.display.Javascript object>"
      ]
     },
     "metadata": {},
     "output_type": "display_data"
    },
    {
     "data": {
      "application/javascript": [
       "$('span:contains(\"# Temp\")').closest('.cell').remove();"
      ],
      "text/plain": [
       "<IPython.core.display.Javascript object>"
      ]
     },
     "metadata": {},
     "output_type": "display_data"
    },
    {
     "data": {
      "application/javascript": [
       "\n",
       "        $('span:contains(\"# Temp\")').closest('.cell').remove();\n",
       "        var code = IPython.notebook.insert_cell_below('code');\n",
       "        code.set_text(atob(\"IyBUZW1wCmluc2VydCgnJycKbXVua3ZvbGQyMDAyYSA9IERCKFdvcmtVbnJlbGF0ZWQoCiAgICAyMDAyLCAiU3BlY2lhbCBJc3N1ZSBvbjogRS1jb21tZXJjZSBTeXN0ZW1zIERldmVsb3BtZW50IFByYWN0aWNlcyIsCiAgICBkaXNwbGF5PSJtdW5rdm9sZCIsCiAgICBhdXRob3JzPSJNdW5rdm9sZCwgQmr4cm4gRXJpayBhbmQgUHVyYW8sIFNhbmRlZXAiLAogICAgcGxhY2U9RkFLRSwKICAgIHBwPSI2LS03IiwKICAgIGVudHJ5dHlwZT0iYXJ0aWNsZSIsCiAgICBpc3N1ZV9kYXRlPSJGYWxsIDIwMDIiLAogICAgdm9sdW1lPSIzMyIsCiAgICBudW1iZXI9IjQiLAogICAgbW9udGg9ImRlYyIsCiAgICBpc3NuPSIwMDk1LTAwMzMiLAogICAgSUQ9Ik11bmt2b2xkOjIwMDI6U0lFOjU5MDgwNi41OTA4MDkiLAogICAgYWNtPSIxIiwKICAgIHBsYWNleD0iU0lHTUlTIERhdGFiYXNlIiwKKSkKJycnKTs=\"));\n",
       "    "
      ],
      "text/plain": [
       "<IPython.core.display.Javascript object>"
      ]
     },
     "metadata": {},
     "output_type": "display_data"
    },
    {
     "data": {
      "application/javascript": [
       "$('span:contains(\"# Temp\")').closest('.cell').remove();"
      ],
      "text/plain": [
       "<IPython.core.display.Javascript object>"
      ]
     },
     "metadata": {},
     "output_type": "display_data"
    },
    {
     "data": {
      "application/javascript": [
       "\n",
       "        $('span:contains(\"# Temp\")').closest('.cell').remove();\n",
       "        var code = IPython.notebook.insert_cell_below('code');\n",
       "        code.set_text(atob(\"IyBUZW1wCmluc2VydCgnJycKbXVua3ZvbGQyMDAyYSA9IERCKFdvcmtVbnJlbGF0ZWQoCiAgICAyMDAyLCAiU3BlY2lhbCBJc3N1ZSBvbjogRS1jb21tZXJjZSBTeXN0ZW1zIERldmVsb3BtZW50IFByYWN0aWNlcyIsCiAgICBkaXNwbGF5PSJtdW5rdm9sZCIsCiAgICBhdXRob3JzPSJNdW5rdm9sZCwgQmr4cm4gRXJpayBhbmQgUHVyYW8sIFNhbmRlZXAiLAogICAgcGxhY2U9RkFLRSwKICAgIHBwPSI2LS03IiwKICAgIGVudHJ5dHlwZT0iYXJ0aWNsZSIsCiAgICBpc3N1ZV9kYXRlPSJGYWxsIDIwMDIiLAogICAgdm9sdW1lPSIzMyIsCiAgICBudW1iZXI9IjQiLAogICAgbW9udGg9ImRlYyIsCiAgICBpc3NuPSIwMDk1LTAwMzMiLAogICAgSUQ9Ik11bmt2b2xkOjIwMDI6U0lFOjU5MDgwNi41OTA4MDkiLAogICAgYWNtPSIxIiwKICAgIHBsYWNleD0iU0lHTUlTIERhdGFiYXNlIiwKKSkKJycnKTs=\"));\n",
       "    "
      ],
      "text/plain": [
       "<IPython.core.display.Javascript object>"
      ]
     },
     "metadata": {},
     "output_type": "display_data"
    },
    {
     "data": {
      "application/javascript": [
       "$('span:contains(\"# Temp\")').closest('.cell').remove();"
      ],
      "text/plain": [
       "<IPython.core.display.Javascript object>"
      ]
     },
     "metadata": {},
     "output_type": "display_data"
    },
    {
     "data": {
      "application/javascript": [
       "\n",
       "        $('span:contains(\"# Temp\")').closest('.cell').remove();\n",
       "        var code = IPython.notebook.insert_cell_below('code');\n",
       "        code.set_text(atob(\"IyBUZW1wCmluc2VydCgnJycKZ3VuYXJhdGhuZTIwMDlhID0gREIoV29ya1VucmVsYXRlZCgKICAgIDIwMDksICJFeHBlcmllbmNlIHdpdGggQWRhcHRpbmcgYSBXUy1CUEVMIFJ1bnRpbWUgZm9yIGVTY2llbmNlIFdvcmtmbG93cyIsCiAgICBkaXNwbGF5PSJndW5hcmF0aG5lIiwKICAgIGF1dGhvcnM9Ikd1bmFyYXRobmUsIFRoaWxpbmEgYW5kIEhlcmF0aCwgQ2hhdGh1cmEgYW5kIENoaW50aGFrYSwgRXJhbiBhbmQgTWFycnUsIFN1cmVzaCIsCiAgICBwbGFjZT1GQUtFLAogICAgcHA9Ijc6MS0tNzoxMCIsCiAgICBlbnRyeXR5cGU9ImlucHJvY2VlZGluZ3MiLAogICAgc2VyaWVzPSJHQ0UgJzA5IiwKICAgIGlzYm49Ijk3OC0xLTYwNTU4LTg4Ny0yIiwKICAgIGxvY2F0aW9uPSJQb3J0bGFuZCwgT3JlZ29uIiwKICAgIGFydGljbGVubz0iNyIsCiAgICBJRD0iR3VuYXJhdGhuZToyMDA5OkVBVzoxNjU4MjYwLjE2NTgyNzAiLAogICAgYWNtPSIxIiwKICAgIHBsYWNleD0iUHJvY2VlZGluZ3Mgb2YgdGhlIDV0aCBHcmlkIENvbXB1dGluZyBFbnZpcm9ubWVudHMgV29ya3Nob3AiLAopKQonJycpOw==\"));\n",
       "    "
      ],
      "text/plain": [
       "<IPython.core.display.Javascript object>"
      ]
     },
     "metadata": {},
     "output_type": "display_data"
    },
    {
     "data": {
      "application/javascript": [
       "$('span:contains(\"# Temp\")').closest('.cell').remove();"
      ],
      "text/plain": [
       "<IPython.core.display.Javascript object>"
      ]
     },
     "metadata": {},
     "output_type": "display_data"
    },
    {
     "data": {
      "application/javascript": [
       "\n",
       "        $('span:contains(\"# Temp\")').closest('.cell').remove();\n",
       "        var code = IPython.notebook.insert_cell_below('code');\n",
       "        code.set_text(atob(\"IyBUZW1wCmluc2VydCgnJycKZ3VuYXJhdGhuZTIwMDlhID0gREIoV29ya1VucmVsYXRlZCgKICAgIDIwMDksICJFeHBlcmllbmNlIHdpdGggQWRhcHRpbmcgYSBXUy1CUEVMIFJ1bnRpbWUgZm9yIGVTY2llbmNlIFdvcmtmbG93cyIsCiAgICBkaXNwbGF5PSJndW5hcmF0aG5lIiwKICAgIGF1dGhvcnM9Ikd1bmFyYXRobmUsIFRoaWxpbmEgYW5kIEhlcmF0aCwgQ2hhdGh1cmEgYW5kIENoaW50aGFrYSwgRXJhbiBhbmQgTWFycnUsIFN1cmVzaCIsCiAgICBwbGFjZT1GQUtFLAogICAgcHA9Ijc6MS0tNzoxMCIsCiAgICBlbnRyeXR5cGU9ImlucHJvY2VlZGluZ3MiLAogICAgc2VyaWVzPSJHQ0UgJzA5IiwKICAgIGlzYm49Ijk3OC0xLTYwNTU4LTg4Ny0yIiwKICAgIGxvY2F0aW9uPSJQb3J0bGFuZCwgT3JlZ29uIiwKICAgIGFydGljbGVubz0iNyIsCiAgICBJRD0iR3VuYXJhdGhuZToyMDA5OkVBVzoxNjU4MjYwLjE2NTgyNzAiLAogICAgYWNtPSIxIiwKICAgIHBsYWNleD0iUHJvY2VlZGluZ3Mgb2YgdGhlIDV0aCBHcmlkIENvbXB1dGluZyBFbnZpcm9ubWVudHMgV29ya3Nob3AiLAopKQonJycpOw==\"));\n",
       "    "
      ],
      "text/plain": [
       "<IPython.core.display.Javascript object>"
      ]
     },
     "metadata": {},
     "output_type": "display_data"
    },
    {
     "data": {
      "application/javascript": [
       "$('span:contains(\"# Temp\")').closest('.cell').remove();"
      ],
      "text/plain": [
       "<IPython.core.display.Javascript object>"
      ]
     },
     "metadata": {},
     "output_type": "display_data"
    },
    {
     "data": {
      "application/javascript": [
       "\n",
       "        $('span:contains(\"# Temp\")').closest('.cell').remove();\n",
       "        var code = IPython.notebook.insert_cell_below('code');\n",
       "        code.set_text(atob(\"IyBUZW1wCmluc2VydCgnJycKZmFjaHJ1bm5pc2EyMDA5YSA9IERCKFdvcmtVbnJlbGF0ZWQoCiAgICAyMDA5LCAiQ3VycmVudCBSZXNlYXJjaCBUcmVuZHMgYW5kIERpcmVjdGlvbnMgZm9yIEZ1dHVyZSBSZXNlYXJjaCBpbiBUcnVzdCBNYWludGVuYW5jZSBmb3IgVmlydHVhbCBFbnZpcm9ubWVudHMiLAogICAgZGlzcGxheT0iZmFjaHJ1bm5pc2EiLAogICAgYXV0aG9ycz0iRmFjaHJ1bm5pc2EsIE9saXZpYSBhbmQgSHVzc2FpbiwgRmFyb29raCBLaGFkZWVyIGFuZCBDaGFuZywgRWxpemFiZXRoIiwKICAgIHBsYWNlPUZBS0UsCiAgICBwcD0iNzE4LS03MjQiLAogICAgZW50cnl0eXBlPSJpbnByb2NlZWRpbmdzIiwKICAgIHNlcmllcz0iaWlXQVMgJzA5IiwKICAgIGlzYm49Ijk3OC0xLTYwNTU4LTY2MC0xIiwKICAgIGxvY2F0aW9uPSJLdWFsYSBMdW1wdXIsIE1hbGF5c2lhIiwKICAgIElEPSJGYWNocnVubmlzYToyMDA5OkNSVDoxODA2MzM4LjE4MDY0NzQiLAogICAgYWNtPSIxIiwKICAgIHBsYWNleD0iUHJvY2VlZGluZ3Mgb2YgdGhlIDExdGggSW50ZXJuYXRpb25hbCBDb25mZXJlbmNlIG9uIEluZm9ybWF0aW9uIEludGVncmF0aW9uIGFuZCBXZWItYmFzZWQgQXBwbGljYXRpb25zICZBbXA7IFNlcnZpY2VzIiwKKSkKJycnKTs=\"));\n",
       "    "
      ],
      "text/plain": [
       "<IPython.core.display.Javascript object>"
      ]
     },
     "metadata": {},
     "output_type": "display_data"
    },
    {
     "data": {
      "application/javascript": [
       "$('span:contains(\"# Temp\")').closest('.cell').remove();"
      ],
      "text/plain": [
       "<IPython.core.display.Javascript object>"
      ]
     },
     "metadata": {},
     "output_type": "display_data"
    },
    {
     "data": {
      "application/javascript": [
       "\n",
       "        $('span:contains(\"# Temp\")').closest('.cell').remove();\n",
       "        var code = IPython.notebook.insert_cell_below('code');\n",
       "        code.set_text(atob(\"IyBUZW1wCmluc2VydCgnJycKZmFjaHJ1bm5pc2EyMDA5YSA9IERCKFdvcmtVbnJlbGF0ZWQoCiAgICAyMDA5LCAiQ3VycmVudCBSZXNlYXJjaCBUcmVuZHMgYW5kIERpcmVjdGlvbnMgZm9yIEZ1dHVyZSBSZXNlYXJjaCBpbiBUcnVzdCBNYWludGVuYW5jZSBmb3IgVmlydHVhbCBFbnZpcm9ubWVudHMiLAogICAgZGlzcGxheT0iZmFjaHJ1bm5pc2EiLAogICAgYXV0aG9ycz0iRmFjaHJ1bm5pc2EsIE9saXZpYSBhbmQgSHVzc2FpbiwgRmFyb29raCBLaGFkZWVyIGFuZCBDaGFuZywgRWxpemFiZXRoIiwKICAgIHBsYWNlPUZBS0UsCiAgICBwcD0iNzE4LS03MjQiLAogICAgZW50cnl0eXBlPSJpbnByb2NlZWRpbmdzIiwKICAgIHNlcmllcz0iaWlXQVMgJzA5IiwKICAgIGlzYm49Ijk3OC0xLTYwNTU4LTY2MC0xIiwKICAgIGxvY2F0aW9uPSJLdWFsYSBMdW1wdXIsIE1hbGF5c2lhIiwKICAgIElEPSJGYWNocnVubmlzYToyMDA5OkNSVDoxODA2MzM4LjE4MDY0NzQiLAogICAgYWNtPSIxIiwKICAgIHBsYWNleD0iUHJvY2VlZGluZ3Mgb2YgdGhlIDExdGggSW50ZXJuYXRpb25hbCBDb25mZXJlbmNlIG9uIEluZm9ybWF0aW9uIEludGVncmF0aW9uIGFuZCBXZWItYmFzZWQgQXBwbGljYXRpb25zICZBbXA7IFNlcnZpY2VzIiwKKSkKJycnKTs=\"));\n",
       "    "
      ],
      "text/plain": [
       "<IPython.core.display.Javascript object>"
      ]
     },
     "metadata": {},
     "output_type": "display_data"
    },
    {
     "data": {
      "application/javascript": [
       "$('span:contains(\"# Temp\")').closest('.cell').remove();"
      ],
      "text/plain": [
       "<IPython.core.display.Javascript object>"
      ]
     },
     "metadata": {},
     "output_type": "display_data"
    },
    {
     "data": {
      "application/javascript": [
       "\n",
       "        $('span:contains(\"# Temp\")').closest('.cell').remove();\n",
       "        var code = IPython.notebook.insert_cell_below('code');\n",
       "        code.set_text(atob(\"IyBUZW1wCmluc2VydCgnJycKYnVlaHJlcjIwMTBhID0gREIoV29ya1VucmVsYXRlZCgKICAgIDIwMTAsICJBIERpc3RyaWJ1dGVkIFBsYWNlbWVudCBTZXJ2aWNlIGZvciBHcmFwaC1zdHJ1Y3R1cmVkIGFuZCBUcmVlLXN0cnVjdHVyZWQgRGF0YSIsCiAgICBkaXNwbGF5PSJidWVocmVyIiwKICAgIGF1dGhvcnM9IkJ1ZWhyZXIsIEdyZWdvcnkgYW5kIFBhcnRoYXNhcmF0aHksIFNyaW5pdmFzYW4gYW5kIFRhdGlrb25kYSwgU2hpcmlzaCIsCiAgICBwbGFjZT1GQUtFLAogICAgcHA9IjM1NS0tMzU2IiwKICAgIGVudHJ5dHlwZT0iYXJ0aWNsZSIsCiAgICBpc3N1ZV9kYXRlPSJNYXkgMjAxMCIsCiAgICB2b2x1bWU9IjQ1IiwKICAgIG51bWJlcj0iNSIsCiAgICBtb250aD0iamFuIiwKICAgIGlzc249IjAzNjItMTM0MCIsCiAgICBJRD0iQnVlaHJlcjoyMDEwOkRQUzoxODM3ODUzLjE2OTM1MTEiLAogICAgYWNtPSIxIiwKICAgIHBsYWNleD0iU0lHUExBTiBOb3QuIiwKKSkKJycnKTs=\"));\n",
       "    "
      ],
      "text/plain": [
       "<IPython.core.display.Javascript object>"
      ]
     },
     "metadata": {},
     "output_type": "display_data"
    },
    {
     "data": {
      "application/javascript": [
       "$('span:contains(\"# Temp\")').closest('.cell').remove();"
      ],
      "text/plain": [
       "<IPython.core.display.Javascript object>"
      ]
     },
     "metadata": {},
     "output_type": "display_data"
    },
    {
     "data": {
      "application/javascript": [
       "\n",
       "        $('span:contains(\"# Temp\")').closest('.cell').remove();\n",
       "        var code = IPython.notebook.insert_cell_below('code');\n",
       "        code.set_text(atob(\"IyBUZW1wCmluc2VydCgnJycKYnVlaHJlcjIwMTBhID0gREIoV29ya1VucmVsYXRlZCgKICAgIDIwMTAsICJBIERpc3RyaWJ1dGVkIFBsYWNlbWVudCBTZXJ2aWNlIGZvciBHcmFwaC1zdHJ1Y3R1cmVkIGFuZCBUcmVlLXN0cnVjdHVyZWQgRGF0YSIsCiAgICBkaXNwbGF5PSJidWVocmVyIiwKICAgIGF1dGhvcnM9IkJ1ZWhyZXIsIEdyZWdvcnkgYW5kIFBhcnRoYXNhcmF0aHksIFNyaW5pdmFzYW4gYW5kIFRhdGlrb25kYSwgU2hpcmlzaCIsCiAgICBwbGFjZT1GQUtFLAogICAgcHA9IjM1NS0tMzU2IiwKICAgIGVudHJ5dHlwZT0iYXJ0aWNsZSIsCiAgICBpc3N1ZV9kYXRlPSJNYXkgMjAxMCIsCiAgICB2b2x1bWU9IjQ1IiwKICAgIG51bWJlcj0iNSIsCiAgICBtb250aD0iamFuIiwKICAgIGlzc249IjAzNjItMTM0MCIsCiAgICBJRD0iQnVlaHJlcjoyMDEwOkRQUzoxODM3ODUzLjE2OTM1MTEiLAogICAgYWNtPSIxIiwKICAgIHBsYWNleD0iU0lHUExBTiBOb3QuIiwKKSkKJycnKTs=\"));\n",
       "    "
      ],
      "text/plain": [
       "<IPython.core.display.Javascript object>"
      ]
     },
     "metadata": {},
     "output_type": "display_data"
    },
    {
     "data": {
      "application/javascript": [
       "$('span:contains(\"# Temp\")').closest('.cell').remove();"
      ],
      "text/plain": [
       "<IPython.core.display.Javascript object>"
      ]
     },
     "metadata": {},
     "output_type": "display_data"
    },
    {
     "data": {
      "application/javascript": [
       "\n",
       "        $('span:contains(\"# Temp\")').closest('.cell').remove();\n",
       "        var code = IPython.notebook.insert_cell_below('code');\n",
       "        code.set_text(atob(\"IyBUZW1wCmluc2VydCgnJycnJycpOwpzZXRfYXR0cmlidXRlKCdidWVocmVyMjAxMGEnLCAnc2VyaWVzJywgJ1BQb1BQICcxMCcpOwpzZXRfYXR0cmlidXRlKCdidWVocmVyMjAxMGEnLCAnaXNibicsICc5NzgtMS02MDU1OC04NzctMycpOwpzZXRfYXR0cmlidXRlKCdidWVocmVyMjAxMGEnLCAnbG9jYXRpb24nLCAnQmFuZ2Fsb3JlLCBJbmRpYScpOw==\"));\n",
       "    "
      ],
      "text/plain": [
       "<IPython.core.display.Javascript object>"
      ]
     },
     "metadata": {},
     "output_type": "display_data"
    },
    {
     "data": {
      "application/javascript": [
       "$('span:contains(\"# Temp\")').closest('.cell').remove();"
      ],
      "text/plain": [
       "<IPython.core.display.Javascript object>"
      ]
     },
     "metadata": {},
     "output_type": "display_data"
    },
    {
     "data": {
      "application/javascript": [
       "\n",
       "        $('span:contains(\"# Temp\")').closest('.cell').remove();\n",
       "        var code = IPython.notebook.insert_cell_below('code');\n",
       "        code.set_text(atob(\"IyBUZW1wCmluc2VydCgnJycnJycpOwpzZXRfYXR0cmlidXRlKCdidWVocmVyMjAxMGEnLCAnc2VyaWVzJywgJ1BQb1BQICcxMCcpOwpzZXRfYXR0cmlidXRlKCdidWVocmVyMjAxMGEnLCAnaXNibicsICc5NzgtMS02MDU1OC04NzctMycpOwpzZXRfYXR0cmlidXRlKCdidWVocmVyMjAxMGEnLCAnbG9jYXRpb24nLCAnQmFuZ2Fsb3JlLCBJbmRpYScpOw==\"));\n",
       "    "
      ],
      "text/plain": [
       "<IPython.core.display.Javascript object>"
      ]
     },
     "metadata": {},
     "output_type": "display_data"
    },
    {
     "data": {
      "application/javascript": [
       "$('span:contains(\"# Temp\")').closest('.cell').remove();"
      ],
      "text/plain": [
       "<IPython.core.display.Javascript object>"
      ]
     },
     "metadata": {},
     "output_type": "display_data"
    },
    {
     "data": {
      "application/javascript": [
       "\n",
       "        $('span:contains(\"# Temp\")').closest('.cell').remove();\n",
       "        var code = IPython.notebook.insert_cell_below('code');\n",
       "        code.set_text(atob(\"IyBUZW1wCmluc2VydCgnJycKZmVpZ2VuYmF1bTIwMDJhID0gREIoV29ya1VucmVsYXRlZCgKICAgIDIwMDIsICJBIEJHUC1iYXNlZCBNZWNoYW5pc20gZm9yIExvd2VzdC1jb3N0IFJvdXRpbmciLAogICAgZGlzcGxheT0iZmVpZ2VuYmF1bSIsCiAgICBhdXRob3JzPSJGZWlnZW5iYXVtLCBKb2FuIGFuZCBQYXBhZGltaXRyaW91LCBDaHJpc3RvcyBhbmQgU2FtaSwgUmFodWwgYW5kIFNoZW5rZXIsIFNjb3R0IiwKICAgIHBsYWNlPUZBS0UsCiAgICBwcD0iMTczLS0xODIiLAogICAgZW50cnl0eXBlPSJpbnByb2NlZWRpbmdzIiwKICAgIHNlcmllcz0iUE9EQyAnMDIiLAogICAgaXNibj0iMS01ODExMy00ODUtMSIsCiAgICBsb2NhdGlvbj0iTW9udGVyZXksIENhbGlmb3JuaWEiLAogICAgSUQ9IkZlaWdlbmJhdW06MjAwMjpCTUw6NTcxODI1LjU3MTg1NiIsCiAgICBhY209IjEiLAogICAgcGxhY2V4PSJQcm9jZWVkaW5ncyBvZiB0aGUgVHdlbnR5LWZpcnN0IEFubnVhbCBTeW1wb3NpdW0gb24gUHJpbmNpcGxlcyBvZiBEaXN0cmlidXRlZCBDb21wdXRpbmciLAopKQonJycpOw==\"));\n",
       "    "
      ],
      "text/plain": [
       "<IPython.core.display.Javascript object>"
      ]
     },
     "metadata": {},
     "output_type": "display_data"
    },
    {
     "data": {
      "application/javascript": [
       "$('span:contains(\"# Temp\")').closest('.cell').remove();"
      ],
      "text/plain": [
       "<IPython.core.display.Javascript object>"
      ]
     },
     "metadata": {},
     "output_type": "display_data"
    },
    {
     "data": {
      "application/javascript": [
       "\n",
       "        $('span:contains(\"# Temp\")').closest('.cell').remove();\n",
       "        var code = IPython.notebook.insert_cell_below('code');\n",
       "        code.set_text(atob(\"IyBUZW1wCmluc2VydCgnJycKZmVpZ2VuYmF1bTIwMDJhID0gREIoV29ya1VucmVsYXRlZCgKICAgIDIwMDIsICJBIEJHUC1iYXNlZCBNZWNoYW5pc20gZm9yIExvd2VzdC1jb3N0IFJvdXRpbmciLAogICAgZGlzcGxheT0iZmVpZ2VuYmF1bSIsCiAgICBhdXRob3JzPSJGZWlnZW5iYXVtLCBKb2FuIGFuZCBQYXBhZGltaXRyaW91LCBDaHJpc3RvcyBhbmQgU2FtaSwgUmFodWwgYW5kIFNoZW5rZXIsIFNjb3R0IiwKICAgIHBsYWNlPUZBS0UsCiAgICBwcD0iMTczLS0xODIiLAogICAgZW50cnl0eXBlPSJpbnByb2NlZWRpbmdzIiwKICAgIHNlcmllcz0iUE9EQyAnMDIiLAogICAgaXNibj0iMS01ODExMy00ODUtMSIsCiAgICBsb2NhdGlvbj0iTW9udGVyZXksIENhbGlmb3JuaWEiLAogICAgSUQ9IkZlaWdlbmJhdW06MjAwMjpCTUw6NTcxODI1LjU3MTg1NiIsCiAgICBhY209IjEiLAogICAgcGxhY2V4PSJQcm9jZWVkaW5ncyBvZiB0aGUgVHdlbnR5LWZpcnN0IEFubnVhbCBTeW1wb3NpdW0gb24gUHJpbmNpcGxlcyBvZiBEaXN0cmlidXRlZCBDb21wdXRpbmciLAopKQonJycpOw==\"));\n",
       "    "
      ],
      "text/plain": [
       "<IPython.core.display.Javascript object>"
      ]
     },
     "metadata": {},
     "output_type": "display_data"
    },
    {
     "data": {
      "application/javascript": [
       "$('span:contains(\"# Temp\")').closest('.cell').remove();"
      ],
      "text/plain": [
       "<IPython.core.display.Javascript object>"
      ]
     },
     "metadata": {},
     "output_type": "display_data"
    },
    {
     "data": {
      "application/javascript": [
       "\n",
       "        $('span:contains(\"# Temp\")').closest('.cell').remove();\n",
       "        var code = IPython.notebook.insert_cell_below('code');\n",
       "        code.set_text(atob(\"IyBUZW1wCmluc2VydCgnJycKc3RhZmZvcmQyMDA4YSA9IERCKFdvcmtVbnJlbGF0ZWQoCiAgICAyMDA4LCAiTGV0dGVyIGZyb20gdGhlIEVkaXRvcnMiLAogICAgZGlzcGxheT0ic3RhZmZvcmQiLAogICAgYXV0aG9ycz0iU3RhZmZvcmQsIFRvbSBhbmQgQ2hhdSwgUGF0cmljayBZLksuIiwKICAgIHBsYWNlPUZBS0UsCiAgICBwcD0iNC0tNSIsCiAgICBlbnRyeXR5cGU9ImFydGljbGUiLAogICAgaXNzdWVfZGF0ZT0iTWF5IDIwMDgiLAogICAgdm9sdW1lPSIzOSIsCiAgICBudW1iZXI9IjIiLAogICAgbW9udGg9ImFwciIsCiAgICBpc3NuPSIwMDk1LTAwMzMiLAogICAgSUQ9IlN0YWZmb3JkOjIwMDg6TEU6MTM2NDYzNi4xMzY0NjM3IiwKICAgIGFjbT0iMSIsCiAgICBwbGFjZXg9IlNJR01JUyBEYXRhYmFzZSIsCikpCicnJyk7\"));\n",
       "    "
      ],
      "text/plain": [
       "<IPython.core.display.Javascript object>"
      ]
     },
     "metadata": {},
     "output_type": "display_data"
    },
    {
     "data": {
      "application/javascript": [
       "$('span:contains(\"# Temp\")').closest('.cell').remove();"
      ],
      "text/plain": [
       "<IPython.core.display.Javascript object>"
      ]
     },
     "metadata": {},
     "output_type": "display_data"
    },
    {
     "data": {
      "application/javascript": [
       "\n",
       "        $('span:contains(\"# Temp\")').closest('.cell').remove();\n",
       "        var code = IPython.notebook.insert_cell_below('code');\n",
       "        code.set_text(atob(\"IyBUZW1wCmluc2VydCgnJycKc3RhZmZvcmQyMDA4YSA9IERCKFdvcmtVbnJlbGF0ZWQoCiAgICAyMDA4LCAiTGV0dGVyIGZyb20gdGhlIEVkaXRvcnMiLAogICAgZGlzcGxheT0ic3RhZmZvcmQiLAogICAgYXV0aG9ycz0iU3RhZmZvcmQsIFRvbSBhbmQgQ2hhdSwgUGF0cmljayBZLksuIiwKICAgIHBsYWNlPUZBS0UsCiAgICBwcD0iNC0tNSIsCiAgICBlbnRyeXR5cGU9ImFydGljbGUiLAogICAgaXNzdWVfZGF0ZT0iTWF5IDIwMDgiLAogICAgdm9sdW1lPSIzOSIsCiAgICBudW1iZXI9IjIiLAogICAgbW9udGg9ImFwciIsCiAgICBpc3NuPSIwMDk1LTAwMzMiLAogICAgSUQ9IlN0YWZmb3JkOjIwMDg6TEU6MTM2NDYzNi4xMzY0NjM3IiwKICAgIGFjbT0iMSIsCiAgICBwbGFjZXg9IlNJR01JUyBEYXRhYmFzZSIsCikpCicnJyk7\"));\n",
       "    "
      ],
      "text/plain": [
       "<IPython.core.display.Javascript object>"
      ]
     },
     "metadata": {},
     "output_type": "display_data"
    },
    {
     "data": {
      "application/javascript": [
       "$('span:contains(\"# Temp\")').closest('.cell').remove();"
      ],
      "text/plain": [
       "<IPython.core.display.Javascript object>"
      ]
     },
     "metadata": {},
     "output_type": "display_data"
    },
    {
     "data": {
      "application/javascript": [
       "\n",
       "        $('span:contains(\"# Temp\")').closest('.cell').remove();\n",
       "        var code = IPython.notebook.insert_cell_below('code');\n",
       "        code.set_text(atob(\"IyBUZW1wCmluc2VydCgnJycKaW1tb3JsaWNhMjAxMGEgPSBEQihXb3JrVW5yZWxhdGVkKAogICAgMjAxMCwgIkNvb3BlcmF0aW9uIGluIEFub255bW91cyBEeW5hbWljIFNvY2lhbCBOZXR3b3JrcyIsCiAgICBkaXNwbGF5PSJpbW1vcmxpY2EiLAogICAgYXV0aG9ycz0iSW1tb3JsaWNhLCBOaWNvbGUgYW5kIEx1Y2llciwgQnJlbmRhbiBhbmQgUm9nZXJzLCBCcmlhbiIsCiAgICBwbGFjZT1GQUtFLAogICAgcHA9IjI0MS0tMjQyIiwKICAgIGVudHJ5dHlwZT0iaW5wcm9jZWVkaW5ncyIsCiAgICBzZXJpZXM9IkVDICcxMCIsCiAgICBpc2JuPSI5NzgtMS02MDU1OC04MjItMyIsCiAgICBsb2NhdGlvbj0iQ2FtYnJpZGdlLCBNYXNzYWNodXNldHRzLCBVU0EiLAogICAgSUQ9IkltbW9ybGljYToyMDEwOkNBRDoxODA3MzQyLjE4MDczODEiLAogICAgYWNtPSIxIiwKICAgIHBsYWNleD0iUHJvY2VlZGluZ3Mgb2YgdGhlIDExdGggQUNNIENvbmZlcmVuY2Ugb24gRWxlY3Ryb25pYyBDb21tZXJjZSIsCikpCicnJyk7\"));\n",
       "    "
      ],
      "text/plain": [
       "<IPython.core.display.Javascript object>"
      ]
     },
     "metadata": {},
     "output_type": "display_data"
    },
    {
     "data": {
      "application/javascript": [
       "$('span:contains(\"# Temp\")').closest('.cell').remove();"
      ],
      "text/plain": [
       "<IPython.core.display.Javascript object>"
      ]
     },
     "metadata": {},
     "output_type": "display_data"
    },
    {
     "data": {
      "application/javascript": [
       "\n",
       "        $('span:contains(\"# Temp\")').closest('.cell').remove();\n",
       "        var code = IPython.notebook.insert_cell_below('code');\n",
       "        code.set_text(atob(\"IyBUZW1wCmluc2VydCgnJycKaW1tb3JsaWNhMjAxMGEgPSBEQihXb3JrVW5yZWxhdGVkKAogICAgMjAxMCwgIkNvb3BlcmF0aW9uIGluIEFub255bW91cyBEeW5hbWljIFNvY2lhbCBOZXR3b3JrcyIsCiAgICBkaXNwbGF5PSJpbW1vcmxpY2EiLAogICAgYXV0aG9ycz0iSW1tb3JsaWNhLCBOaWNvbGUgYW5kIEx1Y2llciwgQnJlbmRhbiBhbmQgUm9nZXJzLCBCcmlhbiIsCiAgICBwbGFjZT1GQUtFLAogICAgcHA9IjI0MS0tMjQyIiwKICAgIGVudHJ5dHlwZT0iaW5wcm9jZWVkaW5ncyIsCiAgICBzZXJpZXM9IkVDICcxMCIsCiAgICBpc2JuPSI5NzgtMS02MDU1OC04MjItMyIsCiAgICBsb2NhdGlvbj0iQ2FtYnJpZGdlLCBNYXNzYWNodXNldHRzLCBVU0EiLAogICAgSUQ9IkltbW9ybGljYToyMDEwOkNBRDoxODA3MzQyLjE4MDczODEiLAogICAgYWNtPSIxIiwKICAgIHBsYWNleD0iUHJvY2VlZGluZ3Mgb2YgdGhlIDExdGggQUNNIENvbmZlcmVuY2Ugb24gRWxlY3Ryb25pYyBDb21tZXJjZSIsCikpCicnJyk7\"));\n",
       "    "
      ],
      "text/plain": [
       "<IPython.core.display.Javascript object>"
      ]
     },
     "metadata": {},
     "output_type": "display_data"
    },
    {
     "data": {
      "application/javascript": [
       "$('span:contains(\"# Temp\")').closest('.cell').remove();"
      ],
      "text/plain": [
       "<IPython.core.display.Javascript object>"
      ]
     },
     "metadata": {},
     "output_type": "display_data"
    },
    {
     "data": {
      "application/javascript": [
       "\n",
       "        $('span:contains(\"# Temp\")').closest('.cell').remove();\n",
       "        var code = IPython.notebook.insert_cell_below('code');\n",
       "        code.set_text(atob(\"IyBUZW1wCmluc2VydCgnJycKamFjb2Jzb24yMDEyYSA9IERCKFdvcmtVbnJlbGF0ZWQoCiAgICAyMDEyLCAiTmV0d29ya2luZyBOYW1lZCBDb250ZW50IiwKICAgIGRpc3BsYXk9ImphY29ic29uIiwKICAgIGF1dGhvcnM9IkphY29ic29uLCBWYW4gYW5kIFNtZXR0ZXJzLCBEaWFuYSBLLiBhbmQgVGhvcm50b24sIEphbWVzIEQuIGFuZCBQbGFzcywgTWljaGFlbCBhbmQgQnJpZ2dzLCBOaWNrIGFuZCBCcmF5bmFyZCwgUmViZWNjYSIsCiAgICBwbGFjZT1GQUtFLAogICAgcHA9IjExNy0tMTI0IiwKICAgIGVudHJ5dHlwZT0iYXJ0aWNsZSIsCiAgICBpc3N1ZV9kYXRlPSJKYW51YXJ5IDIwMTIiLAogICAgdm9sdW1lPSI1NSIsCiAgICBudW1iZXI9IjEiLAogICAgbW9udGg9ImphbiIsCiAgICBpc3NuPSIwMDAxLTA3ODIiLAogICAgSUQ9IkphY29ic29uOjIwMTI6Tk5DOjIwNjMxNzYuMjA2MzIwNCIsCiAgICBhY209IjEiLAogICAgcGxhY2V4PSJDb21tdW4uIEFDTSIsCikpCicnJyk7\"));\n",
       "    "
      ],
      "text/plain": [
       "<IPython.core.display.Javascript object>"
      ]
     },
     "metadata": {},
     "output_type": "display_data"
    },
    {
     "data": {
      "application/javascript": [
       "$('span:contains(\"# Temp\")').closest('.cell').remove();"
      ],
      "text/plain": [
       "<IPython.core.display.Javascript object>"
      ]
     },
     "metadata": {},
     "output_type": "display_data"
    },
    {
     "data": {
      "application/javascript": [
       "\n",
       "        $('span:contains(\"# Temp\")').closest('.cell').remove();\n",
       "        var code = IPython.notebook.insert_cell_below('code');\n",
       "        code.set_text(atob(\"IyBUZW1wCmluc2VydCgnJycKamFjb2Jzb24yMDEyYSA9IERCKFdvcmtVbnJlbGF0ZWQoCiAgICAyMDEyLCAiTmV0d29ya2luZyBOYW1lZCBDb250ZW50IiwKICAgIGRpc3BsYXk9ImphY29ic29uIiwKICAgIGF1dGhvcnM9IkphY29ic29uLCBWYW4gYW5kIFNtZXR0ZXJzLCBEaWFuYSBLLiBhbmQgVGhvcm50b24sIEphbWVzIEQuIGFuZCBQbGFzcywgTWljaGFlbCBhbmQgQnJpZ2dzLCBOaWNrIGFuZCBCcmF5bmFyZCwgUmViZWNjYSIsCiAgICBwbGFjZT1GQUtFLAogICAgcHA9IjExNy0tMTI0IiwKICAgIGVudHJ5dHlwZT0iYXJ0aWNsZSIsCiAgICBpc3N1ZV9kYXRlPSJKYW51YXJ5IDIwMTIiLAogICAgdm9sdW1lPSI1NSIsCiAgICBudW1iZXI9IjEiLAogICAgbW9udGg9ImphbiIsCiAgICBpc3NuPSIwMDAxLTA3ODIiLAogICAgSUQ9IkphY29ic29uOjIwMTI6Tk5DOjIwNjMxNzYuMjA2MzIwNCIsCiAgICBhY209IjEiLAogICAgcGxhY2V4PSJDb21tdW4uIEFDTSIsCikpCicnJyk7\"));\n",
       "    "
      ],
      "text/plain": [
       "<IPython.core.display.Javascript object>"
      ]
     },
     "metadata": {},
     "output_type": "display_data"
    },
    {
     "data": {
      "application/javascript": [
       "$('span:contains(\"# Temp\")').closest('.cell').remove();"
      ],
      "text/plain": [
       "<IPython.core.display.Javascript object>"
      ]
     },
     "metadata": {},
     "output_type": "display_data"
    },
    {
     "data": {
      "application/javascript": [
       "\n",
       "        $('span:contains(\"# Temp\")').closest('.cell').remove();\n",
       "        var code = IPython.notebook.insert_cell_below('code');\n",
       "        code.set_text(atob(\"IyBUZW1wCmluc2VydCgnJycKa2ltMjAxMGEgPSBEQihXb3JrVW5yZWxhdGVkKAogICAgMjAxMCwgIlRoZSBSb2xlIG9mIElUIGluIEJ1c2luZXNzIEVjb3N5c3RlbXMiLAogICAgZGlzcGxheT0ia2ltIiwKICAgIGF1dGhvcnM9IktpbSwgSHlleW91bmcgYW5kIExlZSwgSmFlLU5hbSBhbmQgSGFuLCBKYWVtaW4iLAogICAgcGxhY2U9RkFLRSwKICAgIHBwPSIxNTEtLTE1NiIsCiAgICBlbnRyeXR5cGU9ImFydGljbGUiLAogICAgaXNzdWVfZGF0ZT0iTWF5IDIwMTAiLAogICAgdm9sdW1lPSI1MyIsCiAgICBudW1iZXI9IjUiLAogICAgbW9udGg9Im1heSIsCiAgICBpc3NuPSIwMDAxLTA3ODIiLAogICAgSUQ9IktpbToyMDEwOlJCRToxNzM1MjIzLjE3MzUyNjAiLAogICAgYWNtPSIxIiwKICAgIHBsYWNleD0iQ29tbXVuLiBBQ00iLAopKQonJycpOw==\"));\n",
       "    "
      ],
      "text/plain": [
       "<IPython.core.display.Javascript object>"
      ]
     },
     "metadata": {},
     "output_type": "display_data"
    },
    {
     "data": {
      "application/javascript": [
       "$('span:contains(\"# Temp\")').closest('.cell').remove();"
      ],
      "text/plain": [
       "<IPython.core.display.Javascript object>"
      ]
     },
     "metadata": {},
     "output_type": "display_data"
    },
    {
     "data": {
      "application/javascript": [
       "\n",
       "        $('span:contains(\"# Temp\")').closest('.cell').remove();\n",
       "        var code = IPython.notebook.insert_cell_below('code');\n",
       "        code.set_text(atob(\"IyBUZW1wCmluc2VydCgnJycKa2ltMjAxMGEgPSBEQihXb3JrVW5yZWxhdGVkKAogICAgMjAxMCwgIlRoZSBSb2xlIG9mIElUIGluIEJ1c2luZXNzIEVjb3N5c3RlbXMiLAogICAgZGlzcGxheT0ia2ltIiwKICAgIGF1dGhvcnM9IktpbSwgSHlleW91bmcgYW5kIExlZSwgSmFlLU5hbSBhbmQgSGFuLCBKYWVtaW4iLAogICAgcGxhY2U9RkFLRSwKICAgIHBwPSIxNTEtLTE1NiIsCiAgICBlbnRyeXR5cGU9ImFydGljbGUiLAogICAgaXNzdWVfZGF0ZT0iTWF5IDIwMTAiLAogICAgdm9sdW1lPSI1MyIsCiAgICBudW1iZXI9IjUiLAogICAgbW9udGg9Im1heSIsCiAgICBpc3NuPSIwMDAxLTA3ODIiLAogICAgSUQ9IktpbToyMDEwOlJCRToxNzM1MjIzLjE3MzUyNjAiLAogICAgYWNtPSIxIiwKICAgIHBsYWNleD0iQ29tbXVuLiBBQ00iLAopKQonJycpOw==\"));\n",
       "    "
      ],
      "text/plain": [
       "<IPython.core.display.Javascript object>"
      ]
     },
     "metadata": {},
     "output_type": "display_data"
    },
    {
     "data": {
      "application/javascript": [
       "$('span:contains(\"# Temp\")').closest('.cell').remove();"
      ],
      "text/plain": [
       "<IPython.core.display.Javascript object>"
      ]
     },
     "metadata": {},
     "output_type": "display_data"
    },
    {
     "data": {
      "application/javascript": [
       "\n",
       "        $('span:contains(\"# Temp\")').closest('.cell').remove();\n",
       "        var code = IPython.notebook.insert_cell_below('code');\n",
       "        code.set_text(atob(\"IyBUZW1wCmluc2VydCgnJycnJycpOw==\"));\n",
       "    "
      ],
      "text/plain": [
       "<IPython.core.display.Javascript object>"
      ]
     },
     "metadata": {},
     "output_type": "display_data"
    },
    {
     "data": {
      "application/javascript": [
       "$('span:contains(\"# Temp\")').closest('.cell').remove();"
      ],
      "text/plain": [
       "<IPython.core.display.Javascript object>"
      ]
     },
     "metadata": {},
     "output_type": "display_data"
    },
    {
     "data": {
      "application/javascript": [
       "\n",
       "        $('span:contains(\"# Temp\")').closest('.cell').remove();\n",
       "        var code = IPython.notebook.insert_cell_below('code');\n",
       "        code.set_text(atob(\"IyBUZW1wCmluc2VydCgnJycnJycpOw==\"));\n",
       "    "
      ],
      "text/plain": [
       "<IPython.core.display.Javascript object>"
      ]
     },
     "metadata": {},
     "output_type": "display_data"
    },
    {
     "data": {
      "application/javascript": [
       "$('span:contains(\"# Temp\")').closest('.cell').remove();"
      ],
      "text/plain": [
       "<IPython.core.display.Javascript object>"
      ]
     },
     "metadata": {},
     "output_type": "display_data"
    },
    {
     "data": {
      "application/javascript": [
       "\n",
       "        $('span:contains(\"# Temp\")').closest('.cell').remove();\n",
       "        var code = IPython.notebook.insert_cell_below('code');\n",
       "        code.set_text(atob(\"IyBUZW1wCmluc2VydCgnJycnJycpOw==\"));\n",
       "    "
      ],
      "text/plain": [
       "<IPython.core.display.Javascript object>"
      ]
     },
     "metadata": {},
     "output_type": "display_data"
    },
    {
     "data": {
      "application/javascript": [
       "$('span:contains(\"# Temp\")').closest('.cell').remove();"
      ],
      "text/plain": [
       "<IPython.core.display.Javascript object>"
      ]
     },
     "metadata": {},
     "output_type": "display_data"
    },
    {
     "data": {
      "application/javascript": [
       "\n",
       "        $('span:contains(\"# Temp\")').closest('.cell').remove();\n",
       "        var code = IPython.notebook.insert_cell_below('code');\n",
       "        code.set_text(atob(\"IyBUZW1wCmluc2VydCgnJycnJycpOw==\"));\n",
       "    "
      ],
      "text/plain": [
       "<IPython.core.display.Javascript object>"
      ]
     },
     "metadata": {},
     "output_type": "display_data"
    },
    {
     "data": {
      "application/javascript": [
       "$('span:contains(\"# Temp\")').closest('.cell').remove();"
      ],
      "text/plain": [
       "<IPython.core.display.Javascript object>"
      ]
     },
     "metadata": {},
     "output_type": "display_data"
    },
    {
     "data": {
      "application/javascript": [
       "\n",
       "        $('span:contains(\"# Temp\")').closest('.cell').remove();\n",
       "        var code = IPython.notebook.insert_cell_below('code');\n",
       "        code.set_text(atob(\"IyBUZW1wCmluc2VydCgnJycnJycpOw==\"));\n",
       "    "
      ],
      "text/plain": [
       "<IPython.core.display.Javascript object>"
      ]
     },
     "metadata": {},
     "output_type": "display_data"
    },
    {
     "data": {
      "application/javascript": [
       "$('span:contains(\"# Temp\")').closest('.cell').remove();"
      ],
      "text/plain": [
       "<IPython.core.display.Javascript object>"
      ]
     },
     "metadata": {},
     "output_type": "display_data"
    },
    {
     "data": {
      "application/javascript": [
       "\n",
       "        $('span:contains(\"# Temp\")').closest('.cell').remove();\n",
       "        var code = IPython.notebook.insert_cell_below('code');\n",
       "        code.set_text(atob(\"IyBUZW1wCmluc2VydCgnJycnJycpOw==\"));\n",
       "    "
      ],
      "text/plain": [
       "<IPython.core.display.Javascript object>"
      ]
     },
     "metadata": {},
     "output_type": "display_data"
    },
    {
     "data": {
      "application/javascript": [
       "$('span:contains(\"# Temp\")').closest('.cell').remove();"
      ],
      "text/plain": [
       "<IPython.core.display.Javascript object>"
      ]
     },
     "metadata": {},
     "output_type": "display_data"
    },
    {
     "data": {
      "application/javascript": [
       "\n",
       "        $('span:contains(\"# Temp\")').closest('.cell').remove();\n",
       "        var code = IPython.notebook.insert_cell_below('code');\n",
       "        code.set_text(atob(\"IyBUZW1wCmluc2VydCgnJycnJycpOw==\"));\n",
       "    "
      ],
      "text/plain": [
       "<IPython.core.display.Javascript object>"
      ]
     },
     "metadata": {},
     "output_type": "display_data"
    },
    {
     "data": {
      "application/javascript": [
       "$('span:contains(\"# Temp\")').closest('.cell').remove();"
      ],
      "text/plain": [
       "<IPython.core.display.Javascript object>"
      ]
     },
     "metadata": {},
     "output_type": "display_data"
    },
    {
     "data": {
      "application/javascript": [
       "\n",
       "        $('span:contains(\"# Temp\")').closest('.cell').remove();\n",
       "        var code = IPython.notebook.insert_cell_below('code');\n",
       "        code.set_text(atob(\"IyBUZW1wCmluc2VydCgnJycnJycpOw==\"));\n",
       "    "
      ],
      "text/plain": [
       "<IPython.core.display.Javascript object>"
      ]
     },
     "metadata": {},
     "output_type": "display_data"
    },
    {
     "data": {
      "application/javascript": [
       "$('span:contains(\"# Temp\")').closest('.cell').remove();"
      ],
      "text/plain": [
       "<IPython.core.display.Javascript object>"
      ]
     },
     "metadata": {},
     "output_type": "display_data"
    },
    {
     "data": {
      "application/javascript": [
       "\n",
       "        $('span:contains(\"# Temp\")').closest('.cell').remove();\n",
       "        var code = IPython.notebook.insert_cell_below('code');\n",
       "        code.set_text(atob(\"IyBUZW1wCmluc2VydCgnJycnJycpOwpzZXRfYXR0cmlidXRlKCdidWVocmVyMjAxMGEnLCAnc2VyaWVzJywgJ1BQb1BQICcxMCcpOwpzZXRfYXR0cmlidXRlKCdidWVocmVyMjAxMGEnLCAnaXNibicsICc5NzgtMS02MDU1OC04NzctMycpOwpzZXRfYXR0cmlidXRlKCdidWVocmVyMjAxMGEnLCAnbG9jYXRpb24nLCAnQmFuZ2Fsb3JlLCBJbmRpYScpOw==\"));\n",
       "    "
      ],
      "text/plain": [
       "<IPython.core.display.Javascript object>"
      ]
     },
     "metadata": {},
     "output_type": "display_data"
    },
    {
     "data": {
      "application/javascript": [
       "$('span:contains(\"# Temp\")').closest('.cell').remove();"
      ],
      "text/plain": [
       "<IPython.core.display.Javascript object>"
      ]
     },
     "metadata": {},
     "output_type": "display_data"
    },
    {
     "data": {
      "application/javascript": [
       "\n",
       "        $('span:contains(\"# Temp\")').closest('.cell').remove();\n",
       "        var code = IPython.notebook.insert_cell_below('code');\n",
       "        code.set_text(atob(\"IyBUZW1wCmluc2VydCgnJycnJycpOwpzZXRfYXR0cmlidXRlKCdidWVocmVyMjAxMGEnLCAnc2VyaWVzJywgJ1BQb1BQICcxMCcpOwpzZXRfYXR0cmlidXRlKCdidWVocmVyMjAxMGEnLCAnaXNibicsICc5NzgtMS02MDU1OC04NzctMycpOwpzZXRfYXR0cmlidXRlKCdidWVocmVyMjAxMGEnLCAnbG9jYXRpb24nLCAnQmFuZ2Fsb3JlLCBJbmRpYScpOw==\"));\n",
       "    "
      ],
      "text/plain": [
       "<IPython.core.display.Javascript object>"
      ]
     },
     "metadata": {},
     "output_type": "display_data"
    },
    {
     "data": {
      "application/javascript": [
       "$('span:contains(\"# Temp\")').closest('.cell').remove();"
      ],
      "text/plain": [
       "<IPython.core.display.Javascript object>"
      ]
     },
     "metadata": {},
     "output_type": "display_data"
    },
    {
     "data": {
      "application/javascript": [
       "\n",
       "        $('span:contains(\"# Temp\")').closest('.cell').remove();\n",
       "        var code = IPython.notebook.insert_cell_below('code');\n",
       "        code.set_text(atob(\"IyBUZW1wCmluc2VydCgnJycnJycpOw==\"));\n",
       "    "
      ],
      "text/plain": [
       "<IPython.core.display.Javascript object>"
      ]
     },
     "metadata": {},
     "output_type": "display_data"
    },
    {
     "data": {
      "application/javascript": [
       "$('span:contains(\"# Temp\")').closest('.cell').remove();"
      ],
      "text/plain": [
       "<IPython.core.display.Javascript object>"
      ]
     },
     "metadata": {},
     "output_type": "display_data"
    },
    {
     "data": {
      "application/javascript": [
       "\n",
       "        $('span:contains(\"# Temp\")').closest('.cell').remove();\n",
       "        var code = IPython.notebook.insert_cell_below('code');\n",
       "        code.set_text(atob(\"IyBUZW1wCmluc2VydCgnJycnJycpOw==\"));\n",
       "    "
      ],
      "text/plain": [
       "<IPython.core.display.Javascript object>"
      ]
     },
     "metadata": {},
     "output_type": "display_data"
    },
    {
     "data": {
      "application/javascript": [
       "$('span:contains(\"# Temp\")').closest('.cell').remove();"
      ],
      "text/plain": [
       "<IPython.core.display.Javascript object>"
      ]
     },
     "metadata": {},
     "output_type": "display_data"
    },
    {
     "data": {
      "application/javascript": [
       "\n",
       "        $('span:contains(\"# Temp\")').closest('.cell').remove();\n",
       "        var code = IPython.notebook.insert_cell_below('code');\n",
       "        code.set_text(atob(\"IyBUZW1wCmluc2VydCgnJycnJycpOw==\"));\n",
       "    "
      ],
      "text/plain": [
       "<IPython.core.display.Javascript object>"
      ]
     },
     "metadata": {},
     "output_type": "display_data"
    },
    {
     "data": {
      "application/javascript": [
       "$('span:contains(\"# Temp\")').closest('.cell').remove();"
      ],
      "text/plain": [
       "<IPython.core.display.Javascript object>"
      ]
     },
     "metadata": {},
     "output_type": "display_data"
    },
    {
     "data": {
      "application/javascript": [
       "\n",
       "        $('span:contains(\"# Temp\")').closest('.cell').remove();\n",
       "        var code = IPython.notebook.insert_cell_below('code');\n",
       "        code.set_text(atob(\"IyBUZW1wCmluc2VydCgnJycnJycpOw==\"));\n",
       "    "
      ],
      "text/plain": [
       "<IPython.core.display.Javascript object>"
      ]
     },
     "metadata": {},
     "output_type": "display_data"
    },
    {
     "data": {
      "application/javascript": [
       "$('span:contains(\"# Temp\")').closest('.cell').remove();"
      ],
      "text/plain": [
       "<IPython.core.display.Javascript object>"
      ]
     },
     "metadata": {},
     "output_type": "display_data"
    },
    {
     "data": {
      "application/javascript": [
       "\n",
       "        $('span:contains(\"# Temp\")').closest('.cell').remove();\n",
       "        var code = IPython.notebook.insert_cell_below('code');\n",
       "        code.set_text(atob(\"IyBUZW1wCmluc2VydCgnJycnJycpOw==\"));\n",
       "    "
      ],
      "text/plain": [
       "<IPython.core.display.Javascript object>"
      ]
     },
     "metadata": {},
     "output_type": "display_data"
    },
    {
     "data": {
      "application/javascript": [
       "$('span:contains(\"# Temp\")').closest('.cell').remove();"
      ],
      "text/plain": [
       "<IPython.core.display.Javascript object>"
      ]
     },
     "metadata": {},
     "output_type": "display_data"
    },
    {
     "data": {
      "application/javascript": [
       "\n",
       "        $('span:contains(\"# Temp\")').closest('.cell').remove();\n",
       "        var code = IPython.notebook.insert_cell_below('code');\n",
       "        code.set_text(atob(\"IyBUZW1wCmluc2VydCgnJycnJycpOw==\"));\n",
       "    "
      ],
      "text/plain": [
       "<IPython.core.display.Javascript object>"
      ]
     },
     "metadata": {},
     "output_type": "display_data"
    },
    {
     "data": {
      "application/javascript": [
       "$('span:contains(\"# Temp\")').closest('.cell').remove();"
      ],
      "text/plain": [
       "<IPython.core.display.Javascript object>"
      ]
     },
     "metadata": {},
     "output_type": "display_data"
    },
    {
     "data": {
      "application/javascript": [
       "\n",
       "        $('span:contains(\"# Temp\")').closest('.cell').remove();\n",
       "        var code = IPython.notebook.insert_cell_below('code');\n",
       "        code.set_text(atob(\"IyBUZW1wCmluc2VydCgnJycnJycpOw==\"));\n",
       "    "
      ],
      "text/plain": [
       "<IPython.core.display.Javascript object>"
      ]
     },
     "metadata": {},
     "output_type": "display_data"
    },
    {
     "data": {
      "application/javascript": [
       "$('span:contains(\"# Temp\")').closest('.cell').remove();"
      ],
      "text/plain": [
       "<IPython.core.display.Javascript object>"
      ]
     },
     "metadata": {},
     "output_type": "display_data"
    },
    {
     "data": {
      "application/javascript": [
       "\n",
       "        $('span:contains(\"# Temp\")').closest('.cell').remove();\n",
       "        var code = IPython.notebook.insert_cell_below('code');\n",
       "        code.set_text(atob(\"IyBUZW1wCmluc2VydCgnJycnJycpOw==\"));\n",
       "    "
      ],
      "text/plain": [
       "<IPython.core.display.Javascript object>"
      ]
     },
     "metadata": {},
     "output_type": "display_data"
    },
    {
     "data": {
      "application/javascript": [
       "$('span:contains(\"# Temp\")').closest('.cell').remove();"
      ],
      "text/plain": [
       "<IPython.core.display.Javascript object>"
      ]
     },
     "metadata": {},
     "output_type": "display_data"
    },
    {
     "data": {
      "application/javascript": [
       "\n",
       "        $('span:contains(\"# Temp\")').closest('.cell').remove();\n",
       "        var code = IPython.notebook.insert_cell_below('code');\n",
       "        code.set_text(atob(\"IyBUZW1wCmluc2VydCgnJycnJycpOw==\"));\n",
       "    "
      ],
      "text/plain": [
       "<IPython.core.display.Javascript object>"
      ]
     },
     "metadata": {},
     "output_type": "display_data"
    },
    {
     "data": {
      "application/javascript": [
       "$('span:contains(\"# Temp\")').closest('.cell').remove();"
      ],
      "text/plain": [
       "<IPython.core.display.Javascript object>"
      ]
     },
     "metadata": {},
     "output_type": "display_data"
    },
    {
     "data": {
      "application/javascript": [
       "\n",
       "        $('span:contains(\"# Temp\")').closest('.cell').remove();\n",
       "        var code = IPython.notebook.insert_cell_below('code');\n",
       "        code.set_text(atob(\"IyBUZW1wCmluc2VydCgnJycnJycpOw==\"));\n",
       "    "
      ],
      "text/plain": [
       "<IPython.core.display.Javascript object>"
      ]
     },
     "metadata": {},
     "output_type": "display_data"
    },
    {
     "data": {
      "application/javascript": [
       "$('span:contains(\"# Temp\")').closest('.cell').remove();"
      ],
      "text/plain": [
       "<IPython.core.display.Javascript object>"
      ]
     },
     "metadata": {},
     "output_type": "display_data"
    },
    {
     "data": {
      "application/javascript": [
       "\n",
       "        $('span:contains(\"# Temp\")').closest('.cell').remove();\n",
       "        var code = IPython.notebook.insert_cell_below('code');\n",
       "        code.set_text(atob(\"IyBUZW1wCmluc2VydCgnJycnJycpOw==\"));\n",
       "    "
      ],
      "text/plain": [
       "<IPython.core.display.Javascript object>"
      ]
     },
     "metadata": {},
     "output_type": "display_data"
    },
    {
     "data": {
      "application/javascript": [
       "$('span:contains(\"# Temp\")').closest('.cell').remove();"
      ],
      "text/plain": [
       "<IPython.core.display.Javascript object>"
      ]
     },
     "metadata": {},
     "output_type": "display_data"
    },
    {
     "data": {
      "application/javascript": [
       "\n",
       "        $('span:contains(\"# Temp\")').closest('.cell').remove();\n",
       "        var code = IPython.notebook.insert_cell_below('code');\n",
       "        code.set_text(atob(\"IyBUZW1wCmluc2VydCgnJycnJycpOw==\"));\n",
       "    "
      ],
      "text/plain": [
       "<IPython.core.display.Javascript object>"
      ]
     },
     "metadata": {},
     "output_type": "display_data"
    },
    {
     "data": {
      "application/javascript": [
       "$('span:contains(\"# Temp\")').closest('.cell').remove();"
      ],
      "text/plain": [
       "<IPython.core.display.Javascript object>"
      ]
     },
     "metadata": {},
     "output_type": "display_data"
    },
    {
     "data": {
      "application/javascript": [
       "\n",
       "        $('span:contains(\"# Temp\")').closest('.cell').remove();\n",
       "        var code = IPython.notebook.insert_cell_below('code');\n",
       "        code.set_text(atob(\"IyBUZW1wCmluc2VydCgnJycnJycpOw==\"));\n",
       "    "
      ],
      "text/plain": [
       "<IPython.core.display.Javascript object>"
      ]
     },
     "metadata": {},
     "output_type": "display_data"
    },
    {
     "data": {
      "application/javascript": [
       "$('span:contains(\"# Temp\")').closest('.cell').remove();"
      ],
      "text/plain": [
       "<IPython.core.display.Javascript object>"
      ]
     },
     "metadata": {},
     "output_type": "display_data"
    },
    {
     "data": {
      "application/javascript": [
       "\n",
       "        $('span:contains(\"# Temp\")').closest('.cell').remove();\n",
       "        var code = IPython.notebook.insert_cell_below('code');\n",
       "        code.set_text(atob(\"IyBUZW1wCmluc2VydCgnJycnJycpOw==\"));\n",
       "    "
      ],
      "text/plain": [
       "<IPython.core.display.Javascript object>"
      ]
     },
     "metadata": {},
     "output_type": "display_data"
    },
    {
     "data": {
      "application/javascript": [
       "$('span:contains(\"# Temp\")').closest('.cell').remove();"
      ],
      "text/plain": [
       "<IPython.core.display.Javascript object>"
      ]
     },
     "metadata": {},
     "output_type": "display_data"
    },
    {
     "data": {
      "application/javascript": [
       "\n",
       "        $('span:contains(\"# Temp\")').closest('.cell').remove();\n",
       "        var code = IPython.notebook.insert_cell_below('code');\n",
       "        code.set_text(atob(\"IyBUZW1wCmluc2VydCgnJycnJycpOw==\"));\n",
       "    "
      ],
      "text/plain": [
       "<IPython.core.display.Javascript object>"
      ]
     },
     "metadata": {},
     "output_type": "display_data"
    },
    {
     "data": {
      "application/javascript": [
       "$('span:contains(\"# Temp\")').closest('.cell').remove();"
      ],
      "text/plain": [
       "<IPython.core.display.Javascript object>"
      ]
     },
     "metadata": {},
     "output_type": "display_data"
    },
    {
     "data": {
      "application/javascript": [
       "\n",
       "        $('span:contains(\"# Temp\")').closest('.cell').remove();\n",
       "        var code = IPython.notebook.insert_cell_below('code');\n",
       "        code.set_text(atob(\"IyBUZW1wCmluc2VydCgnJycnJycpOw==\"));\n",
       "    "
      ],
      "text/plain": [
       "<IPython.core.display.Javascript object>"
      ]
     },
     "metadata": {},
     "output_type": "display_data"
    },
    {
     "data": {
      "application/javascript": [
       "$('span:contains(\"# Temp\")').closest('.cell').remove();"
      ],
      "text/plain": [
       "<IPython.core.display.Javascript object>"
      ]
     },
     "metadata": {},
     "output_type": "display_data"
    },
    {
     "data": {
      "application/javascript": [
       "\n",
       "        $('span:contains(\"# Temp\")').closest('.cell').remove();\n",
       "        var code = IPython.notebook.insert_cell_below('code');\n",
       "        code.set_text(atob(\"IyBUZW1wCmluc2VydCgnJycnJycpOw==\"));\n",
       "    "
      ],
      "text/plain": [
       "<IPython.core.display.Javascript object>"
      ]
     },
     "metadata": {},
     "output_type": "display_data"
    },
    {
     "data": {
      "application/javascript": [
       "$('span:contains(\"# Temp\")').closest('.cell').remove();"
      ],
      "text/plain": [
       "<IPython.core.display.Javascript object>"
      ]
     },
     "metadata": {},
     "output_type": "display_data"
    },
    {
     "data": {
      "application/javascript": [
       "\n",
       "        $('span:contains(\"# Temp\")').closest('.cell').remove();\n",
       "        var code = IPython.notebook.insert_cell_below('code');\n",
       "        code.set_text(atob(\"IyBUZW1wCmluc2VydCgnJycnJycpOw==\"));\n",
       "    "
      ],
      "text/plain": [
       "<IPython.core.display.Javascript object>"
      ]
     },
     "metadata": {},
     "output_type": "display_data"
    },
    {
     "data": {
      "application/javascript": [
       "$('span:contains(\"# Temp\")').closest('.cell').remove();"
      ],
      "text/plain": [
       "<IPython.core.display.Javascript object>"
      ]
     },
     "metadata": {},
     "output_type": "display_data"
    },
    {
     "data": {
      "application/javascript": [
       "\n",
       "        $('span:contains(\"# Temp\")').closest('.cell').remove();\n",
       "        var code = IPython.notebook.insert_cell_below('code');\n",
       "        code.set_text(atob(\"IyBUZW1wCmluc2VydCgnJycnJycpOw==\"));\n",
       "    "
      ],
      "text/plain": [
       "<IPython.core.display.Javascript object>"
      ]
     },
     "metadata": {},
     "output_type": "display_data"
    },
    {
     "data": {
      "application/javascript": [
       "$('span:contains(\"# Temp\")').closest('.cell').remove();"
      ],
      "text/plain": [
       "<IPython.core.display.Javascript object>"
      ]
     },
     "metadata": {},
     "output_type": "display_data"
    },
    {
     "data": {
      "application/javascript": [
       "\n",
       "        $('span:contains(\"# Temp\")').closest('.cell').remove();\n",
       "        var code = IPython.notebook.insert_cell_below('code');\n",
       "        code.set_text(atob(\"IyBUZW1wCmluc2VydCgnJycnJycpOw==\"));\n",
       "    "
      ],
      "text/plain": [
       "<IPython.core.display.Javascript object>"
      ]
     },
     "metadata": {},
     "output_type": "display_data"
    },
    {
     "data": {
      "application/javascript": [
       "$('span:contains(\"# Temp\")').closest('.cell').remove();"
      ],
      "text/plain": [
       "<IPython.core.display.Javascript object>"
      ]
     },
     "metadata": {},
     "output_type": "display_data"
    },
    {
     "data": {
      "application/javascript": [
       "\n",
       "        $('span:contains(\"# Temp\")').closest('.cell').remove();\n",
       "        var code = IPython.notebook.insert_cell_below('code');\n",
       "        code.set_text(atob(\"IyBUZW1wCmluc2VydCgnJycnJycpOwpzZXRfYXR0cmlidXRlKCdkZW5nMjAwN2EnLCAnc2VyaWVzJywgJ1NJR01FVFJJQ1MgJzA3Jyk7CnNldF9hdHRyaWJ1dGUoJ2RlbmcyMDA3YScsICdpc2JuJywgJzk3OC0xLTU5NTkzLTYzOS00Jyk7CnNldF9hdHRyaWJ1dGUoJ2RlbmcyMDA3YScsICdsb2NhdGlvbicsICdTYW4gRGllZ28sIENhbGlmb3JuaWEsIFVTQScpOw==\"));\n",
       "    "
      ],
      "text/plain": [
       "<IPython.core.display.Javascript object>"
      ]
     },
     "metadata": {},
     "output_type": "display_data"
    },
    {
     "data": {
      "application/javascript": [
       "$('span:contains(\"# Temp\")').closest('.cell').remove();"
      ],
      "text/plain": [
       "<IPython.core.display.Javascript object>"
      ]
     },
     "metadata": {},
     "output_type": "display_data"
    },
    {
     "data": {
      "application/javascript": [
       "\n",
       "        $('span:contains(\"# Temp\")').closest('.cell').remove();\n",
       "        var code = IPython.notebook.insert_cell_below('code');\n",
       "        code.set_text(atob(\"IyBUZW1wCmluc2VydCgnJycnJycpOwpzZXRfYXR0cmlidXRlKCdkZW5nMjAwN2EnLCAnc2VyaWVzJywgJ1NJR01FVFJJQ1MgJzA3Jyk7CnNldF9hdHRyaWJ1dGUoJ2RlbmcyMDA3YScsICdpc2JuJywgJzk3OC0xLTU5NTkzLTYzOS00Jyk7CnNldF9hdHRyaWJ1dGUoJ2RlbmcyMDA3YScsICdsb2NhdGlvbicsICdTYW4gRGllZ28sIENhbGlmb3JuaWEsIFVTQScpOw==\"));\n",
       "    "
      ],
      "text/plain": [
       "<IPython.core.display.Javascript object>"
      ]
     },
     "metadata": {},
     "output_type": "display_data"
    },
    {
     "data": {
      "application/javascript": [
       "$('span:contains(\"# Temp\")').closest('.cell').remove();"
      ],
      "text/plain": [
       "<IPython.core.display.Javascript object>"
      ]
     },
     "metadata": {},
     "output_type": "display_data"
    },
    {
     "data": {
      "application/javascript": [
       "\n",
       "        $('span:contains(\"# Temp\")').closest('.cell').remove();\n",
       "        var code = IPython.notebook.insert_cell_below('code');\n",
       "        code.set_text(atob(\"IyBUZW1wCmluc2VydCgnJycnJycpOw==\"));\n",
       "    "
      ],
      "text/plain": [
       "<IPython.core.display.Javascript object>"
      ]
     },
     "metadata": {},
     "output_type": "display_data"
    },
    {
     "data": {
      "application/javascript": [
       "$('span:contains(\"# Temp\")').closest('.cell').remove();"
      ],
      "text/plain": [
       "<IPython.core.display.Javascript object>"
      ]
     },
     "metadata": {},
     "output_type": "display_data"
    },
    {
     "data": {
      "application/javascript": [
       "\n",
       "        $('span:contains(\"# Temp\")').closest('.cell').remove();\n",
       "        var code = IPython.notebook.insert_cell_below('code');\n",
       "        code.set_text(atob(\"IyBUZW1wCmluc2VydCgnJycnJycpOw==\"));\n",
       "    "
      ],
      "text/plain": [
       "<IPython.core.display.Javascript object>"
      ]
     },
     "metadata": {},
     "output_type": "display_data"
    },
    {
     "data": {
      "application/javascript": [
       "$('span:contains(\"# Temp\")').closest('.cell').remove();"
      ],
      "text/plain": [
       "<IPython.core.display.Javascript object>"
      ]
     },
     "metadata": {},
     "output_type": "display_data"
    },
    {
     "data": {
      "application/javascript": [
       "\n",
       "        $('span:contains(\"# Temp\")').closest('.cell').remove();\n",
       "        var code = IPython.notebook.insert_cell_below('code');\n",
       "        code.set_text(atob(\"IyBUZW1wCmluc2VydCgnJycnJycpOw==\"));\n",
       "    "
      ],
      "text/plain": [
       "<IPython.core.display.Javascript object>"
      ]
     },
     "metadata": {},
     "output_type": "display_data"
    },
    {
     "data": {
      "application/javascript": [
       "$('span:contains(\"# Temp\")').closest('.cell').remove();"
      ],
      "text/plain": [
       "<IPython.core.display.Javascript object>"
      ]
     },
     "metadata": {},
     "output_type": "display_data"
    },
    {
     "data": {
      "application/javascript": [
       "\n",
       "        $('span:contains(\"# Temp\")').closest('.cell').remove();\n",
       "        var code = IPython.notebook.insert_cell_below('code');\n",
       "        code.set_text(atob(\"IyBUZW1wCmluc2VydCgnJycnJycpOw==\"));\n",
       "    "
      ],
      "text/plain": [
       "<IPython.core.display.Javascript object>"
      ]
     },
     "metadata": {},
     "output_type": "display_data"
    },
    {
     "data": {
      "application/javascript": [
       "$('span:contains(\"# Temp\")').closest('.cell').remove();"
      ],
      "text/plain": [
       "<IPython.core.display.Javascript object>"
      ]
     },
     "metadata": {},
     "output_type": "display_data"
    },
    {
     "data": {
      "application/javascript": [
       "\n",
       "        $('span:contains(\"# Temp\")').closest('.cell').remove();\n",
       "        var code = IPython.notebook.insert_cell_below('code');\n",
       "        code.set_text(atob(\"IyBUZW1wCmluc2VydCgnJycnJycpOw==\"));\n",
       "    "
      ],
      "text/plain": [
       "<IPython.core.display.Javascript object>"
      ]
     },
     "metadata": {},
     "output_type": "display_data"
    },
    {
     "data": {
      "application/javascript": [
       "$('span:contains(\"# Temp\")').closest('.cell').remove();"
      ],
      "text/plain": [
       "<IPython.core.display.Javascript object>"
      ]
     },
     "metadata": {},
     "output_type": "display_data"
    },
    {
     "data": {
      "application/javascript": [
       "\n",
       "        $('span:contains(\"# Temp\")').closest('.cell').remove();\n",
       "        var code = IPython.notebook.insert_cell_below('code');\n",
       "        code.set_text(atob(\"IyBUZW1wCmluc2VydCgnJycnJycpOw==\"));\n",
       "    "
      ],
      "text/plain": [
       "<IPython.core.display.Javascript object>"
      ]
     },
     "metadata": {},
     "output_type": "display_data"
    },
    {
     "data": {
      "application/javascript": [
       "$('span:contains(\"# Temp\")').closest('.cell').remove();"
      ],
      "text/plain": [
       "<IPython.core.display.Javascript object>"
      ]
     },
     "metadata": {},
     "output_type": "display_data"
    },
    {
     "data": {
      "application/javascript": [
       "\n",
       "        $('span:contains(\"# Temp\")').closest('.cell').remove();\n",
       "        var code = IPython.notebook.insert_cell_below('code');\n",
       "        code.set_text(atob(\"IyBUZW1wCmluc2VydCgnJycnJycpOwpzZXRfYXR0cmlidXRlKCdtYXJxdWVzMTk4OWEnLCAnc2VyaWVzJywgJ09PUFNMQSAnODknKTsKc2V0X2F0dHJpYnV0ZSgnbWFycXVlczE5ODlhJywgJ2lzYm4nLCAnMC04OTc5MS0zMzMtNycpOwpzZXRfYXR0cmlidXRlKCdtYXJxdWVzMTk4OWEnLCAnbG9jYXRpb24nLCAnTmV3IE9ybGVhbnMsIExvdWlzaWFuYSwgVVNBJyk7\"));\n",
       "    "
      ],
      "text/plain": [
       "<IPython.core.display.Javascript object>"
      ]
     },
     "metadata": {},
     "output_type": "display_data"
    },
    {
     "data": {
      "application/javascript": [
       "$('span:contains(\"# Temp\")').closest('.cell').remove();"
      ],
      "text/plain": [
       "<IPython.core.display.Javascript object>"
      ]
     },
     "metadata": {},
     "output_type": "display_data"
    },
    {
     "data": {
      "application/javascript": [
       "\n",
       "        $('span:contains(\"# Temp\")').closest('.cell').remove();\n",
       "        var code = IPython.notebook.insert_cell_below('code');\n",
       "        code.set_text(atob(\"IyBUZW1wCmluc2VydCgnJycnJycpOwpzZXRfYXR0cmlidXRlKCdtYXJxdWVzMTk4OWEnLCAnc2VyaWVzJywgJ09PUFNMQSAnODknKTsKc2V0X2F0dHJpYnV0ZSgnbWFycXVlczE5ODlhJywgJ2lzYm4nLCAnMC04OTc5MS0zMzMtNycpOwpzZXRfYXR0cmlidXRlKCdtYXJxdWVzMTk4OWEnLCAnbG9jYXRpb24nLCAnTmV3IE9ybGVhbnMsIExvdWlzaWFuYSwgVVNBJyk7\"));\n",
       "    "
      ],
      "text/plain": [
       "<IPython.core.display.Javascript object>"
      ]
     },
     "metadata": {},
     "output_type": "display_data"
    },
    {
     "data": {
      "application/javascript": [
       "$('span:contains(\"# Temp\")').closest('.cell').remove();"
      ],
      "text/plain": [
       "<IPython.core.display.Javascript object>"
      ]
     },
     "metadata": {},
     "output_type": "display_data"
    },
    {
     "data": {
      "application/javascript": [
       "\n",
       "        $('span:contains(\"# Temp\")').closest('.cell').remove();\n",
       "        var code = IPython.notebook.insert_cell_below('code');\n",
       "        code.set_text(atob(\"IyBUZW1wCmluc2VydCgnJycnJycpOw==\"));\n",
       "    "
      ],
      "text/plain": [
       "<IPython.core.display.Javascript object>"
      ]
     },
     "metadata": {},
     "output_type": "display_data"
    },
    {
     "data": {
      "application/javascript": [
       "$('span:contains(\"# Temp\")').closest('.cell').remove();"
      ],
      "text/plain": [
       "<IPython.core.display.Javascript object>"
      ]
     },
     "metadata": {},
     "output_type": "display_data"
    },
    {
     "data": {
      "application/javascript": [
       "\n",
       "        $('span:contains(\"# Temp\")').closest('.cell').remove();\n",
       "        var code = IPython.notebook.insert_cell_below('code');\n",
       "        code.set_text(atob(\"IyBUZW1wCmluc2VydCgnJycnJycpOw==\"));\n",
       "    "
      ],
      "text/plain": [
       "<IPython.core.display.Javascript object>"
      ]
     },
     "metadata": {},
     "output_type": "display_data"
    },
    {
     "data": {
      "application/javascript": [
       "$('span:contains(\"# Temp\")').closest('.cell').remove();"
      ],
      "text/plain": [
       "<IPython.core.display.Javascript object>"
      ]
     },
     "metadata": {},
     "output_type": "display_data"
    },
    {
     "data": {
      "application/javascript": [
       "\n",
       "        $('span:contains(\"# Temp\")').closest('.cell').remove();\n",
       "        var code = IPython.notebook.insert_cell_below('code');\n",
       "        code.set_text(atob(\"IyBUZW1wCmluc2VydCgnJycnJycpOw==\"));\n",
       "    "
      ],
      "text/plain": [
       "<IPython.core.display.Javascript object>"
      ]
     },
     "metadata": {},
     "output_type": "display_data"
    },
    {
     "data": {
      "application/javascript": [
       "$('span:contains(\"# Temp\")').closest('.cell').remove();"
      ],
      "text/plain": [
       "<IPython.core.display.Javascript object>"
      ]
     },
     "metadata": {},
     "output_type": "display_data"
    },
    {
     "data": {
      "application/javascript": [
       "\n",
       "        $('span:contains(\"# Temp\")').closest('.cell').remove();\n",
       "        var code = IPython.notebook.insert_cell_below('code');\n",
       "        code.set_text(atob(\"IyBUZW1wCmluc2VydCgnJycnJycpOw==\"));\n",
       "    "
      ],
      "text/plain": [
       "<IPython.core.display.Javascript object>"
      ]
     },
     "metadata": {},
     "output_type": "display_data"
    },
    {
     "data": {
      "application/javascript": [
       "$('span:contains(\"# Temp\")').closest('.cell').remove();"
      ],
      "text/plain": [
       "<IPython.core.display.Javascript object>"
      ]
     },
     "metadata": {},
     "output_type": "display_data"
    },
    {
     "data": {
      "application/javascript": [
       "\n",
       "        $('span:contains(\"# Temp\")').closest('.cell').remove();\n",
       "        var code = IPython.notebook.insert_cell_below('code');\n",
       "        code.set_text(atob(\"IyBUZW1wCmluc2VydCgnJycnJycpOw==\"));\n",
       "    "
      ],
      "text/plain": [
       "<IPython.core.display.Javascript object>"
      ]
     },
     "metadata": {},
     "output_type": "display_data"
    },
    {
     "data": {
      "application/javascript": [
       "$('span:contains(\"# Temp\")').closest('.cell').remove();"
      ],
      "text/plain": [
       "<IPython.core.display.Javascript object>"
      ]
     },
     "metadata": {},
     "output_type": "display_data"
    },
    {
     "data": {
      "application/javascript": [
       "\n",
       "        $('span:contains(\"# Temp\")').closest('.cell').remove();\n",
       "        var code = IPython.notebook.insert_cell_below('code');\n",
       "        code.set_text(atob(\"IyBUZW1wCmluc2VydCgnJycnJycpOw==\"));\n",
       "    "
      ],
      "text/plain": [
       "<IPython.core.display.Javascript object>"
      ]
     },
     "metadata": {},
     "output_type": "display_data"
    },
    {
     "data": {
      "application/javascript": [
       "$('span:contains(\"# Temp\")').closest('.cell').remove();"
      ],
      "text/plain": [
       "<IPython.core.display.Javascript object>"
      ]
     },
     "metadata": {},
     "output_type": "display_data"
    },
    {
     "data": {
      "application/javascript": [
       "\n",
       "        $('span:contains(\"# Temp\")').closest('.cell').remove();\n",
       "        var code = IPython.notebook.insert_cell_below('code');\n",
       "        code.set_text(atob(\"IyBUZW1wCmluc2VydCgnJycnJycpOw==\"));\n",
       "    "
      ],
      "text/plain": [
       "<IPython.core.display.Javascript object>"
      ]
     },
     "metadata": {},
     "output_type": "display_data"
    },
    {
     "data": {
      "application/javascript": [
       "$('span:contains(\"# Temp\")').closest('.cell').remove();"
      ],
      "text/plain": [
       "<IPython.core.display.Javascript object>"
      ]
     },
     "metadata": {},
     "output_type": "display_data"
    },
    {
     "data": {
      "application/javascript": [
       "\n",
       "        $('span:contains(\"# Temp\")').closest('.cell').remove();\n",
       "        var code = IPython.notebook.insert_cell_below('code');\n",
       "        code.set_text(atob(\"IyBUZW1wCmluc2VydCgnJycnJycpOw==\"));\n",
       "    "
      ],
      "text/plain": [
       "<IPython.core.display.Javascript object>"
      ]
     },
     "metadata": {},
     "output_type": "display_data"
    },
    {
     "data": {
      "application/javascript": [
       "$('span:contains(\"# Temp\")').closest('.cell').remove();"
      ],
      "text/plain": [
       "<IPython.core.display.Javascript object>"
      ]
     },
     "metadata": {},
     "output_type": "display_data"
    },
    {
     "data": {
      "application/javascript": [
       "\n",
       "        $('span:contains(\"# Temp\")').closest('.cell').remove();\n",
       "        var code = IPython.notebook.insert_cell_below('code');\n",
       "        code.set_text(atob(\"IyBUZW1wCmluc2VydCgnJycnJycpOw==\"));\n",
       "    "
      ],
      "text/plain": [
       "<IPython.core.display.Javascript object>"
      ]
     },
     "metadata": {},
     "output_type": "display_data"
    },
    {
     "data": {
      "application/javascript": [
       "$('span:contains(\"# Temp\")').closest('.cell').remove();"
      ],
      "text/plain": [
       "<IPython.core.display.Javascript object>"
      ]
     },
     "metadata": {},
     "output_type": "display_data"
    },
    {
     "data": {
      "application/javascript": [
       "\n",
       "        $('span:contains(\"# Temp\")').closest('.cell').remove();\n",
       "        var code = IPython.notebook.insert_cell_below('code');\n",
       "        code.set_text(atob(\"IyBUZW1wCmluc2VydCgnJycnJycpOw==\"));\n",
       "    "
      ],
      "text/plain": [
       "<IPython.core.display.Javascript object>"
      ]
     },
     "metadata": {},
     "output_type": "display_data"
    },
    {
     "data": {
      "application/javascript": [
       "$('span:contains(\"# Temp\")').closest('.cell').remove();"
      ],
      "text/plain": [
       "<IPython.core.display.Javascript object>"
      ]
     },
     "metadata": {},
     "output_type": "display_data"
    },
    {
     "data": {
      "application/javascript": [
       "\n",
       "        $('span:contains(\"# Temp\")').closest('.cell').remove();\n",
       "        var code = IPython.notebook.insert_cell_below('code');\n",
       "        code.set_text(atob(\"IyBUZW1wCmluc2VydCgnJycnJycpOw==\"));\n",
       "    "
      ],
      "text/plain": [
       "<IPython.core.display.Javascript object>"
      ]
     },
     "metadata": {},
     "output_type": "display_data"
    },
    {
     "data": {
      "application/javascript": [
       "$('span:contains(\"# Temp\")').closest('.cell').remove();"
      ],
      "text/plain": [
       "<IPython.core.display.Javascript object>"
      ]
     },
     "metadata": {},
     "output_type": "display_data"
    },
    {
     "data": {
      "application/javascript": [
       "\n",
       "        $('span:contains(\"# Temp\")').closest('.cell').remove();\n",
       "        var code = IPython.notebook.insert_cell_below('code');\n",
       "        code.set_text(atob(\"IyBUZW1wCmluc2VydCgnJycnJycpOw==\"));\n",
       "    "
      ],
      "text/plain": [
       "<IPython.core.display.Javascript object>"
      ]
     },
     "metadata": {},
     "output_type": "display_data"
    },
    {
     "data": {
      "application/javascript": [
       "$('span:contains(\"# Temp\")').closest('.cell').remove();"
      ],
      "text/plain": [
       "<IPython.core.display.Javascript object>"
      ]
     },
     "metadata": {},
     "output_type": "display_data"
    },
    {
     "data": {
      "application/javascript": [
       "\n",
       "        $('span:contains(\"# Temp\")').closest('.cell').remove();\n",
       "        var code = IPython.notebook.insert_cell_below('code');\n",
       "        code.set_text(atob(\"IyBUZW1wCmluc2VydCgnJycnJycpOw==\"));\n",
       "    "
      ],
      "text/plain": [
       "<IPython.core.display.Javascript object>"
      ]
     },
     "metadata": {},
     "output_type": "display_data"
    },
    {
     "data": {
      "application/javascript": [
       "$('span:contains(\"# Temp\")').closest('.cell').remove();"
      ],
      "text/plain": [
       "<IPython.core.display.Javascript object>"
      ]
     },
     "metadata": {},
     "output_type": "display_data"
    },
    {
     "data": {
      "application/javascript": [
       "\n",
       "        $('span:contains(\"# Temp\")').closest('.cell').remove();\n",
       "        var code = IPython.notebook.insert_cell_below('code');\n",
       "        code.set_text(atob(\"IyBUZW1wCmluc2VydCgnJycnJycpOw==\"));\n",
       "    "
      ],
      "text/plain": [
       "<IPython.core.display.Javascript object>"
      ]
     },
     "metadata": {},
     "output_type": "display_data"
    },
    {
     "data": {
      "application/javascript": [
       "$('span:contains(\"# Temp\")').closest('.cell').remove();"
      ],
      "text/plain": [
       "<IPython.core.display.Javascript object>"
      ]
     },
     "metadata": {},
     "output_type": "display_data"
    },
    {
     "data": {
      "application/javascript": [
       "\n",
       "        $('span:contains(\"# Temp\")').closest('.cell').remove();\n",
       "        var code = IPython.notebook.insert_cell_below('code');\n",
       "        code.set_text(atob(\"IyBUZW1wCmluc2VydCgnJycnJycpOw==\"));\n",
       "    "
      ],
      "text/plain": [
       "<IPython.core.display.Javascript object>"
      ]
     },
     "metadata": {},
     "output_type": "display_data"
    },
    {
     "data": {
      "application/javascript": [
       "$('span:contains(\"# Temp\")').closest('.cell').remove();"
      ],
      "text/plain": [
       "<IPython.core.display.Javascript object>"
      ]
     },
     "metadata": {},
     "output_type": "display_data"
    },
    {
     "data": {
      "application/javascript": [
       "\n",
       "        $('span:contains(\"# Temp\")').closest('.cell').remove();\n",
       "        var code = IPython.notebook.insert_cell_below('code');\n",
       "        code.set_text(atob(\"IyBUZW1wCmluc2VydCgnJycnJycpOw==\"));\n",
       "    "
      ],
      "text/plain": [
       "<IPython.core.display.Javascript object>"
      ]
     },
     "metadata": {},
     "output_type": "display_data"
    },
    {
     "data": {
      "application/javascript": [
       "$('span:contains(\"# Temp\")').closest('.cell').remove();"
      ],
      "text/plain": [
       "<IPython.core.display.Javascript object>"
      ]
     },
     "metadata": {},
     "output_type": "display_data"
    },
    {
     "data": {
      "application/javascript": [
       "\n",
       "        $('span:contains(\"# Temp\")').closest('.cell').remove();\n",
       "        var code = IPython.notebook.insert_cell_below('code');\n",
       "        code.set_text(atob(\"IyBUZW1wCmluc2VydCgnJycnJycpOw==\"));\n",
       "    "
      ],
      "text/plain": [
       "<IPython.core.display.Javascript object>"
      ]
     },
     "metadata": {},
     "output_type": "display_data"
    },
    {
     "data": {
      "application/javascript": [
       "$('span:contains(\"# Temp\")').closest('.cell').remove();"
      ],
      "text/plain": [
       "<IPython.core.display.Javascript object>"
      ]
     },
     "metadata": {},
     "output_type": "display_data"
    },
    {
     "data": {
      "application/javascript": [
       "\n",
       "        $('span:contains(\"# Temp\")').closest('.cell').remove();\n",
       "        var code = IPython.notebook.insert_cell_below('code');\n",
       "        code.set_text(atob(\"IyBUZW1wCmluc2VydCgnJycnJycpOw==\"));\n",
       "    "
      ],
      "text/plain": [
       "<IPython.core.display.Javascript object>"
      ]
     },
     "metadata": {},
     "output_type": "display_data"
    },
    {
     "data": {
      "application/javascript": [
       "$('span:contains(\"# Temp\")').closest('.cell').remove();"
      ],
      "text/plain": [
       "<IPython.core.display.Javascript object>"
      ]
     },
     "metadata": {},
     "output_type": "display_data"
    },
    {
     "data": {
      "application/javascript": [
       "\n",
       "        $('span:contains(\"# Temp\")').closest('.cell').remove();\n",
       "        var code = IPython.notebook.insert_cell_below('code');\n",
       "        code.set_text(atob(\"IyBUZW1wCmluc2VydCgnJycnJycpOw==\"));\n",
       "    "
      ],
      "text/plain": [
       "<IPython.core.display.Javascript object>"
      ]
     },
     "metadata": {},
     "output_type": "display_data"
    },
    {
     "data": {
      "application/javascript": [
       "$('span:contains(\"# Temp\")').closest('.cell').remove();"
      ],
      "text/plain": [
       "<IPython.core.display.Javascript object>"
      ]
     },
     "metadata": {},
     "output_type": "display_data"
    },
    {
     "data": {
      "application/javascript": [
       "\n",
       "        $('span:contains(\"# Temp\")').closest('.cell').remove();\n",
       "        var code = IPython.notebook.insert_cell_below('code');\n",
       "        code.set_text(atob(\"IyBUZW1wCmluc2VydCgnJycnJycpOw==\"));\n",
       "    "
      ],
      "text/plain": [
       "<IPython.core.display.Javascript object>"
      ]
     },
     "metadata": {},
     "output_type": "display_data"
    },
    {
     "data": {
      "application/javascript": [
       "$('span:contains(\"# Temp\")').closest('.cell').remove();"
      ],
      "text/plain": [
       "<IPython.core.display.Javascript object>"
      ]
     },
     "metadata": {},
     "output_type": "display_data"
    },
    {
     "data": {
      "application/javascript": [
       "\n",
       "        $('span:contains(\"# Temp\")').closest('.cell').remove();\n",
       "        var code = IPython.notebook.insert_cell_below('code');\n",
       "        code.set_text(atob(\"IyBUZW1wCmluc2VydCgnJycnJycpOwpzZXRfYXR0cmlidXRlKCdzaGVhcmQyMDAyYScsICdzZXJpZXMnLCAnSVRpQ1NFICcwMicpOwpzZXRfYXR0cmlidXRlKCdzaGVhcmQyMDAyYScsICdpc2JuJywgJzEtNTgxMTMtNDk5LTEnKTsKc2V0X2F0dHJpYnV0ZSgnc2hlYXJkMjAwMmEnLCAnbG9jYXRpb24nLCAnQWFyaHVzLCBEZW5tYXJrJyk7\"));\n",
       "    "
      ],
      "text/plain": [
       "<IPython.core.display.Javascript object>"
      ]
     },
     "metadata": {},
     "output_type": "display_data"
    },
    {
     "data": {
      "application/javascript": [
       "$('span:contains(\"# Temp\")').closest('.cell').remove();"
      ],
      "text/plain": [
       "<IPython.core.display.Javascript object>"
      ]
     },
     "metadata": {},
     "output_type": "display_data"
    },
    {
     "data": {
      "application/javascript": [
       "\n",
       "        $('span:contains(\"# Temp\")').closest('.cell').remove();\n",
       "        var code = IPython.notebook.insert_cell_below('code');\n",
       "        code.set_text(atob(\"IyBUZW1wCmluc2VydCgnJycnJycpOwpzZXRfYXR0cmlidXRlKCdzaGVhcmQyMDAyYScsICdzZXJpZXMnLCAnSVRpQ1NFICcwMicpOwpzZXRfYXR0cmlidXRlKCdzaGVhcmQyMDAyYScsICdpc2JuJywgJzEtNTgxMTMtNDk5LTEnKTsKc2V0X2F0dHJpYnV0ZSgnc2hlYXJkMjAwMmEnLCAnbG9jYXRpb24nLCAnQWFyaHVzLCBEZW5tYXJrJyk7\"));\n",
       "    "
      ],
      "text/plain": [
       "<IPython.core.display.Javascript object>"
      ]
     },
     "metadata": {},
     "output_type": "display_data"
    },
    {
     "data": {
      "application/javascript": [
       "$('span:contains(\"# Temp\")').closest('.cell').remove();"
      ],
      "text/plain": [
       "<IPython.core.display.Javascript object>"
      ]
     },
     "metadata": {},
     "output_type": "display_data"
    },
    {
     "data": {
      "application/javascript": [
       "\n",
       "        $('span:contains(\"# Temp\")').closest('.cell').remove();\n",
       "        var code = IPython.notebook.insert_cell_below('code');\n",
       "        code.set_text(atob(\"IyBUZW1wCmluc2VydCgnJycnJycpOw==\"));\n",
       "    "
      ],
      "text/plain": [
       "<IPython.core.display.Javascript object>"
      ]
     },
     "metadata": {},
     "output_type": "display_data"
    },
    {
     "data": {
      "application/javascript": [
       "$('span:contains(\"# Temp\")').closest('.cell').remove();"
      ],
      "text/plain": [
       "<IPython.core.display.Javascript object>"
      ]
     },
     "metadata": {},
     "output_type": "display_data"
    },
    {
     "data": {
      "application/javascript": [
       "\n",
       "        $('span:contains(\"# Temp\")').closest('.cell').remove();\n",
       "        var code = IPython.notebook.insert_cell_below('code');\n",
       "        code.set_text(atob(\"IyBUZW1wCmluc2VydCgnJycnJycpOw==\"));\n",
       "    "
      ],
      "text/plain": [
       "<IPython.core.display.Javascript object>"
      ]
     },
     "metadata": {},
     "output_type": "display_data"
    },
    {
     "data": {
      "application/javascript": [
       "$('span:contains(\"# Temp\")').closest('.cell').remove();"
      ],
      "text/plain": [
       "<IPython.core.display.Javascript object>"
      ]
     },
     "metadata": {},
     "output_type": "display_data"
    },
    {
     "data": {
      "application/javascript": [
       "\n",
       "        $('span:contains(\"# Temp\")').closest('.cell').remove();\n",
       "        var code = IPython.notebook.insert_cell_below('code');\n",
       "        code.set_text(atob(\"IyBUZW1wCmluc2VydCgnJycnJycpOw==\"));\n",
       "    "
      ],
      "text/plain": [
       "<IPython.core.display.Javascript object>"
      ]
     },
     "metadata": {},
     "output_type": "display_data"
    },
    {
     "data": {
      "application/javascript": [
       "$('span:contains(\"# Temp\")').closest('.cell').remove();"
      ],
      "text/plain": [
       "<IPython.core.display.Javascript object>"
      ]
     },
     "metadata": {},
     "output_type": "display_data"
    },
    {
     "data": {
      "application/javascript": [
       "\n",
       "        $('span:contains(\"# Temp\")').closest('.cell').remove();\n",
       "        var code = IPython.notebook.insert_cell_below('code');\n",
       "        code.set_text(atob(\"IyBUZW1wCmluc2VydCgnJycnJycpOw==\"));\n",
       "    "
      ],
      "text/plain": [
       "<IPython.core.display.Javascript object>"
      ]
     },
     "metadata": {},
     "output_type": "display_data"
    },
    {
     "data": {
      "application/javascript": [
       "$('span:contains(\"# Temp\")').closest('.cell').remove();"
      ],
      "text/plain": [
       "<IPython.core.display.Javascript object>"
      ]
     },
     "metadata": {},
     "output_type": "display_data"
    },
    {
     "data": {
      "application/javascript": [
       "\n",
       "        $('span:contains(\"# Temp\")').closest('.cell').remove();\n",
       "        var code = IPython.notebook.insert_cell_below('code');\n",
       "        code.set_text(atob(\"IyBUZW1wCmluc2VydCgnJycnJycpOw==\"));\n",
       "    "
      ],
      "text/plain": [
       "<IPython.core.display.Javascript object>"
      ]
     },
     "metadata": {},
     "output_type": "display_data"
    },
    {
     "data": {
      "application/javascript": [
       "$('span:contains(\"# Temp\")').closest('.cell').remove();"
      ],
      "text/plain": [
       "<IPython.core.display.Javascript object>"
      ]
     },
     "metadata": {},
     "output_type": "display_data"
    },
    {
     "data": {
      "application/javascript": [
       "\n",
       "        $('span:contains(\"# Temp\")').closest('.cell').remove();\n",
       "        var code = IPython.notebook.insert_cell_below('code');\n",
       "        code.set_text(atob(\"IyBUZW1wCmluc2VydCgnJycnJycpOw==\"));\n",
       "    "
      ],
      "text/plain": [
       "<IPython.core.display.Javascript object>"
      ]
     },
     "metadata": {},
     "output_type": "display_data"
    },
    {
     "data": {
      "application/javascript": [
       "$('span:contains(\"# Temp\")').closest('.cell').remove();"
      ],
      "text/plain": [
       "<IPython.core.display.Javascript object>"
      ]
     },
     "metadata": {},
     "output_type": "display_data"
    },
    {
     "data": {
      "application/javascript": [
       "\n",
       "        $('span:contains(\"# Temp\")').closest('.cell').remove();\n",
       "        var code = IPython.notebook.insert_cell_below('code');\n",
       "        code.set_text(atob(\"IyBUZW1wCmluc2VydCgnJycnJycpOw==\"));\n",
       "    "
      ],
      "text/plain": [
       "<IPython.core.display.Javascript object>"
      ]
     },
     "metadata": {},
     "output_type": "display_data"
    },
    {
     "data": {
      "application/javascript": [
       "$('span:contains(\"# Temp\")').closest('.cell').remove();"
      ],
      "text/plain": [
       "<IPython.core.display.Javascript object>"
      ]
     },
     "metadata": {},
     "output_type": "display_data"
    },
    {
     "data": {
      "application/javascript": [
       "\n",
       "        $('span:contains(\"# Temp\")').closest('.cell').remove();\n",
       "        var code = IPython.notebook.insert_cell_below('code');\n",
       "        code.set_text(atob(\"IyBUZW1wCmluc2VydCgnJycnJycpOw==\"));\n",
       "    "
      ],
      "text/plain": [
       "<IPython.core.display.Javascript object>"
      ]
     },
     "metadata": {},
     "output_type": "display_data"
    },
    {
     "data": {
      "application/javascript": [
       "$('span:contains(\"# Temp\")').closest('.cell').remove();"
      ],
      "text/plain": [
       "<IPython.core.display.Javascript object>"
      ]
     },
     "metadata": {},
     "output_type": "display_data"
    },
    {
     "data": {
      "application/javascript": [
       "\n",
       "        $('span:contains(\"# Temp\")').closest('.cell').remove();\n",
       "        var code = IPython.notebook.insert_cell_below('code');\n",
       "        code.set_text(atob(\"IyBUZW1wCmluc2VydCgnJycnJycpOw==\"));\n",
       "    "
      ],
      "text/plain": [
       "<IPython.core.display.Javascript object>"
      ]
     },
     "metadata": {},
     "output_type": "display_data"
    },
    {
     "data": {
      "application/javascript": [
       "$('span:contains(\"# Temp\")').closest('.cell').remove();"
      ],
      "text/plain": [
       "<IPython.core.display.Javascript object>"
      ]
     },
     "metadata": {},
     "output_type": "display_data"
    },
    {
     "data": {
      "application/javascript": [
       "\n",
       "        $('span:contains(\"# Temp\")').closest('.cell').remove();\n",
       "        var code = IPython.notebook.insert_cell_below('code');\n",
       "        code.set_text(atob(\"IyBUZW1wCmluc2VydCgnJycnJycpOw==\"));\n",
       "    "
      ],
      "text/plain": [
       "<IPython.core.display.Javascript object>"
      ]
     },
     "metadata": {},
     "output_type": "display_data"
    },
    {
     "data": {
      "application/javascript": [
       "$('span:contains(\"# Temp\")').closest('.cell').remove();"
      ],
      "text/plain": [
       "<IPython.core.display.Javascript object>"
      ]
     },
     "metadata": {},
     "output_type": "display_data"
    },
    {
     "data": {
      "application/javascript": [
       "\n",
       "        $('span:contains(\"# Temp\")').closest('.cell').remove();\n",
       "        var code = IPython.notebook.insert_cell_below('code');\n",
       "        code.set_text(atob(\"IyBUZW1wCmluc2VydCgnJycnJycpOw==\"));\n",
       "    "
      ],
      "text/plain": [
       "<IPython.core.display.Javascript object>"
      ]
     },
     "metadata": {},
     "output_type": "display_data"
    },
    {
     "data": {
      "application/javascript": [
       "$('span:contains(\"# Temp\")').closest('.cell').remove();"
      ],
      "text/plain": [
       "<IPython.core.display.Javascript object>"
      ]
     },
     "metadata": {},
     "output_type": "display_data"
    },
    {
     "data": {
      "application/javascript": [
       "\n",
       "        $('span:contains(\"# Temp\")').closest('.cell').remove();\n",
       "        var code = IPython.notebook.insert_cell_below('code');\n",
       "        code.set_text(atob(\"IyBUZW1wCmluc2VydCgnJycnJycpOw==\"));\n",
       "    "
      ],
      "text/plain": [
       "<IPython.core.display.Javascript object>"
      ]
     },
     "metadata": {},
     "output_type": "display_data"
    },
    {
     "data": {
      "application/javascript": [
       "$('span:contains(\"# Temp\")').closest('.cell').remove();"
      ],
      "text/plain": [
       "<IPython.core.display.Javascript object>"
      ]
     },
     "metadata": {},
     "output_type": "display_data"
    },
    {
     "data": {
      "application/javascript": [
       "\n",
       "        $('span:contains(\"# Temp\")').closest('.cell').remove();\n",
       "        var code = IPython.notebook.insert_cell_below('code');\n",
       "        code.set_text(atob(\"IyBUZW1wCmluc2VydCgnJycnJycpOw==\"));\n",
       "    "
      ],
      "text/plain": [
       "<IPython.core.display.Javascript object>"
      ]
     },
     "metadata": {},
     "output_type": "display_data"
    },
    {
     "data": {
      "application/javascript": [
       "$('span:contains(\"# Temp\")').closest('.cell').remove();"
      ],
      "text/plain": [
       "<IPython.core.display.Javascript object>"
      ]
     },
     "metadata": {},
     "output_type": "display_data"
    },
    {
     "data": {
      "application/javascript": [
       "\n",
       "        $('span:contains(\"# Temp\")').closest('.cell').remove();\n",
       "        var code = IPython.notebook.insert_cell_below('code');\n",
       "        code.set_text(atob(\"IyBUZW1wCmluc2VydCgnJycnJycpOw==\"));\n",
       "    "
      ],
      "text/plain": [
       "<IPython.core.display.Javascript object>"
      ]
     },
     "metadata": {},
     "output_type": "display_data"
    },
    {
     "data": {
      "application/javascript": [
       "$('span:contains(\"# Temp\")').closest('.cell').remove();"
      ],
      "text/plain": [
       "<IPython.core.display.Javascript object>"
      ]
     },
     "metadata": {},
     "output_type": "display_data"
    },
    {
     "data": {
      "application/javascript": [
       "\n",
       "        $('span:contains(\"# Temp\")').closest('.cell').remove();\n",
       "        var code = IPython.notebook.insert_cell_below('code');\n",
       "        code.set_text(atob(\"IyBUZW1wCmluc2VydCgnJycnJycpOw==\"));\n",
       "    "
      ],
      "text/plain": [
       "<IPython.core.display.Javascript object>"
      ]
     },
     "metadata": {},
     "output_type": "display_data"
    },
    {
     "data": {
      "application/javascript": [
       "$('span:contains(\"# Temp\")').closest('.cell').remove();"
      ],
      "text/plain": [
       "<IPython.core.display.Javascript object>"
      ]
     },
     "metadata": {},
     "output_type": "display_data"
    },
    {
     "data": {
      "application/javascript": [
       "\n",
       "        $('span:contains(\"# Temp\")').closest('.cell').remove();\n",
       "        var code = IPython.notebook.insert_cell_below('code');\n",
       "        code.set_text(atob(\"IyBUZW1wCmluc2VydCgnJycnJycpOw==\"));\n",
       "    "
      ],
      "text/plain": [
       "<IPython.core.display.Javascript object>"
      ]
     },
     "metadata": {},
     "output_type": "display_data"
    },
    {
     "data": {
      "application/javascript": [
       "$('span:contains(\"# Temp\")').closest('.cell').remove();"
      ],
      "text/plain": [
       "<IPython.core.display.Javascript object>"
      ]
     },
     "metadata": {},
     "output_type": "display_data"
    },
    {
     "data": {
      "application/javascript": [
       "\n",
       "        $('span:contains(\"# Temp\")').closest('.cell').remove();\n",
       "        var code = IPython.notebook.insert_cell_below('code');\n",
       "        code.set_text(atob(\"IyBUZW1wCmluc2VydCgnJycnJycpOw==\"));\n",
       "    "
      ],
      "text/plain": [
       "<IPython.core.display.Javascript object>"
      ]
     },
     "metadata": {},
     "output_type": "display_data"
    },
    {
     "data": {
      "application/javascript": [
       "$('span:contains(\"# Temp\")').closest('.cell').remove();"
      ],
      "text/plain": [
       "<IPython.core.display.Javascript object>"
      ]
     },
     "metadata": {},
     "output_type": "display_data"
    },
    {
     "data": {
      "application/javascript": [
       "\n",
       "        $('span:contains(\"# Temp\")').closest('.cell').remove();\n",
       "        var code = IPython.notebook.insert_cell_below('code');\n",
       "        code.set_text(atob(\"IyBUZW1wCmluc2VydCgnJycnJycpOw==\"));\n",
       "    "
      ],
      "text/plain": [
       "<IPython.core.display.Javascript object>"
      ]
     },
     "metadata": {},
     "output_type": "display_data"
    },
    {
     "data": {
      "application/javascript": [
       "$('span:contains(\"# Temp\")').closest('.cell').remove();"
      ],
      "text/plain": [
       "<IPython.core.display.Javascript object>"
      ]
     },
     "metadata": {},
     "output_type": "display_data"
    },
    {
     "data": {
      "application/javascript": [
       "\n",
       "        $('span:contains(\"# Temp\")').closest('.cell').remove();\n",
       "        var code = IPython.notebook.insert_cell_below('code');\n",
       "        code.set_text(atob(\"IyBUZW1wCmluc2VydCgnJycnJycpOw==\"));\n",
       "    "
      ],
      "text/plain": [
       "<IPython.core.display.Javascript object>"
      ]
     },
     "metadata": {},
     "output_type": "display_data"
    },
    {
     "data": {
      "application/javascript": [
       "$('span:contains(\"# Temp\")').closest('.cell').remove();"
      ],
      "text/plain": [
       "<IPython.core.display.Javascript object>"
      ]
     },
     "metadata": {},
     "output_type": "display_data"
    },
    {
     "data": {
      "application/javascript": [
       "\n",
       "        $('span:contains(\"# Temp\")').closest('.cell').remove();\n",
       "        var code = IPython.notebook.insert_cell_below('code');\n",
       "        code.set_text(atob(\"IyBUZW1wCmluc2VydCgnJycnJycpOw==\"));\n",
       "    "
      ],
      "text/plain": [
       "<IPython.core.display.Javascript object>"
      ]
     },
     "metadata": {},
     "output_type": "display_data"
    },
    {
     "data": {
      "application/javascript": [
       "$('span:contains(\"# Temp\")').closest('.cell').remove();"
      ],
      "text/plain": [
       "<IPython.core.display.Javascript object>"
      ]
     },
     "metadata": {},
     "output_type": "display_data"
    },
    {
     "data": {
      "application/javascript": [
       "\n",
       "        $('span:contains(\"# Temp\")').closest('.cell').remove();\n",
       "        var code = IPython.notebook.insert_cell_below('code');\n",
       "        code.set_text(atob(\"IyBUZW1wCmluc2VydCgnJycnJycpOw==\"));\n",
       "    "
      ],
      "text/plain": [
       "<IPython.core.display.Javascript object>"
      ]
     },
     "metadata": {},
     "output_type": "display_data"
    },
    {
     "data": {
      "application/javascript": [
       "$('span:contains(\"# Temp\")').closest('.cell').remove();"
      ],
      "text/plain": [
       "<IPython.core.display.Javascript object>"
      ]
     },
     "metadata": {},
     "output_type": "display_data"
    },
    {
     "data": {
      "application/javascript": [
       "\n",
       "        $('span:contains(\"# Temp\")').closest('.cell').remove();\n",
       "        var code = IPython.notebook.insert_cell_below('code');\n",
       "        code.set_text(atob(\"IyBUZW1wCmluc2VydCgnJycnJycpOw==\"));\n",
       "    "
      ],
      "text/plain": [
       "<IPython.core.display.Javascript object>"
      ]
     },
     "metadata": {},
     "output_type": "display_data"
    },
    {
     "data": {
      "application/javascript": [
       "$('span:contains(\"# Temp\")').closest('.cell').remove();"
      ],
      "text/plain": [
       "<IPython.core.display.Javascript object>"
      ]
     },
     "metadata": {},
     "output_type": "display_data"
    },
    {
     "data": {
      "application/javascript": [
       "\n",
       "        $('span:contains(\"# Temp\")').closest('.cell').remove();\n",
       "        var code = IPython.notebook.insert_cell_below('code');\n",
       "        code.set_text(atob(\"IyBUZW1wCmluc2VydCgnJycnJycpOw==\"));\n",
       "    "
      ],
      "text/plain": [
       "<IPython.core.display.Javascript object>"
      ]
     },
     "metadata": {},
     "output_type": "display_data"
    },
    {
     "data": {
      "application/javascript": [
       "$('span:contains(\"# Temp\")').closest('.cell').remove();"
      ],
      "text/plain": [
       "<IPython.core.display.Javascript object>"
      ]
     },
     "metadata": {},
     "output_type": "display_data"
    },
    {
     "data": {
      "application/javascript": [
       "\n",
       "        $('span:contains(\"# Temp\")').closest('.cell').remove();\n",
       "        var code = IPython.notebook.insert_cell_below('code');\n",
       "        code.set_text(atob(\"IyBUZW1wCmluc2VydCgnJycnJycpOw==\"));\n",
       "    "
      ],
      "text/plain": [
       "<IPython.core.display.Javascript object>"
      ]
     },
     "metadata": {},
     "output_type": "display_data"
    },
    {
     "data": {
      "application/javascript": [
       "$('span:contains(\"# Temp\")').closest('.cell').remove();"
      ],
      "text/plain": [
       "<IPython.core.display.Javascript object>"
      ]
     },
     "metadata": {},
     "output_type": "display_data"
    },
    {
     "data": {
      "application/javascript": [
       "\n",
       "        $('span:contains(\"# Temp\")').closest('.cell').remove();\n",
       "        var code = IPython.notebook.insert_cell_below('code');\n",
       "        code.set_text(atob(\"IyBUZW1wCmluc2VydCgnJycnJycpOw==\"));\n",
       "    "
      ],
      "text/plain": [
       "<IPython.core.display.Javascript object>"
      ]
     },
     "metadata": {},
     "output_type": "display_data"
    },
    {
     "data": {
      "application/javascript": [
       "$('span:contains(\"# Temp\")').closest('.cell').remove();"
      ],
      "text/plain": [
       "<IPython.core.display.Javascript object>"
      ]
     },
     "metadata": {},
     "output_type": "display_data"
    },
    {
     "data": {
      "application/javascript": [
       "\n",
       "        $('span:contains(\"# Temp\")').closest('.cell').remove();\n",
       "        var code = IPython.notebook.insert_cell_below('code');\n",
       "        code.set_text(atob(\"IyBUZW1wCmluc2VydCgnJycnJycpOw==\"));\n",
       "    "
      ],
      "text/plain": [
       "<IPython.core.display.Javascript object>"
      ]
     },
     "metadata": {},
     "output_type": "display_data"
    },
    {
     "data": {
      "application/javascript": [
       "$('span:contains(\"# Temp\")').closest('.cell').remove();"
      ],
      "text/plain": [
       "<IPython.core.display.Javascript object>"
      ]
     },
     "metadata": {},
     "output_type": "display_data"
    },
    {
     "data": {
      "application/javascript": [
       "\n",
       "        $('span:contains(\"# Temp\")').closest('.cell').remove();\n",
       "        var code = IPython.notebook.insert_cell_below('code');\n",
       "        code.set_text(atob(\"IyBUZW1wCmluc2VydCgnJycnJycpOw==\"));\n",
       "    "
      ],
      "text/plain": [
       "<IPython.core.display.Javascript object>"
      ]
     },
     "metadata": {},
     "output_type": "display_data"
    },
    {
     "data": {
      "application/javascript": [
       "$('span:contains(\"# Temp\")').closest('.cell').remove();"
      ],
      "text/plain": [
       "<IPython.core.display.Javascript object>"
      ]
     },
     "metadata": {},
     "output_type": "display_data"
    },
    {
     "data": {
      "application/javascript": [
       "\n",
       "        $('span:contains(\"# Temp\")').closest('.cell').remove();\n",
       "        var code = IPython.notebook.insert_cell_below('code');\n",
       "        code.set_text(atob(\"IyBUZW1wCmluc2VydCgnJycnJycpOw==\"));\n",
       "    "
      ],
      "text/plain": [
       "<IPython.core.display.Javascript object>"
      ]
     },
     "metadata": {},
     "output_type": "display_data"
    },
    {
     "data": {
      "application/javascript": [
       "$('span:contains(\"# Temp\")').closest('.cell').remove();"
      ],
      "text/plain": [
       "<IPython.core.display.Javascript object>"
      ]
     },
     "metadata": {},
     "output_type": "display_data"
    },
    {
     "data": {
      "application/javascript": [
       "\n",
       "        $('span:contains(\"# Temp\")').closest('.cell').remove();\n",
       "        var code = IPython.notebook.insert_cell_below('code');\n",
       "        code.set_text(atob(\"IyBUZW1wCmluc2VydCgnJycnJycpOw==\"));\n",
       "    "
      ],
      "text/plain": [
       "<IPython.core.display.Javascript object>"
      ]
     },
     "metadata": {},
     "output_type": "display_data"
    },
    {
     "data": {
      "application/javascript": [
       "$('span:contains(\"# Temp\")').closest('.cell').remove();"
      ],
      "text/plain": [
       "<IPython.core.display.Javascript object>"
      ]
     },
     "metadata": {},
     "output_type": "display_data"
    },
    {
     "data": {
      "application/javascript": [
       "\n",
       "        $('span:contains(\"# Temp\")').closest('.cell').remove();\n",
       "        var code = IPython.notebook.insert_cell_below('code');\n",
       "        code.set_text(atob(\"IyBUZW1wCmluc2VydCgnJycnJycpOw==\"));\n",
       "    "
      ],
      "text/plain": [
       "<IPython.core.display.Javascript object>"
      ]
     },
     "metadata": {},
     "output_type": "display_data"
    },
    {
     "data": {
      "application/javascript": [
       "$('span:contains(\"# Temp\")').closest('.cell').remove();"
      ],
      "text/plain": [
       "<IPython.core.display.Javascript object>"
      ]
     },
     "metadata": {},
     "output_type": "display_data"
    },
    {
     "data": {
      "application/javascript": [
       "\n",
       "        $('span:contains(\"# Temp\")').closest('.cell').remove();\n",
       "        var code = IPython.notebook.insert_cell_below('code');\n",
       "        code.set_text(atob(\"IyBUZW1wCmluc2VydCgnJycnJycpOw==\"));\n",
       "    "
      ],
      "text/plain": [
       "<IPython.core.display.Javascript object>"
      ]
     },
     "metadata": {},
     "output_type": "display_data"
    },
    {
     "data": {
      "application/javascript": [
       "$('span:contains(\"# Temp\")').closest('.cell').remove();"
      ],
      "text/plain": [
       "<IPython.core.display.Javascript object>"
      ]
     },
     "metadata": {},
     "output_type": "display_data"
    },
    {
     "data": {
      "application/javascript": [
       "\n",
       "        $('span:contains(\"# Temp\")').closest('.cell').remove();\n",
       "        var code = IPython.notebook.insert_cell_below('code');\n",
       "        code.set_text(atob(\"IyBUZW1wCmluc2VydCgnJycnJycpOw==\"));\n",
       "    "
      ],
      "text/plain": [
       "<IPython.core.display.Javascript object>"
      ]
     },
     "metadata": {},
     "output_type": "display_data"
    },
    {
     "data": {
      "application/javascript": [
       "$('span:contains(\"# Temp\")').closest('.cell').remove();"
      ],
      "text/plain": [
       "<IPython.core.display.Javascript object>"
      ]
     },
     "metadata": {},
     "output_type": "display_data"
    },
    {
     "data": {
      "application/javascript": [
       "\n",
       "        $('span:contains(\"# Temp\")').closest('.cell').remove();\n",
       "        var code = IPython.notebook.insert_cell_below('code');\n",
       "        code.set_text(atob(\"IyBUZW1wCmluc2VydCgnJycnJycpOw==\"));\n",
       "    "
      ],
      "text/plain": [
       "<IPython.core.display.Javascript object>"
      ]
     },
     "metadata": {},
     "output_type": "display_data"
    },
    {
     "data": {
      "application/javascript": [
       "$('span:contains(\"# Temp\")').closest('.cell').remove();"
      ],
      "text/plain": [
       "<IPython.core.display.Javascript object>"
      ]
     },
     "metadata": {},
     "output_type": "display_data"
    },
    {
     "data": {
      "application/javascript": [
       "\n",
       "        $('span:contains(\"# Temp\")').closest('.cell').remove();\n",
       "        var code = IPython.notebook.insert_cell_below('code');\n",
       "        code.set_text(atob(\"IyBUZW1wCmluc2VydCgnJycnJycpOw==\"));\n",
       "    "
      ],
      "text/plain": [
       "<IPython.core.display.Javascript object>"
      ]
     },
     "metadata": {},
     "output_type": "display_data"
    },
    {
     "data": {
      "application/javascript": [
       "$('span:contains(\"# Temp\")').closest('.cell').remove();"
      ],
      "text/plain": [
       "<IPython.core.display.Javascript object>"
      ]
     },
     "metadata": {},
     "output_type": "display_data"
    },
    {
     "data": {
      "application/javascript": [
       "\n",
       "        $('span:contains(\"# Temp\")').closest('.cell').remove();\n",
       "        var code = IPython.notebook.insert_cell_below('code');\n",
       "        code.set_text(atob(\"IyBUZW1wCmluc2VydCgnJycnJycpOw==\"));\n",
       "    "
      ],
      "text/plain": [
       "<IPython.core.display.Javascript object>"
      ]
     },
     "metadata": {},
     "output_type": "display_data"
    },
    {
     "data": {
      "application/javascript": [
       "$('span:contains(\"# Temp\")').closest('.cell').remove();"
      ],
      "text/plain": [
       "<IPython.core.display.Javascript object>"
      ]
     },
     "metadata": {},
     "output_type": "display_data"
    },
    {
     "data": {
      "application/javascript": [
       "\n",
       "        $('span:contains(\"# Temp\")').closest('.cell').remove();\n",
       "        var code = IPython.notebook.insert_cell_below('code');\n",
       "        code.set_text(atob(\"IyBUZW1wCmluc2VydCgnJycnJycpOw==\"));\n",
       "    "
      ],
      "text/plain": [
       "<IPython.core.display.Javascript object>"
      ]
     },
     "metadata": {},
     "output_type": "display_data"
    },
    {
     "data": {
      "application/javascript": [
       "$('span:contains(\"# Temp\")').closest('.cell').remove();"
      ],
      "text/plain": [
       "<IPython.core.display.Javascript object>"
      ]
     },
     "metadata": {},
     "output_type": "display_data"
    },
    {
     "data": {
      "application/javascript": [
       "\n",
       "        $('span:contains(\"# Temp\")').closest('.cell').remove();\n",
       "        var code = IPython.notebook.insert_cell_below('code');\n",
       "        code.set_text(atob(\"IyBUZW1wCmluc2VydCgnJycnJycpOw==\"));\n",
       "    "
      ],
      "text/plain": [
       "<IPython.core.display.Javascript object>"
      ]
     },
     "metadata": {},
     "output_type": "display_data"
    },
    {
     "data": {
      "application/javascript": [
       "$('span:contains(\"# Temp\")').closest('.cell').remove();"
      ],
      "text/plain": [
       "<IPython.core.display.Javascript object>"
      ]
     },
     "metadata": {},
     "output_type": "display_data"
    },
    {
     "data": {
      "application/javascript": [
       "\n",
       "        $('span:contains(\"# Temp\")').closest('.cell').remove();\n",
       "        var code = IPython.notebook.insert_cell_below('code');\n",
       "        code.set_text(atob(\"IyBUZW1wCmluc2VydCgnJycnJycpOw==\"));\n",
       "    "
      ],
      "text/plain": [
       "<IPython.core.display.Javascript object>"
      ]
     },
     "metadata": {},
     "output_type": "display_data"
    },
    {
     "data": {
      "application/javascript": [
       "$('span:contains(\"# Temp\")').closest('.cell').remove();"
      ],
      "text/plain": [
       "<IPython.core.display.Javascript object>"
      ]
     },
     "metadata": {},
     "output_type": "display_data"
    },
    {
     "data": {
      "application/javascript": [
       "\n",
       "        $('span:contains(\"# Temp\")').closest('.cell').remove();\n",
       "        var code = IPython.notebook.insert_cell_below('code');\n",
       "        code.set_text(atob(\"IyBUZW1wCmluc2VydCgnJycnJycpOw==\"));\n",
       "    "
      ],
      "text/plain": [
       "<IPython.core.display.Javascript object>"
      ]
     },
     "metadata": {},
     "output_type": "display_data"
    },
    {
     "data": {
      "application/javascript": [
       "$('span:contains(\"# Temp\")').closest('.cell').remove();"
      ],
      "text/plain": [
       "<IPython.core.display.Javascript object>"
      ]
     },
     "metadata": {},
     "output_type": "display_data"
    },
    {
     "data": {
      "application/javascript": [
       "\n",
       "        $('span:contains(\"# Temp\")').closest('.cell').remove();\n",
       "        var code = IPython.notebook.insert_cell_below('code');\n",
       "        code.set_text(atob(\"IyBUZW1wCmluc2VydCgnJycnJycpOw==\"));\n",
       "    "
      ],
      "text/plain": [
       "<IPython.core.display.Javascript object>"
      ]
     },
     "metadata": {},
     "output_type": "display_data"
    },
    {
     "data": {
      "application/javascript": [
       "$('span:contains(\"# Temp\")').closest('.cell').remove();"
      ],
      "text/plain": [
       "<IPython.core.display.Javascript object>"
      ]
     },
     "metadata": {},
     "output_type": "display_data"
    },
    {
     "data": {
      "application/javascript": [
       "\n",
       "        $('span:contains(\"# Temp\")').closest('.cell').remove();\n",
       "        var code = IPython.notebook.insert_cell_below('code');\n",
       "        code.set_text(atob(\"IyBUZW1wCmluc2VydCgnJycnJycpOw==\"));\n",
       "    "
      ],
      "text/plain": [
       "<IPython.core.display.Javascript object>"
      ]
     },
     "metadata": {},
     "output_type": "display_data"
    },
    {
     "data": {
      "application/javascript": [
       "$('span:contains(\"# Temp\")').closest('.cell').remove();"
      ],
      "text/plain": [
       "<IPython.core.display.Javascript object>"
      ]
     },
     "metadata": {},
     "output_type": "display_data"
    },
    {
     "data": {
      "application/javascript": [
       "\n",
       "        $('span:contains(\"# Temp\")').closest('.cell').remove();\n",
       "        var code = IPython.notebook.insert_cell_below('code');\n",
       "        code.set_text(atob(\"IyBUZW1wCmluc2VydCgnJycnJycpOw==\"));\n",
       "    "
      ],
      "text/plain": [
       "<IPython.core.display.Javascript object>"
      ]
     },
     "metadata": {},
     "output_type": "display_data"
    },
    {
     "data": {
      "application/javascript": [
       "$('span:contains(\"# Temp\")').closest('.cell').remove();"
      ],
      "text/plain": [
       "<IPython.core.display.Javascript object>"
      ]
     },
     "metadata": {},
     "output_type": "display_data"
    },
    {
     "data": {
      "application/javascript": [
       "\n",
       "        $('span:contains(\"# Temp\")').closest('.cell').remove();\n",
       "        var code = IPython.notebook.insert_cell_below('code');\n",
       "        code.set_text(atob(\"IyBUZW1wCmluc2VydCgnJycnJycpOw==\"));\n",
       "    "
      ],
      "text/plain": [
       "<IPython.core.display.Javascript object>"
      ]
     },
     "metadata": {},
     "output_type": "display_data"
    },
    {
     "data": {
      "application/javascript": [
       "$('span:contains(\"# Temp\")').closest('.cell').remove();"
      ],
      "text/plain": [
       "<IPython.core.display.Javascript object>"
      ]
     },
     "metadata": {},
     "output_type": "display_data"
    },
    {
     "data": {
      "application/javascript": [
       "\n",
       "        $('span:contains(\"# Temp\")').closest('.cell').remove();\n",
       "        var code = IPython.notebook.insert_cell_below('code');\n",
       "        code.set_text(atob(\"IyBUZW1wCmluc2VydCgnJycnJycpOw==\"));\n",
       "    "
      ],
      "text/plain": [
       "<IPython.core.display.Javascript object>"
      ]
     },
     "metadata": {},
     "output_type": "display_data"
    },
    {
     "data": {
      "application/javascript": [
       "$('span:contains(\"# Temp\")').closest('.cell').remove();"
      ],
      "text/plain": [
       "<IPython.core.display.Javascript object>"
      ]
     },
     "metadata": {},
     "output_type": "display_data"
    },
    {
     "data": {
      "application/javascript": [
       "\n",
       "        $('span:contains(\"# Temp\")').closest('.cell').remove();\n",
       "        var code = IPython.notebook.insert_cell_below('code');\n",
       "        code.set_text(atob(\"IyBUZW1wCmluc2VydCgnJycnJycpOw==\"));\n",
       "    "
      ],
      "text/plain": [
       "<IPython.core.display.Javascript object>"
      ]
     },
     "metadata": {},
     "output_type": "display_data"
    },
    {
     "data": {
      "application/javascript": [
       "$('span:contains(\"# Temp\")').closest('.cell').remove();"
      ],
      "text/plain": [
       "<IPython.core.display.Javascript object>"
      ]
     },
     "metadata": {},
     "output_type": "display_data"
    },
    {
     "data": {
      "application/javascript": [
       "\n",
       "        $('span:contains(\"# Temp\")').closest('.cell').remove();\n",
       "        var code = IPython.notebook.insert_cell_below('code');\n",
       "        code.set_text(atob(\"IyBUZW1wCmluc2VydCgnJycnJycpOw==\"));\n",
       "    "
      ],
      "text/plain": [
       "<IPython.core.display.Javascript object>"
      ]
     },
     "metadata": {},
     "output_type": "display_data"
    },
    {
     "data": {
      "application/javascript": [
       "$('span:contains(\"# Temp\")').closest('.cell').remove();"
      ],
      "text/plain": [
       "<IPython.core.display.Javascript object>"
      ]
     },
     "metadata": {},
     "output_type": "display_data"
    },
    {
     "data": {
      "application/javascript": [
       "\n",
       "        $('span:contains(\"# Temp\")').closest('.cell').remove();\n",
       "        var code = IPython.notebook.insert_cell_below('code');\n",
       "        code.set_text(atob(\"IyBUZW1wCmluc2VydCgnJycnJycpOw==\"));\n",
       "    "
      ],
      "text/plain": [
       "<IPython.core.display.Javascript object>"
      ]
     },
     "metadata": {},
     "output_type": "display_data"
    },
    {
     "data": {
      "application/javascript": [
       "$('span:contains(\"# Temp\")').closest('.cell').remove();"
      ],
      "text/plain": [
       "<IPython.core.display.Javascript object>"
      ]
     },
     "metadata": {},
     "output_type": "display_data"
    },
    {
     "data": {
      "application/javascript": [
       "\n",
       "        $('span:contains(\"# Temp\")').closest('.cell').remove();\n",
       "        var code = IPython.notebook.insert_cell_below('code');\n",
       "        code.set_text(atob(\"IyBUZW1wCmluc2VydCgnJycnJycpOw==\"));\n",
       "    "
      ],
      "text/plain": [
       "<IPython.core.display.Javascript object>"
      ]
     },
     "metadata": {},
     "output_type": "display_data"
    },
    {
     "data": {
      "application/javascript": [
       "$('span:contains(\"# Temp\")').closest('.cell').remove();"
      ],
      "text/plain": [
       "<IPython.core.display.Javascript object>"
      ]
     },
     "metadata": {},
     "output_type": "display_data"
    },
    {
     "data": {
      "application/javascript": [
       "\n",
       "        $('span:contains(\"# Temp\")').closest('.cell').remove();\n",
       "        var code = IPython.notebook.insert_cell_below('code');\n",
       "        code.set_text(atob(\"IyBUZW1wCmluc2VydCgnJycnJycpOw==\"));\n",
       "    "
      ],
      "text/plain": [
       "<IPython.core.display.Javascript object>"
      ]
     },
     "metadata": {},
     "output_type": "display_data"
    },
    {
     "data": {
      "application/javascript": [
       "$('span:contains(\"# Temp\")').closest('.cell').remove();"
      ],
      "text/plain": [
       "<IPython.core.display.Javascript object>"
      ]
     },
     "metadata": {},
     "output_type": "display_data"
    },
    {
     "data": {
      "application/javascript": [
       "\n",
       "        $('span:contains(\"# Temp\")').closest('.cell').remove();\n",
       "        var code = IPython.notebook.insert_cell_below('code');\n",
       "        code.set_text(atob(\"IyBUZW1wCmluc2VydCgnJycnJycpOw==\"));\n",
       "    "
      ],
      "text/plain": [
       "<IPython.core.display.Javascript object>"
      ]
     },
     "metadata": {},
     "output_type": "display_data"
    },
    {
     "data": {
      "application/javascript": [
       "$('span:contains(\"# Temp\")').closest('.cell').remove();"
      ],
      "text/plain": [
       "<IPython.core.display.Javascript object>"
      ]
     },
     "metadata": {},
     "output_type": "display_data"
    },
    {
     "data": {
      "application/javascript": [
       "\n",
       "        $('span:contains(\"# Temp\")').closest('.cell').remove();\n",
       "        var code = IPython.notebook.insert_cell_below('code');\n",
       "        code.set_text(atob(\"IyBUZW1wCmluc2VydCgnJycnJycpOw==\"));\n",
       "    "
      ],
      "text/plain": [
       "<IPython.core.display.Javascript object>"
      ]
     },
     "metadata": {},
     "output_type": "display_data"
    },
    {
     "data": {
      "application/javascript": [
       "$('span:contains(\"# Temp\")').closest('.cell').remove();"
      ],
      "text/plain": [
       "<IPython.core.display.Javascript object>"
      ]
     },
     "metadata": {},
     "output_type": "display_data"
    },
    {
     "data": {
      "application/javascript": [
       "\n",
       "        $('span:contains(\"# Temp\")').closest('.cell').remove();\n",
       "        var code = IPython.notebook.insert_cell_below('code');\n",
       "        code.set_text(atob(\"IyBUZW1wCmluc2VydCgnJycnJycpOw==\"));\n",
       "    "
      ],
      "text/plain": [
       "<IPython.core.display.Javascript object>"
      ]
     },
     "metadata": {},
     "output_type": "display_data"
    },
    {
     "data": {
      "application/javascript": [
       "$('span:contains(\"# Temp\")').closest('.cell').remove();"
      ],
      "text/plain": [
       "<IPython.core.display.Javascript object>"
      ]
     },
     "metadata": {},
     "output_type": "display_data"
    },
    {
     "data": {
      "application/javascript": [
       "\n",
       "        $('span:contains(\"# Temp\")').closest('.cell').remove();\n",
       "        var code = IPython.notebook.insert_cell_below('code');\n",
       "        code.set_text(atob(\"IyBUZW1wCmluc2VydCgnJycnJycpOw==\"));\n",
       "    "
      ],
      "text/plain": [
       "<IPython.core.display.Javascript object>"
      ]
     },
     "metadata": {},
     "output_type": "display_data"
    },
    {
     "data": {
      "application/javascript": [
       "$('span:contains(\"# Temp\")').closest('.cell').remove();"
      ],
      "text/plain": [
       "<IPython.core.display.Javascript object>"
      ]
     },
     "metadata": {},
     "output_type": "display_data"
    },
    {
     "data": {
      "application/javascript": [
       "\n",
       "        $('span:contains(\"# Temp\")').closest('.cell').remove();\n",
       "        var code = IPython.notebook.insert_cell_below('code');\n",
       "        code.set_text(atob(\"IyBUZW1wCmluc2VydCgnJycnJycpOw==\"));\n",
       "    "
      ],
      "text/plain": [
       "<IPython.core.display.Javascript object>"
      ]
     },
     "metadata": {},
     "output_type": "display_data"
    },
    {
     "data": {
      "application/javascript": [
       "$('span:contains(\"# Temp\")').closest('.cell').remove();"
      ],
      "text/plain": [
       "<IPython.core.display.Javascript object>"
      ]
     },
     "metadata": {},
     "output_type": "display_data"
    },
    {
     "data": {
      "application/javascript": [
       "\n",
       "        $('span:contains(\"# Temp\")').closest('.cell').remove();\n",
       "        var code = IPython.notebook.insert_cell_below('code');\n",
       "        code.set_text(atob(\"IyBUZW1wCmluc2VydCgnJycnJycpOw==\"));\n",
       "    "
      ],
      "text/plain": [
       "<IPython.core.display.Javascript object>"
      ]
     },
     "metadata": {},
     "output_type": "display_data"
    },
    {
     "data": {
      "application/javascript": [
       "$('span:contains(\"# Temp\")').closest('.cell').remove();"
      ],
      "text/plain": [
       "<IPython.core.display.Javascript object>"
      ]
     },
     "metadata": {},
     "output_type": "display_data"
    },
    {
     "data": {
      "application/javascript": [
       "\n",
       "        $('span:contains(\"# Temp\")').closest('.cell').remove();\n",
       "        var code = IPython.notebook.insert_cell_below('code');\n",
       "        code.set_text(atob(\"IyBUZW1wCmluc2VydCgnJycnJycpOw==\"));\n",
       "    "
      ],
      "text/plain": [
       "<IPython.core.display.Javascript object>"
      ]
     },
     "metadata": {},
     "output_type": "display_data"
    },
    {
     "data": {
      "application/javascript": [
       "$('span:contains(\"# Temp\")').closest('.cell').remove();"
      ],
      "text/plain": [
       "<IPython.core.display.Javascript object>"
      ]
     },
     "metadata": {},
     "output_type": "display_data"
    },
    {
     "data": {
      "application/javascript": [
       "\n",
       "        $('span:contains(\"# Temp\")').closest('.cell').remove();\n",
       "        var code = IPython.notebook.insert_cell_below('code');\n",
       "        code.set_text(atob(\"IyBUZW1wCmluc2VydCgnJycnJycpOw==\"));\n",
       "    "
      ],
      "text/plain": [
       "<IPython.core.display.Javascript object>"
      ]
     },
     "metadata": {},
     "output_type": "display_data"
    },
    {
     "data": {
      "application/javascript": [
       "$('span:contains(\"# Temp\")').closest('.cell').remove();"
      ],
      "text/plain": [
       "<IPython.core.display.Javascript object>"
      ]
     },
     "metadata": {},
     "output_type": "display_data"
    },
    {
     "data": {
      "application/javascript": [
       "\n",
       "        $('span:contains(\"# Temp\")').closest('.cell').remove();\n",
       "        var code = IPython.notebook.insert_cell_below('code');\n",
       "        code.set_text(atob(\"IyBUZW1wCmluc2VydCgnJycnJycpOw==\"));\n",
       "    "
      ],
      "text/plain": [
       "<IPython.core.display.Javascript object>"
      ]
     },
     "metadata": {},
     "output_type": "display_data"
    },
    {
     "data": {
      "application/javascript": [
       "$('span:contains(\"# Temp\")').closest('.cell').remove();"
      ],
      "text/plain": [
       "<IPython.core.display.Javascript object>"
      ]
     },
     "metadata": {},
     "output_type": "display_data"
    },
    {
     "data": {
      "application/javascript": [
       "\n",
       "        $('span:contains(\"# Temp\")').closest('.cell').remove();\n",
       "        var code = IPython.notebook.insert_cell_below('code');\n",
       "        code.set_text(atob(\"IyBUZW1wCmluc2VydCgnJycnJycpOw==\"));\n",
       "    "
      ],
      "text/plain": [
       "<IPython.core.display.Javascript object>"
      ]
     },
     "metadata": {},
     "output_type": "display_data"
    },
    {
     "data": {
      "application/javascript": [
       "$('span:contains(\"# Temp\")').closest('.cell').remove();"
      ],
      "text/plain": [
       "<IPython.core.display.Javascript object>"
      ]
     },
     "metadata": {},
     "output_type": "display_data"
    },
    {
     "data": {
      "application/javascript": [
       "\n",
       "        $('span:contains(\"# Temp\")').closest('.cell').remove();\n",
       "        var code = IPython.notebook.insert_cell_below('code');\n",
       "        code.set_text(atob(\"IyBUZW1wCmluc2VydCgnJycnJycpOw==\"));\n",
       "    "
      ],
      "text/plain": [
       "<IPython.core.display.Javascript object>"
      ]
     },
     "metadata": {},
     "output_type": "display_data"
    },
    {
     "data": {
      "application/javascript": [
       "$('span:contains(\"# Temp\")').closest('.cell').remove();"
      ],
      "text/plain": [
       "<IPython.core.display.Javascript object>"
      ]
     },
     "metadata": {},
     "output_type": "display_data"
    },
    {
     "data": {
      "application/javascript": [
       "\n",
       "        $('span:contains(\"# Temp\")').closest('.cell').remove();\n",
       "        var code = IPython.notebook.insert_cell_below('code');\n",
       "        code.set_text(atob(\"IyBUZW1wCmluc2VydCgnJycnJycpOw==\"));\n",
       "    "
      ],
      "text/plain": [
       "<IPython.core.display.Javascript object>"
      ]
     },
     "metadata": {},
     "output_type": "display_data"
    },
    {
     "data": {
      "application/javascript": [
       "$('span:contains(\"# Temp\")').closest('.cell').remove();"
      ],
      "text/plain": [
       "<IPython.core.display.Javascript object>"
      ]
     },
     "metadata": {},
     "output_type": "display_data"
    },
    {
     "data": {
      "application/javascript": [
       "\n",
       "        $('span:contains(\"# Temp\")').closest('.cell').remove();\n",
       "        var code = IPython.notebook.insert_cell_below('code');\n",
       "        code.set_text(atob(\"IyBUZW1wCmluc2VydCgnJycnJycpOw==\"));\n",
       "    "
      ],
      "text/plain": [
       "<IPython.core.display.Javascript object>"
      ]
     },
     "metadata": {},
     "output_type": "display_data"
    },
    {
     "data": {
      "application/javascript": [
       "$('span:contains(\"# Temp\")').closest('.cell').remove();"
      ],
      "text/plain": [
       "<IPython.core.display.Javascript object>"
      ]
     },
     "metadata": {},
     "output_type": "display_data"
    },
    {
     "data": {
      "application/javascript": [
       "\n",
       "        $('span:contains(\"# Temp\")').closest('.cell').remove();\n",
       "        var code = IPython.notebook.insert_cell_below('code');\n",
       "        code.set_text(atob(\"IyBUZW1wCmluc2VydCgnJycnJycpOw==\"));\n",
       "    "
      ],
      "text/plain": [
       "<IPython.core.display.Javascript object>"
      ]
     },
     "metadata": {},
     "output_type": "display_data"
    },
    {
     "data": {
      "application/javascript": [
       "$('span:contains(\"# Temp\")').closest('.cell').remove();"
      ],
      "text/plain": [
       "<IPython.core.display.Javascript object>"
      ]
     },
     "metadata": {},
     "output_type": "display_data"
    },
    {
     "data": {
      "application/javascript": [
       "\n",
       "        $('span:contains(\"# Temp\")').closest('.cell').remove();\n",
       "        var code = IPython.notebook.insert_cell_below('code');\n",
       "        code.set_text(atob(\"IyBUZW1wCmluc2VydCgnJycnJycpOw==\"));\n",
       "    "
      ],
      "text/plain": [
       "<IPython.core.display.Javascript object>"
      ]
     },
     "metadata": {},
     "output_type": "display_data"
    },
    {
     "data": {
      "application/javascript": [
       "$('span:contains(\"# Temp\")').closest('.cell').remove();"
      ],
      "text/plain": [
       "<IPython.core.display.Javascript object>"
      ]
     },
     "metadata": {},
     "output_type": "display_data"
    },
    {
     "data": {
      "application/javascript": [
       "\n",
       "        $('span:contains(\"# Temp\")').closest('.cell').remove();\n",
       "        var code = IPython.notebook.insert_cell_below('code');\n",
       "        code.set_text(atob(\"IyBUZW1wCmluc2VydCgnJycnJycpOw==\"));\n",
       "    "
      ],
      "text/plain": [
       "<IPython.core.display.Javascript object>"
      ]
     },
     "metadata": {},
     "output_type": "display_data"
    },
    {
     "data": {
      "application/javascript": [
       "$('span:contains(\"# Temp\")').closest('.cell').remove();"
      ],
      "text/plain": [
       "<IPython.core.display.Javascript object>"
      ]
     },
     "metadata": {},
     "output_type": "display_data"
    },
    {
     "data": {
      "application/javascript": [
       "\n",
       "        $('span:contains(\"# Temp\")').closest('.cell').remove();\n",
       "        var code = IPython.notebook.insert_cell_below('code');\n",
       "        code.set_text(atob(\"IyBUZW1wCmluc2VydCgnJycnJycpOw==\"));\n",
       "    "
      ],
      "text/plain": [
       "<IPython.core.display.Javascript object>"
      ]
     },
     "metadata": {},
     "output_type": "display_data"
    },
    {
     "data": {
      "application/javascript": [
       "$('span:contains(\"# Temp\")').closest('.cell').remove();"
      ],
      "text/plain": [
       "<IPython.core.display.Javascript object>"
      ]
     },
     "metadata": {},
     "output_type": "display_data"
    },
    {
     "data": {
      "application/javascript": [
       "\n",
       "        $('span:contains(\"# Temp\")').closest('.cell').remove();\n",
       "        var code = IPython.notebook.insert_cell_below('code');\n",
       "        code.set_text(atob(\"IyBUZW1wCmluc2VydCgnJycnJycpOw==\"));\n",
       "    "
      ],
      "text/plain": [
       "<IPython.core.display.Javascript object>"
      ]
     },
     "metadata": {},
     "output_type": "display_data"
    },
    {
     "data": {
      "application/javascript": [
       "$('span:contains(\"# Temp\")').closest('.cell').remove();"
      ],
      "text/plain": [
       "<IPython.core.display.Javascript object>"
      ]
     },
     "metadata": {},
     "output_type": "display_data"
    },
    {
     "data": {
      "application/javascript": [
       "\n",
       "        $('span:contains(\"# Temp\")').closest('.cell').remove();\n",
       "        var code = IPython.notebook.insert_cell_below('code');\n",
       "        code.set_text(atob(\"IyBUZW1wCmluc2VydCgnJycnJycpOw==\"));\n",
       "    "
      ],
      "text/plain": [
       "<IPython.core.display.Javascript object>"
      ]
     },
     "metadata": {},
     "output_type": "display_data"
    },
    {
     "data": {
      "application/javascript": [
       "$('span:contains(\"# Temp\")').closest('.cell').remove();"
      ],
      "text/plain": [
       "<IPython.core.display.Javascript object>"
      ]
     },
     "metadata": {},
     "output_type": "display_data"
    },
    {
     "data": {
      "application/javascript": [
       "\n",
       "        $('span:contains(\"# Temp\")').closest('.cell').remove();\n",
       "        var code = IPython.notebook.insert_cell_below('code');\n",
       "        code.set_text(atob(\"IyBUZW1wCmluc2VydCgnJycnJycpOw==\"));\n",
       "    "
      ],
      "text/plain": [
       "<IPython.core.display.Javascript object>"
      ]
     },
     "metadata": {},
     "output_type": "display_data"
    },
    {
     "data": {
      "application/javascript": [
       "$('span:contains(\"# Temp\")').closest('.cell').remove();"
      ],
      "text/plain": [
       "<IPython.core.display.Javascript object>"
      ]
     },
     "metadata": {},
     "output_type": "display_data"
    },
    {
     "data": {
      "application/javascript": [
       "\n",
       "        $('span:contains(\"# Temp\")').closest('.cell').remove();\n",
       "        var code = IPython.notebook.insert_cell_below('code');\n",
       "        code.set_text(atob(\"IyBUZW1wCmluc2VydCgnJycnJycpOw==\"));\n",
       "    "
      ],
      "text/plain": [
       "<IPython.core.display.Javascript object>"
      ]
     },
     "metadata": {},
     "output_type": "display_data"
    },
    {
     "data": {
      "application/javascript": [
       "$('span:contains(\"# Temp\")').closest('.cell').remove();"
      ],
      "text/plain": [
       "<IPython.core.display.Javascript object>"
      ]
     },
     "metadata": {},
     "output_type": "display_data"
    },
    {
     "data": {
      "application/javascript": [
       "\n",
       "        $('span:contains(\"# Temp\")').closest('.cell').remove();\n",
       "        var code = IPython.notebook.insert_cell_below('code');\n",
       "        code.set_text(atob(\"IyBUZW1wCmluc2VydCgnJycnJycpOw==\"));\n",
       "    "
      ],
      "text/plain": [
       "<IPython.core.display.Javascript object>"
      ]
     },
     "metadata": {},
     "output_type": "display_data"
    },
    {
     "data": {
      "application/javascript": [
       "$('span:contains(\"# Temp\")').closest('.cell').remove();"
      ],
      "text/plain": [
       "<IPython.core.display.Javascript object>"
      ]
     },
     "metadata": {},
     "output_type": "display_data"
    },
    {
     "data": {
      "application/javascript": [
       "\n",
       "        $('span:contains(\"# Temp\")').closest('.cell').remove();\n",
       "        var code = IPython.notebook.insert_cell_below('code');\n",
       "        code.set_text(atob(\"IyBUZW1wCmluc2VydCgnJycnJycpOw==\"));\n",
       "    "
      ],
      "text/plain": [
       "<IPython.core.display.Javascript object>"
      ]
     },
     "metadata": {},
     "output_type": "display_data"
    },
    {
     "data": {
      "application/javascript": [
       "$('span:contains(\"# Temp\")').closest('.cell').remove();"
      ],
      "text/plain": [
       "<IPython.core.display.Javascript object>"
      ]
     },
     "metadata": {},
     "output_type": "display_data"
    },
    {
     "data": {
      "application/javascript": [
       "\n",
       "        $('span:contains(\"# Temp\")').closest('.cell').remove();\n",
       "        var code = IPython.notebook.insert_cell_below('code');\n",
       "        code.set_text(atob(\"IyBUZW1wCmluc2VydCgnJycnJycpOw==\"));\n",
       "    "
      ],
      "text/plain": [
       "<IPython.core.display.Javascript object>"
      ]
     },
     "metadata": {},
     "output_type": "display_data"
    },
    {
     "data": {
      "application/javascript": [
       "$('span:contains(\"# Temp\")').closest('.cell').remove();"
      ],
      "text/plain": [
       "<IPython.core.display.Javascript object>"
      ]
     },
     "metadata": {},
     "output_type": "display_data"
    },
    {
     "data": {
      "application/javascript": [
       "\n",
       "        $('span:contains(\"# Temp\")').closest('.cell').remove();\n",
       "        var code = IPython.notebook.insert_cell_below('code');\n",
       "        code.set_text(atob(\"IyBUZW1wCmluc2VydCgnJycnJycpOw==\"));\n",
       "    "
      ],
      "text/plain": [
       "<IPython.core.display.Javascript object>"
      ]
     },
     "metadata": {},
     "output_type": "display_data"
    },
    {
     "data": {
      "application/javascript": [
       "$('span:contains(\"# Temp\")').closest('.cell').remove();"
      ],
      "text/plain": [
       "<IPython.core.display.Javascript object>"
      ]
     },
     "metadata": {},
     "output_type": "display_data"
    },
    {
     "data": {
      "application/javascript": [
       "\n",
       "        $('span:contains(\"# Temp\")').closest('.cell').remove();\n",
       "        var code = IPython.notebook.insert_cell_below('code');\n",
       "        code.set_text(atob(\"IyBUZW1wCmluc2VydCgnJycnJycpOw==\"));\n",
       "    "
      ],
      "text/plain": [
       "<IPython.core.display.Javascript object>"
      ]
     },
     "metadata": {},
     "output_type": "display_data"
    },
    {
     "data": {
      "application/javascript": [
       "$('span:contains(\"# Temp\")').closest('.cell').remove();"
      ],
      "text/plain": [
       "<IPython.core.display.Javascript object>"
      ]
     },
     "metadata": {},
     "output_type": "display_data"
    },
    {
     "data": {
      "application/javascript": [
       "\n",
       "        $('span:contains(\"# Temp\")').closest('.cell').remove();\n",
       "        var code = IPython.notebook.insert_cell_below('code');\n",
       "        code.set_text(atob(\"IyBUZW1wCmluc2VydCgnJycnJycpOw==\"));\n",
       "    "
      ],
      "text/plain": [
       "<IPython.core.display.Javascript object>"
      ]
     },
     "metadata": {},
     "output_type": "display_data"
    },
    {
     "data": {
      "application/javascript": [
       "$('span:contains(\"# Temp\")').closest('.cell').remove();"
      ],
      "text/plain": [
       "<IPython.core.display.Javascript object>"
      ]
     },
     "metadata": {},
     "output_type": "display_data"
    },
    {
     "data": {
      "application/javascript": [
       "\n",
       "        $('span:contains(\"# Temp\")').closest('.cell').remove();\n",
       "        var code = IPython.notebook.insert_cell_below('code');\n",
       "        code.set_text(atob(\"IyBUZW1wCmluc2VydCgnJycnJycpOw==\"));\n",
       "    "
      ],
      "text/plain": [
       "<IPython.core.display.Javascript object>"
      ]
     },
     "metadata": {},
     "output_type": "display_data"
    },
    {
     "data": {
      "application/javascript": [
       "$('span:contains(\"# Temp\")').closest('.cell').remove();"
      ],
      "text/plain": [
       "<IPython.core.display.Javascript object>"
      ]
     },
     "metadata": {},
     "output_type": "display_data"
    },
    {
     "data": {
      "application/javascript": [
       "\n",
       "        $('span:contains(\"# Temp\")').closest('.cell').remove();\n",
       "        var code = IPython.notebook.insert_cell_below('code');\n",
       "        code.set_text(atob(\"IyBUZW1wCmluc2VydCgnJycnJycpOw==\"));\n",
       "    "
      ],
      "text/plain": [
       "<IPython.core.display.Javascript object>"
      ]
     },
     "metadata": {},
     "output_type": "display_data"
    },
    {
     "data": {
      "application/javascript": [
       "$('span:contains(\"# Temp\")').closest('.cell').remove();"
      ],
      "text/plain": [
       "<IPython.core.display.Javascript object>"
      ]
     },
     "metadata": {},
     "output_type": "display_data"
    },
    {
     "data": {
      "application/javascript": [
       "\n",
       "        $('span:contains(\"# Temp\")').closest('.cell').remove();\n",
       "        var code = IPython.notebook.insert_cell_below('code');\n",
       "        code.set_text(atob(\"IyBUZW1wCmluc2VydCgnJycnJycpOw==\"));\n",
       "    "
      ],
      "text/plain": [
       "<IPython.core.display.Javascript object>"
      ]
     },
     "metadata": {},
     "output_type": "display_data"
    },
    {
     "data": {
      "application/javascript": [
       "$('span:contains(\"# Temp\")').closest('.cell').remove();"
      ],
      "text/plain": [
       "<IPython.core.display.Javascript object>"
      ]
     },
     "metadata": {},
     "output_type": "display_data"
    },
    {
     "data": {
      "application/javascript": [
       "\n",
       "        $('span:contains(\"# Temp\")').closest('.cell').remove();\n",
       "        var code = IPython.notebook.insert_cell_below('code');\n",
       "        code.set_text(atob(\"IyBUZW1wCmluc2VydCgnJycnJycpOw==\"));\n",
       "    "
      ],
      "text/plain": [
       "<IPython.core.display.Javascript object>"
      ]
     },
     "metadata": {},
     "output_type": "display_data"
    },
    {
     "data": {
      "application/javascript": [
       "$('span:contains(\"# Temp\")').closest('.cell').remove();"
      ],
      "text/plain": [
       "<IPython.core.display.Javascript object>"
      ]
     },
     "metadata": {},
     "output_type": "display_data"
    },
    {
     "data": {
      "application/javascript": [
       "\n",
       "        $('span:contains(\"# Temp\")').closest('.cell').remove();\n",
       "        var code = IPython.notebook.insert_cell_below('code');\n",
       "        code.set_text(atob(\"IyBUZW1wCmluc2VydCgnJycnJycpOw==\"));\n",
       "    "
      ],
      "text/plain": [
       "<IPython.core.display.Javascript object>"
      ]
     },
     "metadata": {},
     "output_type": "display_data"
    },
    {
     "data": {
      "application/javascript": [
       "$('span:contains(\"# Temp\")').closest('.cell').remove();"
      ],
      "text/plain": [
       "<IPython.core.display.Javascript object>"
      ]
     },
     "metadata": {},
     "output_type": "display_data"
    },
    {
     "data": {
      "application/javascript": [
       "\n",
       "        $('span:contains(\"# Temp\")').closest('.cell').remove();\n",
       "        var code = IPython.notebook.insert_cell_below('code');\n",
       "        code.set_text(atob(\"IyBUZW1wCmluc2VydCgnJycnJycpOw==\"));\n",
       "    "
      ],
      "text/plain": [
       "<IPython.core.display.Javascript object>"
      ]
     },
     "metadata": {},
     "output_type": "display_data"
    },
    {
     "data": {
      "application/javascript": [
       "$('span:contains(\"# Temp\")').closest('.cell').remove();"
      ],
      "text/plain": [
       "<IPython.core.display.Javascript object>"
      ]
     },
     "metadata": {},
     "output_type": "display_data"
    },
    {
     "data": {
      "application/javascript": [
       "\n",
       "        $('span:contains(\"# Temp\")').closest('.cell').remove();\n",
       "        var code = IPython.notebook.insert_cell_below('code');\n",
       "        code.set_text(atob(\"IyBUZW1wCmluc2VydCgnJycnJycpOw==\"));\n",
       "    "
      ],
      "text/plain": [
       "<IPython.core.display.Javascript object>"
      ]
     },
     "metadata": {},
     "output_type": "display_data"
    },
    {
     "data": {
      "application/javascript": [
       "$('span:contains(\"# Temp\")').closest('.cell').remove();"
      ],
      "text/plain": [
       "<IPython.core.display.Javascript object>"
      ]
     },
     "metadata": {},
     "output_type": "display_data"
    },
    {
     "data": {
      "application/javascript": [
       "\n",
       "        $('span:contains(\"# Temp\")').closest('.cell').remove();\n",
       "        var code = IPython.notebook.insert_cell_below('code');\n",
       "        code.set_text(atob(\"IyBUZW1wCmluc2VydCgnJycnJycpOw==\"));\n",
       "    "
      ],
      "text/plain": [
       "<IPython.core.display.Javascript object>"
      ]
     },
     "metadata": {},
     "output_type": "display_data"
    },
    {
     "data": {
      "application/javascript": [
       "$('span:contains(\"# Temp\")').closest('.cell').remove();"
      ],
      "text/plain": [
       "<IPython.core.display.Javascript object>"
      ]
     },
     "metadata": {},
     "output_type": "display_data"
    },
    {
     "data": {
      "application/javascript": [
       "\n",
       "        $('span:contains(\"# Temp\")').closest('.cell').remove();\n",
       "        var code = IPython.notebook.insert_cell_below('code');\n",
       "        code.set_text(atob(\"IyBUZW1wCmluc2VydCgnJycnJycpOw==\"));\n",
       "    "
      ],
      "text/plain": [
       "<IPython.core.display.Javascript object>"
      ]
     },
     "metadata": {},
     "output_type": "display_data"
    },
    {
     "data": {
      "application/javascript": [
       "$('span:contains(\"# Temp\")').closest('.cell').remove();"
      ],
      "text/plain": [
       "<IPython.core.display.Javascript object>"
      ]
     },
     "metadata": {},
     "output_type": "display_data"
    },
    {
     "data": {
      "application/javascript": [
       "\n",
       "        $('span:contains(\"# Temp\")').closest('.cell').remove();\n",
       "        var code = IPython.notebook.insert_cell_below('code');\n",
       "        code.set_text(atob(\"IyBUZW1wCmluc2VydCgnJycnJycpOw==\"));\n",
       "    "
      ],
      "text/plain": [
       "<IPython.core.display.Javascript object>"
      ]
     },
     "metadata": {},
     "output_type": "display_data"
    },
    {
     "data": {
      "application/javascript": [
       "$('span:contains(\"# Temp\")').closest('.cell').remove();"
      ],
      "text/plain": [
       "<IPython.core.display.Javascript object>"
      ]
     },
     "metadata": {},
     "output_type": "display_data"
    },
    {
     "data": {
      "application/javascript": [
       "\n",
       "        $('span:contains(\"# Temp\")').closest('.cell').remove();\n",
       "        var code = IPython.notebook.insert_cell_below('code');\n",
       "        code.set_text(atob(\"IyBUZW1wCmluc2VydCgnJycnJycpOw==\"));\n",
       "    "
      ],
      "text/plain": [
       "<IPython.core.display.Javascript object>"
      ]
     },
     "metadata": {},
     "output_type": "display_data"
    },
    {
     "data": {
      "application/javascript": [
       "$('span:contains(\"# Temp\")').closest('.cell').remove();"
      ],
      "text/plain": [
       "<IPython.core.display.Javascript object>"
      ]
     },
     "metadata": {},
     "output_type": "display_data"
    },
    {
     "data": {
      "application/javascript": [
       "\n",
       "        $('span:contains(\"# Temp\")').closest('.cell').remove();\n",
       "        var code = IPython.notebook.insert_cell_below('code');\n",
       "        code.set_text(atob(\"IyBUZW1wCmluc2VydCgnJycnJycpOw==\"));\n",
       "    "
      ],
      "text/plain": [
       "<IPython.core.display.Javascript object>"
      ]
     },
     "metadata": {},
     "output_type": "display_data"
    },
    {
     "data": {
      "application/javascript": [
       "$('span:contains(\"# Temp\")').closest('.cell').remove();"
      ],
      "text/plain": [
       "<IPython.core.display.Javascript object>"
      ]
     },
     "metadata": {},
     "output_type": "display_data"
    },
    {
     "data": {
      "application/javascript": [
       "\n",
       "        $('span:contains(\"# Temp\")').closest('.cell').remove();\n",
       "        var code = IPython.notebook.insert_cell_below('code');\n",
       "        code.set_text(atob(\"IyBUZW1wCmluc2VydCgnJycnJycpOw==\"));\n",
       "    "
      ],
      "text/plain": [
       "<IPython.core.display.Javascript object>"
      ]
     },
     "metadata": {},
     "output_type": "display_data"
    },
    {
     "data": {
      "application/javascript": [
       "$('span:contains(\"# Temp\")').closest('.cell').remove();"
      ],
      "text/plain": [
       "<IPython.core.display.Javascript object>"
      ]
     },
     "metadata": {},
     "output_type": "display_data"
    },
    {
     "data": {
      "application/javascript": [
       "\n",
       "        $('span:contains(\"# Temp\")').closest('.cell').remove();\n",
       "        var code = IPython.notebook.insert_cell_below('code');\n",
       "        code.set_text(atob(\"IyBUZW1wCmluc2VydCgnJycnJycpOw==\"));\n",
       "    "
      ],
      "text/plain": [
       "<IPython.core.display.Javascript object>"
      ]
     },
     "metadata": {},
     "output_type": "display_data"
    },
    {
     "data": {
      "application/javascript": [
       "$('span:contains(\"# Temp\")').closest('.cell').remove();"
      ],
      "text/plain": [
       "<IPython.core.display.Javascript object>"
      ]
     },
     "metadata": {},
     "output_type": "display_data"
    },
    {
     "data": {
      "application/javascript": [
       "\n",
       "        $('span:contains(\"# Temp\")').closest('.cell').remove();\n",
       "        var code = IPython.notebook.insert_cell_below('code');\n",
       "        code.set_text(atob(\"IyBUZW1wCmluc2VydCgnJycnJycpOw==\"));\n",
       "    "
      ],
      "text/plain": [
       "<IPython.core.display.Javascript object>"
      ]
     },
     "metadata": {},
     "output_type": "display_data"
    },
    {
     "data": {
      "application/javascript": [
       "$('span:contains(\"# Temp\")').closest('.cell').remove();"
      ],
      "text/plain": [
       "<IPython.core.display.Javascript object>"
      ]
     },
     "metadata": {},
     "output_type": "display_data"
    },
    {
     "data": {
      "application/javascript": [
       "\n",
       "        $('span:contains(\"# Temp\")').closest('.cell').remove();\n",
       "        var code = IPython.notebook.insert_cell_below('code');\n",
       "        code.set_text(atob(\"IyBUZW1wCmluc2VydCgnJycnJycpOw==\"));\n",
       "    "
      ],
      "text/plain": [
       "<IPython.core.display.Javascript object>"
      ]
     },
     "metadata": {},
     "output_type": "display_data"
    },
    {
     "data": {
      "application/javascript": [
       "$('span:contains(\"# Temp\")').closest('.cell').remove();"
      ],
      "text/plain": [
       "<IPython.core.display.Javascript object>"
      ]
     },
     "metadata": {},
     "output_type": "display_data"
    },
    {
     "data": {
      "application/javascript": [
       "\n",
       "        $('span:contains(\"# Temp\")').closest('.cell').remove();\n",
       "        var code = IPython.notebook.insert_cell_below('code');\n",
       "        code.set_text(atob(\"IyBUZW1wCmluc2VydCgnJycnJycpOw==\"));\n",
       "    "
      ],
      "text/plain": [
       "<IPython.core.display.Javascript object>"
      ]
     },
     "metadata": {},
     "output_type": "display_data"
    },
    {
     "data": {
      "application/javascript": [
       "$('span:contains(\"# Temp\")').closest('.cell').remove();"
      ],
      "text/plain": [
       "<IPython.core.display.Javascript object>"
      ]
     },
     "metadata": {},
     "output_type": "display_data"
    },
    {
     "data": {
      "application/javascript": [
       "\n",
       "        $('span:contains(\"# Temp\")').closest('.cell').remove();\n",
       "        var code = IPython.notebook.insert_cell_below('code');\n",
       "        code.set_text(atob(\"IyBUZW1wCmluc2VydCgnJycnJycpOw==\"));\n",
       "    "
      ],
      "text/plain": [
       "<IPython.core.display.Javascript object>"
      ]
     },
     "metadata": {},
     "output_type": "display_data"
    },
    {
     "data": {
      "application/javascript": [
       "$('span:contains(\"# Temp\")').closest('.cell').remove();"
      ],
      "text/plain": [
       "<IPython.core.display.Javascript object>"
      ]
     },
     "metadata": {},
     "output_type": "display_data"
    },
    {
     "data": {
      "application/javascript": [
       "\n",
       "        $('span:contains(\"# Temp\")').closest('.cell').remove();\n",
       "        var code = IPython.notebook.insert_cell_below('code');\n",
       "        code.set_text(atob(\"IyBUZW1wCmluc2VydCgnJycnJycpOw==\"));\n",
       "    "
      ],
      "text/plain": [
       "<IPython.core.display.Javascript object>"
      ]
     },
     "metadata": {},
     "output_type": "display_data"
    },
    {
     "data": {
      "application/javascript": [
       "$('span:contains(\"# Temp\")').closest('.cell').remove();"
      ],
      "text/plain": [
       "<IPython.core.display.Javascript object>"
      ]
     },
     "metadata": {},
     "output_type": "display_data"
    },
    {
     "data": {
      "application/javascript": [
       "\n",
       "        $('span:contains(\"# Temp\")').closest('.cell').remove();\n",
       "        var code = IPython.notebook.insert_cell_below('code');\n",
       "        code.set_text(atob(\"IyBUZW1wCmluc2VydCgnJycnJycpOw==\"));\n",
       "    "
      ],
      "text/plain": [
       "<IPython.core.display.Javascript object>"
      ]
     },
     "metadata": {},
     "output_type": "display_data"
    },
    {
     "data": {
      "application/javascript": [
       "$('span:contains(\"# Temp\")').closest('.cell').remove();"
      ],
      "text/plain": [
       "<IPython.core.display.Javascript object>"
      ]
     },
     "metadata": {},
     "output_type": "display_data"
    },
    {
     "data": {
      "application/javascript": [
       "\n",
       "        $('span:contains(\"# Temp\")').closest('.cell').remove();\n",
       "        var code = IPython.notebook.insert_cell_below('code');\n",
       "        code.set_text(atob(\"IyBUZW1wCmluc2VydCgnJycnJycpOw==\"));\n",
       "    "
      ],
      "text/plain": [
       "<IPython.core.display.Javascript object>"
      ]
     },
     "metadata": {},
     "output_type": "display_data"
    },
    {
     "data": {
      "application/javascript": [
       "$('span:contains(\"# Temp\")').closest('.cell').remove();"
      ],
      "text/plain": [
       "<IPython.core.display.Javascript object>"
      ]
     },
     "metadata": {},
     "output_type": "display_data"
    },
    {
     "data": {
      "application/javascript": [
       "\n",
       "        $('span:contains(\"# Temp\")').closest('.cell').remove();\n",
       "        var code = IPython.notebook.insert_cell_below('code');\n",
       "        code.set_text(atob(\"IyBUZW1wCmluc2VydCgnJycnJycpOw==\"));\n",
       "    "
      ],
      "text/plain": [
       "<IPython.core.display.Javascript object>"
      ]
     },
     "metadata": {},
     "output_type": "display_data"
    },
    {
     "data": {
      "application/javascript": [
       "$('span:contains(\"# Temp\")').closest('.cell').remove();"
      ],
      "text/plain": [
       "<IPython.core.display.Javascript object>"
      ]
     },
     "metadata": {},
     "output_type": "display_data"
    },
    {
     "data": {
      "application/javascript": [
       "\n",
       "        $('span:contains(\"# Temp\")').closest('.cell').remove();\n",
       "        var code = IPython.notebook.insert_cell_below('code');\n",
       "        code.set_text(atob(\"IyBUZW1wCmluc2VydCgnJycnJycpOw==\"));\n",
       "    "
      ],
      "text/plain": [
       "<IPython.core.display.Javascript object>"
      ]
     },
     "metadata": {},
     "output_type": "display_data"
    },
    {
     "data": {
      "application/javascript": [
       "$('span:contains(\"# Temp\")').closest('.cell').remove();"
      ],
      "text/plain": [
       "<IPython.core.display.Javascript object>"
      ]
     },
     "metadata": {},
     "output_type": "display_data"
    },
    {
     "data": {
      "application/javascript": [
       "\n",
       "        $('span:contains(\"# Temp\")').closest('.cell').remove();\n",
       "        var code = IPython.notebook.insert_cell_below('code');\n",
       "        code.set_text(atob(\"IyBUZW1wCmluc2VydCgnJycnJycpOw==\"));\n",
       "    "
      ],
      "text/plain": [
       "<IPython.core.display.Javascript object>"
      ]
     },
     "metadata": {},
     "output_type": "display_data"
    },
    {
     "data": {
      "application/javascript": [
       "$('span:contains(\"# Temp\")').closest('.cell').remove();"
      ],
      "text/plain": [
       "<IPython.core.display.Javascript object>"
      ]
     },
     "metadata": {},
     "output_type": "display_data"
    },
    {
     "data": {
      "application/javascript": [
       "\n",
       "        $('span:contains(\"# Temp\")').closest('.cell').remove();\n",
       "        var code = IPython.notebook.insert_cell_below('code');\n",
       "        code.set_text(atob(\"IyBUZW1wCmluc2VydCgnJycnJycpOw==\"));\n",
       "    "
      ],
      "text/plain": [
       "<IPython.core.display.Javascript object>"
      ]
     },
     "metadata": {},
     "output_type": "display_data"
    },
    {
     "data": {
      "application/javascript": [
       "$('span:contains(\"# Temp\")').closest('.cell').remove();"
      ],
      "text/plain": [
       "<IPython.core.display.Javascript object>"
      ]
     },
     "metadata": {},
     "output_type": "display_data"
    },
    {
     "data": {
      "application/javascript": [
       "\n",
       "        $('span:contains(\"# Temp\")').closest('.cell').remove();\n",
       "        var code = IPython.notebook.insert_cell_below('code');\n",
       "        code.set_text(atob(\"IyBUZW1wCmluc2VydCgnJycnJycpOw==\"));\n",
       "    "
      ],
      "text/plain": [
       "<IPython.core.display.Javascript object>"
      ]
     },
     "metadata": {},
     "output_type": "display_data"
    },
    {
     "data": {
      "application/javascript": [
       "$('span:contains(\"# Temp\")').closest('.cell').remove();"
      ],
      "text/plain": [
       "<IPython.core.display.Javascript object>"
      ]
     },
     "metadata": {},
     "output_type": "display_data"
    },
    {
     "data": {
      "application/javascript": [
       "\n",
       "        $('span:contains(\"# Temp\")').closest('.cell').remove();\n",
       "        var code = IPython.notebook.insert_cell_below('code');\n",
       "        code.set_text(atob(\"IyBUZW1wCmluc2VydCgnJycnJycpOw==\"));\n",
       "    "
      ],
      "text/plain": [
       "<IPython.core.display.Javascript object>"
      ]
     },
     "metadata": {},
     "output_type": "display_data"
    },
    {
     "data": {
      "application/javascript": [
       "$('span:contains(\"# Temp\")').closest('.cell').remove();"
      ],
      "text/plain": [
       "<IPython.core.display.Javascript object>"
      ]
     },
     "metadata": {},
     "output_type": "display_data"
    },
    {
     "data": {
      "application/javascript": [
       "\n",
       "        $('span:contains(\"# Temp\")').closest('.cell').remove();\n",
       "        var code = IPython.notebook.insert_cell_below('code');\n",
       "        code.set_text(atob(\"IyBUZW1wCmluc2VydCgnJycnJycpOw==\"));\n",
       "    "
      ],
      "text/plain": [
       "<IPython.core.display.Javascript object>"
      ]
     },
     "metadata": {},
     "output_type": "display_data"
    },
    {
     "data": {
      "application/javascript": [
       "$('span:contains(\"# Temp\")').closest('.cell').remove();"
      ],
      "text/plain": [
       "<IPython.core.display.Javascript object>"
      ]
     },
     "metadata": {},
     "output_type": "display_data"
    },
    {
     "data": {
      "application/javascript": [
       "\n",
       "        $('span:contains(\"# Temp\")').closest('.cell').remove();\n",
       "        var code = IPython.notebook.insert_cell_below('code');\n",
       "        code.set_text(atob(\"IyBUZW1wCmluc2VydCgnJycnJycpOwpzZXRfYXR0cmlidXRlKCdtYW5kaT8yMDEwYicsICdwcCcsICcyMDoxLS0yMDoxMCcpOwpzZXRfYXR0cmlidXRlKCdtYW5kaT8yMDEwYicsICdzZXJpZXMnLCAnRVNFTSAnMTAnKTsKc2V0X2F0dHJpYnV0ZSgnbWFuZGk/MjAxMGInLCAnaXNibicsICc5NzgtMS00NTAzLTAwMzktMScpOwpzZXRfYXR0cmlidXRlKCdtYW5kaT8yMDEwYicsICdsb2NhdGlvbicsICdCb2x6YW5vLUJvemVuLCBJdGFseScpOwpzZXRfYXR0cmlidXRlKCdtYW5kaT8yMDEwYicsICdhY20nLCAnMScpOwpzZXRfYXR0cmlidXRlKCdtYW5kaT8yMDEwYicsICdwbGFjZXgnLCAnUHJvY2VlZGluZ3Mgb2YgdGhlIDIwMTAgQUNNLUlFRUUgSW50ZXJuYXRpb25hbCBTeW1wb3NpdW0gb24gRW1waXJpY2FsIFNvZnR3YXJlIEVuZ2luZWVyaW5nIGFuZCBNZWFzdXJlbWVudCcpOw==\"));\n",
       "    "
      ],
      "text/plain": [
       "<IPython.core.display.Javascript object>"
      ]
     },
     "metadata": {},
     "output_type": "display_data"
    },
    {
     "data": {
      "application/javascript": [
       "$('span:contains(\"# Temp\")').closest('.cell').remove();"
      ],
      "text/plain": [
       "<IPython.core.display.Javascript object>"
      ]
     },
     "metadata": {},
     "output_type": "display_data"
    },
    {
     "data": {
      "application/javascript": [
       "\n",
       "        $('span:contains(\"# Temp\")').closest('.cell').remove();\n",
       "        var code = IPython.notebook.insert_cell_below('code');\n",
       "        code.set_text(atob(\"IyBUZW1wCmluc2VydCgnJycnJycpOwpzZXRfYXR0cmlidXRlKCdtYW5kaT8yMDEwYicsICdwcCcsICcyMDoxLS0yMDoxMCcpOwpzZXRfYXR0cmlidXRlKCdtYW5kaT8yMDEwYicsICdzZXJpZXMnLCAnRVNFTSAnMTAnKTsKc2V0X2F0dHJpYnV0ZSgnbWFuZGk/MjAxMGInLCAnaXNibicsICc5NzgtMS00NTAzLTAwMzktMScpOwpzZXRfYXR0cmlidXRlKCdtYW5kaT8yMDEwYicsICdsb2NhdGlvbicsICdCb2x6YW5vLUJvemVuLCBJdGFseScpOwpzZXRfYXR0cmlidXRlKCdtYW5kaT8yMDEwYicsICdhY20nLCAnMScpOwpzZXRfYXR0cmlidXRlKCdtYW5kaT8yMDEwYicsICdwbGFjZXgnLCAnUHJvY2VlZGluZ3Mgb2YgdGhlIDIwMTAgQUNNLUlFRUUgSW50ZXJuYXRpb25hbCBTeW1wb3NpdW0gb24gRW1waXJpY2FsIFNvZnR3YXJlIEVuZ2luZWVyaW5nIGFuZCBNZWFzdXJlbWVudCcpOw==\"));\n",
       "    "
      ],
      "text/plain": [
       "<IPython.core.display.Javascript object>"
      ]
     },
     "metadata": {},
     "output_type": "display_data"
    },
    {
     "data": {
      "application/javascript": [
       "$('span:contains(\"# Temp\")').closest('.cell').remove();"
      ],
      "text/plain": [
       "<IPython.core.display.Javascript object>"
      ]
     },
     "metadata": {},
     "output_type": "display_data"
    },
    {
     "data": {
      "application/javascript": [
       "\n",
       "        $('span:contains(\"# Temp\")').closest('.cell').remove();\n",
       "        var code = IPython.notebook.insert_cell_below('code');\n",
       "        code.set_text(atob(\"IyBUZW1wCmluc2VydCgnJycnJycpOw==\"));\n",
       "    "
      ],
      "text/plain": [
       "<IPython.core.display.Javascript object>"
      ]
     },
     "metadata": {},
     "output_type": "display_data"
    },
    {
     "data": {
      "application/javascript": [
       "$('span:contains(\"# Temp\")').closest('.cell').remove();"
      ],
      "text/plain": [
       "<IPython.core.display.Javascript object>"
      ]
     },
     "metadata": {},
     "output_type": "display_data"
    },
    {
     "data": {
      "application/javascript": [
       "\n",
       "        $('span:contains(\"# Temp\")').closest('.cell').remove();\n",
       "        var code = IPython.notebook.insert_cell_below('code');\n",
       "        code.set_text(atob(\"IyBUZW1wCmluc2VydCgnJycnJycpOw==\"));\n",
       "    "
      ],
      "text/plain": [
       "<IPython.core.display.Javascript object>"
      ]
     },
     "metadata": {},
     "output_type": "display_data"
    },
    {
     "data": {
      "application/javascript": [
       "$('span:contains(\"# Temp\")').closest('.cell').remove();"
      ],
      "text/plain": [
       "<IPython.core.display.Javascript object>"
      ]
     },
     "metadata": {},
     "output_type": "display_data"
    },
    {
     "data": {
      "application/javascript": [
       "\n",
       "        $('span:contains(\"# Temp\")').closest('.cell').remove();\n",
       "        var code = IPython.notebook.insert_cell_below('code');\n",
       "        code.set_text(atob(\"IyBUZW1wCmluc2VydCgnJycnJycpOwpzZXRfYXR0cmlidXRlKCdtYW5kaT8yMDEwYicsICdwcCcsICcyMDoxLS0yMDoxMCcpOwpzZXRfYXR0cmlidXRlKCdtYW5kaT8yMDEwYicsICdzZXJpZXMnLCAnRVNFTSAnMTAnKTsKc2V0X2F0dHJpYnV0ZSgnbWFuZGk/MjAxMGInLCAnaXNibicsICc5NzgtMS00NTAzLTAwMzktMScpOwpzZXRfYXR0cmlidXRlKCdtYW5kaT8yMDEwYicsICdsb2NhdGlvbicsICdCb2x6YW5vLUJvemVuLCBJdGFseScpOw==\"));\n",
       "    "
      ],
      "text/plain": [
       "<IPython.core.display.Javascript object>"
      ]
     },
     "metadata": {},
     "output_type": "display_data"
    },
    {
     "data": {
      "application/javascript": [
       "$('span:contains(\"# Temp\")').closest('.cell').remove();"
      ],
      "text/plain": [
       "<IPython.core.display.Javascript object>"
      ]
     },
     "metadata": {},
     "output_type": "display_data"
    },
    {
     "data": {
      "application/javascript": [
       "\n",
       "        $('span:contains(\"# Temp\")').closest('.cell').remove();\n",
       "        var code = IPython.notebook.insert_cell_below('code');\n",
       "        code.set_text(atob(\"IyBUZW1wCmluc2VydCgnJycnJycpOwpzZXRfYXR0cmlidXRlKCdtYW5kaT8yMDEwYicsICdwcCcsICcyMDoxLS0yMDoxMCcpOwpzZXRfYXR0cmlidXRlKCdtYW5kaT8yMDEwYicsICdzZXJpZXMnLCAnRVNFTSAnMTAnKTsKc2V0X2F0dHJpYnV0ZSgnbWFuZGk/MjAxMGInLCAnaXNibicsICc5NzgtMS00NTAzLTAwMzktMScpOwpzZXRfYXR0cmlidXRlKCdtYW5kaT8yMDEwYicsICdsb2NhdGlvbicsICdCb2x6YW5vLUJvemVuLCBJdGFseScpOw==\"));\n",
       "    "
      ],
      "text/plain": [
       "<IPython.core.display.Javascript object>"
      ]
     },
     "metadata": {},
     "output_type": "display_data"
    },
    {
     "data": {
      "application/javascript": [
       "$('span:contains(\"# Temp\")').closest('.cell').remove();"
      ],
      "text/plain": [
       "<IPython.core.display.Javascript object>"
      ]
     },
     "metadata": {},
     "output_type": "display_data"
    },
    {
     "data": {
      "application/javascript": [
       "\n",
       "        $('span:contains(\"# Temp\")').closest('.cell').remove();\n",
       "        var code = IPython.notebook.insert_cell_below('code');\n",
       "        code.set_text(atob(\"IyBUZW1wCmluc2VydCgnJycnJycpOw==\"));\n",
       "    "
      ],
      "text/plain": [
       "<IPython.core.display.Javascript object>"
      ]
     },
     "metadata": {},
     "output_type": "display_data"
    },
    {
     "data": {
      "application/javascript": [
       "$('span:contains(\"# Temp\")').closest('.cell').remove();"
      ],
      "text/plain": [
       "<IPython.core.display.Javascript object>"
      ]
     },
     "metadata": {},
     "output_type": "display_data"
    },
    {
     "data": {
      "application/javascript": [
       "\n",
       "        $('span:contains(\"# Temp\")').closest('.cell').remove();\n",
       "        var code = IPython.notebook.insert_cell_below('code');\n",
       "        code.set_text(atob(\"IyBUZW1wCmluc2VydCgnJycnJycpOw==\"));\n",
       "    "
      ],
      "text/plain": [
       "<IPython.core.display.Javascript object>"
      ]
     },
     "metadata": {},
     "output_type": "display_data"
    },
    {
     "data": {
      "application/javascript": [
       "$('span:contains(\"# Temp\")').closest('.cell').remove();"
      ],
      "text/plain": [
       "<IPython.core.display.Javascript object>"
      ]
     },
     "metadata": {},
     "output_type": "display_data"
    },
    {
     "data": {
      "application/javascript": [
       "\n",
       "        $('span:contains(\"# Temp\")').closest('.cell').remove();\n",
       "        var code = IPython.notebook.insert_cell_below('code');\n",
       "        code.set_text(atob(\"IyBUZW1wCmluc2VydCgnJycnJycpOwpzZXRfYXR0cmlidXRlKCdsZXRpZXIyMDA0YScsICdzZXJpZXMnLCAnU0lHU09GVCAnMDQvRlNFLTEyJyk7CnNldF9hdHRyaWJ1dGUoJ2xldGllcjIwMDRhJywgJ2lzYm4nLCAnMS01ODExMy04NTUtNScpOwpzZXRfYXR0cmlidXRlKCdsZXRpZXIyMDA0YScsICdsb2NhdGlvbicsICdOZXdwb3J0IEJlYWNoLCBDQSwgVVNBJyk7\"));\n",
       "    "
      ],
      "text/plain": [
       "<IPython.core.display.Javascript object>"
      ]
     },
     "metadata": {},
     "output_type": "display_data"
    },
    {
     "data": {
      "application/javascript": [
       "$('span:contains(\"# Temp\")').closest('.cell').remove();"
      ],
      "text/plain": [
       "<IPython.core.display.Javascript object>"
      ]
     },
     "metadata": {},
     "output_type": "display_data"
    },
    {
     "data": {
      "application/javascript": [
       "\n",
       "        $('span:contains(\"# Temp\")').closest('.cell').remove();\n",
       "        var code = IPython.notebook.insert_cell_below('code');\n",
       "        code.set_text(atob(\"IyBUZW1wCmluc2VydCgnJycnJycpOwpzZXRfYXR0cmlidXRlKCdsZXRpZXIyMDA0YScsICdzZXJpZXMnLCAnU0lHU09GVCAnMDQvRlNFLTEyJyk7CnNldF9hdHRyaWJ1dGUoJ2xldGllcjIwMDRhJywgJ2lzYm4nLCAnMS01ODExMy04NTUtNScpOwpzZXRfYXR0cmlidXRlKCdsZXRpZXIyMDA0YScsICdsb2NhdGlvbicsICdOZXdwb3J0IEJlYWNoLCBDQSwgVVNBJyk7\"));\n",
       "    "
      ],
      "text/plain": [
       "<IPython.core.display.Javascript object>"
      ]
     },
     "metadata": {},
     "output_type": "display_data"
    },
    {
     "data": {
      "application/javascript": [
       "$('span:contains(\"# Temp\")').closest('.cell').remove();"
      ],
      "text/plain": [
       "<IPython.core.display.Javascript object>"
      ]
     },
     "metadata": {},
     "output_type": "display_data"
    },
    {
     "data": {
      "application/javascript": [
       "\n",
       "        $('span:contains(\"# Temp\")').closest('.cell').remove();\n",
       "        var code = IPython.notebook.insert_cell_below('code');\n",
       "        code.set_text(atob(\"IyBUZW1wCmluc2VydCgnJycnJycpOw==\"));\n",
       "    "
      ],
      "text/plain": [
       "<IPython.core.display.Javascript object>"
      ]
     },
     "metadata": {},
     "output_type": "display_data"
    },
    {
     "data": {
      "application/javascript": [
       "$('span:contains(\"# Temp\")').closest('.cell').remove();"
      ],
      "text/plain": [
       "<IPython.core.display.Javascript object>"
      ]
     },
     "metadata": {},
     "output_type": "display_data"
    },
    {
     "data": {
      "application/javascript": [
       "\n",
       "        $('span:contains(\"# Temp\")').closest('.cell').remove();\n",
       "        var code = IPython.notebook.insert_cell_below('code');\n",
       "        code.set_text(atob(\"IyBUZW1wCmluc2VydCgnJycnJycpOw==\"));\n",
       "    "
      ],
      "text/plain": [
       "<IPython.core.display.Javascript object>"
      ]
     },
     "metadata": {},
     "output_type": "display_data"
    },
    {
     "data": {
      "application/javascript": [
       "$('span:contains(\"# Temp\")').closest('.cell').remove();"
      ],
      "text/plain": [
       "<IPython.core.display.Javascript object>"
      ]
     },
     "metadata": {},
     "output_type": "display_data"
    },
    {
     "data": {
      "application/javascript": [
       "\n",
       "        $('span:contains(\"# Temp\")').closest('.cell').remove();\n",
       "        var code = IPython.notebook.insert_cell_below('code');\n",
       "        code.set_text(atob(\"IyBUZW1wCmluc2VydCgnJycnJycpOw==\"));\n",
       "    "
      ],
      "text/plain": [
       "<IPython.core.display.Javascript object>"
      ]
     },
     "metadata": {},
     "output_type": "display_data"
    },
    {
     "data": {
      "application/javascript": [
       "$('span:contains(\"# Temp\")').closest('.cell').remove();"
      ],
      "text/plain": [
       "<IPython.core.display.Javascript object>"
      ]
     },
     "metadata": {},
     "output_type": "display_data"
    },
    {
     "data": {
      "application/javascript": [
       "\n",
       "        $('span:contains(\"# Temp\")').closest('.cell').remove();\n",
       "        var code = IPython.notebook.insert_cell_below('code');\n",
       "        code.set_text(atob(\"IyBUZW1wCmluc2VydCgnJycnJycpOw==\"));\n",
       "    "
      ],
      "text/plain": [
       "<IPython.core.display.Javascript object>"
      ]
     },
     "metadata": {},
     "output_type": "display_data"
    },
    {
     "data": {
      "application/javascript": [
       "$('span:contains(\"# Temp\")').closest('.cell').remove();"
      ],
      "text/plain": [
       "<IPython.core.display.Javascript object>"
      ]
     },
     "metadata": {},
     "output_type": "display_data"
    },
    {
     "data": {
      "application/javascript": [
       "\n",
       "        $('span:contains(\"# Temp\")').closest('.cell').remove();\n",
       "        var code = IPython.notebook.insert_cell_below('code');\n",
       "        code.set_text(atob(\"IyBUZW1wCmluc2VydCgnJycnJycpOw==\"));\n",
       "    "
      ],
      "text/plain": [
       "<IPython.core.display.Javascript object>"
      ]
     },
     "metadata": {},
     "output_type": "display_data"
    },
    {
     "data": {
      "application/javascript": [
       "$('span:contains(\"# Temp\")').closest('.cell').remove();"
      ],
      "text/plain": [
       "<IPython.core.display.Javascript object>"
      ]
     },
     "metadata": {},
     "output_type": "display_data"
    },
    {
     "data": {
      "application/javascript": [
       "\n",
       "        $('span:contains(\"# Temp\")').closest('.cell').remove();\n",
       "        var code = IPython.notebook.insert_cell_below('code');\n",
       "        code.set_text(atob(\"IyBUZW1wCmluc2VydCgnJycnJycpOw==\"));\n",
       "    "
      ],
      "text/plain": [
       "<IPython.core.display.Javascript object>"
      ]
     },
     "metadata": {},
     "output_type": "display_data"
    },
    {
     "data": {
      "application/javascript": [
       "$('span:contains(\"# Temp\")').closest('.cell').remove();"
      ],
      "text/plain": [
       "<IPython.core.display.Javascript object>"
      ]
     },
     "metadata": {},
     "output_type": "display_data"
    },
    {
     "data": {
      "application/javascript": [
       "\n",
       "        $('span:contains(\"# Temp\")').closest('.cell').remove();\n",
       "        var code = IPython.notebook.insert_cell_below('code');\n",
       "        code.set_text(atob(\"IyBUZW1wCmluc2VydCgnJycnJycpOw==\"));\n",
       "    "
      ],
      "text/plain": [
       "<IPython.core.display.Javascript object>"
      ]
     },
     "metadata": {},
     "output_type": "display_data"
    },
    {
     "data": {
      "application/javascript": [
       "$('span:contains(\"# Temp\")').closest('.cell').remove();"
      ],
      "text/plain": [
       "<IPython.core.display.Javascript object>"
      ]
     },
     "metadata": {},
     "output_type": "display_data"
    },
    {
     "data": {
      "application/javascript": [
       "\n",
       "        $('span:contains(\"# Temp\")').closest('.cell').remove();\n",
       "        var code = IPython.notebook.insert_cell_below('code');\n",
       "        code.set_text(atob(\"IyBUZW1wCmluc2VydCgnJycnJycpOw==\"));\n",
       "    "
      ],
      "text/plain": [
       "<IPython.core.display.Javascript object>"
      ]
     },
     "metadata": {},
     "output_type": "display_data"
    },
    {
     "data": {
      "application/javascript": [
       "$('span:contains(\"# Temp\")').closest('.cell').remove();"
      ],
      "text/plain": [
       "<IPython.core.display.Javascript object>"
      ]
     },
     "metadata": {},
     "output_type": "display_data"
    },
    {
     "data": {
      "application/javascript": [
       "\n",
       "        $('span:contains(\"# Temp\")').closest('.cell').remove();\n",
       "        var code = IPython.notebook.insert_cell_below('code');\n",
       "        code.set_text(atob(\"IyBUZW1wCmluc2VydCgnJycnJycpOw==\"));\n",
       "    "
      ],
      "text/plain": [
       "<IPython.core.display.Javascript object>"
      ]
     },
     "metadata": {},
     "output_type": "display_data"
    },
    {
     "data": {
      "application/javascript": [
       "$('span:contains(\"# Temp\")').closest('.cell').remove();"
      ],
      "text/plain": [
       "<IPython.core.display.Javascript object>"
      ]
     },
     "metadata": {},
     "output_type": "display_data"
    },
    {
     "data": {
      "application/javascript": [
       "\n",
       "        $('span:contains(\"# Temp\")').closest('.cell').remove();\n",
       "        var code = IPython.notebook.insert_cell_below('code');\n",
       "        code.set_text(atob(\"IyBUZW1wCmluc2VydCgnJycnJycpOw==\"));\n",
       "    "
      ],
      "text/plain": [
       "<IPython.core.display.Javascript object>"
      ]
     },
     "metadata": {},
     "output_type": "display_data"
    },
    {
     "data": {
      "application/javascript": [
       "$('span:contains(\"# Temp\")').closest('.cell').remove();"
      ],
      "text/plain": [
       "<IPython.core.display.Javascript object>"
      ]
     },
     "metadata": {},
     "output_type": "display_data"
    },
    {
     "data": {
      "application/javascript": [
       "\n",
       "        $('span:contains(\"# Temp\")').closest('.cell').remove();\n",
       "        var code = IPython.notebook.insert_cell_below('code');\n",
       "        code.set_text(atob(\"IyBUZW1wCmluc2VydCgnJycnJycpOw==\"));\n",
       "    "
      ],
      "text/plain": [
       "<IPython.core.display.Javascript object>"
      ]
     },
     "metadata": {},
     "output_type": "display_data"
    },
    {
     "data": {
      "application/javascript": [
       "$('span:contains(\"# Temp\")').closest('.cell').remove();"
      ],
      "text/plain": [
       "<IPython.core.display.Javascript object>"
      ]
     },
     "metadata": {},
     "output_type": "display_data"
    },
    {
     "data": {
      "application/javascript": [
       "\n",
       "        $('span:contains(\"# Temp\")').closest('.cell').remove();\n",
       "        var code = IPython.notebook.insert_cell_below('code');\n",
       "        code.set_text(atob(\"IyBUZW1wCmluc2VydCgnJycnJycpOw==\"));\n",
       "    "
      ],
      "text/plain": [
       "<IPython.core.display.Javascript object>"
      ]
     },
     "metadata": {},
     "output_type": "display_data"
    },
    {
     "data": {
      "application/javascript": [
       "$('span:contains(\"# Temp\")').closest('.cell').remove();"
      ],
      "text/plain": [
       "<IPython.core.display.Javascript object>"
      ]
     },
     "metadata": {},
     "output_type": "display_data"
    },
    {
     "data": {
      "application/javascript": [
       "\n",
       "        $('span:contains(\"# Temp\")').closest('.cell').remove();\n",
       "        var code = IPython.notebook.insert_cell_below('code');\n",
       "        code.set_text(atob(\"IyBUZW1wCmluc2VydCgnJycnJycpOw==\"));\n",
       "    "
      ],
      "text/plain": [
       "<IPython.core.display.Javascript object>"
      ]
     },
     "metadata": {},
     "output_type": "display_data"
    },
    {
     "data": {
      "application/javascript": [
       "$('span:contains(\"# Temp\")').closest('.cell').remove();"
      ],
      "text/plain": [
       "<IPython.core.display.Javascript object>"
      ]
     },
     "metadata": {},
     "output_type": "display_data"
    },
    {
     "data": {
      "application/javascript": [
       "\n",
       "        $('span:contains(\"# Temp\")').closest('.cell').remove();\n",
       "        var code = IPython.notebook.insert_cell_below('code');\n",
       "        code.set_text(atob(\"IyBUZW1wCmluc2VydCgnJycnJycpOw==\"));\n",
       "    "
      ],
      "text/plain": [
       "<IPython.core.display.Javascript object>"
      ]
     },
     "metadata": {},
     "output_type": "display_data"
    },
    {
     "data": {
      "application/javascript": [
       "$('span:contains(\"# Temp\")').closest('.cell').remove();"
      ],
      "text/plain": [
       "<IPython.core.display.Javascript object>"
      ]
     },
     "metadata": {},
     "output_type": "display_data"
    },
    {
     "data": {
      "application/javascript": [
       "\n",
       "        $('span:contains(\"# Temp\")').closest('.cell').remove();\n",
       "        var code = IPython.notebook.insert_cell_below('code');\n",
       "        code.set_text(atob(\"IyBUZW1wCmluc2VydCgnJycnJycpOw==\"));\n",
       "    "
      ],
      "text/plain": [
       "<IPython.core.display.Javascript object>"
      ]
     },
     "metadata": {},
     "output_type": "display_data"
    },
    {
     "data": {
      "application/javascript": [
       "$('span:contains(\"# Temp\")').closest('.cell').remove();"
      ],
      "text/plain": [
       "<IPython.core.display.Javascript object>"
      ]
     },
     "metadata": {},
     "output_type": "display_data"
    },
    {
     "data": {
      "application/javascript": [
       "\n",
       "        $('span:contains(\"# Temp\")').closest('.cell').remove();\n",
       "        var code = IPython.notebook.insert_cell_below('code');\n",
       "        code.set_text(atob(\"IyBUZW1wCmluc2VydCgnJycnJycpOw==\"));\n",
       "    "
      ],
      "text/plain": [
       "<IPython.core.display.Javascript object>"
      ]
     },
     "metadata": {},
     "output_type": "display_data"
    },
    {
     "data": {
      "application/javascript": [
       "$('span:contains(\"# Temp\")').closest('.cell').remove();"
      ],
      "text/plain": [
       "<IPython.core.display.Javascript object>"
      ]
     },
     "metadata": {},
     "output_type": "display_data"
    },
    {
     "data": {
      "application/javascript": [
       "\n",
       "        $('span:contains(\"# Temp\")').closest('.cell').remove();\n",
       "        var code = IPython.notebook.insert_cell_below('code');\n",
       "        code.set_text(atob(\"IyBUZW1wCmluc2VydCgnJycnJycpOw==\"));\n",
       "    "
      ],
      "text/plain": [
       "<IPython.core.display.Javascript object>"
      ]
     },
     "metadata": {},
     "output_type": "display_data"
    },
    {
     "data": {
      "application/javascript": [
       "$('span:contains(\"# Temp\")').closest('.cell').remove();"
      ],
      "text/plain": [
       "<IPython.core.display.Javascript object>"
      ]
     },
     "metadata": {},
     "output_type": "display_data"
    },
    {
     "data": {
      "application/javascript": [
       "\n",
       "        $('span:contains(\"# Temp\")').closest('.cell').remove();\n",
       "        var code = IPython.notebook.insert_cell_below('code');\n",
       "        code.set_text(atob(\"IyBUZW1wCmluc2VydCgnJycnJycpOw==\"));\n",
       "    "
      ],
      "text/plain": [
       "<IPython.core.display.Javascript object>"
      ]
     },
     "metadata": {},
     "output_type": "display_data"
    },
    {
     "data": {
      "application/javascript": [
       "$('span:contains(\"# Temp\")').closest('.cell').remove();"
      ],
      "text/plain": [
       "<IPython.core.display.Javascript object>"
      ]
     },
     "metadata": {},
     "output_type": "display_data"
    },
    {
     "data": {
      "application/javascript": [
       "\n",
       "        $('span:contains(\"# Temp\")').closest('.cell').remove();\n",
       "        var code = IPython.notebook.insert_cell_below('code');\n",
       "        code.set_text(atob(\"IyBUZW1wCmluc2VydCgnJycnJycpOw==\"));\n",
       "    "
      ],
      "text/plain": [
       "<IPython.core.display.Javascript object>"
      ]
     },
     "metadata": {},
     "output_type": "display_data"
    },
    {
     "data": {
      "application/javascript": [
       "$('span:contains(\"# Temp\")').closest('.cell').remove();"
      ],
      "text/plain": [
       "<IPython.core.display.Javascript object>"
      ]
     },
     "metadata": {},
     "output_type": "display_data"
    },
    {
     "data": {
      "application/javascript": [
       "\n",
       "        $('span:contains(\"# Temp\")').closest('.cell').remove();\n",
       "        var code = IPython.notebook.insert_cell_below('code');\n",
       "        code.set_text(atob(\"IyBUZW1wCmluc2VydCgnJycnJycpOw==\"));\n",
       "    "
      ],
      "text/plain": [
       "<IPython.core.display.Javascript object>"
      ]
     },
     "metadata": {},
     "output_type": "display_data"
    },
    {
     "data": {
      "application/javascript": [
       "$('span:contains(\"# Temp\")').closest('.cell').remove();"
      ],
      "text/plain": [
       "<IPython.core.display.Javascript object>"
      ]
     },
     "metadata": {},
     "output_type": "display_data"
    },
    {
     "data": {
      "application/javascript": [
       "\n",
       "        $('span:contains(\"# Temp\")').closest('.cell').remove();\n",
       "        var code = IPython.notebook.insert_cell_below('code');\n",
       "        code.set_text(atob(\"IyBUZW1wCmluc2VydCgnJycnJycpOw==\"));\n",
       "    "
      ],
      "text/plain": [
       "<IPython.core.display.Javascript object>"
      ]
     },
     "metadata": {},
     "output_type": "display_data"
    },
    {
     "data": {
      "application/javascript": [
       "$('span:contains(\"# Temp\")').closest('.cell').remove();"
      ],
      "text/plain": [
       "<IPython.core.display.Javascript object>"
      ]
     },
     "metadata": {},
     "output_type": "display_data"
    },
    {
     "data": {
      "application/javascript": [
       "\n",
       "        $('span:contains(\"# Temp\")').closest('.cell').remove();\n",
       "        var code = IPython.notebook.insert_cell_below('code');\n",
       "        code.set_text(atob(\"IyBUZW1wCmluc2VydCgnJycnJycpOw==\"));\n",
       "    "
      ],
      "text/plain": [
       "<IPython.core.display.Javascript object>"
      ]
     },
     "metadata": {},
     "output_type": "display_data"
    },
    {
     "data": {
      "application/javascript": [
       "$('span:contains(\"# Temp\")').closest('.cell').remove();"
      ],
      "text/plain": [
       "<IPython.core.display.Javascript object>"
      ]
     },
     "metadata": {},
     "output_type": "display_data"
    },
    {
     "data": {
      "application/javascript": [
       "\n",
       "        $('span:contains(\"# Temp\")').closest('.cell').remove();\n",
       "        var code = IPython.notebook.insert_cell_below('code');\n",
       "        code.set_text(atob(\"IyBUZW1wCmluc2VydCgnJycnJycpOw==\"));\n",
       "    "
      ],
      "text/plain": [
       "<IPython.core.display.Javascript object>"
      ]
     },
     "metadata": {},
     "output_type": "display_data"
    },
    {
     "data": {
      "application/javascript": [
       "$('span:contains(\"# Temp\")').closest('.cell').remove();"
      ],
      "text/plain": [
       "<IPython.core.display.Javascript object>"
      ]
     },
     "metadata": {},
     "output_type": "display_data"
    },
    {
     "data": {
      "application/javascript": [
       "\n",
       "        $('span:contains(\"# Temp\")').closest('.cell').remove();\n",
       "        var code = IPython.notebook.insert_cell_below('code');\n",
       "        code.set_text(atob(\"IyBUZW1wCmluc2VydCgnJycnJycpOw==\"));\n",
       "    "
      ],
      "text/plain": [
       "<IPython.core.display.Javascript object>"
      ]
     },
     "metadata": {},
     "output_type": "display_data"
    },
    {
     "data": {
      "application/javascript": [
       "$('span:contains(\"# Temp\")').closest('.cell').remove();"
      ],
      "text/plain": [
       "<IPython.core.display.Javascript object>"
      ]
     },
     "metadata": {},
     "output_type": "display_data"
    },
    {
     "data": {
      "application/javascript": [
       "\n",
       "        $('span:contains(\"# Temp\")').closest('.cell').remove();\n",
       "        var code = IPython.notebook.insert_cell_below('code');\n",
       "        code.set_text(atob(\"IyBUZW1wCmluc2VydCgnJycnJycpOw==\"));\n",
       "    "
      ],
      "text/plain": [
       "<IPython.core.display.Javascript object>"
      ]
     },
     "metadata": {},
     "output_type": "display_data"
    },
    {
     "data": {
      "application/javascript": [
       "$('span:contains(\"# Temp\")').closest('.cell').remove();"
      ],
      "text/plain": [
       "<IPython.core.display.Javascript object>"
      ]
     },
     "metadata": {},
     "output_type": "display_data"
    },
    {
     "data": {
      "application/javascript": [
       "\n",
       "        $('span:contains(\"# Temp\")').closest('.cell').remove();\n",
       "        var code = IPython.notebook.insert_cell_below('code');\n",
       "        code.set_text(atob(\"IyBUZW1wCmluc2VydCgnJycnJycpOw==\"));\n",
       "    "
      ],
      "text/plain": [
       "<IPython.core.display.Javascript object>"
      ]
     },
     "metadata": {},
     "output_type": "display_data"
    },
    {
     "data": {
      "application/javascript": [
       "$('span:contains(\"# Temp\")').closest('.cell').remove();"
      ],
      "text/plain": [
       "<IPython.core.display.Javascript object>"
      ]
     },
     "metadata": {},
     "output_type": "display_data"
    },
    {
     "data": {
      "application/javascript": [
       "\n",
       "        $('span:contains(\"# Temp\")').closest('.cell').remove();\n",
       "        var code = IPython.notebook.insert_cell_below('code');\n",
       "        code.set_text(atob(\"IyBUZW1wCmluc2VydCgnJycnJycpOw==\"));\n",
       "    "
      ],
      "text/plain": [
       "<IPython.core.display.Javascript object>"
      ]
     },
     "metadata": {},
     "output_type": "display_data"
    },
    {
     "data": {
      "application/javascript": [
       "$('span:contains(\"# Temp\")').closest('.cell').remove();"
      ],
      "text/plain": [
       "<IPython.core.display.Javascript object>"
      ]
     },
     "metadata": {},
     "output_type": "display_data"
    },
    {
     "data": {
      "application/javascript": [
       "\n",
       "        $('span:contains(\"# Temp\")').closest('.cell').remove();\n",
       "        var code = IPython.notebook.insert_cell_below('code');\n",
       "        code.set_text(atob(\"IyBUZW1wCmluc2VydCgnJycnJycpOw==\"));\n",
       "    "
      ],
      "text/plain": [
       "<IPython.core.display.Javascript object>"
      ]
     },
     "metadata": {},
     "output_type": "display_data"
    },
    {
     "data": {
      "application/javascript": [
       "$('span:contains(\"# Temp\")').closest('.cell').remove();"
      ],
      "text/plain": [
       "<IPython.core.display.Javascript object>"
      ]
     },
     "metadata": {},
     "output_type": "display_data"
    },
    {
     "data": {
      "application/javascript": [
       "\n",
       "        $('span:contains(\"# Temp\")').closest('.cell').remove();\n",
       "        var code = IPython.notebook.insert_cell_below('code');\n",
       "        code.set_text(atob(\"IyBUZW1wCmluc2VydCgnJycnJycpOw==\"));\n",
       "    "
      ],
      "text/plain": [
       "<IPython.core.display.Javascript object>"
      ]
     },
     "metadata": {},
     "output_type": "display_data"
    },
    {
     "data": {
      "application/javascript": [
       "$('span:contains(\"# Temp\")').closest('.cell').remove();"
      ],
      "text/plain": [
       "<IPython.core.display.Javascript object>"
      ]
     },
     "metadata": {},
     "output_type": "display_data"
    },
    {
     "data": {
      "application/javascript": [
       "\n",
       "        $('span:contains(\"# Temp\")').closest('.cell').remove();\n",
       "        var code = IPython.notebook.insert_cell_below('code');\n",
       "        code.set_text(atob(\"IyBUZW1wCmluc2VydCgnJycnJycpOw==\"));\n",
       "    "
      ],
      "text/plain": [
       "<IPython.core.display.Javascript object>"
      ]
     },
     "metadata": {},
     "output_type": "display_data"
    },
    {
     "data": {
      "application/javascript": [
       "$('span:contains(\"# Temp\")').closest('.cell').remove();"
      ],
      "text/plain": [
       "<IPython.core.display.Javascript object>"
      ]
     },
     "metadata": {},
     "output_type": "display_data"
    },
    {
     "data": {
      "application/javascript": [
       "\n",
       "        $('span:contains(\"# Temp\")').closest('.cell').remove();\n",
       "        var code = IPython.notebook.insert_cell_below('code');\n",
       "        code.set_text(atob(\"IyBUZW1wCmluc2VydCgnJycnJycpOw==\"));\n",
       "    "
      ],
      "text/plain": [
       "<IPython.core.display.Javascript object>"
      ]
     },
     "metadata": {},
     "output_type": "display_data"
    },
    {
     "data": {
      "application/javascript": [
       "$('span:contains(\"# Temp\")').closest('.cell').remove();"
      ],
      "text/plain": [
       "<IPython.core.display.Javascript object>"
      ]
     },
     "metadata": {},
     "output_type": "display_data"
    },
    {
     "data": {
      "application/javascript": [
       "\n",
       "        $('span:contains(\"# Temp\")').closest('.cell').remove();\n",
       "        var code = IPython.notebook.insert_cell_below('code');\n",
       "        code.set_text(atob(\"IyBUZW1wCmluc2VydCgnJycnJycpOw==\"));\n",
       "    "
      ],
      "text/plain": [
       "<IPython.core.display.Javascript object>"
      ]
     },
     "metadata": {},
     "output_type": "display_data"
    },
    {
     "data": {
      "application/javascript": [
       "$('span:contains(\"# Temp\")').closest('.cell').remove();"
      ],
      "text/plain": [
       "<IPython.core.display.Javascript object>"
      ]
     },
     "metadata": {},
     "output_type": "display_data"
    },
    {
     "data": {
      "application/javascript": [
       "\n",
       "        $('span:contains(\"# Temp\")').closest('.cell').remove();\n",
       "        var code = IPython.notebook.insert_cell_below('code');\n",
       "        code.set_text(atob(\"IyBUZW1wCmluc2VydCgnJycnJycpOw==\"));\n",
       "    "
      ],
      "text/plain": [
       "<IPython.core.display.Javascript object>"
      ]
     },
     "metadata": {},
     "output_type": "display_data"
    },
    {
     "data": {
      "application/javascript": [
       "$('span:contains(\"# Temp\")').closest('.cell').remove();"
      ],
      "text/plain": [
       "<IPython.core.display.Javascript object>"
      ]
     },
     "metadata": {},
     "output_type": "display_data"
    },
    {
     "data": {
      "application/javascript": [
       "\n",
       "        $('span:contains(\"# Temp\")').closest('.cell').remove();\n",
       "        var code = IPython.notebook.insert_cell_below('code');\n",
       "        code.set_text(atob(\"IyBUZW1wCmluc2VydCgnJycnJycpOw==\"));\n",
       "    "
      ],
      "text/plain": [
       "<IPython.core.display.Javascript object>"
      ]
     },
     "metadata": {},
     "output_type": "display_data"
    },
    {
     "data": {
      "application/javascript": [
       "$('span:contains(\"# Temp\")').closest('.cell').remove();"
      ],
      "text/plain": [
       "<IPython.core.display.Javascript object>"
      ]
     },
     "metadata": {},
     "output_type": "display_data"
    },
    {
     "data": {
      "application/javascript": [
       "\n",
       "        $('span:contains(\"# Temp\")').closest('.cell').remove();\n",
       "        var code = IPython.notebook.insert_cell_below('code');\n",
       "        code.set_text(atob(\"IyBUZW1wCmluc2VydCgnJycnJycpOw==\"));\n",
       "    "
      ],
      "text/plain": [
       "<IPython.core.display.Javascript object>"
      ]
     },
     "metadata": {},
     "output_type": "display_data"
    },
    {
     "data": {
      "application/javascript": [
       "$('span:contains(\"# Temp\")').closest('.cell').remove();"
      ],
      "text/plain": [
       "<IPython.core.display.Javascript object>"
      ]
     },
     "metadata": {},
     "output_type": "display_data"
    },
    {
     "data": {
      "application/javascript": [
       "\n",
       "        $('span:contains(\"# Temp\")').closest('.cell').remove();\n",
       "        var code = IPython.notebook.insert_cell_below('code');\n",
       "        code.set_text(atob(\"IyBUZW1wCmluc2VydCgnJycnJycpOw==\"));\n",
       "    "
      ],
      "text/plain": [
       "<IPython.core.display.Javascript object>"
      ]
     },
     "metadata": {},
     "output_type": "display_data"
    },
    {
     "data": {
      "application/javascript": [
       "$('span:contains(\"# Temp\")').closest('.cell').remove();"
      ],
      "text/plain": [
       "<IPython.core.display.Javascript object>"
      ]
     },
     "metadata": {},
     "output_type": "display_data"
    },
    {
     "data": {
      "application/javascript": [
       "\n",
       "        $('span:contains(\"# Temp\")').closest('.cell').remove();\n",
       "        var code = IPython.notebook.insert_cell_below('code');\n",
       "        code.set_text(atob(\"IyBUZW1wCmluc2VydCgnJycnJycpOw==\"));\n",
       "    "
      ],
      "text/plain": [
       "<IPython.core.display.Javascript object>"
      ]
     },
     "metadata": {},
     "output_type": "display_data"
    },
    {
     "data": {
      "application/javascript": [
       "$('span:contains(\"# Temp\")').closest('.cell').remove();"
      ],
      "text/plain": [
       "<IPython.core.display.Javascript object>"
      ]
     },
     "metadata": {},
     "output_type": "display_data"
    },
    {
     "data": {
      "application/javascript": [
       "\n",
       "        $('span:contains(\"# Temp\")').closest('.cell').remove();\n",
       "        var code = IPython.notebook.insert_cell_below('code');\n",
       "        code.set_text(atob(\"IyBUZW1wCmluc2VydCgnJycnJycpOw==\"));\n",
       "    "
      ],
      "text/plain": [
       "<IPython.core.display.Javascript object>"
      ]
     },
     "metadata": {},
     "output_type": "display_data"
    },
    {
     "data": {
      "application/javascript": [
       "$('span:contains(\"# Temp\")').closest('.cell').remove();"
      ],
      "text/plain": [
       "<IPython.core.display.Javascript object>"
      ]
     },
     "metadata": {},
     "output_type": "display_data"
    },
    {
     "data": {
      "application/javascript": [
       "\n",
       "        $('span:contains(\"# Temp\")').closest('.cell').remove();\n",
       "        var code = IPython.notebook.insert_cell_below('code');\n",
       "        code.set_text(atob(\"IyBUZW1wCmluc2VydCgnJycnJycpOw==\"));\n",
       "    "
      ],
      "text/plain": [
       "<IPython.core.display.Javascript object>"
      ]
     },
     "metadata": {},
     "output_type": "display_data"
    },
    {
     "data": {
      "application/javascript": [
       "$('span:contains(\"# Temp\")').closest('.cell').remove();"
      ],
      "text/plain": [
       "<IPython.core.display.Javascript object>"
      ]
     },
     "metadata": {},
     "output_type": "display_data"
    },
    {
     "data": {
      "application/javascript": [
       "\n",
       "        $('span:contains(\"# Temp\")').closest('.cell').remove();\n",
       "        var code = IPython.notebook.insert_cell_below('code');\n",
       "        code.set_text(atob(\"IyBUZW1wCmluc2VydCgnJycnJycpOw==\"));\n",
       "    "
      ],
      "text/plain": [
       "<IPython.core.display.Javascript object>"
      ]
     },
     "metadata": {},
     "output_type": "display_data"
    },
    {
     "data": {
      "application/javascript": [
       "$('span:contains(\"# Temp\")').closest('.cell').remove();"
      ],
      "text/plain": [
       "<IPython.core.display.Javascript object>"
      ]
     },
     "metadata": {},
     "output_type": "display_data"
    },
    {
     "data": {
      "application/javascript": [
       "\n",
       "        $('span:contains(\"# Temp\")').closest('.cell').remove();\n",
       "        var code = IPython.notebook.insert_cell_below('code');\n",
       "        code.set_text(atob(\"IyBUZW1wCmluc2VydCgnJycnJycpOw==\"));\n",
       "    "
      ],
      "text/plain": [
       "<IPython.core.display.Javascript object>"
      ]
     },
     "metadata": {},
     "output_type": "display_data"
    },
    {
     "data": {
      "application/javascript": [
       "$('span:contains(\"# Temp\")').closest('.cell').remove();"
      ],
      "text/plain": [
       "<IPython.core.display.Javascript object>"
      ]
     },
     "metadata": {},
     "output_type": "display_data"
    },
    {
     "data": {
      "application/javascript": [
       "\n",
       "        $('span:contains(\"# Temp\")').closest('.cell').remove();\n",
       "        var code = IPython.notebook.insert_cell_below('code');\n",
       "        code.set_text(atob(\"IyBUZW1wCmluc2VydCgnJycnJycpOw==\"));\n",
       "    "
      ],
      "text/plain": [
       "<IPython.core.display.Javascript object>"
      ]
     },
     "metadata": {},
     "output_type": "display_data"
    },
    {
     "data": {
      "application/javascript": [
       "$('span:contains(\"# Temp\")').closest('.cell').remove();"
      ],
      "text/plain": [
       "<IPython.core.display.Javascript object>"
      ]
     },
     "metadata": {},
     "output_type": "display_data"
    },
    {
     "data": {
      "application/javascript": [
       "\n",
       "        $('span:contains(\"# Temp\")').closest('.cell').remove();\n",
       "        var code = IPython.notebook.insert_cell_below('code');\n",
       "        code.set_text(atob(\"IyBUZW1wCmluc2VydCgnJycnJycpOw==\"));\n",
       "    "
      ],
      "text/plain": [
       "<IPython.core.display.Javascript object>"
      ]
     },
     "metadata": {},
     "output_type": "display_data"
    },
    {
     "data": {
      "application/javascript": [
       "$('span:contains(\"# Temp\")').closest('.cell').remove();"
      ],
      "text/plain": [
       "<IPython.core.display.Javascript object>"
      ]
     },
     "metadata": {},
     "output_type": "display_data"
    },
    {
     "data": {
      "application/javascript": [
       "\n",
       "        $('span:contains(\"# Temp\")').closest('.cell').remove();\n",
       "        var code = IPython.notebook.insert_cell_below('code');\n",
       "        code.set_text(atob(\"IyBUZW1wCmluc2VydCgnJycnJycpOw==\"));\n",
       "    "
      ],
      "text/plain": [
       "<IPython.core.display.Javascript object>"
      ]
     },
     "metadata": {},
     "output_type": "display_data"
    }
   ],
   "source": [
    "from custom_snowballing import UnrelatedInsert\n",
    "UnrelatedInsert(\"acm\", articles=article_list)"
   ]
  },
  {
   "cell_type": "code",
   "execution_count": null,
   "metadata": {
    "collapsed": true
   },
   "outputs": [],
   "source": [
    "# Temp\n",
    "insert('''''');"
   ]
  },
  {
   "cell_type": "code",
   "execution_count": null,
   "metadata": {
    "collapsed": true,
    "scrolled": false
   },
   "outputs": [],
   "source": [
    "ArticleNavigator??"
   ]
  },
  {
   "cell_type": "code",
   "execution_count": null,
   "metadata": {
    "collapsed": true
   },
   "outputs": [],
   "source": [
    "ArticleNavigator(articles=article_list)"
   ]
  }
 ],
 "metadata": {
  "kernelspec": {
   "display_name": "Python 3",
   "language": "python",
   "name": "python3"
  },
  "language_info": {
   "codemirror_mode": {
    "name": "ipython",
    "version": 3
   },
   "file_extension": ".py",
   "mimetype": "text/x-python",
   "name": "python",
   "nbconvert_exporter": "python",
   "pygments_lexer": "ipython3",
   "version": "3.6.0"
  },
  "toc": {
   "nav_menu": {
    "height": "12px",
    "width": "252px"
   },
   "number_sections": true,
   "sideBar": true,
   "skip_h1_title": false,
   "toc_cell": false,
   "toc_position": {},
   "toc_section_display": "block",
   "toc_window_display": false
  }
 },
 "nbformat": 4,
 "nbformat_minor": 2
}
