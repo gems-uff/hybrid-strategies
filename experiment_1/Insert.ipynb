{
 "cells": [
  {
   "cell_type": "code",
   "execution_count": 82,
   "metadata": {
    "collapsed": true
   },
   "outputs": [],
   "source": [
    "import database\n",
    "from snowballing.operations import load_work, reload, work_by_varname\n",
    "from snowballing.snowballing import Converter\n",
    "from snowballing.snowballing import ArticleNavigator\n",
    "from snowballing.dbmanager import insert, set_attribute"
   ]
  },
  {
   "cell_type": "code",
   "execution_count": 83,
   "metadata": {
    "scrolled": false
   },
   "outputs": [
    {
     "data": {
      "application/vnd.jupyter.widget-view+json": {
       "model_id": "64b7fc4f9e6049cd8aa53a64e369a004",
       "version_major": 2,
       "version_minor": 0
      },
      "text/html": [
       "<p>Failed to display Jupyter Widget of type <code>VBox</code>.</p>\n",
       "<p>\n",
       "  If you're reading this message in Jupyter Notebook or JupyterLab, it may mean\n",
       "  that the widgets JavaScript is still loading. If this message persists, it\n",
       "  likely means that the widgets JavaScript library is either not installed or\n",
       "  not enabled. See the <a href=\"https://ipywidgets.readthedocs.io/en/stable/user_install.html\">Jupyter\n",
       "  Widgets Documentation</a> for setup instructions.\n",
       "</p>\n",
       "<p>\n",
       "  If you're reading this message in another notebook frontend (for example, a static\n",
       "  rendering on GitHub or <a href=\"https://nbviewer.jupyter.org/\">NBViewer</a>),\n",
       "  it may mean that your frontend doesn't currently support widgets.\n",
       "</p>\n"
      ],
      "text/plain": [
       "VBox(children=(HBox(children=(Dropdown(options={'BibTeX': 'bibtex', 'Text': 'text', '[N] author name place other year': 'citation', 'Quoted': 'quoted'}, value='bibtex'), Button(description='Set article_list variable', style=ButtonStyle()), Label(value=''))), HBox(children=(Textarea(value='', layout=Layout(height='500px', width='50%')), Textarea(value='', layout=Layout(height='500px', width='50%'))))))"
      ]
     },
     "metadata": {},
     "output_type": "display_data"
    }
   ],
   "source": [
    "Converter(\"bibtex\")"
   ]
  },
  {
   "cell_type": "code",
   "execution_count": 84,
   "metadata": {},
   "outputs": [
    {
     "data": {
      "text/plain": [
       "29"
      ]
     },
     "execution_count": 84,
     "metadata": {},
     "output_type": "execute_result"
    }
   ],
   "source": [
    "len(article_list)"
   ]
  },
  {
   "cell_type": "code",
   "execution_count": 85,
   "metadata": {
    "collapsed": true
   },
   "outputs": [],
   "source": [
    "from snowballing.operations import reload\n",
    "reload()\n"
   ]
  },
  {
   "cell_type": "code",
   "execution_count": null,
   "metadata": {
    "collapsed": true
   },
   "outputs": [],
   "source": []
  },
  {
   "cell_type": "code",
   "execution_count": 86,
   "metadata": {},
   "outputs": [
    {
     "data": {
      "application/vnd.jupyter.widget-view+json": {
       "model_id": "b6a54507eb0c4abdbef53714054cb9be",
       "version_major": 2,
       "version_minor": 0
      },
      "text/html": [
       "<p>Failed to display Jupyter Widget of type <code>VBox</code>.</p>\n",
       "<p>\n",
       "  If you're reading this message in Jupyter Notebook or JupyterLab, it may mean\n",
       "  that the widgets JavaScript is still loading. If this message persists, it\n",
       "  likely means that the widgets JavaScript library is either not installed or\n",
       "  not enabled. See the <a href=\"https://ipywidgets.readthedocs.io/en/stable/user_install.html\">Jupyter\n",
       "  Widgets Documentation</a> for setup instructions.\n",
       "</p>\n",
       "<p>\n",
       "  If you're reading this message in another notebook frontend (for example, a static\n",
       "  rendering on GitHub or <a href=\"https://nbviewer.jupyter.org/\">NBViewer</a>),\n",
       "  it may mean that your frontend doesn't currently support widgets.\n",
       "</p>\n"
      ],
      "text/plain": [
       "VBox(children=(HBox(children=(Button(description='Previous Article', disabled=True, icon='caret-left', style=ButtonStyle()), Button(description='Reload Article', icon='refresh', style=ButtonStyle()), Button(description='Next Article', icon='caret-right', style=ButtonStyle()))), HBox(children=(Dropdown(description='Type', index=5, options=('Work', 'WorkSnowball', 'WorkForward', 'WorkBackward', 'WorkOk', 'WorkUnrelated', 'WorkNoFile', 'WorkLang', 'Site', 'Email'), value='WorkUnrelated'), ToggleButton(value=False, description='File'))), HBox(children=(Text(value='', description='Due'), Text(value='', description='Place'))), HBox(children=(Text(value='', description='Year'), Text(value='', description='Prefix Var'))), HBox(children=(Text(value='', description='PDFPage'), Text(value='', description='Related'))), HBox(children=(Text(value='', description='Display'), Text(value='', description='Summary'))), HBox(children=(Text(value='', description='Star'), Text(value='', description='Link'))), HBox(children=(Text(value='1', description='sciencedirect'),)), HBox(children=(Button(description='Reload Article', icon='refresh', style=ButtonStyle()), IntSlider(value=0, max=28), Label(value='1/29'))), Output()))"
      ]
     },
     "metadata": {},
     "output_type": "display_data"
    },
    {
     "data": {
      "application/javascript": [
       "$('span:contains(\"# Temp\")').closest('.cell').remove();"
      ],
      "text/plain": [
       "<IPython.core.display.Javascript object>"
      ]
     },
     "metadata": {},
     "output_type": "display_data"
    },
    {
     "data": {
      "application/javascript": [
       "\n",
       "        $('span:contains(\"# Temp\")').closest('.cell').remove();\n",
       "        var code = IPython.notebook.insert_cell_below('code');\n",
       "        code.set_text(atob(\"IyBUZW1wCmluc2VydCgnJycKYmr4cm5zb24yMDA5YSA9IERCKFdvcmtVbnJlbGF0ZWQoCiAgICAyMDA5LCAiSW1wcm92aW5nIHRoZSBlZmZlY3RpdmVuZXNzIG9mIHJvb3QgY2F1c2UgYW5hbHlzaXMgaW4gcG9zdCBtb3J0ZW0gYW5hbHlzaXM6IEEgY29udHJvbGxlZCBleHBlcmltZW50IiwKICAgIGRpc3BsYXk9ImJq+HJuc29uIiwKICAgIGF1dGhvcnM9IkZpbm4gT2xhdiBCavhybnNvbiBhbmQgQWxmIEluZ2UgV2FuZyBhbmQgRXJpayBBcmlzaG9sbSIsCiAgICBwbGFjZT1JU1QsCiAgICBwcD0iMTUwIC0gMTYxIiwKICAgIGVudHJ5dHlwZT0iYXJ0aWNsZSIsCiAgICB2b2x1bWU9IjUxIiwKICAgIG51bWJlcj0iMSIsCiAgICBub3RlPSJTcGVjaWFsIFNlY3Rpb24gLSBNb3N0IENpdGVkIEFydGljbGVzIGluIDIwMDIgYW5kIFJlZ3VsYXIgUmVzZWFyY2ggUGFwZXJzIiwKICAgIGlzc249IjA5NTAtNTg0OSIsCiAgICBkb2k9Imh0dHBzOi8vZG9pLm9yZy8xMC4xMDE2L2ouaW5mc29mLjIwMDguMDIuMDAzIiwKICAgIGxpbms9Imh0dHBzOi8vd3d3LnNjaWVuY2VkaXJlY3QuY29tL3NjaWVuY2UvYXJ0aWNsZS9waWkvUzA5NTA1ODQ5MDgwMDAzMFgiLAogICAga2V5d29yZD0iUG9zdCBtb3J0ZW0gYW5hbHlzaXMiLAogICAgSUQ9IkJq+HJuc29uMjAwOTE1MCIsCiAgICBzY2llbmNlZGlyZWN0PSIxIiwKICAgIHBsYWNleD0iSW5mb3JtYXRpb24gYW5kIFNvZnR3YXJlIFRlY2hub2xvZ3kiLAopKQonJycpOw==\"));\n",
       "    "
      ],
      "text/plain": [
       "<IPython.core.display.Javascript object>"
      ]
     },
     "metadata": {},
     "output_type": "display_data"
    },
    {
     "data": {
      "application/javascript": [
       "$('span:contains(\"# Temp\")').closest('.cell').remove();"
      ],
      "text/plain": [
       "<IPython.core.display.Javascript object>"
      ]
     },
     "metadata": {},
     "output_type": "display_data"
    },
    {
     "data": {
      "application/javascript": [
       "\n",
       "        $('span:contains(\"# Temp\")').closest('.cell').remove();\n",
       "        var code = IPython.notebook.insert_cell_below('code');\n",
       "        code.set_text(atob(\"IyBUZW1wCmluc2VydCgnJycKZGFyd2lzaDIwMDhhID0gREIoV29ya1VucmVsYXRlZCgKICAgIDIwMDgsICJcVFRQTVwgliBBbiBlZmZpY2llbnQgZGVhZGxvY2stZnJlZSBhbGdvcml0aG0gZm9yIG11bHRpY2FzdCBjb21tdW5pY2F0aW9uIGluIDJEIHRvcnVzIG5ldHdvcmtzIiwKICAgIGRpc3BsYXk9ImRhcndpc2giLAogICAgYXV0aG9ycz0iTS5HLiBEYXJ3aXNoIGFuZCBBLkEuIFJhZHdhbiBhbmQgTS5BLiBBYmQgRWwtQmFreSBhbmQgSy4gSGFtZWQiLAogICAgcGxhY2U9RkFLRSwKICAgIHBwPSI5MTkgLSA5MjgiLAogICAgZW50cnl0eXBlPSJhcnRpY2xlIiwKICAgIHZvbHVtZT0iNTQiLAogICAgbnVtYmVyPSIxMCIsCiAgICBub3RlPSIiLAogICAgaXNzbj0iMTM4My03NjIxIiwKICAgIGRvaT0iaHR0cHM6Ly9kb2kub3JnLzEwLjEwMTYvai5zeXNhcmMuMjAwOC4wMy4wMDQiLAogICAgbGluaz0iaHR0cHM6Ly93d3cuc2NpZW5jZWRpcmVjdC5jb20vc2NpZW5jZS9hcnRpY2xlL3BpaS9TMTM4Mzc2MjEwODAwMDQ2NSIsCiAgICBrZXl3b3JkPSJEZWFkbG9jay1mcmVlIHJvdXRpbmciLAogICAgSUQ9IkRhcndpc2gyMDA4OTE5IiwKICAgIHNjaWVuY2VkaXJlY3Q9IjEiLAogICAgcGxhY2V4PSJKb3VybmFsIG9mIFN5c3RlbXMgQXJjaGl0ZWN0dXJlIiwKKSkKJycnKTs=\"));\n",
       "    "
      ],
      "text/plain": [
       "<IPython.core.display.Javascript object>"
      ]
     },
     "metadata": {},
     "output_type": "display_data"
    },
    {
     "data": {
      "application/javascript": [
       "$('span:contains(\"# Temp\")').closest('.cell').remove();"
      ],
      "text/plain": [
       "<IPython.core.display.Javascript object>"
      ]
     },
     "metadata": {},
     "output_type": "display_data"
    },
    {
     "data": {
      "application/javascript": [
       "\n",
       "        $('span:contains(\"# Temp\")').closest('.cell').remove();\n",
       "        var code = IPython.notebook.insert_cell_below('code');\n",
       "        code.set_text(atob(\"IyBUZW1wCmluc2VydCgnJycKZGFyd2lzaDIwMDhhID0gREIoV29ya1VucmVsYXRlZCgKICAgIDIwMDgsICJcVFRQTVwgliBBbiBlZmZpY2llbnQgZGVhZGxvY2stZnJlZSBhbGdvcml0aG0gZm9yIG11bHRpY2FzdCBjb21tdW5pY2F0aW9uIGluIDJEIHRvcnVzIG5ldHdvcmtzIiwKICAgIGRpc3BsYXk9ImRhcndpc2giLAogICAgYXV0aG9ycz0iTS5HLiBEYXJ3aXNoIGFuZCBBLkEuIFJhZHdhbiBhbmQgTS5BLiBBYmQgRWwtQmFreSBhbmQgSy4gSGFtZWQiLAogICAgcGxhY2U9RkFLRSwKICAgIHBwPSI5MTkgLSA5MjgiLAogICAgZW50cnl0eXBlPSJhcnRpY2xlIiwKICAgIHZvbHVtZT0iNTQiLAogICAgbnVtYmVyPSIxMCIsCiAgICBub3RlPSIiLAogICAgaXNzbj0iMTM4My03NjIxIiwKICAgIGRvaT0iaHR0cHM6Ly9kb2kub3JnLzEwLjEwMTYvai5zeXNhcmMuMjAwOC4wMy4wMDQiLAogICAgbGluaz0iaHR0cHM6Ly93d3cuc2NpZW5jZWRpcmVjdC5jb20vc2NpZW5jZS9hcnRpY2xlL3BpaS9TMTM4Mzc2MjEwODAwMDQ2NSIsCiAgICBrZXl3b3JkPSJEZWFkbG9jay1mcmVlIHJvdXRpbmciLAogICAgSUQ9IkRhcndpc2gyMDA4OTE5IiwKICAgIHNjaWVuY2VkaXJlY3Q9IjEiLAogICAgcGxhY2V4PSJKb3VybmFsIG9mIFN5c3RlbXMgQXJjaGl0ZWN0dXJlIiwKKSkKJycnKTs=\"));\n",
       "    "
      ],
      "text/plain": [
       "<IPython.core.display.Javascript object>"
      ]
     },
     "metadata": {},
     "output_type": "display_data"
    },
    {
     "data": {
      "application/javascript": [
       "$('span:contains(\"# Temp\")').closest('.cell').remove();"
      ],
      "text/plain": [
       "<IPython.core.display.Javascript object>"
      ]
     },
     "metadata": {},
     "output_type": "display_data"
    },
    {
     "data": {
      "application/javascript": [
       "\n",
       "        $('span:contains(\"# Temp\")').closest('.cell').remove();\n",
       "        var code = IPython.notebook.insert_cell_below('code');\n",
       "        code.set_text(atob(\"IyBUZW1wCmluc2VydCgnJycKaGF0aGVyMTk5NmEgPSBEQihXb3JrVW5yZWxhdGVkKAogICAgMTk5NiwgIkEgbWV0aG9kIGZvciBhcHBsaWNhdGlvbiBtYW5hZ2VtZW50IG1hdHVyaXR5IGFzc2Vzc21lbnQiLAogICAgZGlzcGxheT0iaGF0aGVyIiwKICAgIGF1dGhvcnM9IlIuTS4gSGF0aGVyIGFuZCBFLkwuIEJ1cmQgYW5kIEMuIEJvbGR5cmVmZiIsCiAgICBwbGFjZT1JU1QsCiAgICBwcD0iNzAxIC0gNzA5IiwKICAgIGVudHJ5dHlwZT0iYXJ0aWNsZSIsCiAgICB2b2x1bWU9IjM4IiwKICAgIG51bWJlcj0iMTEiLAogICAgbm90ZT0iU29mdHdhcmUgTWFpbnRlbmFuY2UgU2VsZWN0ZWQgcGFwZXJzIGZyb20gdGhlIENlbnRyZSBmb3IgU29mdHdhcmUgUmVsaWFiaWxpdHkgQW5udWFsIENvbmZlcmVuY2UiLAogICAgaXNzbj0iMDk1MC01ODQ5IiwKICAgIGRvaT0iaHR0cHM6Ly9kb2kub3JnLzEwLjEwMTYvMDk1MC01ODQ5KDk2KTAxMTE4LTQiLAogICAgbGluaz0iaHR0cHM6Ly93d3cuc2NpZW5jZWRpcmVjdC5jb20vc2NpZW5jZS9hcnRpY2xlL3BpaS8wOTUwNTg0OTk2MDExMTg0IiwKICAgIGtleXdvcmQ9IkFzc2Vzc21lbnQiLAogICAgSUQ9IkhhdGhlcjE5OTY3MDEiLAogICAgc2NpZW5jZWRpcmVjdD0iMSIsCiAgICBwbGFjZXg9IkluZm9ybWF0aW9uIGFuZCBTb2Z0d2FyZSBUZWNobm9sb2d5IiwKKSkKJycnKTs=\"));\n",
       "    "
      ],
      "text/plain": [
       "<IPython.core.display.Javascript object>"
      ]
     },
     "metadata": {},
     "output_type": "display_data"
    },
    {
     "data": {
      "application/javascript": [
       "$('span:contains(\"# Temp\")').closest('.cell').remove();"
      ],
      "text/plain": [
       "<IPython.core.display.Javascript object>"
      ]
     },
     "metadata": {},
     "output_type": "display_data"
    },
    {
     "data": {
      "application/javascript": [
       "\n",
       "        $('span:contains(\"# Temp\")').closest('.cell').remove();\n",
       "        var code = IPython.notebook.insert_cell_below('code');\n",
       "        code.set_text(atob(\"IyBUZW1wCmluc2VydCgnJycKaGF0aGVyMTk5NmEgPSBEQihXb3JrVW5yZWxhdGVkKAogICAgMTk5NiwgIkEgbWV0aG9kIGZvciBhcHBsaWNhdGlvbiBtYW5hZ2VtZW50IG1hdHVyaXR5IGFzc2Vzc21lbnQiLAogICAgZGlzcGxheT0iaGF0aGVyIiwKICAgIGF1dGhvcnM9IlIuTS4gSGF0aGVyIGFuZCBFLkwuIEJ1cmQgYW5kIEMuIEJvbGR5cmVmZiIsCiAgICBwbGFjZT1JU1QsCiAgICBwcD0iNzAxIC0gNzA5IiwKICAgIGVudHJ5dHlwZT0iYXJ0aWNsZSIsCiAgICB2b2x1bWU9IjM4IiwKICAgIG51bWJlcj0iMTEiLAogICAgbm90ZT0iU29mdHdhcmUgTWFpbnRlbmFuY2UgU2VsZWN0ZWQgcGFwZXJzIGZyb20gdGhlIENlbnRyZSBmb3IgU29mdHdhcmUgUmVsaWFiaWxpdHkgQW5udWFsIENvbmZlcmVuY2UiLAogICAgaXNzbj0iMDk1MC01ODQ5IiwKICAgIGRvaT0iaHR0cHM6Ly9kb2kub3JnLzEwLjEwMTYvMDk1MC01ODQ5KDk2KTAxMTE4LTQiLAogICAgbGluaz0iaHR0cHM6Ly93d3cuc2NpZW5jZWRpcmVjdC5jb20vc2NpZW5jZS9hcnRpY2xlL3BpaS8wOTUwNTg0OTk2MDExMTg0IiwKICAgIGtleXdvcmQ9IkFzc2Vzc21lbnQiLAogICAgSUQ9IkhhdGhlcjE5OTY3MDEiLAogICAgc2NpZW5jZWRpcmVjdD0iMSIsCiAgICBwbGFjZXg9IkluZm9ybWF0aW9uIGFuZCBTb2Z0d2FyZSBUZWNobm9sb2d5IiwKKSkKJycnKTs=\"));\n",
       "    "
      ],
      "text/plain": [
       "<IPython.core.display.Javascript object>"
      ]
     },
     "metadata": {},
     "output_type": "display_data"
    },
    {
     "data": {
      "application/javascript": [
       "$('span:contains(\"# Temp\")').closest('.cell').remove();"
      ],
      "text/plain": [
       "<IPython.core.display.Javascript object>"
      ]
     },
     "metadata": {},
     "output_type": "display_data"
    },
    {
     "data": {
      "application/javascript": [
       "\n",
       "        $('span:contains(\"# Temp\")').closest('.cell').remove();\n",
       "        var code = IPython.notebook.insert_cell_below('code');\n",
       "        code.set_text(atob(\"IyBUZW1wCmluc2VydCgnJycKZmVybuFuZGV6LW1lZGluYTIwMDZhID0gREIoV29ya1VucmVsYXRlZCgKICAgIDIwMDYsICJBY2Nlc3MgY29udHJvbCBhbmQgYXVkaXQgbW9kZWwgZm9yIHRoZSBtdWx0aWRpbWVuc2lvbmFsIG1vZGVsaW5nIG9mIGRhdGEgd2FyZWhvdXNlcyIsCiAgICBkaXNwbGF5PSJmZXJu4W5kZXotbWVkaW5hIiwKICAgIGF1dGhvcnM9IkVkdWFyZG8gRmVybuFuZGV6LU1lZGluYSBhbmQgSnVhbiBUcnVqaWxsbyBhbmQgUm9kb2xmbyBWaWxsYXJyb2VsIGFuZCBNYXJpbyBQaWF0dGluaSIsCiAgICBwbGFjZT1GQUtFLAogICAgcHA9IjEyNzAgLSAxMjg5IiwKICAgIGVudHJ5dHlwZT0iYXJ0aWNsZSIsCiAgICB2b2x1bWU9IjQyIiwKICAgIG51bWJlcj0iMyIsCiAgICBub3RlPSIiLAogICAgaXNzbj0iMDE2Ny05MjM2IiwKICAgIGRvaT0iaHR0cHM6Ly9kb2kub3JnLzEwLjEwMTYvai5kc3MuMjAwNS4xMC4wMDgiLAogICAgbGluaz0iaHR0cHM6Ly93d3cuc2NpZW5jZWRpcmVjdC5jb20vc2NpZW5jZS9hcnRpY2xlL3BpaS9TMDE2NzkyMzYwNTAwMTU3MCIsCiAgICBrZXl3b3JkPSJVTUwiLAogICAgSUQ9IkZlcm7hbmRlek1lZGluYTIwMDYxMjcwIiwKICAgIHNjaWVuY2VkaXJlY3Q9IjEiLAogICAgcGxhY2V4PSJEZWNpc2lvbiBTdXBwb3J0IFN5c3RlbXMiLAopKQonJycpOw==\"));\n",
       "    "
      ],
      "text/plain": [
       "<IPython.core.display.Javascript object>"
      ]
     },
     "metadata": {},
     "output_type": "display_data"
    },
    {
     "data": {
      "application/javascript": [
       "$('span:contains(\"# Temp\")').closest('.cell').remove();"
      ],
      "text/plain": [
       "<IPython.core.display.Javascript object>"
      ]
     },
     "metadata": {},
     "output_type": "display_data"
    },
    {
     "data": {
      "application/javascript": [
       "\n",
       "        $('span:contains(\"# Temp\")').closest('.cell').remove();\n",
       "        var code = IPython.notebook.insert_cell_below('code');\n",
       "        code.set_text(atob(\"IyBUZW1wCmluc2VydCgnJycKZmVybuFuZGV6LW1lZGluYTIwMDZhID0gREIoV29ya1VucmVsYXRlZCgKICAgIDIwMDYsICJBY2Nlc3MgY29udHJvbCBhbmQgYXVkaXQgbW9kZWwgZm9yIHRoZSBtdWx0aWRpbWVuc2lvbmFsIG1vZGVsaW5nIG9mIGRhdGEgd2FyZWhvdXNlcyIsCiAgICBkaXNwbGF5PSJmZXJu4W5kZXotbWVkaW5hIiwKICAgIGF1dGhvcnM9IkVkdWFyZG8gRmVybuFuZGV6LU1lZGluYSBhbmQgSnVhbiBUcnVqaWxsbyBhbmQgUm9kb2xmbyBWaWxsYXJyb2VsIGFuZCBNYXJpbyBQaWF0dGluaSIsCiAgICBwbGFjZT1GQUtFLAogICAgcHA9IjEyNzAgLSAxMjg5IiwKICAgIGVudHJ5dHlwZT0iYXJ0aWNsZSIsCiAgICB2b2x1bWU9IjQyIiwKICAgIG51bWJlcj0iMyIsCiAgICBub3RlPSIiLAogICAgaXNzbj0iMDE2Ny05MjM2IiwKICAgIGRvaT0iaHR0cHM6Ly9kb2kub3JnLzEwLjEwMTYvai5kc3MuMjAwNS4xMC4wMDgiLAogICAgbGluaz0iaHR0cHM6Ly93d3cuc2NpZW5jZWRpcmVjdC5jb20vc2NpZW5jZS9hcnRpY2xlL3BpaS9TMDE2NzkyMzYwNTAwMTU3MCIsCiAgICBrZXl3b3JkPSJVTUwiLAogICAgSUQ9IkZlcm7hbmRlek1lZGluYTIwMDYxMjcwIiwKICAgIHNjaWVuY2VkaXJlY3Q9IjEiLAogICAgcGxhY2V4PSJEZWNpc2lvbiBTdXBwb3J0IFN5c3RlbXMiLAopKQonJycpOw==\"));\n",
       "    "
      ],
      "text/plain": [
       "<IPython.core.display.Javascript object>"
      ]
     },
     "metadata": {},
     "output_type": "display_data"
    },
    {
     "data": {
      "application/javascript": [
       "$('span:contains(\"# Temp\")').closest('.cell').remove();"
      ],
      "text/plain": [
       "<IPython.core.display.Javascript object>"
      ]
     },
     "metadata": {},
     "output_type": "display_data"
    },
    {
     "data": {
      "application/javascript": [
       "\n",
       "        $('span:contains(\"# Temp\")').closest('.cell').remove();\n",
       "        var code = IPython.notebook.insert_cell_below('code');\n",
       "        code.set_text(atob(\"IyBUZW1wCmluc2VydCgnJycKc2F2b2xhaW5lbjIwMTJhID0gREIoV29ya1VucmVsYXRlZCgKICAgIDIwMTIsICJTb2Z0d2FyZSBkZXZlbG9wbWVudCBwcm9qZWN0IHN1Y2Nlc3MgYW5kIGZhaWx1cmUgZnJvbSB0aGUgc3VwcGxpZXIncyBwZXJzcGVjdGl2ZTogQSBzeXN0ZW1hdGljIGxpdGVyYXR1cmUgcmV2aWV3IiwKICAgIGRpc3BsYXk9InNhdm9sYWluZW4iLAogICAgYXV0aG9ycz0iUGF1bGEgU2F2b2xhaW5lbiBhbmQgSmFybW8gSi4gQWhvbmVuIGFuZCBJdGEgUmljaGFyZHNvbiIsCiAgICBwbGFjZT1GQUtFLAogICAgcHA9IjQ1OCAtIDQ2OSIsCiAgICBlbnRyeXR5cGU9ImFydGljbGUiLAogICAgdm9sdW1lPSIzMCIsCiAgICBudW1iZXI9IjQiLAogICAgbm90ZT0iIiwKICAgIGlzc249IjAyNjMtNzg2MyIsCiAgICBkb2k9Imh0dHBzOi8vZG9pLm9yZy8xMC4xMDE2L2ouaWpwcm9tYW4uMjAxMS4wNy4wMDIiLAogICAgbGluaz0iaHR0cHM6Ly93d3cuc2NpZW5jZWRpcmVjdC5jb20vc2NpZW5jZS9hcnRpY2xlL3BpaS9TMDI2Mzc4NjMxMTAwMDkwMSIsCiAgICBrZXl3b3JkPSJMaXRlcmF0dXJlIHJldmlldyIsCiAgICBJRD0iU2F2b2xhaW5lbjIwMTI0NTgiLAogICAgc2NpZW5jZWRpcmVjdD0iMSIsCiAgICBwbGFjZXg9IkludGVybmF0aW9uYWwgSm91cm5hbCBvZiBQcm9qZWN0IE1hbmFnZW1lbnQiLAopKQonJycpOw==\"));\n",
       "    "
      ],
      "text/plain": [
       "<IPython.core.display.Javascript object>"
      ]
     },
     "metadata": {},
     "output_type": "display_data"
    },
    {
     "data": {
      "application/javascript": [
       "$('span:contains(\"# Temp\")').closest('.cell').remove();"
      ],
      "text/plain": [
       "<IPython.core.display.Javascript object>"
      ]
     },
     "metadata": {},
     "output_type": "display_data"
    },
    {
     "data": {
      "application/javascript": [
       "\n",
       "        $('span:contains(\"# Temp\")').closest('.cell').remove();\n",
       "        var code = IPython.notebook.insert_cell_below('code');\n",
       "        code.set_text(atob(\"IyBUZW1wCmluc2VydCgnJycKc2F2b2xhaW5lbjIwMTJhID0gREIoV29ya1VucmVsYXRlZCgKICAgIDIwMTIsICJTb2Z0d2FyZSBkZXZlbG9wbWVudCBwcm9qZWN0IHN1Y2Nlc3MgYW5kIGZhaWx1cmUgZnJvbSB0aGUgc3VwcGxpZXIncyBwZXJzcGVjdGl2ZTogQSBzeXN0ZW1hdGljIGxpdGVyYXR1cmUgcmV2aWV3IiwKICAgIGRpc3BsYXk9InNhdm9sYWluZW4iLAogICAgYXV0aG9ycz0iUGF1bGEgU2F2b2xhaW5lbiBhbmQgSmFybW8gSi4gQWhvbmVuIGFuZCBJdGEgUmljaGFyZHNvbiIsCiAgICBwbGFjZT1GQUtFLAogICAgcHA9IjQ1OCAtIDQ2OSIsCiAgICBlbnRyeXR5cGU9ImFydGljbGUiLAogICAgdm9sdW1lPSIzMCIsCiAgICBudW1iZXI9IjQiLAogICAgbm90ZT0iIiwKICAgIGlzc249IjAyNjMtNzg2MyIsCiAgICBkb2k9Imh0dHBzOi8vZG9pLm9yZy8xMC4xMDE2L2ouaWpwcm9tYW4uMjAxMS4wNy4wMDIiLAogICAgbGluaz0iaHR0cHM6Ly93d3cuc2NpZW5jZWRpcmVjdC5jb20vc2NpZW5jZS9hcnRpY2xlL3BpaS9TMDI2Mzc4NjMxMTAwMDkwMSIsCiAgICBrZXl3b3JkPSJMaXRlcmF0dXJlIHJldmlldyIsCiAgICBJRD0iU2F2b2xhaW5lbjIwMTI0NTgiLAogICAgc2NpZW5jZWRpcmVjdD0iMSIsCiAgICBwbGFjZXg9IkludGVybmF0aW9uYWwgSm91cm5hbCBvZiBQcm9qZWN0IE1hbmFnZW1lbnQiLAopKQonJycpOw==\"));\n",
       "    "
      ],
      "text/plain": [
       "<IPython.core.display.Javascript object>"
      ]
     },
     "metadata": {},
     "output_type": "display_data"
    },
    {
     "data": {
      "application/javascript": [
       "$('span:contains(\"# Temp\")').closest('.cell').remove();"
      ],
      "text/plain": [
       "<IPython.core.display.Javascript object>"
      ]
     },
     "metadata": {},
     "output_type": "display_data"
    },
    {
     "data": {
      "application/javascript": [
       "\n",
       "        $('span:contains(\"# Temp\")').closest('.cell').remove();\n",
       "        var code = IPython.notebook.insert_cell_below('code');\n",
       "        code.set_text(atob(\"IyBUZW1wCmluc2VydCgnJycnJycpOw==\"));\n",
       "    "
      ],
      "text/plain": [
       "<IPython.core.display.Javascript object>"
      ]
     },
     "metadata": {},
     "output_type": "display_data"
    },
    {
     "data": {
      "application/javascript": [
       "$('span:contains(\"# Temp\")').closest('.cell').remove();"
      ],
      "text/plain": [
       "<IPython.core.display.Javascript object>"
      ]
     },
     "metadata": {},
     "output_type": "display_data"
    },
    {
     "data": {
      "application/javascript": [
       "\n",
       "        $('span:contains(\"# Temp\")').closest('.cell').remove();\n",
       "        var code = IPython.notebook.insert_cell_below('code');\n",
       "        code.set_text(atob(\"IyBUZW1wCmluc2VydCgnJycnJycpOw==\"));\n",
       "    "
      ],
      "text/plain": [
       "<IPython.core.display.Javascript object>"
      ]
     },
     "metadata": {},
     "output_type": "display_data"
    },
    {
     "data": {
      "application/javascript": [
       "$('span:contains(\"# Temp\")').closest('.cell').remove();"
      ],
      "text/plain": [
       "<IPython.core.display.Javascript object>"
      ]
     },
     "metadata": {},
     "output_type": "display_data"
    },
    {
     "data": {
      "application/javascript": [
       "\n",
       "        $('span:contains(\"# Temp\")').closest('.cell').remove();\n",
       "        var code = IPython.notebook.insert_cell_below('code');\n",
       "        code.set_text(atob(\"IyBUZW1wCmluc2VydCgnJycKc3TlbGhhbmUxOTk4YSA9IERCKFdvcmtVbnJlbGF0ZWQoCiAgICAxOTk4LCAiTW9kaWZpY2F0aW9uIG9mIHNhZmV0eSBjcml0aWNhbCBzeXN0ZW1zOiBhbiBhc3Nlc3NtZW50IG9mIHRocmVlIGFwcHJvYWNoZXMiLAogICAgZGlzcGxheT0ic3TlbGhhbmUiLAogICAgYXV0aG9ycz0iVG9yIFN05WxoYW5lIGFuZCBLYXJpIEp1dWwgV2VkZGUiLAogICAgcGxhY2U9RkFLRSwKICAgIHBwPSI2MTEgLSA2MTkiLAogICAgZW50cnl0eXBlPSJhcnRpY2xlIiwKICAgIHZvbHVtZT0iMjEiLAogICAgbnVtYmVyPSIxMCIsCiAgICBub3RlPSJBY2hpZXZpbmcgUXVhbGl0eSwgU2FmZXR5IiwKICAgIGlzc249IjAxNDEtOTMzMSIsCiAgICBkb2k9Imh0dHBzOi8vZG9pLm9yZy8xMC4xMDE2L1MwMTQxLTkzMzEoOTgpMDAwNjMtNSIsCiAgICBsaW5rPSJodHRwczovL3d3dy5zY2llbmNlZGlyZWN0LmNvbS9zY2llbmNlL2FydGljbGUvcGlpL1MwMTQxOTMzMTk4MDAwNjM1IiwKICAgIGtleXdvcmQ9IkNvZGUgYW5hbHlzaXMiLAogICAgSUQ9IlN05WxoYW5lMTk5ODYxMSIsCiAgICBzY2llbmNlZGlyZWN0PSIxIiwKICAgIHBsYWNleD0iTWljcm9wcm9jZXNzb3JzIGFuZCBNaWNyb3N5c3RlbXMiLAopKQonJycpOw==\"));\n",
       "    "
      ],
      "text/plain": [
       "<IPython.core.display.Javascript object>"
      ]
     },
     "metadata": {},
     "output_type": "display_data"
    },
    {
     "data": {
      "application/javascript": [
       "$('span:contains(\"# Temp\")').closest('.cell').remove();"
      ],
      "text/plain": [
       "<IPython.core.display.Javascript object>"
      ]
     },
     "metadata": {},
     "output_type": "display_data"
    },
    {
     "data": {
      "application/javascript": [
       "\n",
       "        $('span:contains(\"# Temp\")').closest('.cell').remove();\n",
       "        var code = IPython.notebook.insert_cell_below('code');\n",
       "        code.set_text(atob(\"IyBUZW1wCmluc2VydCgnJycKc3TlbGhhbmUxOTk4YSA9IERCKFdvcmtVbnJlbGF0ZWQoCiAgICAxOTk4LCAiTW9kaWZpY2F0aW9uIG9mIHNhZmV0eSBjcml0aWNhbCBzeXN0ZW1zOiBhbiBhc3Nlc3NtZW50IG9mIHRocmVlIGFwcHJvYWNoZXMiLAogICAgZGlzcGxheT0ic3TlbGhhbmUiLAogICAgYXV0aG9ycz0iVG9yIFN05WxoYW5lIGFuZCBLYXJpIEp1dWwgV2VkZGUiLAogICAgcGxhY2U9RkFLRSwKICAgIHBwPSI2MTEgLSA2MTkiLAogICAgZW50cnl0eXBlPSJhcnRpY2xlIiwKICAgIHZvbHVtZT0iMjEiLAogICAgbnVtYmVyPSIxMCIsCiAgICBub3RlPSJBY2hpZXZpbmcgUXVhbGl0eSwgU2FmZXR5IiwKICAgIGlzc249IjAxNDEtOTMzMSIsCiAgICBkb2k9Imh0dHBzOi8vZG9pLm9yZy8xMC4xMDE2L1MwMTQxLTkzMzEoOTgpMDAwNjMtNSIsCiAgICBsaW5rPSJodHRwczovL3d3dy5zY2llbmNlZGlyZWN0LmNvbS9zY2llbmNlL2FydGljbGUvcGlpL1MwMTQxOTMzMTk4MDAwNjM1IiwKICAgIGtleXdvcmQ9IkNvZGUgYW5hbHlzaXMiLAogICAgSUQ9IlN05WxoYW5lMTk5ODYxMSIsCiAgICBzY2llbmNlZGlyZWN0PSIxIiwKICAgIHBsYWNleD0iTWljcm9wcm9jZXNzb3JzIGFuZCBNaWNyb3N5c3RlbXMiLAopKQonJycpOw==\"));\n",
       "    "
      ],
      "text/plain": [
       "<IPython.core.display.Javascript object>"
      ]
     },
     "metadata": {},
     "output_type": "display_data"
    },
    {
     "data": {
      "application/javascript": [
       "$('span:contains(\"# Temp\")').closest('.cell').remove();"
      ],
      "text/plain": [
       "<IPython.core.display.Javascript object>"
      ]
     },
     "metadata": {},
     "output_type": "display_data"
    },
    {
     "data": {
      "application/javascript": [
       "\n",
       "        $('span:contains(\"# Temp\")').closest('.cell').remove();\n",
       "        var code = IPython.notebook.insert_cell_below('code');\n",
       "        code.set_text(atob(\"IyBUZW1wCmluc2VydCgnJycKaHNpYW8yMDA5YSA9IERCKFdvcmtVbnJlbGF0ZWQoCiAgICAyMDA5LCAiQW4gaW50ZWdyYXRlZCBwbGF0Zm9ybSBvZiBjb2xsYWJvcmF0aXZlIHByb2plY3QgbWFuYWdlbWVudCBhbmQgc2lsaWNvbiBpbnRlbGxlY3R1YWwgcHJvcGVydHkgbWFuYWdlbWVudCBmb3IgXElDXCBkZXNpZ24gaW5kdXN0cnkiLAogICAgZGlzcGxheT0iaHNpYW8iLAogICAgYXV0aG9ycz0iRGF2aWQgVy4gSHNpYW8gYW5kIEFteSBKLkMuIFRyYXBwZXkgYW5kIExpbiBNYSBhbmQgUGVpLVNodW4gSG8iLAogICAgcGxhY2U9SUMsCiAgICBwcD0iMjU3NiAtIDI1OTAiLAogICAgZW50cnl0eXBlPSJhcnRpY2xlIiwKICAgIHZvbHVtZT0iMTc5IiwKICAgIG51bWJlcj0iMTUiLAogICAgbm90ZT0iVGhlIDExdGggRWRpdGlvbiBvZiB0aGUgSW50ZXJuYXRpb25hbCBDb25mZXJlbmNlIG9uIFx7Q1NDV1x9IGluIERlc2lnbiIsCiAgICBpc3NuPSIwMDIwLTAyNTUiLAogICAgZG9pPSJodHRwczovL2RvaS5vcmcvMTAuMTAxNi9qLmlucy4yMDA5LjAxLjAzNiIsCiAgICBsaW5rPSJodHRwczovL3d3dy5zY2llbmNlZGlyZWN0LmNvbS9zY2llbmNlL2FydGljbGUvcGlpL1MwMDIwMDI1NTA5MDAwNjQ0IiwKICAgIGtleXdvcmQ9IkNvbGxhYm9yYXRpdmUgcHJvZHVjdCBkZXNpZ24iLAogICAgSUQ9IkhzaWFvMjAwOTI1NzYiLAogICAgc2NpZW5jZWRpcmVjdD0iMSIsCiAgICBwbGFjZXg9IkluZm9ybWF0aW9uIFNjaWVuY2VzIiwKKSkKJycnKTs=\"));\n",
       "    "
      ],
      "text/plain": [
       "<IPython.core.display.Javascript object>"
      ]
     },
     "metadata": {},
     "output_type": "display_data"
    },
    {
     "data": {
      "application/javascript": [
       "$('span:contains(\"# Temp\")').closest('.cell').remove();"
      ],
      "text/plain": [
       "<IPython.core.display.Javascript object>"
      ]
     },
     "metadata": {},
     "output_type": "display_data"
    },
    {
     "data": {
      "application/javascript": [
       "\n",
       "        $('span:contains(\"# Temp\")').closest('.cell').remove();\n",
       "        var code = IPython.notebook.insert_cell_below('code');\n",
       "        code.set_text(atob(\"IyBUZW1wCmluc2VydCgnJycKaHNpYW8yMDA5YSA9IERCKFdvcmtVbnJlbGF0ZWQoCiAgICAyMDA5LCAiQW4gaW50ZWdyYXRlZCBwbGF0Zm9ybSBvZiBjb2xsYWJvcmF0aXZlIHByb2plY3QgbWFuYWdlbWVudCBhbmQgc2lsaWNvbiBpbnRlbGxlY3R1YWwgcHJvcGVydHkgbWFuYWdlbWVudCBmb3IgXElDXCBkZXNpZ24gaW5kdXN0cnkiLAogICAgZGlzcGxheT0iaHNpYW8iLAogICAgYXV0aG9ycz0iRGF2aWQgVy4gSHNpYW8gYW5kIEFteSBKLkMuIFRyYXBwZXkgYW5kIExpbiBNYSBhbmQgUGVpLVNodW4gSG8iLAogICAgcGxhY2U9SUMsCiAgICBwcD0iMjU3NiAtIDI1OTAiLAogICAgZW50cnl0eXBlPSJhcnRpY2xlIiwKICAgIHZvbHVtZT0iMTc5IiwKICAgIG51bWJlcj0iMTUiLAogICAgbm90ZT0iVGhlIDExdGggRWRpdGlvbiBvZiB0aGUgSW50ZXJuYXRpb25hbCBDb25mZXJlbmNlIG9uIFx7Q1NDV1x9IGluIERlc2lnbiIsCiAgICBpc3NuPSIwMDIwLTAyNTUiLAogICAgZG9pPSJodHRwczovL2RvaS5vcmcvMTAuMTAxNi9qLmlucy4yMDA5LjAxLjAzNiIsCiAgICBsaW5rPSJodHRwczovL3d3dy5zY2llbmNlZGlyZWN0LmNvbS9zY2llbmNlL2FydGljbGUvcGlpL1MwMDIwMDI1NTA5MDAwNjQ0IiwKICAgIGtleXdvcmQ9IkNvbGxhYm9yYXRpdmUgcHJvZHVjdCBkZXNpZ24iLAogICAgSUQ9IkhzaWFvMjAwOTI1NzYiLAogICAgc2NpZW5jZWRpcmVjdD0iMSIsCiAgICBwbGFjZXg9IkluZm9ybWF0aW9uIFNjaWVuY2VzIiwKKSkKJycnKTs=\"));\n",
       "    "
      ],
      "text/plain": [
       "<IPython.core.display.Javascript object>"
      ]
     },
     "metadata": {},
     "output_type": "display_data"
    },
    {
     "data": {
      "application/javascript": [
       "$('span:contains(\"# Temp\")').closest('.cell').remove();"
      ],
      "text/plain": [
       "<IPython.core.display.Javascript object>"
      ]
     },
     "metadata": {},
     "output_type": "display_data"
    },
    {
     "data": {
      "application/javascript": [
       "\n",
       "        $('span:contains(\"# Temp\")').closest('.cell').remove();\n",
       "        var code = IPython.notebook.insert_cell_below('code');\n",
       "        code.set_text(atob(\"IyBUZW1wCmluc2VydCgnJycKamlhMjAxMWEgPSBEQihXb3JrVW5yZWxhdGVkKAogICAgMjAxMSwgIlByb2dyYW0gbWFuYWdlbWVudCBvcmdhbml6YXRpb24gbWF0dXJpdHkgaW50ZWdyYXRlZCBtb2RlbCBmb3IgbWVnYSBjb25zdHJ1Y3Rpb24gcHJvZ3JhbXMgaW4gQ2hpbmEiLAogICAgZGlzcGxheT0iamlhIiwKICAgIGF1dGhvcnM9Ikd1YW5nc2hlIEppYSBhbmQgWXV0aW5nIENoZW4gYW5kIFhpYW5nZG9uZyBYdWUgYW5kIEppYW5ndW8gQ2hlbiBhbmQgSmltaW5nIENhbyBhbmQgS2V3ZWkgVGFuZyIsCiAgICBwbGFjZT1GQUtFLAogICAgcHA9IjgzNCAtIDg0NSIsCiAgICBlbnRyeXR5cGU9ImFydGljbGUiLAogICAgdm9sdW1lPSIyOSIsCiAgICBudW1iZXI9IjciLAogICAgbm90ZT0iQ29tcGxleGl0aWVzIGluIE1hbmFnaW5nIE1lZ2EgQ29uc3RydWN0aW9uIFByb2plY3RzIiwKICAgIGlzc249IjAyNjMtNzg2MyIsCiAgICBkb2k9Imh0dHBzOi8vZG9pLm9yZy8xMC4xMDE2L2ouaWpwcm9tYW4uMjAxMS4wMy4wMDMiLAogICAgbGluaz0iaHR0cHM6Ly93d3cuc2NpZW5jZWRpcmVjdC5jb20vc2NpZW5jZS9hcnRpY2xlL3BpaS9TMDI2Mzc4NjMxMTAwMDM2NiIsCiAgICBrZXl3b3JkPSJQcm9ncmFtIG1hbmFnZW1lbnQiLAogICAgSUQ9IkppYTIwMTE4MzQiLAogICAgc2NpZW5jZWRpcmVjdD0iMSIsCiAgICBwbGFjZXg9IkludGVybmF0aW9uYWwgSm91cm5hbCBvZiBQcm9qZWN0IE1hbmFnZW1lbnQiLAopKQonJycpOw==\"));\n",
       "    "
      ],
      "text/plain": [
       "<IPython.core.display.Javascript object>"
      ]
     },
     "metadata": {},
     "output_type": "display_data"
    },
    {
     "data": {
      "application/javascript": [
       "$('span:contains(\"# Temp\")').closest('.cell').remove();"
      ],
      "text/plain": [
       "<IPython.core.display.Javascript object>"
      ]
     },
     "metadata": {},
     "output_type": "display_data"
    },
    {
     "data": {
      "application/javascript": [
       "\n",
       "        $('span:contains(\"# Temp\")').closest('.cell').remove();\n",
       "        var code = IPython.notebook.insert_cell_below('code');\n",
       "        code.set_text(atob(\"IyBUZW1wCmluc2VydCgnJycKamlhMjAxMWEgPSBEQihXb3JrVW5yZWxhdGVkKAogICAgMjAxMSwgIlByb2dyYW0gbWFuYWdlbWVudCBvcmdhbml6YXRpb24gbWF0dXJpdHkgaW50ZWdyYXRlZCBtb2RlbCBmb3IgbWVnYSBjb25zdHJ1Y3Rpb24gcHJvZ3JhbXMgaW4gQ2hpbmEiLAogICAgZGlzcGxheT0iamlhIiwKICAgIGF1dGhvcnM9Ikd1YW5nc2hlIEppYSBhbmQgWXV0aW5nIENoZW4gYW5kIFhpYW5nZG9uZyBYdWUgYW5kIEppYW5ndW8gQ2hlbiBhbmQgSmltaW5nIENhbyBhbmQgS2V3ZWkgVGFuZyIsCiAgICBwbGFjZT1GQUtFLAogICAgcHA9IjgzNCAtIDg0NSIsCiAgICBlbnRyeXR5cGU9ImFydGljbGUiLAogICAgdm9sdW1lPSIyOSIsCiAgICBudW1iZXI9IjciLAogICAgbm90ZT0iQ29tcGxleGl0aWVzIGluIE1hbmFnaW5nIE1lZ2EgQ29uc3RydWN0aW9uIFByb2plY3RzIiwKICAgIGlzc249IjAyNjMtNzg2MyIsCiAgICBkb2k9Imh0dHBzOi8vZG9pLm9yZy8xMC4xMDE2L2ouaWpwcm9tYW4uMjAxMS4wMy4wMDMiLAogICAgbGluaz0iaHR0cHM6Ly93d3cuc2NpZW5jZWRpcmVjdC5jb20vc2NpZW5jZS9hcnRpY2xlL3BpaS9TMDI2Mzc4NjMxMTAwMDM2NiIsCiAgICBrZXl3b3JkPSJQcm9ncmFtIG1hbmFnZW1lbnQiLAogICAgSUQ9IkppYTIwMTE4MzQiLAogICAgc2NpZW5jZWRpcmVjdD0iMSIsCiAgICBwbGFjZXg9IkludGVybmF0aW9uYWwgSm91cm5hbCBvZiBQcm9qZWN0IE1hbmFnZW1lbnQiLAopKQonJycpOw==\"));\n",
       "    "
      ],
      "text/plain": [
       "<IPython.core.display.Javascript object>"
      ]
     },
     "metadata": {},
     "output_type": "display_data"
    },
    {
     "data": {
      "application/javascript": [
       "$('span:contains(\"# Temp\")').closest('.cell').remove();"
      ],
      "text/plain": [
       "<IPython.core.display.Javascript object>"
      ]
     },
     "metadata": {},
     "output_type": "display_data"
    },
    {
     "data": {
      "application/javascript": [
       "\n",
       "        $('span:contains(\"# Temp\")').closest('.cell').remove();\n",
       "        var code = IPython.notebook.insert_cell_below('code');\n",
       "        code.set_text(atob(\"IyBUZW1wCmluc2VydCgnJycKcGV0ZXJzZW4yMDA5YSA9IERCKFdvcmtVbnJlbGF0ZWQoCiAgICAyMDA5LCAiQSBjb21wYXJpc29uIG9mIGlzc3VlcyBhbmQgYWR2YW50YWdlcyBpbiBhZ2lsZSBhbmQgaW5jcmVtZW50YWwgZGV2ZWxvcG1lbnQgYmV0d2VlbiBzdGF0ZSBvZiB0aGUgYXJ0IGFuZCBhbiBpbmR1c3RyaWFsIGNhc2UiLAogICAgZGlzcGxheT0icGV0ZXJzZW4iLAogICAgYXV0aG9ycz0iS2FpIFBldGVyc2VuIGFuZCBDbGFlcyBXb2hsaW4iLAogICAgcGxhY2U9SlNTLAogICAgcHA9IjE0NzkgLSAxNDkwIiwKICAgIGVudHJ5dHlwZT0iYXJ0aWNsZSIsCiAgICB2b2x1bWU9IjgyIiwKICAgIG51bWJlcj0iOSIsCiAgICBub3RlPSJTSTogXHtRU0lDXH0gMjAwNyIsCiAgICBpc3NuPSIwMTY0LTEyMTIiLAogICAgZG9pPSJodHRwczovL2RvaS5vcmcvMTAuMTAxNi9qLmpzcy4yMDA5LjAzLjAzNiIsCiAgICBsaW5rPSJodHRwczovL3d3dy5zY2llbmNlZGlyZWN0LmNvbS9zY2llbmNlL2FydGljbGUvcGlpL1MwMTY0MTIxMjA5MDAwODU1IiwKICAgIGtleXdvcmQ9IkNhc2Ugc3R1ZHkiLAogICAgSUQ9IlBldGVyc2VuMjAwOTE0NzkiLAogICAgc2NpZW5jZWRpcmVjdD0iMSIsCiAgICBwbGFjZXg9IkpvdXJuYWwgb2YgU3lzdGVtcyBhbmQgU29mdHdhcmUiLAopKQonJycpOw==\"));\n",
       "    "
      ],
      "text/plain": [
       "<IPython.core.display.Javascript object>"
      ]
     },
     "metadata": {},
     "output_type": "display_data"
    },
    {
     "data": {
      "application/javascript": [
       "$('span:contains(\"# Temp\")').closest('.cell').remove();"
      ],
      "text/plain": [
       "<IPython.core.display.Javascript object>"
      ]
     },
     "metadata": {},
     "output_type": "display_data"
    },
    {
     "data": {
      "application/javascript": [
       "\n",
       "        $('span:contains(\"# Temp\")').closest('.cell').remove();\n",
       "        var code = IPython.notebook.insert_cell_below('code');\n",
       "        code.set_text(atob(\"IyBUZW1wCmluc2VydCgnJycKcGV0ZXJzZW4yMDA5YSA9IERCKFdvcmtVbnJlbGF0ZWQoCiAgICAyMDA5LCAiQSBjb21wYXJpc29uIG9mIGlzc3VlcyBhbmQgYWR2YW50YWdlcyBpbiBhZ2lsZSBhbmQgaW5jcmVtZW50YWwgZGV2ZWxvcG1lbnQgYmV0d2VlbiBzdGF0ZSBvZiB0aGUgYXJ0IGFuZCBhbiBpbmR1c3RyaWFsIGNhc2UiLAogICAgZGlzcGxheT0icGV0ZXJzZW4iLAogICAgYXV0aG9ycz0iS2FpIFBldGVyc2VuIGFuZCBDbGFlcyBXb2hsaW4iLAogICAgcGxhY2U9SlNTLAogICAgcHA9IjE0NzkgLSAxNDkwIiwKICAgIGVudHJ5dHlwZT0iYXJ0aWNsZSIsCiAgICB2b2x1bWU9IjgyIiwKICAgIG51bWJlcj0iOSIsCiAgICBub3RlPSJTSTogXHtRU0lDXH0gMjAwNyIsCiAgICBpc3NuPSIwMTY0LTEyMTIiLAogICAgZG9pPSJodHRwczovL2RvaS5vcmcvMTAuMTAxNi9qLmpzcy4yMDA5LjAzLjAzNiIsCiAgICBsaW5rPSJodHRwczovL3d3dy5zY2llbmNlZGlyZWN0LmNvbS9zY2llbmNlL2FydGljbGUvcGlpL1MwMTY0MTIxMjA5MDAwODU1IiwKICAgIGtleXdvcmQ9IkNhc2Ugc3R1ZHkiLAogICAgSUQ9IlBldGVyc2VuMjAwOTE0NzkiLAogICAgc2NpZW5jZWRpcmVjdD0iMSIsCiAgICBwbGFjZXg9IkpvdXJuYWwgb2YgU3lzdGVtcyBhbmQgU29mdHdhcmUiLAopKQonJycpOw==\"));\n",
       "    "
      ],
      "text/plain": [
       "<IPython.core.display.Javascript object>"
      ]
     },
     "metadata": {},
     "output_type": "display_data"
    },
    {
     "data": {
      "application/javascript": [
       "$('span:contains(\"# Temp\")').closest('.cell').remove();"
      ],
      "text/plain": [
       "<IPython.core.display.Javascript object>"
      ]
     },
     "metadata": {},
     "output_type": "display_data"
    },
    {
     "data": {
      "application/javascript": [
       "\n",
       "        $('span:contains(\"# Temp\")').closest('.cell').remove();\n",
       "        var code = IPython.notebook.insert_cell_below('code');\n",
       "        code.set_text(atob(\"IyBUZW1wCmluc2VydCgnJycKamFuMjAxMmEgPSBEQihXb3JrVW5yZWxhdGVkKAogICAgMjAxMiwgIlRoZSBlZmZlY3Qgb2YgY2x1c3RlcnMgb24gdGhlIGRldmVsb3BtZW50IG9mIHRoZSBzb2Z0d2FyZSBpbmR1c3RyeSBpbiBEYWxpYW4sIENoaW5hIiwKICAgIGRpc3BsYXk9ImphbiIsCiAgICBhdXRob3JzPSJDaGlvdS1HdWV5IEphbiBhbmQgQ2hhby1DaGluIENoYW4gYW5kIENoaWEtSHVuZyBUZW5nIiwKICAgIHBsYWNlPUZBS0UsCiAgICBwcD0iMTYzIC0gMTczIiwKICAgIGVudHJ5dHlwZT0iYXJ0aWNsZSIsCiAgICB2b2x1bWU9IjM0IiwKICAgIG51bWJlcj0iMiIsCiAgICBub3RlPSIiLAogICAgaXNzbj0iMDE2MC03OTFYIiwKICAgIGRvaT0iaHR0cHM6Ly9kb2kub3JnLzEwLjEwMTYvai50ZWNoc29jLjIwMTIuMDEuMDAyIiwKICAgIGxpbms9Imh0dHBzOi8vd3d3LnNjaWVuY2VkaXJlY3QuY29tL3NjaWVuY2UvYXJ0aWNsZS9waWkvUzAxNjA3OTFYMTIwMDAwMzYiLAogICAga2V5d29yZD0iU3lzdGVtIGR5bmFtaWNzIiwKICAgIElEPSJKYW4yMDEyMTYzIiwKICAgIHNjaWVuY2VkaXJlY3Q9IjEiLAogICAgcGxhY2V4PSJUZWNobm9sb2d5IGluIFNvY2lldHkiLAopKQonJycpOw==\"));\n",
       "    "
      ],
      "text/plain": [
       "<IPython.core.display.Javascript object>"
      ]
     },
     "metadata": {},
     "output_type": "display_data"
    },
    {
     "data": {
      "application/javascript": [
       "$('span:contains(\"# Temp\")').closest('.cell').remove();"
      ],
      "text/plain": [
       "<IPython.core.display.Javascript object>"
      ]
     },
     "metadata": {},
     "output_type": "display_data"
    },
    {
     "data": {
      "application/javascript": [
       "\n",
       "        $('span:contains(\"# Temp\")').closest('.cell').remove();\n",
       "        var code = IPython.notebook.insert_cell_below('code');\n",
       "        code.set_text(atob(\"IyBUZW1wCmluc2VydCgnJycKamFuMjAxMmEgPSBEQihXb3JrVW5yZWxhdGVkKAogICAgMjAxMiwgIlRoZSBlZmZlY3Qgb2YgY2x1c3RlcnMgb24gdGhlIGRldmVsb3BtZW50IG9mIHRoZSBzb2Z0d2FyZSBpbmR1c3RyeSBpbiBEYWxpYW4sIENoaW5hIiwKICAgIGRpc3BsYXk9ImphbiIsCiAgICBhdXRob3JzPSJDaGlvdS1HdWV5IEphbiBhbmQgQ2hhby1DaGluIENoYW4gYW5kIENoaWEtSHVuZyBUZW5nIiwKICAgIHBsYWNlPUZBS0UsCiAgICBwcD0iMTYzIC0gMTczIiwKICAgIGVudHJ5dHlwZT0iYXJ0aWNsZSIsCiAgICB2b2x1bWU9IjM0IiwKICAgIG51bWJlcj0iMiIsCiAgICBub3RlPSIiLAogICAgaXNzbj0iMDE2MC03OTFYIiwKICAgIGRvaT0iaHR0cHM6Ly9kb2kub3JnLzEwLjEwMTYvai50ZWNoc29jLjIwMTIuMDEuMDAyIiwKICAgIGxpbms9Imh0dHBzOi8vd3d3LnNjaWVuY2VkaXJlY3QuY29tL3NjaWVuY2UvYXJ0aWNsZS9waWkvUzAxNjA3OTFYMTIwMDAwMzYiLAogICAga2V5d29yZD0iU3lzdGVtIGR5bmFtaWNzIiwKICAgIElEPSJKYW4yMDEyMTYzIiwKICAgIHNjaWVuY2VkaXJlY3Q9IjEiLAogICAgcGxhY2V4PSJUZWNobm9sb2d5IGluIFNvY2lldHkiLAopKQonJycpOw==\"));\n",
       "    "
      ],
      "text/plain": [
       "<IPython.core.display.Javascript object>"
      ]
     },
     "metadata": {},
     "output_type": "display_data"
    },
    {
     "data": {
      "application/javascript": [
       "$('span:contains(\"# Temp\")').closest('.cell').remove();"
      ],
      "text/plain": [
       "<IPython.core.display.Javascript object>"
      ]
     },
     "metadata": {},
     "output_type": "display_data"
    },
    {
     "data": {
      "application/javascript": [
       "\n",
       "        $('span:contains(\"# Temp\")').closest('.cell').remove();\n",
       "        var code = IPython.notebook.insert_cell_below('code');\n",
       "        code.set_text(atob(\"IyBUZW1wCmluc2VydCgnJycKdmVybmVyMjAxNGIgPSBEQihXb3JrVW5yZWxhdGVkKAogICAgMjAxNCwgIlJpc2tzIGFuZCByaXNrIG1pdGlnYXRpb24gaW4gZ2xvYmFsIHNvZnR3YXJlIGRldmVsb3BtZW50OiBBIHRlcnRpYXJ5IHN0dWR5IiwKICAgIGRpc3BsYXk9InZlcm5lciBiIiwKICAgIGF1dGhvcnM9IkouTS4gVmVybmVyIGFuZCBPLlAuIEJyZXJldG9uIGFuZCBCLkEuIEtpdGNoZW5oYW0gYW5kIE0uIFR1cm5lciBhbmQgTS4gTmlhemkiLAogICAgcGxhY2U9SVNULAogICAgcHA9IjU0IC0gNzgiLAogICAgZW50cnl0eXBlPSJhcnRpY2xlIiwKICAgIHZvbHVtZT0iNTYiLAogICAgbnVtYmVyPSIxIiwKICAgIG5vdGU9IlNwZWNpYWwgc2VjdGlvbnMgb24gSW50ZXJuYXRpb25hbCBDb25mZXJlbmNlIG9uIEdsb2JhbCBTb2Z0d2FyZSBFbmdpbmVlcmluZyCWIEF1Z3VzdCAyMDExIGFuZCBFdmFsdWF0aW9uIGFuZCBBc3Nlc3NtZW50IGluIFNvZnR3YXJlIEVuZ2luZWVyaW5nIJYgQXByaWwgMjAxMiIsCiAgICBpc3NuPSIwOTUwLTU4NDkiLAogICAgZG9pPSJodHRwczovL2RvaS5vcmcvMTAuMTAxNi9qLmluZnNvZi4yMDEzLjA2LjAwNSIsCiAgICBsaW5rPSJodHRwczovL3d3dy5zY2llbmNlZGlyZWN0LmNvbS9zY2llbmNlL2FydGljbGUvcGlpL1MwOTUwNTg0OTEzMDAxMzQxIiwKICAgIGtleXdvcmQ9IkV2aWRlbmNlIiwKICAgIElEPSJWZXJuZXIyMDE0NTQiLAogICAgc2NpZW5jZWRpcmVjdD0iMSIsCiAgICBwbGFjZXg9IkluZm9ybWF0aW9uIGFuZCBTb2Z0d2FyZSBUZWNobm9sb2d5IiwKKSkKJycnKTs=\"));\n",
       "    "
      ],
      "text/plain": [
       "<IPython.core.display.Javascript object>"
      ]
     },
     "metadata": {},
     "output_type": "display_data"
    },
    {
     "data": {
      "application/javascript": [
       "$('span:contains(\"# Temp\")').closest('.cell').remove();"
      ],
      "text/plain": [
       "<IPython.core.display.Javascript object>"
      ]
     },
     "metadata": {},
     "output_type": "display_data"
    },
    {
     "data": {
      "application/javascript": [
       "\n",
       "        $('span:contains(\"# Temp\")').closest('.cell').remove();\n",
       "        var code = IPython.notebook.insert_cell_below('code');\n",
       "        code.set_text(atob(\"IyBUZW1wCmluc2VydCgnJycKdmVybmVyMjAxNGIgPSBEQihXb3JrVW5yZWxhdGVkKAogICAgMjAxNCwgIlJpc2tzIGFuZCByaXNrIG1pdGlnYXRpb24gaW4gZ2xvYmFsIHNvZnR3YXJlIGRldmVsb3BtZW50OiBBIHRlcnRpYXJ5IHN0dWR5IiwKICAgIGRpc3BsYXk9InZlcm5lciBiIiwKICAgIGF1dGhvcnM9IkouTS4gVmVybmVyIGFuZCBPLlAuIEJyZXJldG9uIGFuZCBCLkEuIEtpdGNoZW5oYW0gYW5kIE0uIFR1cm5lciBhbmQgTS4gTmlhemkiLAogICAgcGxhY2U9SVNULAogICAgcHA9IjU0IC0gNzgiLAogICAgZW50cnl0eXBlPSJhcnRpY2xlIiwKICAgIHZvbHVtZT0iNTYiLAogICAgbnVtYmVyPSIxIiwKICAgIG5vdGU9IlNwZWNpYWwgc2VjdGlvbnMgb24gSW50ZXJuYXRpb25hbCBDb25mZXJlbmNlIG9uIEdsb2JhbCBTb2Z0d2FyZSBFbmdpbmVlcmluZyCWIEF1Z3VzdCAyMDExIGFuZCBFdmFsdWF0aW9uIGFuZCBBc3Nlc3NtZW50IGluIFNvZnR3YXJlIEVuZ2luZWVyaW5nIJYgQXByaWwgMjAxMiIsCiAgICBpc3NuPSIwOTUwLTU4NDkiLAogICAgZG9pPSJodHRwczovL2RvaS5vcmcvMTAuMTAxNi9qLmluZnNvZi4yMDEzLjA2LjAwNSIsCiAgICBsaW5rPSJodHRwczovL3d3dy5zY2llbmNlZGlyZWN0LmNvbS9zY2llbmNlL2FydGljbGUvcGlpL1MwOTUwNTg0OTEzMDAxMzQxIiwKICAgIGtleXdvcmQ9IkV2aWRlbmNlIiwKICAgIElEPSJWZXJuZXIyMDE0NTQiLAogICAgc2NpZW5jZWRpcmVjdD0iMSIsCiAgICBwbGFjZXg9IkluZm9ybWF0aW9uIGFuZCBTb2Z0d2FyZSBUZWNobm9sb2d5IiwKKSkKJycnKTs=\"));\n",
       "    "
      ],
      "text/plain": [
       "<IPython.core.display.Javascript object>"
      ]
     },
     "metadata": {},
     "output_type": "display_data"
    },
    {
     "data": {
      "application/javascript": [
       "$('span:contains(\"# Temp\")').closest('.cell').remove();"
      ],
      "text/plain": [
       "<IPython.core.display.Javascript object>"
      ]
     },
     "metadata": {},
     "output_type": "display_data"
    },
    {
     "data": {
      "application/javascript": [
       "\n",
       "        $('span:contains(\"# Temp\")').closest('.cell').remove();\n",
       "        var code = IPython.notebook.insert_cell_below('code');\n",
       "        code.set_text(atob(\"IyBUZW1wCmluc2VydCgnJycKcOlyZXoyMDA2YSA9IERCKFdvcmtVbnJlbGF0ZWQoCiAgICAyMDA2LCAiUmVxdWlyZW1lbnRzIFZhcmlhYmlsaXR5IFN1cHBvcnQgVGhyb3VnaCBNREGZIGFuZCBHcmFwaCBUcmFuc2Zvcm1hdGlvbiIsCiAgICBkaXNwbGF5PSJw6XJleiIsCiAgICBhdXRob3JzPSJKYXZpZXIgUOlyZXogYW5kIE1pZ3VlbCBBLiBMYWd1bmEgYW5kIFlhbmlhIENyZXNwbyBHb2564Wxlei1DYXJ2YWphbCBhbmQgQnJ1bm8gR29ueuFsZXotQmFpeGF1bGkiLAogICAgcGxhY2U9RkFLRSwKICAgIHBwPSIxNjEgLSAxNzMiLAogICAgZW50cnl0eXBlPSJhcnRpY2xlIiwKICAgIHZvbHVtZT0iMTUyIiwKICAgIG51bWJlcj0iIiwKICAgIG5vdGU9IlByb2NlZWRpbmdzIG9mIHRoZSBJbnRlcm5hdGlvbmFsIFdvcmtzaG9wIG9uIEdyYXBoIGFuZCBNb2RlbCBUcmFuc2Zvcm1hdGlvbiAoR3JhTW9UIDIwMDUpR3JhcGggYW5kIE1vZGVsIFRyYW5zZm9ybWF0aW9uIDIwMDUiLAogICAgaXNzbj0iMTU3MS0wNjYxIiwKICAgIGRvaT0iaHR0cHM6Ly9kb2kub3JnLzEwLjEwMTYvai5lbnRjcy4yMDA1LjEwLjAyMyIsCiAgICBsaW5rPSJodHRwczovL3d3dy5zY2llbmNlZGlyZWN0LmNvbS9zY2llbmNlL2FydGljbGUvcGlpL1MxNTcxMDY2MTA2MDAxNDU5IiwKICAgIGtleXdvcmQ9IkxheWVyZWQgR3JhcGggR3JhbW1hcnMiLAogICAgSUQ9IlDpcmV6MjAwNjE2MSIsCiAgICBzY2llbmNlZGlyZWN0PSIxIiwKICAgIHBsYWNleD0iRWxlY3Ryb25pYyBOb3RlcyBpbiBUaGVvcmV0aWNhbCBDb21wdXRlciBTY2llbmNlIiwKKSkKJycnKTs=\"));\n",
       "    "
      ],
      "text/plain": [
       "<IPython.core.display.Javascript object>"
      ]
     },
     "metadata": {},
     "output_type": "display_data"
    },
    {
     "data": {
      "application/javascript": [
       "$('span:contains(\"# Temp\")').closest('.cell').remove();"
      ],
      "text/plain": [
       "<IPython.core.display.Javascript object>"
      ]
     },
     "metadata": {},
     "output_type": "display_data"
    },
    {
     "data": {
      "application/javascript": [
       "\n",
       "        $('span:contains(\"# Temp\")').closest('.cell').remove();\n",
       "        var code = IPython.notebook.insert_cell_below('code');\n",
       "        code.set_text(atob(\"IyBUZW1wCmluc2VydCgnJycKcOlyZXoyMDA2YSA9IERCKFdvcmtVbnJlbGF0ZWQoCiAgICAyMDA2LCAiUmVxdWlyZW1lbnRzIFZhcmlhYmlsaXR5IFN1cHBvcnQgVGhyb3VnaCBNREGZIGFuZCBHcmFwaCBUcmFuc2Zvcm1hdGlvbiIsCiAgICBkaXNwbGF5PSJw6XJleiIsCiAgICBhdXRob3JzPSJKYXZpZXIgUOlyZXogYW5kIE1pZ3VlbCBBLiBMYWd1bmEgYW5kIFlhbmlhIENyZXNwbyBHb2564Wxlei1DYXJ2YWphbCBhbmQgQnJ1bm8gR29ueuFsZXotQmFpeGF1bGkiLAogICAgcGxhY2U9RkFLRSwKICAgIHBwPSIxNjEgLSAxNzMiLAogICAgZW50cnl0eXBlPSJhcnRpY2xlIiwKICAgIHZvbHVtZT0iMTUyIiwKICAgIG51bWJlcj0iIiwKICAgIG5vdGU9IlByb2NlZWRpbmdzIG9mIHRoZSBJbnRlcm5hdGlvbmFsIFdvcmtzaG9wIG9uIEdyYXBoIGFuZCBNb2RlbCBUcmFuc2Zvcm1hdGlvbiAoR3JhTW9UIDIwMDUpR3JhcGggYW5kIE1vZGVsIFRyYW5zZm9ybWF0aW9uIDIwMDUiLAogICAgaXNzbj0iMTU3MS0wNjYxIiwKICAgIGRvaT0iaHR0cHM6Ly9kb2kub3JnLzEwLjEwMTYvai5lbnRjcy4yMDA1LjEwLjAyMyIsCiAgICBsaW5rPSJodHRwczovL3d3dy5zY2llbmNlZGlyZWN0LmNvbS9zY2llbmNlL2FydGljbGUvcGlpL1MxNTcxMDY2MTA2MDAxNDU5IiwKICAgIGtleXdvcmQ9IkxheWVyZWQgR3JhcGggR3JhbW1hcnMiLAogICAgSUQ9IlDpcmV6MjAwNjE2MSIsCiAgICBzY2llbmNlZGlyZWN0PSIxIiwKICAgIHBsYWNleD0iRWxlY3Ryb25pYyBOb3RlcyBpbiBUaGVvcmV0aWNhbCBDb21wdXRlciBTY2llbmNlIiwKKSkKJycnKTs=\"));\n",
       "    "
      ],
      "text/plain": [
       "<IPython.core.display.Javascript object>"
      ]
     },
     "metadata": {},
     "output_type": "display_data"
    },
    {
     "data": {
      "application/javascript": [
       "$('span:contains(\"# Temp\")').closest('.cell').remove();"
      ],
      "text/plain": [
       "<IPython.core.display.Javascript object>"
      ]
     },
     "metadata": {},
     "output_type": "display_data"
    },
    {
     "data": {
      "application/javascript": [
       "\n",
       "        $('span:contains(\"# Temp\")').closest('.cell').remove();\n",
       "        var code = IPython.notebook.insert_cell_below('code');\n",
       "        code.set_text(atob(\"IyBUZW1wCmluc2VydCgnJycKZHli5TIwMDhhID0gREIoV29ya1VucmVsYXRlZCgKICAgIDIwMDgsICJFbXBpcmljYWwgc3R1ZGllcyBvZiBhZ2lsZSBzb2Z0d2FyZSBkZXZlbG9wbWVudDogQSBzeXN0ZW1hdGljIHJldmlldyIsCiAgICBkaXNwbGF5PSJkeWLlIiwKICAgIGF1dGhvcnM9IlRvcmUgRHli5SBhbmQgVG9yZ2VpciBEaW5nc/h5ciIsCiAgICBwbGFjZT1JU1QsCiAgICBwcD0iODMzIC0gODU5IiwKICAgIGVudHJ5dHlwZT0iYXJ0aWNsZSIsCiAgICB2b2x1bWU9IjUwIiwKICAgIG51bWJlcj0iOZYxMCIsCiAgICBub3RlPSIiLAogICAgaXNzbj0iMDk1MC01ODQ5IiwKICAgIGRvaT0iaHR0cHM6Ly9kb2kub3JnLzEwLjEwMTYvai5pbmZzb2YuMjAwOC4wMS4wMDYiLAogICAgbGluaz0iaHR0cHM6Ly93d3cuc2NpZW5jZWRpcmVjdC5jb20vc2NpZW5jZS9hcnRpY2xlL3BpaS9TMDk1MDU4NDkwODAwMDI1NiIsCiAgICBrZXl3b3JkPSJTY3J1bSIsCiAgICBJRD0iRHli5TIwMDg4MzMiLAogICAgc2NpZW5jZWRpcmVjdD0iMSIsCiAgICBwbGFjZXg9IkluZm9ybWF0aW9uIGFuZCBTb2Z0d2FyZSBUZWNobm9sb2d5IiwKKSkKJycnKTs=\"));\n",
       "    "
      ],
      "text/plain": [
       "<IPython.core.display.Javascript object>"
      ]
     },
     "metadata": {},
     "output_type": "display_data"
    },
    {
     "data": {
      "application/javascript": [
       "$('span:contains(\"# Temp\")').closest('.cell').remove();"
      ],
      "text/plain": [
       "<IPython.core.display.Javascript object>"
      ]
     },
     "metadata": {},
     "output_type": "display_data"
    },
    {
     "data": {
      "application/javascript": [
       "\n",
       "        $('span:contains(\"# Temp\")').closest('.cell').remove();\n",
       "        var code = IPython.notebook.insert_cell_below('code');\n",
       "        code.set_text(atob(\"IyBUZW1wCmluc2VydCgnJycKZHli5TIwMDhhID0gREIoV29ya1VucmVsYXRlZCgKICAgIDIwMDgsICJFbXBpcmljYWwgc3R1ZGllcyBvZiBhZ2lsZSBzb2Z0d2FyZSBkZXZlbG9wbWVudDogQSBzeXN0ZW1hdGljIHJldmlldyIsCiAgICBkaXNwbGF5PSJkeWLlIiwKICAgIGF1dGhvcnM9IlRvcmUgRHli5SBhbmQgVG9yZ2VpciBEaW5nc/h5ciIsCiAgICBwbGFjZT1JU1QsCiAgICBwcD0iODMzIC0gODU5IiwKICAgIGVudHJ5dHlwZT0iYXJ0aWNsZSIsCiAgICB2b2x1bWU9IjUwIiwKICAgIG51bWJlcj0iOZYxMCIsCiAgICBub3RlPSIiLAogICAgaXNzbj0iMDk1MC01ODQ5IiwKICAgIGRvaT0iaHR0cHM6Ly9kb2kub3JnLzEwLjEwMTYvai5pbmZzb2YuMjAwOC4wMS4wMDYiLAogICAgbGluaz0iaHR0cHM6Ly93d3cuc2NpZW5jZWRpcmVjdC5jb20vc2NpZW5jZS9hcnRpY2xlL3BpaS9TMDk1MDU4NDkwODAwMDI1NiIsCiAgICBrZXl3b3JkPSJTY3J1bSIsCiAgICBJRD0iRHli5TIwMDg4MzMiLAogICAgc2NpZW5jZWRpcmVjdD0iMSIsCiAgICBwbGFjZXg9IkluZm9ybWF0aW9uIGFuZCBTb2Z0d2FyZSBUZWNobm9sb2d5IiwKKSkKJycnKTs=\"));\n",
       "    "
      ],
      "text/plain": [
       "<IPython.core.display.Javascript object>"
      ]
     },
     "metadata": {},
     "output_type": "display_data"
    },
    {
     "data": {
      "application/javascript": [
       "$('span:contains(\"# Temp\")').closest('.cell').remove();"
      ],
      "text/plain": [
       "<IPython.core.display.Javascript object>"
      ]
     },
     "metadata": {},
     "output_type": "display_data"
    },
    {
     "data": {
      "application/javascript": [
       "\n",
       "        $('span:contains(\"# Temp\")').closest('.cell').remove();\n",
       "        var code = IPython.notebook.insert_cell_below('code');\n",
       "        code.set_text(atob(\"IyBUZW1wCmluc2VydCgnJycKYW5kZXJzZW4yMDA2YSA9IERCKFdvcmtVbnJlbGF0ZWQoCiAgICAyMDA2LCAiRS1nb3Zlcm5tZW50IG1hdHVyaXR5IG1vZGVsczogRXh0ZW5zaW9uIG9mIHRoZSBMYXluZSBhbmQgTGVlIG1vZGVsIiwKICAgIGRpc3BsYXk9ImFuZGVyc2VuIiwKICAgIGF1dGhvcnM9IktpbSBWaWJvcmcgQW5kZXJzZW4gYW5kIEhlbGxlIFppbm5lciBIZW5yaWtzZW4iLAogICAgcGxhY2U9RkFLRSwKICAgIHBwPSIyMzYgLSAyNDgiLAogICAgZW50cnl0eXBlPSJhcnRpY2xlIiwKICAgIHZvbHVtZT0iMjMiLAogICAgbnVtYmVyPSIyIiwKICAgIG5vdGU9IiIsCiAgICBpc3NuPSIwNzQwLTYyNFgiLAogICAgZG9pPSJodHRwczovL2RvaS5vcmcvMTAuMTAxNi9qLmdpcS4yMDA1LjExLjAwOCIsCiAgICBsaW5rPSJodHRwczovL3d3dy5zY2llbmNlZGlyZWN0LmNvbS9zY2llbmNlL2FydGljbGUvcGlpL1MwNzQwNjI0WDA1MDAwOTczIiwKICAgIElEPSJBbmRlcnNlbjIwMDYyMzYiLAogICAgc2NpZW5jZWRpcmVjdD0iMSIsCiAgICBwbGFjZXg9IkdvdmVybm1lbnQgSW5mb3JtYXRpb24gUXVhcnRlcmx5IiwKKSkKJycnKTs=\"));\n",
       "    "
      ],
      "text/plain": [
       "<IPython.core.display.Javascript object>"
      ]
     },
     "metadata": {},
     "output_type": "display_data"
    },
    {
     "data": {
      "application/javascript": [
       "$('span:contains(\"# Temp\")').closest('.cell').remove();"
      ],
      "text/plain": [
       "<IPython.core.display.Javascript object>"
      ]
     },
     "metadata": {},
     "output_type": "display_data"
    },
    {
     "data": {
      "application/javascript": [
       "\n",
       "        $('span:contains(\"# Temp\")').closest('.cell').remove();\n",
       "        var code = IPython.notebook.insert_cell_below('code');\n",
       "        code.set_text(atob(\"IyBUZW1wCmluc2VydCgnJycKYW5kZXJzZW4yMDA2YSA9IERCKFdvcmtVbnJlbGF0ZWQoCiAgICAyMDA2LCAiRS1nb3Zlcm5tZW50IG1hdHVyaXR5IG1vZGVsczogRXh0ZW5zaW9uIG9mIHRoZSBMYXluZSBhbmQgTGVlIG1vZGVsIiwKICAgIGRpc3BsYXk9ImFuZGVyc2VuIiwKICAgIGF1dGhvcnM9IktpbSBWaWJvcmcgQW5kZXJzZW4gYW5kIEhlbGxlIFppbm5lciBIZW5yaWtzZW4iLAogICAgcGxhY2U9RkFLRSwKICAgIHBwPSIyMzYgLSAyNDgiLAogICAgZW50cnl0eXBlPSJhcnRpY2xlIiwKICAgIHZvbHVtZT0iMjMiLAogICAgbnVtYmVyPSIyIiwKICAgIG5vdGU9IiIsCiAgICBpc3NuPSIwNzQwLTYyNFgiLAogICAgZG9pPSJodHRwczovL2RvaS5vcmcvMTAuMTAxNi9qLmdpcS4yMDA1LjExLjAwOCIsCiAgICBsaW5rPSJodHRwczovL3d3dy5zY2llbmNlZGlyZWN0LmNvbS9zY2llbmNlL2FydGljbGUvcGlpL1MwNzQwNjI0WDA1MDAwOTczIiwKICAgIElEPSJBbmRlcnNlbjIwMDYyMzYiLAogICAgc2NpZW5jZWRpcmVjdD0iMSIsCiAgICBwbGFjZXg9IkdvdmVybm1lbnQgSW5mb3JtYXRpb24gUXVhcnRlcmx5IiwKKSkKJycnKTs=\"));\n",
       "    "
      ],
      "text/plain": [
       "<IPython.core.display.Javascript object>"
      ]
     },
     "metadata": {},
     "output_type": "display_data"
    },
    {
     "data": {
      "application/javascript": [
       "$('span:contains(\"# Temp\")').closest('.cell').remove();"
      ],
      "text/plain": [
       "<IPython.core.display.Javascript object>"
      ]
     },
     "metadata": {},
     "output_type": "display_data"
    },
    {
     "data": {
      "application/javascript": [
       "\n",
       "        $('span:contains(\"# Temp\")').closest('.cell').remove();\n",
       "        var code = IPython.notebook.insert_cell_below('code');\n",
       "        code.set_text(atob(\"IyBUZW1wCmluc2VydCgnJycKY2hhbjIwMDJhID0gREIoV29ya1VucmVsYXRlZCgKICAgIDIwMDIsICJRdWFsaXR5IGZ1bmN0aW9uIGRlcGxveW1lbnQ6IEEgbGl0ZXJhdHVyZSByZXZpZXciLAogICAgZGlzcGxheT0iY2hhbiIsCiAgICBhdXRob3JzPSJMYWktS293IENoYW4gYW5kIE1pbmctTHUgV3UiLAogICAgcGxhY2U9RkFLRSwKICAgIHBwPSI0NjMgLSA0OTciLAogICAgZW50cnl0eXBlPSJhcnRpY2xlIiwKICAgIHZvbHVtZT0iMTQzIiwKICAgIG51bWJlcj0iMyIsCiAgICBub3RlPSIiLAogICAgaXNzbj0iMDM3Ny0yMjE3IiwKICAgIGRvaT0iaHR0cHM6Ly9kb2kub3JnLzEwLjEwMTYvUzAzNzctMjIxNygwMikwMDE3OC05IiwKICAgIGxpbms9Imh0dHBzOi8vd3d3LnNjaWVuY2VkaXJlY3QuY29tL3NjaWVuY2UvYXJ0aWNsZS9waWkvUzAzNzcyMjE3MDIwMDE3ODkiLAogICAga2V5d29yZD0iUXVhbGl0eSBmdW5jdGlvbiBkZXBsb3ltZW50IChRRkQpIiwKICAgIElEPSJDaGFuMjAwMjQ2MyIsCiAgICBzY2llbmNlZGlyZWN0PSIxIiwKICAgIHBsYWNleD0iRXVyb3BlYW4gSm91cm5hbCBvZiBPcGVyYXRpb25hbCBSZXNlYXJjaCIsCikpCicnJyk7\"));\n",
       "    "
      ],
      "text/plain": [
       "<IPython.core.display.Javascript object>"
      ]
     },
     "metadata": {},
     "output_type": "display_data"
    },
    {
     "data": {
      "application/javascript": [
       "$('span:contains(\"# Temp\")').closest('.cell').remove();"
      ],
      "text/plain": [
       "<IPython.core.display.Javascript object>"
      ]
     },
     "metadata": {},
     "output_type": "display_data"
    },
    {
     "data": {
      "application/javascript": [
       "\n",
       "        $('span:contains(\"# Temp\")').closest('.cell').remove();\n",
       "        var code = IPython.notebook.insert_cell_below('code');\n",
       "        code.set_text(atob(\"IyBUZW1wCmluc2VydCgnJycKY2hhbjIwMDJhID0gREIoV29ya1VucmVsYXRlZCgKICAgIDIwMDIsICJRdWFsaXR5IGZ1bmN0aW9uIGRlcGxveW1lbnQ6IEEgbGl0ZXJhdHVyZSByZXZpZXciLAogICAgZGlzcGxheT0iY2hhbiIsCiAgICBhdXRob3JzPSJMYWktS293IENoYW4gYW5kIE1pbmctTHUgV3UiLAogICAgcGxhY2U9RkFLRSwKICAgIHBwPSI0NjMgLSA0OTciLAogICAgZW50cnl0eXBlPSJhcnRpY2xlIiwKICAgIHZvbHVtZT0iMTQzIiwKICAgIG51bWJlcj0iMyIsCiAgICBub3RlPSIiLAogICAgaXNzbj0iMDM3Ny0yMjE3IiwKICAgIGRvaT0iaHR0cHM6Ly9kb2kub3JnLzEwLjEwMTYvUzAzNzctMjIxNygwMikwMDE3OC05IiwKICAgIGxpbms9Imh0dHBzOi8vd3d3LnNjaWVuY2VkaXJlY3QuY29tL3NjaWVuY2UvYXJ0aWNsZS9waWkvUzAzNzcyMjE3MDIwMDE3ODkiLAogICAga2V5d29yZD0iUXVhbGl0eSBmdW5jdGlvbiBkZXBsb3ltZW50IChRRkQpIiwKICAgIElEPSJDaGFuMjAwMjQ2MyIsCiAgICBzY2llbmNlZGlyZWN0PSIxIiwKICAgIHBsYWNleD0iRXVyb3BlYW4gSm91cm5hbCBvZiBPcGVyYXRpb25hbCBSZXNlYXJjaCIsCikpCicnJyk7\"));\n",
       "    "
      ],
      "text/plain": [
       "<IPython.core.display.Javascript object>"
      ]
     },
     "metadata": {},
     "output_type": "display_data"
    },
    {
     "data": {
      "application/javascript": [
       "$('span:contains(\"# Temp\")').closest('.cell').remove();"
      ],
      "text/plain": [
       "<IPython.core.display.Javascript object>"
      ]
     },
     "metadata": {},
     "output_type": "display_data"
    },
    {
     "data": {
      "application/javascript": [
       "\n",
       "        $('span:contains(\"# Temp\")').closest('.cell').remove();\n",
       "        var code = IPython.notebook.insert_cell_below('code');\n",
       "        code.set_text(atob(\"IyBUZW1wCmluc2VydCgnJycKc2hlZXR6MjAwOWEgPSBEQihXb3JrVW5yZWxhdGVkKAogICAgMjAwOSwgIlVuZGVyc3RhbmRpbmcgZGV2ZWxvcGVyIGFuZCBtYW5hZ2VyIHBlcmNlcHRpb25zIG9mIGZ1bmN0aW9uIHBvaW50cyBhbmQgc291cmNlIGxpbmVzIG9mIGNvZGUiLAogICAgZGlzcGxheT0ic2hlZXR6IiwKICAgIGF1dGhvcnM9IlN0ZXZlbiBELiBTaGVldHogYW5kIERhdmlkIEhlbmRlcnNvbiBhbmQgTGluZGEgV2FsbGFjZSIsCiAgICBwbGFjZT1KU1MsCiAgICBwcD0iMTU0MCAtIDE1NDkiLAogICAgZW50cnl0eXBlPSJhcnRpY2xlIiwKICAgIHZvbHVtZT0iODIiLAogICAgbnVtYmVyPSI5IiwKICAgIG5vdGU9IlNJOiBce1FTSUNcfSAyMDA3IiwKICAgIGlzc249IjAxNjQtMTIxMiIsCiAgICBkb2k9Imh0dHBzOi8vZG9pLm9yZy8xMC4xMDE2L2ouanNzLjIwMDkuMDQuMDM4IiwKICAgIGxpbms9Imh0dHBzOi8vd3d3LnNjaWVuY2VkaXJlY3QuY29tL3NjaWVuY2UvYXJ0aWNsZS9waWkvUzAxNjQxMjEyMDkwMDEwNTgiLAogICAga2V5d29yZD0iQ29udGVudCBhbmFseXNpcyIsCiAgICBJRD0iU2hlZXR6MjAwOTE1NDAiLAogICAgc2NpZW5jZWRpcmVjdD0iMSIsCiAgICBwbGFjZXg9IkpvdXJuYWwgb2YgU3lzdGVtcyBhbmQgU29mdHdhcmUiLAopKQonJycpOw==\"));\n",
       "    "
      ],
      "text/plain": [
       "<IPython.core.display.Javascript object>"
      ]
     },
     "metadata": {},
     "output_type": "display_data"
    },
    {
     "data": {
      "application/javascript": [
       "$('span:contains(\"# Temp\")').closest('.cell').remove();"
      ],
      "text/plain": [
       "<IPython.core.display.Javascript object>"
      ]
     },
     "metadata": {},
     "output_type": "display_data"
    },
    {
     "data": {
      "application/javascript": [
       "\n",
       "        $('span:contains(\"# Temp\")').closest('.cell').remove();\n",
       "        var code = IPython.notebook.insert_cell_below('code');\n",
       "        code.set_text(atob(\"IyBUZW1wCmluc2VydCgnJycKc2hlZXR6MjAwOWEgPSBEQihXb3JrVW5yZWxhdGVkKAogICAgMjAwOSwgIlVuZGVyc3RhbmRpbmcgZGV2ZWxvcGVyIGFuZCBtYW5hZ2VyIHBlcmNlcHRpb25zIG9mIGZ1bmN0aW9uIHBvaW50cyBhbmQgc291cmNlIGxpbmVzIG9mIGNvZGUiLAogICAgZGlzcGxheT0ic2hlZXR6IiwKICAgIGF1dGhvcnM9IlN0ZXZlbiBELiBTaGVldHogYW5kIERhdmlkIEhlbmRlcnNvbiBhbmQgTGluZGEgV2FsbGFjZSIsCiAgICBwbGFjZT1KU1MsCiAgICBwcD0iMTU0MCAtIDE1NDkiLAogICAgZW50cnl0eXBlPSJhcnRpY2xlIiwKICAgIHZvbHVtZT0iODIiLAogICAgbnVtYmVyPSI5IiwKICAgIG5vdGU9IlNJOiBce1FTSUNcfSAyMDA3IiwKICAgIGlzc249IjAxNjQtMTIxMiIsCiAgICBkb2k9Imh0dHBzOi8vZG9pLm9yZy8xMC4xMDE2L2ouanNzLjIwMDkuMDQuMDM4IiwKICAgIGxpbms9Imh0dHBzOi8vd3d3LnNjaWVuY2VkaXJlY3QuY29tL3NjaWVuY2UvYXJ0aWNsZS9waWkvUzAxNjQxMjEyMDkwMDEwNTgiLAogICAga2V5d29yZD0iQ29udGVudCBhbmFseXNpcyIsCiAgICBJRD0iU2hlZXR6MjAwOTE1NDAiLAogICAgc2NpZW5jZWRpcmVjdD0iMSIsCiAgICBwbGFjZXg9IkpvdXJuYWwgb2YgU3lzdGVtcyBhbmQgU29mdHdhcmUiLAopKQonJycpOw==\"));\n",
       "    "
      ],
      "text/plain": [
       "<IPython.core.display.Javascript object>"
      ]
     },
     "metadata": {},
     "output_type": "display_data"
    },
    {
     "data": {
      "application/javascript": [
       "$('span:contains(\"# Temp\")').closest('.cell').remove();"
      ],
      "text/plain": [
       "<IPython.core.display.Javascript object>"
      ]
     },
     "metadata": {},
     "output_type": "display_data"
    },
    {
     "data": {
      "application/javascript": [
       "\n",
       "        $('span:contains(\"# Temp\")').closest('.cell').remove();\n",
       "        var code = IPython.notebook.insert_cell_below('code');\n",
       "        code.set_text(atob(\"IyBUZW1wCmluc2VydCgnJycKcHJvY2FjY2lubzIwMDVhID0gREIoV29ya1VucmVsYXRlZCgKICAgIDIwMDUsICJXaGF0IGRvIHNvZnR3YXJlIHByYWN0aXRpb25lcnMgcmVhbGx5IHRoaW5rIGFib3V0IHByb2plY3Qgc3VjY2VzczogYW4gZXhwbG9yYXRvcnkgc3R1ZHkiLAogICAgZGlzcGxheT0icHJvY2FjY2lubyIsCiAgICBhdXRob3JzPSJKLiBEcmV3IFByb2NhY2Npbm8gYW5kIEp1bmUgTS4gVmVybmVyIGFuZCBLYXRoZXJpbmUgTS4gU2hlbGZlciBhbmQgRGF2aWQgR2VmZW4iLAogICAgcGxhY2U9SlNTLAogICAgcHA9IjE5NCAtIDIwMyIsCiAgICBlbnRyeXR5cGU9ImFydGljbGUiLAogICAgdm9sdW1lPSI3OCIsCiAgICBudW1iZXI9IjIiLAogICAgbm90ZT0iIiwKICAgIGlzc249IjAxNjQtMTIxMiIsCiAgICBkb2k9Imh0dHBzOi8vZG9pLm9yZy8xMC4xMDE2L2ouanNzLjIwMDQuMTIuMDExIiwKICAgIGxpbms9Imh0dHBzOi8vd3d3LnNjaWVuY2VkaXJlY3QuY29tL3NjaWVuY2UvYXJ0aWNsZS9waWkvUzAxNjQxMjEyMDQwMDI2MTQiLAogICAga2V5d29yZD0iTW90aXZhdGlvbiIsCiAgICBJRD0iUHJvY2FjY2lubzIwMDUxOTQiLAogICAgc2NpZW5jZWRpcmVjdD0iMSIsCiAgICBwbGFjZXg9IkpvdXJuYWwgb2YgU3lzdGVtcyBhbmQgU29mdHdhcmUiLAopKQonJycpOw==\"));\n",
       "    "
      ],
      "text/plain": [
       "<IPython.core.display.Javascript object>"
      ]
     },
     "metadata": {},
     "output_type": "display_data"
    },
    {
     "data": {
      "application/javascript": [
       "$('span:contains(\"# Temp\")').closest('.cell').remove();"
      ],
      "text/plain": [
       "<IPython.core.display.Javascript object>"
      ]
     },
     "metadata": {},
     "output_type": "display_data"
    },
    {
     "data": {
      "application/javascript": [
       "\n",
       "        $('span:contains(\"# Temp\")').closest('.cell').remove();\n",
       "        var code = IPython.notebook.insert_cell_below('code');\n",
       "        code.set_text(atob(\"IyBUZW1wCmluc2VydCgnJycKcHJvY2FjY2lubzIwMDVhID0gREIoV29ya1VucmVsYXRlZCgKICAgIDIwMDUsICJXaGF0IGRvIHNvZnR3YXJlIHByYWN0aXRpb25lcnMgcmVhbGx5IHRoaW5rIGFib3V0IHByb2plY3Qgc3VjY2VzczogYW4gZXhwbG9yYXRvcnkgc3R1ZHkiLAogICAgZGlzcGxheT0icHJvY2FjY2lubyIsCiAgICBhdXRob3JzPSJKLiBEcmV3IFByb2NhY2Npbm8gYW5kIEp1bmUgTS4gVmVybmVyIGFuZCBLYXRoZXJpbmUgTS4gU2hlbGZlciBhbmQgRGF2aWQgR2VmZW4iLAogICAgcGxhY2U9SlNTLAogICAgcHA9IjE5NCAtIDIwMyIsCiAgICBlbnRyeXR5cGU9ImFydGljbGUiLAogICAgdm9sdW1lPSI3OCIsCiAgICBudW1iZXI9IjIiLAogICAgbm90ZT0iIiwKICAgIGlzc249IjAxNjQtMTIxMiIsCiAgICBkb2k9Imh0dHBzOi8vZG9pLm9yZy8xMC4xMDE2L2ouanNzLjIwMDQuMTIuMDExIiwKICAgIGxpbms9Imh0dHBzOi8vd3d3LnNjaWVuY2VkaXJlY3QuY29tL3NjaWVuY2UvYXJ0aWNsZS9waWkvUzAxNjQxMjEyMDQwMDI2MTQiLAogICAga2V5d29yZD0iTW90aXZhdGlvbiIsCiAgICBJRD0iUHJvY2FjY2lubzIwMDUxOTQiLAogICAgc2NpZW5jZWRpcmVjdD0iMSIsCiAgICBwbGFjZXg9IkpvdXJuYWwgb2YgU3lzdGVtcyBhbmQgU29mdHdhcmUiLAopKQonJycpOw==\"));\n",
       "    "
      ],
      "text/plain": [
       "<IPython.core.display.Javascript object>"
      ]
     },
     "metadata": {},
     "output_type": "display_data"
    },
    {
     "data": {
      "application/javascript": [
       "$('span:contains(\"# Temp\")').closest('.cell').remove();"
      ],
      "text/plain": [
       "<IPython.core.display.Javascript object>"
      ]
     },
     "metadata": {},
     "output_type": "display_data"
    },
    {
     "data": {
      "application/javascript": [
       "\n",
       "        $('span:contains(\"# Temp\")').closest('.cell').remove();\n",
       "        var code = IPython.notebook.insert_cell_below('code');\n",
       "        code.set_text(atob(\"IyBUZW1wCmluc2VydCgnJycKbG90dDE5OTNhID0gREIoV29ya1VucmVsYXRlZCgKICAgIDE5OTMsICJNZWFzdXJlbWVudC1iYXNlZCBndWlkYW5jZSBvZiBzb2Z0d2FyZSBwcm9qZWN0cyB1c2luZyBleHBsaWNpdCBwcm9qZWN0IHBsYW5zIiwKICAgIGRpc3BsYXk9ImxvdHQiLAogICAgYXV0aG9ycz0iQ00gTG90dCBhbmQgSEQgUm9tYmFjaCIsCiAgICBwbGFjZT1JU1QsCiAgICBwcD0iNDA3IC0gNDE5IiwKICAgIGVudHJ5dHlwZT0iYXJ0aWNsZSIsCiAgICB2b2x1bWU9IjM1IiwKICAgIG51bWJlcj0iNpY3IiwKICAgIG5vdGU9IlNvZnR3YXJlIFByb2Nlc3MgTW9kZWxsaW5nIGluIFByYWN0aWNlIiwKICAgIGlzc249IjA5NTAtNTg0OSIsCiAgICBkb2k9Imh0dHBzOi8vZG9pLm9yZy8xMC4xMDE2LzA5NTAtNTg0OSg5Myk5MDAxMi1SIiwKICAgIGxpbms9Imh0dHBzOi8vd3d3LnNjaWVuY2VkaXJlY3QuY29tL3NjaWVuY2UvYXJ0aWNsZS9waWkvMDk1MDU4NDk5MzkwMDEyUiIsCiAgICBrZXl3b3JkPSJwcm9qZWN0IGd1aWRhbmNlIiwKICAgIElEPSJMb3R0MTk5MzQwNyIsCiAgICBzY2llbmNlZGlyZWN0PSIxIiwKICAgIHBsYWNleD0iSW5mb3JtYXRpb24gYW5kIFNvZnR3YXJlIFRlY2hub2xvZ3kiLAopKQonJycpOw==\"));\n",
       "    "
      ],
      "text/plain": [
       "<IPython.core.display.Javascript object>"
      ]
     },
     "metadata": {},
     "output_type": "display_data"
    },
    {
     "data": {
      "application/javascript": [
       "$('span:contains(\"# Temp\")').closest('.cell').remove();"
      ],
      "text/plain": [
       "<IPython.core.display.Javascript object>"
      ]
     },
     "metadata": {},
     "output_type": "display_data"
    },
    {
     "data": {
      "application/javascript": [
       "\n",
       "        $('span:contains(\"# Temp\")').closest('.cell').remove();\n",
       "        var code = IPython.notebook.insert_cell_below('code');\n",
       "        code.set_text(atob(\"IyBUZW1wCmluc2VydCgnJycKbG90dDE5OTNhID0gREIoV29ya1VucmVsYXRlZCgKICAgIDE5OTMsICJNZWFzdXJlbWVudC1iYXNlZCBndWlkYW5jZSBvZiBzb2Z0d2FyZSBwcm9qZWN0cyB1c2luZyBleHBsaWNpdCBwcm9qZWN0IHBsYW5zIiwKICAgIGRpc3BsYXk9ImxvdHQiLAogICAgYXV0aG9ycz0iQ00gTG90dCBhbmQgSEQgUm9tYmFjaCIsCiAgICBwbGFjZT1JU1QsCiAgICBwcD0iNDA3IC0gNDE5IiwKICAgIGVudHJ5dHlwZT0iYXJ0aWNsZSIsCiAgICB2b2x1bWU9IjM1IiwKICAgIG51bWJlcj0iNpY3IiwKICAgIG5vdGU9IlNvZnR3YXJlIFByb2Nlc3MgTW9kZWxsaW5nIGluIFByYWN0aWNlIiwKICAgIGlzc249IjA5NTAtNTg0OSIsCiAgICBkb2k9Imh0dHBzOi8vZG9pLm9yZy8xMC4xMDE2LzA5NTAtNTg0OSg5Myk5MDAxMi1SIiwKICAgIGxpbms9Imh0dHBzOi8vd3d3LnNjaWVuY2VkaXJlY3QuY29tL3NjaWVuY2UvYXJ0aWNsZS9waWkvMDk1MDU4NDk5MzkwMDEyUiIsCiAgICBrZXl3b3JkPSJwcm9qZWN0IGd1aWRhbmNlIiwKICAgIElEPSJMb3R0MTk5MzQwNyIsCiAgICBzY2llbmNlZGlyZWN0PSIxIiwKICAgIHBsYWNleD0iSW5mb3JtYXRpb24gYW5kIFNvZnR3YXJlIFRlY2hub2xvZ3kiLAopKQonJycpOw==\"));\n",
       "    "
      ],
      "text/plain": [
       "<IPython.core.display.Javascript object>"
      ]
     },
     "metadata": {},
     "output_type": "display_data"
    },
    {
     "data": {
      "application/javascript": [
       "$('span:contains(\"# Temp\")').closest('.cell').remove();"
      ],
      "text/plain": [
       "<IPython.core.display.Javascript object>"
      ]
     },
     "metadata": {},
     "output_type": "display_data"
    },
    {
     "data": {
      "application/javascript": [
       "\n",
       "        $('span:contains(\"# Temp\")').closest('.cell').remove();\n",
       "        var code = IPython.notebook.insert_cell_below('code');\n",
       "        code.set_text(atob(\"IyBUZW1wCmluc2VydCgnJycKZuZncmkyMDEwYSA9IERCKFdvcmtVbnJlbGF0ZWQoCiAgICAyMDEwLCAiSW50cm9kdWNpbmcga25vd2xlZGdlIHJlZHVuZGFuY3kgcHJhY3RpY2UgaW4gc29mdHdhcmUgZGV2ZWxvcG1lbnQ6IEV4cGVyaWVuY2VzIHdpdGggam9iIHJvdGF0aW9uIGluIHN1cHBvcnQgd29yayIsCiAgICBkaXNwbGF5PSJm5mdyaSIsCiAgICBhdXRob3JzPSJUb3IgRXJsZW5kIEbmZ3JpIGFuZCBUb3JlIER5YuUgYW5kIFRvcmdlaXIgRGluZ3P4eXIiLAogICAgcGxhY2U9SVNULAogICAgcHA9IjExMTggLSAxMTMyIiwKICAgIGVudHJ5dHlwZT0iYXJ0aWNsZSIsCiAgICB2b2x1bWU9IjUyIiwKICAgIG51bWJlcj0iMTAiLAogICAgbm90ZT0iIiwKICAgIGlzc249IjA5NTAtNTg0OSIsCiAgICBkb2k9Imh0dHBzOi8vZG9pLm9yZy8xMC4xMDE2L2ouaW5mc29mLjIwMTAuMDYuMDAyIiwKICAgIGxpbms9Imh0dHBzOi8vd3d3LnNjaWVuY2VkaXJlY3QuY29tL3NjaWVuY2UvYXJ0aWNsZS9waWkvUzA5NTA1ODQ5MTAwMDEwMTEiLAogICAga2V5d29yZD0iU29mdHdhcmUgZGV2ZWxvcG1lbnQiLAogICAgSUQ9IkbmZ3JpMjAxMDExMTgiLAogICAgc2NpZW5jZWRpcmVjdD0iMSIsCiAgICBwbGFjZXg9IkluZm9ybWF0aW9uIGFuZCBTb2Z0d2FyZSBUZWNobm9sb2d5IiwKKSkKJycnKTs=\"));\n",
       "    "
      ],
      "text/plain": [
       "<IPython.core.display.Javascript object>"
      ]
     },
     "metadata": {},
     "output_type": "display_data"
    },
    {
     "data": {
      "application/javascript": [
       "$('span:contains(\"# Temp\")').closest('.cell').remove();"
      ],
      "text/plain": [
       "<IPython.core.display.Javascript object>"
      ]
     },
     "metadata": {},
     "output_type": "display_data"
    },
    {
     "data": {
      "application/javascript": [
       "\n",
       "        $('span:contains(\"# Temp\")').closest('.cell').remove();\n",
       "        var code = IPython.notebook.insert_cell_below('code');\n",
       "        code.set_text(atob(\"IyBUZW1wCmluc2VydCgnJycKZuZncmkyMDEwYSA9IERCKFdvcmtVbnJlbGF0ZWQoCiAgICAyMDEwLCAiSW50cm9kdWNpbmcga25vd2xlZGdlIHJlZHVuZGFuY3kgcHJhY3RpY2UgaW4gc29mdHdhcmUgZGV2ZWxvcG1lbnQ6IEV4cGVyaWVuY2VzIHdpdGggam9iIHJvdGF0aW9uIGluIHN1cHBvcnQgd29yayIsCiAgICBkaXNwbGF5PSJm5mdyaSIsCiAgICBhdXRob3JzPSJUb3IgRXJsZW5kIEbmZ3JpIGFuZCBUb3JlIER5YuUgYW5kIFRvcmdlaXIgRGluZ3P4eXIiLAogICAgcGxhY2U9SVNULAogICAgcHA9IjExMTggLSAxMTMyIiwKICAgIGVudHJ5dHlwZT0iYXJ0aWNsZSIsCiAgICB2b2x1bWU9IjUyIiwKICAgIG51bWJlcj0iMTAiLAogICAgbm90ZT0iIiwKICAgIGlzc249IjA5NTAtNTg0OSIsCiAgICBkb2k9Imh0dHBzOi8vZG9pLm9yZy8xMC4xMDE2L2ouaW5mc29mLjIwMTAuMDYuMDAyIiwKICAgIGxpbms9Imh0dHBzOi8vd3d3LnNjaWVuY2VkaXJlY3QuY29tL3NjaWVuY2UvYXJ0aWNsZS9waWkvUzA5NTA1ODQ5MTAwMDEwMTEiLAogICAga2V5d29yZD0iU29mdHdhcmUgZGV2ZWxvcG1lbnQiLAogICAgSUQ9IkbmZ3JpMjAxMDExMTgiLAogICAgc2NpZW5jZWRpcmVjdD0iMSIsCiAgICBwbGFjZXg9IkluZm9ybWF0aW9uIGFuZCBTb2Z0d2FyZSBUZWNobm9sb2d5IiwKKSkKJycnKTs=\"));\n",
       "    "
      ],
      "text/plain": [
       "<IPython.core.display.Javascript object>"
      ]
     },
     "metadata": {},
     "output_type": "display_data"
    },
    {
     "data": {
      "application/javascript": [
       "$('span:contains(\"# Temp\")').closest('.cell').remove();"
      ],
      "text/plain": [
       "<IPython.core.display.Javascript object>"
      ]
     },
     "metadata": {},
     "output_type": "display_data"
    },
    {
     "data": {
      "application/javascript": [
       "\n",
       "        $('span:contains(\"# Temp\")').closest('.cell').remove();\n",
       "        var code = IPython.notebook.insert_cell_below('code');\n",
       "        code.set_text(atob(\"IyBUZW1wCmluc2VydCgnJycKZWdvcm92YTIwMTBhID0gREIoV29ya1VucmVsYXRlZCgKICAgIDIwMTAsICJBY3R1YWwgdnMuIHBlcmNlaXZlZCBlZmZlY3Qgb2Ygc29mdHdhcmUgZW5naW5lZXJpbmcgcHJhY3RpY2VzIGluIHRoZSBJdGFsaWFuIGluZHVzdHJ5IiwKICAgIGRpc3BsYXk9ImVnb3JvdmEiLAogICAgYXV0aG9ycz0iRXZnZW5pYSBFZ29yb3ZhIGFuZCBNYXJjbyBUb3JjaGlhbm8gYW5kIE1hdXJpemlvIE1vcmlzaW8iLAogICAgcGxhY2U9SlNTLAogICAgcHA9IjE5MDcgLSAxOTE2IiwKICAgIGVudHJ5dHlwZT0iYXJ0aWNsZSIsCiAgICB2b2x1bWU9IjgzIiwKICAgIG51bWJlcj0iMTAiLAogICAgbm90ZT0iIiwKICAgIGlzc249IjAxNjQtMTIxMiIsCiAgICBkb2k9Imh0dHBzOi8vZG9pLm9yZy8xMC4xMDE2L2ouanNzLjIwMTAuMDUuMDc3IiwKICAgIGxpbms9Imh0dHBzOi8vd3d3LnNjaWVuY2VkaXJlY3QuY29tL3NjaWVuY2UvYXJ0aWNsZS9waWkvUzAxNjQxMjEyMTAwMDE1NVgiLAogICAga2V5d29yZD0iQ2FzZZZjb250cm9sIFN0dWR5IiwKICAgIElEPSJFZ29yb3ZhMjAxMDE5MDciLAogICAgc2NpZW5jZWRpcmVjdD0iMSIsCiAgICBwbGFjZXg9IkpvdXJuYWwgb2YgU3lzdGVtcyBhbmQgU29mdHdhcmUiLAopKQonJycpOw==\"));\n",
       "    "
      ],
      "text/plain": [
       "<IPython.core.display.Javascript object>"
      ]
     },
     "metadata": {},
     "output_type": "display_data"
    },
    {
     "data": {
      "application/javascript": [
       "$('span:contains(\"# Temp\")').closest('.cell').remove();"
      ],
      "text/plain": [
       "<IPython.core.display.Javascript object>"
      ]
     },
     "metadata": {},
     "output_type": "display_data"
    },
    {
     "data": {
      "application/javascript": [
       "\n",
       "        $('span:contains(\"# Temp\")').closest('.cell').remove();\n",
       "        var code = IPython.notebook.insert_cell_below('code');\n",
       "        code.set_text(atob(\"IyBUZW1wCmluc2VydCgnJycKZWdvcm92YTIwMTBhID0gREIoV29ya1VucmVsYXRlZCgKICAgIDIwMTAsICJBY3R1YWwgdnMuIHBlcmNlaXZlZCBlZmZlY3Qgb2Ygc29mdHdhcmUgZW5naW5lZXJpbmcgcHJhY3RpY2VzIGluIHRoZSBJdGFsaWFuIGluZHVzdHJ5IiwKICAgIGRpc3BsYXk9ImVnb3JvdmEiLAogICAgYXV0aG9ycz0iRXZnZW5pYSBFZ29yb3ZhIGFuZCBNYXJjbyBUb3JjaGlhbm8gYW5kIE1hdXJpemlvIE1vcmlzaW8iLAogICAgcGxhY2U9SlNTLAogICAgcHA9IjE5MDcgLSAxOTE2IiwKICAgIGVudHJ5dHlwZT0iYXJ0aWNsZSIsCiAgICB2b2x1bWU9IjgzIiwKICAgIG51bWJlcj0iMTAiLAogICAgbm90ZT0iIiwKICAgIGlzc249IjAxNjQtMTIxMiIsCiAgICBkb2k9Imh0dHBzOi8vZG9pLm9yZy8xMC4xMDE2L2ouanNzLjIwMTAuMDUuMDc3IiwKICAgIGxpbms9Imh0dHBzOi8vd3d3LnNjaWVuY2VkaXJlY3QuY29tL3NjaWVuY2UvYXJ0aWNsZS9waWkvUzAxNjQxMjEyMTAwMDE1NVgiLAogICAga2V5d29yZD0iQ2FzZZZjb250cm9sIFN0dWR5IiwKICAgIElEPSJFZ29yb3ZhMjAxMDE5MDciLAogICAgc2NpZW5jZWRpcmVjdD0iMSIsCiAgICBwbGFjZXg9IkpvdXJuYWwgb2YgU3lzdGVtcyBhbmQgU29mdHdhcmUiLAopKQonJycpOw==\"));\n",
       "    "
      ],
      "text/plain": [
       "<IPython.core.display.Javascript object>"
      ]
     },
     "metadata": {},
     "output_type": "display_data"
    },
    {
     "data": {
      "application/javascript": [
       "$('span:contains(\"# Temp\")').closest('.cell').remove();"
      ],
      "text/plain": [
       "<IPython.core.display.Javascript object>"
      ]
     },
     "metadata": {},
     "output_type": "display_data"
    },
    {
     "data": {
      "application/javascript": [
       "\n",
       "        $('span:contains(\"# Temp\")').closest('.cell').remove();\n",
       "        var code = IPython.notebook.insert_cell_below('code');\n",
       "        code.set_text(atob(\"IyBUZW1wCmluc2VydCgnJycKYW5kZXJzZW4yMDExYSA9IERCKFdvcmtVbnJlbGF0ZWQoCiAgICAyMDExLCAiVGhlIGZvcmdvdHRlbiBwcm9taXNlIG9mIGUtZ292ZXJubWVudCBtYXR1cml0eTogQXNzZXNzaW5nIHJlc3BvbnNpdmVuZXNzIGluIHRoZSBkaWdpdGFsIHB1YmxpYyBzZWN0b3IiLAogICAgZGlzcGxheT0iYW5kZXJzZW4iLAogICAgYXV0aG9ycz0iS2ltIE5vcm1hbm4gQW5kZXJzZW4gYW5kIFJvbnkgTWVkYWdsaWEgYW5kIFJhdmkgVmF0cmFwdSBhbmQgSGVsbGUgWmlubmVyIEhlbnJpa3NlbiBhbmQgUm9iaW4gR2F1bGQiLAogICAgcGxhY2U9RkFLRSwKICAgIHBwPSI0MzkgLSA0NDUiLAogICAgZW50cnl0eXBlPSJhcnRpY2xlIiwKICAgIHZvbHVtZT0iMjgiLAogICAgbnVtYmVyPSI0IiwKICAgIG5vdGU9IiIsCiAgICBpc3NuPSIwNzQwLTYyNFgiLAogICAgZG9pPSJodHRwczovL2RvaS5vcmcvMTAuMTAxNi9qLmdpcS4yMDEwLjEyLjAwNiIsCiAgICBsaW5rPSJodHRwczovL3d3dy5zY2llbmNlZGlyZWN0LmNvbS9zY2llbmNlL2FydGljbGUvcGlpL1MwNzQwNjI0WDExMDAwNTQyIiwKICAgIGtleXdvcmQ9Ik5ldyBaZWFsYW5kIiwKICAgIElEPSJBbmRlcnNlbjIwMTE0MzkiLAogICAgc2NpZW5jZWRpcmVjdD0iMSIsCiAgICBwbGFjZXg9IkdvdmVybm1lbnQgSW5mb3JtYXRpb24gUXVhcnRlcmx5IiwKKSkKJycnKTs=\"));\n",
       "    "
      ],
      "text/plain": [
       "<IPython.core.display.Javascript object>"
      ]
     },
     "metadata": {},
     "output_type": "display_data"
    },
    {
     "data": {
      "application/javascript": [
       "$('span:contains(\"# Temp\")').closest('.cell').remove();"
      ],
      "text/plain": [
       "<IPython.core.display.Javascript object>"
      ]
     },
     "metadata": {},
     "output_type": "display_data"
    },
    {
     "data": {
      "application/javascript": [
       "\n",
       "        $('span:contains(\"# Temp\")').closest('.cell').remove();\n",
       "        var code = IPython.notebook.insert_cell_below('code');\n",
       "        code.set_text(atob(\"IyBUZW1wCmluc2VydCgnJycKYW5kZXJzZW4yMDExYSA9IERCKFdvcmtVbnJlbGF0ZWQoCiAgICAyMDExLCAiVGhlIGZvcmdvdHRlbiBwcm9taXNlIG9mIGUtZ292ZXJubWVudCBtYXR1cml0eTogQXNzZXNzaW5nIHJlc3BvbnNpdmVuZXNzIGluIHRoZSBkaWdpdGFsIHB1YmxpYyBzZWN0b3IiLAogICAgZGlzcGxheT0iYW5kZXJzZW4iLAogICAgYXV0aG9ycz0iS2ltIE5vcm1hbm4gQW5kZXJzZW4gYW5kIFJvbnkgTWVkYWdsaWEgYW5kIFJhdmkgVmF0cmFwdSBhbmQgSGVsbGUgWmlubmVyIEhlbnJpa3NlbiBhbmQgUm9iaW4gR2F1bGQiLAogICAgcGxhY2U9RkFLRSwKICAgIHBwPSI0MzkgLSA0NDUiLAogICAgZW50cnl0eXBlPSJhcnRpY2xlIiwKICAgIHZvbHVtZT0iMjgiLAogICAgbnVtYmVyPSI0IiwKICAgIG5vdGU9IiIsCiAgICBpc3NuPSIwNzQwLTYyNFgiLAogICAgZG9pPSJodHRwczovL2RvaS5vcmcvMTAuMTAxNi9qLmdpcS4yMDEwLjEyLjAwNiIsCiAgICBsaW5rPSJodHRwczovL3d3dy5zY2llbmNlZGlyZWN0LmNvbS9zY2llbmNlL2FydGljbGUvcGlpL1MwNzQwNjI0WDExMDAwNTQyIiwKICAgIGtleXdvcmQ9Ik5ldyBaZWFsYW5kIiwKICAgIElEPSJBbmRlcnNlbjIwMTE0MzkiLAogICAgc2NpZW5jZWRpcmVjdD0iMSIsCiAgICBwbGFjZXg9IkdvdmVybm1lbnQgSW5mb3JtYXRpb24gUXVhcnRlcmx5IiwKKSkKJycnKTs=\"));\n",
       "    "
      ],
      "text/plain": [
       "<IPython.core.display.Javascript object>"
      ]
     },
     "metadata": {},
     "output_type": "display_data"
    },
    {
     "data": {
      "application/javascript": [
       "$('span:contains(\"# Temp\")').closest('.cell').remove();"
      ],
      "text/plain": [
       "<IPython.core.display.Javascript object>"
      ]
     },
     "metadata": {},
     "output_type": "display_data"
    },
    {
     "data": {
      "application/javascript": [
       "\n",
       "        $('span:contains(\"# Temp\")').closest('.cell').remove();\n",
       "        var code = IPython.notebook.insert_cell_below('code');\n",
       "        code.set_text(atob(\"IyBUZW1wCmluc2VydCgnJycKcGVyZWlyYTIwMDhhID0gREIoV29ya1VucmVsYXRlZCgKICAgIDIwMDgsICJXaGF0IGRvIHNvZnR3YXJlIHByYWN0aXRpb25lcnMgcmVhbGx5IHRoaW5rIGFib3V0IHByb2plY3Qgc3VjY2VzczogQSBjcm9zcy1jdWx0dXJhbCBjb21wYXJpc29uIiwKICAgIGRpc3BsYXk9InBlcmVpcmEiLAogICAgYXV0aG9ycz0iSmF2aWVyIFBlcmVpcmEgYW5kIE5hcmNpc28gQ2VycGEgYW5kIEp1bmUgVmVybmVyIGFuZCBNYXJpbyBSaXZhcyBhbmQgSi4gRHJldyBQcm9jYWNjaW5vIiwKICAgIHBsYWNlPUpTUywKICAgIHBwPSI4OTcgLSA5MDciLAogICAgZW50cnl0eXBlPSJhcnRpY2xlIiwKICAgIHZvbHVtZT0iODEiLAogICAgbnVtYmVyPSI2IiwKICAgIG5vdGU9IkFnaWxlIFByb2R1Y3QgTGluZSBFbmdpbmVlcmluZyIsCiAgICBpc3NuPSIwMTY0LTEyMTIiLAogICAgZG9pPSJodHRwczovL2RvaS5vcmcvMTAuMTAxNi9qLmpzcy4yMDA3LjA3LjAzMiIsCiAgICBsaW5rPSJodHRwczovL3d3dy5zY2llbmNlZGlyZWN0LmNvbS9zY2llbmNlL2FydGljbGUvcGlpL1MwMTY0MTIxMjA3MDAxODQ3IiwKICAgIGtleXdvcmQ9IkZyZWVkb20iLAogICAgSUQ9IlBlcmVpcmEyMDA4ODk3IiwKICAgIHNjaWVuY2VkaXJlY3Q9IjEiLAogICAgcGxhY2V4PSJKb3VybmFsIG9mIFN5c3RlbXMgYW5kIFNvZnR3YXJlIiwKKSkKJycnKTs=\"));\n",
       "    "
      ],
      "text/plain": [
       "<IPython.core.display.Javascript object>"
      ]
     },
     "metadata": {},
     "output_type": "display_data"
    },
    {
     "data": {
      "application/javascript": [
       "$('span:contains(\"# Temp\")').closest('.cell').remove();"
      ],
      "text/plain": [
       "<IPython.core.display.Javascript object>"
      ]
     },
     "metadata": {},
     "output_type": "display_data"
    },
    {
     "data": {
      "application/javascript": [
       "\n",
       "        $('span:contains(\"# Temp\")').closest('.cell').remove();\n",
       "        var code = IPython.notebook.insert_cell_below('code');\n",
       "        code.set_text(atob(\"IyBUZW1wCmluc2VydCgnJycKcGVyZWlyYTIwMDhhID0gREIoV29ya1VucmVsYXRlZCgKICAgIDIwMDgsICJXaGF0IGRvIHNvZnR3YXJlIHByYWN0aXRpb25lcnMgcmVhbGx5IHRoaW5rIGFib3V0IHByb2plY3Qgc3VjY2VzczogQSBjcm9zcy1jdWx0dXJhbCBjb21wYXJpc29uIiwKICAgIGRpc3BsYXk9InBlcmVpcmEiLAogICAgYXV0aG9ycz0iSmF2aWVyIFBlcmVpcmEgYW5kIE5hcmNpc28gQ2VycGEgYW5kIEp1bmUgVmVybmVyIGFuZCBNYXJpbyBSaXZhcyBhbmQgSi4gRHJldyBQcm9jYWNjaW5vIiwKICAgIHBsYWNlPUpTUywKICAgIHBwPSI4OTcgLSA5MDciLAogICAgZW50cnl0eXBlPSJhcnRpY2xlIiwKICAgIHZvbHVtZT0iODEiLAogICAgbnVtYmVyPSI2IiwKICAgIG5vdGU9IkFnaWxlIFByb2R1Y3QgTGluZSBFbmdpbmVlcmluZyIsCiAgICBpc3NuPSIwMTY0LTEyMTIiLAogICAgZG9pPSJodHRwczovL2RvaS5vcmcvMTAuMTAxNi9qLmpzcy4yMDA3LjA3LjAzMiIsCiAgICBsaW5rPSJodHRwczovL3d3dy5zY2llbmNlZGlyZWN0LmNvbS9zY2llbmNlL2FydGljbGUvcGlpL1MwMTY0MTIxMjA3MDAxODQ3IiwKICAgIGtleXdvcmQ9IkZyZWVkb20iLAogICAgSUQ9IlBlcmVpcmEyMDA4ODk3IiwKICAgIHNjaWVuY2VkaXJlY3Q9IjEiLAogICAgcGxhY2V4PSJKb3VybmFsIG9mIFN5c3RlbXMgYW5kIFNvZnR3YXJlIiwKKSkKJycnKTs=\"));\n",
       "    "
      ],
      "text/plain": [
       "<IPython.core.display.Javascript object>"
      ]
     },
     "metadata": {},
     "output_type": "display_data"
    },
    {
     "data": {
      "application/javascript": [
       "$('span:contains(\"# Temp\")').closest('.cell').remove();"
      ],
      "text/plain": [
       "<IPython.core.display.Javascript object>"
      ]
     },
     "metadata": {},
     "output_type": "display_data"
    },
    {
     "data": {
      "application/javascript": [
       "\n",
       "        $('span:contains(\"# Temp\")').closest('.cell').remove();\n",
       "        var code = IPython.notebook.insert_cell_below('code');\n",
       "        code.set_text(atob(\"IyBUZW1wCmluc2VydCgnJycKa2FyaHUyMDA5YSA9IERCKFdvcmtVbnJlbGF0ZWQoCiAgICAyMDA5LCAiSW52ZXN0aWdhdGluZyB0aGUgcmVsYXRpb25zaGlwIGJldHdlZW4gc2NoZWR1bGVzIGFuZCBrbm93bGVkZ2UgdHJhbnNmZXIgaW4gc29mdHdhcmUgdGVzdGluZyIsCiAgICBkaXNwbGF5PSJrYXJodSIsCiAgICBhdXRob3JzPSJLYXRqYSBLYXJodSBhbmQgT3NzaSBUYWlwYWxlIGFuZCBLYXJpIFNtb2xhbmRlciIsCiAgICBwbGFjZT1JU1QsCiAgICBwcD0iNjYzIC0gNjc3IiwKICAgIGVudHJ5dHlwZT0iYXJ0aWNsZSIsCiAgICB2b2x1bWU9IjUxIiwKICAgIG51bWJlcj0iMyIsCiAgICBub3RlPSIiLAogICAgaXNzbj0iMDk1MC01ODQ5IiwKICAgIGRvaT0iaHR0cHM6Ly9kb2kub3JnLzEwLjEwMTYvai5pbmZzb2YuMjAwOC4wOS4wMDEiLAogICAgbGluaz0iaHR0cHM6Ly93d3cuc2NpZW5jZWRpcmVjdC5jb20vc2NpZW5jZS9hcnRpY2xlL3BpaS9TMDk1MDU4NDkwODAwMTI0OSIsCiAgICBrZXl3b3JkPSJDYXNlIHN0dWR5IiwKICAgIElEPSJLYXJodTIwMDk2NjMiLAogICAgc2NpZW5jZWRpcmVjdD0iMSIsCiAgICBwbGFjZXg9IkluZm9ybWF0aW9uIGFuZCBTb2Z0d2FyZSBUZWNobm9sb2d5IiwKKSkKJycnKTs=\"));\n",
       "    "
      ],
      "text/plain": [
       "<IPython.core.display.Javascript object>"
      ]
     },
     "metadata": {},
     "output_type": "display_data"
    },
    {
     "data": {
      "application/javascript": [
       "$('span:contains(\"# Temp\")').closest('.cell').remove();"
      ],
      "text/plain": [
       "<IPython.core.display.Javascript object>"
      ]
     },
     "metadata": {},
     "output_type": "display_data"
    },
    {
     "data": {
      "application/javascript": [
       "\n",
       "        $('span:contains(\"# Temp\")').closest('.cell').remove();\n",
       "        var code = IPython.notebook.insert_cell_below('code');\n",
       "        code.set_text(atob(\"IyBUZW1wCmluc2VydCgnJycKa2FyaHUyMDA5YSA9IERCKFdvcmtVbnJlbGF0ZWQoCiAgICAyMDA5LCAiSW52ZXN0aWdhdGluZyB0aGUgcmVsYXRpb25zaGlwIGJldHdlZW4gc2NoZWR1bGVzIGFuZCBrbm93bGVkZ2UgdHJhbnNmZXIgaW4gc29mdHdhcmUgdGVzdGluZyIsCiAgICBkaXNwbGF5PSJrYXJodSIsCiAgICBhdXRob3JzPSJLYXRqYSBLYXJodSBhbmQgT3NzaSBUYWlwYWxlIGFuZCBLYXJpIFNtb2xhbmRlciIsCiAgICBwbGFjZT1JU1QsCiAgICBwcD0iNjYzIC0gNjc3IiwKICAgIGVudHJ5dHlwZT0iYXJ0aWNsZSIsCiAgICB2b2x1bWU9IjUxIiwKICAgIG51bWJlcj0iMyIsCiAgICBub3RlPSIiLAogICAgaXNzbj0iMDk1MC01ODQ5IiwKICAgIGRvaT0iaHR0cHM6Ly9kb2kub3JnLzEwLjEwMTYvai5pbmZzb2YuMjAwOC4wOS4wMDEiLAogICAgbGluaz0iaHR0cHM6Ly93d3cuc2NpZW5jZWRpcmVjdC5jb20vc2NpZW5jZS9hcnRpY2xlL3BpaS9TMDk1MDU4NDkwODAwMTI0OSIsCiAgICBrZXl3b3JkPSJDYXNlIHN0dWR5IiwKICAgIElEPSJLYXJodTIwMDk2NjMiLAogICAgc2NpZW5jZWRpcmVjdD0iMSIsCiAgICBwbGFjZXg9IkluZm9ybWF0aW9uIGFuZCBTb2Z0d2FyZSBUZWNobm9sb2d5IiwKKSkKJycnKTs=\"));\n",
       "    "
      ],
      "text/plain": [
       "<IPython.core.display.Javascript object>"
      ]
     },
     "metadata": {},
     "output_type": "display_data"
    },
    {
     "data": {
      "application/javascript": [
       "$('span:contains(\"# Temp\")').closest('.cell').remove();"
      ],
      "text/plain": [
       "<IPython.core.display.Javascript object>"
      ]
     },
     "metadata": {},
     "output_type": "display_data"
    },
    {
     "data": {
      "application/javascript": [
       "\n",
       "        $('span:contains(\"# Temp\")').closest('.cell').remove();\n",
       "        var code = IPython.notebook.insert_cell_below('code');\n",
       "        code.set_text(atob(\"IyBUZW1wCmluc2VydCgnJycKbWF4d2VsbDIwMDNhID0gREIoV29ya1VucmVsYXRlZCgKICAgIDIwMDMsICJTb2Z0d2FyZSBEZXZlbG9wbWVudCBQcm9kdWN0aXZpdHkiLAogICAgZGlzcGxheT0ibWF4d2VsbCIsCiAgICBhdXRob3JzPSJLYXRyaW5hIEQgTWF4d2VsbCIsCiAgICBwbGFjZT1GQUtFLAogICAgcHA9IjEgLSA0NiIsCiAgICBlbnRyeXR5cGU9ImluY29sbGVjdGlvbiIsCiAgICBlZGl0b3I9IiIsCiAgICBwdWJsaXNoZXI9IkVsc2V2aWVyIiwKICAgIHZvbHVtZT0iNTgiLAogICAgc2VyaWVzPSJBZHZhbmNlcyBpbiBDb21wdXRlcnMiLAogICAgaXNzbj0iMDA2NS0yNDU4IiwKICAgIGRvaT0iaHR0cHM6Ly9kb2kub3JnLzEwLjEwMTYvUzAwNjUtMjQ1OCgwMyk1ODAwMS05IiwKICAgIGxpbms9Imh0dHBzOi8vd3d3LnNjaWVuY2VkaXJlY3QuY29tL3NjaWVuY2UvYXJ0aWNsZS9waWkvUzAwNjUyNDU4MDM1ODAwMTkiLAogICAgSUQ9Ik1heHdlbGwyMDAzMSIsCiAgICBzY2llbmNlZGlyZWN0PSIxIiwKICAgIHBsYWNleD0iIiwKKSkKJycnKTs=\"));\n",
       "    "
      ],
      "text/plain": [
       "<IPython.core.display.Javascript object>"
      ]
     },
     "metadata": {},
     "output_type": "display_data"
    },
    {
     "data": {
      "application/javascript": [
       "$('span:contains(\"# Temp\")').closest('.cell').remove();"
      ],
      "text/plain": [
       "<IPython.core.display.Javascript object>"
      ]
     },
     "metadata": {},
     "output_type": "display_data"
    },
    {
     "data": {
      "application/javascript": [
       "\n",
       "        $('span:contains(\"# Temp\")').closest('.cell').remove();\n",
       "        var code = IPython.notebook.insert_cell_below('code');\n",
       "        code.set_text(atob(\"IyBUZW1wCmluc2VydCgnJycKbWF4d2VsbDIwMDNhID0gREIoV29ya1VucmVsYXRlZCgKICAgIDIwMDMsICJTb2Z0d2FyZSBEZXZlbG9wbWVudCBQcm9kdWN0aXZpdHkiLAogICAgZGlzcGxheT0ibWF4d2VsbCIsCiAgICBhdXRob3JzPSJLYXRyaW5hIEQgTWF4d2VsbCIsCiAgICBwbGFjZT1GQUtFLAogICAgcHA9IjEgLSA0NiIsCiAgICBlbnRyeXR5cGU9ImluY29sbGVjdGlvbiIsCiAgICBlZGl0b3I9IiIsCiAgICBwdWJsaXNoZXI9IkVsc2V2aWVyIiwKICAgIHZvbHVtZT0iNTgiLAogICAgc2VyaWVzPSJBZHZhbmNlcyBpbiBDb21wdXRlcnMiLAogICAgaXNzbj0iMDA2NS0yNDU4IiwKICAgIGRvaT0iaHR0cHM6Ly9kb2kub3JnLzEwLjEwMTYvUzAwNjUtMjQ1OCgwMyk1ODAwMS05IiwKICAgIGxpbms9Imh0dHBzOi8vd3d3LnNjaWVuY2VkaXJlY3QuY29tL3NjaWVuY2UvYXJ0aWNsZS9waWkvUzAwNjUyNDU4MDM1ODAwMTkiLAogICAgSUQ9Ik1heHdlbGwyMDAzMSIsCiAgICBzY2llbmNlZGlyZWN0PSIxIiwKICAgIHBsYWNleD0iIiwKKSkKJycnKTs=\"));\n",
       "    "
      ],
      "text/plain": [
       "<IPython.core.display.Javascript object>"
      ]
     },
     "metadata": {},
     "output_type": "display_data"
    },
    {
     "data": {
      "application/javascript": [
       "$('span:contains(\"# Temp\")').closest('.cell').remove();"
      ],
      "text/plain": [
       "<IPython.core.display.Javascript object>"
      ]
     },
     "metadata": {},
     "output_type": "display_data"
    },
    {
     "data": {
      "application/javascript": [
       "\n",
       "        $('span:contains(\"# Temp\")').closest('.cell').remove();\n",
       "        var code = IPython.notebook.insert_cell_below('code');\n",
       "        code.set_text(atob(\"IyBUZW1wCmluc2VydCgnJycKaWRlbjIwMTFhID0gREIoV29ya1VucmVsYXRlZCgKICAgIDIwMTEsICJQcm9ibGVtcyBpbiB0aGUgaW50ZXJwbGF5IG9mIGRldmVsb3BtZW50IGFuZCBcSVRcIG9wZXJhdGlvbnMgaW4gc3lzdGVtIGRldmVsb3BtZW50IHByb2plY3RzOiBBIERlbHBoaSBzdHVkeSBvZiBOb3J3ZWdpYW4gXElUXCBleHBlcnRzIiwKICAgIGRpc3BsYXk9ImlkZW4iLAogICAgYXV0aG9ycz0iSm9uIElkZW4gYW5kIEJq+HJuYXIgVGVzc2VtIGFuZCBUZXJvIFDkaXbkcmludGEiLAogICAgcGxhY2U9SVNULAogICAgcHA9IjM5NCAtIDQwNiIsCiAgICBlbnRyeXR5cGU9ImFydGljbGUiLAogICAgdm9sdW1lPSI1MyIsCiAgICBudW1iZXI9IjQiLAogICAgbm90ZT0iU3BlY2lhbCBzZWN0aW9uOiBTb2Z0d2FyZSBFbmdpbmVlcmluZyB0cmFjayBvZiB0aGUgMjR0aCBBbm51YWwgU3ltcG9zaXVtIG9uIEFwcGxpZWQgQ29tcHV0aW5nU29mdHdhcmUgRW5naW5lZXJpbmcgdHJhY2sgb2YgdGhlIDI0dGggQW5udWFsIFN5bXBvc2l1bSBvbiBBcHBsaWVkIENvbXB1dGluZyIsCiAgICBpc3NuPSIwOTUwLTU4NDkiLAogICAgZG9pPSJodHRwczovL2RvaS5vcmcvMTAuMTAxNi9qLmluZnNvZi4yMDEwLjEyLjAwMiIsCiAgICBsaW5rPSJodHRwczovL3d3dy5zY2llbmNlZGlyZWN0LmNvbS9zY2llbmNlL2FydGljbGUvcGlpL1MwOTUwNTg0OTEwMDAyMTdYIiwKICAgIGtleXdvcmQ9IlRoZSBEZWxwaGkgbWV0aG9kIiwKICAgIElEPSJJZGVuMjAxMTM5NCIsCiAgICBzY2llbmNlZGlyZWN0PSIxIiwKICAgIHBsYWNleD0iSW5mb3JtYXRpb24gYW5kIFNvZnR3YXJlIFRlY2hub2xvZ3kiLAopKQonJycpOw==\"));\n",
       "    "
      ],
      "text/plain": [
       "<IPython.core.display.Javascript object>"
      ]
     },
     "metadata": {},
     "output_type": "display_data"
    },
    {
     "data": {
      "application/javascript": [
       "$('span:contains(\"# Temp\")').closest('.cell').remove();"
      ],
      "text/plain": [
       "<IPython.core.display.Javascript object>"
      ]
     },
     "metadata": {},
     "output_type": "display_data"
    },
    {
     "data": {
      "application/javascript": [
       "\n",
       "        $('span:contains(\"# Temp\")').closest('.cell').remove();\n",
       "        var code = IPython.notebook.insert_cell_below('code');\n",
       "        code.set_text(atob(\"IyBUZW1wCmluc2VydCgnJycKaWRlbjIwMTFhID0gREIoV29ya1VucmVsYXRlZCgKICAgIDIwMTEsICJQcm9ibGVtcyBpbiB0aGUgaW50ZXJwbGF5IG9mIGRldmVsb3BtZW50IGFuZCBcSVRcIG9wZXJhdGlvbnMgaW4gc3lzdGVtIGRldmVsb3BtZW50IHByb2plY3RzOiBBIERlbHBoaSBzdHVkeSBvZiBOb3J3ZWdpYW4gXElUXCBleHBlcnRzIiwKICAgIGRpc3BsYXk9ImlkZW4iLAogICAgYXV0aG9ycz0iSm9uIElkZW4gYW5kIEJq+HJuYXIgVGVzc2VtIGFuZCBUZXJvIFDkaXbkcmludGEiLAogICAgcGxhY2U9SVNULAogICAgcHA9IjM5NCAtIDQwNiIsCiAgICBlbnRyeXR5cGU9ImFydGljbGUiLAogICAgdm9sdW1lPSI1MyIsCiAgICBudW1iZXI9IjQiLAogICAgbm90ZT0iU3BlY2lhbCBzZWN0aW9uOiBTb2Z0d2FyZSBFbmdpbmVlcmluZyB0cmFjayBvZiB0aGUgMjR0aCBBbm51YWwgU3ltcG9zaXVtIG9uIEFwcGxpZWQgQ29tcHV0aW5nU29mdHdhcmUgRW5naW5lZXJpbmcgdHJhY2sgb2YgdGhlIDI0dGggQW5udWFsIFN5bXBvc2l1bSBvbiBBcHBsaWVkIENvbXB1dGluZyIsCiAgICBpc3NuPSIwOTUwLTU4NDkiLAogICAgZG9pPSJodHRwczovL2RvaS5vcmcvMTAuMTAxNi9qLmluZnNvZi4yMDEwLjEyLjAwMiIsCiAgICBsaW5rPSJodHRwczovL3d3dy5zY2llbmNlZGlyZWN0LmNvbS9zY2llbmNlL2FydGljbGUvcGlpL1MwOTUwNTg0OTEwMDAyMTdYIiwKICAgIGtleXdvcmQ9IlRoZSBEZWxwaGkgbWV0aG9kIiwKICAgIElEPSJJZGVuMjAxMTM5NCIsCiAgICBzY2llbmNlZGlyZWN0PSIxIiwKICAgIHBsYWNleD0iSW5mb3JtYXRpb24gYW5kIFNvZnR3YXJlIFRlY2hub2xvZ3kiLAopKQonJycpOw==\"));\n",
       "    "
      ],
      "text/plain": [
       "<IPython.core.display.Javascript object>"
      ]
     },
     "metadata": {},
     "output_type": "display_data"
    },
    {
     "data": {
      "application/javascript": [
       "$('span:contains(\"# Temp\")').closest('.cell').remove();"
      ],
      "text/plain": [
       "<IPython.core.display.Javascript object>"
      ]
     },
     "metadata": {},
     "output_type": "display_data"
    },
    {
     "data": {
      "application/javascript": [
       "\n",
       "        $('span:contains(\"# Temp\")').closest('.cell').remove();\n",
       "        var code = IPython.notebook.insert_cell_below('code');\n",
       "        code.set_text(atob(\"IyBUZW1wCmluc2VydCgnJycKc3RlZW4yMDA3YSA9IERCKFdvcmtVbnJlbGF0ZWQoCiAgICAyMDA3LCAiUHJhY3RpY2FsIGtub3dsZWRnZSBhbmQgaXRzIGltcG9ydGFuY2UgZm9yIHNvZnR3YXJlIHByb2R1Y3QgcXVhbGl0eSIsCiAgICBkaXNwbGF5PSJzdGVlbiIsCiAgICBhdXRob3JzPSJPZGQgU3RlZW4iLAogICAgcGxhY2U9SVNULAogICAgcHA9IjYyNSAtIDYzNiIsCiAgICBlbnRyeXR5cGU9ImFydGljbGUiLAogICAgdm9sdW1lPSI0OSIsCiAgICBudW1iZXI9IjYiLAogICAgbm90ZT0iUXVhbGl0YXRpdmUgU29mdHdhcmUgRW5naW5lZXJpbmcgUmVzZWFyY2giLAogICAgaXNzbj0iMDk1MC01ODQ5IiwKICAgIGRvaT0iaHR0cHM6Ly9kb2kub3JnLzEwLjEwMTYvai5pbmZzb2YuMjAwNy4wMi4wMDYiLAogICAgbGluaz0iaHR0cHM6Ly93d3cuc2NpZW5jZWRpcmVjdC5jb20vc2NpZW5jZS9hcnRpY2xlL3BpaS9TMDk1MDU4NDkwNzAwMDEwOSIsCiAgICBrZXl3b3JkPSJQcmFjdGljYWwga25vd2xlZGdlIiwKICAgIElEPSJTdGVlbjIwMDc2MjUiLAogICAgc2NpZW5jZWRpcmVjdD0iMSIsCiAgICBwbGFjZXg9IkluZm9ybWF0aW9uIGFuZCBTb2Z0d2FyZSBUZWNobm9sb2d5IiwKKSkKJycnKTs=\"));\n",
       "    "
      ],
      "text/plain": [
       "<IPython.core.display.Javascript object>"
      ]
     },
     "metadata": {},
     "output_type": "display_data"
    },
    {
     "data": {
      "application/javascript": [
       "$('span:contains(\"# Temp\")').closest('.cell').remove();"
      ],
      "text/plain": [
       "<IPython.core.display.Javascript object>"
      ]
     },
     "metadata": {},
     "output_type": "display_data"
    },
    {
     "data": {
      "application/javascript": [
       "\n",
       "        $('span:contains(\"# Temp\")').closest('.cell').remove();\n",
       "        var code = IPython.notebook.insert_cell_below('code');\n",
       "        code.set_text(atob(\"IyBUZW1wCmluc2VydCgnJycKc3RlZW4yMDA3YSA9IERCKFdvcmtVbnJlbGF0ZWQoCiAgICAyMDA3LCAiUHJhY3RpY2FsIGtub3dsZWRnZSBhbmQgaXRzIGltcG9ydGFuY2UgZm9yIHNvZnR3YXJlIHByb2R1Y3QgcXVhbGl0eSIsCiAgICBkaXNwbGF5PSJzdGVlbiIsCiAgICBhdXRob3JzPSJPZGQgU3RlZW4iLAogICAgcGxhY2U9SVNULAogICAgcHA9IjYyNSAtIDYzNiIsCiAgICBlbnRyeXR5cGU9ImFydGljbGUiLAogICAgdm9sdW1lPSI0OSIsCiAgICBudW1iZXI9IjYiLAogICAgbm90ZT0iUXVhbGl0YXRpdmUgU29mdHdhcmUgRW5naW5lZXJpbmcgUmVzZWFyY2giLAogICAgaXNzbj0iMDk1MC01ODQ5IiwKICAgIGRvaT0iaHR0cHM6Ly9kb2kub3JnLzEwLjEwMTYvai5pbmZzb2YuMjAwNy4wMi4wMDYiLAogICAgbGluaz0iaHR0cHM6Ly93d3cuc2NpZW5jZWRpcmVjdC5jb20vc2NpZW5jZS9hcnRpY2xlL3BpaS9TMDk1MDU4NDkwNzAwMDEwOSIsCiAgICBrZXl3b3JkPSJQcmFjdGljYWwga25vd2xlZGdlIiwKICAgIElEPSJTdGVlbjIwMDc2MjUiLAogICAgc2NpZW5jZWRpcmVjdD0iMSIsCiAgICBwbGFjZXg9IkluZm9ybWF0aW9uIGFuZCBTb2Z0d2FyZSBUZWNobm9sb2d5IiwKKSkKJycnKTs=\"));\n",
       "    "
      ],
      "text/plain": [
       "<IPython.core.display.Javascript object>"
      ]
     },
     "metadata": {},
     "output_type": "display_data"
    },
    {
     "data": {
      "application/javascript": [
       "$('span:contains(\"# Temp\")').closest('.cell').remove();"
      ],
      "text/plain": [
       "<IPython.core.display.Javascript object>"
      ]
     },
     "metadata": {},
     "output_type": "display_data"
    },
    {
     "data": {
      "application/javascript": [
       "\n",
       "        $('span:contains(\"# Temp\")').closest('.cell').remove();\n",
       "        var code = IPython.notebook.insert_cell_below('code');\n",
       "        code.set_text(atob(\"IyBUZW1wCmluc2VydCgnJycKY291Y2gyMDA4YSA9IERCKFdvcmtVbnJlbGF0ZWQoCiAgICAyMDA4LCAiMS40IC0gU3lzdGVtIENvbmZpZ3VyYXRpb24gTWFuYWdlbWVudCIsCiAgICBkaXNwbGF5PSJjb3VjaCIsCiAgICBhdXRob3JzPSJBbHZhIEwuIENvdWNoIiwKICAgIHBsYWNlPUZBS0UsCiAgICBwcD0iNzUgLSAxMzMiLAogICAgZW50cnl0eXBlPSJpbmNvbGxlY3Rpb24iLAogICAgZWRpdG9yPSJCZXJnc3RyYSwgSmFuICBhbmQgQnVyZ2VzcywgTWFyayIsCiAgICBwdWJsaXNoZXI9IkVsc2V2aWVyIiwKICAgIGVkaXRpb249IiIsCiAgICBhZGRyZXNzPSJBbXN0ZXJkYW0iLAogICAgaXNibj0iOTc4LTAtNDQ0LTUyMTk4LTkiLAogICAgZG9pPSJodHRwczovL2RvaS5vcmcvMTAuMTAxNi9COTc4LTA0NDQ1MjE5OC05LjUwMDA2LTkiLAogICAgbGluaz0iaHR0cHM6Ly93d3cuc2NpZW5jZWRpcmVjdC5jb20vc2NpZW5jZS9hcnRpY2xlL3BpaS9COTc4MDQ0NDUyMTk4OTUwMDA2OSIsCiAgICBJRD0iQ291Y2gyMDA4NzUiLAogICAgc2NpZW5jZWRpcmVjdD0iMSIsCiAgICBwbGFjZXg9IkhhbmRib29rIG9mIE5ldHdvcmsgYW5kIFN5c3RlbSBBZG1pbmlzdHJhdGlvbiIsCikpCicnJyk7\"));\n",
       "    "
      ],
      "text/plain": [
       "<IPython.core.display.Javascript object>"
      ]
     },
     "metadata": {},
     "output_type": "display_data"
    },
    {
     "data": {
      "application/javascript": [
       "$('span:contains(\"# Temp\")').closest('.cell').remove();"
      ],
      "text/plain": [
       "<IPython.core.display.Javascript object>"
      ]
     },
     "metadata": {},
     "output_type": "display_data"
    },
    {
     "data": {
      "application/javascript": [
       "\n",
       "        $('span:contains(\"# Temp\")').closest('.cell').remove();\n",
       "        var code = IPython.notebook.insert_cell_below('code');\n",
       "        code.set_text(atob(\"IyBUZW1wCmluc2VydCgnJycKY291Y2gyMDA4YSA9IERCKFdvcmtVbnJlbGF0ZWQoCiAgICAyMDA4LCAiMS40IC0gU3lzdGVtIENvbmZpZ3VyYXRpb24gTWFuYWdlbWVudCIsCiAgICBkaXNwbGF5PSJjb3VjaCIsCiAgICBhdXRob3JzPSJBbHZhIEwuIENvdWNoIiwKICAgIHBsYWNlPUZBS0UsCiAgICBwcD0iNzUgLSAxMzMiLAogICAgZW50cnl0eXBlPSJpbmNvbGxlY3Rpb24iLAogICAgZWRpdG9yPSJCZXJnc3RyYSwgSmFuICBhbmQgQnVyZ2VzcywgTWFyayIsCiAgICBwdWJsaXNoZXI9IkVsc2V2aWVyIiwKICAgIGVkaXRpb249IiIsCiAgICBhZGRyZXNzPSJBbXN0ZXJkYW0iLAogICAgaXNibj0iOTc4LTAtNDQ0LTUyMTk4LTkiLAogICAgZG9pPSJodHRwczovL2RvaS5vcmcvMTAuMTAxNi9COTc4LTA0NDQ1MjE5OC05LjUwMDA2LTkiLAogICAgbGluaz0iaHR0cHM6Ly93d3cuc2NpZW5jZWRpcmVjdC5jb20vc2NpZW5jZS9hcnRpY2xlL3BpaS9COTc4MDQ0NDUyMTk4OTUwMDA2OSIsCiAgICBJRD0iQ291Y2gyMDA4NzUiLAogICAgc2NpZW5jZWRpcmVjdD0iMSIsCiAgICBwbGFjZXg9IkhhbmRib29rIG9mIE5ldHdvcmsgYW5kIFN5c3RlbSBBZG1pbmlzdHJhdGlvbiIsCikpCicnJyk7\"));\n",
       "    "
      ],
      "text/plain": [
       "<IPython.core.display.Javascript object>"
      ]
     },
     "metadata": {},
     "output_type": "display_data"
    },
    {
     "data": {
      "application/javascript": [
       "$('span:contains(\"# Temp\")').closest('.cell').remove();"
      ],
      "text/plain": [
       "<IPython.core.display.Javascript object>"
      ]
     },
     "metadata": {},
     "output_type": "display_data"
    },
    {
     "data": {
      "application/javascript": [
       "\n",
       "        $('span:contains(\"# Temp\")').closest('.cell').remove();\n",
       "        var code = IPython.notebook.insert_cell_below('code');\n",
       "        code.set_text(atob(\"IyBUZW1wCmluc2VydCgnJycKam9rZWxhMjAwNGEgPSBEQihXb3JrVW5yZWxhdGVkKAogICAgMjAwNCwgIkV2YWx1YXRpbmcgdGhlIHVzZXItY2VudHJlZG5lc3Mgb2YgZGV2ZWxvcG1lbnQgb3JnYW5pc2F0aW9uczogY29uY2x1c2lvbnMgYW5kIGltcGxpY2F0aW9ucyBmcm9tIGVtcGlyaWNhbCB1c2FiaWxpdHkgY2FwYWJpbGl0eSBtYXR1cml0eSBhc3Nlc3NtZW50cyIsCiAgICBkaXNwbGF5PSJqb2tlbGEiLAogICAgYXV0aG9ycz0iVGltbyBKb2tlbGEiLAogICAgcGxhY2U9RkFLRSwKICAgIHBwPSIxMDk1IC0gMTEzMiIsCiAgICBlbnRyeXR5cGU9ImFydGljbGUiLAogICAgdm9sdW1lPSIxNiIsCiAgICBudW1iZXI9IjYiLAogICAgbm90ZT0iIiwKICAgIGlzc249IjA5NTMtNTQzOCIsCiAgICBkb2k9Imh0dHBzOi8vZG9pLm9yZy8xMC4xMDE2L2ouaW50Y29tLjIwMDQuMDcuMDA2IiwKICAgIGxpbms9Imh0dHBzOi8vd3d3LnNjaWVuY2VkaXJlY3QuY29tL3NjaWVuY2UvYXJ0aWNsZS9waWkvUzA5NTM1NDM4MDQwMDA4MTUiLAogICAga2V5d29yZD0iVXNhYmlsaXR5IGNhcGFiaWxpdHkiLAogICAgSUQ9Ikpva2VsYTIwMDQxMDk1IiwKICAgIHNjaWVuY2VkaXJlY3Q9IjEiLAogICAgcGxhY2V4PSJJbnRlcmFjdGluZyB3aXRoIENvbXB1dGVycyIsCikpCicnJyk7\"));\n",
       "    "
      ],
      "text/plain": [
       "<IPython.core.display.Javascript object>"
      ]
     },
     "metadata": {},
     "output_type": "display_data"
    },
    {
     "data": {
      "application/javascript": [
       "$('span:contains(\"# Temp\")').closest('.cell').remove();"
      ],
      "text/plain": [
       "<IPython.core.display.Javascript object>"
      ]
     },
     "metadata": {},
     "output_type": "display_data"
    },
    {
     "data": {
      "application/javascript": [
       "\n",
       "        $('span:contains(\"# Temp\")').closest('.cell').remove();\n",
       "        var code = IPython.notebook.insert_cell_below('code');\n",
       "        code.set_text(atob(\"IyBUZW1wCmluc2VydCgnJycKam9rZWxhMjAwNGEgPSBEQihXb3JrVW5yZWxhdGVkKAogICAgMjAwNCwgIkV2YWx1YXRpbmcgdGhlIHVzZXItY2VudHJlZG5lc3Mgb2YgZGV2ZWxvcG1lbnQgb3JnYW5pc2F0aW9uczogY29uY2x1c2lvbnMgYW5kIGltcGxpY2F0aW9ucyBmcm9tIGVtcGlyaWNhbCB1c2FiaWxpdHkgY2FwYWJpbGl0eSBtYXR1cml0eSBhc3Nlc3NtZW50cyIsCiAgICBkaXNwbGF5PSJqb2tlbGEiLAogICAgYXV0aG9ycz0iVGltbyBKb2tlbGEiLAogICAgcGxhY2U9RkFLRSwKICAgIHBwPSIxMDk1IC0gMTEzMiIsCiAgICBlbnRyeXR5cGU9ImFydGljbGUiLAogICAgdm9sdW1lPSIxNiIsCiAgICBudW1iZXI9IjYiLAogICAgbm90ZT0iIiwKICAgIGlzc249IjA5NTMtNTQzOCIsCiAgICBkb2k9Imh0dHBzOi8vZG9pLm9yZy8xMC4xMDE2L2ouaW50Y29tLjIwMDQuMDcuMDA2IiwKICAgIGxpbms9Imh0dHBzOi8vd3d3LnNjaWVuY2VkaXJlY3QuY29tL3NjaWVuY2UvYXJ0aWNsZS9waWkvUzA5NTM1NDM4MDQwMDA4MTUiLAogICAga2V5d29yZD0iVXNhYmlsaXR5IGNhcGFiaWxpdHkiLAogICAgSUQ9Ikpva2VsYTIwMDQxMDk1IiwKICAgIHNjaWVuY2VkaXJlY3Q9IjEiLAogICAgcGxhY2V4PSJJbnRlcmFjdGluZyB3aXRoIENvbXB1dGVycyIsCikpCicnJyk7\"));\n",
       "    "
      ],
      "text/plain": [
       "<IPython.core.display.Javascript object>"
      ]
     },
     "metadata": {},
     "output_type": "display_data"
    }
   ],
   "source": [
    "from custom_snowballing import UnrelatedInsert\n",
    "UnrelatedInsert(\"sciencedirect\", articles=article_list)"
   ]
  },
  {
   "cell_type": "code",
   "execution_count": 114,
   "metadata": {},
   "outputs": [
    {
     "name": "stdout",
     "output_type": "stream",
     "text": [
      "-Insert: jokela2004a\n"
     ]
    }
   ],
   "source": [
    "# Temp\n",
    "insert('''\n",
    "jokela2004a = DB(WorkUnrelated(\n",
    "    2004, \"Evaluating the user-centredness of development organisations: conclusions and implications from empirical usability capability maturity assessments\",\n",
    "    display=\"jokela\",\n",
    "    authors=\"Timo Jokela\",\n",
    "    place=FAKE,\n",
    "    pp=\"1095 - 1132\",\n",
    "    entrytype=\"article\",\n",
    "    volume=\"16\",\n",
    "    number=\"6\",\n",
    "    note=\"\",\n",
    "    issn=\"0953-5438\",\n",
    "    doi=\"https://doi.org/10.1016/j.intcom.2004.07.006\",\n",
    "    link=\"https://www.sciencedirect.com/science/article/pii/S0953543804000815\",\n",
    "    keyword=\"Usability capability\",\n",
    "    ID=\"Jokela20041095\",\n",
    "    sciencedirect=\"1\",\n",
    "    placex=\"Interacting with Computers\",\n",
    "))\n",
    "''');"
   ]
  },
  {
   "cell_type": "code",
   "execution_count": null,
   "metadata": {
    "collapsed": true,
    "scrolled": false
   },
   "outputs": [],
   "source": [
    "ArticleNavigator??"
   ]
  },
  {
   "cell_type": "code",
   "execution_count": null,
   "metadata": {
    "collapsed": true
   },
   "outputs": [],
   "source": [
    "ArticleNavigator(articles=article_list)"
   ]
  }
 ],
 "metadata": {
  "kernelspec": {
   "display_name": "Python 3",
   "language": "python",
   "name": "python3"
  },
  "language_info": {
   "codemirror_mode": {
    "name": "ipython",
    "version": 3
   },
   "file_extension": ".py",
   "mimetype": "text/x-python",
   "name": "python",
   "nbconvert_exporter": "python",
   "pygments_lexer": "ipython3",
   "version": "3.6.0"
  },
  "toc": {
   "nav_menu": {
    "height": "12px",
    "width": "252px"
   },
   "number_sections": true,
   "sideBar": true,
   "skip_h1_title": false,
   "toc_cell": false,
   "toc_position": {},
   "toc_section_display": "block",
   "toc_window_display": false
  }
 },
 "nbformat": 4,
 "nbformat_minor": 2
}
