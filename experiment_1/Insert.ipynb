{
 "cells": [
  {
   "cell_type": "code",
   "execution_count": 23,
   "metadata": {
    "collapsed": true
   },
   "outputs": [],
   "source": [
    "import database\n",
    "from snowballing.operations import load_work, reload, work_by_varname\n",
    "from snowballing.snowballing import Converter\n",
    "from snowballing.snowballing import ArticleNavigator\n",
    "from snowballing.dbmanager import insert, set_attribute"
   ]
  },
  {
   "cell_type": "code",
   "execution_count": 24,
   "metadata": {
    "scrolled": false
   },
   "outputs": [
    {
     "data": {
      "application/vnd.jupyter.widget-view+json": {
       "model_id": "02258b74f1cb43e0b91cbc29720fbd42",
       "version_major": 2,
       "version_minor": 0
      },
      "text/html": [
       "<p>Failed to display Jupyter Widget of type <code>VBox</code>.</p>\n",
       "<p>\n",
       "  If you're reading this message in Jupyter Notebook or JupyterLab, it may mean\n",
       "  that the widgets JavaScript is still loading. If this message persists, it\n",
       "  likely means that the widgets JavaScript library is either not installed or\n",
       "  not enabled. See the <a href=\"https://ipywidgets.readthedocs.io/en/stable/user_install.html\">Jupyter\n",
       "  Widgets Documentation</a> for setup instructions.\n",
       "</p>\n",
       "<p>\n",
       "  If you're reading this message in another notebook frontend (for example, a static\n",
       "  rendering on GitHub or <a href=\"https://nbviewer.jupyter.org/\">NBViewer</a>),\n",
       "  it may mean that your frontend doesn't currently support widgets.\n",
       "</p>\n"
      ],
      "text/plain": [
       "VBox(children=(HBox(children=(Dropdown(options={'BibTeX': 'bibtex', 'Text': 'text', '[N] author name place other year': 'citation', 'Quoted': 'quoted'}, value='bibtex'), Button(description='Set article_list variable', style=ButtonStyle()), Label(value=''))), HBox(children=(Textarea(value='', layout=Layout(height='500px', width='50%')), Textarea(value='', layout=Layout(height='500px', width='50%'))))))"
      ]
     },
     "metadata": {},
     "output_type": "display_data"
    }
   ],
   "source": [
    "Converter(\"bibtex\")"
   ]
  },
  {
   "cell_type": "code",
   "execution_count": 25,
   "metadata": {},
   "outputs": [
    {
     "data": {
      "text/plain": [
       "20"
      ]
     },
     "execution_count": 25,
     "metadata": {},
     "output_type": "execute_result"
    }
   ],
   "source": [
    "len(article_list)"
   ]
  },
  {
   "cell_type": "code",
   "execution_count": 26,
   "metadata": {
    "collapsed": true
   },
   "outputs": [],
   "source": [
    "from snowballing.operations import reload\n",
    "reload()\n"
   ]
  },
  {
   "cell_type": "code",
   "execution_count": null,
   "metadata": {
    "collapsed": true
   },
   "outputs": [],
   "source": []
  },
  {
   "cell_type": "code",
   "execution_count": 27,
   "metadata": {},
   "outputs": [
    {
     "data": {
      "application/vnd.jupyter.widget-view+json": {
       "model_id": "e8289e546f8041378eae5e842d70079f",
       "version_major": 2,
       "version_minor": 0
      },
      "text/html": [
       "<p>Failed to display Jupyter Widget of type <code>VBox</code>.</p>\n",
       "<p>\n",
       "  If you're reading this message in Jupyter Notebook or JupyterLab, it may mean\n",
       "  that the widgets JavaScript is still loading. If this message persists, it\n",
       "  likely means that the widgets JavaScript library is either not installed or\n",
       "  not enabled. See the <a href=\"https://ipywidgets.readthedocs.io/en/stable/user_install.html\">Jupyter\n",
       "  Widgets Documentation</a> for setup instructions.\n",
       "</p>\n",
       "<p>\n",
       "  If you're reading this message in another notebook frontend (for example, a static\n",
       "  rendering on GitHub or <a href=\"https://nbviewer.jupyter.org/\">NBViewer</a>),\n",
       "  it may mean that your frontend doesn't currently support widgets.\n",
       "</p>\n"
      ],
      "text/plain": [
       "VBox(children=(HBox(children=(Button(description='Previous Article', disabled=True, icon='caret-left', style=ButtonStyle()), Button(description='Reload Article', icon='refresh', style=ButtonStyle()), Button(description='Next Article', icon='caret-right', style=ButtonStyle()))), HBox(children=(Dropdown(description='Type', index=5, options=('Work', 'WorkSnowball', 'WorkForward', 'WorkBackward', 'WorkOk', 'WorkUnrelated', 'WorkNoFile', 'WorkLang', 'Site', 'Email'), value='WorkUnrelated'), ToggleButton(value=False, description='File'))), HBox(children=(Text(value='', description='Due'), Text(value='', description='Place'))), HBox(children=(Text(value='', description='Year'), Text(value='', description='Prefix Var'))), HBox(children=(Text(value='', description='PDFPage'), Text(value='', description='Related'))), HBox(children=(Text(value='', description='Display'), Text(value='', description='Summary'))), HBox(children=(Text(value='', description='Star'), Text(value='', description='Link'))), HBox(children=(Text(value='1', description='springer'),)), HBox(children=(Button(description='Reload Article', icon='refresh', style=ButtonStyle()), IntSlider(value=0, max=19), Label(value='1/20'))), Output()))"
      ]
     },
     "metadata": {},
     "output_type": "display_data"
    },
    {
     "data": {
      "application/javascript": [
       "$('span:contains(\"# Temp\")').closest('.cell').remove();"
      ],
      "text/plain": [
       "<IPython.core.display.Javascript object>"
      ]
     },
     "metadata": {},
     "output_type": "display_data"
    },
    {
     "data": {
      "application/javascript": [
       "\n",
       "        $('span:contains(\"# Temp\")').closest('.cell').remove();\n",
       "        var code = IPython.notebook.insert_cell_below('code');\n",
       "        code.set_text(atob(\"IyBUZW1wCmluc2VydCgnJycKICAgIHNvbGluZ2VuMjAwM2EgPSBEQihXb3JrVW5yZWxhdGVkKAogICAgICAgIDIwMDMsICJQcmFjdGljYWwgR3VpZGVsaW5lcyBmb3IgTGVhcm5pbmctQmFzZWQgU29mdHdhcmUgUHJvZHVjdCBEZXZlbG9wbWVudCIsCiAgICAgICAgZGlzcGxheT0ic29saW5nZW4iLAogICAgICAgIGF1dGhvcnM9InZhbiBTb2xpbmdlbiwgUmluaQphbmQgS3VzdGVycywgUm9iCmFuZCBUcmllbmVrZW5zLCBKb3MiLAogICAgICAgIHBsYWNlPUZBS0UsCiAgICAgICAgcHA9IjI5OS0tMzE3IiwKICAgICAgICBlbnRyeXR5cGU9ImluYm9vayIsCiAgICAgICAgZWRpdG9yPSJBdXJ1bSwgQXli/GtlCmFuZCBKZWZmZXJ5LCBSb3NzCmFuZCBXb2hsaW4sIENsYWVzCmFuZCBIYW5kemljLCBNZWxpaGEiLAogICAgICAgIHB1Ymxpc2hlcj0iU3ByaW5nZXIgQmVybGluIEhlaWRlbGJlcmciLAogICAgICAgIGFkZHJlc3M9IkJlcmxpbiwgSGVpZGVsYmVyZyIsCiAgICAgICAgSUQ9InZhblNvbGluZ2VuMjAwMyIsCiAgICAgICAgc3ByaW5nZXI9IjEiLAogICAgICAgIHBsYWNleD0iTWFuYWdpbmcgU29mdHdhcmUgRW5naW5lZXJpbmcgS25vd2xlZGdlIiwKICAgICkpCicnJyk7\"));\n",
       "    "
      ],
      "text/plain": [
       "<IPython.core.display.Javascript object>"
      ]
     },
     "metadata": {},
     "output_type": "display_data"
    },
    {
     "data": {
      "application/javascript": [
       "$('span:contains(\"# Temp\")').closest('.cell').remove();"
      ],
      "text/plain": [
       "<IPython.core.display.Javascript object>"
      ]
     },
     "metadata": {},
     "output_type": "display_data"
    },
    {
     "data": {
      "application/javascript": [
       "\n",
       "        $('span:contains(\"# Temp\")').closest('.cell').remove();\n",
       "        var code = IPython.notebook.insert_cell_below('code');\n",
       "        code.set_text(atob(\"IyBUZW1wCmluc2VydCgnJycKICAgIGJlcmdtYW4yMDAxYyA9IERCKFdvcmtVbnJlbGF0ZWQoCiAgICAgICAgMjAwMSwgIlNpZ25pZmljYW50IFJlc3VsdHM6IEJlbmVmaXRzLCBDb3N0cywgYW5kIFByb2Nlc3NlcyIsCiAgICAgICAgZGlzcGxheT0iYmVyZ21hbiBjIiwKICAgICAgICBhdXRob3JzPSJCZXJnbWFuLCBMYXJzIiwKICAgICAgICBwbGFjZT1GQUtFLAogICAgICAgIHBwPSIzMDUtLTMyNyIsCiAgICAgICAgZW50cnl0eXBlPSJpbmJvb2siLAogICAgICAgIGVkaXRvcj0iSGF1ZywgTWljaGFlbAphbmQgT2xzZW4sIEVyaWMgVy4KYW5kIEJlcmdtYW4sIExhcnMiLAogICAgICAgIHB1Ymxpc2hlcj0iU3ByaW5nZXIgQmVybGluIEhlaWRlbGJlcmciLAogICAgICAgIGFkZHJlc3M9IkJlcmxpbiwgSGVpZGVsYmVyZyIsCiAgICAgICAgSUQ9IkJlcmdtYW4yMDAxIiwKICAgICAgICBzcHJpbmdlcj0iMSIsCiAgICAgICAgcGxhY2V4PSJTb2Z0d2FyZSBQcm9jZXNzIEltcHJvdmVtZW50OiBNZXRyaWNzLCBNZWFzdXJlbWVudCwgYW5kIFByb2Nlc3MgTW9kZWxsaW5nOiBTb2Z0d2FyZSBCZXN0IFByYWN0aWNlIDQiLAogICAgKSkKJycnKTs=\"));\n",
       "    "
      ],
      "text/plain": [
       "<IPython.core.display.Javascript object>"
      ]
     },
     "metadata": {},
     "output_type": "display_data"
    },
    {
     "data": {
      "application/javascript": [
       "$('span:contains(\"# Temp\")').closest('.cell').remove();"
      ],
      "text/plain": [
       "<IPython.core.display.Javascript object>"
      ]
     },
     "metadata": {},
     "output_type": "display_data"
    },
    {
     "data": {
      "application/javascript": [
       "\n",
       "        $('span:contains(\"# Temp\")').closest('.cell').remove();\n",
       "        var code = IPython.notebook.insert_cell_below('code');\n",
       "        code.set_text(atob(\"IyBUZW1wCmluc2VydCgnJycKICAgIGJlcmdtYW4yMDAxYyA9IERCKFdvcmtVbnJlbGF0ZWQoCiAgICAgICAgMjAwMSwgIlNpZ25pZmljYW50IFJlc3VsdHM6IEJlbmVmaXRzLCBDb3N0cywgYW5kIFByb2Nlc3NlcyIsCiAgICAgICAgZGlzcGxheT0iYmVyZ21hbiBjIiwKICAgICAgICBhdXRob3JzPSJCZXJnbWFuLCBMYXJzIiwKICAgICAgICBwbGFjZT1GQUtFLAogICAgICAgIHBwPSIzMDUtLTMyNyIsCiAgICAgICAgZW50cnl0eXBlPSJpbmJvb2siLAogICAgICAgIGVkaXRvcj0iSGF1ZywgTWljaGFlbAphbmQgT2xzZW4sIEVyaWMgVy4KYW5kIEJlcmdtYW4sIExhcnMiLAogICAgICAgIHB1Ymxpc2hlcj0iU3ByaW5nZXIgQmVybGluIEhlaWRlbGJlcmciLAogICAgICAgIGFkZHJlc3M9IkJlcmxpbiwgSGVpZGVsYmVyZyIsCiAgICAgICAgSUQ9IkJlcmdtYW4yMDAxIiwKICAgICAgICBzcHJpbmdlcj0iMSIsCiAgICAgICAgcGxhY2V4PSJTb2Z0d2FyZSBQcm9jZXNzIEltcHJvdmVtZW50OiBNZXRyaWNzLCBNZWFzdXJlbWVudCwgYW5kIFByb2Nlc3MgTW9kZWxsaW5nOiBTb2Z0d2FyZSBCZXN0IFByYWN0aWNlIDQiLAogICAgKSkKJycnKTs=\"));\n",
       "    "
      ],
      "text/plain": [
       "<IPython.core.display.Javascript object>"
      ]
     },
     "metadata": {},
     "output_type": "display_data"
    },
    {
     "data": {
      "application/javascript": [
       "$('span:contains(\"# Temp\")').closest('.cell').remove();"
      ],
      "text/plain": [
       "<IPython.core.display.Javascript object>"
      ]
     },
     "metadata": {},
     "output_type": "display_data"
    },
    {
     "data": {
      "application/javascript": [
       "\n",
       "        $('span:contains(\"# Temp\")').closest('.cell').remove();\n",
       "        var code = IPython.notebook.insert_cell_below('code');\n",
       "        code.set_text(atob(\"IyBUZW1wCmluc2VydCgnJycKICAgIGZlcnJhcmkyMDEwYSA9IERCKFdvcmtVbnJlbGF0ZWQoCiAgICAgICAgMjAxMCwgIkEgY29udHJvbGxlZCBleHBlcmltZW50IHRvIGFzc2VzcyB0aGUgaW1wYWN0IG9mIHN5c3RlbSBhcmNoaXRlY3R1cmVzIG9uIG5ldyBzeXN0ZW0gcmVxdWlyZW1lbnRzIiwKICAgICAgICBkaXNwbGF5PSJmZXJyYXJpIiwKICAgICAgICBhdXRob3JzPSJGZXJyYXJpLCBSZW1vCmFuZCBNaWxsZXIsIEphbWVzIEEuCmFuZCBNYWRoYXZqaSwgTmF6aW0gSC4iLAogICAgICAgIHBsYWNlPUZBS0UsCiAgICAgICAgcHA9IjIxNS0tMjMzIiwKICAgICAgICBlbnRyeXR5cGU9ImFydGljbGUiLAogICAgICAgIG1vbnRoPSJKdW4iLAogICAgICAgIGRheT0iMDEiLAogICAgICAgIHZvbHVtZT0iMTUiLAogICAgICAgIG51bWJlcj0iMiIsCiAgICAgICAgSUQ9IkZlcnJhcmkyMDEwIiwKICAgICAgICBzcHJpbmdlcj0iMSIsCiAgICAgICAgcGxhY2V4PSJSZXF1aXJlbWVudHMgRW5naW5lZXJpbmciLAogICAgKSkKJycnKTs=\"));\n",
       "    "
      ],
      "text/plain": [
       "<IPython.core.display.Javascript object>"
      ]
     },
     "metadata": {},
     "output_type": "display_data"
    },
    {
     "data": {
      "application/javascript": [
       "$('span:contains(\"# Temp\")').closest('.cell').remove();"
      ],
      "text/plain": [
       "<IPython.core.display.Javascript object>"
      ]
     },
     "metadata": {},
     "output_type": "display_data"
    },
    {
     "data": {
      "application/javascript": [
       "\n",
       "        $('span:contains(\"# Temp\")').closest('.cell').remove();\n",
       "        var code = IPython.notebook.insert_cell_below('code');\n",
       "        code.set_text(atob(\"IyBUZW1wCmluc2VydCgnJycKICAgIGZlcnJhcmkyMDEwYSA9IERCKFdvcmtVbnJlbGF0ZWQoCiAgICAgICAgMjAxMCwgIkEgY29udHJvbGxlZCBleHBlcmltZW50IHRvIGFzc2VzcyB0aGUgaW1wYWN0IG9mIHN5c3RlbSBhcmNoaXRlY3R1cmVzIG9uIG5ldyBzeXN0ZW0gcmVxdWlyZW1lbnRzIiwKICAgICAgICBkaXNwbGF5PSJmZXJyYXJpIiwKICAgICAgICBhdXRob3JzPSJGZXJyYXJpLCBSZW1vCmFuZCBNaWxsZXIsIEphbWVzIEEuCmFuZCBNYWRoYXZqaSwgTmF6aW0gSC4iLAogICAgICAgIHBsYWNlPUZBS0UsCiAgICAgICAgcHA9IjIxNS0tMjMzIiwKICAgICAgICBlbnRyeXR5cGU9ImFydGljbGUiLAogICAgICAgIG1vbnRoPSJKdW4iLAogICAgICAgIGRheT0iMDEiLAogICAgICAgIHZvbHVtZT0iMTUiLAogICAgICAgIG51bWJlcj0iMiIsCiAgICAgICAgSUQ9IkZlcnJhcmkyMDEwIiwKICAgICAgICBzcHJpbmdlcj0iMSIsCiAgICAgICAgcGxhY2V4PSJSZXF1aXJlbWVudHMgRW5naW5lZXJpbmciLAogICAgKSkKJycnKTs=\"));\n",
       "    "
      ],
      "text/plain": [
       "<IPython.core.display.Javascript object>"
      ]
     },
     "metadata": {},
     "output_type": "display_data"
    },
    {
     "data": {
      "application/javascript": [
       "$('span:contains(\"# Temp\")').closest('.cell').remove();"
      ],
      "text/plain": [
       "<IPython.core.display.Javascript object>"
      ]
     },
     "metadata": {},
     "output_type": "display_data"
    },
    {
     "data": {
      "application/javascript": [
       "\n",
       "        $('span:contains(\"# Temp\")').closest('.cell').remove();\n",
       "        var code = IPython.notebook.insert_cell_below('code');\n",
       "        code.set_text(atob(\"IyBUZW1wCmluc2VydCgnJycKICAgIGRpaXJyMjAxNGEgPSBEQihXb3JrVW5yZWxhdGVkKAogICAgICAgIDIwMTQsICJJbXByb3ZlbWVudCBvZiBJVCBzZXJ2aWNlIHByb2Nlc3NlczogYSBzdHVkeSBvZiBjcml0aWNhbCBzdWNjZXNzIGZhY3RvcnMiLAogICAgICAgIGRpc3BsYXk9ImRpaXJyIiwKICAgICAgICBhdXRob3JzPSJEaWlyciwgVGhhe2k/fXNzYQphbmQgU2FudG9zLCBHbGVpc29uIiwKICAgICAgICBwbGFjZT1GQUtFLAogICAgICAgIHBwPSI0IiwKICAgICAgICBlbnRyeXR5cGU9ImFydGljbGUiLAogICAgICAgIG1vbnRoPSJNYXkiLAogICAgICAgIGRheT0iMTUiLAogICAgICAgIHZvbHVtZT0iMiIsCiAgICAgICAgbnVtYmVyPSIxIiwKICAgICAgICBJRD0iRGlpcnIyMDE0IiwKICAgICAgICBzcHJpbmdlcj0iMSIsCiAgICAgICAgcGxhY2V4PSJKb3VybmFsIG9mIFNvZnR3YXJlIEVuZ2luZWVyaW5nIFJlc2VhcmNoIGFuZCBEZXZlbG9wbWVudCIsCiAgICApKQonJycpOw==\"));\n",
       "    "
      ],
      "text/plain": [
       "<IPython.core.display.Javascript object>"
      ]
     },
     "metadata": {},
     "output_type": "display_data"
    },
    {
     "data": {
      "application/javascript": [
       "$('span:contains(\"# Temp\")').closest('.cell').remove();"
      ],
      "text/plain": [
       "<IPython.core.display.Javascript object>"
      ]
     },
     "metadata": {},
     "output_type": "display_data"
    },
    {
     "data": {
      "application/javascript": [
       "\n",
       "        $('span:contains(\"# Temp\")').closest('.cell').remove();\n",
       "        var code = IPython.notebook.insert_cell_below('code');\n",
       "        code.set_text(atob(\"IyBUZW1wCmluc2VydCgnJycKICAgIGRpaXJyMjAxNGEgPSBEQihXb3JrVW5yZWxhdGVkKAogICAgICAgIDIwMTQsICJJbXByb3ZlbWVudCBvZiBJVCBzZXJ2aWNlIHByb2Nlc3NlczogYSBzdHVkeSBvZiBjcml0aWNhbCBzdWNjZXNzIGZhY3RvcnMiLAogICAgICAgIGRpc3BsYXk9ImRpaXJyIiwKICAgICAgICBhdXRob3JzPSJEaWlyciwgVGhhe2k/fXNzYQphbmQgU2FudG9zLCBHbGVpc29uIiwKICAgICAgICBwbGFjZT1GQUtFLAogICAgICAgIHBwPSI0IiwKICAgICAgICBlbnRyeXR5cGU9ImFydGljbGUiLAogICAgICAgIG1vbnRoPSJNYXkiLAogICAgICAgIGRheT0iMTUiLAogICAgICAgIHZvbHVtZT0iMiIsCiAgICAgICAgbnVtYmVyPSIxIiwKICAgICAgICBJRD0iRGlpcnIyMDE0IiwKICAgICAgICBzcHJpbmdlcj0iMSIsCiAgICAgICAgcGxhY2V4PSJKb3VybmFsIG9mIFNvZnR3YXJlIEVuZ2luZWVyaW5nIFJlc2VhcmNoIGFuZCBEZXZlbG9wbWVudCIsCiAgICApKQonJycpOw==\"));\n",
       "    "
      ],
      "text/plain": [
       "<IPython.core.display.Javascript object>"
      ]
     },
     "metadata": {},
     "output_type": "display_data"
    },
    {
     "data": {
      "application/javascript": [
       "$('span:contains(\"# Temp\")').closest('.cell').remove();"
      ],
      "text/plain": [
       "<IPython.core.display.Javascript object>"
      ]
     },
     "metadata": {},
     "output_type": "display_data"
    },
    {
     "data": {
      "application/javascript": [
       "\n",
       "        $('span:contains(\"# Temp\")').closest('.cell').remove();\n",
       "        var code = IPython.notebook.insert_cell_below('code');\n",
       "        code.set_text(atob(\"IyBUZW1wCmluc2VydCgnJycKICAgIGRhcmFtb2xhMjAxMGEgPSBEQihXb3JrVW5yZWxhdGVkKAogICAgICAgIDIwMTAsICJBIFByb2Nlc3MgRnJhbWV3b3JrIGZvciBTZW1hbnRpY3MtQXdhcmUgVG91cmlzbSBJbmZvcm1hdGlvbiBTeXN0ZW1zIiwKICAgICAgICBkaXNwbGF5PSJkYXJhbW9sYSIsCiAgICAgICAgYXV0aG9ycz0iRGFyYW1vbGEsIE9sYXdhbmRlIEouIiwKICAgICAgICBwbGFjZT1GQUtFLAogICAgICAgIHBwPSI1MjEtLTUzMiIsCiAgICAgICAgZW50cnl0eXBlPSJpbnByb2NlZWRpbmdzIiwKICAgICAgICBlZGl0b3I9IkRhbmllbCwgRmxvcmlhbgphbmQgRmFjY2EsIEZlZGVyaWNvIE1pY2hlbGUiLAogICAgICAgIHB1Ymxpc2hlcj0iU3ByaW5nZXIgQmVybGluIEhlaWRlbGJlcmciLAogICAgICAgIGFkZHJlc3M9IkJlcmxpbiwgSGVpZGVsYmVyZyIsCiAgICAgICAgSUQ9IjEwLjEwMDcvOTc4LTMtNjQyLTE2OTg1LTRfNTAiLAogICAgICAgIHNwcmluZ2VyPSIxIiwKICAgICAgICBwbGFjZXg9IkN1cnJlbnQgVHJlbmRzIGluIFdlYiBFbmdpbmVlcmluZyIsCiAgICApKQonJycpOw==\"));\n",
       "    "
      ],
      "text/plain": [
       "<IPython.core.display.Javascript object>"
      ]
     },
     "metadata": {},
     "output_type": "display_data"
    },
    {
     "data": {
      "application/javascript": [
       "$('span:contains(\"# Temp\")').closest('.cell').remove();"
      ],
      "text/plain": [
       "<IPython.core.display.Javascript object>"
      ]
     },
     "metadata": {},
     "output_type": "display_data"
    },
    {
     "data": {
      "application/javascript": [
       "\n",
       "        $('span:contains(\"# Temp\")').closest('.cell').remove();\n",
       "        var code = IPython.notebook.insert_cell_below('code');\n",
       "        code.set_text(atob(\"IyBUZW1wCmluc2VydCgnJycKICAgIGRhcmFtb2xhMjAxMGEgPSBEQihXb3JrVW5yZWxhdGVkKAogICAgICAgIDIwMTAsICJBIFByb2Nlc3MgRnJhbWV3b3JrIGZvciBTZW1hbnRpY3MtQXdhcmUgVG91cmlzbSBJbmZvcm1hdGlvbiBTeXN0ZW1zIiwKICAgICAgICBkaXNwbGF5PSJkYXJhbW9sYSIsCiAgICAgICAgYXV0aG9ycz0iRGFyYW1vbGEsIE9sYXdhbmRlIEouIiwKICAgICAgICBwbGFjZT1GQUtFLAogICAgICAgIHBwPSI1MjEtLTUzMiIsCiAgICAgICAgZW50cnl0eXBlPSJpbnByb2NlZWRpbmdzIiwKICAgICAgICBlZGl0b3I9IkRhbmllbCwgRmxvcmlhbgphbmQgRmFjY2EsIEZlZGVyaWNvIE1pY2hlbGUiLAogICAgICAgIHB1Ymxpc2hlcj0iU3ByaW5nZXIgQmVybGluIEhlaWRlbGJlcmciLAogICAgICAgIGFkZHJlc3M9IkJlcmxpbiwgSGVpZGVsYmVyZyIsCiAgICAgICAgSUQ9IjEwLjEwMDcvOTc4LTMtNjQyLTE2OTg1LTRfNTAiLAogICAgICAgIHNwcmluZ2VyPSIxIiwKICAgICAgICBwbGFjZXg9IkN1cnJlbnQgVHJlbmRzIGluIFdlYiBFbmdpbmVlcmluZyIsCiAgICApKQonJycpOw==\"));\n",
       "    "
      ],
      "text/plain": [
       "<IPython.core.display.Javascript object>"
      ]
     },
     "metadata": {},
     "output_type": "display_data"
    },
    {
     "data": {
      "application/javascript": [
       "$('span:contains(\"# Temp\")').closest('.cell').remove();"
      ],
      "text/plain": [
       "<IPython.core.display.Javascript object>"
      ]
     },
     "metadata": {},
     "output_type": "display_data"
    },
    {
     "data": {
      "application/javascript": [
       "\n",
       "        $('span:contains(\"# Temp\")').closest('.cell').remove();\n",
       "        var code = IPython.notebook.insert_cell_below('code');\n",
       "        code.set_text(atob(\"IyBUZW1wCmluc2VydCgnJycKICAgIGthdXBwaW5lbjIwMDFhID0gREIoV29ya1VucmVsYXRlZCgKICAgICAgICAyMDAxLCAiU3RhcnRpbmcgSW1wcm92ZW1lbnQgb2YgUmVxdWlyZW1lbnRzIEVuZ2luZWVyaW5nIFByb2Nlc3NlczogQW4gRXhwZXJpZW5jZSBSZXBvcnQiLAogICAgICAgIGRpc3BsYXk9ImthdXBwaW5lbiIsCiAgICAgICAgYXV0aG9ycz0iS2F1cHBpbmVuLCBNYXJqbwphbmQgS3VqYWxhLCBTYXJpIiwKICAgICAgICBwbGFjZT1QUk9GRVMsCiAgICAgICAgcHA9IjE5Ni0tMjA5IiwKICAgICAgICBlbnRyeXR5cGU9ImlucHJvY2VlZGluZ3MiLAogICAgICAgIGVkaXRvcj0iQm9tYXJpdXMsIEZyYW5rCmFuZCBLb21pLVNpcnZp9iwgU2VpamEiLAogICAgICAgIHB1Ymxpc2hlcj0iU3ByaW5nZXIgQmVybGluIEhlaWRlbGJlcmciLAogICAgICAgIGFkZHJlc3M9IkJlcmxpbiwgSGVpZGVsYmVyZyIsCiAgICAgICAgSUQ9IjEwLjEwMDcvMy01NDAtNDQ4MTMtNl8xOSIsCiAgICAgICAgc3ByaW5nZXI9IjEiLAogICAgICAgIHBsYWNleD0iUHJvZHVjdCBGb2N1c2VkIFNvZnR3YXJlIFByb2Nlc3MgSW1wcm92ZW1lbnQiLAogICAgKSkKJycnKTs=\"));\n",
       "    "
      ],
      "text/plain": [
       "<IPython.core.display.Javascript object>"
      ]
     },
     "metadata": {},
     "output_type": "display_data"
    },
    {
     "data": {
      "application/javascript": [
       "$('span:contains(\"# Temp\")').closest('.cell').remove();"
      ],
      "text/plain": [
       "<IPython.core.display.Javascript object>"
      ]
     },
     "metadata": {},
     "output_type": "display_data"
    },
    {
     "data": {
      "application/javascript": [
       "\n",
       "        $('span:contains(\"# Temp\")').closest('.cell').remove();\n",
       "        var code = IPython.notebook.insert_cell_below('code');\n",
       "        code.set_text(atob(\"IyBUZW1wCmluc2VydCgnJycKICAgIGthdXBwaW5lbjIwMDFhID0gREIoV29ya1VucmVsYXRlZCgKICAgICAgICAyMDAxLCAiU3RhcnRpbmcgSW1wcm92ZW1lbnQgb2YgUmVxdWlyZW1lbnRzIEVuZ2luZWVyaW5nIFByb2Nlc3NlczogQW4gRXhwZXJpZW5jZSBSZXBvcnQiLAogICAgICAgIGRpc3BsYXk9ImthdXBwaW5lbiIsCiAgICAgICAgYXV0aG9ycz0iS2F1cHBpbmVuLCBNYXJqbwphbmQgS3VqYWxhLCBTYXJpIiwKICAgICAgICBwbGFjZT1QUk9GRVMsCiAgICAgICAgcHA9IjE5Ni0tMjA5IiwKICAgICAgICBlbnRyeXR5cGU9ImlucHJvY2VlZGluZ3MiLAogICAgICAgIGVkaXRvcj0iQm9tYXJpdXMsIEZyYW5rCmFuZCBLb21pLVNpcnZp9iwgU2VpamEiLAogICAgICAgIHB1Ymxpc2hlcj0iU3ByaW5nZXIgQmVybGluIEhlaWRlbGJlcmciLAogICAgICAgIGFkZHJlc3M9IkJlcmxpbiwgSGVpZGVsYmVyZyIsCiAgICAgICAgSUQ9IjEwLjEwMDcvMy01NDAtNDQ4MTMtNl8xOSIsCiAgICAgICAgc3ByaW5nZXI9IjEiLAogICAgICAgIHBsYWNleD0iUHJvZHVjdCBGb2N1c2VkIFNvZnR3YXJlIFByb2Nlc3MgSW1wcm92ZW1lbnQiLAogICAgKSkKJycnKTs=\"));\n",
       "    "
      ],
      "text/plain": [
       "<IPython.core.display.Javascript object>"
      ]
     },
     "metadata": {},
     "output_type": "display_data"
    },
    {
     "data": {
      "application/javascript": [
       "$('span:contains(\"# Temp\")').closest('.cell').remove();"
      ],
      "text/plain": [
       "<IPython.core.display.Javascript object>"
      ]
     },
     "metadata": {},
     "output_type": "display_data"
    },
    {
     "data": {
      "application/javascript": [
       "\n",
       "        $('span:contains(\"# Temp\")').closest('.cell').remove();\n",
       "        var code = IPython.notebook.insert_cell_below('code');\n",
       "        code.set_text(atob(\"IyBUZW1wCmluc2VydCgnJycKICAgIGJlcmdtYW4yMDAxZCA9IERCKFdvcmtVbnJlbGF0ZWQoCiAgICAgICAgMjAwMSwgIlBlcnNwZWN0aXZlcyIsCiAgICAgICAgZGlzcGxheT0iYmVyZ21hbiBkIiwKICAgICAgICBhdXRob3JzPSJCZXJnbWFuLCBMYXJzCmFuZCBGZW50b24sIE5vcm1hbgphbmQgVmVyZPpuLCBKb3PpIEQuIENhcnJpbGxvCmFuZCBPcmNpLCBUZXJ0dHUiLAogICAgICAgIHBsYWNlPUZBS0UsCiAgICAgICAgcHA9IjMzLS04MSIsCiAgICAgICAgZW50cnl0eXBlPSJpbmJvb2siLAogICAgICAgIGVkaXRvcj0iSGF1ZywgTWljaGFlbAphbmQgT2xzZW4sIEVyaWMgVy4KYW5kIEJlcmdtYW4sIExhcnMiLAogICAgICAgIHB1Ymxpc2hlcj0iU3ByaW5nZXIgQmVybGluIEhlaWRlbGJlcmciLAogICAgICAgIGFkZHJlc3M9IkJlcmxpbiwgSGVpZGVsYmVyZyIsCiAgICAgICAgSUQ9IkJlcmdtYW4yMDAxIiwKICAgICAgICBzcHJpbmdlcj0iMSIsCiAgICAgICAgcGxhY2V4PSJTb2Z0d2FyZSBQcm9jZXNzIEltcHJvdmVtZW50OiBNZXRyaWNzLCBNZWFzdXJlbWVudCwgYW5kIFByb2Nlc3MgTW9kZWxsaW5nOiBTb2Z0d2FyZSBCZXN0IFByYWN0aWNlIDQiLAogICAgKSkKJycnKTs=\"));\n",
       "    "
      ],
      "text/plain": [
       "<IPython.core.display.Javascript object>"
      ]
     },
     "metadata": {},
     "output_type": "display_data"
    },
    {
     "data": {
      "application/javascript": [
       "$('span:contains(\"# Temp\")').closest('.cell').remove();"
      ],
      "text/plain": [
       "<IPython.core.display.Javascript object>"
      ]
     },
     "metadata": {},
     "output_type": "display_data"
    },
    {
     "data": {
      "application/javascript": [
       "\n",
       "        $('span:contains(\"# Temp\")').closest('.cell').remove();\n",
       "        var code = IPython.notebook.insert_cell_below('code');\n",
       "        code.set_text(atob(\"IyBUZW1wCmluc2VydCgnJycKICAgIGJlcmdtYW4yMDAxZCA9IERCKFdvcmtVbnJlbGF0ZWQoCiAgICAgICAgMjAwMSwgIlBlcnNwZWN0aXZlcyIsCiAgICAgICAgZGlzcGxheT0iYmVyZ21hbiBkIiwKICAgICAgICBhdXRob3JzPSJCZXJnbWFuLCBMYXJzCmFuZCBGZW50b24sIE5vcm1hbgphbmQgVmVyZPpuLCBKb3PpIEQuIENhcnJpbGxvCmFuZCBPcmNpLCBUZXJ0dHUiLAogICAgICAgIHBsYWNlPUZBS0UsCiAgICAgICAgcHA9IjMzLS04MSIsCiAgICAgICAgZW50cnl0eXBlPSJpbmJvb2siLAogICAgICAgIGVkaXRvcj0iSGF1ZywgTWljaGFlbAphbmQgT2xzZW4sIEVyaWMgVy4KYW5kIEJlcmdtYW4sIExhcnMiLAogICAgICAgIHB1Ymxpc2hlcj0iU3ByaW5nZXIgQmVybGluIEhlaWRlbGJlcmciLAogICAgICAgIGFkZHJlc3M9IkJlcmxpbiwgSGVpZGVsYmVyZyIsCiAgICAgICAgSUQ9IkJlcmdtYW4yMDAxIiwKICAgICAgICBzcHJpbmdlcj0iMSIsCiAgICAgICAgcGxhY2V4PSJTb2Z0d2FyZSBQcm9jZXNzIEltcHJvdmVtZW50OiBNZXRyaWNzLCBNZWFzdXJlbWVudCwgYW5kIFByb2Nlc3MgTW9kZWxsaW5nOiBTb2Z0d2FyZSBCZXN0IFByYWN0aWNlIDQiLAogICAgKSkKJycnKTs=\"));\n",
       "    "
      ],
      "text/plain": [
       "<IPython.core.display.Javascript object>"
      ]
     },
     "metadata": {},
     "output_type": "display_data"
    },
    {
     "data": {
      "application/javascript": [
       "$('span:contains(\"# Temp\")').closest('.cell').remove();"
      ],
      "text/plain": [
       "<IPython.core.display.Javascript object>"
      ]
     },
     "metadata": {},
     "output_type": "display_data"
    },
    {
     "data": {
      "application/javascript": [
       "\n",
       "        $('span:contains(\"# Temp\")').closest('.cell').remove();\n",
       "        var code = IPython.notebook.insert_cell_below('code');\n",
       "        code.set_text(atob(\"IyBUZW1wCmluc2VydCgnJycKICAgIGxpbmRlbjIwMDRhID0gREIoV29ya1VucmVsYXRlZCgKICAgICAgICAyMDA0LCAiU29mdHdhcmUgUHJvZHVjdCBGYW1pbHkgRXZhbHVhdGlvbiIsCiAgICAgICAgZGlzcGxheT0ibGluZGVuIiwKICAgICAgICBhdXRob3JzPSJ2YW4gZGVyIExpbmRlbiwgRnJhbmsKYW5kIEJvc2NoLCBKYW4KYW5kIEthbXN0aWVzLCBFcmlrCmFuZCBL5G5z5GzkLCBLYXJpCmFuZCBLcnphbmlrLCBMZWNoCmFuZCBPYmJpbmssIEhlbmsiLAogICAgICAgIHBsYWNlPUZBS0UsCiAgICAgICAgcHA9IjM1Mi0tMzY5IiwKICAgICAgICBlbnRyeXR5cGU9ImlucHJvY2VlZGluZ3MiLAogICAgICAgIGVkaXRvcj0idmFuIGRlciBMaW5kZW4sIEZyYW5rIEouIiwKICAgICAgICBwdWJsaXNoZXI9IlNwcmluZ2VyIEJlcmxpbiBIZWlkZWxiZXJnIiwKICAgICAgICBhZGRyZXNzPSJCZXJsaW4sIEhlaWRlbGJlcmciLAogICAgICAgIElEPSIxMC4xMDA3Lzk3OC0zLTU0MC0yNDY2Ny0xXzI3IiwKICAgICAgICBzcHJpbmdlcj0iMSIsCiAgICAgICAgcGxhY2V4PSJTb2Z0d2FyZSBQcm9kdWN0LUZhbWlseSBFbmdpbmVlcmluZyIsCiAgICApKQonJycpOw==\"));\n",
       "    "
      ],
      "text/plain": [
       "<IPython.core.display.Javascript object>"
      ]
     },
     "metadata": {},
     "output_type": "display_data"
    },
    {
     "data": {
      "application/javascript": [
       "$('span:contains(\"# Temp\")').closest('.cell').remove();"
      ],
      "text/plain": [
       "<IPython.core.display.Javascript object>"
      ]
     },
     "metadata": {},
     "output_type": "display_data"
    },
    {
     "data": {
      "application/javascript": [
       "\n",
       "        $('span:contains(\"# Temp\")').closest('.cell').remove();\n",
       "        var code = IPython.notebook.insert_cell_below('code');\n",
       "        code.set_text(atob(\"IyBUZW1wCmluc2VydCgnJycKICAgIGxpbmRlbjIwMDRhID0gREIoV29ya1VucmVsYXRlZCgKICAgICAgICAyMDA0LCAiU29mdHdhcmUgUHJvZHVjdCBGYW1pbHkgRXZhbHVhdGlvbiIsCiAgICAgICAgZGlzcGxheT0ibGluZGVuIiwKICAgICAgICBhdXRob3JzPSJ2YW4gZGVyIExpbmRlbiwgRnJhbmsKYW5kIEJvc2NoLCBKYW4KYW5kIEthbXN0aWVzLCBFcmlrCmFuZCBL5G5z5GzkLCBLYXJpCmFuZCBLcnphbmlrLCBMZWNoCmFuZCBPYmJpbmssIEhlbmsiLAogICAgICAgIHBsYWNlPUZBS0UsCiAgICAgICAgcHA9IjM1Mi0tMzY5IiwKICAgICAgICBlbnRyeXR5cGU9ImlucHJvY2VlZGluZ3MiLAogICAgICAgIGVkaXRvcj0idmFuIGRlciBMaW5kZW4sIEZyYW5rIEouIiwKICAgICAgICBwdWJsaXNoZXI9IlNwcmluZ2VyIEJlcmxpbiBIZWlkZWxiZXJnIiwKICAgICAgICBhZGRyZXNzPSJCZXJsaW4sIEhlaWRlbGJlcmciLAogICAgICAgIElEPSIxMC4xMDA3Lzk3OC0zLTU0MC0yNDY2Ny0xXzI3IiwKICAgICAgICBzcHJpbmdlcj0iMSIsCiAgICAgICAgcGxhY2V4PSJTb2Z0d2FyZSBQcm9kdWN0LUZhbWlseSBFbmdpbmVlcmluZyIsCiAgICApKQonJycpOw==\"));\n",
       "    "
      ],
      "text/plain": [
       "<IPython.core.display.Javascript object>"
      ]
     },
     "metadata": {},
     "output_type": "display_data"
    },
    {
     "data": {
      "application/javascript": [
       "$('span:contains(\"# Temp\")').closest('.cell').remove();"
      ],
      "text/plain": [
       "<IPython.core.display.Javascript object>"
      ]
     },
     "metadata": {},
     "output_type": "display_data"
    },
    {
     "data": {
      "application/javascript": [
       "\n",
       "        $('span:contains(\"# Temp\")').closest('.cell').remove();\n",
       "        var code = IPython.notebook.insert_cell_below('code');\n",
       "        code.set_text(atob(\"IyBUZW1wCmluc2VydCgnJycKbzIwMDJhID0gREIoV29ya1VucmVsYXRlZCgKICAgIDIwMDIsICJUaGUgQ2FwYWJpbGl0eSBNYXR1cml0eSBNb2RlbCIsCiAgICBkaXNwbGF5PSJvIiwKICAgIGF1dGhvcnM9Ik8nUmVnYW4sIEdlcmFyZCIsCiAgICBwbGFjZT1GQUtFLAogICAgcHA9IjEyOS0tMTY3IiwKICAgIGVudHJ5dHlwZT0iaW5ib29rIiwKICAgIHB1Ymxpc2hlcj0iU3ByaW5nZXIgTmV3IFlvcmsiLAogICAgYWRkcmVzcz0iTmV3IFlvcmssIE5ZIiwKICAgIElEPSJPklJlZ2FuMjAwMiIsCiAgICBzcHJpbmdlcj0iMSIsCiAgICBwbGFjZXg9IkEgUHJhY3RpY2FsIEFwcHJvYWNoIHRvIFNvZnR3YXJlIFF1YWxpdHkiLAopKQonJycpOw==\"));\n",
       "    "
      ],
      "text/plain": [
       "<IPython.core.display.Javascript object>"
      ]
     },
     "metadata": {},
     "output_type": "display_data"
    },
    {
     "data": {
      "application/javascript": [
       "$('span:contains(\"# Temp\")').closest('.cell').remove();"
      ],
      "text/plain": [
       "<IPython.core.display.Javascript object>"
      ]
     },
     "metadata": {},
     "output_type": "display_data"
    },
    {
     "data": {
      "application/javascript": [
       "\n",
       "        $('span:contains(\"# Temp\")').closest('.cell').remove();\n",
       "        var code = IPython.notebook.insert_cell_below('code');\n",
       "        code.set_text(atob(\"IyBUZW1wCmluc2VydCgnJycKbzIwMDJhID0gREIoV29ya1VucmVsYXRlZCgKICAgIDIwMDIsICJUaGUgQ2FwYWJpbGl0eSBNYXR1cml0eSBNb2RlbCIsCiAgICBkaXNwbGF5PSJvIiwKICAgIGF1dGhvcnM9Ik8nUmVnYW4sIEdlcmFyZCIsCiAgICBwbGFjZT1GQUtFLAogICAgcHA9IjEyOS0tMTY3IiwKICAgIGVudHJ5dHlwZT0iaW5ib29rIiwKICAgIHB1Ymxpc2hlcj0iU3ByaW5nZXIgTmV3IFlvcmsiLAogICAgYWRkcmVzcz0iTmV3IFlvcmssIE5ZIiwKICAgIElEPSJPklJlZ2FuMjAwMiIsCiAgICBzcHJpbmdlcj0iMSIsCiAgICBwbGFjZXg9IkEgUHJhY3RpY2FsIEFwcHJvYWNoIHRvIFNvZnR3YXJlIFF1YWxpdHkiLAopKQonJycpOw==\"));\n",
       "    "
      ],
      "text/plain": [
       "<IPython.core.display.Javascript object>"
      ]
     },
     "metadata": {},
     "output_type": "display_data"
    },
    {
     "data": {
      "application/javascript": [
       "$('span:contains(\"# Temp\")').closest('.cell').remove();"
      ],
      "text/plain": [
       "<IPython.core.display.Javascript object>"
      ]
     },
     "metadata": {},
     "output_type": "display_data"
    },
    {
     "data": {
      "application/javascript": [
       "\n",
       "        $('span:contains(\"# Temp\")').closest('.cell').remove();\n",
       "        var code = IPython.notebook.insert_cell_below('code');\n",
       "        code.set_text(atob(\"IyBUZW1wCmluc2VydCgnJycKICAgIGphY2NoZXJpMjAwMGEgPSBEQihXb3JrVW5yZWxhdGVkKAogICAgICAgIDIwMDAsICJTb2Z0d2FyZSBwcm9jZXNzIHRlY2hub2xvZ3kgYW5kIHNvZnR3YXJlIG9yZ2FuaXNhdGlvbnMiLAogICAgICAgIGRpc3BsYXk9ImphY2NoZXJpIiwKICAgICAgICBhdXRob3JzPSJKYWNjaGVyaSwgTS4gTGV0aXppYQphbmQgQ29ucmFkaSwgUmVpZGFyCmFuZCBEeXJuZXMsIELlcmQgSC4iLAogICAgICAgIHBsYWNlPUZBS0UsCiAgICAgICAgcHA9Ijk2LS0xMDgiLAogICAgICAgIGVudHJ5dHlwZT0iaW5wcm9jZWVkaW5ncyIsCiAgICAgICAgZWRpdG9yPSJDb25yYWRpLCBSZWlkYXIiLAogICAgICAgIHB1Ymxpc2hlcj0iU3ByaW5nZXIgQmVybGluIEhlaWRlbGJlcmciLAogICAgICAgIGFkZHJlc3M9IkJlcmxpbiwgSGVpZGVsYmVyZyIsCiAgICAgICAgSUQ9IjEwLjEwMDcvQkZiMDA5NTAxOCIsCiAgICAgICAgc3ByaW5nZXI9IjEiLAogICAgICAgIHBsYWNleD0iU29mdHdhcmUgUHJvY2VzcyBUZWNobm9sb2d5IiwKICAgICkpCicnJyk7\"));\n",
       "    "
      ],
      "text/plain": [
       "<IPython.core.display.Javascript object>"
      ]
     },
     "metadata": {},
     "output_type": "display_data"
    },
    {
     "data": {
      "application/javascript": [
       "$('span:contains(\"# Temp\")').closest('.cell').remove();"
      ],
      "text/plain": [
       "<IPython.core.display.Javascript object>"
      ]
     },
     "metadata": {},
     "output_type": "display_data"
    },
    {
     "data": {
      "application/javascript": [
       "\n",
       "        $('span:contains(\"# Temp\")').closest('.cell').remove();\n",
       "        var code = IPython.notebook.insert_cell_below('code');\n",
       "        code.set_text(atob(\"IyBUZW1wCmluc2VydCgnJycKICAgIGphY2NoZXJpMjAwMGEgPSBEQihXb3JrVW5yZWxhdGVkKAogICAgICAgIDIwMDAsICJTb2Z0d2FyZSBwcm9jZXNzIHRlY2hub2xvZ3kgYW5kIHNvZnR3YXJlIG9yZ2FuaXNhdGlvbnMiLAogICAgICAgIGRpc3BsYXk9ImphY2NoZXJpIiwKICAgICAgICBhdXRob3JzPSJKYWNjaGVyaSwgTS4gTGV0aXppYQphbmQgQ29ucmFkaSwgUmVpZGFyCmFuZCBEeXJuZXMsIELlcmQgSC4iLAogICAgICAgIHBsYWNlPUZBS0UsCiAgICAgICAgcHA9Ijk2LS0xMDgiLAogICAgICAgIGVudHJ5dHlwZT0iaW5wcm9jZWVkaW5ncyIsCiAgICAgICAgZWRpdG9yPSJDb25yYWRpLCBSZWlkYXIiLAogICAgICAgIHB1Ymxpc2hlcj0iU3ByaW5nZXIgQmVybGluIEhlaWRlbGJlcmciLAogICAgICAgIGFkZHJlc3M9IkJlcmxpbiwgSGVpZGVsYmVyZyIsCiAgICAgICAgSUQ9IjEwLjEwMDcvQkZiMDA5NTAxOCIsCiAgICAgICAgc3ByaW5nZXI9IjEiLAogICAgICAgIHBsYWNleD0iU29mdHdhcmUgUHJvY2VzcyBUZWNobm9sb2d5IiwKICAgICkpCicnJyk7\"));\n",
       "    "
      ],
      "text/plain": [
       "<IPython.core.display.Javascript object>"
      ]
     },
     "metadata": {},
     "output_type": "display_data"
    },
    {
     "data": {
      "application/javascript": [
       "$('span:contains(\"# Temp\")').closest('.cell').remove();"
      ],
      "text/plain": [
       "<IPython.core.display.Javascript object>"
      ]
     },
     "metadata": {},
     "output_type": "display_data"
    },
    {
     "data": {
      "application/javascript": [
       "\n",
       "        $('span:contains(\"# Temp\")').closest('.cell').remove();\n",
       "        var code = IPython.notebook.insert_cell_below('code');\n",
       "        code.set_text(atob(\"IyBUZW1wCmluc2VydCgnJycKICAgIGxlYnNhbmZ0MjAwMWEgPSBEQihXb3JrVW5yZWxhdGVkKAogICAgICAgIDIwMDEsICJQcm9jZXNzIEltcHJvdmVtZW50IGluIFR1cmJ1bGVudCBUaW1lcyAtLS0gSXMgQ01NIFN0aWxsIGFuIEFuc3dlcj8iLAogICAgICAgIGRpc3BsYXk9ImxlYnNhbmZ0IiwKICAgICAgICBhdXRob3JzPSJMZWJzYW5mdCwgS2FybCIsCiAgICAgICAgcGxhY2U9UFJPRkVTLAogICAgICAgIHBwPSI3OC0tODUiLAogICAgICAgIGVudHJ5dHlwZT0iaW5wcm9jZWVkaW5ncyIsCiAgICAgICAgZWRpdG9yPSJCb21hcml1cywgRnJhbmsKYW5kIEtvbWktU2lydmn2LCBTZWlqYSIsCiAgICAgICAgcHVibGlzaGVyPSJTcHJpbmdlciBCZXJsaW4gSGVpZGVsYmVyZyIsCiAgICAgICAgYWRkcmVzcz0iQmVybGluLCBIZWlkZWxiZXJnIiwKICAgICAgICBJRD0iMTAuMTAwNy8zLTU0MC00NDgxMy02XzEwIiwKICAgICAgICBzcHJpbmdlcj0iMSIsCiAgICAgICAgcGxhY2V4PSJQcm9kdWN0IEZvY3VzZWQgU29mdHdhcmUgUHJvY2VzcyBJbXByb3ZlbWVudCIsCiAgICApKQonJycpOw==\"));\n",
       "    "
      ],
      "text/plain": [
       "<IPython.core.display.Javascript object>"
      ]
     },
     "metadata": {},
     "output_type": "display_data"
    },
    {
     "data": {
      "application/javascript": [
       "$('span:contains(\"# Temp\")').closest('.cell').remove();"
      ],
      "text/plain": [
       "<IPython.core.display.Javascript object>"
      ]
     },
     "metadata": {},
     "output_type": "display_data"
    },
    {
     "data": {
      "application/javascript": [
       "\n",
       "        $('span:contains(\"# Temp\")').closest('.cell').remove();\n",
       "        var code = IPython.notebook.insert_cell_below('code');\n",
       "        code.set_text(atob(\"IyBUZW1wCmluc2VydCgnJycKICAgIGxlYnNhbmZ0MjAwMWEgPSBEQihXb3JrVW5yZWxhdGVkKAogICAgICAgIDIwMDEsICJQcm9jZXNzIEltcHJvdmVtZW50IGluIFR1cmJ1bGVudCBUaW1lcyAtLS0gSXMgQ01NIFN0aWxsIGFuIEFuc3dlcj8iLAogICAgICAgIGRpc3BsYXk9ImxlYnNhbmZ0IiwKICAgICAgICBhdXRob3JzPSJMZWJzYW5mdCwgS2FybCIsCiAgICAgICAgcGxhY2U9UFJPRkVTLAogICAgICAgIHBwPSI3OC0tODUiLAogICAgICAgIGVudHJ5dHlwZT0iaW5wcm9jZWVkaW5ncyIsCiAgICAgICAgZWRpdG9yPSJCb21hcml1cywgRnJhbmsKYW5kIEtvbWktU2lydmn2LCBTZWlqYSIsCiAgICAgICAgcHVibGlzaGVyPSJTcHJpbmdlciBCZXJsaW4gSGVpZGVsYmVyZyIsCiAgICAgICAgYWRkcmVzcz0iQmVybGluLCBIZWlkZWxiZXJnIiwKICAgICAgICBJRD0iMTAuMTAwNy8zLTU0MC00NDgxMy02XzEwIiwKICAgICAgICBzcHJpbmdlcj0iMSIsCiAgICAgICAgcGxhY2V4PSJQcm9kdWN0IEZvY3VzZWQgU29mdHdhcmUgUHJvY2VzcyBJbXByb3ZlbWVudCIsCiAgICApKQonJycpOw==\"));\n",
       "    "
      ],
      "text/plain": [
       "<IPython.core.display.Javascript object>"
      ]
     },
     "metadata": {},
     "output_type": "display_data"
    },
    {
     "data": {
      "application/javascript": [
       "$('span:contains(\"# Temp\")').closest('.cell').remove();"
      ],
      "text/plain": [
       "<IPython.core.display.Javascript object>"
      ]
     },
     "metadata": {},
     "output_type": "display_data"
    },
    {
     "data": {
      "application/javascript": [
       "\n",
       "        $('span:contains(\"# Temp\")').closest('.cell').remove();\n",
       "        var code = IPython.notebook.insert_cell_below('code');\n",
       "        code.set_text(atob(\"IyBUZW1wCmluc2VydCgnJycnJycpOw==\"));\n",
       "    "
      ],
      "text/plain": [
       "<IPython.core.display.Javascript object>"
      ]
     },
     "metadata": {},
     "output_type": "display_data"
    },
    {
     "data": {
      "application/javascript": [
       "$('span:contains(\"# Temp\")').closest('.cell').remove();"
      ],
      "text/plain": [
       "<IPython.core.display.Javascript object>"
      ]
     },
     "metadata": {},
     "output_type": "display_data"
    },
    {
     "data": {
      "application/javascript": [
       "\n",
       "        $('span:contains(\"# Temp\")').closest('.cell').remove();\n",
       "        var code = IPython.notebook.insert_cell_below('code');\n",
       "        code.set_text(atob(\"IyBUZW1wCmluc2VydCgnJycnJycpOw==\"));\n",
       "    "
      ],
      "text/plain": [
       "<IPython.core.display.Javascript object>"
      ]
     },
     "metadata": {},
     "output_type": "display_data"
    },
    {
     "data": {
      "application/javascript": [
       "$('span:contains(\"# Temp\")').closest('.cell').remove();"
      ],
      "text/plain": [
       "<IPython.core.display.Javascript object>"
      ]
     },
     "metadata": {},
     "output_type": "display_data"
    },
    {
     "data": {
      "application/javascript": [
       "\n",
       "        $('span:contains(\"# Temp\")').closest('.cell').remove();\n",
       "        var code = IPython.notebook.insert_cell_below('code');\n",
       "        code.set_text(atob(\"IyBUZW1wCmluc2VydCgnJycKbzIwMDJhID0gREIoV29ya1VucmVsYXRlZCgKICAgIDIwMDIsICJNZXRyaWNzIGFuZCBQcm9ibGVtIFNvbHZpbmciLAogICAgZGlzcGxheT0ibyIsCiAgICBhdXRob3JzPSJPJ1JlZ2FuLCBHZXJhcmQiLAogICAgcGxhY2U9RkFLRSwKICAgIHBwPSIyMDUtLTIzNyIsCiAgICBlbnRyeXR5cGU9ImluYm9vayIsCiAgICBwdWJsaXNoZXI9IlNwcmluZ2VyIE5ldyBZb3JrIiwKICAgIGFkZHJlc3M9Ik5ldyBZb3JrLCBOWSIsCiAgICBJRD0iT5JSZWdhbjIwMDIiLAogICAgc3ByaW5nZXI9IjEiLAogICAgcGxhY2V4PSJBIFByYWN0aWNhbCBBcHByb2FjaCB0byBTb2Z0d2FyZSBRdWFsaXR5IiwKKSkKJycnKTs=\"));\n",
       "    "
      ],
      "text/plain": [
       "<IPython.core.display.Javascript object>"
      ]
     },
     "metadata": {},
     "output_type": "display_data"
    },
    {
     "data": {
      "application/javascript": [
       "$('span:contains(\"# Temp\")').closest('.cell').remove();"
      ],
      "text/plain": [
       "<IPython.core.display.Javascript object>"
      ]
     },
     "metadata": {},
     "output_type": "display_data"
    },
    {
     "data": {
      "application/javascript": [
       "\n",
       "        $('span:contains(\"# Temp\")').closest('.cell').remove();\n",
       "        var code = IPython.notebook.insert_cell_below('code');\n",
       "        code.set_text(atob(\"IyBUZW1wCmluc2VydCgnJycKbzIwMDJhID0gREIoV29ya1VucmVsYXRlZCgKICAgIDIwMDIsICJNZXRyaWNzIGFuZCBQcm9ibGVtIFNvbHZpbmciLAogICAgZGlzcGxheT0ibyIsCiAgICBhdXRob3JzPSJPJ1JlZ2FuLCBHZXJhcmQiLAogICAgcGxhY2U9RkFLRSwKICAgIHBwPSIyMDUtLTIzNyIsCiAgICBlbnRyeXR5cGU9ImluYm9vayIsCiAgICBwdWJsaXNoZXI9IlNwcmluZ2VyIE5ldyBZb3JrIiwKICAgIGFkZHJlc3M9Ik5ldyBZb3JrLCBOWSIsCiAgICBJRD0iT5JSZWdhbjIwMDIiLAogICAgc3ByaW5nZXI9IjEiLAogICAgcGxhY2V4PSJBIFByYWN0aWNhbCBBcHByb2FjaCB0byBTb2Z0d2FyZSBRdWFsaXR5IiwKKSkKJycnKTs=\"));\n",
       "    "
      ],
      "text/plain": [
       "<IPython.core.display.Javascript object>"
      ]
     },
     "metadata": {},
     "output_type": "display_data"
    },
    {
     "data": {
      "application/javascript": [
       "$('span:contains(\"# Temp\")').closest('.cell').remove();"
      ],
      "text/plain": [
       "<IPython.core.display.Javascript object>"
      ]
     },
     "metadata": {},
     "output_type": "display_data"
    },
    {
     "data": {
      "application/javascript": [
       "\n",
       "        $('span:contains(\"# Temp\")').closest('.cell').remove();\n",
       "        var code = IPython.notebook.insert_cell_below('code');\n",
       "        code.set_text(atob(\"IyBUZW1wCmluc2VydCgnJycKbzIwMDJhID0gREIoV29ya1VucmVsYXRlZCgKICAgIDIwMDIsICJUaGUgU1BJQ0UgKDE1NTA0KSBTdGFuZGFyZCIsCiAgICBkaXNwbGF5PSJvIiwKICAgIGF1dGhvcnM9Ik8nUmVnYW4sIEdlcmFyZCIsCiAgICBwbGFjZT1GQUtFLAogICAgcHA9IjE2OS0tMjAzIiwKICAgIGVudHJ5dHlwZT0iaW5ib29rIiwKICAgIHB1Ymxpc2hlcj0iU3ByaW5nZXIgTmV3IFlvcmsiLAogICAgYWRkcmVzcz0iTmV3IFlvcmssIE5ZIiwKICAgIElEPSJPklJlZ2FuMjAwMiIsCiAgICBzcHJpbmdlcj0iMSIsCiAgICBwbGFjZXg9IkEgUHJhY3RpY2FsIEFwcHJvYWNoIHRvIFNvZnR3YXJlIFF1YWxpdHkiLAopKQonJycpOw==\"));\n",
       "    "
      ],
      "text/plain": [
       "<IPython.core.display.Javascript object>"
      ]
     },
     "metadata": {},
     "output_type": "display_data"
    },
    {
     "data": {
      "application/javascript": [
       "$('span:contains(\"# Temp\")').closest('.cell').remove();"
      ],
      "text/plain": [
       "<IPython.core.display.Javascript object>"
      ]
     },
     "metadata": {},
     "output_type": "display_data"
    },
    {
     "data": {
      "application/javascript": [
       "\n",
       "        $('span:contains(\"# Temp\")').closest('.cell').remove();\n",
       "        var code = IPython.notebook.insert_cell_below('code');\n",
       "        code.set_text(atob(\"IyBUZW1wCmluc2VydCgnJycKbzIwMDJhID0gREIoV29ya1VucmVsYXRlZCgKICAgIDIwMDIsICJUaGUgU1BJQ0UgKDE1NTA0KSBTdGFuZGFyZCIsCiAgICBkaXNwbGF5PSJvIiwKICAgIGF1dGhvcnM9Ik8nUmVnYW4sIEdlcmFyZCIsCiAgICBwbGFjZT1GQUtFLAogICAgcHA9IjE2OS0tMjAzIiwKICAgIGVudHJ5dHlwZT0iaW5ib29rIiwKICAgIHB1Ymxpc2hlcj0iU3ByaW5nZXIgTmV3IFlvcmsiLAogICAgYWRkcmVzcz0iTmV3IFlvcmssIE5ZIiwKICAgIElEPSJPklJlZ2FuMjAwMiIsCiAgICBzcHJpbmdlcj0iMSIsCiAgICBwbGFjZXg9IkEgUHJhY3RpY2FsIEFwcHJvYWNoIHRvIFNvZnR3YXJlIFF1YWxpdHkiLAopKQonJycpOw==\"));\n",
       "    "
      ],
      "text/plain": [
       "<IPython.core.display.Javascript object>"
      ]
     },
     "metadata": {},
     "output_type": "display_data"
    },
    {
     "data": {
      "application/javascript": [
       "$('span:contains(\"# Temp\")').closest('.cell').remove();"
      ],
      "text/plain": [
       "<IPython.core.display.Javascript object>"
      ]
     },
     "metadata": {},
     "output_type": "display_data"
    },
    {
     "data": {
      "application/javascript": [
       "\n",
       "        $('span:contains(\"# Temp\")').closest('.cell').remove();\n",
       "        var code = IPython.notebook.insert_cell_below('code');\n",
       "        code.set_text(atob(\"IyBUZW1wCmluc2VydCgnJycnJycpOw==\"));\n",
       "    "
      ],
      "text/plain": [
       "<IPython.core.display.Javascript object>"
      ]
     },
     "metadata": {},
     "output_type": "display_data"
    },
    {
     "data": {
      "application/javascript": [
       "$('span:contains(\"# Temp\")').closest('.cell').remove();"
      ],
      "text/plain": [
       "<IPython.core.display.Javascript object>"
      ]
     },
     "metadata": {},
     "output_type": "display_data"
    },
    {
     "data": {
      "application/javascript": [
       "\n",
       "        $('span:contains(\"# Temp\")').closest('.cell').remove();\n",
       "        var code = IPython.notebook.insert_cell_below('code');\n",
       "        code.set_text(atob(\"IyBUZW1wCmluc2VydCgnJycnJycpOw==\"));\n",
       "    "
      ],
      "text/plain": [
       "<IPython.core.display.Javascript object>"
      ]
     },
     "metadata": {},
     "output_type": "display_data"
    },
    {
     "data": {
      "application/javascript": [
       "$('span:contains(\"# Temp\")').closest('.cell').remove();"
      ],
      "text/plain": [
       "<IPython.core.display.Javascript object>"
      ]
     },
     "metadata": {},
     "output_type": "display_data"
    },
    {
     "data": {
      "application/javascript": [
       "\n",
       "        $('span:contains(\"# Temp\")').closest('.cell').remove();\n",
       "        var code = IPython.notebook.insert_cell_below('code');\n",
       "        code.set_text(atob(\"IyBUZW1wCmluc2VydCgnJycnJycpOw==\"));\n",
       "    "
      ],
      "text/plain": [
       "<IPython.core.display.Javascript object>"
      ]
     },
     "metadata": {},
     "output_type": "display_data"
    },
    {
     "data": {
      "application/javascript": [
       "$('span:contains(\"# Temp\")').closest('.cell').remove();"
      ],
      "text/plain": [
       "<IPython.core.display.Javascript object>"
      ]
     },
     "metadata": {},
     "output_type": "display_data"
    },
    {
     "data": {
      "application/javascript": [
       "\n",
       "        $('span:contains(\"# Temp\")').closest('.cell').remove();\n",
       "        var code = IPython.notebook.insert_cell_below('code');\n",
       "        code.set_text(atob(\"IyBUZW1wCmluc2VydCgnJycnJycpOw==\"));\n",
       "    "
      ],
      "text/plain": [
       "<IPython.core.display.Javascript object>"
      ]
     },
     "metadata": {},
     "output_type": "display_data"
    },
    {
     "data": {
      "application/javascript": [
       "$('span:contains(\"# Temp\")').closest('.cell').remove();"
      ],
      "text/plain": [
       "<IPython.core.display.Javascript object>"
      ]
     },
     "metadata": {},
     "output_type": "display_data"
    },
    {
     "data": {
      "application/javascript": [
       "\n",
       "        $('span:contains(\"# Temp\")').closest('.cell').remove();\n",
       "        var code = IPython.notebook.insert_cell_below('code');\n",
       "        code.set_text(atob(\"IyBUZW1wCmluc2VydCgnJycnJycpOw==\"));\n",
       "    "
      ],
      "text/plain": [
       "<IPython.core.display.Javascript object>"
      ]
     },
     "metadata": {},
     "output_type": "display_data"
    },
    {
     "data": {
      "application/javascript": [
       "$('span:contains(\"# Temp\")').closest('.cell').remove();"
      ],
      "text/plain": [
       "<IPython.core.display.Javascript object>"
      ]
     },
     "metadata": {},
     "output_type": "display_data"
    },
    {
     "data": {
      "application/javascript": [
       "\n",
       "        $('span:contains(\"# Temp\")').closest('.cell').remove();\n",
       "        var code = IPython.notebook.insert_cell_below('code');\n",
       "        code.set_text(atob(\"IyBUZW1wCmluc2VydCgnJycnJycpOw==\"));\n",
       "    "
      ],
      "text/plain": [
       "<IPython.core.display.Javascript object>"
      ]
     },
     "metadata": {},
     "output_type": "display_data"
    },
    {
     "data": {
      "application/javascript": [
       "$('span:contains(\"# Temp\")').closest('.cell').remove();"
      ],
      "text/plain": [
       "<IPython.core.display.Javascript object>"
      ]
     },
     "metadata": {},
     "output_type": "display_data"
    },
    {
     "data": {
      "application/javascript": [
       "\n",
       "        $('span:contains(\"# Temp\")').closest('.cell').remove();\n",
       "        var code = IPython.notebook.insert_cell_below('code');\n",
       "        code.set_text(atob(\"IyBUZW1wCmluc2VydCgnJycnJycpOw==\"));\n",
       "    "
      ],
      "text/plain": [
       "<IPython.core.display.Javascript object>"
      ]
     },
     "metadata": {},
     "output_type": "display_data"
    },
    {
     "data": {
      "application/javascript": [
       "$('span:contains(\"# Temp\")').closest('.cell').remove();"
      ],
      "text/plain": [
       "<IPython.core.display.Javascript object>"
      ]
     },
     "metadata": {},
     "output_type": "display_data"
    },
    {
     "data": {
      "application/javascript": [
       "\n",
       "        $('span:contains(\"# Temp\")').closest('.cell').remove();\n",
       "        var code = IPython.notebook.insert_cell_below('code');\n",
       "        code.set_text(atob(\"IyBUZW1wCmluc2VydCgnJycnJycpOw==\"));\n",
       "    "
      ],
      "text/plain": [
       "<IPython.core.display.Javascript object>"
      ]
     },
     "metadata": {},
     "output_type": "display_data"
    },
    {
     "data": {
      "application/javascript": [
       "$('span:contains(\"# Temp\")').closest('.cell').remove();"
      ],
      "text/plain": [
       "<IPython.core.display.Javascript object>"
      ]
     },
     "metadata": {},
     "output_type": "display_data"
    },
    {
     "data": {
      "application/javascript": [
       "\n",
       "        $('span:contains(\"# Temp\")').closest('.cell').remove();\n",
       "        var code = IPython.notebook.insert_cell_below('code');\n",
       "        code.set_text(atob(\"IyBUZW1wCmluc2VydCgnJycnJycpOw==\"));\n",
       "    "
      ],
      "text/plain": [
       "<IPython.core.display.Javascript object>"
      ]
     },
     "metadata": {},
     "output_type": "display_data"
    },
    {
     "data": {
      "application/javascript": [
       "$('span:contains(\"# Temp\")').closest('.cell').remove();"
      ],
      "text/plain": [
       "<IPython.core.display.Javascript object>"
      ]
     },
     "metadata": {},
     "output_type": "display_data"
    },
    {
     "data": {
      "application/javascript": [
       "\n",
       "        $('span:contains(\"# Temp\")').closest('.cell').remove();\n",
       "        var code = IPython.notebook.insert_cell_below('code');\n",
       "        code.set_text(atob(\"IyBUZW1wCmluc2VydCgnJycnJycpOw==\"));\n",
       "    "
      ],
      "text/plain": [
       "<IPython.core.display.Javascript object>"
      ]
     },
     "metadata": {},
     "output_type": "display_data"
    },
    {
     "data": {
      "application/javascript": [
       "$('span:contains(\"# Temp\")').closest('.cell').remove();"
      ],
      "text/plain": [
       "<IPython.core.display.Javascript object>"
      ]
     },
     "metadata": {},
     "output_type": "display_data"
    },
    {
     "data": {
      "application/javascript": [
       "\n",
       "        $('span:contains(\"# Temp\")').closest('.cell').remove();\n",
       "        var code = IPython.notebook.insert_cell_below('code');\n",
       "        code.set_text(atob(\"IyBUZW1wCmluc2VydCgnJycnJycpOw==\"));\n",
       "    "
      ],
      "text/plain": [
       "<IPython.core.display.Javascript object>"
      ]
     },
     "metadata": {},
     "output_type": "display_data"
    },
    {
     "data": {
      "application/javascript": [
       "$('span:contains(\"# Temp\")').closest('.cell').remove();"
      ],
      "text/plain": [
       "<IPython.core.display.Javascript object>"
      ]
     },
     "metadata": {},
     "output_type": "display_data"
    },
    {
     "data": {
      "application/javascript": [
       "\n",
       "        $('span:contains(\"# Temp\")').closest('.cell').remove();\n",
       "        var code = IPython.notebook.insert_cell_below('code');\n",
       "        code.set_text(atob(\"IyBUZW1wCmluc2VydCgnJycnJycpOw==\"));\n",
       "    "
      ],
      "text/plain": [
       "<IPython.core.display.Javascript object>"
      ]
     },
     "metadata": {},
     "output_type": "display_data"
    },
    {
     "data": {
      "application/javascript": [
       "$('span:contains(\"# Temp\")').closest('.cell').remove();"
      ],
      "text/plain": [
       "<IPython.core.display.Javascript object>"
      ]
     },
     "metadata": {},
     "output_type": "display_data"
    },
    {
     "data": {
      "application/javascript": [
       "\n",
       "        $('span:contains(\"# Temp\")').closest('.cell').remove();\n",
       "        var code = IPython.notebook.insert_cell_below('code');\n",
       "        code.set_text(atob(\"IyBUZW1wCmluc2VydCgnJycnJycpOw==\"));\n",
       "    "
      ],
      "text/plain": [
       "<IPython.core.display.Javascript object>"
      ]
     },
     "metadata": {},
     "output_type": "display_data"
    },
    {
     "data": {
      "application/javascript": [
       "$('span:contains(\"# Temp\")').closest('.cell').remove();"
      ],
      "text/plain": [
       "<IPython.core.display.Javascript object>"
      ]
     },
     "metadata": {},
     "output_type": "display_data"
    },
    {
     "data": {
      "application/javascript": [
       "\n",
       "        $('span:contains(\"# Temp\")').closest('.cell').remove();\n",
       "        var code = IPython.notebook.insert_cell_below('code');\n",
       "        code.set_text(atob(\"IyBUZW1wCmluc2VydCgnJycnJycpOw==\"));\n",
       "    "
      ],
      "text/plain": [
       "<IPython.core.display.Javascript object>"
      ]
     },
     "metadata": {},
     "output_type": "display_data"
    },
    {
     "data": {
      "application/javascript": [
       "$('span:contains(\"# Temp\")').closest('.cell').remove();"
      ],
      "text/plain": [
       "<IPython.core.display.Javascript object>"
      ]
     },
     "metadata": {},
     "output_type": "display_data"
    },
    {
     "data": {
      "application/javascript": [
       "\n",
       "        $('span:contains(\"# Temp\")').closest('.cell').remove();\n",
       "        var code = IPython.notebook.insert_cell_below('code');\n",
       "        code.set_text(atob(\"IyBUZW1wCmluc2VydCgnJycKbzIwMDJhID0gREIoV29ya1VucmVsYXRlZCgKICAgIDIwMDIsICJUaGUgU1BJQ0UgKDE1NTA0KSBTdGFuZGFyZCIsCiAgICBkaXNwbGF5PSJvIiwKICAgIGF1dGhvcnM9Ik8nUmVnYW4sIEdlcmFyZCIsCiAgICBwbGFjZT1GQUtFLAogICAgcHA9IjE2OS0tMjAzIiwKICAgIGVudHJ5dHlwZT0iaW5ib29rIiwKICAgIHB1Ymxpc2hlcj0iU3ByaW5nZXIgTmV3IFlvcmsiLAogICAgYWRkcmVzcz0iTmV3IFlvcmssIE5ZIiwKICAgIElEPSJPklJlZ2FuMjAwMiIsCiAgICBzcHJpbmdlcj0iMSIsCiAgICBwbGFjZXg9IkEgUHJhY3RpY2FsIEFwcHJvYWNoIHRvIFNvZnR3YXJlIFF1YWxpdHkiLAopKQonJycpOw==\"));\n",
       "    "
      ],
      "text/plain": [
       "<IPython.core.display.Javascript object>"
      ]
     },
     "metadata": {},
     "output_type": "display_data"
    },
    {
     "data": {
      "application/javascript": [
       "$('span:contains(\"# Temp\")').closest('.cell').remove();"
      ],
      "text/plain": [
       "<IPython.core.display.Javascript object>"
      ]
     },
     "metadata": {},
     "output_type": "display_data"
    },
    {
     "data": {
      "application/javascript": [
       "\n",
       "        $('span:contains(\"# Temp\")').closest('.cell').remove();\n",
       "        var code = IPython.notebook.insert_cell_below('code');\n",
       "        code.set_text(atob(\"IyBUZW1wCmluc2VydCgnJycKbzIwMDJhID0gREIoV29ya1VucmVsYXRlZCgKICAgIDIwMDIsICJUaGUgU1BJQ0UgKDE1NTA0KSBTdGFuZGFyZCIsCiAgICBkaXNwbGF5PSJvIiwKICAgIGF1dGhvcnM9Ik8nUmVnYW4sIEdlcmFyZCIsCiAgICBwbGFjZT1GQUtFLAogICAgcHA9IjE2OS0tMjAzIiwKICAgIGVudHJ5dHlwZT0iaW5ib29rIiwKICAgIHB1Ymxpc2hlcj0iU3ByaW5nZXIgTmV3IFlvcmsiLAogICAgYWRkcmVzcz0iTmV3IFlvcmssIE5ZIiwKICAgIElEPSJPklJlZ2FuMjAwMiIsCiAgICBzcHJpbmdlcj0iMSIsCiAgICBwbGFjZXg9IkEgUHJhY3RpY2FsIEFwcHJvYWNoIHRvIFNvZnR3YXJlIFF1YWxpdHkiLAopKQonJycpOw==\"));\n",
       "    "
      ],
      "text/plain": [
       "<IPython.core.display.Javascript object>"
      ]
     },
     "metadata": {},
     "output_type": "display_data"
    },
    {
     "data": {
      "application/javascript": [
       "$('span:contains(\"# Temp\")').closest('.cell').remove();"
      ],
      "text/plain": [
       "<IPython.core.display.Javascript object>"
      ]
     },
     "metadata": {},
     "output_type": "display_data"
    },
    {
     "data": {
      "application/javascript": [
       "\n",
       "        $('span:contains(\"# Temp\")').closest('.cell').remove();\n",
       "        var code = IPython.notebook.insert_cell_below('code');\n",
       "        code.set_text(atob(\"IyBUZW1wCmluc2VydCgnJycKICAgIGViZXJ0MjAwM2EgPSBEQihXb3JrVW5yZWxhdGVkKAogICAgICAgIDIwMDMsICJlLVImRDogRWZmZWN0aXZlbHkgTWFuYWdpbmcgYW5kIFVzaW5nIFImRCBLbm93bGVkZ2UiLAogICAgICAgIGRpc3BsYXk9ImViZXJ0IiwKICAgICAgICBhdXRob3JzPSJFYmVydCwgQ2hyaXN0b2YKYW5kIERlIE1hbiwgSm96ZWYKYW5kIFNjaGVsZW56LCBGYXJpYmEiLAogICAgICAgIHBsYWNlPUZBS0UsCiAgICAgICAgZW50cnl0eXBlPSJpbmJvb2siLAogICAgICAgIGVkaXRvcj0iQXVydW0sIEF5YvxrZQphbmQgSmVmZmVyeSwgUm9zcwphbmQgV29obGluLCBDbGFlcwphbmQgSGFuZHppYywgTWVsaWhhIiwKICAgICAgICBwdWJsaXNoZXI9IlNwcmluZ2VyIEJlcmxpbiBIZWlkZWxiZXJnIiwKICAgICAgICBhZGRyZXNzPSJCZXJsaW4sIEhlaWRlbGJlcmciLAogICAgICAgIElEPSJFYmVydDIwMDMiLAogICAgICAgIHNwcmluZ2VyPSIxIiwKICAgICAgICBwbGFjZXg9Ik1hbmFnaW5nIFNvZnR3YXJlIEVuZ2luZWVyaW5nIEtub3dsZWRnZSIsCiAgICApKQonJycpOw==\"));\n",
       "    "
      ],
      "text/plain": [
       "<IPython.core.display.Javascript object>"
      ]
     },
     "metadata": {},
     "output_type": "display_data"
    },
    {
     "data": {
      "application/javascript": [
       "$('span:contains(\"# Temp\")').closest('.cell').remove();"
      ],
      "text/plain": [
       "<IPython.core.display.Javascript object>"
      ]
     },
     "metadata": {},
     "output_type": "display_data"
    },
    {
     "data": {
      "application/javascript": [
       "\n",
       "        $('span:contains(\"# Temp\")').closest('.cell').remove();\n",
       "        var code = IPython.notebook.insert_cell_below('code');\n",
       "        code.set_text(atob(\"IyBUZW1wCmluc2VydCgnJycKICAgIGViZXJ0MjAwM2EgPSBEQihXb3JrVW5yZWxhdGVkKAogICAgICAgIDIwMDMsICJlLVImRDogRWZmZWN0aXZlbHkgTWFuYWdpbmcgYW5kIFVzaW5nIFImRCBLbm93bGVkZ2UiLAogICAgICAgIGRpc3BsYXk9ImViZXJ0IiwKICAgICAgICBhdXRob3JzPSJFYmVydCwgQ2hyaXN0b2YKYW5kIERlIE1hbiwgSm96ZWYKYW5kIFNjaGVsZW56LCBGYXJpYmEiLAogICAgICAgIHBsYWNlPUZBS0UsCiAgICAgICAgZW50cnl0eXBlPSJpbmJvb2siLAogICAgICAgIGVkaXRvcj0iQXVydW0sIEF5YvxrZQphbmQgSmVmZmVyeSwgUm9zcwphbmQgV29obGluLCBDbGFlcwphbmQgSGFuZHppYywgTWVsaWhhIiwKICAgICAgICBwdWJsaXNoZXI9IlNwcmluZ2VyIEJlcmxpbiBIZWlkZWxiZXJnIiwKICAgICAgICBhZGRyZXNzPSJCZXJsaW4sIEhlaWRlbGJlcmciLAogICAgICAgIElEPSJFYmVydDIwMDMiLAogICAgICAgIHNwcmluZ2VyPSIxIiwKICAgICAgICBwbGFjZXg9Ik1hbmFnaW5nIFNvZnR3YXJlIEVuZ2luZWVyaW5nIEtub3dsZWRnZSIsCiAgICApKQonJycpOw==\"));\n",
       "    "
      ],
      "text/plain": [
       "<IPython.core.display.Javascript object>"
      ]
     },
     "metadata": {},
     "output_type": "display_data"
    },
    {
     "data": {
      "application/javascript": [
       "$('span:contains(\"# Temp\")').closest('.cell').remove();"
      ],
      "text/plain": [
       "<IPython.core.display.Javascript object>"
      ]
     },
     "metadata": {},
     "output_type": "display_data"
    },
    {
     "data": {
      "application/javascript": [
       "\n",
       "        $('span:contains(\"# Temp\")').closest('.cell').remove();\n",
       "        var code = IPython.notebook.insert_cell_below('code');\n",
       "        code.set_text(atob(\"IyBUZW1wCmluc2VydCgnJycKbzIwMDJhID0gREIoV29ya1VucmVsYXRlZCgKICAgIDIwMDIsICJUaGUgU1BJQ0UgKDE1NTA0KSBTdGFuZGFyZCIsCiAgICBkaXNwbGF5PSJvIiwKICAgIGF1dGhvcnM9Ik8nUmVnYW4sIEdlcmFyZCIsCiAgICBwbGFjZT1GQUtFLAogICAgcHA9IjE2OS0tMjAzIiwKICAgIGVudHJ5dHlwZT0iaW5ib29rIiwKICAgIHB1Ymxpc2hlcj0iU3ByaW5nZXIgTmV3IFlvcmsiLAogICAgYWRkcmVzcz0iTmV3IFlvcmssIE5ZIiwKICAgIElEPSJPklJlZ2FuMjAwMiIsCiAgICBzcHJpbmdlcj0iMSIsCiAgICBwbGFjZXg9IkEgUHJhY3RpY2FsIEFwcHJvYWNoIHRvIFNvZnR3YXJlIFF1YWxpdHkiLAopKQonJycpOw==\"));\n",
       "    "
      ],
      "text/plain": [
       "<IPython.core.display.Javascript object>"
      ]
     },
     "metadata": {},
     "output_type": "display_data"
    },
    {
     "data": {
      "application/javascript": [
       "$('span:contains(\"# Temp\")').closest('.cell').remove();"
      ],
      "text/plain": [
       "<IPython.core.display.Javascript object>"
      ]
     },
     "metadata": {},
     "output_type": "display_data"
    },
    {
     "data": {
      "application/javascript": [
       "\n",
       "        $('span:contains(\"# Temp\")').closest('.cell').remove();\n",
       "        var code = IPython.notebook.insert_cell_below('code');\n",
       "        code.set_text(atob(\"IyBUZW1wCmluc2VydCgnJycKbzIwMDJhID0gREIoV29ya1VucmVsYXRlZCgKICAgIDIwMDIsICJUaGUgU1BJQ0UgKDE1NTA0KSBTdGFuZGFyZCIsCiAgICBkaXNwbGF5PSJvIiwKICAgIGF1dGhvcnM9Ik8nUmVnYW4sIEdlcmFyZCIsCiAgICBwbGFjZT1GQUtFLAogICAgcHA9IjE2OS0tMjAzIiwKICAgIGVudHJ5dHlwZT0iaW5ib29rIiwKICAgIHB1Ymxpc2hlcj0iU3ByaW5nZXIgTmV3IFlvcmsiLAogICAgYWRkcmVzcz0iTmV3IFlvcmssIE5ZIiwKICAgIElEPSJPklJlZ2FuMjAwMiIsCiAgICBzcHJpbmdlcj0iMSIsCiAgICBwbGFjZXg9IkEgUHJhY3RpY2FsIEFwcHJvYWNoIHRvIFNvZnR3YXJlIFF1YWxpdHkiLAopKQonJycpOw==\"));\n",
       "    "
      ],
      "text/plain": [
       "<IPython.core.display.Javascript object>"
      ]
     },
     "metadata": {},
     "output_type": "display_data"
    },
    {
     "data": {
      "application/javascript": [
       "$('span:contains(\"# Temp\")').closest('.cell').remove();"
      ],
      "text/plain": [
       "<IPython.core.display.Javascript object>"
      ]
     },
     "metadata": {},
     "output_type": "display_data"
    },
    {
     "data": {
      "application/javascript": [
       "\n",
       "        $('span:contains(\"# Temp\")').closest('.cell').remove();\n",
       "        var code = IPython.notebook.insert_cell_below('code');\n",
       "        code.set_text(atob(\"IyBUZW1wCmluc2VydCgnJycKICAgIGViZXJ0MjAwM2EgPSBEQihXb3JrVW5yZWxhdGVkKAogICAgICAgIDIwMDMsICJlLVImRDogRWZmZWN0aXZlbHkgTWFuYWdpbmcgYW5kIFVzaW5nIFImRCBLbm93bGVkZ2UiLAogICAgICAgIGRpc3BsYXk9ImViZXJ0IiwKICAgICAgICBhdXRob3JzPSJFYmVydCwgQ2hyaXN0b2YKYW5kIERlIE1hbiwgSm96ZWYKYW5kIFNjaGVsZW56LCBGYXJpYmEiLAogICAgICAgIHBsYWNlPUZBS0UsCiAgICAgICAgZW50cnl0eXBlPSJpbmJvb2siLAogICAgICAgIGVkaXRvcj0iQXVydW0sIEF5YvxrZQphbmQgSmVmZmVyeSwgUm9zcwphbmQgV29obGluLCBDbGFlcwphbmQgSGFuZHppYywgTWVsaWhhIiwKICAgICAgICBwdWJsaXNoZXI9IlNwcmluZ2VyIEJlcmxpbiBIZWlkZWxiZXJnIiwKICAgICAgICBhZGRyZXNzPSJCZXJsaW4sIEhlaWRlbGJlcmciLAogICAgICAgIElEPSJFYmVydDIwMDMiLAogICAgICAgIHNwcmluZ2VyPSIxIiwKICAgICAgICBwbGFjZXg9Ik1hbmFnaW5nIFNvZnR3YXJlIEVuZ2luZWVyaW5nIEtub3dsZWRnZSIsCiAgICApKQonJycpOw==\"));\n",
       "    "
      ],
      "text/plain": [
       "<IPython.core.display.Javascript object>"
      ]
     },
     "metadata": {},
     "output_type": "display_data"
    },
    {
     "data": {
      "application/javascript": [
       "$('span:contains(\"# Temp\")').closest('.cell').remove();"
      ],
      "text/plain": [
       "<IPython.core.display.Javascript object>"
      ]
     },
     "metadata": {},
     "output_type": "display_data"
    },
    {
     "data": {
      "application/javascript": [
       "\n",
       "        $('span:contains(\"# Temp\")').closest('.cell').remove();\n",
       "        var code = IPython.notebook.insert_cell_below('code');\n",
       "        code.set_text(atob(\"IyBUZW1wCmluc2VydCgnJycKICAgIGViZXJ0MjAwM2EgPSBEQihXb3JrVW5yZWxhdGVkKAogICAgICAgIDIwMDMsICJlLVImRDogRWZmZWN0aXZlbHkgTWFuYWdpbmcgYW5kIFVzaW5nIFImRCBLbm93bGVkZ2UiLAogICAgICAgIGRpc3BsYXk9ImViZXJ0IiwKICAgICAgICBhdXRob3JzPSJFYmVydCwgQ2hyaXN0b2YKYW5kIERlIE1hbiwgSm96ZWYKYW5kIFNjaGVsZW56LCBGYXJpYmEiLAogICAgICAgIHBsYWNlPUZBS0UsCiAgICAgICAgZW50cnl0eXBlPSJpbmJvb2siLAogICAgICAgIGVkaXRvcj0iQXVydW0sIEF5YvxrZQphbmQgSmVmZmVyeSwgUm9zcwphbmQgV29obGluLCBDbGFlcwphbmQgSGFuZHppYywgTWVsaWhhIiwKICAgICAgICBwdWJsaXNoZXI9IlNwcmluZ2VyIEJlcmxpbiBIZWlkZWxiZXJnIiwKICAgICAgICBhZGRyZXNzPSJCZXJsaW4sIEhlaWRlbGJlcmciLAogICAgICAgIElEPSJFYmVydDIwMDMiLAogICAgICAgIHNwcmluZ2VyPSIxIiwKICAgICAgICBwbGFjZXg9Ik1hbmFnaW5nIFNvZnR3YXJlIEVuZ2luZWVyaW5nIEtub3dsZWRnZSIsCiAgICApKQonJycpOw==\"));\n",
       "    "
      ],
      "text/plain": [
       "<IPython.core.display.Javascript object>"
      ]
     },
     "metadata": {},
     "output_type": "display_data"
    },
    {
     "data": {
      "application/javascript": [
       "$('span:contains(\"# Temp\")').closest('.cell').remove();"
      ],
      "text/plain": [
       "<IPython.core.display.Javascript object>"
      ]
     },
     "metadata": {},
     "output_type": "display_data"
    },
    {
     "data": {
      "application/javascript": [
       "\n",
       "        $('span:contains(\"# Temp\")').closest('.cell').remove();\n",
       "        var code = IPython.notebook.insert_cell_below('code');\n",
       "        code.set_text(atob(\"IyBUZW1wCmluc2VydCgnJycKICAgIHdhc3RlbGwxOTk5YSA9IERCKFdvcmtVbnJlbGF0ZWQoCiAgICAgICAgMTk5OSwgIlRoZSBIdW1hbiBEaW1lbnNpb24gb2YgdGhlIFNvZnR3YXJlIFByb2Nlc3MiLAogICAgICAgIGRpc3BsYXk9Indhc3RlbGwiLAogICAgICAgIGF1dGhvcnM9Ildhc3RlbGwsIERhdmlkIiwKICAgICAgICBwbGFjZT1GQUtFLAogICAgICAgIHBwPSIxNjUtLTE5OSIsCiAgICAgICAgZW50cnl0eXBlPSJpbmJvb2siLAogICAgICAgIGVkaXRvcj0iRGVybmlhbWUsIEplYW4tQ2xhdWRlCmFuZCBLYWJhLCBCYWRhcmEgQWxpCmFuZCBXYXN0ZWxsLCBEYXZpZCIsCiAgICAgICAgcHVibGlzaGVyPSJTcHJpbmdlciBCZXJsaW4gSGVpZGVsYmVyZyIsCiAgICAgICAgYWRkcmVzcz0iQmVybGluLCBIZWlkZWxiZXJnIiwKICAgICAgICBJRD0iV2FzdGVsbDE5OTkiLAogICAgICAgIHNwcmluZ2VyPSIxIiwKICAgICAgICBwbGFjZXg9IlNvZnR3YXJlIFByb2Nlc3M6IFByaW5jaXBsZXMsIE1ldGhvZG9sb2d5LCBhbmQgVGVjaG5vbG9neSIsCiAgICApKQonJycpOw==\"));\n",
       "    "
      ],
      "text/plain": [
       "<IPython.core.display.Javascript object>"
      ]
     },
     "metadata": {},
     "output_type": "display_data"
    },
    {
     "data": {
      "application/javascript": [
       "$('span:contains(\"# Temp\")').closest('.cell').remove();"
      ],
      "text/plain": [
       "<IPython.core.display.Javascript object>"
      ]
     },
     "metadata": {},
     "output_type": "display_data"
    },
    {
     "data": {
      "application/javascript": [
       "\n",
       "        $('span:contains(\"# Temp\")').closest('.cell').remove();\n",
       "        var code = IPython.notebook.insert_cell_below('code');\n",
       "        code.set_text(atob(\"IyBUZW1wCmluc2VydCgnJycKICAgIHdhc3RlbGwxOTk5YSA9IERCKFdvcmtVbnJlbGF0ZWQoCiAgICAgICAgMTk5OSwgIlRoZSBIdW1hbiBEaW1lbnNpb24gb2YgdGhlIFNvZnR3YXJlIFByb2Nlc3MiLAogICAgICAgIGRpc3BsYXk9Indhc3RlbGwiLAogICAgICAgIGF1dGhvcnM9Ildhc3RlbGwsIERhdmlkIiwKICAgICAgICBwbGFjZT1GQUtFLAogICAgICAgIHBwPSIxNjUtLTE5OSIsCiAgICAgICAgZW50cnl0eXBlPSJpbmJvb2siLAogICAgICAgIGVkaXRvcj0iRGVybmlhbWUsIEplYW4tQ2xhdWRlCmFuZCBLYWJhLCBCYWRhcmEgQWxpCmFuZCBXYXN0ZWxsLCBEYXZpZCIsCiAgICAgICAgcHVibGlzaGVyPSJTcHJpbmdlciBCZXJsaW4gSGVpZGVsYmVyZyIsCiAgICAgICAgYWRkcmVzcz0iQmVybGluLCBIZWlkZWxiZXJnIiwKICAgICAgICBJRD0iV2FzdGVsbDE5OTkiLAogICAgICAgIHNwcmluZ2VyPSIxIiwKICAgICAgICBwbGFjZXg9IlNvZnR3YXJlIFByb2Nlc3M6IFByaW5jaXBsZXMsIE1ldGhvZG9sb2d5LCBhbmQgVGVjaG5vbG9neSIsCiAgICApKQonJycpOw==\"));\n",
       "    "
      ],
      "text/plain": [
       "<IPython.core.display.Javascript object>"
      ]
     },
     "metadata": {},
     "output_type": "display_data"
    },
    {
     "data": {
      "application/javascript": [
       "$('span:contains(\"# Temp\")').closest('.cell').remove();"
      ],
      "text/plain": [
       "<IPython.core.display.Javascript object>"
      ]
     },
     "metadata": {},
     "output_type": "display_data"
    },
    {
     "data": {
      "application/javascript": [
       "\n",
       "        $('span:contains(\"# Temp\")').closest('.cell').remove();\n",
       "        var code = IPython.notebook.insert_cell_below('code');\n",
       "        code.set_text(atob(\"IyBUZW1wCmluc2VydCgnJycKICAgIG76MTk5NGEgPSBEQihXb3JrVW5yZWxhdGVkKAogICAgICAgIDE5OTQsICJEZXZlbG9wbWVudCBvZiBhIGxpZ2h0d2VpZ2h0IG9iamVjdC1iYXNlZCBzb2Z0d2FyZSBwcm9jZXNzIG1vZGVsIHVuZGVyIHByYWdtYXRpYyBjb25zdHJhaW50cyIsCiAgICAgICAgZGlzcGxheT0ibvoiLAogICAgICAgIGF1dGhvcnM9Ik76e/F9ZXosIEZlcm5hbmRvIEouCmFuZCBQcmFkZXMsIFJhZmFlbCIsCiAgICAgICAgcGxhY2U9RkFLRSwKICAgICAgICBwcD0iMjMxLS0yNTciLAogICAgICAgIGVudHJ5dHlwZT0iaW5wcm9jZWVkaW5ncyIsCiAgICAgICAgZWRpdG9yPSJUb3Vzc2FpbnQsIE1hcmNlbCIsCiAgICAgICAgcHVibGlzaGVyPSJTcHJpbmdlciBCZXJsaW4gSGVpZGVsYmVyZyIsCiAgICAgICAgYWRkcmVzcz0iQmVybGluLCBIZWlkZWxiZXJnIiwKICAgICAgICBJRD0iMTAuMTAwNy8zLTU0MC01ODgyMi0xXzEwMyIsCiAgICAgICAgc3ByaW5nZXI9IjEiLAogICAgICAgIHBsYWNleD0iQWRhIGluIEV1cm9wZSIsCiAgICApKQonJycpOw==\"));\n",
       "    "
      ],
      "text/plain": [
       "<IPython.core.display.Javascript object>"
      ]
     },
     "metadata": {},
     "output_type": "display_data"
    },
    {
     "data": {
      "application/javascript": [
       "$('span:contains(\"# Temp\")').closest('.cell').remove();"
      ],
      "text/plain": [
       "<IPython.core.display.Javascript object>"
      ]
     },
     "metadata": {},
     "output_type": "display_data"
    },
    {
     "data": {
      "application/javascript": [
       "\n",
       "        $('span:contains(\"# Temp\")').closest('.cell').remove();\n",
       "        var code = IPython.notebook.insert_cell_below('code');\n",
       "        code.set_text(atob(\"IyBUZW1wCmluc2VydCgnJycKICAgIG76MTk5NGEgPSBEQihXb3JrVW5yZWxhdGVkKAogICAgICAgIDE5OTQsICJEZXZlbG9wbWVudCBvZiBhIGxpZ2h0d2VpZ2h0IG9iamVjdC1iYXNlZCBzb2Z0d2FyZSBwcm9jZXNzIG1vZGVsIHVuZGVyIHByYWdtYXRpYyBjb25zdHJhaW50cyIsCiAgICAgICAgZGlzcGxheT0ibvoiLAogICAgICAgIGF1dGhvcnM9Ik76e/F9ZXosIEZlcm5hbmRvIEouCmFuZCBQcmFkZXMsIFJhZmFlbCIsCiAgICAgICAgcGxhY2U9RkFLRSwKICAgICAgICBwcD0iMjMxLS0yNTciLAogICAgICAgIGVudHJ5dHlwZT0iaW5wcm9jZWVkaW5ncyIsCiAgICAgICAgZWRpdG9yPSJUb3Vzc2FpbnQsIE1hcmNlbCIsCiAgICAgICAgcHVibGlzaGVyPSJTcHJpbmdlciBCZXJsaW4gSGVpZGVsYmVyZyIsCiAgICAgICAgYWRkcmVzcz0iQmVybGluLCBIZWlkZWxiZXJnIiwKICAgICAgICBJRD0iMTAuMTAwNy8zLTU0MC01ODgyMi0xXzEwMyIsCiAgICAgICAgc3ByaW5nZXI9IjEiLAogICAgICAgIHBsYWNleD0iQWRhIGluIEV1cm9wZSIsCiAgICApKQonJycpOw==\"));\n",
       "    "
      ],
      "text/plain": [
       "<IPython.core.display.Javascript object>"
      ]
     },
     "metadata": {},
     "output_type": "display_data"
    },
    {
     "data": {
      "application/javascript": [
       "$('span:contains(\"# Temp\")').closest('.cell').remove();"
      ],
      "text/plain": [
       "<IPython.core.display.Javascript object>"
      ]
     },
     "metadata": {},
     "output_type": "display_data"
    },
    {
     "data": {
      "application/javascript": [
       "\n",
       "        $('span:contains(\"# Temp\")').closest('.cell').remove();\n",
       "        var code = IPython.notebook.insert_cell_below('code');\n",
       "        code.set_text(atob(\"IyBUZW1wCmluc2VydCgnJycKICAgIGZy9mhsaWNoMjAwMWEgPSBEQihXb3JrVW5yZWxhdGVkKAogICAgICAgIDIwMDEsICJFbmFibGluZyBMb2NhbCBTUEkgaW4gYSBNdWx0aS1OYXRpb25hbCBDb21wYW55IiwKICAgICAgICBkaXNwbGF5PSJmcvZobGljaCIsCiAgICAgICAgYXV0aG9ycz0iRnL2aGxpY2gsIFBldGVyCmFuZCBMaWNodGVyLCBIb3JzdAphbmQgWmVsbGVyLCBNYW5mcmVkIiwKICAgICAgICBwbGFjZT1QUk9GRVMsCiAgICAgICAgcHA9IjIyNy0tMjM5IiwKICAgICAgICBlbnRyeXR5cGU9ImlucHJvY2VlZGluZ3MiLAogICAgICAgIGVkaXRvcj0iQm9tYXJpdXMsIEZyYW5rCmFuZCBLb21pLVNpcnZp9iwgU2VpamEiLAogICAgICAgIHB1Ymxpc2hlcj0iU3ByaW5nZXIgQmVybGluIEhlaWRlbGJlcmciLAogICAgICAgIGFkZHJlc3M9IkJlcmxpbiwgSGVpZGVsYmVyZyIsCiAgICAgICAgSUQ9IjEwLjEwMDcvMy01NDAtNDQ4MTMtNl8yMSIsCiAgICAgICAgc3ByaW5nZXI9IjEiLAogICAgICAgIHBsYWNleD0iUHJvZHVjdCBGb2N1c2VkIFNvZnR3YXJlIFByb2Nlc3MgSW1wcm92ZW1lbnQiLAogICAgKSkKJycnKTs=\"));\n",
       "    "
      ],
      "text/plain": [
       "<IPython.core.display.Javascript object>"
      ]
     },
     "metadata": {},
     "output_type": "display_data"
    },
    {
     "data": {
      "application/javascript": [
       "$('span:contains(\"# Temp\")').closest('.cell').remove();"
      ],
      "text/plain": [
       "<IPython.core.display.Javascript object>"
      ]
     },
     "metadata": {},
     "output_type": "display_data"
    },
    {
     "data": {
      "application/javascript": [
       "\n",
       "        $('span:contains(\"# Temp\")').closest('.cell').remove();\n",
       "        var code = IPython.notebook.insert_cell_below('code');\n",
       "        code.set_text(atob(\"IyBUZW1wCmluc2VydCgnJycKICAgIGZy9mhsaWNoMjAwMWEgPSBEQihXb3JrVW5yZWxhdGVkKAogICAgICAgIDIwMDEsICJFbmFibGluZyBMb2NhbCBTUEkgaW4gYSBNdWx0aS1OYXRpb25hbCBDb21wYW55IiwKICAgICAgICBkaXNwbGF5PSJmcvZobGljaCIsCiAgICAgICAgYXV0aG9ycz0iRnL2aGxpY2gsIFBldGVyCmFuZCBMaWNodGVyLCBIb3JzdAphbmQgWmVsbGVyLCBNYW5mcmVkIiwKICAgICAgICBwbGFjZT1QUk9GRVMsCiAgICAgICAgcHA9IjIyNy0tMjM5IiwKICAgICAgICBlbnRyeXR5cGU9ImlucHJvY2VlZGluZ3MiLAogICAgICAgIGVkaXRvcj0iQm9tYXJpdXMsIEZyYW5rCmFuZCBLb21pLVNpcnZp9iwgU2VpamEiLAogICAgICAgIHB1Ymxpc2hlcj0iU3ByaW5nZXIgQmVybGluIEhlaWRlbGJlcmciLAogICAgICAgIGFkZHJlc3M9IkJlcmxpbiwgSGVpZGVsYmVyZyIsCiAgICAgICAgSUQ9IjEwLjEwMDcvMy01NDAtNDQ4MTMtNl8yMSIsCiAgICAgICAgc3ByaW5nZXI9IjEiLAogICAgICAgIHBsYWNleD0iUHJvZHVjdCBGb2N1c2VkIFNvZnR3YXJlIFByb2Nlc3MgSW1wcm92ZW1lbnQiLAogICAgKSkKJycnKTs=\"));\n",
       "    "
      ],
      "text/plain": [
       "<IPython.core.display.Javascript object>"
      ]
     },
     "metadata": {},
     "output_type": "display_data"
    }
   ],
   "source": [
    "from custom_snowballing import UnrelatedInsert\n",
    "UnrelatedInsert(\"springer\", articles=article_list)"
   ]
  },
  {
   "cell_type": "code",
   "execution_count": null,
   "metadata": {
    "collapsed": true
   },
   "outputs": [],
   "source": [
    "# Temp\n",
    "insert('''\n",
    "    fröhlich2001a = DB(WorkUnrelated(\n",
    "        2001, \"Enabling Local SPI in a Multi-National Company\",\n",
    "        display=\"fröhlich\",\n",
    "        authors=\"Fröhlich, Peter and Lichter, Horst and Zeller, Manfred\",\n",
    "        place=PROFES,\n",
    "        pp=\"227--239\",\n",
    "        entrytype=\"inproceedings\",\n",
    "        editor=\"Bomarius, Frank and Komi-Sirviö, Seija\",\n",
    "        publisher=\"Springer Berlin Heidelberg\",\n",
    "        address=\"Berlin, Heidelberg\",\n",
    "        ID=\"10.1007/3-540-44813-6_21\",\n",
    "        springer=\"1\",\n",
    "        placex=\"Product Focused Software Process Improvement\",\n",
    "    ))\n",
    "''');"
   ]
  },
  {
   "cell_type": "code",
   "execution_count": null,
   "metadata": {
    "collapsed": true,
    "scrolled": false
   },
   "outputs": [],
   "source": [
    "ArticleNavigator??"
   ]
  },
  {
   "cell_type": "code",
   "execution_count": null,
   "metadata": {
    "collapsed": true
   },
   "outputs": [],
   "source": [
    "ArticleNavigator(articles=article_list)"
   ]
  }
 ],
 "metadata": {
  "kernelspec": {
   "display_name": "Python 3",
   "language": "python",
   "name": "python3"
  },
  "language_info": {
   "codemirror_mode": {
    "name": "ipython",
    "version": 3
   },
   "file_extension": ".py",
   "mimetype": "text/x-python",
   "name": "python",
   "nbconvert_exporter": "python",
   "pygments_lexer": "ipython3",
   "version": "3.6.0"
  },
  "toc": {
   "nav_menu": {
    "height": "12px",
    "width": "252px"
   },
   "number_sections": true,
   "sideBar": true,
   "skip_h1_title": false,
   "toc_cell": false,
   "toc_position": {},
   "toc_section_display": "block",
   "toc_window_display": false
  }
 },
 "nbformat": 4,
 "nbformat_minor": 2
}
