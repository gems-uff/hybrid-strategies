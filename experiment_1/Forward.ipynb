{
 "cells": [
  {
   "cell_type": "code",
   "execution_count": 1,
   "metadata": {
    "collapsed": true
   },
   "outputs": [],
   "source": [
    "import database\n",
    "from snowballing.operations import load_work, reload, work_by_varname\n",
    "from snowballing.selenium_scholar import SeleniumScholarQuerier\n",
    "from snowballing.snowballing import ForwardSnowballing\n",
    "from snowballing.dbmanager import insert, set_attribute\n",
    "from custom_snowballing import UnrelatedForward"
   ]
  },
  {
   "cell_type": "code",
   "execution_count": 2,
   "metadata": {
    "collapsed": true
   },
   "outputs": [],
   "source": [
    "querier = SeleniumScholarQuerier()"
   ]
  },
  {
   "cell_type": "code",
   "execution_count": 3,
   "metadata": {
    "scrolled": true
   },
   "outputs": [
    {
     "name": "stderr",
     "output_type": "stream",
     "text": [
      "[ INFO]  settings applied\n"
     ]
    }
   ],
   "source": [
    "querier.apply_settings(20, 4);"
   ]
  },
  {
   "cell_type": "code",
   "execution_count": 4,
   "metadata": {},
   "outputs": [
    {
     "name": "stdout",
     "output_type": "stream",
     "text": [
      "Captcha: ok\n"
     ]
    }
   ],
   "source": [
    "#manager = ForwardSnowballing(querier, \"mendes2004a\", start=60)\n",
    "import importlib\n",
    "import custom_snowballing\n",
    "importlib.reload(custom_snowballing)\n",
    "from custom_snowballing import UnrelatedForward\n",
    "manager = UnrelatedForward(querier, \"barreto2010a\", start=0)"
   ]
  },
  {
   "cell_type": "code",
   "execution_count": null,
   "metadata": {
    "collapsed": true
   },
   "outputs": [],
   "source": []
  },
  {
   "cell_type": "code",
   "execution_count": null,
   "metadata": {
    "collapsed": true
   },
   "outputs": [],
   "source": []
  },
  {
   "cell_type": "code",
   "execution_count": 5,
   "metadata": {
    "scrolled": true
   },
   "outputs": [
    {
     "data": {
      "application/vnd.jupyter.widget-view+json": {
       "model_id": "ae663b63bc3e4856bbd57235cee9a5ab",
       "version_major": 2,
       "version_minor": 0
      },
      "text/html": [
       "<p>Failed to display Jupyter Widget of type <code>Tab</code>.</p>\n",
       "<p>\n",
       "  If you're reading this message in Jupyter Notebook or JupyterLab, it may mean\n",
       "  that the widgets JavaScript is still loading. If this message persists, it\n",
       "  likely means that the widgets JavaScript library is either not installed or\n",
       "  not enabled. See the <a href=\"https://ipywidgets.readthedocs.io/en/stable/user_install.html\">Jupyter\n",
       "  Widgets Documentation</a> for setup instructions.\n",
       "</p>\n",
       "<p>\n",
       "  If you're reading this message in another notebook frontend (for example, a static\n",
       "  rendering on GitHub or <a href=\"https://nbviewer.jupyter.org/\">NBViewer</a>),\n",
       "  it may mean that your frontend doesn't currently support widgets.\n",
       "</p>\n"
      ],
      "text/plain": [
       "Tab(children=(VBox(children=(HBox(children=(Button(description='Previous Page', disabled=True, icon='arrow-left', style=ButtonStyle()), Button(description='Reload', icon='refresh', style=ButtonStyle()), Button(description='Next Page', disabled=True, icon='arrow-right', style=ButtonStyle()), ToggleButton(value=False, description='Debug'), Label(value=''))), Output(outputs=({'output_type': 'stream', 'text': \"Ops. It requires a captcha!\\nIf you filled in the browser, type '<ok>' here.\\n\", 'name': 'stdout'}, {'output_type': 'stream', 'text': '[ERROR]  requesting citation data failed: Message: The element reference of <div id=\"recaptcha\" class=\"g-recaptcha\"> is stale; either the element is no longer attached to the DOM, it is not in the current frame context, or the document has been refreshed\\n\\n', 'name': 'stderr'}, {'output_type': 'error', 'ename': 'TypeError', 'evalue': \"object of type 'NoneType' has no len()\", 'traceback': ['\\x1b[1;31m---------------------------------------------------------------------------\\x1b[0m', '\\x1b[1;31mTypeError\\x1b[0m                                 Traceback (most recent call last)', '\\x1b[1;32mc:\\\\erica\\\\snowballing\\\\snowballing\\\\snowballing.py\\x1b[0m in \\x1b[0;36mreload\\x1b[1;34m(self, b, show)\\x1b[0m\\n\\x1b[0;32m    620\\x1b[0m         \\x1b[1;32mwith\\x1b[0m \\x1b[0mself\\x1b[0m\\x1b[1;33m.\\x1b[0m\\x1b[0mnavigator\\x1b[0m\\x1b[1;33m.\\x1b[0m\\x1b[0moutput_widget\\x1b[0m\\x1b[1;33m:\\x1b[0m\\x1b[1;33m\\x1b[0m\\x1b[0m\\n\\x1b[0;32m    621\\x1b[0m             \\x1b[0mself\\x1b[0m\\x1b[1;33m.\\x1b[0m\\x1b[0mquerier\\x1b[0m\\x1b[1;33m.\\x1b[0m\\x1b[0mtasks\\x1b[0m\\x1b[1;33m.\\x1b[0m\\x1b[0mclear\\x1b[0m\\x1b[1;33m(\\x1b[0m\\x1b[1;33m)\\x1b[0m\\x1b[1;33m\\x1b[0m\\x1b[0m\\n\\x1b[1;32m--> 622\\x1b[1;33m             \\x1b[0mself\\x1b[0m\\x1b[1;33m.\\x1b[0m\\x1b[0mquerier\\x1b[0m\\x1b[1;33m.\\x1b[0m\\x1b[0msend_query\\x1b[0m\\x1b[1;33m(\\x1b[0m\\x1b[0mself\\x1b[0m\\x1b[1;33m.\\x1b[0m\\x1b[0mquery\\x1b[0m\\x1b[1;33m)\\x1b[0m\\x1b[1;33m\\x1b[0m\\x1b[0m\\n\\x1b[0m\\x1b[0;32m    623\\x1b[0m             self.page_number_widget.value = parse_qs(urlparse(\\n\\x1b[0;32m    624\\x1b[0m                 self.query.get_url()).query\\n', '\\x1b[1;32mc:\\\\erica\\\\snowballing\\\\snowballing\\\\selenium_scholar.py\\x1b[0m in \\x1b[0;36msend_query\\x1b[1;34m(self, query)\\x1b[0m\\n\\x1b[0;32m    483\\x1b[0m         \\x1b[1;34m\"\"\"Initiates a search query (a ScholarQuery instance)\"\"\"\\x1b[0m\\x1b[1;33m\\x1b[0m\\x1b[0m\\n\\x1b[0;32m    484\\x1b[0m         \\x1b[0mself\\x1b[0m\\x1b[1;33m.\\x1b[0m\\x1b[0mtasks\\x1b[0m\\x1b[1;33m.\\x1b[0m\\x1b[0mappend\\x1b[0m\\x1b[1;33m(\\x1b[0m\\x1b[0mQueryTask\\x1b[0m\\x1b[1;33m(\\x1b[0m\\x1b[0mquery\\x1b[0m\\x1b[1;33m)\\x1b[0m\\x1b[1;33m)\\x1b[0m\\x1b[1;33m\\x1b[0m\\x1b[0m\\n\\x1b[1;32m--> 485\\x1b[1;33m         \\x1b[0mself\\x1b[0m\\x1b[1;33m.\\x1b[0m\\x1b[0mcontinue_tasks\\x1b[0m\\x1b[1;33m(\\x1b[0m\\x1b[1;33m)\\x1b[0m\\x1b[1;33m\\x1b[0m\\x1b[0m\\n\\x1b[0m\\x1b[0;32m    486\\x1b[0m         \\x1b[1;32mreturn\\x1b[0m \\x1b[0mself\\x1b[0m\\x1b[1;33m\\x1b[0m\\x1b[0m\\n\\x1b[0;32m    487\\x1b[0m \\x1b[1;33m\\x1b[0m\\x1b[0m\\n', '\\x1b[1;32mc:\\\\erica\\\\snowballing\\\\snowballing\\\\selenium_scholar.py\\x1b[0m in \\x1b[0;36mcontinue_tasks\\x1b[1;34m(self)\\x1b[0m\\n\\x1b[0;32m    469\\x1b[0m         \\x1b[1;32mwhile\\x1b[0m \\x1b[0mself\\x1b[0m\\x1b[1;33m.\\x1b[0m\\x1b[0mtasks\\x1b[0m\\x1b[1;33m:\\x1b[0m\\x1b[1;33m\\x1b[0m\\x1b[0m\\n\\x1b[0;32m    470\\x1b[0m             \\x1b[0mtask\\x1b[0m \\x1b[1;33m=\\x1b[0m \\x1b[0mself\\x1b[0m\\x1b[1;33m.\\x1b[0m\\x1b[0mtasks\\x1b[0m\\x1b[1;33m.\\x1b[0m\\x1b[0mpopleft\\x1b[0m\\x1b[1;33m(\\x1b[0m\\x1b[1;33m)\\x1b[0m\\x1b[1;33m\\x1b[0m\\x1b[0m\\n\\x1b[1;32m--> 471\\x1b[1;33m             \\x1b[0mtask\\x1b[0m\\x1b[1;33m.\\x1b[0m\\x1b[0mapply\\x1b[0m\\x1b[1;33m(\\x1b[0m\\x1b[0mself\\x1b[0m\\x1b[1;33m)\\x1b[0m\\x1b[1;33m\\x1b[0m\\x1b[0m\\n\\x1b[0m\\x1b[0;32m    472\\x1b[0m         \\x1b[1;32mif\\x1b[0m \\x1b[0mself\\x1b[0m\\x1b[1;33m.\\x1b[0m\\x1b[0mresult\\x1b[0m\\x1b[1;33m:\\x1b[0m\\x1b[1;33m\\x1b[0m\\x1b[0m\\n\\x1b[0;32m    473\\x1b[0m             \\x1b[0mself\\x1b[0m\\x1b[1;33m.\\x1b[0m\\x1b[0marticles\\x1b[0m \\x1b[1;33m=\\x1b[0m \\x1b[0mself\\x1b[0m\\x1b[1;33m.\\x1b[0m\\x1b[0mresult\\x1b[0m\\x1b[1;33m.\\x1b[0m\\x1b[0marticles\\x1b[0m\\x1b[1;33m\\x1b[0m\\x1b[0m\\n', \"\\x1b[1;32mc:\\\\erica\\\\snowballing\\\\snowballing\\\\selenium_scholar.py\\x1b[0m in \\x1b[0;36mapply\\x1b[1;34m(self, querier)\\x1b[0m\\n\\x1b[0;32m    152\\x1b[0m     \\x1b[1;32mdef\\x1b[0m \\x1b[0mapply\\x1b[0m\\x1b[1;33m(\\x1b[0m\\x1b[0mself\\x1b[0m\\x1b[1;33m,\\x1b[0m \\x1b[0mquerier\\x1b[0m\\x1b[1;33m)\\x1b[0m\\x1b[1;33m:\\x1b[0m\\x1b[1;33m\\x1b[0m\\x1b[0m\\n\\x1b[0;32m    153\\x1b[0m         \\x1b[1;32mif\\x1b[0m \\x1b[0mlen\\x1b[0m\\x1b[1;33m(\\x1b[0m\\x1b[0mself\\x1b[0m\\x1b[1;33m.\\x1b[0m\\x1b[0mresult\\x1b[0m\\x1b[1;33m.\\x1b[0m\\x1b[0marticles\\x1b[0m\\x1b[1;33m)\\x1b[0m \\x1b[1;33m<\\x1b[0m \\x1b[0mgetattr\\x1b[0m\\x1b[1;33m(\\x1b[0m\\x1b[0mself\\x1b[0m\\x1b[1;33m.\\x1b[0m\\x1b[0mresult\\x1b[0m\\x1b[1;33m.\\x1b[0m\\x1b[0mquery\\x1b[0m\\x1b[1;33m,\\x1b[0m \\x1b[1;34m'num_results'\\x1b[0m\\x1b[1;33m,\\x1b[0m \\x1b[1;36m10000\\x1b[0m\\x1b[1;33m)\\x1b[0m\\x1b[1;33m:\\x1b[0m\\x1b[1;33m\\x1b[0m\\x1b[0m\\n\\x1b[1;32m--> 154\\x1b[1;33m             \\x1b[0mself\\x1b[0m\\x1b[1;33m.\\x1b[0m\\x1b[0mget_citation_data\\x1b[0m\\x1b[1;33m(\\x1b[0m\\x1b[0mquerier\\x1b[0m\\x1b[1;33m)\\x1b[0m\\x1b[1;33m\\x1b[0m\\x1b[0m\\n\\x1b[0m\\x1b[0;32m    155\\x1b[0m             \\x1b[0mself\\x1b[0m\\x1b[1;33m.\\x1b[0m\\x1b[0mresult\\x1b[0m\\x1b[1;33m.\\x1b[0m\\x1b[0marticles\\x1b[0m\\x1b[1;33m.\\x1b[0m\\x1b[0mappend\\x1b[0m\\x1b[1;33m(\\x1b[0m\\x1b[0mself\\x1b[0m\\x1b[1;33m.\\x1b[0m\\x1b[0marticle\\x1b[0m\\x1b[1;33m)\\x1b[0m\\x1b[1;33m\\x1b[0m\\x1b[0m\\n\\x1b[0;32m    156\\x1b[0m \\x1b[1;33m\\x1b[0m\\x1b[0m\\n\", '\\x1b[1;32mc:\\\\erica\\\\snowballing\\\\snowballing\\\\selenium_scholar.py\\x1b[0m in \\x1b[0;36mget_citation_data\\x1b[1;34m(self, querier)\\x1b[0m\\n\\x1b[0;32m    141\\x1b[0m                                     \\x1b[0merr_msg\\x1b[0m\\x1b[1;33m=\\x1b[0m\\x1b[1;34m\\'requesting citation data failed\\'\\x1b[0m\\x1b[1;33m,\\x1b[0m\\x1b[1;33m\\x1b[0m\\x1b[0m\\n\\x1b[0;32m    142\\x1b[0m                                     condition=(By.TAG_NAME, \\'pre\\'))\\n\\x1b[1;32m--> 143\\x1b[1;33m         \\x1b[0msoup\\x1b[0m \\x1b[1;33m=\\x1b[0m \\x1b[0mBeautifulSoup\\x1b[0m\\x1b[1;33m(\\x1b[0m\\x1b[0mdata\\x1b[0m\\x1b[1;33m,\\x1b[0m \\x1b[1;34m\"html.parser\"\\x1b[0m\\x1b[1;33m)\\x1b[0m\\x1b[1;33m\\x1b[0m\\x1b[0m\\n\\x1b[0m\\x1b[0;32m    144\\x1b[0m         \\x1b[0mdata\\x1b[0m \\x1b[1;33m=\\x1b[0m \\x1b[0msoup\\x1b[0m\\x1b[1;33m.\\x1b[0m\\x1b[0mtext\\x1b[0m\\x1b[1;33m\\x1b[0m\\x1b[0m\\n\\x1b[0;32m    145\\x1b[0m         \\x1b[1;32mif\\x1b[0m \\x1b[0mdata\\x1b[0m \\x1b[1;32mis\\x1b[0m \\x1b[1;32mNone\\x1b[0m\\x1b[1;33m:\\x1b[0m\\x1b[1;33m\\x1b[0m\\x1b[0m\\n', \"\\x1b[1;32mC:\\\\ProgramData\\\\Anaconda3\\\\lib\\\\site-packages\\\\bs4\\\\__init__.py\\x1b[0m in \\x1b[0;36m__init__\\x1b[1;34m(self, markup, features, builder, parse_only, from_encoding, exclude_encodings, **kwargs)\\x1b[0m\\n\\x1b[0;32m    190\\x1b[0m         \\x1b[1;32mif\\x1b[0m \\x1b[0mhasattr\\x1b[0m\\x1b[1;33m(\\x1b[0m\\x1b[0mmarkup\\x1b[0m\\x1b[1;33m,\\x1b[0m \\x1b[1;34m'read'\\x1b[0m\\x1b[1;33m)\\x1b[0m\\x1b[1;33m:\\x1b[0m        \\x1b[1;31m# It's a file-type object.\\x1b[0m\\x1b[1;33m\\x1b[0m\\x1b[0m\\n\\x1b[0;32m    191\\x1b[0m             \\x1b[0mmarkup\\x1b[0m \\x1b[1;33m=\\x1b[0m \\x1b[0mmarkup\\x1b[0m\\x1b[1;33m.\\x1b[0m\\x1b[0mread\\x1b[0m\\x1b[1;33m(\\x1b[0m\\x1b[1;33m)\\x1b[0m\\x1b[1;33m\\x1b[0m\\x1b[0m\\n\\x1b[1;32m--> 192\\x1b[1;33m         elif len(markup) <= 256 and (\\n\\x1b[0m\\x1b[0;32m    193\\x1b[0m                 \\x1b[1;33m(\\x1b[0m\\x1b[0misinstance\\x1b[0m\\x1b[1;33m(\\x1b[0m\\x1b[0mmarkup\\x1b[0m\\x1b[1;33m,\\x1b[0m \\x1b[0mbytes\\x1b[0m\\x1b[1;33m)\\x1b[0m \\x1b[1;32mand\\x1b[0m \\x1b[1;32mnot\\x1b[0m \\x1b[1;34mb'<'\\x1b[0m \\x1b[1;32min\\x1b[0m \\x1b[0mmarkup\\x1b[0m\\x1b[1;33m)\\x1b[0m\\x1b[1;33m\\x1b[0m\\x1b[0m\\n\\x1b[0;32m    194\\x1b[0m                 \\x1b[1;32mor\\x1b[0m \\x1b[1;33m(\\x1b[0m\\x1b[0misinstance\\x1b[0m\\x1b[1;33m(\\x1b[0m\\x1b[0mmarkup\\x1b[0m\\x1b[1;33m,\\x1b[0m \\x1b[0mstr\\x1b[0m\\x1b[1;33m)\\x1b[0m \\x1b[1;32mand\\x1b[0m \\x1b[1;32mnot\\x1b[0m \\x1b[1;34m'<'\\x1b[0m \\x1b[1;32min\\x1b[0m \\x1b[0mmarkup\\x1b[0m\\x1b[1;33m)\\x1b[0m\\x1b[1;33m\\x1b[0m\\x1b[0m\\n\", \"\\x1b[1;31mTypeError\\x1b[0m: object of type 'NoneType' has no len()\"]})))), VBox(children=(HBox(children=(Button(description='Previous Article', disabled=True, icon='caret-left', style=ButtonStyle()), Button(description='Reload Article', icon='refresh', style=ButtonStyle()), Button(description='Next Article', disabled=True, icon='caret-right', style=ButtonStyle()))), HBox(children=(Button(description='Unrelated: Scripts', style=ButtonStyle()), Button(description='Unrelated: Provenance', style=ButtonStyle()), Button(description='Both', style=ButtonStyle()), Button(description='Ok', style=ButtonStyle()))), HBox(children=(Dropdown(description='Type', index=5, options=('Work', 'WorkSnowball', 'WorkForward', 'WorkBackward', 'WorkOk', 'WorkUnrelated', 'WorkNoFile', 'WorkLang', 'Site', 'Email'), value='WorkUnrelated'), ToggleButton(value=False, description='File'))), HBox(children=(Text(value='', description='Due'), Text(value='', description='Place'))), HBox(children=(Text(value='', description='Year'), Text(value='', description='Prefix Var'))), HBox(children=(Text(value='', description='PDFPage'), Text(value='', description='Related'))), HBox(children=(Text(value='', description='Display'), Text(value='', description='Summary'))), HBox(children=(Text(value='', description='Star'), Text(value='', description='Link'))), HBox(children=(Button(description='Reload Article', icon='refresh', style=ButtonStyle()), IntSlider(value=0, max=0), Label(value='0/0'))), Output(outputs=({'output_type': 'stream', 'text': \"Ops. It requires a captcha!\\nIf you filled in the browser, type '<ok>' here.\\n\", 'name': 'stdout'}, {'output_type': 'stream', 'text': '[ERROR]  requesting citation data failed: Message: The element reference of <div id=\"recaptcha\" class=\"g-recaptcha\"> is stale; either the element is no longer attached to the DOM, it is not in the current frame context, or the document has been refreshed\\n\\n', 'name': 'stderr'}, {'output_type': 'error', 'ename': 'TypeError', 'evalue': \"object of type 'NoneType' has no len()\", 'traceback': ['\\x1b[1;31m---------------------------------------------------------------------------\\x1b[0m', '\\x1b[1;31mTypeError\\x1b[0m                                 Traceback (most recent call last)', '\\x1b[1;32mc:\\\\erica\\\\snowballing\\\\snowballing\\\\snowballing.py\\x1b[0m in \\x1b[0;36mreload\\x1b[1;34m(self, b, show)\\x1b[0m\\n\\x1b[0;32m    620\\x1b[0m         \\x1b[1;32mwith\\x1b[0m \\x1b[0mself\\x1b[0m\\x1b[1;33m.\\x1b[0m\\x1b[0mnavigator\\x1b[0m\\x1b[1;33m.\\x1b[0m\\x1b[0moutput_widget\\x1b[0m\\x1b[1;33m:\\x1b[0m\\x1b[1;33m\\x1b[0m\\x1b[0m\\n\\x1b[0;32m    621\\x1b[0m             \\x1b[0mself\\x1b[0m\\x1b[1;33m.\\x1b[0m\\x1b[0mquerier\\x1b[0m\\x1b[1;33m.\\x1b[0m\\x1b[0mtasks\\x1b[0m\\x1b[1;33m.\\x1b[0m\\x1b[0mclear\\x1b[0m\\x1b[1;33m(\\x1b[0m\\x1b[1;33m)\\x1b[0m\\x1b[1;33m\\x1b[0m\\x1b[0m\\n\\x1b[1;32m--> 622\\x1b[1;33m             \\x1b[0mself\\x1b[0m\\x1b[1;33m.\\x1b[0m\\x1b[0mquerier\\x1b[0m\\x1b[1;33m.\\x1b[0m\\x1b[0msend_query\\x1b[0m\\x1b[1;33m(\\x1b[0m\\x1b[0mself\\x1b[0m\\x1b[1;33m.\\x1b[0m\\x1b[0mquery\\x1b[0m\\x1b[1;33m)\\x1b[0m\\x1b[1;33m\\x1b[0m\\x1b[0m\\n\\x1b[0m\\x1b[0;32m    623\\x1b[0m             self.page_number_widget.value = parse_qs(urlparse(\\n\\x1b[0;32m    624\\x1b[0m                 self.query.get_url()).query\\n', '\\x1b[1;32mc:\\\\erica\\\\snowballing\\\\snowballing\\\\selenium_scholar.py\\x1b[0m in \\x1b[0;36msend_query\\x1b[1;34m(self, query)\\x1b[0m\\n\\x1b[0;32m    483\\x1b[0m         \\x1b[1;34m\"\"\"Initiates a search query (a ScholarQuery instance)\"\"\"\\x1b[0m\\x1b[1;33m\\x1b[0m\\x1b[0m\\n\\x1b[0;32m    484\\x1b[0m         \\x1b[0mself\\x1b[0m\\x1b[1;33m.\\x1b[0m\\x1b[0mtasks\\x1b[0m\\x1b[1;33m.\\x1b[0m\\x1b[0mappend\\x1b[0m\\x1b[1;33m(\\x1b[0m\\x1b[0mQueryTask\\x1b[0m\\x1b[1;33m(\\x1b[0m\\x1b[0mquery\\x1b[0m\\x1b[1;33m)\\x1b[0m\\x1b[1;33m)\\x1b[0m\\x1b[1;33m\\x1b[0m\\x1b[0m\\n\\x1b[1;32m--> 485\\x1b[1;33m         \\x1b[0mself\\x1b[0m\\x1b[1;33m.\\x1b[0m\\x1b[0mcontinue_tasks\\x1b[0m\\x1b[1;33m(\\x1b[0m\\x1b[1;33m)\\x1b[0m\\x1b[1;33m\\x1b[0m\\x1b[0m\\n\\x1b[0m\\x1b[0;32m    486\\x1b[0m         \\x1b[1;32mreturn\\x1b[0m \\x1b[0mself\\x1b[0m\\x1b[1;33m\\x1b[0m\\x1b[0m\\n\\x1b[0;32m    487\\x1b[0m \\x1b[1;33m\\x1b[0m\\x1b[0m\\n', '\\x1b[1;32mc:\\\\erica\\\\snowballing\\\\snowballing\\\\selenium_scholar.py\\x1b[0m in \\x1b[0;36mcontinue_tasks\\x1b[1;34m(self)\\x1b[0m\\n\\x1b[0;32m    469\\x1b[0m         \\x1b[1;32mwhile\\x1b[0m \\x1b[0mself\\x1b[0m\\x1b[1;33m.\\x1b[0m\\x1b[0mtasks\\x1b[0m\\x1b[1;33m:\\x1b[0m\\x1b[1;33m\\x1b[0m\\x1b[0m\\n\\x1b[0;32m    470\\x1b[0m             \\x1b[0mtask\\x1b[0m \\x1b[1;33m=\\x1b[0m \\x1b[0mself\\x1b[0m\\x1b[1;33m.\\x1b[0m\\x1b[0mtasks\\x1b[0m\\x1b[1;33m.\\x1b[0m\\x1b[0mpopleft\\x1b[0m\\x1b[1;33m(\\x1b[0m\\x1b[1;33m)\\x1b[0m\\x1b[1;33m\\x1b[0m\\x1b[0m\\n\\x1b[1;32m--> 471\\x1b[1;33m             \\x1b[0mtask\\x1b[0m\\x1b[1;33m.\\x1b[0m\\x1b[0mapply\\x1b[0m\\x1b[1;33m(\\x1b[0m\\x1b[0mself\\x1b[0m\\x1b[1;33m)\\x1b[0m\\x1b[1;33m\\x1b[0m\\x1b[0m\\n\\x1b[0m\\x1b[0;32m    472\\x1b[0m         \\x1b[1;32mif\\x1b[0m \\x1b[0mself\\x1b[0m\\x1b[1;33m.\\x1b[0m\\x1b[0mresult\\x1b[0m\\x1b[1;33m:\\x1b[0m\\x1b[1;33m\\x1b[0m\\x1b[0m\\n\\x1b[0;32m    473\\x1b[0m             \\x1b[0mself\\x1b[0m\\x1b[1;33m.\\x1b[0m\\x1b[0marticles\\x1b[0m \\x1b[1;33m=\\x1b[0m \\x1b[0mself\\x1b[0m\\x1b[1;33m.\\x1b[0m\\x1b[0mresult\\x1b[0m\\x1b[1;33m.\\x1b[0m\\x1b[0marticles\\x1b[0m\\x1b[1;33m\\x1b[0m\\x1b[0m\\n', \"\\x1b[1;32mc:\\\\erica\\\\snowballing\\\\snowballing\\\\selenium_scholar.py\\x1b[0m in \\x1b[0;36mapply\\x1b[1;34m(self, querier)\\x1b[0m\\n\\x1b[0;32m    152\\x1b[0m     \\x1b[1;32mdef\\x1b[0m \\x1b[0mapply\\x1b[0m\\x1b[1;33m(\\x1b[0m\\x1b[0mself\\x1b[0m\\x1b[1;33m,\\x1b[0m \\x1b[0mquerier\\x1b[0m\\x1b[1;33m)\\x1b[0m\\x1b[1;33m:\\x1b[0m\\x1b[1;33m\\x1b[0m\\x1b[0m\\n\\x1b[0;32m    153\\x1b[0m         \\x1b[1;32mif\\x1b[0m \\x1b[0mlen\\x1b[0m\\x1b[1;33m(\\x1b[0m\\x1b[0mself\\x1b[0m\\x1b[1;33m.\\x1b[0m\\x1b[0mresult\\x1b[0m\\x1b[1;33m.\\x1b[0m\\x1b[0marticles\\x1b[0m\\x1b[1;33m)\\x1b[0m \\x1b[1;33m<\\x1b[0m \\x1b[0mgetattr\\x1b[0m\\x1b[1;33m(\\x1b[0m\\x1b[0mself\\x1b[0m\\x1b[1;33m.\\x1b[0m\\x1b[0mresult\\x1b[0m\\x1b[1;33m.\\x1b[0m\\x1b[0mquery\\x1b[0m\\x1b[1;33m,\\x1b[0m \\x1b[1;34m'num_results'\\x1b[0m\\x1b[1;33m,\\x1b[0m \\x1b[1;36m10000\\x1b[0m\\x1b[1;33m)\\x1b[0m\\x1b[1;33m:\\x1b[0m\\x1b[1;33m\\x1b[0m\\x1b[0m\\n\\x1b[1;32m--> 154\\x1b[1;33m             \\x1b[0mself\\x1b[0m\\x1b[1;33m.\\x1b[0m\\x1b[0mget_citation_data\\x1b[0m\\x1b[1;33m(\\x1b[0m\\x1b[0mquerier\\x1b[0m\\x1b[1;33m)\\x1b[0m\\x1b[1;33m\\x1b[0m\\x1b[0m\\n\\x1b[0m\\x1b[0;32m    155\\x1b[0m             \\x1b[0mself\\x1b[0m\\x1b[1;33m.\\x1b[0m\\x1b[0mresult\\x1b[0m\\x1b[1;33m.\\x1b[0m\\x1b[0marticles\\x1b[0m\\x1b[1;33m.\\x1b[0m\\x1b[0mappend\\x1b[0m\\x1b[1;33m(\\x1b[0m\\x1b[0mself\\x1b[0m\\x1b[1;33m.\\x1b[0m\\x1b[0marticle\\x1b[0m\\x1b[1;33m)\\x1b[0m\\x1b[1;33m\\x1b[0m\\x1b[0m\\n\\x1b[0;32m    156\\x1b[0m \\x1b[1;33m\\x1b[0m\\x1b[0m\\n\", '\\x1b[1;32mc:\\\\erica\\\\snowballing\\\\snowballing\\\\selenium_scholar.py\\x1b[0m in \\x1b[0;36mget_citation_data\\x1b[1;34m(self, querier)\\x1b[0m\\n\\x1b[0;32m    141\\x1b[0m                                     \\x1b[0merr_msg\\x1b[0m\\x1b[1;33m=\\x1b[0m\\x1b[1;34m\\'requesting citation data failed\\'\\x1b[0m\\x1b[1;33m,\\x1b[0m\\x1b[1;33m\\x1b[0m\\x1b[0m\\n\\x1b[0;32m    142\\x1b[0m                                     condition=(By.TAG_NAME, \\'pre\\'))\\n\\x1b[1;32m--> 143\\x1b[1;33m         \\x1b[0msoup\\x1b[0m \\x1b[1;33m=\\x1b[0m \\x1b[0mBeautifulSoup\\x1b[0m\\x1b[1;33m(\\x1b[0m\\x1b[0mdata\\x1b[0m\\x1b[1;33m,\\x1b[0m \\x1b[1;34m\"html.parser\"\\x1b[0m\\x1b[1;33m)\\x1b[0m\\x1b[1;33m\\x1b[0m\\x1b[0m\\n\\x1b[0m\\x1b[0;32m    144\\x1b[0m         \\x1b[0mdata\\x1b[0m \\x1b[1;33m=\\x1b[0m \\x1b[0msoup\\x1b[0m\\x1b[1;33m.\\x1b[0m\\x1b[0mtext\\x1b[0m\\x1b[1;33m\\x1b[0m\\x1b[0m\\n\\x1b[0;32m    145\\x1b[0m         \\x1b[1;32mif\\x1b[0m \\x1b[0mdata\\x1b[0m \\x1b[1;32mis\\x1b[0m \\x1b[1;32mNone\\x1b[0m\\x1b[1;33m:\\x1b[0m\\x1b[1;33m\\x1b[0m\\x1b[0m\\n', \"\\x1b[1;32mC:\\\\ProgramData\\\\Anaconda3\\\\lib\\\\site-packages\\\\bs4\\\\__init__.py\\x1b[0m in \\x1b[0;36m__init__\\x1b[1;34m(self, markup, features, builder, parse_only, from_encoding, exclude_encodings, **kwargs)\\x1b[0m\\n\\x1b[0;32m    190\\x1b[0m         \\x1b[1;32mif\\x1b[0m \\x1b[0mhasattr\\x1b[0m\\x1b[1;33m(\\x1b[0m\\x1b[0mmarkup\\x1b[0m\\x1b[1;33m,\\x1b[0m \\x1b[1;34m'read'\\x1b[0m\\x1b[1;33m)\\x1b[0m\\x1b[1;33m:\\x1b[0m        \\x1b[1;31m# It's a file-type object.\\x1b[0m\\x1b[1;33m\\x1b[0m\\x1b[0m\\n\\x1b[0;32m    191\\x1b[0m             \\x1b[0mmarkup\\x1b[0m \\x1b[1;33m=\\x1b[0m \\x1b[0mmarkup\\x1b[0m\\x1b[1;33m.\\x1b[0m\\x1b[0mread\\x1b[0m\\x1b[1;33m(\\x1b[0m\\x1b[1;33m)\\x1b[0m\\x1b[1;33m\\x1b[0m\\x1b[0m\\n\\x1b[1;32m--> 192\\x1b[1;33m         elif len(markup) <= 256 and (\\n\\x1b[0m\\x1b[0;32m    193\\x1b[0m                 \\x1b[1;33m(\\x1b[0m\\x1b[0misinstance\\x1b[0m\\x1b[1;33m(\\x1b[0m\\x1b[0mmarkup\\x1b[0m\\x1b[1;33m,\\x1b[0m \\x1b[0mbytes\\x1b[0m\\x1b[1;33m)\\x1b[0m \\x1b[1;32mand\\x1b[0m \\x1b[1;32mnot\\x1b[0m \\x1b[1;34mb'<'\\x1b[0m \\x1b[1;32min\\x1b[0m \\x1b[0mmarkup\\x1b[0m\\x1b[1;33m)\\x1b[0m\\x1b[1;33m\\x1b[0m\\x1b[0m\\n\\x1b[0;32m    194\\x1b[0m                 \\x1b[1;32mor\\x1b[0m \\x1b[1;33m(\\x1b[0m\\x1b[0misinstance\\x1b[0m\\x1b[1;33m(\\x1b[0m\\x1b[0mmarkup\\x1b[0m\\x1b[1;33m,\\x1b[0m \\x1b[0mstr\\x1b[0m\\x1b[1;33m)\\x1b[0m \\x1b[1;32mand\\x1b[0m \\x1b[1;32mnot\\x1b[0m \\x1b[1;34m'<'\\x1b[0m \\x1b[1;32min\\x1b[0m \\x1b[0mmarkup\\x1b[0m\\x1b[1;33m)\\x1b[0m\\x1b[1;33m\\x1b[0m\\x1b[0m\\n\", \"\\x1b[1;31mTypeError\\x1b[0m: object of type 'NoneType' has no len()\"]}))))), _titles={'0': 'Page', '1': 'Article'})"
      ]
     },
     "metadata": {},
     "output_type": "display_data"
    },
    {
     "data": {
      "application/javascript": [
       "$('span:contains(\"# Temp\")').closest('.cell').remove();"
      ],
      "text/plain": [
       "<IPython.core.display.Javascript object>"
      ]
     },
     "metadata": {},
     "output_type": "display_data"
    },
    {
     "data": {
      "application/javascript": [
       "\n",
       "        $('span:contains(\"# Temp\")').closest('.cell').remove();\n",
       "        var code = IPython.notebook.insert_cell_below('code');\n",
       "        code.set_text(atob(\"IyBUZW1wCmluc2VydCgnJycKREIoQ2l0YXRpb24oCiAgICBsZXBtZXRzMjAxMmEsIGJhcnJldG8yMDEwYSwgcmVmPSIiLAogICAgY29udGV4dHM9WwoKICAgIF0sCikpCgonJycsIGNpdGF0aW9ucz0nYmFycmV0bzIwMTBhJyk7CnNldF9hdHRyaWJ1dGUoJ2xlcG1ldHMyMDEyYScsICdwdWJsaXNoZXInLCAnRWxzZXZpZXInKTsKc2V0X2F0dHJpYnV0ZSgnbGVwbWV0czIwMTJhJywgJ2V4Y2VycHQnLCAnQWJzdHJhY3QgUHJvY2VzcyBpbXByb3ZlbWVudCBzaG91bGQgaW1wcm92ZSBhbiBvcmdhbmlzYXRpb24ncyBhYmlsaXR5IHRvIGFjaGlldmUgaXRzIGJ1c2luZXNzIGdvYWxzLiBXaGlsZSBtYXBwaW5nIGFuIG9yZ2FuaXNhdGlvbidzIHN0cmF0ZWdpYyBnb2FscyB0aHJvdWdoIHZhcmlvdXMgbGF5ZXJzIG9mIG1hbmFnZW1lbnQgaXMgY29tbW9uLCBzdWNoIG1hcHBpbmcgZG9lcyBub3Qgc2VlbSB0byBjb250aW51ZSB0aHJvdWdoIHRvIHRoZWlyICcpOwpzZXRfYXR0cmlidXRlKCdsZXBtZXRzMjAxMmEnLCAnY2x1c3Rlcl9pZCcsICc3MjYzMTY1OTUyNjQ3ODg1NScpOwpzZXRfYXR0cmlidXRlKCdsZXBtZXRzMjAxMmEnLCAnc2Nob2xhcicsICdodHRwOi8vc2Nob2xhci5nb29nbGUuY29tL3NjaG9sYXI/Y2l0ZXM9NzI2MzE2NTk1MjY0Nzg4NTUmYXNfc2R0PTIwMDUmc2Npb2R0PTAsNSZobD1lbicpOw==\"));\n",
       "    "
      ],
      "text/plain": [
       "<IPython.core.display.Javascript object>"
      ]
     },
     "metadata": {},
     "output_type": "display_data"
    },
    {
     "data": {
      "application/javascript": [
       "$('span:contains(\"# Temp\")').closest('.cell').remove();"
      ],
      "text/plain": [
       "<IPython.core.display.Javascript object>"
      ]
     },
     "metadata": {},
     "output_type": "display_data"
    },
    {
     "data": {
      "application/javascript": [
       "\n",
       "        $('span:contains(\"# Temp\")').closest('.cell').remove();\n",
       "        var code = IPython.notebook.insert_cell_below('code');\n",
       "        code.set_text(atob(\"IyBUZW1wCmluc2VydCgnJycKREIoQ2l0YXRpb24oCiAgICBsZXBtZXRzMjAxMmEsIGJhcnJldG8yMDEwYSwgcmVmPSIiLAogICAgY29udGV4dHM9WwoKICAgIF0sCikpCgonJycsIGNpdGF0aW9ucz0nYmFycmV0bzIwMTBhJyk7CnNldF9hdHRyaWJ1dGUoJ2xlcG1ldHMyMDEyYScsICdwdWJsaXNoZXInLCAnRWxzZXZpZXInKTsKc2V0X2F0dHJpYnV0ZSgnbGVwbWV0czIwMTJhJywgJ2V4Y2VycHQnLCAnQWJzdHJhY3QgUHJvY2VzcyBpbXByb3ZlbWVudCBzaG91bGQgaW1wcm92ZSBhbiBvcmdhbmlzYXRpb24ncyBhYmlsaXR5IHRvIGFjaGlldmUgaXRzIGJ1c2luZXNzIGdvYWxzLiBXaGlsZSBtYXBwaW5nIGFuIG9yZ2FuaXNhdGlvbidzIHN0cmF0ZWdpYyBnb2FscyB0aHJvdWdoIHZhcmlvdXMgbGF5ZXJzIG9mIG1hbmFnZW1lbnQgaXMgY29tbW9uLCBzdWNoIG1hcHBpbmcgZG9lcyBub3Qgc2VlbSB0byBjb250aW51ZSB0aHJvdWdoIHRvIHRoZWlyICcpOwpzZXRfYXR0cmlidXRlKCdsZXBtZXRzMjAxMmEnLCAnY2x1c3Rlcl9pZCcsICc3MjYzMTY1OTUyNjQ3ODg1NScpOwpzZXRfYXR0cmlidXRlKCdsZXBtZXRzMjAxMmEnLCAnc2Nob2xhcicsICdodHRwOi8vc2Nob2xhci5nb29nbGUuY29tL3NjaG9sYXI/Y2l0ZXM9NzI2MzE2NTk1MjY0Nzg4NTUmYXNfc2R0PTIwMDUmc2Npb2R0PTAsNSZobD1lbicpOw==\"));\n",
       "    "
      ],
      "text/plain": [
       "<IPython.core.display.Javascript object>"
      ]
     },
     "metadata": {},
     "output_type": "display_data"
    },
    {
     "data": {
      "application/javascript": [
       "$('span:contains(\"# Temp\")').closest('.cell').remove();"
      ],
      "text/plain": [
       "<IPython.core.display.Javascript object>"
      ]
     },
     "metadata": {},
     "output_type": "display_data"
    },
    {
     "data": {
      "application/javascript": [
       "\n",
       "        $('span:contains(\"# Temp\")').closest('.cell').remove();\n",
       "        var code = IPython.notebook.insert_cell_below('code');\n",
       "        code.set_text(atob(\"IyBUZW1wCmluc2VydCgnJycKYmFyY2VsbG9zMjAxMGEgPSBEQihXb3JrVW5yZWxhdGVkKAogICAgMjAxMCwgIkEgd2VsbC1mb3VuZGVkIHNvZnR3YXJlIHByb2Nlc3MgYmVoYXZpb3Igb250b2xvZ3kgdG8gc3VwcG9ydCBidXNpbmVzcyBnb2FscyBtb25pdG9yaW5nIGluIGhpZ2ggbWF0dXJpdHkgc29mdHdhcmUgb3JnYW5pemF0aW9ucyIsCiAgICBkaXNwbGF5PSJiYXJjZWxsb3MiLAogICAgYXV0aG9ycz0iQmFyY2VsbG9zLCBNb25hbGVzc2EgUGVyaW5pIGFuZCBkZSBBbG1laWRhIEZhbGJvLCBSaWNhcmRvIGFuZCBSb2NoYSwgQW5hIFJlZ2luYSIsCiAgICBwbGFjZT1GQUtFLAogICAgcHA9IjI1My0tMjYyIiwKICAgIGVudHJ5dHlwZT0iaW5wcm9jZWVkaW5ncyIsCiAgICBvcmdhbml6YXRpb249IklFRUUiLAogICAgSUQ9ImJhcmNlbGxvczIwMTB3ZWxsIiwKICAgIGNsdXN0ZXJfaWQ9Ijg1MjUxOTIzOTYxNTczNzc1MDYiLAogICAgc2Nob2xhcj0iaHR0cDovL3NjaG9sYXIuZ29vZ2xlLmNvbS9zY2hvbGFyP2NpdGVzPTg1MjUxOTIzOTYxNTczNzc1MDYmYXNfc2R0PTIwMDUmc2Npb2R0PTAsNSZobD1lbiIsCiAgICBwbGFjZXg9IkVudGVycHJpc2UgRGlzdHJpYnV0ZWQgT2JqZWN0IENvbXB1dGluZyBDb25mZXJlbmNlIFdvcmtzaG9wcyAoRURPQ1cpLCAyMDEwIDE0dGggSUVFRSBJbnRlcm5hdGlvbmFsIiwKKSkKCkRCKENpdGF0aW9uKAogICAgYmFyY2VsbG9zMjAxMGEsIGJhcnJldG8yMDEwYSwgcmVmPSIiLAogICAgY29udGV4dHM9WwoKICAgIF0sCikpCgonJycsIGNpdGF0aW9ucz0nYmFycmV0bzIwMTBhJyk7\"));\n",
       "    "
      ],
      "text/plain": [
       "<IPython.core.display.Javascript object>"
      ]
     },
     "metadata": {},
     "output_type": "display_data"
    },
    {
     "data": {
      "application/javascript": [
       "$('span:contains(\"# Temp\")').closest('.cell').remove();"
      ],
      "text/plain": [
       "<IPython.core.display.Javascript object>"
      ]
     },
     "metadata": {},
     "output_type": "display_data"
    },
    {
     "data": {
      "application/javascript": [
       "\n",
       "        $('span:contains(\"# Temp\")').closest('.cell').remove();\n",
       "        var code = IPython.notebook.insert_cell_below('code');\n",
       "        code.set_text(atob(\"IyBUZW1wCmluc2VydCgnJycKYmFyY2VsbG9zMjAxMGEgPSBEQihXb3JrVW5yZWxhdGVkKAogICAgMjAxMCwgIkEgd2VsbC1mb3VuZGVkIHNvZnR3YXJlIHByb2Nlc3MgYmVoYXZpb3Igb250b2xvZ3kgdG8gc3VwcG9ydCBidXNpbmVzcyBnb2FscyBtb25pdG9yaW5nIGluIGhpZ2ggbWF0dXJpdHkgc29mdHdhcmUgb3JnYW5pemF0aW9ucyIsCiAgICBkaXNwbGF5PSJiYXJjZWxsb3MiLAogICAgYXV0aG9ycz0iQmFyY2VsbG9zLCBNb25hbGVzc2EgUGVyaW5pIGFuZCBkZSBBbG1laWRhIEZhbGJvLCBSaWNhcmRvIGFuZCBSb2NoYSwgQW5hIFJlZ2luYSIsCiAgICBwbGFjZT1GQUtFLAogICAgcHA9IjI1My0tMjYyIiwKICAgIGVudHJ5dHlwZT0iaW5wcm9jZWVkaW5ncyIsCiAgICBvcmdhbml6YXRpb249IklFRUUiLAogICAgSUQ9ImJhcmNlbGxvczIwMTB3ZWxsIiwKICAgIGNsdXN0ZXJfaWQ9Ijg1MjUxOTIzOTYxNTczNzc1MDYiLAogICAgc2Nob2xhcj0iaHR0cDovL3NjaG9sYXIuZ29vZ2xlLmNvbS9zY2hvbGFyP2NpdGVzPTg1MjUxOTIzOTYxNTczNzc1MDYmYXNfc2R0PTIwMDUmc2Npb2R0PTAsNSZobD1lbiIsCiAgICBwbGFjZXg9IkVudGVycHJpc2UgRGlzdHJpYnV0ZWQgT2JqZWN0IENvbXB1dGluZyBDb25mZXJlbmNlIFdvcmtzaG9wcyAoRURPQ1cpLCAyMDEwIDE0dGggSUVFRSBJbnRlcm5hdGlvbmFsIiwKKSkKCkRCKENpdGF0aW9uKAogICAgYmFyY2VsbG9zMjAxMGEsIGJhcnJldG8yMDEwYSwgcmVmPSIiLAogICAgY29udGV4dHM9WwoKICAgIF0sCikpCgonJycsIGNpdGF0aW9ucz0nYmFycmV0bzIwMTBhJyk7\"));\n",
       "    "
      ],
      "text/plain": [
       "<IPython.core.display.Javascript object>"
      ]
     },
     "metadata": {},
     "output_type": "display_data"
    },
    {
     "data": {
      "application/javascript": [
       "$('span:contains(\"# Temp\")').closest('.cell').remove();"
      ],
      "text/plain": [
       "<IPython.core.display.Javascript object>"
      ]
     },
     "metadata": {},
     "output_type": "display_data"
    },
    {
     "data": {
      "application/javascript": [
       "\n",
       "        $('span:contains(\"# Temp\")').closest('.cell').remove();\n",
       "        var code = IPython.notebook.insert_cell_below('code');\n",
       "        code.set_text(atob(\"IyBUZW1wCmluc2VydCgnJycKYmFycmV0bzIwMTBiID0gREIoV29ya1VucmVsYXRlZCgKICAgIDIwMTAsICJBbmFseXppbmcgdGhlIHNpbWlsYXJpdHkgYW1vbmcgc29mdHdhcmUgcHJvamVjdHMgdG8gaW1wcm92ZSBzb2Z0d2FyZSBwcm9qZWN0IG1vbml0b3JpbmcgcHJvY2Vzc2VzIiwKICAgIGRpc3BsYXk9ImJhcnJldG8gYiIsCiAgICBhdXRob3JzPSJCYXJyZXRvLCBBbmRyZWEgT2xpdmVpcmEgU29hcmVzIGFuZCBSb2NoYSwgQW5hIFJlZ2luYSIsCiAgICBwbGFjZT1JQ1FJQ1QsCiAgICBwcD0iNDQxLS00NDYiLAogICAgZW50cnl0eXBlPSJpbnByb2NlZWRpbmdzIiwKICAgIG9yZ2FuaXphdGlvbj0iSUVFRSIsCiAgICBJRD0iYmFycmV0bzIwMTBhbmFseXppbmciLAogICAgY2x1c3Rlcl9pZD0iMTUwNTk0NTIyOTExMzM2NTE3MSIsCiAgICBzY2hvbGFyPSJodHRwOi8vc2Nob2xhci5nb29nbGUuY29tL3NjaG9sYXI/Y2l0ZXM9MTUwNTk0NTIyOTExMzM2NTE3MSZhc19zZHQ9MjAwNSZzY2lvZHQ9MCw1JmhsPWVuIiwKICAgIHBsYWNleD0iUXVhbGl0eSBvZiBJbmZvcm1hdGlvbiBhbmQgQ29tbXVuaWNhdGlvbnMgVGVjaG5vbG9neSAoUVVBVElDKSwgMjAxMCBTZXZlbnRoIEludGVybmF0aW9uYWwgQ29uZmVyZW5jZSBvbiB0aGUiLAopKQoKREIoQ2l0YXRpb24oCiAgICBiYXJyZXRvMjAxMGIsIGJhcnJldG8yMDEwYSwgcmVmPSIiLAogICAgY29udGV4dHM9WwoKICAgIF0sCikpCgonJycsIGNpdGF0aW9ucz0nYmFycmV0bzIwMTBhJyk7\"));\n",
       "    "
      ],
      "text/plain": [
       "<IPython.core.display.Javascript object>"
      ]
     },
     "metadata": {},
     "output_type": "display_data"
    },
    {
     "data": {
      "application/javascript": [
       "$('span:contains(\"# Temp\")').closest('.cell').remove();"
      ],
      "text/plain": [
       "<IPython.core.display.Javascript object>"
      ]
     },
     "metadata": {},
     "output_type": "display_data"
    },
    {
     "data": {
      "application/javascript": [
       "\n",
       "        $('span:contains(\"# Temp\")').closest('.cell').remove();\n",
       "        var code = IPython.notebook.insert_cell_below('code');\n",
       "        code.set_text(atob(\"IyBUZW1wCmluc2VydCgnJycKYmFycmV0bzIwMTBiID0gREIoV29ya1VucmVsYXRlZCgKICAgIDIwMTAsICJBbmFseXppbmcgdGhlIHNpbWlsYXJpdHkgYW1vbmcgc29mdHdhcmUgcHJvamVjdHMgdG8gaW1wcm92ZSBzb2Z0d2FyZSBwcm9qZWN0IG1vbml0b3JpbmcgcHJvY2Vzc2VzIiwKICAgIGRpc3BsYXk9ImJhcnJldG8gYiIsCiAgICBhdXRob3JzPSJCYXJyZXRvLCBBbmRyZWEgT2xpdmVpcmEgU29hcmVzIGFuZCBSb2NoYSwgQW5hIFJlZ2luYSIsCiAgICBwbGFjZT1JQ1FJQ1QsCiAgICBwcD0iNDQxLS00NDYiLAogICAgZW50cnl0eXBlPSJpbnByb2NlZWRpbmdzIiwKICAgIG9yZ2FuaXphdGlvbj0iSUVFRSIsCiAgICBJRD0iYmFycmV0bzIwMTBhbmFseXppbmciLAogICAgY2x1c3Rlcl9pZD0iMTUwNTk0NTIyOTExMzM2NTE3MSIsCiAgICBzY2hvbGFyPSJodHRwOi8vc2Nob2xhci5nb29nbGUuY29tL3NjaG9sYXI/Y2l0ZXM9MTUwNTk0NTIyOTExMzM2NTE3MSZhc19zZHQ9MjAwNSZzY2lvZHQ9MCw1JmhsPWVuIiwKICAgIHBsYWNleD0iUXVhbGl0eSBvZiBJbmZvcm1hdGlvbiBhbmQgQ29tbXVuaWNhdGlvbnMgVGVjaG5vbG9neSAoUVVBVElDKSwgMjAxMCBTZXZlbnRoIEludGVybmF0aW9uYWwgQ29uZmVyZW5jZSBvbiB0aGUiLAopKQoKREIoQ2l0YXRpb24oCiAgICBiYXJyZXRvMjAxMGIsIGJhcnJldG8yMDEwYSwgcmVmPSIiLAogICAgY29udGV4dHM9WwoKICAgIF0sCikpCgonJycsIGNpdGF0aW9ucz0nYmFycmV0bzIwMTBhJyk7\"));\n",
       "    "
      ],
      "text/plain": [
       "<IPython.core.display.Javascript object>"
      ]
     },
     "metadata": {},
     "output_type": "display_data"
    },
    {
     "data": {
      "application/javascript": [
       "$('span:contains(\"# Temp\")').closest('.cell').remove();"
      ],
      "text/plain": [
       "<IPython.core.display.Javascript object>"
      ]
     },
     "metadata": {},
     "output_type": "display_data"
    },
    {
     "data": {
      "application/javascript": [
       "\n",
       "        $('span:contains(\"# Temp\")').closest('.cell').remove();\n",
       "        var code = IPython.notebook.insert_cell_below('code');\n",
       "        code.set_text(atob(\"IyBUZW1wCmluc2VydCgnJycKdmFzY29uY2VsbG9zMjAxN2EgPSBEQihXb3JrVW5yZWxhdGVkKAogICAgMjAxNywgIkFwcHJvYWNoZXMgdG8gc3RyYXRlZ2ljIGFsaWdubWVudCBvZiBzb2Z0d2FyZSBwcm9jZXNzIGltcHJvdmVtZW50OiBBIHN5c3RlbWF0aWMgbGl0ZXJhdHVyZSByZXZpZXciLAogICAgZGlzcGxheT0idmFzY29uY2VsbG9zIiwKICAgIGF1dGhvcnM9IlZhc2NvbmNlbGxvcywgRnJhbmNpc2NvIEpTIGFuZCBMYW5kcmUsIEdlcmFsZG8gQiBhbmQgQ3VuaGEsIEpvc+kgQWRzb24gT0cgYW5kIE9saXZlaXJhLCBKdWxpYW5vIEwgYW5kIEZlcnJlaXJhLCBSb25hbGRvIEEgYW5kIFZpbmNlbnppLCBBdXJpIE1SIiwKICAgIHBsYWNlPUpTUywKICAgIHBwPSI0NS0tNjMiLAogICAgZW50cnl0eXBlPSJhcnRpY2xlIiwKICAgIHZvbHVtZT0iMTIzIiwKICAgIHB1Ymxpc2hlcj0iRWxzZXZpZXIiLAogICAgSUQ9InZhc2NvbmNlbGxvczIwMTdhcHByb2FjaGVzIiwKICAgIGNsdXN0ZXJfaWQ9IjEzMzUxMDE3OTcyNTM1NDIwOTYxIiwKICAgIHNjaG9sYXI9Imh0dHA6Ly9zY2hvbGFyLmdvb2dsZS5jb20vc2Nob2xhcj9jaXRlcz0xMzM1MTAxNzk3MjUzNTQyMDk2MSZhc19zZHQ9MjAwNSZzY2lvZHQ9MCw1JmhsPWVuIiwKICAgIHBsYWNleD0iSm91cm5hbCBvZiBzeXN0ZW1zIGFuZCBzb2Z0d2FyZSIsCikpCgpEQihDaXRhdGlvbigKICAgIHZhc2NvbmNlbGxvczIwMTdhLCBiYXJyZXRvMjAxMGEsIHJlZj0iIiwKICAgIGNvbnRleHRzPVsKCiAgICBdLAopKQoKJycnLCBjaXRhdGlvbnM9J2JhcnJldG8yMDEwYScpOw==\"));\n",
       "    "
      ],
      "text/plain": [
       "<IPython.core.display.Javascript object>"
      ]
     },
     "metadata": {},
     "output_type": "display_data"
    },
    {
     "data": {
      "application/javascript": [
       "$('span:contains(\"# Temp\")').closest('.cell').remove();"
      ],
      "text/plain": [
       "<IPython.core.display.Javascript object>"
      ]
     },
     "metadata": {},
     "output_type": "display_data"
    },
    {
     "data": {
      "application/javascript": [
       "\n",
       "        $('span:contains(\"# Temp\")').closest('.cell').remove();\n",
       "        var code = IPython.notebook.insert_cell_below('code');\n",
       "        code.set_text(atob(\"IyBUZW1wCmluc2VydCgnJycKdmFzY29uY2VsbG9zMjAxN2EgPSBEQihXb3JrVW5yZWxhdGVkKAogICAgMjAxNywgIkFwcHJvYWNoZXMgdG8gc3RyYXRlZ2ljIGFsaWdubWVudCBvZiBzb2Z0d2FyZSBwcm9jZXNzIGltcHJvdmVtZW50OiBBIHN5c3RlbWF0aWMgbGl0ZXJhdHVyZSByZXZpZXciLAogICAgZGlzcGxheT0idmFzY29uY2VsbG9zIiwKICAgIGF1dGhvcnM9IlZhc2NvbmNlbGxvcywgRnJhbmNpc2NvIEpTIGFuZCBMYW5kcmUsIEdlcmFsZG8gQiBhbmQgQ3VuaGEsIEpvc+kgQWRzb24gT0cgYW5kIE9saXZlaXJhLCBKdWxpYW5vIEwgYW5kIEZlcnJlaXJhLCBSb25hbGRvIEEgYW5kIFZpbmNlbnppLCBBdXJpIE1SIiwKICAgIHBsYWNlPUpTUywKICAgIHBwPSI0NS0tNjMiLAogICAgZW50cnl0eXBlPSJhcnRpY2xlIiwKICAgIHZvbHVtZT0iMTIzIiwKICAgIHB1Ymxpc2hlcj0iRWxzZXZpZXIiLAogICAgSUQ9InZhc2NvbmNlbGxvczIwMTdhcHByb2FjaGVzIiwKICAgIGNsdXN0ZXJfaWQ9IjEzMzUxMDE3OTcyNTM1NDIwOTYxIiwKICAgIHNjaG9sYXI9Imh0dHA6Ly9zY2hvbGFyLmdvb2dsZS5jb20vc2Nob2xhcj9jaXRlcz0xMzM1MTAxNzk3MjUzNTQyMDk2MSZhc19zZHQ9MjAwNSZzY2lvZHQ9MCw1JmhsPWVuIiwKICAgIHBsYWNleD0iSm91cm5hbCBvZiBzeXN0ZW1zIGFuZCBzb2Z0d2FyZSIsCikpCgpEQihDaXRhdGlvbigKICAgIHZhc2NvbmNlbGxvczIwMTdhLCBiYXJyZXRvMjAxMGEsIHJlZj0iIiwKICAgIGNvbnRleHRzPVsKCiAgICBdLAopKQoKJycnLCBjaXRhdGlvbnM9J2JhcnJldG8yMDEwYScpOw==\"));\n",
       "    "
      ],
      "text/plain": [
       "<IPython.core.display.Javascript object>"
      ]
     },
     "metadata": {},
     "output_type": "display_data"
    },
    {
     "data": {
      "application/javascript": [
       "$('span:contains(\"# Temp\")').closest('.cell').remove();"
      ],
      "text/plain": [
       "<IPython.core.display.Javascript object>"
      ]
     },
     "metadata": {},
     "output_type": "display_data"
    },
    {
     "data": {
      "application/javascript": [
       "\n",
       "        $('span:contains(\"# Temp\")').closest('.cell').remove();\n",
       "        var code = IPython.notebook.insert_cell_below('code');\n",
       "        code.set_text(atob(\"IyBUZW1wCmluc2VydCgnJycKYXJkaWxhMjAxM2EgPSBEQihXb3JrVW5yZWxhdGVkKAogICAgMjAxMywgIlBhbm9yYW1hIGRlIGdlc3Rp824gY3VhbnRpdGF0aXZhIGRlIHByb2Nlc29zIGRlIGRlc2Fycm9sbG8gZGUgc29mdHdhcmUgZW4gcGVxdWXxYXMgb3JnYW5pemFjaW9uZXMiLAogICAgZGlzcGxheT0iYXJkaWxhIiwKICAgIGF1dGhvcnM9IkFyZGlsYSwgQ2FybG9zIEEgYW5kIFBpbm8sIEZyYW5jaXNjbyBKIiwKICAgIHBsYWNlPUZBS0UsCiAgICBwcD0iMjktLTQ2IiwKICAgIGVudHJ5dHlwZT0iYXJ0aWNsZSIsCiAgICB2b2x1bWU9IjExIiwKICAgIG51bWJlcj0iMjYiLAogICAgcHVibGlzaGVyPSJVbml2ZXJzaWRhZCBJQ0VTSSIsCiAgICBJRD0iYXJkaWxhMjAxM3Bhbm9yYW1hIiwKICAgIGNsdXN0ZXJfaWQ9IjE1MjMyNzc3NTA5MTIwMzYzOTMyIiwKICAgIHNjaG9sYXI9Imh0dHA6Ly9zY2hvbGFyLmdvb2dsZS5jb20vc2Nob2xhcj9jaXRlcz0xNTIzMjc3NzUwOTEyMDM2MzkzMiZhc19zZHQ9MjAwNSZzY2lvZHQ9MCw1JmhsPWVuIiwKICAgIHBsYWNleD0iU2lzdGVtYXMgJiBUZWxlbeF0aWNhIiwKKSkKCkRCKENpdGF0aW9uKAogICAgYXJkaWxhMjAxM2EsIGJhcnJldG8yMDEwYSwgcmVmPSIiLAogICAgY29udGV4dHM9WwoKICAgIF0sCikpCgonJycsIGNpdGF0aW9ucz0nYmFycmV0bzIwMTBhJyk7\"));\n",
       "    "
      ],
      "text/plain": [
       "<IPython.core.display.Javascript object>"
      ]
     },
     "metadata": {},
     "output_type": "display_data"
    },
    {
     "data": {
      "application/javascript": [
       "$('span:contains(\"# Temp\")').closest('.cell').remove();"
      ],
      "text/plain": [
       "<IPython.core.display.Javascript object>"
      ]
     },
     "metadata": {},
     "output_type": "display_data"
    },
    {
     "data": {
      "application/javascript": [
       "\n",
       "        $('span:contains(\"# Temp\")').closest('.cell').remove();\n",
       "        var code = IPython.notebook.insert_cell_below('code');\n",
       "        code.set_text(atob(\"IyBUZW1wCmluc2VydCgnJycKYXJkaWxhMjAxM2EgPSBEQihXb3JrVW5yZWxhdGVkKAogICAgMjAxMywgIlBhbm9yYW1hIGRlIGdlc3Rp824gY3VhbnRpdGF0aXZhIGRlIHByb2Nlc29zIGRlIGRlc2Fycm9sbG8gZGUgc29mdHdhcmUgZW4gcGVxdWXxYXMgb3JnYW5pemFjaW9uZXMiLAogICAgZGlzcGxheT0iYXJkaWxhIiwKICAgIGF1dGhvcnM9IkFyZGlsYSwgQ2FybG9zIEEgYW5kIFBpbm8sIEZyYW5jaXNjbyBKIiwKICAgIHBsYWNlPUZBS0UsCiAgICBwcD0iMjktLTQ2IiwKICAgIGVudHJ5dHlwZT0iYXJ0aWNsZSIsCiAgICB2b2x1bWU9IjExIiwKICAgIG51bWJlcj0iMjYiLAogICAgcHVibGlzaGVyPSJVbml2ZXJzaWRhZCBJQ0VTSSIsCiAgICBJRD0iYXJkaWxhMjAxM3Bhbm9yYW1hIiwKICAgIGNsdXN0ZXJfaWQ9IjE1MjMyNzc3NTA5MTIwMzYzOTMyIiwKICAgIHNjaG9sYXI9Imh0dHA6Ly9zY2hvbGFyLmdvb2dsZS5jb20vc2Nob2xhcj9jaXRlcz0xNTIzMjc3NzUwOTEyMDM2MzkzMiZhc19zZHQ9MjAwNSZzY2lvZHQ9MCw1JmhsPWVuIiwKICAgIHBsYWNleD0iU2lzdGVtYXMgJiBUZWxlbeF0aWNhIiwKKSkKCkRCKENpdGF0aW9uKAogICAgYXJkaWxhMjAxM2EsIGJhcnJldG8yMDEwYSwgcmVmPSIiLAogICAgY29udGV4dHM9WwoKICAgIF0sCikpCgonJycsIGNpdGF0aW9ucz0nYmFycmV0bzIwMTBhJyk7\"));\n",
       "    "
      ],
      "text/plain": [
       "<IPython.core.display.Javascript object>"
      ]
     },
     "metadata": {},
     "output_type": "display_data"
    },
    {
     "data": {
      "application/javascript": [
       "$('span:contains(\"# Temp\")').closest('.cell').remove();"
      ],
      "text/plain": [
       "<IPython.core.display.Javascript object>"
      ]
     },
     "metadata": {},
     "output_type": "display_data"
    },
    {
     "data": {
      "application/javascript": [
       "\n",
       "        $('span:contains(\"# Temp\")').closest('.cell').remove();\n",
       "        var code = IPython.notebook.insert_cell_below('code');\n",
       "        code.set_text(atob(\"IyBUZW1wCmluc2VydCgnJycKYmFycmV0bzIwMTFhID0gREIoV29ya1VucmVsYXRlZCgKICAgIDIwMTEsICJEZWZpbml7533jbyBlIEdlcupuY2lhIGRlIE9iamV0aXZvcyBkZSBTb2Z0d2FyZSBBbGluaGFkb3MgYW8gUGxhbmVqYW1lbnRvIEVzdHJhdOlnaWNvIiwKICAgIGRpc3BsYXk9ImJhcnJldG8iLAogICAgYXV0aG9ycz0iQmFycmV0bywgQVMiLAogICAgcGxhY2U9RkFLRSwKICAgIGVudHJ5dHlwZT0iYXJ0aWNsZSIsCiAgICBJRD0iYmFycmV0bzIwMTFkZWZpbmljY2FvIiwKICAgIGNsdXN0ZXJfaWQ9IjExMzQ1OTIwODM0MjQwMzk5MjAiLAogICAgc2Nob2xhcj0iaHR0cDovL3NjaG9sYXIuZ29vZ2xlLmNvbS9zY2hvbGFyP2NpdGVzPTExMzQ1OTIwODM0MjQwMzk5MjAmYXNfc2R0PTIwMDUmc2Npb2R0PTAsNSZobD1lbiIsCiAgICBwbGFjZXg9IkRzYyBEaXNzZXJ0YXRpb24sIFVuaXZlcnNpZGFkZSBGZWRlcmFsIGRvIFJpbyBkZSBKYW5laXJvIiwKKSkKCkRCKENpdGF0aW9uKAogICAgYmFycmV0bzIwMTFhLCBiYXJyZXRvMjAxMGEsIHJlZj0iIiwKICAgIGNvbnRleHRzPVsKCiAgICBdLAopKQoKJycnLCBjaXRhdGlvbnM9J2JhcnJldG8yMDEwYScpOw==\"));\n",
       "    "
      ],
      "text/plain": [
       "<IPython.core.display.Javascript object>"
      ]
     },
     "metadata": {},
     "output_type": "display_data"
    },
    {
     "data": {
      "application/javascript": [
       "$('span:contains(\"# Temp\")').closest('.cell').remove();"
      ],
      "text/plain": [
       "<IPython.core.display.Javascript object>"
      ]
     },
     "metadata": {},
     "output_type": "display_data"
    },
    {
     "data": {
      "application/javascript": [
       "\n",
       "        $('span:contains(\"# Temp\")').closest('.cell').remove();\n",
       "        var code = IPython.notebook.insert_cell_below('code');\n",
       "        code.set_text(atob(\"IyBUZW1wCmluc2VydCgnJycKYmFycmV0bzIwMTFhID0gREIoV29ya1VucmVsYXRlZCgKICAgIDIwMTEsICJEZWZpbml7533jbyBlIEdlcupuY2lhIGRlIE9iamV0aXZvcyBkZSBTb2Z0d2FyZSBBbGluaGFkb3MgYW8gUGxhbmVqYW1lbnRvIEVzdHJhdOlnaWNvIiwKICAgIGRpc3BsYXk9ImJhcnJldG8iLAogICAgYXV0aG9ycz0iQmFycmV0bywgQVMiLAogICAgcGxhY2U9RkFLRSwKICAgIGVudHJ5dHlwZT0iYXJ0aWNsZSIsCiAgICBJRD0iYmFycmV0bzIwMTFkZWZpbmljY2FvIiwKICAgIGNsdXN0ZXJfaWQ9IjExMzQ1OTIwODM0MjQwMzk5MjAiLAogICAgc2Nob2xhcj0iaHR0cDovL3NjaG9sYXIuZ29vZ2xlLmNvbS9zY2hvbGFyP2NpdGVzPTExMzQ1OTIwODM0MjQwMzk5MjAmYXNfc2R0PTIwMDUmc2Npb2R0PTAsNSZobD1lbiIsCiAgICBwbGFjZXg9IkRzYyBEaXNzZXJ0YXRpb24sIFVuaXZlcnNpZGFkZSBGZWRlcmFsIGRvIFJpbyBkZSBKYW5laXJvIiwKKSkKCkRCKENpdGF0aW9uKAogICAgYmFycmV0bzIwMTFhLCBiYXJyZXRvMjAxMGEsIHJlZj0iIiwKICAgIGNvbnRleHRzPVsKCiAgICBdLAopKQoKJycnLCBjaXRhdGlvbnM9J2JhcnJldG8yMDEwYScpOw==\"));\n",
       "    "
      ],
      "text/plain": [
       "<IPython.core.display.Javascript object>"
      ]
     },
     "metadata": {},
     "output_type": "display_data"
    },
    {
     "data": {
      "application/javascript": [
       "$('span:contains(\"# Temp\")').closest('.cell').remove();"
      ],
      "text/plain": [
       "<IPython.core.display.Javascript object>"
      ]
     },
     "metadata": {},
     "output_type": "display_data"
    },
    {
     "data": {
      "application/javascript": [
       "\n",
       "        $('span:contains(\"# Temp\")').closest('.cell').remove();\n",
       "        var code = IPython.notebook.insert_cell_below('code');\n",
       "        code.set_text(atob(\"IyBUZW1wCmluc2VydCgnJycKREIoQ2l0YXRpb24oCiAgICB0cmlua2VucmVpY2gyMDE1YSwgYmFycmV0bzIwMTBhLCByZWY9IiIsCiAgICBjb250ZXh0cz1bCgogICAgXSwKKSkKCicnJywgY2l0YXRpb25zPSdiYXJyZXRvMjAxMGEnKTsKc2V0X2F0dHJpYnV0ZSgndHJpbmtlbnJlaWNoMjAxNWEnLCAnZXhjZXJwdCcsICdBYnN0cmFjdCBNZWFzdXJlbWVudCBpbml0aWF0aXZlcyBzdXBwb3J0IG9yZ2FuaXphdGlvbnMgaW4gdGhlIGNvbnRyb2wsIG1hbmFnZW1lbnQgYW5kIGltcHJvdmVtZW50IG9mIHRoZWlyIHByb2Nlc3NlcywgcHJvZHVjdHMgYW5kIHNlcnZpY2VzLiBJVCBzZXJ2aWNlcyBsaXRlcmF0dXJlIHN1Z2dlc3RzIHByb3BlciBpZGVudGlmaWNhdGlvbiBvZiBjcml0aWNhbCBidXNpbmVzcyBwcm9jZXNzZXMgYW5kIGRlZmluaXRpb24gb2YgcmVsZXZhbnQgaW5kaWNhdG9ycyB0byAnKTs=\"));\n",
       "    "
      ],
      "text/plain": [
       "<IPython.core.display.Javascript object>"
      ]
     },
     "metadata": {},
     "output_type": "display_data"
    },
    {
     "data": {
      "application/javascript": [
       "$('span:contains(\"# Temp\")').closest('.cell').remove();"
      ],
      "text/plain": [
       "<IPython.core.display.Javascript object>"
      ]
     },
     "metadata": {},
     "output_type": "display_data"
    },
    {
     "data": {
      "application/javascript": [
       "\n",
       "        $('span:contains(\"# Temp\")').closest('.cell').remove();\n",
       "        var code = IPython.notebook.insert_cell_below('code');\n",
       "        code.set_text(atob(\"IyBUZW1wCmluc2VydCgnJycKREIoQ2l0YXRpb24oCiAgICB0cmlua2VucmVpY2gyMDE1YSwgYmFycmV0bzIwMTBhLCByZWY9IiIsCiAgICBjb250ZXh0cz1bCgogICAgXSwKKSkKCicnJywgY2l0YXRpb25zPSdiYXJyZXRvMjAxMGEnKTsKc2V0X2F0dHJpYnV0ZSgndHJpbmtlbnJlaWNoMjAxNWEnLCAnZXhjZXJwdCcsICdBYnN0cmFjdCBNZWFzdXJlbWVudCBpbml0aWF0aXZlcyBzdXBwb3J0IG9yZ2FuaXphdGlvbnMgaW4gdGhlIGNvbnRyb2wsIG1hbmFnZW1lbnQgYW5kIGltcHJvdmVtZW50IG9mIHRoZWlyIHByb2Nlc3NlcywgcHJvZHVjdHMgYW5kIHNlcnZpY2VzLiBJVCBzZXJ2aWNlcyBsaXRlcmF0dXJlIHN1Z2dlc3RzIHByb3BlciBpZGVudGlmaWNhdGlvbiBvZiBjcml0aWNhbCBidXNpbmVzcyBwcm9jZXNzZXMgYW5kIGRlZmluaXRpb24gb2YgcmVsZXZhbnQgaW5kaWNhdG9ycyB0byAnKTs=\"));\n",
       "    "
      ],
      "text/plain": [
       "<IPython.core.display.Javascript object>"
      ]
     },
     "metadata": {},
     "output_type": "display_data"
    },
    {
     "data": {
      "application/javascript": [
       "$('span:contains(\"# Temp\")').closest('.cell').remove();"
      ],
      "text/plain": [
       "<IPython.core.display.Javascript object>"
      ]
     },
     "metadata": {},
     "output_type": "display_data"
    },
    {
     "data": {
      "application/javascript": [
       "\n",
       "        $('span:contains(\"# Temp\")').closest('.cell').remove();\n",
       "        var code = IPython.notebook.insert_cell_below('code');\n",
       "        code.set_text(atob(\"IyBUZW1wCmluc2VydCgnJycKYXJkaWxhMjAxM2IgPSBEQihXb3JrVW5yZWxhdGVkKAogICAgMjAxMywgIlBhbm9yYW1hIG9mIHF1YW50aXRhdGl2ZSBtYW5hZ2VtZW50IG9mIHNvZnR3YXJlIGRldmVsb3BtZW50IHByb2Nlc3MgZm9yIHZlcnkgc21hbGwgZW50aXRpZXMiLAogICAgZGlzcGxheT0iYXJkaWxhIGIiLAogICAgYXV0aG9ycz0iQXJkaWxhLCBDYXJsb3MgQSBhbmQgUGlubywgRnJhbmNpc2NvIEoiLAogICAgcGxhY2U9RkFLRSwKICAgIHBwPSIyOS0tNDYiLAogICAgZW50cnl0eXBlPSJhcnRpY2xlIiwKICAgIHZvbHVtZT0iMTEiLAogICAgbnVtYmVyPSIyNiIsCiAgICBJRD0iYXJkaWxhMjAxM3Bhbm9yYW1hIiwKICAgIHBsYWNleD0iU2lzdGVtYXMgJiBUZWxlbeF0aWNhIiwKKSkKCkRCKENpdGF0aW9uKAogICAgYXJkaWxhMjAxM2IsIGJhcnJldG8yMDEwYSwgcmVmPSIiLAogICAgY29udGV4dHM9WwoKICAgIF0sCikpCgonJycsIGNpdGF0aW9ucz0nYmFycmV0bzIwMTBhJyk7\"));\n",
       "    "
      ],
      "text/plain": [
       "<IPython.core.display.Javascript object>"
      ]
     },
     "metadata": {},
     "output_type": "display_data"
    },
    {
     "data": {
      "application/javascript": [
       "$('span:contains(\"# Temp\")').closest('.cell').remove();"
      ],
      "text/plain": [
       "<IPython.core.display.Javascript object>"
      ]
     },
     "metadata": {},
     "output_type": "display_data"
    },
    {
     "data": {
      "application/javascript": [
       "\n",
       "        $('span:contains(\"# Temp\")').closest('.cell').remove();\n",
       "        var code = IPython.notebook.insert_cell_below('code');\n",
       "        code.set_text(atob(\"IyBUZW1wCmluc2VydCgnJycKYXJkaWxhMjAxM2IgPSBEQihXb3JrVW5yZWxhdGVkKAogICAgMjAxMywgIlBhbm9yYW1hIG9mIHF1YW50aXRhdGl2ZSBtYW5hZ2VtZW50IG9mIHNvZnR3YXJlIGRldmVsb3BtZW50IHByb2Nlc3MgZm9yIHZlcnkgc21hbGwgZW50aXRpZXMiLAogICAgZGlzcGxheT0iYXJkaWxhIGIiLAogICAgYXV0aG9ycz0iQXJkaWxhLCBDYXJsb3MgQSBhbmQgUGlubywgRnJhbmNpc2NvIEoiLAogICAgcGxhY2U9RkFLRSwKICAgIHBwPSIyOS0tNDYiLAogICAgZW50cnl0eXBlPSJhcnRpY2xlIiwKICAgIHZvbHVtZT0iMTEiLAogICAgbnVtYmVyPSIyNiIsCiAgICBJRD0iYXJkaWxhMjAxM3Bhbm9yYW1hIiwKICAgIHBsYWNleD0iU2lzdGVtYXMgJiBUZWxlbeF0aWNhIiwKKSkKCkRCKENpdGF0aW9uKAogICAgYXJkaWxhMjAxM2IsIGJhcnJldG8yMDEwYSwgcmVmPSIiLAogICAgY29udGV4dHM9WwoKICAgIF0sCikpCgonJycsIGNpdGF0aW9ucz0nYmFycmV0bzIwMTBhJyk7\"));\n",
       "    "
      ],
      "text/plain": [
       "<IPython.core.display.Javascript object>"
      ]
     },
     "metadata": {},
     "output_type": "display_data"
    },
    {
     "data": {
      "application/javascript": [
       "$('span:contains(\"# Temp\")').closest('.cell').remove();"
      ],
      "text/plain": [
       "<IPython.core.display.Javascript object>"
      ]
     },
     "metadata": {},
     "output_type": "display_data"
    },
    {
     "data": {
      "application/javascript": [
       "\n",
       "        $('span:contains(\"# Temp\")').closest('.cell').remove();\n",
       "        var code = IPython.notebook.insert_cell_below('code');\n",
       "        code.set_text(atob(\"IyBUZW1wCmluc2VydCgnJycKa2hyYWl3ZXNoMjAxM2EgPSBEQihXb3JrVW5yZWxhdGVkKAogICAgMjAxMywgIlBST0pFQ1QgTU9OSVRPUklORyBBTkQgQ09OVFJPTCBNRUFTVVJFUyBJTiBDTU1JIiwKICAgIGRpc3BsYXk9ImtocmFpd2VzaCIsCiAgICBhdXRob3JzPSJLaHJhaXdlc2gsIE1haG1vdWQiLAogICAgcGxhY2U9RkFLRSwKICAgIHBwPSIzOSIsCiAgICBlbnRyeXR5cGU9ImFydGljbGUiLAogICAgdm9sdW1lPSI1IiwKICAgIG51bWJlcj0iNSIsCiAgICBwdWJsaXNoZXI9IkFjYWRlbXkgJiBJbmR1c3RyeSBSZXNlYXJjaCBDb2xsYWJvcmF0aW9uIENlbnRlciAoQUlSQ0MpIiwKICAgIElEPSJraHJhaXdlc2gyMDEzcHJvamVjdCIsCiAgICBwbGFjZXg9IkludGVybmF0aW9uYWwgSm91cm5hbCBvZiBDb21wdXRlciBTY2llbmNlICYgSW5mb3JtYXRpb24gVGVjaG5vbG9neSIsCikpCgpEQihDaXRhdGlvbigKICAgIGtocmFpd2VzaDIwMTNhLCBiYXJyZXRvMjAxMGEsIHJlZj0iIiwKICAgIGNvbnRleHRzPVsKCiAgICBdLAopKQoKJycnLCBjaXRhdGlvbnM9J2JhcnJldG8yMDEwYScpOw==\"));\n",
       "    "
      ],
      "text/plain": [
       "<IPython.core.display.Javascript object>"
      ]
     },
     "metadata": {},
     "output_type": "display_data"
    },
    {
     "data": {
      "application/javascript": [
       "$('span:contains(\"# Temp\")').closest('.cell').remove();"
      ],
      "text/plain": [
       "<IPython.core.display.Javascript object>"
      ]
     },
     "metadata": {},
     "output_type": "display_data"
    },
    {
     "data": {
      "application/javascript": [
       "\n",
       "        $('span:contains(\"# Temp\")').closest('.cell').remove();\n",
       "        var code = IPython.notebook.insert_cell_below('code');\n",
       "        code.set_text(atob(\"IyBUZW1wCmluc2VydCgnJycKa2hyYWl3ZXNoMjAxM2EgPSBEQihXb3JrVW5yZWxhdGVkKAogICAgMjAxMywgIlBST0pFQ1QgTU9OSVRPUklORyBBTkQgQ09OVFJPTCBNRUFTVVJFUyBJTiBDTU1JIiwKICAgIGRpc3BsYXk9ImtocmFpd2VzaCIsCiAgICBhdXRob3JzPSJLaHJhaXdlc2gsIE1haG1vdWQiLAogICAgcGxhY2U9RkFLRSwKICAgIHBwPSIzOSIsCiAgICBlbnRyeXR5cGU9ImFydGljbGUiLAogICAgdm9sdW1lPSI1IiwKICAgIG51bWJlcj0iNSIsCiAgICBwdWJsaXNoZXI9IkFjYWRlbXkgJiBJbmR1c3RyeSBSZXNlYXJjaCBDb2xsYWJvcmF0aW9uIENlbnRlciAoQUlSQ0MpIiwKICAgIElEPSJraHJhaXdlc2gyMDEzcHJvamVjdCIsCiAgICBwbGFjZXg9IkludGVybmF0aW9uYWwgSm91cm5hbCBvZiBDb21wdXRlciBTY2llbmNlICYgSW5mb3JtYXRpb24gVGVjaG5vbG9neSIsCikpCgpEQihDaXRhdGlvbigKICAgIGtocmFpd2VzaDIwMTNhLCBiYXJyZXRvMjAxMGEsIHJlZj0iIiwKICAgIGNvbnRleHRzPVsKCiAgICBdLAopKQoKJycnLCBjaXRhdGlvbnM9J2JhcnJldG8yMDEwYScpOw==\"));\n",
       "    "
      ],
      "text/plain": [
       "<IPython.core.display.Javascript object>"
      ]
     },
     "metadata": {},
     "output_type": "display_data"
    },
    {
     "data": {
      "application/javascript": [
       "$('span:contains(\"# Temp\")').closest('.cell').remove();"
      ],
      "text/plain": [
       "<IPython.core.display.Javascript object>"
      ]
     },
     "metadata": {},
     "output_type": "display_data"
    },
    {
     "data": {
      "application/javascript": [
       "\n",
       "        $('span:contains(\"# Temp\")').closest('.cell').remove();\n",
       "        var code = IPython.notebook.insert_cell_below('code');\n",
       "        code.set_text(atob(\"IyBUZW1wCmluc2VydCgnJycKY2VydmFudGVzMjAxNmEgPSBEQihXb3JrVW5yZWxhdGVkKAogICAgMjAxNiwgIlByb2Nlc28gZGUgY2FtYmlvOiBmb3JtYWxpemFjafNuIHkgdmFsb3JpemFjafNuIGNvbiBhbuFsaXNpcyBjb3N0by1lZmljaWVuY2lhIGVuIGZhc2UgaW5pY2lhbCBwYXJhIGxhIG1lam9yYSBkZWwgcHJvY2VzbyBkZSBzb2Z0d2FyZSIsCiAgICBkaXNwbGF5PSJjZXJ2YW50ZXMiLAogICAgYXV0aG9ycz0iWWFuZ/xleiBDZXJ2YW50ZXMsIE5pbGRhIiwKICAgIHBsYWNlPUZBS0UsCiAgICBlbnRyeXR5cGU9ImFydGljbGUiLAogICAgcHVibGlzaGVyPSJVbml2ZXJzaXRhdCBQb2xpdOhjbmljYSBkZSBDYXRhbHVueWEiLAogICAgSUQ9Inlhbmd1ZXoyMDE2cHJvY2VzbyIsCiAgICBwbGFjZXg9IiIsCikpCgpEQihDaXRhdGlvbigKICAgIGNlcnZhbnRlczIwMTZhLCBiYXJyZXRvMjAxMGEsIHJlZj0iIiwKICAgIGNvbnRleHRzPVsKCiAgICBdLAopKQoKJycnLCBjaXRhdGlvbnM9J2JhcnJldG8yMDEwYScpOw==\"));\n",
       "    "
      ],
      "text/plain": [
       "<IPython.core.display.Javascript object>"
      ]
     },
     "metadata": {},
     "output_type": "display_data"
    },
    {
     "data": {
      "application/javascript": [
       "$('span:contains(\"# Temp\")').closest('.cell').remove();"
      ],
      "text/plain": [
       "<IPython.core.display.Javascript object>"
      ]
     },
     "metadata": {},
     "output_type": "display_data"
    },
    {
     "data": {
      "application/javascript": [
       "\n",
       "        $('span:contains(\"# Temp\")').closest('.cell').remove();\n",
       "        var code = IPython.notebook.insert_cell_below('code');\n",
       "        code.set_text(atob(\"IyBUZW1wCmluc2VydCgnJycKY2VydmFudGVzMjAxNmEgPSBEQihXb3JrVW5yZWxhdGVkKAogICAgMjAxNiwgIlByb2Nlc28gZGUgY2FtYmlvOiBmb3JtYWxpemFjafNuIHkgdmFsb3JpemFjafNuIGNvbiBhbuFsaXNpcyBjb3N0by1lZmljaWVuY2lhIGVuIGZhc2UgaW5pY2lhbCBwYXJhIGxhIG1lam9yYSBkZWwgcHJvY2VzbyBkZSBzb2Z0d2FyZSIsCiAgICBkaXNwbGF5PSJjZXJ2YW50ZXMiLAogICAgYXV0aG9ycz0iWWFuZ/xleiBDZXJ2YW50ZXMsIE5pbGRhIiwKICAgIHBsYWNlPUZBS0UsCiAgICBlbnRyeXR5cGU9ImFydGljbGUiLAogICAgcHVibGlzaGVyPSJVbml2ZXJzaXRhdCBQb2xpdOhjbmljYSBkZSBDYXRhbHVueWEiLAogICAgSUQ9Inlhbmd1ZXoyMDE2cHJvY2VzbyIsCiAgICBwbGFjZXg9IiIsCikpCgpEQihDaXRhdGlvbigKICAgIGNlcnZhbnRlczIwMTZhLCBiYXJyZXRvMjAxMGEsIHJlZj0iIiwKICAgIGNvbnRleHRzPVsKCiAgICBdLAopKQoKJycnLCBjaXRhdGlvbnM9J2JhcnJldG8yMDEwYScpOw==\"));\n",
       "    "
      ],
      "text/plain": [
       "<IPython.core.display.Javascript object>"
      ]
     },
     "metadata": {},
     "output_type": "display_data"
    }
   ],
   "source": [
    "manager"
   ]
  },
  {
   "cell_type": "code",
   "execution_count": 15,
   "metadata": {},
   "outputs": [
    {
     "name": "stdout",
     "output_type": "stream",
     "text": [
      "-Insert: cervantes2016a\n",
      "-Insert Import: cervantes2016a\n",
      "-Insert Citation: cervantes2016a -> barreto2010a\n"
     ]
    }
   ],
   "source": [
    "# Temp\n",
    "insert('''\n",
    "cervantes2016a = DB(WorkUnrelated(\n",
    "    2016, \"Proceso de cambio: formalización y valorización con análisis costo-eficiencia en fase inicial para la mejora del proceso de software\",\n",
    "    display=\"cervantes\",\n",
    "    authors=\"Yangüez Cervantes, Nilda\",\n",
    "    place=FAKE,\n",
    "    entrytype=\"article\",\n",
    "    publisher=\"Universitat Politècnica de Catalunya\",\n",
    "    ID=\"yanguez2016proceso\",\n",
    "    placex=\"\",\n",
    "))\n",
    "\n",
    "DB(Citation(\n",
    "    cervantes2016a, barreto2010a, ref=\"\",\n",
    "    contexts=[\n",
    "\n",
    "    ],\n",
    "))\n",
    "\n",
    "''', citations='barreto2010a');"
   ]
  },
  {
   "cell_type": "code",
   "execution_count": null,
   "metadata": {
    "collapsed": true
   },
   "outputs": [],
   "source": []
  }
 ],
 "metadata": {
  "kernelspec": {
   "display_name": "Python 3",
   "language": "python",
   "name": "python3"
  },
  "language_info": {
   "codemirror_mode": {
    "name": "ipython",
    "version": 3
   },
   "file_extension": ".py",
   "mimetype": "text/x-python",
   "name": "python",
   "nbconvert_exporter": "python",
   "pygments_lexer": "ipython3",
   "version": "3.6.0"
  },
  "toc": {
   "nav_menu": {
    "height": "12px",
    "width": "252px"
   },
   "number_sections": true,
   "sideBar": true,
   "skip_h1_title": false,
   "toc_cell": false,
   "toc_position": {},
   "toc_section_display": "block",
   "toc_window_display": false
  }
 },
 "nbformat": 4,
 "nbformat_minor": 1
}
