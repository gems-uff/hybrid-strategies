{
 "cells": [
  {
   "cell_type": "code",
   "execution_count": 1,
   "metadata": {
    "collapsed": true
   },
   "outputs": [],
   "source": [
    "import database\n",
    "from snowballing.operations import load_work, reload, work_by_varname\n",
    "from snowballing.selenium_scholar import SeleniumScholarQuerier\n",
    "from snowballing.snowballing import ForwardSnowballing\n",
    "from snowballing.dbmanager import insert, set_attribute\n",
    "from custom_snowballing import UnrelatedForward"
   ]
  },
  {
   "cell_type": "code",
   "execution_count": 2,
   "metadata": {
    "collapsed": true
   },
   "outputs": [],
   "source": [
    "querier = SeleniumScholarQuerier()"
   ]
  },
  {
   "cell_type": "code",
   "execution_count": 3,
   "metadata": {
    "scrolled": true
   },
   "outputs": [
    {
     "name": "stderr",
     "output_type": "stream",
     "text": [
      "[ INFO]  settings applied\n"
     ]
    }
   ],
   "source": [
    "querier.apply_settings(20, 4);"
   ]
  },
  {
   "cell_type": "code",
   "execution_count": 107,
   "metadata": {},
   "outputs": [],
   "source": [
    "#manager = ForwardSnowballing(querier, \"mendes2004a\", start=60)\n",
    "import importlib\n",
    "import custom_snowballing\n",
    "importlib.reload(custom_snowballing)\n",
    "from custom_snowballing import UnrelatedForward\n",
    "manager = UnrelatedForward(querier, \"murugappan2003a\", start=0)"
   ]
  },
  {
   "cell_type": "code",
   "execution_count": null,
   "metadata": {
    "collapsed": true
   },
   "outputs": [],
   "source": []
  },
  {
   "cell_type": "code",
   "execution_count": null,
   "metadata": {
    "collapsed": true
   },
   "outputs": [],
   "source": []
  },
  {
   "cell_type": "code",
   "execution_count": null,
   "metadata": {
    "collapsed": true
   },
   "outputs": [],
   "source": [
    "#from snowballing.operations import reload\n",
    "#reload()\n",
    "#from snowballing.dbmanager import rename_work"
   ]
  },
  {
   "cell_type": "code",
   "execution_count": null,
   "metadata": {
    "collapsed": true
   },
   "outputs": [],
   "source": [
    "#rename_work(\"eljabiri0a\", \"eljabiri2012a\")"
   ]
  },
  {
   "cell_type": "code",
   "execution_count": null,
   "metadata": {
    "collapsed": true
   },
   "outputs": [],
   "source": [
    "#rename_work?"
   ]
  },
  {
   "cell_type": "code",
   "execution_count": null,
   "metadata": {
    "collapsed": true
   },
   "outputs": [],
   "source": [
    "#á"
   ]
  },
  {
   "cell_type": "code",
   "execution_count": null,
   "metadata": {
    "collapsed": true
   },
   "outputs": [],
   "source": []
  },
  {
   "cell_type": "code",
   "execution_count": null,
   "metadata": {
    "collapsed": true
   },
   "outputs": [],
   "source": []
  },
  {
   "cell_type": "code",
   "execution_count": 108,
   "metadata": {
    "scrolled": false
   },
   "outputs": [
    {
     "data": {
      "application/vnd.jupyter.widget-view+json": {
       "model_id": "3168727f486b493f8b361447641a34cc",
       "version_major": 2,
       "version_minor": 0
      },
      "text/html": [
       "<p>Failed to display Jupyter Widget of type <code>Tab</code>.</p>\n",
       "<p>\n",
       "  If you're reading this message in Jupyter Notebook or JupyterLab, it may mean\n",
       "  that the widgets JavaScript is still loading. If this message persists, it\n",
       "  likely means that the widgets JavaScript library is either not installed or\n",
       "  not enabled. See the <a href=\"https://ipywidgets.readthedocs.io/en/stable/user_install.html\">Jupyter\n",
       "  Widgets Documentation</a> for setup instructions.\n",
       "</p>\n",
       "<p>\n",
       "  If you're reading this message in another notebook frontend (for example, a static\n",
       "  rendering on GitHub or <a href=\"https://nbviewer.jupyter.org/\">NBViewer</a>),\n",
       "  it may mean that your frontend doesn't currently support widgets.\n",
       "</p>\n"
      ],
      "text/plain": [
       "Tab(children=(VBox(children=(HBox(children=(Button(description='Previous Page', disabled=True, icon='arrow-left', style=ButtonStyle()), Button(description='Reload', icon='refresh', style=ButtonStyle()), Button(description='Next Page', icon='arrow-right', style=ButtonStyle()), ToggleButton(value=False, description='Debug'), Label(value='0'))), Output())), VBox(children=(HBox(children=(Button(description='Previous Article', disabled=True, icon='caret-left', style=ButtonStyle()), Button(description='Reload Article', icon='refresh', style=ButtonStyle()), Button(description='Next Article', disabled=True, icon='caret-right', style=ButtonStyle()))), HBox(children=(Button(description='Unrelated: Scripts', style=ButtonStyle()), Button(description='Unrelated: Provenance', style=ButtonStyle()), Button(description='Both', style=ButtonStyle()), Button(description='Ok', style=ButtonStyle()))), HBox(children=(Dropdown(description='Type', index=3, options=('Work', 'WorkSnowball', 'WorkOk', 'WorkUnrelated', 'WorkNoFile', 'WorkLang', 'Site', 'Email'), value='WorkUnrelated'), ToggleButton(value=False, description='File'))), HBox(children=(Text(value='', description='Due'), Text(value='', description='Place'))), HBox(children=(Text(value='', description='Year'), Text(value='', description='Prefix Var'))), HBox(children=(Text(value='', description='PDFPage'), Text(value='', description='Related'))), HBox(children=(Text(value='', description='Display'), Text(value='', description='Summary'))), HBox(children=(Text(value='', description='Star'), Text(value='', description='Link'))), HBox(children=(Button(description='Reload Article', icon='refresh', style=ButtonStyle()), IntSlider(value=0, max=0), Label(value='0/0'))), Output()))), _titles={'0': 'Page', '1': 'Article'})"
      ]
     },
     "metadata": {},
     "output_type": "display_data"
    },
    {
     "data": {
      "application/javascript": [
       "$('span:contains(\"# Temp\")').closest('.cell').remove();"
      ],
      "text/plain": [
       "<IPython.core.display.Javascript object>"
      ]
     },
     "metadata": {},
     "output_type": "display_data"
    },
    {
     "data": {
      "application/javascript": [
       "$('span:contains(\"# Temp\")').closest('.cell').remove();"
      ],
      "text/plain": [
       "<IPython.core.display.Javascript object>"
      ]
     },
     "metadata": {},
     "output_type": "display_data"
    },
    {
     "data": {
      "application/javascript": [
       "\n",
       "        $('span:contains(\"# Temp\")').closest('.cell').remove();\n",
       "        var code = IPython.notebook.insert_cell_below('code');\n",
       "        code.set_text(atob(\"IyBUZW1wCmluc2VydCgnJycKYW50b25pb2wyMDA0YSA9IERCKFdvcmtVbnJlbGF0ZWQoCiAgICAyMDA0LCAiTWV0aG9kb2xvZ2ljYWwgaXNzdWVzIGluIGEgQ01NIExldmVsIDQgaW1wbGVtZW50YXRpb24iLAogICAgZGlzcGxheT0iYW50b25pb2wiLAogICAgYXV0aG9ycz0iQW50b25pb2wsIEdpdWxpYW5vIGFuZCBHcmFkYXJhLCBTYXJhIGFuZCBWZW50dXJpLCBHYWJyaWVsZSIsCiAgICBwbGFjZT1TUElQLAogICAgcHA9IjMzLS01MCIsCiAgICBlbnRyeXR5cGU9ImFydGljbGUiLAogICAgdm9sdW1lPSI5IiwKICAgIG51bWJlcj0iMSIsCiAgICBwdWJsaXNoZXI9IldpbGV5IE9ubGluZSBMaWJyYXJ5IiwKICAgIElEPSJhbnRvbmlvbDIwMDRtZXRob2RvbG9naWNhbCIsCiAgICBjbHVzdGVyX2lkPSI5NjUzNDg4NzY1NjI4Nzg0MjkyIiwKICAgIHNjaG9sYXI9Imh0dHA6Ly9zY2hvbGFyLmdvb2dsZS5jb20vc2Nob2xhcj9jaXRlcz05NjUzNDg4NzY1NjI4Nzg0MjkyJmFzX3NkdD0yMDA1JnNjaW9kdD0wLDUmaGw9ZW4iLAogICAgcGxhY2V4PSJTb2Z0d2FyZSBQcm9jZXNzOiBJbXByb3ZlbWVudCBhbmQgUHJhY3RpY2UiLAopKQoKREIoQ2l0YXRpb24oCiAgICBhbnRvbmlvbDIwMDRhLCBtdXJ1Z2FwcGFuMjAwM2EsIHJlZj0iIiwKICAgIGNvbnRleHRzPVsKCiAgICBdLAopKQoKJycnLCBjaXRhdGlvbnM9J211cnVnYXBwYW4yMDAzYScpOw==\"));\n",
       "    "
      ],
      "text/plain": [
       "<IPython.core.display.Javascript object>"
      ]
     },
     "metadata": {},
     "output_type": "display_data"
    },
    {
     "data": {
      "application/javascript": [
       "$('span:contains(\"# Temp\")').closest('.cell').remove();"
      ],
      "text/plain": [
       "<IPython.core.display.Javascript object>"
      ]
     },
     "metadata": {},
     "output_type": "display_data"
    },
    {
     "data": {
      "application/javascript": [
       "\n",
       "        $('span:contains(\"# Temp\")').closest('.cell').remove();\n",
       "        var code = IPython.notebook.insert_cell_below('code');\n",
       "        code.set_text(atob(\"IyBUZW1wCmluc2VydCgnJycKPz8yMDA1YSA9IERCKFdvcmtVbnJlbGF0ZWQoCiAgICAyMDA1LCAiPz8/Pz8/Pz8/Pz8/Pz8/Pz8/Pz8iLAogICAgZGlzcGxheT0iPz8iLAogICAgYXV0aG9ycz0iPz8gYW5kID8/PyBhbmQgPz8gYW5kIG90aGVycyIsCiAgICBwbGFjZT1UaGVzaXMsCiAgICBlbnRyeXR5cGU9InBoZHRoZXNpcyIsCiAgICBJRD0iPz8yMDA1Pz8/Pz8/Pz8/Pz8/Pz8/Pz8/Pz8iLAogICAgY2x1c3Rlcl9pZD0iMTE2NTc2NzEwNTUyMjM0MDI0NTUiLAogICAgc2Nob2xhcj0iaHR0cDovL3NjaG9sYXIuZ29vZ2xlLmNvbS9zY2hvbGFyP2NpdGVzPTExNjU3NjcxMDU1MjIzNDAyNDU1JmFzX3NkdD0yMDA1JnNjaW9kdD0wLDUmaGw9ZW4iLAogICAgcGxhY2V4PSIiLAopKQoKREIoQ2l0YXRpb24oCiAgICA/PzIwMDVhLCBtdXJ1Z2FwcGFuMjAwM2EsIHJlZj0iIiwKICAgIGNvbnRleHRzPVsKCiAgICBdLAopKQoKJycnLCBjaXRhdGlvbnM9J211cnVnYXBwYW4yMDAzYScpOw==\"));\n",
       "    "
      ],
      "text/plain": [
       "<IPython.core.display.Javascript object>"
      ]
     },
     "metadata": {},
     "output_type": "display_data"
    },
    {
     "data": {
      "application/javascript": [
       "$('span:contains(\"# Temp\")').closest('.cell').remove();"
      ],
      "text/plain": [
       "<IPython.core.display.Javascript object>"
      ]
     },
     "metadata": {},
     "output_type": "display_data"
    },
    {
     "data": {
      "application/javascript": [
       "\n",
       "        $('span:contains(\"# Temp\")').closest('.cell').remove();\n",
       "        var code = IPython.notebook.insert_cell_below('code');\n",
       "        code.set_text(atob(\"IyBUZW1wCmluc2VydCgnJycKPz8yMDA1YSA9IERCKFdvcmtVbnJlbGF0ZWQoCiAgICAyMDA1LCAiPz8/Pz8/Pz8/Pz8/Pz8/Pz8/Pz8iLAogICAgZGlzcGxheT0iPz8iLAogICAgYXV0aG9ycz0iPz8gYW5kID8/PyBhbmQgPz8gYW5kIG90aGVycyIsCiAgICBwbGFjZT1UaGVzaXMsCiAgICBlbnRyeXR5cGU9InBoZHRoZXNpcyIsCiAgICBJRD0iPz8yMDA1Pz8/Pz8/Pz8/Pz8/Pz8/Pz8/Pz8iLAogICAgY2x1c3Rlcl9pZD0iMTE2NTc2NzEwNTUyMjM0MDI0NTUiLAogICAgc2Nob2xhcj0iaHR0cDovL3NjaG9sYXIuZ29vZ2xlLmNvbS9zY2hvbGFyP2NpdGVzPTExNjU3NjcxMDU1MjIzNDAyNDU1JmFzX3NkdD0yMDA1JnNjaW9kdD0wLDUmaGw9ZW4iLAogICAgcGxhY2V4PSIiLAopKQoKREIoQ2l0YXRpb24oCiAgICA/PzIwMDVhLCBtdXJ1Z2FwcGFuMjAwM2EsIHJlZj0iIiwKICAgIGNvbnRleHRzPVsKCiAgICBdLAopKQoKJycnLCBjaXRhdGlvbnM9J211cnVnYXBwYW4yMDAzYScpOw==\"));\n",
       "    "
      ],
      "text/plain": [
       "<IPython.core.display.Javascript object>"
      ]
     },
     "metadata": {},
     "output_type": "display_data"
    },
    {
     "data": {
      "application/javascript": [
       "$('span:contains(\"# Temp\")').closest('.cell').remove();"
      ],
      "text/plain": [
       "<IPython.core.display.Javascript object>"
      ]
     },
     "metadata": {},
     "output_type": "display_data"
    },
    {
     "data": {
      "application/javascript": [
       "\n",
       "        $('span:contains(\"# Temp\")').closest('.cell').remove();\n",
       "        var code = IPython.notebook.insert_cell_below('code');\n",
       "        code.set_text(atob(\"IyBUZW1wCmluc2VydCgnJycKa3VuZHUyMDEyYiA9IERCKFdvcmtVbnJlbGF0ZWQoCiAgICAyMDEyLCAiQSB1bmlmaWVkIG1vZGVsIGZvciBpbXBsZW1lbnRpbmcgbGVhbiBhbmQgQ01NSSBmb3IgU2VydmljZXMgKENNTUktU1ZDIHYxLiAzKSBiZXN0IHByYWN0aWNlcyIsCiAgICBkaXNwbGF5PSJrdW5kdSBiIiwKICAgIGF1dGhvcnM9Ikt1bmR1LCBHb3V0YW0gS3VtYXIgYW5kIE11cmFsaSBNYW5vaGFyLCBCIiwKICAgIHBsYWNlPUZBS0UsCiAgICBwcD0iMTM4LS0xNjIiLAogICAgZW50cnl0eXBlPSJhcnRpY2xlIiwKICAgIHZvbHVtZT0iMTMiLAogICAgbnVtYmVyPSIyIiwKICAgIHB1Ymxpc2hlcj0iRW1lcmFsZCBHcm91cCBQdWJsaXNoaW5nIExpbWl0ZWQiLAogICAgSUQ9Imt1bmR1MjAxMnVuaWZpZWQiLAogICAgY2x1c3Rlcl9pZD0iOTg4MDEyMTA3OTk4Mjg0NDE3MyIsCiAgICBzY2hvbGFyPSJodHRwOi8vc2Nob2xhci5nb29nbGUuY29tL3NjaG9sYXI/Y2l0ZXM9OTg4MDEyMTA3OTk4Mjg0NDE3MyZhc19zZHQ9MjAwNSZzY2lvZHQ9MCw1JmhsPWVuIiwKICAgIHBsYWNleD0iQXNpYW4gSm91cm5hbCBvbiBRdWFsaXR5IiwKKSkKCkRCKENpdGF0aW9uKAogICAga3VuZHUyMDEyYiwgbXVydWdhcHBhbjIwMDNhLCByZWY9IiIsCiAgICBjb250ZXh0cz1bCgogICAgXSwKKSkKCicnJywgY2l0YXRpb25zPSdtdXJ1Z2FwcGFuMjAwM2EnKTs=\"));\n",
       "    "
      ],
      "text/plain": [
       "<IPython.core.display.Javascript object>"
      ]
     },
     "metadata": {},
     "output_type": "display_data"
    },
    {
     "data": {
      "application/javascript": [
       "$('span:contains(\"# Temp\")').closest('.cell').remove();"
      ],
      "text/plain": [
       "<IPython.core.display.Javascript object>"
      ]
     },
     "metadata": {},
     "output_type": "display_data"
    },
    {
     "data": {
      "application/javascript": [
       "\n",
       "        $('span:contains(\"# Temp\")').closest('.cell').remove();\n",
       "        var code = IPython.notebook.insert_cell_below('code');\n",
       "        code.set_text(atob(\"IyBUZW1wCmluc2VydCgnJycKa3VuZHUyMDEyYiA9IERCKFdvcmtVbnJlbGF0ZWQoCiAgICAyMDEyLCAiQSB1bmlmaWVkIG1vZGVsIGZvciBpbXBsZW1lbnRpbmcgbGVhbiBhbmQgQ01NSSBmb3IgU2VydmljZXMgKENNTUktU1ZDIHYxLiAzKSBiZXN0IHByYWN0aWNlcyIsCiAgICBkaXNwbGF5PSJrdW5kdSBiIiwKICAgIGF1dGhvcnM9Ikt1bmR1LCBHb3V0YW0gS3VtYXIgYW5kIE11cmFsaSBNYW5vaGFyLCBCIiwKICAgIHBsYWNlPUZBS0UsCiAgICBwcD0iMTM4LS0xNjIiLAogICAgZW50cnl0eXBlPSJhcnRpY2xlIiwKICAgIHZvbHVtZT0iMTMiLAogICAgbnVtYmVyPSIyIiwKICAgIHB1Ymxpc2hlcj0iRW1lcmFsZCBHcm91cCBQdWJsaXNoaW5nIExpbWl0ZWQiLAogICAgSUQ9Imt1bmR1MjAxMnVuaWZpZWQiLAogICAgY2x1c3Rlcl9pZD0iOTg4MDEyMTA3OTk4Mjg0NDE3MyIsCiAgICBzY2hvbGFyPSJodHRwOi8vc2Nob2xhci5nb29nbGUuY29tL3NjaG9sYXI/Y2l0ZXM9OTg4MDEyMTA3OTk4Mjg0NDE3MyZhc19zZHQ9MjAwNSZzY2lvZHQ9MCw1JmhsPWVuIiwKICAgIHBsYWNleD0iQXNpYW4gSm91cm5hbCBvbiBRdWFsaXR5IiwKKSkKCkRCKENpdGF0aW9uKAogICAga3VuZHUyMDEyYiwgbXVydWdhcHBhbjIwMDNhLCByZWY9IiIsCiAgICBjb250ZXh0cz1bCgogICAgXSwKKSkKCicnJywgY2l0YXRpb25zPSdtdXJ1Z2FwcGFuMjAwM2EnKTs=\"));\n",
       "    "
      ],
      "text/plain": [
       "<IPython.core.display.Javascript object>"
      ]
     },
     "metadata": {},
     "output_type": "display_data"
    },
    {
     "data": {
      "application/javascript": [
       "$('span:contains(\"# Temp\")').closest('.cell').remove();"
      ],
      "text/plain": [
       "<IPython.core.display.Javascript object>"
      ]
     },
     "metadata": {},
     "output_type": "display_data"
    },
    {
     "data": {
      "application/javascript": [
       "\n",
       "        $('span:contains(\"# Temp\")').closest('.cell').remove();\n",
       "        var code = IPython.notebook.insert_cell_below('code');\n",
       "        code.set_text(atob(\"IyBUZW1wCmluc2VydCgnJycKYXNhdG8yMDExYiA9IERCKFdvcmtVbnJlbGF0ZWQoCiAgICAyMDExLCAiQWxpZ25tZW50IGJldHdlZW4gdGhlIGJ1c2luZXNzIHN0cmF0ZWd5IGFuZCB0aGUgc29mdHdhcmUgcHJvY2Vzc2VzIGltcHJvdmVtZW50OiBBIHJvYWRtYXAgZm9yIHRoZSBpbXBsZW1lbnRhdGlvbiIsCiAgICBkaXNwbGF5PSJhc2F0byBiIiwKICAgIGF1dGhvcnM9IkFzYXRvLCBSZWdpbmEgYW5kIFNwaW5vbGEsIE1hdXJvIE1lc3F1aXRhIGFuZCBDb3N0YSwgSXZhbmlyIGFuZCBTaWx2YSwgV2FsdGVyIEhlbnJpcXVlIERlIEZhcmlhcyIsCiAgICBwbGFjZT1GQUtFLAogICAgcHA9IjMxNC0tMzI4IiwKICAgIGVudHJ5dHlwZT0iYXJ0aWNsZSIsCiAgICB2b2x1bWU9IjIxIiwKICAgIG51bWJlcj0iMiIsCiAgICBwdWJsaXNoZXI9IlNjaUVMTyBCcmFzaWwiLAogICAgSUQ9ImFzYXRvMjAxMWFsaWdubWVudCIsCiAgICBjbHVzdGVyX2lkPSIxMTgwNzY5MzIxMDQyMjAzMzkxMCIsCiAgICBzY2hvbGFyPSJodHRwOi8vc2Nob2xhci5nb29nbGUuY29tL3NjaG9sYXI/Y2l0ZXM9MTE4MDc2OTMyMTA0MjIwMzM5MTAmYXNfc2R0PTIwMDUmc2Npb2R0PTAsNSZobD1lbiIsCiAgICBwbGFjZXg9IlByb2R1Y3Rpb24iLAopKQoKREIoQ2l0YXRpb24oCiAgICBhc2F0bzIwMTFiLCBtdXJ1Z2FwcGFuMjAwM2EsIHJlZj0iIiwKICAgIGNvbnRleHRzPVsKCiAgICBdLAopKQoKJycnLCBjaXRhdGlvbnM9J211cnVnYXBwYW4yMDAzYScpOw==\"));\n",
       "    "
      ],
      "text/plain": [
       "<IPython.core.display.Javascript object>"
      ]
     },
     "metadata": {},
     "output_type": "display_data"
    },
    {
     "data": {
      "application/javascript": [
       "$('span:contains(\"# Temp\")').closest('.cell').remove();"
      ],
      "text/plain": [
       "<IPython.core.display.Javascript object>"
      ]
     },
     "metadata": {},
     "output_type": "display_data"
    },
    {
     "data": {
      "application/javascript": [
       "\n",
       "        $('span:contains(\"# Temp\")').closest('.cell').remove();\n",
       "        var code = IPython.notebook.insert_cell_below('code');\n",
       "        code.set_text(atob(\"IyBUZW1wCmluc2VydCgnJycKYXNhdG8yMDExYiA9IERCKFdvcmtVbnJlbGF0ZWQoCiAgICAyMDExLCAiQWxpZ25tZW50IGJldHdlZW4gdGhlIGJ1c2luZXNzIHN0cmF0ZWd5IGFuZCB0aGUgc29mdHdhcmUgcHJvY2Vzc2VzIGltcHJvdmVtZW50OiBBIHJvYWRtYXAgZm9yIHRoZSBpbXBsZW1lbnRhdGlvbiIsCiAgICBkaXNwbGF5PSJhc2F0byBiIiwKICAgIGF1dGhvcnM9IkFzYXRvLCBSZWdpbmEgYW5kIFNwaW5vbGEsIE1hdXJvIE1lc3F1aXRhIGFuZCBDb3N0YSwgSXZhbmlyIGFuZCBTaWx2YSwgV2FsdGVyIEhlbnJpcXVlIERlIEZhcmlhcyIsCiAgICBwbGFjZT1GQUtFLAogICAgcHA9IjMxNC0tMzI4IiwKICAgIGVudHJ5dHlwZT0iYXJ0aWNsZSIsCiAgICB2b2x1bWU9IjIxIiwKICAgIG51bWJlcj0iMiIsCiAgICBwdWJsaXNoZXI9IlNjaUVMTyBCcmFzaWwiLAogICAgSUQ9ImFzYXRvMjAxMWFsaWdubWVudCIsCiAgICBjbHVzdGVyX2lkPSIxMTgwNzY5MzIxMDQyMjAzMzkxMCIsCiAgICBzY2hvbGFyPSJodHRwOi8vc2Nob2xhci5nb29nbGUuY29tL3NjaG9sYXI/Y2l0ZXM9MTE4MDc2OTMyMTA0MjIwMzM5MTAmYXNfc2R0PTIwMDUmc2Npb2R0PTAsNSZobD1lbiIsCiAgICBwbGFjZXg9IlByb2R1Y3Rpb24iLAopKQoKREIoQ2l0YXRpb24oCiAgICBhc2F0bzIwMTFiLCBtdXJ1Z2FwcGFuMjAwM2EsIHJlZj0iIiwKICAgIGNvbnRleHRzPVsKCiAgICBdLAopKQoKJycnLCBjaXRhdGlvbnM9J211cnVnYXBwYW4yMDAzYScpOw==\"));\n",
       "    "
      ],
      "text/plain": [
       "<IPython.core.display.Javascript object>"
      ]
     },
     "metadata": {},
     "output_type": "display_data"
    },
    {
     "data": {
      "application/javascript": [
       "$('span:contains(\"# Temp\")').closest('.cell').remove();"
      ],
      "text/plain": [
       "<IPython.core.display.Javascript object>"
      ]
     },
     "metadata": {},
     "output_type": "display_data"
    },
    {
     "data": {
      "application/javascript": [
       "\n",
       "        $('span:contains(\"# Temp\")').closest('.cell').remove();\n",
       "        var code = IPython.notebook.insert_cell_below('code');\n",
       "        code.set_text(atob(\"IyBUZW1wCmluc2VydCgnJycKcGF0ZWwyMDA5YSA9IERCKFdvcmtVbnJlbGF0ZWQoCiAgICAyMDA5LCAiRS1nb3Zlcm5tZW50IGFwcGxpY2F0aW9uIGRldmVsb3BtZW50IHVzaW5nIHRoZSBTaXggU2lnbWEgYXBwcm9hY2giLAogICAgZGlzcGxheT0icGF0ZWwiLAogICAgYXV0aG9ycz0iUGF0ZWwsIFNhbmRpcCBDIGFuZCBadSwgWGluZ3hpbmciLAogICAgcGxhY2U9RkFLRSwKICAgIHBwPSIyOTUtLTMwNiIsCiAgICBlbnRyeXR5cGU9ImFydGljbGUiLAogICAgdm9sdW1lPSI2IiwKICAgIG51bWJlcj0iMyIsCiAgICBwdWJsaXNoZXI9IkluZGVyc2NpZW5jZSBQdWJsaXNoZXJzIiwKICAgIElEPSJwYXRlbDIwMDlnb3Zlcm5tZW50IiwKICAgIGNsdXN0ZXJfaWQ9IjE2MjQwNjc1NjIwODU5MjMwODkxIiwKICAgIHNjaG9sYXI9Imh0dHA6Ly9zY2hvbGFyLmdvb2dsZS5jb20vc2Nob2xhcj9jaXRlcz0xNjI0MDY3NTYyMDg1OTIzMDg5MSZhc19zZHQ9MjAwNSZzY2lvZHQ9MCw1JmhsPWVuIiwKICAgIHBsYWNleD0iRWxlY3Ryb25pYyBHb3Zlcm5tZW50LCBhbiBJbnRlcm5hdGlvbmFsIEpvdXJuYWwiLAopKQoKREIoQ2l0YXRpb24oCiAgICBwYXRlbDIwMDlhLCBtdXJ1Z2FwcGFuMjAwM2EsIHJlZj0iIiwKICAgIGNvbnRleHRzPVsKCiAgICBdLAopKQoKJycnLCBjaXRhdGlvbnM9J211cnVnYXBwYW4yMDAzYScpOw==\"));\n",
       "    "
      ],
      "text/plain": [
       "<IPython.core.display.Javascript object>"
      ]
     },
     "metadata": {},
     "output_type": "display_data"
    },
    {
     "data": {
      "application/javascript": [
       "$('span:contains(\"# Temp\")').closest('.cell').remove();"
      ],
      "text/plain": [
       "<IPython.core.display.Javascript object>"
      ]
     },
     "metadata": {},
     "output_type": "display_data"
    },
    {
     "data": {
      "application/javascript": [
       "\n",
       "        $('span:contains(\"# Temp\")').closest('.cell').remove();\n",
       "        var code = IPython.notebook.insert_cell_below('code');\n",
       "        code.set_text(atob(\"IyBUZW1wCmluc2VydCgnJycKcGF0ZWwyMDA5YSA9IERCKFdvcmtVbnJlbGF0ZWQoCiAgICAyMDA5LCAiRS1nb3Zlcm5tZW50IGFwcGxpY2F0aW9uIGRldmVsb3BtZW50IHVzaW5nIHRoZSBTaXggU2lnbWEgYXBwcm9hY2giLAogICAgZGlzcGxheT0icGF0ZWwiLAogICAgYXV0aG9ycz0iUGF0ZWwsIFNhbmRpcCBDIGFuZCBadSwgWGluZ3hpbmciLAogICAgcGxhY2U9RkFLRSwKICAgIHBwPSIyOTUtLTMwNiIsCiAgICBlbnRyeXR5cGU9ImFydGljbGUiLAogICAgdm9sdW1lPSI2IiwKICAgIG51bWJlcj0iMyIsCiAgICBwdWJsaXNoZXI9IkluZGVyc2NpZW5jZSBQdWJsaXNoZXJzIiwKICAgIElEPSJwYXRlbDIwMDlnb3Zlcm5tZW50IiwKICAgIGNsdXN0ZXJfaWQ9IjE2MjQwNjc1NjIwODU5MjMwODkxIiwKICAgIHNjaG9sYXI9Imh0dHA6Ly9zY2hvbGFyLmdvb2dsZS5jb20vc2Nob2xhcj9jaXRlcz0xNjI0MDY3NTYyMDg1OTIzMDg5MSZhc19zZHQ9MjAwNSZzY2lvZHQ9MCw1JmhsPWVuIiwKICAgIHBsYWNleD0iRWxlY3Ryb25pYyBHb3Zlcm5tZW50LCBhbiBJbnRlcm5hdGlvbmFsIEpvdXJuYWwiLAopKQoKREIoQ2l0YXRpb24oCiAgICBwYXRlbDIwMDlhLCBtdXJ1Z2FwcGFuMjAwM2EsIHJlZj0iIiwKICAgIGNvbnRleHRzPVsKCiAgICBdLAopKQoKJycnLCBjaXRhdGlvbnM9J211cnVnYXBwYW4yMDAzYScpOw==\"));\n",
       "    "
      ],
      "text/plain": [
       "<IPython.core.display.Javascript object>"
      ]
     },
     "metadata": {},
     "output_type": "display_data"
    },
    {
     "data": {
      "application/javascript": [
       "$('span:contains(\"# Temp\")').closest('.cell').remove();"
      ],
      "text/plain": [
       "<IPython.core.display.Javascript object>"
      ]
     },
     "metadata": {},
     "output_type": "display_data"
    },
    {
     "data": {
      "application/javascript": [
       "\n",
       "        $('span:contains(\"# Temp\")').closest('.cell').remove();\n",
       "        var code = IPython.notebook.insert_cell_below('code');\n",
       "        code.set_text(atob(\"IyBUZW1wCmluc2VydCgnJycKbGkyMDA4YSA9IERCKFdvcmtVbnJlbGF0ZWQoCiAgICAyMDA4LCAiT24gU29mdHdhcmUgUmVxdWlyZW1lbnQgTWV0cmljcyBCYXNlZCBvbiBTaXgtU2lnbWEiLAogICAgZGlzcGxheT0ibGkiLAogICAgYXV0aG9ycz0iTGksIExpIGFuZCBIZSwgU2h1Z3VhbmcgYW5kIFFpLCBFLVMiLAogICAgcGxhY2U9RkFLRSwKICAgIGVudHJ5dHlwZT0iaW5wcm9jZWVkaW5ncyIsCiAgICBJRD0ibGkyMDA4c29mdHdhcmUiLAogICAgY2x1c3Rlcl9pZD0iMTQ5ODE0MzIxMTA3MzI3MDQ5NjYiLAogICAgc2Nob2xhcj0iaHR0cDovL3NjaG9sYXIuZ29vZ2xlLmNvbS9zY2hvbGFyP2NpdGVzPTE0OTgxNDMyMTEwNzMyNzA0OTY2JmFzX3NkdD0yMDA1JnNjaW9kdD0wLDUmaGw9ZW4iLAogICAgcGxhY2V4PSIyMDA4IElFRUUgU3ltcG9zaXVtIG9uIEFkdmFuY2VkIE1hbmFnZW1lbnQgb2YgSW5mb3JtYXRpb24gZm9yIEdsb2JhbGl6ZWQgRW50ZXJwcmlzZXMgKEFNSUdFKSIsCikpCgpEQihDaXRhdGlvbigKICAgIGxpMjAwOGEsIG11cnVnYXBwYW4yMDAzYSwgcmVmPSIiLAogICAgY29udGV4dHM9WwoKICAgIF0sCikpCgonJycsIGNpdGF0aW9ucz0nbXVydWdhcHBhbjIwMDNhJyk7\"));\n",
       "    "
      ],
      "text/plain": [
       "<IPython.core.display.Javascript object>"
      ]
     },
     "metadata": {},
     "output_type": "display_data"
    },
    {
     "data": {
      "application/javascript": [
       "$('span:contains(\"# Temp\")').closest('.cell').remove();"
      ],
      "text/plain": [
       "<IPython.core.display.Javascript object>"
      ]
     },
     "metadata": {},
     "output_type": "display_data"
    },
    {
     "data": {
      "application/javascript": [
       "\n",
       "        $('span:contains(\"# Temp\")').closest('.cell').remove();\n",
       "        var code = IPython.notebook.insert_cell_below('code');\n",
       "        code.set_text(atob(\"IyBUZW1wCmluc2VydCgnJycKbGkyMDA4YSA9IERCKFdvcmtVbnJlbGF0ZWQoCiAgICAyMDA4LCAiT24gU29mdHdhcmUgUmVxdWlyZW1lbnQgTWV0cmljcyBCYXNlZCBvbiBTaXgtU2lnbWEiLAogICAgZGlzcGxheT0ibGkiLAogICAgYXV0aG9ycz0iTGksIExpIGFuZCBIZSwgU2h1Z3VhbmcgYW5kIFFpLCBFLVMiLAogICAgcGxhY2U9RkFLRSwKICAgIGVudHJ5dHlwZT0iaW5wcm9jZWVkaW5ncyIsCiAgICBJRD0ibGkyMDA4c29mdHdhcmUiLAogICAgY2x1c3Rlcl9pZD0iMTQ5ODE0MzIxMTA3MzI3MDQ5NjYiLAogICAgc2Nob2xhcj0iaHR0cDovL3NjaG9sYXIuZ29vZ2xlLmNvbS9zY2hvbGFyP2NpdGVzPTE0OTgxNDMyMTEwNzMyNzA0OTY2JmFzX3NkdD0yMDA1JnNjaW9kdD0wLDUmaGw9ZW4iLAogICAgcGxhY2V4PSIyMDA4IElFRUUgU3ltcG9zaXVtIG9uIEFkdmFuY2VkIE1hbmFnZW1lbnQgb2YgSW5mb3JtYXRpb24gZm9yIEdsb2JhbGl6ZWQgRW50ZXJwcmlzZXMgKEFNSUdFKSIsCikpCgpEQihDaXRhdGlvbigKICAgIGxpMjAwOGEsIG11cnVnYXBwYW4yMDAzYSwgcmVmPSIiLAogICAgY29udGV4dHM9WwoKICAgIF0sCikpCgonJycsIGNpdGF0aW9ucz0nbXVydWdhcHBhbjIwMDNhJyk7\"));\n",
       "    "
      ],
      "text/plain": [
       "<IPython.core.display.Javascript object>"
      ]
     },
     "metadata": {},
     "output_type": "display_data"
    },
    {
     "data": {
      "application/javascript": [
       "$('span:contains(\"# Temp\")').closest('.cell').remove();"
      ],
      "text/plain": [
       "<IPython.core.display.Javascript object>"
      ]
     },
     "metadata": {},
     "output_type": "display_data"
    },
    {
     "data": {
      "application/javascript": [
       "\n",
       "        $('span:contains(\"# Temp\")').closest('.cell').remove();\n",
       "        var code = IPython.notebook.insert_cell_below('code');\n",
       "        code.set_text(atob(\"IyBUZW1wCmluc2VydCgnJycKcGF0eWFsMjAxNWEgPSBEQihXb3JrVW5yZWxhdGVkKAogICAgMjAxNSwgIkludGVycmVsYXRpb25zaGlwIGJldHdlZW4gdG90YWwgcXVhbGl0eSBtYW5hZ2VtZW50IGFuZCBzaXggc2lnbWE6IEEgcmV2aWV3IiwKICAgIGRpc3BsYXk9InBhdHlhbCIsCiAgICBhdXRob3JzPSJQYXR5YWwsIFZpc2hhbCBTaW5naCBhbmQgTWFkZHVsZXR5LCBLIiwKICAgIHBsYWNlPUZBS0UsCiAgICBwcD0iMTAyNS0tMTA2MCIsCiAgICBlbnRyeXR5cGU9ImFydGljbGUiLAogICAgdm9sdW1lPSIxNiIsCiAgICBudW1iZXI9IjYiLAogICAgcHVibGlzaGVyPSJTQUdFIFB1YmxpY2F0aW9ucyBTYWdlIEluZGlhOiBOZXcgRGVsaGksIEluZGlhIiwKICAgIElEPSJwYXR5YWwyMDE1aW50ZXJyZWxhdGlvbnNoaXAiLAogICAgY2x1c3Rlcl9pZD0iODQxNjg5NDg0MzQxODA0MTk4MCIsCiAgICBzY2hvbGFyPSJodHRwOi8vc2Nob2xhci5nb29nbGUuY29tL3NjaG9sYXI/Y2l0ZXM9ODQxNjg5NDg0MzQxODA0MTk4MCZhc19zZHQ9MjAwNSZzY2lvZHQ9MCw1JmhsPWVuIiwKICAgIHBsYWNleD0iR2xvYmFsIEJ1c2luZXNzIFJldmlldyIsCikpCgpEQihDaXRhdGlvbigKICAgIHBhdHlhbDIwMTVhLCBtdXJ1Z2FwcGFuMjAwM2EsIHJlZj0iIiwKICAgIGNvbnRleHRzPVsKCiAgICBdLAopKQoKJycnLCBjaXRhdGlvbnM9J211cnVnYXBwYW4yMDAzYScpOw==\"));\n",
       "    "
      ],
      "text/plain": [
       "<IPython.core.display.Javascript object>"
      ]
     },
     "metadata": {},
     "output_type": "display_data"
    },
    {
     "data": {
      "application/javascript": [
       "$('span:contains(\"# Temp\")').closest('.cell').remove();"
      ],
      "text/plain": [
       "<IPython.core.display.Javascript object>"
      ]
     },
     "metadata": {},
     "output_type": "display_data"
    },
    {
     "data": {
      "application/javascript": [
       "\n",
       "        $('span:contains(\"# Temp\")').closest('.cell').remove();\n",
       "        var code = IPython.notebook.insert_cell_below('code');\n",
       "        code.set_text(atob(\"IyBUZW1wCmluc2VydCgnJycKcGF0eWFsMjAxNWEgPSBEQihXb3JrVW5yZWxhdGVkKAogICAgMjAxNSwgIkludGVycmVsYXRpb25zaGlwIGJldHdlZW4gdG90YWwgcXVhbGl0eSBtYW5hZ2VtZW50IGFuZCBzaXggc2lnbWE6IEEgcmV2aWV3IiwKICAgIGRpc3BsYXk9InBhdHlhbCIsCiAgICBhdXRob3JzPSJQYXR5YWwsIFZpc2hhbCBTaW5naCBhbmQgTWFkZHVsZXR5LCBLIiwKICAgIHBsYWNlPUZBS0UsCiAgICBwcD0iMTAyNS0tMTA2MCIsCiAgICBlbnRyeXR5cGU9ImFydGljbGUiLAogICAgdm9sdW1lPSIxNiIsCiAgICBudW1iZXI9IjYiLAogICAgcHVibGlzaGVyPSJTQUdFIFB1YmxpY2F0aW9ucyBTYWdlIEluZGlhOiBOZXcgRGVsaGksIEluZGlhIiwKICAgIElEPSJwYXR5YWwyMDE1aW50ZXJyZWxhdGlvbnNoaXAiLAogICAgY2x1c3Rlcl9pZD0iODQxNjg5NDg0MzQxODA0MTk4MCIsCiAgICBzY2hvbGFyPSJodHRwOi8vc2Nob2xhci5nb29nbGUuY29tL3NjaG9sYXI/Y2l0ZXM9ODQxNjg5NDg0MzQxODA0MTk4MCZhc19zZHQ9MjAwNSZzY2lvZHQ9MCw1JmhsPWVuIiwKICAgIHBsYWNleD0iR2xvYmFsIEJ1c2luZXNzIFJldmlldyIsCikpCgpEQihDaXRhdGlvbigKICAgIHBhdHlhbDIwMTVhLCBtdXJ1Z2FwcGFuMjAwM2EsIHJlZj0iIiwKICAgIGNvbnRleHRzPVsKCiAgICBdLAopKQoKJycnLCBjaXRhdGlvbnM9J211cnVnYXBwYW4yMDAzYScpOw==\"));\n",
       "    "
      ],
      "text/plain": [
       "<IPython.core.display.Javascript object>"
      ]
     },
     "metadata": {},
     "output_type": "display_data"
    },
    {
     "data": {
      "application/javascript": [
       "$('span:contains(\"# Temp\")').closest('.cell').remove();"
      ],
      "text/plain": [
       "<IPython.core.display.Javascript object>"
      ]
     },
     "metadata": {},
     "output_type": "display_data"
    },
    {
     "data": {
      "application/javascript": [
       "\n",
       "        $('span:contains(\"# Temp\")').closest('.cell').remove();\n",
       "        var code = IPython.notebook.insert_cell_below('code');\n",
       "        code.set_text(atob(\"IyBUZW1wCmluc2VydCgnJycKYmFobGkyMDA0YSA9IERCKFdvcmtVbnJlbGF0ZWQoCiAgICAyMDA0LCAiVG93YXJkIGEgY2FwYWJpbGl0eSBtYXR1cml0eSBtb2RlbCBmb3IgdGhlIG1hbmFnZW1lbnQgb2Ygb3V0c291cmNpbmcgaW5mb3JtYXRpb24gc2VydmljZXMiLAogICAgZGlzcGxheT0iYmFobGkiLAogICAgYXV0aG9ycz0iQmFobGksIEJvdWNoYWliIiwKICAgIHBsYWNlPUZBS0UsCiAgICBwcD0iNDQwIiwKICAgIGVudHJ5dHlwZT0iYXJ0aWNsZSIsCiAgICBJRD0iYmFobGkyMDA0dG93YXJkIiwKICAgIGNsdXN0ZXJfaWQ9IjEzMDg4NjE1NzU4MDc3MzU4NTYxIiwKICAgIHNjaG9sYXI9Imh0dHA6Ly9zY2hvbGFyLmdvb2dsZS5jb20vc2Nob2xhcj9jaXRlcz0xMzA4ODYxNTc1ODA3NzM1ODU2MSZhc19zZHQ9MjAwNSZzY2lvZHQ9MCw1JmhsPWVuIiwKICAgIHBsYWNleD0iQU1DSVMgMjAwNCBQcm9jZWVkaW5ncyIsCikpCgpEQihDaXRhdGlvbigKICAgIGJhaGxpMjAwNGEsIG11cnVnYXBwYW4yMDAzYSwgcmVmPSIiLAogICAgY29udGV4dHM9WwoKICAgIF0sCikpCgonJycsIGNpdGF0aW9ucz0nbXVydWdhcHBhbjIwMDNhJyk7\"));\n",
       "    "
      ],
      "text/plain": [
       "<IPython.core.display.Javascript object>"
      ]
     },
     "metadata": {},
     "output_type": "display_data"
    },
    {
     "data": {
      "application/javascript": [
       "$('span:contains(\"# Temp\")').closest('.cell').remove();"
      ],
      "text/plain": [
       "<IPython.core.display.Javascript object>"
      ]
     },
     "metadata": {},
     "output_type": "display_data"
    },
    {
     "data": {
      "application/javascript": [
       "\n",
       "        $('span:contains(\"# Temp\")').closest('.cell').remove();\n",
       "        var code = IPython.notebook.insert_cell_below('code');\n",
       "        code.set_text(atob(\"IyBUZW1wCmluc2VydCgnJycKYmFobGkyMDA0YSA9IERCKFdvcmtVbnJlbGF0ZWQoCiAgICAyMDA0LCAiVG93YXJkIGEgY2FwYWJpbGl0eSBtYXR1cml0eSBtb2RlbCBmb3IgdGhlIG1hbmFnZW1lbnQgb2Ygb3V0c291cmNpbmcgaW5mb3JtYXRpb24gc2VydmljZXMiLAogICAgZGlzcGxheT0iYmFobGkiLAogICAgYXV0aG9ycz0iQmFobGksIEJvdWNoYWliIiwKICAgIHBsYWNlPUZBS0UsCiAgICBwcD0iNDQwIiwKICAgIGVudHJ5dHlwZT0iYXJ0aWNsZSIsCiAgICBJRD0iYmFobGkyMDA0dG93YXJkIiwKICAgIGNsdXN0ZXJfaWQ9IjEzMDg4NjE1NzU4MDc3MzU4NTYxIiwKICAgIHNjaG9sYXI9Imh0dHA6Ly9zY2hvbGFyLmdvb2dsZS5jb20vc2Nob2xhcj9jaXRlcz0xMzA4ODYxNTc1ODA3NzM1ODU2MSZhc19zZHQ9MjAwNSZzY2lvZHQ9MCw1JmhsPWVuIiwKICAgIHBsYWNleD0iQU1DSVMgMjAwNCBQcm9jZWVkaW5ncyIsCikpCgpEQihDaXRhdGlvbigKICAgIGJhaGxpMjAwNGEsIG11cnVnYXBwYW4yMDAzYSwgcmVmPSIiLAogICAgY29udGV4dHM9WwoKICAgIF0sCikpCgonJycsIGNpdGF0aW9ucz0nbXVydWdhcHBhbjIwMDNhJyk7\"));\n",
       "    "
      ],
      "text/plain": [
       "<IPython.core.display.Javascript object>"
      ]
     },
     "metadata": {},
     "output_type": "display_data"
    },
    {
     "data": {
      "application/javascript": [
       "$('span:contains(\"# Temp\")').closest('.cell').remove();"
      ],
      "text/plain": [
       "<IPython.core.display.Javascript object>"
      ]
     },
     "metadata": {},
     "output_type": "display_data"
    },
    {
     "data": {
      "application/javascript": [
       "\n",
       "        $('span:contains(\"# Temp\")').closest('.cell').remove();\n",
       "        var code = IPython.notebook.insert_cell_below('code');\n",
       "        code.set_text(atob(\"IyBUZW1wCmluc2VydCgnJycKemhhbmcyMDA4YyA9IERCKFdvcmtVbnJlbGF0ZWQoCiAgICAyMDA4LCAiQXBwbHlpbmcgU2l4IFNpZ21hIGluIFNvZnR3YXJlIENvbXBhbmllcyBmb3IgUHJvY2VzcyBJbXByb3ZlbWVudCIsCiAgICBkaXNwbGF5PSJ6aGFuZyBjIiwKICAgIGF1dGhvcnM9IlpoYW5nLCBMb25nIGFuZCBLaGFuLCBBZG5hbiBSYWZpcSIsCiAgICBwbGFjZT1GQUtFLAogICAgZW50cnl0eXBlPSJtaXNjIiwKICAgIElEPSJ6aGFuZzIwMDhhcHBseWluZyIsCiAgICBjbHVzdGVyX2lkPSIyNjU4MDA0ODYwNjY5MDYyMDU5IiwKICAgIHNjaG9sYXI9Imh0dHA6Ly9zY2hvbGFyLmdvb2dsZS5jb20vc2Nob2xhcj9jaXRlcz0yNjU4MDA0ODYwNjY5MDYyMDU5JmFzX3NkdD0yMDA1JnNjaW9kdD0wLDUmaGw9ZW4iLAogICAgcGxhY2V4PSIiLAopKQoKREIoQ2l0YXRpb24oCiAgICB6aGFuZzIwMDhjLCBtdXJ1Z2FwcGFuMjAwM2EsIHJlZj0iIiwKICAgIGNvbnRleHRzPVsKCiAgICBdLAopKQoKJycnLCBjaXRhdGlvbnM9J211cnVnYXBwYW4yMDAzYScpOw==\"));\n",
       "    "
      ],
      "text/plain": [
       "<IPython.core.display.Javascript object>"
      ]
     },
     "metadata": {},
     "output_type": "display_data"
    },
    {
     "data": {
      "application/javascript": [
       "$('span:contains(\"# Temp\")').closest('.cell').remove();"
      ],
      "text/plain": [
       "<IPython.core.display.Javascript object>"
      ]
     },
     "metadata": {},
     "output_type": "display_data"
    },
    {
     "data": {
      "application/javascript": [
       "\n",
       "        $('span:contains(\"# Temp\")').closest('.cell').remove();\n",
       "        var code = IPython.notebook.insert_cell_below('code');\n",
       "        code.set_text(atob(\"IyBUZW1wCmluc2VydCgnJycKemhhbmcyMDA4YyA9IERCKFdvcmtVbnJlbGF0ZWQoCiAgICAyMDA4LCAiQXBwbHlpbmcgU2l4IFNpZ21hIGluIFNvZnR3YXJlIENvbXBhbmllcyBmb3IgUHJvY2VzcyBJbXByb3ZlbWVudCIsCiAgICBkaXNwbGF5PSJ6aGFuZyBjIiwKICAgIGF1dGhvcnM9IlpoYW5nLCBMb25nIGFuZCBLaGFuLCBBZG5hbiBSYWZpcSIsCiAgICBwbGFjZT1GQUtFLAogICAgZW50cnl0eXBlPSJtaXNjIiwKICAgIElEPSJ6aGFuZzIwMDhhcHBseWluZyIsCiAgICBjbHVzdGVyX2lkPSIyNjU4MDA0ODYwNjY5MDYyMDU5IiwKICAgIHNjaG9sYXI9Imh0dHA6Ly9zY2hvbGFyLmdvb2dsZS5jb20vc2Nob2xhcj9jaXRlcz0yNjU4MDA0ODYwNjY5MDYyMDU5JmFzX3NkdD0yMDA1JnNjaW9kdD0wLDUmaGw9ZW4iLAogICAgcGxhY2V4PSIiLAopKQoKREIoQ2l0YXRpb24oCiAgICB6aGFuZzIwMDhjLCBtdXJ1Z2FwcGFuMjAwM2EsIHJlZj0iIiwKICAgIGNvbnRleHRzPVsKCiAgICBdLAopKQoKJycnLCBjaXRhdGlvbnM9J211cnVnYXBwYW4yMDAzYScpOw==\"));\n",
       "    "
      ],
      "text/plain": [
       "<IPython.core.display.Javascript object>"
      ]
     },
     "metadata": {},
     "output_type": "display_data"
    },
    {
     "data": {
      "application/javascript": [
       "$('span:contains(\"# Temp\")').closest('.cell').remove();"
      ],
      "text/plain": [
       "<IPython.core.display.Javascript object>"
      ]
     },
     "metadata": {},
     "output_type": "display_data"
    },
    {
     "data": {
      "application/javascript": [
       "\n",
       "        $('span:contains(\"# Temp\")').closest('.cell').remove();\n",
       "        var code = IPython.notebook.insert_cell_below('code');\n",
       "        code.set_text(atob(\"IyBUZW1wCmluc2VydCgnJycKREIoQ2l0YXRpb24oCiAgICBsYW5kYWV0YTIwMDhhLCBtdXJ1Z2FwcGFuMjAwM2EsIHJlZj0iIiwKICAgIGNvbnRleHRzPVsKCiAgICBdLAopKQoKJycnLCBjaXRhdGlvbnM9J211cnVnYXBwYW4yMDAzYScpOwpzZXRfYXR0cmlidXRlKCdsYW5kYWV0YTIwMDhhJywgJ2V4Y2VycHQnLCAnQWJzdHJhY3QgVGhpcyBwYXBlciBwcmVzZW50cyBhIHByYWN0aWNhbCBwcm9jZWR1cmUgbmFtZWQgUDRTUEkgZm9yIHBsYW5uaW5nLCBtb25pdG9yaW5nIGFuZCBjbG9zaW5nIGFuIFNQSS4gUGxhbm5pbmcgYWN0aXZpdGllcyBhcmUgcGVyZm9ybWVkIHVzaW5nIFBNQk9LJ3MgcHJvY2VzcyBhcmVhcyBhcyBhIHJlZmVyZW5jZTsgbW9uaXRvcmluZyBhY3Rpdml0aWVzIHVzaW5nIFNpeCBTaWdtYSB0b29scyBhbmQgdGVjaG5pcXVlcyBhbmQgY2xvc2luZyBhY3Rpdml0aWVzoIUnKTs=\"));\n",
       "    "
      ],
      "text/plain": [
       "<IPython.core.display.Javascript object>"
      ]
     },
     "metadata": {},
     "output_type": "display_data"
    },
    {
     "data": {
      "application/javascript": [
       "$('span:contains(\"# Temp\")').closest('.cell').remove();"
      ],
      "text/plain": [
       "<IPython.core.display.Javascript object>"
      ]
     },
     "metadata": {},
     "output_type": "display_data"
    },
    {
     "data": {
      "application/javascript": [
       "\n",
       "        $('span:contains(\"# Temp\")').closest('.cell').remove();\n",
       "        var code = IPython.notebook.insert_cell_below('code');\n",
       "        code.set_text(atob(\"IyBUZW1wCmluc2VydCgnJycKREIoQ2l0YXRpb24oCiAgICBsYW5kYWV0YTIwMDhhLCBtdXJ1Z2FwcGFuMjAwM2EsIHJlZj0iIiwKICAgIGNvbnRleHRzPVsKCiAgICBdLAopKQoKJycnLCBjaXRhdGlvbnM9J211cnVnYXBwYW4yMDAzYScpOwpzZXRfYXR0cmlidXRlKCdsYW5kYWV0YTIwMDhhJywgJ2V4Y2VycHQnLCAnQWJzdHJhY3QgVGhpcyBwYXBlciBwcmVzZW50cyBhIHByYWN0aWNhbCBwcm9jZWR1cmUgbmFtZWQgUDRTUEkgZm9yIHBsYW5uaW5nLCBtb25pdG9yaW5nIGFuZCBjbG9zaW5nIGFuIFNQSS4gUGxhbm5pbmcgYWN0aXZpdGllcyBhcmUgcGVyZm9ybWVkIHVzaW5nIFBNQk9LJ3MgcHJvY2VzcyBhcmVhcyBhcyBhIHJlZmVyZW5jZTsgbW9uaXRvcmluZyBhY3Rpdml0aWVzIHVzaW5nIFNpeCBTaWdtYSB0b29scyBhbmQgdGVjaG5pcXVlcyBhbmQgY2xvc2luZyBhY3Rpdml0aWVzoIUnKTs=\"));\n",
       "    "
      ],
      "text/plain": [
       "<IPython.core.display.Javascript object>"
      ]
     },
     "metadata": {},
     "output_type": "display_data"
    },
    {
     "data": {
      "application/javascript": [
       "$('span:contains(\"# Temp\")').closest('.cell').remove();"
      ],
      "text/plain": [
       "<IPython.core.display.Javascript object>"
      ]
     },
     "metadata": {},
     "output_type": "display_data"
    },
    {
     "data": {
      "application/javascript": [
       "\n",
       "        $('span:contains(\"# Temp\")').closest('.cell').remove();\n",
       "        var code = IPython.notebook.insert_cell_below('code');\n",
       "        code.set_text(atob(\"IyBUZW1wCmluc2VydCgnJycKYXNhdG8yMDExYyA9IERCKFdvcmtVbnJlbGF0ZWQoCiAgICAyMDExLCAiQWxpbmhhbWVudG8gZW50cmUgZXN0cmF06WdpYSBkZSBuZWfzY2lvcyBlIG1lbGhvcmlhIGRlIHByb2Nlc3NvcyBkZSBzb2Z0d2FyZTogdW0gcm90ZWlybyBkZSBpbXBsZW1lbnRhe+d9428iLAogICAgZGlzcGxheT0iYXNhdG8gYyIsCiAgICBhdXRob3JzPSJBc2F0bywgUmVnaW5hIGFuZCBTcGlub2xhLCBNYXVybyBNZXNxdWl0YSBhbmQgQ29zdGEsIEl2YW5pciBhbmQgU2lsdmEsIFdhbHRlciBIZW5yaXF1ZSBEZSBGYXJpYXMiLAogICAgcGxhY2U9RkFLRSwKICAgIHBwPSIzMTQtLTMyOCIsCiAgICBlbnRyeXR5cGU9ImFydGljbGUiLAogICAgdm9sdW1lPSIyMSIsCiAgICBudW1iZXI9IjIiLAogICAgcHVibGlzaGVyPSJTY2lFTE8gQnJhc2lsIiwKICAgIElEPSJhc2F0bzIwMTFhbGluaGFtZW50byIsCiAgICBjbHVzdGVyX2lkPSIxNjQ1MTY0NDkzNDYwNTUyMzk4NyIsCiAgICBzY2hvbGFyPSJodHRwOi8vc2Nob2xhci5nb29nbGUuY29tL3NjaG9sYXI/Y2l0ZXM9MTY0NTE2NDQ5MzQ2MDU1MjM5ODcmYXNfc2R0PTIwMDUmc2Npb2R0PTAsNSZobD1lbiIsCiAgICBwbGFjZXg9IlByb2R1Y3Rpb24iLAopKQoKREIoQ2l0YXRpb24oCiAgICBhc2F0bzIwMTFjLCBtdXJ1Z2FwcGFuMjAwM2EsIHJlZj0iIiwKICAgIGNvbnRleHRzPVsKCiAgICBdLAopKQoKJycnLCBjaXRhdGlvbnM9J211cnVnYXBwYW4yMDAzYScpOw==\"));\n",
       "    "
      ],
      "text/plain": [
       "<IPython.core.display.Javascript object>"
      ]
     },
     "metadata": {},
     "output_type": "display_data"
    },
    {
     "data": {
      "application/javascript": [
       "$('span:contains(\"# Temp\")').closest('.cell').remove();"
      ],
      "text/plain": [
       "<IPython.core.display.Javascript object>"
      ]
     },
     "metadata": {},
     "output_type": "display_data"
    },
    {
     "data": {
      "application/javascript": [
       "\n",
       "        $('span:contains(\"# Temp\")').closest('.cell').remove();\n",
       "        var code = IPython.notebook.insert_cell_below('code');\n",
       "        code.set_text(atob(\"IyBUZW1wCmluc2VydCgnJycKYXNhdG8yMDExYyA9IERCKFdvcmtVbnJlbGF0ZWQoCiAgICAyMDExLCAiQWxpbmhhbWVudG8gZW50cmUgZXN0cmF06WdpYSBkZSBuZWfzY2lvcyBlIG1lbGhvcmlhIGRlIHByb2Nlc3NvcyBkZSBzb2Z0d2FyZTogdW0gcm90ZWlybyBkZSBpbXBsZW1lbnRhe+d9428iLAogICAgZGlzcGxheT0iYXNhdG8gYyIsCiAgICBhdXRob3JzPSJBc2F0bywgUmVnaW5hIGFuZCBTcGlub2xhLCBNYXVybyBNZXNxdWl0YSBhbmQgQ29zdGEsIEl2YW5pciBhbmQgU2lsdmEsIFdhbHRlciBIZW5yaXF1ZSBEZSBGYXJpYXMiLAogICAgcGxhY2U9RkFLRSwKICAgIHBwPSIzMTQtLTMyOCIsCiAgICBlbnRyeXR5cGU9ImFydGljbGUiLAogICAgdm9sdW1lPSIyMSIsCiAgICBudW1iZXI9IjIiLAogICAgcHVibGlzaGVyPSJTY2lFTE8gQnJhc2lsIiwKICAgIElEPSJhc2F0bzIwMTFhbGluaGFtZW50byIsCiAgICBjbHVzdGVyX2lkPSIxNjQ1MTY0NDkzNDYwNTUyMzk4NyIsCiAgICBzY2hvbGFyPSJodHRwOi8vc2Nob2xhci5nb29nbGUuY29tL3NjaG9sYXI/Y2l0ZXM9MTY0NTE2NDQ5MzQ2MDU1MjM5ODcmYXNfc2R0PTIwMDUmc2Npb2R0PTAsNSZobD1lbiIsCiAgICBwbGFjZXg9IlByb2R1Y3Rpb24iLAopKQoKREIoQ2l0YXRpb24oCiAgICBhc2F0bzIwMTFjLCBtdXJ1Z2FwcGFuMjAwM2EsIHJlZj0iIiwKICAgIGNvbnRleHRzPVsKCiAgICBdLAopKQoKJycnLCBjaXRhdGlvbnM9J211cnVnYXBwYW4yMDAzYScpOw==\"));\n",
       "    "
      ],
      "text/plain": [
       "<IPython.core.display.Javascript object>"
      ]
     },
     "metadata": {},
     "output_type": "display_data"
    },
    {
     "data": {
      "application/javascript": [
       "$('span:contains(\"# Temp\")').closest('.cell').remove();"
      ],
      "text/plain": [
       "<IPython.core.display.Javascript object>"
      ]
     },
     "metadata": {},
     "output_type": "display_data"
    },
    {
     "data": {
      "application/javascript": [
       "\n",
       "        $('span:contains(\"# Temp\")').closest('.cell').remove();\n",
       "        var code = IPython.notebook.insert_cell_below('code');\n",
       "        code.set_text(atob(\"IyBUZW1wCmluc2VydCgnJycKYnViZXZza2kyMDE0YSA9IERCKFdvcmtVbnJlbGF0ZWQoCiAgICAyMDE0LCAiQSBub3ZlbCBhcHByb2FjaCB0byBzb2Z0d2FyZSBxdWFsaXR5IHJpc2sgbWFuYWdlbWVudCIsCiAgICBkaXNwbGF5PSJidWJldnNraSIsCiAgICBhdXRob3JzPSJCdWJldnNraSwgVm9qbyIsCiAgICBwbGFjZT1GQUtFLAogICAgcHA9IjEyNC0tMTU0IiwKICAgIGVudHJ5dHlwZT0iYXJ0aWNsZSIsCiAgICB2b2x1bWU9IjI0IiwKICAgIG51bWJlcj0iMiIsCiAgICBwdWJsaXNoZXI9IldpbGV5IE9ubGluZSBMaWJyYXJ5IiwKICAgIElEPSJidWJldnNraTIwMTRub3ZlbCIsCiAgICBjbHVzdGVyX2lkPSI2MTYxNjUxMjcwNjc3NTM5MDAwIiwKICAgIHNjaG9sYXI9Imh0dHA6Ly9zY2hvbGFyLmdvb2dsZS5jb20vc2Nob2xhcj9jaXRlcz02MTYxNjUxMjcwNjc3NTM5MDAwJmFzX3NkdD0yMDA1JnNjaW9kdD0wLDUmaGw9ZW4iLAogICAgcGxhY2V4PSJTb2Z0d2FyZSBUZXN0aW5nLCBWZXJpZmljYXRpb24gYW5kIFJlbGlhYmlsaXR5IiwKKSkKCkRCKENpdGF0aW9uKAogICAgYnViZXZza2kyMDE0YSwgbXVydWdhcHBhbjIwMDNhLCByZWY9IiIsCiAgICBjb250ZXh0cz1bCgogICAgXSwKKSkKCicnJywgY2l0YXRpb25zPSdtdXJ1Z2FwcGFuMjAwM2EnKTs=\"));\n",
       "    "
      ],
      "text/plain": [
       "<IPython.core.display.Javascript object>"
      ]
     },
     "metadata": {},
     "output_type": "display_data"
    },
    {
     "data": {
      "application/javascript": [
       "$('span:contains(\"# Temp\")').closest('.cell').remove();"
      ],
      "text/plain": [
       "<IPython.core.display.Javascript object>"
      ]
     },
     "metadata": {},
     "output_type": "display_data"
    },
    {
     "data": {
      "application/javascript": [
       "\n",
       "        $('span:contains(\"# Temp\")').closest('.cell').remove();\n",
       "        var code = IPython.notebook.insert_cell_below('code');\n",
       "        code.set_text(atob(\"IyBUZW1wCmluc2VydCgnJycKYnViZXZza2kyMDE0YSA9IERCKFdvcmtVbnJlbGF0ZWQoCiAgICAyMDE0LCAiQSBub3ZlbCBhcHByb2FjaCB0byBzb2Z0d2FyZSBxdWFsaXR5IHJpc2sgbWFuYWdlbWVudCIsCiAgICBkaXNwbGF5PSJidWJldnNraSIsCiAgICBhdXRob3JzPSJCdWJldnNraSwgVm9qbyIsCiAgICBwbGFjZT1GQUtFLAogICAgcHA9IjEyNC0tMTU0IiwKICAgIGVudHJ5dHlwZT0iYXJ0aWNsZSIsCiAgICB2b2x1bWU9IjI0IiwKICAgIG51bWJlcj0iMiIsCiAgICBwdWJsaXNoZXI9IldpbGV5IE9ubGluZSBMaWJyYXJ5IiwKICAgIElEPSJidWJldnNraTIwMTRub3ZlbCIsCiAgICBjbHVzdGVyX2lkPSI2MTYxNjUxMjcwNjc3NTM5MDAwIiwKICAgIHNjaG9sYXI9Imh0dHA6Ly9zY2hvbGFyLmdvb2dsZS5jb20vc2Nob2xhcj9jaXRlcz02MTYxNjUxMjcwNjc3NTM5MDAwJmFzX3NkdD0yMDA1JnNjaW9kdD0wLDUmaGw9ZW4iLAogICAgcGxhY2V4PSJTb2Z0d2FyZSBUZXN0aW5nLCBWZXJpZmljYXRpb24gYW5kIFJlbGlhYmlsaXR5IiwKKSkKCkRCKENpdGF0aW9uKAogICAgYnViZXZza2kyMDE0YSwgbXVydWdhcHBhbjIwMDNhLCByZWY9IiIsCiAgICBjb250ZXh0cz1bCgogICAgXSwKKSkKCicnJywgY2l0YXRpb25zPSdtdXJ1Z2FwcGFuMjAwM2EnKTs=\"));\n",
       "    "
      ],
      "text/plain": [
       "<IPython.core.display.Javascript object>"
      ]
     },
     "metadata": {},
     "output_type": "display_data"
    },
    {
     "data": {
      "application/javascript": [
       "$('span:contains(\"# Temp\")').closest('.cell').remove();"
      ],
      "text/plain": [
       "<IPython.core.display.Javascript object>"
      ]
     },
     "metadata": {},
     "output_type": "display_data"
    },
    {
     "data": {
      "application/javascript": [
       "\n",
       "        $('span:contains(\"# Temp\")').closest('.cell').remove();\n",
       "        var code = IPython.notebook.insert_cell_below('code');\n",
       "        code.set_text(atob(\"IyBUZW1wCmluc2VydCgnJycKREIoQ2l0YXRpb24oCiAgICBt/GxsZXIyMDEyYSwgbXVydWdhcHBhbjIwMDNhLCByZWY9IiIsCiAgICBjb250ZXh0cz1bCgogICAgXSwKKSkKCicnJywgY2l0YXRpb25zPSdtdXJ1Z2FwcGFuMjAwM2EnKTsKc2V0X2F0dHJpYnV0ZSgnbfxsbGVyMjAxMmEnLCAnZXhjZXJwdCcsICdBYnN0cmFjdCBUaGUgaW1wb3J0YW5jZSBvZiBJbmZvcm1hdGlvbiBUZWNobm9sb2d5IChJVCkgaXMgZ3Jvd2luZywgYW5kIGluIGEgaHlwZXJjb21wZXRpdGl2ZSBtYXJrZXQgSVQgbXVzdCBiZSB1c2VkIGFzIGEgc3RyYXRlZ2ljIGFzc2V0IGZvciBjb21wYW5pZXMgdG8gc3VjY2VlZC4gSW4gb3JkZXIgdG8gZ2FpbiBzdHJhdGVnaWMgYmVuZWZpdHMgZnJvbSBJVCwgY29tcGFuaWVzIG5lZWQgdG8gYmUgaW5ub3ZhdGl2ZSB3aGVuIGRlcGxveWluZyBJVKCFJyk7\"));\n",
       "    "
      ],
      "text/plain": [
       "<IPython.core.display.Javascript object>"
      ]
     },
     "metadata": {},
     "output_type": "display_data"
    },
    {
     "data": {
      "application/javascript": [
       "$('span:contains(\"# Temp\")').closest('.cell').remove();"
      ],
      "text/plain": [
       "<IPython.core.display.Javascript object>"
      ]
     },
     "metadata": {},
     "output_type": "display_data"
    },
    {
     "data": {
      "application/javascript": [
       "\n",
       "        $('span:contains(\"# Temp\")').closest('.cell').remove();\n",
       "        var code = IPython.notebook.insert_cell_below('code');\n",
       "        code.set_text(atob(\"IyBUZW1wCmluc2VydCgnJycKREIoQ2l0YXRpb24oCiAgICBt/GxsZXIyMDEyYSwgbXVydWdhcHBhbjIwMDNhLCByZWY9IiIsCiAgICBjb250ZXh0cz1bCgogICAgXSwKKSkKCicnJywgY2l0YXRpb25zPSdtdXJ1Z2FwcGFuMjAwM2EnKTsKc2V0X2F0dHJpYnV0ZSgnbfxsbGVyMjAxMmEnLCAnZXhjZXJwdCcsICdBYnN0cmFjdCBUaGUgaW1wb3J0YW5jZSBvZiBJbmZvcm1hdGlvbiBUZWNobm9sb2d5IChJVCkgaXMgZ3Jvd2luZywgYW5kIGluIGEgaHlwZXJjb21wZXRpdGl2ZSBtYXJrZXQgSVQgbXVzdCBiZSB1c2VkIGFzIGEgc3RyYXRlZ2ljIGFzc2V0IGZvciBjb21wYW5pZXMgdG8gc3VjY2VlZC4gSW4gb3JkZXIgdG8gZ2FpbiBzdHJhdGVnaWMgYmVuZWZpdHMgZnJvbSBJVCwgY29tcGFuaWVzIG5lZWQgdG8gYmUgaW5ub3ZhdGl2ZSB3aGVuIGRlcGxveWluZyBJVKCFJyk7\"));\n",
       "    "
      ],
      "text/plain": [
       "<IPython.core.display.Javascript object>"
      ]
     },
     "metadata": {},
     "output_type": "display_data"
    },
    {
     "data": {
      "application/javascript": [
       "$('span:contains(\"# Temp\")').closest('.cell').remove();"
      ],
      "text/plain": [
       "<IPython.core.display.Javascript object>"
      ]
     },
     "metadata": {},
     "output_type": "display_data"
    },
    {
     "data": {
      "application/javascript": [
       "\n",
       "        $('span:contains(\"# Temp\")').closest('.cell').remove();\n",
       "        var code = IPython.notebook.insert_cell_below('code');\n",
       "        code.set_text(atob(\"IyBUZW1wCmluc2VydCgnJycKYmVzc2VyaXMyMDEwYSA9IERCKFdvcmtVbnJlbGF0ZWQoCiAgICAyMDEwLCAiVGFndWNoaSBtZXRob2RzIGluIHNvZnR3YXJlIHF1YWxpdHkgdGVzdGluZyIsCiAgICBkaXNwbGF5PSJiZXNzZXJpcyIsCiAgICBhdXRob3JzPSJCZXNzZXJpcywgR2VvcmdlIEoiLAogICAgcGxhY2U9RkFLRSwKICAgIHBwPSIzMzktLTM3MiIsCiAgICBlbnRyeXR5cGU9ImFydGljbGUiLAogICAgdm9sdW1lPSIxIiwKICAgIG51bWJlcj0iMyIsCiAgICBwdWJsaXNoZXI9IkluZGVyc2NpZW5jZSBQdWJsaXNoZXJzIiwKICAgIElEPSJiZXNzZXJpczIwMTB0YWd1Y2hpIiwKICAgIGNsdXN0ZXJfaWQ9IjE3MTMxOTM1ODI4OTk2NDAwMDIxIiwKICAgIHNjaG9sYXI9Imh0dHA6Ly9zY2hvbGFyLmdvb2dsZS5jb20vc2Nob2xhcj9jaXRlcz0xNzEzMTkzNTgyODk5NjQwMDAyMSZhc19zZHQ9MjAwNSZzY2lvZHQ9MCw1JmhsPWVuIiwKICAgIHBsYWNleD0iSW50ZXJuYXRpb25hbCBKb3VybmFsIG9mIFF1YWxpdHkgRW5naW5lZXJpbmcgYW5kIFRlY2hub2xvZ3kiLAopKQoKREIoQ2l0YXRpb24oCiAgICBiZXNzZXJpczIwMTBhLCBtdXJ1Z2FwcGFuMjAwM2EsIHJlZj0iIiwKICAgIGNvbnRleHRzPVsKCiAgICBdLAopKQoKJycnLCBjaXRhdGlvbnM9J211cnVnYXBwYW4yMDAzYScpOw==\"));\n",
       "    "
      ],
      "text/plain": [
       "<IPython.core.display.Javascript object>"
      ]
     },
     "metadata": {},
     "output_type": "display_data"
    },
    {
     "data": {
      "application/javascript": [
       "$('span:contains(\"# Temp\")').closest('.cell').remove();"
      ],
      "text/plain": [
       "<IPython.core.display.Javascript object>"
      ]
     },
     "metadata": {},
     "output_type": "display_data"
    },
    {
     "data": {
      "application/javascript": [
       "\n",
       "        $('span:contains(\"# Temp\")').closest('.cell').remove();\n",
       "        var code = IPython.notebook.insert_cell_below('code');\n",
       "        code.set_text(atob(\"IyBUZW1wCmluc2VydCgnJycKYmVzc2VyaXMyMDEwYSA9IERCKFdvcmtVbnJlbGF0ZWQoCiAgICAyMDEwLCAiVGFndWNoaSBtZXRob2RzIGluIHNvZnR3YXJlIHF1YWxpdHkgdGVzdGluZyIsCiAgICBkaXNwbGF5PSJiZXNzZXJpcyIsCiAgICBhdXRob3JzPSJCZXNzZXJpcywgR2VvcmdlIEoiLAogICAgcGxhY2U9RkFLRSwKICAgIHBwPSIzMzktLTM3MiIsCiAgICBlbnRyeXR5cGU9ImFydGljbGUiLAogICAgdm9sdW1lPSIxIiwKICAgIG51bWJlcj0iMyIsCiAgICBwdWJsaXNoZXI9IkluZGVyc2NpZW5jZSBQdWJsaXNoZXJzIiwKICAgIElEPSJiZXNzZXJpczIwMTB0YWd1Y2hpIiwKICAgIGNsdXN0ZXJfaWQ9IjE3MTMxOTM1ODI4OTk2NDAwMDIxIiwKICAgIHNjaG9sYXI9Imh0dHA6Ly9zY2hvbGFyLmdvb2dsZS5jb20vc2Nob2xhcj9jaXRlcz0xNzEzMTkzNTgyODk5NjQwMDAyMSZhc19zZHQ9MjAwNSZzY2lvZHQ9MCw1JmhsPWVuIiwKICAgIHBsYWNleD0iSW50ZXJuYXRpb25hbCBKb3VybmFsIG9mIFF1YWxpdHkgRW5naW5lZXJpbmcgYW5kIFRlY2hub2xvZ3kiLAopKQoKREIoQ2l0YXRpb24oCiAgICBiZXNzZXJpczIwMTBhLCBtdXJ1Z2FwcGFuMjAwM2EsIHJlZj0iIiwKICAgIGNvbnRleHRzPVsKCiAgICBdLAopKQoKJycnLCBjaXRhdGlvbnM9J211cnVnYXBwYW4yMDAzYScpOw==\"));\n",
       "    "
      ],
      "text/plain": [
       "<IPython.core.display.Javascript object>"
      ]
     },
     "metadata": {},
     "output_type": "display_data"
    },
    {
     "data": {
      "application/javascript": [
       "$('span:contains(\"# Temp\")').closest('.cell').remove();"
      ],
      "text/plain": [
       "<IPython.core.display.Javascript object>"
      ]
     },
     "metadata": {},
     "output_type": "display_data"
    },
    {
     "data": {
      "application/javascript": [
       "\n",
       "        $('span:contains(\"# Temp\")').closest('.cell').remove();\n",
       "        var code = IPython.notebook.insert_cell_below('code');\n",
       "        code.set_text(atob(\"IyBUZW1wCmluc2VydCgnJycKa3VuZHUyMDE2YSA9IERCKFdvcmtVbnJlbGF0ZWQoCiAgICAyMDE2LCAiUHJpb3JpdGl6aW5nIGxlYW4gcHJhY3RpY2VzIGZvciBpbXBsZW1lbnRhdGlvbiBpbiBJVCBzdXBwb3J0IHNlcnZpY2VzIiwKICAgIGRpc3BsYXk9Imt1bmR1IiwKICAgIGF1dGhvcnM9Ikt1bmR1LCBHb3V0YW0gS3VtYXIgYW5kIE1hbm9oYXIsIE11cmFsaSIsCiAgICBwbGFjZT1GQUtFLAogICAgcHA9IjEwNC0tMTIyIiwKICAgIGVudHJ5dHlwZT0iYXJ0aWNsZSIsCiAgICB2b2x1bWU9IjQ2IiwKICAgIG51bWJlcj0iMSIsCiAgICBwdWJsaXNoZXI9IkVtZXJhbGQgR3JvdXAgUHVibGlzaGluZyBMaW1pdGVkIiwKICAgIElEPSJrdW5kdTIwMTZwcmlvcml0aXppbmciLAogICAgY2x1c3Rlcl9pZD0iMTEzMDE3MDkwMTg2NDUyOTAzNjQiLAogICAgc2Nob2xhcj0iaHR0cDovL3NjaG9sYXIuZ29vZ2xlLmNvbS9zY2hvbGFyP2NpdGVzPTExMzAxNzA5MDE4NjQ1MjkwMzY0JmFzX3NkdD0yMDA1JnNjaW9kdD0wLDUmaGw9ZW4iLAogICAgcGxhY2V4PSJWSU5FIEpvdXJuYWwgb2YgSW5mb3JtYXRpb24gYW5kIEtub3dsZWRnZSBNYW5hZ2VtZW50IFN5c3RlbXMiLAopKQoKREIoQ2l0YXRpb24oCiAgICBrdW5kdTIwMTZhLCBtdXJ1Z2FwcGFuMjAwM2EsIHJlZj0iIiwKICAgIGNvbnRleHRzPVsKCiAgICBdLAopKQoKJycnLCBjaXRhdGlvbnM9J211cnVnYXBwYW4yMDAzYScpOw==\"));\n",
       "    "
      ],
      "text/plain": [
       "<IPython.core.display.Javascript object>"
      ]
     },
     "metadata": {},
     "output_type": "display_data"
    },
    {
     "data": {
      "application/javascript": [
       "$('span:contains(\"# Temp\")').closest('.cell').remove();"
      ],
      "text/plain": [
       "<IPython.core.display.Javascript object>"
      ]
     },
     "metadata": {},
     "output_type": "display_data"
    },
    {
     "data": {
      "application/javascript": [
       "\n",
       "        $('span:contains(\"# Temp\")').closest('.cell').remove();\n",
       "        var code = IPython.notebook.insert_cell_below('code');\n",
       "        code.set_text(atob(\"IyBUZW1wCmluc2VydCgnJycKa3VuZHUyMDE2YSA9IERCKFdvcmtVbnJlbGF0ZWQoCiAgICAyMDE2LCAiUHJpb3JpdGl6aW5nIGxlYW4gcHJhY3RpY2VzIGZvciBpbXBsZW1lbnRhdGlvbiBpbiBJVCBzdXBwb3J0IHNlcnZpY2VzIiwKICAgIGRpc3BsYXk9Imt1bmR1IiwKICAgIGF1dGhvcnM9Ikt1bmR1LCBHb3V0YW0gS3VtYXIgYW5kIE1hbm9oYXIsIE11cmFsaSIsCiAgICBwbGFjZT1GQUtFLAogICAgcHA9IjEwNC0tMTIyIiwKICAgIGVudHJ5dHlwZT0iYXJ0aWNsZSIsCiAgICB2b2x1bWU9IjQ2IiwKICAgIG51bWJlcj0iMSIsCiAgICBwdWJsaXNoZXI9IkVtZXJhbGQgR3JvdXAgUHVibGlzaGluZyBMaW1pdGVkIiwKICAgIElEPSJrdW5kdTIwMTZwcmlvcml0aXppbmciLAogICAgY2x1c3Rlcl9pZD0iMTEzMDE3MDkwMTg2NDUyOTAzNjQiLAogICAgc2Nob2xhcj0iaHR0cDovL3NjaG9sYXIuZ29vZ2xlLmNvbS9zY2hvbGFyP2NpdGVzPTExMzAxNzA5MDE4NjQ1MjkwMzY0JmFzX3NkdD0yMDA1JnNjaW9kdD0wLDUmaGw9ZW4iLAogICAgcGxhY2V4PSJWSU5FIEpvdXJuYWwgb2YgSW5mb3JtYXRpb24gYW5kIEtub3dsZWRnZSBNYW5hZ2VtZW50IFN5c3RlbXMiLAopKQoKREIoQ2l0YXRpb24oCiAgICBrdW5kdTIwMTZhLCBtdXJ1Z2FwcGFuMjAwM2EsIHJlZj0iIiwKICAgIGNvbnRleHRzPVsKCiAgICBdLAopKQoKJycnLCBjaXRhdGlvbnM9J211cnVnYXBwYW4yMDAzYScpOw==\"));\n",
       "    "
      ],
      "text/plain": [
       "<IPython.core.display.Javascript object>"
      ]
     },
     "metadata": {},
     "output_type": "display_data"
    },
    {
     "data": {
      "application/javascript": [
       "$('span:contains(\"# Temp\")').closest('.cell').remove();"
      ],
      "text/plain": [
       "<IPython.core.display.Javascript object>"
      ]
     },
     "metadata": {},
     "output_type": "display_data"
    },
    {
     "data": {
      "application/javascript": [
       "\n",
       "        $('span:contains(\"# Temp\")').closest('.cell').remove();\n",
       "        var code = IPython.notebook.insert_cell_below('code');\n",
       "        code.set_text(atob(\"IyBUZW1wCmluc2VydCgnJycKREIoQ2l0YXRpb24oCiAgICBjaGVuZzIwMDlhLCBtdXJ1Z2FwcGFuMjAwM2EsIHJlZj0iIiwKICAgIGNvbnRleHRzPVsKCiAgICBdLAopKQoKJycnLCBjaXRhdGlvbnM9J211cnVnYXBwYW4yMDAzYScpOwpzZXRfYXR0cmlidXRlKCdjaGVuZzIwMDlhJywgJ2V4Y2VycHQnLCAnQUJTVFJBQ1QgU29mdHdhcmUgaGFzIGdhaW5lZCBhbiBlc3NlbnRpYWwgcm9sZSBpbiBvdXIgZGFpbHkgbGlmZSBpbiB0aGUgbGFzdCBkZWNhZGVzLiBUaGlzIGNvbmRpdGlvbiBkZW1hbmRzIGhpZ2ggcXVhbGl0eSBzb2Z0d2FyZS4gVG8gcHJvZHVjZSBoaWdoIHF1YWxpdHkgc29mdHdhcmUgbWFueSBwcmFjdGl0aW9uZXJzIGFuZCByZXNlYXJjaGVycyBwdXQgbW9yZSBhdHRlbnRpb24gb24gdGhlIHNvZnR3YXJlIGRldmVsb3BtZW50IHByb2Nlc3OghScpOw==\"));\n",
       "    "
      ],
      "text/plain": [
       "<IPython.core.display.Javascript object>"
      ]
     },
     "metadata": {},
     "output_type": "display_data"
    },
    {
     "data": {
      "application/javascript": [
       "$('span:contains(\"# Temp\")').closest('.cell').remove();"
      ],
      "text/plain": [
       "<IPython.core.display.Javascript object>"
      ]
     },
     "metadata": {},
     "output_type": "display_data"
    },
    {
     "data": {
      "application/javascript": [
       "\n",
       "        $('span:contains(\"# Temp\")').closest('.cell').remove();\n",
       "        var code = IPython.notebook.insert_cell_below('code');\n",
       "        code.set_text(atob(\"IyBUZW1wCmluc2VydCgnJycKREIoQ2l0YXRpb24oCiAgICBjaGVuZzIwMDlhLCBtdXJ1Z2FwcGFuMjAwM2EsIHJlZj0iIiwKICAgIGNvbnRleHRzPVsKCiAgICBdLAopKQoKJycnLCBjaXRhdGlvbnM9J211cnVnYXBwYW4yMDAzYScpOwpzZXRfYXR0cmlidXRlKCdjaGVuZzIwMDlhJywgJ2V4Y2VycHQnLCAnQUJTVFJBQ1QgU29mdHdhcmUgaGFzIGdhaW5lZCBhbiBlc3NlbnRpYWwgcm9sZSBpbiBvdXIgZGFpbHkgbGlmZSBpbiB0aGUgbGFzdCBkZWNhZGVzLiBUaGlzIGNvbmRpdGlvbiBkZW1hbmRzIGhpZ2ggcXVhbGl0eSBzb2Z0d2FyZS4gVG8gcHJvZHVjZSBoaWdoIHF1YWxpdHkgc29mdHdhcmUgbWFueSBwcmFjdGl0aW9uZXJzIGFuZCByZXNlYXJjaGVycyBwdXQgbW9yZSBhdHRlbnRpb24gb24gdGhlIHNvZnR3YXJlIGRldmVsb3BtZW50IHByb2Nlc3OghScpOw==\"));\n",
       "    "
      ],
      "text/plain": [
       "<IPython.core.display.Javascript object>"
      ]
     },
     "metadata": {},
     "output_type": "display_data"
    },
    {
     "data": {
      "application/javascript": [
       "$('span:contains(\"# Temp\")').closest('.cell').remove();"
      ],
      "text/plain": [
       "<IPython.core.display.Javascript object>"
      ]
     },
     "metadata": {},
     "output_type": "display_data"
    },
    {
     "data": {
      "application/javascript": [
       "\n",
       "        $('span:contains(\"# Temp\")').closest('.cell').remove();\n",
       "        var code = IPython.notebook.insert_cell_below('code');\n",
       "        code.set_text(atob(\"IyBUZW1wCmluc2VydCgnJycKd2FuZGVyc21hbjIwMTJhID0gREIoV29ya1VucmVsYXRlZCgKICAgIDIwMTIsICJUb3dhcmQgYW4gZXZpZGVuY2UtYmFzZWQgc3lzdGVtIGZvciBpbm5vdmF0aW9uIHN1cHBvcnQgKHRvb2xzLCB0cmFpbmluZywgdGVjaG5pY2FsIGFzc2lzdGFuY2UsIHF1YWxpdHkgaW1wcm92ZW1lbnQvcXVhbGl0eSBhc3N1cmFuY2UpIGZvciBpbXBsZW1lbnRpbmcgaW5ub3ZhdGlvbnMgd2l0aCBxdWFsaXR5IHRvIGFjaGlldmUgZGVzaXJlZCBvdXRjb21lcyIsCiAgICBkaXNwbGF5PSJ3YW5kZXJzbWFuIiwKICAgIGF1dGhvcnM9IldhbmRlcnNtYW4sIEFicmFoYW0gYW5kIENoaWVuLCBWaWN0b3JpYSBIIGFuZCBLYXR6LCBKYXNvbiIsCiAgICBwbGFjZT1GQUtFLAogICAgcHA9IjQ0NS0tNDU5IiwKICAgIGVudHJ5dHlwZT0iYXJ0aWNsZSIsCiAgICB2b2x1bWU9IjUwIiwKICAgIElEPSJ3YW5kZXJzbWFuMjAxMnRvd2FyZCIsCiAgICBjbHVzdGVyX2lkPSIzODM1ODIzMjM0NDgyMzY1NTAyIiwKICAgIHNjaG9sYXI9Imh0dHA6Ly9zY2hvbGFyLmdvb2dsZS5jb20vc2Nob2xhcj9jaXRlcz0zODM1ODIzMjM0NDgyMzY1NTAyJmFzX3NkdD0yMDA1JnNjaW9kdD0wLDUmaGw9ZW4iLAogICAgcGxhY2V4PSJBbWVyaWNhbiBKb3VybmFsIG9mIENvbW11bml0eSBQc3ljaG9sb2d5IiwKKSkKCkRCKENpdGF0aW9uKAogICAgd2FuZGVyc21hbjIwMTJhLCBtdXJ1Z2FwcGFuMjAwM2EsIHJlZj0iIiwKICAgIGNvbnRleHRzPVsKCiAgICBdLAopKQoKJycnLCBjaXRhdGlvbnM9J211cnVnYXBwYW4yMDAzYScpOw==\"));\n",
       "    "
      ],
      "text/plain": [
       "<IPython.core.display.Javascript object>"
      ]
     },
     "metadata": {},
     "output_type": "display_data"
    },
    {
     "data": {
      "application/javascript": [
       "$('span:contains(\"# Temp\")').closest('.cell').remove();"
      ],
      "text/plain": [
       "<IPython.core.display.Javascript object>"
      ]
     },
     "metadata": {},
     "output_type": "display_data"
    },
    {
     "data": {
      "application/javascript": [
       "\n",
       "        $('span:contains(\"# Temp\")').closest('.cell').remove();\n",
       "        var code = IPython.notebook.insert_cell_below('code');\n",
       "        code.set_text(atob(\"IyBUZW1wCmluc2VydCgnJycKd2FuZGVyc21hbjIwMTJhID0gREIoV29ya1VucmVsYXRlZCgKICAgIDIwMTIsICJUb3dhcmQgYW4gZXZpZGVuY2UtYmFzZWQgc3lzdGVtIGZvciBpbm5vdmF0aW9uIHN1cHBvcnQgKHRvb2xzLCB0cmFpbmluZywgdGVjaG5pY2FsIGFzc2lzdGFuY2UsIHF1YWxpdHkgaW1wcm92ZW1lbnQvcXVhbGl0eSBhc3N1cmFuY2UpIGZvciBpbXBsZW1lbnRpbmcgaW5ub3ZhdGlvbnMgd2l0aCBxdWFsaXR5IHRvIGFjaGlldmUgZGVzaXJlZCBvdXRjb21lcyIsCiAgICBkaXNwbGF5PSJ3YW5kZXJzbWFuIiwKICAgIGF1dGhvcnM9IldhbmRlcnNtYW4sIEFicmFoYW0gYW5kIENoaWVuLCBWaWN0b3JpYSBIIGFuZCBLYXR6LCBKYXNvbiIsCiAgICBwbGFjZT1GQUtFLAogICAgcHA9IjQ0NS0tNDU5IiwKICAgIGVudHJ5dHlwZT0iYXJ0aWNsZSIsCiAgICB2b2x1bWU9IjUwIiwKICAgIElEPSJ3YW5kZXJzbWFuMjAxMnRvd2FyZCIsCiAgICBjbHVzdGVyX2lkPSIzODM1ODIzMjM0NDgyMzY1NTAyIiwKICAgIHNjaG9sYXI9Imh0dHA6Ly9zY2hvbGFyLmdvb2dsZS5jb20vc2Nob2xhcj9jaXRlcz0zODM1ODIzMjM0NDgyMzY1NTAyJmFzX3NkdD0yMDA1JnNjaW9kdD0wLDUmaGw9ZW4iLAogICAgcGxhY2V4PSJBbWVyaWNhbiBKb3VybmFsIG9mIENvbW11bml0eSBQc3ljaG9sb2d5IiwKKSkKCkRCKENpdGF0aW9uKAogICAgd2FuZGVyc21hbjIwMTJhLCBtdXJ1Z2FwcGFuMjAwM2EsIHJlZj0iIiwKICAgIGNvbnRleHRzPVsKCiAgICBdLAopKQoKJycnLCBjaXRhdGlvbnM9J211cnVnYXBwYW4yMDAzYScpOw==\"));\n",
       "    "
      ],
      "text/plain": [
       "<IPython.core.display.Javascript object>"
      ]
     },
     "metadata": {},
     "output_type": "display_data"
    },
    {
     "data": {
      "application/javascript": [
       "$('span:contains(\"# Temp\")').closest('.cell').remove();"
      ],
      "text/plain": [
       "<IPython.core.display.Javascript object>"
      ]
     },
     "metadata": {},
     "output_type": "display_data"
    },
    {
     "data": {
      "application/javascript": [
       "\n",
       "        $('span:contains(\"# Temp\")').closest('.cell').remove();\n",
       "        var code = IPython.notebook.insert_cell_below('code');\n",
       "        code.set_text(atob(\"IyBUZW1wCmluc2VydCgnJycKcmljbzIwMTBhID0gREIoV29ya1VucmVsYXRlZCgKICAgIDIwMTAsICJTaG9ydCBIaXN0b3J5IG9mIFNvZnR3YXJlIE1ldGhvZHMiLAogICAgZGlzcGxheT0icmljbyIsCiAgICBhdXRob3JzPSJSaWNvLCBEYXZpZCBGIiwKICAgIHBsYWNlPUZBS0UsCiAgICBlbnRyeXR5cGU9ImFydGljbGUiLAogICAgSUQ9InJpY28yMDEwc2hvcnQiLAogICAgY2x1c3Rlcl9pZD0iMTgzMjA3MTA4OTg2MzMyMDEyMjIiLAogICAgc2Nob2xhcj0iaHR0cDovL3NjaG9sYXIuZ29vZ2xlLmNvbS9zY2hvbGFyP2NpdGVzPTE4MzIwNzEwODk4NjMzMjAxMjIyJmFzX3NkdD0yMDA1JnNjaW9kdD0wLDUmaGw9ZW4iLAogICAgcGxhY2V4PSJkb3dubG9hZGVkIGZyb20gd2ViLCBBdWd1c3QiLAopKQoKREIoQ2l0YXRpb24oCiAgICByaWNvMjAxMGEsIG11cnVnYXBwYW4yMDAzYSwgcmVmPSIiLAogICAgY29udGV4dHM9WwoKICAgIF0sCikpCgonJycsIGNpdGF0aW9ucz0nbXVydWdhcHBhbjIwMDNhJyk7\"));\n",
       "    "
      ],
      "text/plain": [
       "<IPython.core.display.Javascript object>"
      ]
     },
     "metadata": {},
     "output_type": "display_data"
    },
    {
     "data": {
      "application/javascript": [
       "$('span:contains(\"# Temp\")').closest('.cell').remove();"
      ],
      "text/plain": [
       "<IPython.core.display.Javascript object>"
      ]
     },
     "metadata": {},
     "output_type": "display_data"
    },
    {
     "data": {
      "application/javascript": [
       "\n",
       "        $('span:contains(\"# Temp\")').closest('.cell').remove();\n",
       "        var code = IPython.notebook.insert_cell_below('code');\n",
       "        code.set_text(atob(\"IyBUZW1wCmluc2VydCgnJycKcmljbzIwMTBhID0gREIoV29ya1VucmVsYXRlZCgKICAgIDIwMTAsICJTaG9ydCBIaXN0b3J5IG9mIFNvZnR3YXJlIE1ldGhvZHMiLAogICAgZGlzcGxheT0icmljbyIsCiAgICBhdXRob3JzPSJSaWNvLCBEYXZpZCBGIiwKICAgIHBsYWNlPUZBS0UsCiAgICBlbnRyeXR5cGU9ImFydGljbGUiLAogICAgSUQ9InJpY28yMDEwc2hvcnQiLAogICAgY2x1c3Rlcl9pZD0iMTgzMjA3MTA4OTg2MzMyMDEyMjIiLAogICAgc2Nob2xhcj0iaHR0cDovL3NjaG9sYXIuZ29vZ2xlLmNvbS9zY2hvbGFyP2NpdGVzPTE4MzIwNzEwODk4NjMzMjAxMjIyJmFzX3NkdD0yMDA1JnNjaW9kdD0wLDUmaGw9ZW4iLAogICAgcGxhY2V4PSJkb3dubG9hZGVkIGZyb20gd2ViLCBBdWd1c3QiLAopKQoKREIoQ2l0YXRpb24oCiAgICByaWNvMjAxMGEsIG11cnVnYXBwYW4yMDAzYSwgcmVmPSIiLAogICAgY29udGV4dHM9WwoKICAgIF0sCikpCgonJycsIGNpdGF0aW9ucz0nbXVydWdhcHBhbjIwMDNhJyk7\"));\n",
       "    "
      ],
      "text/plain": [
       "<IPython.core.display.Javascript object>"
      ]
     },
     "metadata": {},
     "output_type": "display_data"
    },
    {
     "data": {
      "application/javascript": [
       "$('span:contains(\"# Temp\")').closest('.cell').remove();"
      ],
      "text/plain": [
       "<IPython.core.display.Javascript object>"
      ]
     },
     "metadata": {},
     "output_type": "display_data"
    },
    {
     "data": {
      "application/javascript": [
       "\n",
       "        $('span:contains(\"# Temp\")').closest('.cell').remove();\n",
       "        var code = IPython.notebook.insert_cell_below('code');\n",
       "        code.set_text(atob(\"IyBUZW1wCmluc2VydCgnJycKZWwyMDExYSA9IERCKFdvcmtVbnJlbGF0ZWQoCiAgICAyMDExLCAiRFNTLUNNTTogQSBjYXBhYmlsaXR5IG1hdHVyaXR5IG1vZGVsIGZvciBEU1MgZGV2ZWxvcG1lbnQgcHJvY2Vzc2VzIiwKICAgIGRpc3BsYXk9ImVsIiwKICAgIGF1dGhvcnM9IkVsLUdheWFyLCBPbWFyIEYgYW5kIERlb2thciwgQW1pdCBWIGFuZCBUYW8sIEppZSIsCiAgICBwbGFjZT1GQUtFLAogICAgcHA9IjE0LS0zNCIsCiAgICBlbnRyeXR5cGU9ImFydGljbGUiLAogICAgdm9sdW1lPSIzIiwKICAgIG51bWJlcj0iNCIsCiAgICBwdWJsaXNoZXI9IklHSSBHbG9iYWwiLAogICAgSUQ9ImVsMjAxMWRzcyIsCiAgICBjbHVzdGVyX2lkPSI5OTYzMzI5NTgzMzg4MDgzOTQiLAogICAgc2Nob2xhcj0iaHR0cDovL3NjaG9sYXIuZ29vZ2xlLmNvbS9zY2hvbGFyP2NpdGVzPTk5NjMzMjk1ODMzODgwODM5NCZhc19zZHQ9MjAwNSZzY2lvZHQ9MCw1JmhsPWVuIiwKICAgIHBsYWNleD0iSW50ZXJuYXRpb25hbCBKb3VybmFsIG9mIERlY2lzaW9uIFN1cHBvcnQgU3lzdGVtIFRlY2hub2xvZ3kgKElKRFNTVCkiLAopKQoKREIoQ2l0YXRpb24oCiAgICBlbDIwMTFhLCBtdXJ1Z2FwcGFuMjAwM2EsIHJlZj0iIiwKICAgIGNvbnRleHRzPVsKCiAgICBdLAopKQoKJycnLCBjaXRhdGlvbnM9J211cnVnYXBwYW4yMDAzYScpOw==\"));\n",
       "    "
      ],
      "text/plain": [
       "<IPython.core.display.Javascript object>"
      ]
     },
     "metadata": {},
     "output_type": "display_data"
    }
   ],
   "source": [
    "manager"
   ]
  },
  {
   "cell_type": "code",
   "execution_count": null,
   "metadata": {
    "collapsed": true
   },
   "outputs": [],
   "source": [
    "# Temp\n",
    "insert('''\n",
    "el2011a = DB(WorkUnrelated(\n",
    "    2011, \"DSS-CMM: A capability maturity model for DSS development processes\",\n",
    "    display=\"el\",\n",
    "    authors=\"El-Gayar, Omar F and Deokar, Amit V and Tao, Jie\",\n",
    "    place=FAKE,\n",
    "    pp=\"14--34\",\n",
    "    entrytype=\"article\",\n",
    "    volume=\"3\",\n",
    "    number=\"4\",\n",
    "    publisher=\"IGI Global\",\n",
    "    ID=\"el2011dss\",\n",
    "    cluster_id=\"996332958338808394\",\n",
    "    scholar=\"http://scholar.google.com/scholar?cites=996332958338808394&as_sdt=2005&sciodt=0,5&hl=en\",\n",
    "    placex=\"International Journal of Decision Support System Technology (IJDSST)\",\n",
    "))\n",
    "\n",
    "DB(Citation(\n",
    "    el2011a, murugappan2003a, ref=\"\",\n",
    "    contexts=[\n",
    "\n",
    "    ],\n",
    "))\n",
    "\n",
    "''', citations='murugappan2003a');"
   ]
  },
  {
   "cell_type": "code",
   "execution_count": null,
   "metadata": {
    "collapsed": true
   },
   "outputs": [],
   "source": []
  },
  {
   "cell_type": "code",
   "execution_count": null,
   "metadata": {
    "collapsed": true
   },
   "outputs": [],
   "source": [
    "from snowballing.operations import reload\n",
    "reload()"
   ]
  },
  {
   "cell_type": "code",
   "execution_count": null,
   "metadata": {
    "collapsed": true
   },
   "outputs": [],
   "source": []
  }
 ],
 "metadata": {
  "kernelspec": {
   "display_name": "Python 3",
   "language": "python",
   "name": "python3"
  },
  "language_info": {
   "codemirror_mode": {
    "name": "ipython",
    "version": 3
   },
   "file_extension": ".py",
   "mimetype": "text/x-python",
   "name": "python",
   "nbconvert_exporter": "python",
   "pygments_lexer": "ipython3",
   "version": "3.6.0"
  },
  "toc": {
   "nav_menu": {
    "height": "12px",
    "width": "252px"
   },
   "number_sections": true,
   "sideBar": true,
   "skip_h1_title": false,
   "toc_cell": false,
   "toc_position": {},
   "toc_section_display": "block",
   "toc_window_display": false
  }
 },
 "nbformat": 4,
 "nbformat_minor": 1
}
