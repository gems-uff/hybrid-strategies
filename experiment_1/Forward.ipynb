{
 "cells": [
  {
   "cell_type": "code",
   "execution_count": 1,
   "metadata": {
    "collapsed": true
   },
   "outputs": [],
   "source": [
    "import database\n",
    "from snowballing.operations import load_work, reload, work_by_varname\n",
    "from snowballing.selenium_scholar import SeleniumScholarQuerier\n",
    "from snowballing.snowballing import ForwardSnowballing\n",
    "from snowballing.dbmanager import insert, set_attribute\n",
    "from custom_snowballing import UnrelatedForward"
   ]
  },
  {
   "cell_type": "code",
   "execution_count": null,
   "metadata": {
    "collapsed": true
   },
   "outputs": [],
   "source": [
    "# Temp\n",
    "insert('''\n",
    "batista2009a = DB(WorkUnrelated(\n",
    "    2009, \"Um programa de melhoria de estimativas em uma organiza{ç}ão desenvolvedora de software\",\n",
    "    display=\"batista\",\n",
    "    authors=\"Batista, Vitor Alcântara\",\n",
    "    place=FAKE,\n",
    "    entrytype=\"article\",\n",
    "    ID=\"batista2009programa\",\n",
    "    placex=\"\",\n",
    "))\n",
    "\n",
    "DB(Citation(\n",
    "    batista2009a, kautz2000a, ref=\"\",\n",
    "    contexts=[\n",
    "\n",
    "    ],\n",
    "))\n",
    "\n",
    "''', citations='kautz2000a');"
   ]
  },
  {
   "cell_type": "code",
   "execution_count": 2,
   "metadata": {
    "collapsed": true
   },
   "outputs": [],
   "source": [
    "querier = SeleniumScholarQuerier()"
   ]
  },
  {
   "cell_type": "code",
   "execution_count": 3,
   "metadata": {
    "scrolled": true
   },
   "outputs": [
    {
     "name": "stderr",
     "output_type": "stream",
     "text": [
      "[ INFO]  settings applied\n"
     ]
    }
   ],
   "source": [
    "querier.apply_settings(20, 4);"
   ]
  },
  {
   "cell_type": "code",
   "execution_count": 4,
   "metadata": {},
   "outputs": [
    {
     "name": "stdout",
     "output_type": "stream",
     "text": [
      "Captcha: ok\n"
     ]
    }
   ],
   "source": [
    "#manager = ForwardSnowballing(querier, \"mendes2004a\", start=60)\n",
    "import importlib\n",
    "import custom_snowballing\n",
    "importlib.reload(custom_snowballing)\n",
    "from custom_snowballing import UnrelatedForward\n",
    "manager = UnrelatedForward(querier, \"kautz2000a\", start=0)"
   ]
  },
  {
   "cell_type": "code",
   "execution_count": null,
   "metadata": {
    "collapsed": true
   },
   "outputs": [],
   "source": []
  },
  {
   "cell_type": "code",
   "execution_count": null,
   "metadata": {
    "collapsed": true
   },
   "outputs": [],
   "source": []
  },
  {
   "cell_type": "code",
   "execution_count": null,
   "metadata": {
    "collapsed": true
   },
   "outputs": [],
   "source": [
    "#from snowballing.operations import reload\n",
    "#reload()\n",
    "#from snowballing.dbmanager import rename_work"
   ]
  },
  {
   "cell_type": "code",
   "execution_count": null,
   "metadata": {
    "collapsed": true
   },
   "outputs": [],
   "source": [
    "#rename_work(\"eljabiri0a\", \"eljabiri2012a\")"
   ]
  },
  {
   "cell_type": "code",
   "execution_count": null,
   "metadata": {
    "collapsed": true
   },
   "outputs": [],
   "source": [
    "#rename_work?"
   ]
  },
  {
   "cell_type": "code",
   "execution_count": null,
   "metadata": {
    "collapsed": true
   },
   "outputs": [],
   "source": [
    "#á"
   ]
  },
  {
   "cell_type": "code",
   "execution_count": null,
   "metadata": {
    "collapsed": true
   },
   "outputs": [],
   "source": []
  },
  {
   "cell_type": "code",
   "execution_count": null,
   "metadata": {
    "collapsed": true
   },
   "outputs": [],
   "source": []
  },
  {
   "cell_type": "code",
   "execution_count": 5,
   "metadata": {
    "scrolled": false
   },
   "outputs": [
    {
     "data": {
      "application/vnd.jupyter.widget-view+json": {
       "model_id": "16d836d59f7c4c468b8768b1e15d6da3",
       "version_major": 2,
       "version_minor": 0
      },
      "text/html": [
       "<p>Failed to display Jupyter Widget of type <code>Tab</code>.</p>\n",
       "<p>\n",
       "  If you're reading this message in Jupyter Notebook or JupyterLab, it may mean\n",
       "  that the widgets JavaScript is still loading. If this message persists, it\n",
       "  likely means that the widgets JavaScript library is either not installed or\n",
       "  not enabled. See the <a href=\"https://ipywidgets.readthedocs.io/en/stable/user_install.html\">Jupyter\n",
       "  Widgets Documentation</a> for setup instructions.\n",
       "</p>\n",
       "<p>\n",
       "  If you're reading this message in another notebook frontend (for example, a static\n",
       "  rendering on GitHub or <a href=\"https://nbviewer.jupyter.org/\">NBViewer</a>),\n",
       "  it may mean that your frontend doesn't currently support widgets.\n",
       "</p>\n"
      ],
      "text/plain": [
       "Tab(children=(VBox(children=(HBox(children=(Button(description='Previous Page', disabled=True, icon='arrow-left', style=ButtonStyle()), Button(description='Reload', icon='refresh', style=ButtonStyle()), Button(description='Next Page', icon='arrow-right', style=ButtonStyle()), ToggleButton(value=False, description='Debug'), Label(value=''))), Output(outputs=({'output_type': 'stream', 'text': \"Ops. It requires a captcha!\\nIf you filled in the browser, type '<ok>' here.\\n\", 'name': 'stdout'}, {'output_type': 'stream', 'text': '[ERROR]  requesting citation data failed: Message: The element reference of <div id=\"recaptcha\" class=\"g-recaptcha\"> is stale; either the element is no longer attached to the DOM, it is not in the current frame context, or the document has been refreshed\\n\\n', 'name': 'stderr'}, {'output_type': 'error', 'ename': 'TypeError', 'evalue': \"object of type 'NoneType' has no len()\", 'traceback': ['\\x1b[1;31m---------------------------------------------------------------------------\\x1b[0m', '\\x1b[1;31mTypeError\\x1b[0m                                 Traceback (most recent call last)', '\\x1b[1;32mc:\\\\erica\\\\snowballing\\\\snowballing\\\\snowballing.py\\x1b[0m in \\x1b[0;36mreload\\x1b[1;34m(self, b, show)\\x1b[0m\\n\\x1b[0;32m    620\\x1b[0m         \\x1b[1;32mwith\\x1b[0m \\x1b[0mself\\x1b[0m\\x1b[1;33m.\\x1b[0m\\x1b[0mnavigator\\x1b[0m\\x1b[1;33m.\\x1b[0m\\x1b[0moutput_widget\\x1b[0m\\x1b[1;33m:\\x1b[0m\\x1b[1;33m\\x1b[0m\\x1b[0m\\n\\x1b[0;32m    621\\x1b[0m             \\x1b[0mself\\x1b[0m\\x1b[1;33m.\\x1b[0m\\x1b[0mquerier\\x1b[0m\\x1b[1;33m.\\x1b[0m\\x1b[0mtasks\\x1b[0m\\x1b[1;33m.\\x1b[0m\\x1b[0mclear\\x1b[0m\\x1b[1;33m(\\x1b[0m\\x1b[1;33m)\\x1b[0m\\x1b[1;33m\\x1b[0m\\x1b[0m\\n\\x1b[1;32m--> 622\\x1b[1;33m             \\x1b[0mself\\x1b[0m\\x1b[1;33m.\\x1b[0m\\x1b[0mquerier\\x1b[0m\\x1b[1;33m.\\x1b[0m\\x1b[0msend_query\\x1b[0m\\x1b[1;33m(\\x1b[0m\\x1b[0mself\\x1b[0m\\x1b[1;33m.\\x1b[0m\\x1b[0mquery\\x1b[0m\\x1b[1;33m)\\x1b[0m\\x1b[1;33m\\x1b[0m\\x1b[0m\\n\\x1b[0m\\x1b[0;32m    623\\x1b[0m             self.page_number_widget.value = parse_qs(urlparse(\\n\\x1b[0;32m    624\\x1b[0m                 self.query.get_url()).query\\n', '\\x1b[1;32mc:\\\\erica\\\\snowballing\\\\snowballing\\\\selenium_scholar.py\\x1b[0m in \\x1b[0;36msend_query\\x1b[1;34m(self, query)\\x1b[0m\\n\\x1b[0;32m    483\\x1b[0m         \\x1b[1;34m\"\"\"Initiates a search query (a ScholarQuery instance)\"\"\"\\x1b[0m\\x1b[1;33m\\x1b[0m\\x1b[0m\\n\\x1b[0;32m    484\\x1b[0m         \\x1b[0mself\\x1b[0m\\x1b[1;33m.\\x1b[0m\\x1b[0mtasks\\x1b[0m\\x1b[1;33m.\\x1b[0m\\x1b[0mappend\\x1b[0m\\x1b[1;33m(\\x1b[0m\\x1b[0mQueryTask\\x1b[0m\\x1b[1;33m(\\x1b[0m\\x1b[0mquery\\x1b[0m\\x1b[1;33m)\\x1b[0m\\x1b[1;33m)\\x1b[0m\\x1b[1;33m\\x1b[0m\\x1b[0m\\n\\x1b[1;32m--> 485\\x1b[1;33m         \\x1b[0mself\\x1b[0m\\x1b[1;33m.\\x1b[0m\\x1b[0mcontinue_tasks\\x1b[0m\\x1b[1;33m(\\x1b[0m\\x1b[1;33m)\\x1b[0m\\x1b[1;33m\\x1b[0m\\x1b[0m\\n\\x1b[0m\\x1b[0;32m    486\\x1b[0m         \\x1b[1;32mreturn\\x1b[0m \\x1b[0mself\\x1b[0m\\x1b[1;33m\\x1b[0m\\x1b[0m\\n\\x1b[0;32m    487\\x1b[0m \\x1b[1;33m\\x1b[0m\\x1b[0m\\n', '\\x1b[1;32mc:\\\\erica\\\\snowballing\\\\snowballing\\\\selenium_scholar.py\\x1b[0m in \\x1b[0;36mcontinue_tasks\\x1b[1;34m(self)\\x1b[0m\\n\\x1b[0;32m    469\\x1b[0m         \\x1b[1;32mwhile\\x1b[0m \\x1b[0mself\\x1b[0m\\x1b[1;33m.\\x1b[0m\\x1b[0mtasks\\x1b[0m\\x1b[1;33m:\\x1b[0m\\x1b[1;33m\\x1b[0m\\x1b[0m\\n\\x1b[0;32m    470\\x1b[0m             \\x1b[0mtask\\x1b[0m \\x1b[1;33m=\\x1b[0m \\x1b[0mself\\x1b[0m\\x1b[1;33m.\\x1b[0m\\x1b[0mtasks\\x1b[0m\\x1b[1;33m.\\x1b[0m\\x1b[0mpopleft\\x1b[0m\\x1b[1;33m(\\x1b[0m\\x1b[1;33m)\\x1b[0m\\x1b[1;33m\\x1b[0m\\x1b[0m\\n\\x1b[1;32m--> 471\\x1b[1;33m             \\x1b[0mtask\\x1b[0m\\x1b[1;33m.\\x1b[0m\\x1b[0mapply\\x1b[0m\\x1b[1;33m(\\x1b[0m\\x1b[0mself\\x1b[0m\\x1b[1;33m)\\x1b[0m\\x1b[1;33m\\x1b[0m\\x1b[0m\\n\\x1b[0m\\x1b[0;32m    472\\x1b[0m         \\x1b[1;32mif\\x1b[0m \\x1b[0mself\\x1b[0m\\x1b[1;33m.\\x1b[0m\\x1b[0mresult\\x1b[0m\\x1b[1;33m:\\x1b[0m\\x1b[1;33m\\x1b[0m\\x1b[0m\\n\\x1b[0;32m    473\\x1b[0m             \\x1b[0mself\\x1b[0m\\x1b[1;33m.\\x1b[0m\\x1b[0marticles\\x1b[0m \\x1b[1;33m=\\x1b[0m \\x1b[0mself\\x1b[0m\\x1b[1;33m.\\x1b[0m\\x1b[0mresult\\x1b[0m\\x1b[1;33m.\\x1b[0m\\x1b[0marticles\\x1b[0m\\x1b[1;33m\\x1b[0m\\x1b[0m\\n', \"\\x1b[1;32mc:\\\\erica\\\\snowballing\\\\snowballing\\\\selenium_scholar.py\\x1b[0m in \\x1b[0;36mapply\\x1b[1;34m(self, querier)\\x1b[0m\\n\\x1b[0;32m    152\\x1b[0m     \\x1b[1;32mdef\\x1b[0m \\x1b[0mapply\\x1b[0m\\x1b[1;33m(\\x1b[0m\\x1b[0mself\\x1b[0m\\x1b[1;33m,\\x1b[0m \\x1b[0mquerier\\x1b[0m\\x1b[1;33m)\\x1b[0m\\x1b[1;33m:\\x1b[0m\\x1b[1;33m\\x1b[0m\\x1b[0m\\n\\x1b[0;32m    153\\x1b[0m         \\x1b[1;32mif\\x1b[0m \\x1b[0mlen\\x1b[0m\\x1b[1;33m(\\x1b[0m\\x1b[0mself\\x1b[0m\\x1b[1;33m.\\x1b[0m\\x1b[0mresult\\x1b[0m\\x1b[1;33m.\\x1b[0m\\x1b[0marticles\\x1b[0m\\x1b[1;33m)\\x1b[0m \\x1b[1;33m<\\x1b[0m \\x1b[0mgetattr\\x1b[0m\\x1b[1;33m(\\x1b[0m\\x1b[0mself\\x1b[0m\\x1b[1;33m.\\x1b[0m\\x1b[0mresult\\x1b[0m\\x1b[1;33m.\\x1b[0m\\x1b[0mquery\\x1b[0m\\x1b[1;33m,\\x1b[0m \\x1b[1;34m'num_results'\\x1b[0m\\x1b[1;33m,\\x1b[0m \\x1b[1;36m10000\\x1b[0m\\x1b[1;33m)\\x1b[0m\\x1b[1;33m:\\x1b[0m\\x1b[1;33m\\x1b[0m\\x1b[0m\\n\\x1b[1;32m--> 154\\x1b[1;33m             \\x1b[0mself\\x1b[0m\\x1b[1;33m.\\x1b[0m\\x1b[0mget_citation_data\\x1b[0m\\x1b[1;33m(\\x1b[0m\\x1b[0mquerier\\x1b[0m\\x1b[1;33m)\\x1b[0m\\x1b[1;33m\\x1b[0m\\x1b[0m\\n\\x1b[0m\\x1b[0;32m    155\\x1b[0m             \\x1b[0mself\\x1b[0m\\x1b[1;33m.\\x1b[0m\\x1b[0mresult\\x1b[0m\\x1b[1;33m.\\x1b[0m\\x1b[0marticles\\x1b[0m\\x1b[1;33m.\\x1b[0m\\x1b[0mappend\\x1b[0m\\x1b[1;33m(\\x1b[0m\\x1b[0mself\\x1b[0m\\x1b[1;33m.\\x1b[0m\\x1b[0marticle\\x1b[0m\\x1b[1;33m)\\x1b[0m\\x1b[1;33m\\x1b[0m\\x1b[0m\\n\\x1b[0;32m    156\\x1b[0m \\x1b[1;33m\\x1b[0m\\x1b[0m\\n\", '\\x1b[1;32mc:\\\\erica\\\\snowballing\\\\snowballing\\\\selenium_scholar.py\\x1b[0m in \\x1b[0;36mget_citation_data\\x1b[1;34m(self, querier)\\x1b[0m\\n\\x1b[0;32m    141\\x1b[0m                                     \\x1b[0merr_msg\\x1b[0m\\x1b[1;33m=\\x1b[0m\\x1b[1;34m\\'requesting citation data failed\\'\\x1b[0m\\x1b[1;33m,\\x1b[0m\\x1b[1;33m\\x1b[0m\\x1b[0m\\n\\x1b[0;32m    142\\x1b[0m                                     condition=(By.TAG_NAME, \\'pre\\'))\\n\\x1b[1;32m--> 143\\x1b[1;33m         \\x1b[0msoup\\x1b[0m \\x1b[1;33m=\\x1b[0m \\x1b[0mBeautifulSoup\\x1b[0m\\x1b[1;33m(\\x1b[0m\\x1b[0mdata\\x1b[0m\\x1b[1;33m,\\x1b[0m \\x1b[1;34m\"html.parser\"\\x1b[0m\\x1b[1;33m)\\x1b[0m\\x1b[1;33m\\x1b[0m\\x1b[0m\\n\\x1b[0m\\x1b[0;32m    144\\x1b[0m         \\x1b[0mdata\\x1b[0m \\x1b[1;33m=\\x1b[0m \\x1b[0msoup\\x1b[0m\\x1b[1;33m.\\x1b[0m\\x1b[0mtext\\x1b[0m\\x1b[1;33m\\x1b[0m\\x1b[0m\\n\\x1b[0;32m    145\\x1b[0m         \\x1b[1;32mif\\x1b[0m \\x1b[0mdata\\x1b[0m \\x1b[1;32mis\\x1b[0m \\x1b[1;32mNone\\x1b[0m\\x1b[1;33m:\\x1b[0m\\x1b[1;33m\\x1b[0m\\x1b[0m\\n', \"\\x1b[1;32mC:\\\\ProgramData\\\\Anaconda3\\\\lib\\\\site-packages\\\\bs4\\\\__init__.py\\x1b[0m in \\x1b[0;36m__init__\\x1b[1;34m(self, markup, features, builder, parse_only, from_encoding, exclude_encodings, **kwargs)\\x1b[0m\\n\\x1b[0;32m    190\\x1b[0m         \\x1b[1;32mif\\x1b[0m \\x1b[0mhasattr\\x1b[0m\\x1b[1;33m(\\x1b[0m\\x1b[0mmarkup\\x1b[0m\\x1b[1;33m,\\x1b[0m \\x1b[1;34m'read'\\x1b[0m\\x1b[1;33m)\\x1b[0m\\x1b[1;33m:\\x1b[0m        \\x1b[1;31m# It's a file-type object.\\x1b[0m\\x1b[1;33m\\x1b[0m\\x1b[0m\\n\\x1b[0;32m    191\\x1b[0m             \\x1b[0mmarkup\\x1b[0m \\x1b[1;33m=\\x1b[0m \\x1b[0mmarkup\\x1b[0m\\x1b[1;33m.\\x1b[0m\\x1b[0mread\\x1b[0m\\x1b[1;33m(\\x1b[0m\\x1b[1;33m)\\x1b[0m\\x1b[1;33m\\x1b[0m\\x1b[0m\\n\\x1b[1;32m--> 192\\x1b[1;33m         elif len(markup) <= 256 and (\\n\\x1b[0m\\x1b[0;32m    193\\x1b[0m                 \\x1b[1;33m(\\x1b[0m\\x1b[0misinstance\\x1b[0m\\x1b[1;33m(\\x1b[0m\\x1b[0mmarkup\\x1b[0m\\x1b[1;33m,\\x1b[0m \\x1b[0mbytes\\x1b[0m\\x1b[1;33m)\\x1b[0m \\x1b[1;32mand\\x1b[0m \\x1b[1;32mnot\\x1b[0m \\x1b[1;34mb'<'\\x1b[0m \\x1b[1;32min\\x1b[0m \\x1b[0mmarkup\\x1b[0m\\x1b[1;33m)\\x1b[0m\\x1b[1;33m\\x1b[0m\\x1b[0m\\n\\x1b[0;32m    194\\x1b[0m                 \\x1b[1;32mor\\x1b[0m \\x1b[1;33m(\\x1b[0m\\x1b[0misinstance\\x1b[0m\\x1b[1;33m(\\x1b[0m\\x1b[0mmarkup\\x1b[0m\\x1b[1;33m,\\x1b[0m \\x1b[0mstr\\x1b[0m\\x1b[1;33m)\\x1b[0m \\x1b[1;32mand\\x1b[0m \\x1b[1;32mnot\\x1b[0m \\x1b[1;34m'<'\\x1b[0m \\x1b[1;32min\\x1b[0m \\x1b[0mmarkup\\x1b[0m\\x1b[1;33m)\\x1b[0m\\x1b[1;33m\\x1b[0m\\x1b[0m\\n\", \"\\x1b[1;31mTypeError\\x1b[0m: object of type 'NoneType' has no len()\"]})))), VBox(children=(HBox(children=(Button(description='Previous Article', disabled=True, icon='caret-left', style=ButtonStyle()), Button(description='Reload Article', icon='refresh', style=ButtonStyle()), Button(description='Next Article', disabled=True, icon='caret-right', style=ButtonStyle()))), HBox(children=(Button(description='Unrelated: Scripts', style=ButtonStyle()), Button(description='Unrelated: Provenance', style=ButtonStyle()), Button(description='Both', style=ButtonStyle()), Button(description='Ok', style=ButtonStyle()))), HBox(children=(Dropdown(description='Type', index=5, options=('Work', 'WorkSnowball', 'WorkForward', 'WorkBackward', 'WorkOk', 'WorkUnrelated', 'WorkNoFile', 'WorkLang', 'Site', 'Email'), value='WorkUnrelated'), ToggleButton(value=False, description='File'))), HBox(children=(Text(value='', description='Due'), Text(value='', description='Place'))), HBox(children=(Text(value='', description='Year'), Text(value='', description='Prefix Var'))), HBox(children=(Text(value='', description='PDFPage'), Text(value='', description='Related'))), HBox(children=(Text(value='', description='Display'), Text(value='', description='Summary'))), HBox(children=(Text(value='', description='Star'), Text(value='', description='Link'))), HBox(children=(Button(description='Reload Article', icon='refresh', style=ButtonStyle()), IntSlider(value=0, max=0), Label(value='0/0'))), Output(outputs=({'output_type': 'stream', 'text': \"Ops. It requires a captcha!\\nIf you filled in the browser, type '<ok>' here.\\n\", 'name': 'stdout'}, {'output_type': 'stream', 'text': '[ERROR]  requesting citation data failed: Message: The element reference of <div id=\"recaptcha\" class=\"g-recaptcha\"> is stale; either the element is no longer attached to the DOM, it is not in the current frame context, or the document has been refreshed\\n\\n', 'name': 'stderr'}, {'output_type': 'error', 'ename': 'TypeError', 'evalue': \"object of type 'NoneType' has no len()\", 'traceback': ['\\x1b[1;31m---------------------------------------------------------------------------\\x1b[0m', '\\x1b[1;31mTypeError\\x1b[0m                                 Traceback (most recent call last)', '\\x1b[1;32mc:\\\\erica\\\\snowballing\\\\snowballing\\\\snowballing.py\\x1b[0m in \\x1b[0;36mreload\\x1b[1;34m(self, b, show)\\x1b[0m\\n\\x1b[0;32m    620\\x1b[0m         \\x1b[1;32mwith\\x1b[0m \\x1b[0mself\\x1b[0m\\x1b[1;33m.\\x1b[0m\\x1b[0mnavigator\\x1b[0m\\x1b[1;33m.\\x1b[0m\\x1b[0moutput_widget\\x1b[0m\\x1b[1;33m:\\x1b[0m\\x1b[1;33m\\x1b[0m\\x1b[0m\\n\\x1b[0;32m    621\\x1b[0m             \\x1b[0mself\\x1b[0m\\x1b[1;33m.\\x1b[0m\\x1b[0mquerier\\x1b[0m\\x1b[1;33m.\\x1b[0m\\x1b[0mtasks\\x1b[0m\\x1b[1;33m.\\x1b[0m\\x1b[0mclear\\x1b[0m\\x1b[1;33m(\\x1b[0m\\x1b[1;33m)\\x1b[0m\\x1b[1;33m\\x1b[0m\\x1b[0m\\n\\x1b[1;32m--> 622\\x1b[1;33m             \\x1b[0mself\\x1b[0m\\x1b[1;33m.\\x1b[0m\\x1b[0mquerier\\x1b[0m\\x1b[1;33m.\\x1b[0m\\x1b[0msend_query\\x1b[0m\\x1b[1;33m(\\x1b[0m\\x1b[0mself\\x1b[0m\\x1b[1;33m.\\x1b[0m\\x1b[0mquery\\x1b[0m\\x1b[1;33m)\\x1b[0m\\x1b[1;33m\\x1b[0m\\x1b[0m\\n\\x1b[0m\\x1b[0;32m    623\\x1b[0m             self.page_number_widget.value = parse_qs(urlparse(\\n\\x1b[0;32m    624\\x1b[0m                 self.query.get_url()).query\\n', '\\x1b[1;32mc:\\\\erica\\\\snowballing\\\\snowballing\\\\selenium_scholar.py\\x1b[0m in \\x1b[0;36msend_query\\x1b[1;34m(self, query)\\x1b[0m\\n\\x1b[0;32m    483\\x1b[0m         \\x1b[1;34m\"\"\"Initiates a search query (a ScholarQuery instance)\"\"\"\\x1b[0m\\x1b[1;33m\\x1b[0m\\x1b[0m\\n\\x1b[0;32m    484\\x1b[0m         \\x1b[0mself\\x1b[0m\\x1b[1;33m.\\x1b[0m\\x1b[0mtasks\\x1b[0m\\x1b[1;33m.\\x1b[0m\\x1b[0mappend\\x1b[0m\\x1b[1;33m(\\x1b[0m\\x1b[0mQueryTask\\x1b[0m\\x1b[1;33m(\\x1b[0m\\x1b[0mquery\\x1b[0m\\x1b[1;33m)\\x1b[0m\\x1b[1;33m)\\x1b[0m\\x1b[1;33m\\x1b[0m\\x1b[0m\\n\\x1b[1;32m--> 485\\x1b[1;33m         \\x1b[0mself\\x1b[0m\\x1b[1;33m.\\x1b[0m\\x1b[0mcontinue_tasks\\x1b[0m\\x1b[1;33m(\\x1b[0m\\x1b[1;33m)\\x1b[0m\\x1b[1;33m\\x1b[0m\\x1b[0m\\n\\x1b[0m\\x1b[0;32m    486\\x1b[0m         \\x1b[1;32mreturn\\x1b[0m \\x1b[0mself\\x1b[0m\\x1b[1;33m\\x1b[0m\\x1b[0m\\n\\x1b[0;32m    487\\x1b[0m \\x1b[1;33m\\x1b[0m\\x1b[0m\\n', '\\x1b[1;32mc:\\\\erica\\\\snowballing\\\\snowballing\\\\selenium_scholar.py\\x1b[0m in \\x1b[0;36mcontinue_tasks\\x1b[1;34m(self)\\x1b[0m\\n\\x1b[0;32m    469\\x1b[0m         \\x1b[1;32mwhile\\x1b[0m \\x1b[0mself\\x1b[0m\\x1b[1;33m.\\x1b[0m\\x1b[0mtasks\\x1b[0m\\x1b[1;33m:\\x1b[0m\\x1b[1;33m\\x1b[0m\\x1b[0m\\n\\x1b[0;32m    470\\x1b[0m             \\x1b[0mtask\\x1b[0m \\x1b[1;33m=\\x1b[0m \\x1b[0mself\\x1b[0m\\x1b[1;33m.\\x1b[0m\\x1b[0mtasks\\x1b[0m\\x1b[1;33m.\\x1b[0m\\x1b[0mpopleft\\x1b[0m\\x1b[1;33m(\\x1b[0m\\x1b[1;33m)\\x1b[0m\\x1b[1;33m\\x1b[0m\\x1b[0m\\n\\x1b[1;32m--> 471\\x1b[1;33m             \\x1b[0mtask\\x1b[0m\\x1b[1;33m.\\x1b[0m\\x1b[0mapply\\x1b[0m\\x1b[1;33m(\\x1b[0m\\x1b[0mself\\x1b[0m\\x1b[1;33m)\\x1b[0m\\x1b[1;33m\\x1b[0m\\x1b[0m\\n\\x1b[0m\\x1b[0;32m    472\\x1b[0m         \\x1b[1;32mif\\x1b[0m \\x1b[0mself\\x1b[0m\\x1b[1;33m.\\x1b[0m\\x1b[0mresult\\x1b[0m\\x1b[1;33m:\\x1b[0m\\x1b[1;33m\\x1b[0m\\x1b[0m\\n\\x1b[0;32m    473\\x1b[0m             \\x1b[0mself\\x1b[0m\\x1b[1;33m.\\x1b[0m\\x1b[0marticles\\x1b[0m \\x1b[1;33m=\\x1b[0m \\x1b[0mself\\x1b[0m\\x1b[1;33m.\\x1b[0m\\x1b[0mresult\\x1b[0m\\x1b[1;33m.\\x1b[0m\\x1b[0marticles\\x1b[0m\\x1b[1;33m\\x1b[0m\\x1b[0m\\n', \"\\x1b[1;32mc:\\\\erica\\\\snowballing\\\\snowballing\\\\selenium_scholar.py\\x1b[0m in \\x1b[0;36mapply\\x1b[1;34m(self, querier)\\x1b[0m\\n\\x1b[0;32m    152\\x1b[0m     \\x1b[1;32mdef\\x1b[0m \\x1b[0mapply\\x1b[0m\\x1b[1;33m(\\x1b[0m\\x1b[0mself\\x1b[0m\\x1b[1;33m,\\x1b[0m \\x1b[0mquerier\\x1b[0m\\x1b[1;33m)\\x1b[0m\\x1b[1;33m:\\x1b[0m\\x1b[1;33m\\x1b[0m\\x1b[0m\\n\\x1b[0;32m    153\\x1b[0m         \\x1b[1;32mif\\x1b[0m \\x1b[0mlen\\x1b[0m\\x1b[1;33m(\\x1b[0m\\x1b[0mself\\x1b[0m\\x1b[1;33m.\\x1b[0m\\x1b[0mresult\\x1b[0m\\x1b[1;33m.\\x1b[0m\\x1b[0marticles\\x1b[0m\\x1b[1;33m)\\x1b[0m \\x1b[1;33m<\\x1b[0m \\x1b[0mgetattr\\x1b[0m\\x1b[1;33m(\\x1b[0m\\x1b[0mself\\x1b[0m\\x1b[1;33m.\\x1b[0m\\x1b[0mresult\\x1b[0m\\x1b[1;33m.\\x1b[0m\\x1b[0mquery\\x1b[0m\\x1b[1;33m,\\x1b[0m \\x1b[1;34m'num_results'\\x1b[0m\\x1b[1;33m,\\x1b[0m \\x1b[1;36m10000\\x1b[0m\\x1b[1;33m)\\x1b[0m\\x1b[1;33m:\\x1b[0m\\x1b[1;33m\\x1b[0m\\x1b[0m\\n\\x1b[1;32m--> 154\\x1b[1;33m             \\x1b[0mself\\x1b[0m\\x1b[1;33m.\\x1b[0m\\x1b[0mget_citation_data\\x1b[0m\\x1b[1;33m(\\x1b[0m\\x1b[0mquerier\\x1b[0m\\x1b[1;33m)\\x1b[0m\\x1b[1;33m\\x1b[0m\\x1b[0m\\n\\x1b[0m\\x1b[0;32m    155\\x1b[0m             \\x1b[0mself\\x1b[0m\\x1b[1;33m.\\x1b[0m\\x1b[0mresult\\x1b[0m\\x1b[1;33m.\\x1b[0m\\x1b[0marticles\\x1b[0m\\x1b[1;33m.\\x1b[0m\\x1b[0mappend\\x1b[0m\\x1b[1;33m(\\x1b[0m\\x1b[0mself\\x1b[0m\\x1b[1;33m.\\x1b[0m\\x1b[0marticle\\x1b[0m\\x1b[1;33m)\\x1b[0m\\x1b[1;33m\\x1b[0m\\x1b[0m\\n\\x1b[0;32m    156\\x1b[0m \\x1b[1;33m\\x1b[0m\\x1b[0m\\n\", '\\x1b[1;32mc:\\\\erica\\\\snowballing\\\\snowballing\\\\selenium_scholar.py\\x1b[0m in \\x1b[0;36mget_citation_data\\x1b[1;34m(self, querier)\\x1b[0m\\n\\x1b[0;32m    141\\x1b[0m                                     \\x1b[0merr_msg\\x1b[0m\\x1b[1;33m=\\x1b[0m\\x1b[1;34m\\'requesting citation data failed\\'\\x1b[0m\\x1b[1;33m,\\x1b[0m\\x1b[1;33m\\x1b[0m\\x1b[0m\\n\\x1b[0;32m    142\\x1b[0m                                     condition=(By.TAG_NAME, \\'pre\\'))\\n\\x1b[1;32m--> 143\\x1b[1;33m         \\x1b[0msoup\\x1b[0m \\x1b[1;33m=\\x1b[0m \\x1b[0mBeautifulSoup\\x1b[0m\\x1b[1;33m(\\x1b[0m\\x1b[0mdata\\x1b[0m\\x1b[1;33m,\\x1b[0m \\x1b[1;34m\"html.parser\"\\x1b[0m\\x1b[1;33m)\\x1b[0m\\x1b[1;33m\\x1b[0m\\x1b[0m\\n\\x1b[0m\\x1b[0;32m    144\\x1b[0m         \\x1b[0mdata\\x1b[0m \\x1b[1;33m=\\x1b[0m \\x1b[0msoup\\x1b[0m\\x1b[1;33m.\\x1b[0m\\x1b[0mtext\\x1b[0m\\x1b[1;33m\\x1b[0m\\x1b[0m\\n\\x1b[0;32m    145\\x1b[0m         \\x1b[1;32mif\\x1b[0m \\x1b[0mdata\\x1b[0m \\x1b[1;32mis\\x1b[0m \\x1b[1;32mNone\\x1b[0m\\x1b[1;33m:\\x1b[0m\\x1b[1;33m\\x1b[0m\\x1b[0m\\n', \"\\x1b[1;32mC:\\\\ProgramData\\\\Anaconda3\\\\lib\\\\site-packages\\\\bs4\\\\__init__.py\\x1b[0m in \\x1b[0;36m__init__\\x1b[1;34m(self, markup, features, builder, parse_only, from_encoding, exclude_encodings, **kwargs)\\x1b[0m\\n\\x1b[0;32m    190\\x1b[0m         \\x1b[1;32mif\\x1b[0m \\x1b[0mhasattr\\x1b[0m\\x1b[1;33m(\\x1b[0m\\x1b[0mmarkup\\x1b[0m\\x1b[1;33m,\\x1b[0m \\x1b[1;34m'read'\\x1b[0m\\x1b[1;33m)\\x1b[0m\\x1b[1;33m:\\x1b[0m        \\x1b[1;31m# It's a file-type object.\\x1b[0m\\x1b[1;33m\\x1b[0m\\x1b[0m\\n\\x1b[0;32m    191\\x1b[0m             \\x1b[0mmarkup\\x1b[0m \\x1b[1;33m=\\x1b[0m \\x1b[0mmarkup\\x1b[0m\\x1b[1;33m.\\x1b[0m\\x1b[0mread\\x1b[0m\\x1b[1;33m(\\x1b[0m\\x1b[1;33m)\\x1b[0m\\x1b[1;33m\\x1b[0m\\x1b[0m\\n\\x1b[1;32m--> 192\\x1b[1;33m         elif len(markup) <= 256 and (\\n\\x1b[0m\\x1b[0;32m    193\\x1b[0m                 \\x1b[1;33m(\\x1b[0m\\x1b[0misinstance\\x1b[0m\\x1b[1;33m(\\x1b[0m\\x1b[0mmarkup\\x1b[0m\\x1b[1;33m,\\x1b[0m \\x1b[0mbytes\\x1b[0m\\x1b[1;33m)\\x1b[0m \\x1b[1;32mand\\x1b[0m \\x1b[1;32mnot\\x1b[0m \\x1b[1;34mb'<'\\x1b[0m \\x1b[1;32min\\x1b[0m \\x1b[0mmarkup\\x1b[0m\\x1b[1;33m)\\x1b[0m\\x1b[1;33m\\x1b[0m\\x1b[0m\\n\\x1b[0;32m    194\\x1b[0m                 \\x1b[1;32mor\\x1b[0m \\x1b[1;33m(\\x1b[0m\\x1b[0misinstance\\x1b[0m\\x1b[1;33m(\\x1b[0m\\x1b[0mmarkup\\x1b[0m\\x1b[1;33m,\\x1b[0m \\x1b[0mstr\\x1b[0m\\x1b[1;33m)\\x1b[0m \\x1b[1;32mand\\x1b[0m \\x1b[1;32mnot\\x1b[0m \\x1b[1;34m'<'\\x1b[0m \\x1b[1;32min\\x1b[0m \\x1b[0mmarkup\\x1b[0m\\x1b[1;33m)\\x1b[0m\\x1b[1;33m\\x1b[0m\\x1b[0m\\n\", \"\\x1b[1;31mTypeError\\x1b[0m: object of type 'NoneType' has no len()\"]}))))), _titles={'0': 'Page', '1': 'Article'})"
      ]
     },
     "metadata": {},
     "output_type": "display_data"
    },
    {
     "data": {
      "application/javascript": [
       "$('span:contains(\"# Temp\")').closest('.cell').remove();"
      ],
      "text/plain": [
       "<IPython.core.display.Javascript object>"
      ]
     },
     "metadata": {},
     "output_type": "display_data"
    },
    {
     "data": {
      "application/javascript": [
       "\n",
       "        $('span:contains(\"# Temp\")').closest('.cell').remove();\n",
       "        var code = IPython.notebook.insert_cell_below('code');\n",
       "        code.set_text(atob(\"IyBUZW1wCmluc2VydCgnJycKREIoQ2l0YXRpb24oCiAgICBoYW5zZW4yMDA0YSwga2F1dHoyMDAwYSwgcmVmPSIiLAogICAgY29udGV4dHM9WwoKICAgIF0sCikpCgonJycsIGNpdGF0aW9ucz0na2F1dHoyMDAwYScpOwpzZXRfYXR0cmlidXRlKCdoYW5zZW4yMDA0YScsICdwdWJsaXNoZXInLCAnRWxzZXZpZXInKTsKc2V0X2F0dHJpYnV0ZSgnaGFuc2VuMjAwNGEnLCAnZXhjZXJwdCcsICdBYnN0cmFjdCBUaGlzIGFydGljbGUgcmV2aWV3cyAzMjIgcmVwcmVzZW50YXRpdmUgY29udHJpYnV0aW9ucyB0byB0aGUgc29mdHdhcmUgcHJvY2VzcyBpbXByb3ZlbWVudCAoU1BJKSBsaXRlcmF0dXJlLiBUaGUgY29udHJpYnV0aW9ucyBhcmUgY2F0ZWdvcmlzZWQgYWNjb3JkaW5nIHRvIGEgc2ltcGxlIGZyYW1ld29yazogd2hldGhlciB0aGVpciBwcmltYXJ5IGdvYWwgaXMgcHJlc2NyaXB0aXZlICh0byB0ZWxsIFNQSSBwcm9mZXNzaW9uYWxzIHdoYXQgdG8gZG8pLCAnKTsKc2V0X2F0dHJpYnV0ZSgnaGFuc2VuMjAwNGEnLCAnY2x1c3Rlcl9pZCcsICcxMDc3MDExOTk1NTE0NTYxMzMwNScpOwpzZXRfYXR0cmlidXRlKCdoYW5zZW4yMDA0YScsICdzY2hvbGFyJywgJ2h0dHA6Ly9zY2hvbGFyLmdvb2dsZS5jb20vc2Nob2xhcj9jaXRlcz0xMDc3MDExOTk1NTE0NTYxMzMwNSZhc19zZHQ9MjAwNSZzY2lvZHQ9MCw1JmhsPWVuJyk7\"));\n",
       "    "
      ],
      "text/plain": [
       "<IPython.core.display.Javascript object>"
      ]
     },
     "metadata": {},
     "output_type": "display_data"
    },
    {
     "data": {
      "application/javascript": [
       "$('span:contains(\"# Temp\")').closest('.cell').remove();"
      ],
      "text/plain": [
       "<IPython.core.display.Javascript object>"
      ]
     },
     "metadata": {},
     "output_type": "display_data"
    },
    {
     "data": {
      "application/javascript": [
       "\n",
       "        $('span:contains(\"# Temp\")').closest('.cell').remove();\n",
       "        var code = IPython.notebook.insert_cell_below('code');\n",
       "        code.set_text(atob(\"IyBUZW1wCmluc2VydCgnJycKREIoQ2l0YXRpb24oCiAgICBnb3JzY2hlazIwMDhhLCBrYXV0ejIwMDBhLCByZWY9IiIsCiAgICBjb250ZXh0cz1bCgogICAgXSwKKSkKCicnJywgY2l0YXRpb25zPSdrYXV0ejIwMDBhJyk7CnNldF9hdHRyaWJ1dGUoJ2dvcnNjaGVrMjAwOGEnLCAncHVibGlzaGVyJywgJ0Vsc2V2aWVyJyk7CnNldF9hdHRyaWJ1dGUoJ2dvcnNjaGVrMjAwOGEnLCAnZXhjZXJwdCcsICdBYnN0cmFjdCBXaGVuIHNvZnR3YXJlIGRldmVsb3BtZW50IHRlYW1zIG1vZGlmeSB0aGVpciByZXF1aXJlbWVudHMgZW5naW5lZXJpbmcgcHJvY2VzcyBhcyBhbiBpbmRlcGVuZGVudCB2YXJpYWJsZSwgdGhleSBvZnRlbiBleGFtaW5lIHRoZSBpbXBsaWNhdGlvbnMgb2YgdGhlc2UgcHJvY2VzcyBjaGFuZ2VzIGJ5IGFzc2Vzc2luZyB0aGUgcXVhbGl0eSBvZiB0aGUgcHJvZHVjdHMgb2YgdGhlIHJlcXVpcmVtZW50cyBlbmdpbmVlcmluZyBwcm9jZXNzLCBlZywgYSAnKTsKc2V0X2F0dHJpYnV0ZSgnZ29yc2NoZWsyMDA4YScsICdjbHVzdGVyX2lkJywgJzExMzU5NDYwMjQ5MDMwNDIyNDY4Jyk7CnNldF9hdHRyaWJ1dGUoJ2dvcnNjaGVrMjAwOGEnLCAnc2Nob2xhcicsICdodHRwOi8vc2Nob2xhci5nb29nbGUuY29tL3NjaG9sYXI/Y2l0ZXM9MTEzNTk0NjAyNDkwMzA0MjI0NjgmYXNfc2R0PTIwMDUmc2Npb2R0PTAsNSZobD1lbicpOw==\"));\n",
       "    "
      ],
      "text/plain": [
       "<IPython.core.display.Javascript object>"
      ]
     },
     "metadata": {},
     "output_type": "display_data"
    },
    {
     "data": {
      "application/javascript": [
       "$('span:contains(\"# Temp\")').closest('.cell').remove();"
      ],
      "text/plain": [
       "<IPython.core.display.Javascript object>"
      ]
     },
     "metadata": {},
     "output_type": "display_data"
    },
    {
     "data": {
      "application/javascript": [
       "\n",
       "        $('span:contains(\"# Temp\")').closest('.cell').remove();\n",
       "        var code = IPython.notebook.insert_cell_below('code');\n",
       "        code.set_text(atob(\"IyBUZW1wCmluc2VydCgnJycKREIoQ2l0YXRpb24oCiAgICBnb3JzY2hlazIwMDhhLCBrYXV0ejIwMDBhLCByZWY9IiIsCiAgICBjb250ZXh0cz1bCgogICAgXSwKKSkKCicnJywgY2l0YXRpb25zPSdrYXV0ejIwMDBhJyk7CnNldF9hdHRyaWJ1dGUoJ2dvcnNjaGVrMjAwOGEnLCAncHVibGlzaGVyJywgJ0Vsc2V2aWVyJyk7CnNldF9hdHRyaWJ1dGUoJ2dvcnNjaGVrMjAwOGEnLCAnZXhjZXJwdCcsICdBYnN0cmFjdCBXaGVuIHNvZnR3YXJlIGRldmVsb3BtZW50IHRlYW1zIG1vZGlmeSB0aGVpciByZXF1aXJlbWVudHMgZW5naW5lZXJpbmcgcHJvY2VzcyBhcyBhbiBpbmRlcGVuZGVudCB2YXJpYWJsZSwgdGhleSBvZnRlbiBleGFtaW5lIHRoZSBpbXBsaWNhdGlvbnMgb2YgdGhlc2UgcHJvY2VzcyBjaGFuZ2VzIGJ5IGFzc2Vzc2luZyB0aGUgcXVhbGl0eSBvZiB0aGUgcHJvZHVjdHMgb2YgdGhlIHJlcXVpcmVtZW50cyBlbmdpbmVlcmluZyBwcm9jZXNzLCBlZywgYSAnKTsKc2V0X2F0dHJpYnV0ZSgnZ29yc2NoZWsyMDA4YScsICdjbHVzdGVyX2lkJywgJzExMzU5NDYwMjQ5MDMwNDIyNDY4Jyk7CnNldF9hdHRyaWJ1dGUoJ2dvcnNjaGVrMjAwOGEnLCAnc2Nob2xhcicsICdodHRwOi8vc2Nob2xhci5nb29nbGUuY29tL3NjaG9sYXI/Y2l0ZXM9MTEzNTk0NjAyNDkwMzA0MjI0NjgmYXNfc2R0PTIwMDUmc2Npb2R0PTAsNSZobD1lbicpOw==\"));\n",
       "    "
      ],
      "text/plain": [
       "<IPython.core.display.Javascript object>"
      ]
     },
     "metadata": {},
     "output_type": "display_data"
    },
    {
     "data": {
      "application/javascript": [
       "$('span:contains(\"# Temp\")').closest('.cell').remove();"
      ],
      "text/plain": [
       "<IPython.core.display.Javascript object>"
      ]
     },
     "metadata": {},
     "output_type": "display_data"
    },
    {
     "data": {
      "application/javascript": [
       "\n",
       "        $('span:contains(\"# Temp\")').closest('.cell').remove();\n",
       "        var code = IPython.notebook.insert_cell_below('code');\n",
       "        code.set_text(atob(\"IyBUZW1wCmluc2VydCgnJycKa2F1dHoyMDA0YSA9IERCKFdvcmtVbnJlbGF0ZWQoCiAgICAyMDA0LCAiVW5kZXJzdGFuZGluZyB0aGUgaW1wbGVtZW50YXRpb24gb2Ygc29mdHdhcmUgcHJvY2VzcyBpbXByb3ZlbWVudCBpbm5vdmF0aW9ucyBpbiBzb2Z0d2FyZSBvcmdhbml6YXRpb25zIiwKICAgIGRpc3BsYXk9ImthdXR6IiwKICAgIGF1dGhvcnM9IkthdXR6LCBLYXJsaGVpbnogYW5kIE5pZWxzZW4sIFBldGVyIEF4ZWwiLAogICAgcGxhY2U9RkFLRSwKICAgIHBwPSIzLS0yMiIsCiAgICBlbnRyeXR5cGU9ImFydGljbGUiLAogICAgdm9sdW1lPSIxNCIsCiAgICBudW1iZXI9IjEiLAogICAgcHVibGlzaGVyPSJXaWxleSBPbmxpbmUgTGlicmFyeSIsCiAgICBJRD0ia2F1dHoyMDA0dW5kZXJzdGFuZGluZyIsCiAgICBjbHVzdGVyX2lkPSIxNTA3MzkzMjEyNTk1NjU5MTU0NiIsCiAgICBzY2hvbGFyPSJodHRwOi8vc2Nob2xhci5nb29nbGUuY29tL3NjaG9sYXI/Y2l0ZXM9MTUwNzM5MzIxMjU5NTY1OTE1NDYmYXNfc2R0PTIwMDUmc2Npb2R0PTAsNSZobD1lbiIsCiAgICBwbGFjZXg9IkluZm9ybWF0aW9uIFN5c3RlbXMgSm91cm5hbCIsCikpCgpEQihDaXRhdGlvbigKICAgIGthdXR6MjAwNGEsIGthdXR6MjAwMGEsIHJlZj0iIiwKICAgIGNvbnRleHRzPVsKCiAgICBdLAopKQoKJycnLCBjaXRhdGlvbnM9J2thdXR6MjAwMGEnKTs=\"));\n",
       "    "
      ],
      "text/plain": [
       "<IPython.core.display.Javascript object>"
      ]
     },
     "metadata": {},
     "output_type": "display_data"
    },
    {
     "data": {
      "application/javascript": [
       "$('span:contains(\"# Temp\")').closest('.cell').remove();"
      ],
      "text/plain": [
       "<IPython.core.display.Javascript object>"
      ]
     },
     "metadata": {},
     "output_type": "display_data"
    },
    {
     "data": {
      "application/javascript": [
       "\n",
       "        $('span:contains(\"# Temp\")').closest('.cell').remove();\n",
       "        var code = IPython.notebook.insert_cell_below('code');\n",
       "        code.set_text(atob(\"IyBUZW1wCmluc2VydCgnJycKa2F1dHoyMDA0YSA9IERCKFdvcmtVbnJlbGF0ZWQoCiAgICAyMDA0LCAiVW5kZXJzdGFuZGluZyB0aGUgaW1wbGVtZW50YXRpb24gb2Ygc29mdHdhcmUgcHJvY2VzcyBpbXByb3ZlbWVudCBpbm5vdmF0aW9ucyBpbiBzb2Z0d2FyZSBvcmdhbml6YXRpb25zIiwKICAgIGRpc3BsYXk9ImthdXR6IiwKICAgIGF1dGhvcnM9IkthdXR6LCBLYXJsaGVpbnogYW5kIE5pZWxzZW4sIFBldGVyIEF4ZWwiLAogICAgcGxhY2U9RkFLRSwKICAgIHBwPSIzLS0yMiIsCiAgICBlbnRyeXR5cGU9ImFydGljbGUiLAogICAgdm9sdW1lPSIxNCIsCiAgICBudW1iZXI9IjEiLAogICAgcHVibGlzaGVyPSJXaWxleSBPbmxpbmUgTGlicmFyeSIsCiAgICBJRD0ia2F1dHoyMDA0dW5kZXJzdGFuZGluZyIsCiAgICBjbHVzdGVyX2lkPSIxNTA3MzkzMjEyNTk1NjU5MTU0NiIsCiAgICBzY2hvbGFyPSJodHRwOi8vc2Nob2xhci5nb29nbGUuY29tL3NjaG9sYXI/Y2l0ZXM9MTUwNzM5MzIxMjU5NTY1OTE1NDYmYXNfc2R0PTIwMDUmc2Npb2R0PTAsNSZobD1lbiIsCiAgICBwbGFjZXg9IkluZm9ybWF0aW9uIFN5c3RlbXMgSm91cm5hbCIsCikpCgpEQihDaXRhdGlvbigKICAgIGthdXR6MjAwNGEsIGthdXR6MjAwMGEsIHJlZj0iIiwKICAgIGNvbnRleHRzPVsKCiAgICBdLAopKQoKJycnLCBjaXRhdGlvbnM9J2thdXR6MjAwMGEnKTs=\"));\n",
       "    "
      ],
      "text/plain": [
       "<IPython.core.display.Javascript object>"
      ]
     },
     "metadata": {},
     "output_type": "display_data"
    },
    {
     "data": {
      "application/javascript": [
       "$('span:contains(\"# Temp\")').closest('.cell').remove();"
      ],
      "text/plain": [
       "<IPython.core.display.Javascript object>"
      ]
     },
     "metadata": {},
     "output_type": "display_data"
    },
    {
     "data": {
      "application/javascript": [
       "\n",
       "        $('span:contains(\"# Temp\")').closest('.cell').remove();\n",
       "        var code = IPython.notebook.insert_cell_below('code');\n",
       "        code.set_text(atob(\"IyBUZW1wCmluc2VydCgnJycKZ3VlcnJlcm8yMDA0YSA9IERCKFdvcmtVbnJlbGF0ZWQoCiAgICAyMDA0LCAiQWRvcHRpbmcgdGhlIFNXLUNNTSBpbiBhIFNtYWxsIElUIE9yZ2FuaXphdGlvbiIsCiAgICBkaXNwbGF5PSJndWVycmVybyIsCiAgICBhdXRob3JzPSJHdWVycmVybywgRmVsaXBlIGFuZCBFdGVyb3ZpYywgWWFkcmFuIiwKICAgIHBsYWNlPUlFRUVTLAogICAgcHA9IjI5LS0zNSIsCiAgICBlbnRyeXR5cGU9ImFydGljbGUiLAogICAgdm9sdW1lPSIyMSIsCiAgICBudW1iZXI9IjQiLAogICAgcHVibGlzaGVyPSJJRUVFIiwKICAgIElEPSJndWVycmVybzIwMDRhZG9wdGluZyIsCiAgICBjbHVzdGVyX2lkPSIxMTY0MDQ2OTE4NzQxNzM1NzQ3NCIsCiAgICBzY2hvbGFyPSJodHRwOi8vc2Nob2xhci5nb29nbGUuY29tL3NjaG9sYXI/Y2l0ZXM9MTE2NDA0NjkxODc0MTczNTc0NzQmYXNfc2R0PTIwMDUmc2Npb2R0PTAsNSZobD1lbiIsCiAgICBwbGFjZXg9IklFRUUgc29mdHdhcmUiLAopKQoKREIoQ2l0YXRpb24oCiAgICBndWVycmVybzIwMDRhLCBrYXV0ejIwMDBhLCByZWY9IiIsCiAgICBjb250ZXh0cz1bCgogICAgXSwKKSkKCicnJywgY2l0YXRpb25zPSdrYXV0ejIwMDBhJyk7\"));\n",
       "    "
      ],
      "text/plain": [
       "<IPython.core.display.Javascript object>"
      ]
     },
     "metadata": {},
     "output_type": "display_data"
    },
    {
     "data": {
      "application/javascript": [
       "$('span:contains(\"# Temp\")').closest('.cell').remove();"
      ],
      "text/plain": [
       "<IPython.core.display.Javascript object>"
      ]
     },
     "metadata": {},
     "output_type": "display_data"
    },
    {
     "data": {
      "application/javascript": [
       "\n",
       "        $('span:contains(\"# Temp\")').closest('.cell').remove();\n",
       "        var code = IPython.notebook.insert_cell_below('code');\n",
       "        code.set_text(atob(\"IyBUZW1wCmluc2VydCgnJycKZ3VlcnJlcm8yMDA0YSA9IERCKFdvcmtVbnJlbGF0ZWQoCiAgICAyMDA0LCAiQWRvcHRpbmcgdGhlIFNXLUNNTSBpbiBhIFNtYWxsIElUIE9yZ2FuaXphdGlvbiIsCiAgICBkaXNwbGF5PSJndWVycmVybyIsCiAgICBhdXRob3JzPSJHdWVycmVybywgRmVsaXBlIGFuZCBFdGVyb3ZpYywgWWFkcmFuIiwKICAgIHBsYWNlPUlFRUVTLAogICAgcHA9IjI5LS0zNSIsCiAgICBlbnRyeXR5cGU9ImFydGljbGUiLAogICAgdm9sdW1lPSIyMSIsCiAgICBudW1iZXI9IjQiLAogICAgcHVibGlzaGVyPSJJRUVFIiwKICAgIElEPSJndWVycmVybzIwMDRhZG9wdGluZyIsCiAgICBjbHVzdGVyX2lkPSIxMTY0MDQ2OTE4NzQxNzM1NzQ3NCIsCiAgICBzY2hvbGFyPSJodHRwOi8vc2Nob2xhci5nb29nbGUuY29tL3NjaG9sYXI/Y2l0ZXM9MTE2NDA0NjkxODc0MTczNTc0NzQmYXNfc2R0PTIwMDUmc2Npb2R0PTAsNSZobD1lbiIsCiAgICBwbGFjZXg9IklFRUUgc29mdHdhcmUiLAopKQoKREIoQ2l0YXRpb24oCiAgICBndWVycmVybzIwMDRhLCBrYXV0ejIwMDBhLCByZWY9IiIsCiAgICBjb250ZXh0cz1bCgogICAgXSwKKSkKCicnJywgY2l0YXRpb25zPSdrYXV0ejIwMDBhJyk7\"));\n",
       "    "
      ],
      "text/plain": [
       "<IPython.core.display.Javascript object>"
      ]
     },
     "metadata": {},
     "output_type": "display_data"
    },
    {
     "data": {
      "application/javascript": [
       "$('span:contains(\"# Temp\")').closest('.cell').remove();"
      ],
      "text/plain": [
       "<IPython.core.display.Javascript object>"
      ]
     },
     "metadata": {},
     "output_type": "display_data"
    },
    {
     "data": {
      "application/javascript": [
       "\n",
       "        $('span:contains(\"# Temp\")').closest('.cell').remove();\n",
       "        var code = IPython.notebook.insert_cell_below('code');\n",
       "        code.set_text(atob(\"IyBUZW1wCmluc2VydCgnJycKREIoQ2l0YXRpb24oCiAgICBrYXVwcGluZW4yMDA0YSwga2F1dHoyMDAwYSwgcmVmPSIiLAogICAgY29udGV4dHM9WwoKICAgIF0sCikpCgonJycsIGNpdGF0aW9ucz0na2F1dHoyMDAwYScpOwpzZXRfYXR0cmlidXRlKCdrYXVwcGluZW4yMDA0YScsICdwdWJsaXNoZXInLCAnRWxzZXZpZXInKTsKc2V0X2F0dHJpYnV0ZSgna2F1cHBpbmVuMjAwNGEnLCAnZXhjZXJwdCcsICdBYnN0cmFjdCBUaGlzIHBhcGVyIGFpbXMgYXQgaWRlbnRpZnlpbmcgY3JpdGljYWwgZmFjdG9ycyBhZmZlY3Rpbmcgb3JnYW5pemF0aW9uLXdpZGUgaW1wbGVtZW50YXRpb24gb2YgcmVxdWlyZW1lbnRzIGVuZ2luZWVyaW5nIChSRSkgcHJvY2Vzc2VzLiBUaGUgcGFwZXIgaXMgYmFzZWQgb24gYSBicm9hZCBsaXRlcmF0dXJlIHJldmlldyBhbmQgdGhyZWUgbG9uZ2l0dWRpbmFsIGNhc2Ugc3R1ZGllcyB0aGF0IHdlcmUgY2FycmllZCBvdXQgdXNpbmcgYW4gJyk7CnNldF9hdHRyaWJ1dGUoJ2thdXBwaW5lbjIwMDRhJywgJ2NsdXN0ZXJfaWQnLCAnNTc4NDkyNjAxOTcwNTgyNDU2NScpOwpzZXRfYXR0cmlidXRlKCdrYXVwcGluZW4yMDA0YScsICdzY2hvbGFyJywgJ2h0dHA6Ly9zY2hvbGFyLmdvb2dsZS5jb20vc2Nob2xhcj9jaXRlcz01Nzg0OTI2MDE5NzA1ODI0NTY1JmFzX3NkdD0yMDA1JnNjaW9kdD0wLDUmaGw9ZW4nKTs=\"));\n",
       "    "
      ],
      "text/plain": [
       "<IPython.core.display.Javascript object>"
      ]
     },
     "metadata": {},
     "output_type": "display_data"
    },
    {
     "data": {
      "application/javascript": [
       "$('span:contains(\"# Temp\")').closest('.cell').remove();"
      ],
      "text/plain": [
       "<IPython.core.display.Javascript object>"
      ]
     },
     "metadata": {},
     "output_type": "display_data"
    },
    {
     "data": {
      "application/javascript": [
       "\n",
       "        $('span:contains(\"# Temp\")').closest('.cell').remove();\n",
       "        var code = IPython.notebook.insert_cell_below('code');\n",
       "        code.set_text(atob(\"IyBUZW1wCmluc2VydCgnJycKREIoQ2l0YXRpb24oCiAgICBrYXVwcGluZW4yMDA0YSwga2F1dHoyMDAwYSwgcmVmPSIiLAogICAgY29udGV4dHM9WwoKICAgIF0sCikpCgonJycsIGNpdGF0aW9ucz0na2F1dHoyMDAwYScpOwpzZXRfYXR0cmlidXRlKCdrYXVwcGluZW4yMDA0YScsICdwdWJsaXNoZXInLCAnRWxzZXZpZXInKTsKc2V0X2F0dHJpYnV0ZSgna2F1cHBpbmVuMjAwNGEnLCAnZXhjZXJwdCcsICdBYnN0cmFjdCBUaGlzIHBhcGVyIGFpbXMgYXQgaWRlbnRpZnlpbmcgY3JpdGljYWwgZmFjdG9ycyBhZmZlY3Rpbmcgb3JnYW5pemF0aW9uLXdpZGUgaW1wbGVtZW50YXRpb24gb2YgcmVxdWlyZW1lbnRzIGVuZ2luZWVyaW5nIChSRSkgcHJvY2Vzc2VzLiBUaGUgcGFwZXIgaXMgYmFzZWQgb24gYSBicm9hZCBsaXRlcmF0dXJlIHJldmlldyBhbmQgdGhyZWUgbG9uZ2l0dWRpbmFsIGNhc2Ugc3R1ZGllcyB0aGF0IHdlcmUgY2FycmllZCBvdXQgdXNpbmcgYW4gJyk7CnNldF9hdHRyaWJ1dGUoJ2thdXBwaW5lbjIwMDRhJywgJ2NsdXN0ZXJfaWQnLCAnNTc4NDkyNjAxOTcwNTgyNDU2NScpOwpzZXRfYXR0cmlidXRlKCdrYXVwcGluZW4yMDA0YScsICdzY2hvbGFyJywgJ2h0dHA6Ly9zY2hvbGFyLmdvb2dsZS5jb20vc2Nob2xhcj9jaXRlcz01Nzg0OTI2MDE5NzA1ODI0NTY1JmFzX3NkdD0yMDA1JnNjaW9kdD0wLDUmaGw9ZW4nKTs=\"));\n",
       "    "
      ],
      "text/plain": [
       "<IPython.core.display.Javascript object>"
      ]
     },
     "metadata": {},
     "output_type": "display_data"
    },
    {
     "data": {
      "application/javascript": [
       "$('span:contains(\"# Temp\")').closest('.cell').remove();"
      ],
      "text/plain": [
       "<IPython.core.display.Javascript object>"
      ]
     },
     "metadata": {},
     "output_type": "display_data"
    },
    {
     "data": {
      "application/javascript": [
       "\n",
       "        $('span:contains(\"# Temp\")').closest('.cell').remove();\n",
       "        var code = IPython.notebook.insert_cell_below('code');\n",
       "        code.set_text(atob(\"IyBUZW1wCmluc2VydCgnJycKREIoQ2l0YXRpb24oCiAgICBt/GxsZXIyMDEwYSwga2F1dHoyMDAwYSwgcmVmPSIiLAogICAgY29udGV4dHM9WwoKICAgIF0sCikpCgonJycsIGNpdGF0aW9ucz0na2F1dHoyMDAwYScpOwpzZXRfYXR0cmlidXRlKCdt/GxsZXIyMDEwYScsICdwdWJsaXNoZXInLCAnRWxzZXZpZXInKTsKc2V0X2F0dHJpYnV0ZSgnbfxsbGVyMjAxMGEnLCAnZXhjZXJwdCcsICdBYnN0cmFjdCBTb2Z0d2FyZSBQcm9jZXNzIEltcHJvdmVtZW50IChTUEkpIHR5cGljYWxseSBpbnZvbHZlcyByYXRoZXIgY29tcGxleCBvcmdhbml6YXRpb25hbCBjaGFuZ2VzLiBBY2tub3dsZWRnaW5nIHRoYXQgbWFuYWdlcnMgY2FuIGFwcHJvYWNoIHRoZXNlIGNoYW5nZXMgaW4gcXVpdGUgZGlmZmVyZW50IHdheXMsIHRoaXMgcGFwZXIgYWRkcmVzc2VzIHRoZSBmb2xsb3dpbmcgcXVlc3Rpb246IHdoYXQgcGVyc3BlY3RpdmVzIGRvIHRoZSAnKTsKc2V0X2F0dHJpYnV0ZSgnbfxsbGVyMjAxMGEnLCAnY2x1c3Rlcl9pZCcsICcxNzUwMzQ1MzI0NzQzNzExMzk3OScpOwpzZXRfYXR0cmlidXRlKCdt/GxsZXIyMDEwYScsICdzY2hvbGFyJywgJ2h0dHA6Ly9zY2hvbGFyLmdvb2dsZS5jb20vc2Nob2xhcj9jaXRlcz0xNzUwMzQ1MzI0NzQzNzExMzk3OSZhc19zZHQ9MjAwNSZzY2lvZHQ9MCw1JmhsPWVuJyk7\"));\n",
       "    "
      ],
      "text/plain": [
       "<IPython.core.display.Javascript object>"
      ]
     },
     "metadata": {},
     "output_type": "display_data"
    },
    {
     "data": {
      "application/javascript": [
       "$('span:contains(\"# Temp\")').closest('.cell').remove();"
      ],
      "text/plain": [
       "<IPython.core.display.Javascript object>"
      ]
     },
     "metadata": {},
     "output_type": "display_data"
    },
    {
     "data": {
      "application/javascript": [
       "\n",
       "        $('span:contains(\"# Temp\")').closest('.cell').remove();\n",
       "        var code = IPython.notebook.insert_cell_below('code');\n",
       "        code.set_text(atob(\"IyBUZW1wCmluc2VydCgnJycKREIoQ2l0YXRpb24oCiAgICBt/GxsZXIyMDEwYSwga2F1dHoyMDAwYSwgcmVmPSIiLAogICAgY29udGV4dHM9WwoKICAgIF0sCikpCgonJycsIGNpdGF0aW9ucz0na2F1dHoyMDAwYScpOwpzZXRfYXR0cmlidXRlKCdt/GxsZXIyMDEwYScsICdwdWJsaXNoZXInLCAnRWxzZXZpZXInKTsKc2V0X2F0dHJpYnV0ZSgnbfxsbGVyMjAxMGEnLCAnZXhjZXJwdCcsICdBYnN0cmFjdCBTb2Z0d2FyZSBQcm9jZXNzIEltcHJvdmVtZW50IChTUEkpIHR5cGljYWxseSBpbnZvbHZlcyByYXRoZXIgY29tcGxleCBvcmdhbml6YXRpb25hbCBjaGFuZ2VzLiBBY2tub3dsZWRnaW5nIHRoYXQgbWFuYWdlcnMgY2FuIGFwcHJvYWNoIHRoZXNlIGNoYW5nZXMgaW4gcXVpdGUgZGlmZmVyZW50IHdheXMsIHRoaXMgcGFwZXIgYWRkcmVzc2VzIHRoZSBmb2xsb3dpbmcgcXVlc3Rpb246IHdoYXQgcGVyc3BlY3RpdmVzIGRvIHRoZSAnKTsKc2V0X2F0dHJpYnV0ZSgnbfxsbGVyMjAxMGEnLCAnY2x1c3Rlcl9pZCcsICcxNzUwMzQ1MzI0NzQzNzExMzk3OScpOwpzZXRfYXR0cmlidXRlKCdt/GxsZXIyMDEwYScsICdzY2hvbGFyJywgJ2h0dHA6Ly9zY2hvbGFyLmdvb2dsZS5jb20vc2Nob2xhcj9jaXRlcz0xNzUwMzQ1MzI0NzQzNzExMzk3OSZhc19zZHQ9MjAwNSZzY2lvZHQ9MCw1JmhsPWVuJyk7\"));\n",
       "    "
      ],
      "text/plain": [
       "<IPython.core.display.Javascript object>"
      ]
     },
     "metadata": {},
     "output_type": "display_data"
    },
    {
     "data": {
      "application/javascript": [
       "$('span:contains(\"# Temp\")').closest('.cell').remove();"
      ],
      "text/plain": [
       "<IPython.core.display.Javascript object>"
      ]
     },
     "metadata": {},
     "output_type": "display_data"
    },
    {
     "data": {
      "application/javascript": [
       "\n",
       "        $('span:contains(\"# Temp\")').closest('.cell').remove();\n",
       "        var code = IPython.notebook.insert_cell_below('code');\n",
       "        code.set_text(atob(\"IyBUZW1wCmluc2VydCgnJycKY2FydGVyMjAwMWEgPSBEQihXb3JrVW5yZWxhdGVkKAogICAgMjAwMSwgIkV2b2x2aW5nIGJleW9uZCByZXF1aXJlbWVudHMgY3JlZXA6IGEgcmlzay1iYXNlZCBldm9sdXRpb25hcnkgcHJvdG90eXBpbmcgbW9kZWwiLAogICAgZGlzcGxheT0iY2FydGVyIiwKICAgIGF1dGhvcnM9IkNhcnRlciwgUnlhbiBBIGFuZCBBbnTzbiwgQW5uaWUgSSBhbmQgRGFnbmlubywgQWxkbyBhbmQgV2lsbGlhbXMsIExhdXJpZSIsCiAgICBwbGFjZT1GQUtFLAogICAgcHA9Ijk0LS0xMDEiLAogICAgZW50cnl0eXBlPSJpbnByb2NlZWRpbmdzIiwKICAgIG9yZ2FuaXphdGlvbj0iSUVFRSIsCiAgICBJRD0iY2FydGVyMjAwMWV2b2x2aW5nIiwKICAgIGNsdXN0ZXJfaWQ9IjE1MDk5NTk2MTM3NTA0MjM0MDg5IiwKICAgIHNjaG9sYXI9Imh0dHA6Ly9zY2hvbGFyLmdvb2dsZS5jb20vc2Nob2xhcj9jaXRlcz0xNTA5OTU5NjEzNzUwNDIzNDA4OSZhc19zZHQ9MjAwNSZzY2lvZHQ9MCw1JmhsPWVuIiwKICAgIHBsYWNleD0iUmVxdWlyZW1lbnRzIEVuZ2luZWVyaW5nLCAyMDAxLiBQcm9jZWVkaW5ncy4gRmlmdGggSUVFRSBJbnRlcm5hdGlvbmFsIFN5bXBvc2l1bSBvbiIsCikpCgpEQihDaXRhdGlvbigKICAgIGNhcnRlcjIwMDFhLCBrYXV0ejIwMDBhLCByZWY9IiIsCiAgICBjb250ZXh0cz1bCgogICAgXSwKKSkKCicnJywgY2l0YXRpb25zPSdrYXV0ejIwMDBhJyk7\"));\n",
       "    "
      ],
      "text/plain": [
       "<IPython.core.display.Javascript object>"
      ]
     },
     "metadata": {},
     "output_type": "display_data"
    },
    {
     "data": {
      "application/javascript": [
       "$('span:contains(\"# Temp\")').closest('.cell').remove();"
      ],
      "text/plain": [
       "<IPython.core.display.Javascript object>"
      ]
     },
     "metadata": {},
     "output_type": "display_data"
    },
    {
     "data": {
      "application/javascript": [
       "\n",
       "        $('span:contains(\"# Temp\")').closest('.cell').remove();\n",
       "        var code = IPython.notebook.insert_cell_below('code');\n",
       "        code.set_text(atob(\"IyBUZW1wCmluc2VydCgnJycKY2FydGVyMjAwMWEgPSBEQihXb3JrVW5yZWxhdGVkKAogICAgMjAwMSwgIkV2b2x2aW5nIGJleW9uZCByZXF1aXJlbWVudHMgY3JlZXA6IGEgcmlzay1iYXNlZCBldm9sdXRpb25hcnkgcHJvdG90eXBpbmcgbW9kZWwiLAogICAgZGlzcGxheT0iY2FydGVyIiwKICAgIGF1dGhvcnM9IkNhcnRlciwgUnlhbiBBIGFuZCBBbnTzbiwgQW5uaWUgSSBhbmQgRGFnbmlubywgQWxkbyBhbmQgV2lsbGlhbXMsIExhdXJpZSIsCiAgICBwbGFjZT1GQUtFLAogICAgcHA9Ijk0LS0xMDEiLAogICAgZW50cnl0eXBlPSJpbnByb2NlZWRpbmdzIiwKICAgIG9yZ2FuaXphdGlvbj0iSUVFRSIsCiAgICBJRD0iY2FydGVyMjAwMWV2b2x2aW5nIiwKICAgIGNsdXN0ZXJfaWQ9IjE1MDk5NTk2MTM3NTA0MjM0MDg5IiwKICAgIHNjaG9sYXI9Imh0dHA6Ly9zY2hvbGFyLmdvb2dsZS5jb20vc2Nob2xhcj9jaXRlcz0xNTA5OTU5NjEzNzUwNDIzNDA4OSZhc19zZHQ9MjAwNSZzY2lvZHQ9MCw1JmhsPWVuIiwKICAgIHBsYWNleD0iUmVxdWlyZW1lbnRzIEVuZ2luZWVyaW5nLCAyMDAxLiBQcm9jZWVkaW5ncy4gRmlmdGggSUVFRSBJbnRlcm5hdGlvbmFsIFN5bXBvc2l1bSBvbiIsCikpCgpEQihDaXRhdGlvbigKICAgIGNhcnRlcjIwMDFhLCBrYXV0ejIwMDBhLCByZWY9IiIsCiAgICBjb250ZXh0cz1bCgogICAgXSwKKSkKCicnJywgY2l0YXRpb25zPSdrYXV0ejIwMDBhJyk7\"));\n",
       "    "
      ],
      "text/plain": [
       "<IPython.core.display.Javascript object>"
      ]
     },
     "metadata": {},
     "output_type": "display_data"
    },
    {
     "data": {
      "application/javascript": [
       "$('span:contains(\"# Temp\")').closest('.cell').remove();"
      ],
      "text/plain": [
       "<IPython.core.display.Javascript object>"
      ]
     },
     "metadata": {},
     "output_type": "display_data"
    },
    {
     "data": {
      "application/javascript": [
       "\n",
       "        $('span:contains(\"# Temp\")').closest('.cell').remove();\n",
       "        var code = IPython.notebook.insert_cell_below('code');\n",
       "        code.set_text(atob(\"IyBUZW1wCmluc2VydCgnJycKcGlubzIwMTBiID0gREIoV29ya1VucmVsYXRlZCgKICAgIDIwMTAsICJVc2luZyBTY3J1bSB0byBndWlkZSB0aGUgZXhlY3V0aW9uIG9mIHNvZnR3YXJlIHByb2Nlc3MgaW1wcm92ZW1lbnQgaW4gc21hbGwgb3JnYW5pemF0aW9ucyIsCiAgICBkaXNwbGF5PSJwaW5vIGIiLAogICAgYXV0aG9ycz0iUGlubywgRnJhbmNpc2NvIEogYW5kIFBlZHJlaXJhLCBPc2NhciBhbmQgR2FyY+1hLCBG6WxpeCBhbmQgTHVhY2VzLCBNaWd1ZWwgUm9kcu1ndWV6IGFuZCBQaWF0dGluaSwgTWFyaW8iLAogICAgcGxhY2U9SlNTLAogICAgcHA9IjE2NjItLTE2NzciLAogICAgZW50cnl0eXBlPSJhcnRpY2xlIiwKICAgIHZvbHVtZT0iODMiLAogICAgbnVtYmVyPSIxMCIsCiAgICBwdWJsaXNoZXI9IkVsc2V2aWVyIiwKICAgIElEPSJwaW5vMjAxMHVzaW5nIiwKICAgIGNsdXN0ZXJfaWQ9IjE0MjgwMzU5NzYxNzMxNDI4NTEiLAogICAgc2Nob2xhcj0iaHR0cDovL3NjaG9sYXIuZ29vZ2xlLmNvbS9zY2hvbGFyP2NpdGVzPTE0MjgwMzU5NzYxNzMxNDI4NTEmYXNfc2R0PTIwMDUmc2Npb2R0PTAsNSZobD1lbiIsCiAgICBwbGFjZXg9IkpvdXJuYWwgb2Ygc3lzdGVtcyBhbmQgc29mdHdhcmUiLAopKQoKREIoQ2l0YXRpb24oCiAgICBwaW5vMjAxMGIsIGthdXR6MjAwMGEsIHJlZj0iIiwKICAgIGNvbnRleHRzPVsKCiAgICBdLAopKQoKJycnLCBjaXRhdGlvbnM9J2thdXR6MjAwMGEnKTs=\"));\n",
       "    "
      ],
      "text/plain": [
       "<IPython.core.display.Javascript object>"
      ]
     },
     "metadata": {},
     "output_type": "display_data"
    },
    {
     "data": {
      "application/javascript": [
       "$('span:contains(\"# Temp\")').closest('.cell').remove();"
      ],
      "text/plain": [
       "<IPython.core.display.Javascript object>"
      ]
     },
     "metadata": {},
     "output_type": "display_data"
    },
    {
     "data": {
      "application/javascript": [
       "\n",
       "        $('span:contains(\"# Temp\")').closest('.cell').remove();\n",
       "        var code = IPython.notebook.insert_cell_below('code');\n",
       "        code.set_text(atob(\"IyBUZW1wCmluc2VydCgnJycKcGlubzIwMTBiID0gREIoV29ya1VucmVsYXRlZCgKICAgIDIwMTAsICJVc2luZyBTY3J1bSB0byBndWlkZSB0aGUgZXhlY3V0aW9uIG9mIHNvZnR3YXJlIHByb2Nlc3MgaW1wcm92ZW1lbnQgaW4gc21hbGwgb3JnYW5pemF0aW9ucyIsCiAgICBkaXNwbGF5PSJwaW5vIGIiLAogICAgYXV0aG9ycz0iUGlubywgRnJhbmNpc2NvIEogYW5kIFBlZHJlaXJhLCBPc2NhciBhbmQgR2FyY+1hLCBG6WxpeCBhbmQgTHVhY2VzLCBNaWd1ZWwgUm9kcu1ndWV6IGFuZCBQaWF0dGluaSwgTWFyaW8iLAogICAgcGxhY2U9SlNTLAogICAgcHA9IjE2NjItLTE2NzciLAogICAgZW50cnl0eXBlPSJhcnRpY2xlIiwKICAgIHZvbHVtZT0iODMiLAogICAgbnVtYmVyPSIxMCIsCiAgICBwdWJsaXNoZXI9IkVsc2V2aWVyIiwKICAgIElEPSJwaW5vMjAxMHVzaW5nIiwKICAgIGNsdXN0ZXJfaWQ9IjE0MjgwMzU5NzYxNzMxNDI4NTEiLAogICAgc2Nob2xhcj0iaHR0cDovL3NjaG9sYXIuZ29vZ2xlLmNvbS9zY2hvbGFyP2NpdGVzPTE0MjgwMzU5NzYxNzMxNDI4NTEmYXNfc2R0PTIwMDUmc2Npb2R0PTAsNSZobD1lbiIsCiAgICBwbGFjZXg9IkpvdXJuYWwgb2Ygc3lzdGVtcyBhbmQgc29mdHdhcmUiLAopKQoKREIoQ2l0YXRpb24oCiAgICBwaW5vMjAxMGIsIGthdXR6MjAwMGEsIHJlZj0iIiwKICAgIGNvbnRleHRzPVsKCiAgICBdLAopKQoKJycnLCBjaXRhdGlvbnM9J2thdXR6MjAwMGEnKTs=\"));\n",
       "    "
      ],
      "text/plain": [
       "<IPython.core.display.Javascript object>"
      ]
     },
     "metadata": {},
     "output_type": "display_data"
    },
    {
     "data": {
      "application/javascript": [
       "$('span:contains(\"# Temp\")').closest('.cell').remove();"
      ],
      "text/plain": [
       "<IPython.core.display.Javascript object>"
      ]
     },
     "metadata": {},
     "output_type": "display_data"
    },
    {
     "data": {
      "application/javascript": [
       "\n",
       "        $('span:contains(\"# Temp\")').closest('.cell').remove();\n",
       "        var code = IPython.notebook.insert_cell_below('code');\n",
       "        code.set_text(atob(\"IyBUZW1wCmluc2VydCgnJycKZ29yc2NoZWsyMDA2YiA9IERCKFdvcmtVbnJlbGF0ZWQoCiAgICAyMDA2LCAiUmVxdWlyZW1lbnRzIGVuZ2luZWVyaW5nIHN1cHBvcnRpbmcgdGVjaG5pY2FsIHByb2R1Y3QgbWFuYWdlbWVudCIsCiAgICBkaXNwbGF5PSJnb3JzY2hlayBiIiwKICAgIGF1dGhvcnM9IkdvcnNjaGVrLCBUb255IiwKICAgIHBsYWNlPVRoZXNpcywKICAgIGVudHJ5dHlwZT0icGhkdGhlc2lzIiwKICAgIElEPSJnb3JzY2hlazIwMDZyZXF1aXJlbWVudHMiLAogICAgY2x1c3Rlcl9pZD0iMTE2NzczNjI4OTA2MjU2NzI0NTUiLAogICAgc2Nob2xhcj0iaHR0cDovL3NjaG9sYXIuZ29vZ2xlLmNvbS9zY2hvbGFyP2NpdGVzPTExNjc3MzYyODkwNjI1NjcyNDU1JmFzX3NkdD0yMDA1JnNjaW9kdD0wLDUmaGw9ZW4iLAogICAgbG9jYWw9IkJsZWtpbmdlIEluc3RpdHV0ZSBvZiBUZWNobm9sb2d5IiwKICAgIHBsYWNleD0iIiwKKSkKCkRCKENpdGF0aW9uKAogICAgZ29yc2NoZWsyMDA2Yiwga2F1dHoyMDAwYSwgcmVmPSIiLAogICAgY29udGV4dHM9WwoKICAgIF0sCikpCgonJycsIGNpdGF0aW9ucz0na2F1dHoyMDAwYScpOw==\"));\n",
       "    "
      ],
      "text/plain": [
       "<IPython.core.display.Javascript object>"
      ]
     },
     "metadata": {},
     "output_type": "display_data"
    },
    {
     "data": {
      "application/javascript": [
       "$('span:contains(\"# Temp\")').closest('.cell').remove();"
      ],
      "text/plain": [
       "<IPython.core.display.Javascript object>"
      ]
     },
     "metadata": {},
     "output_type": "display_data"
    },
    {
     "data": {
      "application/javascript": [
       "\n",
       "        $('span:contains(\"# Temp\")').closest('.cell').remove();\n",
       "        var code = IPython.notebook.insert_cell_below('code');\n",
       "        code.set_text(atob(\"IyBUZW1wCmluc2VydCgnJycKZ29yc2NoZWsyMDA2YiA9IERCKFdvcmtVbnJlbGF0ZWQoCiAgICAyMDA2LCAiUmVxdWlyZW1lbnRzIGVuZ2luZWVyaW5nIHN1cHBvcnRpbmcgdGVjaG5pY2FsIHByb2R1Y3QgbWFuYWdlbWVudCIsCiAgICBkaXNwbGF5PSJnb3JzY2hlayBiIiwKICAgIGF1dGhvcnM9IkdvcnNjaGVrLCBUb255IiwKICAgIHBsYWNlPVRoZXNpcywKICAgIGVudHJ5dHlwZT0icGhkdGhlc2lzIiwKICAgIElEPSJnb3JzY2hlazIwMDZyZXF1aXJlbWVudHMiLAogICAgY2x1c3Rlcl9pZD0iMTE2NzczNjI4OTA2MjU2NzI0NTUiLAogICAgc2Nob2xhcj0iaHR0cDovL3NjaG9sYXIuZ29vZ2xlLmNvbS9zY2hvbGFyP2NpdGVzPTExNjc3MzYyODkwNjI1NjcyNDU1JmFzX3NkdD0yMDA1JnNjaW9kdD0wLDUmaGw9ZW4iLAogICAgbG9jYWw9IkJsZWtpbmdlIEluc3RpdHV0ZSBvZiBUZWNobm9sb2d5IiwKICAgIHBsYWNleD0iIiwKKSkKCkRCKENpdGF0aW9uKAogICAgZ29yc2NoZWsyMDA2Yiwga2F1dHoyMDAwYSwgcmVmPSIiLAogICAgY29udGV4dHM9WwoKICAgIF0sCikpCgonJycsIGNpdGF0aW9ucz0na2F1dHoyMDAwYScpOw==\"));\n",
       "    "
      ],
      "text/plain": [
       "<IPython.core.display.Javascript object>"
      ]
     },
     "metadata": {},
     "output_type": "display_data"
    },
    {
     "data": {
      "application/javascript": [
       "$('span:contains(\"# Temp\")').closest('.cell').remove();"
      ],
      "text/plain": [
       "<IPython.core.display.Javascript object>"
      ]
     },
     "metadata": {},
     "output_type": "display_data"
    },
    {
     "data": {
      "application/javascript": [
       "\n",
       "        $('span:contains(\"# Temp\")').closest('.cell').remove();\n",
       "        var code = IPython.notebook.insert_cell_below('code');\n",
       "        code.set_text(atob(\"IyBUZW1wCmluc2VydCgnJycKbWlzaHJhMjAwOWEgPSBEQihXb3JrVW5yZWxhdGVkKAogICAgMjAwOSwgIlNvZnR3YXJlIHByb2Nlc3MgaW1wcm92ZW1lbnQgaW4gU01FczogQSBjb21wYXJhdGl2ZSB2aWV3IiwKICAgIGRpc3BsYXk9Im1pc2hyYSIsCiAgICBhdXRob3JzPSJNaXNocmEsIERlZXB0aSBhbmQgTWlzaHJhLCBBbG9rIiwKICAgIHBsYWNlPUZBS0UsCiAgICBwcD0iMTExLS0xNDAiLAogICAgZW50cnl0eXBlPSJhcnRpY2xlIiwKICAgIHZvbHVtZT0iNiIsCiAgICBudW1iZXI9IjEiLAogICAgSUQ9Im1pc2hyYTIwMDlzb2Z0d2FyZSIsCiAgICBjbHVzdGVyX2lkPSI3NDE0Njg0NTk2MjA0MzgzNjY3IiwKICAgIHNjaG9sYXI9Imh0dHA6Ly9zY2hvbGFyLmdvb2dsZS5jb20vc2Nob2xhcj9jaXRlcz03NDE0Njg0NTk2MjA0MzgzNjY3JmFzX3NkdD0yMDA1JnNjaW9kdD0wLDUmaGw9ZW4iLAogICAgcGxhY2V4PSJDb21wdXRlciBTY2llbmNlIGFuZCBJbmZvcm1hdGlvbiBTeXN0ZW1zIiwKKSkKCkRCKENpdGF0aW9uKAogICAgbWlzaHJhMjAwOWEsIGthdXR6MjAwMGEsIHJlZj0iIiwKICAgIGNvbnRleHRzPVsKCiAgICBdLAopKQoKJycnLCBjaXRhdGlvbnM9J2thdXR6MjAwMGEnKTs=\"));\n",
       "    "
      ],
      "text/plain": [
       "<IPython.core.display.Javascript object>"
      ]
     },
     "metadata": {},
     "output_type": "display_data"
    },
    {
     "data": {
      "application/javascript": [
       "$('span:contains(\"# Temp\")').closest('.cell').remove();"
      ],
      "text/plain": [
       "<IPython.core.display.Javascript object>"
      ]
     },
     "metadata": {},
     "output_type": "display_data"
    },
    {
     "data": {
      "application/javascript": [
       "\n",
       "        $('span:contains(\"# Temp\")').closest('.cell').remove();\n",
       "        var code = IPython.notebook.insert_cell_below('code');\n",
       "        code.set_text(atob(\"IyBUZW1wCmluc2VydCgnJycKbWlzaHJhMjAwOWEgPSBEQihXb3JrVW5yZWxhdGVkKAogICAgMjAwOSwgIlNvZnR3YXJlIHByb2Nlc3MgaW1wcm92ZW1lbnQgaW4gU01FczogQSBjb21wYXJhdGl2ZSB2aWV3IiwKICAgIGRpc3BsYXk9Im1pc2hyYSIsCiAgICBhdXRob3JzPSJNaXNocmEsIERlZXB0aSBhbmQgTWlzaHJhLCBBbG9rIiwKICAgIHBsYWNlPUZBS0UsCiAgICBwcD0iMTExLS0xNDAiLAogICAgZW50cnl0eXBlPSJhcnRpY2xlIiwKICAgIHZvbHVtZT0iNiIsCiAgICBudW1iZXI9IjEiLAogICAgSUQ9Im1pc2hyYTIwMDlzb2Z0d2FyZSIsCiAgICBjbHVzdGVyX2lkPSI3NDE0Njg0NTk2MjA0MzgzNjY3IiwKICAgIHNjaG9sYXI9Imh0dHA6Ly9zY2hvbGFyLmdvb2dsZS5jb20vc2Nob2xhcj9jaXRlcz03NDE0Njg0NTk2MjA0MzgzNjY3JmFzX3NkdD0yMDA1JnNjaW9kdD0wLDUmaGw9ZW4iLAogICAgcGxhY2V4PSJDb21wdXRlciBTY2llbmNlIGFuZCBJbmZvcm1hdGlvbiBTeXN0ZW1zIiwKKSkKCkRCKENpdGF0aW9uKAogICAgbWlzaHJhMjAwOWEsIGthdXR6MjAwMGEsIHJlZj0iIiwKICAgIGNvbnRleHRzPVsKCiAgICBdLAopKQoKJycnLCBjaXRhdGlvbnM9J2thdXR6MjAwMGEnKTs=\"));\n",
       "    "
      ],
      "text/plain": [
       "<IPython.core.display.Javascript object>"
      ]
     },
     "metadata": {},
     "output_type": "display_data"
    },
    {
     "data": {
      "application/javascript": [
       "$('span:contains(\"# Temp\")').closest('.cell').remove();"
      ],
      "text/plain": [
       "<IPython.core.display.Javascript object>"
      ]
     },
     "metadata": {},
     "output_type": "display_data"
    },
    {
     "data": {
      "application/javascript": [
       "\n",
       "        $('span:contains(\"# Temp\")').closest('.cell').remove();\n",
       "        var code = IPython.notebook.insert_cell_below('code');\n",
       "        code.set_text(atob(\"IyBUZW1wCmluc2VydCgnJycKZ29yc2NoZWsyMDA0YSA9IERCKFdvcmtVbnJlbGF0ZWQoCiAgICAyMDA0LCAiUGFja2FnaW5nIHNvZnR3YXJlIHByb2Nlc3MgaW1wcm92ZW1lbnQgaXNzdWVzOiBhIG1ldGhvZCBhbmQgYSBjYXNlIHN0dWR5IiwKICAgIGRpc3BsYXk9ImdvcnNjaGVrIiwKICAgIGF1dGhvcnM9IkdvcnNjaGVrLCBUb255IGFuZCBXb2hsaW4sIENsYWVzIiwKICAgIHBsYWNlPUZBS0UsCiAgICBwcD0iMTMxMS0tMTM0NCIsCiAgICBlbnRyeXR5cGU9ImFydGljbGUiLAogICAgdm9sdW1lPSIzNCIsCiAgICBudW1iZXI9IjE0IiwKICAgIHB1Ymxpc2hlcj0iV2lsZXkgT25saW5lIExpYnJhcnkiLAogICAgSUQ9ImdvcnNjaGVrMjAwNHBhY2thZ2luZyIsCiAgICBjbHVzdGVyX2lkPSIxMzQzNDY3MTE1NDM3NTU0MzU3MiIsCiAgICBzY2hvbGFyPSJodHRwOi8vc2Nob2xhci5nb29nbGUuY29tL3NjaG9sYXI/Y2l0ZXM9MTM0MzQ2NzExNTQzNzU1NDM1NzImYXNfc2R0PTIwMDUmc2Npb2R0PTAsNSZobD1lbiIsCiAgICBwbGFjZXg9IlNvZnR3YXJlOiBQcmFjdGljZSBhbmQgRXhwZXJpZW5jZSIsCikpCgpEQihDaXRhdGlvbigKICAgIGdvcnNjaGVrMjAwNGEsIGthdXR6MjAwMGEsIHJlZj0iIiwKICAgIGNvbnRleHRzPVsKCiAgICBdLAopKQoKJycnLCBjaXRhdGlvbnM9J2thdXR6MjAwMGEnKTs=\"));\n",
       "    "
      ],
      "text/plain": [
       "<IPython.core.display.Javascript object>"
      ]
     },
     "metadata": {},
     "output_type": "display_data"
    },
    {
     "data": {
      "application/javascript": [
       "$('span:contains(\"# Temp\")').closest('.cell').remove();"
      ],
      "text/plain": [
       "<IPython.core.display.Javascript object>"
      ]
     },
     "metadata": {},
     "output_type": "display_data"
    },
    {
     "data": {
      "application/javascript": [
       "\n",
       "        $('span:contains(\"# Temp\")').closest('.cell').remove();\n",
       "        var code = IPython.notebook.insert_cell_below('code');\n",
       "        code.set_text(atob(\"IyBUZW1wCmluc2VydCgnJycKZ29yc2NoZWsyMDA0YSA9IERCKFdvcmtVbnJlbGF0ZWQoCiAgICAyMDA0LCAiUGFja2FnaW5nIHNvZnR3YXJlIHByb2Nlc3MgaW1wcm92ZW1lbnQgaXNzdWVzOiBhIG1ldGhvZCBhbmQgYSBjYXNlIHN0dWR5IiwKICAgIGRpc3BsYXk9ImdvcnNjaGVrIiwKICAgIGF1dGhvcnM9IkdvcnNjaGVrLCBUb255IGFuZCBXb2hsaW4sIENsYWVzIiwKICAgIHBsYWNlPUZBS0UsCiAgICBwcD0iMTMxMS0tMTM0NCIsCiAgICBlbnRyeXR5cGU9ImFydGljbGUiLAogICAgdm9sdW1lPSIzNCIsCiAgICBudW1iZXI9IjE0IiwKICAgIHB1Ymxpc2hlcj0iV2lsZXkgT25saW5lIExpYnJhcnkiLAogICAgSUQ9ImdvcnNjaGVrMjAwNHBhY2thZ2luZyIsCiAgICBjbHVzdGVyX2lkPSIxMzQzNDY3MTE1NDM3NTU0MzU3MiIsCiAgICBzY2hvbGFyPSJodHRwOi8vc2Nob2xhci5nb29nbGUuY29tL3NjaG9sYXI/Y2l0ZXM9MTM0MzQ2NzExNTQzNzU1NDM1NzImYXNfc2R0PTIwMDUmc2Npb2R0PTAsNSZobD1lbiIsCiAgICBwbGFjZXg9IlNvZnR3YXJlOiBQcmFjdGljZSBhbmQgRXhwZXJpZW5jZSIsCikpCgpEQihDaXRhdGlvbigKICAgIGdvcnNjaGVrMjAwNGEsIGthdXR6MjAwMGEsIHJlZj0iIiwKICAgIGNvbnRleHRzPVsKCiAgICBdLAopKQoKJycnLCBjaXRhdGlvbnM9J2thdXR6MjAwMGEnKTs=\"));\n",
       "    "
      ],
      "text/plain": [
       "<IPython.core.display.Javascript object>"
      ]
     },
     "metadata": {},
     "output_type": "display_data"
    },
    {
     "data": {
      "application/javascript": [
       "$('span:contains(\"# Temp\")').closest('.cell').remove();"
      ],
      "text/plain": [
       "<IPython.core.display.Javascript object>"
      ]
     },
     "metadata": {},
     "output_type": "display_data"
    },
    {
     "data": {
      "application/javascript": [
       "\n",
       "        $('span:contains(\"# Temp\")').closest('.cell').remove();\n",
       "        var code = IPython.notebook.insert_cell_below('code');\n",
       "        code.set_text(atob(\"IyBUZW1wCmluc2VydCgnJycKY2FzZXkyMDA0YSA9IERCKFdvcmtVbnJlbGF0ZWQoCiAgICAyMDA0LCAiQSBwcmFjdGljYWwgYXBwbGljYXRpb24gb2YgdGhlIElERUFMIG1vZGVsIiwKICAgIGRpc3BsYXk9ImNhc2V5IiwKICAgIGF1dGhvcnM9IkNhc2V5LCBWYWxlbnRpbmUgYW5kIFJpY2hhcmRzb24sIEl0YSIsCiAgICBwbGFjZT1TUElQLAogICAgcHA9IjEyMy0tMTMyIiwKICAgIGVudHJ5dHlwZT0iYXJ0aWNsZSIsCiAgICB2b2x1bWU9IjkiLAogICAgbnVtYmVyPSIzIiwKICAgIHB1Ymxpc2hlcj0iV2lsZXkgT25saW5lIExpYnJhcnkiLAogICAgSUQ9ImNhc2V5MjAwNHByYWN0aWNhbCIsCiAgICBjbHVzdGVyX2lkPSIxNDI0MDYxODEyMzY3MDE3Mzk3NiIsCiAgICBzY2hvbGFyPSJodHRwOi8vc2Nob2xhci5nb29nbGUuY29tL3NjaG9sYXI/Y2l0ZXM9MTQyNDA2MTgxMjM2NzAxNzM5NzYmYXNfc2R0PTIwMDUmc2Npb2R0PTAsNSZobD1lbiIsCiAgICBwbGFjZXg9IlNvZnR3YXJlIFByb2Nlc3M6IEltcHJvdmVtZW50IGFuZCBQcmFjdGljZSIsCikpCgpEQihDaXRhdGlvbigKICAgIGNhc2V5MjAwNGEsIGthdXR6MjAwMGEsIHJlZj0iIiwKICAgIGNvbnRleHRzPVsKCiAgICBdLAopKQoKJycnLCBjaXRhdGlvbnM9J2thdXR6MjAwMGEnKTs=\"));\n",
       "    "
      ],
      "text/plain": [
       "<IPython.core.display.Javascript object>"
      ]
     },
     "metadata": {},
     "output_type": "display_data"
    },
    {
     "data": {
      "application/javascript": [
       "$('span:contains(\"# Temp\")').closest('.cell').remove();"
      ],
      "text/plain": [
       "<IPython.core.display.Javascript object>"
      ]
     },
     "metadata": {},
     "output_type": "display_data"
    },
    {
     "data": {
      "application/javascript": [
       "\n",
       "        $('span:contains(\"# Temp\")').closest('.cell').remove();\n",
       "        var code = IPython.notebook.insert_cell_below('code');\n",
       "        code.set_text(atob(\"IyBUZW1wCmluc2VydCgnJycKY2FzZXkyMDA0YSA9IERCKFdvcmtVbnJlbGF0ZWQoCiAgICAyMDA0LCAiQSBwcmFjdGljYWwgYXBwbGljYXRpb24gb2YgdGhlIElERUFMIG1vZGVsIiwKICAgIGRpc3BsYXk9ImNhc2V5IiwKICAgIGF1dGhvcnM9IkNhc2V5LCBWYWxlbnRpbmUgYW5kIFJpY2hhcmRzb24sIEl0YSIsCiAgICBwbGFjZT1TUElQLAogICAgcHA9IjEyMy0tMTMyIiwKICAgIGVudHJ5dHlwZT0iYXJ0aWNsZSIsCiAgICB2b2x1bWU9IjkiLAogICAgbnVtYmVyPSIzIiwKICAgIHB1Ymxpc2hlcj0iV2lsZXkgT25saW5lIExpYnJhcnkiLAogICAgSUQ9ImNhc2V5MjAwNHByYWN0aWNhbCIsCiAgICBjbHVzdGVyX2lkPSIxNDI0MDYxODEyMzY3MDE3Mzk3NiIsCiAgICBzY2hvbGFyPSJodHRwOi8vc2Nob2xhci5nb29nbGUuY29tL3NjaG9sYXI/Y2l0ZXM9MTQyNDA2MTgxMjM2NzAxNzM5NzYmYXNfc2R0PTIwMDUmc2Npb2R0PTAsNSZobD1lbiIsCiAgICBwbGFjZXg9IlNvZnR3YXJlIFByb2Nlc3M6IEltcHJvdmVtZW50IGFuZCBQcmFjdGljZSIsCikpCgpEQihDaXRhdGlvbigKICAgIGNhc2V5MjAwNGEsIGthdXR6MjAwMGEsIHJlZj0iIiwKICAgIGNvbnRleHRzPVsKCiAgICBdLAopKQoKJycnLCBjaXRhdGlvbnM9J2thdXR6MjAwMGEnKTs=\"));\n",
       "    "
      ],
      "text/plain": [
       "<IPython.core.display.Javascript object>"
      ]
     },
     "metadata": {},
     "output_type": "display_data"
    },
    {
     "data": {
      "application/javascript": [
       "$('span:contains(\"# Temp\")').closest('.cell').remove();"
      ],
      "text/plain": [
       "<IPython.core.display.Javascript object>"
      ]
     },
     "metadata": {},
     "output_type": "display_data"
    },
    {
     "data": {
      "application/javascript": [
       "\n",
       "        $('span:contains(\"# Temp\")').closest('.cell').remove();\n",
       "        var code = IPython.notebook.insert_cell_below('code');\n",
       "        code.set_text(atob(\"IyBUZW1wCmluc2VydCgnJycKZ29yc2NoZWsyMDEyYSA9IERCKFdvcmtVbnJlbGF0ZWQoCiAgICAyMDEyLCAiSW50cm9kdWN0aW9uIG9mIGEgcHJvY2VzcyBtYXR1cml0eSBtb2RlbCBmb3IgbWFya2V0LWRyaXZlbiBwcm9kdWN0IG1hbmFnZW1lbnQgYW5kIHJlcXVpcmVtZW50cyBlbmdpbmVlcmluZyIsCiAgICBkaXNwbGF5PSJnb3JzY2hlayIsCiAgICBhdXRob3JzPSJHb3JzY2hlaywgVG9ueSBhbmQgR29tZXMsIEFuZHJpZ28gYW5kIFBldHRlcnNzb24sIEFuZHJlYXMgYW5kIFRvcmthciwgUmljaGFyZCIsCiAgICBwbGFjZT1KU0VQLAogICAgcHA9IjgzLS0xMTMiLAogICAgZW50cnl0eXBlPSJhcnRpY2xlIiwKICAgIHZvbHVtZT0iMjQiLAogICAgbnVtYmVyPSIxIiwKICAgIHB1Ymxpc2hlcj0iV2lsZXkgT25saW5lIExpYnJhcnkiLAogICAgSUQ9ImdvcnNjaGVrMjAxMmludHJvZHVjdGlvbiIsCiAgICBjbHVzdGVyX2lkPSI3MjEwNTc4NDk4NzQ5MTUyMDg3IiwKICAgIHNjaG9sYXI9Imh0dHA6Ly9zY2hvbGFyLmdvb2dsZS5jb20vc2Nob2xhcj9jaXRlcz03MjEwNTc4NDk4NzQ5MTUyMDg3JmFzX3NkdD0yMDA1JnNjaW9kdD0wLDUmaGw9ZW4iLAogICAgcGxhY2V4PSJKb3VybmFsIG9mIHNvZnR3YXJlOiBFdm9sdXRpb24gYW5kIFByb2Nlc3MiLAopKQoKREIoQ2l0YXRpb24oCiAgICBnb3JzY2hlazIwMTJhLCBrYXV0ejIwMDBhLCByZWY9IiIsCiAgICBjb250ZXh0cz1bCgogICAgXSwKKSkKCicnJywgY2l0YXRpb25zPSdrYXV0ejIwMDBhJyk7\"));\n",
       "    "
      ],
      "text/plain": [
       "<IPython.core.display.Javascript object>"
      ]
     },
     "metadata": {},
     "output_type": "display_data"
    },
    {
     "data": {
      "application/javascript": [
       "$('span:contains(\"# Temp\")').closest('.cell').remove();"
      ],
      "text/plain": [
       "<IPython.core.display.Javascript object>"
      ]
     },
     "metadata": {},
     "output_type": "display_data"
    },
    {
     "data": {
      "application/javascript": [
       "\n",
       "        $('span:contains(\"# Temp\")').closest('.cell').remove();\n",
       "        var code = IPython.notebook.insert_cell_below('code');\n",
       "        code.set_text(atob(\"IyBUZW1wCmluc2VydCgnJycKZ29yc2NoZWsyMDEyYSA9IERCKFdvcmtVbnJlbGF0ZWQoCiAgICAyMDEyLCAiSW50cm9kdWN0aW9uIG9mIGEgcHJvY2VzcyBtYXR1cml0eSBtb2RlbCBmb3IgbWFya2V0LWRyaXZlbiBwcm9kdWN0IG1hbmFnZW1lbnQgYW5kIHJlcXVpcmVtZW50cyBlbmdpbmVlcmluZyIsCiAgICBkaXNwbGF5PSJnb3JzY2hlayIsCiAgICBhdXRob3JzPSJHb3JzY2hlaywgVG9ueSBhbmQgR29tZXMsIEFuZHJpZ28gYW5kIFBldHRlcnNzb24sIEFuZHJlYXMgYW5kIFRvcmthciwgUmljaGFyZCIsCiAgICBwbGFjZT1KU0VQLAogICAgcHA9IjgzLS0xMTMiLAogICAgZW50cnl0eXBlPSJhcnRpY2xlIiwKICAgIHZvbHVtZT0iMjQiLAogICAgbnVtYmVyPSIxIiwKICAgIHB1Ymxpc2hlcj0iV2lsZXkgT25saW5lIExpYnJhcnkiLAogICAgSUQ9ImdvcnNjaGVrMjAxMmludHJvZHVjdGlvbiIsCiAgICBjbHVzdGVyX2lkPSI3MjEwNTc4NDk4NzQ5MTUyMDg3IiwKICAgIHNjaG9sYXI9Imh0dHA6Ly9zY2hvbGFyLmdvb2dsZS5jb20vc2Nob2xhcj9jaXRlcz03MjEwNTc4NDk4NzQ5MTUyMDg3JmFzX3NkdD0yMDA1JnNjaW9kdD0wLDUmaGw9ZW4iLAogICAgcGxhY2V4PSJKb3VybmFsIG9mIHNvZnR3YXJlOiBFdm9sdXRpb24gYW5kIFByb2Nlc3MiLAopKQoKREIoQ2l0YXRpb24oCiAgICBnb3JzY2hlazIwMTJhLCBrYXV0ejIwMDBhLCByZWY9IiIsCiAgICBjb250ZXh0cz1bCgogICAgXSwKKSkKCicnJywgY2l0YXRpb25zPSdrYXV0ejIwMDBhJyk7\"));\n",
       "    "
      ],
      "text/plain": [
       "<IPython.core.display.Javascript object>"
      ]
     },
     "metadata": {},
     "output_type": "display_data"
    },
    {
     "data": {
      "application/javascript": [
       "$('span:contains(\"# Temp\")').closest('.cell').remove();"
      ],
      "text/plain": [
       "<IPython.core.display.Javascript object>"
      ]
     },
     "metadata": {},
     "output_type": "display_data"
    },
    {
     "data": {
      "application/javascript": [
       "\n",
       "        $('span:contains(\"# Temp\")').closest('.cell').remove();\n",
       "        var code = IPython.notebook.insert_cell_below('code');\n",
       "        code.set_text(atob(\"IyBUZW1wCmluc2VydCgnJycKcGlubzIwMDlhID0gREIoV29ya1VucmVsYXRlZCgKICAgIDIwMDksICJBIHByb2Nlc3MgZm9yIGRyaXZpbmcgcHJvY2VzcyBpbXByb3ZlbWVudCBpbiBWU0VzIiwKICAgIGRpc3BsYXk9InBpbm8iLAogICAgYXV0aG9ycz0iUGlubywgRnJhbmNpc2NvIEogYW5kIEFsZWdy7WEsIEp1bGlvIEFyaWVsIEh1cnRhZG8gYW5kIFZpZGFsLCBKdWFuIENhcmxvcyBhbmQgR2FyY+1hLCBG6WxpeCBhbmQgUGlhdHRpbmksIE1hcmlvIiwKICAgIHBsYWNlPUlDU0UsCiAgICBwcD0iMzQyLS0zNTMiLAogICAgZW50cnl0eXBlPSJpbnByb2NlZWRpbmdzIiwKICAgIG9yZ2FuaXphdGlvbj0iU3ByaW5nZXIiLAogICAgSUQ9InBpbm8yMDA5cHJvY2VzcyIsCiAgICBjbHVzdGVyX2lkPSI4ODg1NjcwMDY4NzEyNDEwMTA0IiwKICAgIHNjaG9sYXI9Imh0dHA6Ly9zY2hvbGFyLmdvb2dsZS5jb20vc2Nob2xhcj9jaXRlcz04ODg1NjcwMDY4NzEyNDEwMTA0JmFzX3NkdD0yMDA1JnNjaW9kdD0wLDUmaGw9ZW4iLAogICAgcGxhY2V4PSJJbnRlcm5hdGlvbmFsIENvbmZlcmVuY2Ugb24gU29mdHdhcmUgUHJvY2VzcyIsCikpCgpEQihDaXRhdGlvbigKICAgIHBpbm8yMDA5YSwga2F1dHoyMDAwYSwgcmVmPSIiLAogICAgY29udGV4dHM9WwoKICAgIF0sCikpCgonJycsIGNpdGF0aW9ucz0na2F1dHoyMDAwYScpOw==\"));\n",
       "    "
      ],
      "text/plain": [
       "<IPython.core.display.Javascript object>"
      ]
     },
     "metadata": {},
     "output_type": "display_data"
    },
    {
     "data": {
      "application/javascript": [
       "$('span:contains(\"# Temp\")').closest('.cell').remove();"
      ],
      "text/plain": [
       "<IPython.core.display.Javascript object>"
      ]
     },
     "metadata": {},
     "output_type": "display_data"
    },
    {
     "data": {
      "application/javascript": [
       "\n",
       "        $('span:contains(\"# Temp\")').closest('.cell').remove();\n",
       "        var code = IPython.notebook.insert_cell_below('code');\n",
       "        code.set_text(atob(\"IyBUZW1wCmluc2VydCgnJycKcGlubzIwMDlhID0gREIoV29ya1VucmVsYXRlZCgKICAgIDIwMDksICJBIHByb2Nlc3MgZm9yIGRyaXZpbmcgcHJvY2VzcyBpbXByb3ZlbWVudCBpbiBWU0VzIiwKICAgIGRpc3BsYXk9InBpbm8iLAogICAgYXV0aG9ycz0iUGlubywgRnJhbmNpc2NvIEogYW5kIEFsZWdy7WEsIEp1bGlvIEFyaWVsIEh1cnRhZG8gYW5kIFZpZGFsLCBKdWFuIENhcmxvcyBhbmQgR2FyY+1hLCBG6WxpeCBhbmQgUGlhdHRpbmksIE1hcmlvIiwKICAgIHBsYWNlPUlDU0UsCiAgICBwcD0iMzQyLS0zNTMiLAogICAgZW50cnl0eXBlPSJpbnByb2NlZWRpbmdzIiwKICAgIG9yZ2FuaXphdGlvbj0iU3ByaW5nZXIiLAogICAgSUQ9InBpbm8yMDA5cHJvY2VzcyIsCiAgICBjbHVzdGVyX2lkPSI4ODg1NjcwMDY4NzEyNDEwMTA0IiwKICAgIHNjaG9sYXI9Imh0dHA6Ly9zY2hvbGFyLmdvb2dsZS5jb20vc2Nob2xhcj9jaXRlcz04ODg1NjcwMDY4NzEyNDEwMTA0JmFzX3NkdD0yMDA1JnNjaW9kdD0wLDUmaGw9ZW4iLAogICAgcGxhY2V4PSJJbnRlcm5hdGlvbmFsIENvbmZlcmVuY2Ugb24gU29mdHdhcmUgUHJvY2VzcyIsCikpCgpEQihDaXRhdGlvbigKICAgIHBpbm8yMDA5YSwga2F1dHoyMDAwYSwgcmVmPSIiLAogICAgY29udGV4dHM9WwoKICAgIF0sCikpCgonJycsIGNpdGF0aW9ucz0na2F1dHoyMDAwYScpOw==\"));\n",
       "    "
      ],
      "text/plain": [
       "<IPython.core.display.Javascript object>"
      ]
     },
     "metadata": {},
     "output_type": "display_data"
    },
    {
     "data": {
      "application/javascript": [
       "$('span:contains(\"# Temp\")').closest('.cell').remove();"
      ],
      "text/plain": [
       "<IPython.core.display.Javascript object>"
      ]
     },
     "metadata": {},
     "output_type": "display_data"
    },
    {
     "data": {
      "application/javascript": [
       "\n",
       "        $('span:contains(\"# Temp\")').closest('.cell').remove();\n",
       "        var code = IPython.notebook.insert_cell_below('code');\n",
       "        code.set_text(atob(\"IyBUZW1wCmluc2VydCgnJycKa2FzdXJpbmVuMjAxM2EgPSBEQihXb3JrVW5yZWxhdGVkKAogICAgMjAxMywgIkhvdyBhcHBsaWNhYmxlIGlzIElTTy9JRUMgMjkxMTAgaW4gR2FtZSBTb2Z0d2FyZSBEZXZlbG9wbWVudD8iLAogICAgZGlzcGxheT0ia2FzdXJpbmVuIiwKICAgIGF1dGhvcnM9Ikthc3VyaW5lbiwgSnVzc2kgYW5kIExhaW5lLCBSaXN0byBhbmQgU21vbGFuZGVyLCBLYXJpIiwKICAgIHBsYWNlPUlDUEZTUEksCiAgICBwcD0iNS0tMTkiLAogICAgZW50cnl0eXBlPSJpbnByb2NlZWRpbmdzIiwKICAgIG9yZ2FuaXphdGlvbj0iU3ByaW5nZXIiLAogICAgSUQ9Imthc3VyaW5lbjIwMTNhcHBsaWNhYmxlIiwKICAgIGNsdXN0ZXJfaWQ9IjM0NTMxMjQwNDkwMTI4NDk4MTMiLAogICAgc2Nob2xhcj0iaHR0cDovL3NjaG9sYXIuZ29vZ2xlLmNvbS9zY2hvbGFyP2NpdGVzPTM0NTMxMjQwNDkwMTI4NDk4MTMmYXNfc2R0PTIwMDUmc2Npb2R0PTAsNSZobD1lbiIsCiAgICBwbGFjZXg9IkludGVybmF0aW9uYWwgQ29uZmVyZW5jZSBvbiBQcm9kdWN0IEZvY3VzZWQgU29mdHdhcmUgUHJvY2VzcyBJbXByb3ZlbWVudCIsCikpCgpEQihDaXRhdGlvbigKICAgIGthc3VyaW5lbjIwMTNhLCBrYXV0ejIwMDBhLCByZWY9IiIsCiAgICBjb250ZXh0cz1bCgogICAgXSwKKSkKCicnJywgY2l0YXRpb25zPSdrYXV0ejIwMDBhJyk7\"));\n",
       "    "
      ],
      "text/plain": [
       "<IPython.core.display.Javascript object>"
      ]
     },
     "metadata": {},
     "output_type": "display_data"
    },
    {
     "data": {
      "application/javascript": [
       "$('span:contains(\"# Temp\")').closest('.cell').remove();"
      ],
      "text/plain": [
       "<IPython.core.display.Javascript object>"
      ]
     },
     "metadata": {},
     "output_type": "display_data"
    },
    {
     "data": {
      "application/javascript": [
       "\n",
       "        $('span:contains(\"# Temp\")').closest('.cell').remove();\n",
       "        var code = IPython.notebook.insert_cell_below('code');\n",
       "        code.set_text(atob(\"IyBUZW1wCmluc2VydCgnJycKa2FzdXJpbmVuMjAxM2EgPSBEQihXb3JrVW5yZWxhdGVkKAogICAgMjAxMywgIkhvdyBhcHBsaWNhYmxlIGlzIElTTy9JRUMgMjkxMTAgaW4gR2FtZSBTb2Z0d2FyZSBEZXZlbG9wbWVudD8iLAogICAgZGlzcGxheT0ia2FzdXJpbmVuIiwKICAgIGF1dGhvcnM9Ikthc3VyaW5lbiwgSnVzc2kgYW5kIExhaW5lLCBSaXN0byBhbmQgU21vbGFuZGVyLCBLYXJpIiwKICAgIHBsYWNlPUlDUEZTUEksCiAgICBwcD0iNS0tMTkiLAogICAgZW50cnl0eXBlPSJpbnByb2NlZWRpbmdzIiwKICAgIG9yZ2FuaXphdGlvbj0iU3ByaW5nZXIiLAogICAgSUQ9Imthc3VyaW5lbjIwMTNhcHBsaWNhYmxlIiwKICAgIGNsdXN0ZXJfaWQ9IjM0NTMxMjQwNDkwMTI4NDk4MTMiLAogICAgc2Nob2xhcj0iaHR0cDovL3NjaG9sYXIuZ29vZ2xlLmNvbS9zY2hvbGFyP2NpdGVzPTM0NTMxMjQwNDkwMTI4NDk4MTMmYXNfc2R0PTIwMDUmc2Npb2R0PTAsNSZobD1lbiIsCiAgICBwbGFjZXg9IkludGVybmF0aW9uYWwgQ29uZmVyZW5jZSBvbiBQcm9kdWN0IEZvY3VzZWQgU29mdHdhcmUgUHJvY2VzcyBJbXByb3ZlbWVudCIsCikpCgpEQihDaXRhdGlvbigKICAgIGthc3VyaW5lbjIwMTNhLCBrYXV0ejIwMDBhLCByZWY9IiIsCiAgICBjb250ZXh0cz1bCgogICAgXSwKKSkKCicnJywgY2l0YXRpb25zPSdrYXV0ejIwMDBhJyk7\"));\n",
       "    "
      ],
      "text/plain": [
       "<IPython.core.display.Javascript object>"
      ]
     },
     "metadata": {},
     "output_type": "display_data"
    },
    {
     "data": {
      "application/javascript": [
       "$('span:contains(\"# Temp\")').closest('.cell').remove();"
      ],
      "text/plain": [
       "<IPython.core.display.Javascript object>"
      ]
     },
     "metadata": {},
     "output_type": "display_data"
    },
    {
     "data": {
      "application/javascript": [
       "\n",
       "        $('span:contains(\"# Temp\")').closest('.cell').remove();\n",
       "        var code = IPython.notebook.insert_cell_below('code');\n",
       "        code.set_text(atob(\"IyBUZW1wCmluc2VydCgnJycKbGV1bmcyMDA3YSA9IERCKFdvcmtVbnJlbGF0ZWQoCiAgICAyMDA3LCAiQXV0b21hdGVkIHN1cHBvcnQgb2Ygc29mdHdhcmUgcXVhbGl0eSBpbXByb3ZlbWVudCIsCiAgICBkaXNwbGF5PSJsZXVuZyIsCiAgICBhdXRob3JzPSJMZXVuZywgSGFyZXRvbiBLTiBhbmQgTGlhbywgTGkgYW5kIFF1LCBZdXpob25nIiwKICAgIHBsYWNlPUZBS0UsCiAgICBwcD0iMjMwLS0yNDMiLAogICAgZW50cnl0eXBlPSJhcnRpY2xlIiwKICAgIHZvbHVtZT0iMjQiLAogICAgbnVtYmVyPSIzIiwKICAgIHB1Ymxpc2hlcj0iRW1lcmFsZCBHcm91cCBQdWJsaXNoaW5nIExpbWl0ZWQiLAogICAgSUQ9ImxldW5nMjAwN2F1dG9tYXRlZCIsCiAgICBjbHVzdGVyX2lkPSI2NjAwOTU3MjU5MDAwMTY3MjA0IiwKICAgIHNjaG9sYXI9Imh0dHA6Ly9zY2hvbGFyLmdvb2dsZS5jb20vc2Nob2xhcj9jaXRlcz02NjAwOTU3MjU5MDAwMTY3MjA0JmFzX3NkdD0yMDA1JnNjaW9kdD0wLDUmaGw9ZW4iLAogICAgcGxhY2V4PSJJbnRlcm5hdGlvbmFsIEpvdXJuYWwgb2YgUXVhbGl0eSAmIFJlbGlhYmlsaXR5IE1hbmFnZW1lbnQiLAopKQoKREIoQ2l0YXRpb24oCiAgICBsZXVuZzIwMDdhLCBrYXV0ejIwMDBhLCByZWY9IiIsCiAgICBjb250ZXh0cz1bCgogICAgXSwKKSkKCicnJywgY2l0YXRpb25zPSdrYXV0ejIwMDBhJyk7\"));\n",
       "    "
      ],
      "text/plain": [
       "<IPython.core.display.Javascript object>"
      ]
     },
     "metadata": {},
     "output_type": "display_data"
    },
    {
     "data": {
      "application/javascript": [
       "$('span:contains(\"# Temp\")').closest('.cell').remove();"
      ],
      "text/plain": [
       "<IPython.core.display.Javascript object>"
      ]
     },
     "metadata": {},
     "output_type": "display_data"
    },
    {
     "data": {
      "application/javascript": [
       "\n",
       "        $('span:contains(\"# Temp\")').closest('.cell').remove();\n",
       "        var code = IPython.notebook.insert_cell_below('code');\n",
       "        code.set_text(atob(\"IyBUZW1wCmluc2VydCgnJycKbGV1bmcyMDA3YSA9IERCKFdvcmtVbnJlbGF0ZWQoCiAgICAyMDA3LCAiQXV0b21hdGVkIHN1cHBvcnQgb2Ygc29mdHdhcmUgcXVhbGl0eSBpbXByb3ZlbWVudCIsCiAgICBkaXNwbGF5PSJsZXVuZyIsCiAgICBhdXRob3JzPSJMZXVuZywgSGFyZXRvbiBLTiBhbmQgTGlhbywgTGkgYW5kIFF1LCBZdXpob25nIiwKICAgIHBsYWNlPUZBS0UsCiAgICBwcD0iMjMwLS0yNDMiLAogICAgZW50cnl0eXBlPSJhcnRpY2xlIiwKICAgIHZvbHVtZT0iMjQiLAogICAgbnVtYmVyPSIzIiwKICAgIHB1Ymxpc2hlcj0iRW1lcmFsZCBHcm91cCBQdWJsaXNoaW5nIExpbWl0ZWQiLAogICAgSUQ9ImxldW5nMjAwN2F1dG9tYXRlZCIsCiAgICBjbHVzdGVyX2lkPSI2NjAwOTU3MjU5MDAwMTY3MjA0IiwKICAgIHNjaG9sYXI9Imh0dHA6Ly9zY2hvbGFyLmdvb2dsZS5jb20vc2Nob2xhcj9jaXRlcz02NjAwOTU3MjU5MDAwMTY3MjA0JmFzX3NkdD0yMDA1JnNjaW9kdD0wLDUmaGw9ZW4iLAogICAgcGxhY2V4PSJJbnRlcm5hdGlvbmFsIEpvdXJuYWwgb2YgUXVhbGl0eSAmIFJlbGlhYmlsaXR5IE1hbmFnZW1lbnQiLAopKQoKREIoQ2l0YXRpb24oCiAgICBsZXVuZzIwMDdhLCBrYXV0ejIwMDBhLCByZWY9IiIsCiAgICBjb250ZXh0cz1bCgogICAgXSwKKSkKCicnJywgY2l0YXRpb25zPSdrYXV0ejIwMDBhJyk7\"));\n",
       "    "
      ],
      "text/plain": [
       "<IPython.core.display.Javascript object>"
      ]
     },
     "metadata": {},
     "output_type": "display_data"
    },
    {
     "data": {
      "application/javascript": [
       "$('span:contains(\"# Temp\")').closest('.cell').remove();"
      ],
      "text/plain": [
       "<IPython.core.display.Javascript object>"
      ]
     },
     "metadata": {},
     "output_type": "display_data"
    },
    {
     "data": {
      "application/javascript": [
       "\n",
       "        $('span:contains(\"# Temp\")').closest('.cell').remove();\n",
       "        var code = IPython.notebook.insert_cell_below('code');\n",
       "        code.set_text(atob(\"IyBUZW1wCmluc2VydCgnJycKZmFyb29xMjAwN2EgPSBEQihXb3JrVW5yZWxhdGVkKAogICAgMjAwNywgIlJlc2VhcmNoIGRpcmVjdGlvbnMgaW4gdmVyaWZpY2F0aW9uICYgdmFsaWRhdGlvbiBwcm9jZXNzIGltcHJvdmVtZW50IiwKICAgIGRpc3BsYXk9ImZhcm9vcSIsCiAgICBhdXRob3JzPSJGYXJvb3EsIEF5YXogYW5kIER1bWtlLCBSZWluZXIgUiIsCiAgICBwbGFjZT1GQUtFLAogICAgcHA9IjMiLAogICAgZW50cnl0eXBlPSJhcnRpY2xlIiwKICAgIHZvbHVtZT0iMzIiLAogICAgbnVtYmVyPSI0IiwKICAgIHB1Ymxpc2hlcj0iQUNNIiwKICAgIElEPSJmYXJvb3EyMDA3cmVzZWFyY2giLAogICAgY2x1c3Rlcl9pZD0iMzczMjM2MTA0MzE1NjA5MTE4IiwKICAgIHNjaG9sYXI9Imh0dHA6Ly9zY2hvbGFyLmdvb2dsZS5jb20vc2Nob2xhcj9jaXRlcz0zNzMyMzYxMDQzMTU2MDkxMTgmYXNfc2R0PTIwMDUmc2Npb2R0PTAsNSZobD1lbiIsCiAgICBwbGFjZXg9IkFDTSBTSUdTT0ZUIFNvZnR3YXJlIEVuZ2luZWVyaW5nIE5vdGVzIiwKKSkKCkRCKENpdGF0aW9uKAogICAgZmFyb29xMjAwN2EsIGthdXR6MjAwMGEsIHJlZj0iIiwKICAgIGNvbnRleHRzPVsKCiAgICBdLAopKQoKJycnLCBjaXRhdGlvbnM9J2thdXR6MjAwMGEnKTs=\"));\n",
       "    "
      ],
      "text/plain": [
       "<IPython.core.display.Javascript object>"
      ]
     },
     "metadata": {},
     "output_type": "display_data"
    },
    {
     "data": {
      "application/javascript": [
       "$('span:contains(\"# Temp\")').closest('.cell').remove();"
      ],
      "text/plain": [
       "<IPython.core.display.Javascript object>"
      ]
     },
     "metadata": {},
     "output_type": "display_data"
    },
    {
     "data": {
      "application/javascript": [
       "\n",
       "        $('span:contains(\"# Temp\")').closest('.cell').remove();\n",
       "        var code = IPython.notebook.insert_cell_below('code');\n",
       "        code.set_text(atob(\"IyBUZW1wCmluc2VydCgnJycKZmFyb29xMjAwN2EgPSBEQihXb3JrVW5yZWxhdGVkKAogICAgMjAwNywgIlJlc2VhcmNoIGRpcmVjdGlvbnMgaW4gdmVyaWZpY2F0aW9uICYgdmFsaWRhdGlvbiBwcm9jZXNzIGltcHJvdmVtZW50IiwKICAgIGRpc3BsYXk9ImZhcm9vcSIsCiAgICBhdXRob3JzPSJGYXJvb3EsIEF5YXogYW5kIER1bWtlLCBSZWluZXIgUiIsCiAgICBwbGFjZT1GQUtFLAogICAgcHA9IjMiLAogICAgZW50cnl0eXBlPSJhcnRpY2xlIiwKICAgIHZvbHVtZT0iMzIiLAogICAgbnVtYmVyPSI0IiwKICAgIHB1Ymxpc2hlcj0iQUNNIiwKICAgIElEPSJmYXJvb3EyMDA3cmVzZWFyY2giLAogICAgY2x1c3Rlcl9pZD0iMzczMjM2MTA0MzE1NjA5MTE4IiwKICAgIHNjaG9sYXI9Imh0dHA6Ly9zY2hvbGFyLmdvb2dsZS5jb20vc2Nob2xhcj9jaXRlcz0zNzMyMzYxMDQzMTU2MDkxMTgmYXNfc2R0PTIwMDUmc2Npb2R0PTAsNSZobD1lbiIsCiAgICBwbGFjZXg9IkFDTSBTSUdTT0ZUIFNvZnR3YXJlIEVuZ2luZWVyaW5nIE5vdGVzIiwKKSkKCkRCKENpdGF0aW9uKAogICAgZmFyb29xMjAwN2EsIGthdXR6MjAwMGEsIHJlZj0iIiwKICAgIGNvbnRleHRzPVsKCiAgICBdLAopKQoKJycnLCBjaXRhdGlvbnM9J2thdXR6MjAwMGEnKTs=\"));\n",
       "    "
      ],
      "text/plain": [
       "<IPython.core.display.Javascript object>"
      ]
     },
     "metadata": {},
     "output_type": "display_data"
    },
    {
     "data": {
      "application/javascript": [
       "$('span:contains(\"# Temp\")').closest('.cell').remove();"
      ],
      "text/plain": [
       "<IPython.core.display.Javascript object>"
      ]
     },
     "metadata": {},
     "output_type": "display_data"
    },
    {
     "data": {
      "application/javascript": [
       "\n",
       "        $('span:contains(\"# Temp\")').closest('.cell').remove();\n",
       "        var code = IPython.notebook.insert_cell_below('code');\n",
       "        code.set_text(atob(\"IyBUZW1wCmluc2VydCgnJycKYWxhZ2Fyc2FteTIwMDhhID0gREIoV29ya1VucmVsYXRlZCgKICAgIDIwMDgsICJJbXBsZW1lbnRhdGlvbiBzcGVjaWZpY2F0aW9uIGZvciBzb2Z0d2FyZSBwcm9jZXNzIGltcHJvdmVtZW50IHN1cHBvcnRpdmUga25vd2xlZGdlIG1hbmFnZW1lbnQgdG9vbCIsCiAgICBkaXNwbGF5PSJhbGFnYXJzYW15IiwKICAgIGF1dGhvcnM9IkFsYWdhcnNhbXksIEsgYW5kIEp1c3R1cywgU2Vsd3luIGFuZCBJeWFrdXR0aSwgS29tYmlhaCIsCiAgICBwbGFjZT1JRUVFUywKICAgIHBwPSIxMjMtLTEzMyIsCiAgICBlbnRyeXR5cGU9ImFydGljbGUiLAogICAgdm9sdW1lPSIyIiwKICAgIG51bWJlcj0iMiIsCiAgICBwdWJsaXNoZXI9IklFVCIsCiAgICBJRD0iYWxhZ2Fyc2FteTIwMDhpbXBsZW1lbnRhdGlvbiIsCiAgICBjbHVzdGVyX2lkPSI2MTQzMDI2ODM2NjEwNjEyMjE3IiwKICAgIHNjaG9sYXI9Imh0dHA6Ly9zY2hvbGFyLmdvb2dsZS5jb20vc2Nob2xhcj9jaXRlcz02MTQzMDI2ODM2NjEwNjEyMjE3JmFzX3NkdD0yMDA1JnNjaW9kdD0wLDUmaGw9ZW4iLAogICAgcGxhY2V4PSJJRVQgc29mdHdhcmUiLAopKQoKREIoQ2l0YXRpb24oCiAgICBhbGFnYXJzYW15MjAwOGEsIGthdXR6MjAwMGEsIHJlZj0iIiwKICAgIGNvbnRleHRzPVsKCiAgICBdLAopKQoKJycnLCBjaXRhdGlvbnM9J2thdXR6MjAwMGEnKTs=\"));\n",
       "    "
      ],
      "text/plain": [
       "<IPython.core.display.Javascript object>"
      ]
     },
     "metadata": {},
     "output_type": "display_data"
    },
    {
     "data": {
      "application/javascript": [
       "$('span:contains(\"# Temp\")').closest('.cell').remove();"
      ],
      "text/plain": [
       "<IPython.core.display.Javascript object>"
      ]
     },
     "metadata": {},
     "output_type": "display_data"
    },
    {
     "data": {
      "application/javascript": [
       "\n",
       "        $('span:contains(\"# Temp\")').closest('.cell').remove();\n",
       "        var code = IPython.notebook.insert_cell_below('code');\n",
       "        code.set_text(atob(\"IyBUZW1wCmluc2VydCgnJycKYWxhZ2Fyc2FteTIwMDhhID0gREIoV29ya1VucmVsYXRlZCgKICAgIDIwMDgsICJJbXBsZW1lbnRhdGlvbiBzcGVjaWZpY2F0aW9uIGZvciBzb2Z0d2FyZSBwcm9jZXNzIGltcHJvdmVtZW50IHN1cHBvcnRpdmUga25vd2xlZGdlIG1hbmFnZW1lbnQgdG9vbCIsCiAgICBkaXNwbGF5PSJhbGFnYXJzYW15IiwKICAgIGF1dGhvcnM9IkFsYWdhcnNhbXksIEsgYW5kIEp1c3R1cywgU2Vsd3luIGFuZCBJeWFrdXR0aSwgS29tYmlhaCIsCiAgICBwbGFjZT1JRUVFUywKICAgIHBwPSIxMjMtLTEzMyIsCiAgICBlbnRyeXR5cGU9ImFydGljbGUiLAogICAgdm9sdW1lPSIyIiwKICAgIG51bWJlcj0iMiIsCiAgICBwdWJsaXNoZXI9IklFVCIsCiAgICBJRD0iYWxhZ2Fyc2FteTIwMDhpbXBsZW1lbnRhdGlvbiIsCiAgICBjbHVzdGVyX2lkPSI2MTQzMDI2ODM2NjEwNjEyMjE3IiwKICAgIHNjaG9sYXI9Imh0dHA6Ly9zY2hvbGFyLmdvb2dsZS5jb20vc2Nob2xhcj9jaXRlcz02MTQzMDI2ODM2NjEwNjEyMjE3JmFzX3NkdD0yMDA1JnNjaW9kdD0wLDUmaGw9ZW4iLAogICAgcGxhY2V4PSJJRVQgc29mdHdhcmUiLAopKQoKREIoQ2l0YXRpb24oCiAgICBhbGFnYXJzYW15MjAwOGEsIGthdXR6MjAwMGEsIHJlZj0iIiwKICAgIGNvbnRleHRzPVsKCiAgICBdLAopKQoKJycnLCBjaXRhdGlvbnM9J2thdXR6MjAwMGEnKTs=\"));\n",
       "    "
      ],
      "text/plain": [
       "<IPython.core.display.Javascript object>"
      ]
     },
     "metadata": {},
     "output_type": "display_data"
    },
    {
     "data": {
      "application/javascript": [
       "$('span:contains(\"# Temp\")').closest('.cell').remove();"
      ],
      "text/plain": [
       "<IPython.core.display.Javascript object>"
      ]
     },
     "metadata": {},
     "output_type": "display_data"
    },
    {
     "data": {
      "application/javascript": [
       "\n",
       "        $('span:contains(\"# Temp\")').closest('.cell').remove();\n",
       "        var code = IPython.notebook.insert_cell_below('code');\n",
       "        code.set_text(atob(\"IyBUZW1wCmluc2VydCgnJycKc2FudG9zMjAxMWEgPSBEQihXb3JrVW5yZWxhdGVkKAogICAgMjAxMSwgIkFjdGlvbiByZXNlYXJjaCBjYW4gc3dpbmcgdGhlIGJhbGFuY2UgaW4gZXhwZXJpbWVudGFsIHNvZnR3YXJlIGVuZ2luZWVyaW5nIiwKICAgIGRpc3BsYXk9InNhbnRvcyIsCiAgICBhdXRob3JzPSJEb3MgU2FudG9zLCBQYXVsbyBTZXJnaW8gTWVkZWlyb3MgYW5kIFRyYXZhc3NvcywgR3VpbGhlcm1lIEhvcnRhIiwKICAgIHBsYWNlPUZBS0UsCiAgICBwcD0iMjA1LS0yNzYiLAogICAgZW50cnl0eXBlPSJpbmNvbGxlY3Rpb24iLAogICAgdm9sdW1lPSI4MyIsCiAgICBwdWJsaXNoZXI9IkVsc2V2aWVyIiwKICAgIElEPSJkb3MyMDExYWN0aW9uIiwKICAgIGNsdXN0ZXJfaWQ9IjExMjM4NTI0MzgxMTY1OTQ0MDMxIiwKICAgIHNjaG9sYXI9Imh0dHA6Ly9zY2hvbGFyLmdvb2dsZS5jb20vc2Nob2xhcj9jaXRlcz0xMTIzODUyNDM4MTE2NTk0NDAzMSZhc19zZHQ9MjAwNSZzY2lvZHQ9MCw1JmhsPWVuIiwKICAgIHBsYWNleD0iQWR2YW5jZXMgaW4gY29tcHV0ZXJzIiwKKSkKCkRCKENpdGF0aW9uKAogICAgc2FudG9zMjAxMWEsIGthdXR6MjAwMGEsIHJlZj0iIiwKICAgIGNvbnRleHRzPVsKCiAgICBdLAopKQoKJycnLCBjaXRhdGlvbnM9J2thdXR6MjAwMGEnKTs=\"));\n",
       "    "
      ],
      "text/plain": [
       "<IPython.core.display.Javascript object>"
      ]
     },
     "metadata": {},
     "output_type": "display_data"
    },
    {
     "data": {
      "application/javascript": [
       "$('span:contains(\"# Temp\")').closest('.cell').remove();"
      ],
      "text/plain": [
       "<IPython.core.display.Javascript object>"
      ]
     },
     "metadata": {},
     "output_type": "display_data"
    },
    {
     "data": {
      "application/javascript": [
       "\n",
       "        $('span:contains(\"# Temp\")').closest('.cell').remove();\n",
       "        var code = IPython.notebook.insert_cell_below('code');\n",
       "        code.set_text(atob(\"IyBUZW1wCmluc2VydCgnJycKc2FudG9zMjAxMWEgPSBEQihXb3JrVW5yZWxhdGVkKAogICAgMjAxMSwgIkFjdGlvbiByZXNlYXJjaCBjYW4gc3dpbmcgdGhlIGJhbGFuY2UgaW4gZXhwZXJpbWVudGFsIHNvZnR3YXJlIGVuZ2luZWVyaW5nIiwKICAgIGRpc3BsYXk9InNhbnRvcyIsCiAgICBhdXRob3JzPSJEb3MgU2FudG9zLCBQYXVsbyBTZXJnaW8gTWVkZWlyb3MgYW5kIFRyYXZhc3NvcywgR3VpbGhlcm1lIEhvcnRhIiwKICAgIHBsYWNlPUZBS0UsCiAgICBwcD0iMjA1LS0yNzYiLAogICAgZW50cnl0eXBlPSJpbmNvbGxlY3Rpb24iLAogICAgdm9sdW1lPSI4MyIsCiAgICBwdWJsaXNoZXI9IkVsc2V2aWVyIiwKICAgIElEPSJkb3MyMDExYWN0aW9uIiwKICAgIGNsdXN0ZXJfaWQ9IjExMjM4NTI0MzgxMTY1OTQ0MDMxIiwKICAgIHNjaG9sYXI9Imh0dHA6Ly9zY2hvbGFyLmdvb2dsZS5jb20vc2Nob2xhcj9jaXRlcz0xMTIzODUyNDM4MTE2NTk0NDAzMSZhc19zZHQ9MjAwNSZzY2lvZHQ9MCw1JmhsPWVuIiwKICAgIHBsYWNleD0iQWR2YW5jZXMgaW4gY29tcHV0ZXJzIiwKKSkKCkRCKENpdGF0aW9uKAogICAgc2FudG9zMjAxMWEsIGthdXR6MjAwMGEsIHJlZj0iIiwKICAgIGNvbnRleHRzPVsKCiAgICBdLAopKQoKJycnLCBjaXRhdGlvbnM9J2thdXR6MjAwMGEnKTs=\"));\n",
       "    "
      ],
      "text/plain": [
       "<IPython.core.display.Javascript object>"
      ]
     },
     "metadata": {},
     "output_type": "display_data"
    },
    {
     "data": {
      "application/javascript": [
       "$('span:contains(\"# Temp\")').closest('.cell').remove();"
      ],
      "text/plain": [
       "<IPython.core.display.Javascript object>"
      ]
     },
     "metadata": {},
     "output_type": "display_data"
    },
    {
     "data": {
      "application/javascript": [
       "\n",
       "        $('span:contains(\"# Temp\")').closest('.cell').remove();\n",
       "        var code = IPython.notebook.insert_cell_below('code');\n",
       "        code.set_text(atob(\"IyBUZW1wCmluc2VydCgnJycKY2F0ZXIyMDA0YiA9IERCKFdvcmtVbnJlbGF0ZWQoCiAgICAyMDA0LCAiQW4gZXZhbHVhdGlvbiBvZiBzb2Z0d2FyZSBkZXZlbG9wbWVudCBwcmFjdGljZSBhbmQgYXNzZXNzbWVudC1iYXNlZCBwcm9jZXNzIGltcHJvdmVtZW50IGluIHNtYWxsIHNvZnR3YXJlIGRldmVsb3BtZW50IGZpcm1zIiwKICAgIGRpc3BsYXk9ImNhdGVyIGIiLAogICAgYXV0aG9ycz0iQ2F0ZXItU3RlZWwsIEFpbGVlbiIsCiAgICBwbGFjZT1UaGVzaXMsCiAgICBlbnRyeXR5cGU9InBoZHRoZXNpcyIsCiAgICBJRD0iY2F0ZXIyMDA0ZXZhbHVhdGlvbiIsCiAgICBjbHVzdGVyX2lkPSI4MzIyOTg3Mjc0MDA4NTM2MDQ4IiwKICAgIHNjaG9sYXI9Imh0dHA6Ly9zY2hvbGFyLmdvb2dsZS5jb20vc2Nob2xhcj9jaXRlcz04MzIyOTg3Mjc0MDA4NTM2MDQ4JmFzX3NkdD0yMDA1JnNjaW9kdD0wLDUmaGw9ZW4iLAogICAgbG9jYWw9IkdyaWZmaXRoIFVuaXZlcnNpdHkiLAogICAgcGxhY2V4PSIiLAopKQoKREIoQ2l0YXRpb24oCiAgICBjYXRlcjIwMDRiLCBrYXV0ejIwMDBhLCByZWY9IiIsCiAgICBjb250ZXh0cz1bCgogICAgXSwKKSkKCicnJywgY2l0YXRpb25zPSdrYXV0ejIwMDBhJyk7\"));\n",
       "    "
      ],
      "text/plain": [
       "<IPython.core.display.Javascript object>"
      ]
     },
     "metadata": {},
     "output_type": "display_data"
    },
    {
     "data": {
      "application/javascript": [
       "$('span:contains(\"# Temp\")').closest('.cell').remove();"
      ],
      "text/plain": [
       "<IPython.core.display.Javascript object>"
      ]
     },
     "metadata": {},
     "output_type": "display_data"
    },
    {
     "data": {
      "application/javascript": [
       "\n",
       "        $('span:contains(\"# Temp\")').closest('.cell').remove();\n",
       "        var code = IPython.notebook.insert_cell_below('code');\n",
       "        code.set_text(atob(\"IyBUZW1wCmluc2VydCgnJycKY2F0ZXIyMDA0YiA9IERCKFdvcmtVbnJlbGF0ZWQoCiAgICAyMDA0LCAiQW4gZXZhbHVhdGlvbiBvZiBzb2Z0d2FyZSBkZXZlbG9wbWVudCBwcmFjdGljZSBhbmQgYXNzZXNzbWVudC1iYXNlZCBwcm9jZXNzIGltcHJvdmVtZW50IGluIHNtYWxsIHNvZnR3YXJlIGRldmVsb3BtZW50IGZpcm1zIiwKICAgIGRpc3BsYXk9ImNhdGVyIGIiLAogICAgYXV0aG9ycz0iQ2F0ZXItU3RlZWwsIEFpbGVlbiIsCiAgICBwbGFjZT1UaGVzaXMsCiAgICBlbnRyeXR5cGU9InBoZHRoZXNpcyIsCiAgICBJRD0iY2F0ZXIyMDA0ZXZhbHVhdGlvbiIsCiAgICBjbHVzdGVyX2lkPSI4MzIyOTg3Mjc0MDA4NTM2MDQ4IiwKICAgIHNjaG9sYXI9Imh0dHA6Ly9zY2hvbGFyLmdvb2dsZS5jb20vc2Nob2xhcj9jaXRlcz04MzIyOTg3Mjc0MDA4NTM2MDQ4JmFzX3NkdD0yMDA1JnNjaW9kdD0wLDUmaGw9ZW4iLAogICAgbG9jYWw9IkdyaWZmaXRoIFVuaXZlcnNpdHkiLAogICAgcGxhY2V4PSIiLAopKQoKREIoQ2l0YXRpb24oCiAgICBjYXRlcjIwMDRiLCBrYXV0ejIwMDBhLCByZWY9IiIsCiAgICBjb250ZXh0cz1bCgogICAgXSwKKSkKCicnJywgY2l0YXRpb25zPSdrYXV0ejIwMDBhJyk7\"));\n",
       "    "
      ],
      "text/plain": [
       "<IPython.core.display.Javascript object>"
      ]
     },
     "metadata": {},
     "output_type": "display_data"
    },
    {
     "data": {
      "application/javascript": [
       "$('span:contains(\"# Temp\")').closest('.cell').remove();"
      ],
      "text/plain": [
       "<IPython.core.display.Javascript object>"
      ]
     },
     "metadata": {},
     "output_type": "display_data"
    },
    {
     "data": {
      "application/javascript": [
       "\n",
       "        $('span:contains(\"# Temp\")').closest('.cell').remove();\n",
       "        var code = IPython.notebook.insert_cell_below('code');\n",
       "        code.set_text(atob(\"IyBUZW1wCmluc2VydCgnJycKREIoQ2l0YXRpb24oCiAgICBrYXVwcGluZW4yMDAxYSwga2F1dHoyMDAwYSwgcmVmPSIiLAogICAgY29udGV4dHM9WwoKICAgIF0sCikpCgonJycsIGNpdGF0aW9ucz0na2F1dHoyMDAwYScpOwpzZXRfYXR0cmlidXRlKCdrYXVwcGluZW4yMDAxYScsICdvcmdhbml6YXRpb24nLCAnU3ByaW5nZXInKTsKc2V0X2F0dHJpYnV0ZSgna2F1cHBpbmVuMjAwMWEnLCAnZXhjZXJwdCcsICdBYnN0cmFjdCBEZWZpbmluZyBhbmQgbWFuYWdpbmcgY3VzdG9tZXIgcmVxdWlyZW1lbnRzIGlzIGJlY29taW5nIGluY3JlYXNpbmdseSBpbXBvcnRhbnQgaW4gcHJvZHVjdCBkZXZlbG9wbWVudC4gTWFueSBzb2Z0d2FyZSBvcmdhbml6YXRpb25zIGFyZSBpbnRlcmVzdGVkIGluIGltcHJvdmluZyB0aGVpciByZXF1aXJlbWVudHMgZW5naW5lZXJpbmcgcHJvY2Vzc2VzLCBidXQgdGhleSBkbyBub3Qga25vdyBob3cgYW5kIHdoZXJlIHRvIGJlZ2luLiBUaGlzICcpOwpzZXRfYXR0cmlidXRlKCdrYXVwcGluZW4yMDAxYScsICdjbHVzdGVyX2lkJywgJzE2MDk5MDM4MTgxNjM4MzUyNTY5Jyk7CnNldF9hdHRyaWJ1dGUoJ2thdXBwaW5lbjIwMDFhJywgJ3NjaG9sYXInLCAnaHR0cDovL3NjaG9sYXIuZ29vZ2xlLmNvbS9zY2hvbGFyP2NpdGVzPTE2MDk5MDM4MTgxNjM4MzUyNTY5JmFzX3NkdD0yMDA1JnNjaW9kdD0wLDUmaGw9ZW4nKTs=\"));\n",
       "    "
      ],
      "text/plain": [
       "<IPython.core.display.Javascript object>"
      ]
     },
     "metadata": {},
     "output_type": "display_data"
    },
    {
     "data": {
      "application/javascript": [
       "$('span:contains(\"# Temp\")').closest('.cell').remove();"
      ],
      "text/plain": [
       "<IPython.core.display.Javascript object>"
      ]
     },
     "metadata": {},
     "output_type": "display_data"
    },
    {
     "data": {
      "application/javascript": [
       "\n",
       "        $('span:contains(\"# Temp\")').closest('.cell').remove();\n",
       "        var code = IPython.notebook.insert_cell_below('code');\n",
       "        code.set_text(atob(\"IyBUZW1wCmluc2VydCgnJycKREIoQ2l0YXRpb24oCiAgICBrYXVwcGluZW4yMDAxYSwga2F1dHoyMDAwYSwgcmVmPSIiLAogICAgY29udGV4dHM9WwoKICAgIF0sCikpCgonJycsIGNpdGF0aW9ucz0na2F1dHoyMDAwYScpOwpzZXRfYXR0cmlidXRlKCdrYXVwcGluZW4yMDAxYScsICdvcmdhbml6YXRpb24nLCAnU3ByaW5nZXInKTsKc2V0X2F0dHJpYnV0ZSgna2F1cHBpbmVuMjAwMWEnLCAnZXhjZXJwdCcsICdBYnN0cmFjdCBEZWZpbmluZyBhbmQgbWFuYWdpbmcgY3VzdG9tZXIgcmVxdWlyZW1lbnRzIGlzIGJlY29taW5nIGluY3JlYXNpbmdseSBpbXBvcnRhbnQgaW4gcHJvZHVjdCBkZXZlbG9wbWVudC4gTWFueSBzb2Z0d2FyZSBvcmdhbml6YXRpb25zIGFyZSBpbnRlcmVzdGVkIGluIGltcHJvdmluZyB0aGVpciByZXF1aXJlbWVudHMgZW5naW5lZXJpbmcgcHJvY2Vzc2VzLCBidXQgdGhleSBkbyBub3Qga25vdyBob3cgYW5kIHdoZXJlIHRvIGJlZ2luLiBUaGlzICcpOwpzZXRfYXR0cmlidXRlKCdrYXVwcGluZW4yMDAxYScsICdjbHVzdGVyX2lkJywgJzE2MDk5MDM4MTgxNjM4MzUyNTY5Jyk7CnNldF9hdHRyaWJ1dGUoJ2thdXBwaW5lbjIwMDFhJywgJ3NjaG9sYXInLCAnaHR0cDovL3NjaG9sYXIuZ29vZ2xlLmNvbS9zY2hvbGFyP2NpdGVzPTE2MDk5MDM4MTgxNjM4MzUyNTY5JmFzX3NkdD0yMDA1JnNjaW9kdD0wLDUmaGw9ZW4nKTs=\"));\n",
       "    "
      ],
      "text/plain": [
       "<IPython.core.display.Javascript object>"
      ]
     },
     "metadata": {},
     "output_type": "display_data"
    },
    {
     "data": {
      "application/javascript": [
       "$('span:contains(\"# Temp\")').closest('.cell').remove();"
      ],
      "text/plain": [
       "<IPython.core.display.Javascript object>"
      ]
     },
     "metadata": {},
     "output_type": "display_data"
    },
    {
     "data": {
      "application/javascript": [
       "\n",
       "        $('span:contains(\"# Temp\")').closest('.cell').remove();\n",
       "        var code = IPython.notebook.insert_cell_below('code');\n",
       "        code.set_text(atob(\"IyBUZW1wCmluc2VydCgnJycKREIoQ2l0YXRpb24oCiAgICBrYXVwcGluZW4yMDAxYSwga2F1dHoyMDAwYSwgcmVmPSIiLAogICAgY29udGV4dHM9WwoKICAgIF0sCikpCgonJycsIGNpdGF0aW9ucz0na2F1dHoyMDAwYScpOwpzZXRfYXR0cmlidXRlKCdrYXVwcGluZW4yMDAxYScsICdvcmdhbml6YXRpb24nLCAnU3ByaW5nZXInKTsKc2V0X2F0dHJpYnV0ZSgna2F1cHBpbmVuMjAwMWEnLCAnZXhjZXJwdCcsICdBYnN0cmFjdCBEZWZpbmluZyBhbmQgbWFuYWdpbmcgY3VzdG9tZXIgcmVxdWlyZW1lbnRzIGlzIGJlY29taW5nIGluY3JlYXNpbmdseSBpbXBvcnRhbnQgaW4gcHJvZHVjdCBkZXZlbG9wbWVudC4gTWFueSBzb2Z0d2FyZSBvcmdhbml6YXRpb25zIGFyZSBpbnRlcmVzdGVkIGluIGltcHJvdmluZyB0aGVpciByZXF1aXJlbWVudHMgZW5naW5lZXJpbmcgcHJvY2Vzc2VzLCBidXQgdGhleSBkbyBub3Qga25vdyBob3cgYW5kIHdoZXJlIHRvIGJlZ2luLiBUaGlzICcpOwpzZXRfYXR0cmlidXRlKCdrYXVwcGluZW4yMDAxYScsICdjbHVzdGVyX2lkJywgJzE2MDk5MDM4MTgxNjM4MzUyNTY5Jyk7CnNldF9hdHRyaWJ1dGUoJ2thdXBwaW5lbjIwMDFhJywgJ3NjaG9sYXInLCAnaHR0cDovL3NjaG9sYXIuZ29vZ2xlLmNvbS9zY2hvbGFyP2NpdGVzPTE2MDk5MDM4MTgxNjM4MzUyNTY5JmFzX3NkdD0yMDA1JnNjaW9kdD0wLDUmaGw9ZW4nKTs=\"));\n",
       "    "
      ],
      "text/plain": [
       "<IPython.core.display.Javascript object>"
      ]
     },
     "metadata": {},
     "output_type": "display_data"
    },
    {
     "data": {
      "application/javascript": [
       "$('span:contains(\"# Temp\")').closest('.cell').remove();"
      ],
      "text/plain": [
       "<IPython.core.display.Javascript object>"
      ]
     },
     "metadata": {},
     "output_type": "display_data"
    },
    {
     "data": {
      "application/javascript": [
       "\n",
       "        $('span:contains(\"# Temp\")').closest('.cell').remove();\n",
       "        var code = IPython.notebook.insert_cell_below('code');\n",
       "        code.set_text(atob(\"IyBUZW1wCmluc2VydCgnJycKREIoQ2l0YXRpb24oCiAgICBwZXRlcnNlbjIwMTRhLCBrYXV0ejIwMDBhLCByZWY9IiIsCiAgICBjb250ZXh0cz1bCgogICAgXSwKKSkKCicnJywgY2l0YXRpb25zPSdrYXV0ejIwMDBhJyk7CnNldF9hdHRyaWJ1dGUoJ3BldGVyc2VuMjAxNGEnLCAnZXhjZXJwdCcsICdCYWNrZ3JvdW5kOiBBY3Rpb24gcmVzZWFyY2ggaXMgYSB3ZWxsLWVzdGFibGlzaGVkIHJlc2VhcmNoIG1ldGhvZG9sb2d5LiBJdCBpcyBmb2xsb3dpbmcgYSBwb3N0LXBvc2l0aXZpc3QgcmVzZWFyY2ggcGhpbG9zb3BoeSBncm91bmRlZCBpbiBjcml0aWNhbCB0aGlua2luZy4gVGhlIG1ldGhvZG9sb2d5IGlzIGRyaXZlbiBieSBwcmFjdGljYWwgcHJvYmxlbXMsIGVtcGhhc2lzIHBhcnRpY2lwYXRvcnkgcmVzZWFyY2gsIGFuZCBkZXZlbG9wcyBwcmFjdGljYWxseSB1c2VmdWwgJyk7\"));\n",
       "    "
      ],
      "text/plain": [
       "<IPython.core.display.Javascript object>"
      ]
     },
     "metadata": {},
     "output_type": "display_data"
    },
    {
     "data": {
      "application/javascript": [
       "$('span:contains(\"# Temp\")').closest('.cell').remove();"
      ],
      "text/plain": [
       "<IPython.core.display.Javascript object>"
      ]
     },
     "metadata": {},
     "output_type": "display_data"
    },
    {
     "data": {
      "application/javascript": [
       "\n",
       "        $('span:contains(\"# Temp\")').closest('.cell').remove();\n",
       "        var code = IPython.notebook.insert_cell_below('code');\n",
       "        code.set_text(atob(\"IyBUZW1wCmluc2VydCgnJycKREIoQ2l0YXRpb24oCiAgICBwZXRlcnNlbjIwMTRhLCBrYXV0ejIwMDBhLCByZWY9IiIsCiAgICBjb250ZXh0cz1bCgogICAgXSwKKSkKCicnJywgY2l0YXRpb25zPSdrYXV0ejIwMDBhJyk7CnNldF9hdHRyaWJ1dGUoJ3BldGVyc2VuMjAxNGEnLCAnZXhjZXJwdCcsICdCYWNrZ3JvdW5kOiBBY3Rpb24gcmVzZWFyY2ggaXMgYSB3ZWxsLWVzdGFibGlzaGVkIHJlc2VhcmNoIG1ldGhvZG9sb2d5LiBJdCBpcyBmb2xsb3dpbmcgYSBwb3N0LXBvc2l0aXZpc3QgcmVzZWFyY2ggcGhpbG9zb3BoeSBncm91bmRlZCBpbiBjcml0aWNhbCB0aGlua2luZy4gVGhlIG1ldGhvZG9sb2d5IGlzIGRyaXZlbiBieSBwcmFjdGljYWwgcHJvYmxlbXMsIGVtcGhhc2lzIHBhcnRpY2lwYXRvcnkgcmVzZWFyY2gsIGFuZCBkZXZlbG9wcyBwcmFjdGljYWxseSB1c2VmdWwgJyk7\"));\n",
       "    "
      ],
      "text/plain": [
       "<IPython.core.display.Javascript object>"
      ]
     },
     "metadata": {},
     "output_type": "display_data"
    },
    {
     "data": {
      "application/javascript": [
       "$('span:contains(\"# Temp\")').closest('.cell').remove();"
      ],
      "text/plain": [
       "<IPython.core.display.Javascript object>"
      ]
     },
     "metadata": {},
     "output_type": "display_data"
    },
    {
     "data": {
      "application/javascript": [
       "\n",
       "        $('span:contains(\"# Temp\")').closest('.cell').remove();\n",
       "        var code = IPython.notebook.insert_cell_below('code');\n",
       "        code.set_text(atob(\"IyBUZW1wCmluc2VydCgnJycKduRo5G5paXR0eTIwMDNhID0gREIoV29ya1VucmVsYXRlZCgKICAgIDIwMDMsICJLZXkgRGVjaXNpb25zIGluIFN0cmF0ZWdpYyBOZXcgUHJvZHVjdCBEZXZlbG9wbWVudCBmb3IgU21hbGwgU29mdHdhcmUgUHJvZHVjdCBCdXNpbmVzc2VzLiIsCiAgICBkaXNwbGF5PSJ25GjkbmlpdHR5IiwKICAgIGF1dGhvcnM9IlbkaORuaWl0dHksIEphcm5vIiwKICAgIHBsYWNlPUZBS0UsCiAgICBwcD0iMzc1LS0zODUiLAogICAgZW50cnl0eXBlPSJpbnByb2NlZWRpbmdzIiwKICAgIElEPSJ2YWhhbmlpdHR5MjAwM2tleSIsCiAgICBjbHVzdGVyX2lkPSIzMTcyMDM5OTEyMTUzNjg5NzMxIiwKICAgIHNjaG9sYXI9Imh0dHA6Ly9zY2hvbGFyLmdvb2dsZS5jb20vc2Nob2xhcj9jaXRlcz0zMTcyMDM5OTEyMTUzNjg5NzMxJmFzX3NkdD0yMDA1JnNjaW9kdD0wLDUmaGw9ZW4iLAogICAgcGxhY2V4PSJFVVJPTUlDUk8iLAopKQoKREIoQ2l0YXRpb24oCiAgICB25GjkbmlpdHR5MjAwM2EsIGthdXR6MjAwMGEsIHJlZj0iIiwKICAgIGNvbnRleHRzPVsKCiAgICBdLAopKQoKJycnLCBjaXRhdGlvbnM9J2thdXR6MjAwMGEnKTs=\"));\n",
       "    "
      ],
      "text/plain": [
       "<IPython.core.display.Javascript object>"
      ]
     },
     "metadata": {},
     "output_type": "display_data"
    },
    {
     "data": {
      "application/javascript": [
       "$('span:contains(\"# Temp\")').closest('.cell').remove();"
      ],
      "text/plain": [
       "<IPython.core.display.Javascript object>"
      ]
     },
     "metadata": {},
     "output_type": "display_data"
    },
    {
     "data": {
      "application/javascript": [
       "\n",
       "        $('span:contains(\"# Temp\")').closest('.cell').remove();\n",
       "        var code = IPython.notebook.insert_cell_below('code');\n",
       "        code.set_text(atob(\"IyBUZW1wCmluc2VydCgnJycKduRo5G5paXR0eTIwMDNhID0gREIoV29ya1VucmVsYXRlZCgKICAgIDIwMDMsICJLZXkgRGVjaXNpb25zIGluIFN0cmF0ZWdpYyBOZXcgUHJvZHVjdCBEZXZlbG9wbWVudCBmb3IgU21hbGwgU29mdHdhcmUgUHJvZHVjdCBCdXNpbmVzc2VzLiIsCiAgICBkaXNwbGF5PSJ25GjkbmlpdHR5IiwKICAgIGF1dGhvcnM9IlbkaORuaWl0dHksIEphcm5vIiwKICAgIHBsYWNlPUZBS0UsCiAgICBwcD0iMzc1LS0zODUiLAogICAgZW50cnl0eXBlPSJpbnByb2NlZWRpbmdzIiwKICAgIElEPSJ2YWhhbmlpdHR5MjAwM2tleSIsCiAgICBjbHVzdGVyX2lkPSIzMTcyMDM5OTEyMTUzNjg5NzMxIiwKICAgIHNjaG9sYXI9Imh0dHA6Ly9zY2hvbGFyLmdvb2dsZS5jb20vc2Nob2xhcj9jaXRlcz0zMTcyMDM5OTEyMTUzNjg5NzMxJmFzX3NkdD0yMDA1JnNjaW9kdD0wLDUmaGw9ZW4iLAogICAgcGxhY2V4PSJFVVJPTUlDUk8iLAopKQoKREIoQ2l0YXRpb24oCiAgICB25GjkbmlpdHR5MjAwM2EsIGthdXR6MjAwMGEsIHJlZj0iIiwKICAgIGNvbnRleHRzPVsKCiAgICBdLAopKQoKJycnLCBjaXRhdGlvbnM9J2thdXR6MjAwMGEnKTs=\"));\n",
       "    "
      ],
      "text/plain": [
       "<IPython.core.display.Javascript object>"
      ]
     },
     "metadata": {},
     "output_type": "display_data"
    },
    {
     "data": {
      "application/javascript": [
       "$('span:contains(\"# Temp\")').closest('.cell').remove();"
      ],
      "text/plain": [
       "<IPython.core.display.Javascript object>"
      ]
     },
     "metadata": {},
     "output_type": "display_data"
    },
    {
     "data": {
      "application/javascript": [
       "\n",
       "        $('span:contains(\"# Temp\")').closest('.cell').remove();\n",
       "        var code = IPython.notebook.insert_cell_below('code');\n",
       "        code.set_text(atob(\"IyBUZW1wCmluc2VydCgnJycKYWxhZ2Fyc2FteTIwMDdhID0gREIoV29ya1VucmVsYXRlZCgKICAgIDIwMDcsICJPbiB0aGUgaW1wbGVtZW50YXRpb24gb2YgYSBrbm93bGVkZ2UgbWFuYWdlbWVudCB0b29sIGZvciBTUEkiLAogICAgZGlzcGxheT0iYWxhZ2Fyc2FteSIsCiAgICBhdXRob3JzPSJBbGFnYXJzYW15LCBLIGFuZCBKdXN0dXMsIFMgYW5kIEl5YWt1dHRpLCBLIiwKICAgIHBsYWNlPUZBS0UsCiAgICBwcD0iNDgtLTU1IiwKICAgIGVudHJ5dHlwZT0iaW5wcm9jZWVkaW5ncyIsCiAgICB2b2x1bWU9IjIiLAogICAgb3JnYW5pemF0aW9uPSJJRUVFIiwKICAgIElEPSJhbGFnYXJzYW15MjAwN2ltcGxlbWVudGF0aW9uIiwKICAgIGNsdXN0ZXJfaWQ9IjY0MjcxNjAwMjEyNTgxMzgyNTgiLAogICAgc2Nob2xhcj0iaHR0cDovL3NjaG9sYXIuZ29vZ2xlLmNvbS9zY2hvbGFyP2NpdGVzPTY0MjcxNjAwMjEyNTgxMzgyNTgmYXNfc2R0PTIwMDUmc2Npb2R0PTAsNSZobD1lbiIsCiAgICBwbGFjZXg9IkNvbmZlcmVuY2Ugb24gQ29tcHV0YXRpb25hbCBJbnRlbGxpZ2VuY2UgYW5kIE11bHRpbWVkaWEgQXBwbGljYXRpb25zLCAyMDA3LiBJbnRlcm5hdGlvbmFsIENvbmZlcmVuY2Ugb24iLAopKQoKREIoQ2l0YXRpb24oCiAgICBhbGFnYXJzYW15MjAwN2EsIGthdXR6MjAwMGEsIHJlZj0iIiwKICAgIGNvbnRleHRzPVsKCiAgICBdLAopKQoKJycnLCBjaXRhdGlvbnM9J2thdXR6MjAwMGEnKTs=\"));\n",
       "    "
      ],
      "text/plain": [
       "<IPython.core.display.Javascript object>"
      ]
     },
     "metadata": {},
     "output_type": "display_data"
    },
    {
     "data": {
      "application/javascript": [
       "$('span:contains(\"# Temp\")').closest('.cell').remove();"
      ],
      "text/plain": [
       "<IPython.core.display.Javascript object>"
      ]
     },
     "metadata": {},
     "output_type": "display_data"
    },
    {
     "data": {
      "application/javascript": [
       "\n",
       "        $('span:contains(\"# Temp\")').closest('.cell').remove();\n",
       "        var code = IPython.notebook.insert_cell_below('code');\n",
       "        code.set_text(atob(\"IyBUZW1wCmluc2VydCgnJycKYWxhZ2Fyc2FteTIwMDdhID0gREIoV29ya1VucmVsYXRlZCgKICAgIDIwMDcsICJPbiB0aGUgaW1wbGVtZW50YXRpb24gb2YgYSBrbm93bGVkZ2UgbWFuYWdlbWVudCB0b29sIGZvciBTUEkiLAogICAgZGlzcGxheT0iYWxhZ2Fyc2FteSIsCiAgICBhdXRob3JzPSJBbGFnYXJzYW15LCBLIGFuZCBKdXN0dXMsIFMgYW5kIEl5YWt1dHRpLCBLIiwKICAgIHBsYWNlPUZBS0UsCiAgICBwcD0iNDgtLTU1IiwKICAgIGVudHJ5dHlwZT0iaW5wcm9jZWVkaW5ncyIsCiAgICB2b2x1bWU9IjIiLAogICAgb3JnYW5pemF0aW9uPSJJRUVFIiwKICAgIElEPSJhbGFnYXJzYW15MjAwN2ltcGxlbWVudGF0aW9uIiwKICAgIGNsdXN0ZXJfaWQ9IjY0MjcxNjAwMjEyNTgxMzgyNTgiLAogICAgc2Nob2xhcj0iaHR0cDovL3NjaG9sYXIuZ29vZ2xlLmNvbS9zY2hvbGFyP2NpdGVzPTY0MjcxNjAwMjEyNTgxMzgyNTgmYXNfc2R0PTIwMDUmc2Npb2R0PTAsNSZobD1lbiIsCiAgICBwbGFjZXg9IkNvbmZlcmVuY2Ugb24gQ29tcHV0YXRpb25hbCBJbnRlbGxpZ2VuY2UgYW5kIE11bHRpbWVkaWEgQXBwbGljYXRpb25zLCAyMDA3LiBJbnRlcm5hdGlvbmFsIENvbmZlcmVuY2Ugb24iLAopKQoKREIoQ2l0YXRpb24oCiAgICBhbGFnYXJzYW15MjAwN2EsIGthdXR6MjAwMGEsIHJlZj0iIiwKICAgIGNvbnRleHRzPVsKCiAgICBdLAopKQoKJycnLCBjaXRhdGlvbnM9J2thdXR6MjAwMGEnKTs=\"));\n",
       "    "
      ],
      "text/plain": [
       "<IPython.core.display.Javascript object>"
      ]
     },
     "metadata": {},
     "output_type": "display_data"
    },
    {
     "data": {
      "application/javascript": [
       "$('span:contains(\"# Temp\")').closest('.cell').remove();"
      ],
      "text/plain": [
       "<IPython.core.display.Javascript object>"
      ]
     },
     "metadata": {},
     "output_type": "display_data"
    },
    {
     "data": {
      "application/javascript": [
       "\n",
       "        $('span:contains(\"# Temp\")').closest('.cell').remove();\n",
       "        var code = IPython.notebook.insert_cell_below('code');\n",
       "        code.set_text(atob(\"IyBUZW1wCmluc2VydCgnJycKa2F1dHoyMDAxYSA9IERCKFdvcmtVbnJlbGF0ZWQoCiAgICAyMDAxLCAiVW5kZXJzdGFuZGluZyBhbmQgY2hhbmdpbmcgc29mdHdhcmUgb3JnYW5pc2F0aW9uczogYW4gZXhwbG9yYXRpb24gb2YgZm91ciBwZXJzcGVjdGl2ZXMgb24gc29mdHdhcmUgcHJvY2VzcyBpbXByb3ZlbWVudCIsCiAgICBkaXNwbGF5PSJrYXV0eiIsCiAgICBhdXRob3JzPSJLYXV0eiwgS2FybGhlaW56IGFuZCBIYW5zZW4sIEhlbnJpayBXZXN0ZXJnYWFyZCBhbmQgVGhheXNlbiwgS2ltIiwKICAgIHBsYWNlPUZBS0UsCiAgICBwcD0iNCIsCiAgICBlbnRyeXR5cGU9ImFydGljbGUiLAogICAgdm9sdW1lPSIxMyIsCiAgICBudW1iZXI9IjEiLAogICAgSUQ9ImthdXR6MjAwMXVuZGVyc3RhbmRpbmciLAogICAgY2x1c3Rlcl9pZD0iMTgyODE4MzkxMjcxOTQwOTU1MTciLAogICAgc2Nob2xhcj0iaHR0cDovL3NjaG9sYXIuZ29vZ2xlLmNvbS9zY2hvbGFyP2NpdGVzPTE4MjgxODM5MTI3MTk0MDk1NTE3JmFzX3NkdD0yMDA1JnNjaW9kdD0wLDUmaGw9ZW4iLAogICAgcGxhY2V4PSJTY2FuZGluYXZpYW4gSm91cm5hbCBvZiBJbmZvcm1hdGlvbiBTeXN0ZW1zIiwKKSkKCkRCKENpdGF0aW9uKAogICAga2F1dHoyMDAxYSwga2F1dHoyMDAwYSwgcmVmPSIiLAogICAgY29udGV4dHM9WwoKICAgIF0sCikpCgonJycsIGNpdGF0aW9ucz0na2F1dHoyMDAwYScpOw==\"));\n",
       "    "
      ],
      "text/plain": [
       "<IPython.core.display.Javascript object>"
      ]
     },
     "metadata": {},
     "output_type": "display_data"
    },
    {
     "data": {
      "application/javascript": [
       "$('span:contains(\"# Temp\")').closest('.cell').remove();"
      ],
      "text/plain": [
       "<IPython.core.display.Javascript object>"
      ]
     },
     "metadata": {},
     "output_type": "display_data"
    },
    {
     "data": {
      "application/javascript": [
       "\n",
       "        $('span:contains(\"# Temp\")').closest('.cell').remove();\n",
       "        var code = IPython.notebook.insert_cell_below('code');\n",
       "        code.set_text(atob(\"IyBUZW1wCmluc2VydCgnJycKa2F1dHoyMDAxYSA9IERCKFdvcmtVbnJlbGF0ZWQoCiAgICAyMDAxLCAiVW5kZXJzdGFuZGluZyBhbmQgY2hhbmdpbmcgc29mdHdhcmUgb3JnYW5pc2F0aW9uczogYW4gZXhwbG9yYXRpb24gb2YgZm91ciBwZXJzcGVjdGl2ZXMgb24gc29mdHdhcmUgcHJvY2VzcyBpbXByb3ZlbWVudCIsCiAgICBkaXNwbGF5PSJrYXV0eiIsCiAgICBhdXRob3JzPSJLYXV0eiwgS2FybGhlaW56IGFuZCBIYW5zZW4sIEhlbnJpayBXZXN0ZXJnYWFyZCBhbmQgVGhheXNlbiwgS2ltIiwKICAgIHBsYWNlPUZBS0UsCiAgICBwcD0iNCIsCiAgICBlbnRyeXR5cGU9ImFydGljbGUiLAogICAgdm9sdW1lPSIxMyIsCiAgICBudW1iZXI9IjEiLAogICAgSUQ9ImthdXR6MjAwMXVuZGVyc3RhbmRpbmciLAogICAgY2x1c3Rlcl9pZD0iMTgyODE4MzkxMjcxOTQwOTU1MTciLAogICAgc2Nob2xhcj0iaHR0cDovL3NjaG9sYXIuZ29vZ2xlLmNvbS9zY2hvbGFyP2NpdGVzPTE4MjgxODM5MTI3MTk0MDk1NTE3JmFzX3NkdD0yMDA1JnNjaW9kdD0wLDUmaGw9ZW4iLAogICAgcGxhY2V4PSJTY2FuZGluYXZpYW4gSm91cm5hbCBvZiBJbmZvcm1hdGlvbiBTeXN0ZW1zIiwKKSkKCkRCKENpdGF0aW9uKAogICAga2F1dHoyMDAxYSwga2F1dHoyMDAwYSwgcmVmPSIiLAogICAgY29udGV4dHM9WwoKICAgIF0sCikpCgonJycsIGNpdGF0aW9ucz0na2F1dHoyMDAwYScpOw==\"));\n",
       "    "
      ],
      "text/plain": [
       "<IPython.core.display.Javascript object>"
      ]
     },
     "metadata": {},
     "output_type": "display_data"
    },
    {
     "data": {
      "application/javascript": [
       "$('span:contains(\"# Temp\")').closest('.cell').remove();"
      ],
      "text/plain": [
       "<IPython.core.display.Javascript object>"
      ]
     },
     "metadata": {},
     "output_type": "display_data"
    },
    {
     "data": {
      "application/javascript": [
       "\n",
       "        $('span:contains(\"# Temp\")').closest('.cell').remove();\n",
       "        var code = IPython.notebook.insert_cell_below('code');\n",
       "        code.set_text(atob(\"IyBUZW1wCmluc2VydCgnJycKbGVpaDIwMDZhID0gREIoV29ya1VucmVsYXRlZCgKICAgIDIwMDYsICJUaGUgaW1wYWN0IG9mIHRoZSBTYXJiYW5lcy1PeGxleSBBY3Qgb24gSVQgcHJvamVjdCBtYW5hZ2VtZW50IiwKICAgIGRpc3BsYXk9ImxlaWgiLAogICAgYXV0aG9ycz0iTGVpaCwgTWljaGFlbCBKIiwKICAgIHBsYWNlPUZBS0UsCiAgICBwcD0iMTMiLAogICAgZW50cnl0eXBlPSJhcnRpY2xlIiwKICAgIHZvbHVtZT0iOCIsCiAgICBudW1iZXI9IjMiLAogICAgcHVibGlzaGVyPSJBc3NvY2lhdGlvbiBmb3IgSW5mb3JtYXRpb24gU3lzdGVtcyIsCiAgICBJRD0ibGVpaDIwMDZpbXBhY3QiLAogICAgY2x1c3Rlcl9pZD0iMTE3NTM5NzA5NjYyOTQ1MjM1MTMiLAogICAgc2Nob2xhcj0iaHR0cDovL3NjaG9sYXIuZ29vZ2xlLmNvbS9zY2hvbGFyP2NpdGVzPTExNzUzOTcwOTY2Mjk0NTIzNTEzJmFzX3NkdD0yMDA1JnNjaW9kdD0wLDUmaGw9ZW4iLAogICAgcGxhY2V4PSJKSVRUQTogSm91cm5hbCBvZiBJbmZvcm1hdGlvbiBUZWNobm9sb2d5IFRoZW9yeSBhbmQgQXBwbGljYXRpb24iLAopKQoKREIoQ2l0YXRpb24oCiAgICBsZWloMjAwNmEsIGthdXR6MjAwMGEsIHJlZj0iIiwKICAgIGNvbnRleHRzPVsKCiAgICBdLAopKQoKJycnLCBjaXRhdGlvbnM9J2thdXR6MjAwMGEnKTs=\"));\n",
       "    "
      ],
      "text/plain": [
       "<IPython.core.display.Javascript object>"
      ]
     },
     "metadata": {},
     "output_type": "display_data"
    },
    {
     "data": {
      "application/javascript": [
       "$('span:contains(\"# Temp\")').closest('.cell').remove();"
      ],
      "text/plain": [
       "<IPython.core.display.Javascript object>"
      ]
     },
     "metadata": {},
     "output_type": "display_data"
    },
    {
     "data": {
      "application/javascript": [
       "\n",
       "        $('span:contains(\"# Temp\")').closest('.cell').remove();\n",
       "        var code = IPython.notebook.insert_cell_below('code');\n",
       "        code.set_text(atob(\"IyBUZW1wCmluc2VydCgnJycKbGVpaDIwMDZhID0gREIoV29ya1VucmVsYXRlZCgKICAgIDIwMDYsICJUaGUgaW1wYWN0IG9mIHRoZSBTYXJiYW5lcy1PeGxleSBBY3Qgb24gSVQgcHJvamVjdCBtYW5hZ2VtZW50IiwKICAgIGRpc3BsYXk9ImxlaWgiLAogICAgYXV0aG9ycz0iTGVpaCwgTWljaGFlbCBKIiwKICAgIHBsYWNlPUZBS0UsCiAgICBwcD0iMTMiLAogICAgZW50cnl0eXBlPSJhcnRpY2xlIiwKICAgIHZvbHVtZT0iOCIsCiAgICBudW1iZXI9IjMiLAogICAgcHVibGlzaGVyPSJBc3NvY2lhdGlvbiBmb3IgSW5mb3JtYXRpb24gU3lzdGVtcyIsCiAgICBJRD0ibGVpaDIwMDZpbXBhY3QiLAogICAgY2x1c3Rlcl9pZD0iMTE3NTM5NzA5NjYyOTQ1MjM1MTMiLAogICAgc2Nob2xhcj0iaHR0cDovL3NjaG9sYXIuZ29vZ2xlLmNvbS9zY2hvbGFyP2NpdGVzPTExNzUzOTcwOTY2Mjk0NTIzNTEzJmFzX3NkdD0yMDA1JnNjaW9kdD0wLDUmaGw9ZW4iLAogICAgcGxhY2V4PSJKSVRUQTogSm91cm5hbCBvZiBJbmZvcm1hdGlvbiBUZWNobm9sb2d5IFRoZW9yeSBhbmQgQXBwbGljYXRpb24iLAopKQoKREIoQ2l0YXRpb24oCiAgICBsZWloMjAwNmEsIGthdXR6MjAwMGEsIHJlZj0iIiwKICAgIGNvbnRleHRzPVsKCiAgICBdLAopKQoKJycnLCBjaXRhdGlvbnM9J2thdXR6MjAwMGEnKTs=\"));\n",
       "    "
      ],
      "text/plain": [
       "<IPython.core.display.Javascript object>"
      ]
     },
     "metadata": {},
     "output_type": "display_data"
    },
    {
     "data": {
      "application/javascript": [
       "$('span:contains(\"# Temp\")').closest('.cell').remove();"
      ],
      "text/plain": [
       "<IPython.core.display.Javascript object>"
      ]
     },
     "metadata": {},
     "output_type": "display_data"
    },
    {
     "data": {
      "application/javascript": [
       "\n",
       "        $('span:contains(\"# Temp\")').closest('.cell').remove();\n",
       "        var code = IPython.notebook.insert_cell_below('code');\n",
       "        code.set_text(atob(\"IyBUZW1wCmluc2VydCgnJycKREIoQ2l0YXRpb24oCiAgICBtaXNocmEyMDA4YSwga2F1dHoyMDAwYSwgcmVmPSIiLAogICAgY29udGV4dHM9WwoKICAgIF0sCikpCgonJycsIGNpdGF0aW9ucz0na2F1dHoyMDAwYScpOwpzZXRfYXR0cmlidXRlKCdtaXNocmEyMDA4YScsICdwcCcsICcyNzMtLTI4OCcpOwpzZXRfYXR0cmlidXRlKCdtaXNocmEyMDA4YScsICdvcmdhbml6YXRpb24nLCAnU3ByaW5nZXInKTsKc2V0X2F0dHJpYnV0ZSgnbWlzaHJhMjAwOGEnLCAnZXhjZXJwdCcsICdBYnN0cmFjdCBUb2RheSwgdGhlIHNvZnR3YXJlIGluZHVzdHJ5IGlzIG9uZSBvZiB0aGUgbW9zdCByYXBpZGx5IGdyb3dpbmcgc2VjdG9ycyBhbmQgc21hbGwgc29mdHdhcmUgZGV2ZWxvcG1lbnQgY29tcGFuaWVzIHBsYXkgYW4gaW1wb3J0YW50IHJvbGUgaW4gZWNvbm9teS4gTWFueSBzdWNoIG9yZ2FuaXphdGlvbnMgaGF2ZSBiZWVuIGludGVyZXN0ZWQgaW4gU29mdHdhcmUgUHJvY2VzcyBJbXByb3ZlbWVudCAoU1BJKS4gSXQgaGFzIGJlZW4gJyk7CnNldF9hdHRyaWJ1dGUoJ21pc2hyYTIwMDhhJywgJ2NsdXN0ZXJfaWQnLCAnNDU4NjQwMTIzMzE1MDQ0MjYwMycpOwpzZXRfYXR0cmlidXRlKCdtaXNocmEyMDA4YScsICdzY2hvbGFyJywgJ2h0dHA6Ly9zY2hvbGFyLmdvb2dsZS5jb20vc2Nob2xhcj9jaXRlcz00NTg2NDAxMjMzMTUwNDQyNjAzJmFzX3NkdD0yMDA1JnNjaW9kdD0wLDUmaGw9ZW4nKTs=\"));\n",
       "    "
      ],
      "text/plain": [
       "<IPython.core.display.Javascript object>"
      ]
     },
     "metadata": {},
     "output_type": "display_data"
    },
    {
     "data": {
      "application/javascript": [
       "$('span:contains(\"# Temp\")').closest('.cell').remove();"
      ],
      "text/plain": [
       "<IPython.core.display.Javascript object>"
      ]
     },
     "metadata": {},
     "output_type": "display_data"
    },
    {
     "data": {
      "application/javascript": [
       "\n",
       "        $('span:contains(\"# Temp\")').closest('.cell').remove();\n",
       "        var code = IPython.notebook.insert_cell_below('code');\n",
       "        code.set_text(atob(\"IyBUZW1wCmluc2VydCgnJycKREIoQ2l0YXRpb24oCiAgICBtaXNocmEyMDA4YSwga2F1dHoyMDAwYSwgcmVmPSIiLAogICAgY29udGV4dHM9WwoKICAgIF0sCikpCgonJycsIGNpdGF0aW9ucz0na2F1dHoyMDAwYScpOwpzZXRfYXR0cmlidXRlKCdtaXNocmEyMDA4YScsICdwcCcsICcyNzMtLTI4OCcpOwpzZXRfYXR0cmlidXRlKCdtaXNocmEyMDA4YScsICdvcmdhbml6YXRpb24nLCAnU3ByaW5nZXInKTsKc2V0X2F0dHJpYnV0ZSgnbWlzaHJhMjAwOGEnLCAnZXhjZXJwdCcsICdBYnN0cmFjdCBUb2RheSwgdGhlIHNvZnR3YXJlIGluZHVzdHJ5IGlzIG9uZSBvZiB0aGUgbW9zdCByYXBpZGx5IGdyb3dpbmcgc2VjdG9ycyBhbmQgc21hbGwgc29mdHdhcmUgZGV2ZWxvcG1lbnQgY29tcGFuaWVzIHBsYXkgYW4gaW1wb3J0YW50IHJvbGUgaW4gZWNvbm9teS4gTWFueSBzdWNoIG9yZ2FuaXphdGlvbnMgaGF2ZSBiZWVuIGludGVyZXN0ZWQgaW4gU29mdHdhcmUgUHJvY2VzcyBJbXByb3ZlbWVudCAoU1BJKS4gSXQgaGFzIGJlZW4gJyk7CnNldF9hdHRyaWJ1dGUoJ21pc2hyYTIwMDhhJywgJ2NsdXN0ZXJfaWQnLCAnNDU4NjQwMTIzMzE1MDQ0MjYwMycpOwpzZXRfYXR0cmlidXRlKCdtaXNocmEyMDA4YScsICdzY2hvbGFyJywgJ2h0dHA6Ly9zY2hvbGFyLmdvb2dsZS5jb20vc2Nob2xhcj9jaXRlcz00NTg2NDAxMjMzMTUwNDQyNjAzJmFzX3NkdD0yMDA1JnNjaW9kdD0wLDUmaGw9ZW4nKTs=\"));\n",
       "    "
      ],
      "text/plain": [
       "<IPython.core.display.Javascript object>"
      ]
     },
     "metadata": {},
     "output_type": "display_data"
    },
    {
     "data": {
      "application/javascript": [
       "$('span:contains(\"# Temp\")').closest('.cell').remove();"
      ],
      "text/plain": [
       "<IPython.core.display.Javascript object>"
      ]
     },
     "metadata": {},
     "output_type": "display_data"
    },
    {
     "data": {
      "application/javascript": [
       "\n",
       "        $('span:contains(\"# Temp\")').closest('.cell').remove();\n",
       "        var code = IPython.notebook.insert_cell_below('code');\n",
       "        code.set_text(atob(\"IyBUZW1wCmluc2VydCgnJycKc3ZhaG5iZXJnMjAxM2EgPSBEQihXb3JrVW5yZWxhdGVkKAogICAgMjAxMywgIlVuaS1SRVBNOiB2YWxpZGF0ZWQgYW5kIGltcHJvdmVkIiwKICAgIGRpc3BsYXk9InN2YWhuYmVyZyIsCiAgICBhdXRob3JzPSJTdmFobmJlcmcsIE1pa2FlbCBhbmQgR29yc2NoZWssIFRvbnkgYW5kIE5ndXllbiwgVGhpIFRoYW4gTG9hbiBhbmQgTmd1eWVuLCBNYWkiLAogICAgcGxhY2U9RkFLRSwKICAgIHBwPSI4NS0tMTAzIiwKICAgIGVudHJ5dHlwZT0iYXJ0aWNsZSIsCiAgICB2b2x1bWU9IjE4IiwKICAgIG51bWJlcj0iMSIsCiAgICBwdWJsaXNoZXI9IlNwcmluZ2VyIiwKICAgIElEPSJzdmFobmJlcmcyMDEzdW5pIiwKICAgIGNsdXN0ZXJfaWQ9IjEzNTk1Mzc2NDc4ODQ3MDY2NzgiLAogICAgc2Nob2xhcj0iaHR0cDovL3NjaG9sYXIuZ29vZ2xlLmNvbS9zY2hvbGFyP2NpdGVzPTEzNTk1Mzc2NDc4ODQ3MDY2NzgmYXNfc2R0PTIwMDUmc2Npb2R0PTAsNSZobD1lbiIsCiAgICBwbGFjZXg9IlJlcXVpcmVtZW50cyBFbmdpbmVlcmluZyIsCikpCgpEQihDaXRhdGlvbigKICAgIHN2YWhuYmVyZzIwMTNhLCBrYXV0ejIwMDBhLCByZWY9IiIsCiAgICBjb250ZXh0cz1bCgogICAgXSwKKSkKCicnJywgY2l0YXRpb25zPSdrYXV0ejIwMDBhJyk7\"));\n",
       "    "
      ],
      "text/plain": [
       "<IPython.core.display.Javascript object>"
      ]
     },
     "metadata": {},
     "output_type": "display_data"
    },
    {
     "data": {
      "application/javascript": [
       "$('span:contains(\"# Temp\")').closest('.cell').remove();"
      ],
      "text/plain": [
       "<IPython.core.display.Javascript object>"
      ]
     },
     "metadata": {},
     "output_type": "display_data"
    },
    {
     "data": {
      "application/javascript": [
       "\n",
       "        $('span:contains(\"# Temp\")').closest('.cell').remove();\n",
       "        var code = IPython.notebook.insert_cell_below('code');\n",
       "        code.set_text(atob(\"IyBUZW1wCmluc2VydCgnJycKc3ZhaG5iZXJnMjAxM2EgPSBEQihXb3JrVW5yZWxhdGVkKAogICAgMjAxMywgIlVuaS1SRVBNOiB2YWxpZGF0ZWQgYW5kIGltcHJvdmVkIiwKICAgIGRpc3BsYXk9InN2YWhuYmVyZyIsCiAgICBhdXRob3JzPSJTdmFobmJlcmcsIE1pa2FlbCBhbmQgR29yc2NoZWssIFRvbnkgYW5kIE5ndXllbiwgVGhpIFRoYW4gTG9hbiBhbmQgTmd1eWVuLCBNYWkiLAogICAgcGxhY2U9RkFLRSwKICAgIHBwPSI4NS0tMTAzIiwKICAgIGVudHJ5dHlwZT0iYXJ0aWNsZSIsCiAgICB2b2x1bWU9IjE4IiwKICAgIG51bWJlcj0iMSIsCiAgICBwdWJsaXNoZXI9IlNwcmluZ2VyIiwKICAgIElEPSJzdmFobmJlcmcyMDEzdW5pIiwKICAgIGNsdXN0ZXJfaWQ9IjEzNTk1Mzc2NDc4ODQ3MDY2NzgiLAogICAgc2Nob2xhcj0iaHR0cDovL3NjaG9sYXIuZ29vZ2xlLmNvbS9zY2hvbGFyP2NpdGVzPTEzNTk1Mzc2NDc4ODQ3MDY2NzgmYXNfc2R0PTIwMDUmc2Npb2R0PTAsNSZobD1lbiIsCiAgICBwbGFjZXg9IlJlcXVpcmVtZW50cyBFbmdpbmVlcmluZyIsCikpCgpEQihDaXRhdGlvbigKICAgIHN2YWhuYmVyZzIwMTNhLCBrYXV0ejIwMDBhLCByZWY9IiIsCiAgICBjb250ZXh0cz1bCgogICAgXSwKKSkKCicnJywgY2l0YXRpb25zPSdrYXV0ejIwMDBhJyk7\"));\n",
       "    "
      ],
      "text/plain": [
       "<IPython.core.display.Javascript object>"
      ]
     },
     "metadata": {},
     "output_type": "display_data"
    },
    {
     "data": {
      "application/javascript": [
       "$('span:contains(\"# Temp\")').closest('.cell').remove();"
      ],
      "text/plain": [
       "<IPython.core.display.Javascript object>"
      ]
     },
     "metadata": {},
     "output_type": "display_data"
    },
    {
     "data": {
      "application/javascript": [
       "\n",
       "        $('span:contains(\"# Temp\")').closest('.cell').remove();\n",
       "        var code = IPython.notebook.insert_cell_below('code');\n",
       "        code.set_text(atob(\"IyBUZW1wCmluc2VydCgnJycKdGpvcm5laG9qMjAwOGEgPSBEQihXb3JrVW5yZWxhdGVkKAogICAgMjAwOCwgIkJldHdlZW4gY29udHJvbCBhbmQgZHJpZnQ6IG5lZ290aWF0aW5nIGltcHJvdmVtZW50IGluIGEgc21hbGwgc29mdHdhcmUgZmlybSIsCiAgICBkaXNwbGF5PSJ0am9ybmVob2oiLAogICAgYXV0aG9ycz0iVGpvcm5laG9qLCBHaXR0ZSBhbmQgTWF0aGlhc3NlbiwgTGFycyIsCiAgICBwbGFjZT1GQUtFLAogICAgcHA9IjY5LS05MCIsCiAgICBlbnRyeXR5cGU9ImFydGljbGUiLAogICAgdm9sdW1lPSIyMSIsCiAgICBudW1iZXI9IjEiLAogICAgcHVibGlzaGVyPSJFbWVyYWxkIEdyb3VwIFB1Ymxpc2hpbmcgTGltaXRlZCIsCiAgICBJRD0idGpvcm5laG9qMjAwOGJldHdlZW4iLAogICAgY2x1c3Rlcl9pZD0iMTU0MDI4OTUyMDA5NDc1NzM3NjAiLAogICAgc2Nob2xhcj0iaHR0cDovL3NjaG9sYXIuZ29vZ2xlLmNvbS9zY2hvbGFyP2NpdGVzPTE1NDAyODk1MjAwOTQ3NTczNzYwJmFzX3NkdD0yMDA1JnNjaW9kdD0wLDUmaGw9ZW4iLAogICAgcGxhY2V4PSJJbmZvcm1hdGlvbiBUZWNobm9sb2d5ICYgUGVvcGxlIiwKKSkKCkRCKENpdGF0aW9uKAogICAgdGpvcm5laG9qMjAwOGEsIGthdXR6MjAwMGEsIHJlZj0iIiwKICAgIGNvbnRleHRzPVsKCiAgICBdLAopKQoKJycnLCBjaXRhdGlvbnM9J2thdXR6MjAwMGEnKTs=\"));\n",
       "    "
      ],
      "text/plain": [
       "<IPython.core.display.Javascript object>"
      ]
     },
     "metadata": {},
     "output_type": "display_data"
    },
    {
     "data": {
      "application/javascript": [
       "$('span:contains(\"# Temp\")').closest('.cell').remove();"
      ],
      "text/plain": [
       "<IPython.core.display.Javascript object>"
      ]
     },
     "metadata": {},
     "output_type": "display_data"
    },
    {
     "data": {
      "application/javascript": [
       "\n",
       "        $('span:contains(\"# Temp\")').closest('.cell').remove();\n",
       "        var code = IPython.notebook.insert_cell_below('code');\n",
       "        code.set_text(atob(\"IyBUZW1wCmluc2VydCgnJycKdGpvcm5laG9qMjAwOGEgPSBEQihXb3JrVW5yZWxhdGVkKAogICAgMjAwOCwgIkJldHdlZW4gY29udHJvbCBhbmQgZHJpZnQ6IG5lZ290aWF0aW5nIGltcHJvdmVtZW50IGluIGEgc21hbGwgc29mdHdhcmUgZmlybSIsCiAgICBkaXNwbGF5PSJ0am9ybmVob2oiLAogICAgYXV0aG9ycz0iVGpvcm5laG9qLCBHaXR0ZSBhbmQgTWF0aGlhc3NlbiwgTGFycyIsCiAgICBwbGFjZT1GQUtFLAogICAgcHA9IjY5LS05MCIsCiAgICBlbnRyeXR5cGU9ImFydGljbGUiLAogICAgdm9sdW1lPSIyMSIsCiAgICBudW1iZXI9IjEiLAogICAgcHVibGlzaGVyPSJFbWVyYWxkIEdyb3VwIFB1Ymxpc2hpbmcgTGltaXRlZCIsCiAgICBJRD0idGpvcm5laG9qMjAwOGJldHdlZW4iLAogICAgY2x1c3Rlcl9pZD0iMTU0MDI4OTUyMDA5NDc1NzM3NjAiLAogICAgc2Nob2xhcj0iaHR0cDovL3NjaG9sYXIuZ29vZ2xlLmNvbS9zY2hvbGFyP2NpdGVzPTE1NDAyODk1MjAwOTQ3NTczNzYwJmFzX3NkdD0yMDA1JnNjaW9kdD0wLDUmaGw9ZW4iLAogICAgcGxhY2V4PSJJbmZvcm1hdGlvbiBUZWNobm9sb2d5ICYgUGVvcGxlIiwKKSkKCkRCKENpdGF0aW9uKAogICAgdGpvcm5laG9qMjAwOGEsIGthdXR6MjAwMGEsIHJlZj0iIiwKICAgIGNvbnRleHRzPVsKCiAgICBdLAopKQoKJycnLCBjaXRhdGlvbnM9J2thdXR6MjAwMGEnKTs=\"));\n",
       "    "
      ],
      "text/plain": [
       "<IPython.core.display.Javascript object>"
      ]
     },
     "metadata": {},
     "output_type": "display_data"
    },
    {
     "data": {
      "application/javascript": [
       "$('span:contains(\"# Temp\")').closest('.cell').remove();"
      ],
      "text/plain": [
       "<IPython.core.display.Javascript object>"
      ]
     },
     "metadata": {},
     "output_type": "display_data"
    },
    {
     "data": {
      "application/javascript": [
       "\n",
       "        $('span:contains(\"# Temp\")').closest('.cell').remove();\n",
       "        var code = IPython.notebook.insert_cell_below('code');\n",
       "        code.set_text(atob(\"IyBUZW1wCmluc2VydCgnJycKdGr4cm5laPhqMjAxMGEgPSBEQihXb3JrVW5yZWxhdGVkKAogICAgMjAxMCwgIkltcHJvdmlzYXRpb24gZHVyaW5nIHByb2Nlc3MtdGVjaG5vbG9neSBhZG9wdGlvbjogYSBsb25naXR1ZGluYWwgc3R1ZHkgb2YgYSBzb2Z0d2FyZSBmaXJtIiwKICAgIGRpc3BsYXk9InRq+HJuZWj4aiIsCiAgICBhdXRob3JzPSJUavhybmVo+GosIEdpdHRlIGFuZCBNYXRoaWFzc2VuLCBMYXJzIiwKICAgIHBsYWNlPUZBS0UsCiAgICBwcD0iMjAtLTM0IiwKICAgIGVudHJ5dHlwZT0iYXJ0aWNsZSIsCiAgICB2b2x1bWU9IjI1IiwKICAgIG51bWJlcj0iMSIsCiAgICBwdWJsaXNoZXI9IlNwcmluZ2VyIiwKICAgIElEPSJ0am9ybmVob2oyMDEwaW1wcm92aXNhdGlvbiIsCiAgICBjbHVzdGVyX2lkPSIxODM3NDAyODc0NzcwNTIzMDk1MSIsCiAgICBzY2hvbGFyPSJodHRwOi8vc2Nob2xhci5nb29nbGUuY29tL3NjaG9sYXI/Y2l0ZXM9MTgzNzQwMjg3NDc3MDUyMzA5NTEmYXNfc2R0PTIwMDUmc2Npb2R0PTAsNSZobD1lbiIsCiAgICBwbGFjZXg9IkpvdXJuYWwgb2YgSW5mb3JtYXRpb24gVGVjaG5vbG9neSIsCikpCgpEQihDaXRhdGlvbigKICAgIHRq+HJuZWj4ajIwMTBhLCBrYXV0ejIwMDBhLCByZWY9IiIsCiAgICBjb250ZXh0cz1bCgogICAgXSwKKSkKCicnJywgY2l0YXRpb25zPSdrYXV0ejIwMDBhJyk7\"));\n",
       "    "
      ],
      "text/plain": [
       "<IPython.core.display.Javascript object>"
      ]
     },
     "metadata": {},
     "output_type": "display_data"
    },
    {
     "data": {
      "application/javascript": [
       "$('span:contains(\"# Temp\")').closest('.cell').remove();"
      ],
      "text/plain": [
       "<IPython.core.display.Javascript object>"
      ]
     },
     "metadata": {},
     "output_type": "display_data"
    },
    {
     "data": {
      "application/javascript": [
       "\n",
       "        $('span:contains(\"# Temp\")').closest('.cell').remove();\n",
       "        var code = IPython.notebook.insert_cell_below('code');\n",
       "        code.set_text(atob(\"IyBUZW1wCmluc2VydCgnJycKdGr4cm5laPhqMjAxMGEgPSBEQihXb3JrVW5yZWxhdGVkKAogICAgMjAxMCwgIkltcHJvdmlzYXRpb24gZHVyaW5nIHByb2Nlc3MtdGVjaG5vbG9neSBhZG9wdGlvbjogYSBsb25naXR1ZGluYWwgc3R1ZHkgb2YgYSBzb2Z0d2FyZSBmaXJtIiwKICAgIGRpc3BsYXk9InRq+HJuZWj4aiIsCiAgICBhdXRob3JzPSJUavhybmVo+GosIEdpdHRlIGFuZCBNYXRoaWFzc2VuLCBMYXJzIiwKICAgIHBsYWNlPUZBS0UsCiAgICBwcD0iMjAtLTM0IiwKICAgIGVudHJ5dHlwZT0iYXJ0aWNsZSIsCiAgICB2b2x1bWU9IjI1IiwKICAgIG51bWJlcj0iMSIsCiAgICBwdWJsaXNoZXI9IlNwcmluZ2VyIiwKICAgIElEPSJ0am9ybmVob2oyMDEwaW1wcm92aXNhdGlvbiIsCiAgICBjbHVzdGVyX2lkPSIxODM3NDAyODc0NzcwNTIzMDk1MSIsCiAgICBzY2hvbGFyPSJodHRwOi8vc2Nob2xhci5nb29nbGUuY29tL3NjaG9sYXI/Y2l0ZXM9MTgzNzQwMjg3NDc3MDUyMzA5NTEmYXNfc2R0PTIwMDUmc2Npb2R0PTAsNSZobD1lbiIsCiAgICBwbGFjZXg9IkpvdXJuYWwgb2YgSW5mb3JtYXRpb24gVGVjaG5vbG9neSIsCikpCgpEQihDaXRhdGlvbigKICAgIHRq+HJuZWj4ajIwMTBhLCBrYXV0ejIwMDBhLCByZWY9IiIsCiAgICBjb250ZXh0cz1bCgogICAgXSwKKSkKCicnJywgY2l0YXRpb25zPSdrYXV0ejIwMDBhJyk7\"));\n",
       "    "
      ],
      "text/plain": [
       "<IPython.core.display.Javascript object>"
      ]
     },
     "metadata": {},
     "output_type": "display_data"
    },
    {
     "data": {
      "application/javascript": [
       "$('span:contains(\"# Temp\")').closest('.cell').remove();"
      ],
      "text/plain": [
       "<IPython.core.display.Javascript object>"
      ]
     },
     "metadata": {},
     "output_type": "display_data"
    },
    {
     "data": {
      "application/javascript": [
       "\n",
       "        $('span:contains(\"# Temp\")').closest('.cell').remove();\n",
       "        var code = IPython.notebook.insert_cell_below('code');\n",
       "        code.set_text(atob(\"IyBUZW1wCmluc2VydCgnJycKcGlubzIwMDliID0gREIoV29ya1VucmVsYXRlZCgKICAgIDIwMDksICJBbiBpbnRlZ3JhdGVkIGZyYW1ld29yayB0byBndWlkZSBzb2Z0d2FyZSBwcm9jZXNzIGltcHJvdmVtZW50IGluIHNtYWxsIG9yZ2FuaXphdGlvbnMiLAogICAgZGlzcGxheT0icGlubyBiIiwKICAgIGF1dGhvcnM9IlBpbm8sIEZyYW5jaXNjbyBKIGFuZCBHYXJj7WEsIEbpbGl4IGFuZCBQaWF0dGluaSwgTWFyaW8iLAogICAgcGxhY2U9RkFLRSwKICAgIHBwPSIyMTMtLTIyNCIsCiAgICBlbnRyeXR5cGU9ImlucHJvY2VlZGluZ3MiLAogICAgb3JnYW5pemF0aW9uPSJTcHJpbmdlciIsCiAgICBJRD0icGlubzIwMDlpbnRlZ3JhdGVkIiwKICAgIGNsdXN0ZXJfaWQ9IjM2NjA4NTEwMzc4NDc0MjkwMTMiLAogICAgc2Nob2xhcj0iaHR0cDovL3NjaG9sYXIuZ29vZ2xlLmNvbS9zY2hvbGFyP2NpdGVzPTM2NjA4NTEwMzc4NDc0MjkwMTMmYXNfc2R0PTIwMDUmc2Npb2R0PTAsNSZobD1lbiIsCiAgICBwbGFjZXg9IkV1cm9wZWFuIENvbmZlcmVuY2Ugb24gU29mdHdhcmUgUHJvY2VzcyBJbXByb3ZlbWVudCIsCikpCgpEQihDaXRhdGlvbigKICAgIHBpbm8yMDA5Yiwga2F1dHoyMDAwYSwgcmVmPSIiLAogICAgY29udGV4dHM9WwoKICAgIF0sCikpCgonJycsIGNpdGF0aW9ucz0na2F1dHoyMDAwYScpOw==\"));\n",
       "    "
      ],
      "text/plain": [
       "<IPython.core.display.Javascript object>"
      ]
     },
     "metadata": {},
     "output_type": "display_data"
    },
    {
     "data": {
      "application/javascript": [
       "$('span:contains(\"# Temp\")').closest('.cell').remove();"
      ],
      "text/plain": [
       "<IPython.core.display.Javascript object>"
      ]
     },
     "metadata": {},
     "output_type": "display_data"
    },
    {
     "data": {
      "application/javascript": [
       "\n",
       "        $('span:contains(\"# Temp\")').closest('.cell').remove();\n",
       "        var code = IPython.notebook.insert_cell_below('code');\n",
       "        code.set_text(atob(\"IyBUZW1wCmluc2VydCgnJycKcGlubzIwMDliID0gREIoV29ya1VucmVsYXRlZCgKICAgIDIwMDksICJBbiBpbnRlZ3JhdGVkIGZyYW1ld29yayB0byBndWlkZSBzb2Z0d2FyZSBwcm9jZXNzIGltcHJvdmVtZW50IGluIHNtYWxsIG9yZ2FuaXphdGlvbnMiLAogICAgZGlzcGxheT0icGlubyBiIiwKICAgIGF1dGhvcnM9IlBpbm8sIEZyYW5jaXNjbyBKIGFuZCBHYXJj7WEsIEbpbGl4IGFuZCBQaWF0dGluaSwgTWFyaW8iLAogICAgcGxhY2U9RkFLRSwKICAgIHBwPSIyMTMtLTIyNCIsCiAgICBlbnRyeXR5cGU9ImlucHJvY2VlZGluZ3MiLAogICAgb3JnYW5pemF0aW9uPSJTcHJpbmdlciIsCiAgICBJRD0icGlubzIwMDlpbnRlZ3JhdGVkIiwKICAgIGNsdXN0ZXJfaWQ9IjM2NjA4NTEwMzc4NDc0MjkwMTMiLAogICAgc2Nob2xhcj0iaHR0cDovL3NjaG9sYXIuZ29vZ2xlLmNvbS9zY2hvbGFyP2NpdGVzPTM2NjA4NTEwMzc4NDc0MjkwMTMmYXNfc2R0PTIwMDUmc2Npb2R0PTAsNSZobD1lbiIsCiAgICBwbGFjZXg9IkV1cm9wZWFuIENvbmZlcmVuY2Ugb24gU29mdHdhcmUgUHJvY2VzcyBJbXByb3ZlbWVudCIsCikpCgpEQihDaXRhdGlvbigKICAgIHBpbm8yMDA5Yiwga2F1dHoyMDAwYSwgcmVmPSIiLAogICAgY29udGV4dHM9WwoKICAgIF0sCikpCgonJycsIGNpdGF0aW9ucz0na2F1dHoyMDAwYScpOw==\"));\n",
       "    "
      ],
      "text/plain": [
       "<IPython.core.display.Javascript object>"
      ]
     },
     "metadata": {},
     "output_type": "display_data"
    },
    {
     "data": {
      "application/javascript": [
       "$('span:contains(\"# Temp\")').closest('.cell').remove();"
      ],
      "text/plain": [
       "<IPython.core.display.Javascript object>"
      ]
     },
     "metadata": {},
     "output_type": "display_data"
    },
    {
     "data": {
      "application/javascript": [
       "\n",
       "        $('span:contains(\"# Temp\")').closest('.cell').remove();\n",
       "        var code = IPython.notebook.insert_cell_below('code');\n",
       "        code.set_text(atob(\"IyBUZW1wCmluc2VydCgnJycKZ2xlaXJzY2hlcjIwMTRhID0gREIoV29ya1VucmVsYXRlZCgKICAgIDIwMTQsICJJbnRyb2R1Y3Rpb24gb2Ygc3RhdGljIHF1YWxpdHkgYW5hbHlzaXMgaW4gc21hbGwtYW5kIG1lZGl1bS1zaXplZCBzb2Z0d2FyZSBlbnRlcnByaXNlczogZXhwZXJpZW5jZXMgZnJvbSB0ZWNobm9sb2d5IHRyYW5zZmVyIiwKICAgIGRpc3BsYXk9ImdsZWlyc2NoZXIiLAogICAgYXV0aG9ycz0iR2xlaXJzY2hlciwgTWFyaW8gYW5kIEdvbHViaXRza2l5LCBEbWl0cml5IGFuZCBJcmxiZWNrLCBNYXhpbWlsaWFuIGFuZCBXYWduZXIsIFN0ZWZhbiIsCiAgICBwbGFjZT1TUUosCiAgICBwcD0iNDk5LS01NDIiLAogICAgZW50cnl0eXBlPSJhcnRpY2xlIiwKICAgIHZvbHVtZT0iMjIiLAogICAgbnVtYmVyPSIzIiwKICAgIHB1Ymxpc2hlcj0iU3ByaW5nZXIiLAogICAgSUQ9ImdsZWlyc2NoZXIyMDE0aW50cm9kdWN0aW9uIiwKICAgIGNsdXN0ZXJfaWQ9IjQxNDAyNDM1MTU0MDMxMDAyMDciLAogICAgc2Nob2xhcj0iaHR0cDovL3NjaG9sYXIuZ29vZ2xlLmNvbS9zY2hvbGFyP2NpdGVzPTQxNDAyNDM1MTU0MDMxMDAyMDcmYXNfc2R0PTIwMDUmc2Npb2R0PTAsNSZobD1lbiIsCiAgICBwbGFjZXg9IlNvZnR3YXJlIFF1YWxpdHkgSm91cm5hbCIsCikpCgpEQihDaXRhdGlvbigKICAgIGdsZWlyc2NoZXIyMDE0YSwga2F1dHoyMDAwYSwgcmVmPSIiLAogICAgY29udGV4dHM9WwoKICAgIF0sCikpCgonJycsIGNpdGF0aW9ucz0na2F1dHoyMDAwYScpOw==\"));\n",
       "    "
      ],
      "text/plain": [
       "<IPython.core.display.Javascript object>"
      ]
     },
     "metadata": {},
     "output_type": "display_data"
    },
    {
     "data": {
      "application/javascript": [
       "$('span:contains(\"# Temp\")').closest('.cell').remove();"
      ],
      "text/plain": [
       "<IPython.core.display.Javascript object>"
      ]
     },
     "metadata": {},
     "output_type": "display_data"
    },
    {
     "data": {
      "application/javascript": [
       "\n",
       "        $('span:contains(\"# Temp\")').closest('.cell').remove();\n",
       "        var code = IPython.notebook.insert_cell_below('code');\n",
       "        code.set_text(atob(\"IyBUZW1wCmluc2VydCgnJycKZ2xlaXJzY2hlcjIwMTRhID0gREIoV29ya1VucmVsYXRlZCgKICAgIDIwMTQsICJJbnRyb2R1Y3Rpb24gb2Ygc3RhdGljIHF1YWxpdHkgYW5hbHlzaXMgaW4gc21hbGwtYW5kIG1lZGl1bS1zaXplZCBzb2Z0d2FyZSBlbnRlcnByaXNlczogZXhwZXJpZW5jZXMgZnJvbSB0ZWNobm9sb2d5IHRyYW5zZmVyIiwKICAgIGRpc3BsYXk9ImdsZWlyc2NoZXIiLAogICAgYXV0aG9ycz0iR2xlaXJzY2hlciwgTWFyaW8gYW5kIEdvbHViaXRza2l5LCBEbWl0cml5IGFuZCBJcmxiZWNrLCBNYXhpbWlsaWFuIGFuZCBXYWduZXIsIFN0ZWZhbiIsCiAgICBwbGFjZT1TUUosCiAgICBwcD0iNDk5LS01NDIiLAogICAgZW50cnl0eXBlPSJhcnRpY2xlIiwKICAgIHZvbHVtZT0iMjIiLAogICAgbnVtYmVyPSIzIiwKICAgIHB1Ymxpc2hlcj0iU3ByaW5nZXIiLAogICAgSUQ9ImdsZWlyc2NoZXIyMDE0aW50cm9kdWN0aW9uIiwKICAgIGNsdXN0ZXJfaWQ9IjQxNDAyNDM1MTU0MDMxMDAyMDciLAogICAgc2Nob2xhcj0iaHR0cDovL3NjaG9sYXIuZ29vZ2xlLmNvbS9zY2hvbGFyP2NpdGVzPTQxNDAyNDM1MTU0MDMxMDAyMDcmYXNfc2R0PTIwMDUmc2Npb2R0PTAsNSZobD1lbiIsCiAgICBwbGFjZXg9IlNvZnR3YXJlIFF1YWxpdHkgSm91cm5hbCIsCikpCgpEQihDaXRhdGlvbigKICAgIGdsZWlyc2NoZXIyMDE0YSwga2F1dHoyMDAwYSwgcmVmPSIiLAogICAgY29udGV4dHM9WwoKICAgIF0sCikpCgonJycsIGNpdGF0aW9ucz0na2F1dHoyMDAwYScpOw==\"));\n",
       "    "
      ],
      "text/plain": [
       "<IPython.core.display.Javascript object>"
      ]
     },
     "metadata": {},
     "output_type": "display_data"
    },
    {
     "data": {
      "application/javascript": [
       "$('span:contains(\"# Temp\")').closest('.cell').remove();"
      ],
      "text/plain": [
       "<IPython.core.display.Javascript object>"
      ]
     },
     "metadata": {},
     "output_type": "display_data"
    },
    {
     "data": {
      "application/javascript": [
       "\n",
       "        $('span:contains(\"# Temp\")').closest('.cell').remove();\n",
       "        var code = IPython.notebook.insert_cell_below('code');\n",
       "        code.set_text(atob(\"IyBUZW1wCmluc2VydCgnJycKaGFiaWIyMDA4YSA9IERCKFdvcmtVbnJlbGF0ZWQoCiAgICAyMDA4LCAiQmxlbmRpbmcgc2l4IHNpZ21hIGFuZCBDTU1JLWFuIGFwcHJvYWNoIHRvIGFjY2VsZXJhdGUgcHJvY2VzcyBpbXByb3ZlbWVudCBpbiBTTUVzIiwKICAgIGRpc3BsYXk9ImhhYmliIiwKICAgIGF1dGhvcnM9IkhhYmliLCBNYXJpYSBhbmQgQWhtZWQsIFNhbmEgYW5kIFJlaG1hdCwgQW1uYSBhbmQgS2hhbiwgTWFsaWsgSmFoYW4gYW5kIFNoYW1haWwsIFNoYWZheSIsCiAgICBwbGFjZT1GQUtFLAogICAgcHA9IjM4Ni0tMzkxIiwKICAgIGVudHJ5dHlwZT0iaW5wcm9jZWVkaW5ncyIsCiAgICBvcmdhbml6YXRpb249IklFRUUiLAogICAgSUQ9ImhhYmliMjAwOGJsZW5kaW5nIiwKICAgIGNsdXN0ZXJfaWQ9IjEyOTQyNjE0NDMzMjkwOTU5NzYxIiwKICAgIHNjaG9sYXI9Imh0dHA6Ly9zY2hvbGFyLmdvb2dsZS5jb20vc2Nob2xhcj9jaXRlcz0xMjk0MjYxNDQzMzI5MDk1OTc2MSZhc19zZHQ9MjAwNSZzY2lvZHQ9MCw1JmhsPWVuIiwKICAgIHBsYWNleD0iTXVsdGl0b3BpYyBDb25mZXJlbmNlLCAyMDA4LiBJTk1JQyAyMDA4LiBJRUVFIEludGVybmF0aW9uYWwiLAopKQoKREIoQ2l0YXRpb24oCiAgICBoYWJpYjIwMDhhLCBrYXV0ejIwMDBhLCByZWY9IiIsCiAgICBjb250ZXh0cz1bCgogICAgXSwKKSkKCicnJywgY2l0YXRpb25zPSdrYXV0ejIwMDBhJyk7\"));\n",
       "    "
      ],
      "text/plain": [
       "<IPython.core.display.Javascript object>"
      ]
     },
     "metadata": {},
     "output_type": "display_data"
    },
    {
     "data": {
      "application/javascript": [
       "$('span:contains(\"# Temp\")').closest('.cell').remove();"
      ],
      "text/plain": [
       "<IPython.core.display.Javascript object>"
      ]
     },
     "metadata": {},
     "output_type": "display_data"
    },
    {
     "data": {
      "application/javascript": [
       "\n",
       "        $('span:contains(\"# Temp\")').closest('.cell').remove();\n",
       "        var code = IPython.notebook.insert_cell_below('code');\n",
       "        code.set_text(atob(\"IyBUZW1wCmluc2VydCgnJycKaGFiaWIyMDA4YSA9IERCKFdvcmtVbnJlbGF0ZWQoCiAgICAyMDA4LCAiQmxlbmRpbmcgc2l4IHNpZ21hIGFuZCBDTU1JLWFuIGFwcHJvYWNoIHRvIGFjY2VsZXJhdGUgcHJvY2VzcyBpbXByb3ZlbWVudCBpbiBTTUVzIiwKICAgIGRpc3BsYXk9ImhhYmliIiwKICAgIGF1dGhvcnM9IkhhYmliLCBNYXJpYSBhbmQgQWhtZWQsIFNhbmEgYW5kIFJlaG1hdCwgQW1uYSBhbmQgS2hhbiwgTWFsaWsgSmFoYW4gYW5kIFNoYW1haWwsIFNoYWZheSIsCiAgICBwbGFjZT1GQUtFLAogICAgcHA9IjM4Ni0tMzkxIiwKICAgIGVudHJ5dHlwZT0iaW5wcm9jZWVkaW5ncyIsCiAgICBvcmdhbml6YXRpb249IklFRUUiLAogICAgSUQ9ImhhYmliMjAwOGJsZW5kaW5nIiwKICAgIGNsdXN0ZXJfaWQ9IjEyOTQyNjE0NDMzMjkwOTU5NzYxIiwKICAgIHNjaG9sYXI9Imh0dHA6Ly9zY2hvbGFyLmdvb2dsZS5jb20vc2Nob2xhcj9jaXRlcz0xMjk0MjYxNDQzMzI5MDk1OTc2MSZhc19zZHQ9MjAwNSZzY2lvZHQ9MCw1JmhsPWVuIiwKICAgIHBsYWNleD0iTXVsdGl0b3BpYyBDb25mZXJlbmNlLCAyMDA4LiBJTk1JQyAyMDA4LiBJRUVFIEludGVybmF0aW9uYWwiLAopKQoKREIoQ2l0YXRpb24oCiAgICBoYWJpYjIwMDhhLCBrYXV0ejIwMDBhLCByZWY9IiIsCiAgICBjb250ZXh0cz1bCgogICAgXSwKKSkKCicnJywgY2l0YXRpb25zPSdrYXV0ejIwMDBhJyk7\"));\n",
       "    "
      ],
      "text/plain": [
       "<IPython.core.display.Javascript object>"
      ]
     },
     "metadata": {},
     "output_type": "display_data"
    },
    {
     "data": {
      "application/javascript": [
       "$('span:contains(\"# Temp\")').closest('.cell').remove();"
      ],
      "text/plain": [
       "<IPython.core.display.Javascript object>"
      ]
     },
     "metadata": {},
     "output_type": "display_data"
    },
    {
     "data": {
      "application/javascript": [
       "\n",
       "        $('span:contains(\"# Temp\")').closest('.cell').remove();\n",
       "        var code = IPython.notebook.insert_cell_below('code');\n",
       "        code.set_text(atob(\"IyBUZW1wCmluc2VydCgnJycKYXlzb2xtYXoyMDExYiA9IERCKFdvcmtVbnJlbGF0ZWQoCiAgICAyMDExLCAiQSBkZXRhaWxlZCBzb2Z0d2FyZSBwcm9jZXNzIGltcHJvdmVtZW50IG1ldGhvZG9sb2d5OiBCRy1TUEkiLAogICAgZGlzcGxheT0iYXlzb2xtYXogYiIsCiAgICBhdXRob3JzPSJBeXNvbG1heiwgQmFudSBhbmQgRGVtaXL2cnMsIE9udXIiLAogICAgcGxhY2U9RkFLRSwKICAgIHBwPSI5Ny0tMTA4IiwKICAgIGVudHJ5dHlwZT0iaW5wcm9jZWVkaW5ncyIsCiAgICBvcmdhbml6YXRpb249IlNwcmluZ2VyIiwKICAgIElEPSJheXNvbG1hejIwMTFkZXRhaWxlZCIsCiAgICBjbHVzdGVyX2lkPSI2ODY0OTY4NTY3OTgxOTgwNzkwIiwKICAgIHNjaG9sYXI9Imh0dHA6Ly9zY2hvbGFyLmdvb2dsZS5jb20vc2Nob2xhcj9jaXRlcz02ODY0OTY4NTY3OTgxOTgwNzkwJmFzX3NkdD0yMDA1JnNjaW9kdD0wLDUmaGw9ZW4iLAogICAgcGxhY2V4PSJFdXJvcGVhbiBDb25mZXJlbmNlIG9uIFNvZnR3YXJlIFByb2Nlc3MgSW1wcm92ZW1lbnQiLAopKQoKREIoQ2l0YXRpb24oCiAgICBheXNvbG1hejIwMTFiLCBrYXV0ejIwMDBhLCByZWY9IiIsCiAgICBjb250ZXh0cz1bCgogICAgXSwKKSkKCicnJywgY2l0YXRpb25zPSdrYXV0ejIwMDBhJyk7\"));\n",
       "    "
      ],
      "text/plain": [
       "<IPython.core.display.Javascript object>"
      ]
     },
     "metadata": {},
     "output_type": "display_data"
    },
    {
     "data": {
      "application/javascript": [
       "$('span:contains(\"# Temp\")').closest('.cell').remove();"
      ],
      "text/plain": [
       "<IPython.core.display.Javascript object>"
      ]
     },
     "metadata": {},
     "output_type": "display_data"
    },
    {
     "data": {
      "application/javascript": [
       "\n",
       "        $('span:contains(\"# Temp\")').closest('.cell').remove();\n",
       "        var code = IPython.notebook.insert_cell_below('code');\n",
       "        code.set_text(atob(\"IyBUZW1wCmluc2VydCgnJycKYXlzb2xtYXoyMDExYiA9IERCKFdvcmtVbnJlbGF0ZWQoCiAgICAyMDExLCAiQSBkZXRhaWxlZCBzb2Z0d2FyZSBwcm9jZXNzIGltcHJvdmVtZW50IG1ldGhvZG9sb2d5OiBCRy1TUEkiLAogICAgZGlzcGxheT0iYXlzb2xtYXogYiIsCiAgICBhdXRob3JzPSJBeXNvbG1heiwgQmFudSBhbmQgRGVtaXL2cnMsIE9udXIiLAogICAgcGxhY2U9RkFLRSwKICAgIHBwPSI5Ny0tMTA4IiwKICAgIGVudHJ5dHlwZT0iaW5wcm9jZWVkaW5ncyIsCiAgICBvcmdhbml6YXRpb249IlNwcmluZ2VyIiwKICAgIElEPSJheXNvbG1hejIwMTFkZXRhaWxlZCIsCiAgICBjbHVzdGVyX2lkPSI2ODY0OTY4NTY3OTgxOTgwNzkwIiwKICAgIHNjaG9sYXI9Imh0dHA6Ly9zY2hvbGFyLmdvb2dsZS5jb20vc2Nob2xhcj9jaXRlcz02ODY0OTY4NTY3OTgxOTgwNzkwJmFzX3NkdD0yMDA1JnNjaW9kdD0wLDUmaGw9ZW4iLAogICAgcGxhY2V4PSJFdXJvcGVhbiBDb25mZXJlbmNlIG9uIFNvZnR3YXJlIFByb2Nlc3MgSW1wcm92ZW1lbnQiLAopKQoKREIoQ2l0YXRpb24oCiAgICBheXNvbG1hejIwMTFiLCBrYXV0ejIwMDBhLCByZWY9IiIsCiAgICBjb250ZXh0cz1bCgogICAgXSwKKSkKCicnJywgY2l0YXRpb25zPSdrYXV0ejIwMDBhJyk7\"));\n",
       "    "
      ],
      "text/plain": [
       "<IPython.core.display.Javascript object>"
      ]
     },
     "metadata": {},
     "output_type": "display_data"
    },
    {
     "data": {
      "application/javascript": [
       "$('span:contains(\"# Temp\")').closest('.cell').remove();"
      ],
      "text/plain": [
       "<IPython.core.display.Javascript object>"
      ]
     },
     "metadata": {},
     "output_type": "display_data"
    },
    {
     "data": {
      "application/javascript": [
       "\n",
       "        $('span:contains(\"# Temp\")').closest('.cell').remove();\n",
       "        var code = IPython.notebook.insert_cell_below('code');\n",
       "        code.set_text(atob(\"IyBUZW1wCmluc2VydCgnJycKbWFzMjAwNWEgPSBEQihXb3JrVW5yZWxhdGVkKAogICAgMjAwNSwgIkxhIG1lam9yYSBkZSBsb3MgcHJvY2Vzb3MgZGUgc29mdHdhcmUgZW4gbGFzIHBlcXVl8WFzIHkgbWVkaWFuYXMgZW1wcmVzYXMgKHB5bWUpLiBVbiBudWV2byBtb2RlbG8geSBzdSBhcGxpY2FjafNuIGEgdW4gY2FzbyByZWFsIiwKICAgIGRpc3BsYXk9Im1hcyIsCiAgICBhdXRob3JzPSJNYXMsIEFudPJuaWEgYW5kIEFtZW5ndWFsLCBFc3BlcmFue+d9YSIsCiAgICBwbGFjZT1GQUtFLAogICAgZW50cnl0eXBlPSJhcnRpY2xlIiwKICAgIHZvbHVtZT0iMSIsCiAgICBudW1iZXI9IjIiLAogICAgcHVibGlzaGVyPSJBc29jaWFjafNuIGRlIFTpY25pY29zIGRlIEluZm9ybeF0aWNhIiwKICAgIElEPSJtYXMyMDA1bWVqb3JhIiwKICAgIGNsdXN0ZXJfaWQ9IjY2MzMzMzUwMDUzNTU2NDIzMjMiLAogICAgc2Nob2xhcj0iaHR0cDovL3NjaG9sYXIuZ29vZ2xlLmNvbS9zY2hvbGFyP2NpdGVzPTY2MzMzMzUwMDUzNTU2NDIzMjMmYXNfc2R0PTIwMDUmc2Npb2R0PTAsNSZobD1lbiIsCiAgICBwbGFjZXg9IlJFSUNJUy4gUmV2aXN0YSBFc3Bh8W9sYSBkZSBJbm5vdmFjafNuLCBDYWxpZGFkIGUgSW5nZW5pZXLtYSBkZWwgU29mdHdhcmUiLAopKQoKREIoQ2l0YXRpb24oCiAgICBtYXMyMDA1YSwga2F1dHoyMDAwYSwgcmVmPSIiLAogICAgY29udGV4dHM9WwoKICAgIF0sCikpCgonJycsIGNpdGF0aW9ucz0na2F1dHoyMDAwYScpOw==\"));\n",
       "    "
      ],
      "text/plain": [
       "<IPython.core.display.Javascript object>"
      ]
     },
     "metadata": {},
     "output_type": "display_data"
    },
    {
     "data": {
      "application/javascript": [
       "$('span:contains(\"# Temp\")').closest('.cell').remove();"
      ],
      "text/plain": [
       "<IPython.core.display.Javascript object>"
      ]
     },
     "metadata": {},
     "output_type": "display_data"
    },
    {
     "data": {
      "application/javascript": [
       "\n",
       "        $('span:contains(\"# Temp\")').closest('.cell').remove();\n",
       "        var code = IPython.notebook.insert_cell_below('code');\n",
       "        code.set_text(atob(\"IyBUZW1wCmluc2VydCgnJycKbWFzMjAwNWEgPSBEQihXb3JrVW5yZWxhdGVkKAogICAgMjAwNSwgIkxhIG1lam9yYSBkZSBsb3MgcHJvY2Vzb3MgZGUgc29mdHdhcmUgZW4gbGFzIHBlcXVl8WFzIHkgbWVkaWFuYXMgZW1wcmVzYXMgKHB5bWUpLiBVbiBudWV2byBtb2RlbG8geSBzdSBhcGxpY2FjafNuIGEgdW4gY2FzbyByZWFsIiwKICAgIGRpc3BsYXk9Im1hcyIsCiAgICBhdXRob3JzPSJNYXMsIEFudPJuaWEgYW5kIEFtZW5ndWFsLCBFc3BlcmFue+d9YSIsCiAgICBwbGFjZT1GQUtFLAogICAgZW50cnl0eXBlPSJhcnRpY2xlIiwKICAgIHZvbHVtZT0iMSIsCiAgICBudW1iZXI9IjIiLAogICAgcHVibGlzaGVyPSJBc29jaWFjafNuIGRlIFTpY25pY29zIGRlIEluZm9ybeF0aWNhIiwKICAgIElEPSJtYXMyMDA1bWVqb3JhIiwKICAgIGNsdXN0ZXJfaWQ9IjY2MzMzMzUwMDUzNTU2NDIzMjMiLAogICAgc2Nob2xhcj0iaHR0cDovL3NjaG9sYXIuZ29vZ2xlLmNvbS9zY2hvbGFyP2NpdGVzPTY2MzMzMzUwMDUzNTU2NDIzMjMmYXNfc2R0PTIwMDUmc2Npb2R0PTAsNSZobD1lbiIsCiAgICBwbGFjZXg9IlJFSUNJUy4gUmV2aXN0YSBFc3Bh8W9sYSBkZSBJbm5vdmFjafNuLCBDYWxpZGFkIGUgSW5nZW5pZXLtYSBkZWwgU29mdHdhcmUiLAopKQoKREIoQ2l0YXRpb24oCiAgICBtYXMyMDA1YSwga2F1dHoyMDAwYSwgcmVmPSIiLAogICAgY29udGV4dHM9WwoKICAgIF0sCikpCgonJycsIGNpdGF0aW9ucz0na2F1dHoyMDAwYScpOw==\"));\n",
       "    "
      ],
      "text/plain": [
       "<IPython.core.display.Javascript object>"
      ]
     },
     "metadata": {},
     "output_type": "display_data"
    },
    {
     "data": {
      "application/javascript": [
       "$('span:contains(\"# Temp\")').closest('.cell').remove();"
      ],
      "text/plain": [
       "<IPython.core.display.Javascript object>"
      ]
     },
     "metadata": {},
     "output_type": "display_data"
    },
    {
     "data": {
      "application/javascript": [
       "\n",
       "        $('span:contains(\"# Temp\")').closest('.cell').remove();\n",
       "        var code = IPython.notebook.insert_cell_below('code');\n",
       "        code.set_text(atob(\"IyBUZW1wCmluc2VydCgnJycKZGFnbmlubzIwMTRhID0gREIoV29ya1VucmVsYXRlZCgKICAgIDIwMTQsICJJbmNyZWFzaW5nIHRoZSBlZmZlY3RpdmVuZXNzIG9mIHRlYWNoaW5nIHNvZnR3YXJlIGVuZ2luZWVyaW5nOiBBIHVuaXZlcnNpdHkgYW5kIGluZHVzdHJ5IHBhcnRuZXJzaGlwIiwKICAgIGRpc3BsYXk9ImRhZ25pbm8iLAogICAgYXV0aG9ycz0iRGFnbmlubywgQWxkbyIsCiAgICBwbGFjZT1GQUtFLAogICAgcHA9IjQ5LS01NCIsCiAgICBlbnRyeXR5cGU9ImlucHJvY2VlZGluZ3MiLAogICAgb3JnYW5pemF0aW9uPSJJRUVFIiwKICAgIElEPSJkYWduaW5vMjAxNGluY3JlYXNpbmciLAogICAgY2x1c3Rlcl9pZD0iMTcyMTIxNjMwMTk3MjE0Njc4MTQiLAogICAgc2Nob2xhcj0iaHR0cDovL3NjaG9sYXIuZ29vZ2xlLmNvbS9zY2hvbGFyP2NpdGVzPTE3MjEyMTYzMDE5NzIxNDY3ODE0JmFzX3NkdD0yMDA1JnNjaW9kdD0wLDUmaGw9ZW4iLAogICAgcGxhY2V4PSJTb2Z0d2FyZSBFbmdpbmVlcmluZyBFZHVjYXRpb24gYW5kIFRyYWluaW5nIChDU0VFJlQpLCAyMDE0IElFRUUgMjd0aCBDb25mZXJlbmNlIG9uIiwKKSkKCkRCKENpdGF0aW9uKAogICAgZGFnbmlubzIwMTRhLCBrYXV0ejIwMDBhLCByZWY9IiIsCiAgICBjb250ZXh0cz1bCgogICAgXSwKKSkKCicnJywgY2l0YXRpb25zPSdrYXV0ejIwMDBhJyk7\"));\n",
       "    "
      ],
      "text/plain": [
       "<IPython.core.display.Javascript object>"
      ]
     },
     "metadata": {},
     "output_type": "display_data"
    },
    {
     "data": {
      "application/javascript": [
       "$('span:contains(\"# Temp\")').closest('.cell').remove();"
      ],
      "text/plain": [
       "<IPython.core.display.Javascript object>"
      ]
     },
     "metadata": {},
     "output_type": "display_data"
    },
    {
     "data": {
      "application/javascript": [
       "\n",
       "        $('span:contains(\"# Temp\")').closest('.cell').remove();\n",
       "        var code = IPython.notebook.insert_cell_below('code');\n",
       "        code.set_text(atob(\"IyBUZW1wCmluc2VydCgnJycKZGFnbmlubzIwMTRhID0gREIoV29ya1VucmVsYXRlZCgKICAgIDIwMTQsICJJbmNyZWFzaW5nIHRoZSBlZmZlY3RpdmVuZXNzIG9mIHRlYWNoaW5nIHNvZnR3YXJlIGVuZ2luZWVyaW5nOiBBIHVuaXZlcnNpdHkgYW5kIGluZHVzdHJ5IHBhcnRuZXJzaGlwIiwKICAgIGRpc3BsYXk9ImRhZ25pbm8iLAogICAgYXV0aG9ycz0iRGFnbmlubywgQWxkbyIsCiAgICBwbGFjZT1GQUtFLAogICAgcHA9IjQ5LS01NCIsCiAgICBlbnRyeXR5cGU9ImlucHJvY2VlZGluZ3MiLAogICAgb3JnYW5pemF0aW9uPSJJRUVFIiwKICAgIElEPSJkYWduaW5vMjAxNGluY3JlYXNpbmciLAogICAgY2x1c3Rlcl9pZD0iMTcyMTIxNjMwMTk3MjE0Njc4MTQiLAogICAgc2Nob2xhcj0iaHR0cDovL3NjaG9sYXIuZ29vZ2xlLmNvbS9zY2hvbGFyP2NpdGVzPTE3MjEyMTYzMDE5NzIxNDY3ODE0JmFzX3NkdD0yMDA1JnNjaW9kdD0wLDUmaGw9ZW4iLAogICAgcGxhY2V4PSJTb2Z0d2FyZSBFbmdpbmVlcmluZyBFZHVjYXRpb24gYW5kIFRyYWluaW5nIChDU0VFJlQpLCAyMDE0IElFRUUgMjd0aCBDb25mZXJlbmNlIG9uIiwKKSkKCkRCKENpdGF0aW9uKAogICAgZGFnbmlubzIwMTRhLCBrYXV0ejIwMDBhLCByZWY9IiIsCiAgICBjb250ZXh0cz1bCgogICAgXSwKKSkKCicnJywgY2l0YXRpb25zPSdrYXV0ejIwMDBhJyk7\"));\n",
       "    "
      ],
      "text/plain": [
       "<IPython.core.display.Javascript object>"
      ]
     },
     "metadata": {},
     "output_type": "display_data"
    },
    {
     "data": {
      "application/javascript": [
       "$('span:contains(\"# Temp\")').closest('.cell').remove();"
      ],
      "text/plain": [
       "<IPython.core.display.Javascript object>"
      ]
     },
     "metadata": {},
     "output_type": "display_data"
    },
    {
     "data": {
      "application/javascript": [
       "\n",
       "        $('span:contains(\"# Temp\")').closest('.cell').remove();\n",
       "        var code = IPython.notebook.insert_cell_below('code');\n",
       "        code.set_text(atob(\"IyBUZW1wCmluc2VydCgnJycKY2FzZXkyMDAyYSA9IERCKFdvcmtVbnJlbGF0ZWQoCiAgICAyMDAyLCAiQSBwcmFjdGljYWwgYXBwbGljYXRpb24gb2YgdGhlIElERUFMIG1vZGVsIiwKICAgIGRpc3BsYXk9ImNhc2V5IiwKICAgIGF1dGhvcnM9IkNhc2V5LCBWYWxlbnRpbmUgYW5kIFJpY2hhcmRzb24sIEl0YSIsCiAgICBwbGFjZT1JQ1BGU1BJLAogICAgcHA9IjE3Mi0tMTg0IiwKICAgIGVudHJ5dHlwZT0iaW5wcm9jZWVkaW5ncyIsCiAgICBvcmdhbml6YXRpb249IlNwcmluZ2VyIiwKICAgIElEPSJjYXNleTIwMDJwcmFjdGljYWwiLAogICAgY2x1c3Rlcl9pZD0iNTI4MjM3NDE0MzEwMTU4MTY2MSIsCiAgICBzY2hvbGFyPSJodHRwOi8vc2Nob2xhci5nb29nbGUuY29tL3NjaG9sYXI/Y2l0ZXM9NTI4MjM3NDE0MzEwMTU4MTY2MSZhc19zZHQ9MjAwNSZzY2lvZHQ9MCw1JmhsPWVuIiwKICAgIHBsYWNleD0iSW50ZXJuYXRpb25hbCBDb25mZXJlbmNlIG9uIFByb2R1Y3QgRm9jdXNlZCBTb2Z0d2FyZSBQcm9jZXNzIEltcHJvdmVtZW50IiwKKSkKCkRCKENpdGF0aW9uKAogICAgY2FzZXkyMDAyYSwga2F1dHoyMDAwYSwgcmVmPSIiLAogICAgY29udGV4dHM9WwoKICAgIF0sCikpCgonJycsIGNpdGF0aW9ucz0na2F1dHoyMDAwYScpOw==\"));\n",
       "    "
      ],
      "text/plain": [
       "<IPython.core.display.Javascript object>"
      ]
     },
     "metadata": {},
     "output_type": "display_data"
    },
    {
     "data": {
      "application/javascript": [
       "$('span:contains(\"# Temp\")').closest('.cell').remove();"
      ],
      "text/plain": [
       "<IPython.core.display.Javascript object>"
      ]
     },
     "metadata": {},
     "output_type": "display_data"
    },
    {
     "data": {
      "application/javascript": [
       "\n",
       "        $('span:contains(\"# Temp\")').closest('.cell').remove();\n",
       "        var code = IPython.notebook.insert_cell_below('code');\n",
       "        code.set_text(atob(\"IyBUZW1wCmluc2VydCgnJycKY2FzZXkyMDAyYSA9IERCKFdvcmtVbnJlbGF0ZWQoCiAgICAyMDAyLCAiQSBwcmFjdGljYWwgYXBwbGljYXRpb24gb2YgdGhlIElERUFMIG1vZGVsIiwKICAgIGRpc3BsYXk9ImNhc2V5IiwKICAgIGF1dGhvcnM9IkNhc2V5LCBWYWxlbnRpbmUgYW5kIFJpY2hhcmRzb24sIEl0YSIsCiAgICBwbGFjZT1JQ1BGU1BJLAogICAgcHA9IjE3Mi0tMTg0IiwKICAgIGVudHJ5dHlwZT0iaW5wcm9jZWVkaW5ncyIsCiAgICBvcmdhbml6YXRpb249IlNwcmluZ2VyIiwKICAgIElEPSJjYXNleTIwMDJwcmFjdGljYWwiLAogICAgY2x1c3Rlcl9pZD0iNTI4MjM3NDE0MzEwMTU4MTY2MSIsCiAgICBzY2hvbGFyPSJodHRwOi8vc2Nob2xhci5nb29nbGUuY29tL3NjaG9sYXI/Y2l0ZXM9NTI4MjM3NDE0MzEwMTU4MTY2MSZhc19zZHQ9MjAwNSZzY2lvZHQ9MCw1JmhsPWVuIiwKICAgIHBsYWNleD0iSW50ZXJuYXRpb25hbCBDb25mZXJlbmNlIG9uIFByb2R1Y3QgRm9jdXNlZCBTb2Z0d2FyZSBQcm9jZXNzIEltcHJvdmVtZW50IiwKKSkKCkRCKENpdGF0aW9uKAogICAgY2FzZXkyMDAyYSwga2F1dHoyMDAwYSwgcmVmPSIiLAogICAgY29udGV4dHM9WwoKICAgIF0sCikpCgonJycsIGNpdGF0aW9ucz0na2F1dHoyMDAwYScpOw==\"));\n",
       "    "
      ],
      "text/plain": [
       "<IPython.core.display.Javascript object>"
      ]
     },
     "metadata": {},
     "output_type": "display_data"
    },
    {
     "data": {
      "application/javascript": [
       "$('span:contains(\"# Temp\")').closest('.cell').remove();"
      ],
      "text/plain": [
       "<IPython.core.display.Javascript object>"
      ]
     },
     "metadata": {},
     "output_type": "display_data"
    },
    {
     "data": {
      "application/javascript": [
       "\n",
       "        $('span:contains(\"# Temp\")').closest('.cell').remove();\n",
       "        var code = IPython.notebook.insert_cell_below('code');\n",
       "        code.set_text(atob(\"IyBUZW1wCmluc2VydCgnJycKa2F1dHoyMDAxYiA9IERCKFdvcmtVbnJlbGF0ZWQoCiAgICAyMDAxLCAiVW5kZXJzdGFuZGluZyBhbmQgQ2hhbmdpbmcgU29mdHdhcmUgT3JnYW5pemF0aW9ucyIsCiAgICBkaXNwbGF5PSJrYXV0eiBiIiwKICAgIGF1dGhvcnM9IkthdXR6LCBLYXJsaGVpbnogYW5kIEhhbnNlbiwgSGVucmlrIFdlc3RlcmdhYXJkIGFuZCBUaGF5c2VuLCBLaW0iLAogICAgcGxhY2U9RkFLRSwKICAgIHBwPSI4Ny0tMTA5IiwKICAgIGVudHJ5dHlwZT0iaW5wcm9jZWVkaW5ncyIsCiAgICBvcmdhbml6YXRpb249IlNwcmluZ2VyIiwKICAgIElEPSJrYXV0ejIwMDF1bmRlcnN0YW5kaW5nIiwKICAgIGNsdXN0ZXJfaWQ9IjExODA3NDQyMjg0MzUwOTEzOTAyIiwKICAgIHNjaG9sYXI9Imh0dHA6Ly9zY2hvbGFyLmdvb2dsZS5jb20vc2Nob2xhcj9jaXRlcz0xMTgwNzQ0MjI4NDM1MDkxMzkwMiZhc19zZHQ9MjAwNSZzY2lvZHQ9MCw1JmhsPWVuIiwKICAgIHBsYWNleD0iV29ya2luZyBDb25mZXJlbmNlIG9uIERpZmZ1c2luZyBTb2Z0d2FyZSBQcm9kdWN0IGFuZCBQcm9jZXNzIElubm92YXRpb25zIiwKKSkKCkRCKENpdGF0aW9uKAogICAga2F1dHoyMDAxYiwga2F1dHoyMDAwYSwgcmVmPSIiLAogICAgY29udGV4dHM9WwoKICAgIF0sCikpCgonJycsIGNpdGF0aW9ucz0na2F1dHoyMDAwYScpOw==\"));\n",
       "    "
      ],
      "text/plain": [
       "<IPython.core.display.Javascript object>"
      ]
     },
     "metadata": {},
     "output_type": "display_data"
    },
    {
     "data": {
      "application/javascript": [
       "$('span:contains(\"# Temp\")').closest('.cell').remove();"
      ],
      "text/plain": [
       "<IPython.core.display.Javascript object>"
      ]
     },
     "metadata": {},
     "output_type": "display_data"
    },
    {
     "data": {
      "application/javascript": [
       "\n",
       "        $('span:contains(\"# Temp\")').closest('.cell').remove();\n",
       "        var code = IPython.notebook.insert_cell_below('code');\n",
       "        code.set_text(atob(\"IyBUZW1wCmluc2VydCgnJycKa2F1dHoyMDAxYiA9IERCKFdvcmtVbnJlbGF0ZWQoCiAgICAyMDAxLCAiVW5kZXJzdGFuZGluZyBhbmQgQ2hhbmdpbmcgU29mdHdhcmUgT3JnYW5pemF0aW9ucyIsCiAgICBkaXNwbGF5PSJrYXV0eiBiIiwKICAgIGF1dGhvcnM9IkthdXR6LCBLYXJsaGVpbnogYW5kIEhhbnNlbiwgSGVucmlrIFdlc3RlcmdhYXJkIGFuZCBUaGF5c2VuLCBLaW0iLAogICAgcGxhY2U9RkFLRSwKICAgIHBwPSI4Ny0tMTA5IiwKICAgIGVudHJ5dHlwZT0iaW5wcm9jZWVkaW5ncyIsCiAgICBvcmdhbml6YXRpb249IlNwcmluZ2VyIiwKICAgIElEPSJrYXV0ejIwMDF1bmRlcnN0YW5kaW5nIiwKICAgIGNsdXN0ZXJfaWQ9IjExODA3NDQyMjg0MzUwOTEzOTAyIiwKICAgIHNjaG9sYXI9Imh0dHA6Ly9zY2hvbGFyLmdvb2dsZS5jb20vc2Nob2xhcj9jaXRlcz0xMTgwNzQ0MjI4NDM1MDkxMzkwMiZhc19zZHQ9MjAwNSZzY2lvZHQ9MCw1JmhsPWVuIiwKICAgIHBsYWNleD0iV29ya2luZyBDb25mZXJlbmNlIG9uIERpZmZ1c2luZyBTb2Z0d2FyZSBQcm9kdWN0IGFuZCBQcm9jZXNzIElubm92YXRpb25zIiwKKSkKCkRCKENpdGF0aW9uKAogICAga2F1dHoyMDAxYiwga2F1dHoyMDAwYSwgcmVmPSIiLAogICAgY29udGV4dHM9WwoKICAgIF0sCikpCgonJycsIGNpdGF0aW9ucz0na2F1dHoyMDAwYScpOw==\"));\n",
       "    "
      ],
      "text/plain": [
       "<IPython.core.display.Javascript object>"
      ]
     },
     "metadata": {},
     "output_type": "display_data"
    },
    {
     "data": {
      "application/javascript": [
       "$('span:contains(\"# Temp\")').closest('.cell').remove();"
      ],
      "text/plain": [
       "<IPython.core.display.Javascript object>"
      ]
     },
     "metadata": {},
     "output_type": "display_data"
    },
    {
     "data": {
      "application/javascript": [
       "\n",
       "        $('span:contains(\"# Temp\")').closest('.cell').remove();\n",
       "        var code = IPython.notebook.insert_cell_below('code');\n",
       "        code.set_text(atob(\"IyBUZW1wCmluc2VydCgnJycKPz8yMDA0YSA9IERCKFdvcmtVbnJlbGF0ZWQoCiAgICAyMDA0LCAiPz8/Pz8/Pz8gQ01NSSA/Pz8/Pz8/Pz8iLAogICAgZGlzcGxheT0iPz8iLAogICAgYXV0aG9ycz0iPz8gYW5kID8/PyBhbmQgPz8/IGFuZCBvdGhlcnMiLAogICAgcGxhY2U9VGhlc2lzLAogICAgZW50cnl0eXBlPSJwaGR0aGVzaXMiLAogICAgSUQ9Ij8/MjAwND8/Pz8/Pz8/IiwKICAgIGNsdXN0ZXJfaWQ9IjQ0NDkyNDE1OTEzMTc3MDk0NSIsCiAgICBzY2hvbGFyPSJodHRwOi8vc2Nob2xhci5nb29nbGUuY29tL3NjaG9sYXI/Y2l0ZXM9NDQ0OTI0MTU5MTMxNzcwOTQ1JmFzX3NkdD0yMDA1JnNjaW9kdD0wLDUmaGw9ZW4iLAogICAgcGxhY2V4PSIiLAopKQoKREIoQ2l0YXRpb24oCiAgICA/PzIwMDRhLCBrYXV0ejIwMDBhLCByZWY9IiIsCiAgICBjb250ZXh0cz1bCgogICAgXSwKKSkKCicnJywgY2l0YXRpb25zPSdrYXV0ejIwMDBhJyk7\"));\n",
       "    "
      ],
      "text/plain": [
       "<IPython.core.display.Javascript object>"
      ]
     },
     "metadata": {},
     "output_type": "display_data"
    },
    {
     "data": {
      "application/javascript": [
       "$('span:contains(\"# Temp\")').closest('.cell').remove();"
      ],
      "text/plain": [
       "<IPython.core.display.Javascript object>"
      ]
     },
     "metadata": {},
     "output_type": "display_data"
    },
    {
     "data": {
      "application/javascript": [
       "\n",
       "        $('span:contains(\"# Temp\")').closest('.cell').remove();\n",
       "        var code = IPython.notebook.insert_cell_below('code');\n",
       "        code.set_text(atob(\"IyBUZW1wCmluc2VydCgnJycKPz8yMDA0YSA9IERCKFdvcmtVbnJlbGF0ZWQoCiAgICAyMDA0LCAiPz8/Pz8/Pz8gQ01NSSA/Pz8/Pz8/Pz8iLAogICAgZGlzcGxheT0iPz8iLAogICAgYXV0aG9ycz0iPz8gYW5kID8/PyBhbmQgPz8/IGFuZCBvdGhlcnMiLAogICAgcGxhY2U9VGhlc2lzLAogICAgZW50cnl0eXBlPSJwaGR0aGVzaXMiLAogICAgSUQ9Ij8/MjAwND8/Pz8/Pz8/IiwKICAgIGNsdXN0ZXJfaWQ9IjQ0NDkyNDE1OTEzMTc3MDk0NSIsCiAgICBzY2hvbGFyPSJodHRwOi8vc2Nob2xhci5nb29nbGUuY29tL3NjaG9sYXI/Y2l0ZXM9NDQ0OTI0MTU5MTMxNzcwOTQ1JmFzX3NkdD0yMDA1JnNjaW9kdD0wLDUmaGw9ZW4iLAogICAgcGxhY2V4PSIiLAopKQoKREIoQ2l0YXRpb24oCiAgICA/PzIwMDRhLCBrYXV0ejIwMDBhLCByZWY9IiIsCiAgICBjb250ZXh0cz1bCgogICAgXSwKKSkKCicnJywgY2l0YXRpb25zPSdrYXV0ejIwMDBhJyk7\"));\n",
       "    "
      ],
      "text/plain": [
       "<IPython.core.display.Javascript object>"
      ]
     },
     "metadata": {},
     "output_type": "display_data"
    },
    {
     "data": {
      "application/javascript": [
       "$('span:contains(\"# Temp\")').closest('.cell').remove();"
      ],
      "text/plain": [
       "<IPython.core.display.Javascript object>"
      ]
     },
     "metadata": {},
     "output_type": "display_data"
    },
    {
     "data": {
      "application/javascript": [
       "\n",
       "        $('span:contains(\"# Temp\")').closest('.cell').remove();\n",
       "        var code = IPython.notebook.insert_cell_below('code');\n",
       "        code.set_text(atob(\"IyBUZW1wCmluc2VydCgnJycKYmVra2VyczIwMTJhID0gREIoV29ya1VucmVsYXRlZCgKICAgIDIwMTIsICJTaXR1YXRpb25hbCBQcm9jZXNzIEltcHJvdmVtZW50IGluIFNvZnR3YXJlIFByb2R1Y3QgTWFuYWdlbWVudCIsCiAgICBkaXNwbGF5PSJiZWtrZXJzIiwKICAgIGF1dGhvcnM9IkJla2tlcnMsIFdKIiwKICAgIHBsYWNlPVRoZXNpcywKICAgIGVudHJ5dHlwZT0icGhkdGhlc2lzIiwKICAgIElEPSJiZWtrZXJzMjAxMnNpdHVhdGlvbmFsIiwKICAgIGNsdXN0ZXJfaWQ9IjY2OTkzMTUxMTgxNTEzMTA2NDMiLAogICAgc2Nob2xhcj0iaHR0cDovL3NjaG9sYXIuZ29vZ2xlLmNvbS9zY2hvbGFyP2NpdGVzPTY2OTkzMTUxMTgxNTEzMTA2NDMmYXNfc2R0PTIwMDUmc2Npb2R0PTAsNSZobD1lbiIsCiAgICBsb2NhbD0iVXRyZWNodCBVbml2ZXJzaXR5IiwKICAgIHBsYWNleD0iIiwKKSkKCkRCKENpdGF0aW9uKAogICAgYmVra2VyczIwMTJhLCBrYXV0ejIwMDBhLCByZWY9IiIsCiAgICBjb250ZXh0cz1bCgogICAgXSwKKSkKCicnJywgY2l0YXRpb25zPSdrYXV0ejIwMDBhJyk7\"));\n",
       "    "
      ],
      "text/plain": [
       "<IPython.core.display.Javascript object>"
      ]
     },
     "metadata": {},
     "output_type": "display_data"
    },
    {
     "data": {
      "application/javascript": [
       "$('span:contains(\"# Temp\")').closest('.cell').remove();"
      ],
      "text/plain": [
       "<IPython.core.display.Javascript object>"
      ]
     },
     "metadata": {},
     "output_type": "display_data"
    },
    {
     "data": {
      "application/javascript": [
       "\n",
       "        $('span:contains(\"# Temp\")').closest('.cell').remove();\n",
       "        var code = IPython.notebook.insert_cell_below('code');\n",
       "        code.set_text(atob(\"IyBUZW1wCmluc2VydCgnJycKYmVra2VyczIwMTJhID0gREIoV29ya1VucmVsYXRlZCgKICAgIDIwMTIsICJTaXR1YXRpb25hbCBQcm9jZXNzIEltcHJvdmVtZW50IGluIFNvZnR3YXJlIFByb2R1Y3QgTWFuYWdlbWVudCIsCiAgICBkaXNwbGF5PSJiZWtrZXJzIiwKICAgIGF1dGhvcnM9IkJla2tlcnMsIFdKIiwKICAgIHBsYWNlPVRoZXNpcywKICAgIGVudHJ5dHlwZT0icGhkdGhlc2lzIiwKICAgIElEPSJiZWtrZXJzMjAxMnNpdHVhdGlvbmFsIiwKICAgIGNsdXN0ZXJfaWQ9IjY2OTkzMTUxMTgxNTEzMTA2NDMiLAogICAgc2Nob2xhcj0iaHR0cDovL3NjaG9sYXIuZ29vZ2xlLmNvbS9zY2hvbGFyP2NpdGVzPTY2OTkzMTUxMTgxNTEzMTA2NDMmYXNfc2R0PTIwMDUmc2Npb2R0PTAsNSZobD1lbiIsCiAgICBsb2NhbD0iVXRyZWNodCBVbml2ZXJzaXR5IiwKICAgIHBsYWNleD0iIiwKKSkKCkRCKENpdGF0aW9uKAogICAgYmVra2VyczIwMTJhLCBrYXV0ejIwMDBhLCByZWY9IiIsCiAgICBjb250ZXh0cz1bCgogICAgXSwKKSkKCicnJywgY2l0YXRpb25zPSdrYXV0ejIwMDBhJyk7\"));\n",
       "    "
      ],
      "text/plain": [
       "<IPython.core.display.Javascript object>"
      ]
     },
     "metadata": {},
     "output_type": "display_data"
    },
    {
     "data": {
      "application/javascript": [
       "$('span:contains(\"# Temp\")').closest('.cell').remove();"
      ],
      "text/plain": [
       "<IPython.core.display.Javascript object>"
      ]
     },
     "metadata": {},
     "output_type": "display_data"
    },
    {
     "data": {
      "application/javascript": [
       "\n",
       "        $('span:contains(\"# Temp\")').closest('.cell').remove();\n",
       "        var code = IPython.notebook.insert_cell_below('code');\n",
       "        code.set_text(atob(\"IyBUZW1wCmluc2VydCgnJycKa2F1dHoyMDAxYyA9IERCKFdvcmtVbnJlbGF0ZWQoCiAgICAyMDAxLCAiU29mdHdhcmUgcXVhbGl0eSBtYW5hZ2VtZW50IGFuZCBzb2Z0d2FyZSBwcm9jZXNzIGltcHJvdmVtZW50IGluIERlbm1hcmsiLAogICAgZGlzcGxheT0ia2F1dHogYyIsCiAgICBhdXRob3JzPSJLYXV0eiwgS2FybGhlaW56IGFuZCBSYW16YW4sIEZhaXNhbCIsCiAgICBwbGFjZT1GQUtFLAogICAgcHA9IjEwLS1wcCIsCiAgICBlbnRyeXR5cGU9ImlucHJvY2VlZGluZ3MiLAogICAgb3JnYW5pemF0aW9uPSJJRUVFIiwKICAgIElEPSJrYXV0ejIwMDFzb2Z0d2FyZSIsCiAgICBjbHVzdGVyX2lkPSIyMDcyMzM3ODQzNzI2NTA0MjIyIiwKICAgIHNjaG9sYXI9Imh0dHA6Ly9zY2hvbGFyLmdvb2dsZS5jb20vc2Nob2xhcj9jaXRlcz0yMDcyMzM3ODQzNzI2NTA0MjIyJmFzX3NkdD0yMDA1JnNjaW9kdD0wLDUmaGw9ZW4iLAogICAgcGxhY2V4PSJTeXN0ZW0gU2NpZW5jZXMsIDIwMDEuIFByb2NlZWRpbmdzIG9mIHRoZSAzNHRoIEFubnVhbCBIYXdhaWkgSW50ZXJuYXRpb25hbCBDb25mZXJlbmNlIG9uIiwKKSkKCkRCKENpdGF0aW9uKAogICAga2F1dHoyMDAxYywga2F1dHoyMDAwYSwgcmVmPSIiLAogICAgY29udGV4dHM9WwoKICAgIF0sCikpCgonJycsIGNpdGF0aW9ucz0na2F1dHoyMDAwYScpOw==\"));\n",
       "    "
      ],
      "text/plain": [
       "<IPython.core.display.Javascript object>"
      ]
     },
     "metadata": {},
     "output_type": "display_data"
    },
    {
     "data": {
      "application/javascript": [
       "$('span:contains(\"# Temp\")').closest('.cell').remove();"
      ],
      "text/plain": [
       "<IPython.core.display.Javascript object>"
      ]
     },
     "metadata": {},
     "output_type": "display_data"
    },
    {
     "data": {
      "application/javascript": [
       "\n",
       "        $('span:contains(\"# Temp\")').closest('.cell').remove();\n",
       "        var code = IPython.notebook.insert_cell_below('code');\n",
       "        code.set_text(atob(\"IyBUZW1wCmluc2VydCgnJycKbeRrafYyMDEwYSA9IERCKFdvcmtVbnJlbGF0ZWQoCiAgICAyMDEwLCAiT1VUU0hPUkUgbWF0dXJpdHkgbW9kZWw6IEFzc2lzdGFuY2UgZm9yIHNvZnR3YXJlIG9mZnNob3JlIG91dHNvdXJjaW5nIGRlY2lzaW9ucyIsCiAgICBkaXNwbGF5PSJt5Gtp9iIsCiAgICBhdXRob3JzPSJN5Gtp9iwgSnVobyBhbmQgQmV0eiwgU3RhZmFuaWUgYW5kIE9iZXJ3ZWlzLCBBbmRyZWFzIiwKICAgIHBsYWNlPUZBS0UsCiAgICBwcD0iMzI5LS0zNDEiLAogICAgZW50cnl0eXBlPSJpbmNvbGxlY3Rpb24iLAogICAgcHVibGlzaGVyPSJTcHJpbmdlciIsCiAgICBJRD0ibWFraW8yMDEwb3V0c2hvcmUiLAogICAgY2x1c3Rlcl9pZD0iMTE0NTAxNjY0NTI5MTQxMDI2MTgiLAogICAgc2Nob2xhcj0iaHR0cDovL3NjaG9sYXIuZ29vZ2xlLmNvbS9zY2hvbGFyP2NpdGVzPTExNDUwMTY2NDUyOTE0MTAyNjE4JmFzX3NkdD0yMDA1JnNjaW9kdD0wLDUmaGw9ZW4iLAogICAgcGxhY2V4PSJDb2xsYWJvcmF0aXZlIFNvZnR3YXJlIEVuZ2luZWVyaW5nIiwKKSkKCkRCKENpdGF0aW9uKAogICAgbeRrafYyMDEwYSwga2F1dHoyMDAwYSwgcmVmPSIiLAogICAgY29udGV4dHM9WwoKICAgIF0sCikpCgonJycsIGNpdGF0aW9ucz0na2F1dHoyMDAwYScpOw==\"));\n",
       "    "
      ],
      "text/plain": [
       "<IPython.core.display.Javascript object>"
      ]
     },
     "metadata": {},
     "output_type": "display_data"
    },
    {
     "data": {
      "application/javascript": [
       "$('span:contains(\"# Temp\")').closest('.cell').remove();"
      ],
      "text/plain": [
       "<IPython.core.display.Javascript object>"
      ]
     },
     "metadata": {},
     "output_type": "display_data"
    },
    {
     "data": {
      "application/javascript": [
       "\n",
       "        $('span:contains(\"# Temp\")').closest('.cell').remove();\n",
       "        var code = IPython.notebook.insert_cell_below('code');\n",
       "        code.set_text(atob(\"IyBUZW1wCmluc2VydCgnJycKbeRrafYyMDEwYSA9IERCKFdvcmtVbnJlbGF0ZWQoCiAgICAyMDEwLCAiT1VUU0hPUkUgbWF0dXJpdHkgbW9kZWw6IEFzc2lzdGFuY2UgZm9yIHNvZnR3YXJlIG9mZnNob3JlIG91dHNvdXJjaW5nIGRlY2lzaW9ucyIsCiAgICBkaXNwbGF5PSJt5Gtp9iIsCiAgICBhdXRob3JzPSJN5Gtp9iwgSnVobyBhbmQgQmV0eiwgU3RhZmFuaWUgYW5kIE9iZXJ3ZWlzLCBBbmRyZWFzIiwKICAgIHBsYWNlPUZBS0UsCiAgICBwcD0iMzI5LS0zNDEiLAogICAgZW50cnl0eXBlPSJpbmNvbGxlY3Rpb24iLAogICAgcHVibGlzaGVyPSJTcHJpbmdlciIsCiAgICBJRD0ibWFraW8yMDEwb3V0c2hvcmUiLAogICAgY2x1c3Rlcl9pZD0iMTE0NTAxNjY0NTI5MTQxMDI2MTgiLAogICAgc2Nob2xhcj0iaHR0cDovL3NjaG9sYXIuZ29vZ2xlLmNvbS9zY2hvbGFyP2NpdGVzPTExNDUwMTY2NDUyOTE0MTAyNjE4JmFzX3NkdD0yMDA1JnNjaW9kdD0wLDUmaGw9ZW4iLAogICAgcGxhY2V4PSJDb2xsYWJvcmF0aXZlIFNvZnR3YXJlIEVuZ2luZWVyaW5nIiwKKSkKCkRCKENpdGF0aW9uKAogICAgbeRrafYyMDEwYSwga2F1dHoyMDAwYSwgcmVmPSIiLAogICAgY29udGV4dHM9WwoKICAgIF0sCikpCgonJycsIGNpdGF0aW9ucz0na2F1dHoyMDAwYScpOw==\"));\n",
       "    "
      ],
      "text/plain": [
       "<IPython.core.display.Javascript object>"
      ]
     },
     "metadata": {},
     "output_type": "display_data"
    },
    {
     "data": {
      "application/javascript": [
       "$('span:contains(\"# Temp\")').closest('.cell').remove();"
      ],
      "text/plain": [
       "<IPython.core.display.Javascript object>"
      ]
     },
     "metadata": {},
     "output_type": "display_data"
    },
    {
     "data": {
      "application/javascript": [
       "\n",
       "        $('span:contains(\"# Temp\")').closest('.cell').remove();\n",
       "        var code = IPython.notebook.insert_cell_below('code');\n",
       "        code.set_text(atob(\"IyBUZW1wCmluc2VydCgnJycKYWRhbW9uaXMyMDA1YSA9IERCKFdvcmtVbnJlbGF0ZWQoCiAgICAyMDA1LCAiREVQRU5ERU5DSUVTIE9GIFBST0NFU1NFU5JDQVBBQklMSVRZIExFVkVMUyIsCiAgICBkaXNwbGF5PSJhZGFtb25pcyIsCiAgICBhdXRob3JzPSJBZGFtb25pcywgQW5kcml1cyBhbmQgTWl0YXuafWl7P3V9bmFzLCBBbnRhbmFzIGFuZCBOYXVqaWthcywgSXJtYW50YXMgYW5kIFJhZ2Fpe5p9aXMsIFNhdWxpdXMgYW5kIFJlaW5nYXJkdGFzLCBNYXJ0eW5hcyIsCiAgICBwbGFjZT1GQUtFLAogICAgZW50cnl0eXBlPSJhcnRpY2xlIiwKICAgIHZvbHVtZT0iMzQiLAogICAgbnVtYmVyPSIyIiwKICAgIElEPSJhZGFtb25pczIwMDVkZXBlbmRlbmNpZXMiLAogICAgY2x1c3Rlcl9pZD0iMTgwNTQyOTg0MTU4NjM5Mjg4MDEiLAogICAgc2Nob2xhcj0iaHR0cDovL3NjaG9sYXIuZ29vZ2xlLmNvbS9zY2hvbGFyP2NpdGVzPTE4MDU0Mjk4NDE1ODYzOTI4ODAxJmFzX3NkdD0yMDA1JnNjaW9kdD0wLDUmaGw9ZW4iLAogICAgcGxhY2V4PSJJbmZvcm1hdGlvbiB0ZWNobm9sb2d5IGFuZCBjb250cm9sIiwKKSkKCkRCKENpdGF0aW9uKAogICAgYWRhbW9uaXMyMDA1YSwga2F1dHoyMDAwYSwgcmVmPSIiLAogICAgY29udGV4dHM9WwoKICAgIF0sCikpCgonJycsIGNpdGF0aW9ucz0na2F1dHoyMDAwYScpOw==\"));\n",
       "    "
      ],
      "text/plain": [
       "<IPython.core.display.Javascript object>"
      ]
     },
     "metadata": {},
     "output_type": "display_data"
    },
    {
     "data": {
      "application/javascript": [
       "$('span:contains(\"# Temp\")').closest('.cell').remove();"
      ],
      "text/plain": [
       "<IPython.core.display.Javascript object>"
      ]
     },
     "metadata": {},
     "output_type": "display_data"
    },
    {
     "data": {
      "application/javascript": [
       "\n",
       "        $('span:contains(\"# Temp\")').closest('.cell').remove();\n",
       "        var code = IPython.notebook.insert_cell_below('code');\n",
       "        code.set_text(atob(\"IyBUZW1wCmluc2VydCgnJycKYWRhbW9uaXMyMDA1YSA9IERCKFdvcmtVbnJlbGF0ZWQoCiAgICAyMDA1LCAiREVQRU5ERU5DSUVTIE9GIFBST0NFU1NFU5JDQVBBQklMSVRZIExFVkVMUyIsCiAgICBkaXNwbGF5PSJhZGFtb25pcyIsCiAgICBhdXRob3JzPSJBZGFtb25pcywgQW5kcml1cyBhbmQgTWl0YXuafWl7P3V9bmFzLCBBbnRhbmFzIGFuZCBOYXVqaWthcywgSXJtYW50YXMgYW5kIFJhZ2Fpe5p9aXMsIFNhdWxpdXMgYW5kIFJlaW5nYXJkdGFzLCBNYXJ0eW5hcyIsCiAgICBwbGFjZT1GQUtFLAogICAgZW50cnl0eXBlPSJhcnRpY2xlIiwKICAgIHZvbHVtZT0iMzQiLAogICAgbnVtYmVyPSIyIiwKICAgIElEPSJhZGFtb25pczIwMDVkZXBlbmRlbmNpZXMiLAogICAgY2x1c3Rlcl9pZD0iMTgwNTQyOTg0MTU4NjM5Mjg4MDEiLAogICAgc2Nob2xhcj0iaHR0cDovL3NjaG9sYXIuZ29vZ2xlLmNvbS9zY2hvbGFyP2NpdGVzPTE4MDU0Mjk4NDE1ODYzOTI4ODAxJmFzX3NkdD0yMDA1JnNjaW9kdD0wLDUmaGw9ZW4iLAogICAgcGxhY2V4PSJJbmZvcm1hdGlvbiB0ZWNobm9sb2d5IGFuZCBjb250cm9sIiwKKSkKCkRCKENpdGF0aW9uKAogICAgYWRhbW9uaXMyMDA1YSwga2F1dHoyMDAwYSwgcmVmPSIiLAogICAgY29udGV4dHM9WwoKICAgIF0sCikpCgonJycsIGNpdGF0aW9ucz0na2F1dHoyMDAwYScpOw==\"));\n",
       "    "
      ],
      "text/plain": [
       "<IPython.core.display.Javascript object>"
      ]
     },
     "metadata": {},
     "output_type": "display_data"
    },
    {
     "data": {
      "application/javascript": [
       "$('span:contains(\"# Temp\")').closest('.cell').remove();"
      ],
      "text/plain": [
       "<IPython.core.display.Javascript object>"
      ]
     },
     "metadata": {},
     "output_type": "display_data"
    },
    {
     "data": {
      "application/javascript": [
       "\n",
       "        $('span:contains(\"# Temp\")').closest('.cell').remove();\n",
       "        var code = IPython.notebook.insert_cell_below('code');\n",
       "        code.set_text(atob(\"IyBUZW1wCmluc2VydCgnJycKd29uZzIwMDZhID0gREIoV29ya1VucmVsYXRlZCgKICAgIDIwMDYsICJTb2Z0d2FyZSBwcm9jZXNzIGltcHJvdmVtZW50cyBpbiBCYWdsYWRlc2giLAogICAgZGlzcGxheT0id29uZyIsCiAgICBhdXRob3JzPSJXb25nLCBCZXJuYXJkIGFuZCBIYXNhbiwgU2F6emFkIiwKICAgIHBsYWNlPUlDU0UsCiAgICBlbnRyeXR5cGU9ImlucHJvY2VlZGluZ3MiLAogICAgb3JnYW5pemF0aW9uPSJDU1JFQSBQcmVzcyIsCiAgICBJRD0id29uZzIwMDZzb2Z0d2FyZSIsCiAgICBjbHVzdGVyX2lkPSIxMjgwOTc0MzY0NzU3NzEwMzciLAogICAgc2Nob2xhcj0iaHR0cDovL3NjaG9sYXIuZ29vZ2xlLmNvbS9zY2hvbGFyP2NpdGVzPTEyODA5NzQzNjQ3NTc3MTAzNyZhc19zZHQ9MjAwNSZzY2lvZHQ9MCw1JmhsPWVuIiwKICAgIHBsYWNleD0iSW50ZXJuYXRpb25hbCBDb25mZXJlbmNlIG9uIFNvZnR3YXJlIEVuZ2luZWVyaW5nIFJlc2VhcmNoIGFuZCBQcmFjdGljZSIsCikpCgpEQihDaXRhdGlvbigKICAgIHdvbmcyMDA2YSwga2F1dHoyMDAwYSwgcmVmPSIiLAogICAgY29udGV4dHM9WwoKICAgIF0sCikpCgonJycsIGNpdGF0aW9ucz0na2F1dHoyMDAwYScpOw==\"));\n",
       "    "
      ],
      "text/plain": [
       "<IPython.core.display.Javascript object>"
      ]
     },
     "metadata": {},
     "output_type": "display_data"
    },
    {
     "data": {
      "application/javascript": [
       "$('span:contains(\"# Temp\")').closest('.cell').remove();"
      ],
      "text/plain": [
       "<IPython.core.display.Javascript object>"
      ]
     },
     "metadata": {},
     "output_type": "display_data"
    },
    {
     "data": {
      "application/javascript": [
       "\n",
       "        $('span:contains(\"# Temp\")').closest('.cell').remove();\n",
       "        var code = IPython.notebook.insert_cell_below('code');\n",
       "        code.set_text(atob(\"IyBUZW1wCmluc2VydCgnJycKd29uZzIwMDZhID0gREIoV29ya1VucmVsYXRlZCgKICAgIDIwMDYsICJTb2Z0d2FyZSBwcm9jZXNzIGltcHJvdmVtZW50cyBpbiBCYWdsYWRlc2giLAogICAgZGlzcGxheT0id29uZyIsCiAgICBhdXRob3JzPSJXb25nLCBCZXJuYXJkIGFuZCBIYXNhbiwgU2F6emFkIiwKICAgIHBsYWNlPUlDU0UsCiAgICBlbnRyeXR5cGU9ImlucHJvY2VlZGluZ3MiLAogICAgb3JnYW5pemF0aW9uPSJDU1JFQSBQcmVzcyIsCiAgICBJRD0id29uZzIwMDZzb2Z0d2FyZSIsCiAgICBjbHVzdGVyX2lkPSIxMjgwOTc0MzY0NzU3NzEwMzciLAogICAgc2Nob2xhcj0iaHR0cDovL3NjaG9sYXIuZ29vZ2xlLmNvbS9zY2hvbGFyP2NpdGVzPTEyODA5NzQzNjQ3NTc3MTAzNyZhc19zZHQ9MjAwNSZzY2lvZHQ9MCw1JmhsPWVuIiwKICAgIHBsYWNleD0iSW50ZXJuYXRpb25hbCBDb25mZXJlbmNlIG9uIFNvZnR3YXJlIEVuZ2luZWVyaW5nIFJlc2VhcmNoIGFuZCBQcmFjdGljZSIsCikpCgpEQihDaXRhdGlvbigKICAgIHdvbmcyMDA2YSwga2F1dHoyMDAwYSwgcmVmPSIiLAogICAgY29udGV4dHM9WwoKICAgIF0sCikpCgonJycsIGNpdGF0aW9ucz0na2F1dHoyMDAwYScpOw==\"));\n",
       "    "
      ],
      "text/plain": [
       "<IPython.core.display.Javascript object>"
      ]
     },
     "metadata": {},
     "output_type": "display_data"
    },
    {
     "data": {
      "application/javascript": [
       "$('span:contains(\"# Temp\")').closest('.cell').remove();"
      ],
      "text/plain": [
       "<IPython.core.display.Javascript object>"
      ]
     },
     "metadata": {},
     "output_type": "display_data"
    },
    {
     "data": {
      "application/javascript": [
       "\n",
       "        $('span:contains(\"# Temp\")').closest('.cell').remove();\n",
       "        var code = IPython.notebook.insert_cell_below('code');\n",
       "        code.set_text(atob(\"IyBUZW1wCmluc2VydCgnJycKZ3J1bmVyMjAxMWEgPSBEQihXb3JrVW5yZWxhdGVkKAogICAgMjAxMSwgIlNvZnR3YXJlIHRlc3RpbmcgaW4gc21hbGwgSVQgY29tcGFuaWVzOiBBIChub3Qgb25seSkgU291dGggQWZyaWNhbiBwcm9ibGVtIiwKICAgIGRpc3BsYXk9ImdydW5lciIsCiAgICBhdXRob3JzPSJHcnVuZXIsIFN0ZWZhbiBhbmQgVmFuIFp5bCwgSm9oYW4iLAogICAgcGxhY2U9RkFLRSwKICAgIHBwPSI3LS0zMiIsCiAgICBlbnRyeXR5cGU9ImFydGljbGUiLAogICAgdm9sdW1lPSI0NyIsCiAgICBudW1iZXI9IjEiLAogICAgcHVibGlzaGVyPSJTb3V0aCBBZnJpY2FuIENvbXB1dGVyIFNvY2lldHkgKFNBSUNTSVQpIiwKICAgIElEPSJncnVuZXIyMDExc29mdHdhcmUiLAogICAgY2x1c3Rlcl9pZD0iMzcxNzY4MTgzNTI3ODIwODM2MSIsCiAgICBzY2hvbGFyPSJodHRwOi8vc2Nob2xhci5nb29nbGUuY29tL3NjaG9sYXI/Y2l0ZXM9MzcxNzY4MTgzNTI3ODIwODM2MSZhc19zZHQ9MjAwNSZzY2lvZHQ9MCw1JmhsPWVuIiwKICAgIHBsYWNleD0iU291dGggQWZyaWNhbiBDb21wdXRlciBKb3VybmFsIiwKKSkKCkRCKENpdGF0aW9uKAogICAgZ3J1bmVyMjAxMWEsIGthdXR6MjAwMGEsIHJlZj0iIiwKICAgIGNvbnRleHRzPVsKCiAgICBdLAopKQoKJycnLCBjaXRhdGlvbnM9J2thdXR6MjAwMGEnKTs=\"));\n",
       "    "
      ],
      "text/plain": [
       "<IPython.core.display.Javascript object>"
      ]
     },
     "metadata": {},
     "output_type": "display_data"
    },
    {
     "data": {
      "application/javascript": [
       "$('span:contains(\"# Temp\")').closest('.cell').remove();"
      ],
      "text/plain": [
       "<IPython.core.display.Javascript object>"
      ]
     },
     "metadata": {},
     "output_type": "display_data"
    },
    {
     "data": {
      "application/javascript": [
       "\n",
       "        $('span:contains(\"# Temp\")').closest('.cell').remove();\n",
       "        var code = IPython.notebook.insert_cell_below('code');\n",
       "        code.set_text(atob(\"IyBUZW1wCmluc2VydCgnJycKZ3J1bmVyMjAxMWEgPSBEQihXb3JrVW5yZWxhdGVkKAogICAgMjAxMSwgIlNvZnR3YXJlIHRlc3RpbmcgaW4gc21hbGwgSVQgY29tcGFuaWVzOiBBIChub3Qgb25seSkgU291dGggQWZyaWNhbiBwcm9ibGVtIiwKICAgIGRpc3BsYXk9ImdydW5lciIsCiAgICBhdXRob3JzPSJHcnVuZXIsIFN0ZWZhbiBhbmQgVmFuIFp5bCwgSm9oYW4iLAogICAgcGxhY2U9RkFLRSwKICAgIHBwPSI3LS0zMiIsCiAgICBlbnRyeXR5cGU9ImFydGljbGUiLAogICAgdm9sdW1lPSI0NyIsCiAgICBudW1iZXI9IjEiLAogICAgcHVibGlzaGVyPSJTb3V0aCBBZnJpY2FuIENvbXB1dGVyIFNvY2lldHkgKFNBSUNTSVQpIiwKICAgIElEPSJncnVuZXIyMDExc29mdHdhcmUiLAogICAgY2x1c3Rlcl9pZD0iMzcxNzY4MTgzNTI3ODIwODM2MSIsCiAgICBzY2hvbGFyPSJodHRwOi8vc2Nob2xhci5nb29nbGUuY29tL3NjaG9sYXI/Y2l0ZXM9MzcxNzY4MTgzNTI3ODIwODM2MSZhc19zZHQ9MjAwNSZzY2lvZHQ9MCw1JmhsPWVuIiwKICAgIHBsYWNleD0iU291dGggQWZyaWNhbiBDb21wdXRlciBKb3VybmFsIiwKKSkKCkRCKENpdGF0aW9uKAogICAgZ3J1bmVyMjAxMWEsIGthdXR6MjAwMGEsIHJlZj0iIiwKICAgIGNvbnRleHRzPVsKCiAgICBdLAopKQoKJycnLCBjaXRhdGlvbnM9J2thdXR6MjAwMGEnKTs=\"));\n",
       "    "
      ],
      "text/plain": [
       "<IPython.core.display.Javascript object>"
      ]
     },
     "metadata": {},
     "output_type": "display_data"
    },
    {
     "data": {
      "application/javascript": [
       "$('span:contains(\"# Temp\")').closest('.cell').remove();"
      ],
      "text/plain": [
       "<IPython.core.display.Javascript object>"
      ]
     },
     "metadata": {},
     "output_type": "display_data"
    },
    {
     "data": {
      "application/javascript": [
       "\n",
       "        $('span:contains(\"# Temp\")').closest('.cell').remove();\n",
       "        var code = IPython.notebook.insert_cell_below('code');\n",
       "        code.set_text(atob(\"IyBUZW1wCmluc2VydCgnJycKY2F0ZXIyMDA0YyA9IERCKFdvcmtVbnJlbGF0ZWQoCiAgICAyMDA0LCAiQWZ0ZXIgdGhlIGFzc2Vzc21lbnQ6IGFjdGlvbnMgYW5kIHJlYWN0aW9ucyBvZiAyMiBzbWFsbCBBdXN0cmFsaWFuIGZpcm1zIiwKICAgIGRpc3BsYXk9ImNhdGVyIGMiLAogICAgYXV0aG9ycz0iQ2F0ZXItU3RlZWwsIEFpbGVlbiBhbmQgVG9sZW1hbiwgTWFyayBhbmQgUm91dCwgVGVycnkiLAogICAgcGxhY2U9RkFLRSwKICAgIHBwPSI1NC0tNjMiLAogICAgZW50cnl0eXBlPSJpbnByb2NlZWRpbmdzIiwKICAgIG9yZ2FuaXphdGlvbj0iQ3JpdGljYWwgU29mdHdhcmUgU0EvU1BJQ0UgVXNlciBHcm91cCIsCiAgICBJRD0iY2F0ZXIyMDA0YWZ0ZXIiLAogICAgY2x1c3Rlcl9pZD0iMjIzODYxODM4NTU4ODM5MzY2NCIsCiAgICBzY2hvbGFyPSJodHRwOi8vc2Nob2xhci5nb29nbGUuY29tL3NjaG9sYXI/Y2l0ZXM9MjIzODYxODM4NTU4ODM5MzY2NCZhc19zZHQ9MjAwNSZzY2lvZHQ9MCw1JmhsPWVuIiwKICAgIHBsYWNleD0iUHJvY2VlZGluZ3Mgb2YgdGhlIDR0aCBJbnRlcm5hdGlvbmFsIFNQSUNFIENvbmZlcmVuY2Ugb24gUHJvY2VzcyBBc3Nlc3NtZW50IGFuZCBJbXByb3ZlbWVudJdTUElDRSAyMDA0IiwKKSkKCkRCKENpdGF0aW9uKAogICAgY2F0ZXIyMDA0Yywga2F1dHoyMDAwYSwgcmVmPSIiLAogICAgY29udGV4dHM9WwoKICAgIF0sCikpCgonJycsIGNpdGF0aW9ucz0na2F1dHoyMDAwYScpOw==\"));\n",
       "    "
      ],
      "text/plain": [
       "<IPython.core.display.Javascript object>"
      ]
     },
     "metadata": {},
     "output_type": "display_data"
    },
    {
     "data": {
      "application/javascript": [
       "$('span:contains(\"# Temp\")').closest('.cell').remove();"
      ],
      "text/plain": [
       "<IPython.core.display.Javascript object>"
      ]
     },
     "metadata": {},
     "output_type": "display_data"
    },
    {
     "data": {
      "application/javascript": [
       "\n",
       "        $('span:contains(\"# Temp\")').closest('.cell').remove();\n",
       "        var code = IPython.notebook.insert_cell_below('code');\n",
       "        code.set_text(atob(\"IyBUZW1wCmluc2VydCgnJycKY2F0ZXIyMDA0YyA9IERCKFdvcmtVbnJlbGF0ZWQoCiAgICAyMDA0LCAiQWZ0ZXIgdGhlIGFzc2Vzc21lbnQ6IGFjdGlvbnMgYW5kIHJlYWN0aW9ucyBvZiAyMiBzbWFsbCBBdXN0cmFsaWFuIGZpcm1zIiwKICAgIGRpc3BsYXk9ImNhdGVyIGMiLAogICAgYXV0aG9ycz0iQ2F0ZXItU3RlZWwsIEFpbGVlbiBhbmQgVG9sZW1hbiwgTWFyayBhbmQgUm91dCwgVGVycnkiLAogICAgcGxhY2U9RkFLRSwKICAgIHBwPSI1NC0tNjMiLAogICAgZW50cnl0eXBlPSJpbnByb2NlZWRpbmdzIiwKICAgIG9yZ2FuaXphdGlvbj0iQ3JpdGljYWwgU29mdHdhcmUgU0EvU1BJQ0UgVXNlciBHcm91cCIsCiAgICBJRD0iY2F0ZXIyMDA0YWZ0ZXIiLAogICAgY2x1c3Rlcl9pZD0iMjIzODYxODM4NTU4ODM5MzY2NCIsCiAgICBzY2hvbGFyPSJodHRwOi8vc2Nob2xhci5nb29nbGUuY29tL3NjaG9sYXI/Y2l0ZXM9MjIzODYxODM4NTU4ODM5MzY2NCZhc19zZHQ9MjAwNSZzY2lvZHQ9MCw1JmhsPWVuIiwKICAgIHBsYWNleD0iUHJvY2VlZGluZ3Mgb2YgdGhlIDR0aCBJbnRlcm5hdGlvbmFsIFNQSUNFIENvbmZlcmVuY2Ugb24gUHJvY2VzcyBBc3Nlc3NtZW50IGFuZCBJbXByb3ZlbWVudJdTUElDRSAyMDA0IiwKKSkKCkRCKENpdGF0aW9uKAogICAgY2F0ZXIyMDA0Yywga2F1dHoyMDAwYSwgcmVmPSIiLAogICAgY29udGV4dHM9WwoKICAgIF0sCikpCgonJycsIGNpdGF0aW9ucz0na2F1dHoyMDAwYScpOw==\"));\n",
       "    "
      ],
      "text/plain": [
       "<IPython.core.display.Javascript object>"
      ]
     },
     "metadata": {},
     "output_type": "display_data"
    },
    {
     "data": {
      "application/javascript": [
       "$('span:contains(\"# Temp\")').closest('.cell').remove();"
      ],
      "text/plain": [
       "<IPython.core.display.Javascript object>"
      ]
     },
     "metadata": {},
     "output_type": "display_data"
    },
    {
     "data": {
      "application/javascript": [
       "\n",
       "        $('span:contains(\"# Temp\")').closest('.cell').remove();\n",
       "        var code = IPython.notebook.insert_cell_below('code');\n",
       "        code.set_text(atob(\"IyBUZW1wCmluc2VydCgnJycKa2F1cHBpbmVuMjAwNWEgPSBEQihXb3JrVW5yZWxhdGVkKAogICAgMjAwNSwgIkludHJvZHVjaW5nIHJlcXVpcmVtZW50cyBlbmdpbmVlcmluZyBpbnRvIHByb2R1Y3QgZGV2ZWxvcG1lbnQ6IHRvd2FyZHMgc3lzdGVtYXRpYyB1c2VyIHJlcXVpcmVtZW50cyBkZWZpbml0aW9uIiwKICAgIGRpc3BsYXk9ImthdXBwaW5lbiIsCiAgICBhdXRob3JzPSJLYXVwcGluZW4sIE1hcmpvIGFuZCBvdGhlcnMiLAogICAgcGxhY2U9Qm9vaywKICAgIGVudHJ5dHlwZT0iYm9vayIsCiAgICBwdWJsaXNoZXI9IkhlbHNpbmtpIFVuaXZlcnNpdHkgb2YgVGVjaG5vbG9neSIsCiAgICBJRD0ia2F1cHBpbmVuMjAwNWludHJvZHVjaW5nIiwKICAgIGNsdXN0ZXJfaWQ9Ijc3MTUwMzA1OTIxMjAwODk4MjgiLAogICAgc2Nob2xhcj0iaHR0cDovL3NjaG9sYXIuZ29vZ2xlLmNvbS9zY2hvbGFyP2NpdGVzPTc3MTUwMzA1OTIxMjAwODk4MjgmYXNfc2R0PTIwMDUmc2Npb2R0PTAsNSZobD1lbiIsCiAgICBwbGFjZXg9IiIsCikpCgpEQihDaXRhdGlvbigKICAgIGthdXBwaW5lbjIwMDVhLCBrYXV0ejIwMDBhLCByZWY9IiIsCiAgICBjb250ZXh0cz1bCgogICAgXSwKKSkKCicnJywgY2l0YXRpb25zPSdrYXV0ejIwMDBhJyk7\"));\n",
       "    "
      ],
      "text/plain": [
       "<IPython.core.display.Javascript object>"
      ]
     },
     "metadata": {},
     "output_type": "display_data"
    },
    {
     "data": {
      "application/javascript": [
       "$('span:contains(\"# Temp\")').closest('.cell').remove();"
      ],
      "text/plain": [
       "<IPython.core.display.Javascript object>"
      ]
     },
     "metadata": {},
     "output_type": "display_data"
    },
    {
     "data": {
      "application/javascript": [
       "\n",
       "        $('span:contains(\"# Temp\")').closest('.cell').remove();\n",
       "        var code = IPython.notebook.insert_cell_below('code');\n",
       "        code.set_text(atob(\"IyBUZW1wCmluc2VydCgnJycKa2F1cHBpbmVuMjAwNWEgPSBEQihXb3JrVW5yZWxhdGVkKAogICAgMjAwNSwgIkludHJvZHVjaW5nIHJlcXVpcmVtZW50cyBlbmdpbmVlcmluZyBpbnRvIHByb2R1Y3QgZGV2ZWxvcG1lbnQ6IHRvd2FyZHMgc3lzdGVtYXRpYyB1c2VyIHJlcXVpcmVtZW50cyBkZWZpbml0aW9uIiwKICAgIGRpc3BsYXk9ImthdXBwaW5lbiIsCiAgICBhdXRob3JzPSJLYXVwcGluZW4sIE1hcmpvIGFuZCBvdGhlcnMiLAogICAgcGxhY2U9Qm9vaywKICAgIGVudHJ5dHlwZT0iYm9vayIsCiAgICBwdWJsaXNoZXI9IkhlbHNpbmtpIFVuaXZlcnNpdHkgb2YgVGVjaG5vbG9neSIsCiAgICBJRD0ia2F1cHBpbmVuMjAwNWludHJvZHVjaW5nIiwKICAgIGNsdXN0ZXJfaWQ9Ijc3MTUwMzA1OTIxMjAwODk4MjgiLAogICAgc2Nob2xhcj0iaHR0cDovL3NjaG9sYXIuZ29vZ2xlLmNvbS9zY2hvbGFyP2NpdGVzPTc3MTUwMzA1OTIxMjAwODk4MjgmYXNfc2R0PTIwMDUmc2Npb2R0PTAsNSZobD1lbiIsCiAgICBwbGFjZXg9IiIsCikpCgpEQihDaXRhdGlvbigKICAgIGthdXBwaW5lbjIwMDVhLCBrYXV0ejIwMDBhLCByZWY9IiIsCiAgICBjb250ZXh0cz1bCgogICAgXSwKKSkKCicnJywgY2l0YXRpb25zPSdrYXV0ejIwMDBhJyk7\"));\n",
       "    "
      ],
      "text/plain": [
       "<IPython.core.display.Javascript object>"
      ]
     },
     "metadata": {},
     "output_type": "display_data"
    },
    {
     "data": {
      "application/javascript": [
       "$('span:contains(\"# Temp\")').closest('.cell').remove();"
      ],
      "text/plain": [
       "<IPython.core.display.Javascript object>"
      ]
     },
     "metadata": {},
     "output_type": "display_data"
    },
    {
     "data": {
      "application/javascript": [
       "\n",
       "        $('span:contains(\"# Temp\")').closest('.cell').remove();\n",
       "        var code = IPython.notebook.insert_cell_below('code');\n",
       "        code.set_text(atob(\"IyBUZW1wCmluc2VydCgnJycKbGFuZGFldGEyMDA4YSA9IERCKFdvcmtVbnJlbGF0ZWQoCiAgICAyMDA4LCAiUHJhY3RpY2FsIFNQSSBwbGFubmluZyIsCiAgICBkaXNwbGF5PSJsYW5kYWV0YSIsCiAgICBhdXRob3JzPSJMYW5kYWV0YSwgSm9z6SBGcmFuY2lzY28gYW5kIEdhcmPtYSwgSmF2aWVyIGFuZCBBbWVzY3VhLCBBbnRvbmlvIiwKICAgIHBsYWNlPUZBS0UsCiAgICBwcD0iODItLTkzIiwKICAgIGVudHJ5dHlwZT0iaW5wcm9jZWVkaW5ncyIsCiAgICBvcmdhbml6YXRpb249IlNwcmluZ2VyIiwKICAgIElEPSJsYW5kYWV0YTIwMDhwcmFjdGljYWwiLAogICAgY2x1c3Rlcl9pZD0iODkxMjA4MjIwMzY0NDA4MjI2MyIsCiAgICBzY2hvbGFyPSJodHRwOi8vc2Nob2xhci5nb29nbGUuY29tL3NjaG9sYXI/Y2l0ZXM9ODkxMjA4MjIwMzY0NDA4MjI2MyZhc19zZHQ9MjAwNSZzY2lvZHQ9MCw1JmhsPWVuIiwKICAgIHBsYWNleD0iRXVyb3BlYW4gQ29uZmVyZW5jZSBvbiBTb2Z0d2FyZSBQcm9jZXNzIEltcHJvdmVtZW50IiwKKSkKCkRCKENpdGF0aW9uKAogICAgbGFuZGFldGEyMDA4YSwga2F1dHoyMDAwYSwgcmVmPSIiLAogICAgY29udGV4dHM9WwoKICAgIF0sCikpCgonJycsIGNpdGF0aW9ucz0na2F1dHoyMDAwYScpOw==\"));\n",
       "    "
      ],
      "text/plain": [
       "<IPython.core.display.Javascript object>"
      ]
     },
     "metadata": {},
     "output_type": "display_data"
    },
    {
     "data": {
      "application/javascript": [
       "$('span:contains(\"# Temp\")').closest('.cell').remove();"
      ],
      "text/plain": [
       "<IPython.core.display.Javascript object>"
      ]
     },
     "metadata": {},
     "output_type": "display_data"
    },
    {
     "data": {
      "application/javascript": [
       "\n",
       "        $('span:contains(\"# Temp\")').closest('.cell').remove();\n",
       "        var code = IPython.notebook.insert_cell_below('code');\n",
       "        code.set_text(atob(\"IyBUZW1wCmluc2VydCgnJycKbGFuZGFldGEyMDA4YSA9IERCKFdvcmtVbnJlbGF0ZWQoCiAgICAyMDA4LCAiUHJhY3RpY2FsIFNQSSBwbGFubmluZyIsCiAgICBkaXNwbGF5PSJsYW5kYWV0YSIsCiAgICBhdXRob3JzPSJMYW5kYWV0YSwgSm9z6SBGcmFuY2lzY28gYW5kIEdhcmPtYSwgSmF2aWVyIGFuZCBBbWVzY3VhLCBBbnRvbmlvIiwKICAgIHBsYWNlPUZBS0UsCiAgICBwcD0iODItLTkzIiwKICAgIGVudHJ5dHlwZT0iaW5wcm9jZWVkaW5ncyIsCiAgICBvcmdhbml6YXRpb249IlNwcmluZ2VyIiwKICAgIElEPSJsYW5kYWV0YTIwMDhwcmFjdGljYWwiLAogICAgY2x1c3Rlcl9pZD0iODkxMjA4MjIwMzY0NDA4MjI2MyIsCiAgICBzY2hvbGFyPSJodHRwOi8vc2Nob2xhci5nb29nbGUuY29tL3NjaG9sYXI/Y2l0ZXM9ODkxMjA4MjIwMzY0NDA4MjI2MyZhc19zZHQ9MjAwNSZzY2lvZHQ9MCw1JmhsPWVuIiwKICAgIHBsYWNleD0iRXVyb3BlYW4gQ29uZmVyZW5jZSBvbiBTb2Z0d2FyZSBQcm9jZXNzIEltcHJvdmVtZW50IiwKKSkKCkRCKENpdGF0aW9uKAogICAgbGFuZGFldGEyMDA4YSwga2F1dHoyMDAwYSwgcmVmPSIiLAogICAgY29udGV4dHM9WwoKICAgIF0sCikpCgonJycsIGNpdGF0aW9ucz0na2F1dHoyMDAwYScpOw==\"));\n",
       "    "
      ],
      "text/plain": [
       "<IPython.core.display.Javascript object>"
      ]
     },
     "metadata": {},
     "output_type": "display_data"
    },
    {
     "data": {
      "application/javascript": [
       "$('span:contains(\"# Temp\")').closest('.cell').remove();"
      ],
      "text/plain": [
       "<IPython.core.display.Javascript object>"
      ]
     },
     "metadata": {},
     "output_type": "display_data"
    },
    {
     "data": {
      "application/javascript": [
       "\n",
       "        $('span:contains(\"# Temp\")').closest('.cell').remove();\n",
       "        var code = IPython.notebook.insert_cell_below('code');\n",
       "        code.set_text(atob(\"IyBUZW1wCmluc2VydCgnJycKYmFsYW5kaXMyMDA1YSA9IERCKFdvcmtVbnJlbGF0ZWQoCiAgICAyMDA1LCAiU29mdHdhcmUgUHJvY2VzcyBJbXByb3ZlbWVudCBpbiBMaXRodWFuaWEtLVVBQiBTaW50YWdtYSBDYXNlIFN0dWR5IiwKICAgIGRpc3BsYXk9ImJhbGFuZGlzIiwKICAgIGF1dGhvcnM9IkJhbGFuZGlzLCBPc3ZhbGRhcyBhbmQgTGF1cmluc2thaXQ/LCBMYXVyYSIsCiAgICBwbGFjZT1GQUtFLAogICAgZW50cnl0eXBlPSJhcnRpY2xlIiwKICAgIHZvbHVtZT0iMzQiLAogICAgbnVtYmVyPSIyIiwKICAgIElEPSJiYWxhbmRpczIwMDVzb2Z0d2FyZSIsCiAgICBjbHVzdGVyX2lkPSIzMDExMjYyMzI3OTYyOTY5NTM1IiwKICAgIHNjaG9sYXI9Imh0dHA6Ly9zY2hvbGFyLmdvb2dsZS5jb20vc2Nob2xhcj9jaXRlcz0zMDExMjYyMzI3OTYyOTY5NTM1JmFzX3NkdD0yMDA1JnNjaW9kdD0wLDUmaGw9ZW4iLAogICAgcGxhY2V4PSJJbmZvcm1hdGlvbiB0ZWNobm9sb2d5IGFuZCBjb250cm9sIiwKKSkKCkRCKENpdGF0aW9uKAogICAgYmFsYW5kaXMyMDA1YSwga2F1dHoyMDAwYSwgcmVmPSIiLAogICAgY29udGV4dHM9WwoKICAgIF0sCikpCgonJycsIGNpdGF0aW9ucz0na2F1dHoyMDAwYScpOw==\"));\n",
       "    "
      ],
      "text/plain": [
       "<IPython.core.display.Javascript object>"
      ]
     },
     "metadata": {},
     "output_type": "display_data"
    },
    {
     "data": {
      "application/javascript": [
       "$('span:contains(\"# Temp\")').closest('.cell').remove();"
      ],
      "text/plain": [
       "<IPython.core.display.Javascript object>"
      ]
     },
     "metadata": {},
     "output_type": "display_data"
    },
    {
     "data": {
      "application/javascript": [
       "\n",
       "        $('span:contains(\"# Temp\")').closest('.cell').remove();\n",
       "        var code = IPython.notebook.insert_cell_below('code');\n",
       "        code.set_text(atob(\"IyBUZW1wCmluc2VydCgnJycKYmFsYW5kaXMyMDA1YSA9IERCKFdvcmtVbnJlbGF0ZWQoCiAgICAyMDA1LCAiU29mdHdhcmUgUHJvY2VzcyBJbXByb3ZlbWVudCBpbiBMaXRodWFuaWEtLVVBQiBTaW50YWdtYSBDYXNlIFN0dWR5IiwKICAgIGRpc3BsYXk9ImJhbGFuZGlzIiwKICAgIGF1dGhvcnM9IkJhbGFuZGlzLCBPc3ZhbGRhcyBhbmQgTGF1cmluc2thaXQ/LCBMYXVyYSIsCiAgICBwbGFjZT1GQUtFLAogICAgZW50cnl0eXBlPSJhcnRpY2xlIiwKICAgIHZvbHVtZT0iMzQiLAogICAgbnVtYmVyPSIyIiwKICAgIElEPSJiYWxhbmRpczIwMDVzb2Z0d2FyZSIsCiAgICBjbHVzdGVyX2lkPSIzMDExMjYyMzI3OTYyOTY5NTM1IiwKICAgIHNjaG9sYXI9Imh0dHA6Ly9zY2hvbGFyLmdvb2dsZS5jb20vc2Nob2xhcj9jaXRlcz0zMDExMjYyMzI3OTYyOTY5NTM1JmFzX3NkdD0yMDA1JnNjaW9kdD0wLDUmaGw9ZW4iLAogICAgcGxhY2V4PSJJbmZvcm1hdGlvbiB0ZWNobm9sb2d5IGFuZCBjb250cm9sIiwKKSkKCkRCKENpdGF0aW9uKAogICAgYmFsYW5kaXMyMDA1YSwga2F1dHoyMDAwYSwgcmVmPSIiLAogICAgY29udGV4dHM9WwoKICAgIF0sCikpCgonJycsIGNpdGF0aW9ucz0na2F1dHoyMDAwYScpOw==\"));\n",
       "    "
      ],
      "text/plain": [
       "<IPython.core.display.Javascript object>"
      ]
     },
     "metadata": {},
     "output_type": "display_data"
    },
    {
     "data": {
      "application/javascript": [
       "$('span:contains(\"# Temp\")').closest('.cell').remove();"
      ],
      "text/plain": [
       "<IPython.core.display.Javascript object>"
      ]
     },
     "metadata": {},
     "output_type": "display_data"
    },
    {
     "data": {
      "application/javascript": [
       "\n",
       "        $('span:contains(\"# Temp\")').closest('.cell').remove();\n",
       "        var code = IPython.notebook.insert_cell_below('code');\n",
       "        code.set_text(atob(\"IyBUZW1wCmluc2VydCgnJycKd2Fsa2VyMjAwN2EgPSBEQihXb3JrVW5yZWxhdGVkKAogICAgMjAwNywgIkRldmVsb3BtZW50IG9mIGEgcHJvY2VzcyBpbXByb3ZlbWVudCBhcHByb2FjaCBmb3IgZ3JhZHVhdGUgSVQgZWR1Y2F0aW9uOiBUaGUgQ01NSSBJVCBFRCIsCiAgICBkaXNwbGF5PSJ3YWxrZXIiLAogICAgYXV0aG9ycz0iV2Fsa2VyLCBMb3JhbiBXIiwKICAgIHBsYWNlPVRoZXNpcywKICAgIGVudHJ5dHlwZT0icGhkdGhlc2lzIiwKICAgIElEPSJ3YWxrZXIyMDA3ZGV2ZWxvcG1lbnQiLAogICAgY2x1c3Rlcl9pZD0iOTA1MjM5MzYzNjU3NTI3OTI3MSIsCiAgICBzY2hvbGFyPSJodHRwOi8vc2Nob2xhci5nb29nbGUuY29tL3NjaG9sYXI/Y2l0ZXM9OTA1MjM5MzYzNjU3NTI3OTI3MSZhc19zZHQ9MjAwNSZzY2lvZHQ9MCw1JmhsPWVuIiwKICAgIGxvY2FsPSJMYXdyZW5jZSBUZWNobm9sb2dpY2FsIFVuaXZlcnNpdHkiLAogICAgcGxhY2V4PSIiLAopKQoKREIoQ2l0YXRpb24oCiAgICB3YWxrZXIyMDA3YSwga2F1dHoyMDAwYSwgcmVmPSIiLAogICAgY29udGV4dHM9WwoKICAgIF0sCikpCgonJycsIGNpdGF0aW9ucz0na2F1dHoyMDAwYScpOw==\"));\n",
       "    "
      ],
      "text/plain": [
       "<IPython.core.display.Javascript object>"
      ]
     },
     "metadata": {},
     "output_type": "display_data"
    },
    {
     "data": {
      "application/javascript": [
       "$('span:contains(\"# Temp\")').closest('.cell').remove();"
      ],
      "text/plain": [
       "<IPython.core.display.Javascript object>"
      ]
     },
     "metadata": {},
     "output_type": "display_data"
    },
    {
     "data": {
      "application/javascript": [
       "\n",
       "        $('span:contains(\"# Temp\")').closest('.cell').remove();\n",
       "        var code = IPython.notebook.insert_cell_below('code');\n",
       "        code.set_text(atob(\"IyBUZW1wCmluc2VydCgnJycKd2Fsa2VyMjAwN2EgPSBEQihXb3JrVW5yZWxhdGVkKAogICAgMjAwNywgIkRldmVsb3BtZW50IG9mIGEgcHJvY2VzcyBpbXByb3ZlbWVudCBhcHByb2FjaCBmb3IgZ3JhZHVhdGUgSVQgZWR1Y2F0aW9uOiBUaGUgQ01NSSBJVCBFRCIsCiAgICBkaXNwbGF5PSJ3YWxrZXIiLAogICAgYXV0aG9ycz0iV2Fsa2VyLCBMb3JhbiBXIiwKICAgIHBsYWNlPVRoZXNpcywKICAgIGVudHJ5dHlwZT0icGhkdGhlc2lzIiwKICAgIElEPSJ3YWxrZXIyMDA3ZGV2ZWxvcG1lbnQiLAogICAgY2x1c3Rlcl9pZD0iOTA1MjM5MzYzNjU3NTI3OTI3MSIsCiAgICBzY2hvbGFyPSJodHRwOi8vc2Nob2xhci5nb29nbGUuY29tL3NjaG9sYXI/Y2l0ZXM9OTA1MjM5MzYzNjU3NTI3OTI3MSZhc19zZHQ9MjAwNSZzY2lvZHQ9MCw1JmhsPWVuIiwKICAgIGxvY2FsPSJMYXdyZW5jZSBUZWNobm9sb2dpY2FsIFVuaXZlcnNpdHkiLAogICAgcGxhY2V4PSIiLAopKQoKREIoQ2l0YXRpb24oCiAgICB3YWxrZXIyMDA3YSwga2F1dHoyMDAwYSwgcmVmPSIiLAogICAgY29udGV4dHM9WwoKICAgIF0sCikpCgonJycsIGNpdGF0aW9ucz0na2F1dHoyMDAwYScpOw==\"));\n",
       "    "
      ],
      "text/plain": [
       "<IPython.core.display.Javascript object>"
      ]
     },
     "metadata": {},
     "output_type": "display_data"
    },
    {
     "data": {
      "application/javascript": [
       "$('span:contains(\"# Temp\")').closest('.cell').remove();"
      ],
      "text/plain": [
       "<IPython.core.display.Javascript object>"
      ]
     },
     "metadata": {},
     "output_type": "display_data"
    },
    {
     "data": {
      "application/javascript": [
       "\n",
       "        $('span:contains(\"# Temp\")').closest('.cell').remove();\n",
       "        var code = IPython.notebook.insert_cell_below('code');\n",
       "        code.set_text(atob(\"IyBUZW1wCmluc2VydCgnJycKYmVndW0yMDEwYSA9IERCKFdvcmtVbnJlbGF0ZWQoCiAgICAyMDEwLCAiU29mdHdhcmUgZGV2ZWxvcG1lbnQgc3RhbmRhcmQgYW5kIHNvZnR3YXJlIGVuZ2luZWVyaW5nIHByYWN0aWNlOiBBIGNhc2Ugc3R1ZHkgb2YgQmFuZ2xhZGVzaCIsCiAgICBkaXNwbGF5PSJiZWd1bSIsCiAgICBhdXRob3JzPSJCZWd1bSwgWmVyaW5hIGFuZCBLaGFuLCBNb2hhbW1lZCBTaGFmaXVsIEFsYW0gYW5kIEhhZml6LCBNb2hkIGFuZCBJc2xhbSwgTWQgYW5kIFNob3lhaWIsIE1EIGFuZCBvdGhlcnMiLAogICAgcGxhY2U9RkFLRSwKICAgIGVudHJ5dHlwZT0iYXJ0aWNsZSIsCiAgICBJRD0iYmVndW0yMDEwc29mdHdhcmUiLAogICAgY2x1c3Rlcl9pZD0iNzEwNjkyNDE0OTMwODE0NTY4NCIsCiAgICBzY2hvbGFyPSJodHRwOi8vc2Nob2xhci5nb29nbGUuY29tL3NjaG9sYXI/Y2l0ZXM9NzEwNjkyNDE0OTMwODE0NTY4NCZhc19zZHQ9MjAwNSZzY2lvZHQ9MCw1JmhsPWVuIiwKICAgIHBsYWNleD0iYXJYaXYgcHJlcHJpbnQgYXJYaXY6MTAwOC4zMzIxIiwKKSkKCkRCKENpdGF0aW9uKAogICAgYmVndW0yMDEwYSwga2F1dHoyMDAwYSwgcmVmPSIiLAogICAgY29udGV4dHM9WwoKICAgIF0sCikpCgonJycsIGNpdGF0aW9ucz0na2F1dHoyMDAwYScpOw==\"));\n",
       "    "
      ],
      "text/plain": [
       "<IPython.core.display.Javascript object>"
      ]
     },
     "metadata": {},
     "output_type": "display_data"
    },
    {
     "data": {
      "application/javascript": [
       "$('span:contains(\"# Temp\")').closest('.cell').remove();"
      ],
      "text/plain": [
       "<IPython.core.display.Javascript object>"
      ]
     },
     "metadata": {},
     "output_type": "display_data"
    },
    {
     "data": {
      "application/javascript": [
       "\n",
       "        $('span:contains(\"# Temp\")').closest('.cell').remove();\n",
       "        var code = IPython.notebook.insert_cell_below('code');\n",
       "        code.set_text(atob(\"IyBUZW1wCmluc2VydCgnJycKYmVndW0yMDEwYSA9IERCKFdvcmtVbnJlbGF0ZWQoCiAgICAyMDEwLCAiU29mdHdhcmUgZGV2ZWxvcG1lbnQgc3RhbmRhcmQgYW5kIHNvZnR3YXJlIGVuZ2luZWVyaW5nIHByYWN0aWNlOiBBIGNhc2Ugc3R1ZHkgb2YgQmFuZ2xhZGVzaCIsCiAgICBkaXNwbGF5PSJiZWd1bSIsCiAgICBhdXRob3JzPSJCZWd1bSwgWmVyaW5hIGFuZCBLaGFuLCBNb2hhbW1lZCBTaGFmaXVsIEFsYW0gYW5kIEhhZml6LCBNb2hkIGFuZCBJc2xhbSwgTWQgYW5kIFNob3lhaWIsIE1EIGFuZCBvdGhlcnMiLAogICAgcGxhY2U9RkFLRSwKICAgIGVudHJ5dHlwZT0iYXJ0aWNsZSIsCiAgICBJRD0iYmVndW0yMDEwc29mdHdhcmUiLAogICAgY2x1c3Rlcl9pZD0iNzEwNjkyNDE0OTMwODE0NTY4NCIsCiAgICBzY2hvbGFyPSJodHRwOi8vc2Nob2xhci5nb29nbGUuY29tL3NjaG9sYXI/Y2l0ZXM9NzEwNjkyNDE0OTMwODE0NTY4NCZhc19zZHQ9MjAwNSZzY2lvZHQ9MCw1JmhsPWVuIiwKICAgIHBsYWNleD0iYXJYaXYgcHJlcHJpbnQgYXJYaXY6MTAwOC4zMzIxIiwKKSkKCkRCKENpdGF0aW9uKAogICAgYmVndW0yMDEwYSwga2F1dHoyMDAwYSwgcmVmPSIiLAogICAgY29udGV4dHM9WwoKICAgIF0sCikpCgonJycsIGNpdGF0aW9ucz0na2F1dHoyMDAwYScpOw==\"));\n",
       "    "
      ],
      "text/plain": [
       "<IPython.core.display.Javascript object>"
      ]
     },
     "metadata": {},
     "output_type": "display_data"
    },
    {
     "data": {
      "application/javascript": [
       "$('span:contains(\"# Temp\")').closest('.cell').remove();"
      ],
      "text/plain": [
       "<IPython.core.display.Javascript object>"
      ]
     },
     "metadata": {},
     "output_type": "display_data"
    },
    {
     "data": {
      "application/javascript": [
       "\n",
       "        $('span:contains(\"# Temp\")').closest('.cell').remove();\n",
       "        var code = IPython.notebook.insert_cell_below('code');\n",
       "        code.set_text(atob(\"IyBUZW1wCmluc2VydCgnJycKc3VqYXJpdGhhMjAwN2EgPSBEQihXb3JrVW5yZWxhdGVkKAogICAgMjAwNywgIkZhY2UgcmVjb2duaXRpb24gdXNpbmcgd2F2ZWxldCB0cmFuc2Zvcm0gYW5kIGxvY2FsbHkgZGlzY3JpbWluYXRpbmcgcHJvamVjdGlvbiIsCiAgICBkaXNwbGF5PSJzdWphcml0aGEiLAogICAgYXV0aG9ycz0iU3VqYXJpdGhhLCBNIGFuZCBBbm5hZHVyYWksIFMiLAogICAgcGxhY2U9RkFLRSwKICAgIHBwPSI0MzYtLTQ0MCIsCiAgICBlbnRyeXR5cGU9ImlucHJvY2VlZGluZ3MiLAogICAgdm9sdW1lPSIyIiwKICAgIG9yZ2FuaXphdGlvbj0iSUVFRSIsCiAgICBJRD0ic3VqYXJpdGhhMjAwN2ZhY2UiLAogICAgY2x1c3Rlcl9pZD0iMTI0ODAyMzM0MDc1NzQxMjA4ODQiLAogICAgc2Nob2xhcj0iaHR0cDovL3NjaG9sYXIuZ29vZ2xlLmNvbS9zY2hvbGFyP2NpdGVzPTEyNDgwMjMzNDA3NTc0MTIwODg0JmFzX3NkdD0yMDA1JnNjaW9kdD0wLDUmaGw9ZW4iLAogICAgcGxhY2V4PSJDb25mZXJlbmNlIG9uIENvbXB1dGF0aW9uYWwgSW50ZWxsaWdlbmNlIGFuZCBNdWx0aW1lZGlhIEFwcGxpY2F0aW9ucywgMjAwNy4gSW50ZXJuYXRpb25hbCBDb25mZXJlbmNlIG9uIiwKKSkKCkRCKENpdGF0aW9uKAogICAgc3VqYXJpdGhhMjAwN2EsIGthdXR6MjAwMGEsIHJlZj0iIiwKICAgIGNvbnRleHRzPVsKCiAgICBdLAopKQoKJycnLCBjaXRhdGlvbnM9J2thdXR6MjAwMGEnKTs=\"));\n",
       "    "
      ],
      "text/plain": [
       "<IPython.core.display.Javascript object>"
      ]
     },
     "metadata": {},
     "output_type": "display_data"
    },
    {
     "data": {
      "application/javascript": [
       "$('span:contains(\"# Temp\")').closest('.cell').remove();"
      ],
      "text/plain": [
       "<IPython.core.display.Javascript object>"
      ]
     },
     "metadata": {},
     "output_type": "display_data"
    },
    {
     "data": {
      "application/javascript": [
       "\n",
       "        $('span:contains(\"# Temp\")').closest('.cell').remove();\n",
       "        var code = IPython.notebook.insert_cell_below('code');\n",
       "        code.set_text(atob(\"IyBUZW1wCmluc2VydCgnJycKc3VqYXJpdGhhMjAwN2EgPSBEQihXb3JrVW5yZWxhdGVkKAogICAgMjAwNywgIkZhY2UgcmVjb2duaXRpb24gdXNpbmcgd2F2ZWxldCB0cmFuc2Zvcm0gYW5kIGxvY2FsbHkgZGlzY3JpbWluYXRpbmcgcHJvamVjdGlvbiIsCiAgICBkaXNwbGF5PSJzdWphcml0aGEiLAogICAgYXV0aG9ycz0iU3VqYXJpdGhhLCBNIGFuZCBBbm5hZHVyYWksIFMiLAogICAgcGxhY2U9RkFLRSwKICAgIHBwPSI0MzYtLTQ0MCIsCiAgICBlbnRyeXR5cGU9ImlucHJvY2VlZGluZ3MiLAogICAgdm9sdW1lPSIyIiwKICAgIG9yZ2FuaXphdGlvbj0iSUVFRSIsCiAgICBJRD0ic3VqYXJpdGhhMjAwN2ZhY2UiLAogICAgY2x1c3Rlcl9pZD0iMTI0ODAyMzM0MDc1NzQxMjA4ODQiLAogICAgc2Nob2xhcj0iaHR0cDovL3NjaG9sYXIuZ29vZ2xlLmNvbS9zY2hvbGFyP2NpdGVzPTEyNDgwMjMzNDA3NTc0MTIwODg0JmFzX3NkdD0yMDA1JnNjaW9kdD0wLDUmaGw9ZW4iLAogICAgcGxhY2V4PSJDb25mZXJlbmNlIG9uIENvbXB1dGF0aW9uYWwgSW50ZWxsaWdlbmNlIGFuZCBNdWx0aW1lZGlhIEFwcGxpY2F0aW9ucywgMjAwNy4gSW50ZXJuYXRpb25hbCBDb25mZXJlbmNlIG9uIiwKKSkKCkRCKENpdGF0aW9uKAogICAgc3VqYXJpdGhhMjAwN2EsIGthdXR6MjAwMGEsIHJlZj0iIiwKICAgIGNvbnRleHRzPVsKCiAgICBdLAopKQoKJycnLCBjaXRhdGlvbnM9J2thdXR6MjAwMGEnKTs=\"));\n",
       "    "
      ],
      "text/plain": [
       "<IPython.core.display.Javascript object>"
      ]
     },
     "metadata": {},
     "output_type": "display_data"
    },
    {
     "data": {
      "application/javascript": [
       "$('span:contains(\"# Temp\")').closest('.cell').remove();"
      ],
      "text/plain": [
       "<IPython.core.display.Javascript object>"
      ]
     },
     "metadata": {},
     "output_type": "display_data"
    },
    {
     "data": {
      "application/javascript": [
       "\n",
       "        $('span:contains(\"# Temp\")').closest('.cell').remove();\n",
       "        var code = IPython.notebook.insert_cell_below('code');\n",
       "        code.set_text(atob(\"IyBUZW1wCmluc2VydCgnJycKREIoQ2l0YXRpb24oCiAgICBrYXN1cmluZW4yMDEyYSwga2F1dHoyMDAwYSwgcmVmPSIiLAogICAgY29udGV4dHM9WwoKICAgIF0sCikpCgonJycsIGNpdGF0aW9ucz0na2F1dHoyMDAwYScpOwpzZXRfYXR0cmlidXRlKCdrYXN1cmluZW4yMDEyYScsICdleGNlcnB0JywgJ0Fic3RyYWN0IEluIHRoaXMgc3R1ZHksIHRoZSBjb21wb25lbnRzIGltcG9ydGFudCBmb3IgdGVzdGluZyB3b3JrIGFuZCBvcmdhbml6YXRpb25hbCB0ZXN0IHByb2Nlc3MgYXJlIGlkZW50aWZpZWQgYW5kIGFuYWx5emVkLiBUaGlzIHdvcmsgZm9jdXNlcyBvbiB0aGUgdGVzdGluZyBhY3Rpdml0aWVzIGluIHJlYWwtbGlmZSBzb2Z0d2FyZSBvcmdhbml6YXRpb25zLCBpZGVudGlmeWluZyB0aGUgaW1wb3J0YW50IHRlc3QgcHJvY2VzcyBjb21wb25lbnRzLCBvYnNlcnZpbmcgdGVzdGluZyAnKTsKc2V0X2F0dHJpYnV0ZSgna2FzdXJpbmVuMjAxMmEnLCAnY2x1c3Rlcl9pZCcsICcxNjU4NTc2ODAwNjI2OTE4OTA1NycpOwpzZXRfYXR0cmlidXRlKCdrYXN1cmluZW4yMDEyYScsICdzY2hvbGFyJywgJ2h0dHA6Ly9zY2hvbGFyLmdvb2dsZS5jb20vc2Nob2xhcj9jaXRlcz0xNjU4NTc2ODAwNjI2OTE4OTA1NyZhc19zZHQ9MjAwNSZzY2lvZHQ9MCw1JmhsPWVuJyk7\"));\n",
       "    "
      ],
      "text/plain": [
       "<IPython.core.display.Javascript object>"
      ]
     },
     "metadata": {},
     "output_type": "display_data"
    },
    {
     "data": {
      "application/javascript": [
       "$('span:contains(\"# Temp\")').closest('.cell').remove();"
      ],
      "text/plain": [
       "<IPython.core.display.Javascript object>"
      ]
     },
     "metadata": {},
     "output_type": "display_data"
    },
    {
     "data": {
      "application/javascript": [
       "\n",
       "        $('span:contains(\"# Temp\")').closest('.cell').remove();\n",
       "        var code = IPython.notebook.insert_cell_below('code');\n",
       "        code.set_text(atob(\"IyBUZW1wCmluc2VydCgnJycKREIoQ2l0YXRpb24oCiAgICBrYXN1cmluZW4yMDEyYSwga2F1dHoyMDAwYSwgcmVmPSIiLAogICAgY29udGV4dHM9WwoKICAgIF0sCikpCgonJycsIGNpdGF0aW9ucz0na2F1dHoyMDAwYScpOwpzZXRfYXR0cmlidXRlKCdrYXN1cmluZW4yMDEyYScsICdleGNlcnB0JywgJ0Fic3RyYWN0IEluIHRoaXMgc3R1ZHksIHRoZSBjb21wb25lbnRzIGltcG9ydGFudCBmb3IgdGVzdGluZyB3b3JrIGFuZCBvcmdhbml6YXRpb25hbCB0ZXN0IHByb2Nlc3MgYXJlIGlkZW50aWZpZWQgYW5kIGFuYWx5emVkLiBUaGlzIHdvcmsgZm9jdXNlcyBvbiB0aGUgdGVzdGluZyBhY3Rpdml0aWVzIGluIHJlYWwtbGlmZSBzb2Z0d2FyZSBvcmdhbml6YXRpb25zLCBpZGVudGlmeWluZyB0aGUgaW1wb3J0YW50IHRlc3QgcHJvY2VzcyBjb21wb25lbnRzLCBvYnNlcnZpbmcgdGVzdGluZyAnKTsKc2V0X2F0dHJpYnV0ZSgna2FzdXJpbmVuMjAxMmEnLCAnY2x1c3Rlcl9pZCcsICcxNjU4NTc2ODAwNjI2OTE4OTA1NycpOwpzZXRfYXR0cmlidXRlKCdrYXN1cmluZW4yMDEyYScsICdzY2hvbGFyJywgJ2h0dHA6Ly9zY2hvbGFyLmdvb2dsZS5jb20vc2Nob2xhcj9jaXRlcz0xNjU4NTc2ODAwNjI2OTE4OTA1NyZhc19zZHQ9MjAwNSZzY2lvZHQ9MCw1JmhsPWVuJyk7\"));\n",
       "    "
      ],
      "text/plain": [
       "<IPython.core.display.Javascript object>"
      ]
     },
     "metadata": {},
     "output_type": "display_data"
    },
    {
     "data": {
      "application/javascript": [
       "$('span:contains(\"# Temp\")').closest('.cell').remove();"
      ],
      "text/plain": [
       "<IPython.core.display.Javascript object>"
      ]
     },
     "metadata": {},
     "output_type": "display_data"
    },
    {
     "data": {
      "application/javascript": [
       "\n",
       "        $('span:contains(\"# Temp\")').closest('.cell').remove();\n",
       "        var code = IPython.notebook.insert_cell_below('code');\n",
       "        code.set_text(atob(\"IyBUZW1wCmluc2VydCgnJycKenlsMjAwOWEgPSBEQihXb3JrVW5yZWxhdGVkKAogICAgMjAwOSwgIlNPRlRXQVJFIFRFU1RJTkcgaW4gYSBzbWFsbCBjb21wYW55OiBhIGNhc2Ugc3R1ZHkiLAogICAgZGlzcGxheT0ienlsIiwKICAgIGF1dGhvcnM9InZhbiBaeWwsIEpvaGFuIiwKICAgIHBsYWNlPUZBS0UsCiAgICBlbnRyeXR5cGU9ImFydGljbGUiLAogICAgSUQ9InZhbjIwMDlzb2Z0d2FyZSIsCiAgICBjbHVzdGVyX2lkPSIxNDY2MjcwNzE3Njk4MzIyMzcxMyIsCiAgICBzY2hvbGFyPSJodHRwOi8vc2Nob2xhci5nb29nbGUuY29tL3NjaG9sYXI/Y2l0ZXM9MTQ2NjI3MDcxNzY5ODMyMjM3MTMmYXNfc2R0PTIwMDUmc2Npb2R0PTAsNSZobD1lbiIsCiAgICBwbGFjZXg9Ik0uIElULi1UaGVzaXMsIERlcGFydG1lbnQgb2YgQ29tcC4gU2MuLCBVbml2LiBvZiBQcmV0b3JpYSIsCikpCgpEQihDaXRhdGlvbigKICAgIHp5bDIwMDlhLCBrYXV0ejIwMDBhLCByZWY9IiIsCiAgICBjb250ZXh0cz1bCgogICAgXSwKKSkKCicnJywgY2l0YXRpb25zPSdrYXV0ejIwMDBhJyk7\"));\n",
       "    "
      ],
      "text/plain": [
       "<IPython.core.display.Javascript object>"
      ]
     },
     "metadata": {},
     "output_type": "display_data"
    },
    {
     "data": {
      "application/javascript": [
       "$('span:contains(\"# Temp\")').closest('.cell').remove();"
      ],
      "text/plain": [
       "<IPython.core.display.Javascript object>"
      ]
     },
     "metadata": {},
     "output_type": "display_data"
    },
    {
     "data": {
      "application/javascript": [
       "\n",
       "        $('span:contains(\"# Temp\")').closest('.cell').remove();\n",
       "        var code = IPython.notebook.insert_cell_below('code');\n",
       "        code.set_text(atob(\"IyBUZW1wCmluc2VydCgnJycKenlsMjAwOWEgPSBEQihXb3JrVW5yZWxhdGVkKAogICAgMjAwOSwgIlNPRlRXQVJFIFRFU1RJTkcgaW4gYSBzbWFsbCBjb21wYW55OiBhIGNhc2Ugc3R1ZHkiLAogICAgZGlzcGxheT0ienlsIiwKICAgIGF1dGhvcnM9InZhbiBaeWwsIEpvaGFuIiwKICAgIHBsYWNlPUZBS0UsCiAgICBlbnRyeXR5cGU9ImFydGljbGUiLAogICAgSUQ9InZhbjIwMDlzb2Z0d2FyZSIsCiAgICBjbHVzdGVyX2lkPSIxNDY2MjcwNzE3Njk4MzIyMzcxMyIsCiAgICBzY2hvbGFyPSJodHRwOi8vc2Nob2xhci5nb29nbGUuY29tL3NjaG9sYXI/Y2l0ZXM9MTQ2NjI3MDcxNzY5ODMyMjM3MTMmYXNfc2R0PTIwMDUmc2Npb2R0PTAsNSZobD1lbiIsCiAgICBwbGFjZXg9Ik0uIElULi1UaGVzaXMsIERlcGFydG1lbnQgb2YgQ29tcC4gU2MuLCBVbml2LiBvZiBQcmV0b3JpYSIsCikpCgpEQihDaXRhdGlvbigKICAgIHp5bDIwMDlhLCBrYXV0ejIwMDBhLCByZWY9IiIsCiAgICBjb250ZXh0cz1bCgogICAgXSwKKSkKCicnJywgY2l0YXRpb25zPSdrYXV0ejIwMDBhJyk7\"));\n",
       "    "
      ],
      "text/plain": [
       "<IPython.core.display.Javascript object>"
      ]
     },
     "metadata": {},
     "output_type": "display_data"
    },
    {
     "data": {
      "application/javascript": [
       "$('span:contains(\"# Temp\")').closest('.cell').remove();"
      ],
      "text/plain": [
       "<IPython.core.display.Javascript object>"
      ]
     },
     "metadata": {},
     "output_type": "display_data"
    },
    {
     "data": {
      "application/javascript": [
       "\n",
       "        $('span:contains(\"# Temp\")').closest('.cell').remove();\n",
       "        var code = IPython.notebook.insert_cell_below('code');\n",
       "        code.set_text(atob(\"IyBUZW1wCmluc2VydCgnJycKa2xlbmRhdWVyMjAxMmEgPSBEQihXb3JrVW5yZWxhdGVkKAogICAgMjAxMiwgIlVzaW5nIHRoZSBJREVBTCBzb2Z0d2FyZSBwcm9jZXNzIGltcHJvdmVtZW50IG1vZGVsIGZvciB0aGUgaW1wbGVtZW50YXRpb24gb2YgQXV0b21vdGl2ZSBTUElDRSIsCiAgICBkaXNwbGF5PSJrbGVuZGF1ZXIiLAogICAgYXV0aG9ycz0iS2xlbmRhdWVyLCBSdXRoIGFuZCBIb2ZmbWFubiwgQXhlbCBhbmQgTGVpbWVpc3RlciwgSmFuIE1hcmNvIGFuZCBCZXJrb3ZpY2gsIE1hcmluYSBhbmQgS3JjbWFyLCBIZWxtdXQiLAogICAgcGxhY2U9RkFLRSwKICAgIHBwPSI2Ni0tNzIiLAogICAgZW50cnl0eXBlPSJpbnByb2NlZWRpbmdzIiwKICAgIG9yZ2FuaXphdGlvbj0iSUVFRSBQcmVzcyIsCiAgICBJRD0ia2xlbmRhdWVyMjAxMnVzaW5nIiwKICAgIGNsdXN0ZXJfaWQ9IjE0NjI1NzgyNzA1MjU1ODk0MzM3IiwKICAgIHNjaG9sYXI9Imh0dHA6Ly9zY2hvbGFyLmdvb2dsZS5jb20vc2Nob2xhcj9jaXRlcz0xNDYyNTc4MjcwNTI1NTg5NDMzNyZhc19zZHQ9MjAwNSZzY2lvZHQ9MCw1JmhsPWVuIiwKICAgIHBsYWNleD0iUHJvY2VlZGluZ3Mgb2YgdGhlIDV0aCBJbnRlcm5hdGlvbmFsIFdvcmtzaG9wIG9uIENvLW9wZXJhdGl2ZSBhbmQgSHVtYW4gQXNwZWN0cyBvZiBTb2Z0d2FyZSBFbmdpbmVlcmluZyIsCikpCgpEQihDaXRhdGlvbigKICAgIGtsZW5kYXVlcjIwMTJhLCBrYXV0ejIwMDBhLCByZWY9IiIsCiAgICBjb250ZXh0cz1bCgogICAgXSwKKSkKCicnJywgY2l0YXRpb25zPSdrYXV0ejIwMDBhJyk7\"));\n",
       "    "
      ],
      "text/plain": [
       "<IPython.core.display.Javascript object>"
      ]
     },
     "metadata": {},
     "output_type": "display_data"
    },
    {
     "data": {
      "application/javascript": [
       "$('span:contains(\"# Temp\")').closest('.cell').remove();"
      ],
      "text/plain": [
       "<IPython.core.display.Javascript object>"
      ]
     },
     "metadata": {},
     "output_type": "display_data"
    },
    {
     "data": {
      "application/javascript": [
       "\n",
       "        $('span:contains(\"# Temp\")').closest('.cell').remove();\n",
       "        var code = IPython.notebook.insert_cell_below('code');\n",
       "        code.set_text(atob(\"IyBUZW1wCmluc2VydCgnJycKa2xlbmRhdWVyMjAxMmEgPSBEQihXb3JrVW5yZWxhdGVkKAogICAgMjAxMiwgIlVzaW5nIHRoZSBJREVBTCBzb2Z0d2FyZSBwcm9jZXNzIGltcHJvdmVtZW50IG1vZGVsIGZvciB0aGUgaW1wbGVtZW50YXRpb24gb2YgQXV0b21vdGl2ZSBTUElDRSIsCiAgICBkaXNwbGF5PSJrbGVuZGF1ZXIiLAogICAgYXV0aG9ycz0iS2xlbmRhdWVyLCBSdXRoIGFuZCBIb2ZmbWFubiwgQXhlbCBhbmQgTGVpbWVpc3RlciwgSmFuIE1hcmNvIGFuZCBCZXJrb3ZpY2gsIE1hcmluYSBhbmQgS3JjbWFyLCBIZWxtdXQiLAogICAgcGxhY2U9RkFLRSwKICAgIHBwPSI2Ni0tNzIiLAogICAgZW50cnl0eXBlPSJpbnByb2NlZWRpbmdzIiwKICAgIG9yZ2FuaXphdGlvbj0iSUVFRSBQcmVzcyIsCiAgICBJRD0ia2xlbmRhdWVyMjAxMnVzaW5nIiwKICAgIGNsdXN0ZXJfaWQ9IjE0NjI1NzgyNzA1MjU1ODk0MzM3IiwKICAgIHNjaG9sYXI9Imh0dHA6Ly9zY2hvbGFyLmdvb2dsZS5jb20vc2Nob2xhcj9jaXRlcz0xNDYyNTc4MjcwNTI1NTg5NDMzNyZhc19zZHQ9MjAwNSZzY2lvZHQ9MCw1JmhsPWVuIiwKICAgIHBsYWNleD0iUHJvY2VlZGluZ3Mgb2YgdGhlIDV0aCBJbnRlcm5hdGlvbmFsIFdvcmtzaG9wIG9uIENvLW9wZXJhdGl2ZSBhbmQgSHVtYW4gQXNwZWN0cyBvZiBTb2Z0d2FyZSBFbmdpbmVlcmluZyIsCikpCgpEQihDaXRhdGlvbigKICAgIGtsZW5kYXVlcjIwMTJhLCBrYXV0ejIwMDBhLCByZWY9IiIsCiAgICBjb250ZXh0cz1bCgogICAgXSwKKSkKCicnJywgY2l0YXRpb25zPSdrYXV0ejIwMDBhJyk7\"));\n",
       "    "
      ],
      "text/plain": [
       "<IPython.core.display.Javascript object>"
      ]
     },
     "metadata": {},
     "output_type": "display_data"
    },
    {
     "data": {
      "application/javascript": [
       "$('span:contains(\"# Temp\")').closest('.cell').remove();"
      ],
      "text/plain": [
       "<IPython.core.display.Javascript object>"
      ]
     },
     "metadata": {},
     "output_type": "display_data"
    },
    {
     "data": {
      "application/javascript": [
       "\n",
       "        $('span:contains(\"# Temp\")').closest('.cell').remove();\n",
       "        var code = IPython.notebook.insert_cell_below('code');\n",
       "        code.set_text(atob(\"IyBUZW1wCmluc2VydCgnJycKa2F1cHBpbmVuMjAwMmEgPSBEQihXb3JrVW5yZWxhdGVkKAogICAgMjAwMiwgIkEgcHJhY3RpY2FsIGZyYW1ld29yayBmb3Igc3lzdGVtYXRpYyBpbXByb3ZlbWVudCBvZiByZXF1aXJlbWVudHMgZW5naW5lZXJpbmcgcHJvY2Vzc2VzIiwKICAgIGRpc3BsYXk9ImthdXBwaW5lbiIsCiAgICBhdXRob3JzPSJLYXVwcGluZW4sIE1hcmpvIiwKICAgIHBsYWNlPVRlY2hSZXBvcnQsCiAgICBlbnRyeXR5cGU9InRlY2hyZXBvcnQiLAogICAgaW5zdGl0dXRpb249IlRlY2huaWNhbCByZXBvcnQsIEhlbHNpbmtpIFVuaXZlcnNpdHkgb2YgVGVjaG5vbG9neSIsCiAgICBJRD0ia2F1cHBpbmVuMjAwMnByYWN0aWNhbCIsCiAgICBjbHVzdGVyX2lkPSI5MTM4NTEwMzIyMDI1ODkxNTY0IiwKICAgIHNjaG9sYXI9Imh0dHA6Ly9zY2hvbGFyLmdvb2dsZS5jb20vc2Nob2xhcj9jaXRlcz05MTM4NTEwMzIyMDI1ODkxNTY0JmFzX3NkdD0yMDA1JnNjaW9kdD0wLDUmaGw9ZW4iLAogICAgcGxhY2V4PSIiLAopKQoKREIoQ2l0YXRpb24oCiAgICBrYXVwcGluZW4yMDAyYSwga2F1dHoyMDAwYSwgcmVmPSIiLAogICAgY29udGV4dHM9WwoKICAgIF0sCikpCgonJycsIGNpdGF0aW9ucz0na2F1dHoyMDAwYScpOw==\"));\n",
       "    "
      ],
      "text/plain": [
       "<IPython.core.display.Javascript object>"
      ]
     },
     "metadata": {},
     "output_type": "display_data"
    },
    {
     "data": {
      "application/javascript": [
       "$('span:contains(\"# Temp\")').closest('.cell').remove();"
      ],
      "text/plain": [
       "<IPython.core.display.Javascript object>"
      ]
     },
     "metadata": {},
     "output_type": "display_data"
    },
    {
     "data": {
      "application/javascript": [
       "\n",
       "        $('span:contains(\"# Temp\")').closest('.cell').remove();\n",
       "        var code = IPython.notebook.insert_cell_below('code');\n",
       "        code.set_text(atob(\"IyBUZW1wCmluc2VydCgnJycKa2F1cHBpbmVuMjAwMmEgPSBEQihXb3JrVW5yZWxhdGVkKAogICAgMjAwMiwgIkEgcHJhY3RpY2FsIGZyYW1ld29yayBmb3Igc3lzdGVtYXRpYyBpbXByb3ZlbWVudCBvZiByZXF1aXJlbWVudHMgZW5naW5lZXJpbmcgcHJvY2Vzc2VzIiwKICAgIGRpc3BsYXk9ImthdXBwaW5lbiIsCiAgICBhdXRob3JzPSJLYXVwcGluZW4sIE1hcmpvIiwKICAgIHBsYWNlPVRlY2hSZXBvcnQsCiAgICBlbnRyeXR5cGU9InRlY2hyZXBvcnQiLAogICAgaW5zdGl0dXRpb249IlRlY2huaWNhbCByZXBvcnQsIEhlbHNpbmtpIFVuaXZlcnNpdHkgb2YgVGVjaG5vbG9neSIsCiAgICBJRD0ia2F1cHBpbmVuMjAwMnByYWN0aWNhbCIsCiAgICBjbHVzdGVyX2lkPSI5MTM4NTEwMzIyMDI1ODkxNTY0IiwKICAgIHNjaG9sYXI9Imh0dHA6Ly9zY2hvbGFyLmdvb2dsZS5jb20vc2Nob2xhcj9jaXRlcz05MTM4NTEwMzIyMDI1ODkxNTY0JmFzX3NkdD0yMDA1JnNjaW9kdD0wLDUmaGw9ZW4iLAogICAgcGxhY2V4PSIiLAopKQoKREIoQ2l0YXRpb24oCiAgICBrYXVwcGluZW4yMDAyYSwga2F1dHoyMDAwYSwgcmVmPSIiLAogICAgY29udGV4dHM9WwoKICAgIF0sCikpCgonJycsIGNpdGF0aW9ucz0na2F1dHoyMDAwYScpOw==\"));\n",
       "    "
      ],
      "text/plain": [
       "<IPython.core.display.Javascript object>"
      ]
     },
     "metadata": {},
     "output_type": "display_data"
    },
    {
     "data": {
      "application/javascript": [
       "$('span:contains(\"# Temp\")').closest('.cell').remove();"
      ],
      "text/plain": [
       "<IPython.core.display.Javascript object>"
      ]
     },
     "metadata": {},
     "output_type": "display_data"
    },
    {
     "data": {
      "application/javascript": [
       "\n",
       "        $('span:contains(\"# Temp\")').closest('.cell').remove();\n",
       "        var code = IPython.notebook.insert_cell_below('code');\n",
       "        code.set_text(atob(\"IyBUZW1wCmluc2VydCgnJycKZW1hbTIwMDZhID0gREIoV29ya1VucmVsYXRlZCgKICAgIDIwMDYsICJBbiBPdmVydmlldyBvZiBQcm9jZXNzIEltcHJvdmVtZW50IGluIFNtYWxsIFNldHRpbmdzIiwKICAgIGRpc3BsYXk9ImVtYW0iLAogICAgYXV0aG9ycz0iRWwgRW1hbSwgS2hhbGVkIiwKICAgIHBsYWNlPVdFLAogICAgcHA9IjI2MS0tMjc1IiwKICAgIGVudHJ5dHlwZT0iaW5jb2xsZWN0aW9uIiwKICAgIHB1Ymxpc2hlcj0iU3ByaW5nZXIiLAogICAgSUQ9ImVsMjAwNm92ZXJ2aWV3IiwKICAgIGNsdXN0ZXJfaWQ9IjEwNzYyOTg0NDg5NjkxMzAwODgxIiwKICAgIHNjaG9sYXI9Imh0dHA6Ly9zY2hvbGFyLmdvb2dsZS5jb20vc2Nob2xhcj9jaXRlcz0xMDc2Mjk4NDQ4OTY5MTMwMDg4MSZhc19zZHQ9MjAwNSZzY2lvZHQ9MCw1JmhsPWVuIiwKICAgIHBsYWNleD0iV2ViIEVuZ2luZWVyaW5nIiwKKSkKCkRCKENpdGF0aW9uKAogICAgZW1hbTIwMDZhLCBrYXV0ejIwMDBhLCByZWY9IiIsCiAgICBjb250ZXh0cz1bCgogICAgXSwKKSkKCicnJywgY2l0YXRpb25zPSdrYXV0ejIwMDBhJyk7\"));\n",
       "    "
      ],
      "text/plain": [
       "<IPython.core.display.Javascript object>"
      ]
     },
     "metadata": {},
     "output_type": "display_data"
    },
    {
     "data": {
      "application/javascript": [
       "$('span:contains(\"# Temp\")').closest('.cell').remove();"
      ],
      "text/plain": [
       "<IPython.core.display.Javascript object>"
      ]
     },
     "metadata": {},
     "output_type": "display_data"
    },
    {
     "data": {
      "application/javascript": [
       "\n",
       "        $('span:contains(\"# Temp\")').closest('.cell').remove();\n",
       "        var code = IPython.notebook.insert_cell_below('code');\n",
       "        code.set_text(atob(\"IyBUZW1wCmluc2VydCgnJycKZW1hbTIwMDZhID0gREIoV29ya1VucmVsYXRlZCgKICAgIDIwMDYsICJBbiBPdmVydmlldyBvZiBQcm9jZXNzIEltcHJvdmVtZW50IGluIFNtYWxsIFNldHRpbmdzIiwKICAgIGRpc3BsYXk9ImVtYW0iLAogICAgYXV0aG9ycz0iRWwgRW1hbSwgS2hhbGVkIiwKICAgIHBsYWNlPVdFLAogICAgcHA9IjI2MS0tMjc1IiwKICAgIGVudHJ5dHlwZT0iaW5jb2xsZWN0aW9uIiwKICAgIHB1Ymxpc2hlcj0iU3ByaW5nZXIiLAogICAgSUQ9ImVsMjAwNm92ZXJ2aWV3IiwKICAgIGNsdXN0ZXJfaWQ9IjEwNzYyOTg0NDg5NjkxMzAwODgxIiwKICAgIHNjaG9sYXI9Imh0dHA6Ly9zY2hvbGFyLmdvb2dsZS5jb20vc2Nob2xhcj9jaXRlcz0xMDc2Mjk4NDQ4OTY5MTMwMDg4MSZhc19zZHQ9MjAwNSZzY2lvZHQ9MCw1JmhsPWVuIiwKICAgIHBsYWNleD0iV2ViIEVuZ2luZWVyaW5nIiwKKSkKCkRCKENpdGF0aW9uKAogICAgZW1hbTIwMDZhLCBrYXV0ejIwMDBhLCByZWY9IiIsCiAgICBjb250ZXh0cz1bCgogICAgXSwKKSkKCicnJywgY2l0YXRpb25zPSdrYXV0ejIwMDBhJyk7\"));\n",
       "    "
      ],
      "text/plain": [
       "<IPython.core.display.Javascript object>"
      ]
     },
     "metadata": {},
     "output_type": "display_data"
    },
    {
     "data": {
      "application/javascript": [
       "$('span:contains(\"# Temp\")').closest('.cell').remove();"
      ],
      "text/plain": [
       "<IPython.core.display.Javascript object>"
      ]
     },
     "metadata": {},
     "output_type": "display_data"
    },
    {
     "data": {
      "application/javascript": [
       "\n",
       "        $('span:contains(\"# Temp\")').closest('.cell').remove();\n",
       "        var code = IPython.notebook.insert_cell_below('code');\n",
       "        code.set_text(atob(\"IyBUZW1wCmluc2VydCgnJycKZGFnbmlubzIwMTRiID0gREIoV29ya1VucmVsYXRlZCgKICAgIDIwMTQsICJBIG1vZGVsIHRvIG1lYXN1cmUgb3JnYW5pemF0aW9uYWwgcmVhZGluZXNzIGZvciBzb2Z0d2FyZSBwcm9jZXNzIGltcHJvdmVtZW50IiwKICAgIGRpc3BsYXk9ImRhZ25pbm8gYiIsCiAgICBhdXRob3JzPSJEYWduaW5vLCBBbGRvIGFuZCBDb3JkZXMsIEFuZHJldyIsCiAgICBwbGFjZT1JQ0FTRUEsCiAgICBwcD0iMzI5LS0zMzYiLAogICAgZW50cnl0eXBlPSJpbnByb2NlZWRpbmdzIiwKICAgIG9yZ2FuaXphdGlvbj0iSUVFRSIsCiAgICBJRD0iZGFnbmlubzIwMTRtb2RlbCIsCiAgICBjbHVzdGVyX2lkPSIzMDE4NTMwODQ0OTg2NjgwMzMwIiwKICAgIHNjaG9sYXI9Imh0dHA6Ly9zY2hvbGFyLmdvb2dsZS5jb20vc2Nob2xhcj9jaXRlcz0zMDE4NTMwODQ0OTg2NjgwMzMwJmFzX3NkdD0yMDA1JnNjaW9kdD0wLDUmaGw9ZW4iLAogICAgcGxhY2V4PSJTb2Z0d2FyZSBFbmdpbmVlcmluZyBhbmQgQXBwbGljYXRpb25zIChJQ1NPRlQtRUEpLCAyMDE0IDl0aCBJbnRlcm5hdGlvbmFsIENvbmZlcmVuY2Ugb24iLAopKQoKREIoQ2l0YXRpb24oCiAgICBkYWduaW5vMjAxNGIsIGthdXR6MjAwMGEsIHJlZj0iIiwKICAgIGNvbnRleHRzPVsKCiAgICBdLAopKQoKJycnLCBjaXRhdGlvbnM9J2thdXR6MjAwMGEnKTs=\"));\n",
       "    "
      ],
      "text/plain": [
       "<IPython.core.display.Javascript object>"
      ]
     },
     "metadata": {},
     "output_type": "display_data"
    },
    {
     "data": {
      "application/javascript": [
       "$('span:contains(\"# Temp\")').closest('.cell').remove();"
      ],
      "text/plain": [
       "<IPython.core.display.Javascript object>"
      ]
     },
     "metadata": {},
     "output_type": "display_data"
    },
    {
     "data": {
      "application/javascript": [
       "\n",
       "        $('span:contains(\"# Temp\")').closest('.cell').remove();\n",
       "        var code = IPython.notebook.insert_cell_below('code');\n",
       "        code.set_text(atob(\"IyBUZW1wCmluc2VydCgnJycKZGFnbmlubzIwMTRiID0gREIoV29ya1VucmVsYXRlZCgKICAgIDIwMTQsICJBIG1vZGVsIHRvIG1lYXN1cmUgb3JnYW5pemF0aW9uYWwgcmVhZGluZXNzIGZvciBzb2Z0d2FyZSBwcm9jZXNzIGltcHJvdmVtZW50IiwKICAgIGRpc3BsYXk9ImRhZ25pbm8gYiIsCiAgICBhdXRob3JzPSJEYWduaW5vLCBBbGRvIGFuZCBDb3JkZXMsIEFuZHJldyIsCiAgICBwbGFjZT1JQ0FTRUEsCiAgICBwcD0iMzI5LS0zMzYiLAogICAgZW50cnl0eXBlPSJpbnByb2NlZWRpbmdzIiwKICAgIG9yZ2FuaXphdGlvbj0iSUVFRSIsCiAgICBJRD0iZGFnbmlubzIwMTRtb2RlbCIsCiAgICBjbHVzdGVyX2lkPSIzMDE4NTMwODQ0OTg2NjgwMzMwIiwKICAgIHNjaG9sYXI9Imh0dHA6Ly9zY2hvbGFyLmdvb2dsZS5jb20vc2Nob2xhcj9jaXRlcz0zMDE4NTMwODQ0OTg2NjgwMzMwJmFzX3NkdD0yMDA1JnNjaW9kdD0wLDUmaGw9ZW4iLAogICAgcGxhY2V4PSJTb2Z0d2FyZSBFbmdpbmVlcmluZyBhbmQgQXBwbGljYXRpb25zIChJQ1NPRlQtRUEpLCAyMDE0IDl0aCBJbnRlcm5hdGlvbmFsIENvbmZlcmVuY2Ugb24iLAopKQoKREIoQ2l0YXRpb24oCiAgICBkYWduaW5vMjAxNGIsIGthdXR6MjAwMGEsIHJlZj0iIiwKICAgIGNvbnRleHRzPVsKCiAgICBdLAopKQoKJycnLCBjaXRhdGlvbnM9J2thdXR6MjAwMGEnKTs=\"));\n",
       "    "
      ],
      "text/plain": [
       "<IPython.core.display.Javascript object>"
      ]
     },
     "metadata": {},
     "output_type": "display_data"
    },
    {
     "data": {
      "application/javascript": [
       "$('span:contains(\"# Temp\")').closest('.cell').remove();"
      ],
      "text/plain": [
       "<IPython.core.display.Javascript object>"
      ]
     },
     "metadata": {},
     "output_type": "display_data"
    },
    {
     "data": {
      "application/javascript": [
       "\n",
       "        $('span:contains(\"# Temp\")').closest('.cell').remove();\n",
       "        var code = IPython.notebook.insert_cell_below('code');\n",
       "        code.set_text(atob(\"IyBUZW1wCmluc2VydCgnJycKcGVybnN05WwyMDEzYSA9IERCKFdvcmtVbnJlbGF0ZWQoCiAgICAyMDEzLCAiVG93YXJkcyBNYW5hZ2luZyB0aGUgSW50ZXJhY3Rpb24gYmV0d2VlbiBNYW51ZmFjdHVyaW5nIGFuZCBEZXZlbG9wbWVudCBPcmdhbml6YXRpb25zIGluIEF1dG9tb3RpdmUgU29mdHdhcmUgRGV2ZWxvcG1lbnQiLAogICAgZGlzcGxheT0icGVybnN05WwiLAogICAgYXV0aG9ycz0iUGVybnN05WwsIEpvYWtpbSIsCiAgICBwbGFjZT1Cb29rLAogICAgZW50cnl0eXBlPSJib29rIiwKICAgIHB1Ymxpc2hlcj0iQ2hhbG1lcnMgVW5pdmVyc2l0eSBvZiBUZWNobm9sb2d5IiwKICAgIElEPSJwZXJuc3RhYWwyMDEzdG93YXJkcyIsCiAgICBjbHVzdGVyX2lkPSI2MTQ4NjY2NjQ0OTA2MjQ5MzE0IiwKICAgIHNjaG9sYXI9Imh0dHA6Ly9zY2hvbGFyLmdvb2dsZS5jb20vc2Nob2xhcj9jaXRlcz02MTQ4NjY2NjQ0OTA2MjQ5MzE0JmFzX3NkdD0yMDA1JnNjaW9kdD0wLDUmaGw9ZW4iLAogICAgcGxhY2V4PSIiLAopKQoKREIoQ2l0YXRpb24oCiAgICBwZXJuc3TlbDIwMTNhLCBrYXV0ejIwMDBhLCByZWY9IiIsCiAgICBjb250ZXh0cz1bCgogICAgXSwKKSkKCicnJywgY2l0YXRpb25zPSdrYXV0ejIwMDBhJyk7\"));\n",
       "    "
      ],
      "text/plain": [
       "<IPython.core.display.Javascript object>"
      ]
     },
     "metadata": {},
     "output_type": "display_data"
    },
    {
     "data": {
      "application/javascript": [
       "$('span:contains(\"# Temp\")').closest('.cell').remove();"
      ],
      "text/plain": [
       "<IPython.core.display.Javascript object>"
      ]
     },
     "metadata": {},
     "output_type": "display_data"
    },
    {
     "data": {
      "application/javascript": [
       "\n",
       "        $('span:contains(\"# Temp\")').closest('.cell').remove();\n",
       "        var code = IPython.notebook.insert_cell_below('code');\n",
       "        code.set_text(atob(\"IyBUZW1wCmluc2VydCgnJycKcGVybnN05WwyMDEzYSA9IERCKFdvcmtVbnJlbGF0ZWQoCiAgICAyMDEzLCAiVG93YXJkcyBNYW5hZ2luZyB0aGUgSW50ZXJhY3Rpb24gYmV0d2VlbiBNYW51ZmFjdHVyaW5nIGFuZCBEZXZlbG9wbWVudCBPcmdhbml6YXRpb25zIGluIEF1dG9tb3RpdmUgU29mdHdhcmUgRGV2ZWxvcG1lbnQiLAogICAgZGlzcGxheT0icGVybnN05WwiLAogICAgYXV0aG9ycz0iUGVybnN05WwsIEpvYWtpbSIsCiAgICBwbGFjZT1Cb29rLAogICAgZW50cnl0eXBlPSJib29rIiwKICAgIHB1Ymxpc2hlcj0iQ2hhbG1lcnMgVW5pdmVyc2l0eSBvZiBUZWNobm9sb2d5IiwKICAgIElEPSJwZXJuc3RhYWwyMDEzdG93YXJkcyIsCiAgICBjbHVzdGVyX2lkPSI2MTQ4NjY2NjQ0OTA2MjQ5MzE0IiwKICAgIHNjaG9sYXI9Imh0dHA6Ly9zY2hvbGFyLmdvb2dsZS5jb20vc2Nob2xhcj9jaXRlcz02MTQ4NjY2NjQ0OTA2MjQ5MzE0JmFzX3NkdD0yMDA1JnNjaW9kdD0wLDUmaGw9ZW4iLAogICAgcGxhY2V4PSIiLAopKQoKREIoQ2l0YXRpb24oCiAgICBwZXJuc3TlbDIwMTNhLCBrYXV0ejIwMDBhLCByZWY9IiIsCiAgICBjb250ZXh0cz1bCgogICAgXSwKKSkKCicnJywgY2l0YXRpb25zPSdrYXV0ejIwMDBhJyk7\"));\n",
       "    "
      ],
      "text/plain": [
       "<IPython.core.display.Javascript object>"
      ]
     },
     "metadata": {},
     "output_type": "display_data"
    },
    {
     "data": {
      "application/javascript": [
       "$('span:contains(\"# Temp\")').closest('.cell').remove();"
      ],
      "text/plain": [
       "<IPython.core.display.Javascript object>"
      ]
     },
     "metadata": {},
     "output_type": "display_data"
    },
    {
     "data": {
      "application/javascript": [
       "\n",
       "        $('span:contains(\"# Temp\")').closest('.cell').remove();\n",
       "        var code = IPython.notebook.insert_cell_below('code');\n",
       "        code.set_text(atob(\"IyBUZW1wCmluc2VydCgnJycKaGphbG1hcnNzb24yMDA0YSA9IERCKFdvcmtVbnJlbGF0ZWQoCiAgICAyMDA0LCAiQXR0IGV0YWJsZXJhIG9jaCB2aWRtYWt0aOVsbGEgZvZyYuR0dHJpbmdzdmVya3NhbWhldDogQmVob3ZldCBhdiBrb29yZGluYXRpb24gb2NoIGludGVyYWt0aW9uIHZpZCBm9nLkbmRyaW5nIGF2IHN5c3RlbXV0dmVja2xpbmdzdmVya3NhbWhldGVyIiwKICAgIGRpc3BsYXk9ImhqYWxtYXJzc29uIiwKICAgIGF1dGhvcnM9IkhqYWxtYXJzc29uLCBBbmRlcnMiLAogICAgcGxhY2U9VGhlc2lzLAogICAgZW50cnl0eXBlPSJwaGR0aGVzaXMiLAogICAgSUQ9ImhqYWxtYXJzc29uMjAwNGF0dCIsCiAgICBjbHVzdGVyX2lkPSIzODkwNzgwMzAwMjIyNzY2MzY1IiwKICAgIHNjaG9sYXI9Imh0dHA6Ly9zY2hvbGFyLmdvb2dsZS5jb20vc2Nob2xhcj9jaXRlcz0zODkwNzgwMzAwMjIyNzY2MzY1JmFzX3NkdD0yMDA1JnNjaW9kdD0wLDUmaGw9ZW4iLAogICAgbG9jYWw9Ikluc3RpdHV0aW9uZW4gZvZyIGRhdGF2ZXRlbnNrYXAiLAogICAgcGxhY2V4PSIiLAopKQoKREIoQ2l0YXRpb24oCiAgICBoamFsbWFyc3NvbjIwMDRhLCBrYXV0ejIwMDBhLCByZWY9IiIsCiAgICBjb250ZXh0cz1bCgogICAgXSwKKSkKCicnJywgY2l0YXRpb25zPSdrYXV0ejIwMDBhJyk7\"));\n",
       "    "
      ],
      "text/plain": [
       "<IPython.core.display.Javascript object>"
      ]
     },
     "metadata": {},
     "output_type": "display_data"
    },
    {
     "data": {
      "application/javascript": [
       "$('span:contains(\"# Temp\")').closest('.cell').remove();"
      ],
      "text/plain": [
       "<IPython.core.display.Javascript object>"
      ]
     },
     "metadata": {},
     "output_type": "display_data"
    },
    {
     "data": {
      "application/javascript": [
       "\n",
       "        $('span:contains(\"# Temp\")').closest('.cell').remove();\n",
       "        var code = IPython.notebook.insert_cell_below('code');\n",
       "        code.set_text(atob(\"IyBUZW1wCmluc2VydCgnJycKaGphbG1hcnNzb24yMDA0YSA9IERCKFdvcmtVbnJlbGF0ZWQoCiAgICAyMDA0LCAiQXR0IGV0YWJsZXJhIG9jaCB2aWRtYWt0aOVsbGEgZvZyYuR0dHJpbmdzdmVya3NhbWhldDogQmVob3ZldCBhdiBrb29yZGluYXRpb24gb2NoIGludGVyYWt0aW9uIHZpZCBm9nLkbmRyaW5nIGF2IHN5c3RlbXV0dmVja2xpbmdzdmVya3NhbWhldGVyIiwKICAgIGRpc3BsYXk9ImhqYWxtYXJzc29uIiwKICAgIGF1dGhvcnM9IkhqYWxtYXJzc29uLCBBbmRlcnMiLAogICAgcGxhY2U9VGhlc2lzLAogICAgZW50cnl0eXBlPSJwaGR0aGVzaXMiLAogICAgSUQ9ImhqYWxtYXJzc29uMjAwNGF0dCIsCiAgICBjbHVzdGVyX2lkPSIzODkwNzgwMzAwMjIyNzY2MzY1IiwKICAgIHNjaG9sYXI9Imh0dHA6Ly9zY2hvbGFyLmdvb2dsZS5jb20vc2Nob2xhcj9jaXRlcz0zODkwNzgwMzAwMjIyNzY2MzY1JmFzX3NkdD0yMDA1JnNjaW9kdD0wLDUmaGw9ZW4iLAogICAgbG9jYWw9Ikluc3RpdHV0aW9uZW4gZvZyIGRhdGF2ZXRlbnNrYXAiLAogICAgcGxhY2V4PSIiLAopKQoKREIoQ2l0YXRpb24oCiAgICBoamFsbWFyc3NvbjIwMDRhLCBrYXV0ejIwMDBhLCByZWY9IiIsCiAgICBjb250ZXh0cz1bCgogICAgXSwKKSkKCicnJywgY2l0YXRpb25zPSdrYXV0ejIwMDBhJyk7\"));\n",
       "    "
      ],
      "text/plain": [
       "<IPython.core.display.Javascript object>"
      ]
     },
     "metadata": {},
     "output_type": "display_data"
    },
    {
     "data": {
      "application/javascript": [
       "$('span:contains(\"# Temp\")').closest('.cell').remove();"
      ],
      "text/plain": [
       "<IPython.core.display.Javascript object>"
      ]
     },
     "metadata": {},
     "output_type": "display_data"
    },
    {
     "data": {
      "application/javascript": [
       "\n",
       "        $('span:contains(\"# Temp\")').closest('.cell').remove();\n",
       "        var code = IPython.notebook.insert_cell_below('code');\n",
       "        code.set_text(atob(\"IyBUZW1wCmluc2VydCgnJycKYXlzb2xtYXoyMDExYyA9IERCKFdvcmtVbnJlbGF0ZWQoCiAgICAyMDExLCAiQkctU1BJOiBZaW5lbGVtZWxpIFlhej9sP20gU/xyZXvnfSB7P0l9eWlsZXs/fXRpcm1lIFn2bnRlbWkiLAogICAgZGlzcGxheT0iYXlzb2xtYXogYyIsCiAgICBhdXRob3JzPSJBeXNvbG1heiwgQmFudSBhbmQgWT9sZD96LCBBbGkgYW5kIERlbWly9nJzLCBPbnVyIiwKICAgIHBsYWNlPUZBS0UsCiAgICBwcD0iMTYzLS0xNjgiLAogICAgZW50cnl0eXBlPSJhcnRpY2xlIiwKICAgIElEPSJheXNvbG1hejIwMTFiZyIsCiAgICBjbHVzdGVyX2lkPSIxMjY3MzE3NDc5NTI4NzY4NzM4MiIsCiAgICBzY2hvbGFyPSJodHRwOi8vc2Nob2xhci5nb29nbGUuY29tL3NjaG9sYXI/Y2l0ZXM9MTI2NzMxNzQ3OTUyODc2ODczODImYXNfc2R0PTIwMDUmc2Npb2R0PTAsNSZobD1lbiIsCiAgICBwbGFjZXg9IlVsdXNhbCBZYXo/bD9tIE38aGVuZGlzbGl7P31pIFNlbXBvenl1bXUiLAopKQoKREIoQ2l0YXRpb24oCiAgICBheXNvbG1hejIwMTFjLCBrYXV0ejIwMDBhLCByZWY9IiIsCiAgICBjb250ZXh0cz1bCgogICAgXSwKKSkKCicnJywgY2l0YXRpb25zPSdrYXV0ejIwMDBhJyk7\"));\n",
       "    "
      ],
      "text/plain": [
       "<IPython.core.display.Javascript object>"
      ]
     },
     "metadata": {},
     "output_type": "display_data"
    },
    {
     "data": {
      "application/javascript": [
       "$('span:contains(\"# Temp\")').closest('.cell').remove();"
      ],
      "text/plain": [
       "<IPython.core.display.Javascript object>"
      ]
     },
     "metadata": {},
     "output_type": "display_data"
    },
    {
     "data": {
      "application/javascript": [
       "\n",
       "        $('span:contains(\"# Temp\")').closest('.cell').remove();\n",
       "        var code = IPython.notebook.insert_cell_below('code');\n",
       "        code.set_text(atob(\"IyBUZW1wCmluc2VydCgnJycKc2hlbjIwMDhhID0gREIoV29ya1VucmVsYXRlZCgKICAgIDIwMDgsICJTb2Z0d2FyZSBFbmdpbmVlcmluZyBDaGFsbGVuZ2VzIGluIFNtYWxsIENvbXBhbmllcyIsCiAgICBkaXNwbGF5PSJzaGVuIiwKICAgIGF1dGhvcnM9IlNoZW4sIFlpeXVuIiwKICAgIHBsYWNlPUZBS0UsCiAgICBlbnRyeXR5cGU9ImFydGljbGUiLAogICAgSUQ9InNoZW4yMDA4c29mdHdhcmUiLAogICAgY2x1c3Rlcl9pZD0iMTUyNDQ1ODc2MjA5NjE2NjYxMDEiLAogICAgc2Nob2xhcj0iaHR0cDovL3NjaG9sYXIuZ29vZ2xlLmNvbS9zY2hvbGFyP2NpdGVzPTE1MjQ0NTg3NjIwOTYxNjY2MTAxJmFzX3NkdD0yMDA1JnNjaW9kdD0wLDUmaGw9ZW4iLAogICAgcGxhY2V4PSJVTklWRVJTSVRZIE9GIEhFTFNJTktJIiwKKSkKCkRCKENpdGF0aW9uKAogICAgc2hlbjIwMDhhLCBrYXV0ejIwMDBhLCByZWY9IiIsCiAgICBjb250ZXh0cz1bCgogICAgXSwKKSkKCicnJywgY2l0YXRpb25zPSdrYXV0ejIwMDBhJyk7\"));\n",
       "    "
      ],
      "text/plain": [
       "<IPython.core.display.Javascript object>"
      ]
     },
     "metadata": {},
     "output_type": "display_data"
    },
    {
     "data": {
      "application/javascript": [
       "$('span:contains(\"# Temp\")').closest('.cell').remove();"
      ],
      "text/plain": [
       "<IPython.core.display.Javascript object>"
      ]
     },
     "metadata": {},
     "output_type": "display_data"
    },
    {
     "data": {
      "application/javascript": [
       "\n",
       "        $('span:contains(\"# Temp\")').closest('.cell').remove();\n",
       "        var code = IPython.notebook.insert_cell_below('code');\n",
       "        code.set_text(atob(\"IyBUZW1wCmluc2VydCgnJycKc2hlbjIwMDhhID0gREIoV29ya1VucmVsYXRlZCgKICAgIDIwMDgsICJTb2Z0d2FyZSBFbmdpbmVlcmluZyBDaGFsbGVuZ2VzIGluIFNtYWxsIENvbXBhbmllcyIsCiAgICBkaXNwbGF5PSJzaGVuIiwKICAgIGF1dGhvcnM9IlNoZW4sIFlpeXVuIiwKICAgIHBsYWNlPUZBS0UsCiAgICBlbnRyeXR5cGU9ImFydGljbGUiLAogICAgSUQ9InNoZW4yMDA4c29mdHdhcmUiLAogICAgY2x1c3Rlcl9pZD0iMTUyNDQ1ODc2MjA5NjE2NjYxMDEiLAogICAgc2Nob2xhcj0iaHR0cDovL3NjaG9sYXIuZ29vZ2xlLmNvbS9zY2hvbGFyP2NpdGVzPTE1MjQ0NTg3NjIwOTYxNjY2MTAxJmFzX3NkdD0yMDA1JnNjaW9kdD0wLDUmaGw9ZW4iLAogICAgcGxhY2V4PSJVTklWRVJTSVRZIE9GIEhFTFNJTktJIiwKKSkKCkRCKENpdGF0aW9uKAogICAgc2hlbjIwMDhhLCBrYXV0ejIwMDBhLCByZWY9IiIsCiAgICBjb250ZXh0cz1bCgogICAgXSwKKSkKCicnJywgY2l0YXRpb25zPSdrYXV0ejIwMDBhJyk7\"));\n",
       "    "
      ],
      "text/plain": [
       "<IPython.core.display.Javascript object>"
      ]
     },
     "metadata": {},
     "output_type": "display_data"
    },
    {
     "data": {
      "application/javascript": [
       "$('span:contains(\"# Temp\")').closest('.cell').remove();"
      ],
      "text/plain": [
       "<IPython.core.display.Javascript object>"
      ]
     },
     "metadata": {},
     "output_type": "display_data"
    },
    {
     "data": {
      "application/javascript": [
       "\n",
       "        $('span:contains(\"# Temp\")').closest('.cell').remove();\n",
       "        var code = IPython.notebook.insert_cell_below('code');\n",
       "        code.set_text(atob(\"IyBUZW1wCmluc2VydCgnJycKcmFzaWRpMjAwOGEgPSBEQihXb3JrVW5yZWxhdGVkKAogICAgMjAwOCwgIlRoZSBhZG9wdGlvbiBvZiBzb2Z0d2FyZSBwcm9jZXNzIGltcHJvdmVtZW50IChTUEkpIFByb2dyYW0gaW4gdGhlIGNvbnN0cnVjdGlvbiBpbmR1c3RyeSIsCiAgICBkaXNwbGF5PSJyYXNpZGkiLAogICAgYXV0aG9ycz0iUmFzaWRpLCBIYW5pbSBhbmQgSWJyYWhpbSwgUmFoaW5haCIsCiAgICBwbGFjZT1GQUtFLAogICAgcHA9Ijc5LS05MCIsCiAgICBlbnRyeXR5cGU9ImFydGljbGUiLAogICAgdm9sdW1lPSIzIiwKICAgIG51bWJlcj0iMSIsCiAgICBJRD0icmFzaWRpMjAwOGFkb3B0aW9uIiwKICAgIGNsdXN0ZXJfaWQ9IjEyMTgzNzgzMzU2NTY3NDEzNTI2IiwKICAgIHNjaG9sYXI9Imh0dHA6Ly9zY2hvbGFyLmdvb2dsZS5jb20vc2Nob2xhcj9jaXRlcz0xMjE4Mzc4MzM1NjU2NzQxMzUyNiZhc19zZHQ9MjAwNSZzY2lvZHQ9MCw1JmhsPWVuIiwKICAgIHBsYWNleD0iQUxBTSBDSVBUQSwgSW50ZXJuYXRpb25hbCBKb3VybmFsIG9uIFN1c3RhaW5hYmxlIFRyb3BpY2FsIERlc2lnbiBSZXNlYXJjaCAmIFByYWN0aWNlIiwKKSkKCkRCKENpdGF0aW9uKAogICAgcmFzaWRpMjAwOGEsIGthdXR6MjAwMGEsIHJlZj0iIiwKICAgIGNvbnRleHRzPVsKCiAgICBdLAopKQoKJycnLCBjaXRhdGlvbnM9J2thdXR6MjAwMGEnKTs=\"));\n",
       "    "
      ],
      "text/plain": [
       "<IPython.core.display.Javascript object>"
      ]
     },
     "metadata": {},
     "output_type": "display_data"
    },
    {
     "data": {
      "application/javascript": [
       "$('span:contains(\"# Temp\")').closest('.cell').remove();"
      ],
      "text/plain": [
       "<IPython.core.display.Javascript object>"
      ]
     },
     "metadata": {},
     "output_type": "display_data"
    },
    {
     "data": {
      "application/javascript": [
       "\n",
       "        $('span:contains(\"# Temp\")').closest('.cell').remove();\n",
       "        var code = IPython.notebook.insert_cell_below('code');\n",
       "        code.set_text(atob(\"IyBUZW1wCmluc2VydCgnJycKcmFzaWRpMjAwOGEgPSBEQihXb3JrVW5yZWxhdGVkKAogICAgMjAwOCwgIlRoZSBhZG9wdGlvbiBvZiBzb2Z0d2FyZSBwcm9jZXNzIGltcHJvdmVtZW50IChTUEkpIFByb2dyYW0gaW4gdGhlIGNvbnN0cnVjdGlvbiBpbmR1c3RyeSIsCiAgICBkaXNwbGF5PSJyYXNpZGkiLAogICAgYXV0aG9ycz0iUmFzaWRpLCBIYW5pbSBhbmQgSWJyYWhpbSwgUmFoaW5haCIsCiAgICBwbGFjZT1GQUtFLAogICAgcHA9Ijc5LS05MCIsCiAgICBlbnRyeXR5cGU9ImFydGljbGUiLAogICAgdm9sdW1lPSIzIiwKICAgIG51bWJlcj0iMSIsCiAgICBJRD0icmFzaWRpMjAwOGFkb3B0aW9uIiwKICAgIGNsdXN0ZXJfaWQ9IjEyMTgzNzgzMzU2NTY3NDEzNTI2IiwKICAgIHNjaG9sYXI9Imh0dHA6Ly9zY2hvbGFyLmdvb2dsZS5jb20vc2Nob2xhcj9jaXRlcz0xMjE4Mzc4MzM1NjU2NzQxMzUyNiZhc19zZHQ9MjAwNSZzY2lvZHQ9MCw1JmhsPWVuIiwKICAgIHBsYWNleD0iQUxBTSBDSVBUQSwgSW50ZXJuYXRpb25hbCBKb3VybmFsIG9uIFN1c3RhaW5hYmxlIFRyb3BpY2FsIERlc2lnbiBSZXNlYXJjaCAmIFByYWN0aWNlIiwKKSkKCkRCKENpdGF0aW9uKAogICAgcmFzaWRpMjAwOGEsIGthdXR6MjAwMGEsIHJlZj0iIiwKICAgIGNvbnRleHRzPVsKCiAgICBdLAopKQoKJycnLCBjaXRhdGlvbnM9J2thdXR6MjAwMGEnKTs=\"));\n",
       "    "
      ],
      "text/plain": [
       "<IPython.core.display.Javascript object>"
      ]
     },
     "metadata": {},
     "output_type": "display_data"
    },
    {
     "data": {
      "application/javascript": [
       "$('span:contains(\"# Temp\")').closest('.cell').remove();"
      ],
      "text/plain": [
       "<IPython.core.display.Javascript object>"
      ]
     },
     "metadata": {},
     "output_type": "display_data"
    },
    {
     "data": {
      "application/javascript": [
       "\n",
       "        $('span:contains(\"# Temp\")').closest('.cell').remove();\n",
       "        var code = IPython.notebook.insert_cell_below('code');\n",
       "        code.set_text(atob(\"IyBUZW1wCmluc2VydCgnJycKY2FydGVyMjAwMWIgPSBEQihXb3JrVW5yZWxhdGVkKAogICAgMjAwMSwgIkVQUkFNOiBBIFJpc2sgQW5hbHlzaXMgYW5kIE1pdGlnYXRpb24tQmFzZWQgRXZvbHV0aW9uYXJ5IFByb3RvdHlwaW5nIE1vZGVsIGZvciBRdWFsaXR5IFJlcXVpcmVtZW50cyBEZXZlbG9wbWVudC4iLAogICAgZGlzcGxheT0iY2FydGVyIGIiLAogICAgYXV0aG9ycz0iQ2FydGVyLCBSeWFuIEFsZGVuIiwKICAgIHBsYWNlPUZBS0UsCiAgICBlbnRyeXR5cGU9ImFydGljbGUiLAogICAgcHVibGlzaGVyPSJDaXRlc2VlciIsCiAgICBJRD0iY2FydGVyMjAwMWVwcmFtIiwKICAgIGNsdXN0ZXJfaWQ9IjE3NTk0NjM5Nzg5NTEwMjg4NDY0IiwKICAgIHNjaG9sYXI9Imh0dHA6Ly9zY2hvbGFyLmdvb2dsZS5jb20vc2Nob2xhcj9jaXRlcz0xNzU5NDYzOTc4OTUxMDI4ODQ2NCZhc19zZHQ9MjAwNSZzY2lvZHQ9MCw1JmhsPWVuIiwKICAgIHBsYWNleD0iIiwKKSkKCkRCKENpdGF0aW9uKAogICAgY2FydGVyMjAwMWIsIGthdXR6MjAwMGEsIHJlZj0iIiwKICAgIGNvbnRleHRzPVsKCiAgICBdLAopKQoKJycnLCBjaXRhdGlvbnM9J2thdXR6MjAwMGEnKTs=\"));\n",
       "    "
      ],
      "text/plain": [
       "<IPython.core.display.Javascript object>"
      ]
     },
     "metadata": {},
     "output_type": "display_data"
    },
    {
     "data": {
      "application/javascript": [
       "$('span:contains(\"# Temp\")').closest('.cell').remove();"
      ],
      "text/plain": [
       "<IPython.core.display.Javascript object>"
      ]
     },
     "metadata": {},
     "output_type": "display_data"
    },
    {
     "data": {
      "application/javascript": [
       "\n",
       "        $('span:contains(\"# Temp\")').closest('.cell').remove();\n",
       "        var code = IPython.notebook.insert_cell_below('code');\n",
       "        code.set_text(atob(\"IyBUZW1wCmluc2VydCgnJycKY2FydGVyMjAwMWIgPSBEQihXb3JrVW5yZWxhdGVkKAogICAgMjAwMSwgIkVQUkFNOiBBIFJpc2sgQW5hbHlzaXMgYW5kIE1pdGlnYXRpb24tQmFzZWQgRXZvbHV0aW9uYXJ5IFByb3RvdHlwaW5nIE1vZGVsIGZvciBRdWFsaXR5IFJlcXVpcmVtZW50cyBEZXZlbG9wbWVudC4iLAogICAgZGlzcGxheT0iY2FydGVyIGIiLAogICAgYXV0aG9ycz0iQ2FydGVyLCBSeWFuIEFsZGVuIiwKICAgIHBsYWNlPUZBS0UsCiAgICBlbnRyeXR5cGU9ImFydGljbGUiLAogICAgcHVibGlzaGVyPSJDaXRlc2VlciIsCiAgICBJRD0iY2FydGVyMjAwMWVwcmFtIiwKICAgIGNsdXN0ZXJfaWQ9IjE3NTk0NjM5Nzg5NTEwMjg4NDY0IiwKICAgIHNjaG9sYXI9Imh0dHA6Ly9zY2hvbGFyLmdvb2dsZS5jb20vc2Nob2xhcj9jaXRlcz0xNzU5NDYzOTc4OTUxMDI4ODQ2NCZhc19zZHQ9MjAwNSZzY2lvZHQ9MCw1JmhsPWVuIiwKICAgIHBsYWNleD0iIiwKKSkKCkRCKENpdGF0aW9uKAogICAgY2FydGVyMjAwMWIsIGthdXR6MjAwMGEsIHJlZj0iIiwKICAgIGNvbnRleHRzPVsKCiAgICBdLAopKQoKJycnLCBjaXRhdGlvbnM9J2thdXR6MjAwMGEnKTs=\"));\n",
       "    "
      ],
      "text/plain": [
       "<IPython.core.display.Javascript object>"
      ]
     },
     "metadata": {},
     "output_type": "display_data"
    },
    {
     "data": {
      "application/javascript": [
       "$('span:contains(\"# Temp\")').closest('.cell').remove();"
      ],
      "text/plain": [
       "<IPython.core.display.Javascript object>"
      ]
     },
     "metadata": {},
     "output_type": "display_data"
    },
    {
     "data": {
      "application/javascript": [
       "\n",
       "        $('span:contains(\"# Temp\")').closest('.cell').remove();\n",
       "        var code = IPython.notebook.insert_cell_below('code');\n",
       "        code.set_text(atob(\"IyBUZW1wCmluc2VydCgnJycKdGr4cm5laPhqMjAwOGEgPSBEQihXb3JrVW5yZWxhdGVkKAogICAgMjAwOCwgIlRoZSBSb2xlIG9mIGltcHJvdmlzYXRpb24gaW4gYWRvcHRpb24gb2YgcHJvY2VzcyB0ZWNobm9sb2d5IGluIGEgc21hbGwgc29mdHdhcmUgZmlybSIsCiAgICBkaXNwbGF5PSJ0avhybmVo+GoiLAogICAgYXV0aG9ycz0iVGr4cm5laPhqLCBHaXR0ZSBhbmQgTWF0aGlhc3NlbiwgTGFycyIsCiAgICBwbGFjZT1GQUtFLAogICAgcHA9IjEzNyIsCiAgICBlbnRyeXR5cGU9ImFydGljbGUiLAogICAgcHVibGlzaGVyPSJTb2Z0d2FyZSBJbm5vdmF0aW9uIFB1Ymxpc2hlciBBYWxib3JnLCBEZW5tYXJrIiwKICAgIElEPSJ0am9ybmVob2oyMDA4cm9sZSIsCiAgICBjbHVzdGVyX2lkPSIxNjE1NzAzMzM4MTg4Njc4NDQ0IiwKICAgIHNjaG9sYXI9Imh0dHA6Ly9zY2hvbGFyLmdvb2dsZS5jb20vc2Nob2xhcj9jaXRlcz0xNjE1NzAzMzM4MTg4Njc4NDQ0JmFzX3NkdD0yMDA1JnNjaW9kdD0wLDUmaGw9ZW4iLAogICAgcGxhY2V4PSJTb2Z0d2FyZSBQcm9jZXNzZXMgJiBLbm93bGVkZ2UiLAopKQoKREIoQ2l0YXRpb24oCiAgICB0avhybmVo+GoyMDA4YSwga2F1dHoyMDAwYSwgcmVmPSIiLAogICAgY29udGV4dHM9WwoKICAgIF0sCikpCgonJycsIGNpdGF0aW9ucz0na2F1dHoyMDAwYScpOw==\"));\n",
       "    "
      ],
      "text/plain": [
       "<IPython.core.display.Javascript object>"
      ]
     },
     "metadata": {},
     "output_type": "display_data"
    },
    {
     "data": {
      "application/javascript": [
       "$('span:contains(\"# Temp\")').closest('.cell').remove();"
      ],
      "text/plain": [
       "<IPython.core.display.Javascript object>"
      ]
     },
     "metadata": {},
     "output_type": "display_data"
    },
    {
     "data": {
      "application/javascript": [
       "\n",
       "        $('span:contains(\"# Temp\")').closest('.cell').remove();\n",
       "        var code = IPython.notebook.insert_cell_below('code');\n",
       "        code.set_text(atob(\"IyBUZW1wCmluc2VydCgnJycKdGr4cm5laPhqMjAwOGEgPSBEQihXb3JrVW5yZWxhdGVkKAogICAgMjAwOCwgIlRoZSBSb2xlIG9mIGltcHJvdmlzYXRpb24gaW4gYWRvcHRpb24gb2YgcHJvY2VzcyB0ZWNobm9sb2d5IGluIGEgc21hbGwgc29mdHdhcmUgZmlybSIsCiAgICBkaXNwbGF5PSJ0avhybmVo+GoiLAogICAgYXV0aG9ycz0iVGr4cm5laPhqLCBHaXR0ZSBhbmQgTWF0aGlhc3NlbiwgTGFycyIsCiAgICBwbGFjZT1GQUtFLAogICAgcHA9IjEzNyIsCiAgICBlbnRyeXR5cGU9ImFydGljbGUiLAogICAgcHVibGlzaGVyPSJTb2Z0d2FyZSBJbm5vdmF0aW9uIFB1Ymxpc2hlciBBYWxib3JnLCBEZW5tYXJrIiwKICAgIElEPSJ0am9ybmVob2oyMDA4cm9sZSIsCiAgICBjbHVzdGVyX2lkPSIxNjE1NzAzMzM4MTg4Njc4NDQ0IiwKICAgIHNjaG9sYXI9Imh0dHA6Ly9zY2hvbGFyLmdvb2dsZS5jb20vc2Nob2xhcj9jaXRlcz0xNjE1NzAzMzM4MTg4Njc4NDQ0JmFzX3NkdD0yMDA1JnNjaW9kdD0wLDUmaGw9ZW4iLAogICAgcGxhY2V4PSJTb2Z0d2FyZSBQcm9jZXNzZXMgJiBLbm93bGVkZ2UiLAopKQoKREIoQ2l0YXRpb24oCiAgICB0avhybmVo+GoyMDA4YSwga2F1dHoyMDAwYSwgcmVmPSIiLAogICAgY29udGV4dHM9WwoKICAgIF0sCikpCgonJycsIGNpdGF0aW9ucz0na2F1dHoyMDAwYScpOw==\"));\n",
       "    "
      ],
      "text/plain": [
       "<IPython.core.display.Javascript object>"
      ]
     },
     "metadata": {},
     "output_type": "display_data"
    },
    {
     "data": {
      "application/javascript": [
       "$('span:contains(\"# Temp\")').closest('.cell').remove();"
      ],
      "text/plain": [
       "<IPython.core.display.Javascript object>"
      ]
     },
     "metadata": {},
     "output_type": "display_data"
    },
    {
     "data": {
      "application/javascript": [
       "\n",
       "        $('span:contains(\"# Temp\")').closest('.cell').remove();\n",
       "        var code = IPython.notebook.insert_cell_below('code');\n",
       "        code.set_text(atob(\"IyBUZW1wCmluc2VydCgnJycKc3VnYW55YTIwMTZhID0gREIoV29ya1VucmVsYXRlZCgKICAgIDIwMTYsICJBIFJldmlldyBvbiBTb2Z0d2FyZSBQcm9jZXNzIEltcHJvdmVtZW50IE1ldGhvZG9sb2dpZXMgZm9yIFNtYWxsIGFuZCBNZWRpdW0gRW50ZXJwcmlzZXMiLAogICAgZGlzcGxheT0ic3VnYW55YSIsCiAgICBhdXRob3JzPSJTdWdhbnlhLCBNIGFuZCBBbGFnYXJzYW15LCBLIiwKICAgIHBsYWNlPUZBS0UsCiAgICBlbnRyeXR5cGU9ImFydGljbGUiLAogICAgdm9sdW1lPSIyIiwKICAgIG51bWJlcj0iMDgiLAogICAgSUQ9InN1Z2FueWEyMDE2cmV2aWV3IiwKICAgIGNsdXN0ZXJfaWQ9IjI1NzMyMjU3NzAzODg5MTMyODEiLAogICAgc2Nob2xhcj0iaHR0cDovL3NjaG9sYXIuZ29vZ2xlLmNvbS9zY2hvbGFyP2NpdGVzPTI1NzMyMjU3NzAzODg5MTMyODEmYXNfc2R0PTIwMDUmc2Npb2R0PTAsNSZobD1lbiIsCiAgICBwbGFjZXg9IklKU1RFLUludGVybmF0aW9uYWwgSm91cm5hbCBvZiBTY2llbmNlIFRlY2hub2xvZ3kgJiBFbmdpbmVlcmluZyIsCikpCgpEQihDaXRhdGlvbigKICAgIHN1Z2FueWEyMDE2YSwga2F1dHoyMDAwYSwgcmVmPSIiLAogICAgY29udGV4dHM9WwoKICAgIF0sCikpCgonJycsIGNpdGF0aW9ucz0na2F1dHoyMDAwYScpOw==\"));\n",
       "    "
      ],
      "text/plain": [
       "<IPython.core.display.Javascript object>"
      ]
     },
     "metadata": {},
     "output_type": "display_data"
    },
    {
     "data": {
      "application/javascript": [
       "$('span:contains(\"# Temp\")').closest('.cell').remove();"
      ],
      "text/plain": [
       "<IPython.core.display.Javascript object>"
      ]
     },
     "metadata": {},
     "output_type": "display_data"
    },
    {
     "data": {
      "application/javascript": [
       "\n",
       "        $('span:contains(\"# Temp\")').closest('.cell').remove();\n",
       "        var code = IPython.notebook.insert_cell_below('code');\n",
       "        code.set_text(atob(\"IyBUZW1wCmluc2VydCgnJycKc3VnYW55YTIwMTZhID0gREIoV29ya1VucmVsYXRlZCgKICAgIDIwMTYsICJBIFJldmlldyBvbiBTb2Z0d2FyZSBQcm9jZXNzIEltcHJvdmVtZW50IE1ldGhvZG9sb2dpZXMgZm9yIFNtYWxsIGFuZCBNZWRpdW0gRW50ZXJwcmlzZXMiLAogICAgZGlzcGxheT0ic3VnYW55YSIsCiAgICBhdXRob3JzPSJTdWdhbnlhLCBNIGFuZCBBbGFnYXJzYW15LCBLIiwKICAgIHBsYWNlPUZBS0UsCiAgICBlbnRyeXR5cGU9ImFydGljbGUiLAogICAgdm9sdW1lPSIyIiwKICAgIG51bWJlcj0iMDgiLAogICAgSUQ9InN1Z2FueWEyMDE2cmV2aWV3IiwKICAgIGNsdXN0ZXJfaWQ9IjI1NzMyMjU3NzAzODg5MTMyODEiLAogICAgc2Nob2xhcj0iaHR0cDovL3NjaG9sYXIuZ29vZ2xlLmNvbS9zY2hvbGFyP2NpdGVzPTI1NzMyMjU3NzAzODg5MTMyODEmYXNfc2R0PTIwMDUmc2Npb2R0PTAsNSZobD1lbiIsCiAgICBwbGFjZXg9IklKU1RFLUludGVybmF0aW9uYWwgSm91cm5hbCBvZiBTY2llbmNlIFRlY2hub2xvZ3kgJiBFbmdpbmVlcmluZyIsCikpCgpEQihDaXRhdGlvbigKICAgIHN1Z2FueWEyMDE2YSwga2F1dHoyMDAwYSwgcmVmPSIiLAogICAgY29udGV4dHM9WwoKICAgIF0sCikpCgonJycsIGNpdGF0aW9ucz0na2F1dHoyMDAwYScpOw==\"));\n",
       "    "
      ],
      "text/plain": [
       "<IPython.core.display.Javascript object>"
      ]
     },
     "metadata": {},
     "output_type": "display_data"
    },
    {
     "data": {
      "application/javascript": [
       "$('span:contains(\"# Temp\")').closest('.cell').remove();"
      ],
      "text/plain": [
       "<IPython.core.display.Javascript object>"
      ]
     },
     "metadata": {},
     "output_type": "display_data"
    },
    {
     "data": {
      "application/javascript": [
       "\n",
       "        $('span:contains(\"# Temp\")').closest('.cell').remove();\n",
       "        var code = IPython.notebook.insert_cell_below('code');\n",
       "        code.set_text(atob(\"IyBUZW1wCmluc2VydCgnJycKcHJlaXMyMDEyYSA9IERCKFdvcmtVbnJlbGF0ZWQoCiAgICAyMDEyLCAiSW50ZWdyYXRpb24gRXZhbHVhdGlvbiBvZiBTY3J1bSBhbmQgQ01NSSIsCiAgICBkaXNwbGF5PSJwcmVpcyIsCiAgICBhdXRob3JzPSJQcmVpcywgQXJtaW4iLAogICAgcGxhY2U9RkFLRSwKICAgIGVudHJ5dHlwZT0iYXJ0aWNsZSIsCiAgICBJRD0icHJlaXMyMDEyaW50ZWdyYXRpb24iLAogICAgY2x1c3Rlcl9pZD0iOTMxMTIwNzQ2MzM0NTE2NjcxOCIsCiAgICBzY2hvbGFyPSJodHRwOi8vc2Nob2xhci5nb29nbGUuY29tL3NjaG9sYXI/Y2l0ZXM9OTMxMTIwNzQ2MzM0NTE2NjcxOCZhc19zZHQ9MjAwNSZzY2lvZHQ9MCw1JmhsPWVuIiwKICAgIHBsYWNleD0iT3JnYW5pemF0aW9uYWwgU2NpZW5jZSIsCikpCgpEQihDaXRhdGlvbigKICAgIHByZWlzMjAxMmEsIGthdXR6MjAwMGEsIHJlZj0iIiwKICAgIGNvbnRleHRzPVsKCiAgICBdLAopKQoKJycnLCBjaXRhdGlvbnM9J2thdXR6MjAwMGEnKTs=\"));\n",
       "    "
      ],
      "text/plain": [
       "<IPython.core.display.Javascript object>"
      ]
     },
     "metadata": {},
     "output_type": "display_data"
    },
    {
     "data": {
      "application/javascript": [
       "$('span:contains(\"# Temp\")').closest('.cell').remove();"
      ],
      "text/plain": [
       "<IPython.core.display.Javascript object>"
      ]
     },
     "metadata": {},
     "output_type": "display_data"
    },
    {
     "data": {
      "application/javascript": [
       "\n",
       "        $('span:contains(\"# Temp\")').closest('.cell').remove();\n",
       "        var code = IPython.notebook.insert_cell_below('code');\n",
       "        code.set_text(atob(\"IyBUZW1wCmluc2VydCgnJycKcHJlaXMyMDEyYSA9IERCKFdvcmtVbnJlbGF0ZWQoCiAgICAyMDEyLCAiSW50ZWdyYXRpb24gRXZhbHVhdGlvbiBvZiBTY3J1bSBhbmQgQ01NSSIsCiAgICBkaXNwbGF5PSJwcmVpcyIsCiAgICBhdXRob3JzPSJQcmVpcywgQXJtaW4iLAogICAgcGxhY2U9RkFLRSwKICAgIGVudHJ5dHlwZT0iYXJ0aWNsZSIsCiAgICBJRD0icHJlaXMyMDEyaW50ZWdyYXRpb24iLAogICAgY2x1c3Rlcl9pZD0iOTMxMTIwNzQ2MzM0NTE2NjcxOCIsCiAgICBzY2hvbGFyPSJodHRwOi8vc2Nob2xhci5nb29nbGUuY29tL3NjaG9sYXI/Y2l0ZXM9OTMxMTIwNzQ2MzM0NTE2NjcxOCZhc19zZHQ9MjAwNSZzY2lvZHQ9MCw1JmhsPWVuIiwKICAgIHBsYWNleD0iT3JnYW5pemF0aW9uYWwgU2NpZW5jZSIsCikpCgpEQihDaXRhdGlvbigKICAgIHByZWlzMjAxMmEsIGthdXR6MjAwMGEsIHJlZj0iIiwKICAgIGNvbnRleHRzPVsKCiAgICBdLAopKQoKJycnLCBjaXRhdGlvbnM9J2thdXR6MjAwMGEnKTs=\"));\n",
       "    "
      ],
      "text/plain": [
       "<IPython.core.display.Javascript object>"
      ]
     },
     "metadata": {},
     "output_type": "display_data"
    },
    {
     "data": {
      "application/javascript": [
       "$('span:contains(\"# Temp\")').closest('.cell').remove();"
      ],
      "text/plain": [
       "<IPython.core.display.Javascript object>"
      ]
     },
     "metadata": {},
     "output_type": "display_data"
    },
    {
     "data": {
      "application/javascript": [
       "\n",
       "        $('span:contains(\"# Temp\")').closest('.cell').remove();\n",
       "        var code = IPython.notebook.insert_cell_below('code');\n",
       "        code.set_text(atob(\"IyBUZW1wCmluc2VydCgnJycKaGphbG1hcnNzb24yMDA0YiA9IERCKFdvcmtVbnJlbGF0ZWQoCiAgICAyMDA0LCAiQXR0IGV0YWJsZXJhIG9jaCB2aWRtYWt0aOVsbGEgZvZyYuR0dHJpbmdzdmVya3NhbWhldCIsCiAgICBkaXNwbGF5PSJoamFsbWFyc3NvbiBiIiwKICAgIGF1dGhvcnM9IkhqYWxtYXJzc29uLCBBbmRlcnMiLAogICAgcGxhY2U9RkFLRSwKICAgIGVudHJ5dHlwZT0iYXJ0aWNsZSIsCiAgICBJRD0iaGphbG1hcnNzb24yMDA0YXR0IiwKICAgIGNsdXN0ZXJfaWQ9IjEyOTAzODIyMDMxOTEwMzkyOTk5IiwKICAgIHNjaG9sYXI9Imh0dHA6Ly9zY2hvbGFyLmdvb2dsZS5jb20vc2Nob2xhcj9jaXRlcz0xMjkwMzgyMjAzMTkxMDM5Mjk5OSZhc19zZHQ9MjAwNSZzY2lvZHQ9MCw1JmhsPWVuIiwKICAgIHBsYWNleD0iQmVob3ZldCBhdiBrb29yZGluYXRpb24gb2NoIGludGVyYWt0aW9uIHZpZCBm9nLkbmRyaW5nIGF2IHN5c3RlbXV0dmVja2xpbmdzdmVya3NhbWhldGVyLCBsaWMuIGF2aGFuZGxpbmcsIElEQSwgTGlua/ZwaW5ncyB1bml2ZXJzaXRldCIsCikpCgpEQihDaXRhdGlvbigKICAgIGhqYWxtYXJzc29uMjAwNGIsIGthdXR6MjAwMGEsIHJlZj0iIiwKICAgIGNvbnRleHRzPVsKCiAgICBdLAopKQoKJycnLCBjaXRhdGlvbnM9J2thdXR6MjAwMGEnKTs=\"));\n",
       "    "
      ],
      "text/plain": [
       "<IPython.core.display.Javascript object>"
      ]
     },
     "metadata": {},
     "output_type": "display_data"
    },
    {
     "data": {
      "application/javascript": [
       "$('span:contains(\"# Temp\")').closest('.cell').remove();"
      ],
      "text/plain": [
       "<IPython.core.display.Javascript object>"
      ]
     },
     "metadata": {},
     "output_type": "display_data"
    },
    {
     "data": {
      "application/javascript": [
       "\n",
       "        $('span:contains(\"# Temp\")').closest('.cell').remove();\n",
       "        var code = IPython.notebook.insert_cell_below('code');\n",
       "        code.set_text(atob(\"IyBUZW1wCmluc2VydCgnJycKaGphbG1hcnNzb24yMDA0YiA9IERCKFdvcmtVbnJlbGF0ZWQoCiAgICAyMDA0LCAiQXR0IGV0YWJsZXJhIG9jaCB2aWRtYWt0aOVsbGEgZvZyYuR0dHJpbmdzdmVya3NhbWhldCIsCiAgICBkaXNwbGF5PSJoamFsbWFyc3NvbiBiIiwKICAgIGF1dGhvcnM9IkhqYWxtYXJzc29uLCBBbmRlcnMiLAogICAgcGxhY2U9RkFLRSwKICAgIGVudHJ5dHlwZT0iYXJ0aWNsZSIsCiAgICBJRD0iaGphbG1hcnNzb24yMDA0YXR0IiwKICAgIGNsdXN0ZXJfaWQ9IjEyOTAzODIyMDMxOTEwMzkyOTk5IiwKICAgIHNjaG9sYXI9Imh0dHA6Ly9zY2hvbGFyLmdvb2dsZS5jb20vc2Nob2xhcj9jaXRlcz0xMjkwMzgyMjAzMTkxMDM5Mjk5OSZhc19zZHQ9MjAwNSZzY2lvZHQ9MCw1JmhsPWVuIiwKICAgIHBsYWNleD0iQmVob3ZldCBhdiBrb29yZGluYXRpb24gb2NoIGludGVyYWt0aW9uIHZpZCBm9nLkbmRyaW5nIGF2IHN5c3RlbXV0dmVja2xpbmdzdmVya3NhbWhldGVyLCBsaWMuIGF2aGFuZGxpbmcsIElEQSwgTGlua/ZwaW5ncyB1bml2ZXJzaXRldCIsCikpCgpEQihDaXRhdGlvbigKICAgIGhqYWxtYXJzc29uMjAwNGIsIGthdXR6MjAwMGEsIHJlZj0iIiwKICAgIGNvbnRleHRzPVsKCiAgICBdLAopKQoKJycnLCBjaXRhdGlvbnM9J2thdXR6MjAwMGEnKTs=\"));\n",
       "    "
      ],
      "text/plain": [
       "<IPython.core.display.Javascript object>"
      ]
     },
     "metadata": {},
     "output_type": "display_data"
    },
    {
     "data": {
      "application/javascript": [
       "$('span:contains(\"# Temp\")').closest('.cell').remove();"
      ],
      "text/plain": [
       "<IPython.core.display.Javascript object>"
      ]
     },
     "metadata": {},
     "output_type": "display_data"
    },
    {
     "data": {
      "application/javascript": [
       "\n",
       "        $('span:contains(\"# Temp\")').closest('.cell').remove();\n",
       "        var code = IPython.notebook.insert_cell_below('code');\n",
       "        code.set_text(atob(\"IyBUZW1wCmluc2VydCgnJycKZ29uMjAxMmEgPSBEQihXb3JrVW5yZWxhdGVkKAogICAgMjAxMiwgIklBTVBTOiBVbWEgUHJvY2Vzc28gZGUgQXBvaW8gYW8gVXNvIGRlIE3pdG9kb3MgwWdlaXMgZW0gQ29uanVudG8gY29tIG8gTVBTLiBCUi4iLAogICAgZGlzcGxheT0iZ29uIiwKICAgIGF1dGhvcnM9IkdvbnvnfWFsdmVzLCBNYXJjZWxvIEJlbml0ZXMiLAogICAgcGxhY2U9VGhlc2lzLAogICAgZW50cnl0eXBlPSJtYXN0ZXJzdGhlc2lzIiwKICAgIElEPSJnb25jY2FsdmVzMjAxMmlhbXBzIiwKICAgIGNsdXN0ZXJfaWQ9IjYzMjI5NjY2NDA4NDc2MjMyNDAiLAogICAgc2Nob2xhcj0iaHR0cDovL3NjaG9sYXIuZ29vZ2xlLmNvbS9zY2hvbGFyP2NpdGVzPTYzMjI5NjY2NDA4NDc2MjMyNDAmYXNfc2R0PTIwMDUmc2Npb2R0PTAsNSZobD1lbiIsCiAgICBwbGFjZXg9IiIsCikpCgpEQihDaXRhdGlvbigKICAgIGdvbjIwMTJhLCBrYXV0ejIwMDBhLCByZWY9IiIsCiAgICBjb250ZXh0cz1bCgogICAgXSwKKSkKCicnJywgY2l0YXRpb25zPSdrYXV0ejIwMDBhJyk7\"));\n",
       "    "
      ],
      "text/plain": [
       "<IPython.core.display.Javascript object>"
      ]
     },
     "metadata": {},
     "output_type": "display_data"
    },
    {
     "data": {
      "application/javascript": [
       "$('span:contains(\"# Temp\")').closest('.cell').remove();"
      ],
      "text/plain": [
       "<IPython.core.display.Javascript object>"
      ]
     },
     "metadata": {},
     "output_type": "display_data"
    },
    {
     "data": {
      "application/javascript": [
       "\n",
       "        $('span:contains(\"# Temp\")').closest('.cell').remove();\n",
       "        var code = IPython.notebook.insert_cell_below('code');\n",
       "        code.set_text(atob(\"IyBUZW1wCmluc2VydCgnJycKZ29uMjAxMmEgPSBEQihXb3JrVW5yZWxhdGVkKAogICAgMjAxMiwgIklBTVBTOiBVbWEgUHJvY2Vzc28gZGUgQXBvaW8gYW8gVXNvIGRlIE3pdG9kb3MgwWdlaXMgZW0gQ29uanVudG8gY29tIG8gTVBTLiBCUi4iLAogICAgZGlzcGxheT0iZ29uIiwKICAgIGF1dGhvcnM9IkdvbnvnfWFsdmVzLCBNYXJjZWxvIEJlbml0ZXMiLAogICAgcGxhY2U9VGhlc2lzLAogICAgZW50cnl0eXBlPSJtYXN0ZXJzdGhlc2lzIiwKICAgIElEPSJnb25jY2FsdmVzMjAxMmlhbXBzIiwKICAgIGNsdXN0ZXJfaWQ9IjYzMjI5NjY2NDA4NDc2MjMyNDAiLAogICAgc2Nob2xhcj0iaHR0cDovL3NjaG9sYXIuZ29vZ2xlLmNvbS9zY2hvbGFyP2NpdGVzPTYzMjI5NjY2NDA4NDc2MjMyNDAmYXNfc2R0PTIwMDUmc2Npb2R0PTAsNSZobD1lbiIsCiAgICBwbGFjZXg9IiIsCikpCgpEQihDaXRhdGlvbigKICAgIGdvbjIwMTJhLCBrYXV0ejIwMDBhLCByZWY9IiIsCiAgICBjb250ZXh0cz1bCgogICAgXSwKKSkKCicnJywgY2l0YXRpb25zPSdrYXV0ejIwMDBhJyk7\"));\n",
       "    "
      ],
      "text/plain": [
       "<IPython.core.display.Javascript object>"
      ]
     },
     "metadata": {},
     "output_type": "display_data"
    },
    {
     "data": {
      "application/javascript": [
       "$('span:contains(\"# Temp\")').closest('.cell').remove();"
      ],
      "text/plain": [
       "<IPython.core.display.Javascript object>"
      ]
     },
     "metadata": {},
     "output_type": "display_data"
    },
    {
     "data": {
      "application/javascript": [
       "\n",
       "        $('span:contains(\"# Temp\")').closest('.cell').remove();\n",
       "        var code = IPython.notebook.insert_cell_below('code');\n",
       "        code.set_text(atob(\"IyBUZW1wCmluc2VydCgnJycKYmVydHJhbmQyMDA4YSA9IERCKFdvcmtVbnJlbGF0ZWQoCiAgICAyMDA4LCAiTW9kZWxpbmcgYW5kIG1hbmFnZW1lbnQgb2YgcHJvY2VzcyBpbiBudW1lcmljYWwgZW5naW5lZXJpbmcuIEFwcGxpY2F0aW9uIGluIGZvdW5kcnkuIiwKICAgIGRpc3BsYXk9ImJlcnRyYW5kIiwKICAgIGF1dGhvcnM9IkJlcnRyYW5kLCBCIGFuZCBEYW5lc2ksIEYgYW5kIEdhcmRhbiwgTiBhbmQgR2FyZGFuLCBZIiwKICAgIHBsYWNlPUZBS0UsCiAgICBwcD0iMjA2LS0yMTAiLAogICAgZW50cnl0eXBlPSJpbnByb2NlZWRpbmdzIiwKICAgIG9yZ2FuaXphdGlvbj0iV29ybGQgU2NpZW50aWZpYyBhbmQgRW5naW5lZXJpbmcgQWNhZGVteSBhbmQgU29jaWV0eSAoV1NFQVMpIiwKICAgIElEPSJiZXJ0cmFuZDIwMDhtb2RlbGluZyIsCiAgICBwbGFjZXg9IlByb2NlZWRpbmdzIG9mIHRoZSA3dGggV1NFQVMgaW50ZXJuYXRpb25hbCBjb25mZXJlbmNlIG9uIFN5c3RlbSBzY2llbmNlIGFuZCBzaW11bGF0aW9uIGluIGVuZ2luZWVyaW5nIiwKKSkKCkRCKENpdGF0aW9uKAogICAgYmVydHJhbmQyMDA4YSwga2F1dHoyMDAwYSwgcmVmPSIiLAogICAgY29udGV4dHM9WwoKICAgIF0sCikpCgonJycsIGNpdGF0aW9ucz0na2F1dHoyMDAwYScpOw==\"));\n",
       "    "
      ],
      "text/plain": [
       "<IPython.core.display.Javascript object>"
      ]
     },
     "metadata": {},
     "output_type": "display_data"
    },
    {
     "data": {
      "application/javascript": [
       "$('span:contains(\"# Temp\")').closest('.cell').remove();"
      ],
      "text/plain": [
       "<IPython.core.display.Javascript object>"
      ]
     },
     "metadata": {},
     "output_type": "display_data"
    },
    {
     "data": {
      "application/javascript": [
       "\n",
       "        $('span:contains(\"# Temp\")').closest('.cell').remove();\n",
       "        var code = IPython.notebook.insert_cell_below('code');\n",
       "        code.set_text(atob(\"IyBUZW1wCmluc2VydCgnJycKYmVydHJhbmQyMDA4YSA9IERCKFdvcmtVbnJlbGF0ZWQoCiAgICAyMDA4LCAiTW9kZWxpbmcgYW5kIG1hbmFnZW1lbnQgb2YgcHJvY2VzcyBpbiBudW1lcmljYWwgZW5naW5lZXJpbmcuIEFwcGxpY2F0aW9uIGluIGZvdW5kcnkuIiwKICAgIGRpc3BsYXk9ImJlcnRyYW5kIiwKICAgIGF1dGhvcnM9IkJlcnRyYW5kLCBCIGFuZCBEYW5lc2ksIEYgYW5kIEdhcmRhbiwgTiBhbmQgR2FyZGFuLCBZIiwKICAgIHBsYWNlPUZBS0UsCiAgICBwcD0iMjA2LS0yMTAiLAogICAgZW50cnl0eXBlPSJpbnByb2NlZWRpbmdzIiwKICAgIG9yZ2FuaXphdGlvbj0iV29ybGQgU2NpZW50aWZpYyBhbmQgRW5naW5lZXJpbmcgQWNhZGVteSBhbmQgU29jaWV0eSAoV1NFQVMpIiwKICAgIElEPSJiZXJ0cmFuZDIwMDhtb2RlbGluZyIsCiAgICBwbGFjZXg9IlByb2NlZWRpbmdzIG9mIHRoZSA3dGggV1NFQVMgaW50ZXJuYXRpb25hbCBjb25mZXJlbmNlIG9uIFN5c3RlbSBzY2llbmNlIGFuZCBzaW11bGF0aW9uIGluIGVuZ2luZWVyaW5nIiwKKSkKCkRCKENpdGF0aW9uKAogICAgYmVydHJhbmQyMDA4YSwga2F1dHoyMDAwYSwgcmVmPSIiLAogICAgY29udGV4dHM9WwoKICAgIF0sCikpCgonJycsIGNpdGF0aW9ucz0na2F1dHoyMDAwYScpOw==\"));\n",
       "    "
      ],
      "text/plain": [
       "<IPython.core.display.Javascript object>"
      ]
     },
     "metadata": {},
     "output_type": "display_data"
    },
    {
     "data": {
      "application/javascript": [
       "$('span:contains(\"# Temp\")').closest('.cell').remove();"
      ],
      "text/plain": [
       "<IPython.core.display.Javascript object>"
      ]
     },
     "metadata": {},
     "output_type": "display_data"
    },
    {
     "data": {
      "application/javascript": [
       "\n",
       "        $('span:contains(\"# Temp\")').closest('.cell').remove();\n",
       "        var code = IPython.notebook.insert_cell_below('code');\n",
       "        code.set_text(atob(\"IyBUZW1wCmluc2VydCgnJycKa2hkYWlyMGEgPSBEQihXb3JrVW5yZWxhdGVkKAogICAgMCwgIkFwcGx5aW5nIGEgUHJhY3RpY2FsIFNvZnR3YXJlIFByb2Nlc3MgSW1wcm92ZW1lbnQgTW9kZWwgZm9yIFdlYi1CYXNlZCBBcHBsaWNhdGlvbiBEZXZlbG9wbWVudCBpbiBTbWFsbCBTaXplZCBGaXJtcyIsCiAgICBkaXNwbGF5PSJraGRhaXIiLAogICAgYXV0aG9ycz0iS2hkYWlyLCBIaXNoYW0iLAogICAgcGxhY2U9RkFLRSwKICAgIGVudHJ5dHlwZT0iYXJ0aWNsZSIsCiAgICBJRD0ia2hkYWlyYXBwbHlpbmciLAogICAgcGxhY2V4PSIiLAopKQoKREIoQ2l0YXRpb24oCiAgICBraGRhaXIwYSwga2F1dHoyMDAwYSwgcmVmPSIiLAogICAgY29udGV4dHM9WwoKICAgIF0sCikpCgonJycsIGNpdGF0aW9ucz0na2F1dHoyMDAwYScpOw==\"));\n",
       "    "
      ],
      "text/plain": [
       "<IPython.core.display.Javascript object>"
      ]
     },
     "metadata": {},
     "output_type": "display_data"
    },
    {
     "data": {
      "application/javascript": [
       "$('span:contains(\"# Temp\")').closest('.cell').remove();"
      ],
      "text/plain": [
       "<IPython.core.display.Javascript object>"
      ]
     },
     "metadata": {},
     "output_type": "display_data"
    },
    {
     "data": {
      "application/javascript": [
       "\n",
       "        $('span:contains(\"# Temp\")').closest('.cell').remove();\n",
       "        var code = IPython.notebook.insert_cell_below('code');\n",
       "        code.set_text(atob(\"IyBUZW1wCmluc2VydCgnJycKa2hkYWlyMGEgPSBEQihXb3JrVW5yZWxhdGVkKAogICAgMCwgIkFwcGx5aW5nIGEgUHJhY3RpY2FsIFNvZnR3YXJlIFByb2Nlc3MgSW1wcm92ZW1lbnQgTW9kZWwgZm9yIFdlYi1CYXNlZCBBcHBsaWNhdGlvbiBEZXZlbG9wbWVudCBpbiBTbWFsbCBTaXplZCBGaXJtcyIsCiAgICBkaXNwbGF5PSJraGRhaXIiLAogICAgYXV0aG9ycz0iS2hkYWlyLCBIaXNoYW0iLAogICAgcGxhY2U9RkFLRSwKICAgIGVudHJ5dHlwZT0iYXJ0aWNsZSIsCiAgICBJRD0ia2hkYWlyYXBwbHlpbmciLAogICAgcGxhY2V4PSIiLAopKQoKREIoQ2l0YXRpb24oCiAgICBraGRhaXIwYSwga2F1dHoyMDAwYSwgcmVmPSIiLAogICAgY29udGV4dHM9WwoKICAgIF0sCikpCgonJycsIGNpdGF0aW9ucz0na2F1dHoyMDAwYScpOw==\"));\n",
       "    "
      ],
      "text/plain": [
       "<IPython.core.display.Javascript object>"
      ]
     },
     "metadata": {},
     "output_type": "display_data"
    },
    {
     "data": {
      "application/javascript": [
       "$('span:contains(\"# Temp\")').closest('.cell').remove();"
      ],
      "text/plain": [
       "<IPython.core.display.Javascript object>"
      ]
     },
     "metadata": {},
     "output_type": "display_data"
    },
    {
     "data": {
      "application/javascript": [
       "\n",
       "        $('span:contains(\"# Temp\")').closest('.cell').remove();\n",
       "        var code = IPython.notebook.insert_cell_below('code');\n",
       "        code.set_text(atob(\"IyBUZW1wCmluc2VydCgnJycKa2hkYWlyMjAwOWEgPSBEQihXb3JrVW5yZWxhdGVkKAogICAgMjAwOSwgIkFwcGx5aW5nIGEgUHJhY3RpY2FsIFNvZnR3YXJlIFByb2Nlc3MgSW1wcm92ZW1lbnQgTW9kZWwgZm9yIFdlYi1CYXNlZCBBcHBsaWNhdGlvbiBEZXZlbG9wbWVudCBpbiBTbWFsbCBTaXplZCBGaXJtcyIsCiAgICBkaXNwbGF5PSJraGRhaXIiLAogICAgYXV0aG9ycz0iS2hkYWlyLCBIaXNoYW0iLAogICAgcGxhY2U9RkFLRSwKICAgIGVudHJ5dHlwZT0iYXJ0aWNsZSIsCiAgICBJRD0ia2hkYWlyYXBwbHlpbmciLAogICAgcGxhY2V4PSIiLAopKQoKREIoQ2l0YXRpb24oCiAgICBraGRhaXIyMDA5YSwga2F1dHoyMDAwYSwgcmVmPSIiLAogICAgY29udGV4dHM9WwoKICAgIF0sCikpCgonJycsIGNpdGF0aW9ucz0na2F1dHoyMDAwYScpOw==\"));\n",
       "    "
      ],
      "text/plain": [
       "<IPython.core.display.Javascript object>"
      ]
     },
     "metadata": {},
     "output_type": "display_data"
    },
    {
     "data": {
      "application/javascript": [
       "$('span:contains(\"# Temp\")').closest('.cell').remove();"
      ],
      "text/plain": [
       "<IPython.core.display.Javascript object>"
      ]
     },
     "metadata": {},
     "output_type": "display_data"
    },
    {
     "data": {
      "application/javascript": [
       "\n",
       "        $('span:contains(\"# Temp\")').closest('.cell').remove();\n",
       "        var code = IPython.notebook.insert_cell_below('code');\n",
       "        code.set_text(atob(\"IyBUZW1wCmluc2VydCgnJycKc2FuZGVyczIwMDlhID0gREIoV29ya1VucmVsYXRlZCgKICAgIDIwMDksICJGaW5kaW5nIG91dCB3aGF0IHJlYWxseSBoYXBwZW5lZCBhZnRlciBTUEkgYXNzaXN0YW5jZSBpbiBJcmVsYW5kIiwKICAgIGRpc3BsYXk9InNhbmRlcnMiLAogICAgYXV0aG9ycz0iU2FuZGVycywgTWFydGhhIEgiLAogICAgcGxhY2U9RkFLRSwKICAgIGVudHJ5dHlwZT0iYXJ0aWNsZSIsCiAgICBwdWJsaXNoZXI9IlVuaXZlcnNpdHkgb2YgTGltZXJpY2siLAogICAgSUQ9InNhbmRlcnMyMDA4ZmluZGluZyIsCiAgICBwbGFjZXg9IiIsCikpCgpEQihDaXRhdGlvbigKICAgIHNhbmRlcnMyMDA5YSwga2F1dHoyMDAwYSwgcmVmPSIiLAogICAgY29udGV4dHM9WwoKICAgIF0sCikpCgonJycsIGNpdGF0aW9ucz0na2F1dHoyMDAwYScpOw==\"));\n",
       "    "
      ],
      "text/plain": [
       "<IPython.core.display.Javascript object>"
      ]
     },
     "metadata": {},
     "output_type": "display_data"
    },
    {
     "data": {
      "application/javascript": [
       "$('span:contains(\"# Temp\")').closest('.cell').remove();"
      ],
      "text/plain": [
       "<IPython.core.display.Javascript object>"
      ]
     },
     "metadata": {},
     "output_type": "display_data"
    },
    {
     "data": {
      "application/javascript": [
       "\n",
       "        $('span:contains(\"# Temp\")').closest('.cell').remove();\n",
       "        var code = IPython.notebook.insert_cell_below('code');\n",
       "        code.set_text(atob(\"IyBUZW1wCmluc2VydCgnJycKc2FuZGVyczIwMDhhID0gREIoV29ya1VucmVsYXRlZCgKICAgIDIwMDgsICJGaW5kaW5nIG91dCB3aGF0IHJlYWxseSBoYXBwZW5lZCBhZnRlciBTUEkgYXNzaXN0YW5jZSBpbiBJcmVsYW5kIiwKICAgIGRpc3BsYXk9InNhbmRlcnMiLAogICAgYXV0aG9ycz0iU2FuZGVycywgTWFydGhhIEgiLAogICAgcGxhY2U9RkFLRSwKICAgIGVudHJ5dHlwZT0iYXJ0aWNsZSIsCiAgICBwdWJsaXNoZXI9IlVuaXZlcnNpdHkgb2YgTGltZXJpY2siLAogICAgSUQ9InNhbmRlcnMyMDA4ZmluZGluZyIsCiAgICBwbGFjZXg9IiIsCikpCgpEQihDaXRhdGlvbigKICAgIHNhbmRlcnMyMDA4YSwga2F1dHoyMDAwYSwgcmVmPSIiLAogICAgY29udGV4dHM9WwoKICAgIF0sCikpCgonJycsIGNpdGF0aW9ucz0na2F1dHoyMDAwYScpOw==\"));\n",
       "    "
      ],
      "text/plain": [
       "<IPython.core.display.Javascript object>"
      ]
     },
     "metadata": {},
     "output_type": "display_data"
    },
    {
     "data": {
      "application/javascript": [
       "$('span:contains(\"# Temp\")').closest('.cell').remove();"
      ],
      "text/plain": [
       "<IPython.core.display.Javascript object>"
      ]
     },
     "metadata": {},
     "output_type": "display_data"
    },
    {
     "data": {
      "application/javascript": [
       "\n",
       "        $('span:contains(\"# Temp\")').closest('.cell').remove();\n",
       "        var code = IPython.notebook.insert_cell_below('code');\n",
       "        code.set_text(atob(\"IyBUZW1wCmluc2VydCgnJycKZ29uMjAxNGEgPSBEQihXb3JrVW5yZWxhdGVkKAogICAgMjAxNCwgIklBTVBTOiBBbiBwcm9jZXNzIHRvIHN1cHBvcnQgdGhlIE1QUy4gQlIgaW1wbGVtZW50YXRpb24gdG9nZXRoZXIgd2l0aCBhZ2lsZSBtZXRob2RzIiwKICAgIGRpc3BsYXk9ImdvbiIsCiAgICBhdXRob3JzPSJHb257531hbHZlcywgTWFyY2VsbyBCZW5pdGVzIGFuZCBDYWduaW4sIE1hcmlhIElzdGVsYSBhbmQgUGFpdmEsIETpYm9yYSIsCiAgICBwbGFjZT1GQUtFLAogICAgcHA9IjEtLTkiLAogICAgZW50cnl0eXBlPSJpbnByb2NlZWRpbmdzIiwKICAgIG9yZ2FuaXphdGlvbj0iSUVFRSIsCiAgICBJRD0iZ29uY2NhbHZlczIwMTRpYW1wcyIsCiAgICBwbGFjZXg9IkNvbXB1dGluZyBDb25mZXJlbmNlIChDTEVJKSwgMjAxNCBYTCBMYXRpbiBBbWVyaWNhbiIsCikpCgpEQihDaXRhdGlvbigKICAgIGdvbjIwMTRhLCBrYXV0ejIwMDBhLCByZWY9IiIsCiAgICBjb250ZXh0cz1bCgogICAgXSwKKSkKCicnJywgY2l0YXRpb25zPSdrYXV0ejIwMDBhJyk7\"));\n",
       "    "
      ],
      "text/plain": [
       "<IPython.core.display.Javascript object>"
      ]
     },
     "metadata": {},
     "output_type": "display_data"
    },
    {
     "data": {
      "application/javascript": [
       "$('span:contains(\"# Temp\")').closest('.cell').remove();"
      ],
      "text/plain": [
       "<IPython.core.display.Javascript object>"
      ]
     },
     "metadata": {},
     "output_type": "display_data"
    },
    {
     "data": {
      "application/javascript": [
       "\n",
       "        $('span:contains(\"# Temp\")').closest('.cell').remove();\n",
       "        var code = IPython.notebook.insert_cell_below('code');\n",
       "        code.set_text(atob(\"IyBUZW1wCmluc2VydCgnJycKZ29uMjAxNGEgPSBEQihXb3JrVW5yZWxhdGVkKAogICAgMjAxNCwgIklBTVBTOiBBbiBwcm9jZXNzIHRvIHN1cHBvcnQgdGhlIE1QUy4gQlIgaW1wbGVtZW50YXRpb24gdG9nZXRoZXIgd2l0aCBhZ2lsZSBtZXRob2RzIiwKICAgIGRpc3BsYXk9ImdvbiIsCiAgICBhdXRob3JzPSJHb257531hbHZlcywgTWFyY2VsbyBCZW5pdGVzIGFuZCBDYWduaW4sIE1hcmlhIElzdGVsYSBhbmQgUGFpdmEsIETpYm9yYSIsCiAgICBwbGFjZT1GQUtFLAogICAgcHA9IjEtLTkiLAogICAgZW50cnl0eXBlPSJpbnByb2NlZWRpbmdzIiwKICAgIG9yZ2FuaXphdGlvbj0iSUVFRSIsCiAgICBJRD0iZ29uY2NhbHZlczIwMTRpYW1wcyIsCiAgICBwbGFjZXg9IkNvbXB1dGluZyBDb25mZXJlbmNlIChDTEVJKSwgMjAxNCBYTCBMYXRpbiBBbWVyaWNhbiIsCikpCgpEQihDaXRhdGlvbigKICAgIGdvbjIwMTRhLCBrYXV0ejIwMDBhLCByZWY9IiIsCiAgICBjb250ZXh0cz1bCgogICAgXSwKKSkKCicnJywgY2l0YXRpb25zPSdrYXV0ejIwMDBhJyk7\"));\n",
       "    "
      ],
      "text/plain": [
       "<IPython.core.display.Javascript object>"
      ]
     },
     "metadata": {},
     "output_type": "display_data"
    },
    {
     "data": {
      "application/javascript": [
       "$('span:contains(\"# Temp\")').closest('.cell').remove();"
      ],
      "text/plain": [
       "<IPython.core.display.Javascript object>"
      ]
     },
     "metadata": {},
     "output_type": "display_data"
    },
    {
     "data": {
      "application/javascript": [
       "\n",
       "        $('span:contains(\"# Temp\")').closest('.cell').remove();\n",
       "        var code = IPython.notebook.insert_cell_below('code');\n",
       "        code.set_text(atob(\"IyBUZW1wCmluc2VydCgnJycKZ29yc2NoZWsyMDA2YyA9IERCKFdvcmtVbnJlbGF0ZWQoCiAgICAyMDA2LCAiU3VjY2VzcyBFdmFsdWF0aW9uIGFuZCBNZWFzdXJlcyBpbiBTb2Z0d2FyZSBQcm9jZXNzIEltcHJvdmVtZW50IiwKICAgIGRpc3BsYXk9ImdvcnNjaGVrIGMiLAogICAgYXV0aG9ycz0iR29yc2NoZWssIFRvbnkgYW5kIMVzZuRsdCwgUORyIiwKICAgIHBsYWNlPUZBS0UsCiAgICBlbnRyeXR5cGU9Im1pc2MiLAogICAgSUQ9ImdvcnNjaGVrMjAwNnN1Y2Nlc3MiLAogICAgcGxhY2V4PSIiLAopKQoKREIoQ2l0YXRpb24oCiAgICBnb3JzY2hlazIwMDZjLCBrYXV0ejIwMDBhLCByZWY9IiIsCiAgICBjb250ZXh0cz1bCgogICAgXSwKKSkKCicnJywgY2l0YXRpb25zPSdrYXV0ejIwMDBhJyk7\"));\n",
       "    "
      ],
      "text/plain": [
       "<IPython.core.display.Javascript object>"
      ]
     },
     "metadata": {},
     "output_type": "display_data"
    },
    {
     "data": {
      "application/javascript": [
       "$('span:contains(\"# Temp\")').closest('.cell').remove();"
      ],
      "text/plain": [
       "<IPython.core.display.Javascript object>"
      ]
     },
     "metadata": {},
     "output_type": "display_data"
    },
    {
     "data": {
      "application/javascript": [
       "\n",
       "        $('span:contains(\"# Temp\")').closest('.cell').remove();\n",
       "        var code = IPython.notebook.insert_cell_below('code');\n",
       "        code.set_text(atob(\"IyBUZW1wCmluc2VydCgnJycKZ29yc2NoZWsyMDA2YyA9IERCKFdvcmtVbnJlbGF0ZWQoCiAgICAyMDA2LCAiU3VjY2VzcyBFdmFsdWF0aW9uIGFuZCBNZWFzdXJlcyBpbiBTb2Z0d2FyZSBQcm9jZXNzIEltcHJvdmVtZW50IiwKICAgIGRpc3BsYXk9ImdvcnNjaGVrIGMiLAogICAgYXV0aG9ycz0iR29yc2NoZWssIFRvbnkgYW5kIMVzZuRsdCwgUORyIiwKICAgIHBsYWNlPUZBS0UsCiAgICBlbnRyeXR5cGU9Im1pc2MiLAogICAgSUQ9ImdvcnNjaGVrMjAwNnN1Y2Nlc3MiLAogICAgcGxhY2V4PSIiLAopKQoKREIoQ2l0YXRpb24oCiAgICBnb3JzY2hlazIwMDZjLCBrYXV0ejIwMDBhLCByZWY9IiIsCiAgICBjb250ZXh0cz1bCgogICAgXSwKKSkKCicnJywgY2l0YXRpb25zPSdrYXV0ejIwMDBhJyk7\"));\n",
       "    "
      ],
      "text/plain": [
       "<IPython.core.display.Javascript object>"
      ]
     },
     "metadata": {},
     "output_type": "display_data"
    },
    {
     "data": {
      "application/javascript": [
       "$('span:contains(\"# Temp\")').closest('.cell').remove();"
      ],
      "text/plain": [
       "<IPython.core.display.Javascript object>"
      ]
     },
     "metadata": {},
     "output_type": "display_data"
    },
    {
     "data": {
      "application/javascript": [
       "\n",
       "        $('span:contains(\"# Temp\")').closest('.cell').remove();\n",
       "        var code = IPython.notebook.insert_cell_below('code');\n",
       "        code.set_text(atob(\"IyBUZW1wCmluc2VydCgnJycKaGFuc2VuMGEgPSBEQihXb3JrVW5yZWxhdGVkKAogICAgMCwgIkJleW9uZCB0aGUgcHJvY2VzcyIsCiAgICBkaXNwbGF5PSJoYW5zZW4iLAogICAgYXV0aG9ycz0iSGFuc2VuIEhhbnNlbiwgQm8iLAogICAgcGxhY2U9RkFLRSwKICAgIGVudHJ5dHlwZT0iYXJ0aWNsZSIsCiAgICBJRD0iaGFuc2VuYmV5b25kIiwKICAgIHBsYWNleD0iIiwKKSkKCkRCKENpdGF0aW9uKAogICAgaGFuc2VuMGEsIGthdXR6MjAwMGEsIHJlZj0iIiwKICAgIGNvbnRleHRzPVsKCiAgICBdLAopKQoKJycnLCBjaXRhdGlvbnM9J2thdXR6MjAwMGEnKTs=\"));\n",
       "    "
      ],
      "text/plain": [
       "<IPython.core.display.Javascript object>"
      ]
     },
     "metadata": {},
     "output_type": "display_data"
    },
    {
     "data": {
      "application/javascript": [
       "$('span:contains(\"# Temp\")').closest('.cell').remove();"
      ],
      "text/plain": [
       "<IPython.core.display.Javascript object>"
      ]
     },
     "metadata": {},
     "output_type": "display_data"
    },
    {
     "data": {
      "application/javascript": [
       "\n",
       "        $('span:contains(\"# Temp\")').closest('.cell').remove();\n",
       "        var code = IPython.notebook.insert_cell_below('code');\n",
       "        code.set_text(atob(\"IyBUZW1wCmluc2VydCgnJycKaGFuc2VuMGEgPSBEQihXb3JrVW5yZWxhdGVkKAogICAgMCwgIkJleW9uZCB0aGUgcHJvY2VzcyIsCiAgICBkaXNwbGF5PSJoYW5zZW4iLAogICAgYXV0aG9ycz0iSGFuc2VuIEhhbnNlbiwgQm8iLAogICAgcGxhY2U9RkFLRSwKICAgIGVudHJ5dHlwZT0iYXJ0aWNsZSIsCiAgICBJRD0iaGFuc2VuYmV5b25kIiwKICAgIHBsYWNleD0iIiwKKSkKCkRCKENpdGF0aW9uKAogICAgaGFuc2VuMGEsIGthdXR6MjAwMGEsIHJlZj0iIiwKICAgIGNvbnRleHRzPVsKCiAgICBdLAopKQoKJycnLCBjaXRhdGlvbnM9J2thdXR6MjAwMGEnKTs=\"));\n",
       "    "
      ],
      "text/plain": [
       "<IPython.core.display.Javascript object>"
      ]
     },
     "metadata": {},
     "output_type": "display_data"
    },
    {
     "data": {
      "application/javascript": [
       "$('span:contains(\"# Temp\")').closest('.cell').remove();"
      ],
      "text/plain": [
       "<IPython.core.display.Javascript object>"
      ]
     },
     "metadata": {},
     "output_type": "display_data"
    },
    {
     "data": {
      "application/javascript": [
       "\n",
       "        $('span:contains(\"# Temp\")').closest('.cell').remove();\n",
       "        var code = IPython.notebook.insert_cell_below('code');\n",
       "        code.set_text(atob(\"IyBUZW1wCmluc2VydCgnJycKYXJlbmlzMjAxNmEgPSBEQihXb3JrVW5yZWxhdGVkKAogICAgMjAxNiwgIkEgRm9ybWFsIEFwcHJvYWNoIHRvIHRoZSBEZXZlbG9wbWVudCBvZiBJbmR1c3RyaWFsIEN5YmVyLVBoeXNpY2FsIFN5c3RlbXMiLAogICAgZGlzcGxheT0iYXJlbmlzIiwKICAgIGF1dGhvcnM9IkFyZW5pcywgU2VyZ2lvIEFsZWphbmRybyBGZW8iLAogICAgcGxhY2U9RkFLRSwKICAgIGVudHJ5dHlwZT0iYXJ0aWNsZSIsCiAgICBJRD0iYXJlbmlzMjAxNmZvcm1hbCIsCiAgICBwbGFjZXg9IiIsCikpCgpEQihDaXRhdGlvbigKICAgIGFyZW5pczIwMTZhLCBrYXV0ejIwMDBhLCByZWY9IiIsCiAgICBjb250ZXh0cz1bCgogICAgXSwKKSkKCicnJywgY2l0YXRpb25zPSdrYXV0ejIwMDBhJyk7\"));\n",
       "    "
      ],
      "text/plain": [
       "<IPython.core.display.Javascript object>"
      ]
     },
     "metadata": {},
     "output_type": "display_data"
    },
    {
     "data": {
      "application/javascript": [
       "$('span:contains(\"# Temp\")').closest('.cell').remove();"
      ],
      "text/plain": [
       "<IPython.core.display.Javascript object>"
      ]
     },
     "metadata": {},
     "output_type": "display_data"
    },
    {
     "data": {
      "application/javascript": [
       "\n",
       "        $('span:contains(\"# Temp\")').closest('.cell').remove();\n",
       "        var code = IPython.notebook.insert_cell_below('code');\n",
       "        code.set_text(atob(\"IyBUZW1wCmluc2VydCgnJycKYXJlbmlzMjAxNmEgPSBEQihXb3JrVW5yZWxhdGVkKAogICAgMjAxNiwgIkEgRm9ybWFsIEFwcHJvYWNoIHRvIHRoZSBEZXZlbG9wbWVudCBvZiBJbmR1c3RyaWFsIEN5YmVyLVBoeXNpY2FsIFN5c3RlbXMiLAogICAgZGlzcGxheT0iYXJlbmlzIiwKICAgIGF1dGhvcnM9IkFyZW5pcywgU2VyZ2lvIEFsZWphbmRybyBGZW8iLAogICAgcGxhY2U9RkFLRSwKICAgIGVudHJ5dHlwZT0iYXJ0aWNsZSIsCiAgICBJRD0iYXJlbmlzMjAxNmZvcm1hbCIsCiAgICBwbGFjZXg9IiIsCikpCgpEQihDaXRhdGlvbigKICAgIGFyZW5pczIwMTZhLCBrYXV0ejIwMDBhLCByZWY9IiIsCiAgICBjb250ZXh0cz1bCgogICAgXSwKKSkKCicnJywgY2l0YXRpb25zPSdrYXV0ejIwMDBhJyk7\"));\n",
       "    "
      ],
      "text/plain": [
       "<IPython.core.display.Javascript object>"
      ]
     },
     "metadata": {},
     "output_type": "display_data"
    },
    {
     "data": {
      "application/javascript": [
       "$('span:contains(\"# Temp\")').closest('.cell').remove();"
      ],
      "text/plain": [
       "<IPython.core.display.Javascript object>"
      ]
     },
     "metadata": {},
     "output_type": "display_data"
    },
    {
     "data": {
      "application/javascript": [
       "\n",
       "        $('span:contains(\"# Temp\")').closest('.cell').remove();\n",
       "        var code = IPython.notebook.insert_cell_below('code');\n",
       "        code.set_text(atob(\"IyBUZW1wCmluc2VydCgnJycKa2V5MjAxNmEgPSBEQihXb3JrVW5yZWxhdGVkKAogICAgMjAxNiwgIlJlZ3VsYXRpbmcgc3VzdGFpbmFibGUgZGV2ZWxvcG1lbnQ6IGFuIGVuYWJsaW5nIG1vZGVsIGZvciBjb25zaXN0ZW50IGNvbGxhYm9yYXRpb24gYmV0d2VlbiBwbGFubmluZyBhbmQgYnVpbGRpbmcgY29udHJvbCBzZXJ2aWNlcyBpbiBFbmdsYW5kIiwKICAgIGRpc3BsYXk9ImtleSIsCiAgICBhdXRob3JzPSJLZXksIE1BIGFuZCBvdGhlcnMiLAogICAgcGxhY2U9VGhlc2lzLAogICAgZW50cnl0eXBlPSJwaGR0aGVzaXMiLAogICAgSUQ9ImtleTIwMTZyZWd1bGF0aW5nIiwKICAgIGxvY2FsPSJVbml2ZXJzaXR5IG9mIFNhbGZvcmQiLAogICAgcGxhY2V4PSIiLAopKQoKREIoQ2l0YXRpb24oCiAgICBrZXkyMDE2YSwga2F1dHoyMDAwYSwgcmVmPSIiLAogICAgY29udGV4dHM9WwoKICAgIF0sCikpCgonJycsIGNpdGF0aW9ucz0na2F1dHoyMDAwYScpOw==\"));\n",
       "    "
      ],
      "text/plain": [
       "<IPython.core.display.Javascript object>"
      ]
     },
     "metadata": {},
     "output_type": "display_data"
    },
    {
     "data": {
      "application/javascript": [
       "$('span:contains(\"# Temp\")').closest('.cell').remove();"
      ],
      "text/plain": [
       "<IPython.core.display.Javascript object>"
      ]
     },
     "metadata": {},
     "output_type": "display_data"
    },
    {
     "data": {
      "application/javascript": [
       "\n",
       "        $('span:contains(\"# Temp\")').closest('.cell').remove();\n",
       "        var code = IPython.notebook.insert_cell_below('code');\n",
       "        code.set_text(atob(\"IyBUZW1wCmluc2VydCgnJycKa2V5MjAxNmEgPSBEQihXb3JrVW5yZWxhdGVkKAogICAgMjAxNiwgIlJlZ3VsYXRpbmcgc3VzdGFpbmFibGUgZGV2ZWxvcG1lbnQ6IGFuIGVuYWJsaW5nIG1vZGVsIGZvciBjb25zaXN0ZW50IGNvbGxhYm9yYXRpb24gYmV0d2VlbiBwbGFubmluZyBhbmQgYnVpbGRpbmcgY29udHJvbCBzZXJ2aWNlcyBpbiBFbmdsYW5kIiwKICAgIGRpc3BsYXk9ImtleSIsCiAgICBhdXRob3JzPSJLZXksIE1BIGFuZCBvdGhlcnMiLAogICAgcGxhY2U9VGhlc2lzLAogICAgZW50cnl0eXBlPSJwaGR0aGVzaXMiLAogICAgSUQ9ImtleTIwMTZyZWd1bGF0aW5nIiwKICAgIGxvY2FsPSJVbml2ZXJzaXR5IG9mIFNhbGZvcmQiLAogICAgcGxhY2V4PSIiLAopKQoKREIoQ2l0YXRpb24oCiAgICBrZXkyMDE2YSwga2F1dHoyMDAwYSwgcmVmPSIiLAogICAgY29udGV4dHM9WwoKICAgIF0sCikpCgonJycsIGNpdGF0aW9ucz0na2F1dHoyMDAwYScpOw==\"));\n",
       "    "
      ],
      "text/plain": [
       "<IPython.core.display.Javascript object>"
      ]
     },
     "metadata": {},
     "output_type": "display_data"
    },
    {
     "data": {
      "application/javascript": [
       "$('span:contains(\"# Temp\")').closest('.cell').remove();"
      ],
      "text/plain": [
       "<IPython.core.display.Javascript object>"
      ]
     },
     "metadata": {},
     "output_type": "display_data"
    },
    {
     "data": {
      "application/javascript": [
       "\n",
       "        $('span:contains(\"# Temp\")').closest('.cell').remove();\n",
       "        var code = IPython.notebook.insert_cell_below('code');\n",
       "        code.set_text(atob(\"IyBUZW1wCmluc2VydCgnJycKc2Fpa2tvbmVuMGEgPSBEQihXb3JrVW5yZWxhdGVkKAogICAgMCwgIkFwcGxpY2F0aW9uIGZvciBwb3N0ZG9jdG9yYWwgcG9zaXRpb24gaW4gU29mdHdhcmUgRW5naW5lZXJpbmciLAogICAgZGlzcGxheT0ic2Fpa2tvbmVuIiwKICAgIGF1dGhvcnM9IlNhaWtrb25lbiwgSGVpa2tpIiwKICAgIHBsYWNlPUZBS0UsCiAgICBlbnRyeXR5cGU9ImFydGljbGUiLAogICAgSUQ9InNhaWtrb25lbmFwcGxpY2F0aW9uIiwKICAgIHBsYWNleD0iIiwKKSkKCkRCKENpdGF0aW9uKAogICAgc2Fpa2tvbmVuMGEsIGthdXR6MjAwMGEsIHJlZj0iIiwKICAgIGNvbnRleHRzPVsKCiAgICBdLAopKQoKJycnLCBjaXRhdGlvbnM9J2thdXR6MjAwMGEnKTs=\"));\n",
       "    "
      ],
      "text/plain": [
       "<IPython.core.display.Javascript object>"
      ]
     },
     "metadata": {},
     "output_type": "display_data"
    },
    {
     "data": {
      "application/javascript": [
       "$('span:contains(\"# Temp\")').closest('.cell').remove();"
      ],
      "text/plain": [
       "<IPython.core.display.Javascript object>"
      ]
     },
     "metadata": {},
     "output_type": "display_data"
    },
    {
     "data": {
      "application/javascript": [
       "\n",
       "        $('span:contains(\"# Temp\")').closest('.cell').remove();\n",
       "        var code = IPython.notebook.insert_cell_below('code');\n",
       "        code.set_text(atob(\"IyBUZW1wCmluc2VydCgnJycKc2Fpa2tvbmVuMGEgPSBEQihXb3JrVW5yZWxhdGVkKAogICAgMCwgIkFwcGxpY2F0aW9uIGZvciBwb3N0ZG9jdG9yYWwgcG9zaXRpb24gaW4gU29mdHdhcmUgRW5naW5lZXJpbmciLAogICAgZGlzcGxheT0ic2Fpa2tvbmVuIiwKICAgIGF1dGhvcnM9IlNhaWtrb25lbiwgSGVpa2tpIiwKICAgIHBsYWNlPUZBS0UsCiAgICBlbnRyeXR5cGU9ImFydGljbGUiLAogICAgSUQ9InNhaWtrb25lbmFwcGxpY2F0aW9uIiwKICAgIHBsYWNleD0iIiwKKSkKCkRCKENpdGF0aW9uKAogICAgc2Fpa2tvbmVuMGEsIGthdXR6MjAwMGEsIHJlZj0iIiwKICAgIGNvbnRleHRzPVsKCiAgICBdLAopKQoKJycnLCBjaXRhdGlvbnM9J2thdXR6MjAwMGEnKTs=\"));\n",
       "    "
      ],
      "text/plain": [
       "<IPython.core.display.Javascript object>"
      ]
     },
     "metadata": {},
     "output_type": "display_data"
    },
    {
     "data": {
      "application/javascript": [
       "$('span:contains(\"# Temp\")').closest('.cell').remove();"
      ],
      "text/plain": [
       "<IPython.core.display.Javascript object>"
      ]
     },
     "metadata": {},
     "output_type": "display_data"
    },
    {
     "data": {
      "application/javascript": [
       "\n",
       "        $('span:contains(\"# Temp\")').closest('.cell').remove();\n",
       "        var code = IPython.notebook.insert_cell_below('code');\n",
       "        code.set_text(atob(\"IyBUZW1wCmluc2VydCgnJycKa2F1dHowYSA9IERCKFdvcmtVbnJlbGF0ZWQoCiAgICAwLCAiRXVyb1NQSSAyMDAwIiwKICAgIGRpc3BsYXk9ImthdXR6IiwKICAgIGF1dGhvcnM9IkthdXR6LCBLYXJsaGVpbnogYW5kIFJhbXphbiwgRmFpc2FsIiwKICAgIHBsYWNlPUZBS0UsCiAgICBlbnRyeXR5cGU9ImFydGljbGUiLAogICAgSUQ9ImthdXR6ZXVyb3NwaSIsCiAgICBwbGFjZXg9IiIsCikpCgpEQihDaXRhdGlvbigKICAgIGthdXR6MGEsIGthdXR6MjAwMGEsIHJlZj0iIiwKICAgIGNvbnRleHRzPVsKCiAgICBdLAopKQoKJycnLCBjaXRhdGlvbnM9J2thdXR6MjAwMGEnKTs=\"));\n",
       "    "
      ],
      "text/plain": [
       "<IPython.core.display.Javascript object>"
      ]
     },
     "metadata": {},
     "output_type": "display_data"
    },
    {
     "data": {
      "application/javascript": [
       "$('span:contains(\"# Temp\")').closest('.cell').remove();"
      ],
      "text/plain": [
       "<IPython.core.display.Javascript object>"
      ]
     },
     "metadata": {},
     "output_type": "display_data"
    },
    {
     "data": {
      "application/javascript": [
       "\n",
       "        $('span:contains(\"# Temp\")').closest('.cell').remove();\n",
       "        var code = IPython.notebook.insert_cell_below('code');\n",
       "        code.set_text(atob(\"IyBUZW1wCmluc2VydCgnJycKa2F1dHowYSA9IERCKFdvcmtVbnJlbGF0ZWQoCiAgICAwLCAiRXVyb1NQSSAyMDAwIiwKICAgIGRpc3BsYXk9ImthdXR6IiwKICAgIGF1dGhvcnM9IkthdXR6LCBLYXJsaGVpbnogYW5kIFJhbXphbiwgRmFpc2FsIiwKICAgIHBsYWNlPUZBS0UsCiAgICBlbnRyeXR5cGU9ImFydGljbGUiLAogICAgSUQ9ImthdXR6ZXVyb3NwaSIsCiAgICBwbGFjZXg9IiIsCikpCgpEQihDaXRhdGlvbigKICAgIGthdXR6MGEsIGthdXR6MjAwMGEsIHJlZj0iIiwKICAgIGNvbnRleHRzPVsKCiAgICBdLAopKQoKJycnLCBjaXRhdGlvbnM9J2thdXR6MjAwMGEnKTs=\"));\n",
       "    "
      ],
      "text/plain": [
       "<IPython.core.display.Javascript object>"
      ]
     },
     "metadata": {},
     "output_type": "display_data"
    },
    {
     "data": {
      "application/javascript": [
       "$('span:contains(\"# Temp\")').closest('.cell').remove();"
      ],
      "text/plain": [
       "<IPython.core.display.Javascript object>"
      ]
     },
     "metadata": {},
     "output_type": "display_data"
    },
    {
     "data": {
      "application/javascript": [
       "\n",
       "        $('span:contains(\"# Temp\")').closest('.cell').remove();\n",
       "        var code = IPython.notebook.insert_cell_below('code');\n",
       "        code.set_text(atob(\"IyBUZW1wCmluc2VydCgnJycKa2F1dHoyMDAwYyA9IERCKFdvcmtVbnJlbGF0ZWQoCiAgICAyMDAwLCAiRXVyb1NQSSAyMDAwIiwKICAgIGRpc3BsYXk9ImthdXR6IiwKICAgIGF1dGhvcnM9IkthdXR6LCBLYXJsaGVpbnogYW5kIFJhbXphbiwgRmFpc2FsIiwKICAgIHBsYWNlPUZBS0UsCiAgICBlbnRyeXR5cGU9ImFydGljbGUiLAogICAgSUQ9ImthdXR6ZXVyb3NwaSIsCiAgICBwbGFjZXg9IiIsCikpCgpEQihDaXRhdGlvbigKICAgIGthdXR6MjAwMGMsIGthdXR6MjAwMGEsIHJlZj0iIiwKICAgIGNvbnRleHRzPVsKCiAgICBdLAopKQoKJycnLCBjaXRhdGlvbnM9J2thdXR6MjAwMGEnKTs=\"));\n",
       "    "
      ],
      "text/plain": [
       "<IPython.core.display.Javascript object>"
      ]
     },
     "metadata": {},
     "output_type": "display_data"
    },
    {
     "data": {
      "application/javascript": [
       "$('span:contains(\"# Temp\")').closest('.cell').remove();"
      ],
      "text/plain": [
       "<IPython.core.display.Javascript object>"
      ]
     },
     "metadata": {},
     "output_type": "display_data"
    },
    {
     "data": {
      "application/javascript": [
       "\n",
       "        $('span:contains(\"# Temp\")').closest('.cell').remove();\n",
       "        var code = IPython.notebook.insert_cell_below('code');\n",
       "        code.set_text(atob(\"IyBUZW1wCmluc2VydCgnJycKa2FzdXJpbmVuMjAwMGEgPSBEQihXb3JrVW5yZWxhdGVkKAogICAgMjAwMCwgIkRlZmluaW5nIGFuIEl0ZXJhdGl2ZSBJU08vSUVDIDI5MTEwIERlcGxveW1lbnQgUGFja2FnZSBmb3IgR2FtZSBEZXZlbG9wZXJzIiwKICAgIGRpc3BsYXk9Imthc3VyaW5lbiIsCiAgICBhdXRob3JzPSJLYXN1cmluZW4sIEp1c3NpIGFuZCBTbW9sYW5kZXIsIEthcmkiLAogICAgcGxhY2U9RkFLRSwKICAgIHBwPSIxMDctLTEyNSIsCiAgICBlbnRyeXR5cGU9ImFydGljbGUiLAogICAgdm9sdW1lPSIxMCIsCiAgICBudW1iZXI9IjEiLAogICAgcHVibGlzaGVyPSJJR0kgR2xvYmFsIiwKICAgIElEPSJrYXN1cmluZW4yMDE3ZGVmaW5pbmciLAogICAgcGxhY2V4PSJJbnRlcm5hdGlvbmFsIEpvdXJuYWwgb2YgSW5mb3JtYXRpb24gVGVjaG5vbG9naWVzIGFuZCBTeXN0ZW1zIEFwcHJvYWNoIChJSklUU0EpIiwKKSkKCkRCKENpdGF0aW9uKAogICAga2FzdXJpbmVuMjAwMGEsIGthdXR6MjAwMGEsIHJlZj0iIiwKICAgIGNvbnRleHRzPVsKCiAgICBdLAopKQoKJycnLCBjaXRhdGlvbnM9J2thdXR6MjAwMGEnKTs=\"));\n",
       "    "
      ],
      "text/plain": [
       "<IPython.core.display.Javascript object>"
      ]
     },
     "metadata": {},
     "output_type": "display_data"
    },
    {
     "data": {
      "application/javascript": [
       "$('span:contains(\"# Temp\")').closest('.cell').remove();"
      ],
      "text/plain": [
       "<IPython.core.display.Javascript object>"
      ]
     },
     "metadata": {},
     "output_type": "display_data"
    },
    {
     "data": {
      "application/javascript": [
       "\n",
       "        $('span:contains(\"# Temp\")').closest('.cell').remove();\n",
       "        var code = IPython.notebook.insert_cell_below('code');\n",
       "        code.set_text(atob(\"IyBUZW1wCmluc2VydCgnJycKa2FzdXJpbmVuMjAxN2EgPSBEQihXb3JrVW5yZWxhdGVkKAogICAgMjAxNywgIkRlZmluaW5nIGFuIEl0ZXJhdGl2ZSBJU08vSUVDIDI5MTEwIERlcGxveW1lbnQgUGFja2FnZSBmb3IgR2FtZSBEZXZlbG9wZXJzIiwKICAgIGRpc3BsYXk9Imthc3VyaW5lbiIsCiAgICBhdXRob3JzPSJLYXN1cmluZW4sIEp1c3NpIGFuZCBTbW9sYW5kZXIsIEthcmkiLAogICAgcGxhY2U9RkFLRSwKICAgIHBwPSIxMDctLTEyNSIsCiAgICBlbnRyeXR5cGU9ImFydGljbGUiLAogICAgdm9sdW1lPSIxMCIsCiAgICBudW1iZXI9IjEiLAogICAgcHVibGlzaGVyPSJJR0kgR2xvYmFsIiwKICAgIElEPSJrYXN1cmluZW4yMDE3ZGVmaW5pbmciLAogICAgcGxhY2V4PSJJbnRlcm5hdGlvbmFsIEpvdXJuYWwgb2YgSW5mb3JtYXRpb24gVGVjaG5vbG9naWVzIGFuZCBTeXN0ZW1zIEFwcHJvYWNoIChJSklUU0EpIiwKKSkKCkRCKENpdGF0aW9uKAogICAga2FzdXJpbmVuMjAxN2EsIGthdXR6MjAwMGEsIHJlZj0iIiwKICAgIGNvbnRleHRzPVsKCiAgICBdLAopKQoKJycnLCBjaXRhdGlvbnM9J2thdXR6MjAwMGEnKTs=\"));\n",
       "    "
      ],
      "text/plain": [
       "<IPython.core.display.Javascript object>"
      ]
     },
     "metadata": {},
     "output_type": "display_data"
    },
    {
     "data": {
      "application/javascript": [
       "$('span:contains(\"# Temp\")').closest('.cell').remove();"
      ],
      "text/plain": [
       "<IPython.core.display.Javascript object>"
      ]
     },
     "metadata": {},
     "output_type": "display_data"
    },
    {
     "data": {
      "application/javascript": [
       "\n",
       "        $('span:contains(\"# Temp\")').closest('.cell').remove();\n",
       "        var code = IPython.notebook.insert_cell_below('code');\n",
       "        code.set_text(atob(\"IyBUZW1wCmluc2VydCgnJycKZ29uZzIwMDVhID0gREIoV29ya1VucmVsYXRlZCgKICAgIDIwMDUsICJBIHByb2Nlc3MgaW1wcm92ZW1lbnQgZnJhbWV3b3JrIGFuZCBhIHN1cHBvcnRpbmcgc29mdHdhcmUgb3JpZW50ZWQgdG8gY2hpbmVzZSBzbWFsbCBvcmdhbml6YXRpb25zIiwKICAgIGRpc3BsYXk9ImdvbmciLAogICAgYXV0aG9ycz0iR29uZywgQm8gYW5kIEhlLCBYaW5ndWkgYW5kIExpdSwgV2VpaG9uZyIsCiAgICBwbGFjZT1GQUtFLAogICAgcHA9IjI3Ny0tMjg2IiwKICAgIGVudHJ5dHlwZT0iaW5wcm9jZWVkaW5ncyIsCiAgICBvcmdhbml6YXRpb249IlNwcmluZ2VyIiwKICAgIElEPSJnb25nMjAwNXByb2Nlc3MiLAogICAgcGxhY2V4PSJTb2Z0d2FyZSBQcm9jZXNzIFdvcmtzaG9wIiwKKSkKCkRCKENpdGF0aW9uKAogICAgZ29uZzIwMDVhLCBrYXV0ejIwMDBhLCByZWY9IiIsCiAgICBjb250ZXh0cz1bCgogICAgXSwKKSkKCicnJywgY2l0YXRpb25zPSdrYXV0ejIwMDBhJyk7\"));\n",
       "    "
      ],
      "text/plain": [
       "<IPython.core.display.Javascript object>"
      ]
     },
     "metadata": {},
     "output_type": "display_data"
    },
    {
     "data": {
      "application/javascript": [
       "$('span:contains(\"# Temp\")').closest('.cell').remove();"
      ],
      "text/plain": [
       "<IPython.core.display.Javascript object>"
      ]
     },
     "metadata": {},
     "output_type": "display_data"
    },
    {
     "data": {
      "application/javascript": [
       "\n",
       "        $('span:contains(\"# Temp\")').closest('.cell').remove();\n",
       "        var code = IPython.notebook.insert_cell_below('code');\n",
       "        code.set_text(atob(\"IyBUZW1wCmluc2VydCgnJycKZ29uZzIwMDVhID0gREIoV29ya1VucmVsYXRlZCgKICAgIDIwMDUsICJBIHByb2Nlc3MgaW1wcm92ZW1lbnQgZnJhbWV3b3JrIGFuZCBhIHN1cHBvcnRpbmcgc29mdHdhcmUgb3JpZW50ZWQgdG8gY2hpbmVzZSBzbWFsbCBvcmdhbml6YXRpb25zIiwKICAgIGRpc3BsYXk9ImdvbmciLAogICAgYXV0aG9ycz0iR29uZywgQm8gYW5kIEhlLCBYaW5ndWkgYW5kIExpdSwgV2VpaG9uZyIsCiAgICBwbGFjZT1GQUtFLAogICAgcHA9IjI3Ny0tMjg2IiwKICAgIGVudHJ5dHlwZT0iaW5wcm9jZWVkaW5ncyIsCiAgICBvcmdhbml6YXRpb249IlNwcmluZ2VyIiwKICAgIElEPSJnb25nMjAwNXByb2Nlc3MiLAogICAgcGxhY2V4PSJTb2Z0d2FyZSBQcm9jZXNzIFdvcmtzaG9wIiwKKSkKCkRCKENpdGF0aW9uKAogICAgZ29uZzIwMDVhLCBrYXV0ejIwMDBhLCByZWY9IiIsCiAgICBjb250ZXh0cz1bCgogICAgXSwKKSkKCicnJywgY2l0YXRpb25zPSdrYXV0ejIwMDBhJyk7\"));\n",
       "    "
      ],
      "text/plain": [
       "<IPython.core.display.Javascript object>"
      ]
     },
     "metadata": {},
     "output_type": "display_data"
    },
    {
     "data": {
      "application/javascript": [
       "$('span:contains(\"# Temp\")').closest('.cell').remove();"
      ],
      "text/plain": [
       "<IPython.core.display.Javascript object>"
      ]
     },
     "metadata": {},
     "output_type": "display_data"
    },
    {
     "data": {
      "application/javascript": [
       "\n",
       "        $('span:contains(\"# Temp\")').closest('.cell').remove();\n",
       "        var code = IPython.notebook.insert_cell_below('code');\n",
       "        code.set_text(atob(\"IyBUZW1wCmluc2VydCgnJycKcm9kcu1ndWV6MjAxMGEgPSBEQihXb3JrVW5yZWxhdGVkKAogICAgMjAxMCwgIlNvZnR3YXJlIFByb2Nlc3MgSW1wcm92ZW1lbnQgZm9yIFNNRXMgdXNpbmcgT01NIiwKICAgIGRpc3BsYXk9InJvZHLtZ3VleiIsCiAgICBhdXRob3JzPSJSb2Ry7Wd1ZXosIEplc3NpY2EiLAogICAgcGxhY2U9RkFLRSwKICAgIGVudHJ5dHlwZT0ibWlzYyIsCiAgICBJRD0icm9kcmlndWV6MjAxMHNvZnR3YXJlIiwKICAgIHBsYWNleD0iIiwKKSkKCkRCKENpdGF0aW9uKAogICAgcm9kcu1ndWV6MjAxMGEsIGthdXR6MjAwMGEsIHJlZj0iIiwKICAgIGNvbnRleHRzPVsKCiAgICBdLAopKQoKJycnLCBjaXRhdGlvbnM9J2thdXR6MjAwMGEnKTs=\"));\n",
       "    "
      ],
      "text/plain": [
       "<IPython.core.display.Javascript object>"
      ]
     },
     "metadata": {},
     "output_type": "display_data"
    },
    {
     "data": {
      "application/javascript": [
       "$('span:contains(\"# Temp\")').closest('.cell').remove();"
      ],
      "text/plain": [
       "<IPython.core.display.Javascript object>"
      ]
     },
     "metadata": {},
     "output_type": "display_data"
    },
    {
     "data": {
      "application/javascript": [
       "\n",
       "        $('span:contains(\"# Temp\")').closest('.cell').remove();\n",
       "        var code = IPython.notebook.insert_cell_below('code');\n",
       "        code.set_text(atob(\"IyBUZW1wCmluc2VydCgnJycKcm9kcu1ndWV6MjAxMGEgPSBEQihXb3JrVW5yZWxhdGVkKAogICAgMjAxMCwgIlNvZnR3YXJlIFByb2Nlc3MgSW1wcm92ZW1lbnQgZm9yIFNNRXMgdXNpbmcgT01NIiwKICAgIGRpc3BsYXk9InJvZHLtZ3VleiIsCiAgICBhdXRob3JzPSJSb2Ry7Wd1ZXosIEplc3NpY2EiLAogICAgcGxhY2U9RkFLRSwKICAgIGVudHJ5dHlwZT0ibWlzYyIsCiAgICBJRD0icm9kcmlndWV6MjAxMHNvZnR3YXJlIiwKICAgIHBsYWNleD0iIiwKKSkKCkRCKENpdGF0aW9uKAogICAgcm9kcu1ndWV6MjAxMGEsIGthdXR6MjAwMGEsIHJlZj0iIiwKICAgIGNvbnRleHRzPVsKCiAgICBdLAopKQoKJycnLCBjaXRhdGlvbnM9J2thdXR6MjAwMGEnKTs=\"));\n",
       "    "
      ],
      "text/plain": [
       "<IPython.core.display.Javascript object>"
      ]
     },
     "metadata": {},
     "output_type": "display_data"
    },
    {
     "data": {
      "application/javascript": [
       "$('span:contains(\"# Temp\")').closest('.cell').remove();"
      ],
      "text/plain": [
       "<IPython.core.display.Javascript object>"
      ]
     },
     "metadata": {},
     "output_type": "display_data"
    },
    {
     "data": {
      "application/javascript": [
       "\n",
       "        $('span:contains(\"# Temp\")').closest('.cell').remove();\n",
       "        var code = IPython.notebook.insert_cell_below('code');\n",
       "        code.set_text(atob(\"IyBUZW1wCmluc2VydCgnJycKduRo5G5paXR0eTIwMDNiID0gREIoV29ya1VucmVsYXRlZCgKICAgIDIwMDMsICJvZiB0aGUgdGhlc2lzOiBQcm9kdWN0IFN0cmF0ZWd5IERlY2lzaW9ucyBpbiBTbWFsbCBTb2Z0d2FyZSBQcm9kdWN0IEJ1c2luZXNzZXMtLUEiLAogICAgZGlzcGxheT0iduRo5G5paXR0eSBiIiwKICAgIGF1dGhvcnM9IlbkaORuaWl0dHksIEphcm5vIiwKICAgIHBsYWNlPUZBS0UsCiAgICBlbnRyeXR5cGU9ImFydGljbGUiLAogICAgSUQ9InZhaGFuaWl0dHkyMDAzdGhlc2lzIiwKICAgIHBsYWNleD0iIiwKKSkKCkRCKENpdGF0aW9uKAogICAgduRo5G5paXR0eTIwMDNiLCBrYXV0ejIwMDBhLCByZWY9IiIsCiAgICBjb250ZXh0cz1bCgogICAgXSwKKSkKCicnJywgY2l0YXRpb25zPSdrYXV0ejIwMDBhJyk7\"));\n",
       "    "
      ],
      "text/plain": [
       "<IPython.core.display.Javascript object>"
      ]
     },
     "metadata": {},
     "output_type": "display_data"
    },
    {
     "data": {
      "application/javascript": [
       "$('span:contains(\"# Temp\")').closest('.cell').remove();"
      ],
      "text/plain": [
       "<IPython.core.display.Javascript object>"
      ]
     },
     "metadata": {},
     "output_type": "display_data"
    },
    {
     "data": {
      "application/javascript": [
       "\n",
       "        $('span:contains(\"# Temp\")').closest('.cell').remove();\n",
       "        var code = IPython.notebook.insert_cell_below('code');\n",
       "        code.set_text(atob(\"IyBUZW1wCmluc2VydCgnJycKduRo5G5paXR0eTIwMDNiID0gREIoV29ya1VucmVsYXRlZCgKICAgIDIwMDMsICJvZiB0aGUgdGhlc2lzOiBQcm9kdWN0IFN0cmF0ZWd5IERlY2lzaW9ucyBpbiBTbWFsbCBTb2Z0d2FyZSBQcm9kdWN0IEJ1c2luZXNzZXMtLUEiLAogICAgZGlzcGxheT0iduRo5G5paXR0eSBiIiwKICAgIGF1dGhvcnM9IlbkaORuaWl0dHksIEphcm5vIiwKICAgIHBsYWNlPUZBS0UsCiAgICBlbnRyeXR5cGU9ImFydGljbGUiLAogICAgSUQ9InZhaGFuaWl0dHkyMDAzdGhlc2lzIiwKICAgIHBsYWNleD0iIiwKKSkKCkRCKENpdGF0aW9uKAogICAgduRo5G5paXR0eTIwMDNiLCBrYXV0ejIwMDBhLCByZWY9IiIsCiAgICBjb250ZXh0cz1bCgogICAgXSwKKSkKCicnJywgY2l0YXRpb25zPSdrYXV0ejIwMDBhJyk7\"));\n",
       "    "
      ],
      "text/plain": [
       "<IPython.core.display.Javascript object>"
      ]
     },
     "metadata": {},
     "output_type": "display_data"
    },
    {
     "data": {
      "application/javascript": [
       "$('span:contains(\"# Temp\")').closest('.cell').remove();"
      ],
      "text/plain": [
       "<IPython.core.display.Javascript object>"
      ]
     },
     "metadata": {},
     "output_type": "display_data"
    },
    {
     "data": {
      "application/javascript": [
       "\n",
       "        $('span:contains(\"# Temp\")').closest('.cell').remove();\n",
       "        var code = IPython.notebook.insert_cell_below('code');\n",
       "        code.set_text(atob(\"IyBUZW1wCmluc2VydCgnJycKYXlhejBhID0gREIoV29ya1VucmVsYXRlZCgKICAgIDAsICJBIE5vdmVsIE1vZGVsIG9mIFNvZnR3YXJlIFByb2Nlc3MgSW1wcm92ZW1lbnRzIGZvciBTbWFsbCBhbmQgTWVkaXVtIFNjYWxlIEVudGVycHJpc2VzIGJ5IHVzaW5nIHRoZSBCaWcgRGF0YSBBbmFseXRpY3MgQXBwcm9hY2giLAogICAgZGlzcGxheT0iYXlheiIsCiAgICBhdXRob3JzPSJBeWF6LCBNdWhhbW1hZCIsCiAgICBwbGFjZT1GQUtFLAogICAgZW50cnl0eXBlPSJhcnRpY2xlIiwKICAgIElEPSJheWF6bm92ZWwiLAogICAgcGxhY2V4PSIiLAopKQoKREIoQ2l0YXRpb24oCiAgICBheWF6MGEsIGthdXR6MjAwMGEsIHJlZj0iIiwKICAgIGNvbnRleHRzPVsKCiAgICBdLAopKQoKJycnLCBjaXRhdGlvbnM9J2thdXR6MjAwMGEnKTs=\"));\n",
       "    "
      ],
      "text/plain": [
       "<IPython.core.display.Javascript object>"
      ]
     },
     "metadata": {},
     "output_type": "display_data"
    },
    {
     "data": {
      "application/javascript": [
       "$('span:contains(\"# Temp\")').closest('.cell').remove();"
      ],
      "text/plain": [
       "<IPython.core.display.Javascript object>"
      ]
     },
     "metadata": {},
     "output_type": "display_data"
    },
    {
     "data": {
      "application/javascript": [
       "\n",
       "        $('span:contains(\"# Temp\")').closest('.cell').remove();\n",
       "        var code = IPython.notebook.insert_cell_below('code');\n",
       "        code.set_text(atob(\"IyBUZW1wCmluc2VydCgnJycKYXlhejBhID0gREIoV29ya1VucmVsYXRlZCgKICAgIDAsICJBIE5vdmVsIE1vZGVsIG9mIFNvZnR3YXJlIFByb2Nlc3MgSW1wcm92ZW1lbnRzIGZvciBTbWFsbCBhbmQgTWVkaXVtIFNjYWxlIEVudGVycHJpc2VzIGJ5IHVzaW5nIHRoZSBCaWcgRGF0YSBBbmFseXRpY3MgQXBwcm9hY2giLAogICAgZGlzcGxheT0iYXlheiIsCiAgICBhdXRob3JzPSJBeWF6LCBNdWhhbW1hZCIsCiAgICBwbGFjZT1GQUtFLAogICAgZW50cnl0eXBlPSJhcnRpY2xlIiwKICAgIElEPSJheWF6bm92ZWwiLAogICAgcGxhY2V4PSIiLAopKQoKREIoQ2l0YXRpb24oCiAgICBheWF6MGEsIGthdXR6MjAwMGEsIHJlZj0iIiwKICAgIGNvbnRleHRzPVsKCiAgICBdLAopKQoKJycnLCBjaXRhdGlvbnM9J2thdXR6MjAwMGEnKTs=\"));\n",
       "    "
      ],
      "text/plain": [
       "<IPython.core.display.Javascript object>"
      ]
     },
     "metadata": {},
     "output_type": "display_data"
    },
    {
     "data": {
      "application/javascript": [
       "$('span:contains(\"# Temp\")').closest('.cell').remove();"
      ],
      "text/plain": [
       "<IPython.core.display.Javascript object>"
      ]
     },
     "metadata": {},
     "output_type": "display_data"
    },
    {
     "data": {
      "application/javascript": [
       "\n",
       "        $('span:contains(\"# Temp\")').closest('.cell').remove();\n",
       "        var code = IPython.notebook.insert_cell_below('code');\n",
       "        code.set_text(atob(\"IyBUZW1wCmluc2VydCgnJycKYXlhejIwMTdhID0gREIoV29ya1VucmVsYXRlZCgKICAgIDIwMTcsICJBIE5vdmVsIE1vZGVsIG9mIFNvZnR3YXJlIFByb2Nlc3MgSW1wcm92ZW1lbnRzIGZvciBTbWFsbCBhbmQgTWVkaXVtIFNjYWxlIEVudGVycHJpc2VzIGJ5IHVzaW5nIHRoZSBCaWcgRGF0YSBBbmFseXRpY3MgQXBwcm9hY2giLAogICAgZGlzcGxheT0iYXlheiIsCiAgICBhdXRob3JzPSJBeWF6LCBNdWhhbW1hZCIsCiAgICBwbGFjZT1GQUtFLAogICAgZW50cnl0eXBlPSJhcnRpY2xlIiwKICAgIElEPSJheWF6bm92ZWwiLAogICAgcGxhY2V4PSIiLAopKQoKREIoQ2l0YXRpb24oCiAgICBheWF6MjAxN2EsIGthdXR6MjAwMGEsIHJlZj0iIiwKICAgIGNvbnRleHRzPVsKCiAgICBdLAopKQoKJycnLCBjaXRhdGlvbnM9J2thdXR6MjAwMGEnKTs=\"));\n",
       "    "
      ],
      "text/plain": [
       "<IPython.core.display.Javascript object>"
      ]
     },
     "metadata": {},
     "output_type": "display_data"
    },
    {
     "data": {
      "application/javascript": [
       "$('span:contains(\"# Temp\")').closest('.cell').remove();"
      ],
      "text/plain": [
       "<IPython.core.display.Javascript object>"
      ]
     },
     "metadata": {},
     "output_type": "display_data"
    },
    {
     "data": {
      "application/javascript": [
       "\n",
       "        $('span:contains(\"# Temp\")').closest('.cell').remove();\n",
       "        var code = IPython.notebook.insert_cell_below('code');\n",
       "        code.set_text(atob(\"IyBUZW1wCmluc2VydCgnJycKcnVkemtpMjAxN2EgPSBEQihXb3JrVW5yZWxhdGVkKAogICAgMjAxNywgIlNvZnR3YXJlIFF1YWxpdHkgQ29uY2VybnMgaW4gYSBDb21tZXJjaWFsIFNldHRpbmciLAogICAgZGlzcGxheT0icnVkemtpIiwKICAgIGF1dGhvcnM9IlJ1ZHpraSwgSmFrdWIiLAogICAgcGxhY2U9RkFLRSwKICAgIGVudHJ5dHlwZT0iYXJ0aWNsZSIsCiAgICBJRD0icnVkemtpMjAxMXNvZnR3YXJlIiwKICAgIHBsYWNleD0iVGFtcGVyZWVuIHRla25pbGxpbmVuIHlsaW9waXN0by4gSnVsa2Fpc3UtVGFtcGVyZSBVbml2ZXJzaXR5IG9mIFRlY2hub2xvZ3kuIFB1YmxpY2F0aW9uOyA5NTQiLAopKQoKREIoQ2l0YXRpb24oCiAgICBydWR6a2kyMDE3YSwga2F1dHoyMDAwYSwgcmVmPSIiLAogICAgY29udGV4dHM9WwoKICAgIF0sCikpCgonJycsIGNpdGF0aW9ucz0na2F1dHoyMDAwYScpOw==\"));\n",
       "    "
      ],
      "text/plain": [
       "<IPython.core.display.Javascript object>"
      ]
     },
     "metadata": {},
     "output_type": "display_data"
    },
    {
     "data": {
      "application/javascript": [
       "$('span:contains(\"# Temp\")').closest('.cell').remove();"
      ],
      "text/plain": [
       "<IPython.core.display.Javascript object>"
      ]
     },
     "metadata": {},
     "output_type": "display_data"
    },
    {
     "data": {
      "application/javascript": [
       "\n",
       "        $('span:contains(\"# Temp\")').closest('.cell').remove();\n",
       "        var code = IPython.notebook.insert_cell_below('code');\n",
       "        code.set_text(atob(\"IyBUZW1wCmluc2VydCgnJycKcnVkemtpMjAxMWEgPSBEQihXb3JrVW5yZWxhdGVkKAogICAgMjAxMSwgIlNvZnR3YXJlIFF1YWxpdHkgQ29uY2VybnMgaW4gYSBDb21tZXJjaWFsIFNldHRpbmciLAogICAgZGlzcGxheT0icnVkemtpIiwKICAgIGF1dGhvcnM9IlJ1ZHpraSwgSmFrdWIiLAogICAgcGxhY2U9RkFLRSwKICAgIGVudHJ5dHlwZT0iYXJ0aWNsZSIsCiAgICBJRD0icnVkemtpMjAxMXNvZnR3YXJlIiwKICAgIHBsYWNleD0iVGFtcGVyZWVuIHRla25pbGxpbmVuIHlsaW9waXN0by4gSnVsa2Fpc3UtVGFtcGVyZSBVbml2ZXJzaXR5IG9mIFRlY2hub2xvZ3kuIFB1YmxpY2F0aW9uOyA5NTQiLAopKQoKREIoQ2l0YXRpb24oCiAgICBydWR6a2kyMDExYSwga2F1dHoyMDAwYSwgcmVmPSIiLAogICAgY29udGV4dHM9WwoKICAgIF0sCikpCgonJycsIGNpdGF0aW9ucz0na2F1dHoyMDAwYScpOw==\"));\n",
       "    "
      ],
      "text/plain": [
       "<IPython.core.display.Javascript object>"
      ]
     },
     "metadata": {},
     "output_type": "display_data"
    },
    {
     "data": {
      "application/javascript": [
       "$('span:contains(\"# Temp\")').closest('.cell').remove();"
      ],
      "text/plain": [
       "<IPython.core.display.Javascript object>"
      ]
     },
     "metadata": {},
     "output_type": "display_data"
    },
    {
     "data": {
      "application/javascript": [
       "\n",
       "        $('span:contains(\"# Temp\")').closest('.cell').remove();\n",
       "        var code = IPython.notebook.insert_cell_below('code');\n",
       "        code.set_text(atob(\"IyBUZW1wCmluc2VydCgnJycKZGVtaW5nMjAwNGEgPSBEQihXb3JrVW5yZWxhdGVkKAogICAgMjAwNCwgIkNoYXB0ZXIgT25lIF8iLAogICAgZGlzcGxheT0iZGVtaW5nIiwKICAgIGF1dGhvcnM9IkRlbWluZywgVyBFZHdhcmRzIiwKICAgIHBsYWNlPUZBS0UsCiAgICBlbnRyeXR5cGU9ImFydGljbGUiLAogICAgSUQ9ImRlbWluZzIwMDRjaGFwdGVyIiwKICAgIHBsYWNleD0iIiwKKSkKCkRCKENpdGF0aW9uKAogICAgZGVtaW5nMjAwNGEsIGthdXR6MjAwMGEsIHJlZj0iIiwKICAgIGNvbnRleHRzPVsKCiAgICBdLAopKQoKJycnLCBjaXRhdGlvbnM9J2thdXR6MjAwMGEnKTs=\"));\n",
       "    "
      ],
      "text/plain": [
       "<IPython.core.display.Javascript object>"
      ]
     },
     "metadata": {},
     "output_type": "display_data"
    },
    {
     "data": {
      "application/javascript": [
       "$('span:contains(\"# Temp\")').closest('.cell').remove();"
      ],
      "text/plain": [
       "<IPython.core.display.Javascript object>"
      ]
     },
     "metadata": {},
     "output_type": "display_data"
    },
    {
     "data": {
      "application/javascript": [
       "\n",
       "        $('span:contains(\"# Temp\")').closest('.cell').remove();\n",
       "        var code = IPython.notebook.insert_cell_below('code');\n",
       "        code.set_text(atob(\"IyBUZW1wCmluc2VydCgnJycKZGVtaW5nMjAwNGEgPSBEQihXb3JrVW5yZWxhdGVkKAogICAgMjAwNCwgIkNoYXB0ZXIgT25lIF8iLAogICAgZGlzcGxheT0iZGVtaW5nIiwKICAgIGF1dGhvcnM9IkRlbWluZywgVyBFZHdhcmRzIiwKICAgIHBsYWNlPUZBS0UsCiAgICBlbnRyeXR5cGU9ImFydGljbGUiLAogICAgSUQ9ImRlbWluZzIwMDRjaGFwdGVyIiwKICAgIHBsYWNleD0iIiwKKSkKCkRCKENpdGF0aW9uKAogICAgZGVtaW5nMjAwNGEsIGthdXR6MjAwMGEsIHJlZj0iIiwKICAgIGNvbnRleHRzPVsKCiAgICBdLAopKQoKJycnLCBjaXRhdGlvbnM9J2thdXR6MjAwMGEnKTs=\"));\n",
       "    "
      ],
      "text/plain": [
       "<IPython.core.display.Javascript object>"
      ]
     },
     "metadata": {},
     "output_type": "display_data"
    },
    {
     "data": {
      "application/javascript": [
       "$('span:contains(\"# Temp\")').closest('.cell').remove();"
      ],
      "text/plain": [
       "<IPython.core.display.Javascript object>"
      ]
     },
     "metadata": {},
     "output_type": "display_data"
    },
    {
     "data": {
      "application/javascript": [
       "\n",
       "        $('span:contains(\"# Temp\")').closest('.cell').remove();\n",
       "        var code = IPython.notebook.insert_cell_below('code');\n",
       "        code.set_text(atob(\"IyBUZW1wCmluc2VydCgnJycKbWV0b2RvbG9naWEyMDA5YSA9IERCKFdvcmtVbnJlbGF0ZWQoCiAgICAyMDA5LCAiQ09QUEUvVUZSSiIsCiAgICBkaXNwbGF5PSJtZXRvZG9sb2dpYSIsCiAgICBhdXRob3JzPSJEQSBNRVRPRE9MT0dJQSwgVU1BIEFOwUxJU0UgREEgVVRJTElaQXvHfcNPIiwKICAgIHBsYWNlPVRoZXNpcywKICAgIGVudHJ5dHlwZT0icGhkdGhlc2lzIiwKICAgIElEPSJkYTIwMDljb3BwZSIsCiAgICBsb2NhbD0iVW5pdmVyc2lkYWRlIEZlZGVyYWwgZG8gUmlvIGRlIEphbmVpcm8iLAogICAgcGxhY2V4PSIiLAopKQoKREIoQ2l0YXRpb24oCiAgICBtZXRvZG9sb2dpYTIwMDlhLCBrYXV0ejIwMDBhLCByZWY9IiIsCiAgICBjb250ZXh0cz1bCgogICAgXSwKKSkKCicnJywgY2l0YXRpb25zPSdrYXV0ejIwMDBhJyk7\"));\n",
       "    "
      ],
      "text/plain": [
       "<IPython.core.display.Javascript object>"
      ]
     },
     "metadata": {},
     "output_type": "display_data"
    },
    {
     "data": {
      "application/javascript": [
       "$('span:contains(\"# Temp\")').closest('.cell').remove();"
      ],
      "text/plain": [
       "<IPython.core.display.Javascript object>"
      ]
     },
     "metadata": {},
     "output_type": "display_data"
    },
    {
     "data": {
      "application/javascript": [
       "\n",
       "        $('span:contains(\"# Temp\")').closest('.cell').remove();\n",
       "        var code = IPython.notebook.insert_cell_below('code');\n",
       "        code.set_text(atob(\"IyBUZW1wCmluc2VydCgnJycKbWV0b2RvbG9naWEyMDA5YSA9IERCKFdvcmtVbnJlbGF0ZWQoCiAgICAyMDA5LCAiQ09QUEUvVUZSSiIsCiAgICBkaXNwbGF5PSJtZXRvZG9sb2dpYSIsCiAgICBhdXRob3JzPSJEQSBNRVRPRE9MT0dJQSwgVU1BIEFOwUxJU0UgREEgVVRJTElaQXvHfcNPIiwKICAgIHBsYWNlPVRoZXNpcywKICAgIGVudHJ5dHlwZT0icGhkdGhlc2lzIiwKICAgIElEPSJkYTIwMDljb3BwZSIsCiAgICBsb2NhbD0iVW5pdmVyc2lkYWRlIEZlZGVyYWwgZG8gUmlvIGRlIEphbmVpcm8iLAogICAgcGxhY2V4PSIiLAopKQoKREIoQ2l0YXRpb24oCiAgICBtZXRvZG9sb2dpYTIwMDlhLCBrYXV0ejIwMDBhLCByZWY9IiIsCiAgICBjb250ZXh0cz1bCgogICAgXSwKKSkKCicnJywgY2l0YXRpb25zPSdrYXV0ejIwMDBhJyk7\"));\n",
       "    "
      ],
      "text/plain": [
       "<IPython.core.display.Javascript object>"
      ]
     },
     "metadata": {},
     "output_type": "display_data"
    },
    {
     "data": {
      "application/javascript": [
       "$('span:contains(\"# Temp\")').closest('.cell').remove();"
      ],
      "text/plain": [
       "<IPython.core.display.Javascript object>"
      ]
     },
     "metadata": {},
     "output_type": "display_data"
    },
    {
     "data": {
      "application/javascript": [
       "\n",
       "        $('span:contains(\"# Temp\")').closest('.cell').remove();\n",
       "        var code = IPython.notebook.insert_cell_below('code');\n",
       "        code.set_text(atob(\"IyBUZW1wCmluc2VydCgnJycKY3VyaWVsMjAxM2EgPSBEQihXb3JrVW5yZWxhdGVkKAogICAgMjAxMywgIk1lY2FuaXNtb3MgZGUgc29wb3J0ZSBhbCBwcm9jZXNvIGRlIGFkb3BjafNuIGRlIHVuIG1vZGVsbyBkZSBtZWpvcmEgZGUgcHJvY2Vzb3MgZGUgc29mdHdhcmUgZW4gbGFzIG1pY3JvLCBwZXF1ZfFhcyB5IG1lZGlhbmFzIGVtcHJlc2FzIiwKICAgIGRpc3BsYXk9ImN1cmllbCIsCiAgICBhdXRob3JzPSJDdXJpZWwsIElzbWFlbCBFZHJlaW4gRXNwaW5vc2EiLAogICAgcGxhY2U9RkFLRSwKICAgIGVudHJ5dHlwZT0iYXJ0aWNsZSIsCiAgICBJRD0iY3VyaWVsMjAxM21lY2FuaXNtb3MiLAogICAgcGxhY2V4PSIiLAopKQoKREIoQ2l0YXRpb24oCiAgICBjdXJpZWwyMDEzYSwga2F1dHoyMDAwYSwgcmVmPSIiLAogICAgY29udGV4dHM9WwoKICAgIF0sCikpCgonJycsIGNpdGF0aW9ucz0na2F1dHoyMDAwYScpOw==\"));\n",
       "    "
      ],
      "text/plain": [
       "<IPython.core.display.Javascript object>"
      ]
     },
     "metadata": {},
     "output_type": "display_data"
    },
    {
     "data": {
      "application/javascript": [
       "$('span:contains(\"# Temp\")').closest('.cell').remove();"
      ],
      "text/plain": [
       "<IPython.core.display.Javascript object>"
      ]
     },
     "metadata": {},
     "output_type": "display_data"
    },
    {
     "data": {
      "application/javascript": [
       "\n",
       "        $('span:contains(\"# Temp\")').closest('.cell').remove();\n",
       "        var code = IPython.notebook.insert_cell_below('code');\n",
       "        code.set_text(atob(\"IyBUZW1wCmluc2VydCgnJycKY3VyaWVsMjAxM2EgPSBEQihXb3JrVW5yZWxhdGVkKAogICAgMjAxMywgIk1lY2FuaXNtb3MgZGUgc29wb3J0ZSBhbCBwcm9jZXNvIGRlIGFkb3BjafNuIGRlIHVuIG1vZGVsbyBkZSBtZWpvcmEgZGUgcHJvY2Vzb3MgZGUgc29mdHdhcmUgZW4gbGFzIG1pY3JvLCBwZXF1ZfFhcyB5IG1lZGlhbmFzIGVtcHJlc2FzIiwKICAgIGRpc3BsYXk9ImN1cmllbCIsCiAgICBhdXRob3JzPSJDdXJpZWwsIElzbWFlbCBFZHJlaW4gRXNwaW5vc2EiLAogICAgcGxhY2U9RkFLRSwKICAgIGVudHJ5dHlwZT0iYXJ0aWNsZSIsCiAgICBJRD0iY3VyaWVsMjAxM21lY2FuaXNtb3MiLAogICAgcGxhY2V4PSIiLAopKQoKREIoQ2l0YXRpb24oCiAgICBjdXJpZWwyMDEzYSwga2F1dHoyMDAwYSwgcmVmPSIiLAogICAgY29udGV4dHM9WwoKICAgIF0sCikpCgonJycsIGNpdGF0aW9ucz0na2F1dHoyMDAwYScpOw==\"));\n",
       "    "
      ],
      "text/plain": [
       "<IPython.core.display.Javascript object>"
      ]
     },
     "metadata": {},
     "output_type": "display_data"
    },
    {
     "data": {
      "application/javascript": [
       "$('span:contains(\"# Temp\")').closest('.cell').remove();"
      ],
      "text/plain": [
       "<IPython.core.display.Javascript object>"
      ]
     },
     "metadata": {},
     "output_type": "display_data"
    },
    {
     "data": {
      "application/javascript": [
       "\n",
       "        $('span:contains(\"# Temp\")').closest('.cell').remove();\n",
       "        var code = IPython.notebook.insert_cell_below('code');\n",
       "        code.set_text(atob(\"IyBUZW1wCmluc2VydCgnJycKbGVpdGUyMDEwYSA9IERCKFdvcmtVbnJlbGF0ZWQoCiAgICAyMDEwLCAiUHJvTWVQcm9TOiBVTSBQUk9DRVNTTyBERSBNRUxIT1JJQSBERSBQUk9DRVNTT1MgREUgU09GVFdBUkUiLAogICAgZGlzcGxheT0ibGVpdGUiLAogICAgYXV0aG9ycz0iTGVpdGUsIEPhc3NpYSBSb2RyaWd1ZXMgZGUgQ2FydmFsaG8gRmVycmVpcmEiLAogICAgcGxhY2U9RkFLRSwKICAgIGVudHJ5dHlwZT0iYXJ0aWNsZSIsCiAgICBJRD0ibGVpdGUyMDEwcHJvbWVwcm9zIiwKICAgIHBsYWNleD0iIiwKKSkKCkRCKENpdGF0aW9uKAogICAgbGVpdGUyMDEwYSwga2F1dHoyMDAwYSwgcmVmPSIiLAogICAgY29udGV4dHM9WwoKICAgIF0sCikpCgonJycsIGNpdGF0aW9ucz0na2F1dHoyMDAwYScpOw==\"));\n",
       "    "
      ],
      "text/plain": [
       "<IPython.core.display.Javascript object>"
      ]
     },
     "metadata": {},
     "output_type": "display_data"
    },
    {
     "data": {
      "application/javascript": [
       "$('span:contains(\"# Temp\")').closest('.cell').remove();"
      ],
      "text/plain": [
       "<IPython.core.display.Javascript object>"
      ]
     },
     "metadata": {},
     "output_type": "display_data"
    },
    {
     "data": {
      "application/javascript": [
       "\n",
       "        $('span:contains(\"# Temp\")').closest('.cell').remove();\n",
       "        var code = IPython.notebook.insert_cell_below('code');\n",
       "        code.set_text(atob(\"IyBUZW1wCmluc2VydCgnJycKbGVpdGUyMDEwYSA9IERCKFdvcmtVbnJlbGF0ZWQoCiAgICAyMDEwLCAiUHJvTWVQcm9TOiBVTSBQUk9DRVNTTyBERSBNRUxIT1JJQSBERSBQUk9DRVNTT1MgREUgU09GVFdBUkUiLAogICAgZGlzcGxheT0ibGVpdGUiLAogICAgYXV0aG9ycz0iTGVpdGUsIEPhc3NpYSBSb2RyaWd1ZXMgZGUgQ2FydmFsaG8gRmVycmVpcmEiLAogICAgcGxhY2U9RkFLRSwKICAgIGVudHJ5dHlwZT0iYXJ0aWNsZSIsCiAgICBJRD0ibGVpdGUyMDEwcHJvbWVwcm9zIiwKICAgIHBsYWNleD0iIiwKKSkKCkRCKENpdGF0aW9uKAogICAgbGVpdGUyMDEwYSwga2F1dHoyMDAwYSwgcmVmPSIiLAogICAgY29udGV4dHM9WwoKICAgIF0sCikpCgonJycsIGNpdGF0aW9ucz0na2F1dHoyMDAwYScpOw==\"));\n",
       "    "
      ],
      "text/plain": [
       "<IPython.core.display.Javascript object>"
      ]
     },
     "metadata": {},
     "output_type": "display_data"
    },
    {
     "data": {
      "application/javascript": [
       "$('span:contains(\"# Temp\")').closest('.cell').remove();"
      ],
      "text/plain": [
       "<IPython.core.display.Javascript object>"
      ]
     },
     "metadata": {},
     "output_type": "display_data"
    },
    {
     "data": {
      "application/javascript": [
       "\n",
       "        $('span:contains(\"# Temp\")').closest('.cell').remove();\n",
       "        var code = IPython.notebook.insert_cell_below('code');\n",
       "        code.set_text(atob(\"IyBUZW1wCmluc2VydCgnJycKbW9udG9uaTBhID0gREIoV29ya1VucmVsYXRlZCgKICAgIDAsICJTRVRFTUJSTyBERSAyMDA3IiwKICAgIGRpc3BsYXk9Im1vbnRvbmkiLAogICAgYXV0aG9ycz0iTW9udG9uaSwgTWFyaWFubyBBbmdlbCIsCiAgICBwbGFjZT1GQUtFLAogICAgZW50cnl0eXBlPSJhcnRpY2xlIiwKICAgIElEPSJtb250b25pc2V0ZW1icm8iLAogICAgcGxhY2V4PSIiLAopKQoKREIoQ2l0YXRpb24oCiAgICBtb250b25pMGEsIGthdXR6MjAwMGEsIHJlZj0iIiwKICAgIGNvbnRleHRzPVsKCiAgICBdLAopKQoKJycnLCBjaXRhdGlvbnM9J2thdXR6MjAwMGEnKTs=\"));\n",
       "    "
      ],
      "text/plain": [
       "<IPython.core.display.Javascript object>"
      ]
     },
     "metadata": {},
     "output_type": "display_data"
    },
    {
     "data": {
      "application/javascript": [
       "$('span:contains(\"# Temp\")').closest('.cell').remove();"
      ],
      "text/plain": [
       "<IPython.core.display.Javascript object>"
      ]
     },
     "metadata": {},
     "output_type": "display_data"
    },
    {
     "data": {
      "application/javascript": [
       "\n",
       "        $('span:contains(\"# Temp\")').closest('.cell').remove();\n",
       "        var code = IPython.notebook.insert_cell_below('code');\n",
       "        code.set_text(atob(\"IyBUZW1wCmluc2VydCgnJycKbW9udG9uaTBhID0gREIoV29ya1VucmVsYXRlZCgKICAgIDAsICJTRVRFTUJSTyBERSAyMDA3IiwKICAgIGRpc3BsYXk9Im1vbnRvbmkiLAogICAgYXV0aG9ycz0iTW9udG9uaSwgTWFyaWFubyBBbmdlbCIsCiAgICBwbGFjZT1GQUtFLAogICAgZW50cnl0eXBlPSJhcnRpY2xlIiwKICAgIElEPSJtb250b25pc2V0ZW1icm8iLAogICAgcGxhY2V4PSIiLAopKQoKREIoQ2l0YXRpb24oCiAgICBtb250b25pMGEsIGthdXR6MjAwMGEsIHJlZj0iIiwKICAgIGNvbnRleHRzPVsKCiAgICBdLAopKQoKJycnLCBjaXRhdGlvbnM9J2thdXR6MjAwMGEnKTs=\"));\n",
       "    "
      ],
      "text/plain": [
       "<IPython.core.display.Javascript object>"
      ]
     },
     "metadata": {},
     "output_type": "display_data"
    },
    {
     "data": {
      "application/javascript": [
       "$('span:contains(\"# Temp\")').closest('.cell').remove();"
      ],
      "text/plain": [
       "<IPython.core.display.Javascript object>"
      ]
     },
     "metadata": {},
     "output_type": "display_data"
    },
    {
     "data": {
      "application/javascript": [
       "\n",
       "        $('span:contains(\"# Temp\")').closest('.cell').remove();\n",
       "        var code = IPython.notebook.insert_cell_below('code');\n",
       "        code.set_text(atob(\"IyBUZW1wCmluc2VydCgnJycKbGFydTIwMDdhID0gREIoV29ya1VucmVsYXRlZCgKICAgIDIwMDcsICJTaXPkaXN0ZW4gcHJvc2Vzc2llbiBqYSBwcm9qZWt0aWVuIGxhYWR1bmhhbGxpbm5hbiBrZWhpdHTkbWluZW4gbWF0cmlpc2lvcmdhbmlzYWF0aW9zc2E6IGNhc2UgTm9yZGVhIiwKICAgIGRpc3BsYXk9ImxhcnUiLAogICAgYXV0aG9ycz0iTGFydSwgSnVra2EiLAogICAgcGxhY2U9RkFLRSwKICAgIGVudHJ5dHlwZT0ibWlzYyIsCiAgICBJRD0ibGFydTIwMDdzaXNhaXN0ZW4iLAogICAgcGxhY2V4PSIiLAopKQoKREIoQ2l0YXRpb24oCiAgICBsYXJ1MjAwN2EsIGthdXR6MjAwMGEsIHJlZj0iIiwKICAgIGNvbnRleHRzPVsKCiAgICBdLAopKQoKJycnLCBjaXRhdGlvbnM9J2thdXR6MjAwMGEnKTs=\"));\n",
       "    "
      ],
      "text/plain": [
       "<IPython.core.display.Javascript object>"
      ]
     },
     "metadata": {},
     "output_type": "display_data"
    },
    {
     "data": {
      "application/javascript": [
       "$('span:contains(\"# Temp\")').closest('.cell').remove();"
      ],
      "text/plain": [
       "<IPython.core.display.Javascript object>"
      ]
     },
     "metadata": {},
     "output_type": "display_data"
    },
    {
     "data": {
      "application/javascript": [
       "\n",
       "        $('span:contains(\"# Temp\")').closest('.cell').remove();\n",
       "        var code = IPython.notebook.insert_cell_below('code');\n",
       "        code.set_text(atob(\"IyBUZW1wCmluc2VydCgnJycKbGFydTIwMDdhID0gREIoV29ya1VucmVsYXRlZCgKICAgIDIwMDcsICJTaXPkaXN0ZW4gcHJvc2Vzc2llbiBqYSBwcm9qZWt0aWVuIGxhYWR1bmhhbGxpbm5hbiBrZWhpdHTkbWluZW4gbWF0cmlpc2lvcmdhbmlzYWF0aW9zc2E6IGNhc2UgTm9yZGVhIiwKICAgIGRpc3BsYXk9ImxhcnUiLAogICAgYXV0aG9ycz0iTGFydSwgSnVra2EiLAogICAgcGxhY2U9RkFLRSwKICAgIGVudHJ5dHlwZT0ibWlzYyIsCiAgICBJRD0ibGFydTIwMDdzaXNhaXN0ZW4iLAogICAgcGxhY2V4PSIiLAopKQoKREIoQ2l0YXRpb24oCiAgICBsYXJ1MjAwN2EsIGthdXR6MjAwMGEsIHJlZj0iIiwKICAgIGNvbnRleHRzPVsKCiAgICBdLAopKQoKJycnLCBjaXRhdGlvbnM9J2thdXR6MjAwMGEnKTs=\"));\n",
       "    "
      ],
      "text/plain": [
       "<IPython.core.display.Javascript object>"
      ]
     },
     "metadata": {},
     "output_type": "display_data"
    },
    {
     "data": {
      "application/javascript": [
       "$('span:contains(\"# Temp\")').closest('.cell').remove();"
      ],
      "text/plain": [
       "<IPython.core.display.Javascript object>"
      ]
     },
     "metadata": {},
     "output_type": "display_data"
    },
    {
     "data": {
      "application/javascript": [
       "\n",
       "        $('span:contains(\"# Temp\")').closest('.cell').remove();\n",
       "        var code = IPython.notebook.insert_cell_below('code');\n",
       "        code.set_text(atob(\"IyBUZW1wCmluc2VydCgnJycKPz8/MjAwM2EgPSBEQihXb3JrVW5yZWxhdGVkKAogICAgMjAwMywgIj8/IElERUFMID8/Pz8/Pz8/Pz8/Pz8/PyIsCiAgICBkaXNwbGF5PSI/Pz8iLAogICAgYXV0aG9ycz0iPz8/IGFuZCA/PyBhbmQgPz8iLAogICAgcGxhY2U9RkFLRSwKICAgIHBwPSIxOC0tMjIiLAogICAgZW50cnl0eXBlPSJhcnRpY2xlIiwKICAgIHZvbHVtZT0iMjYiLAogICAgbnVtYmVyPSI4IiwKICAgIElEPSI/Pz8yMDAzPz8iLAogICAgcGxhY2V4PSI/Pz8/Pz86ID8/Pz8/IiwKKSkKCkRCKENpdGF0aW9uKAogICAgPz8/MjAwM2EsIGthdXR6MjAwMGEsIHJlZj0iIiwKICAgIGNvbnRleHRzPVsKCiAgICBdLAopKQoKJycnLCBjaXRhdGlvbnM9J2thdXR6MjAwMGEnKTs=\"));\n",
       "    "
      ],
      "text/plain": [
       "<IPython.core.display.Javascript object>"
      ]
     },
     "metadata": {},
     "output_type": "display_data"
    },
    {
     "data": {
      "application/javascript": [
       "$('span:contains(\"# Temp\")').closest('.cell').remove();"
      ],
      "text/plain": [
       "<IPython.core.display.Javascript object>"
      ]
     },
     "metadata": {},
     "output_type": "display_data"
    },
    {
     "data": {
      "application/javascript": [
       "\n",
       "        $('span:contains(\"# Temp\")').closest('.cell').remove();\n",
       "        var code = IPython.notebook.insert_cell_below('code');\n",
       "        code.set_text(atob(\"IyBUZW1wCmluc2VydCgnJycKPz8/MjAwM2EgPSBEQihXb3JrVW5yZWxhdGVkKAogICAgMjAwMywgIj8/IElERUFMID8/Pz8/Pz8/Pz8/Pz8/PyIsCiAgICBkaXNwbGF5PSI/Pz8iLAogICAgYXV0aG9ycz0iPz8/IGFuZCA/PyBhbmQgPz8iLAogICAgcGxhY2U9RkFLRSwKICAgIHBwPSIxOC0tMjIiLAogICAgZW50cnl0eXBlPSJhcnRpY2xlIiwKICAgIHZvbHVtZT0iMjYiLAogICAgbnVtYmVyPSI4IiwKICAgIElEPSI/Pz8yMDAzPz8iLAogICAgcGxhY2V4PSI/Pz8/Pz86ID8/Pz8/IiwKKSkKCkRCKENpdGF0aW9uKAogICAgPz8/MjAwM2EsIGthdXR6MjAwMGEsIHJlZj0iIiwKICAgIGNvbnRleHRzPVsKCiAgICBdLAopKQoKJycnLCBjaXRhdGlvbnM9J2thdXR6MjAwMGEnKTs=\"));\n",
       "    "
      ],
      "text/plain": [
       "<IPython.core.display.Javascript object>"
      ]
     },
     "metadata": {},
     "output_type": "display_data"
    },
    {
     "data": {
      "application/javascript": [
       "$('span:contains(\"# Temp\")').closest('.cell').remove();"
      ],
      "text/plain": [
       "<IPython.core.display.Javascript object>"
      ]
     },
     "metadata": {},
     "output_type": "display_data"
    },
    {
     "data": {
      "application/javascript": [
       "\n",
       "        $('span:contains(\"# Temp\")').closest('.cell').remove();\n",
       "        var code = IPython.notebook.insert_cell_below('code');\n",
       "        code.set_text(atob(\"IyBUZW1wCmluc2VydCgnJycKPz8/MjAwOWEgPSBEQihXb3JrVW5yZWxhdGVkKAogICAgMjAwOSwgIj8/Pz8/Pz8/Pz8gPz8/Pz8/Pz8/ID8/Pz8/Pz8/Pz8/Pz8/ID8/Pz8/Pz8/Pz8/ID8/Pz8/Pz8/Pz8/PyA/Pz8/Pz8/Pz8/PyIsCiAgICBkaXNwbGF5PSI/Pz8iLAogICAgYXV0aG9ycz0iPz8/LCA/Pz8/PyBhbmQgPz8/Pz8/Pz8sID8/Pz8gYW5kID8/Pz8/Pz8/PywgPz8/Pz8/ID8/Pz8/Pz8/Pz8/IiwKICAgIHBsYWNlPUZBS0UsCiAgICBlbnRyeXR5cGU9ImFydGljbGUiLAogICAgbnVtYmVyPSIzICg3OSkiLAogICAgcHVibGlzaGVyPSI/Pz8/Pz8/Pz8/PyA/Pz8/Pz8/Pz8/Pz8/Pz8gPz8/Pz8/Pz8/PyA/Pz8/Pz8/Pz8/Pz8/Pz8gPz8/Pz8/Pz8/PyA/Pz8/Pz8/ID8/Pz8/Pz8/Pz8/IHtcZ3VpbGxlbW90bGVmdH0/Pz8/Py0/Pz8/Pz8/Pz8/Pz8/ID8/Pz8/Pz8/Pz8/Pz8/PyA/Pz8/Pz8/Pz8/PyA/Pz8/PyA/Pz8/Pz8/P3tcZ3VpbGxlbW90cmlnaHR9IiwKICAgIElEPSI/Pz8yMDA5Pz8/Pz8/Pz8/PyIsCiAgICBwbGFjZXg9Ij8/Pz8/Py0/Pz8/Pz8/Pz8/PyA/Pz8/Pz8/Pz8gPz8/Pz8tPz8/Pz8/Pz8/Pz8/Pz8gPz8/Pz8/Pz8/Pz8/Pz8/PyA/Pz8/Pz8/Pz8/Pz8/Pz8/ID8/Pz8/Pz8/Pz8/Py4gPz8/Pz8/Pz8/Pz8/PyA/Pz8/PyIsCikpCgpEQihDaXRhdGlvbigKICAgID8/PzIwMDlhLCBrYXV0ejIwMDBhLCByZWY9IiIsCiAgICBjb250ZXh0cz1bCgogICAgXSwKKSkKCicnJywgY2l0YXRpb25zPSdrYXV0ejIwMDBhJyk7\"));\n",
       "    "
      ],
      "text/plain": [
       "<IPython.core.display.Javascript object>"
      ]
     },
     "metadata": {},
     "output_type": "display_data"
    },
    {
     "data": {
      "application/javascript": [
       "$('span:contains(\"# Temp\")').closest('.cell').remove();"
      ],
      "text/plain": [
       "<IPython.core.display.Javascript object>"
      ]
     },
     "metadata": {},
     "output_type": "display_data"
    },
    {
     "data": {
      "application/javascript": [
       "\n",
       "        $('span:contains(\"# Temp\")').closest('.cell').remove();\n",
       "        var code = IPython.notebook.insert_cell_below('code');\n",
       "        code.set_text(atob(\"IyBUZW1wCmluc2VydCgnJycKPz8/MjAwOWEgPSBEQihXb3JrVW5yZWxhdGVkKAogICAgMjAwOSwgIj8/Pz8/Pz8/Pz8gPz8/Pz8/Pz8/ID8/Pz8/Pz8/Pz8/Pz8/ID8/Pz8/Pz8/Pz8/ID8/Pz8/Pz8/Pz8/PyA/Pz8/Pz8/Pz8/PyIsCiAgICBkaXNwbGF5PSI/Pz8iLAogICAgYXV0aG9ycz0iPz8/LCA/Pz8/PyBhbmQgPz8/Pz8/Pz8sID8/Pz8gYW5kID8/Pz8/Pz8/PywgPz8/Pz8/ID8/Pz8/Pz8/Pz8/IiwKICAgIHBsYWNlPUZBS0UsCiAgICBlbnRyeXR5cGU9ImFydGljbGUiLAogICAgbnVtYmVyPSIzICg3OSkiLAogICAgcHVibGlzaGVyPSI/Pz8/Pz8/Pz8/PyA/Pz8/Pz8/Pz8/Pz8/Pz8gPz8/Pz8/Pz8/PyA/Pz8/Pz8/Pz8/Pz8/Pz8gPz8/Pz8/Pz8/PyA/Pz8/Pz8/ID8/Pz8/Pz8/Pz8/IHtcZ3VpbGxlbW90bGVmdH0/Pz8/Py0/Pz8/Pz8/Pz8/Pz8/ID8/Pz8/Pz8/Pz8/Pz8/PyA/Pz8/Pz8/Pz8/PyA/Pz8/PyA/Pz8/Pz8/P3tcZ3VpbGxlbW90cmlnaHR9IiwKICAgIElEPSI/Pz8yMDA5Pz8/Pz8/Pz8/PyIsCiAgICBwbGFjZXg9Ij8/Pz8/Py0/Pz8/Pz8/Pz8/PyA/Pz8/Pz8/Pz8gPz8/Pz8tPz8/Pz8/Pz8/Pz8/Pz8gPz8/Pz8/Pz8/Pz8/Pz8/PyA/Pz8/Pz8/Pz8/Pz8/Pz8/ID8/Pz8/Pz8/Pz8/Py4gPz8/Pz8/Pz8/Pz8/PyA/Pz8/PyIsCikpCgpEQihDaXRhdGlvbigKICAgID8/PzIwMDlhLCBrYXV0ejIwMDBhLCByZWY9IiIsCiAgICBjb250ZXh0cz1bCgogICAgXSwKKSkKCicnJywgY2l0YXRpb25zPSdrYXV0ejIwMDBhJyk7\"));\n",
       "    "
      ],
      "text/plain": [
       "<IPython.core.display.Javascript object>"
      ]
     },
     "metadata": {},
     "output_type": "display_data"
    },
    {
     "data": {
      "application/javascript": [
       "$('span:contains(\"# Temp\")').closest('.cell').remove();"
      ],
      "text/plain": [
       "<IPython.core.display.Javascript object>"
      ]
     },
     "metadata": {},
     "output_type": "display_data"
    },
    {
     "data": {
      "application/javascript": [
       "\n",
       "        $('span:contains(\"# Temp\")').closest('.cell').remove();\n",
       "        var code = IPython.notebook.insert_cell_below('code');\n",
       "        code.set_text(atob(\"IyBUZW1wCmluc2VydCgnJycKbWFjaGFkbzBhID0gREIoV29ya1VucmVsYXRlZCgKICAgIDAsICJSZXF1aXNpdG9zIGRlIE1vZGVsb3MgZGUgTWVsaG9yaWEgZGUgUHJvY2Vzc29zIiwKICAgIGRpc3BsYXk9Im1hY2hhZG8iLAogICAgYXV0aG9ycz0iTWFjaGFkbywgSXZyZSBNYXJqb3JpZSBSaWJlaXJvIiwKICAgIHBsYWNlPUZBS0UsCiAgICBlbnRyeXR5cGU9ImFydGljbGUiLAogICAgSUQ9Im1hY2hhZG9yZXF1aXNpdG9zIiwKICAgIHBsYWNleD0iIiwKKSkKCkRCKENpdGF0aW9uKAogICAgbWFjaGFkbzBhLCBrYXV0ejIwMDBhLCByZWY9IiIsCiAgICBjb250ZXh0cz1bCgogICAgXSwKKSkKCicnJywgY2l0YXRpb25zPSdrYXV0ejIwMDBhJyk7\"));\n",
       "    "
      ],
      "text/plain": [
       "<IPython.core.display.Javascript object>"
      ]
     },
     "metadata": {},
     "output_type": "display_data"
    },
    {
     "data": {
      "application/javascript": [
       "$('span:contains(\"# Temp\")').closest('.cell').remove();"
      ],
      "text/plain": [
       "<IPython.core.display.Javascript object>"
      ]
     },
     "metadata": {},
     "output_type": "display_data"
    },
    {
     "data": {
      "application/javascript": [
       "\n",
       "        $('span:contains(\"# Temp\")').closest('.cell').remove();\n",
       "        var code = IPython.notebook.insert_cell_below('code');\n",
       "        code.set_text(atob(\"IyBUZW1wCmluc2VydCgnJycKbWFjaGFkbzBhID0gREIoV29ya1VucmVsYXRlZCgKICAgIDAsICJSZXF1aXNpdG9zIGRlIE1vZGVsb3MgZGUgTWVsaG9yaWEgZGUgUHJvY2Vzc29zIiwKICAgIGRpc3BsYXk9Im1hY2hhZG8iLAogICAgYXV0aG9ycz0iTWFjaGFkbywgSXZyZSBNYXJqb3JpZSBSaWJlaXJvIiwKICAgIHBsYWNlPUZBS0UsCiAgICBlbnRyeXR5cGU9ImFydGljbGUiLAogICAgSUQ9Im1hY2hhZG9yZXF1aXNpdG9zIiwKICAgIHBsYWNleD0iIiwKKSkKCkRCKENpdGF0aW9uKAogICAgbWFjaGFkbzBhLCBrYXV0ejIwMDBhLCByZWY9IiIsCiAgICBjb250ZXh0cz1bCgogICAgXSwKKSkKCicnJywgY2l0YXRpb25zPSdrYXV0ejIwMDBhJyk7\"));\n",
       "    "
      ],
      "text/plain": [
       "<IPython.core.display.Javascript object>"
      ]
     },
     "metadata": {},
     "output_type": "display_data"
    },
    {
     "data": {
      "application/javascript": [
       "$('span:contains(\"# Temp\")').closest('.cell').remove();"
      ],
      "text/plain": [
       "<IPython.core.display.Javascript object>"
      ]
     },
     "metadata": {},
     "output_type": "display_data"
    },
    {
     "data": {
      "application/javascript": [
       "\n",
       "        $('span:contains(\"# Temp\")').closest('.cell').remove();\n",
       "        var code = IPython.notebook.insert_cell_below('code');\n",
       "        code.set_text(atob(\"IyBUZW1wCmluc2VydCgnJycKYmF0aXN0YTIwMDlhID0gREIoV29ya1VucmVsYXRlZCgKICAgIDIwMDksICJVbSBwcm9ncmFtYSBkZSBtZWxob3JpYSBkZSBlc3RpbWF0aXZhcyBlbSB1bWEgb3JnYW5pemF7533jbyBkZXNlbnZvbHZlZG9yYSBkZSBzb2Z0d2FyZSIsCiAgICBkaXNwbGF5PSJiYXRpc3RhIiwKICAgIGF1dGhvcnM9IkJhdGlzdGEsIFZpdG9yIEFsY+JudGFyYSIsCiAgICBwbGFjZT1GQUtFLAogICAgZW50cnl0eXBlPSJhcnRpY2xlIiwKICAgIElEPSJiYXRpc3RhMjAwOXByb2dyYW1hIiwKICAgIHBsYWNleD0iIiwKKSkKCkRCKENpdGF0aW9uKAogICAgYmF0aXN0YTIwMDlhLCBrYXV0ejIwMDBhLCByZWY9IiIsCiAgICBjb250ZXh0cz1bCgogICAgXSwKKSkKCicnJywgY2l0YXRpb25zPSdrYXV0ejIwMDBhJyk7\"));\n",
       "    "
      ],
      "text/plain": [
       "<IPython.core.display.Javascript object>"
      ]
     },
     "metadata": {},
     "output_type": "display_data"
    },
    {
     "data": {
      "application/javascript": [
       "$('span:contains(\"# Temp\")').closest('.cell').remove();"
      ],
      "text/plain": [
       "<IPython.core.display.Javascript object>"
      ]
     },
     "metadata": {},
     "output_type": "display_data"
    },
    {
     "data": {
      "application/javascript": [
       "\n",
       "        $('span:contains(\"# Temp\")').closest('.cell').remove();\n",
       "        var code = IPython.notebook.insert_cell_below('code');\n",
       "        code.set_text(atob(\"IyBUZW1wCmluc2VydCgnJycKYmF0aXN0YTIwMDlhID0gREIoV29ya1VucmVsYXRlZCgKICAgIDIwMDksICJVbSBwcm9ncmFtYSBkZSBtZWxob3JpYSBkZSBlc3RpbWF0aXZhcyBlbSB1bWEgb3JnYW5pemF7533jbyBkZXNlbnZvbHZlZG9yYSBkZSBzb2Z0d2FyZSIsCiAgICBkaXNwbGF5PSJiYXRpc3RhIiwKICAgIGF1dGhvcnM9IkJhdGlzdGEsIFZpdG9yIEFsY+JudGFyYSIsCiAgICBwbGFjZT1GQUtFLAogICAgZW50cnl0eXBlPSJhcnRpY2xlIiwKICAgIElEPSJiYXRpc3RhMjAwOXByb2dyYW1hIiwKICAgIHBsYWNleD0iIiwKKSkKCkRCKENpdGF0aW9uKAogICAgYmF0aXN0YTIwMDlhLCBrYXV0ejIwMDBhLCByZWY9IiIsCiAgICBjb250ZXh0cz1bCgogICAgXSwKKSkKCicnJywgY2l0YXRpb25zPSdrYXV0ejIwMDBhJyk7\"));\n",
       "    "
      ],
      "text/plain": [
       "<IPython.core.display.Javascript object>"
      ]
     },
     "metadata": {},
     "output_type": "display_data"
    }
   ],
   "source": [
    "manager"
   ]
  }
 ],
 "metadata": {
  "kernelspec": {
   "display_name": "Python 3",
   "language": "python",
   "name": "python3"
  },
  "language_info": {
   "codemirror_mode": {
    "name": "ipython",
    "version": 3
   },
   "file_extension": ".py",
   "mimetype": "text/x-python",
   "name": "python",
   "nbconvert_exporter": "python",
   "pygments_lexer": "ipython3",
   "version": "3.6.0"
  },
  "toc": {
   "nav_menu": {
    "height": "12px",
    "width": "252px"
   },
   "number_sections": true,
   "sideBar": true,
   "skip_h1_title": false,
   "toc_cell": false,
   "toc_position": {},
   "toc_section_display": "block",
   "toc_window_display": false
  }
 },
 "nbformat": 4,
 "nbformat_minor": 1
}
