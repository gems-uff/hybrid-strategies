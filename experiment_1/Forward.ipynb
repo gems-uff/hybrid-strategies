{
 "cells": [
  {
   "cell_type": "code",
   "execution_count": 1,
   "metadata": {
    "collapsed": true
   },
   "outputs": [],
   "source": [
    "import database\n",
    "from snowballing.operations import load_work, reload, work_by_varname\n",
    "from snowballing.selenium_scholar import SeleniumScholarQuerier\n",
    "from snowballing.snowballing import ForwardSnowballing\n",
    "from snowballing.dbmanager import insert, set_attribute\n",
    "from custom_snowballing import UnrelatedForward"
   ]
  },
  {
   "cell_type": "code",
   "execution_count": 2,
   "metadata": {
    "collapsed": true
   },
   "outputs": [],
   "source": [
    "querier = SeleniumScholarQuerier()"
   ]
  },
  {
   "cell_type": "code",
   "execution_count": 3,
   "metadata": {
    "scrolled": true
   },
   "outputs": [
    {
     "name": "stderr",
     "output_type": "stream",
     "text": [
      "[ INFO]  settings applied\n"
     ]
    }
   ],
   "source": [
    "querier.apply_settings(20, 4);"
   ]
  },
  {
   "cell_type": "code",
   "execution_count": 7,
   "metadata": {
    "collapsed": true
   },
   "outputs": [],
   "source": [
    "#manager = ForwardSnowballing(querier, \"mendes2004a\", start=60)\n",
    "import importlib\n",
    "import custom_snowballing\n",
    "importlib.reload(custom_snowballing)\n",
    "from custom_snowballing import UnrelatedForward\n",
    "manager = UnrelatedForward(querier, \"waina2001a\", start=0)"
   ]
  },
  {
   "cell_type": "code",
   "execution_count": null,
   "metadata": {
    "collapsed": true
   },
   "outputs": [],
   "source": []
  },
  {
   "cell_type": "code",
   "execution_count": 8,
   "metadata": {
    "scrolled": true
   },
   "outputs": [
    {
     "data": {
      "application/vnd.jupyter.widget-view+json": {
       "model_id": "01845214e9dc4c759476f0c95b81f4f4",
       "version_major": 2,
       "version_minor": 0
      },
      "text/html": [
       "<p>Failed to display Jupyter Widget of type <code>Tab</code>.</p>\n",
       "<p>\n",
       "  If you're reading this message in Jupyter Notebook or JupyterLab, it may mean\n",
       "  that the widgets JavaScript is still loading. If this message persists, it\n",
       "  likely means that the widgets JavaScript library is either not installed or\n",
       "  not enabled. See the <a href=\"https://ipywidgets.readthedocs.io/en/stable/user_install.html\">Jupyter\n",
       "  Widgets Documentation</a> for setup instructions.\n",
       "</p>\n",
       "<p>\n",
       "  If you're reading this message in another notebook frontend (for example, a static\n",
       "  rendering on GitHub or <a href=\"https://nbviewer.jupyter.org/\">NBViewer</a>),\n",
       "  it may mean that your frontend doesn't currently support widgets.\n",
       "</p>\n"
      ],
      "text/plain": [
       "Tab(children=(VBox(children=(HBox(children=(Button(description='Previous Page', disabled=True, icon='arrow-left', style=ButtonStyle()), Button(description='Reload', icon='refresh', style=ButtonStyle()), Button(description='Next Page', disabled=True, icon='arrow-right', style=ButtonStyle()), ToggleButton(value=False, description='Debug'), Label(value='0'))), Output())), VBox(children=(HBox(children=(Button(description='Previous Article', disabled=True, icon='caret-left', style=ButtonStyle()), Button(description='Reload Article', icon='refresh', style=ButtonStyle()), Button(description='Next Article', icon='caret-right', style=ButtonStyle()))), HBox(children=(Button(description='Unrelated: Scripts', style=ButtonStyle()), Button(description='Unrelated: Provenance', style=ButtonStyle()), Button(description='Both', style=ButtonStyle()), Button(description='Ok', style=ButtonStyle()))), HBox(children=(Dropdown(description='Type', index=5, options=('Work', 'WorkSnowball', 'WorkForward', 'WorkBackward', 'WorkOk', 'WorkUnrelated', 'WorkNoFile', 'WorkLang', 'Site', 'Email'), value='WorkUnrelated'), ToggleButton(value=False, description='File'))), HBox(children=(Text(value='', description='Due'), Text(value='', description='Place'))), HBox(children=(Text(value='', description='Year'), Text(value='', description='Prefix Var'))), HBox(children=(Text(value='', description='PDFPage'), Text(value='', description='Related'))), HBox(children=(Text(value='', description='Display'), Text(value='', description='Summary'))), HBox(children=(Text(value='', description='Star'), Text(value='', description='Link'))), HBox(children=(Button(description='Reload Article', icon='refresh', style=ButtonStyle()), IntSlider(value=0, max=1), Label(value='1/2'))), Output()))), _titles={'0': 'Page', '1': 'Article'})"
      ]
     },
     "metadata": {},
     "output_type": "display_data"
    },
    {
     "data": {
      "application/javascript": [
       "$('span:contains(\"# Temp\")').closest('.cell').remove();"
      ],
      "text/plain": [
       "<IPython.core.display.Javascript object>"
      ]
     },
     "metadata": {},
     "output_type": "display_data"
    },
    {
     "data": {
      "application/javascript": [
       "\n",
       "        $('span:contains(\"# Temp\")').closest('.cell').remove();\n",
       "        var code = IPython.notebook.insert_cell_below('code');\n",
       "        code.set_text(atob(\"IyBUZW1wCmluc2VydCgnJycKZG91bm9zMjAxMGEgPSBEQihXb3JrVW5yZWxhdGVkKAogICAgMjAxMCwgIkZhY3RvcnMgZm9yIHRoZSBkZXNpZ24gb2YgQ01NSS1iYXNlZCBzb2Z0d2FyZSBwcm9jZXNzIGltcHJvdmVtZW50IGluaXRpYXRpdmVzIiwKICAgIGRpc3BsYXk9ImRvdW5vcyIsCiAgICBhdXRob3JzPSJEb3Vub3MsIFBldHJvcyBhbmQgQm9ob3JpcywgR2VvcmdlIiwKICAgIHBsYWNlPUZBS0UsCiAgICBwcD0iNDMtLTQ3IiwKICAgIGVudHJ5dHlwZT0iaW5wcm9jZWVkaW5ncyIsCiAgICBvcmdhbml6YXRpb249IklFRUUiLAogICAgSUQ9ImRvdW5vczIwMTBmYWN0b3JzIiwKICAgIGNsdXN0ZXJfaWQ9Ijk1MjEwNjQ3NTc5NDAzNDA3NDkiLAogICAgc2Nob2xhcj0iaHR0cDovL3NjaG9sYXIuZ29vZ2xlLmNvbS9zY2hvbGFyP2NpdGVzPTk1MjEwNjQ3NTc5NDAzNDA3NDkmYXNfc2R0PTIwMDUmc2Npb2R0PTAsNSZobD1lbiIsCiAgICBwbGFjZXg9IkluZm9ybWF0aWNzIChQQ0kpLCAyMDEwIDE0dGggUGFuaGVsbGVuaWMgQ29uZmVyZW5jZSBvbiIsCikpCgpEQihDaXRhdGlvbigKICAgIGRvdW5vczIwMTBhLCB3YWluYTIwMDFhLCByZWY9IiIsCiAgICBjb250ZXh0cz1bCgogICAgXSwKKSkKCicnJywgY2l0YXRpb25zPSd3YWluYTIwMDFhJyk7\"));\n",
       "    "
      ],
      "text/plain": [
       "<IPython.core.display.Javascript object>"
      ]
     },
     "metadata": {},
     "output_type": "display_data"
    },
    {
     "data": {
      "application/javascript": [
       "$('span:contains(\"# Temp\")').closest('.cell').remove();"
      ],
      "text/plain": [
       "<IPython.core.display.Javascript object>"
      ]
     },
     "metadata": {},
     "output_type": "display_data"
    },
    {
     "data": {
      "application/javascript": [
       "\n",
       "        $('span:contains(\"# Temp\")').closest('.cell').remove();\n",
       "        var code = IPython.notebook.insert_cell_below('code');\n",
       "        code.set_text(atob(\"IyBUZW1wCmluc2VydCgnJycKeWUyMDEwYSA9IERCKFdvcmtVbnJlbGF0ZWQoCiAgICAyMDEwLCAiQSBGYXN0IFZhcmlhYmxlIFByZWNpc2lvbiBUZW1wbGF0ZSBNYXRjaGluZyBBbGdvcml0aG0gQmFzZWQgb24gSHlicmlkIEdlbmV0aWMgQWxnb3JpdGhtIiwKICAgIGRpc3BsYXk9InllIiwKICAgIGF1dGhvcnM9IlllLCBNYW8teWkgYW5kIFlvdSwgRnUtY2hlbmciLAogICAgcGxhY2U9RkFLRSwKICAgIHBwPSIxLS0zIiwKICAgIGVudHJ5dHlwZT0iaW5wcm9jZWVkaW5ncyIsCiAgICBvcmdhbml6YXRpb249IklFRUUiLAogICAgSUQ9InllMjAxMGZhc3QiLAogICAgcGxhY2V4PSJNdWx0aW1lZGlhIFRlY2hub2xvZ3kgKElDTVQpLCAyMDEwIEludGVybmF0aW9uYWwgQ29uZmVyZW5jZSBvbiIsCikpCgpEQihDaXRhdGlvbigKICAgIHllMjAxMGEsIHdhaW5hMjAwMWEsIHJlZj0iIiwKICAgIGNvbnRleHRzPVsKCiAgICBdLAopKQoKJycnLCBjaXRhdGlvbnM9J3dhaW5hMjAwMWEnKTs=\"));\n",
       "    "
      ],
      "text/plain": [
       "<IPython.core.display.Javascript object>"
      ]
     },
     "metadata": {},
     "output_type": "display_data"
    },
    {
     "data": {
      "application/javascript": [
       "$('span:contains(\"# Temp\")').closest('.cell').remove();"
      ],
      "text/plain": [
       "<IPython.core.display.Javascript object>"
      ]
     },
     "metadata": {},
     "output_type": "display_data"
    },
    {
     "data": {
      "application/javascript": [
       "\n",
       "        $('span:contains(\"# Temp\")').closest('.cell').remove();\n",
       "        var code = IPython.notebook.insert_cell_below('code');\n",
       "        code.set_text(atob(\"IyBUZW1wCmluc2VydCgnJycKeWUyMDEwYSA9IERCKFdvcmtVbnJlbGF0ZWQoCiAgICAyMDEwLCAiQSBGYXN0IFZhcmlhYmxlIFByZWNpc2lvbiBUZW1wbGF0ZSBNYXRjaGluZyBBbGdvcml0aG0gQmFzZWQgb24gSHlicmlkIEdlbmV0aWMgQWxnb3JpdGhtIiwKICAgIGRpc3BsYXk9InllIiwKICAgIGF1dGhvcnM9IlllLCBNYW8teWkgYW5kIFlvdSwgRnUtY2hlbmciLAogICAgcGxhY2U9RkFLRSwKICAgIHBwPSIxLS0zIiwKICAgIGVudHJ5dHlwZT0iaW5wcm9jZWVkaW5ncyIsCiAgICBvcmdhbml6YXRpb249IklFRUUiLAogICAgSUQ9InllMjAxMGZhc3QiLAogICAgcGxhY2V4PSJNdWx0aW1lZGlhIFRlY2hub2xvZ3kgKElDTVQpLCAyMDEwIEludGVybmF0aW9uYWwgQ29uZmVyZW5jZSBvbiIsCikpCgpEQihDaXRhdGlvbigKICAgIHllMjAxMGEsIHdhaW5hMjAwMWEsIHJlZj0iIiwKICAgIGNvbnRleHRzPVsKCiAgICBdLAopKQoKJycnLCBjaXRhdGlvbnM9J3dhaW5hMjAwMWEnKTs=\"));\n",
       "    "
      ],
      "text/plain": [
       "<IPython.core.display.Javascript object>"
      ]
     },
     "metadata": {},
     "output_type": "display_data"
    },
    {
     "data": {
      "application/javascript": [
       "$('span:contains(\"# Temp\")').closest('.cell').remove();"
      ],
      "text/plain": [
       "<IPython.core.display.Javascript object>"
      ]
     },
     "metadata": {},
     "output_type": "display_data"
    },
    {
     "data": {
      "application/javascript": [
       "\n",
       "        $('span:contains(\"# Temp\")').closest('.cell').remove();\n",
       "        var code = IPython.notebook.insert_cell_below('code');\n",
       "        code.set_text(atob(\"IyBUZW1wCmluc2VydCgnJycKZG91bm9zMjAxMGEgPSBEQihXb3JrVW5yZWxhdGVkKAogICAgMjAxMCwgIkZhY3RvcnMgZm9yIHRoZSBkZXNpZ24gb2YgQ01NSS1iYXNlZCBzb2Z0d2FyZSBwcm9jZXNzIGltcHJvdmVtZW50IGluaXRpYXRpdmVzIiwKICAgIGRpc3BsYXk9ImRvdW5vcyIsCiAgICBhdXRob3JzPSJEb3Vub3MsIFBldHJvcyBhbmQgQm9ob3JpcywgR2VvcmdlIiwKICAgIHBsYWNlPUZBS0UsCiAgICBwcD0iNDMtLTQ3IiwKICAgIGVudHJ5dHlwZT0iaW5wcm9jZWVkaW5ncyIsCiAgICBvcmdhbml6YXRpb249IklFRUUiLAogICAgSUQ9ImRvdW5vczIwMTBmYWN0b3JzIiwKICAgIGNsdXN0ZXJfaWQ9Ijk1MjEwNjQ3NTc5NDAzNDA3NDkiLAogICAgc2Nob2xhcj0iaHR0cDovL3NjaG9sYXIuZ29vZ2xlLmNvbS9zY2hvbGFyP2NpdGVzPTk1MjEwNjQ3NTc5NDAzNDA3NDkmYXNfc2R0PTIwMDUmc2Npb2R0PTAsNSZobD1lbiIsCiAgICBwbGFjZXg9IkluZm9ybWF0aWNzIChQQ0kpLCAyMDEwIDE0dGggUGFuaGVsbGVuaWMgQ29uZmVyZW5jZSBvbiIsCikpCgpEQihDaXRhdGlvbigKICAgIGRvdW5vczIwMTBhLCB3YWluYTIwMDFhLCByZWY9IiIsCiAgICBjb250ZXh0cz1bCgogICAgXSwKKSkKCicnJywgY2l0YXRpb25zPSd3YWluYTIwMDFhJyk7\"));\n",
       "    "
      ],
      "text/plain": [
       "<IPython.core.display.Javascript object>"
      ]
     },
     "metadata": {},
     "output_type": "display_data"
    },
    {
     "data": {
      "application/javascript": [
       "$('span:contains(\"# Temp\")').closest('.cell').remove();"
      ],
      "text/plain": [
       "<IPython.core.display.Javascript object>"
      ]
     },
     "metadata": {},
     "output_type": "display_data"
    },
    {
     "data": {
      "application/javascript": [
       "\n",
       "        $('span:contains(\"# Temp\")').closest('.cell').remove();\n",
       "        var code = IPython.notebook.insert_cell_below('code');\n",
       "        code.set_text(atob(\"IyBUZW1wCmluc2VydCgnJycKZG91bm9zMjAxMGEgPSBEQihXb3JrVW5yZWxhdGVkKAogICAgMjAxMCwgIkZhY3RvcnMgZm9yIHRoZSBkZXNpZ24gb2YgQ01NSS1iYXNlZCBzb2Z0d2FyZSBwcm9jZXNzIGltcHJvdmVtZW50IGluaXRpYXRpdmVzIiwKICAgIGRpc3BsYXk9ImRvdW5vcyIsCiAgICBhdXRob3JzPSJEb3Vub3MsIFBldHJvcyBhbmQgQm9ob3JpcywgR2VvcmdlIiwKICAgIHBsYWNlPUZBS0UsCiAgICBwcD0iNDMtLTQ3IiwKICAgIGVudHJ5dHlwZT0iaW5wcm9jZWVkaW5ncyIsCiAgICBvcmdhbml6YXRpb249IklFRUUiLAogICAgSUQ9ImRvdW5vczIwMTBmYWN0b3JzIiwKICAgIGNsdXN0ZXJfaWQ9Ijk1MjEwNjQ3NTc5NDAzNDA3NDkiLAogICAgc2Nob2xhcj0iaHR0cDovL3NjaG9sYXIuZ29vZ2xlLmNvbS9zY2hvbGFyP2NpdGVzPTk1MjEwNjQ3NTc5NDAzNDA3NDkmYXNfc2R0PTIwMDUmc2Npb2R0PTAsNSZobD1lbiIsCiAgICBwbGFjZXg9IkluZm9ybWF0aWNzIChQQ0kpLCAyMDEwIDE0dGggUGFuaGVsbGVuaWMgQ29uZmVyZW5jZSBvbiIsCikpCgpEQihDaXRhdGlvbigKICAgIGRvdW5vczIwMTBhLCB3YWluYTIwMDFhLCByZWY9IiIsCiAgICBjb250ZXh0cz1bCgogICAgXSwKKSkKCicnJywgY2l0YXRpb25zPSd3YWluYTIwMDFhJyk7\"));\n",
       "    "
      ],
      "text/plain": [
       "<IPython.core.display.Javascript object>"
      ]
     },
     "metadata": {},
     "output_type": "display_data"
    },
    {
     "data": {
      "application/javascript": [
       "$('span:contains(\"# Temp\")').closest('.cell').remove();"
      ],
      "text/plain": [
       "<IPython.core.display.Javascript object>"
      ]
     },
     "metadata": {},
     "output_type": "display_data"
    },
    {
     "data": {
      "application/javascript": [
       "\n",
       "        $('span:contains(\"# Temp\")').closest('.cell').remove();\n",
       "        var code = IPython.notebook.insert_cell_below('code');\n",
       "        code.set_text(atob(\"IyBUZW1wCmluc2VydCgnJycKZG91bm9zMjAxMGEgPSBEQihXb3JrVW5yZWxhdGVkKAogICAgMjAxMCwgIkZhY3RvcnMgZm9yIHRoZSBkZXNpZ24gb2YgQ01NSS1iYXNlZCBzb2Z0d2FyZSBwcm9jZXNzIGltcHJvdmVtZW50IGluaXRpYXRpdmVzIiwKICAgIGRpc3BsYXk9ImRvdW5vcyIsCiAgICBhdXRob3JzPSJEb3Vub3MsIFBldHJvcyBhbmQgQm9ob3JpcywgR2VvcmdlIiwKICAgIHBsYWNlPUZBS0UsCiAgICBwcD0iNDMtLTQ3IiwKICAgIGVudHJ5dHlwZT0iaW5wcm9jZWVkaW5ncyIsCiAgICBvcmdhbml6YXRpb249IklFRUUiLAogICAgSUQ9ImRvdW5vczIwMTBmYWN0b3JzIiwKICAgIGNsdXN0ZXJfaWQ9Ijk1MjEwNjQ3NTc5NDAzNDA3NDkiLAogICAgc2Nob2xhcj0iaHR0cDovL3NjaG9sYXIuZ29vZ2xlLmNvbS9zY2hvbGFyP2NpdGVzPTk1MjEwNjQ3NTc5NDAzNDA3NDkmYXNfc2R0PTIwMDUmc2Npb2R0PTAsNSZobD1lbiIsCiAgICBwbGFjZXg9IkluZm9ybWF0aWNzIChQQ0kpLCAyMDEwIDE0dGggUGFuaGVsbGVuaWMgQ29uZmVyZW5jZSBvbiIsCikpCgpEQihDaXRhdGlvbigKICAgIGRvdW5vczIwMTBhLCB3YWluYTIwMDFhLCByZWY9IiIsCiAgICBjb250ZXh0cz1bCgogICAgXSwKKSkKCicnJywgY2l0YXRpb25zPSd3YWluYTIwMDFhJyk7\"));\n",
       "    "
      ],
      "text/plain": [
       "<IPython.core.display.Javascript object>"
      ]
     },
     "metadata": {},
     "output_type": "display_data"
    },
    {
     "data": {
      "application/javascript": [
       "$('span:contains(\"# Temp\")').closest('.cell').remove();"
      ],
      "text/plain": [
       "<IPython.core.display.Javascript object>"
      ]
     },
     "metadata": {},
     "output_type": "display_data"
    },
    {
     "data": {
      "application/javascript": [
       "\n",
       "        $('span:contains(\"# Temp\")').closest('.cell').remove();\n",
       "        var code = IPython.notebook.insert_cell_below('code');\n",
       "        code.set_text(atob(\"IyBUZW1wCmluc2VydCgnJycKeWUyMDEwYSA9IERCKFdvcmtVbnJlbGF0ZWQoCiAgICAyMDEwLCAiQSBGYXN0IFZhcmlhYmxlIFByZWNpc2lvbiBUZW1wbGF0ZSBNYXRjaGluZyBBbGdvcml0aG0gQmFzZWQgb24gSHlicmlkIEdlbmV0aWMgQWxnb3JpdGhtIiwKICAgIGRpc3BsYXk9InllIiwKICAgIGF1dGhvcnM9IlllLCBNYW8teWkgYW5kIFlvdSwgRnUtY2hlbmciLAogICAgcGxhY2U9RkFLRSwKICAgIHBwPSIxLS0zIiwKICAgIGVudHJ5dHlwZT0iaW5wcm9jZWVkaW5ncyIsCiAgICBvcmdhbml6YXRpb249IklFRUUiLAogICAgSUQ9InllMjAxMGZhc3QiLAogICAgcGxhY2V4PSJNdWx0aW1lZGlhIFRlY2hub2xvZ3kgKElDTVQpLCAyMDEwIEludGVybmF0aW9uYWwgQ29uZmVyZW5jZSBvbiIsCikpCgpEQihDaXRhdGlvbigKICAgIHllMjAxMGEsIHdhaW5hMjAwMWEsIHJlZj0iIiwKICAgIGNvbnRleHRzPVsKCiAgICBdLAopKQoKJycnLCBjaXRhdGlvbnM9J3dhaW5hMjAwMWEnKTs=\"));\n",
       "    "
      ],
      "text/plain": [
       "<IPython.core.display.Javascript object>"
      ]
     },
     "metadata": {},
     "output_type": "display_data"
    },
    {
     "data": {
      "application/javascript": [
       "$('span:contains(\"# Temp\")').closest('.cell').remove();"
      ],
      "text/plain": [
       "<IPython.core.display.Javascript object>"
      ]
     },
     "metadata": {},
     "output_type": "display_data"
    },
    {
     "data": {
      "application/javascript": [
       "\n",
       "        $('span:contains(\"# Temp\")').closest('.cell').remove();\n",
       "        var code = IPython.notebook.insert_cell_below('code');\n",
       "        code.set_text(atob(\"IyBUZW1wCmluc2VydCgnJycKeWUyMDEwYSA9IERCKFdvcmtVbnJlbGF0ZWQoCiAgICAyMDEwLCAiQSBGYXN0IFZhcmlhYmxlIFByZWNpc2lvbiBUZW1wbGF0ZSBNYXRjaGluZyBBbGdvcml0aG0gQmFzZWQgb24gSHlicmlkIEdlbmV0aWMgQWxnb3JpdGhtIiwKICAgIGRpc3BsYXk9InllIiwKICAgIGF1dGhvcnM9IlllLCBNYW8teWkgYW5kIFlvdSwgRnUtY2hlbmciLAogICAgcGxhY2U9RkFLRSwKICAgIHBwPSIxLS0zIiwKICAgIGVudHJ5dHlwZT0iaW5wcm9jZWVkaW5ncyIsCiAgICBvcmdhbml6YXRpb249IklFRUUiLAogICAgSUQ9InllMjAxMGZhc3QiLAogICAgcGxhY2V4PSJNdWx0aW1lZGlhIFRlY2hub2xvZ3kgKElDTVQpLCAyMDEwIEludGVybmF0aW9uYWwgQ29uZmVyZW5jZSBvbiIsCikpCgpEQihDaXRhdGlvbigKICAgIHllMjAxMGEsIHdhaW5hMjAwMWEsIHJlZj0iIiwKICAgIGNvbnRleHRzPVsKCiAgICBdLAopKQoKJycnLCBjaXRhdGlvbnM9J3dhaW5hMjAwMWEnKTs=\"));\n",
       "    "
      ],
      "text/plain": [
       "<IPython.core.display.Javascript object>"
      ]
     },
     "metadata": {},
     "output_type": "display_data"
    }
   ],
   "source": [
    "manager"
   ]
  },
  {
   "cell_type": "code",
   "execution_count": 10,
   "metadata": {},
   "outputs": [
    {
     "name": "stdout",
     "output_type": "stream",
     "text": [
      "-Insert: ye2010a\n",
      "-Insert Import: ye2010a\n",
      "-Insert Citation: ye2010a -> waina2001a\n"
     ]
    }
   ],
   "source": [
    "# Temp\n",
    "insert('''\n",
    "ye2010a = DB(WorkUnrelated(\n",
    "    2010, \"A Fast Variable Precision Template Matching Algorithm Based on Hybrid Genetic Algorithm\",\n",
    "    display=\"ye\",\n",
    "    authors=\"Ye, Mao-yi and You, Fu-cheng\",\n",
    "    place=FAKE,\n",
    "    pp=\"1--3\",\n",
    "    entrytype=\"inproceedings\",\n",
    "    organization=\"IEEE\",\n",
    "    ID=\"ye2010fast\",\n",
    "    placex=\"Multimedia Technology (ICMT), 2010 International Conference on\",\n",
    "))\n",
    "\n",
    "DB(Citation(\n",
    "    ye2010a, waina2001a, ref=\"\",\n",
    "    contexts=[\n",
    "\n",
    "    ],\n",
    "))\n",
    "\n",
    "''', citations='waina2001a');"
   ]
  },
  {
   "cell_type": "code",
   "execution_count": null,
   "metadata": {
    "collapsed": true
   },
   "outputs": [],
   "source": []
  }
 ],
 "metadata": {
  "kernelspec": {
   "display_name": "Python 3",
   "language": "python",
   "name": "python3"
  },
  "language_info": {
   "codemirror_mode": {
    "name": "ipython",
    "version": 3
   },
   "file_extension": ".py",
   "mimetype": "text/x-python",
   "name": "python",
   "nbconvert_exporter": "python",
   "pygments_lexer": "ipython3",
   "version": "3.6.0"
  },
  "toc": {
   "nav_menu": {
    "height": "12px",
    "width": "252px"
   },
   "number_sections": true,
   "sideBar": true,
   "skip_h1_title": false,
   "toc_cell": false,
   "toc_position": {},
   "toc_section_display": "block",
   "toc_window_display": false
  }
 },
 "nbformat": 4,
 "nbformat_minor": 1
}
