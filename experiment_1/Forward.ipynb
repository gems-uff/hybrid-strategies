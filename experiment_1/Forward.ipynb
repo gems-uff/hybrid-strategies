{
 "cells": [
  {
   "cell_type": "code",
   "execution_count": 1,
   "metadata": {
    "collapsed": true
   },
   "outputs": [],
   "source": [
    "import database\n",
    "from snowballing.operations import load_work, reload, work_by_varname\n",
    "from snowballing.selenium_scholar import SeleniumScholarQuerier\n",
    "from snowballing.snowballing import ForwardSnowballing\n",
    "from snowballing.dbmanager import insert, set_attribute\n",
    "from custom_snowballing import UnrelatedForward"
   ]
  },
  {
   "cell_type": "code",
   "execution_count": 2,
   "metadata": {
    "collapsed": true
   },
   "outputs": [],
   "source": [
    "querier = SeleniumScholarQuerier()"
   ]
  },
  {
   "cell_type": "code",
   "execution_count": 3,
   "metadata": {
    "scrolled": true
   },
   "outputs": [
    {
     "name": "stderr",
     "output_type": "stream",
     "text": [
      "[ INFO]  settings applied\n"
     ]
    }
   ],
   "source": [
    "querier.apply_settings(20, 4);"
   ]
  },
  {
   "cell_type": "code",
   "execution_count": 4,
   "metadata": {},
   "outputs": [
    {
     "name": "stdout",
     "output_type": "stream",
     "text": [
      "Captcha: ok\n"
     ]
    }
   ],
   "source": [
    "#manager = ForwardSnowballing(querier, \"mendes2004a\", start=60)\n",
    "import importlib\n",
    "import custom_snowballing\n",
    "importlib.reload(custom_snowballing)\n",
    "from custom_snowballing import UnrelatedForward\n",
    "manager = UnrelatedForward(querier, \"basili2010a\", start=0)"
   ]
  },
  {
   "cell_type": "code",
   "execution_count": null,
   "metadata": {
    "collapsed": true
   },
   "outputs": [],
   "source": []
  },
  {
   "cell_type": "code",
   "execution_count": null,
   "metadata": {
    "collapsed": true
   },
   "outputs": [],
   "source": []
  },
  {
   "cell_type": "code",
   "execution_count": 5,
   "metadata": {
    "scrolled": true
   },
   "outputs": [
    {
     "data": {
      "application/vnd.jupyter.widget-view+json": {
       "model_id": "d4e1fb00705c4d71814810d768a6b9a4",
       "version_major": 2,
       "version_minor": 0
      },
      "text/html": [
       "<p>Failed to display Jupyter Widget of type <code>Tab</code>.</p>\n",
       "<p>\n",
       "  If you're reading this message in Jupyter Notebook or JupyterLab, it may mean\n",
       "  that the widgets JavaScript is still loading. If this message persists, it\n",
       "  likely means that the widgets JavaScript library is either not installed or\n",
       "  not enabled. See the <a href=\"https://ipywidgets.readthedocs.io/en/stable/user_install.html\">Jupyter\n",
       "  Widgets Documentation</a> for setup instructions.\n",
       "</p>\n",
       "<p>\n",
       "  If you're reading this message in another notebook frontend (for example, a static\n",
       "  rendering on GitHub or <a href=\"https://nbviewer.jupyter.org/\">NBViewer</a>),\n",
       "  it may mean that your frontend doesn't currently support widgets.\n",
       "</p>\n"
      ],
      "text/plain": [
       "Tab(children=(VBox(children=(HBox(children=(Button(description='Previous Page', disabled=True, icon='arrow-left', style=ButtonStyle()), Button(description='Reload', icon='refresh', style=ButtonStyle()), Button(description='Next Page', icon='arrow-right', style=ButtonStyle()), ToggleButton(value=False, description='Debug'), Label(value=''))), Output(outputs=({'output_type': 'stream', 'text': \"Ops. It requires a captcha!\\nIf you filled in the browser, type '<ok>' here.\\n\", 'name': 'stdout'}, {'output_type': 'stream', 'text': '[ERROR]  requesting citation data failed: Message: The element reference of <div id=\"recaptcha\" class=\"g-recaptcha\"> is stale; either the element is no longer attached to the DOM, it is not in the current frame context, or the document has been refreshed\\n\\n', 'name': 'stderr'}, {'output_type': 'error', 'ename': 'TypeError', 'evalue': \"object of type 'NoneType' has no len()\", 'traceback': ['\\x1b[1;31m---------------------------------------------------------------------------\\x1b[0m', '\\x1b[1;31mTypeError\\x1b[0m                                 Traceback (most recent call last)', '\\x1b[1;32mc:\\\\erica\\\\snowballing\\\\snowballing\\\\snowballing.py\\x1b[0m in \\x1b[0;36mreload\\x1b[1;34m(self, b, show)\\x1b[0m\\n\\x1b[0;32m    620\\x1b[0m         \\x1b[1;32mwith\\x1b[0m \\x1b[0mself\\x1b[0m\\x1b[1;33m.\\x1b[0m\\x1b[0mnavigator\\x1b[0m\\x1b[1;33m.\\x1b[0m\\x1b[0moutput_widget\\x1b[0m\\x1b[1;33m:\\x1b[0m\\x1b[1;33m\\x1b[0m\\x1b[0m\\n\\x1b[0;32m    621\\x1b[0m             \\x1b[0mself\\x1b[0m\\x1b[1;33m.\\x1b[0m\\x1b[0mquerier\\x1b[0m\\x1b[1;33m.\\x1b[0m\\x1b[0mtasks\\x1b[0m\\x1b[1;33m.\\x1b[0m\\x1b[0mclear\\x1b[0m\\x1b[1;33m(\\x1b[0m\\x1b[1;33m)\\x1b[0m\\x1b[1;33m\\x1b[0m\\x1b[0m\\n\\x1b[1;32m--> 622\\x1b[1;33m             \\x1b[0mself\\x1b[0m\\x1b[1;33m.\\x1b[0m\\x1b[0mquerier\\x1b[0m\\x1b[1;33m.\\x1b[0m\\x1b[0msend_query\\x1b[0m\\x1b[1;33m(\\x1b[0m\\x1b[0mself\\x1b[0m\\x1b[1;33m.\\x1b[0m\\x1b[0mquery\\x1b[0m\\x1b[1;33m)\\x1b[0m\\x1b[1;33m\\x1b[0m\\x1b[0m\\n\\x1b[0m\\x1b[0;32m    623\\x1b[0m             self.page_number_widget.value = parse_qs(urlparse(\\n\\x1b[0;32m    624\\x1b[0m                 self.query.get_url()).query\\n', '\\x1b[1;32mc:\\\\erica\\\\snowballing\\\\snowballing\\\\selenium_scholar.py\\x1b[0m in \\x1b[0;36msend_query\\x1b[1;34m(self, query)\\x1b[0m\\n\\x1b[0;32m    483\\x1b[0m         \\x1b[1;34m\"\"\"Initiates a search query (a ScholarQuery instance)\"\"\"\\x1b[0m\\x1b[1;33m\\x1b[0m\\x1b[0m\\n\\x1b[0;32m    484\\x1b[0m         \\x1b[0mself\\x1b[0m\\x1b[1;33m.\\x1b[0m\\x1b[0mtasks\\x1b[0m\\x1b[1;33m.\\x1b[0m\\x1b[0mappend\\x1b[0m\\x1b[1;33m(\\x1b[0m\\x1b[0mQueryTask\\x1b[0m\\x1b[1;33m(\\x1b[0m\\x1b[0mquery\\x1b[0m\\x1b[1;33m)\\x1b[0m\\x1b[1;33m)\\x1b[0m\\x1b[1;33m\\x1b[0m\\x1b[0m\\n\\x1b[1;32m--> 485\\x1b[1;33m         \\x1b[0mself\\x1b[0m\\x1b[1;33m.\\x1b[0m\\x1b[0mcontinue_tasks\\x1b[0m\\x1b[1;33m(\\x1b[0m\\x1b[1;33m)\\x1b[0m\\x1b[1;33m\\x1b[0m\\x1b[0m\\n\\x1b[0m\\x1b[0;32m    486\\x1b[0m         \\x1b[1;32mreturn\\x1b[0m \\x1b[0mself\\x1b[0m\\x1b[1;33m\\x1b[0m\\x1b[0m\\n\\x1b[0;32m    487\\x1b[0m \\x1b[1;33m\\x1b[0m\\x1b[0m\\n', '\\x1b[1;32mc:\\\\erica\\\\snowballing\\\\snowballing\\\\selenium_scholar.py\\x1b[0m in \\x1b[0;36mcontinue_tasks\\x1b[1;34m(self)\\x1b[0m\\n\\x1b[0;32m    469\\x1b[0m         \\x1b[1;32mwhile\\x1b[0m \\x1b[0mself\\x1b[0m\\x1b[1;33m.\\x1b[0m\\x1b[0mtasks\\x1b[0m\\x1b[1;33m:\\x1b[0m\\x1b[1;33m\\x1b[0m\\x1b[0m\\n\\x1b[0;32m    470\\x1b[0m             \\x1b[0mtask\\x1b[0m \\x1b[1;33m=\\x1b[0m \\x1b[0mself\\x1b[0m\\x1b[1;33m.\\x1b[0m\\x1b[0mtasks\\x1b[0m\\x1b[1;33m.\\x1b[0m\\x1b[0mpopleft\\x1b[0m\\x1b[1;33m(\\x1b[0m\\x1b[1;33m)\\x1b[0m\\x1b[1;33m\\x1b[0m\\x1b[0m\\n\\x1b[1;32m--> 471\\x1b[1;33m             \\x1b[0mtask\\x1b[0m\\x1b[1;33m.\\x1b[0m\\x1b[0mapply\\x1b[0m\\x1b[1;33m(\\x1b[0m\\x1b[0mself\\x1b[0m\\x1b[1;33m)\\x1b[0m\\x1b[1;33m\\x1b[0m\\x1b[0m\\n\\x1b[0m\\x1b[0;32m    472\\x1b[0m         \\x1b[1;32mif\\x1b[0m \\x1b[0mself\\x1b[0m\\x1b[1;33m.\\x1b[0m\\x1b[0mresult\\x1b[0m\\x1b[1;33m:\\x1b[0m\\x1b[1;33m\\x1b[0m\\x1b[0m\\n\\x1b[0;32m    473\\x1b[0m             \\x1b[0mself\\x1b[0m\\x1b[1;33m.\\x1b[0m\\x1b[0marticles\\x1b[0m \\x1b[1;33m=\\x1b[0m \\x1b[0mself\\x1b[0m\\x1b[1;33m.\\x1b[0m\\x1b[0mresult\\x1b[0m\\x1b[1;33m.\\x1b[0m\\x1b[0marticles\\x1b[0m\\x1b[1;33m\\x1b[0m\\x1b[0m\\n', \"\\x1b[1;32mc:\\\\erica\\\\snowballing\\\\snowballing\\\\selenium_scholar.py\\x1b[0m in \\x1b[0;36mapply\\x1b[1;34m(self, querier)\\x1b[0m\\n\\x1b[0;32m    152\\x1b[0m     \\x1b[1;32mdef\\x1b[0m \\x1b[0mapply\\x1b[0m\\x1b[1;33m(\\x1b[0m\\x1b[0mself\\x1b[0m\\x1b[1;33m,\\x1b[0m \\x1b[0mquerier\\x1b[0m\\x1b[1;33m)\\x1b[0m\\x1b[1;33m:\\x1b[0m\\x1b[1;33m\\x1b[0m\\x1b[0m\\n\\x1b[0;32m    153\\x1b[0m         \\x1b[1;32mif\\x1b[0m \\x1b[0mlen\\x1b[0m\\x1b[1;33m(\\x1b[0m\\x1b[0mself\\x1b[0m\\x1b[1;33m.\\x1b[0m\\x1b[0mresult\\x1b[0m\\x1b[1;33m.\\x1b[0m\\x1b[0marticles\\x1b[0m\\x1b[1;33m)\\x1b[0m \\x1b[1;33m<\\x1b[0m \\x1b[0mgetattr\\x1b[0m\\x1b[1;33m(\\x1b[0m\\x1b[0mself\\x1b[0m\\x1b[1;33m.\\x1b[0m\\x1b[0mresult\\x1b[0m\\x1b[1;33m.\\x1b[0m\\x1b[0mquery\\x1b[0m\\x1b[1;33m,\\x1b[0m \\x1b[1;34m'num_results'\\x1b[0m\\x1b[1;33m,\\x1b[0m \\x1b[1;36m10000\\x1b[0m\\x1b[1;33m)\\x1b[0m\\x1b[1;33m:\\x1b[0m\\x1b[1;33m\\x1b[0m\\x1b[0m\\n\\x1b[1;32m--> 154\\x1b[1;33m             \\x1b[0mself\\x1b[0m\\x1b[1;33m.\\x1b[0m\\x1b[0mget_citation_data\\x1b[0m\\x1b[1;33m(\\x1b[0m\\x1b[0mquerier\\x1b[0m\\x1b[1;33m)\\x1b[0m\\x1b[1;33m\\x1b[0m\\x1b[0m\\n\\x1b[0m\\x1b[0;32m    155\\x1b[0m             \\x1b[0mself\\x1b[0m\\x1b[1;33m.\\x1b[0m\\x1b[0mresult\\x1b[0m\\x1b[1;33m.\\x1b[0m\\x1b[0marticles\\x1b[0m\\x1b[1;33m.\\x1b[0m\\x1b[0mappend\\x1b[0m\\x1b[1;33m(\\x1b[0m\\x1b[0mself\\x1b[0m\\x1b[1;33m.\\x1b[0m\\x1b[0marticle\\x1b[0m\\x1b[1;33m)\\x1b[0m\\x1b[1;33m\\x1b[0m\\x1b[0m\\n\\x1b[0;32m    156\\x1b[0m \\x1b[1;33m\\x1b[0m\\x1b[0m\\n\", '\\x1b[1;32mc:\\\\erica\\\\snowballing\\\\snowballing\\\\selenium_scholar.py\\x1b[0m in \\x1b[0;36mget_citation_data\\x1b[1;34m(self, querier)\\x1b[0m\\n\\x1b[0;32m    141\\x1b[0m                                     \\x1b[0merr_msg\\x1b[0m\\x1b[1;33m=\\x1b[0m\\x1b[1;34m\\'requesting citation data failed\\'\\x1b[0m\\x1b[1;33m,\\x1b[0m\\x1b[1;33m\\x1b[0m\\x1b[0m\\n\\x1b[0;32m    142\\x1b[0m                                     condition=(By.TAG_NAME, \\'pre\\'))\\n\\x1b[1;32m--> 143\\x1b[1;33m         \\x1b[0msoup\\x1b[0m \\x1b[1;33m=\\x1b[0m \\x1b[0mBeautifulSoup\\x1b[0m\\x1b[1;33m(\\x1b[0m\\x1b[0mdata\\x1b[0m\\x1b[1;33m,\\x1b[0m \\x1b[1;34m\"html.parser\"\\x1b[0m\\x1b[1;33m)\\x1b[0m\\x1b[1;33m\\x1b[0m\\x1b[0m\\n\\x1b[0m\\x1b[0;32m    144\\x1b[0m         \\x1b[0mdata\\x1b[0m \\x1b[1;33m=\\x1b[0m \\x1b[0msoup\\x1b[0m\\x1b[1;33m.\\x1b[0m\\x1b[0mtext\\x1b[0m\\x1b[1;33m\\x1b[0m\\x1b[0m\\n\\x1b[0;32m    145\\x1b[0m         \\x1b[1;32mif\\x1b[0m \\x1b[0mdata\\x1b[0m \\x1b[1;32mis\\x1b[0m \\x1b[1;32mNone\\x1b[0m\\x1b[1;33m:\\x1b[0m\\x1b[1;33m\\x1b[0m\\x1b[0m\\n', \"\\x1b[1;32mC:\\\\ProgramData\\\\Anaconda3\\\\lib\\\\site-packages\\\\bs4\\\\__init__.py\\x1b[0m in \\x1b[0;36m__init__\\x1b[1;34m(self, markup, features, builder, parse_only, from_encoding, exclude_encodings, **kwargs)\\x1b[0m\\n\\x1b[0;32m    190\\x1b[0m         \\x1b[1;32mif\\x1b[0m \\x1b[0mhasattr\\x1b[0m\\x1b[1;33m(\\x1b[0m\\x1b[0mmarkup\\x1b[0m\\x1b[1;33m,\\x1b[0m \\x1b[1;34m'read'\\x1b[0m\\x1b[1;33m)\\x1b[0m\\x1b[1;33m:\\x1b[0m        \\x1b[1;31m# It's a file-type object.\\x1b[0m\\x1b[1;33m\\x1b[0m\\x1b[0m\\n\\x1b[0;32m    191\\x1b[0m             \\x1b[0mmarkup\\x1b[0m \\x1b[1;33m=\\x1b[0m \\x1b[0mmarkup\\x1b[0m\\x1b[1;33m.\\x1b[0m\\x1b[0mread\\x1b[0m\\x1b[1;33m(\\x1b[0m\\x1b[1;33m)\\x1b[0m\\x1b[1;33m\\x1b[0m\\x1b[0m\\n\\x1b[1;32m--> 192\\x1b[1;33m         elif len(markup) <= 256 and (\\n\\x1b[0m\\x1b[0;32m    193\\x1b[0m                 \\x1b[1;33m(\\x1b[0m\\x1b[0misinstance\\x1b[0m\\x1b[1;33m(\\x1b[0m\\x1b[0mmarkup\\x1b[0m\\x1b[1;33m,\\x1b[0m \\x1b[0mbytes\\x1b[0m\\x1b[1;33m)\\x1b[0m \\x1b[1;32mand\\x1b[0m \\x1b[1;32mnot\\x1b[0m \\x1b[1;34mb'<'\\x1b[0m \\x1b[1;32min\\x1b[0m \\x1b[0mmarkup\\x1b[0m\\x1b[1;33m)\\x1b[0m\\x1b[1;33m\\x1b[0m\\x1b[0m\\n\\x1b[0;32m    194\\x1b[0m                 \\x1b[1;32mor\\x1b[0m \\x1b[1;33m(\\x1b[0m\\x1b[0misinstance\\x1b[0m\\x1b[1;33m(\\x1b[0m\\x1b[0mmarkup\\x1b[0m\\x1b[1;33m,\\x1b[0m \\x1b[0mstr\\x1b[0m\\x1b[1;33m)\\x1b[0m \\x1b[1;32mand\\x1b[0m \\x1b[1;32mnot\\x1b[0m \\x1b[1;34m'<'\\x1b[0m \\x1b[1;32min\\x1b[0m \\x1b[0mmarkup\\x1b[0m\\x1b[1;33m)\\x1b[0m\\x1b[1;33m\\x1b[0m\\x1b[0m\\n\", \"\\x1b[1;31mTypeError\\x1b[0m: object of type 'NoneType' has no len()\"]})))), VBox(children=(HBox(children=(Button(description='Previous Article', disabled=True, icon='caret-left', style=ButtonStyle()), Button(description='Reload Article', icon='refresh', style=ButtonStyle()), Button(description='Next Article', disabled=True, icon='caret-right', style=ButtonStyle()))), HBox(children=(Button(description='Unrelated: Scripts', style=ButtonStyle()), Button(description='Unrelated: Provenance', style=ButtonStyle()), Button(description='Both', style=ButtonStyle()), Button(description='Ok', style=ButtonStyle()))), HBox(children=(Dropdown(description='Type', index=5, options=('Work', 'WorkSnowball', 'WorkForward', 'WorkBackward', 'WorkOk', 'WorkUnrelated', 'WorkNoFile', 'WorkLang', 'Site', 'Email'), value='WorkUnrelated'), ToggleButton(value=False, description='File'))), HBox(children=(Text(value='', description='Due'), Text(value='', description='Place'))), HBox(children=(Text(value='', description='Year'), Text(value='', description='Prefix Var'))), HBox(children=(Text(value='', description='PDFPage'), Text(value='', description='Related'))), HBox(children=(Text(value='', description='Display'), Text(value='', description='Summary'))), HBox(children=(Text(value='', description='Star'), Text(value='', description='Link'))), HBox(children=(Button(description='Reload Article', icon='refresh', style=ButtonStyle()), IntSlider(value=0, max=0), Label(value='0/0'))), Output(outputs=({'output_type': 'stream', 'text': \"Ops. It requires a captcha!\\nIf you filled in the browser, type '<ok>' here.\\n\", 'name': 'stdout'}, {'output_type': 'stream', 'text': '[ERROR]  requesting citation data failed: Message: The element reference of <div id=\"recaptcha\" class=\"g-recaptcha\"> is stale; either the element is no longer attached to the DOM, it is not in the current frame context, or the document has been refreshed\\n\\n', 'name': 'stderr'}, {'output_type': 'error', 'ename': 'TypeError', 'evalue': \"object of type 'NoneType' has no len()\", 'traceback': ['\\x1b[1;31m---------------------------------------------------------------------------\\x1b[0m', '\\x1b[1;31mTypeError\\x1b[0m                                 Traceback (most recent call last)', '\\x1b[1;32mc:\\\\erica\\\\snowballing\\\\snowballing\\\\snowballing.py\\x1b[0m in \\x1b[0;36mreload\\x1b[1;34m(self, b, show)\\x1b[0m\\n\\x1b[0;32m    620\\x1b[0m         \\x1b[1;32mwith\\x1b[0m \\x1b[0mself\\x1b[0m\\x1b[1;33m.\\x1b[0m\\x1b[0mnavigator\\x1b[0m\\x1b[1;33m.\\x1b[0m\\x1b[0moutput_widget\\x1b[0m\\x1b[1;33m:\\x1b[0m\\x1b[1;33m\\x1b[0m\\x1b[0m\\n\\x1b[0;32m    621\\x1b[0m             \\x1b[0mself\\x1b[0m\\x1b[1;33m.\\x1b[0m\\x1b[0mquerier\\x1b[0m\\x1b[1;33m.\\x1b[0m\\x1b[0mtasks\\x1b[0m\\x1b[1;33m.\\x1b[0m\\x1b[0mclear\\x1b[0m\\x1b[1;33m(\\x1b[0m\\x1b[1;33m)\\x1b[0m\\x1b[1;33m\\x1b[0m\\x1b[0m\\n\\x1b[1;32m--> 622\\x1b[1;33m             \\x1b[0mself\\x1b[0m\\x1b[1;33m.\\x1b[0m\\x1b[0mquerier\\x1b[0m\\x1b[1;33m.\\x1b[0m\\x1b[0msend_query\\x1b[0m\\x1b[1;33m(\\x1b[0m\\x1b[0mself\\x1b[0m\\x1b[1;33m.\\x1b[0m\\x1b[0mquery\\x1b[0m\\x1b[1;33m)\\x1b[0m\\x1b[1;33m\\x1b[0m\\x1b[0m\\n\\x1b[0m\\x1b[0;32m    623\\x1b[0m             self.page_number_widget.value = parse_qs(urlparse(\\n\\x1b[0;32m    624\\x1b[0m                 self.query.get_url()).query\\n', '\\x1b[1;32mc:\\\\erica\\\\snowballing\\\\snowballing\\\\selenium_scholar.py\\x1b[0m in \\x1b[0;36msend_query\\x1b[1;34m(self, query)\\x1b[0m\\n\\x1b[0;32m    483\\x1b[0m         \\x1b[1;34m\"\"\"Initiates a search query (a ScholarQuery instance)\"\"\"\\x1b[0m\\x1b[1;33m\\x1b[0m\\x1b[0m\\n\\x1b[0;32m    484\\x1b[0m         \\x1b[0mself\\x1b[0m\\x1b[1;33m.\\x1b[0m\\x1b[0mtasks\\x1b[0m\\x1b[1;33m.\\x1b[0m\\x1b[0mappend\\x1b[0m\\x1b[1;33m(\\x1b[0m\\x1b[0mQueryTask\\x1b[0m\\x1b[1;33m(\\x1b[0m\\x1b[0mquery\\x1b[0m\\x1b[1;33m)\\x1b[0m\\x1b[1;33m)\\x1b[0m\\x1b[1;33m\\x1b[0m\\x1b[0m\\n\\x1b[1;32m--> 485\\x1b[1;33m         \\x1b[0mself\\x1b[0m\\x1b[1;33m.\\x1b[0m\\x1b[0mcontinue_tasks\\x1b[0m\\x1b[1;33m(\\x1b[0m\\x1b[1;33m)\\x1b[0m\\x1b[1;33m\\x1b[0m\\x1b[0m\\n\\x1b[0m\\x1b[0;32m    486\\x1b[0m         \\x1b[1;32mreturn\\x1b[0m \\x1b[0mself\\x1b[0m\\x1b[1;33m\\x1b[0m\\x1b[0m\\n\\x1b[0;32m    487\\x1b[0m \\x1b[1;33m\\x1b[0m\\x1b[0m\\n', '\\x1b[1;32mc:\\\\erica\\\\snowballing\\\\snowballing\\\\selenium_scholar.py\\x1b[0m in \\x1b[0;36mcontinue_tasks\\x1b[1;34m(self)\\x1b[0m\\n\\x1b[0;32m    469\\x1b[0m         \\x1b[1;32mwhile\\x1b[0m \\x1b[0mself\\x1b[0m\\x1b[1;33m.\\x1b[0m\\x1b[0mtasks\\x1b[0m\\x1b[1;33m:\\x1b[0m\\x1b[1;33m\\x1b[0m\\x1b[0m\\n\\x1b[0;32m    470\\x1b[0m             \\x1b[0mtask\\x1b[0m \\x1b[1;33m=\\x1b[0m \\x1b[0mself\\x1b[0m\\x1b[1;33m.\\x1b[0m\\x1b[0mtasks\\x1b[0m\\x1b[1;33m.\\x1b[0m\\x1b[0mpopleft\\x1b[0m\\x1b[1;33m(\\x1b[0m\\x1b[1;33m)\\x1b[0m\\x1b[1;33m\\x1b[0m\\x1b[0m\\n\\x1b[1;32m--> 471\\x1b[1;33m             \\x1b[0mtask\\x1b[0m\\x1b[1;33m.\\x1b[0m\\x1b[0mapply\\x1b[0m\\x1b[1;33m(\\x1b[0m\\x1b[0mself\\x1b[0m\\x1b[1;33m)\\x1b[0m\\x1b[1;33m\\x1b[0m\\x1b[0m\\n\\x1b[0m\\x1b[0;32m    472\\x1b[0m         \\x1b[1;32mif\\x1b[0m \\x1b[0mself\\x1b[0m\\x1b[1;33m.\\x1b[0m\\x1b[0mresult\\x1b[0m\\x1b[1;33m:\\x1b[0m\\x1b[1;33m\\x1b[0m\\x1b[0m\\n\\x1b[0;32m    473\\x1b[0m             \\x1b[0mself\\x1b[0m\\x1b[1;33m.\\x1b[0m\\x1b[0marticles\\x1b[0m \\x1b[1;33m=\\x1b[0m \\x1b[0mself\\x1b[0m\\x1b[1;33m.\\x1b[0m\\x1b[0mresult\\x1b[0m\\x1b[1;33m.\\x1b[0m\\x1b[0marticles\\x1b[0m\\x1b[1;33m\\x1b[0m\\x1b[0m\\n', \"\\x1b[1;32mc:\\\\erica\\\\snowballing\\\\snowballing\\\\selenium_scholar.py\\x1b[0m in \\x1b[0;36mapply\\x1b[1;34m(self, querier)\\x1b[0m\\n\\x1b[0;32m    152\\x1b[0m     \\x1b[1;32mdef\\x1b[0m \\x1b[0mapply\\x1b[0m\\x1b[1;33m(\\x1b[0m\\x1b[0mself\\x1b[0m\\x1b[1;33m,\\x1b[0m \\x1b[0mquerier\\x1b[0m\\x1b[1;33m)\\x1b[0m\\x1b[1;33m:\\x1b[0m\\x1b[1;33m\\x1b[0m\\x1b[0m\\n\\x1b[0;32m    153\\x1b[0m         \\x1b[1;32mif\\x1b[0m \\x1b[0mlen\\x1b[0m\\x1b[1;33m(\\x1b[0m\\x1b[0mself\\x1b[0m\\x1b[1;33m.\\x1b[0m\\x1b[0mresult\\x1b[0m\\x1b[1;33m.\\x1b[0m\\x1b[0marticles\\x1b[0m\\x1b[1;33m)\\x1b[0m \\x1b[1;33m<\\x1b[0m \\x1b[0mgetattr\\x1b[0m\\x1b[1;33m(\\x1b[0m\\x1b[0mself\\x1b[0m\\x1b[1;33m.\\x1b[0m\\x1b[0mresult\\x1b[0m\\x1b[1;33m.\\x1b[0m\\x1b[0mquery\\x1b[0m\\x1b[1;33m,\\x1b[0m \\x1b[1;34m'num_results'\\x1b[0m\\x1b[1;33m,\\x1b[0m \\x1b[1;36m10000\\x1b[0m\\x1b[1;33m)\\x1b[0m\\x1b[1;33m:\\x1b[0m\\x1b[1;33m\\x1b[0m\\x1b[0m\\n\\x1b[1;32m--> 154\\x1b[1;33m             \\x1b[0mself\\x1b[0m\\x1b[1;33m.\\x1b[0m\\x1b[0mget_citation_data\\x1b[0m\\x1b[1;33m(\\x1b[0m\\x1b[0mquerier\\x1b[0m\\x1b[1;33m)\\x1b[0m\\x1b[1;33m\\x1b[0m\\x1b[0m\\n\\x1b[0m\\x1b[0;32m    155\\x1b[0m             \\x1b[0mself\\x1b[0m\\x1b[1;33m.\\x1b[0m\\x1b[0mresult\\x1b[0m\\x1b[1;33m.\\x1b[0m\\x1b[0marticles\\x1b[0m\\x1b[1;33m.\\x1b[0m\\x1b[0mappend\\x1b[0m\\x1b[1;33m(\\x1b[0m\\x1b[0mself\\x1b[0m\\x1b[1;33m.\\x1b[0m\\x1b[0marticle\\x1b[0m\\x1b[1;33m)\\x1b[0m\\x1b[1;33m\\x1b[0m\\x1b[0m\\n\\x1b[0;32m    156\\x1b[0m \\x1b[1;33m\\x1b[0m\\x1b[0m\\n\", '\\x1b[1;32mc:\\\\erica\\\\snowballing\\\\snowballing\\\\selenium_scholar.py\\x1b[0m in \\x1b[0;36mget_citation_data\\x1b[1;34m(self, querier)\\x1b[0m\\n\\x1b[0;32m    141\\x1b[0m                                     \\x1b[0merr_msg\\x1b[0m\\x1b[1;33m=\\x1b[0m\\x1b[1;34m\\'requesting citation data failed\\'\\x1b[0m\\x1b[1;33m,\\x1b[0m\\x1b[1;33m\\x1b[0m\\x1b[0m\\n\\x1b[0;32m    142\\x1b[0m                                     condition=(By.TAG_NAME, \\'pre\\'))\\n\\x1b[1;32m--> 143\\x1b[1;33m         \\x1b[0msoup\\x1b[0m \\x1b[1;33m=\\x1b[0m \\x1b[0mBeautifulSoup\\x1b[0m\\x1b[1;33m(\\x1b[0m\\x1b[0mdata\\x1b[0m\\x1b[1;33m,\\x1b[0m \\x1b[1;34m\"html.parser\"\\x1b[0m\\x1b[1;33m)\\x1b[0m\\x1b[1;33m\\x1b[0m\\x1b[0m\\n\\x1b[0m\\x1b[0;32m    144\\x1b[0m         \\x1b[0mdata\\x1b[0m \\x1b[1;33m=\\x1b[0m \\x1b[0msoup\\x1b[0m\\x1b[1;33m.\\x1b[0m\\x1b[0mtext\\x1b[0m\\x1b[1;33m\\x1b[0m\\x1b[0m\\n\\x1b[0;32m    145\\x1b[0m         \\x1b[1;32mif\\x1b[0m \\x1b[0mdata\\x1b[0m \\x1b[1;32mis\\x1b[0m \\x1b[1;32mNone\\x1b[0m\\x1b[1;33m:\\x1b[0m\\x1b[1;33m\\x1b[0m\\x1b[0m\\n', \"\\x1b[1;32mC:\\\\ProgramData\\\\Anaconda3\\\\lib\\\\site-packages\\\\bs4\\\\__init__.py\\x1b[0m in \\x1b[0;36m__init__\\x1b[1;34m(self, markup, features, builder, parse_only, from_encoding, exclude_encodings, **kwargs)\\x1b[0m\\n\\x1b[0;32m    190\\x1b[0m         \\x1b[1;32mif\\x1b[0m \\x1b[0mhasattr\\x1b[0m\\x1b[1;33m(\\x1b[0m\\x1b[0mmarkup\\x1b[0m\\x1b[1;33m,\\x1b[0m \\x1b[1;34m'read'\\x1b[0m\\x1b[1;33m)\\x1b[0m\\x1b[1;33m:\\x1b[0m        \\x1b[1;31m# It's a file-type object.\\x1b[0m\\x1b[1;33m\\x1b[0m\\x1b[0m\\n\\x1b[0;32m    191\\x1b[0m             \\x1b[0mmarkup\\x1b[0m \\x1b[1;33m=\\x1b[0m \\x1b[0mmarkup\\x1b[0m\\x1b[1;33m.\\x1b[0m\\x1b[0mread\\x1b[0m\\x1b[1;33m(\\x1b[0m\\x1b[1;33m)\\x1b[0m\\x1b[1;33m\\x1b[0m\\x1b[0m\\n\\x1b[1;32m--> 192\\x1b[1;33m         elif len(markup) <= 256 and (\\n\\x1b[0m\\x1b[0;32m    193\\x1b[0m                 \\x1b[1;33m(\\x1b[0m\\x1b[0misinstance\\x1b[0m\\x1b[1;33m(\\x1b[0m\\x1b[0mmarkup\\x1b[0m\\x1b[1;33m,\\x1b[0m \\x1b[0mbytes\\x1b[0m\\x1b[1;33m)\\x1b[0m \\x1b[1;32mand\\x1b[0m \\x1b[1;32mnot\\x1b[0m \\x1b[1;34mb'<'\\x1b[0m \\x1b[1;32min\\x1b[0m \\x1b[0mmarkup\\x1b[0m\\x1b[1;33m)\\x1b[0m\\x1b[1;33m\\x1b[0m\\x1b[0m\\n\\x1b[0;32m    194\\x1b[0m                 \\x1b[1;32mor\\x1b[0m \\x1b[1;33m(\\x1b[0m\\x1b[0misinstance\\x1b[0m\\x1b[1;33m(\\x1b[0m\\x1b[0mmarkup\\x1b[0m\\x1b[1;33m,\\x1b[0m \\x1b[0mstr\\x1b[0m\\x1b[1;33m)\\x1b[0m \\x1b[1;32mand\\x1b[0m \\x1b[1;32mnot\\x1b[0m \\x1b[1;34m'<'\\x1b[0m \\x1b[1;32min\\x1b[0m \\x1b[0mmarkup\\x1b[0m\\x1b[1;33m)\\x1b[0m\\x1b[1;33m\\x1b[0m\\x1b[0m\\n\", \"\\x1b[1;31mTypeError\\x1b[0m: object of type 'NoneType' has no len()\"]}))))), _titles={'0': 'Page', '1': 'Article'})"
      ]
     },
     "metadata": {},
     "output_type": "display_data"
    },
    {
     "data": {
      "application/javascript": [
       "$('span:contains(\"# Temp\")').closest('.cell').remove();"
      ],
      "text/plain": [
       "<IPython.core.display.Javascript object>"
      ]
     },
     "metadata": {},
     "output_type": "display_data"
    },
    {
     "data": {
      "application/javascript": [
       "\n",
       "        $('span:contains(\"# Temp\")').closest('.cell').remove();\n",
       "        var code = IPython.notebook.insert_cell_below('code');\n",
       "        code.set_text(atob(\"IyBUZW1wCmluc2VydCgnJycKd2FsbGFjZTIwMTRhID0gREIoV29ya1VucmVsYXRlZCgKICAgIDIwMTQsICJUaGUgYWRvcHRpb24gb2Ygc29mdHdhcmUgbWVhc3VyZXM6IEEgdGVjaG5vbG9neSBhY2NlcHRhbmNlIG1vZGVsIChUQU0pIHBlcnNwZWN0aXZlIiwKICAgIGRpc3BsYXk9IndhbGxhY2UiLAogICAgYXV0aG9ycz0iV2FsbGFjZSwgTGluZGEgRyBhbmQgU2hlZXR6LCBTdGV2ZW4gRCIsCiAgICBwbGFjZT1GQUtFLAogICAgcHA9IjI0OS0tMjU5IiwKICAgIGVudHJ5dHlwZT0iYXJ0aWNsZSIsCiAgICB2b2x1bWU9IjUxIiwKICAgIG51bWJlcj0iMiIsCiAgICBwdWJsaXNoZXI9IkVsc2V2aWVyIiwKICAgIElEPSJ3YWxsYWNlMjAxNGFkb3B0aW9uIiwKICAgIGNsdXN0ZXJfaWQ9Ijk4ODA1MjA0NTM5NzI3OTA5ODMiLAogICAgc2Nob2xhcj0iaHR0cDovL3NjaG9sYXIuZ29vZ2xlLmNvbS9zY2hvbGFyP2NpdGVzPTk4ODA1MjA0NTM5NzI3OTA5ODMmYXNfc2R0PTIwMDUmc2Npb2R0PTAsNSZobD1lbiIsCiAgICBwbGFjZXg9IkluZm9ybWF0aW9uICYgTWFuYWdlbWVudCIsCikpCgpEQihDaXRhdGlvbigKICAgIHdhbGxhY2UyMDE0YSwgYmFzaWxpMjAxMGEsIHJlZj0iIiwKICAgIGNvbnRleHRzPVsKCiAgICBdLAopKQoKJycnLCBjaXRhdGlvbnM9J2Jhc2lsaTIwMTBhJyk7\"));\n",
       "    "
      ],
      "text/plain": [
       "<IPython.core.display.Javascript object>"
      ]
     },
     "metadata": {},
     "output_type": "display_data"
    },
    {
     "data": {
      "application/javascript": [
       "$('span:contains(\"# Temp\")').closest('.cell').remove();"
      ],
      "text/plain": [
       "<IPython.core.display.Javascript object>"
      ]
     },
     "metadata": {},
     "output_type": "display_data"
    },
    {
     "data": {
      "application/javascript": [
       "\n",
       "        $('span:contains(\"# Temp\")').closest('.cell').remove();\n",
       "        var code = IPython.notebook.insert_cell_below('code');\n",
       "        code.set_text(atob(\"IyBUZW1wCmluc2VydCgnJycKd2FsbGFjZTIwMTRhID0gREIoV29ya1VucmVsYXRlZCgKICAgIDIwMTQsICJUaGUgYWRvcHRpb24gb2Ygc29mdHdhcmUgbWVhc3VyZXM6IEEgdGVjaG5vbG9neSBhY2NlcHRhbmNlIG1vZGVsIChUQU0pIHBlcnNwZWN0aXZlIiwKICAgIGRpc3BsYXk9IndhbGxhY2UiLAogICAgYXV0aG9ycz0iV2FsbGFjZSwgTGluZGEgRyBhbmQgU2hlZXR6LCBTdGV2ZW4gRCIsCiAgICBwbGFjZT1GQUtFLAogICAgcHA9IjI0OS0tMjU5IiwKICAgIGVudHJ5dHlwZT0iYXJ0aWNsZSIsCiAgICB2b2x1bWU9IjUxIiwKICAgIG51bWJlcj0iMiIsCiAgICBwdWJsaXNoZXI9IkVsc2V2aWVyIiwKICAgIElEPSJ3YWxsYWNlMjAxNGFkb3B0aW9uIiwKICAgIGNsdXN0ZXJfaWQ9Ijk4ODA1MjA0NTM5NzI3OTA5ODMiLAogICAgc2Nob2xhcj0iaHR0cDovL3NjaG9sYXIuZ29vZ2xlLmNvbS9zY2hvbGFyP2NpdGVzPTk4ODA1MjA0NTM5NzI3OTA5ODMmYXNfc2R0PTIwMDUmc2Npb2R0PTAsNSZobD1lbiIsCiAgICBwbGFjZXg9IkluZm9ybWF0aW9uICYgTWFuYWdlbWVudCIsCikpCgpEQihDaXRhdGlvbigKICAgIHdhbGxhY2UyMDE0YSwgYmFzaWxpMjAxMGEsIHJlZj0iIiwKICAgIGNvbnRleHRzPVsKCiAgICBdLAopKQoKJycnLCBjaXRhdGlvbnM9J2Jhc2lsaTIwMTBhJyk7\"));\n",
       "    "
      ],
      "text/plain": [
       "<IPython.core.display.Javascript object>"
      ]
     },
     "metadata": {},
     "output_type": "display_data"
    },
    {
     "data": {
      "application/javascript": [
       "$('span:contains(\"# Temp\")').closest('.cell').remove();"
      ],
      "text/plain": [
       "<IPython.core.display.Javascript object>"
      ]
     },
     "metadata": {},
     "output_type": "display_data"
    },
    {
     "data": {
      "application/javascript": [
       "\n",
       "        $('span:contains(\"# Temp\")').closest('.cell').remove();\n",
       "        var code = IPython.notebook.insert_cell_below('code');\n",
       "        code.set_text(atob(\"IyBUZW1wCmluc2VydCgnJycKREIoQ2l0YXRpb24oCiAgICBwYXRlcm5vc3RlcjIwMTRhLCBiYXNpbGkyMDEwYSwgcmVmPSIiLAogICAgY29udGV4dHM9WwoKICAgIF0sCikpCgonJycsIGNpdGF0aW9ucz0nYmFzaWxpMjAxMGEnKTsKc2V0X2F0dHJpYnV0ZSgncGF0ZXJub3N0ZXIyMDE0YScsICdwdWJsaXNoZXInLCAnRWxzZXZpZXInKTsKc2V0X2F0dHJpYnV0ZSgncGF0ZXJub3N0ZXIyMDE0YScsICdleGNlcnB0JywgJ0Fic3RyYWN0IENvbnRleHQgU29mdHdhcmUgc3RhcnR1cHMgYXJlIG5ld2x5IGNyZWF0ZWQgY29tcGFuaWVzIHdpdGggbm8gb3BlcmF0aW5nIGhpc3RvcnkgYW5kIGZhc3QgaW4gcHJvZHVjaW5nIGN1dHRpbmctZWRnZSB0ZWNobm9sb2dpZXMuIFRoZXNlIGNvbXBhbmllcyBkZXZlbG9wIHNvZnR3YXJlIHVuZGVyIGhpZ2hseSB1bmNlcnRhaW4gY29uZGl0aW9ucywgdGFja2xpbmcgZmFzdC1ncm93aW5nIG1hcmtldHMgdW5kZXIgc2V2ZXJlIGxhY2sgb2YgcmVzb3VyY2VzLiAnKTsKc2V0X2F0dHJpYnV0ZSgncGF0ZXJub3N0ZXIyMDE0YScsICdjbHVzdGVyX2lkJywgJzE4Mjg3MTM0NTI0MDIxODg3MTA1Jyk7CnNldF9hdHRyaWJ1dGUoJ3BhdGVybm9zdGVyMjAxNGEnLCAnc2Nob2xhcicsICdodHRwOi8vc2Nob2xhci5nb29nbGUuY29tL3NjaG9sYXI/Y2l0ZXM9MTgyODcxMzQ1MjQwMjE4ODcxMDUmYXNfc2R0PTIwMDUmc2Npb2R0PTAsNSZobD1lbicpOw==\"));\n",
       "    "
      ],
      "text/plain": [
       "<IPython.core.display.Javascript object>"
      ]
     },
     "metadata": {},
     "output_type": "display_data"
    },
    {
     "data": {
      "application/javascript": [
       "$('span:contains(\"# Temp\")').closest('.cell').remove();"
      ],
      "text/plain": [
       "<IPython.core.display.Javascript object>"
      ]
     },
     "metadata": {},
     "output_type": "display_data"
    },
    {
     "data": {
      "application/javascript": [
       "\n",
       "        $('span:contains(\"# Temp\")').closest('.cell').remove();\n",
       "        var code = IPython.notebook.insert_cell_below('code');\n",
       "        code.set_text(atob(\"IyBUZW1wCmluc2VydCgnJycKREIoQ2l0YXRpb24oCiAgICBwYXRlcm5vc3RlcjIwMTRhLCBiYXNpbGkyMDEwYSwgcmVmPSIiLAogICAgY29udGV4dHM9WwoKICAgIF0sCikpCgonJycsIGNpdGF0aW9ucz0nYmFzaWxpMjAxMGEnKTsKc2V0X2F0dHJpYnV0ZSgncGF0ZXJub3N0ZXIyMDE0YScsICdwdWJsaXNoZXInLCAnRWxzZXZpZXInKTsKc2V0X2F0dHJpYnV0ZSgncGF0ZXJub3N0ZXIyMDE0YScsICdleGNlcnB0JywgJ0Fic3RyYWN0IENvbnRleHQgU29mdHdhcmUgc3RhcnR1cHMgYXJlIG5ld2x5IGNyZWF0ZWQgY29tcGFuaWVzIHdpdGggbm8gb3BlcmF0aW5nIGhpc3RvcnkgYW5kIGZhc3QgaW4gcHJvZHVjaW5nIGN1dHRpbmctZWRnZSB0ZWNobm9sb2dpZXMuIFRoZXNlIGNvbXBhbmllcyBkZXZlbG9wIHNvZnR3YXJlIHVuZGVyIGhpZ2hseSB1bmNlcnRhaW4gY29uZGl0aW9ucywgdGFja2xpbmcgZmFzdC1ncm93aW5nIG1hcmtldHMgdW5kZXIgc2V2ZXJlIGxhY2sgb2YgcmVzb3VyY2VzLiAnKTsKc2V0X2F0dHJpYnV0ZSgncGF0ZXJub3N0ZXIyMDE0YScsICdjbHVzdGVyX2lkJywgJzE4Mjg3MTM0NTI0MDIxODg3MTA1Jyk7CnNldF9hdHRyaWJ1dGUoJ3BhdGVybm9zdGVyMjAxNGEnLCAnc2Nob2xhcicsICdodHRwOi8vc2Nob2xhci5nb29nbGUuY29tL3NjaG9sYXI/Y2l0ZXM9MTgyODcxMzQ1MjQwMjE4ODcxMDUmYXNfc2R0PTIwMDUmc2Npb2R0PTAsNSZobD1lbicpOw==\"));\n",
       "    "
      ],
      "text/plain": [
       "<IPython.core.display.Javascript object>"
      ]
     },
     "metadata": {},
     "output_type": "display_data"
    },
    {
     "data": {
      "application/javascript": [
       "$('span:contains(\"# Temp\")').closest('.cell').remove();"
      ],
      "text/plain": [
       "<IPython.core.display.Javascript object>"
      ]
     },
     "metadata": {},
     "output_type": "display_data"
    },
    {
     "data": {
      "application/javascript": [
       "\n",
       "        $('span:contains(\"# Temp\")').closest('.cell').remove();\n",
       "        var code = IPython.notebook.insert_cell_below('code');\n",
       "        code.set_text(atob(\"IyBUZW1wCmluc2VydCgnJycKbm92YWlzMjAxM2EgPSBEQihXb3JrVW5yZWxhdGVkKAogICAgMjAxMywgIlNvZnR3YXJlIGV2b2x1dGlvbiB2aXN1YWxpemF0aW9uOiBBIHN5c3RlbWF0aWMgbWFwcGluZyBzdHVkeSIsCiAgICBkaXNwbGF5PSJub3ZhaXMiLAogICAgYXV0aG9ycz0iTm92YWlzLCBSZW5hdG8gTGltYSBhbmQgVG9ycmVzLCBBbmRy6SBhbmQgTWVuZGVzLCBUaGlhZ28gU291dG8gYW5kIE1lbmRvbnvnfWEsIE1hbm9lbCBhbmQgWmF6d29ya2EsIE5pY28iLAogICAgcGxhY2U9SVNULAogICAgcHA9IjE4NjAtLTE4ODMiLAogICAgZW50cnl0eXBlPSJhcnRpY2xlIiwKICAgIHZvbHVtZT0iNTUiLAogICAgbnVtYmVyPSIxMSIsCiAgICBwdWJsaXNoZXI9IkVsc2V2aWVyIiwKICAgIElEPSJub3ZhaXMyMDEzc29mdHdhcmUiLAogICAgY2x1c3Rlcl9pZD0iMTY0NjM3MDAzNjkxNjY0ODkwMTMiLAogICAgc2Nob2xhcj0iaHR0cDovL3NjaG9sYXIuZ29vZ2xlLmNvbS9zY2hvbGFyP2NpdGVzPTE2NDYzNzAwMzY5MTY2NDg5MDEzJmFzX3NkdD0yMDA1JnNjaW9kdD0wLDUmaGw9ZW4iLAogICAgcGxhY2V4PSJJbmZvcm1hdGlvbiBhbmQgU29mdHdhcmUgVGVjaG5vbG9neSIsCikpCgpEQihDaXRhdGlvbigKICAgIG5vdmFpczIwMTNhLCBiYXNpbGkyMDEwYSwgcmVmPSIiLAogICAgY29udGV4dHM9WwoKICAgIF0sCikpCgonJycsIGNpdGF0aW9ucz0nYmFzaWxpMjAxMGEnKTs=\"));\n",
       "    "
      ],
      "text/plain": [
       "<IPython.core.display.Javascript object>"
      ]
     },
     "metadata": {},
     "output_type": "display_data"
    },
    {
     "data": {
      "application/javascript": [
       "$('span:contains(\"# Temp\")').closest('.cell').remove();"
      ],
      "text/plain": [
       "<IPython.core.display.Javascript object>"
      ]
     },
     "metadata": {},
     "output_type": "display_data"
    },
    {
     "data": {
      "application/javascript": [
       "\n",
       "        $('span:contains(\"# Temp\")').closest('.cell').remove();\n",
       "        var code = IPython.notebook.insert_cell_below('code');\n",
       "        code.set_text(atob(\"IyBUZW1wCmluc2VydCgnJycKbm92YWlzMjAxM2EgPSBEQihXb3JrVW5yZWxhdGVkKAogICAgMjAxMywgIlNvZnR3YXJlIGV2b2x1dGlvbiB2aXN1YWxpemF0aW9uOiBBIHN5c3RlbWF0aWMgbWFwcGluZyBzdHVkeSIsCiAgICBkaXNwbGF5PSJub3ZhaXMiLAogICAgYXV0aG9ycz0iTm92YWlzLCBSZW5hdG8gTGltYSBhbmQgVG9ycmVzLCBBbmRy6SBhbmQgTWVuZGVzLCBUaGlhZ28gU291dG8gYW5kIE1lbmRvbnvnfWEsIE1hbm9lbCBhbmQgWmF6d29ya2EsIE5pY28iLAogICAgcGxhY2U9SVNULAogICAgcHA9IjE4NjAtLTE4ODMiLAogICAgZW50cnl0eXBlPSJhcnRpY2xlIiwKICAgIHZvbHVtZT0iNTUiLAogICAgbnVtYmVyPSIxMSIsCiAgICBwdWJsaXNoZXI9IkVsc2V2aWVyIiwKICAgIElEPSJub3ZhaXMyMDEzc29mdHdhcmUiLAogICAgY2x1c3Rlcl9pZD0iMTY0NjM3MDAzNjkxNjY0ODkwMTMiLAogICAgc2Nob2xhcj0iaHR0cDovL3NjaG9sYXIuZ29vZ2xlLmNvbS9zY2hvbGFyP2NpdGVzPTE2NDYzNzAwMzY5MTY2NDg5MDEzJmFzX3NkdD0yMDA1JnNjaW9kdD0wLDUmaGw9ZW4iLAogICAgcGxhY2V4PSJJbmZvcm1hdGlvbiBhbmQgU29mdHdhcmUgVGVjaG5vbG9neSIsCikpCgpEQihDaXRhdGlvbigKICAgIG5vdmFpczIwMTNhLCBiYXNpbGkyMDEwYSwgcmVmPSIiLAogICAgY29udGV4dHM9WwoKICAgIF0sCikpCgonJycsIGNpdGF0aW9ucz0nYmFzaWxpMjAxMGEnKTs=\"));\n",
       "    "
      ],
      "text/plain": [
       "<IPython.core.display.Javascript object>"
      ]
     },
     "metadata": {},
     "output_type": "display_data"
    },
    {
     "data": {
      "application/javascript": [
       "$('span:contains(\"# Temp\")').closest('.cell').remove();"
      ],
      "text/plain": [
       "<IPython.core.display.Javascript object>"
      ]
     },
     "metadata": {},
     "output_type": "display_data"
    },
    {
     "data": {
      "application/javascript": [
       "\n",
       "        $('span:contains(\"# Temp\")').closest('.cell').remove();\n",
       "        var code = IPython.notebook.insert_cell_below('code');\n",
       "        code.set_text(atob(\"IyBUZW1wCmluc2VydCgnJycKbGV3MjAxMmEgPSBEQihXb3JrVW5yZWxhdGVkKAogICAgMjAxMiwgIkFuIGludGVncmF0ZWQgc3RyYXRlZ3kgdG8gc3lzdGVtYXRpY2FsbHkgdW5kZXJzdGFuZCBhbmQgbWFuYWdlIHF1YWxpdHkgaW4gdXNlIGZvciB3ZWIgYXBwbGljYXRpb25zIiwKICAgIGRpc3BsYXk9ImxldyIsCiAgICBhdXRob3JzPSJMZXcsIFBoaWxpcCBhbmQgT2xzaW5hLCBMdWlzIGFuZCBCZWNrZXIsIFBhYmxvIGFuZCBaaGFuZywgTGkiLAogICAgcGxhY2U9RkFLRSwKICAgIHBwPSIyOTktLTMzMCIsCiAgICBlbnRyeXR5cGU9ImFydGljbGUiLAogICAgdm9sdW1lPSIxNyIsCiAgICBudW1iZXI9IjQiLAogICAgcHVibGlzaGVyPSJTcHJpbmdlciIsCiAgICBJRD0ibGV3MjAxMmludGVncmF0ZWQiLAogICAgY2x1c3Rlcl9pZD0iMTE3NTc3MzkwNjA0MDAzMzk1NyIsCiAgICBzY2hvbGFyPSJodHRwOi8vc2Nob2xhci5nb29nbGUuY29tL3NjaG9sYXI/Y2l0ZXM9MTE3NTc3MzkwNjA0MDAzMzk1NyZhc19zZHQ9MjAwNSZzY2lvZHQ9MCw1JmhsPWVuIiwKICAgIHBsYWNleD0iUmVxdWlyZW1lbnRzIEVuZ2luZWVyaW5nIiwKKSkKCkRCKENpdGF0aW9uKAogICAgbGV3MjAxMmEsIGJhc2lsaTIwMTBhLCByZWY9IiIsCiAgICBjb250ZXh0cz1bCgogICAgXSwKKSkKCicnJywgY2l0YXRpb25zPSdiYXNpbGkyMDEwYScpOw==\"));\n",
       "    "
      ],
      "text/plain": [
       "<IPython.core.display.Javascript object>"
      ]
     },
     "metadata": {},
     "output_type": "display_data"
    },
    {
     "data": {
      "application/javascript": [
       "$('span:contains(\"# Temp\")').closest('.cell').remove();"
      ],
      "text/plain": [
       "<IPython.core.display.Javascript object>"
      ]
     },
     "metadata": {},
     "output_type": "display_data"
    },
    {
     "data": {
      "application/javascript": [
       "\n",
       "        $('span:contains(\"# Temp\")').closest('.cell').remove();\n",
       "        var code = IPython.notebook.insert_cell_below('code');\n",
       "        code.set_text(atob(\"IyBUZW1wCmluc2VydCgnJycKbGV3MjAxMmEgPSBEQihXb3JrVW5yZWxhdGVkKAogICAgMjAxMiwgIkFuIGludGVncmF0ZWQgc3RyYXRlZ3kgdG8gc3lzdGVtYXRpY2FsbHkgdW5kZXJzdGFuZCBhbmQgbWFuYWdlIHF1YWxpdHkgaW4gdXNlIGZvciB3ZWIgYXBwbGljYXRpb25zIiwKICAgIGRpc3BsYXk9ImxldyIsCiAgICBhdXRob3JzPSJMZXcsIFBoaWxpcCBhbmQgT2xzaW5hLCBMdWlzIGFuZCBCZWNrZXIsIFBhYmxvIGFuZCBaaGFuZywgTGkiLAogICAgcGxhY2U9RkFLRSwKICAgIHBwPSIyOTktLTMzMCIsCiAgICBlbnRyeXR5cGU9ImFydGljbGUiLAogICAgdm9sdW1lPSIxNyIsCiAgICBudW1iZXI9IjQiLAogICAgcHVibGlzaGVyPSJTcHJpbmdlciIsCiAgICBJRD0ibGV3MjAxMmludGVncmF0ZWQiLAogICAgY2x1c3Rlcl9pZD0iMTE3NTc3MzkwNjA0MDAzMzk1NyIsCiAgICBzY2hvbGFyPSJodHRwOi8vc2Nob2xhci5nb29nbGUuY29tL3NjaG9sYXI/Y2l0ZXM9MTE3NTc3MzkwNjA0MDAzMzk1NyZhc19zZHQ9MjAwNSZzY2lvZHQ9MCw1JmhsPWVuIiwKICAgIHBsYWNleD0iUmVxdWlyZW1lbnRzIEVuZ2luZWVyaW5nIiwKKSkKCkRCKENpdGF0aW9uKAogICAgbGV3MjAxMmEsIGJhc2lsaTIwMTBhLCByZWY9IiIsCiAgICBjb250ZXh0cz1bCgogICAgXSwKKSkKCicnJywgY2l0YXRpb25zPSdiYXNpbGkyMDEwYScpOw==\"));\n",
       "    "
      ],
      "text/plain": [
       "<IPython.core.display.Javascript object>"
      ]
     },
     "metadata": {},
     "output_type": "display_data"
    },
    {
     "data": {
      "application/javascript": [
       "$('span:contains(\"# Temp\")').closest('.cell').remove();"
      ],
      "text/plain": [
       "<IPython.core.display.Javascript object>"
      ]
     },
     "metadata": {},
     "output_type": "display_data"
    },
    {
     "data": {
      "application/javascript": [
       "\n",
       "        $('span:contains(\"# Temp\")').closest('.cell').remove();\n",
       "        var code = IPython.notebook.insert_cell_below('code');\n",
       "        code.set_text(atob(\"IyBUZW1wCmluc2VydCgnJycKZ2lhcmRpbm8yMDE0YSA9IERCKFdvcmtVbnJlbGF0ZWQoCiAgICAyMDE0LCAiV2h5IGVhcmx5LXN0YWdlIHNvZnR3YXJlIHN0YXJ0dXBzIGZhaWw6IGEgYmVoYXZpb3JhbCBmcmFtZXdvcmsiLAogICAgZGlzcGxheT0iZ2lhcmRpbm8iLAogICAgYXV0aG9ycz0iR2lhcmRpbm8sIENhcm1pbmUgYW5kIFdhbmcsIFhpYW9mZW5nIGFuZCBBYnJhaGFtc3NvbiwgUGVra2EiLAogICAgcGxhY2U9SUNTRSwKICAgIHBwPSIyNy0tNDEiLAogICAgZW50cnl0eXBlPSJpbnByb2NlZWRpbmdzIiwKICAgIG9yZ2FuaXphdGlvbj0iU3ByaW5nZXIiLAogICAgSUQ9ImdpYXJkaW5vMjAxNGVhcmx5IiwKICAgIGNsdXN0ZXJfaWQ9IjcwODM2NTA0MzkyMzk5NTIyOTAiLAogICAgc2Nob2xhcj0iaHR0cDovL3NjaG9sYXIuZ29vZ2xlLmNvbS9zY2hvbGFyP2NpdGVzPTcwODM2NTA0MzkyMzk5NTIyOTAmYXNfc2R0PTIwMDUmc2Npb2R0PTAsNSZobD1lbiIsCiAgICBwbGFjZXg9IkludGVybmF0aW9uYWwgQ29uZmVyZW5jZSBvZiBTb2Z0d2FyZSBCdXNpbmVzcyIsCikpCgpEQihDaXRhdGlvbigKICAgIGdpYXJkaW5vMjAxNGEsIGJhc2lsaTIwMTBhLCByZWY9IiIsCiAgICBjb250ZXh0cz1bCgogICAgXSwKKSkKCicnJywgY2l0YXRpb25zPSdiYXNpbGkyMDEwYScpOw==\"));\n",
       "    "
      ],
      "text/plain": [
       "<IPython.core.display.Javascript object>"
      ]
     },
     "metadata": {},
     "output_type": "display_data"
    },
    {
     "data": {
      "application/javascript": [
       "$('span:contains(\"# Temp\")').closest('.cell').remove();"
      ],
      "text/plain": [
       "<IPython.core.display.Javascript object>"
      ]
     },
     "metadata": {},
     "output_type": "display_data"
    },
    {
     "data": {
      "application/javascript": [
       "\n",
       "        $('span:contains(\"# Temp\")').closest('.cell').remove();\n",
       "        var code = IPython.notebook.insert_cell_below('code');\n",
       "        code.set_text(atob(\"IyBUZW1wCmluc2VydCgnJycKZ2lhcmRpbm8yMDE0YSA9IERCKFdvcmtVbnJlbGF0ZWQoCiAgICAyMDE0LCAiV2h5IGVhcmx5LXN0YWdlIHNvZnR3YXJlIHN0YXJ0dXBzIGZhaWw6IGEgYmVoYXZpb3JhbCBmcmFtZXdvcmsiLAogICAgZGlzcGxheT0iZ2lhcmRpbm8iLAogICAgYXV0aG9ycz0iR2lhcmRpbm8sIENhcm1pbmUgYW5kIFdhbmcsIFhpYW9mZW5nIGFuZCBBYnJhaGFtc3NvbiwgUGVra2EiLAogICAgcGxhY2U9SUNTRSwKICAgIHBwPSIyNy0tNDEiLAogICAgZW50cnl0eXBlPSJpbnByb2NlZWRpbmdzIiwKICAgIG9yZ2FuaXphdGlvbj0iU3ByaW5nZXIiLAogICAgSUQ9ImdpYXJkaW5vMjAxNGVhcmx5IiwKICAgIGNsdXN0ZXJfaWQ9IjcwODM2NTA0MzkyMzk5NTIyOTAiLAogICAgc2Nob2xhcj0iaHR0cDovL3NjaG9sYXIuZ29vZ2xlLmNvbS9zY2hvbGFyP2NpdGVzPTcwODM2NTA0MzkyMzk5NTIyOTAmYXNfc2R0PTIwMDUmc2Npb2R0PTAsNSZobD1lbiIsCiAgICBwbGFjZXg9IkludGVybmF0aW9uYWwgQ29uZmVyZW5jZSBvZiBTb2Z0d2FyZSBCdXNpbmVzcyIsCikpCgpEQihDaXRhdGlvbigKICAgIGdpYXJkaW5vMjAxNGEsIGJhc2lsaTIwMTBhLCByZWY9IiIsCiAgICBjb250ZXh0cz1bCgogICAgXSwKKSkKCicnJywgY2l0YXRpb25zPSdiYXNpbGkyMDEwYScpOw==\"));\n",
       "    "
      ],
      "text/plain": [
       "<IPython.core.display.Javascript object>"
      ]
     },
     "metadata": {},
     "output_type": "display_data"
    },
    {
     "data": {
      "application/javascript": [
       "$('span:contains(\"# Temp\")').closest('.cell').remove();"
      ],
      "text/plain": [
       "<IPython.core.display.Javascript object>"
      ]
     },
     "metadata": {},
     "output_type": "display_data"
    },
    {
     "data": {
      "application/javascript": [
       "\n",
       "        $('span:contains(\"# Temp\")').closest('.cell').remove();\n",
       "        var code = IPython.notebook.insert_cell_below('code');\n",
       "        code.set_text(atob(\"IyBUZW1wCmluc2VydCgnJycKa2ltMjAxNmEgPSBEQihXb3JrVW5yZWxhdGVkKAogICAgMjAxNiwgIlRoZSBlbWVyZ2luZyByb2xlIG9mIGRhdGEgc2NpZW50aXN0cyBvbiBzb2Z0d2FyZSBkZXZlbG9wbWVudCB0ZWFtcyIsCiAgICBkaXNwbGF5PSJraW0iLAogICAgYXV0aG9ycz0iS2ltLCBNaXJ5dW5nIGFuZCBaaW1tZXJtYW5uLCBUaG9tYXMgYW5kIERlTGluZSwgUm9iZXJ0IGFuZCBCZWdlbCwgQW5kcmV3IiwKICAgIHBsYWNlPUlDU0UsCiAgICBwcD0iOTYtLTEwNyIsCiAgICBlbnRyeXR5cGU9ImlucHJvY2VlZGluZ3MiLAogICAgb3JnYW5pemF0aW9uPSJBQ00iLAogICAgSUQ9ImtpbTIwMTZlbWVyZ2luZyIsCiAgICBjbHVzdGVyX2lkPSIxNzU0MTM2MjU1MzE1MTUxNDg5OCIsCiAgICBzY2hvbGFyPSJodHRwOi8vc2Nob2xhci5nb29nbGUuY29tL3NjaG9sYXI/Y2l0ZXM9MTc1NDEzNjI1NTMxNTE1MTQ4OTgmYXNfc2R0PTIwMDUmc2Npb2R0PTAsNSZobD1lbiIsCiAgICBwbGFjZXg9IlByb2NlZWRpbmdzIG9mIHRoZSAzOHRoIEludGVybmF0aW9uYWwgQ29uZmVyZW5jZSBvbiBTb2Z0d2FyZSBFbmdpbmVlcmluZyIsCikpCgpEQihDaXRhdGlvbigKICAgIGtpbTIwMTZhLCBiYXNpbGkyMDEwYSwgcmVmPSIiLAogICAgY29udGV4dHM9WwoKICAgIF0sCikpCgonJycsIGNpdGF0aW9ucz0nYmFzaWxpMjAxMGEnKTs=\"));\n",
       "    "
      ],
      "text/plain": [
       "<IPython.core.display.Javascript object>"
      ]
     },
     "metadata": {},
     "output_type": "display_data"
    },
    {
     "data": {
      "application/javascript": [
       "$('span:contains(\"# Temp\")').closest('.cell').remove();"
      ],
      "text/plain": [
       "<IPython.core.display.Javascript object>"
      ]
     },
     "metadata": {},
     "output_type": "display_data"
    },
    {
     "data": {
      "application/javascript": [
       "\n",
       "        $('span:contains(\"# Temp\")').closest('.cell').remove();\n",
       "        var code = IPython.notebook.insert_cell_below('code');\n",
       "        code.set_text(atob(\"IyBUZW1wCmluc2VydCgnJycKa2ltMjAxNmEgPSBEQihXb3JrVW5yZWxhdGVkKAogICAgMjAxNiwgIlRoZSBlbWVyZ2luZyByb2xlIG9mIGRhdGEgc2NpZW50aXN0cyBvbiBzb2Z0d2FyZSBkZXZlbG9wbWVudCB0ZWFtcyIsCiAgICBkaXNwbGF5PSJraW0iLAogICAgYXV0aG9ycz0iS2ltLCBNaXJ5dW5nIGFuZCBaaW1tZXJtYW5uLCBUaG9tYXMgYW5kIERlTGluZSwgUm9iZXJ0IGFuZCBCZWdlbCwgQW5kcmV3IiwKICAgIHBsYWNlPUlDU0UsCiAgICBwcD0iOTYtLTEwNyIsCiAgICBlbnRyeXR5cGU9ImlucHJvY2VlZGluZ3MiLAogICAgb3JnYW5pemF0aW9uPSJBQ00iLAogICAgSUQ9ImtpbTIwMTZlbWVyZ2luZyIsCiAgICBjbHVzdGVyX2lkPSIxNzU0MTM2MjU1MzE1MTUxNDg5OCIsCiAgICBzY2hvbGFyPSJodHRwOi8vc2Nob2xhci5nb29nbGUuY29tL3NjaG9sYXI/Y2l0ZXM9MTc1NDEzNjI1NTMxNTE1MTQ4OTgmYXNfc2R0PTIwMDUmc2Npb2R0PTAsNSZobD1lbiIsCiAgICBwbGFjZXg9IlByb2NlZWRpbmdzIG9mIHRoZSAzOHRoIEludGVybmF0aW9uYWwgQ29uZmVyZW5jZSBvbiBTb2Z0d2FyZSBFbmdpbmVlcmluZyIsCikpCgpEQihDaXRhdGlvbigKICAgIGtpbTIwMTZhLCBiYXNpbGkyMDEwYSwgcmVmPSIiLAogICAgY29udGV4dHM9WwoKICAgIF0sCikpCgonJycsIGNpdGF0aW9ucz0nYmFzaWxpMjAxMGEnKTs=\"));\n",
       "    "
      ],
      "text/plain": [
       "<IPython.core.display.Javascript object>"
      ]
     },
     "metadata": {},
     "output_type": "display_data"
    },
    {
     "data": {
      "application/javascript": [
       "$('span:contains(\"# Temp\")').closest('.cell').remove();"
      ],
      "text/plain": [
       "<IPython.core.display.Javascript object>"
      ]
     },
     "metadata": {},
     "output_type": "display_data"
    },
    {
     "data": {
      "application/javascript": [
       "\n",
       "        $('span:contains(\"# Temp\")').closest('.cell').remove();\n",
       "        var code = IPython.notebook.insert_cell_below('code');\n",
       "        code.set_text(atob(\"IyBUZW1wCmluc2VydCgnJycKdHJlbmRvd2ljejIwMTNhID0gREIoV29ya1VucmVsYXRlZCgKICAgIDIwMTMsICJTb2Z0d2FyZSBDb3N0IEVzdGltYXRpb24sIEJlbmNobWFya2luZywgYW5kIFJpc2sgQXNzZXNzbWVudDogVGhlIFNvZnR3YXJlIERlY2lzaW9uLU1ha2VycycgR3VpZGUgdG8gUHJlZGljdGFibGUgU29mdHdhcmUgRGV2ZWxvcG1lbnQiLAogICAgZGlzcGxheT0idHJlbmRvd2ljeiIsCiAgICBhdXRob3JzPSJUcmVuZG93aWN6LCBBZGFtIiwKICAgIHBsYWNlPUJvb2ssCiAgICBlbnRyeXR5cGU9ImJvb2siLAogICAgcHVibGlzaGVyPSJTcHJpbmdlciBTY2llbmNlICYgQnVzaW5lc3MgTWVkaWEiLAogICAgSUQ9InRyZW5kb3dpY3oyMDEzc29mdHdhcmUiLAogICAgY2x1c3Rlcl9pZD0iMzE2MTAzMjU3ODk2ODI4NTQyMCIsCiAgICBzY2hvbGFyPSJodHRwOi8vc2Nob2xhci5nb29nbGUuY29tL3NjaG9sYXI/Y2l0ZXM9MzE2MTAzMjU3ODk2ODI4NTQyMCZhc19zZHQ9MjAwNSZzY2lvZHQ9MCw1JmhsPWVuIiwKICAgIHBsYWNleD0iIiwKKSkKCkRCKENpdGF0aW9uKAogICAgdHJlbmRvd2ljejIwMTNhLCBiYXNpbGkyMDEwYSwgcmVmPSIiLAogICAgY29udGV4dHM9WwoKICAgIF0sCikpCgonJycsIGNpdGF0aW9ucz0nYmFzaWxpMjAxMGEnKTs=\"));\n",
       "    "
      ],
      "text/plain": [
       "<IPython.core.display.Javascript object>"
      ]
     },
     "metadata": {},
     "output_type": "display_data"
    },
    {
     "data": {
      "application/javascript": [
       "$('span:contains(\"# Temp\")').closest('.cell').remove();"
      ],
      "text/plain": [
       "<IPython.core.display.Javascript object>"
      ]
     },
     "metadata": {},
     "output_type": "display_data"
    },
    {
     "data": {
      "application/javascript": [
       "\n",
       "        $('span:contains(\"# Temp\")').closest('.cell').remove();\n",
       "        var code = IPython.notebook.insert_cell_below('code');\n",
       "        code.set_text(atob(\"IyBUZW1wCmluc2VydCgnJycKdHJlbmRvd2ljejIwMTNhID0gREIoV29ya1VucmVsYXRlZCgKICAgIDIwMTMsICJTb2Z0d2FyZSBDb3N0IEVzdGltYXRpb24sIEJlbmNobWFya2luZywgYW5kIFJpc2sgQXNzZXNzbWVudDogVGhlIFNvZnR3YXJlIERlY2lzaW9uLU1ha2VycycgR3VpZGUgdG8gUHJlZGljdGFibGUgU29mdHdhcmUgRGV2ZWxvcG1lbnQiLAogICAgZGlzcGxheT0idHJlbmRvd2ljeiIsCiAgICBhdXRob3JzPSJUcmVuZG93aWN6LCBBZGFtIiwKICAgIHBsYWNlPUJvb2ssCiAgICBlbnRyeXR5cGU9ImJvb2siLAogICAgcHVibGlzaGVyPSJTcHJpbmdlciBTY2llbmNlICYgQnVzaW5lc3MgTWVkaWEiLAogICAgSUQ9InRyZW5kb3dpY3oyMDEzc29mdHdhcmUiLAogICAgY2x1c3Rlcl9pZD0iMzE2MTAzMjU3ODk2ODI4NTQyMCIsCiAgICBzY2hvbGFyPSJodHRwOi8vc2Nob2xhci5nb29nbGUuY29tL3NjaG9sYXI/Y2l0ZXM9MzE2MTAzMjU3ODk2ODI4NTQyMCZhc19zZHQ9MjAwNSZzY2lvZHQ9MCw1JmhsPWVuIiwKICAgIHBsYWNleD0iIiwKKSkKCkRCKENpdGF0aW9uKAogICAgdHJlbmRvd2ljejIwMTNhLCBiYXNpbGkyMDEwYSwgcmVmPSIiLAogICAgY29udGV4dHM9WwoKICAgIF0sCikpCgonJycsIGNpdGF0aW9ucz0nYmFzaWxpMjAxMGEnKTs=\"));\n",
       "    "
      ],
      "text/plain": [
       "<IPython.core.display.Javascript object>"
      ]
     },
     "metadata": {},
     "output_type": "display_data"
    },
    {
     "data": {
      "application/javascript": [
       "$('span:contains(\"# Temp\")').closest('.cell').remove();"
      ],
      "text/plain": [
       "<IPython.core.display.Javascript object>"
      ]
     },
     "metadata": {},
     "output_type": "display_data"
    },
    {
     "data": {
      "application/javascript": [
       "\n",
       "        $('span:contains(\"# Temp\")').closest('.cell').remove();\n",
       "        var code = IPython.notebook.insert_cell_below('code');\n",
       "        code.set_text(atob(\"IyBUZW1wCmluc2VydCgnJycKREIoQ2l0YXRpb24oCiAgICBndXpt4W4yMDEwYSwgYmFzaWxpMjAxMGEsIHJlZj0iIiwKICAgIGNvbnRleHRzPVsKCiAgICBdLAopKQoKJycnLCBjaXRhdGlvbnM9J2Jhc2lsaTIwMTBhJyk7CnNldF9hdHRyaWJ1dGUoJ2d1em3hbjIwMTBhJywgJ2V4Y2VycHQnLCAnQWJzdHJhY3QgU3RyYXRlZ2ljIG1hbmFnZW1lbnQgaXMgYSBrZXkgZGlzY2lwbGluZSB0aGF0IHBlcm1pdHMgY29tcGFuaWVzIHRvIGFjaGlldmUgdGhlaXIgY29tcGV0aXRpdmUgZ29hbHMuIEFuIGVmZmVjdGl2ZSBhbmQgZXhwbGljaXQgYWxpZ25tZW50IGFuZCBpbnRlZ3JhdGlvbiBvZiBidXNpbmVzcyBzdHJhdGVneSB3aXRoIFNQSSBpbml0aWF0aXZlcyBiYXNlZCBvbiBtZWFzdXJlbWVudCBpcyBlc3NlbnRpYWwgdG8gcHJldmVudCBsb3NzIG9mIGluY29tZSwgY3VzdG9tZXJzICcpOw==\"));\n",
       "    "
      ],
      "text/plain": [
       "<IPython.core.display.Javascript object>"
      ]
     },
     "metadata": {},
     "output_type": "display_data"
    },
    {
     "data": {
      "application/javascript": [
       "$('span:contains(\"# Temp\")').closest('.cell').remove();"
      ],
      "text/plain": [
       "<IPython.core.display.Javascript object>"
      ]
     },
     "metadata": {},
     "output_type": "display_data"
    },
    {
     "data": {
      "application/javascript": [
       "\n",
       "        $('span:contains(\"# Temp\")').closest('.cell').remove();\n",
       "        var code = IPython.notebook.insert_cell_below('code');\n",
       "        code.set_text(atob(\"IyBUZW1wCmluc2VydCgnJycKREIoQ2l0YXRpb24oCiAgICBndXpt4W4yMDEwYSwgYmFzaWxpMjAxMGEsIHJlZj0iIiwKICAgIGNvbnRleHRzPVsKCiAgICBdLAopKQoKJycnLCBjaXRhdGlvbnM9J2Jhc2lsaTIwMTBhJyk7CnNldF9hdHRyaWJ1dGUoJ2d1em3hbjIwMTBhJywgJ2V4Y2VycHQnLCAnQWJzdHJhY3QgU3RyYXRlZ2ljIG1hbmFnZW1lbnQgaXMgYSBrZXkgZGlzY2lwbGluZSB0aGF0IHBlcm1pdHMgY29tcGFuaWVzIHRvIGFjaGlldmUgdGhlaXIgY29tcGV0aXRpdmUgZ29hbHMuIEFuIGVmZmVjdGl2ZSBhbmQgZXhwbGljaXQgYWxpZ25tZW50IGFuZCBpbnRlZ3JhdGlvbiBvZiBidXNpbmVzcyBzdHJhdGVneSB3aXRoIFNQSSBpbml0aWF0aXZlcyBiYXNlZCBvbiBtZWFzdXJlbWVudCBpcyBlc3NlbnRpYWwgdG8gcHJldmVudCBsb3NzIG9mIGluY29tZSwgY3VzdG9tZXJzICcpOw==\"));\n",
       "    "
      ],
      "text/plain": [
       "<IPython.core.display.Javascript object>"
      ]
     },
     "metadata": {},
     "output_type": "display_data"
    },
    {
     "data": {
      "application/javascript": [
       "$('span:contains(\"# Temp\")').closest('.cell').remove();"
      ],
      "text/plain": [
       "<IPython.core.display.Javascript object>"
      ]
     },
     "metadata": {},
     "output_type": "display_data"
    },
    {
     "data": {
      "application/javascript": [
       "\n",
       "        $('span:contains(\"# Temp\")').closest('.cell').remove();\n",
       "        var code = IPython.notebook.insert_cell_below('code');\n",
       "        code.set_text(atob(\"IyBUZW1wCmluc2VydCgnJycKcGFwYTIwMTJhID0gREIoV29ya1VucmVsYXRlZCgKICAgIDIwMTIsICJUb3dhcmQgdGhlIGltcHJvdmVtZW50IG9mIGEgbWVhc3VyZW1lbnQgYW5kIGV2YWx1YXRpb24gc3RyYXRlZ3kgZnJvbSBhIGNvbXBhcmF0aXZlIHN0dWR5IiwKICAgIGRpc3BsYXk9InBhcGEiLAogICAgYXV0aG9ycz0iUGFwYSwgRmVybmFuZGEiLAogICAgcGxhY2U9SUNTRSwKICAgIHBwPSIxODktLTIwMyIsCiAgICBlbnRyeXR5cGU9ImlucHJvY2VlZGluZ3MiLAogICAgb3JnYW5pemF0aW9uPSJTcHJpbmdlciIsCiAgICBJRD0icGFwYTIwMTJ0b3dhcmQiLAogICAgY2x1c3Rlcl9pZD0iNjA4NTIwOTc3MTYzOTM0MjY5MiIsCiAgICBzY2hvbGFyPSJodHRwOi8vc2Nob2xhci5nb29nbGUuY29tL3NjaG9sYXI/Y2l0ZXM9NjA4NTIwOTc3MTYzOTM0MjY5MiZhc19zZHQ9MjAwNSZzY2lvZHQ9MCw1JmhsPWVuIiwKICAgIHBsYWNleD0iSW50ZXJuYXRpb25hbCBDb25mZXJlbmNlIG9uIFdlYiBFbmdpbmVlcmluZyIsCikpCgpEQihDaXRhdGlvbigKICAgIHBhcGEyMDEyYSwgYmFzaWxpMjAxMGEsIHJlZj0iIiwKICAgIGNvbnRleHRzPVsKCiAgICBdLAopKQoKJycnLCBjaXRhdGlvbnM9J2Jhc2lsaTIwMTBhJyk7\"));\n",
       "    "
      ],
      "text/plain": [
       "<IPython.core.display.Javascript object>"
      ]
     },
     "metadata": {},
     "output_type": "display_data"
    },
    {
     "data": {
      "application/javascript": [
       "$('span:contains(\"# Temp\")').closest('.cell').remove();"
      ],
      "text/plain": [
       "<IPython.core.display.Javascript object>"
      ]
     },
     "metadata": {},
     "output_type": "display_data"
    },
    {
     "data": {
      "application/javascript": [
       "\n",
       "        $('span:contains(\"# Temp\")').closest('.cell').remove();\n",
       "        var code = IPython.notebook.insert_cell_below('code');\n",
       "        code.set_text(atob(\"IyBUZW1wCmluc2VydCgnJycKcGFwYTIwMTJhID0gREIoV29ya1VucmVsYXRlZCgKICAgIDIwMTIsICJUb3dhcmQgdGhlIGltcHJvdmVtZW50IG9mIGEgbWVhc3VyZW1lbnQgYW5kIGV2YWx1YXRpb24gc3RyYXRlZ3kgZnJvbSBhIGNvbXBhcmF0aXZlIHN0dWR5IiwKICAgIGRpc3BsYXk9InBhcGEiLAogICAgYXV0aG9ycz0iUGFwYSwgRmVybmFuZGEiLAogICAgcGxhY2U9SUNTRSwKICAgIHBwPSIxODktLTIwMyIsCiAgICBlbnRyeXR5cGU9ImlucHJvY2VlZGluZ3MiLAogICAgb3JnYW5pemF0aW9uPSJTcHJpbmdlciIsCiAgICBJRD0icGFwYTIwMTJ0b3dhcmQiLAogICAgY2x1c3Rlcl9pZD0iNjA4NTIwOTc3MTYzOTM0MjY5MiIsCiAgICBzY2hvbGFyPSJodHRwOi8vc2Nob2xhci5nb29nbGUuY29tL3NjaG9sYXI/Y2l0ZXM9NjA4NTIwOTc3MTYzOTM0MjY5MiZhc19zZHQ9MjAwNSZzY2lvZHQ9MCw1JmhsPWVuIiwKICAgIHBsYWNleD0iSW50ZXJuYXRpb25hbCBDb25mZXJlbmNlIG9uIFdlYiBFbmdpbmVlcmluZyIsCikpCgpEQihDaXRhdGlvbigKICAgIHBhcGEyMDEyYSwgYmFzaWxpMjAxMGEsIHJlZj0iIiwKICAgIGNvbnRleHRzPVsKCiAgICBdLAopKQoKJycnLCBjaXRhdGlvbnM9J2Jhc2lsaTIwMTBhJyk7\"));\n",
       "    "
      ],
      "text/plain": [
       "<IPython.core.display.Javascript object>"
      ]
     },
     "metadata": {},
     "output_type": "display_data"
    },
    {
     "data": {
      "application/javascript": [
       "$('span:contains(\"# Temp\")').closest('.cell').remove();"
      ],
      "text/plain": [
       "<IPython.core.display.Javascript object>"
      ]
     },
     "metadata": {},
     "output_type": "display_data"
    },
    {
     "data": {
      "application/javascript": [
       "\n",
       "        $('span:contains(\"# Temp\")').closest('.cell').remove();\n",
       "        var code = IPython.notebook.insert_cell_below('code');\n",
       "        code.set_text(atob(\"IyBUZW1wCmluc2VydCgnJycKbfxuY2gyMDEzYyA9IERCKFdvcmtVbnJlbGF0ZWQoCiAgICAyMDEzLCAiRXhwZXJpZW5jZXMgYW5kIGluc2lnaHRzIGZyb20gYXBwbHlpbmcgZ3FtKyBzdHJhdGVnaWVzIGluIGEgc3lzdGVtcyBwcm9kdWN0IGRldmVsb3BtZW50IG9yZ2FuaXNhdGlvbiIsCiAgICBkaXNwbGF5PSJt/G5jaCBjIiwKICAgIGF1dGhvcnM9Ik38bmNoLCBK/HJnZW4gYW5kIEZhZ2VyaG9sbSwgRmFiaWFuIGFuZCBLZXR0dW5lbiwgUGV0cmkgYW5kIFBhZ2VscywgTWF4IGFuZCBQYXJ0YW5lbiwgSmFyaSIsCiAgICBwbGFjZT1TRUFBLAogICAgcHA9IjcwLS03NyIsCiAgICBlbnRyeXR5cGU9ImlucHJvY2VlZGluZ3MiLAogICAgb3JnYW5pemF0aW9uPSJJRUVFIiwKICAgIElEPSJtdW5jaDIwMTNleHBlcmllbmNlcyIsCiAgICBjbHVzdGVyX2lkPSIxMjIxOTA5ODU4MTMxMTc0MTY0OSIsCiAgICBzY2hvbGFyPSJodHRwOi8vc2Nob2xhci5nb29nbGUuY29tL3NjaG9sYXI/Y2l0ZXM9MTIyMTkwOTg1ODEzMTE3NDE2NDkmYXNfc2R0PTIwMDUmc2Npb2R0PTAsNSZobD1lbiIsCiAgICBwbGFjZXg9IlNvZnR3YXJlIEVuZ2luZWVyaW5nIGFuZCBBZHZhbmNlZCBBcHBsaWNhdGlvbnMgKFNFQUEpLCAyMDEzIDM5dGggRVVST01JQ1JPIENvbmZlcmVuY2Ugb24iLAopKQoKREIoQ2l0YXRpb24oCiAgICBt/G5jaDIwMTNjLCBiYXNpbGkyMDEwYSwgcmVmPSIiLAogICAgY29udGV4dHM9WwoKICAgIF0sCikpCgonJycsIGNpdGF0aW9ucz0nYmFzaWxpMjAxMGEnKTs=\"));\n",
       "    "
      ],
      "text/plain": [
       "<IPython.core.display.Javascript object>"
      ]
     },
     "metadata": {},
     "output_type": "display_data"
    },
    {
     "data": {
      "application/javascript": [
       "$('span:contains(\"# Temp\")').closest('.cell').remove();"
      ],
      "text/plain": [
       "<IPython.core.display.Javascript object>"
      ]
     },
     "metadata": {},
     "output_type": "display_data"
    },
    {
     "data": {
      "application/javascript": [
       "\n",
       "        $('span:contains(\"# Temp\")').closest('.cell').remove();\n",
       "        var code = IPython.notebook.insert_cell_below('code');\n",
       "        code.set_text(atob(\"IyBUZW1wCmluc2VydCgnJycKbfxuY2gyMDEzYyA9IERCKFdvcmtVbnJlbGF0ZWQoCiAgICAyMDEzLCAiRXhwZXJpZW5jZXMgYW5kIGluc2lnaHRzIGZyb20gYXBwbHlpbmcgZ3FtKyBzdHJhdGVnaWVzIGluIGEgc3lzdGVtcyBwcm9kdWN0IGRldmVsb3BtZW50IG9yZ2FuaXNhdGlvbiIsCiAgICBkaXNwbGF5PSJt/G5jaCBjIiwKICAgIGF1dGhvcnM9Ik38bmNoLCBK/HJnZW4gYW5kIEZhZ2VyaG9sbSwgRmFiaWFuIGFuZCBLZXR0dW5lbiwgUGV0cmkgYW5kIFBhZ2VscywgTWF4IGFuZCBQYXJ0YW5lbiwgSmFyaSIsCiAgICBwbGFjZT1TRUFBLAogICAgcHA9IjcwLS03NyIsCiAgICBlbnRyeXR5cGU9ImlucHJvY2VlZGluZ3MiLAogICAgb3JnYW5pemF0aW9uPSJJRUVFIiwKICAgIElEPSJtdW5jaDIwMTNleHBlcmllbmNlcyIsCiAgICBjbHVzdGVyX2lkPSIxMjIxOTA5ODU4MTMxMTc0MTY0OSIsCiAgICBzY2hvbGFyPSJodHRwOi8vc2Nob2xhci5nb29nbGUuY29tL3NjaG9sYXI/Y2l0ZXM9MTIyMTkwOTg1ODEzMTE3NDE2NDkmYXNfc2R0PTIwMDUmc2Npb2R0PTAsNSZobD1lbiIsCiAgICBwbGFjZXg9IlNvZnR3YXJlIEVuZ2luZWVyaW5nIGFuZCBBZHZhbmNlZCBBcHBsaWNhdGlvbnMgKFNFQUEpLCAyMDEzIDM5dGggRVVST01JQ1JPIENvbmZlcmVuY2Ugb24iLAopKQoKREIoQ2l0YXRpb24oCiAgICBt/G5jaDIwMTNjLCBiYXNpbGkyMDEwYSwgcmVmPSIiLAogICAgY29udGV4dHM9WwoKICAgIF0sCikpCgonJycsIGNpdGF0aW9ucz0nYmFzaWxpMjAxMGEnKTs=\"));\n",
       "    "
      ],
      "text/plain": [
       "<IPython.core.display.Javascript object>"
      ]
     },
     "metadata": {},
     "output_type": "display_data"
    },
    {
     "data": {
      "application/javascript": [
       "$('span:contains(\"# Temp\")').closest('.cell').remove();"
      ],
      "text/plain": [
       "<IPython.core.display.Javascript object>"
      ]
     },
     "metadata": {},
     "output_type": "display_data"
    },
    {
     "data": {
      "application/javascript": [
       "\n",
       "        $('span:contains(\"# Temp\")').closest('.cell').remove();\n",
       "        var code = IPython.notebook.insert_cell_below('code');\n",
       "        code.set_text(atob(\"IyBUZW1wCmluc2VydCgnJycKREIoQ2l0YXRpb24oCiAgICB0cmVuZG93aWN6MjAxMWEsIGJhc2lsaTIwMTBhLCByZWY9IiIsCiAgICBjb250ZXh0cz1bCgogICAgXSwKKSkKCicnJywgY2l0YXRpb25zPSdiYXNpbGkyMDEwYScpOwpzZXRfYXR0cmlidXRlKCd0cmVuZG93aWN6MjAxMWEnLCAnb3JnYW5pemF0aW9uJywgJ0lFRUUnKTsKc2V0X2F0dHJpYnV0ZSgndHJlbmRvd2ljejIwMTFhJywgJ2V4Y2VycHQnLCAnQ29tcGFuaWVzIGluY3JlYXNpbmdseSByZWNvZ25pemUgdGhhdCBzb2Z0d2FyZSBhbmQgSVQgcGxheSBhIHNpZ25pZmljYW50IHJvbGUgZm9yIHRoZWlyIGN1cnJlbnQgYW5kIGZ1dHVyZSBidXNpbmVzcyBzdHJhdGVnaWVzLiBUaGVyZWZvcmUsIGl0IGlzIGltcG9ydGFudCB0byBhbGlnbiBJVC9zb2Z0d2FyZS1yZWxhdGVkIHN0cmF0ZWdpZXMgd2l0aCB0aGUgYnVzaW5lc3MgZ29hbHMgYWNyb3NzIHRoZSBvcmdhbml6YXRpb24uIEN1cnJlbnRseSwgbGl0dGxlIGV4cGVyaWVuY2UgZXhpc3RzICcpOwpzZXRfYXR0cmlidXRlKCd0cmVuZG93aWN6MjAxMWEnLCAnY2x1c3Rlcl9pZCcsICcyMzU0OTQxNzY4MzQ1NzYyNjc2Jyk7CnNldF9hdHRyaWJ1dGUoJ3RyZW5kb3dpY3oyMDExYScsICdzY2hvbGFyJywgJ2h0dHA6Ly9zY2hvbGFyLmdvb2dsZS5jb20vc2Nob2xhcj9jaXRlcz0yMzU0OTQxNzY4MzQ1NzYyNjc2JmFzX3NkdD0yMDA1JnNjaW9kdD0wLDUmaGw9ZW4nKTs=\"));\n",
       "    "
      ],
      "text/plain": [
       "<IPython.core.display.Javascript object>"
      ]
     },
     "metadata": {},
     "output_type": "display_data"
    },
    {
     "data": {
      "application/javascript": [
       "$('span:contains(\"# Temp\")').closest('.cell').remove();"
      ],
      "text/plain": [
       "<IPython.core.display.Javascript object>"
      ]
     },
     "metadata": {},
     "output_type": "display_data"
    },
    {
     "data": {
      "application/javascript": [
       "\n",
       "        $('span:contains(\"# Temp\")').closest('.cell').remove();\n",
       "        var code = IPython.notebook.insert_cell_below('code');\n",
       "        code.set_text(atob(\"IyBUZW1wCmluc2VydCgnJycKREIoQ2l0YXRpb24oCiAgICB0cmVuZG93aWN6MjAxMWEsIGJhc2lsaTIwMTBhLCByZWY9IiIsCiAgICBjb250ZXh0cz1bCgogICAgXSwKKSkKCicnJywgY2l0YXRpb25zPSdiYXNpbGkyMDEwYScpOwpzZXRfYXR0cmlidXRlKCd0cmVuZG93aWN6MjAxMWEnLCAnb3JnYW5pemF0aW9uJywgJ0lFRUUnKTsKc2V0X2F0dHJpYnV0ZSgndHJlbmRvd2ljejIwMTFhJywgJ2V4Y2VycHQnLCAnQ29tcGFuaWVzIGluY3JlYXNpbmdseSByZWNvZ25pemUgdGhhdCBzb2Z0d2FyZSBhbmQgSVQgcGxheSBhIHNpZ25pZmljYW50IHJvbGUgZm9yIHRoZWlyIGN1cnJlbnQgYW5kIGZ1dHVyZSBidXNpbmVzcyBzdHJhdGVnaWVzLiBUaGVyZWZvcmUsIGl0IGlzIGltcG9ydGFudCB0byBhbGlnbiBJVC9zb2Z0d2FyZS1yZWxhdGVkIHN0cmF0ZWdpZXMgd2l0aCB0aGUgYnVzaW5lc3MgZ29hbHMgYWNyb3NzIHRoZSBvcmdhbml6YXRpb24uIEN1cnJlbnRseSwgbGl0dGxlIGV4cGVyaWVuY2UgZXhpc3RzICcpOwpzZXRfYXR0cmlidXRlKCd0cmVuZG93aWN6MjAxMWEnLCAnY2x1c3Rlcl9pZCcsICcyMzU0OTQxNzY4MzQ1NzYyNjc2Jyk7CnNldF9hdHRyaWJ1dGUoJ3RyZW5kb3dpY3oyMDExYScsICdzY2hvbGFyJywgJ2h0dHA6Ly9zY2hvbGFyLmdvb2dsZS5jb20vc2Nob2xhcj9jaXRlcz0yMzU0OTQxNzY4MzQ1NzYyNjc2JmFzX3NkdD0yMDA1JnNjaW9kdD0wLDUmaGw9ZW4nKTs=\"));\n",
       "    "
      ],
      "text/plain": [
       "<IPython.core.display.Javascript object>"
      ]
     },
     "metadata": {},
     "output_type": "display_data"
    },
    {
     "data": {
      "application/javascript": [
       "$('span:contains(\"# Temp\")').closest('.cell').remove();"
      ],
      "text/plain": [
       "<IPython.core.display.Javascript object>"
      ]
     },
     "metadata": {},
     "output_type": "display_data"
    },
    {
     "data": {
      "application/javascript": [
       "\n",
       "        $('span:contains(\"# Temp\")').closest('.cell').remove();\n",
       "        var code = IPython.notebook.insert_cell_below('code');\n",
       "        code.set_text(atob(\"IyBUZW1wCmluc2VydCgnJycKREIoQ2l0YXRpb24oCiAgICBzYXJjaWEyMDEwYSwgYmFzaWxpMjAxMGEsIHJlZj0iIiwKICAgIGNvbnRleHRzPVsKCiAgICBdLAopKQoKJycnLCBjaXRhdGlvbnM9J2Jhc2lsaTIwMTBhJyk7CnNldF9hdHRyaWJ1dGUoJ3NhcmNpYTIwMTBhJywgJ3BwJywgJzQ1Jyk7CnNldF9hdHRyaWJ1dGUoJ3NhcmNpYTIwMTBhJywgJ29yZ2FuaXphdGlvbicsICdBQ00nKTsKc2V0X2F0dHJpYnV0ZSgnc2FyY2lhMjAxMGEnLCAnZXhjZXJwdCcsICdBYnN0cmFjdCBUaGlzIHBhcGVyIHJlcG9ydHMgb24gdGhlIG9uZ29pbmcgZXhwZXJpZW5jZSBvZiBhcHBseWluZyBhIHZhcmlhbnQgb2YgdGhlIEdRTSsgU3RyYXRlZ2llcyBhcHByb2FjaCB0byBub24tc29mdHdhcmUgZGV2ZWxvcG1lbnQgZG9tYWlucyAoZWcsIG1pbGl0YXJ5IHRyYWluaW5nIGRvbWFpbikuIEhvd2V2ZXIsIHdlIGZvdW5kIHRoYXQgaXQgaXMgbm90IGRpcmVjdGx5IHBvc3NpYmxlIHRvIGFwcGx5IHRoZSBHUU0rIFN0cmF0ZWdpZXMgYXBwcm9hY2ggYXMgJyk7CnNldF9hdHRyaWJ1dGUoJ3NhcmNpYTIwMTBhJywgJ2NsdXN0ZXJfaWQnLCAnMTgzNDA5NjI2MTE3OTUxNjE1ODInKTsKc2V0X2F0dHJpYnV0ZSgnc2FyY2lhMjAxMGEnLCAnc2Nob2xhcicsICdodHRwOi8vc2Nob2xhci5nb29nbGUuY29tL3NjaG9sYXI/Y2l0ZXM9MTgzNDA5NjI2MTE3OTUxNjE1ODImYXNfc2R0PTIwMDUmc2Npb2R0PTAsNSZobD1lbicpOwpzZXRfYXR0cmlidXRlKCdzYXJjaWEyMDEwYScsICdwbGFjZXgnLCAnUHJvY2VlZGluZ3Mgb2YgdGhlIDIwMTAgQUNNLUlFRUUgSW50ZXJuYXRpb25hbCBTeW1wb3NpdW0gb24gRW1waXJpY2FsIFNvZnR3YXJlIEVuZ2luZWVyaW5nIGFuZCBNZWFzdXJlbWVudCcpOw==\"));\n",
       "    "
      ],
      "text/plain": [
       "<IPython.core.display.Javascript object>"
      ]
     },
     "metadata": {},
     "output_type": "display_data"
    },
    {
     "data": {
      "application/javascript": [
       "$('span:contains(\"# Temp\")').closest('.cell').remove();"
      ],
      "text/plain": [
       "<IPython.core.display.Javascript object>"
      ]
     },
     "metadata": {},
     "output_type": "display_data"
    },
    {
     "data": {
      "application/javascript": [
       "\n",
       "        $('span:contains(\"# Temp\")').closest('.cell').remove();\n",
       "        var code = IPython.notebook.insert_cell_below('code');\n",
       "        code.set_text(atob(\"IyBUZW1wCmluc2VydCgnJycKREIoQ2l0YXRpb24oCiAgICBzYXJjaWEyMDEwYSwgYmFzaWxpMjAxMGEsIHJlZj0iIiwKICAgIGNvbnRleHRzPVsKCiAgICBdLAopKQoKJycnLCBjaXRhdGlvbnM9J2Jhc2lsaTIwMTBhJyk7CnNldF9hdHRyaWJ1dGUoJ3NhcmNpYTIwMTBhJywgJ3BwJywgJzQ1Jyk7CnNldF9hdHRyaWJ1dGUoJ3NhcmNpYTIwMTBhJywgJ29yZ2FuaXphdGlvbicsICdBQ00nKTsKc2V0X2F0dHJpYnV0ZSgnc2FyY2lhMjAxMGEnLCAnZXhjZXJwdCcsICdBYnN0cmFjdCBUaGlzIHBhcGVyIHJlcG9ydHMgb24gdGhlIG9uZ29pbmcgZXhwZXJpZW5jZSBvZiBhcHBseWluZyBhIHZhcmlhbnQgb2YgdGhlIEdRTSsgU3RyYXRlZ2llcyBhcHByb2FjaCB0byBub24tc29mdHdhcmUgZGV2ZWxvcG1lbnQgZG9tYWlucyAoZWcsIG1pbGl0YXJ5IHRyYWluaW5nIGRvbWFpbikuIEhvd2V2ZXIsIHdlIGZvdW5kIHRoYXQgaXQgaXMgbm90IGRpcmVjdGx5IHBvc3NpYmxlIHRvIGFwcGx5IHRoZSBHUU0rIFN0cmF0ZWdpZXMgYXBwcm9hY2ggYXMgJyk7CnNldF9hdHRyaWJ1dGUoJ3NhcmNpYTIwMTBhJywgJ2NsdXN0ZXJfaWQnLCAnMTgzNDA5NjI2MTE3OTUxNjE1ODInKTsKc2V0X2F0dHJpYnV0ZSgnc2FyY2lhMjAxMGEnLCAnc2Nob2xhcicsICdodHRwOi8vc2Nob2xhci5nb29nbGUuY29tL3NjaG9sYXI/Y2l0ZXM9MTgzNDA5NjI2MTE3OTUxNjE1ODImYXNfc2R0PTIwMDUmc2Npb2R0PTAsNSZobD1lbicpOwpzZXRfYXR0cmlidXRlKCdzYXJjaWEyMDEwYScsICdwbGFjZXgnLCAnUHJvY2VlZGluZ3Mgb2YgdGhlIDIwMTAgQUNNLUlFRUUgSW50ZXJuYXRpb25hbCBTeW1wb3NpdW0gb24gRW1waXJpY2FsIFNvZnR3YXJlIEVuZ2luZWVyaW5nIGFuZCBNZWFzdXJlbWVudCcpOw==\"));\n",
       "    "
      ],
      "text/plain": [
       "<IPython.core.display.Javascript object>"
      ]
     },
     "metadata": {},
     "output_type": "display_data"
    },
    {
     "data": {
      "application/javascript": [
       "$('span:contains(\"# Temp\")').closest('.cell').remove();"
      ],
      "text/plain": [
       "<IPython.core.display.Javascript object>"
      ]
     },
     "metadata": {},
     "output_type": "display_data"
    },
    {
     "data": {
      "application/javascript": [
       "\n",
       "        $('span:contains(\"# Temp\")').closest('.cell').remove();\n",
       "        var code = IPython.notebook.insert_cell_below('code');\n",
       "        code.set_text(atob(\"IyBUZW1wCmluc2VydCgnJycKYmlyZDIwMTVhID0gREIoV29ya1VucmVsYXRlZCgKICAgIDIwMTUsICJUaGUgYXJ0IGFuZCBzY2llbmNlIG9mIGFuYWx5emluZyBzb2Z0d2FyZSBkYXRhIiwKICAgIGRpc3BsYXk9ImJpcmQiLAogICAgYXV0aG9ycz0iQmlyZCwgQ2hyaXN0aWFuIGFuZCBNZW56aWVzLCBUaW0gYW5kIFppbW1lcm1hbm4sIFRob21hcyIsCiAgICBwbGFjZT1Cb29rLAogICAgZW50cnl0eXBlPSJib29rIiwKICAgIHB1Ymxpc2hlcj0iRWxzZXZpZXIiLAogICAgSUQ9ImJpcmQyMDE1YXJ0IiwKICAgIGNsdXN0ZXJfaWQ9IjE3MDc2MzY2OTE5NTk4MTcxNzI4IiwKICAgIHNjaG9sYXI9Imh0dHA6Ly9zY2hvbGFyLmdvb2dsZS5jb20vc2Nob2xhcj9jaXRlcz0xNzA3NjM2NjkxOTU5ODE3MTcyOCZhc19zZHQ9MjAwNSZzY2lvZHQ9MCw1JmhsPWVuIiwKICAgIHBsYWNleD0iIiwKKSkKCkRCKENpdGF0aW9uKAogICAgYmlyZDIwMTVhLCBiYXNpbGkyMDEwYSwgcmVmPSIiLAogICAgY29udGV4dHM9WwoKICAgIF0sCikpCgonJycsIGNpdGF0aW9ucz0nYmFzaWxpMjAxMGEnKTs=\"));\n",
       "    "
      ],
      "text/plain": [
       "<IPython.core.display.Javascript object>"
      ]
     },
     "metadata": {},
     "output_type": "display_data"
    },
    {
     "data": {
      "application/javascript": [
       "$('span:contains(\"# Temp\")').closest('.cell').remove();"
      ],
      "text/plain": [
       "<IPython.core.display.Javascript object>"
      ]
     },
     "metadata": {},
     "output_type": "display_data"
    },
    {
     "data": {
      "application/javascript": [
       "\n",
       "        $('span:contains(\"# Temp\")').closest('.cell').remove();\n",
       "        var code = IPython.notebook.insert_cell_below('code');\n",
       "        code.set_text(atob(\"IyBUZW1wCmluc2VydCgnJycKYmlyZDIwMTVhID0gREIoV29ya1VucmVsYXRlZCgKICAgIDIwMTUsICJUaGUgYXJ0IGFuZCBzY2llbmNlIG9mIGFuYWx5emluZyBzb2Z0d2FyZSBkYXRhIiwKICAgIGRpc3BsYXk9ImJpcmQiLAogICAgYXV0aG9ycz0iQmlyZCwgQ2hyaXN0aWFuIGFuZCBNZW56aWVzLCBUaW0gYW5kIFppbW1lcm1hbm4sIFRob21hcyIsCiAgICBwbGFjZT1Cb29rLAogICAgZW50cnl0eXBlPSJib29rIiwKICAgIHB1Ymxpc2hlcj0iRWxzZXZpZXIiLAogICAgSUQ9ImJpcmQyMDE1YXJ0IiwKICAgIGNsdXN0ZXJfaWQ9IjE3MDc2MzY2OTE5NTk4MTcxNzI4IiwKICAgIHNjaG9sYXI9Imh0dHA6Ly9zY2hvbGFyLmdvb2dsZS5jb20vc2Nob2xhcj9jaXRlcz0xNzA3NjM2NjkxOTU5ODE3MTcyOCZhc19zZHQ9MjAwNSZzY2lvZHQ9MCw1JmhsPWVuIiwKICAgIHBsYWNleD0iIiwKKSkKCkRCKENpdGF0aW9uKAogICAgYmlyZDIwMTVhLCBiYXNpbGkyMDEwYSwgcmVmPSIiLAogICAgY29udGV4dHM9WwoKICAgIF0sCikpCgonJycsIGNpdGF0aW9ucz0nYmFzaWxpMjAxMGEnKTs=\"));\n",
       "    "
      ],
      "text/plain": [
       "<IPython.core.display.Javascript object>"
      ]
     },
     "metadata": {},
     "output_type": "display_data"
    },
    {
     "data": {
      "application/javascript": [
       "$('span:contains(\"# Temp\")').closest('.cell').remove();"
      ],
      "text/plain": [
       "<IPython.core.display.Javascript object>"
      ]
     },
     "metadata": {},
     "output_type": "display_data"
    },
    {
     "data": {
      "application/javascript": [
       "\n",
       "        $('span:contains(\"# Temp\")').closest('.cell').remove();\n",
       "        var code = IPython.notebook.insert_cell_below('code');\n",
       "        code.set_text(atob(\"IyBUZW1wCmluc2VydCgnJycKREIoQ2l0YXRpb24oCiAgICBiZWNrZXIyMDEyYSwgYmFzaWxpMjAxMGEsIHJlZj0iIiwKICAgIGNvbnRleHRzPVsKCiAgICBdLAopKQoKJycnLCBjaXRhdGlvbnM9J2Jhc2lsaTIwMTBhJyk7CnNldF9hdHRyaWJ1dGUoJ2JlY2tlcjIwMTJhJywgJ2V4Y2VycHQnLCAnQW55IG9yZ2FuaXphdGlvbiB0aGF0IGRldmVsb3BzIHNvZnR3YXJlIHN0cml2ZXMgdG8gaW1wcm92ZSB0aGUgcXVhbGl0eSBvZiBpdHMgcHJvZHVjdHMuIFRvIGRvIHRoaXMgZmlyc3QgcmVxdWlyZXMgYW4gdW5kZXJzdGFuZGluZyBvZiB0aGUgcXVhbGl0eSBvZiB0aGUgY3VycmVudCBwcm9kdWN0IHZlcnNpb24uIFRoZW4sIGJ5IGl0ZXJhdGl2ZWx5IG1ha2luZyBjaGFuZ2VzLCB0aGUgc29mdHdhcmUgY2FuIGJlIGltcHJvdmVkIHdpdGggc3Vic2VxdWVudCB2ZXJzaW9ucy4gQnV0IHRoaXMgJyk7\"));\n",
       "    "
      ],
      "text/plain": [
       "<IPython.core.display.Javascript object>"
      ]
     },
     "metadata": {},
     "output_type": "display_data"
    },
    {
     "data": {
      "application/javascript": [
       "$('span:contains(\"# Temp\")').closest('.cell').remove();"
      ],
      "text/plain": [
       "<IPython.core.display.Javascript object>"
      ]
     },
     "metadata": {},
     "output_type": "display_data"
    },
    {
     "data": {
      "application/javascript": [
       "\n",
       "        $('span:contains(\"# Temp\")').closest('.cell').remove();\n",
       "        var code = IPython.notebook.insert_cell_below('code');\n",
       "        code.set_text(atob(\"IyBUZW1wCmluc2VydCgnJycKREIoQ2l0YXRpb24oCiAgICBiZWNrZXIyMDEyYSwgYmFzaWxpMjAxMGEsIHJlZj0iIiwKICAgIGNvbnRleHRzPVsKCiAgICBdLAopKQoKJycnLCBjaXRhdGlvbnM9J2Jhc2lsaTIwMTBhJyk7CnNldF9hdHRyaWJ1dGUoJ2JlY2tlcjIwMTJhJywgJ2V4Y2VycHQnLCAnQW55IG9yZ2FuaXphdGlvbiB0aGF0IGRldmVsb3BzIHNvZnR3YXJlIHN0cml2ZXMgdG8gaW1wcm92ZSB0aGUgcXVhbGl0eSBvZiBpdHMgcHJvZHVjdHMuIFRvIGRvIHRoaXMgZmlyc3QgcmVxdWlyZXMgYW4gdW5kZXJzdGFuZGluZyBvZiB0aGUgcXVhbGl0eSBvZiB0aGUgY3VycmVudCBwcm9kdWN0IHZlcnNpb24uIFRoZW4sIGJ5IGl0ZXJhdGl2ZWx5IG1ha2luZyBjaGFuZ2VzLCB0aGUgc29mdHdhcmUgY2FuIGJlIGltcHJvdmVkIHdpdGggc3Vic2VxdWVudCB2ZXJzaW9ucy4gQnV0IHRoaXMgJyk7\"));\n",
       "    "
      ],
      "text/plain": [
       "<IPython.core.display.Javascript object>"
      ]
     },
     "metadata": {},
     "output_type": "display_data"
    },
    {
     "data": {
      "application/javascript": [
       "$('span:contains(\"# Temp\")').closest('.cell').remove();"
      ],
      "text/plain": [
       "<IPython.core.display.Javascript object>"
      ]
     },
     "metadata": {},
     "output_type": "display_data"
    },
    {
     "data": {
      "application/javascript": [
       "\n",
       "        $('span:contains(\"# Temp\")').closest('.cell').remove();\n",
       "        var code = IPython.notebook.insert_cell_below('code');\n",
       "        code.set_text(atob(\"IyBUZW1wCmluc2VydCgnJycKREIoQ2l0YXRpb24oCiAgICBiYXNpbGkyMDEzYSwgYmFzaWxpMjAxMGEsIHJlZj0iIiwKICAgIGNvbnRleHRzPVsKCiAgICBdLAopKQoKJycnLCBjaXRhdGlvbnM9J2Jhc2lsaTIwMTBhJyk7CnNldF9hdHRyaWJ1dGUoJ2Jhc2lsaTIwMTNhJywgJ29yZ2FuaXphdGlvbicsICdTcHJpbmdlcicpOwpzZXRfYXR0cmlidXRlKCdiYXNpbGkyMDEzYScsICdleGNlcnB0JywgJ0Fic3RyYWN0IENvbXBhbmllcyBpbmNyZWFzaW5nbHkgcmVjb2duaXplIHRoYXQgSVQgcGxheXMgYSBzaWduaWZpY2FudCByb2xlIGluIHRoZWlyIGN1cnJlbnQgYW5kIGZ1dHVyZSBidXNpbmVzcyBzdHJhdGVnaWVzLCBhbmQgSVQgZGVwYXJ0bWVudHMgaW5jcmVhc2luZ2x5IG5lZWQgdG8ganVzdGlmeSB0aGVpciByb2xlIGluIHRlcm1zIG9mIGNvbnRyaWJ1dGlvbnMgdG8gYnVzaW5lc3MgZ29hbHMuIEN1cnJlbnRseSwgbGl0dGxlIGV4cGVyaWVuY2UgZXhpc3RzIG9uIGhvdyB0byAnKTsKc2V0X2F0dHJpYnV0ZSgnYmFzaWxpMjAxM2EnLCAnY2x1c3Rlcl9pZCcsICc5NDY3OTI2ODM5NzI5MDc3MzQ3Jyk7CnNldF9hdHRyaWJ1dGUoJ2Jhc2lsaTIwMTNhJywgJ3NjaG9sYXInLCAnaHR0cDovL3NjaG9sYXIuZ29vZ2xlLmNvbS9zY2hvbGFyP2NpdGVzPTk0Njc5MjY4Mzk3MjkwNzczNDcmYXNfc2R0PTIwMDUmc2Npb2R0PTAsNSZobD1lbicpOw==\"));\n",
       "    "
      ],
      "text/plain": [
       "<IPython.core.display.Javascript object>"
      ]
     },
     "metadata": {},
     "output_type": "display_data"
    },
    {
     "data": {
      "application/javascript": [
       "$('span:contains(\"# Temp\")').closest('.cell').remove();"
      ],
      "text/plain": [
       "<IPython.core.display.Javascript object>"
      ]
     },
     "metadata": {},
     "output_type": "display_data"
    },
    {
     "data": {
      "application/javascript": [
       "\n",
       "        $('span:contains(\"# Temp\")').closest('.cell').remove();\n",
       "        var code = IPython.notebook.insert_cell_below('code');\n",
       "        code.set_text(atob(\"IyBUZW1wCmluc2VydCgnJycKREIoQ2l0YXRpb24oCiAgICBiYXNpbGkyMDEzYSwgYmFzaWxpMjAxMGEsIHJlZj0iIiwKICAgIGNvbnRleHRzPVsKCiAgICBdLAopKQoKJycnLCBjaXRhdGlvbnM9J2Jhc2lsaTIwMTBhJyk7CnNldF9hdHRyaWJ1dGUoJ2Jhc2lsaTIwMTNhJywgJ29yZ2FuaXphdGlvbicsICdTcHJpbmdlcicpOwpzZXRfYXR0cmlidXRlKCdiYXNpbGkyMDEzYScsICdleGNlcnB0JywgJ0Fic3RyYWN0IENvbXBhbmllcyBpbmNyZWFzaW5nbHkgcmVjb2duaXplIHRoYXQgSVQgcGxheXMgYSBzaWduaWZpY2FudCByb2xlIGluIHRoZWlyIGN1cnJlbnQgYW5kIGZ1dHVyZSBidXNpbmVzcyBzdHJhdGVnaWVzLCBhbmQgSVQgZGVwYXJ0bWVudHMgaW5jcmVhc2luZ2x5IG5lZWQgdG8ganVzdGlmeSB0aGVpciByb2xlIGluIHRlcm1zIG9mIGNvbnRyaWJ1dGlvbnMgdG8gYnVzaW5lc3MgZ29hbHMuIEN1cnJlbnRseSwgbGl0dGxlIGV4cGVyaWVuY2UgZXhpc3RzIG9uIGhvdyB0byAnKTsKc2V0X2F0dHJpYnV0ZSgnYmFzaWxpMjAxM2EnLCAnY2x1c3Rlcl9pZCcsICc5NDY3OTI2ODM5NzI5MDc3MzQ3Jyk7CnNldF9hdHRyaWJ1dGUoJ2Jhc2lsaTIwMTNhJywgJ3NjaG9sYXInLCAnaHR0cDovL3NjaG9sYXIuZ29vZ2xlLmNvbS9zY2hvbGFyP2NpdGVzPTk0Njc5MjY4Mzk3MjkwNzczNDcmYXNfc2R0PTIwMDUmc2Npb2R0PTAsNSZobD1lbicpOw==\"));\n",
       "    "
      ],
      "text/plain": [
       "<IPython.core.display.Javascript object>"
      ]
     },
     "metadata": {},
     "output_type": "display_data"
    },
    {
     "data": {
      "application/javascript": [
       "$('span:contains(\"# Temp\")').closest('.cell').remove();"
      ],
      "text/plain": [
       "<IPython.core.display.Javascript object>"
      ]
     },
     "metadata": {},
     "output_type": "display_data"
    },
    {
     "data": {
      "application/javascript": [
       "\n",
       "        $('span:contains(\"# Temp\")').closest('.cell').remove();\n",
       "        var code = IPython.notebook.insert_cell_below('code');\n",
       "        code.set_text(atob(\"IyBUZW1wCmluc2VydCgnJycKYmVja2VyMjAxNWEgPSBEQihXb3JrVW5yZWxhdGVkKAogICAgMjAxNSwgIlByb2Nlc3Mgb250b2xvZ3kgc3BlY2lmaWNhdGlvbiBmb3IgZW5oYW5jaW5nIHRoZSBwcm9jZXNzIGNvbXBsaWFuY2Ugb2YgYSBtZWFzdXJlbWVudCBhbmQgZXZhbHVhdGlvbiBzdHJhdGVneSIsCiAgICBkaXNwbGF5PSJiZWNrZXIiLAogICAgYXV0aG9ycz0iQmVja2VyLCBQYWJsbyBhbmQgUGFwYSwgRmVybmFuZGEgYW5kIE9sc2luYSwgTHVpcyIsCiAgICBwbGFjZT1GQUtFLAogICAgcHA9IjMtLTMiLAogICAgZW50cnl0eXBlPSJhcnRpY2xlIiwKICAgIHZvbHVtZT0iMTgiLAogICAgbnVtYmVyPSIxIiwKICAgIHB1Ymxpc2hlcj0iQ2VudHJvIExhdGlub2FtZXJpY2FubyBkZSBFc3R1ZGlvcyBlbiBJbmZvcm3hdGljYSIsCiAgICBJRD0iYmVja2VyMjAxNXByb2Nlc3MiLAogICAgY2x1c3Rlcl9pZD0iMTI5MzUwMDAzNDE4MjMyMDg4OTUiLAogICAgc2Nob2xhcj0iaHR0cDovL3NjaG9sYXIuZ29vZ2xlLmNvbS9zY2hvbGFyP2NpdGVzPTEyOTM1MDAwMzQxODIzMjA4ODk1JmFzX3NkdD0yMDA1JnNjaW9kdD0wLDUmaGw9ZW4iLAogICAgcGxhY2V4PSJDTEVJIEVsZWN0cm9uaWMgSm91cm5hbCIsCikpCgpEQihDaXRhdGlvbigKICAgIGJlY2tlcjIwMTVhLCBiYXNpbGkyMDEwYSwgcmVmPSIiLAogICAgY29udGV4dHM9WwoKICAgIF0sCikpCgonJycsIGNpdGF0aW9ucz0nYmFzaWxpMjAxMGEnKTs=\"));\n",
       "    "
      ],
      "text/plain": [
       "<IPython.core.display.Javascript object>"
      ]
     },
     "metadata": {},
     "output_type": "display_data"
    },
    {
     "data": {
      "application/javascript": [
       "$('span:contains(\"# Temp\")').closest('.cell').remove();"
      ],
      "text/plain": [
       "<IPython.core.display.Javascript object>"
      ]
     },
     "metadata": {},
     "output_type": "display_data"
    },
    {
     "data": {
      "application/javascript": [
       "\n",
       "        $('span:contains(\"# Temp\")').closest('.cell').remove();\n",
       "        var code = IPython.notebook.insert_cell_below('code');\n",
       "        code.set_text(atob(\"IyBUZW1wCmluc2VydCgnJycKYmVja2VyMjAxNWEgPSBEQihXb3JrVW5yZWxhdGVkKAogICAgMjAxNSwgIlByb2Nlc3Mgb250b2xvZ3kgc3BlY2lmaWNhdGlvbiBmb3IgZW5oYW5jaW5nIHRoZSBwcm9jZXNzIGNvbXBsaWFuY2Ugb2YgYSBtZWFzdXJlbWVudCBhbmQgZXZhbHVhdGlvbiBzdHJhdGVneSIsCiAgICBkaXNwbGF5PSJiZWNrZXIiLAogICAgYXV0aG9ycz0iQmVja2VyLCBQYWJsbyBhbmQgUGFwYSwgRmVybmFuZGEgYW5kIE9sc2luYSwgTHVpcyIsCiAgICBwbGFjZT1GQUtFLAogICAgcHA9IjMtLTMiLAogICAgZW50cnl0eXBlPSJhcnRpY2xlIiwKICAgIHZvbHVtZT0iMTgiLAogICAgbnVtYmVyPSIxIiwKICAgIHB1Ymxpc2hlcj0iQ2VudHJvIExhdGlub2FtZXJpY2FubyBkZSBFc3R1ZGlvcyBlbiBJbmZvcm3hdGljYSIsCiAgICBJRD0iYmVja2VyMjAxNXByb2Nlc3MiLAogICAgY2x1c3Rlcl9pZD0iMTI5MzUwMDAzNDE4MjMyMDg4OTUiLAogICAgc2Nob2xhcj0iaHR0cDovL3NjaG9sYXIuZ29vZ2xlLmNvbS9zY2hvbGFyP2NpdGVzPTEyOTM1MDAwMzQxODIzMjA4ODk1JmFzX3NkdD0yMDA1JnNjaW9kdD0wLDUmaGw9ZW4iLAogICAgcGxhY2V4PSJDTEVJIEVsZWN0cm9uaWMgSm91cm5hbCIsCikpCgpEQihDaXRhdGlvbigKICAgIGJlY2tlcjIwMTVhLCBiYXNpbGkyMDEwYSwgcmVmPSIiLAogICAgY29udGV4dHM9WwoKICAgIF0sCikpCgonJycsIGNpdGF0aW9ucz0nYmFzaWxpMjAxMGEnKTs=\"));\n",
       "    "
      ],
      "text/plain": [
       "<IPython.core.display.Javascript object>"
      ]
     },
     "metadata": {},
     "output_type": "display_data"
    },
    {
     "data": {
      "application/javascript": [
       "$('span:contains(\"# Temp\")').closest('.cell').remove();"
      ],
      "text/plain": [
       "<IPython.core.display.Javascript object>"
      ]
     },
     "metadata": {},
     "output_type": "display_data"
    },
    {
     "data": {
      "application/javascript": [
       "\n",
       "        $('span:contains(\"# Temp\")').closest('.cell').remove();\n",
       "        var code = IPython.notebook.insert_cell_below('code');\n",
       "        code.set_text(atob(\"IyBUZW1wCmluc2VydCgnJycKYmVja2VyMjAxMWIgPSBEQihXb3JrVW5yZWxhdGVkKAogICAgMjAxMSwgIlN0cmF0ZWd5IHRvIGltcHJvdmUgcXVhbGl0eSBmb3Igc29mdHdhcmUgYXBwbGljYXRpb25zOiBhIHByb2Nlc3MgdmlldyIsCiAgICBkaXNwbGF5PSJiZWNrZXIgYiIsCiAgICBhdXRob3JzPSJCZWNrZXIsIFBhYmxvIGFuZCBMZXcsIFBoaWxpcCBhbmQgT2xzaW5hLCBMdWlzIiwKICAgIHBsYWNlPUZBS0UsCiAgICBwcD0iMTI5LS0xMzgiLAogICAgZW50cnl0eXBlPSJpbnByb2NlZWRpbmdzIiwKICAgIG9yZ2FuaXphdGlvbj0iQUNNIiwKICAgIElEPSJiZWNrZXIyMDExc3RyYXRlZ3kiLAogICAgY2x1c3Rlcl9pZD0iMTI1Nzk5NzQ0Mjg5NTQzNjY2MTIiLAogICAgc2Nob2xhcj0iaHR0cDovL3NjaG9sYXIuZ29vZ2xlLmNvbS9zY2hvbGFyP2NpdGVzPTEyNTc5OTc0NDI4OTU0MzY2NjEyJmFzX3NkdD0yMDA1JnNjaW9kdD0wLDUmaGw9ZW4iLAogICAgcGxhY2V4PSJQcm9jZWVkaW5ncyBvZiB0aGUgMjAxMSBJbnRlcm5hdGlvbmFsIENvbmZlcmVuY2Ugb24gU29mdHdhcmUgYW5kIFN5c3RlbXMgUHJvY2VzcyIsCikpCgpEQihDaXRhdGlvbigKICAgIGJlY2tlcjIwMTFiLCBiYXNpbGkyMDEwYSwgcmVmPSIiLAogICAgY29udGV4dHM9WwoKICAgIF0sCikpCgonJycsIGNpdGF0aW9ucz0nYmFzaWxpMjAxMGEnKTs=\"));\n",
       "    "
      ],
      "text/plain": [
       "<IPython.core.display.Javascript object>"
      ]
     },
     "metadata": {},
     "output_type": "display_data"
    },
    {
     "data": {
      "application/javascript": [
       "$('span:contains(\"# Temp\")').closest('.cell').remove();"
      ],
      "text/plain": [
       "<IPython.core.display.Javascript object>"
      ]
     },
     "metadata": {},
     "output_type": "display_data"
    },
    {
     "data": {
      "application/javascript": [
       "\n",
       "        $('span:contains(\"# Temp\")').closest('.cell').remove();\n",
       "        var code = IPython.notebook.insert_cell_below('code');\n",
       "        code.set_text(atob(\"IyBUZW1wCmluc2VydCgnJycKYmVja2VyMjAxMWIgPSBEQihXb3JrVW5yZWxhdGVkKAogICAgMjAxMSwgIlN0cmF0ZWd5IHRvIGltcHJvdmUgcXVhbGl0eSBmb3Igc29mdHdhcmUgYXBwbGljYXRpb25zOiBhIHByb2Nlc3MgdmlldyIsCiAgICBkaXNwbGF5PSJiZWNrZXIgYiIsCiAgICBhdXRob3JzPSJCZWNrZXIsIFBhYmxvIGFuZCBMZXcsIFBoaWxpcCBhbmQgT2xzaW5hLCBMdWlzIiwKICAgIHBsYWNlPUZBS0UsCiAgICBwcD0iMTI5LS0xMzgiLAogICAgZW50cnl0eXBlPSJpbnByb2NlZWRpbmdzIiwKICAgIG9yZ2FuaXphdGlvbj0iQUNNIiwKICAgIElEPSJiZWNrZXIyMDExc3RyYXRlZ3kiLAogICAgY2x1c3Rlcl9pZD0iMTI1Nzk5NzQ0Mjg5NTQzNjY2MTIiLAogICAgc2Nob2xhcj0iaHR0cDovL3NjaG9sYXIuZ29vZ2xlLmNvbS9zY2hvbGFyP2NpdGVzPTEyNTc5OTc0NDI4OTU0MzY2NjEyJmFzX3NkdD0yMDA1JnNjaW9kdD0wLDUmaGw9ZW4iLAogICAgcGxhY2V4PSJQcm9jZWVkaW5ncyBvZiB0aGUgMjAxMSBJbnRlcm5hdGlvbmFsIENvbmZlcmVuY2Ugb24gU29mdHdhcmUgYW5kIFN5c3RlbXMgUHJvY2VzcyIsCikpCgpEQihDaXRhdGlvbigKICAgIGJlY2tlcjIwMTFiLCBiYXNpbGkyMDEwYSwgcmVmPSIiLAogICAgY29udGV4dHM9WwoKICAgIF0sCikpCgonJycsIGNpdGF0aW9ucz0nYmFzaWxpMjAxMGEnKTs=\"));\n",
       "    "
      ],
      "text/plain": [
       "<IPython.core.display.Javascript object>"
      ]
     },
     "metadata": {},
     "output_type": "display_data"
    },
    {
     "data": {
      "application/javascript": [
       "$('span:contains(\"# Temp\")').closest('.cell').remove();"
      ],
      "text/plain": [
       "<IPython.core.display.Javascript object>"
      ]
     },
     "metadata": {},
     "output_type": "display_data"
    },
    {
     "data": {
      "application/javascript": [
       "\n",
       "        $('span:contains(\"# Temp\")').closest('.cell').remove();\n",
       "        var code = IPython.notebook.insert_cell_below('code');\n",
       "        code.set_text(atob(\"IyBUZW1wCmluc2VydCgnJycKb2xzaW5hMjAxMWEgPSBEQihXb3JrVW5yZWxhdGVkKAogICAgMjAxMSwgIlVzaW5nIHdlYiBxdWFsaXR5IG1vZGVscyBhbmQgYSBzdHJhdGVneSBmb3IgcHVycG9zZS1vcmllbnRlZCBldmFsdWF0aW9ucyIsCiAgICBkaXNwbGF5PSJvbHNpbmEiLAogICAgYXV0aG9ycz0iT2xzaW5hLCBMdWlzIGFuZCBMZXcsIFBoaWxpcCBhbmQgRGllc2VyLCBBbGV4YW5kZXIgYW5kIFJpdmVyYSwgQmVsZW4iLAogICAgcGxhY2U9RkFLRSwKICAgIHBwPSIzMTYtLTM1MiIsCiAgICBlbnRyeXR5cGU9ImFydGljbGUiLAogICAgdm9sdW1lPSIxMCIsCiAgICBudW1iZXI9IjQiLAogICAgcHVibGlzaGVyPSJSaW50b24gUHJlc3MsIEluY29ycG9yYXRlZCIsCiAgICBJRD0ib2xzaW5hMjAxMXVzaW5nIiwKICAgIGNsdXN0ZXJfaWQ9Ijg4NjE4NzkzNzExODg4MTM3NjgiLAogICAgc2Nob2xhcj0iaHR0cDovL3NjaG9sYXIuZ29vZ2xlLmNvbS9zY2hvbGFyP2NpdGVzPTg4NjE4NzkzNzExODg4MTM3NjgmYXNfc2R0PTIwMDUmc2Npb2R0PTAsNSZobD1lbiIsCiAgICBwbGFjZXg9IkpvdXJuYWwgb2YgV2ViIEVuZ2luZWVyaW5nIiwKKSkKCkRCKENpdGF0aW9uKAogICAgb2xzaW5hMjAxMWEsIGJhc2lsaTIwMTBhLCByZWY9IiIsCiAgICBjb250ZXh0cz1bCgogICAgXSwKKSkKCicnJywgY2l0YXRpb25zPSdiYXNpbGkyMDEwYScpOw==\"));\n",
       "    "
      ],
      "text/plain": [
       "<IPython.core.display.Javascript object>"
      ]
     },
     "metadata": {},
     "output_type": "display_data"
    },
    {
     "data": {
      "application/javascript": [
       "$('span:contains(\"# Temp\")').closest('.cell').remove();"
      ],
      "text/plain": [
       "<IPython.core.display.Javascript object>"
      ]
     },
     "metadata": {},
     "output_type": "display_data"
    },
    {
     "data": {
      "application/javascript": [
       "\n",
       "        $('span:contains(\"# Temp\")').closest('.cell').remove();\n",
       "        var code = IPython.notebook.insert_cell_below('code');\n",
       "        code.set_text(atob(\"IyBUZW1wCmluc2VydCgnJycKb2xzaW5hMjAxMWEgPSBEQihXb3JrVW5yZWxhdGVkKAogICAgMjAxMSwgIlVzaW5nIHdlYiBxdWFsaXR5IG1vZGVscyBhbmQgYSBzdHJhdGVneSBmb3IgcHVycG9zZS1vcmllbnRlZCBldmFsdWF0aW9ucyIsCiAgICBkaXNwbGF5PSJvbHNpbmEiLAogICAgYXV0aG9ycz0iT2xzaW5hLCBMdWlzIGFuZCBMZXcsIFBoaWxpcCBhbmQgRGllc2VyLCBBbGV4YW5kZXIgYW5kIFJpdmVyYSwgQmVsZW4iLAogICAgcGxhY2U9RkFLRSwKICAgIHBwPSIzMTYtLTM1MiIsCiAgICBlbnRyeXR5cGU9ImFydGljbGUiLAogICAgdm9sdW1lPSIxMCIsCiAgICBudW1iZXI9IjQiLAogICAgcHVibGlzaGVyPSJSaW50b24gUHJlc3MsIEluY29ycG9yYXRlZCIsCiAgICBJRD0ib2xzaW5hMjAxMXVzaW5nIiwKICAgIGNsdXN0ZXJfaWQ9Ijg4NjE4NzkzNzExODg4MTM3NjgiLAogICAgc2Nob2xhcj0iaHR0cDovL3NjaG9sYXIuZ29vZ2xlLmNvbS9zY2hvbGFyP2NpdGVzPTg4NjE4NzkzNzExODg4MTM3NjgmYXNfc2R0PTIwMDUmc2Npb2R0PTAsNSZobD1lbiIsCiAgICBwbGFjZXg9IkpvdXJuYWwgb2YgV2ViIEVuZ2luZWVyaW5nIiwKKSkKCkRCKENpdGF0aW9uKAogICAgb2xzaW5hMjAxMWEsIGJhc2lsaTIwMTBhLCByZWY9IiIsCiAgICBjb250ZXh0cz1bCgogICAgXSwKKSkKCicnJywgY2l0YXRpb25zPSdiYXNpbGkyMDEwYScpOw==\"));\n",
       "    "
      ],
      "text/plain": [
       "<IPython.core.display.Javascript object>"
      ]
     },
     "metadata": {},
     "output_type": "display_data"
    },
    {
     "data": {
      "application/javascript": [
       "$('span:contains(\"# Temp\")').closest('.cell').remove();"
      ],
      "text/plain": [
       "<IPython.core.display.Javascript object>"
      ]
     },
     "metadata": {},
     "output_type": "display_data"
    },
    {
     "data": {
      "application/javascript": [
       "$('span:contains(\"# Temp\")').closest('.cell').remove();"
      ],
      "text/plain": [
       "<IPython.core.display.Javascript object>"
      ]
     },
     "metadata": {},
     "output_type": "display_data"
    },
    {
     "data": {
      "application/javascript": [
       "$('span:contains(\"# Temp\")').closest('.cell').remove();"
      ],
      "text/plain": [
       "<IPython.core.display.Javascript object>"
      ]
     },
     "metadata": {},
     "output_type": "display_data"
    },
    {
     "data": {
      "application/javascript": [
       "$('span:contains(\"# Temp\")').closest('.cell').remove();"
      ],
      "text/plain": [
       "<IPython.core.display.Javascript object>"
      ]
     },
     "metadata": {},
     "output_type": "display_data"
    },
    {
     "data": {
      "application/javascript": [
       "$('span:contains(\"# Temp\")').closest('.cell').remove();"
      ],
      "text/plain": [
       "<IPython.core.display.Javascript object>"
      ]
     },
     "metadata": {},
     "output_type": "display_data"
    },
    {
     "data": {
      "application/javascript": [
       "$('span:contains(\"# Temp\")').closest('.cell').remove();"
      ],
      "text/plain": [
       "<IPython.core.display.Javascript object>"
      ]
     },
     "metadata": {},
     "output_type": "display_data"
    },
    {
     "data": {
      "application/javascript": [
       "$('span:contains(\"# Temp\")').closest('.cell').remove();"
      ],
      "text/plain": [
       "<IPython.core.display.Javascript object>"
      ]
     },
     "metadata": {},
     "output_type": "display_data"
    },
    {
     "data": {
      "application/javascript": [
       "\n",
       "        $('span:contains(\"# Temp\")').closest('.cell').remove();\n",
       "        var code = IPython.notebook.insert_cell_below('code');\n",
       "        code.set_text(atob(\"IyBUZW1wCmluc2VydCgnJycKbGV3MjAxMWEgPSBEQihXb3JrVW5yZWxhdGVkKAogICAgMjAxMSwgIkluc3RhbnRpYXRpbmcgd2ViIHF1YWxpdHkgbW9kZWxzIGluIGEgcHVycG9zZWZ1bCB3YXkiLAogICAgZGlzcGxheT0ibGV3IiwKICAgIGF1dGhvcnM9IkxldywgUGhpbGlwIGFuZCBPbHNpbmEsIEx1aXMiLAogICAgcGxhY2U9SUNTRSwKICAgIHBwPSIyMTQtLTIyNyIsCiAgICBlbnRyeXR5cGU9ImlucHJvY2VlZGluZ3MiLAogICAgb3JnYW5pemF0aW9uPSJTcHJpbmdlciIsCiAgICBJRD0ibGV3MjAxMWluc3RhbnRpYXRpbmciLAogICAgY2x1c3Rlcl9pZD0iMTYzNjI1NzUzMjAzNzQxNTE0MzAiLAogICAgc2Nob2xhcj0iaHR0cDovL3NjaG9sYXIuZ29vZ2xlLmNvbS9zY2hvbGFyP2NpdGVzPTE2MzYyNTc1MzIwMzc0MTUxNDMwJmFzX3NkdD0yMDA1JnNjaW9kdD0wLDUmaGw9ZW4iLAogICAgcGxhY2V4PSJJbnRlcm5hdGlvbmFsIENvbmZlcmVuY2Ugb24gV2ViIEVuZ2luZWVyaW5nIiwKKSkKCkRCKENpdGF0aW9uKAogICAgbGV3MjAxMWEsIGJhc2lsaTIwMTBhLCByZWY9IiIsCiAgICBjb250ZXh0cz1bCgogICAgXSwKKSkKCicnJywgY2l0YXRpb25zPSdiYXNpbGkyMDEwYScpOw==\"));\n",
       "    "
      ],
      "text/plain": [
       "<IPython.core.display.Javascript object>"
      ]
     },
     "metadata": {},
     "output_type": "display_data"
    },
    {
     "data": {
      "application/javascript": [
       "$('span:contains(\"# Temp\")').closest('.cell').remove();"
      ],
      "text/plain": [
       "<IPython.core.display.Javascript object>"
      ]
     },
     "metadata": {},
     "output_type": "display_data"
    },
    {
     "data": {
      "application/javascript": [
       "\n",
       "        $('span:contains(\"# Temp\")').closest('.cell').remove();\n",
       "        var code = IPython.notebook.insert_cell_below('code');\n",
       "        code.set_text(atob(\"IyBUZW1wCmluc2VydCgnJycKREIoQ2l0YXRpb24oCiAgICBnZW5jZWwyMDEzYSwgYmFzaWxpMjAxMGEsIHJlZj0iIiwKICAgIGNvbnRleHRzPVsKCiAgICBdLAopKQoKJycnLCBjaXRhdGlvbnM9J2Jhc2lsaTIwMTBhJyk7CnNldF9hdHRyaWJ1dGUoJ2dlbmNlbDIwMTNhJywgJ3B1Ymxpc2hlcicsICdFbHNldmllcicpOwpzZXRfYXR0cmlidXRlKCdnZW5jZWwyMDEzYScsICdleGNlcnB0JywgJ0Fic3RyYWN0IFNvZnR3YXJlIG9yZ2FuaXphdGlvbnMgZmFjZSBjaGFsbGVuZ2VzIGluIG1hbmFnaW5nIGFuZCBzdXN0YWluaW5nIHRoZWlyIG1lYXN1cmVtZW50IHByb2dyYW1zIG92ZXIgdGltZS4gVGhlIGNvbXBsZXhpdHkgb2YgbWVhc3VyZW1lbnQgcHJvZ3JhbXMgaW5jcmVhc2Ugd2l0aCBleHBsb2RpbmcgbnVtYmVyIG9mIGdvYWxzIGFuZCBtZXRyaWNzIHRvIGNvbGxlY3QuIEF0IHRoZSBzYW1lIHRpbWUsIG9yZ2FuaXphdGlvbnMgdXN1YWxseSAnKTsKc2V0X2F0dHJpYnV0ZSgnZ2VuY2VsMjAxM2EnLCAnY2x1c3Rlcl9pZCcsICcxODA1ODMyMDc4MTQzOTg2OTY2MicpOwpzZXRfYXR0cmlidXRlKCdnZW5jZWwyMDEzYScsICdzY2hvbGFyJywgJ2h0dHA6Ly9zY2hvbGFyLmdvb2dsZS5jb20vc2Nob2xhcj9jaXRlcz0xODA1ODMyMDc4MTQzOTg2OTY2MiZhc19zZHQ9MjAwNSZzY2lvZHQ9MCw1JmhsPWVuJyk7\"));\n",
       "    "
      ],
      "text/plain": [
       "<IPython.core.display.Javascript object>"
      ]
     },
     "metadata": {},
     "output_type": "display_data"
    },
    {
     "data": {
      "application/javascript": [
       "$('span:contains(\"# Temp\")').closest('.cell').remove();"
      ],
      "text/plain": [
       "<IPython.core.display.Javascript object>"
      ]
     },
     "metadata": {},
     "output_type": "display_data"
    },
    {
     "data": {
      "application/javascript": [
       "\n",
       "        $('span:contains(\"# Temp\")').closest('.cell').remove();\n",
       "        var code = IPython.notebook.insert_cell_below('code');\n",
       "        code.set_text(atob(\"IyBUZW1wCmluc2VydCgnJycKREIoQ2l0YXRpb24oCiAgICBnZW5jZWwyMDEzYSwgYmFzaWxpMjAxMGEsIHJlZj0iIiwKICAgIGNvbnRleHRzPVsKCiAgICBdLAopKQoKJycnLCBjaXRhdGlvbnM9J2Jhc2lsaTIwMTBhJyk7CnNldF9hdHRyaWJ1dGUoJ2dlbmNlbDIwMTNhJywgJ3B1Ymxpc2hlcicsICdFbHNldmllcicpOwpzZXRfYXR0cmlidXRlKCdnZW5jZWwyMDEzYScsICdleGNlcnB0JywgJ0Fic3RyYWN0IFNvZnR3YXJlIG9yZ2FuaXphdGlvbnMgZmFjZSBjaGFsbGVuZ2VzIGluIG1hbmFnaW5nIGFuZCBzdXN0YWluaW5nIHRoZWlyIG1lYXN1cmVtZW50IHByb2dyYW1zIG92ZXIgdGltZS4gVGhlIGNvbXBsZXhpdHkgb2YgbWVhc3VyZW1lbnQgcHJvZ3JhbXMgaW5jcmVhc2Ugd2l0aCBleHBsb2RpbmcgbnVtYmVyIG9mIGdvYWxzIGFuZCBtZXRyaWNzIHRvIGNvbGxlY3QuIEF0IHRoZSBzYW1lIHRpbWUsIG9yZ2FuaXphdGlvbnMgdXN1YWxseSAnKTsKc2V0X2F0dHJpYnV0ZSgnZ2VuY2VsMjAxM2EnLCAnY2x1c3Rlcl9pZCcsICcxODA1ODMyMDc4MTQzOTg2OTY2MicpOwpzZXRfYXR0cmlidXRlKCdnZW5jZWwyMDEzYScsICdzY2hvbGFyJywgJ2h0dHA6Ly9zY2hvbGFyLmdvb2dsZS5jb20vc2Nob2xhcj9jaXRlcz0xODA1ODMyMDc4MTQzOTg2OTY2MiZhc19zZHQ9MjAwNSZzY2lvZHQ9MCw1JmhsPWVuJyk7\"));\n",
       "    "
      ],
      "text/plain": [
       "<IPython.core.display.Javascript object>"
      ]
     },
     "metadata": {},
     "output_type": "display_data"
    },
    {
     "data": {
      "application/javascript": [
       "$('span:contains(\"# Temp\")').closest('.cell').remove();"
      ],
      "text/plain": [
       "<IPython.core.display.Javascript object>"
      ]
     },
     "metadata": {},
     "output_type": "display_data"
    },
    {
     "data": {
      "application/javascript": [
       "\n",
       "        $('span:contains(\"# Temp\")').closest('.cell').remove();\n",
       "        var code = IPython.notebook.insert_cell_below('code');\n",
       "        code.set_text(atob(\"IyBUZW1wCmluc2VydCgnJycKREIoQ2l0YXRpb24oCiAgICBtYW5kaT8yMDEwYywgYmFzaWxpMjAxMGEsIHJlZj0iIiwKICAgIGNvbnRleHRzPVsKCiAgICBdLAopKQoKJycnLCBjaXRhdGlvbnM9J2Jhc2lsaTIwMTBhJyk7CnNldF9hdHRyaWJ1dGUoJ21hbmRpPzIwMTBjJywgJ29yZ2FuaXphdGlvbicsICdTcHJpbmdlcicpOwpzZXRfYXR0cmlidXRlKCdtYW5kaT8yMDEwYycsICdleGNlcnB0JywgJ0Fic3RyYWN0IFRoZSBzdWNjZXNzIG9mIGEgbWVhc3VyZW1lbnQgaW5pdGlhdGl2ZSBpbiBhIHNvZnR3YXJlIGNvbXBhbnkgZGVwZW5kcyBvbiB0aGUgcXVhbGl0eSBvZiB0aGUgbGlua3MgYmV0d2VlbiBtZXRyaWNzIHByb2dyYW1zIGFuZCBvcmdhbml6YXRpb25hbCBidXNpbmVzcyBnb2Fscy4gR1FNKyBTdHJhdGVnaWVzIGlzIGEgbmV3IGFwcHJvYWNoIGRlc2lnbmVkIHRvIGhlbHAgaW4gZXN0YWJsaXNoaW5nIGxpbmtzIGJldHdlZW4gdGhlICcpOwpzZXRfYXR0cmlidXRlKCdtYW5kaT8yMDEwYycsICdjbHVzdGVyX2lkJywgJzc2MzgzNjEwMjQ5MjkwOTQ2MTcnKTsKc2V0X2F0dHJpYnV0ZSgnbWFuZGk/MjAxMGMnLCAnc2Nob2xhcicsICdodHRwOi8vc2Nob2xhci5nb29nbGUuY29tL3NjaG9sYXI/Y2l0ZXM9NzYzODM2MTAyNDkyOTA5NDYxNyZhc19zZHQ9MjAwNSZzY2lvZHQ9MCw1JmhsPWVuJyk7\"));\n",
       "    "
      ],
      "text/plain": [
       "<IPython.core.display.Javascript object>"
      ]
     },
     "metadata": {},
     "output_type": "display_data"
    },
    {
     "data": {
      "application/javascript": [
       "$('span:contains(\"# Temp\")').closest('.cell').remove();"
      ],
      "text/plain": [
       "<IPython.core.display.Javascript object>"
      ]
     },
     "metadata": {},
     "output_type": "display_data"
    },
    {
     "data": {
      "application/javascript": [
       "\n",
       "        $('span:contains(\"# Temp\")').closest('.cell').remove();\n",
       "        var code = IPython.notebook.insert_cell_below('code');\n",
       "        code.set_text(atob(\"IyBUZW1wCmluc2VydCgnJycKREIoQ2l0YXRpb24oCiAgICBtYW5kaT8yMDEwYywgYmFzaWxpMjAxMGEsIHJlZj0iIiwKICAgIGNvbnRleHRzPVsKCiAgICBdLAopKQoKJycnLCBjaXRhdGlvbnM9J2Jhc2lsaTIwMTBhJyk7CnNldF9hdHRyaWJ1dGUoJ21hbmRpPzIwMTBjJywgJ29yZ2FuaXphdGlvbicsICdTcHJpbmdlcicpOwpzZXRfYXR0cmlidXRlKCdtYW5kaT8yMDEwYycsICdleGNlcnB0JywgJ0Fic3RyYWN0IFRoZSBzdWNjZXNzIG9mIGEgbWVhc3VyZW1lbnQgaW5pdGlhdGl2ZSBpbiBhIHNvZnR3YXJlIGNvbXBhbnkgZGVwZW5kcyBvbiB0aGUgcXVhbGl0eSBvZiB0aGUgbGlua3MgYmV0d2VlbiBtZXRyaWNzIHByb2dyYW1zIGFuZCBvcmdhbml6YXRpb25hbCBidXNpbmVzcyBnb2Fscy4gR1FNKyBTdHJhdGVnaWVzIGlzIGEgbmV3IGFwcHJvYWNoIGRlc2lnbmVkIHRvIGhlbHAgaW4gZXN0YWJsaXNoaW5nIGxpbmtzIGJldHdlZW4gdGhlICcpOwpzZXRfYXR0cmlidXRlKCdtYW5kaT8yMDEwYycsICdjbHVzdGVyX2lkJywgJzc2MzgzNjEwMjQ5MjkwOTQ2MTcnKTsKc2V0X2F0dHJpYnV0ZSgnbWFuZGk/MjAxMGMnLCAnc2Nob2xhcicsICdodHRwOi8vc2Nob2xhci5nb29nbGUuY29tL3NjaG9sYXI/Y2l0ZXM9NzYzODM2MTAyNDkyOTA5NDYxNyZhc19zZHQ9MjAwNSZzY2lvZHQ9MCw1JmhsPWVuJyk7\"));\n",
       "    "
      ],
      "text/plain": [
       "<IPython.core.display.Javascript object>"
      ]
     },
     "metadata": {},
     "output_type": "display_data"
    },
    {
     "data": {
      "application/javascript": [
       "$('span:contains(\"# Temp\")').closest('.cell').remove();"
      ],
      "text/plain": [
       "<IPython.core.display.Javascript object>"
      ]
     },
     "metadata": {},
     "output_type": "display_data"
    },
    {
     "data": {
      "application/javascript": [
       "\n",
       "        $('span:contains(\"# Temp\")').closest('.cell').remove();\n",
       "        var code = IPython.notebook.insert_cell_below('code');\n",
       "        code.set_text(atob(\"IyBUZW1wCmluc2VydCgnJycKY2VkZXJncmVuMjAxMWEgPSBEQihXb3JrVW5yZWxhdGVkKAogICAgMjAxMSwgIlBlcmZvcm1hbmNlIGluIHByb2R1Y3QgZGV2ZWxvcG1lbnQtdGhlIGNhc2Ugb2YgY29tcGxleCBwcm9kdWN0cyIsCiAgICBkaXNwbGF5PSJjZWRlcmdyZW4iLAogICAgYXV0aG9ycz0iQ2VkZXJncmVuLCBTdGVmYW4iLAogICAgcGxhY2U9VGhlc2lzLAogICAgZW50cnl0eXBlPSJwaGR0aGVzaXMiLAogICAgSUQ9ImNlZGVyZ3JlbjIwMTFwZXJmb3JtYW5jZSIsCiAgICBjbHVzdGVyX2lkPSIyMDIzMDQzODgyNjE4NjYxOTUiLAogICAgc2Nob2xhcj0iaHR0cDovL3NjaG9sYXIuZ29vZ2xlLmNvbS9zY2hvbGFyP2NpdGVzPTIwMjMwNDM4ODI2MTg2NjE5NSZhc19zZHQ9MjAwNSZzY2lvZHQ9MCw1JmhsPWVuIiwKICAgIGxvY2FsPSJN5GxhcmRhbGVuIFVuaXZlcnNpdHkiLAogICAgcGxhY2V4PSIiLAopKQoKREIoQ2l0YXRpb24oCiAgICBjZWRlcmdyZW4yMDExYSwgYmFzaWxpMjAxMGEsIHJlZj0iIiwKICAgIGNvbnRleHRzPVsKCiAgICBdLAopKQoKJycnLCBjaXRhdGlvbnM9J2Jhc2lsaTIwMTBhJyk7\"));\n",
       "    "
      ],
      "text/plain": [
       "<IPython.core.display.Javascript object>"
      ]
     },
     "metadata": {},
     "output_type": "display_data"
    },
    {
     "data": {
      "application/javascript": [
       "$('span:contains(\"# Temp\")').closest('.cell').remove();"
      ],
      "text/plain": [
       "<IPython.core.display.Javascript object>"
      ]
     },
     "metadata": {},
     "output_type": "display_data"
    },
    {
     "data": {
      "application/javascript": [
       "\n",
       "        $('span:contains(\"# Temp\")').closest('.cell').remove();\n",
       "        var code = IPython.notebook.insert_cell_below('code');\n",
       "        code.set_text(atob(\"IyBUZW1wCmluc2VydCgnJycKY2VkZXJncmVuMjAxMWEgPSBEQihXb3JrVW5yZWxhdGVkKAogICAgMjAxMSwgIlBlcmZvcm1hbmNlIGluIHByb2R1Y3QgZGV2ZWxvcG1lbnQtdGhlIGNhc2Ugb2YgY29tcGxleCBwcm9kdWN0cyIsCiAgICBkaXNwbGF5PSJjZWRlcmdyZW4iLAogICAgYXV0aG9ycz0iQ2VkZXJncmVuLCBTdGVmYW4iLAogICAgcGxhY2U9VGhlc2lzLAogICAgZW50cnl0eXBlPSJwaGR0aGVzaXMiLAogICAgSUQ9ImNlZGVyZ3JlbjIwMTFwZXJmb3JtYW5jZSIsCiAgICBjbHVzdGVyX2lkPSIyMDIzMDQzODgyNjE4NjYxOTUiLAogICAgc2Nob2xhcj0iaHR0cDovL3NjaG9sYXIuZ29vZ2xlLmNvbS9zY2hvbGFyP2NpdGVzPTIwMjMwNDM4ODI2MTg2NjE5NSZhc19zZHQ9MjAwNSZzY2lvZHQ9MCw1JmhsPWVuIiwKICAgIGxvY2FsPSJN5GxhcmRhbGVuIFVuaXZlcnNpdHkiLAogICAgcGxhY2V4PSIiLAopKQoKREIoQ2l0YXRpb24oCiAgICBjZWRlcmdyZW4yMDExYSwgYmFzaWxpMjAxMGEsIHJlZj0iIiwKICAgIGNvbnRleHRzPVsKCiAgICBdLAopKQoKJycnLCBjaXRhdGlvbnM9J2Jhc2lsaTIwMTBhJyk7\"));\n",
       "    "
      ],
      "text/plain": [
       "<IPython.core.display.Javascript object>"
      ]
     },
     "metadata": {},
     "output_type": "display_data"
    },
    {
     "data": {
      "application/javascript": [
       "$('span:contains(\"# Temp\")').closest('.cell').remove();"
      ],
      "text/plain": [
       "<IPython.core.display.Javascript object>"
      ]
     },
     "metadata": {},
     "output_type": "display_data"
    },
    {
     "data": {
      "application/javascript": [
       "\n",
       "        $('span:contains(\"# Temp\")').closest('.cell').remove();\n",
       "        var code = IPython.notebook.insert_cell_below('code');\n",
       "        code.set_text(atob(\"IyBUZW1wCmluc2VydCgnJycKa2zkczIwMTVhID0gREIoV29ya1VucmVsYXRlZCgKICAgIDIwMTUsICJBIGxhcmdlLXNjYWxlIHRlY2hub2xvZ3kgZXZhbHVhdGlvbiBzdHVkeTogZWZmZWN0cyBvZiBtb2RlbC1iYXNlZCBhbmFseXNpcyBhbmQgdGVzdGluZyIsCiAgICBkaXNwbGF5PSJrbORzIiwKICAgIGF1dGhvcnM9Ikts5HMsIE1pY2hhZWwgYW5kIEJhdWVyLCBUaG9tYXMgYW5kIERlcmVhbmksIEFuZHJlYXMgYW5kIFP2ZGVycXZpc3QsIFRob21hcyBhbmQgSGVsbGUsIFBoaWxpcHAiLAogICAgcGxhY2U9SUNTRSwKICAgIHBwPSIxMTktLTEyOCIsCiAgICBlbnRyeXR5cGU9ImlucHJvY2VlZGluZ3MiLAogICAgb3JnYW5pemF0aW9uPSJJRUVFIFByZXNzIiwKICAgIElEPSJrbGFzMjAxNWxhcmdlIiwKICAgIGNsdXN0ZXJfaWQ9IjkyNDcxMTIyODg2OTcyNzU0NzUiLAogICAgc2Nob2xhcj0iaHR0cDovL3NjaG9sYXIuZ29vZ2xlLmNvbS9zY2hvbGFyP2NpdGVzPTkyNDcxMTIyODg2OTcyNzU0NzUmYXNfc2R0PTIwMDUmc2Npb2R0PTAsNSZobD1lbiIsCiAgICBwbGFjZXg9IlByb2NlZWRpbmdzIG9mIHRoZSAzN3RoIEludGVybmF0aW9uYWwgQ29uZmVyZW5jZSBvbiBTb2Z0d2FyZSBFbmdpbmVlcmluZy1Wb2x1bWUgMiIsCikpCgpEQihDaXRhdGlvbigKICAgIGts5HMyMDE1YSwgYmFzaWxpMjAxMGEsIHJlZj0iIiwKICAgIGNvbnRleHRzPVsKCiAgICBdLAopKQoKJycnLCBjaXRhdGlvbnM9J2Jhc2lsaTIwMTBhJyk7\"));\n",
       "    "
      ],
      "text/plain": [
       "<IPython.core.display.Javascript object>"
      ]
     },
     "metadata": {},
     "output_type": "display_data"
    },
    {
     "data": {
      "application/javascript": [
       "$('span:contains(\"# Temp\")').closest('.cell').remove();"
      ],
      "text/plain": [
       "<IPython.core.display.Javascript object>"
      ]
     },
     "metadata": {},
     "output_type": "display_data"
    },
    {
     "data": {
      "application/javascript": [
       "\n",
       "        $('span:contains(\"# Temp\")').closest('.cell').remove();\n",
       "        var code = IPython.notebook.insert_cell_below('code');\n",
       "        code.set_text(atob(\"IyBUZW1wCmluc2VydCgnJycKa2zkczIwMTVhID0gREIoV29ya1VucmVsYXRlZCgKICAgIDIwMTUsICJBIGxhcmdlLXNjYWxlIHRlY2hub2xvZ3kgZXZhbHVhdGlvbiBzdHVkeTogZWZmZWN0cyBvZiBtb2RlbC1iYXNlZCBhbmFseXNpcyBhbmQgdGVzdGluZyIsCiAgICBkaXNwbGF5PSJrbORzIiwKICAgIGF1dGhvcnM9Ikts5HMsIE1pY2hhZWwgYW5kIEJhdWVyLCBUaG9tYXMgYW5kIERlcmVhbmksIEFuZHJlYXMgYW5kIFP2ZGVycXZpc3QsIFRob21hcyBhbmQgSGVsbGUsIFBoaWxpcHAiLAogICAgcGxhY2U9SUNTRSwKICAgIHBwPSIxMTktLTEyOCIsCiAgICBlbnRyeXR5cGU9ImlucHJvY2VlZGluZ3MiLAogICAgb3JnYW5pemF0aW9uPSJJRUVFIFByZXNzIiwKICAgIElEPSJrbGFzMjAxNWxhcmdlIiwKICAgIGNsdXN0ZXJfaWQ9IjkyNDcxMTIyODg2OTcyNzU0NzUiLAogICAgc2Nob2xhcj0iaHR0cDovL3NjaG9sYXIuZ29vZ2xlLmNvbS9zY2hvbGFyP2NpdGVzPTkyNDcxMTIyODg2OTcyNzU0NzUmYXNfc2R0PTIwMDUmc2Npb2R0PTAsNSZobD1lbiIsCiAgICBwbGFjZXg9IlByb2NlZWRpbmdzIG9mIHRoZSAzN3RoIEludGVybmF0aW9uYWwgQ29uZmVyZW5jZSBvbiBTb2Z0d2FyZSBFbmdpbmVlcmluZy1Wb2x1bWUgMiIsCikpCgpEQihDaXRhdGlvbigKICAgIGts5HMyMDE1YSwgYmFzaWxpMjAxMGEsIHJlZj0iIiwKICAgIGNvbnRleHRzPVsKCiAgICBdLAopKQoKJycnLCBjaXRhdGlvbnM9J2Jhc2lsaTIwMTBhJyk7\"));\n",
       "    "
      ],
      "text/plain": [
       "<IPython.core.display.Javascript object>"
      ]
     },
     "metadata": {},
     "output_type": "display_data"
    },
    {
     "data": {
      "application/javascript": [
       "$('span:contains(\"# Temp\")').closest('.cell').remove();"
      ],
      "text/plain": [
       "<IPython.core.display.Javascript object>"
      ]
     },
     "metadata": {},
     "output_type": "display_data"
    },
    {
     "data": {
      "application/javascript": [
       "\n",
       "        $('span:contains(\"# Temp\")').closest('.cell').remove();\n",
       "        var code = IPython.notebook.insert_cell_below('code');\n",
       "        code.set_text(atob(\"IyBUZW1wCmluc2VydCgnJycKb2xzaW5hMjAxNGEgPSBEQihXb3JrVW5yZWxhdGVkKAogICAgMjAxNCwgIk1ldHJpY3MgYW5kIGluZGljYXRvcnMgYXMga2V5IG9yZ2FuaXphdGlvbmFsIGFzc2V0cyBmb3IgSUNUIHNlY3VyaXR5IGFzc2Vzc21lbnQiLAogICAgZGlzcGxheT0ib2xzaW5hIiwKICAgIGF1dGhvcnM9Ik9sc2luYSwgTHVpcyBhbmQgRGllc2VyLCBBbGV4YW5kZXIgYW5kIENvdmVsbGEsIEd1aWxsZXJtbyIsCiAgICBwbGFjZT1GQUtFLAogICAgcHA9IjI1LS00NCIsCiAgICBlbnRyeXR5cGU9ImluY29sbGVjdGlvbiIsCiAgICBwdWJsaXNoZXI9IkVsc2V2aWVyIiwKICAgIElEPSJvbHNpbmEyMDE0bWV0cmljcyIsCiAgICBjbHVzdGVyX2lkPSIxNDY2MDUwNjAxMDM4NDI4ODY4NSIsCiAgICBzY2hvbGFyPSJodHRwOi8vc2Nob2xhci5nb29nbGUuY29tL3NjaG9sYXI/Y2l0ZXM9MTQ2NjA1MDYwMTAzODQyODg2ODUmYXNfc2R0PTIwMDUmc2Npb2R0PTAsNSZobD1lbiIsCiAgICBwbGFjZXg9IkVtZXJnaW5nIFRyZW5kcyBpbiBJQ1QgU2VjdXJpdHkiLAopKQoKREIoQ2l0YXRpb24oCiAgICBvbHNpbmEyMDE0YSwgYmFzaWxpMjAxMGEsIHJlZj0iIiwKICAgIGNvbnRleHRzPVsKCiAgICBdLAopKQoKJycnLCBjaXRhdGlvbnM9J2Jhc2lsaTIwMTBhJyk7\"));\n",
       "    "
      ],
      "text/plain": [
       "<IPython.core.display.Javascript object>"
      ]
     },
     "metadata": {},
     "output_type": "display_data"
    },
    {
     "data": {
      "application/javascript": [
       "$('span:contains(\"# Temp\")').closest('.cell').remove();"
      ],
      "text/plain": [
       "<IPython.core.display.Javascript object>"
      ]
     },
     "metadata": {},
     "output_type": "display_data"
    },
    {
     "data": {
      "application/javascript": [
       "\n",
       "        $('span:contains(\"# Temp\")').closest('.cell').remove();\n",
       "        var code = IPython.notebook.insert_cell_below('code');\n",
       "        code.set_text(atob(\"IyBUZW1wCmluc2VydCgnJycKb2xzaW5hMjAxNGEgPSBEQihXb3JrVW5yZWxhdGVkKAogICAgMjAxNCwgIk1ldHJpY3MgYW5kIGluZGljYXRvcnMgYXMga2V5IG9yZ2FuaXphdGlvbmFsIGFzc2V0cyBmb3IgSUNUIHNlY3VyaXR5IGFzc2Vzc21lbnQiLAogICAgZGlzcGxheT0ib2xzaW5hIiwKICAgIGF1dGhvcnM9Ik9sc2luYSwgTHVpcyBhbmQgRGllc2VyLCBBbGV4YW5kZXIgYW5kIENvdmVsbGEsIEd1aWxsZXJtbyIsCiAgICBwbGFjZT1GQUtFLAogICAgcHA9IjI1LS00NCIsCiAgICBlbnRyeXR5cGU9ImluY29sbGVjdGlvbiIsCiAgICBwdWJsaXNoZXI9IkVsc2V2aWVyIiwKICAgIElEPSJvbHNpbmEyMDE0bWV0cmljcyIsCiAgICBjbHVzdGVyX2lkPSIxNDY2MDUwNjAxMDM4NDI4ODY4NSIsCiAgICBzY2hvbGFyPSJodHRwOi8vc2Nob2xhci5nb29nbGUuY29tL3NjaG9sYXI/Y2l0ZXM9MTQ2NjA1MDYwMTAzODQyODg2ODUmYXNfc2R0PTIwMDUmc2Npb2R0PTAsNSZobD1lbiIsCiAgICBwbGFjZXg9IkVtZXJnaW5nIFRyZW5kcyBpbiBJQ1QgU2VjdXJpdHkiLAopKQoKREIoQ2l0YXRpb24oCiAgICBvbHNpbmEyMDE0YSwgYmFzaWxpMjAxMGEsIHJlZj0iIiwKICAgIGNvbnRleHRzPVsKCiAgICBdLAopKQoKJycnLCBjaXRhdGlvbnM9J2Jhc2lsaTIwMTBhJyk7\"));\n",
       "    "
      ],
      "text/plain": [
       "<IPython.core.display.Javascript object>"
      ]
     },
     "metadata": {},
     "output_type": "display_data"
    },
    {
     "data": {
      "application/javascript": [
       "$('span:contains(\"# Temp\")').closest('.cell').remove();"
      ],
      "text/plain": [
       "<IPython.core.display.Javascript object>"
      ]
     },
     "metadata": {},
     "output_type": "display_data"
    },
    {
     "data": {
      "application/javascript": [
       "\n",
       "        $('span:contains(\"# Temp\")').closest('.cell').remove();\n",
       "        var code = IPython.notebook.insert_cell_below('code');\n",
       "        code.set_text(atob(\"IyBUZW1wCmluc2VydCgnJycKZmVycmVpcmEyMDEzYSA9IERCKFdvcmtVbnJlbGF0ZWQoCiAgICAyMDEzLCAiQWxpZ25pbmcgZG9tYWluLXJlbGF0ZWQgbW9kZWxzIGZvciBjcmVhdGluZyBjb250ZXh0IGZvciBzb2Z0d2FyZSBwcm9kdWN0IGRlc2lnbiIsCiAgICBkaXNwbGF5PSJmZXJyZWlyYSIsCiAgICBhdXRob3JzPSJGZXJyZWlyYSwgTnVubyBhbmQgU2FudG9zLCBOdW5vIGFuZCBNYWNoYWRvLCBSaWNhcmRvIEogYW5kIEdhe5p9ZXZpe2M/fSwgRHJhZ2FuIiwKICAgIHBsYWNlPUlDU0UsCiAgICBwcD0iMTY4LS0xOTAiLAogICAgZW50cnl0eXBlPSJpbnByb2NlZWRpbmdzIiwKICAgIG9yZ2FuaXphdGlvbj0iU3ByaW5nZXIiLAogICAgSUQ9ImZlcnJlaXJhMjAxM2FsaWduaW5nIiwKICAgIGNsdXN0ZXJfaWQ9IjE2OTYxMzA2OTU2NDA3MTQ2MTQ5IiwKICAgIHNjaG9sYXI9Imh0dHA6Ly9zY2hvbGFyLmdvb2dsZS5jb20vc2Nob2xhcj9jaXRlcz0xNjk2MTMwNjk1NjQwNzE0NjE0OSZhc19zZHQ9MjAwNSZzY2lvZHQ9MCw1JmhsPWVuIiwKICAgIHBsYWNleD0iSW50ZXJuYXRpb25hbCBDb25mZXJlbmNlIG9uIFNvZnR3YXJlIFF1YWxpdHkiLAopKQoKREIoQ2l0YXRpb24oCiAgICBmZXJyZWlyYTIwMTNhLCBiYXNpbGkyMDEwYSwgcmVmPSIiLAogICAgY29udGV4dHM9WwoKICAgIF0sCikpCgonJycsIGNpdGF0aW9ucz0nYmFzaWxpMjAxMGEnKTs=\"));\n",
       "    "
      ],
      "text/plain": [
       "<IPython.core.display.Javascript object>"
      ]
     },
     "metadata": {},
     "output_type": "display_data"
    },
    {
     "data": {
      "application/javascript": [
       "$('span:contains(\"# Temp\")').closest('.cell').remove();"
      ],
      "text/plain": [
       "<IPython.core.display.Javascript object>"
      ]
     },
     "metadata": {},
     "output_type": "display_data"
    },
    {
     "data": {
      "application/javascript": [
       "\n",
       "        $('span:contains(\"# Temp\")').closest('.cell').remove();\n",
       "        var code = IPython.notebook.insert_cell_below('code');\n",
       "        code.set_text(atob(\"IyBUZW1wCmluc2VydCgnJycKZmVycmVpcmEyMDEzYSA9IERCKFdvcmtVbnJlbGF0ZWQoCiAgICAyMDEzLCAiQWxpZ25pbmcgZG9tYWluLXJlbGF0ZWQgbW9kZWxzIGZvciBjcmVhdGluZyBjb250ZXh0IGZvciBzb2Z0d2FyZSBwcm9kdWN0IGRlc2lnbiIsCiAgICBkaXNwbGF5PSJmZXJyZWlyYSIsCiAgICBhdXRob3JzPSJGZXJyZWlyYSwgTnVubyBhbmQgU2FudG9zLCBOdW5vIGFuZCBNYWNoYWRvLCBSaWNhcmRvIEogYW5kIEdhe5p9ZXZpe2M/fSwgRHJhZ2FuIiwKICAgIHBsYWNlPUlDU0UsCiAgICBwcD0iMTY4LS0xOTAiLAogICAgZW50cnl0eXBlPSJpbnByb2NlZWRpbmdzIiwKICAgIG9yZ2FuaXphdGlvbj0iU3ByaW5nZXIiLAogICAgSUQ9ImZlcnJlaXJhMjAxM2FsaWduaW5nIiwKICAgIGNsdXN0ZXJfaWQ9IjE2OTYxMzA2OTU2NDA3MTQ2MTQ5IiwKICAgIHNjaG9sYXI9Imh0dHA6Ly9zY2hvbGFyLmdvb2dsZS5jb20vc2Nob2xhcj9jaXRlcz0xNjk2MTMwNjk1NjQwNzE0NjE0OSZhc19zZHQ9MjAwNSZzY2lvZHQ9MCw1JmhsPWVuIiwKICAgIHBsYWNleD0iSW50ZXJuYXRpb25hbCBDb25mZXJlbmNlIG9uIFNvZnR3YXJlIFF1YWxpdHkiLAopKQoKREIoQ2l0YXRpb24oCiAgICBmZXJyZWlyYTIwMTNhLCBiYXNpbGkyMDEwYSwgcmVmPSIiLAogICAgY29udGV4dHM9WwoKICAgIF0sCikpCgonJycsIGNpdGF0aW9ucz0nYmFzaWxpMjAxMGEnKTs=\"));\n",
       "    "
      ],
      "text/plain": [
       "<IPython.core.display.Javascript object>"
      ]
     },
     "metadata": {},
     "output_type": "display_data"
    },
    {
     "data": {
      "application/javascript": [
       "$('span:contains(\"# Temp\")').closest('.cell').remove();"
      ],
      "text/plain": [
       "<IPython.core.display.Javascript object>"
      ]
     },
     "metadata": {},
     "output_type": "display_data"
    },
    {
     "data": {
      "application/javascript": [
       "\n",
       "        $('span:contains(\"# Temp\")').closest('.cell').remove();\n",
       "        var code = IPython.notebook.insert_cell_below('code');\n",
       "        code.set_text(atob(\"IyBUZW1wCmluc2VydCgnJycKREIoQ2l0YXRpb24oCiAgICBtYW5kaT8yMDEwZCwgYmFzaWxpMjAxMGEsIHJlZj0iIiwKICAgIGNvbnRleHRzPVsKCiAgICBdLAopKQoKJycnLCBjaXRhdGlvbnM9J2Jhc2lsaTIwMTBhJyk7CnNldF9hdHRyaWJ1dGUoJ21hbmRpPzIwMTBkJywgJ29yZ2FuaXphdGlvbicsICdTcHJpbmdlcicpOwpzZXRfYXR0cmlidXRlKCdtYW5kaT8yMDEwZCcsICdleGNlcnB0JywgJ0Fic3RyYWN0IEdRTSsgU3RyYXRlZ2llcyBpcyBhbiBhcHByb2FjaCBkZXNpZ25lZCB0byBoZWxwIHRoZSBzb2Z0d2FyZSBpbmR1c3RyeSBkZXZlbG9wIG1lYXN1cmVtZW50IHByb2dyYW1zIHRoYXQgYXJlIGFsaWduZWQgd2l0aCBidXNpbmVzcyBnb2Fscy4gVGhlIHJlc3VsdGluZyBzdHJ1Y3R1cmUsIHdoaWNoIGFsaWducyBtZXRyaWNzIChHUU0gZ29hbHMpIGFuZCBidXNpbmVzcyBnb2FscywgaXMgY2FsbGVkIGEgZ3JpZC4gVXNlZnVsbmVzcyAocXVhbGl0eSkgb2YgdGhlICcpOwpzZXRfYXR0cmlidXRlKCdtYW5kaT8yMDEwZCcsICdjbHVzdGVyX2lkJywgJzg3Mzg4OTQ2MDgzNjc3MjA5NjEnKTsKc2V0X2F0dHJpYnV0ZSgnbWFuZGk/MjAxMGQnLCAnc2Nob2xhcicsICdodHRwOi8vc2Nob2xhci5nb29nbGUuY29tL3NjaG9sYXI/Y2l0ZXM9ODczODg5NDYwODM2NzcyMDk2MSZhc19zZHQ9MjAwNSZzY2lvZHQ9MCw1JmhsPWVuJyk7\"));\n",
       "    "
      ],
      "text/plain": [
       "<IPython.core.display.Javascript object>"
      ]
     },
     "metadata": {},
     "output_type": "display_data"
    },
    {
     "data": {
      "application/javascript": [
       "$('span:contains(\"# Temp\")').closest('.cell').remove();"
      ],
      "text/plain": [
       "<IPython.core.display.Javascript object>"
      ]
     },
     "metadata": {},
     "output_type": "display_data"
    },
    {
     "data": {
      "application/javascript": [
       "\n",
       "        $('span:contains(\"# Temp\")').closest('.cell').remove();\n",
       "        var code = IPython.notebook.insert_cell_below('code');\n",
       "        code.set_text(atob(\"IyBUZW1wCmluc2VydCgnJycKREIoQ2l0YXRpb24oCiAgICBtYW5kaT8yMDEwZCwgYmFzaWxpMjAxMGEsIHJlZj0iIiwKICAgIGNvbnRleHRzPVsKCiAgICBdLAopKQoKJycnLCBjaXRhdGlvbnM9J2Jhc2lsaTIwMTBhJyk7CnNldF9hdHRyaWJ1dGUoJ21hbmRpPzIwMTBkJywgJ29yZ2FuaXphdGlvbicsICdTcHJpbmdlcicpOwpzZXRfYXR0cmlidXRlKCdtYW5kaT8yMDEwZCcsICdleGNlcnB0JywgJ0Fic3RyYWN0IEdRTSsgU3RyYXRlZ2llcyBpcyBhbiBhcHByb2FjaCBkZXNpZ25lZCB0byBoZWxwIHRoZSBzb2Z0d2FyZSBpbmR1c3RyeSBkZXZlbG9wIG1lYXN1cmVtZW50IHByb2dyYW1zIHRoYXQgYXJlIGFsaWduZWQgd2l0aCBidXNpbmVzcyBnb2Fscy4gVGhlIHJlc3VsdGluZyBzdHJ1Y3R1cmUsIHdoaWNoIGFsaWducyBtZXRyaWNzIChHUU0gZ29hbHMpIGFuZCBidXNpbmVzcyBnb2FscywgaXMgY2FsbGVkIGEgZ3JpZC4gVXNlZnVsbmVzcyAocXVhbGl0eSkgb2YgdGhlICcpOwpzZXRfYXR0cmlidXRlKCdtYW5kaT8yMDEwZCcsICdjbHVzdGVyX2lkJywgJzg3Mzg4OTQ2MDgzNjc3MjA5NjEnKTsKc2V0X2F0dHJpYnV0ZSgnbWFuZGk/MjAxMGQnLCAnc2Nob2xhcicsICdodHRwOi8vc2Nob2xhci5nb29nbGUuY29tL3NjaG9sYXI/Y2l0ZXM9ODczODg5NDYwODM2NzcyMDk2MSZhc19zZHQ9MjAwNSZzY2lvZHQ9MCw1JmhsPWVuJyk7\"));\n",
       "    "
      ],
      "text/plain": [
       "<IPython.core.display.Javascript object>"
      ]
     },
     "metadata": {},
     "output_type": "display_data"
    },
    {
     "data": {
      "application/javascript": [
       "$('span:contains(\"# Temp\")').closest('.cell').remove();"
      ],
      "text/plain": [
       "<IPython.core.display.Javascript object>"
      ]
     },
     "metadata": {},
     "output_type": "display_data"
    },
    {
     "data": {
      "application/javascript": [
       "\n",
       "        $('span:contains(\"# Temp\")').closest('.cell').remove();\n",
       "        var code = IPython.notebook.insert_cell_below('code');\n",
       "        code.set_text(atob(\"IyBUZW1wCmluc2VydCgnJycKbfxuY2gyMDEyYSA9IERCKFdvcmtVbnJlbGF0ZWQoCiAgICAyMDEyLCAiRXZvbHZpbmcgcHJvY2VzcyBzaW11bGF0b3JzIGJ5IHVzaW5nIHZhbGlkYXRlZCBsZWFybmluZyIsCiAgICBkaXNwbGF5PSJt/G5jaCIsCiAgICBhdXRob3JzPSJN/G5jaCwgSvxyZ2VuIiwKICAgIHBsYWNlPUZBS0UsCiAgICBwcD0iMjI2LS0yMjciLAogICAgZW50cnl0eXBlPSJpbnByb2NlZWRpbmdzIiwKICAgIG9yZ2FuaXphdGlvbj0iSUVFRSIsCiAgICBJRD0ibXVuY2gyMDEyZXZvbHZpbmciLAogICAgY2x1c3Rlcl9pZD0iNzA3NjI4NTY3NzYxMjc4MTIwNSIsCiAgICBzY2hvbGFyPSJodHRwOi8vc2Nob2xhci5nb29nbGUuY29tL3NjaG9sYXI/Y2l0ZXM9NzA3NjI4NTY3NzYxMjc4MTIwNSZhc19zZHQ9MjAwNSZzY2lvZHQ9MCw1JmhsPWVuIiwKICAgIHBsYWNleD0iU29mdHdhcmUgYW5kIFN5c3RlbSBQcm9jZXNzIChJQ1NTUCksIDIwMTIgSW50ZXJuYXRpb25hbCBDb25mZXJlbmNlIG9uIiwKKSkKCkRCKENpdGF0aW9uKAogICAgbfxuY2gyMDEyYSwgYmFzaWxpMjAxMGEsIHJlZj0iIiwKICAgIGNvbnRleHRzPVsKCiAgICBdLAopKQoKJycnLCBjaXRhdGlvbnM9J2Jhc2lsaTIwMTBhJyk7\"));\n",
       "    "
      ],
      "text/plain": [
       "<IPython.core.display.Javascript object>"
      ]
     },
     "metadata": {},
     "output_type": "display_data"
    },
    {
     "data": {
      "application/javascript": [
       "$('span:contains(\"# Temp\")').closest('.cell').remove();"
      ],
      "text/plain": [
       "<IPython.core.display.Javascript object>"
      ]
     },
     "metadata": {},
     "output_type": "display_data"
    },
    {
     "data": {
      "application/javascript": [
       "\n",
       "        $('span:contains(\"# Temp\")').closest('.cell').remove();\n",
       "        var code = IPython.notebook.insert_cell_below('code');\n",
       "        code.set_text(atob(\"IyBUZW1wCmluc2VydCgnJycKbfxuY2gyMDEyYSA9IERCKFdvcmtVbnJlbGF0ZWQoCiAgICAyMDEyLCAiRXZvbHZpbmcgcHJvY2VzcyBzaW11bGF0b3JzIGJ5IHVzaW5nIHZhbGlkYXRlZCBsZWFybmluZyIsCiAgICBkaXNwbGF5PSJt/G5jaCIsCiAgICBhdXRob3JzPSJN/G5jaCwgSvxyZ2VuIiwKICAgIHBsYWNlPUZBS0UsCiAgICBwcD0iMjI2LS0yMjciLAogICAgZW50cnl0eXBlPSJpbnByb2NlZWRpbmdzIiwKICAgIG9yZ2FuaXphdGlvbj0iSUVFRSIsCiAgICBJRD0ibXVuY2gyMDEyZXZvbHZpbmciLAogICAgY2x1c3Rlcl9pZD0iNzA3NjI4NTY3NzYxMjc4MTIwNSIsCiAgICBzY2hvbGFyPSJodHRwOi8vc2Nob2xhci5nb29nbGUuY29tL3NjaG9sYXI/Y2l0ZXM9NzA3NjI4NTY3NzYxMjc4MTIwNSZhc19zZHQ9MjAwNSZzY2lvZHQ9MCw1JmhsPWVuIiwKICAgIHBsYWNleD0iU29mdHdhcmUgYW5kIFN5c3RlbSBQcm9jZXNzIChJQ1NTUCksIDIwMTIgSW50ZXJuYXRpb25hbCBDb25mZXJlbmNlIG9uIiwKKSkKCkRCKENpdGF0aW9uKAogICAgbfxuY2gyMDEyYSwgYmFzaWxpMjAxMGEsIHJlZj0iIiwKICAgIGNvbnRleHRzPVsKCiAgICBdLAopKQoKJycnLCBjaXRhdGlvbnM9J2Jhc2lsaTIwMTBhJyk7\"));\n",
       "    "
      ],
      "text/plain": [
       "<IPython.core.display.Javascript object>"
      ]
     },
     "metadata": {},
     "output_type": "display_data"
    },
    {
     "data": {
      "application/javascript": [
       "$('span:contains(\"# Temp\")').closest('.cell').remove();"
      ],
      "text/plain": [
       "<IPython.core.display.Javascript object>"
      ]
     },
     "metadata": {},
     "output_type": "display_data"
    },
    {
     "data": {
      "application/javascript": [
       "\n",
       "        $('span:contains(\"# Temp\")').closest('.cell').remove();\n",
       "        var code = IPython.notebook.insert_cell_below('code');\n",
       "        code.set_text(atob(\"IyBUZW1wCmluc2VydCgnJycKa29ib3JpMjAxNGIgPSBEQihXb3JrVW5yZWxhdGVkKAogICAgMjAxNCwgIkVmZmljaWVudCBpZGVudGlmaWNhdGlvbiBvZiByYXRpb25hbGVzIGJ5IHN0YWtlaG9sZGVyIHJlbGF0aW9uc2hpcCBhbmFseXNpcyB0byByZWZpbmUgYW5kIG1haW50YWluIEdRTSsgU3RyYXRlZ2llcyBtb2RlbHMiLAogICAgZGlzcGxheT0ia29ib3JpIGIiLAogICAgYXV0aG9ycz0iS29ib3JpLCBUYWthbm9idSBhbmQgV2FzaGl6YWtpLCBIaXJvbm9yaSBhbmQgRnVrYXphd2EsIFlvc2hpYWtpIGFuZCBIaXJhYmF5YXNoaSwgRGFpc3VrZSBhbmQgU2hpbnRhbmksIEthdHN1dG9zaGkgYW5kIE9rYXpha2ksIFlhc3VrbyBhbmQgS2lrdXNoaW1hLCBZYXN1aGlybyIsCiAgICBwbGFjZT1GQUtFLAogICAgcHA9Ijc3LS04MiIsCiAgICBlbnRyeXR5cGU9ImluY29sbGVjdGlvbiIsCiAgICBwdWJsaXNoZXI9IlNwcmluZ2VyIiwKICAgIElEPSJrb2JvcmkyMDE0ZWZmaWNpZW50IiwKICAgIGNsdXN0ZXJfaWQ9IjEzODAyMDMwNjY3ODg3NjM1Nzk5IiwKICAgIHNjaG9sYXI9Imh0dHA6Ly9zY2hvbGFyLmdvb2dsZS5jb20vc2Nob2xhcj9jaXRlcz0xMzgwMjAzMDY2Nzg4NzYzNTc5OSZhc19zZHQ9MjAwNSZzY2lvZHQ9MCw1JmhsPWVuIiwKICAgIHBsYWNleD0iUmVxdWlyZW1lbnRzIEVuZ2luZWVyaW5nIiwKKSkKCkRCKENpdGF0aW9uKAogICAga29ib3JpMjAxNGIsIGJhc2lsaTIwMTBhLCByZWY9IiIsCiAgICBjb250ZXh0cz1bCgogICAgXSwKKSkKCicnJywgY2l0YXRpb25zPSdiYXNpbGkyMDEwYScpOw==\"));\n",
       "    "
      ],
      "text/plain": [
       "<IPython.core.display.Javascript object>"
      ]
     },
     "metadata": {},
     "output_type": "display_data"
    },
    {
     "data": {
      "application/javascript": [
       "$('span:contains(\"# Temp\")').closest('.cell').remove();"
      ],
      "text/plain": [
       "<IPython.core.display.Javascript object>"
      ]
     },
     "metadata": {},
     "output_type": "display_data"
    },
    {
     "data": {
      "application/javascript": [
       "\n",
       "        $('span:contains(\"# Temp\")').closest('.cell').remove();\n",
       "        var code = IPython.notebook.insert_cell_below('code');\n",
       "        code.set_text(atob(\"IyBUZW1wCmluc2VydCgnJycKa29ib3JpMjAxNGIgPSBEQihXb3JrVW5yZWxhdGVkKAogICAgMjAxNCwgIkVmZmljaWVudCBpZGVudGlmaWNhdGlvbiBvZiByYXRpb25hbGVzIGJ5IHN0YWtlaG9sZGVyIHJlbGF0aW9uc2hpcCBhbmFseXNpcyB0byByZWZpbmUgYW5kIG1haW50YWluIEdRTSsgU3RyYXRlZ2llcyBtb2RlbHMiLAogICAgZGlzcGxheT0ia29ib3JpIGIiLAogICAgYXV0aG9ycz0iS29ib3JpLCBUYWthbm9idSBhbmQgV2FzaGl6YWtpLCBIaXJvbm9yaSBhbmQgRnVrYXphd2EsIFlvc2hpYWtpIGFuZCBIaXJhYmF5YXNoaSwgRGFpc3VrZSBhbmQgU2hpbnRhbmksIEthdHN1dG9zaGkgYW5kIE9rYXpha2ksIFlhc3VrbyBhbmQgS2lrdXNoaW1hLCBZYXN1aGlybyIsCiAgICBwbGFjZT1GQUtFLAogICAgcHA9Ijc3LS04MiIsCiAgICBlbnRyeXR5cGU9ImluY29sbGVjdGlvbiIsCiAgICBwdWJsaXNoZXI9IlNwcmluZ2VyIiwKICAgIElEPSJrb2JvcmkyMDE0ZWZmaWNpZW50IiwKICAgIGNsdXN0ZXJfaWQ9IjEzODAyMDMwNjY3ODg3NjM1Nzk5IiwKICAgIHNjaG9sYXI9Imh0dHA6Ly9zY2hvbGFyLmdvb2dsZS5jb20vc2Nob2xhcj9jaXRlcz0xMzgwMjAzMDY2Nzg4NzYzNTc5OSZhc19zZHQ9MjAwNSZzY2lvZHQ9MCw1JmhsPWVuIiwKICAgIHBsYWNleD0iUmVxdWlyZW1lbnRzIEVuZ2luZWVyaW5nIiwKKSkKCkRCKENpdGF0aW9uKAogICAga29ib3JpMjAxNGIsIGJhc2lsaTIwMTBhLCByZWY9IiIsCiAgICBjb250ZXh0cz1bCgogICAgXSwKKSkKCicnJywgY2l0YXRpb25zPSdiYXNpbGkyMDEwYScpOw==\"));\n",
       "    "
      ],
      "text/plain": [
       "<IPython.core.display.Javascript object>"
      ]
     },
     "metadata": {},
     "output_type": "display_data"
    },
    {
     "data": {
      "application/javascript": [
       "$('span:contains(\"# Temp\")').closest('.cell').remove();"
      ],
      "text/plain": [
       "<IPython.core.display.Javascript object>"
      ]
     },
     "metadata": {},
     "output_type": "display_data"
    },
    {
     "data": {
      "application/javascript": [
       "\n",
       "        $('span:contains(\"# Temp\")').closest('.cell').remove();\n",
       "        var code = IPython.notebook.insert_cell_below('code');\n",
       "        code.set_text(atob(\"IyBUZW1wCmluc2VydCgnJycKbW9uZGVuMjAxMmEgPSBEQihXb3JrVW5yZWxhdGVkKAogICAgMjAxMiwgIkN1c3RvbWl6aW5nIEdRTSBtb2RlbHMgZm9yIHNvZnR3YXJlIHByb2plY3QgbW9uaXRvcmluZyIsCiAgICBkaXNwbGF5PSJtb25kZW4iLAogICAgYXV0aG9ycz0iTW9uZGVuLCBBa2l0byBhbmQgTWF0c3VtdXJhLCBUb21va28gYW5kIEJhcmtlciwgTWlrZSBhbmQgVG9yaWksIEtvamkgYW5kIEJhc2lsaSwgVmljdG9yIFIiLAogICAgcGxhY2U9RkFLRSwKICAgIHBwPSIyMTY5LS0yMTgyIiwKICAgIGVudHJ5dHlwZT0iYXJ0aWNsZSIsCiAgICB2b2x1bWU9Ijk1IiwKICAgIG51bWJlcj0iOSIsCiAgICBwdWJsaXNoZXI9IlRoZSBJbnN0aXR1dGUgb2YgRWxlY3Ryb25pY3MsIEluZm9ybWF0aW9uIGFuZCBDb21tdW5pY2F0aW9uIEVuZ2luZWVycyIsCiAgICBJRD0ibW9uZGVuMjAxMmN1c3RvbWl6aW5nIiwKICAgIGNsdXN0ZXJfaWQ9IjkwMTY3OTg1MDMzNDIzNjU1MzQiLAogICAgc2Nob2xhcj0iaHR0cDovL3NjaG9sYXIuZ29vZ2xlLmNvbS9zY2hvbGFyP2NpdGVzPTkwMTY3OTg1MDMzNDIzNjU1MzQmYXNfc2R0PTIwMDUmc2Npb2R0PTAsNSZobD1lbiIsCiAgICBwbGFjZXg9IklFSUNFIFRSQU5TQUNUSU9OUyBvbiBJbmZvcm1hdGlvbiBhbmQgU3lzdGVtcyIsCikpCgpEQihDaXRhdGlvbigKICAgIG1vbmRlbjIwMTJhLCBiYXNpbGkyMDEwYSwgcmVmPSIiLAogICAgY29udGV4dHM9WwoKICAgIF0sCikpCgonJycsIGNpdGF0aW9ucz0nYmFzaWxpMjAxMGEnKTs=\"));\n",
       "    "
      ],
      "text/plain": [
       "<IPython.core.display.Javascript object>"
      ]
     },
     "metadata": {},
     "output_type": "display_data"
    },
    {
     "data": {
      "application/javascript": [
       "$('span:contains(\"# Temp\")').closest('.cell').remove();"
      ],
      "text/plain": [
       "<IPython.core.display.Javascript object>"
      ]
     },
     "metadata": {},
     "output_type": "display_data"
    },
    {
     "data": {
      "application/javascript": [
       "\n",
       "        $('span:contains(\"# Temp\")').closest('.cell').remove();\n",
       "        var code = IPython.notebook.insert_cell_below('code');\n",
       "        code.set_text(atob(\"IyBUZW1wCmluc2VydCgnJycKbW9uZGVuMjAxMmEgPSBEQihXb3JrVW5yZWxhdGVkKAogICAgMjAxMiwgIkN1c3RvbWl6aW5nIEdRTSBtb2RlbHMgZm9yIHNvZnR3YXJlIHByb2plY3QgbW9uaXRvcmluZyIsCiAgICBkaXNwbGF5PSJtb25kZW4iLAogICAgYXV0aG9ycz0iTW9uZGVuLCBBa2l0byBhbmQgTWF0c3VtdXJhLCBUb21va28gYW5kIEJhcmtlciwgTWlrZSBhbmQgVG9yaWksIEtvamkgYW5kIEJhc2lsaSwgVmljdG9yIFIiLAogICAgcGxhY2U9RkFLRSwKICAgIHBwPSIyMTY5LS0yMTgyIiwKICAgIGVudHJ5dHlwZT0iYXJ0aWNsZSIsCiAgICB2b2x1bWU9Ijk1IiwKICAgIG51bWJlcj0iOSIsCiAgICBwdWJsaXNoZXI9IlRoZSBJbnN0aXR1dGUgb2YgRWxlY3Ryb25pY3MsIEluZm9ybWF0aW9uIGFuZCBDb21tdW5pY2F0aW9uIEVuZ2luZWVycyIsCiAgICBJRD0ibW9uZGVuMjAxMmN1c3RvbWl6aW5nIiwKICAgIGNsdXN0ZXJfaWQ9IjkwMTY3OTg1MDMzNDIzNjU1MzQiLAogICAgc2Nob2xhcj0iaHR0cDovL3NjaG9sYXIuZ29vZ2xlLmNvbS9zY2hvbGFyP2NpdGVzPTkwMTY3OTg1MDMzNDIzNjU1MzQmYXNfc2R0PTIwMDUmc2Npb2R0PTAsNSZobD1lbiIsCiAgICBwbGFjZXg9IklFSUNFIFRSQU5TQUNUSU9OUyBvbiBJbmZvcm1hdGlvbiBhbmQgU3lzdGVtcyIsCikpCgpEQihDaXRhdGlvbigKICAgIG1vbmRlbjIwMTJhLCBiYXNpbGkyMDEwYSwgcmVmPSIiLAogICAgY29udGV4dHM9WwoKICAgIF0sCikpCgonJycsIGNpdGF0aW9ucz0nYmFzaWxpMjAxMGEnKTs=\"));\n",
       "    "
      ],
      "text/plain": [
       "<IPython.core.display.Javascript object>"
      ]
     },
     "metadata": {},
     "output_type": "display_data"
    },
    {
     "data": {
      "application/javascript": [
       "$('span:contains(\"# Temp\")').closest('.cell').remove();"
      ],
      "text/plain": [
       "<IPython.core.display.Javascript object>"
      ]
     },
     "metadata": {},
     "output_type": "display_data"
    },
    {
     "data": {
      "application/javascript": [
       "\n",
       "        $('span:contains(\"# Temp\")').closest('.cell').remove();\n",
       "        var code = IPython.notebook.insert_cell_below('code');\n",
       "        code.set_text(atob(\"IyBUZW1wCmluc2VydCgnJycKbfxuY2gyMDEzZCA9IERCKFdvcmtVbnJlbGF0ZWQoCiAgICAyMDEzLCAiVGhlIGVmZmVjdHMgb2YgZ3FtKyBzdHJhdGVnaWVzIG9uIG9yZ2FuaXphdGlvbmFsIGFsaWdubWVudCIsCiAgICBkaXNwbGF5PSJt/G5jaCBkIiwKICAgIGF1dGhvcnM9Ik38bmNoLCBK/HJnZW4gYW5kIEZhZ2VyaG9sbSwgRmFiaWFuIGFuZCBLZXR0dW5lbiwgUGV0cmkgYW5kIFBhZ2VscywgTWF4IGFuZCBQYXJ0YW5lbiwgSmFyaSIsCiAgICBwbGFjZT1GQUtFLAogICAgZW50cnl0eXBlPSJhcnRpY2xlIiwKICAgIElEPSJtdW5jaDIwMTNlZmZlY3RzIiwKICAgIGNsdXN0ZXJfaWQ9IjMxODIyMzk3MTE0Mjc4NzcwNDEiLAogICAgc2Nob2xhcj0iaHR0cDovL3NjaG9sYXIuZ29vZ2xlLmNvbS9zY2hvbGFyP2NpdGVzPTMxODIyMzk3MTE0Mjc4NzcwNDEmYXNfc2R0PTIwMDUmc2Npb2R0PTAsNSZobD1lbiIsCiAgICBwbGFjZXg9ImFyWGl2IHByZXByaW50IGFyWGl2OjEzMTEuNjIyMSIsCikpCgpEQihDaXRhdGlvbigKICAgIG38bmNoMjAxM2QsIGJhc2lsaTIwMTBhLCByZWY9IiIsCiAgICBjb250ZXh0cz1bCgogICAgXSwKKSkKCicnJywgY2l0YXRpb25zPSdiYXNpbGkyMDEwYScpOw==\"));\n",
       "    "
      ],
      "text/plain": [
       "<IPython.core.display.Javascript object>"
      ]
     },
     "metadata": {},
     "output_type": "display_data"
    },
    {
     "data": {
      "application/javascript": [
       "$('span:contains(\"# Temp\")').closest('.cell').remove();"
      ],
      "text/plain": [
       "<IPython.core.display.Javascript object>"
      ]
     },
     "metadata": {},
     "output_type": "display_data"
    },
    {
     "data": {
      "application/javascript": [
       "\n",
       "        $('span:contains(\"# Temp\")').closest('.cell').remove();\n",
       "        var code = IPython.notebook.insert_cell_below('code');\n",
       "        code.set_text(atob(\"IyBUZW1wCmluc2VydCgnJycKbfxuY2gyMDEzZCA9IERCKFdvcmtVbnJlbGF0ZWQoCiAgICAyMDEzLCAiVGhlIGVmZmVjdHMgb2YgZ3FtKyBzdHJhdGVnaWVzIG9uIG9yZ2FuaXphdGlvbmFsIGFsaWdubWVudCIsCiAgICBkaXNwbGF5PSJt/G5jaCBkIiwKICAgIGF1dGhvcnM9Ik38bmNoLCBK/HJnZW4gYW5kIEZhZ2VyaG9sbSwgRmFiaWFuIGFuZCBLZXR0dW5lbiwgUGV0cmkgYW5kIFBhZ2VscywgTWF4IGFuZCBQYXJ0YW5lbiwgSmFyaSIsCiAgICBwbGFjZT1GQUtFLAogICAgZW50cnl0eXBlPSJhcnRpY2xlIiwKICAgIElEPSJtdW5jaDIwMTNlZmZlY3RzIiwKICAgIGNsdXN0ZXJfaWQ9IjMxODIyMzk3MTE0Mjc4NzcwNDEiLAogICAgc2Nob2xhcj0iaHR0cDovL3NjaG9sYXIuZ29vZ2xlLmNvbS9zY2hvbGFyP2NpdGVzPTMxODIyMzk3MTE0Mjc4NzcwNDEmYXNfc2R0PTIwMDUmc2Npb2R0PTAsNSZobD1lbiIsCiAgICBwbGFjZXg9ImFyWGl2IHByZXByaW50IGFyWGl2OjEzMTEuNjIyMSIsCikpCgpEQihDaXRhdGlvbigKICAgIG38bmNoMjAxM2QsIGJhc2lsaTIwMTBhLCByZWY9IiIsCiAgICBjb250ZXh0cz1bCgogICAgXSwKKSkKCicnJywgY2l0YXRpb25zPSdiYXNpbGkyMDEwYScpOw==\"));\n",
       "    "
      ],
      "text/plain": [
       "<IPython.core.display.Javascript object>"
      ]
     },
     "metadata": {},
     "output_type": "display_data"
    },
    {
     "data": {
      "application/javascript": [
       "$('span:contains(\"# Temp\")').closest('.cell').remove();"
      ],
      "text/plain": [
       "<IPython.core.display.Javascript object>"
      ]
     },
     "metadata": {},
     "output_type": "display_data"
    },
    {
     "data": {
      "application/javascript": [
       "\n",
       "        $('span:contains(\"# Temp\")').closest('.cell').remove();\n",
       "        var code = IPython.notebook.insert_cell_below('code');\n",
       "        code.set_text(atob(\"IyBUZW1wCmluc2VydCgnJycKb2xzaW5hMjAxMWIgPSBEQihXb3JrVW5yZWxhdGVkKAogICAgMjAxMSwgIkFzc2Vzc2luZyBpbnRlZ3JhdGVkIG1lYXN1cmVtZW50IGFuZCBldmFsdWF0aW9uIHN0cmF0ZWdpZXM6IEEgY2FzZSBzdHVkeSIsCiAgICBkaXNwbGF5PSJvbHNpbmEgYiIsCiAgICBhdXRob3JzPSJPbHNpbmEsIEx1aXMgYW5kIFBhcGEsIE1hcmlhIEZlcm5hbmRhIGFuZCBCZWNrZXIsIFBhYmxvIiwKICAgIHBsYWNlPVNFQywKICAgIHBwPSIxLS0xMCIsCiAgICBlbnRyeXR5cGU9ImlucHJvY2VlZGluZ3MiLAogICAgb3JnYW5pemF0aW9uPSJJRUVFIiwKICAgIElEPSJvbHNpbmEyMDExYXNzZXNzaW5nIiwKICAgIGNsdXN0ZXJfaWQ9IjExMjUzODYxODM4ODMzNDM3OTczIiwKICAgIHNjaG9sYXI9Imh0dHA6Ly9zY2hvbGFyLmdvb2dsZS5jb20vc2Nob2xhcj9jaXRlcz0xMTI1Mzg2MTgzODgzMzQzNzk3MyZhc19zZHQ9MjAwNSZzY2lvZHQ9MCw1JmhsPWVuIiwKICAgIHBsYWNleD0iU29mdHdhcmUgRW5naW5lZXJpbmcgQ29uZmVyZW5jZSBpbiBSdXNzaWEgKENFRS1TRUNSKSwgMjAxMSA3dGggQ2VudHJhbCBhbmQgRWFzdGVybiBFdXJvcGVhbiIsCikpCgpEQihDaXRhdGlvbigKICAgIG9sc2luYTIwMTFiLCBiYXNpbGkyMDEwYSwgcmVmPSIiLAogICAgY29udGV4dHM9WwoKICAgIF0sCikpCgonJycsIGNpdGF0aW9ucz0nYmFzaWxpMjAxMGEnKTs=\"));\n",
       "    "
      ],
      "text/plain": [
       "<IPython.core.display.Javascript object>"
      ]
     },
     "metadata": {},
     "output_type": "display_data"
    },
    {
     "data": {
      "application/javascript": [
       "$('span:contains(\"# Temp\")').closest('.cell').remove();"
      ],
      "text/plain": [
       "<IPython.core.display.Javascript object>"
      ]
     },
     "metadata": {},
     "output_type": "display_data"
    },
    {
     "data": {
      "application/javascript": [
       "\n",
       "        $('span:contains(\"# Temp\")').closest('.cell').remove();\n",
       "        var code = IPython.notebook.insert_cell_below('code');\n",
       "        code.set_text(atob(\"IyBUZW1wCmluc2VydCgnJycKb2xzaW5hMjAxMWIgPSBEQihXb3JrVW5yZWxhdGVkKAogICAgMjAxMSwgIkFzc2Vzc2luZyBpbnRlZ3JhdGVkIG1lYXN1cmVtZW50IGFuZCBldmFsdWF0aW9uIHN0cmF0ZWdpZXM6IEEgY2FzZSBzdHVkeSIsCiAgICBkaXNwbGF5PSJvbHNpbmEgYiIsCiAgICBhdXRob3JzPSJPbHNpbmEsIEx1aXMgYW5kIFBhcGEsIE1hcmlhIEZlcm5hbmRhIGFuZCBCZWNrZXIsIFBhYmxvIiwKICAgIHBsYWNlPVNFQywKICAgIHBwPSIxLS0xMCIsCiAgICBlbnRyeXR5cGU9ImlucHJvY2VlZGluZ3MiLAogICAgb3JnYW5pemF0aW9uPSJJRUVFIiwKICAgIElEPSJvbHNpbmEyMDExYXNzZXNzaW5nIiwKICAgIGNsdXN0ZXJfaWQ9IjExMjUzODYxODM4ODMzNDM3OTczIiwKICAgIHNjaG9sYXI9Imh0dHA6Ly9zY2hvbGFyLmdvb2dsZS5jb20vc2Nob2xhcj9jaXRlcz0xMTI1Mzg2MTgzODgzMzQzNzk3MyZhc19zZHQ9MjAwNSZzY2lvZHQ9MCw1JmhsPWVuIiwKICAgIHBsYWNleD0iU29mdHdhcmUgRW5naW5lZXJpbmcgQ29uZmVyZW5jZSBpbiBSdXNzaWEgKENFRS1TRUNSKSwgMjAxMSA3dGggQ2VudHJhbCBhbmQgRWFzdGVybiBFdXJvcGVhbiIsCikpCgpEQihDaXRhdGlvbigKICAgIG9sc2luYTIwMTFiLCBiYXNpbGkyMDEwYSwgcmVmPSIiLAogICAgY29udGV4dHM9WwoKICAgIF0sCikpCgonJycsIGNpdGF0aW9ucz0nYmFzaWxpMjAxMGEnKTs=\"));\n",
       "    "
      ],
      "text/plain": [
       "<IPython.core.display.Javascript object>"
      ]
     },
     "metadata": {},
     "output_type": "display_data"
    },
    {
     "data": {
      "application/javascript": [
       "$('span:contains(\"# Temp\")').closest('.cell').remove();"
      ],
      "text/plain": [
       "<IPython.core.display.Javascript object>"
      ]
     },
     "metadata": {},
     "output_type": "display_data"
    },
    {
     "data": {
      "application/javascript": [
       "\n",
       "        $('span:contains(\"# Temp\")').closest('.cell').remove();\n",
       "        var code = IPython.notebook.insert_cell_below('code');\n",
       "        code.set_text(atob(\"IyBUZW1wCmluc2VydCgnJycKcml2ZXJhMjAxNmEgPSBEQihXb3JrVW5yZWxhdGVkKAogICAgMjAxNiwgIlF1YWxpdHkgdmlld3MgYW5kIHN0cmF0ZWd5IHBhdHRlcm5zIGZvciBldmFsdWF0aW5nIGFuZCBpbXByb3ZpbmcgcXVhbGl0eTogdXNhYmlsaXR5IGFuZCB1c2VyIGV4cGVyaWVuY2UgY2FzZSBzdHVkaWVzIiwKICAgIGRpc3BsYXk9InJpdmVyYSIsCiAgICBhdXRob3JzPSJSaXZlcmEsIEJlbGVuIGFuZCBCZWNrZXIsIFBhYmxvIGFuZCBPbHNpbmEsIEx1aXMiLAogICAgcGxhY2U9RkFLRSwKICAgIHBwPSI0MzMtLTQ2NCIsCiAgICBlbnRyeXR5cGU9ImFydGljbGUiLAogICAgdm9sdW1lPSIxNSIsCiAgICBJRD0icml2ZXJhMjAxNnF1YWxpdHkiLAogICAgY2x1c3Rlcl9pZD0iNTE1Njg3NDg2ODA1MjA2Njg2NiIsCiAgICBzY2hvbGFyPSJodHRwOi8vc2Nob2xhci5nb29nbGUuY29tL3NjaG9sYXI/Y2l0ZXM9NTE1Njg3NDg2ODA1MjA2Njg2NiZhc19zZHQ9MjAwNSZzY2lvZHQ9MCw1JmhsPWVuIiwKICAgIHBsYWNleD0iSm91cm5hbCBvZiBXZWIgRW5naW5lZXJpbmcsIFJpbnRvbiBQcmVzcywgVVNBIiwKKSkKCkRCKENpdGF0aW9uKAogICAgcml2ZXJhMjAxNmEsIGJhc2lsaTIwMTBhLCByZWY9IiIsCiAgICBjb250ZXh0cz1bCgogICAgXSwKKSkKCicnJywgY2l0YXRpb25zPSdiYXNpbGkyMDEwYScpOw==\"));\n",
       "    "
      ],
      "text/plain": [
       "<IPython.core.display.Javascript object>"
      ]
     },
     "metadata": {},
     "output_type": "display_data"
    },
    {
     "data": {
      "application/javascript": [
       "$('span:contains(\"# Temp\")').closest('.cell').remove();"
      ],
      "text/plain": [
       "<IPython.core.display.Javascript object>"
      ]
     },
     "metadata": {},
     "output_type": "display_data"
    },
    {
     "data": {
      "application/javascript": [
       "\n",
       "        $('span:contains(\"# Temp\")').closest('.cell').remove();\n",
       "        var code = IPython.notebook.insert_cell_below('code');\n",
       "        code.set_text(atob(\"IyBUZW1wCmluc2VydCgnJycKcml2ZXJhMjAxNmEgPSBEQihXb3JrVW5yZWxhdGVkKAogICAgMjAxNiwgIlF1YWxpdHkgdmlld3MgYW5kIHN0cmF0ZWd5IHBhdHRlcm5zIGZvciBldmFsdWF0aW5nIGFuZCBpbXByb3ZpbmcgcXVhbGl0eTogdXNhYmlsaXR5IGFuZCB1c2VyIGV4cGVyaWVuY2UgY2FzZSBzdHVkaWVzIiwKICAgIGRpc3BsYXk9InJpdmVyYSIsCiAgICBhdXRob3JzPSJSaXZlcmEsIEJlbGVuIGFuZCBCZWNrZXIsIFBhYmxvIGFuZCBPbHNpbmEsIEx1aXMiLAogICAgcGxhY2U9RkFLRSwKICAgIHBwPSI0MzMtLTQ2NCIsCiAgICBlbnRyeXR5cGU9ImFydGljbGUiLAogICAgdm9sdW1lPSIxNSIsCiAgICBJRD0icml2ZXJhMjAxNnF1YWxpdHkiLAogICAgY2x1c3Rlcl9pZD0iNTE1Njg3NDg2ODA1MjA2Njg2NiIsCiAgICBzY2hvbGFyPSJodHRwOi8vc2Nob2xhci5nb29nbGUuY29tL3NjaG9sYXI/Y2l0ZXM9NTE1Njg3NDg2ODA1MjA2Njg2NiZhc19zZHQ9MjAwNSZzY2lvZHQ9MCw1JmhsPWVuIiwKICAgIHBsYWNleD0iSm91cm5hbCBvZiBXZWIgRW5naW5lZXJpbmcsIFJpbnRvbiBQcmVzcywgVVNBIiwKKSkKCkRCKENpdGF0aW9uKAogICAgcml2ZXJhMjAxNmEsIGJhc2lsaTIwMTBhLCByZWY9IiIsCiAgICBjb250ZXh0cz1bCgogICAgXSwKKSkKCicnJywgY2l0YXRpb25zPSdiYXNpbGkyMDEwYScpOw==\"));\n",
       "    "
      ],
      "text/plain": [
       "<IPython.core.display.Javascript object>"
      ]
     },
     "metadata": {},
     "output_type": "display_data"
    },
    {
     "data": {
      "application/javascript": [
       "$('span:contains(\"# Temp\")').closest('.cell').remove();"
      ],
      "text/plain": [
       "<IPython.core.display.Javascript object>"
      ]
     },
     "metadata": {},
     "output_type": "display_data"
    },
    {
     "data": {
      "application/javascript": [
       "\n",
       "        $('span:contains(\"# Temp\")').closest('.cell').remove();\n",
       "        var code = IPython.notebook.insert_cell_below('code');\n",
       "        code.set_text(atob(\"IyBUZW1wCmluc2VydCgnJycKa2zkczIwMTNhID0gREIoV29ya1VucmVsYXRlZCgKICAgIDIwMTMsICJCZXlvbmQgaGVyZGluZyBjYXRzOiBhbGlnbmluZyBxdWFudGl0YXRpdmUgdGVjaG5vbG9neSBldmFsdWF0aW9uIGluIGxhcmdlLXNjYWxlIHJlc2VhcmNoIHByb2plY3RzIiwKICAgIGRpc3BsYXk9Imts5HMiLAogICAgYXV0aG9ycz0iS2zkcywgTWljaGFlbCBhbmQgQmF1ZXIsIFRob21hcyBhbmQgVGliZXJpLCBVYmFsZG8iLAogICAgcGxhY2U9SUNQRlNQSSwKICAgIHBwPSI4MC0tOTIiLAogICAgZW50cnl0eXBlPSJpbnByb2NlZWRpbmdzIiwKICAgIG9yZ2FuaXphdGlvbj0iU3ByaW5nZXIiLAogICAgSUQ9ImtsYXMyMDEzYmV5b25kIiwKICAgIGNsdXN0ZXJfaWQ9IjM2Mjg2MDg3MDQ5NDAxODU2MTIiLAogICAgc2Nob2xhcj0iaHR0cDovL3NjaG9sYXIuZ29vZ2xlLmNvbS9zY2hvbGFyP2NpdGVzPTM2Mjg2MDg3MDQ5NDAxODU2MTImYXNfc2R0PTIwMDUmc2Npb2R0PTAsNSZobD1lbiIsCiAgICBwbGFjZXg9IkludGVybmF0aW9uYWwgQ29uZmVyZW5jZSBvbiBQcm9kdWN0IEZvY3VzZWQgU29mdHdhcmUgUHJvY2VzcyBJbXByb3ZlbWVudCIsCikpCgpEQihDaXRhdGlvbigKICAgIGts5HMyMDEzYSwgYmFzaWxpMjAxMGEsIHJlZj0iIiwKICAgIGNvbnRleHRzPVsKCiAgICBdLAopKQoKJycnLCBjaXRhdGlvbnM9J2Jhc2lsaTIwMTBhJyk7\"));\n",
       "    "
      ],
      "text/plain": [
       "<IPython.core.display.Javascript object>"
      ]
     },
     "metadata": {},
     "output_type": "display_data"
    },
    {
     "data": {
      "application/javascript": [
       "$('span:contains(\"# Temp\")').closest('.cell').remove();"
      ],
      "text/plain": [
       "<IPython.core.display.Javascript object>"
      ]
     },
     "metadata": {},
     "output_type": "display_data"
    },
    {
     "data": {
      "application/javascript": [
       "\n",
       "        $('span:contains(\"# Temp\")').closest('.cell').remove();\n",
       "        var code = IPython.notebook.insert_cell_below('code');\n",
       "        code.set_text(atob(\"IyBUZW1wCmluc2VydCgnJycKa2zkczIwMTNhID0gREIoV29ya1VucmVsYXRlZCgKICAgIDIwMTMsICJCZXlvbmQgaGVyZGluZyBjYXRzOiBhbGlnbmluZyBxdWFudGl0YXRpdmUgdGVjaG5vbG9neSBldmFsdWF0aW9uIGluIGxhcmdlLXNjYWxlIHJlc2VhcmNoIHByb2plY3RzIiwKICAgIGRpc3BsYXk9Imts5HMiLAogICAgYXV0aG9ycz0iS2zkcywgTWljaGFlbCBhbmQgQmF1ZXIsIFRob21hcyBhbmQgVGliZXJpLCBVYmFsZG8iLAogICAgcGxhY2U9SUNQRlNQSSwKICAgIHBwPSI4MC0tOTIiLAogICAgZW50cnl0eXBlPSJpbnByb2NlZWRpbmdzIiwKICAgIG9yZ2FuaXphdGlvbj0iU3ByaW5nZXIiLAogICAgSUQ9ImtsYXMyMDEzYmV5b25kIiwKICAgIGNsdXN0ZXJfaWQ9IjM2Mjg2MDg3MDQ5NDAxODU2MTIiLAogICAgc2Nob2xhcj0iaHR0cDovL3NjaG9sYXIuZ29vZ2xlLmNvbS9zY2hvbGFyP2NpdGVzPTM2Mjg2MDg3MDQ5NDAxODU2MTImYXNfc2R0PTIwMDUmc2Npb2R0PTAsNSZobD1lbiIsCiAgICBwbGFjZXg9IkludGVybmF0aW9uYWwgQ29uZmVyZW5jZSBvbiBQcm9kdWN0IEZvY3VzZWQgU29mdHdhcmUgUHJvY2VzcyBJbXByb3ZlbWVudCIsCikpCgpEQihDaXRhdGlvbigKICAgIGts5HMyMDEzYSwgYmFzaWxpMjAxMGEsIHJlZj0iIiwKICAgIGNvbnRleHRzPVsKCiAgICBdLAopKQoKJycnLCBjaXRhdGlvbnM9J2Jhc2lsaTIwMTBhJyk7\"));\n",
       "    "
      ],
      "text/plain": [
       "<IPython.core.display.Javascript object>"
      ]
     },
     "metadata": {},
     "output_type": "display_data"
    },
    {
     "data": {
      "application/javascript": [
       "$('span:contains(\"# Temp\")').closest('.cell').remove();"
      ],
      "text/plain": [
       "<IPython.core.display.Javascript object>"
      ]
     },
     "metadata": {},
     "output_type": "display_data"
    },
    {
     "data": {
      "application/javascript": [
       "\n",
       "        $('span:contains(\"# Temp\")').closest('.cell').remove();\n",
       "        var code = IPython.notebook.insert_cell_below('code');\n",
       "        code.set_text(atob(\"IyBUZW1wCmluc2VydCgnJycKREIoQ2l0YXRpb24oCiAgICBrb2JvcmkyMDE0YSwgYmFzaWxpMjAxMGEsIHJlZj0iIiwKICAgIGNvbnRleHRzPVsKCiAgICBdLAopKQoKJycnLCBjaXRhdGlvbnM9J2Jhc2lsaTIwMTBhJyk7CnNldF9hdHRyaWJ1dGUoJ2tvYm9yaTIwMTRhJywgJ2V4Y2VycHQnLCAnQWJzdHJhY3QgVG8gYWNoaWV2ZSBvdmVyYWxsIGJ1c2luZXNzIGdvYWxzLCBHUU0rIFN0cmF0ZWdpZXOuIGlzIGFuIGFwcHJvYWNoIHRoYXQgYWxpZ25zIHRoZSBidXNpbmVzcyBnb2FscyBhdCBlYWNoIGxldmVsIG9mIGFuIG9yZ2FuaXphdGlvbiB0byBzdHJhdGVnaWVzIGFuZCBhc3Nlc3NlcyB0aGUgYWNoaWV2ZW1lbnQgb2YgZ29hbHMuIFN0cmF0ZWdpZXMgZGVyaXZlZCBmcm9tIGJ1c2luZXNzIGdvYWxzIGFyZSBiYXNlZCBvbiByYXRpb25hbGVzICcpOw==\"));\n",
       "    "
      ],
      "text/plain": [
       "<IPython.core.display.Javascript object>"
      ]
     },
     "metadata": {},
     "output_type": "display_data"
    },
    {
     "data": {
      "application/javascript": [
       "$('span:contains(\"# Temp\")').closest('.cell').remove();"
      ],
      "text/plain": [
       "<IPython.core.display.Javascript object>"
      ]
     },
     "metadata": {},
     "output_type": "display_data"
    },
    {
     "data": {
      "application/javascript": [
       "\n",
       "        $('span:contains(\"# Temp\")').closest('.cell').remove();\n",
       "        var code = IPython.notebook.insert_cell_below('code');\n",
       "        code.set_text(atob(\"IyBUZW1wCmluc2VydCgnJycKREIoQ2l0YXRpb24oCiAgICBrb2JvcmkyMDE0YSwgYmFzaWxpMjAxMGEsIHJlZj0iIiwKICAgIGNvbnRleHRzPVsKCiAgICBdLAopKQoKJycnLCBjaXRhdGlvbnM9J2Jhc2lsaTIwMTBhJyk7CnNldF9hdHRyaWJ1dGUoJ2tvYm9yaTIwMTRhJywgJ2V4Y2VycHQnLCAnQWJzdHJhY3QgVG8gYWNoaWV2ZSBvdmVyYWxsIGJ1c2luZXNzIGdvYWxzLCBHUU0rIFN0cmF0ZWdpZXOuIGlzIGFuIGFwcHJvYWNoIHRoYXQgYWxpZ25zIHRoZSBidXNpbmVzcyBnb2FscyBhdCBlYWNoIGxldmVsIG9mIGFuIG9yZ2FuaXphdGlvbiB0byBzdHJhdGVnaWVzIGFuZCBhc3Nlc3NlcyB0aGUgYWNoaWV2ZW1lbnQgb2YgZ29hbHMuIFN0cmF0ZWdpZXMgZGVyaXZlZCBmcm9tIGJ1c2luZXNzIGdvYWxzIGFyZSBiYXNlZCBvbiByYXRpb25hbGVzICcpOw==\"));\n",
       "    "
      ],
      "text/plain": [
       "<IPython.core.display.Javascript object>"
      ]
     },
     "metadata": {},
     "output_type": "display_data"
    },
    {
     "data": {
      "application/javascript": [
       "$('span:contains(\"# Temp\")').closest('.cell').remove();"
      ],
      "text/plain": [
       "<IPython.core.display.Javascript object>"
      ]
     },
     "metadata": {},
     "output_type": "display_data"
    },
    {
     "data": {
      "application/javascript": [
       "\n",
       "        $('span:contains(\"# Temp\")').closest('.cell').remove();\n",
       "        var code = IPython.notebook.insert_cell_below('code');\n",
       "        code.set_text(atob(\"IyBUZW1wCmluc2VydCgnJycKbGlnZ2VzbWV5ZXIyMDE0YSA9IERCKFdvcmtVbnJlbGF0ZWQoCiAgICAyMDE0LCAiQmlnIERhdGEgaW4gU21hcnQgRWNvc3lzdGVtcyIsCiAgICBkaXNwbGF5PSJsaWdnZXNtZXllciIsCiAgICBhdXRob3JzPSJMaWdnZXNtZXllciwgUGV0ZXIgYW5kIET2cnIsIEr2cmcgYW5kIEhlaWRyaWNoLCBKZW5zIiwKICAgIHBsYWNlPUZBS0UsCiAgICBwcD0iMTA1LS0xMTEiLAogICAgZW50cnl0eXBlPSJhcnRpY2xlIiwKICAgIHZvbHVtZT0iMzciLAogICAgbnVtYmVyPSIyIiwKICAgIHB1Ymxpc2hlcj0iU3ByaW5nZXIiLAogICAgSUQ9ImxpZ2dlc21leWVyMjAxNGJpZyIsCiAgICBjbHVzdGVyX2lkPSIzNjMzOTAxNDg4NDQ1OTA2ODI3IiwKICAgIHNjaG9sYXI9Imh0dHA6Ly9zY2hvbGFyLmdvb2dsZS5jb20vc2Nob2xhcj9jaXRlcz0zNjMzOTAxNDg4NDQ1OTA2ODI3JmFzX3NkdD0yMDA1JnNjaW9kdD0wLDUmaGw9ZW4iLAogICAgcGxhY2V4PSJJbmZvcm1hdGlrLVNwZWt0cnVtIiwKKSkKCkRCKENpdGF0aW9uKAogICAgbGlnZ2VzbWV5ZXIyMDE0YSwgYmFzaWxpMjAxMGEsIHJlZj0iIiwKICAgIGNvbnRleHRzPVsKCiAgICBdLAopKQoKJycnLCBjaXRhdGlvbnM9J2Jhc2lsaTIwMTBhJyk7\"));\n",
       "    "
      ],
      "text/plain": [
       "<IPython.core.display.Javascript object>"
      ]
     },
     "metadata": {},
     "output_type": "display_data"
    },
    {
     "data": {
      "application/javascript": [
       "$('span:contains(\"# Temp\")').closest('.cell').remove();"
      ],
      "text/plain": [
       "<IPython.core.display.Javascript object>"
      ]
     },
     "metadata": {},
     "output_type": "display_data"
    },
    {
     "data": {
      "application/javascript": [
       "\n",
       "        $('span:contains(\"# Temp\")').closest('.cell').remove();\n",
       "        var code = IPython.notebook.insert_cell_below('code');\n",
       "        code.set_text(atob(\"IyBUZW1wCmluc2VydCgnJycKbGlnZ2VzbWV5ZXIyMDE0YSA9IERCKFdvcmtVbnJlbGF0ZWQoCiAgICAyMDE0LCAiQmlnIERhdGEgaW4gU21hcnQgRWNvc3lzdGVtcyIsCiAgICBkaXNwbGF5PSJsaWdnZXNtZXllciIsCiAgICBhdXRob3JzPSJMaWdnZXNtZXllciwgUGV0ZXIgYW5kIET2cnIsIEr2cmcgYW5kIEhlaWRyaWNoLCBKZW5zIiwKICAgIHBsYWNlPUZBS0UsCiAgICBwcD0iMTA1LS0xMTEiLAogICAgZW50cnl0eXBlPSJhcnRpY2xlIiwKICAgIHZvbHVtZT0iMzciLAogICAgbnVtYmVyPSIyIiwKICAgIHB1Ymxpc2hlcj0iU3ByaW5nZXIiLAogICAgSUQ9ImxpZ2dlc21leWVyMjAxNGJpZyIsCiAgICBjbHVzdGVyX2lkPSIzNjMzOTAxNDg4NDQ1OTA2ODI3IiwKICAgIHNjaG9sYXI9Imh0dHA6Ly9zY2hvbGFyLmdvb2dsZS5jb20vc2Nob2xhcj9jaXRlcz0zNjMzOTAxNDg4NDQ1OTA2ODI3JmFzX3NkdD0yMDA1JnNjaW9kdD0wLDUmaGw9ZW4iLAogICAgcGxhY2V4PSJJbmZvcm1hdGlrLVNwZWt0cnVtIiwKKSkKCkRCKENpdGF0aW9uKAogICAgbGlnZ2VzbWV5ZXIyMDE0YSwgYmFzaWxpMjAxMGEsIHJlZj0iIiwKICAgIGNvbnRleHRzPVsKCiAgICBdLAopKQoKJycnLCBjaXRhdGlvbnM9J2Jhc2lsaTIwMTBhJyk7\"));\n",
       "    "
      ],
      "text/plain": [
       "<IPython.core.display.Javascript object>"
      ]
     },
     "metadata": {},
     "output_type": "display_data"
    },
    {
     "data": {
      "application/javascript": [
       "$('span:contains(\"# Temp\")').closest('.cell').remove();"
      ],
      "text/plain": [
       "<IPython.core.display.Javascript object>"
      ]
     },
     "metadata": {},
     "output_type": "display_data"
    },
    {
     "data": {
      "application/javascript": [
       "\n",
       "        $('span:contains(\"# Temp\")').closest('.cell').remove();\n",
       "        var code = IPython.notebook.insert_cell_below('code');\n",
       "        code.set_text(atob(\"IyBUZW1wCmluc2VydCgnJycKcml2ZXJhMjAxNmIgPSBEQihXb3JrVW5yZWxhdGVkKAogICAgMjAxNiwgIkEgSG9saXN0aWMgUXVhbGl0eSBFdmFsdWF0aW9uLCBTZWxlY3Rpb24gYW5kIEltcHJvdmVtZW50IEFwcHJvYWNoIGRyaXZlbiBieSBNdWx0aWxldmVsIEdvYWxzIGFuZCBTdHJhdGVnaWVzIiwKICAgIGRpc3BsYXk9InJpdmVyYSBiIiwKICAgIGF1dGhvcnM9IlJpdmVyYSwgQmVsZW4gYW5kIEJlY2tlciwgUGFibG8gYW5kIFBhcGEsIEZlcm5hbmRhIGFuZCBPbHNpbmEsIEx1aXMiLAogICAgcGxhY2U9RkFLRSwKICAgIHBwPSI1NC0tMTA0IiwKICAgIGVudHJ5dHlwZT0iYXJ0aWNsZSIsCiAgICB2b2x1bWU9IjE5IiwKICAgIG51bWJlcj0iMyIsCiAgICBwdWJsaXNoZXI9IkNlbnRybyBMYXRpbm9hbWVyaWNhbm8gZGUgRXN0dWRpb3MgZW4gSW5mb3Jt4XRpY2EiLAogICAgSUQ9InJpdmVyYTIwMTZob2xpc3RpYyIsCiAgICBjbHVzdGVyX2lkPSI2Mzc3Mzk0MzUyODc0NjQwNzkzIiwKICAgIHNjaG9sYXI9Imh0dHA6Ly9zY2hvbGFyLmdvb2dsZS5jb20vc2Nob2xhcj9jaXRlcz02Mzc3Mzk0MzUyODc0NjQwNzkzJmFzX3NkdD0yMDA1JnNjaW9kdD0wLDUmaGw9ZW4iLAogICAgcGxhY2V4PSJDTEVJIEVsZWN0cm9uaWMgSm91cm5hbCIsCikpCgpEQihDaXRhdGlvbigKICAgIHJpdmVyYTIwMTZiLCBiYXNpbGkyMDEwYSwgcmVmPSIiLAogICAgY29udGV4dHM9WwoKICAgIF0sCikpCgonJycsIGNpdGF0aW9ucz0nYmFzaWxpMjAxMGEnKTs=\"));\n",
       "    "
      ],
      "text/plain": [
       "<IPython.core.display.Javascript object>"
      ]
     },
     "metadata": {},
     "output_type": "display_data"
    },
    {
     "data": {
      "application/javascript": [
       "$('span:contains(\"# Temp\")').closest('.cell').remove();"
      ],
      "text/plain": [
       "<IPython.core.display.Javascript object>"
      ]
     },
     "metadata": {},
     "output_type": "display_data"
    },
    {
     "data": {
      "application/javascript": [
       "\n",
       "        $('span:contains(\"# Temp\")').closest('.cell').remove();\n",
       "        var code = IPython.notebook.insert_cell_below('code');\n",
       "        code.set_text(atob(\"IyBUZW1wCmluc2VydCgnJycKcml2ZXJhMjAxNmIgPSBEQihXb3JrVW5yZWxhdGVkKAogICAgMjAxNiwgIkEgSG9saXN0aWMgUXVhbGl0eSBFdmFsdWF0aW9uLCBTZWxlY3Rpb24gYW5kIEltcHJvdmVtZW50IEFwcHJvYWNoIGRyaXZlbiBieSBNdWx0aWxldmVsIEdvYWxzIGFuZCBTdHJhdGVnaWVzIiwKICAgIGRpc3BsYXk9InJpdmVyYSBiIiwKICAgIGF1dGhvcnM9IlJpdmVyYSwgQmVsZW4gYW5kIEJlY2tlciwgUGFibG8gYW5kIFBhcGEsIEZlcm5hbmRhIGFuZCBPbHNpbmEsIEx1aXMiLAogICAgcGxhY2U9RkFLRSwKICAgIHBwPSI1NC0tMTA0IiwKICAgIGVudHJ5dHlwZT0iYXJ0aWNsZSIsCiAgICB2b2x1bWU9IjE5IiwKICAgIG51bWJlcj0iMyIsCiAgICBwdWJsaXNoZXI9IkNlbnRybyBMYXRpbm9hbWVyaWNhbm8gZGUgRXN0dWRpb3MgZW4gSW5mb3Jt4XRpY2EiLAogICAgSUQ9InJpdmVyYTIwMTZob2xpc3RpYyIsCiAgICBjbHVzdGVyX2lkPSI2Mzc3Mzk0MzUyODc0NjQwNzkzIiwKICAgIHNjaG9sYXI9Imh0dHA6Ly9zY2hvbGFyLmdvb2dsZS5jb20vc2Nob2xhcj9jaXRlcz02Mzc3Mzk0MzUyODc0NjQwNzkzJmFzX3NkdD0yMDA1JnNjaW9kdD0wLDUmaGw9ZW4iLAogICAgcGxhY2V4PSJDTEVJIEVsZWN0cm9uaWMgSm91cm5hbCIsCikpCgpEQihDaXRhdGlvbigKICAgIHJpdmVyYTIwMTZiLCBiYXNpbGkyMDEwYSwgcmVmPSIiLAogICAgY29udGV4dHM9WwoKICAgIF0sCikpCgonJycsIGNpdGF0aW9ucz0nYmFzaWxpMjAxMGEnKTs=\"));\n",
       "    "
      ],
      "text/plain": [
       "<IPython.core.display.Javascript object>"
      ]
     },
     "metadata": {},
     "output_type": "display_data"
    },
    {
     "data": {
      "application/javascript": [
       "$('span:contains(\"# Temp\")').closest('.cell').remove();"
      ],
      "text/plain": [
       "<IPython.core.display.Javascript object>"
      ]
     },
     "metadata": {},
     "output_type": "display_data"
    },
    {
     "data": {
      "application/javascript": [
       "\n",
       "        $('span:contains(\"# Temp\")').closest('.cell').remove();\n",
       "        var code = IPython.notebook.insert_cell_below('code');\n",
       "        code.set_text(atob(\"IyBUZW1wCmluc2VydCgnJycKZ2lhbm5vdWxpczIwMTNhID0gREIoV29ya1VucmVsYXRlZCgKICAgIDIwMTMsICJNb2RlbC1jZW50cmljIHN0cmF0ZWd5LUlUIGFsaWdubWVudDogQW4gZW1waXJpY2FsIHN0dWR5IGluIHByb2dyZXNzIiwKICAgIGRpc3BsYXk9ImdpYW5ub3VsaXMiLAogICAgYXV0aG9ycz0iR2lhbm5vdWxpcywgQ29uc3RhbnRpbm9zIGFuZCBaZHJhdmtvdmljLCBKZWxlbmEgYW5kIFBldGl0LCBNaWNoYetsIiwKICAgIHBsYWNlPUZBS0UsCiAgICBwcD0iMTQ2LS0xNTUiLAogICAgZW50cnl0eXBlPSJpbnByb2NlZWRpbmdzIiwKICAgIG9yZ2FuaXphdGlvbj0iU3ByaW5nZXIiLAogICAgSUQ9ImdpYW5ub3VsaXMyMDEzbW9kZWwiLAogICAgY2x1c3Rlcl9pZD0iMTMxMDY5MTEzODQ4NjIyNjc2NjYiLAogICAgc2Nob2xhcj0iaHR0cDovL3NjaG9sYXIuZ29vZ2xlLmNvbS9zY2hvbGFyP2NpdGVzPTEzMTA2OTExMzg0ODYyMjY3NjY2JmFzX3NkdD0yMDA1JnNjaW9kdD0wLDUmaGw9ZW4iLAogICAgcGxhY2V4PSJJbnRlcm5hdGlvbmFsIENvbmZlcmVuY2Ugb24gQWR2YW5jZWQgSW5mb3JtYXRpb24gU3lzdGVtcyBFbmdpbmVlcmluZyIsCikpCgpEQihDaXRhdGlvbigKICAgIGdpYW5ub3VsaXMyMDEzYSwgYmFzaWxpMjAxMGEsIHJlZj0iIiwKICAgIGNvbnRleHRzPVsKCiAgICBdLAopKQoKJycnLCBjaXRhdGlvbnM9J2Jhc2lsaTIwMTBhJyk7\"));\n",
       "    "
      ],
      "text/plain": [
       "<IPython.core.display.Javascript object>"
      ]
     },
     "metadata": {},
     "output_type": "display_data"
    },
    {
     "data": {
      "application/javascript": [
       "$('span:contains(\"# Temp\")').closest('.cell').remove();"
      ],
      "text/plain": [
       "<IPython.core.display.Javascript object>"
      ]
     },
     "metadata": {},
     "output_type": "display_data"
    },
    {
     "data": {
      "application/javascript": [
       "\n",
       "        $('span:contains(\"# Temp\")').closest('.cell').remove();\n",
       "        var code = IPython.notebook.insert_cell_below('code');\n",
       "        code.set_text(atob(\"IyBUZW1wCmluc2VydCgnJycKREIoQ2l0YXRpb24oCiAgICB0YWhpcjIwMTZhLCBiYXNpbGkyMDEwYSwgcmVmPSIiLAogICAgY29udGV4dHM9WwoKICAgIF0sCikpCgonJycsIGNpdGF0aW9ucz0nYmFzaWxpMjAxMGEnKTsKc2V0X2F0dHJpYnV0ZSgndGFoaXIyMDE2YScsICdleGNlcnB0JywgJ0NvbnRleHQgU29mdHdhcmUgbWVhc3VyZW1lbnQgcHJvZ3JhbXMgKE1QcykgYXJlIGFuIGltcG9ydGFudCBtZWFucyBmb3IgdW5kZXJzdGFuZGluZywgZXZhbHVhdGluZywgbWFuYWdpbmcsIGFuZCBpbXByb3Zpbmcgc29mdHdhcmUgcHJvY2Vzc2VzLCBwcm9kdWN0cyBhbmQgcmVzb3VyY2VzLiBIb3dldmVyLCBpbXBsZW1lbnRpbmcgc3VjY2Vzc2Z1bCBNUHMgc3RpbGwgcmVtYWlucyBhIGNoYWxsZW5nZS4gT2JqZWN0aXZlcyBUbyBtYWtlIGEgJyk7\"));\n",
       "    "
      ],
      "text/plain": [
       "<IPython.core.display.Javascript object>"
      ]
     },
     "metadata": {},
     "output_type": "display_data"
    },
    {
     "data": {
      "application/javascript": [
       "$('span:contains(\"# Temp\")').closest('.cell').remove();"
      ],
      "text/plain": [
       "<IPython.core.display.Javascript object>"
      ]
     },
     "metadata": {},
     "output_type": "display_data"
    },
    {
     "data": {
      "application/javascript": [
       "\n",
       "        $('span:contains(\"# Temp\")').closest('.cell').remove();\n",
       "        var code = IPython.notebook.insert_cell_below('code');\n",
       "        code.set_text(atob(\"IyBUZW1wCmluc2VydCgnJycKREIoQ2l0YXRpb24oCiAgICB0YWhpcjIwMTZhLCBiYXNpbGkyMDEwYSwgcmVmPSIiLAogICAgY29udGV4dHM9WwoKICAgIF0sCikpCgonJycsIGNpdGF0aW9ucz0nYmFzaWxpMjAxMGEnKTsKc2V0X2F0dHJpYnV0ZSgndGFoaXIyMDE2YScsICdleGNlcnB0JywgJ0NvbnRleHQgU29mdHdhcmUgbWVhc3VyZW1lbnQgcHJvZ3JhbXMgKE1QcykgYXJlIGFuIGltcG9ydGFudCBtZWFucyBmb3IgdW5kZXJzdGFuZGluZywgZXZhbHVhdGluZywgbWFuYWdpbmcsIGFuZCBpbXByb3Zpbmcgc29mdHdhcmUgcHJvY2Vzc2VzLCBwcm9kdWN0cyBhbmQgcmVzb3VyY2VzLiBIb3dldmVyLCBpbXBsZW1lbnRpbmcgc3VjY2Vzc2Z1bCBNUHMgc3RpbGwgcmVtYWlucyBhIGNoYWxsZW5nZS4gT2JqZWN0aXZlcyBUbyBtYWtlIGEgJyk7\"));\n",
       "    "
      ],
      "text/plain": [
       "<IPython.core.display.Javascript object>"
      ]
     },
     "metadata": {},
     "output_type": "display_data"
    },
    {
     "data": {
      "application/javascript": [
       "$('span:contains(\"# Temp\")').closest('.cell').remove();"
      ],
      "text/plain": [
       "<IPython.core.display.Javascript object>"
      ]
     },
     "metadata": {},
     "output_type": "display_data"
    },
    {
     "data": {
      "application/javascript": [
       "\n",
       "        $('span:contains(\"# Temp\")').closest('.cell').remove();\n",
       "        var code = IPython.notebook.insert_cell_below('code');\n",
       "        code.set_text(atob(\"IyBUZW1wCmluc2VydCgnJycK4Wx2YXJlejIwMTVhID0gREIoV29ya1VucmVsYXRlZCgKICAgIDIwMTUsICJBIFNjb3JlY2FyZCBGcmFtZXdvcmsgUHJvcG9zYWwgZm9yIEltcHJvdmluZyBTb2Z0d2FyZSBGYWN0b3JpZXOSIFN1c3RhaW5hYmlsaXR5OiBBIENhc2UgU3R1ZHkgb2YgYSBTcGFuaXNoIEZpcm0gaW4gdGhlIEZpbmFuY2lhbCBTZWN0b3IiLAogICAgZGlzcGxheT0i4Wx2YXJleiIsCiAgICBhdXRob3JzPSLBbHZhcmV6LCBD6XNhciBhbmQgUm9kcu1ndWV6LCBWaWNlbnRlIGFuZCBPcnRlZ2EsIEZyYW5jaXNjbyBhbmQgVmlsbGFudWV2YSwgSm9hcXXtbiIsCiAgICBwbGFjZT1GQUtFLAogICAgcHA9IjE1OTk5LS0xNjAyMSIsCiAgICBlbnRyeXR5cGU9ImFydGljbGUiLAogICAgdm9sdW1lPSI3IiwKICAgIG51bWJlcj0iMTIiLAogICAgcHVibGlzaGVyPSJNdWx0aWRpc2NpcGxpbmFyeSBEaWdpdGFsIFB1Ymxpc2hpbmcgSW5zdGl0dXRlIiwKICAgIElEPSJhbHZhcmV6MjAxNXNjb3JlY2FyZCIsCiAgICBjbHVzdGVyX2lkPSIxMjY0NjgxMDgxNDExNTgwMjIyIiwKICAgIHNjaG9sYXI9Imh0dHA6Ly9zY2hvbGFyLmdvb2dsZS5jb20vc2Nob2xhcj9jaXRlcz0xMjY0NjgxMDgxNDExNTgwMjIyJmFzX3NkdD0yMDA1JnNjaW9kdD0wLDUmaGw9ZW4iLAogICAgcGxhY2V4PSJTdXN0YWluYWJpbGl0eSIsCikpCgpEQihDaXRhdGlvbigKICAgIOFsdmFyZXoyMDE1YSwgYmFzaWxpMjAxMGEsIHJlZj0iIiwKICAgIGNvbnRleHRzPVsKCiAgICBdLAopKQoKJycnLCBjaXRhdGlvbnM9J2Jhc2lsaTIwMTBhJyk7\"));\n",
       "    "
      ],
      "text/plain": [
       "<IPython.core.display.Javascript object>"
      ]
     },
     "metadata": {},
     "output_type": "display_data"
    },
    {
     "data": {
      "application/javascript": [
       "$('span:contains(\"# Temp\")').closest('.cell').remove();"
      ],
      "text/plain": [
       "<IPython.core.display.Javascript object>"
      ]
     },
     "metadata": {},
     "output_type": "display_data"
    },
    {
     "data": {
      "application/javascript": [
       "\n",
       "        $('span:contains(\"# Temp\")').closest('.cell').remove();\n",
       "        var code = IPython.notebook.insert_cell_below('code');\n",
       "        code.set_text(atob(\"IyBUZW1wCmluc2VydCgnJycK4Wx2YXJlejIwMTVhID0gREIoV29ya1VucmVsYXRlZCgKICAgIDIwMTUsICJBIFNjb3JlY2FyZCBGcmFtZXdvcmsgUHJvcG9zYWwgZm9yIEltcHJvdmluZyBTb2Z0d2FyZSBGYWN0b3JpZXOSIFN1c3RhaW5hYmlsaXR5OiBBIENhc2UgU3R1ZHkgb2YgYSBTcGFuaXNoIEZpcm0gaW4gdGhlIEZpbmFuY2lhbCBTZWN0b3IiLAogICAgZGlzcGxheT0i4Wx2YXJleiIsCiAgICBhdXRob3JzPSLBbHZhcmV6LCBD6XNhciBhbmQgUm9kcu1ndWV6LCBWaWNlbnRlIGFuZCBPcnRlZ2EsIEZyYW5jaXNjbyBhbmQgVmlsbGFudWV2YSwgSm9hcXXtbiIsCiAgICBwbGFjZT1GQUtFLAogICAgcHA9IjE1OTk5LS0xNjAyMSIsCiAgICBlbnRyeXR5cGU9ImFydGljbGUiLAogICAgdm9sdW1lPSI3IiwKICAgIG51bWJlcj0iMTIiLAogICAgcHVibGlzaGVyPSJNdWx0aWRpc2NpcGxpbmFyeSBEaWdpdGFsIFB1Ymxpc2hpbmcgSW5zdGl0dXRlIiwKICAgIElEPSJhbHZhcmV6MjAxNXNjb3JlY2FyZCIsCiAgICBjbHVzdGVyX2lkPSIxMjY0NjgxMDgxNDExNTgwMjIyIiwKICAgIHNjaG9sYXI9Imh0dHA6Ly9zY2hvbGFyLmdvb2dsZS5jb20vc2Nob2xhcj9jaXRlcz0xMjY0NjgxMDgxNDExNTgwMjIyJmFzX3NkdD0yMDA1JnNjaW9kdD0wLDUmaGw9ZW4iLAogICAgcGxhY2V4PSJTdXN0YWluYWJpbGl0eSIsCikpCgpEQihDaXRhdGlvbigKICAgIOFsdmFyZXoyMDE1YSwgYmFzaWxpMjAxMGEsIHJlZj0iIiwKICAgIGNvbnRleHRzPVsKCiAgICBdLAopKQoKJycnLCBjaXRhdGlvbnM9J2Jhc2lsaTIwMTBhJyk7\"));\n",
       "    "
      ],
      "text/plain": [
       "<IPython.core.display.Javascript object>"
      ]
     },
     "metadata": {},
     "output_type": "display_data"
    },
    {
     "data": {
      "application/javascript": [
       "$('span:contains(\"# Temp\")').closest('.cell').remove();"
      ],
      "text/plain": [
       "<IPython.core.display.Javascript object>"
      ]
     },
     "metadata": {},
     "output_type": "display_data"
    },
    {
     "data": {
      "application/javascript": [
       "\n",
       "        $('span:contains(\"# Temp\")').closest('.cell').remove();\n",
       "        var code = IPython.notebook.insert_cell_below('code');\n",
       "        code.set_text(atob(\"IyBUZW1wCmluc2VydCgnJycKaGVpZHJpY2gyMDE0YSA9IERCKFdvcmtVbnJlbGF0ZWQoCiAgICAyMDE0LCAiTW9kZWwtYmFzZWQgcXVhbGl0eSBtYW5hZ2VtZW50IG9mIHNvZnR3YXJlIGRldmVsb3BtZW50IHByb2plY3RzIiwKICAgIGRpc3BsYXk9ImhlaWRyaWNoIiwKICAgIGF1dGhvcnM9IkhlaWRyaWNoLCBKZW5zIGFuZCBSb21iYWNoLCBEaWV0ZXIgYW5kIEts5HMsIE1pY2hhZWwiLAogICAgcGxhY2U9RkFLRSwKICAgIHBwPSIxMjUtLTE1NiIsCiAgICBlbnRyeXR5cGU9ImluY29sbGVjdGlvbiIsCiAgICBwdWJsaXNoZXI9IlNwcmluZ2VyIiwKICAgIElEPSJoZWlkcmljaDIwMTRtb2RlbCIsCiAgICBjbHVzdGVyX2lkPSI5MzkwOTc0NDg2NjY3MjU5MjA1IiwKICAgIHNjaG9sYXI9Imh0dHA6Ly9zY2hvbGFyLmdvb2dsZS5jb20vc2Nob2xhcj9jaXRlcz05MzkwOTc0NDg2NjY3MjU5MjA1JmFzX3NkdD0yMDA1JnNjaW9kdD0wLDUmaGw9ZW4iLAogICAgcGxhY2V4PSJTb2Z0d2FyZSBQcm9qZWN0IE1hbmFnZW1lbnQgaW4gYSBDaGFuZ2luZyBXb3JsZCIsCikpCgpEQihDaXRhdGlvbigKICAgIGhlaWRyaWNoMjAxNGEsIGJhc2lsaTIwMTBhLCByZWY9IiIsCiAgICBjb250ZXh0cz1bCgogICAgXSwKKSkKCicnJywgY2l0YXRpb25zPSdiYXNpbGkyMDEwYScpOw==\"));\n",
       "    "
      ],
      "text/plain": [
       "<IPython.core.display.Javascript object>"
      ]
     },
     "metadata": {},
     "output_type": "display_data"
    },
    {
     "data": {
      "application/javascript": [
       "$('span:contains(\"# Temp\")').closest('.cell').remove();"
      ],
      "text/plain": [
       "<IPython.core.display.Javascript object>"
      ]
     },
     "metadata": {},
     "output_type": "display_data"
    },
    {
     "data": {
      "application/javascript": [
       "\n",
       "        $('span:contains(\"# Temp\")').closest('.cell').remove();\n",
       "        var code = IPython.notebook.insert_cell_below('code');\n",
       "        code.set_text(atob(\"IyBUZW1wCmluc2VydCgnJycKaGVpZHJpY2gyMDE0YSA9IERCKFdvcmtVbnJlbGF0ZWQoCiAgICAyMDE0LCAiTW9kZWwtYmFzZWQgcXVhbGl0eSBtYW5hZ2VtZW50IG9mIHNvZnR3YXJlIGRldmVsb3BtZW50IHByb2plY3RzIiwKICAgIGRpc3BsYXk9ImhlaWRyaWNoIiwKICAgIGF1dGhvcnM9IkhlaWRyaWNoLCBKZW5zIGFuZCBSb21iYWNoLCBEaWV0ZXIgYW5kIEts5HMsIE1pY2hhZWwiLAogICAgcGxhY2U9RkFLRSwKICAgIHBwPSIxMjUtLTE1NiIsCiAgICBlbnRyeXR5cGU9ImluY29sbGVjdGlvbiIsCiAgICBwdWJsaXNoZXI9IlNwcmluZ2VyIiwKICAgIElEPSJoZWlkcmljaDIwMTRtb2RlbCIsCiAgICBjbHVzdGVyX2lkPSI5MzkwOTc0NDg2NjY3MjU5MjA1IiwKICAgIHNjaG9sYXI9Imh0dHA6Ly9zY2hvbGFyLmdvb2dsZS5jb20vc2Nob2xhcj9jaXRlcz05MzkwOTc0NDg2NjY3MjU5MjA1JmFzX3NkdD0yMDA1JnNjaW9kdD0wLDUmaGw9ZW4iLAogICAgcGxhY2V4PSJTb2Z0d2FyZSBQcm9qZWN0IE1hbmFnZW1lbnQgaW4gYSBDaGFuZ2luZyBXb3JsZCIsCikpCgpEQihDaXRhdGlvbigKICAgIGhlaWRyaWNoMjAxNGEsIGJhc2lsaTIwMTBhLCByZWY9IiIsCiAgICBjb250ZXh0cz1bCgogICAgXSwKKSkKCicnJywgY2l0YXRpb25zPSdiYXNpbGkyMDEwYScpOw==\"));\n",
       "    "
      ],
      "text/plain": [
       "<IPython.core.display.Javascript object>"
      ]
     },
     "metadata": {},
     "output_type": "display_data"
    },
    {
     "data": {
      "application/javascript": [
       "$('span:contains(\"# Temp\")').closest('.cell').remove();"
      ],
      "text/plain": [
       "<IPython.core.display.Javascript object>"
      ]
     },
     "metadata": {},
     "output_type": "display_data"
    },
    {
     "data": {
      "application/javascript": [
       "\n",
       "        $('span:contains(\"# Temp\")').closest('.cell').remove();\n",
       "        var code = IPython.notebook.insert_cell_below('code');\n",
       "        code.set_text(atob(\"IyBUZW1wCmluc2VydCgnJycKbXVycGh5MjAxNWEgPSBEQihXb3JrVW5yZWxhdGVkKAogICAgMjAxNSwgIlRvd2FyZHMgaG9saXN0aWMgZ29hbCBjZW50ZXJlZCBwZXJmb3JtYW5jZSBtYW5hZ2VtZW50IGluIHNvZnR3YXJlIGRldmVsb3BtZW50OiBsZXNzb25zIGZyb20gYSBiZXN0IHByYWN0aWNlIGFuYWx5c2lzIiwKICAgIGRpc3BsYXk9Im11cnBoeSIsCiAgICBhdXRob3JzPSJNdXJwaHksIFRob21hcyBhbmQgQ29ybWljYW4sIEthdGhyeW4iLAogICAgcGxhY2U9RkFLRSwKICAgIGVudHJ5dHlwZT0iYXJ0aWNsZSIsCiAgICBwdWJsaXNoZXI9IlNjaUtBIiwKICAgIElEPSJtdXJwaHkyMDE1dG93YXJkcyIsCiAgICBjbHVzdGVyX2lkPSIxMDc4NTM3MTY2MjY5NzgwNzUxOSIsCiAgICBzY2hvbGFyPSJodHRwOi8vc2Nob2xhci5nb29nbGUuY29tL3NjaG9sYXI/Y2l0ZXM9MTA3ODUzNzE2NjI2OTc4MDc1MTkmYXNfc2R0PTIwMDUmc2Npb2R0PTAsNSZobD1lbiIsCiAgICBwbGFjZXg9IkludGVybmF0aW9uYWwgSm91cm5hbCBvZiBJbmZvcm1hdGlvbiBTeXN0ZW1zIGFuZCBQcm9qZWN0IE1hbmFnZW1lbnQiLAopKQoKREIoQ2l0YXRpb24oCiAgICBtdXJwaHkyMDE1YSwgYmFzaWxpMjAxMGEsIHJlZj0iIiwKICAgIGNvbnRleHRzPVsKCiAgICBdLAopKQoKJycnLCBjaXRhdGlvbnM9J2Jhc2lsaTIwMTBhJyk7\"));\n",
       "    "
      ],
      "text/plain": [
       "<IPython.core.display.Javascript object>"
      ]
     },
     "metadata": {},
     "output_type": "display_data"
    },
    {
     "data": {
      "application/javascript": [
       "$('span:contains(\"# Temp\")').closest('.cell').remove();"
      ],
      "text/plain": [
       "<IPython.core.display.Javascript object>"
      ]
     },
     "metadata": {},
     "output_type": "display_data"
    },
    {
     "data": {
      "application/javascript": [
       "\n",
       "        $('span:contains(\"# Temp\")').closest('.cell').remove();\n",
       "        var code = IPython.notebook.insert_cell_below('code');\n",
       "        code.set_text(atob(\"IyBUZW1wCmluc2VydCgnJycKbXVycGh5MjAxNWEgPSBEQihXb3JrVW5yZWxhdGVkKAogICAgMjAxNSwgIlRvd2FyZHMgaG9saXN0aWMgZ29hbCBjZW50ZXJlZCBwZXJmb3JtYW5jZSBtYW5hZ2VtZW50IGluIHNvZnR3YXJlIGRldmVsb3BtZW50OiBsZXNzb25zIGZyb20gYSBiZXN0IHByYWN0aWNlIGFuYWx5c2lzIiwKICAgIGRpc3BsYXk9Im11cnBoeSIsCiAgICBhdXRob3JzPSJNdXJwaHksIFRob21hcyBhbmQgQ29ybWljYW4sIEthdGhyeW4iLAogICAgcGxhY2U9RkFLRSwKICAgIGVudHJ5dHlwZT0iYXJ0aWNsZSIsCiAgICBwdWJsaXNoZXI9IlNjaUtBIiwKICAgIElEPSJtdXJwaHkyMDE1dG93YXJkcyIsCiAgICBjbHVzdGVyX2lkPSIxMDc4NTM3MTY2MjY5NzgwNzUxOSIsCiAgICBzY2hvbGFyPSJodHRwOi8vc2Nob2xhci5nb29nbGUuY29tL3NjaG9sYXI/Y2l0ZXM9MTA3ODUzNzE2NjI2OTc4MDc1MTkmYXNfc2R0PTIwMDUmc2Npb2R0PTAsNSZobD1lbiIsCiAgICBwbGFjZXg9IkludGVybmF0aW9uYWwgSm91cm5hbCBvZiBJbmZvcm1hdGlvbiBTeXN0ZW1zIGFuZCBQcm9qZWN0IE1hbmFnZW1lbnQiLAopKQoKREIoQ2l0YXRpb24oCiAgICBtdXJwaHkyMDE1YSwgYmFzaWxpMjAxMGEsIHJlZj0iIiwKICAgIGNvbnRleHRzPVsKCiAgICBdLAopKQoKJycnLCBjaXRhdGlvbnM9J2Jhc2lsaTIwMTBhJyk7\"));\n",
       "    "
      ],
      "text/plain": [
       "<IPython.core.display.Javascript object>"
      ]
     },
     "metadata": {},
     "output_type": "display_data"
    },
    {
     "data": {
      "application/javascript": [
       "$('span:contains(\"# Temp\")').closest('.cell').remove();"
      ],
      "text/plain": [
       "<IPython.core.display.Javascript object>"
      ]
     },
     "metadata": {},
     "output_type": "display_data"
    },
    {
     "data": {
      "application/javascript": [
       "\n",
       "        $('span:contains(\"# Temp\")').closest('.cell').remove();\n",
       "        var code = IPython.notebook.insert_cell_below('code');\n",
       "        code.set_text(atob(\"IyBUZW1wCmluc2VydCgnJycKZXJlbWVua28yMDEyYSA9IERCKFdvcmtVbnJlbGF0ZWQoCiAgICAyMDEyLCAiU29mdHdhcmUgb2YgSW5mb3JtYXRpb24tTWVhc3VyZW1lbnQgU3lzdGVtIGZvciBTdGFuZGFyZGxlc3MgRGlhZ25vc3RpYyBvZiBDb21wb3NpdGUgTWF0ZXJpYWxzIiwKICAgIGRpc3BsYXk9ImVyZW1lbmtvIiwKICAgIGF1dGhvcnM9IkVyZW1lbmtvLCBWUyBhbmQgUGVyZWlkZW5rbywgQVYiLAogICAgcGxhY2U9RVNFLAogICAgcHA9IjY1LS03NiIsCiAgICBlbnRyeXR5cGU9ImFydGljbGUiLAogICAgdm9sdW1lPSIyIiwKICAgIG51bWJlcj0iMyIsCiAgICBwdWJsaXNoZXI9IlNjaWVudGlmaWMgJiBBY2FkZW1pYyBQdWJsaXNoaW5nIiwKICAgIElEPSJlcmVtZW5rbzIwMTJzb2Z0d2FyZSIsCiAgICBjbHVzdGVyX2lkPSI5MjQxNjQ0MDk3Njc3Njg5MzQ1IiwKICAgIHNjaG9sYXI9Imh0dHA6Ly9zY2hvbGFyLmdvb2dsZS5jb20vc2Nob2xhcj9jaXRlcz05MjQxNjQ0MDk3Njc3Njg5MzQ1JmFzX3NkdD0yMDA1JnNjaW9kdD0wLDUmaGw9ZW4iLAogICAgcGxhY2V4PSJTb2Z0d2FyZSBFbmdpbmVlcmluZyIsCikpCgpEQihDaXRhdGlvbigKICAgIGVyZW1lbmtvMjAxMmEsIGJhc2lsaTIwMTBhLCByZWY9IiIsCiAgICBjb250ZXh0cz1bCgogICAgXSwKKSkKCicnJywgY2l0YXRpb25zPSdiYXNpbGkyMDEwYScpOw==\"));\n",
       "    "
      ],
      "text/plain": [
       "<IPython.core.display.Javascript object>"
      ]
     },
     "metadata": {},
     "output_type": "display_data"
    },
    {
     "data": {
      "application/javascript": [
       "$('span:contains(\"# Temp\")').closest('.cell').remove();"
      ],
      "text/plain": [
       "<IPython.core.display.Javascript object>"
      ]
     },
     "metadata": {},
     "output_type": "display_data"
    },
    {
     "data": {
      "application/javascript": [
       "\n",
       "        $('span:contains(\"# Temp\")').closest('.cell').remove();\n",
       "        var code = IPython.notebook.insert_cell_below('code');\n",
       "        code.set_text(atob(\"IyBUZW1wCmluc2VydCgnJycKZXJlbWVua28yMDEyYSA9IERCKFdvcmtVbnJlbGF0ZWQoCiAgICAyMDEyLCAiU29mdHdhcmUgb2YgSW5mb3JtYXRpb24tTWVhc3VyZW1lbnQgU3lzdGVtIGZvciBTdGFuZGFyZGxlc3MgRGlhZ25vc3RpYyBvZiBDb21wb3NpdGUgTWF0ZXJpYWxzIiwKICAgIGRpc3BsYXk9ImVyZW1lbmtvIiwKICAgIGF1dGhvcnM9IkVyZW1lbmtvLCBWUyBhbmQgUGVyZWlkZW5rbywgQVYiLAogICAgcGxhY2U9RVNFLAogICAgcHA9IjY1LS03NiIsCiAgICBlbnRyeXR5cGU9ImFydGljbGUiLAogICAgdm9sdW1lPSIyIiwKICAgIG51bWJlcj0iMyIsCiAgICBwdWJsaXNoZXI9IlNjaWVudGlmaWMgJiBBY2FkZW1pYyBQdWJsaXNoaW5nIiwKICAgIElEPSJlcmVtZW5rbzIwMTJzb2Z0d2FyZSIsCiAgICBjbHVzdGVyX2lkPSI5MjQxNjQ0MDk3Njc3Njg5MzQ1IiwKICAgIHNjaG9sYXI9Imh0dHA6Ly9zY2hvbGFyLmdvb2dsZS5jb20vc2Nob2xhcj9jaXRlcz05MjQxNjQ0MDk3Njc3Njg5MzQ1JmFzX3NkdD0yMDA1JnNjaW9kdD0wLDUmaGw9ZW4iLAogICAgcGxhY2V4PSJTb2Z0d2FyZSBFbmdpbmVlcmluZyIsCikpCgpEQihDaXRhdGlvbigKICAgIGVyZW1lbmtvMjAxMmEsIGJhc2lsaTIwMTBhLCByZWY9IiIsCiAgICBjb250ZXh0cz1bCgogICAgXSwKKSkKCicnJywgY2l0YXRpb25zPSdiYXNpbGkyMDEwYScpOw==\"));\n",
       "    "
      ],
      "text/plain": [
       "<IPython.core.display.Javascript object>"
      ]
     },
     "metadata": {},
     "output_type": "display_data"
    },
    {
     "data": {
      "application/javascript": [
       "$('span:contains(\"# Temp\")').closest('.cell').remove();"
      ],
      "text/plain": [
       "<IPython.core.display.Javascript object>"
      ]
     },
     "metadata": {},
     "output_type": "display_data"
    },
    {
     "data": {
      "application/javascript": [
       "\n",
       "        $('span:contains(\"# Temp\")').closest('.cell').remove();\n",
       "        var code = IPython.notebook.insert_cell_below('code');\n",
       "        code.set_text(atob(\"IyBUZW1wCmluc2VydCgnJycKY2VkZXJncmVuMjAxNGEgPSBEQihXb3JrVW5yZWxhdGVkKAogICAgMjAxNCwgIkV2YWx1YXRpbmcgcGVyZm9ybWFuY2UgaW4gdGhlIGRldmVsb3BtZW50IG9mIHNvZnR3YXJlLWludGVuc2l2ZSBwcm9kdWN0cyIsCiAgICBkaXNwbGF5PSJjZWRlcmdyZW4iLAogICAgYXV0aG9ycz0iQ2VkZXJncmVuLCBTdGVmYW4gYW5kIExhcnNzb24sIFN0aWciLAogICAgcGxhY2U9SVNULAogICAgcHA9IjUxNi0tNTI2IiwKICAgIGVudHJ5dHlwZT0iYXJ0aWNsZSIsCiAgICB2b2x1bWU9IjU2IiwKICAgIG51bWJlcj0iNSIsCiAgICBwdWJsaXNoZXI9IkVsc2V2aWVyIiwKICAgIElEPSJjZWRlcmdyZW4yMDE0ZXZhbHVhdGluZyIsCiAgICBjbHVzdGVyX2lkPSIxNzM3ODk5NTg5MjU2Njk3ODE1IiwKICAgIHNjaG9sYXI9Imh0dHA6Ly9zY2hvbGFyLmdvb2dsZS5jb20vc2Nob2xhcj9jaXRlcz0xNzM3ODk5NTg5MjU2Njk3ODE1JmFzX3NkdD0yMDA1JnNjaW9kdD0wLDUmaGw9ZW4iLAogICAgcGxhY2V4PSJJbmZvcm1hdGlvbiBhbmQgU29mdHdhcmUgVGVjaG5vbG9neSIsCikpCgpEQihDaXRhdGlvbigKICAgIGNlZGVyZ3JlbjIwMTRhLCBiYXNpbGkyMDEwYSwgcmVmPSIiLAogICAgY29udGV4dHM9WwoKICAgIF0sCikpCgonJycsIGNpdGF0aW9ucz0nYmFzaWxpMjAxMGEnKTs=\"));\n",
       "    "
      ],
      "text/plain": [
       "<IPython.core.display.Javascript object>"
      ]
     },
     "metadata": {},
     "output_type": "display_data"
    },
    {
     "data": {
      "application/javascript": [
       "$('span:contains(\"# Temp\")').closest('.cell').remove();"
      ],
      "text/plain": [
       "<IPython.core.display.Javascript object>"
      ]
     },
     "metadata": {},
     "output_type": "display_data"
    },
    {
     "data": {
      "application/javascript": [
       "\n",
       "        $('span:contains(\"# Temp\")').closest('.cell').remove();\n",
       "        var code = IPython.notebook.insert_cell_below('code');\n",
       "        code.set_text(atob(\"IyBUZW1wCmluc2VydCgnJycKY2VkZXJncmVuMjAxNGEgPSBEQihXb3JrVW5yZWxhdGVkKAogICAgMjAxNCwgIkV2YWx1YXRpbmcgcGVyZm9ybWFuY2UgaW4gdGhlIGRldmVsb3BtZW50IG9mIHNvZnR3YXJlLWludGVuc2l2ZSBwcm9kdWN0cyIsCiAgICBkaXNwbGF5PSJjZWRlcmdyZW4iLAogICAgYXV0aG9ycz0iQ2VkZXJncmVuLCBTdGVmYW4gYW5kIExhcnNzb24sIFN0aWciLAogICAgcGxhY2U9SVNULAogICAgcHA9IjUxNi0tNTI2IiwKICAgIGVudHJ5dHlwZT0iYXJ0aWNsZSIsCiAgICB2b2x1bWU9IjU2IiwKICAgIG51bWJlcj0iNSIsCiAgICBwdWJsaXNoZXI9IkVsc2V2aWVyIiwKICAgIElEPSJjZWRlcmdyZW4yMDE0ZXZhbHVhdGluZyIsCiAgICBjbHVzdGVyX2lkPSIxNzM3ODk5NTg5MjU2Njk3ODE1IiwKICAgIHNjaG9sYXI9Imh0dHA6Ly9zY2hvbGFyLmdvb2dsZS5jb20vc2Nob2xhcj9jaXRlcz0xNzM3ODk5NTg5MjU2Njk3ODE1JmFzX3NkdD0yMDA1JnNjaW9kdD0wLDUmaGw9ZW4iLAogICAgcGxhY2V4PSJJbmZvcm1hdGlvbiBhbmQgU29mdHdhcmUgVGVjaG5vbG9neSIsCikpCgpEQihDaXRhdGlvbigKICAgIGNlZGVyZ3JlbjIwMTRhLCBiYXNpbGkyMDEwYSwgcmVmPSIiLAogICAgY29udGV4dHM9WwoKICAgIF0sCikpCgonJycsIGNpdGF0aW9ucz0nYmFzaWxpMjAxMGEnKTs=\"));\n",
       "    "
      ],
      "text/plain": [
       "<IPython.core.display.Javascript object>"
      ]
     },
     "metadata": {},
     "output_type": "display_data"
    },
    {
     "data": {
      "application/javascript": [
       "$('span:contains(\"# Temp\")').closest('.cell').remove();"
      ],
      "text/plain": [
       "<IPython.core.display.Javascript object>"
      ]
     },
     "metadata": {},
     "output_type": "display_data"
    },
    {
     "data": {
      "application/javascript": [
       "\n",
       "        $('span:contains(\"# Temp\")').closest('.cell').remove();\n",
       "        var code = IPython.notebook.insert_cell_below('code');\n",
       "        code.set_text(atob(\"IyBUZW1wCmluc2VydCgnJycKREIoQ2l0YXRpb24oCiAgICBhb2tpMjAxNmEsIGJhc2lsaTIwMTBhLCByZWY9IiIsCiAgICBjb250ZXh0cz1bCgogICAgXSwKKSkKCicnJywgY2l0YXRpb25zPSdiYXNpbGkyMDEwYScpOwpzZXRfYXR0cmlidXRlKCdhb2tpMjAxNmEnLCAnZXhjZXJwdCcsICdUbyBhY2hpZXZlIHRoZSBidXNpbmVzcyBvYmplY3RpdmVzIG9mIGFuIG9yZ2FuaXphdGlvbiwgdGhlIGJ1c2luZXNzIGdvYWxzIGFuZCBzdHJhdGVnaWVzIG11c3QgYWxpZ24uIEdRTSsgU3RyYXRlZ2llc64gaXMgYSBtZXRob2QgdGhhdCBhbGlnbnMgZ29hbHMgYW5kIHN0cmF0ZWdpZXMuIEJ5IHJlcGVhdGVkbHkgZGVmaW5pbmcgbG93ZXItbGV2ZWwgZ29hbHMgYW5kIHN0cmF0ZWdpZXMsIEdRTSsgU3RyYXRlZ2llcyBjcmVhdGVzIGdyaWRzLCB3aGljaCBhcmUgJyk7\"));\n",
       "    "
      ],
      "text/plain": [
       "<IPython.core.display.Javascript object>"
      ]
     },
     "metadata": {},
     "output_type": "display_data"
    },
    {
     "data": {
      "application/javascript": [
       "$('span:contains(\"# Temp\")').closest('.cell').remove();"
      ],
      "text/plain": [
       "<IPython.core.display.Javascript object>"
      ]
     },
     "metadata": {},
     "output_type": "display_data"
    },
    {
     "data": {
      "application/javascript": [
       "\n",
       "        $('span:contains(\"# Temp\")').closest('.cell').remove();\n",
       "        var code = IPython.notebook.insert_cell_below('code');\n",
       "        code.set_text(atob(\"IyBUZW1wCmluc2VydCgnJycKREIoQ2l0YXRpb24oCiAgICBhb2tpMjAxNmEsIGJhc2lsaTIwMTBhLCByZWY9IiIsCiAgICBjb250ZXh0cz1bCgogICAgXSwKKSkKCicnJywgY2l0YXRpb25zPSdiYXNpbGkyMDEwYScpOwpzZXRfYXR0cmlidXRlKCdhb2tpMjAxNmEnLCAnZXhjZXJwdCcsICdUbyBhY2hpZXZlIHRoZSBidXNpbmVzcyBvYmplY3RpdmVzIG9mIGFuIG9yZ2FuaXphdGlvbiwgdGhlIGJ1c2luZXNzIGdvYWxzIGFuZCBzdHJhdGVnaWVzIG11c3QgYWxpZ24uIEdRTSsgU3RyYXRlZ2llc64gaXMgYSBtZXRob2QgdGhhdCBhbGlnbnMgZ29hbHMgYW5kIHN0cmF0ZWdpZXMuIEJ5IHJlcGVhdGVkbHkgZGVmaW5pbmcgbG93ZXItbGV2ZWwgZ29hbHMgYW5kIHN0cmF0ZWdpZXMsIEdRTSsgU3RyYXRlZ2llcyBjcmVhdGVzIGdyaWRzLCB3aGljaCBhcmUgJyk7\"));\n",
       "    "
      ],
      "text/plain": [
       "<IPython.core.display.Javascript object>"
      ]
     },
     "metadata": {},
     "output_type": "display_data"
    },
    {
     "data": {
      "application/javascript": [
       "$('span:contains(\"# Temp\")').closest('.cell').remove();"
      ],
      "text/plain": [
       "<IPython.core.display.Javascript object>"
      ]
     },
     "metadata": {},
     "output_type": "display_data"
    },
    {
     "data": {
      "application/javascript": [
       "\n",
       "        $('span:contains(\"# Temp\")').closest('.cell').remove();\n",
       "        var code = IPython.notebook.insert_cell_below('code');\n",
       "        code.set_text(atob(\"IyBUZW1wCmluc2VydCgnJycKamVkbGl0c2Noa2EyMDEzYSA9IERCKFdvcmtVbnJlbGF0ZWQoCiAgICAyMDEzLCAiRW1waXJpY2FsIHByYWN0aWNlIGluIHNvZnR3YXJlIGVuZ2luZWVyaW5nIiwKICAgIGRpc3BsYXk9ImplZGxpdHNjaGthIiwKICAgIGF1dGhvcnM9IkplZGxpdHNjaGthLCBBbmRyZWFzIGFuZCBHdXpt4W4sIExpbGlhbmEgYW5kIEp1bmcsIEplc3NpY2EgYW5kIExhbXBhc29uYSwgQ29uc3RhbnphIGFuZCBTdGVpbmJhY2gsIFNpbGtlIiwKICAgIHBsYWNlPUZBS0UsCiAgICBwcD0iMjE3LS0yMzMiLAogICAgZW50cnl0eXBlPSJpbmNvbGxlY3Rpb24iLAogICAgcHVibGlzaGVyPSJTcHJpbmdlciIsCiAgICBJRD0iamVkbGl0c2Noa2EyMDEzZW1waXJpY2FsIiwKICAgIGNsdXN0ZXJfaWQ9IjgzNjI0NjE3NzMzOTE1NjcyMyIsCiAgICBzY2hvbGFyPSJodHRwOi8vc2Nob2xhci5nb29nbGUuY29tL3NjaG9sYXI/Y2l0ZXM9ODM2MjQ2MTc3MzM5MTU2NzIzJmFzX3NkdD0yMDA1JnNjaW9kdD0wLDUmaGw9ZW4iLAogICAgcGxhY2V4PSJQZXJzcGVjdGl2ZXMgb24gdGhlIEZ1dHVyZSBvZiBTb2Z0d2FyZSBFbmdpbmVlcmluZyIsCikpCgpEQihDaXRhdGlvbigKICAgIGplZGxpdHNjaGthMjAxM2EsIGJhc2lsaTIwMTBhLCByZWY9IiIsCiAgICBjb250ZXh0cz1bCgogICAgXSwKKSkKCicnJywgY2l0YXRpb25zPSdiYXNpbGkyMDEwYScpOw==\"));\n",
       "    "
      ],
      "text/plain": [
       "<IPython.core.display.Javascript object>"
      ]
     },
     "metadata": {},
     "output_type": "display_data"
    },
    {
     "data": {
      "application/javascript": [
       "$('span:contains(\"# Temp\")').closest('.cell').remove();"
      ],
      "text/plain": [
       "<IPython.core.display.Javascript object>"
      ]
     },
     "metadata": {},
     "output_type": "display_data"
    },
    {
     "data": {
      "application/javascript": [
       "\n",
       "        $('span:contains(\"# Temp\")').closest('.cell').remove();\n",
       "        var code = IPython.notebook.insert_cell_below('code');\n",
       "        code.set_text(atob(\"IyBUZW1wCmluc2VydCgnJycKamVkbGl0c2Noa2EyMDEzYSA9IERCKFdvcmtVbnJlbGF0ZWQoCiAgICAyMDEzLCAiRW1waXJpY2FsIHByYWN0aWNlIGluIHNvZnR3YXJlIGVuZ2luZWVyaW5nIiwKICAgIGRpc3BsYXk9ImplZGxpdHNjaGthIiwKICAgIGF1dGhvcnM9IkplZGxpdHNjaGthLCBBbmRyZWFzIGFuZCBHdXpt4W4sIExpbGlhbmEgYW5kIEp1bmcsIEplc3NpY2EgYW5kIExhbXBhc29uYSwgQ29uc3RhbnphIGFuZCBTdGVpbmJhY2gsIFNpbGtlIiwKICAgIHBsYWNlPUZBS0UsCiAgICBwcD0iMjE3LS0yMzMiLAogICAgZW50cnl0eXBlPSJpbmNvbGxlY3Rpb24iLAogICAgcHVibGlzaGVyPSJTcHJpbmdlciIsCiAgICBJRD0iamVkbGl0c2Noa2EyMDEzZW1waXJpY2FsIiwKICAgIGNsdXN0ZXJfaWQ9IjgzNjI0NjE3NzMzOTE1NjcyMyIsCiAgICBzY2hvbGFyPSJodHRwOi8vc2Nob2xhci5nb29nbGUuY29tL3NjaG9sYXI/Y2l0ZXM9ODM2MjQ2MTc3MzM5MTU2NzIzJmFzX3NkdD0yMDA1JnNjaW9kdD0wLDUmaGw9ZW4iLAogICAgcGxhY2V4PSJQZXJzcGVjdGl2ZXMgb24gdGhlIEZ1dHVyZSBvZiBTb2Z0d2FyZSBFbmdpbmVlcmluZyIsCikpCgpEQihDaXRhdGlvbigKICAgIGplZGxpdHNjaGthMjAxM2EsIGJhc2lsaTIwMTBhLCByZWY9IiIsCiAgICBjb250ZXh0cz1bCgogICAgXSwKKSkKCicnJywgY2l0YXRpb25zPSdiYXNpbGkyMDEwYScpOw==\"));\n",
       "    "
      ],
      "text/plain": [
       "<IPython.core.display.Javascript object>"
      ]
     },
     "metadata": {},
     "output_type": "display_data"
    },
    {
     "data": {
      "application/javascript": [
       "$('span:contains(\"# Temp\")').closest('.cell').remove();"
      ],
      "text/plain": [
       "<IPython.core.display.Javascript object>"
      ]
     },
     "metadata": {},
     "output_type": "display_data"
    },
    {
     "data": {
      "application/javascript": [
       "\n",
       "        $('span:contains(\"# Temp\")').closest('.cell').remove();\n",
       "        var code = IPython.notebook.insert_cell_below('code');\n",
       "        code.set_text(atob(\"IyBUZW1wCmluc2VydCgnJycKbWFuZGljMjAxMGIgPSBEQihXb3JrVW5yZWxhdGVkKAogICAgMjAxMCwgIkFuIGFwcHJvYWNoIGZvciBldmFsdWF0aW5nIGJ1c2luZXNzIGdvYWxzIiwKICAgIGRpc3BsYXk9Im1hbmRpYyBiIiwKICAgIGF1dGhvcnM9Ik1hbmRpYywgVmxhZGltaXIgYW5kIEJhc2lsaSwgVmljdG9yIiwKICAgIHBsYWNlPVRlY2hSZXBvcnQsCiAgICBlbnRyeXR5cGU9InRlY2hyZXBvcnQiLAogICAgaW5zdGl0dXRpb249IlRlY2huaWNhbCByZXBvcnQsIFRlY2huaWNhbCBSZXBvcnQgVFIgVFItVE9MLTIwMTAtMjgwMiwgVW5pdmVyc2l0eSBvZiBPdWx1LCBEZXBhcnRtZW50IG9mIEluZm9ybWF0aW9uIFByb2Nlc3NpbmcgU2NpZW5jZSIsCiAgICBJRD0ibWFuZGljMjAxMGFwcHJvYWNoIiwKICAgIGNsdXN0ZXJfaWQ9IjE5MDY0NzY0MTQ2ODE0NjIyODAiLAogICAgc2Nob2xhcj0iaHR0cDovL3NjaG9sYXIuZ29vZ2xlLmNvbS9zY2hvbGFyP2NpdGVzPTE5MDY0NzY0MTQ2ODE0NjIyODAmYXNfc2R0PTIwMDUmc2Npb2R0PTAsNSZobD1lbiIsCiAgICBwbGFjZXg9IiIsCikpCgpEQihDaXRhdGlvbigKICAgIG1hbmRpYzIwMTBiLCBiYXNpbGkyMDEwYSwgcmVmPSIiLAogICAgY29udGV4dHM9WwoKICAgIF0sCikpCgonJycsIGNpdGF0aW9ucz0nYmFzaWxpMjAxMGEnKTs=\"));\n",
       "    "
      ],
      "text/plain": [
       "<IPython.core.display.Javascript object>"
      ]
     },
     "metadata": {},
     "output_type": "display_data"
    },
    {
     "data": {
      "application/javascript": [
       "$('span:contains(\"# Temp\")').closest('.cell').remove();"
      ],
      "text/plain": [
       "<IPython.core.display.Javascript object>"
      ]
     },
     "metadata": {},
     "output_type": "display_data"
    },
    {
     "data": {
      "application/javascript": [
       "\n",
       "        $('span:contains(\"# Temp\")').closest('.cell').remove();\n",
       "        var code = IPython.notebook.insert_cell_below('code');\n",
       "        code.set_text(atob(\"IyBUZW1wCmluc2VydCgnJycKbWFuZGljMjAxMGIgPSBEQihXb3JrVW5yZWxhdGVkKAogICAgMjAxMCwgIkFuIGFwcHJvYWNoIGZvciBldmFsdWF0aW5nIGJ1c2luZXNzIGdvYWxzIiwKICAgIGRpc3BsYXk9Im1hbmRpYyBiIiwKICAgIGF1dGhvcnM9Ik1hbmRpYywgVmxhZGltaXIgYW5kIEJhc2lsaSwgVmljdG9yIiwKICAgIHBsYWNlPVRlY2hSZXBvcnQsCiAgICBlbnRyeXR5cGU9InRlY2hyZXBvcnQiLAogICAgaW5zdGl0dXRpb249IlRlY2huaWNhbCByZXBvcnQsIFRlY2huaWNhbCBSZXBvcnQgVFIgVFItVE9MLTIwMTAtMjgwMiwgVW5pdmVyc2l0eSBvZiBPdWx1LCBEZXBhcnRtZW50IG9mIEluZm9ybWF0aW9uIFByb2Nlc3NpbmcgU2NpZW5jZSIsCiAgICBJRD0ibWFuZGljMjAxMGFwcHJvYWNoIiwKICAgIGNsdXN0ZXJfaWQ9IjE5MDY0NzY0MTQ2ODE0NjIyODAiLAogICAgc2Nob2xhcj0iaHR0cDovL3NjaG9sYXIuZ29vZ2xlLmNvbS9zY2hvbGFyP2NpdGVzPTE5MDY0NzY0MTQ2ODE0NjIyODAmYXNfc2R0PTIwMDUmc2Npb2R0PTAsNSZobD1lbiIsCiAgICBwbGFjZXg9IiIsCikpCgpEQihDaXRhdGlvbigKICAgIG1hbmRpYzIwMTBiLCBiYXNpbGkyMDEwYSwgcmVmPSIiLAogICAgY29udGV4dHM9WwoKICAgIF0sCikpCgonJycsIGNpdGF0aW9ucz0nYmFzaWxpMjAxMGEnKTs=\"));\n",
       "    "
      ],
      "text/plain": [
       "<IPython.core.display.Javascript object>"
      ]
     },
     "metadata": {},
     "output_type": "display_data"
    },
    {
     "data": {
      "application/javascript": [
       "$('span:contains(\"# Temp\")').closest('.cell').remove();"
      ],
      "text/plain": [
       "<IPython.core.display.Javascript object>"
      ]
     },
     "metadata": {},
     "output_type": "display_data"
    },
    {
     "data": {
      "application/javascript": [
       "\n",
       "        $('span:contains(\"# Temp\")').closest('.cell').remove();\n",
       "        var code = IPython.notebook.insert_cell_below('code');\n",
       "        code.set_text(atob(\"IyBUZW1wCmluc2VydCgnJycKdW50ZXJrYWxtc3RlaW5lcjIwMTRhID0gREIoV29ya1VucmVsYXRlZCgKICAgIDIwMTQsICJBIGNvbmNlcHR1YWwgZnJhbWV3b3JrIGZvciBTUEkgZXZhbHVhdGlvbiIsCiAgICBkaXNwbGF5PSJ1bnRlcmthbG1zdGVpbmVyIiwKICAgIGF1dGhvcnM9IlVudGVya2FsbXN0ZWluZXIsIE1pY2hhZWwgYW5kIEdvcnNjaGVrLCBUb255IGFuZCBJc2xhbSwgQUtNIGFuZCBDaGVuZywgQ2hvdyBLaWFuIGFuZCBQZXJtYWRpLCBSYWhhZGlhbiBCYXl1IGFuZCBGZWxkdCwgUm9iZXJ0IiwKICAgIHBsYWNlPUpTRVAsCiAgICBwcD0iMjUxLS0yNzkiLAogICAgZW50cnl0eXBlPSJhcnRpY2xlIiwKICAgIHZvbHVtZT0iMjYiLAogICAgbnVtYmVyPSIyIiwKICAgIHB1Ymxpc2hlcj0iV2lsZXkgT25saW5lIExpYnJhcnkiLAogICAgSUQ9InVudGVya2FsbXN0ZWluZXIyMDE0Y29uY2VwdHVhbCIsCiAgICBjbHVzdGVyX2lkPSIzOTkyNTgxMTAyMTk1MjcwNTMyIiwKICAgIHNjaG9sYXI9Imh0dHA6Ly9zY2hvbGFyLmdvb2dsZS5jb20vc2Nob2xhcj9jaXRlcz0zOTkyNTgxMTAyMTk1MjcwNTMyJmFzX3NkdD0yMDA1JnNjaW9kdD0wLDUmaGw9ZW4iLAogICAgcGxhY2V4PSJKb3VybmFsIG9mIFNvZnR3YXJlOiBFdm9sdXRpb24gYW5kIFByb2Nlc3MiLAopKQoKREIoQ2l0YXRpb24oCiAgICB1bnRlcmthbG1zdGVpbmVyMjAxNGEsIGJhc2lsaTIwMTBhLCByZWY9IiIsCiAgICBjb250ZXh0cz1bCgogICAgXSwKKSkKCicnJywgY2l0YXRpb25zPSdiYXNpbGkyMDEwYScpOw==\"));\n",
       "    "
      ],
      "text/plain": [
       "<IPython.core.display.Javascript object>"
      ]
     },
     "metadata": {},
     "output_type": "display_data"
    },
    {
     "data": {
      "application/javascript": [
       "$('span:contains(\"# Temp\")').closest('.cell').remove();"
      ],
      "text/plain": [
       "<IPython.core.display.Javascript object>"
      ]
     },
     "metadata": {},
     "output_type": "display_data"
    },
    {
     "data": {
      "application/javascript": [
       "\n",
       "        $('span:contains(\"# Temp\")').closest('.cell').remove();\n",
       "        var code = IPython.notebook.insert_cell_below('code');\n",
       "        code.set_text(atob(\"IyBUZW1wCmluc2VydCgnJycKdW50ZXJrYWxtc3RlaW5lcjIwMTRhID0gREIoV29ya1VucmVsYXRlZCgKICAgIDIwMTQsICJBIGNvbmNlcHR1YWwgZnJhbWV3b3JrIGZvciBTUEkgZXZhbHVhdGlvbiIsCiAgICBkaXNwbGF5PSJ1bnRlcmthbG1zdGVpbmVyIiwKICAgIGF1dGhvcnM9IlVudGVya2FsbXN0ZWluZXIsIE1pY2hhZWwgYW5kIEdvcnNjaGVrLCBUb255IGFuZCBJc2xhbSwgQUtNIGFuZCBDaGVuZywgQ2hvdyBLaWFuIGFuZCBQZXJtYWRpLCBSYWhhZGlhbiBCYXl1IGFuZCBGZWxkdCwgUm9iZXJ0IiwKICAgIHBsYWNlPUpTRVAsCiAgICBwcD0iMjUxLS0yNzkiLAogICAgZW50cnl0eXBlPSJhcnRpY2xlIiwKICAgIHZvbHVtZT0iMjYiLAogICAgbnVtYmVyPSIyIiwKICAgIHB1Ymxpc2hlcj0iV2lsZXkgT25saW5lIExpYnJhcnkiLAogICAgSUQ9InVudGVya2FsbXN0ZWluZXIyMDE0Y29uY2VwdHVhbCIsCiAgICBjbHVzdGVyX2lkPSIzOTkyNTgxMTAyMTk1MjcwNTMyIiwKICAgIHNjaG9sYXI9Imh0dHA6Ly9zY2hvbGFyLmdvb2dsZS5jb20vc2Nob2xhcj9jaXRlcz0zOTkyNTgxMTAyMTk1MjcwNTMyJmFzX3NkdD0yMDA1JnNjaW9kdD0wLDUmaGw9ZW4iLAogICAgcGxhY2V4PSJKb3VybmFsIG9mIFNvZnR3YXJlOiBFdm9sdXRpb24gYW5kIFByb2Nlc3MiLAopKQoKREIoQ2l0YXRpb24oCiAgICB1bnRlcmthbG1zdGVpbmVyMjAxNGEsIGJhc2lsaTIwMTBhLCByZWY9IiIsCiAgICBjb250ZXh0cz1bCgogICAgXSwKKSkKCicnJywgY2l0YXRpb25zPSdiYXNpbGkyMDEwYScpOw==\"));\n",
       "    "
      ],
      "text/plain": [
       "<IPython.core.display.Javascript object>"
      ]
     },
     "metadata": {},
     "output_type": "display_data"
    },
    {
     "data": {
      "application/javascript": [
       "$('span:contains(\"# Temp\")').closest('.cell').remove();"
      ],
      "text/plain": [
       "<IPython.core.display.Javascript object>"
      ]
     },
     "metadata": {},
     "output_type": "display_data"
    },
    {
     "data": {
      "application/javascript": [
       "\n",
       "        $('span:contains(\"# Temp\")').closest('.cell').remove();\n",
       "        var code = IPython.notebook.insert_cell_below('code');\n",
       "        code.set_text(atob(\"IyBUZW1wCmluc2VydCgnJycKamFobjIwMTRhID0gREIoV29ya1VucmVsYXRlZCgKICAgIDIwMTQsICJFaW4gc2VtYW50aXNjaGVzIE5ldHogZGVzIEluZm9ybWF0aW9uc21hbmFnZW1lbnRzIGltIEtyYW5rZW5oYXVzIiwKICAgIGRpc3BsYXk9ImphaG4iLAogICAgYXV0aG9ycz0iSmFobiwgRnJhbnppc2thIGFuZCBTY2hhYWYsIE1pY2hhZWwgYW5kIFBhZWNoLCBCYXJiYXJhIGFuZCBXaW50ZXIsIEFsZnJlZCIsCiAgICBwbGFjZT1GQUtFLAogICAgZW50cnl0eXBlPSJhcnRpY2xlIiwKICAgIHB1Ymxpc2hlcj0iR2VzZWxsc2NoYWZ0IGb8ciBJbmZvcm1hdGlrIGVWIiwKICAgIElEPSJqYWhuMjAxNHNlbWFudGlzY2hlcyIsCiAgICBjbHVzdGVyX2lkPSI1MTA3OTg1Njc2NzEzOTY1MTIwIiwKICAgIHNjaG9sYXI9Imh0dHA6Ly9zY2hvbGFyLmdvb2dsZS5jb20vc2Nob2xhcj9jaXRlcz01MTA3OTg1Njc2NzEzOTY1MTIwJmFzX3NkdD0yMDA1JnNjaW9kdD0wLDUmaGw9ZW4iLAogICAgcGxhY2V4PSJJbmZvcm1hdGlrIDIwMTQiLAopKQoKREIoQ2l0YXRpb24oCiAgICBqYWhuMjAxNGEsIGJhc2lsaTIwMTBhLCByZWY9IiIsCiAgICBjb250ZXh0cz1bCgogICAgXSwKKSkKCicnJywgY2l0YXRpb25zPSdiYXNpbGkyMDEwYScpOw==\"));\n",
       "    "
      ],
      "text/plain": [
       "<IPython.core.display.Javascript object>"
      ]
     },
     "metadata": {},
     "output_type": "display_data"
    },
    {
     "data": {
      "application/javascript": [
       "$('span:contains(\"# Temp\")').closest('.cell').remove();"
      ],
      "text/plain": [
       "<IPython.core.display.Javascript object>"
      ]
     },
     "metadata": {},
     "output_type": "display_data"
    },
    {
     "data": {
      "application/javascript": [
       "\n",
       "        $('span:contains(\"# Temp\")').closest('.cell').remove();\n",
       "        var code = IPython.notebook.insert_cell_below('code');\n",
       "        code.set_text(atob(\"IyBUZW1wCmluc2VydCgnJycKamFobjIwMTRhID0gREIoV29ya1VucmVsYXRlZCgKICAgIDIwMTQsICJFaW4gc2VtYW50aXNjaGVzIE5ldHogZGVzIEluZm9ybWF0aW9uc21hbmFnZW1lbnRzIGltIEtyYW5rZW5oYXVzIiwKICAgIGRpc3BsYXk9ImphaG4iLAogICAgYXV0aG9ycz0iSmFobiwgRnJhbnppc2thIGFuZCBTY2hhYWYsIE1pY2hhZWwgYW5kIFBhZWNoLCBCYXJiYXJhIGFuZCBXaW50ZXIsIEFsZnJlZCIsCiAgICBwbGFjZT1GQUtFLAogICAgZW50cnl0eXBlPSJhcnRpY2xlIiwKICAgIHB1Ymxpc2hlcj0iR2VzZWxsc2NoYWZ0IGb8ciBJbmZvcm1hdGlrIGVWIiwKICAgIElEPSJqYWhuMjAxNHNlbWFudGlzY2hlcyIsCiAgICBjbHVzdGVyX2lkPSI1MTA3OTg1Njc2NzEzOTY1MTIwIiwKICAgIHNjaG9sYXI9Imh0dHA6Ly9zY2hvbGFyLmdvb2dsZS5jb20vc2Nob2xhcj9jaXRlcz01MTA3OTg1Njc2NzEzOTY1MTIwJmFzX3NkdD0yMDA1JnNjaW9kdD0wLDUmaGw9ZW4iLAogICAgcGxhY2V4PSJJbmZvcm1hdGlrIDIwMTQiLAopKQoKREIoQ2l0YXRpb24oCiAgICBqYWhuMjAxNGEsIGJhc2lsaTIwMTBhLCByZWY9IiIsCiAgICBjb250ZXh0cz1bCgogICAgXSwKKSkKCicnJywgY2l0YXRpb25zPSdiYXNpbGkyMDEwYScpOw==\"));\n",
       "    "
      ],
      "text/plain": [
       "<IPython.core.display.Javascript object>"
      ]
     },
     "metadata": {},
     "output_type": "display_data"
    },
    {
     "data": {
      "application/javascript": [
       "$('span:contains(\"# Temp\")').closest('.cell').remove();"
      ],
      "text/plain": [
       "<IPython.core.display.Javascript object>"
      ]
     },
     "metadata": {},
     "output_type": "display_data"
    },
    {
     "data": {
      "application/javascript": [
       "\n",
       "        $('span:contains(\"# Temp\")').closest('.cell').remove();\n",
       "        var code = IPython.notebook.insert_cell_below('code');\n",
       "        code.set_text(atob(\"IyBUZW1wCmluc2VydCgnJycKbGVzY2hlcjIwMTFhID0gREIoV29ya1VucmVsYXRlZCgKICAgIDIwMTEsICJDb2xsYWJvcmF0aW9uLWJhc2VkIE1ldHJpY3MgZm9yIFByb2plY3QgTWFuYWdlbWVudCBTdXBwb3J0IGluIEdsb2JhbCBTb2Z0d2FyZSBFbmdpbmVlcmluZyIsCiAgICBkaXNwbGF5PSJsZXNjaGVyIiwKICAgIGF1dGhvcnM9Ikxlc2NoZXIsIENocmlzdGlhbiIsCiAgICBwbGFjZT1UaGVzaXMsCiAgICBlbnRyeXR5cGU9InBoZHRoZXNpcyIsCiAgICBJRD0ibGVzY2hlcjIwMTFjb2xsYWJvcmF0aW9uIiwKICAgIGNsdXN0ZXJfaWQ9IjE5MDIzMDAwMjA2NjkxMDc0NDEiLAogICAgc2Nob2xhcj0iaHR0cDovL3NjaG9sYXIuZ29vZ2xlLmNvbS9zY2hvbGFyP2NpdGVzPTE5MDIzMDAwMjA2NjkxMDc0NDEmYXNfc2R0PTIwMDUmc2Npb2R0PTAsNSZobD1lbiIsCiAgICBsb2NhbD0iVGVjaG5pc2NoZSBVbml2ZXJzaXTkdCBN/G5jaGVuIiwKICAgIHBsYWNleD0iIiwKKSkKCkRCKENpdGF0aW9uKAogICAgbGVzY2hlcjIwMTFhLCBiYXNpbGkyMDEwYSwgcmVmPSIiLAogICAgY29udGV4dHM9WwoKICAgIF0sCikpCgonJycsIGNpdGF0aW9ucz0nYmFzaWxpMjAxMGEnKTs=\"));\n",
       "    "
      ],
      "text/plain": [
       "<IPython.core.display.Javascript object>"
      ]
     },
     "metadata": {},
     "output_type": "display_data"
    },
    {
     "data": {
      "application/javascript": [
       "$('span:contains(\"# Temp\")').closest('.cell').remove();"
      ],
      "text/plain": [
       "<IPython.core.display.Javascript object>"
      ]
     },
     "metadata": {},
     "output_type": "display_data"
    },
    {
     "data": {
      "application/javascript": [
       "\n",
       "        $('span:contains(\"# Temp\")').closest('.cell').remove();\n",
       "        var code = IPython.notebook.insert_cell_below('code');\n",
       "        code.set_text(atob(\"IyBUZW1wCmluc2VydCgnJycKbGVzY2hlcjIwMTFhID0gREIoV29ya1VucmVsYXRlZCgKICAgIDIwMTEsICJDb2xsYWJvcmF0aW9uLWJhc2VkIE1ldHJpY3MgZm9yIFByb2plY3QgTWFuYWdlbWVudCBTdXBwb3J0IGluIEdsb2JhbCBTb2Z0d2FyZSBFbmdpbmVlcmluZyIsCiAgICBkaXNwbGF5PSJsZXNjaGVyIiwKICAgIGF1dGhvcnM9Ikxlc2NoZXIsIENocmlzdGlhbiIsCiAgICBwbGFjZT1UaGVzaXMsCiAgICBlbnRyeXR5cGU9InBoZHRoZXNpcyIsCiAgICBJRD0ibGVzY2hlcjIwMTFjb2xsYWJvcmF0aW9uIiwKICAgIGNsdXN0ZXJfaWQ9IjE5MDIzMDAwMjA2NjkxMDc0NDEiLAogICAgc2Nob2xhcj0iaHR0cDovL3NjaG9sYXIuZ29vZ2xlLmNvbS9zY2hvbGFyP2NpdGVzPTE5MDIzMDAwMjA2NjkxMDc0NDEmYXNfc2R0PTIwMDUmc2Npb2R0PTAsNSZobD1lbiIsCiAgICBsb2NhbD0iVGVjaG5pc2NoZSBVbml2ZXJzaXTkdCBN/G5jaGVuIiwKICAgIHBsYWNleD0iIiwKKSkKCkRCKENpdGF0aW9uKAogICAgbGVzY2hlcjIwMTFhLCBiYXNpbGkyMDEwYSwgcmVmPSIiLAogICAgY29udGV4dHM9WwoKICAgIF0sCikpCgonJycsIGNpdGF0aW9ucz0nYmFzaWxpMjAxMGEnKTs=\"));\n",
       "    "
      ],
      "text/plain": [
       "<IPython.core.display.Javascript object>"
      ]
     },
     "metadata": {},
     "output_type": "display_data"
    },
    {
     "data": {
      "application/javascript": [
       "$('span:contains(\"# Temp\")').closest('.cell').remove();"
      ],
      "text/plain": [
       "<IPython.core.display.Javascript object>"
      ]
     },
     "metadata": {},
     "output_type": "display_data"
    },
    {
     "data": {
      "application/javascript": [
       "\n",
       "        $('span:contains(\"# Temp\")').closest('.cell').remove();\n",
       "        var code = IPython.notebook.insert_cell_below('code');\n",
       "        code.set_text(atob(\"IyBUZW1wCmluc2VydCgnJycKREIoQ2l0YXRpb24oCiAgICBrb2JvcmkyMDE2YSwgYmFzaWxpMjAxMGEsIHJlZj0iIiwKICAgIGNvbnRleHRzPVsKCiAgICBdLAopKQoKJycnLCBjaXRhdGlvbnM9J2Jhc2lsaTIwMTBhJyk7CnNldF9hdHRyaWJ1dGUoJ2tvYm9yaTIwMTZhJywgJ2V4Y2VycHQnLCAnVG8gYWNoaWV2ZSBvdmVyYWxsIGJ1c2luZXNzIGdvYWxzLCBHUU0rIFN0cmF0ZWdpZXMgaXMgb25lIGFwcHJvYWNoIHRoYXQgYWxpZ25zIGJ1c2luZXNzIGdvYWxzIGF0IGVhY2ggbGV2ZWwgb2YgYW4gb3JnYW5pemF0aW9uIHRvIHN0cmF0ZWdpZXMgYW5kIGFzc2Vzc2VzIHRoZSBhY2hpZXZlbWVudCBvZiBnb2Fscy4gU3RyYXRlZ2llcyBhcmUgYmFzZWQgb24gcmF0aW9uYWxlcyAoY29udGV4dHMgYW5kIGFzc3VtcHRpb25zKS4gQmVjYXVzZSBleHRyYWN0aW5nIGFsbCAnKTs=\"));\n",
       "    "
      ],
      "text/plain": [
       "<IPython.core.display.Javascript object>"
      ]
     },
     "metadata": {},
     "output_type": "display_data"
    },
    {
     "data": {
      "application/javascript": [
       "$('span:contains(\"# Temp\")').closest('.cell').remove();"
      ],
      "text/plain": [
       "<IPython.core.display.Javascript object>"
      ]
     },
     "metadata": {},
     "output_type": "display_data"
    },
    {
     "data": {
      "application/javascript": [
       "\n",
       "        $('span:contains(\"# Temp\")').closest('.cell').remove();\n",
       "        var code = IPython.notebook.insert_cell_below('code');\n",
       "        code.set_text(atob(\"IyBUZW1wCmluc2VydCgnJycKREIoQ2l0YXRpb24oCiAgICBrb2JvcmkyMDE2YSwgYmFzaWxpMjAxMGEsIHJlZj0iIiwKICAgIGNvbnRleHRzPVsKCiAgICBdLAopKQoKJycnLCBjaXRhdGlvbnM9J2Jhc2lsaTIwMTBhJyk7CnNldF9hdHRyaWJ1dGUoJ2tvYm9yaTIwMTZhJywgJ2V4Y2VycHQnLCAnVG8gYWNoaWV2ZSBvdmVyYWxsIGJ1c2luZXNzIGdvYWxzLCBHUU0rIFN0cmF0ZWdpZXMgaXMgb25lIGFwcHJvYWNoIHRoYXQgYWxpZ25zIGJ1c2luZXNzIGdvYWxzIGF0IGVhY2ggbGV2ZWwgb2YgYW4gb3JnYW5pemF0aW9uIHRvIHN0cmF0ZWdpZXMgYW5kIGFzc2Vzc2VzIHRoZSBhY2hpZXZlbWVudCBvZiBnb2Fscy4gU3RyYXRlZ2llcyBhcmUgYmFzZWQgb24gcmF0aW9uYWxlcyAoY29udGV4dHMgYW5kIGFzc3VtcHRpb25zKS4gQmVjYXVzZSBleHRyYWN0aW5nIGFsbCAnKTs=\"));\n",
       "    "
      ],
      "text/plain": [
       "<IPython.core.display.Javascript object>"
      ]
     },
     "metadata": {},
     "output_type": "display_data"
    },
    {
     "data": {
      "application/javascript": [
       "$('span:contains(\"# Temp\")').closest('.cell').remove();"
      ],
      "text/plain": [
       "<IPython.core.display.Javascript object>"
      ]
     },
     "metadata": {},
     "output_type": "display_data"
    },
    {
     "data": {
      "application/javascript": [
       "\n",
       "        $('span:contains(\"# Temp\")').closest('.cell').remove();\n",
       "        var code = IPython.notebook.insert_cell_below('code');\n",
       "        code.set_text(atob(\"IyBUZW1wCmluc2VydCgnJycKemhhbmcyMDE0YSA9IERCKFdvcmtVbnJlbGF0ZWQoCiAgICAyMDE0LCAiU29mdHdhcmUgcHJvY2VzcyBzaW11bGF0aW9ul2F0IGEgY3Jvc3Nyb2Fkcz8iLAogICAgZGlzcGxheT0iemhhbmciLAogICAgYXV0aG9ycz0iWmhhbmcsIEhlIGFuZCBSYWZmbywgRGF2aWQgYW5kIEJpcmto9mx0emVyLCBUaG9tYXMgYW5kIEhvdXN0b24sIERhbiBhbmQgTWFkYWNoeSwgUmF5bW9uZCBhbmQgTfxuY2gsIEr8cmdlbiBhbmQgU3V0dG9uLCBTdGFubGV5IE0iLAogICAgcGxhY2U9SlNFUCwKICAgIHBwPSI5MjMtLTkyOCIsCiAgICBlbnRyeXR5cGU9ImFydGljbGUiLAogICAgdm9sdW1lPSIyNiIsCiAgICBudW1iZXI9IjEwIiwKICAgIHB1Ymxpc2hlcj0iV2lsZXkgT25saW5lIExpYnJhcnkiLAogICAgSUQ9InpoYW5nMjAxNHNvZnR3YXJlIiwKICAgIGNsdXN0ZXJfaWQ9IjgzMjgyODMzMzQ3MDQzOTI0MTAiLAogICAgc2Nob2xhcj0iaHR0cDovL3NjaG9sYXIuZ29vZ2xlLmNvbS9zY2hvbGFyP2NpdGVzPTgzMjgyODMzMzQ3MDQzOTI0MTAmYXNfc2R0PTIwMDUmc2Npb2R0PTAsNSZobD1lbiIsCiAgICBwbGFjZXg9IkpvdXJuYWwgb2YgU29mdHdhcmU6IEV2b2x1dGlvbiBhbmQgUHJvY2VzcyIsCikpCgpEQihDaXRhdGlvbigKICAgIHpoYW5nMjAxNGEsIGJhc2lsaTIwMTBhLCByZWY9IiIsCiAgICBjb250ZXh0cz1bCgogICAgXSwKKSkKCicnJywgY2l0YXRpb25zPSdiYXNpbGkyMDEwYScpOw==\"));\n",
       "    "
      ],
      "text/plain": [
       "<IPython.core.display.Javascript object>"
      ]
     },
     "metadata": {},
     "output_type": "display_data"
    },
    {
     "data": {
      "application/javascript": [
       "$('span:contains(\"# Temp\")').closest('.cell').remove();"
      ],
      "text/plain": [
       "<IPython.core.display.Javascript object>"
      ]
     },
     "metadata": {},
     "output_type": "display_data"
    },
    {
     "data": {
      "application/javascript": [
       "\n",
       "        $('span:contains(\"# Temp\")').closest('.cell').remove();\n",
       "        var code = IPython.notebook.insert_cell_below('code');\n",
       "        code.set_text(atob(\"IyBUZW1wCmluc2VydCgnJycKemhhbmcyMDE0YSA9IERCKFdvcmtVbnJlbGF0ZWQoCiAgICAyMDE0LCAiU29mdHdhcmUgcHJvY2VzcyBzaW11bGF0aW9ul2F0IGEgY3Jvc3Nyb2Fkcz8iLAogICAgZGlzcGxheT0iemhhbmciLAogICAgYXV0aG9ycz0iWmhhbmcsIEhlIGFuZCBSYWZmbywgRGF2aWQgYW5kIEJpcmto9mx0emVyLCBUaG9tYXMgYW5kIEhvdXN0b24sIERhbiBhbmQgTWFkYWNoeSwgUmF5bW9uZCBhbmQgTfxuY2gsIEr8cmdlbiBhbmQgU3V0dG9uLCBTdGFubGV5IE0iLAogICAgcGxhY2U9SlNFUCwKICAgIHBwPSI5MjMtLTkyOCIsCiAgICBlbnRyeXR5cGU9ImFydGljbGUiLAogICAgdm9sdW1lPSIyNiIsCiAgICBudW1iZXI9IjEwIiwKICAgIHB1Ymxpc2hlcj0iV2lsZXkgT25saW5lIExpYnJhcnkiLAogICAgSUQ9InpoYW5nMjAxNHNvZnR3YXJlIiwKICAgIGNsdXN0ZXJfaWQ9IjgzMjgyODMzMzQ3MDQzOTI0MTAiLAogICAgc2Nob2xhcj0iaHR0cDovL3NjaG9sYXIuZ29vZ2xlLmNvbS9zY2hvbGFyP2NpdGVzPTgzMjgyODMzMzQ3MDQzOTI0MTAmYXNfc2R0PTIwMDUmc2Npb2R0PTAsNSZobD1lbiIsCiAgICBwbGFjZXg9IkpvdXJuYWwgb2YgU29mdHdhcmU6IEV2b2x1dGlvbiBhbmQgUHJvY2VzcyIsCikpCgpEQihDaXRhdGlvbigKICAgIHpoYW5nMjAxNGEsIGJhc2lsaTIwMTBhLCByZWY9IiIsCiAgICBjb250ZXh0cz1bCgogICAgXSwKKSkKCicnJywgY2l0YXRpb25zPSdiYXNpbGkyMDEwYScpOw==\"));\n",
       "    "
      ],
      "text/plain": [
       "<IPython.core.display.Javascript object>"
      ]
     },
     "metadata": {},
     "output_type": "display_data"
    },
    {
     "data": {
      "application/javascript": [
       "$('span:contains(\"# Temp\")').closest('.cell').remove();"
      ],
      "text/plain": [
       "<IPython.core.display.Javascript object>"
      ]
     },
     "metadata": {},
     "output_type": "display_data"
    },
    {
     "data": {
      "application/javascript": [
       "\n",
       "        $('span:contains(\"# Temp\")').closest('.cell').remove();\n",
       "        var code = IPython.notebook.insert_cell_below('code');\n",
       "        code.set_text(atob(\"IyBUZW1wCmluc2VydCgnJycKb2JlcnNjaGV2ZW4yMDEzYSA9IERCKFdvcmtVbnJlbGF0ZWQoCiAgICAyMDEzLCAiU29mdHdhcmUgUXVhbGl0eSBBc3Nlc3NtZW50IGluIGFuIEFnaWxlIEVudmlyb25tZW50IiwKICAgIGRpc3BsYXk9Im9iZXJzY2hldmVuIiwKICAgIGF1dGhvcnM9Ik9iZXJzY2hldmVuLCBGYWxrIE1hcnRpbiIsCiAgICBwbGFjZT1GQUtFLAogICAgZW50cnl0eXBlPSJhcnRpY2xlIiwKICAgIElEPSJvYmVyc2NoZXZlbjIwMTNzb2Z0d2FyZSIsCiAgICBjbHVzdGVyX2lkPSI4OTcyODIxODUzNTk2MjYxNTE4IiwKICAgIHNjaG9sYXI9Imh0dHA6Ly9zY2hvbGFyLmdvb2dsZS5jb20vc2Nob2xhcj9jaXRlcz04OTcyODIxODUzNTk2MjYxNTE4JmFzX3NkdD0yMDA1JnNjaW9kdD0wLDUmaGw9ZW4iLAogICAgcGxhY2V4PSJGYWN1bHR5IG9mIFNjaWVuY2Ugb2YgUmFkYm91ZCBVbml2ZXJzaXR5IGluIE5pam1lZ2VuLiIsCikpCgpEQihDaXRhdGlvbigKICAgIG9iZXJzY2hldmVuMjAxM2EsIGJhc2lsaTIwMTBhLCByZWY9IiIsCiAgICBjb250ZXh0cz1bCgogICAgXSwKKSkKCicnJywgY2l0YXRpb25zPSdiYXNpbGkyMDEwYScpOw==\"));\n",
       "    "
      ],
      "text/plain": [
       "<IPython.core.display.Javascript object>"
      ]
     },
     "metadata": {},
     "output_type": "display_data"
    },
    {
     "data": {
      "application/javascript": [
       "$('span:contains(\"# Temp\")').closest('.cell').remove();"
      ],
      "text/plain": [
       "<IPython.core.display.Javascript object>"
      ]
     },
     "metadata": {},
     "output_type": "display_data"
    },
    {
     "data": {
      "application/javascript": [
       "\n",
       "        $('span:contains(\"# Temp\")').closest('.cell').remove();\n",
       "        var code = IPython.notebook.insert_cell_below('code');\n",
       "        code.set_text(atob(\"IyBUZW1wCmluc2VydCgnJycKb2JlcnNjaGV2ZW4yMDEzYSA9IERCKFdvcmtVbnJlbGF0ZWQoCiAgICAyMDEzLCAiU29mdHdhcmUgUXVhbGl0eSBBc3Nlc3NtZW50IGluIGFuIEFnaWxlIEVudmlyb25tZW50IiwKICAgIGRpc3BsYXk9Im9iZXJzY2hldmVuIiwKICAgIGF1dGhvcnM9Ik9iZXJzY2hldmVuLCBGYWxrIE1hcnRpbiIsCiAgICBwbGFjZT1GQUtFLAogICAgZW50cnl0eXBlPSJhcnRpY2xlIiwKICAgIElEPSJvYmVyc2NoZXZlbjIwMTNzb2Z0d2FyZSIsCiAgICBjbHVzdGVyX2lkPSI4OTcyODIxODUzNTk2MjYxNTE4IiwKICAgIHNjaG9sYXI9Imh0dHA6Ly9zY2hvbGFyLmdvb2dsZS5jb20vc2Nob2xhcj9jaXRlcz04OTcyODIxODUzNTk2MjYxNTE4JmFzX3NkdD0yMDA1JnNjaW9kdD0wLDUmaGw9ZW4iLAogICAgcGxhY2V4PSJGYWN1bHR5IG9mIFNjaWVuY2Ugb2YgUmFkYm91ZCBVbml2ZXJzaXR5IGluIE5pam1lZ2VuLiIsCikpCgpEQihDaXRhdGlvbigKICAgIG9iZXJzY2hldmVuMjAxM2EsIGJhc2lsaTIwMTBhLCByZWY9IiIsCiAgICBjb250ZXh0cz1bCgogICAgXSwKKSkKCicnJywgY2l0YXRpb25zPSdiYXNpbGkyMDEwYScpOw==\"));\n",
       "    "
      ],
      "text/plain": [
       "<IPython.core.display.Javascript object>"
      ]
     },
     "metadata": {},
     "output_type": "display_data"
    },
    {
     "data": {
      "application/javascript": [
       "$('span:contains(\"# Temp\")').closest('.cell').remove();"
      ],
      "text/plain": [
       "<IPython.core.display.Javascript object>"
      ]
     },
     "metadata": {},
     "output_type": "display_data"
    },
    {
     "data": {
      "application/javascript": [
       "\n",
       "        $('span:contains(\"# Temp\")').closest('.cell').remove();\n",
       "        var code = IPython.notebook.insert_cell_below('code');\n",
       "        code.set_text(atob(\"IyBUZW1wCmluc2VydCgnJycKbGF2YXp6YTIwMTFhID0gREIoV29ya1VucmVsYXRlZCgKICAgIDIwMTEsICJNdWx0aS1zY29wZSBldmFsdWF0aW9uIG9mIHB1YmxpYyBhZG1pbmlzdHJhdGlvbiBpbml0aWF0aXZlcyBpbiBwcm9jZXNzIGF1dG9tYXRpb24iLAogICAgZGlzcGxheT0ibGF2YXp6YSIsCiAgICBhdXRob3JzPSJMYXZhenphLCBMdWlnaSIsCiAgICBwbGFjZT1FQ0lNRSwKICAgIHBwPSIyOTQiLAogICAgZW50cnl0eXBlPSJpbnByb2NlZWRpbmdzIiwKICAgIG9yZ2FuaXphdGlvbj0iQWNhZGVtaWMgQ29uZmVyZW5jZXMgSW50ZXJuYXRpb25hbCBMaW1pdGVkIiwKICAgIElEPSJsYXZhenphMjAxMW11bHRpIiwKICAgIGNsdXN0ZXJfaWQ9IjYxMjM1NzgwMzYyMzIyMjEwNDQiLAogICAgc2Nob2xhcj0iaHR0cDovL3NjaG9sYXIuZ29vZ2xlLmNvbS9zY2hvbGFyP2NpdGVzPTYxMjM1NzgwMzYyMzIyMjEwNDQmYXNfc2R0PTIwMDUmc2Npb2R0PTAsNSZobD1lbiIsCiAgICBwbGFjZXg9IkV1cm9wZWFuIENvbmZlcmVuY2Ugb24gSW5mb3JtYXRpb24gTWFuYWdlbWVudCBhbmQgRXZhbHVhdGlvbiIsCikpCgpEQihDaXRhdGlvbigKICAgIGxhdmF6emEyMDExYSwgYmFzaWxpMjAxMGEsIHJlZj0iIiwKICAgIGNvbnRleHRzPVsKCiAgICBdLAopKQoKJycnLCBjaXRhdGlvbnM9J2Jhc2lsaTIwMTBhJyk7\"));\n",
       "    "
      ],
      "text/plain": [
       "<IPython.core.display.Javascript object>"
      ]
     },
     "metadata": {},
     "output_type": "display_data"
    },
    {
     "data": {
      "application/javascript": [
       "$('span:contains(\"# Temp\")').closest('.cell').remove();"
      ],
      "text/plain": [
       "<IPython.core.display.Javascript object>"
      ]
     },
     "metadata": {},
     "output_type": "display_data"
    },
    {
     "data": {
      "application/javascript": [
       "\n",
       "        $('span:contains(\"# Temp\")').closest('.cell').remove();\n",
       "        var code = IPython.notebook.insert_cell_below('code');\n",
       "        code.set_text(atob(\"IyBUZW1wCmluc2VydCgnJycKbGF2YXp6YTIwMTFhID0gREIoV29ya1VucmVsYXRlZCgKICAgIDIwMTEsICJNdWx0aS1zY29wZSBldmFsdWF0aW9uIG9mIHB1YmxpYyBhZG1pbmlzdHJhdGlvbiBpbml0aWF0aXZlcyBpbiBwcm9jZXNzIGF1dG9tYXRpb24iLAogICAgZGlzcGxheT0ibGF2YXp6YSIsCiAgICBhdXRob3JzPSJMYXZhenphLCBMdWlnaSIsCiAgICBwbGFjZT1FQ0lNRSwKICAgIHBwPSIyOTQiLAogICAgZW50cnl0eXBlPSJpbnByb2NlZWRpbmdzIiwKICAgIG9yZ2FuaXphdGlvbj0iQWNhZGVtaWMgQ29uZmVyZW5jZXMgSW50ZXJuYXRpb25hbCBMaW1pdGVkIiwKICAgIElEPSJsYXZhenphMjAxMW11bHRpIiwKICAgIGNsdXN0ZXJfaWQ9IjYxMjM1NzgwMzYyMzIyMjEwNDQiLAogICAgc2Nob2xhcj0iaHR0cDovL3NjaG9sYXIuZ29vZ2xlLmNvbS9zY2hvbGFyP2NpdGVzPTYxMjM1NzgwMzYyMzIyMjEwNDQmYXNfc2R0PTIwMDUmc2Npb2R0PTAsNSZobD1lbiIsCiAgICBwbGFjZXg9IkV1cm9wZWFuIENvbmZlcmVuY2Ugb24gSW5mb3JtYXRpb24gTWFuYWdlbWVudCBhbmQgRXZhbHVhdGlvbiIsCikpCgpEQihDaXRhdGlvbigKICAgIGxhdmF6emEyMDExYSwgYmFzaWxpMjAxMGEsIHJlZj0iIiwKICAgIGNvbnRleHRzPVsKCiAgICBdLAopKQoKJycnLCBjaXRhdGlvbnM9J2Jhc2lsaTIwMTBhJyk7\"));\n",
       "    "
      ],
      "text/plain": [
       "<IPython.core.display.Javascript object>"
      ]
     },
     "metadata": {},
     "output_type": "display_data"
    },
    {
     "data": {
      "application/javascript": [
       "$('span:contains(\"# Temp\")').closest('.cell').remove();"
      ],
      "text/plain": [
       "<IPython.core.display.Javascript object>"
      ]
     },
     "metadata": {},
     "output_type": "display_data"
    },
    {
     "data": {
      "application/javascript": [
       "\n",
       "        $('span:contains(\"# Temp\")').closest('.cell').remove();\n",
       "        var code = IPython.notebook.insert_cell_below('code');\n",
       "        code.set_text(atob(\"IyBUZW1wCmluc2VydCgnJycKZ2lhbm5vdWxpczIwMTRhID0gREIoV29ya1VucmVsYXRlZCgKICAgIDIwMTQsICJNb2RlbC1kcml2ZW4gQWxpZ25tZW50OiBMaW5raW5nIEJ1c2luZXNzIFN0cmF0ZWd5IHdpdGggSW5mb3JtYXRpb24gU3lzdGVtcyIsCiAgICBkaXNwbGF5PSJnaWFubm91bGlzIiwKICAgIGF1dGhvcnM9IkdpYW5ub3VsaXMsIENvbnN0YW50aW5vcyIsCiAgICBwbGFjZT1UaGVzaXMsCiAgICBlbnRyeXR5cGU9InBoZHRoZXNpcyIsCiAgICBJRD0iZ2lhbm5vdWxpczIwMTRtb2RlbCIsCiAgICBjbHVzdGVyX2lkPSIzMzY2MzY4MTE0NzI2MDg5MDE1IiwKICAgIHNjaG9sYXI9Imh0dHA6Ly9zY2hvbGFyLmdvb2dsZS5jb20vc2Nob2xhcj9jaXRlcz0zMzY2MzY4MTE0NzI2MDg5MDE1JmFzX3NkdD0yMDA1JnNjaW9kdD0wLDUmaGw9ZW4iLAogICAgbG9jYWw9IkRlcGFydG1lbnQgb2YgQ29tcHV0ZXIgYW5kIFN5c3RlbXMgU2NpZW5jZXMsIFN0b2NraG9sbSBVbml2ZXJzaXR5IiwKICAgIHBsYWNleD0iIiwKKSkKCkRCKENpdGF0aW9uKAogICAgZ2lhbm5vdWxpczIwMTRhLCBiYXNpbGkyMDEwYSwgcmVmPSIiLAogICAgY29udGV4dHM9WwoKICAgIF0sCikpCgonJycsIGNpdGF0aW9ucz0nYmFzaWxpMjAxMGEnKTs=\"));\n",
       "    "
      ],
      "text/plain": [
       "<IPython.core.display.Javascript object>"
      ]
     },
     "metadata": {},
     "output_type": "display_data"
    },
    {
     "data": {
      "application/javascript": [
       "$('span:contains(\"# Temp\")').closest('.cell').remove();"
      ],
      "text/plain": [
       "<IPython.core.display.Javascript object>"
      ]
     },
     "metadata": {},
     "output_type": "display_data"
    },
    {
     "data": {
      "application/javascript": [
       "\n",
       "        $('span:contains(\"# Temp\")').closest('.cell').remove();\n",
       "        var code = IPython.notebook.insert_cell_below('code');\n",
       "        code.set_text(atob(\"IyBUZW1wCmluc2VydCgnJycKZ2lhbm5vdWxpczIwMTRhID0gREIoV29ya1VucmVsYXRlZCgKICAgIDIwMTQsICJNb2RlbC1kcml2ZW4gQWxpZ25tZW50OiBMaW5raW5nIEJ1c2luZXNzIFN0cmF0ZWd5IHdpdGggSW5mb3JtYXRpb24gU3lzdGVtcyIsCiAgICBkaXNwbGF5PSJnaWFubm91bGlzIiwKICAgIGF1dGhvcnM9IkdpYW5ub3VsaXMsIENvbnN0YW50aW5vcyIsCiAgICBwbGFjZT1UaGVzaXMsCiAgICBlbnRyeXR5cGU9InBoZHRoZXNpcyIsCiAgICBJRD0iZ2lhbm5vdWxpczIwMTRtb2RlbCIsCiAgICBjbHVzdGVyX2lkPSIzMzY2MzY4MTE0NzI2MDg5MDE1IiwKICAgIHNjaG9sYXI9Imh0dHA6Ly9zY2hvbGFyLmdvb2dsZS5jb20vc2Nob2xhcj9jaXRlcz0zMzY2MzY4MTE0NzI2MDg5MDE1JmFzX3NkdD0yMDA1JnNjaW9kdD0wLDUmaGw9ZW4iLAogICAgbG9jYWw9IkRlcGFydG1lbnQgb2YgQ29tcHV0ZXIgYW5kIFN5c3RlbXMgU2NpZW5jZXMsIFN0b2NraG9sbSBVbml2ZXJzaXR5IiwKICAgIHBsYWNleD0iIiwKKSkKCkRCKENpdGF0aW9uKAogICAgZ2lhbm5vdWxpczIwMTRhLCBiYXNpbGkyMDEwYSwgcmVmPSIiLAogICAgY29udGV4dHM9WwoKICAgIF0sCikpCgonJycsIGNpdGF0aW9ucz0nYmFzaWxpMjAxMGEnKTs=\"));\n",
       "    "
      ],
      "text/plain": [
       "<IPython.core.display.Javascript object>"
      ]
     },
     "metadata": {},
     "output_type": "display_data"
    },
    {
     "data": {
      "application/javascript": [
       "$('span:contains(\"# Temp\")').closest('.cell').remove();"
      ],
      "text/plain": [
       "<IPython.core.display.Javascript object>"
      ]
     },
     "metadata": {},
     "output_type": "display_data"
    },
    {
     "data": {
      "application/javascript": [
       "\n",
       "        $('span:contains(\"# Temp\")').closest('.cell').remove();\n",
       "        var code = IPython.notebook.insert_cell_below('code');\n",
       "        code.set_text(atob(\"IyBUZW1wCmluc2VydCgnJycKZGpvdWFiMjAxNmEgPSBEQihXb3JrVW5yZWxhdGVkKAogICAgMjAxNiwgIkFuIEFTUElSRS1iYXNlZCBtZXRob2QgZm9yIHF1YWxpdHkgcmVxdWlyZW1lbnRzIGlkZW50aWZpY2F0aW9uIGZyb20gYnVzaW5lc3MgZ29hbHMiLAogICAgZGlzcGxheT0iZGpvdWFiIiwKICAgIGF1dGhvcnM9IkRqb3VhYiwgUmFjaGlkYSBhbmQgQWJyYW4sIEFsYWluIGFuZCBTZWZmYWgsIEFobWVkIiwKICAgIHBsYWNlPUZBS0UsCiAgICBwcD0iODctLTEwNiIsCiAgICBlbnRyeXR5cGU9ImFydGljbGUiLAogICAgdm9sdW1lPSIyMSIsCiAgICBudW1iZXI9IjEiLAogICAgcHVibGlzaGVyPSJTcHJpbmdlciIsCiAgICBJRD0iZGpvdWFiMjAxNmFzcGlyZSIsCiAgICBjbHVzdGVyX2lkPSIxODM5ODM2MjY5OTAyNjQ3Njc5IiwKICAgIHNjaG9sYXI9Imh0dHA6Ly9zY2hvbGFyLmdvb2dsZS5jb20vc2Nob2xhcj9jaXRlcz0xODM5ODM2MjY5OTAyNjQ3Njc5JmFzX3NkdD0yMDA1JnNjaW9kdD0wLDUmaGw9ZW4iLAogICAgcGxhY2V4PSJSZXF1aXJlbWVudHMgRW5naW5lZXJpbmciLAopKQoKREIoQ2l0YXRpb24oCiAgICBkam91YWIyMDE2YSwgYmFzaWxpMjAxMGEsIHJlZj0iIiwKICAgIGNvbnRleHRzPVsKCiAgICBdLAopKQoKJycnLCBjaXRhdGlvbnM9J2Jhc2lsaTIwMTBhJyk7\"));\n",
       "    "
      ],
      "text/plain": [
       "<IPython.core.display.Javascript object>"
      ]
     },
     "metadata": {},
     "output_type": "display_data"
    },
    {
     "data": {
      "application/javascript": [
       "$('span:contains(\"# Temp\")').closest('.cell').remove();"
      ],
      "text/plain": [
       "<IPython.core.display.Javascript object>"
      ]
     },
     "metadata": {},
     "output_type": "display_data"
    },
    {
     "data": {
      "application/javascript": [
       "\n",
       "        $('span:contains(\"# Temp\")').closest('.cell').remove();\n",
       "        var code = IPython.notebook.insert_cell_below('code');\n",
       "        code.set_text(atob(\"IyBUZW1wCmluc2VydCgnJycKZGpvdWFiMjAxNmEgPSBEQihXb3JrVW5yZWxhdGVkKAogICAgMjAxNiwgIkFuIEFTUElSRS1iYXNlZCBtZXRob2QgZm9yIHF1YWxpdHkgcmVxdWlyZW1lbnRzIGlkZW50aWZpY2F0aW9uIGZyb20gYnVzaW5lc3MgZ29hbHMiLAogICAgZGlzcGxheT0iZGpvdWFiIiwKICAgIGF1dGhvcnM9IkRqb3VhYiwgUmFjaGlkYSBhbmQgQWJyYW4sIEFsYWluIGFuZCBTZWZmYWgsIEFobWVkIiwKICAgIHBsYWNlPUZBS0UsCiAgICBwcD0iODctLTEwNiIsCiAgICBlbnRyeXR5cGU9ImFydGljbGUiLAogICAgdm9sdW1lPSIyMSIsCiAgICBudW1iZXI9IjEiLAogICAgcHVibGlzaGVyPSJTcHJpbmdlciIsCiAgICBJRD0iZGpvdWFiMjAxNmFzcGlyZSIsCiAgICBjbHVzdGVyX2lkPSIxODM5ODM2MjY5OTAyNjQ3Njc5IiwKICAgIHNjaG9sYXI9Imh0dHA6Ly9zY2hvbGFyLmdvb2dsZS5jb20vc2Nob2xhcj9jaXRlcz0xODM5ODM2MjY5OTAyNjQ3Njc5JmFzX3NkdD0yMDA1JnNjaW9kdD0wLDUmaGw9ZW4iLAogICAgcGxhY2V4PSJSZXF1aXJlbWVudHMgRW5naW5lZXJpbmciLAopKQoKREIoQ2l0YXRpb24oCiAgICBkam91YWIyMDE2YSwgYmFzaWxpMjAxMGEsIHJlZj0iIiwKICAgIGNvbnRleHRzPVsKCiAgICBdLAopKQoKJycnLCBjaXRhdGlvbnM9J2Jhc2lsaTIwMTBhJyk7\"));\n",
       "    "
      ],
      "text/plain": [
       "<IPython.core.display.Javascript object>"
      ]
     },
     "metadata": {},
     "output_type": "display_data"
    },
    {
     "data": {
      "application/javascript": [
       "$('span:contains(\"# Temp\")').closest('.cell').remove();"
      ],
      "text/plain": [
       "<IPython.core.display.Javascript object>"
      ]
     },
     "metadata": {},
     "output_type": "display_data"
    },
    {
     "data": {
      "application/javascript": [
       "\n",
       "        $('span:contains(\"# Temp\")').closest('.cell').remove();\n",
       "        var code = IPython.notebook.insert_cell_below('code');\n",
       "        code.set_text(atob(\"IyBUZW1wCmluc2VydCgnJycKaGVybuFuZGV6MjAxMGEgPSBEQihXb3JrVW5yZWxhdGVkKAogICAgMjAxMCwgIkFsaW5lYWNp824gZGUgbGEgZ2VzdGnzbiBlc3RyYXTpZ2ljYSBjb24gbGEgbWVkaWNp824gZGUgcHJvZHVjdG9zIHkgcHJvY2Vzb3MgcGFyYSBvcmdhbml6YWNpb25lcyBkZSBpbmdlbmllcu1hIGRlbCBzb2Z0d2FyZSIsCiAgICBkaXNwbGF5PSJoZXJu4W5kZXoiLAogICAgYXV0aG9ycz0iTWl0cmUgSGVybuFuZGV6LCBIdWdvIEFybm9sZG8iLAogICAgcGxhY2U9RkFLRSwKICAgIGVudHJ5dHlwZT0iYXJ0aWNsZSIsCiAgICBJRD0ibWl0cmUyMDEwYWxpbmVhY2lvbiIsCiAgICBjbHVzdGVyX2lkPSIxNDA3NjE2MzI0ODE0MDc0NDEzOCIsCiAgICBzY2hvbGFyPSJodHRwOi8vc2Nob2xhci5nb29nbGUuY29tL3NjaG9sYXI/Y2l0ZXM9MTQwNzYxNjMyNDgxNDA3NDQxMzgmYXNfc2R0PTIwMDUmc2Npb2R0PTAsNSZobD1lbiIsCiAgICBwbGFjZXg9IiIsCikpCgpEQihDaXRhdGlvbigKICAgIGhlcm7hbmRlejIwMTBhLCBiYXNpbGkyMDEwYSwgcmVmPSIiLAogICAgY29udGV4dHM9WwoKICAgIF0sCikpCgonJycsIGNpdGF0aW9ucz0nYmFzaWxpMjAxMGEnKTs=\"));\n",
       "    "
      ],
      "text/plain": [
       "<IPython.core.display.Javascript object>"
      ]
     },
     "metadata": {},
     "output_type": "display_data"
    },
    {
     "data": {
      "application/javascript": [
       "$('span:contains(\"# Temp\")').closest('.cell').remove();"
      ],
      "text/plain": [
       "<IPython.core.display.Javascript object>"
      ]
     },
     "metadata": {},
     "output_type": "display_data"
    },
    {
     "data": {
      "application/javascript": [
       "\n",
       "        $('span:contains(\"# Temp\")').closest('.cell').remove();\n",
       "        var code = IPython.notebook.insert_cell_below('code');\n",
       "        code.set_text(atob(\"IyBUZW1wCmluc2VydCgnJycKaGVybuFuZGV6MjAxMGEgPSBEQihXb3JrVW5yZWxhdGVkKAogICAgMjAxMCwgIkFsaW5lYWNp824gZGUgbGEgZ2VzdGnzbiBlc3RyYXTpZ2ljYSBjb24gbGEgbWVkaWNp824gZGUgcHJvZHVjdG9zIHkgcHJvY2Vzb3MgcGFyYSBvcmdhbml6YWNpb25lcyBkZSBpbmdlbmllcu1hIGRlbCBzb2Z0d2FyZSIsCiAgICBkaXNwbGF5PSJoZXJu4W5kZXoiLAogICAgYXV0aG9ycz0iTWl0cmUgSGVybuFuZGV6LCBIdWdvIEFybm9sZG8iLAogICAgcGxhY2U9RkFLRSwKICAgIGVudHJ5dHlwZT0iYXJ0aWNsZSIsCiAgICBJRD0ibWl0cmUyMDEwYWxpbmVhY2lvbiIsCiAgICBjbHVzdGVyX2lkPSIxNDA3NjE2MzI0ODE0MDc0NDEzOCIsCiAgICBzY2hvbGFyPSJodHRwOi8vc2Nob2xhci5nb29nbGUuY29tL3NjaG9sYXI/Y2l0ZXM9MTQwNzYxNjMyNDgxNDA3NDQxMzgmYXNfc2R0PTIwMDUmc2Npb2R0PTAsNSZobD1lbiIsCiAgICBwbGFjZXg9IiIsCikpCgpEQihDaXRhdGlvbigKICAgIGhlcm7hbmRlejIwMTBhLCBiYXNpbGkyMDEwYSwgcmVmPSIiLAogICAgY29udGV4dHM9WwoKICAgIF0sCikpCgonJycsIGNpdGF0aW9ucz0nYmFzaWxpMjAxMGEnKTs=\"));\n",
       "    "
      ],
      "text/plain": [
       "<IPython.core.display.Javascript object>"
      ]
     },
     "metadata": {},
     "output_type": "display_data"
    },
    {
     "data": {
      "application/javascript": [
       "$('span:contains(\"# Temp\")').closest('.cell').remove();"
      ],
      "text/plain": [
       "<IPython.core.display.Javascript object>"
      ]
     },
     "metadata": {},
     "output_type": "display_data"
    },
    {
     "data": {
      "application/javascript": [
       "\n",
       "        $('span:contains(\"# Temp\")').closest('.cell').remove();\n",
       "        var code = IPython.notebook.insert_cell_below('code');\n",
       "        code.set_text(atob(\"IyBUZW1wCmluc2VydCgnJycKaORzdGJhY2thMjAxM2EgPSBEQihXb3JrVW5yZWxhdGVkKAogICAgMjAxMywgIkRldmVsb3BpbmcgTW9kZXJuIGxuZHVzdHJpYWwgQ29udHJvbCBBcHBsaWNhdGlvbnM6IE9uIGxuZm9ybWF0aW9uIE1vZGVscywgTWV0aG9kcyBhbmQgUHJvY2Vzc2VzIGZvciBEaXN0cmlidXRlZCBFbmdpbmVlcmluZyIsCiAgICBkaXNwbGF5PSJo5HN0YmFja2EiLAogICAgYXV0aG9ycz0iSORzdGJhY2thLCBEYXZpZCIsCiAgICBwbGFjZT1GQUtFLAogICAgZW50cnl0eXBlPSJhcnRpY2xlIiwKICAgIElEPSJoYXN0YmFja2EyMDEzZGV2ZWxvcGluZyIsCiAgICBjbHVzdGVyX2lkPSI2NzA1MTM5NjA5MDAwNzQ0MjQ3IiwKICAgIHNjaG9sYXI9Imh0dHA6Ly9zY2hvbGFyLmdvb2dsZS5jb20vc2Nob2xhcj9jaXRlcz02NzA1MTM5NjA5MDAwNzQ0MjQ3JmFzX3NkdD0yMDA1JnNjaW9kdD0wLDUmaGw9ZW4iLAogICAgcGxhY2V4PSJUYW1wZXJlZW4gdGVrbmlsbGluZW4geWxpb3Bpc3RvLiBKdWxrYWlzdS1UYW1wZXJlIFVuaXZlcnNpdHkgb2YgVGVjaG5vbG9neS4gUHVibGljYXRpb247IDExNDMiLAopKQoKREIoQ2l0YXRpb24oCiAgICBo5HN0YmFja2EyMDEzYSwgYmFzaWxpMjAxMGEsIHJlZj0iIiwKICAgIGNvbnRleHRzPVsKCiAgICBdLAopKQoKJycnLCBjaXRhdGlvbnM9J2Jhc2lsaTIwMTBhJyk7\"));\n",
       "    "
      ],
      "text/plain": [
       "<IPython.core.display.Javascript object>"
      ]
     },
     "metadata": {},
     "output_type": "display_data"
    },
    {
     "data": {
      "application/javascript": [
       "$('span:contains(\"# Temp\")').closest('.cell').remove();"
      ],
      "text/plain": [
       "<IPython.core.display.Javascript object>"
      ]
     },
     "metadata": {},
     "output_type": "display_data"
    },
    {
     "data": {
      "application/javascript": [
       "\n",
       "        $('span:contains(\"# Temp\")').closest('.cell').remove();\n",
       "        var code = IPython.notebook.insert_cell_below('code');\n",
       "        code.set_text(atob(\"IyBUZW1wCmluc2VydCgnJycKaORzdGJhY2thMjAxM2EgPSBEQihXb3JrVW5yZWxhdGVkKAogICAgMjAxMywgIkRldmVsb3BpbmcgTW9kZXJuIGxuZHVzdHJpYWwgQ29udHJvbCBBcHBsaWNhdGlvbnM6IE9uIGxuZm9ybWF0aW9uIE1vZGVscywgTWV0aG9kcyBhbmQgUHJvY2Vzc2VzIGZvciBEaXN0cmlidXRlZCBFbmdpbmVlcmluZyIsCiAgICBkaXNwbGF5PSJo5HN0YmFja2EiLAogICAgYXV0aG9ycz0iSORzdGJhY2thLCBEYXZpZCIsCiAgICBwbGFjZT1GQUtFLAogICAgZW50cnl0eXBlPSJhcnRpY2xlIiwKICAgIElEPSJoYXN0YmFja2EyMDEzZGV2ZWxvcGluZyIsCiAgICBjbHVzdGVyX2lkPSI2NzA1MTM5NjA5MDAwNzQ0MjQ3IiwKICAgIHNjaG9sYXI9Imh0dHA6Ly9zY2hvbGFyLmdvb2dsZS5jb20vc2Nob2xhcj9jaXRlcz02NzA1MTM5NjA5MDAwNzQ0MjQ3JmFzX3NkdD0yMDA1JnNjaW9kdD0wLDUmaGw9ZW4iLAogICAgcGxhY2V4PSJUYW1wZXJlZW4gdGVrbmlsbGluZW4geWxpb3Bpc3RvLiBKdWxrYWlzdS1UYW1wZXJlIFVuaXZlcnNpdHkgb2YgVGVjaG5vbG9neS4gUHVibGljYXRpb247IDExNDMiLAopKQoKREIoQ2l0YXRpb24oCiAgICBo5HN0YmFja2EyMDEzYSwgYmFzaWxpMjAxMGEsIHJlZj0iIiwKICAgIGNvbnRleHRzPVsKCiAgICBdLAopKQoKJycnLCBjaXRhdGlvbnM9J2Jhc2lsaTIwMTBhJyk7\"));\n",
       "    "
      ],
      "text/plain": [
       "<IPython.core.display.Javascript object>"
      ]
     },
     "metadata": {},
     "output_type": "display_data"
    },
    {
     "data": {
      "application/javascript": [
       "$('span:contains(\"# Temp\")').closest('.cell').remove();"
      ],
      "text/plain": [
       "<IPython.core.display.Javascript object>"
      ]
     },
     "metadata": {},
     "output_type": "display_data"
    },
    {
     "data": {
      "application/javascript": [
       "\n",
       "        $('span:contains(\"# Temp\")').closest('.cell').remove();\n",
       "        var code = IPython.notebook.insert_cell_below('code');\n",
       "        code.set_text(atob(\"IyBUZW1wCmluc2VydCgnJycKbGVzY2hlcmEyMDEyYSA9IERCKFdvcmtVbnJlbGF0ZWQoCiAgICAyMDEyLCAiUHJvamVjdCBNYW5hZ2VtZW50IE1ldHJpY3MgaW4gdGhlIEFnZSBvZiBHbG9iYWwgU29mdHdhcmUgRW5naW5lZXJpbmciLAogICAgZGlzcGxheT0ibGVzY2hlcmEiLAogICAgYXV0aG9ycz0iTGVzY2hlcmEsIENocmlzdGlhbiBhbmQgTmF1Z2h0b25hLCBIZWxtdXQgYW5kIEJydWVnZ2VhLCBCZXJuZCBhbmQgU2NodWx6YiwgQ2hyaXN0b3BoZXIgYW5kIE5ldWJlcnRiLCBDaHJpc3RpYW4gYW5kIE1hdHRoZXNiLCBGbG9yaWFuIiwKICAgIHBsYWNlPUZBS0UsCiAgICBlbnRyeXR5cGU9ImlucHJvY2VlZGluZ3MiLAogICAgSUQ9Imxlc2NoZXJhMjAxMnByb2plY3QiLAogICAgY2x1c3Rlcl9pZD0iOTk0Mjk5NzYzNDExODUzNTM0NyIsCiAgICBzY2hvbGFyPSJodHRwOi8vc2Nob2xhci5nb29nbGUuY29tL3NjaG9sYXI/Y2l0ZXM9OTk0Mjk5NzYzNDExODUzNTM0NyZhc19zZHQ9MjAwNSZzY2lvZHQ9MCw1JmhsPWVuIiwKICAgIHBsYWNleD0iUHJvY2VlZGluZ3Mgb2YgdGhlIFNvZnR3YXJlIE1ldHJpYyBDb25ncmVzcyAoTWV0cmlLb24pLCBTdHV0dGdhcnQiLAopKQoKREIoQ2l0YXRpb24oCiAgICBsZXNjaGVyYTIwMTJhLCBiYXNpbGkyMDEwYSwgcmVmPSIiLAogICAgY29udGV4dHM9WwoKICAgIF0sCikpCgonJycsIGNpdGF0aW9ucz0nYmFzaWxpMjAxMGEnKTs=\"));\n",
       "    "
      ],
      "text/plain": [
       "<IPython.core.display.Javascript object>"
      ]
     },
     "metadata": {},
     "output_type": "display_data"
    },
    {
     "data": {
      "application/javascript": [
       "$('span:contains(\"# Temp\")').closest('.cell').remove();"
      ],
      "text/plain": [
       "<IPython.core.display.Javascript object>"
      ]
     },
     "metadata": {},
     "output_type": "display_data"
    },
    {
     "data": {
      "application/javascript": [
       "\n",
       "        $('span:contains(\"# Temp\")').closest('.cell').remove();\n",
       "        var code = IPython.notebook.insert_cell_below('code');\n",
       "        code.set_text(atob(\"IyBUZW1wCmluc2VydCgnJycKbGVzY2hlcmEyMDEyYSA9IERCKFdvcmtVbnJlbGF0ZWQoCiAgICAyMDEyLCAiUHJvamVjdCBNYW5hZ2VtZW50IE1ldHJpY3MgaW4gdGhlIEFnZSBvZiBHbG9iYWwgU29mdHdhcmUgRW5naW5lZXJpbmciLAogICAgZGlzcGxheT0ibGVzY2hlcmEiLAogICAgYXV0aG9ycz0iTGVzY2hlcmEsIENocmlzdGlhbiBhbmQgTmF1Z2h0b25hLCBIZWxtdXQgYW5kIEJydWVnZ2VhLCBCZXJuZCBhbmQgU2NodWx6YiwgQ2hyaXN0b3BoZXIgYW5kIE5ldWJlcnRiLCBDaHJpc3RpYW4gYW5kIE1hdHRoZXNiLCBGbG9yaWFuIiwKICAgIHBsYWNlPUZBS0UsCiAgICBlbnRyeXR5cGU9ImlucHJvY2VlZGluZ3MiLAogICAgSUQ9Imxlc2NoZXJhMjAxMnByb2plY3QiLAogICAgY2x1c3Rlcl9pZD0iOTk0Mjk5NzYzNDExODUzNTM0NyIsCiAgICBzY2hvbGFyPSJodHRwOi8vc2Nob2xhci5nb29nbGUuY29tL3NjaG9sYXI/Y2l0ZXM9OTk0Mjk5NzYzNDExODUzNTM0NyZhc19zZHQ9MjAwNSZzY2lvZHQ9MCw1JmhsPWVuIiwKICAgIHBsYWNleD0iUHJvY2VlZGluZ3Mgb2YgdGhlIFNvZnR3YXJlIE1ldHJpYyBDb25ncmVzcyAoTWV0cmlLb24pLCBTdHV0dGdhcnQiLAopKQoKREIoQ2l0YXRpb24oCiAgICBsZXNjaGVyYTIwMTJhLCBiYXNpbGkyMDEwYSwgcmVmPSIiLAogICAgY29udGV4dHM9WwoKICAgIF0sCikpCgonJycsIGNpdGF0aW9ucz0nYmFzaWxpMjAxMGEnKTs=\"));\n",
       "    "
      ],
      "text/plain": [
       "<IPython.core.display.Javascript object>"
      ]
     },
     "metadata": {},
     "output_type": "display_data"
    },
    {
     "data": {
      "application/javascript": [
       "$('span:contains(\"# Temp\")').closest('.cell').remove();"
      ],
      "text/plain": [
       "<IPython.core.display.Javascript object>"
      ]
     },
     "metadata": {},
     "output_type": "display_data"
    },
    {
     "data": {
      "application/javascript": [
       "\n",
       "        $('span:contains(\"# Temp\")').closest('.cell').remove();\n",
       "        var code = IPython.notebook.insert_cell_below('code');\n",
       "        code.set_text(atob(\"IyBUZW1wCmluc2VydCgnJycKZ3VpbmVhMjAxM2EgPSBEQihXb3JrVW5yZWxhdGVkKAogICAgMjAxMywgIkEgRGVzaWduIE1ldGhvZG9sb2d5IGZvciBTb2Z0d2FyZSBNZWFzdXJlbWVudCBQcm9ncmFtcyIsCiAgICBkaXNwbGF5PSJndWluZWEiLAogICAgYXV0aG9ycz0iR3VpbmVhLCBBbGVqYW5kcm8gU2FuY2hleiIsCiAgICBwbGFjZT1GQUtFLAogICAgZW50cnl0eXBlPSJhcnRpY2xlIiwKICAgIElEPSJndWluZWEyMDEzZGVzaWduIiwKICAgIGNsdXN0ZXJfaWQ9IjEzMjMxMTM1NDMyODYxNjY1ODA3IiwKICAgIHNjaG9sYXI9Imh0dHA6Ly9zY2hvbGFyLmdvb2dsZS5jb20vc2Nob2xhcj9jaXRlcz0xMzIzMTEzNTQzMjg2MTY2NTgwNyZhc19zZHQ9MjAwNSZzY2lvZHQ9MCw1JmhsPWVuIiwKICAgIHBsYWNleD0iYXJYaXYgcHJlcHJpbnQgYXJYaXY6MTMwNy40Njk1IiwKKSkKCkRCKENpdGF0aW9uKAogICAgZ3VpbmVhMjAxM2EsIGJhc2lsaTIwMTBhLCByZWY9IiIsCiAgICBjb250ZXh0cz1bCgogICAgXSwKKSkKCicnJywgY2l0YXRpb25zPSdiYXNpbGkyMDEwYScpOw==\"));\n",
       "    "
      ],
      "text/plain": [
       "<IPython.core.display.Javascript object>"
      ]
     },
     "metadata": {},
     "output_type": "display_data"
    },
    {
     "data": {
      "application/javascript": [
       "$('span:contains(\"# Temp\")').closest('.cell').remove();"
      ],
      "text/plain": [
       "<IPython.core.display.Javascript object>"
      ]
     },
     "metadata": {},
     "output_type": "display_data"
    },
    {
     "data": {
      "application/javascript": [
       "\n",
       "        $('span:contains(\"# Temp\")').closest('.cell').remove();\n",
       "        var code = IPython.notebook.insert_cell_below('code');\n",
       "        code.set_text(atob(\"IyBUZW1wCmluc2VydCgnJycKZ3VpbmVhMjAxM2EgPSBEQihXb3JrVW5yZWxhdGVkKAogICAgMjAxMywgIkEgRGVzaWduIE1ldGhvZG9sb2d5IGZvciBTb2Z0d2FyZSBNZWFzdXJlbWVudCBQcm9ncmFtcyIsCiAgICBkaXNwbGF5PSJndWluZWEiLAogICAgYXV0aG9ycz0iR3VpbmVhLCBBbGVqYW5kcm8gU2FuY2hleiIsCiAgICBwbGFjZT1GQUtFLAogICAgZW50cnl0eXBlPSJhcnRpY2xlIiwKICAgIElEPSJndWluZWEyMDEzZGVzaWduIiwKICAgIGNsdXN0ZXJfaWQ9IjEzMjMxMTM1NDMyODYxNjY1ODA3IiwKICAgIHNjaG9sYXI9Imh0dHA6Ly9zY2hvbGFyLmdvb2dsZS5jb20vc2Nob2xhcj9jaXRlcz0xMzIzMTEzNTQzMjg2MTY2NTgwNyZhc19zZHQ9MjAwNSZzY2lvZHQ9MCw1JmhsPWVuIiwKICAgIHBsYWNleD0iYXJYaXYgcHJlcHJpbnQgYXJYaXY6MTMwNy40Njk1IiwKKSkKCkRCKENpdGF0aW9uKAogICAgZ3VpbmVhMjAxM2EsIGJhc2lsaTIwMTBhLCByZWY9IiIsCiAgICBjb250ZXh0cz1bCgogICAgXSwKKSkKCicnJywgY2l0YXRpb25zPSdiYXNpbGkyMDEwYScpOw==\"));\n",
       "    "
      ],
      "text/plain": [
       "<IPython.core.display.Javascript object>"
      ]
     },
     "metadata": {},
     "output_type": "display_data"
    },
    {
     "data": {
      "application/javascript": [
       "$('span:contains(\"# Temp\")').closest('.cell').remove();"
      ],
      "text/plain": [
       "<IPython.core.display.Javascript object>"
      ]
     },
     "metadata": {},
     "output_type": "display_data"
    },
    {
     "data": {
      "application/javascript": [
       "\n",
       "        $('span:contains(\"# Temp\")').closest('.cell').remove();\n",
       "        var code = IPython.notebook.insert_cell_below('code');\n",
       "        code.set_text(atob(\"IyBUZW1wCmluc2VydCgnJycKbPNwZXoyMDE2YiA9IERCKFdvcmtVbnJlbGF0ZWQoCiAgICAyMDE2LCAiR1FNKyBTdHJhdGVnaWVzIGFuZCBJREVBTDogQSBDb21iaW5hdGlvbiBvZiBBcHByb2FjaGVzIHRvIEFjaGlldmUgQ29udGludW91cyBTUEkiLAogICAgZGlzcGxheT0ibPNwZXogYiIsCiAgICBhdXRob3JzPSJM83BleiwgR3VzdGF2byBhbmQgUGFjaGVjbywgQWxleGlhIGFuZCBDb2NvenphLCBGcmFuY2lzY28gYW5kIEdhcmJhbnpvLCBEaWFuYSBhbmQgQXltZXJpY2gsIEJyZW5kYSBhbmQgTWFy7W4sIEdhYnJpZWxhIiwKICAgIHBsYWNlPUlDUEZTUEksCiAgICBwcD0iMzExLS0zMjYiLAogICAgZW50cnl0eXBlPSJpbnByb2NlZWRpbmdzIiwKICAgIG9yZ2FuaXphdGlvbj0iU3ByaW5nZXIiLAogICAgSUQ9ImxvcGV6MjAxNmdxbSsiLAogICAgY2x1c3Rlcl9pZD0iMTExNzAyNTM1MTY4NjQ5MDk2NzQiLAogICAgc2Nob2xhcj0iaHR0cDovL3NjaG9sYXIuZ29vZ2xlLmNvbS9zY2hvbGFyP2NpdGVzPTExMTcwMjUzNTE2ODY0OTA5Njc0JmFzX3NkdD0yMDA1JnNjaW9kdD0wLDUmaGw9ZW4iLAogICAgcGxhY2V4PSJJbnRlcm5hdGlvbmFsIENvbmZlcmVuY2Ugb24gUHJvZHVjdC1Gb2N1c2VkIFNvZnR3YXJlIFByb2Nlc3MgSW1wcm92ZW1lbnQiLAopKQoKREIoQ2l0YXRpb24oCiAgICBs83BlejIwMTZiLCBiYXNpbGkyMDEwYSwgcmVmPSIiLAogICAgY29udGV4dHM9WwoKICAgIF0sCikpCgonJycsIGNpdGF0aW9ucz0nYmFzaWxpMjAxMGEnKTs=\"));\n",
       "    "
      ],
      "text/plain": [
       "<IPython.core.display.Javascript object>"
      ]
     },
     "metadata": {},
     "output_type": "display_data"
    },
    {
     "data": {
      "application/javascript": [
       "$('span:contains(\"# Temp\")').closest('.cell').remove();"
      ],
      "text/plain": [
       "<IPython.core.display.Javascript object>"
      ]
     },
     "metadata": {},
     "output_type": "display_data"
    },
    {
     "data": {
      "application/javascript": [
       "\n",
       "        $('span:contains(\"# Temp\")').closest('.cell').remove();\n",
       "        var code = IPython.notebook.insert_cell_below('code');\n",
       "        code.set_text(atob(\"IyBUZW1wCmluc2VydCgnJycKbPNwZXoyMDE2YiA9IERCKFdvcmtVbnJlbGF0ZWQoCiAgICAyMDE2LCAiR1FNKyBTdHJhdGVnaWVzIGFuZCBJREVBTDogQSBDb21iaW5hdGlvbiBvZiBBcHByb2FjaGVzIHRvIEFjaGlldmUgQ29udGludW91cyBTUEkiLAogICAgZGlzcGxheT0ibPNwZXogYiIsCiAgICBhdXRob3JzPSJM83BleiwgR3VzdGF2byBhbmQgUGFjaGVjbywgQWxleGlhIGFuZCBDb2NvenphLCBGcmFuY2lzY28gYW5kIEdhcmJhbnpvLCBEaWFuYSBhbmQgQXltZXJpY2gsIEJyZW5kYSBhbmQgTWFy7W4sIEdhYnJpZWxhIiwKICAgIHBsYWNlPUlDUEZTUEksCiAgICBwcD0iMzExLS0zMjYiLAogICAgZW50cnl0eXBlPSJpbnByb2NlZWRpbmdzIiwKICAgIG9yZ2FuaXphdGlvbj0iU3ByaW5nZXIiLAogICAgSUQ9ImxvcGV6MjAxNmdxbSsiLAogICAgY2x1c3Rlcl9pZD0iMTExNzAyNTM1MTY4NjQ5MDk2NzQiLAogICAgc2Nob2xhcj0iaHR0cDovL3NjaG9sYXIuZ29vZ2xlLmNvbS9zY2hvbGFyP2NpdGVzPTExMTcwMjUzNTE2ODY0OTA5Njc0JmFzX3NkdD0yMDA1JnNjaW9kdD0wLDUmaGw9ZW4iLAogICAgcGxhY2V4PSJJbnRlcm5hdGlvbmFsIENvbmZlcmVuY2Ugb24gUHJvZHVjdC1Gb2N1c2VkIFNvZnR3YXJlIFByb2Nlc3MgSW1wcm92ZW1lbnQiLAopKQoKREIoQ2l0YXRpb24oCiAgICBs83BlejIwMTZiLCBiYXNpbGkyMDEwYSwgcmVmPSIiLAogICAgY29udGV4dHM9WwoKICAgIF0sCikpCgonJycsIGNpdGF0aW9ucz0nYmFzaWxpMjAxMGEnKTs=\"));\n",
       "    "
      ],
      "text/plain": [
       "<IPython.core.display.Javascript object>"
      ]
     },
     "metadata": {},
     "output_type": "display_data"
    },
    {
     "data": {
      "application/javascript": [
       "$('span:contains(\"# Temp\")').closest('.cell').remove();"
      ],
      "text/plain": [
       "<IPython.core.display.Javascript object>"
      ]
     },
     "metadata": {},
     "output_type": "display_data"
    },
    {
     "data": {
      "application/javascript": [
       "\n",
       "        $('span:contains(\"# Temp\")').closest('.cell').remove();\n",
       "        var code = IPython.notebook.insert_cell_below('code');\n",
       "        code.set_text(atob(\"IyBUZW1wCmluc2VydCgnJycKamFuZXMyMDE0YSA9IERCKFdvcmtVbnJlbGF0ZWQoCiAgICAyMDE0LCAiVGhlIEdRTSsgU3RyYXRlZ2llcyBhcHByb2FjaCIsCiAgICBkaXNwbGF5PSJqYW5lcyIsCiAgICBhdXRob3JzPSJKYW5lcywgQW5kcmVhIGFuZCBTdWNjaSwgR2lhbmNhcmxvIiwKICAgIHBsYWNlPUZBS0UsCiAgICBwcD0iMTUxLS0xNzAiLAogICAgZW50cnl0eXBlPSJpbmNvbGxlY3Rpb24iLAogICAgcHVibGlzaGVyPSJTcHJpbmdlciIsCiAgICBJRD0iamFuZXMyMDE0Z3FtKyIsCiAgICBjbHVzdGVyX2lkPSI0Njk0NzA2Njg0NDgxNzQ4OTI5IiwKICAgIHNjaG9sYXI9Imh0dHA6Ly9zY2hvbGFyLmdvb2dsZS5jb20vc2Nob2xhcj9jaXRlcz00Njk0NzA2Njg0NDgxNzQ4OTI5JmFzX3NkdD0yMDA1JnNjaW9kdD0wLDUmaGw9ZW4iLAogICAgcGxhY2V4PSJMZWFuIFNvZnR3YXJlIERldmVsb3BtZW50IGluIEFjdGlvbiIsCikpCgpEQihDaXRhdGlvbigKICAgIGphbmVzMjAxNGEsIGJhc2lsaTIwMTBhLCByZWY9IiIsCiAgICBjb250ZXh0cz1bCgogICAgXSwKKSkKCicnJywgY2l0YXRpb25zPSdiYXNpbGkyMDEwYScpOw==\"));\n",
       "    "
      ],
      "text/plain": [
       "<IPython.core.display.Javascript object>"
      ]
     },
     "metadata": {},
     "output_type": "display_data"
    },
    {
     "data": {
      "application/javascript": [
       "$('span:contains(\"# Temp\")').closest('.cell').remove();"
      ],
      "text/plain": [
       "<IPython.core.display.Javascript object>"
      ]
     },
     "metadata": {},
     "output_type": "display_data"
    },
    {
     "data": {
      "application/javascript": [
       "\n",
       "        $('span:contains(\"# Temp\")').closest('.cell').remove();\n",
       "        var code = IPython.notebook.insert_cell_below('code');\n",
       "        code.set_text(atob(\"IyBUZW1wCmluc2VydCgnJycKamFuZXMyMDE0YSA9IERCKFdvcmtVbnJlbGF0ZWQoCiAgICAyMDE0LCAiVGhlIEdRTSsgU3RyYXRlZ2llcyBhcHByb2FjaCIsCiAgICBkaXNwbGF5PSJqYW5lcyIsCiAgICBhdXRob3JzPSJKYW5lcywgQW5kcmVhIGFuZCBTdWNjaSwgR2lhbmNhcmxvIiwKICAgIHBsYWNlPUZBS0UsCiAgICBwcD0iMTUxLS0xNzAiLAogICAgZW50cnl0eXBlPSJpbmNvbGxlY3Rpb24iLAogICAgcHVibGlzaGVyPSJTcHJpbmdlciIsCiAgICBJRD0iamFuZXMyMDE0Z3FtKyIsCiAgICBjbHVzdGVyX2lkPSI0Njk0NzA2Njg0NDgxNzQ4OTI5IiwKICAgIHNjaG9sYXI9Imh0dHA6Ly9zY2hvbGFyLmdvb2dsZS5jb20vc2Nob2xhcj9jaXRlcz00Njk0NzA2Njg0NDgxNzQ4OTI5JmFzX3NkdD0yMDA1JnNjaW9kdD0wLDUmaGw9ZW4iLAogICAgcGxhY2V4PSJMZWFuIFNvZnR3YXJlIERldmVsb3BtZW50IGluIEFjdGlvbiIsCikpCgpEQihDaXRhdGlvbigKICAgIGphbmVzMjAxNGEsIGJhc2lsaTIwMTBhLCByZWY9IiIsCiAgICBjb250ZXh0cz1bCgogICAgXSwKKSkKCicnJywgY2l0YXRpb25zPSdiYXNpbGkyMDEwYScpOw==\"));\n",
       "    "
      ],
      "text/plain": [
       "<IPython.core.display.Javascript object>"
      ]
     },
     "metadata": {},
     "output_type": "display_data"
    },
    {
     "data": {
      "application/javascript": [
       "$('span:contains(\"# Temp\")').closest('.cell').remove();"
      ],
      "text/plain": [
       "<IPython.core.display.Javascript object>"
      ]
     },
     "metadata": {},
     "output_type": "display_data"
    },
    {
     "data": {
      "application/javascript": [
       "\n",
       "        $('span:contains(\"# Temp\")').closest('.cell').remove();\n",
       "        var code = IPython.notebook.insert_cell_below('code');\n",
       "        code.set_text(atob(\"IyBUZW1wCmluc2VydCgnJycKb3NhZGNoeXkyMDEzYSA9IERCKFdvcmtVbnJlbGF0ZWQoCiAgICAyMDEzLCAiTmF0dXJhbCBzeXN0ZW1hdGljIGFwcHJvYWNoZXMgdG8gb2Zmc2hvcmUgc29mdHdhcmUgZGV2ZWxvcG1lbnQgb3Bwb3J0dW5pdGllcyBiZXlvdW5kIHRyYWRpdGlvbmFsIGJlbmVmaXRzOiBBIGdyb3VuZGVkIHRoZW9yeSBzdHVkeSIsCiAgICBkaXNwbGF5PSJvc2FkY2h5eSIsCiAgICBhdXRob3JzPSJPc2FkY2h5eSwgT2xla3NhbmRyIiwKICAgIHBsYWNlPVRoZXNpcywKICAgIGVudHJ5dHlwZT0icGhkdGhlc2lzIiwKICAgIElEPSJvc2FkY2h5eTIwMTNuYXR1cmFsIiwKICAgIGNsdXN0ZXJfaWQ9Ijc4MjQ4NDA3NzkyODAwMzM0ODYiLAogICAgc2Nob2xhcj0iaHR0cDovL3NjaG9sYXIuZ29vZ2xlLmNvbS9zY2hvbGFyP2NpdGVzPTc4MjQ4NDA3NzkyODAwMzM0ODYmYXNfc2R0PTIwMDUmc2Npb2R0PTAsNSZobD1lbiIsCiAgICBsb2NhbD0iVW5pdmVyc2l0eSBvZiBQaG9lbml4IiwKICAgIHBsYWNleD0iIiwKKSkKCkRCKENpdGF0aW9uKAogICAgb3NhZGNoeXkyMDEzYSwgYmFzaWxpMjAxMGEsIHJlZj0iIiwKICAgIGNvbnRleHRzPVsKCiAgICBdLAopKQoKJycnLCBjaXRhdGlvbnM9J2Jhc2lsaTIwMTBhJyk7\"));\n",
       "    "
      ],
      "text/plain": [
       "<IPython.core.display.Javascript object>"
      ]
     },
     "metadata": {},
     "output_type": "display_data"
    },
    {
     "data": {
      "application/javascript": [
       "$('span:contains(\"# Temp\")').closest('.cell').remove();"
      ],
      "text/plain": [
       "<IPython.core.display.Javascript object>"
      ]
     },
     "metadata": {},
     "output_type": "display_data"
    },
    {
     "data": {
      "application/javascript": [
       "\n",
       "        $('span:contains(\"# Temp\")').closest('.cell').remove();\n",
       "        var code = IPython.notebook.insert_cell_below('code');\n",
       "        code.set_text(atob(\"IyBUZW1wCmluc2VydCgnJycKb3NhZGNoeXkyMDEzYSA9IERCKFdvcmtVbnJlbGF0ZWQoCiAgICAyMDEzLCAiTmF0dXJhbCBzeXN0ZW1hdGljIGFwcHJvYWNoZXMgdG8gb2Zmc2hvcmUgc29mdHdhcmUgZGV2ZWxvcG1lbnQgb3Bwb3J0dW5pdGllcyBiZXlvdW5kIHRyYWRpdGlvbmFsIGJlbmVmaXRzOiBBIGdyb3VuZGVkIHRoZW9yeSBzdHVkeSIsCiAgICBkaXNwbGF5PSJvc2FkY2h5eSIsCiAgICBhdXRob3JzPSJPc2FkY2h5eSwgT2xla3NhbmRyIiwKICAgIHBsYWNlPVRoZXNpcywKICAgIGVudHJ5dHlwZT0icGhkdGhlc2lzIiwKICAgIElEPSJvc2FkY2h5eTIwMTNuYXR1cmFsIiwKICAgIGNsdXN0ZXJfaWQ9Ijc4MjQ4NDA3NzkyODAwMzM0ODYiLAogICAgc2Nob2xhcj0iaHR0cDovL3NjaG9sYXIuZ29vZ2xlLmNvbS9zY2hvbGFyP2NpdGVzPTc4MjQ4NDA3NzkyODAwMzM0ODYmYXNfc2R0PTIwMDUmc2Npb2R0PTAsNSZobD1lbiIsCiAgICBsb2NhbD0iVW5pdmVyc2l0eSBvZiBQaG9lbml4IiwKICAgIHBsYWNleD0iIiwKKSkKCkRCKENpdGF0aW9uKAogICAgb3NhZGNoeXkyMDEzYSwgYmFzaWxpMjAxMGEsIHJlZj0iIiwKICAgIGNvbnRleHRzPVsKCiAgICBdLAopKQoKJycnLCBjaXRhdGlvbnM9J2Jhc2lsaTIwMTBhJyk7\"));\n",
       "    "
      ],
      "text/plain": [
       "<IPython.core.display.Javascript object>"
      ]
     },
     "metadata": {},
     "output_type": "display_data"
    },
    {
     "data": {
      "application/javascript": [
       "$('span:contains(\"# Temp\")').closest('.cell').remove();"
      ],
      "text/plain": [
       "<IPython.core.display.Javascript object>"
      ]
     },
     "metadata": {},
     "output_type": "display_data"
    },
    {
     "data": {
      "application/javascript": [
       "\n",
       "        $('span:contains(\"# Temp\")').closest('.cell').remove();\n",
       "        var code = IPython.notebook.insert_cell_below('code');\n",
       "        code.set_text(atob(\"IyBUZW1wCmluc2VydCgnJycKREIoQ2l0YXRpb24oCiAgICBs83BlejIwMTZhLCBiYXNpbGkyMDEwYSwgcmVmPSIiLAogICAgY29udGV4dHM9WwoKICAgIF0sCikpCgonJycsIGNpdGF0aW9ucz0nYmFzaWxpMjAxMGEnKTsKc2V0X2F0dHJpYnV0ZSgnbPNwZXoyMDE2YScsICdleGNlcnB0JywgJ0Fic3RyYWN0IFRlY2hub2xvZ2ljYWwgYXBwbGljYXRpb25zIGhhdmUgYW4gaW5jcmVhc2luZ2x5IGltcG9ydGFudCByb2xlIGluIG1vc3QgY29tcGFuaWVzLiBJbnZlc3RtZW50IGluIEluZm9ybWF0aW9uIFRlY2hub2xvZ2llcyAoSVQpIGlzIGFsc28gZ3Jvd2luZyBpbiBtb3N0IG9mIHRoZW0uIFRoZSBuZWVkIHRvIGFsaWduIElULXJlbGF0ZWQgZ29hbHMgd2l0aCB0aGUgY29tcGFueSdzIHN0cmF0ZWdpYyBnb2FscyBiZWNvbWVzIGltcGVyYXRpdmUuIEdRTSsgJyk7\"));\n",
       "    "
      ],
      "text/plain": [
       "<IPython.core.display.Javascript object>"
      ]
     },
     "metadata": {},
     "output_type": "display_data"
    },
    {
     "data": {
      "application/javascript": [
       "$('span:contains(\"# Temp\")').closest('.cell').remove();"
      ],
      "text/plain": [
       "<IPython.core.display.Javascript object>"
      ]
     },
     "metadata": {},
     "output_type": "display_data"
    },
    {
     "data": {
      "application/javascript": [
       "\n",
       "        $('span:contains(\"# Temp\")').closest('.cell').remove();\n",
       "        var code = IPython.notebook.insert_cell_below('code');\n",
       "        code.set_text(atob(\"IyBUZW1wCmluc2VydCgnJycKREIoQ2l0YXRpb24oCiAgICBs83BlejIwMTZhLCBiYXNpbGkyMDEwYSwgcmVmPSIiLAogICAgY29udGV4dHM9WwoKICAgIF0sCikpCgonJycsIGNpdGF0aW9ucz0nYmFzaWxpMjAxMGEnKTsKc2V0X2F0dHJpYnV0ZSgnbPNwZXoyMDE2YScsICdleGNlcnB0JywgJ0Fic3RyYWN0IFRlY2hub2xvZ2ljYWwgYXBwbGljYXRpb25zIGhhdmUgYW4gaW5jcmVhc2luZ2x5IGltcG9ydGFudCByb2xlIGluIG1vc3QgY29tcGFuaWVzLiBJbnZlc3RtZW50IGluIEluZm9ybWF0aW9uIFRlY2hub2xvZ2llcyAoSVQpIGlzIGFsc28gZ3Jvd2luZyBpbiBtb3N0IG9mIHRoZW0uIFRoZSBuZWVkIHRvIGFsaWduIElULXJlbGF0ZWQgZ29hbHMgd2l0aCB0aGUgY29tcGFueSdzIHN0cmF0ZWdpYyBnb2FscyBiZWNvbWVzIGltcGVyYXRpdmUuIEdRTSsgJyk7\"));\n",
       "    "
      ],
      "text/plain": [
       "<IPython.core.display.Javascript object>"
      ]
     },
     "metadata": {},
     "output_type": "display_data"
    },
    {
     "data": {
      "application/javascript": [
       "$('span:contains(\"# Temp\")').closest('.cell').remove();"
      ],
      "text/plain": [
       "<IPython.core.display.Javascript object>"
      ]
     },
     "metadata": {},
     "output_type": "display_data"
    },
    {
     "data": {
      "application/javascript": [
       "\n",
       "        $('span:contains(\"# Temp\")').closest('.cell').remove();\n",
       "        var code = IPython.notebook.insert_cell_below('code');\n",
       "        code.set_text(atob(\"IyBUZW1wCmluc2VydCgnJycKYWhtYWQyMDE2YSA9IERCKFdvcmtVbnJlbGF0ZWQoCiAgICAyMDE2LCAiR29hbCBPcmllbnRlZCBNZWFzdXJlbWVudCBmb3IgU29mdHdhcmUgU3VzdGFpbmFibGUgRXZhbHVhdGlvbiBNZXRyaWMgRm9jdXNlZCBvbiBFbnZpcm9ubWVudGFsIERpbWVuc2lvbiIsCiAgICBkaXNwbGF5PSJhaG1hZCIsCiAgICBhdXRob3JzPSJBaG1hZCwgUnV6aXRhIGFuZCBCYWhhcm9tLCBGYXV6aWFoIGFuZCBIdXNzYWluLCBBemhhbSIsCiAgICBwbGFjZT1GQUtFLAogICAgZW50cnl0eXBlPSJpbnByb2NlZWRpbmdzIiwKICAgIElEPSJhaG1hZDIwMTZnb2FsIiwKICAgIGNsdXN0ZXJfaWQ9IjEyNTMxMTExNzc5MjM3NzExNDcwIiwKICAgIHNjaG9sYXI9Imh0dHA6Ly9zY2hvbGFyLmdvb2dsZS5jb20vc2Nob2xhcj9jaXRlcz0xMjUzMTExMTc3OTIzNzcxMTQ3MCZhc19zZHQ9MjAwNSZzY2lvZHQ9MCw1JmhsPWVuIiwKICAgIHBsYWNleD0iS25vd2xlZGdlIE1hbmFnZW1lbnQgSW50ZXJuYXRpb25hbCBDb25mZXJlbmNlIChLTUlDZSkgMjAxNiwgMjktLTMwIEF1Z3VzdCAyMDE2LCBNYWxheXNpYSBodHRwOi8vd3d3LiBrbWljZS4gY21zLiBuZXQuIG15IiwKKSkKCkRCKENpdGF0aW9uKAogICAgYWhtYWQyMDE2YSwgYmFzaWxpMjAxMGEsIHJlZj0iIiwKICAgIGNvbnRleHRzPVsKCiAgICBdLAopKQoKJycnLCBjaXRhdGlvbnM9J2Jhc2lsaTIwMTBhJyk7\"));\n",
       "    "
      ],
      "text/plain": [
       "<IPython.core.display.Javascript object>"
      ]
     },
     "metadata": {},
     "output_type": "display_data"
    },
    {
     "data": {
      "application/javascript": [
       "$('span:contains(\"# Temp\")').closest('.cell').remove();"
      ],
      "text/plain": [
       "<IPython.core.display.Javascript object>"
      ]
     },
     "metadata": {},
     "output_type": "display_data"
    },
    {
     "data": {
      "application/javascript": [
       "\n",
       "        $('span:contains(\"# Temp\")').closest('.cell').remove();\n",
       "        var code = IPython.notebook.insert_cell_below('code');\n",
       "        code.set_text(atob(\"IyBUZW1wCmluc2VydCgnJycKYWhtYWQyMDE2YSA9IERCKFdvcmtVbnJlbGF0ZWQoCiAgICAyMDE2LCAiR29hbCBPcmllbnRlZCBNZWFzdXJlbWVudCBmb3IgU29mdHdhcmUgU3VzdGFpbmFibGUgRXZhbHVhdGlvbiBNZXRyaWMgRm9jdXNlZCBvbiBFbnZpcm9ubWVudGFsIERpbWVuc2lvbiIsCiAgICBkaXNwbGF5PSJhaG1hZCIsCiAgICBhdXRob3JzPSJBaG1hZCwgUnV6aXRhIGFuZCBCYWhhcm9tLCBGYXV6aWFoIGFuZCBIdXNzYWluLCBBemhhbSIsCiAgICBwbGFjZT1GQUtFLAogICAgZW50cnl0eXBlPSJpbnByb2NlZWRpbmdzIiwKICAgIElEPSJhaG1hZDIwMTZnb2FsIiwKICAgIGNsdXN0ZXJfaWQ9IjEyNTMxMTExNzc5MjM3NzExNDcwIiwKICAgIHNjaG9sYXI9Imh0dHA6Ly9zY2hvbGFyLmdvb2dsZS5jb20vc2Nob2xhcj9jaXRlcz0xMjUzMTExMTc3OTIzNzcxMTQ3MCZhc19zZHQ9MjAwNSZzY2lvZHQ9MCw1JmhsPWVuIiwKICAgIHBsYWNleD0iS25vd2xlZGdlIE1hbmFnZW1lbnQgSW50ZXJuYXRpb25hbCBDb25mZXJlbmNlIChLTUlDZSkgMjAxNiwgMjktLTMwIEF1Z3VzdCAyMDE2LCBNYWxheXNpYSBodHRwOi8vd3d3LiBrbWljZS4gY21zLiBuZXQuIG15IiwKKSkKCkRCKENpdGF0aW9uKAogICAgYWhtYWQyMDE2YSwgYmFzaWxpMjAxMGEsIHJlZj0iIiwKICAgIGNvbnRleHRzPVsKCiAgICBdLAopKQoKJycnLCBjaXRhdGlvbnM9J2Jhc2lsaTIwMTBhJyk7\"));\n",
       "    "
      ],
      "text/plain": [
       "<IPython.core.display.Javascript object>"
      ]
     },
     "metadata": {},
     "output_type": "display_data"
    },
    {
     "data": {
      "application/javascript": [
       "$('span:contains(\"# Temp\")').closest('.cell').remove();"
      ],
      "text/plain": [
       "<IPython.core.display.Javascript object>"
      ]
     },
     "metadata": {},
     "output_type": "display_data"
    },
    {
     "data": {
      "application/javascript": [
       "\n",
       "        $('span:contains(\"# Temp\")').closest('.cell').remove();\n",
       "        var code = IPython.notebook.insert_cell_below('code');\n",
       "        code.set_text(atob(\"IyBUZW1wCmluc2VydCgnJycKcGFwYTIwMTZhID0gREIoV29ya1VucmVsYXRlZCgKICAgIDIwMTYsICJFdmFsdWF0aW9uIGFuZCBJbXByb3ZlbWVudCBvZiBhbiBPcmdhbml6YXRpb25hbCBSZXNvdXJjZSBhcHBseWluZyBTdHJhdGVneSBQYXR0ZXJucyIsCiAgICBkaXNwbGF5PSJwYXBhIiwKICAgIGF1dGhvcnM9IlBhcGEsIE1hcmlhIEZlcm5hbmRhIGFuZCBSaXZlcmEsIEJlbGVuIGFuZCBCZWNrZXIsIFBhYmxvIGFuZCBPbHNpbmEsIEx1aXMiLAogICAgcGxhY2U9RkFLRSwKICAgIHBwPSIxMjgiLAogICAgZW50cnl0eXBlPSJhcnRpY2xlIiwKICAgIHZvbHVtZT0iOSIsCiAgICBudW1iZXI9IjA0IiwKICAgIHB1Ymxpc2hlcj0iU2NpZW50aWZpYyBSZXNlYXJjaCBQdWJsaXNoaW5nIiwKICAgIElEPSJwYXBhMjAxNmV2YWx1YXRpb24iLAogICAgY2x1c3Rlcl9pZD0iMzkxMzU0ODQ4NzQ1NzkwNTU4NyIsCiAgICBzY2hvbGFyPSJodHRwOi8vc2Nob2xhci5nb29nbGUuY29tL3NjaG9sYXI/Y2l0ZXM9MzkxMzU0ODQ4NzQ1NzkwNTU4NyZhc19zZHQ9MjAwNSZzY2lvZHQ9MCw1JmhsPWVuIiwKICAgIHBsYWNleD0iSm91cm5hbCBvZiBTb2Z0d2FyZSBFbmdpbmVlcmluZyBhbmQgQXBwbGljYXRpb25zIiwKKSkKCkRCKENpdGF0aW9uKAogICAgcGFwYTIwMTZhLCBiYXNpbGkyMDEwYSwgcmVmPSIiLAogICAgY29udGV4dHM9WwoKICAgIF0sCikpCgonJycsIGNpdGF0aW9ucz0nYmFzaWxpMjAxMGEnKTs=\"));\n",
       "    "
      ],
      "text/plain": [
       "<IPython.core.display.Javascript object>"
      ]
     },
     "metadata": {},
     "output_type": "display_data"
    },
    {
     "data": {
      "application/javascript": [
       "$('span:contains(\"# Temp\")').closest('.cell').remove();"
      ],
      "text/plain": [
       "<IPython.core.display.Javascript object>"
      ]
     },
     "metadata": {},
     "output_type": "display_data"
    },
    {
     "data": {
      "application/javascript": [
       "\n",
       "        $('span:contains(\"# Temp\")').closest('.cell').remove();\n",
       "        var code = IPython.notebook.insert_cell_below('code');\n",
       "        code.set_text(atob(\"IyBUZW1wCmluc2VydCgnJycKcGFwYTIwMTZhID0gREIoV29ya1VucmVsYXRlZCgKICAgIDIwMTYsICJFdmFsdWF0aW9uIGFuZCBJbXByb3ZlbWVudCBvZiBhbiBPcmdhbml6YXRpb25hbCBSZXNvdXJjZSBhcHBseWluZyBTdHJhdGVneSBQYXR0ZXJucyIsCiAgICBkaXNwbGF5PSJwYXBhIiwKICAgIGF1dGhvcnM9IlBhcGEsIE1hcmlhIEZlcm5hbmRhIGFuZCBSaXZlcmEsIEJlbGVuIGFuZCBCZWNrZXIsIFBhYmxvIGFuZCBPbHNpbmEsIEx1aXMiLAogICAgcGxhY2U9RkFLRSwKICAgIHBwPSIxMjgiLAogICAgZW50cnl0eXBlPSJhcnRpY2xlIiwKICAgIHZvbHVtZT0iOSIsCiAgICBudW1iZXI9IjA0IiwKICAgIHB1Ymxpc2hlcj0iU2NpZW50aWZpYyBSZXNlYXJjaCBQdWJsaXNoaW5nIiwKICAgIElEPSJwYXBhMjAxNmV2YWx1YXRpb24iLAogICAgY2x1c3Rlcl9pZD0iMzkxMzU0ODQ4NzQ1NzkwNTU4NyIsCiAgICBzY2hvbGFyPSJodHRwOi8vc2Nob2xhci5nb29nbGUuY29tL3NjaG9sYXI/Y2l0ZXM9MzkxMzU0ODQ4NzQ1NzkwNTU4NyZhc19zZHQ9MjAwNSZzY2lvZHQ9MCw1JmhsPWVuIiwKICAgIHBsYWNleD0iSm91cm5hbCBvZiBTb2Z0d2FyZSBFbmdpbmVlcmluZyBhbmQgQXBwbGljYXRpb25zIiwKKSkKCkRCKENpdGF0aW9uKAogICAgcGFwYTIwMTZhLCBiYXNpbGkyMDEwYSwgcmVmPSIiLAogICAgY29udGV4dHM9WwoKICAgIF0sCikpCgonJycsIGNpdGF0aW9ucz0nYmFzaWxpMjAxMGEnKTs=\"));\n",
       "    "
      ],
      "text/plain": [
       "<IPython.core.display.Javascript object>"
      ]
     },
     "metadata": {},
     "output_type": "display_data"
    },
    {
     "data": {
      "application/javascript": [
       "$('span:contains(\"# Temp\")').closest('.cell').remove();"
      ],
      "text/plain": [
       "<IPython.core.display.Javascript object>"
      ]
     },
     "metadata": {},
     "output_type": "display_data"
    },
    {
     "data": {
      "application/javascript": [
       "\n",
       "        $('span:contains(\"# Temp\")').closest('.cell').remove();\n",
       "        var code = IPython.notebook.insert_cell_below('code');\n",
       "        code.set_text(atob(\"IyBUZW1wCmluc2VydCgnJycKa2V0dHVuZW4yMDE0YSA9IERCKFdvcmtVbnJlbGF0ZWQoCiAgICAyMDE0LCAiUmVhbGl6aW5nIGFnaWxlIHNvZnR3YXJlIGVudGVycHJpc2UgdHJhbnNmb3JtYXRpb25zIGJ5IHRlYW0gcGVyZm9ybWFuY2UgZGV2ZWxvcG1lbnQiLAogICAgZGlzcGxheT0ia2V0dHVuZW4iLAogICAgYXV0aG9ycz0iS2V0dHVuZW4sIFBldHJpIiwKICAgIHBsYWNlPUZBS0UsCiAgICBwcD0iMjg1LS0yOTMiLAogICAgZW50cnl0eXBlPSJpbnByb2NlZWRpbmdzIiwKICAgIG9yZ2FuaXphdGlvbj0iU3ByaW5nZXIiLAogICAgSUQ9ImtldHR1bmVuMjAxNHJlYWxpemluZyIsCiAgICBjbHVzdGVyX2lkPSIxNjYzODQ0NTA4ODM0MDg2NTU3NiIsCiAgICBzY2hvbGFyPSJodHRwOi8vc2Nob2xhci5nb29nbGUuY29tL3NjaG9sYXI/Y2l0ZXM9MTY2Mzg0NDUwODgzNDA4NjU1NzYmYXNfc2R0PTIwMDUmc2Npb2R0PTAsNSZobD1lbiIsCiAgICBwbGFjZXg9IkludGVybmF0aW9uYWwgQ29uZmVyZW5jZSBvbiBBZ2lsZSBTb2Z0d2FyZSBEZXZlbG9wbWVudCIsCikpCgpEQihDaXRhdGlvbigKICAgIGtldHR1bmVuMjAxNGEsIGJhc2lsaTIwMTBhLCByZWY9IiIsCiAgICBjb250ZXh0cz1bCgogICAgXSwKKSkKCicnJywgY2l0YXRpb25zPSdiYXNpbGkyMDEwYScpOw==\"));\n",
       "    "
      ],
      "text/plain": [
       "<IPython.core.display.Javascript object>"
      ]
     },
     "metadata": {},
     "output_type": "display_data"
    },
    {
     "data": {
      "application/javascript": [
       "$('span:contains(\"# Temp\")').closest('.cell').remove();"
      ],
      "text/plain": [
       "<IPython.core.display.Javascript object>"
      ]
     },
     "metadata": {},
     "output_type": "display_data"
    },
    {
     "data": {
      "application/javascript": [
       "\n",
       "        $('span:contains(\"# Temp\")').closest('.cell').remove();\n",
       "        var code = IPython.notebook.insert_cell_below('code');\n",
       "        code.set_text(atob(\"IyBUZW1wCmluc2VydCgnJycKa2V0dHVuZW4yMDE0YSA9IERCKFdvcmtVbnJlbGF0ZWQoCiAgICAyMDE0LCAiUmVhbGl6aW5nIGFnaWxlIHNvZnR3YXJlIGVudGVycHJpc2UgdHJhbnNmb3JtYXRpb25zIGJ5IHRlYW0gcGVyZm9ybWFuY2UgZGV2ZWxvcG1lbnQiLAogICAgZGlzcGxheT0ia2V0dHVuZW4iLAogICAgYXV0aG9ycz0iS2V0dHVuZW4sIFBldHJpIiwKICAgIHBsYWNlPUZBS0UsCiAgICBwcD0iMjg1LS0yOTMiLAogICAgZW50cnl0eXBlPSJpbnByb2NlZWRpbmdzIiwKICAgIG9yZ2FuaXphdGlvbj0iU3ByaW5nZXIiLAogICAgSUQ9ImtldHR1bmVuMjAxNHJlYWxpemluZyIsCiAgICBjbHVzdGVyX2lkPSIxNjYzODQ0NTA4ODM0MDg2NTU3NiIsCiAgICBzY2hvbGFyPSJodHRwOi8vc2Nob2xhci5nb29nbGUuY29tL3NjaG9sYXI/Y2l0ZXM9MTY2Mzg0NDUwODgzNDA4NjU1NzYmYXNfc2R0PTIwMDUmc2Npb2R0PTAsNSZobD1lbiIsCiAgICBwbGFjZXg9IkludGVybmF0aW9uYWwgQ29uZmVyZW5jZSBvbiBBZ2lsZSBTb2Z0d2FyZSBEZXZlbG9wbWVudCIsCikpCgpEQihDaXRhdGlvbigKICAgIGtldHR1bmVuMjAxNGEsIGJhc2lsaTIwMTBhLCByZWY9IiIsCiAgICBjb250ZXh0cz1bCgogICAgXSwKKSkKCicnJywgY2l0YXRpb25zPSdiYXNpbGkyMDEwYScpOw==\"));\n",
       "    "
      ],
      "text/plain": [
       "<IPython.core.display.Javascript object>"
      ]
     },
     "metadata": {},
     "output_type": "display_data"
    },
    {
     "data": {
      "application/javascript": [
       "$('span:contains(\"# Temp\")').closest('.cell').remove();"
      ],
      "text/plain": [
       "<IPython.core.display.Javascript object>"
      ]
     },
     "metadata": {},
     "output_type": "display_data"
    },
    {
     "data": {
      "application/javascript": [
       "\n",
       "        $('span:contains(\"# Temp\")').closest('.cell').remove();\n",
       "        var code = IPython.notebook.insert_cell_below('code');\n",
       "        code.set_text(atob(\"IyBUZW1wCmluc2VydCgnJycKREIoQ2l0YXRpb24oCiAgICBtYW5kaT8yMDE3YSwgYmFzaWxpMjAxMGEsIHJlZj0iIiwKICAgIGNvbnRleHRzPVsKCiAgICBdLAopKQoKJycnLCBjaXRhdGlvbnM9J2Jhc2lsaTIwMTBhJyk7CnNldF9hdHRyaWJ1dGUoJ21hbmRpPzIwMTdhJywgJ2V4Y2VycHQnLCAnQWJzdHJhY3QgQ29udGV4dDogU3VjY2Vzc2Z1bCBvcmdhbml6YXRpb25zIG5lZWQgdG8gbWFuYWdlIGFuZCBzeW5jaHJvbml6ZSB0aGVpciBzdHJhdGVnaWMgb2JqZWN0aXZlcyB3aXRoIGRhaWx5IG9wZXJhdGlvbnMgYW5kIGFjdGl2aXRpZXMuIEluIGdlbmVyYWwsIGFjaGlldmluZyB0aGF0IHJlcXVpcmVzIGEgY29udGludW91cyBwcm9jZXNzIG9mIG9yZ2FuaXphdGlvbmFsIGFsaWdubWVudC4gR1FNKyBTdHJhdGVnaWVzIGlzIGFuIGFwcHJvYWNoIHRoYXQgaGVscHMgJyk7\"));\n",
       "    "
      ],
      "text/plain": [
       "<IPython.core.display.Javascript object>"
      ]
     },
     "metadata": {},
     "output_type": "display_data"
    },
    {
     "data": {
      "application/javascript": [
       "$('span:contains(\"# Temp\")').closest('.cell').remove();"
      ],
      "text/plain": [
       "<IPython.core.display.Javascript object>"
      ]
     },
     "metadata": {},
     "output_type": "display_data"
    },
    {
     "data": {
      "application/javascript": [
       "\n",
       "        $('span:contains(\"# Temp\")').closest('.cell').remove();\n",
       "        var code = IPython.notebook.insert_cell_below('code');\n",
       "        code.set_text(atob(\"IyBUZW1wCmluc2VydCgnJycKREIoQ2l0YXRpb24oCiAgICBtYW5kaT8yMDE3YSwgYmFzaWxpMjAxMGEsIHJlZj0iIiwKICAgIGNvbnRleHRzPVsKCiAgICBdLAopKQoKJycnLCBjaXRhdGlvbnM9J2Jhc2lsaTIwMTBhJyk7CnNldF9hdHRyaWJ1dGUoJ21hbmRpPzIwMTdhJywgJ2V4Y2VycHQnLCAnQWJzdHJhY3QgQ29udGV4dDogU3VjY2Vzc2Z1bCBvcmdhbml6YXRpb25zIG5lZWQgdG8gbWFuYWdlIGFuZCBzeW5jaHJvbml6ZSB0aGVpciBzdHJhdGVnaWMgb2JqZWN0aXZlcyB3aXRoIGRhaWx5IG9wZXJhdGlvbnMgYW5kIGFjdGl2aXRpZXMuIEluIGdlbmVyYWwsIGFjaGlldmluZyB0aGF0IHJlcXVpcmVzIGEgY29udGludW91cyBwcm9jZXNzIG9mIG9yZ2FuaXphdGlvbmFsIGFsaWdubWVudC4gR1FNKyBTdHJhdGVnaWVzIGlzIGFuIGFwcHJvYWNoIHRoYXQgaGVscHMgJyk7\"));\n",
       "    "
      ],
      "text/plain": [
       "<IPython.core.display.Javascript object>"
      ]
     },
     "metadata": {},
     "output_type": "display_data"
    },
    {
     "data": {
      "application/javascript": [
       "$('span:contains(\"# Temp\")').closest('.cell').remove();"
      ],
      "text/plain": [
       "<IPython.core.display.Javascript object>"
      ]
     },
     "metadata": {},
     "output_type": "display_data"
    },
    {
     "data": {
      "application/javascript": [
       "\n",
       "        $('span:contains(\"# Temp\")').closest('.cell').remove();\n",
       "        var code = IPython.notebook.insert_cell_below('code');\n",
       "        code.set_text(atob(\"IyBUZW1wCmluc2VydCgnJycKZWJuZXIyMDE0YSA9IERCKFdvcmtVbnJlbGF0ZWQoCiAgICAyMDE0LCAiSVR7ez99fSBTIE5PVCBGQUlSISBBIE1VTFRJTEVWRUwgQ09OQ0VQVFVBTElaQVRJT04gT0YgU1RSQVRFR0lDIElUIEJFTkNITUFSS0lORyBTVUNDRVNTOiBUSEUgUk9MRSBPRiBQUk9DRURVUkFMIEpVU1RJQ0UiLAogICAgZGlzcGxheT0iZWJuZXIiLAogICAgYXV0aG9ycz0iRWJuZXIsIEthdGhhcmluYSIsCiAgICBwbGFjZT1GQUtFLAogICAgZW50cnl0eXBlPSJhcnRpY2xlIiwKICAgIElEPSJlYm5lcjIwMTRzIiwKICAgIGNsdXN0ZXJfaWQ9IjQ4MDEzNzY3NzY5MTgyNjc2MDIiLAogICAgc2Nob2xhcj0iaHR0cDovL3NjaG9sYXIuZ29vZ2xlLmNvbS9zY2hvbGFyP2NpdGVzPTQ4MDEzNzY3NzY5MTgyNjc2MDImYXNfc2R0PTIwMDUmc2Npb2R0PTAsNSZobD1lbiIsCiAgICBwbGFjZXg9IiIsCikpCgpEQihDaXRhdGlvbigKICAgIGVibmVyMjAxNGEsIGJhc2lsaTIwMTBhLCByZWY9IiIsCiAgICBjb250ZXh0cz1bCgogICAgXSwKKSkKCicnJywgY2l0YXRpb25zPSdiYXNpbGkyMDEwYScpOw==\"));\n",
       "    "
      ],
      "text/plain": [
       "<IPython.core.display.Javascript object>"
      ]
     },
     "metadata": {},
     "output_type": "display_data"
    },
    {
     "data": {
      "application/javascript": [
       "$('span:contains(\"# Temp\")').closest('.cell').remove();"
      ],
      "text/plain": [
       "<IPython.core.display.Javascript object>"
      ]
     },
     "metadata": {},
     "output_type": "display_data"
    },
    {
     "data": {
      "application/javascript": [
       "\n",
       "        $('span:contains(\"# Temp\")').closest('.cell').remove();\n",
       "        var code = IPython.notebook.insert_cell_below('code');\n",
       "        code.set_text(atob(\"IyBUZW1wCmluc2VydCgnJycKZWJuZXIyMDE0YSA9IERCKFdvcmtVbnJlbGF0ZWQoCiAgICAyMDE0LCAiSVR7ez99fSBTIE5PVCBGQUlSISBBIE1VTFRJTEVWRUwgQ09OQ0VQVFVBTElaQVRJT04gT0YgU1RSQVRFR0lDIElUIEJFTkNITUFSS0lORyBTVUNDRVNTOiBUSEUgUk9MRSBPRiBQUk9DRURVUkFMIEpVU1RJQ0UiLAogICAgZGlzcGxheT0iZWJuZXIiLAogICAgYXV0aG9ycz0iRWJuZXIsIEthdGhhcmluYSIsCiAgICBwbGFjZT1GQUtFLAogICAgZW50cnl0eXBlPSJhcnRpY2xlIiwKICAgIElEPSJlYm5lcjIwMTRzIiwKICAgIGNsdXN0ZXJfaWQ9IjQ4MDEzNzY3NzY5MTgyNjc2MDIiLAogICAgc2Nob2xhcj0iaHR0cDovL3NjaG9sYXIuZ29vZ2xlLmNvbS9zY2hvbGFyP2NpdGVzPTQ4MDEzNzY3NzY5MTgyNjc2MDImYXNfc2R0PTIwMDUmc2Npb2R0PTAsNSZobD1lbiIsCiAgICBwbGFjZXg9IiIsCikpCgpEQihDaXRhdGlvbigKICAgIGVibmVyMjAxNGEsIGJhc2lsaTIwMTBhLCByZWY9IiIsCiAgICBjb250ZXh0cz1bCgogICAgXSwKKSkKCicnJywgY2l0YXRpb25zPSdiYXNpbGkyMDEwYScpOw==\"));\n",
       "    "
      ],
      "text/plain": [
       "<IPython.core.display.Javascript object>"
      ]
     },
     "metadata": {},
     "output_type": "display_data"
    },
    {
     "data": {
      "application/javascript": [
       "$('span:contains(\"# Temp\")').closest('.cell').remove();"
      ],
      "text/plain": [
       "<IPython.core.display.Javascript object>"
      ]
     },
     "metadata": {},
     "output_type": "display_data"
    },
    {
     "data": {
      "application/javascript": [
       "\n",
       "        $('span:contains(\"# Temp\")').closest('.cell').remove();\n",
       "        var code = IPython.notebook.insert_cell_below('code');\n",
       "        code.set_text(atob(\"IyBUZW1wCmluc2VydCgnJycKbGF2YXp6YTIwMTNhID0gREIoV29ya1VucmVsYXRlZCgKICAgIDIwMTMsICJCdXNpbmVzcyBnb2FscywgdXNlciBuZWVkcywgYW5kIHJlcXVpcmVtZW50czogQSBwcm9ibGVtIGZyYW1lLWJhc2VkIHZpZXciLAogICAgZGlzcGxheT0ibGF2YXp6YSIsCiAgICBhdXRob3JzPSJMYXZhenphLCBMdWlnaSIsCiAgICBwbGFjZT1GQUtFLAogICAgcHA9IjIxNS0tMjMyIiwKICAgIGVudHJ5dHlwZT0iYXJ0aWNsZSIsCiAgICB2b2x1bWU9IjMwIiwKICAgIG51bWJlcj0iMyIsCiAgICBwdWJsaXNoZXI9IldpbGV5IE9ubGluZSBMaWJyYXJ5IiwKICAgIElEPSJsYXZhenphMjAxM2J1c2luZXNzIiwKICAgIGNsdXN0ZXJfaWQ9IjI1MDQ1NzIxNDUxNzM0OTQ0MSIsCiAgICBzY2hvbGFyPSJodHRwOi8vc2Nob2xhci5nb29nbGUuY29tL3NjaG9sYXI/Y2l0ZXM9MjUwNDU3MjE0NTE3MzQ5NDQxJmFzX3NkdD0yMDA1JnNjaW9kdD0wLDUmaGw9ZW4iLAogICAgcGxhY2V4PSJFeHBlcnQgU3lzdGVtcyIsCikpCgpEQihDaXRhdGlvbigKICAgIGxhdmF6emEyMDEzYSwgYmFzaWxpMjAxMGEsIHJlZj0iIiwKICAgIGNvbnRleHRzPVsKCiAgICBdLAopKQoKJycnLCBjaXRhdGlvbnM9J2Jhc2lsaTIwMTBhJyk7\"));\n",
       "    "
      ],
      "text/plain": [
       "<IPython.core.display.Javascript object>"
      ]
     },
     "metadata": {},
     "output_type": "display_data"
    },
    {
     "data": {
      "application/javascript": [
       "$('span:contains(\"# Temp\")').closest('.cell').remove();"
      ],
      "text/plain": [
       "<IPython.core.display.Javascript object>"
      ]
     },
     "metadata": {},
     "output_type": "display_data"
    },
    {
     "data": {
      "application/javascript": [
       "\n",
       "        $('span:contains(\"# Temp\")').closest('.cell').remove();\n",
       "        var code = IPython.notebook.insert_cell_below('code');\n",
       "        code.set_text(atob(\"IyBUZW1wCmluc2VydCgnJycKbGF2YXp6YTIwMTNhID0gREIoV29ya1VucmVsYXRlZCgKICAgIDIwMTMsICJCdXNpbmVzcyBnb2FscywgdXNlciBuZWVkcywgYW5kIHJlcXVpcmVtZW50czogQSBwcm9ibGVtIGZyYW1lLWJhc2VkIHZpZXciLAogICAgZGlzcGxheT0ibGF2YXp6YSIsCiAgICBhdXRob3JzPSJMYXZhenphLCBMdWlnaSIsCiAgICBwbGFjZT1GQUtFLAogICAgcHA9IjIxNS0tMjMyIiwKICAgIGVudHJ5dHlwZT0iYXJ0aWNsZSIsCiAgICB2b2x1bWU9IjMwIiwKICAgIG51bWJlcj0iMyIsCiAgICBwdWJsaXNoZXI9IldpbGV5IE9ubGluZSBMaWJyYXJ5IiwKICAgIElEPSJsYXZhenphMjAxM2J1c2luZXNzIiwKICAgIGNsdXN0ZXJfaWQ9IjI1MDQ1NzIxNDUxNzM0OTQ0MSIsCiAgICBzY2hvbGFyPSJodHRwOi8vc2Nob2xhci5nb29nbGUuY29tL3NjaG9sYXI/Y2l0ZXM9MjUwNDU3MjE0NTE3MzQ5NDQxJmFzX3NkdD0yMDA1JnNjaW9kdD0wLDUmaGw9ZW4iLAogICAgcGxhY2V4PSJFeHBlcnQgU3lzdGVtcyIsCikpCgpEQihDaXRhdGlvbigKICAgIGxhdmF6emEyMDEzYSwgYmFzaWxpMjAxMGEsIHJlZj0iIiwKICAgIGNvbnRleHRzPVsKCiAgICBdLAopKQoKJycnLCBjaXRhdGlvbnM9J2Jhc2lsaTIwMTBhJyk7\"));\n",
       "    "
      ],
      "text/plain": [
       "<IPython.core.display.Javascript object>"
      ]
     },
     "metadata": {},
     "output_type": "display_data"
    },
    {
     "data": {
      "application/javascript": [
       "$('span:contains(\"# Temp\")').closest('.cell').remove();"
      ],
      "text/plain": [
       "<IPython.core.display.Javascript object>"
      ]
     },
     "metadata": {},
     "output_type": "display_data"
    },
    {
     "data": {
      "application/javascript": [
       "\n",
       "        $('span:contains(\"# Temp\")').closest('.cell').remove();\n",
       "        var code = IPython.notebook.insert_cell_below('code');\n",
       "        code.set_text(atob(\"IyBUZW1wCmluc2VydCgnJycKaGVpZHJpY2gyMDEzYSA9IERCKFdvcmtVbnJlbGF0ZWQoCiAgICAyMDEzLCAiQ29udGludW91cyBQcm9jZXNzIEltcHJvdmVtZW50IiwKICAgIGRpc3BsYXk9ImhlaWRyaWNoIiwKICAgIGF1dGhvcnM9IkhlaWRyaWNoLCBKZW5zIiwKICAgIHBsYWNlPUZBS0UsCiAgICBwcD0iMTExLS0xMjkiLAogICAgZW50cnl0eXBlPSJpbmNvbGxlY3Rpb24iLAogICAgcHVibGlzaGVyPSJTcHJpbmdlciIsCiAgICBJRD0iaGVpZHJpY2gyMDEzY29udGludW91cyIsCiAgICBjbHVzdGVyX2lkPSIzNTQzMzQwODUyOTAwMjc1MzcxIiwKICAgIHNjaG9sYXI9Imh0dHA6Ly9zY2hvbGFyLmdvb2dsZS5jb20vc2Nob2xhcj9jaXRlcz0zNTQzMzQwODUyOTAwMjc1MzcxJmFzX3NkdD0yMDA1JnNjaW9kdD0wLDUmaGw9ZW4iLAogICAgcGxhY2V4PSJQZXJzcGVjdGl2ZXMgb24gdGhlIEZ1dHVyZSBvZiBTb2Z0d2FyZSBFbmdpbmVlcmluZyIsCikpCgpEQihDaXRhdGlvbigKICAgIGhlaWRyaWNoMjAxM2EsIGJhc2lsaTIwMTBhLCByZWY9IiIsCiAgICBjb250ZXh0cz1bCgogICAgXSwKKSkKCicnJywgY2l0YXRpb25zPSdiYXNpbGkyMDEwYScpOw==\"));\n",
       "    "
      ],
      "text/plain": [
       "<IPython.core.display.Javascript object>"
      ]
     },
     "metadata": {},
     "output_type": "display_data"
    },
    {
     "data": {
      "application/javascript": [
       "$('span:contains(\"# Temp\")').closest('.cell').remove();"
      ],
      "text/plain": [
       "<IPython.core.display.Javascript object>"
      ]
     },
     "metadata": {},
     "output_type": "display_data"
    },
    {
     "data": {
      "application/javascript": [
       "\n",
       "        $('span:contains(\"# Temp\")').closest('.cell').remove();\n",
       "        var code = IPython.notebook.insert_cell_below('code');\n",
       "        code.set_text(atob(\"IyBUZW1wCmluc2VydCgnJycKaGVpZHJpY2gyMDEzYSA9IERCKFdvcmtVbnJlbGF0ZWQoCiAgICAyMDEzLCAiQ29udGludW91cyBQcm9jZXNzIEltcHJvdmVtZW50IiwKICAgIGRpc3BsYXk9ImhlaWRyaWNoIiwKICAgIGF1dGhvcnM9IkhlaWRyaWNoLCBKZW5zIiwKICAgIHBsYWNlPUZBS0UsCiAgICBwcD0iMTExLS0xMjkiLAogICAgZW50cnl0eXBlPSJpbmNvbGxlY3Rpb24iLAogICAgcHVibGlzaGVyPSJTcHJpbmdlciIsCiAgICBJRD0iaGVpZHJpY2gyMDEzY29udGludW91cyIsCiAgICBjbHVzdGVyX2lkPSIzNTQzMzQwODUyOTAwMjc1MzcxIiwKICAgIHNjaG9sYXI9Imh0dHA6Ly9zY2hvbGFyLmdvb2dsZS5jb20vc2Nob2xhcj9jaXRlcz0zNTQzMzQwODUyOTAwMjc1MzcxJmFzX3NkdD0yMDA1JnNjaW9kdD0wLDUmaGw9ZW4iLAogICAgcGxhY2V4PSJQZXJzcGVjdGl2ZXMgb24gdGhlIEZ1dHVyZSBvZiBTb2Z0d2FyZSBFbmdpbmVlcmluZyIsCikpCgpEQihDaXRhdGlvbigKICAgIGhlaWRyaWNoMjAxM2EsIGJhc2lsaTIwMTBhLCByZWY9IiIsCiAgICBjb250ZXh0cz1bCgogICAgXSwKKSkKCicnJywgY2l0YXRpb25zPSdiYXNpbGkyMDEwYScpOw==\"));\n",
       "    "
      ],
      "text/plain": [
       "<IPython.core.display.Javascript object>"
      ]
     },
     "metadata": {},
     "output_type": "display_data"
    },
    {
     "data": {
      "application/javascript": [
       "$('span:contains(\"# Temp\")').closest('.cell').remove();"
      ],
      "text/plain": [
       "<IPython.core.display.Javascript object>"
      ]
     },
     "metadata": {},
     "output_type": "display_data"
    },
    {
     "data": {
      "application/javascript": [
       "\n",
       "        $('span:contains(\"# Temp\")').closest('.cell').remove();\n",
       "        var code = IPython.notebook.insert_cell_below('code');\n",
       "        code.set_text(atob(\"IyBUZW1wCmluc2VydCgnJycKa291bWFkaXRpczIwMTVhID0gREIoV29ya1VucmVsYXRlZCgKICAgIDIwMTUsICJBIGRldGFpbGVkIGZyYW1ld29yayBmb3IgU09BIGdvdmVybmFuY2UiLAogICAgZGlzcGxheT0ia291bWFkaXRpcyIsCiAgICBhdXRob3JzPSJLb3VtYWRpdGlzLCBLb25zdGFudGlub3MgYW5kIFRoZW1pc3RvY2xlb3VzLCBNYXJpbm9zIiwKICAgIHBsYWNlPUZBS0UsCiAgICBwcD0iNTItLTc0IiwKICAgIGVudHJ5dHlwZT0iYXJ0aWNsZSIsCiAgICB2b2x1bWU9IjUiLAogICAgbnVtYmVyPSIzIiwKICAgIHB1Ymxpc2hlcj0iSUdJIEdsb2JhbCIsCiAgICBJRD0ia291bWFkaXRpczIwMTVkZXRhaWxlZCIsCiAgICBjbHVzdGVyX2lkPSIyMjkwNzM0MDI0OTM3Mjg5NjY2IiwKICAgIHNjaG9sYXI9Imh0dHA6Ly9zY2hvbGFyLmdvb2dsZS5jb20vc2Nob2xhcj9jaXRlcz0yMjkwNzM0MDI0OTM3Mjg5NjY2JmFzX3NkdD0yMDA1JnNjaW9kdD0wLDUmaGw9ZW4iLAogICAgcGxhY2V4PSJJbnRlcm5hdGlvbmFsIEpvdXJuYWwgb2YgU3lzdGVtcyBhbmQgU2VydmljZS1PcmllbnRlZCBFbmdpbmVlcmluZyAoSUpTU09FKSIsCikpCgpEQihDaXRhdGlvbigKICAgIGtvdW1hZGl0aXMyMDE1YSwgYmFzaWxpMjAxMGEsIHJlZj0iIiwKICAgIGNvbnRleHRzPVsKCiAgICBdLAopKQoKJycnLCBjaXRhdGlvbnM9J2Jhc2lsaTIwMTBhJyk7\"));\n",
       "    "
      ],
      "text/plain": [
       "<IPython.core.display.Javascript object>"
      ]
     },
     "metadata": {},
     "output_type": "display_data"
    },
    {
     "data": {
      "application/javascript": [
       "$('span:contains(\"# Temp\")').closest('.cell').remove();"
      ],
      "text/plain": [
       "<IPython.core.display.Javascript object>"
      ]
     },
     "metadata": {},
     "output_type": "display_data"
    },
    {
     "data": {
      "application/javascript": [
       "\n",
       "        $('span:contains(\"# Temp\")').closest('.cell').remove();\n",
       "        var code = IPython.notebook.insert_cell_below('code');\n",
       "        code.set_text(atob(\"IyBUZW1wCmluc2VydCgnJycKa291bWFkaXRpczIwMTVhID0gREIoV29ya1VucmVsYXRlZCgKICAgIDIwMTUsICJBIGRldGFpbGVkIGZyYW1ld29yayBmb3IgU09BIGdvdmVybmFuY2UiLAogICAgZGlzcGxheT0ia291bWFkaXRpcyIsCiAgICBhdXRob3JzPSJLb3VtYWRpdGlzLCBLb25zdGFudGlub3MgYW5kIFRoZW1pc3RvY2xlb3VzLCBNYXJpbm9zIiwKICAgIHBsYWNlPUZBS0UsCiAgICBwcD0iNTItLTc0IiwKICAgIGVudHJ5dHlwZT0iYXJ0aWNsZSIsCiAgICB2b2x1bWU9IjUiLAogICAgbnVtYmVyPSIzIiwKICAgIHB1Ymxpc2hlcj0iSUdJIEdsb2JhbCIsCiAgICBJRD0ia291bWFkaXRpczIwMTVkZXRhaWxlZCIsCiAgICBjbHVzdGVyX2lkPSIyMjkwNzM0MDI0OTM3Mjg5NjY2IiwKICAgIHNjaG9sYXI9Imh0dHA6Ly9zY2hvbGFyLmdvb2dsZS5jb20vc2Nob2xhcj9jaXRlcz0yMjkwNzM0MDI0OTM3Mjg5NjY2JmFzX3NkdD0yMDA1JnNjaW9kdD0wLDUmaGw9ZW4iLAogICAgcGxhY2V4PSJJbnRlcm5hdGlvbmFsIEpvdXJuYWwgb2YgU3lzdGVtcyBhbmQgU2VydmljZS1PcmllbnRlZCBFbmdpbmVlcmluZyAoSUpTU09FKSIsCikpCgpEQihDaXRhdGlvbigKICAgIGtvdW1hZGl0aXMyMDE1YSwgYmFzaWxpMjAxMGEsIHJlZj0iIiwKICAgIGNvbnRleHRzPVsKCiAgICBdLAopKQoKJycnLCBjaXRhdGlvbnM9J2Jhc2lsaTIwMTBhJyk7\"));\n",
       "    "
      ],
      "text/plain": [
       "<IPython.core.display.Javascript object>"
      ]
     },
     "metadata": {},
     "output_type": "display_data"
    },
    {
     "data": {
      "application/javascript": [
       "$('span:contains(\"# Temp\")').closest('.cell').remove();"
      ],
      "text/plain": [
       "<IPython.core.display.Javascript object>"
      ]
     },
     "metadata": {},
     "output_type": "display_data"
    },
    {
     "data": {
      "application/javascript": [
       "\n",
       "        $('span:contains(\"# Temp\")').closest('.cell').remove();\n",
       "        var code = IPython.notebook.insert_cell_below('code');\n",
       "        code.set_text(atob(\"IyBUZW1wCmluc2VydCgnJycKY29jb3p6YTIwMTRhID0gREIoV29ya1VucmVsYXRlZCgKICAgIDIwMTQsICJBcHBsaWNhdGlvbiBvZiBHUU0rIFN0cmF0ZWdpZXMgaW4gYSBzbWFsbCBzb2Z0d2FyZSBkZXZlbG9wbWVudCB1bml0IiwKICAgIGRpc3BsYXk9ImNvY296emEiLAogICAgYXV0aG9ycz0iQ29jb3p6YSwgRnJhbmNpc2NvIGFuZCBCcmVuZXMsIEVucmlxdWUgYW5kIEhlcnJlcmEsIEd1c3Rhdm8gTPNwZXogYW5kIEplbmtpbnMsIE1hcmNlbG8gYW5kIE1hcnTtbmV6LCBBbGV4YW5kcmEiLAogICAgcGxhY2U9SUNQRlNQSSwKICAgIHBwPSIxMDgtLTExOCIsCiAgICBlbnRyeXR5cGU9ImlucHJvY2VlZGluZ3MiLAogICAgb3JnYW5pemF0aW9uPSJTcHJpbmdlciIsCiAgICBJRD0iY29jb3p6YTIwMTRhcHBsaWNhdGlvbiIsCiAgICBjbHVzdGVyX2lkPSIxMTQyMTUxOTk0NTcyNjc0MzgxMSIsCiAgICBzY2hvbGFyPSJodHRwOi8vc2Nob2xhci5nb29nbGUuY29tL3NjaG9sYXI/Y2l0ZXM9MTE0MjE1MTk5NDU3MjY3NDM4MTEmYXNfc2R0PTIwMDUmc2Npb2R0PTAsNSZobD1lbiIsCiAgICBwbGFjZXg9IkludGVybmF0aW9uYWwgQ29uZmVyZW5jZSBvbiBQcm9kdWN0LUZvY3VzZWQgU29mdHdhcmUgUHJvY2VzcyBJbXByb3ZlbWVudCIsCikpCgpEQihDaXRhdGlvbigKICAgIGNvY296emEyMDE0YSwgYmFzaWxpMjAxMGEsIHJlZj0iIiwKICAgIGNvbnRleHRzPVsKCiAgICBdLAopKQoKJycnLCBjaXRhdGlvbnM9J2Jhc2lsaTIwMTBhJyk7\"));\n",
       "    "
      ],
      "text/plain": [
       "<IPython.core.display.Javascript object>"
      ]
     },
     "metadata": {},
     "output_type": "display_data"
    },
    {
     "data": {
      "application/javascript": [
       "$('span:contains(\"# Temp\")').closest('.cell').remove();"
      ],
      "text/plain": [
       "<IPython.core.display.Javascript object>"
      ]
     },
     "metadata": {},
     "output_type": "display_data"
    },
    {
     "data": {
      "application/javascript": [
       "\n",
       "        $('span:contains(\"# Temp\")').closest('.cell').remove();\n",
       "        var code = IPython.notebook.insert_cell_below('code');\n",
       "        code.set_text(atob(\"IyBUZW1wCmluc2VydCgnJycKY29jb3p6YTIwMTRhID0gREIoV29ya1VucmVsYXRlZCgKICAgIDIwMTQsICJBcHBsaWNhdGlvbiBvZiBHUU0rIFN0cmF0ZWdpZXMgaW4gYSBzbWFsbCBzb2Z0d2FyZSBkZXZlbG9wbWVudCB1bml0IiwKICAgIGRpc3BsYXk9ImNvY296emEiLAogICAgYXV0aG9ycz0iQ29jb3p6YSwgRnJhbmNpc2NvIGFuZCBCcmVuZXMsIEVucmlxdWUgYW5kIEhlcnJlcmEsIEd1c3Rhdm8gTPNwZXogYW5kIEplbmtpbnMsIE1hcmNlbG8gYW5kIE1hcnTtbmV6LCBBbGV4YW5kcmEiLAogICAgcGxhY2U9SUNQRlNQSSwKICAgIHBwPSIxMDgtLTExOCIsCiAgICBlbnRyeXR5cGU9ImlucHJvY2VlZGluZ3MiLAogICAgb3JnYW5pemF0aW9uPSJTcHJpbmdlciIsCiAgICBJRD0iY29jb3p6YTIwMTRhcHBsaWNhdGlvbiIsCiAgICBjbHVzdGVyX2lkPSIxMTQyMTUxOTk0NTcyNjc0MzgxMSIsCiAgICBzY2hvbGFyPSJodHRwOi8vc2Nob2xhci5nb29nbGUuY29tL3NjaG9sYXI/Y2l0ZXM9MTE0MjE1MTk5NDU3MjY3NDM4MTEmYXNfc2R0PTIwMDUmc2Npb2R0PTAsNSZobD1lbiIsCiAgICBwbGFjZXg9IkludGVybmF0aW9uYWwgQ29uZmVyZW5jZSBvbiBQcm9kdWN0LUZvY3VzZWQgU29mdHdhcmUgUHJvY2VzcyBJbXByb3ZlbWVudCIsCikpCgpEQihDaXRhdGlvbigKICAgIGNvY296emEyMDE0YSwgYmFzaWxpMjAxMGEsIHJlZj0iIiwKICAgIGNvbnRleHRzPVsKCiAgICBdLAopKQoKJycnLCBjaXRhdGlvbnM9J2Jhc2lsaTIwMTBhJyk7\"));\n",
       "    "
      ],
      "text/plain": [
       "<IPython.core.display.Javascript object>"
      ]
     },
     "metadata": {},
     "output_type": "display_data"
    },
    {
     "data": {
      "application/javascript": [
       "$('span:contains(\"# Temp\")').closest('.cell').remove();"
      ],
      "text/plain": [
       "<IPython.core.display.Javascript object>"
      ]
     },
     "metadata": {},
     "output_type": "display_data"
    },
    {
     "data": {
      "application/javascript": [
       "\n",
       "        $('span:contains(\"# Temp\")').closest('.cell').remove();\n",
       "        var code = IPython.notebook.insert_cell_below('code');\n",
       "        code.set_text(atob(\"IyBUZW1wCmluc2VydCgnJycKbWFyY2EyMDEwYSA9IERCKFdvcmtVbnJlbGF0ZWQoCiAgICAyMDEwLCAiRS1CdXNpbmVzcyBhbmQgU29jaWFsIE5ldHdvcmtzOiBUYXBwaW5nIER5bmFtaWMgTmljaGUgTWFya2V0cyBVc2luZyBMYW5ndWFnZS1BY3Rpb24gYW5kIEFydGlmaWNpYWwgSW50ZWxsaWdlbmNlIiwKICAgIGRpc3BsYXk9Im1hcmNhIiwKICAgIGF1dGhvcnM9Ik1hcmNhLCBEYXZpZCBBIiwKICAgIHBsYWNlPUZBS0UsCiAgICBwcD0iMy0tMjMiLAogICAgZW50cnl0eXBlPSJpbnByb2NlZWRpbmdzIiwKICAgIG9yZ2FuaXphdGlvbj0iU3ByaW5nZXIiLAogICAgSUQ9Im1hcmNhMjAxMGJ1c2luZXNzIiwKICAgIGNsdXN0ZXJfaWQ9IjMwMjk4MTY2NDAyNjU0OTQyMzciLAogICAgc2Nob2xhcj0iaHR0cDovL3NjaG9sYXIuZ29vZ2xlLmNvbS9zY2hvbGFyP2NpdGVzPTMwMjk4MTY2NDAyNjU0OTQyMzcmYXNfc2R0PTIwMDUmc2Npb2R0PTAsNSZobD1lbiIsCiAgICBwbGFjZXg9IkludGVybmF0aW9uYWwgQ29uZmVyZW5jZSBvbiBTb2Z0d2FyZSBhbmQgRGF0YSBUZWNobm9sb2dpZXMiLAopKQoKREIoQ2l0YXRpb24oCiAgICBtYXJjYTIwMTBhLCBiYXNpbGkyMDEwYSwgcmVmPSIiLAogICAgY29udGV4dHM9WwoKICAgIF0sCikpCgonJycsIGNpdGF0aW9ucz0nYmFzaWxpMjAxMGEnKTs=\"));\n",
       "    "
      ],
      "text/plain": [
       "<IPython.core.display.Javascript object>"
      ]
     },
     "metadata": {},
     "output_type": "display_data"
    },
    {
     "data": {
      "application/javascript": [
       "$('span:contains(\"# Temp\")').closest('.cell').remove();"
      ],
      "text/plain": [
       "<IPython.core.display.Javascript object>"
      ]
     },
     "metadata": {},
     "output_type": "display_data"
    },
    {
     "data": {
      "application/javascript": [
       "\n",
       "        $('span:contains(\"# Temp\")').closest('.cell').remove();\n",
       "        var code = IPython.notebook.insert_cell_below('code');\n",
       "        code.set_text(atob(\"IyBUZW1wCmluc2VydCgnJycKbWFyY2EyMDEwYSA9IERCKFdvcmtVbnJlbGF0ZWQoCiAgICAyMDEwLCAiRS1CdXNpbmVzcyBhbmQgU29jaWFsIE5ldHdvcmtzOiBUYXBwaW5nIER5bmFtaWMgTmljaGUgTWFya2V0cyBVc2luZyBMYW5ndWFnZS1BY3Rpb24gYW5kIEFydGlmaWNpYWwgSW50ZWxsaWdlbmNlIiwKICAgIGRpc3BsYXk9Im1hcmNhIiwKICAgIGF1dGhvcnM9Ik1hcmNhLCBEYXZpZCBBIiwKICAgIHBsYWNlPUZBS0UsCiAgICBwcD0iMy0tMjMiLAogICAgZW50cnl0eXBlPSJpbnByb2NlZWRpbmdzIiwKICAgIG9yZ2FuaXphdGlvbj0iU3ByaW5nZXIiLAogICAgSUQ9Im1hcmNhMjAxMGJ1c2luZXNzIiwKICAgIGNsdXN0ZXJfaWQ9IjMwMjk4MTY2NDAyNjU0OTQyMzciLAogICAgc2Nob2xhcj0iaHR0cDovL3NjaG9sYXIuZ29vZ2xlLmNvbS9zY2hvbGFyP2NpdGVzPTMwMjk4MTY2NDAyNjU0OTQyMzcmYXNfc2R0PTIwMDUmc2Npb2R0PTAsNSZobD1lbiIsCiAgICBwbGFjZXg9IkludGVybmF0aW9uYWwgQ29uZmVyZW5jZSBvbiBTb2Z0d2FyZSBhbmQgRGF0YSBUZWNobm9sb2dpZXMiLAopKQoKREIoQ2l0YXRpb24oCiAgICBtYXJjYTIwMTBhLCBiYXNpbGkyMDEwYSwgcmVmPSIiLAogICAgY29udGV4dHM9WwoKICAgIF0sCikpCgonJycsIGNpdGF0aW9ucz0nYmFzaWxpMjAxMGEnKTs=\"));\n",
       "    "
      ],
      "text/plain": [
       "<IPython.core.display.Javascript object>"
      ]
     },
     "metadata": {},
     "output_type": "display_data"
    },
    {
     "data": {
      "application/javascript": [
       "$('span:contains(\"# Temp\")').closest('.cell').remove();"
      ],
      "text/plain": [
       "<IPython.core.display.Javascript object>"
      ]
     },
     "metadata": {},
     "output_type": "display_data"
    },
    {
     "data": {
      "application/javascript": [
       "\n",
       "        $('span:contains(\"# Temp\")').closest('.cell').remove();\n",
       "        var code = IPython.notebook.insert_cell_below('code');\n",
       "        code.set_text(atob(\"IyBUZW1wCmluc2VydCgnJycKREIoQ2l0YXRpb24oCiAgICBzYW5jaGV6MjAxN2EsIGJhc2lsaTIwMTBhLCByZWY9IiIsCiAgICBjb250ZXh0cz1bCgogICAgXSwKKSkKCicnJywgY2l0YXRpb25zPSdiYXNpbGkyMDEwYScpOwpzZXRfYXR0cmlidXRlKCdzYW5jaGV6MjAxN2EnLCAnZXhjZXJwdCcsICdQdXJwb3NlIFRoZSBwdXJwb3NlIG9mIHRoaXMgcGFwZXIgaXMgdG8gcHJlc2VudCB0aGUgc3RyYXRlZ2ljIGludGFuZ2libGUgcHJvY2VzcyBhc3NldHMgY2hhcmFjdGVyaXphdGlvbiAoU0lQQUMpIG1ldGhvZG9sb2d5IGlsbHVzdHJhdGVkIGJ5IGFuIGV4YW1wbGUgb2YgaXRzIGFwcGxpY2F0aW9uIHRvIHRoZSBmaWVsZCBvZiBpbmZvcm1hdGlvbiB0ZWNobm9sb2d5IChJVCkuIFRoaXMgaXMgYSBwaW9uZWVyaW5nIG1ldGhvZG9sb2d5IGZvciBjaGFyYWN0ZXJpemluZyB0aGUgJyk7CnNldF9hdHRyaWJ1dGUoJ3NhbmNoZXoyMDE3YScsICdjbHVzdGVyX2lkJywgJzYwNTk4MTQ0MzE1MDU1NjU4MjMnKTs=\"));\n",
       "    "
      ],
      "text/plain": [
       "<IPython.core.display.Javascript object>"
      ]
     },
     "metadata": {},
     "output_type": "display_data"
    },
    {
     "data": {
      "application/javascript": [
       "$('span:contains(\"# Temp\")').closest('.cell').remove();"
      ],
      "text/plain": [
       "<IPython.core.display.Javascript object>"
      ]
     },
     "metadata": {},
     "output_type": "display_data"
    },
    {
     "data": {
      "application/javascript": [
       "\n",
       "        $('span:contains(\"# Temp\")').closest('.cell').remove();\n",
       "        var code = IPython.notebook.insert_cell_below('code');\n",
       "        code.set_text(atob(\"IyBUZW1wCmluc2VydCgnJycKREIoQ2l0YXRpb24oCiAgICBzYW5jaGV6MjAxN2EsIGJhc2lsaTIwMTBhLCByZWY9IiIsCiAgICBjb250ZXh0cz1bCgogICAgXSwKKSkKCicnJywgY2l0YXRpb25zPSdiYXNpbGkyMDEwYScpOwpzZXRfYXR0cmlidXRlKCdzYW5jaGV6MjAxN2EnLCAnZXhjZXJwdCcsICdQdXJwb3NlIFRoZSBwdXJwb3NlIG9mIHRoaXMgcGFwZXIgaXMgdG8gcHJlc2VudCB0aGUgc3RyYXRlZ2ljIGludGFuZ2libGUgcHJvY2VzcyBhc3NldHMgY2hhcmFjdGVyaXphdGlvbiAoU0lQQUMpIG1ldGhvZG9sb2d5IGlsbHVzdHJhdGVkIGJ5IGFuIGV4YW1wbGUgb2YgaXRzIGFwcGxpY2F0aW9uIHRvIHRoZSBmaWVsZCBvZiBpbmZvcm1hdGlvbiB0ZWNobm9sb2d5IChJVCkuIFRoaXMgaXMgYSBwaW9uZWVyaW5nIG1ldGhvZG9sb2d5IGZvciBjaGFyYWN0ZXJpemluZyB0aGUgJyk7CnNldF9hdHRyaWJ1dGUoJ3NhbmNoZXoyMDE3YScsICdjbHVzdGVyX2lkJywgJzYwNTk4MTQ0MzE1MDU1NjU4MjMnKTs=\"));\n",
       "    "
      ],
      "text/plain": [
       "<IPython.core.display.Javascript object>"
      ]
     },
     "metadata": {},
     "output_type": "display_data"
    },
    {
     "data": {
      "application/javascript": [
       "$('span:contains(\"# Temp\")').closest('.cell').remove();"
      ],
      "text/plain": [
       "<IPython.core.display.Javascript object>"
      ]
     },
     "metadata": {},
     "output_type": "display_data"
    },
    {
     "data": {
      "application/javascript": [
       "\n",
       "        $('span:contains(\"# Temp\")').closest('.cell').remove();\n",
       "        var code = IPython.notebook.insert_cell_below('code');\n",
       "        code.set_text(atob(\"IyBUZW1wCmluc2VydCgnJycKcG9saWdhZHUyMDE0YSA9IERCKFdvcmtVbnJlbGF0ZWQoCiAgICAyMDE0LCAiQW4gaW5ub3ZhdGl2ZSBtZWFzdXJlbWVudCBwcm9ncmFtbWUgZm9yIGFnaWxlIGdvdmVybmFuY2UiLAogICAgZGlzcGxheT0icG9saWdhZHUiLAogICAgYXV0aG9ycz0iUG9saWdhZHUsIEFyb3VuIGFuZCBNb2xvbywgUmFqIEtpc2hlbiIsCiAgICBwbGFjZT1GQUtFLAogICAgcHA9IjI2LS02MCIsCiAgICBlbnRyeXR5cGU9ImFydGljbGUiLAogICAgdm9sdW1lPSI3IiwKICAgIG51bWJlcj0iMSIsCiAgICBwdWJsaXNoZXI9IkluZGVyc2NpZW5jZSBQdWJsaXNoZXJzIEx0ZCIsCiAgICBJRD0icG9saWdhZHUyMDE0aW5ub3ZhdGl2ZSIsCiAgICBjbHVzdGVyX2lkPSI5NDcxMjQwODM0MDUyNjY4OTU5IiwKICAgIHNjaG9sYXI9Imh0dHA6Ly9zY2hvbGFyLmdvb2dsZS5jb20vc2Nob2xhcj9jaXRlcz05NDcxMjQwODM0MDUyNjY4OTU5JmFzX3NkdD0yMDA1JnNjaW9kdD0wLDUmaGw9ZW4iLAogICAgcGxhY2V4PSJJbnRlcm5hdGlvbmFsIEpvdXJuYWwgb2YgQWdpbGUgU3lzdGVtcyBhbmQgTWFuYWdlbWVudCIsCikpCgpEQihDaXRhdGlvbigKICAgIHBvbGlnYWR1MjAxNGEsIGJhc2lsaTIwMTBhLCByZWY9IiIsCiAgICBjb250ZXh0cz1bCgogICAgXSwKKSkKCicnJywgY2l0YXRpb25zPSdiYXNpbGkyMDEwYScpOw==\"));\n",
       "    "
      ],
      "text/plain": [
       "<IPython.core.display.Javascript object>"
      ]
     },
     "metadata": {},
     "output_type": "display_data"
    },
    {
     "data": {
      "application/javascript": [
       "$('span:contains(\"# Temp\")').closest('.cell').remove();"
      ],
      "text/plain": [
       "<IPython.core.display.Javascript object>"
      ]
     },
     "metadata": {},
     "output_type": "display_data"
    },
    {
     "data": {
      "application/javascript": [
       "\n",
       "        $('span:contains(\"# Temp\")').closest('.cell').remove();\n",
       "        var code = IPython.notebook.insert_cell_below('code');\n",
       "        code.set_text(atob(\"IyBUZW1wCmluc2VydCgnJycKcG9saWdhZHUyMDE0YSA9IERCKFdvcmtVbnJlbGF0ZWQoCiAgICAyMDE0LCAiQW4gaW5ub3ZhdGl2ZSBtZWFzdXJlbWVudCBwcm9ncmFtbWUgZm9yIGFnaWxlIGdvdmVybmFuY2UiLAogICAgZGlzcGxheT0icG9saWdhZHUiLAogICAgYXV0aG9ycz0iUG9saWdhZHUsIEFyb3VuIGFuZCBNb2xvbywgUmFqIEtpc2hlbiIsCiAgICBwbGFjZT1GQUtFLAogICAgcHA9IjI2LS02MCIsCiAgICBlbnRyeXR5cGU9ImFydGljbGUiLAogICAgdm9sdW1lPSI3IiwKICAgIG51bWJlcj0iMSIsCiAgICBwdWJsaXNoZXI9IkluZGVyc2NpZW5jZSBQdWJsaXNoZXJzIEx0ZCIsCiAgICBJRD0icG9saWdhZHUyMDE0aW5ub3ZhdGl2ZSIsCiAgICBjbHVzdGVyX2lkPSI5NDcxMjQwODM0MDUyNjY4OTU5IiwKICAgIHNjaG9sYXI9Imh0dHA6Ly9zY2hvbGFyLmdvb2dsZS5jb20vc2Nob2xhcj9jaXRlcz05NDcxMjQwODM0MDUyNjY4OTU5JmFzX3NkdD0yMDA1JnNjaW9kdD0wLDUmaGw9ZW4iLAogICAgcGxhY2V4PSJJbnRlcm5hdGlvbmFsIEpvdXJuYWwgb2YgQWdpbGUgU3lzdGVtcyBhbmQgTWFuYWdlbWVudCIsCikpCgpEQihDaXRhdGlvbigKICAgIHBvbGlnYWR1MjAxNGEsIGJhc2lsaTIwMTBhLCByZWY9IiIsCiAgICBjb250ZXh0cz1bCgogICAgXSwKKSkKCicnJywgY2l0YXRpb25zPSdiYXNpbGkyMDEwYScpOw==\"));\n",
       "    "
      ],
      "text/plain": [
       "<IPython.core.display.Javascript object>"
      ]
     },
     "metadata": {},
     "output_type": "display_data"
    },
    {
     "data": {
      "application/javascript": [
       "$('span:contains(\"# Temp\")').closest('.cell').remove();"
      ],
      "text/plain": [
       "<IPython.core.display.Javascript object>"
      ]
     },
     "metadata": {},
     "output_type": "display_data"
    },
    {
     "data": {
      "application/javascript": [
       "\n",
       "        $('span:contains(\"# Temp\")').closest('.cell').remove();\n",
       "        var code = IPython.notebook.insert_cell_below('code');\n",
       "        code.set_text(atob(\"IyBUZW1wCmluc2VydCgnJycKa291bWFkaXRpczIwMTZhID0gREIoV29ya1VucmVsYXRlZCgKICAgIDIwMTYsICJTT0EgZ292ZXJuYW5jZSBpbiBoZWFsdGhjYXJlOiBCZXlvbmQgZWFybHkgaWRlYXMgdG8gYSBzdHJ1Y3R1cmVkIGZyYW1ld29yayIsCiAgICBkaXNwbGF5PSJrb3VtYWRpdGlzIiwKICAgIGF1dGhvcnM9IktvdW1hZGl0aXMsIEtvbnN0YW50aW5vcyBhbmQgVGhlbWlzdG9jbGVvdXMsIE1hcmlub3MiLAogICAgcGxhY2U9RkFLRSwKICAgIHBwPSIyNjYtLTI4NiIsCiAgICBlbnRyeXR5cGU9ImluY29sbGVjdGlvbiIsCiAgICBwdWJsaXNoZXI9IklHSSBnbG9iYWwiLAogICAgSUQ9ImtvdW1hZGl0aXMyMDE2c29hIiwKICAgIGNsdXN0ZXJfaWQ9Ijc3NjQ1MTc5Nzg1MzU3MzczNDYiLAogICAgc2Nob2xhcj0iaHR0cDovL3NjaG9sYXIuZ29vZ2xlLmNvbS9zY2hvbGFyP2NpdGVzPTc3NjQ1MTc5Nzg1MzU3MzczNDYmYXNfc2R0PTIwMDUmc2Npb2R0PTAsNSZobD1lbiIsCiAgICBwbGFjZXg9IlJlc2hhcGluZyBtZWRpY2FsIHByYWN0aWNlIGFuZCBjYXJlIHdpdGggaGVhbHRoIGluZm9ybWF0aW9uIHN5c3RlbXMiLAopKQoKREIoQ2l0YXRpb24oCiAgICBrb3VtYWRpdGlzMjAxNmEsIGJhc2lsaTIwMTBhLCByZWY9IiIsCiAgICBjb250ZXh0cz1bCgogICAgXSwKKSkKCicnJywgY2l0YXRpb25zPSdiYXNpbGkyMDEwYScpOw==\"));\n",
       "    "
      ],
      "text/plain": [
       "<IPython.core.display.Javascript object>"
      ]
     },
     "metadata": {},
     "output_type": "display_data"
    },
    {
     "data": {
      "application/javascript": [
       "$('span:contains(\"# Temp\")').closest('.cell').remove();"
      ],
      "text/plain": [
       "<IPython.core.display.Javascript object>"
      ]
     },
     "metadata": {},
     "output_type": "display_data"
    },
    {
     "data": {
      "application/javascript": [
       "\n",
       "        $('span:contains(\"# Temp\")').closest('.cell').remove();\n",
       "        var code = IPython.notebook.insert_cell_below('code');\n",
       "        code.set_text(atob(\"IyBUZW1wCmluc2VydCgnJycKa291bWFkaXRpczIwMTZhID0gREIoV29ya1VucmVsYXRlZCgKICAgIDIwMTYsICJTT0EgZ292ZXJuYW5jZSBpbiBoZWFsdGhjYXJlOiBCZXlvbmQgZWFybHkgaWRlYXMgdG8gYSBzdHJ1Y3R1cmVkIGZyYW1ld29yayIsCiAgICBkaXNwbGF5PSJrb3VtYWRpdGlzIiwKICAgIGF1dGhvcnM9IktvdW1hZGl0aXMsIEtvbnN0YW50aW5vcyBhbmQgVGhlbWlzdG9jbGVvdXMsIE1hcmlub3MiLAogICAgcGxhY2U9RkFLRSwKICAgIHBwPSIyNjYtLTI4NiIsCiAgICBlbnRyeXR5cGU9ImluY29sbGVjdGlvbiIsCiAgICBwdWJsaXNoZXI9IklHSSBnbG9iYWwiLAogICAgSUQ9ImtvdW1hZGl0aXMyMDE2c29hIiwKICAgIGNsdXN0ZXJfaWQ9Ijc3NjQ1MTc5Nzg1MzU3MzczNDYiLAogICAgc2Nob2xhcj0iaHR0cDovL3NjaG9sYXIuZ29vZ2xlLmNvbS9zY2hvbGFyP2NpdGVzPTc3NjQ1MTc5Nzg1MzU3MzczNDYmYXNfc2R0PTIwMDUmc2Npb2R0PTAsNSZobD1lbiIsCiAgICBwbGFjZXg9IlJlc2hhcGluZyBtZWRpY2FsIHByYWN0aWNlIGFuZCBjYXJlIHdpdGggaGVhbHRoIGluZm9ybWF0aW9uIHN5c3RlbXMiLAopKQoKREIoQ2l0YXRpb24oCiAgICBrb3VtYWRpdGlzMjAxNmEsIGJhc2lsaTIwMTBhLCByZWY9IiIsCiAgICBjb250ZXh0cz1bCgogICAgXSwKKSkKCicnJywgY2l0YXRpb25zPSdiYXNpbGkyMDEwYScpOw==\"));\n",
       "    "
      ],
      "text/plain": [
       "<IPython.core.display.Javascript object>"
      ]
     },
     "metadata": {},
     "output_type": "display_data"
    },
    {
     "data": {
      "application/javascript": [
       "$('span:contains(\"# Temp\")').closest('.cell').remove();"
      ],
      "text/plain": [
       "<IPython.core.display.Javascript object>"
      ]
     },
     "metadata": {},
     "output_type": "display_data"
    },
    {
     "data": {
      "application/javascript": [
       "\n",
       "        $('span:contains(\"# Temp\")').closest('.cell').remove();\n",
       "        var code = IPython.notebook.insert_cell_below('code');\n",
       "        code.set_text(atob(\"IyBUZW1wCmluc2VydCgnJycKamFyYW1pbGxvMjAxNmEgPSBEQihXb3JrVW5yZWxhdGVkKAogICAgMjAxNiwgIkEgTWV0aG9kIEJhc2VkIG9uIFBhdHRlcm5zIGZvciBEZXJpdmluZyBLZXkgUGVyZm9ybWFuY2UgSW5kaWNhdG9ycyBmcm9tIE9yZ2FuaXphdGlvbmFsIE9iamVjdGl2ZXMiLAogICAgZGlzcGxheT0iamFyYW1pbGxvIiwKICAgIGF1dGhvcnM9IlphcGF0YSBKYXJhbWlsbG8sIENhcmxvcyBNYXJpbyBhbmQgQ2FzdHJvIFJvamFzLCBMdWlzIEZlcm5hbmRvIiwKICAgIHBsYWNlPUZBS0UsCiAgICBwcD0iNTUtLTY0IiwKICAgIGVudHJ5dHlwZT0iYXJ0aWNsZSIsCiAgICBudW1iZXI9IjUzIiwKICAgIHB1Ymxpc2hlcj0iSW5zdGl0dXRvIFBvbGl06WNuaWNvIE5hY2lvbmFsLCBDZW50cm8gZGUgSW5ub3ZhY2nzbiB5IERlc2Fycm9sbG8gVGVjbm9s82dpY28gZW4gQ/NtcHV0byIsCiAgICBJRD0iemFwYXRhMjAxNm1ldGhvZCIsCiAgICBjbHVzdGVyX2lkPSIxNDg3NTY4NzY3MjcxNzI4OTU1MCIsCiAgICBzY2hvbGFyPSJodHRwOi8vc2Nob2xhci5nb29nbGUuY29tL3NjaG9sYXI/Y2l0ZXM9MTQ4NzU2ODc2NzI3MTcyODk1NTAmYXNfc2R0PTIwMDUmc2Npb2R0PTAsNSZobD1lbiIsCiAgICBwbGFjZXg9IlBvbGliaXRzIiwKKSkKCkRCKENpdGF0aW9uKAogICAgamFyYW1pbGxvMjAxNmEsIGJhc2lsaTIwMTBhLCByZWY9IiIsCiAgICBjb250ZXh0cz1bCgogICAgXSwKKSkKCicnJywgY2l0YXRpb25zPSdiYXNpbGkyMDEwYScpOw==\"));\n",
       "    "
      ],
      "text/plain": [
       "<IPython.core.display.Javascript object>"
      ]
     },
     "metadata": {},
     "output_type": "display_data"
    },
    {
     "data": {
      "application/javascript": [
       "$('span:contains(\"# Temp\")').closest('.cell').remove();"
      ],
      "text/plain": [
       "<IPython.core.display.Javascript object>"
      ]
     },
     "metadata": {},
     "output_type": "display_data"
    },
    {
     "data": {
      "application/javascript": [
       "\n",
       "        $('span:contains(\"# Temp\")').closest('.cell').remove();\n",
       "        var code = IPython.notebook.insert_cell_below('code');\n",
       "        code.set_text(atob(\"IyBUZW1wCmluc2VydCgnJycKamFyYW1pbGxvMjAxNmEgPSBEQihXb3JrVW5yZWxhdGVkKAogICAgMjAxNiwgIkEgTWV0aG9kIEJhc2VkIG9uIFBhdHRlcm5zIGZvciBEZXJpdmluZyBLZXkgUGVyZm9ybWFuY2UgSW5kaWNhdG9ycyBmcm9tIE9yZ2FuaXphdGlvbmFsIE9iamVjdGl2ZXMiLAogICAgZGlzcGxheT0iamFyYW1pbGxvIiwKICAgIGF1dGhvcnM9IlphcGF0YSBKYXJhbWlsbG8sIENhcmxvcyBNYXJpbyBhbmQgQ2FzdHJvIFJvamFzLCBMdWlzIEZlcm5hbmRvIiwKICAgIHBsYWNlPUZBS0UsCiAgICBwcD0iNTUtLTY0IiwKICAgIGVudHJ5dHlwZT0iYXJ0aWNsZSIsCiAgICBudW1iZXI9IjUzIiwKICAgIHB1Ymxpc2hlcj0iSW5zdGl0dXRvIFBvbGl06WNuaWNvIE5hY2lvbmFsLCBDZW50cm8gZGUgSW5ub3ZhY2nzbiB5IERlc2Fycm9sbG8gVGVjbm9s82dpY28gZW4gQ/NtcHV0byIsCiAgICBJRD0iemFwYXRhMjAxNm1ldGhvZCIsCiAgICBjbHVzdGVyX2lkPSIxNDg3NTY4NzY3MjcxNzI4OTU1MCIsCiAgICBzY2hvbGFyPSJodHRwOi8vc2Nob2xhci5nb29nbGUuY29tL3NjaG9sYXI/Y2l0ZXM9MTQ4NzU2ODc2NzI3MTcyODk1NTAmYXNfc2R0PTIwMDUmc2Npb2R0PTAsNSZobD1lbiIsCiAgICBwbGFjZXg9IlBvbGliaXRzIiwKKSkKCkRCKENpdGF0aW9uKAogICAgamFyYW1pbGxvMjAxNmEsIGJhc2lsaTIwMTBhLCByZWY9IiIsCiAgICBjb250ZXh0cz1bCgogICAgXSwKKSkKCicnJywgY2l0YXRpb25zPSdiYXNpbGkyMDEwYScpOw==\"));\n",
       "    "
      ],
      "text/plain": [
       "<IPython.core.display.Javascript object>"
      ]
     },
     "metadata": {},
     "output_type": "display_data"
    },
    {
     "data": {
      "application/javascript": [
       "$('span:contains(\"# Temp\")').closest('.cell').remove();"
      ],
      "text/plain": [
       "<IPython.core.display.Javascript object>"
      ]
     },
     "metadata": {},
     "output_type": "display_data"
    },
    {
     "data": {
      "application/javascript": [
       "\n",
       "        $('span:contains(\"# Temp\")').closest('.cell').remove();\n",
       "        var code = IPython.notebook.insert_cell_below('code');\n",
       "        code.set_text(atob(\"IyBUZW1wCmluc2VydCgnJycKamFyYW1pbGxvMjAxNmEgPSBEQihXb3JrVW5yZWxhdGVkKAogICAgMjAxNiwgIkEgTWV0aG9kIEJhc2VkIG9uIFBhdHRlcm5zIGZvciBEZXJpdmluZyBLZXkgUGVyZm9ybWFuY2UgSW5kaWNhdG9ycyBmcm9tIE9yZ2FuaXphdGlvbmFsIE9iamVjdGl2ZXMiLAogICAgZGlzcGxheT0iamFyYW1pbGxvIiwKICAgIGF1dGhvcnM9IlphcGF0YSBKYXJhbWlsbG8sIENhcmxvcyBNYXJpbyBhbmQgQ2FzdHJvIFJvamFzLCBMdWlzIEZlcm5hbmRvIiwKICAgIHBsYWNlPUZBS0UsCiAgICBwcD0iNTUtLTY0IiwKICAgIGVudHJ5dHlwZT0iYXJ0aWNsZSIsCiAgICBudW1iZXI9IjUzIiwKICAgIHB1Ymxpc2hlcj0iSW5zdGl0dXRvIFBvbGl06WNuaWNvIE5hY2lvbmFsLCBDZW50cm8gZGUgSW5ub3ZhY2nzbiB5IERlc2Fycm9sbG8gVGVjbm9s82dpY28gZW4gQ/NtcHV0byIsCiAgICBJRD0iemFwYXRhMjAxNm1ldGhvZCIsCiAgICBjbHVzdGVyX2lkPSIxNDg3NTY4NzY3MjcxNzI4OTU1MCIsCiAgICBzY2hvbGFyPSJodHRwOi8vc2Nob2xhci5nb29nbGUuY29tL3NjaG9sYXI/Y2l0ZXM9MTQ4NzU2ODc2NzI3MTcyODk1NTAmYXNfc2R0PTIwMDUmc2Npb2R0PTAsNSZobD1lbiIsCiAgICBwbGFjZXg9IlBvbGliaXRzIiwKKSkKCkRCKENpdGF0aW9uKAogICAgamFyYW1pbGxvMjAxNmEsIGJhc2lsaTIwMTBhLCByZWY9IiIsCiAgICBjb250ZXh0cz1bCgogICAgXSwKKSkKCicnJywgY2l0YXRpb25zPSdiYXNpbGkyMDEwYScpOw==\"));\n",
       "    "
      ],
      "text/plain": [
       "<IPython.core.display.Javascript object>"
      ]
     },
     "metadata": {},
     "output_type": "display_data"
    },
    {
     "data": {
      "application/javascript": [
       "$('span:contains(\"# Temp\")').closest('.cell').remove();"
      ],
      "text/plain": [
       "<IPython.core.display.Javascript object>"
      ]
     },
     "metadata": {},
     "output_type": "display_data"
    },
    {
     "data": {
      "application/javascript": [
       "\n",
       "        $('span:contains(\"# Temp\")').closest('.cell').remove();\n",
       "        var code = IPython.notebook.insert_cell_below('code');\n",
       "        code.set_text(atob(\"IyBUZW1wCmluc2VydCgnJycKcml2ZXJhMjAxNWEgPSBEQihXb3JrVW5yZWxhdGVkKAogICAgMjAxNSwgIlN0cmF0ZWd5IFBhdHRlcm5zIGZvciBFdmFsdWF0aW5nIGFuZCBJbXByb3ZpbmcgVXNhYmlsaXR5IiwKICAgIGRpc3BsYXk9InJpdmVyYSIsCiAgICBhdXRob3JzPSJSaXZlcmEsIEJlbGVuIGFuZCBCZWNrZXIsIFBhYmxvIGFuZCBMZXcsIFBoaWxpcCBhbmQgT2xzaW5hIFNhbnRvcywgTHVpcyBBbnRvbmlvIiwKICAgIHBsYWNlPUZBS0UsCiAgICBlbnRyeXR5cGU9ImlucHJvY2VlZGluZ3MiLAogICAgSUQ9InJpdmVyYTIwMTVzdHJhdGVneSIsCiAgICBjbHVzdGVyX2lkPSIzODk3MTYyNjI2MDIxNzc2OTA3IiwKICAgIHNjaG9sYXI9Imh0dHA6Ly9zY2hvbGFyLmdvb2dsZS5jb20vc2Nob2xhcj9jaXRlcz0zODk3MTYyNjI2MDIxNzc2OTA3JmFzX3NkdD0yMDA1JnNjaW9kdD0wLDUmaGw9ZW4iLAogICAgcGxhY2V4PSJTaW1wb3NpbyBBcmdlbnRpbm8gZGUgSW5nZW5pZXLtYSBkZSBTb2Z0d2FyZSAoQVNTRSAyMDE1KS1KQUlJTyA0NCAoUm9zYXJpbywgMjAxNSkiLAopKQoKREIoQ2l0YXRpb24oCiAgICByaXZlcmEyMDE1YSwgYmFzaWxpMjAxMGEsIHJlZj0iIiwKICAgIGNvbnRleHRzPVsKCiAgICBdLAopKQoKJycnLCBjaXRhdGlvbnM9J2Jhc2lsaTIwMTBhJyk7\"));\n",
       "    "
      ],
      "text/plain": [
       "<IPython.core.display.Javascript object>"
      ]
     },
     "metadata": {},
     "output_type": "display_data"
    },
    {
     "data": {
      "application/javascript": [
       "$('span:contains(\"# Temp\")').closest('.cell').remove();"
      ],
      "text/plain": [
       "<IPython.core.display.Javascript object>"
      ]
     },
     "metadata": {},
     "output_type": "display_data"
    },
    {
     "data": {
      "application/javascript": [
       "\n",
       "        $('span:contains(\"# Temp\")').closest('.cell').remove();\n",
       "        var code = IPython.notebook.insert_cell_below('code');\n",
       "        code.set_text(atob(\"IyBUZW1wCmluc2VydCgnJycKcml2ZXJhMjAxNWEgPSBEQihXb3JrVW5yZWxhdGVkKAogICAgMjAxNSwgIlN0cmF0ZWd5IFBhdHRlcm5zIGZvciBFdmFsdWF0aW5nIGFuZCBJbXByb3ZpbmcgVXNhYmlsaXR5IiwKICAgIGRpc3BsYXk9InJpdmVyYSIsCiAgICBhdXRob3JzPSJSaXZlcmEsIEJlbGVuIGFuZCBCZWNrZXIsIFBhYmxvIGFuZCBMZXcsIFBoaWxpcCBhbmQgT2xzaW5hIFNhbnRvcywgTHVpcyBBbnRvbmlvIiwKICAgIHBsYWNlPUZBS0UsCiAgICBlbnRyeXR5cGU9ImlucHJvY2VlZGluZ3MiLAogICAgSUQ9InJpdmVyYTIwMTVzdHJhdGVneSIsCiAgICBjbHVzdGVyX2lkPSIzODk3MTYyNjI2MDIxNzc2OTA3IiwKICAgIHNjaG9sYXI9Imh0dHA6Ly9zY2hvbGFyLmdvb2dsZS5jb20vc2Nob2xhcj9jaXRlcz0zODk3MTYyNjI2MDIxNzc2OTA3JmFzX3NkdD0yMDA1JnNjaW9kdD0wLDUmaGw9ZW4iLAogICAgcGxhY2V4PSJTaW1wb3NpbyBBcmdlbnRpbm8gZGUgSW5nZW5pZXLtYSBkZSBTb2Z0d2FyZSAoQVNTRSAyMDE1KS1KQUlJTyA0NCAoUm9zYXJpbywgMjAxNSkiLAopKQoKREIoQ2l0YXRpb24oCiAgICByaXZlcmEyMDE1YSwgYmFzaWxpMjAxMGEsIHJlZj0iIiwKICAgIGNvbnRleHRzPVsKCiAgICBdLAopKQoKJycnLCBjaXRhdGlvbnM9J2Jhc2lsaTIwMTBhJyk7\"));\n",
       "    "
      ],
      "text/plain": [
       "<IPython.core.display.Javascript object>"
      ]
     },
     "metadata": {},
     "output_type": "display_data"
    },
    {
     "data": {
      "application/javascript": [
       "$('span:contains(\"# Temp\")').closest('.cell').remove();"
      ],
      "text/plain": [
       "<IPython.core.display.Javascript object>"
      ]
     },
     "metadata": {},
     "output_type": "display_data"
    },
    {
     "data": {
      "application/javascript": [
       "\n",
       "        $('span:contains(\"# Temp\")').closest('.cell').remove();\n",
       "        var code = IPython.notebook.insert_cell_below('code');\n",
       "        code.set_text(atob(\"IyBUZW1wCmluc2VydCgnJycKcml2ZXJhMjAxNWEgPSBEQihXb3JrVW5yZWxhdGVkKAogICAgMjAxNSwgIlN0cmF0ZWd5IFBhdHRlcm5zIGZvciBFdmFsdWF0aW5nIGFuZCBJbXByb3ZpbmcgVXNhYmlsaXR5IiwKICAgIGRpc3BsYXk9InJpdmVyYSIsCiAgICBhdXRob3JzPSJSaXZlcmEsIEJlbGVuIGFuZCBCZWNrZXIsIFBhYmxvIGFuZCBMZXcsIFBoaWxpcCBhbmQgT2xzaW5hIFNhbnRvcywgTHVpcyBBbnRvbmlvIiwKICAgIHBsYWNlPUZBS0UsCiAgICBlbnRyeXR5cGU9ImlucHJvY2VlZGluZ3MiLAogICAgSUQ9InJpdmVyYTIwMTVzdHJhdGVneSIsCiAgICBjbHVzdGVyX2lkPSIzODk3MTYyNjI2MDIxNzc2OTA3IiwKICAgIHNjaG9sYXI9Imh0dHA6Ly9zY2hvbGFyLmdvb2dsZS5jb20vc2Nob2xhcj9jaXRlcz0zODk3MTYyNjI2MDIxNzc2OTA3JmFzX3NkdD0yMDA1JnNjaW9kdD0wLDUmaGw9ZW4iLAogICAgcGxhY2V4PSJTaW1wb3NpbyBBcmdlbnRpbm8gZGUgSW5nZW5pZXLtYSBkZSBTb2Z0d2FyZSAoQVNTRSAyMDE1KS1KQUlJTyA0NCAoUm9zYXJpbywgMjAxNSkiLAopKQoKREIoQ2l0YXRpb24oCiAgICByaXZlcmEyMDE1YSwgYmFzaWxpMjAxMGEsIHJlZj0iIiwKICAgIGNvbnRleHRzPVsKCiAgICBdLAopKQoKJycnLCBjaXRhdGlvbnM9J2Jhc2lsaTIwMTBhJyk7\"));\n",
       "    "
      ],
      "text/plain": [
       "<IPython.core.display.Javascript object>"
      ]
     },
     "metadata": {},
     "output_type": "display_data"
    },
    {
     "data": {
      "application/javascript": [
       "$('span:contains(\"# Temp\")').closest('.cell').remove();"
      ],
      "text/plain": [
       "<IPython.core.display.Javascript object>"
      ]
     },
     "metadata": {},
     "output_type": "display_data"
    },
    {
     "data": {
      "application/javascript": [
       "\n",
       "        $('span:contains(\"# Temp\")').closest('.cell').remove();\n",
       "        var code = IPython.notebook.insert_cell_below('code');\n",
       "        code.set_text(atob(\"IyBUZW1wCmluc2VydCgnJycKamFyYW1pbGxvMjAxNmEgPSBEQihXb3JrVW5yZWxhdGVkKAogICAgMjAxNiwgIkEgTWV0aG9kIEJhc2VkIG9uIFBhdHRlcm5zIGZvciBEZXJpdmluZyBLZXkgUGVyZm9ybWFuY2UgSW5kaWNhdG9ycyBmcm9tIE9yZ2FuaXphdGlvbmFsIE9iamVjdGl2ZXMiLAogICAgZGlzcGxheT0iamFyYW1pbGxvIiwKICAgIGF1dGhvcnM9IlphcGF0YSBKYXJhbWlsbG8sIENhcmxvcyBNYXJpbyBhbmQgQ2FzdHJvIFJvamFzLCBMdWlzIEZlcm5hbmRvIiwKICAgIHBsYWNlPUZBS0UsCiAgICBwcD0iNTUtLTY0IiwKICAgIGVudHJ5dHlwZT0iYXJ0aWNsZSIsCiAgICBudW1iZXI9IjUzIiwKICAgIHB1Ymxpc2hlcj0iSW5zdGl0dXRvIFBvbGl06WNuaWNvIE5hY2lvbmFsLCBDZW50cm8gZGUgSW5ub3ZhY2nzbiB5IERlc2Fycm9sbG8gVGVjbm9s82dpY28gZW4gQ/NtcHV0byIsCiAgICBJRD0iemFwYXRhMjAxNm1ldGhvZCIsCiAgICBjbHVzdGVyX2lkPSIxNDg3NTY4NzY3MjcxNzI4OTU1MCIsCiAgICBzY2hvbGFyPSJodHRwOi8vc2Nob2xhci5nb29nbGUuY29tL3NjaG9sYXI/Y2l0ZXM9MTQ4NzU2ODc2NzI3MTcyODk1NTAmYXNfc2R0PTIwMDUmc2Npb2R0PTAsNSZobD1lbiIsCiAgICBwbGFjZXg9IlBvbGliaXRzIiwKKSkKCkRCKENpdGF0aW9uKAogICAgamFyYW1pbGxvMjAxNmEsIGJhc2lsaTIwMTBhLCByZWY9IiIsCiAgICBjb250ZXh0cz1bCgogICAgXSwKKSkKCicnJywgY2l0YXRpb25zPSdiYXNpbGkyMDEwYScpOw==\"));\n",
       "    "
      ],
      "text/plain": [
       "<IPython.core.display.Javascript object>"
      ]
     },
     "metadata": {},
     "output_type": "display_data"
    },
    {
     "data": {
      "application/javascript": [
       "$('span:contains(\"# Temp\")').closest('.cell').remove();"
      ],
      "text/plain": [
       "<IPython.core.display.Javascript object>"
      ]
     },
     "metadata": {},
     "output_type": "display_data"
    },
    {
     "data": {
      "application/javascript": [
       "\n",
       "        $('span:contains(\"# Temp\")').closest('.cell').remove();\n",
       "        var code = IPython.notebook.insert_cell_below('code');\n",
       "        code.set_text(atob(\"IyBUZW1wCmluc2VydCgnJycKamFyYW1pbGxvMjAxNmEgPSBEQihXb3JrVW5yZWxhdGVkKAogICAgMjAxNiwgIkEgTWV0aG9kIEJhc2VkIG9uIFBhdHRlcm5zIGZvciBEZXJpdmluZyBLZXkgUGVyZm9ybWFuY2UgSW5kaWNhdG9ycyBmcm9tIE9yZ2FuaXphdGlvbmFsIE9iamVjdGl2ZXMiLAogICAgZGlzcGxheT0iamFyYW1pbGxvIiwKICAgIGF1dGhvcnM9IlphcGF0YSBKYXJhbWlsbG8sIENhcmxvcyBNYXJpbyBhbmQgQ2FzdHJvIFJvamFzLCBMdWlzIEZlcm5hbmRvIiwKICAgIHBsYWNlPUZBS0UsCiAgICBwcD0iNTUtLTY0IiwKICAgIGVudHJ5dHlwZT0iYXJ0aWNsZSIsCiAgICBudW1iZXI9IjUzIiwKICAgIHB1Ymxpc2hlcj0iSW5zdGl0dXRvIFBvbGl06WNuaWNvIE5hY2lvbmFsLCBDZW50cm8gZGUgSW5ub3ZhY2nzbiB5IERlc2Fycm9sbG8gVGVjbm9s82dpY28gZW4gQ/NtcHV0byIsCiAgICBJRD0iemFwYXRhMjAxNm1ldGhvZCIsCiAgICBjbHVzdGVyX2lkPSIxNDg3NTY4NzY3MjcxNzI4OTU1MCIsCiAgICBzY2hvbGFyPSJodHRwOi8vc2Nob2xhci5nb29nbGUuY29tL3NjaG9sYXI/Y2l0ZXM9MTQ4NzU2ODc2NzI3MTcyODk1NTAmYXNfc2R0PTIwMDUmc2Npb2R0PTAsNSZobD1lbiIsCiAgICBwbGFjZXg9IlBvbGliaXRzIiwKKSkKCkRCKENpdGF0aW9uKAogICAgamFyYW1pbGxvMjAxNmEsIGJhc2lsaTIwMTBhLCByZWY9IiIsCiAgICBjb250ZXh0cz1bCgogICAgXSwKKSkKCicnJywgY2l0YXRpb25zPSdiYXNpbGkyMDEwYScpOw==\"));\n",
       "    "
      ],
      "text/plain": [
       "<IPython.core.display.Javascript object>"
      ]
     },
     "metadata": {},
     "output_type": "display_data"
    },
    {
     "data": {
      "application/javascript": [
       "$('span:contains(\"# Temp\")').closest('.cell').remove();"
      ],
      "text/plain": [
       "<IPython.core.display.Javascript object>"
      ]
     },
     "metadata": {},
     "output_type": "display_data"
    },
    {
     "data": {
      "application/javascript": [
       "\n",
       "        $('span:contains(\"# Temp\")').closest('.cell').remove();\n",
       "        var code = IPython.notebook.insert_cell_below('code');\n",
       "        code.set_text(atob(\"IyBUZW1wCmluc2VydCgnJycKcml2ZXJhMjAxNWEgPSBEQihXb3JrVW5yZWxhdGVkKAogICAgMjAxNSwgIlN0cmF0ZWd5IFBhdHRlcm5zIGZvciBFdmFsdWF0aW5nIGFuZCBJbXByb3ZpbmcgVXNhYmlsaXR5IiwKICAgIGRpc3BsYXk9InJpdmVyYSIsCiAgICBhdXRob3JzPSJSaXZlcmEsIEJlbGVuIGFuZCBCZWNrZXIsIFBhYmxvIGFuZCBMZXcsIFBoaWxpcCBhbmQgT2xzaW5hIFNhbnRvcywgTHVpcyBBbnRvbmlvIiwKICAgIHBsYWNlPUZBS0UsCiAgICBlbnRyeXR5cGU9ImlucHJvY2VlZGluZ3MiLAogICAgSUQ9InJpdmVyYTIwMTVzdHJhdGVneSIsCiAgICBjbHVzdGVyX2lkPSIzODk3MTYyNjI2MDIxNzc2OTA3IiwKICAgIHNjaG9sYXI9Imh0dHA6Ly9zY2hvbGFyLmdvb2dsZS5jb20vc2Nob2xhcj9jaXRlcz0zODk3MTYyNjI2MDIxNzc2OTA3JmFzX3NkdD0yMDA1JnNjaW9kdD0wLDUmaGw9ZW4iLAogICAgcGxhY2V4PSJTaW1wb3NpbyBBcmdlbnRpbm8gZGUgSW5nZW5pZXLtYSBkZSBTb2Z0d2FyZSAoQVNTRSAyMDE1KS1KQUlJTyA0NCAoUm9zYXJpbywgMjAxNSkiLAopKQoKREIoQ2l0YXRpb24oCiAgICByaXZlcmEyMDE1YSwgYmFzaWxpMjAxMGEsIHJlZj0iIiwKICAgIGNvbnRleHRzPVsKCiAgICBdLAopKQoKJycnLCBjaXRhdGlvbnM9J2Jhc2lsaTIwMTBhJyk7\"));\n",
       "    "
      ],
      "text/plain": [
       "<IPython.core.display.Javascript object>"
      ]
     },
     "metadata": {},
     "output_type": "display_data"
    },
    {
     "data": {
      "application/javascript": [
       "$('span:contains(\"# Temp\")').closest('.cell').remove();"
      ],
      "text/plain": [
       "<IPython.core.display.Javascript object>"
      ]
     },
     "metadata": {},
     "output_type": "display_data"
    },
    {
     "data": {
      "application/javascript": [
       "\n",
       "        $('span:contains(\"# Temp\")').closest('.cell').remove();\n",
       "        var code = IPython.notebook.insert_cell_below('code');\n",
       "        code.set_text(atob(\"IyBUZW1wCmluc2VydCgnJycKcml2ZXJhMjAxNWEgPSBEQihXb3JrVW5yZWxhdGVkKAogICAgMjAxNSwgIlN0cmF0ZWd5IFBhdHRlcm5zIGZvciBFdmFsdWF0aW5nIGFuZCBJbXByb3ZpbmcgVXNhYmlsaXR5IiwKICAgIGRpc3BsYXk9InJpdmVyYSIsCiAgICBhdXRob3JzPSJSaXZlcmEsIEJlbGVuIGFuZCBCZWNrZXIsIFBhYmxvIGFuZCBMZXcsIFBoaWxpcCBhbmQgT2xzaW5hIFNhbnRvcywgTHVpcyBBbnRvbmlvIiwKICAgIHBsYWNlPUZBS0UsCiAgICBlbnRyeXR5cGU9ImlucHJvY2VlZGluZ3MiLAogICAgSUQ9InJpdmVyYTIwMTVzdHJhdGVneSIsCiAgICBjbHVzdGVyX2lkPSIzODk3MTYyNjI2MDIxNzc2OTA3IiwKICAgIHNjaG9sYXI9Imh0dHA6Ly9zY2hvbGFyLmdvb2dsZS5jb20vc2Nob2xhcj9jaXRlcz0zODk3MTYyNjI2MDIxNzc2OTA3JmFzX3NkdD0yMDA1JnNjaW9kdD0wLDUmaGw9ZW4iLAogICAgcGxhY2V4PSJTaW1wb3NpbyBBcmdlbnRpbm8gZGUgSW5nZW5pZXLtYSBkZSBTb2Z0d2FyZSAoQVNTRSAyMDE1KS1KQUlJTyA0NCAoUm9zYXJpbywgMjAxNSkiLAopKQoKREIoQ2l0YXRpb24oCiAgICByaXZlcmEyMDE1YSwgYmFzaWxpMjAxMGEsIHJlZj0iIiwKICAgIGNvbnRleHRzPVsKCiAgICBdLAopKQoKJycnLCBjaXRhdGlvbnM9J2Jhc2lsaTIwMTBhJyk7\"));\n",
       "    "
      ],
      "text/plain": [
       "<IPython.core.display.Javascript object>"
      ]
     },
     "metadata": {},
     "output_type": "display_data"
    },
    {
     "data": {
      "application/javascript": [
       "$('span:contains(\"# Temp\")').closest('.cell').remove();"
      ],
      "text/plain": [
       "<IPython.core.display.Javascript object>"
      ]
     },
     "metadata": {},
     "output_type": "display_data"
    },
    {
     "data": {
      "application/javascript": [
       "\n",
       "        $('span:contains(\"# Temp\")').closest('.cell').remove();\n",
       "        var code = IPython.notebook.insert_cell_below('code');\n",
       "        code.set_text(atob(\"IyBUZW1wCmluc2VydCgnJycKREIoQ2l0YXRpb24oCiAgICBoZWlkcmljaDIwMTJiLCBiYXNpbGkyMDEwYSwgcmVmPSIiLAogICAgY29udGV4dHM9WwoKICAgIF0sCikpCgonJycsIGNpdGF0aW9ucz0nYmFzaWxpMjAxMGEnKTsKc2V0X2F0dHJpYnV0ZSgnaGVpZHJpY2gyMDEyYicsICdleGNlcnB0JywgJ0Fic3RyYWN0IE1vc3Qgb2YgdG9kYXkncyBwcm9kdWN0cyBhbmQgc2VydmljZXMgYXJlIHNvZnR3YXJlLWJhc2VkLiBPcmdhbml6YXRpb25zIHRoYXQgZGV2ZWxvcCBzb2Z0d2FyZSB3YW50IHRvIG1haW50YWluIGFuZCBpbXByb3ZlIHRoZWlyIGNvbXBldGl0aXZlbmVzcyBieSBjb250cm9sbGluZyBzb2Z0d2FyZS1yZWxhdGVkIHJpc2tzLiBUbyBkbyB0aGlzLCB0aGV5IG5lZWQgdG8gYWxpZ24gdGhlaXIgYnVzaW5lc3MgZ29hbHMgd2l0aCBzb2Z0d2FyZSBkZXZlbG9wbWVudCAnKTs=\"));\n",
       "    "
      ],
      "text/plain": [
       "<IPython.core.display.Javascript object>"
      ]
     },
     "metadata": {},
     "output_type": "display_data"
    },
    {
     "data": {
      "application/javascript": [
       "$('span:contains(\"# Temp\")').closest('.cell').remove();"
      ],
      "text/plain": [
       "<IPython.core.display.Javascript object>"
      ]
     },
     "metadata": {},
     "output_type": "display_data"
    },
    {
     "data": {
      "application/javascript": [
       "\n",
       "        $('span:contains(\"# Temp\")').closest('.cell').remove();\n",
       "        var code = IPython.notebook.insert_cell_below('code');\n",
       "        code.set_text(atob(\"IyBUZW1wCmluc2VydCgnJycKREIoQ2l0YXRpb24oCiAgICBoZWlkcmljaDIwMTJiLCBiYXNpbGkyMDEwYSwgcmVmPSIiLAogICAgY29udGV4dHM9WwoKICAgIF0sCikpCgonJycsIGNpdGF0aW9ucz0nYmFzaWxpMjAxMGEnKTsKc2V0X2F0dHJpYnV0ZSgnaGVpZHJpY2gyMDEyYicsICdleGNlcnB0JywgJ0Fic3RyYWN0IE1vc3Qgb2YgdG9kYXkncyBwcm9kdWN0cyBhbmQgc2VydmljZXMgYXJlIHNvZnR3YXJlLWJhc2VkLiBPcmdhbml6YXRpb25zIHRoYXQgZGV2ZWxvcCBzb2Z0d2FyZSB3YW50IHRvIG1haW50YWluIGFuZCBpbXByb3ZlIHRoZWlyIGNvbXBldGl0aXZlbmVzcyBieSBjb250cm9sbGluZyBzb2Z0d2FyZS1yZWxhdGVkIHJpc2tzLiBUbyBkbyB0aGlzLCB0aGV5IG5lZWQgdG8gYWxpZ24gdGhlaXIgYnVzaW5lc3MgZ29hbHMgd2l0aCBzb2Z0d2FyZSBkZXZlbG9wbWVudCAnKTs=\"));\n",
       "    "
      ],
      "text/plain": [
       "<IPython.core.display.Javascript object>"
      ]
     },
     "metadata": {},
     "output_type": "display_data"
    },
    {
     "data": {
      "application/javascript": [
       "$('span:contains(\"# Temp\")').closest('.cell').remove();"
      ],
      "text/plain": [
       "<IPython.core.display.Javascript object>"
      ]
     },
     "metadata": {},
     "output_type": "display_data"
    },
    {
     "data": {
      "application/javascript": [
       "\n",
       "        $('span:contains(\"# Temp\")').closest('.cell').remove();\n",
       "        var code = IPython.notebook.insert_cell_below('code');\n",
       "        code.set_text(atob(\"IyBUZW1wCmluc2VydCgnJycKZG9lcnIyMDEzYSA9IERCKFdvcmtVbnJlbGF0ZWQoCiAgICAyMDEzLCAiTW9kZWxpbmcgQ29tcGxleCBJbmZvcm1hdGlvbiBTeXN0ZW1zIiwKICAgIGRpc3BsYXk9ImRvZXJyIiwKICAgIGF1dGhvcnM9IkRvZXJyLCBKb2VyZyIsCiAgICBwbGFjZT1GQUtFLAogICAgcHA9Ijk1LS0xMDkiLAogICAgZW50cnl0eXBlPSJpbmNvbGxlY3Rpb24iLAogICAgcHVibGlzaGVyPSJTcHJpbmdlciIsCiAgICBJRD0iZG9lcnIyMDEzbW9kZWxpbmciLAogICAgY2x1c3Rlcl9pZD0iMTE2NzcwMTIzMzgyNzY0ODI0NzciLAogICAgc2Nob2xhcj0iaHR0cDovL3NjaG9sYXIuZ29vZ2xlLmNvbS9zY2hvbGFyP2NpdGVzPTExNjc3MDEyMzM4Mjc2NDgyNDc3JmFzX3NkdD0yMDA1JnNjaW9kdD0wLDUmaGw9ZW4iLAogICAgcGxhY2V4PSJQZXJzcGVjdGl2ZXMgb24gdGhlIEZ1dHVyZSBvZiBTb2Z0d2FyZSBFbmdpbmVlcmluZyIsCikpCgpEQihDaXRhdGlvbigKICAgIGRvZXJyMjAxM2EsIGJhc2lsaTIwMTBhLCByZWY9IiIsCiAgICBjb250ZXh0cz1bCgogICAgXSwKKSkKCicnJywgY2l0YXRpb25zPSdiYXNpbGkyMDEwYScpOw==\"));\n",
       "    "
      ],
      "text/plain": [
       "<IPython.core.display.Javascript object>"
      ]
     },
     "metadata": {},
     "output_type": "display_data"
    },
    {
     "data": {
      "application/javascript": [
       "$('span:contains(\"# Temp\")').closest('.cell').remove();"
      ],
      "text/plain": [
       "<IPython.core.display.Javascript object>"
      ]
     },
     "metadata": {},
     "output_type": "display_data"
    },
    {
     "data": {
      "application/javascript": [
       "\n",
       "        $('span:contains(\"# Temp\")').closest('.cell').remove();\n",
       "        var code = IPython.notebook.insert_cell_below('code');\n",
       "        code.set_text(atob(\"IyBUZW1wCmluc2VydCgnJycKZG9lcnIyMDEzYSA9IERCKFdvcmtVbnJlbGF0ZWQoCiAgICAyMDEzLCAiTW9kZWxpbmcgQ29tcGxleCBJbmZvcm1hdGlvbiBTeXN0ZW1zIiwKICAgIGRpc3BsYXk9ImRvZXJyIiwKICAgIGF1dGhvcnM9IkRvZXJyLCBKb2VyZyIsCiAgICBwbGFjZT1GQUtFLAogICAgcHA9Ijk1LS0xMDkiLAogICAgZW50cnl0eXBlPSJpbmNvbGxlY3Rpb24iLAogICAgcHVibGlzaGVyPSJTcHJpbmdlciIsCiAgICBJRD0iZG9lcnIyMDEzbW9kZWxpbmciLAogICAgY2x1c3Rlcl9pZD0iMTE2NzcwMTIzMzgyNzY0ODI0NzciLAogICAgc2Nob2xhcj0iaHR0cDovL3NjaG9sYXIuZ29vZ2xlLmNvbS9zY2hvbGFyP2NpdGVzPTExNjc3MDEyMzM4Mjc2NDgyNDc3JmFzX3NkdD0yMDA1JnNjaW9kdD0wLDUmaGw9ZW4iLAogICAgcGxhY2V4PSJQZXJzcGVjdGl2ZXMgb24gdGhlIEZ1dHVyZSBvZiBTb2Z0d2FyZSBFbmdpbmVlcmluZyIsCikpCgpEQihDaXRhdGlvbigKICAgIGRvZXJyMjAxM2EsIGJhc2lsaTIwMTBhLCByZWY9IiIsCiAgICBjb250ZXh0cz1bCgogICAgXSwKKSkKCicnJywgY2l0YXRpb25zPSdiYXNpbGkyMDEwYScpOw==\"));\n",
       "    "
      ],
      "text/plain": [
       "<IPython.core.display.Javascript object>"
      ]
     },
     "metadata": {},
     "output_type": "display_data"
    },
    {
     "data": {
      "application/javascript": [
       "$('span:contains(\"# Temp\")').closest('.cell').remove();"
      ],
      "text/plain": [
       "<IPython.core.display.Javascript object>"
      ]
     },
     "metadata": {},
     "output_type": "display_data"
    },
    {
     "data": {
      "application/javascript": [
       "\n",
       "        $('span:contains(\"# Temp\")').closest('.cell').remove();\n",
       "        var code = IPython.notebook.insert_cell_below('code');\n",
       "        code.set_text(atob(\"IyBUZW1wCmluc2VydCgnJycKbm92YWlzMjAxOGEgPSBEQihXb3JrVW5yZWxhdGVkKAogICAgMjAxOCwgIlNvZnR3YXJlIGV2b2x1dGlvbiB2aXN1YWxpemF0aW9uOiBzdGF0dXMsIGNoYWxsZW5nZXMsIGFuZCByZXNlYXJjaCBkaXJlY3Rpb25zIiwKICAgIGRpc3BsYXk9Im5vdmFpcyIsCiAgICBhdXRob3JzPSJOb3ZhaXMsIFJlbmF0byBMaW1hIGFuZCBkZSBNZW5kb257531hIE5ldG8sIE1hbm9lbCBHb21lcyIsCiAgICBwbGFjZT1GQUtFLAogICAgcHA9IjIwNTMtLTIwNjciLAogICAgZW50cnl0eXBlPSJpbmNvbGxlY3Rpb24iLAogICAgcHVibGlzaGVyPSJJR0kgR2xvYmFsIiwKICAgIElEPSJub3ZhaXMyMDE4c29mdHdhcmUiLAogICAgY2x1c3Rlcl9pZD0iMTUyMDE2NDM5NDY1NjM0Mzg5NTUiLAogICAgc2Nob2xhcj0iaHR0cDovL3NjaG9sYXIuZ29vZ2xlLmNvbS9zY2hvbGFyP2NpdGVzPTE1MjAxNjQzOTQ2NTYzNDM4OTU1JmFzX3NkdD0yMDA1JnNjaW9kdD0wLDUmaGw9ZW4iLAogICAgcGxhY2V4PSJDb21wdXRlciBTeXN0ZW1zIGFuZCBTb2Z0d2FyZSBFbmdpbmVlcmluZzogQ29uY2VwdHMsIE1ldGhvZG9sb2dpZXMsIFRvb2xzLCBhbmQgQXBwbGljYXRpb25zIiwKKSkKCkRCKENpdGF0aW9uKAogICAgbm92YWlzMjAxOGEsIGJhc2lsaTIwMTBhLCByZWY9IiIsCiAgICBjb250ZXh0cz1bCgogICAgXSwKKSkKCicnJywgY2l0YXRpb25zPSdiYXNpbGkyMDEwYScpOw==\"));\n",
       "    "
      ],
      "text/plain": [
       "<IPython.core.display.Javascript object>"
      ]
     },
     "metadata": {},
     "output_type": "display_data"
    },
    {
     "data": {
      "application/javascript": [
       "$('span:contains(\"# Temp\")').closest('.cell').remove();"
      ],
      "text/plain": [
       "<IPython.core.display.Javascript object>"
      ]
     },
     "metadata": {},
     "output_type": "display_data"
    },
    {
     "data": {
      "application/javascript": [
       "\n",
       "        $('span:contains(\"# Temp\")').closest('.cell').remove();\n",
       "        var code = IPython.notebook.insert_cell_below('code');\n",
       "        code.set_text(atob(\"IyBUZW1wCmluc2VydCgnJycKbm92YWlzMjAxOGEgPSBEQihXb3JrVW5yZWxhdGVkKAogICAgMjAxOCwgIlNvZnR3YXJlIGV2b2x1dGlvbiB2aXN1YWxpemF0aW9uOiBzdGF0dXMsIGNoYWxsZW5nZXMsIGFuZCByZXNlYXJjaCBkaXJlY3Rpb25zIiwKICAgIGRpc3BsYXk9Im5vdmFpcyIsCiAgICBhdXRob3JzPSJOb3ZhaXMsIFJlbmF0byBMaW1hIGFuZCBkZSBNZW5kb257531hIE5ldG8sIE1hbm9lbCBHb21lcyIsCiAgICBwbGFjZT1GQUtFLAogICAgcHA9IjIwNTMtLTIwNjciLAogICAgZW50cnl0eXBlPSJpbmNvbGxlY3Rpb24iLAogICAgcHVibGlzaGVyPSJJR0kgR2xvYmFsIiwKICAgIElEPSJub3ZhaXMyMDE4c29mdHdhcmUiLAogICAgY2x1c3Rlcl9pZD0iMTUyMDE2NDM5NDY1NjM0Mzg5NTUiLAogICAgc2Nob2xhcj0iaHR0cDovL3NjaG9sYXIuZ29vZ2xlLmNvbS9zY2hvbGFyP2NpdGVzPTE1MjAxNjQzOTQ2NTYzNDM4OTU1JmFzX3NkdD0yMDA1JnNjaW9kdD0wLDUmaGw9ZW4iLAogICAgcGxhY2V4PSJDb21wdXRlciBTeXN0ZW1zIGFuZCBTb2Z0d2FyZSBFbmdpbmVlcmluZzogQ29uY2VwdHMsIE1ldGhvZG9sb2dpZXMsIFRvb2xzLCBhbmQgQXBwbGljYXRpb25zIiwKKSkKCkRCKENpdGF0aW9uKAogICAgbm92YWlzMjAxOGEsIGJhc2lsaTIwMTBhLCByZWY9IiIsCiAgICBjb250ZXh0cz1bCgogICAgXSwKKSkKCicnJywgY2l0YXRpb25zPSdiYXNpbGkyMDEwYScpOw==\"));\n",
       "    "
      ],
      "text/plain": [
       "<IPython.core.display.Javascript object>"
      ]
     },
     "metadata": {},
     "output_type": "display_data"
    },
    {
     "data": {
      "application/javascript": [
       "$('span:contains(\"# Temp\")').closest('.cell').remove();"
      ],
      "text/plain": [
       "<IPython.core.display.Javascript object>"
      ]
     },
     "metadata": {},
     "output_type": "display_data"
    },
    {
     "data": {
      "application/javascript": [
       "\n",
       "        $('span:contains(\"# Temp\")').closest('.cell').remove();\n",
       "        var code = IPython.notebook.insert_cell_below('code');\n",
       "        code.set_text(atob(\"IyBUZW1wCmluc2VydCgnJycKREIoQ2l0YXRpb24oCiAgICBhc2doYXJpMjAxMmEsIGJhc2lsaTIwMTBhLCByZWY9IiIsCiAgICBjb250ZXh0cz1bCgogICAgXSwKKSkKCicnJywgY2l0YXRpb25zPSdiYXNpbGkyMDEwYScpOwpzZXRfYXR0cmlidXRlKCdhc2doYXJpMjAxMmEnLCAnZXhjZXJwdCcsICdBQlNUUkFDVCBDb250ZXh0LiBNb3N0IG9yZ2FuaXphdGlvbnMgYXJlIGF3YXJlIG9mIHRoZSBzaWduaWZpY2FuY2Ugb2Ygc29mdHdhcmUgbWVhc3VyZW1lbnQgcHJvZ3JhbXMgdG8gaGVscCBvcmdhbml6YXRpb25zIGFzc2VzcyBhbmQgaW1wcm92ZSB0aGUgd2F5cyB0aGV5IGRldmVsb3Agc29mdHdhcmUuIE1lYXN1cmVtZW50IHBsYXlzIGEgdml0YWwgcm9sZSBpbiBpbXByb3Zpbmcgc29mdHdhcmUgcHJvY2VzcyBhbmQgcHJvZHVjdHMuICcpOw==\"));\n",
       "    "
      ],
      "text/plain": [
       "<IPython.core.display.Javascript object>"
      ]
     },
     "metadata": {},
     "output_type": "display_data"
    },
    {
     "data": {
      "application/javascript": [
       "$('span:contains(\"# Temp\")').closest('.cell').remove();"
      ],
      "text/plain": [
       "<IPython.core.display.Javascript object>"
      ]
     },
     "metadata": {},
     "output_type": "display_data"
    },
    {
     "data": {
      "application/javascript": [
       "\n",
       "        $('span:contains(\"# Temp\")').closest('.cell').remove();\n",
       "        var code = IPython.notebook.insert_cell_below('code');\n",
       "        code.set_text(atob(\"IyBUZW1wCmluc2VydCgnJycKREIoQ2l0YXRpb24oCiAgICBhc2doYXJpMjAxMmEsIGJhc2lsaTIwMTBhLCByZWY9IiIsCiAgICBjb250ZXh0cz1bCgogICAgXSwKKSkKCicnJywgY2l0YXRpb25zPSdiYXNpbGkyMDEwYScpOwpzZXRfYXR0cmlidXRlKCdhc2doYXJpMjAxMmEnLCAnZXhjZXJwdCcsICdBQlNUUkFDVCBDb250ZXh0LiBNb3N0IG9yZ2FuaXphdGlvbnMgYXJlIGF3YXJlIG9mIHRoZSBzaWduaWZpY2FuY2Ugb2Ygc29mdHdhcmUgbWVhc3VyZW1lbnQgcHJvZ3JhbXMgdG8gaGVscCBvcmdhbml6YXRpb25zIGFzc2VzcyBhbmQgaW1wcm92ZSB0aGUgd2F5cyB0aGV5IGRldmVsb3Agc29mdHdhcmUuIE1lYXN1cmVtZW50IHBsYXlzIGEgdml0YWwgcm9sZSBpbiBpbXByb3Zpbmcgc29mdHdhcmUgcHJvY2VzcyBhbmQgcHJvZHVjdHMuICcpOw==\"));\n",
       "    "
      ],
      "text/plain": [
       "<IPython.core.display.Javascript object>"
      ]
     },
     "metadata": {},
     "output_type": "display_data"
    },
    {
     "data": {
      "application/javascript": [
       "$('span:contains(\"# Temp\")').closest('.cell').remove();"
      ],
      "text/plain": [
       "<IPython.core.display.Javascript object>"
      ]
     },
     "metadata": {},
     "output_type": "display_data"
    },
    {
     "data": {
      "application/javascript": [
       "\n",
       "        $('span:contains(\"# Temp\")').closest('.cell').remove();\n",
       "        var code = IPython.notebook.insert_cell_below('code');\n",
       "        code.set_text(atob(\"IyBUZW1wCmluc2VydCgnJycKb2xzaW5hMGEgPSBEQihXb3JrVW5yZWxhdGVkKAogICAgMCwgIkZhbWlseSBvZiBTdHJhdGVnaWVzIGZvciBkaWZmZXJlbnQgRXZhbHVhdGlvbiBQdXJwb3NlcyIsCiAgICBkaXNwbGF5PSJvbHNpbmEiLAogICAgYXV0aG9ycz0iT2xzaW5hLCBMdWlzIGFuZCBCZWNrZXIsIFBhYmxvIiwKICAgIHBsYWNlPUZBS0UsCiAgICBlbnRyeXR5cGU9ImlucHJvY2VlZGluZ3MiLAogICAgdm9sdW1lPSIxNCIsCiAgICBJRD0ib2xzaW5hMTRmYW1pbHkiLAogICAgY2x1c3Rlcl9pZD0iMTI5NjEzNjQ0NTA3NDcwNjQ2MTciLAogICAgc2Nob2xhcj0iaHR0cDovL3NjaG9sYXIuZ29vZ2xlLmNvbS9zY2hvbGFyP2NpdGVzPTEyOTYxMzY0NDUwNzQ3MDY0NjE3JmFzX3NkdD0yMDA1JnNjaW9kdD0wLDUmaGw9ZW4iLAogICAgcGxhY2V4PSJQcm9jLiBkZSBsYSBYWCBDb25mZXJlbmNpYSBJYmVyb2FtZXJpY2FuYSBlblwiIFNvZnR3YXJlIEVuZ2luZWVyaW5nXCIoQ0liU0UpLCBDQUJBLCBBcmdlbnRpbmEiLAopKQoKREIoQ2l0YXRpb24oCiAgICBvbHNpbmEwYSwgYmFzaWxpMjAxMGEsIHJlZj0iIiwKICAgIGNvbnRleHRzPVsKCiAgICBdLAopKQoKJycnLCBjaXRhdGlvbnM9J2Jhc2lsaTIwMTBhJyk7\"));\n",
       "    "
      ],
      "text/plain": [
       "<IPython.core.display.Javascript object>"
      ]
     },
     "metadata": {},
     "output_type": "display_data"
    },
    {
     "data": {
      "application/javascript": [
       "$('span:contains(\"# Temp\")').closest('.cell').remove();"
      ],
      "text/plain": [
       "<IPython.core.display.Javascript object>"
      ]
     },
     "metadata": {},
     "output_type": "display_data"
    },
    {
     "data": {
      "application/javascript": [
       "\n",
       "        $('span:contains(\"# Temp\")').closest('.cell').remove();\n",
       "        var code = IPython.notebook.insert_cell_below('code');\n",
       "        code.set_text(atob(\"IyBUZW1wCmluc2VydCgnJycKb2xzaW5hMGEgPSBEQihXb3JrVW5yZWxhdGVkKAogICAgMCwgIkZhbWlseSBvZiBTdHJhdGVnaWVzIGZvciBkaWZmZXJlbnQgRXZhbHVhdGlvbiBQdXJwb3NlcyIsCiAgICBkaXNwbGF5PSJvbHNpbmEiLAogICAgYXV0aG9ycz0iT2xzaW5hLCBMdWlzIGFuZCBCZWNrZXIsIFBhYmxvIiwKICAgIHBsYWNlPUZBS0UsCiAgICBlbnRyeXR5cGU9ImlucHJvY2VlZGluZ3MiLAogICAgdm9sdW1lPSIxNCIsCiAgICBJRD0ib2xzaW5hMTRmYW1pbHkiLAogICAgY2x1c3Rlcl9pZD0iMTI5NjEzNjQ0NTA3NDcwNjQ2MTciLAogICAgc2Nob2xhcj0iaHR0cDovL3NjaG9sYXIuZ29vZ2xlLmNvbS9zY2hvbGFyP2NpdGVzPTEyOTYxMzY0NDUwNzQ3MDY0NjE3JmFzX3NkdD0yMDA1JnNjaW9kdD0wLDUmaGw9ZW4iLAogICAgcGxhY2V4PSJQcm9jLiBkZSBsYSBYWCBDb25mZXJlbmNpYSBJYmVyb2FtZXJpY2FuYSBlblwiIFNvZnR3YXJlIEVuZ2luZWVyaW5nXCIoQ0liU0UpLCBDQUJBLCBBcmdlbnRpbmEiLAopKQoKREIoQ2l0YXRpb24oCiAgICBvbHNpbmEwYSwgYmFzaWxpMjAxMGEsIHJlZj0iIiwKICAgIGNvbnRleHRzPVsKCiAgICBdLAopKQoKJycnLCBjaXRhdGlvbnM9J2Jhc2lsaTIwMTBhJyk7\"));\n",
       "    "
      ],
      "text/plain": [
       "<IPython.core.display.Javascript object>"
      ]
     },
     "metadata": {},
     "output_type": "display_data"
    },
    {
     "data": {
      "application/javascript": [
       "$('span:contains(\"# Temp\")').closest('.cell').remove();"
      ],
      "text/plain": [
       "<IPython.core.display.Javascript object>"
      ]
     },
     "metadata": {},
     "output_type": "display_data"
    },
    {
     "data": {
      "application/javascript": [
       "\n",
       "        $('span:contains(\"# Temp\")').closest('.cell').remove();\n",
       "        var code = IPython.notebook.insert_cell_below('code');\n",
       "        code.set_text(atob(\"IyBUZW1wCmluc2VydCgnJycKbGF2YXp6YTIwMTVhID0gREIoV29ya1VucmVsYXRlZCgKICAgIDIwMTUsICJEZWZpbmluZyBhbmQgZXZhbHVhdGluZyBzb2Z0d2FyZSBwcm9qZWN0IHN1Y2Nlc3MgaW5kaWNhdG9yczogQSBHUU0tYmFzZWQgY2FzZSBzdHVkeSIsCiAgICBkaXNwbGF5PSJsYXZhenphIiwKICAgIGF1dGhvcnM9IkxhdmF6emEsIEx1aWdpIGFuZCBGcnVtZW50bywgRW5yaWNvIGFuZCBNYXp6YSwgUmljY2FyZG8iLAogICAgcGxhY2U9RkFLRSwKICAgIHBwPSIxLS0xMiIsCiAgICBlbnRyeXR5cGU9ImlucHJvY2VlZGluZ3MiLAogICAgdm9sdW1lPSIxIiwKICAgIG9yZ2FuaXphdGlvbj0iSUVFRSIsCiAgICBJRD0ibGF2YXp6YTIwMTVkZWZpbmluZyIsCiAgICBjbHVzdGVyX2lkPSIxMzI3NjQ4MDY2MDc1NzU5Nzg4IiwKICAgIHNjaG9sYXI9Imh0dHA6Ly9zY2hvbGFyLmdvb2dsZS5jb20vc2Nob2xhcj9jaXRlcz0xMzI3NjQ4MDY2MDc1NzU5Nzg4JmFzX3NkdD0yMDA1JnNjaW9kdD0wLDUmaGw9ZW4iLAogICAgcGxhY2V4PSJTb2Z0d2FyZSBUZWNobm9sb2dpZXMgKElDU09GVCksIDIwMTUgMTB0aCBJbnRlcm5hdGlvbmFsIEpvaW50IENvbmZlcmVuY2Ugb24iLAopKQoKREIoQ2l0YXRpb24oCiAgICBsYXZhenphMjAxNWEsIGJhc2lsaTIwMTBhLCByZWY9IiIsCiAgICBjb250ZXh0cz1bCgogICAgXSwKKSkKCicnJywgY2l0YXRpb25zPSdiYXNpbGkyMDEwYScpOw==\"));\n",
       "    "
      ],
      "text/plain": [
       "<IPython.core.display.Javascript object>"
      ]
     },
     "metadata": {},
     "output_type": "display_data"
    },
    {
     "data": {
      "application/javascript": [
       "$('span:contains(\"# Temp\")').closest('.cell').remove();"
      ],
      "text/plain": [
       "<IPython.core.display.Javascript object>"
      ]
     },
     "metadata": {},
     "output_type": "display_data"
    },
    {
     "data": {
      "application/javascript": [
       "\n",
       "        $('span:contains(\"# Temp\")').closest('.cell').remove();\n",
       "        var code = IPython.notebook.insert_cell_below('code');\n",
       "        code.set_text(atob(\"IyBUZW1wCmluc2VydCgnJycKbGF2YXp6YTIwMTVhID0gREIoV29ya1VucmVsYXRlZCgKICAgIDIwMTUsICJEZWZpbmluZyBhbmQgZXZhbHVhdGluZyBzb2Z0d2FyZSBwcm9qZWN0IHN1Y2Nlc3MgaW5kaWNhdG9yczogQSBHUU0tYmFzZWQgY2FzZSBzdHVkeSIsCiAgICBkaXNwbGF5PSJsYXZhenphIiwKICAgIGF1dGhvcnM9IkxhdmF6emEsIEx1aWdpIGFuZCBGcnVtZW50bywgRW5yaWNvIGFuZCBNYXp6YSwgUmljY2FyZG8iLAogICAgcGxhY2U9RkFLRSwKICAgIHBwPSIxLS0xMiIsCiAgICBlbnRyeXR5cGU9ImlucHJvY2VlZGluZ3MiLAogICAgdm9sdW1lPSIxIiwKICAgIG9yZ2FuaXphdGlvbj0iSUVFRSIsCiAgICBJRD0ibGF2YXp6YTIwMTVkZWZpbmluZyIsCiAgICBjbHVzdGVyX2lkPSIxMzI3NjQ4MDY2MDc1NzU5Nzg4IiwKICAgIHNjaG9sYXI9Imh0dHA6Ly9zY2hvbGFyLmdvb2dsZS5jb20vc2Nob2xhcj9jaXRlcz0xMzI3NjQ4MDY2MDc1NzU5Nzg4JmFzX3NkdD0yMDA1JnNjaW9kdD0wLDUmaGw9ZW4iLAogICAgcGxhY2V4PSJTb2Z0d2FyZSBUZWNobm9sb2dpZXMgKElDU09GVCksIDIwMTUgMTB0aCBJbnRlcm5hdGlvbmFsIEpvaW50IENvbmZlcmVuY2Ugb24iLAopKQoKREIoQ2l0YXRpb24oCiAgICBsYXZhenphMjAxNWEsIGJhc2lsaTIwMTBhLCByZWY9IiIsCiAgICBjb250ZXh0cz1bCgogICAgXSwKKSkKCicnJywgY2l0YXRpb25zPSdiYXNpbGkyMDEwYScpOw==\"));\n",
       "    "
      ],
      "text/plain": [
       "<IPython.core.display.Javascript object>"
      ]
     },
     "metadata": {},
     "output_type": "display_data"
    },
    {
     "data": {
      "application/javascript": [
       "$('span:contains(\"# Temp\")').closest('.cell').remove();"
      ],
      "text/plain": [
       "<IPython.core.display.Javascript object>"
      ]
     },
     "metadata": {},
     "output_type": "display_data"
    },
    {
     "data": {
      "application/javascript": [
       "\n",
       "        $('span:contains(\"# Temp\")').closest('.cell').remove();\n",
       "        var code = IPython.notebook.insert_cell_below('code');\n",
       "        code.set_text(atob(\"IyBUZW1wCmluc2VydCgnJycKd2FzaGl6YWtpMjAxN2EgPSBEQihXb3JrVW5yZWxhdGVkKAogICAgMjAxNywgIlBpdGZhbGxzIGFuZCBDb3VudGVybWVhc3VyZXMgaW4gU29mdHdhcmUgUXVhbGl0eSBNZWFzdXJlbWVudHMgYW5kIEV2YWx1YXRpb25zIiwKICAgIGRpc3BsYXk9Indhc2hpemFraSIsCiAgICBhdXRob3JzPSJXYXNoaXpha2ksIEhpcm9ub3JpIiwKICAgIHBsYWNlPUMsCiAgICBwcD0iMS0tMjIiLAogICAgZW50cnl0eXBlPSJpbmNvbGxlY3Rpb24iLAogICAgdm9sdW1lPSIxMDciLAogICAgcHVibGlzaGVyPSJFbHNldmllciIsCiAgICBJRD0id2FzaGl6YWtpMjAxN3BpdGZhbGxzIiwKICAgIGNsdXN0ZXJfaWQ9IjE3NDk0MjAxNDQxMjA3ODUxMCIsCiAgICBzY2hvbGFyPSJodHRwOi8vc2Nob2xhci5nb29nbGUuY29tL3NjaG9sYXI/Y2l0ZXM9MTc0OTQyMDE0NDEyMDc4NTEwJmFzX3NkdD0yMDA1JnNjaW9kdD0wLDUmaGw9ZW4iLAogICAgcGxhY2V4PSJBZHZhbmNlcyBpbiBDb21wdXRlcnMiLAopKQoKREIoQ2l0YXRpb24oCiAgICB3YXNoaXpha2kyMDE3YSwgYmFzaWxpMjAxMGEsIHJlZj0iIiwKICAgIGNvbnRleHRzPVsKCiAgICBdLAopKQoKJycnLCBjaXRhdGlvbnM9J2Jhc2lsaTIwMTBhJyk7\"));\n",
       "    "
      ],
      "text/plain": [
       "<IPython.core.display.Javascript object>"
      ]
     },
     "metadata": {},
     "output_type": "display_data"
    },
    {
     "data": {
      "application/javascript": [
       "$('span:contains(\"# Temp\")').closest('.cell').remove();"
      ],
      "text/plain": [
       "<IPython.core.display.Javascript object>"
      ]
     },
     "metadata": {},
     "output_type": "display_data"
    },
    {
     "data": {
      "application/javascript": [
       "\n",
       "        $('span:contains(\"# Temp\")').closest('.cell').remove();\n",
       "        var code = IPython.notebook.insert_cell_below('code');\n",
       "        code.set_text(atob(\"IyBUZW1wCmluc2VydCgnJycKd2FzaGl6YWtpMjAxN2EgPSBEQihXb3JrVW5yZWxhdGVkKAogICAgMjAxNywgIlBpdGZhbGxzIGFuZCBDb3VudGVybWVhc3VyZXMgaW4gU29mdHdhcmUgUXVhbGl0eSBNZWFzdXJlbWVudHMgYW5kIEV2YWx1YXRpb25zIiwKICAgIGRpc3BsYXk9Indhc2hpemFraSIsCiAgICBhdXRob3JzPSJXYXNoaXpha2ksIEhpcm9ub3JpIiwKICAgIHBsYWNlPUMsCiAgICBwcD0iMS0tMjIiLAogICAgZW50cnl0eXBlPSJpbmNvbGxlY3Rpb24iLAogICAgdm9sdW1lPSIxMDciLAogICAgcHVibGlzaGVyPSJFbHNldmllciIsCiAgICBJRD0id2FzaGl6YWtpMjAxN3BpdGZhbGxzIiwKICAgIGNsdXN0ZXJfaWQ9IjE3NDk0MjAxNDQxMjA3ODUxMCIsCiAgICBzY2hvbGFyPSJodHRwOi8vc2Nob2xhci5nb29nbGUuY29tL3NjaG9sYXI/Y2l0ZXM9MTc0OTQyMDE0NDEyMDc4NTEwJmFzX3NkdD0yMDA1JnNjaW9kdD0wLDUmaGw9ZW4iLAogICAgcGxhY2V4PSJBZHZhbmNlcyBpbiBDb21wdXRlcnMiLAopKQoKREIoQ2l0YXRpb24oCiAgICB3YXNoaXpha2kyMDE3YSwgYmFzaWxpMjAxMGEsIHJlZj0iIiwKICAgIGNvbnRleHRzPVsKCiAgICBdLAopKQoKJycnLCBjaXRhdGlvbnM9J2Jhc2lsaTIwMTBhJyk7\"));\n",
       "    "
      ],
      "text/plain": [
       "<IPython.core.display.Javascript object>"
      ]
     },
     "metadata": {},
     "output_type": "display_data"
    },
    {
     "data": {
      "application/javascript": [
       "$('span:contains(\"# Temp\")').closest('.cell').remove();"
      ],
      "text/plain": [
       "<IPython.core.display.Javascript object>"
      ]
     },
     "metadata": {},
     "output_type": "display_data"
    },
    {
     "data": {
      "application/javascript": [
       "\n",
       "        $('span:contains(\"# Temp\")').closest('.cell').remove();\n",
       "        var code = IPython.notebook.insert_cell_below('code');\n",
       "        code.set_text(atob(\"IyBUZW1wCmluc2VydCgnJycKcOlyZXoyMDE3YSA9IERCKFdvcmtVbnJlbGF0ZWQoCiAgICAyMDE3LCAiSW50ZWdyYXRpb24gb2YgQmFsYW5jZWQgU2NvcmVjYXJkIChCU0MpLCBTdHJhdGVneSBNYXAsIGFuZCBGdXp6eSBBbmFseXRpYyBIaWVyYXJjaHkgUHJvY2VzcyAoRkFIUCkgZm9yIGEgU3VzdGFpbmFiaWxpdHkgQnVzaW5lc3MgRnJhbWV3b3JrOiBBIENhc2UgU3R1ZHkgb2YgYSBTcGFuaXNoIFNvZnR3YXJlIEZhY3RvcnkgaW4gdGhlIEZpbmFuY2lhbCBTZWN0b3IiLAogICAgZGlzcGxheT0icOlyZXoiLAogICAgYXV0aG9ycz0iUOlyZXosIEPpc2FyIMFsdmFyZXogYW5kIE1vbnRlcXXtbiwgVmljZW50ZSBSb2Ry7Wd1ZXogYW5kIEZlcm7hbmRleiwgRnJhbmNpc2NvIE9ydGVnYSBhbmQgQmFsc2VyYSwgSm9hcXXtbiBWaWxsYW51ZXZhIiwKICAgIHBsYWNlPUZBS0UsCiAgICBwcD0iNTI3IiwKICAgIGVudHJ5dHlwZT0iYXJ0aWNsZSIsCiAgICB2b2x1bWU9IjkiLAogICAgbnVtYmVyPSI0IiwKICAgIHB1Ymxpc2hlcj0iTXVsdGlkaXNjaXBsaW5hcnkgRGlnaXRhbCBQdWJsaXNoaW5nIEluc3RpdHV0ZSIsCiAgICBJRD0icGVyZXoyMDE3aW50ZWdyYXRpb24iLAogICAgY2x1c3Rlcl9pZD0iMjYwNjE4MDYxMDMzMTI1NzYzMCIsCiAgICBzY2hvbGFyPSJodHRwOi8vc2Nob2xhci5nb29nbGUuY29tL3NjaG9sYXI/Y2l0ZXM9MjYwNjE4MDYxMDMzMTI1NzYzMCZhc19zZHQ9MjAwNSZzY2lvZHQ9MCw1JmhsPWVuIiwKICAgIHBsYWNleD0iU3VzdGFpbmFiaWxpdHkiLAopKQoKREIoQ2l0YXRpb24oCiAgICBw6XJlejIwMTdhLCBiYXNpbGkyMDEwYSwgcmVmPSIiLAogICAgY29udGV4dHM9WwoKICAgIF0sCikpCgonJycsIGNpdGF0aW9ucz0nYmFzaWxpMjAxMGEnKTs=\"));\n",
       "    "
      ],
      "text/plain": [
       "<IPython.core.display.Javascript object>"
      ]
     },
     "metadata": {},
     "output_type": "display_data"
    },
    {
     "data": {
      "application/javascript": [
       "$('span:contains(\"# Temp\")').closest('.cell').remove();"
      ],
      "text/plain": [
       "<IPython.core.display.Javascript object>"
      ]
     },
     "metadata": {},
     "output_type": "display_data"
    },
    {
     "data": {
      "application/javascript": [
       "\n",
       "        $('span:contains(\"# Temp\")').closest('.cell').remove();\n",
       "        var code = IPython.notebook.insert_cell_below('code');\n",
       "        code.set_text(atob(\"IyBUZW1wCmluc2VydCgnJycKcOlyZXoyMDE3YSA9IERCKFdvcmtVbnJlbGF0ZWQoCiAgICAyMDE3LCAiSW50ZWdyYXRpb24gb2YgQmFsYW5jZWQgU2NvcmVjYXJkIChCU0MpLCBTdHJhdGVneSBNYXAsIGFuZCBGdXp6eSBBbmFseXRpYyBIaWVyYXJjaHkgUHJvY2VzcyAoRkFIUCkgZm9yIGEgU3VzdGFpbmFiaWxpdHkgQnVzaW5lc3MgRnJhbWV3b3JrOiBBIENhc2UgU3R1ZHkgb2YgYSBTcGFuaXNoIFNvZnR3YXJlIEZhY3RvcnkgaW4gdGhlIEZpbmFuY2lhbCBTZWN0b3IiLAogICAgZGlzcGxheT0icOlyZXoiLAogICAgYXV0aG9ycz0iUOlyZXosIEPpc2FyIMFsdmFyZXogYW5kIE1vbnRlcXXtbiwgVmljZW50ZSBSb2Ry7Wd1ZXogYW5kIEZlcm7hbmRleiwgRnJhbmNpc2NvIE9ydGVnYSBhbmQgQmFsc2VyYSwgSm9hcXXtbiBWaWxsYW51ZXZhIiwKICAgIHBsYWNlPUZBS0UsCiAgICBwcD0iNTI3IiwKICAgIGVudHJ5dHlwZT0iYXJ0aWNsZSIsCiAgICB2b2x1bWU9IjkiLAogICAgbnVtYmVyPSI0IiwKICAgIHB1Ymxpc2hlcj0iTXVsdGlkaXNjaXBsaW5hcnkgRGlnaXRhbCBQdWJsaXNoaW5nIEluc3RpdHV0ZSIsCiAgICBJRD0icGVyZXoyMDE3aW50ZWdyYXRpb24iLAogICAgY2x1c3Rlcl9pZD0iMjYwNjE4MDYxMDMzMTI1NzYzMCIsCiAgICBzY2hvbGFyPSJodHRwOi8vc2Nob2xhci5nb29nbGUuY29tL3NjaG9sYXI/Y2l0ZXM9MjYwNjE4MDYxMDMzMTI1NzYzMCZhc19zZHQ9MjAwNSZzY2lvZHQ9MCw1JmhsPWVuIiwKICAgIHBsYWNleD0iU3VzdGFpbmFiaWxpdHkiLAopKQoKREIoQ2l0YXRpb24oCiAgICBw6XJlejIwMTdhLCBiYXNpbGkyMDEwYSwgcmVmPSIiLAogICAgY29udGV4dHM9WwoKICAgIF0sCikpCgonJycsIGNpdGF0aW9ucz0nYmFzaWxpMjAxMGEnKTs=\"));\n",
       "    "
      ],
      "text/plain": [
       "<IPython.core.display.Javascript object>"
      ]
     },
     "metadata": {},
     "output_type": "display_data"
    },
    {
     "data": {
      "application/javascript": [
       "$('span:contains(\"# Temp\")').closest('.cell').remove();"
      ],
      "text/plain": [
       "<IPython.core.display.Javascript object>"
      ]
     },
     "metadata": {},
     "output_type": "display_data"
    },
    {
     "data": {
      "application/javascript": [
       "\n",
       "        $('span:contains(\"# Temp\")').closest('.cell').remove();\n",
       "        var code = IPython.notebook.insert_cell_below('code');\n",
       "        code.set_text(atob(\"IyBUZW1wCmluc2VydCgnJycKYmVja2VyMjAxNGEgPSBEQihXb3JrVW5yZWxhdGVkKAogICAgMjAxNCwgIlZpc2nzbiBkZSBwcm9jZXNvIGRlIGVzdHJhdGVnaWFzIGludGVncmFkYXMgZGUgbWVkaWNp824geSBldmFsdWFjafNuIGRlIGNhbGlkYWQiLAogICAgZGlzcGxheT0iYmVja2VyIiwKICAgIGF1dGhvcnM9IkJlY2tlciwgUGFibG8iLAogICAgcGxhY2U9VGhlc2lzLAogICAgZW50cnl0eXBlPSJwaGR0aGVzaXMiLAogICAgSUQ9ImJlY2tlcjIwMTR2aXNpb24iLAogICAgY2x1c3Rlcl9pZD0iOTc4MTEyNjM0MzM2NDU5MTI1NyIsCiAgICBzY2hvbGFyPSJodHRwOi8vc2Nob2xhci5nb29nbGUuY29tL3NjaG9sYXI/Y2l0ZXM9OTc4MTEyNjM0MzM2NDU5MTI1NyZhc19zZHQ9MjAwNSZzY2lvZHQ9MCw1JmhsPWVuIiwKICAgIGxvY2FsPSJGYWN1bHRhZCBkZSBJbmZvcm3hdGljYSIsCiAgICBwbGFjZXg9IiIsCikpCgpEQihDaXRhdGlvbigKICAgIGJlY2tlcjIwMTRhLCBiYXNpbGkyMDEwYSwgcmVmPSIiLAogICAgY29udGV4dHM9WwoKICAgIF0sCikpCgonJycsIGNpdGF0aW9ucz0nYmFzaWxpMjAxMGEnKTs=\"));\n",
       "    "
      ],
      "text/plain": [
       "<IPython.core.display.Javascript object>"
      ]
     },
     "metadata": {},
     "output_type": "display_data"
    },
    {
     "data": {
      "application/javascript": [
       "$('span:contains(\"# Temp\")').closest('.cell').remove();"
      ],
      "text/plain": [
       "<IPython.core.display.Javascript object>"
      ]
     },
     "metadata": {},
     "output_type": "display_data"
    },
    {
     "data": {
      "application/javascript": [
       "\n",
       "        $('span:contains(\"# Temp\")').closest('.cell').remove();\n",
       "        var code = IPython.notebook.insert_cell_below('code');\n",
       "        code.set_text(atob(\"IyBUZW1wCmluc2VydCgnJycKYmVja2VyMjAxNGEgPSBEQihXb3JrVW5yZWxhdGVkKAogICAgMjAxNCwgIlZpc2nzbiBkZSBwcm9jZXNvIGRlIGVzdHJhdGVnaWFzIGludGVncmFkYXMgZGUgbWVkaWNp824geSBldmFsdWFjafNuIGRlIGNhbGlkYWQiLAogICAgZGlzcGxheT0iYmVja2VyIiwKICAgIGF1dGhvcnM9IkJlY2tlciwgUGFibG8iLAogICAgcGxhY2U9VGhlc2lzLAogICAgZW50cnl0eXBlPSJwaGR0aGVzaXMiLAogICAgSUQ9ImJlY2tlcjIwMTR2aXNpb24iLAogICAgY2x1c3Rlcl9pZD0iOTc4MTEyNjM0MzM2NDU5MTI1NyIsCiAgICBzY2hvbGFyPSJodHRwOi8vc2Nob2xhci5nb29nbGUuY29tL3NjaG9sYXI/Y2l0ZXM9OTc4MTEyNjM0MzM2NDU5MTI1NyZhc19zZHQ9MjAwNSZzY2lvZHQ9MCw1JmhsPWVuIiwKICAgIGxvY2FsPSJGYWN1bHRhZCBkZSBJbmZvcm3hdGljYSIsCiAgICBwbGFjZXg9IiIsCikpCgpEQihDaXRhdGlvbigKICAgIGJlY2tlcjIwMTRhLCBiYXNpbGkyMDEwYSwgcmVmPSIiLAogICAgY29udGV4dHM9WwoKICAgIF0sCikpCgonJycsIGNpdGF0aW9ucz0nYmFzaWxpMjAxMGEnKTs=\"));\n",
       "    "
      ],
      "text/plain": [
       "<IPython.core.display.Javascript object>"
      ]
     },
     "metadata": {},
     "output_type": "display_data"
    },
    {
     "data": {
      "application/javascript": [
       "$('span:contains(\"# Temp\")').closest('.cell').remove();"
      ],
      "text/plain": [
       "<IPython.core.display.Javascript object>"
      ]
     },
     "metadata": {},
     "output_type": "display_data"
    },
    {
     "data": {
      "application/javascript": [
       "\n",
       "        $('span:contains(\"# Temp\")').closest('.cell').remove();\n",
       "        var code = IPython.notebook.insert_cell_below('code');\n",
       "        code.set_text(atob(\"IyBUZW1wCmluc2VydCgnJycKcGFwYTIwMTJiID0gREIoV29ya1VucmVsYXRlZCgKICAgIDIwMTIsICJBc3BlY3RvcyBkZSBNZWpvcmEgZGUgdW5hIEVzdHJhdGVnaWEgZGUgTWVkaWNp824geSBFdmFsdWFjafNuIGEgcGFydGlyIGRlIHVuIEFu4Wxpc2lzIENvbXBhcmF0aXZvIGRlIEVzdHJhdGVnaWFzIEludGVncmFkYXMuIiwKICAgIGRpc3BsYXk9InBhcGEgYiIsCiAgICBhdXRob3JzPSJQYXBhLCBNYXLtYSBGZXJuYW5kYSBhbmQgT2xzaW5hLCBMdWlzIiwKICAgIHBsYWNlPUZBS0UsCiAgICBwcD0iMTY4LS0xODEiLAogICAgZW50cnl0eXBlPSJpbnByb2NlZWRpbmdzIiwKICAgIElEPSJwYXBhMjAxMmFzcGVjdG9zIiwKICAgIGNsdXN0ZXJfaWQ9IjE0Njk5OTAwMjMwMDM2NDY1MDEzIiwKICAgIHNjaG9sYXI9Imh0dHA6Ly9zY2hvbGFyLmdvb2dsZS5jb20vc2Nob2xhcj9jaXRlcz0xNDY5OTkwMDIzMDAzNjQ2NTAxMyZhc19zZHQ9MjAwNSZzY2lvZHQ9MCw1JmhsPWVuIiwKICAgIHBsYWNleD0iQ0liU0UiLAopKQoKREIoQ2l0YXRpb24oCiAgICBwYXBhMjAxMmIsIGJhc2lsaTIwMTBhLCByZWY9IiIsCiAgICBjb250ZXh0cz1bCgogICAgXSwKKSkKCicnJywgY2l0YXRpb25zPSdiYXNpbGkyMDEwYScpOw==\"));\n",
       "    "
      ],
      "text/plain": [
       "<IPython.core.display.Javascript object>"
      ]
     },
     "metadata": {},
     "output_type": "display_data"
    },
    {
     "data": {
      "application/javascript": [
       "$('span:contains(\"# Temp\")').closest('.cell').remove();"
      ],
      "text/plain": [
       "<IPython.core.display.Javascript object>"
      ]
     },
     "metadata": {},
     "output_type": "display_data"
    },
    {
     "data": {
      "application/javascript": [
       "\n",
       "        $('span:contains(\"# Temp\")').closest('.cell').remove();\n",
       "        var code = IPython.notebook.insert_cell_below('code');\n",
       "        code.set_text(atob(\"IyBUZW1wCmluc2VydCgnJycKcGFwYTIwMTJiID0gREIoV29ya1VucmVsYXRlZCgKICAgIDIwMTIsICJBc3BlY3RvcyBkZSBNZWpvcmEgZGUgdW5hIEVzdHJhdGVnaWEgZGUgTWVkaWNp824geSBFdmFsdWFjafNuIGEgcGFydGlyIGRlIHVuIEFu4Wxpc2lzIENvbXBhcmF0aXZvIGRlIEVzdHJhdGVnaWFzIEludGVncmFkYXMuIiwKICAgIGRpc3BsYXk9InBhcGEgYiIsCiAgICBhdXRob3JzPSJQYXBhLCBNYXLtYSBGZXJuYW5kYSBhbmQgT2xzaW5hLCBMdWlzIiwKICAgIHBsYWNlPUZBS0UsCiAgICBwcD0iMTY4LS0xODEiLAogICAgZW50cnl0eXBlPSJpbnByb2NlZWRpbmdzIiwKICAgIElEPSJwYXBhMjAxMmFzcGVjdG9zIiwKICAgIGNsdXN0ZXJfaWQ9IjE0Njk5OTAwMjMwMDM2NDY1MDEzIiwKICAgIHNjaG9sYXI9Imh0dHA6Ly9zY2hvbGFyLmdvb2dsZS5jb20vc2Nob2xhcj9jaXRlcz0xNDY5OTkwMDIzMDAzNjQ2NTAxMyZhc19zZHQ9MjAwNSZzY2lvZHQ9MCw1JmhsPWVuIiwKICAgIHBsYWNleD0iQ0liU0UiLAopKQoKREIoQ2l0YXRpb24oCiAgICBwYXBhMjAxMmIsIGJhc2lsaTIwMTBhLCByZWY9IiIsCiAgICBjb250ZXh0cz1bCgogICAgXSwKKSkKCicnJywgY2l0YXRpb25zPSdiYXNpbGkyMDEwYScpOw==\"));\n",
       "    "
      ],
      "text/plain": [
       "<IPython.core.display.Javascript object>"
      ]
     },
     "metadata": {},
     "output_type": "display_data"
    },
    {
     "data": {
      "application/javascript": [
       "$('span:contains(\"# Temp\")').closest('.cell').remove();"
      ],
      "text/plain": [
       "<IPython.core.display.Javascript object>"
      ]
     },
     "metadata": {},
     "output_type": "display_data"
    },
    {
     "data": {
      "application/javascript": [
       "\n",
       "        $('span:contains(\"# Temp\")').closest('.cell').remove();\n",
       "        var code = IPython.notebook.insert_cell_below('code');\n",
       "        code.set_text(atob(\"IyBUZW1wCmluc2VydCgnJycKcGFwYTIwMTVhID0gREIoV29ya1VucmVsYXRlZCgKICAgIDIwMTUsICJBc2VndXJhbWllbnRvIGRlIGxhIGNhbGlkYWQgZGUgdW4gcmVjdXJzbyBvcmdhbml6YWNpb25hbDogZXZhbHVhbmRvIHkgbWVqb3JhbmRvIHVuYSBlc3RyYXRlZ2lhIGludGVncmFkYSBkZSBtZWRpY2nzbiB5IGV2YWx1YWNp824iLAogICAgZGlzcGxheT0icGFwYSIsCiAgICBhdXRob3JzPSJQYXBhLCBNYXLtYSBGZXJuYW5kYSIsCiAgICBwbGFjZT1UaGVzaXMsCiAgICBlbnRyeXR5cGU9InBoZHRoZXNpcyIsCiAgICBJRD0icGFwYTIwMTVhc2VndXJhbWllbnRvIiwKICAgIGNsdXN0ZXJfaWQ9IjQ0MzA4NTMzOTMzNDExOTI2NzQiLAogICAgc2Nob2xhcj0iaHR0cDovL3NjaG9sYXIuZ29vZ2xlLmNvbS9zY2hvbGFyP2NpdGVzPTQ0MzA4NTMzOTMzNDExOTI2NzQmYXNfc2R0PTIwMDUmc2Npb2R0PTAsNSZobD1lbiIsCiAgICBsb2NhbD0iRmFjdWx0YWQgZGUgSW5mb3Jt4XRpY2EiLAogICAgcGxhY2V4PSIiLAopKQoKREIoQ2l0YXRpb24oCiAgICBwYXBhMjAxNWEsIGJhc2lsaTIwMTBhLCByZWY9IiIsCiAgICBjb250ZXh0cz1bCgogICAgXSwKKSkKCicnJywgY2l0YXRpb25zPSdiYXNpbGkyMDEwYScpOw==\"));\n",
       "    "
      ],
      "text/plain": [
       "<IPython.core.display.Javascript object>"
      ]
     },
     "metadata": {},
     "output_type": "display_data"
    },
    {
     "data": {
      "application/javascript": [
       "$('span:contains(\"# Temp\")').closest('.cell').remove();"
      ],
      "text/plain": [
       "<IPython.core.display.Javascript object>"
      ]
     },
     "metadata": {},
     "output_type": "display_data"
    },
    {
     "data": {
      "application/javascript": [
       "\n",
       "        $('span:contains(\"# Temp\")').closest('.cell').remove();\n",
       "        var code = IPython.notebook.insert_cell_below('code');\n",
       "        code.set_text(atob(\"IyBUZW1wCmluc2VydCgnJycKcGFwYTIwMTVhID0gREIoV29ya1VucmVsYXRlZCgKICAgIDIwMTUsICJBc2VndXJhbWllbnRvIGRlIGxhIGNhbGlkYWQgZGUgdW4gcmVjdXJzbyBvcmdhbml6YWNpb25hbDogZXZhbHVhbmRvIHkgbWVqb3JhbmRvIHVuYSBlc3RyYXRlZ2lhIGludGVncmFkYSBkZSBtZWRpY2nzbiB5IGV2YWx1YWNp824iLAogICAgZGlzcGxheT0icGFwYSIsCiAgICBhdXRob3JzPSJQYXBhLCBNYXLtYSBGZXJuYW5kYSIsCiAgICBwbGFjZT1UaGVzaXMsCiAgICBlbnRyeXR5cGU9InBoZHRoZXNpcyIsCiAgICBJRD0icGFwYTIwMTVhc2VndXJhbWllbnRvIiwKICAgIGNsdXN0ZXJfaWQ9IjQ0MzA4NTMzOTMzNDExOTI2NzQiLAogICAgc2Nob2xhcj0iaHR0cDovL3NjaG9sYXIuZ29vZ2xlLmNvbS9zY2hvbGFyP2NpdGVzPTQ0MzA4NTMzOTMzNDExOTI2NzQmYXNfc2R0PTIwMDUmc2Npb2R0PTAsNSZobD1lbiIsCiAgICBsb2NhbD0iRmFjdWx0YWQgZGUgSW5mb3Jt4XRpY2EiLAogICAgcGxhY2V4PSIiLAopKQoKREIoQ2l0YXRpb24oCiAgICBwYXBhMjAxNWEsIGJhc2lsaTIwMTBhLCByZWY9IiIsCiAgICBjb250ZXh0cz1bCgogICAgXSwKKSkKCicnJywgY2l0YXRpb25zPSdiYXNpbGkyMDEwYScpOw==\"));\n",
       "    "
      ],
      "text/plain": [
       "<IPython.core.display.Javascript object>"
      ]
     },
     "metadata": {},
     "output_type": "display_data"
    },
    {
     "data": {
      "application/javascript": [
       "$('span:contains(\"# Temp\")').closest('.cell').remove();"
      ],
      "text/plain": [
       "<IPython.core.display.Javascript object>"
      ]
     },
     "metadata": {},
     "output_type": "display_data"
    },
    {
     "data": {
      "application/javascript": [
       "\n",
       "        $('span:contains(\"# Temp\")').closest('.cell').remove();\n",
       "        var code = IPython.notebook.insert_cell_below('code');\n",
       "        code.set_text(atob(\"IyBUZW1wCmluc2VydCgnJycKcml2ZXJhMGEgPSBEQihXb3JrVW5yZWxhdGVkKAogICAgMCwgIlBhdHJvbmVzIGRlIEVzdHJhdGVnaWEgcGFyYSBQcm95ZWN0b3MgZGUgTWVkaWNp824sIEV2YWx1YWNp824geSBNZWpvcmEiLAogICAgZGlzcGxheT0icml2ZXJhIiwKICAgIGF1dGhvcnM9IlJpdmVyYSwgQmVs6W4gYW5kIEJlY2tlciwgUGFibG8gYW5kIE9sc2luYSwgTHVpcyIsCiAgICBwbGFjZT1GQUtFLAogICAgcHA9IjE2Ni0tMTgwIiwKICAgIGVudHJ5dHlwZT0iaW5wcm9jZWVkaW5ncyIsCiAgICBJRD0icml2ZXJhMTVwYXRyb25lcyIsCiAgICBjbHVzdGVyX2lkPSIxMzU0OTA3MDMwMzE1Mzk3NDE3MyIsCiAgICBzY2hvbGFyPSJodHRwOi8vc2Nob2xhci5nb29nbGUuY29tL3NjaG9sYXI/Y2l0ZXM9MTM1NDkwNzAzMDMxNTM5NzQxNzMmYXNfc2R0PTIwMDUmc2Npb2R0PTAsNSZobD1lbiIsCiAgICBwbGFjZXg9IlhWSUlJIENvbmZlcmVuY2lhIEliZXJvYW1lcmljYW5hIGVuIFNvZnR3YXJlIEVuZ2luZWVyaW5nIChDSWJTRZIxNSksIExpbWEsIFBlcvoiLAopKQoKREIoQ2l0YXRpb24oCiAgICByaXZlcmEwYSwgYmFzaWxpMjAxMGEsIHJlZj0iIiwKICAgIGNvbnRleHRzPVsKCiAgICBdLAopKQoKJycnLCBjaXRhdGlvbnM9J2Jhc2lsaTIwMTBhJyk7\"));\n",
       "    "
      ],
      "text/plain": [
       "<IPython.core.display.Javascript object>"
      ]
     },
     "metadata": {},
     "output_type": "display_data"
    },
    {
     "data": {
      "application/javascript": [
       "$('span:contains(\"# Temp\")').closest('.cell').remove();"
      ],
      "text/plain": [
       "<IPython.core.display.Javascript object>"
      ]
     },
     "metadata": {},
     "output_type": "display_data"
    },
    {
     "data": {
      "application/javascript": [
       "\n",
       "        $('span:contains(\"# Temp\")').closest('.cell').remove();\n",
       "        var code = IPython.notebook.insert_cell_below('code');\n",
       "        code.set_text(atob(\"IyBUZW1wCmluc2VydCgnJycKcml2ZXJhMGEgPSBEQihXb3JrVW5yZWxhdGVkKAogICAgMCwgIlBhdHJvbmVzIGRlIEVzdHJhdGVnaWEgcGFyYSBQcm95ZWN0b3MgZGUgTWVkaWNp824sIEV2YWx1YWNp824geSBNZWpvcmEiLAogICAgZGlzcGxheT0icml2ZXJhIiwKICAgIGF1dGhvcnM9IlJpdmVyYSwgQmVs6W4gYW5kIEJlY2tlciwgUGFibG8gYW5kIE9sc2luYSwgTHVpcyIsCiAgICBwbGFjZT1GQUtFLAogICAgcHA9IjE2Ni0tMTgwIiwKICAgIGVudHJ5dHlwZT0iaW5wcm9jZWVkaW5ncyIsCiAgICBJRD0icml2ZXJhMTVwYXRyb25lcyIsCiAgICBjbHVzdGVyX2lkPSIxMzU0OTA3MDMwMzE1Mzk3NDE3MyIsCiAgICBzY2hvbGFyPSJodHRwOi8vc2Nob2xhci5nb29nbGUuY29tL3NjaG9sYXI/Y2l0ZXM9MTM1NDkwNzAzMDMxNTM5NzQxNzMmYXNfc2R0PTIwMDUmc2Npb2R0PTAsNSZobD1lbiIsCiAgICBwbGFjZXg9IlhWSUlJIENvbmZlcmVuY2lhIEliZXJvYW1lcmljYW5hIGVuIFNvZnR3YXJlIEVuZ2luZWVyaW5nIChDSWJTRZIxNSksIExpbWEsIFBlcvoiLAopKQoKREIoQ2l0YXRpb24oCiAgICByaXZlcmEwYSwgYmFzaWxpMjAxMGEsIHJlZj0iIiwKICAgIGNvbnRleHRzPVsKCiAgICBdLAopKQoKJycnLCBjaXRhdGlvbnM9J2Jhc2lsaTIwMTBhJyk7\"));\n",
       "    "
      ],
      "text/plain": [
       "<IPython.core.display.Javascript object>"
      ]
     },
     "metadata": {},
     "output_type": "display_data"
    },
    {
     "data": {
      "application/javascript": [
       "$('span:contains(\"# Temp\")').closest('.cell').remove();"
      ],
      "text/plain": [
       "<IPython.core.display.Javascript object>"
      ]
     },
     "metadata": {},
     "output_type": "display_data"
    },
    {
     "data": {
      "application/javascript": [
       "\n",
       "        $('span:contains(\"# Temp\")').closest('.cell').remove();\n",
       "        var code = IPython.notebook.insert_cell_below('code');\n",
       "        code.set_text(atob(\"IyBUZW1wCmluc2VydCgnJycKcml2ZXJhMjAxNmMgPSBEQihXb3JrVW5yZWxhdGVkKAogICAgMjAxNiwgIkEgUXVhbGl0eSBFdmFsdWF0aW9uIGFuZCBJbXByb3ZlbWVudCBBcHByb2FjaCBkcml2ZW4gYnkgTXVsdGlsZXZlbCBHb2FscyBhbmQgU3RyYXRlZ3kgUGF0dGVybnMiLAogICAgZGlzcGxheT0icml2ZXJhIGMiLAogICAgYXV0aG9ycz0iUml2ZXJhLCBCZWxlbiBhbmQgQmVja2VyLCBQYWJsbyBhbmQgUGFwYSwgRmVybmFuZGEgYW5kIE9sc2luYSBTYW50b3MsIEx1aXMgQW50b25pbyIsCiAgICBwbGFjZT1GQUtFLAogICAgZW50cnl0eXBlPSJpbnByb2NlZWRpbmdzIiwKICAgIElEPSJyaXZlcmEyMDE2cXVhbGl0eSIsCiAgICBwbGFjZXg9IklJIFNpbXBvc2lvIEFyZ2VudGlubyBkZSBPbnRvbG9n7WFzIHkgc3VzIEFwbGljYWNpb25lcyAoU0FPQSAyMDE2KS1KQUlJTyA0NSAoVHJlcyBkZSBGZWJyZXJvLCAyMDE2KSIsCikpCgpEQihDaXRhdGlvbigKICAgIHJpdmVyYTIwMTZjLCBiYXNpbGkyMDEwYSwgcmVmPSIiLAogICAgY29udGV4dHM9WwoKICAgIF0sCikpCgonJycsIGNpdGF0aW9ucz0nYmFzaWxpMjAxMGEnKTs=\"));\n",
       "    "
      ],
      "text/plain": [
       "<IPython.core.display.Javascript object>"
      ]
     },
     "metadata": {},
     "output_type": "display_data"
    },
    {
     "data": {
      "application/javascript": [
       "$('span:contains(\"# Temp\")').closest('.cell').remove();"
      ],
      "text/plain": [
       "<IPython.core.display.Javascript object>"
      ]
     },
     "metadata": {},
     "output_type": "display_data"
    },
    {
     "data": {
      "application/javascript": [
       "\n",
       "        $('span:contains(\"# Temp\")').closest('.cell').remove();\n",
       "        var code = IPython.notebook.insert_cell_below('code');\n",
       "        code.set_text(atob(\"IyBUZW1wCmluc2VydCgnJycKcml2ZXJhMjAxNmMgPSBEQihXb3JrVW5yZWxhdGVkKAogICAgMjAxNiwgIkEgUXVhbGl0eSBFdmFsdWF0aW9uIGFuZCBJbXByb3ZlbWVudCBBcHByb2FjaCBkcml2ZW4gYnkgTXVsdGlsZXZlbCBHb2FscyBhbmQgU3RyYXRlZ3kgUGF0dGVybnMiLAogICAgZGlzcGxheT0icml2ZXJhIGMiLAogICAgYXV0aG9ycz0iUml2ZXJhLCBCZWxlbiBhbmQgQmVja2VyLCBQYWJsbyBhbmQgUGFwYSwgRmVybmFuZGEgYW5kIE9sc2luYSBTYW50b3MsIEx1aXMgQW50b25pbyIsCiAgICBwbGFjZT1GQUtFLAogICAgZW50cnl0eXBlPSJpbnByb2NlZWRpbmdzIiwKICAgIElEPSJyaXZlcmEyMDE2cXVhbGl0eSIsCiAgICBwbGFjZXg9IklJIFNpbXBvc2lvIEFyZ2VudGlubyBkZSBPbnRvbG9n7WFzIHkgc3VzIEFwbGljYWNpb25lcyAoU0FPQSAyMDE2KS1KQUlJTyA0NSAoVHJlcyBkZSBGZWJyZXJvLCAyMDE2KSIsCikpCgpEQihDaXRhdGlvbigKICAgIHJpdmVyYTIwMTZjLCBiYXNpbGkyMDEwYSwgcmVmPSIiLAogICAgY29udGV4dHM9WwoKICAgIF0sCikpCgonJycsIGNpdGF0aW9ucz0nYmFzaWxpMjAxMGEnKTs=\"));\n",
       "    "
      ],
      "text/plain": [
       "<IPython.core.display.Javascript object>"
      ]
     },
     "metadata": {},
     "output_type": "display_data"
    },
    {
     "data": {
      "application/javascript": [
       "$('span:contains(\"# Temp\")').closest('.cell').remove();"
      ],
      "text/plain": [
       "<IPython.core.display.Javascript object>"
      ]
     },
     "metadata": {},
     "output_type": "display_data"
    },
    {
     "data": {
      "application/javascript": [
       "\n",
       "        $('span:contains(\"# Temp\")').closest('.cell').remove();\n",
       "        var code = IPython.notebook.insert_cell_below('code');\n",
       "        code.set_text(atob(\"IyBUZW1wCmluc2VydCgnJycKYmVja2VyMjAxN2EgPSBEQihXb3JrVW5yZWxhdGVkKAogICAgMjAxNywgIlR1bmluZyB0aGUgYW5hbHlzaXMgYWN0aXZpdHkgb2YgcXVhbGl0eSBldmFsdWF0aW9uIHN0cmF0ZWdpZXMgZm9yIGRpZmZlcmVudCBwdXJwb3NlcyIsCiAgICBkaXNwbGF5PSJiZWNrZXIiLAogICAgYXV0aG9ycz0iQmVja2VyLCBQYWJsbyBhbmQgT2xzaW5hLCBMdWlzIiwKICAgIHBsYWNlPUZBS0UsCiAgICBwcD0iMS0tMTAiLAogICAgZW50cnl0eXBlPSJpbnByb2NlZWRpbmdzIiwKICAgIG9yZ2FuaXphdGlvbj0iSUVFRSIsCiAgICBJRD0iYmVja2VyMjAxN3R1bmluZyIsCiAgICBwbGFjZXg9IkNvbXB1dGVyIENvbmZlcmVuY2UgKENMRUkpLCAyMDE3IFhMSUlJIExhdGluIEFtZXJpY2FuIiwKKSkKCkRCKENpdGF0aW9uKAogICAgYmVja2VyMjAxN2EsIGJhc2lsaTIwMTBhLCByZWY9IiIsCiAgICBjb250ZXh0cz1bCgogICAgXSwKKSkKCicnJywgY2l0YXRpb25zPSdiYXNpbGkyMDEwYScpOw==\"));\n",
       "    "
      ],
      "text/plain": [
       "<IPython.core.display.Javascript object>"
      ]
     },
     "metadata": {},
     "output_type": "display_data"
    },
    {
     "data": {
      "application/javascript": [
       "$('span:contains(\"# Temp\")').closest('.cell').remove();"
      ],
      "text/plain": [
       "<IPython.core.display.Javascript object>"
      ]
     },
     "metadata": {},
     "output_type": "display_data"
    },
    {
     "data": {
      "application/javascript": [
       "\n",
       "        $('span:contains(\"# Temp\")').closest('.cell').remove();\n",
       "        var code = IPython.notebook.insert_cell_below('code');\n",
       "        code.set_text(atob(\"IyBUZW1wCmluc2VydCgnJycKYmVja2VyMjAxN2EgPSBEQihXb3JrVW5yZWxhdGVkKAogICAgMjAxNywgIlR1bmluZyB0aGUgYW5hbHlzaXMgYWN0aXZpdHkgb2YgcXVhbGl0eSBldmFsdWF0aW9uIHN0cmF0ZWdpZXMgZm9yIGRpZmZlcmVudCBwdXJwb3NlcyIsCiAgICBkaXNwbGF5PSJiZWNrZXIiLAogICAgYXV0aG9ycz0iQmVja2VyLCBQYWJsbyBhbmQgT2xzaW5hLCBMdWlzIiwKICAgIHBsYWNlPUZBS0UsCiAgICBwcD0iMS0tMTAiLAogICAgZW50cnl0eXBlPSJpbnByb2NlZWRpbmdzIiwKICAgIG9yZ2FuaXphdGlvbj0iSUVFRSIsCiAgICBJRD0iYmVja2VyMjAxN3R1bmluZyIsCiAgICBwbGFjZXg9IkNvbXB1dGVyIENvbmZlcmVuY2UgKENMRUkpLCAyMDE3IFhMSUlJIExhdGluIEFtZXJpY2FuIiwKKSkKCkRCKENpdGF0aW9uKAogICAgYmVja2VyMjAxN2EsIGJhc2lsaTIwMTBhLCByZWY9IiIsCiAgICBjb250ZXh0cz1bCgogICAgXSwKKSkKCicnJywgY2l0YXRpb25zPSdiYXNpbGkyMDEwYScpOw==\"));\n",
       "    "
      ],
      "text/plain": [
       "<IPython.core.display.Javascript object>"
      ]
     },
     "metadata": {},
     "output_type": "display_data"
    },
    {
     "data": {
      "application/javascript": [
       "$('span:contains(\"# Temp\")').closest('.cell').remove();"
      ],
      "text/plain": [
       "<IPython.core.display.Javascript object>"
      ]
     },
     "metadata": {},
     "output_type": "display_data"
    },
    {
     "data": {
      "application/javascript": [
       "\n",
       "        $('span:contains(\"# Temp\")').closest('.cell').remove();\n",
       "        var code = IPython.notebook.insert_cell_below('code');\n",
       "        code.set_text(atob(\"IyBUZW1wCmluc2VydCgnJycKYmFzaWxpMGEgPSBEQihXb3JrVW5yZWxhdGVkKAogICAgMCwgIkFsaWduaW5nIGFuIE9yZ2FuaXphdGlvbpJzIEdvYWxzIGFuZCBTdHJhdGVnaWVzIHRocm91Z2ggTWVhc3VyZW1lbnQ6IEdRTStTdHJhdGVnaWVze1x0ZXh0cmVnaXN0ZXJlZH0iLAogICAgZGlzcGxheT0iYmFzaWxpIiwKICAgIGF1dGhvcnM9IkJhc2lsaSwgVmljdG9yIFIiLAogICAgcGxhY2U9RkFLRSwKICAgIGVudHJ5dHlwZT0iYXJ0aWNsZSIsCiAgICBJRD0iYmFzaWxpYWxpZ25pbmciLAogICAgcGxhY2V4PSIiLAopKQoKREIoQ2l0YXRpb24oCiAgICBiYXNpbGkwYSwgYmFzaWxpMjAxMGEsIHJlZj0iIiwKICAgIGNvbnRleHRzPVsKCiAgICBdLAopKQoKJycnLCBjaXRhdGlvbnM9J2Jhc2lsaTIwMTBhJyk7\"));\n",
       "    "
      ],
      "text/plain": [
       "<IPython.core.display.Javascript object>"
      ]
     },
     "metadata": {},
     "output_type": "display_data"
    },
    {
     "data": {
      "application/javascript": [
       "$('span:contains(\"# Temp\")').closest('.cell').remove();"
      ],
      "text/plain": [
       "<IPython.core.display.Javascript object>"
      ]
     },
     "metadata": {},
     "output_type": "display_data"
    },
    {
     "data": {
      "application/javascript": [
       "\n",
       "        $('span:contains(\"# Temp\")').closest('.cell').remove();\n",
       "        var code = IPython.notebook.insert_cell_below('code');\n",
       "        code.set_text(atob(\"IyBUZW1wCmluc2VydCgnJycKYmFzaWxpMGEgPSBEQihXb3JrVW5yZWxhdGVkKAogICAgMCwgIkFsaWduaW5nIGFuIE9yZ2FuaXphdGlvbpJzIEdvYWxzIGFuZCBTdHJhdGVnaWVzIHRocm91Z2ggTWVhc3VyZW1lbnQ6IEdRTStTdHJhdGVnaWVze1x0ZXh0cmVnaXN0ZXJlZH0iLAogICAgZGlzcGxheT0iYmFzaWxpIiwKICAgIGF1dGhvcnM9IkJhc2lsaSwgVmljdG9yIFIiLAogICAgcGxhY2U9RkFLRSwKICAgIGVudHJ5dHlwZT0iYXJ0aWNsZSIsCiAgICBJRD0iYmFzaWxpYWxpZ25pbmciLAogICAgcGxhY2V4PSIiLAopKQoKREIoQ2l0YXRpb24oCiAgICBiYXNpbGkwYSwgYmFzaWxpMjAxMGEsIHJlZj0iIiwKICAgIGNvbnRleHRzPVsKCiAgICBdLAopKQoKJycnLCBjaXRhdGlvbnM9J2Jhc2lsaTIwMTBhJyk7\"));\n",
       "    "
      ],
      "text/plain": [
       "<IPython.core.display.Javascript object>"
      ]
     },
     "metadata": {},
     "output_type": "display_data"
    },
    {
     "data": {
      "application/javascript": [
       "$('span:contains(\"# Temp\")').closest('.cell').remove();"
      ],
      "text/plain": [
       "<IPython.core.display.Javascript object>"
      ]
     },
     "metadata": {},
     "output_type": "display_data"
    },
    {
     "data": {
      "application/javascript": [
       "\n",
       "        $('span:contains(\"# Temp\")').closest('.cell').remove();\n",
       "        var code = IPython.notebook.insert_cell_below('code');\n",
       "        code.set_text(atob(\"IyBUZW1wCmluc2VydCgnJycKeWFtYW1vdG8yMDE2YSA9IERCKFdvcmtVbnJlbGF0ZWQoCiAgICAyMDE2LCAiSVQgRGVtYW5kIEdvdmVybmFuY2UgdXNpbmcgQnVzaW5lc3MgR29hbCBTdHJ1Y3R1cmluZyBOb3RhdGlvbiIsCiAgICBkaXNwbGF5PSJ5YW1hbW90byIsCiAgICBhdXRob3JzPSJZYW1hbW90bywgU2h1aWNoaXJvIGFuZCBNb3Jpc2FraSwgU2h1amkiLAogICAgcGxhY2U9RkFLRSwKICAgIHBwPSIxLS01IiwKICAgIGVudHJ5dHlwZT0iaW5wcm9jZWVkaW5ncyIsCiAgICBvcmdhbml6YXRpb249IklFRUUiLAogICAgSUQ9InlhbWFtb3RvMjAxNmRlbWFuZCIsCiAgICBwbGFjZXg9IklUIENvbnZlcmdlbmNlIGFuZCBTZWN1cml0eSAoSUNJVENTKSwgMjAxNiA2dGggSW50ZXJuYXRpb25hbCBDb25mZXJlbmNlIG9uIiwKKSkKCkRCKENpdGF0aW9uKAogICAgeWFtYW1vdG8yMDE2YSwgYmFzaWxpMjAxMGEsIHJlZj0iIiwKICAgIGNvbnRleHRzPVsKCiAgICBdLAopKQoKJycnLCBjaXRhdGlvbnM9J2Jhc2lsaTIwMTBhJyk7\"));\n",
       "    "
      ],
      "text/plain": [
       "<IPython.core.display.Javascript object>"
      ]
     },
     "metadata": {},
     "output_type": "display_data"
    },
    {
     "data": {
      "application/javascript": [
       "$('span:contains(\"# Temp\")').closest('.cell').remove();"
      ],
      "text/plain": [
       "<IPython.core.display.Javascript object>"
      ]
     },
     "metadata": {},
     "output_type": "display_data"
    },
    {
     "data": {
      "application/javascript": [
       "\n",
       "        $('span:contains(\"# Temp\")').closest('.cell').remove();\n",
       "        var code = IPython.notebook.insert_cell_below('code');\n",
       "        code.set_text(atob(\"IyBUZW1wCmluc2VydCgnJycKeWFtYW1vdG8yMDE2YSA9IERCKFdvcmtVbnJlbGF0ZWQoCiAgICAyMDE2LCAiSVQgRGVtYW5kIEdvdmVybmFuY2UgdXNpbmcgQnVzaW5lc3MgR29hbCBTdHJ1Y3R1cmluZyBOb3RhdGlvbiIsCiAgICBkaXNwbGF5PSJ5YW1hbW90byIsCiAgICBhdXRob3JzPSJZYW1hbW90bywgU2h1aWNoaXJvIGFuZCBNb3Jpc2FraSwgU2h1amkiLAogICAgcGxhY2U9RkFLRSwKICAgIHBwPSIxLS01IiwKICAgIGVudHJ5dHlwZT0iaW5wcm9jZWVkaW5ncyIsCiAgICBvcmdhbml6YXRpb249IklFRUUiLAogICAgSUQ9InlhbWFtb3RvMjAxNmRlbWFuZCIsCiAgICBwbGFjZXg9IklUIENvbnZlcmdlbmNlIGFuZCBTZWN1cml0eSAoSUNJVENTKSwgMjAxNiA2dGggSW50ZXJuYXRpb25hbCBDb25mZXJlbmNlIG9uIiwKKSkKCkRCKENpdGF0aW9uKAogICAgeWFtYW1vdG8yMDE2YSwgYmFzaWxpMjAxMGEsIHJlZj0iIiwKICAgIGNvbnRleHRzPVsKCiAgICBdLAopKQoKJycnLCBjaXRhdGlvbnM9J2Jhc2lsaTIwMTBhJyk7\"));\n",
       "    "
      ],
      "text/plain": [
       "<IPython.core.display.Javascript object>"
      ]
     },
     "metadata": {},
     "output_type": "display_data"
    },
    {
     "data": {
      "application/javascript": [
       "$('span:contains(\"# Temp\")').closest('.cell').remove();"
      ],
      "text/plain": [
       "<IPython.core.display.Javascript object>"
      ]
     },
     "metadata": {},
     "output_type": "display_data"
    },
    {
     "data": {
      "application/javascript": [
       "\n",
       "        $('span:contains(\"# Temp\")').closest('.cell').remove();\n",
       "        var code = IPython.notebook.insert_cell_below('code');\n",
       "        code.set_text(atob(\"IyBUZW1wCmluc2VydCgnJycKZmFsZXNzaTIwMTRhID0gREIoV29ya1VucmVsYXRlZCgKICAgIDIwMTQsICJUcmVuZHMgYW5kIGVtZXJnaW5nIGFyZWFzIG9mIGFnaWxlIHJlc2VhcmNoOiB0aGUgcmVwb3J0IG9uIFhQMjAxNCBQaEQgc3ltcG9zaXVtIiwKICAgIGRpc3BsYXk9ImZhbGVzc2kiLAogICAgYXV0aG9ycz0iRmFsZXNzaSwgRGF2aWRlIGFuZCBPbGl2ZWlyYSwgUmVuYW4gYW5kIFRheWxvciwgS2F0aWUgYW5kIEZvbnRhbmEsIFJhZmFlbGEgTSBhbmQgUG93ZXIsIEtlbiBhbmQgVmFsbG9uLCBSYW91bCBhbmQgR2lhcmRpbm8sIENhcm1pbmUgYW5kIFJlamFiLCBNYXdhcm55IE1kIGFuZCBXYW5nLCBYaWFvZmVuZyIsCiAgICBwbGFjZT1GQUtFLAogICAgcHA9IjI2LS0yOSIsCiAgICBlbnRyeXR5cGU9ImFydGljbGUiLAogICAgdm9sdW1lPSIzOSIsCiAgICBudW1iZXI9IjUiLAogICAgcHVibGlzaGVyPSJBQ00iLAogICAgSUQ9ImZhbGVzc2kyMDE0dHJlbmRzIiwKICAgIHBsYWNleD0iQUNNIFNJR1NPRlQgU29mdHdhcmUgRW5naW5lZXJpbmcgTm90ZXMiLAopKQoKREIoQ2l0YXRpb24oCiAgICBmYWxlc3NpMjAxNGEsIGJhc2lsaTIwMTBhLCByZWY9IiIsCiAgICBjb250ZXh0cz1bCgogICAgXSwKKSkKCicnJywgY2l0YXRpb25zPSdiYXNpbGkyMDEwYScpOw==\"));\n",
       "    "
      ],
      "text/plain": [
       "<IPython.core.display.Javascript object>"
      ]
     },
     "metadata": {},
     "output_type": "display_data"
    },
    {
     "data": {
      "application/javascript": [
       "$('span:contains(\"# Temp\")').closest('.cell').remove();"
      ],
      "text/plain": [
       "<IPython.core.display.Javascript object>"
      ]
     },
     "metadata": {},
     "output_type": "display_data"
    },
    {
     "data": {
      "application/javascript": [
       "\n",
       "        $('span:contains(\"# Temp\")').closest('.cell').remove();\n",
       "        var code = IPython.notebook.insert_cell_below('code');\n",
       "        code.set_text(atob(\"IyBUZW1wCmluc2VydCgnJycKZmFsZXNzaTIwMTRhID0gREIoV29ya1VucmVsYXRlZCgKICAgIDIwMTQsICJUcmVuZHMgYW5kIGVtZXJnaW5nIGFyZWFzIG9mIGFnaWxlIHJlc2VhcmNoOiB0aGUgcmVwb3J0IG9uIFhQMjAxNCBQaEQgc3ltcG9zaXVtIiwKICAgIGRpc3BsYXk9ImZhbGVzc2kiLAogICAgYXV0aG9ycz0iRmFsZXNzaSwgRGF2aWRlIGFuZCBPbGl2ZWlyYSwgUmVuYW4gYW5kIFRheWxvciwgS2F0aWUgYW5kIEZvbnRhbmEsIFJhZmFlbGEgTSBhbmQgUG93ZXIsIEtlbiBhbmQgVmFsbG9uLCBSYW91bCBhbmQgR2lhcmRpbm8sIENhcm1pbmUgYW5kIFJlamFiLCBNYXdhcm55IE1kIGFuZCBXYW5nLCBYaWFvZmVuZyIsCiAgICBwbGFjZT1GQUtFLAogICAgcHA9IjI2LS0yOSIsCiAgICBlbnRyeXR5cGU9ImFydGljbGUiLAogICAgdm9sdW1lPSIzOSIsCiAgICBudW1iZXI9IjUiLAogICAgcHVibGlzaGVyPSJBQ00iLAogICAgSUQ9ImZhbGVzc2kyMDE0dHJlbmRzIiwKICAgIHBsYWNleD0iQUNNIFNJR1NPRlQgU29mdHdhcmUgRW5naW5lZXJpbmcgTm90ZXMiLAopKQoKREIoQ2l0YXRpb24oCiAgICBmYWxlc3NpMjAxNGEsIGJhc2lsaTIwMTBhLCByZWY9IiIsCiAgICBjb250ZXh0cz1bCgogICAgXSwKKSkKCicnJywgY2l0YXRpb25zPSdiYXNpbGkyMDEwYScpOw==\"));\n",
       "    "
      ],
      "text/plain": [
       "<IPython.core.display.Javascript object>"
      ]
     },
     "metadata": {},
     "output_type": "display_data"
    },
    {
     "data": {
      "application/javascript": [
       "$('span:contains(\"# Temp\")').closest('.cell').remove();"
      ],
      "text/plain": [
       "<IPython.core.display.Javascript object>"
      ]
     },
     "metadata": {},
     "output_type": "display_data"
    },
    {
     "data": {
      "application/javascript": [
       "\n",
       "        $('span:contains(\"# Temp\")').closest('.cell').remove();\n",
       "        var code = IPython.notebook.insert_cell_below('code');\n",
       "        code.set_text(atob(\"IyBUZW1wCmluc2VydCgnJycKZGllcDIwMTZhID0gREIoV29ya1VucmVsYXRlZCgKICAgIDIwMTYsICJBcHBseWluZyBTb2Z0d2FyZSBEYXRhIEFuYWx5c2lzIGluIEluZHVzdHJ5IENvbnRleHRzOiBXaGVuIFJlc2VhcmNoIE1lZXRzIFJlYWxpdHkiLAogICAgZGlzcGxheT0iZGllcCIsCiAgICBhdXRob3JzPSJEaWVwLCBNYWRlbGluZSBhbmQgRXNrZXIsIExpbmRhIGFuZCBGYWxlc3NpLCBEYXZpZGUgYW5kIExheW1hbiwgTHVjYXMgYW5kIFNoYXcsIE1pY2hlbGUgYW5kIFNodWxsLCBGb3JyZXN0IiwKICAgIHBsYWNlPUZBS0UsCiAgICBwcD0iMzI3LS0zNDgiLAogICAgZW50cnl0eXBlPSJpbmNvbGxlY3Rpb24iLAogICAgcHVibGlzaGVyPSJFbHNldmllciIsCiAgICBJRD0iZGllcDIwMTZhcHBseWluZyIsCiAgICBwbGFjZXg9IlRoZSBBcnQgYW5kIFNjaWVuY2Ugb2YgQW5hbHl6aW5nIFNvZnR3YXJlIERhdGEiLAopKQoKREIoQ2l0YXRpb24oCiAgICBkaWVwMjAxNmEsIGJhc2lsaTIwMTBhLCByZWY9IiIsCiAgICBjb250ZXh0cz1bCgogICAgXSwKKSkKCicnJywgY2l0YXRpb25zPSdiYXNpbGkyMDEwYScpOw==\"));\n",
       "    "
      ],
      "text/plain": [
       "<IPython.core.display.Javascript object>"
      ]
     },
     "metadata": {},
     "output_type": "display_data"
    },
    {
     "data": {
      "application/javascript": [
       "$('span:contains(\"# Temp\")').closest('.cell').remove();"
      ],
      "text/plain": [
       "<IPython.core.display.Javascript object>"
      ]
     },
     "metadata": {},
     "output_type": "display_data"
    },
    {
     "data": {
      "application/javascript": [
       "\n",
       "        $('span:contains(\"# Temp\")').closest('.cell').remove();\n",
       "        var code = IPython.notebook.insert_cell_below('code');\n",
       "        code.set_text(atob(\"IyBUZW1wCmluc2VydCgnJycKZGllcDIwMTZhID0gREIoV29ya1VucmVsYXRlZCgKICAgIDIwMTYsICJBcHBseWluZyBTb2Z0d2FyZSBEYXRhIEFuYWx5c2lzIGluIEluZHVzdHJ5IENvbnRleHRzOiBXaGVuIFJlc2VhcmNoIE1lZXRzIFJlYWxpdHkiLAogICAgZGlzcGxheT0iZGllcCIsCiAgICBhdXRob3JzPSJEaWVwLCBNYWRlbGluZSBhbmQgRXNrZXIsIExpbmRhIGFuZCBGYWxlc3NpLCBEYXZpZGUgYW5kIExheW1hbiwgTHVjYXMgYW5kIFNoYXcsIE1pY2hlbGUgYW5kIFNodWxsLCBGb3JyZXN0IiwKICAgIHBsYWNlPUZBS0UsCiAgICBwcD0iMzI3LS0zNDgiLAogICAgZW50cnl0eXBlPSJpbmNvbGxlY3Rpb24iLAogICAgcHVibGlzaGVyPSJFbHNldmllciIsCiAgICBJRD0iZGllcDIwMTZhcHBseWluZyIsCiAgICBwbGFjZXg9IlRoZSBBcnQgYW5kIFNjaWVuY2Ugb2YgQW5hbHl6aW5nIFNvZnR3YXJlIERhdGEiLAopKQoKREIoQ2l0YXRpb24oCiAgICBkaWVwMjAxNmEsIGJhc2lsaTIwMTBhLCByZWY9IiIsCiAgICBjb250ZXh0cz1bCgogICAgXSwKKSkKCicnJywgY2l0YXRpb25zPSdiYXNpbGkyMDEwYScpOw==\"));\n",
       "    "
      ],
      "text/plain": [
       "<IPython.core.display.Javascript object>"
      ]
     },
     "metadata": {},
     "output_type": "display_data"
    },
    {
     "data": {
      "application/javascript": [
       "$('span:contains(\"# Temp\")').closest('.cell').remove();"
      ],
      "text/plain": [
       "<IPython.core.display.Javascript object>"
      ]
     },
     "metadata": {},
     "output_type": "display_data"
    },
    {
     "data": {
      "application/javascript": [
       "$('span:contains(\"# Temp\")').closest('.cell').remove();"
      ],
      "text/plain": [
       "<IPython.core.display.Javascript object>"
      ]
     },
     "metadata": {},
     "output_type": "display_data"
    },
    {
     "data": {
      "application/javascript": [
       "$('span:contains(\"# Temp\")').closest('.cell').remove();"
      ],
      "text/plain": [
       "<IPython.core.display.Javascript object>"
      ]
     },
     "metadata": {},
     "output_type": "display_data"
    },
    {
     "data": {
      "application/javascript": [
       "$('span:contains(\"# Temp\")').closest('.cell').remove();"
      ],
      "text/plain": [
       "<IPython.core.display.Javascript object>"
      ]
     },
     "metadata": {},
     "output_type": "display_data"
    },
    {
     "data": {
      "application/javascript": [
       "$('span:contains(\"# Temp\")').closest('.cell').remove();"
      ],
      "text/plain": [
       "<IPython.core.display.Javascript object>"
      ]
     },
     "metadata": {},
     "output_type": "display_data"
    },
    {
     "data": {
      "application/javascript": [
       "\n",
       "        $('span:contains(\"# Temp\")').closest('.cell').remove();\n",
       "        var code = IPython.notebook.insert_cell_below('code');\n",
       "        code.set_text(atob(\"IyBUZW1wCmluc2VydCgnJycKYmFzaWxpMGEgPSBEQihXb3JrVW5yZWxhdGVkKAogICAgMCwgIkFsaWduaW5nIGFuIE9yZ2FuaXphdGlvbpJzIEdvYWxzIGFuZCBTdHJhdGVnaWVzIHRocm91Z2ggTWVhc3VyZW1lbnQ6IEdRTStTdHJhdGVnaWVze1x0ZXh0cmVnaXN0ZXJlZH0iLAogICAgZGlzcGxheT0iYmFzaWxpIiwKICAgIGF1dGhvcnM9IkJhc2lsaSwgVmljdG9yIFIiLAogICAgcGxhY2U9RkFLRSwKICAgIGVudHJ5dHlwZT0iYXJ0aWNsZSIsCiAgICBJRD0iYmFzaWxpYWxpZ25pbmciLAogICAgcGxhY2V4PSIiLAopKQoKREIoQ2l0YXRpb24oCiAgICBiYXNpbGkwYSwgYmFzaWxpMjAxMGEsIHJlZj0iIiwKICAgIGNvbnRleHRzPVsKCiAgICBdLAopKQoKJycnLCBjaXRhdGlvbnM9J2Jhc2lsaTIwMTBhJyk7\"));\n",
       "    "
      ],
      "text/plain": [
       "<IPython.core.display.Javascript object>"
      ]
     },
     "metadata": {},
     "output_type": "display_data"
    },
    {
     "data": {
      "application/javascript": [
       "$('span:contains(\"# Temp\")').closest('.cell').remove();"
      ],
      "text/plain": [
       "<IPython.core.display.Javascript object>"
      ]
     },
     "metadata": {},
     "output_type": "display_data"
    },
    {
     "data": {
      "application/javascript": [
       "\n",
       "        $('span:contains(\"# Temp\")').closest('.cell').remove();\n",
       "        var code = IPython.notebook.insert_cell_below('code');\n",
       "        code.set_text(atob(\"IyBUZW1wCmluc2VydCgnJycKYmFzaWxpMGEgPSBEQihXb3JrVW5yZWxhdGVkKAogICAgMCwgIkFsaWduaW5nIGFuIE9yZ2FuaXphdGlvbpJzIEdvYWxzIGFuZCBTdHJhdGVnaWVzIHRocm91Z2ggTWVhc3VyZW1lbnQ6IEdRTStTdHJhdGVnaWVze1x0ZXh0cmVnaXN0ZXJlZH0iLAogICAgZGlzcGxheT0iYmFzaWxpIiwKICAgIGF1dGhvcnM9IkJhc2lsaSwgVmljdG9yIFIiLAogICAgcGxhY2U9RkFLRSwKICAgIGVudHJ5dHlwZT0iYXJ0aWNsZSIsCiAgICBJRD0iYmFzaWxpYWxpZ25pbmciLAogICAgcGxhY2V4PSIiLAopKQoKREIoQ2l0YXRpb24oCiAgICBiYXNpbGkwYSwgYmFzaWxpMjAxMGEsIHJlZj0iIiwKICAgIGNvbnRleHRzPVsKCiAgICBdLAopKQoKJycnLCBjaXRhdGlvbnM9J2Jhc2lsaTIwMTBhJyk7\"));\n",
       "    "
      ],
      "text/plain": [
       "<IPython.core.display.Javascript object>"
      ]
     },
     "metadata": {},
     "output_type": "display_data"
    },
    {
     "data": {
      "application/javascript": [
       "$('span:contains(\"# Temp\")').closest('.cell').remove();"
      ],
      "text/plain": [
       "<IPython.core.display.Javascript object>"
      ]
     },
     "metadata": {},
     "output_type": "display_data"
    },
    {
     "data": {
      "application/javascript": [
       "\n",
       "        $('span:contains(\"# Temp\")').closest('.cell').remove();\n",
       "        var code = IPython.notebook.insert_cell_below('code');\n",
       "        code.set_text(atob(\"IyBUZW1wCmluc2VydCgnJycKYmFzaWxpMGEgPSBEQihXb3JrVW5yZWxhdGVkKAogICAgMCwgIkFsaWduaW5nIGFuIE9yZ2FuaXphdGlvbpJzIEdvYWxzIGFuZCBTdHJhdGVnaWVzIHRocm91Z2ggTWVhc3VyZW1lbnQ6IEdRTStTdHJhdGVnaWVze1x0ZXh0cmVnaXN0ZXJlZH0iLAogICAgZGlzcGxheT0iYmFzaWxpIiwKICAgIGF1dGhvcnM9IkJhc2lsaSwgVmljdG9yIFIiLAogICAgcGxhY2U9RkFLRSwKICAgIGVudHJ5dHlwZT0iYXJ0aWNsZSIsCiAgICBJRD0iYmFzaWxpYWxpZ25pbmciLAogICAgcGxhY2V4PSIiLAopKQoKREIoQ2l0YXRpb24oCiAgICBiYXNpbGkwYSwgYmFzaWxpMjAxMGEsIHJlZj0iIiwKICAgIGNvbnRleHRzPVsKCiAgICBdLAopKQoKJycnLCBjaXRhdGlvbnM9J2Jhc2lsaTIwMTBhJyk7\"));\n",
       "    "
      ],
      "text/plain": [
       "<IPython.core.display.Javascript object>"
      ]
     },
     "metadata": {},
     "output_type": "display_data"
    },
    {
     "data": {
      "application/javascript": [
       "$('span:contains(\"# Temp\")').closest('.cell').remove();"
      ],
      "text/plain": [
       "<IPython.core.display.Javascript object>"
      ]
     },
     "metadata": {},
     "output_type": "display_data"
    },
    {
     "data": {
      "application/javascript": [
       "\n",
       "        $('span:contains(\"# Temp\")').closest('.cell').remove();\n",
       "        var code = IPython.notebook.insert_cell_below('code');\n",
       "        code.set_text(atob(\"IyBUZW1wCmluc2VydCgnJycKa2hhbGlmYTIwMTZhID0gREIoV29ya1VucmVsYXRlZCgKICAgIDIwMTYsICJUaGUgaW1wYWN0IG9mIHN0cmF0ZWdpYyBhbGlnbm1lbnQgb24gdGhlIHBlcmZvcm1hbmNlIG9mIHB1YmxpYyBvcmdhbmlzYXRpb25zIiwKICAgIGRpc3BsYXk9ImtoYWxpZmEiLAogICAgYXV0aG9ycz0iQWwgS2hhbGlmYSwgTXVuZWVyYSBNb2hhbWVkIiwKICAgIHBsYWNlPVRoZXNpcywKICAgIGVudHJ5dHlwZT0icGhkdGhlc2lzIiwKICAgIElEPSJhbDIwMTZpbXBhY3QiLAogICAgbG9jYWw9IkJydW5lbCBVbml2ZXJzaXR5IExvbmRvbiIsCiAgICBwbGFjZXg9IiIsCikpCgpEQihDaXRhdGlvbigKICAgIGtoYWxpZmEyMDE2YSwgYmFzaWxpMjAxMGEsIHJlZj0iIiwKICAgIGNvbnRleHRzPVsKCiAgICBdLAopKQoKJycnLCBjaXRhdGlvbnM9J2Jhc2lsaTIwMTBhJyk7\"));\n",
       "    "
      ],
      "text/plain": [
       "<IPython.core.display.Javascript object>"
      ]
     },
     "metadata": {},
     "output_type": "display_data"
    },
    {
     "data": {
      "application/javascript": [
       "$('span:contains(\"# Temp\")').closest('.cell').remove();"
      ],
      "text/plain": [
       "<IPython.core.display.Javascript object>"
      ]
     },
     "metadata": {},
     "output_type": "display_data"
    },
    {
     "data": {
      "application/javascript": [
       "\n",
       "        $('span:contains(\"# Temp\")').closest('.cell').remove();\n",
       "        var code = IPython.notebook.insert_cell_below('code');\n",
       "        code.set_text(atob(\"IyBUZW1wCmluc2VydCgnJycKa2hhbGlmYTIwMTZhID0gREIoV29ya1VucmVsYXRlZCgKICAgIDIwMTYsICJUaGUgaW1wYWN0IG9mIHN0cmF0ZWdpYyBhbGlnbm1lbnQgb24gdGhlIHBlcmZvcm1hbmNlIG9mIHB1YmxpYyBvcmdhbmlzYXRpb25zIiwKICAgIGRpc3BsYXk9ImtoYWxpZmEiLAogICAgYXV0aG9ycz0iQWwgS2hhbGlmYSwgTXVuZWVyYSBNb2hhbWVkIiwKICAgIHBsYWNlPVRoZXNpcywKICAgIGVudHJ5dHlwZT0icGhkdGhlc2lzIiwKICAgIElEPSJhbDIwMTZpbXBhY3QiLAogICAgbG9jYWw9IkJydW5lbCBVbml2ZXJzaXR5IExvbmRvbiIsCiAgICBwbGFjZXg9IiIsCikpCgpEQihDaXRhdGlvbigKICAgIGtoYWxpZmEyMDE2YSwgYmFzaWxpMjAxMGEsIHJlZj0iIiwKICAgIGNvbnRleHRzPVsKCiAgICBdLAopKQoKJycnLCBjaXRhdGlvbnM9J2Jhc2lsaTIwMTBhJyk7\"));\n",
       "    "
      ],
      "text/plain": [
       "<IPython.core.display.Javascript object>"
      ]
     },
     "metadata": {},
     "output_type": "display_data"
    },
    {
     "data": {
      "application/javascript": [
       "$('span:contains(\"# Temp\")').closest('.cell').remove();"
      ],
      "text/plain": [
       "<IPython.core.display.Javascript object>"
      ]
     },
     "metadata": {},
     "output_type": "display_data"
    },
    {
     "data": {
      "application/javascript": [
       "\n",
       "        $('span:contains(\"# Temp\")').closest('.cell').remove();\n",
       "        var code = IPython.notebook.insert_cell_below('code');\n",
       "        code.set_text(atob(\"IyBUZW1wCmluc2VydCgnJycKdHJlbmRvd2ljejBhID0gREIoV29ya1VucmVsYXRlZCgKICAgIDAsICJBbGlnbmluZyBPcmdhbml6YXRpb25zIFRocm91Z2ggTWVhc3VyZW1lbnQiLAogICAgZGlzcGxheT0idHJlbmRvd2ljeiIsCiAgICBhdXRob3JzPSJUcmVuZG93aWN6LCBWaWN0b3IgQmFzaWxpIEFkYW0gYW5kIEhlaWRyaWNoLCBNYXJ0aW4gS293YWxjenlrIEplbnMgYW5kIE38bmNoLCBDYXJvbHluIFNlYW1hbiBK/HJnZW4gYW5kIFJvbWJhY2gsIERpZXRlciIsCiAgICBwbGFjZT1GQUtFLAogICAgZW50cnl0eXBlPSJhcnRpY2xlIiwKICAgIHB1Ymxpc2hlcj0iU3ByaW5nZXIiLAogICAgSUQ9InRyZW5kb3dpY3phbGlnbmluZyIsCiAgICBjbHVzdGVyX2lkPSIxNTcwMzA5MTE2MDEzMDk1MDc2IiwKICAgIHNjaG9sYXI9Imh0dHA6Ly9zY2hvbGFyLmdvb2dsZS5jb20vc2Nob2xhcj9jaXRlcz0xNTcwMzA5MTE2MDEzMDk1MDc2JmFzX3NkdD0yMDA1JnNjaW9kdD0wLDUmaGw9ZW4iLAogICAgcGxhY2V4PSIiLAopKQoKREIoQ2l0YXRpb24oCiAgICB0cmVuZG93aWN6MGEsIGJhc2lsaTIwMTBhLCByZWY9IiIsCiAgICBjb250ZXh0cz1bCgogICAgXSwKKSkKCicnJywgY2l0YXRpb25zPSdiYXNpbGkyMDEwYScpOw==\"));\n",
       "    "
      ],
      "text/plain": [
       "<IPython.core.display.Javascript object>"
      ]
     },
     "metadata": {},
     "output_type": "display_data"
    },
    {
     "data": {
      "application/javascript": [
       "$('span:contains(\"# Temp\")').closest('.cell').remove();"
      ],
      "text/plain": [
       "<IPython.core.display.Javascript object>"
      ]
     },
     "metadata": {},
     "output_type": "display_data"
    },
    {
     "data": {
      "application/javascript": [
       "\n",
       "        $('span:contains(\"# Temp\")').closest('.cell').remove();\n",
       "        var code = IPython.notebook.insert_cell_below('code');\n",
       "        code.set_text(atob(\"IyBUZW1wCmluc2VydCgnJycKdHJlbmRvd2ljejBhID0gREIoV29ya1VucmVsYXRlZCgKICAgIDAsICJBbGlnbmluZyBPcmdhbml6YXRpb25zIFRocm91Z2ggTWVhc3VyZW1lbnQiLAogICAgZGlzcGxheT0idHJlbmRvd2ljeiIsCiAgICBhdXRob3JzPSJUcmVuZG93aWN6LCBWaWN0b3IgQmFzaWxpIEFkYW0gYW5kIEhlaWRyaWNoLCBNYXJ0aW4gS293YWxjenlrIEplbnMgYW5kIE38bmNoLCBDYXJvbHluIFNlYW1hbiBK/HJnZW4gYW5kIFJvbWJhY2gsIERpZXRlciIsCiAgICBwbGFjZT1GQUtFLAogICAgZW50cnl0eXBlPSJhcnRpY2xlIiwKICAgIHB1Ymxpc2hlcj0iU3ByaW5nZXIiLAogICAgSUQ9InRyZW5kb3dpY3phbGlnbmluZyIsCiAgICBjbHVzdGVyX2lkPSIxNTcwMzA5MTE2MDEzMDk1MDc2IiwKICAgIHNjaG9sYXI9Imh0dHA6Ly9zY2hvbGFyLmdvb2dsZS5jb20vc2Nob2xhcj9jaXRlcz0xNTcwMzA5MTE2MDEzMDk1MDc2JmFzX3NkdD0yMDA1JnNjaW9kdD0wLDUmaGw9ZW4iLAogICAgcGxhY2V4PSIiLAopKQoKREIoQ2l0YXRpb24oCiAgICB0cmVuZG93aWN6MGEsIGJhc2lsaTIwMTBhLCByZWY9IiIsCiAgICBjb250ZXh0cz1bCgogICAgXSwKKSkKCicnJywgY2l0YXRpb25zPSdiYXNpbGkyMDEwYScpOw==\"));\n",
       "    "
      ],
      "text/plain": [
       "<IPython.core.display.Javascript object>"
      ]
     },
     "metadata": {},
     "output_type": "display_data"
    },
    {
     "data": {
      "application/javascript": [
       "$('span:contains(\"# Temp\")').closest('.cell').remove();"
      ],
      "text/plain": [
       "<IPython.core.display.Javascript object>"
      ]
     },
     "metadata": {},
     "output_type": "display_data"
    },
    {
     "data": {
      "application/javascript": [
       "\n",
       "        $('span:contains(\"# Temp\")').closest('.cell').remove();\n",
       "        var code = IPython.notebook.insert_cell_below('code');\n",
       "        code.set_text(atob(\"IyBUZW1wCmluc2VydCgnJycKa2hhbGlmYTIwMTZhID0gREIoV29ya1VucmVsYXRlZCgKICAgIDIwMTYsICJUaGUgaW1wYWN0IG9mIHN0cmF0ZWdpYyBhbGlnbm1lbnQgb24gdGhlIHBlcmZvcm1hbmNlIG9mIHB1YmxpYyBvcmdhbmlzYXRpb25zIiwKICAgIGRpc3BsYXk9ImtoYWxpZmEiLAogICAgYXV0aG9ycz0iQWwgS2hhbGlmYSwgTXVuZWVyYSBNb2hhbWVkIiwKICAgIHBsYWNlPVRoZXNpcywKICAgIGVudHJ5dHlwZT0icGhkdGhlc2lzIiwKICAgIElEPSJhbDIwMTZpbXBhY3QiLAogICAgbG9jYWw9IkJydW5lbCBVbml2ZXJzaXR5IExvbmRvbiIsCiAgICBwbGFjZXg9IiIsCikpCgpEQihDaXRhdGlvbigKICAgIGtoYWxpZmEyMDE2YSwgYmFzaWxpMjAxMGEsIHJlZj0iIiwKICAgIGNvbnRleHRzPVsKCiAgICBdLAopKQoKJycnLCBjaXRhdGlvbnM9J2Jhc2lsaTIwMTBhJyk7\"));\n",
       "    "
      ],
      "text/plain": [
       "<IPython.core.display.Javascript object>"
      ]
     },
     "metadata": {},
     "output_type": "display_data"
    },
    {
     "data": {
      "application/javascript": [
       "$('span:contains(\"# Temp\")').closest('.cell').remove();"
      ],
      "text/plain": [
       "<IPython.core.display.Javascript object>"
      ]
     },
     "metadata": {},
     "output_type": "display_data"
    },
    {
     "data": {
      "application/javascript": [
       "\n",
       "        $('span:contains(\"# Temp\")').closest('.cell').remove();\n",
       "        var code = IPython.notebook.insert_cell_below('code');\n",
       "        code.set_text(atob(\"IyBUZW1wCmluc2VydCgnJycKa2hhbGlmYTIwMTZhID0gREIoV29ya1VucmVsYXRlZCgKICAgIDIwMTYsICJUaGUgaW1wYWN0IG9mIHN0cmF0ZWdpYyBhbGlnbm1lbnQgb24gdGhlIHBlcmZvcm1hbmNlIG9mIHB1YmxpYyBvcmdhbmlzYXRpb25zIiwKICAgIGRpc3BsYXk9ImtoYWxpZmEiLAogICAgYXV0aG9ycz0iQWwgS2hhbGlmYSwgTXVuZWVyYSBNb2hhbWVkIiwKICAgIHBsYWNlPVRoZXNpcywKICAgIGVudHJ5dHlwZT0icGhkdGhlc2lzIiwKICAgIElEPSJhbDIwMTZpbXBhY3QiLAogICAgbG9jYWw9IkJydW5lbCBVbml2ZXJzaXR5IExvbmRvbiIsCiAgICBwbGFjZXg9IiIsCikpCgpEQihDaXRhdGlvbigKICAgIGtoYWxpZmEyMDE2YSwgYmFzaWxpMjAxMGEsIHJlZj0iIiwKICAgIGNvbnRleHRzPVsKCiAgICBdLAopKQoKJycnLCBjaXRhdGlvbnM9J2Jhc2lsaTIwMTBhJyk7\"));\n",
       "    "
      ],
      "text/plain": [
       "<IPython.core.display.Javascript object>"
      ]
     },
     "metadata": {},
     "output_type": "display_data"
    },
    {
     "data": {
      "application/javascript": [
       "$('span:contains(\"# Temp\")').closest('.cell').remove();"
      ],
      "text/plain": [
       "<IPython.core.display.Javascript object>"
      ]
     },
     "metadata": {},
     "output_type": "display_data"
    },
    {
     "data": {
      "application/javascript": [
       "\n",
       "        $('span:contains(\"# Temp\")').closest('.cell').remove();\n",
       "        var code = IPython.notebook.insert_cell_below('code');\n",
       "        code.set_text(atob(\"IyBUZW1wCmluc2VydCgnJycKdHJlbmRvd2ljejBhID0gREIoV29ya1VucmVsYXRlZCgKICAgIDAsICJBbGlnbmluZyBPcmdhbml6YXRpb25zIFRocm91Z2ggTWVhc3VyZW1lbnQiLAogICAgZGlzcGxheT0idHJlbmRvd2ljeiIsCiAgICBhdXRob3JzPSJUcmVuZG93aWN6LCBWaWN0b3IgQmFzaWxpIEFkYW0gYW5kIEhlaWRyaWNoLCBNYXJ0aW4gS293YWxjenlrIEplbnMgYW5kIE38bmNoLCBDYXJvbHluIFNlYW1hbiBK/HJnZW4gYW5kIFJvbWJhY2gsIERpZXRlciIsCiAgICBwbGFjZT1GQUtFLAogICAgZW50cnl0eXBlPSJhcnRpY2xlIiwKICAgIHB1Ymxpc2hlcj0iU3ByaW5nZXIiLAogICAgSUQ9InRyZW5kb3dpY3phbGlnbmluZyIsCiAgICBjbHVzdGVyX2lkPSIxNTcwMzA5MTE2MDEzMDk1MDc2IiwKICAgIHNjaG9sYXI9Imh0dHA6Ly9zY2hvbGFyLmdvb2dsZS5jb20vc2Nob2xhcj9jaXRlcz0xNTcwMzA5MTE2MDEzMDk1MDc2JmFzX3NkdD0yMDA1JnNjaW9kdD0wLDUmaGw9ZW4iLAogICAgcGxhY2V4PSIiLAopKQoKREIoQ2l0YXRpb24oCiAgICB0cmVuZG93aWN6MGEsIGJhc2lsaTIwMTBhLCByZWY9IiIsCiAgICBjb250ZXh0cz1bCgogICAgXSwKKSkKCicnJywgY2l0YXRpb25zPSdiYXNpbGkyMDEwYScpOw==\"));\n",
       "    "
      ],
      "text/plain": [
       "<IPython.core.display.Javascript object>"
      ]
     },
     "metadata": {},
     "output_type": "display_data"
    },
    {
     "data": {
      "application/javascript": [
       "$('span:contains(\"# Temp\")').closest('.cell').remove();"
      ],
      "text/plain": [
       "<IPython.core.display.Javascript object>"
      ]
     },
     "metadata": {},
     "output_type": "display_data"
    },
    {
     "data": {
      "application/javascript": [
       "\n",
       "        $('span:contains(\"# Temp\")').closest('.cell').remove();\n",
       "        var code = IPython.notebook.insert_cell_below('code');\n",
       "        code.set_text(atob(\"IyBUZW1wCmluc2VydCgnJycKdHJlbmRvd2ljejBhID0gREIoV29ya1VucmVsYXRlZCgKICAgIDAsICJBbGlnbmluZyBPcmdhbml6YXRpb25zIFRocm91Z2ggTWVhc3VyZW1lbnQiLAogICAgZGlzcGxheT0idHJlbmRvd2ljeiIsCiAgICBhdXRob3JzPSJUcmVuZG93aWN6LCBWaWN0b3IgQmFzaWxpIEFkYW0gYW5kIEhlaWRyaWNoLCBNYXJ0aW4gS293YWxjenlrIEplbnMgYW5kIE38bmNoLCBDYXJvbHluIFNlYW1hbiBK/HJnZW4gYW5kIFJvbWJhY2gsIERpZXRlciIsCiAgICBwbGFjZT1GQUtFLAogICAgZW50cnl0eXBlPSJhcnRpY2xlIiwKICAgIHB1Ymxpc2hlcj0iU3ByaW5nZXIiLAogICAgSUQ9InRyZW5kb3dpY3phbGlnbmluZyIsCiAgICBjbHVzdGVyX2lkPSIxNTcwMzA5MTE2MDEzMDk1MDc2IiwKICAgIHNjaG9sYXI9Imh0dHA6Ly9zY2hvbGFyLmdvb2dsZS5jb20vc2Nob2xhcj9jaXRlcz0xNTcwMzA5MTE2MDEzMDk1MDc2JmFzX3NkdD0yMDA1JnNjaW9kdD0wLDUmaGw9ZW4iLAogICAgcGxhY2V4PSIiLAopKQoKREIoQ2l0YXRpb24oCiAgICB0cmVuZG93aWN6MGEsIGJhc2lsaTIwMTBhLCByZWY9IiIsCiAgICBjb250ZXh0cz1bCgogICAgXSwKKSkKCicnJywgY2l0YXRpb25zPSdiYXNpbGkyMDEwYScpOw==\"));\n",
       "    "
      ],
      "text/plain": [
       "<IPython.core.display.Javascript object>"
      ]
     },
     "metadata": {},
     "output_type": "display_data"
    },
    {
     "data": {
      "application/javascript": [
       "$('span:contains(\"# Temp\")').closest('.cell').remove();"
      ],
      "text/plain": [
       "<IPython.core.display.Javascript object>"
      ]
     },
     "metadata": {},
     "output_type": "display_data"
    },
    {
     "data": {
      "application/javascript": [
       "\n",
       "        $('span:contains(\"# Temp\")').closest('.cell').remove();\n",
       "        var code = IPython.notebook.insert_cell_below('code');\n",
       "        code.set_text(atob(\"IyBUZW1wCmluc2VydCgnJycKREIoQ2l0YXRpb24oCiAgICBtaXRyZTIwMTRhLCBiYXNpbGkyMDEwYSwgcmVmPSIiLAogICAgY29udGV4dHM9WwoKICAgIF0sCikpCgonJycsIGNpdGF0aW9ucz0nYmFzaWxpMjAxMGEnKTsKc2V0X2F0dHJpYnV0ZSgnbWl0cmUyMDE0YScsICdleGNlcnB0JywgJ0Fic3RyYWN0IFNvZnR3YXJlIG1lYXN1cmVtZW50IGlzIHdpZGVseSByZWNvZ25pemVkIGFzIGFuIGVzc2VudGlhbCBwYXJ0IG9mIHVuZGVyc3RhbmRpbmcsIGNvbnRyb2xsaW5nLCBtb25pdG9yaW5nLCBwcmVkaWN0aW5nLCBhbmQgZXZhbHVhdGluZyBzb2Z0d2FyZSBkZXZlbG9wbWVudCBhbmQgbWFpbnRlbmFuY2UgcHJvamVjdHMuIEJvdGgsIHNvZnR3YXJlIHByb2Nlc3MgaW1wcm92ZW1lbnQgKFNQSSkgYW5kIHNvZnR3YXJlIG1lYXN1cmVtZW50IGxpdGVyYXR1cmUgJyk7\"));\n",
       "    "
      ],
      "text/plain": [
       "<IPython.core.display.Javascript object>"
      ]
     },
     "metadata": {},
     "output_type": "display_data"
    },
    {
     "data": {
      "application/javascript": [
       "$('span:contains(\"# Temp\")').closest('.cell').remove();"
      ],
      "text/plain": [
       "<IPython.core.display.Javascript object>"
      ]
     },
     "metadata": {},
     "output_type": "display_data"
    },
    {
     "data": {
      "application/javascript": [
       "\n",
       "        $('span:contains(\"# Temp\")').closest('.cell').remove();\n",
       "        var code = IPython.notebook.insert_cell_below('code');\n",
       "        code.set_text(atob(\"IyBUZW1wCmluc2VydCgnJycKREIoQ2l0YXRpb24oCiAgICBtaXRyZTIwMTRhLCBiYXNpbGkyMDEwYSwgcmVmPSIiLAogICAgY29udGV4dHM9WwoKICAgIF0sCikpCgonJycsIGNpdGF0aW9ucz0nYmFzaWxpMjAxMGEnKTsKc2V0X2F0dHJpYnV0ZSgnbWl0cmUyMDE0YScsICdleGNlcnB0JywgJ0Fic3RyYWN0IFNvZnR3YXJlIG1lYXN1cmVtZW50IGlzIHdpZGVseSByZWNvZ25pemVkIGFzIGFuIGVzc2VudGlhbCBwYXJ0IG9mIHVuZGVyc3RhbmRpbmcsIGNvbnRyb2xsaW5nLCBtb25pdG9yaW5nLCBwcmVkaWN0aW5nLCBhbmQgZXZhbHVhdGluZyBzb2Z0d2FyZSBkZXZlbG9wbWVudCBhbmQgbWFpbnRlbmFuY2UgcHJvamVjdHMuIEJvdGgsIHNvZnR3YXJlIHByb2Nlc3MgaW1wcm92ZW1lbnQgKFNQSSkgYW5kIHNvZnR3YXJlIG1lYXN1cmVtZW50IGxpdGVyYXR1cmUgJyk7\"));\n",
       "    "
      ],
      "text/plain": [
       "<IPython.core.display.Javascript object>"
      ]
     },
     "metadata": {},
     "output_type": "display_data"
    },
    {
     "data": {
      "application/javascript": [
       "$('span:contains(\"# Temp\")').closest('.cell').remove();"
      ],
      "text/plain": [
       "<IPython.core.display.Javascript object>"
      ]
     },
     "metadata": {},
     "output_type": "display_data"
    },
    {
     "data": {
      "application/javascript": [
       "\n",
       "        $('span:contains(\"# Temp\")').closest('.cell').remove();\n",
       "        var code = IPython.notebook.insert_cell_below('code');\n",
       "        code.set_text(atob(\"IyBUZW1wCmluc2VydCgnJycKbWFjaGFkbzIwMTJhID0gREIoV29ya1VucmVsYXRlZCgKICAgIDIwMTIsICJGcm9tIEluZm9ybWF0aW9uIFN5c3RlbXMgUmVxdWlyZW1lbnRzIHRvIFNlcnZpY2UtT3JpZW50ZWQgTG9naWNhbCBBcmNoaXRlY3R1cmVzIiwKICAgIGRpc3BsYXk9Im1hY2hhZG8iLAogICAgYXV0aG9ycz0iTWFjaGFkbywgRG91dG9yIFJpY2FyZG8gSiIsCiAgICBwbGFjZT1UaGVzaXMsCiAgICBlbnRyeXR5cGU9InBoZHRoZXNpcyIsCiAgICBJRD0ibWFjaGFkbzIwMTJpbmZvcm1hdGlvbiIsCiAgICBsb2NhbD0iVW5pdmVyc2lkYWRlIGRvIE1pbmhvIiwKICAgIHBsYWNleD0iIiwKKSkKCkRCKENpdGF0aW9uKAogICAgbWFjaGFkbzIwMTJhLCBiYXNpbGkyMDEwYSwgcmVmPSIiLAogICAgY29udGV4dHM9WwoKICAgIF0sCikpCgonJycsIGNpdGF0aW9ucz0nYmFzaWxpMjAxMGEnKTs=\"));\n",
       "    "
      ],
      "text/plain": [
       "<IPython.core.display.Javascript object>"
      ]
     },
     "metadata": {},
     "output_type": "display_data"
    },
    {
     "data": {
      "application/javascript": [
       "$('span:contains(\"# Temp\")').closest('.cell').remove();"
      ],
      "text/plain": [
       "<IPython.core.display.Javascript object>"
      ]
     },
     "metadata": {},
     "output_type": "display_data"
    },
    {
     "data": {
      "application/javascript": [
       "\n",
       "        $('span:contains(\"# Temp\")').closest('.cell').remove();\n",
       "        var code = IPython.notebook.insert_cell_below('code');\n",
       "        code.set_text(atob(\"IyBUZW1wCmluc2VydCgnJycKbWFjaGFkbzIwMTJhID0gREIoV29ya1VucmVsYXRlZCgKICAgIDIwMTIsICJGcm9tIEluZm9ybWF0aW9uIFN5c3RlbXMgUmVxdWlyZW1lbnRzIHRvIFNlcnZpY2UtT3JpZW50ZWQgTG9naWNhbCBBcmNoaXRlY3R1cmVzIiwKICAgIGRpc3BsYXk9Im1hY2hhZG8iLAogICAgYXV0aG9ycz0iTWFjaGFkbywgRG91dG9yIFJpY2FyZG8gSiIsCiAgICBwbGFjZT1UaGVzaXMsCiAgICBlbnRyeXR5cGU9InBoZHRoZXNpcyIsCiAgICBJRD0ibWFjaGFkbzIwMTJpbmZvcm1hdGlvbiIsCiAgICBsb2NhbD0iVW5pdmVyc2lkYWRlIGRvIE1pbmhvIiwKICAgIHBsYWNleD0iIiwKKSkKCkRCKENpdGF0aW9uKAogICAgbWFjaGFkbzIwMTJhLCBiYXNpbGkyMDEwYSwgcmVmPSIiLAogICAgY29udGV4dHM9WwoKICAgIF0sCikpCgonJycsIGNpdGF0aW9ucz0nYmFzaWxpMjAxMGEnKTs=\"));\n",
       "    "
      ],
      "text/plain": [
       "<IPython.core.display.Javascript object>"
      ]
     },
     "metadata": {},
     "output_type": "display_data"
    },
    {
     "data": {
      "application/javascript": [
       "$('span:contains(\"# Temp\")').closest('.cell').remove();"
      ],
      "text/plain": [
       "<IPython.core.display.Javascript object>"
      ]
     },
     "metadata": {},
     "output_type": "display_data"
    },
    {
     "data": {
      "application/javascript": [
       "\n",
       "        $('span:contains(\"# Temp\")').closest('.cell').remove();\n",
       "        var code = IPython.notebook.insert_cell_below('code');\n",
       "        code.set_text(atob(\"IyBUZW1wCmluc2VydCgnJycKYWJkdWxhbWVlcjIwMTVhID0gREIoV29ya1VucmVsYXRlZCgKICAgIDIwMTUsICJUaGUgcmVxdWlyZW1lbnRzIG1hbmFnZW1lbnQgcHJhY3RpY2VzOiBBIHN0dWR5IGF0IFVVTSBJVCIsCiAgICBkaXNwbGF5PSJhYmR1bGFtZWVyIiwKICAgIGF1dGhvcnM9IkFiZHVsYW1lZXIsIEVuYXMgRmFkaGlsIiwKICAgIHBsYWNlPVRoZXNpcywKICAgIGVudHJ5dHlwZT0icGhkdGhlc2lzIiwKICAgIElEPSJhYmR1bGFtZWVyMjAxNXJlcXVpcmVtZW50cyIsCiAgICBsb2NhbD0iVW5pdmVyc2l0aSBVdGFyYSBNYWxheXNpYSIsCiAgICBwbGFjZXg9IiIsCikpCgpEQihDaXRhdGlvbigKICAgIGFiZHVsYW1lZXIyMDE1YSwgYmFzaWxpMjAxMGEsIHJlZj0iIiwKICAgIGNvbnRleHRzPVsKCiAgICBdLAopKQoKJycnLCBjaXRhdGlvbnM9J2Jhc2lsaTIwMTBhJyk7\"));\n",
       "    "
      ],
      "text/plain": [
       "<IPython.core.display.Javascript object>"
      ]
     },
     "metadata": {},
     "output_type": "display_data"
    },
    {
     "data": {
      "application/javascript": [
       "$('span:contains(\"# Temp\")').closest('.cell').remove();"
      ],
      "text/plain": [
       "<IPython.core.display.Javascript object>"
      ]
     },
     "metadata": {},
     "output_type": "display_data"
    },
    {
     "data": {
      "application/javascript": [
       "\n",
       "        $('span:contains(\"# Temp\")').closest('.cell').remove();\n",
       "        var code = IPython.notebook.insert_cell_below('code');\n",
       "        code.set_text(atob(\"IyBUZW1wCmluc2VydCgnJycKYWJkdWxhbWVlcjIwMTVhID0gREIoV29ya1VucmVsYXRlZCgKICAgIDIwMTUsICJUaGUgcmVxdWlyZW1lbnRzIG1hbmFnZW1lbnQgcHJhY3RpY2VzOiBBIHN0dWR5IGF0IFVVTSBJVCIsCiAgICBkaXNwbGF5PSJhYmR1bGFtZWVyIiwKICAgIGF1dGhvcnM9IkFiZHVsYW1lZXIsIEVuYXMgRmFkaGlsIiwKICAgIHBsYWNlPVRoZXNpcywKICAgIGVudHJ5dHlwZT0icGhkdGhlc2lzIiwKICAgIElEPSJhYmR1bGFtZWVyMjAxNXJlcXVpcmVtZW50cyIsCiAgICBsb2NhbD0iVW5pdmVyc2l0aSBVdGFyYSBNYWxheXNpYSIsCiAgICBwbGFjZXg9IiIsCikpCgpEQihDaXRhdGlvbigKICAgIGFiZHVsYW1lZXIyMDE1YSwgYmFzaWxpMjAxMGEsIHJlZj0iIiwKICAgIGNvbnRleHRzPVsKCiAgICBdLAopKQoKJycnLCBjaXRhdGlvbnM9J2Jhc2lsaTIwMTBhJyk7\"));\n",
       "    "
      ],
      "text/plain": [
       "<IPython.core.display.Javascript object>"
      ]
     },
     "metadata": {},
     "output_type": "display_data"
    },
    {
     "data": {
      "application/javascript": [
       "$('span:contains(\"# Temp\")').closest('.cell').remove();"
      ],
      "text/plain": [
       "<IPython.core.display.Javascript object>"
      ]
     },
     "metadata": {},
     "output_type": "display_data"
    },
    {
     "data": {
      "application/javascript": [
       "\n",
       "        $('span:contains(\"# Temp\")').closest('.cell').remove();\n",
       "        var code = IPython.notebook.insert_cell_below('code');\n",
       "        code.set_text(atob(\"IyBUZW1wCmluc2VydCgnJycKYWxpZ25tZW50MGEgPSBEQihXb3JrVW5yZWxhdGVkKAogICAgMCwgIkFTQ0lFTlRJQUUgUkVSVU0iLAogICAgZGlzcGxheT0iYWxpZ25tZW50IiwKICAgIGF1dGhvcnM9IkFMSUdOTUVOVCwgVkFMVUUiLAogICAgcGxhY2U9RkFLRSwKICAgIGVudHJ5dHlwZT0iYXJ0aWNsZSIsCiAgICBJRD0iYWxpZ25tZW50YXNjaWVudGlhZSIsCiAgICBwbGFjZXg9IiIsCikpCgpEQihDaXRhdGlvbigKICAgIGFsaWdubWVudDBhLCBiYXNpbGkyMDEwYSwgcmVmPSIiLAogICAgY29udGV4dHM9WwoKICAgIF0sCikpCgonJycsIGNpdGF0aW9ucz0nYmFzaWxpMjAxMGEnKTs=\"));\n",
       "    "
      ],
      "text/plain": [
       "<IPython.core.display.Javascript object>"
      ]
     },
     "metadata": {},
     "output_type": "display_data"
    },
    {
     "data": {
      "application/javascript": [
       "$('span:contains(\"# Temp\")').closest('.cell').remove();"
      ],
      "text/plain": [
       "<IPython.core.display.Javascript object>"
      ]
     },
     "metadata": {},
     "output_type": "display_data"
    },
    {
     "data": {
      "application/javascript": [
       "\n",
       "        $('span:contains(\"# Temp\")').closest('.cell').remove();\n",
       "        var code = IPython.notebook.insert_cell_below('code');\n",
       "        code.set_text(atob(\"IyBUZW1wCmluc2VydCgnJycKYWxpZ25tZW50MGEgPSBEQihXb3JrVW5yZWxhdGVkKAogICAgMCwgIkFTQ0lFTlRJQUUgUkVSVU0iLAogICAgZGlzcGxheT0iYWxpZ25tZW50IiwKICAgIGF1dGhvcnM9IkFMSUdOTUVOVCwgVkFMVUUiLAogICAgcGxhY2U9RkFLRSwKICAgIGVudHJ5dHlwZT0iYXJ0aWNsZSIsCiAgICBJRD0iYWxpZ25tZW50YXNjaWVudGlhZSIsCiAgICBwbGFjZXg9IiIsCikpCgpEQihDaXRhdGlvbigKICAgIGFsaWdubWVudDBhLCBiYXNpbGkyMDEwYSwgcmVmPSIiLAogICAgY29udGV4dHM9WwoKICAgIF0sCikpCgonJycsIGNpdGF0aW9ucz0nYmFzaWxpMjAxMGEnKTs=\"));\n",
       "    "
      ],
      "text/plain": [
       "<IPython.core.display.Javascript object>"
      ]
     },
     "metadata": {},
     "output_type": "display_data"
    },
    {
     "data": {
      "application/javascript": [
       "$('span:contains(\"# Temp\")').closest('.cell').remove();"
      ],
      "text/plain": [
       "<IPython.core.display.Javascript object>"
      ]
     },
     "metadata": {},
     "output_type": "display_data"
    },
    {
     "data": {
      "application/javascript": [
       "\n",
       "        $('span:contains(\"# Temp\")').closest('.cell').remove();\n",
       "        var code = IPython.notebook.insert_cell_below('code');\n",
       "        code.set_text(atob(\"IyBUZW1wCmluc2VydCgnJycKcm9tYmFjaDIwMTRhID0gREIoV29ya1VucmVsYXRlZCgKICAgIDIwMTQsICJNZWFzdXJpbmcgdGhlIEltcGFjdCBvZiBFbWVyZ2VuY2UgaW4gQnVzaW5lc3MgQXBwbGljYXRpb25zIiwKICAgIGRpc3BsYXk9InJvbWJhY2giLAogICAgYXV0aG9ycz0iUm9tYmFjaCwgRGlldGVyIGFuZCBLbORzLCBNaWNoYWVsIGFuZCBXZWJlbCwgQ2hyaXN0aWFuIiwKICAgIHBsYWNlPUZBS0UsCiAgICBwcD0iMjUtLTM3IiwKICAgIGVudHJ5dHlwZT0iaW5jb2xsZWN0aW9uIiwKICAgIHB1Ymxpc2hlcj0iU3ByaW5nZXIiLAogICAgSUQ9InJvbWJhY2gyMDE0bWVhc3VyaW5nIiwKICAgIHBsYWNleD0iRnV0dXJlIEJ1c2luZXNzIFNvZnR3YXJlIiwKKSkKCkRCKENpdGF0aW9uKAogICAgcm9tYmFjaDIwMTRhLCBiYXNpbGkyMDEwYSwgcmVmPSIiLAogICAgY29udGV4dHM9WwoKICAgIF0sCikpCgonJycsIGNpdGF0aW9ucz0nYmFzaWxpMjAxMGEnKTs=\"));\n",
       "    "
      ],
      "text/plain": [
       "<IPython.core.display.Javascript object>"
      ]
     },
     "metadata": {},
     "output_type": "display_data"
    },
    {
     "data": {
      "application/javascript": [
       "$('span:contains(\"# Temp\")').closest('.cell').remove();"
      ],
      "text/plain": [
       "<IPython.core.display.Javascript object>"
      ]
     },
     "metadata": {},
     "output_type": "display_data"
    },
    {
     "data": {
      "application/javascript": [
       "\n",
       "        $('span:contains(\"# Temp\")').closest('.cell').remove();\n",
       "        var code = IPython.notebook.insert_cell_below('code');\n",
       "        code.set_text(atob(\"IyBUZW1wCmluc2VydCgnJycKcm9tYmFjaDIwMTRhID0gREIoV29ya1VucmVsYXRlZCgKICAgIDIwMTQsICJNZWFzdXJpbmcgdGhlIEltcGFjdCBvZiBFbWVyZ2VuY2UgaW4gQnVzaW5lc3MgQXBwbGljYXRpb25zIiwKICAgIGRpc3BsYXk9InJvbWJhY2giLAogICAgYXV0aG9ycz0iUm9tYmFjaCwgRGlldGVyIGFuZCBLbORzLCBNaWNoYWVsIGFuZCBXZWJlbCwgQ2hyaXN0aWFuIiwKICAgIHBsYWNlPUZBS0UsCiAgICBwcD0iMjUtLTM3IiwKICAgIGVudHJ5dHlwZT0iaW5jb2xsZWN0aW9uIiwKICAgIHB1Ymxpc2hlcj0iU3ByaW5nZXIiLAogICAgSUQ9InJvbWJhY2gyMDE0bWVhc3VyaW5nIiwKICAgIHBsYWNleD0iRnV0dXJlIEJ1c2luZXNzIFNvZnR3YXJlIiwKKSkKCkRCKENpdGF0aW9uKAogICAgcm9tYmFjaDIwMTRhLCBiYXNpbGkyMDEwYSwgcmVmPSIiLAogICAgY29udGV4dHM9WwoKICAgIF0sCikpCgonJycsIGNpdGF0aW9ucz0nYmFzaWxpMjAxMGEnKTs=\"));\n",
       "    "
      ],
      "text/plain": [
       "<IPython.core.display.Javascript object>"
      ]
     },
     "metadata": {},
     "output_type": "display_data"
    },
    {
     "data": {
      "application/javascript": [
       "$('span:contains(\"# Temp\")').closest('.cell').remove();"
      ],
      "text/plain": [
       "<IPython.core.display.Javascript object>"
      ]
     },
     "metadata": {},
     "output_type": "display_data"
    },
    {
     "data": {
      "application/javascript": [
       "\n",
       "        $('span:contains(\"# Temp\")').closest('.cell').remove();\n",
       "        var code = IPython.notebook.insert_cell_below('code');\n",
       "        code.set_text(atob(\"IyBUZW1wCmluc2VydCgnJycKcG9ydDIwMTZhID0gREIoV29ya1VucmVsYXRlZCgKICAgIDIwMTYsICJEZXZlbG9waW5nIGEgVmFsdWUtQmFzZWQgTWV0aG9kb2xvZ3kgZm9yIFNhdGlzZnlpbmcgTkFTQSBTb2Z0d2FyZSBBc3N1cmFuY2UgUmVxdWlyZW1lbnRzIiwKICAgIGRpc3BsYXk9InBvcnQiLAogICAgYXV0aG9ycz0iUG9ydCwgRGFuaWVsIGFuZCBXaWxmLCBKb2VsIGFuZCBEaWVwLCBNYWRlbGluZSBhbmQgU2VhbWFuLCBDYXJvbHluIGFuZCBGZWF0aGVyLCBNYXJ0aW4iLAogICAgcGxhY2U9RkFLRSwKICAgIHBwPSI1NjQyLS01NjUxIiwKICAgIGVudHJ5dHlwZT0iaW5wcm9jZWVkaW5ncyIsCiAgICBvcmdhbml6YXRpb249IklFRUUiLAogICAgSUQ9InBvcnQyMDE2ZGV2ZWxvcGluZyIsCiAgICBwbGFjZXg9IlN5c3RlbSBTY2llbmNlcyAoSElDU1MpLCAyMDE2IDQ5dGggSGF3YWlpIEludGVybmF0aW9uYWwgQ29uZmVyZW5jZSBvbiIsCikpCgpEQihDaXRhdGlvbigKICAgIHBvcnQyMDE2YSwgYmFzaWxpMjAxMGEsIHJlZj0iIiwKICAgIGNvbnRleHRzPVsKCiAgICBdLAopKQoKJycnLCBjaXRhdGlvbnM9J2Jhc2lsaTIwMTBhJyk7\"));\n",
       "    "
      ],
      "text/plain": [
       "<IPython.core.display.Javascript object>"
      ]
     },
     "metadata": {},
     "output_type": "display_data"
    },
    {
     "data": {
      "application/javascript": [
       "$('span:contains(\"# Temp\")').closest('.cell').remove();"
      ],
      "text/plain": [
       "<IPython.core.display.Javascript object>"
      ]
     },
     "metadata": {},
     "output_type": "display_data"
    },
    {
     "data": {
      "application/javascript": [
       "\n",
       "        $('span:contains(\"# Temp\")').closest('.cell').remove();\n",
       "        var code = IPython.notebook.insert_cell_below('code');\n",
       "        code.set_text(atob(\"IyBUZW1wCmluc2VydCgnJycKcG9ydDIwMTZhID0gREIoV29ya1VucmVsYXRlZCgKICAgIDIwMTYsICJEZXZlbG9waW5nIGEgVmFsdWUtQmFzZWQgTWV0aG9kb2xvZ3kgZm9yIFNhdGlzZnlpbmcgTkFTQSBTb2Z0d2FyZSBBc3N1cmFuY2UgUmVxdWlyZW1lbnRzIiwKICAgIGRpc3BsYXk9InBvcnQiLAogICAgYXV0aG9ycz0iUG9ydCwgRGFuaWVsIGFuZCBXaWxmLCBKb2VsIGFuZCBEaWVwLCBNYWRlbGluZSBhbmQgU2VhbWFuLCBDYXJvbHluIGFuZCBGZWF0aGVyLCBNYXJ0aW4iLAogICAgcGxhY2U9RkFLRSwKICAgIHBwPSI1NjQyLS01NjUxIiwKICAgIGVudHJ5dHlwZT0iaW5wcm9jZWVkaW5ncyIsCiAgICBvcmdhbml6YXRpb249IklFRUUiLAogICAgSUQ9InBvcnQyMDE2ZGV2ZWxvcGluZyIsCiAgICBwbGFjZXg9IlN5c3RlbSBTY2llbmNlcyAoSElDU1MpLCAyMDE2IDQ5dGggSGF3YWlpIEludGVybmF0aW9uYWwgQ29uZmVyZW5jZSBvbiIsCikpCgpEQihDaXRhdGlvbigKICAgIHBvcnQyMDE2YSwgYmFzaWxpMjAxMGEsIHJlZj0iIiwKICAgIGNvbnRleHRzPVsKCiAgICBdLAopKQoKJycnLCBjaXRhdGlvbnM9J2Jhc2lsaTIwMTBhJyk7\"));\n",
       "    "
      ],
      "text/plain": [
       "<IPython.core.display.Javascript object>"
      ]
     },
     "metadata": {},
     "output_type": "display_data"
    },
    {
     "data": {
      "application/javascript": [
       "$('span:contains(\"# Temp\")').closest('.cell').remove();"
      ],
      "text/plain": [
       "<IPython.core.display.Javascript object>"
      ]
     },
     "metadata": {},
     "output_type": "display_data"
    },
    {
     "data": {
      "application/javascript": [
       "\n",
       "        $('span:contains(\"# Temp\")').closest('.cell').remove();\n",
       "        var code = IPython.notebook.insert_cell_below('code');\n",
       "        code.set_text(atob(\"IyBUZW1wCmluc2VydCgnJycKc2FudG9zMjAxN2EgPSBEQihXb3JrVW5yZWxhdGVkKAogICAgMjAxNywgIlRyYW5zaXRpb24gZnJvbSBJbmZvcm1hdGlvbiBTeXN0ZW1zIHRvIFNlcnZpY2UtT3JpZW50ZWQgTG9naWNhbCBBcmNoaXRlY3R1cmVzOiBGb3JtYWxpemluZyBTdGVwcyBhbmQgUnVsZXMgd2l0aCBRVlQiLAogICAgZGlzcGxheT0ic2FudG9zIiwKICAgIGF1dGhvcnM9IlNhbnRvcywgTnVubyBhbmQgRmVycmVpcmEsIE51bm8gYW5kIE1hY2hhZG8sIFJpY2FyZG8gSiIsCiAgICBwbGFjZT1GQUtFLAogICAgcHA9IjI0Ny0tMjcwIiwKICAgIGVudHJ5dHlwZT0iaW5jb2xsZWN0aW9uIiwKICAgIHB1Ymxpc2hlcj0iU3ByaW5nZXIiLAogICAgSUQ9InNhbnRvczIwMTd0cmFuc2l0aW9uIiwKICAgIHBsYWNleD0iUmVxdWlyZW1lbnRzIEVuZ2luZWVyaW5nIGZvciBTZXJ2aWNlIGFuZCBDbG91ZCBDb21wdXRpbmciLAopKQoKREIoQ2l0YXRpb24oCiAgICBzYW50b3MyMDE3YSwgYmFzaWxpMjAxMGEsIHJlZj0iIiwKICAgIGNvbnRleHRzPVsKCiAgICBdLAopKQoKJycnLCBjaXRhdGlvbnM9J2Jhc2lsaTIwMTBhJyk7\"));\n",
       "    "
      ],
      "text/plain": [
       "<IPython.core.display.Javascript object>"
      ]
     },
     "metadata": {},
     "output_type": "display_data"
    },
    {
     "data": {
      "application/javascript": [
       "$('span:contains(\"# Temp\")').closest('.cell').remove();"
      ],
      "text/plain": [
       "<IPython.core.display.Javascript object>"
      ]
     },
     "metadata": {},
     "output_type": "display_data"
    },
    {
     "data": {
      "application/javascript": [
       "\n",
       "        $('span:contains(\"# Temp\")').closest('.cell').remove();\n",
       "        var code = IPython.notebook.insert_cell_below('code');\n",
       "        code.set_text(atob(\"IyBUZW1wCmluc2VydCgnJycKc2FudG9zMjAxN2EgPSBEQihXb3JrVW5yZWxhdGVkKAogICAgMjAxNywgIlRyYW5zaXRpb24gZnJvbSBJbmZvcm1hdGlvbiBTeXN0ZW1zIHRvIFNlcnZpY2UtT3JpZW50ZWQgTG9naWNhbCBBcmNoaXRlY3R1cmVzOiBGb3JtYWxpemluZyBTdGVwcyBhbmQgUnVsZXMgd2l0aCBRVlQiLAogICAgZGlzcGxheT0ic2FudG9zIiwKICAgIGF1dGhvcnM9IlNhbnRvcywgTnVubyBhbmQgRmVycmVpcmEsIE51bm8gYW5kIE1hY2hhZG8sIFJpY2FyZG8gSiIsCiAgICBwbGFjZT1GQUtFLAogICAgcHA9IjI0Ny0tMjcwIiwKICAgIGVudHJ5dHlwZT0iaW5jb2xsZWN0aW9uIiwKICAgIHB1Ymxpc2hlcj0iU3ByaW5nZXIiLAogICAgSUQ9InNhbnRvczIwMTd0cmFuc2l0aW9uIiwKICAgIHBsYWNleD0iUmVxdWlyZW1lbnRzIEVuZ2luZWVyaW5nIGZvciBTZXJ2aWNlIGFuZCBDbG91ZCBDb21wdXRpbmciLAopKQoKREIoQ2l0YXRpb24oCiAgICBzYW50b3MyMDE3YSwgYmFzaWxpMjAxMGEsIHJlZj0iIiwKICAgIGNvbnRleHRzPVsKCiAgICBdLAopKQoKJycnLCBjaXRhdGlvbnM9J2Jhc2lsaTIwMTBhJyk7\"));\n",
       "    "
      ],
      "text/plain": [
       "<IPython.core.display.Javascript object>"
      ]
     },
     "metadata": {},
     "output_type": "display_data"
    },
    {
     "data": {
      "application/javascript": [
       "$('span:contains(\"# Temp\")').closest('.cell').remove();"
      ],
      "text/plain": [
       "<IPython.core.display.Javascript object>"
      ]
     },
     "metadata": {},
     "output_type": "display_data"
    },
    {
     "data": {
      "application/javascript": [
       "\n",
       "        $('span:contains(\"# Temp\")').closest('.cell').remove();\n",
       "        var code = IPython.notebook.insert_cell_below('code');\n",
       "        code.set_text(atob(\"IyBUZW1wCmluc2VydCgnJycKb2xzaW5hMGEgPSBEQihXb3JrVW5yZWxhdGVkKAogICAgMCwgIkJyaWRnaW5nIHRoZSBHYXAgYmV0d2VlbiBTZWN1cml0eS9SaXNrIGFuZCBRdWFsaXR5IiwKICAgIGRpc3BsYXk9Im9sc2luYSIsCiAgICBhdXRob3JzPSJPbHNpbmEsIEx1aXMgYW5kIFBlc290c2theWEsIEVsZW5hIGFuZCBEaWVzZXIsIEFsZXhhbmRlciBhbmQgQ292ZWxsYSwgR3VpbGxlcm1vIiwKICAgIHBsYWNlPUZBS0UsCiAgICBlbnRyeXR5cGU9ImFydGljbGUiLAogICAgSUQ9Im9sc2luYWJyaWRnaW5nIiwKICAgIHBsYWNleD0iIiwKKSkKCkRCKENpdGF0aW9uKAogICAgb2xzaW5hMGEsIGJhc2lsaTIwMTBhLCByZWY9IiIsCiAgICBjb250ZXh0cz1bCgogICAgXSwKKSkKCicnJywgY2l0YXRpb25zPSdiYXNpbGkyMDEwYScpOw==\"));\n",
       "    "
      ],
      "text/plain": [
       "<IPython.core.display.Javascript object>"
      ]
     },
     "metadata": {},
     "output_type": "display_data"
    },
    {
     "data": {
      "application/javascript": [
       "$('span:contains(\"# Temp\")').closest('.cell').remove();"
      ],
      "text/plain": [
       "<IPython.core.display.Javascript object>"
      ]
     },
     "metadata": {},
     "output_type": "display_data"
    },
    {
     "data": {
      "application/javascript": [
       "\n",
       "        $('span:contains(\"# Temp\")').closest('.cell').remove();\n",
       "        var code = IPython.notebook.insert_cell_below('code');\n",
       "        code.set_text(atob(\"IyBUZW1wCmluc2VydCgnJycKb2xzaW5hMGEgPSBEQihXb3JrVW5yZWxhdGVkKAogICAgMCwgIkJyaWRnaW5nIHRoZSBHYXAgYmV0d2VlbiBTZWN1cml0eS9SaXNrIGFuZCBRdWFsaXR5IiwKICAgIGRpc3BsYXk9Im9sc2luYSIsCiAgICBhdXRob3JzPSJPbHNpbmEsIEx1aXMgYW5kIFBlc290c2theWEsIEVsZW5hIGFuZCBEaWVzZXIsIEFsZXhhbmRlciBhbmQgQ292ZWxsYSwgR3VpbGxlcm1vIiwKICAgIHBsYWNlPUZBS0UsCiAgICBlbnRyeXR5cGU9ImFydGljbGUiLAogICAgSUQ9Im9sc2luYWJyaWRnaW5nIiwKICAgIHBsYWNleD0iIiwKKSkKCkRCKENpdGF0aW9uKAogICAgb2xzaW5hMGEsIGJhc2lsaTIwMTBhLCByZWY9IiIsCiAgICBjb250ZXh0cz1bCgogICAgXSwKKSkKCicnJywgY2l0YXRpb25zPSdiYXNpbGkyMDEwYScpOw==\"));\n",
       "    "
      ],
      "text/plain": [
       "<IPython.core.display.Javascript object>"
      ]
     },
     "metadata": {},
     "output_type": "display_data"
    },
    {
     "data": {
      "application/javascript": [
       "$('span:contains(\"# Temp\")').closest('.cell').remove();"
      ],
      "text/plain": [
       "<IPython.core.display.Javascript object>"
      ]
     },
     "metadata": {},
     "output_type": "display_data"
    },
    {
     "data": {
      "application/javascript": [
       "\n",
       "        $('span:contains(\"# Temp\")').closest('.cell').remove();\n",
       "        var code = IPython.notebook.insert_cell_below('code');\n",
       "        code.set_text(atob(\"IyBUZW1wCmluc2VydCgnJycKYXJtc3Ryb25nMjAxNmEgPSBEQihXb3JrVW5yZWxhdGVkKAogICAgMjAxNiwgIlVzZSBvZiBNZXRyaWNzIGFuZCB0aGVpciBWaXN1YWxpc2F0aW9ucyBpbiBTb2Z0d2FyZSBFbmdpbmVlcmluZyBQcm9qZWN0cyIsCiAgICBkaXNwbGF5PSJhcm1zdHJvbmciLAogICAgYXV0aG9ycz0iQXJtc3Ryb25nLCBFZHdhcmQiLAogICAgcGxhY2U9RkFLRSwKICAgIGVudHJ5dHlwZT0iYXJ0aWNsZSIsCiAgICBwdWJsaXNoZXI9IlVuaXZlcnNpdHkgb2YgQ2FudGVyYnVyeSIsCiAgICBJRD0iYXJtc3Ryb25nMjAxNnVzZSIsCiAgICBwbGFjZXg9IiIsCikpCgpEQihDaXRhdGlvbigKICAgIGFybXN0cm9uZzIwMTZhLCBiYXNpbGkyMDEwYSwgcmVmPSIiLAogICAgY29udGV4dHM9WwoKICAgIF0sCikpCgonJycsIGNpdGF0aW9ucz0nYmFzaWxpMjAxMGEnKTs=\"));\n",
       "    "
      ],
      "text/plain": [
       "<IPython.core.display.Javascript object>"
      ]
     },
     "metadata": {},
     "output_type": "display_data"
    },
    {
     "data": {
      "application/javascript": [
       "$('span:contains(\"# Temp\")').closest('.cell').remove();"
      ],
      "text/plain": [
       "<IPython.core.display.Javascript object>"
      ]
     },
     "metadata": {},
     "output_type": "display_data"
    },
    {
     "data": {
      "application/javascript": [
       "\n",
       "        $('span:contains(\"# Temp\")').closest('.cell').remove();\n",
       "        var code = IPython.notebook.insert_cell_below('code');\n",
       "        code.set_text(atob(\"IyBUZW1wCmluc2VydCgnJycKYXJtc3Ryb25nMjAxNmEgPSBEQihXb3JrVW5yZWxhdGVkKAogICAgMjAxNiwgIlVzZSBvZiBNZXRyaWNzIGFuZCB0aGVpciBWaXN1YWxpc2F0aW9ucyBpbiBTb2Z0d2FyZSBFbmdpbmVlcmluZyBQcm9qZWN0cyIsCiAgICBkaXNwbGF5PSJhcm1zdHJvbmciLAogICAgYXV0aG9ycz0iQXJtc3Ryb25nLCBFZHdhcmQiLAogICAgcGxhY2U9RkFLRSwKICAgIGVudHJ5dHlwZT0iYXJ0aWNsZSIsCiAgICBwdWJsaXNoZXI9IlVuaXZlcnNpdHkgb2YgQ2FudGVyYnVyeSIsCiAgICBJRD0iYXJtc3Ryb25nMjAxNnVzZSIsCiAgICBwbGFjZXg9IiIsCikpCgpEQihDaXRhdGlvbigKICAgIGFybXN0cm9uZzIwMTZhLCBiYXNpbGkyMDEwYSwgcmVmPSIiLAogICAgY29udGV4dHM9WwoKICAgIF0sCikpCgonJycsIGNpdGF0aW9ucz0nYmFzaWxpMjAxMGEnKTs=\"));\n",
       "    "
      ],
      "text/plain": [
       "<IPython.core.display.Javascript object>"
      ]
     },
     "metadata": {},
     "output_type": "display_data"
    },
    {
     "data": {
      "application/javascript": [
       "$('span:contains(\"# Temp\")').closest('.cell').remove();"
      ],
      "text/plain": [
       "<IPython.core.display.Javascript object>"
      ]
     },
     "metadata": {},
     "output_type": "display_data"
    },
    {
     "data": {
      "application/javascript": [
       "\n",
       "        $('span:contains(\"# Temp\")').closest('.cell').remove();\n",
       "        var code = IPython.notebook.insert_cell_below('code');\n",
       "        code.set_text(atob(\"IyBUZW1wCmluc2VydCgnJycKY2VkZXJncmVuMjAxMWIgPSBEQihXb3JrVW5yZWxhdGVkKAogICAgMjAxMSwgIk1ha2luZyB0aGUgSW1wb3J0YW50IE1lYXN1cmFibGUiLAogICAgZGlzcGxheT0iY2VkZXJncmVuIGIiLAogICAgYXV0aG9ycz0iQ2VkZXJncmVuLCBTdGVmYW4gYW5kIEVyaWtzc29uLCBKb2FraW0gYW5kIExhcnNzb24sIFN0aWciLAogICAgcGxhY2U9RkFLRSwKICAgIGVudHJ5dHlwZT0iYXJ0aWNsZSIsCiAgICBwdWJsaXNoZXI9Ik1pYW1pIEJlYWNoLCBVU0EiLAogICAgSUQ9ImNlZGVyZ3JlbjIwMTFtYWtpbmciLAogICAgcGxhY2V4PSJJbnRlcm5hdGlvbmFsIEFzc29jaWF0aW9uIGZvciBNYW5hZ2VtZW50IG9mIFRlY2hub2xvZ3kgSUFNT1QgMjAxMSBQcm9jZWVkaW5ncyIsCikpCgpEQihDaXRhdGlvbigKICAgIGNlZGVyZ3JlbjIwMTFiLCBiYXNpbGkyMDEwYSwgcmVmPSIiLAogICAgY29udGV4dHM9WwoKICAgIF0sCikpCgonJycsIGNpdGF0aW9ucz0nYmFzaWxpMjAxMGEnKTs=\"));\n",
       "    "
      ],
      "text/plain": [
       "<IPython.core.display.Javascript object>"
      ]
     },
     "metadata": {},
     "output_type": "display_data"
    },
    {
     "data": {
      "application/javascript": [
       "$('span:contains(\"# Temp\")').closest('.cell').remove();"
      ],
      "text/plain": [
       "<IPython.core.display.Javascript object>"
      ]
     },
     "metadata": {},
     "output_type": "display_data"
    },
    {
     "data": {
      "application/javascript": [
       "\n",
       "        $('span:contains(\"# Temp\")').closest('.cell').remove();\n",
       "        var code = IPython.notebook.insert_cell_below('code');\n",
       "        code.set_text(atob(\"IyBUZW1wCmluc2VydCgnJycKY2VkZXJncmVuMjAxMWIgPSBEQihXb3JrVW5yZWxhdGVkKAogICAgMjAxMSwgIk1ha2luZyB0aGUgSW1wb3J0YW50IE1lYXN1cmFibGUiLAogICAgZGlzcGxheT0iY2VkZXJncmVuIGIiLAogICAgYXV0aG9ycz0iQ2VkZXJncmVuLCBTdGVmYW4gYW5kIEVyaWtzc29uLCBKb2FraW0gYW5kIExhcnNzb24sIFN0aWciLAogICAgcGxhY2U9RkFLRSwKICAgIGVudHJ5dHlwZT0iYXJ0aWNsZSIsCiAgICBwdWJsaXNoZXI9Ik1pYW1pIEJlYWNoLCBVU0EiLAogICAgSUQ9ImNlZGVyZ3JlbjIwMTFtYWtpbmciLAogICAgcGxhY2V4PSJJbnRlcm5hdGlvbmFsIEFzc29jaWF0aW9uIGZvciBNYW5hZ2VtZW50IG9mIFRlY2hub2xvZ3kgSUFNT1QgMjAxMSBQcm9jZWVkaW5ncyIsCikpCgpEQihDaXRhdGlvbigKICAgIGNlZGVyZ3JlbjIwMTFiLCBiYXNpbGkyMDEwYSwgcmVmPSIiLAogICAgY29udGV4dHM9WwoKICAgIF0sCikpCgonJycsIGNpdGF0aW9ucz0nYmFzaWxpMjAxMGEnKTs=\"));\n",
       "    "
      ],
      "text/plain": [
       "<IPython.core.display.Javascript object>"
      ]
     },
     "metadata": {},
     "output_type": "display_data"
    },
    {
     "data": {
      "application/javascript": [
       "$('span:contains(\"# Temp\")').closest('.cell').remove();"
      ],
      "text/plain": [
       "<IPython.core.display.Javascript object>"
      ]
     },
     "metadata": {},
     "output_type": "display_data"
    },
    {
     "data": {
      "application/javascript": [
       "\n",
       "        $('span:contains(\"# Temp\")').closest('.cell').remove();\n",
       "        var code = IPython.notebook.insert_cell_below('code');\n",
       "        code.set_text(atob(\"IyBUZW1wCmluc2VydCgnJycKYW5kZXJzMGEgPSBEQihXb3JrVW5yZWxhdGVkKAogICAgMCwgIkludGVybmV0IE1hcmtldGluZyBNZXRyaWNzLS1BbmFsb2dpZXMgd2l0aCBTb2Z0d2FyZSBFbmdpbmVlcmluZyIsCiAgICBkaXNwbGF5PSJhbmRlcnMiLAogICAgYXV0aG9ycz0iQW5kZXJzLCBDTVMiLAogICAgcGxhY2U9RkFLRSwKICAgIGVudHJ5dHlwZT0iYXJ0aWNsZSIsCiAgICBJRD0iYW5kZXJzaW50ZXJuZXQiLAogICAgcGxhY2V4PSIiLAopKQoKREIoQ2l0YXRpb24oCiAgICBhbmRlcnMwYSwgYmFzaWxpMjAxMGEsIHJlZj0iIiwKICAgIGNvbnRleHRzPVsKCiAgICBdLAopKQoKJycnLCBjaXRhdGlvbnM9J2Jhc2lsaTIwMTBhJyk7\"));\n",
       "    "
      ],
      "text/plain": [
       "<IPython.core.display.Javascript object>"
      ]
     },
     "metadata": {},
     "output_type": "display_data"
    },
    {
     "data": {
      "application/javascript": [
       "$('span:contains(\"# Temp\")').closest('.cell').remove();"
      ],
      "text/plain": [
       "<IPython.core.display.Javascript object>"
      ]
     },
     "metadata": {},
     "output_type": "display_data"
    },
    {
     "data": {
      "application/javascript": [
       "\n",
       "        $('span:contains(\"# Temp\")').closest('.cell').remove();\n",
       "        var code = IPython.notebook.insert_cell_below('code');\n",
       "        code.set_text(atob(\"IyBUZW1wCmluc2VydCgnJycKYW5kZXJzMGEgPSBEQihXb3JrVW5yZWxhdGVkKAogICAgMCwgIkludGVybmV0IE1hcmtldGluZyBNZXRyaWNzLS1BbmFsb2dpZXMgd2l0aCBTb2Z0d2FyZSBFbmdpbmVlcmluZyIsCiAgICBkaXNwbGF5PSJhbmRlcnMiLAogICAgYXV0aG9ycz0iQW5kZXJzLCBDTVMiLAogICAgcGxhY2U9RkFLRSwKICAgIGVudHJ5dHlwZT0iYXJ0aWNsZSIsCiAgICBJRD0iYW5kZXJzaW50ZXJuZXQiLAogICAgcGxhY2V4PSIiLAopKQoKREIoQ2l0YXRpb24oCiAgICBhbmRlcnMwYSwgYmFzaWxpMjAxMGEsIHJlZj0iIiwKICAgIGNvbnRleHRzPVsKCiAgICBdLAopKQoKJycnLCBjaXRhdGlvbnM9J2Jhc2lsaTIwMTBhJyk7\"));\n",
       "    "
      ],
      "text/plain": [
       "<IPython.core.display.Javascript object>"
      ]
     },
     "metadata": {},
     "output_type": "display_data"
    },
    {
     "data": {
      "application/javascript": [
       "$('span:contains(\"# Temp\")').closest('.cell').remove();"
      ],
      "text/plain": [
       "<IPython.core.display.Javascript object>"
      ]
     },
     "metadata": {},
     "output_type": "display_data"
    },
    {
     "data": {
      "application/javascript": [
       "\n",
       "        $('span:contains(\"# Temp\")').closest('.cell').remove();\n",
       "        var code = IPython.notebook.insert_cell_below('code');\n",
       "        code.set_text(atob(\"IyBUZW1wCmluc2VydCgnJycKREIoQ2l0YXRpb24oCiAgICBzYW5jaGV6MjAxOGEsIGJhc2lsaTIwMTBhLCByZWY9IiIsCiAgICBjb250ZXh0cz1bCgogICAgXSwKKSkKCicnJywgY2l0YXRpb25zPSdiYXNpbGkyMDEwYScpOwpzZXRfYXR0cmlidXRlKCdzYW5jaGV6MjAxOGEnLCAnZXhjZXJwdCcsICdQdXJwb3NlIFRoaXMgcGFwZXIgYWltcyB0byBhZGRyZXNzIHRoZSB1c2Ugb2YgbW9kZWxsaW5nIGFuZCBzaW11bGF0aW9uIHRvb2xzIHRvIGVuaGFuY2UgaW50YW5naWJsZSBwcm9jZXNzIGFzc2V0cyBtYW5hZ2VtZW50IGJ5IHNpbXVsYXRpbmcgYW5kIGF1dG9tYXRpbmcgdGhlaXIgY2hhcmFjdGVyaXphdGlvbiBkZXBlbmRpbmcgb24gdGhlaXIgcXVhbGl0eSBhbmQgaW1wYWN0IG9uIGFuIG9yZ2FuaXphdGlvbmFsIGJ1c2luZXNzIGdvYWwuICcpOw==\"));\n",
       "    "
      ],
      "text/plain": [
       "<IPython.core.display.Javascript object>"
      ]
     },
     "metadata": {},
     "output_type": "display_data"
    },
    {
     "data": {
      "application/javascript": [
       "$('span:contains(\"# Temp\")').closest('.cell').remove();"
      ],
      "text/plain": [
       "<IPython.core.display.Javascript object>"
      ]
     },
     "metadata": {},
     "output_type": "display_data"
    },
    {
     "data": {
      "application/javascript": [
       "\n",
       "        $('span:contains(\"# Temp\")').closest('.cell').remove();\n",
       "        var code = IPython.notebook.insert_cell_below('code');\n",
       "        code.set_text(atob(\"IyBUZW1wCmluc2VydCgnJycKREIoQ2l0YXRpb24oCiAgICBzYW5jaGV6MjAxOGEsIGJhc2lsaTIwMTBhLCByZWY9IiIsCiAgICBjb250ZXh0cz1bCgogICAgXSwKKSkKCicnJywgY2l0YXRpb25zPSdiYXNpbGkyMDEwYScpOwpzZXRfYXR0cmlidXRlKCdzYW5jaGV6MjAxOGEnLCAnZXhjZXJwdCcsICdQdXJwb3NlIFRoaXMgcGFwZXIgYWltcyB0byBhZGRyZXNzIHRoZSB1c2Ugb2YgbW9kZWxsaW5nIGFuZCBzaW11bGF0aW9uIHRvb2xzIHRvIGVuaGFuY2UgaW50YW5naWJsZSBwcm9jZXNzIGFzc2V0cyBtYW5hZ2VtZW50IGJ5IHNpbXVsYXRpbmcgYW5kIGF1dG9tYXRpbmcgdGhlaXIgY2hhcmFjdGVyaXphdGlvbiBkZXBlbmRpbmcgb24gdGhlaXIgcXVhbGl0eSBhbmQgaW1wYWN0IG9uIGFuIG9yZ2FuaXphdGlvbmFsIGJ1c2luZXNzIGdvYWwuICcpOw==\"));\n",
       "    "
      ],
      "text/plain": [
       "<IPython.core.display.Javascript object>"
      ]
     },
     "metadata": {},
     "output_type": "display_data"
    },
    {
     "data": {
      "application/javascript": [
       "$('span:contains(\"# Temp\")').closest('.cell').remove();"
      ],
      "text/plain": [
       "<IPython.core.display.Javascript object>"
      ]
     },
     "metadata": {},
     "output_type": "display_data"
    },
    {
     "data": {
      "application/javascript": [
       "\n",
       "        $('span:contains(\"# Temp\")').closest('.cell').remove();\n",
       "        var code = IPython.notebook.insert_cell_below('code');\n",
       "        code.set_text(atob(\"IyBUZW1wCmluc2VydCgnJycKbWFjaGFkbzIwMTZhID0gREIoV29ya1VucmVsYXRlZCgKICAgIDIwMTYsICJBbmRy6SBMZWl0ZSBGZXJyZWlyYSIsCiAgICBkaXNwbGF5PSJtYWNoYWRvIiwKICAgIGF1dGhvcnM9Ik1hY2hhZG8sIERvdXRvciBSaWNhcmRvIEogYW5kIFBhdWxrLCBEb3V0b3IgTWFyayBDIiwKICAgIHBsYWNlPUZBS0UsCiAgICBlbnRyeXR5cGU9ImFydGljbGUiLAogICAgSUQ9Im1hY2hhZG8yMDE2YW5kcmUiLAogICAgcGxhY2V4PSIiLAopKQoKREIoQ2l0YXRpb24oCiAgICBtYWNoYWRvMjAxNmEsIGJhc2lsaTIwMTBhLCByZWY9IiIsCiAgICBjb250ZXh0cz1bCgogICAgXSwKKSkKCicnJywgY2l0YXRpb25zPSdiYXNpbGkyMDEwYScpOw==\"));\n",
       "    "
      ],
      "text/plain": [
       "<IPython.core.display.Javascript object>"
      ]
     },
     "metadata": {},
     "output_type": "display_data"
    },
    {
     "data": {
      "application/javascript": [
       "$('span:contains(\"# Temp\")').closest('.cell').remove();"
      ],
      "text/plain": [
       "<IPython.core.display.Javascript object>"
      ]
     },
     "metadata": {},
     "output_type": "display_data"
    },
    {
     "data": {
      "application/javascript": [
       "\n",
       "        $('span:contains(\"# Temp\")').closest('.cell').remove();\n",
       "        var code = IPython.notebook.insert_cell_below('code');\n",
       "        code.set_text(atob(\"IyBUZW1wCmluc2VydCgnJycKbWFjaGFkbzIwMTZhID0gREIoV29ya1VucmVsYXRlZCgKICAgIDIwMTYsICJBbmRy6SBMZWl0ZSBGZXJyZWlyYSIsCiAgICBkaXNwbGF5PSJtYWNoYWRvIiwKICAgIGF1dGhvcnM9Ik1hY2hhZG8sIERvdXRvciBSaWNhcmRvIEogYW5kIFBhdWxrLCBEb3V0b3IgTWFyayBDIiwKICAgIHBsYWNlPUZBS0UsCiAgICBlbnRyeXR5cGU9ImFydGljbGUiLAogICAgSUQ9Im1hY2hhZG8yMDE2YW5kcmUiLAogICAgcGxhY2V4PSIiLAopKQoKREIoQ2l0YXRpb24oCiAgICBtYWNoYWRvMjAxNmEsIGJhc2lsaTIwMTBhLCByZWY9IiIsCiAgICBjb250ZXh0cz1bCgogICAgXSwKKSkKCicnJywgY2l0YXRpb25zPSdiYXNpbGkyMDEwYScpOw==\"));\n",
       "    "
      ],
      "text/plain": [
       "<IPython.core.display.Javascript object>"
      ]
     },
     "metadata": {},
     "output_type": "display_data"
    },
    {
     "data": {
      "application/javascript": [
       "$('span:contains(\"# Temp\")').closest('.cell').remove();"
      ],
      "text/plain": [
       "<IPython.core.display.Javascript object>"
      ]
     },
     "metadata": {},
     "output_type": "display_data"
    },
    {
     "data": {
      "application/javascript": [
       "\n",
       "        $('span:contains(\"# Temp\")').closest('.cell').remove();\n",
       "        var code = IPython.notebook.insert_cell_below('code');\n",
       "        code.set_text(atob(\"IyBUZW1wCmluc2VydCgnJycKaGVpZHJpY2gwYSA9IERCKFdvcmtVbnJlbGF0ZWQoCiAgICAwLCAiNCBFdmlkZW5jZS1iYXNlZCBRdWFsaXR5IE1hbmFnZW1lbnQgb2YgU29mdHdhcmUgRGUtdmVsb3BtZW50IFByb2plY3RzIiwKICAgIGRpc3BsYXk9ImhlaWRyaWNoIiwKICAgIGF1dGhvcnM9IkhlaWRyaWNoLCBKZW5zIGFuZCBSb21iYWNoLCBEaWV0ZXIgYW5kIEts5HMsIE1pY2hhZWwiLAogICAgcGxhY2U9RkFLRSwKICAgIGVudHJ5dHlwZT0iYXJ0aWNsZSIsCiAgICBJRD0iaGVpZHJpY2g0IiwKICAgIHBsYWNleD0iIiwKKSkKCkRCKENpdGF0aW9uKAogICAgaGVpZHJpY2gwYSwgYmFzaWxpMjAxMGEsIHJlZj0iIiwKICAgIGNvbnRleHRzPVsKCiAgICBdLAopKQoKJycnLCBjaXRhdGlvbnM9J2Jhc2lsaTIwMTBhJyk7\"));\n",
       "    "
      ],
      "text/plain": [
       "<IPython.core.display.Javascript object>"
      ]
     },
     "metadata": {},
     "output_type": "display_data"
    },
    {
     "data": {
      "application/javascript": [
       "$('span:contains(\"# Temp\")').closest('.cell').remove();"
      ],
      "text/plain": [
       "<IPython.core.display.Javascript object>"
      ]
     },
     "metadata": {},
     "output_type": "display_data"
    },
    {
     "data": {
      "application/javascript": [
       "\n",
       "        $('span:contains(\"# Temp\")').closest('.cell').remove();\n",
       "        var code = IPython.notebook.insert_cell_below('code');\n",
       "        code.set_text(atob(\"IyBUZW1wCmluc2VydCgnJycKaGVpZHJpY2gwYSA9IERCKFdvcmtVbnJlbGF0ZWQoCiAgICAwLCAiNCBFdmlkZW5jZS1iYXNlZCBRdWFsaXR5IE1hbmFnZW1lbnQgb2YgU29mdHdhcmUgRGUtdmVsb3BtZW50IFByb2plY3RzIiwKICAgIGRpc3BsYXk9ImhlaWRyaWNoIiwKICAgIGF1dGhvcnM9IkhlaWRyaWNoLCBKZW5zIGFuZCBSb21iYWNoLCBEaWV0ZXIgYW5kIEts5HMsIE1pY2hhZWwiLAogICAgcGxhY2U9RkFLRSwKICAgIGVudHJ5dHlwZT0iYXJ0aWNsZSIsCiAgICBJRD0iaGVpZHJpY2g0IiwKICAgIHBsYWNleD0iIiwKKSkKCkRCKENpdGF0aW9uKAogICAgaGVpZHJpY2gwYSwgYmFzaWxpMjAxMGEsIHJlZj0iIiwKICAgIGNvbnRleHRzPVsKCiAgICBdLAopKQoKJycnLCBjaXRhdGlvbnM9J2Jhc2lsaTIwMTBhJyk7\"));\n",
       "    "
      ],
      "text/plain": [
       "<IPython.core.display.Javascript object>"
      ]
     },
     "metadata": {},
     "output_type": "display_data"
    },
    {
     "data": {
      "application/javascript": [
       "$('span:contains(\"# Temp\")').closest('.cell').remove();"
      ],
      "text/plain": [
       "<IPython.core.display.Javascript object>"
      ]
     },
     "metadata": {},
     "output_type": "display_data"
    },
    {
     "data": {
      "application/javascript": [
       "\n",
       "        $('span:contains(\"# Temp\")').closest('.cell').remove();\n",
       "        var code = IPython.notebook.insert_cell_below('code');\n",
       "        code.set_text(atob(\"IyBUZW1wCmluc2VydCgnJycKemFwYXRhMjAxN2EgPSBEQihXb3JrVW5yZWxhdGVkKAogICAgMjAxNywgIlByZS1jb25jZXB0dWFsLXNjaGVtYS1iYXNlZCBwYXR0ZXJucyBmb3IgZGVyaXZpbmcga2V5IHBlcmZvcm1hbmNlIGluZGljYXRvcnMgZnJvbSBzdHJhdGVnaWMgb2JqZWN0aXZlcyIsCiAgICBkaXNwbGF5PSJ6YXBhdGEiLAogICAgYXV0aG9ycz0iWmFwYXRhLUphcmFtaWxsbywgQ00gYW5kIENhc3Ryby1Sb2phcywgTEYiLAogICAgcGxhY2U9RkFLRSwKICAgIHBwPSIxMjAtLTEyOCIsCiAgICBlbnRyeXR5cGU9ImFydGljbGUiLAogICAgdm9sdW1lPSIzNyIsCiAgICBudW1iZXI9IjIiLAogICAgcHVibGlzaGVyPSJGYWN1bHRhZCBkZSBJbmdlbmllcu1hLCBVbml2ZXJzaWRhZCBOYWNpb25hbCBkZSBDb2xvbWJpYS4iLAogICAgSUQ9InphcGF0YTIwMTdwcmUiLAogICAgcGxhY2V4PSJJbmdlbmllcu1hIGUgSW52ZXN0aWdhY2nzbiIsCikpCgpEQihDaXRhdGlvbigKICAgIHphcGF0YTIwMTdhLCBiYXNpbGkyMDEwYSwgcmVmPSIiLAogICAgY29udGV4dHM9WwoKICAgIF0sCikpCgonJycsIGNpdGF0aW9ucz0nYmFzaWxpMjAxMGEnKTs=\"));\n",
       "    "
      ],
      "text/plain": [
       "<IPython.core.display.Javascript object>"
      ]
     },
     "metadata": {},
     "output_type": "display_data"
    },
    {
     "data": {
      "application/javascript": [
       "$('span:contains(\"# Temp\")').closest('.cell').remove();"
      ],
      "text/plain": [
       "<IPython.core.display.Javascript object>"
      ]
     },
     "metadata": {},
     "output_type": "display_data"
    },
    {
     "data": {
      "application/javascript": [
       "\n",
       "        $('span:contains(\"# Temp\")').closest('.cell').remove();\n",
       "        var code = IPython.notebook.insert_cell_below('code');\n",
       "        code.set_text(atob(\"IyBUZW1wCmluc2VydCgnJycKemFwYXRhMjAxN2EgPSBEQihXb3JrVW5yZWxhdGVkKAogICAgMjAxNywgIlByZS1jb25jZXB0dWFsLXNjaGVtYS1iYXNlZCBwYXR0ZXJucyBmb3IgZGVyaXZpbmcga2V5IHBlcmZvcm1hbmNlIGluZGljYXRvcnMgZnJvbSBzdHJhdGVnaWMgb2JqZWN0aXZlcyIsCiAgICBkaXNwbGF5PSJ6YXBhdGEiLAogICAgYXV0aG9ycz0iWmFwYXRhLUphcmFtaWxsbywgQ00gYW5kIENhc3Ryby1Sb2phcywgTEYiLAogICAgcGxhY2U9RkFLRSwKICAgIHBwPSIxMjAtLTEyOCIsCiAgICBlbnRyeXR5cGU9ImFydGljbGUiLAogICAgdm9sdW1lPSIzNyIsCiAgICBudW1iZXI9IjIiLAogICAgcHVibGlzaGVyPSJGYWN1bHRhZCBkZSBJbmdlbmllcu1hLCBVbml2ZXJzaWRhZCBOYWNpb25hbCBkZSBDb2xvbWJpYS4iLAogICAgSUQ9InphcGF0YTIwMTdwcmUiLAogICAgcGxhY2V4PSJJbmdlbmllcu1hIGUgSW52ZXN0aWdhY2nzbiIsCikpCgpEQihDaXRhdGlvbigKICAgIHphcGF0YTIwMTdhLCBiYXNpbGkyMDEwYSwgcmVmPSIiLAogICAgY29udGV4dHM9WwoKICAgIF0sCikpCgonJycsIGNpdGF0aW9ucz0nYmFzaWxpMjAxMGEnKTs=\"));\n",
       "    "
      ],
      "text/plain": [
       "<IPython.core.display.Javascript object>"
      ]
     },
     "metadata": {},
     "output_type": "display_data"
    },
    {
     "data": {
      "application/javascript": [
       "$('span:contains(\"# Temp\")').closest('.cell').remove();"
      ],
      "text/plain": [
       "<IPython.core.display.Javascript object>"
      ]
     },
     "metadata": {},
     "output_type": "display_data"
    },
    {
     "data": {
      "application/javascript": [
       "\n",
       "        $('span:contains(\"# Temp\")').closest('.cell').remove();\n",
       "        var code = IPython.notebook.insert_cell_below('code');\n",
       "        code.set_text(atob(\"IyBUZW1wCmluc2VydCgnJycKREIoQ2l0YXRpb24oCiAgICBtdWdoYWwyMDE3YSwgYmFzaWxpMjAxMGEsIHJlZj0iIiwKICAgIGNvbnRleHRzPVsKCiAgICBdLAopKQoKJycnLCBjaXRhdGlvbnM9J2Jhc2lsaTIwMTBhJyk7CnNldF9hdHRyaWJ1dGUoJ211Z2hhbDIwMTdhJywgJ2V4Y2VycHQnLCAnVGhlIGVjb25vbWllcyBvZiBudW1lcm91cyBuYXRpb25zLCBpbmNsdWRpbmcgTmV3IFplYWxhbmQsIHJlbHkgaGVhdmlseSBvbiB0aGUgY29udHJpYnV0aW9ucyBvZiBzbWFsbCBhbmQgbWVkaXVtIGVudGVycHJpc2VzIChTTUVzKS4gSW4gdGhlIGxhc3QgZGVjYWRlIGEgc2hpZnQgdG8gdGhlIHByb3Zpc2lvbiBhbmQgdXNlIG9mIHNvZnR3YXJlIHNlcnZpY2VzLCByYXRoZXIgdGhhbiBwcm9kdWN0cywgaGFzIHNlZW4gdGhlc2Ugb2ZmZXJpbmdzICcpOw==\"));\n",
       "    "
      ],
      "text/plain": [
       "<IPython.core.display.Javascript object>"
      ]
     },
     "metadata": {},
     "output_type": "display_data"
    },
    {
     "data": {
      "application/javascript": [
       "$('span:contains(\"# Temp\")').closest('.cell').remove();"
      ],
      "text/plain": [
       "<IPython.core.display.Javascript object>"
      ]
     },
     "metadata": {},
     "output_type": "display_data"
    },
    {
     "data": {
      "application/javascript": [
       "\n",
       "        $('span:contains(\"# Temp\")').closest('.cell').remove();\n",
       "        var code = IPython.notebook.insert_cell_below('code');\n",
       "        code.set_text(atob(\"IyBUZW1wCmluc2VydCgnJycKREIoQ2l0YXRpb24oCiAgICBtdWdoYWwyMDE3YSwgYmFzaWxpMjAxMGEsIHJlZj0iIiwKICAgIGNvbnRleHRzPVsKCiAgICBdLAopKQoKJycnLCBjaXRhdGlvbnM9J2Jhc2lsaTIwMTBhJyk7CnNldF9hdHRyaWJ1dGUoJ211Z2hhbDIwMTdhJywgJ2V4Y2VycHQnLCAnVGhlIGVjb25vbWllcyBvZiBudW1lcm91cyBuYXRpb25zLCBpbmNsdWRpbmcgTmV3IFplYWxhbmQsIHJlbHkgaGVhdmlseSBvbiB0aGUgY29udHJpYnV0aW9ucyBvZiBzbWFsbCBhbmQgbWVkaXVtIGVudGVycHJpc2VzIChTTUVzKS4gSW4gdGhlIGxhc3QgZGVjYWRlIGEgc2hpZnQgdG8gdGhlIHByb3Zpc2lvbiBhbmQgdXNlIG9mIHNvZnR3YXJlIHNlcnZpY2VzLCByYXRoZXIgdGhhbiBwcm9kdWN0cywgaGFzIHNlZW4gdGhlc2Ugb2ZmZXJpbmdzICcpOw==\"));\n",
       "    "
      ],
      "text/plain": [
       "<IPython.core.display.Javascript object>"
      ]
     },
     "metadata": {},
     "output_type": "display_data"
    },
    {
     "data": {
      "application/javascript": [
       "$('span:contains(\"# Temp\")').closest('.cell').remove();"
      ],
      "text/plain": [
       "<IPython.core.display.Javascript object>"
      ]
     },
     "metadata": {},
     "output_type": "display_data"
    },
    {
     "data": {
      "application/javascript": [
       "\n",
       "        $('span:contains(\"# Temp\")').closest('.cell').remove();\n",
       "        var code = IPython.notebook.insert_cell_below('code');\n",
       "        code.set_text(atob(\"IyBUZW1wCmluc2VydCgnJycKbGF2YXp6YTIwMTViID0gREIoV29ya1VucmVsYXRlZCgKICAgIDIwMTUsICJHUU0tQmFzZWQgRGVmaW5pdGlvbiBhbmQgRXZhbHVhdGlvbiBvZiBTb2Z0d2FyZSBQcm9qZWN0IFN1Y2Nlc3MgSW5kaWNhdG9ycyIsCiAgICBkaXNwbGF5PSJsYXZhenphIGIiLAogICAgYXV0aG9ycz0iTGF2YXp6YSwgTHVpZ2kgYW5kIEZydW1lbnRvLCBFbnJpY28gYW5kIE1henphLCBSaWNjYXJkbyIsCiAgICBwbGFjZT1JQ1NFLAogICAgcHA9IjIyOC0tMjQ5IiwKICAgIGVudHJ5dHlwZT0iaW5wcm9jZWVkaW5ncyIsCiAgICBvcmdhbml6YXRpb249IlNwcmluZ2VyIiwKICAgIElEPSJsYXZhenphMjAxNWdxbSIsCiAgICBwbGFjZXg9IkludGVybmF0aW9uYWwgQ29uZmVyZW5jZSBvbiBTb2Z0d2FyZSBUZWNobm9sb2dpZXMiLAopKQoKREIoQ2l0YXRpb24oCiAgICBsYXZhenphMjAxNWIsIGJhc2lsaTIwMTBhLCByZWY9IiIsCiAgICBjb250ZXh0cz1bCgogICAgXSwKKSkKCicnJywgY2l0YXRpb25zPSdiYXNpbGkyMDEwYScpOw==\"));\n",
       "    "
      ],
      "text/plain": [
       "<IPython.core.display.Javascript object>"
      ]
     },
     "metadata": {},
     "output_type": "display_data"
    },
    {
     "data": {
      "application/javascript": [
       "$('span:contains(\"# Temp\")').closest('.cell').remove();"
      ],
      "text/plain": [
       "<IPython.core.display.Javascript object>"
      ]
     },
     "metadata": {},
     "output_type": "display_data"
    },
    {
     "data": {
      "application/javascript": [
       "\n",
       "        $('span:contains(\"# Temp\")').closest('.cell').remove();\n",
       "        var code = IPython.notebook.insert_cell_below('code');\n",
       "        code.set_text(atob(\"IyBUZW1wCmluc2VydCgnJycKbGF2YXp6YTIwMTViID0gREIoV29ya1VucmVsYXRlZCgKICAgIDIwMTUsICJHUU0tQmFzZWQgRGVmaW5pdGlvbiBhbmQgRXZhbHVhdGlvbiBvZiBTb2Z0d2FyZSBQcm9qZWN0IFN1Y2Nlc3MgSW5kaWNhdG9ycyIsCiAgICBkaXNwbGF5PSJsYXZhenphIGIiLAogICAgYXV0aG9ycz0iTGF2YXp6YSwgTHVpZ2kgYW5kIEZydW1lbnRvLCBFbnJpY28gYW5kIE1henphLCBSaWNjYXJkbyIsCiAgICBwbGFjZT1JQ1NFLAogICAgcHA9IjIyOC0tMjQ5IiwKICAgIGVudHJ5dHlwZT0iaW5wcm9jZWVkaW5ncyIsCiAgICBvcmdhbml6YXRpb249IlNwcmluZ2VyIiwKICAgIElEPSJsYXZhenphMjAxNWdxbSIsCiAgICBwbGFjZXg9IkludGVybmF0aW9uYWwgQ29uZmVyZW5jZSBvbiBTb2Z0d2FyZSBUZWNobm9sb2dpZXMiLAopKQoKREIoQ2l0YXRpb24oCiAgICBsYXZhenphMjAxNWIsIGJhc2lsaTIwMTBhLCByZWY9IiIsCiAgICBjb250ZXh0cz1bCgogICAgXSwKKSkKCicnJywgY2l0YXRpb25zPSdiYXNpbGkyMDEwYScpOw==\"));\n",
       "    "
      ],
      "text/plain": [
       "<IPython.core.display.Javascript object>"
      ]
     },
     "metadata": {},
     "output_type": "display_data"
    },
    {
     "data": {
      "application/javascript": [
       "$('span:contains(\"# Temp\")').closest('.cell').remove();"
      ],
      "text/plain": [
       "<IPython.core.display.Javascript object>"
      ]
     },
     "metadata": {},
     "output_type": "display_data"
    },
    {
     "data": {
      "application/javascript": [
       "$('span:contains(\"# Temp\")').closest('.cell').remove();"
      ],
      "text/plain": [
       "<IPython.core.display.Javascript object>"
      ]
     },
     "metadata": {},
     "output_type": "display_data"
    },
    {
     "data": {
      "application/javascript": [
       "$('span:contains(\"# Temp\")').closest('.cell').remove();"
      ],
      "text/plain": [
       "<IPython.core.display.Javascript object>"
      ]
     },
     "metadata": {},
     "output_type": "display_data"
    }
   ],
   "source": [
    "manager"
   ]
  },
  {
   "cell_type": "code",
   "execution_count": null,
   "metadata": {
    "collapsed": true
   },
   "outputs": [],
   "source": []
  },
  {
   "cell_type": "code",
   "execution_count": null,
   "metadata": {
    "collapsed": true
   },
   "outputs": [],
   "source": []
  }
 ],
 "metadata": {
  "kernelspec": {
   "display_name": "Python 3",
   "language": "python",
   "name": "python3"
  },
  "language_info": {
   "codemirror_mode": {
    "name": "ipython",
    "version": 3
   },
   "file_extension": ".py",
   "mimetype": "text/x-python",
   "name": "python",
   "nbconvert_exporter": "python",
   "pygments_lexer": "ipython3",
   "version": "3.6.0"
  },
  "toc": {
   "nav_menu": {
    "height": "12px",
    "width": "252px"
   },
   "number_sections": true,
   "sideBar": true,
   "skip_h1_title": false,
   "toc_cell": false,
   "toc_position": {},
   "toc_section_display": "block",
   "toc_window_display": false
  }
 },
 "nbformat": 4,
 "nbformat_minor": 1
}
