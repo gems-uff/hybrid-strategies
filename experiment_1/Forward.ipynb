{
 "cells": [
  {
   "cell_type": "code",
   "execution_count": 9,
   "metadata": {
    "collapsed": true
   },
   "outputs": [],
   "source": [
    "import database\n",
    "from snowballing.operations import load_work, reload, work_by_varname\n",
    "from snowballing.selenium_scholar import SeleniumScholarQuerier\n",
    "from snowballing.snowballing import ForwardSnowballing\n",
    "from snowballing.dbmanager import insert, set_attribute\n",
    "from custom_snowballing import UnrelatedForward"
   ]
  },
  {
   "cell_type": "code",
   "execution_count": 10,
   "metadata": {
    "collapsed": true
   },
   "outputs": [],
   "source": [
    "querier = SeleniumScholarQuerier()"
   ]
  },
  {
   "cell_type": "code",
   "execution_count": 11,
   "metadata": {
    "scrolled": true
   },
   "outputs": [],
   "source": [
    "querier.apply_settings(20, 4);"
   ]
  },
  {
   "cell_type": "code",
   "execution_count": 54,
   "metadata": {},
   "outputs": [],
   "source": [
    "#manager = ForwardSnowballing(querier, \"mendes2004a\", start=60)\n",
    "import importlib\n",
    "import custom_snowballing\n",
    "importlib.reload(custom_snowballing)\n",
    "from custom_snowballing import UnrelatedForward\n",
    "manager = UnrelatedForward(querier, \"messnarz1999a\", start=0)"
   ]
  },
  {
   "cell_type": "code",
   "execution_count": null,
   "metadata": {
    "collapsed": true
   },
   "outputs": [],
   "source": []
  },
  {
   "cell_type": "code",
   "execution_count": null,
   "metadata": {
    "collapsed": true
   },
   "outputs": [],
   "source": []
  },
  {
   "cell_type": "code",
   "execution_count": null,
   "metadata": {
    "collapsed": true
   },
   "outputs": [],
   "source": [
    "#from snowballing.operations import reload\n",
    "#reload()\n",
    "#from snowballing.dbmanager import rename_work"
   ]
  },
  {
   "cell_type": "code",
   "execution_count": null,
   "metadata": {
    "collapsed": true
   },
   "outputs": [],
   "source": [
    "#rename_work(\"eljabiri0a\", \"eljabiri2012a\")"
   ]
  },
  {
   "cell_type": "code",
   "execution_count": null,
   "metadata": {
    "collapsed": true
   },
   "outputs": [],
   "source": [
    "#rename_work?"
   ]
  },
  {
   "cell_type": "code",
   "execution_count": null,
   "metadata": {
    "collapsed": true
   },
   "outputs": [],
   "source": [
    "#á"
   ]
  },
  {
   "cell_type": "code",
   "execution_count": null,
   "metadata": {
    "collapsed": true
   },
   "outputs": [],
   "source": []
  },
  {
   "cell_type": "code",
   "execution_count": null,
   "metadata": {
    "collapsed": true
   },
   "outputs": [],
   "source": []
  },
  {
   "cell_type": "code",
   "execution_count": 55,
   "metadata": {
    "scrolled": false
   },
   "outputs": [
    {
     "data": {
      "application/vnd.jupyter.widget-view+json": {
       "model_id": "665bf6e1025043d6a90832569403d611",
       "version_major": 2,
       "version_minor": 0
      },
      "text/html": [
       "<p>Failed to display Jupyter Widget of type <code>Tab</code>.</p>\n",
       "<p>\n",
       "  If you're reading this message in Jupyter Notebook or JupyterLab, it may mean\n",
       "  that the widgets JavaScript is still loading. If this message persists, it\n",
       "  likely means that the widgets JavaScript library is either not installed or\n",
       "  not enabled. See the <a href=\"https://ipywidgets.readthedocs.io/en/stable/user_install.html\">Jupyter\n",
       "  Widgets Documentation</a> for setup instructions.\n",
       "</p>\n",
       "<p>\n",
       "  If you're reading this message in another notebook frontend (for example, a static\n",
       "  rendering on GitHub or <a href=\"https://nbviewer.jupyter.org/\">NBViewer</a>),\n",
       "  it may mean that your frontend doesn't currently support widgets.\n",
       "</p>\n"
      ],
      "text/plain": [
       "Tab(children=(VBox(children=(HBox(children=(Button(description='Previous Page', disabled=True, icon='arrow-left', style=ButtonStyle()), Button(description='Reload', icon='refresh', style=ButtonStyle()), Button(description='Next Page', icon='arrow-right', style=ButtonStyle()), ToggleButton(value=False, description='Debug'), Label(value='0'))), Output())), VBox(children=(HBox(children=(Button(description='Previous Article', disabled=True, icon='caret-left', style=ButtonStyle()), Button(description='Reload Article', icon='refresh', style=ButtonStyle()), Button(description='Next Article', icon='caret-right', style=ButtonStyle()))), HBox(children=(Button(description='Unrelated: Scripts', style=ButtonStyle()), Button(description='Unrelated: Provenance', style=ButtonStyle()), Button(description='Both', style=ButtonStyle()), Button(description='Ok', style=ButtonStyle()))), HBox(children=(Dropdown(description='Type', index=3, options=('Work', 'WorkSnowball', 'WorkOk', 'WorkUnrelated', 'WorkNoFile', 'WorkLang', 'Site', 'Email'), value='WorkUnrelated'), ToggleButton(value=False, description='File'))), HBox(children=(Text(value='', description='Due'), Text(value='', description='Place'))), HBox(children=(Text(value='', description='Year'), Text(value='', description='Prefix Var'))), HBox(children=(Text(value='', description='PDFPage'), Text(value='', description='Related'))), HBox(children=(Text(value='', description='Display'), Text(value='', description='Summary'))), HBox(children=(Text(value='', description='Star'), Text(value='', description='Link'))), HBox(children=(Button(description='Reload Article', icon='refresh', style=ButtonStyle()), IntSlider(value=0, max=19), Label(value='1/20'))), Output()))), _titles={'0': 'Page', '1': 'Article'})"
      ]
     },
     "metadata": {},
     "output_type": "display_data"
    },
    {
     "data": {
      "application/javascript": [
       "$('span:contains(\"# Temp\")').closest('.cell').remove();"
      ],
      "text/plain": [
       "<IPython.core.display.Javascript object>"
      ]
     },
     "metadata": {},
     "output_type": "display_data"
    },
    {
     "data": {
      "application/javascript": [
       "\n",
       "        $('span:contains(\"# Temp\")').closest('.cell').remove();\n",
       "        var code = IPython.notebook.insert_cell_below('code');\n",
       "        code.set_text(atob(\"IyBUZW1wCmluc2VydCgnJycKbmlhemkyMDA1YSA9IERCKFdvcmtVbnJlbGF0ZWQoCiAgICAyMDA1LCAiQSBtYXR1cml0eSBtb2RlbCBmb3IgdGhlIGltcGxlbWVudGF0aW9uIG9mIHNvZnR3YXJlIHByb2Nlc3MgaW1wcm92ZW1lbnQ6IGFuIGVtcGlyaWNhbCBzdHVkeSIsCiAgICBkaXNwbGF5PSJuaWF6aSIsCiAgICBhdXRob3JzPSJOaWF6aSwgTWFobW9vZCBhbmQgV2lsc29uLCBEYXZpZCBhbmQgWm93Z2hpLCBEaWRhciIsCiAgICBwbGFjZT1KU1MsCiAgICBwcD0iMTU1LS0xNzIiLAogICAgZW50cnl0eXBlPSJhcnRpY2xlIiwKICAgIHZvbHVtZT0iNzQiLAogICAgbnVtYmVyPSIyIiwKICAgIHB1Ymxpc2hlcj0iRWxzZXZpZXIiLAogICAgSUQ9Im5pYXppMjAwNW1hdHVyaXR5IiwKICAgIGNsdXN0ZXJfaWQ9IjMxODQzNTUzOTQ2MDcwODI1ODkiLAogICAgc2Nob2xhcj0iaHR0cDovL3NjaG9sYXIuZ29vZ2xlLmNvbS9zY2hvbGFyP2NpdGVzPTMxODQzNTUzOTQ2MDcwODI1ODkmYXNfc2R0PTIwMDUmc2Npb2R0PTAsNSZobD1lbiIsCiAgICBwbGFjZXg9IkpvdXJuYWwgb2Ygc3lzdGVtcyBhbmQgc29mdHdhcmUiLAopKQoKREIoQ2l0YXRpb24oCiAgICBuaWF6aTIwMDVhLCBtZXNzbmFyejE5OTlhLCByZWY9IiIsCiAgICBjb250ZXh0cz1bCgogICAgXSwKKSkKCicnJywgY2l0YXRpb25zPSdtZXNzbmFyejE5OTlhJyk7\"));\n",
       "    "
      ],
      "text/plain": [
       "<IPython.core.display.Javascript object>"
      ]
     },
     "metadata": {},
     "output_type": "display_data"
    },
    {
     "data": {
      "application/javascript": [
       "$('span:contains(\"# Temp\")').closest('.cell').remove();"
      ],
      "text/plain": [
       "<IPython.core.display.Javascript object>"
      ]
     },
     "metadata": {},
     "output_type": "display_data"
    },
    {
     "data": {
      "application/javascript": [
       "\n",
       "        $('span:contains(\"# Temp\")').closest('.cell').remove();\n",
       "        var code = IPython.notebook.insert_cell_below('code');\n",
       "        code.set_text(atob(\"IyBUZW1wCmluc2VydCgnJycKREIoQ2l0YXRpb24oCiAgICBkeWJhMjAwNWEsIG1lc3NuYXJ6MTk5OWEsIHJlZj0iIiwKICAgIGNvbnRleHRzPVsKCiAgICBdLAopKQoKJycnLCBjaXRhdGlvbnM9J21lc3NuYXJ6MTk5OWEnKTsKc2V0X2F0dHJpYnV0ZSgnZHliYTIwMDVhJywgJ2V4Y2VycHQnLCAnVW5kZXJzdGFuZGluZyBob3cgdG8gaW1wbGVtZW50IHNvZnR3YXJlIHByb2Nlc3MgaW1wcm92ZW1lbnQgKFNQSSkgc3VjY2Vzc2Z1bGx5IGlzIGFyZ3VhYmx5IHRoZSBtb3N0IGNoYWxsZW5naW5nIGlzc3VlIGZhY2luZyB0aGUgU1BJIGZpZWxkIHRvZGF5LiBUaGUgU1BJIGxpdGVyYXR1cmUgY29udGFpbnMgbWFueSBjYXNlIHN0dWRpZXMgb2Ygc3VjY2Vzc2Z1bCBjb21wYW5pZXMgYW5kIGRlc2NyaXB0aW9ucyBvZiB0aGVpciBTUEkgcHJvZ3JhbXOghScpOwpzZXRfYXR0cmlidXRlKCdkeWJhMjAwNWEnLCAnY2x1c3Rlcl9pZCcsICc1ODI1MzU4MzUyMDI2NzA3OTUzJyk7\"));\n",
       "    "
      ],
      "text/plain": [
       "<IPython.core.display.Javascript object>"
      ]
     },
     "metadata": {},
     "output_type": "display_data"
    },
    {
     "data": {
      "application/javascript": [
       "$('span:contains(\"# Temp\")').closest('.cell').remove();"
      ],
      "text/plain": [
       "<IPython.core.display.Javascript object>"
      ]
     },
     "metadata": {},
     "output_type": "display_data"
    },
    {
     "data": {
      "application/javascript": [
       "\n",
       "        $('span:contains(\"# Temp\")').closest('.cell').remove();\n",
       "        var code = IPython.notebook.insert_cell_below('code');\n",
       "        code.set_text(atob(\"IyBUZW1wCmluc2VydCgnJycKREIoQ2l0YXRpb24oCiAgICBkeWJhMjAwNWEsIG1lc3NuYXJ6MTk5OWEsIHJlZj0iIiwKICAgIGNvbnRleHRzPVsKCiAgICBdLAopKQoKJycnLCBjaXRhdGlvbnM9J21lc3NuYXJ6MTk5OWEnKTsKc2V0X2F0dHJpYnV0ZSgnZHliYTIwMDVhJywgJ2V4Y2VycHQnLCAnVW5kZXJzdGFuZGluZyBob3cgdG8gaW1wbGVtZW50IHNvZnR3YXJlIHByb2Nlc3MgaW1wcm92ZW1lbnQgKFNQSSkgc3VjY2Vzc2Z1bGx5IGlzIGFyZ3VhYmx5IHRoZSBtb3N0IGNoYWxsZW5naW5nIGlzc3VlIGZhY2luZyB0aGUgU1BJIGZpZWxkIHRvZGF5LiBUaGUgU1BJIGxpdGVyYXR1cmUgY29udGFpbnMgbWFueSBjYXNlIHN0dWRpZXMgb2Ygc3VjY2Vzc2Z1bCBjb21wYW5pZXMgYW5kIGRlc2NyaXB0aW9ucyBvZiB0aGVpciBTUEkgcHJvZ3JhbXOghScpOwpzZXRfYXR0cmlidXRlKCdkeWJhMjAwNWEnLCAnY2x1c3Rlcl9pZCcsICc1ODI1MzU4MzUyMDI2NzA3OTUzJyk7\"));\n",
       "    "
      ],
      "text/plain": [
       "<IPython.core.display.Javascript object>"
      ]
     },
     "metadata": {},
     "output_type": "display_data"
    },
    {
     "data": {
      "application/javascript": [
       "$('span:contains(\"# Temp\")').closest('.cell').remove();"
      ],
      "text/plain": [
       "<IPython.core.display.Javascript object>"
      ]
     },
     "metadata": {},
     "output_type": "display_data"
    },
    {
     "data": {
      "application/javascript": [
       "\n",
       "        $('span:contains(\"# Temp\")').closest('.cell').remove();\n",
       "        var code = IPython.notebook.insert_cell_below('code');\n",
       "        code.set_text(atob(\"IyBUZW1wCmluc2VydCgnJycKbmlhemkyMDA1YiA9IERCKFdvcmtVbnJlbGF0ZWQoCiAgICAyMDA1LCAiQSBmcmFtZXdvcmsgZm9yIGFzc2lzdGluZyB0aGUgZGVzaWduIG9mIGVmZmVjdGl2ZSBzb2Z0d2FyZSBwcm9jZXNzIGltcHJvdmVtZW50IGltcGxlbWVudGF0aW9uIHN0cmF0ZWdpZXMiLAogICAgZGlzcGxheT0ibmlhemkgYiIsCiAgICBhdXRob3JzPSJOaWF6aSwgTWFobW9vZCBhbmQgV2lsc29uLCBEYXZpZCBhbmQgWm93Z2hpLCBEaWRhciIsCiAgICBwbGFjZT1KU1MsCiAgICBwcD0iMjA0LS0yMjIiLAogICAgZW50cnl0eXBlPSJhcnRpY2xlIiwKICAgIHZvbHVtZT0iNzgiLAogICAgbnVtYmVyPSIyIiwKICAgIHB1Ymxpc2hlcj0iRWxzZXZpZXIiLAogICAgSUQ9Im5pYXppMjAwNWZyYW1ld29yayIsCiAgICBjbHVzdGVyX2lkPSIyMDYxMjEzNzEyNTUyMTg3NTEyIiwKICAgIHNjaG9sYXI9Imh0dHA6Ly9zY2hvbGFyLmdvb2dsZS5jb20vc2Nob2xhcj9jaXRlcz0yMDYxMjEzNzEyNTUyMTg3NTEyJmFzX3NkdD0yMDA1JnNjaW9kdD0wLDUmaGw9ZW4iLAogICAgcGxhY2V4PSJKb3VybmFsIG9mIFN5c3RlbXMgYW5kIFNvZnR3YXJlIiwKKSkKCkRCKENpdGF0aW9uKAogICAgbmlhemkyMDA1YiwgbWVzc25hcnoxOTk5YSwgcmVmPSIiLAogICAgY29udGV4dHM9WwoKICAgIF0sCikpCgonJycsIGNpdGF0aW9ucz0nbWVzc25hcnoxOTk5YScpOw==\"));\n",
       "    "
      ],
      "text/plain": [
       "<IPython.core.display.Javascript object>"
      ]
     },
     "metadata": {},
     "output_type": "display_data"
    },
    {
     "data": {
      "application/javascript": [
       "$('span:contains(\"# Temp\")').closest('.cell').remove();"
      ],
      "text/plain": [
       "<IPython.core.display.Javascript object>"
      ]
     },
     "metadata": {},
     "output_type": "display_data"
    },
    {
     "data": {
      "application/javascript": [
       "\n",
       "        $('span:contains(\"# Temp\")').closest('.cell').remove();\n",
       "        var code = IPython.notebook.insert_cell_below('code');\n",
       "        code.set_text(atob(\"IyBUZW1wCmluc2VydCgnJycKbmlhemkyMDA1YiA9IERCKFdvcmtVbnJlbGF0ZWQoCiAgICAyMDA1LCAiQSBmcmFtZXdvcmsgZm9yIGFzc2lzdGluZyB0aGUgZGVzaWduIG9mIGVmZmVjdGl2ZSBzb2Z0d2FyZSBwcm9jZXNzIGltcHJvdmVtZW50IGltcGxlbWVudGF0aW9uIHN0cmF0ZWdpZXMiLAogICAgZGlzcGxheT0ibmlhemkgYiIsCiAgICBhdXRob3JzPSJOaWF6aSwgTWFobW9vZCBhbmQgV2lsc29uLCBEYXZpZCBhbmQgWm93Z2hpLCBEaWRhciIsCiAgICBwbGFjZT1KU1MsCiAgICBwcD0iMjA0LS0yMjIiLAogICAgZW50cnl0eXBlPSJhcnRpY2xlIiwKICAgIHZvbHVtZT0iNzgiLAogICAgbnVtYmVyPSIyIiwKICAgIHB1Ymxpc2hlcj0iRWxzZXZpZXIiLAogICAgSUQ9Im5pYXppMjAwNWZyYW1ld29yayIsCiAgICBjbHVzdGVyX2lkPSIyMDYxMjEzNzEyNTUyMTg3NTEyIiwKICAgIHNjaG9sYXI9Imh0dHA6Ly9zY2hvbGFyLmdvb2dsZS5jb20vc2Nob2xhcj9jaXRlcz0yMDYxMjEzNzEyNTUyMTg3NTEyJmFzX3NkdD0yMDA1JnNjaW9kdD0wLDUmaGw9ZW4iLAogICAgcGxhY2V4PSJKb3VybmFsIG9mIFN5c3RlbXMgYW5kIFNvZnR3YXJlIiwKKSkKCkRCKENpdGF0aW9uKAogICAgbmlhemkyMDA1YiwgbWVzc25hcnoxOTk5YSwgcmVmPSIiLAogICAgY29udGV4dHM9WwoKICAgIF0sCikpCgonJycsIGNpdGF0aW9ucz0nbWVzc25hcnoxOTk5YScpOw==\"));\n",
       "    "
      ],
      "text/plain": [
       "<IPython.core.display.Javascript object>"
      ]
     },
     "metadata": {},
     "output_type": "display_data"
    },
    {
     "data": {
      "application/javascript": [
       "$('span:contains(\"# Temp\")').closest('.cell').remove();"
      ],
      "text/plain": [
       "<IPython.core.display.Javascript object>"
      ]
     },
     "metadata": {},
     "output_type": "display_data"
    },
    {
     "data": {
      "application/javascript": [
       "\n",
       "        $('span:contains(\"# Temp\")').closest('.cell').remove();\n",
       "        var code = IPython.notebook.insert_cell_below('code');\n",
       "        code.set_text(atob(\"IyBUZW1wCmluc2VydCgnJycKYWJyYWhhbXNzb24yMDAxYSA9IERCKFdvcmtVbnJlbGF0ZWQoCiAgICAyMDAxLCAiUmV0aGlua2luZyB0aGUgY29uY2VwdCBvZiBjb21taXRtZW50IGluIHNvZnR3YXJlIHByb2Nlc3MgaW1wcm92ZW1lbnQiLAogICAgZGlzcGxheT0iYWJyYWhhbXNzb24iLAogICAgYXV0aG9ycz0iQWJyYWhhbXNzb24sIFBla2thIiwKICAgIHBsYWNlPUZBS0UsCiAgICBwcD0iMSIsCiAgICBlbnRyeXR5cGU9ImFydGljbGUiLAogICAgdm9sdW1lPSIxMyIsCiAgICBudW1iZXI9IjEiLAogICAgSUQ9ImFicmFoYW1zc29uMjAwMXJldGhpbmtpbmciLAogICAgY2x1c3Rlcl9pZD0iMTg4MzI2NDgwNjExODU2NTk3NCIsCiAgICBzY2hvbGFyPSJodHRwOi8vc2Nob2xhci5nb29nbGUuY29tL3NjaG9sYXI/Y2l0ZXM9MTg4MzI2NDgwNjExODU2NTk3NCZhc19zZHQ9MjAwNSZzY2lvZHQ9MCw1JmhsPWVuIiwKICAgIHBsYWNleD0iU2NhbmRpbmF2aWFuIEpvdXJuYWwgb2YgSW5mb3JtYXRpb24gU3lzdGVtcyIsCikpCgpEQihDaXRhdGlvbigKICAgIGFicmFoYW1zc29uMjAwMWEsIG1lc3NuYXJ6MTk5OWEsIHJlZj0iIiwKICAgIGNvbnRleHRzPVsKCiAgICBdLAopKQoKJycnLCBjaXRhdGlvbnM9J21lc3NuYXJ6MTk5OWEnKTs=\"));\n",
       "    "
      ],
      "text/plain": [
       "<IPython.core.display.Javascript object>"
      ]
     },
     "metadata": {},
     "output_type": "display_data"
    },
    {
     "data": {
      "application/javascript": [
       "$('span:contains(\"# Temp\")').closest('.cell').remove();"
      ],
      "text/plain": [
       "<IPython.core.display.Javascript object>"
      ]
     },
     "metadata": {},
     "output_type": "display_data"
    },
    {
     "data": {
      "application/javascript": [
       "\n",
       "        $('span:contains(\"# Temp\")').closest('.cell').remove();\n",
       "        var code = IPython.notebook.insert_cell_below('code');\n",
       "        code.set_text(atob(\"IyBUZW1wCmluc2VydCgnJycKYWJyYWhhbXNzb24yMDAxYSA9IERCKFdvcmtVbnJlbGF0ZWQoCiAgICAyMDAxLCAiUmV0aGlua2luZyB0aGUgY29uY2VwdCBvZiBjb21taXRtZW50IGluIHNvZnR3YXJlIHByb2Nlc3MgaW1wcm92ZW1lbnQiLAogICAgZGlzcGxheT0iYWJyYWhhbXNzb24iLAogICAgYXV0aG9ycz0iQWJyYWhhbXNzb24sIFBla2thIiwKICAgIHBsYWNlPUZBS0UsCiAgICBwcD0iMSIsCiAgICBlbnRyeXR5cGU9ImFydGljbGUiLAogICAgdm9sdW1lPSIxMyIsCiAgICBudW1iZXI9IjEiLAogICAgSUQ9ImFicmFoYW1zc29uMjAwMXJldGhpbmtpbmciLAogICAgY2x1c3Rlcl9pZD0iMTg4MzI2NDgwNjExODU2NTk3NCIsCiAgICBzY2hvbGFyPSJodHRwOi8vc2Nob2xhci5nb29nbGUuY29tL3NjaG9sYXI/Y2l0ZXM9MTg4MzI2NDgwNjExODU2NTk3NCZhc19zZHQ9MjAwNSZzY2lvZHQ9MCw1JmhsPWVuIiwKICAgIHBsYWNleD0iU2NhbmRpbmF2aWFuIEpvdXJuYWwgb2YgSW5mb3JtYXRpb24gU3lzdGVtcyIsCikpCgpEQihDaXRhdGlvbigKICAgIGFicmFoYW1zc29uMjAwMWEsIG1lc3NuYXJ6MTk5OWEsIHJlZj0iIiwKICAgIGNvbnRleHRzPVsKCiAgICBdLAopKQoKJycnLCBjaXRhdGlvbnM9J21lc3NuYXJ6MTk5OWEnKTs=\"));\n",
       "    "
      ],
      "text/plain": [
       "<IPython.core.display.Javascript object>"
      ]
     },
     "metadata": {},
     "output_type": "display_data"
    },
    {
     "data": {
      "application/javascript": [
       "$('span:contains(\"# Temp\")').closest('.cell').remove();"
      ],
      "text/plain": [
       "<IPython.core.display.Javascript object>"
      ]
     },
     "metadata": {},
     "output_type": "display_data"
    },
    {
     "data": {
      "application/javascript": [
       "\n",
       "        $('span:contains(\"# Temp\")').closest('.cell').remove();\n",
       "        var code = IPython.notebook.insert_cell_below('code');\n",
       "        code.set_text(atob(\"IyBUZW1wCmluc2VydCgnJycKREIoQ2l0YXRpb24oCiAgICBrb21pMjAwNGEsIG1lc3NuYXJ6MTk5OWEsIHJlZj0iIiwKICAgIGNvbnRleHRzPVsKCiAgICBdLAopKQoKJycnLCBjaXRhdGlvbnM9J21lc3NuYXJ6MTk5OWEnKTsKc2V0X2F0dHJpYnV0ZSgna29taTIwMDRhJywgJ3B1Ymxpc2hlcicsICdWVFQnKTsKc2V0X2F0dHJpYnV0ZSgna29taTIwMDRhJywgJ2NsdXN0ZXJfaWQnLCAnODU1MTk4MTAwMTcwODU4NDUxNCcpOwpzZXRfYXR0cmlidXRlKCdrb21pMjAwNGEnLCAnc2Nob2xhcicsICdodHRwOi8vc2Nob2xhci5nb29nbGUuY29tL3NjaG9sYXI/Y2l0ZXM9ODU1MTk4MTAwMTcwODU4NDUxNCZhc19zZHQ9MjAwNSZzY2lvZHQ9MCw1JmhsPWVuJyk7\"));\n",
       "    "
      ],
      "text/plain": [
       "<IPython.core.display.Javascript object>"
      ]
     },
     "metadata": {},
     "output_type": "display_data"
    },
    {
     "data": {
      "application/javascript": [
       "$('span:contains(\"# Temp\")').closest('.cell').remove();"
      ],
      "text/plain": [
       "<IPython.core.display.Javascript object>"
      ]
     },
     "metadata": {},
     "output_type": "display_data"
    },
    {
     "data": {
      "application/javascript": [
       "\n",
       "        $('span:contains(\"# Temp\")').closest('.cell').remove();\n",
       "        var code = IPython.notebook.insert_cell_below('code');\n",
       "        code.set_text(atob(\"IyBUZW1wCmluc2VydCgnJycKREIoQ2l0YXRpb24oCiAgICBrb21pMjAwNGEsIG1lc3NuYXJ6MTk5OWEsIHJlZj0iIiwKICAgIGNvbnRleHRzPVsKCiAgICBdLAopKQoKJycnLCBjaXRhdGlvbnM9J21lc3NuYXJ6MTk5OWEnKTsKc2V0X2F0dHJpYnV0ZSgna29taTIwMDRhJywgJ3B1Ymxpc2hlcicsICdWVFQnKTsKc2V0X2F0dHJpYnV0ZSgna29taTIwMDRhJywgJ2NsdXN0ZXJfaWQnLCAnODU1MTk4MTAwMTcwODU4NDUxNCcpOwpzZXRfYXR0cmlidXRlKCdrb21pMjAwNGEnLCAnc2Nob2xhcicsICdodHRwOi8vc2Nob2xhci5nb29nbGUuY29tL3NjaG9sYXI/Y2l0ZXM9ODU1MTk4MTAwMTcwODU4NDUxNCZhc19zZHQ9MjAwNSZzY2lvZHQ9MCw1JmhsPWVuJyk7\"));\n",
       "    "
      ],
      "text/plain": [
       "<IPython.core.display.Javascript object>"
      ]
     },
     "metadata": {},
     "output_type": "display_data"
    },
    {
     "data": {
      "application/javascript": [
       "$('span:contains(\"# Temp\")').closest('.cell').remove();"
      ],
      "text/plain": [
       "<IPython.core.display.Javascript object>"
      ]
     },
     "metadata": {},
     "output_type": "display_data"
    },
    {
     "data": {
      "application/javascript": [
       "\n",
       "        $('span:contains(\"# Temp\")').closest('.cell').remove();\n",
       "        var code = IPython.notebook.insert_cell_below('code');\n",
       "        code.set_text(atob(\"IyBUZW1wCmluc2VydCgnJycKREIoQ2l0YXRpb24oCiAgICBiZWNrZXIyMDA4YiwgbWVzc25hcnoxOTk5YSwgcmVmPSIiLAogICAgY29udGV4dHM9WwoKICAgIF0sCikpCgonJycsIGNpdGF0aW9ucz0nbWVzc25hcnoxOTk5YScpOwpzZXRfYXR0cmlidXRlKCdiZWNrZXIyMDA4YicsICdleGNlcnB0JywgJ0Fic3RyYWN0IFNvZnR3YXJlIHByb2Nlc3MgaW1wcm92ZW1lbnQgcHJvZ3JhbXMgaW5jcmVhc2UgdGhlIGNvbXBldGl0aXZlbmVzcyBvZiBzb2Z0d2FyZSBkZXZlbG9wbWVudCBvcmdhbml6YXRpb25zLiBCdXQgYSBjcml0aWNhbCBzdWNjZXNzIGZhY3RvciBpbiB0aGlzIGNvbnRleHQgaXMgdGhlIHByb3BlciBhbGlnbm1lbnQgYmV0d2VlbiB0aGUgc3RyYXRlZ3kgb2Ygc3VjaCBwcm9ncmFtcyBhbmQgdGhlIG9yZ2FuaXphdGlvbidzIGJ1c2luZXNzIHN0cmF0ZWd5oIUnKTs=\"));\n",
       "    "
      ],
      "text/plain": [
       "<IPython.core.display.Javascript object>"
      ]
     },
     "metadata": {},
     "output_type": "display_data"
    },
    {
     "data": {
      "application/javascript": [
       "$('span:contains(\"# Temp\")').closest('.cell').remove();"
      ],
      "text/plain": [
       "<IPython.core.display.Javascript object>"
      ]
     },
     "metadata": {},
     "output_type": "display_data"
    },
    {
     "data": {
      "application/javascript": [
       "\n",
       "        $('span:contains(\"# Temp\")').closest('.cell').remove();\n",
       "        var code = IPython.notebook.insert_cell_below('code');\n",
       "        code.set_text(atob(\"IyBUZW1wCmluc2VydCgnJycKREIoQ2l0YXRpb24oCiAgICBiZWNrZXIyMDA4YiwgbWVzc25hcnoxOTk5YSwgcmVmPSIiLAogICAgY29udGV4dHM9WwoKICAgIF0sCikpCgonJycsIGNpdGF0aW9ucz0nbWVzc25hcnoxOTk5YScpOwpzZXRfYXR0cmlidXRlKCdiZWNrZXIyMDA4YicsICdleGNlcnB0JywgJ0Fic3RyYWN0IFNvZnR3YXJlIHByb2Nlc3MgaW1wcm92ZW1lbnQgcHJvZ3JhbXMgaW5jcmVhc2UgdGhlIGNvbXBldGl0aXZlbmVzcyBvZiBzb2Z0d2FyZSBkZXZlbG9wbWVudCBvcmdhbml6YXRpb25zLiBCdXQgYSBjcml0aWNhbCBzdWNjZXNzIGZhY3RvciBpbiB0aGlzIGNvbnRleHQgaXMgdGhlIHByb3BlciBhbGlnbm1lbnQgYmV0d2VlbiB0aGUgc3RyYXRlZ3kgb2Ygc3VjaCBwcm9ncmFtcyBhbmQgdGhlIG9yZ2FuaXphdGlvbidzIGJ1c2luZXNzIHN0cmF0ZWd5oIUnKTs=\"));\n",
       "    "
      ],
      "text/plain": [
       "<IPython.core.display.Javascript object>"
      ]
     },
     "metadata": {},
     "output_type": "display_data"
    },
    {
     "data": {
      "application/javascript": [
       "$('span:contains(\"# Temp\")').closest('.cell').remove();"
      ],
      "text/plain": [
       "<IPython.core.display.Javascript object>"
      ]
     },
     "metadata": {},
     "output_type": "display_data"
    },
    {
     "data": {
      "application/javascript": [
       "\n",
       "        $('span:contains(\"# Temp\")').closest('.cell').remove();\n",
       "        var code = IPython.notebook.insert_cell_below('code');\n",
       "        code.set_text(atob(\"IyBUZW1wCmluc2VydCgnJycKbWVzc25hcnoyMDEyYSA9IERCKFdvcmtVbnJlbGF0ZWQoCiAgICAyMDEyLCAiRXhwZXJpZW5jZXMgd2l0aCB0cmlhbCBhc3Nlc3NtZW50cyBjb21iaW5pbmcgYXV0b21vdGl2ZSBzcGljZSBhbmQgZnVuY3Rpb25hbCBzYWZldHkgc3RhbmRhcmRzIiwKICAgIGRpc3BsYXk9Im1lc3NuYXJ6IiwKICAgIGF1dGhvcnM9Ik1lc3NuYXJ6LCBSaWNoYXJkIGFuZCBL9m5pZywgRnJhbmsgYW5kIEJhY2htYW5uLCBWb2xrZXIgT3ZpIiwKICAgIHBsYWNlPUZBS0UsCiAgICBwcD0iMjY2LS0yNzUiLAogICAgZW50cnl0eXBlPSJpbnByb2NlZWRpbmdzIiwKICAgIG9yZ2FuaXphdGlvbj0iU3ByaW5nZXIiLAogICAgSUQ9Im1lc3NuYXJ6MjAxMmV4cGVyaWVuY2VzIiwKICAgIGNsdXN0ZXJfaWQ9IjQzMDU2NjYwNjc1NTE5MDg1NzEiLAogICAgc2Nob2xhcj0iaHR0cDovL3NjaG9sYXIuZ29vZ2xlLmNvbS9zY2hvbGFyP2NpdGVzPTQzMDU2NjYwNjc1NTE5MDg1NzEmYXNfc2R0PTIwMDUmc2Npb2R0PTAsNSZobD1lbiIsCiAgICBwbGFjZXg9IkV1cm9wZWFuIENvbmZlcmVuY2Ugb24gU29mdHdhcmUgUHJvY2VzcyBJbXByb3ZlbWVudCIsCikpCgpEQihDaXRhdGlvbigKICAgIG1lc3NuYXJ6MjAxMmEsIG1lc3NuYXJ6MTk5OWEsIHJlZj0iIiwKICAgIGNvbnRleHRzPVsKCiAgICBdLAopKQoKJycnLCBjaXRhdGlvbnM9J21lc3NuYXJ6MTk5OWEnKTs=\"));\n",
       "    "
      ],
      "text/plain": [
       "<IPython.core.display.Javascript object>"
      ]
     },
     "metadata": {},
     "output_type": "display_data"
    },
    {
     "data": {
      "application/javascript": [
       "$('span:contains(\"# Temp\")').closest('.cell').remove();"
      ],
      "text/plain": [
       "<IPython.core.display.Javascript object>"
      ]
     },
     "metadata": {},
     "output_type": "display_data"
    },
    {
     "data": {
      "application/javascript": [
       "\n",
       "        $('span:contains(\"# Temp\")').closest('.cell').remove();\n",
       "        var code = IPython.notebook.insert_cell_below('code');\n",
       "        code.set_text(atob(\"IyBUZW1wCmluc2VydCgnJycKbWVzc25hcnoyMDEyYSA9IERCKFdvcmtVbnJlbGF0ZWQoCiAgICAyMDEyLCAiRXhwZXJpZW5jZXMgd2l0aCB0cmlhbCBhc3Nlc3NtZW50cyBjb21iaW5pbmcgYXV0b21vdGl2ZSBzcGljZSBhbmQgZnVuY3Rpb25hbCBzYWZldHkgc3RhbmRhcmRzIiwKICAgIGRpc3BsYXk9Im1lc3NuYXJ6IiwKICAgIGF1dGhvcnM9Ik1lc3NuYXJ6LCBSaWNoYXJkIGFuZCBL9m5pZywgRnJhbmsgYW5kIEJhY2htYW5uLCBWb2xrZXIgT3ZpIiwKICAgIHBsYWNlPUZBS0UsCiAgICBwcD0iMjY2LS0yNzUiLAogICAgZW50cnl0eXBlPSJpbnByb2NlZWRpbmdzIiwKICAgIG9yZ2FuaXphdGlvbj0iU3ByaW5nZXIiLAogICAgSUQ9Im1lc3NuYXJ6MjAxMmV4cGVyaWVuY2VzIiwKICAgIGNsdXN0ZXJfaWQ9IjQzMDU2NjYwNjc1NTE5MDg1NzEiLAogICAgc2Nob2xhcj0iaHR0cDovL3NjaG9sYXIuZ29vZ2xlLmNvbS9zY2hvbGFyP2NpdGVzPTQzMDU2NjYwNjc1NTE5MDg1NzEmYXNfc2R0PTIwMDUmc2Npb2R0PTAsNSZobD1lbiIsCiAgICBwbGFjZXg9IkV1cm9wZWFuIENvbmZlcmVuY2Ugb24gU29mdHdhcmUgUHJvY2VzcyBJbXByb3ZlbWVudCIsCikpCgpEQihDaXRhdGlvbigKICAgIG1lc3NuYXJ6MjAxMmEsIG1lc3NuYXJ6MTk5OWEsIHJlZj0iIiwKICAgIGNvbnRleHRzPVsKCiAgICBdLAopKQoKJycnLCBjaXRhdGlvbnM9J21lc3NuYXJ6MTk5OWEnKTs=\"));\n",
       "    "
      ],
      "text/plain": [
       "<IPython.core.display.Javascript object>"
      ]
     },
     "metadata": {},
     "output_type": "display_data"
    },
    {
     "data": {
      "application/javascript": [
       "$('span:contains(\"# Temp\")').closest('.cell').remove();"
      ],
      "text/plain": [
       "<IPython.core.display.Javascript object>"
      ]
     },
     "metadata": {},
     "output_type": "display_data"
    },
    {
     "data": {
      "application/javascript": [
       "\n",
       "        $('span:contains(\"# Temp\")').closest('.cell').remove();\n",
       "        var code = IPython.notebook.insert_cell_below('code');\n",
       "        code.set_text(atob(\"IyBUZW1wCmluc2VydCgnJycKbWVzc25hcnoyMDA5YSA9IERCKFdvcmtVbnJlbGF0ZWQoCiAgICAyMDA5LCAiSW50ZWdyYXRlZCBBdXRvbW90aXZlIFNQSUNFIGFuZCBzYWZldHkgYXNzZXNzbWVudHMiLAogICAgZGlzcGxheT0ibWVzc25hcnoiLAogICAgYXV0aG9ycz0iTWVzc25hcnosIFJpY2hhcmQgYW5kIFJvc3MsIEhhbnMtTGVvIGFuZCBIYWJlbCwgU3RlcGhhbiBhbmQgS/ZuaWcsIEZyYW5rIGFuZCBLb3VuZG91c3NpLCBBYmRlbGhhZGkgYW5kIFVudGVycnJlaXRtYXllciwgSvxyZ2VuIGFuZCBFa2VydCwgRGFtamFuIiwKICAgIHBsYWNlPVNQSVAsCiAgICBwcD0iMjc5LS0yODgiLAogICAgZW50cnl0eXBlPSJhcnRpY2xlIiwKICAgIHZvbHVtZT0iMTQiLAogICAgbnVtYmVyPSI1IiwKICAgIHB1Ymxpc2hlcj0iV2lsZXkgT25saW5lIExpYnJhcnkiLAogICAgSUQ9Im1lc3NuYXJ6MjAwOWludGVncmF0ZWQiLAogICAgY2x1c3Rlcl9pZD0iMTcxMzUxMTM4ODUxNDgwMDQyNjYiLAogICAgc2Nob2xhcj0iaHR0cDovL3NjaG9sYXIuZ29vZ2xlLmNvbS9zY2hvbGFyP2NpdGVzPTE3MTM1MTEzODg1MTQ4MDA0MjY2JmFzX3NkdD0yMDA1JnNjaW9kdD0wLDUmaGw9ZW4iLAogICAgcGxhY2V4PSJTb2Z0d2FyZSBQcm9jZXNzOiBJbXByb3ZlbWVudCBhbmQgUHJhY3RpY2UiLAopKQoKREIoQ2l0YXRpb24oCiAgICBtZXNzbmFyejIwMDlhLCBtZXNzbmFyejE5OTlhLCByZWY9IiIsCiAgICBjb250ZXh0cz1bCgogICAgXSwKKSkKCicnJywgY2l0YXRpb25zPSdtZXNzbmFyejE5OTlhJyk7\"));\n",
       "    "
      ],
      "text/plain": [
       "<IPython.core.display.Javascript object>"
      ]
     },
     "metadata": {},
     "output_type": "display_data"
    },
    {
     "data": {
      "application/javascript": [
       "$('span:contains(\"# Temp\")').closest('.cell').remove();"
      ],
      "text/plain": [
       "<IPython.core.display.Javascript object>"
      ]
     },
     "metadata": {},
     "output_type": "display_data"
    },
    {
     "data": {
      "application/javascript": [
       "\n",
       "        $('span:contains(\"# Temp\")').closest('.cell').remove();\n",
       "        var code = IPython.notebook.insert_cell_below('code');\n",
       "        code.set_text(atob(\"IyBUZW1wCmluc2VydCgnJycKbWVzc25hcnoyMDA5YSA9IERCKFdvcmtVbnJlbGF0ZWQoCiAgICAyMDA5LCAiSW50ZWdyYXRlZCBBdXRvbW90aXZlIFNQSUNFIGFuZCBzYWZldHkgYXNzZXNzbWVudHMiLAogICAgZGlzcGxheT0ibWVzc25hcnoiLAogICAgYXV0aG9ycz0iTWVzc25hcnosIFJpY2hhcmQgYW5kIFJvc3MsIEhhbnMtTGVvIGFuZCBIYWJlbCwgU3RlcGhhbiBhbmQgS/ZuaWcsIEZyYW5rIGFuZCBLb3VuZG91c3NpLCBBYmRlbGhhZGkgYW5kIFVudGVycnJlaXRtYXllciwgSvxyZ2VuIGFuZCBFa2VydCwgRGFtamFuIiwKICAgIHBsYWNlPVNQSVAsCiAgICBwcD0iMjc5LS0yODgiLAogICAgZW50cnl0eXBlPSJhcnRpY2xlIiwKICAgIHZvbHVtZT0iMTQiLAogICAgbnVtYmVyPSI1IiwKICAgIHB1Ymxpc2hlcj0iV2lsZXkgT25saW5lIExpYnJhcnkiLAogICAgSUQ9Im1lc3NuYXJ6MjAwOWludGVncmF0ZWQiLAogICAgY2x1c3Rlcl9pZD0iMTcxMzUxMTM4ODUxNDgwMDQyNjYiLAogICAgc2Nob2xhcj0iaHR0cDovL3NjaG9sYXIuZ29vZ2xlLmNvbS9zY2hvbGFyP2NpdGVzPTE3MTM1MTEzODg1MTQ4MDA0MjY2JmFzX3NkdD0yMDA1JnNjaW9kdD0wLDUmaGw9ZW4iLAogICAgcGxhY2V4PSJTb2Z0d2FyZSBQcm9jZXNzOiBJbXByb3ZlbWVudCBhbmQgUHJhY3RpY2UiLAopKQoKREIoQ2l0YXRpb24oCiAgICBtZXNzbmFyejIwMDlhLCBtZXNzbmFyejE5OTlhLCByZWY9IiIsCiAgICBjb250ZXh0cz1bCgogICAgXSwKKSkKCicnJywgY2l0YXRpb25zPSdtZXNzbmFyejE5OTlhJyk7\"));\n",
       "    "
      ],
      "text/plain": [
       "<IPython.core.display.Javascript object>"
      ]
     },
     "metadata": {},
     "output_type": "display_data"
    },
    {
     "data": {
      "application/javascript": [
       "$('span:contains(\"# Temp\")').closest('.cell').remove();"
      ],
      "text/plain": [
       "<IPython.core.display.Javascript object>"
      ]
     },
     "metadata": {},
     "output_type": "display_data"
    },
    {
     "data": {
      "application/javascript": [
       "\n",
       "        $('span:contains(\"# Temp\")').closest('.cell').remove();\n",
       "        var code = IPython.notebook.insert_cell_below('code');\n",
       "        code.set_text(atob(\"IyBUZW1wCmluc2VydCgnJycKYWJyYWhhbXNzb24yMDA3YSA9IERCKFdvcmtVbnJlbGF0ZWQoCiAgICAyMDA3LCAiU29mdHdhcmUgcHJvY2VzcyBpbXByb3ZlbWVudC0tRXVyb1NQSSAyMDA3IGNvbmZlcmVuY2UiLAogICAgZGlzcGxheT0iYWJyYWhhbXNzb24iLAogICAgYXV0aG9ycz0iQWJyYWhhbXNzb24sIFBla2thIGFuZCBCYWRkb28sIE5hdGhhbiBhbmQgVGl6aWFuYSwgTWFyZ2FyaWEgYW5kIE1lc3NuYXJ6LCBSaWNoYXJkIiwKICAgIHBsYWNlPUZBS0UsCiAgICBwcD0iMS0tNiIsCiAgICBlbnRyeXR5cGU9ImlucHJvY2VlZGluZ3MiLAogICAgb3JnYW5pemF0aW9uPSJTcHJpbmdlciIsCiAgICBJRD0iYWJyYWhhbXNzb24yMDA3c29mdHdhcmUiLAogICAgY2x1c3Rlcl9pZD0iODIzNTU2NDgwNTU3OTA3OTE4NiIsCiAgICBzY2hvbGFyPSJodHRwOi8vc2Nob2xhci5nb29nbGUuY29tL3NjaG9sYXI/Y2l0ZXM9ODIzNTU2NDgwNTU3OTA3OTE4NiZhc19zZHQ9MjAwNSZzY2lvZHQ9MCw1JmhsPWVuIiwKICAgIHBsYWNleD0iRXVyb3BlYW4gQ29uZmVyZW5jZSBvbiBTb2Z0d2FyZSBQcm9jZXNzIEltcHJvdmVtZW50IiwKKSkKCkRCKENpdGF0aW9uKAogICAgYWJyYWhhbXNzb24yMDA3YSwgbWVzc25hcnoxOTk5YSwgcmVmPSIiLAogICAgY29udGV4dHM9WwoKICAgIF0sCikpCgonJycsIGNpdGF0aW9ucz0nbWVzc25hcnoxOTk5YScpOw==\"));\n",
       "    "
      ],
      "text/plain": [
       "<IPython.core.display.Javascript object>"
      ]
     },
     "metadata": {},
     "output_type": "display_data"
    },
    {
     "data": {
      "application/javascript": [
       "$('span:contains(\"# Temp\")').closest('.cell').remove();"
      ],
      "text/plain": [
       "<IPython.core.display.Javascript object>"
      ]
     },
     "metadata": {},
     "output_type": "display_data"
    },
    {
     "data": {
      "application/javascript": [
       "\n",
       "        $('span:contains(\"# Temp\")').closest('.cell').remove();\n",
       "        var code = IPython.notebook.insert_cell_below('code');\n",
       "        code.set_text(atob(\"IyBUZW1wCmluc2VydCgnJycKYWJyYWhhbXNzb24yMDA3YSA9IERCKFdvcmtVbnJlbGF0ZWQoCiAgICAyMDA3LCAiU29mdHdhcmUgcHJvY2VzcyBpbXByb3ZlbWVudC0tRXVyb1NQSSAyMDA3IGNvbmZlcmVuY2UiLAogICAgZGlzcGxheT0iYWJyYWhhbXNzb24iLAogICAgYXV0aG9ycz0iQWJyYWhhbXNzb24sIFBla2thIGFuZCBCYWRkb28sIE5hdGhhbiBhbmQgVGl6aWFuYSwgTWFyZ2FyaWEgYW5kIE1lc3NuYXJ6LCBSaWNoYXJkIiwKICAgIHBsYWNlPUZBS0UsCiAgICBwcD0iMS0tNiIsCiAgICBlbnRyeXR5cGU9ImlucHJvY2VlZGluZ3MiLAogICAgb3JnYW5pemF0aW9uPSJTcHJpbmdlciIsCiAgICBJRD0iYWJyYWhhbXNzb24yMDA3c29mdHdhcmUiLAogICAgY2x1c3Rlcl9pZD0iODIzNTU2NDgwNTU3OTA3OTE4NiIsCiAgICBzY2hvbGFyPSJodHRwOi8vc2Nob2xhci5nb29nbGUuY29tL3NjaG9sYXI/Y2l0ZXM9ODIzNTU2NDgwNTU3OTA3OTE4NiZhc19zZHQ9MjAwNSZzY2lvZHQ9MCw1JmhsPWVuIiwKICAgIHBsYWNleD0iRXVyb3BlYW4gQ29uZmVyZW5jZSBvbiBTb2Z0d2FyZSBQcm9jZXNzIEltcHJvdmVtZW50IiwKKSkKCkRCKENpdGF0aW9uKAogICAgYWJyYWhhbXNzb24yMDA3YSwgbWVzc25hcnoxOTk5YSwgcmVmPSIiLAogICAgY29udGV4dHM9WwoKICAgIF0sCikpCgonJycsIGNpdGF0aW9ucz0nbWVzc25hcnoxOTk5YScpOw==\"));\n",
       "    "
      ],
      "text/plain": [
       "<IPython.core.display.Javascript object>"
      ]
     },
     "metadata": {},
     "output_type": "display_data"
    },
    {
     "data": {
      "application/javascript": [
       "$('span:contains(\"# Temp\")').closest('.cell').remove();"
      ],
      "text/plain": [
       "<IPython.core.display.Javascript object>"
      ]
     },
     "metadata": {},
     "output_type": "display_data"
    },
    {
     "data": {
      "application/javascript": [
       "\n",
       "        $('span:contains(\"# Temp\")').closest('.cell').remove();\n",
       "        var code = IPython.notebook.insert_cell_below('code');\n",
       "        code.set_text(atob(\"IyBUZW1wCmluc2VydCgnJycKZW1hbTIwMDFiID0gREIoV29ya1VucmVsYXRlZCgKICAgIDIwMDEsICJTb2Z0d2FyZSBFbmdpbmVlcmluZyBQcm9jZXNzIiwKICAgIGRpc3BsYXk9ImVtYW0gYiIsCiAgICBhdXRob3JzPSJFbCBFbWFtLCBLaGFsZWQiLAogICAgcGxhY2U9RkFLRSwKICAgIHBwPSIxMzciLAogICAgZW50cnl0eXBlPSJhcnRpY2xlIiwKICAgIElEPSJlbDIwMDFzb2Z0d2FyZSIsCiAgICBjbHVzdGVyX2lkPSIyNDY1Nzc4MDc3NTYyNzIwOTIyIiwKICAgIHNjaG9sYXI9Imh0dHA6Ly9zY2hvbGFyLmdvb2dsZS5jb20vc2Nob2xhcj9jaXRlcz0yNDY1Nzc4MDc3NTYyNzIwOTIyJmFzX3NkdD0yMDA1JnNjaW9kdD0wLDUmaGw9ZW4iLAogICAgcGxhY2V4PSJTV0VCT0siLAopKQoKREIoQ2l0YXRpb24oCiAgICBlbWFtMjAwMWIsIG1lc3NuYXJ6MTk5OWEsIHJlZj0iIiwKICAgIGNvbnRleHRzPVsKCiAgICBdLAopKQoKJycnLCBjaXRhdGlvbnM9J21lc3NuYXJ6MTk5OWEnKTs=\"));\n",
       "    "
      ],
      "text/plain": [
       "<IPython.core.display.Javascript object>"
      ]
     },
     "metadata": {},
     "output_type": "display_data"
    },
    {
     "data": {
      "application/javascript": [
       "$('span:contains(\"# Temp\")').closest('.cell').remove();"
      ],
      "text/plain": [
       "<IPython.core.display.Javascript object>"
      ]
     },
     "metadata": {},
     "output_type": "display_data"
    },
    {
     "data": {
      "application/javascript": [
       "\n",
       "        $('span:contains(\"# Temp\")').closest('.cell').remove();\n",
       "        var code = IPython.notebook.insert_cell_below('code');\n",
       "        code.set_text(atob(\"IyBUZW1wCmluc2VydCgnJycKZW1hbTIwMDFiID0gREIoV29ya1VucmVsYXRlZCgKICAgIDIwMDEsICJTb2Z0d2FyZSBFbmdpbmVlcmluZyBQcm9jZXNzIiwKICAgIGRpc3BsYXk9ImVtYW0gYiIsCiAgICBhdXRob3JzPSJFbCBFbWFtLCBLaGFsZWQiLAogICAgcGxhY2U9RkFLRSwKICAgIHBwPSIxMzciLAogICAgZW50cnl0eXBlPSJhcnRpY2xlIiwKICAgIElEPSJlbDIwMDFzb2Z0d2FyZSIsCiAgICBjbHVzdGVyX2lkPSIyNDY1Nzc4MDc3NTYyNzIwOTIyIiwKICAgIHNjaG9sYXI9Imh0dHA6Ly9zY2hvbGFyLmdvb2dsZS5jb20vc2Nob2xhcj9jaXRlcz0yNDY1Nzc4MDc3NTYyNzIwOTIyJmFzX3NkdD0yMDA1JnNjaW9kdD0wLDUmaGw9ZW4iLAogICAgcGxhY2V4PSJTV0VCT0siLAopKQoKREIoQ2l0YXRpb24oCiAgICBlbWFtMjAwMWIsIG1lc3NuYXJ6MTk5OWEsIHJlZj0iIiwKICAgIGNvbnRleHRzPVsKCiAgICBdLAopKQoKJycnLCBjaXRhdGlvbnM9J21lc3NuYXJ6MTk5OWEnKTs=\"));\n",
       "    "
      ],
      "text/plain": [
       "<IPython.core.display.Javascript object>"
      ]
     },
     "metadata": {},
     "output_type": "display_data"
    },
    {
     "data": {
      "application/javascript": [
       "$('span:contains(\"# Temp\")').closest('.cell').remove();"
      ],
      "text/plain": [
       "<IPython.core.display.Javascript object>"
      ]
     },
     "metadata": {},
     "output_type": "display_data"
    },
    {
     "data": {
      "application/javascript": [
       "\n",
       "        $('span:contains(\"# Temp\")').closest('.cell').remove();\n",
       "        var code = IPython.notebook.insert_cell_below('code');\n",
       "        code.set_text(atob(\"IyBUZW1wCmluc2VydCgnJycKc3BvcmsyMDA4YSA9IERCKFdvcmtVbnJlbGF0ZWQoCiAgICAyMDA4LCAiRXN0YWJsaXNobWVudCBvZiBhIHBlcmZvcm1hbmNlIGRyaXZlbiBpbXByb3ZlbWVudCBwcm9ncmFtbWUiLAogICAgZGlzcGxheT0ic3BvcmsiLAogICAgYXV0aG9ycz0iU3BvcmssIEd1bnRoZXIgYW5kIFBpY2hsZXIsIFV3ZSIsCiAgICBwbGFjZT1TUElQLAogICAgcHA9IjM3MS0tMzgyIiwKICAgIGVudHJ5dHlwZT0iYXJ0aWNsZSIsCiAgICB2b2x1bWU9IjEzIiwKICAgIG51bWJlcj0iNCIsCiAgICBwdWJsaXNoZXI9IldpbGV5IE9ubGluZSBMaWJyYXJ5IiwKICAgIElEPSJzcG9yazIwMDhlc3RhYmxpc2htZW50IiwKICAgIGNsdXN0ZXJfaWQ9IjUzNjU0MzM1Nzc4OTQxMzMxNzciLAogICAgc2Nob2xhcj0iaHR0cDovL3NjaG9sYXIuZ29vZ2xlLmNvbS9zY2hvbGFyP2NpdGVzPTUzNjU0MzM1Nzc4OTQxMzMxNzcmYXNfc2R0PTIwMDUmc2Npb2R0PTAsNSZobD1lbiIsCiAgICBwbGFjZXg9IlNvZnR3YXJlIFByb2Nlc3M6IEltcHJvdmVtZW50IGFuZCBQcmFjdGljZSIsCikpCgpEQihDaXRhdGlvbigKICAgIHNwb3JrMjAwOGEsIG1lc3NuYXJ6MTk5OWEsIHJlZj0iIiwKICAgIGNvbnRleHRzPVsKCiAgICBdLAopKQoKJycnLCBjaXRhdGlvbnM9J21lc3NuYXJ6MTk5OWEnKTs=\"));\n",
       "    "
      ],
      "text/plain": [
       "<IPython.core.display.Javascript object>"
      ]
     },
     "metadata": {},
     "output_type": "display_data"
    },
    {
     "data": {
      "application/javascript": [
       "$('span:contains(\"# Temp\")').closest('.cell').remove();"
      ],
      "text/plain": [
       "<IPython.core.display.Javascript object>"
      ]
     },
     "metadata": {},
     "output_type": "display_data"
    },
    {
     "data": {
      "application/javascript": [
       "\n",
       "        $('span:contains(\"# Temp\")').closest('.cell').remove();\n",
       "        var code = IPython.notebook.insert_cell_below('code');\n",
       "        code.set_text(atob(\"IyBUZW1wCmluc2VydCgnJycKc3BvcmsyMDA4YSA9IERCKFdvcmtVbnJlbGF0ZWQoCiAgICAyMDA4LCAiRXN0YWJsaXNobWVudCBvZiBhIHBlcmZvcm1hbmNlIGRyaXZlbiBpbXByb3ZlbWVudCBwcm9ncmFtbWUiLAogICAgZGlzcGxheT0ic3BvcmsiLAogICAgYXV0aG9ycz0iU3BvcmssIEd1bnRoZXIgYW5kIFBpY2hsZXIsIFV3ZSIsCiAgICBwbGFjZT1TUElQLAogICAgcHA9IjM3MS0tMzgyIiwKICAgIGVudHJ5dHlwZT0iYXJ0aWNsZSIsCiAgICB2b2x1bWU9IjEzIiwKICAgIG51bWJlcj0iNCIsCiAgICBwdWJsaXNoZXI9IldpbGV5IE9ubGluZSBMaWJyYXJ5IiwKICAgIElEPSJzcG9yazIwMDhlc3RhYmxpc2htZW50IiwKICAgIGNsdXN0ZXJfaWQ9IjUzNjU0MzM1Nzc4OTQxMzMxNzciLAogICAgc2Nob2xhcj0iaHR0cDovL3NjaG9sYXIuZ29vZ2xlLmNvbS9zY2hvbGFyP2NpdGVzPTUzNjU0MzM1Nzc4OTQxMzMxNzcmYXNfc2R0PTIwMDUmc2Npb2R0PTAsNSZobD1lbiIsCiAgICBwbGFjZXg9IlNvZnR3YXJlIFByb2Nlc3M6IEltcHJvdmVtZW50IGFuZCBQcmFjdGljZSIsCikpCgpEQihDaXRhdGlvbigKICAgIHNwb3JrMjAwOGEsIG1lc3NuYXJ6MTk5OWEsIHJlZj0iIiwKICAgIGNvbnRleHRzPVsKCiAgICBdLAopKQoKJycnLCBjaXRhdGlvbnM9J21lc3NuYXJ6MTk5OWEnKTs=\"));\n",
       "    "
      ],
      "text/plain": [
       "<IPython.core.display.Javascript object>"
      ]
     },
     "metadata": {},
     "output_type": "display_data"
    },
    {
     "data": {
      "application/javascript": [
       "$('span:contains(\"# Temp\")').closest('.cell').remove();"
      ],
      "text/plain": [
       "<IPython.core.display.Javascript object>"
      ]
     },
     "metadata": {},
     "output_type": "display_data"
    },
    {
     "data": {
      "application/javascript": [
       "\n",
       "        $('span:contains(\"# Temp\")').closest('.cell').remove();\n",
       "        var code = IPython.notebook.insert_cell_below('code');\n",
       "        code.set_text(atob(\"IyBUZW1wCmluc2VydCgnJycKcm9zZTIwMDhhID0gREIoV29ya1VucmVsYXRlZCgKICAgIDIwMDgsICJNYW5hZ2VyaWFsIGFuZCBPcmdhbml6YXRpb25hbCBBc3N1bXB0aW9ucyBpbiB0aGUgQ01NcyIsCiAgICBkaXNwbGF5PSJyb3NlIiwKICAgIGF1dGhvcnM9IlJvc2UsIEplcmVteSBhbmQgQWFlbiwgSXZhbiBhbmQgTmllbHNlbiwgUGV0ZXIgQXhlbCIsCiAgICBwbGFjZT1GQUtFLAogICAgcHA9IjkiLAogICAgZW50cnl0eXBlPSJhcnRpY2xlIiwKICAgIElEPSJyb3NlMjAwOG1hbmFnZXJpYWwiLAogICAgY2x1c3Rlcl9pZD0iMTUzOTAyMzQxMjEzMjY3NDc2NzIiLAogICAgc2Nob2xhcj0iaHR0cDovL3NjaG9sYXIuZ29vZ2xlLmNvbS9zY2hvbGFyP2NpdGVzPTE1MzkwMjM0MTIxMzI2NzQ3NjcyJmFzX3NkdD0yMDA1JnNjaW9kdD0wLDUmaGw9ZW4iLAogICAgcGxhY2V4PSJTb2Z0d2FyZSBQcm9jZXNzZXMgJiBLbm93bGVkZ2UiLAopKQoKREIoQ2l0YXRpb24oCiAgICByb3NlMjAwOGEsIG1lc3NuYXJ6MTk5OWEsIHJlZj0iIiwKICAgIGNvbnRleHRzPVsKCiAgICBdLAopKQoKJycnLCBjaXRhdGlvbnM9J21lc3NuYXJ6MTk5OWEnKTs=\"));\n",
       "    "
      ],
      "text/plain": [
       "<IPython.core.display.Javascript object>"
      ]
     },
     "metadata": {},
     "output_type": "display_data"
    },
    {
     "data": {
      "application/javascript": [
       "$('span:contains(\"# Temp\")').closest('.cell').remove();"
      ],
      "text/plain": [
       "<IPython.core.display.Javascript object>"
      ]
     },
     "metadata": {},
     "output_type": "display_data"
    },
    {
     "data": {
      "application/javascript": [
       "\n",
       "        $('span:contains(\"# Temp\")').closest('.cell').remove();\n",
       "        var code = IPython.notebook.insert_cell_below('code');\n",
       "        code.set_text(atob(\"IyBUZW1wCmluc2VydCgnJycKcm9zZTIwMDhhID0gREIoV29ya1VucmVsYXRlZCgKICAgIDIwMDgsICJNYW5hZ2VyaWFsIGFuZCBPcmdhbml6YXRpb25hbCBBc3N1bXB0aW9ucyBpbiB0aGUgQ01NcyIsCiAgICBkaXNwbGF5PSJyb3NlIiwKICAgIGF1dGhvcnM9IlJvc2UsIEplcmVteSBhbmQgQWFlbiwgSXZhbiBhbmQgTmllbHNlbiwgUGV0ZXIgQXhlbCIsCiAgICBwbGFjZT1GQUtFLAogICAgcHA9IjkiLAogICAgZW50cnl0eXBlPSJhcnRpY2xlIiwKICAgIElEPSJyb3NlMjAwOG1hbmFnZXJpYWwiLAogICAgY2x1c3Rlcl9pZD0iMTUzOTAyMzQxMjEzMjY3NDc2NzIiLAogICAgc2Nob2xhcj0iaHR0cDovL3NjaG9sYXIuZ29vZ2xlLmNvbS9zY2hvbGFyP2NpdGVzPTE1MzkwMjM0MTIxMzI2NzQ3NjcyJmFzX3NkdD0yMDA1JnNjaW9kdD0wLDUmaGw9ZW4iLAogICAgcGxhY2V4PSJTb2Z0d2FyZSBQcm9jZXNzZXMgJiBLbm93bGVkZ2UiLAopKQoKREIoQ2l0YXRpb24oCiAgICByb3NlMjAwOGEsIG1lc3NuYXJ6MTk5OWEsIHJlZj0iIiwKICAgIGNvbnRleHRzPVsKCiAgICBdLAopKQoKJycnLCBjaXRhdGlvbnM9J21lc3NuYXJ6MTk5OWEnKTs=\"));\n",
       "    "
      ],
      "text/plain": [
       "<IPython.core.display.Javascript object>"
      ]
     },
     "metadata": {},
     "output_type": "display_data"
    },
    {
     "data": {
      "application/javascript": [
       "$('span:contains(\"# Temp\")').closest('.cell').remove();"
      ],
      "text/plain": [
       "<IPython.core.display.Javascript object>"
      ]
     },
     "metadata": {},
     "output_type": "display_data"
    },
    {
     "data": {
      "application/javascript": [
       "\n",
       "        $('span:contains(\"# Temp\")').closest('.cell').remove();\n",
       "        var code = IPython.notebook.insert_cell_below('code');\n",
       "        code.set_text(atob(\"IyBUZW1wCmluc2VydCgnJycKa2V0dHVuZW4yMDEwYSA9IERCKFdvcmtVbnJlbGF0ZWQoCiAgICAyMDEwLCAiQSB0ZW50YXRpdmUgZnJhbWV3b3JrIGZvciBsZWFuIHNvZnR3YXJlIGVudGVycHJpc2UgcmVzZWFyY2ggYW5kIGRldmVsb3BtZW50IiwKICAgIGRpc3BsYXk9ImtldHR1bmVuIiwKICAgIGF1dGhvcnM9IktldHR1bmVuLCBQZXRyaSIsCiAgICBwbGFjZT1GQUtFLAogICAgcHA9IjYwLS03MSIsCiAgICBlbnRyeXR5cGU9ImluY29sbGVjdGlvbiIsCiAgICBwdWJsaXNoZXI9IlNwcmluZ2VyIiwKICAgIElEPSJrZXR0dW5lbjIwMTB0ZW50YXRpdmUiLAogICAgY2x1c3Rlcl9pZD0iMTQ2MTA0NjEwMzk5NDk2NzA5ODUiLAogICAgc2Nob2xhcj0iaHR0cDovL3NjaG9sYXIuZ29vZ2xlLmNvbS9zY2hvbGFyP2NpdGVzPTE0NjEwNDYxMDM5OTQ5NjcwOTg1JmFzX3NkdD0yMDA1JnNjaW9kdD0wLDUmaGw9ZW4iLAogICAgcGxhY2V4PSJMZWFuIEVudGVycHJpc2UgU29mdHdhcmUgYW5kIFN5c3RlbXMiLAopKQoKREIoQ2l0YXRpb24oCiAgICBrZXR0dW5lbjIwMTBhLCBtZXNzbmFyejE5OTlhLCByZWY9IiIsCiAgICBjb250ZXh0cz1bCgogICAgXSwKKSkKCicnJywgY2l0YXRpb25zPSdtZXNzbmFyejE5OTlhJyk7\"));\n",
       "    "
      ],
      "text/plain": [
       "<IPython.core.display.Javascript object>"
      ]
     },
     "metadata": {},
     "output_type": "display_data"
    },
    {
     "data": {
      "application/javascript": [
       "$('span:contains(\"# Temp\")').closest('.cell').remove();"
      ],
      "text/plain": [
       "<IPython.core.display.Javascript object>"
      ]
     },
     "metadata": {},
     "output_type": "display_data"
    },
    {
     "data": {
      "application/javascript": [
       "\n",
       "        $('span:contains(\"# Temp\")').closest('.cell').remove();\n",
       "        var code = IPython.notebook.insert_cell_below('code');\n",
       "        code.set_text(atob(\"IyBUZW1wCmluc2VydCgnJycKa2V0dHVuZW4yMDEwYSA9IERCKFdvcmtVbnJlbGF0ZWQoCiAgICAyMDEwLCAiQSB0ZW50YXRpdmUgZnJhbWV3b3JrIGZvciBsZWFuIHNvZnR3YXJlIGVudGVycHJpc2UgcmVzZWFyY2ggYW5kIGRldmVsb3BtZW50IiwKICAgIGRpc3BsYXk9ImtldHR1bmVuIiwKICAgIGF1dGhvcnM9IktldHR1bmVuLCBQZXRyaSIsCiAgICBwbGFjZT1GQUtFLAogICAgcHA9IjYwLS03MSIsCiAgICBlbnRyeXR5cGU9ImluY29sbGVjdGlvbiIsCiAgICBwdWJsaXNoZXI9IlNwcmluZ2VyIiwKICAgIElEPSJrZXR0dW5lbjIwMTB0ZW50YXRpdmUiLAogICAgY2x1c3Rlcl9pZD0iMTQ2MTA0NjEwMzk5NDk2NzA5ODUiLAogICAgc2Nob2xhcj0iaHR0cDovL3NjaG9sYXIuZ29vZ2xlLmNvbS9zY2hvbGFyP2NpdGVzPTE0NjEwNDYxMDM5OTQ5NjcwOTg1JmFzX3NkdD0yMDA1JnNjaW9kdD0wLDUmaGw9ZW4iLAogICAgcGxhY2V4PSJMZWFuIEVudGVycHJpc2UgU29mdHdhcmUgYW5kIFN5c3RlbXMiLAopKQoKREIoQ2l0YXRpb24oCiAgICBrZXR0dW5lbjIwMTBhLCBtZXNzbmFyejE5OTlhLCByZWY9IiIsCiAgICBjb250ZXh0cz1bCgogICAgXSwKKSkKCicnJywgY2l0YXRpb25zPSdtZXNzbmFyejE5OTlhJyk7\"));\n",
       "    "
      ],
      "text/plain": [
       "<IPython.core.display.Javascript object>"
      ]
     },
     "metadata": {},
     "output_type": "display_data"
    },
    {
     "data": {
      "application/javascript": [
       "$('span:contains(\"# Temp\")').closest('.cell').remove();"
      ],
      "text/plain": [
       "<IPython.core.display.Javascript object>"
      ]
     },
     "metadata": {},
     "output_type": "display_data"
    },
    {
     "data": {
      "application/javascript": [
       "\n",
       "        $('span:contains(\"# Temp\")').closest('.cell').remove();\n",
       "        var code = IPython.notebook.insert_cell_below('code');\n",
       "        code.set_text(atob(\"IyBUZW1wCmluc2VydCgnJycKcHJpZXMyMDAzYSA9IERCKFdvcmtVbnJlbGF0ZWQoCiAgICAyMDAzLCAiSW1wcm92aW5nIHNvZnR3YXJlIG9yZ2FuaXphdGlvbnM6IGFuIGFuYWx5c2lzIG9mIGRpdmVyc2Ugbm9ybWF0aXZlIG1vZGVscyIsCiAgICBkaXNwbGF5PSJwcmllcyIsCiAgICBhdXRob3JzPSJQcmllcy1IZWplLCBKYW4gYW5kIEJhc2tlcnZpbGxlLCBSaWNoYXJkIiwKICAgIHBsYWNlPUZBS0UsCiAgICBlbnRyeXR5cGU9ImFydGljbGUiLAogICAgSUQ9InByaWVzMjAwM2ltcHJvdmluZyIsCiAgICBjbHVzdGVyX2lkPSIxMjk4ODk2MDE1MTE3MDYxNTA2MiIsCiAgICBzY2hvbGFyPSJodHRwOi8vc2Nob2xhci5nb29nbGUuY29tL3NjaG9sYXI/Y2l0ZXM9MTI5ODg5NjAxNTExNzA2MTUwNjImYXNfc2R0PTIwMDUmc2Npb2R0PTAsNSZobD1lbiIsCiAgICBwbGFjZXg9IkV1cm9TUEksIEdyYXosIEF1c3RyaWEiLAopKQoKREIoQ2l0YXRpb24oCiAgICBwcmllczIwMDNhLCBtZXNzbmFyejE5OTlhLCByZWY9IiIsCiAgICBjb250ZXh0cz1bCgogICAgXSwKKSkKCicnJywgY2l0YXRpb25zPSdtZXNzbmFyejE5OTlhJyk7\"));\n",
       "    "
      ],
      "text/plain": [
       "<IPython.core.display.Javascript object>"
      ]
     },
     "metadata": {},
     "output_type": "display_data"
    },
    {
     "data": {
      "application/javascript": [
       "$('span:contains(\"# Temp\")').closest('.cell').remove();"
      ],
      "text/plain": [
       "<IPython.core.display.Javascript object>"
      ]
     },
     "metadata": {},
     "output_type": "display_data"
    },
    {
     "data": {
      "application/javascript": [
       "\n",
       "        $('span:contains(\"# Temp\")').closest('.cell').remove();\n",
       "        var code = IPython.notebook.insert_cell_below('code');\n",
       "        code.set_text(atob(\"IyBUZW1wCmluc2VydCgnJycKcHJpZXMyMDAzYSA9IERCKFdvcmtVbnJlbGF0ZWQoCiAgICAyMDAzLCAiSW1wcm92aW5nIHNvZnR3YXJlIG9yZ2FuaXphdGlvbnM6IGFuIGFuYWx5c2lzIG9mIGRpdmVyc2Ugbm9ybWF0aXZlIG1vZGVscyIsCiAgICBkaXNwbGF5PSJwcmllcyIsCiAgICBhdXRob3JzPSJQcmllcy1IZWplLCBKYW4gYW5kIEJhc2tlcnZpbGxlLCBSaWNoYXJkIiwKICAgIHBsYWNlPUZBS0UsCiAgICBlbnRyeXR5cGU9ImFydGljbGUiLAogICAgSUQ9InByaWVzMjAwM2ltcHJvdmluZyIsCiAgICBjbHVzdGVyX2lkPSIxMjk4ODk2MDE1MTE3MDYxNTA2MiIsCiAgICBzY2hvbGFyPSJodHRwOi8vc2Nob2xhci5nb29nbGUuY29tL3NjaG9sYXI/Y2l0ZXM9MTI5ODg5NjAxNTExNzA2MTUwNjImYXNfc2R0PTIwMDUmc2Npb2R0PTAsNSZobD1lbiIsCiAgICBwbGFjZXg9IkV1cm9TUEksIEdyYXosIEF1c3RyaWEiLAopKQoKREIoQ2l0YXRpb24oCiAgICBwcmllczIwMDNhLCBtZXNzbmFyejE5OTlhLCByZWY9IiIsCiAgICBjb250ZXh0cz1bCgogICAgXSwKKSkKCicnJywgY2l0YXRpb25zPSdtZXNzbmFyejE5OTlhJyk7\"));\n",
       "    "
      ],
      "text/plain": [
       "<IPython.core.display.Javascript object>"
      ]
     },
     "metadata": {},
     "output_type": "display_data"
    },
    {
     "data": {
      "application/javascript": [
       "$('span:contains(\"# Temp\")').closest('.cell').remove();"
      ],
      "text/plain": [
       "<IPython.core.display.Javascript object>"
      ]
     },
     "metadata": {},
     "output_type": "display_data"
    },
    {
     "data": {
      "application/javascript": [
       "\n",
       "        $('span:contains(\"# Temp\")').closest('.cell').remove();\n",
       "        var code = IPython.notebook.insert_cell_below('code');\n",
       "        code.set_text(atob(\"IyBUZW1wCmluc2VydCgnJycKaHJhc3RuaWsyMDA0YSA9IERCKFdvcmtVbnJlbGF0ZWQoCiAgICAyMDA0LCAiSGV0ZXJvZ2VuZXMgV2lzc2VuIPxiZXIgUHJvemVzc2UgYWxzIEdydW5kbGFnZSBm/HIgZGllIEdlc2No5GZ0c3Byb3plc3N2ZXJiZXNzZXJ1bmciLAogICAgZGlzcGxheT0iaHJhc3RuaWsiLAogICAgYXV0aG9ycz0iSHJhc3RuaWssIEphbmV6IGFuZCBSb2xsZXR0LCBIZXJ3aWcgYW5kIFN0cm9obWFpZXIsIE1hcmt1cyIsCiAgICBwbGFjZT1GQUtFLAogICAgcHA9IjM3LS02MCIsCiAgICBlbnRyeXR5cGU9ImluY29sbGVjdGlvbiIsCiAgICBwdWJsaXNoZXI9IlNwcmluZ2VyIiwKICAgIElEPSJocmFzdG5pazIwMDRoZXRlcm9nZW5lcyIsCiAgICBjbHVzdGVyX2lkPSIxNTU0MzU1OTUxMjIzOTY0Nzc1NSIsCiAgICBzY2hvbGFyPSJodHRwOi8vc2Nob2xhci5nb29nbGUuY29tL3NjaG9sYXI/Y2l0ZXM9MTU1NDM1NTk1MTIyMzk2NDc3NTUmYXNfc2R0PTIwMDUmc2Npb2R0PTAsNSZobD1lbiIsCiAgICBwbGFjZXg9IlByb3plc3N3aXNzZW4gYWxzIEVyZm9sZ3NmYWt0b3IiLAopKQoKREIoQ2l0YXRpb24oCiAgICBocmFzdG5pazIwMDRhLCBtZXNzbmFyejE5OTlhLCByZWY9IiIsCiAgICBjb250ZXh0cz1bCgogICAgXSwKKSkKCicnJywgY2l0YXRpb25zPSdtZXNzbmFyejE5OTlhJyk7\"));\n",
       "    "
      ],
      "text/plain": [
       "<IPython.core.display.Javascript object>"
      ]
     },
     "metadata": {},
     "output_type": "display_data"
    },
    {
     "data": {
      "application/javascript": [
       "$('span:contains(\"# Temp\")').closest('.cell').remove();"
      ],
      "text/plain": [
       "<IPython.core.display.Javascript object>"
      ]
     },
     "metadata": {},
     "output_type": "display_data"
    },
    {
     "data": {
      "application/javascript": [
       "\n",
       "        $('span:contains(\"# Temp\")').closest('.cell').remove();\n",
       "        var code = IPython.notebook.insert_cell_below('code');\n",
       "        code.set_text(atob(\"IyBUZW1wCmluc2VydCgnJycKaHJhc3RuaWsyMDA0YSA9IERCKFdvcmtVbnJlbGF0ZWQoCiAgICAyMDA0LCAiSGV0ZXJvZ2VuZXMgV2lzc2VuIPxiZXIgUHJvemVzc2UgYWxzIEdydW5kbGFnZSBm/HIgZGllIEdlc2No5GZ0c3Byb3plc3N2ZXJiZXNzZXJ1bmciLAogICAgZGlzcGxheT0iaHJhc3RuaWsiLAogICAgYXV0aG9ycz0iSHJhc3RuaWssIEphbmV6IGFuZCBSb2xsZXR0LCBIZXJ3aWcgYW5kIFN0cm9obWFpZXIsIE1hcmt1cyIsCiAgICBwbGFjZT1GQUtFLAogICAgcHA9IjM3LS02MCIsCiAgICBlbnRyeXR5cGU9ImluY29sbGVjdGlvbiIsCiAgICBwdWJsaXNoZXI9IlNwcmluZ2VyIiwKICAgIElEPSJocmFzdG5pazIwMDRoZXRlcm9nZW5lcyIsCiAgICBjbHVzdGVyX2lkPSIxNTU0MzU1OTUxMjIzOTY0Nzc1NSIsCiAgICBzY2hvbGFyPSJodHRwOi8vc2Nob2xhci5nb29nbGUuY29tL3NjaG9sYXI/Y2l0ZXM9MTU1NDM1NTk1MTIyMzk2NDc3NTUmYXNfc2R0PTIwMDUmc2Npb2R0PTAsNSZobD1lbiIsCiAgICBwbGFjZXg9IlByb3plc3N3aXNzZW4gYWxzIEVyZm9sZ3NmYWt0b3IiLAopKQoKREIoQ2l0YXRpb24oCiAgICBocmFzdG5pazIwMDRhLCBtZXNzbmFyejE5OTlhLCByZWY9IiIsCiAgICBjb250ZXh0cz1bCgogICAgXSwKKSkKCicnJywgY2l0YXRpb25zPSdtZXNzbmFyejE5OTlhJyk7\"));\n",
       "    "
      ],
      "text/plain": [
       "<IPython.core.display.Javascript object>"
      ]
     },
     "metadata": {},
     "output_type": "display_data"
    },
    {
     "data": {
      "application/javascript": [
       "$('span:contains(\"# Temp\")').closest('.cell').remove();"
      ],
      "text/plain": [
       "<IPython.core.display.Javascript object>"
      ]
     },
     "metadata": {},
     "output_type": "display_data"
    },
    {
     "data": {
      "application/javascript": [
       "\n",
       "        $('span:contains(\"# Temp\")').closest('.cell').remove();\n",
       "        var code = IPython.notebook.insert_cell_below('code');\n",
       "        code.set_text(atob(\"IyBUZW1wCmluc2VydCgnJycKbWVzc25hcnoyMDExYSA9IERCKFdvcmtVbnJlbGF0ZWQoCiAgICAyMDExLCAiRXh0ZW5kaW5nIGF1dG9tb3RpdmUgU1BJQ0UgdG8gY292ZXIgZnVuY3Rpb25hbCBzYWZldHkgcmVxdWlyZW1lbnRzIGFuZCBhIHNhZmV0eSBhcmNoaXRlY3R1cmUiLAogICAgZGlzcGxheT0ibWVzc25hcnoiLAogICAgYXV0aG9ycz0iTWVzc25hcnosIFJpY2hhcmQgYW5kIFNva2ljLCBJdmFuIGFuZCBIYWJlbCwgU3RlcGhhbiBhbmQgS/ZuaWcsIEZyYW5rIGFuZCBCYWNobWFubiwgT3ZpIiwKICAgIHBsYWNlPUZBS0UsCiAgICBwcD0iMjk4LS0zMDciLAogICAgZW50cnl0eXBlPSJpbnByb2NlZWRpbmdzIiwKICAgIG9yZ2FuaXphdGlvbj0iU3ByaW5nZXIiLAogICAgSUQ9Im1lc3NuYXJ6MjAxMWV4dGVuZGluZyIsCiAgICBjbHVzdGVyX2lkPSI5MTYyMzcwODYxMDE2MzExNDI3IiwKICAgIHNjaG9sYXI9Imh0dHA6Ly9zY2hvbGFyLmdvb2dsZS5jb20vc2Nob2xhcj9jaXRlcz05MTYyMzcwODYxMDE2MzExNDI3JmFzX3NkdD0yMDA1JnNjaW9kdD0wLDUmaGw9ZW4iLAogICAgcGxhY2V4PSJFdXJvcGVhbiBDb25mZXJlbmNlIG9uIFNvZnR3YXJlIFByb2Nlc3MgSW1wcm92ZW1lbnQiLAopKQoKREIoQ2l0YXRpb24oCiAgICBtZXNzbmFyejIwMTFhLCBtZXNzbmFyejE5OTlhLCByZWY9IiIsCiAgICBjb250ZXh0cz1bCgogICAgXSwKKSkKCicnJywgY2l0YXRpb25zPSdtZXNzbmFyejE5OTlhJyk7\"));\n",
       "    "
      ],
      "text/plain": [
       "<IPython.core.display.Javascript object>"
      ]
     },
     "metadata": {},
     "output_type": "display_data"
    },
    {
     "data": {
      "application/javascript": [
       "$('span:contains(\"# Temp\")').closest('.cell').remove();"
      ],
      "text/plain": [
       "<IPython.core.display.Javascript object>"
      ]
     },
     "metadata": {},
     "output_type": "display_data"
    },
    {
     "data": {
      "application/javascript": [
       "\n",
       "        $('span:contains(\"# Temp\")').closest('.cell').remove();\n",
       "        var code = IPython.notebook.insert_cell_below('code');\n",
       "        code.set_text(atob(\"IyBUZW1wCmluc2VydCgnJycKbWVzc25hcnoyMDExYSA9IERCKFdvcmtVbnJlbGF0ZWQoCiAgICAyMDExLCAiRXh0ZW5kaW5nIGF1dG9tb3RpdmUgU1BJQ0UgdG8gY292ZXIgZnVuY3Rpb25hbCBzYWZldHkgcmVxdWlyZW1lbnRzIGFuZCBhIHNhZmV0eSBhcmNoaXRlY3R1cmUiLAogICAgZGlzcGxheT0ibWVzc25hcnoiLAogICAgYXV0aG9ycz0iTWVzc25hcnosIFJpY2hhcmQgYW5kIFNva2ljLCBJdmFuIGFuZCBIYWJlbCwgU3RlcGhhbiBhbmQgS/ZuaWcsIEZyYW5rIGFuZCBCYWNobWFubiwgT3ZpIiwKICAgIHBsYWNlPUZBS0UsCiAgICBwcD0iMjk4LS0zMDciLAogICAgZW50cnl0eXBlPSJpbnByb2NlZWRpbmdzIiwKICAgIG9yZ2FuaXphdGlvbj0iU3ByaW5nZXIiLAogICAgSUQ9Im1lc3NuYXJ6MjAxMWV4dGVuZGluZyIsCiAgICBjbHVzdGVyX2lkPSI5MTYyMzcwODYxMDE2MzExNDI3IiwKICAgIHNjaG9sYXI9Imh0dHA6Ly9zY2hvbGFyLmdvb2dsZS5jb20vc2Nob2xhcj9jaXRlcz05MTYyMzcwODYxMDE2MzExNDI3JmFzX3NkdD0yMDA1JnNjaW9kdD0wLDUmaGw9ZW4iLAogICAgcGxhY2V4PSJFdXJvcGVhbiBDb25mZXJlbmNlIG9uIFNvZnR3YXJlIFByb2Nlc3MgSW1wcm92ZW1lbnQiLAopKQoKREIoQ2l0YXRpb24oCiAgICBtZXNzbmFyejIwMTFhLCBtZXNzbmFyejE5OTlhLCByZWY9IiIsCiAgICBjb250ZXh0cz1bCgogICAgXSwKKSkKCicnJywgY2l0YXRpb25zPSdtZXNzbmFyejE5OTlhJyk7\"));\n",
       "    "
      ],
      "text/plain": [
       "<IPython.core.display.Javascript object>"
      ]
     },
     "metadata": {},
     "output_type": "display_data"
    },
    {
     "data": {
      "application/javascript": [
       "$('span:contains(\"# Temp\")').closest('.cell').remove();"
      ],
      "text/plain": [
       "<IPython.core.display.Javascript object>"
      ]
     },
     "metadata": {},
     "output_type": "display_data"
    },
    {
     "data": {
      "application/javascript": [
       "\n",
       "        $('span:contains(\"# Temp\")').closest('.cell').remove();\n",
       "        var code = IPython.notebook.insert_cell_below('code');\n",
       "        code.set_text(atob(\"IyBUZW1wCmluc2VydCgnJycKbWVzc25hcnoyMDA2YSA9IERCKFdvcmtVbnJlbGF0ZWQoCiAgICAyMDA2LCAiU29mdHdhcmUgcHJvY2VzcyBpbXByb3ZlbWVudC0tRXVyb1NQSSAyMDA2IGNvbmZlcmVuY2UiLAogICAgZGlzcGxheT0ibWVzc25hcnoiLAogICAgYXV0aG9ycz0iTWVzc25hcnosIFJpY2hhcmQgYW5kIFJpY2hhcmRzb24sIEl0YSBhbmQgUnVuZXNvbiwgUGVyIiwKICAgIHBsYWNlPUZBS0UsCiAgICBwcD0iMS0tNCIsCiAgICBlbnRyeXR5cGU9ImlucHJvY2VlZGluZ3MiLAogICAgb3JnYW5pemF0aW9uPSJTcHJpbmdlciIsCiAgICBJRD0ibWVzc25hcnoyMDA2c29mdHdhcmUiLAogICAgY2x1c3Rlcl9pZD0iNDgxNzg4MDgwOTkxNDM0MzA1MCIsCiAgICBzY2hvbGFyPSJodHRwOi8vc2Nob2xhci5nb29nbGUuY29tL3NjaG9sYXI/Y2l0ZXM9NDgxNzg4MDgwOTkxNDM0MzA1MCZhc19zZHQ9MjAwNSZzY2lvZHQ9MCw1JmhsPWVuIiwKICAgIHBsYWNleD0iRXVyb3BlYW4gQ29uZmVyZW5jZSBvbiBTb2Z0d2FyZSBQcm9jZXNzIEltcHJvdmVtZW50IiwKKSkKCkRCKENpdGF0aW9uKAogICAgbWVzc25hcnoyMDA2YSwgbWVzc25hcnoxOTk5YSwgcmVmPSIiLAogICAgY29udGV4dHM9WwoKICAgIF0sCikpCgonJycsIGNpdGF0aW9ucz0nbWVzc25hcnoxOTk5YScpOw==\"));\n",
       "    "
      ],
      "text/plain": [
       "<IPython.core.display.Javascript object>"
      ]
     },
     "metadata": {},
     "output_type": "display_data"
    },
    {
     "data": {
      "application/javascript": [
       "$('span:contains(\"# Temp\")').closest('.cell').remove();"
      ],
      "text/plain": [
       "<IPython.core.display.Javascript object>"
      ]
     },
     "metadata": {},
     "output_type": "display_data"
    },
    {
     "data": {
      "application/javascript": [
       "\n",
       "        $('span:contains(\"# Temp\")').closest('.cell').remove();\n",
       "        var code = IPython.notebook.insert_cell_below('code');\n",
       "        code.set_text(atob(\"IyBUZW1wCmluc2VydCgnJycKbWVzc25hcnoyMDA2YSA9IERCKFdvcmtVbnJlbGF0ZWQoCiAgICAyMDA2LCAiU29mdHdhcmUgcHJvY2VzcyBpbXByb3ZlbWVudC0tRXVyb1NQSSAyMDA2IGNvbmZlcmVuY2UiLAogICAgZGlzcGxheT0ibWVzc25hcnoiLAogICAgYXV0aG9ycz0iTWVzc25hcnosIFJpY2hhcmQgYW5kIFJpY2hhcmRzb24sIEl0YSBhbmQgUnVuZXNvbiwgUGVyIiwKICAgIHBsYWNlPUZBS0UsCiAgICBwcD0iMS0tNCIsCiAgICBlbnRyeXR5cGU9ImlucHJvY2VlZGluZ3MiLAogICAgb3JnYW5pemF0aW9uPSJTcHJpbmdlciIsCiAgICBJRD0ibWVzc25hcnoyMDA2c29mdHdhcmUiLAogICAgY2x1c3Rlcl9pZD0iNDgxNzg4MDgwOTkxNDM0MzA1MCIsCiAgICBzY2hvbGFyPSJodHRwOi8vc2Nob2xhci5nb29nbGUuY29tL3NjaG9sYXI/Y2l0ZXM9NDgxNzg4MDgwOTkxNDM0MzA1MCZhc19zZHQ9MjAwNSZzY2lvZHQ9MCw1JmhsPWVuIiwKICAgIHBsYWNleD0iRXVyb3BlYW4gQ29uZmVyZW5jZSBvbiBTb2Z0d2FyZSBQcm9jZXNzIEltcHJvdmVtZW50IiwKKSkKCkRCKENpdGF0aW9uKAogICAgbWVzc25hcnoyMDA2YSwgbWVzc25hcnoxOTk5YSwgcmVmPSIiLAogICAgY29udGV4dHM9WwoKICAgIF0sCikpCgonJycsIGNpdGF0aW9ucz0nbWVzc25hcnoxOTk5YScpOw==\"));\n",
       "    "
      ],
      "text/plain": [
       "<IPython.core.display.Javascript object>"
      ]
     },
     "metadata": {},
     "output_type": "display_data"
    },
    {
     "data": {
      "application/javascript": [
       "$('span:contains(\"# Temp\")').closest('.cell').remove();"
      ],
      "text/plain": [
       "<IPython.core.display.Javascript object>"
      ]
     },
     "metadata": {},
     "output_type": "display_data"
    },
    {
     "data": {
      "application/javascript": [
       "\n",
       "        $('span:contains(\"# Temp\")').closest('.cell').remove();\n",
       "        var code = IPython.notebook.insert_cell_below('code');\n",
       "        code.set_text(atob(\"IyBUZW1wCmluc2VydCgnJycKbWVzc25hcnoyMDEwYSA9IERCKFdvcmtVbnJlbGF0ZWQoCiAgICAyMDEwLCAiU1BJQ0UgTGV2ZWwgMy1FeHBlcmllbmNlIHdpdGggVXNpbmcgRS1MZWFybmluZyB0byBDb2FjaCB0aGUgVXNlIG9mIFN0YW5kYXJkIFN5c3RlbSBEZXNpZ24gQmVzdCBQcmFjdGljZXMgaW4gUHJvamVjdHMiLAogICAgZGlzcGxheT0ibWVzc25hcnoiLAogICAgYXV0aG9ycz0iTWVzc25hcnosIFJpY2hhcmQgYW5kIEJhY2htYW5uLCBPdmkgYW5kIEVrZXJ0LCBEYW1qYW4gYW5kIFJpZWwsIEFuZHJlYXMiLAogICAgcGxhY2U9RkFLRSwKICAgIHBwPSIyMTMtLTIyMSIsCiAgICBlbnRyeXR5cGU9ImlucHJvY2VlZGluZ3MiLAogICAgb3JnYW5pemF0aW9uPSJTcHJpbmdlciIsCiAgICBJRD0ibWVzc25hcnoyMDEwc3BpY2UiLAogICAgY2x1c3Rlcl9pZD0iMTY2ODEwODM1Njg2OTc5ODAxNjEiLAogICAgc2Nob2xhcj0iaHR0cDovL3NjaG9sYXIuZ29vZ2xlLmNvbS9zY2hvbGFyP2NpdGVzPTE2NjgxMDgzNTY4Njk3OTgwMTYxJmFzX3NkdD0yMDA1JnNjaW9kdD0wLDUmaGw9ZW4iLAogICAgcGxhY2V4PSJFdXJvcGVhbiBDb25mZXJlbmNlIG9uIFNvZnR3YXJlIFByb2Nlc3MgSW1wcm92ZW1lbnQiLAopKQoKREIoQ2l0YXRpb24oCiAgICBtZXNzbmFyejIwMTBhLCBtZXNzbmFyejE5OTlhLCByZWY9IiIsCiAgICBjb250ZXh0cz1bCgogICAgXSwKKSkKCicnJywgY2l0YXRpb25zPSdtZXNzbmFyejE5OTlhJyk7\"));\n",
       "    "
      ],
      "text/plain": [
       "<IPython.core.display.Javascript object>"
      ]
     },
     "metadata": {},
     "output_type": "display_data"
    },
    {
     "data": {
      "application/javascript": [
       "$('span:contains(\"# Temp\")').closest('.cell').remove();"
      ],
      "text/plain": [
       "<IPython.core.display.Javascript object>"
      ]
     },
     "metadata": {},
     "output_type": "display_data"
    },
    {
     "data": {
      "application/javascript": [
       "\n",
       "        $('span:contains(\"# Temp\")').closest('.cell').remove();\n",
       "        var code = IPython.notebook.insert_cell_below('code');\n",
       "        code.set_text(atob(\"IyBUZW1wCmluc2VydCgnJycKbWVzc25hcnoyMDEwYSA9IERCKFdvcmtVbnJlbGF0ZWQoCiAgICAyMDEwLCAiU1BJQ0UgTGV2ZWwgMy1FeHBlcmllbmNlIHdpdGggVXNpbmcgRS1MZWFybmluZyB0byBDb2FjaCB0aGUgVXNlIG9mIFN0YW5kYXJkIFN5c3RlbSBEZXNpZ24gQmVzdCBQcmFjdGljZXMgaW4gUHJvamVjdHMiLAogICAgZGlzcGxheT0ibWVzc25hcnoiLAogICAgYXV0aG9ycz0iTWVzc25hcnosIFJpY2hhcmQgYW5kIEJhY2htYW5uLCBPdmkgYW5kIEVrZXJ0LCBEYW1qYW4gYW5kIFJpZWwsIEFuZHJlYXMiLAogICAgcGxhY2U9RkFLRSwKICAgIHBwPSIyMTMtLTIyMSIsCiAgICBlbnRyeXR5cGU9ImlucHJvY2VlZGluZ3MiLAogICAgb3JnYW5pemF0aW9uPSJTcHJpbmdlciIsCiAgICBJRD0ibWVzc25hcnoyMDEwc3BpY2UiLAogICAgY2x1c3Rlcl9pZD0iMTY2ODEwODM1Njg2OTc5ODAxNjEiLAogICAgc2Nob2xhcj0iaHR0cDovL3NjaG9sYXIuZ29vZ2xlLmNvbS9zY2hvbGFyP2NpdGVzPTE2NjgxMDgzNTY4Njk3OTgwMTYxJmFzX3NkdD0yMDA1JnNjaW9kdD0wLDUmaGw9ZW4iLAogICAgcGxhY2V4PSJFdXJvcGVhbiBDb25mZXJlbmNlIG9uIFNvZnR3YXJlIFByb2Nlc3MgSW1wcm92ZW1lbnQiLAopKQoKREIoQ2l0YXRpb24oCiAgICBtZXNzbmFyejIwMTBhLCBtZXNzbmFyejE5OTlhLCByZWY9IiIsCiAgICBjb250ZXh0cz1bCgogICAgXSwKKSkKCicnJywgY2l0YXRpb25zPSdtZXNzbmFyejE5OTlhJyk7\"));\n",
       "    "
      ],
      "text/plain": [
       "<IPython.core.display.Javascript object>"
      ]
     },
     "metadata": {},
     "output_type": "display_data"
    },
    {
     "data": {
      "application/javascript": [
       "$('span:contains(\"# Temp\")').closest('.cell').remove();"
      ],
      "text/plain": [
       "<IPython.core.display.Javascript object>"
      ]
     },
     "metadata": {},
     "output_type": "display_data"
    },
    {
     "data": {
      "application/javascript": [
       "\n",
       "        $('span:contains(\"# Temp\")').closest('.cell').remove();\n",
       "        var code = IPython.notebook.insert_cell_below('code');\n",
       "        code.set_text(atob(\"IyBUZW1wCmluc2VydCgnJycKYmFyYWZvcnQyMDExYSA9IERCKFdvcmtVbnJlbGF0ZWQoCiAgICAyMDExLCAiU3lzdGVtcywgU29mdHdhcmUgYW5kIFNlcnZpY2VzIFByb2Nlc3MgSW1wcm92ZW1lbnQiLAogICAgZGlzcGxheT0iYmFyYWZvcnQiLAogICAgYXV0aG9ycz0iQmFyYWZvcnQsIEJlYXRyaXggYW5kIE+SQ29ubm9yLCBSb3J5IFYgYW5kIE1lc3NuYXJ6LCBSIiwKICAgIHBsYWNlPUNDSVMsCiAgICBlbnRyeXR5cGU9ImFydGljbGUiLAogICAgdm9sdW1lPSI0MjUiLAogICAgcHVibGlzaGVyPSJTcHJpbmdlciIsCiAgICBJRD0iYmFyYWZvcnQyMDExc3lzdGVtcyIsCiAgICBjbHVzdGVyX2lkPSIzMDc5MDM1Njc2MTY5NjM2MjE5IiwKICAgIHNjaG9sYXI9Imh0dHA6Ly9zY2hvbGFyLmdvb2dsZS5jb20vc2Nob2xhcj9jaXRlcz0zMDc5MDM1Njc2MTY5NjM2MjE5JmFzX3NkdD0yMDA1JnNjaW9kdD0wLDUmaGw9ZW4iLAogICAgcGxhY2V4PSJDb21tdW5pY2F0aW9ucyBpbiBDb21wdXRlciBhbmQgSW5mb3JtYXRpb24gU2NpZW5jZSIsCikpCgpEQihDaXRhdGlvbigKICAgIGJhcmFmb3J0MjAxMWEsIG1lc3NuYXJ6MTk5OWEsIHJlZj0iIiwKICAgIGNvbnRleHRzPVsKCiAgICBdLAopKQoKJycnLCBjaXRhdGlvbnM9J21lc3NuYXJ6MTk5OWEnKTs=\"));\n",
       "    "
      ],
      "text/plain": [
       "<IPython.core.display.Javascript object>"
      ]
     },
     "metadata": {},
     "output_type": "display_data"
    },
    {
     "data": {
      "application/javascript": [
       "$('span:contains(\"# Temp\")').closest('.cell').remove();"
      ],
      "text/plain": [
       "<IPython.core.display.Javascript object>"
      ]
     },
     "metadata": {},
     "output_type": "display_data"
    },
    {
     "data": {
      "application/javascript": [
       "\n",
       "        $('span:contains(\"# Temp\")').closest('.cell').remove();\n",
       "        var code = IPython.notebook.insert_cell_below('code');\n",
       "        code.set_text(atob(\"IyBUZW1wCmluc2VydCgnJycKYmFyYWZvcnQyMDExYSA9IERCKFdvcmtVbnJlbGF0ZWQoCiAgICAyMDExLCAiU3lzdGVtcywgU29mdHdhcmUgYW5kIFNlcnZpY2VzIFByb2Nlc3MgSW1wcm92ZW1lbnQiLAogICAgZGlzcGxheT0iYmFyYWZvcnQiLAogICAgYXV0aG9ycz0iQmFyYWZvcnQsIEJlYXRyaXggYW5kIE+SQ29ubm9yLCBSb3J5IFYgYW5kIE1lc3NuYXJ6LCBSIiwKICAgIHBsYWNlPUNDSVMsCiAgICBlbnRyeXR5cGU9ImFydGljbGUiLAogICAgdm9sdW1lPSI0MjUiLAogICAgcHVibGlzaGVyPSJTcHJpbmdlciIsCiAgICBJRD0iYmFyYWZvcnQyMDExc3lzdGVtcyIsCiAgICBjbHVzdGVyX2lkPSIzMDc5MDM1Njc2MTY5NjM2MjE5IiwKICAgIHNjaG9sYXI9Imh0dHA6Ly9zY2hvbGFyLmdvb2dsZS5jb20vc2Nob2xhcj9jaXRlcz0zMDc5MDM1Njc2MTY5NjM2MjE5JmFzX3NkdD0yMDA1JnNjaW9kdD0wLDUmaGw9ZW4iLAogICAgcGxhY2V4PSJDb21tdW5pY2F0aW9ucyBpbiBDb21wdXRlciBhbmQgSW5mb3JtYXRpb24gU2NpZW5jZSIsCikpCgpEQihDaXRhdGlvbigKICAgIGJhcmFmb3J0MjAxMWEsIG1lc3NuYXJ6MTk5OWEsIHJlZj0iIiwKICAgIGNvbnRleHRzPVsKCiAgICBdLAopKQoKJycnLCBjaXRhdGlvbnM9J21lc3NuYXJ6MTk5OWEnKTs=\"));\n",
       "    "
      ],
      "text/plain": [
       "<IPython.core.display.Javascript object>"
      ]
     },
     "metadata": {},
     "output_type": "display_data"
    },
    {
     "data": {
      "application/javascript": [
       "$('span:contains(\"# Temp\")').closest('.cell').remove();"
      ],
      "text/plain": [
       "<IPython.core.display.Javascript object>"
      ]
     },
     "metadata": {},
     "output_type": "display_data"
    },
    {
     "data": {
      "application/javascript": [
       "\n",
       "        $('span:contains(\"# Temp\")').closest('.cell').remove();\n",
       "        var code = IPython.notebook.insert_cell_below('code');\n",
       "        code.set_text(atob(\"IyBUZW1wCmluc2VydCgnJycKbWVzc25hcnoyMDExYiA9IERCKFdvcmtVbnJlbGF0ZWQoCiAgICAyMDExLCAiVGhlIEZ1dHVyZSBvZiBTUEkgS25vd2xlZGdlIGFuZCBOZXR3b3JraW5nIGluIEV1cm9wZS0tQSBWaXNpb24iLAogICAgZGlzcGxheT0ibWVzc25hcnogYiIsCiAgICBhdXRob3JzPSJNZXNzbmFyeiwgUmljaGFyZCBhbmQgQmly8ywgTWlrbPNzIGFuZCBLb2luaWcsIFNvbmphIGFuZCBSZWluZXIsIE1pY2hhZWwgYW5kIFZhamRlLUhvcnZhdCwgUm9tYW5hIGFuZCBFa2VydCwgRGFtamFuIiwKICAgIHBsYWNlPUZBS0UsCiAgICBwcD0iMjY4LS0yNzciLAogICAgZW50cnl0eXBlPSJpbnByb2NlZWRpbmdzIiwKICAgIG9yZ2FuaXphdGlvbj0iU3ByaW5nZXIiLAogICAgSUQ9Im1lc3NuYXJ6MjAxMWZ1dHVyZSIsCiAgICBjbHVzdGVyX2lkPSIxMjU4OTk5MzczMzM5NjA3NjAxNyIsCiAgICBzY2hvbGFyPSJodHRwOi8vc2Nob2xhci5nb29nbGUuY29tL3NjaG9sYXI/Y2l0ZXM9MTI1ODk5OTM3MzMzOTYwNzYwMTcmYXNfc2R0PTIwMDUmc2Npb2R0PTAsNSZobD1lbiIsCiAgICBwbGFjZXg9IkV1cm9wZWFuIENvbmZlcmVuY2Ugb24gU29mdHdhcmUgUHJvY2VzcyBJbXByb3ZlbWVudCIsCikpCgpEQihDaXRhdGlvbigKICAgIG1lc3NuYXJ6MjAxMWIsIG1lc3NuYXJ6MTk5OWEsIHJlZj0iIiwKICAgIGNvbnRleHRzPVsKCiAgICBdLAopKQoKJycnLCBjaXRhdGlvbnM9J21lc3NuYXJ6MTk5OWEnKTs=\"));\n",
       "    "
      ],
      "text/plain": [
       "<IPython.core.display.Javascript object>"
      ]
     },
     "metadata": {},
     "output_type": "display_data"
    },
    {
     "data": {
      "application/javascript": [
       "$('span:contains(\"# Temp\")').closest('.cell').remove();"
      ],
      "text/plain": [
       "<IPython.core.display.Javascript object>"
      ]
     },
     "metadata": {},
     "output_type": "display_data"
    },
    {
     "data": {
      "application/javascript": [
       "\n",
       "        $('span:contains(\"# Temp\")').closest('.cell').remove();\n",
       "        var code = IPython.notebook.insert_cell_below('code');\n",
       "        code.set_text(atob(\"IyBUZW1wCmluc2VydCgnJycKbWVzc25hcnoyMDExYiA9IERCKFdvcmtVbnJlbGF0ZWQoCiAgICAyMDExLCAiVGhlIEZ1dHVyZSBvZiBTUEkgS25vd2xlZGdlIGFuZCBOZXR3b3JraW5nIGluIEV1cm9wZS0tQSBWaXNpb24iLAogICAgZGlzcGxheT0ibWVzc25hcnogYiIsCiAgICBhdXRob3JzPSJNZXNzbmFyeiwgUmljaGFyZCBhbmQgQmly8ywgTWlrbPNzIGFuZCBLb2luaWcsIFNvbmphIGFuZCBSZWluZXIsIE1pY2hhZWwgYW5kIFZhamRlLUhvcnZhdCwgUm9tYW5hIGFuZCBFa2VydCwgRGFtamFuIiwKICAgIHBsYWNlPUZBS0UsCiAgICBwcD0iMjY4LS0yNzciLAogICAgZW50cnl0eXBlPSJpbnByb2NlZWRpbmdzIiwKICAgIG9yZ2FuaXphdGlvbj0iU3ByaW5nZXIiLAogICAgSUQ9Im1lc3NuYXJ6MjAxMWZ1dHVyZSIsCiAgICBjbHVzdGVyX2lkPSIxMjU4OTk5MzczMzM5NjA3NjAxNyIsCiAgICBzY2hvbGFyPSJodHRwOi8vc2Nob2xhci5nb29nbGUuY29tL3NjaG9sYXI/Y2l0ZXM9MTI1ODk5OTM3MzMzOTYwNzYwMTcmYXNfc2R0PTIwMDUmc2Npb2R0PTAsNSZobD1lbiIsCiAgICBwbGFjZXg9IkV1cm9wZWFuIENvbmZlcmVuY2Ugb24gU29mdHdhcmUgUHJvY2VzcyBJbXByb3ZlbWVudCIsCikpCgpEQihDaXRhdGlvbigKICAgIG1lc3NuYXJ6MjAxMWIsIG1lc3NuYXJ6MTk5OWEsIHJlZj0iIiwKICAgIGNvbnRleHRzPVsKCiAgICBdLAopKQoKJycnLCBjaXRhdGlvbnM9J21lc3NuYXJ6MTk5OWEnKTs=\"));\n",
       "    "
      ],
      "text/plain": [
       "<IPython.core.display.Javascript object>"
      ]
     },
     "metadata": {},
     "output_type": "display_data"
    },
    {
     "data": {
      "application/javascript": [
       "$('span:contains(\"# Temp\")').closest('.cell').remove();"
      ],
      "text/plain": [
       "<IPython.core.display.Javascript object>"
      ]
     },
     "metadata": {},
     "output_type": "display_data"
    },
    {
     "data": {
      "application/javascript": [
       "\n",
       "        $('span:contains(\"# Temp\")').closest('.cell').remove();\n",
       "        var code = IPython.notebook.insert_cell_below('code');\n",
       "        code.set_text(atob(\"IyBUZW1wCmluc2VydCgnJycKcmllbDIwMTBiID0gREIoV29ya1VucmVsYXRlZCgKICAgIDIwMTAsICJTeXN0ZW1zLCBTb2Z0d2FyZSBhbmQgU2VydmljZXMgUHJvY2VzcyBJbXByb3ZlbWVudCIsCiAgICBkaXNwbGF5PSJyaWVsIGIiLAogICAgYXV0aG9ycz0iUmllbCwgQW5kcmVhcyBhbmQgT5JDb25ub3IsIFJvcnkgYW5kIFRpY2hraWV3aXRjaCwgU2VyZ2UgYW5kIE1lc3NuYXJ6LCBSaWNoYXJkIGFuZCBNdXNhdCwgRCBhbmQgQ2FzdGHxbywgViBhbmQgQ2Fsdm8tTWFuemFubywgSkEiLAogICAgcGxhY2U9Q0NJUywKICAgIHBwPSIyODAtLTI4OSIsCiAgICBlbnRyeXR5cGU9ImFydGljbGUiLAogICAgdm9sdW1lPSI5OSIsCiAgICBwdWJsaXNoZXI9IlNwcmluZ2VyIiwKICAgIElEPSJyaWVsMjAxMHN5c3RlbXMiLAogICAgY2x1c3Rlcl9pZD0iOTE0MjkxNjU1MTM4NDc5MzQyIiwKICAgIHNjaG9sYXI9Imh0dHA6Ly9zY2hvbGFyLmdvb2dsZS5jb20vc2Nob2xhcj9jaXRlcz05MTQyOTE2NTUxMzg0NzkzNDImYXNfc2R0PTIwMDUmc2Npb2R0PTAsNSZobD1lbiIsCiAgICBwbGFjZXg9IkNDSVMiLAopKQoKREIoQ2l0YXRpb24oCiAgICByaWVsMjAxMGIsIG1lc3NuYXJ6MTk5OWEsIHJlZj0iIiwKICAgIGNvbnRleHRzPVsKCiAgICBdLAopKQoKJycnLCBjaXRhdGlvbnM9J21lc3NuYXJ6MTk5OWEnKTs=\"));\n",
       "    "
      ],
      "text/plain": [
       "<IPython.core.display.Javascript object>"
      ]
     },
     "metadata": {},
     "output_type": "display_data"
    },
    {
     "data": {
      "application/javascript": [
       "$('span:contains(\"# Temp\")').closest('.cell').remove();"
      ],
      "text/plain": [
       "<IPython.core.display.Javascript object>"
      ]
     },
     "metadata": {},
     "output_type": "display_data"
    },
    {
     "data": {
      "application/javascript": [
       "\n",
       "        $('span:contains(\"# Temp\")').closest('.cell').remove();\n",
       "        var code = IPython.notebook.insert_cell_below('code');\n",
       "        code.set_text(atob(\"IyBUZW1wCmluc2VydCgnJycKcmllbDIwMTBiID0gREIoV29ya1VucmVsYXRlZCgKICAgIDIwMTAsICJTeXN0ZW1zLCBTb2Z0d2FyZSBhbmQgU2VydmljZXMgUHJvY2VzcyBJbXByb3ZlbWVudCIsCiAgICBkaXNwbGF5PSJyaWVsIGIiLAogICAgYXV0aG9ycz0iUmllbCwgQW5kcmVhcyBhbmQgT5JDb25ub3IsIFJvcnkgYW5kIFRpY2hraWV3aXRjaCwgU2VyZ2UgYW5kIE1lc3NuYXJ6LCBSaWNoYXJkIGFuZCBNdXNhdCwgRCBhbmQgQ2FzdGHxbywgViBhbmQgQ2Fsdm8tTWFuemFubywgSkEiLAogICAgcGxhY2U9Q0NJUywKICAgIHBwPSIyODAtLTI4OSIsCiAgICBlbnRyeXR5cGU9ImFydGljbGUiLAogICAgdm9sdW1lPSI5OSIsCiAgICBwdWJsaXNoZXI9IlNwcmluZ2VyIiwKICAgIElEPSJyaWVsMjAxMHN5c3RlbXMiLAogICAgY2x1c3Rlcl9pZD0iOTE0MjkxNjU1MTM4NDc5MzQyIiwKICAgIHNjaG9sYXI9Imh0dHA6Ly9zY2hvbGFyLmdvb2dsZS5jb20vc2Nob2xhcj9jaXRlcz05MTQyOTE2NTUxMzg0NzkzNDImYXNfc2R0PTIwMDUmc2Npb2R0PTAsNSZobD1lbiIsCiAgICBwbGFjZXg9IkNDSVMiLAopKQoKREIoQ2l0YXRpb24oCiAgICByaWVsMjAxMGIsIG1lc3NuYXJ6MTk5OWEsIHJlZj0iIiwKICAgIGNvbnRleHRzPVsKCiAgICBdLAopKQoKJycnLCBjaXRhdGlvbnM9J21lc3NuYXJ6MTk5OWEnKTs=\"));\n",
       "    "
      ],
      "text/plain": [
       "<IPython.core.display.Javascript object>"
      ]
     },
     "metadata": {},
     "output_type": "display_data"
    },
    {
     "data": {
      "application/javascript": [
       "$('span:contains(\"# Temp\")').closest('.cell').remove();"
      ],
      "text/plain": [
       "<IPython.core.display.Javascript object>"
      ]
     },
     "metadata": {},
     "output_type": "display_data"
    },
    {
     "data": {
      "application/javascript": [
       "\n",
       "        $('span:contains(\"# Temp\")').closest('.cell').remove();\n",
       "        var code = IPython.notebook.insert_cell_below('code');\n",
       "        code.set_text(atob(\"IyBUZW1wCmluc2VydCgnJycKbWNjYWZmZXJ5MjAxM2EgPSBEQihXb3JrVW5yZWxhdGVkKAogICAgMjAxMywgIlN5c3RlbXMsIFNvZnR3YXJlIGFuZCBTZXJ2aWNlcyBQcm9jZXNzIEltcHJvdmVtZW50OiAyMHRoIEV1cm9wZWFuIENvbmZlcmVuY2UsIEV1cm9TUEkgMjAxMywgRHVuZGFsaywgSXJlbGFuZCwgSnVuZSAyNS0yNywgMjAxMy4gUHJvY2VlZGluZ3MiLAogICAgZGlzcGxheT0ibWNjYWZmZXJ5IiwKICAgIGF1dGhvcnM9Ik1jQ2FmZmVyeSwgRmVyZ2FsIGFuZCBPkkNvbm5vciwgUm9yeSBWIGFuZCBNZXNzbmFyeiwgUmljaGFyZCIsCiAgICBwbGFjZT1Cb29rLAogICAgZW50cnl0eXBlPSJib29rIiwKICAgIHZvbHVtZT0iMzY0IiwKICAgIHB1Ymxpc2hlcj0iU3ByaW5nZXIiLAogICAgSUQ9Im1jY2FmZmVyeTIwMTNzeXN0ZW1zIiwKICAgIGNsdXN0ZXJfaWQ9IjE4MjA0MTc1ODc3NjA0MTI2NDQ2IiwKICAgIHNjaG9sYXI9Imh0dHA6Ly9zY2hvbGFyLmdvb2dsZS5jb20vc2Nob2xhcj9jaXRlcz0xODIwNDE3NTg3NzYwNDEyNjQ0NiZhc19zZHQ9MjAwNSZzY2lvZHQ9MCw1JmhsPWVuIiwKICAgIHBsYWNleD0iIiwKKSkKCkRCKENpdGF0aW9uKAogICAgbWNjYWZmZXJ5MjAxM2EsIG1lc3NuYXJ6MTk5OWEsIHJlZj0iIiwKICAgIGNvbnRleHRzPVsKCiAgICBdLAopKQoKJycnLCBjaXRhdGlvbnM9J21lc3NuYXJ6MTk5OWEnKTs=\"));\n",
       "    "
      ],
      "text/plain": [
       "<IPython.core.display.Javascript object>"
      ]
     },
     "metadata": {},
     "output_type": "display_data"
    },
    {
     "data": {
      "application/javascript": [
       "$('span:contains(\"# Temp\")').closest('.cell').remove();"
      ],
      "text/plain": [
       "<IPython.core.display.Javascript object>"
      ]
     },
     "metadata": {},
     "output_type": "display_data"
    },
    {
     "data": {
      "application/javascript": [
       "\n",
       "        $('span:contains(\"# Temp\")').closest('.cell').remove();\n",
       "        var code = IPython.notebook.insert_cell_below('code');\n",
       "        code.set_text(atob(\"IyBUZW1wCmluc2VydCgnJycKbWNjYWZmZXJ5MjAxM2EgPSBEQihXb3JrVW5yZWxhdGVkKAogICAgMjAxMywgIlN5c3RlbXMsIFNvZnR3YXJlIGFuZCBTZXJ2aWNlcyBQcm9jZXNzIEltcHJvdmVtZW50OiAyMHRoIEV1cm9wZWFuIENvbmZlcmVuY2UsIEV1cm9TUEkgMjAxMywgRHVuZGFsaywgSXJlbGFuZCwgSnVuZSAyNS0yNywgMjAxMy4gUHJvY2VlZGluZ3MiLAogICAgZGlzcGxheT0ibWNjYWZmZXJ5IiwKICAgIGF1dGhvcnM9Ik1jQ2FmZmVyeSwgRmVyZ2FsIGFuZCBPkkNvbm5vciwgUm9yeSBWIGFuZCBNZXNzbmFyeiwgUmljaGFyZCIsCiAgICBwbGFjZT1Cb29rLAogICAgZW50cnl0eXBlPSJib29rIiwKICAgIHZvbHVtZT0iMzY0IiwKICAgIHB1Ymxpc2hlcj0iU3ByaW5nZXIiLAogICAgSUQ9Im1jY2FmZmVyeTIwMTNzeXN0ZW1zIiwKICAgIGNsdXN0ZXJfaWQ9IjE4MjA0MTc1ODc3NjA0MTI2NDQ2IiwKICAgIHNjaG9sYXI9Imh0dHA6Ly9zY2hvbGFyLmdvb2dsZS5jb20vc2Nob2xhcj9jaXRlcz0xODIwNDE3NTg3NzYwNDEyNjQ0NiZhc19zZHQ9MjAwNSZzY2lvZHQ9MCw1JmhsPWVuIiwKICAgIHBsYWNleD0iIiwKKSkKCkRCKENpdGF0aW9uKAogICAgbWNjYWZmZXJ5MjAxM2EsIG1lc3NuYXJ6MTk5OWEsIHJlZj0iIiwKICAgIGNvbnRleHRzPVsKCiAgICBdLAopKQoKJycnLCBjaXRhdGlvbnM9J21lc3NuYXJ6MTk5OWEnKTs=\"));\n",
       "    "
      ],
      "text/plain": [
       "<IPython.core.display.Javascript object>"
      ]
     },
     "metadata": {},
     "output_type": "display_data"
    },
    {
     "data": {
      "application/javascript": [
       "$('span:contains(\"# Temp\")').closest('.cell').remove();"
      ],
      "text/plain": [
       "<IPython.core.display.Javascript object>"
      ]
     },
     "metadata": {},
     "output_type": "display_data"
    },
    {
     "data": {
      "application/javascript": [
       "\n",
       "        $('span:contains(\"# Temp\")').closest('.cell').remove();\n",
       "        var code = IPython.notebook.insert_cell_below('code');\n",
       "        code.set_text(atob(\"IyBUZW1wCmluc2VydCgnJycKZW1hbTIwMDFjID0gREIoV29ya1VucmVsYXRlZCgKICAgIDIwMDEsICJEZXNjcmlwdGlvbiBvZiB0aGUgU1dFQk9LIEtub3dsZWRnZSBBcmVhIFNvZnR3YXJlIEVuZ2luZWVyaW5nIFByb2Nlc3MgKFZlcnNpb24gMC45KSIsCiAgICBkaXNwbGF5PSJlbWFtIGMiLAogICAgYXV0aG9ycz0iRWwgRW1hbSwgS2hhbGVkIiwKICAgIHBsYWNlPUJvb2ssCiAgICBlbnRyeXR5cGU9ImJvb2siLAogICAgcHVibGlzaGVyPSJJbnN0aXR1dGUgZm9yIEluZm9ybWF0aW9uIFRlY2hub2xvZ3ksIE5hdGlvbmFsIFJlc2VhcmNoIENvdW5jaWwgb2YgQ2FuYWRhIiwKICAgIElEPSJlbDIwMDFkZXNjcmlwdGlvbiIsCiAgICBjbHVzdGVyX2lkPSI0ODg2NzIyNzc0ODY3NDI1NDAyIiwKICAgIHNjaG9sYXI9Imh0dHA6Ly9zY2hvbGFyLmdvb2dsZS5jb20vc2Nob2xhcj9jaXRlcz00ODg2NzIyNzc0ODY3NDI1NDAyJmFzX3NkdD0yMDA1JnNjaW9kdD0wLDUmaGw9ZW4iLAogICAgcGxhY2V4PSIiLAopKQoKREIoQ2l0YXRpb24oCiAgICBlbWFtMjAwMWMsIG1lc3NuYXJ6MTk5OWEsIHJlZj0iIiwKICAgIGNvbnRleHRzPVsKCiAgICBdLAopKQoKJycnLCBjaXRhdGlvbnM9J21lc3NuYXJ6MTk5OWEnKTs=\"));\n",
       "    "
      ],
      "text/plain": [
       "<IPython.core.display.Javascript object>"
      ]
     },
     "metadata": {},
     "output_type": "display_data"
    },
    {
     "data": {
      "application/javascript": [
       "$('span:contains(\"# Temp\")').closest('.cell').remove();"
      ],
      "text/plain": [
       "<IPython.core.display.Javascript object>"
      ]
     },
     "metadata": {},
     "output_type": "display_data"
    },
    {
     "data": {
      "application/javascript": [
       "\n",
       "        $('span:contains(\"# Temp\")').closest('.cell').remove();\n",
       "        var code = IPython.notebook.insert_cell_below('code');\n",
       "        code.set_text(atob(\"IyBUZW1wCmluc2VydCgnJycKZW1hbTIwMDFjID0gREIoV29ya1VucmVsYXRlZCgKICAgIDIwMDEsICJEZXNjcmlwdGlvbiBvZiB0aGUgU1dFQk9LIEtub3dsZWRnZSBBcmVhIFNvZnR3YXJlIEVuZ2luZWVyaW5nIFByb2Nlc3MgKFZlcnNpb24gMC45KSIsCiAgICBkaXNwbGF5PSJlbWFtIGMiLAogICAgYXV0aG9ycz0iRWwgRW1hbSwgS2hhbGVkIiwKICAgIHBsYWNlPUJvb2ssCiAgICBlbnRyeXR5cGU9ImJvb2siLAogICAgcHVibGlzaGVyPSJJbnN0aXR1dGUgZm9yIEluZm9ybWF0aW9uIFRlY2hub2xvZ3ksIE5hdGlvbmFsIFJlc2VhcmNoIENvdW5jaWwgb2YgQ2FuYWRhIiwKICAgIElEPSJlbDIwMDFkZXNjcmlwdGlvbiIsCiAgICBjbHVzdGVyX2lkPSI0ODg2NzIyNzc0ODY3NDI1NDAyIiwKICAgIHNjaG9sYXI9Imh0dHA6Ly9zY2hvbGFyLmdvb2dsZS5jb20vc2Nob2xhcj9jaXRlcz00ODg2NzIyNzc0ODY3NDI1NDAyJmFzX3NkdD0yMDA1JnNjaW9kdD0wLDUmaGw9ZW4iLAogICAgcGxhY2V4PSIiLAopKQoKREIoQ2l0YXRpb24oCiAgICBlbWFtMjAwMWMsIG1lc3NuYXJ6MTk5OWEsIHJlZj0iIiwKICAgIGNvbnRleHRzPVsKCiAgICBdLAopKQoKJycnLCBjaXRhdGlvbnM9J21lc3NuYXJ6MTk5OWEnKTs=\"));\n",
       "    "
      ],
      "text/plain": [
       "<IPython.core.display.Javascript object>"
      ]
     },
     "metadata": {},
     "output_type": "display_data"
    },
    {
     "data": {
      "application/javascript": [
       "$('span:contains(\"# Temp\")').closest('.cell').remove();"
      ],
      "text/plain": [
       "<IPython.core.display.Javascript object>"
      ]
     },
     "metadata": {},
     "output_type": "display_data"
    },
    {
     "data": {
      "application/javascript": [
       "\n",
       "        $('span:contains(\"# Temp\")').closest('.cell').remove();\n",
       "        var code = IPython.notebook.insert_cell_below('code');\n",
       "        code.set_text(atob(\"IyBUZW1wCmluc2VydCgnJycKYmly8zIwMDZhID0gREIoV29ya1VucmVsYXRlZCgKICAgIDIwMDYsICJTcGVjaWFsIGlzc3VlIHdpdGggc2VsZWN0ZWQgaW5kdXN0cmlhbCBleHBlcmllbmNlIHBhcGVycyBvZiBFdXJvU1BJMjIwMDUiLAogICAgZGlzcGxheT0iYmly8yIsCiAgICBhdXRob3JzPSJCaXLzLCBNaWts83MgYW5kIE1lc3NuYXJ6LCBSaWNoYXJkIiwKICAgIHBsYWNlPVNQSVAsCiAgICBwcD0iMjE1LS0yMTgiLAogICAgZW50cnl0eXBlPSJhcnRpY2xlIiwKICAgIHZvbHVtZT0iMTEiLAogICAgbnVtYmVyPSIzIiwKICAgIHB1Ymxpc2hlcj0iV2lsZXkgT25saW5lIExpYnJhcnkiLAogICAgSUQ9ImJpcm8yMDA2c3BlY2lhbCIsCiAgICBjbHVzdGVyX2lkPSIxNjQwOTk0ODE4NTMwMTU3MzY5MiIsCiAgICBzY2hvbGFyPSJodHRwOi8vc2Nob2xhci5nb29nbGUuY29tL3NjaG9sYXI/Y2l0ZXM9MTY0MDk5NDgxODUzMDE1NzM2OTImYXNfc2R0PTIwMDUmc2Npb2R0PTAsNSZobD1lbiIsCiAgICBwbGFjZXg9IlNvZnR3YXJlIFByb2Nlc3M6IEltcHJvdmVtZW50IGFuZCBQcmFjdGljZSIsCikpCgpEQihDaXRhdGlvbigKICAgIGJpcvMyMDA2YSwgbWVzc25hcnoxOTk5YSwgcmVmPSIiLAogICAgY29udGV4dHM9WwoKICAgIF0sCikpCgonJycsIGNpdGF0aW9ucz0nbWVzc25hcnoxOTk5YScpOw==\"));\n",
       "    "
      ],
      "text/plain": [
       "<IPython.core.display.Javascript object>"
      ]
     },
     "metadata": {},
     "output_type": "display_data"
    },
    {
     "data": {
      "application/javascript": [
       "$('span:contains(\"# Temp\")').closest('.cell').remove();"
      ],
      "text/plain": [
       "<IPython.core.display.Javascript object>"
      ]
     },
     "metadata": {},
     "output_type": "display_data"
    },
    {
     "data": {
      "application/javascript": [
       "\n",
       "        $('span:contains(\"# Temp\")').closest('.cell').remove();\n",
       "        var code = IPython.notebook.insert_cell_below('code');\n",
       "        code.set_text(atob(\"IyBUZW1wCmluc2VydCgnJycKYmly8zIwMDZhID0gREIoV29ya1VucmVsYXRlZCgKICAgIDIwMDYsICJTcGVjaWFsIGlzc3VlIHdpdGggc2VsZWN0ZWQgaW5kdXN0cmlhbCBleHBlcmllbmNlIHBhcGVycyBvZiBFdXJvU1BJMjIwMDUiLAogICAgZGlzcGxheT0iYmly8yIsCiAgICBhdXRob3JzPSJCaXLzLCBNaWts83MgYW5kIE1lc3NuYXJ6LCBSaWNoYXJkIiwKICAgIHBsYWNlPVNQSVAsCiAgICBwcD0iMjE1LS0yMTgiLAogICAgZW50cnl0eXBlPSJhcnRpY2xlIiwKICAgIHZvbHVtZT0iMTEiLAogICAgbnVtYmVyPSIzIiwKICAgIHB1Ymxpc2hlcj0iV2lsZXkgT25saW5lIExpYnJhcnkiLAogICAgSUQ9ImJpcm8yMDA2c3BlY2lhbCIsCiAgICBjbHVzdGVyX2lkPSIxNjQwOTk0ODE4NTMwMTU3MzY5MiIsCiAgICBzY2hvbGFyPSJodHRwOi8vc2Nob2xhci5nb29nbGUuY29tL3NjaG9sYXI/Y2l0ZXM9MTY0MDk5NDgxODUzMDE1NzM2OTImYXNfc2R0PTIwMDUmc2Npb2R0PTAsNSZobD1lbiIsCiAgICBwbGFjZXg9IlNvZnR3YXJlIFByb2Nlc3M6IEltcHJvdmVtZW50IGFuZCBQcmFjdGljZSIsCikpCgpEQihDaXRhdGlvbigKICAgIGJpcvMyMDA2YSwgbWVzc25hcnoxOTk5YSwgcmVmPSIiLAogICAgY29udGV4dHM9WwoKICAgIF0sCikpCgonJycsIGNpdGF0aW9ucz0nbWVzc25hcnoxOTk5YScpOw==\"));\n",
       "    "
      ],
      "text/plain": [
       "<IPython.core.display.Javascript object>"
      ]
     },
     "metadata": {},
     "output_type": "display_data"
    },
    {
     "data": {
      "application/javascript": [
       "$('span:contains(\"# Temp\")').closest('.cell').remove();"
      ],
      "text/plain": [
       "<IPython.core.display.Javascript object>"
      ]
     },
     "metadata": {},
     "output_type": "display_data"
    },
    {
     "data": {
      "application/javascript": [
       "\n",
       "        $('span:contains(\"# Temp\")').closest('.cell').remove();\n",
       "        var code = IPython.notebook.insert_cell_below('code');\n",
       "        code.set_text(atob(\"IyBUZW1wCmluc2VydCgnJycKY29udGVudDIwMDRhID0gREIoV29ya1VucmVsYXRlZCgKICAgIDIwMDQsICJJbm5vdmF0aW9uIE1hbmFnZXIiLAogICAgZGlzcGxheT0iY29udGVudCIsCiAgICBhdXRob3JzPSJDb250ZW50LCBSZWdhcmRpbmcgSm9iIFJvbGUgU3BlY2lmaWMiLAogICAgcGxhY2U9RkFLRSwKICAgIGVudHJ5dHlwZT0iYXJ0aWNsZSIsCiAgICBJRD0iY29udGVudDIwMDRpbm5vdmF0aW9uIiwKICAgIHBsYWNleD0iIiwKKSkKCkRCKENpdGF0aW9uKAogICAgY29udGVudDIwMDRhLCBtZXNzbmFyejE5OTlhLCByZWY9IiIsCiAgICBjb250ZXh0cz1bCgogICAgXSwKKSkKCicnJywgY2l0YXRpb25zPSdtZXNzbmFyejE5OTlhJyk7\"));\n",
       "    "
      ],
      "text/plain": [
       "<IPython.core.display.Javascript object>"
      ]
     },
     "metadata": {},
     "output_type": "display_data"
    },
    {
     "data": {
      "application/javascript": [
       "$('span:contains(\"# Temp\")').closest('.cell').remove();"
      ],
      "text/plain": [
       "<IPython.core.display.Javascript object>"
      ]
     },
     "metadata": {},
     "output_type": "display_data"
    },
    {
     "data": {
      "application/javascript": [
       "\n",
       "        $('span:contains(\"# Temp\")').closest('.cell').remove();\n",
       "        var code = IPython.notebook.insert_cell_below('code');\n",
       "        code.set_text(atob(\"IyBUZW1wCmluc2VydCgnJycKY29udGVudDIwMDRhID0gREIoV29ya1VucmVsYXRlZCgKICAgIDIwMDQsICJJbm5vdmF0aW9uIE1hbmFnZXIiLAogICAgZGlzcGxheT0iY29udGVudCIsCiAgICBhdXRob3JzPSJDb250ZW50LCBSZWdhcmRpbmcgSm9iIFJvbGUgU3BlY2lmaWMiLAogICAgcGxhY2U9RkFLRSwKICAgIGVudHJ5dHlwZT0iYXJ0aWNsZSIsCiAgICBJRD0iY29udGVudDIwMDRpbm5vdmF0aW9uIiwKICAgIHBsYWNleD0iIiwKKSkKCkRCKENpdGF0aW9uKAogICAgY29udGVudDIwMDRhLCBtZXNzbmFyejE5OTlhLCByZWY9IiIsCiAgICBjb250ZXh0cz1bCgogICAgXSwKKSkKCicnJywgY2l0YXRpb25zPSdtZXNzbmFyejE5OTlhJyk7\"));\n",
       "    "
      ],
      "text/plain": [
       "<IPython.core.display.Javascript object>"
      ]
     },
     "metadata": {},
     "output_type": "display_data"
    },
    {
     "data": {
      "application/javascript": [
       "$('span:contains(\"# Temp\")').closest('.cell').remove();"
      ],
      "text/plain": [
       "<IPython.core.display.Javascript object>"
      ]
     },
     "metadata": {},
     "output_type": "display_data"
    },
    {
     "data": {
      "application/javascript": [
       "\n",
       "        $('span:contains(\"# Temp\")').closest('.cell').remove();\n",
       "        var code = IPython.notebook.insert_cell_below('code');\n",
       "        code.set_text(atob(\"IyBUZW1wCmluc2VydCgnJycKYmlybzBhID0gREIoV29ya1VucmVsYXRlZCgKICAgIDAsICJTUEkgYW5kIFN0cmF0ZWdpZXMiLAogICAgZGlzcGxheT0iYmlybyIsCiAgICBhdXRob3JzPSJCaXJvLCBNaWtsb3MgYW5kIE1lc3NuYXJ6LCBSaWNoYXJkIiwKICAgIHBsYWNlPUZBS0UsCiAgICBlbnRyeXR5cGU9ImFydGljbGUiLAogICAgSUQ9ImJpcm9zcGkiLAogICAgcGxhY2V4PSIiLAopKQoKREIoQ2l0YXRpb24oCiAgICBiaXJvMGEsIG1lc3NuYXJ6MTk5OWEsIHJlZj0iIiwKICAgIGNvbnRleHRzPVsKCiAgICBdLAopKQoKJycnLCBjaXRhdGlvbnM9J21lc3NuYXJ6MTk5OWEnKTs=\"));\n",
       "    "
      ],
      "text/plain": [
       "<IPython.core.display.Javascript object>"
      ]
     },
     "metadata": {},
     "output_type": "display_data"
    },
    {
     "data": {
      "application/javascript": [
       "$('span:contains(\"# Temp\")').closest('.cell').remove();"
      ],
      "text/plain": [
       "<IPython.core.display.Javascript object>"
      ]
     },
     "metadata": {},
     "output_type": "display_data"
    },
    {
     "data": {
      "application/javascript": [
       "\n",
       "        $('span:contains(\"# Temp\")').closest('.cell').remove();\n",
       "        var code = IPython.notebook.insert_cell_below('code');\n",
       "        code.set_text(atob(\"IyBUZW1wCmluc2VydCgnJycKYmlybzBhID0gREIoV29ya1VucmVsYXRlZCgKICAgIDAsICJTUEkgYW5kIFN0cmF0ZWdpZXMiLAogICAgZGlzcGxheT0iYmlybyIsCiAgICBhdXRob3JzPSJCaXJvLCBNaWtsb3MgYW5kIE1lc3NuYXJ6LCBSaWNoYXJkIiwKICAgIHBsYWNlPUZBS0UsCiAgICBlbnRyeXR5cGU9ImFydGljbGUiLAogICAgSUQ9ImJpcm9zcGkiLAogICAgcGxhY2V4PSIiLAopKQoKREIoQ2l0YXRpb24oCiAgICBiaXJvMGEsIG1lc3NuYXJ6MTk5OWEsIHJlZj0iIiwKICAgIGNvbnRleHRzPVsKCiAgICBdLAopKQoKJycnLCBjaXRhdGlvbnM9J21lc3NuYXJ6MTk5OWEnKTs=\"));\n",
       "    "
      ],
      "text/plain": [
       "<IPython.core.display.Javascript object>"
      ]
     },
     "metadata": {},
     "output_type": "display_data"
    },
    {
     "data": {
      "application/javascript": [
       "$('span:contains(\"# Temp\")').closest('.cell').remove();"
      ],
      "text/plain": [
       "<IPython.core.display.Javascript object>"
      ]
     },
     "metadata": {},
     "output_type": "display_data"
    },
    {
     "data": {
      "application/javascript": [
       "\n",
       "        $('span:contains(\"# Temp\")').closest('.cell').remove();\n",
       "        var code = IPython.notebook.insert_cell_below('code');\n",
       "        code.set_text(atob(\"IyBUZW1wCmluc2VydCgnJycKY29ubm9yMjAxMWEgPSBEQihXb3JrVW5yZWxhdGVkKAogICAgMjAxMSwgIlN5c3RlbXMsIFNvZnR3YXJlIGFuZCBTZXJ2aWNlcyBQcm9jZXNzIEltcHJvdmVtZW50OiAxOHRoIEV1cm9wZWFuIENvbmZlcmVuY2UsIEV1cm9TUEkgMjAxMSwgUm9za2lsZGUsIERlbm1hcmssIEp1bmUgMjctMjksIDIwMTEsIFByb2NlZWRpbmdzIiwKICAgIGRpc3BsYXk9ImNvbm5vciIsCiAgICBhdXRob3JzPSJDb25ub3IsIFJvcnkgViBhbmQgUHJpZXMtSGVqZSwgSmFuIGFuZCBNZXNzbmFyeiwgUmljaGFyZCIsCiAgICBwbGFjZT1Cb29rLAogICAgZW50cnl0eXBlPSJib29rIiwKICAgIHZvbHVtZT0iMTcyIiwKICAgIHB1Ymxpc2hlcj0iU3ByaW5nZXIgU2NpZW5jZSAmIEJ1c2luZXNzIE1lZGlhIiwKICAgIElEPSJjb25ub3IyMDExc3lzdGVtcyIsCiAgICBwbGFjZXg9IiIsCikpCgpEQihDaXRhdGlvbigKICAgIGNvbm5vcjIwMTFhLCBtZXNzbmFyejE5OTlhLCByZWY9IiIsCiAgICBjb250ZXh0cz1bCgogICAgXSwKKSkKCicnJywgY2l0YXRpb25zPSdtZXNzbmFyejE5OTlhJyk7\"));\n",
       "    "
      ],
      "text/plain": [
       "<IPython.core.display.Javascript object>"
      ]
     },
     "metadata": {},
     "output_type": "display_data"
    },
    {
     "data": {
      "application/javascript": [
       "$('span:contains(\"# Temp\")').closest('.cell').remove();"
      ],
      "text/plain": [
       "<IPython.core.display.Javascript object>"
      ]
     },
     "metadata": {},
     "output_type": "display_data"
    },
    {
     "data": {
      "application/javascript": [
       "\n",
       "        $('span:contains(\"# Temp\")').closest('.cell').remove();\n",
       "        var code = IPython.notebook.insert_cell_below('code');\n",
       "        code.set_text(atob(\"IyBUZW1wCmluc2VydCgnJycKY29ubm9yMjAxMWEgPSBEQihXb3JrVW5yZWxhdGVkKAogICAgMjAxMSwgIlN5c3RlbXMsIFNvZnR3YXJlIGFuZCBTZXJ2aWNlcyBQcm9jZXNzIEltcHJvdmVtZW50OiAxOHRoIEV1cm9wZWFuIENvbmZlcmVuY2UsIEV1cm9TUEkgMjAxMSwgUm9za2lsZGUsIERlbm1hcmssIEp1bmUgMjctMjksIDIwMTEsIFByb2NlZWRpbmdzIiwKICAgIGRpc3BsYXk9ImNvbm5vciIsCiAgICBhdXRob3JzPSJDb25ub3IsIFJvcnkgViBhbmQgUHJpZXMtSGVqZSwgSmFuIGFuZCBNZXNzbmFyeiwgUmljaGFyZCIsCiAgICBwbGFjZT1Cb29rLAogICAgZW50cnl0eXBlPSJib29rIiwKICAgIHZvbHVtZT0iMTcyIiwKICAgIHB1Ymxpc2hlcj0iU3ByaW5nZXIgU2NpZW5jZSAmIEJ1c2luZXNzIE1lZGlhIiwKICAgIElEPSJjb25ub3IyMDExc3lzdGVtcyIsCiAgICBwbGFjZXg9IiIsCikpCgpEQihDaXRhdGlvbigKICAgIGNvbm5vcjIwMTFhLCBtZXNzbmFyejE5OTlhLCByZWY9IiIsCiAgICBjb250ZXh0cz1bCgogICAgXSwKKSkKCicnJywgY2l0YXRpb25zPSdtZXNzbmFyejE5OTlhJyk7\"));\n",
       "    "
      ],
      "text/plain": [
       "<IPython.core.display.Javascript object>"
      ]
     },
     "metadata": {},
     "output_type": "display_data"
    },
    {
     "data": {
      "application/javascript": [
       "$('span:contains(\"# Temp\")').closest('.cell').remove();"
      ],
      "text/plain": [
       "<IPython.core.display.Javascript object>"
      ]
     },
     "metadata": {},
     "output_type": "display_data"
    },
    {
     "data": {
      "application/javascript": [
       "$('span:contains(\"# Temp\")').closest('.cell').remove();"
      ],
      "text/plain": [
       "<IPython.core.display.Javascript object>"
      ]
     },
     "metadata": {},
     "output_type": "display_data"
    },
    {
     "data": {
      "application/javascript": [
       "$('span:contains(\"# Temp\")').closest('.cell').remove();"
      ],
      "text/plain": [
       "<IPython.core.display.Javascript object>"
      ]
     },
     "metadata": {},
     "output_type": "display_data"
    },
    {
     "data": {
      "application/javascript": [
       "$('span:contains(\"# Temp\")').closest('.cell').remove();"
      ],
      "text/plain": [
       "<IPython.core.display.Javascript object>"
      ]
     },
     "metadata": {},
     "output_type": "display_data"
    },
    {
     "data": {
      "application/javascript": [
       "$('span:contains(\"# Temp\")').closest('.cell').remove();"
      ],
      "text/plain": [
       "<IPython.core.display.Javascript object>"
      ]
     },
     "metadata": {},
     "output_type": "display_data"
    },
    {
     "data": {
      "application/javascript": [
       "$('span:contains(\"# Temp\")').closest('.cell').remove();"
      ],
      "text/plain": [
       "<IPython.core.display.Javascript object>"
      ]
     },
     "metadata": {},
     "output_type": "display_data"
    },
    {
     "data": {
      "application/javascript": [
       "$('span:contains(\"# Temp\")').closest('.cell').remove();"
      ],
      "text/plain": [
       "<IPython.core.display.Javascript object>"
      ]
     },
     "metadata": {},
     "output_type": "display_data"
    },
    {
     "data": {
      "application/javascript": [
       "\n",
       "        $('span:contains(\"# Temp\")').closest('.cell').remove();\n",
       "        var code = IPython.notebook.insert_cell_below('code');\n",
       "        code.set_text(atob(\"IyBUZW1wCmluc2VydCgnJycKc3RvbGZhMjAxN2EgPSBEQihXb3JrVW5yZWxhdGVkKAogICAgMjAxNywgIlN5c3RlbXMsIFNvZnR3YXJlIGFuZCBTZXJ2aWNlcyBQcm9jZXNzIEltcHJvdmVtZW50OiAyNHRoIEV1cm9wZWFuIENvbmZlcmVuY2UsIEV1cm9TUEkgMjAxNywgT3N0cmF2YSwgQ3plY2ggUmVwdWJsaWMsIFNlcHRlbWJlciA2LS04LCAyMDE3LCBQcm9jZWVkaW5ncyIsCiAgICBkaXNwbGF5PSJzdG9sZmEiLAogICAgYXV0aG9ycz0iU3RvbGZhLCBKYWt1YiBhbmQgU3RvbGZhLCBTdmF0b3BsdWsgYW5kIE8nQ29ubm9yLCBSb3J5IFYgYW5kIE1lc3NuYXJ6LCBSaWNoYXJkIiwKICAgIHBsYWNlPUJvb2ssCiAgICBlbnRyeXR5cGU9ImJvb2siLAogICAgdm9sdW1lPSI3NDgiLAogICAgcHVibGlzaGVyPSJTcHJpbmdlciIsCiAgICBJRD0ic3RvbGZhMjAxN3N5c3RlbXMiLAogICAgcGxhY2V4PSIiLAopKQoKREIoQ2l0YXRpb24oCiAgICBzdG9sZmEyMDE3YSwgbWVzc25hcnoxOTk5YSwgcmVmPSIiLAogICAgY29udGV4dHM9WwoKICAgIF0sCikpCgonJycsIGNpdGF0aW9ucz0nbWVzc25hcnoxOTk5YScpOw==\"));\n",
       "    "
      ],
      "text/plain": [
       "<IPython.core.display.Javascript object>"
      ]
     },
     "metadata": {},
     "output_type": "display_data"
    },
    {
     "data": {
      "application/javascript": [
       "$('span:contains(\"# Temp\")').closest('.cell').remove();"
      ],
      "text/plain": [
       "<IPython.core.display.Javascript object>"
      ]
     },
     "metadata": {},
     "output_type": "display_data"
    },
    {
     "data": {
      "application/javascript": [
       "\n",
       "        $('span:contains(\"# Temp\")').closest('.cell').remove();\n",
       "        var code = IPython.notebook.insert_cell_below('code');\n",
       "        code.set_text(atob(\"IyBUZW1wCmluc2VydCgnJycKc3RvbGZhMjAxN2EgPSBEQihXb3JrVW5yZWxhdGVkKAogICAgMjAxNywgIlN5c3RlbXMsIFNvZnR3YXJlIGFuZCBTZXJ2aWNlcyBQcm9jZXNzIEltcHJvdmVtZW50OiAyNHRoIEV1cm9wZWFuIENvbmZlcmVuY2UsIEV1cm9TUEkgMjAxNywgT3N0cmF2YSwgQ3plY2ggUmVwdWJsaWMsIFNlcHRlbWJlciA2LS04LCAyMDE3LCBQcm9jZWVkaW5ncyIsCiAgICBkaXNwbGF5PSJzdG9sZmEiLAogICAgYXV0aG9ycz0iU3RvbGZhLCBKYWt1YiBhbmQgU3RvbGZhLCBTdmF0b3BsdWsgYW5kIE8nQ29ubm9yLCBSb3J5IFYgYW5kIE1lc3NuYXJ6LCBSaWNoYXJkIiwKICAgIHBsYWNlPUJvb2ssCiAgICBlbnRyeXR5cGU9ImJvb2siLAogICAgdm9sdW1lPSI3NDgiLAogICAgcHVibGlzaGVyPSJTcHJpbmdlciIsCiAgICBJRD0ic3RvbGZhMjAxN3N5c3RlbXMiLAogICAgcGxhY2V4PSIiLAopKQoKREIoQ2l0YXRpb24oCiAgICBzdG9sZmEyMDE3YSwgbWVzc25hcnoxOTk5YSwgcmVmPSIiLAogICAgY29udGV4dHM9WwoKICAgIF0sCikpCgonJycsIGNpdGF0aW9ucz0nbWVzc25hcnoxOTk5YScpOw==\"));\n",
       "    "
      ],
      "text/plain": [
       "<IPython.core.display.Javascript object>"
      ]
     },
     "metadata": {},
     "output_type": "display_data"
    },
    {
     "data": {
      "application/javascript": [
       "$('span:contains(\"# Temp\")').closest('.cell').remove();"
      ],
      "text/plain": [
       "<IPython.core.display.Javascript object>"
      ]
     },
     "metadata": {},
     "output_type": "display_data"
    },
    {
     "data": {
      "application/javascript": [
       "\n",
       "        $('span:contains(\"# Temp\")').closest('.cell').remove();\n",
       "        var code = IPython.notebook.insert_cell_below('code');\n",
       "        code.set_text(atob(\"IyBUZW1wCmluc2VydCgnJycKbWVzc25hcnowYSA9IERCKFdvcmtVbnJlbGF0ZWQoCiAgICAwLCAiSW50ZWdyYXRlZCBDT1NPIFNQSUNFIEFzc2Vzc21lbnRzIiwKICAgIGRpc3BsYXk9Im1lc3NuYXJ6IiwKICAgIGF1dGhvcnM9Ik1FU1NOQVJaLCBSaWNoYXJkIGFuZCBJVkFOWU9TLCBKYW5vcyBhbmQgRUtFUlQsIERhbWphbiIsCiAgICBwbGFjZT1GQUtFLAogICAgcHA9Ijc3IiwKICAgIGVudHJ5dHlwZT0iYXJ0aWNsZSIsCiAgICBJRD0ibWVzc25hcnppbnRlZ3JhdGVkIiwKICAgIHBsYWNleD0iSW50ZXJuYWwgRmluYW5jaWFsIENvbnRyb2wgQXNzZXNzbWVudCBBcHBseWluZyBNdWx0aWxpbmd1YWwgT250b2xvZ3kgRnJhbWV3b3JrIiwKKSkKCkRCKENpdGF0aW9uKAogICAgbWVzc25hcnowYSwgbWVzc25hcnoxOTk5YSwgcmVmPSIiLAogICAgY29udGV4dHM9WwoKICAgIF0sCikpCgonJycsIGNpdGF0aW9ucz0nbWVzc25hcnoxOTk5YScpOw==\"));\n",
       "    "
      ],
      "text/plain": [
       "<IPython.core.display.Javascript object>"
      ]
     },
     "metadata": {},
     "output_type": "display_data"
    },
    {
     "data": {
      "application/javascript": [
       "$('span:contains(\"# Temp\")').closest('.cell').remove();"
      ],
      "text/plain": [
       "<IPython.core.display.Javascript object>"
      ]
     },
     "metadata": {},
     "output_type": "display_data"
    },
    {
     "data": {
      "application/javascript": [
       "\n",
       "        $('span:contains(\"# Temp\")').closest('.cell').remove();\n",
       "        var code = IPython.notebook.insert_cell_below('code');\n",
       "        code.set_text(atob(\"IyBUZW1wCmluc2VydCgnJycKbWVzc25hcnowYSA9IERCKFdvcmtVbnJlbGF0ZWQoCiAgICAwLCAiSW50ZWdyYXRlZCBDT1NPIFNQSUNFIEFzc2Vzc21lbnRzIiwKICAgIGRpc3BsYXk9Im1lc3NuYXJ6IiwKICAgIGF1dGhvcnM9Ik1FU1NOQVJaLCBSaWNoYXJkIGFuZCBJVkFOWU9TLCBKYW5vcyBhbmQgRUtFUlQsIERhbWphbiIsCiAgICBwbGFjZT1GQUtFLAogICAgcHA9Ijc3IiwKICAgIGVudHJ5dHlwZT0iYXJ0aWNsZSIsCiAgICBJRD0ibWVzc25hcnppbnRlZ3JhdGVkIiwKICAgIHBsYWNleD0iSW50ZXJuYWwgRmluYW5jaWFsIENvbnRyb2wgQXNzZXNzbWVudCBBcHBseWluZyBNdWx0aWxpbmd1YWwgT250b2xvZ3kgRnJhbWV3b3JrIiwKKSkKCkRCKENpdGF0aW9uKAogICAgbWVzc25hcnowYSwgbWVzc25hcnoxOTk5YSwgcmVmPSIiLAogICAgY29udGV4dHM9WwoKICAgIF0sCikpCgonJycsIGNpdGF0aW9ucz0nbWVzc25hcnoxOTk5YScpOw==\"));\n",
       "    "
      ],
      "text/plain": [
       "<IPython.core.display.Javascript object>"
      ]
     },
     "metadata": {},
     "output_type": "display_data"
    },
    {
     "data": {
      "application/javascript": [
       "$('span:contains(\"# Temp\")').closest('.cell').remove();"
      ],
      "text/plain": [
       "<IPython.core.display.Javascript object>"
      ]
     },
     "metadata": {},
     "output_type": "display_data"
    },
    {
     "data": {
      "application/javascript": [
       "\n",
       "        $('span:contains(\"# Temp\")').closest('.cell').remove();\n",
       "        var code = IPython.notebook.insert_cell_below('code');\n",
       "        code.set_text(atob(\"IyBUZW1wCmluc2VydCgnJycKZ3V6beFuMGEgPSBEQihXb3JrVW5yZWxhdGVkKAogICAgMCwgIkEgTWVhc3VyZW1lbnQtYmFzZWQgQXBwcm9hY2ggZm9yIEltcHJvdmluZyBTb2Z0d2FyZSBQcmFjdGljZXMiLAogICAgZGlzcGxheT0iZ3V6beFuIiwKICAgIGF1dGhvcnM9Ikd1em3hbiwgTGlsaWFuYSBLIGFuZCBWaXNjb250aSwgTWFyY2VsbG8gQSIsCiAgICBwbGFjZT1GQUtFLAogICAgZW50cnl0eXBlPSJhcnRpY2xlIiwKICAgIElEPSJndXptYW5tZWFzdXJlbWVudCIsCiAgICBwbGFjZXg9IiIsCikpCgpEQihDaXRhdGlvbigKICAgIGd1em3hbjBhLCBtZXNzbmFyejE5OTlhLCByZWY9IiIsCiAgICBjb250ZXh0cz1bCgogICAgXSwKKSkKCicnJywgY2l0YXRpb25zPSdtZXNzbmFyejE5OTlhJyk7\"));\n",
       "    "
      ],
      "text/plain": [
       "<IPython.core.display.Javascript object>"
      ]
     },
     "metadata": {},
     "output_type": "display_data"
    },
    {
     "data": {
      "application/javascript": [
       "$('span:contains(\"# Temp\")').closest('.cell').remove();"
      ],
      "text/plain": [
       "<IPython.core.display.Javascript object>"
      ]
     },
     "metadata": {},
     "output_type": "display_data"
    },
    {
     "data": {
      "application/javascript": [
       "\n",
       "        $('span:contains(\"# Temp\")').closest('.cell').remove();\n",
       "        var code = IPython.notebook.insert_cell_below('code');\n",
       "        code.set_text(atob(\"IyBUZW1wCmluc2VydCgnJycKZ3V6beFuMGEgPSBEQihXb3JrVW5yZWxhdGVkKAogICAgMCwgIkEgTWVhc3VyZW1lbnQtYmFzZWQgQXBwcm9hY2ggZm9yIEltcHJvdmluZyBTb2Z0d2FyZSBQcmFjdGljZXMiLAogICAgZGlzcGxheT0iZ3V6beFuIiwKICAgIGF1dGhvcnM9Ikd1em3hbiwgTGlsaWFuYSBLIGFuZCBWaXNjb250aSwgTWFyY2VsbG8gQSIsCiAgICBwbGFjZT1GQUtFLAogICAgZW50cnl0eXBlPSJhcnRpY2xlIiwKICAgIElEPSJndXptYW5tZWFzdXJlbWVudCIsCiAgICBwbGFjZXg9IiIsCikpCgpEQihDaXRhdGlvbigKICAgIGd1em3hbjBhLCBtZXNzbmFyejE5OTlhLCByZWY9IiIsCiAgICBjb250ZXh0cz1bCgogICAgXSwKKSkKCicnJywgY2l0YXRpb25zPSdtZXNzbmFyejE5OTlhJyk7\"));\n",
       "    "
      ],
      "text/plain": [
       "<IPython.core.display.Javascript object>"
      ]
     },
     "metadata": {},
     "output_type": "display_data"
    },
    {
     "data": {
      "application/javascript": [
       "$('span:contains(\"# Temp\")').closest('.cell').remove();"
      ],
      "text/plain": [
       "<IPython.core.display.Javascript object>"
      ]
     },
     "metadata": {},
     "output_type": "display_data"
    },
    {
     "data": {
      "application/javascript": [
       "\n",
       "        $('span:contains(\"# Temp\")').closest('.cell').remove();\n",
       "        var code = IPython.notebook.insert_cell_below('code');\n",
       "        code.set_text(atob(\"IyBUZW1wCmluc2VydCgnJycKY29ubm9yMjAxNWEgPSBEQihXb3JrVW5yZWxhdGVkKAogICAgMjAxNSwgIlN5c3RlbXMsIFNvZnR3YXJlIGFuZCBTZXJ2aWNlcyBQcm9jZXNzIEltcHJvdmVtZW50OiAyMm5kIEV1cm9wZWFuIENvbmZlcmVuY2UsIEV1cm9TUEkgMjAxNSwgQW5rYXJhLCBUdXJrZXksIFNlcHRlbWJlciAzMC0tT2N0b2JlciAyLCAyMDE1LiBQcm9jZWVkaW5ncyIsCiAgICBkaXNwbGF5PSJjb25ub3IiLAogICAgYXV0aG9ycz0iT5JDb25ub3IsIFJvcnkgViBhbmQgQWtrYXlhLCBNYXJpeWUgVW1heSBhbmQgS2VtYW5lY2ksIEtlcmVtIGFuZCBZaWxtYXosIE11cmF0IGFuZCBQb3RoLCBBbGV4YW5kZXIgYW5kIE1lc3NuYXJ6LCBSaWNoYXJkIiwKICAgIHBsYWNlPUJvb2ssCiAgICBlbnRyeXR5cGU9ImJvb2siLAogICAgdm9sdW1lPSI1NDMiLAogICAgcHVibGlzaGVyPSJTcHJpbmdlciIsCiAgICBJRD0ibzIwMTVzeXN0ZW1zIiwKICAgIHBsYWNleD0iIiwKKSkKCkRCKENpdGF0aW9uKAogICAgY29ubm9yMjAxNWEsIG1lc3NuYXJ6MTk5OWEsIHJlZj0iIiwKICAgIGNvbnRleHRzPVsKCiAgICBdLAopKQoKJycnLCBjaXRhdGlvbnM9J21lc3NuYXJ6MTk5OWEnKTs=\"));\n",
       "    "
      ],
      "text/plain": [
       "<IPython.core.display.Javascript object>"
      ]
     },
     "metadata": {},
     "output_type": "display_data"
    },
    {
     "data": {
      "application/javascript": [
       "$('span:contains(\"# Temp\")').closest('.cell').remove();"
      ],
      "text/plain": [
       "<IPython.core.display.Javascript object>"
      ]
     },
     "metadata": {},
     "output_type": "display_data"
    },
    {
     "data": {
      "application/javascript": [
       "\n",
       "        $('span:contains(\"# Temp\")').closest('.cell').remove();\n",
       "        var code = IPython.notebook.insert_cell_below('code');\n",
       "        code.set_text(atob(\"IyBUZW1wCmluc2VydCgnJycKY29ubm9yMjAxNWEgPSBEQihXb3JrVW5yZWxhdGVkKAogICAgMjAxNSwgIlN5c3RlbXMsIFNvZnR3YXJlIGFuZCBTZXJ2aWNlcyBQcm9jZXNzIEltcHJvdmVtZW50OiAyMm5kIEV1cm9wZWFuIENvbmZlcmVuY2UsIEV1cm9TUEkgMjAxNSwgQW5rYXJhLCBUdXJrZXksIFNlcHRlbWJlciAzMC0tT2N0b2JlciAyLCAyMDE1LiBQcm9jZWVkaW5ncyIsCiAgICBkaXNwbGF5PSJjb25ub3IiLAogICAgYXV0aG9ycz0iT5JDb25ub3IsIFJvcnkgViBhbmQgQWtrYXlhLCBNYXJpeWUgVW1heSBhbmQgS2VtYW5lY2ksIEtlcmVtIGFuZCBZaWxtYXosIE11cmF0IGFuZCBQb3RoLCBBbGV4YW5kZXIgYW5kIE1lc3NuYXJ6LCBSaWNoYXJkIiwKICAgIHBsYWNlPUJvb2ssCiAgICBlbnRyeXR5cGU9ImJvb2siLAogICAgdm9sdW1lPSI1NDMiLAogICAgcHVibGlzaGVyPSJTcHJpbmdlciIsCiAgICBJRD0ibzIwMTVzeXN0ZW1zIiwKICAgIHBsYWNleD0iIiwKKSkKCkRCKENpdGF0aW9uKAogICAgY29ubm9yMjAxNWEsIG1lc3NuYXJ6MTk5OWEsIHJlZj0iIiwKICAgIGNvbnRleHRzPVsKCiAgICBdLAopKQoKJycnLCBjaXRhdGlvbnM9J21lc3NuYXJ6MTk5OWEnKTs=\"));\n",
       "    "
      ],
      "text/plain": [
       "<IPython.core.display.Javascript object>"
      ]
     },
     "metadata": {},
     "output_type": "display_data"
    },
    {
     "data": {
      "application/javascript": [
       "$('span:contains(\"# Temp\")').closest('.cell').remove();"
      ],
      "text/plain": [
       "<IPython.core.display.Javascript object>"
      ]
     },
     "metadata": {},
     "output_type": "display_data"
    },
    {
     "data": {
      "application/javascript": [
       "\n",
       "        $('span:contains(\"# Temp\")').closest('.cell').remove();\n",
       "        var code = IPython.notebook.insert_cell_below('code');\n",
       "        code.set_text(atob(\"IyBUZW1wCmluc2VydCgnJycKa3JlaW5lcjIwMTZhID0gREIoV29ya1VucmVsYXRlZCgKICAgIDIwMTYsICJTeXN0ZW1zLCBTb2Z0d2FyZSBhbmQgU2VydmljZXMgUHJvY2VzcyBJbXByb3ZlbWVudCIsCiAgICBkaXNwbGF5PSJrcmVpbmVyIiwKICAgIGF1dGhvcnM9IktyZWluZXIsIENocmlzdGlhbiBhbmQgTydDb25ub3IsIFJvcnkgViBhbmQgUG90aCwgQWxleGFuZGVyIGFuZCBNZXNzbmFyeiwgUmljaGFyZCIsCiAgICBwbGFjZT1Cb29rLAogICAgZW50cnl0eXBlPSJib29rIiwKICAgIHB1Ymxpc2hlcj0iU3ByaW5nZXIiLAogICAgSUQ9ImtyZWluZXIyMDE2c3lzdGVtcyIsCiAgICBwbGFjZXg9IiIsCikpCgpEQihDaXRhdGlvbigKICAgIGtyZWluZXIyMDE2YSwgbWVzc25hcnoxOTk5YSwgcmVmPSIiLAogICAgY29udGV4dHM9WwoKICAgIF0sCikpCgonJycsIGNpdGF0aW9ucz0nbWVzc25hcnoxOTk5YScpOw==\"));\n",
       "    "
      ],
      "text/plain": [
       "<IPython.core.display.Javascript object>"
      ]
     },
     "metadata": {},
     "output_type": "display_data"
    },
    {
     "data": {
      "application/javascript": [
       "$('span:contains(\"# Temp\")').closest('.cell').remove();"
      ],
      "text/plain": [
       "<IPython.core.display.Javascript object>"
      ]
     },
     "metadata": {},
     "output_type": "display_data"
    },
    {
     "data": {
      "application/javascript": [
       "\n",
       "        $('span:contains(\"# Temp\")').closest('.cell').remove();\n",
       "        var code = IPython.notebook.insert_cell_below('code');\n",
       "        code.set_text(atob(\"IyBUZW1wCmluc2VydCgnJycKa3JlaW5lcjIwMTZhID0gREIoV29ya1VucmVsYXRlZCgKICAgIDIwMTYsICJTeXN0ZW1zLCBTb2Z0d2FyZSBhbmQgU2VydmljZXMgUHJvY2VzcyBJbXByb3ZlbWVudCIsCiAgICBkaXNwbGF5PSJrcmVpbmVyIiwKICAgIGF1dGhvcnM9IktyZWluZXIsIENocmlzdGlhbiBhbmQgTydDb25ub3IsIFJvcnkgViBhbmQgUG90aCwgQWxleGFuZGVyIGFuZCBNZXNzbmFyeiwgUmljaGFyZCIsCiAgICBwbGFjZT1Cb29rLAogICAgZW50cnl0eXBlPSJib29rIiwKICAgIHB1Ymxpc2hlcj0iU3ByaW5nZXIiLAogICAgSUQ9ImtyZWluZXIyMDE2c3lzdGVtcyIsCiAgICBwbGFjZXg9IiIsCikpCgpEQihDaXRhdGlvbigKICAgIGtyZWluZXIyMDE2YSwgbWVzc25hcnoxOTk5YSwgcmVmPSIiLAogICAgY29udGV4dHM9WwoKICAgIF0sCikpCgonJycsIGNpdGF0aW9ucz0nbWVzc25hcnoxOTk5YScpOw==\"));\n",
       "    "
      ],
      "text/plain": [
       "<IPython.core.display.Javascript object>"
      ]
     },
     "metadata": {},
     "output_type": "display_data"
    },
    {
     "data": {
      "application/javascript": [
       "$('span:contains(\"# Temp\")').closest('.cell').remove();"
      ],
      "text/plain": [
       "<IPython.core.display.Javascript object>"
      ]
     },
     "metadata": {},
     "output_type": "display_data"
    },
    {
     "data": {
      "application/javascript": [
       "\n",
       "        $('span:contains(\"# Temp\")').closest('.cell').remove();\n",
       "        var code = IPython.notebook.insert_cell_below('code');\n",
       "        code.set_text(atob(\"IyBUZW1wCmluc2VydCgnJycKYXJlYTBhID0gREIoV29ya1VucmVsYXRlZCgKICAgIDAsICJEZXNjcmlwdGlvbiBvZiBUaGUgU1dFQk9LIEtub3dsZWRnZSBBcmVhIFNvZnR3YXJlIEVuZ2luZWVyaW5nIFByb2Nlc3MgKFZlcnNpb24gMC41KSIsCiAgICBkaXNwbGF5PSJhcmVhIiwKICAgIGF1dGhvcnM9IkFyZWEsIFNXRUJPSyBLbm93bGVkZ2UiLAogICAgcGxhY2U9RkFLRSwKICAgIGVudHJ5dHlwZT0iYXJ0aWNsZSIsCiAgICBJRD0iYXJlYWRlc2NyaXB0aW9uIiwKICAgIHBsYWNleD0iIiwKKSkKCkRCKENpdGF0aW9uKAogICAgYXJlYTBhLCBtZXNzbmFyejE5OTlhLCByZWY9IiIsCiAgICBjb250ZXh0cz1bCgogICAgXSwKKSkKCicnJywgY2l0YXRpb25zPSdtZXNzbmFyejE5OTlhJyk7\"));\n",
       "    "
      ],
      "text/plain": [
       "<IPython.core.display.Javascript object>"
      ]
     },
     "metadata": {},
     "output_type": "display_data"
    },
    {
     "data": {
      "application/javascript": [
       "$('span:contains(\"# Temp\")').closest('.cell').remove();"
      ],
      "text/plain": [
       "<IPython.core.display.Javascript object>"
      ]
     },
     "metadata": {},
     "output_type": "display_data"
    },
    {
     "data": {
      "application/javascript": [
       "\n",
       "        $('span:contains(\"# Temp\")').closest('.cell').remove();\n",
       "        var code = IPython.notebook.insert_cell_below('code');\n",
       "        code.set_text(atob(\"IyBUZW1wCmluc2VydCgnJycKYXJlYTBhID0gREIoV29ya1VucmVsYXRlZCgKICAgIDAsICJEZXNjcmlwdGlvbiBvZiBUaGUgU1dFQk9LIEtub3dsZWRnZSBBcmVhIFNvZnR3YXJlIEVuZ2luZWVyaW5nIFByb2Nlc3MgKFZlcnNpb24gMC41KSIsCiAgICBkaXNwbGF5PSJhcmVhIiwKICAgIGF1dGhvcnM9IkFyZWEsIFNXRUJPSyBLbm93bGVkZ2UiLAogICAgcGxhY2U9RkFLRSwKICAgIGVudHJ5dHlwZT0iYXJ0aWNsZSIsCiAgICBJRD0iYXJlYWRlc2NyaXB0aW9uIiwKICAgIHBsYWNleD0iIiwKKSkKCkRCKENpdGF0aW9uKAogICAgYXJlYTBhLCBtZXNzbmFyejE5OTlhLCByZWY9IiIsCiAgICBjb250ZXh0cz1bCgogICAgXSwKKSkKCicnJywgY2l0YXRpb25zPSdtZXNzbmFyejE5OTlhJyk7\"));\n",
       "    "
      ],
      "text/plain": [
       "<IPython.core.display.Javascript object>"
      ]
     },
     "metadata": {},
     "output_type": "display_data"
    },
    {
     "data": {
      "application/javascript": [
       "$('span:contains(\"# Temp\")').closest('.cell').remove();"
      ],
      "text/plain": [
       "<IPython.core.display.Javascript object>"
      ]
     },
     "metadata": {},
     "output_type": "display_data"
    },
    {
     "data": {
      "application/javascript": [
       "\n",
       "        $('span:contains(\"# Temp\")').closest('.cell').remove();\n",
       "        var code = IPython.notebook.insert_cell_below('code');\n",
       "        code.set_text(atob(\"IyBUZW1wCmluc2VydCgnJycKYmFyYWZvcnQyMDE0YSA9IERCKFdvcmtVbnJlbGF0ZWQoCiAgICAyMDE0LCAiU3lzdGVtcywgU29mdHdhcmUgYW5kIFNlcnZpY2VzIFByb2Nlc3MgSW1wcm92ZW1lbnQ6IDIxc3QgRXVyb3BlYW4gQ29uZmVyZW5jZSwgRXVyb1NQSSAyMDE0LCBMdXhlbWJvdXJnLCBKdW5lIDI1LTI3LCAyMDE0LiBQcm9jZWVkaW5ncyIsCiAgICBkaXNwbGF5PSJiYXJhZm9ydCIsCiAgICBhdXRob3JzPSJCYXJhZm9ydCwgQulhdHJpeCBhbmQgTydDb25ub3IsIFJvcnkgViBhbmQgUG90aCwgQWxleGFuZGVyIGFuZCBNZXNzbmFyeiwgUmljaGFyZCIsCiAgICBwbGFjZT1Cb29rLAogICAgZW50cnl0eXBlPSJib29rIiwKICAgIHZvbHVtZT0iNDI1IiwKICAgIHB1Ymxpc2hlcj0iU3ByaW5nZXIiLAogICAgSUQ9ImJhcmFmb3J0MjAxNHN5c3RlbXMiLAogICAgcGxhY2V4PSIiLAopKQoKREIoQ2l0YXRpb24oCiAgICBiYXJhZm9ydDIwMTRhLCBtZXNzbmFyejE5OTlhLCByZWY9IiIsCiAgICBjb250ZXh0cz1bCgogICAgXSwKKSkKCicnJywgY2l0YXRpb25zPSdtZXNzbmFyejE5OTlhJyk7\"));\n",
       "    "
      ],
      "text/plain": [
       "<IPython.core.display.Javascript object>"
      ]
     },
     "metadata": {},
     "output_type": "display_data"
    },
    {
     "data": {
      "application/javascript": [
       "$('span:contains(\"# Temp\")').closest('.cell').remove();"
      ],
      "text/plain": [
       "<IPython.core.display.Javascript object>"
      ]
     },
     "metadata": {},
     "output_type": "display_data"
    },
    {
     "data": {
      "application/javascript": [
       "\n",
       "        $('span:contains(\"# Temp\")').closest('.cell').remove();\n",
       "        var code = IPython.notebook.insert_cell_below('code');\n",
       "        code.set_text(atob(\"IyBUZW1wCmluc2VydCgnJycKYmFyYWZvcnQyMDE0YSA9IERCKFdvcmtVbnJlbGF0ZWQoCiAgICAyMDE0LCAiU3lzdGVtcywgU29mdHdhcmUgYW5kIFNlcnZpY2VzIFByb2Nlc3MgSW1wcm92ZW1lbnQ6IDIxc3QgRXVyb3BlYW4gQ29uZmVyZW5jZSwgRXVyb1NQSSAyMDE0LCBMdXhlbWJvdXJnLCBKdW5lIDI1LTI3LCAyMDE0LiBQcm9jZWVkaW5ncyIsCiAgICBkaXNwbGF5PSJiYXJhZm9ydCIsCiAgICBhdXRob3JzPSJCYXJhZm9ydCwgQulhdHJpeCBhbmQgTydDb25ub3IsIFJvcnkgViBhbmQgUG90aCwgQWxleGFuZGVyIGFuZCBNZXNzbmFyeiwgUmljaGFyZCIsCiAgICBwbGFjZT1Cb29rLAogICAgZW50cnl0eXBlPSJib29rIiwKICAgIHZvbHVtZT0iNDI1IiwKICAgIHB1Ymxpc2hlcj0iU3ByaW5nZXIiLAogICAgSUQ9ImJhcmFmb3J0MjAxNHN5c3RlbXMiLAogICAgcGxhY2V4PSIiLAopKQoKREIoQ2l0YXRpb24oCiAgICBiYXJhZm9ydDIwMTRhLCBtZXNzbmFyejE5OTlhLCByZWY9IiIsCiAgICBjb250ZXh0cz1bCgogICAgXSwKKSkKCicnJywgY2l0YXRpb25zPSdtZXNzbmFyejE5OTlhJyk7\"));\n",
       "    "
      ],
      "text/plain": [
       "<IPython.core.display.Javascript object>"
      ]
     },
     "metadata": {},
     "output_type": "display_data"
    },
    {
     "data": {
      "application/javascript": [
       "$('span:contains(\"# Temp\")').closest('.cell').remove();"
      ],
      "text/plain": [
       "<IPython.core.display.Javascript object>"
      ]
     },
     "metadata": {},
     "output_type": "display_data"
    },
    {
     "data": {
      "application/javascript": [
       "\n",
       "        $('span:contains(\"# Temp\")').closest('.cell').remove();\n",
       "        var code = IPython.notebook.insert_cell_below('code');\n",
       "        code.set_text(atob(\"IyBUZW1wCmluc2VydCgnJycKd2lua2xlcjIwMTJhID0gREIoV29ya1VucmVsYXRlZCgKICAgIDIwMTIsICJTeXN0ZW1zLCBTb2Z0d2FyZSBhbmQgU2VydmljZXMgUHJvY2VzcyBJbXByb3ZlbWVudDogMTl0aCBFdXJvcGVhbiBDb25mZXJlbmNlLCBFdXJvU1BJIDIwMTIsIFZpZW5uYSwgQXVzdHJpYSwgSnVuZSAyNS0yNywgMjAxMi4gUHJvY2VlZGluZ3MiLAogICAgZGlzcGxheT0id2lua2xlciIsCiAgICBhdXRob3JzPSJXaW5rbGVyLCBEaWV0bWFyIGFuZCBPkkNvbm5vciwgUm9yeSBWIGFuZCBNZXNzbmFyeiwgUmljaGFyZCIsCiAgICBwbGFjZT1Cb29rLAogICAgZW50cnl0eXBlPSJib29rIiwKICAgIHZvbHVtZT0iMzAxIiwKICAgIHB1Ymxpc2hlcj0iU3ByaW5nZXIiLAogICAgSUQ9IndpbmtsZXIyMDEyc3lzdGVtcyIsCiAgICBwbGFjZXg9IiIsCikpCgpEQihDaXRhdGlvbigKICAgIHdpbmtsZXIyMDEyYSwgbWVzc25hcnoxOTk5YSwgcmVmPSIiLAogICAgY29udGV4dHM9WwoKICAgIF0sCikpCgonJycsIGNpdGF0aW9ucz0nbWVzc25hcnoxOTk5YScpOw==\"));\n",
       "    "
      ],
      "text/plain": [
       "<IPython.core.display.Javascript object>"
      ]
     },
     "metadata": {},
     "output_type": "display_data"
    },
    {
     "data": {
      "application/javascript": [
       "$('span:contains(\"# Temp\")').closest('.cell').remove();"
      ],
      "text/plain": [
       "<IPython.core.display.Javascript object>"
      ]
     },
     "metadata": {},
     "output_type": "display_data"
    },
    {
     "data": {
      "application/javascript": [
       "\n",
       "        $('span:contains(\"# Temp\")').closest('.cell').remove();\n",
       "        var code = IPython.notebook.insert_cell_below('code');\n",
       "        code.set_text(atob(\"IyBUZW1wCmluc2VydCgnJycKd2lua2xlcjIwMTJhID0gREIoV29ya1VucmVsYXRlZCgKICAgIDIwMTIsICJTeXN0ZW1zLCBTb2Z0d2FyZSBhbmQgU2VydmljZXMgUHJvY2VzcyBJbXByb3ZlbWVudDogMTl0aCBFdXJvcGVhbiBDb25mZXJlbmNlLCBFdXJvU1BJIDIwMTIsIFZpZW5uYSwgQXVzdHJpYSwgSnVuZSAyNS0yNywgMjAxMi4gUHJvY2VlZGluZ3MiLAogICAgZGlzcGxheT0id2lua2xlciIsCiAgICBhdXRob3JzPSJXaW5rbGVyLCBEaWV0bWFyIGFuZCBPkkNvbm5vciwgUm9yeSBWIGFuZCBNZXNzbmFyeiwgUmljaGFyZCIsCiAgICBwbGFjZT1Cb29rLAogICAgZW50cnl0eXBlPSJib29rIiwKICAgIHZvbHVtZT0iMzAxIiwKICAgIHB1Ymxpc2hlcj0iU3ByaW5nZXIiLAogICAgSUQ9IndpbmtsZXIyMDEyc3lzdGVtcyIsCiAgICBwbGFjZXg9IiIsCikpCgpEQihDaXRhdGlvbigKICAgIHdpbmtsZXIyMDEyYSwgbWVzc25hcnoxOTk5YSwgcmVmPSIiLAogICAgY29udGV4dHM9WwoKICAgIF0sCikpCgonJycsIGNpdGF0aW9ucz0nbWVzc25hcnoxOTk5YScpOw==\"));\n",
       "    "
      ],
      "text/plain": [
       "<IPython.core.display.Javascript object>"
      ]
     },
     "metadata": {},
     "output_type": "display_data"
    },
    {
     "data": {
      "application/javascript": [
       "$('span:contains(\"# Temp\")').closest('.cell').remove();"
      ],
      "text/plain": [
       "<IPython.core.display.Javascript object>"
      ]
     },
     "metadata": {},
     "output_type": "display_data"
    },
    {
     "data": {
      "application/javascript": [
       "\n",
       "        $('span:contains(\"# Temp\")').closest('.cell').remove();\n",
       "        var code = IPython.notebook.insert_cell_below('code');\n",
       "        code.set_text(atob(\"IyBUZW1wCmluc2VydCgnJycKbWVzc25hcnowYSA9IERCKFdvcmtVbnJlbGF0ZWQoCiAgICAwLCAiTUlLTE9TIEJJUk8iLAogICAgZGlzcGxheT0ibWVzc25hcnoiLAogICAgYXV0aG9ycz0iTUVTU05BUlosIFJJQ0hBUkQgYW5kIERBVklTT04sIEFMRlJFRCBHIiwKICAgIHBsYWNlPUZBS0UsCiAgICBlbnRyeXR5cGU9ImFydGljbGUiLAogICAgSUQ9Im1lc3NuYXJ6bWlrbG9zIiwKICAgIHBsYWNleD0iIiwKKSkKCkRCKENpdGF0aW9uKAogICAgbWVzc25hcnowYSwgbWVzc25hcnoxOTk5YSwgcmVmPSIiLAogICAgY29udGV4dHM9WwoKICAgIF0sCikpCgonJycsIGNpdGF0aW9ucz0nbWVzc25hcnoxOTk5YScpOw==\"));\n",
       "    "
      ],
      "text/plain": [
       "<IPython.core.display.Javascript object>"
      ]
     },
     "metadata": {},
     "output_type": "display_data"
    },
    {
     "data": {
      "application/javascript": [
       "$('span:contains(\"# Temp\")').closest('.cell').remove();"
      ],
      "text/plain": [
       "<IPython.core.display.Javascript object>"
      ]
     },
     "metadata": {},
     "output_type": "display_data"
    },
    {
     "data": {
      "application/javascript": [
       "\n",
       "        $('span:contains(\"# Temp\")').closest('.cell').remove();\n",
       "        var code = IPython.notebook.insert_cell_below('code');\n",
       "        code.set_text(atob(\"IyBUZW1wCmluc2VydCgnJycKbWVzc25hcnowYSA9IERCKFdvcmtVbnJlbGF0ZWQoCiAgICAwLCAiTUlLTE9TIEJJUk8iLAogICAgZGlzcGxheT0ibWVzc25hcnoiLAogICAgYXV0aG9ycz0iTUVTU05BUlosIFJJQ0hBUkQgYW5kIERBVklTT04sIEFMRlJFRCBHIiwKICAgIHBsYWNlPUZBS0UsCiAgICBlbnRyeXR5cGU9ImFydGljbGUiLAogICAgSUQ9Im1lc3NuYXJ6bWlrbG9zIiwKICAgIHBsYWNleD0iIiwKKSkKCkRCKENpdGF0aW9uKAogICAgbWVzc25hcnowYSwgbWVzc25hcnoxOTk5YSwgcmVmPSIiLAogICAgY29udGV4dHM9WwoKICAgIF0sCikpCgonJycsIGNpdGF0aW9ucz0nbWVzc25hcnoxOTk5YScpOw==\"));\n",
       "    "
      ],
      "text/plain": [
       "<IPython.core.display.Javascript object>"
      ]
     },
     "metadata": {},
     "output_type": "display_data"
    },
    {
     "data": {
      "application/javascript": [
       "$('span:contains(\"# Temp\")').closest('.cell').remove();"
      ],
      "text/plain": [
       "<IPython.core.display.Javascript object>"
      ]
     },
     "metadata": {},
     "output_type": "display_data"
    },
    {
     "data": {
      "application/javascript": [
       "\n",
       "        $('span:contains(\"# Temp\")').closest('.cell').remove();\n",
       "        var code = IPython.notebook.insert_cell_below('code');\n",
       "        code.set_text(atob(\"IyBUZW1wCmluc2VydCgnJycKcm9zZTIwMTVhID0gREIoV29ya1VucmVsYXRlZCgKICAgIDIwMTUsICJJbXByb3Zpbmcgc29mdHdhcmUgbWFuYWdlbWVudDogdGhlIGluZHVzdHJ5IG1vZGVsLCB0aGUga25vd2xlZGdlIG1vZGVsLCB0aGUgbmV0d29yayBtb2RlbCIsCiAgICBkaXNwbGF5PSJyb3NlIiwKICAgIGF1dGhvcnM9IlJvc2UsIEplcmVteSIsCiAgICBwbGFjZT1GQUtFLAogICAgcHA9IjktLTIzIiwKICAgIGVudHJ5dHlwZT0iYXJ0aWNsZSIsCiAgICB2b2x1bWU9IjExIiwKICAgIG51bWJlcj0iMSIsCiAgICBwdWJsaXNoZXI9IlNwcmluZ2VyIiwKICAgIElEPSJyb3NlMjAxNWltcHJvdmluZyIsCiAgICBwbGFjZXg9Iklubm92YXRpb25zIGluIFN5c3RlbXMgYW5kIFNvZnR3YXJlIEVuZ2luZWVyaW5nIiwKKSkKCkRCKENpdGF0aW9uKAogICAgcm9zZTIwMTVhLCBtZXNzbmFyejE5OTlhLCByZWY9IiIsCiAgICBjb250ZXh0cz1bCgogICAgXSwKKSkKCicnJywgY2l0YXRpb25zPSdtZXNzbmFyejE5OTlhJyk7\"));\n",
       "    "
      ],
      "text/plain": [
       "<IPython.core.display.Javascript object>"
      ]
     },
     "metadata": {},
     "output_type": "display_data"
    },
    {
     "data": {
      "application/javascript": [
       "$('span:contains(\"# Temp\")').closest('.cell').remove();"
      ],
      "text/plain": [
       "<IPython.core.display.Javascript object>"
      ]
     },
     "metadata": {},
     "output_type": "display_data"
    },
    {
     "data": {
      "application/javascript": [
       "\n",
       "        $('span:contains(\"# Temp\")').closest('.cell').remove();\n",
       "        var code = IPython.notebook.insert_cell_below('code');\n",
       "        code.set_text(atob(\"IyBUZW1wCmluc2VydCgnJycKcm9zZTIwMTVhID0gREIoV29ya1VucmVsYXRlZCgKICAgIDIwMTUsICJJbXByb3Zpbmcgc29mdHdhcmUgbWFuYWdlbWVudDogdGhlIGluZHVzdHJ5IG1vZGVsLCB0aGUga25vd2xlZGdlIG1vZGVsLCB0aGUgbmV0d29yayBtb2RlbCIsCiAgICBkaXNwbGF5PSJyb3NlIiwKICAgIGF1dGhvcnM9IlJvc2UsIEplcmVteSIsCiAgICBwbGFjZT1GQUtFLAogICAgcHA9IjktLTIzIiwKICAgIGVudHJ5dHlwZT0iYXJ0aWNsZSIsCiAgICB2b2x1bWU9IjExIiwKICAgIG51bWJlcj0iMSIsCiAgICBwdWJsaXNoZXI9IlNwcmluZ2VyIiwKICAgIElEPSJyb3NlMjAxNWltcHJvdmluZyIsCiAgICBwbGFjZXg9Iklubm92YXRpb25zIGluIFN5c3RlbXMgYW5kIFNvZnR3YXJlIEVuZ2luZWVyaW5nIiwKKSkKCkRCKENpdGF0aW9uKAogICAgcm9zZTIwMTVhLCBtZXNzbmFyejE5OTlhLCByZWY9IiIsCiAgICBjb250ZXh0cz1bCgogICAgXSwKKSkKCicnJywgY2l0YXRpb25zPSdtZXNzbmFyejE5OTlhJyk7\"));\n",
       "    "
      ],
      "text/plain": [
       "<IPython.core.display.Javascript object>"
      ]
     },
     "metadata": {},
     "output_type": "display_data"
    },
    {
     "data": {
      "application/javascript": [
       "$('span:contains(\"# Temp\")').closest('.cell').remove();"
      ],
      "text/plain": [
       "<IPython.core.display.Javascript object>"
      ]
     },
     "metadata": {},
     "output_type": "display_data"
    },
    {
     "data": {
      "application/javascript": [
       "$('span:contains(\"# Temp\")').closest('.cell').remove();"
      ],
      "text/plain": [
       "<IPython.core.display.Javascript object>"
      ]
     },
     "metadata": {},
     "output_type": "display_data"
    }
   ],
   "source": [
    "manager"
   ]
  },
  {
   "cell_type": "code",
   "execution_count": null,
   "metadata": {
    "collapsed": true
   },
   "outputs": [],
   "source": []
  }
 ],
 "metadata": {
  "kernelspec": {
   "display_name": "Python 3",
   "language": "python",
   "name": "python3"
  },
  "language_info": {
   "codemirror_mode": {
    "name": "ipython",
    "version": 3
   },
   "file_extension": ".py",
   "mimetype": "text/x-python",
   "name": "python",
   "nbconvert_exporter": "python",
   "pygments_lexer": "ipython3",
   "version": "3.6.0"
  },
  "toc": {
   "nav_menu": {
    "height": "12px",
    "width": "252px"
   },
   "number_sections": true,
   "sideBar": true,
   "skip_h1_title": false,
   "toc_cell": false,
   "toc_position": {},
   "toc_section_display": "block",
   "toc_window_display": false
  }
 },
 "nbformat": 4,
 "nbformat_minor": 1
}
