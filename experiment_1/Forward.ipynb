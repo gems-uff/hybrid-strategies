{
 "cells": [
  {
   "cell_type": "code",
   "execution_count": 1,
   "metadata": {
    "collapsed": true
   },
   "outputs": [],
   "source": [
    "import database\n",
    "from snowballing.operations import load_work, reload, work_by_varname\n",
    "from snowballing.selenium_scholar import SeleniumScholarQuerier\n",
    "from snowballing.snowballing import ForwardSnowballing\n",
    "from snowballing.dbmanager import insert, set_attribute\n",
    "from custom_snowballing import UnrelatedForward"
   ]
  },
  {
   "cell_type": "code",
   "execution_count": 2,
   "metadata": {
    "collapsed": true
   },
   "outputs": [],
   "source": [
    "querier = SeleniumScholarQuerier()"
   ]
  },
  {
   "cell_type": "code",
   "execution_count": 3,
   "metadata": {
    "scrolled": true
   },
   "outputs": [
    {
     "name": "stderr",
     "output_type": "stream",
     "text": [
      "[ INFO]  settings applied\n"
     ]
    }
   ],
   "source": [
    "querier.apply_settings(20, 4);"
   ]
  },
  {
   "cell_type": "code",
   "execution_count": 4,
   "metadata": {
    "collapsed": true
   },
   "outputs": [],
   "source": [
    "#manager = ForwardSnowballing(querier, \"mendes2004a\", start=60)\n",
    "import importlib\n",
    "import custom_snowballing\n",
    "importlib.reload(custom_snowballing)\n",
    "from custom_snowballing import UnrelatedForward\n",
    "manager = UnrelatedForward(querier, \"petersen2015a\", start=0)"
   ]
  },
  {
   "cell_type": "code",
   "execution_count": null,
   "metadata": {
    "collapsed": true
   },
   "outputs": [],
   "source": []
  },
  {
   "cell_type": "code",
   "execution_count": 5,
   "metadata": {
    "scrolled": true
   },
   "outputs": [
    {
     "data": {
      "application/vnd.jupyter.widget-view+json": {
       "model_id": "43d369edd693400c84915f26533fa2cc",
       "version_major": 2,
       "version_minor": 0
      },
      "text/html": [
       "<p>Failed to display Jupyter Widget of type <code>Tab</code>.</p>\n",
       "<p>\n",
       "  If you're reading this message in Jupyter Notebook or JupyterLab, it may mean\n",
       "  that the widgets JavaScript is still loading. If this message persists, it\n",
       "  likely means that the widgets JavaScript library is either not installed or\n",
       "  not enabled. See the <a href=\"https://ipywidgets.readthedocs.io/en/stable/user_install.html\">Jupyter\n",
       "  Widgets Documentation</a> for setup instructions.\n",
       "</p>\n",
       "<p>\n",
       "  If you're reading this message in another notebook frontend (for example, a static\n",
       "  rendering on GitHub or <a href=\"https://nbviewer.jupyter.org/\">NBViewer</a>),\n",
       "  it may mean that your frontend doesn't currently support widgets.\n",
       "</p>\n"
      ],
      "text/plain": [
       "Tab(children=(VBox(children=(HBox(children=(Button(description='Previous Page', disabled=True, icon='arrow-left', style=ButtonStyle()), Button(description='Reload', icon='refresh', style=ButtonStyle()), Button(description='Next Page', disabled=True, icon='arrow-right', style=ButtonStyle()), ToggleButton(value=False, description='Debug'), Label(value='0'))), Output())), VBox(children=(HBox(children=(Button(description='Previous Article', disabled=True, icon='caret-left', style=ButtonStyle()), Button(description='Reload Article', icon='refresh', style=ButtonStyle()), Button(description='Next Article', icon='caret-right', style=ButtonStyle()))), HBox(children=(Button(description='Unrelated: Scripts', style=ButtonStyle()), Button(description='Unrelated: Provenance', style=ButtonStyle()), Button(description='Both', style=ButtonStyle()), Button(description='Ok', style=ButtonStyle()))), HBox(children=(Dropdown(description='Type', index=5, options=('Work', 'WorkSnowball', 'WorkForward', 'WorkBackward', 'WorkOk', 'WorkUnrelated', 'WorkNoFile', 'WorkLang', 'Site', 'Email'), value='WorkUnrelated'), ToggleButton(value=False, description='File'))), HBox(children=(Text(value='', description='Due'), Text(value='', description='Place'))), HBox(children=(Text(value='', description='Year'), Text(value='', description='Prefix Var'))), HBox(children=(Text(value='', description='PDFPage'), Text(value='', description='Related'))), HBox(children=(Text(value='', description='Display'), Text(value='', description='Summary'))), HBox(children=(Text(value='', description='Star'), Text(value='', description='Link'))), HBox(children=(Button(description='Reload Article', icon='refresh', style=ButtonStyle()), IntSlider(value=0, max=9), Label(value='1/10'))), Output()))), _titles={'0': 'Page', '1': 'Article'})"
      ]
     },
     "metadata": {},
     "output_type": "display_data"
    },
    {
     "data": {
      "application/javascript": [
       "$('span:contains(\"# Temp\")').closest('.cell').remove();"
      ],
      "text/plain": [
       "<IPython.core.display.Javascript object>"
      ]
     },
     "metadata": {},
     "output_type": "display_data"
    },
    {
     "data": {
      "application/javascript": [
       "\n",
       "        $('span:contains(\"# Temp\")').closest('.cell').remove();\n",
       "        var code = IPython.notebook.insert_cell_below('code');\n",
       "        code.set_text(atob(\"IyBUZW1wCmluc2VydCgnJycKcGV0ZXJzZW4yMDE0YSA9IERCKFdvcmtVbnJlbGF0ZWQoCiAgICAyMDE0LCAiQWN0aW9uIHJlc2VhcmNoIGFzIGEgbW9kZWwgZm9yIGluZHVzdHJ5LWFjYWRlbWlhIGNvbGxhYm9yYXRpb24gaW4gdGhlIHNvZnR3YXJlIGVuZ2luZWVyaW5nIGNvbnRleHQiLAogICAgZGlzcGxheT0icGV0ZXJzZW4iLAogICAgYXV0aG9ycz0iUGV0ZXJzZW4sIEthaSBhbmQgR2VuY2VsLCBDaWdkZW0gYW5kIEFzZ2hhcmksIE5lZ2luIGFuZCBCYWNhLCBEZWphbiBhbmQgQmV0eiwgU3RlZmFuaWUiLAogICAgcGxhY2U9RkFLRSwKICAgIHBwPSI1NS0tNjIiLAogICAgZW50cnl0eXBlPSJpbnByb2NlZWRpbmdzIiwKICAgIG9yZ2FuaXphdGlvbj0iQUNNIiwKICAgIElEPSJwZXRlcnNlbjIwMTRhY3Rpb24iLAogICAgY2x1c3Rlcl9pZD0iNjc2Njk0NTA0ODk2ODU1Nzg3NCIsCiAgICBzY2hvbGFyPSJodHRwOi8vc2Nob2xhci5nb29nbGUuY29tL3NjaG9sYXI/Y2l0ZXM9Njc2Njk0NTA0ODk2ODU1Nzg3NCZhc19zZHQ9MjAwNSZzY2lvZHQ9MCw1JmhsPWVuIiwKICAgIHBsYWNleD0iUHJvY2VlZGluZ3Mgb2YgdGhlIDIwMTQgaW50ZXJuYXRpb25hbCB3b3Jrc2hvcCBvbiBMb25nLXRlcm0gaW5kdXN0cmlhbCBjb2xsYWJvcmF0aW9uIG9uIHNvZnR3YXJlIGVuZ2luZWVyaW5nIiwKKSkKCkRCKENpdGF0aW9uKAogICAgcGV0ZXJzZW4yMDE0YSwgcGV0ZXJzZW4yMDE1YSwgcmVmPSIiLAogICAgY29udGV4dHM9WwoKICAgIF0sCikpCgonJycsIGNpdGF0aW9ucz0ncGV0ZXJzZW4yMDE1YScpOw==\"));\n",
       "    "
      ],
      "text/plain": [
       "<IPython.core.display.Javascript object>"
      ]
     },
     "metadata": {},
     "output_type": "display_data"
    },
    {
     "data": {
      "application/javascript": [
       "$('span:contains(\"# Temp\")').closest('.cell').remove();"
      ],
      "text/plain": [
       "<IPython.core.display.Javascript object>"
      ]
     },
     "metadata": {},
     "output_type": "display_data"
    },
    {
     "data": {
      "application/javascript": [
       "\n",
       "        $('span:contains(\"# Temp\")').closest('.cell').remove();\n",
       "        var code = IPython.notebook.insert_cell_below('code');\n",
       "        code.set_text(atob(\"IyBUZW1wCmluc2VydCgnJycKdGFoaXIyMDE2YSA9IERCKFdvcmtVbnJlbGF0ZWQoCiAgICAyMDE2LCAiQSBzeXN0ZW1hdGljIGxpdGVyYXR1cmUgcmV2aWV3IG9uIHNvZnR3YXJlIG1lYXN1cmVtZW50IHByb2dyYW1zIiwKICAgIGRpc3BsYXk9InRhaGlyIiwKICAgIGF1dGhvcnM9IlRhaGlyLCBUb3VzZWVmIGFuZCBSYXNvb2wsIEdodWxhbSBhbmQgR2VuY2VsLCBDaWdkZW0iLAogICAgcGxhY2U9SVNULAogICAgcHA9IjEwMS0tMTIxIiwKICAgIGVudHJ5dHlwZT0iYXJ0aWNsZSIsCiAgICB2b2x1bWU9IjczIiwKICAgIHB1Ymxpc2hlcj0iRWxzZXZpZXIiLAogICAgSUQ9InRhaGlyMjAxNnN5c3RlbWF0aWMiLAogICAgY2x1c3Rlcl9pZD0iMTE1ODUyNDQ2Mzg1NTQzMjU4NDgiLAogICAgc2Nob2xhcj0iaHR0cDovL3NjaG9sYXIuZ29vZ2xlLmNvbS9zY2hvbGFyP2NpdGVzPTExNTg1MjQ0NjM4NTU0MzI1ODQ4JmFzX3NkdD0yMDA1JnNjaW9kdD0wLDUmaGw9ZW4iLAogICAgcGxhY2V4PSJJbmZvcm1hdGlvbiBhbmQgU29mdHdhcmUgVGVjaG5vbG9neSIsCikpCgpEQihDaXRhdGlvbigKICAgIHRhaGlyMjAxNmEsIHBldGVyc2VuMjAxNWEsIHJlZj0iIiwKICAgIGNvbnRleHRzPVsKCiAgICBdLAopKQoKJycnLCBjaXRhdGlvbnM9J3BldGVyc2VuMjAxNWEnKTs=\"));\n",
       "    "
      ],
      "text/plain": [
       "<IPython.core.display.Javascript object>"
      ]
     },
     "metadata": {},
     "output_type": "display_data"
    },
    {
     "data": {
      "application/javascript": [
       "$('span:contains(\"# Temp\")').closest('.cell').remove();"
      ],
      "text/plain": [
       "<IPython.core.display.Javascript object>"
      ]
     },
     "metadata": {},
     "output_type": "display_data"
    },
    {
     "data": {
      "application/javascript": [
       "\n",
       "        $('span:contains(\"# Temp\")').closest('.cell').remove();\n",
       "        var code = IPython.notebook.insert_cell_below('code');\n",
       "        code.set_text(atob(\"IyBUZW1wCmluc2VydCgnJycKdGFoaXIyMDE2YSA9IERCKFdvcmtVbnJlbGF0ZWQoCiAgICAyMDE2LCAiQSBzeXN0ZW1hdGljIGxpdGVyYXR1cmUgcmV2aWV3IG9uIHNvZnR3YXJlIG1lYXN1cmVtZW50IHByb2dyYW1zIiwKICAgIGRpc3BsYXk9InRhaGlyIiwKICAgIGF1dGhvcnM9IlRhaGlyLCBUb3VzZWVmIGFuZCBSYXNvb2wsIEdodWxhbSBhbmQgR2VuY2VsLCBDaWdkZW0iLAogICAgcGxhY2U9SVNULAogICAgcHA9IjEwMS0tMTIxIiwKICAgIGVudHJ5dHlwZT0iYXJ0aWNsZSIsCiAgICB2b2x1bWU9IjczIiwKICAgIHB1Ymxpc2hlcj0iRWxzZXZpZXIiLAogICAgSUQ9InRhaGlyMjAxNnN5c3RlbWF0aWMiLAogICAgY2x1c3Rlcl9pZD0iMTE1ODUyNDQ2Mzg1NTQzMjU4NDgiLAogICAgc2Nob2xhcj0iaHR0cDovL3NjaG9sYXIuZ29vZ2xlLmNvbS9zY2hvbGFyP2NpdGVzPTExNTg1MjQ0NjM4NTU0MzI1ODQ4JmFzX3NkdD0yMDA1JnNjaW9kdD0wLDUmaGw9ZW4iLAogICAgcGxhY2V4PSJJbmZvcm1hdGlvbiBhbmQgU29mdHdhcmUgVGVjaG5vbG9neSIsCikpCgpEQihDaXRhdGlvbigKICAgIHRhaGlyMjAxNmEsIHBldGVyc2VuMjAxNWEsIHJlZj0iIiwKICAgIGNvbnRleHRzPVsKCiAgICBdLAopKQoKJycnLCBjaXRhdGlvbnM9J3BldGVyc2VuMjAxNWEnKTs=\"));\n",
       "    "
      ],
      "text/plain": [
       "<IPython.core.display.Javascript object>"
      ]
     },
     "metadata": {},
     "output_type": "display_data"
    },
    {
     "data": {
      "application/javascript": [
       "$('span:contains(\"# Temp\")').closest('.cell').remove();"
      ],
      "text/plain": [
       "<IPython.core.display.Javascript object>"
      ]
     },
     "metadata": {},
     "output_type": "display_data"
    },
    {
     "data": {
      "application/javascript": [
       "\n",
       "        $('span:contains(\"# Temp\")').closest('.cell').remove();\n",
       "        var code = IPython.notebook.insert_cell_below('code');\n",
       "        code.set_text(atob(\"IyBUZW1wCmluc2VydCgnJycKdHJpbmtlbnJlaWNoMjAxN2EgPSBEQihXb3JrVW5yZWxhdGVkKAogICAgMjAxNywgIkEgTWV0aG9kIFRvIFNlbGVjdCBHb2FscywgSW5kaWNhdG9ycyBhbmQgU3RyYXRlZ2llcyBmb3IgSVQgU2VydmljZXMiLAogICAgZGlzcGxheT0idHJpbmtlbnJlaWNoIiwKICAgIGF1dGhvcnM9IlRyaW5rZW5yZWljaCwgQmlhbmNhIGFuZCBTYW50b3MsIEdsZWlzb24gYW5kIEJhcmNlbGxvcywgTW9uYWxlc3NhIFBlcmluaSIsCiAgICBwbGFjZT1GQUtFLAogICAgZW50cnl0eXBlPSJhcnRpY2xlIiwKICAgIHZvbHVtZT0iMTAiLAogICAgbnVtYmVyPSIxIiwKICAgIElEPSJ0cmlua2VucmVpY2gyMDE3bWV0aG9kIiwKICAgIGNsdXN0ZXJfaWQ9Ijk3ODg2NjIzNjEwMzcyMTc1MDIiLAogICAgc2Nob2xhcj0iaHR0cDovL3NjaG9sYXIuZ29vZ2xlLmNvbS9zY2hvbGFyP2NpdGVzPTk3ODg2NjIzNjEwMzcyMTc1MDImYXNfc2R0PTIwMDUmc2Npb2R0PTAsNSZobD1lbiIsCiAgICBwbGFjZXg9IlJlbGFUZS1ESUEiLAopKQoKREIoQ2l0YXRpb24oCiAgICB0cmlua2VucmVpY2gyMDE3YSwgcGV0ZXJzZW4yMDE1YSwgcmVmPSIiLAogICAgY29udGV4dHM9WwoKICAgIF0sCikpCgonJycsIGNpdGF0aW9ucz0ncGV0ZXJzZW4yMDE1YScpOw==\"));\n",
       "    "
      ],
      "text/plain": [
       "<IPython.core.display.Javascript object>"
      ]
     },
     "metadata": {},
     "output_type": "display_data"
    },
    {
     "data": {
      "application/javascript": [
       "$('span:contains(\"# Temp\")').closest('.cell').remove();"
      ],
      "text/plain": [
       "<IPython.core.display.Javascript object>"
      ]
     },
     "metadata": {},
     "output_type": "display_data"
    },
    {
     "data": {
      "application/javascript": [
       "\n",
       "        $('span:contains(\"# Temp\")').closest('.cell').remove();\n",
       "        var code = IPython.notebook.insert_cell_below('code');\n",
       "        code.set_text(atob(\"IyBUZW1wCmluc2VydCgnJycKdHJpbmtlbnJlaWNoMjAxN2EgPSBEQihXb3JrVW5yZWxhdGVkKAogICAgMjAxNywgIkEgTWV0aG9kIFRvIFNlbGVjdCBHb2FscywgSW5kaWNhdG9ycyBhbmQgU3RyYXRlZ2llcyBmb3IgSVQgU2VydmljZXMiLAogICAgZGlzcGxheT0idHJpbmtlbnJlaWNoIiwKICAgIGF1dGhvcnM9IlRyaW5rZW5yZWljaCwgQmlhbmNhIGFuZCBTYW50b3MsIEdsZWlzb24gYW5kIEJhcmNlbGxvcywgTW9uYWxlc3NhIFBlcmluaSIsCiAgICBwbGFjZT1GQUtFLAogICAgZW50cnl0eXBlPSJhcnRpY2xlIiwKICAgIHZvbHVtZT0iMTAiLAogICAgbnVtYmVyPSIxIiwKICAgIElEPSJ0cmlua2VucmVpY2gyMDE3bWV0aG9kIiwKICAgIGNsdXN0ZXJfaWQ9Ijk3ODg2NjIzNjEwMzcyMTc1MDIiLAogICAgc2Nob2xhcj0iaHR0cDovL3NjaG9sYXIuZ29vZ2xlLmNvbS9zY2hvbGFyP2NpdGVzPTk3ODg2NjIzNjEwMzcyMTc1MDImYXNfc2R0PTIwMDUmc2Npb2R0PTAsNSZobD1lbiIsCiAgICBwbGFjZXg9IlJlbGFUZS1ESUEiLAopKQoKREIoQ2l0YXRpb24oCiAgICB0cmlua2VucmVpY2gyMDE3YSwgcGV0ZXJzZW4yMDE1YSwgcmVmPSIiLAogICAgY29udGV4dHM9WwoKICAgIF0sCikpCgonJycsIGNpdGF0aW9ucz0ncGV0ZXJzZW4yMDE1YScpOw==\"));\n",
       "    "
      ],
      "text/plain": [
       "<IPython.core.display.Javascript object>"
      ]
     },
     "metadata": {},
     "output_type": "display_data"
    },
    {
     "data": {
      "application/javascript": [
       "$('span:contains(\"# Temp\")').closest('.cell').remove();"
      ],
      "text/plain": [
       "<IPython.core.display.Javascript object>"
      ]
     },
     "metadata": {},
     "output_type": "display_data"
    },
    {
     "data": {
      "application/javascript": [
       "\n",
       "        $('span:contains(\"# Temp\")').closest('.cell').remove();\n",
       "        var code = IPython.notebook.insert_cell_below('code');\n",
       "        code.set_text(atob(\"IyBUZW1wCmluc2VydCgnJycKbPNwZXoyMDE2YSA9IERCKFdvcmtVbnJlbGF0ZWQoCiAgICAyMDE2LCAiQXBwbGljYXRpb24gb2YgR1FNKyBTdHJhdGVnaWVzIGluIGEgTXVsdGktaW5kdXN0cnkgU3RhdGUtT3duZWQgQ29tcGFueSIsCiAgICBkaXNwbGF5PSJs83BleiIsCiAgICBhdXRob3JzPSJM83BleiwgR3VzdGF2byBhbmQgQXltZXJpY2gsIEJyZW5kYSBhbmQgR2FyYmFuem8sIERpYW5hIGFuZCBQYWNoZWNvLCBBbGV4aWEiLAogICAgcGxhY2U9SUNQRlNQSSwKICAgIHBwPSIxOTgtLTIxNCIsCiAgICBlbnRyeXR5cGU9ImlucHJvY2VlZGluZ3MiLAogICAgb3JnYW5pemF0aW9uPSJTcHJpbmdlciIsCiAgICBJRD0ibG9wZXoyMDE2YXBwbGljYXRpb24iLAogICAgY2x1c3Rlcl9pZD0iODYzOTIyNjQ1OTMzNDk0MzU1MiIsCiAgICBzY2hvbGFyPSJodHRwOi8vc2Nob2xhci5nb29nbGUuY29tL3NjaG9sYXI/Y2l0ZXM9ODYzOTIyNjQ1OTMzNDk0MzU1MiZhc19zZHQ9MjAwNSZzY2lvZHQ9MCw1JmhsPWVuIiwKICAgIHBsYWNleD0iSW50ZXJuYXRpb25hbCBDb25mZXJlbmNlIG9uIFByb2R1Y3QtRm9jdXNlZCBTb2Z0d2FyZSBQcm9jZXNzIEltcHJvdmVtZW50IiwKKSkKCkRCKENpdGF0aW9uKAogICAgbPNwZXoyMDE2YSwgcGV0ZXJzZW4yMDE1YSwgcmVmPSIiLAogICAgY29udGV4dHM9WwoKICAgIF0sCikpCgonJycsIGNpdGF0aW9ucz0ncGV0ZXJzZW4yMDE1YScpOw==\"));\n",
       "    "
      ],
      "text/plain": [
       "<IPython.core.display.Javascript object>"
      ]
     },
     "metadata": {},
     "output_type": "display_data"
    },
    {
     "data": {
      "application/javascript": [
       "$('span:contains(\"# Temp\")').closest('.cell').remove();"
      ],
      "text/plain": [
       "<IPython.core.display.Javascript object>"
      ]
     },
     "metadata": {},
     "output_type": "display_data"
    },
    {
     "data": {
      "application/javascript": [
       "\n",
       "        $('span:contains(\"# Temp\")').closest('.cell').remove();\n",
       "        var code = IPython.notebook.insert_cell_below('code');\n",
       "        code.set_text(atob(\"IyBUZW1wCmluc2VydCgnJycKbPNwZXoyMDE2YSA9IERCKFdvcmtVbnJlbGF0ZWQoCiAgICAyMDE2LCAiQXBwbGljYXRpb24gb2YgR1FNKyBTdHJhdGVnaWVzIGluIGEgTXVsdGktaW5kdXN0cnkgU3RhdGUtT3duZWQgQ29tcGFueSIsCiAgICBkaXNwbGF5PSJs83BleiIsCiAgICBhdXRob3JzPSJM83BleiwgR3VzdGF2byBhbmQgQXltZXJpY2gsIEJyZW5kYSBhbmQgR2FyYmFuem8sIERpYW5hIGFuZCBQYWNoZWNvLCBBbGV4aWEiLAogICAgcGxhY2U9SUNQRlNQSSwKICAgIHBwPSIxOTgtLTIxNCIsCiAgICBlbnRyeXR5cGU9ImlucHJvY2VlZGluZ3MiLAogICAgb3JnYW5pemF0aW9uPSJTcHJpbmdlciIsCiAgICBJRD0ibG9wZXoyMDE2YXBwbGljYXRpb24iLAogICAgY2x1c3Rlcl9pZD0iODYzOTIyNjQ1OTMzNDk0MzU1MiIsCiAgICBzY2hvbGFyPSJodHRwOi8vc2Nob2xhci5nb29nbGUuY29tL3NjaG9sYXI/Y2l0ZXM9ODYzOTIyNjQ1OTMzNDk0MzU1MiZhc19zZHQ9MjAwNSZzY2lvZHQ9MCw1JmhsPWVuIiwKICAgIHBsYWNleD0iSW50ZXJuYXRpb25hbCBDb25mZXJlbmNlIG9uIFByb2R1Y3QtRm9jdXNlZCBTb2Z0d2FyZSBQcm9jZXNzIEltcHJvdmVtZW50IiwKKSkKCkRCKENpdGF0aW9uKAogICAgbPNwZXoyMDE2YSwgcGV0ZXJzZW4yMDE1YSwgcmVmPSIiLAogICAgY29udGV4dHM9WwoKICAgIF0sCikpCgonJycsIGNpdGF0aW9ucz0ncGV0ZXJzZW4yMDE1YScpOw==\"));\n",
       "    "
      ],
      "text/plain": [
       "<IPython.core.display.Javascript object>"
      ]
     },
     "metadata": {},
     "output_type": "display_data"
    },
    {
     "data": {
      "application/javascript": [
       "$('span:contains(\"# Temp\")').closest('.cell').remove();"
      ],
      "text/plain": [
       "<IPython.core.display.Javascript object>"
      ]
     },
     "metadata": {},
     "output_type": "display_data"
    },
    {
     "data": {
      "application/javascript": [
       "\n",
       "        $('span:contains(\"# Temp\")').closest('.cell').remove();\n",
       "        var code = IPython.notebook.insert_cell_below('code');\n",
       "        code.set_text(atob(\"IyBUZW1wCmluc2VydCgnJycKbWFuZGkyMDE3YSA9IERCKFdvcmtVbnJlbGF0ZWQoCiAgICAyMDE3LCAiQW4gZXh0ZW5zaW9uIG9mIHRoZSBHUU0rIFN0cmF0ZWdpZXMgYXBwcm9hY2ggd2l0aCBmb3JtYWwgY2F1c2FsIHJlYXNvbmluZyIsCiAgICBkaXNwbGF5PSJtYW5kaSIsCiAgICBhdXRob3JzPSJNYW5kaXtjP30sIFZsYWRpbWlyIGFuZCBHdm96ZGVub3Zpe2M/fSwgTmVib2p7mn1hIiwKICAgIHBsYWNlPUlTVCwKICAgIHBwPSIxMjctLTE0NyIsCiAgICBlbnRyeXR5cGU9ImFydGljbGUiLAogICAgdm9sdW1lPSI4OCIsCiAgICBwdWJsaXNoZXI9IkVsc2V2aWVyIiwKICAgIElEPSJtYW5kaWMyMDE3ZXh0ZW5zaW9uIiwKICAgIGNsdXN0ZXJfaWQ9IjEwMDU5OTUxOTcwMzkwODY2NzY1IiwKICAgIHNjaG9sYXI9Imh0dHA6Ly9zY2hvbGFyLmdvb2dsZS5jb20vc2Nob2xhcj9jaXRlcz0xMDA1OTk1MTk3MDM5MDg2Njc2NSZhc19zZHQ9MjAwNSZzY2lvZHQ9MCw1JmhsPWVuIiwKICAgIHBsYWNleD0iSW5mb3JtYXRpb24gYW5kIFNvZnR3YXJlIFRlY2hub2xvZ3kiLAopKQoKREIoQ2l0YXRpb24oCiAgICBtYW5kaTIwMTdhLCBwZXRlcnNlbjIwMTVhLCByZWY9IiIsCiAgICBjb250ZXh0cz1bCgogICAgXSwKKSkKCicnJywgY2l0YXRpb25zPSdwZXRlcnNlbjIwMTVhJyk7\"));\n",
       "    "
      ],
      "text/plain": [
       "<IPython.core.display.Javascript object>"
      ]
     },
     "metadata": {},
     "output_type": "display_data"
    },
    {
     "data": {
      "application/javascript": [
       "$('span:contains(\"# Temp\")').closest('.cell').remove();"
      ],
      "text/plain": [
       "<IPython.core.display.Javascript object>"
      ]
     },
     "metadata": {},
     "output_type": "display_data"
    },
    {
     "data": {
      "application/javascript": [
       "\n",
       "        $('span:contains(\"# Temp\")').closest('.cell').remove();\n",
       "        var code = IPython.notebook.insert_cell_below('code');\n",
       "        code.set_text(atob(\"IyBUZW1wCmluc2VydCgnJycKbWFuZGkyMDE3YSA9IERCKFdvcmtVbnJlbGF0ZWQoCiAgICAyMDE3LCAiQW4gZXh0ZW5zaW9uIG9mIHRoZSBHUU0rIFN0cmF0ZWdpZXMgYXBwcm9hY2ggd2l0aCBmb3JtYWwgY2F1c2FsIHJlYXNvbmluZyIsCiAgICBkaXNwbGF5PSJtYW5kaSIsCiAgICBhdXRob3JzPSJNYW5kaXtjP30sIFZsYWRpbWlyIGFuZCBHdm96ZGVub3Zpe2M/fSwgTmVib2p7mn1hIiwKICAgIHBsYWNlPUlTVCwKICAgIHBwPSIxMjctLTE0NyIsCiAgICBlbnRyeXR5cGU9ImFydGljbGUiLAogICAgdm9sdW1lPSI4OCIsCiAgICBwdWJsaXNoZXI9IkVsc2V2aWVyIiwKICAgIElEPSJtYW5kaWMyMDE3ZXh0ZW5zaW9uIiwKICAgIGNsdXN0ZXJfaWQ9IjEwMDU5OTUxOTcwMzkwODY2NzY1IiwKICAgIHNjaG9sYXI9Imh0dHA6Ly9zY2hvbGFyLmdvb2dsZS5jb20vc2Nob2xhcj9jaXRlcz0xMDA1OTk1MTk3MDM5MDg2Njc2NSZhc19zZHQ9MjAwNSZzY2lvZHQ9MCw1JmhsPWVuIiwKICAgIHBsYWNleD0iSW5mb3JtYXRpb24gYW5kIFNvZnR3YXJlIFRlY2hub2xvZ3kiLAopKQoKREIoQ2l0YXRpb24oCiAgICBtYW5kaTIwMTdhLCBwZXRlcnNlbjIwMTVhLCByZWY9IiIsCiAgICBjb250ZXh0cz1bCgogICAgXSwKKSkKCicnJywgY2l0YXRpb25zPSdwZXRlcnNlbjIwMTVhJyk7\"));\n",
       "    "
      ],
      "text/plain": [
       "<IPython.core.display.Javascript object>"
      ]
     },
     "metadata": {},
     "output_type": "display_data"
    },
    {
     "data": {
      "application/javascript": [
       "$('span:contains(\"# Temp\")').closest('.cell').remove();"
      ],
      "text/plain": [
       "<IPython.core.display.Javascript object>"
      ]
     },
     "metadata": {},
     "output_type": "display_data"
    },
    {
     "data": {
      "application/javascript": [
       "\n",
       "        $('span:contains(\"# Temp\")').closest('.cell').remove();\n",
       "        var code = IPython.notebook.insert_cell_below('code');\n",
       "        code.set_text(atob(\"IyBUZW1wCmluc2VydCgnJycKcm9kaXRpMjAxNGEgPSBEQihXb3JrVW5yZWxhdGVkKAogICAgMjAxNCwgIlF1YW50aWZ5aW5nIHRoZSBDb250cmlidXRpb24gb2YgRW50ZXJwcmlzZSBBcmNoaXRlY3R1cmUgdG8gQnVzaW5lc3MgR29hbHMiLAogICAgZGlzcGxheT0icm9kaXRpIiwKICAgIGF1dGhvcnM9IlJvZGl0aSwgQWxleGFuZHJhIiwKICAgIHBsYWNlPVRoZXNpcywKICAgIGVudHJ5dHlwZT0ibWFzdGVyc3RoZXNpcyIsCiAgICBJRD0icm9kaXRpMjAxNHF1YW50aWZ5aW5nIiwKICAgIGNsdXN0ZXJfaWQ9IjcxNzgyODg2MTk3NjkwNzczMjgiLAogICAgc2Nob2xhcj0iaHR0cDovL3NjaG9sYXIuZ29vZ2xlLmNvbS9zY2hvbGFyP2NpdGVzPTcxNzgyODg2MTk3NjkwNzczMjgmYXNfc2R0PTIwMDUmc2Npb2R0PTAsNSZobD1lbiIsCiAgICBsb2NhbD0iVW5pdmVyc2l0eSBvZiBUd2VudGUiLAogICAgcGxhY2V4PSIiLAopKQoKREIoQ2l0YXRpb24oCiAgICByb2RpdGkyMDE0YSwgcGV0ZXJzZW4yMDE1YSwgcmVmPSIiLAogICAgY29udGV4dHM9WwoKICAgIF0sCikpCgonJycsIGNpdGF0aW9ucz0ncGV0ZXJzZW4yMDE1YScpOw==\"));\n",
       "    "
      ],
      "text/plain": [
       "<IPython.core.display.Javascript object>"
      ]
     },
     "metadata": {},
     "output_type": "display_data"
    },
    {
     "data": {
      "application/javascript": [
       "$('span:contains(\"# Temp\")').closest('.cell').remove();"
      ],
      "text/plain": [
       "<IPython.core.display.Javascript object>"
      ]
     },
     "metadata": {},
     "output_type": "display_data"
    },
    {
     "data": {
      "application/javascript": [
       "\n",
       "        $('span:contains(\"# Temp\")').closest('.cell').remove();\n",
       "        var code = IPython.notebook.insert_cell_below('code');\n",
       "        code.set_text(atob(\"IyBUZW1wCmluc2VydCgnJycKcm9kaXRpMjAxNGEgPSBEQihXb3JrVW5yZWxhdGVkKAogICAgMjAxNCwgIlF1YW50aWZ5aW5nIHRoZSBDb250cmlidXRpb24gb2YgRW50ZXJwcmlzZSBBcmNoaXRlY3R1cmUgdG8gQnVzaW5lc3MgR29hbHMiLAogICAgZGlzcGxheT0icm9kaXRpIiwKICAgIGF1dGhvcnM9IlJvZGl0aSwgQWxleGFuZHJhIiwKICAgIHBsYWNlPVRoZXNpcywKICAgIGVudHJ5dHlwZT0ibWFzdGVyc3RoZXNpcyIsCiAgICBJRD0icm9kaXRpMjAxNHF1YW50aWZ5aW5nIiwKICAgIGNsdXN0ZXJfaWQ9IjcxNzgyODg2MTk3NjkwNzczMjgiLAogICAgc2Nob2xhcj0iaHR0cDovL3NjaG9sYXIuZ29vZ2xlLmNvbS9zY2hvbGFyP2NpdGVzPTcxNzgyODg2MTk3NjkwNzczMjgmYXNfc2R0PTIwMDUmc2Npb2R0PTAsNSZobD1lbiIsCiAgICBsb2NhbD0iVW5pdmVyc2l0eSBvZiBUd2VudGUiLAogICAgcGxhY2V4PSIiLAopKQoKREIoQ2l0YXRpb24oCiAgICByb2RpdGkyMDE0YSwgcGV0ZXJzZW4yMDE1YSwgcmVmPSIiLAogICAgY29udGV4dHM9WwoKICAgIF0sCikpCgonJycsIGNpdGF0aW9ucz0ncGV0ZXJzZW4yMDE1YScpOw==\"));\n",
       "    "
      ],
      "text/plain": [
       "<IPython.core.display.Javascript object>"
      ]
     },
     "metadata": {},
     "output_type": "display_data"
    },
    {
     "data": {
      "application/javascript": [
       "$('span:contains(\"# Temp\")').closest('.cell').remove();"
      ],
      "text/plain": [
       "<IPython.core.display.Javascript object>"
      ]
     },
     "metadata": {},
     "output_type": "display_data"
    },
    {
     "data": {
      "application/javascript": [
       "\n",
       "        $('span:contains(\"# Temp\")').closest('.cell').remove();\n",
       "        var code = IPython.notebook.insert_cell_below('code');\n",
       "        code.set_text(atob(\"IyBUZW1wCmluc2VydCgnJycKbXVnaGFsMjAxN2EgPSBEQihXb3JrVW5yZWxhdGVkKAogICAgMjAxNywgIkEgRnJhbWV3b3JrIGZvciBJbXBsZW1lbnRpbmcgU29mdHdhcmUgTWVhc3VyZW1lbnQgUHJvZ3JhbXMgaW4gU21hbGwgYW5kIE1lZGl1bSBFbnRlcnByaXNlcyIsCiAgICBkaXNwbGF5PSJtdWdoYWwiLAogICAgYXV0aG9ycz0iTXVnaGFsLCBBZnRhYiBBaG1hZCIsCiAgICBwbGFjZT1UaGVzaXMsCiAgICBlbnRyeXR5cGU9InBoZHRoZXNpcyIsCiAgICBJRD0ibXVnaGFsMjAxN2ZyYW1ld29yayIsCiAgICBsb2NhbD0iVW5pdmVyc2l0eSBvZiBPdGFnbyIsCiAgICBwbGFjZXg9IiIsCikpCgpEQihDaXRhdGlvbigKICAgIG11Z2hhbDIwMTdhLCBwZXRlcnNlbjIwMTVhLCByZWY9IiIsCiAgICBjb250ZXh0cz1bCgogICAgXSwKKSkKCicnJywgY2l0YXRpb25zPSdwZXRlcnNlbjIwMTVhJyk7\"));\n",
       "    "
      ],
      "text/plain": [
       "<IPython.core.display.Javascript object>"
      ]
     },
     "metadata": {},
     "output_type": "display_data"
    },
    {
     "data": {
      "application/javascript": [
       "$('span:contains(\"# Temp\")').closest('.cell').remove();"
      ],
      "text/plain": [
       "<IPython.core.display.Javascript object>"
      ]
     },
     "metadata": {},
     "output_type": "display_data"
    },
    {
     "data": {
      "application/javascript": [
       "\n",
       "        $('span:contains(\"# Temp\")').closest('.cell').remove();\n",
       "        var code = IPython.notebook.insert_cell_below('code');\n",
       "        code.set_text(atob(\"IyBUZW1wCmluc2VydCgnJycKbXVnaGFsMjAxN2EgPSBEQihXb3JrVW5yZWxhdGVkKAogICAgMjAxNywgIkEgRnJhbWV3b3JrIGZvciBJbXBsZW1lbnRpbmcgU29mdHdhcmUgTWVhc3VyZW1lbnQgUHJvZ3JhbXMgaW4gU21hbGwgYW5kIE1lZGl1bSBFbnRlcnByaXNlcyIsCiAgICBkaXNwbGF5PSJtdWdoYWwiLAogICAgYXV0aG9ycz0iTXVnaGFsLCBBZnRhYiBBaG1hZCIsCiAgICBwbGFjZT1UaGVzaXMsCiAgICBlbnRyeXR5cGU9InBoZHRoZXNpcyIsCiAgICBJRD0ibXVnaGFsMjAxN2ZyYW1ld29yayIsCiAgICBsb2NhbD0iVW5pdmVyc2l0eSBvZiBPdGFnbyIsCiAgICBwbGFjZXg9IiIsCikpCgpEQihDaXRhdGlvbigKICAgIG11Z2hhbDIwMTdhLCBwZXRlcnNlbjIwMTVhLCByZWY9IiIsCiAgICBjb250ZXh0cz1bCgogICAgXSwKKSkKCicnJywgY2l0YXRpb25zPSdwZXRlcnNlbjIwMTVhJyk7\"));\n",
       "    "
      ],
      "text/plain": [
       "<IPython.core.display.Javascript object>"
      ]
     },
     "metadata": {},
     "output_type": "display_data"
    },
    {
     "data": {
      "application/javascript": [
       "$('span:contains(\"# Temp\")').closest('.cell').remove();"
      ],
      "text/plain": [
       "<IPython.core.display.Javascript object>"
      ]
     },
     "metadata": {},
     "output_type": "display_data"
    },
    {
     "data": {
      "application/javascript": [
       "\n",
       "        $('span:contains(\"# Temp\")').closest('.cell').remove();\n",
       "        var code = IPython.notebook.insert_cell_below('code');\n",
       "        code.set_text(atob(\"IyBUZW1wCmluc2VydCgnJycKbGkyMDE3YSA9IERCKFdvcmtVbnJlbGF0ZWQoCiAgICAyMDE3LCAiQSBDb21wYXJhdGl2ZSBTdHVkeSBvZiBWYWx1ZSBpbiBBZ2lsZSBTb2Z0d2FyZSBEZXZlbG9wbWVudCBPcmdhbml6YXRpb25zIiwKICAgIGRpc3BsYXk9ImxpIiwKICAgIGF1dGhvcnM9IkxpLCBYaWFuIGFuZCBDYW8sIFFpYW4iLAogICAgcGxhY2U9RkFLRSwKICAgIGVudHJ5dHlwZT0ibWlzYyIsCiAgICBJRD0ibGkyMDE3Y29tcGFyYXRpdmUiLAogICAgcGxhY2V4PSIiLAopKQoKREIoQ2l0YXRpb24oCiAgICBsaTIwMTdhLCBwZXRlcnNlbjIwMTVhLCByZWY9IiIsCiAgICBjb250ZXh0cz1bCgogICAgXSwKKSkKCicnJywgY2l0YXRpb25zPSdwZXRlcnNlbjIwMTVhJyk7\"));\n",
       "    "
      ],
      "text/plain": [
       "<IPython.core.display.Javascript object>"
      ]
     },
     "metadata": {},
     "output_type": "display_data"
    },
    {
     "data": {
      "application/javascript": [
       "$('span:contains(\"# Temp\")').closest('.cell').remove();"
      ],
      "text/plain": [
       "<IPython.core.display.Javascript object>"
      ]
     },
     "metadata": {},
     "output_type": "display_data"
    },
    {
     "data": {
      "application/javascript": [
       "\n",
       "        $('span:contains(\"# Temp\")').closest('.cell').remove();\n",
       "        var code = IPython.notebook.insert_cell_below('code');\n",
       "        code.set_text(atob(\"IyBUZW1wCmluc2VydCgnJycKbGkyMDE3YSA9IERCKFdvcmtVbnJlbGF0ZWQoCiAgICAyMDE3LCAiQSBDb21wYXJhdGl2ZSBTdHVkeSBvZiBWYWx1ZSBpbiBBZ2lsZSBTb2Z0d2FyZSBEZXZlbG9wbWVudCBPcmdhbml6YXRpb25zIiwKICAgIGRpc3BsYXk9ImxpIiwKICAgIGF1dGhvcnM9IkxpLCBYaWFuIGFuZCBDYW8sIFFpYW4iLAogICAgcGxhY2U9RkFLRSwKICAgIGVudHJ5dHlwZT0ibWlzYyIsCiAgICBJRD0ibGkyMDE3Y29tcGFyYXRpdmUiLAogICAgcGxhY2V4PSIiLAopKQoKREIoQ2l0YXRpb24oCiAgICBsaTIwMTdhLCBwZXRlcnNlbjIwMTVhLCByZWY9IiIsCiAgICBjb250ZXh0cz1bCgogICAgXSwKKSkKCicnJywgY2l0YXRpb25zPSdwZXRlcnNlbjIwMTVhJyk7\"));\n",
       "    "
      ],
      "text/plain": [
       "<IPython.core.display.Javascript object>"
      ]
     },
     "metadata": {},
     "output_type": "display_data"
    },
    {
     "data": {
      "application/javascript": [
       "$('span:contains(\"# Temp\")').closest('.cell').remove();"
      ],
      "text/plain": [
       "<IPython.core.display.Javascript object>"
      ]
     },
     "metadata": {},
     "output_type": "display_data"
    },
    {
     "data": {
      "application/javascript": [
       "\n",
       "        $('span:contains(\"# Temp\")').closest('.cell').remove();\n",
       "        var code = IPython.notebook.insert_cell_below('code');\n",
       "        code.set_text(atob(\"IyBUZW1wCmluc2VydCgnJycKcGV0ZXJzZW4yMDE2YSA9IERCKFdvcmtVbnJlbGF0ZWQoCiAgICAyMDE2LCAiQSBSZXNlYXJjaGVyknMgRXhwZXJpZW5jZXMgaW4gU3VwcG9ydGluZyBJbmR1c3RyaWFsIFNvZnR3YXJlIFByb2Nlc3MgSW1wcm92ZW1lbnQiLAogICAgZGlzcGxheT0icGV0ZXJzZW4iLAogICAgYXV0aG9ycz0iUGV0ZXJzZW4sIEthaSIsCiAgICBwbGFjZT1GQUtFLAogICAgcHA9IjIzNS0tMjU1IiwKICAgIGVudHJ5dHlwZT0iaW5jb2xsZWN0aW9uIiwKICAgIHB1Ymxpc2hlcj0iU3ByaW5nZXIiLAogICAgSUQ9InBldGVyc2VuMjAxNnJlc2VhcmNoZXIiLAogICAgcGxhY2V4PSJNYW5hZ2luZyBTb2Z0d2FyZSBQcm9jZXNzIEV2b2x1dGlvbiIsCikpCgpEQihDaXRhdGlvbigKICAgIHBldGVyc2VuMjAxNmEsIHBldGVyc2VuMjAxNWEsIHJlZj0iIiwKICAgIGNvbnRleHRzPVsKCiAgICBdLAopKQoKJycnLCBjaXRhdGlvbnM9J3BldGVyc2VuMjAxNWEnKTs=\"));\n",
       "    "
      ],
      "text/plain": [
       "<IPython.core.display.Javascript object>"
      ]
     },
     "metadata": {},
     "output_type": "display_data"
    },
    {
     "data": {
      "application/javascript": [
       "$('span:contains(\"# Temp\")').closest('.cell').remove();"
      ],
      "text/plain": [
       "<IPython.core.display.Javascript object>"
      ]
     },
     "metadata": {},
     "output_type": "display_data"
    },
    {
     "data": {
      "application/javascript": [
       "\n",
       "        $('span:contains(\"# Temp\")').closest('.cell').remove();\n",
       "        var code = IPython.notebook.insert_cell_below('code');\n",
       "        code.set_text(atob(\"IyBUZW1wCmluc2VydCgnJycKcGV0ZXJzZW4yMDE2YSA9IERCKFdvcmtVbnJlbGF0ZWQoCiAgICAyMDE2LCAiQSBSZXNlYXJjaGVyknMgRXhwZXJpZW5jZXMgaW4gU3VwcG9ydGluZyBJbmR1c3RyaWFsIFNvZnR3YXJlIFByb2Nlc3MgSW1wcm92ZW1lbnQiLAogICAgZGlzcGxheT0icGV0ZXJzZW4iLAogICAgYXV0aG9ycz0iUGV0ZXJzZW4sIEthaSIsCiAgICBwbGFjZT1GQUtFLAogICAgcHA9IjIzNS0tMjU1IiwKICAgIGVudHJ5dHlwZT0iaW5jb2xsZWN0aW9uIiwKICAgIHB1Ymxpc2hlcj0iU3ByaW5nZXIiLAogICAgSUQ9InBldGVyc2VuMjAxNnJlc2VhcmNoZXIiLAogICAgcGxhY2V4PSJNYW5hZ2luZyBTb2Z0d2FyZSBQcm9jZXNzIEV2b2x1dGlvbiIsCikpCgpEQihDaXRhdGlvbigKICAgIHBldGVyc2VuMjAxNmEsIHBldGVyc2VuMjAxNWEsIHJlZj0iIiwKICAgIGNvbnRleHRzPVsKCiAgICBdLAopKQoKJycnLCBjaXRhdGlvbnM9J3BldGVyc2VuMjAxNWEnKTs=\"));\n",
       "    "
      ],
      "text/plain": [
       "<IPython.core.display.Javascript object>"
      ]
     },
     "metadata": {},
     "output_type": "display_data"
    },
    {
     "data": {
      "application/javascript": [
       "$('span:contains(\"# Temp\")').closest('.cell').remove();"
      ],
      "text/plain": [
       "<IPython.core.display.Javascript object>"
      ]
     },
     "metadata": {},
     "output_type": "display_data"
    },
    {
     "data": {
      "application/javascript": [
       "\n",
       "        $('span:contains(\"# Temp\")').closest('.cell').remove();\n",
       "        var code = IPython.notebook.insert_cell_below('code');\n",
       "        code.set_text(atob(\"IyBUZW1wCmluc2VydCgnJycKdHJpbmtlbnJlaWNoMjAxN2IgPSBEQihXb3JrVW5yZWxhdGVkKAogICAgMjAxNywgIkVsaWNpdGluZyBTdHJhdGVnaWVzIGZvciB0aGUgR1FNKyBTdHJhdGVnaWVzIEFwcHJvYWNoIGluIElUIFNlcnZpY2UgTWVhc3VyZW1lbnQgSW5pdGlhdGl2ZXMiLAogICAgZGlzcGxheT0idHJpbmtlbnJlaWNoIGIiLAogICAgYXV0aG9ycz0iVHJpbmtlbnJlaWNoLCBCaWFuY2EgYW5kIFNhbnRvcywgR2xlaXNvbiBhbmQgQmFyY2VsbG9zLCBNb25hbGVzc2EgUGVyaW5pIGFuZCBDb250ZSwgVGF5YW5hIiwKICAgIHBsYWNlPUVTRU0sCiAgICBwcD0iMzc0LS0zODMiLAogICAgZW50cnl0eXBlPSJpbnByb2NlZWRpbmdzIiwKICAgIG9yZ2FuaXphdGlvbj0iSUVFRSIsCiAgICBJRD0idHJpbmtlbnJlaWNoMjAxN2VsaWNpdGluZyIsCiAgICBwbGFjZXg9IjIwMTcgQUNNL0lFRUUgSW50ZXJuYXRpb25hbCBTeW1wb3NpdW0gb24gRW1waXJpY2FsIFNvZnR3YXJlIEVuZ2luZWVyaW5nIGFuZCBNZWFzdXJlbWVudCAoRVNFTSkiLAopKQoKREIoQ2l0YXRpb24oCiAgICB0cmlua2VucmVpY2gyMDE3YiwgcGV0ZXJzZW4yMDE1YSwgcmVmPSIiLAogICAgY29udGV4dHM9WwoKICAgIF0sCikpCgonJycsIGNpdGF0aW9ucz0ncGV0ZXJzZW4yMDE1YScpOw==\"));\n",
       "    "
      ],
      "text/plain": [
       "<IPython.core.display.Javascript object>"
      ]
     },
     "metadata": {},
     "output_type": "display_data"
    },
    {
     "data": {
      "application/javascript": [
       "$('span:contains(\"# Temp\")').closest('.cell').remove();"
      ],
      "text/plain": [
       "<IPython.core.display.Javascript object>"
      ]
     },
     "metadata": {},
     "output_type": "display_data"
    },
    {
     "data": {
      "application/javascript": [
       "\n",
       "        $('span:contains(\"# Temp\")').closest('.cell').remove();\n",
       "        var code = IPython.notebook.insert_cell_below('code');\n",
       "        code.set_text(atob(\"IyBUZW1wCmluc2VydCgnJycKdHJpbmtlbnJlaWNoMjAxN2IgPSBEQihXb3JrVW5yZWxhdGVkKAogICAgMjAxNywgIkVsaWNpdGluZyBTdHJhdGVnaWVzIGZvciB0aGUgR1FNKyBTdHJhdGVnaWVzIEFwcHJvYWNoIGluIElUIFNlcnZpY2UgTWVhc3VyZW1lbnQgSW5pdGlhdGl2ZXMiLAogICAgZGlzcGxheT0idHJpbmtlbnJlaWNoIGIiLAogICAgYXV0aG9ycz0iVHJpbmtlbnJlaWNoLCBCaWFuY2EgYW5kIFNhbnRvcywgR2xlaXNvbiBhbmQgQmFyY2VsbG9zLCBNb25hbGVzc2EgUGVyaW5pIGFuZCBDb250ZSwgVGF5YW5hIiwKICAgIHBsYWNlPUVTRU0sCiAgICBwcD0iMzc0LS0zODMiLAogICAgZW50cnl0eXBlPSJpbnByb2NlZWRpbmdzIiwKICAgIG9yZ2FuaXphdGlvbj0iSUVFRSIsCiAgICBJRD0idHJpbmtlbnJlaWNoMjAxN2VsaWNpdGluZyIsCiAgICBwbGFjZXg9IjIwMTcgQUNNL0lFRUUgSW50ZXJuYXRpb25hbCBTeW1wb3NpdW0gb24gRW1waXJpY2FsIFNvZnR3YXJlIEVuZ2luZWVyaW5nIGFuZCBNZWFzdXJlbWVudCAoRVNFTSkiLAopKQoKREIoQ2l0YXRpb24oCiAgICB0cmlua2VucmVpY2gyMDE3YiwgcGV0ZXJzZW4yMDE1YSwgcmVmPSIiLAogICAgY29udGV4dHM9WwoKICAgIF0sCikpCgonJycsIGNpdGF0aW9ucz0ncGV0ZXJzZW4yMDE1YScpOw==\"));\n",
       "    "
      ],
      "text/plain": [
       "<IPython.core.display.Javascript object>"
      ]
     },
     "metadata": {},
     "output_type": "display_data"
    }
   ],
   "source": [
    "manager"
   ]
  },
  {
   "cell_type": "code",
   "execution_count": 15,
   "metadata": {},
   "outputs": [
    {
     "name": "stdout",
     "output_type": "stream",
     "text": [
      "-Insert: trinkenreich2017b\n",
      "-Insert Import: trinkenreich2017b\n",
      "-Insert Citation: trinkenreich2017b -> petersen2015a\n"
     ]
    }
   ],
   "source": [
    "# Temp\n",
    "insert('''\n",
    "trinkenreich2017b = DB(WorkUnrelated(\n",
    "    2017, \"Eliciting Strategies for the GQM+ Strategies Approach in IT Service Measurement Initiatives\",\n",
    "    display=\"trinkenreich b\",\n",
    "    authors=\"Trinkenreich, Bianca and Santos, Gleison and Barcellos, Monalessa Perini and Conte, Tayana\",\n",
    "    place=ESEM,\n",
    "    pp=\"374--383\",\n",
    "    entrytype=\"inproceedings\",\n",
    "    organization=\"IEEE\",\n",
    "    ID=\"trinkenreich2017eliciting\",\n",
    "    placex=\"2017 ACM/IEEE International Symposium on Empirical Software Engineering and Measurement (ESEM)\",\n",
    "))\n",
    "\n",
    "DB(Citation(\n",
    "    trinkenreich2017b, petersen2015a, ref=\"\",\n",
    "    contexts=[\n",
    "\n",
    "    ],\n",
    "))\n",
    "\n",
    "''', citations='petersen2015a');"
   ]
  },
  {
   "cell_type": "code",
   "execution_count": null,
   "metadata": {
    "collapsed": true
   },
   "outputs": [],
   "source": []
  }
 ],
 "metadata": {
  "kernelspec": {
   "display_name": "Python 3",
   "language": "python",
   "name": "python3"
  },
  "language_info": {
   "codemirror_mode": {
    "name": "ipython",
    "version": 3
   },
   "file_extension": ".py",
   "mimetype": "text/x-python",
   "name": "python",
   "nbconvert_exporter": "python",
   "pygments_lexer": "ipython3",
   "version": "3.6.0"
  },
  "toc": {
   "nav_menu": {
    "height": "12px",
    "width": "252px"
   },
   "number_sections": true,
   "sideBar": true,
   "skip_h1_title": false,
   "toc_cell": false,
   "toc_position": {},
   "toc_section_display": "block",
   "toc_window_display": false
  }
 },
 "nbformat": 4,
 "nbformat_minor": 1
}
