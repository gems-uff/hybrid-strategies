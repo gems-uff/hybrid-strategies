{
 "cells": [
  {
   "cell_type": "code",
   "execution_count": 1,
   "metadata": {
    "collapsed": true
   },
   "outputs": [],
   "source": [
    "import database\n",
    "from snowballing.operations import load_work, reload, work_by_varname\n",
    "from snowballing.selenium_scholar import SeleniumScholarQuerier\n",
    "from snowballing.snowballing import ForwardSnowballing\n",
    "from snowballing.dbmanager import insert, set_attribute\n",
    "from custom_snowballing import UnrelatedForward"
   ]
  },
  {
   "cell_type": "code",
   "execution_count": 2,
   "metadata": {
    "collapsed": true
   },
   "outputs": [],
   "source": [
    "querier = SeleniumScholarQuerier()"
   ]
  },
  {
   "cell_type": "code",
   "execution_count": 3,
   "metadata": {
    "scrolled": true
   },
   "outputs": [
    {
     "name": "stdout",
     "output_type": "stream",
     "text": [
      "Ops. It requires a captcha!\n",
      "If you filled in the browser, type '<ok>' here.\n",
      "Captcha: <ok>\n"
     ]
    },
    {
     "name": "stderr",
     "output_type": "stream",
     "text": [
      "[ INFO]  settings applied\n"
     ]
    }
   ],
   "source": [
    "querier.apply_settings(20, 4);"
   ]
  },
  {
   "cell_type": "code",
   "execution_count": 4,
   "metadata": {},
   "outputs": [
    {
     "name": "stdout",
     "output_type": "stream",
     "text": [
      "Captcha: <ok>\n",
      "Captcha: <ok>\n"
     ]
    }
   ],
   "source": [
    "#manager = ForwardSnowballing(querier, \"mendes2004a\", start=60)\n",
    "import importlib\n",
    "import custom_snowballing\n",
    "importlib.reload(custom_snowballing)\n",
    "from custom_snowballing import UnrelatedForward\n",
    "manager = UnrelatedForward(querier, \"basili2010a\", start=80)"
   ]
  },
  {
   "cell_type": "code",
   "execution_count": null,
   "metadata": {
    "collapsed": true
   },
   "outputs": [],
   "source": []
  },
  {
   "cell_type": "code",
   "execution_count": null,
   "metadata": {
    "collapsed": true
   },
   "outputs": [],
   "source": []
  },
  {
   "cell_type": "code",
   "execution_count": null,
   "metadata": {
    "collapsed": true
   },
   "outputs": [],
   "source": [
    "#from snowballing.operations import reload\n",
    "#reload()\n",
    "#from snowballing.dbmanager import rename_work"
   ]
  },
  {
   "cell_type": "code",
   "execution_count": null,
   "metadata": {
    "collapsed": true
   },
   "outputs": [],
   "source": [
    "#rename_work(\"eljabiri0a\", \"eljabiri2012a\")"
   ]
  },
  {
   "cell_type": "code",
   "execution_count": null,
   "metadata": {
    "collapsed": true
   },
   "outputs": [],
   "source": [
    "#rename_work?"
   ]
  },
  {
   "cell_type": "code",
   "execution_count": null,
   "metadata": {
    "collapsed": true
   },
   "outputs": [],
   "source": [
    "#á"
   ]
  },
  {
   "cell_type": "code",
   "execution_count": null,
   "metadata": {
    "collapsed": true
   },
   "outputs": [],
   "source": []
  },
  {
   "cell_type": "code",
   "execution_count": null,
   "metadata": {
    "collapsed": true
   },
   "outputs": [],
   "source": []
  },
  {
   "cell_type": "code",
   "execution_count": null,
   "metadata": {
    "collapsed": true
   },
   "outputs": [],
   "source": []
  },
  {
   "cell_type": "code",
   "execution_count": null,
   "metadata": {
    "collapsed": true
   },
   "outputs": [],
   "source": [
    "from snowballing.operations import reload\n",
    "reload()"
   ]
  },
  {
   "cell_type": "code",
   "execution_count": null,
   "metadata": {
    "collapsed": true
   },
   "outputs": [],
   "source": []
  },
  {
   "cell_type": "code",
   "execution_count": 5,
   "metadata": {
    "scrolled": false
   },
   "outputs": [
    {
     "data": {
      "application/vnd.jupyter.widget-view+json": {
       "model_id": "5d46ea0ddfbd414c8de04da47b9d0559",
       "version_major": 2,
       "version_minor": 0
      },
      "text/html": [
       "<p>Failed to display Jupyter Widget of type <code>Tab</code>.</p>\n",
       "<p>\n",
       "  If you're reading this message in Jupyter Notebook or JupyterLab, it may mean\n",
       "  that the widgets JavaScript is still loading. If this message persists, it\n",
       "  likely means that the widgets JavaScript library is either not installed or\n",
       "  not enabled. See the <a href=\"https://ipywidgets.readthedocs.io/en/stable/user_install.html\">Jupyter\n",
       "  Widgets Documentation</a> for setup instructions.\n",
       "</p>\n",
       "<p>\n",
       "  If you're reading this message in another notebook frontend (for example, a static\n",
       "  rendering on GitHub or <a href=\"https://nbviewer.jupyter.org/\">NBViewer</a>),\n",
       "  it may mean that your frontend doesn't currently support widgets.\n",
       "</p>\n"
      ],
      "text/plain": [
       "Tab(children=(VBox(children=(HBox(children=(Button(description='Previous Page', icon='arrow-left', style=ButtonStyle()), Button(description='Reload', icon='refresh', style=ButtonStyle()), Button(description='Next Page', icon='arrow-right', style=ButtonStyle()), ToggleButton(value=False, description='Debug'), Label(value='80'))), Output(outputs=({'output_type': 'stream', 'text': \"Ops. It requires a captcha!\\nIf you filled in the browser, type '<ok>' here.\\nOps. It requires a captcha!\\nIf you filled in the browser, type '<ok>' here.\\n\", 'name': 'stdout'},)))), VBox(children=(HBox(children=(Button(description='Previous Article', disabled=True, icon='caret-left', style=ButtonStyle()), Button(description='Reload Article', icon='refresh', style=ButtonStyle()), Button(description='Next Article', disabled=True, icon='caret-right', style=ButtonStyle()))), HBox(children=(Button(description='Unrelated: Scripts', style=ButtonStyle()), Button(description='Unrelated: Provenance', style=ButtonStyle()), Button(description='Both', style=ButtonStyle()), Button(description='Ok', style=ButtonStyle()))), HBox(children=(Dropdown(description='Type', index=3, options=('Work', 'WorkSnowball', 'WorkOk', 'WorkUnrelated', 'WorkNoFile', 'WorkLang', 'Site', 'Email'), value='WorkUnrelated'), ToggleButton(value=False, description='File'))), HBox(children=(Text(value='', description='Due'), Text(value='', description='Place'))), HBox(children=(Text(value='', description='Year'), Text(value='', description='Prefix Var'))), HBox(children=(Text(value='', description='PDFPage'), Text(value='', description='Related'))), HBox(children=(Text(value='', description='Display'), Text(value='', description='Summary'))), HBox(children=(Text(value='', description='Star'), Text(value='', description='Link'))), HBox(children=(Button(description='Reload Article', icon='refresh', style=ButtonStyle()), IntSlider(value=0, max=0), Label(value='1/1'))), Output(outputs=({'output_type': 'stream', 'text': \"Ops. It requires a captcha!\\nIf you filled in the browser, type '<ok>' here.\\nOps. It requires a captcha!\\nIf you filled in the browser, type '<ok>' here.\\n\", 'name': 'stdout'},))))), _titles={'0': 'Page', '1': 'Article'})"
      ]
     },
     "metadata": {},
     "output_type": "display_data"
    },
    {
     "data": {
      "application/javascript": [
       "$('span:contains(\"# Temp\")').closest('.cell').remove();"
      ],
      "text/plain": [
       "<IPython.core.display.Javascript object>"
      ]
     },
     "metadata": {},
     "output_type": "display_data"
    },
    {
     "data": {
      "application/javascript": [
       "\n",
       "        $('span:contains(\"# Temp\")').closest('.cell').remove();\n",
       "        var code = IPython.notebook.insert_cell_below('code');\n",
       "        code.set_text(atob(\"IyBUZW1wCmluc2VydCgnJycKYmVja2VyMGEgPSBEQihXb3JrVW5yZWxhdGVkKAogICAgMCwgIlR1bmluZyB0aGUgQW5hbHlzaXMgQWN0aXZpdHkgb2YgUXVhbGl0eSBFdmFsdWF0aW9uIFN0cmF0ZWdpZXMgZm9yIGRpZmZlcmVudCBQdXJwb3NlcyIsCiAgICBkaXNwbGF5PSJiZWNrZXIiLAogICAgYXV0aG9ycz0iQmVja2VyLCBQYWJsbyBhbmQgT2xzaW5hLCBMdWlzIiwKICAgIHBsYWNlPUZBS0UsCiAgICBlbnRyeXR5cGU9ImFydGljbGUiLAogICAgSUQ9ImJlY2tlcnR1bmluZyIsCiAgICBwbGFjZXg9IiIsCikpCgpEQihDaXRhdGlvbigKICAgIGJlY2tlcjBhLCBiYXNpbGkyMDEwYSwgcmVmPSIiLAogICAgY29udGV4dHM9WwoKICAgIF0sCikpCgonJycsIGNpdGF0aW9ucz0nYmFzaWxpMjAxMGEnKTs=\"));\n",
       "    "
      ],
      "text/plain": [
       "<IPython.core.display.Javascript object>"
      ]
     },
     "metadata": {},
     "output_type": "display_data"
    },
    {
     "data": {
      "application/javascript": [
       "$('span:contains(\"# Temp\")').closest('.cell').remove();"
      ],
      "text/plain": [
       "<IPython.core.display.Javascript object>"
      ]
     },
     "metadata": {},
     "output_type": "display_data"
    },
    {
     "data": {
      "application/javascript": [
       "$('span:contains(\"# Temp\")').closest('.cell').remove();"
      ],
      "text/plain": [
       "<IPython.core.display.Javascript object>"
      ]
     },
     "metadata": {},
     "output_type": "display_data"
    },
    {
     "data": {
      "application/javascript": [
       "\n",
       "        $('span:contains(\"# Temp\")').closest('.cell').remove();\n",
       "        var code = IPython.notebook.insert_cell_below('code');\n",
       "        code.set_text(atob(\"IyBUZW1wCmluc2VydCgnJycKREIoQ2l0YXRpb24oCiAgICBlcnVrdWxhcGF0aTIwMTdhLCBiYXNpbGkyMDEwYSwgcmVmPSIiLAogICAgY29udGV4dHM9WwoKICAgIF0sCikpCgonJycsIGNpdGF0aW9ucz0nYmFzaWxpMjAxMGEnKTsKc2V0X2F0dHJpYnV0ZSgnZXJ1a3VsYXBhdGkyMDE3YScsICdleGNlcnB0JywgJ0Fic3RyYWN0IE9yZ2FuaXphdGlvbnMgYXJlIGNvbnN0YW50bHkgaW4gc2VhcmNoIG9mIGNvbXBldGl0aXZlIGFkdmFudGFnZXMgaW4gdG9kYXkncyBjb21wbGV4IGdsb2JhbCBtYXJrZXRwbGFjZSB0aHJvdWdoIGltcHJvdmVtZW50IG9mIHF1YWxpdHksIGJldHRlciBhZmZvcmRhYmlsaXR5LCBhbmQgcXVpY2tlciBkZWxpdmVyeSBvZiBwcm9kdWN0cyBhbmQgc2VydmljZXMuIFRoaXMgaXMgc2lnbmlmaWNhbnRseSB0cnVlIGZvciBzb2Z0d2FyZSBhcyBhIHByb2R1Y3QgYW5koIUnKTs=\"));\n",
       "    "
      ],
      "text/plain": [
       "<IPython.core.display.Javascript object>"
      ]
     },
     "metadata": {},
     "output_type": "display_data"
    },
    {
     "data": {
      "application/javascript": [
       "$('span:contains(\"# Temp\")').closest('.cell').remove();"
      ],
      "text/plain": [
       "<IPython.core.display.Javascript object>"
      ]
     },
     "metadata": {},
     "output_type": "display_data"
    },
    {
     "data": {
      "application/javascript": [
       "\n",
       "        $('span:contains(\"# Temp\")').closest('.cell').remove();\n",
       "        var code = IPython.notebook.insert_cell_below('code');\n",
       "        code.set_text(atob(\"IyBUZW1wCmluc2VydCgnJycKcGluaGVpcm8wYSA9IERCKFdvcmtVbnJlbGF0ZWQoCiAgICAwLCAiQWN0aXZlIEdhbWlmaWNhdGlvbjogQSBnYW1pZmljYXRpb24gcHJvY2VzcyBmb3Igc3VjY2Vzc2Z1bCBnYW1pZmljYXRpb24uIiwKICAgIGRpc3BsYXk9InBpbmhlaXJvIiwKICAgIGF1dGhvcnM9IlBpbmhlaXJvLCBCcnVubyBDb250ZXNzb3R0byBCcmFnYW57531hIiwKICAgIHBsYWNlPUZBS0UsCiAgICBlbnRyeXR5cGU9ImFydGljbGUiLAogICAgSUQ9InBpbmhlaXJvYWN0aXZlIiwKICAgIHBsYWNleD0iIiwKKSkKCkRCKENpdGF0aW9uKAogICAgcGluaGVpcm8wYSwgYmFzaWxpMjAxMGEsIHJlZj0iIiwKICAgIGNvbnRleHRzPVsKCiAgICBdLAopKQoKJycnLCBjaXRhdGlvbnM9J2Jhc2lsaTIwMTBhJyk7\"));\n",
       "    "
      ],
      "text/plain": [
       "<IPython.core.display.Javascript object>"
      ]
     },
     "metadata": {},
     "output_type": "display_data"
    },
    {
     "data": {
      "application/javascript": [
       "$('span:contains(\"# Temp\")').closest('.cell').remove();"
      ],
      "text/plain": [
       "<IPython.core.display.Javascript object>"
      ]
     },
     "metadata": {},
     "output_type": "display_data"
    },
    {
     "data": {
      "application/javascript": [
       "\n",
       "        $('span:contains(\"# Temp\")').closest('.cell').remove();\n",
       "        var code = IPython.notebook.insert_cell_below('code');\n",
       "        code.set_text(atob(\"IyBUZW1wCmluc2VydCgnJycKcGluaGVpcm8wYSA9IERCKFdvcmtVbnJlbGF0ZWQoCiAgICAwLCAiQWN0aXZlIEdhbWlmaWNhdGlvbjogQSBnYW1pZmljYXRpb24gcHJvY2VzcyBmb3Igc3VjY2Vzc2Z1bCBnYW1pZmljYXRpb24uIiwKICAgIGRpc3BsYXk9InBpbmhlaXJvIiwKICAgIGF1dGhvcnM9IlBpbmhlaXJvLCBCcnVubyBDb250ZXNzb3R0byBCcmFnYW57531hIiwKICAgIHBsYWNlPUZBS0UsCiAgICBlbnRyeXR5cGU9ImFydGljbGUiLAogICAgSUQ9InBpbmhlaXJvYWN0aXZlIiwKICAgIHBsYWNleD0iIiwKKSkKCkRCKENpdGF0aW9uKAogICAgcGluaGVpcm8wYSwgYmFzaWxpMjAxMGEsIHJlZj0iIiwKICAgIGNvbnRleHRzPVsKCiAgICBdLAopKQoKJycnLCBjaXRhdGlvbnM9J2Jhc2lsaTIwMTBhJyk7\"));\n",
       "    "
      ],
      "text/plain": [
       "<IPython.core.display.Javascript object>"
      ]
     },
     "metadata": {},
     "output_type": "display_data"
    },
    {
     "data": {
      "application/javascript": [
       "$('span:contains(\"# Temp\")').closest('.cell').remove();"
      ],
      "text/plain": [
       "<IPython.core.display.Javascript object>"
      ]
     },
     "metadata": {},
     "output_type": "display_data"
    },
    {
     "data": {
      "application/javascript": [
       "\n",
       "        $('span:contains(\"# Temp\")').closest('.cell').remove();\n",
       "        var code = IPython.notebook.insert_cell_below('code');\n",
       "        code.set_text(atob(\"IyBUZW1wCmluc2VydCgnJycKbWFuZGkwYSA9IERCKFdvcmtVbnJlbGF0ZWQoCiAgICAwLCAiRW1waXJpY2FsIEV2YWx1YXRpb24gb2YgdGhlIEdRTStTdHJhdGVnaWVzIEFwcHJvYWNoIiwKICAgIGRpc3BsYXk9Im1hbmRpIiwKICAgIGF1dGhvcnM9Ik1hbmRpe2M/fSwgVmxhZGltaXIgYW5kIE9pdm8sIE1hcmtrdSIsCiAgICBwbGFjZT1GQUtFLAogICAgZW50cnl0eXBlPSJhcnRpY2xlIiwKICAgIElEPSJtYW5kaWNlbXBpcmljYWwiLAogICAgcGxhY2V4PSIiLAopKQoKREIoQ2l0YXRpb24oCiAgICBtYW5kaTBhLCBiYXNpbGkyMDEwYSwgcmVmPSIiLAogICAgY29udGV4dHM9WwoKICAgIF0sCikpCgonJycsIGNpdGF0aW9ucz0nYmFzaWxpMjAxMGEnKTs=\"));\n",
       "    "
      ],
      "text/plain": [
       "<IPython.core.display.Javascript object>"
      ]
     },
     "metadata": {},
     "output_type": "display_data"
    },
    {
     "data": {
      "application/javascript": [
       "$('span:contains(\"# Temp\")').closest('.cell').remove();"
      ],
      "text/plain": [
       "<IPython.core.display.Javascript object>"
      ]
     },
     "metadata": {},
     "output_type": "display_data"
    },
    {
     "data": {
      "application/javascript": [
       "\n",
       "        $('span:contains(\"# Temp\")').closest('.cell').remove();\n",
       "        var code = IPython.notebook.insert_cell_below('code');\n",
       "        code.set_text(atob(\"IyBUZW1wCmluc2VydCgnJycKbWFuZGkwYSA9IERCKFdvcmtVbnJlbGF0ZWQoCiAgICAwLCAiRW1waXJpY2FsIEV2YWx1YXRpb24gb2YgdGhlIEdRTStTdHJhdGVnaWVzIEFwcHJvYWNoIiwKICAgIGRpc3BsYXk9Im1hbmRpIiwKICAgIGF1dGhvcnM9Ik1hbmRpe2M/fSwgVmxhZGltaXIgYW5kIE9pdm8sIE1hcmtrdSIsCiAgICBwbGFjZT1GQUtFLAogICAgZW50cnl0eXBlPSJhcnRpY2xlIiwKICAgIElEPSJtYW5kaWNlbXBpcmljYWwiLAogICAgcGxhY2V4PSIiLAopKQoKREIoQ2l0YXRpb24oCiAgICBtYW5kaTBhLCBiYXNpbGkyMDEwYSwgcmVmPSIiLAogICAgY29udGV4dHM9WwoKICAgIF0sCikpCgonJycsIGNpdGF0aW9ucz0nYmFzaWxpMjAxMGEnKTs=\"));\n",
       "    "
      ],
      "text/plain": [
       "<IPython.core.display.Javascript object>"
      ]
     },
     "metadata": {},
     "output_type": "display_data"
    },
    {
     "data": {
      "application/javascript": [
       "$('span:contains(\"# Temp\")').closest('.cell').remove();"
      ],
      "text/plain": [
       "<IPython.core.display.Javascript object>"
      ]
     },
     "metadata": {},
     "output_type": "display_data"
    },
    {
     "data": {
      "application/javascript": [
       "\n",
       "        $('span:contains(\"# Temp\")').closest('.cell').remove();\n",
       "        var code = IPython.notebook.insert_cell_below('code');\n",
       "        code.set_text(atob(\"IyBUZW1wCmluc2VydCgnJycKdHJlbmRvd2ljejBhID0gREIoV29ya1VucmVsYXRlZCgKICAgIDAsICI/Pz8/Pz8/Pz8/Pz8iLAogICAgZGlzcGxheT0idHJlbmRvd2ljeiIsCiAgICBhdXRob3JzPSJUcmVuZG93aWN6LCBBZGFtIiwKICAgIHBsYWNlPUZBS0UsCiAgICBlbnRyeXR5cGU9ImFydGljbGUiLAogICAgSUQ9InRyZW5kb3dpY3o/Pz8/Pz8/Pz8/Pz8iLAogICAgcGxhY2V4PSIiLAopKQoKREIoQ2l0YXRpb24oCiAgICB0cmVuZG93aWN6MGEsIGJhc2lsaTIwMTBhLCByZWY9IiIsCiAgICBjb250ZXh0cz1bCgogICAgXSwKKSkKCicnJywgY2l0YXRpb25zPSdiYXNpbGkyMDEwYScpOw==\"));\n",
       "    "
      ],
      "text/plain": [
       "<IPython.core.display.Javascript object>"
      ]
     },
     "metadata": {},
     "output_type": "display_data"
    },
    {
     "data": {
      "application/javascript": [
       "$('span:contains(\"# Temp\")').closest('.cell').remove();"
      ],
      "text/plain": [
       "<IPython.core.display.Javascript object>"
      ]
     },
     "metadata": {},
     "output_type": "display_data"
    },
    {
     "data": {
      "application/javascript": [
       "\n",
       "        $('span:contains(\"# Temp\")').closest('.cell').remove();\n",
       "        var code = IPython.notebook.insert_cell_below('code');\n",
       "        code.set_text(atob(\"IyBUZW1wCmluc2VydCgnJycKdHJlbmRvd2ljejBhID0gREIoV29ya1VucmVsYXRlZCgKICAgIDAsICI/Pz8/Pz8/Pz8/Pz8iLAogICAgZGlzcGxheT0idHJlbmRvd2ljeiIsCiAgICBhdXRob3JzPSJUcmVuZG93aWN6LCBBZGFtIiwKICAgIHBsYWNlPUZBS0UsCiAgICBlbnRyeXR5cGU9ImFydGljbGUiLAogICAgSUQ9InRyZW5kb3dpY3o/Pz8/Pz8/Pz8/Pz8iLAogICAgcGxhY2V4PSIiLAopKQoKREIoQ2l0YXRpb24oCiAgICB0cmVuZG93aWN6MGEsIGJhc2lsaTIwMTBhLCByZWY9IiIsCiAgICBjb250ZXh0cz1bCgogICAgXSwKKSkKCicnJywgY2l0YXRpb25zPSdiYXNpbGkyMDEwYScpOw==\"));\n",
       "    "
      ],
      "text/plain": [
       "<IPython.core.display.Javascript object>"
      ]
     },
     "metadata": {},
     "output_type": "display_data"
    },
    {
     "data": {
      "application/javascript": [
       "$('span:contains(\"# Temp\")').closest('.cell').remove();"
      ],
      "text/plain": [
       "<IPython.core.display.Javascript object>"
      ]
     },
     "metadata": {},
     "output_type": "display_data"
    },
    {
     "data": {
      "application/javascript": [
       "\n",
       "        $('span:contains(\"# Temp\")').closest('.cell').remove();\n",
       "        var code = IPython.notebook.insert_cell_below('code');\n",
       "        code.set_text(atob(\"IyBUZW1wCmluc2VydCgnJycKPz8/Pz8yMDE0YSA9IERCKFdvcmtVbnJlbGF0ZWQoCiAgICAyMDE0LCAiPz8/Pz8/Pz8/Pz8/PyIsCiAgICBkaXNwbGF5PSI/Pz8/PyIsCiAgICBhdXRob3JzPSI/Pz8/PyIsCiAgICBwbGFjZT1GQUtFLAogICAgcHA9IjQ3LS01MiIsCiAgICBlbnRyeXR5cGU9ImFydGljbGUiLAogICAgdm9sdW1lPSIxMTQiLAogICAgbnVtYmVyPSIyOTIiLAogICAgcHVibGlzaGVyPSI/Pz8/Pz8/Pz8/Pz8/PyIsCiAgICBJRD0iPz8/Pz8yMDE0Pz8/Pz8/Pz8/Pz8/PyIsCiAgICBwbGFjZXg9Ij8/Pz8/Pz8/Pz8/Pz8/LiBLQlNFLCA/Pz8/Pz8/Pz8/IiwKKSkKCkRCKENpdGF0aW9uKAogICAgPz8/Pz8yMDE0YSwgYmFzaWxpMjAxMGEsIHJlZj0iIiwKICAgIGNvbnRleHRzPVsKCiAgICBdLAopKQoKJycnLCBjaXRhdGlvbnM9J2Jhc2lsaTIwMTBhJyk7\"));\n",
       "    "
      ],
      "text/plain": [
       "<IPython.core.display.Javascript object>"
      ]
     },
     "metadata": {},
     "output_type": "display_data"
    },
    {
     "data": {
      "application/javascript": [
       "$('span:contains(\"# Temp\")').closest('.cell').remove();"
      ],
      "text/plain": [
       "<IPython.core.display.Javascript object>"
      ]
     },
     "metadata": {},
     "output_type": "display_data"
    },
    {
     "data": {
      "application/javascript": [
       "\n",
       "        $('span:contains(\"# Temp\")').closest('.cell').remove();\n",
       "        var code = IPython.notebook.insert_cell_below('code');\n",
       "        code.set_text(atob(\"IyBUZW1wCmluc2VydCgnJycKPz8/Pz8yMDE0YSA9IERCKFdvcmtVbnJlbGF0ZWQoCiAgICAyMDE0LCAiPz8/Pz8/Pz8/Pz8/PyIsCiAgICBkaXNwbGF5PSI/Pz8/PyIsCiAgICBhdXRob3JzPSI/Pz8/PyIsCiAgICBwbGFjZT1GQUtFLAogICAgcHA9IjQ3LS01MiIsCiAgICBlbnRyeXR5cGU9ImFydGljbGUiLAogICAgdm9sdW1lPSIxMTQiLAogICAgbnVtYmVyPSIyOTIiLAogICAgcHVibGlzaGVyPSI/Pz8/Pz8/Pz8/Pz8/PyIsCiAgICBJRD0iPz8/Pz8yMDE0Pz8/Pz8/Pz8/Pz8/PyIsCiAgICBwbGFjZXg9Ij8/Pz8/Pz8/Pz8/Pz8/LiBLQlNFLCA/Pz8/Pz8/Pz8/IiwKKSkKCkRCKENpdGF0aW9uKAogICAgPz8/Pz8yMDE0YSwgYmFzaWxpMjAxMGEsIHJlZj0iIiwKICAgIGNvbnRleHRzPVsKCiAgICBdLAopKQoKJycnLCBjaXRhdGlvbnM9J2Jhc2lsaTIwMTBhJyk7\"));\n",
       "    "
      ],
      "text/plain": [
       "<IPython.core.display.Javascript object>"
      ]
     },
     "metadata": {},
     "output_type": "display_data"
    },
    {
     "data": {
      "application/javascript": [
       "$('span:contains(\"# Temp\")').closest('.cell').remove();"
      ],
      "text/plain": [
       "<IPython.core.display.Javascript object>"
      ]
     },
     "metadata": {},
     "output_type": "display_data"
    },
    {
     "data": {
      "application/javascript": [
       "\n",
       "        $('span:contains(\"# Temp\")').closest('.cell').remove();\n",
       "        var code = IPython.notebook.insert_cell_below('code');\n",
       "        code.set_text(atob(\"IyBUZW1wCmluc2VydCgnJycKPz8/Pz8/MjAxN2EgPSBEQihXb3JrVW5yZWxhdGVkKAogICAgMjAxNywgIj8/Pz8/Pz8gPz8/Pz8/Pz8/Pz8/Pz8/ID8/Pz8/Pz8/Pz8/ID8gPz8/Pz8/Pz8gPz8/Pz8/Pz8/Pz8/ID8/Pz8/Pz8/OiA/Pz8/LT8/Pz8tPz8/Pz8/PysgPz8/Pz8/Pz8/IiwKICAgIGRpc3BsYXk9Ij8/Pz8/PyIsCiAgICBhdXRob3JzPSI/Pz8/Pz8sID8/Pz8/ID8/Pz8/Pz8iLAogICAgcGxhY2U9RkFLRSwKICAgIHBwPSIxMi0tMTkiLAogICAgZW50cnl0eXBlPSJhcnRpY2xlIiwKICAgIG51bWJlcj0iOSIsCiAgICBwdWJsaXNoZXI9Ij8/Pz8/Pz8/ID8/Pz8/Pz8/Pz8/ID8/Pz8/Pz8/ID8/Pz8/Pz8/Pz8/Pz8gPz8/Pz8/LT8/Pz8/Pz8/Pz8/Pz8/Pz8/ID8/Pz8/Pz8/ID8/Pz8/Pz8/Pz8/LCA/Pz8/Pz8/Pz8/ID8gPz8/Pz8/Pz8/ID8/Pz8/Pz8/Pz8/PyA/Pz8/Pz8/Pz8/Pz8/PyIsCiAgICBJRD0iPz8/Pz8/MjAxNz8/Pz8/Pz8iLAogICAgcGxhY2V4PSI/Pz8/Pz8/PyA/Pz8/Pz8/Pz8gPyA/Pz8/Pz8/Pz8/ID8/Pz8/Pz8/Pz8/PyA/Pz8/Pz8/Pz8/IiwKKSkKCkRCKENpdGF0aW9uKAogICAgPz8/Pz8/MjAxN2EsIGJhc2lsaTIwMTBhLCByZWY9IiIsCiAgICBjb250ZXh0cz1bCgogICAgXSwKKSkKCicnJywgY2l0YXRpb25zPSdiYXNpbGkyMDEwYScpOw==\"));\n",
       "    "
      ],
      "text/plain": [
       "<IPython.core.display.Javascript object>"
      ]
     },
     "metadata": {},
     "output_type": "display_data"
    },
    {
     "data": {
      "application/javascript": [
       "$('span:contains(\"# Temp\")').closest('.cell').remove();"
      ],
      "text/plain": [
       "<IPython.core.display.Javascript object>"
      ]
     },
     "metadata": {},
     "output_type": "display_data"
    },
    {
     "data": {
      "application/javascript": [
       "\n",
       "        $('span:contains(\"# Temp\")').closest('.cell').remove();\n",
       "        var code = IPython.notebook.insert_cell_below('code');\n",
       "        code.set_text(atob(\"IyBUZW1wCmluc2VydCgnJycKcGFwYTBhID0gREIoV29ya1VucmVsYXRlZCgKICAgIDAsICJQYXRy824gZGUgRXN0cmF0ZWdpYSBkZSBFdmFsdWFjafNuIHkgTWVqb3JhIGRlIHVuYSBWaXN0YSBkZSBDYWxpZGFkIGFwbGljYWRvIGEgdW4gUmVjdXJzbyBPcmdhbml6YWNpb25hbCIsCiAgICBkaXNwbGF5PSJwYXBhIiwKICAgIGF1dGhvcnM9IlBhcGEsIE1hcu1hIEZlcm5hbmRhIGFuZCBSaXZlcmEsIEJlbOluIGFuZCBCZWNrZXIsIFBhYmxvIGFuZCBPbHNpbmEsIEx1aXMiLAogICAgcGxhY2U9RkFLRSwKICAgIGVudHJ5dHlwZT0iYXJ0aWNsZSIsCiAgICBJRD0icGFwYXBhdHJvbiIsCiAgICBwbGFjZXg9IiIsCikpCgpEQihDaXRhdGlvbigKICAgIHBhcGEwYSwgYmFzaWxpMjAxMGEsIHJlZj0iIiwKICAgIGNvbnRleHRzPVsKCiAgICBdLAopKQoKJycnLCBjaXRhdGlvbnM9J2Jhc2lsaTIwMTBhJyk7\"));\n",
       "    "
      ],
      "text/plain": [
       "<IPython.core.display.Javascript object>"
      ]
     },
     "metadata": {},
     "output_type": "display_data"
    },
    {
     "data": {
      "application/javascript": [
       "$('span:contains(\"# Temp\")').closest('.cell').remove();"
      ],
      "text/plain": [
       "<IPython.core.display.Javascript object>"
      ]
     },
     "metadata": {},
     "output_type": "display_data"
    },
    {
     "data": {
      "application/javascript": [
       "\n",
       "        $('span:contains(\"# Temp\")').closest('.cell').remove();\n",
       "        var code = IPython.notebook.insert_cell_below('code');\n",
       "        code.set_text(atob(\"IyBUZW1wCmluc2VydCgnJycKcGFwYTBhID0gREIoV29ya1VucmVsYXRlZCgKICAgIDAsICJQYXRy824gZGUgRXN0cmF0ZWdpYSBkZSBFdmFsdWFjafNuIHkgTWVqb3JhIGRlIHVuYSBWaXN0YSBkZSBDYWxpZGFkIGFwbGljYWRvIGEgdW4gUmVjdXJzbyBPcmdhbml6YWNpb25hbCIsCiAgICBkaXNwbGF5PSJwYXBhIiwKICAgIGF1dGhvcnM9IlBhcGEsIE1hcu1hIEZlcm5hbmRhIGFuZCBSaXZlcmEsIEJlbOluIGFuZCBCZWNrZXIsIFBhYmxvIGFuZCBPbHNpbmEsIEx1aXMiLAogICAgcGxhY2U9RkFLRSwKICAgIGVudHJ5dHlwZT0iYXJ0aWNsZSIsCiAgICBJRD0icGFwYXBhdHJvbiIsCiAgICBwbGFjZXg9IiIsCikpCgpEQihDaXRhdGlvbigKICAgIHBhcGEwYSwgYmFzaWxpMjAxMGEsIHJlZj0iIiwKICAgIGNvbnRleHRzPVsKCiAgICBdLAopKQoKJycnLCBjaXRhdGlvbnM9J2Jhc2lsaTIwMTBhJyk7\"));\n",
       "    "
      ],
      "text/plain": [
       "<IPython.core.display.Javascript object>"
      ]
     },
     "metadata": {},
     "output_type": "display_data"
    },
    {
     "data": {
      "application/javascript": [
       "$('span:contains(\"# Temp\")').closest('.cell').remove();"
      ],
      "text/plain": [
       "<IPython.core.display.Javascript object>"
      ]
     },
     "metadata": {},
     "output_type": "display_data"
    },
    {
     "data": {
      "application/javascript": [
       "\n",
       "        $('span:contains(\"# Temp\")').closest('.cell').remove();\n",
       "        var code = IPython.notebook.insert_cell_below('code');\n",
       "        code.set_text(atob(\"IyBUZW1wCmluc2VydCgnJycKPz8/Pz8/MjAxN2EgPSBEQihXb3JrVW5yZWxhdGVkKAogICAgMjAxNywgIj8/Pz8/Pz8/Pz8/ID8/Pz8/Pz8/PyA/ID8/Pz8/Pz8gPz8/Pz8/Pz8/Pz8/ID8/ID8/Pz8/PyA/Pz8/Pz8/Pz8/ID8/Pz8/Pz8/Pz8/PyA/Pz8/Pz8/Pz8gPyA/Pz8/Pz8/Pz8/Pz8gPz8/Pz8/Pz8iLAogICAgZGlzcGxheT0iPz8/Pz8/IiwKICAgIGF1dGhvcnM9Ij8/Pz8/PywgPz8/Pz8gPz8/Pz8/PyIsCiAgICBwbGFjZT1GQUtFLAogICAgZW50cnl0eXBlPSJhcnRpY2xlIiwKICAgIHZvbHVtZT0iOCIsCiAgICBudW1iZXI9IjIgKDMwKSIsCiAgICBwdWJsaXNoZXI9Ij8/Pz8/Pz8/ID8gPz8/Pz8/Pz8/Pz8/ID8/Pz8/Pz8/Pz8/Pz8/Pz8gPz8/Pz8/Pz8/Pz8/ID8/PyB7XGd1aWxsZW1vdGxlZnR9Pz8/Pz97XGd1aWxsZW1vdHJpZ2h0fSIsCiAgICBJRD0iPz8/Pz8/MjAxNz8/Pz8/Pz8/Pz8/IiwKICAgIHBsYWNleD0iPz8/ICg/Pz8/Pz8/Pz8/Pz8uID8/Pz8/Pz8/Py4gPz8/Pz8/Pz8pIiwKKSkKCkRCKENpdGF0aW9uKAogICAgPz8/Pz8/MjAxN2EsIGJhc2lsaTIwMTBhLCByZWY9IiIsCiAgICBjb250ZXh0cz1bCgogICAgXSwKKSkKCicnJywgY2l0YXRpb25zPSdiYXNpbGkyMDEwYScpOw==\"));\n",
       "    "
      ],
      "text/plain": [
       "<IPython.core.display.Javascript object>"
      ]
     },
     "metadata": {},
     "output_type": "display_data"
    },
    {
     "data": {
      "application/javascript": [
       "$('span:contains(\"# Temp\")').closest('.cell').remove();"
      ],
      "text/plain": [
       "<IPython.core.display.Javascript object>"
      ]
     },
     "metadata": {},
     "output_type": "display_data"
    },
    {
     "data": {
      "application/javascript": [
       "\n",
       "        $('span:contains(\"# Temp\")').closest('.cell').remove();\n",
       "        var code = IPython.notebook.insert_cell_below('code');\n",
       "        code.set_text(atob(\"IyBUZW1wCmluc2VydCgnJycKPz8/Pz8/MjAxN2EgPSBEQihXb3JrVW5yZWxhdGVkKAogICAgMjAxNywgIj8/Pz8/Pz8/Pz8/ID8/Pz8/Pz8/PyA/ID8/Pz8/Pz8gPz8/Pz8/Pz8/Pz8/ID8/ID8/Pz8/PyA/Pz8/Pz8/Pz8/ID8/Pz8/Pz8/Pz8/PyA/Pz8/Pz8/Pz8gPyA/Pz8/Pz8/Pz8/Pz8gPz8/Pz8/Pz8iLAogICAgZGlzcGxheT0iPz8/Pz8/IiwKICAgIGF1dGhvcnM9Ij8/Pz8/PywgPz8/Pz8gPz8/Pz8/PyIsCiAgICBwbGFjZT1GQUtFLAogICAgZW50cnl0eXBlPSJhcnRpY2xlIiwKICAgIHZvbHVtZT0iOCIsCiAgICBudW1iZXI9IjIgKDMwKSIsCiAgICBwdWJsaXNoZXI9Ij8/Pz8/Pz8/ID8gPz8/Pz8/Pz8/Pz8/ID8/Pz8/Pz8/Pz8/Pz8/Pz8gPz8/Pz8/Pz8/Pz8/ID8/PyB7XGd1aWxsZW1vdGxlZnR9Pz8/Pz97XGd1aWxsZW1vdHJpZ2h0fSIsCiAgICBJRD0iPz8/Pz8/MjAxNz8/Pz8/Pz8/Pz8/IiwKICAgIHBsYWNleD0iPz8/ICg/Pz8/Pz8/Pz8/Pz8uID8/Pz8/Pz8/Py4gPz8/Pz8/Pz8pIiwKKSkKCkRCKENpdGF0aW9uKAogICAgPz8/Pz8/MjAxN2EsIGJhc2lsaTIwMTBhLCByZWY9IiIsCiAgICBjb250ZXh0cz1bCgogICAgXSwKKSkKCicnJywgY2l0YXRpb25zPSdiYXNpbGkyMDEwYScpOw==\"));\n",
       "    "
      ],
      "text/plain": [
       "<IPython.core.display.Javascript object>"
      ]
     },
     "metadata": {},
     "output_type": "display_data"
    },
    {
     "data": {
      "application/javascript": [
       "$('span:contains(\"# Temp\")').closest('.cell').remove();"
      ],
      "text/plain": [
       "<IPython.core.display.Javascript object>"
      ]
     },
     "metadata": {},
     "output_type": "display_data"
    },
    {
     "data": {
      "application/javascript": [
       "\n",
       "        $('span:contains(\"# Temp\")').closest('.cell').remove();\n",
       "        var code = IPython.notebook.insert_cell_below('code');\n",
       "        code.set_text(atob(\"IyBUZW1wCmluc2VydCgnJycKaHViZXJ0czBhID0gREIoV29ya1VucmVsYXRlZCgKICAgIDAsICJIZXQgZ2VicnVpayB2YW4gYXJjaGl0ZWN0dXVyY29uY2VwdGVuIGJpaiBkZSBvbnR3aWtrZWxpbmcgdmFuIHdlYi9tb2JpZWxlIGFwcGxpY2F0aWVzIiwKICAgIGRpc3BsYXk9Imh1YmVydHMiLAogICAgYXV0aG9ycz0iSHViZXJ0cywgUGF1bCBhbmQgSG9wcGVuYnJvdXdlcnMsIFN0aWpuIGFuZCBDbGFhc3NlbiwgVG9tIiwKICAgIHBsYWNlPUZBS0UsCiAgICBlbnRyeXR5cGU9ImFydGljbGUiLAogICAgSUQ9Imh1YmVydHNoZXQiLAogICAgcGxhY2V4PSIiLAopKQoKREIoQ2l0YXRpb24oCiAgICBodWJlcnRzMGEsIGJhc2lsaTIwMTBhLCByZWY9IiIsCiAgICBjb250ZXh0cz1bCgogICAgXSwKKSkKCicnJywgY2l0YXRpb25zPSdiYXNpbGkyMDEwYScpOw==\"));\n",
       "    "
      ],
      "text/plain": [
       "<IPython.core.display.Javascript object>"
      ]
     },
     "metadata": {},
     "output_type": "display_data"
    },
    {
     "data": {
      "application/javascript": [
       "$('span:contains(\"# Temp\")').closest('.cell').remove();"
      ],
      "text/plain": [
       "<IPython.core.display.Javascript object>"
      ]
     },
     "metadata": {},
     "output_type": "display_data"
    },
    {
     "data": {
      "application/javascript": [
       "\n",
       "        $('span:contains(\"# Temp\")').closest('.cell').remove();\n",
       "        var code = IPython.notebook.insert_cell_below('code');\n",
       "        code.set_text(atob(\"IyBUZW1wCmluc2VydCgnJycKaHViZXJ0czBhID0gREIoV29ya1VucmVsYXRlZCgKICAgIDAsICJIZXQgZ2VicnVpayB2YW4gYXJjaGl0ZWN0dXVyY29uY2VwdGVuIGJpaiBkZSBvbnR3aWtrZWxpbmcgdmFuIHdlYi9tb2JpZWxlIGFwcGxpY2F0aWVzIiwKICAgIGRpc3BsYXk9Imh1YmVydHMiLAogICAgYXV0aG9ycz0iSHViZXJ0cywgUGF1bCBhbmQgSG9wcGVuYnJvdXdlcnMsIFN0aWpuIGFuZCBDbGFhc3NlbiwgVG9tIiwKICAgIHBsYWNlPUZBS0UsCiAgICBlbnRyeXR5cGU9ImFydGljbGUiLAogICAgSUQ9Imh1YmVydHNoZXQiLAogICAgcGxhY2V4PSIiLAopKQoKREIoQ2l0YXRpb24oCiAgICBodWJlcnRzMGEsIGJhc2lsaTIwMTBhLCByZWY9IiIsCiAgICBjb250ZXh0cz1bCgogICAgXSwKKSkKCicnJywgY2l0YXRpb25zPSdiYXNpbGkyMDEwYScpOw==\"));\n",
       "    "
      ],
      "text/plain": [
       "<IPython.core.display.Javascript object>"
      ]
     },
     "metadata": {},
     "output_type": "display_data"
    },
    {
     "data": {
      "application/javascript": [
       "$('span:contains(\"# Temp\")').closest('.cell').remove();"
      ],
      "text/plain": [
       "<IPython.core.display.Javascript object>"
      ]
     },
     "metadata": {},
     "output_type": "display_data"
    },
    {
     "data": {
      "application/javascript": [
       "\n",
       "        $('span:contains(\"# Temp\")').closest('.cell').remove();\n",
       "        var code = IPython.notebook.insert_cell_below('code');\n",
       "        code.set_text(atob(\"IyBUZW1wCmluc2VydCgnJycKbWVuZG96YTIwMTNhID0gREIoV29ya1VucmVsYXRlZCgKICAgIDIwMTMsICJBcnTtY3Vsb3MgZGUgSW52ZXN0aWdhY2nzbiIsCiAgICBkaXNwbGF5PSJtZW5kb3phIiwKICAgIGF1dGhvcnM9Ik1lbmRvemEsIE1hbnVlbCBNYWxkb25hZG8gYW5kIEdvcmTzbiwgTWFyeSBMdXogU+FuY2hleiIsCiAgICBwbGFjZT1GQUtFLAogICAgZW50cnl0eXBlPSJhcnRpY2xlIiwKICAgIElEPSJtZW5kb3phMjAxM2FydGljdWxvcyIsCiAgICBwbGFjZXg9IiIsCikpCgpEQihDaXRhdGlvbigKICAgIG1lbmRvemEyMDEzYSwgYmFzaWxpMjAxMGEsIHJlZj0iIiwKICAgIGNvbnRleHRzPVsKCiAgICBdLAopKQoKJycnLCBjaXRhdGlvbnM9J2Jhc2lsaTIwMTBhJyk7\"));\n",
       "    "
      ],
      "text/plain": [
       "<IPython.core.display.Javascript object>"
      ]
     },
     "metadata": {},
     "output_type": "display_data"
    },
    {
     "data": {
      "application/javascript": [
       "$('span:contains(\"# Temp\")').closest('.cell').remove();"
      ],
      "text/plain": [
       "<IPython.core.display.Javascript object>"
      ]
     },
     "metadata": {},
     "output_type": "display_data"
    },
    {
     "data": {
      "application/javascript": [
       "\n",
       "        $('span:contains(\"# Temp\")').closest('.cell').remove();\n",
       "        var code = IPython.notebook.insert_cell_below('code');\n",
       "        code.set_text(atob(\"IyBUZW1wCmluc2VydCgnJycKbWVuZG96YTIwMTNhID0gREIoV29ya1VucmVsYXRlZCgKICAgIDIwMTMsICJBcnTtY3Vsb3MgZGUgSW52ZXN0aWdhY2nzbiIsCiAgICBkaXNwbGF5PSJtZW5kb3phIiwKICAgIGF1dGhvcnM9Ik1lbmRvemEsIE1hbnVlbCBNYWxkb25hZG8gYW5kIEdvcmTzbiwgTWFyeSBMdXogU+FuY2hleiIsCiAgICBwbGFjZT1GQUtFLAogICAgZW50cnl0eXBlPSJhcnRpY2xlIiwKICAgIElEPSJtZW5kb3phMjAxM2FydGljdWxvcyIsCiAgICBwbGFjZXg9IiIsCikpCgpEQihDaXRhdGlvbigKICAgIG1lbmRvemEyMDEzYSwgYmFzaWxpMjAxMGEsIHJlZj0iIiwKICAgIGNvbnRleHRzPVsKCiAgICBdLAopKQoKJycnLCBjaXRhdGlvbnM9J2Jhc2lsaTIwMTBhJyk7\"));\n",
       "    "
      ],
      "text/plain": [
       "<IPython.core.display.Javascript object>"
      ]
     },
     "metadata": {},
     "output_type": "display_data"
    },
    {
     "data": {
      "application/javascript": [
       "$('span:contains(\"# Temp\")').closest('.cell').remove();"
      ],
      "text/plain": [
       "<IPython.core.display.Javascript object>"
      ]
     },
     "metadata": {},
     "output_type": "display_data"
    },
    {
     "data": {
      "application/javascript": [
       "\n",
       "        $('span:contains(\"# Temp\")').closest('.cell').remove();\n",
       "        var code = IPython.notebook.insert_cell_below('code');\n",
       "        code.set_text(atob(\"IyBUZW1wCmluc2VydCgnJycKREIoQ2l0YXRpb24oCiAgICByb2JsZXMyMDE2YSwgYmFzaWxpMjAxMGEsIHJlZj0iIiwKICAgIGNvbnRleHRzPVsKCiAgICBdLAopKQoKJycnLCBjaXRhdGlvbnM9J2Jhc2lsaTIwMTBhJyk7CnNldF9hdHRyaWJ1dGUoJ3JvYmxlczIwMTZhJywgJ2V4Y2VycHQnLCAnTGFzIG9yZ2FuaXphY2lvbmVzIGRlIGRlc2Fycm9sbG8gZGUgc29mdHdhcmUgYnVzY2FuIGNvbnN0YW50ZW1lbnRlIGZvcm1hcyBkZSBzZXIgbeFzIGVmaWNpZW50ZXMgeSBjdW1wbGlyIGNvbiBzdXMgb2JqZXRpdm9zIGRlIG5lZ29jaW8uIExvcyBkZXNhZu1vcyBxdWUg6XN0YXMgZW5mcmVudGFuIHBhcmEgY29uc2VndWlyIGVzdGUgZmluLCBwdWVkZW4gc2VyIGFmcm9udGFkb3MgYSB0cmF26XMgZGVsIGRlc3BsaWVndWUgeSBtZWpvcmEgZGUgcHJvY2Vzb3OghScpOw==\"));\n",
       "    "
      ],
      "text/plain": [
       "<IPython.core.display.Javascript object>"
      ]
     },
     "metadata": {},
     "output_type": "display_data"
    },
    {
     "data": {
      "application/javascript": [
       "$('span:contains(\"# Temp\")').closest('.cell').remove();"
      ],
      "text/plain": [
       "<IPython.core.display.Javascript object>"
      ]
     },
     "metadata": {},
     "output_type": "display_data"
    },
    {
     "data": {
      "application/javascript": [
       "\n",
       "        $('span:contains(\"# Temp\")').closest('.cell').remove();\n",
       "        var code = IPython.notebook.insert_cell_below('code');\n",
       "        code.set_text(atob(\"IyBUZW1wCmluc2VydCgnJycKREIoQ2l0YXRpb24oCiAgICByb2JsZXMyMDE2YSwgYmFzaWxpMjAxMGEsIHJlZj0iIiwKICAgIGNvbnRleHRzPVsKCiAgICBdLAopKQoKJycnLCBjaXRhdGlvbnM9J2Jhc2lsaTIwMTBhJyk7CnNldF9hdHRyaWJ1dGUoJ3JvYmxlczIwMTZhJywgJ2V4Y2VycHQnLCAnTGFzIG9yZ2FuaXphY2lvbmVzIGRlIGRlc2Fycm9sbG8gZGUgc29mdHdhcmUgYnVzY2FuIGNvbnN0YW50ZW1lbnRlIGZvcm1hcyBkZSBzZXIgbeFzIGVmaWNpZW50ZXMgeSBjdW1wbGlyIGNvbiBzdXMgb2JqZXRpdm9zIGRlIG5lZ29jaW8uIExvcyBkZXNhZu1vcyBxdWUg6XN0YXMgZW5mcmVudGFuIHBhcmEgY29uc2VndWlyIGVzdGUgZmluLCBwdWVkZW4gc2VyIGFmcm9udGFkb3MgYSB0cmF26XMgZGVsIGRlc3BsaWVndWUgeSBtZWpvcmEgZGUgcHJvY2Vzb3OghScpOw==\"));\n",
       "    "
      ],
      "text/plain": [
       "<IPython.core.display.Javascript object>"
      ]
     },
     "metadata": {},
     "output_type": "display_data"
    }
   ],
   "source": [
    "manager"
   ]
  },
  {
   "cell_type": "code",
   "execution_count": 16,
   "metadata": {},
   "outputs": [
    {
     "name": "stdout",
     "output_type": "stream",
     "text": [
      "-Insert Import: robles2016a\n",
      "-Insert Citation: robles2016a -> basili2010a\n"
     ]
    }
   ],
   "source": [
    "# Temp\n",
    "insert('''\n",
    "DB(Citation(\n",
    "    robles2016a, basili2010a, ref=\"\",\n",
    "    contexts=[\n",
    "\n",
    "    ],\n",
    "))\n",
    "\n",
    "''', citations='basili2010a');\n"
   ]
  },
  {
   "cell_type": "code",
   "execution_count": null,
   "metadata": {
    "collapsed": true
   },
   "outputs": [],
   "source": []
  }
 ],
 "metadata": {
  "kernelspec": {
   "display_name": "Python 3",
   "language": "python",
   "name": "python3"
  },
  "language_info": {
   "codemirror_mode": {
    "name": "ipython",
    "version": 3
   },
   "file_extension": ".py",
   "mimetype": "text/x-python",
   "name": "python",
   "nbconvert_exporter": "python",
   "pygments_lexer": "ipython3",
   "version": "3.6.0"
  },
  "toc": {
   "nav_menu": {
    "height": "12px",
    "width": "252px"
   },
   "number_sections": true,
   "sideBar": true,
   "skip_h1_title": false,
   "toc_cell": false,
   "toc_position": {},
   "toc_section_display": "block",
   "toc_window_display": false
  }
 },
 "nbformat": 4,
 "nbformat_minor": 1
}
