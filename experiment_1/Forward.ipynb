{
 "cells": [
  {
   "cell_type": "code",
   "execution_count": 51,
   "metadata": {
    "collapsed": true
   },
   "outputs": [],
   "source": [
    "import database\n",
    "from snowballing.operations import load_work, reload, work_by_varname\n",
    "from snowballing.selenium_scholar import SeleniumScholarQuerier\n",
    "from snowballing.snowballing import ForwardSnowballing\n",
    "from snowballing.dbmanager import insert, set_attribute\n",
    "from custom_snowballing import UnrelatedForward"
   ]
  },
  {
   "cell_type": "code",
   "execution_count": 52,
   "metadata": {
    "collapsed": true
   },
   "outputs": [],
   "source": [
    "querier = SeleniumScholarQuerier()"
   ]
  },
  {
   "cell_type": "code",
   "execution_count": 53,
   "metadata": {
    "scrolled": true
   },
   "outputs": [],
   "source": [
    "querier.apply_settings(20, 4);"
   ]
  },
  {
   "cell_type": "code",
   "execution_count": 54,
   "metadata": {},
   "outputs": [
    {
     "name": "stdout",
     "output_type": "stream",
     "text": [
      "Captcha: OK\n"
     ]
    }
   ],
   "source": [
    "#manager = ForwardSnowballing(querier, \"mendes2004a\", start=60)\n",
    "import importlib\n",
    "import custom_snowballing\n",
    "importlib.reload(custom_snowballing)\n",
    "from custom_snowballing import UnrelatedForward\n",
    "manager = UnrelatedForward(querier, \"basili2010a\", start=0)"
   ]
  },
  {
   "cell_type": "code",
   "execution_count": null,
   "metadata": {
    "collapsed": true
   },
   "outputs": [],
   "source": []
  },
  {
   "cell_type": "code",
   "execution_count": null,
   "metadata": {
    "collapsed": true
   },
   "outputs": [],
   "source": []
  },
  {
   "cell_type": "code",
   "execution_count": 55,
   "metadata": {
    "scrolled": false
   },
   "outputs": [
    {
     "data": {
      "application/vnd.jupyter.widget-view+json": {
       "model_id": "804af66002994e6285287b66452e9b4b",
       "version_major": 2,
       "version_minor": 0
      },
      "text/html": [
       "<p>Failed to display Jupyter Widget of type <code>Tab</code>.</p>\n",
       "<p>\n",
       "  If you're reading this message in Jupyter Notebook or JupyterLab, it may mean\n",
       "  that the widgets JavaScript is still loading. If this message persists, it\n",
       "  likely means that the widgets JavaScript library is either not installed or\n",
       "  not enabled. See the <a href=\"https://ipywidgets.readthedocs.io/en/stable/user_install.html\">Jupyter\n",
       "  Widgets Documentation</a> for setup instructions.\n",
       "</p>\n",
       "<p>\n",
       "  If you're reading this message in another notebook frontend (for example, a static\n",
       "  rendering on GitHub or <a href=\"https://nbviewer.jupyter.org/\">NBViewer</a>),\n",
       "  it may mean that your frontend doesn't currently support widgets.\n",
       "</p>\n"
      ],
      "text/plain": [
       "Tab(children=(VBox(children=(HBox(children=(Button(description='Previous Page', disabled=True, icon='arrow-left', style=ButtonStyle()), Button(description='Reload', icon='refresh', style=ButtonStyle()), Button(description='Next Page', icon='arrow-right', style=ButtonStyle()), ToggleButton(value=False, description='Debug'), Label(value=''))), Output(outputs=({'output_type': 'stream', 'text': \"Ops. It requires a captcha!\\nIf you filled in the browser, type '<ok>' here.\\n\", 'name': 'stdout'}, {'output_type': 'stream', 'text': '[ERROR]  requesting citation data failed: Message: The element reference of <div id=\"recaptcha\" class=\"g-recaptcha\"> is stale; either the element is no longer attached to the DOM, it is not in the current frame context, or the document has been refreshed\\n\\n', 'name': 'stderr'}, {'output_type': 'error', 'ename': 'TypeError', 'evalue': \"object of type 'NoneType' has no len()\", 'traceback': ['\\x1b[1;31m---------------------------------------------------------------------------\\x1b[0m', '\\x1b[1;31mTypeError\\x1b[0m                                 Traceback (most recent call last)', '\\x1b[1;32mc:\\\\erica\\\\snowballing\\\\snowballing\\\\snowballing.py\\x1b[0m in \\x1b[0;36mreload\\x1b[1;34m(self, b, show)\\x1b[0m\\n\\x1b[0;32m    620\\x1b[0m         \\x1b[1;32mwith\\x1b[0m \\x1b[0mself\\x1b[0m\\x1b[1;33m.\\x1b[0m\\x1b[0mnavigator\\x1b[0m\\x1b[1;33m.\\x1b[0m\\x1b[0moutput_widget\\x1b[0m\\x1b[1;33m:\\x1b[0m\\x1b[1;33m\\x1b[0m\\x1b[0m\\n\\x1b[0;32m    621\\x1b[0m             \\x1b[0mself\\x1b[0m\\x1b[1;33m.\\x1b[0m\\x1b[0mquerier\\x1b[0m\\x1b[1;33m.\\x1b[0m\\x1b[0mtasks\\x1b[0m\\x1b[1;33m.\\x1b[0m\\x1b[0mclear\\x1b[0m\\x1b[1;33m(\\x1b[0m\\x1b[1;33m)\\x1b[0m\\x1b[1;33m\\x1b[0m\\x1b[0m\\n\\x1b[1;32m--> 622\\x1b[1;33m             \\x1b[0mself\\x1b[0m\\x1b[1;33m.\\x1b[0m\\x1b[0mquerier\\x1b[0m\\x1b[1;33m.\\x1b[0m\\x1b[0msend_query\\x1b[0m\\x1b[1;33m(\\x1b[0m\\x1b[0mself\\x1b[0m\\x1b[1;33m.\\x1b[0m\\x1b[0mquery\\x1b[0m\\x1b[1;33m)\\x1b[0m\\x1b[1;33m\\x1b[0m\\x1b[0m\\n\\x1b[0m\\x1b[0;32m    623\\x1b[0m             self.page_number_widget.value = parse_qs(urlparse(\\n\\x1b[0;32m    624\\x1b[0m                 self.query.get_url()).query\\n', '\\x1b[1;32mc:\\\\erica\\\\snowballing\\\\snowballing\\\\selenium_scholar.py\\x1b[0m in \\x1b[0;36msend_query\\x1b[1;34m(self, query)\\x1b[0m\\n\\x1b[0;32m    483\\x1b[0m         \\x1b[1;34m\"\"\"Initiates a search query (a ScholarQuery instance)\"\"\"\\x1b[0m\\x1b[1;33m\\x1b[0m\\x1b[0m\\n\\x1b[0;32m    484\\x1b[0m         \\x1b[0mself\\x1b[0m\\x1b[1;33m.\\x1b[0m\\x1b[0mtasks\\x1b[0m\\x1b[1;33m.\\x1b[0m\\x1b[0mappend\\x1b[0m\\x1b[1;33m(\\x1b[0m\\x1b[0mQueryTask\\x1b[0m\\x1b[1;33m(\\x1b[0m\\x1b[0mquery\\x1b[0m\\x1b[1;33m)\\x1b[0m\\x1b[1;33m)\\x1b[0m\\x1b[1;33m\\x1b[0m\\x1b[0m\\n\\x1b[1;32m--> 485\\x1b[1;33m         \\x1b[0mself\\x1b[0m\\x1b[1;33m.\\x1b[0m\\x1b[0mcontinue_tasks\\x1b[0m\\x1b[1;33m(\\x1b[0m\\x1b[1;33m)\\x1b[0m\\x1b[1;33m\\x1b[0m\\x1b[0m\\n\\x1b[0m\\x1b[0;32m    486\\x1b[0m         \\x1b[1;32mreturn\\x1b[0m \\x1b[0mself\\x1b[0m\\x1b[1;33m\\x1b[0m\\x1b[0m\\n\\x1b[0;32m    487\\x1b[0m \\x1b[1;33m\\x1b[0m\\x1b[0m\\n', '\\x1b[1;32mc:\\\\erica\\\\snowballing\\\\snowballing\\\\selenium_scholar.py\\x1b[0m in \\x1b[0;36mcontinue_tasks\\x1b[1;34m(self)\\x1b[0m\\n\\x1b[0;32m    469\\x1b[0m         \\x1b[1;32mwhile\\x1b[0m \\x1b[0mself\\x1b[0m\\x1b[1;33m.\\x1b[0m\\x1b[0mtasks\\x1b[0m\\x1b[1;33m:\\x1b[0m\\x1b[1;33m\\x1b[0m\\x1b[0m\\n\\x1b[0;32m    470\\x1b[0m             \\x1b[0mtask\\x1b[0m \\x1b[1;33m=\\x1b[0m \\x1b[0mself\\x1b[0m\\x1b[1;33m.\\x1b[0m\\x1b[0mtasks\\x1b[0m\\x1b[1;33m.\\x1b[0m\\x1b[0mpopleft\\x1b[0m\\x1b[1;33m(\\x1b[0m\\x1b[1;33m)\\x1b[0m\\x1b[1;33m\\x1b[0m\\x1b[0m\\n\\x1b[1;32m--> 471\\x1b[1;33m             \\x1b[0mtask\\x1b[0m\\x1b[1;33m.\\x1b[0m\\x1b[0mapply\\x1b[0m\\x1b[1;33m(\\x1b[0m\\x1b[0mself\\x1b[0m\\x1b[1;33m)\\x1b[0m\\x1b[1;33m\\x1b[0m\\x1b[0m\\n\\x1b[0m\\x1b[0;32m    472\\x1b[0m         \\x1b[1;32mif\\x1b[0m \\x1b[0mself\\x1b[0m\\x1b[1;33m.\\x1b[0m\\x1b[0mresult\\x1b[0m\\x1b[1;33m:\\x1b[0m\\x1b[1;33m\\x1b[0m\\x1b[0m\\n\\x1b[0;32m    473\\x1b[0m             \\x1b[0mself\\x1b[0m\\x1b[1;33m.\\x1b[0m\\x1b[0marticles\\x1b[0m \\x1b[1;33m=\\x1b[0m \\x1b[0mself\\x1b[0m\\x1b[1;33m.\\x1b[0m\\x1b[0mresult\\x1b[0m\\x1b[1;33m.\\x1b[0m\\x1b[0marticles\\x1b[0m\\x1b[1;33m\\x1b[0m\\x1b[0m\\n', \"\\x1b[1;32mc:\\\\erica\\\\snowballing\\\\snowballing\\\\selenium_scholar.py\\x1b[0m in \\x1b[0;36mapply\\x1b[1;34m(self, querier)\\x1b[0m\\n\\x1b[0;32m    152\\x1b[0m     \\x1b[1;32mdef\\x1b[0m \\x1b[0mapply\\x1b[0m\\x1b[1;33m(\\x1b[0m\\x1b[0mself\\x1b[0m\\x1b[1;33m,\\x1b[0m \\x1b[0mquerier\\x1b[0m\\x1b[1;33m)\\x1b[0m\\x1b[1;33m:\\x1b[0m\\x1b[1;33m\\x1b[0m\\x1b[0m\\n\\x1b[0;32m    153\\x1b[0m         \\x1b[1;32mif\\x1b[0m \\x1b[0mlen\\x1b[0m\\x1b[1;33m(\\x1b[0m\\x1b[0mself\\x1b[0m\\x1b[1;33m.\\x1b[0m\\x1b[0mresult\\x1b[0m\\x1b[1;33m.\\x1b[0m\\x1b[0marticles\\x1b[0m\\x1b[1;33m)\\x1b[0m \\x1b[1;33m<\\x1b[0m \\x1b[0mgetattr\\x1b[0m\\x1b[1;33m(\\x1b[0m\\x1b[0mself\\x1b[0m\\x1b[1;33m.\\x1b[0m\\x1b[0mresult\\x1b[0m\\x1b[1;33m.\\x1b[0m\\x1b[0mquery\\x1b[0m\\x1b[1;33m,\\x1b[0m \\x1b[1;34m'num_results'\\x1b[0m\\x1b[1;33m,\\x1b[0m \\x1b[1;36m10000\\x1b[0m\\x1b[1;33m)\\x1b[0m\\x1b[1;33m:\\x1b[0m\\x1b[1;33m\\x1b[0m\\x1b[0m\\n\\x1b[1;32m--> 154\\x1b[1;33m             \\x1b[0mself\\x1b[0m\\x1b[1;33m.\\x1b[0m\\x1b[0mget_citation_data\\x1b[0m\\x1b[1;33m(\\x1b[0m\\x1b[0mquerier\\x1b[0m\\x1b[1;33m)\\x1b[0m\\x1b[1;33m\\x1b[0m\\x1b[0m\\n\\x1b[0m\\x1b[0;32m    155\\x1b[0m             \\x1b[0mself\\x1b[0m\\x1b[1;33m.\\x1b[0m\\x1b[0mresult\\x1b[0m\\x1b[1;33m.\\x1b[0m\\x1b[0marticles\\x1b[0m\\x1b[1;33m.\\x1b[0m\\x1b[0mappend\\x1b[0m\\x1b[1;33m(\\x1b[0m\\x1b[0mself\\x1b[0m\\x1b[1;33m.\\x1b[0m\\x1b[0marticle\\x1b[0m\\x1b[1;33m)\\x1b[0m\\x1b[1;33m\\x1b[0m\\x1b[0m\\n\\x1b[0;32m    156\\x1b[0m \\x1b[1;33m\\x1b[0m\\x1b[0m\\n\", '\\x1b[1;32mc:\\\\erica\\\\snowballing\\\\snowballing\\\\selenium_scholar.py\\x1b[0m in \\x1b[0;36mget_citation_data\\x1b[1;34m(self, querier)\\x1b[0m\\n\\x1b[0;32m    141\\x1b[0m                                     \\x1b[0merr_msg\\x1b[0m\\x1b[1;33m=\\x1b[0m\\x1b[1;34m\\'requesting citation data failed\\'\\x1b[0m\\x1b[1;33m,\\x1b[0m\\x1b[1;33m\\x1b[0m\\x1b[0m\\n\\x1b[0;32m    142\\x1b[0m                                     condition=(By.TAG_NAME, \\'pre\\'))\\n\\x1b[1;32m--> 143\\x1b[1;33m         \\x1b[0msoup\\x1b[0m \\x1b[1;33m=\\x1b[0m \\x1b[0mBeautifulSoup\\x1b[0m\\x1b[1;33m(\\x1b[0m\\x1b[0mdata\\x1b[0m\\x1b[1;33m,\\x1b[0m \\x1b[1;34m\"html.parser\"\\x1b[0m\\x1b[1;33m)\\x1b[0m\\x1b[1;33m\\x1b[0m\\x1b[0m\\n\\x1b[0m\\x1b[0;32m    144\\x1b[0m         \\x1b[0mdata\\x1b[0m \\x1b[1;33m=\\x1b[0m \\x1b[0msoup\\x1b[0m\\x1b[1;33m.\\x1b[0m\\x1b[0mtext\\x1b[0m\\x1b[1;33m\\x1b[0m\\x1b[0m\\n\\x1b[0;32m    145\\x1b[0m         \\x1b[1;32mif\\x1b[0m \\x1b[0mdata\\x1b[0m \\x1b[1;32mis\\x1b[0m \\x1b[1;32mNone\\x1b[0m\\x1b[1;33m:\\x1b[0m\\x1b[1;33m\\x1b[0m\\x1b[0m\\n', \"\\x1b[1;32mC:\\\\ProgramData\\\\Anaconda3\\\\lib\\\\site-packages\\\\bs4\\\\__init__.py\\x1b[0m in \\x1b[0;36m__init__\\x1b[1;34m(self, markup, features, builder, parse_only, from_encoding, exclude_encodings, **kwargs)\\x1b[0m\\n\\x1b[0;32m    190\\x1b[0m         \\x1b[1;32mif\\x1b[0m \\x1b[0mhasattr\\x1b[0m\\x1b[1;33m(\\x1b[0m\\x1b[0mmarkup\\x1b[0m\\x1b[1;33m,\\x1b[0m \\x1b[1;34m'read'\\x1b[0m\\x1b[1;33m)\\x1b[0m\\x1b[1;33m:\\x1b[0m        \\x1b[1;31m# It's a file-type object.\\x1b[0m\\x1b[1;33m\\x1b[0m\\x1b[0m\\n\\x1b[0;32m    191\\x1b[0m             \\x1b[0mmarkup\\x1b[0m \\x1b[1;33m=\\x1b[0m \\x1b[0mmarkup\\x1b[0m\\x1b[1;33m.\\x1b[0m\\x1b[0mread\\x1b[0m\\x1b[1;33m(\\x1b[0m\\x1b[1;33m)\\x1b[0m\\x1b[1;33m\\x1b[0m\\x1b[0m\\n\\x1b[1;32m--> 192\\x1b[1;33m         elif len(markup) <= 256 and (\\n\\x1b[0m\\x1b[0;32m    193\\x1b[0m                 \\x1b[1;33m(\\x1b[0m\\x1b[0misinstance\\x1b[0m\\x1b[1;33m(\\x1b[0m\\x1b[0mmarkup\\x1b[0m\\x1b[1;33m,\\x1b[0m \\x1b[0mbytes\\x1b[0m\\x1b[1;33m)\\x1b[0m \\x1b[1;32mand\\x1b[0m \\x1b[1;32mnot\\x1b[0m \\x1b[1;34mb'<'\\x1b[0m \\x1b[1;32min\\x1b[0m \\x1b[0mmarkup\\x1b[0m\\x1b[1;33m)\\x1b[0m\\x1b[1;33m\\x1b[0m\\x1b[0m\\n\\x1b[0;32m    194\\x1b[0m                 \\x1b[1;32mor\\x1b[0m \\x1b[1;33m(\\x1b[0m\\x1b[0misinstance\\x1b[0m\\x1b[1;33m(\\x1b[0m\\x1b[0mmarkup\\x1b[0m\\x1b[1;33m,\\x1b[0m \\x1b[0mstr\\x1b[0m\\x1b[1;33m)\\x1b[0m \\x1b[1;32mand\\x1b[0m \\x1b[1;32mnot\\x1b[0m \\x1b[1;34m'<'\\x1b[0m \\x1b[1;32min\\x1b[0m \\x1b[0mmarkup\\x1b[0m\\x1b[1;33m)\\x1b[0m\\x1b[1;33m\\x1b[0m\\x1b[0m\\n\", \"\\x1b[1;31mTypeError\\x1b[0m: object of type 'NoneType' has no len()\"]})))), VBox(children=(HBox(children=(Button(description='Previous Article', disabled=True, icon='caret-left', style=ButtonStyle()), Button(description='Reload Article', icon='refresh', style=ButtonStyle()), Button(description='Next Article', disabled=True, icon='caret-right', style=ButtonStyle()))), HBox(children=(Button(description='Unrelated: Scripts', style=ButtonStyle()), Button(description='Unrelated: Provenance', style=ButtonStyle()), Button(description='Both', style=ButtonStyle()), Button(description='Ok', style=ButtonStyle()))), HBox(children=(Dropdown(description='Type', index=5, options=('Work', 'WorkSnowball', 'WorkForward', 'WorkBackward', 'WorkOk', 'WorkUnrelated', 'WorkNoFile', 'WorkLang', 'Site', 'Email'), value='WorkUnrelated'), ToggleButton(value=False, description='File'))), HBox(children=(Text(value='', description='Due'), Text(value='', description='Place'))), HBox(children=(Text(value='', description='Year'), Text(value='', description='Prefix Var'))), HBox(children=(Text(value='', description='PDFPage'), Text(value='', description='Related'))), HBox(children=(Text(value='', description='Display'), Text(value='', description='Summary'))), HBox(children=(Text(value='', description='Star'), Text(value='', description='Link'))), HBox(children=(Button(description='Reload Article', icon='refresh', style=ButtonStyle()), IntSlider(value=0, max=0), Label(value='0/0'))), Output(outputs=({'output_type': 'stream', 'text': \"Ops. It requires a captcha!\\nIf you filled in the browser, type '<ok>' here.\\n\", 'name': 'stdout'}, {'output_type': 'stream', 'text': '[ERROR]  requesting citation data failed: Message: The element reference of <div id=\"recaptcha\" class=\"g-recaptcha\"> is stale; either the element is no longer attached to the DOM, it is not in the current frame context, or the document has been refreshed\\n\\n', 'name': 'stderr'}, {'output_type': 'error', 'ename': 'TypeError', 'evalue': \"object of type 'NoneType' has no len()\", 'traceback': ['\\x1b[1;31m---------------------------------------------------------------------------\\x1b[0m', '\\x1b[1;31mTypeError\\x1b[0m                                 Traceback (most recent call last)', '\\x1b[1;32mc:\\\\erica\\\\snowballing\\\\snowballing\\\\snowballing.py\\x1b[0m in \\x1b[0;36mreload\\x1b[1;34m(self, b, show)\\x1b[0m\\n\\x1b[0;32m    620\\x1b[0m         \\x1b[1;32mwith\\x1b[0m \\x1b[0mself\\x1b[0m\\x1b[1;33m.\\x1b[0m\\x1b[0mnavigator\\x1b[0m\\x1b[1;33m.\\x1b[0m\\x1b[0moutput_widget\\x1b[0m\\x1b[1;33m:\\x1b[0m\\x1b[1;33m\\x1b[0m\\x1b[0m\\n\\x1b[0;32m    621\\x1b[0m             \\x1b[0mself\\x1b[0m\\x1b[1;33m.\\x1b[0m\\x1b[0mquerier\\x1b[0m\\x1b[1;33m.\\x1b[0m\\x1b[0mtasks\\x1b[0m\\x1b[1;33m.\\x1b[0m\\x1b[0mclear\\x1b[0m\\x1b[1;33m(\\x1b[0m\\x1b[1;33m)\\x1b[0m\\x1b[1;33m\\x1b[0m\\x1b[0m\\n\\x1b[1;32m--> 622\\x1b[1;33m             \\x1b[0mself\\x1b[0m\\x1b[1;33m.\\x1b[0m\\x1b[0mquerier\\x1b[0m\\x1b[1;33m.\\x1b[0m\\x1b[0msend_query\\x1b[0m\\x1b[1;33m(\\x1b[0m\\x1b[0mself\\x1b[0m\\x1b[1;33m.\\x1b[0m\\x1b[0mquery\\x1b[0m\\x1b[1;33m)\\x1b[0m\\x1b[1;33m\\x1b[0m\\x1b[0m\\n\\x1b[0m\\x1b[0;32m    623\\x1b[0m             self.page_number_widget.value = parse_qs(urlparse(\\n\\x1b[0;32m    624\\x1b[0m                 self.query.get_url()).query\\n', '\\x1b[1;32mc:\\\\erica\\\\snowballing\\\\snowballing\\\\selenium_scholar.py\\x1b[0m in \\x1b[0;36msend_query\\x1b[1;34m(self, query)\\x1b[0m\\n\\x1b[0;32m    483\\x1b[0m         \\x1b[1;34m\"\"\"Initiates a search query (a ScholarQuery instance)\"\"\"\\x1b[0m\\x1b[1;33m\\x1b[0m\\x1b[0m\\n\\x1b[0;32m    484\\x1b[0m         \\x1b[0mself\\x1b[0m\\x1b[1;33m.\\x1b[0m\\x1b[0mtasks\\x1b[0m\\x1b[1;33m.\\x1b[0m\\x1b[0mappend\\x1b[0m\\x1b[1;33m(\\x1b[0m\\x1b[0mQueryTask\\x1b[0m\\x1b[1;33m(\\x1b[0m\\x1b[0mquery\\x1b[0m\\x1b[1;33m)\\x1b[0m\\x1b[1;33m)\\x1b[0m\\x1b[1;33m\\x1b[0m\\x1b[0m\\n\\x1b[1;32m--> 485\\x1b[1;33m         \\x1b[0mself\\x1b[0m\\x1b[1;33m.\\x1b[0m\\x1b[0mcontinue_tasks\\x1b[0m\\x1b[1;33m(\\x1b[0m\\x1b[1;33m)\\x1b[0m\\x1b[1;33m\\x1b[0m\\x1b[0m\\n\\x1b[0m\\x1b[0;32m    486\\x1b[0m         \\x1b[1;32mreturn\\x1b[0m \\x1b[0mself\\x1b[0m\\x1b[1;33m\\x1b[0m\\x1b[0m\\n\\x1b[0;32m    487\\x1b[0m \\x1b[1;33m\\x1b[0m\\x1b[0m\\n', '\\x1b[1;32mc:\\\\erica\\\\snowballing\\\\snowballing\\\\selenium_scholar.py\\x1b[0m in \\x1b[0;36mcontinue_tasks\\x1b[1;34m(self)\\x1b[0m\\n\\x1b[0;32m    469\\x1b[0m         \\x1b[1;32mwhile\\x1b[0m \\x1b[0mself\\x1b[0m\\x1b[1;33m.\\x1b[0m\\x1b[0mtasks\\x1b[0m\\x1b[1;33m:\\x1b[0m\\x1b[1;33m\\x1b[0m\\x1b[0m\\n\\x1b[0;32m    470\\x1b[0m             \\x1b[0mtask\\x1b[0m \\x1b[1;33m=\\x1b[0m \\x1b[0mself\\x1b[0m\\x1b[1;33m.\\x1b[0m\\x1b[0mtasks\\x1b[0m\\x1b[1;33m.\\x1b[0m\\x1b[0mpopleft\\x1b[0m\\x1b[1;33m(\\x1b[0m\\x1b[1;33m)\\x1b[0m\\x1b[1;33m\\x1b[0m\\x1b[0m\\n\\x1b[1;32m--> 471\\x1b[1;33m             \\x1b[0mtask\\x1b[0m\\x1b[1;33m.\\x1b[0m\\x1b[0mapply\\x1b[0m\\x1b[1;33m(\\x1b[0m\\x1b[0mself\\x1b[0m\\x1b[1;33m)\\x1b[0m\\x1b[1;33m\\x1b[0m\\x1b[0m\\n\\x1b[0m\\x1b[0;32m    472\\x1b[0m         \\x1b[1;32mif\\x1b[0m \\x1b[0mself\\x1b[0m\\x1b[1;33m.\\x1b[0m\\x1b[0mresult\\x1b[0m\\x1b[1;33m:\\x1b[0m\\x1b[1;33m\\x1b[0m\\x1b[0m\\n\\x1b[0;32m    473\\x1b[0m             \\x1b[0mself\\x1b[0m\\x1b[1;33m.\\x1b[0m\\x1b[0marticles\\x1b[0m \\x1b[1;33m=\\x1b[0m \\x1b[0mself\\x1b[0m\\x1b[1;33m.\\x1b[0m\\x1b[0mresult\\x1b[0m\\x1b[1;33m.\\x1b[0m\\x1b[0marticles\\x1b[0m\\x1b[1;33m\\x1b[0m\\x1b[0m\\n', \"\\x1b[1;32mc:\\\\erica\\\\snowballing\\\\snowballing\\\\selenium_scholar.py\\x1b[0m in \\x1b[0;36mapply\\x1b[1;34m(self, querier)\\x1b[0m\\n\\x1b[0;32m    152\\x1b[0m     \\x1b[1;32mdef\\x1b[0m \\x1b[0mapply\\x1b[0m\\x1b[1;33m(\\x1b[0m\\x1b[0mself\\x1b[0m\\x1b[1;33m,\\x1b[0m \\x1b[0mquerier\\x1b[0m\\x1b[1;33m)\\x1b[0m\\x1b[1;33m:\\x1b[0m\\x1b[1;33m\\x1b[0m\\x1b[0m\\n\\x1b[0;32m    153\\x1b[0m         \\x1b[1;32mif\\x1b[0m \\x1b[0mlen\\x1b[0m\\x1b[1;33m(\\x1b[0m\\x1b[0mself\\x1b[0m\\x1b[1;33m.\\x1b[0m\\x1b[0mresult\\x1b[0m\\x1b[1;33m.\\x1b[0m\\x1b[0marticles\\x1b[0m\\x1b[1;33m)\\x1b[0m \\x1b[1;33m<\\x1b[0m \\x1b[0mgetattr\\x1b[0m\\x1b[1;33m(\\x1b[0m\\x1b[0mself\\x1b[0m\\x1b[1;33m.\\x1b[0m\\x1b[0mresult\\x1b[0m\\x1b[1;33m.\\x1b[0m\\x1b[0mquery\\x1b[0m\\x1b[1;33m,\\x1b[0m \\x1b[1;34m'num_results'\\x1b[0m\\x1b[1;33m,\\x1b[0m \\x1b[1;36m10000\\x1b[0m\\x1b[1;33m)\\x1b[0m\\x1b[1;33m:\\x1b[0m\\x1b[1;33m\\x1b[0m\\x1b[0m\\n\\x1b[1;32m--> 154\\x1b[1;33m             \\x1b[0mself\\x1b[0m\\x1b[1;33m.\\x1b[0m\\x1b[0mget_citation_data\\x1b[0m\\x1b[1;33m(\\x1b[0m\\x1b[0mquerier\\x1b[0m\\x1b[1;33m)\\x1b[0m\\x1b[1;33m\\x1b[0m\\x1b[0m\\n\\x1b[0m\\x1b[0;32m    155\\x1b[0m             \\x1b[0mself\\x1b[0m\\x1b[1;33m.\\x1b[0m\\x1b[0mresult\\x1b[0m\\x1b[1;33m.\\x1b[0m\\x1b[0marticles\\x1b[0m\\x1b[1;33m.\\x1b[0m\\x1b[0mappend\\x1b[0m\\x1b[1;33m(\\x1b[0m\\x1b[0mself\\x1b[0m\\x1b[1;33m.\\x1b[0m\\x1b[0marticle\\x1b[0m\\x1b[1;33m)\\x1b[0m\\x1b[1;33m\\x1b[0m\\x1b[0m\\n\\x1b[0;32m    156\\x1b[0m \\x1b[1;33m\\x1b[0m\\x1b[0m\\n\", '\\x1b[1;32mc:\\\\erica\\\\snowballing\\\\snowballing\\\\selenium_scholar.py\\x1b[0m in \\x1b[0;36mget_citation_data\\x1b[1;34m(self, querier)\\x1b[0m\\n\\x1b[0;32m    141\\x1b[0m                                     \\x1b[0merr_msg\\x1b[0m\\x1b[1;33m=\\x1b[0m\\x1b[1;34m\\'requesting citation data failed\\'\\x1b[0m\\x1b[1;33m,\\x1b[0m\\x1b[1;33m\\x1b[0m\\x1b[0m\\n\\x1b[0;32m    142\\x1b[0m                                     condition=(By.TAG_NAME, \\'pre\\'))\\n\\x1b[1;32m--> 143\\x1b[1;33m         \\x1b[0msoup\\x1b[0m \\x1b[1;33m=\\x1b[0m \\x1b[0mBeautifulSoup\\x1b[0m\\x1b[1;33m(\\x1b[0m\\x1b[0mdata\\x1b[0m\\x1b[1;33m,\\x1b[0m \\x1b[1;34m\"html.parser\"\\x1b[0m\\x1b[1;33m)\\x1b[0m\\x1b[1;33m\\x1b[0m\\x1b[0m\\n\\x1b[0m\\x1b[0;32m    144\\x1b[0m         \\x1b[0mdata\\x1b[0m \\x1b[1;33m=\\x1b[0m \\x1b[0msoup\\x1b[0m\\x1b[1;33m.\\x1b[0m\\x1b[0mtext\\x1b[0m\\x1b[1;33m\\x1b[0m\\x1b[0m\\n\\x1b[0;32m    145\\x1b[0m         \\x1b[1;32mif\\x1b[0m \\x1b[0mdata\\x1b[0m \\x1b[1;32mis\\x1b[0m \\x1b[1;32mNone\\x1b[0m\\x1b[1;33m:\\x1b[0m\\x1b[1;33m\\x1b[0m\\x1b[0m\\n', \"\\x1b[1;32mC:\\\\ProgramData\\\\Anaconda3\\\\lib\\\\site-packages\\\\bs4\\\\__init__.py\\x1b[0m in \\x1b[0;36m__init__\\x1b[1;34m(self, markup, features, builder, parse_only, from_encoding, exclude_encodings, **kwargs)\\x1b[0m\\n\\x1b[0;32m    190\\x1b[0m         \\x1b[1;32mif\\x1b[0m \\x1b[0mhasattr\\x1b[0m\\x1b[1;33m(\\x1b[0m\\x1b[0mmarkup\\x1b[0m\\x1b[1;33m,\\x1b[0m \\x1b[1;34m'read'\\x1b[0m\\x1b[1;33m)\\x1b[0m\\x1b[1;33m:\\x1b[0m        \\x1b[1;31m# It's a file-type object.\\x1b[0m\\x1b[1;33m\\x1b[0m\\x1b[0m\\n\\x1b[0;32m    191\\x1b[0m             \\x1b[0mmarkup\\x1b[0m \\x1b[1;33m=\\x1b[0m \\x1b[0mmarkup\\x1b[0m\\x1b[1;33m.\\x1b[0m\\x1b[0mread\\x1b[0m\\x1b[1;33m(\\x1b[0m\\x1b[1;33m)\\x1b[0m\\x1b[1;33m\\x1b[0m\\x1b[0m\\n\\x1b[1;32m--> 192\\x1b[1;33m         elif len(markup) <= 256 and (\\n\\x1b[0m\\x1b[0;32m    193\\x1b[0m                 \\x1b[1;33m(\\x1b[0m\\x1b[0misinstance\\x1b[0m\\x1b[1;33m(\\x1b[0m\\x1b[0mmarkup\\x1b[0m\\x1b[1;33m,\\x1b[0m \\x1b[0mbytes\\x1b[0m\\x1b[1;33m)\\x1b[0m \\x1b[1;32mand\\x1b[0m \\x1b[1;32mnot\\x1b[0m \\x1b[1;34mb'<'\\x1b[0m \\x1b[1;32min\\x1b[0m \\x1b[0mmarkup\\x1b[0m\\x1b[1;33m)\\x1b[0m\\x1b[1;33m\\x1b[0m\\x1b[0m\\n\\x1b[0;32m    194\\x1b[0m                 \\x1b[1;32mor\\x1b[0m \\x1b[1;33m(\\x1b[0m\\x1b[0misinstance\\x1b[0m\\x1b[1;33m(\\x1b[0m\\x1b[0mmarkup\\x1b[0m\\x1b[1;33m,\\x1b[0m \\x1b[0mstr\\x1b[0m\\x1b[1;33m)\\x1b[0m \\x1b[1;32mand\\x1b[0m \\x1b[1;32mnot\\x1b[0m \\x1b[1;34m'<'\\x1b[0m \\x1b[1;32min\\x1b[0m \\x1b[0mmarkup\\x1b[0m\\x1b[1;33m)\\x1b[0m\\x1b[1;33m\\x1b[0m\\x1b[0m\\n\", \"\\x1b[1;31mTypeError\\x1b[0m: object of type 'NoneType' has no len()\"]}))))), _titles={'0': 'Page', '1': 'Article'})"
      ]
     },
     "metadata": {},
     "output_type": "display_data"
    },
    {
     "data": {
      "application/javascript": [
       "$('span:contains(\"# Temp\")').closest('.cell').remove();"
      ],
      "text/plain": [
       "<IPython.core.display.Javascript object>"
      ]
     },
     "metadata": {},
     "output_type": "display_data"
    },
    {
     "data": {
      "application/javascript": [
       "$('span:contains(\"# Temp\")').closest('.cell').remove();"
      ],
      "text/plain": [
       "<IPython.core.display.Javascript object>"
      ]
     },
     "metadata": {},
     "output_type": "display_data"
    },
    {
     "data": {
      "application/javascript": [
       "$('span:contains(\"# Temp\")').closest('.cell').remove();"
      ],
      "text/plain": [
       "<IPython.core.display.Javascript object>"
      ]
     },
     "metadata": {},
     "output_type": "display_data"
    },
    {
     "data": {
      "application/javascript": [
       "$('span:contains(\"# Temp\")').closest('.cell').remove();"
      ],
      "text/plain": [
       "<IPython.core.display.Javascript object>"
      ]
     },
     "metadata": {},
     "output_type": "display_data"
    },
    {
     "data": {
      "application/javascript": [
       "$('span:contains(\"# Temp\")').closest('.cell').remove();"
      ],
      "text/plain": [
       "<IPython.core.display.Javascript object>"
      ]
     },
     "metadata": {},
     "output_type": "display_data"
    },
    {
     "data": {
      "application/javascript": [
       "$('span:contains(\"# Temp\")').closest('.cell').remove();"
      ],
      "text/plain": [
       "<IPython.core.display.Javascript object>"
      ]
     },
     "metadata": {},
     "output_type": "display_data"
    },
    {
     "data": {
      "application/javascript": [
       "$('span:contains(\"# Temp\")').closest('.cell').remove();"
      ],
      "text/plain": [
       "<IPython.core.display.Javascript object>"
      ]
     },
     "metadata": {},
     "output_type": "display_data"
    },
    {
     "data": {
      "application/javascript": [
       "\n",
       "        $('span:contains(\"# Temp\")').closest('.cell').remove();\n",
       "        var code = IPython.notebook.insert_cell_below('code');\n",
       "        code.set_text(atob(\"IyBUZW1wCmluc2VydCgnJycKcGluaGVpcm8wYSA9IERCKFdvcmtVbnJlbGF0ZWQoCiAgICAwLCAiQWN0aXZlIEdhbWlmaWNhdGlvbjogQSBnYW1pZmljYXRpb24gcHJvY2VzcyBmb3Igc3VjY2Vzc2Z1bCBnYW1pZmljYXRpb24uIiwKICAgIGRpc3BsYXk9InBpbmhlaXJvIiwKICAgIGF1dGhvcnM9IlBpbmhlaXJvLCBCcnVubyBDb250ZXNzb3R0byBCcmFnYW57531hIiwKICAgIHBsYWNlPUZBS0UsCiAgICBlbnRyeXR5cGU9ImFydGljbGUiLAogICAgSUQ9InBpbmhlaXJvYWN0aXZlIiwKICAgIHBsYWNleD0iIiwKKSkKCkRCKENpdGF0aW9uKAogICAgcGluaGVpcm8wYSwgYmFzaWxpMjAxMGEsIHJlZj0iIiwKICAgIGNvbnRleHRzPVsKCiAgICBdLAopKQoKJycnLCBjaXRhdGlvbnM9J2Jhc2lsaTIwMTBhJyk7\"));\n",
       "    "
      ],
      "text/plain": [
       "<IPython.core.display.Javascript object>"
      ]
     },
     "metadata": {},
     "output_type": "display_data"
    },
    {
     "data": {
      "application/javascript": [
       "$('span:contains(\"# Temp\")').closest('.cell').remove();"
      ],
      "text/plain": [
       "<IPython.core.display.Javascript object>"
      ]
     },
     "metadata": {},
     "output_type": "display_data"
    },
    {
     "data": {
      "application/javascript": [
       "\n",
       "        $('span:contains(\"# Temp\")').closest('.cell').remove();\n",
       "        var code = IPython.notebook.insert_cell_below('code');\n",
       "        code.set_text(atob(\"IyBUZW1wCmluc2VydCgnJycKbWFuZGkwYSA9IERCKFdvcmtVbnJlbGF0ZWQoCiAgICAwLCAiRW1waXJpY2FsIEV2YWx1YXRpb24gb2YgdGhlIEdRTStTdHJhdGVnaWVzIEFwcHJvYWNoIiwKICAgIGRpc3BsYXk9Im1hbmRpIiwKICAgIGF1dGhvcnM9Ik1hbmRpe2M/fSwgVmxhZGltaXIgYW5kIE9pdm8sIE1hcmtrdSIsCiAgICBwbGFjZT1GQUtFLAogICAgZW50cnl0eXBlPSJhcnRpY2xlIiwKICAgIElEPSJtYW5kaWNlbXBpcmljYWwiLAogICAgcGxhY2V4PSIiLAopKQoKREIoQ2l0YXRpb24oCiAgICBtYW5kaTBhLCBiYXNpbGkyMDEwYSwgcmVmPSIiLAogICAgY29udGV4dHM9WwoKICAgIF0sCikpCgonJycsIGNpdGF0aW9ucz0nYmFzaWxpMjAxMGEnKTs=\"));\n",
       "    "
      ],
      "text/plain": [
       "<IPython.core.display.Javascript object>"
      ]
     },
     "metadata": {},
     "output_type": "display_data"
    },
    {
     "data": {
      "application/javascript": [
       "$('span:contains(\"# Temp\")').closest('.cell').remove();"
      ],
      "text/plain": [
       "<IPython.core.display.Javascript object>"
      ]
     },
     "metadata": {},
     "output_type": "display_data"
    },
    {
     "data": {
      "application/javascript": [
       "\n",
       "        $('span:contains(\"# Temp\")').closest('.cell').remove();\n",
       "        var code = IPython.notebook.insert_cell_below('code');\n",
       "        code.set_text(atob(\"IyBUZW1wCmluc2VydCgnJycKbWFuZGkwYSA9IERCKFdvcmtVbnJlbGF0ZWQoCiAgICAwLCAiRW1waXJpY2FsIEV2YWx1YXRpb24gb2YgdGhlIEdRTStTdHJhdGVnaWVzIEFwcHJvYWNoIiwKICAgIGRpc3BsYXk9Im1hbmRpIiwKICAgIGF1dGhvcnM9Ik1hbmRpe2M/fSwgVmxhZGltaXIgYW5kIE9pdm8sIE1hcmtrdSIsCiAgICBwbGFjZT1GQUtFLAogICAgZW50cnl0eXBlPSJhcnRpY2xlIiwKICAgIElEPSJtYW5kaWNlbXBpcmljYWwiLAogICAgcGxhY2V4PSIiLAopKQoKREIoQ2l0YXRpb24oCiAgICBtYW5kaTBhLCBiYXNpbGkyMDEwYSwgcmVmPSIiLAogICAgY29udGV4dHM9WwoKICAgIF0sCikpCgonJycsIGNpdGF0aW9ucz0nYmFzaWxpMjAxMGEnKTs=\"));\n",
       "    "
      ],
      "text/plain": [
       "<IPython.core.display.Javascript object>"
      ]
     },
     "metadata": {},
     "output_type": "display_data"
    },
    {
     "data": {
      "application/javascript": [
       "$('span:contains(\"# Temp\")').closest('.cell').remove();"
      ],
      "text/plain": [
       "<IPython.core.display.Javascript object>"
      ]
     },
     "metadata": {},
     "output_type": "display_data"
    },
    {
     "data": {
      "application/javascript": [
       "\n",
       "        $('span:contains(\"# Temp\")').closest('.cell').remove();\n",
       "        var code = IPython.notebook.insert_cell_below('code');\n",
       "        code.set_text(atob(\"IyBUZW1wCmluc2VydCgnJycKdHJlbmRvd2ljejBhID0gREIoV29ya1VucmVsYXRlZCgKICAgIDAsICI/Pz8/Pz8/Pz8/Pz8iLAogICAgZGlzcGxheT0idHJlbmRvd2ljeiIsCiAgICBhdXRob3JzPSJUcmVuZG93aWN6LCBBZGFtIiwKICAgIHBsYWNlPUZBS0UsCiAgICBlbnRyeXR5cGU9ImFydGljbGUiLAogICAgSUQ9InRyZW5kb3dpY3o/Pz8/Pz8/Pz8/Pz8iLAogICAgcGxhY2V4PSIiLAopKQoKREIoQ2l0YXRpb24oCiAgICB0cmVuZG93aWN6MGEsIGJhc2lsaTIwMTBhLCByZWY9IiIsCiAgICBjb250ZXh0cz1bCgogICAgXSwKKSkKCicnJywgY2l0YXRpb25zPSdiYXNpbGkyMDEwYScpOw==\"));\n",
       "    "
      ],
      "text/plain": [
       "<IPython.core.display.Javascript object>"
      ]
     },
     "metadata": {},
     "output_type": "display_data"
    },
    {
     "data": {
      "application/javascript": [
       "$('span:contains(\"# Temp\")').closest('.cell').remove();"
      ],
      "text/plain": [
       "<IPython.core.display.Javascript object>"
      ]
     },
     "metadata": {},
     "output_type": "display_data"
    },
    {
     "data": {
      "application/javascript": [
       "\n",
       "        $('span:contains(\"# Temp\")').closest('.cell').remove();\n",
       "        var code = IPython.notebook.insert_cell_below('code');\n",
       "        code.set_text(atob(\"IyBUZW1wCmluc2VydCgnJycKdHJlbmRvd2ljejBhID0gREIoV29ya1VucmVsYXRlZCgKICAgIDAsICI/Pz8/Pz8/Pz8/Pz8iLAogICAgZGlzcGxheT0idHJlbmRvd2ljeiIsCiAgICBhdXRob3JzPSJUcmVuZG93aWN6LCBBZGFtIiwKICAgIHBsYWNlPUZBS0UsCiAgICBlbnRyeXR5cGU9ImFydGljbGUiLAogICAgSUQ9InRyZW5kb3dpY3o/Pz8/Pz8/Pz8/Pz8iLAogICAgcGxhY2V4PSIiLAopKQoKREIoQ2l0YXRpb24oCiAgICB0cmVuZG93aWN6MGEsIGJhc2lsaTIwMTBhLCByZWY9IiIsCiAgICBjb250ZXh0cz1bCgogICAgXSwKKSkKCicnJywgY2l0YXRpb25zPSdiYXNpbGkyMDEwYScpOw==\"));\n",
       "    "
      ],
      "text/plain": [
       "<IPython.core.display.Javascript object>"
      ]
     },
     "metadata": {},
     "output_type": "display_data"
    },
    {
     "data": {
      "application/javascript": [
       "$('span:contains(\"# Temp\")').closest('.cell').remove();"
      ],
      "text/plain": [
       "<IPython.core.display.Javascript object>"
      ]
     },
     "metadata": {},
     "output_type": "display_data"
    },
    {
     "data": {
      "application/javascript": [
       "\n",
       "        $('span:contains(\"# Temp\")').closest('.cell').remove();\n",
       "        var code = IPython.notebook.insert_cell_below('code');\n",
       "        code.set_text(atob(\"IyBUZW1wCmluc2VydCgnJycKPz8/Pz8yMDE0YSA9IERCKFdvcmtVbnJlbGF0ZWQoCiAgICAyMDE0LCAiPz8/Pz8/Pz8/Pz8/PyIsCiAgICBkaXNwbGF5PSI/Pz8/PyIsCiAgICBhdXRob3JzPSI/Pz8/PyIsCiAgICBwbGFjZT1GQUtFLAogICAgcHA9IjQ3LS01MiIsCiAgICBlbnRyeXR5cGU9ImFydGljbGUiLAogICAgdm9sdW1lPSIxMTQiLAogICAgbnVtYmVyPSIyOTIiLAogICAgcHVibGlzaGVyPSI/Pz8/Pz8/Pz8/Pz8/PyIsCiAgICBJRD0iPz8/Pz8yMDE0Pz8/Pz8/Pz8/Pz8/PyIsCiAgICBwbGFjZXg9Ij8/Pz8/Pz8/Pz8/Pz8/LiBLQlNFLCA/Pz8/Pz8/Pz8/IiwKKSkKCkRCKENpdGF0aW9uKAogICAgPz8/Pz8yMDE0YSwgYmFzaWxpMjAxMGEsIHJlZj0iIiwKICAgIGNvbnRleHRzPVsKCiAgICBdLAopKQoKJycnLCBjaXRhdGlvbnM9J2Jhc2lsaTIwMTBhJyk7\"));\n",
       "    "
      ],
      "text/plain": [
       "<IPython.core.display.Javascript object>"
      ]
     },
     "metadata": {},
     "output_type": "display_data"
    },
    {
     "data": {
      "application/javascript": [
       "$('span:contains(\"# Temp\")').closest('.cell').remove();"
      ],
      "text/plain": [
       "<IPython.core.display.Javascript object>"
      ]
     },
     "metadata": {},
     "output_type": "display_data"
    },
    {
     "data": {
      "application/javascript": [
       "\n",
       "        $('span:contains(\"# Temp\")').closest('.cell').remove();\n",
       "        var code = IPython.notebook.insert_cell_below('code');\n",
       "        code.set_text(atob(\"IyBUZW1wCmluc2VydCgnJycKPz8/Pz8yMDE0YSA9IERCKFdvcmtVbnJlbGF0ZWQoCiAgICAyMDE0LCAiPz8/Pz8/Pz8/Pz8/PyIsCiAgICBkaXNwbGF5PSI/Pz8/PyIsCiAgICBhdXRob3JzPSI/Pz8/PyIsCiAgICBwbGFjZT1GQUtFLAogICAgcHA9IjQ3LS01MiIsCiAgICBlbnRyeXR5cGU9ImFydGljbGUiLAogICAgdm9sdW1lPSIxMTQiLAogICAgbnVtYmVyPSIyOTIiLAogICAgcHVibGlzaGVyPSI/Pz8/Pz8/Pz8/Pz8/PyIsCiAgICBJRD0iPz8/Pz8yMDE0Pz8/Pz8/Pz8/Pz8/PyIsCiAgICBwbGFjZXg9Ij8/Pz8/Pz8/Pz8/Pz8/LiBLQlNFLCA/Pz8/Pz8/Pz8/IiwKKSkKCkRCKENpdGF0aW9uKAogICAgPz8/Pz8yMDE0YSwgYmFzaWxpMjAxMGEsIHJlZj0iIiwKICAgIGNvbnRleHRzPVsKCiAgICBdLAopKQoKJycnLCBjaXRhdGlvbnM9J2Jhc2lsaTIwMTBhJyk7\"));\n",
       "    "
      ],
      "text/plain": [
       "<IPython.core.display.Javascript object>"
      ]
     },
     "metadata": {},
     "output_type": "display_data"
    },
    {
     "data": {
      "application/javascript": [
       "$('span:contains(\"# Temp\")').closest('.cell').remove();"
      ],
      "text/plain": [
       "<IPython.core.display.Javascript object>"
      ]
     },
     "metadata": {},
     "output_type": "display_data"
    },
    {
     "data": {
      "application/javascript": [
       "\n",
       "        $('span:contains(\"# Temp\")').closest('.cell').remove();\n",
       "        var code = IPython.notebook.insert_cell_below('code');\n",
       "        code.set_text(atob(\"IyBUZW1wCmluc2VydCgnJycKPz8/Pz8/MjAxN2EgPSBEQihXb3JrVW5yZWxhdGVkKAogICAgMjAxNywgIj8/Pz8/Pz8gPz8/Pz8/Pz8/Pz8/Pz8/ID8/Pz8/Pz8/Pz8/ID8gPz8/Pz8/Pz8gPz8/Pz8/Pz8/Pz8/ID8/Pz8/Pz8/OiA/Pz8/LT8/Pz8tPz8/Pz8/PysgPz8/Pz8/Pz8/IiwKICAgIGRpc3BsYXk9Ij8/Pz8/PyIsCiAgICBhdXRob3JzPSI/Pz8/Pz8sID8/Pz8/ID8/Pz8/Pz8iLAogICAgcGxhY2U9RkFLRSwKICAgIHBwPSIxMi0tMTkiLAogICAgZW50cnl0eXBlPSJhcnRpY2xlIiwKICAgIG51bWJlcj0iOSIsCiAgICBwdWJsaXNoZXI9Ij8/Pz8/Pz8/ID8/Pz8/Pz8/Pz8/ID8/Pz8/Pz8/ID8/Pz8/Pz8/Pz8/Pz8gPz8/Pz8/LT8/Pz8/Pz8/Pz8/Pz8/Pz8/ID8/Pz8/Pz8/ID8/Pz8/Pz8/Pz8/LCA/Pz8/Pz8/Pz8/ID8gPz8/Pz8/Pz8/ID8/Pz8/Pz8/Pz8/PyA/Pz8/Pz8/Pz8/Pz8/PyIsCiAgICBJRD0iPz8/Pz8/MjAxNz8/Pz8/Pz8iLAogICAgcGxhY2V4PSI/Pz8/Pz8/PyA/Pz8/Pz8/Pz8gPyA/Pz8/Pz8/Pz8/ID8/Pz8/Pz8/Pz8/PyA/Pz8/Pz8/Pz8/IiwKKSkKCkRCKENpdGF0aW9uKAogICAgPz8/Pz8/MjAxN2EsIGJhc2lsaTIwMTBhLCByZWY9IiIsCiAgICBjb250ZXh0cz1bCgogICAgXSwKKSkKCicnJywgY2l0YXRpb25zPSdiYXNpbGkyMDEwYScpOw==\"));\n",
       "    "
      ],
      "text/plain": [
       "<IPython.core.display.Javascript object>"
      ]
     },
     "metadata": {},
     "output_type": "display_data"
    },
    {
     "data": {
      "application/javascript": [
       "$('span:contains(\"# Temp\")').closest('.cell').remove();"
      ],
      "text/plain": [
       "<IPython.core.display.Javascript object>"
      ]
     },
     "metadata": {},
     "output_type": "display_data"
    },
    {
     "data": {
      "application/javascript": [
       "\n",
       "        $('span:contains(\"# Temp\")').closest('.cell').remove();\n",
       "        var code = IPython.notebook.insert_cell_below('code');\n",
       "        code.set_text(atob(\"IyBUZW1wCmluc2VydCgnJycKPz8/Pz8/MjAxN2EgPSBEQihXb3JrVW5yZWxhdGVkKAogICAgMjAxNywgIj8/Pz8/Pz8gPz8/Pz8/Pz8/Pz8/Pz8/ID8/Pz8/Pz8/Pz8/ID8gPz8/Pz8/Pz8gPz8/Pz8/Pz8/Pz8/ID8/Pz8/Pz8/OiA/Pz8/LT8/Pz8tPz8/Pz8/PysgPz8/Pz8/Pz8/IiwKICAgIGRpc3BsYXk9Ij8/Pz8/PyIsCiAgICBhdXRob3JzPSI/Pz8/Pz8sID8/Pz8/ID8/Pz8/Pz8iLAogICAgcGxhY2U9RkFLRSwKICAgIHBwPSIxMi0tMTkiLAogICAgZW50cnl0eXBlPSJhcnRpY2xlIiwKICAgIG51bWJlcj0iOSIsCiAgICBwdWJsaXNoZXI9Ij8/Pz8/Pz8/ID8/Pz8/Pz8/Pz8/ID8/Pz8/Pz8/ID8/Pz8/Pz8/Pz8/Pz8gPz8/Pz8/LT8/Pz8/Pz8/Pz8/Pz8/Pz8/ID8/Pz8/Pz8/ID8/Pz8/Pz8/Pz8/LCA/Pz8/Pz8/Pz8/ID8gPz8/Pz8/Pz8/ID8/Pz8/Pz8/Pz8/PyA/Pz8/Pz8/Pz8/Pz8/PyIsCiAgICBJRD0iPz8/Pz8/MjAxNz8/Pz8/Pz8iLAogICAgcGxhY2V4PSI/Pz8/Pz8/PyA/Pz8/Pz8/Pz8gPyA/Pz8/Pz8/Pz8/ID8/Pz8/Pz8/Pz8/PyA/Pz8/Pz8/Pz8/IiwKKSkKCkRCKENpdGF0aW9uKAogICAgPz8/Pz8/MjAxN2EsIGJhc2lsaTIwMTBhLCByZWY9IiIsCiAgICBjb250ZXh0cz1bCgogICAgXSwKKSkKCicnJywgY2l0YXRpb25zPSdiYXNpbGkyMDEwYScpOw==\"));\n",
       "    "
      ],
      "text/plain": [
       "<IPython.core.display.Javascript object>"
      ]
     },
     "metadata": {},
     "output_type": "display_data"
    },
    {
     "data": {
      "application/javascript": [
       "$('span:contains(\"# Temp\")').closest('.cell').remove();"
      ],
      "text/plain": [
       "<IPython.core.display.Javascript object>"
      ]
     },
     "metadata": {},
     "output_type": "display_data"
    },
    {
     "data": {
      "application/javascript": [
       "\n",
       "        $('span:contains(\"# Temp\")').closest('.cell').remove();\n",
       "        var code = IPython.notebook.insert_cell_below('code');\n",
       "        code.set_text(atob(\"IyBUZW1wCmluc2VydCgnJycKPz8/Pz8yMDE0YSA9IERCKFdvcmtVbnJlbGF0ZWQoCiAgICAyMDE0LCAiPz8/Pz8/Pz8/Pz8/PyIsCiAgICBkaXNwbGF5PSI/Pz8/PyIsCiAgICBhdXRob3JzPSI/Pz8/PyIsCiAgICBwbGFjZT1GQUtFLAogICAgcHA9IjQ3LS01MiIsCiAgICBlbnRyeXR5cGU9ImFydGljbGUiLAogICAgdm9sdW1lPSIxMTQiLAogICAgbnVtYmVyPSIyOTIiLAogICAgcHVibGlzaGVyPSI/Pz8/Pz8/Pz8/Pz8/PyIsCiAgICBJRD0iPz8/Pz8yMDE0Pz8/Pz8/Pz8/Pz8/PyIsCiAgICBwbGFjZXg9Ij8/Pz8/Pz8/Pz8/Pz8/LiBLQlNFLCA/Pz8/Pz8/Pz8/IiwKKSkKCkRCKENpdGF0aW9uKAogICAgPz8/Pz8yMDE0YSwgYmFzaWxpMjAxMGEsIHJlZj0iIiwKICAgIGNvbnRleHRzPVsKCiAgICBdLAopKQoKJycnLCBjaXRhdGlvbnM9J2Jhc2lsaTIwMTBhJyk7\"));\n",
       "    "
      ],
      "text/plain": [
       "<IPython.core.display.Javascript object>"
      ]
     },
     "metadata": {},
     "output_type": "display_data"
    },
    {
     "data": {
      "application/javascript": [
       "$('span:contains(\"# Temp\")').closest('.cell').remove();"
      ],
      "text/plain": [
       "<IPython.core.display.Javascript object>"
      ]
     },
     "metadata": {},
     "output_type": "display_data"
    },
    {
     "data": {
      "application/javascript": [
       "\n",
       "        $('span:contains(\"# Temp\")').closest('.cell').remove();\n",
       "        var code = IPython.notebook.insert_cell_below('code');\n",
       "        code.set_text(atob(\"IyBUZW1wCmluc2VydCgnJycKPz8/Pz8yMDE0YSA9IERCKFdvcmtVbnJlbGF0ZWQoCiAgICAyMDE0LCAiPz8/Pz8/Pz8/Pz8/PyIsCiAgICBkaXNwbGF5PSI/Pz8/PyIsCiAgICBhdXRob3JzPSI/Pz8/PyIsCiAgICBwbGFjZT1GQUtFLAogICAgcHA9IjQ3LS01MiIsCiAgICBlbnRyeXR5cGU9ImFydGljbGUiLAogICAgdm9sdW1lPSIxMTQiLAogICAgbnVtYmVyPSIyOTIiLAogICAgcHVibGlzaGVyPSI/Pz8/Pz8/Pz8/Pz8/PyIsCiAgICBJRD0iPz8/Pz8yMDE0Pz8/Pz8/Pz8/Pz8/PyIsCiAgICBwbGFjZXg9Ij8/Pz8/Pz8/Pz8/Pz8/LiBLQlNFLCA/Pz8/Pz8/Pz8/IiwKKSkKCkRCKENpdGF0aW9uKAogICAgPz8/Pz8yMDE0YSwgYmFzaWxpMjAxMGEsIHJlZj0iIiwKICAgIGNvbnRleHRzPVsKCiAgICBdLAopKQoKJycnLCBjaXRhdGlvbnM9J2Jhc2lsaTIwMTBhJyk7\"));\n",
       "    "
      ],
      "text/plain": [
       "<IPython.core.display.Javascript object>"
      ]
     },
     "metadata": {},
     "output_type": "display_data"
    },
    {
     "data": {
      "application/javascript": [
       "$('span:contains(\"# Temp\")').closest('.cell').remove();"
      ],
      "text/plain": [
       "<IPython.core.display.Javascript object>"
      ]
     },
     "metadata": {},
     "output_type": "display_data"
    },
    {
     "data": {
      "application/javascript": [
       "\n",
       "        $('span:contains(\"# Temp\")').closest('.cell').remove();\n",
       "        var code = IPython.notebook.insert_cell_below('code');\n",
       "        code.set_text(atob(\"IyBUZW1wCmluc2VydCgnJycKdHJlbmRvd2ljejBhID0gREIoV29ya1VucmVsYXRlZCgKICAgIDAsICI/Pz8/Pz8/Pz8/Pz8iLAogICAgZGlzcGxheT0idHJlbmRvd2ljeiIsCiAgICBhdXRob3JzPSJUcmVuZG93aWN6LCBBZGFtIiwKICAgIHBsYWNlPUZBS0UsCiAgICBlbnRyeXR5cGU9ImFydGljbGUiLAogICAgSUQ9InRyZW5kb3dpY3o/Pz8/Pz8/Pz8/Pz8iLAogICAgcGxhY2V4PSIiLAopKQoKREIoQ2l0YXRpb24oCiAgICB0cmVuZG93aWN6MGEsIGJhc2lsaTIwMTBhLCByZWY9IiIsCiAgICBjb250ZXh0cz1bCgogICAgXSwKKSkKCicnJywgY2l0YXRpb25zPSdiYXNpbGkyMDEwYScpOw==\"));\n",
       "    "
      ],
      "text/plain": [
       "<IPython.core.display.Javascript object>"
      ]
     },
     "metadata": {},
     "output_type": "display_data"
    },
    {
     "data": {
      "application/javascript": [
       "$('span:contains(\"# Temp\")').closest('.cell').remove();"
      ],
      "text/plain": [
       "<IPython.core.display.Javascript object>"
      ]
     },
     "metadata": {},
     "output_type": "display_data"
    },
    {
     "data": {
      "application/javascript": [
       "\n",
       "        $('span:contains(\"# Temp\")').closest('.cell').remove();\n",
       "        var code = IPython.notebook.insert_cell_below('code');\n",
       "        code.set_text(atob(\"IyBUZW1wCmluc2VydCgnJycKdHJlbmRvd2ljejBhID0gREIoV29ya1VucmVsYXRlZCgKICAgIDAsICI/Pz8/Pz8/Pz8/Pz8iLAogICAgZGlzcGxheT0idHJlbmRvd2ljeiIsCiAgICBhdXRob3JzPSJUcmVuZG93aWN6LCBBZGFtIiwKICAgIHBsYWNlPUZBS0UsCiAgICBlbnRyeXR5cGU9ImFydGljbGUiLAogICAgSUQ9InRyZW5kb3dpY3o/Pz8/Pz8/Pz8/Pz8iLAogICAgcGxhY2V4PSIiLAopKQoKREIoQ2l0YXRpb24oCiAgICB0cmVuZG93aWN6MGEsIGJhc2lsaTIwMTBhLCByZWY9IiIsCiAgICBjb250ZXh0cz1bCgogICAgXSwKKSkKCicnJywgY2l0YXRpb25zPSdiYXNpbGkyMDEwYScpOw==\"));\n",
       "    "
      ],
      "text/plain": [
       "<IPython.core.display.Javascript object>"
      ]
     },
     "metadata": {},
     "output_type": "display_data"
    },
    {
     "data": {
      "application/javascript": [
       "$('span:contains(\"# Temp\")').closest('.cell').remove();"
      ],
      "text/plain": [
       "<IPython.core.display.Javascript object>"
      ]
     },
     "metadata": {},
     "output_type": "display_data"
    },
    {
     "data": {
      "application/javascript": [
       "\n",
       "        $('span:contains(\"# Temp\")').closest('.cell').remove();\n",
       "        var code = IPython.notebook.insert_cell_below('code');\n",
       "        code.set_text(atob(\"IyBUZW1wCmluc2VydCgnJycKbWFuZGkwYSA9IERCKFdvcmtVbnJlbGF0ZWQoCiAgICAwLCAiRW1waXJpY2FsIEV2YWx1YXRpb24gb2YgdGhlIEdRTStTdHJhdGVnaWVzIEFwcHJvYWNoIiwKICAgIGRpc3BsYXk9Im1hbmRpIiwKICAgIGF1dGhvcnM9Ik1hbmRpe2M/fSwgVmxhZGltaXIgYW5kIE9pdm8sIE1hcmtrdSIsCiAgICBwbGFjZT1GQUtFLAogICAgZW50cnl0eXBlPSJhcnRpY2xlIiwKICAgIElEPSJtYW5kaWNlbXBpcmljYWwiLAogICAgcGxhY2V4PSIiLAopKQoKREIoQ2l0YXRpb24oCiAgICBtYW5kaTBhLCBiYXNpbGkyMDEwYSwgcmVmPSIiLAogICAgY29udGV4dHM9WwoKICAgIF0sCikpCgonJycsIGNpdGF0aW9ucz0nYmFzaWxpMjAxMGEnKTs=\"));\n",
       "    "
      ],
      "text/plain": [
       "<IPython.core.display.Javascript object>"
      ]
     },
     "metadata": {},
     "output_type": "display_data"
    },
    {
     "data": {
      "application/javascript": [
       "$('span:contains(\"# Temp\")').closest('.cell').remove();"
      ],
      "text/plain": [
       "<IPython.core.display.Javascript object>"
      ]
     },
     "metadata": {},
     "output_type": "display_data"
    },
    {
     "data": {
      "application/javascript": [
       "\n",
       "        $('span:contains(\"# Temp\")').closest('.cell').remove();\n",
       "        var code = IPython.notebook.insert_cell_below('code');\n",
       "        code.set_text(atob(\"IyBUZW1wCmluc2VydCgnJycKbWFuZGkwYSA9IERCKFdvcmtVbnJlbGF0ZWQoCiAgICAwLCAiRW1waXJpY2FsIEV2YWx1YXRpb24gb2YgdGhlIEdRTStTdHJhdGVnaWVzIEFwcHJvYWNoIiwKICAgIGRpc3BsYXk9Im1hbmRpIiwKICAgIGF1dGhvcnM9Ik1hbmRpe2M/fSwgVmxhZGltaXIgYW5kIE9pdm8sIE1hcmtrdSIsCiAgICBwbGFjZT1GQUtFLAogICAgZW50cnl0eXBlPSJhcnRpY2xlIiwKICAgIElEPSJtYW5kaWNlbXBpcmljYWwiLAogICAgcGxhY2V4PSIiLAopKQoKREIoQ2l0YXRpb24oCiAgICBtYW5kaTBhLCBiYXNpbGkyMDEwYSwgcmVmPSIiLAogICAgY29udGV4dHM9WwoKICAgIF0sCikpCgonJycsIGNpdGF0aW9ucz0nYmFzaWxpMjAxMGEnKTs=\"));\n",
       "    "
      ],
      "text/plain": [
       "<IPython.core.display.Javascript object>"
      ]
     },
     "metadata": {},
     "output_type": "display_data"
    },
    {
     "data": {
      "application/javascript": [
       "$('span:contains(\"# Temp\")').closest('.cell').remove();"
      ],
      "text/plain": [
       "<IPython.core.display.Javascript object>"
      ]
     },
     "metadata": {},
     "output_type": "display_data"
    },
    {
     "data": {
      "application/javascript": [
       "\n",
       "        $('span:contains(\"# Temp\")').closest('.cell').remove();\n",
       "        var code = IPython.notebook.insert_cell_below('code');\n",
       "        code.set_text(atob(\"IyBUZW1wCmluc2VydCgnJycKcGluaGVpcm8wYSA9IERCKFdvcmtVbnJlbGF0ZWQoCiAgICAwLCAiQWN0aXZlIEdhbWlmaWNhdGlvbjogQSBnYW1pZmljYXRpb24gcHJvY2VzcyBmb3Igc3VjY2Vzc2Z1bCBnYW1pZmljYXRpb24uIiwKICAgIGRpc3BsYXk9InBpbmhlaXJvIiwKICAgIGF1dGhvcnM9IlBpbmhlaXJvLCBCcnVubyBDb250ZXNzb3R0byBCcmFnYW57531hIiwKICAgIHBsYWNlPUZBS0UsCiAgICBlbnRyeXR5cGU9ImFydGljbGUiLAogICAgSUQ9InBpbmhlaXJvYWN0aXZlIiwKICAgIHBsYWNleD0iIiwKKSkKCkRCKENpdGF0aW9uKAogICAgcGluaGVpcm8wYSwgYmFzaWxpMjAxMGEsIHJlZj0iIiwKICAgIGNvbnRleHRzPVsKCiAgICBdLAopKQoKJycnLCBjaXRhdGlvbnM9J2Jhc2lsaTIwMTBhJyk7\"));\n",
       "    "
      ],
      "text/plain": [
       "<IPython.core.display.Javascript object>"
      ]
     },
     "metadata": {},
     "output_type": "display_data"
    },
    {
     "data": {
      "application/javascript": [
       "$('span:contains(\"# Temp\")').closest('.cell').remove();"
      ],
      "text/plain": [
       "<IPython.core.display.Javascript object>"
      ]
     },
     "metadata": {},
     "output_type": "display_data"
    },
    {
     "data": {
      "application/javascript": [
       "\n",
       "        $('span:contains(\"# Temp\")').closest('.cell').remove();\n",
       "        var code = IPython.notebook.insert_cell_below('code');\n",
       "        code.set_text(atob(\"IyBUZW1wCmluc2VydCgnJycKcGluaGVpcm8wYSA9IERCKFdvcmtVbnJlbGF0ZWQoCiAgICAwLCAiQWN0aXZlIEdhbWlmaWNhdGlvbjogQSBnYW1pZmljYXRpb24gcHJvY2VzcyBmb3Igc3VjY2Vzc2Z1bCBnYW1pZmljYXRpb24uIiwKICAgIGRpc3BsYXk9InBpbmhlaXJvIiwKICAgIGF1dGhvcnM9IlBpbmhlaXJvLCBCcnVubyBDb250ZXNzb3R0byBCcmFnYW57531hIiwKICAgIHBsYWNlPUZBS0UsCiAgICBlbnRyeXR5cGU9ImFydGljbGUiLAogICAgSUQ9InBpbmhlaXJvYWN0aXZlIiwKICAgIHBsYWNleD0iIiwKKSkKCkRCKENpdGF0aW9uKAogICAgcGluaGVpcm8wYSwgYmFzaWxpMjAxMGEsIHJlZj0iIiwKICAgIGNvbnRleHRzPVsKCiAgICBdLAopKQoKJycnLCBjaXRhdGlvbnM9J2Jhc2lsaTIwMTBhJyk7\"));\n",
       "    "
      ],
      "text/plain": [
       "<IPython.core.display.Javascript object>"
      ]
     },
     "metadata": {},
     "output_type": "display_data"
    },
    {
     "data": {
      "application/javascript": [
       "$('span:contains(\"# Temp\")').closest('.cell').remove();"
      ],
      "text/plain": [
       "<IPython.core.display.Javascript object>"
      ]
     },
     "metadata": {},
     "output_type": "display_data"
    },
    {
     "data": {
      "application/javascript": [
       "\n",
       "        $('span:contains(\"# Temp\")').closest('.cell').remove();\n",
       "        var code = IPython.notebook.insert_cell_below('code');\n",
       "        code.set_text(atob(\"IyBUZW1wCmluc2VydCgnJycKcGFwYTBhID0gREIoV29ya1VucmVsYXRlZCgKICAgIDAsICJQYXRy824gZGUgRXN0cmF0ZWdpYSBkZSBFdmFsdWFjafNuIHkgTWVqb3JhIGRlIHVuYSBWaXN0YSBkZSBDYWxpZGFkIGFwbGljYWRvIGEgdW4gUmVjdXJzbyBPcmdhbml6YWNpb25hbCIsCiAgICBkaXNwbGF5PSJwYXBhIiwKICAgIGF1dGhvcnM9IlBhcGEsIE1hcu1hIEZlcm5hbmRhIGFuZCBSaXZlcmEsIEJlbOluIGFuZCBCZWNrZXIsIFBhYmxvIGFuZCBPbHNpbmEsIEx1aXMiLAogICAgcGxhY2U9RkFLRSwKICAgIGVudHJ5dHlwZT0iYXJ0aWNsZSIsCiAgICBJRD0icGFwYXBhdHJvbiIsCiAgICBwbGFjZXg9IiIsCikpCgpEQihDaXRhdGlvbigKICAgIHBhcGEwYSwgYmFzaWxpMjAxMGEsIHJlZj0iIiwKICAgIGNvbnRleHRzPVsKCiAgICBdLAopKQoKJycnLCBjaXRhdGlvbnM9J2Jhc2lsaTIwMTBhJyk7\"));\n",
       "    "
      ],
      "text/plain": [
       "<IPython.core.display.Javascript object>"
      ]
     },
     "metadata": {},
     "output_type": "display_data"
    },
    {
     "data": {
      "application/javascript": [
       "$('span:contains(\"# Temp\")').closest('.cell').remove();"
      ],
      "text/plain": [
       "<IPython.core.display.Javascript object>"
      ]
     },
     "metadata": {},
     "output_type": "display_data"
    },
    {
     "data": {
      "application/javascript": [
       "\n",
       "        $('span:contains(\"# Temp\")').closest('.cell').remove();\n",
       "        var code = IPython.notebook.insert_cell_below('code');\n",
       "        code.set_text(atob(\"IyBUZW1wCmluc2VydCgnJycKPz8/Pz8/MjAxN2EgPSBEQihXb3JrVW5yZWxhdGVkKAogICAgMjAxNywgIj8/Pz8/Pz8/Pz8/ID8/Pz8/Pz8/PyA/ID8/Pz8/Pz8gPz8/Pz8/Pz8/Pz8/ID8/ID8/Pz8/PyA/Pz8/Pz8/Pz8/ID8/Pz8/Pz8/Pz8/PyA/Pz8/Pz8/Pz8gPyA/Pz8/Pz8/Pz8/Pz8gPz8/Pz8/Pz8iLAogICAgZGlzcGxheT0iPz8/Pz8/IiwKICAgIGF1dGhvcnM9Ij8/Pz8/PywgPz8/Pz8gPz8/Pz8/PyIsCiAgICBwbGFjZT1GQUtFLAogICAgZW50cnl0eXBlPSJhcnRpY2xlIiwKICAgIHZvbHVtZT0iOCIsCiAgICBudW1iZXI9IjIgKDMwKSIsCiAgICBwdWJsaXNoZXI9Ij8/Pz8/Pz8/ID8gPz8/Pz8/Pz8/Pz8/ID8/Pz8/Pz8/Pz8/Pz8/Pz8gPz8/Pz8/Pz8/Pz8/ID8/PyB7XGd1aWxsZW1vdGxlZnR9Pz8/Pz97XGd1aWxsZW1vdHJpZ2h0fSIsCiAgICBJRD0iPz8/Pz8/MjAxNz8/Pz8/Pz8/Pz8/IiwKICAgIHBsYWNleD0iPz8/ICg/Pz8/Pz8/Pz8/Pz8uID8/Pz8/Pz8/Py4gPz8/Pz8/Pz8pIiwKKSkKCkRCKENpdGF0aW9uKAogICAgPz8/Pz8/MjAxN2EsIGJhc2lsaTIwMTBhLCByZWY9IiIsCiAgICBjb250ZXh0cz1bCgogICAgXSwKKSkKCicnJywgY2l0YXRpb25zPSdiYXNpbGkyMDEwYScpOw==\"));\n",
       "    "
      ],
      "text/plain": [
       "<IPython.core.display.Javascript object>"
      ]
     },
     "metadata": {},
     "output_type": "display_data"
    },
    {
     "data": {
      "application/javascript": [
       "$('span:contains(\"# Temp\")').closest('.cell').remove();"
      ],
      "text/plain": [
       "<IPython.core.display.Javascript object>"
      ]
     },
     "metadata": {},
     "output_type": "display_data"
    },
    {
     "data": {
      "application/javascript": [
       "\n",
       "        $('span:contains(\"# Temp\")').closest('.cell').remove();\n",
       "        var code = IPython.notebook.insert_cell_below('code');\n",
       "        code.set_text(atob(\"IyBUZW1wCmluc2VydCgnJycKPz8/Pz8/MjAxN2EgPSBEQihXb3JrVW5yZWxhdGVkKAogICAgMjAxNywgIj8/Pz8/Pz8/Pz8/ID8/Pz8/Pz8/PyA/ID8/Pz8/Pz8gPz8/Pz8/Pz8/Pz8/ID8/ID8/Pz8/PyA/Pz8/Pz8/Pz8/ID8/Pz8/Pz8/Pz8/PyA/Pz8/Pz8/Pz8gPyA/Pz8/Pz8/Pz8/Pz8gPz8/Pz8/Pz8iLAogICAgZGlzcGxheT0iPz8/Pz8/IiwKICAgIGF1dGhvcnM9Ij8/Pz8/PywgPz8/Pz8gPz8/Pz8/PyIsCiAgICBwbGFjZT1GQUtFLAogICAgZW50cnl0eXBlPSJhcnRpY2xlIiwKICAgIHZvbHVtZT0iOCIsCiAgICBudW1iZXI9IjIgKDMwKSIsCiAgICBwdWJsaXNoZXI9Ij8/Pz8/Pz8/ID8gPz8/Pz8/Pz8/Pz8/ID8/Pz8/Pz8/Pz8/Pz8/Pz8gPz8/Pz8/Pz8/Pz8/ID8/PyB7XGd1aWxsZW1vdGxlZnR9Pz8/Pz97XGd1aWxsZW1vdHJpZ2h0fSIsCiAgICBJRD0iPz8/Pz8/MjAxNz8/Pz8/Pz8/Pz8/IiwKICAgIHBsYWNleD0iPz8/ICg/Pz8/Pz8/Pz8/Pz8uID8/Pz8/Pz8/Py4gPz8/Pz8/Pz8pIiwKKSkKCkRCKENpdGF0aW9uKAogICAgPz8/Pz8/MjAxN2EsIGJhc2lsaTIwMTBhLCByZWY9IiIsCiAgICBjb250ZXh0cz1bCgogICAgXSwKKSkKCicnJywgY2l0YXRpb25zPSdiYXNpbGkyMDEwYScpOw==\"));\n",
       "    "
      ],
      "text/plain": [
       "<IPython.core.display.Javascript object>"
      ]
     },
     "metadata": {},
     "output_type": "display_data"
    },
    {
     "data": {
      "application/javascript": [
       "$('span:contains(\"# Temp\")').closest('.cell').remove();"
      ],
      "text/plain": [
       "<IPython.core.display.Javascript object>"
      ]
     },
     "metadata": {},
     "output_type": "display_data"
    },
    {
     "data": {
      "application/javascript": [
       "\n",
       "        $('span:contains(\"# Temp\")').closest('.cell').remove();\n",
       "        var code = IPython.notebook.insert_cell_below('code');\n",
       "        code.set_text(atob(\"IyBUZW1wCmluc2VydCgnJycKbWFjaGFkbzIwMTZiID0gREIoV29ya1VucmVsYXRlZCgKICAgIDIwMTYsICJBbuFsaXNlIGRhIGdlc3TjbyBkYSBzdXN0ZW50YWJpbGlkYWRlIG5hcyBlbXByZXNhcyBkZSBzb2Z0d2FyZSBxdWUgZW1wcmVnYW0gbW9kZWxvcyBkZSBtYXR1cmlkYWRlIiwKICAgIGRpc3BsYXk9Im1hY2hhZG8gYiIsCiAgICBhdXRob3JzPSJNYWNoYWRvLCBN4XJjaWEgQ3Jpc3RpbmEgYW5kIG90aGVycyIsCiAgICBwbGFjZT1GQUtFLAogICAgZW50cnl0eXBlPSJhcnRpY2xlIiwKICAgIHB1Ymxpc2hlcj0iVW5pdmVyc2lkYWRlIE5vdmUgZGUgSnVsaG8iLAogICAgSUQ9Im1hY2hhZG8yMDE2YW5hbGlzZSIsCiAgICBwbGFjZXg9IiIsCikpCgpEQihDaXRhdGlvbigKICAgIG1hY2hhZG8yMDE2YiwgYmFzaWxpMjAxMGEsIHJlZj0iIiwKICAgIGNvbnRleHRzPVsKCiAgICBdLAopKQoKJycnLCBjaXRhdGlvbnM9J2Jhc2lsaTIwMTBhJyk7\"));\n",
       "    "
      ],
      "text/plain": [
       "<IPython.core.display.Javascript object>"
      ]
     },
     "metadata": {},
     "output_type": "display_data"
    },
    {
     "data": {
      "application/javascript": [
       "$('span:contains(\"# Temp\")').closest('.cell').remove();"
      ],
      "text/plain": [
       "<IPython.core.display.Javascript object>"
      ]
     },
     "metadata": {},
     "output_type": "display_data"
    },
    {
     "data": {
      "application/javascript": [
       "\n",
       "        $('span:contains(\"# Temp\")').closest('.cell').remove();\n",
       "        var code = IPython.notebook.insert_cell_below('code');\n",
       "        code.set_text(atob(\"IyBUZW1wCmluc2VydCgnJycKbWFjaGFkbzIwMTZiID0gREIoV29ya1VucmVsYXRlZCgKICAgIDIwMTYsICJBbuFsaXNlIGRhIGdlc3TjbyBkYSBzdXN0ZW50YWJpbGlkYWRlIG5hcyBlbXByZXNhcyBkZSBzb2Z0d2FyZSBxdWUgZW1wcmVnYW0gbW9kZWxvcyBkZSBtYXR1cmlkYWRlIiwKICAgIGRpc3BsYXk9Im1hY2hhZG8gYiIsCiAgICBhdXRob3JzPSJNYWNoYWRvLCBN4XJjaWEgQ3Jpc3RpbmEgYW5kIG90aGVycyIsCiAgICBwbGFjZT1GQUtFLAogICAgZW50cnl0eXBlPSJhcnRpY2xlIiwKICAgIHB1Ymxpc2hlcj0iVW5pdmVyc2lkYWRlIE5vdmUgZGUgSnVsaG8iLAogICAgSUQ9Im1hY2hhZG8yMDE2YW5hbGlzZSIsCiAgICBwbGFjZXg9IiIsCikpCgpEQihDaXRhdGlvbigKICAgIG1hY2hhZG8yMDE2YiwgYmFzaWxpMjAxMGEsIHJlZj0iIiwKICAgIGNvbnRleHRzPVsKCiAgICBdLAopKQoKJycnLCBjaXRhdGlvbnM9J2Jhc2lsaTIwMTBhJyk7\"));\n",
       "    "
      ],
      "text/plain": [
       "<IPython.core.display.Javascript object>"
      ]
     },
     "metadata": {},
     "output_type": "display_data"
    },
    {
     "data": {
      "application/javascript": [
       "$('span:contains(\"# Temp\")').closest('.cell').remove();"
      ],
      "text/plain": [
       "<IPython.core.display.Javascript object>"
      ]
     },
     "metadata": {},
     "output_type": "display_data"
    },
    {
     "data": {
      "application/javascript": [
       "\n",
       "        $('span:contains(\"# Temp\")').closest('.cell').remove();\n",
       "        var code = IPython.notebook.insert_cell_below('code');\n",
       "        code.set_text(atob(\"IyBUZW1wCmluc2VydCgnJycKPz8/Pz8/MjAxN2EgPSBEQihXb3JrVW5yZWxhdGVkKAogICAgMjAxNywgIj8/Pz8/Pz8/Pz8/ID8/Pz8/Pz8/PyA/ID8/Pz8/Pz8gPz8/Pz8/Pz8/Pz8/ID8/ID8/Pz8/PyA/Pz8/Pz8/Pz8/ID8/Pz8/Pz8/Pz8/PyA/Pz8/Pz8/Pz8gPyA/Pz8/Pz8/Pz8/Pz8gPz8/Pz8/Pz8iLAogICAgZGlzcGxheT0iPz8/Pz8/IiwKICAgIGF1dGhvcnM9Ij8/Pz8/PywgPz8/Pz8gPz8/Pz8/PyIsCiAgICBwbGFjZT1GQUtFLAogICAgZW50cnl0eXBlPSJhcnRpY2xlIiwKICAgIHZvbHVtZT0iOCIsCiAgICBudW1iZXI9IjIgKDMwKSIsCiAgICBwdWJsaXNoZXI9Ij8/Pz8/Pz8/ID8gPz8/Pz8/Pz8/Pz8/ID8/Pz8/Pz8/Pz8/Pz8/Pz8gPz8/Pz8/Pz8/Pz8/ID8/PyB7XGd1aWxsZW1vdGxlZnR9Pz8/Pz97XGd1aWxsZW1vdHJpZ2h0fSIsCiAgICBJRD0iPz8/Pz8/MjAxNz8/Pz8/Pz8/Pz8/IiwKICAgIHBsYWNleD0iPz8/ICg/Pz8/Pz8/Pz8/Pz8uID8/Pz8/Pz8/Py4gPz8/Pz8/Pz8pIiwKKSkKCkRCKENpdGF0aW9uKAogICAgPz8/Pz8/MjAxN2EsIGJhc2lsaTIwMTBhLCByZWY9IiIsCiAgICBjb250ZXh0cz1bCgogICAgXSwKKSkKCicnJywgY2l0YXRpb25zPSdiYXNpbGkyMDEwYScpOw==\"));\n",
       "    "
      ],
      "text/plain": [
       "<IPython.core.display.Javascript object>"
      ]
     },
     "metadata": {},
     "output_type": "display_data"
    },
    {
     "data": {
      "application/javascript": [
       "$('span:contains(\"# Temp\")').closest('.cell').remove();"
      ],
      "text/plain": [
       "<IPython.core.display.Javascript object>"
      ]
     },
     "metadata": {},
     "output_type": "display_data"
    },
    {
     "data": {
      "application/javascript": [
       "\n",
       "        $('span:contains(\"# Temp\")').closest('.cell').remove();\n",
       "        var code = IPython.notebook.insert_cell_below('code');\n",
       "        code.set_text(atob(\"IyBUZW1wCmluc2VydCgnJycKPz8/Pz8/MjAxN2EgPSBEQihXb3JrVW5yZWxhdGVkKAogICAgMjAxNywgIj8/Pz8/Pz8/Pz8/ID8/Pz8/Pz8/PyA/ID8/Pz8/Pz8gPz8/Pz8/Pz8/Pz8/ID8/ID8/Pz8/PyA/Pz8/Pz8/Pz8/ID8/Pz8/Pz8/Pz8/PyA/Pz8/Pz8/Pz8gPyA/Pz8/Pz8/Pz8/Pz8gPz8/Pz8/Pz8iLAogICAgZGlzcGxheT0iPz8/Pz8/IiwKICAgIGF1dGhvcnM9Ij8/Pz8/PywgPz8/Pz8gPz8/Pz8/PyIsCiAgICBwbGFjZT1GQUtFLAogICAgZW50cnl0eXBlPSJhcnRpY2xlIiwKICAgIHZvbHVtZT0iOCIsCiAgICBudW1iZXI9IjIgKDMwKSIsCiAgICBwdWJsaXNoZXI9Ij8/Pz8/Pz8/ID8gPz8/Pz8/Pz8/Pz8/ID8/Pz8/Pz8/Pz8/Pz8/Pz8gPz8/Pz8/Pz8/Pz8/ID8/PyB7XGd1aWxsZW1vdGxlZnR9Pz8/Pz97XGd1aWxsZW1vdHJpZ2h0fSIsCiAgICBJRD0iPz8/Pz8/MjAxNz8/Pz8/Pz8/Pz8/IiwKICAgIHBsYWNleD0iPz8/ICg/Pz8/Pz8/Pz8/Pz8uID8/Pz8/Pz8/Py4gPz8/Pz8/Pz8pIiwKKSkKCkRCKENpdGF0aW9uKAogICAgPz8/Pz8/MjAxN2EsIGJhc2lsaTIwMTBhLCByZWY9IiIsCiAgICBjb250ZXh0cz1bCgogICAgXSwKKSkKCicnJywgY2l0YXRpb25zPSdiYXNpbGkyMDEwYScpOw==\"));\n",
       "    "
      ],
      "text/plain": [
       "<IPython.core.display.Javascript object>"
      ]
     },
     "metadata": {},
     "output_type": "display_data"
    },
    {
     "data": {
      "application/javascript": [
       "$('span:contains(\"# Temp\")').closest('.cell').remove();"
      ],
      "text/plain": [
       "<IPython.core.display.Javascript object>"
      ]
     },
     "metadata": {},
     "output_type": "display_data"
    },
    {
     "data": {
      "application/javascript": [
       "\n",
       "        $('span:contains(\"# Temp\")').closest('.cell').remove();\n",
       "        var code = IPython.notebook.insert_cell_below('code');\n",
       "        code.set_text(atob(\"IyBUZW1wCmluc2VydCgnJycKcGFwYTBhID0gREIoV29ya1VucmVsYXRlZCgKICAgIDAsICJQYXRy824gZGUgRXN0cmF0ZWdpYSBkZSBFdmFsdWFjafNuIHkgTWVqb3JhIGRlIHVuYSBWaXN0YSBkZSBDYWxpZGFkIGFwbGljYWRvIGEgdW4gUmVjdXJzbyBPcmdhbml6YWNpb25hbCIsCiAgICBkaXNwbGF5PSJwYXBhIiwKICAgIGF1dGhvcnM9IlBhcGEsIE1hcu1hIEZlcm5hbmRhIGFuZCBSaXZlcmEsIEJlbOluIGFuZCBCZWNrZXIsIFBhYmxvIGFuZCBPbHNpbmEsIEx1aXMiLAogICAgcGxhY2U9RkFLRSwKICAgIGVudHJ5dHlwZT0iYXJ0aWNsZSIsCiAgICBJRD0icGFwYXBhdHJvbiIsCiAgICBwbGFjZXg9IiIsCikpCgpEQihDaXRhdGlvbigKICAgIHBhcGEwYSwgYmFzaWxpMjAxMGEsIHJlZj0iIiwKICAgIGNvbnRleHRzPVsKCiAgICBdLAopKQoKJycnLCBjaXRhdGlvbnM9J2Jhc2lsaTIwMTBhJyk7\"));\n",
       "    "
      ],
      "text/plain": [
       "<IPython.core.display.Javascript object>"
      ]
     },
     "metadata": {},
     "output_type": "display_data"
    },
    {
     "data": {
      "application/javascript": [
       "$('span:contains(\"# Temp\")').closest('.cell').remove();"
      ],
      "text/plain": [
       "<IPython.core.display.Javascript object>"
      ]
     },
     "metadata": {},
     "output_type": "display_data"
    },
    {
     "data": {
      "application/javascript": [
       "\n",
       "        $('span:contains(\"# Temp\")').closest('.cell').remove();\n",
       "        var code = IPython.notebook.insert_cell_below('code');\n",
       "        code.set_text(atob(\"IyBUZW1wCmluc2VydCgnJycKcGFwYTBhID0gREIoV29ya1VucmVsYXRlZCgKICAgIDAsICJQYXRy824gZGUgRXN0cmF0ZWdpYSBkZSBFdmFsdWFjafNuIHkgTWVqb3JhIGRlIHVuYSBWaXN0YSBkZSBDYWxpZGFkIGFwbGljYWRvIGEgdW4gUmVjdXJzbyBPcmdhbml6YWNpb25hbCIsCiAgICBkaXNwbGF5PSJwYXBhIiwKICAgIGF1dGhvcnM9IlBhcGEsIE1hcu1hIEZlcm5hbmRhIGFuZCBSaXZlcmEsIEJlbOluIGFuZCBCZWNrZXIsIFBhYmxvIGFuZCBPbHNpbmEsIEx1aXMiLAogICAgcGxhY2U9RkFLRSwKICAgIGVudHJ5dHlwZT0iYXJ0aWNsZSIsCiAgICBJRD0icGFwYXBhdHJvbiIsCiAgICBwbGFjZXg9IiIsCikpCgpEQihDaXRhdGlvbigKICAgIHBhcGEwYSwgYmFzaWxpMjAxMGEsIHJlZj0iIiwKICAgIGNvbnRleHRzPVsKCiAgICBdLAopKQoKJycnLCBjaXRhdGlvbnM9J2Jhc2lsaTIwMTBhJyk7\"));\n",
       "    "
      ],
      "text/plain": [
       "<IPython.core.display.Javascript object>"
      ]
     },
     "metadata": {},
     "output_type": "display_data"
    },
    {
     "data": {
      "application/javascript": [
       "$('span:contains(\"# Temp\")').closest('.cell').remove();"
      ],
      "text/plain": [
       "<IPython.core.display.Javascript object>"
      ]
     },
     "metadata": {},
     "output_type": "display_data"
    },
    {
     "data": {
      "application/javascript": [
       "\n",
       "        $('span:contains(\"# Temp\")').closest('.cell').remove();\n",
       "        var code = IPython.notebook.insert_cell_below('code');\n",
       "        code.set_text(atob(\"IyBUZW1wCmluc2VydCgnJycKPz8/Pz8/MjAxN2EgPSBEQihXb3JrVW5yZWxhdGVkKAogICAgMjAxNywgIj8/Pz8/Pz8/Pz8/ID8/Pz8/Pz8/PyA/ID8/Pz8/Pz8gPz8/Pz8/Pz8/Pz8/ID8/ID8/Pz8/PyA/Pz8/Pz8/Pz8/ID8/Pz8/Pz8/Pz8/PyA/Pz8/Pz8/Pz8gPyA/Pz8/Pz8/Pz8/Pz8gPz8/Pz8/Pz8iLAogICAgZGlzcGxheT0iPz8/Pz8/IiwKICAgIGF1dGhvcnM9Ij8/Pz8/PywgPz8/Pz8gPz8/Pz8/PyIsCiAgICBwbGFjZT1GQUtFLAogICAgZW50cnl0eXBlPSJhcnRpY2xlIiwKICAgIHZvbHVtZT0iOCIsCiAgICBudW1iZXI9IjIgKDMwKSIsCiAgICBwdWJsaXNoZXI9Ij8/Pz8/Pz8/ID8gPz8/Pz8/Pz8/Pz8/ID8/Pz8/Pz8/Pz8/Pz8/Pz8gPz8/Pz8/Pz8/Pz8/ID8/PyB7XGd1aWxsZW1vdGxlZnR9Pz8/Pz97XGd1aWxsZW1vdHJpZ2h0fSIsCiAgICBJRD0iPz8/Pz8/MjAxNz8/Pz8/Pz8/Pz8/IiwKICAgIHBsYWNleD0iPz8/ICg/Pz8/Pz8/Pz8/Pz8uID8/Pz8/Pz8/Py4gPz8/Pz8/Pz8pIiwKKSkKCkRCKENpdGF0aW9uKAogICAgPz8/Pz8/MjAxN2EsIGJhc2lsaTIwMTBhLCByZWY9IiIsCiAgICBjb250ZXh0cz1bCgogICAgXSwKKSkKCicnJywgY2l0YXRpb25zPSdiYXNpbGkyMDEwYScpOw==\"));\n",
       "    "
      ],
      "text/plain": [
       "<IPython.core.display.Javascript object>"
      ]
     },
     "metadata": {},
     "output_type": "display_data"
    },
    {
     "data": {
      "application/javascript": [
       "$('span:contains(\"# Temp\")').closest('.cell').remove();"
      ],
      "text/plain": [
       "<IPython.core.display.Javascript object>"
      ]
     },
     "metadata": {},
     "output_type": "display_data"
    },
    {
     "data": {
      "application/javascript": [
       "\n",
       "        $('span:contains(\"# Temp\")').closest('.cell').remove();\n",
       "        var code = IPython.notebook.insert_cell_below('code');\n",
       "        code.set_text(atob(\"IyBUZW1wCmluc2VydCgnJycKPz8/Pz8/MjAxN2EgPSBEQihXb3JrVW5yZWxhdGVkKAogICAgMjAxNywgIj8/Pz8/Pz8/Pz8/ID8/Pz8/Pz8/PyA/ID8/Pz8/Pz8gPz8/Pz8/Pz8/Pz8/ID8/ID8/Pz8/PyA/Pz8/Pz8/Pz8/ID8/Pz8/Pz8/Pz8/PyA/Pz8/Pz8/Pz8gPyA/Pz8/Pz8/Pz8/Pz8gPz8/Pz8/Pz8iLAogICAgZGlzcGxheT0iPz8/Pz8/IiwKICAgIGF1dGhvcnM9Ij8/Pz8/PywgPz8/Pz8gPz8/Pz8/PyIsCiAgICBwbGFjZT1GQUtFLAogICAgZW50cnl0eXBlPSJhcnRpY2xlIiwKICAgIHZvbHVtZT0iOCIsCiAgICBudW1iZXI9IjIgKDMwKSIsCiAgICBwdWJsaXNoZXI9Ij8/Pz8/Pz8/ID8gPz8/Pz8/Pz8/Pz8/ID8/Pz8/Pz8/Pz8/Pz8/Pz8gPz8/Pz8/Pz8/Pz8/ID8/PyB7XGd1aWxsZW1vdGxlZnR9Pz8/Pz97XGd1aWxsZW1vdHJpZ2h0fSIsCiAgICBJRD0iPz8/Pz8/MjAxNz8/Pz8/Pz8/Pz8/IiwKICAgIHBsYWNleD0iPz8/ICg/Pz8/Pz8/Pz8/Pz8uID8/Pz8/Pz8/Py4gPz8/Pz8/Pz8pIiwKKSkKCkRCKENpdGF0aW9uKAogICAgPz8/Pz8/MjAxN2EsIGJhc2lsaTIwMTBhLCByZWY9IiIsCiAgICBjb250ZXh0cz1bCgogICAgXSwKKSkKCicnJywgY2l0YXRpb25zPSdiYXNpbGkyMDEwYScpOw==\"));\n",
       "    "
      ],
      "text/plain": [
       "<IPython.core.display.Javascript object>"
      ]
     },
     "metadata": {},
     "output_type": "display_data"
    },
    {
     "data": {
      "application/javascript": [
       "$('span:contains(\"# Temp\")').closest('.cell').remove();"
      ],
      "text/plain": [
       "<IPython.core.display.Javascript object>"
      ]
     },
     "metadata": {},
     "output_type": "display_data"
    },
    {
     "data": {
      "application/javascript": [
       "$('span:contains(\"# Temp\")').closest('.cell').remove();"
      ],
      "text/plain": [
       "<IPython.core.display.Javascript object>"
      ]
     },
     "metadata": {},
     "output_type": "display_data"
    },
    {
     "data": {
      "application/javascript": [
       "$('span:contains(\"# Temp\")').closest('.cell').remove();"
      ],
      "text/plain": [
       "<IPython.core.display.Javascript object>"
      ]
     },
     "metadata": {},
     "output_type": "display_data"
    },
    {
     "data": {
      "application/javascript": [
       "\n",
       "        $('span:contains(\"# Temp\")').closest('.cell').remove();\n",
       "        var code = IPython.notebook.insert_cell_below('code');\n",
       "        code.set_text(atob(\"IyBUZW1wCmluc2VydCgnJycKaHViZXJ0czBhID0gREIoV29ya1VucmVsYXRlZCgKICAgIDAsICJIZXQgZ2VicnVpayB2YW4gYXJjaGl0ZWN0dXVyY29uY2VwdGVuIGJpaiBkZSBvbnR3aWtrZWxpbmcgdmFuIHdlYi9tb2JpZWxlIGFwcGxpY2F0aWVzIiwKICAgIGRpc3BsYXk9Imh1YmVydHMiLAogICAgYXV0aG9ycz0iSHViZXJ0cywgUGF1bCBhbmQgSG9wcGVuYnJvdXdlcnMsIFN0aWpuIGFuZCBDbGFhc3NlbiwgVG9tIiwKICAgIHBsYWNlPUZBS0UsCiAgICBlbnRyeXR5cGU9ImFydGljbGUiLAogICAgSUQ9Imh1YmVydHNoZXQiLAogICAgcGxhY2V4PSIiLAopKQoKREIoQ2l0YXRpb24oCiAgICBodWJlcnRzMGEsIGJhc2lsaTIwMTBhLCByZWY9IiIsCiAgICBjb250ZXh0cz1bCgogICAgXSwKKSkKCicnJywgY2l0YXRpb25zPSdiYXNpbGkyMDEwYScpOw==\"));\n",
       "    "
      ],
      "text/plain": [
       "<IPython.core.display.Javascript object>"
      ]
     },
     "metadata": {},
     "output_type": "display_data"
    },
    {
     "data": {
      "application/javascript": [
       "$('span:contains(\"# Temp\")').closest('.cell').remove();"
      ],
      "text/plain": [
       "<IPython.core.display.Javascript object>"
      ]
     },
     "metadata": {},
     "output_type": "display_data"
    },
    {
     "data": {
      "application/javascript": [
       "\n",
       "        $('span:contains(\"# Temp\")').closest('.cell').remove();\n",
       "        var code = IPython.notebook.insert_cell_below('code');\n",
       "        code.set_text(atob(\"IyBUZW1wCmluc2VydCgnJycKaHViZXJ0czBhID0gREIoV29ya1VucmVsYXRlZCgKICAgIDAsICJIZXQgZ2VicnVpayB2YW4gYXJjaGl0ZWN0dXVyY29uY2VwdGVuIGJpaiBkZSBvbnR3aWtrZWxpbmcgdmFuIHdlYi9tb2JpZWxlIGFwcGxpY2F0aWVzIiwKICAgIGRpc3BsYXk9Imh1YmVydHMiLAogICAgYXV0aG9ycz0iSHViZXJ0cywgUGF1bCBhbmQgSG9wcGVuYnJvdXdlcnMsIFN0aWpuIGFuZCBDbGFhc3NlbiwgVG9tIiwKICAgIHBsYWNlPUZBS0UsCiAgICBlbnRyeXR5cGU9ImFydGljbGUiLAogICAgSUQ9Imh1YmVydHNoZXQiLAogICAgcGxhY2V4PSIiLAopKQoKREIoQ2l0YXRpb24oCiAgICBodWJlcnRzMGEsIGJhc2lsaTIwMTBhLCByZWY9IiIsCiAgICBjb250ZXh0cz1bCgogICAgXSwKKSkKCicnJywgY2l0YXRpb25zPSdiYXNpbGkyMDEwYScpOw==\"));\n",
       "    "
      ],
      "text/plain": [
       "<IPython.core.display.Javascript object>"
      ]
     },
     "metadata": {},
     "output_type": "display_data"
    },
    {
     "data": {
      "application/javascript": [
       "$('span:contains(\"# Temp\")').closest('.cell').remove();"
      ],
      "text/plain": [
       "<IPython.core.display.Javascript object>"
      ]
     },
     "metadata": {},
     "output_type": "display_data"
    },
    {
     "data": {
      "application/javascript": [
       "\n",
       "        $('span:contains(\"# Temp\")').closest('.cell').remove();\n",
       "        var code = IPython.notebook.insert_cell_below('code');\n",
       "        code.set_text(atob(\"IyBUZW1wCmluc2VydCgnJycKbWVuZG96YTIwMTNhID0gREIoV29ya1VucmVsYXRlZCgKICAgIDIwMTMsICJBcnTtY3Vsb3MgZGUgSW52ZXN0aWdhY2nzbiIsCiAgICBkaXNwbGF5PSJtZW5kb3phIiwKICAgIGF1dGhvcnM9Ik1lbmRvemEsIE1hbnVlbCBNYWxkb25hZG8gYW5kIEdvcmTzbiwgTWFyeSBMdXogU+FuY2hleiIsCiAgICBwbGFjZT1GQUtFLAogICAgZW50cnl0eXBlPSJhcnRpY2xlIiwKICAgIElEPSJtZW5kb3phMjAxM2FydGljdWxvcyIsCiAgICBwbGFjZXg9IiIsCikpCgpEQihDaXRhdGlvbigKICAgIG1lbmRvemEyMDEzYSwgYmFzaWxpMjAxMGEsIHJlZj0iIiwKICAgIGNvbnRleHRzPVsKCiAgICBdLAopKQoKJycnLCBjaXRhdGlvbnM9J2Jhc2lsaTIwMTBhJyk7\"));\n",
       "    "
      ],
      "text/plain": [
       "<IPython.core.display.Javascript object>"
      ]
     },
     "metadata": {},
     "output_type": "display_data"
    },
    {
     "data": {
      "application/javascript": [
       "$('span:contains(\"# Temp\")').closest('.cell').remove();"
      ],
      "text/plain": [
       "<IPython.core.display.Javascript object>"
      ]
     },
     "metadata": {},
     "output_type": "display_data"
    },
    {
     "data": {
      "application/javascript": [
       "\n",
       "        $('span:contains(\"# Temp\")').closest('.cell').remove();\n",
       "        var code = IPython.notebook.insert_cell_below('code');\n",
       "        code.set_text(atob(\"IyBUZW1wCmluc2VydCgnJycKbWVuZG96YTIwMTNhID0gREIoV29ya1VucmVsYXRlZCgKICAgIDIwMTMsICJBcnTtY3Vsb3MgZGUgSW52ZXN0aWdhY2nzbiIsCiAgICBkaXNwbGF5PSJtZW5kb3phIiwKICAgIGF1dGhvcnM9Ik1lbmRvemEsIE1hbnVlbCBNYWxkb25hZG8gYW5kIEdvcmTzbiwgTWFyeSBMdXogU+FuY2hleiIsCiAgICBwbGFjZT1GQUtFLAogICAgZW50cnl0eXBlPSJhcnRpY2xlIiwKICAgIElEPSJtZW5kb3phMjAxM2FydGljdWxvcyIsCiAgICBwbGFjZXg9IiIsCikpCgpEQihDaXRhdGlvbigKICAgIG1lbmRvemEyMDEzYSwgYmFzaWxpMjAxMGEsIHJlZj0iIiwKICAgIGNvbnRleHRzPVsKCiAgICBdLAopKQoKJycnLCBjaXRhdGlvbnM9J2Jhc2lsaTIwMTBhJyk7\"));\n",
       "    "
      ],
      "text/plain": [
       "<IPython.core.display.Javascript object>"
      ]
     },
     "metadata": {},
     "output_type": "display_data"
    },
    {
     "data": {
      "application/javascript": [
       "$('span:contains(\"# Temp\")').closest('.cell').remove();"
      ],
      "text/plain": [
       "<IPython.core.display.Javascript object>"
      ]
     },
     "metadata": {},
     "output_type": "display_data"
    },
    {
     "data": {
      "application/javascript": [
       "\n",
       "        $('span:contains(\"# Temp\")').closest('.cell').remove();\n",
       "        var code = IPython.notebook.insert_cell_below('code');\n",
       "        code.set_text(atob(\"IyBUZW1wCmluc2VydCgnJycKREIoQ2l0YXRpb24oCiAgICByb2JsZXMyMDE2YSwgYmFzaWxpMjAxMGEsIHJlZj0iIiwKICAgIGNvbnRleHRzPVsKCiAgICBdLAopKQoKJycnLCBjaXRhdGlvbnM9J2Jhc2lsaTIwMTBhJyk7CnNldF9hdHRyaWJ1dGUoJ3JvYmxlczIwMTZhJywgJ2V4Y2VycHQnLCAnTGFzIG9yZ2FuaXphY2lvbmVzIGRlIGRlc2Fycm9sbG8gZGUgc29mdHdhcmUgYnVzY2FuIGNvbnN0YW50ZW1lbnRlIGZvcm1hcyBkZSBzZXIgbeFzIGVmaWNpZW50ZXMgeSBjdW1wbGlyIGNvbiBzdXMgb2JqZXRpdm9zIGRlIG5lZ29jaW8uIExvcyBkZXNhZu1vcyBxdWUg6XN0YXMgZW5mcmVudGFuIHBhcmEgY29uc2VndWlyIGVzdGUgZmluLCBwdWVkZW4gc2VyIGFmcm9udGFkb3MgYSB0cmF26XMgZGVsIGRlc3BsaWVndWUgeSBtZWpvcmEgZGUgcHJvY2Vzb3MsICcpOw==\"));\n",
       "    "
      ],
      "text/plain": [
       "<IPython.core.display.Javascript object>"
      ]
     },
     "metadata": {},
     "output_type": "display_data"
    },
    {
     "data": {
      "application/javascript": [
       "$('span:contains(\"# Temp\")').closest('.cell').remove();"
      ],
      "text/plain": [
       "<IPython.core.display.Javascript object>"
      ]
     },
     "metadata": {},
     "output_type": "display_data"
    },
    {
     "data": {
      "application/javascript": [
       "\n",
       "        $('span:contains(\"# Temp\")').closest('.cell').remove();\n",
       "        var code = IPython.notebook.insert_cell_below('code');\n",
       "        code.set_text(atob(\"IyBUZW1wCmluc2VydCgnJycKREIoQ2l0YXRpb24oCiAgICByb2JsZXMyMDE2YSwgYmFzaWxpMjAxMGEsIHJlZj0iIiwKICAgIGNvbnRleHRzPVsKCiAgICBdLAopKQoKJycnLCBjaXRhdGlvbnM9J2Jhc2lsaTIwMTBhJyk7CnNldF9hdHRyaWJ1dGUoJ3JvYmxlczIwMTZhJywgJ2V4Y2VycHQnLCAnTGFzIG9yZ2FuaXphY2lvbmVzIGRlIGRlc2Fycm9sbG8gZGUgc29mdHdhcmUgYnVzY2FuIGNvbnN0YW50ZW1lbnRlIGZvcm1hcyBkZSBzZXIgbeFzIGVmaWNpZW50ZXMgeSBjdW1wbGlyIGNvbiBzdXMgb2JqZXRpdm9zIGRlIG5lZ29jaW8uIExvcyBkZXNhZu1vcyBxdWUg6XN0YXMgZW5mcmVudGFuIHBhcmEgY29uc2VndWlyIGVzdGUgZmluLCBwdWVkZW4gc2VyIGFmcm9udGFkb3MgYSB0cmF26XMgZGVsIGRlc3BsaWVndWUgeSBtZWpvcmEgZGUgcHJvY2Vzb3MsICcpOw==\"));\n",
       "    "
      ],
      "text/plain": [
       "<IPython.core.display.Javascript object>"
      ]
     },
     "metadata": {},
     "output_type": "display_data"
    }
   ],
   "source": [
    "manager"
   ]
  },
  {
   "cell_type": "code",
   "execution_count": null,
   "metadata": {
    "collapsed": true
   },
   "outputs": [],
   "source": [
    "# Temp\n",
    "insert('''\n",
    "DB(Citation(\n",
    "    robles2016a, basili2010a, ref=\"\",\n",
    "    contexts=[\n",
    "\n",
    "    ],\n",
    "))\n",
    "\n",
    "''', citations='basili2010a');\n",
    "set_attribute('robles2016a', 'excerpt', 'Las organizaciones de desarrollo de software buscan constantemente formas de ser más eficientes y cumplir con sus objetivos de negocio. Los desafíos que éstas enfrentan para conseguir este fin, pueden ser afrontados a través del despliegue y mejora de procesos, ');"
   ]
  },
  {
   "cell_type": "code",
   "execution_count": null,
   "metadata": {},
   "outputs": [],
   "source": [
    "from snowballing.operations import reload\n",
    "reload()\n",
    "from snowballing.dbmanager import rename_work"
   ]
  },
  {
   "cell_type": "code",
   "execution_count": null,
   "metadata": {},
   "outputs": [],
   "source": [
    "rename_work(\"eljabiri0a\", \"eljabiri2012a\")"
   ]
  },
  {
   "cell_type": "code",
   "execution_count": null,
   "metadata": {
    "collapsed": true
   },
   "outputs": [],
   "source": [
    "rename_work?"
   ]
  },
  {
   "cell_type": "code",
   "execution_count": null,
   "metadata": {},
   "outputs": [],
   "source": [
    "á"
   ]
  },
  {
   "cell_type": "code",
   "execution_count": null,
   "metadata": {
    "collapsed": true
   },
   "outputs": [],
   "source": []
  }
 ],
 "metadata": {
  "kernelspec": {
   "display_name": "Python 3",
   "language": "python",
   "name": "python3"
  },
  "language_info": {
   "codemirror_mode": {
    "name": "ipython",
    "version": 3
   },
   "file_extension": ".py",
   "mimetype": "text/x-python",
   "name": "python",
   "nbconvert_exporter": "python",
   "pygments_lexer": "ipython3",
   "version": "3.6.0"
  },
  "toc": {
   "nav_menu": {
    "height": "12px",
    "width": "252px"
   },
   "number_sections": true,
   "sideBar": true,
   "skip_h1_title": false,
   "toc_cell": false,
   "toc_position": {},
   "toc_section_display": "block",
   "toc_window_display": false
  }
 },
 "nbformat": 4,
 "nbformat_minor": 1
}
