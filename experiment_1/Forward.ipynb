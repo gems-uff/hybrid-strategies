{
 "cells": [
  {
   "cell_type": "code",
   "execution_count": 16,
   "metadata": {
    "collapsed": true
   },
   "outputs": [],
   "source": [
    "import database\n",
    "from snowballing.operations import load_work, reload, work_by_varname\n",
    "from snowballing.selenium_scholar import SeleniumScholarQuerier\n",
    "from snowballing.snowballing import ForwardSnowballing\n",
    "from snowballing.dbmanager import insert, set_attribute\n",
    "from custom_snowballing import UnrelatedForward"
   ]
  },
  {
   "cell_type": "code",
   "execution_count": 17,
   "metadata": {
    "collapsed": true
   },
   "outputs": [],
   "source": [
    "querier = SeleniumScholarQuerier()"
   ]
  },
  {
   "cell_type": "code",
   "execution_count": 18,
   "metadata": {
    "scrolled": true
   },
   "outputs": [],
   "source": [
    "querier.apply_settings(20, 4);"
   ]
  },
  {
   "cell_type": "code",
   "execution_count": 19,
   "metadata": {},
   "outputs": [
    {
     "name": "stdout",
     "output_type": "stream",
     "text": [
      "Captcha: ok\n"
     ]
    }
   ],
   "source": [
    "#manager = ForwardSnowballing(querier, \"mendes2004a\", start=60)\n",
    "import importlib\n",
    "import custom_snowballing\n",
    "importlib.reload(custom_snowballing)\n",
    "from custom_snowballing import UnrelatedForward\n",
    "manager = UnrelatedForward(querier, \"trienekens2009a\", start=0)"
   ]
  },
  {
   "cell_type": "code",
   "execution_count": null,
   "metadata": {
    "collapsed": true
   },
   "outputs": [],
   "source": []
  },
  {
   "cell_type": "code",
   "execution_count": null,
   "metadata": {
    "collapsed": true
   },
   "outputs": [],
   "source": []
  },
  {
   "cell_type": "code",
   "execution_count": 20,
   "metadata": {
    "scrolled": true
   },
   "outputs": [
    {
     "data": {
      "application/vnd.jupyter.widget-view+json": {
       "model_id": "bf36d9eacf834384be1da3f2c5779ca9",
       "version_major": 2,
       "version_minor": 0
      },
      "text/html": [
       "<p>Failed to display Jupyter Widget of type <code>Tab</code>.</p>\n",
       "<p>\n",
       "  If you're reading this message in Jupyter Notebook or JupyterLab, it may mean\n",
       "  that the widgets JavaScript is still loading. If this message persists, it\n",
       "  likely means that the widgets JavaScript library is either not installed or\n",
       "  not enabled. See the <a href=\"https://ipywidgets.readthedocs.io/en/stable/user_install.html\">Jupyter\n",
       "  Widgets Documentation</a> for setup instructions.\n",
       "</p>\n",
       "<p>\n",
       "  If you're reading this message in another notebook frontend (for example, a static\n",
       "  rendering on GitHub or <a href=\"https://nbviewer.jupyter.org/\">NBViewer</a>),\n",
       "  it may mean that your frontend doesn't currently support widgets.\n",
       "</p>\n"
      ],
      "text/plain": [
       "Tab(children=(VBox(children=(HBox(children=(Button(description='Previous Page', disabled=True, icon='arrow-left', style=ButtonStyle()), Button(description='Reload', icon='refresh', style=ButtonStyle()), Button(description='Next Page', icon='arrow-right', style=ButtonStyle()), ToggleButton(value=False, description='Debug'), Label(value=''))), Output(outputs=({'output_type': 'stream', 'text': \"Ops. It requires a captcha!\\nIf you filled in the browser, type '<ok>' here.\\n\", 'name': 'stdout'}, {'output_type': 'stream', 'text': '[ERROR]  requesting citation data failed: Message: The element reference of <div id=\"recaptcha\" class=\"g-recaptcha\"> is stale; either the element is no longer attached to the DOM, it is not in the current frame context, or the document has been refreshed\\n\\n', 'name': 'stderr'}, {'output_type': 'error', 'ename': 'TypeError', 'evalue': \"object of type 'NoneType' has no len()\", 'traceback': ['\\x1b[1;31m---------------------------------------------------------------------------\\x1b[0m', '\\x1b[1;31mTypeError\\x1b[0m                                 Traceback (most recent call last)', '\\x1b[1;32mc:\\\\erica\\\\snowballing\\\\snowballing\\\\snowballing.py\\x1b[0m in \\x1b[0;36mreload\\x1b[1;34m(self, b, show)\\x1b[0m\\n\\x1b[0;32m    620\\x1b[0m         \\x1b[1;32mwith\\x1b[0m \\x1b[0mself\\x1b[0m\\x1b[1;33m.\\x1b[0m\\x1b[0mnavigator\\x1b[0m\\x1b[1;33m.\\x1b[0m\\x1b[0moutput_widget\\x1b[0m\\x1b[1;33m:\\x1b[0m\\x1b[1;33m\\x1b[0m\\x1b[0m\\n\\x1b[0;32m    621\\x1b[0m             \\x1b[0mself\\x1b[0m\\x1b[1;33m.\\x1b[0m\\x1b[0mquerier\\x1b[0m\\x1b[1;33m.\\x1b[0m\\x1b[0mtasks\\x1b[0m\\x1b[1;33m.\\x1b[0m\\x1b[0mclear\\x1b[0m\\x1b[1;33m(\\x1b[0m\\x1b[1;33m)\\x1b[0m\\x1b[1;33m\\x1b[0m\\x1b[0m\\n\\x1b[1;32m--> 622\\x1b[1;33m             \\x1b[0mself\\x1b[0m\\x1b[1;33m.\\x1b[0m\\x1b[0mquerier\\x1b[0m\\x1b[1;33m.\\x1b[0m\\x1b[0msend_query\\x1b[0m\\x1b[1;33m(\\x1b[0m\\x1b[0mself\\x1b[0m\\x1b[1;33m.\\x1b[0m\\x1b[0mquery\\x1b[0m\\x1b[1;33m)\\x1b[0m\\x1b[1;33m\\x1b[0m\\x1b[0m\\n\\x1b[0m\\x1b[0;32m    623\\x1b[0m             self.page_number_widget.value = parse_qs(urlparse(\\n\\x1b[0;32m    624\\x1b[0m                 self.query.get_url()).query\\n', '\\x1b[1;32mc:\\\\erica\\\\snowballing\\\\snowballing\\\\selenium_scholar.py\\x1b[0m in \\x1b[0;36msend_query\\x1b[1;34m(self, query)\\x1b[0m\\n\\x1b[0;32m    483\\x1b[0m         \\x1b[1;34m\"\"\"Initiates a search query (a ScholarQuery instance)\"\"\"\\x1b[0m\\x1b[1;33m\\x1b[0m\\x1b[0m\\n\\x1b[0;32m    484\\x1b[0m         \\x1b[0mself\\x1b[0m\\x1b[1;33m.\\x1b[0m\\x1b[0mtasks\\x1b[0m\\x1b[1;33m.\\x1b[0m\\x1b[0mappend\\x1b[0m\\x1b[1;33m(\\x1b[0m\\x1b[0mQueryTask\\x1b[0m\\x1b[1;33m(\\x1b[0m\\x1b[0mquery\\x1b[0m\\x1b[1;33m)\\x1b[0m\\x1b[1;33m)\\x1b[0m\\x1b[1;33m\\x1b[0m\\x1b[0m\\n\\x1b[1;32m--> 485\\x1b[1;33m         \\x1b[0mself\\x1b[0m\\x1b[1;33m.\\x1b[0m\\x1b[0mcontinue_tasks\\x1b[0m\\x1b[1;33m(\\x1b[0m\\x1b[1;33m)\\x1b[0m\\x1b[1;33m\\x1b[0m\\x1b[0m\\n\\x1b[0m\\x1b[0;32m    486\\x1b[0m         \\x1b[1;32mreturn\\x1b[0m \\x1b[0mself\\x1b[0m\\x1b[1;33m\\x1b[0m\\x1b[0m\\n\\x1b[0;32m    487\\x1b[0m \\x1b[1;33m\\x1b[0m\\x1b[0m\\n', '\\x1b[1;32mc:\\\\erica\\\\snowballing\\\\snowballing\\\\selenium_scholar.py\\x1b[0m in \\x1b[0;36mcontinue_tasks\\x1b[1;34m(self)\\x1b[0m\\n\\x1b[0;32m    469\\x1b[0m         \\x1b[1;32mwhile\\x1b[0m \\x1b[0mself\\x1b[0m\\x1b[1;33m.\\x1b[0m\\x1b[0mtasks\\x1b[0m\\x1b[1;33m:\\x1b[0m\\x1b[1;33m\\x1b[0m\\x1b[0m\\n\\x1b[0;32m    470\\x1b[0m             \\x1b[0mtask\\x1b[0m \\x1b[1;33m=\\x1b[0m \\x1b[0mself\\x1b[0m\\x1b[1;33m.\\x1b[0m\\x1b[0mtasks\\x1b[0m\\x1b[1;33m.\\x1b[0m\\x1b[0mpopleft\\x1b[0m\\x1b[1;33m(\\x1b[0m\\x1b[1;33m)\\x1b[0m\\x1b[1;33m\\x1b[0m\\x1b[0m\\n\\x1b[1;32m--> 471\\x1b[1;33m             \\x1b[0mtask\\x1b[0m\\x1b[1;33m.\\x1b[0m\\x1b[0mapply\\x1b[0m\\x1b[1;33m(\\x1b[0m\\x1b[0mself\\x1b[0m\\x1b[1;33m)\\x1b[0m\\x1b[1;33m\\x1b[0m\\x1b[0m\\n\\x1b[0m\\x1b[0;32m    472\\x1b[0m         \\x1b[1;32mif\\x1b[0m \\x1b[0mself\\x1b[0m\\x1b[1;33m.\\x1b[0m\\x1b[0mresult\\x1b[0m\\x1b[1;33m:\\x1b[0m\\x1b[1;33m\\x1b[0m\\x1b[0m\\n\\x1b[0;32m    473\\x1b[0m             \\x1b[0mself\\x1b[0m\\x1b[1;33m.\\x1b[0m\\x1b[0marticles\\x1b[0m \\x1b[1;33m=\\x1b[0m \\x1b[0mself\\x1b[0m\\x1b[1;33m.\\x1b[0m\\x1b[0mresult\\x1b[0m\\x1b[1;33m.\\x1b[0m\\x1b[0marticles\\x1b[0m\\x1b[1;33m\\x1b[0m\\x1b[0m\\n', \"\\x1b[1;32mc:\\\\erica\\\\snowballing\\\\snowballing\\\\selenium_scholar.py\\x1b[0m in \\x1b[0;36mapply\\x1b[1;34m(self, querier)\\x1b[0m\\n\\x1b[0;32m    152\\x1b[0m     \\x1b[1;32mdef\\x1b[0m \\x1b[0mapply\\x1b[0m\\x1b[1;33m(\\x1b[0m\\x1b[0mself\\x1b[0m\\x1b[1;33m,\\x1b[0m \\x1b[0mquerier\\x1b[0m\\x1b[1;33m)\\x1b[0m\\x1b[1;33m:\\x1b[0m\\x1b[1;33m\\x1b[0m\\x1b[0m\\n\\x1b[0;32m    153\\x1b[0m         \\x1b[1;32mif\\x1b[0m \\x1b[0mlen\\x1b[0m\\x1b[1;33m(\\x1b[0m\\x1b[0mself\\x1b[0m\\x1b[1;33m.\\x1b[0m\\x1b[0mresult\\x1b[0m\\x1b[1;33m.\\x1b[0m\\x1b[0marticles\\x1b[0m\\x1b[1;33m)\\x1b[0m \\x1b[1;33m<\\x1b[0m \\x1b[0mgetattr\\x1b[0m\\x1b[1;33m(\\x1b[0m\\x1b[0mself\\x1b[0m\\x1b[1;33m.\\x1b[0m\\x1b[0mresult\\x1b[0m\\x1b[1;33m.\\x1b[0m\\x1b[0mquery\\x1b[0m\\x1b[1;33m,\\x1b[0m \\x1b[1;34m'num_results'\\x1b[0m\\x1b[1;33m,\\x1b[0m \\x1b[1;36m10000\\x1b[0m\\x1b[1;33m)\\x1b[0m\\x1b[1;33m:\\x1b[0m\\x1b[1;33m\\x1b[0m\\x1b[0m\\n\\x1b[1;32m--> 154\\x1b[1;33m             \\x1b[0mself\\x1b[0m\\x1b[1;33m.\\x1b[0m\\x1b[0mget_citation_data\\x1b[0m\\x1b[1;33m(\\x1b[0m\\x1b[0mquerier\\x1b[0m\\x1b[1;33m)\\x1b[0m\\x1b[1;33m\\x1b[0m\\x1b[0m\\n\\x1b[0m\\x1b[0;32m    155\\x1b[0m             \\x1b[0mself\\x1b[0m\\x1b[1;33m.\\x1b[0m\\x1b[0mresult\\x1b[0m\\x1b[1;33m.\\x1b[0m\\x1b[0marticles\\x1b[0m\\x1b[1;33m.\\x1b[0m\\x1b[0mappend\\x1b[0m\\x1b[1;33m(\\x1b[0m\\x1b[0mself\\x1b[0m\\x1b[1;33m.\\x1b[0m\\x1b[0marticle\\x1b[0m\\x1b[1;33m)\\x1b[0m\\x1b[1;33m\\x1b[0m\\x1b[0m\\n\\x1b[0;32m    156\\x1b[0m \\x1b[1;33m\\x1b[0m\\x1b[0m\\n\", '\\x1b[1;32mc:\\\\erica\\\\snowballing\\\\snowballing\\\\selenium_scholar.py\\x1b[0m in \\x1b[0;36mget_citation_data\\x1b[1;34m(self, querier)\\x1b[0m\\n\\x1b[0;32m    141\\x1b[0m                                     \\x1b[0merr_msg\\x1b[0m\\x1b[1;33m=\\x1b[0m\\x1b[1;34m\\'requesting citation data failed\\'\\x1b[0m\\x1b[1;33m,\\x1b[0m\\x1b[1;33m\\x1b[0m\\x1b[0m\\n\\x1b[0;32m    142\\x1b[0m                                     condition=(By.TAG_NAME, \\'pre\\'))\\n\\x1b[1;32m--> 143\\x1b[1;33m         \\x1b[0msoup\\x1b[0m \\x1b[1;33m=\\x1b[0m \\x1b[0mBeautifulSoup\\x1b[0m\\x1b[1;33m(\\x1b[0m\\x1b[0mdata\\x1b[0m\\x1b[1;33m,\\x1b[0m \\x1b[1;34m\"html.parser\"\\x1b[0m\\x1b[1;33m)\\x1b[0m\\x1b[1;33m\\x1b[0m\\x1b[0m\\n\\x1b[0m\\x1b[0;32m    144\\x1b[0m         \\x1b[0mdata\\x1b[0m \\x1b[1;33m=\\x1b[0m \\x1b[0msoup\\x1b[0m\\x1b[1;33m.\\x1b[0m\\x1b[0mtext\\x1b[0m\\x1b[1;33m\\x1b[0m\\x1b[0m\\n\\x1b[0;32m    145\\x1b[0m         \\x1b[1;32mif\\x1b[0m \\x1b[0mdata\\x1b[0m \\x1b[1;32mis\\x1b[0m \\x1b[1;32mNone\\x1b[0m\\x1b[1;33m:\\x1b[0m\\x1b[1;33m\\x1b[0m\\x1b[0m\\n', \"\\x1b[1;32mC:\\\\ProgramData\\\\Anaconda3\\\\lib\\\\site-packages\\\\bs4\\\\__init__.py\\x1b[0m in \\x1b[0;36m__init__\\x1b[1;34m(self, markup, features, builder, parse_only, from_encoding, exclude_encodings, **kwargs)\\x1b[0m\\n\\x1b[0;32m    190\\x1b[0m         \\x1b[1;32mif\\x1b[0m \\x1b[0mhasattr\\x1b[0m\\x1b[1;33m(\\x1b[0m\\x1b[0mmarkup\\x1b[0m\\x1b[1;33m,\\x1b[0m \\x1b[1;34m'read'\\x1b[0m\\x1b[1;33m)\\x1b[0m\\x1b[1;33m:\\x1b[0m        \\x1b[1;31m# It's a file-type object.\\x1b[0m\\x1b[1;33m\\x1b[0m\\x1b[0m\\n\\x1b[0;32m    191\\x1b[0m             \\x1b[0mmarkup\\x1b[0m \\x1b[1;33m=\\x1b[0m \\x1b[0mmarkup\\x1b[0m\\x1b[1;33m.\\x1b[0m\\x1b[0mread\\x1b[0m\\x1b[1;33m(\\x1b[0m\\x1b[1;33m)\\x1b[0m\\x1b[1;33m\\x1b[0m\\x1b[0m\\n\\x1b[1;32m--> 192\\x1b[1;33m         elif len(markup) <= 256 and (\\n\\x1b[0m\\x1b[0;32m    193\\x1b[0m                 \\x1b[1;33m(\\x1b[0m\\x1b[0misinstance\\x1b[0m\\x1b[1;33m(\\x1b[0m\\x1b[0mmarkup\\x1b[0m\\x1b[1;33m,\\x1b[0m \\x1b[0mbytes\\x1b[0m\\x1b[1;33m)\\x1b[0m \\x1b[1;32mand\\x1b[0m \\x1b[1;32mnot\\x1b[0m \\x1b[1;34mb'<'\\x1b[0m \\x1b[1;32min\\x1b[0m \\x1b[0mmarkup\\x1b[0m\\x1b[1;33m)\\x1b[0m\\x1b[1;33m\\x1b[0m\\x1b[0m\\n\\x1b[0;32m    194\\x1b[0m                 \\x1b[1;32mor\\x1b[0m \\x1b[1;33m(\\x1b[0m\\x1b[0misinstance\\x1b[0m\\x1b[1;33m(\\x1b[0m\\x1b[0mmarkup\\x1b[0m\\x1b[1;33m,\\x1b[0m \\x1b[0mstr\\x1b[0m\\x1b[1;33m)\\x1b[0m \\x1b[1;32mand\\x1b[0m \\x1b[1;32mnot\\x1b[0m \\x1b[1;34m'<'\\x1b[0m \\x1b[1;32min\\x1b[0m \\x1b[0mmarkup\\x1b[0m\\x1b[1;33m)\\x1b[0m\\x1b[1;33m\\x1b[0m\\x1b[0m\\n\", \"\\x1b[1;31mTypeError\\x1b[0m: object of type 'NoneType' has no len()\"]})))), VBox(children=(HBox(children=(Button(description='Previous Article', disabled=True, icon='caret-left', style=ButtonStyle()), Button(description='Reload Article', icon='refresh', style=ButtonStyle()), Button(description='Next Article', disabled=True, icon='caret-right', style=ButtonStyle()))), HBox(children=(Button(description='Unrelated: Scripts', style=ButtonStyle()), Button(description='Unrelated: Provenance', style=ButtonStyle()), Button(description='Both', style=ButtonStyle()), Button(description='Ok', style=ButtonStyle()))), HBox(children=(Dropdown(description='Type', index=5, options=('Work', 'WorkSnowball', 'WorkForward', 'WorkBackward', 'WorkOk', 'WorkUnrelated', 'WorkNoFile', 'WorkLang', 'Site', 'Email'), value='WorkUnrelated'), ToggleButton(value=False, description='File'))), HBox(children=(Text(value='', description='Due'), Text(value='', description='Place'))), HBox(children=(Text(value='', description='Year'), Text(value='', description='Prefix Var'))), HBox(children=(Text(value='', description='PDFPage'), Text(value='', description='Related'))), HBox(children=(Text(value='', description='Display'), Text(value='', description='Summary'))), HBox(children=(Text(value='', description='Star'), Text(value='', description='Link'))), HBox(children=(Button(description='Reload Article', icon='refresh', style=ButtonStyle()), IntSlider(value=0, max=0), Label(value='0/0'))), Output(outputs=({'output_type': 'stream', 'text': \"Ops. It requires a captcha!\\nIf you filled in the browser, type '<ok>' here.\\n\", 'name': 'stdout'}, {'output_type': 'stream', 'text': '[ERROR]  requesting citation data failed: Message: The element reference of <div id=\"recaptcha\" class=\"g-recaptcha\"> is stale; either the element is no longer attached to the DOM, it is not in the current frame context, or the document has been refreshed\\n\\n', 'name': 'stderr'}, {'output_type': 'error', 'ename': 'TypeError', 'evalue': \"object of type 'NoneType' has no len()\", 'traceback': ['\\x1b[1;31m---------------------------------------------------------------------------\\x1b[0m', '\\x1b[1;31mTypeError\\x1b[0m                                 Traceback (most recent call last)', '\\x1b[1;32mc:\\\\erica\\\\snowballing\\\\snowballing\\\\snowballing.py\\x1b[0m in \\x1b[0;36mreload\\x1b[1;34m(self, b, show)\\x1b[0m\\n\\x1b[0;32m    620\\x1b[0m         \\x1b[1;32mwith\\x1b[0m \\x1b[0mself\\x1b[0m\\x1b[1;33m.\\x1b[0m\\x1b[0mnavigator\\x1b[0m\\x1b[1;33m.\\x1b[0m\\x1b[0moutput_widget\\x1b[0m\\x1b[1;33m:\\x1b[0m\\x1b[1;33m\\x1b[0m\\x1b[0m\\n\\x1b[0;32m    621\\x1b[0m             \\x1b[0mself\\x1b[0m\\x1b[1;33m.\\x1b[0m\\x1b[0mquerier\\x1b[0m\\x1b[1;33m.\\x1b[0m\\x1b[0mtasks\\x1b[0m\\x1b[1;33m.\\x1b[0m\\x1b[0mclear\\x1b[0m\\x1b[1;33m(\\x1b[0m\\x1b[1;33m)\\x1b[0m\\x1b[1;33m\\x1b[0m\\x1b[0m\\n\\x1b[1;32m--> 622\\x1b[1;33m             \\x1b[0mself\\x1b[0m\\x1b[1;33m.\\x1b[0m\\x1b[0mquerier\\x1b[0m\\x1b[1;33m.\\x1b[0m\\x1b[0msend_query\\x1b[0m\\x1b[1;33m(\\x1b[0m\\x1b[0mself\\x1b[0m\\x1b[1;33m.\\x1b[0m\\x1b[0mquery\\x1b[0m\\x1b[1;33m)\\x1b[0m\\x1b[1;33m\\x1b[0m\\x1b[0m\\n\\x1b[0m\\x1b[0;32m    623\\x1b[0m             self.page_number_widget.value = parse_qs(urlparse(\\n\\x1b[0;32m    624\\x1b[0m                 self.query.get_url()).query\\n', '\\x1b[1;32mc:\\\\erica\\\\snowballing\\\\snowballing\\\\selenium_scholar.py\\x1b[0m in \\x1b[0;36msend_query\\x1b[1;34m(self, query)\\x1b[0m\\n\\x1b[0;32m    483\\x1b[0m         \\x1b[1;34m\"\"\"Initiates a search query (a ScholarQuery instance)\"\"\"\\x1b[0m\\x1b[1;33m\\x1b[0m\\x1b[0m\\n\\x1b[0;32m    484\\x1b[0m         \\x1b[0mself\\x1b[0m\\x1b[1;33m.\\x1b[0m\\x1b[0mtasks\\x1b[0m\\x1b[1;33m.\\x1b[0m\\x1b[0mappend\\x1b[0m\\x1b[1;33m(\\x1b[0m\\x1b[0mQueryTask\\x1b[0m\\x1b[1;33m(\\x1b[0m\\x1b[0mquery\\x1b[0m\\x1b[1;33m)\\x1b[0m\\x1b[1;33m)\\x1b[0m\\x1b[1;33m\\x1b[0m\\x1b[0m\\n\\x1b[1;32m--> 485\\x1b[1;33m         \\x1b[0mself\\x1b[0m\\x1b[1;33m.\\x1b[0m\\x1b[0mcontinue_tasks\\x1b[0m\\x1b[1;33m(\\x1b[0m\\x1b[1;33m)\\x1b[0m\\x1b[1;33m\\x1b[0m\\x1b[0m\\n\\x1b[0m\\x1b[0;32m    486\\x1b[0m         \\x1b[1;32mreturn\\x1b[0m \\x1b[0mself\\x1b[0m\\x1b[1;33m\\x1b[0m\\x1b[0m\\n\\x1b[0;32m    487\\x1b[0m \\x1b[1;33m\\x1b[0m\\x1b[0m\\n', '\\x1b[1;32mc:\\\\erica\\\\snowballing\\\\snowballing\\\\selenium_scholar.py\\x1b[0m in \\x1b[0;36mcontinue_tasks\\x1b[1;34m(self)\\x1b[0m\\n\\x1b[0;32m    469\\x1b[0m         \\x1b[1;32mwhile\\x1b[0m \\x1b[0mself\\x1b[0m\\x1b[1;33m.\\x1b[0m\\x1b[0mtasks\\x1b[0m\\x1b[1;33m:\\x1b[0m\\x1b[1;33m\\x1b[0m\\x1b[0m\\n\\x1b[0;32m    470\\x1b[0m             \\x1b[0mtask\\x1b[0m \\x1b[1;33m=\\x1b[0m \\x1b[0mself\\x1b[0m\\x1b[1;33m.\\x1b[0m\\x1b[0mtasks\\x1b[0m\\x1b[1;33m.\\x1b[0m\\x1b[0mpopleft\\x1b[0m\\x1b[1;33m(\\x1b[0m\\x1b[1;33m)\\x1b[0m\\x1b[1;33m\\x1b[0m\\x1b[0m\\n\\x1b[1;32m--> 471\\x1b[1;33m             \\x1b[0mtask\\x1b[0m\\x1b[1;33m.\\x1b[0m\\x1b[0mapply\\x1b[0m\\x1b[1;33m(\\x1b[0m\\x1b[0mself\\x1b[0m\\x1b[1;33m)\\x1b[0m\\x1b[1;33m\\x1b[0m\\x1b[0m\\n\\x1b[0m\\x1b[0;32m    472\\x1b[0m         \\x1b[1;32mif\\x1b[0m \\x1b[0mself\\x1b[0m\\x1b[1;33m.\\x1b[0m\\x1b[0mresult\\x1b[0m\\x1b[1;33m:\\x1b[0m\\x1b[1;33m\\x1b[0m\\x1b[0m\\n\\x1b[0;32m    473\\x1b[0m             \\x1b[0mself\\x1b[0m\\x1b[1;33m.\\x1b[0m\\x1b[0marticles\\x1b[0m \\x1b[1;33m=\\x1b[0m \\x1b[0mself\\x1b[0m\\x1b[1;33m.\\x1b[0m\\x1b[0mresult\\x1b[0m\\x1b[1;33m.\\x1b[0m\\x1b[0marticles\\x1b[0m\\x1b[1;33m\\x1b[0m\\x1b[0m\\n', \"\\x1b[1;32mc:\\\\erica\\\\snowballing\\\\snowballing\\\\selenium_scholar.py\\x1b[0m in \\x1b[0;36mapply\\x1b[1;34m(self, querier)\\x1b[0m\\n\\x1b[0;32m    152\\x1b[0m     \\x1b[1;32mdef\\x1b[0m \\x1b[0mapply\\x1b[0m\\x1b[1;33m(\\x1b[0m\\x1b[0mself\\x1b[0m\\x1b[1;33m,\\x1b[0m \\x1b[0mquerier\\x1b[0m\\x1b[1;33m)\\x1b[0m\\x1b[1;33m:\\x1b[0m\\x1b[1;33m\\x1b[0m\\x1b[0m\\n\\x1b[0;32m    153\\x1b[0m         \\x1b[1;32mif\\x1b[0m \\x1b[0mlen\\x1b[0m\\x1b[1;33m(\\x1b[0m\\x1b[0mself\\x1b[0m\\x1b[1;33m.\\x1b[0m\\x1b[0mresult\\x1b[0m\\x1b[1;33m.\\x1b[0m\\x1b[0marticles\\x1b[0m\\x1b[1;33m)\\x1b[0m \\x1b[1;33m<\\x1b[0m \\x1b[0mgetattr\\x1b[0m\\x1b[1;33m(\\x1b[0m\\x1b[0mself\\x1b[0m\\x1b[1;33m.\\x1b[0m\\x1b[0mresult\\x1b[0m\\x1b[1;33m.\\x1b[0m\\x1b[0mquery\\x1b[0m\\x1b[1;33m,\\x1b[0m \\x1b[1;34m'num_results'\\x1b[0m\\x1b[1;33m,\\x1b[0m \\x1b[1;36m10000\\x1b[0m\\x1b[1;33m)\\x1b[0m\\x1b[1;33m:\\x1b[0m\\x1b[1;33m\\x1b[0m\\x1b[0m\\n\\x1b[1;32m--> 154\\x1b[1;33m             \\x1b[0mself\\x1b[0m\\x1b[1;33m.\\x1b[0m\\x1b[0mget_citation_data\\x1b[0m\\x1b[1;33m(\\x1b[0m\\x1b[0mquerier\\x1b[0m\\x1b[1;33m)\\x1b[0m\\x1b[1;33m\\x1b[0m\\x1b[0m\\n\\x1b[0m\\x1b[0;32m    155\\x1b[0m             \\x1b[0mself\\x1b[0m\\x1b[1;33m.\\x1b[0m\\x1b[0mresult\\x1b[0m\\x1b[1;33m.\\x1b[0m\\x1b[0marticles\\x1b[0m\\x1b[1;33m.\\x1b[0m\\x1b[0mappend\\x1b[0m\\x1b[1;33m(\\x1b[0m\\x1b[0mself\\x1b[0m\\x1b[1;33m.\\x1b[0m\\x1b[0marticle\\x1b[0m\\x1b[1;33m)\\x1b[0m\\x1b[1;33m\\x1b[0m\\x1b[0m\\n\\x1b[0;32m    156\\x1b[0m \\x1b[1;33m\\x1b[0m\\x1b[0m\\n\", '\\x1b[1;32mc:\\\\erica\\\\snowballing\\\\snowballing\\\\selenium_scholar.py\\x1b[0m in \\x1b[0;36mget_citation_data\\x1b[1;34m(self, querier)\\x1b[0m\\n\\x1b[0;32m    141\\x1b[0m                                     \\x1b[0merr_msg\\x1b[0m\\x1b[1;33m=\\x1b[0m\\x1b[1;34m\\'requesting citation data failed\\'\\x1b[0m\\x1b[1;33m,\\x1b[0m\\x1b[1;33m\\x1b[0m\\x1b[0m\\n\\x1b[0;32m    142\\x1b[0m                                     condition=(By.TAG_NAME, \\'pre\\'))\\n\\x1b[1;32m--> 143\\x1b[1;33m         \\x1b[0msoup\\x1b[0m \\x1b[1;33m=\\x1b[0m \\x1b[0mBeautifulSoup\\x1b[0m\\x1b[1;33m(\\x1b[0m\\x1b[0mdata\\x1b[0m\\x1b[1;33m,\\x1b[0m \\x1b[1;34m\"html.parser\"\\x1b[0m\\x1b[1;33m)\\x1b[0m\\x1b[1;33m\\x1b[0m\\x1b[0m\\n\\x1b[0m\\x1b[0;32m    144\\x1b[0m         \\x1b[0mdata\\x1b[0m \\x1b[1;33m=\\x1b[0m \\x1b[0msoup\\x1b[0m\\x1b[1;33m.\\x1b[0m\\x1b[0mtext\\x1b[0m\\x1b[1;33m\\x1b[0m\\x1b[0m\\n\\x1b[0;32m    145\\x1b[0m         \\x1b[1;32mif\\x1b[0m \\x1b[0mdata\\x1b[0m \\x1b[1;32mis\\x1b[0m \\x1b[1;32mNone\\x1b[0m\\x1b[1;33m:\\x1b[0m\\x1b[1;33m\\x1b[0m\\x1b[0m\\n', \"\\x1b[1;32mC:\\\\ProgramData\\\\Anaconda3\\\\lib\\\\site-packages\\\\bs4\\\\__init__.py\\x1b[0m in \\x1b[0;36m__init__\\x1b[1;34m(self, markup, features, builder, parse_only, from_encoding, exclude_encodings, **kwargs)\\x1b[0m\\n\\x1b[0;32m    190\\x1b[0m         \\x1b[1;32mif\\x1b[0m \\x1b[0mhasattr\\x1b[0m\\x1b[1;33m(\\x1b[0m\\x1b[0mmarkup\\x1b[0m\\x1b[1;33m,\\x1b[0m \\x1b[1;34m'read'\\x1b[0m\\x1b[1;33m)\\x1b[0m\\x1b[1;33m:\\x1b[0m        \\x1b[1;31m# It's a file-type object.\\x1b[0m\\x1b[1;33m\\x1b[0m\\x1b[0m\\n\\x1b[0;32m    191\\x1b[0m             \\x1b[0mmarkup\\x1b[0m \\x1b[1;33m=\\x1b[0m \\x1b[0mmarkup\\x1b[0m\\x1b[1;33m.\\x1b[0m\\x1b[0mread\\x1b[0m\\x1b[1;33m(\\x1b[0m\\x1b[1;33m)\\x1b[0m\\x1b[1;33m\\x1b[0m\\x1b[0m\\n\\x1b[1;32m--> 192\\x1b[1;33m         elif len(markup) <= 256 and (\\n\\x1b[0m\\x1b[0;32m    193\\x1b[0m                 \\x1b[1;33m(\\x1b[0m\\x1b[0misinstance\\x1b[0m\\x1b[1;33m(\\x1b[0m\\x1b[0mmarkup\\x1b[0m\\x1b[1;33m,\\x1b[0m \\x1b[0mbytes\\x1b[0m\\x1b[1;33m)\\x1b[0m \\x1b[1;32mand\\x1b[0m \\x1b[1;32mnot\\x1b[0m \\x1b[1;34mb'<'\\x1b[0m \\x1b[1;32min\\x1b[0m \\x1b[0mmarkup\\x1b[0m\\x1b[1;33m)\\x1b[0m\\x1b[1;33m\\x1b[0m\\x1b[0m\\n\\x1b[0;32m    194\\x1b[0m                 \\x1b[1;32mor\\x1b[0m \\x1b[1;33m(\\x1b[0m\\x1b[0misinstance\\x1b[0m\\x1b[1;33m(\\x1b[0m\\x1b[0mmarkup\\x1b[0m\\x1b[1;33m,\\x1b[0m \\x1b[0mstr\\x1b[0m\\x1b[1;33m)\\x1b[0m \\x1b[1;32mand\\x1b[0m \\x1b[1;32mnot\\x1b[0m \\x1b[1;34m'<'\\x1b[0m \\x1b[1;32min\\x1b[0m \\x1b[0mmarkup\\x1b[0m\\x1b[1;33m)\\x1b[0m\\x1b[1;33m\\x1b[0m\\x1b[0m\\n\", \"\\x1b[1;31mTypeError\\x1b[0m: object of type 'NoneType' has no len()\"]}))))), _titles={'0': 'Page', '1': 'Article'})"
      ]
     },
     "metadata": {},
     "output_type": "display_data"
    },
    {
     "data": {
      "application/javascript": [
       "$('span:contains(\"# Temp\")').closest('.cell').remove();"
      ],
      "text/plain": [
       "<IPython.core.display.Javascript object>"
      ]
     },
     "metadata": {},
     "output_type": "display_data"
    },
    {
     "data": {
      "application/javascript": [
       "\n",
       "        $('span:contains(\"# Temp\")').closest('.cell').remove();\n",
       "        var code = IPython.notebook.insert_cell_below('code');\n",
       "        code.set_text(atob(\"IyBUZW1wCmluc2VydCgnJycKY29sb21vMjAxMWEgPSBEQihXb3JrVW5yZWxhdGVkKAogICAgMjAxMSwgIlNvZnR3YXJlIHByb2R1Y3QgZXZvbHV0aW9uIGZvciBpbnRlbGxlY3R1YWwgY2FwaXRhbCBtYW5hZ2VtZW50OiBUaGUgY2FzZSBvZiBNZXRhNCBQZW9wbGVOZXQiLAogICAgZGlzcGxheT0iY29sb21vIiwKICAgIGF1dGhvcnM9IkNvbG9tby1QYWxhY2lvcywgUmljYXJkbyBhbmQgRmVybmFuZGVzLCBFZHVhcmRvIGFuZCBTb3RvLUFjb3N0YSwgUGVkcm8gYW5kIFNhYmJhZ2gsIE1hcmMiLAogICAgcGxhY2U9RkFLRSwKICAgIHBwPSIzOTUtLTM5OSIsCiAgICBlbnRyeXR5cGU9ImFydGljbGUiLAogICAgdm9sdW1lPSIzMSIsCiAgICBudW1iZXI9IjQiLAogICAgcHVibGlzaGVyPSJFbHNldmllciIsCiAgICBJRD0iY29sb21vMjAxMXNvZnR3YXJlIiwKICAgIGNsdXN0ZXJfaWQ9Ijg3MDA3MDY0MDEwMDA5MzIzMjMiLAogICAgc2Nob2xhcj0iaHR0cDovL3NjaG9sYXIuZ29vZ2xlLmNvbS9zY2hvbGFyP2NpdGVzPTg3MDA3MDY0MDEwMDA5MzIzMjMmYXNfc2R0PTIwMDUmc2Npb2R0PTAsNSZobD1lbiIsCiAgICBwbGFjZXg9IkludGVybmF0aW9uYWwgSm91cm5hbCBvZiBJbmZvcm1hdGlvbiBNYW5hZ2VtZW50IiwKKSkKCkRCKENpdGF0aW9uKAogICAgY29sb21vMjAxMWEsIHRyaWVuZWtlbnMyMDA5YSwgcmVmPSIiLAogICAgY29udGV4dHM9WwoKICAgIF0sCikpCgonJycsIGNpdGF0aW9ucz0ndHJpZW5la2VuczIwMDlhJyk7\"));\n",
       "    "
      ],
      "text/plain": [
       "<IPython.core.display.Javascript object>"
      ]
     },
     "metadata": {},
     "output_type": "display_data"
    },
    {
     "data": {
      "application/javascript": [
       "$('span:contains(\"# Temp\")').closest('.cell').remove();"
      ],
      "text/plain": [
       "<IPython.core.display.Javascript object>"
      ]
     },
     "metadata": {},
     "output_type": "display_data"
    },
    {
     "data": {
      "application/javascript": [
       "\n",
       "        $('span:contains(\"# Temp\")').closest('.cell').remove();\n",
       "        var code = IPython.notebook.insert_cell_below('code');\n",
       "        code.set_text(atob(\"IyBUZW1wCmluc2VydCgnJycKY29sb21vMjAxMWEgPSBEQihXb3JrVW5yZWxhdGVkKAogICAgMjAxMSwgIlNvZnR3YXJlIHByb2R1Y3QgZXZvbHV0aW9uIGZvciBpbnRlbGxlY3R1YWwgY2FwaXRhbCBtYW5hZ2VtZW50OiBUaGUgY2FzZSBvZiBNZXRhNCBQZW9wbGVOZXQiLAogICAgZGlzcGxheT0iY29sb21vIiwKICAgIGF1dGhvcnM9IkNvbG9tby1QYWxhY2lvcywgUmljYXJkbyBhbmQgRmVybmFuZGVzLCBFZHVhcmRvIGFuZCBTb3RvLUFjb3N0YSwgUGVkcm8gYW5kIFNhYmJhZ2gsIE1hcmMiLAogICAgcGxhY2U9RkFLRSwKICAgIHBwPSIzOTUtLTM5OSIsCiAgICBlbnRyeXR5cGU9ImFydGljbGUiLAogICAgdm9sdW1lPSIzMSIsCiAgICBudW1iZXI9IjQiLAogICAgcHVibGlzaGVyPSJFbHNldmllciIsCiAgICBJRD0iY29sb21vMjAxMXNvZnR3YXJlIiwKICAgIGNsdXN0ZXJfaWQ9Ijg3MDA3MDY0MDEwMDA5MzIzMjMiLAogICAgc2Nob2xhcj0iaHR0cDovL3NjaG9sYXIuZ29vZ2xlLmNvbS9zY2hvbGFyP2NpdGVzPTg3MDA3MDY0MDEwMDA5MzIzMjMmYXNfc2R0PTIwMDUmc2Npb2R0PTAsNSZobD1lbiIsCiAgICBwbGFjZXg9IkludGVybmF0aW9uYWwgSm91cm5hbCBvZiBJbmZvcm1hdGlvbiBNYW5hZ2VtZW50IiwKKSkKCkRCKENpdGF0aW9uKAogICAgY29sb21vMjAxMWEsIHRyaWVuZWtlbnMyMDA5YSwgcmVmPSIiLAogICAgY29udGV4dHM9WwoKICAgIF0sCikpCgonJycsIGNpdGF0aW9ucz0ndHJpZW5la2VuczIwMDlhJyk7\"));\n",
       "    "
      ],
      "text/plain": [
       "<IPython.core.display.Javascript object>"
      ]
     },
     "metadata": {},
     "output_type": "display_data"
    },
    {
     "data": {
      "application/javascript": [
       "$('span:contains(\"# Temp\")').closest('.cell').remove();"
      ],
      "text/plain": [
       "<IPython.core.display.Javascript object>"
      ]
     },
     "metadata": {},
     "output_type": "display_data"
    },
    {
     "data": {
      "application/javascript": [
       "\n",
       "        $('span:contains(\"# Temp\")').closest('.cell').remove();\n",
       "        var code = IPython.notebook.insert_cell_below('code');\n",
       "        code.set_text(atob(\"IyBUZW1wCmluc2VydCgnJycKY29sb21vMjAxMWEgPSBEQihXb3JrVW5yZWxhdGVkKAogICAgMjAxMSwgIlNvZnR3YXJlIHByb2R1Y3QgZXZvbHV0aW9uIGZvciBpbnRlbGxlY3R1YWwgY2FwaXRhbCBtYW5hZ2VtZW50OiBUaGUgY2FzZSBvZiBNZXRhNCBQZW9wbGVOZXQiLAogICAgZGlzcGxheT0iY29sb21vIiwKICAgIGF1dGhvcnM9IkNvbG9tby1QYWxhY2lvcywgUmljYXJkbyBhbmQgRmVybmFuZGVzLCBFZHVhcmRvIGFuZCBTb3RvLUFjb3N0YSwgUGVkcm8gYW5kIFNhYmJhZ2gsIE1hcmMiLAogICAgcGxhY2U9RkFLRSwKICAgIHBwPSIzOTUtLTM5OSIsCiAgICBlbnRyeXR5cGU9ImFydGljbGUiLAogICAgdm9sdW1lPSIzMSIsCiAgICBudW1iZXI9IjQiLAogICAgcHVibGlzaGVyPSJFbHNldmllciIsCiAgICBJRD0iY29sb21vMjAxMXNvZnR3YXJlIiwKICAgIGNsdXN0ZXJfaWQ9Ijg3MDA3MDY0MDEwMDA5MzIzMjMiLAogICAgc2Nob2xhcj0iaHR0cDovL3NjaG9sYXIuZ29vZ2xlLmNvbS9zY2hvbGFyP2NpdGVzPTg3MDA3MDY0MDEwMDA5MzIzMjMmYXNfc2R0PTIwMDUmc2Npb2R0PTAsNSZobD1lbiIsCiAgICBwbGFjZXg9IkludGVybmF0aW9uYWwgSm91cm5hbCBvZiBJbmZvcm1hdGlvbiBNYW5hZ2VtZW50IiwKKSkKCkRCKENpdGF0aW9uKAogICAgY29sb21vMjAxMWEsIHRyaWVuZWtlbnMyMDA5YSwgcmVmPSIiLAogICAgY29udGV4dHM9WwoKICAgIF0sCikpCgonJycsIGNpdGF0aW9ucz0ndHJpZW5la2VuczIwMDlhJyk7\"));\n",
       "    "
      ],
      "text/plain": [
       "<IPython.core.display.Javascript object>"
      ]
     },
     "metadata": {},
     "output_type": "display_data"
    },
    {
     "data": {
      "application/javascript": [
       "$('span:contains(\"# Temp\")').closest('.cell').remove();"
      ],
      "text/plain": [
       "<IPython.core.display.Javascript object>"
      ]
     },
     "metadata": {},
     "output_type": "display_data"
    },
    {
     "data": {
      "application/javascript": [
       "\n",
       "        $('span:contains(\"# Temp\")').closest('.cell').remove();\n",
       "        var code = IPython.notebook.insert_cell_below('code');\n",
       "        code.set_text(atob(\"IyBUZW1wCmluc2VydCgnJycKY29sb21vMjAxMWEgPSBEQihXb3JrVW5yZWxhdGVkKAogICAgMjAxMSwgIlNvZnR3YXJlIHByb2R1Y3QgZXZvbHV0aW9uIGZvciBpbnRlbGxlY3R1YWwgY2FwaXRhbCBtYW5hZ2VtZW50OiBUaGUgY2FzZSBvZiBNZXRhNCBQZW9wbGVOZXQiLAogICAgZGlzcGxheT0iY29sb21vIiwKICAgIGF1dGhvcnM9IkNvbG9tby1QYWxhY2lvcywgUmljYXJkbyBhbmQgRmVybmFuZGVzLCBFZHVhcmRvIGFuZCBTb3RvLUFjb3N0YSwgUGVkcm8gYW5kIFNhYmJhZ2gsIE1hcmMiLAogICAgcGxhY2U9RkFLRSwKICAgIHBwPSIzOTUtLTM5OSIsCiAgICBlbnRyeXR5cGU9ImFydGljbGUiLAogICAgdm9sdW1lPSIzMSIsCiAgICBudW1iZXI9IjQiLAogICAgcHVibGlzaGVyPSJFbHNldmllciIsCiAgICBJRD0iY29sb21vMjAxMXNvZnR3YXJlIiwKICAgIGNsdXN0ZXJfaWQ9Ijg3MDA3MDY0MDEwMDA5MzIzMjMiLAogICAgc2Nob2xhcj0iaHR0cDovL3NjaG9sYXIuZ29vZ2xlLmNvbS9zY2hvbGFyP2NpdGVzPTg3MDA3MDY0MDEwMDA5MzIzMjMmYXNfc2R0PTIwMDUmc2Npb2R0PTAsNSZobD1lbiIsCiAgICBwbGFjZXg9IkludGVybmF0aW9uYWwgSm91cm5hbCBvZiBJbmZvcm1hdGlvbiBNYW5hZ2VtZW50IiwKKSkKCkRCKENpdGF0aW9uKAogICAgY29sb21vMjAxMWEsIHRyaWVuZWtlbnMyMDA5YSwgcmVmPSIiLAogICAgY29udGV4dHM9WwoKICAgIF0sCikpCgonJycsIGNpdGF0aW9ucz0ndHJpZW5la2VuczIwMDlhJyk7\"));\n",
       "    "
      ],
      "text/plain": [
       "<IPython.core.display.Javascript object>"
      ]
     },
     "metadata": {},
     "output_type": "display_data"
    },
    {
     "data": {
      "application/javascript": [
       "$('span:contains(\"# Temp\")').closest('.cell').remove();"
      ],
      "text/plain": [
       "<IPython.core.display.Javascript object>"
      ]
     },
     "metadata": {},
     "output_type": "display_data"
    },
    {
     "data": {
      "application/javascript": [
       "\n",
       "        $('span:contains(\"# Temp\")').closest('.cell').remove();\n",
       "        var code = IPython.notebook.insert_cell_below('code');\n",
       "        code.set_text(atob(\"IyBUZW1wCmluc2VydCgnJycKY29sb21vMjAxMWEgPSBEQihXb3JrVW5yZWxhdGVkKAogICAgMjAxMSwgIlNvZnR3YXJlIHByb2R1Y3QgZXZvbHV0aW9uIGZvciBpbnRlbGxlY3R1YWwgY2FwaXRhbCBtYW5hZ2VtZW50OiBUaGUgY2FzZSBvZiBNZXRhNCBQZW9wbGVOZXQiLAogICAgZGlzcGxheT0iY29sb21vIiwKICAgIGF1dGhvcnM9IkNvbG9tby1QYWxhY2lvcywgUmljYXJkbyBhbmQgRmVybmFuZGVzLCBFZHVhcmRvIGFuZCBTb3RvLUFjb3N0YSwgUGVkcm8gYW5kIFNhYmJhZ2gsIE1hcmMiLAogICAgcGxhY2U9RkFLRSwKICAgIHBwPSIzOTUtLTM5OSIsCiAgICBlbnRyeXR5cGU9ImFydGljbGUiLAogICAgdm9sdW1lPSIzMSIsCiAgICBudW1iZXI9IjQiLAogICAgcHVibGlzaGVyPSJFbHNldmllciIsCiAgICBJRD0iY29sb21vMjAxMXNvZnR3YXJlIiwKICAgIGNsdXN0ZXJfaWQ9Ijg3MDA3MDY0MDEwMDA5MzIzMjMiLAogICAgc2Nob2xhcj0iaHR0cDovL3NjaG9sYXIuZ29vZ2xlLmNvbS9zY2hvbGFyP2NpdGVzPTg3MDA3MDY0MDEwMDA5MzIzMjMmYXNfc2R0PTIwMDUmc2Npb2R0PTAsNSZobD1lbiIsCiAgICBwbGFjZXg9IkludGVybmF0aW9uYWwgSm91cm5hbCBvZiBJbmZvcm1hdGlvbiBNYW5hZ2VtZW50IiwKKSkKCkRCKENpdGF0aW9uKAogICAgY29sb21vMjAxMWEsIHRyaWVuZWtlbnMyMDA5YSwgcmVmPSIiLAogICAgY29udGV4dHM9WwoKICAgIF0sCikpCgonJycsIGNpdGF0aW9ucz0ndHJpZW5la2VuczIwMDlhJyk7\"));\n",
       "    "
      ],
      "text/plain": [
       "<IPython.core.display.Javascript object>"
      ]
     },
     "metadata": {},
     "output_type": "display_data"
    },
    {
     "data": {
      "application/javascript": [
       "$('span:contains(\"# Temp\")').closest('.cell').remove();"
      ],
      "text/plain": [
       "<IPython.core.display.Javascript object>"
      ]
     },
     "metadata": {},
     "output_type": "display_data"
    },
    {
     "data": {
      "application/javascript": [
       "\n",
       "        $('span:contains(\"# Temp\")').closest('.cell').remove();\n",
       "        var code = IPython.notebook.insert_cell_below('code');\n",
       "        code.set_text(atob(\"IyBUZW1wCmluc2VydCgnJycKbGVlMjAxMWEgPSBEQihXb3JrVW5yZWxhdGVkKAogICAgMjAxMSwgIkRldGVybWluYW50cyBvZiBrbm93bGVkZ2UgbWFwcGluZyBhZG9wdGlvbiBpbiBzb2Z0d2FyZSBtYWludGVuYW5jZSIsCiAgICBkaXNwbGF5PSJsZWUiLAogICAgYXV0aG9ycz0iTGVlLCBKb3NlcGggSyIsCiAgICBwbGFjZT1GQUtFLAogICAgZW50cnl0eXBlPSJhcnRpY2xlIiwKICAgIElEPSJsZWUyMDExZGV0ZXJtaW5hbnRzIiwKICAgIHBsYWNleD0iIiwKKSkKCkRCKENpdGF0aW9uKAogICAgbGVlMjAxMWEsIHRyaWVuZWtlbnMyMDA5YSwgcmVmPSIiLAogICAgY29udGV4dHM9WwoKICAgIF0sCikpCgonJycsIGNpdGF0aW9ucz0ndHJpZW5la2VuczIwMDlhJyk7\"));\n",
       "    "
      ],
      "text/plain": [
       "<IPython.core.display.Javascript object>"
      ]
     },
     "metadata": {},
     "output_type": "display_data"
    },
    {
     "data": {
      "application/javascript": [
       "$('span:contains(\"# Temp\")').closest('.cell').remove();"
      ],
      "text/plain": [
       "<IPython.core.display.Javascript object>"
      ]
     },
     "metadata": {},
     "output_type": "display_data"
    },
    {
     "data": {
      "application/javascript": [
       "\n",
       "        $('span:contains(\"# Temp\")').closest('.cell').remove();\n",
       "        var code = IPython.notebook.insert_cell_below('code');\n",
       "        code.set_text(atob(\"IyBUZW1wCmluc2VydCgnJycKbGVlMjAxMWEgPSBEQihXb3JrVW5yZWxhdGVkKAogICAgMjAxMSwgIkRldGVybWluYW50cyBvZiBrbm93bGVkZ2UgbWFwcGluZyBhZG9wdGlvbiBpbiBzb2Z0d2FyZSBtYWludGVuYW5jZSIsCiAgICBkaXNwbGF5PSJsZWUiLAogICAgYXV0aG9ycz0iTGVlLCBKb3NlcGggSyIsCiAgICBwbGFjZT1GQUtFLAogICAgZW50cnl0eXBlPSJhcnRpY2xlIiwKICAgIElEPSJsZWUyMDExZGV0ZXJtaW5hbnRzIiwKICAgIHBsYWNleD0iIiwKKSkKCkRCKENpdGF0aW9uKAogICAgbGVlMjAxMWEsIHRyaWVuZWtlbnMyMDA5YSwgcmVmPSIiLAogICAgY29udGV4dHM9WwoKICAgIF0sCikpCgonJycsIGNpdGF0aW9ucz0ndHJpZW5la2VuczIwMDlhJyk7\"));\n",
       "    "
      ],
      "text/plain": [
       "<IPython.core.display.Javascript object>"
      ]
     },
     "metadata": {},
     "output_type": "display_data"
    },
    {
     "data": {
      "application/javascript": [
       "$('span:contains(\"# Temp\")').closest('.cell').remove();"
      ],
      "text/plain": [
       "<IPython.core.display.Javascript object>"
      ]
     },
     "metadata": {},
     "output_type": "display_data"
    },
    {
     "data": {
      "application/javascript": [
       "\n",
       "        $('span:contains(\"# Temp\")').closest('.cell').remove();\n",
       "        var code = IPython.notebook.insert_cell_below('code');\n",
       "        code.set_text(atob(\"IyBUZW1wCmluc2VydCgnJycKY29sb21vMjAxMWEgPSBEQihXb3JrVW5yZWxhdGVkKAogICAgMjAxMSwgIlNvZnR3YXJlIHByb2R1Y3QgZXZvbHV0aW9uIGZvciBpbnRlbGxlY3R1YWwgY2FwaXRhbCBtYW5hZ2VtZW50OiBUaGUgY2FzZSBvZiBNZXRhNCBQZW9wbGVOZXQiLAogICAgZGlzcGxheT0iY29sb21vIiwKICAgIGF1dGhvcnM9IkNvbG9tby1QYWxhY2lvcywgUmljYXJkbyBhbmQgRmVybmFuZGVzLCBFZHVhcmRvIGFuZCBTb3RvLUFjb3N0YSwgUGVkcm8gYW5kIFNhYmJhZ2gsIE1hcmMiLAogICAgcGxhY2U9RkFLRSwKICAgIHBwPSIzOTUtLTM5OSIsCiAgICBlbnRyeXR5cGU9ImFydGljbGUiLAogICAgdm9sdW1lPSIzMSIsCiAgICBudW1iZXI9IjQiLAogICAgcHVibGlzaGVyPSJFbHNldmllciIsCiAgICBJRD0iY29sb21vMjAxMXNvZnR3YXJlIiwKICAgIGNsdXN0ZXJfaWQ9Ijg3MDA3MDY0MDEwMDA5MzIzMjMiLAogICAgc2Nob2xhcj0iaHR0cDovL3NjaG9sYXIuZ29vZ2xlLmNvbS9zY2hvbGFyP2NpdGVzPTg3MDA3MDY0MDEwMDA5MzIzMjMmYXNfc2R0PTIwMDUmc2Npb2R0PTAsNSZobD1lbiIsCiAgICBwbGFjZXg9IkludGVybmF0aW9uYWwgSm91cm5hbCBvZiBJbmZvcm1hdGlvbiBNYW5hZ2VtZW50IiwKKSkKCkRCKENpdGF0aW9uKAogICAgY29sb21vMjAxMWEsIHRyaWVuZWtlbnMyMDA5YSwgcmVmPSIiLAogICAgY29udGV4dHM9WwoKICAgIF0sCikpCgonJycsIGNpdGF0aW9ucz0ndHJpZW5la2VuczIwMDlhJyk7\"));\n",
       "    "
      ],
      "text/plain": [
       "<IPython.core.display.Javascript object>"
      ]
     },
     "metadata": {},
     "output_type": "display_data"
    },
    {
     "data": {
      "application/javascript": [
       "$('span:contains(\"# Temp\")').closest('.cell').remove();"
      ],
      "text/plain": [
       "<IPython.core.display.Javascript object>"
      ]
     },
     "metadata": {},
     "output_type": "display_data"
    },
    {
     "data": {
      "application/javascript": [
       "\n",
       "        $('span:contains(\"# Temp\")').closest('.cell').remove();\n",
       "        var code = IPython.notebook.insert_cell_below('code');\n",
       "        code.set_text(atob(\"IyBUZW1wCmluc2VydCgnJycKaGFpZ2gyMDEwYSA9IERCKFdvcmtVbnJlbGF0ZWQoCiAgICAyMDEwLCAiU29mdHdhcmUgcXVhbGl0eSwgbm9uLWZ1bmN0aW9uYWwgc29mdHdhcmUgcmVxdWlyZW1lbnRzIGFuZCBJVC1idXNpbmVzcyBhbGlnbm1lbnQiLAogICAgZGlzcGxheT0iaGFpZ2giLAogICAgYXV0aG9ycz0iSGFpZ2gsIE1hcmlhIiwKICAgIHBsYWNlPVNRSiwKICAgIHBwPSIzNjEtLTM4NSIsCiAgICBlbnRyeXR5cGU9ImFydGljbGUiLAogICAgdm9sdW1lPSIxOCIsCiAgICBudW1iZXI9IjMiLAogICAgcHVibGlzaGVyPSJTcHJpbmdlciIsCiAgICBJRD0iaGFpZ2gyMDEwc29mdHdhcmUiLAogICAgY2x1c3Rlcl9pZD0iMTI4OTQ3NTk4MTA3NTA0MjI2NjEiLAogICAgc2Nob2xhcj0iaHR0cDovL3NjaG9sYXIuZ29vZ2xlLmNvbS9zY2hvbGFyP2NpdGVzPTEyODk0NzU5ODEwNzUwNDIyNjYxJmFzX3NkdD0yMDA1JnNjaW9kdD0wLDUmaGw9ZW4iLAogICAgcGxhY2V4PSJTb2Z0d2FyZSBRdWFsaXR5IEpvdXJuYWwiLAopKQoKREIoQ2l0YXRpb24oCiAgICBoYWlnaDIwMTBhLCB0cmllbmVrZW5zMjAwOWEsIHJlZj0iIiwKICAgIGNvbnRleHRzPVsKCiAgICBdLAopKQoKJycnLCBjaXRhdGlvbnM9J3RyaWVuZWtlbnMyMDA5YScpOw==\"));\n",
       "    "
      ],
      "text/plain": [
       "<IPython.core.display.Javascript object>"
      ]
     },
     "metadata": {},
     "output_type": "display_data"
    },
    {
     "data": {
      "application/javascript": [
       "$('span:contains(\"# Temp\")').closest('.cell').remove();"
      ],
      "text/plain": [
       "<IPython.core.display.Javascript object>"
      ]
     },
     "metadata": {},
     "output_type": "display_data"
    },
    {
     "data": {
      "application/javascript": [
       "\n",
       "        $('span:contains(\"# Temp\")').closest('.cell').remove();\n",
       "        var code = IPython.notebook.insert_cell_below('code');\n",
       "        code.set_text(atob(\"IyBUZW1wCmluc2VydCgnJycKaGFpZ2gyMDEwYSA9IERCKFdvcmtVbnJlbGF0ZWQoCiAgICAyMDEwLCAiU29mdHdhcmUgcXVhbGl0eSwgbm9uLWZ1bmN0aW9uYWwgc29mdHdhcmUgcmVxdWlyZW1lbnRzIGFuZCBJVC1idXNpbmVzcyBhbGlnbm1lbnQiLAogICAgZGlzcGxheT0iaGFpZ2giLAogICAgYXV0aG9ycz0iSGFpZ2gsIE1hcmlhIiwKICAgIHBsYWNlPVNRSiwKICAgIHBwPSIzNjEtLTM4NSIsCiAgICBlbnRyeXR5cGU9ImFydGljbGUiLAogICAgdm9sdW1lPSIxOCIsCiAgICBudW1iZXI9IjMiLAogICAgcHVibGlzaGVyPSJTcHJpbmdlciIsCiAgICBJRD0iaGFpZ2gyMDEwc29mdHdhcmUiLAogICAgY2x1c3Rlcl9pZD0iMTI4OTQ3NTk4MTA3NTA0MjI2NjEiLAogICAgc2Nob2xhcj0iaHR0cDovL3NjaG9sYXIuZ29vZ2xlLmNvbS9zY2hvbGFyP2NpdGVzPTEyODk0NzU5ODEwNzUwNDIyNjYxJmFzX3NkdD0yMDA1JnNjaW9kdD0wLDUmaGw9ZW4iLAogICAgcGxhY2V4PSJTb2Z0d2FyZSBRdWFsaXR5IEpvdXJuYWwiLAopKQoKREIoQ2l0YXRpb24oCiAgICBoYWlnaDIwMTBhLCB0cmllbmVrZW5zMjAwOWEsIHJlZj0iIiwKICAgIGNvbnRleHRzPVsKCiAgICBdLAopKQoKJycnLCBjaXRhdGlvbnM9J3RyaWVuZWtlbnMyMDA5YScpOw==\"));\n",
       "    "
      ],
      "text/plain": [
       "<IPython.core.display.Javascript object>"
      ]
     },
     "metadata": {},
     "output_type": "display_data"
    },
    {
     "data": {
      "application/javascript": [
       "$('span:contains(\"# Temp\")').closest('.cell').remove();"
      ],
      "text/plain": [
       "<IPython.core.display.Javascript object>"
      ]
     },
     "metadata": {},
     "output_type": "display_data"
    },
    {
     "data": {
      "application/javascript": [
       "\n",
       "        $('span:contains(\"# Temp\")').closest('.cell').remove();\n",
       "        var code = IPython.notebook.insert_cell_below('code');\n",
       "        code.set_text(atob(\"IyBUZW1wCmluc2VydCgnJycKbGVlMjAxM2EgPSBEQihXb3JrVW5yZWxhdGVkKAogICAgMjAxMywgIktub3dsZWRnZSBtYXBwaW5nOiBlbmNvdXJhZ2VtZW50cyBhbmQgaW1wZWRpbWVudHMgdG8gYWRvcHRpb24iLAogICAgZGlzcGxheT0ibGVlIiwKICAgIGF1dGhvcnM9IkxlZSwgSm9zZXBoIGFuZCBGaW5rLCBEaWV0ZXIiLAogICAgcGxhY2U9RkFLRSwKICAgIHBwPSIxNi0tMjgiLAogICAgZW50cnl0eXBlPSJhcnRpY2xlIiwKICAgIHZvbHVtZT0iMTciLAogICAgbnVtYmVyPSIxIiwKICAgIHB1Ymxpc2hlcj0iRW1lcmFsZCBHcm91cCBQdWJsaXNoaW5nIExpbWl0ZWQiLAogICAgSUQ9ImxlZTIwMTNrbm93bGVkZ2UiLAogICAgY2x1c3Rlcl9pZD0iMTc2NzI4NjUxNjIyMjA5MDg4MjIiLAogICAgc2Nob2xhcj0iaHR0cDovL3NjaG9sYXIuZ29vZ2xlLmNvbS9zY2hvbGFyP2NpdGVzPTE3NjcyODY1MTYyMjIwOTA4ODIyJmFzX3NkdD0yMDA1JnNjaW9kdD0wLDUmaGw9ZW4iLAogICAgcGxhY2V4PSJKb3VybmFsIG9mIEtub3dsZWRnZSBNYW5hZ2VtZW50IiwKKSkKCkRCKENpdGF0aW9uKAogICAgbGVlMjAxM2EsIHRyaWVuZWtlbnMyMDA5YSwgcmVmPSIiLAogICAgY29udGV4dHM9WwoKICAgIF0sCikpCgonJycsIGNpdGF0aW9ucz0ndHJpZW5la2VuczIwMDlhJyk7\"));\n",
       "    "
      ],
      "text/plain": [
       "<IPython.core.display.Javascript object>"
      ]
     },
     "metadata": {},
     "output_type": "display_data"
    },
    {
     "data": {
      "application/javascript": [
       "$('span:contains(\"# Temp\")').closest('.cell').remove();"
      ],
      "text/plain": [
       "<IPython.core.display.Javascript object>"
      ]
     },
     "metadata": {},
     "output_type": "display_data"
    },
    {
     "data": {
      "application/javascript": [
       "\n",
       "        $('span:contains(\"# Temp\")').closest('.cell').remove();\n",
       "        var code = IPython.notebook.insert_cell_below('code');\n",
       "        code.set_text(atob(\"IyBUZW1wCmluc2VydCgnJycKbGVlMjAxM2EgPSBEQihXb3JrVW5yZWxhdGVkKAogICAgMjAxMywgIktub3dsZWRnZSBtYXBwaW5nOiBlbmNvdXJhZ2VtZW50cyBhbmQgaW1wZWRpbWVudHMgdG8gYWRvcHRpb24iLAogICAgZGlzcGxheT0ibGVlIiwKICAgIGF1dGhvcnM9IkxlZSwgSm9zZXBoIGFuZCBGaW5rLCBEaWV0ZXIiLAogICAgcGxhY2U9RkFLRSwKICAgIHBwPSIxNi0tMjgiLAogICAgZW50cnl0eXBlPSJhcnRpY2xlIiwKICAgIHZvbHVtZT0iMTciLAogICAgbnVtYmVyPSIxIiwKICAgIHB1Ymxpc2hlcj0iRW1lcmFsZCBHcm91cCBQdWJsaXNoaW5nIExpbWl0ZWQiLAogICAgSUQ9ImxlZTIwMTNrbm93bGVkZ2UiLAogICAgY2x1c3Rlcl9pZD0iMTc2NzI4NjUxNjIyMjA5MDg4MjIiLAogICAgc2Nob2xhcj0iaHR0cDovL3NjaG9sYXIuZ29vZ2xlLmNvbS9zY2hvbGFyP2NpdGVzPTE3NjcyODY1MTYyMjIwOTA4ODIyJmFzX3NkdD0yMDA1JnNjaW9kdD0wLDUmaGw9ZW4iLAogICAgcGxhY2V4PSJKb3VybmFsIG9mIEtub3dsZWRnZSBNYW5hZ2VtZW50IiwKKSkKCkRCKENpdGF0aW9uKAogICAgbGVlMjAxM2EsIHRyaWVuZWtlbnMyMDA5YSwgcmVmPSIiLAogICAgY29udGV4dHM9WwoKICAgIF0sCikpCgonJycsIGNpdGF0aW9ucz0ndHJpZW5la2VuczIwMDlhJyk7\"));\n",
       "    "
      ],
      "text/plain": [
       "<IPython.core.display.Javascript object>"
      ]
     },
     "metadata": {},
     "output_type": "display_data"
    },
    {
     "data": {
      "application/javascript": [
       "$('span:contains(\"# Temp\")').closest('.cell').remove();"
      ],
      "text/plain": [
       "<IPython.core.display.Javascript object>"
      ]
     },
     "metadata": {},
     "output_type": "display_data"
    },
    {
     "data": {
      "application/javascript": [
       "\n",
       "        $('span:contains(\"# Temp\")').closest('.cell').remove();\n",
       "        var code = IPython.notebook.insert_cell_below('code');\n",
       "        code.set_text(atob(\"IyBUZW1wCmluc2VydCgnJycKY29sb21vMjAxMmEgPSBEQihXb3JrVW5yZWxhdGVkKAogICAgMjAxMiwgIkEgc3R1ZHkgb2YgdGhlIGltcGFjdCBvZiBnbG9iYWwgc29mdHdhcmUgZGV2ZWxvcG1lbnQgaW4gcGFja2FnZWQgc29mdHdhcmUgcmVsZWFzZSBwbGFubmluZyIsCiAgICBkaXNwbGF5PSJjb2xvbW8iLAogICAgYXV0aG9ycz0iQ29sb21vLVBhbGFjaW9zLCBSaWNhcmRvIGFuZCBTb3RvLUFjb3N0YSwgUGVkcm8gYW5kIEdhcmPtYS1QZfFhbHZvLCBGcmFuY2lzY28gSiBhbmQgR2FyY+1hLUNyZXNwbywgwW5nZWwiLAogICAgcGxhY2U9SkNTLAogICAgcHA9IjI2NDYtLTI2NjgiLAogICAgZW50cnl0eXBlPSJhcnRpY2xlIiwKICAgIHZvbHVtZT0iMTgiLAogICAgbnVtYmVyPSIxOSIsCiAgICBJRD0iY29sb21vMjAxMnN0dWR5IiwKICAgIGNsdXN0ZXJfaWQ9Ijc4NDE5MzE3NzAxMTExNDUxODQiLAogICAgc2Nob2xhcj0iaHR0cDovL3NjaG9sYXIuZ29vZ2xlLmNvbS9zY2hvbGFyP2NpdGVzPTc4NDE5MzE3NzAxMTExNDUxODQmYXNfc2R0PTIwMDUmc2Npb2R0PTAsNSZobD1lbiIsCiAgICBwbGFjZXg9IkpvdXJuYWwgb2YgVW5pdmVyc2FsIENvbXB1dGVyIFNjaWVuY2UiLAopKQoKREIoQ2l0YXRpb24oCiAgICBjb2xvbW8yMDEyYSwgdHJpZW5la2VuczIwMDlhLCByZWY9IiIsCiAgICBjb250ZXh0cz1bCgogICAgXSwKKSkKCicnJywgY2l0YXRpb25zPSd0cmllbmVrZW5zMjAwOWEnKTs=\"));\n",
       "    "
      ],
      "text/plain": [
       "<IPython.core.display.Javascript object>"
      ]
     },
     "metadata": {},
     "output_type": "display_data"
    },
    {
     "data": {
      "application/javascript": [
       "$('span:contains(\"# Temp\")').closest('.cell').remove();"
      ],
      "text/plain": [
       "<IPython.core.display.Javascript object>"
      ]
     },
     "metadata": {},
     "output_type": "display_data"
    },
    {
     "data": {
      "application/javascript": [
       "\n",
       "        $('span:contains(\"# Temp\")').closest('.cell').remove();\n",
       "        var code = IPython.notebook.insert_cell_below('code');\n",
       "        code.set_text(atob(\"IyBUZW1wCmluc2VydCgnJycKY29sb21vMjAxMmEgPSBEQihXb3JrVW5yZWxhdGVkKAogICAgMjAxMiwgIkEgc3R1ZHkgb2YgdGhlIGltcGFjdCBvZiBnbG9iYWwgc29mdHdhcmUgZGV2ZWxvcG1lbnQgaW4gcGFja2FnZWQgc29mdHdhcmUgcmVsZWFzZSBwbGFubmluZyIsCiAgICBkaXNwbGF5PSJjb2xvbW8iLAogICAgYXV0aG9ycz0iQ29sb21vLVBhbGFjaW9zLCBSaWNhcmRvIGFuZCBTb3RvLUFjb3N0YSwgUGVkcm8gYW5kIEdhcmPtYS1QZfFhbHZvLCBGcmFuY2lzY28gSiBhbmQgR2FyY+1hLUNyZXNwbywgwW5nZWwiLAogICAgcGxhY2U9SkNTLAogICAgcHA9IjI2NDYtLTI2NjgiLAogICAgZW50cnl0eXBlPSJhcnRpY2xlIiwKICAgIHZvbHVtZT0iMTgiLAogICAgbnVtYmVyPSIxOSIsCiAgICBJRD0iY29sb21vMjAxMnN0dWR5IiwKICAgIGNsdXN0ZXJfaWQ9Ijc4NDE5MzE3NzAxMTExNDUxODQiLAogICAgc2Nob2xhcj0iaHR0cDovL3NjaG9sYXIuZ29vZ2xlLmNvbS9zY2hvbGFyP2NpdGVzPTc4NDE5MzE3NzAxMTExNDUxODQmYXNfc2R0PTIwMDUmc2Npb2R0PTAsNSZobD1lbiIsCiAgICBwbGFjZXg9IkpvdXJuYWwgb2YgVW5pdmVyc2FsIENvbXB1dGVyIFNjaWVuY2UiLAopKQoKREIoQ2l0YXRpb24oCiAgICBjb2xvbW8yMDEyYSwgdHJpZW5la2VuczIwMDlhLCByZWY9IiIsCiAgICBjb250ZXh0cz1bCgogICAgXSwKKSkKCicnJywgY2l0YXRpb25zPSd0cmllbmVrZW5zMjAwOWEnKTs=\"));\n",
       "    "
      ],
      "text/plain": [
       "<IPython.core.display.Javascript object>"
      ]
     },
     "metadata": {},
     "output_type": "display_data"
    },
    {
     "data": {
      "application/javascript": [
       "$('span:contains(\"# Temp\")').closest('.cell').remove();"
      ],
      "text/plain": [
       "<IPython.core.display.Javascript object>"
      ]
     },
     "metadata": {},
     "output_type": "display_data"
    },
    {
     "data": {
      "application/javascript": [
       "\n",
       "        $('span:contains(\"# Temp\")').closest('.cell').remove();\n",
       "        var code = IPython.notebook.insert_cell_below('code');\n",
       "        code.set_text(atob(\"IyBUZW1wCmluc2VydCgnJycKb2xpdmVpcmEyMDEwYSA9IERCKFdvcmtVbnJlbGF0ZWQoCiAgICAyMDEwLCAiQSBjb21wYXJhdGl2ZSBhbmFseXNpcyBvZiBDTU1JIHNvZnR3YXJlIHByb2plY3QgbWFuYWdlbWVudCBieSBCcmF6aWxpYW4sIEluZGlhbiBhbmQgQ2hpbmVzZSBjb21wYW5pZXMiLAogICAgZGlzcGxheT0ib2xpdmVpcmEiLAogICAgYXV0aG9ycz0iZGUgT2xpdmVpcmEsIFNhdWxvIEJhcmJhcuEgYW5kIFZhbGxlLCBSb2dlcmlvIGFuZCBNYWhsZXIsIENs4XVkaW8gRmVybmFuZG8iLAogICAgcGxhY2U9U1FKLAogICAgcHA9IjE3Ny0tMTk0IiwKICAgIGVudHJ5dHlwZT0iYXJ0aWNsZSIsCiAgICB2b2x1bWU9IjE4IiwKICAgIG51bWJlcj0iMiIsCiAgICBwdWJsaXNoZXI9IlNwcmluZ2VyIiwKICAgIElEPSJkZTIwMTBjb21wYXJhdGl2ZSIsCiAgICBjbHVzdGVyX2lkPSI2MDQzNDU3NTA2OTg3MDEyNDE1IiwKICAgIHNjaG9sYXI9Imh0dHA6Ly9zY2hvbGFyLmdvb2dsZS5jb20vc2Nob2xhcj9jaXRlcz02MDQzNDU3NTA2OTg3MDEyNDE1JmFzX3NkdD0yMDA1JnNjaW9kdD0wLDUmaGw9ZW4iLAogICAgcGxhY2V4PSJTb2Z0d2FyZSBRdWFsaXR5IEpvdXJuYWwiLAopKQoKREIoQ2l0YXRpb24oCiAgICBvbGl2ZWlyYTIwMTBhLCB0cmllbmVrZW5zMjAwOWEsIHJlZj0iIiwKICAgIGNvbnRleHRzPVsKCiAgICBdLAopKQoKJycnLCBjaXRhdGlvbnM9J3RyaWVuZWtlbnMyMDA5YScpOw==\"));\n",
       "    "
      ],
      "text/plain": [
       "<IPython.core.display.Javascript object>"
      ]
     },
     "metadata": {},
     "output_type": "display_data"
    },
    {
     "data": {
      "application/javascript": [
       "$('span:contains(\"# Temp\")').closest('.cell').remove();"
      ],
      "text/plain": [
       "<IPython.core.display.Javascript object>"
      ]
     },
     "metadata": {},
     "output_type": "display_data"
    },
    {
     "data": {
      "application/javascript": [
       "\n",
       "        $('span:contains(\"# Temp\")').closest('.cell').remove();\n",
       "        var code = IPython.notebook.insert_cell_below('code');\n",
       "        code.set_text(atob(\"IyBUZW1wCmluc2VydCgnJycKb2xpdmVpcmEyMDEwYSA9IERCKFdvcmtVbnJlbGF0ZWQoCiAgICAyMDEwLCAiQSBjb21wYXJhdGl2ZSBhbmFseXNpcyBvZiBDTU1JIHNvZnR3YXJlIHByb2plY3QgbWFuYWdlbWVudCBieSBCcmF6aWxpYW4sIEluZGlhbiBhbmQgQ2hpbmVzZSBjb21wYW5pZXMiLAogICAgZGlzcGxheT0ib2xpdmVpcmEiLAogICAgYXV0aG9ycz0iZGUgT2xpdmVpcmEsIFNhdWxvIEJhcmJhcuEgYW5kIFZhbGxlLCBSb2dlcmlvIGFuZCBNYWhsZXIsIENs4XVkaW8gRmVybmFuZG8iLAogICAgcGxhY2U9U1FKLAogICAgcHA9IjE3Ny0tMTk0IiwKICAgIGVudHJ5dHlwZT0iYXJ0aWNsZSIsCiAgICB2b2x1bWU9IjE4IiwKICAgIG51bWJlcj0iMiIsCiAgICBwdWJsaXNoZXI9IlNwcmluZ2VyIiwKICAgIElEPSJkZTIwMTBjb21wYXJhdGl2ZSIsCiAgICBjbHVzdGVyX2lkPSI2MDQzNDU3NTA2OTg3MDEyNDE1IiwKICAgIHNjaG9sYXI9Imh0dHA6Ly9zY2hvbGFyLmdvb2dsZS5jb20vc2Nob2xhcj9jaXRlcz02MDQzNDU3NTA2OTg3MDEyNDE1JmFzX3NkdD0yMDA1JnNjaW9kdD0wLDUmaGw9ZW4iLAogICAgcGxhY2V4PSJTb2Z0d2FyZSBRdWFsaXR5IEpvdXJuYWwiLAopKQoKREIoQ2l0YXRpb24oCiAgICBvbGl2ZWlyYTIwMTBhLCB0cmllbmVrZW5zMjAwOWEsIHJlZj0iIiwKICAgIGNvbnRleHRzPVsKCiAgICBdLAopKQoKJycnLCBjaXRhdGlvbnM9J3RyaWVuZWtlbnMyMDA5YScpOw==\"));\n",
       "    "
      ],
      "text/plain": [
       "<IPython.core.display.Javascript object>"
      ]
     },
     "metadata": {},
     "output_type": "display_data"
    },
    {
     "data": {
      "application/javascript": [
       "$('span:contains(\"# Temp\")').closest('.cell').remove();"
      ],
      "text/plain": [
       "<IPython.core.display.Javascript object>"
      ]
     },
     "metadata": {},
     "output_type": "display_data"
    },
    {
     "data": {
      "application/javascript": [
       "\n",
       "        $('span:contains(\"# Temp\")').closest('.cell').remove();\n",
       "        var code = IPython.notebook.insert_cell_below('code');\n",
       "        code.set_text(atob(\"IyBUZW1wCmluc2VydCgnJycKc2FtYWxpa292YTIwMTFhID0gREIoV29ya1VucmVsYXRlZCgKICAgIDIwMTEsICJUb3dhcmQgb2JqZWN0aXZlIHNvZnR3YXJlIHByb2Nlc3MgaW5mb3JtYXRpb246IGV4cGVyaWVuY2VzIGZyb20gYSBjYXNlIHN0dWR5IiwKICAgIGRpc3BsYXk9InNhbWFsaWtvdmEiLAogICAgYXV0aG9ycz0iU2FtYWxpa292YSwgSmFuYSBhbmQgS3VzdGVycywgUm9iIGFuZCBUcmllbmVrZW5zLCBKb3MgYW5kIFdlaWp0ZXJzLCBUb24gYW5kIFNpZW1vbnMsIFBhdWwiLAogICAgcGxhY2U9U1FKLAogICAgcHA9IjEwMS0tMTIwIiwKICAgIGVudHJ5dHlwZT0iYXJ0aWNsZSIsCiAgICB2b2x1bWU9IjE5IiwKICAgIG51bWJlcj0iMSIsCiAgICBwdWJsaXNoZXI9IlNwcmluZ2VyIiwKICAgIElEPSJzYW1hbGlrb3ZhMjAxMXRvd2FyZCIsCiAgICBjbHVzdGVyX2lkPSIxNzM4NjgyOTk3MjExNTkyMDE2MCIsCiAgICBzY2hvbGFyPSJodHRwOi8vc2Nob2xhci5nb29nbGUuY29tL3NjaG9sYXI/Y2l0ZXM9MTczODY4Mjk5NzIxMTU5MjAxNjAmYXNfc2R0PTIwMDUmc2Npb2R0PTAsNSZobD1lbiIsCiAgICBwbGFjZXg9IlNvZnR3YXJlIFF1YWxpdHkgSm91cm5hbCIsCikpCgpEQihDaXRhdGlvbigKICAgIHNhbWFsaWtvdmEyMDExYSwgdHJpZW5la2VuczIwMDlhLCByZWY9IiIsCiAgICBjb250ZXh0cz1bCgogICAgXSwKKSkKCicnJywgY2l0YXRpb25zPSd0cmllbmVrZW5zMjAwOWEnKTs=\"));\n",
       "    "
      ],
      "text/plain": [
       "<IPython.core.display.Javascript object>"
      ]
     },
     "metadata": {},
     "output_type": "display_data"
    },
    {
     "data": {
      "application/javascript": [
       "$('span:contains(\"# Temp\")').closest('.cell').remove();"
      ],
      "text/plain": [
       "<IPython.core.display.Javascript object>"
      ]
     },
     "metadata": {},
     "output_type": "display_data"
    },
    {
     "data": {
      "application/javascript": [
       "\n",
       "        $('span:contains(\"# Temp\")').closest('.cell').remove();\n",
       "        var code = IPython.notebook.insert_cell_below('code');\n",
       "        code.set_text(atob(\"IyBUZW1wCmluc2VydCgnJycKc2FtYWxpa292YTIwMTFhID0gREIoV29ya1VucmVsYXRlZCgKICAgIDIwMTEsICJUb3dhcmQgb2JqZWN0aXZlIHNvZnR3YXJlIHByb2Nlc3MgaW5mb3JtYXRpb246IGV4cGVyaWVuY2VzIGZyb20gYSBjYXNlIHN0dWR5IiwKICAgIGRpc3BsYXk9InNhbWFsaWtvdmEiLAogICAgYXV0aG9ycz0iU2FtYWxpa292YSwgSmFuYSBhbmQgS3VzdGVycywgUm9iIGFuZCBUcmllbmVrZW5zLCBKb3MgYW5kIFdlaWp0ZXJzLCBUb24gYW5kIFNpZW1vbnMsIFBhdWwiLAogICAgcGxhY2U9U1FKLAogICAgcHA9IjEwMS0tMTIwIiwKICAgIGVudHJ5dHlwZT0iYXJ0aWNsZSIsCiAgICB2b2x1bWU9IjE5IiwKICAgIG51bWJlcj0iMSIsCiAgICBwdWJsaXNoZXI9IlNwcmluZ2VyIiwKICAgIElEPSJzYW1hbGlrb3ZhMjAxMXRvd2FyZCIsCiAgICBjbHVzdGVyX2lkPSIxNzM4NjgyOTk3MjExNTkyMDE2MCIsCiAgICBzY2hvbGFyPSJodHRwOi8vc2Nob2xhci5nb29nbGUuY29tL3NjaG9sYXI/Y2l0ZXM9MTczODY4Mjk5NzIxMTU5MjAxNjAmYXNfc2R0PTIwMDUmc2Npb2R0PTAsNSZobD1lbiIsCiAgICBwbGFjZXg9IlNvZnR3YXJlIFF1YWxpdHkgSm91cm5hbCIsCikpCgpEQihDaXRhdGlvbigKICAgIHNhbWFsaWtvdmEyMDExYSwgdHJpZW5la2VuczIwMDlhLCByZWY9IiIsCiAgICBjb250ZXh0cz1bCgogICAgXSwKKSkKCicnJywgY2l0YXRpb25zPSd0cmllbmVrZW5zMjAwOWEnKTs=\"));\n",
       "    "
      ],
      "text/plain": [
       "<IPython.core.display.Javascript object>"
      ]
     },
     "metadata": {},
     "output_type": "display_data"
    },
    {
     "data": {
      "application/javascript": [
       "$('span:contains(\"# Temp\")').closest('.cell').remove();"
      ],
      "text/plain": [
       "<IPython.core.display.Javascript object>"
      ]
     },
     "metadata": {},
     "output_type": "display_data"
    },
    {
     "data": {
      "application/javascript": [
       "\n",
       "        $('span:contains(\"# Temp\")').closest('.cell').remove();\n",
       "        var code = IPython.notebook.insert_cell_below('code');\n",
       "        code.set_text(atob(\"IyBUZW1wCmluc2VydCgnJycKZGlqa21hbjIwMTZhID0gREIoV29ya1VucmVsYXRlZCgKICAgIDIwMTYsICJQcm9wZXJ0aWVzIHRoYXQgaW5mbHVlbmNlIGJ1c2luZXNzIHByb2Nlc3MgbWFuYWdlbWVudCBtYXR1cml0eSBhbmQgaXRzIGVmZmVjdCBvbiBvcmdhbml6YXRpb25hbCBwZXJmb3JtYW5jZSIsCiAgICBkaXNwbGF5PSJkaWprbWFuIiwKICAgIGF1dGhvcnM9IkRpamttYW4sIFJlbWNvIGFuZCBMYW1tZXJzLCBTYW5kZXIgVmluY2VudCBhbmQgZGUgSm9uZywgQWQiLAogICAgcGxhY2U9RkFLRSwKICAgIHBwPSI3MTctLTczNCIsCiAgICBlbnRyeXR5cGU9ImFydGljbGUiLAogICAgdm9sdW1lPSIxOCIsCiAgICBudW1iZXI9IjQiLAogICAgcHVibGlzaGVyPSJTcHJpbmdlciIsCiAgICBJRD0iZGlqa21hbjIwMTZwcm9wZXJ0aWVzIiwKICAgIGNsdXN0ZXJfaWQ9IjEwOTI3ODYwMDg2MDUzMjYwMTE0IiwKICAgIHNjaG9sYXI9Imh0dHA6Ly9zY2hvbGFyLmdvb2dsZS5jb20vc2Nob2xhcj9jaXRlcz0xMDkyNzg2MDA4NjA1MzI2MDExNCZhc19zZHQ9MjAwNSZzY2lvZHQ9MCw1JmhsPWVuIiwKICAgIHBsYWNleD0iSW5mb3JtYXRpb24gU3lzdGVtcyBGcm9udGllcnMiLAopKQoKREIoQ2l0YXRpb24oCiAgICBkaWprbWFuMjAxNmEsIHRyaWVuZWtlbnMyMDA5YSwgcmVmPSIiLAogICAgY29udGV4dHM9WwoKICAgIF0sCikpCgonJycsIGNpdGF0aW9ucz0ndHJpZW5la2VuczIwMDlhJyk7\"));\n",
       "    "
      ],
      "text/plain": [
       "<IPython.core.display.Javascript object>"
      ]
     },
     "metadata": {},
     "output_type": "display_data"
    },
    {
     "data": {
      "application/javascript": [
       "$('span:contains(\"# Temp\")').closest('.cell').remove();"
      ],
      "text/plain": [
       "<IPython.core.display.Javascript object>"
      ]
     },
     "metadata": {},
     "output_type": "display_data"
    },
    {
     "data": {
      "application/javascript": [
       "\n",
       "        $('span:contains(\"# Temp\")').closest('.cell').remove();\n",
       "        var code = IPython.notebook.insert_cell_below('code');\n",
       "        code.set_text(atob(\"IyBUZW1wCmluc2VydCgnJycKZGlqa21hbjIwMTZhID0gREIoV29ya1VucmVsYXRlZCgKICAgIDIwMTYsICJQcm9wZXJ0aWVzIHRoYXQgaW5mbHVlbmNlIGJ1c2luZXNzIHByb2Nlc3MgbWFuYWdlbWVudCBtYXR1cml0eSBhbmQgaXRzIGVmZmVjdCBvbiBvcmdhbml6YXRpb25hbCBwZXJmb3JtYW5jZSIsCiAgICBkaXNwbGF5PSJkaWprbWFuIiwKICAgIGF1dGhvcnM9IkRpamttYW4sIFJlbWNvIGFuZCBMYW1tZXJzLCBTYW5kZXIgVmluY2VudCBhbmQgZGUgSm9uZywgQWQiLAogICAgcGxhY2U9RkFLRSwKICAgIHBwPSI3MTctLTczNCIsCiAgICBlbnRyeXR5cGU9ImFydGljbGUiLAogICAgdm9sdW1lPSIxOCIsCiAgICBudW1iZXI9IjQiLAogICAgcHVibGlzaGVyPSJTcHJpbmdlciIsCiAgICBJRD0iZGlqa21hbjIwMTZwcm9wZXJ0aWVzIiwKICAgIGNsdXN0ZXJfaWQ9IjEwOTI3ODYwMDg2MDUzMjYwMTE0IiwKICAgIHNjaG9sYXI9Imh0dHA6Ly9zY2hvbGFyLmdvb2dsZS5jb20vc2Nob2xhcj9jaXRlcz0xMDkyNzg2MDA4NjA1MzI2MDExNCZhc19zZHQ9MjAwNSZzY2lvZHQ9MCw1JmhsPWVuIiwKICAgIHBsYWNleD0iSW5mb3JtYXRpb24gU3lzdGVtcyBGcm9udGllcnMiLAopKQoKREIoQ2l0YXRpb24oCiAgICBkaWprbWFuMjAxNmEsIHRyaWVuZWtlbnMyMDA5YSwgcmVmPSIiLAogICAgY29udGV4dHM9WwoKICAgIF0sCikpCgonJycsIGNpdGF0aW9ucz0ndHJpZW5la2VuczIwMDlhJyk7\"));\n",
       "    "
      ],
      "text/plain": [
       "<IPython.core.display.Javascript object>"
      ]
     },
     "metadata": {},
     "output_type": "display_data"
    },
    {
     "data": {
      "application/javascript": [
       "$('span:contains(\"# Temp\")').closest('.cell').remove();"
      ],
      "text/plain": [
       "<IPython.core.display.Javascript object>"
      ]
     },
     "metadata": {},
     "output_type": "display_data"
    },
    {
     "data": {
      "application/javascript": [
       "\n",
       "        $('span:contains(\"# Temp\")').closest('.cell').remove();\n",
       "        var code = IPython.notebook.insert_cell_below('code');\n",
       "        code.set_text(atob(\"IyBUZW1wCmluc2VydCgnJycKMjAxMGEgPSBEQihXb3JrVW5yZWxhdGVkKAogICAgMjAxMCwgIkEgdG9vbCBmb3IgSVQgcHJvY2VzcyBjb25zdHJ1Y3Rpb24iLAogICAgZGlzcGxheT0iIiwKICAgIGF1dGhvcnM9InuOfXZhbnV0LCBCb3uafXRqYW4gYW5kIEJhamVjLCBNYXJrbyIsCiAgICBwbGFjZT1JU1QsCiAgICBwcD0iMzk3LS00MTAiLAogICAgZW50cnl0eXBlPSJhcnRpY2xlIiwKICAgIHZvbHVtZT0iNTIiLAogICAgbnVtYmVyPSI0IiwKICAgIHB1Ymxpc2hlcj0iRWxzZXZpZXIiLAogICAgSUQ9InZ6dmFudXQyMDEwdG9vbCIsCiAgICBjbHVzdGVyX2lkPSI5NTMyMDg1NjQ3ODYzMzM1NDkzIiwKICAgIHNjaG9sYXI9Imh0dHA6Ly9zY2hvbGFyLmdvb2dsZS5jb20vc2Nob2xhcj9jaXRlcz05NTMyMDg1NjQ3ODYzMzM1NDkzJmFzX3NkdD0yMDA1JnNjaW9kdD0wLDUmaGw9ZW4iLAogICAgcGxhY2V4PSJJbmZvcm1hdGlvbiBhbmQgU29mdHdhcmUgVGVjaG5vbG9neSIsCikpCgpEQihDaXRhdGlvbigKICAgIDIwMTBhLCB0cmllbmVrZW5zMjAwOWEsIHJlZj0iIiwKICAgIGNvbnRleHRzPVsKCiAgICBdLAopKQoKJycnLCBjaXRhdGlvbnM9J3RyaWVuZWtlbnMyMDA5YScpOw==\"));\n",
       "    "
      ],
      "text/plain": [
       "<IPython.core.display.Javascript object>"
      ]
     },
     "metadata": {},
     "output_type": "display_data"
    },
    {
     "data": {
      "application/javascript": [
       "$('span:contains(\"# Temp\")').closest('.cell').remove();"
      ],
      "text/plain": [
       "<IPython.core.display.Javascript object>"
      ]
     },
     "metadata": {},
     "output_type": "display_data"
    },
    {
     "data": {
      "application/javascript": [
       "\n",
       "        $('span:contains(\"# Temp\")').closest('.cell').remove();\n",
       "        var code = IPython.notebook.insert_cell_below('code');\n",
       "        code.set_text(atob(\"IyBUZW1wCmluc2VydCgnJycKMjAxMGEgPSBEQihXb3JrVW5yZWxhdGVkKAogICAgMjAxMCwgIkEgdG9vbCBmb3IgSVQgcHJvY2VzcyBjb25zdHJ1Y3Rpb24iLAogICAgZGlzcGxheT0iIiwKICAgIGF1dGhvcnM9InuOfXZhbnV0LCBCb3uafXRqYW4gYW5kIEJhamVjLCBNYXJrbyIsCiAgICBwbGFjZT1JU1QsCiAgICBwcD0iMzk3LS00MTAiLAogICAgZW50cnl0eXBlPSJhcnRpY2xlIiwKICAgIHZvbHVtZT0iNTIiLAogICAgbnVtYmVyPSI0IiwKICAgIHB1Ymxpc2hlcj0iRWxzZXZpZXIiLAogICAgSUQ9InZ6dmFudXQyMDEwdG9vbCIsCiAgICBjbHVzdGVyX2lkPSI5NTMyMDg1NjQ3ODYzMzM1NDkzIiwKICAgIHNjaG9sYXI9Imh0dHA6Ly9zY2hvbGFyLmdvb2dsZS5jb20vc2Nob2xhcj9jaXRlcz05NTMyMDg1NjQ3ODYzMzM1NDkzJmFzX3NkdD0yMDA1JnNjaW9kdD0wLDUmaGw9ZW4iLAogICAgcGxhY2V4PSJJbmZvcm1hdGlvbiBhbmQgU29mdHdhcmUgVGVjaG5vbG9neSIsCikpCgpEQihDaXRhdGlvbigKICAgIDIwMTBhLCB0cmllbmVrZW5zMjAwOWEsIHJlZj0iIiwKICAgIGNvbnRleHRzPVsKCiAgICBdLAopKQoKJycnLCBjaXRhdGlvbnM9J3RyaWVuZWtlbnMyMDA5YScpOw==\"));\n",
       "    "
      ],
      "text/plain": [
       "<IPython.core.display.Javascript object>"
      ]
     },
     "metadata": {},
     "output_type": "display_data"
    },
    {
     "data": {
      "application/javascript": [
       "$('span:contains(\"# Temp\")').closest('.cell').remove();"
      ],
      "text/plain": [
       "<IPython.core.display.Javascript object>"
      ]
     },
     "metadata": {},
     "output_type": "display_data"
    },
    {
     "data": {
      "application/javascript": [
       "\n",
       "        $('span:contains(\"# Temp\")').closest('.cell').remove();\n",
       "        var code = IPython.notebook.insert_cell_below('code');\n",
       "        code.set_text(atob(\"IyBUZW1wCmluc2VydCgnJycKbGliZXJhdG8yMDE1YSA9IERCKFdvcmtVbnJlbGF0ZWQoCiAgICAyMDE1LCAiQ01NSSBJbXBsZW1lbnRhdGlvbiBhbmQgUmVzdWx0czogVGhlIENhc2Ugb2YiLAogICAgZGlzcGxheT0ibGliZXJhdG8iLAogICAgYXV0aG9ycz0iTGliZXJhdG8sIE1hcmNvIGFuZCBWYXJhauNvLCBKb+NvIGFuZCBNYXJ0aW5zLCBQYXVsbyIsCiAgICBwbGFjZT1GQUtFLAogICAgcHA9IjQ4IiwKICAgIGVudHJ5dHlwZT0iYXJ0aWNsZSIsCiAgICBwdWJsaXNoZXI9IklHSSBHbG9iYWwiLAogICAgSUQ9ImxpYmVyYXRvMjAxNWNtbWkiLAogICAgY2x1c3Rlcl9pZD0iNjQ0MjU0ODYyNjQwNjUxMDcwMCIsCiAgICBzY2hvbGFyPSJodHRwOi8vc2Nob2xhci5nb29nbGUuY29tL3NjaG9sYXI/Y2l0ZXM9NjQ0MjU0ODYyNjQwNjUxMDcwMCZhc19zZHQ9MjAwNSZzY2lvZHQ9MCw1JmhsPWVuIiwKICAgIHBsYWNleD0iTW9kZXJuIFRlY2huaXF1ZXMgZm9yIFN1Y2Nlc3NmdWwgSVQgUHJvamVjdCBNYW5hZ2VtZW50IiwKKSkKCkRCKENpdGF0aW9uKAogICAgbGliZXJhdG8yMDE1YSwgdHJpZW5la2VuczIwMDlhLCByZWY9IiIsCiAgICBjb250ZXh0cz1bCgogICAgXSwKKSkKCicnJywgY2l0YXRpb25zPSd0cmllbmVrZW5zMjAwOWEnKTs=\"));\n",
       "    "
      ],
      "text/plain": [
       "<IPython.core.display.Javascript object>"
      ]
     },
     "metadata": {},
     "output_type": "display_data"
    },
    {
     "data": {
      "application/javascript": [
       "$('span:contains(\"# Temp\")').closest('.cell').remove();"
      ],
      "text/plain": [
       "<IPython.core.display.Javascript object>"
      ]
     },
     "metadata": {},
     "output_type": "display_data"
    },
    {
     "data": {
      "application/javascript": [
       "\n",
       "        $('span:contains(\"# Temp\")').closest('.cell').remove();\n",
       "        var code = IPython.notebook.insert_cell_below('code');\n",
       "        code.set_text(atob(\"IyBUZW1wCmluc2VydCgnJycKbGliZXJhdG8yMDE1YSA9IERCKFdvcmtVbnJlbGF0ZWQoCiAgICAyMDE1LCAiQ01NSSBJbXBsZW1lbnRhdGlvbiBhbmQgUmVzdWx0czogVGhlIENhc2Ugb2YiLAogICAgZGlzcGxheT0ibGliZXJhdG8iLAogICAgYXV0aG9ycz0iTGliZXJhdG8sIE1hcmNvIGFuZCBWYXJhauNvLCBKb+NvIGFuZCBNYXJ0aW5zLCBQYXVsbyIsCiAgICBwbGFjZT1GQUtFLAogICAgcHA9IjQ4IiwKICAgIGVudHJ5dHlwZT0iYXJ0aWNsZSIsCiAgICBwdWJsaXNoZXI9IklHSSBHbG9iYWwiLAogICAgSUQ9ImxpYmVyYXRvMjAxNWNtbWkiLAogICAgY2x1c3Rlcl9pZD0iNjQ0MjU0ODYyNjQwNjUxMDcwMCIsCiAgICBzY2hvbGFyPSJodHRwOi8vc2Nob2xhci5nb29nbGUuY29tL3NjaG9sYXI/Y2l0ZXM9NjQ0MjU0ODYyNjQwNjUxMDcwMCZhc19zZHQ9MjAwNSZzY2lvZHQ9MCw1JmhsPWVuIiwKICAgIHBsYWNleD0iTW9kZXJuIFRlY2huaXF1ZXMgZm9yIFN1Y2Nlc3NmdWwgSVQgUHJvamVjdCBNYW5hZ2VtZW50IiwKKSkKCkRCKENpdGF0aW9uKAogICAgbGliZXJhdG8yMDE1YSwgdHJpZW5la2VuczIwMDlhLCByZWY9IiIsCiAgICBjb250ZXh0cz1bCgogICAgXSwKKSkKCicnJywgY2l0YXRpb25zPSd0cmllbmVrZW5zMjAwOWEnKTs=\"));\n",
       "    "
      ],
      "text/plain": [
       "<IPython.core.display.Javascript object>"
      ]
     },
     "metadata": {},
     "output_type": "display_data"
    },
    {
     "data": {
      "application/javascript": [
       "$('span:contains(\"# Temp\")').closest('.cell').remove();"
      ],
      "text/plain": [
       "<IPython.core.display.Javascript object>"
      ]
     },
     "metadata": {},
     "output_type": "display_data"
    },
    {
     "data": {
      "application/javascript": [
       "\n",
       "        $('span:contains(\"# Temp\")').closest('.cell').remove();\n",
       "        var code = IPython.notebook.insert_cell_below('code');\n",
       "        code.set_text(atob(\"IyBUZW1wCmluc2VydCgnJycKYnJ1eW4yMDEyYSA9IERCKFdvcmtVbnJlbGF0ZWQoCiAgICAyMDEyLCAiT24gdGhlIGdlbmVyYWxpemF0aW9uIG9mIG5vcm1hbGl6ZWQgc3lzdGVtcyBjb25jZXB0cyB0byB0aGUgYW5hbHlzaXMgYW5kIGRlc2lnbiBvZiBtb2R1bGVzIGluIHN5c3RlbXMgYW5kIGVudGVycHJpc2UgZW5naW5lZXJpbmciLAogICAgZGlzcGxheT0iYnJ1eW4iLAogICAgYXV0aG9ycz0iRGUgQnJ1eW4sIFBldGVyIGFuZCBNYW5uYWVydCwgSGVyd2lnIiwKICAgIHBsYWNlPUZBS0UsCiAgICBlbnRyeXR5cGU9ImFydGljbGUiLAogICAgdm9sdW1lPSI1IiwKICAgIG51bWJlcj0iMyIsCiAgICBJRD0iZGUyMDEyZ2VuZXJhbGl6YXRpb24iLAogICAgY2x1c3Rlcl9pZD0iMTA0NTc5NDQwNTc0MzQyMzUxMTUiLAogICAgc2Nob2xhcj0iaHR0cDovL3NjaG9sYXIuZ29vZ2xlLmNvbS9zY2hvbGFyP2NpdGVzPTEwNDU3OTQ0MDU3NDM0MjM1MTE1JmFzX3NkdD0yMDA1JnNjaW9kdD0wLDUmaGw9ZW4iLAogICAgcGxhY2V4PSJJbnRlcm5hdGlvbmFsIGpvdXJuYWwgb24gYWR2YW5jZXMgaW4gc3lzdGVtcyBhbmQgbWVhc3VyZW1lbnRzIiwKKSkKCkRCKENpdGF0aW9uKAogICAgYnJ1eW4yMDEyYSwgdHJpZW5la2VuczIwMDlhLCByZWY9IiIsCiAgICBjb250ZXh0cz1bCgogICAgXSwKKSkKCicnJywgY2l0YXRpb25zPSd0cmllbmVrZW5zMjAwOWEnKTs=\"));\n",
       "    "
      ],
      "text/plain": [
       "<IPython.core.display.Javascript object>"
      ]
     },
     "metadata": {},
     "output_type": "display_data"
    },
    {
     "data": {
      "application/javascript": [
       "$('span:contains(\"# Temp\")').closest('.cell').remove();"
      ],
      "text/plain": [
       "<IPython.core.display.Javascript object>"
      ]
     },
     "metadata": {},
     "output_type": "display_data"
    },
    {
     "data": {
      "application/javascript": [
       "\n",
       "        $('span:contains(\"# Temp\")').closest('.cell').remove();\n",
       "        var code = IPython.notebook.insert_cell_below('code');\n",
       "        code.set_text(atob(\"IyBUZW1wCmluc2VydCgnJycKYnJ1eW4yMDEyYSA9IERCKFdvcmtVbnJlbGF0ZWQoCiAgICAyMDEyLCAiT24gdGhlIGdlbmVyYWxpemF0aW9uIG9mIG5vcm1hbGl6ZWQgc3lzdGVtcyBjb25jZXB0cyB0byB0aGUgYW5hbHlzaXMgYW5kIGRlc2lnbiBvZiBtb2R1bGVzIGluIHN5c3RlbXMgYW5kIGVudGVycHJpc2UgZW5naW5lZXJpbmciLAogICAgZGlzcGxheT0iYnJ1eW4iLAogICAgYXV0aG9ycz0iRGUgQnJ1eW4sIFBldGVyIGFuZCBNYW5uYWVydCwgSGVyd2lnIiwKICAgIHBsYWNlPUZBS0UsCiAgICBlbnRyeXR5cGU9ImFydGljbGUiLAogICAgdm9sdW1lPSI1IiwKICAgIG51bWJlcj0iMyIsCiAgICBJRD0iZGUyMDEyZ2VuZXJhbGl6YXRpb24iLAogICAgY2x1c3Rlcl9pZD0iMTA0NTc5NDQwNTc0MzQyMzUxMTUiLAogICAgc2Nob2xhcj0iaHR0cDovL3NjaG9sYXIuZ29vZ2xlLmNvbS9zY2hvbGFyP2NpdGVzPTEwNDU3OTQ0MDU3NDM0MjM1MTE1JmFzX3NkdD0yMDA1JnNjaW9kdD0wLDUmaGw9ZW4iLAogICAgcGxhY2V4PSJJbnRlcm5hdGlvbmFsIGpvdXJuYWwgb24gYWR2YW5jZXMgaW4gc3lzdGVtcyBhbmQgbWVhc3VyZW1lbnRzIiwKKSkKCkRCKENpdGF0aW9uKAogICAgYnJ1eW4yMDEyYSwgdHJpZW5la2VuczIwMDlhLCByZWY9IiIsCiAgICBjb250ZXh0cz1bCgogICAgXSwKKSkKCicnJywgY2l0YXRpb25zPSd0cmllbmVrZW5zMjAwOWEnKTs=\"));\n",
       "    "
      ],
      "text/plain": [
       "<IPython.core.display.Javascript object>"
      ]
     },
     "metadata": {},
     "output_type": "display_data"
    },
    {
     "data": {
      "application/javascript": [
       "$('span:contains(\"# Temp\")').closest('.cell').remove();"
      ],
      "text/plain": [
       "<IPython.core.display.Javascript object>"
      ]
     },
     "metadata": {},
     "output_type": "display_data"
    },
    {
     "data": {
      "application/javascript": [
       "\n",
       "        $('span:contains(\"# Temp\")').closest('.cell').remove();\n",
       "        var code = IPython.notebook.insert_cell_below('code');\n",
       "        code.set_text(atob(\"IyBUZW1wCmluc2VydCgnJycKYnJ1eW4yMDE0YSA9IERCKFdvcmtVbnJlbGF0ZWQoCiAgICAyMDE0LCAiVXNpbmcgRW50cm9weSdzIEp1c3RpZmljYXRvcnkgS25vd2xlZGdlIGZvciBhIEJ1c2luZXNzIFByb2Nlc3MgRGVzaWduIFRoZW9yeSIsCiAgICBkaXNwbGF5PSJicnV5biIsCiAgICBhdXRob3JzPSJEZSBCcnV5biwgUGV0ZXIgYW5kIEh1eXNtYW5zLCBQaGlsaXAgYW5kIE9vcnRzLCBHaWxsZXMgYW5kIE1hbm5hZXJ0LCBIZXJ3aWcgYW5kIFZlcmVsc3QsIEphbiIsCiAgICBwbGFjZT1GQUtFLAogICAgcHA9IjM3MTctLTM3MjYiLAogICAgZW50cnl0eXBlPSJpbnByb2NlZWRpbmdzIiwKICAgIG9yZ2FuaXphdGlvbj0iSUVFRSIsCiAgICBJRD0iZGUyMDE0dXNpbmciLAogICAgY2x1c3Rlcl9pZD0iMTE4NDExNzg1OTcyNTI5MzA1NjQiLAogICAgc2Nob2xhcj0iaHR0cDovL3NjaG9sYXIuZ29vZ2xlLmNvbS9zY2hvbGFyP2NpdGVzPTExODQxMTc4NTk3MjUyOTMwNTY0JmFzX3NkdD0yMDA1JnNjaW9kdD0wLDUmaGw9ZW4iLAogICAgcGxhY2V4PSJTeXN0ZW0gU2NpZW5jZXMgKEhJQ1NTKSwgMjAxNCA0N3RoIEhhd2FpaSBJbnRlcm5hdGlvbmFsIENvbmZlcmVuY2Ugb24iLAopKQoKREIoQ2l0YXRpb24oCiAgICBicnV5bjIwMTRhLCB0cmllbmVrZW5zMjAwOWEsIHJlZj0iIiwKICAgIGNvbnRleHRzPVsKCiAgICBdLAopKQoKJycnLCBjaXRhdGlvbnM9J3RyaWVuZWtlbnMyMDA5YScpOw==\"));\n",
       "    "
      ],
      "text/plain": [
       "<IPython.core.display.Javascript object>"
      ]
     },
     "metadata": {},
     "output_type": "display_data"
    },
    {
     "data": {
      "application/javascript": [
       "$('span:contains(\"# Temp\")').closest('.cell').remove();"
      ],
      "text/plain": [
       "<IPython.core.display.Javascript object>"
      ]
     },
     "metadata": {},
     "output_type": "display_data"
    },
    {
     "data": {
      "application/javascript": [
       "\n",
       "        $('span:contains(\"# Temp\")').closest('.cell').remove();\n",
       "        var code = IPython.notebook.insert_cell_below('code');\n",
       "        code.set_text(atob(\"IyBUZW1wCmluc2VydCgnJycKYnJ1eW4yMDE0YSA9IERCKFdvcmtVbnJlbGF0ZWQoCiAgICAyMDE0LCAiVXNpbmcgRW50cm9weSdzIEp1c3RpZmljYXRvcnkgS25vd2xlZGdlIGZvciBhIEJ1c2luZXNzIFByb2Nlc3MgRGVzaWduIFRoZW9yeSIsCiAgICBkaXNwbGF5PSJicnV5biIsCiAgICBhdXRob3JzPSJEZSBCcnV5biwgUGV0ZXIgYW5kIEh1eXNtYW5zLCBQaGlsaXAgYW5kIE9vcnRzLCBHaWxsZXMgYW5kIE1hbm5hZXJ0LCBIZXJ3aWcgYW5kIFZlcmVsc3QsIEphbiIsCiAgICBwbGFjZT1GQUtFLAogICAgcHA9IjM3MTctLTM3MjYiLAogICAgZW50cnl0eXBlPSJpbnByb2NlZWRpbmdzIiwKICAgIG9yZ2FuaXphdGlvbj0iSUVFRSIsCiAgICBJRD0iZGUyMDE0dXNpbmciLAogICAgY2x1c3Rlcl9pZD0iMTE4NDExNzg1OTcyNTI5MzA1NjQiLAogICAgc2Nob2xhcj0iaHR0cDovL3NjaG9sYXIuZ29vZ2xlLmNvbS9zY2hvbGFyP2NpdGVzPTExODQxMTc4NTk3MjUyOTMwNTY0JmFzX3NkdD0yMDA1JnNjaW9kdD0wLDUmaGw9ZW4iLAogICAgcGxhY2V4PSJTeXN0ZW0gU2NpZW5jZXMgKEhJQ1NTKSwgMjAxNCA0N3RoIEhhd2FpaSBJbnRlcm5hdGlvbmFsIENvbmZlcmVuY2Ugb24iLAopKQoKREIoQ2l0YXRpb24oCiAgICBicnV5bjIwMTRhLCB0cmllbmVrZW5zMjAwOWEsIHJlZj0iIiwKICAgIGNvbnRleHRzPVsKCiAgICBdLAopKQoKJycnLCBjaXRhdGlvbnM9J3RyaWVuZWtlbnMyMDA5YScpOw==\"));\n",
       "    "
      ],
      "text/plain": [
       "<IPython.core.display.Javascript object>"
      ]
     },
     "metadata": {},
     "output_type": "display_data"
    },
    {
     "data": {
      "application/javascript": [
       "$('span:contains(\"# Temp\")').closest('.cell').remove();"
      ],
      "text/plain": [
       "<IPython.core.display.Javascript object>"
      ]
     },
     "metadata": {},
     "output_type": "display_data"
    },
    {
     "data": {
      "application/javascript": [
       "\n",
       "        $('span:contains(\"# Temp\")').closest('.cell').remove();\n",
       "        var code = IPython.notebook.insert_cell_below('code');\n",
       "        code.set_text(atob(\"IyBUZW1wCmluc2VydCgnJycKc3VvbWluZW4yMDE0YSA9IERCKFdvcmtVbnJlbGF0ZWQoCiAgICAyMDE0LCAiT24gdGhlIGFwcGxpY2FiaWxpdHkgb2YgY2FwYWJpbGl0eSBtb2RlbHMgZm9yIHNtYWxsIHNvZnR3YXJlIG9yZ2FuaXphdGlvbnM6IGRvZXMgdGhlIHVzZSBvZiBzdGFuZGFyZCBwcm9jZXNzZXMgbGVhZCB0byBhIGJldHRlciBhY2hpZXZlbWVudCBvZiBidXNpbmVzcyBnb2Fscz8iLAogICAgZGlzcGxheT0ic3VvbWluZW4iLAogICAgYXV0aG9ycz0iU3VvbWluZW4sIE1pa2EgYW5kIE3ka2luZW4sIFRpbW8iLAogICAgcGxhY2U9U1FKLAogICAgcHA9IjU3OS0tNTkxIiwKICAgIGVudHJ5dHlwZT0iYXJ0aWNsZSIsCiAgICB2b2x1bWU9IjIyIiwKICAgIG51bWJlcj0iNCIsCiAgICBwdWJsaXNoZXI9IlNwcmluZ2VyIiwKICAgIElEPSJzdW9taW5lbjIwMTRhcHBsaWNhYmlsaXR5IiwKICAgIGNsdXN0ZXJfaWQ9Ijg2ODc2NzMwMjY1MTU3MDkxODAiLAogICAgc2Nob2xhcj0iaHR0cDovL3NjaG9sYXIuZ29vZ2xlLmNvbS9zY2hvbGFyP2NpdGVzPTg2ODc2NzMwMjY1MTU3MDkxODAmYXNfc2R0PTIwMDUmc2Npb2R0PTAsNSZobD1lbiIsCiAgICBwbGFjZXg9IlNvZnR3YXJlIFF1YWxpdHkgSm91cm5hbCIsCikpCgpEQihDaXRhdGlvbigKICAgIHN1b21pbmVuMjAxNGEsIHRyaWVuZWtlbnMyMDA5YSwgcmVmPSIiLAogICAgY29udGV4dHM9WwoKICAgIF0sCikpCgonJycsIGNpdGF0aW9ucz0ndHJpZW5la2VuczIwMDlhJyk7\"));\n",
       "    "
      ],
      "text/plain": [
       "<IPython.core.display.Javascript object>"
      ]
     },
     "metadata": {},
     "output_type": "display_data"
    },
    {
     "data": {
      "application/javascript": [
       "$('span:contains(\"# Temp\")').closest('.cell').remove();"
      ],
      "text/plain": [
       "<IPython.core.display.Javascript object>"
      ]
     },
     "metadata": {},
     "output_type": "display_data"
    },
    {
     "data": {
      "application/javascript": [
       "\n",
       "        $('span:contains(\"# Temp\")').closest('.cell').remove();\n",
       "        var code = IPython.notebook.insert_cell_below('code');\n",
       "        code.set_text(atob(\"IyBUZW1wCmluc2VydCgnJycKc3VvbWluZW4yMDE0YSA9IERCKFdvcmtVbnJlbGF0ZWQoCiAgICAyMDE0LCAiT24gdGhlIGFwcGxpY2FiaWxpdHkgb2YgY2FwYWJpbGl0eSBtb2RlbHMgZm9yIHNtYWxsIHNvZnR3YXJlIG9yZ2FuaXphdGlvbnM6IGRvZXMgdGhlIHVzZSBvZiBzdGFuZGFyZCBwcm9jZXNzZXMgbGVhZCB0byBhIGJldHRlciBhY2hpZXZlbWVudCBvZiBidXNpbmVzcyBnb2Fscz8iLAogICAgZGlzcGxheT0ic3VvbWluZW4iLAogICAgYXV0aG9ycz0iU3VvbWluZW4sIE1pa2EgYW5kIE3ka2luZW4sIFRpbW8iLAogICAgcGxhY2U9U1FKLAogICAgcHA9IjU3OS0tNTkxIiwKICAgIGVudHJ5dHlwZT0iYXJ0aWNsZSIsCiAgICB2b2x1bWU9IjIyIiwKICAgIG51bWJlcj0iNCIsCiAgICBwdWJsaXNoZXI9IlNwcmluZ2VyIiwKICAgIElEPSJzdW9taW5lbjIwMTRhcHBsaWNhYmlsaXR5IiwKICAgIGNsdXN0ZXJfaWQ9Ijg2ODc2NzMwMjY1MTU3MDkxODAiLAogICAgc2Nob2xhcj0iaHR0cDovL3NjaG9sYXIuZ29vZ2xlLmNvbS9zY2hvbGFyP2NpdGVzPTg2ODc2NzMwMjY1MTU3MDkxODAmYXNfc2R0PTIwMDUmc2Npb2R0PTAsNSZobD1lbiIsCiAgICBwbGFjZXg9IlNvZnR3YXJlIFF1YWxpdHkgSm91cm5hbCIsCikpCgpEQihDaXRhdGlvbigKICAgIHN1b21pbmVuMjAxNGEsIHRyaWVuZWtlbnMyMDA5YSwgcmVmPSIiLAogICAgY29udGV4dHM9WwoKICAgIF0sCikpCgonJycsIGNpdGF0aW9ucz0ndHJpZW5la2VuczIwMDlhJyk7\"));\n",
       "    "
      ],
      "text/plain": [
       "<IPython.core.display.Javascript object>"
      ]
     },
     "metadata": {},
     "output_type": "display_data"
    },
    {
     "data": {
      "application/javascript": [
       "$('span:contains(\"# Temp\")').closest('.cell').remove();"
      ],
      "text/plain": [
       "<IPython.core.display.Javascript object>"
      ]
     },
     "metadata": {},
     "output_type": "display_data"
    },
    {
     "data": {
      "application/javascript": [
       "\n",
       "        $('span:contains(\"# Temp\")').closest('.cell').remove();\n",
       "        var code = IPython.notebook.insert_cell_below('code');\n",
       "        code.set_text(atob(\"IyBUZW1wCmluc2VydCgnJycKaHV5c21hbnMyMDE0YSA9IERCKFdvcmtVbnJlbGF0ZWQoCiAgICAyMDE0LCAiQWN0aXZpdHktYmFzZWQgY29zdGluZyBhcyBhIGRlc2lnbiBzY2llbmNlIGFydGlmYWN0IiwKICAgIGRpc3BsYXk9Imh1eXNtYW5zIiwKICAgIGF1dGhvcnM9Ikh1eXNtYW5zLCBQaGlsaXAgYW5kIERlIEJydXluLCBQZXRlciIsCiAgICBwbGFjZT1GQUtFLAogICAgcHA9IjM2NjctLTM2NzYiLAogICAgZW50cnl0eXBlPSJpbnByb2NlZWRpbmdzIiwKICAgIG9yZ2FuaXphdGlvbj0iSUVFRSIsCiAgICBJRD0iaHV5c21hbnMyMDE0YWN0aXZpdHkiLAogICAgY2x1c3Rlcl9pZD0iMjY0Njg0NTg0Mjg1MjcyNjUzNSIsCiAgICBzY2hvbGFyPSJodHRwOi8vc2Nob2xhci5nb29nbGUuY29tL3NjaG9sYXI/Y2l0ZXM9MjY0Njg0NTg0Mjg1MjcyNjUzNSZhc19zZHQ9MjAwNSZzY2lvZHQ9MCw1JmhsPWVuIiwKICAgIHBsYWNleD0iU3lzdGVtIFNjaWVuY2VzIChISUNTUyksIDIwMTQgNDd0aCBIYXdhaWkgSW50ZXJuYXRpb25hbCBDb25mZXJlbmNlIG9uIiwKKSkKCkRCKENpdGF0aW9uKAogICAgaHV5c21hbnMyMDE0YSwgdHJpZW5la2VuczIwMDlhLCByZWY9IiIsCiAgICBjb250ZXh0cz1bCgogICAgXSwKKSkKCicnJywgY2l0YXRpb25zPSd0cmllbmVrZW5zMjAwOWEnKTs=\"));\n",
       "    "
      ],
      "text/plain": [
       "<IPython.core.display.Javascript object>"
      ]
     },
     "metadata": {},
     "output_type": "display_data"
    },
    {
     "data": {
      "application/javascript": [
       "$('span:contains(\"# Temp\")').closest('.cell').remove();"
      ],
      "text/plain": [
       "<IPython.core.display.Javascript object>"
      ]
     },
     "metadata": {},
     "output_type": "display_data"
    },
    {
     "data": {
      "application/javascript": [
       "\n",
       "        $('span:contains(\"# Temp\")').closest('.cell').remove();\n",
       "        var code = IPython.notebook.insert_cell_below('code');\n",
       "        code.set_text(atob(\"IyBUZW1wCmluc2VydCgnJycKaHV5c21hbnMyMDE0YSA9IERCKFdvcmtVbnJlbGF0ZWQoCiAgICAyMDE0LCAiQWN0aXZpdHktYmFzZWQgY29zdGluZyBhcyBhIGRlc2lnbiBzY2llbmNlIGFydGlmYWN0IiwKICAgIGRpc3BsYXk9Imh1eXNtYW5zIiwKICAgIGF1dGhvcnM9Ikh1eXNtYW5zLCBQaGlsaXAgYW5kIERlIEJydXluLCBQZXRlciIsCiAgICBwbGFjZT1GQUtFLAogICAgcHA9IjM2NjctLTM2NzYiLAogICAgZW50cnl0eXBlPSJpbnByb2NlZWRpbmdzIiwKICAgIG9yZ2FuaXphdGlvbj0iSUVFRSIsCiAgICBJRD0iaHV5c21hbnMyMDE0YWN0aXZpdHkiLAogICAgY2x1c3Rlcl9pZD0iMjY0Njg0NTg0Mjg1MjcyNjUzNSIsCiAgICBzY2hvbGFyPSJodHRwOi8vc2Nob2xhci5nb29nbGUuY29tL3NjaG9sYXI/Y2l0ZXM9MjY0Njg0NTg0Mjg1MjcyNjUzNSZhc19zZHQ9MjAwNSZzY2lvZHQ9MCw1JmhsPWVuIiwKICAgIHBsYWNleD0iU3lzdGVtIFNjaWVuY2VzIChISUNTUyksIDIwMTQgNDd0aCBIYXdhaWkgSW50ZXJuYXRpb25hbCBDb25mZXJlbmNlIG9uIiwKKSkKCkRCKENpdGF0aW9uKAogICAgaHV5c21hbnMyMDE0YSwgdHJpZW5la2VuczIwMDlhLCByZWY9IiIsCiAgICBjb250ZXh0cz1bCgogICAgXSwKKSkKCicnJywgY2l0YXRpb25zPSd0cmllbmVrZW5zMjAwOWEnKTs=\"));\n",
       "    "
      ],
      "text/plain": [
       "<IPython.core.display.Javascript object>"
      ]
     },
     "metadata": {},
     "output_type": "display_data"
    },
    {
     "data": {
      "application/javascript": [
       "$('span:contains(\"# Temp\")').closest('.cell').remove();"
      ],
      "text/plain": [
       "<IPython.core.display.Javascript object>"
      ]
     },
     "metadata": {},
     "output_type": "display_data"
    },
    {
     "data": {
      "application/javascript": [
       "\n",
       "        $('span:contains(\"# Temp\")').closest('.cell').remove();\n",
       "        var code = IPython.notebook.insert_cell_below('code');\n",
       "        code.set_text(atob(\"IyBUZW1wCmluc2VydCgnJycKemF3ZWRkZTIwMTRhID0gREIoV29ya1VucmVsYXRlZCgKICAgIDIwMTQsICJEeW5hbWljcyBvZiBzb2Z0d2FyZSBzeXN0ZW1zIHByb2plY3RzIGR1cmluZyB0aGUgcmVxdWlyZW1lbnRzIHByb2Nlc3MgaW1wcm92ZW1lbnQiLAogICAgZGlzcGxheT0iemF3ZWRkZSIsCiAgICBhdXRob3JzPSJaYXdlZGRlLCBBbWluYWggYW5kIFdpbGxpYW1zLCBEZGVtYmUiLAogICAgcGxhY2U9RkFLRSwKICAgIHBwPSIyMDYtLTIyMSIsCiAgICBlbnRyeXR5cGU9ImFydGljbGUiLAogICAgdm9sdW1lPSI5IiwKICAgIG51bWJlcj0iNCIsCiAgICBwdWJsaXNoZXI9IkluZGVyc2NpZW5jZSBQdWJsaXNoZXJzIiwKICAgIElEPSJ6YXdlZGRlMjAxNGR5bmFtaWNzIiwKICAgIGNsdXN0ZXJfaWQ9IjEwMDQ0NjkwMjEyODQ2MTQ5ODgyIiwKICAgIHNjaG9sYXI9Imh0dHA6Ly9zY2hvbGFyLmdvb2dsZS5jb20vc2Nob2xhcj9jaXRlcz0xMDA0NDY5MDIxMjg0NjE0OTg4MiZhc19zZHQ9MjAwNSZzY2lvZHQ9MCw1JmhsPWVuIiwKICAgIHBsYWNleD0iSW50ZXJuYXRpb25hbCBKb3VybmFsIG9mIFNpbXVsYXRpb24gYW5kIFByb2Nlc3MgTW9kZWxsaW5nIiwKKSkKCkRCKENpdGF0aW9uKAogICAgemF3ZWRkZTIwMTRhLCB0cmllbmVrZW5zMjAwOWEsIHJlZj0iIiwKICAgIGNvbnRleHRzPVsKCiAgICBdLAopKQoKJycnLCBjaXRhdGlvbnM9J3RyaWVuZWtlbnMyMDA5YScpOw==\"));\n",
       "    "
      ],
      "text/plain": [
       "<IPython.core.display.Javascript object>"
      ]
     },
     "metadata": {},
     "output_type": "display_data"
    },
    {
     "data": {
      "application/javascript": [
       "$('span:contains(\"# Temp\")').closest('.cell').remove();"
      ],
      "text/plain": [
       "<IPython.core.display.Javascript object>"
      ]
     },
     "metadata": {},
     "output_type": "display_data"
    },
    {
     "data": {
      "application/javascript": [
       "\n",
       "        $('span:contains(\"# Temp\")').closest('.cell').remove();\n",
       "        var code = IPython.notebook.insert_cell_below('code');\n",
       "        code.set_text(atob(\"IyBUZW1wCmluc2VydCgnJycKemF3ZWRkZTIwMTRhID0gREIoV29ya1VucmVsYXRlZCgKICAgIDIwMTQsICJEeW5hbWljcyBvZiBzb2Z0d2FyZSBzeXN0ZW1zIHByb2plY3RzIGR1cmluZyB0aGUgcmVxdWlyZW1lbnRzIHByb2Nlc3MgaW1wcm92ZW1lbnQiLAogICAgZGlzcGxheT0iemF3ZWRkZSIsCiAgICBhdXRob3JzPSJaYXdlZGRlLCBBbWluYWggYW5kIFdpbGxpYW1zLCBEZGVtYmUiLAogICAgcGxhY2U9RkFLRSwKICAgIHBwPSIyMDYtLTIyMSIsCiAgICBlbnRyeXR5cGU9ImFydGljbGUiLAogICAgdm9sdW1lPSI5IiwKICAgIG51bWJlcj0iNCIsCiAgICBwdWJsaXNoZXI9IkluZGVyc2NpZW5jZSBQdWJsaXNoZXJzIiwKICAgIElEPSJ6YXdlZGRlMjAxNGR5bmFtaWNzIiwKICAgIGNsdXN0ZXJfaWQ9IjEwMDQ0NjkwMjEyODQ2MTQ5ODgyIiwKICAgIHNjaG9sYXI9Imh0dHA6Ly9zY2hvbGFyLmdvb2dsZS5jb20vc2Nob2xhcj9jaXRlcz0xMDA0NDY5MDIxMjg0NjE0OTg4MiZhc19zZHQ9MjAwNSZzY2lvZHQ9MCw1JmhsPWVuIiwKICAgIHBsYWNleD0iSW50ZXJuYXRpb25hbCBKb3VybmFsIG9mIFNpbXVsYXRpb24gYW5kIFByb2Nlc3MgTW9kZWxsaW5nIiwKKSkKCkRCKENpdGF0aW9uKAogICAgemF3ZWRkZTIwMTRhLCB0cmllbmVrZW5zMjAwOWEsIHJlZj0iIiwKICAgIGNvbnRleHRzPVsKCiAgICBdLAopKQoKJycnLCBjaXRhdGlvbnM9J3RyaWVuZWtlbnMyMDA5YScpOw==\"));\n",
       "    "
      ],
      "text/plain": [
       "<IPython.core.display.Javascript object>"
      ]
     },
     "metadata": {},
     "output_type": "display_data"
    },
    {
     "data": {
      "application/javascript": [
       "$('span:contains(\"# Temp\")').closest('.cell').remove();"
      ],
      "text/plain": [
       "<IPython.core.display.Javascript object>"
      ]
     },
     "metadata": {},
     "output_type": "display_data"
    },
    {
     "data": {
      "application/javascript": [
       "\n",
       "        $('span:contains(\"# Temp\")').closest('.cell').remove();\n",
       "        var code = IPython.notebook.insert_cell_below('code');\n",
       "        code.set_text(atob(\"IyBUZW1wCmluc2VydCgnJycKemF3ZWRkZTIwMTZhID0gREIoV29ya1VucmVsYXRlZCgKICAgIDIwMTYsICJNb2RlbGluZyB0aGUgZHluYW1pY3Mgb2YgcmVxdWlyZW1lbnRzIHByb2Nlc3MgaW1wcm92ZW1lbnQiLAogICAgZGlzcGxheT0iemF3ZWRkZSIsCiAgICBhdXRob3JzPSJaYXdlZGRlLCBBIiwKICAgIHBsYWNlPUJvb2ssCiAgICBlbnRyeXR5cGU9ImJvb2siLAogICAgcHVibGlzaGVyPSJUZWNobmlzY2hlIFVuaXZlcnNpdGVpdCBFaW5kaG92ZW4iLAogICAgSUQ9Inphd2VkZGUyMDE2bW9kZWxpbmciLAogICAgY2x1c3Rlcl9pZD0iMTc0MTYwNzI3MzI4NDI3NDA3NzkiLAogICAgc2Nob2xhcj0iaHR0cDovL3NjaG9sYXIuZ29vZ2xlLmNvbS9zY2hvbGFyP2NpdGVzPTE3NDE2MDcyNzMyODQyNzQwNzc5JmFzX3NkdD0yMDA1JnNjaW9kdD0wLDUmaGw9ZW4iLAogICAgcGxhY2V4PSIiLAopKQoKREIoQ2l0YXRpb24oCiAgICB6YXdlZGRlMjAxNmEsIHRyaWVuZWtlbnMyMDA5YSwgcmVmPSIiLAogICAgY29udGV4dHM9WwoKICAgIF0sCikpCgonJycsIGNpdGF0aW9ucz0ndHJpZW5la2VuczIwMDlhJyk7\"));\n",
       "    "
      ],
      "text/plain": [
       "<IPython.core.display.Javascript object>"
      ]
     },
     "metadata": {},
     "output_type": "display_data"
    },
    {
     "data": {
      "application/javascript": [
       "$('span:contains(\"# Temp\")').closest('.cell').remove();"
      ],
      "text/plain": [
       "<IPython.core.display.Javascript object>"
      ]
     },
     "metadata": {},
     "output_type": "display_data"
    },
    {
     "data": {
      "application/javascript": [
       "\n",
       "        $('span:contains(\"# Temp\")').closest('.cell').remove();\n",
       "        var code = IPython.notebook.insert_cell_below('code');\n",
       "        code.set_text(atob(\"IyBUZW1wCmluc2VydCgnJycKemF3ZWRkZTIwMTZhID0gREIoV29ya1VucmVsYXRlZCgKICAgIDIwMTYsICJNb2RlbGluZyB0aGUgZHluYW1pY3Mgb2YgcmVxdWlyZW1lbnRzIHByb2Nlc3MgaW1wcm92ZW1lbnQiLAogICAgZGlzcGxheT0iemF3ZWRkZSIsCiAgICBhdXRob3JzPSJaYXdlZGRlLCBBIiwKICAgIHBsYWNlPUJvb2ssCiAgICBlbnRyeXR5cGU9ImJvb2siLAogICAgcHVibGlzaGVyPSJUZWNobmlzY2hlIFVuaXZlcnNpdGVpdCBFaW5kaG92ZW4iLAogICAgSUQ9Inphd2VkZGUyMDE2bW9kZWxpbmciLAogICAgY2x1c3Rlcl9pZD0iMTc0MTYwNzI3MzI4NDI3NDA3NzkiLAogICAgc2Nob2xhcj0iaHR0cDovL3NjaG9sYXIuZ29vZ2xlLmNvbS9zY2hvbGFyP2NpdGVzPTE3NDE2MDcyNzMyODQyNzQwNzc5JmFzX3NkdD0yMDA1JnNjaW9kdD0wLDUmaGw9ZW4iLAogICAgcGxhY2V4PSIiLAopKQoKREIoQ2l0YXRpb24oCiAgICB6YXdlZGRlMjAxNmEsIHRyaWVuZWtlbnMyMDA5YSwgcmVmPSIiLAogICAgY29udGV4dHM9WwoKICAgIF0sCikpCgonJycsIGNpdGF0aW9ucz0ndHJpZW5la2VuczIwMDlhJyk7\"));\n",
       "    "
      ],
      "text/plain": [
       "<IPython.core.display.Javascript object>"
      ]
     },
     "metadata": {},
     "output_type": "display_data"
    },
    {
     "data": {
      "application/javascript": [
       "$('span:contains(\"# Temp\")').closest('.cell').remove();"
      ],
      "text/plain": [
       "<IPython.core.display.Javascript object>"
      ]
     },
     "metadata": {},
     "output_type": "display_data"
    },
    {
     "data": {
      "application/javascript": [
       "\n",
       "        $('span:contains(\"# Temp\")').closest('.cell').remove();\n",
       "        var code = IPython.notebook.insert_cell_below('code');\n",
       "        code.set_text(atob(\"IyBUZW1wCmluc2VydCgnJycKaGluejIwMTBhID0gREIoV29ya1VucmVsYXRlZCgKICAgIDIwMTAsICJFeHBsb3JpbmcgdGhlIGxvY2FsaXphdGlvbiByZXF1aXJlbWVudHMgZm9yIEthc2h1YmlhbiBMaW51eDogT3BlbmluZyBuZXcgbWFya2V0cyBmb3Igb3Blbi1zb3VyY2UgZGV2ZWxvcG1lbnQgcHJvamVjdHMiLAogICAgZGlzcGxheT0iaGlueiIsCiAgICBhdXRob3JzPSJIaW56LCBZdXJlayBLIiwKICAgIHBsYWNlPVRoZXNpcywKICAgIGVudHJ5dHlwZT0icGhkdGhlc2lzIiwKICAgIElEPSJoaW56MjAxMGV4cGxvcmluZyIsCiAgICBjbHVzdGVyX2lkPSIxMDIwNzIyNTUyMzAyMzQ2NzI2MyIsCiAgICBzY2hvbGFyPSJodHRwOi8vc2Nob2xhci5nb29nbGUuY29tL3NjaG9sYXI/Y2l0ZXM9MTAyMDcyMjU1MjMwMjM0NjcyNjMmYXNfc2R0PTIwMDUmc2Npb2R0PTAsNSZobD1lbiIsCiAgICBsb2NhbD0iTm9ydGhjZW50cmFsIFVuaXZlcnNpdHkiLAogICAgcGxhY2V4PSIiLAopKQoKREIoQ2l0YXRpb24oCiAgICBoaW56MjAxMGEsIHRyaWVuZWtlbnMyMDA5YSwgcmVmPSIiLAogICAgY29udGV4dHM9WwoKICAgIF0sCikpCgonJycsIGNpdGF0aW9ucz0ndHJpZW5la2VuczIwMDlhJyk7\"));\n",
       "    "
      ],
      "text/plain": [
       "<IPython.core.display.Javascript object>"
      ]
     },
     "metadata": {},
     "output_type": "display_data"
    },
    {
     "data": {
      "application/javascript": [
       "$('span:contains(\"# Temp\")').closest('.cell').remove();"
      ],
      "text/plain": [
       "<IPython.core.display.Javascript object>"
      ]
     },
     "metadata": {},
     "output_type": "display_data"
    },
    {
     "data": {
      "application/javascript": [
       "\n",
       "        $('span:contains(\"# Temp\")').closest('.cell').remove();\n",
       "        var code = IPython.notebook.insert_cell_below('code');\n",
       "        code.set_text(atob(\"IyBUZW1wCmluc2VydCgnJycKaGluejIwMTBhID0gREIoV29ya1VucmVsYXRlZCgKICAgIDIwMTAsICJFeHBsb3JpbmcgdGhlIGxvY2FsaXphdGlvbiByZXF1aXJlbWVudHMgZm9yIEthc2h1YmlhbiBMaW51eDogT3BlbmluZyBuZXcgbWFya2V0cyBmb3Igb3Blbi1zb3VyY2UgZGV2ZWxvcG1lbnQgcHJvamVjdHMiLAogICAgZGlzcGxheT0iaGlueiIsCiAgICBhdXRob3JzPSJIaW56LCBZdXJlayBLIiwKICAgIHBsYWNlPVRoZXNpcywKICAgIGVudHJ5dHlwZT0icGhkdGhlc2lzIiwKICAgIElEPSJoaW56MjAxMGV4cGxvcmluZyIsCiAgICBjbHVzdGVyX2lkPSIxMDIwNzIyNTUyMzAyMzQ2NzI2MyIsCiAgICBzY2hvbGFyPSJodHRwOi8vc2Nob2xhci5nb29nbGUuY29tL3NjaG9sYXI/Y2l0ZXM9MTAyMDcyMjU1MjMwMjM0NjcyNjMmYXNfc2R0PTIwMDUmc2Npb2R0PTAsNSZobD1lbiIsCiAgICBsb2NhbD0iTm9ydGhjZW50cmFsIFVuaXZlcnNpdHkiLAogICAgcGxhY2V4PSIiLAopKQoKREIoQ2l0YXRpb24oCiAgICBoaW56MjAxMGEsIHRyaWVuZWtlbnMyMDA5YSwgcmVmPSIiLAogICAgY29udGV4dHM9WwoKICAgIF0sCikpCgonJycsIGNpdGF0aW9ucz0ndHJpZW5la2VuczIwMDlhJyk7\"));\n",
       "    "
      ],
      "text/plain": [
       "<IPython.core.display.Javascript object>"
      ]
     },
     "metadata": {},
     "output_type": "display_data"
    },
    {
     "data": {
      "application/javascript": [
       "$('span:contains(\"# Temp\")').closest('.cell').remove();"
      ],
      "text/plain": [
       "<IPython.core.display.Javascript object>"
      ]
     },
     "metadata": {},
     "output_type": "display_data"
    },
    {
     "data": {
      "application/javascript": [
       "\n",
       "        $('span:contains(\"# Temp\")').closest('.cell').remove();\n",
       "        var code = IPython.notebook.insert_cell_below('code');\n",
       "        code.set_text(atob(\"IyBUZW1wCmluc2VydCgnJycKYm9yZ2VydDIwMDlhID0gREIoV29ya1VucmVsYXRlZCgKICAgIDIwMDksICJBIENvbXBhcmF0aXZlIFN0dWR5IG9mIENvbXBsZXhpdHkgTWVhc3VyZXMgdG8gQW5hbHl6ZSBCdXNpbmVzcyBQcm9jZXNzIE1vZGVscyIsCiAgICBkaXNwbGF5PSJib3JnZXJ0IiwKICAgIGF1dGhvcnM9IkJvcmdlcnQsIFN0ZXBoYW4gYW5kIERlaG1lciwgTWF0dGhpYXMgYW5kIEFpdGVuYmljaGxlciwgRXJ3aW4iLAogICAgcGxhY2U9RkFLRSwKICAgIGVudHJ5dHlwZT0iaW5wcm9jZWVkaW5ncyIsCiAgICBJRD0iYm9yZ2VydDIwMDljb21wYXJhdGl2ZSIsCiAgICBjbHVzdGVyX2lkPSIxNTg5OTE2NTk3MTI3NzMyNDAzMyIsCiAgICBzY2hvbGFyPSJodHRwOi8vc2Nob2xhci5nb29nbGUuY29tL3NjaG9sYXI/Y2l0ZXM9MTU4OTkxNjU5NzEyNzczMjQwMzMmYXNfc2R0PTIwMDUmc2Npb2R0PTAsNSZobD1lbiIsCiAgICBwbGFjZXg9IlByb2NlZWRpbmdzIG9mIHRoZSBJbnRlcm5hdGlvbmFsIFN5bXBvc2l1bSBvbiBVbmRlcnN0YW5kaW5nIEludGVsbGlnZW50IGFuZCBDb21wbGV4IFN5c3RlbXMsIFVJQ1MgMjAwOSIsCikpCgpEQihDaXRhdGlvbigKICAgIGJvcmdlcnQyMDA5YSwgdHJpZW5la2VuczIwMDlhLCByZWY9IiIsCiAgICBjb250ZXh0cz1bCgogICAgXSwKKSkKCicnJywgY2l0YXRpb25zPSd0cmllbmVrZW5zMjAwOWEnKTs=\"));\n",
       "    "
      ],
      "text/plain": [
       "<IPython.core.display.Javascript object>"
      ]
     },
     "metadata": {},
     "output_type": "display_data"
    },
    {
     "data": {
      "application/javascript": [
       "$('span:contains(\"# Temp\")').closest('.cell').remove();"
      ],
      "text/plain": [
       "<IPython.core.display.Javascript object>"
      ]
     },
     "metadata": {},
     "output_type": "display_data"
    },
    {
     "data": {
      "application/javascript": [
       "\n",
       "        $('span:contains(\"# Temp\")').closest('.cell').remove();\n",
       "        var code = IPython.notebook.insert_cell_below('code');\n",
       "        code.set_text(atob(\"IyBUZW1wCmluc2VydCgnJycKYm9yZ2VydDIwMDlhID0gREIoV29ya1VucmVsYXRlZCgKICAgIDIwMDksICJBIENvbXBhcmF0aXZlIFN0dWR5IG9mIENvbXBsZXhpdHkgTWVhc3VyZXMgdG8gQW5hbHl6ZSBCdXNpbmVzcyBQcm9jZXNzIE1vZGVscyIsCiAgICBkaXNwbGF5PSJib3JnZXJ0IiwKICAgIGF1dGhvcnM9IkJvcmdlcnQsIFN0ZXBoYW4gYW5kIERlaG1lciwgTWF0dGhpYXMgYW5kIEFpdGVuYmljaGxlciwgRXJ3aW4iLAogICAgcGxhY2U9RkFLRSwKICAgIGVudHJ5dHlwZT0iaW5wcm9jZWVkaW5ncyIsCiAgICBJRD0iYm9yZ2VydDIwMDljb21wYXJhdGl2ZSIsCiAgICBjbHVzdGVyX2lkPSIxNTg5OTE2NTk3MTI3NzMyNDAzMyIsCiAgICBzY2hvbGFyPSJodHRwOi8vc2Nob2xhci5nb29nbGUuY29tL3NjaG9sYXI/Y2l0ZXM9MTU4OTkxNjU5NzEyNzczMjQwMzMmYXNfc2R0PTIwMDUmc2Npb2R0PTAsNSZobD1lbiIsCiAgICBwbGFjZXg9IlByb2NlZWRpbmdzIG9mIHRoZSBJbnRlcm5hdGlvbmFsIFN5bXBvc2l1bSBvbiBVbmRlcnN0YW5kaW5nIEludGVsbGlnZW50IGFuZCBDb21wbGV4IFN5c3RlbXMsIFVJQ1MgMjAwOSIsCikpCgpEQihDaXRhdGlvbigKICAgIGJvcmdlcnQyMDA5YSwgdHJpZW5la2VuczIwMDlhLCByZWY9IiIsCiAgICBjb250ZXh0cz1bCgogICAgXSwKKSkKCicnJywgY2l0YXRpb25zPSd0cmllbmVrZW5zMjAwOWEnKTs=\"));\n",
       "    "
      ],
      "text/plain": [
       "<IPython.core.display.Javascript object>"
      ]
     },
     "metadata": {},
     "output_type": "display_data"
    },
    {
     "data": {
      "application/javascript": [
       "$('span:contains(\"# Temp\")').closest('.cell').remove();"
      ],
      "text/plain": [
       "<IPython.core.display.Javascript object>"
      ]
     },
     "metadata": {},
     "output_type": "display_data"
    },
    {
     "data": {
      "application/javascript": [
       "\n",
       "        $('span:contains(\"# Temp\")').closest('.cell').remove();\n",
       "        var code = IPython.notebook.insert_cell_below('code');\n",
       "        code.set_text(atob(\"IyBUZW1wCmluc2VydCgnJycKaGFpZ2gyMDEyYSA9IERCKFdvcmtVbnJlbGF0ZWQoCiAgICAyMDEyLCAiUmVxdWlyZW1lbnRzIGVuZ2luZWVyaW5nIGZvciBidXNpbmVzcyBzdGFrZWhvbGRlcnM6IGFwcGx5aW5nIHF1YWxpdHkgdmlld3MgZnJhbWV3b3JrIHRvIHNvZnR3YXJlIiwKICAgIGRpc3BsYXk9ImhhaWdoIiwKICAgIGF1dGhvcnM9IkhhaWdoLCBNIiwKICAgIHBsYWNlPUZBS0UsCiAgICBlbnRyeXR5cGU9ImFydGljbGUiLAogICAgcHVibGlzaGVyPSI/Pz8/Pz8/Pz8/PyIsCiAgICBJRD0iaGFpZ2gyMDEycmVxdWlyZW1lbnRzIiwKICAgIHBsYWNleD0iIiwKKSkKCkRCKENpdGF0aW9uKAogICAgaGFpZ2gyMDEyYSwgdHJpZW5la2VuczIwMDlhLCByZWY9IiIsCiAgICBjb250ZXh0cz1bCgogICAgXSwKKSkKCicnJywgY2l0YXRpb25zPSd0cmllbmVrZW5zMjAwOWEnKTs=\"));\n",
       "    "
      ],
      "text/plain": [
       "<IPython.core.display.Javascript object>"
      ]
     },
     "metadata": {},
     "output_type": "display_data"
    },
    {
     "data": {
      "application/javascript": [
       "$('span:contains(\"# Temp\")').closest('.cell').remove();"
      ],
      "text/plain": [
       "<IPython.core.display.Javascript object>"
      ]
     },
     "metadata": {},
     "output_type": "display_data"
    },
    {
     "data": {
      "application/javascript": [
       "\n",
       "        $('span:contains(\"# Temp\")').closest('.cell').remove();\n",
       "        var code = IPython.notebook.insert_cell_below('code');\n",
       "        code.set_text(atob(\"IyBUZW1wCmluc2VydCgnJycKaGFpZ2gyMDEyYSA9IERCKFdvcmtVbnJlbGF0ZWQoCiAgICAyMDEyLCAiUmVxdWlyZW1lbnRzIGVuZ2luZWVyaW5nIGZvciBidXNpbmVzcyBzdGFrZWhvbGRlcnM6IGFwcGx5aW5nIHF1YWxpdHkgdmlld3MgZnJhbWV3b3JrIHRvIHNvZnR3YXJlIiwKICAgIGRpc3BsYXk9ImhhaWdoIiwKICAgIGF1dGhvcnM9IkhhaWdoLCBNIiwKICAgIHBsYWNlPUZBS0UsCiAgICBlbnRyeXR5cGU9ImFydGljbGUiLAogICAgcHVibGlzaGVyPSI/Pz8/Pz8/Pz8/PyIsCiAgICBJRD0iaGFpZ2gyMDEycmVxdWlyZW1lbnRzIiwKICAgIHBsYWNleD0iIiwKKSkKCkRCKENpdGF0aW9uKAogICAgaGFpZ2gyMDEyYSwgdHJpZW5la2VuczIwMDlhLCByZWY9IiIsCiAgICBjb250ZXh0cz1bCgogICAgXSwKKSkKCicnJywgY2l0YXRpb25zPSd0cmllbmVrZW5zMjAwOWEnKTs=\"));\n",
       "    "
      ],
      "text/plain": [
       "<IPython.core.display.Javascript object>"
      ]
     },
     "metadata": {},
     "output_type": "display_data"
    },
    {
     "data": {
      "application/javascript": [
       "$('span:contains(\"# Temp\")').closest('.cell').remove();"
      ],
      "text/plain": [
       "<IPython.core.display.Javascript object>"
      ]
     },
     "metadata": {},
     "output_type": "display_data"
    },
    {
     "data": {
      "application/javascript": [
       "\n",
       "        $('span:contains(\"# Temp\")').closest('.cell').remove();\n",
       "        var code = IPython.notebook.insert_cell_below('code');\n",
       "        code.set_text(atob(\"IyBUZW1wCmluc2VydCgnJycKbGliZXJhdG8yMDE2YSA9IERCKFdvcmtVbnJlbGF0ZWQoCiAgICAyMDE2LCAiSW4gUHVyc3VpdCBvZiBDb250aW51b3VzIEltcHJvdmVtZW50OiBUaGUgQ2FzZSBvZiBhIFNvZnR3YXJlIENvbXBhbnkiLAogICAgZGlzcGxheT0ibGliZXJhdG8iLAogICAgYXV0aG9ycz0iTGliZXJhdG8sIE1hcmNvIiwKICAgIHBsYWNlPUZBS0UsCiAgICBwcD0iMzQtLTU2IiwKICAgIGVudHJ5dHlwZT0iYXJ0aWNsZSIsCiAgICB2b2x1bWU9IjUiLAogICAgbnVtYmVyPSIxIiwKICAgIHB1Ymxpc2hlcj0iSUdJIEdsb2JhbCIsCiAgICBJRD0ibGliZXJhdG8yMDE2cHVyc3VpdCIsCiAgICBwbGFjZXg9IkludGVybmF0aW9uYWwgSm91cm5hbCBvZiBTb2NpYWwgYW5kIE9yZ2FuaXphdGlvbmFsIER5bmFtaWNzIGluIElUIChJSlNPRElUKSIsCikpCgpEQihDaXRhdGlvbigKICAgIGxpYmVyYXRvMjAxNmEsIHRyaWVuZWtlbnMyMDA5YSwgcmVmPSIiLAogICAgY29udGV4dHM9WwoKICAgIF0sCikpCgonJycsIGNpdGF0aW9ucz0ndHJpZW5la2VuczIwMDlhJyk7\"));\n",
       "    "
      ],
      "text/plain": [
       "<IPython.core.display.Javascript object>"
      ]
     },
     "metadata": {},
     "output_type": "display_data"
    },
    {
     "data": {
      "application/javascript": [
       "$('span:contains(\"# Temp\")').closest('.cell').remove();"
      ],
      "text/plain": [
       "<IPython.core.display.Javascript object>"
      ]
     },
     "metadata": {},
     "output_type": "display_data"
    },
    {
     "data": {
      "application/javascript": [
       "\n",
       "        $('span:contains(\"# Temp\")').closest('.cell').remove();\n",
       "        var code = IPython.notebook.insert_cell_below('code');\n",
       "        code.set_text(atob(\"IyBUZW1wCmluc2VydCgnJycKbGliZXJhdG8yMDE2YSA9IERCKFdvcmtVbnJlbGF0ZWQoCiAgICAyMDE2LCAiSW4gUHVyc3VpdCBvZiBDb250aW51b3VzIEltcHJvdmVtZW50OiBUaGUgQ2FzZSBvZiBhIFNvZnR3YXJlIENvbXBhbnkiLAogICAgZGlzcGxheT0ibGliZXJhdG8iLAogICAgYXV0aG9ycz0iTGliZXJhdG8sIE1hcmNvIiwKICAgIHBsYWNlPUZBS0UsCiAgICBwcD0iMzQtLTU2IiwKICAgIGVudHJ5dHlwZT0iYXJ0aWNsZSIsCiAgICB2b2x1bWU9IjUiLAogICAgbnVtYmVyPSIxIiwKICAgIHB1Ymxpc2hlcj0iSUdJIEdsb2JhbCIsCiAgICBJRD0ibGliZXJhdG8yMDE2cHVyc3VpdCIsCiAgICBwbGFjZXg9IkludGVybmF0aW9uYWwgSm91cm5hbCBvZiBTb2NpYWwgYW5kIE9yZ2FuaXphdGlvbmFsIER5bmFtaWNzIGluIElUIChJSlNPRElUKSIsCikpCgpEQihDaXRhdGlvbigKICAgIGxpYmVyYXRvMjAxNmEsIHRyaWVuZWtlbnMyMDA5YSwgcmVmPSIiLAogICAgY29udGV4dHM9WwoKICAgIF0sCikpCgonJycsIGNpdGF0aW9ucz0ndHJpZW5la2VuczIwMDlhJyk7\"));\n",
       "    "
      ],
      "text/plain": [
       "<IPython.core.display.Javascript object>"
      ]
     },
     "metadata": {},
     "output_type": "display_data"
    },
    {
     "data": {
      "application/javascript": [
       "$('span:contains(\"# Temp\")').closest('.cell').remove();"
      ],
      "text/plain": [
       "<IPython.core.display.Javascript object>"
      ]
     },
     "metadata": {},
     "output_type": "display_data"
    },
    {
     "data": {
      "application/javascript": [
       "\n",
       "        $('span:contains(\"# Temp\")').closest('.cell').remove();\n",
       "        var code = IPython.notebook.insert_cell_below('code');\n",
       "        code.set_text(atob(\"IyBUZW1wCmluc2VydCgnJycKbGVlMjAxMWEgPSBEQihXb3JrVW5yZWxhdGVkKAogICAgMjAxMSwgIkRldGVybWluYW50cyBvZiBrbm93bGVkZ2UgbWFwcGluZyBhZG9wdGlvbiBpbiBzb2Z0d2FyZSBtYWludGVuYW5jZSIsCiAgICBkaXNwbGF5PSJsZWUiLAogICAgYXV0aG9ycz0iTGVlLCBKb3NlcGggSyIsCiAgICBwbGFjZT1GQUtFLAogICAgZW50cnl0eXBlPSJhcnRpY2xlIiwKICAgIElEPSJsZWUyMDExZGV0ZXJtaW5hbnRzIiwKICAgIHBsYWNleD0iIiwKKSkKCkRCKENpdGF0aW9uKAogICAgbGVlMjAxMWEsIHRyaWVuZWtlbnMyMDA5YSwgcmVmPSIiLAogICAgY29udGV4dHM9WwoKICAgIF0sCikpCgonJycsIGNpdGF0aW9ucz0ndHJpZW5la2VuczIwMDlhJyk7\"));\n",
       "    "
      ],
      "text/plain": [
       "<IPython.core.display.Javascript object>"
      ]
     },
     "metadata": {},
     "output_type": "display_data"
    },
    {
     "data": {
      "application/javascript": [
       "$('span:contains(\"# Temp\")').closest('.cell').remove();"
      ],
      "text/plain": [
       "<IPython.core.display.Javascript object>"
      ]
     },
     "metadata": {},
     "output_type": "display_data"
    },
    {
     "data": {
      "application/javascript": [
       "\n",
       "        $('span:contains(\"# Temp\")').closest('.cell').remove();\n",
       "        var code = IPython.notebook.insert_cell_below('code');\n",
       "        code.set_text(atob(\"IyBUZW1wCmluc2VydCgnJycKaGFpZ2gyMDEyYiA9IERCKFdvcmtVbnJlbGF0ZWQoCiAgICAyMDEyLCAiPz8/Pz8/Pz8gPz8/Pz8/ID8/PyA/Pz8/Pz8tPz8/Pz8/Pz8/Pz8/OiA/Pz8/Pz8/Pz8/Pz8gPz8/Pz8/PyA/Pz8/Pz8/Pz8/Pz8gPz8/Pz8/ID8/PyA/Pz8/Pz8/Pz8/PyA/Pz8/Pz8/Pz8/Pz8iLAogICAgZGlzcGxheT0iaGFpZ2ggYiIsCiAgICBhdXRob3JzPSJIYWlnaCwgTWFyaWEiLAogICAgcGxhY2U9RkFLRSwKICAgIHBwPSIzMS0tMzgiLAogICAgZW50cnl0eXBlPSJhcnRpY2xlIiwKICAgIG51bWJlcj0iMSIsCiAgICBJRD0iaGFpZ2gyMDEyPz8/Pz8/Pz8iLAogICAgcGxhY2V4PSI/Pz8/Pz8/PyA/Pz8/Pz8/Pz8/PyA/PyA/Pz8/Pz8/Pz8/Pz8gPz8/Pz8/Pz8/PyIsCikpCgpEQihDaXRhdGlvbigKICAgIGhhaWdoMjAxMmIsIHRyaWVuZWtlbnMyMDA5YSwgcmVmPSIiLAogICAgY29udGV4dHM9WwoKICAgIF0sCikpCgonJycsIGNpdGF0aW9ucz0ndHJpZW5la2VuczIwMDlhJyk7\"));\n",
       "    "
      ],
      "text/plain": [
       "<IPython.core.display.Javascript object>"
      ]
     },
     "metadata": {},
     "output_type": "display_data"
    },
    {
     "data": {
      "application/javascript": [
       "$('span:contains(\"# Temp\")').closest('.cell').remove();"
      ],
      "text/plain": [
       "<IPython.core.display.Javascript object>"
      ]
     },
     "metadata": {},
     "output_type": "display_data"
    }
   ],
   "source": [
    "manager"
   ]
  },
  {
   "cell_type": "code",
   "execution_count": null,
   "metadata": {
    "collapsed": true
   },
   "outputs": [],
   "source": []
  }
 ],
 "metadata": {
  "kernelspec": {
   "display_name": "Python 3",
   "language": "python",
   "name": "python3"
  },
  "language_info": {
   "codemirror_mode": {
    "name": "ipython",
    "version": 3
   },
   "file_extension": ".py",
   "mimetype": "text/x-python",
   "name": "python",
   "nbconvert_exporter": "python",
   "pygments_lexer": "ipython3",
   "version": "3.6.0"
  },
  "toc": {
   "nav_menu": {
    "height": "12px",
    "width": "252px"
   },
   "number_sections": true,
   "sideBar": true,
   "skip_h1_title": false,
   "toc_cell": false,
   "toc_position": {},
   "toc_section_display": "block",
   "toc_window_display": false
  }
 },
 "nbformat": 4,
 "nbformat_minor": 1
}
