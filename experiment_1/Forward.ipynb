{
 "cells": [
  {
   "cell_type": "code",
   "execution_count": 30,
   "metadata": {
    "collapsed": true
   },
   "outputs": [],
   "source": [
    "import database\n",
    "from snowballing.operations import load_work, reload, work_by_varname\n",
    "from snowballing.selenium_scholar import SeleniumScholarQuerier\n",
    "from snowballing.snowballing import ForwardSnowballing\n",
    "from snowballing.dbmanager import insert, set_attribute\n",
    "from custom_snowballing import UnrelatedForward"
   ]
  },
  {
   "cell_type": "code",
   "execution_count": 2,
   "metadata": {
    "collapsed": true
   },
   "outputs": [],
   "source": [
    "querier = SeleniumScholarQuerier()"
   ]
  },
  {
   "cell_type": "code",
   "execution_count": 3,
   "metadata": {
    "scrolled": true
   },
   "outputs": [
    {
     "name": "stderr",
     "output_type": "stream",
     "text": [
      "[ INFO]  settings applied\n"
     ]
    }
   ],
   "source": [
    "querier.apply_settings(20, 4);"
   ]
  },
  {
   "cell_type": "code",
   "execution_count": 4,
   "metadata": {},
   "outputs": [
    {
     "name": "stdout",
     "output_type": "stream",
     "text": [
      "Captcha: ok\n"
     ]
    }
   ],
   "source": [
    "#manager = ForwardSnowballing(querier, \"mendes2004a\", start=60)\n",
    "import importlib\n",
    "import custom_snowballing\n",
    "importlib.reload(custom_snowballing)\n",
    "from custom_snowballing import UnrelatedForward\n",
    "manager = UnrelatedForward(querier, \"wang2005a\", start=0)"
   ]
  },
  {
   "cell_type": "code",
   "execution_count": null,
   "metadata": {
    "collapsed": true
   },
   "outputs": [],
   "source": []
  },
  {
   "cell_type": "code",
   "execution_count": null,
   "metadata": {
    "collapsed": true
   },
   "outputs": [],
   "source": []
  },
  {
   "cell_type": "code",
   "execution_count": 5,
   "metadata": {
    "scrolled": false
   },
   "outputs": [
    {
     "data": {
      "application/vnd.jupyter.widget-view+json": {
       "model_id": "09f4660e0bca4f16a66dc2703b1d6a7d",
       "version_major": 2,
       "version_minor": 0
      },
      "text/html": [
       "<p>Failed to display Jupyter Widget of type <code>Tab</code>.</p>\n",
       "<p>\n",
       "  If you're reading this message in Jupyter Notebook or JupyterLab, it may mean\n",
       "  that the widgets JavaScript is still loading. If this message persists, it\n",
       "  likely means that the widgets JavaScript library is either not installed or\n",
       "  not enabled. See the <a href=\"https://ipywidgets.readthedocs.io/en/stable/user_install.html\">Jupyter\n",
       "  Widgets Documentation</a> for setup instructions.\n",
       "</p>\n",
       "<p>\n",
       "  If you're reading this message in another notebook frontend (for example, a static\n",
       "  rendering on GitHub or <a href=\"https://nbviewer.jupyter.org/\">NBViewer</a>),\n",
       "  it may mean that your frontend doesn't currently support widgets.\n",
       "</p>\n"
      ],
      "text/plain": [
       "Tab(children=(VBox(children=(HBox(children=(Button(description='Previous Page', disabled=True, icon='arrow-left', style=ButtonStyle()), Button(description='Reload', icon='refresh', style=ButtonStyle()), Button(description='Next Page', icon='arrow-right', style=ButtonStyle()), ToggleButton(value=False, description='Debug'), Label(value=''))), Output(outputs=({'output_type': 'stream', 'text': \"Ops. It requires a captcha!\\nIf you filled in the browser, type '<ok>' here.\\n\", 'name': 'stdout'}, {'output_type': 'stream', 'text': '[ERROR]  requesting citation data failed: Message: The element reference of <div id=\"recaptcha\" class=\"g-recaptcha\"> is stale; either the element is no longer attached to the DOM, it is not in the current frame context, or the document has been refreshed\\n\\n', 'name': 'stderr'}, {'output_type': 'error', 'ename': 'TypeError', 'evalue': \"object of type 'NoneType' has no len()\", 'traceback': ['\\x1b[1;31m---------------------------------------------------------------------------\\x1b[0m', '\\x1b[1;31mTypeError\\x1b[0m                                 Traceback (most recent call last)', '\\x1b[1;32mc:\\\\erica\\\\snowballing\\\\snowballing\\\\snowballing.py\\x1b[0m in \\x1b[0;36mreload\\x1b[1;34m(self, b, show)\\x1b[0m\\n\\x1b[0;32m    620\\x1b[0m         \\x1b[1;32mwith\\x1b[0m \\x1b[0mself\\x1b[0m\\x1b[1;33m.\\x1b[0m\\x1b[0mnavigator\\x1b[0m\\x1b[1;33m.\\x1b[0m\\x1b[0moutput_widget\\x1b[0m\\x1b[1;33m:\\x1b[0m\\x1b[1;33m\\x1b[0m\\x1b[0m\\n\\x1b[0;32m    621\\x1b[0m             \\x1b[0mself\\x1b[0m\\x1b[1;33m.\\x1b[0m\\x1b[0mquerier\\x1b[0m\\x1b[1;33m.\\x1b[0m\\x1b[0mtasks\\x1b[0m\\x1b[1;33m.\\x1b[0m\\x1b[0mclear\\x1b[0m\\x1b[1;33m(\\x1b[0m\\x1b[1;33m)\\x1b[0m\\x1b[1;33m\\x1b[0m\\x1b[0m\\n\\x1b[1;32m--> 622\\x1b[1;33m             \\x1b[0mself\\x1b[0m\\x1b[1;33m.\\x1b[0m\\x1b[0mquerier\\x1b[0m\\x1b[1;33m.\\x1b[0m\\x1b[0msend_query\\x1b[0m\\x1b[1;33m(\\x1b[0m\\x1b[0mself\\x1b[0m\\x1b[1;33m.\\x1b[0m\\x1b[0mquery\\x1b[0m\\x1b[1;33m)\\x1b[0m\\x1b[1;33m\\x1b[0m\\x1b[0m\\n\\x1b[0m\\x1b[0;32m    623\\x1b[0m             self.page_number_widget.value = parse_qs(urlparse(\\n\\x1b[0;32m    624\\x1b[0m                 self.query.get_url()).query\\n', '\\x1b[1;32mc:\\\\erica\\\\snowballing\\\\snowballing\\\\selenium_scholar.py\\x1b[0m in \\x1b[0;36msend_query\\x1b[1;34m(self, query)\\x1b[0m\\n\\x1b[0;32m    483\\x1b[0m         \\x1b[1;34m\"\"\"Initiates a search query (a ScholarQuery instance)\"\"\"\\x1b[0m\\x1b[1;33m\\x1b[0m\\x1b[0m\\n\\x1b[0;32m    484\\x1b[0m         \\x1b[0mself\\x1b[0m\\x1b[1;33m.\\x1b[0m\\x1b[0mtasks\\x1b[0m\\x1b[1;33m.\\x1b[0m\\x1b[0mappend\\x1b[0m\\x1b[1;33m(\\x1b[0m\\x1b[0mQueryTask\\x1b[0m\\x1b[1;33m(\\x1b[0m\\x1b[0mquery\\x1b[0m\\x1b[1;33m)\\x1b[0m\\x1b[1;33m)\\x1b[0m\\x1b[1;33m\\x1b[0m\\x1b[0m\\n\\x1b[1;32m--> 485\\x1b[1;33m         \\x1b[0mself\\x1b[0m\\x1b[1;33m.\\x1b[0m\\x1b[0mcontinue_tasks\\x1b[0m\\x1b[1;33m(\\x1b[0m\\x1b[1;33m)\\x1b[0m\\x1b[1;33m\\x1b[0m\\x1b[0m\\n\\x1b[0m\\x1b[0;32m    486\\x1b[0m         \\x1b[1;32mreturn\\x1b[0m \\x1b[0mself\\x1b[0m\\x1b[1;33m\\x1b[0m\\x1b[0m\\n\\x1b[0;32m    487\\x1b[0m \\x1b[1;33m\\x1b[0m\\x1b[0m\\n', '\\x1b[1;32mc:\\\\erica\\\\snowballing\\\\snowballing\\\\selenium_scholar.py\\x1b[0m in \\x1b[0;36mcontinue_tasks\\x1b[1;34m(self)\\x1b[0m\\n\\x1b[0;32m    469\\x1b[0m         \\x1b[1;32mwhile\\x1b[0m \\x1b[0mself\\x1b[0m\\x1b[1;33m.\\x1b[0m\\x1b[0mtasks\\x1b[0m\\x1b[1;33m:\\x1b[0m\\x1b[1;33m\\x1b[0m\\x1b[0m\\n\\x1b[0;32m    470\\x1b[0m             \\x1b[0mtask\\x1b[0m \\x1b[1;33m=\\x1b[0m \\x1b[0mself\\x1b[0m\\x1b[1;33m.\\x1b[0m\\x1b[0mtasks\\x1b[0m\\x1b[1;33m.\\x1b[0m\\x1b[0mpopleft\\x1b[0m\\x1b[1;33m(\\x1b[0m\\x1b[1;33m)\\x1b[0m\\x1b[1;33m\\x1b[0m\\x1b[0m\\n\\x1b[1;32m--> 471\\x1b[1;33m             \\x1b[0mtask\\x1b[0m\\x1b[1;33m.\\x1b[0m\\x1b[0mapply\\x1b[0m\\x1b[1;33m(\\x1b[0m\\x1b[0mself\\x1b[0m\\x1b[1;33m)\\x1b[0m\\x1b[1;33m\\x1b[0m\\x1b[0m\\n\\x1b[0m\\x1b[0;32m    472\\x1b[0m         \\x1b[1;32mif\\x1b[0m \\x1b[0mself\\x1b[0m\\x1b[1;33m.\\x1b[0m\\x1b[0mresult\\x1b[0m\\x1b[1;33m:\\x1b[0m\\x1b[1;33m\\x1b[0m\\x1b[0m\\n\\x1b[0;32m    473\\x1b[0m             \\x1b[0mself\\x1b[0m\\x1b[1;33m.\\x1b[0m\\x1b[0marticles\\x1b[0m \\x1b[1;33m=\\x1b[0m \\x1b[0mself\\x1b[0m\\x1b[1;33m.\\x1b[0m\\x1b[0mresult\\x1b[0m\\x1b[1;33m.\\x1b[0m\\x1b[0marticles\\x1b[0m\\x1b[1;33m\\x1b[0m\\x1b[0m\\n', \"\\x1b[1;32mc:\\\\erica\\\\snowballing\\\\snowballing\\\\selenium_scholar.py\\x1b[0m in \\x1b[0;36mapply\\x1b[1;34m(self, querier)\\x1b[0m\\n\\x1b[0;32m    152\\x1b[0m     \\x1b[1;32mdef\\x1b[0m \\x1b[0mapply\\x1b[0m\\x1b[1;33m(\\x1b[0m\\x1b[0mself\\x1b[0m\\x1b[1;33m,\\x1b[0m \\x1b[0mquerier\\x1b[0m\\x1b[1;33m)\\x1b[0m\\x1b[1;33m:\\x1b[0m\\x1b[1;33m\\x1b[0m\\x1b[0m\\n\\x1b[0;32m    153\\x1b[0m         \\x1b[1;32mif\\x1b[0m \\x1b[0mlen\\x1b[0m\\x1b[1;33m(\\x1b[0m\\x1b[0mself\\x1b[0m\\x1b[1;33m.\\x1b[0m\\x1b[0mresult\\x1b[0m\\x1b[1;33m.\\x1b[0m\\x1b[0marticles\\x1b[0m\\x1b[1;33m)\\x1b[0m \\x1b[1;33m<\\x1b[0m \\x1b[0mgetattr\\x1b[0m\\x1b[1;33m(\\x1b[0m\\x1b[0mself\\x1b[0m\\x1b[1;33m.\\x1b[0m\\x1b[0mresult\\x1b[0m\\x1b[1;33m.\\x1b[0m\\x1b[0mquery\\x1b[0m\\x1b[1;33m,\\x1b[0m \\x1b[1;34m'num_results'\\x1b[0m\\x1b[1;33m,\\x1b[0m \\x1b[1;36m10000\\x1b[0m\\x1b[1;33m)\\x1b[0m\\x1b[1;33m:\\x1b[0m\\x1b[1;33m\\x1b[0m\\x1b[0m\\n\\x1b[1;32m--> 154\\x1b[1;33m             \\x1b[0mself\\x1b[0m\\x1b[1;33m.\\x1b[0m\\x1b[0mget_citation_data\\x1b[0m\\x1b[1;33m(\\x1b[0m\\x1b[0mquerier\\x1b[0m\\x1b[1;33m)\\x1b[0m\\x1b[1;33m\\x1b[0m\\x1b[0m\\n\\x1b[0m\\x1b[0;32m    155\\x1b[0m             \\x1b[0mself\\x1b[0m\\x1b[1;33m.\\x1b[0m\\x1b[0mresult\\x1b[0m\\x1b[1;33m.\\x1b[0m\\x1b[0marticles\\x1b[0m\\x1b[1;33m.\\x1b[0m\\x1b[0mappend\\x1b[0m\\x1b[1;33m(\\x1b[0m\\x1b[0mself\\x1b[0m\\x1b[1;33m.\\x1b[0m\\x1b[0marticle\\x1b[0m\\x1b[1;33m)\\x1b[0m\\x1b[1;33m\\x1b[0m\\x1b[0m\\n\\x1b[0;32m    156\\x1b[0m \\x1b[1;33m\\x1b[0m\\x1b[0m\\n\", '\\x1b[1;32mc:\\\\erica\\\\snowballing\\\\snowballing\\\\selenium_scholar.py\\x1b[0m in \\x1b[0;36mget_citation_data\\x1b[1;34m(self, querier)\\x1b[0m\\n\\x1b[0;32m    141\\x1b[0m                                     \\x1b[0merr_msg\\x1b[0m\\x1b[1;33m=\\x1b[0m\\x1b[1;34m\\'requesting citation data failed\\'\\x1b[0m\\x1b[1;33m,\\x1b[0m\\x1b[1;33m\\x1b[0m\\x1b[0m\\n\\x1b[0;32m    142\\x1b[0m                                     condition=(By.TAG_NAME, \\'pre\\'))\\n\\x1b[1;32m--> 143\\x1b[1;33m         \\x1b[0msoup\\x1b[0m \\x1b[1;33m=\\x1b[0m \\x1b[0mBeautifulSoup\\x1b[0m\\x1b[1;33m(\\x1b[0m\\x1b[0mdata\\x1b[0m\\x1b[1;33m,\\x1b[0m \\x1b[1;34m\"html.parser\"\\x1b[0m\\x1b[1;33m)\\x1b[0m\\x1b[1;33m\\x1b[0m\\x1b[0m\\n\\x1b[0m\\x1b[0;32m    144\\x1b[0m         \\x1b[0mdata\\x1b[0m \\x1b[1;33m=\\x1b[0m \\x1b[0msoup\\x1b[0m\\x1b[1;33m.\\x1b[0m\\x1b[0mtext\\x1b[0m\\x1b[1;33m\\x1b[0m\\x1b[0m\\n\\x1b[0;32m    145\\x1b[0m         \\x1b[1;32mif\\x1b[0m \\x1b[0mdata\\x1b[0m \\x1b[1;32mis\\x1b[0m \\x1b[1;32mNone\\x1b[0m\\x1b[1;33m:\\x1b[0m\\x1b[1;33m\\x1b[0m\\x1b[0m\\n', \"\\x1b[1;32mC:\\\\ProgramData\\\\Anaconda3\\\\lib\\\\site-packages\\\\bs4\\\\__init__.py\\x1b[0m in \\x1b[0;36m__init__\\x1b[1;34m(self, markup, features, builder, parse_only, from_encoding, exclude_encodings, **kwargs)\\x1b[0m\\n\\x1b[0;32m    190\\x1b[0m         \\x1b[1;32mif\\x1b[0m \\x1b[0mhasattr\\x1b[0m\\x1b[1;33m(\\x1b[0m\\x1b[0mmarkup\\x1b[0m\\x1b[1;33m,\\x1b[0m \\x1b[1;34m'read'\\x1b[0m\\x1b[1;33m)\\x1b[0m\\x1b[1;33m:\\x1b[0m        \\x1b[1;31m# It's a file-type object.\\x1b[0m\\x1b[1;33m\\x1b[0m\\x1b[0m\\n\\x1b[0;32m    191\\x1b[0m             \\x1b[0mmarkup\\x1b[0m \\x1b[1;33m=\\x1b[0m \\x1b[0mmarkup\\x1b[0m\\x1b[1;33m.\\x1b[0m\\x1b[0mread\\x1b[0m\\x1b[1;33m(\\x1b[0m\\x1b[1;33m)\\x1b[0m\\x1b[1;33m\\x1b[0m\\x1b[0m\\n\\x1b[1;32m--> 192\\x1b[1;33m         elif len(markup) <= 256 and (\\n\\x1b[0m\\x1b[0;32m    193\\x1b[0m                 \\x1b[1;33m(\\x1b[0m\\x1b[0misinstance\\x1b[0m\\x1b[1;33m(\\x1b[0m\\x1b[0mmarkup\\x1b[0m\\x1b[1;33m,\\x1b[0m \\x1b[0mbytes\\x1b[0m\\x1b[1;33m)\\x1b[0m \\x1b[1;32mand\\x1b[0m \\x1b[1;32mnot\\x1b[0m \\x1b[1;34mb'<'\\x1b[0m \\x1b[1;32min\\x1b[0m \\x1b[0mmarkup\\x1b[0m\\x1b[1;33m)\\x1b[0m\\x1b[1;33m\\x1b[0m\\x1b[0m\\n\\x1b[0;32m    194\\x1b[0m                 \\x1b[1;32mor\\x1b[0m \\x1b[1;33m(\\x1b[0m\\x1b[0misinstance\\x1b[0m\\x1b[1;33m(\\x1b[0m\\x1b[0mmarkup\\x1b[0m\\x1b[1;33m,\\x1b[0m \\x1b[0mstr\\x1b[0m\\x1b[1;33m)\\x1b[0m \\x1b[1;32mand\\x1b[0m \\x1b[1;32mnot\\x1b[0m \\x1b[1;34m'<'\\x1b[0m \\x1b[1;32min\\x1b[0m \\x1b[0mmarkup\\x1b[0m\\x1b[1;33m)\\x1b[0m\\x1b[1;33m\\x1b[0m\\x1b[0m\\n\", \"\\x1b[1;31mTypeError\\x1b[0m: object of type 'NoneType' has no len()\"]})))), VBox(children=(HBox(children=(Button(description='Previous Article', disabled=True, icon='caret-left', style=ButtonStyle()), Button(description='Reload Article', icon='refresh', style=ButtonStyle()), Button(description='Next Article', disabled=True, icon='caret-right', style=ButtonStyle()))), HBox(children=(Button(description='Unrelated: Scripts', style=ButtonStyle()), Button(description='Unrelated: Provenance', style=ButtonStyle()), Button(description='Both', style=ButtonStyle()), Button(description='Ok', style=ButtonStyle()))), HBox(children=(Dropdown(description='Type', index=5, options=('Work', 'WorkSnowball', 'WorkForward', 'WorkBackward', 'WorkOk', 'WorkUnrelated', 'WorkNoFile', 'WorkLang', 'Site', 'Email'), value='WorkUnrelated'), ToggleButton(value=False, description='File'))), HBox(children=(Text(value='', description='Due'), Text(value='', description='Place'))), HBox(children=(Text(value='', description='Year'), Text(value='', description='Prefix Var'))), HBox(children=(Text(value='', description='PDFPage'), Text(value='', description='Related'))), HBox(children=(Text(value='', description='Display'), Text(value='', description='Summary'))), HBox(children=(Text(value='', description='Star'), Text(value='', description='Link'))), HBox(children=(Button(description='Reload Article', icon='refresh', style=ButtonStyle()), IntSlider(value=0, max=0), Label(value='0/0'))), Output(outputs=({'output_type': 'stream', 'text': \"Ops. It requires a captcha!\\nIf you filled in the browser, type '<ok>' here.\\n\", 'name': 'stdout'}, {'output_type': 'stream', 'text': '[ERROR]  requesting citation data failed: Message: The element reference of <div id=\"recaptcha\" class=\"g-recaptcha\"> is stale; either the element is no longer attached to the DOM, it is not in the current frame context, or the document has been refreshed\\n\\n', 'name': 'stderr'}, {'output_type': 'error', 'ename': 'TypeError', 'evalue': \"object of type 'NoneType' has no len()\", 'traceback': ['\\x1b[1;31m---------------------------------------------------------------------------\\x1b[0m', '\\x1b[1;31mTypeError\\x1b[0m                                 Traceback (most recent call last)', '\\x1b[1;32mc:\\\\erica\\\\snowballing\\\\snowballing\\\\snowballing.py\\x1b[0m in \\x1b[0;36mreload\\x1b[1;34m(self, b, show)\\x1b[0m\\n\\x1b[0;32m    620\\x1b[0m         \\x1b[1;32mwith\\x1b[0m \\x1b[0mself\\x1b[0m\\x1b[1;33m.\\x1b[0m\\x1b[0mnavigator\\x1b[0m\\x1b[1;33m.\\x1b[0m\\x1b[0moutput_widget\\x1b[0m\\x1b[1;33m:\\x1b[0m\\x1b[1;33m\\x1b[0m\\x1b[0m\\n\\x1b[0;32m    621\\x1b[0m             \\x1b[0mself\\x1b[0m\\x1b[1;33m.\\x1b[0m\\x1b[0mquerier\\x1b[0m\\x1b[1;33m.\\x1b[0m\\x1b[0mtasks\\x1b[0m\\x1b[1;33m.\\x1b[0m\\x1b[0mclear\\x1b[0m\\x1b[1;33m(\\x1b[0m\\x1b[1;33m)\\x1b[0m\\x1b[1;33m\\x1b[0m\\x1b[0m\\n\\x1b[1;32m--> 622\\x1b[1;33m             \\x1b[0mself\\x1b[0m\\x1b[1;33m.\\x1b[0m\\x1b[0mquerier\\x1b[0m\\x1b[1;33m.\\x1b[0m\\x1b[0msend_query\\x1b[0m\\x1b[1;33m(\\x1b[0m\\x1b[0mself\\x1b[0m\\x1b[1;33m.\\x1b[0m\\x1b[0mquery\\x1b[0m\\x1b[1;33m)\\x1b[0m\\x1b[1;33m\\x1b[0m\\x1b[0m\\n\\x1b[0m\\x1b[0;32m    623\\x1b[0m             self.page_number_widget.value = parse_qs(urlparse(\\n\\x1b[0;32m    624\\x1b[0m                 self.query.get_url()).query\\n', '\\x1b[1;32mc:\\\\erica\\\\snowballing\\\\snowballing\\\\selenium_scholar.py\\x1b[0m in \\x1b[0;36msend_query\\x1b[1;34m(self, query)\\x1b[0m\\n\\x1b[0;32m    483\\x1b[0m         \\x1b[1;34m\"\"\"Initiates a search query (a ScholarQuery instance)\"\"\"\\x1b[0m\\x1b[1;33m\\x1b[0m\\x1b[0m\\n\\x1b[0;32m    484\\x1b[0m         \\x1b[0mself\\x1b[0m\\x1b[1;33m.\\x1b[0m\\x1b[0mtasks\\x1b[0m\\x1b[1;33m.\\x1b[0m\\x1b[0mappend\\x1b[0m\\x1b[1;33m(\\x1b[0m\\x1b[0mQueryTask\\x1b[0m\\x1b[1;33m(\\x1b[0m\\x1b[0mquery\\x1b[0m\\x1b[1;33m)\\x1b[0m\\x1b[1;33m)\\x1b[0m\\x1b[1;33m\\x1b[0m\\x1b[0m\\n\\x1b[1;32m--> 485\\x1b[1;33m         \\x1b[0mself\\x1b[0m\\x1b[1;33m.\\x1b[0m\\x1b[0mcontinue_tasks\\x1b[0m\\x1b[1;33m(\\x1b[0m\\x1b[1;33m)\\x1b[0m\\x1b[1;33m\\x1b[0m\\x1b[0m\\n\\x1b[0m\\x1b[0;32m    486\\x1b[0m         \\x1b[1;32mreturn\\x1b[0m \\x1b[0mself\\x1b[0m\\x1b[1;33m\\x1b[0m\\x1b[0m\\n\\x1b[0;32m    487\\x1b[0m \\x1b[1;33m\\x1b[0m\\x1b[0m\\n', '\\x1b[1;32mc:\\\\erica\\\\snowballing\\\\snowballing\\\\selenium_scholar.py\\x1b[0m in \\x1b[0;36mcontinue_tasks\\x1b[1;34m(self)\\x1b[0m\\n\\x1b[0;32m    469\\x1b[0m         \\x1b[1;32mwhile\\x1b[0m \\x1b[0mself\\x1b[0m\\x1b[1;33m.\\x1b[0m\\x1b[0mtasks\\x1b[0m\\x1b[1;33m:\\x1b[0m\\x1b[1;33m\\x1b[0m\\x1b[0m\\n\\x1b[0;32m    470\\x1b[0m             \\x1b[0mtask\\x1b[0m \\x1b[1;33m=\\x1b[0m \\x1b[0mself\\x1b[0m\\x1b[1;33m.\\x1b[0m\\x1b[0mtasks\\x1b[0m\\x1b[1;33m.\\x1b[0m\\x1b[0mpopleft\\x1b[0m\\x1b[1;33m(\\x1b[0m\\x1b[1;33m)\\x1b[0m\\x1b[1;33m\\x1b[0m\\x1b[0m\\n\\x1b[1;32m--> 471\\x1b[1;33m             \\x1b[0mtask\\x1b[0m\\x1b[1;33m.\\x1b[0m\\x1b[0mapply\\x1b[0m\\x1b[1;33m(\\x1b[0m\\x1b[0mself\\x1b[0m\\x1b[1;33m)\\x1b[0m\\x1b[1;33m\\x1b[0m\\x1b[0m\\n\\x1b[0m\\x1b[0;32m    472\\x1b[0m         \\x1b[1;32mif\\x1b[0m \\x1b[0mself\\x1b[0m\\x1b[1;33m.\\x1b[0m\\x1b[0mresult\\x1b[0m\\x1b[1;33m:\\x1b[0m\\x1b[1;33m\\x1b[0m\\x1b[0m\\n\\x1b[0;32m    473\\x1b[0m             \\x1b[0mself\\x1b[0m\\x1b[1;33m.\\x1b[0m\\x1b[0marticles\\x1b[0m \\x1b[1;33m=\\x1b[0m \\x1b[0mself\\x1b[0m\\x1b[1;33m.\\x1b[0m\\x1b[0mresult\\x1b[0m\\x1b[1;33m.\\x1b[0m\\x1b[0marticles\\x1b[0m\\x1b[1;33m\\x1b[0m\\x1b[0m\\n', \"\\x1b[1;32mc:\\\\erica\\\\snowballing\\\\snowballing\\\\selenium_scholar.py\\x1b[0m in \\x1b[0;36mapply\\x1b[1;34m(self, querier)\\x1b[0m\\n\\x1b[0;32m    152\\x1b[0m     \\x1b[1;32mdef\\x1b[0m \\x1b[0mapply\\x1b[0m\\x1b[1;33m(\\x1b[0m\\x1b[0mself\\x1b[0m\\x1b[1;33m,\\x1b[0m \\x1b[0mquerier\\x1b[0m\\x1b[1;33m)\\x1b[0m\\x1b[1;33m:\\x1b[0m\\x1b[1;33m\\x1b[0m\\x1b[0m\\n\\x1b[0;32m    153\\x1b[0m         \\x1b[1;32mif\\x1b[0m \\x1b[0mlen\\x1b[0m\\x1b[1;33m(\\x1b[0m\\x1b[0mself\\x1b[0m\\x1b[1;33m.\\x1b[0m\\x1b[0mresult\\x1b[0m\\x1b[1;33m.\\x1b[0m\\x1b[0marticles\\x1b[0m\\x1b[1;33m)\\x1b[0m \\x1b[1;33m<\\x1b[0m \\x1b[0mgetattr\\x1b[0m\\x1b[1;33m(\\x1b[0m\\x1b[0mself\\x1b[0m\\x1b[1;33m.\\x1b[0m\\x1b[0mresult\\x1b[0m\\x1b[1;33m.\\x1b[0m\\x1b[0mquery\\x1b[0m\\x1b[1;33m,\\x1b[0m \\x1b[1;34m'num_results'\\x1b[0m\\x1b[1;33m,\\x1b[0m \\x1b[1;36m10000\\x1b[0m\\x1b[1;33m)\\x1b[0m\\x1b[1;33m:\\x1b[0m\\x1b[1;33m\\x1b[0m\\x1b[0m\\n\\x1b[1;32m--> 154\\x1b[1;33m             \\x1b[0mself\\x1b[0m\\x1b[1;33m.\\x1b[0m\\x1b[0mget_citation_data\\x1b[0m\\x1b[1;33m(\\x1b[0m\\x1b[0mquerier\\x1b[0m\\x1b[1;33m)\\x1b[0m\\x1b[1;33m\\x1b[0m\\x1b[0m\\n\\x1b[0m\\x1b[0;32m    155\\x1b[0m             \\x1b[0mself\\x1b[0m\\x1b[1;33m.\\x1b[0m\\x1b[0mresult\\x1b[0m\\x1b[1;33m.\\x1b[0m\\x1b[0marticles\\x1b[0m\\x1b[1;33m.\\x1b[0m\\x1b[0mappend\\x1b[0m\\x1b[1;33m(\\x1b[0m\\x1b[0mself\\x1b[0m\\x1b[1;33m.\\x1b[0m\\x1b[0marticle\\x1b[0m\\x1b[1;33m)\\x1b[0m\\x1b[1;33m\\x1b[0m\\x1b[0m\\n\\x1b[0;32m    156\\x1b[0m \\x1b[1;33m\\x1b[0m\\x1b[0m\\n\", '\\x1b[1;32mc:\\\\erica\\\\snowballing\\\\snowballing\\\\selenium_scholar.py\\x1b[0m in \\x1b[0;36mget_citation_data\\x1b[1;34m(self, querier)\\x1b[0m\\n\\x1b[0;32m    141\\x1b[0m                                     \\x1b[0merr_msg\\x1b[0m\\x1b[1;33m=\\x1b[0m\\x1b[1;34m\\'requesting citation data failed\\'\\x1b[0m\\x1b[1;33m,\\x1b[0m\\x1b[1;33m\\x1b[0m\\x1b[0m\\n\\x1b[0;32m    142\\x1b[0m                                     condition=(By.TAG_NAME, \\'pre\\'))\\n\\x1b[1;32m--> 143\\x1b[1;33m         \\x1b[0msoup\\x1b[0m \\x1b[1;33m=\\x1b[0m \\x1b[0mBeautifulSoup\\x1b[0m\\x1b[1;33m(\\x1b[0m\\x1b[0mdata\\x1b[0m\\x1b[1;33m,\\x1b[0m \\x1b[1;34m\"html.parser\"\\x1b[0m\\x1b[1;33m)\\x1b[0m\\x1b[1;33m\\x1b[0m\\x1b[0m\\n\\x1b[0m\\x1b[0;32m    144\\x1b[0m         \\x1b[0mdata\\x1b[0m \\x1b[1;33m=\\x1b[0m \\x1b[0msoup\\x1b[0m\\x1b[1;33m.\\x1b[0m\\x1b[0mtext\\x1b[0m\\x1b[1;33m\\x1b[0m\\x1b[0m\\n\\x1b[0;32m    145\\x1b[0m         \\x1b[1;32mif\\x1b[0m \\x1b[0mdata\\x1b[0m \\x1b[1;32mis\\x1b[0m \\x1b[1;32mNone\\x1b[0m\\x1b[1;33m:\\x1b[0m\\x1b[1;33m\\x1b[0m\\x1b[0m\\n', \"\\x1b[1;32mC:\\\\ProgramData\\\\Anaconda3\\\\lib\\\\site-packages\\\\bs4\\\\__init__.py\\x1b[0m in \\x1b[0;36m__init__\\x1b[1;34m(self, markup, features, builder, parse_only, from_encoding, exclude_encodings, **kwargs)\\x1b[0m\\n\\x1b[0;32m    190\\x1b[0m         \\x1b[1;32mif\\x1b[0m \\x1b[0mhasattr\\x1b[0m\\x1b[1;33m(\\x1b[0m\\x1b[0mmarkup\\x1b[0m\\x1b[1;33m,\\x1b[0m \\x1b[1;34m'read'\\x1b[0m\\x1b[1;33m)\\x1b[0m\\x1b[1;33m:\\x1b[0m        \\x1b[1;31m# It's a file-type object.\\x1b[0m\\x1b[1;33m\\x1b[0m\\x1b[0m\\n\\x1b[0;32m    191\\x1b[0m             \\x1b[0mmarkup\\x1b[0m \\x1b[1;33m=\\x1b[0m \\x1b[0mmarkup\\x1b[0m\\x1b[1;33m.\\x1b[0m\\x1b[0mread\\x1b[0m\\x1b[1;33m(\\x1b[0m\\x1b[1;33m)\\x1b[0m\\x1b[1;33m\\x1b[0m\\x1b[0m\\n\\x1b[1;32m--> 192\\x1b[1;33m         elif len(markup) <= 256 and (\\n\\x1b[0m\\x1b[0;32m    193\\x1b[0m                 \\x1b[1;33m(\\x1b[0m\\x1b[0misinstance\\x1b[0m\\x1b[1;33m(\\x1b[0m\\x1b[0mmarkup\\x1b[0m\\x1b[1;33m,\\x1b[0m \\x1b[0mbytes\\x1b[0m\\x1b[1;33m)\\x1b[0m \\x1b[1;32mand\\x1b[0m \\x1b[1;32mnot\\x1b[0m \\x1b[1;34mb'<'\\x1b[0m \\x1b[1;32min\\x1b[0m \\x1b[0mmarkup\\x1b[0m\\x1b[1;33m)\\x1b[0m\\x1b[1;33m\\x1b[0m\\x1b[0m\\n\\x1b[0;32m    194\\x1b[0m                 \\x1b[1;32mor\\x1b[0m \\x1b[1;33m(\\x1b[0m\\x1b[0misinstance\\x1b[0m\\x1b[1;33m(\\x1b[0m\\x1b[0mmarkup\\x1b[0m\\x1b[1;33m,\\x1b[0m \\x1b[0mstr\\x1b[0m\\x1b[1;33m)\\x1b[0m \\x1b[1;32mand\\x1b[0m \\x1b[1;32mnot\\x1b[0m \\x1b[1;34m'<'\\x1b[0m \\x1b[1;32min\\x1b[0m \\x1b[0mmarkup\\x1b[0m\\x1b[1;33m)\\x1b[0m\\x1b[1;33m\\x1b[0m\\x1b[0m\\n\", \"\\x1b[1;31mTypeError\\x1b[0m: object of type 'NoneType' has no len()\"]}))))), _titles={'0': 'Page', '1': 'Article'})"
      ]
     },
     "metadata": {},
     "output_type": "display_data"
    },
    {
     "data": {
      "application/javascript": [
       "$('span:contains(\"# Temp\")').closest('.cell').remove();"
      ],
      "text/plain": [
       "<IPython.core.display.Javascript object>"
      ]
     },
     "metadata": {},
     "output_type": "display_data"
    },
    {
     "data": {
      "application/javascript": [
       "\n",
       "        $('span:contains(\"# Temp\")').closest('.cell').remove();\n",
       "        var code = IPython.notebook.insert_cell_below('code');\n",
       "        code.set_text(atob(\"IyBUZW1wCmluc2VydCgnJycKZWxqYWJpcmkwYSA9IERCKFdvcmtVbnJlbGF0ZWQoCiAgICAwLCAiVGFpbG9yaW5nIHRoZSBTb2Z0d2FyZSBQcm9jZXNzIE1vZGVsIHRvIFByb2plY3QgcmVxdWlyZW1lbnRzIiwKICAgIGRpc3BsYXk9ImVsamFiaXJpIiwKICAgIGF1dGhvcnM9IkVsamFiaXJpLCBPc2FtYSBhbmQgRGVlaywgRmFkaSBQIiwKICAgIHBsYWNlPUZBS0UsCiAgICBlbnRyeXR5cGU9ImFydGljbGUiLAogICAgSUQ9ImVsamFiaXJpdGFpbG9yaW5nIiwKICAgIGNsdXN0ZXJfaWQ9IjgxMTU1MjEyMjgzODc3NzM0MDEiLAogICAgc2Nob2xhcj0iaHR0cDovL3NjaG9sYXIuZ29vZ2xlLmNvbS9zY2hvbGFyP2NpdGVzPTgxMTU1MjEyMjgzODc3NzM0MDEmYXNfc2R0PTIwMDUmc2Npb2R0PTAsNSZobD1lbiIsCiAgICBwbGFjZXg9IkNpdGVzZWVyIFNjaWVudGlmaWMgTGl0ZXJhdHVyZSBEaWdpdGFsIExpYnJhcnkgYW5kIFNlYXJjaCBFbmdpbmUiLAopKQoKREIoQ2l0YXRpb24oCiAgICBlbGphYmlyaTBhLCBzb21tZXJ2aWxsZTE5OTlhLCByZWY9IiIsCiAgICBjb250ZXh0cz1bCgogICAgXSwKKSkKCicnJywgY2l0YXRpb25zPSdzb21tZXJ2aWxsZTE5OTlhJyk7\"));\n",
       "    "
      ],
      "text/plain": [
       "<IPython.core.display.Javascript object>"
      ]
     },
     "metadata": {},
     "output_type": "display_data"
    },
    {
     "data": {
      "application/javascript": [
       "$('span:contains(\"# Temp\")').closest('.cell').remove();"
      ],
      "text/plain": [
       "<IPython.core.display.Javascript object>"
      ]
     },
     "metadata": {},
     "output_type": "display_data"
    },
    {
     "data": {
      "application/javascript": [
       "\n",
       "        $('span:contains(\"# Temp\")').closest('.cell').remove();\n",
       "        var code = IPython.notebook.insert_cell_below('code');\n",
       "        code.set_text(atob(\"IyBUZW1wCmluc2VydCgnJycKZWxqYWJpcmkyMDEyYSA9IERCKFdvcmtVbnJlbGF0ZWQoCiAgICAyMDEyLCAiVGFpbG9yaW5nIHRoZSBTb2Z0d2FyZSBQcm9jZXNzIE1vZGVsIHRvIFByb2plY3QgcmVxdWlyZW1lbnRzIiwKICAgIGRpc3BsYXk9ImVsamFiaXJpIiwKICAgIGF1dGhvcnM9IkVsamFiaXJpLCBPc2FtYSBhbmQgRGVlaywgRmFkaSBQIiwKICAgIHBsYWNlPUZBS0UsCiAgICBlbnRyeXR5cGU9ImFydGljbGUiLAogICAgSUQ9ImVsamFiaXJpdGFpbG9yaW5nIiwKICAgIGNsdXN0ZXJfaWQ9IjgxMTU1MjEyMjgzODc3NzM0MDEiLAogICAgc2Nob2xhcj0iaHR0cDovL3NjaG9sYXIuZ29vZ2xlLmNvbS9zY2hvbGFyP2NpdGVzPTgxMTU1MjEyMjgzODc3NzM0MDEmYXNfc2R0PTIwMDUmc2Npb2R0PTAsNSZobD1lbiIsCiAgICBwbGFjZXg9IkNpdGVzZWVyIFNjaWVudGlmaWMgTGl0ZXJhdHVyZSBEaWdpdGFsIExpYnJhcnkgYW5kIFNlYXJjaCBFbmdpbmUiLAopKQoKREIoQ2l0YXRpb24oCiAgICBlbGphYmlyaTIwMTJhLCBzb21tZXJ2aWxsZTE5OTlhLCByZWY9IiIsCiAgICBjb250ZXh0cz1bCgogICAgXSwKKSkKCicnJywgY2l0YXRpb25zPSdzb21tZXJ2aWxsZTE5OTlhJyk7\"));\n",
       "    "
      ],
      "text/plain": [
       "<IPython.core.display.Javascript object>"
      ]
     },
     "metadata": {},
     "output_type": "display_data"
    },
    {
     "data": {
      "application/javascript": [
       "$('span:contains(\"# Temp\")').closest('.cell').remove();"
      ],
      "text/plain": [
       "<IPython.core.display.Javascript object>"
      ]
     },
     "metadata": {},
     "output_type": "display_data"
    },
    {
     "data": {
      "application/javascript": [
       "\n",
       "        $('span:contains(\"# Temp\")').closest('.cell').remove();\n",
       "        var code = IPython.notebook.insert_cell_below('code');\n",
       "        code.set_text(atob(\"IyBUZW1wCmluc2VydCgnJycKbWljaGVsMjAxMmEgPSBEQihXb3JrVW5yZWxhdGVkKAogICAgMjAxMiwgIkRldGVjdGluZyBpbmNvbnNpc3RlbmNpZXMgYmV0d2VlbiBzb2Z0d2FyZSBhcmNoaXRlY3R1cmUgdmlld3MiLAogICAgZGlzcGxheT0ibWljaGVsIiwKICAgIGF1dGhvcnM9Ik1pY2hlbCwgTWlyZXR0ZSBNIGFuZCBHYWxhbC1FZGVlbiwgR2FsYWwgSCIsCiAgICBwbGFjZT1GQUtFLAogICAgcHA9IjQyOS0tNDM0IiwKICAgIGVudHJ5dHlwZT0iaW5wcm9jZWVkaW5ncyIsCiAgICBvcmdhbml6YXRpb249IklFRUUiLAogICAgSUQ9Im1pY2hlbDIwMDlkZXRlY3RpbmciLAogICAgY2x1c3Rlcl9pZD0iOTk4MTYyNDYyNDI3MzcwMzI2OCIsCiAgICBzY2hvbGFyPSJodHRwOi8vc2Nob2xhci5nb29nbGUuY29tL3NjaG9sYXI/Y2l0ZXM9OTk4MTYyNDYyNDI3MzcwMzI2OCZhc19zZHQ9MjAwNSZzY2lvZHQ9MCw1JmhsPWVuIiwKICAgIHBsYWNleD0iQ29tcHV0ZXIgRW5naW5lZXJpbmcgJiBTeXN0ZW1zLCAyMDA5LiBJQ0NFUyAyMDA5LiBJbnRlcm5hdGlvbmFsIENvbmZlcmVuY2Ugb24iLAopKQoKREIoQ2l0YXRpb24oCiAgICBtaWNoZWwyMDEyYSwgc29tbWVydmlsbGUxOTk5YSwgcmVmPSIiLAogICAgY29udGV4dHM9WwoKICAgIF0sCikpCgonJycsIGNpdGF0aW9ucz0nc29tbWVydmlsbGUxOTk5YScpOw==\"));\n",
       "    "
      ],
      "text/plain": [
       "<IPython.core.display.Javascript object>"
      ]
     },
     "metadata": {},
     "output_type": "display_data"
    },
    {
     "data": {
      "application/javascript": [
       "$('span:contains(\"# Temp\")').closest('.cell').remove();"
      ],
      "text/plain": [
       "<IPython.core.display.Javascript object>"
      ]
     },
     "metadata": {},
     "output_type": "display_data"
    },
    {
     "data": {
      "application/javascript": [
       "\n",
       "        $('span:contains(\"# Temp\")').closest('.cell').remove();\n",
       "        var code = IPython.notebook.insert_cell_below('code');\n",
       "        code.set_text(atob(\"IyBUZW1wCmluc2VydCgnJycKbWljaGVsMjAwOWEgPSBEQihXb3JrVW5yZWxhdGVkKAogICAgMjAwOSwgIkRldGVjdGluZyBpbmNvbnNpc3RlbmNpZXMgYmV0d2VlbiBzb2Z0d2FyZSBhcmNoaXRlY3R1cmUgdmlld3MiLAogICAgZGlzcGxheT0ibWljaGVsIiwKICAgIGF1dGhvcnM9Ik1pY2hlbCwgTWlyZXR0ZSBNIGFuZCBHYWxhbC1FZGVlbiwgR2FsYWwgSCIsCiAgICBwbGFjZT1GQUtFLAogICAgcHA9IjQyOS0tNDM0IiwKICAgIGVudHJ5dHlwZT0iaW5wcm9jZWVkaW5ncyIsCiAgICBvcmdhbml6YXRpb249IklFRUUiLAogICAgSUQ9Im1pY2hlbDIwMDlkZXRlY3RpbmciLAogICAgY2x1c3Rlcl9pZD0iOTk4MTYyNDYyNDI3MzcwMzI2OCIsCiAgICBzY2hvbGFyPSJodHRwOi8vc2Nob2xhci5nb29nbGUuY29tL3NjaG9sYXI/Y2l0ZXM9OTk4MTYyNDYyNDI3MzcwMzI2OCZhc19zZHQ9MjAwNSZzY2lvZHQ9MCw1JmhsPWVuIiwKICAgIHBsYWNleD0iQ29tcHV0ZXIgRW5naW5lZXJpbmcgJiBTeXN0ZW1zLCAyMDA5LiBJQ0NFUyAyMDA5LiBJbnRlcm5hdGlvbmFsIENvbmZlcmVuY2Ugb24iLAopKQoKREIoQ2l0YXRpb24oCiAgICBtaWNoZWwyMDA5YSwgc29tbWVydmlsbGUxOTk5YSwgcmVmPSIiLAogICAgY29udGV4dHM9WwoKICAgIF0sCikpCgonJycsIGNpdGF0aW9ucz0nc29tbWVydmlsbGUxOTk5YScpOw==\"));\n",
       "    "
      ],
      "text/plain": [
       "<IPython.core.display.Javascript object>"
      ]
     },
     "metadata": {},
     "output_type": "display_data"
    },
    {
     "data": {
      "application/javascript": [
       "$('span:contains(\"# Temp\")').closest('.cell').remove();"
      ],
      "text/plain": [
       "<IPython.core.display.Javascript object>"
      ]
     },
     "metadata": {},
     "output_type": "display_data"
    },
    {
     "data": {
      "application/javascript": [
       "\n",
       "        $('span:contains(\"# Temp\")').closest('.cell').remove();\n",
       "        var code = IPython.notebook.insert_cell_below('code');\n",
       "        code.set_text(atob(\"IyBUZW1wCmluc2VydCgnJycKYXlzb2xtYXoyMDExYSA9IERCKFdvcmtVbnJlbGF0ZWQoCiAgICAyMDExLCAiS2FtdWRhIGl7P30gc/xyZXvnfWxlcmkgbW9kZWxsZW1lOiBHZXJlez99aSB2ZSB5YXJhcmxhcj8uIDUiLAogICAgZGlzcGxheT0iYXlzb2xtYXoiLAogICAgYXV0aG9ycz0iQXlzb2xtYXosIEJhbnUgYW5kIENvez99a3Vue+d9YXksIEFobWV0IGFuZCBEZW1pcvZycywgT251ciBhbmQgWT9sZD96LCBBbGkiLAogICAgcGxhY2U9RkFLRSwKICAgIHBwPSIyNi0tMjgiLAogICAgZW50cnl0eXBlPSJhcnRpY2xlIiwKICAgIElEPSJheXNvbG1hejIwMTFrYW11ZGEiLAogICAgY2x1c3Rlcl9pZD0iMTMzNzk3NTE2Mzk5MzI5MjQzNDMiLAogICAgc2Nob2xhcj0iaHR0cDovL3NjaG9sYXIuZ29vZ2xlLmNvbS9zY2hvbGFyP2NpdGVzPTEzMzc5NzUxNjM5OTMyOTI0MzQzJmFzX3NkdD0yMDA1JnNjaW9kdD0wLDUmaGw9ZW4iLAogICAgcGxhY2V4PSJVbHVzYWwgWWF6P2w/bSBN/GhlbmRpc2xpez99aSBTZW1wb3p5dW11IiwKKSkKCkRCKENpdGF0aW9uKAogICAgYXlzb2xtYXoyMDExYSwgc29tbWVydmlsbGUxOTk5YSwgcmVmPSIiLAogICAgY29udGV4dHM9WwoKICAgIF0sCikpCgonJycsIGNpdGF0aW9ucz0nc29tbWVydmlsbGUxOTk5YScpOw==\"));\n",
       "    "
      ],
      "text/plain": [
       "<IPython.core.display.Javascript object>"
      ]
     },
     "metadata": {},
     "output_type": "display_data"
    },
    {
     "data": {
      "application/javascript": [
       "$('span:contains(\"# Temp\")').closest('.cell').remove();"
      ],
      "text/plain": [
       "<IPython.core.display.Javascript object>"
      ]
     },
     "metadata": {},
     "output_type": "display_data"
    },
    {
     "data": {
      "application/javascript": [
       "\n",
       "        $('span:contains(\"# Temp\")').closest('.cell').remove();\n",
       "        var code = IPython.notebook.insert_cell_below('code');\n",
       "        code.set_text(atob(\"IyBUZW1wCmluc2VydCgnJycKYXlzb2xtYXoyMDExYSA9IERCKFdvcmtVbnJlbGF0ZWQoCiAgICAyMDExLCAiS2FtdWRhIGl7P30gc/xyZXvnfWxlcmkgbW9kZWxsZW1lOiBHZXJlez99aSB2ZSB5YXJhcmxhcj8uIDUiLAogICAgZGlzcGxheT0iYXlzb2xtYXoiLAogICAgYXV0aG9ycz0iQXlzb2xtYXosIEJhbnUgYW5kIENvez99a3Vue+d9YXksIEFobWV0IGFuZCBEZW1pcvZycywgT251ciBhbmQgWT9sZD96LCBBbGkiLAogICAgcGxhY2U9RkFLRSwKICAgIHBwPSIyNi0tMjgiLAogICAgZW50cnl0eXBlPSJhcnRpY2xlIiwKICAgIElEPSJheXNvbG1hejIwMTFrYW11ZGEiLAogICAgY2x1c3Rlcl9pZD0iMTMzNzk3NTE2Mzk5MzI5MjQzNDMiLAogICAgc2Nob2xhcj0iaHR0cDovL3NjaG9sYXIuZ29vZ2xlLmNvbS9zY2hvbGFyP2NpdGVzPTEzMzc5NzUxNjM5OTMyOTI0MzQzJmFzX3NkdD0yMDA1JnNjaW9kdD0wLDUmaGw9ZW4iLAogICAgcGxhY2V4PSJVbHVzYWwgWWF6P2w/bSBN/GhlbmRpc2xpez99aSBTZW1wb3p5dW11IiwKKSkKCkRCKENpdGF0aW9uKAogICAgYXlzb2xtYXoyMDExYSwgc29tbWVydmlsbGUxOTk5YSwgcmVmPSIiLAogICAgY29udGV4dHM9WwoKICAgIF0sCikpCgonJycsIGNpdGF0aW9ucz0nc29tbWVydmlsbGUxOTk5YScpOw==\"));\n",
       "    "
      ],
      "text/plain": [
       "<IPython.core.display.Javascript object>"
      ]
     },
     "metadata": {},
     "output_type": "display_data"
    },
    {
     "data": {
      "application/javascript": [
       "$('span:contains(\"# Temp\")').closest('.cell').remove();"
      ],
      "text/plain": [
       "<IPython.core.display.Javascript object>"
      ]
     },
     "metadata": {},
     "output_type": "display_data"
    },
    {
     "data": {
      "application/javascript": [
       "\n",
       "        $('span:contains(\"# Temp\")').closest('.cell').remove();\n",
       "        var code = IPython.notebook.insert_cell_below('code');\n",
       "        code.set_text(atob(\"IyBUZW1wCmluc2VydCgnJycKZWxqYWJpcmkyMDAxYSA9IERCKFdvcmtVbnJlbGF0ZWQoCiAgICAyMDAxLCAiRHJpdmVycyBmb3Igc29mdHdhcmUgcHJvY2VzcyBtb2RlbGluZyBldm9sdXRpb24iLAogICAgZGlzcGxheT0iZWxqYWJpcmkiLAogICAgYXV0aG9ycz0iRWxqYWJpcmksIE9zYW1hIGFuZCBEZWVrLCBGYWRpIiwKICAgIHBsYWNlPUZBS0UsCiAgICBwcD0iMjgzIiwKICAgIGVudHJ5dHlwZT0iYXJ0aWNsZSIsCiAgICBJRD0iZWxqYWJpcmkyMDAxZHJpdmVycyIsCiAgICBjbHVzdGVyX2lkPSI4NDc1NTA2MzIwODgyMjU4MjAwIiwKICAgIHNjaG9sYXI9Imh0dHA6Ly9zY2hvbGFyLmdvb2dsZS5jb20vc2Nob2xhcj9jaXRlcz04NDc1NTA2MzIwODgyMjU4MjAwJmFzX3NkdD0yMDA1JnNjaW9kdD0wLDUmaGw9ZW4iLAogICAgcGxhY2V4PSJBTUNJUyAyMDAxIFByb2NlZWRpbmdzIiwKKSkKCkRCKENpdGF0aW9uKAogICAgZWxqYWJpcmkyMDAxYSwgc29tbWVydmlsbGUxOTk5YSwgcmVmPSIiLAogICAgY29udGV4dHM9WwoKICAgIF0sCikpCgonJycsIGNpdGF0aW9ucz0nc29tbWVydmlsbGUxOTk5YScpOw==\"));\n",
       "    "
      ],
      "text/plain": [
       "<IPython.core.display.Javascript object>"
      ]
     },
     "metadata": {},
     "output_type": "display_data"
    },
    {
     "data": {
      "application/javascript": [
       "$('span:contains(\"# Temp\")').closest('.cell').remove();"
      ],
      "text/plain": [
       "<IPython.core.display.Javascript object>"
      ]
     },
     "metadata": {},
     "output_type": "display_data"
    },
    {
     "data": {
      "application/javascript": [
       "\n",
       "        $('span:contains(\"# Temp\")').closest('.cell').remove();\n",
       "        var code = IPython.notebook.insert_cell_below('code');\n",
       "        code.set_text(atob(\"IyBUZW1wCmluc2VydCgnJycKZWxqYWJpcmkyMDAxYSA9IERCKFdvcmtVbnJlbGF0ZWQoCiAgICAyMDAxLCAiRHJpdmVycyBmb3Igc29mdHdhcmUgcHJvY2VzcyBtb2RlbGluZyBldm9sdXRpb24iLAogICAgZGlzcGxheT0iZWxqYWJpcmkiLAogICAgYXV0aG9ycz0iRWxqYWJpcmksIE9zYW1hIGFuZCBEZWVrLCBGYWRpIiwKICAgIHBsYWNlPUZBS0UsCiAgICBwcD0iMjgzIiwKICAgIGVudHJ5dHlwZT0iYXJ0aWNsZSIsCiAgICBJRD0iZWxqYWJpcmkyMDAxZHJpdmVycyIsCiAgICBjbHVzdGVyX2lkPSI4NDc1NTA2MzIwODgyMjU4MjAwIiwKICAgIHNjaG9sYXI9Imh0dHA6Ly9zY2hvbGFyLmdvb2dsZS5jb20vc2Nob2xhcj9jaXRlcz04NDc1NTA2MzIwODgyMjU4MjAwJmFzX3NkdD0yMDA1JnNjaW9kdD0wLDUmaGw9ZW4iLAogICAgcGxhY2V4PSJBTUNJUyAyMDAxIFByb2NlZWRpbmdzIiwKKSkKCkRCKENpdGF0aW9uKAogICAgZWxqYWJpcmkyMDAxYSwgc29tbWVydmlsbGUxOTk5YSwgcmVmPSIiLAogICAgY29udGV4dHM9WwoKICAgIF0sCikpCgonJycsIGNpdGF0aW9ucz0nc29tbWVydmlsbGUxOTk5YScpOw==\"));\n",
       "    "
      ],
      "text/plain": [
       "<IPython.core.display.Javascript object>"
      ]
     },
     "metadata": {},
     "output_type": "display_data"
    },
    {
     "data": {
      "application/javascript": [
       "$('span:contains(\"# Temp\")').closest('.cell').remove();"
      ],
      "text/plain": [
       "<IPython.core.display.Javascript object>"
      ]
     },
     "metadata": {},
     "output_type": "display_data"
    },
    {
     "data": {
      "application/javascript": [
       "\n",
       "        $('span:contains(\"# Temp\")').closest('.cell').remove();\n",
       "        var code = IPython.notebook.insert_cell_below('code');\n",
       "        code.set_text(atob(\"IyBUZW1wCmluc2VydCgnJycKYmVya292aWNoMjAxMmEgPSBEQihXb3JrVW5yZWxhdGVkKAogICAgMjAxMiwgIlJlcXVpcmVtZW50cyBFbmdpbmVlcmluZyBm/HIgSVQtZ2VzdPx0enRlIFByb2R1Y3QgU2VydmljZSBTeXN0ZW1zIiwKICAgIGRpc3BsYXk9ImJlcmtvdmljaCIsCiAgICBhdXRob3JzPSJCZXJrb3ZpY2gsIE1hcmluYSIsCiAgICBwbGFjZT1UaGVzaXMsCiAgICBlbnRyeXR5cGU9InBoZHRoZXNpcyIsCiAgICBJRD0iYmVya292aWNoMjAxMnJlcXVpcmVtZW50cyIsCiAgICBjbHVzdGVyX2lkPSI2NzU2NDY1MzIyMjIyNjk0NzE1IiwKICAgIHNjaG9sYXI9Imh0dHA6Ly9zY2hvbGFyLmdvb2dsZS5jb20vc2Nob2xhcj9jaXRlcz02NzU2NDY1MzIyMjIyNjk0NzE1JmFzX3NkdD0yMDA1JnNjaW9kdD0wLDUmaGw9ZW4iLAogICAgbG9jYWw9IlRlY2huaXNjaGUgVW5pdmVyc2l05HQgTfxuY2hlbiIsCiAgICBwbGFjZXg9IiIsCikpCgpEQihDaXRhdGlvbigKICAgIGJlcmtvdmljaDIwMTJhLCBzb21tZXJ2aWxsZTE5OTlhLCByZWY9IiIsCiAgICBjb250ZXh0cz1bCgogICAgXSwKKSkKCicnJywgY2l0YXRpb25zPSdzb21tZXJ2aWxsZTE5OTlhJyk7\"));\n",
       "    "
      ],
      "text/plain": [
       "<IPython.core.display.Javascript object>"
      ]
     },
     "metadata": {},
     "output_type": "display_data"
    },
    {
     "data": {
      "application/javascript": [
       "$('span:contains(\"# Temp\")').closest('.cell').remove();"
      ],
      "text/plain": [
       "<IPython.core.display.Javascript object>"
      ]
     },
     "metadata": {},
     "output_type": "display_data"
    },
    {
     "data": {
      "application/javascript": [
       "\n",
       "        $('span:contains(\"# Temp\")').closest('.cell').remove();\n",
       "        var code = IPython.notebook.insert_cell_below('code');\n",
       "        code.set_text(atob(\"IyBUZW1wCmluc2VydCgnJycKYmVya292aWNoMjAxMmEgPSBEQihXb3JrVW5yZWxhdGVkKAogICAgMjAxMiwgIlJlcXVpcmVtZW50cyBFbmdpbmVlcmluZyBm/HIgSVQtZ2VzdPx0enRlIFByb2R1Y3QgU2VydmljZSBTeXN0ZW1zIiwKICAgIGRpc3BsYXk9ImJlcmtvdmljaCIsCiAgICBhdXRob3JzPSJCZXJrb3ZpY2gsIE1hcmluYSIsCiAgICBwbGFjZT1UaGVzaXMsCiAgICBlbnRyeXR5cGU9InBoZHRoZXNpcyIsCiAgICBJRD0iYmVya292aWNoMjAxMnJlcXVpcmVtZW50cyIsCiAgICBjbHVzdGVyX2lkPSI2NzU2NDY1MzIyMjIyNjk0NzE1IiwKICAgIHNjaG9sYXI9Imh0dHA6Ly9zY2hvbGFyLmdvb2dsZS5jb20vc2Nob2xhcj9jaXRlcz02NzU2NDY1MzIyMjIyNjk0NzE1JmFzX3NkdD0yMDA1JnNjaW9kdD0wLDUmaGw9ZW4iLAogICAgbG9jYWw9IlRlY2huaXNjaGUgVW5pdmVyc2l05HQgTfxuY2hlbiIsCiAgICBwbGFjZXg9IiIsCikpCgpEQihDaXRhdGlvbigKICAgIGJlcmtvdmljaDIwMTJhLCBzb21tZXJ2aWxsZTE5OTlhLCByZWY9IiIsCiAgICBjb250ZXh0cz1bCgogICAgXSwKKSkKCicnJywgY2l0YXRpb25zPSdzb21tZXJ2aWxsZTE5OTlhJyk7\"));\n",
       "    "
      ],
      "text/plain": [
       "<IPython.core.display.Javascript object>"
      ]
     },
     "metadata": {},
     "output_type": "display_data"
    },
    {
     "data": {
      "application/javascript": [
       "$('span:contains(\"# Temp\")').closest('.cell').remove();"
      ],
      "text/plain": [
       "<IPython.core.display.Javascript object>"
      ]
     },
     "metadata": {},
     "output_type": "display_data"
    },
    {
     "data": {
      "application/javascript": [
       "\n",
       "        $('span:contains(\"# Temp\")').closest('.cell').remove();\n",
       "        var code = IPython.notebook.insert_cell_below('code');\n",
       "        code.set_text(atob(\"IyBUZW1wCmluc2VydCgnJycKbnVubjIwMTZhID0gREIoV29ya1VucmVsYXRlZCgKICAgIDIwMTYsICJUb3dhcmRzIGEgdW5pZmllZCBtZXRob2RvbG9neSBmb3Igc3VwcG9ydGluZyB0aGUgaW50ZWdyYXRpb24gb2YgZGF0YSBzb3VyY2VzIGZvciB1c2UgaW4gd2ViIGFwcGxpY2F0aW9ucyIsCiAgICBkaXNwbGF5PSJudW5uIiwKICAgIGF1dGhvcnM9Ik51bm4sIEplcmVteSIsCiAgICBwbGFjZT1UaGVzaXMsCiAgICBlbnRyeXR5cGU9InBoZHRoZXNpcyIsCiAgICBJRD0ibnVubjIwMTZ0b3dhcmRzIiwKICAgIGxvY2FsPSJNdXJkb2NoIFVuaXZlcnNpdHkiLAogICAgcGxhY2V4PSIiLAopKQoKREIoQ2l0YXRpb24oCiAgICBudW5uMjAxNmEsIHNvbW1lcnZpbGxlMTk5OWEsIHJlZj0iIiwKICAgIGNvbnRleHRzPVsKCiAgICBdLAopKQoKJycnLCBjaXRhdGlvbnM9J3NvbW1lcnZpbGxlMTk5OWEnKTs=\"));\n",
       "    "
      ],
      "text/plain": [
       "<IPython.core.display.Javascript object>"
      ]
     },
     "metadata": {},
     "output_type": "display_data"
    },
    {
     "data": {
      "application/javascript": [
       "$('span:contains(\"# Temp\")').closest('.cell').remove();"
      ],
      "text/plain": [
       "<IPython.core.display.Javascript object>"
      ]
     },
     "metadata": {},
     "output_type": "display_data"
    },
    {
     "data": {
      "application/javascript": [
       "\n",
       "        $('span:contains(\"# Temp\")').closest('.cell').remove();\n",
       "        var code = IPython.notebook.insert_cell_below('code');\n",
       "        code.set_text(atob(\"IyBUZW1wCmluc2VydCgnJycKbnVubjIwMTZhID0gREIoV29ya1VucmVsYXRlZCgKICAgIDIwMTYsICJUb3dhcmRzIGEgdW5pZmllZCBtZXRob2RvbG9neSBmb3Igc3VwcG9ydGluZyB0aGUgaW50ZWdyYXRpb24gb2YgZGF0YSBzb3VyY2VzIGZvciB1c2UgaW4gd2ViIGFwcGxpY2F0aW9ucyIsCiAgICBkaXNwbGF5PSJudW5uIiwKICAgIGF1dGhvcnM9Ik51bm4sIEplcmVteSIsCiAgICBwbGFjZT1UaGVzaXMsCiAgICBlbnRyeXR5cGU9InBoZHRoZXNpcyIsCiAgICBJRD0ibnVubjIwMTZ0b3dhcmRzIiwKICAgIGxvY2FsPSJNdXJkb2NoIFVuaXZlcnNpdHkiLAogICAgcGxhY2V4PSIiLAopKQoKREIoQ2l0YXRpb24oCiAgICBudW5uMjAxNmEsIHNvbW1lcnZpbGxlMTk5OWEsIHJlZj0iIiwKICAgIGNvbnRleHRzPVsKCiAgICBdLAopKQoKJycnLCBjaXRhdGlvbnM9J3NvbW1lcnZpbGxlMTk5OWEnKTs=\"));\n",
       "    "
      ],
      "text/plain": [
       "<IPython.core.display.Javascript object>"
      ]
     },
     "metadata": {},
     "output_type": "display_data"
    },
    {
     "data": {
      "application/javascript": [
       "$('span:contains(\"# Temp\")').closest('.cell').remove();"
      ],
      "text/plain": [
       "<IPython.core.display.Javascript object>"
      ]
     },
     "metadata": {},
     "output_type": "display_data"
    },
    {
     "data": {
      "application/javascript": [
       "\n",
       "        $('span:contains(\"# Temp\")').closest('.cell').remove();\n",
       "        var code = IPython.notebook.insert_cell_below('code');\n",
       "        code.set_text(atob(\"IyBUZW1wCmluc2VydCgnJycKbW9yaXNpbzBhID0gREIoV29ya1VucmVsYXRlZCgKICAgIDAsICJTb2Z0d2FyZSBwcm9qZWN0IHN1Y2Nlc3M6IHF1YW50aXRhdGl2ZSBhbmQgcXVhbGl0YXRpdmUgZXZpZGVuY2VzIGZyb20gdGhlIGluZHVzdHJpYWwgcHJvamVjdHMiLAogICAgZGlzcGxheT0ibW9yaXNpbyIsCiAgICBhdXRob3JzPSJNT1JJU0lPLCBNYXVyaXppbyBhbmQgRUdPUk9WQSwgRXZnZW5pYSIsCiAgICBwbGFjZT1GQUtFLAogICAgZW50cnl0eXBlPSJhcnRpY2xlIiwKICAgIElEPSJtb3Jpc2lvc29mdHdhcmUiLAogICAgcGxhY2V4PSIiLAopKQoKREIoQ2l0YXRpb24oCiAgICBtb3Jpc2lvMGEsIHNvbW1lcnZpbGxlMTk5OWEsIHJlZj0iIiwKICAgIGNvbnRleHRzPVsKCiAgICBdLAopKQoKJycnLCBjaXRhdGlvbnM9J3NvbW1lcnZpbGxlMTk5OWEnKTs=\"));\n",
       "    "
      ],
      "text/plain": [
       "<IPython.core.display.Javascript object>"
      ]
     },
     "metadata": {},
     "output_type": "display_data"
    },
    {
     "data": {
      "application/javascript": [
       "$('span:contains(\"# Temp\")').closest('.cell').remove();"
      ],
      "text/plain": [
       "<IPython.core.display.Javascript object>"
      ]
     },
     "metadata": {},
     "output_type": "display_data"
    },
    {
     "data": {
      "application/javascript": [
       "\n",
       "        $('span:contains(\"# Temp\")').closest('.cell').remove();\n",
       "        var code = IPython.notebook.insert_cell_below('code');\n",
       "        code.set_text(atob(\"IyBUZW1wCmluc2VydCgnJycKbW9yaXNpbzBhID0gREIoV29ya1VucmVsYXRlZCgKICAgIDAsICJTb2Z0d2FyZSBwcm9qZWN0IHN1Y2Nlc3M6IHF1YW50aXRhdGl2ZSBhbmQgcXVhbGl0YXRpdmUgZXZpZGVuY2VzIGZyb20gdGhlIGluZHVzdHJpYWwgcHJvamVjdHMiLAogICAgZGlzcGxheT0ibW9yaXNpbyIsCiAgICBhdXRob3JzPSJNT1JJU0lPLCBNYXVyaXppbyBhbmQgRUdPUk9WQSwgRXZnZW5pYSIsCiAgICBwbGFjZT1GQUtFLAogICAgZW50cnl0eXBlPSJhcnRpY2xlIiwKICAgIElEPSJtb3Jpc2lvc29mdHdhcmUiLAogICAgcGxhY2V4PSIiLAopKQoKREIoQ2l0YXRpb24oCiAgICBtb3Jpc2lvMGEsIHNvbW1lcnZpbGxlMTk5OWEsIHJlZj0iIiwKICAgIGNvbnRleHRzPVsKCiAgICBdLAopKQoKJycnLCBjaXRhdGlvbnM9J3NvbW1lcnZpbGxlMTk5OWEnKTs=\"));\n",
       "    "
      ],
      "text/plain": [
       "<IPython.core.display.Javascript object>"
      ]
     },
     "metadata": {},
     "output_type": "display_data"
    },
    {
     "data": {
      "application/javascript": [
       "$('span:contains(\"# Temp\")').closest('.cell').remove();"
      ],
      "text/plain": [
       "<IPython.core.display.Javascript object>"
      ]
     },
     "metadata": {},
     "output_type": "display_data"
    },
    {
     "data": {
      "application/javascript": [
       "\n",
       "        $('span:contains(\"# Temp\")').closest('.cell').remove();\n",
       "        var code = IPython.notebook.insert_cell_below('code');\n",
       "        code.set_text(atob(\"IyBUZW1wCmluc2VydCgnJycKbW9yaXNpbzIwMDlhID0gREIoV29ya1VucmVsYXRlZCgKICAgIDIwMDksICJTb2Z0d2FyZSBwcm9qZWN0IHN1Y2Nlc3M6IHF1YW50aXRhdGl2ZSBhbmQgcXVhbGl0YXRpdmUgZXZpZGVuY2VzIGZyb20gdGhlIGluZHVzdHJpYWwgcHJvamVjdHMiLAogICAgZGlzcGxheT0ibW9yaXNpbyIsCiAgICBhdXRob3JzPSJNT1JJU0lPLCBNYXVyaXppbyBhbmQgRUdPUk9WQSwgRXZnZW5pYSIsCiAgICBwbGFjZT1GQUtFLAogICAgZW50cnl0eXBlPSJhcnRpY2xlIiwKICAgIElEPSJtb3Jpc2lvc29mdHdhcmUiLAogICAgcGxhY2V4PSIiLAopKQoKREIoQ2l0YXRpb24oCiAgICBtb3Jpc2lvMjAwOWEsIHNvbW1lcnZpbGxlMTk5OWEsIHJlZj0iIiwKICAgIGNvbnRleHRzPVsKCiAgICBdLAopKQoKJycnLCBjaXRhdGlvbnM9J3NvbW1lcnZpbGxlMTk5OWEnKTs=\"));\n",
       "    "
      ],
      "text/plain": [
       "<IPython.core.display.Javascript object>"
      ]
     },
     "metadata": {},
     "output_type": "display_data"
    },
    {
     "data": {
      "application/javascript": [
       "$('span:contains(\"# Temp\")').closest('.cell').remove();"
      ],
      "text/plain": [
       "<IPython.core.display.Javascript object>"
      ]
     },
     "metadata": {},
     "output_type": "display_data"
    },
    {
     "data": {
      "application/javascript": [
       "\n",
       "        $('span:contains(\"# Temp\")').closest('.cell').remove();\n",
       "        var code = IPython.notebook.insert_cell_below('code');\n",
       "        code.set_text(atob(\"IyBUZW1wCmluc2VydCgnJycKYWlkYTIwMDlhID0gREIoV29ya1VucmVsYXRlZCgKICAgIDIwMDksICJQcm9ncmFtIGdlbmVyYXRpb24gZm9yIGFwcGxpY2F0aW9uIGRvbWFpbiB1c2VycyBieSBzZWxlY3RpbmcgbW9kZWwgY2FuZGlkYXRlcyIsCiAgICBkaXNwbGF5PSJhaWRhIiwKICAgIGF1dGhvcnM9IkFpZGEsIFRha3VtaSBhbmQgT2hzdWdhLCBTZXRzdW8iLAogICAgcGxhY2U9RkFLRSwKICAgIHBwPSIyNDItLTI1MSIsCiAgICBlbnRyeXR5cGU9ImlucHJvY2VlZGluZ3MiLAogICAgb3JnYW5pemF0aW9uPSJTcHJpbmdlciIsCiAgICBJRD0iYWlkYTIwMDNwcm9ncmFtIiwKICAgIHBsYWNleD0iSW50ZXJuYXRpb25hbCBTeW1wb3NpdW0gb24gTWV0aG9kb2xvZ2llcyBmb3IgSW50ZWxsaWdlbnQgU3lzdGVtcyIsCikpCgpEQihDaXRhdGlvbigKICAgIGFpZGEyMDA5YSwgc29tbWVydmlsbGUxOTk5YSwgcmVmPSIiLAogICAgY29udGV4dHM9WwoKICAgIF0sCikpCgonJycsIGNpdGF0aW9ucz0nc29tbWVydmlsbGUxOTk5YScpOw==\"));\n",
       "    "
      ],
      "text/plain": [
       "<IPython.core.display.Javascript object>"
      ]
     },
     "metadata": {},
     "output_type": "display_data"
    },
    {
     "data": {
      "application/javascript": [
       "$('span:contains(\"# Temp\")').closest('.cell').remove();"
      ],
      "text/plain": [
       "<IPython.core.display.Javascript object>"
      ]
     },
     "metadata": {},
     "output_type": "display_data"
    },
    {
     "data": {
      "application/javascript": [
       "\n",
       "        $('span:contains(\"# Temp\")').closest('.cell').remove();\n",
       "        var code = IPython.notebook.insert_cell_below('code');\n",
       "        code.set_text(atob(\"IyBUZW1wCmluc2VydCgnJycKYWlkYTIwMDNhID0gREIoV29ya1VucmVsYXRlZCgKICAgIDIwMDMsICJQcm9ncmFtIGdlbmVyYXRpb24gZm9yIGFwcGxpY2F0aW9uIGRvbWFpbiB1c2VycyBieSBzZWxlY3RpbmcgbW9kZWwgY2FuZGlkYXRlcyIsCiAgICBkaXNwbGF5PSJhaWRhIiwKICAgIGF1dGhvcnM9IkFpZGEsIFRha3VtaSBhbmQgT2hzdWdhLCBTZXRzdW8iLAogICAgcGxhY2U9RkFLRSwKICAgIHBwPSIyNDItLTI1MSIsCiAgICBlbnRyeXR5cGU9ImlucHJvY2VlZGluZ3MiLAogICAgb3JnYW5pemF0aW9uPSJTcHJpbmdlciIsCiAgICBJRD0iYWlkYTIwMDNwcm9ncmFtIiwKICAgIHBsYWNleD0iSW50ZXJuYXRpb25hbCBTeW1wb3NpdW0gb24gTWV0aG9kb2xvZ2llcyBmb3IgSW50ZWxsaWdlbnQgU3lzdGVtcyIsCikpCgpEQihDaXRhdGlvbigKICAgIGFpZGEyMDAzYSwgc29tbWVydmlsbGUxOTk5YSwgcmVmPSIiLAogICAgY29udGV4dHM9WwoKICAgIF0sCikpCgonJycsIGNpdGF0aW9ucz0nc29tbWVydmlsbGUxOTk5YScpOw==\"));\n",
       "    "
      ],
      "text/plain": [
       "<IPython.core.display.Javascript object>"
      ]
     },
     "metadata": {},
     "output_type": "display_data"
    },
    {
     "data": {
      "application/javascript": [
       "$('span:contains(\"# Temp\")').closest('.cell').remove();"
      ],
      "text/plain": [
       "<IPython.core.display.Javascript object>"
      ]
     },
     "metadata": {},
     "output_type": "display_data"
    },
    {
     "data": {
      "application/javascript": [
       "\n",
       "        $('span:contains(\"# Temp\")').closest('.cell').remove();\n",
       "        var code = IPython.notebook.insert_cell_below('code');\n",
       "        code.set_text(atob(\"IyBUZW1wCmluc2VydCgnJycKY2hhcnJlbDIwMDdhID0gREIoV29ya1VucmVsYXRlZCgKICAgIDIwMDcsICJDZW50cmVkIE1ldGhvZG9sb2d5IHRvIERlc2lnbiBQcm9qZWN0L1N1YmNvbnRyYWN0IENvb3BlcmF0aW9uIFBvbGljaWVzIiwKICAgIGRpc3BsYXk9ImNoYXJyZWwiLAogICAgYXV0aG9ycz0iQ2hhcnJlbCwgUC1KIGFuZCBUaGllcnJ5LCBDIiwKICAgIHBsYWNlPUZBS0UsCiAgICBwcD0iNDctLTYyIiwKICAgIGVudHJ5dHlwZT0iaW5jb2xsZWN0aW9uIiwKICAgIHB1Ymxpc2hlcj0iU3ByaW5nZXIiLAogICAgSUQ9ImNoYXJyZWwyMDA3Y2VudHJlZCIsCiAgICBwbGFjZXg9IlByb2plY3QgTWFuYWdlbWVudCBhbmQgUmlzayBNYW5hZ2VtZW50IGluIENvbXBsZXggUHJvamVjdHMiLAopKQoKREIoQ2l0YXRpb24oCiAgICBjaGFycmVsMjAwN2EsIHNvbW1lcnZpbGxlMTk5OWEsIHJlZj0iIiwKICAgIGNvbnRleHRzPVsKCiAgICBdLAopKQoKJycnLCBjaXRhdGlvbnM9J3NvbW1lcnZpbGxlMTk5OWEnKTs=\"));\n",
       "    "
      ],
      "text/plain": [
       "<IPython.core.display.Javascript object>"
      ]
     },
     "metadata": {},
     "output_type": "display_data"
    },
    {
     "data": {
      "application/javascript": [
       "$('span:contains(\"# Temp\")').closest('.cell').remove();"
      ],
      "text/plain": [
       "<IPython.core.display.Javascript object>"
      ]
     },
     "metadata": {},
     "output_type": "display_data"
    },
    {
     "data": {
      "application/javascript": [
       "\n",
       "        $('span:contains(\"# Temp\")').closest('.cell').remove();\n",
       "        var code = IPython.notebook.insert_cell_below('code');\n",
       "        code.set_text(atob(\"IyBUZW1wCmluc2VydCgnJycKY2hhcnJlbDIwMDdhID0gREIoV29ya1VucmVsYXRlZCgKICAgIDIwMDcsICJDZW50cmVkIE1ldGhvZG9sb2d5IHRvIERlc2lnbiBQcm9qZWN0L1N1YmNvbnRyYWN0IENvb3BlcmF0aW9uIFBvbGljaWVzIiwKICAgIGRpc3BsYXk9ImNoYXJyZWwiLAogICAgYXV0aG9ycz0iQ2hhcnJlbCwgUC1KIGFuZCBUaGllcnJ5LCBDIiwKICAgIHBsYWNlPUZBS0UsCiAgICBwcD0iNDctLTYyIiwKICAgIGVudHJ5dHlwZT0iaW5jb2xsZWN0aW9uIiwKICAgIHB1Ymxpc2hlcj0iU3ByaW5nZXIiLAogICAgSUQ9ImNoYXJyZWwyMDA3Y2VudHJlZCIsCiAgICBwbGFjZXg9IlByb2plY3QgTWFuYWdlbWVudCBhbmQgUmlzayBNYW5hZ2VtZW50IGluIENvbXBsZXggUHJvamVjdHMiLAopKQoKREIoQ2l0YXRpb24oCiAgICBjaGFycmVsMjAwN2EsIHNvbW1lcnZpbGxlMTk5OWEsIHJlZj0iIiwKICAgIGNvbnRleHRzPVsKCiAgICBdLAopKQoKJycnLCBjaXRhdGlvbnM9J3NvbW1lcnZpbGxlMTk5OWEnKTs=\"));\n",
       "    "
      ],
      "text/plain": [
       "<IPython.core.display.Javascript object>"
      ]
     },
     "metadata": {},
     "output_type": "display_data"
    },
    {
     "data": {
      "application/javascript": [
       "$('span:contains(\"# Temp\")').closest('.cell').remove();"
      ],
      "text/plain": [
       "<IPython.core.display.Javascript object>"
      ]
     },
     "metadata": {},
     "output_type": "display_data"
    },
    {
     "data": {
      "application/javascript": [
       "\n",
       "        $('span:contains(\"# Temp\")').closest('.cell').remove();\n",
       "        var code = IPython.notebook.insert_cell_below('code');\n",
       "        code.set_text(atob(\"IyBUZW1wCmluc2VydCgnJycKanVuMjAwN2EgPSBEQihXb3JrVW5yZWxhdGVkKAogICAgMjAwNywgIkNvbnNpc3RlbmN5IENoZWNraW5nIGluIEMgNCBJU1IgQXJjaGl0ZWN0dXJlIERlc2lnbmluZyBCYXNlZCBvbiBET0QgQXJjaGl0ZWN0dXJlIEZyYW1ld29yayIsCiAgICBkaXNwbGF5PSJqdW4iLAogICAgYXV0aG9ycz0iSnVuLXhpYW4sIExpdSBhbmQgWmhpLXBpbmcsIEppYW5nIGFuZCBIb25nLWh1aSwgQ2hlbiIsCiAgICBwbGFjZT1GQUtFLAogICAgcHA9IjM1Ny0tMzYyIiwKICAgIGVudHJ5dHlwZT0iaW5wcm9jZWVkaW5ncyIsCiAgICBvcmdhbml6YXRpb249IklFRUUiLAogICAgSUQ9Imp1bjIwMDdjb25zaXN0ZW5jeSIsCiAgICBwbGFjZXg9Ik1hbmFnZW1lbnQgU2NpZW5jZSBhbmQgRW5naW5lZXJpbmcsIDIwMDcuIElDTVNFIDIwMDcuIEludGVybmF0aW9uYWwgQ29uZmVyZW5jZSBvbiIsCikpCgpEQihDaXRhdGlvbigKICAgIGp1bjIwMDdhLCBzb21tZXJ2aWxsZTE5OTlhLCByZWY9IiIsCiAgICBjb250ZXh0cz1bCgogICAgXSwKKSkKCicnJywgY2l0YXRpb25zPSdzb21tZXJ2aWxsZTE5OTlhJyk7\"));\n",
       "    "
      ],
      "text/plain": [
       "<IPython.core.display.Javascript object>"
      ]
     },
     "metadata": {},
     "output_type": "display_data"
    },
    {
     "data": {
      "application/javascript": [
       "$('span:contains(\"# Temp\")').closest('.cell').remove();"
      ],
      "text/plain": [
       "<IPython.core.display.Javascript object>"
      ]
     },
     "metadata": {},
     "output_type": "display_data"
    },
    {
     "data": {
      "application/javascript": [
       "\n",
       "        $('span:contains(\"# Temp\")').closest('.cell').remove();\n",
       "        var code = IPython.notebook.insert_cell_below('code');\n",
       "        code.set_text(atob(\"IyBUZW1wCmluc2VydCgnJycKamVza28wYSA9IERCKFdvcmtVbnJlbGF0ZWQoCiAgICAwLCAiRElTVFJJQlVURUQgTU9ERUxJTkcgSU4gRU5HSU5FRVJJTkcgnCBUT1dBUkRTIEEgVE9PTC1TVVBQT1JURUQgSU5URUdSQVRJT04gT0YgTk9UQVRJT05TIFVTSU5HIE1FVEEgT0JKRUNUIEZBQ0lMSVRJRVMiLAogICAgZGlzcGxheT0iamVza28iLAogICAgYXV0aG9ycz0iSmVza28sIERpcmsgYW5kIFBhdWwsIEdlb3JnIiwKICAgIHBsYWNlPUZBS0UsCiAgICBlbnRyeXR5cGU9ImFydGljbGUiLAogICAgSUQ9Implc2tvZGlzdHJpYnV0ZWQiLAogICAgcGxhY2V4PSIiLAopKQoKREIoQ2l0YXRpb24oCiAgICBqZXNrbzBhLCBzb21tZXJ2aWxsZTE5OTlhLCByZWY9IiIsCiAgICBjb250ZXh0cz1bCgogICAgXSwKKSkKCicnJywgY2l0YXRpb25zPSdzb21tZXJ2aWxsZTE5OTlhJyk7\"));\n",
       "    "
      ],
      "text/plain": [
       "<IPython.core.display.Javascript object>"
      ]
     },
     "metadata": {},
     "output_type": "display_data"
    },
    {
     "data": {
      "application/javascript": [
       "$('span:contains(\"# Temp\")').closest('.cell').remove();"
      ],
      "text/plain": [
       "<IPython.core.display.Javascript object>"
      ]
     },
     "metadata": {},
     "output_type": "display_data"
    },
    {
     "data": {
      "application/javascript": [
       "\n",
       "        $('span:contains(\"# Temp\")').closest('.cell').remove();\n",
       "        var code = IPython.notebook.insert_cell_below('code');\n",
       "        code.set_text(atob(\"IyBUZW1wCmluc2VydCgnJycKamVza28wYSA9IERCKFdvcmtVbnJlbGF0ZWQoCiAgICAwLCAiRElTVFJJQlVURUQgTU9ERUxJTkcgSU4gRU5HSU5FRVJJTkcgnCBUT1dBUkRTIEEgVE9PTC1TVVBQT1JURUQgSU5URUdSQVRJT04gT0YgTk9UQVRJT05TIFVTSU5HIE1FVEEgT0JKRUNUIEZBQ0lMSVRJRVMiLAogICAgZGlzcGxheT0iamVza28iLAogICAgYXV0aG9ycz0iSmVza28sIERpcmsgYW5kIFBhdWwsIEdlb3JnIiwKICAgIHBsYWNlPUZBS0UsCiAgICBlbnRyeXR5cGU9ImFydGljbGUiLAogICAgSUQ9Implc2tvZGlzdHJpYnV0ZWQiLAogICAgcGxhY2V4PSIiLAopKQoKREIoQ2l0YXRpb24oCiAgICBqZXNrbzBhLCBzb21tZXJ2aWxsZTE5OTlhLCByZWY9IiIsCiAgICBjb250ZXh0cz1bCgogICAgXSwKKSkKCicnJywgY2l0YXRpb25zPSdzb21tZXJ2aWxsZTE5OTlhJyk7\"));\n",
       "    "
      ],
      "text/plain": [
       "<IPython.core.display.Javascript object>"
      ]
     },
     "metadata": {},
     "output_type": "display_data"
    },
    {
     "data": {
      "application/javascript": [
       "$('span:contains(\"# Temp\")').closest('.cell').remove();"
      ],
      "text/plain": [
       "<IPython.core.display.Javascript object>"
      ]
     },
     "metadata": {},
     "output_type": "display_data"
    },
    {
     "data": {
      "application/javascript": [
       "\n",
       "        $('span:contains(\"# Temp\")').closest('.cell').remove();\n",
       "        var code = IPython.notebook.insert_cell_below('code');\n",
       "        code.set_text(atob(\"IyBUZW1wCmluc2VydCgnJycKamVza28xOTk5YSA9IERCKFdvcmtVbnJlbGF0ZWQoCiAgICAxOTk5LCAiRElTVFJJQlVURUQgTU9ERUxJTkcgSU4gRU5HSU5FRVJJTkcgnCBUT1dBUkRTIEEgVE9PTC1TVVBQT1JURUQgSU5URUdSQVRJT04gT0YgTk9UQVRJT05TIFVTSU5HIE1FVEEgT0JKRUNUIEZBQ0lMSVRJRVMiLAogICAgZGlzcGxheT0iamVza28iLAogICAgYXV0aG9ycz0iSmVza28sIERpcmsgYW5kIFBhdWwsIEdlb3JnIiwKICAgIHBsYWNlPUZBS0UsCiAgICBlbnRyeXR5cGU9ImFydGljbGUiLAogICAgSUQ9Implc2tvZGlzdHJpYnV0ZWQiLAogICAgcGxhY2V4PSIiLAopKQoKREIoQ2l0YXRpb24oCiAgICBqZXNrbzE5OTlhLCBzb21tZXJ2aWxsZTE5OTlhLCByZWY9IiIsCiAgICBjb250ZXh0cz1bCgogICAgXSwKKSkKCicnJywgY2l0YXRpb25zPSdzb21tZXJ2aWxsZTE5OTlhJyk7\"));\n",
       "    "
      ],
      "text/plain": [
       "<IPython.core.display.Javascript object>"
      ]
     },
     "metadata": {},
     "output_type": "display_data"
    },
    {
     "data": {
      "application/javascript": [
       "$('span:contains(\"# Temp\")').closest('.cell').remove();"
      ],
      "text/plain": [
       "<IPython.core.display.Javascript object>"
      ]
     },
     "metadata": {},
     "output_type": "display_data"
    },
    {
     "data": {
      "application/javascript": [
       "\n",
       "        $('span:contains(\"# Temp\")').closest('.cell').remove();\n",
       "        var code = IPython.notebook.insert_cell_below('code');\n",
       "        code.set_text(atob(\"IyBUZW1wCmluc2VydCgnJycKc29sYWltYW5pMTk5OWEgPSBEQihXb3JrVW5yZWxhdGVkKAogICAgMTk5OSwgIkJ1c2luZXNzIE1vZGVsIEltcGxlbWVudGF0aW9uIHdpdGhpbiBOZXR3b3JrZWQgRW50ZXJwcmlzZXM6IEEgQ2FzZSBTdHVkeSBvbiBhIEZpbm5pc2ggUGhhcm1hY2V1dGljYWwgUHJvamVjdCIsCiAgICBkaXNwbGF5PSJzb2xhaW1hbmkiLAogICAgYXV0aG9ycz0iU29sYWltYW5pLCBTYW0gYW5kIEhlaWtraWzkLCBNYXJpa2thIGFuZCBCb3V3bWFuLCBIYXJyeSIsCiAgICBwbGFjZT1GQUtFLAogICAgZW50cnl0eXBlPSJhcnRpY2xlIiwKICAgIHB1Ymxpc2hlcj0iV2lsZXkgT25saW5lIExpYnJhcnkiLAogICAgSUQ9InNvbGFpbWFuaTIwMTdidXNpbmVzcyIsCiAgICBjbHVzdGVyX2lkPSIxNjUwNTY2ODg5MzI2NTg2NDgwIiwKICAgIHNjaG9sYXI9Imh0dHA6Ly9zY2hvbGFyLmdvb2dsZS5jb20vc2Nob2xhcj9jaXRlcz0xNjUwNTY2ODg5MzI2NTg2NDgwJmFzX3NkdD0yMDA1JnNjaW9kdD0wLDUmaGw9ZW4iLAogICAgcGxhY2V4PSJFdXJvcGVhbiBNYW5hZ2VtZW50IFJldmlldyIsCikpCgpEQihDaXRhdGlvbigKICAgIHNvbGFpbWFuaTE5OTlhLCBzb21tZXJ2aWxsZTE5OTlhLCByZWY9IiIsCiAgICBjb250ZXh0cz1bCgogICAgXSwKKSkKCicnJywgY2l0YXRpb25zPSdzb21tZXJ2aWxsZTE5OTlhJyk7\"));\n",
       "    "
      ],
      "text/plain": [
       "<IPython.core.display.Javascript object>"
      ]
     },
     "metadata": {},
     "output_type": "display_data"
    },
    {
     "data": {
      "application/javascript": [
       "$('span:contains(\"# Temp\")').closest('.cell').remove();"
      ],
      "text/plain": [
       "<IPython.core.display.Javascript object>"
      ]
     },
     "metadata": {},
     "output_type": "display_data"
    },
    {
     "data": {
      "application/javascript": [
       "\n",
       "        $('span:contains(\"# Temp\")').closest('.cell').remove();\n",
       "        var code = IPython.notebook.insert_cell_below('code');\n",
       "        code.set_text(atob(\"IyBUZW1wCmluc2VydCgnJycKc29sYWltYW5pMjAxN2EgPSBEQihXb3JrVW5yZWxhdGVkKAogICAgMjAxNywgIkJ1c2luZXNzIE1vZGVsIEltcGxlbWVudGF0aW9uIHdpdGhpbiBOZXR3b3JrZWQgRW50ZXJwcmlzZXM6IEEgQ2FzZSBTdHVkeSBvbiBhIEZpbm5pc2ggUGhhcm1hY2V1dGljYWwgUHJvamVjdCIsCiAgICBkaXNwbGF5PSJzb2xhaW1hbmkiLAogICAgYXV0aG9ycz0iU29sYWltYW5pLCBTYW0gYW5kIEhlaWtraWzkLCBNYXJpa2thIGFuZCBCb3V3bWFuLCBIYXJyeSIsCiAgICBwbGFjZT1GQUtFLAogICAgZW50cnl0eXBlPSJhcnRpY2xlIiwKICAgIHB1Ymxpc2hlcj0iV2lsZXkgT25saW5lIExpYnJhcnkiLAogICAgSUQ9InNvbGFpbWFuaTIwMTdidXNpbmVzcyIsCiAgICBjbHVzdGVyX2lkPSIxNjUwNTY2ODg5MzI2NTg2NDgwIiwKICAgIHNjaG9sYXI9Imh0dHA6Ly9zY2hvbGFyLmdvb2dsZS5jb20vc2Nob2xhcj9jaXRlcz0xNjUwNTY2ODg5MzI2NTg2NDgwJmFzX3NkdD0yMDA1JnNjaW9kdD0wLDUmaGw9ZW4iLAogICAgcGxhY2V4PSJFdXJvcGVhbiBNYW5hZ2VtZW50IFJldmlldyIsCikpCgpEQihDaXRhdGlvbigKICAgIHNvbGFpbWFuaTIwMTdhLCBzb21tZXJ2aWxsZTE5OTlhLCByZWY9IiIsCiAgICBjb250ZXh0cz1bCgogICAgXSwKKSkKCicnJywgY2l0YXRpb25zPSdzb21tZXJ2aWxsZTE5OTlhJyk7\"));\n",
       "    "
      ],
      "text/plain": [
       "<IPython.core.display.Javascript object>"
      ]
     },
     "metadata": {},
     "output_type": "display_data"
    },
    {
     "data": {
      "application/javascript": [
       "$('span:contains(\"# Temp\")').closest('.cell').remove();"
      ],
      "text/plain": [
       "<IPython.core.display.Javascript object>"
      ]
     },
     "metadata": {},
     "output_type": "display_data"
    },
    {
     "data": {
      "application/javascript": [
       "\n",
       "        $('span:contains(\"# Temp\")').closest('.cell').remove();\n",
       "        var code = IPython.notebook.insert_cell_below('code');\n",
       "        code.set_text(atob(\"IyBUZW1wCmluc2VydCgnJycKanVyY3p1azIwMTdhID0gREIoV29ya1VucmVsYXRlZCgKICAgIDIwMTcsICJCVVNJTkVTUyBQUk9DRVNTIElOQ09OU0lTVEVOQ0lFUyBJTiBQT0xJU0ggU01BTEwgQU5EIE1FRElVTSBFTlRFUlBSSVNFUyIsCiAgICBkaXNwbGF5PSJqdXJjenVrIiwKICAgIGF1dGhvcnM9Ikp1cmN6dWssIEFya2FkaXVzeiIsCiAgICBwbGFjZT1GQUtFLAogICAgcHA9Ijc0MiIsCiAgICBlbnRyeXR5cGU9ImlucHJvY2VlZGluZ3MiLAogICAgSUQ9Imp1cmN6dWsyMDE3YnVzaW5lc3MiLAogICAgcGxhY2V4PSJFY29ub21pYyBhbmQgU29jaWFsIERldmVsb3BtZW50IChCb29rIG9mIFByb2NlZWRpbmdzKSwgMjNyZCBJbnRlcm5hdGlvbmFsIFNjaWVudGlmaWMgQ29uZmVyZW5jZSBvbiBFY29ub21pYyBhbmQgU29jaWFsIiwKKSkKCkRCKENpdGF0aW9uKAogICAganVyY3p1azIwMTdhLCBzb21tZXJ2aWxsZTE5OTlhLCByZWY9IiIsCiAgICBjb250ZXh0cz1bCgogICAgXSwKKSkKCicnJywgY2l0YXRpb25zPSdzb21tZXJ2aWxsZTE5OTlhJyk7\"));\n",
       "    "
      ],
      "text/plain": [
       "<IPython.core.display.Javascript object>"
      ]
     },
     "metadata": {},
     "output_type": "display_data"
    },
    {
     "data": {
      "application/javascript": [
       "$('span:contains(\"# Temp\")').closest('.cell').remove();"
      ],
      "text/plain": [
       "<IPython.core.display.Javascript object>"
      ]
     },
     "metadata": {},
     "output_type": "display_data"
    },
    {
     "data": {
      "application/javascript": [
       "\n",
       "        $('span:contains(\"# Temp\")').closest('.cell').remove();\n",
       "        var code = IPython.notebook.insert_cell_below('code');\n",
       "        code.set_text(atob(\"IyBUZW1wCmluc2VydCgnJycKanVyY3p1azIwMTdhID0gREIoV29ya1VucmVsYXRlZCgKICAgIDIwMTcsICJCVVNJTkVTUyBQUk9DRVNTIElOQ09OU0lTVEVOQ0lFUyBJTiBQT0xJU0ggU01BTEwgQU5EIE1FRElVTSBFTlRFUlBSSVNFUyIsCiAgICBkaXNwbGF5PSJqdXJjenVrIiwKICAgIGF1dGhvcnM9Ikp1cmN6dWssIEFya2FkaXVzeiIsCiAgICBwbGFjZT1GQUtFLAogICAgcHA9Ijc0MiIsCiAgICBlbnRyeXR5cGU9ImlucHJvY2VlZGluZ3MiLAogICAgSUQ9Imp1cmN6dWsyMDE3YnVzaW5lc3MiLAogICAgcGxhY2V4PSJFY29ub21pYyBhbmQgU29jaWFsIERldmVsb3BtZW50IChCb29rIG9mIFByb2NlZWRpbmdzKSwgMjNyZCBJbnRlcm5hdGlvbmFsIFNjaWVudGlmaWMgQ29uZmVyZW5jZSBvbiBFY29ub21pYyBhbmQgU29jaWFsIiwKKSkKCkRCKENpdGF0aW9uKAogICAganVyY3p1azIwMTdhLCBzb21tZXJ2aWxsZTE5OTlhLCByZWY9IiIsCiAgICBjb250ZXh0cz1bCgogICAgXSwKKSkKCicnJywgY2l0YXRpb25zPSdzb21tZXJ2aWxsZTE5OTlhJyk7\"));\n",
       "    "
      ],
      "text/plain": [
       "<IPython.core.display.Javascript object>"
      ]
     },
     "metadata": {},
     "output_type": "display_data"
    },
    {
     "data": {
      "application/javascript": [
       "$('span:contains(\"# Temp\")').closest('.cell').remove();"
      ],
      "text/plain": [
       "<IPython.core.display.Javascript object>"
      ]
     },
     "metadata": {},
     "output_type": "display_data"
    },
    {
     "data": {
      "application/javascript": [
       "\n",
       "        $('span:contains(\"# Temp\")').closest('.cell').remove();\n",
       "        var code = IPython.notebook.insert_cell_below('code');\n",
       "        code.set_text(atob(\"IyBUZW1wCmluc2VydCgnJycKa2FybHN0cvZtMGEgPSBEQihXb3JrVW5yZWxhdGVkKAogICAgMCwgIkluY3JlYXNpbmcgSW52b2x2ZW1lbnQgaW4gU29mdHdhcmUgUHJvY2VzcyBJbXByb3ZlbWVudCBQcm9jZXNzIEltcHJvdmVtZW50IiwKICAgIGRpc3BsYXk9ImthcmxzdHL2bSIsCiAgICBhdXRob3JzPSJLYXJsc3Ry9m0sIERhbmllbCBLYXJsc3Ry9m0gRGFuaWVsIiwKICAgIHBsYWNlPUZBS0UsCiAgICBlbnRyeXR5cGU9ImFydGljbGUiLAogICAgSUQ9ImthcmxzdHJvbWluY3JlYXNpbmciLAogICAgcGxhY2V4PSIiLAopKQoKREIoQ2l0YXRpb24oCiAgICBrYXJsc3Ry9m0wYSwgc29tbWVydmlsbGUxOTk5YSwgcmVmPSIiLAogICAgY29udGV4dHM9WwoKICAgIF0sCikpCgonJycsIGNpdGF0aW9ucz0nc29tbWVydmlsbGUxOTk5YScpOw==\"));\n",
       "    "
      ],
      "text/plain": [
       "<IPython.core.display.Javascript object>"
      ]
     },
     "metadata": {},
     "output_type": "display_data"
    },
    {
     "data": {
      "application/javascript": [
       "$('span:contains(\"# Temp\")').closest('.cell').remove();"
      ],
      "text/plain": [
       "<IPython.core.display.Javascript object>"
      ]
     },
     "metadata": {},
     "output_type": "display_data"
    },
    {
     "data": {
      "application/javascript": [
       "\n",
       "        $('span:contains(\"# Temp\")').closest('.cell').remove();\n",
       "        var code = IPython.notebook.insert_cell_below('code');\n",
       "        code.set_text(atob(\"IyBUZW1wCmluc2VydCgnJycKa2FybHN0cvZtMGEgPSBEQihXb3JrVW5yZWxhdGVkKAogICAgMCwgIkluY3JlYXNpbmcgSW52b2x2ZW1lbnQgaW4gU29mdHdhcmUgUHJvY2VzcyBJbXByb3ZlbWVudCBQcm9jZXNzIEltcHJvdmVtZW50IiwKICAgIGRpc3BsYXk9ImthcmxzdHL2bSIsCiAgICBhdXRob3JzPSJLYXJsc3Ry9m0sIERhbmllbCBLYXJsc3Ry9m0gRGFuaWVsIiwKICAgIHBsYWNlPUZBS0UsCiAgICBlbnRyeXR5cGU9ImFydGljbGUiLAogICAgSUQ9ImthcmxzdHJvbWluY3JlYXNpbmciLAogICAgcGxhY2V4PSIiLAopKQoKREIoQ2l0YXRpb24oCiAgICBrYXJsc3Ry9m0wYSwgc29tbWVydmlsbGUxOTk5YSwgcmVmPSIiLAogICAgY29udGV4dHM9WwoKICAgIF0sCikpCgonJycsIGNpdGF0aW9ucz0nc29tbWVydmlsbGUxOTk5YScpOw==\"));\n",
       "    "
      ],
      "text/plain": [
       "<IPython.core.display.Javascript object>"
      ]
     },
     "metadata": {},
     "output_type": "display_data"
    },
    {
     "data": {
      "application/javascript": [
       "$('span:contains(\"# Temp\")').closest('.cell').remove();"
      ],
      "text/plain": [
       "<IPython.core.display.Javascript object>"
      ]
     },
     "metadata": {},
     "output_type": "display_data"
    },
    {
     "data": {
      "application/javascript": [
       "\n",
       "        $('span:contains(\"# Temp\")').closest('.cell').remove();\n",
       "        var code = IPython.notebook.insert_cell_below('code');\n",
       "        code.set_text(atob(\"IyBUZW1wCmluc2VydCgnJycKa2FybHN0cvZtMjAwMWEgPSBEQihXb3JrVW5yZWxhdGVkKAogICAgMjAwMSwgIkluY3JlYXNpbmcgSW52b2x2ZW1lbnQgaW4gU29mdHdhcmUgUHJvY2VzcyBJbXByb3ZlbWVudCBQcm9jZXNzIEltcHJvdmVtZW50IiwKICAgIGRpc3BsYXk9ImthcmxzdHL2bSIsCiAgICBhdXRob3JzPSJLYXJsc3Ry9m0sIERhbmllbCBLYXJsc3Ry9m0gRGFuaWVsIiwKICAgIHBsYWNlPUZBS0UsCiAgICBlbnRyeXR5cGU9ImFydGljbGUiLAogICAgSUQ9ImthcmxzdHJvbWluY3JlYXNpbmciLAogICAgcGxhY2V4PSIiLAopKQoKREIoQ2l0YXRpb24oCiAgICBrYXJsc3Ry9m0yMDAxYSwgc29tbWVydmlsbGUxOTk5YSwgcmVmPSIiLAogICAgY29udGV4dHM9WwoKICAgIF0sCikpCgonJycsIGNpdGF0aW9ucz0nc29tbWVydmlsbGUxOTk5YScpOw==\"));\n",
       "    "
      ],
      "text/plain": [
       "<IPython.core.display.Javascript object>"
      ]
     },
     "metadata": {},
     "output_type": "display_data"
    },
    {
     "data": {
      "application/javascript": [
       "$('span:contains(\"# Temp\")').closest('.cell').remove();"
      ],
      "text/plain": [
       "<IPython.core.display.Javascript object>"
      ]
     },
     "metadata": {},
     "output_type": "display_data"
    },
    {
     "data": {
      "application/javascript": [
       "\n",
       "        $('span:contains(\"# Temp\")').closest('.cell').remove();\n",
       "        var code = IPython.notebook.insert_cell_below('code');\n",
       "        code.set_text(atob(\"IyBUZW1wCmluc2VydCgnJycKa2FybHN0cvZtMjAwMmIgPSBEQihXb3JrVW5yZWxhdGVkKAogICAgMjAwMiwgIkluY3JlYXNpbmcgSW52b2x2ZW1lbnQgaW4gU29mdHdhcmUgUHJvY2VzcyBJbXByb3ZlbWVudCBQcm9jZXNzIEltcHJvdmVtZW50IiwKICAgIGRpc3BsYXk9ImthcmxzdHL2bSIsCiAgICBhdXRob3JzPSJLYXJsc3Ry9m0sIERhbmllbCBLYXJsc3Ry9m0gRGFuaWVsIiwKICAgIHBsYWNlPUZBS0UsCiAgICBlbnRyeXR5cGU9ImFydGljbGUiLAogICAgSUQ9ImthcmxzdHJvbWluY3JlYXNpbmciLAogICAgcGxhY2V4PSIiLAopKQoKREIoQ2l0YXRpb24oCiAgICBrYXJsc3Ry9m0yMDAyYiwgc29tbWVydmlsbGUxOTk5YSwgcmVmPSIiLAogICAgY29udGV4dHM9WwoKICAgIF0sCikpCgonJycsIGNpdGF0aW9ucz0nc29tbWVydmlsbGUxOTk5YScpOw==\"));\n",
       "    "
      ],
      "text/plain": [
       "<IPython.core.display.Javascript object>"
      ]
     },
     "metadata": {},
     "output_type": "display_data"
    },
    {
     "data": {
      "application/javascript": [
       "$('span:contains(\"# Temp\")').closest('.cell').remove();"
      ],
      "text/plain": [
       "<IPython.core.display.Javascript object>"
      ]
     },
     "metadata": {},
     "output_type": "display_data"
    },
    {
     "data": {
      "application/javascript": [
       "\n",
       "        $('span:contains(\"# Temp\")').closest('.cell').remove();\n",
       "        var code = IPython.notebook.insert_cell_below('code');\n",
       "        code.set_text(atob(\"IyBUZW1wCmluc2VydCgnJycKbHVpMjAwMmEgPSBEQihXb3JrVW5yZWxhdGVkKAogICAgMjAwMiwgIlN0YXJ0IHdpdGggT3BlbiBTb3VyY2UiLAogICAgZGlzcGxheT0ibHVpIiwKICAgIGF1dGhvcnM9Ikx1aSwgS2ltIE1hbiBhbmQgQ2hhbiwgS2VpdGggQ0MiLAogICAgcGxhY2U9RkFLRSwKICAgIHBwPSI1NS0tODQiLAogICAgZW50cnl0eXBlPSJhcnRpY2xlIiwKICAgIHB1Ymxpc2hlcj0iV2lsZXkgT25saW5lIExpYnJhcnkiLAogICAgSUQ9Imx1aTIwMDhzdGFydCIsCiAgICBwbGFjZXg9IlNvZnR3YXJlIERldmVsb3BtZW50IFJoeXRobXM6IEhhcm1vbml6aW5nIEFnaWxlIFByYWN0aWNlcyBmb3IgU3luZXJneSIsCikpCgpEQihDaXRhdGlvbigKICAgIGx1aTIwMDJhLCBzb21tZXJ2aWxsZTE5OTlhLCByZWY9IiIsCiAgICBjb250ZXh0cz1bCgogICAgXSwKKSkKCicnJywgY2l0YXRpb25zPSdzb21tZXJ2aWxsZTE5OTlhJyk7\"));\n",
       "    "
      ],
      "text/plain": [
       "<IPython.core.display.Javascript object>"
      ]
     },
     "metadata": {},
     "output_type": "display_data"
    },
    {
     "data": {
      "application/javascript": [
       "$('span:contains(\"# Temp\")').closest('.cell').remove();"
      ],
      "text/plain": [
       "<IPython.core.display.Javascript object>"
      ]
     },
     "metadata": {},
     "output_type": "display_data"
    },
    {
     "data": {
      "application/javascript": [
       "\n",
       "        $('span:contains(\"# Temp\")').closest('.cell').remove();\n",
       "        var code = IPython.notebook.insert_cell_below('code');\n",
       "        code.set_text(atob(\"IyBUZW1wCmluc2VydCgnJycKbHVpMjAwOGEgPSBEQihXb3JrVW5yZWxhdGVkKAogICAgMjAwOCwgIlN0YXJ0IHdpdGggT3BlbiBTb3VyY2UiLAogICAgZGlzcGxheT0ibHVpIiwKICAgIGF1dGhvcnM9Ikx1aSwgS2ltIE1hbiBhbmQgQ2hhbiwgS2VpdGggQ0MiLAogICAgcGxhY2U9RkFLRSwKICAgIHBwPSI1NS0tODQiLAogICAgZW50cnl0eXBlPSJhcnRpY2xlIiwKICAgIHB1Ymxpc2hlcj0iV2lsZXkgT25saW5lIExpYnJhcnkiLAogICAgSUQ9Imx1aTIwMDhzdGFydCIsCiAgICBwbGFjZXg9IlNvZnR3YXJlIERldmVsb3BtZW50IFJoeXRobXM6IEhhcm1vbml6aW5nIEFnaWxlIFByYWN0aWNlcyBmb3IgU3luZXJneSIsCikpCgpEQihDaXRhdGlvbigKICAgIGx1aTIwMDhhLCBzb21tZXJ2aWxsZTE5OTlhLCByZWY9IiIsCiAgICBjb250ZXh0cz1bCgogICAgXSwKKSkKCicnJywgY2l0YXRpb25zPSdzb21tZXJ2aWxsZTE5OTlhJyk7\"));\n",
       "    "
      ],
      "text/plain": [
       "<IPython.core.display.Javascript object>"
      ]
     },
     "metadata": {},
     "output_type": "display_data"
    },
    {
     "data": {
      "application/javascript": [
       "$('span:contains(\"# Temp\")').closest('.cell').remove();"
      ],
      "text/plain": [
       "<IPython.core.display.Javascript object>"
      ]
     },
     "metadata": {},
     "output_type": "display_data"
    },
    {
     "data": {
      "application/javascript": [
       "\n",
       "        $('span:contains(\"# Temp\")').closest('.cell').remove();\n",
       "        var code = IPython.notebook.insert_cell_below('code');\n",
       "        code.set_text(atob(\"IyBUZW1wCmluc2VydCgnJycKbmFpcjIwMDlhID0gREIoV29ya1VucmVsYXRlZCgKICAgIDIwMDksICJDb21wcmVoZW5zaXZlIFNvZnR3YXJlIEluZHVzdHJ5IEFuYWx5c2lzIE1vZGVsIChDU0lBTSkiLAogICAgZGlzcGxheT0ibmFpciIsCiAgICBhdXRob3JzPSJOYWlyLCBUUiBHb3BhbGFrcmlzaG5hbiBhbmQgU2VsdmFyYW5pLCBSIGFuZCBSYW1hY2hhbmRyYW4sIE11dGh1IiwKICAgIHBsYWNlPUZBS0UsCiAgICBwcD0iMTI4IiwKICAgIGVudHJ5dHlwZT0iYXJ0aWNsZSIsCiAgICBwdWJsaXNoZXI9IklHSSBHbG9iYWwiLAogICAgSUQ9Im5haXIyMDA5Y29tcHJlaGVuc2l2ZSIsCiAgICBwbGFjZXg9IkhhbmRib29rIG9mIFJlc2VhcmNoIG9uIFNvZnR3YXJlIEVuZ2luZWVyaW5nIGFuZCBQcm9kdWN0aXZpdHkgVGVjaG5vbG9naWVzOiBJbXBsaWNhdGlvbnMgb2YgR2xvYmFsaXphdGlvbjogSW1wbGljYXRpb25zIG9mIEdsb2JhbGl6YXRpb24iLAopKQoKREIoQ2l0YXRpb24oCiAgICBuYWlyMjAwOWEsIHNvbW1lcnZpbGxlMTk5OWEsIHJlZj0iIiwKICAgIGNvbnRleHRzPVsKCiAgICBdLAopKQoKJycnLCBjaXRhdGlvbnM9J3NvbW1lcnZpbGxlMTk5OWEnKTs=\"));\n",
       "    "
      ],
      "text/plain": [
       "<IPython.core.display.Javascript object>"
      ]
     },
     "metadata": {},
     "output_type": "display_data"
    },
    {
     "data": {
      "application/javascript": [
       "$('span:contains(\"# Temp\")').closest('.cell').remove();"
      ],
      "text/plain": [
       "<IPython.core.display.Javascript object>"
      ]
     },
     "metadata": {},
     "output_type": "display_data"
    },
    {
     "data": {
      "application/javascript": [
       "\n",
       "        $('span:contains(\"# Temp\")').closest('.cell').remove();\n",
       "        var code = IPython.notebook.insert_cell_below('code');\n",
       "        code.set_text(atob(\"IyBUZW1wCmluc2VydCgnJycKbmFpcjIwMDlhID0gREIoV29ya1VucmVsYXRlZCgKICAgIDIwMDksICJDb21wcmVoZW5zaXZlIFNvZnR3YXJlIEluZHVzdHJ5IEFuYWx5c2lzIE1vZGVsIChDU0lBTSkiLAogICAgZGlzcGxheT0ibmFpciIsCiAgICBhdXRob3JzPSJOYWlyLCBUUiBHb3BhbGFrcmlzaG5hbiBhbmQgU2VsdmFyYW5pLCBSIGFuZCBSYW1hY2hhbmRyYW4sIE11dGh1IiwKICAgIHBsYWNlPUZBS0UsCiAgICBwcD0iMTI4IiwKICAgIGVudHJ5dHlwZT0iYXJ0aWNsZSIsCiAgICBwdWJsaXNoZXI9IklHSSBHbG9iYWwiLAogICAgSUQ9Im5haXIyMDA5Y29tcHJlaGVuc2l2ZSIsCiAgICBwbGFjZXg9IkhhbmRib29rIG9mIFJlc2VhcmNoIG9uIFNvZnR3YXJlIEVuZ2luZWVyaW5nIGFuZCBQcm9kdWN0aXZpdHkgVGVjaG5vbG9naWVzOiBJbXBsaWNhdGlvbnMgb2YgR2xvYmFsaXphdGlvbjogSW1wbGljYXRpb25zIG9mIEdsb2JhbGl6YXRpb24iLAopKQoKREIoQ2l0YXRpb24oCiAgICBuYWlyMjAwOWEsIHNvbW1lcnZpbGxlMTk5OWEsIHJlZj0iIiwKICAgIGNvbnRleHRzPVsKCiAgICBdLAopKQoKJycnLCBjaXRhdGlvbnM9J3NvbW1lcnZpbGxlMTk5OWEnKTs=\"));\n",
       "    "
      ],
      "text/plain": [
       "<IPython.core.display.Javascript object>"
      ]
     },
     "metadata": {},
     "output_type": "display_data"
    },
    {
     "data": {
      "application/javascript": [
       "$('span:contains(\"# Temp\")').closest('.cell').remove();"
      ],
      "text/plain": [
       "<IPython.core.display.Javascript object>"
      ]
     },
     "metadata": {},
     "output_type": "display_data"
    },
    {
     "data": {
      "application/javascript": [
       "\n",
       "        $('span:contains(\"# Temp\")').closest('.cell').remove();\n",
       "        var code = IPython.notebook.insert_cell_below('code');\n",
       "        code.set_text(atob(\"IyBUZW1wCmluc2VydCgnJycKZnJhbmNhbGFuY2kyMDE2YSA9IERCKFdvcmtVbnJlbGF0ZWQoCiAgICAyMDE2LCAiRXZhbHVhdGluZyB0aGUgRWNvbm9taWMgSW1wbGljYXRpb25zIG9mIEluZm9ybWF0aW9uIFN5c3RlbXM6IEEgRm9ybWFsIE1vZGVsIG9mIEluZm9ybWF0aW9uIFByb2Nlc3NpbmcgQ2FwYWNpdHkiLAogICAgZGlzcGxheT0iZnJhbmNhbGFuY2kiLAogICAgYXV0aG9ycz0iRnJhbmNhbGFuY2ksIENoaWFyYSBhbmQgR2lhY29tYXp6aSwgUGFvbG8gYW5kIG90aGVycyIsCiAgICBwbGFjZT1GQUtFLAogICAgcHA9IjI0Mi0tMjUxIiwKICAgIGVudHJ5dHlwZT0iYXJ0aWNsZSIsCiAgICB2b2x1bWU9IjEiLAogICAgSUQ9ImZyYW5jYWxhbmNpMjAxNmV2YWx1YXRpbmciLAogICAgcGxhY2V4PSJJTlRFUk5BVElPTkFMIEpPVVJOQUwgT0YgQ09NUFVURVJTIiwKKSkKCkRCKENpdGF0aW9uKAogICAgZnJhbmNhbGFuY2kyMDE2YSwgc29tbWVydmlsbGUxOTk5YSwgcmVmPSIiLAogICAgY29udGV4dHM9WwoKICAgIF0sCikpCgonJycsIGNpdGF0aW9ucz0nc29tbWVydmlsbGUxOTk5YScpOw==\"));\n",
       "    "
      ],
      "text/plain": [
       "<IPython.core.display.Javascript object>"
      ]
     },
     "metadata": {},
     "output_type": "display_data"
    },
    {
     "data": {
      "application/javascript": [
       "$('span:contains(\"# Temp\")').closest('.cell').remove();"
      ],
      "text/plain": [
       "<IPython.core.display.Javascript object>"
      ]
     },
     "metadata": {},
     "output_type": "display_data"
    },
    {
     "data": {
      "application/javascript": [
       "\n",
       "        $('span:contains(\"# Temp\")').closest('.cell').remove();\n",
       "        var code = IPython.notebook.insert_cell_below('code');\n",
       "        code.set_text(atob(\"IyBUZW1wCmluc2VydCgnJycKZnJhbmNhbGFuY2kyMDE2YSA9IERCKFdvcmtVbnJlbGF0ZWQoCiAgICAyMDE2LCAiRXZhbHVhdGluZyB0aGUgRWNvbm9taWMgSW1wbGljYXRpb25zIG9mIEluZm9ybWF0aW9uIFN5c3RlbXM6IEEgRm9ybWFsIE1vZGVsIG9mIEluZm9ybWF0aW9uIFByb2Nlc3NpbmcgQ2FwYWNpdHkiLAogICAgZGlzcGxheT0iZnJhbmNhbGFuY2kiLAogICAgYXV0aG9ycz0iRnJhbmNhbGFuY2ksIENoaWFyYSBhbmQgR2lhY29tYXp6aSwgUGFvbG8gYW5kIG90aGVycyIsCiAgICBwbGFjZT1GQUtFLAogICAgcHA9IjI0Mi0tMjUxIiwKICAgIGVudHJ5dHlwZT0iYXJ0aWNsZSIsCiAgICB2b2x1bWU9IjEiLAogICAgSUQ9ImZyYW5jYWxhbmNpMjAxNmV2YWx1YXRpbmciLAogICAgcGxhY2V4PSJJTlRFUk5BVElPTkFMIEpPVVJOQUwgT0YgQ09NUFVURVJTIiwKKSkKCkRCKENpdGF0aW9uKAogICAgZnJhbmNhbGFuY2kyMDE2YSwgc29tbWVydmlsbGUxOTk5YSwgcmVmPSIiLAogICAgY29udGV4dHM9WwoKICAgIF0sCikpCgonJycsIGNpdGF0aW9ucz0nc29tbWVydmlsbGUxOTk5YScpOw==\"));\n",
       "    "
      ],
      "text/plain": [
       "<IPython.core.display.Javascript object>"
      ]
     },
     "metadata": {},
     "output_type": "display_data"
    },
    {
     "data": {
      "application/javascript": [
       "$('span:contains(\"# Temp\")').closest('.cell').remove();"
      ],
      "text/plain": [
       "<IPython.core.display.Javascript object>"
      ]
     },
     "metadata": {},
     "output_type": "display_data"
    },
    {
     "data": {
      "application/javascript": [
       "\n",
       "        $('span:contains(\"# Temp\")').closest('.cell').remove();\n",
       "        var code = IPython.notebook.insert_cell_below('code');\n",
       "        code.set_text(atob(\"IyBUZW1wCmluc2VydCgnJycKZ2hvc2UwYSA9IERCKFdvcmtVbnJlbGF0ZWQoCiAgICAwLCAiUHJvY2VzcyBEaXNjb3ZlcnkgZnJvbSBNb2RlbCBhbmQgVGV4dCBBcnRlZmFjdHMgKFByZXByaW50KSIsCiAgICBkaXNwbGF5PSJnaG9zZSIsCiAgICBhdXRob3JzPSJHaG9zZSwgQWRpdHlhIGFuZCBLb2xpYWRpcywgR2VvcmdlIGFuZCBDaHVlbmcsIEFydGh1ciIsCiAgICBwbGFjZT1GQUtFLAogICAgZW50cnl0eXBlPSJhcnRpY2xlIiwKICAgIElEPSJnaG9zZXByb2Nlc3MiLAogICAgcGxhY2V4PSIiLAopKQoKREIoQ2l0YXRpb24oCiAgICBnaG9zZTBhLCBzb21tZXJ2aWxsZTE5OTlhLCByZWY9IiIsCiAgICBjb250ZXh0cz1bCgogICAgXSwKKSkKCicnJywgY2l0YXRpb25zPSdzb21tZXJ2aWxsZTE5OTlhJyk7\"));\n",
       "    "
      ],
      "text/plain": [
       "<IPython.core.display.Javascript object>"
      ]
     },
     "metadata": {},
     "output_type": "display_data"
    },
    {
     "data": {
      "application/javascript": [
       "$('span:contains(\"# Temp\")').closest('.cell').remove();"
      ],
      "text/plain": [
       "<IPython.core.display.Javascript object>"
      ]
     },
     "metadata": {},
     "output_type": "display_data"
    },
    {
     "data": {
      "application/javascript": [
       "\n",
       "        $('span:contains(\"# Temp\")').closest('.cell').remove();\n",
       "        var code = IPython.notebook.insert_cell_below('code');\n",
       "        code.set_text(atob(\"IyBUZW1wCmluc2VydCgnJycKZ2hvc2UwYSA9IERCKFdvcmtVbnJlbGF0ZWQoCiAgICAwLCAiUHJvY2VzcyBEaXNjb3ZlcnkgZnJvbSBNb2RlbCBhbmQgVGV4dCBBcnRlZmFjdHMgKFByZXByaW50KSIsCiAgICBkaXNwbGF5PSJnaG9zZSIsCiAgICBhdXRob3JzPSJHaG9zZSwgQWRpdHlhIGFuZCBLb2xpYWRpcywgR2VvcmdlIGFuZCBDaHVlbmcsIEFydGh1ciIsCiAgICBwbGFjZT1GQUtFLAogICAgZW50cnl0eXBlPSJhcnRpY2xlIiwKICAgIElEPSJnaG9zZXByb2Nlc3MiLAogICAgcGxhY2V4PSIiLAopKQoKREIoQ2l0YXRpb24oCiAgICBnaG9zZTBhLCBzb21tZXJ2aWxsZTE5OTlhLCByZWY9IiIsCiAgICBjb250ZXh0cz1bCgogICAgXSwKKSkKCicnJywgY2l0YXRpb25zPSdzb21tZXJ2aWxsZTE5OTlhJyk7\"));\n",
       "    "
      ],
      "text/plain": [
       "<IPython.core.display.Javascript object>"
      ]
     },
     "metadata": {},
     "output_type": "display_data"
    },
    {
     "data": {
      "application/javascript": [
       "$('span:contains(\"# Temp\")').closest('.cell').remove();"
      ],
      "text/plain": [
       "<IPython.core.display.Javascript object>"
      ]
     },
     "metadata": {},
     "output_type": "display_data"
    },
    {
     "data": {
      "application/javascript": [
       "\n",
       "        $('span:contains(\"# Temp\")').closest('.cell').remove();\n",
       "        var code = IPython.notebook.insert_cell_below('code');\n",
       "        code.set_text(atob(\"IyBUZW1wCmluc2VydCgnJycKZ2hvc2UyMDE3YSA9IERCKFdvcmtVbnJlbGF0ZWQoCiAgICAyMDE3LCAiUHJvY2VzcyBEaXNjb3ZlcnkgZnJvbSBNb2RlbCBhbmQgVGV4dCBBcnRlZmFjdHMgKFByZXByaW50KSIsCiAgICBkaXNwbGF5PSJnaG9zZSIsCiAgICBhdXRob3JzPSJHaG9zZSwgQWRpdHlhIGFuZCBLb2xpYWRpcywgR2VvcmdlIGFuZCBDaHVlbmcsIEFydGh1ciIsCiAgICBwbGFjZT1GQUtFLAogICAgZW50cnl0eXBlPSJhcnRpY2xlIiwKICAgIElEPSJnaG9zZXByb2Nlc3MiLAogICAgcGxhY2V4PSIiLAopKQoKREIoQ2l0YXRpb24oCiAgICBnaG9zZTIwMTdhLCBzb21tZXJ2aWxsZTE5OTlhLCByZWY9IiIsCiAgICBjb250ZXh0cz1bCgogICAgXSwKKSkKCicnJywgY2l0YXRpb25zPSdzb21tZXJ2aWxsZTE5OTlhJyk7\"));\n",
       "    "
      ],
      "text/plain": [
       "<IPython.core.display.Javascript object>"
      ]
     },
     "metadata": {},
     "output_type": "display_data"
    },
    {
     "data": {
      "application/javascript": [
       "$('span:contains(\"# Temp\")').closest('.cell').remove();"
      ],
      "text/plain": [
       "<IPython.core.display.Javascript object>"
      ]
     },
     "metadata": {},
     "output_type": "display_data"
    },
    {
     "data": {
      "application/javascript": [
       "\n",
       "        $('span:contains(\"# Temp\")').closest('.cell').remove();\n",
       "        var code = IPython.notebook.insert_cell_below('code');\n",
       "        code.set_text(atob(\"IyBUZW1wCmluc2VydCgnJycKc29sYWltYW5pMjAxN2IgPSBEQihXb3JrVW5yZWxhdGVkKAogICAgMjAxNywgIkJ1c2luZXNzIE1vZGVsIiwKICAgIGRpc3BsYXk9InNvbGFpbWFuaSIsCiAgICBhdXRob3JzPSJTb2xhaW1hbmksIFNhbSIsCiAgICBwbGFjZT1GQUtFLAogICAgZW50cnl0eXBlPSJhcnRpY2xlIiwKICAgIElEPSJzb2xhaW1hbmlidXNpbmVzcyIsCiAgICBwbGFjZXg9IiIsCikpCgpEQihDaXRhdGlvbigKICAgIHNvbGFpbWFuaTIwMTdiLCBzb21tZXJ2aWxsZTE5OTlhLCByZWY9IiIsCiAgICBjb250ZXh0cz1bCgogICAgXSwKKSkKCicnJywgY2l0YXRpb25zPSdzb21tZXJ2aWxsZTE5OTlhJyk7\"));\n",
       "    "
      ],
      "text/plain": [
       "<IPython.core.display.Javascript object>"
      ]
     },
     "metadata": {},
     "output_type": "display_data"
    },
    {
     "data": {
      "application/javascript": [
       "$('span:contains(\"# Temp\")').closest('.cell').remove();"
      ],
      "text/plain": [
       "<IPython.core.display.Javascript object>"
      ]
     },
     "metadata": {},
     "output_type": "display_data"
    },
    {
     "data": {
      "application/javascript": [
       "\n",
       "        $('span:contains(\"# Temp\")').closest('.cell').remove();\n",
       "        var code = IPython.notebook.insert_cell_below('code');\n",
       "        code.set_text(atob(\"IyBUZW1wCmluc2VydCgnJycKc29sYWltYW5pMGEgPSBEQihXb3JrVW5yZWxhdGVkKAogICAgMCwgIkJ1c2luZXNzIE1vZGVsIiwKICAgIGRpc3BsYXk9InNvbGFpbWFuaSIsCiAgICBhdXRob3JzPSJTb2xhaW1hbmksIFNhbSIsCiAgICBwbGFjZT1GQUtFLAogICAgZW50cnl0eXBlPSJhcnRpY2xlIiwKICAgIElEPSJzb2xhaW1hbmlidXNpbmVzcyIsCiAgICBwbGFjZXg9IiIsCikpCgpEQihDaXRhdGlvbigKICAgIHNvbGFpbWFuaTBhLCBzb21tZXJ2aWxsZTE5OTlhLCByZWY9IiIsCiAgICBjb250ZXh0cz1bCgogICAgXSwKKSkKCicnJywgY2l0YXRpb25zPSdzb21tZXJ2aWxsZTE5OTlhJyk7\"));\n",
       "    "
      ],
      "text/plain": [
       "<IPython.core.display.Javascript object>"
      ]
     },
     "metadata": {},
     "output_type": "display_data"
    },
    {
     "data": {
      "application/javascript": [
       "$('span:contains(\"# Temp\")').closest('.cell').remove();"
      ],
      "text/plain": [
       "<IPython.core.display.Javascript object>"
      ]
     },
     "metadata": {},
     "output_type": "display_data"
    },
    {
     "data": {
      "application/javascript": [
       "\n",
       "        $('span:contains(\"# Temp\")').closest('.cell').remove();\n",
       "        var code = IPython.notebook.insert_cell_below('code');\n",
       "        code.set_text(atob(\"IyBUZW1wCmluc2VydCgnJycKc29sYWltYW5pMjAxMmEgPSBEQihXb3JrVW5yZWxhdGVkKAogICAgMjAxMiwgIkJ1c2luZXNzIE1vZGVsIiwKICAgIGRpc3BsYXk9InNvbGFpbWFuaSIsCiAgICBhdXRob3JzPSJTb2xhaW1hbmksIFNhbSIsCiAgICBwbGFjZT1GQUtFLAogICAgZW50cnl0eXBlPSJhcnRpY2xlIiwKICAgIElEPSJzb2xhaW1hbmlidXNpbmVzcyIsCiAgICBwbGFjZXg9IiIsCikpCgpEQihDaXRhdGlvbigKICAgIHNvbGFpbWFuaTIwMTJhLCBzb21tZXJ2aWxsZTE5OTlhLCByZWY9IiIsCiAgICBjb250ZXh0cz1bCgogICAgXSwKKSkKCicnJywgY2l0YXRpb25zPSdzb21tZXJ2aWxsZTE5OTlhJyk7\"));\n",
       "    "
      ],
      "text/plain": [
       "<IPython.core.display.Javascript object>"
      ]
     },
     "metadata": {},
     "output_type": "display_data"
    },
    {
     "data": {
      "application/javascript": [
       "$('span:contains(\"# Temp\")').closest('.cell').remove();"
      ],
      "text/plain": [
       "<IPython.core.display.Javascript object>"
      ]
     },
     "metadata": {},
     "output_type": "display_data"
    },
    {
     "data": {
      "application/javascript": [
       "\n",
       "        $('span:contains(\"# Temp\")').closest('.cell').remove();\n",
       "        var code = IPython.notebook.insert_cell_below('code');\n",
       "        code.set_text(atob(\"IyBUZW1wCmluc2VydCgnJycKemhpcGluZzIwMTJhID0gREIoV29ya1VucmVsYXRlZCgKICAgIDIwMTIsICJSZXNlYXJjaCBvbiB0aGUgTWV0aG9kIG9mIEM0SVNSIENhcGFiaWxpdHkgUmVxdWlyZW1lbnRzIExvZ2ljIFZhbGlkYXRpb24gQmFzZWQgb24gRE9EQUYyLiAwIiwKICAgIGRpc3BsYXk9InpoaXBpbmciLAogICAgYXV0aG9ycz0iWmhpcGluZywgSmlhbmcgYW5kIEd1YW5neGlhLCBaaG91IGFuZCBRaW5nY2hhbywgRG9uZyBhbmQgWmhpeHVlLCBXYW5nIiwKICAgIHBsYWNlPUZBS0UsCiAgICBwcD0iODk5LS05MDMiLAogICAgZW50cnl0eXBlPSJpbnByb2NlZWRpbmdzIiwKICAgIHZvbHVtZT0iMSIsCiAgICBvcmdhbml6YXRpb249IklFRUUiLAogICAgSUQ9InpoaXBpbmcyMDExcmVzZWFyY2giLAogICAgcGxhY2V4PSJJbnRlbGxpZ2VudCBDb21wdXRhdGlvbiBUZWNobm9sb2d5IGFuZCBBdXRvbWF0aW9uIChJQ0lDVEEpLCAyMDExIEludGVybmF0aW9uYWwgQ29uZmVyZW5jZSBvbiIsCikpCgpEQihDaXRhdGlvbigKICAgIHpoaXBpbmcyMDEyYSwgc29tbWVydmlsbGUxOTk5YSwgcmVmPSIiLAogICAgY29udGV4dHM9WwoKICAgIF0sCikpCgonJycsIGNpdGF0aW9ucz0nc29tbWVydmlsbGUxOTk5YScpOw==\"));\n",
       "    "
      ],
      "text/plain": [
       "<IPython.core.display.Javascript object>"
      ]
     },
     "metadata": {},
     "output_type": "display_data"
    },
    {
     "data": {
      "application/javascript": [
       "$('span:contains(\"# Temp\")').closest('.cell').remove();"
      ],
      "text/plain": [
       "<IPython.core.display.Javascript object>"
      ]
     },
     "metadata": {},
     "output_type": "display_data"
    },
    {
     "data": {
      "application/javascript": [
       "\n",
       "        $('span:contains(\"# Temp\")').closest('.cell').remove();\n",
       "        var code = IPython.notebook.insert_cell_below('code');\n",
       "        code.set_text(atob(\"IyBUZW1wCmluc2VydCgnJycKemhpcGluZzIwMTFhID0gREIoV29ya1VucmVsYXRlZCgKICAgIDIwMTEsICJSZXNlYXJjaCBvbiB0aGUgTWV0aG9kIG9mIEM0SVNSIENhcGFiaWxpdHkgUmVxdWlyZW1lbnRzIExvZ2ljIFZhbGlkYXRpb24gQmFzZWQgb24gRE9EQUYyLiAwIiwKICAgIGRpc3BsYXk9InpoaXBpbmciLAogICAgYXV0aG9ycz0iWmhpcGluZywgSmlhbmcgYW5kIEd1YW5neGlhLCBaaG91IGFuZCBRaW5nY2hhbywgRG9uZyBhbmQgWmhpeHVlLCBXYW5nIiwKICAgIHBsYWNlPUZBS0UsCiAgICBwcD0iODk5LS05MDMiLAogICAgZW50cnl0eXBlPSJpbnByb2NlZWRpbmdzIiwKICAgIHZvbHVtZT0iMSIsCiAgICBvcmdhbml6YXRpb249IklFRUUiLAogICAgSUQ9InpoaXBpbmcyMDExcmVzZWFyY2giLAogICAgcGxhY2V4PSJJbnRlbGxpZ2VudCBDb21wdXRhdGlvbiBUZWNobm9sb2d5IGFuZCBBdXRvbWF0aW9uIChJQ0lDVEEpLCAyMDExIEludGVybmF0aW9uYWwgQ29uZmVyZW5jZSBvbiIsCikpCgpEQihDaXRhdGlvbigKICAgIHpoaXBpbmcyMDExYSwgc29tbWVydmlsbGUxOTk5YSwgcmVmPSIiLAogICAgY29udGV4dHM9WwoKICAgIF0sCikpCgonJycsIGNpdGF0aW9ucz0nc29tbWVydmlsbGUxOTk5YScpOw==\"));\n",
       "    "
      ],
      "text/plain": [
       "<IPython.core.display.Javascript object>"
      ]
     },
     "metadata": {},
     "output_type": "display_data"
    },
    {
     "data": {
      "application/javascript": [
       "$('span:contains(\"# Temp\")').closest('.cell').remove();"
      ],
      "text/plain": [
       "<IPython.core.display.Javascript object>"
      ]
     },
     "metadata": {},
     "output_type": "display_data"
    },
    {
     "data": {
      "application/javascript": [
       "\n",
       "        $('span:contains(\"# Temp\")').closest('.cell').remove();\n",
       "        var code = IPython.notebook.insert_cell_below('code');\n",
       "        code.set_text(atob(\"IyBUZW1wCmluc2VydCgnJycKYWx2ZXMyMDAyYSA9IERCKFdvcmtVbnJlbGF0ZWQoCiAgICAyMDAyLCAiSURFTlRJRklDQXvHfcNPIERFIElORElDQURPUkVTIERFIERFU0VNUEVOSE8gRU0gU0lTVEVNQVMgREUgSU5GT1JNQXvHfcNPIiwKICAgIGRpc3BsYXk9ImFsdmVzIiwKICAgIGF1dGhvcnM9IkFMVkVTLCBSQUZBRUwgRkVSUkVJUkEiLAogICAgcGxhY2U9VGhlc2lzLAogICAgZW50cnl0eXBlPSJwaGR0aGVzaXMiLAogICAgSUQ9ImFsdmVzMjAwMmlkZW50aWZpY2FjY2FvIiwKICAgIGxvY2FsPSJVbml2ZXJzaWRhZGUgTWV0b2Rpc3RhIGRlIFBpcmFjaWNhYmEiLAogICAgcGxhY2V4PSIiLAopKQoKREIoQ2l0YXRpb24oCiAgICBhbHZlczIwMDJhLCBzb21tZXJ2aWxsZTE5OTlhLCByZWY9IiIsCiAgICBjb250ZXh0cz1bCgogICAgXSwKKSkKCicnJywgY2l0YXRpb25zPSdzb21tZXJ2aWxsZTE5OTlhJyk7\"));\n",
       "    "
      ],
      "text/plain": [
       "<IPython.core.display.Javascript object>"
      ]
     },
     "metadata": {},
     "output_type": "display_data"
    },
    {
     "data": {
      "application/javascript": [
       "$('span:contains(\"# Temp\")').closest('.cell').remove();"
      ],
      "text/plain": [
       "<IPython.core.display.Javascript object>"
      ]
     },
     "metadata": {},
     "output_type": "display_data"
    },
    {
     "data": {
      "application/javascript": [
       "\n",
       "        $('span:contains(\"# Temp\")').closest('.cell').remove();\n",
       "        var code = IPython.notebook.insert_cell_below('code');\n",
       "        code.set_text(atob(\"IyBUZW1wCmluc2VydCgnJycKYWx2ZXMyMDAyYSA9IERCKFdvcmtVbnJlbGF0ZWQoCiAgICAyMDAyLCAiSURFTlRJRklDQXvHfcNPIERFIElORElDQURPUkVTIERFIERFU0VNUEVOSE8gRU0gU0lTVEVNQVMgREUgSU5GT1JNQXvHfcNPIiwKICAgIGRpc3BsYXk9ImFsdmVzIiwKICAgIGF1dGhvcnM9IkFMVkVTLCBSQUZBRUwgRkVSUkVJUkEiLAogICAgcGxhY2U9VGhlc2lzLAogICAgZW50cnl0eXBlPSJwaGR0aGVzaXMiLAogICAgSUQ9ImFsdmVzMjAwMmlkZW50aWZpY2FjY2FvIiwKICAgIGxvY2FsPSJVbml2ZXJzaWRhZGUgTWV0b2Rpc3RhIGRlIFBpcmFjaWNhYmEiLAogICAgcGxhY2V4PSIiLAopKQoKREIoQ2l0YXRpb24oCiAgICBhbHZlczIwMDJhLCBzb21tZXJ2aWxsZTE5OTlhLCByZWY9IiIsCiAgICBjb250ZXh0cz1bCgogICAgXSwKKSkKCicnJywgY2l0YXRpb25zPSdzb21tZXJ2aWxsZTE5OTlhJyk7\"));\n",
       "    "
      ],
      "text/plain": [
       "<IPython.core.display.Javascript object>"
      ]
     },
     "metadata": {},
     "output_type": "display_data"
    },
    {
     "data": {
      "application/javascript": [
       "$('span:contains(\"# Temp\")').closest('.cell').remove();"
      ],
      "text/plain": [
       "<IPython.core.display.Javascript object>"
      ]
     },
     "metadata": {},
     "output_type": "display_data"
    },
    {
     "data": {
      "application/javascript": [
       "\n",
       "        $('span:contains(\"# Temp\")').closest('.cell').remove();\n",
       "        var code = IPython.notebook.insert_cell_below('code');\n",
       "        code.set_text(atob(\"IyBUZW1wCmluc2VydCgnJycKduF6cXVlejIwMDFhID0gREIoV29ya1VucmVsYXRlZCgKICAgIDIwMDEsICJN6XRvZG8gZGUgaW5nZW5pZXLtYSBkZSByZXF1aXNpdG9zIHBhcmEgbWFuZWpvIGRlIGRpc2NyZXBhbmNpYXMiLAogICAgZGlzcGxheT0iduF6cXVleiIsCiAgICBhdXRob3JzPSJW4XpxdWV6LCBBbmRy6XMgU2lsdmEgYW5kIFPhbmNoZXotQ2FwdWNoaW5vLCBBbmEgTWFy7WEgTW9yZW5vIiwKICAgIHBsYWNlPUJvb2ssCiAgICBlbnRyeXR5cGU9ImJvb2siLAogICAgcHVibGlzaGVyPSJBLiBTaWx2YSIsCiAgICBJRD0idmF6cXVlejIwMDFtZXRvZG8iLAogICAgcGxhY2V4PSIiLAopKQoKREIoQ2l0YXRpb24oCiAgICB24XpxdWV6MjAwMWEsIHNvbW1lcnZpbGxlMTk5OWEsIHJlZj0iIiwKICAgIGNvbnRleHRzPVsKCiAgICBdLAopKQoKJycnLCBjaXRhdGlvbnM9J3NvbW1lcnZpbGxlMTk5OWEnKTs=\"));\n",
       "    "
      ],
      "text/plain": [
       "<IPython.core.display.Javascript object>"
      ]
     },
     "metadata": {},
     "output_type": "display_data"
    },
    {
     "data": {
      "application/javascript": [
       "$('span:contains(\"# Temp\")').closest('.cell').remove();"
      ],
      "text/plain": [
       "<IPython.core.display.Javascript object>"
      ]
     },
     "metadata": {},
     "output_type": "display_data"
    },
    {
     "data": {
      "application/javascript": [
       "\n",
       "        $('span:contains(\"# Temp\")').closest('.cell').remove();\n",
       "        var code = IPython.notebook.insert_cell_below('code');\n",
       "        code.set_text(atob(\"IyBUZW1wCmluc2VydCgnJycKduF6cXVlejIwMDFhID0gREIoV29ya1VucmVsYXRlZCgKICAgIDIwMDEsICJN6XRvZG8gZGUgaW5nZW5pZXLtYSBkZSByZXF1aXNpdG9zIHBhcmEgbWFuZWpvIGRlIGRpc2NyZXBhbmNpYXMiLAogICAgZGlzcGxheT0iduF6cXVleiIsCiAgICBhdXRob3JzPSJW4XpxdWV6LCBBbmRy6XMgU2lsdmEgYW5kIFPhbmNoZXotQ2FwdWNoaW5vLCBBbmEgTWFy7WEgTW9yZW5vIiwKICAgIHBsYWNlPUJvb2ssCiAgICBlbnRyeXR5cGU9ImJvb2siLAogICAgcHVibGlzaGVyPSJBLiBTaWx2YSIsCiAgICBJRD0idmF6cXVlejIwMDFtZXRvZG8iLAogICAgcGxhY2V4PSIiLAopKQoKREIoQ2l0YXRpb24oCiAgICB24XpxdWV6MjAwMWEsIHNvbW1lcnZpbGxlMTk5OWEsIHJlZj0iIiwKICAgIGNvbnRleHRzPVsKCiAgICBdLAopKQoKJycnLCBjaXRhdGlvbnM9J3NvbW1lcnZpbGxlMTk5OWEnKTs=\"));\n",
       "    "
      ],
      "text/plain": [
       "<IPython.core.display.Javascript object>"
      ]
     },
     "metadata": {},
     "output_type": "display_data"
    },
    {
     "data": {
      "application/javascript": [
       "$('span:contains(\"# Temp\")').closest('.cell').remove();"
      ],
      "text/plain": [
       "<IPython.core.display.Javascript object>"
      ]
     },
     "metadata": {},
     "output_type": "display_data"
    },
    {
     "data": {
      "application/javascript": [
       "\n",
       "        $('span:contains(\"# Temp\")').closest('.cell').remove();\n",
       "        var code = IPython.notebook.insert_cell_below('code');\n",
       "        code.set_text(atob(\"IyBUZW1wCmluc2VydCgnJycKdmF6cXVlejIwMDBhID0gREIoV29ya1VucmVsYXRlZCgKICAgIDIwMDAsICJN6XRvZG8gZGUgaW5nZW5pZXLtYSBkZSByZXF1aXNpdG9zIHBhcmEgbWFuZWpvIGRlIGRpc2NyZXBhbmNpYXMiLAogICAgZGlzcGxheT0idmF6cXVleiIsCiAgICBhdXRob3JzPSJTaWx2YSBWYXpxdWV6LCBBbmRy6XMiLAogICAgcGxhY2U9VGhlc2lzLAogICAgZW50cnl0eXBlPSJwaGR0aGVzaXMiLAogICAgSUQ9InNpbHZhMjAwMG1ldG9kbyIsCiAgICBsb2NhbD0iSW5mb3JtYXRpY2EiLAogICAgcGxhY2V4PSIiLAopKQoKREIoQ2l0YXRpb24oCiAgICB2YXpxdWV6MjAwMGEsIHNvbW1lcnZpbGxlMTk5OWEsIHJlZj0iIiwKICAgIGNvbnRleHRzPVsKCiAgICBdLAopKQoKJycnLCBjaXRhdGlvbnM9J3NvbW1lcnZpbGxlMTk5OWEnKTs=\"));\n",
       "    "
      ],
      "text/plain": [
       "<IPython.core.display.Javascript object>"
      ]
     },
     "metadata": {},
     "output_type": "display_data"
    },
    {
     "data": {
      "application/javascript": [
       "$('span:contains(\"# Temp\")').closest('.cell').remove();"
      ],
      "text/plain": [
       "<IPython.core.display.Javascript object>"
      ]
     },
     "metadata": {},
     "output_type": "display_data"
    },
    {
     "data": {
      "application/javascript": [
       "\n",
       "        $('span:contains(\"# Temp\")').closest('.cell').remove();\n",
       "        var code = IPython.notebook.insert_cell_below('code');\n",
       "        code.set_text(atob(\"IyBUZW1wCmluc2VydCgnJycKdmF6cXVlejIwMDBhID0gREIoV29ya1VucmVsYXRlZCgKICAgIDIwMDAsICJN6XRvZG8gZGUgaW5nZW5pZXLtYSBkZSByZXF1aXNpdG9zIHBhcmEgbWFuZWpvIGRlIGRpc2NyZXBhbmNpYXMiLAogICAgZGlzcGxheT0idmF6cXVleiIsCiAgICBhdXRob3JzPSJTaWx2YSBWYXpxdWV6LCBBbmRy6XMiLAogICAgcGxhY2U9VGhlc2lzLAogICAgZW50cnl0eXBlPSJwaGR0aGVzaXMiLAogICAgSUQ9InNpbHZhMjAwMG1ldG9kbyIsCiAgICBsb2NhbD0iSW5mb3JtYXRpY2EiLAogICAgcGxhY2V4PSIiLAopKQoKREIoQ2l0YXRpb24oCiAgICB2YXpxdWV6MjAwMGEsIHNvbW1lcnZpbGxlMTk5OWEsIHJlZj0iIiwKICAgIGNvbnRleHRzPVsKCiAgICBdLAopKQoKJycnLCBjaXRhdGlvbnM9J3NvbW1lcnZpbGxlMTk5OWEnKTs=\"));\n",
       "    "
      ],
      "text/plain": [
       "<IPython.core.display.Javascript object>"
      ]
     },
     "metadata": {},
     "output_type": "display_data"
    },
    {
     "data": {
      "application/javascript": [
       "$('span:contains(\"# Temp\")').closest('.cell').remove();"
      ],
      "text/plain": [
       "<IPython.core.display.Javascript object>"
      ]
     },
     "metadata": {},
     "output_type": "display_data"
    },
    {
     "data": {
      "application/javascript": [
       "\n",
       "        $('span:contains(\"# Temp\")').closest('.cell').remove();\n",
       "        var code = IPython.notebook.insert_cell_below('code');\n",
       "        code.set_text(atob(\"IyBUZW1wCmluc2VydCgnJycKYXBmZWxiYWNoZXIyMDA3YSA9IERCKFdvcmtVbnJlbGF0ZWQoCiAgICAyMDA3LCAiVG9sZXJpZXJiYXJlIElua29uc2lzdGVuemVuIGluIEtvbnplcHRiZXNjaHJlaWJ1bmdlbi4iLAogICAgZGlzcGxheT0iYXBmZWxiYWNoZXIiLAogICAgYXV0aG9ycz0iQXBmZWxiYWNoZXIsIFLpbXkiLAogICAgcGxhY2U9VGhlc2lzLAogICAgZW50cnl0eXBlPSJwaGR0aGVzaXMiLAogICAgSUQ9ImFwZmVsYmFjaGVyMjAwN3RvbGVyaWVyYmFyZSIsCiAgICBsb2NhbD0iVW5pdmVyc2l0eSBvZiBQb3RzZGFtIiwKICAgIHBsYWNleD0iIiwKKSkKCkRCKENpdGF0aW9uKAogICAgYXBmZWxiYWNoZXIyMDA3YSwgc29tbWVydmlsbGUxOTk5YSwgcmVmPSIiLAogICAgY29udGV4dHM9WwoKICAgIF0sCikpCgonJycsIGNpdGF0aW9ucz0nc29tbWVydmlsbGUxOTk5YScpOw==\"));\n",
       "    "
      ],
      "text/plain": [
       "<IPython.core.display.Javascript object>"
      ]
     },
     "metadata": {},
     "output_type": "display_data"
    },
    {
     "data": {
      "application/javascript": [
       "$('span:contains(\"# Temp\")').closest('.cell').remove();"
      ],
      "text/plain": [
       "<IPython.core.display.Javascript object>"
      ]
     },
     "metadata": {},
     "output_type": "display_data"
    },
    {
     "data": {
      "application/javascript": [
       "\n",
       "        $('span:contains(\"# Temp\")').closest('.cell').remove();\n",
       "        var code = IPython.notebook.insert_cell_below('code');\n",
       "        code.set_text(atob(\"IyBUZW1wCmluc2VydCgnJycKYXBmZWxiYWNoZXIyMDA3YSA9IERCKFdvcmtVbnJlbGF0ZWQoCiAgICAyMDA3LCAiVG9sZXJpZXJiYXJlIElua29uc2lzdGVuemVuIGluIEtvbnplcHRiZXNjaHJlaWJ1bmdlbi4iLAogICAgZGlzcGxheT0iYXBmZWxiYWNoZXIiLAogICAgYXV0aG9ycz0iQXBmZWxiYWNoZXIsIFLpbXkiLAogICAgcGxhY2U9VGhlc2lzLAogICAgZW50cnl0eXBlPSJwaGR0aGVzaXMiLAogICAgSUQ9ImFwZmVsYmFjaGVyMjAwN3RvbGVyaWVyYmFyZSIsCiAgICBsb2NhbD0iVW5pdmVyc2l0eSBvZiBQb3RzZGFtIiwKICAgIHBsYWNleD0iIiwKKSkKCkRCKENpdGF0aW9uKAogICAgYXBmZWxiYWNoZXIyMDA3YSwgc29tbWVydmlsbGUxOTk5YSwgcmVmPSIiLAogICAgY29udGV4dHM9WwoKICAgIF0sCikpCgonJycsIGNpdGF0aW9ucz0nc29tbWVydmlsbGUxOTk5YScpOw==\"));\n",
       "    "
      ],
      "text/plain": [
       "<IPython.core.display.Javascript object>"
      ]
     },
     "metadata": {},
     "output_type": "display_data"
    }
   ],
   "source": [
    "manager"
   ]
  },
  {
   "cell_type": "code",
   "execution_count": 29,
   "metadata": {},
   "outputs": [
    {
     "name": "stdout",
     "output_type": "stream",
     "text": [
      "-Insert: apfelbacher2007a\n",
      "-Insert Import: apfelbacher2007a\n",
      "-Insert Citation: apfelbacher2007a -> sommerville1999a\n"
     ]
    }
   ],
   "source": [
    "# Temp\n",
    "insert('''\n",
    "apfelbacher2007a = DB(WorkUnrelated(\n",
    "    2007, \"Tolerierbare Inkonsistenzen in Konzeptbeschreibungen.\",\n",
    "    display=\"apfelbacher\",\n",
    "    authors=\"Apfelbacher, Rémy\",\n",
    "    place=Thesis,\n",
    "    entrytype=\"phdthesis\",\n",
    "    ID=\"apfelbacher2007tolerierbare\",\n",
    "    local=\"University of Potsdam\",\n",
    "    placex=\"\",\n",
    "))\n",
    "\n",
    "DB(Citation(\n",
    "    apfelbacher2007a, sommerville1999a, ref=\"\",\n",
    "    contexts=[\n",
    "\n",
    "    ],\n",
    "))\n",
    "\n",
    "''', citations='sommerville1999a');"
   ]
  },
  {
   "cell_type": "code",
   "execution_count": null,
   "metadata": {},
   "outputs": [],
   "source": [
    "from snowballing.operations import reload\n",
    "reload()\n",
    "from snowballing.dbmanager import rename_work"
   ]
  },
  {
   "cell_type": "code",
   "execution_count": null,
   "metadata": {},
   "outputs": [],
   "source": [
    "rename_work(\"eljabiri0a\", \"eljabiri2012a\")"
   ]
  },
  {
   "cell_type": "code",
   "execution_count": null,
   "metadata": {
    "collapsed": true
   },
   "outputs": [],
   "source": [
    "rename_work?"
   ]
  },
  {
   "cell_type": "code",
   "execution_count": null,
   "metadata": {},
   "outputs": [],
   "source": [
    "á"
   ]
  },
  {
   "cell_type": "code",
   "execution_count": null,
   "metadata": {
    "collapsed": true
   },
   "outputs": [],
   "source": []
  }
 ],
 "metadata": {
  "kernelspec": {
   "display_name": "Python 3",
   "language": "python",
   "name": "python3"
  },
  "language_info": {
   "codemirror_mode": {
    "name": "ipython",
    "version": 3
   },
   "file_extension": ".py",
   "mimetype": "text/x-python",
   "name": "python",
   "nbconvert_exporter": "python",
   "pygments_lexer": "ipython3",
   "version": "3.6.0"
  },
  "toc": {
   "nav_menu": {
    "height": "12px",
    "width": "252px"
   },
   "number_sections": true,
   "sideBar": true,
   "skip_h1_title": false,
   "toc_cell": false,
   "toc_position": {},
   "toc_section_display": "block",
   "toc_window_display": false
  }
 },
 "nbformat": 4,
 "nbformat_minor": 1
}
