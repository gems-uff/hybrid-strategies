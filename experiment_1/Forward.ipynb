{
 "cells": [
  {
   "cell_type": "code",
   "execution_count": 11,
   "metadata": {
    "collapsed": true
   },
   "outputs": [],
   "source": [
    "import database\n",
    "from snowballing.operations import load_work, reload, work_by_varname\n",
    "from snowballing.selenium_scholar import SeleniumScholarQuerier\n",
    "from snowballing.snowballing import ForwardSnowballing\n",
    "from snowballing.dbmanager import insert, set_attribute\n",
    "from custom_snowballing import UnrelatedForward"
   ]
  },
  {
   "cell_type": "code",
   "execution_count": 12,
   "metadata": {
    "collapsed": true
   },
   "outputs": [],
   "source": [
    "querier = SeleniumScholarQuerier()"
   ]
  },
  {
   "cell_type": "code",
   "execution_count": 13,
   "metadata": {
    "scrolled": true
   },
   "outputs": [],
   "source": [
    "querier.apply_settings(20, 4);"
   ]
  },
  {
   "cell_type": "code",
   "execution_count": 14,
   "metadata": {
    "collapsed": true
   },
   "outputs": [],
   "source": [
    "#manager = ForwardSnowballing(querier, \"mendes2004a\", start=60)\n",
    "import importlib\n",
    "import custom_snowballing\n",
    "importlib.reload(custom_snowballing)\n",
    "from custom_snowballing import UnrelatedForward\n",
    "manager = UnrelatedForward(querier, \"wilkie2007a\", start=0)"
   ]
  },
  {
   "cell_type": "code",
   "execution_count": null,
   "metadata": {
    "collapsed": true
   },
   "outputs": [],
   "source": []
  },
  {
   "cell_type": "code",
   "execution_count": 15,
   "metadata": {
    "scrolled": true
   },
   "outputs": [
    {
     "data": {
      "application/vnd.jupyter.widget-view+json": {
       "model_id": "4fed09c1b5b243d491527748d7009073",
       "version_major": 2,
       "version_minor": 0
      },
      "text/html": [
       "<p>Failed to display Jupyter Widget of type <code>Tab</code>.</p>\n",
       "<p>\n",
       "  If you're reading this message in Jupyter Notebook or JupyterLab, it may mean\n",
       "  that the widgets JavaScript is still loading. If this message persists, it\n",
       "  likely means that the widgets JavaScript library is either not installed or\n",
       "  not enabled. See the <a href=\"https://ipywidgets.readthedocs.io/en/stable/user_install.html\">Jupyter\n",
       "  Widgets Documentation</a> for setup instructions.\n",
       "</p>\n",
       "<p>\n",
       "  If you're reading this message in another notebook frontend (for example, a static\n",
       "  rendering on GitHub or <a href=\"https://nbviewer.jupyter.org/\">NBViewer</a>),\n",
       "  it may mean that your frontend doesn't currently support widgets.\n",
       "</p>\n"
      ],
      "text/plain": [
       "Tab(children=(VBox(children=(HBox(children=(Button(description='Previous Page', disabled=True, icon='arrow-left', style=ButtonStyle()), Button(description='Reload', icon='refresh', style=ButtonStyle()), Button(description='Next Page', disabled=True, icon='arrow-right', style=ButtonStyle()), ToggleButton(value=False, description='Debug'), Label(value='0'))), Output())), VBox(children=(HBox(children=(Button(description='Previous Article', disabled=True, icon='caret-left', style=ButtonStyle()), Button(description='Reload Article', icon='refresh', style=ButtonStyle()), Button(description='Next Article', icon='caret-right', style=ButtonStyle()))), HBox(children=(Button(description='Unrelated: Scripts', style=ButtonStyle()), Button(description='Unrelated: Provenance', style=ButtonStyle()), Button(description='Both', style=ButtonStyle()), Button(description='Ok', style=ButtonStyle()))), HBox(children=(Dropdown(description='Type', index=5, options=('Work', 'WorkSnowball', 'WorkForward', 'WorkBackward', 'WorkOk', 'WorkUnrelated', 'WorkNoFile', 'WorkLang', 'Site', 'Email'), value='WorkUnrelated'), ToggleButton(value=False, description='File'))), HBox(children=(Text(value='', description='Due'), Text(value='', description='Place'))), HBox(children=(Text(value='', description='Year'), Text(value='', description='Prefix Var'))), HBox(children=(Text(value='', description='PDFPage'), Text(value='', description='Related'))), HBox(children=(Text(value='', description='Display'), Text(value='', description='Summary'))), HBox(children=(Text(value='', description='Star'), Text(value='', description='Link'))), HBox(children=(Button(description='Reload Article', icon='refresh', style=ButtonStyle()), IntSlider(value=0, max=9), Label(value='1/10'))), Output()))), _titles={'0': 'Page', '1': 'Article'})"
      ]
     },
     "metadata": {},
     "output_type": "display_data"
    },
    {
     "data": {
      "application/javascript": [
       "$('span:contains(\"# Temp\")').closest('.cell').remove();"
      ],
      "text/plain": [
       "<IPython.core.display.Javascript object>"
      ]
     },
     "metadata": {},
     "output_type": "display_data"
    },
    {
     "data": {
      "application/javascript": [
       "\n",
       "        $('span:contains(\"# Temp\")').closest('.cell').remove();\n",
       "        var code = IPython.notebook.insert_cell_below('code');\n",
       "        code.set_text(atob(\"IyBUZW1wCmluc2VydCgnJycKbmFwaWVyMjAwOWEgPSBEQihXb3JrVW5yZWxhdGVkKAogICAgMjAwOSwgIkNvbWJpbmluZyBwZXJjZXB0aW9ucyBhbmQgcHJlc2NyaXB0aW9ucyBpbiByZXF1aXJlbWVudHMgZW5naW5lZXJpbmcgcHJvY2VzcyBhc3Nlc3NtZW50OiBhbiBpbmR1c3RyaWFsIGNhc2Ugc3R1ZHkiLAogICAgZGlzcGxheT0ibmFwaWVyIiwKICAgIGF1dGhvcnM9Ik5hcGllciwgTmFubmV0dGUgUCBhbmQgTWF0aGlhc3NlbiwgTGFycyBhbmQgSm9obnNvbiwgUm95IEQiLAogICAgcGxhY2U9VG9TRSwKICAgIHBwPSI1OTMtLTYwNiIsCiAgICBlbnRyeXR5cGU9ImFydGljbGUiLAogICAgdm9sdW1lPSIzNSIsCiAgICBudW1iZXI9IjUiLAogICAgcHVibGlzaGVyPSJJRUVFIiwKICAgIElEPSJuYXBpZXIyMDA5Y29tYmluaW5nIiwKICAgIGNsdXN0ZXJfaWQ9IjEwODA5NjMwNDI1NDgyMzM1NTYwIiwKICAgIHNjaG9sYXI9Imh0dHA6Ly9zY2hvbGFyLmdvb2dsZS5jb20vc2Nob2xhcj9jaXRlcz0xMDgwOTYzMDQyNTQ4MjMzNTU2MCZhc19zZHQ9MjAwNSZzY2lvZHQ9MCw1JmhsPWVuIiwKICAgIHBsYWNleD0iSUVFRSBUcmFuc2FjdGlvbnMgb24gU29mdHdhcmUgRW5naW5lZXJpbmciLAopKQoKREIoQ2l0YXRpb24oCiAgICBuYXBpZXIyMDA5YSwgd2lsa2llMjAwN2EsIHJlZj0iIiwKICAgIGNvbnRleHRzPVsKCiAgICBdLAopKQoKJycnLCBjaXRhdGlvbnM9J3dpbGtpZTIwMDdhJyk7\"));\n",
       "    "
      ],
      "text/plain": [
       "<IPython.core.display.Javascript object>"
      ]
     },
     "metadata": {},
     "output_type": "display_data"
    },
    {
     "data": {
      "application/javascript": [
       "$('span:contains(\"# Temp\")').closest('.cell').remove();"
      ],
      "text/plain": [
       "<IPython.core.display.Javascript object>"
      ]
     },
     "metadata": {},
     "output_type": "display_data"
    },
    {
     "data": {
      "application/javascript": [
       "\n",
       "        $('span:contains(\"# Temp\")').closest('.cell').remove();\n",
       "        var code = IPython.notebook.insert_cell_below('code');\n",
       "        code.set_text(atob(\"IyBUZW1wCmluc2VydCgnJycKbmFwaWVyMjAwOWEgPSBEQihXb3JrVW5yZWxhdGVkKAogICAgMjAwOSwgIkNvbWJpbmluZyBwZXJjZXB0aW9ucyBhbmQgcHJlc2NyaXB0aW9ucyBpbiByZXF1aXJlbWVudHMgZW5naW5lZXJpbmcgcHJvY2VzcyBhc3Nlc3NtZW50OiBhbiBpbmR1c3RyaWFsIGNhc2Ugc3R1ZHkiLAogICAgZGlzcGxheT0ibmFwaWVyIiwKICAgIGF1dGhvcnM9Ik5hcGllciwgTmFubmV0dGUgUCBhbmQgTWF0aGlhc3NlbiwgTGFycyBhbmQgSm9obnNvbiwgUm95IEQiLAogICAgcGxhY2U9VG9TRSwKICAgIHBwPSI1OTMtLTYwNiIsCiAgICBlbnRyeXR5cGU9ImFydGljbGUiLAogICAgdm9sdW1lPSIzNSIsCiAgICBudW1iZXI9IjUiLAogICAgcHVibGlzaGVyPSJJRUVFIiwKICAgIElEPSJuYXBpZXIyMDA5Y29tYmluaW5nIiwKICAgIGNsdXN0ZXJfaWQ9IjEwODA5NjMwNDI1NDgyMzM1NTYwIiwKICAgIHNjaG9sYXI9Imh0dHA6Ly9zY2hvbGFyLmdvb2dsZS5jb20vc2Nob2xhcj9jaXRlcz0xMDgwOTYzMDQyNTQ4MjMzNTU2MCZhc19zZHQ9MjAwNSZzY2lvZHQ9MCw1JmhsPWVuIiwKICAgIHBsYWNleD0iSUVFRSBUcmFuc2FjdGlvbnMgb24gU29mdHdhcmUgRW5naW5lZXJpbmciLAopKQoKREIoQ2l0YXRpb24oCiAgICBuYXBpZXIyMDA5YSwgd2lsa2llMjAwN2EsIHJlZj0iIiwKICAgIGNvbnRleHRzPVsKCiAgICBdLAopKQoKJycnLCBjaXRhdGlvbnM9J3dpbGtpZTIwMDdhJyk7\"));\n",
       "    "
      ],
      "text/plain": [
       "<IPython.core.display.Javascript object>"
      ]
     },
     "metadata": {},
     "output_type": "display_data"
    },
    {
     "data": {
      "application/javascript": [
       "$('span:contains(\"# Temp\")').closest('.cell').remove();"
      ],
      "text/plain": [
       "<IPython.core.display.Javascript object>"
      ]
     },
     "metadata": {},
     "output_type": "display_data"
    },
    {
     "data": {
      "application/javascript": [
       "\n",
       "        $('span:contains(\"# Temp\")').closest('.cell').remove();\n",
       "        var code = IPython.notebook.insert_cell_below('code');\n",
       "        code.set_text(atob(\"IyBUZW1wCmluc2VydCgnJycKbGVzdGVyMjAxMGEgPSBEQihXb3JrVW5yZWxhdGVkKAogICAgMjAxMCwgIkludmVzdGlnYXRpbmcgdGhlIHJvbGUgb2YgQ01NSSB3aXRoIGV4cGFuZGluZyBjb21wYW55IHNpemUgZm9yIHNtYWxsLXRvIG1lZGl1bS1zaXplZCBlbnRlcnByaXNlcyIsCiAgICBkaXNwbGF5PSJsZXN0ZXIiLAogICAgYXV0aG9ycz0iTGVzdGVyLCBORyBhbmQgV2lsa2llLCBGIEdlb3JnZSBhbmQgTWNGYWxsLCBEb25hbGQgYW5kIFdhcmUsIE1QIiwKICAgIHBsYWNlPUpTRVAsCiAgICBwcD0iMTctLTMxIiwKICAgIGVudHJ5dHlwZT0iYXJ0aWNsZSIsCiAgICB2b2x1bWU9IjIyIiwKICAgIG51bWJlcj0iMSIsCiAgICBwdWJsaXNoZXI9IldpbGV5IE9ubGluZSBMaWJyYXJ5IiwKICAgIElEPSJsZXN0ZXIyMDEwaW52ZXN0aWdhdGluZyIsCiAgICBjbHVzdGVyX2lkPSIxMDUwNTQ2OTcxMzg3NjAyMjc5OSIsCiAgICBzY2hvbGFyPSJodHRwOi8vc2Nob2xhci5nb29nbGUuY29tL3NjaG9sYXI/Y2l0ZXM9MTA1MDU0Njk3MTM4NzYwMjI3OTkmYXNfc2R0PTIwMDUmc2Npb2R0PTAsNSZobD1lbiIsCiAgICBwbGFjZXg9IkpvdXJuYWwgb2YgU29mdHdhcmU6IEV2b2x1dGlvbiBhbmQgUHJvY2VzcyIsCikpCgpEQihDaXRhdGlvbigKICAgIGxlc3RlcjIwMTBhLCB3aWxraWUyMDA3YSwgcmVmPSIiLAogICAgY29udGV4dHM9WwoKICAgIF0sCikpCgonJycsIGNpdGF0aW9ucz0nd2lsa2llMjAwN2EnKTs=\"));\n",
       "    "
      ],
      "text/plain": [
       "<IPython.core.display.Javascript object>"
      ]
     },
     "metadata": {},
     "output_type": "display_data"
    },
    {
     "data": {
      "application/javascript": [
       "$('span:contains(\"# Temp\")').closest('.cell').remove();"
      ],
      "text/plain": [
       "<IPython.core.display.Javascript object>"
      ]
     },
     "metadata": {},
     "output_type": "display_data"
    },
    {
     "data": {
      "application/javascript": [
       "\n",
       "        $('span:contains(\"# Temp\")').closest('.cell').remove();\n",
       "        var code = IPython.notebook.insert_cell_below('code');\n",
       "        code.set_text(atob(\"IyBUZW1wCmluc2VydCgnJycKbGVzdGVyMjAxMGEgPSBEQihXb3JrVW5yZWxhdGVkKAogICAgMjAxMCwgIkludmVzdGlnYXRpbmcgdGhlIHJvbGUgb2YgQ01NSSB3aXRoIGV4cGFuZGluZyBjb21wYW55IHNpemUgZm9yIHNtYWxsLXRvIG1lZGl1bS1zaXplZCBlbnRlcnByaXNlcyIsCiAgICBkaXNwbGF5PSJsZXN0ZXIiLAogICAgYXV0aG9ycz0iTGVzdGVyLCBORyBhbmQgV2lsa2llLCBGIEdlb3JnZSBhbmQgTWNGYWxsLCBEb25hbGQgYW5kIFdhcmUsIE1QIiwKICAgIHBsYWNlPUpTRVAsCiAgICBwcD0iMTctLTMxIiwKICAgIGVudHJ5dHlwZT0iYXJ0aWNsZSIsCiAgICB2b2x1bWU9IjIyIiwKICAgIG51bWJlcj0iMSIsCiAgICBwdWJsaXNoZXI9IldpbGV5IE9ubGluZSBMaWJyYXJ5IiwKICAgIElEPSJsZXN0ZXIyMDEwaW52ZXN0aWdhdGluZyIsCiAgICBjbHVzdGVyX2lkPSIxMDUwNTQ2OTcxMzg3NjAyMjc5OSIsCiAgICBzY2hvbGFyPSJodHRwOi8vc2Nob2xhci5nb29nbGUuY29tL3NjaG9sYXI/Y2l0ZXM9MTA1MDU0Njk3MTM4NzYwMjI3OTkmYXNfc2R0PTIwMDUmc2Npb2R0PTAsNSZobD1lbiIsCiAgICBwbGFjZXg9IkpvdXJuYWwgb2YgU29mdHdhcmU6IEV2b2x1dGlvbiBhbmQgUHJvY2VzcyIsCikpCgpEQihDaXRhdGlvbigKICAgIGxlc3RlcjIwMTBhLCB3aWxraWUyMDA3YSwgcmVmPSIiLAogICAgY29udGV4dHM9WwoKICAgIF0sCikpCgonJycsIGNpdGF0aW9ucz0nd2lsa2llMjAwN2EnKTs=\"));\n",
       "    "
      ],
      "text/plain": [
       "<IPython.core.display.Javascript object>"
      ]
     },
     "metadata": {},
     "output_type": "display_data"
    },
    {
     "data": {
      "application/javascript": [
       "$('span:contains(\"# Temp\")').closest('.cell').remove();"
      ],
      "text/plain": [
       "<IPython.core.display.Javascript object>"
      ]
     },
     "metadata": {},
     "output_type": "display_data"
    },
    {
     "data": {
      "application/javascript": [
       "\n",
       "        $('span:contains(\"# Temp\")').closest('.cell').remove();\n",
       "        var code = IPython.notebook.insert_cell_below('code');\n",
       "        code.set_text(atob(\"IyBUZW1wCmluc2VydCgnJycKbGFwb3J0ZTIwMDlhID0gREIoV29ya1VucmVsYXRlZCgKICAgIDIwMDksICJDb250cmlidXRpb25zIHRvIFNvZnR3YXJlIEVuZ2luZWVyaW5nIGFuZCB0byB0aGUgRGV2ZWxvcG1lbnQgYW5kIERlcGxveW1lbnQgb2YgSW50ZXJuYXRpb25hbCBTb2Z0d2FyZSBFbmdpbmVlcmluZyBTdGFuZGFyZHMgZm9yIFZlcnkgU21hbGwgRW50aXRpZXMiLAogICAgZGlzcGxheT0ibGFwb3J0ZSIsCiAgICBhdXRob3JzPSJMYXBvcnRlLCBDbGF1ZGUiLAogICAgcGxhY2U9VGhlc2lzLAogICAgZW50cnl0eXBlPSJwaGR0aGVzaXMiLAogICAgSUQ9ImxhcG9ydGUyMDA5Y29udHJpYnV0aW9ucyIsCiAgICBjbHVzdGVyX2lkPSIxMDMyNTYxMTgwNTA4MzE5OTU1NCIsCiAgICBzY2hvbGFyPSJodHRwOi8vc2Nob2xhci5nb29nbGUuY29tL3NjaG9sYXI/Y2l0ZXM9MTAzMjU2MTE4MDUwODMxOTk1NTQmYXNfc2R0PTIwMDUmc2Npb2R0PTAsNSZobD1lbiIsCiAgICBsb2NhbD0iVW5pdmVyc2l06SBkZSBCcmV0YWduZSBvY2NpZGVudGFsZS1CcmVzdCIsCiAgICBwbGFjZXg9IiIsCikpCgpEQihDaXRhdGlvbigKICAgIGxhcG9ydGUyMDA5YSwgd2lsa2llMjAwN2EsIHJlZj0iIiwKICAgIGNvbnRleHRzPVsKCiAgICBdLAopKQoKJycnLCBjaXRhdGlvbnM9J3dpbGtpZTIwMDdhJyk7\"));\n",
       "    "
      ],
      "text/plain": [
       "<IPython.core.display.Javascript object>"
      ]
     },
     "metadata": {},
     "output_type": "display_data"
    },
    {
     "data": {
      "application/javascript": [
       "$('span:contains(\"# Temp\")').closest('.cell').remove();"
      ],
      "text/plain": [
       "<IPython.core.display.Javascript object>"
      ]
     },
     "metadata": {},
     "output_type": "display_data"
    },
    {
     "data": {
      "application/javascript": [
       "\n",
       "        $('span:contains(\"# Temp\")').closest('.cell').remove();\n",
       "        var code = IPython.notebook.insert_cell_below('code');\n",
       "        code.set_text(atob(\"IyBUZW1wCmluc2VydCgnJycKbGFwb3J0ZTIwMDlhID0gREIoV29ya1VucmVsYXRlZCgKICAgIDIwMDksICJDb250cmlidXRpb25zIHRvIFNvZnR3YXJlIEVuZ2luZWVyaW5nIGFuZCB0byB0aGUgRGV2ZWxvcG1lbnQgYW5kIERlcGxveW1lbnQgb2YgSW50ZXJuYXRpb25hbCBTb2Z0d2FyZSBFbmdpbmVlcmluZyBTdGFuZGFyZHMgZm9yIFZlcnkgU21hbGwgRW50aXRpZXMiLAogICAgZGlzcGxheT0ibGFwb3J0ZSIsCiAgICBhdXRob3JzPSJMYXBvcnRlLCBDbGF1ZGUiLAogICAgcGxhY2U9VGhlc2lzLAogICAgZW50cnl0eXBlPSJwaGR0aGVzaXMiLAogICAgSUQ9ImxhcG9ydGUyMDA5Y29udHJpYnV0aW9ucyIsCiAgICBjbHVzdGVyX2lkPSIxMDMyNTYxMTgwNTA4MzE5OTU1NCIsCiAgICBzY2hvbGFyPSJodHRwOi8vc2Nob2xhci5nb29nbGUuY29tL3NjaG9sYXI/Y2l0ZXM9MTAzMjU2MTE4MDUwODMxOTk1NTQmYXNfc2R0PTIwMDUmc2Npb2R0PTAsNSZobD1lbiIsCiAgICBsb2NhbD0iVW5pdmVyc2l06SBkZSBCcmV0YWduZSBvY2NpZGVudGFsZS1CcmVzdCIsCiAgICBwbGFjZXg9IiIsCikpCgpEQihDaXRhdGlvbigKICAgIGxhcG9ydGUyMDA5YSwgd2lsa2llMjAwN2EsIHJlZj0iIiwKICAgIGNvbnRleHRzPVsKCiAgICBdLAopKQoKJycnLCBjaXRhdGlvbnM9J3dpbGtpZTIwMDdhJyk7\"));\n",
       "    "
      ],
      "text/plain": [
       "<IPython.core.display.Javascript object>"
      ]
     },
     "metadata": {},
     "output_type": "display_data"
    },
    {
     "data": {
      "application/javascript": [
       "$('span:contains(\"# Temp\")').closest('.cell').remove();"
      ],
      "text/plain": [
       "<IPython.core.display.Javascript object>"
      ]
     },
     "metadata": {},
     "output_type": "display_data"
    },
    {
     "data": {
      "application/javascript": [
       "\n",
       "        $('span:contains(\"# Temp\")').closest('.cell').remove();\n",
       "        var code = IPython.notebook.insert_cell_below('code');\n",
       "        code.set_text(atob(\"IyBUZW1wCmluc2VydCgnJycKemFyb3VyMjAwOWEgPSBEQihXb3JrVW5yZWxhdGVkKAogICAgMjAwOSwgIk1ldGhvZHMgdG8gZXZhbHVhdGUgbGlnaHR3ZWlnaHQgc29mdHdhcmUgcHJvY2VzcyBhc3Nlc3NtZW50IG1ldGhvZHMgYmFzZWQgb24gZXZhbHVhdGlvbiB0aGVvcnkgYW5kIGVuZ2luZWVyaW5nIGRlc2lnbiBwcmluY2lwbGVzIiwKICAgIGRpc3BsYXk9Inphcm91ciIsCiAgICBhdXRob3JzPSJaYXJvdXIsIE1vaGFtbWFkIiwKICAgIHBsYWNlPVRoZXNpcywKICAgIGVudHJ5dHlwZT0icGhkdGhlc2lzIiwKICAgIElEPSJ6YXJvdXIyMDA5bWV0aG9kcyIsCiAgICBjbHVzdGVyX2lkPSIxNzkyNDg3OTM1NDA5NDkwMjUxNCIsCiAgICBzY2hvbGFyPSJodHRwOi8vc2Nob2xhci5nb29nbGUuY29tL3NjaG9sYXI/Y2l0ZXM9MTc5MjQ4NzkzNTQwOTQ5MDI1MTQmYXNfc2R0PTIwMDUmc2Npb2R0PTAsNSZobD1lbiIsCiAgICBsb2NhbD0iyWNvbGUgZGUgdGVjaG5vbG9naWUgc3Vw6XJpZXVyZSIsCiAgICBwbGFjZXg9IiIsCikpCgpEQihDaXRhdGlvbigKICAgIHphcm91cjIwMDlhLCB3aWxraWUyMDA3YSwgcmVmPSIiLAogICAgY29udGV4dHM9WwoKICAgIF0sCikpCgonJycsIGNpdGF0aW9ucz0nd2lsa2llMjAwN2EnKTs=\"));\n",
       "    "
      ],
      "text/plain": [
       "<IPython.core.display.Javascript object>"
      ]
     },
     "metadata": {},
     "output_type": "display_data"
    },
    {
     "data": {
      "application/javascript": [
       "$('span:contains(\"# Temp\")').closest('.cell').remove();"
      ],
      "text/plain": [
       "<IPython.core.display.Javascript object>"
      ]
     },
     "metadata": {},
     "output_type": "display_data"
    },
    {
     "data": {
      "application/javascript": [
       "\n",
       "        $('span:contains(\"# Temp\")').closest('.cell').remove();\n",
       "        var code = IPython.notebook.insert_cell_below('code');\n",
       "        code.set_text(atob(\"IyBUZW1wCmluc2VydCgnJycKemFyb3VyMjAwOWEgPSBEQihXb3JrVW5yZWxhdGVkKAogICAgMjAwOSwgIk1ldGhvZHMgdG8gZXZhbHVhdGUgbGlnaHR3ZWlnaHQgc29mdHdhcmUgcHJvY2VzcyBhc3Nlc3NtZW50IG1ldGhvZHMgYmFzZWQgb24gZXZhbHVhdGlvbiB0aGVvcnkgYW5kIGVuZ2luZWVyaW5nIGRlc2lnbiBwcmluY2lwbGVzIiwKICAgIGRpc3BsYXk9Inphcm91ciIsCiAgICBhdXRob3JzPSJaYXJvdXIsIE1vaGFtbWFkIiwKICAgIHBsYWNlPVRoZXNpcywKICAgIGVudHJ5dHlwZT0icGhkdGhlc2lzIiwKICAgIElEPSJ6YXJvdXIyMDA5bWV0aG9kcyIsCiAgICBjbHVzdGVyX2lkPSIxNzkyNDg3OTM1NDA5NDkwMjUxNCIsCiAgICBzY2hvbGFyPSJodHRwOi8vc2Nob2xhci5nb29nbGUuY29tL3NjaG9sYXI/Y2l0ZXM9MTc5MjQ4NzkzNTQwOTQ5MDI1MTQmYXNfc2R0PTIwMDUmc2Npb2R0PTAsNSZobD1lbiIsCiAgICBsb2NhbD0iyWNvbGUgZGUgdGVjaG5vbG9naWUgc3Vw6XJpZXVyZSIsCiAgICBwbGFjZXg9IiIsCikpCgpEQihDaXRhdGlvbigKICAgIHphcm91cjIwMDlhLCB3aWxraWUyMDA3YSwgcmVmPSIiLAogICAgY29udGV4dHM9WwoKICAgIF0sCikpCgonJycsIGNpdGF0aW9ucz0nd2lsa2llMjAwN2EnKTs=\"));\n",
       "    "
      ],
      "text/plain": [
       "<IPython.core.display.Javascript object>"
      ]
     },
     "metadata": {},
     "output_type": "display_data"
    }
   ],
   "source": [
    "manager"
   ]
  },
  {
   "cell_type": "code",
   "execution_count": 19,
   "metadata": {},
   "outputs": [
    {
     "name": "stdout",
     "output_type": "stream",
     "text": [
      "-Insert: zarour2009a\n",
      "-Insert Import: zarour2009a\n",
      "-Insert Citation: zarour2009a -> wilkie2007a\n"
     ]
    }
   ],
   "source": [
    "# Temp\n",
    "insert('''\n",
    "zarour2009a = DB(WorkUnrelated(\n",
    "    2009, \"Methods to evaluate lightweight software process assessment methods based on evaluation theory and engineering design principles\",\n",
    "    display=\"zarour\",\n",
    "    authors=\"Zarour, Mohammad\",\n",
    "    place=Thesis,\n",
    "    entrytype=\"phdthesis\",\n",
    "    ID=\"zarour2009methods\",\n",
    "    cluster_id=\"17924879354094902514\",\n",
    "    scholar=\"http://scholar.google.com/scholar?cites=17924879354094902514&as_sdt=2005&sciodt=0,5&hl=en\",\n",
    "    local=\"École de technologie supérieure\",\n",
    "    placex=\"\",\n",
    "))\n",
    "\n",
    "DB(Citation(\n",
    "    zarour2009a, wilkie2007a, ref=\"\",\n",
    "    contexts=[\n",
    "\n",
    "    ],\n",
    "))\n",
    "\n",
    "''', citations='wilkie2007a');"
   ]
  },
  {
   "cell_type": "code",
   "execution_count": null,
   "metadata": {
    "collapsed": true
   },
   "outputs": [],
   "source": []
  }
 ],
 "metadata": {
  "kernelspec": {
   "display_name": "Python 3",
   "language": "python",
   "name": "python3"
  },
  "language_info": {
   "codemirror_mode": {
    "name": "ipython",
    "version": 3
   },
   "file_extension": ".py",
   "mimetype": "text/x-python",
   "name": "python",
   "nbconvert_exporter": "python",
   "pygments_lexer": "ipython3",
   "version": "3.6.0"
  },
  "toc": {
   "nav_menu": {
    "height": "12px",
    "width": "252px"
   },
   "number_sections": true,
   "sideBar": true,
   "skip_h1_title": false,
   "toc_cell": false,
   "toc_position": {},
   "toc_section_display": "block",
   "toc_window_display": false
  }
 },
 "nbformat": 4,
 "nbformat_minor": 1
}
