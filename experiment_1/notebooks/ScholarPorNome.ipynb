{
 "cells": [
  {
   "cell_type": "code",
   "execution_count": 1,
   "metadata": {},
   "outputs": [],
   "source": [
    "import database\n",
    "import traceback\n",
    "import sys\n",
    "from snowballing.operations import load_work, reload, work_by_varname\n",
    "from snowballing.operations import work_by_varname, set_display, extract_info, set_place\n",
    "from snowballing.selenium_scholar import SeleniumScholarQuerier\n",
    "from snowballing.scholar import ScholarConf\n",
    "from snowballing.selenium_scholar import SearchScholarQuery\n",
    "from snowballing.dbmanager import insert, set_attribute\n",
    "\n",
    "from snowballing.snowballing import ArticleNavigator\n",
    "from ipywidgets import HBox, VBox, IntSlider, ToggleButton, Text, Layout\n",
    "from ipywidgets import Dropdown, Button, Tab, Label, Textarea, Output\n",
    "from IPython.display import clear_output, display, HTML, Javascript\n",
    "\n",
    "import pandas as pd\n"
   ]
  },
  {
   "cell_type": "code",
   "execution_count": 2,
   "metadata": {},
   "outputs": [
    {
     "name": "stderr",
     "output_type": "stream",
     "text": [
      "[ INFO]  settings applied\n"
     ]
    },
    {
     "data": {
      "text/plain": [
       "<snowballing.selenium_scholar.SeleniumScholarQuerier at 0x21a674a4ef0>"
      ]
     },
     "execution_count": 2,
     "metadata": {},
     "output_type": "execute_result"
    }
   ],
   "source": [
    "querier = SeleniumScholarQuerier()\n",
    "querier.apply_settings(10, 4)"
   ]
  },
  {
   "cell_type": "code",
   "execution_count": 3,
   "metadata": {
    "collapsed": true
   },
   "outputs": [],
   "source": [
    "df = pd.read_excel(\"todo_francisco.xlsx\")"
   ]
  },
  {
   "cell_type": "code",
   "execution_count": 4,
   "metadata": {},
   "outputs": [],
   "source": [
    "class FindNames(ArticleNavigator):\n",
    "    \"\"\"Widget for curating database\"\"\"\n",
    "\n",
    "    def __init__(self, querier, df, force=False, debug=False, index=0):\n",
    "        reload()\n",
    "        self.matrix = df.as_matrix()\n",
    "        self.force = force\n",
    "        self.querier = querier\n",
    "        self.paper_name = Text(layout=Layout(width=\"99%\"))\n",
    "        self.next_page_widget = Button(description='Next Work', icon='fa-arrow-right')\n",
    "        self.reload_widget = Button(description='Reload', icon='fa-refresh')\n",
    "        self.previous_page_widget = Button(description='Previous Work', icon='fa-arrow-left')\n",
    "        self.debug_widget = ToggleButton(value=debug, description=\"Debug\")\n",
    "        self.textarea_widget = ToggleButton(value=True, description=\"Refresh\")\n",
    "        self.page_number_widget = Label(value=\"\")\n",
    "        self.output_widget = Output()\n",
    "        self.next_page_widget.on_click(self.next_page)\n",
    "        self.reload_widget.on_click(self.reload)\n",
    "        self.previous_page_widget.on_click(self.previous_page)\n",
    "        self.textarea_widget.observe(self.show)\n",
    "        self.view = VBox([\n",
    "            self.paper_name,\n",
    "            HBox([\n",
    "                self.previous_page_widget,\n",
    "                self.reload_widget,\n",
    "                self.next_page_widget,\n",
    "                self.debug_widget,\n",
    "                self.textarea_widget,\n",
    "                self.page_number_widget\n",
    "            ]),\n",
    "            self.output_widget\n",
    "        ])\n",
    "        self.index = index\n",
    "        self.name = \"\"\n",
    "        self.articles = []\n",
    "        self.work = None\n",
    "        self.citation_var = \"\"\n",
    "        self.set_attrs = []\n",
    "        self.reload(show=False)\n",
    "        \n",
    "\n",
    "\n",
    "    def next_page(self, b):\n",
    "        \"\"\"Go to next page\"\"\"\n",
    "        self.index = min(len(self.matrix) - 1, self.index + 1)\n",
    "        self.reload(b)\n",
    "\n",
    "    def previous_page(self, b):\n",
    "        \"\"\"Go to previous page\"\"\"\n",
    "        self.query = max(0, self.index - 1)\n",
    "        self.reload(b)\n",
    "\n",
    "    def set_index(self):\n",
    "        \"\"\"Set page index\"\"\"\n",
    "        self.page_number_widget.value = str(self.index)\n",
    "        self.next_page_widget.disabled = self.index == len(self.matrix) - 1\n",
    "        self.previous_page_widget.disabled = self.index == 0\n",
    "\n",
    "    def show(self, b=None):\n",
    "        \"\"\"Show comparison\"\"\"\n",
    "        self.output_widget.clear_output()\n",
    "        with self.output_widget:\n",
    "            print(self.name)\n",
    "            if not self.articles:\n",
    "                print(\"<unknown>\")\n",
    "                return\n",
    "            try:\n",
    "                article = self.articles[0]\n",
    "                if 'div' in article:\n",
    "                    self.show_article_html(article['div'])\n",
    "                else:\n",
    "                    print(article['name'])\n",
    "                for article, nwork, info in self.valid_articles([article], show=True):\n",
    "                    for attr in self.set_attrs:\n",
    "                        info[attr] = \"1\"\n",
    "                    self.show_article(article, nwork, info)\n",
    "            except:\n",
    "                traceback.print_exc(file=sys.stdout)\n",
    "\n",
    "    def reload(self, b=None, show=True):\n",
    "        \"\"\"Reload\"\"\"\n",
    "        self.output_widget.clear_output()\n",
    "        with self.output_widget:\n",
    "            if self.debug_widget.value:\n",
    "                ScholarConf.LOG_LEVEL = 3\n",
    "            else:\n",
    "                ScholarConf.LOG_LEVEL = 2\n",
    "            reload()\n",
    "            self.querier.tasks.clear()\n",
    "\n",
    "            if self.index >= len(self.matrix):\n",
    "                self.set_index()\n",
    "                return\n",
    "            matrix_row = self.matrix[self.index]\n",
    "            self.paper_name.value = self.name = matrix_row[0]\n",
    "            self.set_attrs = matrix_row[2].split(\", \")\n",
    "            print(self.name)\n",
    "            query = SearchScholarQuery()\n",
    "\n",
    "            query.set_scope(False)\n",
    "            query.set_words(self.name)\n",
    "            query.set_num_page_results(1)\n",
    "            self.querier.send_query(query)\n",
    "\n",
    "            self.articles = list(map(extract_info, self.querier.articles))\n",
    "        if show:\n",
    "            self.show()\n",
    "\n",
    "        self.set_index()\n",
    "\n",
    "    def browser(self):\n",
    "        \"\"\"Present widget\"\"\"\n",
    "        self.show()\n",
    "        return self.view\n",
    "\n",
    "    def _ipython_display_(self):\n",
    "        \"\"\" Displays widget \"\"\"\n",
    "        self.show()\n",
    "        display(self.view)\n",
    "\n",
    "find = FindNames(querier, df)"
   ]
  },
  {
   "cell_type": "code",
   "execution_count": 5,
   "metadata": {},
   "outputs": [
    {
     "data": {
      "application/vnd.jupyter.widget-view+json": {
       "model_id": "87f58459c7244f52ace6de6a1b90ad96",
       "version_major": 2,
       "version_minor": 0
      },
      "text/plain": [
       "A Jupyter Widget"
      ]
     },
     "metadata": {},
     "output_type": "display_data"
    }
   ],
   "source": [
    "find.view"
   ]
  },
  {
   "cell_type": "code",
   "execution_count": null,
   "metadata": {
    "collapsed": true
   },
   "outputs": [],
   "source": [
    "# Temp\n",
    "insert('''\n",
    "gupta2009a = DB(Work(\n",
    "    2009, \"A case study comparing defect profiles of a reused framework and of applications reusing it\",\n",
    "    display=\"gupta\",\n",
    "    authors=\"Gupta, Anita and Li, Jingyue and Conradi, Reidar and Rønneberg, Harald and Landre, Einar\",\n",
    "    place=ESE,\n",
    "    pp=\"227--255\",\n",
    "    entrytype=\"article\",\n",
    "    volume=\"14\",\n",
    "    number=\"2\",\n",
    "    publisher=\"Springer\",\n",
    "    ID=\"gupta2009case\",\n",
    "    cluster_id=\"8288715595896582988\",\n",
    "    scholar=\"http://scholar.google.com/scholar?cites=8288715595896582988&as_sdt=2005&sciodt=0,5&hl=en\",\n",
    "    springer2015=\"1\",\n",
    "))\n",
    "''');"
   ]
  },
  {
   "cell_type": "code",
   "execution_count": 6,
   "metadata": {},
   "outputs": [
    {
     "data": {
      "text/plain": [
       "288"
      ]
     },
     "execution_count": 6,
     "metadata": {},
     "output_type": "execute_result"
    }
   ],
   "source": [
    "len(df)"
   ]
  },
  {
   "cell_type": "code",
   "execution_count": null,
   "metadata": {
    "collapsed": true
   },
   "outputs": [],
   "source": []
  }
 ],
 "metadata": {
  "kernelspec": {
   "display_name": "Python 3",
   "language": "python",
   "name": "python3"
  },
  "language_info": {
   "codemirror_mode": {
    "name": "ipython",
    "version": 3
   },
   "file_extension": ".py",
   "mimetype": "text/x-python",
   "name": "python",
   "nbconvert_exporter": "python",
   "pygments_lexer": "ipython3",
   "version": "3.6.1"
  },
  "toc": {
   "nav_menu": {},
   "number_sections": true,
   "sideBar": true,
   "skip_h1_title": false,
   "title_cell": "Table of Contents",
   "title_sidebar": "Contents",
   "toc_cell": false,
   "toc_position": {},
   "toc_section_display": "block",
   "toc_window_display": false
  }
 },
 "nbformat": 4,
 "nbformat_minor": 2
}
