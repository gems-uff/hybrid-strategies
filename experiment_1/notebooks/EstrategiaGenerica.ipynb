{
 "cells": [
  {
   "cell_type": "code",
   "execution_count": 1,
   "metadata": {
    "collapsed": true
   },
   "outputs": [],
   "source": [
    "%matplotlib notebook\n",
    "\n",
    "import os, sys\n",
    "sys.path.insert(1, os.path.join(sys.path[0], '..'))\n",
    "import database\n",
    "from snowballing.operations import reload, work_by_varname, load_work_map_all_years\n",
    "from snowballing.strategies import Strategy, State\n",
    "import custom_strategies\n",
    "from functools import reduce\n",
    "from matplotlib_venn import venn2, venn2_circles\n",
    "from matplotlib import pyplot as plt\n",
    "import pandas as pd\n",
    "import numpy as np\n",
    "\n",
    "custom_strategies.LIMIT_YEAR = 2015\n",
    "reload()\n",
    "# !pip install matplotlib-venn"
   ]
  },
  {
   "cell_type": "code",
   "execution_count": 2,
   "metadata": {
    "collapsed": true
   },
   "outputs": [],
   "source": [
    "from snowballing.operations import metakey, metakey_title\n",
    "\n",
    "def busca(*libraries, seed=None, filter_function=None):\n",
    "    filter_function = filter_function or (lambda x: x.category in (\"snowball\",))\n",
    "    if seed is not None:\n",
    "        iterable = ((1, work_by_varname(x)) for x in seed)\n",
    "    else:\n",
    "        iterable = load_work_map_all_years()\n",
    "    seedset = set()\n",
    "    visited = set()\n",
    "    for _, work in iterable:\n",
    "        for library in libraries:\n",
    "            if int(getattr(work, library, 0)):\n",
    "                visited.add(work)\n",
    "                if filter_function(work):\n",
    "                    seedset.add(work)\n",
    "                break\n",
    "    return seedset, filter_function, visited\n",
    "\n",
    "def descreve_delta(strategy, state, name):\n",
    "    target = state.find(name)\n",
    "    previous_related = reduce(lambda x, y: x | y, (s.related for s in target.previous[0]), set())\n",
    "    for work in previous_related:\n",
    "        backward = set(strategy.ref[work]) & target.delta_visited\n",
    "        if backward:\n",
    "            print('backward', work.metakey)\n",
    "            for ref in backward:\n",
    "                print('-', ref.metakey, 'related' if ref in target.delta_related else '')\n",
    "        forward = set(strategy.rev_ref[work]) & target.delta_visited\n",
    "        if forward:\n",
    "            print('forward', work.metakey)\n",
    "            for ref in forward:\n",
    "                print('-', ref.metakey, 'related' if ref in target.delta_related else '')\n",
    "\n",
    "def separa_backward_forward(state):\n",
    "    backward = set()\n",
    "    forward = set()\n",
    "    stack = [state]\n",
    "    visited = {id(state)}\n",
    "    while stack:\n",
    "        current = stack.pop()\n",
    "        if current.previous:\n",
    "            if current.previous[1] == \"backward\":\n",
    "                backward |= current.delta_related\n",
    "            if current.previous[1] == \"forward\":\n",
    "                forward |= current.delta_related\n",
    "                \n",
    "            antecessors = current.previous[0]\n",
    "            for previous in antecessors:\n",
    "                if id(previous) not in visited:\n",
    "                    visited.add(id(previous))\n",
    "                    stack.append(previous)\n",
    "    return backward, forward\n",
    "\n",
    "def encontraria(strategy, state):\n",
    "    backward = set()\n",
    "    forward = set()\n",
    "    related = state.related - state.find(\"s0\").related\n",
    "    for work in state.related:\n",
    "        backward |= (set(strategy.ref[work]) & related)\n",
    "        forward |= (set(strategy.rev_ref[work]) & related)\n",
    "    return backward, forward\n",
    "\n",
    "#busca(\"scopus\", seed=[\"wohlin2014a\", \"briand2000a\"], filter_function=lambda x: True)\n",
    "#busca(\"scopus\", filter_function=lambda x: False)"
   ]
  },
  {
   "cell_type": "markdown",
   "metadata": {},
   "source": [
    "# Estratégias"
   ]
  },
  {
   "cell_type": "markdown",
   "metadata": {},
   "source": [
    "## Estratégia 1 - Busca em todas Digital Libraries (DL)"
   ]
  },
  {
   "cell_type": "code",
   "execution_count": 3,
   "metadata": {},
   "outputs": [
    {
     "name": "stdout",
     "output_type": "stream",
     "text": [
      "Total de estudos primários usados como Seed Set:  51\n"
     ]
    }
   ],
   "source": [
    "print (\"Total de estudos primários usados como Seed Set: \", len ([x for _, x in load_work_map_all_years() if x.category == \"snowball\"]))\n"
   ]
  },
  {
   "cell_type": "code",
   "execution_count": 4,
   "metadata": {},
   "outputs": [
    {
     "name": "stdout",
     "output_type": "stream",
     "text": [
      "Lista de estudos primários usados como Seed Set:\n"
     ]
    },
    {
     "data": {
      "text/plain": [
       "[Exploring the use of the cynefin framework to inform software development approach decisions,\n",
       " An elicitation instrument for operationalising GQM+ Strategies (GQM+ S-EI),\n",
       " Application of GQM+ Strategies in a small software development unit,\n",
       " A cynefin based approach to process model tailoring and goal alignment,\n",
       " Aligning Organizations Through Measurement,\n",
       " A conceptual framework for SPI evaluation,\n",
       " The effects of gqm+strategies on organizational alignment,\n",
       " Experiences and insights from applying gqm+ strategies in a systems product development organisation,\n",
       " Development and Evaluation of Systems Engineering Strategies: An Assessment-Based Approach,\n",
       " A framework for systematic evaluation of process improvement priorities,\n",
       " Strategically balanced process adoption,\n",
       " Application of GQM+ Strategies{\textregistered} in the Japanese space industry,\n",
       " Software engineering strategies: aligning software process improvement with strategic goals,\n",
       " Aligning software projects with business objectives,\n",
       " Determining organization-specific process suitability,\n",
       " Which Processes Are Needed in Five Years? Strategic Process Portfolio Management at the Japan Aerospace Exploration Agency (JAXA),\n",
       " Defining and monitoring strategically aligned software improvement goals,\n",
       " Linking software development and business strategy through measurement,\n",
       " Integration of strategic management, process improvement and quantitative measurement for managing the competitiveness of software engineering organizations,\n",
       " Aligning software-related strategies in multi- organizational settings,\n",
       " Utilizing GQM+ Strategies for an organization-wide earned value analysis,\n",
       " Utilizing GQM+ Strategies for business value analysis: An approach for evaluating business goals,\n",
       " SAS: A tool for the GQM+strategies grid derivation process,\n",
       " The Rosetta stone methodology - A benefits driven approach to software process improvement,\n",
       " The Rosetta Stone Methodology - A benefits-driven approach to SPI,\n",
       " Business-oriented software process improvement based on \\CMMI\\ using \\QFD,\n",
       " Software process improvement: Supporting the linking of the software and the business strategies,\n",
       " Entropy based software processes improvement,\n",
       " An approach to support the strategic alignment of software process improvement programs,\n",
       " Strategic alignment of software process improvement programs using QFD,\n",
       " ProPAMet: a Metric for process and project alignment,\n",
       " Bridging the gap between business strategy and software development,\n",
       " GQM+Strategies - Aligning business strategies with software measurement,\n",
       " GQM+ Strategies: A comprehensive methodology for aligning business strategies with software measurement,\n",
       " ProPAM: SPI based on Process and Project Alignment,\n",
       " A Low-overhead method for software process appraisal,\n",
       " Business-oriented software process improvement based on CMM using QFD,\n",
       " QFD Application in Software Process Management and Improvement Based on CMM,\n",
       " Business-oriented process improvement: practices and experiences at Thales Naval The Netherlands (TNNL),\n",
       " Measuring and improving software process in China,\n",
       " Business Objectives as Drivers for Process Improvement: Practices and Experiences at Thales Naval the Netherlands (TNNL),\n",
       " Blending CMM and Six Sigma to meet business goals,\n",
       " Aggregating viewpoints for strategic software process improvementa method and a case study,\n",
       " A business goal-based approach to achieving systems engineering capability maturity,\n",
       " Linking software process improvement to business strategies: Experiences from industry,\n",
       " Applying and adjusting a software process improvement model in practice: the use of the IDEAL model in a small software enterprise,\n",
       " Better Software Practice for Business Benefit: Principles and Experiences,\n",
       " Managing process inconsistency using viewpoints,\n",
       " Interfacing three complementary technologies: Strategic planning, process modeling, and system dynamics,\n",
       " SPI:I can't get no satisfaction-directing process improvement to meet business needs,\n",
       " A goal-oriented approach for managing software process change]"
      ]
     },
     "execution_count": 4,
     "metadata": {},
     "output_type": "execute_result"
    }
   ],
   "source": [
    "print (\"Lista de estudos primários usados como Seed Set:\")\n",
    "([x for _, x in load_work_map_all_years() if x.category == \"snowball\"])"
   ]
  },
  {
   "cell_type": "code",
   "execution_count": null,
   "metadata": {},
   "outputs": [],
   "source": [
    "reload()\n",
    "TOTAL = [x for _, x in load_work_map_all_years() if x.category == \"snowball\"]\n",
    "filter_function = lambda x: x.category in (\"snowball\", \"forward\", \"backward\")\n",
    "\n",
    "strategy = Strategy(*busca(\"scopus\", filter_function=filter_function))\n",
    "\n",
    "state = strategy.initial\n",
    "strategy.initial.visited\n",
    "\n",
    "#strategy.initial.name\n",
    "state\n"
   ]
  },
  {
   "cell_type": "code",
   "execution_count": null,
   "metadata": {},
   "outputs": [],
   "source": [
    "from snowballing.strategies import State\n",
    "\n",
    "reload()\n",
    "def busca_completa(libs, filter_function):\n",
    "    union = None\n",
    "    for dl in libs:\n",
    "        strategy = Strategy(*busca(dl, filter_function=filter_function))\n",
    "        strategy.initial.name = dl\n",
    "        if union is None:\n",
    "            union = strategy.initial.derive(\"union\", name=\"s0\")\n",
    "        else:\n",
    "            union.visited.update(strategy.initial.visited)\n",
    "            union.related.update(strategy.initial.related)\n",
    "            union.previous[0].append(strategy.initial)\n",
    "\n",
    "    State.last_id = 0\n",
    "    strategy.initial = union\n",
    "    return strategy\n",
    "\n",
    "strategy = busca_completa([\"scopus\", \"ieee\", \"acm\", \"springer\", \"elcompendex\", \"webofscience\", \"sciencedirect\"], filter_function)\n",
    "#strategy.initial.find(\"acm\")\n",
    "strategy.initial"
   ]
  },
  {
   "cell_type": "code",
   "execution_count": null,
   "metadata": {},
   "outputs": [],
   "source": [
    "array = []\n",
    "\n",
    "print (\"--- Estratégia 1 (E1) ---\")\n",
    "\n",
    "name = \"E1\"\n",
    "EP = len (state.related) / len (state.visited)\n",
    "print (\"Precision: \" + \"%.2f\" %EP)\n",
    "\n",
    "ER = len (state.related) / len (TOTAL)\n",
    "print (\"Recall: \" + \"%.2f\" %ER)\n",
    "\n",
    "FS = 2*((EP*ER)/(EP+ER))\n",
    "print (\"F-Measure: \" + \"%.2f\" %FS)\n",
    "\n",
    "array.append((name, EP, ER, FS))"
   ]
  },
  {
   "cell_type": "markdown",
   "metadata": {},
   "source": [
    "## Estratégia 2 - Busca em todas Digital Libraries + Snowballing (Guideline - sfbu)"
   ]
  },
  {
   "cell_type": "code",
   "execution_count": null,
   "metadata": {},
   "outputs": [],
   "source": [
    "reload()\n",
    "filter_function = lambda x: x.category in (\"snowball\", \"forward\", \"backward\")\n",
    "\n",
    "strategy = busca_completa([\"acm\", \"scopus\", \"springer\", \"elcompendex\", \"webofscience\", \"sciencedirect\", \"ieee\"], filter_function)\n",
    "#Strategy(*busca(\"acm\",\"scopus\", filter_function=filter_function))\n",
    "\n",
    "state = strategy.sfbu()\n",
    "#state = strategy.bbff()\n",
    "#state = strategy.ffbb()\n",
    "#state = strategy.s2ffbb2u()\n",
    "\n",
    "state"
   ]
  },
  {
   "cell_type": "markdown",
   "metadata": {},
   "source": [
    "### Resumo "
   ]
  },
  {
   "cell_type": "markdown",
   "metadata": {},
   "source": [
    "#### Resumo da Busca em DL"
   ]
  },
  {
   "cell_type": "code",
   "execution_count": null,
   "metadata": {},
   "outputs": [],
   "source": [
    "strategy.initial.find(\"acm\")"
   ]
  },
  {
   "cell_type": "code",
   "execution_count": null,
   "metadata": {},
   "outputs": [],
   "source": [
    "# Visitados ACM\n",
    "strategy.initial.find(\"acm\").visited"
   ]
  },
  {
   "cell_type": "code",
   "execution_count": null,
   "metadata": {},
   "outputs": [],
   "source": [
    "# Relacionados ACM - encontrado no seed set\n",
    "strategy.initial.find(\"webofscience\").related"
   ]
  },
  {
   "cell_type": "code",
   "execution_count": null,
   "metadata": {},
   "outputs": [],
   "source": [
    "strategy.initial.find(\"scopus\")"
   ]
  },
  {
   "cell_type": "code",
   "execution_count": null,
   "metadata": {},
   "outputs": [],
   "source": [
    "print(\"Visitados Scopus:\")\n",
    "strategy.initial.find(\"scopus\").visited"
   ]
  },
  {
   "cell_type": "code",
   "execution_count": null,
   "metadata": {},
   "outputs": [],
   "source": [
    "print(\"Relacionados Scopus - encontrado no seed set:\")\n",
    "strategy.initial.find(\"scopus\").related"
   ]
  },
  {
   "cell_type": "code",
   "execution_count": null,
   "metadata": {},
   "outputs": [],
   "source": [
    "print(\"Artigo comum a ACM e Scopus:\")\n",
    "strategy.initial.find(\"acm\").visited & strategy.initial.find(\"scopus\").visited"
   ]
  },
  {
   "cell_type": "markdown",
   "metadata": {},
   "source": [
    "#### Resumo do Snowballing"
   ]
  },
  {
   "cell_type": "code",
   "execution_count": null,
   "metadata": {},
   "outputs": [],
   "source": [
    "#Total de visitados = visitados no final - visitados no início\n",
    "print (\"Total visitados:\")\n",
    "len(state.visited - state.find(\"s0\").visited)"
   ]
  },
  {
   "cell_type": "code",
   "execution_count": null,
   "metadata": {},
   "outputs": [],
   "source": [
    "# Descrição dos Relacionados = relacionados no final - relacionados no início\n",
    "print (\"Total Relacionados: Lista dos que foram encontrados via Snowballing\")\n",
    "state.related - state.find(\"s0\").related"
   ]
  },
  {
   "cell_type": "code",
   "execution_count": null,
   "metadata": {},
   "outputs": [],
   "source": [
    "print (\"Encontrados via somente Snowballing:\")\n",
    "diff_related = state.related - state.find(\"s2\").related\n",
    "diff_related @ metakey_title"
   ]
  },
  {
   "cell_type": "markdown",
   "metadata": {},
   "source": [
    "### Detalhamento por Estado / Aresta"
   ]
  },
  {
   "cell_type": "markdown",
   "metadata": {},
   "source": [
    "#### Estado S0"
   ]
  },
  {
   "cell_type": "markdown",
   "metadata": {},
   "source": [
    "#### Visitados"
   ]
  },
  {
   "cell_type": "code",
   "execution_count": null,
   "metadata": {},
   "outputs": [],
   "source": [
    "#S0 - Visitados\n",
    "print(\"Visitados no Estado 0:\")\n",
    "state.find(\"s0\").visited"
   ]
  },
  {
   "cell_type": "markdown",
   "metadata": {},
   "source": [
    "#### Relacionados - Seed Set"
   ]
  },
  {
   "cell_type": "code",
   "execution_count": null,
   "metadata": {},
   "outputs": [],
   "source": [
    "#S0 - Relacionados - Encontrados via busca e que existem na lista dos Incluídos da SLR existente - são os seed set!\n",
    "print(\"Relacionados no Estado 0: Seed Set\")\n",
    "state.find(\"s0\").related @ metakey_title"
   ]
  },
  {
   "cell_type": "markdown",
   "metadata": {},
   "source": [
    "#### Aresta s0 -> s2 (Backward - Iteração 1)"
   ]
  },
  {
   "cell_type": "code",
   "execution_count": null,
   "metadata": {},
   "outputs": [],
   "source": [
    "# S2 - Backward (Found) - Visitados na iteração 1\n",
    "print(\"Backward - Qtd Referencias dos artigos visitados para chegar ao Estado 2, a partir do Estado 0:\")\n",
    "state.find(\"s2\").delta_visited"
   ]
  },
  {
   "cell_type": "code",
   "execution_count": null,
   "metadata": {},
   "outputs": [],
   "source": [
    "# S2 - Backward (Related) - Encontrados na iteração 1, via snowballing, que não foi encontrado via busca para o seed set.\n",
    "print(\"Relacionados encontrados via Backward, para chegar ao Estado 2, a partir do Estado 0:\")\n",
    "state.find(\"s2\").delta_related @ metakey_title"
   ]
  },
  {
   "cell_type": "markdown",
   "metadata": {},
   "source": [
    "#### Aresta s0 -> s1 (Forward - Iteração 1)"
   ]
  },
  {
   "cell_type": "code",
   "execution_count": null,
   "metadata": {},
   "outputs": [],
   "source": [
    "# S1 - Forward (Related) - Encontrados na iteração 1\n",
    "print(\"Relacionados encontrados via Forward, para chegar ao Estado 1, a partir do Estado 0:\")\n",
    "state.find(\"s1\").delta_related @ metakey_title"
   ]
  },
  {
   "cell_type": "markdown",
   "metadata": {},
   "source": [
    "#### Relacionados - Encontrados Via Backward e Forward"
   ]
  },
  {
   "cell_type": "code",
   "execution_count": null,
   "metadata": {},
   "outputs": [],
   "source": [
    "state"
   ]
  },
  {
   "cell_type": "code",
   "execution_count": null,
   "metadata": {},
   "outputs": [],
   "source": [
    "# Quantidade de artigo que existe em mais de uma biblioteca, após a união, no Estado S0, Ex, existe 1 artigo em acm e scopus.\n",
    "state.find(\"s0\").previous[0][1]\n",
    "\n",
    "(len(strategy.initial.find(\"acm\").visited) + len(strategy.initial.find(\"scopus\").visited) + len(strategy.initial.find(\"elcompendex\").visited) + len(strategy.initial.find(\"springer\").visited) + len(strategy.initial.find(\"webofscience\").visited) + len(strategy.initial.find(\"sciencedirect\").visited)) - len(state.find(\"s0\").visited)"
   ]
  },
  {
   "cell_type": "code",
   "execution_count": null,
   "metadata": {},
   "outputs": [],
   "source": [
    "# Artigos encontrados via Backward e Forward - Foi incluído kitchenham 2007a como Snowball para o teste.\n",
    "print (\"Encontrados via Backward e Forward:\")\n",
    "separa_backward_forward(state) @ metakey_title"
   ]
  },
  {
   "cell_type": "code",
   "execution_count": null,
   "metadata": {
    "collapsed": true
   },
   "outputs": [],
   "source": []
  },
  {
   "cell_type": "code",
   "execution_count": null,
   "metadata": {
    "collapsed": true
   },
   "outputs": [],
   "source": [
    "def duplicados(strategy, state):\n",
    "    encontrados = set()\n",
    "    result = set()\n",
    "    soma = 0\n",
    "    related = state.related - state.find(\"s0\").related\n",
    "    for work in state.related:\n",
    "        inter = encontrados & (set(strategy.ref[work]) & related)\n",
    "        if inter:\n",
    "            soma += len(inter)\n",
    "            encontrados |= inter\n",
    "            print(work @ metakey, \"backward\", inter @ metakey)\n",
    "        inter = encontrados & (set(strategy.rev_ref[work]) & related)\n",
    "        if inter:\n",
    "            soma += len(inter)\n",
    "            encontrados |= inter\n",
    "            print(work @ metakey, \"forward\", inter @ metakey)\n",
    "    return soma"
   ]
  },
  {
   "cell_type": "code",
   "execution_count": null,
   "metadata": {
    "collapsed": true
   },
   "outputs": [],
   "source": [
    "strategy.forward??"
   ]
  },
  {
   "cell_type": "code",
   "execution_count": null,
   "metadata": {},
   "outputs": [],
   "source": [
    "duplicados(strategy, state)"
   ]
  },
  {
   "cell_type": "code",
   "execution_count": null,
   "metadata": {},
   "outputs": [],
   "source": [
    "sets = separa_backward_forward(state)\n",
    "sets = encontraria(strategy, state)\n",
    "v = venn2(sets, set_labels = ('Backward', 'Forward'))\n",
    "c = venn2_circles(sets)\n",
    "plt.title('Diagrama de Venn')\n",
    "plt.show()"
   ]
  },
  {
   "cell_type": "code",
   "execution_count": null,
   "metadata": {},
   "outputs": [],
   "source": [
    "#Backward - Execução de backward em sets[0]\n",
    "print(\"Backward\", sets[0] @ metakey)\n",
    "print(\"Forward\", sets[1] @ metakey)"
   ]
  },
  {
   "cell_type": "code",
   "execution_count": null,
   "metadata": {},
   "outputs": [],
   "source": [
    "state.find(\"s0\").related @ metakey"
   ]
  },
  {
   "cell_type": "code",
   "execution_count": null,
   "metadata": {
    "collapsed": true
   },
   "outputs": [],
   "source": [
    "#x = v.get_patch_by_id('100')"
   ]
  },
  {
   "cell_type": "code",
   "execution_count": null,
   "metadata": {
    "collapsed": true
   },
   "outputs": [],
   "source": [
    "#x.set_linestyle = \"black\""
   ]
  },
  {
   "cell_type": "code",
   "execution_count": null,
   "metadata": {
    "collapsed": true
   },
   "outputs": [],
   "source": [
    "#[x.metakey for x in state.find(\"s0\").related]"
   ]
  },
  {
   "cell_type": "markdown",
   "metadata": {},
   "source": [
    "#### Execução de Backward (Aresta S0 -> S2) em cada artigo relacionado do S0"
   ]
  },
  {
   "cell_type": "code",
   "execution_count": null,
   "metadata": {},
   "outputs": [],
   "source": [
    "print(\"Descreve o S0 -> S2:\\n Execução de Backward em cada artigo do related \\n\")\n",
    "descreve_delta(strategy, state, \"s2\")"
   ]
  },
  {
   "cell_type": "markdown",
   "metadata": {},
   "source": [
    "#### Execução de Forward em cada artigo relacionado do S1"
   ]
  },
  {
   "cell_type": "code",
   "execution_count": null,
   "metadata": {},
   "outputs": [],
   "source": [
    "print(\"Descreve o S0 -> S1:\\n Execução de Forward em cada artigo do related \\n\")\n",
    "descreve_delta(strategy, state, \"s1\")"
   ]
  },
  {
   "cell_type": "markdown",
   "metadata": {},
   "source": [
    "#### Resumo do Precision e Recall"
   ]
  },
  {
   "cell_type": "code",
   "execution_count": null,
   "metadata": {},
   "outputs": [],
   "source": [
    "E2P = len (strategy.initial.related) / len (strategy.initial.visited)\n",
    "#print (len (strategy.initial.related))\n",
    "#print (len (strategy.initial.visited))\n",
    "#print (E2P)\n",
    "print (\"Precision na Busca E2: %.2f%%\" % E2P)\n",
    "\n",
    "#print (\"Precision no Snowballing - E2:\")\n",
    "#print(len(state.related - state.find(\"s0\").related))\n",
    "#print(len(state.visited - state.find(\"s0\").visited))\n",
    "\n",
    "E2PS = len(state.related - state.find(\"s0\").related) / len(state.visited - state.find(\"s0\").visited)\n",
    "\n",
    "print (\"\\n\"\"Precision no Snowballing E2: %.2f%%\" % E2PS)\n",
    "\n",
    "print(\"Precision no Snowballing E2 - Forward - 1 iteração: %.2f%%\" % (len (state.find(\"s1\").delta_related) / len (state.find(\"s1\").delta_visited)))\n",
    "\n",
    "print(\"Precision no Snowballing E2 - Backward - 1 iteração: %.2f%%\" % (len (state.find(\"s2\").delta_related) / len (state.find(\"s2\").delta_visited)))\n",
    "\n",
    "print(\"\\n\"\"Precision E2 (Busca + Snowballing): %.2f%%\" % (len(state.related) / len(state.visited)))\n",
    "\n",
    "#len (state.find(\"s1\").related)\n",
    "\n",
    "#len (state.find(\"s1\").delta_related)\n",
    "#len (state.find(\"s1\").delta_visited)\n",
    "\n",
    "\n",
    "name = \"E2\"\n",
    "print (\"Precision \" + name)\n",
    "EP = len (state.related) / len (state.visited)\n",
    "print (EP)\n",
    "print (\"Recall \" + name)\n",
    "ER = len (state.related) / len (TOTAL)\n",
    "print (ER)\n",
    "\n",
    "array.append((name, EP, ER))"
   ]
  },
  {
   "cell_type": "code",
   "execution_count": null,
   "metadata": {
    "collapsed": true
   },
   "outputs": [],
   "source": []
  },
  {
   "cell_type": "code",
   "execution_count": null,
   "metadata": {
    "collapsed": true
   },
   "outputs": [],
   "source": [
    "from collections import deque\n",
    "def precision_recall(state, total, stop=\"\"):\n",
    "    # Precisao 0 quando nao visita nada\n",
    "    array = [[\n",
    "        \"state\", \"precision\", \"recall\", \"operation\", \n",
    "        \"related\", \"visited\", \"delta_related\", \"delta_visited\",\n",
    "        \"accumulated_precision\", \"accumulated_recall\",\n",
    "    ]]\n",
    "    stack = deque([state])\n",
    "    visited = {id(state)}\n",
    "    while stack:\n",
    "        current = stack.pop()\n",
    "        try:\n",
    "            accumulated_precision = len(current.related) / len(current.visited)\n",
    "            precision = len(current.delta_related) / len(current.delta_visited)\n",
    "        except ZeroDivisionError:\n",
    "            precision = 0.0\n",
    "            \n",
    "        array.append([\n",
    "            current.name,\n",
    "            precision,\n",
    "            len(current.delta_related) / len(total),\n",
    "            current.previous[1] if current.previous else \"-\",\n",
    "            len(current.related),\n",
    "            len(current.visited),\n",
    "            len(current.delta_related),\n",
    "            len(current.delta_visited),\n",
    "            accumulated_precision,\n",
    "            len(current.related) / len(total),\n",
    "        ])\n",
    "        if current.name == stop:\n",
    "            break\n",
    "        if current.previous:              \n",
    "            antecessors = current.previous[0]\n",
    "            for previous in antecessors:\n",
    "                if id(previous) not in visited:\n",
    "                    visited.add(id(previous))\n",
    "                    stack.appendleft(previous)\n",
    "    return array"
   ]
  },
  {
   "cell_type": "code",
   "execution_count": null,
   "metadata": {},
   "outputs": [],
   "source": [
    "df = pd.DataFrame(list(reversed(precision_recall(state, TOTAL))))\n",
    "df.columns = df.iloc[-1]\n",
    "df = df.drop(df.index[-1])\n",
    "df"
   ]
  },
  {
   "cell_type": "code",
   "execution_count": null,
   "metadata": {},
   "outputs": [],
   "source": [
    "fig = plt.figure()\n",
    "df['precision'].plot(legend=True)\n",
    "df['recall'].plot(legend=True)\n",
    "ax = plt.gca()\n",
    "ax.set_xticklabels(df[\"state\"] + \"\\n\" + df[\"operation\"])\n",
    "ax.set_title(\"By State\");"
   ]
  },
  {
   "cell_type": "code",
   "execution_count": null,
   "metadata": {},
   "outputs": [],
   "source": [
    "fig = plt.figure()\n",
    "df['accumulated_precision'].plot(legend=True)\n",
    "df['accumulated_recall'].plot(legend=True)\n",
    "ax = plt.gca()\n",
    "ax.set_xticklabels(df[\"state\"] + \"\\n\" + df[\"operation\"])\n",
    "ax.set_title(\"Accumulated\");"
   ]
  },
  {
   "cell_type": "markdown",
   "metadata": {},
   "source": [
    "## Estratégia 3 - Busca Informal (Google Scholar) + Snowballing (Guideline - sfbu)"
   ]
  },
  {
   "cell_type": "code",
   "execution_count": null,
   "metadata": {},
   "outputs": [],
   "source": [
    "reload()\n",
    "filter_function = lambda x: x.category in (\"snowball\", \"forward\", \"backward\")\n",
    "\n",
    "strategy = Strategy(*busca(\"gs\", filter_function=filter_function))\n",
    "state = strategy.sfbu()\n",
    "state"
   ]
  },
  {
   "cell_type": "code",
   "execution_count": null,
   "metadata": {},
   "outputs": [],
   "source": [
    "name = \"E3\"\n",
    "print (\"Precision \" + name)\n",
    "EP = len (state.related) / len (state.visited)\n",
    "print (EP)\n",
    "print (\"Recall \" + name)\n",
    "ER = len (state.related) / len (TOTAL)\n",
    "print (ER)\n",
    "\n",
    "array.append((name, EP, ER))"
   ]
  },
  {
   "cell_type": "markdown",
   "metadata": {},
   "source": [
    "\n",
    "## Estratégia 4 - Busca em Scopus + Snowballing (Guideline - sfbu)"
   ]
  },
  {
   "cell_type": "code",
   "execution_count": null,
   "metadata": {},
   "outputs": [],
   "source": [
    "reload()\n",
    "filter_function = lambda x: x.category in (\"snowball\", \"forward\", \"backward\")\n",
    "\n",
    "strategy = Strategy(*busca(\"scopus\", filter_function=filter_function))\n",
    "\n",
    "#from copy import copy\n",
    "#strategy.initial.visited = copy(strategy.initial.related)\n",
    "state = strategy.sfbu()\n",
    "state"
   ]
  },
  {
   "cell_type": "code",
   "execution_count": null,
   "metadata": {
    "scrolled": false
   },
   "outputs": [],
   "source": [
    "descreve_delta(strategy, state, \"s2\")\n"
   ]
  },
  {
   "cell_type": "code",
   "execution_count": null,
   "metadata": {
    "collapsed": true
   },
   "outputs": [],
   "source": [
    "texto = \"\"\"backward becker2008a\n",
    "- weber2005a \n",
    "- hierholzer1998a \n",
    "- debou1999a \n",
    "- liu2005a \n",
    "- yamamura1999a \n",
    "- cox1992a \n",
    "- grady1997a \n",
    "- biró1999a \n",
    "- mccoy1998a \n",
    "- dyba2005a \n",
    "- humphrey1989b \n",
    "- paulk1993a \n",
    "- chrissis2003a \n",
    "- zaijun2005a \n",
    "- peterson1995a \n",
    "- brodman1995a \n",
    "- akao1990a \n",
    "- pitterman2000a \n",
    "- pulford1996a \n",
    "- montoni2007a \n",
    "- yin2003a \n",
    "- isoiec2003a \n",
    "- zahran1998a \n",
    "- niazi2003a \n",
    "backward martins2008a\n",
    "- arthur1993a \n",
    "- isoiec1998a \n",
    "- salo2005a \n",
    "- krasner1997a \n",
    "- kuvaja1994a \n",
    "- cmm2002a \n",
    "- isoiec1998c \n",
    "- isoiec1998b \n",
    "- emam1999a \n",
    "- pfleeger1994a \n",
    "- solingen1999a \n",
    "- paulk1993a \n",
    "- vertage1994a \n",
    "- martins2007b \n",
    "backward reiblein1997a\n",
    "- kaplan1993a \n",
    "- miller1995a \n",
    "- trade1992a \n",
    "- hinley1997a \n",
    "- vlasveld1995a \n",
    "- deming1986a \n",
    "- group1997a \n",
    "- iso1994b \n",
    "- itil1989a \n",
    "- iso1994a \n",
    "- cmm1993a \n",
    "- humphrey1989a \n",
    "- isoies1997a \n",
    "- kaplan1996b \n",
    "backward albuquerque2009a\n",
    "- birk2002a \n",
    "- stalhane2004a \n",
    "- prahalad1999a \n",
    "- softex2009a \n",
    "- boehm2000b \n",
    "- cmusei2006a \n",
    "- nollen2008a \n",
    "- salo2005b \n",
    "- wright2000a \n",
    "- isoiec2004a \n",
    "- lawrence2001a \n",
    "- reed2000a \n",
    "- cater2004a \n",
    "- dybå2003b \n",
    "- birk1998a \n",
    "- bardin1977a \n",
    "- hefner2001a \n",
    "- thompson2000a \n",
    "- kim1995a \n",
    "- isoiec2004b \n",
    "- alloui2000a \n",
    "- caivano2005a \n",
    "- mcnair1990a \n",
    "- kaplan2000a \n",
    "- adams1993a \n",
    "- komi2004a \n",
    "- martins2007b \n",
    "backward kaneko2011a\n",
    "- kathuria2007a \n",
    "- isaca2005a \n",
    "- kaplan1992a \n",
    "- basili2009a \n",
    "- basili2007b \n",
    "- becker1999a \n",
    "- isaca2008a \n",
    "- ogc2002a \n",
    "- basili1992a \n",
    "- jaxa2012a \n",
    "- kowalczyk2010a \n",
    "backward guzmán2010a\n",
    "- ebert2007a \n",
    "- mcgarry2002a \n",
    "- goethert2004a \n",
    "- kaplan2008a \n",
    "- chastek2009a \n",
    "- tuan2006a \n",
    "- basili2009b \n",
    "- el2007a \n",
    "- sei2006b \n",
    "- kojima2008a \n",
    "- mishra2008a \n",
    "- long2008a \n",
    "- watson2007a \n",
    "- kanji2007a \n",
    "- oliveira2009a \n",
    "- porter1979a \n",
    "- lamb1984a \n",
    "- isoiec2007a \n",
    "- asgarkhani2006a \n",
    "- harjumaa2008a \n",
    "- mcloone2007a \n",
    "- mehra2004a \n",
    "- kamel2009a \n",
    "- card2003a \n",
    "- neergaard2007a \n",
    "- basili2010a related\n",
    "- kaplan2005a \n",
    "- gopal2005a \n",
    "- peng2007a \n",
    "- kahraman2007a \n",
    "- isoiec2004a \n",
    "- fahey2007a \n",
    "- kaplan2006a \n",
    "- trienekens2009a related\n",
    "- dyba2005a \n",
    "- shull2006a \n",
    "- el2001a \n",
    "- qi2007a \n",
    "- issac2006a \n",
    "- isoiec2008a \n",
    "- kaplan1997a \n",
    "- kuppusamy2008a \n",
    "- capell2004a \n",
    "- goethert2003a \n",
    "backward wilkie2007a\n",
    "- iso2006a \n",
    "- anacleto2004b \n",
    "- wilkie2005a \n",
    "- mcfeeley1996a \n",
    "- anacleto2004a \n",
    "- makinen2000a \n",
    "- caffery2004a \n",
    "- sei2004a \n",
    "- wilkie2004a \n",
    "- cspt2003a \n",
    "- institute2005a \n",
    "- chrissis2003a \n",
    "- ISOIEC2006a \n",
    "- caffery2005a \n",
    "- mcfall2003a \n",
    "- sei2005a \n",
    "- paulk1995a \n",
    "- cignoni1999a \n",
    "- team2007a \n",
    "- rout2001a \n",
    "backward plösch2011a\n",
    "- shewhart1931a \n",
    "- isoiec2003b \n",
    "- simon2002a \n",
    "- venzin2003a \n",
    "- cmmi2006a \n",
    "- mcfeeley1996a \n",
    "- isoiec1998d \n",
    "- dion1993a\"\"\""
   ]
  },
  {
   "cell_type": "code",
   "execution_count": null,
   "metadata": {
    "collapsed": true
   },
   "outputs": [],
   "source": [
    "conjuntos = [set(x.split(\"-\")[1:]) for x in texto.split(\"backward\")[1:]]"
   ]
  },
  {
   "cell_type": "code",
   "execution_count": null,
   "metadata": {},
   "outputs": [],
   "source": [
    "conjuntos[0] & conjuntos[1]"
   ]
  },
  {
   "cell_type": "code",
   "execution_count": null,
   "metadata": {},
   "outputs": [],
   "source": [
    "name = \"E4\"\n",
    "print (\"Precision \" + name)\n",
    "EP = len (state.related) / len (state.visited)\n",
    "print (EP)\n",
    "print (\"Recall \" + name)\n",
    "ER = len (state.related) / len (TOTAL)\n",
    "print (ER)\n",
    "\n",
    "array.append((name, EP, ER))"
   ]
  },
  {
   "cell_type": "code",
   "execution_count": null,
   "metadata": {},
   "outputs": [],
   "source": [
    "state.find(\"s0\").related"
   ]
  },
  {
   "cell_type": "code",
   "execution_count": null,
   "metadata": {},
   "outputs": [],
   "source": [
    "state.find(\"s2\").related"
   ]
  },
  {
   "cell_type": "code",
   "execution_count": null,
   "metadata": {},
   "outputs": [],
   "source": [
    "state.find(\"s0\").visited"
   ]
  },
  {
   "cell_type": "code",
   "execution_count": null,
   "metadata": {},
   "outputs": [],
   "source": [
    "# Com backward de mendes2004a é possível encontrar 2 (resultado da celula)\n",
    "state.related & set(strategy.ref[work_by_varname(\"mendes2004a\")])"
   ]
  },
  {
   "cell_type": "code",
   "execution_count": null,
   "metadata": {},
   "outputs": [],
   "source": [
    "# Com backward de ... em S2, encontrou 1 (resultado da celula)\n",
    "state.find(\"s2\").delta_related & set(strategy.ref[work_by_varname(\"mendes2004a\")])"
   ]
  },
  {
   "cell_type": "code",
   "execution_count": null,
   "metadata": {},
   "outputs": [],
   "source": [
    "# Com forward de ... em S1, encontrou 1 (resultado da celula)\n",
    "state.find(\"s1\").delta_related & set(strategy.rev_ref[work_by_varname(\"mendes2004a\")])"
   ]
  },
  {
   "cell_type": "code",
   "execution_count": null,
   "metadata": {},
   "outputs": [],
   "source": [
    "len(state.find(\"s1\").delta_visited)"
   ]
  },
  {
   "cell_type": "code",
   "execution_count": null,
   "metadata": {},
   "outputs": [],
   "source": [
    "#len(state.find(\"s1\").delta_visited & set(strategy.rev_ref[work_by_varname(\"mendes2004a\")]))\n",
    "# forward\n",
    "len(set(strategy.rev_ref[work_by_varname(\"mendes2004a\")]))"
   ]
  },
  {
   "cell_type": "code",
   "execution_count": null,
   "metadata": {},
   "outputs": [],
   "source": [
    "# backward\n",
    "len(set(strategy.ref[work_by_varname(\"mendes2004a\")]))"
   ]
  },
  {
   "cell_type": "code",
   "execution_count": null,
   "metadata": {},
   "outputs": [],
   "source": [
    "search_state = strategy.initial\n",
    "search_state.related"
   ]
  },
  {
   "cell_type": "markdown",
   "metadata": {},
   "source": [
    "## Estratégia 5 - Busca em Scopus + Snowballing (Short Paper - s2ffbb2u)"
   ]
  },
  {
   "cell_type": "code",
   "execution_count": null,
   "metadata": {},
   "outputs": [],
   "source": [
    "reload()\n",
    "filter_function = lambda x: x.category in (\"snowball\", \"forward\", \"backward\")\n",
    "\n",
    "strategy = Strategy(*busca(\"scopus\", filter_function=filter_function))\n",
    "state = strategy.s2bbff2u()\n",
    "state"
   ]
  },
  {
   "cell_type": "code",
   "execution_count": null,
   "metadata": {},
   "outputs": [],
   "source": [
    "name = \"E5\"\n",
    "print (\"Precision \" + name)\n",
    "EP = len (state.related) / len (state.visited)\n",
    "print (EP)\n",
    "print (\"Recall \" + name)\n",
    "ER = len (state.related) / len (TOTAL)\n",
    "print (ER)\n",
    "\n",
    "array.append((name, EP, ER))"
   ]
  },
  {
   "cell_type": "code",
   "execution_count": null,
   "metadata": {},
   "outputs": [],
   "source": [
    "state.find(\"s0\").related "
   ]
  },
  {
   "cell_type": "code",
   "execution_count": null,
   "metadata": {},
   "outputs": [],
   "source": [
    "state.find(\"s1\").related "
   ]
  },
  {
   "cell_type": "code",
   "execution_count": null,
   "metadata": {},
   "outputs": [],
   "source": [
    "state.find(\"s3\").related "
   ]
  },
  {
   "cell_type": "code",
   "execution_count": null,
   "metadata": {},
   "outputs": [],
   "source": [
    "sx, sy = state.previous[0]\n",
    "\n",
    "sx.related & sy.related\n"
   ]
  },
  {
   "cell_type": "code",
   "execution_count": null,
   "metadata": {},
   "outputs": [],
   "source": [
    "sx.name"
   ]
  },
  {
   "cell_type": "code",
   "execution_count": null,
   "metadata": {},
   "outputs": [],
   "source": [
    "sy.name"
   ]
  },
  {
   "cell_type": "code",
   "execution_count": null,
   "metadata": {},
   "outputs": [],
   "source": [
    "# Artigos encontrados via Backward e Forward - Foi incluído kitchenham 2007a como Snowball para o teste.\n",
    "print (\"Encontrados via Backward e Forward:\")\n",
    "separa_backward_forward(state) @ metakey_title"
   ]
  },
  {
   "cell_type": "code",
   "execution_count": null,
   "metadata": {},
   "outputs": [],
   "source": [
    "# S1 - Forward (Related) - Encontrados na iteração 1\n",
    "print(\"Relacionados encontrados via Forward, para chegar ao Estado 1, a partir do Estado 0:\")\n",
    "state.find(\"s1\").delta_related @ metakey_title"
   ]
  },
  {
   "cell_type": "markdown",
   "metadata": {},
   "source": [
    "## Estratégia 6 - Busca em Scopus + Snowballing (JF - bbff)"
   ]
  },
  {
   "cell_type": "code",
   "execution_count": null,
   "metadata": {},
   "outputs": [],
   "source": [
    "reload()\n",
    "filter_function = lambda x: x.category in (\"snowball\", \"forward\", \"backward\")\n",
    "\n",
    "strategy = Strategy(*busca(\"scopus\", filter_function=filter_function))\n",
    "state = strategy.bbff()\n",
    "state"
   ]
  },
  {
   "cell_type": "code",
   "execution_count": null,
   "metadata": {
    "collapsed": true
   },
   "outputs": [],
   "source": [
    "strategy._repeat??"
   ]
  },
  {
   "cell_type": "code",
   "execution_count": null,
   "metadata": {},
   "outputs": [],
   "source": [
    "name = \"E6\"\n",
    "print (\"Precision \" + name)\n",
    "EP = len (state.related) / len (state.visited)\n",
    "print (EP)\n",
    "print (\"Recall \" + name)\n",
    "ER = len (state.related) / len (TOTAL)\n",
    "print (ER)\n",
    "\n",
    "array.append((name, EP, ER))"
   ]
  },
  {
   "cell_type": "markdown",
   "metadata": {},
   "source": [
    "## Estratégia 7 - Busca em Scopus + Snowballing (JF - ffbb)"
   ]
  },
  {
   "cell_type": "code",
   "execution_count": null,
   "metadata": {},
   "outputs": [],
   "source": [
    "reload()\n",
    "filter_function = lambda x: x.category in (\"snowball\", \"forward\", \"backward\")\n",
    "\n",
    "strategy = Strategy(*busca(\"scopus\", filter_function=filter_function))\n",
    "state = strategy.ffbb()\n",
    "state"
   ]
  },
  {
   "cell_type": "code",
   "execution_count": null,
   "metadata": {},
   "outputs": [],
   "source": [
    "name = \"E7\"\n",
    "print (\"Precision \" + name)\n",
    "EP = len (state.related) / len (state.visited)\n",
    "print (EP)\n",
    "print (\"Recall \" + name)\n",
    "ER = len (state.related) / len (TOTAL)\n",
    "print (ER)\n",
    "\n",
    "array.append((name, EP, ER))"
   ]
  },
  {
   "cell_type": "markdown",
   "metadata": {},
   "source": [
    "# Análise das Estratégias"
   ]
  },
  {
   "cell_type": "code",
   "execution_count": null,
   "metadata": {
    "collapsed": true
   },
   "outputs": [],
   "source": [
    "%matplotlib notebook\n",
    "import pandas as pd"
   ]
  },
  {
   "cell_type": "code",
   "execution_count": null,
   "metadata": {},
   "outputs": [],
   "source": [
    "df = pd.DataFrame (array,columns = ['Estratégia','Precision','Recall'])\n",
    "df.index = df['Estratégia']\n",
    "df"
   ]
  },
  {
   "cell_type": "code",
   "execution_count": null,
   "metadata": {
    "scrolled": false
   },
   "outputs": [],
   "source": [
    "import matplotlib.pyplot as plt\n",
    "ax = df.plot.bar(title =\"Precision e Recall das Estratégias\")\n",
    "plt.tight_layout()\n"
   ]
  },
  {
   "cell_type": "code",
   "execution_count": null,
   "metadata": {},
   "outputs": [],
   "source": [
    "df"
   ]
  },
  {
   "cell_type": "code",
   "execution_count": null,
   "metadata": {
    "collapsed": true
   },
   "outputs": [],
   "source": [
    "#df.to_csv(\"estrategias.csv\")\n",
    "df.to_excel(\"estrategias.xlsx\")"
   ]
  },
  {
   "cell_type": "markdown",
   "metadata": {
    "collapsed": true
   },
   "source": [
    "# Individual"
   ]
  },
  {
   "cell_type": "code",
   "execution_count": null,
   "metadata": {},
   "outputs": [],
   "source": [
    "reload()\n",
    "#NAME = \"guzmán2010a\"\n",
    "NAME = \"kaneko2011a\"\n",
    "filter_function = lambda x: x.category in (\"snowball\", \"forward\", \"backward\")\n",
    "seedset = {work_by_varname(NAME)}\n",
    "strategy = Strategy(seedset, filter_function)\n",
    "strategy.initial.name = NAME\n",
    "state = strategy.sfbu()\n",
    "state"
   ]
  },
  {
   "cell_type": "code",
   "execution_count": null,
   "metadata": {},
   "outputs": [],
   "source": [
    "state.find(\"s1\").delta_visited"
   ]
  },
  {
   "cell_type": "code",
   "execution_count": null,
   "metadata": {
    "collapsed": true
   },
   "outputs": [],
   "source": []
  },
  {
   "cell_type": "code",
   "execution_count": null,
   "metadata": {
    "collapsed": true
   },
   "outputs": [],
   "source": []
  },
  {
   "cell_type": "code",
   "execution_count": null,
   "metadata": {
    "collapsed": true
   },
   "outputs": [],
   "source": []
  },
  {
   "cell_type": "code",
   "execution_count": null,
   "metadata": {
    "collapsed": true
   },
   "outputs": [],
   "source": []
  },
  {
   "cell_type": "code",
   "execution_count": null,
   "metadata": {},
   "outputs": [],
   "source": [
    "strategy.bfbf()"
   ]
  },
  {
   "cell_type": "code",
   "execution_count": null,
   "metadata": {
    "collapsed": true
   },
   "outputs": [],
   "source": []
  }
 ],
 "metadata": {
  "kernelspec": {
   "display_name": "Python 3",
   "language": "python",
   "name": "python3"
  },
  "language_info": {
   "codemirror_mode": {
    "name": "ipython",
    "version": 3
   },
   "file_extension": ".py",
   "mimetype": "text/x-python",
   "name": "python",
   "nbconvert_exporter": "python",
   "pygments_lexer": "ipython3",
   "version": "3.6.0"
  },
  "toc": {
   "nav_menu": {
    "height": "12px",
    "width": "252px"
   },
   "number_sections": true,
   "sideBar": false,
   "skip_h1_title": false,
   "toc_cell": false,
   "toc_position": {
    "height": "22px",
    "left": "563px",
    "right": "1442.5px",
    "top": "65.12px",
    "width": "287px"
   },
   "toc_section_display": "block",
   "toc_window_display": true
  }
 },
 "nbformat": 4,
 "nbformat_minor": 2
}
