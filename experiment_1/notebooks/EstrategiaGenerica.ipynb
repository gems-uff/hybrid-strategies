{
 "cells": [
  {
   "cell_type": "code",
   "execution_count": 13,
   "metadata": {
    "collapsed": true
   },
   "outputs": [],
   "source": [
    "%matplotlib notebook\n",
    "\n",
    "import os, sys\n",
    "sys.path.insert(1, os.path.join(sys.path[0], '..'))\n",
    "import database\n",
    "from snowballing.operations import reload, work_by_varname, load_work_map_all_years\n",
    "from snowballing.strategies import Strategy, State\n",
    "import custom_strategies\n",
    "from functools import reduce\n",
    "from matplotlib_venn import venn2, venn2_circles\n",
    "from matplotlib import pyplot as plt\n",
    "import pandas as pd\n",
    "import numpy as np\n",
    "\n",
    "custom_strategies.LIMIT_YEAR = 2015\n",
    "reload()\n",
    "# !pip install matplotlib-venn"
   ]
  },
  {
   "cell_type": "code",
   "execution_count": 14,
   "metadata": {
    "collapsed": true
   },
   "outputs": [],
   "source": [
    "from snowballing.operations import metakey, metakey_title\n",
    "\n",
    "def busca(*libraries, seed=None, filter_function=None):\n",
    "    filter_function = filter_function or (lambda x: x.category in (\"snowball\",))\n",
    "    if seed is not None:\n",
    "        iterable = ((1, work_by_varname(x)) for x in seed)\n",
    "    else:\n",
    "        iterable = load_work_map_all_years()\n",
    "    seedset = set()\n",
    "    visited = set()\n",
    "    for _, work in iterable:\n",
    "        for library in libraries:\n",
    "            if int(getattr(work, library, 0)):\n",
    "                visited.add(work)\n",
    "                if filter_function(work):\n",
    "                    seedset.add(work)\n",
    "                break\n",
    "    return seedset, filter_function, visited\n",
    "\n",
    "def descreve_delta(strategy, state, name):\n",
    "    target = state.find(name)\n",
    "    previous_related = reduce(lambda x, y: x | y, (s.related for s in target.previous[0]), set())\n",
    "    for work in previous_related:\n",
    "        backward = set(strategy.ref[work]) & target.delta_visited\n",
    "        if backward:\n",
    "            print('backward', work.metakey)\n",
    "            for ref in backward:\n",
    "                print('-', ref.metakey, 'related' if ref in target.delta_related else '')\n",
    "        forward = set(strategy.rev_ref[work]) & target.delta_visited\n",
    "        if forward:\n",
    "            print('forward', work.metakey)\n",
    "            for ref in forward:\n",
    "                print('-', ref.metakey, 'related' if ref in target.delta_related else '')\n",
    "\n",
    "def separa_backward_forward(state):\n",
    "    backward = set()\n",
    "    forward = set()\n",
    "    stack = [state]\n",
    "    visited = {id(state)}\n",
    "    while stack:\n",
    "        current = stack.pop()\n",
    "        if current.previous:\n",
    "            if current.previous[1] == \"backward\":\n",
    "                backward |= current.delta_related\n",
    "            if current.previous[1] == \"forward\":\n",
    "                forward |= current.delta_related\n",
    "                \n",
    "            antecessors = current.previous[0]\n",
    "            for previous in antecessors:\n",
    "                if id(previous) not in visited:\n",
    "                    visited.add(id(previous))\n",
    "                    stack.append(previous)\n",
    "    return backward, forward\n",
    "\n",
    "def encontraria(strategy, state):\n",
    "    backward = set()\n",
    "    forward = set()\n",
    "    related = state.related - state.find(\"s0\").related\n",
    "    for work in state.related:\n",
    "        backward |= (set(strategy.ref[work]) & related)\n",
    "        forward |= (set(strategy.rev_ref[work]) & related)\n",
    "    return backward, forward\n",
    "\n",
    "#busca(\"scopus\", seed=[\"wohlin2014a\", \"briand2000a\"], filter_function=lambda x: True)\n",
    "#busca(\"scopus\", filter_function=lambda x: False)"
   ]
  },
  {
   "cell_type": "markdown",
   "metadata": {},
   "source": [
    "# Estratégias"
   ]
  },
  {
   "cell_type": "markdown",
   "metadata": {},
   "source": [
    "## Estratégia 1 - Busca em todas Digital Libraries (DL)"
   ]
  },
  {
   "cell_type": "code",
   "execution_count": 15,
   "metadata": {},
   "outputs": [
    {
     "name": "stdout",
     "output_type": "stream",
     "text": [
      "Total de estudos primários:  51\n"
     ]
    }
   ],
   "source": [
    "print (\"Total de estudos primários: \", len ({x for _, x in load_work_map_all_years() if x.category == \"snowball\"}))\n"
   ]
  },
  {
   "cell_type": "code",
   "execution_count": 17,
   "metadata": {},
   "outputs": [
    {
     "name": "stdout",
     "output_type": "stream",
     "text": [
      "Total de estudos primários 22 do Seed Set + 29 Snowballing:  51\n"
     ]
    }
   ],
   "source": [
    "print (\"Total de estudos primários 22 do Seed Set + 29 Snowballing: \", len ({x for _, x in load_work_map_all_years() if x.category == \"snowball\"}))"
   ]
  },
  {
   "cell_type": "code",
   "execution_count": 19,
   "metadata": {},
   "outputs": [
    {
     "name": "stdout",
     "output_type": "stream",
     "text": [
      "Lista de estudos primários usados como Seed Set + Snowballing:\n"
     ]
    },
    {
     "data": {
      "text/plain": [
       "['sommerville1999a - Managing process inconsistency using viewpoints',\n",
       " 'mandić2010d - SAS: A tool for the GQM+ strategies grid derivation process',\n",
       " 'trendowicz2014a - Aligning Organizations Through Measurement',\n",
       " 'albuquerque2009a - Software process improvement: Supporting the linking of the software and the business strategies',\n",
       " \"reiblein1997a - SPI:\\x91I can't get no satisfaction\\x92-directing process improvement to meet business needs\",\n",
       " 'waina2001a - A business goal-based approach to achieving systems engineering capability maturity',\n",
       " 'mcloughlin2010b - The Rosetta Stone Methodology - A benefits-driven approach to SPI',\n",
       " 'mandić2010a - Utilizing GQM+ Strategies for an organization-wide earned value analysis',\n",
       " 'trienekens2004a - Business objectives as drivers for process improvement: Practices and experiences at Thales Naval the Netherlands (TNNL)',\n",
       " 'wilkie2007a - A Low-overhead method for software process appraisal',\n",
       " 'mandić2010b - Utilizing GQM+ Strategies for business value analysis: An approach for evaluating business goals',\n",
       " 'mcloughlin2010a - The Rosetta Stone Methodology - A benefits-driven approach to software process improvement',\n",
       " 'murugappan2003a - Blending CMM and Six Sigma to meet business goals',\n",
       " 'karlström2002a - Aggregating viewpoints for strategic software process improvement\\x97a method and a case study',\n",
       " 'trienekens2009a - Entropy based software processes improvement',\n",
       " 'birkhölzer2011a - A framework for systematic evaluation of process improvement priorities',\n",
       " 'kowalczyk2010a - Aligning software-related strategies in multi-organizational settings',\n",
       " 'hinley1995a - A goal-oriented approach for managing software process change',\n",
       " 'mccoy1998a - Interfacing three complementary technologies: strategic planning, process modeling, and system dynamics',\n",
       " 'martins2008a - ProPAMet: a Metric for process and project alignment',\n",
       " 'messnarz1999a - Better Software Practice for Business Benefit: Principles and Experiences',\n",
       " 'guzmán2010a - Integration of strategic management, process improvement and quantitative measurement for managing the competitiveness of software engineering organizations',\n",
       " 'petersen2015a - An elicitation instrument for operationalising GQM+ Strategies (GQM+ S-EI)',\n",
       " 'liu2005a - QFD application in software process management and improvement based on CMM',\n",
       " 'münch2013a - The effects of gqm+ strategies on organizational alignment',\n",
       " 'armbrust2010b - Which Processes Are Needed in Five Years? Strategic Process Portfolio Management at the Japan Aerospace Exploration Agency (JAXA)',\n",
       " 'cocozza2014a - Application of GQM+ Strategies in a small software development unit',\n",
       " 'basili2007b - GQM+Strategies - Aligning business strategies with software measurement',\n",
       " 'basili2007c - GQM+ Strategies: A comprehensive methodology for aligning business strategies with software measurement',\n",
       " 'unterkalmsteiner2014a - A conceptual framework for SPI evaluation',\n",
       " 'barreto2010a - Defining and monitoring strategically aligned software improvement goals',\n",
       " 'debou2000a - Linking software process improvement to business strategies: experiences from industry',\n",
       " 'kaneko2011a - Application of GQM+ Strategies{\\textregistered} in the Japanese space industry',\n",
       " 'liu2006a - Business-oriented software process improvement based on CMM using QFD',\n",
       " 'kautz2000a - Applying and adjusting a software process improvement model in practice: the use of the IDEAL model in a small software enterprise',\n",
       " 'armbrust2010a - Determining organization-specific process suitability',\n",
       " 'münch2013c - Experiences and insights from applying gqm+ strategies in a systems product development organisation',\n",
       " 'becker2008b - Strategic alignment of software process improvement programs using QFD',\n",
       " 'trendowicz2011a - Aligning software projects with business objectives',\n",
       " 'esfahani2011a - Strategically balanced process adoption',\n",
       " 'becker2008a - An approach to support the strategic alignment of software process improvement programs',\n",
       " 'trienekens2005a - Business-oriented process improvement: practices and experiences at Thales Naval The Netherlands (TNNL)',\n",
       " 'plösch2011a - Software engineering strategies: aligning software process improvement with strategic goals',\n",
       " 'martins2007b - ProPAM: SPI based on Process and Project Alignment',\n",
       " 'wang2005a - Measuring and improving software process in China',\n",
       " 'basili2007a - Bridging the gap between business strategy and software development',\n",
       " 'oConnor2015a - Exploring the use of the cynefin framework to inform software development approach decisions',\n",
       " 'sun2010a - Business-oriented software process improvement based on CMMI using QFD',\n",
       " 'lepmets2014a - A Cynefin based approach to process model tailoring and goal alignment',\n",
       " 'basili2010a - Linking software development and business strategy through measurement',\n",
       " 'stallinger2013a - Development and Evaluation of Systems Engineering Strategies: An Assessment-Based Approach']"
      ]
     },
     "execution_count": 19,
     "metadata": {},
     "output_type": "execute_result"
    }
   ],
   "source": [
    "print (\"Lista de estudos primários usados como Seed Set + Snowballing:\")\n",
    "({x for _, x in load_work_map_all_years() if x.category == \"snowball\"}) @ metakey_title"
   ]
  },
  {
   "cell_type": "code",
   "execution_count": 28,
   "metadata": {},
   "outputs": [
    {
     "data": {
      "image/svg+xml": [
       "<?xml version=\"1.0\" encoding=\"UTF-8\" standalone=\"no\"?>\r\n",
       "<!DOCTYPE svg PUBLIC \"-//W3C//DTD SVG 1.1//EN\"\r\n",
       " \"http://www.w3.org/Graphics/SVG/1.1/DTD/svg11.dtd\">\r\n",
       "<!-- Generated by graphviz version 2.38.0 (20140413.2041)\r\n",
       " -->\r\n",
       "<!-- Title: G Pages: 1 -->\r\n",
       "<svg width=\"111pt\" height=\"83pt\"\r\n",
       " viewBox=\"0.00 0.00 111.24 82.95\" xmlns=\"http://www.w3.org/2000/svg\" xmlns:xlink=\"http://www.w3.org/1999/xlink\">\r\n",
       "<g id=\"graph0\" class=\"graph\" transform=\"scale(1 1) rotate(0) translate(4 78.9533)\">\r\n",
       "<title>G</title>\r\n",
       "<polygon fill=\"white\" stroke=\"none\" points=\"-4,4 -4,-78.9533 107.238,-78.9533 107.238,4 -4,4\"/>\r\n",
       "<!-- s0 -->\r\n",
       "<g id=\"node1\" class=\"node\"><title>s0</title>\r\n",
       "<ellipse fill=\"none\" stroke=\"black\" cx=\"51.6188\" cy=\"-37.4767\" rx=\"51.7379\" ry=\"37.4533\"/>\r\n",
       "<text text-anchor=\"middle\" x=\"51.6188\" y=\"-48.7767\" font-family=\"Times New Roman,serif\" font-size=\"14.00\">s0</text>\r\n",
       "<text text-anchor=\"middle\" x=\"51.6188\" y=\"-33.7767\" font-family=\"Times New Roman,serif\" font-size=\"14.00\">visited: 15</text>\r\n",
       "<text text-anchor=\"middle\" x=\"51.6188\" y=\"-18.7767\" font-family=\"Times New Roman,serif\" font-size=\"14.00\">related: 7</text>\r\n",
       "</g>\r\n",
       "</g>\r\n",
       "</svg>\r\n"
      ],
      "text/plain": [
       "Step(name='start', new_references=15, new_related=7, total_visited=15, total_related=7, source='', target='s0')"
      ],
      "text/vnd.graphviz": [
       "digraph G {\n",
       "  rankdir=\"RL\";\n",
       "\n",
       "  s0 [label=\"s0\\nvisited: 15\\nrelated: 7\"];\n",
       "\n",
       "}"
      ]
     },
     "metadata": {},
     "output_type": "display_data"
    }
   ],
   "source": [
    "reload()\n",
    "TOTAL = [x for _, x in load_work_map_all_years() if x.category == \"snowball\"]\n",
    "filter_function = lambda x: x.category in (\"snowball\", \"forward\", \"backward\")\n",
    "\n",
    "strategy = Strategy(*busca(\"scopus2015\", filter_function=filter_function))\n",
    "\n",
    "state = strategy.initial\n",
    "strategy.initial.visited\n",
    "\n",
    "#strategy.initial.name\n",
    "state\n"
   ]
  },
  {
   "cell_type": "code",
   "execution_count": 25,
   "metadata": {},
   "outputs": [
    {
     "data": {
      "text/plain": [
       "['martins2007a - A comparative study of SPI approaches with ProPAM',\n",
       " 'galinac2009a - Empirical evaluation of selected best practices in implementation of software process improvement',\n",
       " 'bayona2012a - Critical success factors in software process improvement: A systematic review',\n",
       " 'kaneko2011a - Application of GQM+ Strategies{\\textregistered} in the Japanese space industry',\n",
       " 'albuquerque2009a - Software process improvement: Supporting the linking of the software and the business strategies',\n",
       " 'zalzala2010a - Software process improvement for the airline industry',\n",
       " 'vieira2009a - Using strategic planning for selection of SPI processes: An experience report',\n",
       " 'wilkie2007a - A Low-overhead method for software process appraisal',\n",
       " 'becker2008a - An approach to support the strategic alignment of software process improvement programs',\n",
       " 'veryard1998a - Demanding change: How to remain in business despite IT',\n",
       " 'stallinger2011a - Linking software life cycle activities with product strategy and economics: Extending ISO/IEC 12207 with product management best practices',\n",
       " \"reiblein1997a - SPI:\\x91I can't get no satisfaction\\x92-directing process improvement to meet business needs\",\n",
       " 'guzmán2010a - Integration of strategic management, process improvement and quantitative measurement for managing the competitiveness of software engineering organizations',\n",
       " 'asato2011a - Alignment between the business strategy and the software processes improvement: A roadmap for the implementation [Alinhamento entre estrategia de negocios e melhoria de processos de software: Um roteiro de implementacao]',\n",
       " 'plösch2011a - Software engineering strategies: aligning software process improvement with strategic goals']"
      ]
     },
     "execution_count": 25,
     "metadata": {},
     "output_type": "execute_result"
    }
   ],
   "source": [
    "strategy.initial.visited @ metakey_title"
   ]
  },
  {
   "cell_type": "code",
   "execution_count": 26,
   "metadata": {},
   "outputs": [
    {
     "data": {
      "image/svg+xml": [
       "<?xml version=\"1.0\" encoding=\"UTF-8\" standalone=\"no\"?>\r\n",
       "<!DOCTYPE svg PUBLIC \"-//W3C//DTD SVG 1.1//EN\"\r\n",
       " \"http://www.w3.org/Graphics/SVG/1.1/DTD/svg11.dtd\">\r\n",
       "<!-- Generated by graphviz version 2.38.0 (20140413.2041)\r\n",
       " -->\r\n",
       "<!-- Title: G Pages: 1 -->\r\n",
       "<svg width=\"358pt\" height=\"641pt\"\r\n",
       " viewBox=\"0.00 0.00 357.84 640.95\" xmlns=\"http://www.w3.org/2000/svg\" xmlns:xlink=\"http://www.w3.org/1999/xlink\">\r\n",
       "<g id=\"graph0\" class=\"graph\" transform=\"scale(1 1) rotate(0) translate(4 636.953)\">\r\n",
       "<title>G</title>\r\n",
       "<polygon fill=\"white\" stroke=\"none\" points=\"-4,4 -4,-636.953 353.843,-636.953 353.843,4 -4,4\"/>\r\n",
       "<!-- s0 -->\r\n",
       "<g id=\"node1\" class=\"node\"><title>s0</title>\r\n",
       "<ellipse fill=\"none\" stroke=\"black\" cx=\"293.274\" cy=\"-316.477\" rx=\"56.6372\" ry=\"37.4533\"/>\r\n",
       "<text text-anchor=\"middle\" x=\"293.274\" y=\"-327.777\" font-family=\"Times New Roman,serif\" font-size=\"14.00\">s0</text>\r\n",
       "<text text-anchor=\"middle\" x=\"293.274\" y=\"-312.777\" font-family=\"Times New Roman,serif\" font-size=\"14.00\">visited: 497</text>\r\n",
       "<text text-anchor=\"middle\" x=\"293.274\" y=\"-297.777\" font-family=\"Times New Roman,serif\" font-size=\"14.00\">related: 0</text>\r\n",
       "</g>\r\n",
       "<!-- scopus2015 -->\r\n",
       "<g id=\"node2\" class=\"node\"><title>scopus2015</title>\r\n",
       "<ellipse fill=\"none\" stroke=\"black\" cx=\"84.8528\" cy=\"-595.477\" rx=\"59.2941\" ry=\"37.4533\"/>\r\n",
       "<text text-anchor=\"middle\" x=\"84.8528\" y=\"-606.777\" font-family=\"Times New Roman,serif\" font-size=\"14.00\">scopus2015</text>\r\n",
       "<text text-anchor=\"middle\" x=\"84.8528\" y=\"-591.777\" font-family=\"Times New Roman,serif\" font-size=\"14.00\">visited: 15</text>\r\n",
       "<text text-anchor=\"middle\" x=\"84.8528\" y=\"-576.777\" font-family=\"Times New Roman,serif\" font-size=\"14.00\">related: 0</text>\r\n",
       "</g>\r\n",
       "<!-- s0&#45;&gt;scopus2015 -->\r\n",
       "<g id=\"edge1\" class=\"edge\"><title>s0&#45;&gt;scopus2015</title>\r\n",
       "<path fill=\"none\" stroke=\"black\" d=\"M280.463,-353.115C262.979,-402.588 226.075,-491.145 169.706,-548.477 162.002,-556.312 152.714,-563.226 143.166,-569.174\"/>\r\n",
       "<polygon fill=\"black\" stroke=\"black\" points=\"141.199,-566.271 134.363,-574.364 144.754,-572.301 141.199,-566.271\"/>\r\n",
       "<text text-anchor=\"middle\" x=\"203.206\" y=\"-530.277\" font-family=\"Times New Roman,serif\" font-size=\"14.00\">union</text>\r\n",
       "</g>\r\n",
       "<!-- ieee2015 -->\r\n",
       "<g id=\"node3\" class=\"node\"><title>ieee2015</title>\r\n",
       "<ellipse fill=\"none\" stroke=\"black\" cx=\"84.8528\" cy=\"-502.477\" rx=\"51.7379\" ry=\"37.4533\"/>\r\n",
       "<text text-anchor=\"middle\" x=\"84.8528\" y=\"-513.777\" font-family=\"Times New Roman,serif\" font-size=\"14.00\">ieee2015</text>\r\n",
       "<text text-anchor=\"middle\" x=\"84.8528\" y=\"-498.777\" font-family=\"Times New Roman,serif\" font-size=\"14.00\">visited: 43</text>\r\n",
       "<text text-anchor=\"middle\" x=\"84.8528\" y=\"-483.777\" font-family=\"Times New Roman,serif\" font-size=\"14.00\">related: 0</text>\r\n",
       "</g>\r\n",
       "<!-- s0&#45;&gt;ieee2015 -->\r\n",
       "<g id=\"edge2\" class=\"edge\"><title>s0&#45;&gt;ieee2015</title>\r\n",
       "<path fill=\"none\" stroke=\"black\" d=\"M267.762,-350.263C244.774,-380.364 208.248,-424.34 169.706,-455.477 159.872,-463.421 148.516,-470.779 137.4,-477.202\"/>\r\n",
       "<polygon fill=\"black\" stroke=\"black\" points=\"135.585,-474.206 128.57,-482.146 139.005,-480.314 135.585,-474.206\"/>\r\n",
       "<text text-anchor=\"middle\" x=\"203.206\" y=\"-442.277\" font-family=\"Times New Roman,serif\" font-size=\"14.00\">union</text>\r\n",
       "</g>\r\n",
       "<!-- acm2015 -->\r\n",
       "<g id=\"node4\" class=\"node\"><title>acm2015</title>\r\n",
       "<ellipse fill=\"none\" stroke=\"black\" cx=\"84.8528\" cy=\"-409.477\" rx=\"56.6372\" ry=\"37.4533\"/>\r\n",
       "<text text-anchor=\"middle\" x=\"84.8528\" y=\"-420.777\" font-family=\"Times New Roman,serif\" font-size=\"14.00\">acm2015</text>\r\n",
       "<text text-anchor=\"middle\" x=\"84.8528\" y=\"-405.777\" font-family=\"Times New Roman,serif\" font-size=\"14.00\">visited: 100</text>\r\n",
       "<text text-anchor=\"middle\" x=\"84.8528\" y=\"-390.777\" font-family=\"Times New Roman,serif\" font-size=\"14.00\">related: 0</text>\r\n",
       "</g>\r\n",
       "<!-- s0&#45;&gt;acm2015 -->\r\n",
       "<g id=\"edge3\" class=\"edge\"><title>s0&#45;&gt;acm2015</title>\r\n",
       "<path fill=\"none\" stroke=\"black\" d=\"M245.949,-337.348C215.008,-351.288 174.146,-369.697 141.45,-384.428\"/>\r\n",
       "<polygon fill=\"black\" stroke=\"black\" points=\"139.703,-381.376 132.023,-388.675 142.578,-387.759 139.703,-381.376\"/>\r\n",
       "<text text-anchor=\"middle\" x=\"203.206\" y=\"-366.277\" font-family=\"Times New Roman,serif\" font-size=\"14.00\">union</text>\r\n",
       "</g>\r\n",
       "<!-- springer2015 -->\r\n",
       "<g id=\"node5\" class=\"node\"><title>springer2015</title>\r\n",
       "<ellipse fill=\"none\" stroke=\"black\" cx=\"84.8528\" cy=\"-316.477\" rx=\"62.8651\" ry=\"37.4533\"/>\r\n",
       "<text text-anchor=\"middle\" x=\"84.8528\" y=\"-327.777\" font-family=\"Times New Roman,serif\" font-size=\"14.00\">springer2015</text>\r\n",
       "<text text-anchor=\"middle\" x=\"84.8528\" y=\"-312.777\" font-family=\"Times New Roman,serif\" font-size=\"14.00\">visited: 141</text>\r\n",
       "<text text-anchor=\"middle\" x=\"84.8528\" y=\"-297.777\" font-family=\"Times New Roman,serif\" font-size=\"14.00\">related: 0</text>\r\n",
       "</g>\r\n",
       "<!-- s0&#45;&gt;springer2015 -->\r\n",
       "<g id=\"edge4\" class=\"edge\"><title>s0&#45;&gt;springer2015</title>\r\n",
       "<path fill=\"none\" stroke=\"black\" d=\"M236.685,-316.477C212.545,-316.477 183.952,-316.477 158.187,-316.477\"/>\r\n",
       "<polygon fill=\"black\" stroke=\"black\" points=\"158.093,-312.977 148.093,-316.477 158.093,-319.977 158.093,-312.977\"/>\r\n",
       "<text text-anchor=\"middle\" x=\"203.206\" y=\"-320.277\" font-family=\"Times New Roman,serif\" font-size=\"14.00\">union</text>\r\n",
       "</g>\r\n",
       "<!-- elcompendex2015 -->\r\n",
       "<g id=\"node6\" class=\"node\"><title>elcompendex2015</title>\r\n",
       "<ellipse fill=\"none\" stroke=\"black\" cx=\"84.8528\" cy=\"-223.477\" rx=\"83.3772\" ry=\"37.4533\"/>\r\n",
       "<text text-anchor=\"middle\" x=\"84.8528\" y=\"-234.777\" font-family=\"Times New Roman,serif\" font-size=\"14.00\">elcompendex2015</text>\r\n",
       "<text text-anchor=\"middle\" x=\"84.8528\" y=\"-219.777\" font-family=\"Times New Roman,serif\" font-size=\"14.00\">visited: 13</text>\r\n",
       "<text text-anchor=\"middle\" x=\"84.8528\" y=\"-204.777\" font-family=\"Times New Roman,serif\" font-size=\"14.00\">related: 0</text>\r\n",
       "</g>\r\n",
       "<!-- s0&#45;&gt;elcompendex2015 -->\r\n",
       "<g id=\"edge5\" class=\"edge\"><title>s0&#45;&gt;elcompendex2015</title>\r\n",
       "<path fill=\"none\" stroke=\"black\" d=\"M245.949,-295.606C218.803,-283.375 184.021,-267.705 153.817,-254.097\"/>\r\n",
       "<polygon fill=\"black\" stroke=\"black\" points=\"155.159,-250.863 144.604,-249.946 152.283,-257.245 155.159,-250.863\"/>\r\n",
       "<text text-anchor=\"middle\" x=\"203.206\" y=\"-284.277\" font-family=\"Times New Roman,serif\" font-size=\"14.00\">union</text>\r\n",
       "</g>\r\n",
       "<!-- webofscience2015 -->\r\n",
       "<g id=\"node7\" class=\"node\"><title>webofscience2015</title>\r\n",
       "<ellipse fill=\"none\" stroke=\"black\" cx=\"84.8528\" cy=\"-130.477\" rx=\"84.7059\" ry=\"37.4533\"/>\r\n",
       "<text text-anchor=\"middle\" x=\"84.8528\" y=\"-141.777\" font-family=\"Times New Roman,serif\" font-size=\"14.00\">webofscience2015</text>\r\n",
       "<text text-anchor=\"middle\" x=\"84.8528\" y=\"-126.777\" font-family=\"Times New Roman,serif\" font-size=\"14.00\">visited: 10</text>\r\n",
       "<text text-anchor=\"middle\" x=\"84.8528\" y=\"-111.777\" font-family=\"Times New Roman,serif\" font-size=\"14.00\">related: 0</text>\r\n",
       "</g>\r\n",
       "<!-- s0&#45;&gt;webofscience2015 -->\r\n",
       "<g id=\"edge6\" class=\"edge\"><title>s0&#45;&gt;webofscience2015</title>\r\n",
       "<path fill=\"none\" stroke=\"black\" d=\"M267.762,-282.69C244.774,-252.589 208.248,-208.613 169.706,-177.477 163.904,-172.79 157.573,-168.308 151.074,-164.101\"/>\r\n",
       "<polygon fill=\"black\" stroke=\"black\" points=\"152.481,-160.854 142.142,-158.542 148.782,-166.797 152.481,-160.854\"/>\r\n",
       "<text text-anchor=\"middle\" x=\"203.206\" y=\"-227.277\" font-family=\"Times New Roman,serif\" font-size=\"14.00\">union</text>\r\n",
       "</g>\r\n",
       "<!-- sciencedirect2015 -->\r\n",
       "<g id=\"node8\" class=\"node\"><title>sciencedirect2015</title>\r\n",
       "<ellipse fill=\"none\" stroke=\"black\" cx=\"84.8528\" cy=\"-37.4767\" rx=\"82.0488\" ry=\"37.4533\"/>\r\n",
       "<text text-anchor=\"middle\" x=\"84.8528\" y=\"-48.7767\" font-family=\"Times New Roman,serif\" font-size=\"14.00\">sciencedirect2015</text>\r\n",
       "<text text-anchor=\"middle\" x=\"84.8528\" y=\"-33.7767\" font-family=\"Times New Roman,serif\" font-size=\"14.00\">visited: 195</text>\r\n",
       "<text text-anchor=\"middle\" x=\"84.8528\" y=\"-18.7767\" font-family=\"Times New Roman,serif\" font-size=\"14.00\">related: 0</text>\r\n",
       "</g>\r\n",
       "<!-- s0&#45;&gt;sciencedirect2015 -->\r\n",
       "<g id=\"edge7\" class=\"edge\"><title>s0&#45;&gt;sciencedirect2015</title>\r\n",
       "<path fill=\"none\" stroke=\"black\" d=\"M280.463,-279.838C262.979,-230.365 226.075,-141.808 169.706,-84.4767 164.477,-79.1588 158.519,-74.2654 152.245,-69.8102\"/>\r\n",
       "<polygon fill=\"black\" stroke=\"black\" points=\"153.796,-66.6381 143.533,-64.008 149.916,-72.4642 153.796,-66.6381\"/>\r\n",
       "<text text-anchor=\"middle\" x=\"203.206\" y=\"-151.277\" font-family=\"Times New Roman,serif\" font-size=\"14.00\">union</text>\r\n",
       "</g>\r\n",
       "</g>\r\n",
       "</svg>\r\n"
      ],
      "text/plain": [
       "Step(name='start', new_references=195, new_related=0, total_visited=195, total_related=0, source='', target='sciencedirect2015')\n",
       "Step(name='start', new_references=10, new_related=0, total_visited=10, total_related=0, source='', target='webofscience2015')\n",
       "Step(name='start', new_references=13, new_related=0, total_visited=13, total_related=0, source='', target='elcompendex2015')\n",
       "Step(name='start', new_references=141, new_related=0, total_visited=141, total_related=0, source='', target='springer2015')\n",
       "Step(name='start', new_references=100, new_related=0, total_visited=100, total_related=0, source='', target='acm2015')\n",
       "Step(name='start', new_references=43, new_related=0, total_visited=43, total_related=0, source='', target='ieee2015')\n",
       "Step(name='start', new_references=15, new_related=0, total_visited=15, total_related=0, source='', target='scopus2015')\n",
       "Step(name='union', new_references=0, new_related=0, total_visited=497, total_related=0, source='scopus2015|ieee2015|acm2015|springer2015|elcompendex2015|webofscience2015|sciencedirect2015', target='s0')"
      ],
      "text/vnd.graphviz": [
       "digraph G {\n",
       "  rankdir=\"RL\";\n",
       "\n",
       "  s0 [label=\"s0\\nvisited: 497\\nrelated: 0\"];\n",
       "  s0 -> scopus2015 [label=\"union\"];\n",
       "  s0 -> ieee2015 [label=\"union\"];\n",
       "  s0 -> acm2015 [label=\"union\"];\n",
       "  s0 -> springer2015 [label=\"union\"];\n",
       "  s0 -> elcompendex2015 [label=\"union\"];\n",
       "  s0 -> webofscience2015 [label=\"union\"];\n",
       "  s0 -> sciencedirect2015 [label=\"union\"];\n",
       "\n",
       "  scopus2015 [label=\"scopus2015\\nvisited: 15\\nrelated: 0\"];\n",
       "\n",
       "  ieee2015 [label=\"ieee2015\\nvisited: 43\\nrelated: 0\"];\n",
       "\n",
       "  acm2015 [label=\"acm2015\\nvisited: 100\\nrelated: 0\"];\n",
       "\n",
       "  springer2015 [label=\"springer2015\\nvisited: 141\\nrelated: 0\"];\n",
       "\n",
       "  elcompendex2015 [label=\"elcompendex2015\\nvisited: 13\\nrelated: 0\"];\n",
       "\n",
       "  webofscience2015 [label=\"webofscience2015\\nvisited: 10\\nrelated: 0\"];\n",
       "\n",
       "  sciencedirect2015 [label=\"sciencedirect2015\\nvisited: 195\\nrelated: 0\"];\n",
       "\n",
       "}"
      ]
     },
     "metadata": {},
     "output_type": "display_data"
    }
   ],
   "source": [
    "from snowballing.strategies import State\n",
    "\n",
    "reload()\n",
    "def busca_completa(libs, filter_function):\n",
    "    union = None\n",
    "    for dl in libs:\n",
    "        strategy = Strategy(*busca(dl, filter_function=filter_function))\n",
    "        strategy.initial.name = dl\n",
    "        if union is None:\n",
    "            union = strategy.initial.derive(\"union\", name=\"s0\")\n",
    "        else:\n",
    "            union.visited.update(strategy.initial.visited)\n",
    "            union.related.update(strategy.initial.related)\n",
    "            union.previous[0].append(strategy.initial)\n",
    "\n",
    "    State.last_id = 0\n",
    "    strategy.initial = union\n",
    "    return strategy\n",
    "\n",
    "strategy = busca_completa([\"scopus2015\", \"ieee2015\", \"acm2015\", \"springer2015\", \"elcompendex2015\", \"webofscience2015\", \"sciencedirect2015\"], filter_function)\n",
    "#strategy.initial.find(\"acm\")\n",
    "strategy.initial"
   ]
  },
  {
   "cell_type": "code",
   "execution_count": 27,
   "metadata": {},
   "outputs": [
    {
     "name": "stdout",
     "output_type": "stream",
     "text": [
      "--- Estratégia 1 (E1) ---\n",
      "Precision: 5.00\n",
      "Recall: 9.62\n",
      "F-Measure: 6.58\n"
     ]
    }
   ],
   "source": [
    "array = []\n",
    "\n",
    "print (\"--- Estratégia 1 (E1) ---\")\n",
    "\n",
    "name = \"E1\"\n",
    "EP = (len (state.related) / len (state.visited))*100\n",
    "print (\"Precision: \" + \"%.2f\" %EP)\n",
    "\n",
    "ER = (len (state.related) / len (TOTAL))*100\n",
    "print (\"Recall: \" + \"%.2f\" %ER)\n",
    "\n",
    "FS = 2*((EP*ER)/(EP+ER))\n",
    "print (\"F-Measure: \" + \"%.2f\" %FS)\n",
    "\n",
    "array.append((name, EP, ER, FS))"
   ]
  },
  {
   "cell_type": "markdown",
   "metadata": {},
   "source": [
    "## Estratégia 2 - Busca em todas Digital Libraries + Snowballing (Guideline - sfbu)"
   ]
  },
  {
   "cell_type": "code",
   "execution_count": null,
   "metadata": {
    "collapsed": true
   },
   "outputs": [],
   "source": [
    "reload()\n",
    "filter_function = lambda x: x.category in (\"snowball\", \"forward\", \"backward\")\n",
    "\n",
    "strategy = busca_completa([\"acm\", \"scopus\", \"springer\", \"elcompendex\", \"webofscience\", \"sciencedirect\", \"ieee\"], filter_function)\n",
    "#Strategy(*busca(\"acm\",\"scopus\", filter_function=filter_function))\n",
    "\n",
    "state = strategy.sfbu()\n",
    "#state = strategy.bbff()\n",
    "#state = strategy.ffbb()\n",
    "#state = strategy.s2ffbb2u()\n",
    "\n",
    "state"
   ]
  },
  {
   "cell_type": "markdown",
   "metadata": {},
   "source": [
    "### Resumo "
   ]
  },
  {
   "cell_type": "markdown",
   "metadata": {},
   "source": [
    "#### Resumo da Busca em DL"
   ]
  },
  {
   "cell_type": "code",
   "execution_count": null,
   "metadata": {
    "collapsed": true
   },
   "outputs": [],
   "source": [
    "strategy.initial.find(\"acm\")"
   ]
  },
  {
   "cell_type": "code",
   "execution_count": null,
   "metadata": {
    "collapsed": true
   },
   "outputs": [],
   "source": [
    "# Visitados ACM\n",
    "strategy.initial.find(\"acm\").visited"
   ]
  },
  {
   "cell_type": "code",
   "execution_count": null,
   "metadata": {
    "collapsed": true
   },
   "outputs": [],
   "source": [
    "# Relacionados ACM - encontrado no seed set\n",
    "strategy.initial.find(\"webofscience\").related"
   ]
  },
  {
   "cell_type": "code",
   "execution_count": null,
   "metadata": {
    "collapsed": true
   },
   "outputs": [],
   "source": [
    "strategy.initial.find(\"scopus\")"
   ]
  },
  {
   "cell_type": "code",
   "execution_count": null,
   "metadata": {
    "collapsed": true
   },
   "outputs": [],
   "source": [
    "print(\"Visitados Scopus:\")\n",
    "strategy.initial.find(\"scopus\").visited"
   ]
  },
  {
   "cell_type": "code",
   "execution_count": null,
   "metadata": {
    "collapsed": true
   },
   "outputs": [],
   "source": [
    "print(\"Relacionados Scopus - encontrado no seed set:\")\n",
    "strategy.initial.find(\"scopus\").related"
   ]
  },
  {
   "cell_type": "code",
   "execution_count": null,
   "metadata": {
    "collapsed": true
   },
   "outputs": [],
   "source": [
    "print(\"Artigo comum a ACM e Scopus:\")\n",
    "strategy.initial.find(\"acm\").visited & strategy.initial.find(\"scopus\").visited"
   ]
  },
  {
   "cell_type": "markdown",
   "metadata": {},
   "source": [
    "#### Resumo do Snowballing"
   ]
  },
  {
   "cell_type": "code",
   "execution_count": null,
   "metadata": {
    "collapsed": true
   },
   "outputs": [],
   "source": [
    "#Total de visitados = visitados no final - visitados no início\n",
    "print (\"Total visitados:\")\n",
    "len(state.visited - state.find(\"s0\").visited)"
   ]
  },
  {
   "cell_type": "code",
   "execution_count": null,
   "metadata": {
    "collapsed": true
   },
   "outputs": [],
   "source": [
    "# Descrição dos Relacionados = relacionados no final - relacionados no início\n",
    "print (\"Total Relacionados: Lista dos que foram encontrados via Snowballing\")\n",
    "state.related - state.find(\"s0\").related"
   ]
  },
  {
   "cell_type": "code",
   "execution_count": null,
   "metadata": {
    "collapsed": true
   },
   "outputs": [],
   "source": [
    "print (\"Encontrados via somente Snowballing:\")\n",
    "diff_related = state.related - state.find(\"s2\").related\n",
    "diff_related @ metakey_title"
   ]
  },
  {
   "cell_type": "markdown",
   "metadata": {},
   "source": [
    "### Detalhamento por Estado / Aresta"
   ]
  },
  {
   "cell_type": "markdown",
   "metadata": {},
   "source": [
    "#### Estado S0"
   ]
  },
  {
   "cell_type": "markdown",
   "metadata": {},
   "source": [
    "#### Visitados"
   ]
  },
  {
   "cell_type": "code",
   "execution_count": null,
   "metadata": {
    "collapsed": true
   },
   "outputs": [],
   "source": [
    "#S0 - Visitados\n",
    "print(\"Visitados no Estado 0:\")\n",
    "state.find(\"s0\").visited"
   ]
  },
  {
   "cell_type": "markdown",
   "metadata": {},
   "source": [
    "#### Relacionados - Seed Set"
   ]
  },
  {
   "cell_type": "code",
   "execution_count": null,
   "metadata": {
    "collapsed": true
   },
   "outputs": [],
   "source": [
    "#S0 - Relacionados - Encontrados via busca e que existem na lista dos Incluídos da SLR existente - são os seed set!\n",
    "print(\"Relacionados no Estado 0: Seed Set\")\n",
    "state.find(\"s0\").related @ metakey_title"
   ]
  },
  {
   "cell_type": "markdown",
   "metadata": {},
   "source": [
    "#### Aresta s0 -> s2 (Backward - Iteração 1)"
   ]
  },
  {
   "cell_type": "code",
   "execution_count": null,
   "metadata": {
    "collapsed": true
   },
   "outputs": [],
   "source": [
    "# S2 - Backward (Found) - Visitados na iteração 1\n",
    "print(\"Backward - Qtd Referencias dos artigos visitados para chegar ao Estado 2, a partir do Estado 0:\")\n",
    "state.find(\"s2\").delta_visited"
   ]
  },
  {
   "cell_type": "code",
   "execution_count": null,
   "metadata": {
    "collapsed": true
   },
   "outputs": [],
   "source": [
    "# S2 - Backward (Related) - Encontrados na iteração 1, via snowballing, que não foi encontrado via busca para o seed set.\n",
    "print(\"Relacionados encontrados via Backward, para chegar ao Estado 2, a partir do Estado 0:\")\n",
    "state.find(\"s2\").delta_related @ metakey_title"
   ]
  },
  {
   "cell_type": "markdown",
   "metadata": {},
   "source": [
    "#### Aresta s0 -> s1 (Forward - Iteração 1)"
   ]
  },
  {
   "cell_type": "code",
   "execution_count": null,
   "metadata": {
    "collapsed": true
   },
   "outputs": [],
   "source": [
    "# S1 - Forward (Related) - Encontrados na iteração 1\n",
    "print(\"Relacionados encontrados via Forward, para chegar ao Estado 1, a partir do Estado 0:\")\n",
    "state.find(\"s1\").delta_related @ metakey_title"
   ]
  },
  {
   "cell_type": "markdown",
   "metadata": {},
   "source": [
    "#### Relacionados - Encontrados Via Backward e Forward"
   ]
  },
  {
   "cell_type": "code",
   "execution_count": null,
   "metadata": {
    "collapsed": true
   },
   "outputs": [],
   "source": [
    "state"
   ]
  },
  {
   "cell_type": "code",
   "execution_count": null,
   "metadata": {
    "collapsed": true
   },
   "outputs": [],
   "source": [
    "# Quantidade de artigo que existe em mais de uma biblioteca, após a união, no Estado S0, Ex, existe 1 artigo em acm e scopus.\n",
    "state.find(\"s0\").previous[0][1]\n",
    "\n",
    "(len(strategy.initial.find(\"acm\").visited) + len(strategy.initial.find(\"scopus\").visited) + len(strategy.initial.find(\"elcompendex\").visited) + len(strategy.initial.find(\"springer\").visited) + len(strategy.initial.find(\"webofscience\").visited) + len(strategy.initial.find(\"sciencedirect\").visited)) - len(state.find(\"s0\").visited)"
   ]
  },
  {
   "cell_type": "code",
   "execution_count": null,
   "metadata": {
    "collapsed": true
   },
   "outputs": [],
   "source": [
    "# Artigos encontrados via Backward e Forward - Foi incluído kitchenham 2007a como Snowball para o teste.\n",
    "print (\"Encontrados via Backward e Forward:\")\n",
    "separa_backward_forward(state) @ metakey_title"
   ]
  },
  {
   "cell_type": "code",
   "execution_count": null,
   "metadata": {
    "collapsed": true
   },
   "outputs": [],
   "source": []
  },
  {
   "cell_type": "code",
   "execution_count": null,
   "metadata": {
    "collapsed": true
   },
   "outputs": [],
   "source": [
    "def duplicados(strategy, state):\n",
    "    encontrados = set()\n",
    "    result = set()\n",
    "    soma = 0\n",
    "    related = state.related - state.find(\"s0\").related\n",
    "    for work in state.related:\n",
    "        inter = encontrados & (set(strategy.ref[work]) & related)\n",
    "        if inter:\n",
    "            soma += len(inter)\n",
    "            encontrados |= inter\n",
    "            print(work @ metakey, \"backward\", inter @ metakey)\n",
    "        inter = encontrados & (set(strategy.rev_ref[work]) & related)\n",
    "        if inter:\n",
    "            soma += len(inter)\n",
    "            encontrados |= inter\n",
    "            print(work @ metakey, \"forward\", inter @ metakey)\n",
    "    return soma"
   ]
  },
  {
   "cell_type": "code",
   "execution_count": null,
   "metadata": {
    "collapsed": true
   },
   "outputs": [],
   "source": [
    "strategy.forward??"
   ]
  },
  {
   "cell_type": "code",
   "execution_count": null,
   "metadata": {
    "collapsed": true
   },
   "outputs": [],
   "source": [
    "duplicados(strategy, state)"
   ]
  },
  {
   "cell_type": "code",
   "execution_count": null,
   "metadata": {
    "collapsed": true
   },
   "outputs": [],
   "source": [
    "sets = separa_backward_forward(state)\n",
    "sets = encontraria(strategy, state)\n",
    "v = venn2(sets, set_labels = ('Backward', 'Forward'))\n",
    "c = venn2_circles(sets)\n",
    "plt.title('Diagrama de Venn')\n",
    "plt.show()"
   ]
  },
  {
   "cell_type": "code",
   "execution_count": null,
   "metadata": {
    "collapsed": true
   },
   "outputs": [],
   "source": [
    "#Backward - Execução de backward em sets[0]\n",
    "print(\"Backward\", sets[0] @ metakey)\n",
    "print(\"Forward\", sets[1] @ metakey)"
   ]
  },
  {
   "cell_type": "code",
   "execution_count": null,
   "metadata": {
    "collapsed": true
   },
   "outputs": [],
   "source": [
    "state.find(\"s0\").related @ metakey"
   ]
  },
  {
   "cell_type": "code",
   "execution_count": null,
   "metadata": {
    "collapsed": true
   },
   "outputs": [],
   "source": [
    "#x = v.get_patch_by_id('100')"
   ]
  },
  {
   "cell_type": "code",
   "execution_count": null,
   "metadata": {
    "collapsed": true
   },
   "outputs": [],
   "source": [
    "#x.set_linestyle = \"black\""
   ]
  },
  {
   "cell_type": "code",
   "execution_count": null,
   "metadata": {
    "collapsed": true
   },
   "outputs": [],
   "source": [
    "#[x.metakey for x in state.find(\"s0\").related]"
   ]
  },
  {
   "cell_type": "markdown",
   "metadata": {},
   "source": [
    "#### Execução de Backward (Aresta S0 -> S2) em cada artigo relacionado do S0"
   ]
  },
  {
   "cell_type": "code",
   "execution_count": null,
   "metadata": {
    "collapsed": true
   },
   "outputs": [],
   "source": [
    "print(\"Descreve o S0 -> S2:\\n Execução de Backward em cada artigo do related \\n\")\n",
    "descreve_delta(strategy, state, \"s2\")"
   ]
  },
  {
   "cell_type": "markdown",
   "metadata": {},
   "source": [
    "#### Execução de Forward em cada artigo relacionado do S1"
   ]
  },
  {
   "cell_type": "code",
   "execution_count": null,
   "metadata": {
    "collapsed": true
   },
   "outputs": [],
   "source": [
    "print(\"Descreve o S0 -> S1:\\n Execução de Forward em cada artigo do related \\n\")\n",
    "descreve_delta(strategy, state, \"s1\")"
   ]
  },
  {
   "cell_type": "markdown",
   "metadata": {},
   "source": [
    "#### Resumo do Precision e Recall"
   ]
  },
  {
   "cell_type": "code",
   "execution_count": null,
   "metadata": {
    "collapsed": true
   },
   "outputs": [],
   "source": [
    "E2P = len (strategy.initial.related) / len (strategy.initial.visited)\n",
    "#print (len (strategy.initial.related))\n",
    "#print (len (strategy.initial.visited))\n",
    "#print (E2P)\n",
    "print (\"Precision na Busca E2: %.2f%%\" % E2P)\n",
    "\n",
    "#print (\"Precision no Snowballing - E2:\")\n",
    "#print(len(state.related - state.find(\"s0\").related))\n",
    "#print(len(state.visited - state.find(\"s0\").visited))\n",
    "\n",
    "E2PS = len(state.related - state.find(\"s0\").related) / len(state.visited - state.find(\"s0\").visited)\n",
    "\n",
    "print (\"\\n\"\"Precision no Snowballing E2: %.2f%%\" % E2PS)\n",
    "\n",
    "print(\"Precision no Snowballing E2 - Forward - 1 iteração: %.2f%%\" % (len (state.find(\"s1\").delta_related) / len (state.find(\"s1\").delta_visited)))\n",
    "\n",
    "print(\"Precision no Snowballing E2 - Backward - 1 iteração: %.2f%%\" % (len (state.find(\"s2\").delta_related) / len (state.find(\"s2\").delta_visited)))\n",
    "\n",
    "print(\"\\n\"\"Precision E2 (Busca + Snowballing): %.2f%%\" % (len(state.related) / len(state.visited)))\n",
    "\n",
    "#len (state.find(\"s1\").related)\n",
    "\n",
    "#len (state.find(\"s1\").delta_related)\n",
    "#len (state.find(\"s1\").delta_visited)\n",
    "\n",
    "\n",
    "name = \"E2\"\n",
    "print (\"Precision \" + name)\n",
    "EP = len (state.related) / len (state.visited)\n",
    "print (EP)\n",
    "print (\"Recall \" + name)\n",
    "ER = len (state.related) / len (TOTAL)\n",
    "print (ER)\n",
    "print (\"F-measure \" + name)\n",
    "FS = 2*((EP*ER)/(EP+ER))\n",
    "print (FS)\n",
    "\n",
    "array.append((name, EP, ER, FS))\n"
   ]
  },
  {
   "cell_type": "code",
   "execution_count": null,
   "metadata": {
    "collapsed": true
   },
   "outputs": [],
   "source": [
    "import statistics as s\n",
    "s.harmonic_mean([])"
   ]
  },
  {
   "cell_type": "code",
   "execution_count": null,
   "metadata": {
    "collapsed": true
   },
   "outputs": [],
   "source": [
    "import statistics as s\n",
    "from collections import deque\n",
    "def precision_recall(state, total, stop=\"\"):\n",
    "    # Precisao 0 quando nao visita nada\n",
    "    array = [[\n",
    "        \"state\", \"precision\", \"recall\", \"fmeasure\", \"operation\", \n",
    "        \"related\", \"visited\", \"delta_related\", \"delta_visited\",\n",
    "        \"accumulated_precision\", \"accumulated_recall\", \"accumulated_fmeasure\"\n",
    "    ]]\n",
    "    stack = deque([state])\n",
    "    visited = {id(state)}\n",
    "    while stack:\n",
    "        current = stack.pop()\n",
    "        accumulated_recall = len(current.related) / len(total)\n",
    "        recall = len(current.delta_related) / len(total)\n",
    "        try:\n",
    "            accumulated_precision = len(current.related) / len(current.visited)\n",
    "            precision = len(current.delta_related) / len(current.delta_visited)\n",
    "        except ZeroDivisionError:\n",
    "            precision = float('nan')\n",
    "        try:\n",
    "            accumulated_fmeasure = s.harmonic_mean([accumulated_precision, accumulated_recall])\n",
    "            fmeasure = s.harmonic_mean([precision, recall])\n",
    "        except ZeroDivisionError:\n",
    "            fmeasure = float('nan')\n",
    "            \n",
    "            \n",
    "        array.append([\n",
    "            current.name,\n",
    "            precision,\n",
    "            recall,\n",
    "            fmeasure,\n",
    "            current.previous[1] if current.previous else \"-\",\n",
    "            len(current.related),\n",
    "            len(current.visited),\n",
    "            len(current.delta_related),\n",
    "            len(current.delta_visited),\n",
    "            accumulated_precision,\n",
    "            accumulated_recall,\n",
    "            accumulated_fmeasure,\n",
    "        ])\n",
    "        if current.name == stop:\n",
    "            break\n",
    "        if current.previous:              \n",
    "            antecessors = current.previous[0]\n",
    "            for previous in antecessors:\n",
    "                if id(previous) not in visited:\n",
    "                    visited.add(id(previous))\n",
    "                    stack.appendleft(previous)\n",
    "    return array"
   ]
  },
  {
   "cell_type": "code",
   "execution_count": null,
   "metadata": {
    "collapsed": true
   },
   "outputs": [],
   "source": [
    "df = pd.DataFrame(list(reversed(precision_recall(state, TOTAL))))\n",
    "df.columns = df.iloc[-1]\n",
    "df = df.drop(df.index[-1])\n",
    "df"
   ]
  },
  {
   "cell_type": "code",
   "execution_count": null,
   "metadata": {
    "collapsed": true
   },
   "outputs": [],
   "source": [
    "df[\"state\"]  + \"\\n\" + df[\"operation\"]"
   ]
  },
  {
   "cell_type": "code",
   "execution_count": null,
   "metadata": {
    "collapsed": true
   },
   "outputs": [],
   "source": [
    "fig = plt.figure()\n",
    "df['precision'].plot(legend=True)\n",
    "df['recall'].plot(legend=True)\n",
    "df['fmeasure'].plot(legend=True)\n",
    "ax = plt.gca()\n",
    "ax.set_xticklabels(df[\"state\"] + \"\\n\" + df[\"operation\"])\n",
    "ax.set_title(\"By State\");\n",
    "plt.xticks(np.arange(0, len(df), 1.0), rotation='vertical')\n",
    "plt.xlabel(\"State\\nOperation\")\n",
    "plt.tight_layout()"
   ]
  },
  {
   "cell_type": "code",
   "execution_count": null,
   "metadata": {
    "collapsed": true
   },
   "outputs": [],
   "source": []
  },
  {
   "cell_type": "code",
   "execution_count": null,
   "metadata": {
    "collapsed": true
   },
   "outputs": [],
   "source": [
    "fig = plt.figure()\n",
    "df['accumulated_precision'].plot(legend=True)\n",
    "df['accumulated_recall'].plot(legend=True)\n",
    "df['accumulated_fmeasure'].plot(legend=True)\n",
    "ax = plt.gca()\n",
    "ax.set_xticklabels(df[\"state\"] + \"\\n\" + df[\"operation\"])\n",
    "plt.xticks(np.arange(0, len(df), 1.0), rotation='vertical')\n",
    "plt.xlabel(\"State\\nOperation\")\n",
    "ax.set_title(\"Accumulated\");\n",
    "plt.tight_layout()"
   ]
  },
  {
   "cell_type": "markdown",
   "metadata": {},
   "source": [
    "## Estratégia 3 - Busca Informal (Google Scholar) + Snowballing (Guideline - sfbu)"
   ]
  },
  {
   "cell_type": "code",
   "execution_count": null,
   "metadata": {
    "collapsed": true
   },
   "outputs": [],
   "source": [
    "reload()\n",
    "filter_function = lambda x: x.category in (\"snowball\", \"forward\", \"backward\")\n",
    "\n",
    "strategy = Strategy(*busca(\"gs\", filter_function=filter_function))\n",
    "state = strategy.sfbu()\n",
    "state"
   ]
  },
  {
   "cell_type": "code",
   "execution_count": null,
   "metadata": {
    "collapsed": true
   },
   "outputs": [],
   "source": [
    "name = \"E3\"\n",
    "print (\"Precision \" + name)\n",
    "EP = len (state.related) / len (state.visited)\n",
    "print (EP)\n",
    "print (\"Recall \" + name)\n",
    "ER = len (state.related) / len (TOTAL)\n",
    "print (ER)\n",
    "\n",
    "print (\"F-measure \" + name)\n",
    "FS = 2*((EP*ER)/(EP+ER))\n",
    "print (FS)\n",
    "\n",
    "array.append((name, EP, ER, FS))"
   ]
  },
  {
   "cell_type": "markdown",
   "metadata": {},
   "source": [
    "\n",
    "## Estratégia 4 - Busca em Scopus + Snowballing (Guideline - sfbu)"
   ]
  },
  {
   "cell_type": "code",
   "execution_count": null,
   "metadata": {
    "collapsed": true
   },
   "outputs": [],
   "source": [
    "reload()\n",
    "filter_function = lambda x: x.category in (\"snowball\", \"forward\", \"backward\")\n",
    "\n",
    "strategy = Strategy(*busca(\"scopus\", filter_function=filter_function))\n",
    "\n",
    "#from copy import copy\n",
    "#strategy.initial.visited = copy(strategy.initial.related)\n",
    "state = strategy.sfbu()\n",
    "state"
   ]
  },
  {
   "cell_type": "code",
   "execution_count": null,
   "metadata": {
    "collapsed": true,
    "scrolled": false
   },
   "outputs": [],
   "source": [
    "descreve_delta(strategy, state, \"s2\")\n"
   ]
  },
  {
   "cell_type": "code",
   "execution_count": null,
   "metadata": {
    "collapsed": true
   },
   "outputs": [],
   "source": [
    "texto = \"\"\"backward becker2008a\n",
    "- weber2005a \n",
    "- hierholzer1998a \n",
    "- debou1999a \n",
    "- liu2005a \n",
    "- yamamura1999a \n",
    "- cox1992a \n",
    "- grady1997a \n",
    "- biró1999a \n",
    "- mccoy1998a \n",
    "- dyba2005a \n",
    "- humphrey1989b \n",
    "- paulk1993a \n",
    "- chrissis2003a \n",
    "- zaijun2005a \n",
    "- peterson1995a \n",
    "- brodman1995a \n",
    "- akao1990a \n",
    "- pitterman2000a \n",
    "- pulford1996a \n",
    "- montoni2007a \n",
    "- yin2003a \n",
    "- isoiec2003a \n",
    "- zahran1998a \n",
    "- niazi2003a \n",
    "backward martins2008a\n",
    "- arthur1993a \n",
    "- isoiec1998a \n",
    "- salo2005a \n",
    "- krasner1997a \n",
    "- kuvaja1994a \n",
    "- cmm2002a \n",
    "- isoiec1998c \n",
    "- isoiec1998b \n",
    "- emam1999a \n",
    "- pfleeger1994a \n",
    "- solingen1999a \n",
    "- paulk1993a \n",
    "- vertage1994a \n",
    "- martins2007b \n",
    "backward reiblein1997a\n",
    "- kaplan1993a \n",
    "- miller1995a \n",
    "- trade1992a \n",
    "- hinley1997a \n",
    "- vlasveld1995a \n",
    "- deming1986a \n",
    "- group1997a \n",
    "- iso1994b \n",
    "- itil1989a \n",
    "- iso1994a \n",
    "- cmm1993a \n",
    "- humphrey1989a \n",
    "- isoies1997a \n",
    "- kaplan1996b \n",
    "backward albuquerque2009a\n",
    "- birk2002a \n",
    "- stalhane2004a \n",
    "- prahalad1999a \n",
    "- softex2009a \n",
    "- boehm2000b \n",
    "- cmusei2006a \n",
    "- nollen2008a \n",
    "- salo2005b \n",
    "- wright2000a \n",
    "- isoiec2004a \n",
    "- lawrence2001a \n",
    "- reed2000a \n",
    "- cater2004a \n",
    "- dybå2003b \n",
    "- birk1998a \n",
    "- bardin1977a \n",
    "- hefner2001a \n",
    "- thompson2000a \n",
    "- kim1995a \n",
    "- isoiec2004b \n",
    "- alloui2000a \n",
    "- caivano2005a \n",
    "- mcnair1990a \n",
    "- kaplan2000a \n",
    "- adams1993a \n",
    "- komi2004a \n",
    "- martins2007b \n",
    "backward kaneko2011a\n",
    "- kathuria2007a \n",
    "- isaca2005a \n",
    "- kaplan1992a \n",
    "- basili2009a \n",
    "- basili2007b \n",
    "- becker1999a \n",
    "- isaca2008a \n",
    "- ogc2002a \n",
    "- basili1992a \n",
    "- jaxa2012a \n",
    "- kowalczyk2010a \n",
    "backward guzmán2010a\n",
    "- ebert2007a \n",
    "- mcgarry2002a \n",
    "- goethert2004a \n",
    "- kaplan2008a \n",
    "- chastek2009a \n",
    "- tuan2006a \n",
    "- basili2009b \n",
    "- el2007a \n",
    "- sei2006b \n",
    "- kojima2008a \n",
    "- mishra2008a \n",
    "- long2008a \n",
    "- watson2007a \n",
    "- kanji2007a \n",
    "- oliveira2009a \n",
    "- porter1979a \n",
    "- lamb1984a \n",
    "- isoiec2007a \n",
    "- asgarkhani2006a \n",
    "- harjumaa2008a \n",
    "- mcloone2007a \n",
    "- mehra2004a \n",
    "- kamel2009a \n",
    "- card2003a \n",
    "- neergaard2007a \n",
    "- basili2010a related\n",
    "- kaplan2005a \n",
    "- gopal2005a \n",
    "- peng2007a \n",
    "- kahraman2007a \n",
    "- isoiec2004a \n",
    "- fahey2007a \n",
    "- kaplan2006a \n",
    "- trienekens2009a related\n",
    "- dyba2005a \n",
    "- shull2006a \n",
    "- el2001a \n",
    "- qi2007a \n",
    "- issac2006a \n",
    "- isoiec2008a \n",
    "- kaplan1997a \n",
    "- kuppusamy2008a \n",
    "- capell2004a \n",
    "- goethert2003a \n",
    "backward wilkie2007a\n",
    "- iso2006a \n",
    "- anacleto2004b \n",
    "- wilkie2005a \n",
    "- mcfeeley1996a \n",
    "- anacleto2004a \n",
    "- makinen2000a \n",
    "- caffery2004a \n",
    "- sei2004a \n",
    "- wilkie2004a \n",
    "- cspt2003a \n",
    "- institute2005a \n",
    "- chrissis2003a \n",
    "- ISOIEC2006a \n",
    "- caffery2005a \n",
    "- mcfall2003a \n",
    "- sei2005a \n",
    "- paulk1995a \n",
    "- cignoni1999a \n",
    "- team2007a \n",
    "- rout2001a \n",
    "backward plösch2011a\n",
    "- shewhart1931a \n",
    "- isoiec2003b \n",
    "- simon2002a \n",
    "- venzin2003a \n",
    "- cmmi2006a \n",
    "- mcfeeley1996a \n",
    "- isoiec1998d \n",
    "- dion1993a\"\"\""
   ]
  },
  {
   "cell_type": "code",
   "execution_count": null,
   "metadata": {
    "collapsed": true
   },
   "outputs": [],
   "source": [
    "conjuntos = [set(x.split(\"-\")[1:]) for x in texto.split(\"backward\")[1:]]"
   ]
  },
  {
   "cell_type": "code",
   "execution_count": null,
   "metadata": {
    "collapsed": true
   },
   "outputs": [],
   "source": [
    "conjuntos[0] & conjuntos[1]"
   ]
  },
  {
   "cell_type": "code",
   "execution_count": null,
   "metadata": {
    "collapsed": true
   },
   "outputs": [],
   "source": [
    "name = \"E4\"\n",
    "print (\"Precision \" + name)\n",
    "EP = len (state.related) / len (state.visited)\n",
    "print (EP)\n",
    "print (\"Recall \" + name)\n",
    "ER = len (state.related) / len (TOTAL)\n",
    "print (ER)\n",
    "\n",
    "print (\"F-measure \" + name)\n",
    "FS = 2*((EP*ER)/(EP+ER))\n",
    "print (FS)\n",
    "\n",
    "array.append((name, EP, ER, FS))"
   ]
  },
  {
   "cell_type": "code",
   "execution_count": null,
   "metadata": {
    "collapsed": true
   },
   "outputs": [],
   "source": [
    "state.find(\"s0\").related"
   ]
  },
  {
   "cell_type": "code",
   "execution_count": null,
   "metadata": {
    "collapsed": true
   },
   "outputs": [],
   "source": [
    "state.find(\"s2\").related"
   ]
  },
  {
   "cell_type": "code",
   "execution_count": null,
   "metadata": {
    "collapsed": true
   },
   "outputs": [],
   "source": [
    "state.find(\"s0\").visited"
   ]
  },
  {
   "cell_type": "code",
   "execution_count": null,
   "metadata": {
    "collapsed": true
   },
   "outputs": [],
   "source": [
    "# Com backward de mendes2004a é possível encontrar 2 (resultado da celula)\n",
    "state.related & set(strategy.ref[work_by_varname(\"mendes2004a\")])"
   ]
  },
  {
   "cell_type": "code",
   "execution_count": null,
   "metadata": {
    "collapsed": true
   },
   "outputs": [],
   "source": [
    "# Com backward de ... em S2, encontrou 1 (resultado da celula)\n",
    "state.find(\"s2\").delta_related & set(strategy.ref[work_by_varname(\"mendes2004a\")])"
   ]
  },
  {
   "cell_type": "code",
   "execution_count": null,
   "metadata": {
    "collapsed": true
   },
   "outputs": [],
   "source": [
    "# Com forward de ... em S1, encontrou 1 (resultado da celula)\n",
    "state.find(\"s1\").delta_related & set(strategy.rev_ref[work_by_varname(\"mendes2004a\")])"
   ]
  },
  {
   "cell_type": "code",
   "execution_count": null,
   "metadata": {
    "collapsed": true
   },
   "outputs": [],
   "source": [
    "len(state.find(\"s1\").delta_visited)"
   ]
  },
  {
   "cell_type": "code",
   "execution_count": null,
   "metadata": {
    "collapsed": true
   },
   "outputs": [],
   "source": [
    "#len(state.find(\"s1\").delta_visited & set(strategy.rev_ref[work_by_varname(\"mendes2004a\")]))\n",
    "# forward\n",
    "len(set(strategy.rev_ref[work_by_varname(\"mendes2004a\")]))"
   ]
  },
  {
   "cell_type": "code",
   "execution_count": null,
   "metadata": {
    "collapsed": true
   },
   "outputs": [],
   "source": [
    "# backward\n",
    "len(set(strategy.ref[work_by_varname(\"mendes2004a\")]))"
   ]
  },
  {
   "cell_type": "code",
   "execution_count": null,
   "metadata": {
    "collapsed": true
   },
   "outputs": [],
   "source": [
    "search_state = strategy.initial\n",
    "search_state.related"
   ]
  },
  {
   "cell_type": "markdown",
   "metadata": {},
   "source": [
    "## Estratégia 5 - Busca em Scopus + Snowballing (Short Paper - s2ffbb2u)"
   ]
  },
  {
   "cell_type": "code",
   "execution_count": null,
   "metadata": {
    "collapsed": true
   },
   "outputs": [],
   "source": [
    "reload()\n",
    "filter_function = lambda x: x.category in (\"snowball\", \"forward\", \"backward\")\n",
    "\n",
    "strategy = Strategy(*busca(\"scopus\", filter_function=filter_function))\n",
    "state = strategy.s2bbff2u()\n",
    "state"
   ]
  },
  {
   "cell_type": "code",
   "execution_count": null,
   "metadata": {
    "collapsed": true
   },
   "outputs": [],
   "source": [
    "name = \"E5\"\n",
    "print (\"Precision \" + name)\n",
    "EP = len (state.related) / len (state.visited)\n",
    "print (EP)\n",
    "print (\"Recall \" + name)\n",
    "ER = len (state.related) / len (TOTAL)\n",
    "print (ER)\n",
    "\n",
    "print (\"F-measure \" + name)\n",
    "FS = 2*((EP*ER)/(EP+ER))\n",
    "print (FS)\n",
    "\n",
    "array.append((name, EP, ER, FS))"
   ]
  },
  {
   "cell_type": "code",
   "execution_count": null,
   "metadata": {
    "collapsed": true
   },
   "outputs": [],
   "source": [
    "state.find(\"s0\").related "
   ]
  },
  {
   "cell_type": "code",
   "execution_count": null,
   "metadata": {
    "collapsed": true
   },
   "outputs": [],
   "source": [
    "state.find(\"s1\").related "
   ]
  },
  {
   "cell_type": "code",
   "execution_count": null,
   "metadata": {
    "collapsed": true
   },
   "outputs": [],
   "source": [
    "state.find(\"s3\").related "
   ]
  },
  {
   "cell_type": "code",
   "execution_count": null,
   "metadata": {
    "collapsed": true
   },
   "outputs": [],
   "source": [
    "sx, sy = state.previous[0]\n",
    "\n",
    "sx.related & sy.related\n"
   ]
  },
  {
   "cell_type": "code",
   "execution_count": null,
   "metadata": {
    "collapsed": true
   },
   "outputs": [],
   "source": [
    "sx.name"
   ]
  },
  {
   "cell_type": "code",
   "execution_count": null,
   "metadata": {
    "collapsed": true
   },
   "outputs": [],
   "source": [
    "sy.name"
   ]
  },
  {
   "cell_type": "code",
   "execution_count": null,
   "metadata": {
    "collapsed": true
   },
   "outputs": [],
   "source": [
    "# Artigos encontrados via Backward e Forward - Foi incluído kitchenham 2007a como Snowball para o teste.\n",
    "print (\"Encontrados via Backward e Forward:\")\n",
    "separa_backward_forward(state) @ metakey_title"
   ]
  },
  {
   "cell_type": "code",
   "execution_count": null,
   "metadata": {
    "collapsed": true
   },
   "outputs": [],
   "source": [
    "# S1 - Forward (Related) - Encontrados na iteração 1\n",
    "print(\"Relacionados encontrados via Forward, para chegar ao Estado 1, a partir do Estado 0:\")\n",
    "state.find(\"s1\").delta_related @ metakey_title"
   ]
  },
  {
   "cell_type": "markdown",
   "metadata": {},
   "source": [
    "## Estratégia 6 - Busca em Scopus + Snowballing (JF - bbff)"
   ]
  },
  {
   "cell_type": "code",
   "execution_count": null,
   "metadata": {
    "collapsed": true
   },
   "outputs": [],
   "source": [
    "reload()\n",
    "filter_function = lambda x: x.category in (\"snowball\", \"forward\", \"backward\")\n",
    "\n",
    "strategy = Strategy(*busca(\"scopus\", filter_function=filter_function))\n",
    "state = strategy.bbff()\n",
    "state"
   ]
  },
  {
   "cell_type": "code",
   "execution_count": null,
   "metadata": {
    "collapsed": true
   },
   "outputs": [],
   "source": [
    "strategy._repeat??"
   ]
  },
  {
   "cell_type": "code",
   "execution_count": null,
   "metadata": {
    "collapsed": true
   },
   "outputs": [],
   "source": [
    "name = \"E6\"\n",
    "print (\"Precision \" + name)\n",
    "EP = len (state.related) / len (state.visited)\n",
    "print (EP)\n",
    "print (\"Recall \" + name)\n",
    "ER = len (state.related) / len (TOTAL)\n",
    "print (ER)\n",
    "\n",
    "print (\"F-measure \" + name)\n",
    "FS = 2*((EP*ER)/(EP+ER))\n",
    "print (FS)\n",
    "\n",
    "array.append((name, EP, ER, FS))"
   ]
  },
  {
   "cell_type": "markdown",
   "metadata": {},
   "source": [
    "## Estratégia 7 - Busca em Scopus + Snowballing (JF - ffbb)"
   ]
  },
  {
   "cell_type": "code",
   "execution_count": null,
   "metadata": {
    "collapsed": true
   },
   "outputs": [],
   "source": [
    "reload()\n",
    "filter_function = lambda x: x.category in (\"snowball\", \"forward\", \"backward\")\n",
    "\n",
    "strategy = Strategy(*busca(\"scopus\", filter_function=filter_function))\n",
    "state = strategy.ffbb()\n",
    "state"
   ]
  },
  {
   "cell_type": "code",
   "execution_count": null,
   "metadata": {
    "collapsed": true
   },
   "outputs": [],
   "source": [
    "name = \"E7\"\n",
    "print (\"Precision \" + name)\n",
    "EP = len (state.related) / len (state.visited)\n",
    "print (EP)\n",
    "print (\"Recall \" + name)\n",
    "ER = len (state.related) / len (TOTAL)\n",
    "print (ER)\n",
    "\n",
    "print (\"F-measure \" + name)\n",
    "FS = 2*((EP*ER)/(EP+ER))\n",
    "print (FS)\n",
    "\n",
    "array.append((name, EP, ER, FS))"
   ]
  },
  {
   "cell_type": "markdown",
   "metadata": {},
   "source": [
    "# Análise das Estratégias"
   ]
  },
  {
   "cell_type": "code",
   "execution_count": null,
   "metadata": {
    "collapsed": true
   },
   "outputs": [],
   "source": [
    "%matplotlib notebook\n",
    "import pandas as pd"
   ]
  },
  {
   "cell_type": "code",
   "execution_count": null,
   "metadata": {
    "collapsed": true
   },
   "outputs": [],
   "source": [
    "df = pd.DataFrame (array,columns = ['Estratégia','Precision','Recall','F-Measure'])\n",
    "df.index = df['Estratégia']\n",
    "df"
   ]
  },
  {
   "cell_type": "code",
   "execution_count": null,
   "metadata": {
    "collapsed": true,
    "scrolled": false
   },
   "outputs": [],
   "source": [
    "import matplotlib.pyplot as plt\n",
    "ax = df.plot.bar(title =\"Precision e Recall das Estratégias\")\n",
    "plt.tight_layout()\n"
   ]
  },
  {
   "cell_type": "code",
   "execution_count": null,
   "metadata": {
    "collapsed": true
   },
   "outputs": [],
   "source": [
    "df"
   ]
  },
  {
   "cell_type": "code",
   "execution_count": null,
   "metadata": {
    "collapsed": true
   },
   "outputs": [],
   "source": [
    "#df.to_csv(\"estrategias.csv\")\n",
    "df.to_excel(\"estrategias.xlsx\")"
   ]
  },
  {
   "cell_type": "markdown",
   "metadata": {
    "collapsed": true
   },
   "source": [
    "# Individual"
   ]
  },
  {
   "cell_type": "code",
   "execution_count": 10,
   "metadata": {},
   "outputs": [
    {
     "name": "stdout",
     "output_type": "stream",
     "text": [
      "{Linking software development and business strategy through measurement}\n"
     ]
    },
    {
     "data": {
      "image/svg+xml": [
       "<?xml version=\"1.0\" encoding=\"UTF-8\" standalone=\"no\"?>\r\n",
       "<!DOCTYPE svg PUBLIC \"-//W3C//DTD SVG 1.1//EN\"\r\n",
       " \"http://www.w3.org/Graphics/SVG/1.1/DTD/svg11.dtd\">\r\n",
       "<!-- Generated by graphviz version 2.38.0 (20140413.2041)\r\n",
       " -->\r\n",
       "<!-- Title: G Pages: 1 -->\r\n",
       "<svg width=\"2852pt\" height=\"272pt\"\r\n",
       " viewBox=\"0.00 0.00 2851.68 271.95\" xmlns=\"http://www.w3.org/2000/svg\" xmlns:xlink=\"http://www.w3.org/1999/xlink\">\r\n",
       "<g id=\"graph0\" class=\"graph\" transform=\"scale(1 1) rotate(0) translate(4 267.953)\">\r\n",
       "<title>G</title>\r\n",
       "<polygon fill=\"white\" stroke=\"none\" points=\"-4,4 -4,-267.953 2847.68,-267.953 2847.68,4 -4,4\"/>\r\n",
       "<!-- s21 -->\r\n",
       "<g id=\"node1\" class=\"node\"><title>s21</title>\r\n",
       "<ellipse fill=\"none\" stroke=\"black\" cx=\"2782.87\" cy=\"-90.4767\" rx=\"60.623\" ry=\"37.4533\"/>\r\n",
       "<text text-anchor=\"middle\" x=\"2782.87\" y=\"-101.777\" font-family=\"Times New Roman,serif\" font-size=\"14.00\">s21</text>\r\n",
       "<text text-anchor=\"middle\" x=\"2782.87\" y=\"-86.7767\" font-family=\"Times New Roman,serif\" font-size=\"14.00\">visited: 1028</text>\r\n",
       "<text text-anchor=\"middle\" x=\"2782.87\" y=\"-71.7767\" font-family=\"Times New Roman,serif\" font-size=\"14.00\">related: 36</text>\r\n",
       "</g>\r\n",
       "<!-- s19 -->\r\n",
       "<g id=\"node2\" class=\"node\"><title>s19</title>\r\n",
       "<ellipse fill=\"none\" stroke=\"black\" cx=\"2594.25\" cy=\"-130.477\" rx=\"60.623\" ry=\"37.4533\"/>\r\n",
       "<text text-anchor=\"middle\" x=\"2594.25\" y=\"-141.777\" font-family=\"Times New Roman,serif\" font-size=\"14.00\">s19</text>\r\n",
       "<text text-anchor=\"middle\" x=\"2594.25\" y=\"-126.777\" font-family=\"Times New Roman,serif\" font-size=\"14.00\">visited: 1006</text>\r\n",
       "<text text-anchor=\"middle\" x=\"2594.25\" y=\"-111.777\" font-family=\"Times New Roman,serif\" font-size=\"14.00\">related: 36</text>\r\n",
       "</g>\r\n",
       "<!-- s21&#45;&gt;s19 -->\r\n",
       "<g id=\"edge1\" class=\"edge\"><title>s21&#45;&gt;s19</title>\r\n",
       "<path fill=\"none\" stroke=\"black\" d=\"M2725.12,-102.641C2705.21,-106.907 2682.67,-111.739 2662.02,-116.165\"/>\r\n",
       "<polygon fill=\"black\" stroke=\"black\" points=\"2661.1,-112.783 2652.05,-118.301 2662.57,-119.628 2661.1,-112.783\"/>\r\n",
       "<text text-anchor=\"middle\" x=\"2688.56\" y=\"-116.277\" font-family=\"Times New Roman,serif\" font-size=\"14.00\">union</text>\r\n",
       "</g>\r\n",
       "<!-- s20 -->\r\n",
       "<g id=\"node3\" class=\"node\"><title>s20</title>\r\n",
       "<ellipse fill=\"none\" stroke=\"black\" cx=\"2594.25\" cy=\"-37.4767\" rx=\"60.623\" ry=\"37.4533\"/>\r\n",
       "<text text-anchor=\"middle\" x=\"2594.25\" y=\"-48.7767\" font-family=\"Times New Roman,serif\" font-size=\"14.00\">s20</text>\r\n",
       "<text text-anchor=\"middle\" x=\"2594.25\" y=\"-33.7767\" font-family=\"Times New Roman,serif\" font-size=\"14.00\">visited: 1027</text>\r\n",
       "<text text-anchor=\"middle\" x=\"2594.25\" y=\"-18.7767\" font-family=\"Times New Roman,serif\" font-size=\"14.00\">related: 36</text>\r\n",
       "</g>\r\n",
       "<!-- s21&#45;&gt;s20 -->\r\n",
       "<g id=\"edge2\" class=\"edge\"><title>s21&#45;&gt;s20</title>\r\n",
       "<path fill=\"none\" stroke=\"black\" d=\"M2727.39,-75.0044C2706.12,-68.9627 2681.57,-61.9902 2659.44,-55.707\"/>\r\n",
       "<polygon fill=\"black\" stroke=\"black\" points=\"2660.37,-52.3333 2649.8,-52.9682 2658.46,-59.067 2660.37,-52.3333\"/>\r\n",
       "<text text-anchor=\"middle\" x=\"2688.56\" y=\"-71.2767\" font-family=\"Times New Roman,serif\" font-size=\"14.00\">union</text>\r\n",
       "</g>\r\n",
       "<!-- s18 -->\r\n",
       "<g id=\"node4\" class=\"node\"><title>s18</title>\r\n",
       "<ellipse fill=\"none\" stroke=\"black\" cx=\"2381.63\" cy=\"-86.4767\" rx=\"60.623\" ry=\"37.4533\"/>\r\n",
       "<text text-anchor=\"middle\" x=\"2381.63\" y=\"-97.7767\" font-family=\"Times New Roman,serif\" font-size=\"14.00\">s18</text>\r\n",
       "<text text-anchor=\"middle\" x=\"2381.63\" y=\"-82.7767\" font-family=\"Times New Roman,serif\" font-size=\"14.00\">visited: 1005</text>\r\n",
       "<text text-anchor=\"middle\" x=\"2381.63\" y=\"-67.7767\" font-family=\"Times New Roman,serif\" font-size=\"14.00\">related: 36</text>\r\n",
       "</g>\r\n",
       "<!-- s19&#45;&gt;s18 -->\r\n",
       "<g id=\"edge3\" class=\"edge\"><title>s19&#45;&gt;s18</title>\r\n",
       "<path fill=\"none\" stroke=\"black\" d=\"M2536.53,-118.628C2509.73,-113.028 2477.54,-106.305 2449.55,-100.458\"/>\r\n",
       "<polygon fill=\"black\" stroke=\"black\" points=\"2449.95,-96.9658 2439.45,-98.3469 2448.52,-103.818 2449.95,-96.9658\"/>\r\n",
       "<text text-anchor=\"middle\" x=\"2487.94\" y=\"-147.277\" font-family=\"Times New Roman,serif\" font-size=\"14.00\">forward</text>\r\n",
       "<text text-anchor=\"middle\" x=\"2487.94\" y=\"-132.277\" font-family=\"Times New Roman,serif\" font-size=\"14.00\">found: 1</text>\r\n",
       "<text text-anchor=\"middle\" x=\"2487.94\" y=\"-117.277\" font-family=\"Times New Roman,serif\" font-size=\"14.00\">related: 0</text>\r\n",
       "</g>\r\n",
       "<!-- s20&#45;&gt;s18 -->\r\n",
       "<g id=\"edge4\" class=\"edge\"><title>s20&#45;&gt;s18</title>\r\n",
       "<path fill=\"none\" stroke=\"black\" d=\"M2533.77,-41.7248C2510.62,-44.2496 2484.03,-48.2316 2460.44,-54.4767 2453.89,-56.2092 2447.17,-58.3637 2440.54,-60.7305\"/>\r\n",
       "<polygon fill=\"black\" stroke=\"black\" points=\"2439.07,-57.5426 2430.93,-64.3255 2441.52,-64.0986 2439.07,-57.5426\"/>\r\n",
       "<text text-anchor=\"middle\" x=\"2487.94\" y=\"-88.2767\" font-family=\"Times New Roman,serif\" font-size=\"14.00\">backward</text>\r\n",
       "<text text-anchor=\"middle\" x=\"2487.94\" y=\"-73.2767\" font-family=\"Times New Roman,serif\" font-size=\"14.00\">found: 22</text>\r\n",
       "<text text-anchor=\"middle\" x=\"2487.94\" y=\"-58.2767\" font-family=\"Times New Roman,serif\" font-size=\"14.00\">related: 0</text>\r\n",
       "</g>\r\n",
       "<!-- s16 -->\r\n",
       "<g id=\"node5\" class=\"node\"><title>s16</title>\r\n",
       "<ellipse fill=\"none\" stroke=\"black\" cx=\"2197.25\" cy=\"-146.477\" rx=\"56.6372\" ry=\"37.4533\"/>\r\n",
       "<text text-anchor=\"middle\" x=\"2197.25\" y=\"-157.777\" font-family=\"Times New Roman,serif\" font-size=\"14.00\">s16</text>\r\n",
       "<text text-anchor=\"middle\" x=\"2197.25\" y=\"-142.777\" font-family=\"Times New Roman,serif\" font-size=\"14.00\">visited: 954</text>\r\n",
       "<text text-anchor=\"middle\" x=\"2197.25\" y=\"-127.777\" font-family=\"Times New Roman,serif\" font-size=\"14.00\">related: 36</text>\r\n",
       "</g>\r\n",
       "<!-- s18&#45;&gt;s16 -->\r\n",
       "<g id=\"edge5\" class=\"edge\"><title>s18&#45;&gt;s16</title>\r\n",
       "<path fill=\"none\" stroke=\"black\" d=\"M2327.39,-103.992C2305.59,-111.164 2280.27,-119.493 2257.86,-126.867\"/>\r\n",
       "<polygon fill=\"black\" stroke=\"black\" points=\"2256.52,-123.621 2248.12,-130.071 2258.71,-130.27 2256.52,-123.621\"/>\r\n",
       "<text text-anchor=\"middle\" x=\"2287.32\" y=\"-125.277\" font-family=\"Times New Roman,serif\" font-size=\"14.00\">union</text>\r\n",
       "</g>\r\n",
       "<!-- s17 -->\r\n",
       "<g id=\"node6\" class=\"node\"><title>s17</title>\r\n",
       "<ellipse fill=\"none\" stroke=\"black\" cx=\"2197.25\" cy=\"-53.4767\" rx=\"56.6372\" ry=\"37.4533\"/>\r\n",
       "<text text-anchor=\"middle\" x=\"2197.25\" y=\"-64.7767\" font-family=\"Times New Roman,serif\" font-size=\"14.00\">s17</text>\r\n",
       "<text text-anchor=\"middle\" x=\"2197.25\" y=\"-49.7767\" font-family=\"Times New Roman,serif\" font-size=\"14.00\">visited: 930</text>\r\n",
       "<text text-anchor=\"middle\" x=\"2197.25\" y=\"-34.7767\" font-family=\"Times New Roman,serif\" font-size=\"14.00\">related: 34</text>\r\n",
       "</g>\r\n",
       "<!-- s18&#45;&gt;s17 -->\r\n",
       "<g id=\"edge6\" class=\"edge\"><title>s18&#45;&gt;s17</title>\r\n",
       "<path fill=\"none\" stroke=\"black\" d=\"M2322.92,-76.0353C2303.55,-72.5299 2281.83,-68.6009 2262.02,-65.0163\"/>\r\n",
       "<polygon fill=\"black\" stroke=\"black\" points=\"2262.63,-61.5692 2252.17,-63.2327 2261.38,-68.4573 2262.63,-61.5692\"/>\r\n",
       "<text text-anchor=\"middle\" x=\"2287.32\" y=\"-76.2767\" font-family=\"Times New Roman,serif\" font-size=\"14.00\">union</text>\r\n",
       "</g>\r\n",
       "<!-- s15 -->\r\n",
       "<g id=\"node7\" class=\"node\"><title>s15</title>\r\n",
       "<ellipse fill=\"none\" stroke=\"black\" cx=\"1993.11\" cy=\"-102.477\" rx=\"56.6372\" ry=\"37.4533\"/>\r\n",
       "<text text-anchor=\"middle\" x=\"1993.11\" y=\"-113.777\" font-family=\"Times New Roman,serif\" font-size=\"14.00\">s15</text>\r\n",
       "<text text-anchor=\"middle\" x=\"1993.11\" y=\"-98.7767\" font-family=\"Times New Roman,serif\" font-size=\"14.00\">visited: 879</text>\r\n",
       "<text text-anchor=\"middle\" x=\"1993.11\" y=\"-83.7767\" font-family=\"Times New Roman,serif\" font-size=\"14.00\">related: 34</text>\r\n",
       "</g>\r\n",
       "<!-- s16&#45;&gt;s15 -->\r\n",
       "<g id=\"edge7\" class=\"edge\"><title>s16&#45;&gt;s15</title>\r\n",
       "<path fill=\"none\" stroke=\"black\" d=\"M2143.4,-134.974C2116.94,-129.214 2084.72,-122.2 2056.99,-116.164\"/>\r\n",
       "<polygon fill=\"black\" stroke=\"black\" points=\"2057.51,-112.696 2047,-113.989 2056.03,-119.536 2057.51,-112.696\"/>\r\n",
       "<text text-anchor=\"middle\" x=\"2095.18\" y=\"-163.277\" font-family=\"Times New Roman,serif\" font-size=\"14.00\">forward</text>\r\n",
       "<text text-anchor=\"middle\" x=\"2095.18\" y=\"-148.277\" font-family=\"Times New Roman,serif\" font-size=\"14.00\">found: 75</text>\r\n",
       "<text text-anchor=\"middle\" x=\"2095.18\" y=\"-133.277\" font-family=\"Times New Roman,serif\" font-size=\"14.00\">related: 2</text>\r\n",
       "</g>\r\n",
       "<!-- s17&#45;&gt;s15 -->\r\n",
       "<g id=\"edge8\" class=\"edge\"><title>s17&#45;&gt;s15</title>\r\n",
       "<path fill=\"none\" stroke=\"black\" d=\"M2140.79,-56.7436C2117.86,-59.0272 2091.18,-62.9028 2067.68,-69.4767 2061.16,-71.3007 2054.47,-73.6138 2047.92,-76.1659\"/>\r\n",
       "<polygon fill=\"black\" stroke=\"black\" points=\"2046.38,-73.0163 2038.45,-80.0469 2049.03,-79.4935 2046.38,-73.0163\"/>\r\n",
       "<text text-anchor=\"middle\" x=\"2095.18\" y=\"-103.277\" font-family=\"Times New Roman,serif\" font-size=\"14.00\">backward</text>\r\n",
       "<text text-anchor=\"middle\" x=\"2095.18\" y=\"-88.2767\" font-family=\"Times New Roman,serif\" font-size=\"14.00\">found: 51</text>\r\n",
       "<text text-anchor=\"middle\" x=\"2095.18\" y=\"-73.2767\" font-family=\"Times New Roman,serif\" font-size=\"14.00\">related: 0</text>\r\n",
       "</g>\r\n",
       "<!-- s13 -->\r\n",
       "<g id=\"node8\" class=\"node\"><title>s13</title>\r\n",
       "<ellipse fill=\"none\" stroke=\"black\" cx=\"1812.97\" cy=\"-162.477\" rx=\"56.6372\" ry=\"37.4533\"/>\r\n",
       "<text text-anchor=\"middle\" x=\"1812.97\" y=\"-173.777\" font-family=\"Times New Roman,serif\" font-size=\"14.00\">s13</text>\r\n",
       "<text text-anchor=\"middle\" x=\"1812.97\" y=\"-158.777\" font-family=\"Times New Roman,serif\" font-size=\"14.00\">visited: 835</text>\r\n",
       "<text text-anchor=\"middle\" x=\"1812.97\" y=\"-143.777\" font-family=\"Times New Roman,serif\" font-size=\"14.00\">related: 31</text>\r\n",
       "</g>\r\n",
       "<!-- s15&#45;&gt;s13 -->\r\n",
       "<g id=\"edge9\" class=\"edge\"><title>s15&#45;&gt;s13</title>\r\n",
       "<path fill=\"none\" stroke=\"black\" d=\"M1942.02,-119.35C1920.68,-126.536 1895.63,-134.973 1873.37,-142.471\"/>\r\n",
       "<polygon fill=\"black\" stroke=\"black\" points=\"1872.05,-139.221 1863.69,-145.73 1874.29,-145.855 1872.05,-139.221\"/>\r\n",
       "<text text-anchor=\"middle\" x=\"1903.04\" y=\"-141.277\" font-family=\"Times New Roman,serif\" font-size=\"14.00\">union</text>\r\n",
       "</g>\r\n",
       "<!-- s14 -->\r\n",
       "<g id=\"node9\" class=\"node\"><title>s14</title>\r\n",
       "<ellipse fill=\"none\" stroke=\"black\" cx=\"1812.97\" cy=\"-69.4767\" rx=\"56.6372\" ry=\"37.4533\"/>\r\n",
       "<text text-anchor=\"middle\" x=\"1812.97\" y=\"-80.7767\" font-family=\"Times New Roman,serif\" font-size=\"14.00\">s14</text>\r\n",
       "<text text-anchor=\"middle\" x=\"1812.97\" y=\"-65.7767\" font-family=\"Times New Roman,serif\" font-size=\"14.00\">visited: 857</text>\r\n",
       "<text text-anchor=\"middle\" x=\"1812.97\" y=\"-50.7767\" font-family=\"Times New Roman,serif\" font-size=\"14.00\">related: 31</text>\r\n",
       "</g>\r\n",
       "<!-- s15&#45;&gt;s14 -->\r\n",
       "<g id=\"edge10\" class=\"edge\"><title>s15&#45;&gt;s14</title>\r\n",
       "<path fill=\"none\" stroke=\"black\" d=\"M1938.18,-92.486C1919.08,-88.9482 1897.42,-84.9349 1877.59,-81.2619\"/>\r\n",
       "<polygon fill=\"black\" stroke=\"black\" points=\"1878.19,-77.8135 1867.72,-79.4333 1876.92,-84.6964 1878.19,-77.8135\"/>\r\n",
       "<text text-anchor=\"middle\" x=\"1903.04\" y=\"-92.2767\" font-family=\"Times New Roman,serif\" font-size=\"14.00\">union</text>\r\n",
       "</g>\r\n",
       "<!-- s12 -->\r\n",
       "<g id=\"node10\" class=\"node\"><title>s12</title>\r\n",
       "<ellipse fill=\"none\" stroke=\"black\" cx=\"1608.84\" cy=\"-118.477\" rx=\"56.6372\" ry=\"37.4533\"/>\r\n",
       "<text text-anchor=\"middle\" x=\"1608.84\" y=\"-129.777\" font-family=\"Times New Roman,serif\" font-size=\"14.00\">s12</text>\r\n",
       "<text text-anchor=\"middle\" x=\"1608.84\" y=\"-114.777\" font-family=\"Times New Roman,serif\" font-size=\"14.00\">visited: 813</text>\r\n",
       "<text text-anchor=\"middle\" x=\"1608.84\" y=\"-99.7767\" font-family=\"Times New Roman,serif\" font-size=\"14.00\">related: 28</text>\r\n",
       "</g>\r\n",
       "<!-- s13&#45;&gt;s12 -->\r\n",
       "<g id=\"edge11\" class=\"edge\"><title>s13&#45;&gt;s12</title>\r\n",
       "<path fill=\"none\" stroke=\"black\" d=\"M1759.13,-150.974C1732.67,-145.214 1700.44,-138.2 1672.72,-132.164\"/>\r\n",
       "<polygon fill=\"black\" stroke=\"black\" points=\"1673.24,-128.696 1662.72,-129.989 1671.75,-135.536 1673.24,-128.696\"/>\r\n",
       "<text text-anchor=\"middle\" x=\"1710.91\" y=\"-179.277\" font-family=\"Times New Roman,serif\" font-size=\"14.00\">forward</text>\r\n",
       "<text text-anchor=\"middle\" x=\"1710.91\" y=\"-164.277\" font-family=\"Times New Roman,serif\" font-size=\"14.00\">found: 22</text>\r\n",
       "<text text-anchor=\"middle\" x=\"1710.91\" y=\"-149.277\" font-family=\"Times New Roman,serif\" font-size=\"14.00\">related: 3</text>\r\n",
       "</g>\r\n",
       "<!-- s14&#45;&gt;s12 -->\r\n",
       "<g id=\"edge12\" class=\"edge\"><title>s14&#45;&gt;s12</title>\r\n",
       "<path fill=\"none\" stroke=\"black\" d=\"M1756.52,-72.7436C1733.58,-75.0272 1706.91,-78.9028 1683.41,-85.4767 1676.88,-87.3007 1670.2,-89.6138 1663.65,-92.1659\"/>\r\n",
       "<polygon fill=\"black\" stroke=\"black\" points=\"1662.1,-89.0163 1654.18,-96.0469 1664.76,-95.4935 1662.1,-89.0163\"/>\r\n",
       "<text text-anchor=\"middle\" x=\"1710.91\" y=\"-119.277\" font-family=\"Times New Roman,serif\" font-size=\"14.00\">backward</text>\r\n",
       "<text text-anchor=\"middle\" x=\"1710.91\" y=\"-104.277\" font-family=\"Times New Roman,serif\" font-size=\"14.00\">found: 44</text>\r\n",
       "<text text-anchor=\"middle\" x=\"1710.91\" y=\"-89.2767\" font-family=\"Times New Roman,serif\" font-size=\"14.00\">related: 3</text>\r\n",
       "</g>\r\n",
       "<!-- s10 -->\r\n",
       "<g id=\"node11\" class=\"node\"><title>s10</title>\r\n",
       "<ellipse fill=\"none\" stroke=\"black\" cx=\"1428.7\" cy=\"-178.477\" rx=\"56.6372\" ry=\"37.4533\"/>\r\n",
       "<text text-anchor=\"middle\" x=\"1428.7\" y=\"-189.777\" font-family=\"Times New Roman,serif\" font-size=\"14.00\">s10</text>\r\n",
       "<text text-anchor=\"middle\" x=\"1428.7\" y=\"-174.777\" font-family=\"Times New Roman,serif\" font-size=\"14.00\">visited: 737</text>\r\n",
       "<text text-anchor=\"middle\" x=\"1428.7\" y=\"-159.777\" font-family=\"Times New Roman,serif\" font-size=\"14.00\">related: 26</text>\r\n",
       "</g>\r\n",
       "<!-- s12&#45;&gt;s10 -->\r\n",
       "<g id=\"edge13\" class=\"edge\"><title>s12&#45;&gt;s10</title>\r\n",
       "<path fill=\"none\" stroke=\"black\" d=\"M1557.74,-135.35C1536.41,-142.536 1511.36,-150.973 1489.1,-158.471\"/>\r\n",
       "<polygon fill=\"black\" stroke=\"black\" points=\"1487.78,-155.221 1479.42,-161.73 1490.01,-161.855 1487.78,-155.221\"/>\r\n",
       "<text text-anchor=\"middle\" x=\"1518.77\" y=\"-155.277\" font-family=\"Times New Roman,serif\" font-size=\"14.00\">union</text>\r\n",
       "</g>\r\n",
       "<!-- s11 -->\r\n",
       "<g id=\"node12\" class=\"node\"><title>s11</title>\r\n",
       "<ellipse fill=\"none\" stroke=\"black\" cx=\"1428.7\" cy=\"-85.4767\" rx=\"56.6372\" ry=\"37.4533\"/>\r\n",
       "<text text-anchor=\"middle\" x=\"1428.7\" y=\"-96.7767\" font-family=\"Times New Roman,serif\" font-size=\"14.00\">s11</text>\r\n",
       "<text text-anchor=\"middle\" x=\"1428.7\" y=\"-81.7767\" font-family=\"Times New Roman,serif\" font-size=\"14.00\">visited: 762</text>\r\n",
       "<text text-anchor=\"middle\" x=\"1428.7\" y=\"-66.7767\" font-family=\"Times New Roman,serif\" font-size=\"14.00\">related: 27</text>\r\n",
       "</g>\r\n",
       "<!-- s12&#45;&gt;s11 -->\r\n",
       "<g id=\"edge14\" class=\"edge\"><title>s12&#45;&gt;s11</title>\r\n",
       "<path fill=\"none\" stroke=\"black\" d=\"M1553.91,-108.486C1534.81,-104.948 1513.14,-100.935 1493.32,-97.2619\"/>\r\n",
       "<polygon fill=\"black\" stroke=\"black\" points=\"1493.92,-93.8135 1483.45,-95.4333 1492.64,-100.696 1493.92,-93.8135\"/>\r\n",
       "<text text-anchor=\"middle\" x=\"1518.77\" y=\"-108.277\" font-family=\"Times New Roman,serif\" font-size=\"14.00\">union</text>\r\n",
       "</g>\r\n",
       "<!-- s9 -->\r\n",
       "<g id=\"node13\" class=\"node\"><title>s9</title>\r\n",
       "<ellipse fill=\"none\" stroke=\"black\" cx=\"1224.56\" cy=\"-134.477\" rx=\"56.6372\" ry=\"37.4533\"/>\r\n",
       "<text text-anchor=\"middle\" x=\"1224.56\" y=\"-145.777\" font-family=\"Times New Roman,serif\" font-size=\"14.00\">s9</text>\r\n",
       "<text text-anchor=\"middle\" x=\"1224.56\" y=\"-130.777\" font-family=\"Times New Roman,serif\" font-size=\"14.00\">visited: 686</text>\r\n",
       "<text text-anchor=\"middle\" x=\"1224.56\" y=\"-115.777\" font-family=\"Times New Roman,serif\" font-size=\"14.00\">related: 25</text>\r\n",
       "</g>\r\n",
       "<!-- s10&#45;&gt;s9 -->\r\n",
       "<g id=\"edge15\" class=\"edge\"><title>s10&#45;&gt;s9</title>\r\n",
       "<path fill=\"none\" stroke=\"black\" d=\"M1374.85,-166.974C1348.39,-161.214 1316.17,-154.2 1288.44,-148.164\"/>\r\n",
       "<polygon fill=\"black\" stroke=\"black\" points=\"1288.97,-144.696 1278.45,-145.989 1287.48,-151.536 1288.97,-144.696\"/>\r\n",
       "<text text-anchor=\"middle\" x=\"1326.63\" y=\"-195.277\" font-family=\"Times New Roman,serif\" font-size=\"14.00\">forward</text>\r\n",
       "<text text-anchor=\"middle\" x=\"1326.63\" y=\"-180.277\" font-family=\"Times New Roman,serif\" font-size=\"14.00\">found: 51</text>\r\n",
       "<text text-anchor=\"middle\" x=\"1326.63\" y=\"-165.277\" font-family=\"Times New Roman,serif\" font-size=\"14.00\">related: 1</text>\r\n",
       "</g>\r\n",
       "<!-- s11&#45;&gt;s9 -->\r\n",
       "<g id=\"edge16\" class=\"edge\"><title>s11&#45;&gt;s9</title>\r\n",
       "<path fill=\"none\" stroke=\"black\" d=\"M1372.25,-88.7436C1349.31,-91.0272 1322.63,-94.9028 1299.13,-101.477 1292.61,-103.301 1285.93,-105.614 1279.37,-108.166\"/>\r\n",
       "<polygon fill=\"black\" stroke=\"black\" points=\"1277.83,-105.016 1269.9,-112.047 1280.48,-111.494 1277.83,-105.016\"/>\r\n",
       "<text text-anchor=\"middle\" x=\"1326.63\" y=\"-135.277\" font-family=\"Times New Roman,serif\" font-size=\"14.00\">backward</text>\r\n",
       "<text text-anchor=\"middle\" x=\"1326.63\" y=\"-120.277\" font-family=\"Times New Roman,serif\" font-size=\"14.00\">found: 76</text>\r\n",
       "<text text-anchor=\"middle\" x=\"1326.63\" y=\"-105.277\" font-family=\"Times New Roman,serif\" font-size=\"14.00\">related: 2</text>\r\n",
       "</g>\r\n",
       "<!-- s7 -->\r\n",
       "<g id=\"node14\" class=\"node\"><title>s7</title>\r\n",
       "<ellipse fill=\"none\" stroke=\"black\" cx=\"1044.43\" cy=\"-194.477\" rx=\"56.6372\" ry=\"37.4533\"/>\r\n",
       "<text text-anchor=\"middle\" x=\"1044.43\" y=\"-205.777\" font-family=\"Times New Roman,serif\" font-size=\"14.00\">s7</text>\r\n",
       "<text text-anchor=\"middle\" x=\"1044.43\" y=\"-190.777\" font-family=\"Times New Roman,serif\" font-size=\"14.00\">visited: 643</text>\r\n",
       "<text text-anchor=\"middle\" x=\"1044.43\" y=\"-175.777\" font-family=\"Times New Roman,serif\" font-size=\"14.00\">related: 25</text>\r\n",
       "</g>\r\n",
       "<!-- s9&#45;&gt;s7 -->\r\n",
       "<g id=\"edge17\" class=\"edge\"><title>s9&#45;&gt;s7</title>\r\n",
       "<path fill=\"none\" stroke=\"black\" d=\"M1173.47,-151.35C1152.13,-158.536 1127.08,-166.973 1104.82,-174.471\"/>\r\n",
       "<polygon fill=\"black\" stroke=\"black\" points=\"1103.5,-171.221 1095.14,-177.73 1105.74,-177.855 1103.5,-171.221\"/>\r\n",
       "<text text-anchor=\"middle\" x=\"1134.49\" y=\"-173.277\" font-family=\"Times New Roman,serif\" font-size=\"14.00\">union</text>\r\n",
       "</g>\r\n",
       "<!-- s8 -->\r\n",
       "<g id=\"node15\" class=\"node\"><title>s8</title>\r\n",
       "<ellipse fill=\"none\" stroke=\"black\" cx=\"1044.43\" cy=\"-101.477\" rx=\"56.6372\" ry=\"37.4533\"/>\r\n",
       "<text text-anchor=\"middle\" x=\"1044.43\" y=\"-112.777\" font-family=\"Times New Roman,serif\" font-size=\"14.00\">s8</text>\r\n",
       "<text text-anchor=\"middle\" x=\"1044.43\" y=\"-97.7767\" font-family=\"Times New Roman,serif\" font-size=\"14.00\">visited: 518</text>\r\n",
       "<text text-anchor=\"middle\" x=\"1044.43\" y=\"-82.7767\" font-family=\"Times New Roman,serif\" font-size=\"14.00\">related: 20</text>\r\n",
       "</g>\r\n",
       "<!-- s9&#45;&gt;s8 -->\r\n",
       "<g id=\"edge18\" class=\"edge\"><title>s9&#45;&gt;s8</title>\r\n",
       "<path fill=\"none\" stroke=\"black\" d=\"M1169.63,-124.486C1150.53,-120.948 1128.87,-116.935 1109.04,-113.262\"/>\r\n",
       "<polygon fill=\"black\" stroke=\"black\" points=\"1109.64,-109.813 1099.17,-111.433 1108.37,-116.696 1109.64,-109.813\"/>\r\n",
       "<text text-anchor=\"middle\" x=\"1134.49\" y=\"-123.277\" font-family=\"Times New Roman,serif\" font-size=\"14.00\">union</text>\r\n",
       "</g>\r\n",
       "<!-- s6 -->\r\n",
       "<g id=\"node16\" class=\"node\"><title>s6</title>\r\n",
       "<ellipse fill=\"none\" stroke=\"black\" cx=\"834.288\" cy=\"-150.477\" rx=\"56.6372\" ry=\"37.4533\"/>\r\n",
       "<text text-anchor=\"middle\" x=\"834.288\" y=\"-161.777\" font-family=\"Times New Roman,serif\" font-size=\"14.00\">s6</text>\r\n",
       "<text text-anchor=\"middle\" x=\"834.288\" y=\"-146.777\" font-family=\"Times New Roman,serif\" font-size=\"14.00\">visited: 475</text>\r\n",
       "<text text-anchor=\"middle\" x=\"834.288\" y=\"-131.777\" font-family=\"Times New Roman,serif\" font-size=\"14.00\">related: 20</text>\r\n",
       "</g>\r\n",
       "<!-- s7&#45;&gt;s6 -->\r\n",
       "<g id=\"edge19\" class=\"edge\"><title>s7&#45;&gt;s6</title>\r\n",
       "<path fill=\"none\" stroke=\"black\" d=\"M990.365,-183.26C962.461,-177.361 928.057,-170.088 898.748,-163.892\"/>\r\n",
       "<polygon fill=\"black\" stroke=\"black\" points=\"899.121,-160.394 888.613,-161.75 897.673,-167.242 899.121,-160.394\"/>\r\n",
       "<text text-anchor=\"middle\" x=\"939.357\" y=\"-211.277\" font-family=\"Times New Roman,serif\" font-size=\"14.00\">forward</text>\r\n",
       "<text text-anchor=\"middle\" x=\"939.357\" y=\"-196.277\" font-family=\"Times New Roman,serif\" font-size=\"14.00\">found: 168</text>\r\n",
       "<text text-anchor=\"middle\" x=\"939.357\" y=\"-181.277\" font-family=\"Times New Roman,serif\" font-size=\"14.00\">related: 5</text>\r\n",
       "</g>\r\n",
       "<!-- s8&#45;&gt;s6 -->\r\n",
       "<g id=\"edge20\" class=\"edge\"><title>s8&#45;&gt;s6</title>\r\n",
       "<path fill=\"none\" stroke=\"black\" d=\"M987.664,-103.662C963.145,-105.649 934.217,-109.404 908.857,-116.477 902.21,-118.33 895.409,-120.722 888.758,-123.377\"/>\r\n",
       "<polygon fill=\"black\" stroke=\"black\" points=\"887.011,-120.315 879.155,-127.424 889.729,-126.766 887.011,-120.315\"/>\r\n",
       "<text text-anchor=\"middle\" x=\"939.357\" y=\"-150.277\" font-family=\"Times New Roman,serif\" font-size=\"14.00\">backward</text>\r\n",
       "<text text-anchor=\"middle\" x=\"939.357\" y=\"-135.277\" font-family=\"Times New Roman,serif\" font-size=\"14.00\">found: 43</text>\r\n",
       "<text text-anchor=\"middle\" x=\"939.357\" y=\"-120.277\" font-family=\"Times New Roman,serif\" font-size=\"14.00\">related: 0</text>\r\n",
       "</g>\r\n",
       "<!-- s4 -->\r\n",
       "<g id=\"node17\" class=\"node\"><title>s4</title>\r\n",
       "<ellipse fill=\"none\" stroke=\"black\" cx=\"654.151\" cy=\"-210.477\" rx=\"56.6372\" ry=\"37.4533\"/>\r\n",
       "<text text-anchor=\"middle\" x=\"654.151\" y=\"-221.777\" font-family=\"Times New Roman,serif\" font-size=\"14.00\">s4</text>\r\n",
       "<text text-anchor=\"middle\" x=\"654.151\" y=\"-206.777\" font-family=\"Times New Roman,serif\" font-size=\"14.00\">visited: 174</text>\r\n",
       "<text text-anchor=\"middle\" x=\"654.151\" y=\"-191.777\" font-family=\"Times New Roman,serif\" font-size=\"14.00\">related: 13</text>\r\n",
       "</g>\r\n",
       "<!-- s6&#45;&gt;s4 -->\r\n",
       "<g id=\"edge21\" class=\"edge\"><title>s6&#45;&gt;s4</title>\r\n",
       "<path fill=\"none\" stroke=\"black\" d=\"M783.193,-167.35C761.859,-174.536 736.808,-182.973 714.548,-190.471\"/>\r\n",
       "<polygon fill=\"black\" stroke=\"black\" points=\"713.23,-187.221 704.871,-193.73 715.465,-193.855 713.23,-187.221\"/>\r\n",
       "<text text-anchor=\"middle\" x=\"744.22\" y=\"-189.277\" font-family=\"Times New Roman,serif\" font-size=\"14.00\">union</text>\r\n",
       "</g>\r\n",
       "<!-- s5 -->\r\n",
       "<g id=\"node18\" class=\"node\"><title>s5</title>\r\n",
       "<ellipse fill=\"none\" stroke=\"black\" cx=\"654.151\" cy=\"-117.477\" rx=\"56.6372\" ry=\"37.4533\"/>\r\n",
       "<text text-anchor=\"middle\" x=\"654.151\" y=\"-128.777\" font-family=\"Times New Roman,serif\" font-size=\"14.00\">s5</text>\r\n",
       "<text text-anchor=\"middle\" x=\"654.151\" y=\"-113.777\" font-family=\"Times New Roman,serif\" font-size=\"14.00\">visited: 419</text>\r\n",
       "<text text-anchor=\"middle\" x=\"654.151\" y=\"-98.7767\" font-family=\"Times New Roman,serif\" font-size=\"14.00\">related: 20</text>\r\n",
       "</g>\r\n",
       "<!-- s6&#45;&gt;s5 -->\r\n",
       "<g id=\"edge22\" class=\"edge\"><title>s6&#45;&gt;s5</title>\r\n",
       "<path fill=\"none\" stroke=\"black\" d=\"M779.358,-140.486C760.261,-136.948 738.597,-132.935 718.769,-129.262\"/>\r\n",
       "<polygon fill=\"black\" stroke=\"black\" points=\"719.369,-125.813 708.898,-127.433 718.094,-132.696 719.369,-125.813\"/>\r\n",
       "<text text-anchor=\"middle\" x=\"744.22\" y=\"-139.277\" font-family=\"Times New Roman,serif\" font-size=\"14.00\">union</text>\r\n",
       "</g>\r\n",
       "<!-- s3 -->\r\n",
       "<g id=\"node19\" class=\"node\"><title>s3</title>\r\n",
       "<ellipse fill=\"none\" stroke=\"black\" cx=\"444.014\" cy=\"-166.477\" rx=\"56.6372\" ry=\"37.4533\"/>\r\n",
       "<text text-anchor=\"middle\" x=\"444.014\" y=\"-177.777\" font-family=\"Times New Roman,serif\" font-size=\"14.00\">s3</text>\r\n",
       "<text text-anchor=\"middle\" x=\"444.014\" y=\"-162.777\" font-family=\"Times New Roman,serif\" font-size=\"14.00\">visited: 114</text>\r\n",
       "<text text-anchor=\"middle\" x=\"444.014\" y=\"-147.777\" font-family=\"Times New Roman,serif\" font-size=\"14.00\">related: 13</text>\r\n",
       "</g>\r\n",
       "<!-- s4&#45;&gt;s3 -->\r\n",
       "<g id=\"edge23\" class=\"edge\"><title>s4&#45;&gt;s3</title>\r\n",
       "<path fill=\"none\" stroke=\"black\" d=\"M600.091,-199.26C572.187,-193.361 537.782,-186.088 508.474,-179.892\"/>\r\n",
       "<polygon fill=\"black\" stroke=\"black\" points=\"508.847,-176.394 498.339,-177.75 507.399,-183.242 508.847,-176.394\"/>\r\n",
       "<text text-anchor=\"middle\" x=\"549.083\" y=\"-227.277\" font-family=\"Times New Roman,serif\" font-size=\"14.00\">forward</text>\r\n",
       "<text text-anchor=\"middle\" x=\"549.083\" y=\"-212.277\" font-family=\"Times New Roman,serif\" font-size=\"14.00\">found: 60</text>\r\n",
       "<text text-anchor=\"middle\" x=\"549.083\" y=\"-197.277\" font-family=\"Times New Roman,serif\" font-size=\"14.00\">related: 0</text>\r\n",
       "</g>\r\n",
       "<!-- s5&#45;&gt;s3 -->\r\n",
       "<g id=\"edge24\" class=\"edge\"><title>s5&#45;&gt;s3</title>\r\n",
       "<path fill=\"none\" stroke=\"black\" d=\"M597.39,-119.662C572.871,-121.649 543.943,-125.404 518.583,-132.477 511.935,-134.33 505.135,-136.722 498.483,-139.377\"/>\r\n",
       "<polygon fill=\"black\" stroke=\"black\" points=\"496.737,-136.315 488.881,-143.424 499.455,-142.766 496.737,-136.315\"/>\r\n",
       "<text text-anchor=\"middle\" x=\"549.083\" y=\"-166.277\" font-family=\"Times New Roman,serif\" font-size=\"14.00\">backward</text>\r\n",
       "<text text-anchor=\"middle\" x=\"549.083\" y=\"-151.277\" font-family=\"Times New Roman,serif\" font-size=\"14.00\">found: 305</text>\r\n",
       "<text text-anchor=\"middle\" x=\"549.083\" y=\"-136.277\" font-family=\"Times New Roman,serif\" font-size=\"14.00\">related: 7</text>\r\n",
       "</g>\r\n",
       "<!-- s1 -->\r\n",
       "<g id=\"node20\" class=\"node\"><title>s1</title>\r\n",
       "<ellipse fill=\"none\" stroke=\"black\" cx=\"263.877\" cy=\"-226.477\" rx=\"56.6372\" ry=\"37.4533\"/>\r\n",
       "<text text-anchor=\"middle\" x=\"263.877\" y=\"-237.777\" font-family=\"Times New Roman,serif\" font-size=\"14.00\">s1</text>\r\n",
       "<text text-anchor=\"middle\" x=\"263.877\" y=\"-222.777\" font-family=\"Times New Roman,serif\" font-size=\"14.00\">visited: 103</text>\r\n",
       "<text text-anchor=\"middle\" x=\"263.877\" y=\"-207.777\" font-family=\"Times New Roman,serif\" font-size=\"14.00\">related: 12</text>\r\n",
       "</g>\r\n",
       "<!-- s3&#45;&gt;s1 -->\r\n",
       "<g id=\"edge25\" class=\"edge\"><title>s3&#45;&gt;s1</title>\r\n",
       "<path fill=\"none\" stroke=\"black\" d=\"M392.919,-183.35C371.584,-190.536 346.533,-198.973 324.274,-206.471\"/>\r\n",
       "<polygon fill=\"black\" stroke=\"black\" points=\"322.956,-203.221 314.596,-209.73 325.19,-209.855 322.956,-203.221\"/>\r\n",
       "<text text-anchor=\"middle\" x=\"353.946\" y=\"-203.277\" font-family=\"Times New Roman,serif\" font-size=\"14.00\">union</text>\r\n",
       "</g>\r\n",
       "<!-- s2 -->\r\n",
       "<g id=\"node21\" class=\"node\"><title>s2</title>\r\n",
       "<ellipse fill=\"none\" stroke=\"black\" cx=\"263.877\" cy=\"-133.477\" rx=\"51.7379\" ry=\"37.4533\"/>\r\n",
       "<text text-anchor=\"middle\" x=\"263.877\" y=\"-144.777\" font-family=\"Times New Roman,serif\" font-size=\"14.00\">s2</text>\r\n",
       "<text text-anchor=\"middle\" x=\"263.877\" y=\"-129.777\" font-family=\"Times New Roman,serif\" font-size=\"14.00\">visited: 12</text>\r\n",
       "<text text-anchor=\"middle\" x=\"263.877\" y=\"-114.777\" font-family=\"Times New Roman,serif\" font-size=\"14.00\">related: 2</text>\r\n",
       "</g>\r\n",
       "<!-- s3&#45;&gt;s2 -->\r\n",
       "<g id=\"edge26\" class=\"edge\"><title>s3&#45;&gt;s2</title>\r\n",
       "<path fill=\"none\" stroke=\"black\" d=\"M389.084,-156.486C368.579,-152.688 345.116,-148.341 324.144,-144.456\"/>\r\n",
       "<polygon fill=\"black\" stroke=\"black\" points=\"324.543,-140.97 314.073,-142.59 323.268,-147.853 324.543,-140.97\"/>\r\n",
       "<text text-anchor=\"middle\" x=\"353.946\" y=\"-155.277\" font-family=\"Times New Roman,serif\" font-size=\"14.00\">union</text>\r\n",
       "</g>\r\n",
       "<!-- basili2010a -->\r\n",
       "<g id=\"node22\" class=\"node\"><title>basili2010a</title>\r\n",
       "<ellipse fill=\"none\" stroke=\"black\" cx=\"55.1543\" cy=\"-182.477\" rx=\"55.3091\" ry=\"37.4533\"/>\r\n",
       "<text text-anchor=\"middle\" x=\"55.1543\" y=\"-193.777\" font-family=\"Times New Roman,serif\" font-size=\"14.00\">basili2010a</text>\r\n",
       "<text text-anchor=\"middle\" x=\"55.1543\" y=\"-178.777\" font-family=\"Times New Roman,serif\" font-size=\"14.00\">visited: 1</text>\r\n",
       "<text text-anchor=\"middle\" x=\"55.1543\" y=\"-163.777\" font-family=\"Times New Roman,serif\" font-size=\"14.00\">related: 1</text>\r\n",
       "</g>\r\n",
       "<!-- s1&#45;&gt;basili2010a -->\r\n",
       "<g id=\"edge27\" class=\"edge\"><title>s1&#45;&gt;basili2010a</title>\r\n",
       "<path fill=\"none\" stroke=\"black\" d=\"M209.909,-215.203C181.873,-209.235 147.287,-201.874 118.022,-195.645\"/>\r\n",
       "<polygon fill=\"black\" stroke=\"black\" points=\"118.421,-192.152 107.912,-193.493 116.964,-198.998 118.421,-192.152\"/>\r\n",
       "<text text-anchor=\"middle\" x=\"158.809\" y=\"-243.277\" font-family=\"Times New Roman,serif\" font-size=\"14.00\">forward</text>\r\n",
       "<text text-anchor=\"middle\" x=\"158.809\" y=\"-228.277\" font-family=\"Times New Roman,serif\" font-size=\"14.00\">found: 102</text>\r\n",
       "<text text-anchor=\"middle\" x=\"158.809\" y=\"-213.277\" font-family=\"Times New Roman,serif\" font-size=\"14.00\">related: 11</text>\r\n",
       "</g>\r\n",
       "<!-- s2&#45;&gt;basili2010a -->\r\n",
       "<g id=\"edge28\" class=\"edge\"><title>s2&#45;&gt;basili2010a</title>\r\n",
       "<path fill=\"none\" stroke=\"black\" d=\"M212.275,-135.178C186.717,-137.022 155.452,-140.798 128.309,-148.477 121.773,-150.325 115.093,-152.714 108.565,-155.367\"/>\r\n",
       "<polygon fill=\"black\" stroke=\"black\" points=\"106.95,-152.251 99.1414,-159.412 109.711,-158.684 106.95,-152.251\"/>\r\n",
       "<text text-anchor=\"middle\" x=\"158.809\" y=\"-182.277\" font-family=\"Times New Roman,serif\" font-size=\"14.00\">backward</text>\r\n",
       "<text text-anchor=\"middle\" x=\"158.809\" y=\"-167.277\" font-family=\"Times New Roman,serif\" font-size=\"14.00\">found: 11</text>\r\n",
       "<text text-anchor=\"middle\" x=\"158.809\" y=\"-152.277\" font-family=\"Times New Roman,serif\" font-size=\"14.00\">related: 1</text>\r\n",
       "</g>\r\n",
       "</g>\r\n",
       "</svg>\r\n"
      ],
      "text/plain": [
       "Step(name='start', new_references=1, new_related=1, total_visited=1, total_related=1, source='', target='basili2010a')\n",
       "Step(name='backward', new_references=11, new_related=1, total_visited=12, total_related=2, source='basili2010a', target='s2')\n",
       "Step(name='forward', new_references=102, new_related=11, total_visited=103, total_related=12, source='basili2010a', target='s1')\n",
       "Step(name='union', new_references=0, new_related=0, total_visited=114, total_related=13, source='s1|s2', target='s3')\n",
       "Step(name='backward', new_references=305, new_related=7, total_visited=419, total_related=20, source='s3', target='s5')\n",
       "Step(name='forward', new_references=60, new_related=0, total_visited=174, total_related=13, source='s3', target='s4')\n",
       "Step(name='union', new_references=0, new_related=0, total_visited=475, total_related=20, source='s4|s5', target='s6')\n",
       "Step(name='backward', new_references=43, new_related=0, total_visited=518, total_related=20, source='s6', target='s8')\n",
       "Step(name='forward', new_references=168, new_related=5, total_visited=643, total_related=25, source='s6', target='s7')\n",
       "Step(name='union', new_references=0, new_related=0, total_visited=686, total_related=25, source='s7|s8', target='s9')\n",
       "Step(name='backward', new_references=76, new_related=2, total_visited=762, total_related=27, source='s9', target='s11')\n",
       "Step(name='forward', new_references=51, new_related=1, total_visited=737, total_related=26, source='s9', target='s10')\n",
       "Step(name='union', new_references=0, new_related=0, total_visited=813, total_related=28, source='s10|s11', target='s12')\n",
       "Step(name='backward', new_references=44, new_related=3, total_visited=857, total_related=31, source='s12', target='s14')\n",
       "Step(name='forward', new_references=22, new_related=3, total_visited=835, total_related=31, source='s12', target='s13')\n",
       "Step(name='union', new_references=0, new_related=0, total_visited=879, total_related=34, source='s13|s14', target='s15')\n",
       "Step(name='backward', new_references=51, new_related=0, total_visited=930, total_related=34, source='s15', target='s17')\n",
       "Step(name='forward', new_references=75, new_related=2, total_visited=954, total_related=36, source='s15', target='s16')\n",
       "Step(name='union', new_references=0, new_related=0, total_visited=1005, total_related=36, source='s16|s17', target='s18')\n",
       "Step(name='backward', new_references=22, new_related=0, total_visited=1027, total_related=36, source='s18', target='s20')\n",
       "Step(name='forward', new_references=1, new_related=0, total_visited=1006, total_related=36, source='s18', target='s19')\n",
       "Step(name='union', new_references=0, new_related=0, total_visited=1028, total_related=36, source='s19|s20', target='s21')"
      ],
      "text/vnd.graphviz": [
       "digraph G {\n",
       "  rankdir=\"RL\";\n",
       "\n",
       "  s21 [label=\"s21\\nvisited: 1028\\nrelated: 36\"];\n",
       "  s21 -> s19 [label=\"union\"];\n",
       "  s21 -> s20 [label=\"union\"];\n",
       "\n",
       "  s19 [label=\"s19\\nvisited: 1006\\nrelated: 36\"];\n",
       "  s19 -> s18 [label=\"forward\\nfound: 1\\nrelated: 0\"];\n",
       "\n",
       "  s20 [label=\"s20\\nvisited: 1027\\nrelated: 36\"];\n",
       "  s20 -> s18 [label=\"backward\\nfound: 22\\nrelated: 0\"];\n",
       "\n",
       "  s18 [label=\"s18\\nvisited: 1005\\nrelated: 36\"];\n",
       "  s18 -> s16 [label=\"union\"];\n",
       "  s18 -> s17 [label=\"union\"];\n",
       "\n",
       "  s16 [label=\"s16\\nvisited: 954\\nrelated: 36\"];\n",
       "  s16 -> s15 [label=\"forward\\nfound: 75\\nrelated: 2\"];\n",
       "\n",
       "  s17 [label=\"s17\\nvisited: 930\\nrelated: 34\"];\n",
       "  s17 -> s15 [label=\"backward\\nfound: 51\\nrelated: 0\"];\n",
       "\n",
       "  s15 [label=\"s15\\nvisited: 879\\nrelated: 34\"];\n",
       "  s15 -> s13 [label=\"union\"];\n",
       "  s15 -> s14 [label=\"union\"];\n",
       "\n",
       "  s13 [label=\"s13\\nvisited: 835\\nrelated: 31\"];\n",
       "  s13 -> s12 [label=\"forward\\nfound: 22\\nrelated: 3\"];\n",
       "\n",
       "  s14 [label=\"s14\\nvisited: 857\\nrelated: 31\"];\n",
       "  s14 -> s12 [label=\"backward\\nfound: 44\\nrelated: 3\"];\n",
       "\n",
       "  s12 [label=\"s12\\nvisited: 813\\nrelated: 28\"];\n",
       "  s12 -> s10 [label=\"union\"];\n",
       "  s12 -> s11 [label=\"union\"];\n",
       "\n",
       "  s10 [label=\"s10\\nvisited: 737\\nrelated: 26\"];\n",
       "  s10 -> s9 [label=\"forward\\nfound: 51\\nrelated: 1\"];\n",
       "\n",
       "  s11 [label=\"s11\\nvisited: 762\\nrelated: 27\"];\n",
       "  s11 -> s9 [label=\"backward\\nfound: 76\\nrelated: 2\"];\n",
       "\n",
       "  s9 [label=\"s9\\nvisited: 686\\nrelated: 25\"];\n",
       "  s9 -> s7 [label=\"union\"];\n",
       "  s9 -> s8 [label=\"union\"];\n",
       "\n",
       "  s7 [label=\"s7\\nvisited: 643\\nrelated: 25\"];\n",
       "  s7 -> s6 [label=\"forward\\nfound: 168\\nrelated: 5\"];\n",
       "\n",
       "  s8 [label=\"s8\\nvisited: 518\\nrelated: 20\"];\n",
       "  s8 -> s6 [label=\"backward\\nfound: 43\\nrelated: 0\"];\n",
       "\n",
       "  s6 [label=\"s6\\nvisited: 475\\nrelated: 20\"];\n",
       "  s6 -> s4 [label=\"union\"];\n",
       "  s6 -> s5 [label=\"union\"];\n",
       "\n",
       "  s4 [label=\"s4\\nvisited: 174\\nrelated: 13\"];\n",
       "  s4 -> s3 [label=\"forward\\nfound: 60\\nrelated: 0\"];\n",
       "\n",
       "  s5 [label=\"s5\\nvisited: 419\\nrelated: 20\"];\n",
       "  s5 -> s3 [label=\"backward\\nfound: 305\\nrelated: 7\"];\n",
       "\n",
       "  s3 [label=\"s3\\nvisited: 114\\nrelated: 13\"];\n",
       "  s3 -> s1 [label=\"union\"];\n",
       "  s3 -> s2 [label=\"union\"];\n",
       "\n",
       "  s1 [label=\"s1\\nvisited: 103\\nrelated: 12\"];\n",
       "  s1 -> basili2010a [label=\"forward\\nfound: 102\\nrelated: 11\"];\n",
       "\n",
       "  s2 [label=\"s2\\nvisited: 12\\nrelated: 2\"];\n",
       "  s2 -> basili2010a [label=\"backward\\nfound: 11\\nrelated: 1\"];\n",
       "\n",
       "  basili2010a [label=\"basili2010a\\nvisited: 1\\nrelated: 1\"];\n",
       "\n",
       "}"
      ]
     },
     "metadata": {},
     "output_type": "display_data"
    }
   ],
   "source": [
    "reload()\n",
    "#NAME = \"guzmán2010a\"\n",
    "NAME = \"basili2010a\"\n",
    "filter_function = lambda x: x.category in (\"snowball\", \"forward\", \"backward\")\n",
    "seedset = {work_by_varname(NAME)}\n",
    "print (seedset)\n",
    "strategy = Strategy(seedset, filter_function)\n",
    "strategy.initial.name = NAME\n",
    "state = strategy.sfbu()\n",
    "state"
   ]
  },
  {
   "cell_type": "code",
   "execution_count": null,
   "metadata": {
    "collapsed": true
   },
   "outputs": [],
   "source": [
    "state.find(\"s1\").delta_visited @ metakey_title"
   ]
  },
  {
   "cell_type": "code",
   "execution_count": null,
   "metadata": {
    "collapsed": true
   },
   "outputs": [],
   "source": []
  },
  {
   "cell_type": "code",
   "execution_count": null,
   "metadata": {
    "collapsed": true
   },
   "outputs": [],
   "source": []
  },
  {
   "cell_type": "code",
   "execution_count": null,
   "metadata": {
    "collapsed": true
   },
   "outputs": [],
   "source": []
  },
  {
   "cell_type": "code",
   "execution_count": null,
   "metadata": {
    "collapsed": true
   },
   "outputs": [],
   "source": []
  },
  {
   "cell_type": "code",
   "execution_count": null,
   "metadata": {
    "collapsed": true
   },
   "outputs": [],
   "source": [
    "strategy.bfbf()"
   ]
  },
  {
   "cell_type": "code",
   "execution_count": null,
   "metadata": {
    "collapsed": true
   },
   "outputs": [],
   "source": []
  }
 ],
 "metadata": {
  "kernelspec": {
   "display_name": "Python 3",
   "language": "python",
   "name": "python3"
  },
  "language_info": {
   "codemirror_mode": {
    "name": "ipython",
    "version": 3
   },
   "file_extension": ".py",
   "mimetype": "text/x-python",
   "name": "python",
   "nbconvert_exporter": "python",
   "pygments_lexer": "ipython3",
   "version": "3.6.0"
  },
  "toc": {
   "nav_menu": {
    "height": "12px",
    "width": "252px"
   },
   "number_sections": true,
   "sideBar": false,
   "skip_h1_title": false,
   "toc_cell": false,
   "toc_position": {
    "height": "529px",
    "left": "560.984px",
    "right": "1442.5px",
    "top": "66.1094px",
    "width": "594px"
   },
   "toc_section_display": "none",
   "toc_window_display": true
  }
 },
 "nbformat": 4,
 "nbformat_minor": 2
}
