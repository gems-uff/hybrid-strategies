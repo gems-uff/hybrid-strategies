{
 "cells": [
  {
   "cell_type": "code",
   "execution_count": 99,
   "metadata": {
    "collapsed": true
   },
   "outputs": [],
   "source": [
    "%matplotlib notebook\n",
    "\n",
    "import os, sys\n",
    "sys.path.insert(1, os.path.join(sys.path[0], '..'))\n",
    "import database\n",
    "from snowballing.operations import reload, work_by_varname, load_work_map_all_years\n",
    "from snowballing.strategies import Strategy, State\n",
    "from functools import reduce\n",
    "from matplotlib_venn import venn2, venn2_circles\n",
    "from matplotlib import pyplot as plt\n",
    "\n",
    "reload()\n",
    "# !pip install matplotlib-venn"
   ]
  },
  {
   "cell_type": "code",
   "execution_count": 100,
   "metadata": {
    "collapsed": true
   },
   "outputs": [],
   "source": [
    "from snowballing.operations import metakey, metakey_title\n",
    "\n",
    "def busca(*libraries, seed=None, filter_function=None):\n",
    "    filter_function = filter_function or (lambda x: x.category in (\"snowball\",))\n",
    "    if seed is not None:\n",
    "        iterable = ((1, work_by_varname(x)) for x in seed)\n",
    "    else:\n",
    "        iterable = load_work_map_all_years()\n",
    "    seedset = set()\n",
    "    visited = set()\n",
    "    for _, work in iterable:\n",
    "        for library in libraries:\n",
    "            if int(getattr(work, library, 0)):\n",
    "                visited.add(work)\n",
    "                if filter_function(work):\n",
    "                    seedset.add(work)\n",
    "                break\n",
    "    return seedset, filter_function, visited\n",
    "\n",
    "def descreve_delta(strategy, state, name):\n",
    "    target = state.find(name)\n",
    "    previous_related = reduce(lambda x, y: x | y, (s.related for s in target.previous[0]), set())\n",
    "    for work in previous_related:\n",
    "        backward = set(strategy.ref[work]) & target.delta_visited\n",
    "        if backward:\n",
    "            print('backward', work.metakey)\n",
    "            for ref in backward:\n",
    "                print('-', ref.metakey, 'related' if ref in target.delta_related else '')\n",
    "        forward = set(strategy.rev_ref[work]) & target.delta_visited\n",
    "        if forward:\n",
    "            print('forward', work.metakey)\n",
    "            for ref in forward:\n",
    "                print('-', ref.metakey, 'related' if ref in target.delta_related else '')\n",
    "\n",
    "def separa_backward_forward(state):\n",
    "    backward = set()\n",
    "    forward = set()\n",
    "    stack = [state]\n",
    "    visited = {id(state)}\n",
    "    while stack:\n",
    "        current = stack.pop()\n",
    "        if current.previous:\n",
    "            if current.previous[1] == \"backward\":\n",
    "                backward |= current.delta_related\n",
    "            if current.previous[1] == \"forward\":\n",
    "                forward |= current.delta_related\n",
    "                \n",
    "            antecessors = current.previous[0]\n",
    "            for previous in antecessors:\n",
    "                if id(previous) not in visited:\n",
    "                    visited.add(id(previous))\n",
    "                    stack.append(previous)\n",
    "    return backward, forward\n",
    "\n",
    "def encontraria(strategy, state):\n",
    "    backward = set()\n",
    "    forward = set()\n",
    "    related = state.related - state.find(\"s0\").related\n",
    "    for work in state.related:\n",
    "        backward |= (set(strategy.ref[work]) & related)\n",
    "        forward |= (set(strategy.rev_ref[work]) & related)\n",
    "    return backward, forward\n",
    "\n",
    "#busca(\"scopus\", seed=[\"wohlin2014a\", \"briand2000a\"], filter_function=lambda x: True)\n",
    "#busca(\"scopus\", filter_function=lambda x: False)"
   ]
  },
  {
   "cell_type": "markdown",
   "metadata": {},
   "source": [
    "# Estratégias"
   ]
  },
  {
   "cell_type": "markdown",
   "metadata": {},
   "source": [
    "## Estratégia 1 - Busca em todas Digital Libraries (DL)"
   ]
  },
  {
   "cell_type": "code",
   "execution_count": 101,
   "metadata": {},
   "outputs": [
    {
     "name": "stdout",
     "output_type": "stream",
     "text": [
      "Total de estudos primários usados como Seed Set:  22\n"
     ]
    }
   ],
   "source": [
    "print (\"Total de estudos primários usados como Seed Set: \", len ([x for _, x in load_work_map_all_years() if x.category == \"snowball\"]))\n"
   ]
  },
  {
   "cell_type": "code",
   "execution_count": 98,
   "metadata": {},
   "outputs": [
    {
     "name": "stdout",
     "output_type": "stream",
     "text": [
      "Lista de estudos primários usados como Seed Set:\n"
     ]
    },
    {
     "data": {
      "text/plain": [
       "[Exploring the use of the cynefin framework to inform software development approach decisions,\n",
       " An elicitation instrument for operationalising GQM+Strategies (GQM+S-EI),\n",
       " Strategically balanced process adoption,\n",
       " Application of GQM+Strategies® in the Japanese space industry,\n",
       " Software engineering strategies: Aligning software process improvement with strategic goals,\n",
       " Defining and monitoring strategically aligned software improvement goals,\n",
       " Linking software development and business strategy through measurement,\n",
       " Integration of strategic management, process improvement and quantitative measurement for managing the competitiveness of software engineering organizations,\n",
       " Utilizing GQM+strategies for an organization-wide earned value analysis,\n",
       " Utilizing GQM+strategies for business value analysis: An approach for evaluating business goals,\n",
       " Software process improvement: Supporting the linking of the software and the business strategies,\n",
       " Entropy based software processes improvement,\n",
       " An approach to support the strategic alignment of software process improvement programs,\n",
       " Strategic Alignment of Software Process Improvement Programs Using QFD,\n",
       " Propamet: A metric for process and project alignment,\n",
       " A low-overhead method for software process appraisal,\n",
       " Business-oriented process improvement: Practices and experiences at Thales Naval the Netherlands (TNNL),\n",
       " Measuring and improving software process in China,\n",
       " A business goal-based approach to achieving systems engineering capability maturity,\n",
       " Applying and adjusting a software process improvement model in practice: the use of the IDEAL model in a small software enterprise,\n",
       " Managing process inconsistency using viewpoints,\n",
       " SPI: 'I can't get no satisfaction' - Directing process improvement to meet business needs]"
      ]
     },
     "execution_count": 98,
     "metadata": {},
     "output_type": "execute_result"
    }
   ],
   "source": [
    "print (\"Lista de estudos primários usados como Seed Set:\")\n",
    "([x for _, x in load_work_map_all_years() if x.category == \"snowball\"])"
   ]
  },
  {
   "cell_type": "code",
   "execution_count": 91,
   "metadata": {},
   "outputs": [
    {
     "data": {
      "image/svg+xml": [
       "<?xml version=\"1.0\" encoding=\"UTF-8\" standalone=\"no\"?>\r\n",
       "<!DOCTYPE svg PUBLIC \"-//W3C//DTD SVG 1.1//EN\"\r\n",
       " \"http://www.w3.org/Graphics/SVG/1.1/DTD/svg11.dtd\">\r\n",
       "<!-- Generated by graphviz version 2.38.0 (20140413.2041)\r\n",
       " -->\r\n",
       "<!-- Title: G Pages: 1 -->\r\n",
       "<svg width=\"111pt\" height=\"83pt\"\r\n",
       " viewBox=\"0.00 0.00 111.24 82.95\" xmlns=\"http://www.w3.org/2000/svg\" xmlns:xlink=\"http://www.w3.org/1999/xlink\">\r\n",
       "<g id=\"graph0\" class=\"graph\" transform=\"scale(1 1) rotate(0) translate(4 78.9533)\">\r\n",
       "<title>G</title>\r\n",
       "<polygon fill=\"white\" stroke=\"none\" points=\"-4,4 -4,-78.9533 107.238,-78.9533 107.238,4 -4,4\"/>\r\n",
       "<!-- s0 -->\r\n",
       "<g id=\"node1\" class=\"node\"><title>s0</title>\r\n",
       "<ellipse fill=\"none\" stroke=\"black\" cx=\"51.6188\" cy=\"-37.4767\" rx=\"51.7379\" ry=\"37.4533\"/>\r\n",
       "<text text-anchor=\"middle\" x=\"51.6188\" y=\"-48.7767\" font-family=\"Times New Roman,serif\" font-size=\"14.00\">s0</text>\r\n",
       "<text text-anchor=\"middle\" x=\"51.6188\" y=\"-33.7767\" font-family=\"Times New Roman,serif\" font-size=\"14.00\">visited: 17</text>\r\n",
       "<text text-anchor=\"middle\" x=\"51.6188\" y=\"-18.7767\" font-family=\"Times New Roman,serif\" font-size=\"14.00\">related: 8</text>\r\n",
       "</g>\r\n",
       "</g>\r\n",
       "</svg>\r\n"
      ],
      "text/plain": [
       "Step(name='start', new_references=17, new_related=8, total_visited=17, total_related=8, source='', target='s0')"
      ],
      "text/vnd.graphviz": [
       "digraph G {\n",
       "  rankdir=\"RL\";\n",
       "\n",
       "  s0 [label=\"s0\\nvisited: 17\\nrelated: 8\"];\n",
       "\n",
       "}"
      ]
     },
     "metadata": {},
     "output_type": "display_data"
    }
   ],
   "source": [
    "reload()\n",
    "TOTAL = [x for _, x in load_work_map_all_years() if x.category == \"snowball\"]\n",
    "filter_function = lambda x: x.category in (\"snowball\", \"forward\", \"backward\")\n",
    "\n",
    "strategy = Strategy(*busca(\"scopus\", filter_function=filter_function))\n",
    "\n",
    "state = strategy.initial\n",
    "strategy.initial.visited\n",
    "\n",
    "#strategy.initial.name\n",
    "state\n"
   ]
  },
  {
   "cell_type": "code",
   "execution_count": 78,
   "metadata": {},
   "outputs": [
    {
     "data": {
      "image/svg+xml": [
       "<?xml version=\"1.0\" encoding=\"UTF-8\" standalone=\"no\"?>\r\n",
       "<!DOCTYPE svg PUBLIC \"-//W3C//DTD SVG 1.1//EN\"\r\n",
       " \"http://www.w3.org/Graphics/SVG/1.1/DTD/svg11.dtd\">\r\n",
       "<!-- Generated by graphviz version 2.38.0 (20140413.2041)\r\n",
       " -->\r\n",
       "<!-- Title: G Pages: 1 -->\r\n",
       "<svg width=\"320pt\" height=\"641pt\"\r\n",
       " viewBox=\"0.00 0.00 319.66 640.95\" xmlns=\"http://www.w3.org/2000/svg\" xmlns:xlink=\"http://www.w3.org/1999/xlink\">\r\n",
       "<g id=\"graph0\" class=\"graph\" transform=\"scale(1 1) rotate(0) translate(4 636.953)\">\r\n",
       "<title>G</title>\r\n",
       "<polygon fill=\"white\" stroke=\"none\" points=\"-4,4 -4,-636.953 315.659,-636.953 315.659,4 -4,4\"/>\r\n",
       "<!-- s0 -->\r\n",
       "<g id=\"node1\" class=\"node\"><title>s0</title>\r\n",
       "<ellipse fill=\"none\" stroke=\"black\" cx=\"255.09\" cy=\"-316.477\" rx=\"56.6372\" ry=\"37.4533\"/>\r\n",
       "<text text-anchor=\"middle\" x=\"255.09\" y=\"-327.777\" font-family=\"Times New Roman,serif\" font-size=\"14.00\">s0</text>\r\n",
       "<text text-anchor=\"middle\" x=\"255.09\" y=\"-312.777\" font-family=\"Times New Roman,serif\" font-size=\"14.00\">visited: 434</text>\r\n",
       "<text text-anchor=\"middle\" x=\"255.09\" y=\"-297.777\" font-family=\"Times New Roman,serif\" font-size=\"14.00\">related: 11</text>\r\n",
       "</g>\r\n",
       "<!-- scopus -->\r\n",
       "<g id=\"node2\" class=\"node\"><title>scopus</title>\r\n",
       "<ellipse fill=\"none\" stroke=\"black\" cx=\"65.7609\" cy=\"-595.477\" rx=\"51.7379\" ry=\"37.4533\"/>\r\n",
       "<text text-anchor=\"middle\" x=\"65.7609\" y=\"-606.777\" font-family=\"Times New Roman,serif\" font-size=\"14.00\">scopus</text>\r\n",
       "<text text-anchor=\"middle\" x=\"65.7609\" y=\"-591.777\" font-family=\"Times New Roman,serif\" font-size=\"14.00\">visited: 17</text>\r\n",
       "<text text-anchor=\"middle\" x=\"65.7609\" y=\"-576.777\" font-family=\"Times New Roman,serif\" font-size=\"14.00\">related: 8</text>\r\n",
       "</g>\r\n",
       "<!-- s0&#45;&gt;scopus -->\r\n",
       "<g id=\"edge1\" class=\"edge\"><title>s0&#45;&gt;scopus</title>\r\n",
       "<path fill=\"none\" stroke=\"black\" d=\"M240.923,-352.982C222.135,-401.517 184.008,-488.173 131.522,-548.477 126.327,-554.445 120.239,-560.084 113.911,-565.244\"/>\r\n",
       "<polygon fill=\"black\" stroke=\"black\" points=\"111.58,-562.623 105.818,-571.514 115.867,-568.157 111.58,-562.623\"/>\r\n",
       "<text text-anchor=\"middle\" x=\"165.022\" y=\"-529.277\" font-family=\"Times New Roman,serif\" font-size=\"14.00\">union</text>\r\n",
       "</g>\r\n",
       "<!-- ieee -->\r\n",
       "<g id=\"node3\" class=\"node\"><title>ieee</title>\r\n",
       "<ellipse fill=\"none\" stroke=\"black\" cx=\"65.7609\" cy=\"-502.477\" rx=\"47.2526\" ry=\"37.4533\"/>\r\n",
       "<text text-anchor=\"middle\" x=\"65.7609\" y=\"-513.777\" font-family=\"Times New Roman,serif\" font-size=\"14.00\">ieee</text>\r\n",
       "<text text-anchor=\"middle\" x=\"65.7609\" y=\"-498.777\" font-family=\"Times New Roman,serif\" font-size=\"14.00\">visited: 0</text>\r\n",
       "<text text-anchor=\"middle\" x=\"65.7609\" y=\"-483.777\" font-family=\"Times New Roman,serif\" font-size=\"14.00\">related: 0</text>\r\n",
       "</g>\r\n",
       "<!-- s0&#45;&gt;ieee -->\r\n",
       "<g id=\"edge2\" class=\"edge\"><title>s0&#45;&gt;ieee</title>\r\n",
       "<path fill=\"none\" stroke=\"black\" d=\"M228.219,-349.791C204.609,-379.177 167.941,-422.358 131.522,-455.477 125.095,-461.321 117.944,-467.115 110.806,-472.533\"/>\r\n",
       "<polygon fill=\"black\" stroke=\"black\" points=\"108.429,-469.938 102.476,-478.703 112.595,-475.563 108.429,-469.938\"/>\r\n",
       "<text text-anchor=\"middle\" x=\"165.022\" y=\"-441.277\" font-family=\"Times New Roman,serif\" font-size=\"14.00\">union</text>\r\n",
       "</g>\r\n",
       "<!-- acm -->\r\n",
       "<g id=\"node4\" class=\"node\"><title>acm</title>\r\n",
       "<ellipse fill=\"none\" stroke=\"black\" cx=\"65.7609\" cy=\"-409.477\" rx=\"56.6372\" ry=\"37.4533\"/>\r\n",
       "<text text-anchor=\"middle\" x=\"65.7609\" y=\"-420.777\" font-family=\"Times New Roman,serif\" font-size=\"14.00\">acm</text>\r\n",
       "<text text-anchor=\"middle\" x=\"65.7609\" y=\"-405.777\" font-family=\"Times New Roman,serif\" font-size=\"14.00\">visited: 103</text>\r\n",
       "<text text-anchor=\"middle\" x=\"65.7609\" y=\"-390.777\" font-family=\"Times New Roman,serif\" font-size=\"14.00\">related: 1</text>\r\n",
       "</g>\r\n",
       "<!-- s0&#45;&gt;acm -->\r\n",
       "<g id=\"edge3\" class=\"edge\"><title>s0&#45;&gt;acm</title>\r\n",
       "<path fill=\"none\" stroke=\"black\" d=\"M209.22,-338.752C182.672,-351.933 148.866,-368.715 120.85,-382.624\"/>\r\n",
       "<polygon fill=\"black\" stroke=\"black\" points=\"118.99,-379.64 111.589,-387.222 122.102,-385.91 118.99,-379.64\"/>\r\n",
       "<text text-anchor=\"middle\" x=\"165.022\" y=\"-372.277\" font-family=\"Times New Roman,serif\" font-size=\"14.00\">union</text>\r\n",
       "</g>\r\n",
       "<!-- springer -->\r\n",
       "<g id=\"node5\" class=\"node\"><title>springer</title>\r\n",
       "<ellipse fill=\"none\" stroke=\"black\" cx=\"65.7609\" cy=\"-316.477\" rx=\"56.6372\" ry=\"37.4533\"/>\r\n",
       "<text text-anchor=\"middle\" x=\"65.7609\" y=\"-327.777\" font-family=\"Times New Roman,serif\" font-size=\"14.00\">springer</text>\r\n",
       "<text text-anchor=\"middle\" x=\"65.7609\" y=\"-312.777\" font-family=\"Times New Roman,serif\" font-size=\"14.00\">visited: 128</text>\r\n",
       "<text text-anchor=\"middle\" x=\"65.7609\" y=\"-297.777\" font-family=\"Times New Roman,serif\" font-size=\"14.00\">related: 0</text>\r\n",
       "</g>\r\n",
       "<!-- s0&#45;&gt;springer -->\r\n",
       "<g id=\"edge4\" class=\"edge\"><title>s0&#45;&gt;springer</title>\r\n",
       "<path fill=\"none\" stroke=\"black\" d=\"M198.393,-316.477C177.723,-316.477 154.084,-316.477 132.595,-316.477\"/>\r\n",
       "<polygon fill=\"black\" stroke=\"black\" points=\"132.568,-312.977 122.568,-316.477 132.568,-319.977 132.568,-312.977\"/>\r\n",
       "<text text-anchor=\"middle\" x=\"165.022\" y=\"-320.277\" font-family=\"Times New Roman,serif\" font-size=\"14.00\">union</text>\r\n",
       "</g>\r\n",
       "<!-- elcompendex -->\r\n",
       "<g id=\"node6\" class=\"node\"><title>elcompendex</title>\r\n",
       "<ellipse fill=\"none\" stroke=\"black\" cx=\"65.7609\" cy=\"-223.477\" rx=\"64.1938\" ry=\"37.4533\"/>\r\n",
       "<text text-anchor=\"middle\" x=\"65.7609\" y=\"-234.777\" font-family=\"Times New Roman,serif\" font-size=\"14.00\">elcompendex</text>\r\n",
       "<text text-anchor=\"middle\" x=\"65.7609\" y=\"-219.777\" font-family=\"Times New Roman,serif\" font-size=\"14.00\">visited: 16</text>\r\n",
       "<text text-anchor=\"middle\" x=\"65.7609\" y=\"-204.777\" font-family=\"Times New Roman,serif\" font-size=\"14.00\">related: 7</text>\r\n",
       "</g>\r\n",
       "<!-- s0&#45;&gt;elcompendex -->\r\n",
       "<g id=\"edge5\" class=\"edge\"><title>s0&#45;&gt;elcompendex</title>\r\n",
       "<path fill=\"none\" stroke=\"black\" d=\"M209.22,-294.201C183.741,-281.552 151.579,-265.585 124.264,-252.024\"/>\r\n",
       "<polygon fill=\"black\" stroke=\"black\" points=\"125.716,-248.837 115.203,-247.526 122.603,-255.107 125.716,-248.837\"/>\r\n",
       "<text text-anchor=\"middle\" x=\"165.022\" y=\"-281.277\" font-family=\"Times New Roman,serif\" font-size=\"14.00\">union</text>\r\n",
       "</g>\r\n",
       "<!-- webofscience -->\r\n",
       "<g id=\"node7\" class=\"node\"><title>webofscience</title>\r\n",
       "<ellipse fill=\"none\" stroke=\"black\" cx=\"65.7609\" cy=\"-130.477\" rx=\"65.5227\" ry=\"37.4533\"/>\r\n",
       "<text text-anchor=\"middle\" x=\"65.7609\" y=\"-141.777\" font-family=\"Times New Roman,serif\" font-size=\"14.00\">webofscience</text>\r\n",
       "<text text-anchor=\"middle\" x=\"65.7609\" y=\"-126.777\" font-family=\"Times New Roman,serif\" font-size=\"14.00\">visited: 10</text>\r\n",
       "<text text-anchor=\"middle\" x=\"65.7609\" y=\"-111.777\" font-family=\"Times New Roman,serif\" font-size=\"14.00\">related: 5</text>\r\n",
       "</g>\r\n",
       "<!-- s0&#45;&gt;webofscience -->\r\n",
       "<g id=\"edge6\" class=\"edge\"><title>s0&#45;&gt;webofscience</title>\r\n",
       "<path fill=\"none\" stroke=\"black\" d=\"M228.219,-283.163C204.609,-253.777 167.941,-210.595 131.522,-177.477 126.935,-173.306 121.98,-169.161 116.924,-165.16\"/>\r\n",
       "<polygon fill=\"black\" stroke=\"black\" points=\"118.992,-162.335 108.934,-159.007 114.722,-167.881 118.992,-162.335\"/>\r\n",
       "<text text-anchor=\"middle\" x=\"165.022\" y=\"-228.277\" font-family=\"Times New Roman,serif\" font-size=\"14.00\">union</text>\r\n",
       "</g>\r\n",
       "<!-- sciencedirect -->\r\n",
       "<g id=\"node8\" class=\"node\"><title>sciencedirect</title>\r\n",
       "<ellipse fill=\"none\" stroke=\"black\" cx=\"65.7609\" cy=\"-37.4767\" rx=\"62.8651\" ry=\"37.4533\"/>\r\n",
       "<text text-anchor=\"middle\" x=\"65.7609\" y=\"-48.7767\" font-family=\"Times New Roman,serif\" font-size=\"14.00\">sciencedirect</text>\r\n",
       "<text text-anchor=\"middle\" x=\"65.7609\" y=\"-33.7767\" font-family=\"Times New Roman,serif\" font-size=\"14.00\">visited: 182</text>\r\n",
       "<text text-anchor=\"middle\" x=\"65.7609\" y=\"-18.7767\" font-family=\"Times New Roman,serif\" font-size=\"14.00\">related: 1</text>\r\n",
       "</g>\r\n",
       "<!-- s0&#45;&gt;sciencedirect -->\r\n",
       "<g id=\"edge7\" class=\"edge\"><title>s0&#45;&gt;sciencedirect</title>\r\n",
       "<path fill=\"none\" stroke=\"black\" d=\"M240.923,-279.972C222.135,-231.436 184.008,-144.781 131.522,-84.4767 127.392,-79.7317 122.697,-75.1948 117.766,-70.9409\"/>\r\n",
       "<polygon fill=\"black\" stroke=\"black\" points=\"119.831,-68.1089 109.87,-64.4998 115.407,-73.533 119.831,-68.1089\"/>\r\n",
       "<text text-anchor=\"middle\" x=\"165.022\" y=\"-153.277\" font-family=\"Times New Roman,serif\" font-size=\"14.00\">union</text>\r\n",
       "</g>\r\n",
       "</g>\r\n",
       "</svg>\r\n"
      ],
      "text/plain": [
       "Step(name='start', new_references=182, new_related=1, total_visited=182, total_related=1, source='', target='sciencedirect')\n",
       "Step(name='start', new_references=10, new_related=5, total_visited=10, total_related=5, source='', target='webofscience')\n",
       "Step(name='start', new_references=16, new_related=7, total_visited=16, total_related=7, source='', target='elcompendex')\n",
       "Step(name='start', new_references=128, new_related=0, total_visited=128, total_related=0, source='', target='springer')\n",
       "Step(name='start', new_references=103, new_related=1, total_visited=103, total_related=1, source='', target='acm')\n",
       "Step(name='start', new_references=0, new_related=0, total_visited=0, total_related=0, source='', target='ieee')\n",
       "Step(name='start', new_references=17, new_related=8, total_visited=17, total_related=8, source='', target='scopus')\n",
       "Step(name='union', new_references=0, new_related=0, total_visited=434, total_related=11, source='scopus|ieee|acm|springer|elcompendex|webofscience|sciencedirect', target='s0')"
      ],
      "text/vnd.graphviz": [
       "digraph G {\n",
       "  rankdir=\"RL\";\n",
       "\n",
       "  s0 [label=\"s0\\nvisited: 434\\nrelated: 11\"];\n",
       "  s0 -> scopus [label=\"union\"];\n",
       "  s0 -> ieee [label=\"union\"];\n",
       "  s0 -> acm [label=\"union\"];\n",
       "  s0 -> springer [label=\"union\"];\n",
       "  s0 -> elcompendex [label=\"union\"];\n",
       "  s0 -> webofscience [label=\"union\"];\n",
       "  s0 -> sciencedirect [label=\"union\"];\n",
       "\n",
       "  scopus [label=\"scopus\\nvisited: 17\\nrelated: 8\"];\n",
       "\n",
       "  ieee [label=\"ieee\\nvisited: 0\\nrelated: 0\"];\n",
       "\n",
       "  acm [label=\"acm\\nvisited: 103\\nrelated: 1\"];\n",
       "\n",
       "  springer [label=\"springer\\nvisited: 128\\nrelated: 0\"];\n",
       "\n",
       "  elcompendex [label=\"elcompendex\\nvisited: 16\\nrelated: 7\"];\n",
       "\n",
       "  webofscience [label=\"webofscience\\nvisited: 10\\nrelated: 5\"];\n",
       "\n",
       "  sciencedirect [label=\"sciencedirect\\nvisited: 182\\nrelated: 1\"];\n",
       "\n",
       "}"
      ]
     },
     "metadata": {},
     "output_type": "display_data"
    }
   ],
   "source": [
    "from snowballing.strategies import State\n",
    "\n",
    "reload()\n",
    "def busca_completa(libs, filter_function):\n",
    "    union = None\n",
    "    for dl in libs:\n",
    "        strategy = Strategy(*busca(dl, filter_function=filter_function))\n",
    "        strategy.initial.name = dl\n",
    "        if union is None:\n",
    "            union = strategy.initial.derive(\"union\", name=\"s0\")\n",
    "        else:\n",
    "            union.visited.update(strategy.initial.visited)\n",
    "            union.related.update(strategy.initial.related)\n",
    "            union.previous[0].append(strategy.initial)\n",
    "\n",
    "    State.last_id = 0\n",
    "    strategy.initial = union\n",
    "    return strategy\n",
    "\n",
    "strategy = busca_completa([\"scopus\", \"ieee\", \"acm\", \"springer\", \"elcompendex\", \"webofscience\", \"sciencedirect\"], filter_function)\n",
    "#strategy.initial.find(\"acm\")\n",
    "strategy.initial"
   ]
  },
  {
   "cell_type": "code",
   "execution_count": 60,
   "metadata": {},
   "outputs": [
    {
     "name": "stdout",
     "output_type": "stream",
     "text": [
      "Precision E1\n",
      "0.47058823529411764\n",
      "Recall E1\n",
      "0.36363636363636365\n"
     ]
    }
   ],
   "source": [
    "array = []\n",
    "\n",
    "name = \"E1\"\n",
    "print (\"Precision \" + name)\n",
    "EP = len (state.related) / len (state.visited)\n",
    "print (EP)\n",
    "print (\"Recall \" + name)\n",
    "ER = len (state.related) / len (TOTAL)\n",
    "print (ER)\n",
    "\n",
    "array.append((name, EP, ER))"
   ]
  },
  {
   "cell_type": "markdown",
   "metadata": {},
   "source": [
    "## Estratégia 2 - Busca em todas Digital Libraries + Snowballing (Guideline - sfbu)"
   ]
  },
  {
   "cell_type": "code",
   "execution_count": 7,
   "metadata": {},
   "outputs": [
    {
     "data": {
      "image/svg+xml": [
       "<?xml version=\"1.0\" encoding=\"UTF-8\" standalone=\"no\"?>\r\n",
       "<!DOCTYPE svg PUBLIC \"-//W3C//DTD SVG 1.1//EN\"\r\n",
       " \"http://www.w3.org/Graphics/SVG/1.1/DTD/svg11.dtd\">\r\n",
       "<!-- Generated by graphviz version 2.38.0 (20140413.2041)\r\n",
       " -->\r\n",
       "<!-- Title: G Pages: 1 -->\r\n",
       "<svg width=\"646pt\" height=\"179pt\"\r\n",
       " viewBox=\"0.00 0.00 645.95 178.95\" xmlns=\"http://www.w3.org/2000/svg\" xmlns:xlink=\"http://www.w3.org/1999/xlink\">\r\n",
       "<g id=\"graph0\" class=\"graph\" transform=\"scale(1 1) rotate(0) translate(4 174.953)\">\r\n",
       "<title>G</title>\r\n",
       "<polygon fill=\"white\" stroke=\"none\" points=\"-4,4 -4,-174.953 641.95,-174.953 641.95,4 -4,4\"/>\r\n",
       "<!-- s3 -->\r\n",
       "<g id=\"node1\" class=\"node\"><title>s3</title>\r\n",
       "<ellipse fill=\"none\" stroke=\"black\" cx=\"586.332\" cy=\"-90.4767\" rx=\"51.7379\" ry=\"37.4533\"/>\r\n",
       "<text text-anchor=\"middle\" x=\"586.332\" y=\"-101.777\" font-family=\"Times New Roman,serif\" font-size=\"14.00\">s3</text>\r\n",
       "<text text-anchor=\"middle\" x=\"586.332\" y=\"-86.7767\" font-family=\"Times New Roman,serif\" font-size=\"14.00\">visited: 17</text>\r\n",
       "<text text-anchor=\"middle\" x=\"586.332\" y=\"-71.7767\" font-family=\"Times New Roman,serif\" font-size=\"14.00\">related: 8</text>\r\n",
       "</g>\r\n",
       "<!-- s1 -->\r\n",
       "<g id=\"node2\" class=\"node\"><title>s1</title>\r\n",
       "<ellipse fill=\"none\" stroke=\"black\" cx=\"416.094\" cy=\"-130.477\" rx=\"51.7379\" ry=\"37.4533\"/>\r\n",
       "<text text-anchor=\"middle\" x=\"416.094\" y=\"-141.777\" font-family=\"Times New Roman,serif\" font-size=\"14.00\">s1</text>\r\n",
       "<text text-anchor=\"middle\" x=\"416.094\" y=\"-126.777\" font-family=\"Times New Roman,serif\" font-size=\"14.00\">visited: 17</text>\r\n",
       "<text text-anchor=\"middle\" x=\"416.094\" y=\"-111.777\" font-family=\"Times New Roman,serif\" font-size=\"14.00\">related: 8</text>\r\n",
       "</g>\r\n",
       "<!-- s3&#45;&gt;s1 -->\r\n",
       "<g id=\"edge1\" class=\"edge\"><title>s3&#45;&gt;s1</title>\r\n",
       "<path fill=\"none\" stroke=\"black\" d=\"M537.121,-101.939C517.763,-106.542 495.28,-111.887 475.042,-116.699\"/>\r\n",
       "<polygon fill=\"black\" stroke=\"black\" points=\"474.23,-113.294 465.311,-119.013 475.85,-120.104 474.23,-113.294\"/>\r\n",
       "<text text-anchor=\"middle\" x=\"501.213\" y=\"-117.277\" font-family=\"Times New Roman,serif\" font-size=\"14.00\">union</text>\r\n",
       "</g>\r\n",
       "<!-- s2 -->\r\n",
       "<g id=\"node3\" class=\"node\"><title>s2</title>\r\n",
       "<ellipse fill=\"none\" stroke=\"black\" cx=\"416.094\" cy=\"-37.4767\" rx=\"51.7379\" ry=\"37.4533\"/>\r\n",
       "<text text-anchor=\"middle\" x=\"416.094\" y=\"-48.7767\" font-family=\"Times New Roman,serif\" font-size=\"14.00\">s2</text>\r\n",
       "<text text-anchor=\"middle\" x=\"416.094\" y=\"-33.7767\" font-family=\"Times New Roman,serif\" font-size=\"14.00\">visited: 17</text>\r\n",
       "<text text-anchor=\"middle\" x=\"416.094\" y=\"-18.7767\" font-family=\"Times New Roman,serif\" font-size=\"14.00\">related: 8</text>\r\n",
       "</g>\r\n",
       "<!-- s3&#45;&gt;s2 -->\r\n",
       "<g id=\"edge2\" class=\"edge\"><title>s3&#45;&gt;s2</title>\r\n",
       "<path fill=\"none\" stroke=\"black\" d=\"M538.468,-75.7132C518.324,-69.3672 494.608,-61.8958 473.509,-55.2491\"/>\r\n",
       "<polygon fill=\"black\" stroke=\"black\" points=\"474.296,-51.8275 463.706,-52.1609 472.192,-58.504 474.296,-51.8275\"/>\r\n",
       "<text text-anchor=\"middle\" x=\"501.213\" y=\"-73.2767\" font-family=\"Times New Roman,serif\" font-size=\"14.00\">union</text>\r\n",
       "</g>\r\n",
       "<!-- s0 -->\r\n",
       "<g id=\"node4\" class=\"node\"><title>s0</title>\r\n",
       "<ellipse fill=\"none\" stroke=\"black\" cx=\"221.856\" cy=\"-86.4767\" rx=\"51.7379\" ry=\"37.4533\"/>\r\n",
       "<text text-anchor=\"middle\" x=\"221.856\" y=\"-97.7767\" font-family=\"Times New Roman,serif\" font-size=\"14.00\">s0</text>\r\n",
       "<text text-anchor=\"middle\" x=\"221.856\" y=\"-82.7767\" font-family=\"Times New Roman,serif\" font-size=\"14.00\">visited: 17</text>\r\n",
       "<text text-anchor=\"middle\" x=\"221.856\" y=\"-67.7767\" font-family=\"Times New Roman,serif\" font-size=\"14.00\">related: 8</text>\r\n",
       "</g>\r\n",
       "<!-- s1&#45;&gt;s0 -->\r\n",
       "<g id=\"edge3\" class=\"edge\"><title>s1&#45;&gt;s0</title>\r\n",
       "<path fill=\"none\" stroke=\"black\" d=\"M366.584,-119.374C340.63,-113.433 308.48,-106.074 281.172,-99.8241\"/>\r\n",
       "<polygon fill=\"black\" stroke=\"black\" points=\"281.879,-96.3956 271.351,-97.5762 280.318,-103.219 281.879,-96.3956\"/>\r\n",
       "<text text-anchor=\"middle\" x=\"318.975\" y=\"-147.277\" font-family=\"Times New Roman,serif\" font-size=\"14.00\">forward</text>\r\n",
       "<text text-anchor=\"middle\" x=\"318.975\" y=\"-132.277\" font-family=\"Times New Roman,serif\" font-size=\"14.00\">found: 0</text>\r\n",
       "<text text-anchor=\"middle\" x=\"318.975\" y=\"-117.277\" font-family=\"Times New Roman,serif\" font-size=\"14.00\">related: 0</text>\r\n",
       "</g>\r\n",
       "<!-- s2&#45;&gt;s0 -->\r\n",
       "<g id=\"edge4\" class=\"edge\"><title>s2&#45;&gt;s0</title>\r\n",
       "<path fill=\"none\" stroke=\"black\" d=\"M364.45,-40.988C341.795,-43.4354 314.957,-47.5584 291.475,-54.4767 285.517,-56.2319 279.421,-58.4293 273.441,-60.8459\"/>\r\n",
       "<polygon fill=\"black\" stroke=\"black\" points=\"272.004,-57.6536 264.175,-64.7918 274.747,-64.0939 272.004,-57.6536\"/>\r\n",
       "<text text-anchor=\"middle\" x=\"318.975\" y=\"-88.2767\" font-family=\"Times New Roman,serif\" font-size=\"14.00\">backward</text>\r\n",
       "<text text-anchor=\"middle\" x=\"318.975\" y=\"-73.2767\" font-family=\"Times New Roman,serif\" font-size=\"14.00\">found: 0</text>\r\n",
       "<text text-anchor=\"middle\" x=\"318.975\" y=\"-58.2767\" font-family=\"Times New Roman,serif\" font-size=\"14.00\">related: 0</text>\r\n",
       "</g>\r\n",
       "<!-- acm -->\r\n",
       "<g id=\"node5\" class=\"node\"><title>acm</title>\r\n",
       "<ellipse fill=\"none\" stroke=\"black\" cx=\"51.6188\" cy=\"-133.477\" rx=\"47.2526\" ry=\"37.4533\"/>\r\n",
       "<text text-anchor=\"middle\" x=\"51.6188\" y=\"-144.777\" font-family=\"Times New Roman,serif\" font-size=\"14.00\">acm</text>\r\n",
       "<text text-anchor=\"middle\" x=\"51.6188\" y=\"-129.777\" font-family=\"Times New Roman,serif\" font-size=\"14.00\">visited: 0</text>\r\n",
       "<text text-anchor=\"middle\" x=\"51.6188\" y=\"-114.777\" font-family=\"Times New Roman,serif\" font-size=\"14.00\">related: 0</text>\r\n",
       "</g>\r\n",
       "<!-- s0&#45;&gt;acm -->\r\n",
       "<g id=\"edge5\" class=\"edge\"><title>s0&#45;&gt;acm</title>\r\n",
       "<path fill=\"none\" stroke=\"black\" d=\"M173.545,-99.6939C152.559,-105.557 127.766,-112.483 106.11,-118.533\"/>\r\n",
       "<polygon fill=\"black\" stroke=\"black\" points=\"105.095,-115.183 96.4052,-121.244 106.978,-121.924 105.095,-115.183\"/>\r\n",
       "<text text-anchor=\"middle\" x=\"136.738\" y=\"-117.277\" font-family=\"Times New Roman,serif\" font-size=\"14.00\">union</text>\r\n",
       "</g>\r\n",
       "<!-- scopus -->\r\n",
       "<g id=\"node6\" class=\"node\"><title>scopus</title>\r\n",
       "<ellipse fill=\"none\" stroke=\"black\" cx=\"51.6188\" cy=\"-40.4767\" rx=\"51.7379\" ry=\"37.4533\"/>\r\n",
       "<text text-anchor=\"middle\" x=\"51.6188\" y=\"-51.7767\" font-family=\"Times New Roman,serif\" font-size=\"14.00\">scopus</text>\r\n",
       "<text text-anchor=\"middle\" x=\"51.6188\" y=\"-36.7767\" font-family=\"Times New Roman,serif\" font-size=\"14.00\">visited: 17</text>\r\n",
       "<text text-anchor=\"middle\" x=\"51.6188\" y=\"-21.7767\" font-family=\"Times New Roman,serif\" font-size=\"14.00\">related: 8</text>\r\n",
       "</g>\r\n",
       "<!-- s0&#45;&gt;scopus -->\r\n",
       "<g id=\"edge6\" class=\"edge\"><title>s0&#45;&gt;scopus</title>\r\n",
       "<path fill=\"none\" stroke=\"black\" d=\"M173.096,-73.4179C153.477,-68.0537 130.591,-61.7961 110.068,-56.1845\"/>\r\n",
       "<polygon fill=\"black\" stroke=\"black\" points=\"110.776,-52.7498 100.207,-53.4883 108.93,-59.5019 110.776,-52.7498\"/>\r\n",
       "<text text-anchor=\"middle\" x=\"136.738\" y=\"-72.2767\" font-family=\"Times New Roman,serif\" font-size=\"14.00\">union</text>\r\n",
       "</g>\r\n",
       "</g>\r\n",
       "</svg>\r\n"
      ],
      "text/plain": [
       "Step(name='start', new_references=17, new_related=8, total_visited=17, total_related=8, source='', target='scopus')\n",
       "Step(name='start', new_references=0, new_related=0, total_visited=0, total_related=0, source='', target='acm')\n",
       "Step(name='union', new_references=0, new_related=0, total_visited=17, total_related=8, source='acm|scopus', target='s0')\n",
       "Step(name='backward', new_references=0, new_related=0, total_visited=17, total_related=8, source='s0', target='s2')\n",
       "Step(name='forward', new_references=0, new_related=0, total_visited=17, total_related=8, source='s0', target='s1')\n",
       "Step(name='union', new_references=0, new_related=0, total_visited=17, total_related=8, source='s1|s2', target='s3')"
      ],
      "text/vnd.graphviz": [
       "digraph G {\n",
       "  rankdir=\"RL\";\n",
       "\n",
       "  s3 [label=\"s3\\nvisited: 17\\nrelated: 8\"];\n",
       "  s3 -> s1 [label=\"union\"];\n",
       "  s3 -> s2 [label=\"union\"];\n",
       "\n",
       "  s1 [label=\"s1\\nvisited: 17\\nrelated: 8\"];\n",
       "  s1 -> s0 [label=\"forward\\nfound: 0\\nrelated: 0\"];\n",
       "\n",
       "  s2 [label=\"s2\\nvisited: 17\\nrelated: 8\"];\n",
       "  s2 -> s0 [label=\"backward\\nfound: 0\\nrelated: 0\"];\n",
       "\n",
       "  s0 [label=\"s0\\nvisited: 17\\nrelated: 8\"];\n",
       "  s0 -> acm [label=\"union\"];\n",
       "  s0 -> scopus [label=\"union\"];\n",
       "\n",
       "  acm [label=\"acm\\nvisited: 0\\nrelated: 0\"];\n",
       "\n",
       "  scopus [label=\"scopus\\nvisited: 17\\nrelated: 8\"];\n",
       "\n",
       "}"
      ]
     },
     "metadata": {},
     "output_type": "display_data"
    }
   ],
   "source": [
    "reload()\n",
    "filter_function = lambda x: x.category in (\"snowball\", \"forward\", \"backward\")\n",
    "\n",
    "strategy = busca_completa([\"acm\", \"scopus\"], filter_function)\n",
    "#Strategy(*busca(\"acm\",\"scopus\", filter_function=filter_function))\n",
    "\n",
    "state = strategy.sfbu()\n",
    "#state = strategy.bbff()\n",
    "#state = strategy.ffbb()\n",
    "#state = strategy.s2ffbb2u()\n",
    "\n",
    "state"
   ]
  },
  {
   "cell_type": "markdown",
   "metadata": {},
   "source": [
    "### Resumo "
   ]
  },
  {
   "cell_type": "markdown",
   "metadata": {},
   "source": [
    "#### Resumo da Busca em DL"
   ]
  },
  {
   "cell_type": "code",
   "execution_count": 8,
   "metadata": {},
   "outputs": [
    {
     "data": {
      "image/svg+xml": [
       "<?xml version=\"1.0\" encoding=\"UTF-8\" standalone=\"no\"?>\r\n",
       "<!DOCTYPE svg PUBLIC \"-//W3C//DTD SVG 1.1//EN\"\r\n",
       " \"http://www.w3.org/Graphics/SVG/1.1/DTD/svg11.dtd\">\r\n",
       "<!-- Generated by graphviz version 2.38.0 (20140413.2041)\r\n",
       " -->\r\n",
       "<!-- Title: G Pages: 1 -->\r\n",
       "<svg width=\"103pt\" height=\"83pt\"\r\n",
       " viewBox=\"0.00 0.00 102.75 82.95\" xmlns=\"http://www.w3.org/2000/svg\" xmlns:xlink=\"http://www.w3.org/1999/xlink\">\r\n",
       "<g id=\"graph0\" class=\"graph\" transform=\"scale(1 1) rotate(0) translate(4 78.9533)\">\r\n",
       "<title>G</title>\r\n",
       "<polygon fill=\"white\" stroke=\"none\" points=\"-4,4 -4,-78.9533 98.7523,-78.9533 98.7523,4 -4,4\"/>\r\n",
       "<!-- acm -->\r\n",
       "<g id=\"node1\" class=\"node\"><title>acm</title>\r\n",
       "<ellipse fill=\"none\" stroke=\"black\" cx=\"47.3762\" cy=\"-37.4767\" rx=\"47.2526\" ry=\"37.4533\"/>\r\n",
       "<text text-anchor=\"middle\" x=\"47.3762\" y=\"-48.7767\" font-family=\"Times New Roman,serif\" font-size=\"14.00\">acm</text>\r\n",
       "<text text-anchor=\"middle\" x=\"47.3762\" y=\"-33.7767\" font-family=\"Times New Roman,serif\" font-size=\"14.00\">visited: 0</text>\r\n",
       "<text text-anchor=\"middle\" x=\"47.3762\" y=\"-18.7767\" font-family=\"Times New Roman,serif\" font-size=\"14.00\">related: 0</text>\r\n",
       "</g>\r\n",
       "</g>\r\n",
       "</svg>\r\n"
      ],
      "text/plain": [
       "Step(name='start', new_references=0, new_related=0, total_visited=0, total_related=0, source='', target='acm')"
      ],
      "text/vnd.graphviz": [
       "digraph G {\n",
       "  rankdir=\"RL\";\n",
       "\n",
       "  acm [label=\"acm\\nvisited: 0\\nrelated: 0\"];\n",
       "\n",
       "}"
      ]
     },
     "metadata": {},
     "output_type": "display_data"
    }
   ],
   "source": [
    "strategy.initial.find(\"acm\")"
   ]
  },
  {
   "cell_type": "code",
   "execution_count": 9,
   "metadata": {},
   "outputs": [
    {
     "data": {
      "text/plain": [
       "set()"
      ]
     },
     "execution_count": 9,
     "metadata": {},
     "output_type": "execute_result"
    }
   ],
   "source": [
    "# Visitados ACM\n",
    "strategy.initial.find(\"acm\").visited"
   ]
  },
  {
   "cell_type": "code",
   "execution_count": 10,
   "metadata": {},
   "outputs": [
    {
     "data": {
      "text/plain": [
       "set()"
      ]
     },
     "execution_count": 10,
     "metadata": {},
     "output_type": "execute_result"
    }
   ],
   "source": [
    "# Relacionados ACM - encontrado no seed set\n",
    "strategy.initial.find(\"acm\").related"
   ]
  },
  {
   "cell_type": "code",
   "execution_count": 11,
   "metadata": {},
   "outputs": [
    {
     "data": {
      "image/svg+xml": [
       "<?xml version=\"1.0\" encoding=\"UTF-8\" standalone=\"no\"?>\r\n",
       "<!DOCTYPE svg PUBLIC \"-//W3C//DTD SVG 1.1//EN\"\r\n",
       " \"http://www.w3.org/Graphics/SVG/1.1/DTD/svg11.dtd\">\r\n",
       "<!-- Generated by graphviz version 2.38.0 (20140413.2041)\r\n",
       " -->\r\n",
       "<!-- Title: G Pages: 1 -->\r\n",
       "<svg width=\"111pt\" height=\"83pt\"\r\n",
       " viewBox=\"0.00 0.00 111.24 82.95\" xmlns=\"http://www.w3.org/2000/svg\" xmlns:xlink=\"http://www.w3.org/1999/xlink\">\r\n",
       "<g id=\"graph0\" class=\"graph\" transform=\"scale(1 1) rotate(0) translate(4 78.9533)\">\r\n",
       "<title>G</title>\r\n",
       "<polygon fill=\"white\" stroke=\"none\" points=\"-4,4 -4,-78.9533 107.238,-78.9533 107.238,4 -4,4\"/>\r\n",
       "<!-- scopus -->\r\n",
       "<g id=\"node1\" class=\"node\"><title>scopus</title>\r\n",
       "<ellipse fill=\"none\" stroke=\"black\" cx=\"51.6188\" cy=\"-37.4767\" rx=\"51.7379\" ry=\"37.4533\"/>\r\n",
       "<text text-anchor=\"middle\" x=\"51.6188\" y=\"-48.7767\" font-family=\"Times New Roman,serif\" font-size=\"14.00\">scopus</text>\r\n",
       "<text text-anchor=\"middle\" x=\"51.6188\" y=\"-33.7767\" font-family=\"Times New Roman,serif\" font-size=\"14.00\">visited: 17</text>\r\n",
       "<text text-anchor=\"middle\" x=\"51.6188\" y=\"-18.7767\" font-family=\"Times New Roman,serif\" font-size=\"14.00\">related: 8</text>\r\n",
       "</g>\r\n",
       "</g>\r\n",
       "</svg>\r\n"
      ],
      "text/plain": [
       "Step(name='start', new_references=17, new_related=8, total_visited=17, total_related=8, source='', target='scopus')"
      ],
      "text/vnd.graphviz": [
       "digraph G {\n",
       "  rankdir=\"RL\";\n",
       "\n",
       "  scopus [label=\"scopus\\nvisited: 17\\nrelated: 8\"];\n",
       "\n",
       "}"
      ]
     },
     "metadata": {},
     "output_type": "display_data"
    }
   ],
   "source": [
    "strategy.initial.find(\"scopus\")"
   ]
  },
  {
   "cell_type": "code",
   "execution_count": 16,
   "metadata": {},
   "outputs": [
    {
     "name": "stdout",
     "output_type": "stream",
     "text": [
      "Visitados Scopus:\n"
     ]
    },
    {
     "data": {
      "text/plain": [
       "{Conceptual Alignment Between SPEM-Based Processes and CMMI,\n",
       " Integration of strategic management, process improvement and quantitative measurement for managing the competitiveness of software engineering organizations,\n",
       " Critical success factors in software process improvement: A systematic review,\n",
       " Software process improvement: Supporting the linking of the software and the business strategies,\n",
       " Linking software life cycle activities with product strategy and economics: Extending ISO/IEC 12207 with product management best practices,\n",
       " Propamet: A metric for process and project alignment,\n",
       " Software process improvement for the airline industry,\n",
       " A comparative study of SPI approaches with ProPAM,\n",
       " Software engineering strategies: Aligning software process improvement with strategic goals,\n",
       " An approach to support the strategic alignment of software process improvement programs}"
      ]
     },
     "execution_count": 16,
     "metadata": {},
     "output_type": "execute_result"
    }
   ],
   "source": [
    "print(\"Visitados Scopus:\")\n",
    "strategy.initial.find(\"webofscience\").visited"
   ]
  },
  {
   "cell_type": "code",
   "execution_count": 14,
   "metadata": {},
   "outputs": [
    {
     "name": "stdout",
     "output_type": "stream",
     "text": [
      "Relacionados Scopus - encontrado no seed set:\n"
     ]
    },
    {
     "data": {
      "text/plain": [
       "{Propamet: A metric for process and project alignment,\n",
       " Application of GQM+Strategies® in the Japanese space industry,\n",
       " Integration of strategic management, process improvement and quantitative measurement for managing the competitiveness of software engineering organizations,\n",
       " Defining and monitoring strategically aligned software improvement goals,\n",
       " Software engineering strategies: Aligning software process improvement with strategic goals,\n",
       " Software process improvement: Supporting the linking of the software and the business strategies,\n",
       " An approach to support the strategic alignment of software process improvement programs}"
      ]
     },
     "execution_count": 14,
     "metadata": {},
     "output_type": "execute_result"
    }
   ],
   "source": [
    "print(\"Relacionados Scopus - encontrado no seed set:\")\n",
    "strategy.initial.find(\"elcompendex\").related"
   ]
  },
  {
   "cell_type": "code",
   "execution_count": 86,
   "metadata": {},
   "outputs": [
    {
     "name": "stdout",
     "output_type": "stream",
     "text": [
      "Artigo comum a ACM e Scopus:\n"
     ]
    },
    {
     "data": {
      "text/plain": [
       "{Propamet: A metric for process and project alignment,\n",
       " Software process improvement for the airline industry,\n",
       " A comparative study of SPI approaches with ProPAM,\n",
       " Integration of strategic management, process improvement and quantitative measurement for managing the competitiveness of software engineering organizations,\n",
       " Critical success factors in software process improvement: A systematic review,\n",
       " Software engineering strategies: Aligning software process improvement with strategic goals,\n",
       " Software process improvement: Supporting the linking of the software and the business strategies,\n",
       " An approach to support the strategic alignment of software process improvement programs,\n",
       " Linking software life cycle activities with product strategy and economics: Extending ISO/IEC 12207 with product management best practices}"
      ]
     },
     "execution_count": 86,
     "metadata": {},
     "output_type": "execute_result"
    }
   ],
   "source": [
    "print(\"Artigo comum a ACM e Scopus:\")\n",
    "strategy.initial.find(\"webofscience\").visited & strategy.initial.find(\"scopus\").visited"
   ]
  },
  {
   "cell_type": "markdown",
   "metadata": {},
   "source": [
    "#### Resumo do Snowballing"
   ]
  },
  {
   "cell_type": "code",
   "execution_count": 83,
   "metadata": {},
   "outputs": [
    {
     "name": "stdout",
     "output_type": "stream",
     "text": [
      "Total visitados:\n"
     ]
    },
    {
     "data": {
      "text/plain": [
       "0"
      ]
     },
     "execution_count": 83,
     "metadata": {},
     "output_type": "execute_result"
    }
   ],
   "source": [
    "#Total de visitados = visitados no final - visitados no início\n",
    "print (\"Total visitados:\")\n",
    "len(state.visited - state.find(\"s0\").visited)"
   ]
  },
  {
   "cell_type": "code",
   "execution_count": 84,
   "metadata": {},
   "outputs": [
    {
     "name": "stdout",
     "output_type": "stream",
     "text": [
      "Total Relacionados: Lista dos que foram encontrados via Snowballing\n"
     ]
    },
    {
     "data": {
      "text/plain": [
       "set()"
      ]
     },
     "execution_count": 84,
     "metadata": {},
     "output_type": "execute_result"
    }
   ],
   "source": [
    "# Descrição dos Relacionados = relacionados no final - relacionados no início\n",
    "print (\"Total Relacionados: Lista dos que foram encontrados via Snowballing\")\n",
    "state.related - state.find(\"s0\").related"
   ]
  },
  {
   "cell_type": "code",
   "execution_count": 85,
   "metadata": {},
   "outputs": [
    {
     "name": "stdout",
     "output_type": "stream",
     "text": [
      "Encontrados via somente Snowballing:\n"
     ]
    },
    {
     "data": {
      "text/plain": [
       "[]"
      ]
     },
     "execution_count": 85,
     "metadata": {},
     "output_type": "execute_result"
    }
   ],
   "source": [
    "print (\"Encontrados via somente Snowballing:\")\n",
    "diff_related = state.related - state.find(\"s0\").related\n",
    "diff_related @ metakey_title"
   ]
  },
  {
   "cell_type": "markdown",
   "metadata": {},
   "source": [
    "### Detalhamento por Estado / Aresta"
   ]
  },
  {
   "cell_type": "markdown",
   "metadata": {},
   "source": [
    "#### Estado S0"
   ]
  },
  {
   "cell_type": "markdown",
   "metadata": {},
   "source": [
    "#### Visitados"
   ]
  },
  {
   "cell_type": "code",
   "execution_count": 82,
   "metadata": {},
   "outputs": [
    {
     "name": "stdout",
     "output_type": "stream",
     "text": [
      "Visitados no Estado 0:\n"
     ]
    },
    {
     "data": {
      "text/plain": [
       "{Critical success factors in software process improvement: A systematic review,\n",
       " Using strategic planning for selection of SPI processes: An experience report,\n",
       " Propamet: A metric for process and project alignment,\n",
       " A comparative study of SPI approaches with ProPAM,\n",
       " An approach to support the strategic alignment of software process improvement programs,\n",
       " SPI: 'I can't get no satisfaction' - Directing process improvement to meet business needs,\n",
       " A low-overhead method for software process appraisal,\n",
       " Integration of strategic management, process improvement and quantitative measurement for managing the competitiveness of software engineering organizations,\n",
       " A case study applying process and project alignment methodology,\n",
       " Alignment between the business strategy and the software processes improvement: A roadmap for the implementation [Alinhamento entre estrategia de negocios e melhoria de processos de software: Um roteiro de implementacao],\n",
       " Software process improvement: Supporting the linking of the software and the business strategies,\n",
       " Demanding change: How to remain in business despite IT,\n",
       " Linking software life cycle activities with product strategy and economics: Extending ISO/IEC 12207 with product management best practices,\n",
       " Software process improvement for the airline industry,\n",
       " Empirical evaluation of selected best practices in implementation of software process improvement,\n",
       " Application of GQM+Strategies® in the Japanese space industry,\n",
       " Software engineering strategies: Aligning software process improvement with strategic goals}"
      ]
     },
     "execution_count": 82,
     "metadata": {},
     "output_type": "execute_result"
    }
   ],
   "source": [
    "#S0 - Visitados\n",
    "print(\"Visitados no Estado 0:\")\n",
    "state.find(\"s0\").visited"
   ]
  },
  {
   "cell_type": "markdown",
   "metadata": {},
   "source": [
    "#### Relacionados - Seed Set"
   ]
  },
  {
   "cell_type": "code",
   "execution_count": 80,
   "metadata": {},
   "outputs": [
    {
     "name": "stdout",
     "output_type": "stream",
     "text": [
      "Relacionados no Estado 0: Seed Set\n"
     ]
    },
    {
     "data": {
      "text/plain": [
       "[\"reiblein1997a - SPI: 'I can't get no satisfaction' - Directing process improvement to meet business needs\",\n",
       " 'wilkie2007a - A low-overhead method for software process appraisal',\n",
       " 'guzmán2010a - Integration of strategic management, process improvement and quantitative measurement for managing the competitiveness of software engineering organizations',\n",
       " 'albuquerque2009a - Software process improvement: Supporting the linking of the software and the business strategies',\n",
       " 'martins2008a - Propamet: A metric for process and project alignment',\n",
       " 'kaneko2011a - Application of GQM+Strategies® in the Japanese space industry',\n",
       " 'plösch2011a - Software engineering strategies: Aligning software process improvement with strategic goals',\n",
       " 'becker2008a - An approach to support the strategic alignment of software process improvement programs']"
      ]
     },
     "execution_count": 80,
     "metadata": {},
     "output_type": "execute_result"
    }
   ],
   "source": [
    "#S0 - Relacionados - Encontrados via busca e que existem na lista dos Incluídos da SLR existente - são os seed set!\n",
    "print(\"Relacionados no Estado 0: Seed Set\")\n",
    "state.find(\"s0\").related @ metakey_title"
   ]
  },
  {
   "cell_type": "markdown",
   "metadata": {},
   "source": [
    "#### Aresta s0 -> s2 (Backward - Iteração 1)"
   ]
  },
  {
   "cell_type": "code",
   "execution_count": 81,
   "metadata": {},
   "outputs": [
    {
     "name": "stdout",
     "output_type": "stream",
     "text": [
      "Backward - Qtd Referencias dos artigos visitados para chegar ao Estado 2, a partir do Estado 0:\n"
     ]
    },
    {
     "ename": "AttributeError",
     "evalue": "'NoneType' object has no attribute 'delta_visited'",
     "output_type": "error",
     "traceback": [
      "\u001b[1;31m---------------------------------------------------------------------------\u001b[0m",
      "\u001b[1;31mAttributeError\u001b[0m                            Traceback (most recent call last)",
      "\u001b[1;32m<ipython-input-81-02111810f595>\u001b[0m in \u001b[0;36m<module>\u001b[1;34m()\u001b[0m\n\u001b[0;32m      1\u001b[0m \u001b[1;31m# S2 - Backward (Found) - Visitados na iteração 1\u001b[0m\u001b[1;33m\u001b[0m\u001b[1;33m\u001b[0m\u001b[0m\n\u001b[0;32m      2\u001b[0m \u001b[0mprint\u001b[0m\u001b[1;33m(\u001b[0m\u001b[1;34m\"Backward - Qtd Referencias dos artigos visitados para chegar ao Estado 2, a partir do Estado 0:\"\u001b[0m\u001b[1;33m)\u001b[0m\u001b[1;33m\u001b[0m\u001b[0m\n\u001b[1;32m----> 3\u001b[1;33m \u001b[0mstate\u001b[0m\u001b[1;33m.\u001b[0m\u001b[0mfind\u001b[0m\u001b[1;33m(\u001b[0m\u001b[1;34m\"s2\"\u001b[0m\u001b[1;33m)\u001b[0m\u001b[1;33m.\u001b[0m\u001b[0mdelta_visited\u001b[0m\u001b[1;33m\u001b[0m\u001b[0m\n\u001b[0m",
      "\u001b[1;31mAttributeError\u001b[0m: 'NoneType' object has no attribute 'delta_visited'"
     ]
    }
   ],
   "source": [
    "# S2 - Backward (Found) - Visitados na iteração 1\n",
    "print(\"Backward - Qtd Referencias dos artigos visitados para chegar ao Estado 2, a partir do Estado 0:\")\n",
    "state.find(\"s2\").delta_visited"
   ]
  },
  {
   "cell_type": "code",
   "execution_count": 21,
   "metadata": {},
   "outputs": [
    {
     "name": "stdout",
     "output_type": "stream",
     "text": [
      "Relacionados encontrados via Backward, para chegar ao Estado 2, a partir do Estado 0:\n"
     ]
    },
    {
     "data": {
      "text/plain": [
       "[]"
      ]
     },
     "execution_count": 21,
     "metadata": {},
     "output_type": "execute_result"
    }
   ],
   "source": [
    "# S2 - Backward (Related) - Encontrados na iteração 1, via snowballing, que não foi encontrado via busca para o seed set.\n",
    "print(\"Relacionados encontrados via Backward, para chegar ao Estado 2, a partir do Estado 0:\")\n",
    "state.find(\"s2\").delta_related @ metakey_title"
   ]
  },
  {
   "cell_type": "markdown",
   "metadata": {},
   "source": [
    "#### Aresta s0 -> s1 (Forward - Iteração 1)"
   ]
  },
  {
   "cell_type": "code",
   "execution_count": 22,
   "metadata": {},
   "outputs": [
    {
     "name": "stdout",
     "output_type": "stream",
     "text": [
      "Relacionados encontrados via Forward, para chegar ao Estado 1, a partir do Estado 0:\n"
     ]
    },
    {
     "data": {
      "text/plain": [
       "[]"
      ]
     },
     "execution_count": 22,
     "metadata": {},
     "output_type": "execute_result"
    }
   ],
   "source": [
    "# S1 - Forward (Related) - Encontrados na iteração 1\n",
    "print(\"Relacionados encontrados via Forward, para chegar ao Estado 1, a partir do Estado 0:\")\n",
    "state.find(\"s1\").delta_related @ metakey_title"
   ]
  },
  {
   "cell_type": "markdown",
   "metadata": {},
   "source": [
    "#### Relacionados - Encontrados Via Backward e Forward"
   ]
  },
  {
   "cell_type": "code",
   "execution_count": 23,
   "metadata": {},
   "outputs": [
    {
     "data": {
      "image/svg+xml": [
       "<?xml version=\"1.0\" encoding=\"UTF-8\" standalone=\"no\"?>\r\n",
       "<!DOCTYPE svg PUBLIC \"-//W3C//DTD SVG 1.1//EN\"\r\n",
       " \"http://www.w3.org/Graphics/SVG/1.1/DTD/svg11.dtd\">\r\n",
       "<!-- Generated by graphviz version 2.38.0 (20140413.2041)\r\n",
       " -->\r\n",
       "<!-- Title: G Pages: 1 -->\r\n",
       "<svg width=\"646pt\" height=\"179pt\"\r\n",
       " viewBox=\"0.00 0.00 645.95 178.95\" xmlns=\"http://www.w3.org/2000/svg\" xmlns:xlink=\"http://www.w3.org/1999/xlink\">\r\n",
       "<g id=\"graph0\" class=\"graph\" transform=\"scale(1 1) rotate(0) translate(4 174.953)\">\r\n",
       "<title>G</title>\r\n",
       "<polygon fill=\"white\" stroke=\"none\" points=\"-4,4 -4,-174.953 641.95,-174.953 641.95,4 -4,4\"/>\r\n",
       "<!-- s3 -->\r\n",
       "<g id=\"node1\" class=\"node\"><title>s3</title>\r\n",
       "<ellipse fill=\"none\" stroke=\"black\" cx=\"586.332\" cy=\"-90.4767\" rx=\"51.7379\" ry=\"37.4533\"/>\r\n",
       "<text text-anchor=\"middle\" x=\"586.332\" y=\"-101.777\" font-family=\"Times New Roman,serif\" font-size=\"14.00\">s3</text>\r\n",
       "<text text-anchor=\"middle\" x=\"586.332\" y=\"-86.7767\" font-family=\"Times New Roman,serif\" font-size=\"14.00\">visited: 17</text>\r\n",
       "<text text-anchor=\"middle\" x=\"586.332\" y=\"-71.7767\" font-family=\"Times New Roman,serif\" font-size=\"14.00\">related: 8</text>\r\n",
       "</g>\r\n",
       "<!-- s1 -->\r\n",
       "<g id=\"node2\" class=\"node\"><title>s1</title>\r\n",
       "<ellipse fill=\"none\" stroke=\"black\" cx=\"416.094\" cy=\"-130.477\" rx=\"51.7379\" ry=\"37.4533\"/>\r\n",
       "<text text-anchor=\"middle\" x=\"416.094\" y=\"-141.777\" font-family=\"Times New Roman,serif\" font-size=\"14.00\">s1</text>\r\n",
       "<text text-anchor=\"middle\" x=\"416.094\" y=\"-126.777\" font-family=\"Times New Roman,serif\" font-size=\"14.00\">visited: 17</text>\r\n",
       "<text text-anchor=\"middle\" x=\"416.094\" y=\"-111.777\" font-family=\"Times New Roman,serif\" font-size=\"14.00\">related: 8</text>\r\n",
       "</g>\r\n",
       "<!-- s3&#45;&gt;s1 -->\r\n",
       "<g id=\"edge1\" class=\"edge\"><title>s3&#45;&gt;s1</title>\r\n",
       "<path fill=\"none\" stroke=\"black\" d=\"M537.121,-101.939C517.763,-106.542 495.28,-111.887 475.042,-116.699\"/>\r\n",
       "<polygon fill=\"black\" stroke=\"black\" points=\"474.23,-113.294 465.311,-119.013 475.85,-120.104 474.23,-113.294\"/>\r\n",
       "<text text-anchor=\"middle\" x=\"501.213\" y=\"-117.277\" font-family=\"Times New Roman,serif\" font-size=\"14.00\">union</text>\r\n",
       "</g>\r\n",
       "<!-- s2 -->\r\n",
       "<g id=\"node3\" class=\"node\"><title>s2</title>\r\n",
       "<ellipse fill=\"none\" stroke=\"black\" cx=\"416.094\" cy=\"-37.4767\" rx=\"51.7379\" ry=\"37.4533\"/>\r\n",
       "<text text-anchor=\"middle\" x=\"416.094\" y=\"-48.7767\" font-family=\"Times New Roman,serif\" font-size=\"14.00\">s2</text>\r\n",
       "<text text-anchor=\"middle\" x=\"416.094\" y=\"-33.7767\" font-family=\"Times New Roman,serif\" font-size=\"14.00\">visited: 17</text>\r\n",
       "<text text-anchor=\"middle\" x=\"416.094\" y=\"-18.7767\" font-family=\"Times New Roman,serif\" font-size=\"14.00\">related: 8</text>\r\n",
       "</g>\r\n",
       "<!-- s3&#45;&gt;s2 -->\r\n",
       "<g id=\"edge2\" class=\"edge\"><title>s3&#45;&gt;s2</title>\r\n",
       "<path fill=\"none\" stroke=\"black\" d=\"M538.468,-75.7132C518.324,-69.3672 494.608,-61.8958 473.509,-55.2491\"/>\r\n",
       "<polygon fill=\"black\" stroke=\"black\" points=\"474.296,-51.8275 463.706,-52.1609 472.192,-58.504 474.296,-51.8275\"/>\r\n",
       "<text text-anchor=\"middle\" x=\"501.213\" y=\"-73.2767\" font-family=\"Times New Roman,serif\" font-size=\"14.00\">union</text>\r\n",
       "</g>\r\n",
       "<!-- s0 -->\r\n",
       "<g id=\"node4\" class=\"node\"><title>s0</title>\r\n",
       "<ellipse fill=\"none\" stroke=\"black\" cx=\"221.856\" cy=\"-86.4767\" rx=\"51.7379\" ry=\"37.4533\"/>\r\n",
       "<text text-anchor=\"middle\" x=\"221.856\" y=\"-97.7767\" font-family=\"Times New Roman,serif\" font-size=\"14.00\">s0</text>\r\n",
       "<text text-anchor=\"middle\" x=\"221.856\" y=\"-82.7767\" font-family=\"Times New Roman,serif\" font-size=\"14.00\">visited: 17</text>\r\n",
       "<text text-anchor=\"middle\" x=\"221.856\" y=\"-67.7767\" font-family=\"Times New Roman,serif\" font-size=\"14.00\">related: 8</text>\r\n",
       "</g>\r\n",
       "<!-- s1&#45;&gt;s0 -->\r\n",
       "<g id=\"edge3\" class=\"edge\"><title>s1&#45;&gt;s0</title>\r\n",
       "<path fill=\"none\" stroke=\"black\" d=\"M366.584,-119.374C340.63,-113.433 308.48,-106.074 281.172,-99.8241\"/>\r\n",
       "<polygon fill=\"black\" stroke=\"black\" points=\"281.879,-96.3956 271.351,-97.5762 280.318,-103.219 281.879,-96.3956\"/>\r\n",
       "<text text-anchor=\"middle\" x=\"318.975\" y=\"-147.277\" font-family=\"Times New Roman,serif\" font-size=\"14.00\">forward</text>\r\n",
       "<text text-anchor=\"middle\" x=\"318.975\" y=\"-132.277\" font-family=\"Times New Roman,serif\" font-size=\"14.00\">found: 0</text>\r\n",
       "<text text-anchor=\"middle\" x=\"318.975\" y=\"-117.277\" font-family=\"Times New Roman,serif\" font-size=\"14.00\">related: 0</text>\r\n",
       "</g>\r\n",
       "<!-- s2&#45;&gt;s0 -->\r\n",
       "<g id=\"edge4\" class=\"edge\"><title>s2&#45;&gt;s0</title>\r\n",
       "<path fill=\"none\" stroke=\"black\" d=\"M364.45,-40.988C341.795,-43.4354 314.957,-47.5584 291.475,-54.4767 285.517,-56.2319 279.421,-58.4293 273.441,-60.8459\"/>\r\n",
       "<polygon fill=\"black\" stroke=\"black\" points=\"272.004,-57.6536 264.175,-64.7918 274.747,-64.0939 272.004,-57.6536\"/>\r\n",
       "<text text-anchor=\"middle\" x=\"318.975\" y=\"-88.2767\" font-family=\"Times New Roman,serif\" font-size=\"14.00\">backward</text>\r\n",
       "<text text-anchor=\"middle\" x=\"318.975\" y=\"-73.2767\" font-family=\"Times New Roman,serif\" font-size=\"14.00\">found: 0</text>\r\n",
       "<text text-anchor=\"middle\" x=\"318.975\" y=\"-58.2767\" font-family=\"Times New Roman,serif\" font-size=\"14.00\">related: 0</text>\r\n",
       "</g>\r\n",
       "<!-- acm -->\r\n",
       "<g id=\"node5\" class=\"node\"><title>acm</title>\r\n",
       "<ellipse fill=\"none\" stroke=\"black\" cx=\"51.6188\" cy=\"-133.477\" rx=\"47.2526\" ry=\"37.4533\"/>\r\n",
       "<text text-anchor=\"middle\" x=\"51.6188\" y=\"-144.777\" font-family=\"Times New Roman,serif\" font-size=\"14.00\">acm</text>\r\n",
       "<text text-anchor=\"middle\" x=\"51.6188\" y=\"-129.777\" font-family=\"Times New Roman,serif\" font-size=\"14.00\">visited: 0</text>\r\n",
       "<text text-anchor=\"middle\" x=\"51.6188\" y=\"-114.777\" font-family=\"Times New Roman,serif\" font-size=\"14.00\">related: 0</text>\r\n",
       "</g>\r\n",
       "<!-- s0&#45;&gt;acm -->\r\n",
       "<g id=\"edge5\" class=\"edge\"><title>s0&#45;&gt;acm</title>\r\n",
       "<path fill=\"none\" stroke=\"black\" d=\"M173.545,-99.6939C152.559,-105.557 127.766,-112.483 106.11,-118.533\"/>\r\n",
       "<polygon fill=\"black\" stroke=\"black\" points=\"105.095,-115.183 96.4052,-121.244 106.978,-121.924 105.095,-115.183\"/>\r\n",
       "<text text-anchor=\"middle\" x=\"136.738\" y=\"-117.277\" font-family=\"Times New Roman,serif\" font-size=\"14.00\">union</text>\r\n",
       "</g>\r\n",
       "<!-- scopus -->\r\n",
       "<g id=\"node6\" class=\"node\"><title>scopus</title>\r\n",
       "<ellipse fill=\"none\" stroke=\"black\" cx=\"51.6188\" cy=\"-40.4767\" rx=\"51.7379\" ry=\"37.4533\"/>\r\n",
       "<text text-anchor=\"middle\" x=\"51.6188\" y=\"-51.7767\" font-family=\"Times New Roman,serif\" font-size=\"14.00\">scopus</text>\r\n",
       "<text text-anchor=\"middle\" x=\"51.6188\" y=\"-36.7767\" font-family=\"Times New Roman,serif\" font-size=\"14.00\">visited: 17</text>\r\n",
       "<text text-anchor=\"middle\" x=\"51.6188\" y=\"-21.7767\" font-family=\"Times New Roman,serif\" font-size=\"14.00\">related: 8</text>\r\n",
       "</g>\r\n",
       "<!-- s0&#45;&gt;scopus -->\r\n",
       "<g id=\"edge6\" class=\"edge\"><title>s0&#45;&gt;scopus</title>\r\n",
       "<path fill=\"none\" stroke=\"black\" d=\"M173.096,-73.4179C153.477,-68.0537 130.591,-61.7961 110.068,-56.1845\"/>\r\n",
       "<polygon fill=\"black\" stroke=\"black\" points=\"110.776,-52.7498 100.207,-53.4883 108.93,-59.5019 110.776,-52.7498\"/>\r\n",
       "<text text-anchor=\"middle\" x=\"136.738\" y=\"-72.2767\" font-family=\"Times New Roman,serif\" font-size=\"14.00\">union</text>\r\n",
       "</g>\r\n",
       "</g>\r\n",
       "</svg>\r\n"
      ],
      "text/plain": [
       "Step(name='start', new_references=17, new_related=8, total_visited=17, total_related=8, source='', target='scopus')\n",
       "Step(name='start', new_references=0, new_related=0, total_visited=0, total_related=0, source='', target='acm')\n",
       "Step(name='union', new_references=0, new_related=0, total_visited=17, total_related=8, source='acm|scopus', target='s0')\n",
       "Step(name='backward', new_references=0, new_related=0, total_visited=17, total_related=8, source='s0', target='s2')\n",
       "Step(name='forward', new_references=0, new_related=0, total_visited=17, total_related=8, source='s0', target='s1')\n",
       "Step(name='union', new_references=0, new_related=0, total_visited=17, total_related=8, source='s1|s2', target='s3')"
      ],
      "text/vnd.graphviz": [
       "digraph G {\n",
       "  rankdir=\"RL\";\n",
       "\n",
       "  s3 [label=\"s3\\nvisited: 17\\nrelated: 8\"];\n",
       "  s3 -> s1 [label=\"union\"];\n",
       "  s3 -> s2 [label=\"union\"];\n",
       "\n",
       "  s1 [label=\"s1\\nvisited: 17\\nrelated: 8\"];\n",
       "  s1 -> s0 [label=\"forward\\nfound: 0\\nrelated: 0\"];\n",
       "\n",
       "  s2 [label=\"s2\\nvisited: 17\\nrelated: 8\"];\n",
       "  s2 -> s0 [label=\"backward\\nfound: 0\\nrelated: 0\"];\n",
       "\n",
       "  s0 [label=\"s0\\nvisited: 17\\nrelated: 8\"];\n",
       "  s0 -> acm [label=\"union\"];\n",
       "  s0 -> scopus [label=\"union\"];\n",
       "\n",
       "  acm [label=\"acm\\nvisited: 0\\nrelated: 0\"];\n",
       "\n",
       "  scopus [label=\"scopus\\nvisited: 17\\nrelated: 8\"];\n",
       "\n",
       "}"
      ]
     },
     "metadata": {},
     "output_type": "display_data"
    }
   ],
   "source": [
    "state"
   ]
  },
  {
   "cell_type": "code",
   "execution_count": 24,
   "metadata": {},
   "outputs": [
    {
     "data": {
      "text/plain": [
       "0"
      ]
     },
     "execution_count": 24,
     "metadata": {},
     "output_type": "execute_result"
    }
   ],
   "source": [
    "# Quantidade de artigo que existe em mais de uma biblioteca, após a união, no Estado S0, Ex, existe 1 artigo em acm e scopus.\n",
    "state.find(\"s0\").previous[0][1]\n",
    "\n",
    "(len(strategy.initial.find(\"acm\").visited) + len(strategy.initial.find(\"scopus\").visited)) - len(state.find(\"s0\").visited)"
   ]
  },
  {
   "cell_type": "code",
   "execution_count": 25,
   "metadata": {},
   "outputs": [
    {
     "name": "stdout",
     "output_type": "stream",
     "text": [
      "Encontrados via Backward e Forward:\n"
     ]
    },
    {
     "data": {
      "text/plain": [
       "[[], []]"
      ]
     },
     "execution_count": 25,
     "metadata": {},
     "output_type": "execute_result"
    }
   ],
   "source": [
    "# Artigos encontrados via Backward e Forward - Foi incluído kitchenham 2007a como Snowball para o teste.\n",
    "print (\"Encontrados via Backward e Forward:\")\n",
    "separa_backward_forward(state) @ metakey_title"
   ]
  },
  {
   "cell_type": "code",
   "execution_count": null,
   "metadata": {
    "collapsed": true
   },
   "outputs": [],
   "source": []
  },
  {
   "cell_type": "code",
   "execution_count": 26,
   "metadata": {
    "collapsed": true
   },
   "outputs": [],
   "source": [
    "def duplicados(strategy, state):\n",
    "    encontrados = set()\n",
    "    result = set()\n",
    "    soma = 0\n",
    "    related = state.related - state.find(\"s0\").related\n",
    "    for work in state.related:\n",
    "        inter = encontrados & (set(strategy.ref[work]) & related)\n",
    "        if inter:\n",
    "            soma += len(inter)\n",
    "            encontrados |= inter\n",
    "            print(work @ metakey, \"backward\", inter @ metakey)\n",
    "        inter = encontrados & (set(strategy.rev_ref[work]) & related)\n",
    "        if inter:\n",
    "            soma += len(inter)\n",
    "            encontrados |= inter\n",
    "            print(work @ metakey, \"forward\", inter @ metakey)\n",
    "    return soma"
   ]
  },
  {
   "cell_type": "code",
   "execution_count": 27,
   "metadata": {
    "collapsed": true
   },
   "outputs": [],
   "source": [
    "strategy.forward??"
   ]
  },
  {
   "cell_type": "code",
   "execution_count": 28,
   "metadata": {},
   "outputs": [
    {
     "data": {
      "text/plain": [
       "0"
      ]
     },
     "execution_count": 28,
     "metadata": {},
     "output_type": "execute_result"
    }
   ],
   "source": [
    "duplicados(strategy, state)"
   ]
  },
  {
   "cell_type": "code",
   "execution_count": 29,
   "metadata": {},
   "outputs": [
    {
     "name": "stderr",
     "output_type": "stream",
     "text": [
      "C:\\Users\\EricaMourao\\Anaconda3\\lib\\site-packages\\matplotlib_venn\\_venn2.py:50: UserWarning: Both circles have zero area\n",
      "  warnings.warn(\"Both circles have zero area\")\n"
     ]
    },
    {
     "data": {
      "application/javascript": [
       "/* Put everything inside the global mpl namespace */\n",
       "window.mpl = {};\n",
       "\n",
       "\n",
       "mpl.get_websocket_type = function() {\n",
       "    if (typeof(WebSocket) !== 'undefined') {\n",
       "        return WebSocket;\n",
       "    } else if (typeof(MozWebSocket) !== 'undefined') {\n",
       "        return MozWebSocket;\n",
       "    } else {\n",
       "        alert('Your browser does not have WebSocket support.' +\n",
       "              'Please try Chrome, Safari or Firefox ≥ 6. ' +\n",
       "              'Firefox 4 and 5 are also supported but you ' +\n",
       "              'have to enable WebSockets in about:config.');\n",
       "    };\n",
       "}\n",
       "\n",
       "mpl.figure = function(figure_id, websocket, ondownload, parent_element) {\n",
       "    this.id = figure_id;\n",
       "\n",
       "    this.ws = websocket;\n",
       "\n",
       "    this.supports_binary = (this.ws.binaryType != undefined);\n",
       "\n",
       "    if (!this.supports_binary) {\n",
       "        var warnings = document.getElementById(\"mpl-warnings\");\n",
       "        if (warnings) {\n",
       "            warnings.style.display = 'block';\n",
       "            warnings.textContent = (\n",
       "                \"This browser does not support binary websocket messages. \" +\n",
       "                    \"Performance may be slow.\");\n",
       "        }\n",
       "    }\n",
       "\n",
       "    this.imageObj = new Image();\n",
       "\n",
       "    this.context = undefined;\n",
       "    this.message = undefined;\n",
       "    this.canvas = undefined;\n",
       "    this.rubberband_canvas = undefined;\n",
       "    this.rubberband_context = undefined;\n",
       "    this.format_dropdown = undefined;\n",
       "\n",
       "    this.image_mode = 'full';\n",
       "\n",
       "    this.root = $('<div/>');\n",
       "    this._root_extra_style(this.root)\n",
       "    this.root.attr('style', 'display: inline-block');\n",
       "\n",
       "    $(parent_element).append(this.root);\n",
       "\n",
       "    this._init_header(this);\n",
       "    this._init_canvas(this);\n",
       "    this._init_toolbar(this);\n",
       "\n",
       "    var fig = this;\n",
       "\n",
       "    this.waiting = false;\n",
       "\n",
       "    this.ws.onopen =  function () {\n",
       "            fig.send_message(\"supports_binary\", {value: fig.supports_binary});\n",
       "            fig.send_message(\"send_image_mode\", {});\n",
       "            if (mpl.ratio != 1) {\n",
       "                fig.send_message(\"set_dpi_ratio\", {'dpi_ratio': mpl.ratio});\n",
       "            }\n",
       "            fig.send_message(\"refresh\", {});\n",
       "        }\n",
       "\n",
       "    this.imageObj.onload = function() {\n",
       "            if (fig.image_mode == 'full') {\n",
       "                // Full images could contain transparency (where diff images\n",
       "                // almost always do), so we need to clear the canvas so that\n",
       "                // there is no ghosting.\n",
       "                fig.context.clearRect(0, 0, fig.canvas.width, fig.canvas.height);\n",
       "            }\n",
       "            fig.context.drawImage(fig.imageObj, 0, 0);\n",
       "        };\n",
       "\n",
       "    this.imageObj.onunload = function() {\n",
       "        fig.ws.close();\n",
       "    }\n",
       "\n",
       "    this.ws.onmessage = this._make_on_message_function(this);\n",
       "\n",
       "    this.ondownload = ondownload;\n",
       "}\n",
       "\n",
       "mpl.figure.prototype._init_header = function() {\n",
       "    var titlebar = $(\n",
       "        '<div class=\"ui-dialog-titlebar ui-widget-header ui-corner-all ' +\n",
       "        'ui-helper-clearfix\"/>');\n",
       "    var titletext = $(\n",
       "        '<div class=\"ui-dialog-title\" style=\"width: 100%; ' +\n",
       "        'text-align: center; padding: 3px;\"/>');\n",
       "    titlebar.append(titletext)\n",
       "    this.root.append(titlebar);\n",
       "    this.header = titletext[0];\n",
       "}\n",
       "\n",
       "\n",
       "\n",
       "mpl.figure.prototype._canvas_extra_style = function(canvas_div) {\n",
       "\n",
       "}\n",
       "\n",
       "\n",
       "mpl.figure.prototype._root_extra_style = function(canvas_div) {\n",
       "\n",
       "}\n",
       "\n",
       "mpl.figure.prototype._init_canvas = function() {\n",
       "    var fig = this;\n",
       "\n",
       "    var canvas_div = $('<div/>');\n",
       "\n",
       "    canvas_div.attr('style', 'position: relative; clear: both; outline: 0');\n",
       "\n",
       "    function canvas_keyboard_event(event) {\n",
       "        return fig.key_event(event, event['data']);\n",
       "    }\n",
       "\n",
       "    canvas_div.keydown('key_press', canvas_keyboard_event);\n",
       "    canvas_div.keyup('key_release', canvas_keyboard_event);\n",
       "    this.canvas_div = canvas_div\n",
       "    this._canvas_extra_style(canvas_div)\n",
       "    this.root.append(canvas_div);\n",
       "\n",
       "    var canvas = $('<canvas/>');\n",
       "    canvas.addClass('mpl-canvas');\n",
       "    canvas.attr('style', \"left: 0; top: 0; z-index: 0; outline: 0\")\n",
       "\n",
       "    this.canvas = canvas[0];\n",
       "    this.context = canvas[0].getContext(\"2d\");\n",
       "\n",
       "    var backingStore = this.context.backingStorePixelRatio ||\n",
       "\tthis.context.webkitBackingStorePixelRatio ||\n",
       "\tthis.context.mozBackingStorePixelRatio ||\n",
       "\tthis.context.msBackingStorePixelRatio ||\n",
       "\tthis.context.oBackingStorePixelRatio ||\n",
       "\tthis.context.backingStorePixelRatio || 1;\n",
       "\n",
       "    mpl.ratio = (window.devicePixelRatio || 1) / backingStore;\n",
       "\n",
       "    var rubberband = $('<canvas/>');\n",
       "    rubberband.attr('style', \"position: absolute; left: 0; top: 0; z-index: 1;\")\n",
       "\n",
       "    var pass_mouse_events = true;\n",
       "\n",
       "    canvas_div.resizable({\n",
       "        start: function(event, ui) {\n",
       "            pass_mouse_events = false;\n",
       "        },\n",
       "        resize: function(event, ui) {\n",
       "            fig.request_resize(ui.size.width, ui.size.height);\n",
       "        },\n",
       "        stop: function(event, ui) {\n",
       "            pass_mouse_events = true;\n",
       "            fig.request_resize(ui.size.width, ui.size.height);\n",
       "        },\n",
       "    });\n",
       "\n",
       "    function mouse_event_fn(event) {\n",
       "        if (pass_mouse_events)\n",
       "            return fig.mouse_event(event, event['data']);\n",
       "    }\n",
       "\n",
       "    rubberband.mousedown('button_press', mouse_event_fn);\n",
       "    rubberband.mouseup('button_release', mouse_event_fn);\n",
       "    // Throttle sequential mouse events to 1 every 20ms.\n",
       "    rubberband.mousemove('motion_notify', mouse_event_fn);\n",
       "\n",
       "    rubberband.mouseenter('figure_enter', mouse_event_fn);\n",
       "    rubberband.mouseleave('figure_leave', mouse_event_fn);\n",
       "\n",
       "    canvas_div.on(\"wheel\", function (event) {\n",
       "        event = event.originalEvent;\n",
       "        event['data'] = 'scroll'\n",
       "        if (event.deltaY < 0) {\n",
       "            event.step = 1;\n",
       "        } else {\n",
       "            event.step = -1;\n",
       "        }\n",
       "        mouse_event_fn(event);\n",
       "    });\n",
       "\n",
       "    canvas_div.append(canvas);\n",
       "    canvas_div.append(rubberband);\n",
       "\n",
       "    this.rubberband = rubberband;\n",
       "    this.rubberband_canvas = rubberband[0];\n",
       "    this.rubberband_context = rubberband[0].getContext(\"2d\");\n",
       "    this.rubberband_context.strokeStyle = \"#000000\";\n",
       "\n",
       "    this._resize_canvas = function(width, height) {\n",
       "        // Keep the size of the canvas, canvas container, and rubber band\n",
       "        // canvas in synch.\n",
       "        canvas_div.css('width', width)\n",
       "        canvas_div.css('height', height)\n",
       "\n",
       "        canvas.attr('width', width * mpl.ratio);\n",
       "        canvas.attr('height', height * mpl.ratio);\n",
       "        canvas.attr('style', 'width: ' + width + 'px; height: ' + height + 'px;');\n",
       "\n",
       "        rubberband.attr('width', width);\n",
       "        rubberband.attr('height', height);\n",
       "    }\n",
       "\n",
       "    // Set the figure to an initial 600x600px, this will subsequently be updated\n",
       "    // upon first draw.\n",
       "    this._resize_canvas(600, 600);\n",
       "\n",
       "    // Disable right mouse context menu.\n",
       "    $(this.rubberband_canvas).bind(\"contextmenu\",function(e){\n",
       "        return false;\n",
       "    });\n",
       "\n",
       "    function set_focus () {\n",
       "        canvas.focus();\n",
       "        canvas_div.focus();\n",
       "    }\n",
       "\n",
       "    window.setTimeout(set_focus, 100);\n",
       "}\n",
       "\n",
       "mpl.figure.prototype._init_toolbar = function() {\n",
       "    var fig = this;\n",
       "\n",
       "    var nav_element = $('<div/>')\n",
       "    nav_element.attr('style', 'width: 100%');\n",
       "    this.root.append(nav_element);\n",
       "\n",
       "    // Define a callback function for later on.\n",
       "    function toolbar_event(event) {\n",
       "        return fig.toolbar_button_onclick(event['data']);\n",
       "    }\n",
       "    function toolbar_mouse_event(event) {\n",
       "        return fig.toolbar_button_onmouseover(event['data']);\n",
       "    }\n",
       "\n",
       "    for(var toolbar_ind in mpl.toolbar_items) {\n",
       "        var name = mpl.toolbar_items[toolbar_ind][0];\n",
       "        var tooltip = mpl.toolbar_items[toolbar_ind][1];\n",
       "        var image = mpl.toolbar_items[toolbar_ind][2];\n",
       "        var method_name = mpl.toolbar_items[toolbar_ind][3];\n",
       "\n",
       "        if (!name) {\n",
       "            // put a spacer in here.\n",
       "            continue;\n",
       "        }\n",
       "        var button = $('<button/>');\n",
       "        button.addClass('ui-button ui-widget ui-state-default ui-corner-all ' +\n",
       "                        'ui-button-icon-only');\n",
       "        button.attr('role', 'button');\n",
       "        button.attr('aria-disabled', 'false');\n",
       "        button.click(method_name, toolbar_event);\n",
       "        button.mouseover(tooltip, toolbar_mouse_event);\n",
       "\n",
       "        var icon_img = $('<span/>');\n",
       "        icon_img.addClass('ui-button-icon-primary ui-icon');\n",
       "        icon_img.addClass(image);\n",
       "        icon_img.addClass('ui-corner-all');\n",
       "\n",
       "        var tooltip_span = $('<span/>');\n",
       "        tooltip_span.addClass('ui-button-text');\n",
       "        tooltip_span.html(tooltip);\n",
       "\n",
       "        button.append(icon_img);\n",
       "        button.append(tooltip_span);\n",
       "\n",
       "        nav_element.append(button);\n",
       "    }\n",
       "\n",
       "    var fmt_picker_span = $('<span/>');\n",
       "\n",
       "    var fmt_picker = $('<select/>');\n",
       "    fmt_picker.addClass('mpl-toolbar-option ui-widget ui-widget-content');\n",
       "    fmt_picker_span.append(fmt_picker);\n",
       "    nav_element.append(fmt_picker_span);\n",
       "    this.format_dropdown = fmt_picker[0];\n",
       "\n",
       "    for (var ind in mpl.extensions) {\n",
       "        var fmt = mpl.extensions[ind];\n",
       "        var option = $(\n",
       "            '<option/>', {selected: fmt === mpl.default_extension}).html(fmt);\n",
       "        fmt_picker.append(option)\n",
       "    }\n",
       "\n",
       "    // Add hover states to the ui-buttons\n",
       "    $( \".ui-button\" ).hover(\n",
       "        function() { $(this).addClass(\"ui-state-hover\");},\n",
       "        function() { $(this).removeClass(\"ui-state-hover\");}\n",
       "    );\n",
       "\n",
       "    var status_bar = $('<span class=\"mpl-message\"/>');\n",
       "    nav_element.append(status_bar);\n",
       "    this.message = status_bar[0];\n",
       "}\n",
       "\n",
       "mpl.figure.prototype.request_resize = function(x_pixels, y_pixels) {\n",
       "    // Request matplotlib to resize the figure. Matplotlib will then trigger a resize in the client,\n",
       "    // which will in turn request a refresh of the image.\n",
       "    this.send_message('resize', {'width': x_pixels, 'height': y_pixels});\n",
       "}\n",
       "\n",
       "mpl.figure.prototype.send_message = function(type, properties) {\n",
       "    properties['type'] = type;\n",
       "    properties['figure_id'] = this.id;\n",
       "    this.ws.send(JSON.stringify(properties));\n",
       "}\n",
       "\n",
       "mpl.figure.prototype.send_draw_message = function() {\n",
       "    if (!this.waiting) {\n",
       "        this.waiting = true;\n",
       "        this.ws.send(JSON.stringify({type: \"draw\", figure_id: this.id}));\n",
       "    }\n",
       "}\n",
       "\n",
       "\n",
       "mpl.figure.prototype.handle_save = function(fig, msg) {\n",
       "    var format_dropdown = fig.format_dropdown;\n",
       "    var format = format_dropdown.options[format_dropdown.selectedIndex].value;\n",
       "    fig.ondownload(fig, format);\n",
       "}\n",
       "\n",
       "\n",
       "mpl.figure.prototype.handle_resize = function(fig, msg) {\n",
       "    var size = msg['size'];\n",
       "    if (size[0] != fig.canvas.width || size[1] != fig.canvas.height) {\n",
       "        fig._resize_canvas(size[0], size[1]);\n",
       "        fig.send_message(\"refresh\", {});\n",
       "    };\n",
       "}\n",
       "\n",
       "mpl.figure.prototype.handle_rubberband = function(fig, msg) {\n",
       "    var x0 = msg['x0'] / mpl.ratio;\n",
       "    var y0 = (fig.canvas.height - msg['y0']) / mpl.ratio;\n",
       "    var x1 = msg['x1'] / mpl.ratio;\n",
       "    var y1 = (fig.canvas.height - msg['y1']) / mpl.ratio;\n",
       "    x0 = Math.floor(x0) + 0.5;\n",
       "    y0 = Math.floor(y0) + 0.5;\n",
       "    x1 = Math.floor(x1) + 0.5;\n",
       "    y1 = Math.floor(y1) + 0.5;\n",
       "    var min_x = Math.min(x0, x1);\n",
       "    var min_y = Math.min(y0, y1);\n",
       "    var width = Math.abs(x1 - x0);\n",
       "    var height = Math.abs(y1 - y0);\n",
       "\n",
       "    fig.rubberband_context.clearRect(\n",
       "        0, 0, fig.canvas.width, fig.canvas.height);\n",
       "\n",
       "    fig.rubberband_context.strokeRect(min_x, min_y, width, height);\n",
       "}\n",
       "\n",
       "mpl.figure.prototype.handle_figure_label = function(fig, msg) {\n",
       "    // Updates the figure title.\n",
       "    fig.header.textContent = msg['label'];\n",
       "}\n",
       "\n",
       "mpl.figure.prototype.handle_cursor = function(fig, msg) {\n",
       "    var cursor = msg['cursor'];\n",
       "    switch(cursor)\n",
       "    {\n",
       "    case 0:\n",
       "        cursor = 'pointer';\n",
       "        break;\n",
       "    case 1:\n",
       "        cursor = 'default';\n",
       "        break;\n",
       "    case 2:\n",
       "        cursor = 'crosshair';\n",
       "        break;\n",
       "    case 3:\n",
       "        cursor = 'move';\n",
       "        break;\n",
       "    }\n",
       "    fig.rubberband_canvas.style.cursor = cursor;\n",
       "}\n",
       "\n",
       "mpl.figure.prototype.handle_message = function(fig, msg) {\n",
       "    fig.message.textContent = msg['message'];\n",
       "}\n",
       "\n",
       "mpl.figure.prototype.handle_draw = function(fig, msg) {\n",
       "    // Request the server to send over a new figure.\n",
       "    fig.send_draw_message();\n",
       "}\n",
       "\n",
       "mpl.figure.prototype.handle_image_mode = function(fig, msg) {\n",
       "    fig.image_mode = msg['mode'];\n",
       "}\n",
       "\n",
       "mpl.figure.prototype.updated_canvas_event = function() {\n",
       "    // Called whenever the canvas gets updated.\n",
       "    this.send_message(\"ack\", {});\n",
       "}\n",
       "\n",
       "// A function to construct a web socket function for onmessage handling.\n",
       "// Called in the figure constructor.\n",
       "mpl.figure.prototype._make_on_message_function = function(fig) {\n",
       "    return function socket_on_message(evt) {\n",
       "        if (evt.data instanceof Blob) {\n",
       "            /* FIXME: We get \"Resource interpreted as Image but\n",
       "             * transferred with MIME type text/plain:\" errors on\n",
       "             * Chrome.  But how to set the MIME type?  It doesn't seem\n",
       "             * to be part of the websocket stream */\n",
       "            evt.data.type = \"image/png\";\n",
       "\n",
       "            /* Free the memory for the previous frames */\n",
       "            if (fig.imageObj.src) {\n",
       "                (window.URL || window.webkitURL).revokeObjectURL(\n",
       "                    fig.imageObj.src);\n",
       "            }\n",
       "\n",
       "            fig.imageObj.src = (window.URL || window.webkitURL).createObjectURL(\n",
       "                evt.data);\n",
       "            fig.updated_canvas_event();\n",
       "            fig.waiting = false;\n",
       "            return;\n",
       "        }\n",
       "        else if (typeof evt.data === 'string' && evt.data.slice(0, 21) == \"data:image/png;base64\") {\n",
       "            fig.imageObj.src = evt.data;\n",
       "            fig.updated_canvas_event();\n",
       "            fig.waiting = false;\n",
       "            return;\n",
       "        }\n",
       "\n",
       "        var msg = JSON.parse(evt.data);\n",
       "        var msg_type = msg['type'];\n",
       "\n",
       "        // Call the  \"handle_{type}\" callback, which takes\n",
       "        // the figure and JSON message as its only arguments.\n",
       "        try {\n",
       "            var callback = fig[\"handle_\" + msg_type];\n",
       "        } catch (e) {\n",
       "            console.log(\"No handler for the '\" + msg_type + \"' message type: \", msg);\n",
       "            return;\n",
       "        }\n",
       "\n",
       "        if (callback) {\n",
       "            try {\n",
       "                // console.log(\"Handling '\" + msg_type + \"' message: \", msg);\n",
       "                callback(fig, msg);\n",
       "            } catch (e) {\n",
       "                console.log(\"Exception inside the 'handler_\" + msg_type + \"' callback:\", e, e.stack, msg);\n",
       "            }\n",
       "        }\n",
       "    };\n",
       "}\n",
       "\n",
       "// from http://stackoverflow.com/questions/1114465/getting-mouse-location-in-canvas\n",
       "mpl.findpos = function(e) {\n",
       "    //this section is from http://www.quirksmode.org/js/events_properties.html\n",
       "    var targ;\n",
       "    if (!e)\n",
       "        e = window.event;\n",
       "    if (e.target)\n",
       "        targ = e.target;\n",
       "    else if (e.srcElement)\n",
       "        targ = e.srcElement;\n",
       "    if (targ.nodeType == 3) // defeat Safari bug\n",
       "        targ = targ.parentNode;\n",
       "\n",
       "    // jQuery normalizes the pageX and pageY\n",
       "    // pageX,Y are the mouse positions relative to the document\n",
       "    // offset() returns the position of the element relative to the document\n",
       "    var x = e.pageX - $(targ).offset().left;\n",
       "    var y = e.pageY - $(targ).offset().top;\n",
       "\n",
       "    return {\"x\": x, \"y\": y};\n",
       "};\n",
       "\n",
       "/*\n",
       " * return a copy of an object with only non-object keys\n",
       " * we need this to avoid circular references\n",
       " * http://stackoverflow.com/a/24161582/3208463\n",
       " */\n",
       "function simpleKeys (original) {\n",
       "  return Object.keys(original).reduce(function (obj, key) {\n",
       "    if (typeof original[key] !== 'object')\n",
       "        obj[key] = original[key]\n",
       "    return obj;\n",
       "  }, {});\n",
       "}\n",
       "\n",
       "mpl.figure.prototype.mouse_event = function(event, name) {\n",
       "    var canvas_pos = mpl.findpos(event)\n",
       "\n",
       "    if (name === 'button_press')\n",
       "    {\n",
       "        this.canvas.focus();\n",
       "        this.canvas_div.focus();\n",
       "    }\n",
       "\n",
       "    var x = canvas_pos.x * mpl.ratio;\n",
       "    var y = canvas_pos.y * mpl.ratio;\n",
       "\n",
       "    this.send_message(name, {x: x, y: y, button: event.button,\n",
       "                             step: event.step,\n",
       "                             guiEvent: simpleKeys(event)});\n",
       "\n",
       "    /* This prevents the web browser from automatically changing to\n",
       "     * the text insertion cursor when the button is pressed.  We want\n",
       "     * to control all of the cursor setting manually through the\n",
       "     * 'cursor' event from matplotlib */\n",
       "    event.preventDefault();\n",
       "    return false;\n",
       "}\n",
       "\n",
       "mpl.figure.prototype._key_event_extra = function(event, name) {\n",
       "    // Handle any extra behaviour associated with a key event\n",
       "}\n",
       "\n",
       "mpl.figure.prototype.key_event = function(event, name) {\n",
       "\n",
       "    // Prevent repeat events\n",
       "    if (name == 'key_press')\n",
       "    {\n",
       "        if (event.which === this._key)\n",
       "            return;\n",
       "        else\n",
       "            this._key = event.which;\n",
       "    }\n",
       "    if (name == 'key_release')\n",
       "        this._key = null;\n",
       "\n",
       "    var value = '';\n",
       "    if (event.ctrlKey && event.which != 17)\n",
       "        value += \"ctrl+\";\n",
       "    if (event.altKey && event.which != 18)\n",
       "        value += \"alt+\";\n",
       "    if (event.shiftKey && event.which != 16)\n",
       "        value += \"shift+\";\n",
       "\n",
       "    value += 'k';\n",
       "    value += event.which.toString();\n",
       "\n",
       "    this._key_event_extra(event, name);\n",
       "\n",
       "    this.send_message(name, {key: value,\n",
       "                             guiEvent: simpleKeys(event)});\n",
       "    return false;\n",
       "}\n",
       "\n",
       "mpl.figure.prototype.toolbar_button_onclick = function(name) {\n",
       "    if (name == 'download') {\n",
       "        this.handle_save(this, null);\n",
       "    } else {\n",
       "        this.send_message(\"toolbar_button\", {name: name});\n",
       "    }\n",
       "};\n",
       "\n",
       "mpl.figure.prototype.toolbar_button_onmouseover = function(tooltip) {\n",
       "    this.message.textContent = tooltip;\n",
       "};\n",
       "mpl.toolbar_items = [[\"Home\", \"Reset original view\", \"fa fa-home icon-home\", \"home\"], [\"Back\", \"Back to  previous view\", \"fa fa-arrow-left icon-arrow-left\", \"back\"], [\"Forward\", \"Forward to next view\", \"fa fa-arrow-right icon-arrow-right\", \"forward\"], [\"\", \"\", \"\", \"\"], [\"Pan\", \"Pan axes with left mouse, zoom with right\", \"fa fa-arrows icon-move\", \"pan\"], [\"Zoom\", \"Zoom to rectangle\", \"fa fa-square-o icon-check-empty\", \"zoom\"], [\"\", \"\", \"\", \"\"], [\"Download\", \"Download plot\", \"fa fa-floppy-o icon-save\", \"download\"]];\n",
       "\n",
       "mpl.extensions = [\"eps\", \"pdf\", \"png\", \"ps\", \"raw\", \"svg\"];\n",
       "\n",
       "mpl.default_extension = \"png\";var comm_websocket_adapter = function(comm) {\n",
       "    // Create a \"websocket\"-like object which calls the given IPython comm\n",
       "    // object with the appropriate methods. Currently this is a non binary\n",
       "    // socket, so there is still some room for performance tuning.\n",
       "    var ws = {};\n",
       "\n",
       "    ws.close = function() {\n",
       "        comm.close()\n",
       "    };\n",
       "    ws.send = function(m) {\n",
       "        //console.log('sending', m);\n",
       "        comm.send(m);\n",
       "    };\n",
       "    // Register the callback with on_msg.\n",
       "    comm.on_msg(function(msg) {\n",
       "        //console.log('receiving', msg['content']['data'], msg);\n",
       "        // Pass the mpl event to the overriden (by mpl) onmessage function.\n",
       "        ws.onmessage(msg['content']['data'])\n",
       "    });\n",
       "    return ws;\n",
       "}\n",
       "\n",
       "mpl.mpl_figure_comm = function(comm, msg) {\n",
       "    // This is the function which gets called when the mpl process\n",
       "    // starts-up an IPython Comm through the \"matplotlib\" channel.\n",
       "\n",
       "    var id = msg.content.data.id;\n",
       "    // Get hold of the div created by the display call when the Comm\n",
       "    // socket was opened in Python.\n",
       "    var element = $(\"#\" + id);\n",
       "    var ws_proxy = comm_websocket_adapter(comm)\n",
       "\n",
       "    function ondownload(figure, format) {\n",
       "        window.open(figure.imageObj.src);\n",
       "    }\n",
       "\n",
       "    var fig = new mpl.figure(id, ws_proxy,\n",
       "                           ondownload,\n",
       "                           element.get(0));\n",
       "\n",
       "    // Call onopen now - mpl needs it, as it is assuming we've passed it a real\n",
       "    // web socket which is closed, not our websocket->open comm proxy.\n",
       "    ws_proxy.onopen();\n",
       "\n",
       "    fig.parent_element = element.get(0);\n",
       "    fig.cell_info = mpl.find_output_cell(\"<div id='\" + id + \"'></div>\");\n",
       "    if (!fig.cell_info) {\n",
       "        console.error(\"Failed to find cell for figure\", id, fig);\n",
       "        return;\n",
       "    }\n",
       "\n",
       "    var output_index = fig.cell_info[2]\n",
       "    var cell = fig.cell_info[0];\n",
       "\n",
       "};\n",
       "\n",
       "mpl.figure.prototype.handle_close = function(fig, msg) {\n",
       "    var width = fig.canvas.width/mpl.ratio\n",
       "    fig.root.unbind('remove')\n",
       "\n",
       "    // Update the output cell to use the data from the current canvas.\n",
       "    fig.push_to_output();\n",
       "    var dataURL = fig.canvas.toDataURL();\n",
       "    // Re-enable the keyboard manager in IPython - without this line, in FF,\n",
       "    // the notebook keyboard shortcuts fail.\n",
       "    IPython.keyboard_manager.enable()\n",
       "    $(fig.parent_element).html('<img src=\"' + dataURL + '\" width=\"' + width + '\">');\n",
       "    fig.close_ws(fig, msg);\n",
       "}\n",
       "\n",
       "mpl.figure.prototype.close_ws = function(fig, msg){\n",
       "    fig.send_message('closing', msg);\n",
       "    // fig.ws.close()\n",
       "}\n",
       "\n",
       "mpl.figure.prototype.push_to_output = function(remove_interactive) {\n",
       "    // Turn the data on the canvas into data in the output cell.\n",
       "    var width = this.canvas.width/mpl.ratio\n",
       "    var dataURL = this.canvas.toDataURL();\n",
       "    this.cell_info[1]['text/html'] = '<img src=\"' + dataURL + '\" width=\"' + width + '\">';\n",
       "}\n",
       "\n",
       "mpl.figure.prototype.updated_canvas_event = function() {\n",
       "    // Tell IPython that the notebook contents must change.\n",
       "    IPython.notebook.set_dirty(true);\n",
       "    this.send_message(\"ack\", {});\n",
       "    var fig = this;\n",
       "    // Wait a second, then push the new image to the DOM so\n",
       "    // that it is saved nicely (might be nice to debounce this).\n",
       "    setTimeout(function () { fig.push_to_output() }, 1000);\n",
       "}\n",
       "\n",
       "mpl.figure.prototype._init_toolbar = function() {\n",
       "    var fig = this;\n",
       "\n",
       "    var nav_element = $('<div/>')\n",
       "    nav_element.attr('style', 'width: 100%');\n",
       "    this.root.append(nav_element);\n",
       "\n",
       "    // Define a callback function for later on.\n",
       "    function toolbar_event(event) {\n",
       "        return fig.toolbar_button_onclick(event['data']);\n",
       "    }\n",
       "    function toolbar_mouse_event(event) {\n",
       "        return fig.toolbar_button_onmouseover(event['data']);\n",
       "    }\n",
       "\n",
       "    for(var toolbar_ind in mpl.toolbar_items){\n",
       "        var name = mpl.toolbar_items[toolbar_ind][0];\n",
       "        var tooltip = mpl.toolbar_items[toolbar_ind][1];\n",
       "        var image = mpl.toolbar_items[toolbar_ind][2];\n",
       "        var method_name = mpl.toolbar_items[toolbar_ind][3];\n",
       "\n",
       "        if (!name) { continue; };\n",
       "\n",
       "        var button = $('<button class=\"btn btn-default\" href=\"#\" title=\"' + name + '\"><i class=\"fa ' + image + ' fa-lg\"></i></button>');\n",
       "        button.click(method_name, toolbar_event);\n",
       "        button.mouseover(tooltip, toolbar_mouse_event);\n",
       "        nav_element.append(button);\n",
       "    }\n",
       "\n",
       "    // Add the status bar.\n",
       "    var status_bar = $('<span class=\"mpl-message\" style=\"text-align:right; float: right;\"/>');\n",
       "    nav_element.append(status_bar);\n",
       "    this.message = status_bar[0];\n",
       "\n",
       "    // Add the close button to the window.\n",
       "    var buttongrp = $('<div class=\"btn-group inline pull-right\"></div>');\n",
       "    var button = $('<button class=\"btn btn-mini btn-primary\" href=\"#\" title=\"Stop Interaction\"><i class=\"fa fa-power-off icon-remove icon-large\"></i></button>');\n",
       "    button.click(function (evt) { fig.handle_close(fig, {}); } );\n",
       "    button.mouseover('Stop Interaction', toolbar_mouse_event);\n",
       "    buttongrp.append(button);\n",
       "    var titlebar = this.root.find($('.ui-dialog-titlebar'));\n",
       "    titlebar.prepend(buttongrp);\n",
       "}\n",
       "\n",
       "mpl.figure.prototype._root_extra_style = function(el){\n",
       "    var fig = this\n",
       "    el.on(\"remove\", function(){\n",
       "\tfig.close_ws(fig, {});\n",
       "    });\n",
       "}\n",
       "\n",
       "mpl.figure.prototype._canvas_extra_style = function(el){\n",
       "    // this is important to make the div 'focusable\n",
       "    el.attr('tabindex', 0)\n",
       "    // reach out to IPython and tell the keyboard manager to turn it's self\n",
       "    // off when our div gets focus\n",
       "\n",
       "    // location in version 3\n",
       "    if (IPython.notebook.keyboard_manager) {\n",
       "        IPython.notebook.keyboard_manager.register_events(el);\n",
       "    }\n",
       "    else {\n",
       "        // location in version 2\n",
       "        IPython.keyboard_manager.register_events(el);\n",
       "    }\n",
       "\n",
       "}\n",
       "\n",
       "mpl.figure.prototype._key_event_extra = function(event, name) {\n",
       "    var manager = IPython.notebook.keyboard_manager;\n",
       "    if (!manager)\n",
       "        manager = IPython.keyboard_manager;\n",
       "\n",
       "    // Check for shift+enter\n",
       "    if (event.shiftKey && event.which == 13) {\n",
       "        this.canvas_div.blur();\n",
       "        event.shiftKey = false;\n",
       "        // Send a \"J\" for go to next cell\n",
       "        event.which = 74;\n",
       "        event.keyCode = 74;\n",
       "        manager.command_mode();\n",
       "        manager.handle_keydown(event);\n",
       "    }\n",
       "}\n",
       "\n",
       "mpl.figure.prototype.handle_save = function(fig, msg) {\n",
       "    fig.ondownload(fig, null);\n",
       "}\n",
       "\n",
       "\n",
       "mpl.find_output_cell = function(html_output) {\n",
       "    // Return the cell and output element which can be found *uniquely* in the notebook.\n",
       "    // Note - this is a bit hacky, but it is done because the \"notebook_saving.Notebook\"\n",
       "    // IPython event is triggered only after the cells have been serialised, which for\n",
       "    // our purposes (turning an active figure into a static one), is too late.\n",
       "    var cells = IPython.notebook.get_cells();\n",
       "    var ncells = cells.length;\n",
       "    for (var i=0; i<ncells; i++) {\n",
       "        var cell = cells[i];\n",
       "        if (cell.cell_type === 'code'){\n",
       "            for (var j=0; j<cell.output_area.outputs.length; j++) {\n",
       "                var data = cell.output_area.outputs[j];\n",
       "                if (data.data) {\n",
       "                    // IPython >= 3 moved mimebundle to data attribute of output\n",
       "                    data = data.data;\n",
       "                }\n",
       "                if (data['text/html'] == html_output) {\n",
       "                    return [cell, data, j];\n",
       "                }\n",
       "            }\n",
       "        }\n",
       "    }\n",
       "}\n",
       "\n",
       "// Register the function which deals with the matplotlib target/channel.\n",
       "// The kernel may be null if the page has been refreshed.\n",
       "if (IPython.notebook.kernel != null) {\n",
       "    IPython.notebook.kernel.comm_manager.register_target('matplotlib', mpl.mpl_figure_comm);\n",
       "}\n"
      ],
      "text/plain": [
       "<IPython.core.display.Javascript object>"
      ]
     },
     "metadata": {},
     "output_type": "display_data"
    },
    {
     "data": {
      "text/html": [
       "<div id='822f1112-3ff2-401b-8d99-3c53cd800db5'></div>"
      ],
      "text/plain": [
       "<IPython.core.display.HTML object>"
      ]
     },
     "metadata": {},
     "output_type": "display_data"
    }
   ],
   "source": [
    "sets = separa_backward_forward(state)\n",
    "sets = encontraria(strategy, state)\n",
    "v = venn2(sets, set_labels = ('Backward', 'Forward'))\n",
    "c = venn2_circles(sets)\n",
    "plt.title('Diagrama de Venn')\n",
    "plt.show()"
   ]
  },
  {
   "cell_type": "code",
   "execution_count": 30,
   "metadata": {},
   "outputs": [
    {
     "name": "stdout",
     "output_type": "stream",
     "text": [
      "Backward []\n",
      "Forward []\n"
     ]
    }
   ],
   "source": [
    "#Backward - Execução de backward em sets[0]\n",
    "print(\"Backward\", sets[0] @ metakey)\n",
    "print(\"Forward\", sets[1] @ metakey)"
   ]
  },
  {
   "cell_type": "code",
   "execution_count": 31,
   "metadata": {},
   "outputs": [
    {
     "data": {
      "text/plain": [
       "['kaneko2011a',\n",
       " 'plösch2011a',\n",
       " 'albuquerque2009a',\n",
       " 'reiblein1997a',\n",
       " 'martins2008a',\n",
       " 'guzmán2010a',\n",
       " 'becker2008a',\n",
       " 'wilkie2007a']"
      ]
     },
     "execution_count": 31,
     "metadata": {},
     "output_type": "execute_result"
    }
   ],
   "source": [
    "state.find(\"s0\").related @ metakey"
   ]
  },
  {
   "cell_type": "code",
   "execution_count": 32,
   "metadata": {
    "collapsed": true
   },
   "outputs": [],
   "source": [
    "#x = v.get_patch_by_id('100')"
   ]
  },
  {
   "cell_type": "code",
   "execution_count": 33,
   "metadata": {
    "collapsed": true
   },
   "outputs": [],
   "source": [
    "#x.set_linestyle = \"black\""
   ]
  },
  {
   "cell_type": "code",
   "execution_count": 34,
   "metadata": {
    "collapsed": true
   },
   "outputs": [],
   "source": [
    "#[x.metakey for x in state.find(\"s0\").related]"
   ]
  },
  {
   "cell_type": "markdown",
   "metadata": {},
   "source": [
    "#### Execução de Backward (Aresta S0 -> S2) em cada artigo relacionado do S0"
   ]
  },
  {
   "cell_type": "code",
   "execution_count": 35,
   "metadata": {},
   "outputs": [
    {
     "name": "stdout",
     "output_type": "stream",
     "text": [
      "Descreve o S0 -> S2:\n",
      " Execução de Backward em cada artigo do related \n",
      "\n"
     ]
    }
   ],
   "source": [
    "print(\"Descreve o S0 -> S2:\\n Execução de Backward em cada artigo do related \\n\")\n",
    "descreve_delta(strategy, state, \"s2\")"
   ]
  },
  {
   "cell_type": "markdown",
   "metadata": {},
   "source": [
    "#### Execução de Forward em cada artigo relacionado do S1"
   ]
  },
  {
   "cell_type": "code",
   "execution_count": 36,
   "metadata": {},
   "outputs": [
    {
     "name": "stdout",
     "output_type": "stream",
     "text": [
      "Descreve o S0 -> S1:\n",
      " Execução de Forward em cada artigo do related \n",
      "\n"
     ]
    }
   ],
   "source": [
    "print(\"Descreve o S0 -> S1:\\n Execução de Forward em cada artigo do related \\n\")\n",
    "descreve_delta(strategy, state, \"s1\")"
   ]
  },
  {
   "cell_type": "markdown",
   "metadata": {},
   "source": [
    "#### Resumo do Precision e Recall"
   ]
  },
  {
   "cell_type": "code",
   "execution_count": 37,
   "metadata": {},
   "outputs": [
    {
     "name": "stdout",
     "output_type": "stream",
     "text": [
      "Precision na Busca E2: 0.47%\n"
     ]
    },
    {
     "ename": "ZeroDivisionError",
     "evalue": "division by zero",
     "output_type": "error",
     "traceback": [
      "\u001b[1;31m---------------------------------------------------------------------------\u001b[0m",
      "\u001b[1;31mZeroDivisionError\u001b[0m                         Traceback (most recent call last)",
      "\u001b[1;32m<ipython-input-37-bcc25c8b8401>\u001b[0m in \u001b[0;36m<module>\u001b[1;34m()\u001b[0m\n\u001b[0;32m      9\u001b[0m \u001b[1;31m#print(len(state.visited - state.find(\"s0\").visited))\u001b[0m\u001b[1;33m\u001b[0m\u001b[1;33m\u001b[0m\u001b[0m\n\u001b[0;32m     10\u001b[0m \u001b[1;33m\u001b[0m\u001b[0m\n\u001b[1;32m---> 11\u001b[1;33m \u001b[0mE2PS\u001b[0m \u001b[1;33m=\u001b[0m \u001b[0mlen\u001b[0m\u001b[1;33m(\u001b[0m\u001b[0mstate\u001b[0m\u001b[1;33m.\u001b[0m\u001b[0mrelated\u001b[0m \u001b[1;33m-\u001b[0m \u001b[0mstate\u001b[0m\u001b[1;33m.\u001b[0m\u001b[0mfind\u001b[0m\u001b[1;33m(\u001b[0m\u001b[1;34m\"s0\"\u001b[0m\u001b[1;33m)\u001b[0m\u001b[1;33m.\u001b[0m\u001b[0mrelated\u001b[0m\u001b[1;33m)\u001b[0m \u001b[1;33m/\u001b[0m \u001b[0mlen\u001b[0m\u001b[1;33m(\u001b[0m\u001b[0mstate\u001b[0m\u001b[1;33m.\u001b[0m\u001b[0mvisited\u001b[0m \u001b[1;33m-\u001b[0m \u001b[0mstate\u001b[0m\u001b[1;33m.\u001b[0m\u001b[0mfind\u001b[0m\u001b[1;33m(\u001b[0m\u001b[1;34m\"s0\"\u001b[0m\u001b[1;33m)\u001b[0m\u001b[1;33m.\u001b[0m\u001b[0mvisited\u001b[0m\u001b[1;33m)\u001b[0m\u001b[1;33m\u001b[0m\u001b[0m\n\u001b[0m\u001b[0;32m     12\u001b[0m \u001b[1;33m\u001b[0m\u001b[0m\n\u001b[0;32m     13\u001b[0m \u001b[0mprint\u001b[0m \u001b[1;33m(\u001b[0m\u001b[1;34m\"\\n\"\u001b[0m\u001b[1;34m\"Precision no Snowballing E2: %.2f%%\"\u001b[0m \u001b[1;33m%\u001b[0m \u001b[0mE2PS\u001b[0m\u001b[1;33m)\u001b[0m\u001b[1;33m\u001b[0m\u001b[0m\n",
      "\u001b[1;31mZeroDivisionError\u001b[0m: division by zero"
     ]
    }
   ],
   "source": [
    "E2P = len (strategy.initial.related) / len (strategy.initial.visited)\n",
    "#print (len (strategy.initial.related))\n",
    "#print (len (strategy.initial.visited))\n",
    "#print (E2P)\n",
    "print (\"Precision na Busca E2: %.2f%%\" % E2P)\n",
    "\n",
    "#print (\"Precision no Snowballing - E2:\")\n",
    "#print(len(state.related - state.find(\"s0\").related))\n",
    "#print(len(state.visited - state.find(\"s0\").visited))\n",
    "\n",
    "E2PS = len(state.related - state.find(\"s0\").related) / len(state.visited - state.find(\"s0\").visited)\n",
    "\n",
    "print (\"\\n\"\"Precision no Snowballing E2: %.2f%%\" % E2PS)\n",
    "\n",
    "print(\"Precision no Snowballing E2 - Forward - 1 iteração: %.2f%%\" % (len (state.find(\"s1\").delta_related) / len (state.find(\"s1\").delta_visited)))\n",
    "\n",
    "print(\"Precision no Snowballing E2 - Backward - 1 iteração: %.2f%%\" % (len (state.find(\"s2\").delta_related) / len (state.find(\"s2\").delta_visited)))\n",
    "\n",
    "print(\"\\n\"\"Precision E2 (Busca + Snowballing): %.2f%%\" % (len(state.related) / len(state.visited)))\n",
    "\n",
    "#len (state.find(\"s1\").related)\n",
    "\n",
    "#len (state.find(\"s1\").delta_related)\n",
    "#len (state.find(\"s1\").delta_visited)\n",
    "\n",
    "\n",
    "name = \"E2\"\n",
    "print (\"Precision \" + name)\n",
    "EP = len (state.related) / len (state.visited)\n",
    "print (EP)\n",
    "print (\"Recall \" + name)\n",
    "ER = len (state.related) / len (TOTAL)\n",
    "print (ER)\n",
    "\n",
    "array.append((name, EP, ER))"
   ]
  },
  {
   "cell_type": "code",
   "execution_count": null,
   "metadata": {
    "collapsed": true
   },
   "outputs": [],
   "source": [
    "0 /0 "
   ]
  },
  {
   "cell_type": "code",
   "execution_count": null,
   "metadata": {
    "collapsed": true
   },
   "outputs": [],
   "source": [
    "from collections import deque\n",
    "def precision_recall(state, total, stop=\"\"):\n",
    "    # Precisao 0 quando nao visita nada\n",
    "    array = [[\n",
    "        \"state\", \"precision\", \"recall\", \"operation\", \n",
    "        \"related\", \"visited\", \"delta_related\", \"delta_visited\",\n",
    "        \"accumulated_precision\", \"accumulated_recall\",\n",
    "    ]]\n",
    "    stack = deque([state])\n",
    "    visited = {id(state)}\n",
    "    while stack:\n",
    "        current = stack.pop()\n",
    "        try:\n",
    "            accumulated_precision = len(current.related) / len(current.visited)\n",
    "            precision = len(current.delta_related) / len(current.delta_visited)\n",
    "        except ZeroDivisionError:\n",
    "            precision = 0.0\n",
    "            \n",
    "        array.append([\n",
    "            current.name,\n",
    "            precision,\n",
    "            len(current.delta_related) / len(total),\n",
    "            current.previous[1] if current.previous else \"-\",\n",
    "            len(current.related),\n",
    "            len(current.visited),\n",
    "            len(current.delta_related),\n",
    "            len(current.delta_visited),\n",
    "            accumulated_precision,\n",
    "            len(current.related) / len(total),\n",
    "        ])\n",
    "        if current.name == stop:\n",
    "            break\n",
    "        if current.previous:              \n",
    "            antecessors = current.previous[0]\n",
    "            for previous in antecessors:\n",
    "                if id(previous) not in visited:\n",
    "                    visited.add(id(previous))\n",
    "                    stack.appendleft(previous)\n",
    "    return array"
   ]
  },
  {
   "cell_type": "code",
   "execution_count": null,
   "metadata": {
    "collapsed": true
   },
   "outputs": [],
   "source": [
    "df = pd.DataFrame(list(reversed(precision_recall(state, TOTAL))))\n",
    "df.columns = df.iloc[-1]\n",
    "df = df.drop(df.index[-1])\n",
    "df"
   ]
  },
  {
   "cell_type": "code",
   "execution_count": null,
   "metadata": {
    "collapsed": true
   },
   "outputs": [],
   "source": [
    "fig = plt.figure()\n",
    "df['precision'].plot(legend=True)\n",
    "df['recall'].plot(legend=True)\n",
    "ax = plt.gca()\n",
    "ax.set_xticklabels(df[\"state\"] + \"\\n\" + df[\"operation\"])\n",
    "ax.set_title(\"By State\");"
   ]
  },
  {
   "cell_type": "code",
   "execution_count": null,
   "metadata": {
    "collapsed": true
   },
   "outputs": [],
   "source": [
    "fig = plt.figure()\n",
    "df['accumulated_precision'].plot(legend=True)\n",
    "df['accumulated_recall'].plot(legend=True)\n",
    "ax = plt.gca()\n",
    "ax.set_xticklabels(df[\"state\"] + \"\\n\" + df[\"operation\"])\n",
    "ax.set_title(\"Accumulated\");"
   ]
  },
  {
   "cell_type": "markdown",
   "metadata": {},
   "source": [
    "## Estratégia 3 - Busca Informal (Google Scholar) + Snowballing (Guideline - sfbu)"
   ]
  },
  {
   "cell_type": "code",
   "execution_count": null,
   "metadata": {
    "collapsed": true
   },
   "outputs": [],
   "source": [
    "reload()\n",
    "filter_function = lambda x: x.category in (\"snowball\", \"forward\", \"backward\")\n",
    "\n",
    "strategy = Strategy(*busca(\"gs\", filter_function=filter_function))\n",
    "state = strategy.sfbu()\n",
    "state"
   ]
  },
  {
   "cell_type": "code",
   "execution_count": null,
   "metadata": {
    "collapsed": true
   },
   "outputs": [],
   "source": [
    "name = \"E3\"\n",
    "print (\"Precision \" + name)\n",
    "EP = len (state.related) / len (state.visited)\n",
    "print (EP)\n",
    "print (\"Recall \" + name)\n",
    "ER = len (state.related) / len (TOTAL)\n",
    "print (ER)\n",
    "\n",
    "array.append((name, EP, ER))"
   ]
  },
  {
   "cell_type": "markdown",
   "metadata": {},
   "source": [
    "## Estratégia 4 - Busca em Scopus + Snowballing (Guideline - sfbu)"
   ]
  },
  {
   "cell_type": "code",
   "execution_count": 105,
   "metadata": {},
   "outputs": [
    {
     "name": "stdout",
     "output_type": "stream",
     "text": [
      "{A business goal-based approach to achieving systems engineering capability maturity}\n"
     ]
    },
    {
     "data": {
      "image/svg+xml": [
       "<?xml version=\"1.0\" encoding=\"UTF-8\" standalone=\"no\"?>\r\n",
       "<!DOCTYPE svg PUBLIC \"-//W3C//DTD SVG 1.1//EN\"\r\n",
       " \"http://www.w3.org/Graphics/SVG/1.1/DTD/svg11.dtd\">\r\n",
       "<!-- Generated by graphviz version 2.38.0 (20140413.2041)\r\n",
       " -->\r\n",
       "<!-- Title: G Pages: 1 -->\r\n",
       "<svg width=\"1244pt\" height=\"208pt\"\r\n",
       " viewBox=\"0.00 0.00 1244.26 207.95\" xmlns=\"http://www.w3.org/2000/svg\" xmlns:xlink=\"http://www.w3.org/1999/xlink\">\r\n",
       "<g id=\"graph0\" class=\"graph\" transform=\"scale(1 1) rotate(0) translate(4 203.953)\">\r\n",
       "<title>G</title>\r\n",
       "<polygon fill=\"white\" stroke=\"none\" points=\"-4,4 -4,-203.953 1240.26,-203.953 1240.26,4 -4,4\"/>\r\n",
       "<!-- s9 -->\r\n",
       "<g id=\"node1\" class=\"node\"><title>s9</title>\r\n",
       "<ellipse fill=\"none\" stroke=\"black\" cx=\"1179.69\" cy=\"-90.4767\" rx=\"56.6372\" ry=\"37.4533\"/>\r\n",
       "<text text-anchor=\"middle\" x=\"1179.69\" y=\"-101.777\" font-family=\"Times New Roman,serif\" font-size=\"14.00\">s9</text>\r\n",
       "<text text-anchor=\"middle\" x=\"1179.69\" y=\"-86.7767\" font-family=\"Times New Roman,serif\" font-size=\"14.00\">visited: 117</text>\r\n",
       "<text text-anchor=\"middle\" x=\"1179.69\" y=\"-71.7767\" font-family=\"Times New Roman,serif\" font-size=\"14.00\">related: 11</text>\r\n",
       "</g>\r\n",
       "<!-- s7 -->\r\n",
       "<g id=\"node2\" class=\"node\"><title>s7</title>\r\n",
       "<ellipse fill=\"none\" stroke=\"black\" cx=\"999.555\" cy=\"-130.477\" rx=\"56.6372\" ry=\"37.4533\"/>\r\n",
       "<text text-anchor=\"middle\" x=\"999.555\" y=\"-141.777\" font-family=\"Times New Roman,serif\" font-size=\"14.00\">s7</text>\r\n",
       "<text text-anchor=\"middle\" x=\"999.555\" y=\"-126.777\" font-family=\"Times New Roman,serif\" font-size=\"14.00\">visited: 117</text>\r\n",
       "<text text-anchor=\"middle\" x=\"999.555\" y=\"-111.777\" font-family=\"Times New Roman,serif\" font-size=\"14.00\">related: 11</text>\r\n",
       "</g>\r\n",
       "<!-- s9&#45;&gt;s7 -->\r\n",
       "<g id=\"edge1\" class=\"edge\"><title>s9&#45;&gt;s7</title>\r\n",
       "<path fill=\"none\" stroke=\"black\" d=\"M1125.73,-102.37C1106.07,-106.783 1083.6,-111.83 1063.16,-116.419\"/>\r\n",
       "<polygon fill=\"black\" stroke=\"black\" points=\"1062.31,-113.024 1053.32,-118.629 1063.84,-119.853 1062.31,-113.024\"/>\r\n",
       "<text text-anchor=\"middle\" x=\"1089.62\" y=\"-116.277\" font-family=\"Times New Roman,serif\" font-size=\"14.00\">union</text>\r\n",
       "</g>\r\n",
       "<!-- s8 -->\r\n",
       "<g id=\"node3\" class=\"node\"><title>s8</title>\r\n",
       "<ellipse fill=\"none\" stroke=\"black\" cx=\"999.555\" cy=\"-37.4767\" rx=\"56.6372\" ry=\"37.4533\"/>\r\n",
       "<text text-anchor=\"middle\" x=\"999.555\" y=\"-48.7767\" font-family=\"Times New Roman,serif\" font-size=\"14.00\">s8</text>\r\n",
       "<text text-anchor=\"middle\" x=\"999.555\" y=\"-33.7767\" font-family=\"Times New Roman,serif\" font-size=\"14.00\">visited: 117</text>\r\n",
       "<text text-anchor=\"middle\" x=\"999.555\" y=\"-18.7767\" font-family=\"Times New Roman,serif\" font-size=\"14.00\">related: 11</text>\r\n",
       "</g>\r\n",
       "<!-- s9&#45;&gt;s8 -->\r\n",
       "<g id=\"edge2\" class=\"edge\"><title>s9&#45;&gt;s8</title>\r\n",
       "<path fill=\"none\" stroke=\"black\" d=\"M1127.65,-75.289C1106.96,-69.1349 1082.91,-61.9789 1061.33,-55.5585\"/>\r\n",
       "<polygon fill=\"black\" stroke=\"black\" points=\"1062.19,-52.1636 1051.61,-52.6666 1060.2,-58.873 1062.19,-52.1636\"/>\r\n",
       "<text text-anchor=\"middle\" x=\"1089.62\" y=\"-71.2767\" font-family=\"Times New Roman,serif\" font-size=\"14.00\">union</text>\r\n",
       "</g>\r\n",
       "<!-- s6 -->\r\n",
       "<g id=\"node4\" class=\"node\"><title>s6</title>\r\n",
       "<ellipse fill=\"none\" stroke=\"black\" cx=\"795.418\" cy=\"-86.4767\" rx=\"56.6372\" ry=\"37.4533\"/>\r\n",
       "<text text-anchor=\"middle\" x=\"795.418\" y=\"-97.7767\" font-family=\"Times New Roman,serif\" font-size=\"14.00\">s6</text>\r\n",
       "<text text-anchor=\"middle\" x=\"795.418\" y=\"-82.7767\" font-family=\"Times New Roman,serif\" font-size=\"14.00\">visited: 117</text>\r\n",
       "<text text-anchor=\"middle\" x=\"795.418\" y=\"-67.7767\" font-family=\"Times New Roman,serif\" font-size=\"14.00\">related: 11</text>\r\n",
       "</g>\r\n",
       "<!-- s7&#45;&gt;s6 -->\r\n",
       "<g id=\"edge3\" class=\"edge\"><title>s7&#45;&gt;s6</title>\r\n",
       "<path fill=\"none\" stroke=\"black\" d=\"M945.71,-118.974C919.248,-113.214 887.026,-106.2 859.299,-100.164\"/>\r\n",
       "<polygon fill=\"black\" stroke=\"black\" points=\"859.821,-96.696 849.306,-97.9889 858.333,-103.536 859.821,-96.696\"/>\r\n",
       "<text text-anchor=\"middle\" x=\"897.487\" y=\"-147.277\" font-family=\"Times New Roman,serif\" font-size=\"14.00\">forward</text>\r\n",
       "<text text-anchor=\"middle\" x=\"897.487\" y=\"-132.277\" font-family=\"Times New Roman,serif\" font-size=\"14.00\">found: 0</text>\r\n",
       "<text text-anchor=\"middle\" x=\"897.487\" y=\"-117.277\" font-family=\"Times New Roman,serif\" font-size=\"14.00\">related: 0</text>\r\n",
       "</g>\r\n",
       "<!-- s8&#45;&gt;s6 -->\r\n",
       "<g id=\"edge4\" class=\"edge\"><title>s8&#45;&gt;s6</title>\r\n",
       "<path fill=\"none\" stroke=\"black\" d=\"M943.137,-41.3941C920.206,-43.8906 893.525,-47.9401 869.987,-54.4767 863.822,-56.1887 857.501,-58.3167 851.277,-60.6562\"/>\r\n",
       "<polygon fill=\"black\" stroke=\"black\" points=\"849.628,-57.5448 841.616,-64.4774 852.202,-64.0542 849.628,-57.5448\"/>\r\n",
       "<text text-anchor=\"middle\" x=\"897.487\" y=\"-88.2767\" font-family=\"Times New Roman,serif\" font-size=\"14.00\">backward</text>\r\n",
       "<text text-anchor=\"middle\" x=\"897.487\" y=\"-73.2767\" font-family=\"Times New Roman,serif\" font-size=\"14.00\">found: 0</text>\r\n",
       "<text text-anchor=\"middle\" x=\"897.487\" y=\"-58.2767\" font-family=\"Times New Roman,serif\" font-size=\"14.00\">related: 0</text>\r\n",
       "</g>\r\n",
       "<!-- s4 -->\r\n",
       "<g id=\"node5\" class=\"node\"><title>s4</title>\r\n",
       "<ellipse fill=\"none\" stroke=\"black\" cx=\"615.281\" cy=\"-146.477\" rx=\"51.7379\" ry=\"37.4533\"/>\r\n",
       "<text text-anchor=\"middle\" x=\"615.281\" y=\"-157.777\" font-family=\"Times New Roman,serif\" font-size=\"14.00\">s4</text>\r\n",
       "<text text-anchor=\"middle\" x=\"615.281\" y=\"-142.777\" font-family=\"Times New Roman,serif\" font-size=\"14.00\">visited: 61</text>\r\n",
       "<text text-anchor=\"middle\" x=\"615.281\" y=\"-127.777\" font-family=\"Times New Roman,serif\" font-size=\"14.00\">related: 9</text>\r\n",
       "</g>\r\n",
       "<!-- s6&#45;&gt;s4 -->\r\n",
       "<g id=\"edge5\" class=\"edge\"><title>s6&#45;&gt;s4</title>\r\n",
       "<path fill=\"none\" stroke=\"black\" d=\"M744.323,-103.35C721.812,-110.932 695.164,-119.907 672.023,-127.702\"/>\r\n",
       "<polygon fill=\"black\" stroke=\"black\" points=\"670.702,-124.453 662.342,-130.962 672.937,-131.087 670.702,-124.453\"/>\r\n",
       "<text text-anchor=\"middle\" x=\"705.35\" y=\"-125.277\" font-family=\"Times New Roman,serif\" font-size=\"14.00\">union</text>\r\n",
       "</g>\r\n",
       "<!-- s5 -->\r\n",
       "<g id=\"node6\" class=\"node\"><title>s5</title>\r\n",
       "<ellipse fill=\"none\" stroke=\"black\" cx=\"615.281\" cy=\"-53.4767\" rx=\"56.6372\" ry=\"37.4533\"/>\r\n",
       "<text text-anchor=\"middle\" x=\"615.281\" y=\"-64.7767\" font-family=\"Times New Roman,serif\" font-size=\"14.00\">s5</text>\r\n",
       "<text text-anchor=\"middle\" x=\"615.281\" y=\"-49.7767\" font-family=\"Times New Roman,serif\" font-size=\"14.00\">visited: 117</text>\r\n",
       "<text text-anchor=\"middle\" x=\"615.281\" y=\"-34.7767\" font-family=\"Times New Roman,serif\" font-size=\"14.00\">related: 11</text>\r\n",
       "</g>\r\n",
       "<!-- s6&#45;&gt;s5 -->\r\n",
       "<g id=\"edge6\" class=\"edge\"><title>s6&#45;&gt;s5</title>\r\n",
       "<path fill=\"none\" stroke=\"black\" d=\"M740.488,-76.486C721.391,-72.9482 699.727,-68.9349 679.899,-65.2619\"/>\r\n",
       "<polygon fill=\"black\" stroke=\"black\" points=\"680.499,-61.8135 670.028,-63.4333 679.224,-68.6964 680.499,-61.8135\"/>\r\n",
       "<text text-anchor=\"middle\" x=\"705.35\" y=\"-76.2767\" font-family=\"Times New Roman,serif\" font-size=\"14.00\">union</text>\r\n",
       "</g>\r\n",
       "<!-- s3 -->\r\n",
       "<g id=\"node7\" class=\"node\"><title>s3</title>\r\n",
       "<ellipse fill=\"none\" stroke=\"black\" cx=\"416.094\" cy=\"-102.477\" rx=\"51.7379\" ry=\"37.4533\"/>\r\n",
       "<text text-anchor=\"middle\" x=\"416.094\" y=\"-113.777\" font-family=\"Times New Roman,serif\" font-size=\"14.00\">s3</text>\r\n",
       "<text text-anchor=\"middle\" x=\"416.094\" y=\"-98.7767\" font-family=\"Times New Roman,serif\" font-size=\"14.00\">visited: 61</text>\r\n",
       "<text text-anchor=\"middle\" x=\"416.094\" y=\"-83.7767\" font-family=\"Times New Roman,serif\" font-size=\"14.00\">related: 9</text>\r\n",
       "</g>\r\n",
       "<!-- s4&#45;&gt;s3 -->\r\n",
       "<g id=\"edge7\" class=\"edge\"><title>s4&#45;&gt;s3</title>\r\n",
       "<path fill=\"none\" stroke=\"black\" d=\"M565.791,-135.657C538.555,-129.579 504.372,-121.952 475.65,-115.543\"/>\r\n",
       "<polygon fill=\"black\" stroke=\"black\" points=\"476.261,-112.093 465.739,-113.331 474.736,-118.925 476.261,-112.093\"/>\r\n",
       "<text text-anchor=\"middle\" x=\"513.213\" y=\"-163.277\" font-family=\"Times New Roman,serif\" font-size=\"14.00\">forward</text>\r\n",
       "<text text-anchor=\"middle\" x=\"513.213\" y=\"-148.277\" font-family=\"Times New Roman,serif\" font-size=\"14.00\">found: 0</text>\r\n",
       "<text text-anchor=\"middle\" x=\"513.213\" y=\"-133.277\" font-family=\"Times New Roman,serif\" font-size=\"14.00\">related: 0</text>\r\n",
       "</g>\r\n",
       "<!-- s5&#45;&gt;s3 -->\r\n",
       "<g id=\"edge8\" class=\"edge\"><title>s5&#45;&gt;s3</title>\r\n",
       "<path fill=\"none\" stroke=\"black\" d=\"M558.703,-55.778C535.747,-57.7993 509.09,-61.5491 485.713,-68.4767 479.522,-70.3111 473.211,-72.673 467.048,-75.2963\"/>\r\n",
       "<polygon fill=\"black\" stroke=\"black\" points=\"465.198,-72.2913 457.524,-79.5956 468.078,-78.6715 465.198,-72.2913\"/>\r\n",
       "<text text-anchor=\"middle\" x=\"513.213\" y=\"-102.277\" font-family=\"Times New Roman,serif\" font-size=\"14.00\">backward</text>\r\n",
       "<text text-anchor=\"middle\" x=\"513.213\" y=\"-87.2767\" font-family=\"Times New Roman,serif\" font-size=\"14.00\">found: 56</text>\r\n",
       "<text text-anchor=\"middle\" x=\"513.213\" y=\"-72.2767\" font-family=\"Times New Roman,serif\" font-size=\"14.00\">related: 2</text>\r\n",
       "</g>\r\n",
       "<!-- s1 -->\r\n",
       "<g id=\"node8\" class=\"node\"><title>s1</title>\r\n",
       "<ellipse fill=\"none\" stroke=\"black\" cx=\"245.856\" cy=\"-162.477\" rx=\"51.7379\" ry=\"37.4533\"/>\r\n",
       "<text text-anchor=\"middle\" x=\"245.856\" y=\"-173.777\" font-family=\"Times New Roman,serif\" font-size=\"14.00\">s1</text>\r\n",
       "<text text-anchor=\"middle\" x=\"245.856\" y=\"-158.777\" font-family=\"Times New Roman,serif\" font-size=\"14.00\">visited: 18</text>\r\n",
       "<text text-anchor=\"middle\" x=\"245.856\" y=\"-143.777\" font-family=\"Times New Roman,serif\" font-size=\"14.00\">related: 9</text>\r\n",
       "</g>\r\n",
       "<!-- s3&#45;&gt;s1 -->\r\n",
       "<g id=\"edge9\" class=\"edge\"><title>s3&#45;&gt;s1</title>\r\n",
       "<path fill=\"none\" stroke=\"black\" d=\"M369.566,-118.714C348.713,-126.151 323.821,-135.028 301.922,-142.838\"/>\r\n",
       "<polygon fill=\"black\" stroke=\"black\" points=\"300.663,-139.571 292.42,-146.227 303.015,-146.164 300.663,-139.571\"/>\r\n",
       "<text text-anchor=\"middle\" x=\"330.975\" y=\"-141.277\" font-family=\"Times New Roman,serif\" font-size=\"14.00\">union</text>\r\n",
       "</g>\r\n",
       "<!-- s2 -->\r\n",
       "<g id=\"node9\" class=\"node\"><title>s2</title>\r\n",
       "<ellipse fill=\"none\" stroke=\"black\" cx=\"245.856\" cy=\"-69.4767\" rx=\"51.7379\" ry=\"37.4533\"/>\r\n",
       "<text text-anchor=\"middle\" x=\"245.856\" y=\"-80.7767\" font-family=\"Times New Roman,serif\" font-size=\"14.00\">s2</text>\r\n",
       "<text text-anchor=\"middle\" x=\"245.856\" y=\"-65.7767\" font-family=\"Times New Roman,serif\" font-size=\"14.00\">visited: 60</text>\r\n",
       "<text text-anchor=\"middle\" x=\"245.856\" y=\"-50.7767\" font-family=\"Times New Roman,serif\" font-size=\"14.00\">related: 8</text>\r\n",
       "</g>\r\n",
       "<!-- s3&#45;&gt;s2 -->\r\n",
       "<g id=\"edge10\" class=\"edge\"><title>s3&#45;&gt;s2</title>\r\n",
       "<path fill=\"none\" stroke=\"black\" d=\"M365.98,-92.843C347.232,-89.1655 325.661,-84.9342 306.07,-81.0914\"/>\r\n",
       "<polygon fill=\"black\" stroke=\"black\" points=\"306.518,-77.6127 296.031,-79.1223 305.17,-84.4818 306.518,-77.6127\"/>\r\n",
       "<text text-anchor=\"middle\" x=\"330.975\" y=\"-93.2767\" font-family=\"Times New Roman,serif\" font-size=\"14.00\">union</text>\r\n",
       "</g>\r\n",
       "<!-- s0 -->\r\n",
       "<g id=\"node10\" class=\"node\"><title>s0</title>\r\n",
       "<ellipse fill=\"none\" stroke=\"black\" cx=\"51.6188\" cy=\"-118.477\" rx=\"51.7379\" ry=\"37.4533\"/>\r\n",
       "<text text-anchor=\"middle\" x=\"51.6188\" y=\"-129.777\" font-family=\"Times New Roman,serif\" font-size=\"14.00\">s0</text>\r\n",
       "<text text-anchor=\"middle\" x=\"51.6188\" y=\"-114.777\" font-family=\"Times New Roman,serif\" font-size=\"14.00\">visited: 17</text>\r\n",
       "<text text-anchor=\"middle\" x=\"51.6188\" y=\"-99.7767\" font-family=\"Times New Roman,serif\" font-size=\"14.00\">related: 8</text>\r\n",
       "</g>\r\n",
       "<!-- s1&#45;&gt;s0 -->\r\n",
       "<g id=\"edge11\" class=\"edge\"><title>s1&#45;&gt;s0</title>\r\n",
       "<path fill=\"none\" stroke=\"black\" d=\"M196.347,-151.374C170.392,-145.433 138.242,-138.074 110.934,-131.824\"/>\r\n",
       "<polygon fill=\"black\" stroke=\"black\" points=\"111.642,-128.396 101.113,-129.576 110.08,-135.219 111.642,-128.396\"/>\r\n",
       "<text text-anchor=\"middle\" x=\"148.738\" y=\"-179.277\" font-family=\"Times New Roman,serif\" font-size=\"14.00\">forward</text>\r\n",
       "<text text-anchor=\"middle\" x=\"148.738\" y=\"-164.277\" font-family=\"Times New Roman,serif\" font-size=\"14.00\">found: 1</text>\r\n",
       "<text text-anchor=\"middle\" x=\"148.738\" y=\"-149.277\" font-family=\"Times New Roman,serif\" font-size=\"14.00\">related: 1</text>\r\n",
       "</g>\r\n",
       "<!-- s2&#45;&gt;s0 -->\r\n",
       "<g id=\"edge12\" class=\"edge\"><title>s2&#45;&gt;s0</title>\r\n",
       "<path fill=\"none\" stroke=\"black\" d=\"M194.177,-72.3639C171.514,-74.5867 144.681,-78.5194 121.238,-85.4767 115.167,-87.2784 108.965,-89.5614 102.894,-92.0825\"/>\r\n",
       "<polygon fill=\"black\" stroke=\"black\" points=\"101.249,-88.9818 93.4987,-96.2052 104.062,-95.3918 101.249,-88.9818\"/>\r\n",
       "<text text-anchor=\"middle\" x=\"148.738\" y=\"-119.277\" font-family=\"Times New Roman,serif\" font-size=\"14.00\">backward</text>\r\n",
       "<text text-anchor=\"middle\" x=\"148.738\" y=\"-104.277\" font-family=\"Times New Roman,serif\" font-size=\"14.00\">found: 43</text>\r\n",
       "<text text-anchor=\"middle\" x=\"148.738\" y=\"-89.2767\" font-family=\"Times New Roman,serif\" font-size=\"14.00\">related: 0</text>\r\n",
       "</g>\r\n",
       "</g>\r\n",
       "</svg>\r\n"
      ],
      "text/plain": [
       "Step(name='start', new_references=17, new_related=8, total_visited=17, total_related=8, source='', target='s0')\n",
       "Step(name='backward', new_references=43, new_related=0, total_visited=60, total_related=8, source='s0', target='s2')\n",
       "Step(name='forward', new_references=1, new_related=1, total_visited=18, total_related=9, source='s0', target='s1')\n",
       "Step(name='union', new_references=0, new_related=0, total_visited=61, total_related=9, source='s1|s2', target='s3')\n",
       "Step(name='backward', new_references=56, new_related=2, total_visited=117, total_related=11, source='s3', target='s5')\n",
       "Step(name='forward', new_references=0, new_related=0, total_visited=61, total_related=9, source='s3', target='s4')\n",
       "Step(name='union', new_references=0, new_related=0, total_visited=117, total_related=11, source='s4|s5', target='s6')\n",
       "Step(name='backward', new_references=0, new_related=0, total_visited=117, total_related=11, source='s6', target='s8')\n",
       "Step(name='forward', new_references=0, new_related=0, total_visited=117, total_related=11, source='s6', target='s7')\n",
       "Step(name='union', new_references=0, new_related=0, total_visited=117, total_related=11, source='s7|s8', target='s9')"
      ],
      "text/vnd.graphviz": [
       "digraph G {\n",
       "  rankdir=\"RL\";\n",
       "\n",
       "  s9 [label=\"s9\\nvisited: 117\\nrelated: 11\"];\n",
       "  s9 -> s7 [label=\"union\"];\n",
       "  s9 -> s8 [label=\"union\"];\n",
       "\n",
       "  s7 [label=\"s7\\nvisited: 117\\nrelated: 11\"];\n",
       "  s7 -> s6 [label=\"forward\\nfound: 0\\nrelated: 0\"];\n",
       "\n",
       "  s8 [label=\"s8\\nvisited: 117\\nrelated: 11\"];\n",
       "  s8 -> s6 [label=\"backward\\nfound: 0\\nrelated: 0\"];\n",
       "\n",
       "  s6 [label=\"s6\\nvisited: 117\\nrelated: 11\"];\n",
       "  s6 -> s4 [label=\"union\"];\n",
       "  s6 -> s5 [label=\"union\"];\n",
       "\n",
       "  s4 [label=\"s4\\nvisited: 61\\nrelated: 9\"];\n",
       "  s4 -> s3 [label=\"forward\\nfound: 0\\nrelated: 0\"];\n",
       "\n",
       "  s5 [label=\"s5\\nvisited: 117\\nrelated: 11\"];\n",
       "  s5 -> s3 [label=\"backward\\nfound: 56\\nrelated: 2\"];\n",
       "\n",
       "  s3 [label=\"s3\\nvisited: 61\\nrelated: 9\"];\n",
       "  s3 -> s1 [label=\"union\"];\n",
       "  s3 -> s2 [label=\"union\"];\n",
       "\n",
       "  s1 [label=\"s1\\nvisited: 18\\nrelated: 9\"];\n",
       "  s1 -> s0 [label=\"forward\\nfound: 1\\nrelated: 1\"];\n",
       "\n",
       "  s2 [label=\"s2\\nvisited: 60\\nrelated: 8\"];\n",
       "  s2 -> s0 [label=\"backward\\nfound: 43\\nrelated: 0\"];\n",
       "\n",
       "  s0 [label=\"s0\\nvisited: 17\\nrelated: 8\"];\n",
       "\n",
       "}"
      ]
     },
     "metadata": {},
     "output_type": "display_data"
    }
   ],
   "source": [
    "reload()\n",
    "filter_function = lambda x: x.category in (\"snowball\", \"forward\", \"backward\")\n",
    "\n",
    "strategy = Strategy(*busca(\"scopus\", filter_function=filter_function))\n",
    "state = strategy.sfbu()\n",
    "state"
   ]
  },
  {
   "cell_type": "code",
   "execution_count": null,
   "metadata": {
    "collapsed": true
   },
   "outputs": [],
   "source": [
    "name = \"E4\"\n",
    "print (\"Precision \" + name)\n",
    "EP = len (state.related) / len (state.visited)\n",
    "print (EP)\n",
    "print (\"Recall \" + name)\n",
    "ER = len (state.related) / len (TOTAL)\n",
    "print (ER)\n",
    "\n",
    "array.append((name, EP, ER))"
   ]
  },
  {
   "cell_type": "code",
   "execution_count": null,
   "metadata": {
    "collapsed": true
   },
   "outputs": [],
   "source": [
    "state.find(\"s0\").related"
   ]
  },
  {
   "cell_type": "code",
   "execution_count": null,
   "metadata": {
    "collapsed": true
   },
   "outputs": [],
   "source": [
    "state.find(\"s2\").related"
   ]
  },
  {
   "cell_type": "code",
   "execution_count": null,
   "metadata": {
    "collapsed": true
   },
   "outputs": [],
   "source": [
    "state.find(\"s0\").visited"
   ]
  },
  {
   "cell_type": "code",
   "execution_count": null,
   "metadata": {
    "collapsed": true
   },
   "outputs": [],
   "source": [
    "# Com backward de mendes2004a é possível encontrar 2 (resultado da celula)\n",
    "state.related & set(strategy.ref[work_by_varname(\"mendes2004a\")])"
   ]
  },
  {
   "cell_type": "code",
   "execution_count": null,
   "metadata": {
    "collapsed": true
   },
   "outputs": [],
   "source": [
    "# Com backward de ... em S2, encontrou 1 (resultado da celula)\n",
    "state.find(\"s2\").delta_related & set(strategy.ref[work_by_varname(\"mendes2004a\")])"
   ]
  },
  {
   "cell_type": "code",
   "execution_count": null,
   "metadata": {
    "collapsed": true
   },
   "outputs": [],
   "source": [
    "# Com forward de ... em S1, encontrou 1 (resultado da celula)\n",
    "state.find(\"s1\").delta_related & set(strategy.rev_ref[work_by_varname(\"mendes2004a\")])"
   ]
  },
  {
   "cell_type": "code",
   "execution_count": null,
   "metadata": {
    "collapsed": true
   },
   "outputs": [],
   "source": [
    "len(state.find(\"s1\").delta_visited)"
   ]
  },
  {
   "cell_type": "code",
   "execution_count": null,
   "metadata": {
    "collapsed": true
   },
   "outputs": [],
   "source": [
    "#len(state.find(\"s1\").delta_visited & set(strategy.rev_ref[work_by_varname(\"mendes2004a\")]))\n",
    "# forward\n",
    "len(set(strategy.rev_ref[work_by_varname(\"mendes2004a\")]))"
   ]
  },
  {
   "cell_type": "code",
   "execution_count": null,
   "metadata": {
    "collapsed": true
   },
   "outputs": [],
   "source": [
    "# backward\n",
    "len(set(strategy.ref[work_by_varname(\"mendes2004a\")]))"
   ]
  },
  {
   "cell_type": "code",
   "execution_count": null,
   "metadata": {
    "collapsed": true
   },
   "outputs": [],
   "source": [
    "search_state = strategy.initial\n",
    "search_state.related"
   ]
  },
  {
   "cell_type": "markdown",
   "metadata": {},
   "source": [
    "## Estratégia 5 - Busca em Scopus + Snowballing (Short Paper - s2ffbb2u)"
   ]
  },
  {
   "cell_type": "code",
   "execution_count": null,
   "metadata": {
    "collapsed": true
   },
   "outputs": [],
   "source": [
    "reload()\n",
    "filter_function = lambda x: x.category in (\"snowball\", \"forward\", \"backward\")\n",
    "\n",
    "strategy = Strategy(*busca(\"scopus\", filter_function=filter_function))\n",
    "state = strategy.s2bbff2u()\n",
    "state"
   ]
  },
  {
   "cell_type": "code",
   "execution_count": null,
   "metadata": {
    "collapsed": true
   },
   "outputs": [],
   "source": [
    "name = \"E5\"\n",
    "print (\"Precision \" + name)\n",
    "EP = len (state.related) / len (state.visited)\n",
    "print (EP)\n",
    "print (\"Recall \" + name)\n",
    "ER = len (state.related) / len (TOTAL)\n",
    "print (ER)\n",
    "\n",
    "array.append((name, EP, ER))"
   ]
  },
  {
   "cell_type": "code",
   "execution_count": null,
   "metadata": {
    "collapsed": true
   },
   "outputs": [],
   "source": [
    "state.find(\"s0\").related "
   ]
  },
  {
   "cell_type": "code",
   "execution_count": null,
   "metadata": {
    "collapsed": true
   },
   "outputs": [],
   "source": [
    "state.find(\"s1\").related "
   ]
  },
  {
   "cell_type": "code",
   "execution_count": null,
   "metadata": {
    "collapsed": true
   },
   "outputs": [],
   "source": [
    "state.find(\"s5\").related "
   ]
  },
  {
   "cell_type": "code",
   "execution_count": null,
   "metadata": {
    "collapsed": true
   },
   "outputs": [],
   "source": [
    "sx, sy = state.previous[0]\n",
    "\n",
    "sx.related & sy.related\n"
   ]
  },
  {
   "cell_type": "code",
   "execution_count": null,
   "metadata": {
    "collapsed": true
   },
   "outputs": [],
   "source": [
    "sx.name"
   ]
  },
  {
   "cell_type": "code",
   "execution_count": null,
   "metadata": {
    "collapsed": true
   },
   "outputs": [],
   "source": [
    "sy.name"
   ]
  },
  {
   "cell_type": "markdown",
   "metadata": {},
   "source": [
    "## Estratégia 6 - Busca em Scopus + Snowballing (JF - bbff)"
   ]
  },
  {
   "cell_type": "code",
   "execution_count": null,
   "metadata": {
    "collapsed": true
   },
   "outputs": [],
   "source": [
    "reload()\n",
    "filter_function = lambda x: x.category in (\"snowball\", \"forward\", \"backward\")\n",
    "\n",
    "strategy = Strategy(*busca(\"scopus\", filter_function=filter_function))\n",
    "state = strategy.bbff()\n",
    "state"
   ]
  },
  {
   "cell_type": "code",
   "execution_count": null,
   "metadata": {
    "collapsed": true
   },
   "outputs": [],
   "source": [
    "name = \"E6\"\n",
    "print (\"Precision \" + name)\n",
    "EP = len (state.related) / len (state.visited)\n",
    "print (EP)\n",
    "print (\"Recall \" + name)\n",
    "ER = len (state.related) / len (TOTAL)\n",
    "print (ER)\n",
    "\n",
    "array.append((name, EP, ER))"
   ]
  },
  {
   "cell_type": "markdown",
   "metadata": {},
   "source": [
    "## Estratégia 7 - Busca em Scopus + Snowballing (JF - ffbb)"
   ]
  },
  {
   "cell_type": "code",
   "execution_count": null,
   "metadata": {
    "collapsed": true
   },
   "outputs": [],
   "source": [
    "reload()\n",
    "filter_function = lambda x: x.category in (\"snowball\", \"forward\", \"backward\")\n",
    "\n",
    "strategy = Strategy(*busca(\"scopus\", filter_function=filter_function))\n",
    "state = strategy.ffbb()\n",
    "state"
   ]
  },
  {
   "cell_type": "code",
   "execution_count": null,
   "metadata": {
    "collapsed": true
   },
   "outputs": [],
   "source": [
    "name = \"E7\"\n",
    "print (\"Precision \" + name)\n",
    "EP = len (state.related) / len (state.visited)\n",
    "print (EP)\n",
    "print (\"Recall \" + name)\n",
    "ER = len (state.related) / len (TOTAL)\n",
    "print (ER)\n",
    "\n",
    "array.append((name, EP, ER))"
   ]
  },
  {
   "cell_type": "markdown",
   "metadata": {},
   "source": [
    "# Análise das Estratégias"
   ]
  },
  {
   "cell_type": "code",
   "execution_count": null,
   "metadata": {
    "collapsed": true
   },
   "outputs": [],
   "source": [
    "%matplotlib notebook\n",
    "import pandas as pd"
   ]
  },
  {
   "cell_type": "code",
   "execution_count": null,
   "metadata": {
    "collapsed": true
   },
   "outputs": [],
   "source": [
    "df = pd.DataFrame (array,columns = ['Estratégia','Precision','Recall'])\n",
    "df.index = df['Estratégia']\n",
    "df"
   ]
  },
  {
   "cell_type": "code",
   "execution_count": null,
   "metadata": {
    "collapsed": true,
    "scrolled": false
   },
   "outputs": [],
   "source": [
    "import matplotlib.pyplot as plt\n",
    "ax = df.plot.bar(title =\"Precision e Recall das Estratégias\")\n",
    "plt.tight_layout()\n"
   ]
  },
  {
   "cell_type": "code",
   "execution_count": null,
   "metadata": {
    "collapsed": true
   },
   "outputs": [],
   "source": [
    "df"
   ]
  },
  {
   "cell_type": "code",
   "execution_count": null,
   "metadata": {
    "collapsed": true
   },
   "outputs": [],
   "source": [
    "df.to_csv(\"estrategias.csv\")"
   ]
  },
  {
   "cell_type": "markdown",
   "metadata": {
    "collapsed": true
   },
   "source": [
    "# Individual"
   ]
  },
  {
   "cell_type": "code",
   "execution_count": 127,
   "metadata": {},
   "outputs": [
    {
     "data": {
      "image/svg+xml": [
       "<?xml version=\"1.0\" encoding=\"UTF-8\" standalone=\"no\"?>\r\n",
       "<!DOCTYPE svg PUBLIC \"-//W3C//DTD SVG 1.1//EN\"\r\n",
       " \"http://www.w3.org/Graphics/SVG/1.1/DTD/svg11.dtd\">\r\n",
       "<!-- Generated by graphviz version 2.38.0 (20140413.2041)\r\n",
       " -->\r\n",
       "<!-- Title: G Pages: 1 -->\r\n",
       "<svg width=\"507pt\" height=\"176pt\"\r\n",
       " viewBox=\"0.00 0.00 506.83 175.95\" xmlns=\"http://www.w3.org/2000/svg\" xmlns:xlink=\"http://www.w3.org/1999/xlink\">\r\n",
       "<g id=\"graph0\" class=\"graph\" transform=\"scale(1 1) rotate(0) translate(4 171.953)\">\r\n",
       "<title>G</title>\r\n",
       "<polygon fill=\"white\" stroke=\"none\" points=\"-4,4 -4,-171.953 502.825,-171.953 502.825,4 -4,4\"/>\r\n",
       "<!-- s3 -->\r\n",
       "<g id=\"node1\" class=\"node\"><title>s3</title>\r\n",
       "<ellipse fill=\"none\" stroke=\"black\" cx=\"447.207\" cy=\"-90.4767\" rx=\"51.7379\" ry=\"37.4533\"/>\r\n",
       "<text text-anchor=\"middle\" x=\"447.207\" y=\"-101.777\" font-family=\"Times New Roman,serif\" font-size=\"14.00\">s3</text>\r\n",
       "<text text-anchor=\"middle\" x=\"447.207\" y=\"-86.7767\" font-family=\"Times New Roman,serif\" font-size=\"14.00\">visited: 19</text>\r\n",
       "<text text-anchor=\"middle\" x=\"447.207\" y=\"-71.7767\" font-family=\"Times New Roman,serif\" font-size=\"14.00\">related: 1</text>\r\n",
       "</g>\r\n",
       "<!-- s1 -->\r\n",
       "<g id=\"node2\" class=\"node\"><title>s1</title>\r\n",
       "<ellipse fill=\"none\" stroke=\"black\" cx=\"276.969\" cy=\"-130.477\" rx=\"47.2526\" ry=\"37.4533\"/>\r\n",
       "<text text-anchor=\"middle\" x=\"276.969\" y=\"-141.777\" font-family=\"Times New Roman,serif\" font-size=\"14.00\">s1</text>\r\n",
       "<text text-anchor=\"middle\" x=\"276.969\" y=\"-126.777\" font-family=\"Times New Roman,serif\" font-size=\"14.00\">visited: 1</text>\r\n",
       "<text text-anchor=\"middle\" x=\"276.969\" y=\"-111.777\" font-family=\"Times New Roman,serif\" font-size=\"14.00\">related: 1</text>\r\n",
       "</g>\r\n",
       "<!-- s3&#45;&gt;s1 -->\r\n",
       "<g id=\"edge1\" class=\"edge\"><title>s3&#45;&gt;s1</title>\r\n",
       "<path fill=\"none\" stroke=\"black\" d=\"M397.997,-101.939C377.46,-106.822 353.408,-112.54 332.25,-117.571\"/>\r\n",
       "<polygon fill=\"black\" stroke=\"black\" points=\"331.36,-114.185 322.441,-119.903 332.979,-120.995 331.36,-114.185\"/>\r\n",
       "<text text-anchor=\"middle\" x=\"362.088\" y=\"-117.277\" font-family=\"Times New Roman,serif\" font-size=\"14.00\">union</text>\r\n",
       "</g>\r\n",
       "<!-- s2 -->\r\n",
       "<g id=\"node3\" class=\"node\"><title>s2</title>\r\n",
       "<ellipse fill=\"none\" stroke=\"black\" cx=\"276.969\" cy=\"-37.4767\" rx=\"51.7379\" ry=\"37.4533\"/>\r\n",
       "<text text-anchor=\"middle\" x=\"276.969\" y=\"-48.7767\" font-family=\"Times New Roman,serif\" font-size=\"14.00\">s2</text>\r\n",
       "<text text-anchor=\"middle\" x=\"276.969\" y=\"-33.7767\" font-family=\"Times New Roman,serif\" font-size=\"14.00\">visited: 19</text>\r\n",
       "<text text-anchor=\"middle\" x=\"276.969\" y=\"-18.7767\" font-family=\"Times New Roman,serif\" font-size=\"14.00\">related: 1</text>\r\n",
       "</g>\r\n",
       "<!-- s3&#45;&gt;s2 -->\r\n",
       "<g id=\"edge2\" class=\"edge\"><title>s3&#45;&gt;s2</title>\r\n",
       "<path fill=\"none\" stroke=\"black\" d=\"M399.343,-75.7132C379.199,-69.3672 355.483,-61.8958 334.384,-55.2491\"/>\r\n",
       "<polygon fill=\"black\" stroke=\"black\" points=\"335.171,-51.8275 324.581,-52.1609 333.068,-58.504 335.171,-51.8275\"/>\r\n",
       "<text text-anchor=\"middle\" x=\"362.088\" y=\"-73.2767\" font-family=\"Times New Roman,serif\" font-size=\"14.00\">union</text>\r\n",
       "</g>\r\n",
       "<!-- esfahani2011a -->\r\n",
       "<g id=\"node4\" class=\"node\"><title>esfahani2011a</title>\r\n",
       "<ellipse fill=\"none\" stroke=\"black\" cx=\"67.1751\" cy=\"-86.4767\" rx=\"67.3507\" ry=\"37.4533\"/>\r\n",
       "<text text-anchor=\"middle\" x=\"67.1751\" y=\"-97.7767\" font-family=\"Times New Roman,serif\" font-size=\"14.00\">esfahani2011a</text>\r\n",
       "<text text-anchor=\"middle\" x=\"67.1751\" y=\"-82.7767\" font-family=\"Times New Roman,serif\" font-size=\"14.00\">visited: 1</text>\r\n",
       "<text text-anchor=\"middle\" x=\"67.1751\" y=\"-67.7767\" font-family=\"Times New Roman,serif\" font-size=\"14.00\">related: 1</text>\r\n",
       "</g>\r\n",
       "<!-- s1&#45;&gt;esfahani2011a -->\r\n",
       "<g id=\"edge3\" class=\"edge\"><title>s1&#45;&gt;esfahani2011a</title>\r\n",
       "<path fill=\"none\" stroke=\"black\" d=\"M231.137,-120.983C204.661,-115.377 170.522,-108.148 140.336,-101.757\"/>\r\n",
       "<polygon fill=\"black\" stroke=\"black\" points=\"140.776,-98.2722 130.268,-99.6247 139.326,-105.12 140.776,-98.2722\"/>\r\n",
       "<text text-anchor=\"middle\" x=\"179.85\" y=\"-148.277\" font-family=\"Times New Roman,serif\" font-size=\"14.00\">forward</text>\r\n",
       "<text text-anchor=\"middle\" x=\"179.85\" y=\"-133.277\" font-family=\"Times New Roman,serif\" font-size=\"14.00\">found: 0</text>\r\n",
       "<text text-anchor=\"middle\" x=\"179.85\" y=\"-118.277\" font-family=\"Times New Roman,serif\" font-size=\"14.00\">related: 0</text>\r\n",
       "</g>\r\n",
       "<!-- s2&#45;&gt;esfahani2011a -->\r\n",
       "<g id=\"edge4\" class=\"edge\"><title>s2&#45;&gt;esfahani2011a</title>\r\n",
       "<path fill=\"none\" stroke=\"black\" d=\"M225.579,-42.404C202.973,-45.2295 176.103,-49.4436 152.35,-55.4767 145.657,-57.1767 138.757,-59.2179 131.922,-61.4311\"/>\r\n",
       "<polygon fill=\"black\" stroke=\"black\" points=\"130.348,-58.2682 121.988,-64.777 132.582,-64.9021 130.348,-58.2682\"/>\r\n",
       "<text text-anchor=\"middle\" x=\"179.85\" y=\"-89.2767\" font-family=\"Times New Roman,serif\" font-size=\"14.00\">backward</text>\r\n",
       "<text text-anchor=\"middle\" x=\"179.85\" y=\"-74.2767\" font-family=\"Times New Roman,serif\" font-size=\"14.00\">found: 18</text>\r\n",
       "<text text-anchor=\"middle\" x=\"179.85\" y=\"-59.2767\" font-family=\"Times New Roman,serif\" font-size=\"14.00\">related: 0</text>\r\n",
       "</g>\r\n",
       "</g>\r\n",
       "</svg>\r\n"
      ],
      "text/plain": [
       "Step(name='start', new_references=1, new_related=1, total_visited=1, total_related=1, source='', target='esfahani2011a')\n",
       "Step(name='backward', new_references=18, new_related=0, total_visited=19, total_related=1, source='esfahani2011a', target='s2')\n",
       "Step(name='forward', new_references=0, new_related=0, total_visited=1, total_related=1, source='esfahani2011a', target='s1')\n",
       "Step(name='union', new_references=0, new_related=0, total_visited=19, total_related=1, source='s1|s2', target='s3')"
      ],
      "text/vnd.graphviz": [
       "digraph G {\n",
       "  rankdir=\"RL\";\n",
       "\n",
       "  s3 [label=\"s3\\nvisited: 19\\nrelated: 1\"];\n",
       "  s3 -> s1 [label=\"union\"];\n",
       "  s3 -> s2 [label=\"union\"];\n",
       "\n",
       "  s1 [label=\"s1\\nvisited: 1\\nrelated: 1\"];\n",
       "  s1 -> esfahani2011a [label=\"forward\\nfound: 0\\nrelated: 0\"];\n",
       "\n",
       "  s2 [label=\"s2\\nvisited: 19\\nrelated: 1\"];\n",
       "  s2 -> esfahani2011a [label=\"backward\\nfound: 18\\nrelated: 0\"];\n",
       "\n",
       "  esfahani2011a [label=\"esfahani2011a\\nvisited: 1\\nrelated: 1\"];\n",
       "\n",
       "}"
      ]
     },
     "metadata": {},
     "output_type": "display_data"
    }
   ],
   "source": [
    "reload()\n",
    "NAME = \"becker2008b\"\n",
    "filter_function = lambda x: x.category in (\"snowball\", \"forward\", \"backward\")\n",
    "seedset = {work_by_varname(NAME)}\n",
    "strategy = Strategy(seedset, filter_function)\n",
    "strategy.initial.name = NAME\n",
    "state = strategy.sfbu()\n",
    "state"
   ]
  },
  {
   "cell_type": "code",
   "execution_count": null,
   "metadata": {
    "collapsed": true
   },
   "outputs": [],
   "source": []
  }
 ],
 "metadata": {
  "kernelspec": {
   "display_name": "Python 3",
   "language": "python",
   "name": "python3"
  },
  "language_info": {
   "codemirror_mode": {
    "name": "ipython",
    "version": 3
   },
   "file_extension": ".py",
   "mimetype": "text/x-python",
   "name": "python",
   "nbconvert_exporter": "python",
   "pygments_lexer": "ipython3",
   "version": "3.6.0"
  },
  "toc": {
   "nav_menu": {
    "height": "12px",
    "width": "252px"
   },
   "number_sections": true,
   "sideBar": true,
   "skip_h1_title": false,
   "toc_cell": false,
   "toc_position": {
    "height": "710px",
    "left": "0px",
    "right": "1442.5px",
    "top": "108px",
    "width": "265px"
   },
   "toc_section_display": "block",
   "toc_window_display": true
  }
 },
 "nbformat": 4,
 "nbformat_minor": 2
}
