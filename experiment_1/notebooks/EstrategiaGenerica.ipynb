{
 "cells": [
  {
   "cell_type": "code",
   "execution_count": 1,
   "metadata": {
    "collapsed": true
   },
   "outputs": [],
   "source": [
    "%matplotlib notebook\n",
    "\n",
    "import os, sys\n",
    "sys.path.insert(1, os.path.join(sys.path[0], '..'))\n",
    "import database\n",
    "from snowballing.operations import reload, work_by_varname, load_work_map_all_years\n",
    "from snowballing.strategies import Strategy, State\n",
    "import custom_strategies\n",
    "from functools import reduce\n",
    "from matplotlib_venn import venn2, venn2_circles\n",
    "from matplotlib import pyplot as plt\n",
    "import pandas as pd\n",
    "import numpy as np\n",
    "\n",
    "custom_strategies.LIMIT_YEAR = 2015\n",
    "reload()\n",
    "# !pip install matplotlib-venn"
   ]
  },
  {
   "cell_type": "code",
   "execution_count": 2,
   "metadata": {
    "collapsed": true
   },
   "outputs": [],
   "source": [
    "from snowballing.operations import metakey, metakey_title\n",
    "\n",
    "def busca(*libraries, seed=None, filter_function=None):\n",
    "    filter_function = filter_function or (lambda x: x.category in (\"snowball\",))\n",
    "    if seed is not None:\n",
    "        iterable = ((1, work_by_varname(x)) for x in seed)\n",
    "    else:\n",
    "        iterable = load_work_map_all_years()\n",
    "    seedset = set()\n",
    "    visited = set()\n",
    "    for _, work in iterable:\n",
    "        for library in libraries:\n",
    "            if int(getattr(work, library, 0)):\n",
    "                visited.add(work)\n",
    "                if filter_function(work):\n",
    "                    seedset.add(work)\n",
    "                break\n",
    "    return seedset, filter_function, visited\n",
    "\n",
    "def descreve_delta(strategy, state, name):\n",
    "    target = state.find(name)\n",
    "    previous_related = reduce(lambda x, y: x | y, (s.related for s in target.previous[0]), set())\n",
    "    for work in previous_related:\n",
    "        backward = set(strategy.ref[work]) & target.delta_visited\n",
    "        if backward:\n",
    "            print('backward', work.metakey)\n",
    "            for ref in backward:\n",
    "                print('-', ref.metakey, 'related' if ref in target.delta_related else '')\n",
    "        forward = set(strategy.rev_ref[work]) & target.delta_visited\n",
    "        if forward:\n",
    "            print('forward', work.metakey)\n",
    "            for ref in forward:\n",
    "                print('-', ref.metakey, 'related' if ref in target.delta_related else '')\n",
    "\n",
    "def separa_backward_forward(state):\n",
    "    backward = set()\n",
    "    forward = set()\n",
    "    stack = [state]\n",
    "    visited = {id(state)}\n",
    "    while stack:\n",
    "        current = stack.pop()\n",
    "        if current.previous:\n",
    "            if current.previous[1] == \"backward\":\n",
    "                backward |= current.delta_related\n",
    "            if current.previous[1] == \"forward\":\n",
    "                forward |= current.delta_related\n",
    "                \n",
    "            antecessors = current.previous[0]\n",
    "            for previous in antecessors:\n",
    "                if id(previous) not in visited:\n",
    "                    visited.add(id(previous))\n",
    "                    stack.append(previous)\n",
    "    return backward, forward\n",
    "\n",
    "def encontraria(strategy, state):\n",
    "    backward = set()\n",
    "    forward = set()\n",
    "    related = state.related - state.find(\"s0\").related\n",
    "    for work in state.related:\n",
    "        backward |= (set(strategy.ref[work]) & related)\n",
    "        forward |= (set(strategy.rev_ref[work]) & related)\n",
    "    return backward, forward\n",
    "\n",
    "#busca(\"scopus\", seed=[\"wohlin2014a\", \"briand2000a\"], filter_function=lambda x: True)\n",
    "#busca(\"scopus\", filter_function=lambda x: False)"
   ]
  },
  {
   "cell_type": "markdown",
   "metadata": {},
   "source": [
    "# Estratégias"
   ]
  },
  {
   "cell_type": "markdown",
   "metadata": {},
   "source": [
    "## Estratégia 1 - Busca em todas Digital Libraries (DL)"
   ]
  },
  {
   "cell_type": "code",
   "execution_count": 9,
   "metadata": {},
   "outputs": [
    {
     "name": "stdout",
     "output_type": "stream",
     "text": [
      "Total de estudos primários usados como Seed Set:  52\n"
     ]
    }
   ],
   "source": [
    "print (\"Total de estudos primários: \", len ([x for _, x in load_work_map_all_years() if x.category == \"snowball\"]))\n"
   ]
  },
  {
   "cell_type": "code",
   "execution_count": 11,
   "metadata": {},
   "outputs": [
    {
     "name": "stdout",
     "output_type": "stream",
     "text": [
      "Total de estudos primários usados como Seed Set:  51\n"
     ]
    }
   ],
   "source": [
    "print (\"Total de estudos primários 22 do Seed Set + 29 Snowballing: \", len ({x for _, x in load_work_map_all_years() if x.category == \"snowball\"}))"
   ]
  },
  {
   "cell_type": "code",
   "execution_count": 13,
   "metadata": {},
   "outputs": [
    {
     "name": "stdout",
     "output_type": "stream",
     "text": [
      "Lista de estudos primários usados como Seed Set:\n"
     ]
    },
    {
     "data": {
      "text/plain": [
       "['sommerville1999a - Managing process inconsistency using viewpoints',\n",
       " 'mandić2010d - SAS: A tool for the GQM+ strategies grid derivation process',\n",
       " 'trendowicz2014a - Aligning Organizations Through Measurement',\n",
       " 'albuquerque2009a - Software process improvement: Supporting the linking of the software and the business strategies',\n",
       " \"reiblein1997a - SPI:\\x91I can't get no satisfaction\\x92-directing process improvement to meet business needs\",\n",
       " 'waina2001a - A business goal-based approach to achieving systems engineering capability maturity',\n",
       " 'mcloughlin2010b - The Rosetta Stone Methodology - A benefits-driven approach to SPI',\n",
       " 'mandić2010a - Utilizing GQM+ Strategies for an organization-wide earned value analysis',\n",
       " 'trienekens2004a - Business objectives as drivers for process improvement: Practices and experiences at Thales Naval the Netherlands (TNNL)',\n",
       " 'wilkie2007a - A Low-overhead method for software process appraisal',\n",
       " 'mandić2010b - Utilizing GQM+ Strategies for business value analysis: An approach for evaluating business goals',\n",
       " 'mcloughlin2010a - The Rosetta Stone Methodology - A benefits-driven approach to software process improvement',\n",
       " 'murugappan2003a - Blending CMM and Six Sigma to meet business goals',\n",
       " 'karlström2002a - Aggregating viewpoints for strategic software process improvement\\x97a method and a case study',\n",
       " 'trienekens2009a - Entropy based software processes improvement',\n",
       " 'birkhölzer2011a - A framework for systematic evaluation of process improvement priorities',\n",
       " 'kowalczyk2010a - Aligning software-related strategies in multi-organizational settings',\n",
       " 'hinley1995a - A goal-oriented approach for managing software process change',\n",
       " 'mccoy1998a - Interfacing three complementary technologies: strategic planning, process modeling, and system dynamics',\n",
       " 'martins2008a - ProPAMet: a Metric for process and project alignment',\n",
       " 'messnarz1999a - Better Software Practice for Business Benefit: Principles and Experiences',\n",
       " 'guzmán2010a - Integration of strategic management, process improvement and quantitative measurement for managing the competitiveness of software engineering organizations',\n",
       " 'petersen2015a - An elicitation instrument for operationalising GQM+ Strategies (GQM+ S-EI)',\n",
       " 'liu2005a - QFD application in software process management and improvement based on CMM',\n",
       " 'münch2013a - The effects of gqm+ strategies on organizational alignment',\n",
       " 'armbrust2010b - Which Processes Are Needed in Five Years? Strategic Process Portfolio Management at the Japan Aerospace Exploration Agency (JAXA)',\n",
       " 'cocozza2014a - Application of GQM+ Strategies in a small software development unit',\n",
       " 'basili2007b - GQM+Strategies - Aligning business strategies with software measurement',\n",
       " 'basili2007c - GQM+ Strategies: A comprehensive methodology for aligning business strategies with software measurement',\n",
       " 'unterkalmsteiner2014a - A conceptual framework for SPI evaluation',\n",
       " 'barreto2010a - Defining and monitoring strategically aligned software improvement goals',\n",
       " 'debou2000a - Linking software process improvement to business strategies: experiences from industry',\n",
       " 'kaneko2011a - Application of GQM+ Strategies{\\textregistered} in the Japanese space industry',\n",
       " 'liu2006a - Business-oriented software process improvement based on CMM using QFD',\n",
       " 'kautz2000a - Applying and adjusting a software process improvement model in practice: the use of the IDEAL model in a small software enterprise',\n",
       " 'armbrust2010a - Determining organization-specific process suitability',\n",
       " 'münch2013c - Experiences and insights from applying gqm+ strategies in a systems product development organisation',\n",
       " 'becker2008b - Strategic alignment of software process improvement programs using QFD',\n",
       " 'trendowicz2011a - Aligning software projects with business objectives',\n",
       " 'esfahani2011a - Strategically balanced process adoption',\n",
       " 'becker2008a - An approach to support the strategic alignment of software process improvement programs',\n",
       " 'trienekens2005a - Business-oriented process improvement: practices and experiences at Thales Naval The Netherlands (TNNL)',\n",
       " 'plösch2011a - Software engineering strategies: aligning software process improvement with strategic goals',\n",
       " 'martins2007b - ProPAM: SPI based on Process and Project Alignment',\n",
       " 'wang2005a - Measuring and improving software process in China',\n",
       " 'basili2007a - Bridging the gap between business strategy and software development',\n",
       " 'oConnor2015a - Exploring the use of the cynefin framework to inform software development approach decisions',\n",
       " 'sun2010a - Business-oriented software process improvement based on CMMI using QFD',\n",
       " 'lepmets2014a - A Cynefin based approach to process model tailoring and goal alignment',\n",
       " 'basili2010a - Linking software development and business strategy through measurement',\n",
       " 'stallinger2013a - Development and Evaluation of Systems Engineering Strategies: An Assessment-Based Approach']"
      ]
     },
     "execution_count": 13,
     "metadata": {},
     "output_type": "execute_result"
    }
   ],
   "source": [
    "print (\"Lista de estudos primários usados como Seed Set + Snowballing:\")\n",
    "({x for _, x in load_work_map_all_years() if x.category == \"snowball\"}) @ metakey_title"
   ]
  },
  {
   "cell_type": "code",
   "execution_count": 7,
   "metadata": {},
   "outputs": [
    {
     "data": {
      "image/svg+xml": [
       "<?xml version=\"1.0\" encoding=\"UTF-8\" standalone=\"no\"?>\r\n",
       "<!DOCTYPE svg PUBLIC \"-//W3C//DTD SVG 1.1//EN\"\r\n",
       " \"http://www.w3.org/Graphics/SVG/1.1/DTD/svg11.dtd\">\r\n",
       "<!-- Generated by graphviz version 2.38.0 (20140413.2041)\r\n",
       " -->\r\n",
       "<!-- Title: G Pages: 1 -->\r\n",
       "<svg width=\"121pt\" height=\"83pt\"\r\n",
       " viewBox=\"0.00 0.00 121.14 82.95\" xmlns=\"http://www.w3.org/2000/svg\" xmlns:xlink=\"http://www.w3.org/1999/xlink\">\r\n",
       "<g id=\"graph0\" class=\"graph\" transform=\"scale(1 1) rotate(0) translate(4 78.9533)\">\r\n",
       "<title>G</title>\r\n",
       "<polygon fill=\"white\" stroke=\"none\" points=\"-4,4 -4,-78.9533 117.137,-78.9533 117.137,4 -4,4\"/>\r\n",
       "<!-- s0 -->\r\n",
       "<g id=\"node1\" class=\"node\"><title>s0</title>\r\n",
       "<ellipse fill=\"none\" stroke=\"black\" cx=\"56.5685\" cy=\"-37.4767\" rx=\"56.6372\" ry=\"37.4533\"/>\r\n",
       "<text text-anchor=\"middle\" x=\"56.5685\" y=\"-48.7767\" font-family=\"Times New Roman,serif\" font-size=\"14.00\">s0</text>\r\n",
       "<text text-anchor=\"middle\" x=\"56.5685\" y=\"-33.7767\" font-family=\"Times New Roman,serif\" font-size=\"14.00\">visited: 100</text>\r\n",
       "<text text-anchor=\"middle\" x=\"56.5685\" y=\"-18.7767\" font-family=\"Times New Roman,serif\" font-size=\"14.00\">related: 5</text>\r\n",
       "</g>\r\n",
       "</g>\r\n",
       "</svg>\r\n"
      ],
      "text/plain": [
       "Step(name='start', new_references=100, new_related=5, total_visited=100, total_related=5, source='', target='s0')"
      ],
      "text/vnd.graphviz": [
       "digraph G {\n",
       "  rankdir=\"RL\";\n",
       "\n",
       "  s0 [label=\"s0\\nvisited: 100\\nrelated: 5\"];\n",
       "\n",
       "}"
      ]
     },
     "metadata": {},
     "output_type": "display_data"
    }
   ],
   "source": [
    "reload()\n",
    "TOTAL = [x for _, x in load_work_map_all_years() if x.category == \"snowball\"]\n",
    "filter_function = lambda x: x.category in (\"snowball\", \"forward\", \"backward\")\n",
    "\n",
    "strategy = Strategy(*busca(\"acm2015\", filter_function=filter_function))\n",
    "\n",
    "state = strategy.initial\n",
    "strategy.initial.visited\n",
    "\n",
    "#strategy.initial.name\n",
    "state\n"
   ]
  },
  {
   "cell_type": "code",
   "execution_count": 8,
   "metadata": {},
   "outputs": [
    {
     "data": {
      "text/plain": [
       "['scacchi2007a - Free/Open Source Software Development',\n",
       " 'boer2009a - Writing and Reading Software Documentation: How the Development Process May Affect Understanding',\n",
       " 'ward1999a - Some Observations on Software Quality',\n",
       " 'martini2012a - Enablers and Inhibitors for Speed with Reuse',\n",
       " 'desai2009a - Amoeba: A methodology for modeling and evolving cross-organizational business processes',\n",
       " 'matthiesen2014a - Figure out how to code with the hands of others: recognizing cultural blind spots in global software development',\n",
       " 'mandić2010b - Utilizing GQM+ Strategies for business value analysis: An approach for evaluating business goals',\n",
       " 'srinivasan2010a - Studying Software Organizations: In Search of a Method',\n",
       " 'barcellos2013b - A Software Measurement Task Ontology',\n",
       " 'fuggetta2014a - Software process',\n",
       " 'cresswell2007a - Assessing capability for justice information sharing',\n",
       " 'hulkko2005a - A Multiple Case Study on the Impact of Pair Programming on Product Quality',\n",
       " 'mishra2010a - People Management in Software Industry: The Key to Success',\n",
       " 'lee2010b - Optimizing IT Process Management',\n",
       " 'schmid2002a - A Comprehensive Product Line Scoping Approach and Its Validation',\n",
       " 'paulisch2008a - Business Impact of Process Improvements',\n",
       " 'maheshwari2011a - A multi-level framework for measuring and benchmarking public service organizations: connecting stages-of-growth models and enterprise architecture',\n",
       " 'nikitina2010a - Consequences of Business Growth on Software Processes',\n",
       " 'kirk2014a - Investigating a Conceptual Construct for Software Context',\n",
       " 'spoelstra2011a - Software Reuse in Agile Development Organizations: A Conceptual Management Tool',\n",
       " 'kautz2000a - Applying and adjusting a software process improvement model in practice: the use of the IDEAL model in a small software enterprise',\n",
       " 'becker2008b - Strategic alignment of software process improvement programs using QFD',\n",
       " 'engel2001a - Computing curricula 2001',\n",
       " 'moser2010a - Process-driven Feature Modeling for Variability Management of Project Environment Configurations',\n",
       " 'fitzgerald2014a - Continuous Software Engineering and Beyond: Trends and Challenges',\n",
       " 'mishra2012a - E-government: exploring the different dimensions of challenges, implementation, and success factors',\n",
       " 'duszynski2011a - A scalable goal-oriented approach to software variability recovery',\n",
       " 'bannerman2008a - Capturing Business Benefits from Process Improvement: Four Fallacies and What to Do About Them',\n",
       " 'whitehead2007a - Collaboration in software engineering: A roadmap',\n",
       " 'felderer2014c - Industrial evaluation of the impact of quality-driven release planning',\n",
       " 'ramsin2008a - Process-centered review of object oriented software development methodologies',\n",
       " \"ferreira2007a - Applying ISO 9001: 2000, MPS.BR and CMMI to Achieve Software Process Maturity: BL Informatica's Pathway\",\n",
       " 'jantunen2006a - Towards global market-driven software development processes: an industrial case study',\n",
       " 'conradi2001a - An Empirical Study on the Utility of Formal Routines to Transfer Knowledge and Experience',\n",
       " 'zahedi2014a - Towards an Understanding of Enabling Process Knowing in Global Software Development: A Case Study',\n",
       " 'wiesche2014a - The Relationship of Personality Models and Development Tasks in Software Engineering',\n",
       " 'souer2010a - An Approach to Identify Commonalities in Web Application Engineering for a Web Content Management System',\n",
       " 'muñoz2012a - Surprise: User-controlled granular privacy and security for personal data in smartercontext',\n",
       " 'leitner2010a - Managing ERP Configuration Variants: An Experience Report',\n",
       " 'imtiaz2012a - Architectural Task Allocation in Distributed Environment: A Traceability Perspective',\n",
       " 'marín2013a - Using a Functional Size Measurement Procedure to Evaluate the Quality of Models in MDD Environments',\n",
       " 'najar2009a - Semantic Representation of Context Models: A Framework for Analyzing and Understanding',\n",
       " 'jiang2012a - Assessing team performance from a socio-technical congruence perspective',\n",
       " 'abrahamsson2001b - Commitment Development in Software Process Improvement: Critical Misconceptions',\n",
       " 'cardoso2013a - The Public Software Ecosystem: Exploratory Survey',\n",
       " 'stallinger2011b - Migrating towards evolving software product lines: challenges of an SME in a core customer-driven industrial systems engineering context',\n",
       " 'daneva2001b - Evaluating the value-added benefits of using requirements reuse metrics in ERP projects',\n",
       " 'turnu2004a - Introducing TDD on a Free Libre Open Source Software Project: A Simulation Experiment',\n",
       " 'mkhomazi2011a - The Social Context of Broadband Infrastructure Sharing',\n",
       " 'brown2012a - Joint Implicit Alignment Work of Interaction Designers and Software Developers',\n",
       " 'elsner2009a - Product derivation for solution-driven product line engineering',\n",
       " 'rech2011a - Aggregation of Experiences in Experience Factories into Software Patterns',\n",
       " 'macmahon2013a - Risk management of medical IT networks: an ISO/IEC 15504 compliant approach to assessment against IEC 80001-1',\n",
       " 'hilst2010a - A Pattern System of Underlying Theories for Process Improvement',\n",
       " 'theunissen2005a - In search of the sweet spot: agile open collaborative corporate software development',\n",
       " 'pino2009c - Key Processes to Start Software Process Improvement in Small Companies',\n",
       " 'aysolmaz2014a - Modeling Business Processes to Generate Artifacts for Software Development: A Methodology',\n",
       " \"stol2014a - Two's Company, Three's a Crowd: A Case Study of Crowdsourcing Software Development\",\n",
       " 'subramanian2009a - Balancing Four Factors in System Development Projects',\n",
       " 'scacchi2007b - Free/Open Source Software Development: Recent Research Results and Emerging Opportunities',\n",
       " 'bhandari1995a - On the use of machine-assisted knowledge discovery to analyze and reengineer measurement frameworks',\n",
       " 'diebold2015a - The Agile Practices Impact Model: Idea, Concept, and Application Scenario',\n",
       " 'notander2013a - SimPal: a design study on a framework for flexible safety-critical software development',\n",
       " 'srinivasan2010b - Agile in India: Challenges and Lessons Learned',\n",
       " 'o2015a - Software Process Reflexivity and Business Performance: Initial Results from an Empirical Study',\n",
       " \"boustedt2008a - A methodology for exploring students' experiences and interaction with large-scale software through role-play and phenomenography\",\n",
       " 'benestad2011a - A comparison of model-based and judgment-based release planning in incremental software projects',\n",
       " 'avila2007a - Using software product lines to manage model families in model-driven engineering',\n",
       " 'mettler2009a - Situational Maturity Models As Instrumental Artifacts for Organizational Design',\n",
       " 'pardo2010a - A Process for Driving the Harmonization of Models',\n",
       " 'harter2000a - Process maturity and software quality: a field study',\n",
       " 'esfahani2011a - Strategically balanced process adoption',\n",
       " 'lavazza2005a - Automated support for process-aware definition and execution of measurement plans',\n",
       " 'yilmaz2011a - A Software Process Engineering Approach to Improving Software Team Productivity Using Socioeconomic Mechanism Design',\n",
       " 'tracz2004a - Frontmatter (TOC, Letters, Frank David Anger, ACM Fellow Profile, ICSE 2005, Praise and Criticism, Some Thoughts on Software Reliability, Latest DoD Effort to Achieve Quality in Software, Software Engineering Education)',\n",
       " 'boehm2003d - Value-based software engineering: reinventing',\n",
       " 'umarji2009a - Gauging acceptance of software metrics: Comparing perspectives of managers and developers',\n",
       " 'luzuriaga2008a - Setting SPI Practices in Latin America: An Exploratory Case Study in the Justice Area',\n",
       " 'sommerville2005a - An empirical study of industrial requirements engineering process assessment and improvement',\n",
       " 'buse2012a - Information needs for software development analytics',\n",
       " 'mahmood2015a - Identifying the Factors That Influence Task Allocation in Global Software Development: Preliminary Results',\n",
       " 'martini2013a - Communication factors for speed and reuse in large-scale agile software development',\n",
       " 'klendauer2012a - Using the IDEAL software process improvement model for the implementation of Automotive SPICE',\n",
       " 'shoemaker2003a - A Case for the Study of Software Management Within a Broad Information Technology Curriculum',\n",
       " 'rajanen2012a - Introducing Usability Activities into Open Source Software Development Projects: A Participative Approach',\n",
       " 'dybå2012a - What Works for Whom, Where, when, and Why?: On the Role of Context in Empirical Software Engineering',\n",
       " 'falessi2014a - Trends and emerging areas of agile research: the report on XP2014 PhD symposium',\n",
       " 'fagerholm2012a - Developer Experience: Concept and Definition',\n",
       " 'chouseinoglou2012a - A Model for Assessing Organizational Learning in Software Development Organizations',\n",
       " 'tun2009a - Relating requirements and feature configurations: A systematic approach',\n",
       " 'bourimi2014a - Non-Functional Requirements for Distributable User Interfaces in Agile Processes',\n",
       " 'falessi2013a - The Value of Design Rationale Information',\n",
       " 'souer2008a - Engineering a Design Method for Web Content Management Implementations',\n",
       " 'mcleod2011a - Factors That Affect Software Systems Development Project Outcomes: A Survey of Research',\n",
       " 'alves2010a - Brazilian Public Software: Beyond Sharing',\n",
       " \"virtanen2013a - Team Leaders' Perceptions in the Renewing of Software Production Process\",\n",
       " 'komuro2006a - Experiences of applying SPC techniques to software development processes',\n",
       " 'al2014b - Cloud-based support for global software engineering: Potentials, risks, and gaps',\n",
       " 'oConnor2015a - Exploring the use of the cynefin framework to inform software development approach decisions',\n",
       " 'alkadhi2014a - Can Collaborative Tagging Improve User Feedback? A Case Study']"
      ]
     },
     "execution_count": 8,
     "metadata": {},
     "output_type": "execute_result"
    }
   ],
   "source": [
    "strategy.initial.visited @ metakey_title"
   ]
  },
  {
   "cell_type": "code",
   "execution_count": null,
   "metadata": {
    "collapsed": true
   },
   "outputs": [],
   "source": [
    "from snowballing.strategies import State\n",
    "\n",
    "reload()\n",
    "def busca_completa(libs, filter_function):\n",
    "    union = None\n",
    "    for dl in libs:\n",
    "        strategy = Strategy(*busca(dl, filter_function=filter_function))\n",
    "        strategy.initial.name = dl\n",
    "        if union is None:\n",
    "            union = strategy.initial.derive(\"union\", name=\"s0\")\n",
    "        else:\n",
    "            union.visited.update(strategy.initial.visited)\n",
    "            union.related.update(strategy.initial.related)\n",
    "            union.previous[0].append(strategy.initial)\n",
    "\n",
    "    State.last_id = 0\n",
    "    strategy.initial = union\n",
    "    return strategy\n",
    "\n",
    "strategy = busca_completa([\"scopus2015\", \"ieee2015\", \"acm2015\", \"springer2015\", \"elcompendex2015\", \"webofscience2015\", \"sciencedirect2015\"], filter_function)\n",
    "#strategy.initial.find(\"acm\")\n",
    "strategy.initial"
   ]
  },
  {
   "cell_type": "code",
   "execution_count": null,
   "metadata": {
    "collapsed": true
   },
   "outputs": [],
   "source": [
    "array = []\n",
    "\n",
    "print (\"--- Estratégia 1 (E1) ---\")\n",
    "\n",
    "name = \"E1\"\n",
    "EP = len (state.related) / len (state.visited)\n",
    "print (\"Precision: \" + \"%.2f\" %EP)\n",
    "\n",
    "ER = len (state.related) / len (TOTAL)\n",
    "print (\"Recall: \" + \"%.2f\" %ER)\n",
    "\n",
    "FS = 2*((EP*ER)/(EP+ER))\n",
    "print (\"F-Measure: \" + \"%.2f\" %FS)\n",
    "\n",
    "array.append((name, EP, ER, FS))"
   ]
  },
  {
   "cell_type": "markdown",
   "metadata": {},
   "source": [
    "## Estratégia 2 - Busca em todas Digital Libraries + Snowballing (Guideline - sfbu)"
   ]
  },
  {
   "cell_type": "code",
   "execution_count": null,
   "metadata": {
    "collapsed": true
   },
   "outputs": [],
   "source": [
    "reload()\n",
    "filter_function = lambda x: x.category in (\"snowball\", \"forward\", \"backward\")\n",
    "\n",
    "strategy = busca_completa([\"acm\", \"scopus\", \"springer\", \"elcompendex\", \"webofscience\", \"sciencedirect\", \"ieee\"], filter_function)\n",
    "#Strategy(*busca(\"acm\",\"scopus\", filter_function=filter_function))\n",
    "\n",
    "state = strategy.sfbu()\n",
    "#state = strategy.bbff()\n",
    "#state = strategy.ffbb()\n",
    "#state = strategy.s2ffbb2u()\n",
    "\n",
    "state"
   ]
  },
  {
   "cell_type": "markdown",
   "metadata": {},
   "source": [
    "### Resumo "
   ]
  },
  {
   "cell_type": "markdown",
   "metadata": {},
   "source": [
    "#### Resumo da Busca em DL"
   ]
  },
  {
   "cell_type": "code",
   "execution_count": null,
   "metadata": {
    "collapsed": true
   },
   "outputs": [],
   "source": [
    "strategy.initial.find(\"acm\")"
   ]
  },
  {
   "cell_type": "code",
   "execution_count": null,
   "metadata": {
    "collapsed": true
   },
   "outputs": [],
   "source": [
    "# Visitados ACM\n",
    "strategy.initial.find(\"acm\").visited"
   ]
  },
  {
   "cell_type": "code",
   "execution_count": null,
   "metadata": {
    "collapsed": true
   },
   "outputs": [],
   "source": [
    "# Relacionados ACM - encontrado no seed set\n",
    "strategy.initial.find(\"webofscience\").related"
   ]
  },
  {
   "cell_type": "code",
   "execution_count": null,
   "metadata": {
    "collapsed": true
   },
   "outputs": [],
   "source": [
    "strategy.initial.find(\"scopus\")"
   ]
  },
  {
   "cell_type": "code",
   "execution_count": null,
   "metadata": {
    "collapsed": true
   },
   "outputs": [],
   "source": [
    "print(\"Visitados Scopus:\")\n",
    "strategy.initial.find(\"scopus\").visited"
   ]
  },
  {
   "cell_type": "code",
   "execution_count": null,
   "metadata": {
    "collapsed": true
   },
   "outputs": [],
   "source": [
    "print(\"Relacionados Scopus - encontrado no seed set:\")\n",
    "strategy.initial.find(\"scopus\").related"
   ]
  },
  {
   "cell_type": "code",
   "execution_count": null,
   "metadata": {
    "collapsed": true
   },
   "outputs": [],
   "source": [
    "print(\"Artigo comum a ACM e Scopus:\")\n",
    "strategy.initial.find(\"acm\").visited & strategy.initial.find(\"scopus\").visited"
   ]
  },
  {
   "cell_type": "markdown",
   "metadata": {},
   "source": [
    "#### Resumo do Snowballing"
   ]
  },
  {
   "cell_type": "code",
   "execution_count": null,
   "metadata": {
    "collapsed": true
   },
   "outputs": [],
   "source": [
    "#Total de visitados = visitados no final - visitados no início\n",
    "print (\"Total visitados:\")\n",
    "len(state.visited - state.find(\"s0\").visited)"
   ]
  },
  {
   "cell_type": "code",
   "execution_count": null,
   "metadata": {
    "collapsed": true
   },
   "outputs": [],
   "source": [
    "# Descrição dos Relacionados = relacionados no final - relacionados no início\n",
    "print (\"Total Relacionados: Lista dos que foram encontrados via Snowballing\")\n",
    "state.related - state.find(\"s0\").related"
   ]
  },
  {
   "cell_type": "code",
   "execution_count": null,
   "metadata": {
    "collapsed": true
   },
   "outputs": [],
   "source": [
    "print (\"Encontrados via somente Snowballing:\")\n",
    "diff_related = state.related - state.find(\"s2\").related\n",
    "diff_related @ metakey_title"
   ]
  },
  {
   "cell_type": "markdown",
   "metadata": {},
   "source": [
    "### Detalhamento por Estado / Aresta"
   ]
  },
  {
   "cell_type": "markdown",
   "metadata": {},
   "source": [
    "#### Estado S0"
   ]
  },
  {
   "cell_type": "markdown",
   "metadata": {},
   "source": [
    "#### Visitados"
   ]
  },
  {
   "cell_type": "code",
   "execution_count": null,
   "metadata": {
    "collapsed": true
   },
   "outputs": [],
   "source": [
    "#S0 - Visitados\n",
    "print(\"Visitados no Estado 0:\")\n",
    "state.find(\"s0\").visited"
   ]
  },
  {
   "cell_type": "markdown",
   "metadata": {},
   "source": [
    "#### Relacionados - Seed Set"
   ]
  },
  {
   "cell_type": "code",
   "execution_count": null,
   "metadata": {
    "collapsed": true
   },
   "outputs": [],
   "source": [
    "#S0 - Relacionados - Encontrados via busca e que existem na lista dos Incluídos da SLR existente - são os seed set!\n",
    "print(\"Relacionados no Estado 0: Seed Set\")\n",
    "state.find(\"s0\").related @ metakey_title"
   ]
  },
  {
   "cell_type": "markdown",
   "metadata": {},
   "source": [
    "#### Aresta s0 -> s2 (Backward - Iteração 1)"
   ]
  },
  {
   "cell_type": "code",
   "execution_count": null,
   "metadata": {
    "collapsed": true
   },
   "outputs": [],
   "source": [
    "# S2 - Backward (Found) - Visitados na iteração 1\n",
    "print(\"Backward - Qtd Referencias dos artigos visitados para chegar ao Estado 2, a partir do Estado 0:\")\n",
    "state.find(\"s2\").delta_visited"
   ]
  },
  {
   "cell_type": "code",
   "execution_count": null,
   "metadata": {
    "collapsed": true
   },
   "outputs": [],
   "source": [
    "# S2 - Backward (Related) - Encontrados na iteração 1, via snowballing, que não foi encontrado via busca para o seed set.\n",
    "print(\"Relacionados encontrados via Backward, para chegar ao Estado 2, a partir do Estado 0:\")\n",
    "state.find(\"s2\").delta_related @ metakey_title"
   ]
  },
  {
   "cell_type": "markdown",
   "metadata": {},
   "source": [
    "#### Aresta s0 -> s1 (Forward - Iteração 1)"
   ]
  },
  {
   "cell_type": "code",
   "execution_count": null,
   "metadata": {
    "collapsed": true
   },
   "outputs": [],
   "source": [
    "# S1 - Forward (Related) - Encontrados na iteração 1\n",
    "print(\"Relacionados encontrados via Forward, para chegar ao Estado 1, a partir do Estado 0:\")\n",
    "state.find(\"s1\").delta_related @ metakey_title"
   ]
  },
  {
   "cell_type": "markdown",
   "metadata": {},
   "source": [
    "#### Relacionados - Encontrados Via Backward e Forward"
   ]
  },
  {
   "cell_type": "code",
   "execution_count": null,
   "metadata": {
    "collapsed": true
   },
   "outputs": [],
   "source": [
    "state"
   ]
  },
  {
   "cell_type": "code",
   "execution_count": null,
   "metadata": {
    "collapsed": true
   },
   "outputs": [],
   "source": [
    "# Quantidade de artigo que existe em mais de uma biblioteca, após a união, no Estado S0, Ex, existe 1 artigo em acm e scopus.\n",
    "state.find(\"s0\").previous[0][1]\n",
    "\n",
    "(len(strategy.initial.find(\"acm\").visited) + len(strategy.initial.find(\"scopus\").visited) + len(strategy.initial.find(\"elcompendex\").visited) + len(strategy.initial.find(\"springer\").visited) + len(strategy.initial.find(\"webofscience\").visited) + len(strategy.initial.find(\"sciencedirect\").visited)) - len(state.find(\"s0\").visited)"
   ]
  },
  {
   "cell_type": "code",
   "execution_count": null,
   "metadata": {
    "collapsed": true
   },
   "outputs": [],
   "source": [
    "# Artigos encontrados via Backward e Forward - Foi incluído kitchenham 2007a como Snowball para o teste.\n",
    "print (\"Encontrados via Backward e Forward:\")\n",
    "separa_backward_forward(state) @ metakey_title"
   ]
  },
  {
   "cell_type": "code",
   "execution_count": null,
   "metadata": {
    "collapsed": true
   },
   "outputs": [],
   "source": []
  },
  {
   "cell_type": "code",
   "execution_count": null,
   "metadata": {
    "collapsed": true
   },
   "outputs": [],
   "source": [
    "def duplicados(strategy, state):\n",
    "    encontrados = set()\n",
    "    result = set()\n",
    "    soma = 0\n",
    "    related = state.related - state.find(\"s0\").related\n",
    "    for work in state.related:\n",
    "        inter = encontrados & (set(strategy.ref[work]) & related)\n",
    "        if inter:\n",
    "            soma += len(inter)\n",
    "            encontrados |= inter\n",
    "            print(work @ metakey, \"backward\", inter @ metakey)\n",
    "        inter = encontrados & (set(strategy.rev_ref[work]) & related)\n",
    "        if inter:\n",
    "            soma += len(inter)\n",
    "            encontrados |= inter\n",
    "            print(work @ metakey, \"forward\", inter @ metakey)\n",
    "    return soma"
   ]
  },
  {
   "cell_type": "code",
   "execution_count": null,
   "metadata": {
    "collapsed": true
   },
   "outputs": [],
   "source": [
    "strategy.forward??"
   ]
  },
  {
   "cell_type": "code",
   "execution_count": null,
   "metadata": {
    "collapsed": true
   },
   "outputs": [],
   "source": [
    "duplicados(strategy, state)"
   ]
  },
  {
   "cell_type": "code",
   "execution_count": null,
   "metadata": {
    "collapsed": true
   },
   "outputs": [],
   "source": [
    "sets = separa_backward_forward(state)\n",
    "sets = encontraria(strategy, state)\n",
    "v = venn2(sets, set_labels = ('Backward', 'Forward'))\n",
    "c = venn2_circles(sets)\n",
    "plt.title('Diagrama de Venn')\n",
    "plt.show()"
   ]
  },
  {
   "cell_type": "code",
   "execution_count": null,
   "metadata": {
    "collapsed": true
   },
   "outputs": [],
   "source": [
    "#Backward - Execução de backward em sets[0]\n",
    "print(\"Backward\", sets[0] @ metakey)\n",
    "print(\"Forward\", sets[1] @ metakey)"
   ]
  },
  {
   "cell_type": "code",
   "execution_count": null,
   "metadata": {
    "collapsed": true
   },
   "outputs": [],
   "source": [
    "state.find(\"s0\").related @ metakey"
   ]
  },
  {
   "cell_type": "code",
   "execution_count": null,
   "metadata": {
    "collapsed": true
   },
   "outputs": [],
   "source": [
    "#x = v.get_patch_by_id('100')"
   ]
  },
  {
   "cell_type": "code",
   "execution_count": null,
   "metadata": {
    "collapsed": true
   },
   "outputs": [],
   "source": [
    "#x.set_linestyle = \"black\""
   ]
  },
  {
   "cell_type": "code",
   "execution_count": null,
   "metadata": {
    "collapsed": true
   },
   "outputs": [],
   "source": [
    "#[x.metakey for x in state.find(\"s0\").related]"
   ]
  },
  {
   "cell_type": "markdown",
   "metadata": {},
   "source": [
    "#### Execução de Backward (Aresta S0 -> S2) em cada artigo relacionado do S0"
   ]
  },
  {
   "cell_type": "code",
   "execution_count": null,
   "metadata": {
    "collapsed": true
   },
   "outputs": [],
   "source": [
    "print(\"Descreve o S0 -> S2:\\n Execução de Backward em cada artigo do related \\n\")\n",
    "descreve_delta(strategy, state, \"s2\")"
   ]
  },
  {
   "cell_type": "markdown",
   "metadata": {},
   "source": [
    "#### Execução de Forward em cada artigo relacionado do S1"
   ]
  },
  {
   "cell_type": "code",
   "execution_count": null,
   "metadata": {
    "collapsed": true
   },
   "outputs": [],
   "source": [
    "print(\"Descreve o S0 -> S1:\\n Execução de Forward em cada artigo do related \\n\")\n",
    "descreve_delta(strategy, state, \"s1\")"
   ]
  },
  {
   "cell_type": "markdown",
   "metadata": {},
   "source": [
    "#### Resumo do Precision e Recall"
   ]
  },
  {
   "cell_type": "code",
   "execution_count": null,
   "metadata": {
    "collapsed": true
   },
   "outputs": [],
   "source": [
    "E2P = len (strategy.initial.related) / len (strategy.initial.visited)\n",
    "#print (len (strategy.initial.related))\n",
    "#print (len (strategy.initial.visited))\n",
    "#print (E2P)\n",
    "print (\"Precision na Busca E2: %.2f%%\" % E2P)\n",
    "\n",
    "#print (\"Precision no Snowballing - E2:\")\n",
    "#print(len(state.related - state.find(\"s0\").related))\n",
    "#print(len(state.visited - state.find(\"s0\").visited))\n",
    "\n",
    "E2PS = len(state.related - state.find(\"s0\").related) / len(state.visited - state.find(\"s0\").visited)\n",
    "\n",
    "print (\"\\n\"\"Precision no Snowballing E2: %.2f%%\" % E2PS)\n",
    "\n",
    "print(\"Precision no Snowballing E2 - Forward - 1 iteração: %.2f%%\" % (len (state.find(\"s1\").delta_related) / len (state.find(\"s1\").delta_visited)))\n",
    "\n",
    "print(\"Precision no Snowballing E2 - Backward - 1 iteração: %.2f%%\" % (len (state.find(\"s2\").delta_related) / len (state.find(\"s2\").delta_visited)))\n",
    "\n",
    "print(\"\\n\"\"Precision E2 (Busca + Snowballing): %.2f%%\" % (len(state.related) / len(state.visited)))\n",
    "\n",
    "#len (state.find(\"s1\").related)\n",
    "\n",
    "#len (state.find(\"s1\").delta_related)\n",
    "#len (state.find(\"s1\").delta_visited)\n",
    "\n",
    "\n",
    "name = \"E2\"\n",
    "print (\"Precision \" + name)\n",
    "EP = len (state.related) / len (state.visited)\n",
    "print (EP)\n",
    "print (\"Recall \" + name)\n",
    "ER = len (state.related) / len (TOTAL)\n",
    "print (ER)\n",
    "print (\"F-measure \" + name)\n",
    "FS = 2*((EP*ER)/(EP+ER))\n",
    "print (FS)\n",
    "\n",
    "array.append((name, EP, ER, FS))\n"
   ]
  },
  {
   "cell_type": "code",
   "execution_count": null,
   "metadata": {
    "collapsed": true
   },
   "outputs": [],
   "source": [
    "import statistics as s\n",
    "s.harmonic_mean([])"
   ]
  },
  {
   "cell_type": "code",
   "execution_count": null,
   "metadata": {
    "collapsed": true
   },
   "outputs": [],
   "source": [
    "import statistics as s\n",
    "from collections import deque\n",
    "def precision_recall(state, total, stop=\"\"):\n",
    "    # Precisao 0 quando nao visita nada\n",
    "    array = [[\n",
    "        \"state\", \"precision\", \"recall\", \"fmeasure\", \"operation\", \n",
    "        \"related\", \"visited\", \"delta_related\", \"delta_visited\",\n",
    "        \"accumulated_precision\", \"accumulated_recall\", \"accumulated_fmeasure\"\n",
    "    ]]\n",
    "    stack = deque([state])\n",
    "    visited = {id(state)}\n",
    "    while stack:\n",
    "        current = stack.pop()\n",
    "        accumulated_recall = len(current.related) / len(total)\n",
    "        recall = len(current.delta_related) / len(total)\n",
    "        try:\n",
    "            accumulated_precision = len(current.related) / len(current.visited)\n",
    "            precision = len(current.delta_related) / len(current.delta_visited)\n",
    "        except ZeroDivisionError:\n",
    "            precision = float('nan')\n",
    "        try:\n",
    "            accumulated_fmeasure = s.harmonic_mean([accumulated_precision, accumulated_recall])\n",
    "            fmeasure = s.harmonic_mean([precision, recall])\n",
    "        except ZeroDivisionError:\n",
    "            fmeasure = float('nan')\n",
    "            \n",
    "            \n",
    "        array.append([\n",
    "            current.name,\n",
    "            precision,\n",
    "            recall,\n",
    "            fmeasure,\n",
    "            current.previous[1] if current.previous else \"-\",\n",
    "            len(current.related),\n",
    "            len(current.visited),\n",
    "            len(current.delta_related),\n",
    "            len(current.delta_visited),\n",
    "            accumulated_precision,\n",
    "            accumulated_recall,\n",
    "            accumulated_fmeasure,\n",
    "        ])\n",
    "        if current.name == stop:\n",
    "            break\n",
    "        if current.previous:              \n",
    "            antecessors = current.previous[0]\n",
    "            for previous in antecessors:\n",
    "                if id(previous) not in visited:\n",
    "                    visited.add(id(previous))\n",
    "                    stack.appendleft(previous)\n",
    "    return array"
   ]
  },
  {
   "cell_type": "code",
   "execution_count": null,
   "metadata": {
    "collapsed": true
   },
   "outputs": [],
   "source": [
    "df = pd.DataFrame(list(reversed(precision_recall(state, TOTAL))))\n",
    "df.columns = df.iloc[-1]\n",
    "df = df.drop(df.index[-1])\n",
    "df"
   ]
  },
  {
   "cell_type": "code",
   "execution_count": null,
   "metadata": {
    "collapsed": true
   },
   "outputs": [],
   "source": [
    "df[\"state\"]  + \"\\n\" + df[\"operation\"]"
   ]
  },
  {
   "cell_type": "code",
   "execution_count": null,
   "metadata": {
    "collapsed": true
   },
   "outputs": [],
   "source": [
    "fig = plt.figure()\n",
    "df['precision'].plot(legend=True)\n",
    "df['recall'].plot(legend=True)\n",
    "df['fmeasure'].plot(legend=True)\n",
    "ax = plt.gca()\n",
    "ax.set_xticklabels(df[\"state\"] + \"\\n\" + df[\"operation\"])\n",
    "ax.set_title(\"By State\");\n",
    "plt.xticks(np.arange(0, len(df), 1.0), rotation='vertical')\n",
    "plt.xlabel(\"State\\nOperation\")\n",
    "plt.tight_layout()"
   ]
  },
  {
   "cell_type": "code",
   "execution_count": null,
   "metadata": {
    "collapsed": true
   },
   "outputs": [],
   "source": []
  },
  {
   "cell_type": "code",
   "execution_count": null,
   "metadata": {
    "collapsed": true
   },
   "outputs": [],
   "source": [
    "fig = plt.figure()\n",
    "df['accumulated_precision'].plot(legend=True)\n",
    "df['accumulated_recall'].plot(legend=True)\n",
    "df['accumulated_fmeasure'].plot(legend=True)\n",
    "ax = plt.gca()\n",
    "ax.set_xticklabels(df[\"state\"] + \"\\n\" + df[\"operation\"])\n",
    "plt.xticks(np.arange(0, len(df), 1.0), rotation='vertical')\n",
    "plt.xlabel(\"State\\nOperation\")\n",
    "ax.set_title(\"Accumulated\");\n",
    "plt.tight_layout()"
   ]
  },
  {
   "cell_type": "markdown",
   "metadata": {},
   "source": [
    "## Estratégia 3 - Busca Informal (Google Scholar) + Snowballing (Guideline - sfbu)"
   ]
  },
  {
   "cell_type": "code",
   "execution_count": null,
   "metadata": {
    "collapsed": true
   },
   "outputs": [],
   "source": [
    "reload()\n",
    "filter_function = lambda x: x.category in (\"snowball\", \"forward\", \"backward\")\n",
    "\n",
    "strategy = Strategy(*busca(\"gs\", filter_function=filter_function))\n",
    "state = strategy.sfbu()\n",
    "state"
   ]
  },
  {
   "cell_type": "code",
   "execution_count": null,
   "metadata": {
    "collapsed": true
   },
   "outputs": [],
   "source": [
    "name = \"E3\"\n",
    "print (\"Precision \" + name)\n",
    "EP = len (state.related) / len (state.visited)\n",
    "print (EP)\n",
    "print (\"Recall \" + name)\n",
    "ER = len (state.related) / len (TOTAL)\n",
    "print (ER)\n",
    "\n",
    "print (\"F-measure \" + name)\n",
    "FS = 2*((EP*ER)/(EP+ER))\n",
    "print (FS)\n",
    "\n",
    "array.append((name, EP, ER, FS))"
   ]
  },
  {
   "cell_type": "markdown",
   "metadata": {},
   "source": [
    "\n",
    "## Estratégia 4 - Busca em Scopus + Snowballing (Guideline - sfbu)"
   ]
  },
  {
   "cell_type": "code",
   "execution_count": null,
   "metadata": {
    "collapsed": true
   },
   "outputs": [],
   "source": [
    "reload()\n",
    "filter_function = lambda x: x.category in (\"snowball\", \"forward\", \"backward\")\n",
    "\n",
    "strategy = Strategy(*busca(\"scopus\", filter_function=filter_function))\n",
    "\n",
    "#from copy import copy\n",
    "#strategy.initial.visited = copy(strategy.initial.related)\n",
    "state = strategy.sfbu()\n",
    "state"
   ]
  },
  {
   "cell_type": "code",
   "execution_count": null,
   "metadata": {
    "collapsed": true,
    "scrolled": false
   },
   "outputs": [],
   "source": [
    "descreve_delta(strategy, state, \"s2\")\n"
   ]
  },
  {
   "cell_type": "code",
   "execution_count": null,
   "metadata": {
    "collapsed": true
   },
   "outputs": [],
   "source": [
    "texto = \"\"\"backward becker2008a\n",
    "- weber2005a \n",
    "- hierholzer1998a \n",
    "- debou1999a \n",
    "- liu2005a \n",
    "- yamamura1999a \n",
    "- cox1992a \n",
    "- grady1997a \n",
    "- biró1999a \n",
    "- mccoy1998a \n",
    "- dyba2005a \n",
    "- humphrey1989b \n",
    "- paulk1993a \n",
    "- chrissis2003a \n",
    "- zaijun2005a \n",
    "- peterson1995a \n",
    "- brodman1995a \n",
    "- akao1990a \n",
    "- pitterman2000a \n",
    "- pulford1996a \n",
    "- montoni2007a \n",
    "- yin2003a \n",
    "- isoiec2003a \n",
    "- zahran1998a \n",
    "- niazi2003a \n",
    "backward martins2008a\n",
    "- arthur1993a \n",
    "- isoiec1998a \n",
    "- salo2005a \n",
    "- krasner1997a \n",
    "- kuvaja1994a \n",
    "- cmm2002a \n",
    "- isoiec1998c \n",
    "- isoiec1998b \n",
    "- emam1999a \n",
    "- pfleeger1994a \n",
    "- solingen1999a \n",
    "- paulk1993a \n",
    "- vertage1994a \n",
    "- martins2007b \n",
    "backward reiblein1997a\n",
    "- kaplan1993a \n",
    "- miller1995a \n",
    "- trade1992a \n",
    "- hinley1997a \n",
    "- vlasveld1995a \n",
    "- deming1986a \n",
    "- group1997a \n",
    "- iso1994b \n",
    "- itil1989a \n",
    "- iso1994a \n",
    "- cmm1993a \n",
    "- humphrey1989a \n",
    "- isoies1997a \n",
    "- kaplan1996b \n",
    "backward albuquerque2009a\n",
    "- birk2002a \n",
    "- stalhane2004a \n",
    "- prahalad1999a \n",
    "- softex2009a \n",
    "- boehm2000b \n",
    "- cmusei2006a \n",
    "- nollen2008a \n",
    "- salo2005b \n",
    "- wright2000a \n",
    "- isoiec2004a \n",
    "- lawrence2001a \n",
    "- reed2000a \n",
    "- cater2004a \n",
    "- dybå2003b \n",
    "- birk1998a \n",
    "- bardin1977a \n",
    "- hefner2001a \n",
    "- thompson2000a \n",
    "- kim1995a \n",
    "- isoiec2004b \n",
    "- alloui2000a \n",
    "- caivano2005a \n",
    "- mcnair1990a \n",
    "- kaplan2000a \n",
    "- adams1993a \n",
    "- komi2004a \n",
    "- martins2007b \n",
    "backward kaneko2011a\n",
    "- kathuria2007a \n",
    "- isaca2005a \n",
    "- kaplan1992a \n",
    "- basili2009a \n",
    "- basili2007b \n",
    "- becker1999a \n",
    "- isaca2008a \n",
    "- ogc2002a \n",
    "- basili1992a \n",
    "- jaxa2012a \n",
    "- kowalczyk2010a \n",
    "backward guzmán2010a\n",
    "- ebert2007a \n",
    "- mcgarry2002a \n",
    "- goethert2004a \n",
    "- kaplan2008a \n",
    "- chastek2009a \n",
    "- tuan2006a \n",
    "- basili2009b \n",
    "- el2007a \n",
    "- sei2006b \n",
    "- kojima2008a \n",
    "- mishra2008a \n",
    "- long2008a \n",
    "- watson2007a \n",
    "- kanji2007a \n",
    "- oliveira2009a \n",
    "- porter1979a \n",
    "- lamb1984a \n",
    "- isoiec2007a \n",
    "- asgarkhani2006a \n",
    "- harjumaa2008a \n",
    "- mcloone2007a \n",
    "- mehra2004a \n",
    "- kamel2009a \n",
    "- card2003a \n",
    "- neergaard2007a \n",
    "- basili2010a related\n",
    "- kaplan2005a \n",
    "- gopal2005a \n",
    "- peng2007a \n",
    "- kahraman2007a \n",
    "- isoiec2004a \n",
    "- fahey2007a \n",
    "- kaplan2006a \n",
    "- trienekens2009a related\n",
    "- dyba2005a \n",
    "- shull2006a \n",
    "- el2001a \n",
    "- qi2007a \n",
    "- issac2006a \n",
    "- isoiec2008a \n",
    "- kaplan1997a \n",
    "- kuppusamy2008a \n",
    "- capell2004a \n",
    "- goethert2003a \n",
    "backward wilkie2007a\n",
    "- iso2006a \n",
    "- anacleto2004b \n",
    "- wilkie2005a \n",
    "- mcfeeley1996a \n",
    "- anacleto2004a \n",
    "- makinen2000a \n",
    "- caffery2004a \n",
    "- sei2004a \n",
    "- wilkie2004a \n",
    "- cspt2003a \n",
    "- institute2005a \n",
    "- chrissis2003a \n",
    "- ISOIEC2006a \n",
    "- caffery2005a \n",
    "- mcfall2003a \n",
    "- sei2005a \n",
    "- paulk1995a \n",
    "- cignoni1999a \n",
    "- team2007a \n",
    "- rout2001a \n",
    "backward plösch2011a\n",
    "- shewhart1931a \n",
    "- isoiec2003b \n",
    "- simon2002a \n",
    "- venzin2003a \n",
    "- cmmi2006a \n",
    "- mcfeeley1996a \n",
    "- isoiec1998d \n",
    "- dion1993a\"\"\""
   ]
  },
  {
   "cell_type": "code",
   "execution_count": null,
   "metadata": {
    "collapsed": true
   },
   "outputs": [],
   "source": [
    "conjuntos = [set(x.split(\"-\")[1:]) for x in texto.split(\"backward\")[1:]]"
   ]
  },
  {
   "cell_type": "code",
   "execution_count": null,
   "metadata": {
    "collapsed": true
   },
   "outputs": [],
   "source": [
    "conjuntos[0] & conjuntos[1]"
   ]
  },
  {
   "cell_type": "code",
   "execution_count": null,
   "metadata": {
    "collapsed": true
   },
   "outputs": [],
   "source": [
    "name = \"E4\"\n",
    "print (\"Precision \" + name)\n",
    "EP = len (state.related) / len (state.visited)\n",
    "print (EP)\n",
    "print (\"Recall \" + name)\n",
    "ER = len (state.related) / len (TOTAL)\n",
    "print (ER)\n",
    "\n",
    "print (\"F-measure \" + name)\n",
    "FS = 2*((EP*ER)/(EP+ER))\n",
    "print (FS)\n",
    "\n",
    "array.append((name, EP, ER, FS))"
   ]
  },
  {
   "cell_type": "code",
   "execution_count": null,
   "metadata": {
    "collapsed": true
   },
   "outputs": [],
   "source": [
    "state.find(\"s0\").related"
   ]
  },
  {
   "cell_type": "code",
   "execution_count": null,
   "metadata": {
    "collapsed": true
   },
   "outputs": [],
   "source": [
    "state.find(\"s2\").related"
   ]
  },
  {
   "cell_type": "code",
   "execution_count": null,
   "metadata": {
    "collapsed": true
   },
   "outputs": [],
   "source": [
    "state.find(\"s0\").visited"
   ]
  },
  {
   "cell_type": "code",
   "execution_count": null,
   "metadata": {
    "collapsed": true
   },
   "outputs": [],
   "source": [
    "# Com backward de mendes2004a é possível encontrar 2 (resultado da celula)\n",
    "state.related & set(strategy.ref[work_by_varname(\"mendes2004a\")])"
   ]
  },
  {
   "cell_type": "code",
   "execution_count": null,
   "metadata": {
    "collapsed": true
   },
   "outputs": [],
   "source": [
    "# Com backward de ... em S2, encontrou 1 (resultado da celula)\n",
    "state.find(\"s2\").delta_related & set(strategy.ref[work_by_varname(\"mendes2004a\")])"
   ]
  },
  {
   "cell_type": "code",
   "execution_count": null,
   "metadata": {
    "collapsed": true
   },
   "outputs": [],
   "source": [
    "# Com forward de ... em S1, encontrou 1 (resultado da celula)\n",
    "state.find(\"s1\").delta_related & set(strategy.rev_ref[work_by_varname(\"mendes2004a\")])"
   ]
  },
  {
   "cell_type": "code",
   "execution_count": null,
   "metadata": {
    "collapsed": true
   },
   "outputs": [],
   "source": [
    "len(state.find(\"s1\").delta_visited)"
   ]
  },
  {
   "cell_type": "code",
   "execution_count": null,
   "metadata": {
    "collapsed": true
   },
   "outputs": [],
   "source": [
    "#len(state.find(\"s1\").delta_visited & set(strategy.rev_ref[work_by_varname(\"mendes2004a\")]))\n",
    "# forward\n",
    "len(set(strategy.rev_ref[work_by_varname(\"mendes2004a\")]))"
   ]
  },
  {
   "cell_type": "code",
   "execution_count": null,
   "metadata": {
    "collapsed": true
   },
   "outputs": [],
   "source": [
    "# backward\n",
    "len(set(strategy.ref[work_by_varname(\"mendes2004a\")]))"
   ]
  },
  {
   "cell_type": "code",
   "execution_count": null,
   "metadata": {
    "collapsed": true
   },
   "outputs": [],
   "source": [
    "search_state = strategy.initial\n",
    "search_state.related"
   ]
  },
  {
   "cell_type": "markdown",
   "metadata": {},
   "source": [
    "## Estratégia 5 - Busca em Scopus + Snowballing (Short Paper - s2ffbb2u)"
   ]
  },
  {
   "cell_type": "code",
   "execution_count": null,
   "metadata": {
    "collapsed": true
   },
   "outputs": [],
   "source": [
    "reload()\n",
    "filter_function = lambda x: x.category in (\"snowball\", \"forward\", \"backward\")\n",
    "\n",
    "strategy = Strategy(*busca(\"scopus\", filter_function=filter_function))\n",
    "state = strategy.s2bbff2u()\n",
    "state"
   ]
  },
  {
   "cell_type": "code",
   "execution_count": null,
   "metadata": {
    "collapsed": true
   },
   "outputs": [],
   "source": [
    "name = \"E5\"\n",
    "print (\"Precision \" + name)\n",
    "EP = len (state.related) / len (state.visited)\n",
    "print (EP)\n",
    "print (\"Recall \" + name)\n",
    "ER = len (state.related) / len (TOTAL)\n",
    "print (ER)\n",
    "\n",
    "print (\"F-measure \" + name)\n",
    "FS = 2*((EP*ER)/(EP+ER))\n",
    "print (FS)\n",
    "\n",
    "array.append((name, EP, ER, FS))"
   ]
  },
  {
   "cell_type": "code",
   "execution_count": null,
   "metadata": {
    "collapsed": true
   },
   "outputs": [],
   "source": [
    "state.find(\"s0\").related "
   ]
  },
  {
   "cell_type": "code",
   "execution_count": null,
   "metadata": {
    "collapsed": true
   },
   "outputs": [],
   "source": [
    "state.find(\"s1\").related "
   ]
  },
  {
   "cell_type": "code",
   "execution_count": null,
   "metadata": {
    "collapsed": true
   },
   "outputs": [],
   "source": [
    "state.find(\"s3\").related "
   ]
  },
  {
   "cell_type": "code",
   "execution_count": null,
   "metadata": {
    "collapsed": true
   },
   "outputs": [],
   "source": [
    "sx, sy = state.previous[0]\n",
    "\n",
    "sx.related & sy.related\n"
   ]
  },
  {
   "cell_type": "code",
   "execution_count": null,
   "metadata": {
    "collapsed": true
   },
   "outputs": [],
   "source": [
    "sx.name"
   ]
  },
  {
   "cell_type": "code",
   "execution_count": null,
   "metadata": {
    "collapsed": true
   },
   "outputs": [],
   "source": [
    "sy.name"
   ]
  },
  {
   "cell_type": "code",
   "execution_count": null,
   "metadata": {
    "collapsed": true
   },
   "outputs": [],
   "source": [
    "# Artigos encontrados via Backward e Forward - Foi incluído kitchenham 2007a como Snowball para o teste.\n",
    "print (\"Encontrados via Backward e Forward:\")\n",
    "separa_backward_forward(state) @ metakey_title"
   ]
  },
  {
   "cell_type": "code",
   "execution_count": null,
   "metadata": {
    "collapsed": true
   },
   "outputs": [],
   "source": [
    "# S1 - Forward (Related) - Encontrados na iteração 1\n",
    "print(\"Relacionados encontrados via Forward, para chegar ao Estado 1, a partir do Estado 0:\")\n",
    "state.find(\"s1\").delta_related @ metakey_title"
   ]
  },
  {
   "cell_type": "markdown",
   "metadata": {},
   "source": [
    "## Estratégia 6 - Busca em Scopus + Snowballing (JF - bbff)"
   ]
  },
  {
   "cell_type": "code",
   "execution_count": null,
   "metadata": {
    "collapsed": true
   },
   "outputs": [],
   "source": [
    "reload()\n",
    "filter_function = lambda x: x.category in (\"snowball\", \"forward\", \"backward\")\n",
    "\n",
    "strategy = Strategy(*busca(\"scopus\", filter_function=filter_function))\n",
    "state = strategy.bbff()\n",
    "state"
   ]
  },
  {
   "cell_type": "code",
   "execution_count": null,
   "metadata": {
    "collapsed": true
   },
   "outputs": [],
   "source": [
    "strategy._repeat??"
   ]
  },
  {
   "cell_type": "code",
   "execution_count": null,
   "metadata": {
    "collapsed": true
   },
   "outputs": [],
   "source": [
    "name = \"E6\"\n",
    "print (\"Precision \" + name)\n",
    "EP = len (state.related) / len (state.visited)\n",
    "print (EP)\n",
    "print (\"Recall \" + name)\n",
    "ER = len (state.related) / len (TOTAL)\n",
    "print (ER)\n",
    "\n",
    "print (\"F-measure \" + name)\n",
    "FS = 2*((EP*ER)/(EP+ER))\n",
    "print (FS)\n",
    "\n",
    "array.append((name, EP, ER, FS))"
   ]
  },
  {
   "cell_type": "markdown",
   "metadata": {},
   "source": [
    "## Estratégia 7 - Busca em Scopus + Snowballing (JF - ffbb)"
   ]
  },
  {
   "cell_type": "code",
   "execution_count": null,
   "metadata": {
    "collapsed": true
   },
   "outputs": [],
   "source": [
    "reload()\n",
    "filter_function = lambda x: x.category in (\"snowball\", \"forward\", \"backward\")\n",
    "\n",
    "strategy = Strategy(*busca(\"scopus\", filter_function=filter_function))\n",
    "state = strategy.ffbb()\n",
    "state"
   ]
  },
  {
   "cell_type": "code",
   "execution_count": null,
   "metadata": {
    "collapsed": true
   },
   "outputs": [],
   "source": [
    "name = \"E7\"\n",
    "print (\"Precision \" + name)\n",
    "EP = len (state.related) / len (state.visited)\n",
    "print (EP)\n",
    "print (\"Recall \" + name)\n",
    "ER = len (state.related) / len (TOTAL)\n",
    "print (ER)\n",
    "\n",
    "print (\"F-measure \" + name)\n",
    "FS = 2*((EP*ER)/(EP+ER))\n",
    "print (FS)\n",
    "\n",
    "array.append((name, EP, ER, FS))"
   ]
  },
  {
   "cell_type": "markdown",
   "metadata": {},
   "source": [
    "# Análise das Estratégias"
   ]
  },
  {
   "cell_type": "code",
   "execution_count": null,
   "metadata": {
    "collapsed": true
   },
   "outputs": [],
   "source": [
    "%matplotlib notebook\n",
    "import pandas as pd"
   ]
  },
  {
   "cell_type": "code",
   "execution_count": null,
   "metadata": {
    "collapsed": true
   },
   "outputs": [],
   "source": [
    "df = pd.DataFrame (array,columns = ['Estratégia','Precision','Recall','F-Measure'])\n",
    "df.index = df['Estratégia']\n",
    "df"
   ]
  },
  {
   "cell_type": "code",
   "execution_count": null,
   "metadata": {
    "collapsed": true,
    "scrolled": false
   },
   "outputs": [],
   "source": [
    "import matplotlib.pyplot as plt\n",
    "ax = df.plot.bar(title =\"Precision e Recall das Estratégias\")\n",
    "plt.tight_layout()\n"
   ]
  },
  {
   "cell_type": "code",
   "execution_count": null,
   "metadata": {
    "collapsed": true
   },
   "outputs": [],
   "source": [
    "df"
   ]
  },
  {
   "cell_type": "code",
   "execution_count": null,
   "metadata": {
    "collapsed": true
   },
   "outputs": [],
   "source": [
    "#df.to_csv(\"estrategias.csv\")\n",
    "df.to_excel(\"estrategias.xlsx\")"
   ]
  },
  {
   "cell_type": "markdown",
   "metadata": {
    "collapsed": true
   },
   "source": [
    "# Individual"
   ]
  },
  {
   "cell_type": "code",
   "execution_count": null,
   "metadata": {
    "collapsed": true
   },
   "outputs": [],
   "source": [
    "reload()\n",
    "#NAME = \"guzmán2010a\"\n",
    "NAME = \"basili2010a\"\n",
    "filter_function = lambda x: x.category in (\"snowball\", \"forward\", \"backward\")\n",
    "seedset = {work_by_varname(NAME)}\n",
    "strategy = Strategy(seedset, filter_function)\n",
    "strategy.initial.name = NAME\n",
    "state = strategy.sfbu()\n",
    "state"
   ]
  },
  {
   "cell_type": "code",
   "execution_count": null,
   "metadata": {
    "collapsed": true
   },
   "outputs": [],
   "source": [
    "state.find(\"s1\").delta_visited @ metakey_title"
   ]
  },
  {
   "cell_type": "code",
   "execution_count": null,
   "metadata": {
    "collapsed": true
   },
   "outputs": [],
   "source": []
  },
  {
   "cell_type": "code",
   "execution_count": null,
   "metadata": {
    "collapsed": true
   },
   "outputs": [],
   "source": []
  },
  {
   "cell_type": "code",
   "execution_count": null,
   "metadata": {
    "collapsed": true
   },
   "outputs": [],
   "source": []
  },
  {
   "cell_type": "code",
   "execution_count": null,
   "metadata": {
    "collapsed": true
   },
   "outputs": [],
   "source": []
  },
  {
   "cell_type": "code",
   "execution_count": null,
   "metadata": {
    "collapsed": true
   },
   "outputs": [],
   "source": [
    "strategy.bfbf()"
   ]
  },
  {
   "cell_type": "code",
   "execution_count": null,
   "metadata": {
    "collapsed": true
   },
   "outputs": [],
   "source": []
  }
 ],
 "metadata": {
  "kernelspec": {
   "display_name": "Python 3",
   "language": "python",
   "name": "python3"
  },
  "language_info": {
   "codemirror_mode": {
    "name": "ipython",
    "version": 3
   },
   "file_extension": ".py",
   "mimetype": "text/x-python",
   "name": "python",
   "nbconvert_exporter": "python",
   "pygments_lexer": "ipython3",
   "version": "3.6.0"
  },
  "toc": {
   "nav_menu": {
    "height": "12px",
    "width": "252px"
   },
   "number_sections": true,
   "sideBar": false,
   "skip_h1_title": false,
   "toc_cell": false,
   "toc_position": {
    "height": "529px",
    "left": "560.984px",
    "right": "1442.5px",
    "top": "66.1094px",
    "width": "594px"
   },
   "toc_section_display": "none",
   "toc_window_display": true
  }
 },
 "nbformat": 4,
 "nbformat_minor": 2
}
