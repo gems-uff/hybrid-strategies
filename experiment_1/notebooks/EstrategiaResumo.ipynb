{
 "cells": [
  {
   "cell_type": "code",
   "execution_count": 31,
   "metadata": {
    "collapsed": true
   },
   "outputs": [],
   "source": [
    "%matplotlib notebook\n",
    "\n",
    "import os, sys\n",
    "sys.path.insert(1, os.path.join(sys.path[0], '..'))\n",
    "import database\n",
    "from snowballing.operations import reload, work_by_varname, load_work_map_all_years\n",
    "from snowballing.strategies import Strategy, State\n",
    "import custom_strategies\n",
    "from functools import reduce\n",
    "from matplotlib_venn import venn2, venn2_circles\n",
    "from matplotlib import pyplot as plt\n",
    "import pandas as pd\n",
    "\n",
    "custom_strategies.LIMIT_YEAR = 2015\n",
    "reload()\n",
    "# !pip install matplotlib-venn"
   ]
  },
  {
   "cell_type": "code",
   "execution_count": 32,
   "metadata": {
    "collapsed": true
   },
   "outputs": [],
   "source": [
    "from snowballing.operations import metakey, metakey_title\n",
    "\n",
    "def busca(*libraries, seed=None, filter_function=None):\n",
    "    filter_function = filter_function or (lambda x: x.category in (\"snowball\",))\n",
    "    if seed is not None:\n",
    "        iterable = ((1, work_by_varname(x)) for x in seed)\n",
    "    else:\n",
    "        iterable = load_work_map_all_years()\n",
    "    seedset = set()\n",
    "    visited = set()\n",
    "    for _, work in iterable:\n",
    "        for library in libraries:\n",
    "            if int(getattr(work, library, 0)):\n",
    "                visited.add(work)\n",
    "                if filter_function(work):\n",
    "                    seedset.add(work)\n",
    "                break\n",
    "    return seedset, filter_function, visited\n",
    "\n",
    "def descreve_delta(strategy, state, name):\n",
    "    target = state.find(name)\n",
    "    previous_related = reduce(lambda x, y: x | y, (s.related for s in target.previous[0]), set())\n",
    "    for work in previous_related:\n",
    "        backward = set(strategy.ref[work]) & target.delta_visited\n",
    "        if backward:\n",
    "            print('backward', work.metakey)\n",
    "            for ref in backward:\n",
    "                print('-', ref.metakey, 'related' if ref in target.delta_related else '')\n",
    "        forward = set(strategy.rev_ref[work]) & target.delta_visited\n",
    "        if forward:\n",
    "            print('forward', work.metakey)\n",
    "            for ref in forward:\n",
    "                print('-', ref.metakey, 'related' if ref in target.delta_related else '')\n",
    "\n",
    "def separa_backward_forward(state):\n",
    "    backward = set()\n",
    "    forward = set()\n",
    "    stack = [state]\n",
    "    visited = {id(state)}\n",
    "    while stack:\n",
    "        current = stack.pop()\n",
    "        if current.previous:\n",
    "            if current.previous[1] == \"backward\":\n",
    "                backward |= current.delta_related\n",
    "            if current.previous[1] == \"forward\":\n",
    "                forward |= current.delta_related\n",
    "                \n",
    "            antecessors = current.previous[0]\n",
    "            for previous in antecessors:\n",
    "                if id(previous) not in visited:\n",
    "                    visited.add(id(previous))\n",
    "                    stack.append(previous)\n",
    "    return backward, forward\n",
    "\n",
    "def encontraria(strategy, state):\n",
    "    backward = set()\n",
    "    forward = set()\n",
    "    related = state.related - state.find(\"s0\").related\n",
    "    for work in state.related:\n",
    "        backward |= (set(strategy.ref[work]) & related)\n",
    "        forward |= (set(strategy.rev_ref[work]) & related)\n",
    "    return backward, forward\n",
    "\n",
    "#busca(\"scopus\", seed=[\"wohlin2014a\", \"briand2000a\"], filter_function=lambda x: True)\n",
    "#busca(\"scopus\", filter_function=lambda x: False)"
   ]
  },
  {
   "cell_type": "markdown",
   "metadata": {},
   "source": [
    "# Estratégias"
   ]
  },
  {
   "cell_type": "markdown",
   "metadata": {},
   "source": [
    "## Estratégia 1 - Busca em todas Digital Libraries (DL)"
   ]
  },
  {
   "cell_type": "code",
   "execution_count": 33,
   "metadata": {},
   "outputs": [
    {
     "name": "stdout",
     "output_type": "stream",
     "text": [
      "Total de estudos primários usados como Seed Set:  51\n"
     ]
    }
   ],
   "source": [
    "print (\"Total de estudos primários usados como Seed Set: \", len ({x for _, x in load_work_map_all_years() if x.category == \"snowball\"}))\n"
   ]
  },
  {
   "cell_type": "code",
   "execution_count": 34,
   "metadata": {},
   "outputs": [
    {
     "name": "stdout",
     "output_type": "stream",
     "text": [
      "Lista de estudos primários usados como Seed Set:\n"
     ]
    },
    {
     "data": {
      "text/plain": [
       "{Business-oriented process improvement: practices and experiences at Thales Naval The Netherlands (TNNL),\n",
       " A business goal-based approach to achieving systems engineering capability maturity,\n",
       " A framework for systematic evaluation of process improvement priorities,\n",
       " ProPAMet: a Metric for process and project alignment,\n",
       " The effects of gqm+ strategies on organizational alignment,\n",
       " Application of GQM+ Strategies{\textregistered} in the Japanese space industry,\n",
       " Application of GQM+ Strategies in a small software development unit,\n",
       " Business-oriented software process improvement based on CMMI using QFD,\n",
       " Applying and adjusting a software process improvement model in practice: the use of the IDEAL model in a small software enterprise,\n",
       " A Low-overhead method for software process appraisal,\n",
       " The Rosetta Stone Methodology - A benefits-driven approach to software process improvement,\n",
       " Integration of strategic management, process improvement and quantitative measurement for managing the competitiveness of software engineering organizations,\n",
       " Software process improvement: Supporting the linking of the software and the business strategies,\n",
       " Aligning software-related strategies in multi-organizational settings,\n",
       " Utilizing GQM+ Strategies for business value analysis: An approach for evaluating business goals,\n",
       " An elicitation instrument for operationalising GQM+ Strategies (GQM+ S-EI),\n",
       " Bridging the gap between business strategy and software development,\n",
       " Aggregating viewpoints for strategic software process improvementa method and a case study,\n",
       " Blending CMM and Six Sigma to meet business goals,\n",
       " Utilizing GQM+ Strategies for an organization-wide earned value analysis,\n",
       " Linking software development and business strategy through measurement,\n",
       " Which Processes Are Needed in Five Years? Strategic Process Portfolio Management at the Japan Aerospace Exploration Agency (JAXA),\n",
       " Defining and monitoring strategically aligned software improvement goals,\n",
       " Business objectives as drivers for process improvement: Practices and experiences at Thales Naval the Netherlands (TNNL),\n",
       " Determining organization-specific process suitability,\n",
       " A goal-oriented approach for managing software process change,\n",
       " Strategically balanced process adoption,\n",
       " Exploring the use of the cynefin framework to inform software development approach decisions,\n",
       " A Cynefin based approach to process model tailoring and goal alignment,\n",
       " Entropy based software processes improvement,\n",
       " Managing process inconsistency using viewpoints,\n",
       " Linking software process improvement to business strategies: experiences from industry,\n",
       " A conceptual framework for SPI evaluation,\n",
       " Development and Evaluation of Systems Engineering Strategies: An Assessment-Based Approach,\n",
       " QFD application in software process management and improvement based on CMM,\n",
       " Better Software Practice for Business Benefit: Principles and Experiences,\n",
       " Business-oriented software process improvement based on CMM using QFD,\n",
       " SAS: A tool for the GQM+ strategies grid derivation process,\n",
       " Aligning Organizations Through Measurement,\n",
       " SPI:I can't get no satisfaction-directing process improvement to meet business needs,\n",
       " Experiences and insights from applying gqm+ strategies in a systems product development organisation,\n",
       " Interfacing three complementary technologies: strategic planning, process modeling, and system dynamics,\n",
       " Strategic alignment of software process improvement programs using QFD,\n",
       " GQM+Strategies - Aligning business strategies with software measurement,\n",
       " Measuring and improving software process in China,\n",
       " Software engineering strategies: aligning software process improvement with strategic goals,\n",
       " GQM+ Strategies: A comprehensive methodology for aligning business strategies with software measurement,\n",
       " Aligning software projects with business objectives,\n",
       " The Rosetta Stone Methodology - A benefits-driven approach to SPI,\n",
       " An approach to support the strategic alignment of software process improvement programs,\n",
       " ProPAM: SPI based on Process and Project Alignment}"
      ]
     },
     "execution_count": 34,
     "metadata": {},
     "output_type": "execute_result"
    }
   ],
   "source": [
    "print (\"Lista de estudos primários usados como Seed Set:\")\n",
    "({x for _, x in load_work_map_all_years() if x.category == \"snowball\"})"
   ]
  },
  {
   "cell_type": "code",
   "execution_count": 35,
   "metadata": {},
   "outputs": [
    {
     "name": "stdout",
     "output_type": "stream",
     "text": [
      "51\n"
     ]
    }
   ],
   "source": [
    "reload()\n",
    "TOTAL = {x for _, x in load_work_map_all_years() if (x.category == \"snowball\")}\n",
    "filter_function = lambda x: x.category in (\"snowball\", \"forward\", \"backward\")\n",
    "print (len (TOTAL))\n"
   ]
  },
  {
   "cell_type": "code",
   "execution_count": 36,
   "metadata": {},
   "outputs": [
    {
     "data": {
      "image/svg+xml": [
       "<?xml version=\"1.0\" encoding=\"UTF-8\" standalone=\"no\"?>\r\n",
       "<!DOCTYPE svg PUBLIC \"-//W3C//DTD SVG 1.1//EN\"\r\n",
       " \"http://www.w3.org/Graphics/SVG/1.1/DTD/svg11.dtd\">\r\n",
       "<!-- Generated by graphviz version 2.38.0 (20140413.2041)\r\n",
       " -->\r\n",
       "<!-- Title: G Pages: 1 -->\r\n",
       "<svg width=\"358pt\" height=\"641pt\"\r\n",
       " viewBox=\"0.00 0.00 357.84 640.95\" xmlns=\"http://www.w3.org/2000/svg\" xmlns:xlink=\"http://www.w3.org/1999/xlink\">\r\n",
       "<g id=\"graph0\" class=\"graph\" transform=\"scale(1 1) rotate(0) translate(4 636.953)\">\r\n",
       "<title>G</title>\r\n",
       "<polygon fill=\"white\" stroke=\"none\" points=\"-4,4 -4,-636.953 353.843,-636.953 353.843,4 -4,4\"/>\r\n",
       "<!-- s0 -->\r\n",
       "<g id=\"node1\" class=\"node\"><title>s0</title>\r\n",
       "<ellipse fill=\"none\" stroke=\"black\" cx=\"293.274\" cy=\"-316.477\" rx=\"56.6372\" ry=\"37.4533\"/>\r\n",
       "<text text-anchor=\"middle\" x=\"293.274\" y=\"-327.777\" font-family=\"Times New Roman,serif\" font-size=\"14.00\">s0</text>\r\n",
       "<text text-anchor=\"middle\" x=\"293.274\" y=\"-312.777\" font-family=\"Times New Roman,serif\" font-size=\"14.00\">visited: 497</text>\r\n",
       "<text text-anchor=\"middle\" x=\"293.274\" y=\"-297.777\" font-family=\"Times New Roman,serif\" font-size=\"14.00\">related: 22</text>\r\n",
       "</g>\r\n",
       "<!-- scopus2015 -->\r\n",
       "<g id=\"node2\" class=\"node\"><title>scopus2015</title>\r\n",
       "<ellipse fill=\"none\" stroke=\"black\" cx=\"84.8528\" cy=\"-595.477\" rx=\"59.2941\" ry=\"37.4533\"/>\r\n",
       "<text text-anchor=\"middle\" x=\"84.8528\" y=\"-606.777\" font-family=\"Times New Roman,serif\" font-size=\"14.00\">scopus2015</text>\r\n",
       "<text text-anchor=\"middle\" x=\"84.8528\" y=\"-591.777\" font-family=\"Times New Roman,serif\" font-size=\"14.00\">visited: 15</text>\r\n",
       "<text text-anchor=\"middle\" x=\"84.8528\" y=\"-576.777\" font-family=\"Times New Roman,serif\" font-size=\"14.00\">related: 7</text>\r\n",
       "</g>\r\n",
       "<!-- s0&#45;&gt;scopus2015 -->\r\n",
       "<g id=\"edge1\" class=\"edge\"><title>s0&#45;&gt;scopus2015</title>\r\n",
       "<path fill=\"none\" stroke=\"black\" d=\"M280.463,-353.115C262.979,-402.588 226.075,-491.145 169.706,-548.477 162.002,-556.312 152.714,-563.226 143.166,-569.174\"/>\r\n",
       "<polygon fill=\"black\" stroke=\"black\" points=\"141.199,-566.271 134.363,-574.364 144.754,-572.301 141.199,-566.271\"/>\r\n",
       "<text text-anchor=\"middle\" x=\"203.206\" y=\"-530.277\" font-family=\"Times New Roman,serif\" font-size=\"14.00\">union</text>\r\n",
       "</g>\r\n",
       "<!-- ieee2015 -->\r\n",
       "<g id=\"node3\" class=\"node\"><title>ieee2015</title>\r\n",
       "<ellipse fill=\"none\" stroke=\"black\" cx=\"84.8528\" cy=\"-502.477\" rx=\"51.7379\" ry=\"37.4533\"/>\r\n",
       "<text text-anchor=\"middle\" x=\"84.8528\" y=\"-513.777\" font-family=\"Times New Roman,serif\" font-size=\"14.00\">ieee2015</text>\r\n",
       "<text text-anchor=\"middle\" x=\"84.8528\" y=\"-498.777\" font-family=\"Times New Roman,serif\" font-size=\"14.00\">visited: 43</text>\r\n",
       "<text text-anchor=\"middle\" x=\"84.8528\" y=\"-483.777\" font-family=\"Times New Roman,serif\" font-size=\"14.00\">related: 6</text>\r\n",
       "</g>\r\n",
       "<!-- s0&#45;&gt;ieee2015 -->\r\n",
       "<g id=\"edge2\" class=\"edge\"><title>s0&#45;&gt;ieee2015</title>\r\n",
       "<path fill=\"none\" stroke=\"black\" d=\"M267.762,-350.263C244.774,-380.364 208.248,-424.34 169.706,-455.477 159.872,-463.421 148.516,-470.779 137.4,-477.202\"/>\r\n",
       "<polygon fill=\"black\" stroke=\"black\" points=\"135.585,-474.206 128.57,-482.146 139.005,-480.314 135.585,-474.206\"/>\r\n",
       "<text text-anchor=\"middle\" x=\"203.206\" y=\"-442.277\" font-family=\"Times New Roman,serif\" font-size=\"14.00\">union</text>\r\n",
       "</g>\r\n",
       "<!-- acm2015 -->\r\n",
       "<g id=\"node4\" class=\"node\"><title>acm2015</title>\r\n",
       "<ellipse fill=\"none\" stroke=\"black\" cx=\"84.8528\" cy=\"-409.477\" rx=\"56.6372\" ry=\"37.4533\"/>\r\n",
       "<text text-anchor=\"middle\" x=\"84.8528\" y=\"-420.777\" font-family=\"Times New Roman,serif\" font-size=\"14.00\">acm2015</text>\r\n",
       "<text text-anchor=\"middle\" x=\"84.8528\" y=\"-405.777\" font-family=\"Times New Roman,serif\" font-size=\"14.00\">visited: 100</text>\r\n",
       "<text text-anchor=\"middle\" x=\"84.8528\" y=\"-390.777\" font-family=\"Times New Roman,serif\" font-size=\"14.00\">related: 5</text>\r\n",
       "</g>\r\n",
       "<!-- s0&#45;&gt;acm2015 -->\r\n",
       "<g id=\"edge3\" class=\"edge\"><title>s0&#45;&gt;acm2015</title>\r\n",
       "<path fill=\"none\" stroke=\"black\" d=\"M245.949,-337.348C215.008,-351.288 174.146,-369.697 141.45,-384.428\"/>\r\n",
       "<polygon fill=\"black\" stroke=\"black\" points=\"139.703,-381.376 132.023,-388.675 142.578,-387.759 139.703,-381.376\"/>\r\n",
       "<text text-anchor=\"middle\" x=\"203.206\" y=\"-366.277\" font-family=\"Times New Roman,serif\" font-size=\"14.00\">union</text>\r\n",
       "</g>\r\n",
       "<!-- springer2015 -->\r\n",
       "<g id=\"node5\" class=\"node\"><title>springer2015</title>\r\n",
       "<ellipse fill=\"none\" stroke=\"black\" cx=\"84.8528\" cy=\"-316.477\" rx=\"62.8651\" ry=\"37.4533\"/>\r\n",
       "<text text-anchor=\"middle\" x=\"84.8528\" y=\"-327.777\" font-family=\"Times New Roman,serif\" font-size=\"14.00\">springer2015</text>\r\n",
       "<text text-anchor=\"middle\" x=\"84.8528\" y=\"-312.777\" font-family=\"Times New Roman,serif\" font-size=\"14.00\">visited: 141</text>\r\n",
       "<text text-anchor=\"middle\" x=\"84.8528\" y=\"-297.777\" font-family=\"Times New Roman,serif\" font-size=\"14.00\">related: 2</text>\r\n",
       "</g>\r\n",
       "<!-- s0&#45;&gt;springer2015 -->\r\n",
       "<g id=\"edge4\" class=\"edge\"><title>s0&#45;&gt;springer2015</title>\r\n",
       "<path fill=\"none\" stroke=\"black\" d=\"M236.685,-316.477C212.545,-316.477 183.952,-316.477 158.187,-316.477\"/>\r\n",
       "<polygon fill=\"black\" stroke=\"black\" points=\"158.093,-312.977 148.093,-316.477 158.093,-319.977 158.093,-312.977\"/>\r\n",
       "<text text-anchor=\"middle\" x=\"203.206\" y=\"-320.277\" font-family=\"Times New Roman,serif\" font-size=\"14.00\">union</text>\r\n",
       "</g>\r\n",
       "<!-- elcompendex2015 -->\r\n",
       "<g id=\"node6\" class=\"node\"><title>elcompendex2015</title>\r\n",
       "<ellipse fill=\"none\" stroke=\"black\" cx=\"84.8528\" cy=\"-223.477\" rx=\"83.3772\" ry=\"37.4533\"/>\r\n",
       "<text text-anchor=\"middle\" x=\"84.8528\" y=\"-234.777\" font-family=\"Times New Roman,serif\" font-size=\"14.00\">elcompendex2015</text>\r\n",
       "<text text-anchor=\"middle\" x=\"84.8528\" y=\"-219.777\" font-family=\"Times New Roman,serif\" font-size=\"14.00\">visited: 13</text>\r\n",
       "<text text-anchor=\"middle\" x=\"84.8528\" y=\"-204.777\" font-family=\"Times New Roman,serif\" font-size=\"14.00\">related: 5</text>\r\n",
       "</g>\r\n",
       "<!-- s0&#45;&gt;elcompendex2015 -->\r\n",
       "<g id=\"edge5\" class=\"edge\"><title>s0&#45;&gt;elcompendex2015</title>\r\n",
       "<path fill=\"none\" stroke=\"black\" d=\"M245.949,-295.606C218.803,-283.375 184.021,-267.705 153.817,-254.097\"/>\r\n",
       "<polygon fill=\"black\" stroke=\"black\" points=\"155.159,-250.863 144.604,-249.946 152.283,-257.245 155.159,-250.863\"/>\r\n",
       "<text text-anchor=\"middle\" x=\"203.206\" y=\"-284.277\" font-family=\"Times New Roman,serif\" font-size=\"14.00\">union</text>\r\n",
       "</g>\r\n",
       "<!-- webofscience2015 -->\r\n",
       "<g id=\"node7\" class=\"node\"><title>webofscience2015</title>\r\n",
       "<ellipse fill=\"none\" stroke=\"black\" cx=\"84.8528\" cy=\"-130.477\" rx=\"84.7059\" ry=\"37.4533\"/>\r\n",
       "<text text-anchor=\"middle\" x=\"84.8528\" y=\"-141.777\" font-family=\"Times New Roman,serif\" font-size=\"14.00\">webofscience2015</text>\r\n",
       "<text text-anchor=\"middle\" x=\"84.8528\" y=\"-126.777\" font-family=\"Times New Roman,serif\" font-size=\"14.00\">visited: 10</text>\r\n",
       "<text text-anchor=\"middle\" x=\"84.8528\" y=\"-111.777\" font-family=\"Times New Roman,serif\" font-size=\"14.00\">related: 5</text>\r\n",
       "</g>\r\n",
       "<!-- s0&#45;&gt;webofscience2015 -->\r\n",
       "<g id=\"edge6\" class=\"edge\"><title>s0&#45;&gt;webofscience2015</title>\r\n",
       "<path fill=\"none\" stroke=\"black\" d=\"M267.762,-282.69C244.774,-252.589 208.248,-208.613 169.706,-177.477 163.904,-172.79 157.573,-168.308 151.074,-164.101\"/>\r\n",
       "<polygon fill=\"black\" stroke=\"black\" points=\"152.481,-160.854 142.142,-158.542 148.782,-166.797 152.481,-160.854\"/>\r\n",
       "<text text-anchor=\"middle\" x=\"203.206\" y=\"-227.277\" font-family=\"Times New Roman,serif\" font-size=\"14.00\">union</text>\r\n",
       "</g>\r\n",
       "<!-- sciencedirect2015 -->\r\n",
       "<g id=\"node8\" class=\"node\"><title>sciencedirect2015</title>\r\n",
       "<ellipse fill=\"none\" stroke=\"black\" cx=\"84.8528\" cy=\"-37.4767\" rx=\"82.0488\" ry=\"37.4533\"/>\r\n",
       "<text text-anchor=\"middle\" x=\"84.8528\" y=\"-48.7767\" font-family=\"Times New Roman,serif\" font-size=\"14.00\">sciencedirect2015</text>\r\n",
       "<text text-anchor=\"middle\" x=\"84.8528\" y=\"-33.7767\" font-family=\"Times New Roman,serif\" font-size=\"14.00\">visited: 195</text>\r\n",
       "<text text-anchor=\"middle\" x=\"84.8528\" y=\"-18.7767\" font-family=\"Times New Roman,serif\" font-size=\"14.00\">related: 1</text>\r\n",
       "</g>\r\n",
       "<!-- s0&#45;&gt;sciencedirect2015 -->\r\n",
       "<g id=\"edge7\" class=\"edge\"><title>s0&#45;&gt;sciencedirect2015</title>\r\n",
       "<path fill=\"none\" stroke=\"black\" d=\"M280.463,-279.838C262.979,-230.365 226.075,-141.808 169.706,-84.4767 164.477,-79.1588 158.519,-74.2654 152.245,-69.8102\"/>\r\n",
       "<polygon fill=\"black\" stroke=\"black\" points=\"153.796,-66.6381 143.533,-64.008 149.916,-72.4642 153.796,-66.6381\"/>\r\n",
       "<text text-anchor=\"middle\" x=\"203.206\" y=\"-151.277\" font-family=\"Times New Roman,serif\" font-size=\"14.00\">union</text>\r\n",
       "</g>\r\n",
       "</g>\r\n",
       "</svg>\r\n"
      ],
      "text/plain": [
       "Step(name='start', new_references=195, new_related=1, total_visited=195, total_related=1, source='', target='sciencedirect2015')\n",
       "Step(name='start', new_references=10, new_related=5, total_visited=10, total_related=5, source='', target='webofscience2015')\n",
       "Step(name='start', new_references=13, new_related=5, total_visited=13, total_related=5, source='', target='elcompendex2015')\n",
       "Step(name='start', new_references=141, new_related=2, total_visited=141, total_related=2, source='', target='springer2015')\n",
       "Step(name='start', new_references=100, new_related=5, total_visited=100, total_related=5, source='', target='acm2015')\n",
       "Step(name='start', new_references=43, new_related=6, total_visited=43, total_related=6, source='', target='ieee2015')\n",
       "Step(name='start', new_references=15, new_related=7, total_visited=15, total_related=7, source='', target='scopus2015')\n",
       "Step(name='union', new_references=0, new_related=0, total_visited=497, total_related=22, source='scopus2015|ieee2015|acm2015|springer2015|elcompendex2015|webofscience2015|sciencedirect2015', target='s0')"
      ],
      "text/vnd.graphviz": [
       "digraph G {\n",
       "  rankdir=\"RL\";\n",
       "\n",
       "  s0 [label=\"s0\\nvisited: 497\\nrelated: 22\"];\n",
       "  s0 -> scopus2015 [label=\"union\"];\n",
       "  s0 -> ieee2015 [label=\"union\"];\n",
       "  s0 -> acm2015 [label=\"union\"];\n",
       "  s0 -> springer2015 [label=\"union\"];\n",
       "  s0 -> elcompendex2015 [label=\"union\"];\n",
       "  s0 -> webofscience2015 [label=\"union\"];\n",
       "  s0 -> sciencedirect2015 [label=\"union\"];\n",
       "\n",
       "  scopus2015 [label=\"scopus2015\\nvisited: 15\\nrelated: 7\"];\n",
       "\n",
       "  ieee2015 [label=\"ieee2015\\nvisited: 43\\nrelated: 6\"];\n",
       "\n",
       "  acm2015 [label=\"acm2015\\nvisited: 100\\nrelated: 5\"];\n",
       "\n",
       "  springer2015 [label=\"springer2015\\nvisited: 141\\nrelated: 2\"];\n",
       "\n",
       "  elcompendex2015 [label=\"elcompendex2015\\nvisited: 13\\nrelated: 5\"];\n",
       "\n",
       "  webofscience2015 [label=\"webofscience2015\\nvisited: 10\\nrelated: 5\"];\n",
       "\n",
       "  sciencedirect2015 [label=\"sciencedirect2015\\nvisited: 195\\nrelated: 1\"];\n",
       "\n",
       "}"
      ]
     },
     "metadata": {},
     "output_type": "display_data"
    }
   ],
   "source": [
    "from snowballing.strategies import State\n",
    "\n",
    "reload()\n",
    "def busca_completa(libs, filter_function):\n",
    "    union = None\n",
    "    for dl in libs:\n",
    "        strategy = Strategy(*busca(dl, filter_function=filter_function))\n",
    "        strategy.initial.name = dl\n",
    "        if union is None:\n",
    "            union = strategy.initial.derive(\"union\", name=\"s0\")\n",
    "        else:\n",
    "            union.visited.update(strategy.initial.visited)\n",
    "            union.related.update(strategy.initial.related)\n",
    "            union.previous[0].append(strategy.initial)\n",
    "\n",
    "    State.last_id = 0\n",
    "    strategy.initial = union\n",
    "    return strategy\n",
    "\n",
    "strategy = busca_completa([\"scopus2015\", \"ieee2015\", \"acm2015\", \"springer2015\", \"elcompendex2015\", \"webofscience2015\", \"sciencedirect2015\"], filter_function)\n",
    "#strategy.initial.find(\"acm\")\n",
    "strategy.initial\n",
    "\n"
   ]
  },
  {
   "cell_type": "code",
   "execution_count": 37,
   "metadata": {},
   "outputs": [
    {
     "name": "stdout",
     "output_type": "stream",
     "text": [
      "--- Estratégia 1 (E1) ---\n",
      "Precision: 4.4%\n",
      "Recall: 43.1%\n",
      "F-Measure: 8.0%\n"
     ]
    }
   ],
   "source": [
    "array = []\n",
    "\n",
    "print (\"--- Estratégia 1 (E1) ---\")\n",
    "name = \"E1\"\n",
    "EP = (len (strategy.initial.related) / len (strategy.initial.visited))*100\n",
    "print (\"Precision: \" + \"%.1f\" %EP +\"%\")\n",
    "ER = (len (strategy.initial.related) / len (TOTAL))*100\n",
    "print (\"Recall: \" + \"%.1f\" %ER +\"%\")\n",
    "FS = 2*((EP*ER)/(EP+ER))\n",
    "print (\"F-Measure: \" + \"%.1f\" %FS +\"%\")\n",
    "\n",
    "array.append((name, EP, ER, FS))"
   ]
  },
  {
   "cell_type": "markdown",
   "metadata": {},
   "source": [
    "## Estratégia 2 - Busca em todas Digital Libraries + Snowballing (Guideline - sfbu)"
   ]
  },
  {
   "cell_type": "code",
   "execution_count": null,
   "metadata": {},
   "outputs": [],
   "source": [
    "reload()\n",
    "filter_function = lambda x: x.category in (\"snowball\", \"forward\", \"backward\")\n",
    "\n",
    "strategy = busca_completa([\"acm\", \"scopus\", \"springer\", \"elcompendex\", \"webofscience\", \"sciencedirect\", \"ieee\"], filter_function)\n",
    "#Strategy(*busca(\"acm\",\"scopus\", filter_function=filter_function))\n",
    "\n",
    "state = strategy.sfbu()\n",
    "#state = strategy.bbff()\n",
    "#state = strategy.ffbb()\n",
    "#state = strategy.s2ffbb2u()\n",
    "\n",
    "state"
   ]
  },
  {
   "cell_type": "code",
   "execution_count": null,
   "metadata": {
    "collapsed": true
   },
   "outputs": [],
   "source": [
    "def duplicados(strategy, state):\n",
    "    encontrados = set()\n",
    "    result = set()\n",
    "    soma = 0\n",
    "    related = state.related - state.find(\"s0\").related\n",
    "    for work in state.related:\n",
    "        inter = encontrados & (set(strategy.ref[work]) & related)\n",
    "        if inter:\n",
    "            soma += len(inter)\n",
    "            encontrados |= inter\n",
    "            print(work @ metakey, \"backward\", inter @ metakey)\n",
    "        inter = encontrados & (set(strategy.rev_ref[work]) & related)\n",
    "        if inter:\n",
    "            soma += len(inter)\n",
    "            encontrados |= inter\n",
    "            print(work @ metakey, \"forward\", inter @ metakey)\n",
    "    return soma"
   ]
  },
  {
   "cell_type": "code",
   "execution_count": null,
   "metadata": {},
   "outputs": [],
   "source": [
    "sets = separa_backward_forward(state)\n",
    "sets = encontraria(strategy, state)\n",
    "v = venn2(sets, set_labels = ('Backward', 'Forward'))\n",
    "c = venn2_circles(sets)\n",
    "plt.title('Diagrama de Venn')\n",
    "plt.show()"
   ]
  },
  {
   "cell_type": "code",
   "execution_count": null,
   "metadata": {},
   "outputs": [],
   "source": [
    "#Backward - Execução de backward em sets[0]\n",
    "print(\"Backward\", sets[0] @ metakey)\n",
    "print(\"Forward\", sets[1] @ metakey)"
   ]
  },
  {
   "cell_type": "code",
   "execution_count": null,
   "metadata": {},
   "outputs": [],
   "source": [
    "strategy.initial is state.find(\"s0\")"
   ]
  },
  {
   "cell_type": "code",
   "execution_count": null,
   "metadata": {},
   "outputs": [],
   "source": [
    "E2P = (len (strategy.initial.related) / len (strategy.initial.visited))*100\n",
    "\n",
    "print (\"--Precision--\")\n",
    "print (\"Busca: %.1f%%\" % E2P)\n",
    "\n",
    "E2PS = (len(state.related - state.find(\"s0\").related) / len(state.visited - state.find(\"s0\").visited))*100\n",
    "\n",
    "print (\"Snowballing: %.2f%%\" % E2PS)\n",
    "\n",
    "print(\"- Forward - iteração 1: %.2f%%\" % ((len (state.find(\"s1\").delta_related) / len (state.find(\"s1\").delta_visited))*100))\n",
    "\n",
    "print(\"- Backward - iteração 1: %.2f%%\" % ((len (state.find(\"s2\").delta_related) / len (state.find(\"s2\").delta_visited))*100))\n",
    "\n",
    "print(\"Precision E2 (Busca + Snowballing): %.1f%%\" % ((len(state.related) / len(state.visited))*100))\n",
    "\n",
    "\n",
    "print (\"\\n--- Estratégia 2 (E2) ---\")\n",
    "name = \"E2\"\n",
    "EP = (len (state.related) / len (state.visited))*100\n",
    "print (\"Precision: \" + \"%.1f\" %EP +\"%\")\n",
    "ER = (len (state.related) / len (TOTAL))*100\n",
    "print (\"Recall: \" + \"%.1f\" %ER +\"%\")\n",
    "FS = 2*((EP*ER)/(EP+ER))\n",
    "print (\"F-Measure: \" + \"%.1f\" %FS +\"%\")\n",
    "\n",
    "array.append((name, EP, ER, FS))"
   ]
  },
  {
   "cell_type": "code",
   "execution_count": null,
   "metadata": {
    "collapsed": true
   },
   "outputs": [],
   "source": [
    "from collections import deque\n",
    "def precision_recall(state, total, stop=\"\"):\n",
    "    # Precisao 0 quando nao visita nada\n",
    "    array = [[\n",
    "        \"state\", \"precision\", \"recall\", \"operation\", \n",
    "        \"related\", \"visited\", \"delta_related\", \"delta_visited\",\n",
    "        \"accumulated_precision\", \"accumulated_recall\",\n",
    "    ]]\n",
    "    stack = deque([state])\n",
    "    visited = {id(state)}\n",
    "    while stack:\n",
    "        current = stack.pop()\n",
    "        try:\n",
    "            accumulated_precision = len(current.related) / len(current.visited)\n",
    "            precision = len(current.delta_related) / len(current.delta_visited)\n",
    "        except ZeroDivisionError:\n",
    "            precision = 0.0\n",
    "            \n",
    "        array.append([\n",
    "            current.name,\n",
    "            precision,\n",
    "            len(current.delta_related) / len(total),\n",
    "            current.previous[1] if current.previous else \"-\",\n",
    "            len(current.related),\n",
    "            len(current.visited),\n",
    "            len(current.delta_related),\n",
    "            len(current.delta_visited),\n",
    "            accumulated_precision,\n",
    "            len(current.related) / len(total),\n",
    "        ])\n",
    "        if current.name == stop:\n",
    "            break\n",
    "        if current.previous:              \n",
    "            antecessors = current.previous[0]\n",
    "            for previous in antecessors:\n",
    "                if id(previous) not in visited:\n",
    "                    visited.add(id(previous))\n",
    "                    stack.appendleft(previous)\n",
    "    return array"
   ]
  },
  {
   "cell_type": "code",
   "execution_count": null,
   "metadata": {},
   "outputs": [],
   "source": [
    "df = pd.DataFrame(list(reversed(precision_recall(state, TOTAL))))\n",
    "df.columns = df.iloc[-1]\n",
    "df = df.drop(df.index[-1])\n",
    "df"
   ]
  },
  {
   "cell_type": "code",
   "execution_count": null,
   "metadata": {},
   "outputs": [],
   "source": [
    "fig = plt.figure()\n",
    "df['precision'].plot(legend=True)\n",
    "df['recall'].plot(legend=True)\n",
    "ax = plt.gca()\n",
    "ax.set_xticklabels(df[\"state\"] + \"\\n\" + df[\"operation\"])\n",
    "ax.set_title(\"By State\");"
   ]
  },
  {
   "cell_type": "code",
   "execution_count": null,
   "metadata": {},
   "outputs": [],
   "source": [
    "fig = plt.figure()\n",
    "df['accumulated_precision'].plot(legend=True)\n",
    "df['accumulated_recall'].plot(legend=True)\n",
    "ax = plt.gca()\n",
    "ax.set_xticklabels(df[\"state\"] + \"\\n\" + df[\"operation\"])\n",
    "ax.set_title(\"Accumulated\");"
   ]
  },
  {
   "cell_type": "markdown",
   "metadata": {},
   "source": [
    "## Estratégia 3 - Busca Informal (Google Scholar) + Snowballing (Guideline - sfbu)"
   ]
  },
  {
   "cell_type": "code",
   "execution_count": null,
   "metadata": {},
   "outputs": [],
   "source": [
    "reload()\n",
    "filter_function = lambda x: x.category in (\"snowball\", \"forward\", \"backward\")\n",
    "\n",
    "strategy = Strategy(*busca(\"gs\", filter_function=filter_function))\n",
    "state = strategy.sfbu()\n",
    "state"
   ]
  },
  {
   "cell_type": "code",
   "execution_count": null,
   "metadata": {},
   "outputs": [],
   "source": [
    "print (\"--- Estratégia 3 (E3) ---\")\n",
    "name = \"E3\"\n",
    "EP = (len (state.related) / len (state.visited))*100\n",
    "print (\"Precision: \" + \"%.1f\" %EP +\"%\")\n",
    "ER = (len (state.related) / len (TOTAL))*100\n",
    "print (\"Recall: \" + \"%.1f\" %ER +\"%\")\n",
    "FS = 2*((EP*ER)/(EP+ER))\n",
    "print (\"F-Measure: \" + \"%.1f\" %FS +\"%\")\n",
    "\n",
    "array.append((name, EP, ER, FS))"
   ]
  },
  {
   "cell_type": "markdown",
   "metadata": {},
   "source": [
    "\n",
    "## Estratégia 4 - Busca em Scopus + Snowballing (Guideline - sfbu)"
   ]
  },
  {
   "cell_type": "code",
   "execution_count": null,
   "metadata": {},
   "outputs": [],
   "source": [
    "reload()\n",
    "filter_function = lambda x: x.category in (\"snowball\", \"forward\", \"backward\")\n",
    "\n",
    "strategy = Strategy(*busca(\"scopus\", filter_function=filter_function))\n",
    "\n",
    "#from copy import copy\n",
    "#strategy.initial.visited = copy(strategy.initial.related)\n",
    "state = strategy.sfbu()\n",
    "state"
   ]
  },
  {
   "cell_type": "code",
   "execution_count": null,
   "metadata": {},
   "outputs": [],
   "source": [
    "print (\"--- Estratégia 4 (E4) ---\")\n",
    "name = \"E4\"\n",
    "EP = (len (state.related) / len (state.visited))*100\n",
    "print (\"Precision: \" + \"%.1f\" %EP +\"%\")\n",
    "ER = (len (state.related) / len (TOTAL))*100\n",
    "print (\"Recall: \" + \"%.1f\" %ER +\"%\")\n",
    "FS = 2*((EP*ER)/(EP+ER))\n",
    "print (\"F-Measure: \" + \"%.1f\" %FS +\"%\")\n",
    "\n",
    "array.append((name, EP, ER, FS))"
   ]
  },
  {
   "cell_type": "markdown",
   "metadata": {},
   "source": [
    "## Estratégia 5 - Busca em Scopus + Snowballing (Short Paper - s2ffbb2u)"
   ]
  },
  {
   "cell_type": "code",
   "execution_count": null,
   "metadata": {},
   "outputs": [],
   "source": [
    "reload()\n",
    "filter_function = lambda x: x.category in (\"snowball\", \"forward\", \"backward\")\n",
    "\n",
    "strategy = Strategy(*busca(\"scopus\", filter_function=filter_function))\n",
    "state = strategy.s2bbff2u()\n",
    "state"
   ]
  },
  {
   "cell_type": "code",
   "execution_count": null,
   "metadata": {},
   "outputs": [],
   "source": [
    "print (\"--- Estratégia 5 (E5) ---\")\n",
    "name = \"E5\"\n",
    "EP = (len (state.related) / len (state.visited))*100\n",
    "print (\"Precision: \" + \"%.1f\" %EP +\"%\")\n",
    "ER = (len (state.related) / len (TOTAL))*100\n",
    "print (\"Recall: \" + \"%.1f\" %ER +\"%\")\n",
    "FS = 2*((EP*ER)/(EP+ER))\n",
    "print (\"F-Measure: \" + \"%.1f\" %FS +\"%\")\n",
    "\n",
    "array.append((name, EP, ER, FS))"
   ]
  },
  {
   "cell_type": "markdown",
   "metadata": {},
   "source": [
    "## Estratégia 6 - Busca em Scopus + Snowballing (JF - bbff)"
   ]
  },
  {
   "cell_type": "code",
   "execution_count": null,
   "metadata": {},
   "outputs": [],
   "source": [
    "reload()\n",
    "filter_function = lambda x: x.category in (\"snowball\", \"forward\", \"backward\")\n",
    "\n",
    "strategy = Strategy(*busca(\"scopus\", filter_function=filter_function))\n",
    "state = strategy.bbff()\n",
    "state"
   ]
  },
  {
   "cell_type": "code",
   "execution_count": null,
   "metadata": {},
   "outputs": [],
   "source": [
    "print (\"--- Estratégia 6 (E6) ---\")\n",
    "name = \"E6\"\n",
    "EP = (len (state.related) / len (state.visited))*100\n",
    "print (\"Precision: \" + \"%.1f\" %EP +\"%\")\n",
    "ER = (len (state.related) / len (TOTAL))*100\n",
    "print (\"Recall: \" + \"%.1f\" %ER +\"%\")\n",
    "FS = 2*((EP*ER)/(EP+ER))\n",
    "print (\"F-Measure: \" + \"%.1f\" %FS +\"%\")\n",
    "\n",
    "array.append((name, EP, ER, FS))"
   ]
  },
  {
   "cell_type": "markdown",
   "metadata": {},
   "source": [
    "## Estratégia 7 - Busca em Scopus + Snowballing (JF - ffbb)"
   ]
  },
  {
   "cell_type": "code",
   "execution_count": null,
   "metadata": {},
   "outputs": [],
   "source": [
    "reload()\n",
    "filter_function = lambda x: x.category in (\"snowball\", \"forward\", \"backward\")\n",
    "\n",
    "strategy = Strategy(*busca(\"scopus\", filter_function=filter_function))\n",
    "state = strategy.ffbb()\n",
    "state"
   ]
  },
  {
   "cell_type": "code",
   "execution_count": null,
   "metadata": {},
   "outputs": [],
   "source": [
    "print (\"--- Estratégia 7 (E7) ---\")\n",
    "name = \"E7\"\n",
    "EP = (len (state.related) / len (state.visited))*100\n",
    "print (\"Precision: \" + \"%.1f\" %EP +\"%\")\n",
    "ER = (len (state.related) / len (TOTAL))*100\n",
    "print (\"Recall: \" + \"%.1f\" %ER +\"%\")\n",
    "FS = 2*((EP*ER)/(EP+ER))\n",
    "print (\"F-Measure: \" + \"%.1f\" %FS +\"%\")\n",
    "\n",
    "array.append((name, EP, ER, FS))"
   ]
  },
  {
   "cell_type": "markdown",
   "metadata": {},
   "source": [
    "# Análise das Estratégias"
   ]
  },
  {
   "cell_type": "code",
   "execution_count": null,
   "metadata": {
    "collapsed": true
   },
   "outputs": [],
   "source": [
    "%matplotlib notebook\n",
    "import pandas as pd"
   ]
  },
  {
   "cell_type": "code",
   "execution_count": null,
   "metadata": {},
   "outputs": [],
   "source": [
    "df = pd.DataFrame (array,columns = ['Estratégia','Precision','Recall','F-Measure'])\n",
    "df.index = df['Estratégia']\n",
    "df\n"
   ]
  },
  {
   "cell_type": "code",
   "execution_count": null,
   "metadata": {
    "scrolled": false
   },
   "outputs": [],
   "source": [
    "import matplotlib.pyplot as plt\n",
    "ax = df.plot.bar(title =\"Precision e Recall das Estratégias\")\n",
    "plt.tight_layout()\n"
   ]
  },
  {
   "cell_type": "code",
   "execution_count": null,
   "metadata": {
    "collapsed": true
   },
   "outputs": [],
   "source": [
    "df"
   ]
  }
 ],
 "metadata": {
  "kernelspec": {
   "display_name": "Python 3",
   "language": "python",
   "name": "python3"
  },
  "language_info": {
   "codemirror_mode": {
    "name": "ipython",
    "version": 3
   },
   "file_extension": ".py",
   "mimetype": "text/x-python",
   "name": "python",
   "nbconvert_exporter": "python",
   "pygments_lexer": "ipython3",
   "version": "3.6.0"
  },
  "toc": {
   "nav_menu": {
    "height": "12px",
    "width": "252px"
   },
   "number_sections": true,
   "sideBar": false,
   "skip_h1_title": false,
   "toc_cell": false,
   "toc_position": {
    "height": "221px",
    "left": "566px",
    "right": "1442.5px",
    "top": "65.12px",
    "width": "548px"
   },
   "toc_section_display": "none",
   "toc_window_display": true
  }
 },
 "nbformat": 4,
 "nbformat_minor": 2
}
