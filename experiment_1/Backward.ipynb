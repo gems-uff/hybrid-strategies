{
 "cells": [
  {
   "cell_type": "code",
   "execution_count": 1,
   "metadata": {
    "collapsed": true
   },
   "outputs": [],
   "source": [
    "import database\n",
    "from snowballing.operations import load_work, reload, work_by_varname\n",
    "from snowballing.snowballing import Converter\n",
    "from snowballing.dbmanager import insert, set_attribute"
   ]
  },
  {
   "cell_type": "code",
   "execution_count": 2,
   "metadata": {
    "scrolled": true
   },
   "outputs": [
    {
     "data": {
      "application/vnd.jupyter.widget-view+json": {
       "model_id": "297e73a3d3f848f88bae41ca20efe836",
       "version_major": 2,
       "version_minor": 0
      },
      "text/html": [
       "<p>Failed to display Jupyter Widget of type <code>VBox</code>.</p>\n",
       "<p>\n",
       "  If you're reading this message in Jupyter Notebook or JupyterLab, it may mean\n",
       "  that the widgets JavaScript is still loading. If this message persists, it\n",
       "  likely means that the widgets JavaScript library is either not installed or\n",
       "  not enabled. See the <a href=\"https://ipywidgets.readthedocs.io/en/stable/user_install.html\">Jupyter\n",
       "  Widgets Documentation</a> for setup instructions.\n",
       "</p>\n",
       "<p>\n",
       "  If you're reading this message in another notebook frontend (for example, a static\n",
       "  rendering on GitHub or <a href=\"https://nbviewer.jupyter.org/\">NBViewer</a>),\n",
       "  it may mean that your frontend doesn't currently support widgets.\n",
       "</p>\n"
      ],
      "text/plain": [
       "VBox(children=(HBox(children=(Dropdown(index=1, options={'BibTeX': 'bibtex', 'Text': 'text', '[N] author name place other year': 'citation', 'Quoted': 'quoted'}, value='text'), Button(description='Set article_list variable', disabled=True, style=ButtonStyle()), Label(value=''))), HBox(children=(Textarea(value='', layout=Layout(height='500px', width='50%')), Textarea(value='', layout=Layout(height='500px', width='50%'))))))"
      ]
     },
     "metadata": {},
     "output_type": "display_data"
    }
   ],
   "source": [
    "Converter().browser()"
   ]
  },
  {
   "cell_type": "code",
   "execution_count": 3,
   "metadata": {},
   "outputs": [
    {
     "data": {
      "text/plain": [
       "19"
      ]
     },
     "execution_count": 3,
     "metadata": {},
     "output_type": "execute_result"
    }
   ],
   "source": [
    "len(article_list)"
   ]
  },
  {
   "cell_type": "code",
   "execution_count": null,
   "metadata": {
    "collapsed": true
   },
   "outputs": [],
   "source": [
    "#from database.work.y2015 import li2015a"
   ]
  },
  {
   "cell_type": "code",
   "execution_count": null,
   "metadata": {
    "collapsed": true
   },
   "outputs": [],
   "source": [
    "#int(getattr(li2015a, 'scopus', 0))"
   ]
  },
  {
   "cell_type": "code",
   "execution_count": null,
   "metadata": {
    "collapsed": true
   },
   "outputs": [],
   "source": [
    "#print(article_list)"
   ]
  },
  {
   "cell_type": "code",
   "execution_count": null,
   "metadata": {
    "collapsed": true
   },
   "outputs": [],
   "source": []
  },
  {
   "cell_type": "code",
   "execution_count": null,
   "metadata": {
    "collapsed": true
   },
   "outputs": [],
   "source": []
  },
  {
   "cell_type": "code",
   "execution_count": null,
   "metadata": {
    "collapsed": true
   },
   "outputs": [],
   "source": []
  },
  {
   "cell_type": "code",
   "execution_count": 4,
   "metadata": {},
   "outputs": [
    {
     "data": {
      "application/vnd.jupyter.widget-view+json": {
       "model_id": "26a460b87a37450d938fa884fdf9bb05",
       "version_major": 2,
       "version_minor": 0
      },
      "text/html": [
       "<p>Failed to display Jupyter Widget of type <code>VBox</code>.</p>\n",
       "<p>\n",
       "  If you're reading this message in Jupyter Notebook or JupyterLab, it may mean\n",
       "  that the widgets JavaScript is still loading. If this message persists, it\n",
       "  likely means that the widgets JavaScript library is either not installed or\n",
       "  not enabled. See the <a href=\"https://ipywidgets.readthedocs.io/en/stable/user_install.html\">Jupyter\n",
       "  Widgets Documentation</a> for setup instructions.\n",
       "</p>\n",
       "<p>\n",
       "  If you're reading this message in another notebook frontend (for example, a static\n",
       "  rendering on GitHub or <a href=\"https://nbviewer.jupyter.org/\">NBViewer</a>),\n",
       "  it may mean that your frontend doesn't currently support widgets.\n",
       "</p>\n"
      ],
      "text/plain": [
       "VBox(children=(HBox(children=(Button(description='Previous Article', disabled=True, icon='caret-left', style=ButtonStyle()), Button(description='Reload Article', icon='refresh', style=ButtonStyle()), Button(description='Next Article', icon='caret-right', style=ButtonStyle()))), HBox(children=(Button(description='Unrelated: Scripts', style=ButtonStyle()), Button(description='Unrelated: Provenance', style=ButtonStyle()), Button(description='Both', style=ButtonStyle()), Button(description='Ok', style=ButtonStyle()))), HBox(children=(Dropdown(description='Type', index=3, options=('Work', 'WorkSnowball', 'WorkOk', 'WorkUnrelated', 'WorkNoFile', 'WorkLang', 'Site', 'Email'), value='WorkUnrelated'), ToggleButton(value=False, description='File'))), HBox(children=(Text(value='', description='Due'), Text(value='', description='Place'))), HBox(children=(Text(value='', description='Year'), Text(value='', description='Prefix Var'))), HBox(children=(Text(value='', description='PDFPage'), Text(value='', description='Related'))), HBox(children=(Text(value='', description='Display'), Text(value='', description='Summary'))), HBox(children=(Text(value='', description='Star'), Text(value='', description='Link'))), HBox(children=(Button(description='Reload Article', icon='refresh', style=ButtonStyle()), IntSlider(value=0, max=18), Label(value='1/19'))), Output()))"
      ]
     },
     "metadata": {},
     "output_type": "display_data"
    },
    {
     "data": {
      "application/javascript": [
       "$('span:contains(\"# Temp\")').closest('.cell').remove();"
      ],
      "text/plain": [
       "<IPython.core.display.Javascript object>"
      ]
     },
     "metadata": {},
     "output_type": "display_data"
    },
    {
     "data": {
      "application/javascript": [
       "\n",
       "        $('span:contains(\"# Temp\")').closest('.cell').remove();\n",
       "        var code = IPython.notebook.insert_cell_below('code');\n",
       "        code.set_text(atob(\"IyBUZW1wCmluc2VydCgnJycKREIoQ2l0YXRpb24oCiAgICBrYXJsc3Ry9m0yMDAyYSwgaHVtcGhyZXkxOTg5YSwgcmVmPSIiLAogICAgY29udGV4dHM9WwoKICAgIF0sCikpCgonJycsIGNpdGF0aW9ucz0na2FybHN0cvZtMjAwMmEnKTs=\"));\n",
       "    "
      ],
      "text/plain": [
       "<IPython.core.display.Javascript object>"
      ]
     },
     "metadata": {},
     "output_type": "display_data"
    },
    {
     "data": {
      "application/javascript": [
       "$('span:contains(\"# Temp\")').closest('.cell').remove();"
      ],
      "text/plain": [
       "<IPython.core.display.Javascript object>"
      ]
     },
     "metadata": {},
     "output_type": "display_data"
    },
    {
     "data": {
      "application/javascript": [
       "\n",
       "        $('span:contains(\"# Temp\")').closest('.cell').remove();\n",
       "        var code = IPython.notebook.insert_cell_below('code');\n",
       "        code.set_text(atob(\"IyBUZW1wCmluc2VydCgnJycKREIoQ2l0YXRpb24oCiAgICBrYXJsc3Ry9m0yMDAyYSwgcGF1bGsxOTkzYiwgcmVmPSIiLAogICAgY29udGV4dHM9WwoKICAgIF0sCikpCgonJycsIGNpdGF0aW9ucz0na2FybHN0cvZtMjAwMmEnKTs=\"));\n",
       "    "
      ],
      "text/plain": [
       "<IPython.core.display.Javascript object>"
      ]
     },
     "metadata": {},
     "output_type": "display_data"
    },
    {
     "data": {
      "application/javascript": [
       "$('span:contains(\"# Temp\")').closest('.cell').remove();"
      ],
      "text/plain": [
       "<IPython.core.display.Javascript object>"
      ]
     },
     "metadata": {},
     "output_type": "display_data"
    },
    {
     "data": {
      "application/javascript": [
       "\n",
       "        $('span:contains(\"# Temp\")').closest('.cell').remove();\n",
       "        var code = IPython.notebook.insert_cell_below('code');\n",
       "        code.set_text(atob(\"IyBUZW1wCmluc2VydCgnJycKREIoQ2l0YXRpb24oCiAgICBrYXJsc3Ry9m0yMDAyYSwgcGF1bGsxOTkzYiwgcmVmPSIiLAogICAgY29udGV4dHM9WwoKICAgIF0sCikpCgonJycsIGNpdGF0aW9ucz0na2FybHN0cvZtMjAwMmEnKTs=\"));\n",
       "    "
      ],
      "text/plain": [
       "<IPython.core.display.Javascript object>"
      ]
     },
     "metadata": {},
     "output_type": "display_data"
    },
    {
     "data": {
      "application/javascript": [
       "$('span:contains(\"# Temp\")').closest('.cell').remove();"
      ],
      "text/plain": [
       "<IPython.core.display.Javascript object>"
      ]
     },
     "metadata": {},
     "output_type": "display_data"
    },
    {
     "data": {
      "application/javascript": [
       "\n",
       "        $('span:contains(\"# Temp\")').closest('.cell').remove();\n",
       "        var code = IPython.notebook.insert_cell_below('code');\n",
       "        code.set_text(atob(\"IyBUZW1wCmluc2VydCgnJycKREIoQ2l0YXRpb24oCiAgICBrYXJsc3Ry9m0yMDAyYSwgY2F0dGFuZW8yMDAxYSwgcmVmPSIiLAogICAgY29udGV4dHM9WwoKICAgIF0sCikpCgonJycsIGNpdGF0aW9ucz0na2FybHN0cvZtMjAwMmEnKTs=\"));\n",
       "    "
      ],
      "text/plain": [
       "<IPython.core.display.Javascript object>"
      ]
     },
     "metadata": {},
     "output_type": "display_data"
    },
    {
     "data": {
      "application/javascript": [
       "$('span:contains(\"# Temp\")').closest('.cell').remove();"
      ],
      "text/plain": [
       "<IPython.core.display.Javascript object>"
      ]
     },
     "metadata": {},
     "output_type": "display_data"
    },
    {
     "data": {
      "application/javascript": [
       "\n",
       "        $('span:contains(\"# Temp\")').closest('.cell').remove();\n",
       "        var code = IPython.notebook.insert_cell_below('code');\n",
       "        code.set_text(atob(\"IyBUZW1wCmluc2VydCgnJycKREIoQ2l0YXRpb24oCiAgICBrYXJsc3Ry9m0yMDAyYSwgY2F0dGFuZW8yMDAxYSwgcmVmPSIiLAogICAgY29udGV4dHM9WwoKICAgIF0sCikpCgonJycsIGNpdGF0aW9ucz0na2FybHN0cvZtMjAwMmEnKTs=\"));\n",
       "    "
      ],
      "text/plain": [
       "<IPython.core.display.Javascript object>"
      ]
     },
     "metadata": {},
     "output_type": "display_data"
    },
    {
     "data": {
      "application/javascript": [
       "$('span:contains(\"# Temp\")').closest('.cell').remove();"
      ],
      "text/plain": [
       "<IPython.core.display.Javascript object>"
      ]
     },
     "metadata": {},
     "output_type": "display_data"
    },
    {
     "data": {
      "application/javascript": [
       "\n",
       "        $('span:contains(\"# Temp\")').closest('.cell').remove();\n",
       "        var code = IPython.notebook.insert_cell_below('code');\n",
       "        code.set_text(atob(\"IyBUZW1wCmluc2VydCgnJycKaGVyYnNsZWIxOTk1YSA9IERCKFdvcmtVbnJlbGF0ZWQoCiAgICAxOTk1LCAiU3lzdGVtYXRpYyBzdXJ2ZXkgb2YgQ01NIGV4cGVyaWVuY2UgYW5kIHJlc3VsdHMiLAogICAgZGlzcGxheT0iaGVyYnNsZWIiLAogICAgYXV0aG9ycz0iSGVyYnNsZWIsIEphbWVzIEQuIGFuZCBHb2xkZW5zb24sIERlbm5pcyBSLiIsCiAgICBwbGFjZT1JQ1NFLAogICAgcHA9IjMyMy0zMzAiLAogICAgZW50cnl0eXBlPSJjb25mZXJlbmNlIiwKICAgIG5vdGU9ImNpdGVkIEJ5IDEwMyIsCiAgICBJRD0iSGVyYnNsZWIxOTk1MzIzIiwKICAgIHBsYWNleD0iUHJvY2VlZGluZ3MgLSBJbnRlcm5hdGlvbmFsIENvbmZlcmVuY2Ugb24gU29mdHdhcmUgRW5naW5lZXJpbmciLAopKQoKREIoQ2l0YXRpb24oCiAgICBrYXJsc3Ry9m0yMDAyYSwgaGVyYnNsZWIxOTk1YSwgcmVmPSIiLAogICAgY29udGV4dHM9WwoKICAgIF0sCikpCgonJycsIGNpdGF0aW9ucz0na2FybHN0cvZtMjAwMmEnKTs=\"));\n",
       "    "
      ],
      "text/plain": [
       "<IPython.core.display.Javascript object>"
      ]
     },
     "metadata": {},
     "output_type": "display_data"
    },
    {
     "data": {
      "application/javascript": [
       "$('span:contains(\"# Temp\")').closest('.cell').remove();"
      ],
      "text/plain": [
       "<IPython.core.display.Javascript object>"
      ]
     },
     "metadata": {},
     "output_type": "display_data"
    },
    {
     "data": {
      "application/javascript": [
       "\n",
       "        $('span:contains(\"# Temp\")').closest('.cell').remove();\n",
       "        var code = IPython.notebook.insert_cell_below('code');\n",
       "        code.set_text(atob(\"IyBUZW1wCmluc2VydCgnJycKaGVyYnNsZWIxOTk1YSA9IERCKFdvcmtVbnJlbGF0ZWQoCiAgICAxOTk1LCAiU3lzdGVtYXRpYyBzdXJ2ZXkgb2YgQ01NIGV4cGVyaWVuY2UgYW5kIHJlc3VsdHMiLAogICAgZGlzcGxheT0iaGVyYnNsZWIiLAogICAgYXV0aG9ycz0iSGVyYnNsZWIsIEphbWVzIEQuIGFuZCBHb2xkZW5zb24sIERlbm5pcyBSLiIsCiAgICBwbGFjZT1JQ1NFLAogICAgcHA9IjMyMy0zMzAiLAogICAgZW50cnl0eXBlPSJjb25mZXJlbmNlIiwKICAgIG5vdGU9ImNpdGVkIEJ5IDEwMyIsCiAgICBJRD0iSGVyYnNsZWIxOTk1MzIzIiwKICAgIHBsYWNleD0iUHJvY2VlZGluZ3MgLSBJbnRlcm5hdGlvbmFsIENvbmZlcmVuY2Ugb24gU29mdHdhcmUgRW5naW5lZXJpbmciLAopKQoKREIoQ2l0YXRpb24oCiAgICBrYXJsc3Ry9m0yMDAyYSwgaGVyYnNsZWIxOTk1YSwgcmVmPSIiLAogICAgY29udGV4dHM9WwoKICAgIF0sCikpCgonJycsIGNpdGF0aW9ucz0na2FybHN0cvZtMjAwMmEnKTs=\"));\n",
       "    "
      ],
      "text/plain": [
       "<IPython.core.display.Javascript object>"
      ]
     },
     "metadata": {},
     "output_type": "display_data"
    },
    {
     "data": {
      "application/javascript": [
       "$('span:contains(\"# Temp\")').closest('.cell').remove();"
      ],
      "text/plain": [
       "<IPython.core.display.Javascript object>"
      ]
     },
     "metadata": {},
     "output_type": "display_data"
    },
    {
     "data": {
      "application/javascript": [
       "\n",
       "        $('span:contains(\"# Temp\")').closest('.cell').remove();\n",
       "        var code = IPython.notebook.insert_cell_below('code');\n",
       "        code.set_text(atob(\"IyBUZW1wCmluc2VydCgnJycKREIoQ2l0YXRpb24oCiAgICBrYXJsc3Ry9m0yMDAyYSwgYmFuZGluZWxsaTE5OTVhLCByZWY9IiIsCiAgICBjb250ZXh0cz1bCgogICAgXSwKKSkKCicnJywgY2l0YXRpb25zPSdrYXJsc3Ry9m0yMDAyYScpOwpzZXRfYXR0cmlidXRlKCdiYW5kaW5lbGxpMTk5NWEnLCAncHAnLCAnNDQwLTQ1NCcpOwpzZXRfYXR0cmlidXRlKCdiYW5kaW5lbGxpMTk5NWEnLCAndm9sdW1lJywgJzIxJyk7CnNldF9hdHRyaWJ1dGUoJ2JhbmRpbmVsbGkxOTk1YScsICdudW1iZXInLCAnNScpOwpzZXRfYXR0cmlidXRlKCdiYW5kaW5lbGxpMTk5NWEnLCAnZG9pJywgJzEwLjExMDkvMzIuMzg3NDczJyk7\"));\n",
       "    "
      ],
      "text/plain": [
       "<IPython.core.display.Javascript object>"
      ]
     },
     "metadata": {},
     "output_type": "display_data"
    },
    {
     "data": {
      "application/javascript": [
       "$('span:contains(\"# Temp\")').closest('.cell').remove();"
      ],
      "text/plain": [
       "<IPython.core.display.Javascript object>"
      ]
     },
     "metadata": {},
     "output_type": "display_data"
    },
    {
     "data": {
      "application/javascript": [
       "\n",
       "        $('span:contains(\"# Temp\")').closest('.cell').remove();\n",
       "        var code = IPython.notebook.insert_cell_below('code');\n",
       "        code.set_text(atob(\"IyBUZW1wCmluc2VydCgnJycKREIoQ2l0YXRpb24oCiAgICBrYXJsc3Ry9m0yMDAyYSwgYmFuZGluZWxsaTE5OTVhLCByZWY9IiIsCiAgICBjb250ZXh0cz1bCgogICAgXSwKKSkKCicnJywgY2l0YXRpb25zPSdrYXJsc3Ry9m0yMDAyYScpOwpzZXRfYXR0cmlidXRlKCdiYW5kaW5lbGxpMTk5NWEnLCAncHAnLCAnNDQwLTQ1NCcpOwpzZXRfYXR0cmlidXRlKCdiYW5kaW5lbGxpMTk5NWEnLCAndm9sdW1lJywgJzIxJyk7CnNldF9hdHRyaWJ1dGUoJ2JhbmRpbmVsbGkxOTk1YScsICdudW1iZXInLCAnNScpOwpzZXRfYXR0cmlidXRlKCdiYW5kaW5lbGxpMTk5NWEnLCAnZG9pJywgJzEwLjExMDkvMzIuMzg3NDczJyk7\"));\n",
       "    "
      ],
      "text/plain": [
       "<IPython.core.display.Javascript object>"
      ]
     },
     "metadata": {},
     "output_type": "display_data"
    },
    {
     "data": {
      "application/javascript": [
       "$('span:contains(\"# Temp\")').closest('.cell').remove();"
      ],
      "text/plain": [
       "<IPython.core.display.Javascript object>"
      ]
     },
     "metadata": {},
     "output_type": "display_data"
    },
    {
     "data": {
      "application/javascript": [
       "\n",
       "        $('span:contains(\"# Temp\")').closest('.cell').remove();\n",
       "        var code = IPython.notebook.insert_cell_below('code');\n",
       "        code.set_text(atob(\"IyBUZW1wCmluc2VydCgnJycKREIoQ2l0YXRpb24oCiAgICBrYXJsc3Ry9m0yMDAyYSwgc29tbWVydmlsbGUxOTk5YSwgcmVmPSIiLAogICAgY29udGV4dHM9WwoKICAgIF0sCikpCgonJycsIGNpdGF0aW9ucz0na2FybHN0cvZtMjAwMmEnKTs=\"));\n",
       "    "
      ],
      "text/plain": [
       "<IPython.core.display.Javascript object>"
      ]
     },
     "metadata": {},
     "output_type": "display_data"
    },
    {
     "data": {
      "application/javascript": [
       "$('span:contains(\"# Temp\")').closest('.cell').remove();"
      ],
      "text/plain": [
       "<IPython.core.display.Javascript object>"
      ]
     },
     "metadata": {},
     "output_type": "display_data"
    },
    {
     "data": {
      "application/javascript": [
       "\n",
       "        $('span:contains(\"# Temp\")').closest('.cell').remove();\n",
       "        var code = IPython.notebook.insert_cell_below('code');\n",
       "        code.set_text(atob(\"IyBUZW1wCmluc2VydCgnJycKREIoQ2l0YXRpb24oCiAgICBrYXJsc3Ry9m0yMDAyYSwgc29tbWVydmlsbGUxOTk5YSwgcmVmPSIiLAogICAgY29udGV4dHM9WwoKICAgIF0sCikpCgonJycsIGNpdGF0aW9ucz0na2FybHN0cvZtMjAwMmEnKTs=\"));\n",
       "    "
      ],
      "text/plain": [
       "<IPython.core.display.Javascript object>"
      ]
     },
     "metadata": {},
     "output_type": "display_data"
    },
    {
     "data": {
      "application/javascript": [
       "$('span:contains(\"# Temp\")').closest('.cell').remove();"
      ],
      "text/plain": [
       "<IPython.core.display.Javascript object>"
      ]
     },
     "metadata": {},
     "output_type": "display_data"
    },
    {
     "data": {
      "application/javascript": [
       "\n",
       "        $('span:contains(\"# Temp\")').closest('.cell').remove();\n",
       "        var code = IPython.notebook.insert_cell_below('code');\n",
       "        code.set_text(atob(\"IyBUZW1wCmluc2VydCgnJycKREIoQ2l0YXRpb24oCiAgICBrYXJsc3Ry9m0yMDAyYSwgc29saW5nZW4xOTk5YSwgcmVmPSIiLAogICAgY29udGV4dHM9WwoKICAgIF0sCikpCgonJycsIGNpdGF0aW9ucz0na2FybHN0cvZtMjAwMmEnKTs=\"));\n",
       "    "
      ],
      "text/plain": [
       "<IPython.core.display.Javascript object>"
      ]
     },
     "metadata": {},
     "output_type": "display_data"
    },
    {
     "data": {
      "application/javascript": [
       "$('span:contains(\"# Temp\")').closest('.cell').remove();"
      ],
      "text/plain": [
       "<IPython.core.display.Javascript object>"
      ]
     },
     "metadata": {},
     "output_type": "display_data"
    },
    {
     "data": {
      "application/javascript": [
       "\n",
       "        $('span:contains(\"# Temp\")').closest('.cell').remove();\n",
       "        var code = IPython.notebook.insert_cell_below('code');\n",
       "        code.set_text(atob(\"IyBUZW1wCmluc2VydCgnJycKREIoQ2l0YXRpb24oCiAgICBrYXJsc3Ry9m0yMDAyYSwgc29saW5nZW4xOTk5YSwgcmVmPSIiLAogICAgY29udGV4dHM9WwoKICAgIF0sCikpCgonJycsIGNpdGF0aW9ucz0na2FybHN0cvZtMjAwMmEnKTs=\"));\n",
       "    "
      ],
      "text/plain": [
       "<IPython.core.display.Javascript object>"
      ]
     },
     "metadata": {},
     "output_type": "display_data"
    },
    {
     "data": {
      "application/javascript": [
       "$('span:contains(\"# Temp\")').closest('.cell').remove();"
      ],
      "text/plain": [
       "<IPython.core.display.Javascript object>"
      ]
     },
     "metadata": {},
     "output_type": "display_data"
    },
    {
     "data": {
      "application/javascript": [
       "\n",
       "        $('span:contains(\"# Temp\")').closest('.cell').remove();\n",
       "        var code = IPython.notebook.insert_cell_below('code');\n",
       "        code.set_text(atob(\"IyBUZW1wCmluc2VydCgnJycKa2FybHNzb24xOTk3YSA9IERCKFdvcmtVbnJlbGF0ZWQoCiAgICAxOTk3LCAiQSBjb3N0LXZhbHVlIGFwcHJvYWNoIGZvciBwcmlvcml0aXppbmcgcmVxdWlyZW1lbnRzIiwKICAgIGRpc3BsYXk9Imthcmxzc29uIiwKICAgIGF1dGhvcnM9Ikthcmxzc29uLCBKLiBhbmQgUnlhbiwgSy4iLAogICAgcGxhY2U9SUVFRVMsCiAgICBwcD0iNjctNzQiLAogICAgZW50cnl0eXBlPSJhcnRpY2xlIiwKICAgIHZvbHVtZT0iMTQiLAogICAgbnVtYmVyPSI1IiwKICAgIGRvaT0iMTAuMTEwOS81Mi42MDU5MzMiLAogICAgbm90ZT0iY2l0ZWQgQnkgNDE3IiwKICAgIElEPSJLYXJsc3NvbjE5OTc2NyIsCiAgICBwbGFjZXg9IklFRUUgU29mdHdhcmUiLAopKQoKREIoQ2l0YXRpb24oCiAgICBrYXJsc3Ry9m0yMDAyYSwga2FybHNzb24xOTk3YSwgcmVmPSIiLAogICAgY29udGV4dHM9WwoKICAgIF0sCikpCgonJycsIGNpdGF0aW9ucz0na2FybHN0cvZtMjAwMmEnKTs=\"));\n",
       "    "
      ],
      "text/plain": [
       "<IPython.core.display.Javascript object>"
      ]
     },
     "metadata": {},
     "output_type": "display_data"
    },
    {
     "data": {
      "application/javascript": [
       "$('span:contains(\"# Temp\")').closest('.cell').remove();"
      ],
      "text/plain": [
       "<IPython.core.display.Javascript object>"
      ]
     },
     "metadata": {},
     "output_type": "display_data"
    },
    {
     "data": {
      "application/javascript": [
       "\n",
       "        $('span:contains(\"# Temp\")').closest('.cell').remove();\n",
       "        var code = IPython.notebook.insert_cell_below('code');\n",
       "        code.set_text(atob(\"IyBUZW1wCmluc2VydCgnJycKa2FybHNzb24xOTk3YSA9IERCKFdvcmtVbnJlbGF0ZWQoCiAgICAxOTk3LCAiQSBjb3N0LXZhbHVlIGFwcHJvYWNoIGZvciBwcmlvcml0aXppbmcgcmVxdWlyZW1lbnRzIiwKICAgIGRpc3BsYXk9Imthcmxzc29uIiwKICAgIGF1dGhvcnM9Ikthcmxzc29uLCBKLiBhbmQgUnlhbiwgSy4iLAogICAgcGxhY2U9SUVFRVMsCiAgICBwcD0iNjctNzQiLAogICAgZW50cnl0eXBlPSJhcnRpY2xlIiwKICAgIHZvbHVtZT0iMTQiLAogICAgbnVtYmVyPSI1IiwKICAgIGRvaT0iMTAuMTEwOS81Mi42MDU5MzMiLAogICAgbm90ZT0iY2l0ZWQgQnkgNDE3IiwKICAgIElEPSJLYXJsc3NvbjE5OTc2NyIsCiAgICBwbGFjZXg9IklFRUUgU29mdHdhcmUiLAopKQoKREIoQ2l0YXRpb24oCiAgICBrYXJsc3Ry9m0yMDAyYSwga2FybHNzb24xOTk3YSwgcmVmPSIiLAogICAgY29udGV4dHM9WwoKICAgIF0sCikpCgonJycsIGNpdGF0aW9ucz0na2FybHN0cvZtMjAwMmEnKTs=\"));\n",
       "    "
      ],
      "text/plain": [
       "<IPython.core.display.Javascript object>"
      ]
     },
     "metadata": {},
     "output_type": "display_data"
    },
    {
     "data": {
      "application/javascript": [
       "$('span:contains(\"# Temp\")').closest('.cell').remove();"
      ],
      "text/plain": [
       "<IPython.core.display.Javascript object>"
      ]
     },
     "metadata": {},
     "output_type": "display_data"
    },
    {
     "data": {
      "application/javascript": [
       "\n",
       "        $('span:contains(\"# Temp\")').closest('.cell').remove();\n",
       "        var code = IPython.notebook.insert_cell_below('code');\n",
       "        code.set_text(atob(\"IyBUZW1wCmluc2VydCgnJycKc2FhdHkxOTgwYSA9IERCKFdvcmtVbnJlbGF0ZWQoCiAgICAxOTgwLCAiVGhlIEFuYWx5dGljIEhpZXJhcmNoeSBQcm9jZXNzIiwKICAgIGRpc3BsYXk9InNhYXR5IiwKICAgIGF1dGhvcnM9IlNhYXR5LCBULkwuIiwKICAgIHBsYWNlPUZBS0UsCiAgICBlbnRyeXR5cGU9ImFydGljbGUiLAogICAgbm90ZT0iY2l0ZWQgQnkgMTY3MzciLAogICAgSUQ9IlNhYXR5MTk4MCIsCiAgICBwbGFjZXg9Ik1jR3Jhdy1IaWxsLCBOZXcgWW9yayIsCikpCgpEQihDaXRhdGlvbigKICAgIGthcmxzdHL2bTIwMDJhLCBzYWF0eTE5ODBhLCByZWY9IiIsCiAgICBjb250ZXh0cz1bCgogICAgXSwKKSkKCicnJywgY2l0YXRpb25zPSdrYXJsc3Ry9m0yMDAyYScpOw==\"));\n",
       "    "
      ],
      "text/plain": [
       "<IPython.core.display.Javascript object>"
      ]
     },
     "metadata": {},
     "output_type": "display_data"
    },
    {
     "data": {
      "application/javascript": [
       "$('span:contains(\"# Temp\")').closest('.cell').remove();"
      ],
      "text/plain": [
       "<IPython.core.display.Javascript object>"
      ]
     },
     "metadata": {},
     "output_type": "display_data"
    },
    {
     "data": {
      "application/javascript": [
       "\n",
       "        $('span:contains(\"# Temp\")').closest('.cell').remove();\n",
       "        var code = IPython.notebook.insert_cell_below('code');\n",
       "        code.set_text(atob(\"IyBUZW1wCmluc2VydCgnJycKc2FhdHkxOTgwYSA9IERCKFdvcmtVbnJlbGF0ZWQoCiAgICAxOTgwLCAiVGhlIEFuYWx5dGljIEhpZXJhcmNoeSBQcm9jZXNzIiwKICAgIGRpc3BsYXk9InNhYXR5IiwKICAgIGF1dGhvcnM9IlNhYXR5LCBULkwuIiwKICAgIHBsYWNlPUZBS0UsCiAgICBlbnRyeXR5cGU9ImFydGljbGUiLAogICAgbm90ZT0iY2l0ZWQgQnkgMTY3MzciLAogICAgSUQ9IlNhYXR5MTk4MCIsCiAgICBwbGFjZXg9Ik1jR3Jhdy1IaWxsLCBOZXcgWW9yayIsCikpCgpEQihDaXRhdGlvbigKICAgIGthcmxzdHL2bTIwMDJhLCBzYWF0eTE5ODBhLCByZWY9IiIsCiAgICBjb250ZXh0cz1bCgogICAgXSwKKSkKCicnJywgY2l0YXRpb25zPSdrYXJsc3Ry9m0yMDAyYScpOw==\"));\n",
       "    "
      ],
      "text/plain": [
       "<IPython.core.display.Javascript object>"
      ]
     },
     "metadata": {},
     "output_type": "display_data"
    },
    {
     "data": {
      "application/javascript": [
       "$('span:contains(\"# Temp\")').closest('.cell').remove();"
      ],
      "text/plain": [
       "<IPython.core.display.Javascript object>"
      ]
     },
     "metadata": {},
     "output_type": "display_data"
    },
    {
     "data": {
      "application/javascript": [
       "\n",
       "        $('span:contains(\"# Temp\")').closest('.cell').remove();\n",
       "        var code = IPython.notebook.insert_cell_below('code');\n",
       "        code.set_text(atob(\"IyBUZW1wCmluc2VydCgnJycKcG9pbnQyMDAyYSA9IERCKFdvcmtVbnJlbGF0ZWQoCiAgICAyMDAyLCAiSG9tZSBwYWdlIG9mIEZvY2FsIFBvaW50IEFCIiwKICAgIGRpc3BsYXk9InBvaW50IiwKICAgIGF1dGhvcnM9IkZvY2FsIFBvaW50IiwKICAgIHBsYWNlPUZBS0UsCiAgICBlbnRyeXR5cGU9ImFydGljbGUiLAogICAgbm90ZT0iY2l0ZWQgQnkgMSIsCiAgICBJRD0iRm9jYWxQb2ludDIwMDIiLAogICAgcGxhY2V4PSJBY2Nlc3NlZCAybmQgTWFyY2giLAopKQoKREIoQ2l0YXRpb24oCiAgICBrYXJsc3Ry9m0yMDAyYSwgcG9pbnQyMDAyYSwgcmVmPSIiLAogICAgY29udGV4dHM9WwoKICAgIF0sCikpCgonJycsIGNpdGF0aW9ucz0na2FybHN0cvZtMjAwMmEnKTs=\"));\n",
       "    "
      ],
      "text/plain": [
       "<IPython.core.display.Javascript object>"
      ]
     },
     "metadata": {},
     "output_type": "display_data"
    },
    {
     "data": {
      "application/javascript": [
       "$('span:contains(\"# Temp\")').closest('.cell').remove();"
      ],
      "text/plain": [
       "<IPython.core.display.Javascript object>"
      ]
     },
     "metadata": {},
     "output_type": "display_data"
    },
    {
     "data": {
      "application/javascript": [
       "\n",
       "        $('span:contains(\"# Temp\")').closest('.cell').remove();\n",
       "        var code = IPython.notebook.insert_cell_below('code');\n",
       "        code.set_text(atob(\"IyBUZW1wCmluc2VydCgnJycKcG9pbnQyMDAyYSA9IERCKFdvcmtVbnJlbGF0ZWQoCiAgICAyMDAyLCAiSG9tZSBwYWdlIG9mIEZvY2FsIFBvaW50IEFCIiwKICAgIGRpc3BsYXk9InBvaW50IiwKICAgIGF1dGhvcnM9IkZvY2FsIFBvaW50IiwKICAgIHBsYWNlPUZBS0UsCiAgICBlbnRyeXR5cGU9ImFydGljbGUiLAogICAgbm90ZT0iY2l0ZWQgQnkgMSIsCiAgICBJRD0iRm9jYWxQb2ludDIwMDIiLAogICAgcGxhY2V4PSJBY2Nlc3NlZCAybmQgTWFyY2giLAopKQoKREIoQ2l0YXRpb24oCiAgICBrYXJsc3Ry9m0yMDAyYSwgcG9pbnQyMDAyYSwgcmVmPSIiLAogICAgY29udGV4dHM9WwoKICAgIF0sCikpCgonJycsIGNpdGF0aW9ucz0na2FybHN0cvZtMjAwMmEnKTs=\"));\n",
       "    "
      ],
      "text/plain": [
       "<IPython.core.display.Javascript object>"
      ]
     },
     "metadata": {},
     "output_type": "display_data"
    },
    {
     "data": {
      "application/javascript": [
       "$('span:contains(\"# Temp\")').closest('.cell').remove();"
      ],
      "text/plain": [
       "<IPython.core.display.Javascript object>"
      ]
     },
     "metadata": {},
     "output_type": "display_data"
    },
    {
     "data": {
      "application/javascript": [
       "\n",
       "        $('span:contains(\"# Temp\")').closest('.cell').remove();\n",
       "        var code = IPython.notebook.insert_cell_below('code');\n",
       "        code.set_text(atob(\"IyBUZW1wCmluc2VydCgnJycKZm9ybWFuMTk5OGEgPSBEQihXb3JrVW5yZWxhdGVkKAogICAgMTk5OCwgIkFnZ3JlZ2F0aW5nIGluZGl2aWR1YWwganVkZ21lbnRzIGFuZCBwcmlvcml0aWVzIHdpdGggdGhlIEFuYWx5dGljIEhpZXJhcmNoeSBQcm9jZXNzIiwKICAgIGRpc3BsYXk9ImZvcm1hbiIsCiAgICBhdXRob3JzPSJGb3JtYW4sIEUuIGFuZCBQZW5pd2F0aSwgSy4iLAogICAgcGxhY2U9RkFLRSwKICAgIHBwPSIxNjUtMTY5IiwKICAgIGVudHJ5dHlwZT0iYXJ0aWNsZSIsCiAgICB2b2x1bWU9IjEwOCIsCiAgICBudW1iZXI9IjEiLAogICAgZG9pPSIxMC4xMDE2L1MwMzc3LTIyMTcoOTcpMDAyNDQtMCIsCiAgICBub3RlPSJjaXRlZCBCeSA0MjAiLAogICAgSUQ9IkZvcm1hbjE5OTgxNjUiLAogICAgcGxhY2V4PSJFdXJvcGVhbiBKb3VybmFsIG9mIE9wZXJhdGlvbmFsIFJlc2VhcmNoIiwKKSkKCkRCKENpdGF0aW9uKAogICAga2FybHN0cvZtMjAwMmEsIGZvcm1hbjE5OThhLCByZWY9IiIsCiAgICBjb250ZXh0cz1bCgogICAgXSwKKSkKCicnJywgY2l0YXRpb25zPSdrYXJsc3Ry9m0yMDAyYScpOw==\"));\n",
       "    "
      ],
      "text/plain": [
       "<IPython.core.display.Javascript object>"
      ]
     },
     "metadata": {},
     "output_type": "display_data"
    },
    {
     "data": {
      "application/javascript": [
       "$('span:contains(\"# Temp\")').closest('.cell').remove();"
      ],
      "text/plain": [
       "<IPython.core.display.Javascript object>"
      ]
     },
     "metadata": {},
     "output_type": "display_data"
    },
    {
     "data": {
      "application/javascript": [
       "\n",
       "        $('span:contains(\"# Temp\")').closest('.cell').remove();\n",
       "        var code = IPython.notebook.insert_cell_below('code');\n",
       "        code.set_text(atob(\"IyBUZW1wCmluc2VydCgnJycKZm9ybWFuMTk5OGEgPSBEQihXb3JrVW5yZWxhdGVkKAogICAgMTk5OCwgIkFnZ3JlZ2F0aW5nIGluZGl2aWR1YWwganVkZ21lbnRzIGFuZCBwcmlvcml0aWVzIHdpdGggdGhlIEFuYWx5dGljIEhpZXJhcmNoeSBQcm9jZXNzIiwKICAgIGRpc3BsYXk9ImZvcm1hbiIsCiAgICBhdXRob3JzPSJGb3JtYW4sIEUuIGFuZCBQZW5pd2F0aSwgSy4iLAogICAgcGxhY2U9RkFLRSwKICAgIHBwPSIxNjUtMTY5IiwKICAgIGVudHJ5dHlwZT0iYXJ0aWNsZSIsCiAgICB2b2x1bWU9IjEwOCIsCiAgICBudW1iZXI9IjEiLAogICAgZG9pPSIxMC4xMDE2L1MwMzc3LTIyMTcoOTcpMDAyNDQtMCIsCiAgICBub3RlPSJjaXRlZCBCeSA0MjAiLAogICAgSUQ9IkZvcm1hbjE5OTgxNjUiLAogICAgcGxhY2V4PSJFdXJvcGVhbiBKb3VybmFsIG9mIE9wZXJhdGlvbmFsIFJlc2VhcmNoIiwKKSkKCkRCKENpdGF0aW9uKAogICAga2FybHN0cvZtMjAwMmEsIGZvcm1hbjE5OThhLCByZWY9IiIsCiAgICBjb250ZXh0cz1bCgogICAgXSwKKSkKCicnJywgY2l0YXRpb25zPSdrYXJsc3Ry9m0yMDAyYScpOw==\"));\n",
       "    "
      ],
      "text/plain": [
       "<IPython.core.display.Javascript object>"
      ]
     },
     "metadata": {},
     "output_type": "display_data"
    }
   ],
   "source": [
    "import importlib\n",
    "import custom_snowballing\n",
    "importlib.reload(custom_snowballing)\n",
    "from custom_snowballing import UnrelatedBackward\n",
    "UnrelatedBackward(\"karlström2002a\", articles=article_list)"
   ]
  },
  {
   "cell_type": "code",
   "execution_count": 15,
   "metadata": {},
   "outputs": [
    {
     "name": "stdout",
     "output_type": "stream",
     "text": [
      "-Insert: forman1998a\n",
      "-Insert Import: forman1998a\n",
      "-Insert Citation: karlström2002a -> forman1998a\n"
     ]
    }
   ],
   "source": [
    "# Temp\n",
    "insert('''\n",
    "forman1998a = DB(WorkUnrelated(\n",
    "    1998, \"Aggregating individual judgments and priorities with the Analytic Hierarchy Process\",\n",
    "    display=\"forman\",\n",
    "    authors=\"Forman, E. and Peniwati, K.\",\n",
    "    place=FAKE,\n",
    "    pp=\"165-169\",\n",
    "    entrytype=\"article\",\n",
    "    volume=\"108\",\n",
    "    number=\"1\",\n",
    "    doi=\"10.1016/S0377-2217(97)00244-0\",\n",
    "    note=\"cited By 420\",\n",
    "    ID=\"Forman1998165\",\n",
    "    placex=\"European Journal of Operational Research\",\n",
    "))\n",
    "\n",
    "DB(Citation(\n",
    "    karlström2002a, forman1998a, ref=\"\",\n",
    "    contexts=[\n",
    "\n",
    "    ],\n",
    "))\n",
    "\n",
    "''', citations='karlström2002a');"
   ]
  },
  {
   "cell_type": "code",
   "execution_count": null,
   "metadata": {
    "collapsed": true
   },
   "outputs": [],
   "source": []
  }
 ],
 "metadata": {
  "kernelspec": {
   "display_name": "Python 3",
   "language": "python",
   "name": "python3"
  },
  "language_info": {
   "codemirror_mode": {
    "name": "ipython",
    "version": 3
   },
   "file_extension": ".py",
   "mimetype": "text/x-python",
   "name": "python",
   "nbconvert_exporter": "python",
   "pygments_lexer": "ipython3",
   "version": "3.6.0"
  },
  "toc": {
   "nav_menu": {
    "height": "12px",
    "width": "252px"
   },
   "number_sections": true,
   "sideBar": true,
   "skip_h1_title": false,
   "toc_cell": false,
   "toc_position": {},
   "toc_section_display": "block",
   "toc_window_display": false
  }
 },
 "nbformat": 4,
 "nbformat_minor": 2
}
