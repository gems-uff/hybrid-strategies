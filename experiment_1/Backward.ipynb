{
 "cells": [
  {
   "cell_type": "code",
   "execution_count": 1,
   "metadata": {
    "collapsed": true
   },
   "outputs": [],
   "source": [
    "import database\n",
    "from snowballing.operations import load_work, reload, work_by_varname\n",
    "from snowballing.snowballing import Converter\n",
    "from snowballing.dbmanager import insert, set_attribute"
   ]
  },
  {
   "cell_type": "code",
   "execution_count": 2,
   "metadata": {
    "scrolled": false
   },
   "outputs": [
    {
     "data": {
      "application/vnd.jupyter.widget-view+json": {
       "model_id": "a6fe238ffff24d41b960cc892a8470cc",
       "version_major": 2,
       "version_minor": 0
      },
      "text/html": [
       "<p>Failed to display Jupyter Widget of type <code>VBox</code>.</p>\n",
       "<p>\n",
       "  If you're reading this message in Jupyter Notebook or JupyterLab, it may mean\n",
       "  that the widgets JavaScript is still loading. If this message persists, it\n",
       "  likely means that the widgets JavaScript library is either not installed or\n",
       "  not enabled. See the <a href=\"https://ipywidgets.readthedocs.io/en/stable/user_install.html\">Jupyter\n",
       "  Widgets Documentation</a> for setup instructions.\n",
       "</p>\n",
       "<p>\n",
       "  If you're reading this message in another notebook frontend (for example, a static\n",
       "  rendering on GitHub or <a href=\"https://nbviewer.jupyter.org/\">NBViewer</a>),\n",
       "  it may mean that your frontend doesn't currently support widgets.\n",
       "</p>\n"
      ],
      "text/plain": [
       "VBox(children=(HBox(children=(Dropdown(index=1, options={'BibTeX': 'bibtex', 'Text': 'text', '[N] author name place other year': 'citation', 'Quoted': 'quoted'}, value='text'), Button(description='Set article_list variable', disabled=True, style=ButtonStyle()), Label(value=''))), HBox(children=(Textarea(value='', layout=Layout(height='500px', width='50%')), Textarea(value='', layout=Layout(height='500px', width='50%'))))))"
      ]
     },
     "metadata": {},
     "output_type": "display_data"
    }
   ],
   "source": [
    "Converter().browser()"
   ]
  },
  {
   "cell_type": "code",
   "execution_count": 3,
   "metadata": {},
   "outputs": [
    {
     "data": {
      "text/plain": [
       "14"
      ]
     },
     "execution_count": 3,
     "metadata": {},
     "output_type": "execute_result"
    }
   ],
   "source": [
    "len(article_list)"
   ]
  },
  {
   "cell_type": "code",
   "execution_count": null,
   "metadata": {
    "collapsed": true
   },
   "outputs": [],
   "source": [
    "#from database.work.y2015 import li2015a"
   ]
  },
  {
   "cell_type": "code",
   "execution_count": null,
   "metadata": {
    "collapsed": true
   },
   "outputs": [],
   "source": [
    "#int(getattr(li2015a, 'scopus', 0))"
   ]
  },
  {
   "cell_type": "code",
   "execution_count": null,
   "metadata": {},
   "outputs": [],
   "source": [
    "#print(article_list)"
   ]
  },
  {
   "cell_type": "code",
   "execution_count": null,
   "metadata": {
    "collapsed": true
   },
   "outputs": [],
   "source": []
  },
  {
   "cell_type": "code",
   "execution_count": 4,
   "metadata": {},
   "outputs": [
    {
     "data": {
      "application/vnd.jupyter.widget-view+json": {
       "model_id": "9f742da3c7234c09b83105c230599a70",
       "version_major": 2,
       "version_minor": 0
      },
      "text/html": [
       "<p>Failed to display Jupyter Widget of type <code>VBox</code>.</p>\n",
       "<p>\n",
       "  If you're reading this message in Jupyter Notebook or JupyterLab, it may mean\n",
       "  that the widgets JavaScript is still loading. If this message persists, it\n",
       "  likely means that the widgets JavaScript library is either not installed or\n",
       "  not enabled. See the <a href=\"https://ipywidgets.readthedocs.io/en/stable/user_install.html\">Jupyter\n",
       "  Widgets Documentation</a> for setup instructions.\n",
       "</p>\n",
       "<p>\n",
       "  If you're reading this message in another notebook frontend (for example, a static\n",
       "  rendering on GitHub or <a href=\"https://nbviewer.jupyter.org/\">NBViewer</a>),\n",
       "  it may mean that your frontend doesn't currently support widgets.\n",
       "</p>\n"
      ],
      "text/plain": [
       "VBox(children=(HBox(children=(Button(description='Previous Article', disabled=True, icon='caret-left', style=ButtonStyle()), Button(description='Reload Article', icon='refresh', style=ButtonStyle()), Button(description='Next Article', icon='caret-right', style=ButtonStyle()))), HBox(children=(Button(description='Unrelated: Scripts', style=ButtonStyle()), Button(description='Unrelated: Provenance', style=ButtonStyle()), Button(description='Both', style=ButtonStyle()), Button(description='Ok', style=ButtonStyle()))), HBox(children=(Dropdown(description='Type', index=5, options=('Work', 'WorkSnowball', 'WorkForward', 'WorkBackward', 'WorkOk', 'WorkUnrelated', 'WorkNoFile', 'WorkLang', 'Site', 'Email'), value='WorkUnrelated'), ToggleButton(value=False, description='File'))), HBox(children=(Text(value='', description='Due'), Text(value='', description='Place'))), HBox(children=(Text(value='', description='Year'), Text(value='', description='Prefix Var'))), HBox(children=(Text(value='', description='PDFPage'), Text(value='', description='Related'))), HBox(children=(Text(value='', description='Display'), Text(value='', description='Summary'))), HBox(children=(Text(value='', description='Star'), Text(value='', description='Link'))), HBox(children=(Button(description='Reload Article', icon='refresh', style=ButtonStyle()), IntSlider(value=0, max=13), Label(value='1/14'))), Output()))"
      ]
     },
     "metadata": {},
     "output_type": "display_data"
    },
    {
     "data": {
      "application/javascript": [
       "$('span:contains(\"# Temp\")').closest('.cell').remove();"
      ],
      "text/plain": [
       "<IPython.core.display.Javascript object>"
      ]
     },
     "metadata": {},
     "output_type": "display_data"
    },
    {
     "data": {
      "application/javascript": [
       "\n",
       "        $('span:contains(\"# Temp\")').closest('.cell').remove();\n",
       "        var code = IPython.notebook.insert_cell_below('code');\n",
       "        code.set_text(atob(\"IyBUZW1wCmluc2VydCgnJycKaXRpbDE5ODlhID0gREIoV29ya1VucmVsYXRlZCgKICAgIDE5ODksICJJVElMIC0gVGhlIEluZm9ybWF0aW9uIFRlY2hub2xvZ3kgSW5mcmFzdHJ1Y3R1cmUgTGlicmFyeSIsCiAgICBkaXNwbGF5PSJpdGlsIiwKICAgIGF1dGhvcnM9Iml0aWwiLAogICAgcGxhY2U9RkFLRSwKICAgIGVudHJ5dHlwZT0iYXJ0aWNsZSIsCiAgICBub3RlPSJjaXRlZCBCeSAxIiwKICAgIElEPSJpdGlsMTk4OSIsCiAgICBwbGFjZXg9IkhNU08iLAopKQoKREIoQ2l0YXRpb24oCiAgICByZWlibGVpbjE5OTdhLCBpdGlsMTk4OWEsIHJlZj0iIiwKICAgIGNvbnRleHRzPVsKCiAgICBdLAopKQoKJycnLCBjaXRhdGlvbnM9J3JlaWJsZWluMTk5N2EnKTs=\"));\n",
       "    "
      ],
      "text/plain": [
       "<IPython.core.display.Javascript object>"
      ]
     },
     "metadata": {},
     "output_type": "display_data"
    },
    {
     "data": {
      "application/javascript": [
       "$('span:contains(\"# Temp\")').closest('.cell').remove();"
      ],
      "text/plain": [
       "<IPython.core.display.Javascript object>"
      ]
     },
     "metadata": {},
     "output_type": "display_data"
    },
    {
     "data": {
      "application/javascript": [
       "\n",
       "        $('span:contains(\"# Temp\")').closest('.cell').remove();\n",
       "        var code = IPython.notebook.insert_cell_below('code');\n",
       "        code.set_text(atob(\"IyBUZW1wCmluc2VydCgnJycKbWlsbGVyMTk5NWEgPSBEQihXb3JrVW5yZWxhdGVkKAogICAgMTk5NSwgIlRoZSBRdWFudHVtIFN0dWR5IiwKICAgIGRpc3BsYXk9Im1pbGxlciIsCiAgICBhdXRob3JzPSJNaWxsZXIsIEMuIiwKICAgIHBsYWNlPUZBS0UsCiAgICBwcD0iNDc1LTQ4NyIsCiAgICBlbnRyeXR5cGU9ImFydGljbGUiLAogICAgbm90ZT0iY2l0ZWQgQnkgMSIsCiAgICBJRD0iTWlsbGVyMTk5NTQ3NSIsCiAgICBwbGFjZXg9IlNvZnR3YXJlIFF1YWxpdHkgTWFuYWdlbWVudCBJSSIsCikpCgpEQihDaXRhdGlvbigKICAgIHJlaWJsZWluMTk5N2EsIG1pbGxlcjE5OTVhLCByZWY9IiIsCiAgICBjb250ZXh0cz1bCgogICAgXSwKKSkKCicnJywgY2l0YXRpb25zPSdyZWlibGVpbjE5OTdhJyk7\"));\n",
       "    "
      ],
      "text/plain": [
       "<IPython.core.display.Javascript object>"
      ]
     },
     "metadata": {},
     "output_type": "display_data"
    },
    {
     "data": {
      "application/javascript": [
       "$('span:contains(\"# Temp\")').closest('.cell').remove();"
      ],
      "text/plain": [
       "<IPython.core.display.Javascript object>"
      ]
     },
     "metadata": {},
     "output_type": "display_data"
    },
    {
     "data": {
      "application/javascript": [
       "\n",
       "        $('span:contains(\"# Temp\")').closest('.cell').remove();\n",
       "        var code = IPython.notebook.insert_cell_below('code');\n",
       "        code.set_text(atob(\"IyBUZW1wCmluc2VydCgnJycKbWlsbGVyMTk5NWEgPSBEQihXb3JrVW5yZWxhdGVkKAogICAgMTk5NSwgIlRoZSBRdWFudHVtIFN0dWR5IiwKICAgIGRpc3BsYXk9Im1pbGxlciIsCiAgICBhdXRob3JzPSJNaWxsZXIsIEMuIiwKICAgIHBsYWNlPUZBS0UsCiAgICBwcD0iNDc1LTQ4NyIsCiAgICBlbnRyeXR5cGU9ImFydGljbGUiLAogICAgbm90ZT0iY2l0ZWQgQnkgMSIsCiAgICBJRD0iTWlsbGVyMTk5NTQ3NSIsCiAgICBwbGFjZXg9IlNvZnR3YXJlIFF1YWxpdHkgTWFuYWdlbWVudCBJSSIsCikpCgpEQihDaXRhdGlvbigKICAgIHJlaWJsZWluMTk5N2EsIG1pbGxlcjE5OTVhLCByZWY9IiIsCiAgICBjb250ZXh0cz1bCgogICAgXSwKKSkKCicnJywgY2l0YXRpb25zPSdyZWlibGVpbjE5OTdhJyk7\"));\n",
       "    "
      ],
      "text/plain": [
       "<IPython.core.display.Javascript object>"
      ]
     },
     "metadata": {},
     "output_type": "display_data"
    },
    {
     "data": {
      "application/javascript": [
       "$('span:contains(\"# Temp\")').closest('.cell').remove();"
      ],
      "text/plain": [
       "<IPython.core.display.Javascript object>"
      ]
     },
     "metadata": {},
     "output_type": "display_data"
    },
    {
     "data": {
      "application/javascript": [
       "\n",
       "        $('span:contains(\"# Temp\")').closest('.cell').remove();\n",
       "        var code = IPython.notebook.insert_cell_below('code');\n",
       "        code.set_text(atob(\"IyBUZW1wCmluc2VydCgnJycKaGlubGV5MTk5N2EgPSBEQihXb3JrVW5yZWxhdGVkKAogICAgMTk5NywgIkEgZ29hbC1vcmllbnRlZCBhcHByb2FjaCBmb3IgbWFuYWdpbmcgc29mdHdhcmUgcHJvY2VzcyBjaGFuZ2UiLAogICAgZGlzcGxheT0iaGlubGV5IiwKICAgIGF1dGhvcnM9IkhpbmxleSwgRC5TLiBhbmQgUmVpYmxlaW4sIFMuIiwKICAgIHBsYWNlPUZBS0UsCiAgICBlbnRyeXR5cGU9ImFydGljbGUiLAogICAgdm9sdW1lPSIxIiwKICAgIG5vdGU9ImNpdGVkIEJ5IDEiLAogICAgSUQ9IkhpbmxleTE5OTciLAogICAgcGxhY2V4PSJTb2Z0d2FyZSBRdWFsaXR5IE1hbmFnZW1lbnQgSUlJIiwKKSkKCkRCKENpdGF0aW9uKAogICAgcmVpYmxlaW4xOTk3YSwgaGlubGV5MTk5N2EsIHJlZj0iIiwKICAgIGNvbnRleHRzPVsKCiAgICBdLAopKQoKJycnLCBjaXRhdGlvbnM9J3JlaWJsZWluMTk5N2EnKTs=\"));\n",
       "    "
      ],
      "text/plain": [
       "<IPython.core.display.Javascript object>"
      ]
     },
     "metadata": {},
     "output_type": "display_data"
    },
    {
     "data": {
      "application/javascript": [
       "$('span:contains(\"# Temp\")').closest('.cell').remove();"
      ],
      "text/plain": [
       "<IPython.core.display.Javascript object>"
      ]
     },
     "metadata": {},
     "output_type": "display_data"
    },
    {
     "data": {
      "application/javascript": [
       "\n",
       "        $('span:contains(\"# Temp\")').closest('.cell').remove();\n",
       "        var code = IPython.notebook.insert_cell_below('code');\n",
       "        code.set_text(atob(\"IyBUZW1wCmluc2VydCgnJycKaGlubGV5MTk5N2EgPSBEQihXb3JrVW5yZWxhdGVkKAogICAgMTk5NywgIkEgZ29hbC1vcmllbnRlZCBhcHByb2FjaCBmb3IgbWFuYWdpbmcgc29mdHdhcmUgcHJvY2VzcyBjaGFuZ2UiLAogICAgZGlzcGxheT0iaGlubGV5IiwKICAgIGF1dGhvcnM9IkhpbmxleSwgRC5TLiBhbmQgUmVpYmxlaW4sIFMuIiwKICAgIHBsYWNlPUZBS0UsCiAgICBlbnRyeXR5cGU9ImFydGljbGUiLAogICAgdm9sdW1lPSIxIiwKICAgIG5vdGU9ImNpdGVkIEJ5IDEiLAogICAgSUQ9IkhpbmxleTE5OTciLAogICAgcGxhY2V4PSJTb2Z0d2FyZSBRdWFsaXR5IE1hbmFnZW1lbnQgSUlJIiwKKSkKCkRCKENpdGF0aW9uKAogICAgcmVpYmxlaW4xOTk3YSwgaGlubGV5MTk5N2EsIHJlZj0iIiwKICAgIGNvbnRleHRzPVsKCiAgICBdLAopKQoKJycnLCBjaXRhdGlvbnM9J3JlaWJsZWluMTk5N2EnKTs=\"));\n",
       "    "
      ],
      "text/plain": [
       "<IPython.core.display.Javascript object>"
      ]
     },
     "metadata": {},
     "output_type": "display_data"
    },
    {
     "data": {
      "application/javascript": [
       "$('span:contains(\"# Temp\")').closest('.cell').remove();"
      ],
      "text/plain": [
       "<IPython.core.display.Javascript object>"
      ]
     },
     "metadata": {},
     "output_type": "display_data"
    },
    {
     "data": {
      "application/javascript": [
       "\n",
       "        $('span:contains(\"# Temp\")').closest('.cell').remove();\n",
       "        var code = IPython.notebook.insert_cell_below('code');\n",
       "        code.set_text(atob(\"IyBUZW1wCmluc2VydCgnJycKa2FwbGFuMTk5M2EgPSBEQihXb3JrVW5yZWxhdGVkKAogICAgMTk5MywgIlB1dHRpbmcgdGhlIGJhbGFuY2VkIHNjb3JlY2FyZCB0byB3b3JrIiwKICAgIGRpc3BsYXk9ImthcGxhbiIsCiAgICBhdXRob3JzPSJLYXBsYW4sIFIuUy4gYW5kIE5vcnRvbiwgRC5QLiIsCiAgICBwbGFjZT1GQUtFLAogICAgcHA9IjEzNC0xNDciLAogICAgZW50cnl0eXBlPSJhcnRpY2xlIiwKICAgIG51bWJlcj0iNSIsCiAgICBub3RlPSJjaXRlZCBCeSAxMDEwIiwKICAgIElEPSJLYXBsYW4xOTkzMTM0IiwKICAgIHBsYWNleD0iSGFydmFyZCBCdXNpbmVzcyBSZXZpZXciLAopKQoKREIoQ2l0YXRpb24oCiAgICByZWlibGVpbjE5OTdhLCBrYXBsYW4xOTkzYSwgcmVmPSIiLAogICAgY29udGV4dHM9WwoKICAgIF0sCikpCgonJycsIGNpdGF0aW9ucz0ncmVpYmxlaW4xOTk3YScpOw==\"));\n",
       "    "
      ],
      "text/plain": [
       "<IPython.core.display.Javascript object>"
      ]
     },
     "metadata": {},
     "output_type": "display_data"
    },
    {
     "data": {
      "application/javascript": [
       "$('span:contains(\"# Temp\")').closest('.cell').remove();"
      ],
      "text/plain": [
       "<IPython.core.display.Javascript object>"
      ]
     },
     "metadata": {},
     "output_type": "display_data"
    },
    {
     "data": {
      "application/javascript": [
       "\n",
       "        $('span:contains(\"# Temp\")').closest('.cell').remove();\n",
       "        var code = IPython.notebook.insert_cell_below('code');\n",
       "        code.set_text(atob(\"IyBUZW1wCmluc2VydCgnJycKa2FwbGFuMTk5M2EgPSBEQihXb3JrVW5yZWxhdGVkKAogICAgMTk5MywgIlB1dHRpbmcgdGhlIGJhbGFuY2VkIHNjb3JlY2FyZCB0byB3b3JrIiwKICAgIGRpc3BsYXk9ImthcGxhbiIsCiAgICBhdXRob3JzPSJLYXBsYW4sIFIuUy4gYW5kIE5vcnRvbiwgRC5QLiIsCiAgICBwbGFjZT1GQUtFLAogICAgcHA9IjEzNC0xNDciLAogICAgZW50cnl0eXBlPSJhcnRpY2xlIiwKICAgIG51bWJlcj0iNSIsCiAgICBub3RlPSJjaXRlZCBCeSAxMDEwIiwKICAgIElEPSJLYXBsYW4xOTkzMTM0IiwKICAgIHBsYWNleD0iSGFydmFyZCBCdXNpbmVzcyBSZXZpZXciLAopKQoKREIoQ2l0YXRpb24oCiAgICByZWlibGVpbjE5OTdhLCBrYXBsYW4xOTkzYSwgcmVmPSIiLAogICAgY29udGV4dHM9WwoKICAgIF0sCikpCgonJycsIGNpdGF0aW9ucz0ncmVpYmxlaW4xOTk3YScpOw==\"));\n",
       "    "
      ],
      "text/plain": [
       "<IPython.core.display.Javascript object>"
      ]
     },
     "metadata": {},
     "output_type": "display_data"
    },
    {
     "data": {
      "application/javascript": [
       "$('span:contains(\"# Temp\")').closest('.cell').remove();"
      ],
      "text/plain": [
       "<IPython.core.display.Javascript object>"
      ]
     },
     "metadata": {},
     "output_type": "display_data"
    },
    {
     "data": {
      "application/javascript": [
       "\n",
       "        $('span:contains(\"# Temp\")').closest('.cell').remove();\n",
       "        var code = IPython.notebook.insert_cell_below('code');\n",
       "        code.set_text(atob(\"IyBUZW1wCmluc2VydCgnJycKa2FwbGFuMTk5NmIgPSBEQihXb3JrVW5yZWxhdGVkKAogICAgMTk5NiwgIkxpbmtpbmcgdGhlIGJhbGFuY2VkIHNjb3JlY2FyZCB0byBzdHJhdGVneSIsCiAgICBkaXNwbGF5PSJrYXBsYW4gYiIsCiAgICBhdXRob3JzPSJLYXBsYW4sIFIuUy4gYW5kIE5vcnRvbiwgRC5QLiIsCiAgICBwbGFjZT1GQUtFLAogICAgZW50cnl0eXBlPSJhcnRpY2xlIiwKICAgIHZvbHVtZT0iNzQiLAogICAgbm90ZT0iY2l0ZWQgQnkgMSIsCiAgICBJRD0iS2FwbGFuMTk5NiIsCiAgICBwbGFjZXg9IkhhcnZhcmQgQnVzaW5lc3MgUmV2aWV3IiwKKSkKCkRCKENpdGF0aW9uKAogICAgcmVpYmxlaW4xOTk3YSwga2FwbGFuMTk5NmIsIHJlZj0iIiwKICAgIGNvbnRleHRzPVsKCiAgICBdLAopKQoKJycnLCBjaXRhdGlvbnM9J3JlaWJsZWluMTk5N2EnKTs=\"));\n",
       "    "
      ],
      "text/plain": [
       "<IPython.core.display.Javascript object>"
      ]
     },
     "metadata": {},
     "output_type": "display_data"
    },
    {
     "data": {
      "application/javascript": [
       "$('span:contains(\"# Temp\")').closest('.cell').remove();"
      ],
      "text/plain": [
       "<IPython.core.display.Javascript object>"
      ]
     },
     "metadata": {},
     "output_type": "display_data"
    },
    {
     "data": {
      "application/javascript": [
       "\n",
       "        $('span:contains(\"# Temp\")').closest('.cell').remove();\n",
       "        var code = IPython.notebook.insert_cell_below('code');\n",
       "        code.set_text(atob(\"IyBUZW1wCmluc2VydCgnJycKa2FwbGFuMTk5NmIgPSBEQihXb3JrVW5yZWxhdGVkKAogICAgMTk5NiwgIkxpbmtpbmcgdGhlIGJhbGFuY2VkIHNjb3JlY2FyZCB0byBzdHJhdGVneSIsCiAgICBkaXNwbGF5PSJrYXBsYW4gYiIsCiAgICBhdXRob3JzPSJLYXBsYW4sIFIuUy4gYW5kIE5vcnRvbiwgRC5QLiIsCiAgICBwbGFjZT1GQUtFLAogICAgZW50cnl0eXBlPSJhcnRpY2xlIiwKICAgIHZvbHVtZT0iNzQiLAogICAgbm90ZT0iY2l0ZWQgQnkgMSIsCiAgICBJRD0iS2FwbGFuMTk5NiIsCiAgICBwbGFjZXg9IkhhcnZhcmQgQnVzaW5lc3MgUmV2aWV3IiwKKSkKCkRCKENpdGF0aW9uKAogICAgcmVpYmxlaW4xOTk3YSwga2FwbGFuMTk5NmIsIHJlZj0iIiwKICAgIGNvbnRleHRzPVsKCiAgICBdLAopKQoKJycnLCBjaXRhdGlvbnM9J3JlaWJsZWluMTk5N2EnKTs=\"));\n",
       "    "
      ],
      "text/plain": [
       "<IPython.core.display.Javascript object>"
      ]
     },
     "metadata": {},
     "output_type": "display_data"
    },
    {
     "data": {
      "application/javascript": [
       "$('span:contains(\"# Temp\")').closest('.cell').remove();"
      ],
      "text/plain": [
       "<IPython.core.display.Javascript object>"
      ]
     },
     "metadata": {},
     "output_type": "display_data"
    },
    {
     "data": {
      "application/javascript": [
       "\n",
       "        $('span:contains(\"# Temp\")').closest('.cell').remove();\n",
       "        var code = IPython.notebook.insert_cell_below('code');\n",
       "        code.set_text(atob(\"IyBUZW1wCmluc2VydCgnJycKZGVtaW5nMTk4NmEgPSBEQihXb3JrVW5yZWxhdGVkKAogICAgMTk4NiwgIk91dCBvZiBjcmlzaXM6IFF1YWxpdHksIHByb2R1Y3Rpdml0eSBhbmQgY29tcGV0aXRpdmUgcG9zaXRpb24iLAogICAgZGlzcGxheT0iZGVtaW5nIiwKICAgIGF1dGhvcnM9IkRlbWluZywgVy5FLiIsCiAgICBwbGFjZT1GQUtFLAogICAgZW50cnl0eXBlPSJhcnRpY2xlIiwKICAgIG5vdGU9ImNpdGVkIEJ5IDMzMSIsCiAgICBJRD0iRGVtaW5nMTk4NiIsCiAgICBwbGFjZXg9IkNhbWJyaWRnZSBVbml2ZXJzaXR5IFByZXNzIiwKKSkKCkRCKENpdGF0aW9uKAogICAgcmVpYmxlaW4xOTk3YSwgZGVtaW5nMTk4NmEsIHJlZj0iIiwKICAgIGNvbnRleHRzPVsKCiAgICBdLAopKQoKJycnLCBjaXRhdGlvbnM9J3JlaWJsZWluMTk5N2EnKTs=\"));\n",
       "    "
      ],
      "text/plain": [
       "<IPython.core.display.Javascript object>"
      ]
     },
     "metadata": {},
     "output_type": "display_data"
    },
    {
     "data": {
      "application/javascript": [
       "$('span:contains(\"# Temp\")').closest('.cell').remove();"
      ],
      "text/plain": [
       "<IPython.core.display.Javascript object>"
      ]
     },
     "metadata": {},
     "output_type": "display_data"
    },
    {
     "data": {
      "application/javascript": [
       "\n",
       "        $('span:contains(\"# Temp\")').closest('.cell').remove();\n",
       "        var code = IPython.notebook.insert_cell_below('code');\n",
       "        code.set_text(atob(\"IyBUZW1wCmluc2VydCgnJycKZGVtaW5nMTk4NmEgPSBEQihXb3JrVW5yZWxhdGVkKAogICAgMTk4NiwgIk91dCBvZiBjcmlzaXM6IFF1YWxpdHksIHByb2R1Y3Rpdml0eSBhbmQgY29tcGV0aXRpdmUgcG9zaXRpb24iLAogICAgZGlzcGxheT0iZGVtaW5nIiwKICAgIGF1dGhvcnM9IkRlbWluZywgVy5FLiIsCiAgICBwbGFjZT1GQUtFLAogICAgZW50cnl0eXBlPSJhcnRpY2xlIiwKICAgIG5vdGU9ImNpdGVkIEJ5IDMzMSIsCiAgICBJRD0iRGVtaW5nMTk4NiIsCiAgICBwbGFjZXg9IkNhbWJyaWRnZSBVbml2ZXJzaXR5IFByZXNzIiwKKSkKCkRCKENpdGF0aW9uKAogICAgcmVpYmxlaW4xOTk3YSwgZGVtaW5nMTk4NmEsIHJlZj0iIiwKICAgIGNvbnRleHRzPVsKCiAgICBdLAopKQoKJycnLCBjaXRhdGlvbnM9J3JlaWJsZWluMTk5N2EnKTs=\"));\n",
       "    "
      ],
      "text/plain": [
       "<IPython.core.display.Javascript object>"
      ]
     },
     "metadata": {},
     "output_type": "display_data"
    },
    {
     "data": {
      "application/javascript": [
       "$('span:contains(\"# Temp\")').closest('.cell').remove();"
      ],
      "text/plain": [
       "<IPython.core.display.Javascript object>"
      ]
     },
     "metadata": {},
     "output_type": "display_data"
    },
    {
     "data": {
      "application/javascript": [
       "\n",
       "        $('span:contains(\"# Temp\")').closest('.cell').remove();\n",
       "        var code = IPython.notebook.insert_cell_below('code');\n",
       "        code.set_text(atob(\"IyBUZW1wCmluc2VydCgnJycKdmxhc3ZlbGQxOTk1YSA9IERCKFdvcmtVbnJlbGF0ZWQoCiAgICAxOTk1LCAiSU1QUkVTUzogVG8gcGx1ZyBhbmQgaW1wcm92ZSIsCiAgICBkaXNwbGF5PSJ2bGFzdmVsZCIsCiAgICBhdXRob3JzPSJWbGFzdmVsZCwgRy4tSi4iLAogICAgcGxhY2U9RkFLRSwKICAgIHBwPSI1My01NyIsCiAgICBlbnRyeXR5cGU9ImFydGljbGUiLAogICAgdm9sdW1lPSIyIiwKICAgIG5vdGU9ImNpdGVkIEJ5IDEiLAogICAgSUQ9IlZsYXN2ZWxkMTk5NTUzIiwKICAgIHBsYWNleD0iU29mdHdhcmUgUXVhbGl0eSBNYW5hZ2VtZW50IElWIiwKKSkKCkRCKENpdGF0aW9uKAogICAgcmVpYmxlaW4xOTk3YSwgdmxhc3ZlbGQxOTk1YSwgcmVmPSIiLAogICAgY29udGV4dHM9WwoKICAgIF0sCikpCgonJycsIGNpdGF0aW9ucz0ncmVpYmxlaW4xOTk3YScpOw==\"));\n",
       "    "
      ],
      "text/plain": [
       "<IPython.core.display.Javascript object>"
      ]
     },
     "metadata": {},
     "output_type": "display_data"
    },
    {
     "data": {
      "application/javascript": [
       "$('span:contains(\"# Temp\")').closest('.cell').remove();"
      ],
      "text/plain": [
       "<IPython.core.display.Javascript object>"
      ]
     },
     "metadata": {},
     "output_type": "display_data"
    },
    {
     "data": {
      "application/javascript": [
       "\n",
       "        $('span:contains(\"# Temp\")').closest('.cell').remove();\n",
       "        var code = IPython.notebook.insert_cell_below('code');\n",
       "        code.set_text(atob(\"IyBUZW1wCmluc2VydCgnJycKdmxhc3ZlbGQxOTk1YSA9IERCKFdvcmtVbnJlbGF0ZWQoCiAgICAxOTk1LCAiSU1QUkVTUzogVG8gcGx1ZyBhbmQgaW1wcm92ZSIsCiAgICBkaXNwbGF5PSJ2bGFzdmVsZCIsCiAgICBhdXRob3JzPSJWbGFzdmVsZCwgRy4tSi4iLAogICAgcGxhY2U9RkFLRSwKICAgIHBwPSI1My01NyIsCiAgICBlbnRyeXR5cGU9ImFydGljbGUiLAogICAgdm9sdW1lPSIyIiwKICAgIG5vdGU9ImNpdGVkIEJ5IDEiLAogICAgSUQ9IlZsYXN2ZWxkMTk5NTUzIiwKICAgIHBsYWNleD0iU29mdHdhcmUgUXVhbGl0eSBNYW5hZ2VtZW50IElWIiwKKSkKCkRCKENpdGF0aW9uKAogICAgcmVpYmxlaW4xOTk3YSwgdmxhc3ZlbGQxOTk1YSwgcmVmPSIiLAogICAgY29udGV4dHM9WwoKICAgIF0sCikpCgonJycsIGNpdGF0aW9ucz0ncmVpYmxlaW4xOTk3YScpOw==\"));\n",
       "    "
      ],
      "text/plain": [
       "<IPython.core.display.Javascript object>"
      ]
     },
     "metadata": {},
     "output_type": "display_data"
    },
    {
     "data": {
      "application/javascript": [
       "$('span:contains(\"# Temp\")').closest('.cell').remove();"
      ],
      "text/plain": [
       "<IPython.core.display.Javascript object>"
      ]
     },
     "metadata": {},
     "output_type": "display_data"
    },
    {
     "data": {
      "application/javascript": [
       "\n",
       "        $('span:contains(\"# Temp\")').closest('.cell').remove();\n",
       "        var code = IPython.notebook.insert_cell_below('code');\n",
       "        code.set_text(atob(\"IyBUZW1wCmluc2VydCgnJycKaXNvMTk5NGEgPSBEQihXb3JrVW5yZWxhdGVkKAogICAgMTk5NCwgIkd1aWRlbGluZXMgZm9yIEF1ZGl0aW5nIFF1YWxpdHkgU3lzdGVtcyIsCiAgICBkaXNwbGF5PSJpc28iLAogICAgYXV0aG9ycz0iaXNvIiwKICAgIHBsYWNlPUZBS0UsCiAgICBlbnRyeXR5cGU9ImFydGljbGUiLAogICAgbnVtYmVyPSIxLTMgUEFSVFMiLAogICAgbm90ZT0iY2l0ZWQgQnkgMSIsCiAgICBJRD0iaXNvMTk5NCIsCiAgICBwbGFjZXg9IkdlbmV2YSwgU3dpdHplcmxhbmQsIElTTyAxMDExLTE6MTk5MChFKSwgSVNPIDEwMTEtMjoxOTkxKEUpLCBJU08gMTAxMS0zOjE5OTEoRSkiLAopKQoKREIoQ2l0YXRpb24oCiAgICByZWlibGVpbjE5OTdhLCBpc28xOTk0YSwgcmVmPSIiLAogICAgY29udGV4dHM9WwoKICAgIF0sCikpCgonJycsIGNpdGF0aW9ucz0ncmVpYmxlaW4xOTk3YScpOw==\"));\n",
       "    "
      ],
      "text/plain": [
       "<IPython.core.display.Javascript object>"
      ]
     },
     "metadata": {},
     "output_type": "display_data"
    },
    {
     "data": {
      "application/javascript": [
       "$('span:contains(\"# Temp\")').closest('.cell').remove();"
      ],
      "text/plain": [
       "<IPython.core.display.Javascript object>"
      ]
     },
     "metadata": {},
     "output_type": "display_data"
    },
    {
     "data": {
      "application/javascript": [
       "\n",
       "        $('span:contains(\"# Temp\")').closest('.cell').remove();\n",
       "        var code = IPython.notebook.insert_cell_below('code');\n",
       "        code.set_text(atob(\"IyBUZW1wCmluc2VydCgnJycKaXNvMTk5NGEgPSBEQihXb3JrVW5yZWxhdGVkKAogICAgMTk5NCwgIkd1aWRlbGluZXMgZm9yIEF1ZGl0aW5nIFF1YWxpdHkgU3lzdGVtcyIsCiAgICBkaXNwbGF5PSJpc28iLAogICAgYXV0aG9ycz0iaXNvIiwKICAgIHBsYWNlPUZBS0UsCiAgICBlbnRyeXR5cGU9ImFydGljbGUiLAogICAgbnVtYmVyPSIxLTMgUEFSVFMiLAogICAgbm90ZT0iY2l0ZWQgQnkgMSIsCiAgICBJRD0iaXNvMTk5NCIsCiAgICBwbGFjZXg9IkdlbmV2YSwgU3dpdHplcmxhbmQsIElTTyAxMDExLTE6MTk5MChFKSwgSVNPIDEwMTEtMjoxOTkxKEUpLCBJU08gMTAxMS0zOjE5OTEoRSkiLAopKQoKREIoQ2l0YXRpb24oCiAgICByZWlibGVpbjE5OTdhLCBpc28xOTk0YSwgcmVmPSIiLAogICAgY29udGV4dHM9WwoKICAgIF0sCikpCgonJycsIGNpdGF0aW9ucz0ncmVpYmxlaW4xOTk3YScpOw==\"));\n",
       "    "
      ],
      "text/plain": [
       "<IPython.core.display.Javascript object>"
      ]
     },
     "metadata": {},
     "output_type": "display_data"
    },
    {
     "data": {
      "application/javascript": [
       "$('span:contains(\"# Temp\")').closest('.cell').remove();"
      ],
      "text/plain": [
       "<IPython.core.display.Javascript object>"
      ]
     },
     "metadata": {},
     "output_type": "display_data"
    },
    {
     "data": {
      "application/javascript": [
       "\n",
       "        $('span:contains(\"# Temp\")').closest('.cell').remove();\n",
       "        var code = IPython.notebook.insert_cell_below('code');\n",
       "        code.set_text(atob(\"IyBUZW1wCmluc2VydCgnJycKdHJhZGUxOTkyYSA9IERCKFdvcmtVbnJlbGF0ZWQoCiAgICAxOTkyLCAiR3VpZGUgdG8gU29mdHdhcmUgUXVhbGl0eSBNYW5hZ2VtZW50IFN5c3RlbSBDb25zdHJ1Y3Rpb24gYW5kIENlcnRpZmljYXRpb24iLAogICAgZGlzcGxheT0idHJhZGUiLAogICAgYXV0aG9ycz0iRGVwYXJ0bWVudCBvZiBUcmFkZSBhbmQgSW5kdXN0cnkgLSBEVEkiLAogICAgcGxhY2U9RkFLRSwKICAgIGVudHJ5dHlwZT0iYXJ0aWNsZSIsCiAgICBub3RlPSJjaXRlZCBCeSAxIiwKICAgIElEPSJEVEkxOTkyIiwKICAgIHBsYWNleD0iQnJpdGlzaCBDb21wdXRlciBTb2NpZXR5IDI4IEZlYnJ1YXJ5IiwKKSkKCkRCKENpdGF0aW9uKAogICAgcmVpYmxlaW4xOTk3YSwgdHJhZGUxOTkyYSwgcmVmPSIiLAogICAgY29udGV4dHM9WwoKICAgIF0sCikpCgonJycsIGNpdGF0aW9ucz0ncmVpYmxlaW4xOTk3YScpOw==\"));\n",
       "    "
      ],
      "text/plain": [
       "<IPython.core.display.Javascript object>"
      ]
     },
     "metadata": {},
     "output_type": "display_data"
    },
    {
     "data": {
      "application/javascript": [
       "$('span:contains(\"# Temp\")').closest('.cell').remove();"
      ],
      "text/plain": [
       "<IPython.core.display.Javascript object>"
      ]
     },
     "metadata": {},
     "output_type": "display_data"
    },
    {
     "data": {
      "application/javascript": [
       "\n",
       "        $('span:contains(\"# Temp\")').closest('.cell').remove();\n",
       "        var code = IPython.notebook.insert_cell_below('code');\n",
       "        code.set_text(atob(\"IyBUZW1wCmluc2VydCgnJycKdHJhZGUxOTkyYSA9IERCKFdvcmtVbnJlbGF0ZWQoCiAgICAxOTkyLCAiR3VpZGUgdG8gU29mdHdhcmUgUXVhbGl0eSBNYW5hZ2VtZW50IFN5c3RlbSBDb25zdHJ1Y3Rpb24gYW5kIENlcnRpZmljYXRpb24iLAogICAgZGlzcGxheT0idHJhZGUiLAogICAgYXV0aG9ycz0iRGVwYXJ0bWVudCBvZiBUcmFkZSBhbmQgSW5kdXN0cnkgLSBEVEkiLAogICAgcGxhY2U9RkFLRSwKICAgIGVudHJ5dHlwZT0iYXJ0aWNsZSIsCiAgICBub3RlPSJjaXRlZCBCeSAxIiwKICAgIElEPSJEVEkxOTkyIiwKICAgIHBsYWNleD0iQnJpdGlzaCBDb21wdXRlciBTb2NpZXR5IDI4IEZlYnJ1YXJ5IiwKKSkKCkRCKENpdGF0aW9uKAogICAgcmVpYmxlaW4xOTk3YSwgdHJhZGUxOTkyYSwgcmVmPSIiLAogICAgY29udGV4dHM9WwoKICAgIF0sCikpCgonJycsIGNpdGF0aW9ucz0ncmVpYmxlaW4xOTk3YScpOw==\"));\n",
       "    "
      ],
      "text/plain": [
       "<IPython.core.display.Javascript object>"
      ]
     },
     "metadata": {},
     "output_type": "display_data"
    },
    {
     "data": {
      "application/javascript": [
       "$('span:contains(\"# Temp\")').closest('.cell').remove();"
      ],
      "text/plain": [
       "<IPython.core.display.Javascript object>"
      ]
     },
     "metadata": {},
     "output_type": "display_data"
    },
    {
     "data": {
      "application/javascript": [
       "\n",
       "        $('span:contains(\"# Temp\")').closest('.cell').remove();\n",
       "        var code = IPython.notebook.insert_cell_below('code');\n",
       "        code.set_text(atob(\"IyBUZW1wCmluc2VydCgnJycKREIoQ2l0YXRpb24oCiAgICByZWlibGVpbjE5OTdhLCBodW1waHJleTE5ODlhLCByZWY9IiIsCiAgICBjb250ZXh0cz1bCgogICAgXSwKKSkKCicnJywgY2l0YXRpb25zPSdyZWlibGVpbjE5OTdhJyk7\"));\n",
       "    "
      ],
      "text/plain": [
       "<IPython.core.display.Javascript object>"
      ]
     },
     "metadata": {},
     "output_type": "display_data"
    },
    {
     "data": {
      "application/javascript": [
       "$('span:contains(\"# Temp\")').closest('.cell').remove();"
      ],
      "text/plain": [
       "<IPython.core.display.Javascript object>"
      ]
     },
     "metadata": {},
     "output_type": "display_data"
    },
    {
     "data": {
      "application/javascript": [
       "\n",
       "        $('span:contains(\"# Temp\")').closest('.cell').remove();\n",
       "        var code = IPython.notebook.insert_cell_below('code');\n",
       "        code.set_text(atob(\"IyBUZW1wCmluc2VydCgnJycKREIoQ2l0YXRpb24oCiAgICByZWlibGVpbjE5OTdhLCBodW1waHJleTE5ODlhLCByZWY9IiIsCiAgICBjb250ZXh0cz1bCgogICAgXSwKKSkKCicnJywgY2l0YXRpb25zPSdyZWlibGVpbjE5OTdhJyk7\"));\n",
       "    "
      ],
      "text/plain": [
       "<IPython.core.display.Javascript object>"
      ]
     },
     "metadata": {},
     "output_type": "display_data"
    }
   ],
   "source": [
    "import importlib\n",
    "import custom_snowballing\n",
    "importlib.reload(custom_snowballing)\n",
    "from custom_snowballing import UnrelatedBackward\n",
    "UnrelatedBackward(\"reiblein1997a\", articles=article_list)"
   ]
  },
  {
   "cell_type": "code",
   "execution_count": null,
   "metadata": {
    "collapsed": true
   },
   "outputs": [],
   "source": [
    "# Temp\n",
    "insert('''\n",
    "DB(Citation(\n",
    "    reiblein1997a, humphrey1989a, ref=\"\",\n",
    "    contexts=[\n",
    "\n",
    "    ],\n",
    "))\n",
    "\n",
    "''', citations='reiblein1997a');"
   ]
  },
  {
   "cell_type": "code",
   "execution_count": null,
   "metadata": {
    "collapsed": true
   },
   "outputs": [],
   "source": []
  }
 ],
 "metadata": {
  "kernelspec": {
   "display_name": "Python 3",
   "language": "python",
   "name": "python3"
  },
  "language_info": {
   "codemirror_mode": {
    "name": "ipython",
    "version": 3
   },
   "file_extension": ".py",
   "mimetype": "text/x-python",
   "name": "python",
   "nbconvert_exporter": "python",
   "pygments_lexer": "ipython3",
   "version": "3.6.0"
  },
  "toc": {
   "nav_menu": {
    "height": "12px",
    "width": "252px"
   },
   "number_sections": true,
   "sideBar": true,
   "skip_h1_title": false,
   "toc_cell": false,
   "toc_position": {},
   "toc_section_display": "block",
   "toc_window_display": false
  }
 },
 "nbformat": 4,
 "nbformat_minor": 2
}
