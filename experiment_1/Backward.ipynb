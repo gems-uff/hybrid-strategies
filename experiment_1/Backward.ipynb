{
 "cells": [
  {
   "cell_type": "code",
   "execution_count": 28,
   "metadata": {
    "collapsed": true
   },
   "outputs": [],
   "source": [
    "import database\n",
    "from snowballing.operations import load_work, reload, work_by_varname\n",
    "from snowballing.snowballing import Converter\n",
    "from snowballing.dbmanager import insert, set_attribute"
   ]
  },
  {
   "cell_type": "code",
   "execution_count": 29,
   "metadata": {
    "scrolled": true
   },
   "outputs": [
    {
     "data": {
      "application/vnd.jupyter.widget-view+json": {
       "model_id": "a6c36e9b417d4da9bfa1689f16bb723b",
       "version_major": 2,
       "version_minor": 0
      },
      "text/html": [
       "<p>Failed to display Jupyter Widget of type <code>VBox</code>.</p>\n",
       "<p>\n",
       "  If you're reading this message in Jupyter Notebook or JupyterLab, it may mean\n",
       "  that the widgets JavaScript is still loading. If this message persists, it\n",
       "  likely means that the widgets JavaScript library is either not installed or\n",
       "  not enabled. See the <a href=\"https://ipywidgets.readthedocs.io/en/stable/user_install.html\">Jupyter\n",
       "  Widgets Documentation</a> for setup instructions.\n",
       "</p>\n",
       "<p>\n",
       "  If you're reading this message in another notebook frontend (for example, a static\n",
       "  rendering on GitHub or <a href=\"https://nbviewer.jupyter.org/\">NBViewer</a>),\n",
       "  it may mean that your frontend doesn't currently support widgets.\n",
       "</p>\n"
      ],
      "text/plain": [
       "VBox(children=(HBox(children=(Dropdown(index=1, options={'BibTeX': 'bibtex', 'Text': 'text', '[N] author name place other year': 'citation', 'Quoted': 'quoted'}, value='text'), Button(description='Set article_list variable', disabled=True, style=ButtonStyle()), Label(value=''))), HBox(children=(Textarea(value='', layout=Layout(height='500px', width='50%')), Textarea(value='', layout=Layout(height='500px', width='50%'))))))"
      ]
     },
     "metadata": {},
     "output_type": "display_data"
    }
   ],
   "source": [
    "Converter().browser()"
   ]
  },
  {
   "cell_type": "code",
   "execution_count": 30,
   "metadata": {},
   "outputs": [
    {
     "data": {
      "text/plain": [
       "15"
      ]
     },
     "execution_count": 30,
     "metadata": {},
     "output_type": "execute_result"
    }
   ],
   "source": [
    "len(article_list)"
   ]
  },
  {
   "cell_type": "code",
   "execution_count": null,
   "metadata": {
    "collapsed": true
   },
   "outputs": [],
   "source": [
    "#from database.work.y2015 import li2015a"
   ]
  },
  {
   "cell_type": "code",
   "execution_count": null,
   "metadata": {
    "collapsed": true
   },
   "outputs": [],
   "source": [
    "#int(getattr(li2015a, 'scopus', 0))"
   ]
  },
  {
   "cell_type": "code",
   "execution_count": null,
   "metadata": {},
   "outputs": [],
   "source": [
    "#print(article_list)"
   ]
  },
  {
   "cell_type": "code",
   "execution_count": null,
   "metadata": {
    "collapsed": true
   },
   "outputs": [],
   "source": []
  },
  {
   "cell_type": "code",
   "execution_count": 31,
   "metadata": {},
   "outputs": [
    {
     "data": {
      "application/vnd.jupyter.widget-view+json": {
       "model_id": "bd9920a831384eaf98dcb42688c85d27",
       "version_major": 2,
       "version_minor": 0
      },
      "text/html": [
       "<p>Failed to display Jupyter Widget of type <code>VBox</code>.</p>\n",
       "<p>\n",
       "  If you're reading this message in Jupyter Notebook or JupyterLab, it may mean\n",
       "  that the widgets JavaScript is still loading. If this message persists, it\n",
       "  likely means that the widgets JavaScript library is either not installed or\n",
       "  not enabled. See the <a href=\"https://ipywidgets.readthedocs.io/en/stable/user_install.html\">Jupyter\n",
       "  Widgets Documentation</a> for setup instructions.\n",
       "</p>\n",
       "<p>\n",
       "  If you're reading this message in another notebook frontend (for example, a static\n",
       "  rendering on GitHub or <a href=\"https://nbviewer.jupyter.org/\">NBViewer</a>),\n",
       "  it may mean that your frontend doesn't currently support widgets.\n",
       "</p>\n"
      ],
      "text/plain": [
       "VBox(children=(HBox(children=(Button(description='Previous Article', disabled=True, icon='caret-left', style=ButtonStyle()), Button(description='Reload Article', icon='refresh', style=ButtonStyle()), Button(description='Next Article', icon='caret-right', style=ButtonStyle()))), HBox(children=(Button(description='Unrelated: Scripts', style=ButtonStyle()), Button(description='Unrelated: Provenance', style=ButtonStyle()), Button(description='Both', style=ButtonStyle()), Button(description='Ok', style=ButtonStyle()))), HBox(children=(Dropdown(description='Type', index=5, options=('Work', 'WorkSnowball', 'WorkForward', 'WorkBackward', 'WorkOk', 'WorkUnrelated', 'WorkNoFile', 'WorkLang', 'Site', 'Email'), value='WorkUnrelated'), ToggleButton(value=False, description='File'))), HBox(children=(Text(value='', description='Due'), Text(value='', description='Place'))), HBox(children=(Text(value='', description='Year'), Text(value='', description='Prefix Var'))), HBox(children=(Text(value='', description='PDFPage'), Text(value='', description='Related'))), HBox(children=(Text(value='', description='Display'), Text(value='', description='Summary'))), HBox(children=(Text(value='', description='Star'), Text(value='', description='Link'))), HBox(children=(Button(description='Reload Article', icon='refresh', style=ButtonStyle()), IntSlider(value=0, max=14), Label(value='1/15'))), Output()))"
      ]
     },
     "metadata": {},
     "output_type": "display_data"
    },
    {
     "data": {
      "application/javascript": [
       "$('span:contains(\"# Temp\")').closest('.cell').remove();"
      ],
      "text/plain": [
       "<IPython.core.display.Javascript object>"
      ]
     },
     "metadata": {},
     "output_type": "display_data"
    },
    {
     "data": {
      "application/javascript": [
       "\n",
       "        $('span:contains(\"# Temp\")').closest('.cell').remove();\n",
       "        var code = IPython.notebook.insert_cell_below('code');\n",
       "        code.set_text(atob(\"IyBUZW1wCmluc2VydCgnJycKa3VydHoyMDAzYSA9IERCKFdvcmtVbnJlbGF0ZWQoCiAgICAyMDAzLCAiVGhlIG5ldyBkeW5hbWljcyBvZiBzdHJhdGVneTogU2Vuc2UtbWFraW5nIGluIGEgY29tcGxleCBhbmQgY29tcGxpY2F0ZWQgd29ybGQiLAogICAgZGlzcGxheT0ia3VydHoiLAogICAgYXV0aG9ycz0iS3VydHosIEMuRi4gYW5kIFNub3dkZW4sIEQuSi4iLAogICAgcGxhY2U9RkFLRSwKICAgIHBwPSI0NjItNDgzIiwKICAgIGVudHJ5dHlwZT0iYXJ0aWNsZSIsCiAgICB2b2x1bWU9IjQyIiwKICAgIG51bWJlcj0iMyIsCiAgICBkb2k9IjEwLjExNDcvc2ouNDIzLjA0NjIiLAogICAgbm90ZT0iY2l0ZWQgQnkgNDUyIiwKICAgIElEPSJLdXJ0ejIwMDM0NjIiLAogICAgcGxhY2V4PSJJQk0gU3lzdGVtcyBKb3VybmFsIiwKKSkKCkRCKENpdGF0aW9uKAogICAgb0Nvbm5vcjIwMTVhLCBrdXJ0ejIwMDNhLCByZWY9IiIsCiAgICBjb250ZXh0cz1bCgogICAgXSwKKSkKCicnJywgY2l0YXRpb25zPSdvQ29ubm9yMjAxNWEnKTs=\"));\n",
       "    "
      ],
      "text/plain": [
       "<IPython.core.display.Javascript object>"
      ]
     },
     "metadata": {},
     "output_type": "display_data"
    },
    {
     "data": {
      "application/javascript": [
       "$('span:contains(\"# Temp\")').closest('.cell').remove();"
      ],
      "text/plain": [
       "<IPython.core.display.Javascript object>"
      ]
     },
     "metadata": {},
     "output_type": "display_data"
    },
    {
     "data": {
      "application/javascript": [
       "\n",
       "        $('span:contains(\"# Temp\")').closest('.cell').remove();\n",
       "        var code = IPython.notebook.insert_cell_below('code');\n",
       "        code.set_text(atob(\"IyBUZW1wCmluc2VydCgnJycKYm9laG0yMDAzYyA9IERCKFdvcmtVbnJlbGF0ZWQoCiAgICAyMDAzLCAiQmFsYW5jaW5nIEFnaWxpdHkgYW5kIERpc2NpcGxpbmU6IEEgR3VpZGUgZm9yIHRoZSBQZXJwbGV4ZWQiLAogICAgZGlzcGxheT0iYm9laG0gYyIsCiAgICBhdXRob3JzPSJCb2VobSwgQi4gYW5kIFR1cm5lciwgUi4iLAogICAgcGxhY2U9RkFLRSwKICAgIGVudHJ5dHlwZT0iYXJ0aWNsZSIsCiAgICBub3RlPSJjaXRlZCBCeSA3NjEiLAogICAgSUQ9IkJvZWhtMjAwMyIsCiAgICBwbGFjZXg9IkFkZGlzb24tV2VzbGV5IiwKKSkKCkRCKENpdGF0aW9uKAogICAgb0Nvbm5vcjIwMTVhLCBib2VobTIwMDNjLCByZWY9IiIsCiAgICBjb250ZXh0cz1bCgogICAgXSwKKSkKCicnJywgY2l0YXRpb25zPSdvQ29ubm9yMjAxNWEnKTs=\"));\n",
       "    "
      ],
      "text/plain": [
       "<IPython.core.display.Javascript object>"
      ]
     },
     "metadata": {},
     "output_type": "display_data"
    },
    {
     "data": {
      "application/javascript": [
       "$('span:contains(\"# Temp\")').closest('.cell').remove();"
      ],
      "text/plain": [
       "<IPython.core.display.Javascript object>"
      ]
     },
     "metadata": {},
     "output_type": "display_data"
    },
    {
     "data": {
      "application/javascript": [
       "\n",
       "        $('span:contains(\"# Temp\")').closest('.cell').remove();\n",
       "        var code = IPython.notebook.insert_cell_below('code');\n",
       "        code.set_text(atob(\"IyBUZW1wCmluc2VydCgnJycKYm9laG0yMDAzYyA9IERCKFdvcmtVbnJlbGF0ZWQoCiAgICAyMDAzLCAiQmFsYW5jaW5nIEFnaWxpdHkgYW5kIERpc2NpcGxpbmU6IEEgR3VpZGUgZm9yIHRoZSBQZXJwbGV4ZWQiLAogICAgZGlzcGxheT0iYm9laG0gYyIsCiAgICBhdXRob3JzPSJCb2VobSwgQi4gYW5kIFR1cm5lciwgUi4iLAogICAgcGxhY2U9RkFLRSwKICAgIGVudHJ5dHlwZT0iYXJ0aWNsZSIsCiAgICBub3RlPSJjaXRlZCBCeSA3NjEiLAogICAgSUQ9IkJvZWhtMjAwMyIsCiAgICBwbGFjZXg9IkFkZGlzb24tV2VzbGV5IiwKKSkKCkRCKENpdGF0aW9uKAogICAgb0Nvbm5vcjIwMTVhLCBib2VobTIwMDNjLCByZWY9IiIsCiAgICBjb250ZXh0cz1bCgogICAgXSwKKSkKCicnJywgY2l0YXRpb25zPSdvQ29ubm9yMjAxNWEnKTs=\"));\n",
       "    "
      ],
      "text/plain": [
       "<IPython.core.display.Javascript object>"
      ]
     },
     "metadata": {},
     "output_type": "display_data"
    },
    {
     "data": {
      "application/javascript": [
       "$('span:contains(\"# Temp\")').closest('.cell').remove();"
      ],
      "text/plain": [
       "<IPython.core.display.Javascript object>"
      ]
     },
     "metadata": {},
     "output_type": "display_data"
    },
    {
     "data": {
      "application/javascript": [
       "\n",
       "        $('span:contains(\"# Temp\")').closest('.cell').remove();\n",
       "        var code = IPython.notebook.insert_cell_below('code');\n",
       "        code.set_text(atob(\"IyBUZW1wCmluc2VydCgnJycKREIoQ2l0YXRpb24oCiAgICBvQ29ubm9yMjAxNWEsIGNvbGVtYW4yMDA4YSwgcmVmPSIiLAogICAgY29udGV4dHM9WwoKICAgIF0sCikpCgonJycsIGNpdGF0aW9ucz0nb0Nvbm5vcjIwMTVhJyk7\"));\n",
       "    "
      ],
      "text/plain": [
       "<IPython.core.display.Javascript object>"
      ]
     },
     "metadata": {},
     "output_type": "display_data"
    },
    {
     "data": {
      "application/javascript": [
       "$('span:contains(\"# Temp\")').closest('.cell').remove();"
      ],
      "text/plain": [
       "<IPython.core.display.Javascript object>"
      ]
     },
     "metadata": {},
     "output_type": "display_data"
    },
    {
     "data": {
      "application/javascript": [
       "\n",
       "        $('span:contains(\"# Temp\")').closest('.cell').remove();\n",
       "        var code = IPython.notebook.insert_cell_below('code');\n",
       "        code.set_text(atob(\"IyBUZW1wCmluc2VydCgnJycKREIoQ2l0YXRpb24oCiAgICBvQ29ubm9yMjAxNWEsIGNvbGVtYW4yMDA4YSwgcmVmPSIiLAogICAgY29udGV4dHM9WwoKICAgIF0sCikpCgonJycsIGNpdGF0aW9ucz0nb0Nvbm5vcjIwMTVhJyk7\"));\n",
       "    "
      ],
      "text/plain": [
       "<IPython.core.display.Javascript object>"
      ]
     },
     "metadata": {},
     "output_type": "display_data"
    },
    {
     "data": {
      "application/javascript": [
       "$('span:contains(\"# Temp\")').closest('.cell').remove();"
      ],
      "text/plain": [
       "<IPython.core.display.Javascript object>"
      ]
     },
     "metadata": {},
     "output_type": "display_data"
    },
    {
     "data": {
      "application/javascript": [
       "\n",
       "        $('span:contains(\"# Temp\")').closest('.cell').remove();\n",
       "        var code = IPython.notebook.insert_cell_below('code');\n",
       "        code.set_text(atob(\"IyBUZW1wCmluc2VydCgnJycKZGV0dG1lcjIwMTFhID0gREIoV29ya1VucmVsYXRlZCgKICAgIDIwMTEsICJTeXN0ZW1zIFRoaW5raW5nIGFuZCB0aGUgQ3luZWZpbiBGcmFtZXdvcmstQSBTdHJhdGVnaWMgQXBwcm9hY2ggdG8gTWFuYWdpbmcgQ29tcGxleCBTeXN0ZW1zIiwKICAgIGRpc3BsYXk9ImRldHRtZXIiLAogICAgYXV0aG9ycz0iRGV0dG1lciwgSC5XLiIsCiAgICBwbGFjZT1GQUtFLAogICAgZW50cnl0eXBlPSJhcnRpY2xlIiwKICAgIG5vdGU9ImNpdGVkIEJ5IDYiLAogICAgSUQ9IkRldHRtZXIyMDExIiwKICAgIHBsYWNleD0iUG9ydCBBbmdlbGVzLCBXQTogR29hbCBTeXN0ZW1zIEludGVybmF0aW9uYWwiLAopKQoKREIoQ2l0YXRpb24oCiAgICBvQ29ubm9yMjAxNWEsIGRldHRtZXIyMDExYSwgcmVmPSIiLAogICAgY29udGV4dHM9WwoKICAgIF0sCikpCgonJycsIGNpdGF0aW9ucz0nb0Nvbm5vcjIwMTVhJyk7\"));\n",
       "    "
      ],
      "text/plain": [
       "<IPython.core.display.Javascript object>"
      ]
     },
     "metadata": {},
     "output_type": "display_data"
    },
    {
     "data": {
      "application/javascript": [
       "$('span:contains(\"# Temp\")').closest('.cell').remove();"
      ],
      "text/plain": [
       "<IPython.core.display.Javascript object>"
      ]
     },
     "metadata": {},
     "output_type": "display_data"
    },
    {
     "data": {
      "application/javascript": [
       "\n",
       "        $('span:contains(\"# Temp\")').closest('.cell').remove();\n",
       "        var code = IPython.notebook.insert_cell_below('code');\n",
       "        code.set_text(atob(\"IyBUZW1wCmluc2VydCgnJycKZGV0dG1lcjIwMTFhID0gREIoV29ya1VucmVsYXRlZCgKICAgIDIwMTEsICJTeXN0ZW1zIFRoaW5raW5nIGFuZCB0aGUgQ3luZWZpbiBGcmFtZXdvcmstQSBTdHJhdGVnaWMgQXBwcm9hY2ggdG8gTWFuYWdpbmcgQ29tcGxleCBTeXN0ZW1zIiwKICAgIGRpc3BsYXk9ImRldHRtZXIiLAogICAgYXV0aG9ycz0iRGV0dG1lciwgSC5XLiIsCiAgICBwbGFjZT1GQUtFLAogICAgZW50cnl0eXBlPSJhcnRpY2xlIiwKICAgIG5vdGU9ImNpdGVkIEJ5IDYiLAogICAgSUQ9IkRldHRtZXIyMDExIiwKICAgIHBsYWNleD0iUG9ydCBBbmdlbGVzLCBXQTogR29hbCBTeXN0ZW1zIEludGVybmF0aW9uYWwiLAopKQoKREIoQ2l0YXRpb24oCiAgICBvQ29ubm9yMjAxNWEsIGRldHRtZXIyMDExYSwgcmVmPSIiLAogICAgY29udGV4dHM9WwoKICAgIF0sCikpCgonJycsIGNpdGF0aW9ucz0nb0Nvbm5vcjIwMTVhJyk7\"));\n",
       "    "
      ],
      "text/plain": [
       "<IPython.core.display.Javascript object>"
      ]
     },
     "metadata": {},
     "output_type": "display_data"
    },
    {
     "data": {
      "application/javascript": [
       "$('span:contains(\"# Temp\")').closest('.cell').remove();"
      ],
      "text/plain": [
       "<IPython.core.display.Javascript object>"
      ]
     },
     "metadata": {},
     "output_type": "display_data"
    },
    {
     "data": {
      "application/javascript": [
       "\n",
       "        $('span:contains(\"# Temp\")').closest('.cell').remove();\n",
       "        var code = IPython.notebook.insert_cell_below('code');\n",
       "        code.set_text(atob(\"IyBUZW1wCmluc2VydCgnJycKc25vd2RlbjIwMDdhID0gREIoV29ya1VucmVsYXRlZCgKICAgIDIwMDcsICJBIGxlYWRlcidzIGZyYW1ld29yayBmb3IgZGVjaXNpb24gbWFraW5nIiwKICAgIGRpc3BsYXk9InNub3dkZW4iLAogICAgYXV0aG9ycz0iU25vd2RlbiwgRC5KLiBhbmQgQm9vbmUsIE0uRS4iLAogICAgcGxhY2U9RkFLRSwKICAgIHBwPSI2OS03NisxNDkiLAogICAgZW50cnl0eXBlPSJhcnRpY2xlIiwKICAgIHZvbHVtZT0iODUiLAogICAgbnVtYmVyPSIxMSIsCiAgICBub3RlPSJjaXRlZCBCeSAyODUiLAogICAgSUQ9IlNub3dkZW4yMDA3IiwKICAgIHBsYWNleD0iSGFydmFyZCBCdXNpbmVzcyBSZXZpZXciLAopKQoKREIoQ2l0YXRpb24oCiAgICBvQ29ubm9yMjAxNWEsIHNub3dkZW4yMDA3YSwgcmVmPSIiLAogICAgY29udGV4dHM9WwoKICAgIF0sCikpCgonJycsIGNpdGF0aW9ucz0nb0Nvbm5vcjIwMTVhJyk7\"));\n",
       "    "
      ],
      "text/plain": [
       "<IPython.core.display.Javascript object>"
      ]
     },
     "metadata": {},
     "output_type": "display_data"
    },
    {
     "data": {
      "application/javascript": [
       "$('span:contains(\"# Temp\")').closest('.cell').remove();"
      ],
      "text/plain": [
       "<IPython.core.display.Javascript object>"
      ]
     },
     "metadata": {},
     "output_type": "display_data"
    },
    {
     "data": {
      "application/javascript": [
       "\n",
       "        $('span:contains(\"# Temp\")').closest('.cell').remove();\n",
       "        var code = IPython.notebook.insert_cell_below('code');\n",
       "        code.set_text(atob(\"IyBUZW1wCmluc2VydCgnJycKc25vd2RlbjIwMDdhID0gREIoV29ya1VucmVsYXRlZCgKICAgIDIwMDcsICJBIGxlYWRlcidzIGZyYW1ld29yayBmb3IgZGVjaXNpb24gbWFraW5nIiwKICAgIGRpc3BsYXk9InNub3dkZW4iLAogICAgYXV0aG9ycz0iU25vd2RlbiwgRC5KLiBhbmQgQm9vbmUsIE0uRS4iLAogICAgcGxhY2U9RkFLRSwKICAgIHBwPSI2OS03NisxNDkiLAogICAgZW50cnl0eXBlPSJhcnRpY2xlIiwKICAgIHZvbHVtZT0iODUiLAogICAgbnVtYmVyPSIxMSIsCiAgICBub3RlPSJjaXRlZCBCeSAyODUiLAogICAgSUQ9IlNub3dkZW4yMDA3IiwKICAgIHBsYWNleD0iSGFydmFyZCBCdXNpbmVzcyBSZXZpZXciLAopKQoKREIoQ2l0YXRpb24oCiAgICBvQ29ubm9yMjAxNWEsIHNub3dkZW4yMDA3YSwgcmVmPSIiLAogICAgY29udGV4dHM9WwoKICAgIF0sCikpCgonJycsIGNpdGF0aW9ucz0nb0Nvbm5vcjIwMTVhJyk7\"));\n",
       "    "
      ],
      "text/plain": [
       "<IPython.core.display.Javascript object>"
      ]
     },
     "metadata": {},
     "output_type": "display_data"
    },
    {
     "data": {
      "application/javascript": [
       "$('span:contains(\"# Temp\")').closest('.cell').remove();"
      ],
      "text/plain": [
       "<IPython.core.display.Javascript object>"
      ]
     },
     "metadata": {},
     "output_type": "display_data"
    },
    {
     "data": {
      "application/javascript": [
       "\n",
       "        $('span:contains(\"# Temp\")').closest('.cell').remove();\n",
       "        var code = IPython.notebook.insert_cell_below('code');\n",
       "        code.set_text(atob(\"IyBUZW1wCmluc2VydCgnJycKREIoQ2l0YXRpb24oCiAgICBvQ29ubm9yMjAxNWEsIGxlcG1ldHMyMDEyYSwgcmVmPSIiLAogICAgY29udGV4dHM9WwoKICAgIF0sCikpCgonJycsIGNpdGF0aW9ucz0nb0Nvbm5vcjIwMTVhJyk7\"));\n",
       "    "
      ],
      "text/plain": [
       "<IPython.core.display.Javascript object>"
      ]
     },
     "metadata": {},
     "output_type": "display_data"
    },
    {
     "data": {
      "application/javascript": [
       "$('span:contains(\"# Temp\")').closest('.cell').remove();"
      ],
      "text/plain": [
       "<IPython.core.display.Javascript object>"
      ]
     },
     "metadata": {},
     "output_type": "display_data"
    },
    {
     "data": {
      "application/javascript": [
       "\n",
       "        $('span:contains(\"# Temp\")').closest('.cell').remove();\n",
       "        var code = IPython.notebook.insert_cell_below('code');\n",
       "        code.set_text(atob(\"IyBUZW1wCmluc2VydCgnJycKREIoQ2l0YXRpb24oCiAgICBvQ29ubm9yMjAxNWEsIGxlcG1ldHMyMDEyYSwgcmVmPSIiLAogICAgY29udGV4dHM9WwoKICAgIF0sCikpCgonJycsIGNpdGF0aW9ucz0nb0Nvbm5vcjIwMTVhJyk7\"));\n",
       "    "
      ],
      "text/plain": [
       "<IPython.core.display.Javascript object>"
      ]
     },
     "metadata": {},
     "output_type": "display_data"
    },
    {
     "data": {
      "application/javascript": [
       "$('span:contains(\"# Temp\")').closest('.cell').remove();"
      ],
      "text/plain": [
       "<IPython.core.display.Javascript object>"
      ]
     },
     "metadata": {},
     "output_type": "display_data"
    },
    {
     "data": {
      "application/javascript": [
       "\n",
       "        $('span:contains(\"# Temp\")').closest('.cell').remove();\n",
       "        var code = IPython.notebook.insert_cell_below('code');\n",
       "        code.set_text(atob(\"IyBUZW1wCmluc2VydCgnJycKc2FsbzIwMDdhID0gREIoV29ya1VucmVsYXRlZCgKICAgIDIwMDcsICJBbiBpdGVyYXRpdmUgaW1wcm92ZW1lbnQgcHJvY2VzcyBmb3IgYWdpbGUgc29mdHdhcmUgZGV2ZWxvcG1lbnQiLAogICAgZGlzcGxheT0ic2FsbyIsCiAgICBhdXRob3JzPSJTYWxvLCBPLiBhbmQgQWJyYWhhbXNzb24sIFAuIiwKICAgIHBsYWNlPVNQSVAsCiAgICBwcD0iODEtMTAwIiwKICAgIGVudHJ5dHlwZT0iYXJ0aWNsZSIsCiAgICB2b2x1bWU9IjEyIiwKICAgIG51bWJlcj0iMSIsCiAgICBkb2k9IjEwLjEwMDIvc3BpcC4zMDUiLAogICAgbm90ZT0iY2l0ZWQgQnkgMzEiLAogICAgSUQ9IlNhbG8yMDA3ODEiLAogICAgcGxhY2V4PSJTb2Z0d2FyZSBQcm9jZXNzIEltcHJvdmVtZW50IGFuZCBQcmFjdGljZSIsCikpCgpEQihDaXRhdGlvbigKICAgIG9Db25ub3IyMDE1YSwgc2FsbzIwMDdhLCByZWY9IiIsCiAgICBjb250ZXh0cz1bCgogICAgXSwKKSkKCicnJywgY2l0YXRpb25zPSdvQ29ubm9yMjAxNWEnKTs=\"));\n",
       "    "
      ],
      "text/plain": [
       "<IPython.core.display.Javascript object>"
      ]
     },
     "metadata": {},
     "output_type": "display_data"
    },
    {
     "data": {
      "application/javascript": [
       "$('span:contains(\"# Temp\")').closest('.cell').remove();"
      ],
      "text/plain": [
       "<IPython.core.display.Javascript object>"
      ]
     },
     "metadata": {},
     "output_type": "display_data"
    },
    {
     "data": {
      "application/javascript": [
       "\n",
       "        $('span:contains(\"# Temp\")').closest('.cell').remove();\n",
       "        var code = IPython.notebook.insert_cell_below('code');\n",
       "        code.set_text(atob(\"IyBUZW1wCmluc2VydCgnJycKc2FsbzIwMDdhID0gREIoV29ya1VucmVsYXRlZCgKICAgIDIwMDcsICJBbiBpdGVyYXRpdmUgaW1wcm92ZW1lbnQgcHJvY2VzcyBmb3IgYWdpbGUgc29mdHdhcmUgZGV2ZWxvcG1lbnQiLAogICAgZGlzcGxheT0ic2FsbyIsCiAgICBhdXRob3JzPSJTYWxvLCBPLiBhbmQgQWJyYWhhbXNzb24sIFAuIiwKICAgIHBsYWNlPVNQSVAsCiAgICBwcD0iODEtMTAwIiwKICAgIGVudHJ5dHlwZT0iYXJ0aWNsZSIsCiAgICB2b2x1bWU9IjEyIiwKICAgIG51bWJlcj0iMSIsCiAgICBkb2k9IjEwLjEwMDIvc3BpcC4zMDUiLAogICAgbm90ZT0iY2l0ZWQgQnkgMzEiLAogICAgSUQ9IlNhbG8yMDA3ODEiLAogICAgcGxhY2V4PSJTb2Z0d2FyZSBQcm9jZXNzIEltcHJvdmVtZW50IGFuZCBQcmFjdGljZSIsCikpCgpEQihDaXRhdGlvbigKICAgIG9Db25ub3IyMDE1YSwgc2FsbzIwMDdhLCByZWY9IiIsCiAgICBjb250ZXh0cz1bCgogICAgXSwKKSkKCicnJywgY2l0YXRpb25zPSdvQ29ubm9yMjAxNWEnKTs=\"));\n",
       "    "
      ],
      "text/plain": [
       "<IPython.core.display.Javascript object>"
      ]
     },
     "metadata": {},
     "output_type": "display_data"
    },
    {
     "data": {
      "application/javascript": [
       "$('span:contains(\"# Temp\")').closest('.cell').remove();"
      ],
      "text/plain": [
       "<IPython.core.display.Javascript object>"
      ]
     },
     "metadata": {},
     "output_type": "display_data"
    },
    {
     "data": {
      "application/javascript": [
       "\n",
       "        $('span:contains(\"# Temp\")').closest('.cell').remove();\n",
       "        var code = IPython.notebook.insert_cell_below('code');\n",
       "        code.set_text(atob(\"IyBUZW1wCmluc2VydCgnJycKREIoQ2l0YXRpb24oCiAgICBvQ29ubm9yMjAxNWEsIHBhdGVybm9zdGVyMjAxNGEsIHJlZj0iIiwKICAgIGNvbnRleHRzPVsKCiAgICBdLAopKQoKJycnLCBjaXRhdGlvbnM9J29Db25ub3IyMDE1YScpOw==\"));\n",
       "    "
      ],
      "text/plain": [
       "<IPython.core.display.Javascript object>"
      ]
     },
     "metadata": {},
     "output_type": "display_data"
    },
    {
     "data": {
      "application/javascript": [
       "$('span:contains(\"# Temp\")').closest('.cell').remove();"
      ],
      "text/plain": [
       "<IPython.core.display.Javascript object>"
      ]
     },
     "metadata": {},
     "output_type": "display_data"
    },
    {
     "data": {
      "application/javascript": [
       "\n",
       "        $('span:contains(\"# Temp\")').closest('.cell').remove();\n",
       "        var code = IPython.notebook.insert_cell_below('code');\n",
       "        code.set_text(atob(\"IyBUZW1wCmluc2VydCgnJycKREIoQ2l0YXRpb24oCiAgICBvQ29ubm9yMjAxNWEsIHBhdGVybm9zdGVyMjAxNGEsIHJlZj0iIiwKICAgIGNvbnRleHRzPVsKCiAgICBdLAopKQoKJycnLCBjaXRhdGlvbnM9J29Db25ub3IyMDE1YScpOw==\"));\n",
       "    "
      ],
      "text/plain": [
       "<IPython.core.display.Javascript object>"
      ]
     },
     "metadata": {},
     "output_type": "display_data"
    },
    {
     "data": {
      "application/javascript": [
       "$('span:contains(\"# Temp\")').closest('.cell').remove();"
      ],
      "text/plain": [
       "<IPython.core.display.Javascript object>"
      ]
     },
     "metadata": {},
     "output_type": "display_data"
    },
    {
     "data": {
      "application/javascript": [
       "\n",
       "        $('span:contains(\"# Temp\")').closest('.cell').remove();\n",
       "        var code = IPython.notebook.insert_cell_below('code');\n",
       "        code.set_text(atob(\"IyBUZW1wCmluc2VydCgnJycKdGhvcnBlMjAwNWEgPSBEQihXb3JrVW5yZWxhdGVkKAogICAgMjAwNSwgIlVzaW5nIGtub3dsZWRnZSB3aXRoaW4gc21hbGwgYW5kIG1lZGl1bS1zaXplZCBmaXJtczogQSBzeXN0ZW1hdGljIHJldmlldyBvZiB0aGUgZXZpZGVuY2UiLAogICAgZGlzcGxheT0idGhvcnBlIiwKICAgIGF1dGhvcnM9IlRob3JwZSwgUi4gYW5kIEhvbHQsIFIuIGFuZCBNYWNwaGVyc29uLCBBLiBhbmQgUGl0dGF3YXksIEwuIiwKICAgIHBsYWNlPUZBS0UsCiAgICBwcD0iMjU3LTI4MSIsCiAgICBlbnRyeXR5cGU9ImFydGljbGUiLAogICAgdm9sdW1lPSI3IiwKICAgIG51bWJlcj0iNCIsCiAgICBkb2k9IjEwLjExMTEvai4xNDY4LTIzNzAuMjAwNS4wMDExNi54IiwKICAgIG5vdGU9ImNpdGVkIEJ5IDIwNSIsCiAgICBJRD0iVGhvcnBlMjAwNTI1NyIsCiAgICBwbGFjZXg9IkludGVybmF0aW9uYWwgSm91cm5hbCBvZiBNYW5hZ2VtZW50IFJldmlld3MiLAopKQoKREIoQ2l0YXRpb24oCiAgICBvQ29ubm9yMjAxNWEsIHRob3JwZTIwMDVhLCByZWY9IiIsCiAgICBjb250ZXh0cz1bCgogICAgXSwKKSkKCicnJywgY2l0YXRpb25zPSdvQ29ubm9yMjAxNWEnKTs=\"));\n",
       "    "
      ],
      "text/plain": [
       "<IPython.core.display.Javascript object>"
      ]
     },
     "metadata": {},
     "output_type": "display_data"
    },
    {
     "data": {
      "application/javascript": [
       "$('span:contains(\"# Temp\")').closest('.cell').remove();"
      ],
      "text/plain": [
       "<IPython.core.display.Javascript object>"
      ]
     },
     "metadata": {},
     "output_type": "display_data"
    },
    {
     "data": {
      "application/javascript": [
       "\n",
       "        $('span:contains(\"# Temp\")').closest('.cell').remove();\n",
       "        var code = IPython.notebook.insert_cell_below('code');\n",
       "        code.set_text(atob(\"IyBUZW1wCmluc2VydCgnJycKdGhvcnBlMjAwNWEgPSBEQihXb3JrVW5yZWxhdGVkKAogICAgMjAwNSwgIlVzaW5nIGtub3dsZWRnZSB3aXRoaW4gc21hbGwgYW5kIG1lZGl1bS1zaXplZCBmaXJtczogQSBzeXN0ZW1hdGljIHJldmlldyBvZiB0aGUgZXZpZGVuY2UiLAogICAgZGlzcGxheT0idGhvcnBlIiwKICAgIGF1dGhvcnM9IlRob3JwZSwgUi4gYW5kIEhvbHQsIFIuIGFuZCBNYWNwaGVyc29uLCBBLiBhbmQgUGl0dGF3YXksIEwuIiwKICAgIHBsYWNlPUZBS0UsCiAgICBwcD0iMjU3LTI4MSIsCiAgICBlbnRyeXR5cGU9ImFydGljbGUiLAogICAgdm9sdW1lPSI3IiwKICAgIG51bWJlcj0iNCIsCiAgICBkb2k9IjEwLjExMTEvai4xNDY4LTIzNzAuMjAwNS4wMDExNi54IiwKICAgIG5vdGU9ImNpdGVkIEJ5IDIwNSIsCiAgICBJRD0iVGhvcnBlMjAwNTI1NyIsCiAgICBwbGFjZXg9IkludGVybmF0aW9uYWwgSm91cm5hbCBvZiBNYW5hZ2VtZW50IFJldmlld3MiLAopKQoKREIoQ2l0YXRpb24oCiAgICBvQ29ubm9yMjAxNWEsIHRob3JwZTIwMDVhLCByZWY9IiIsCiAgICBjb250ZXh0cz1bCgogICAgXSwKKSkKCicnJywgY2l0YXRpb25zPSdvQ29ubm9yMjAxNWEnKTs=\"));\n",
       "    "
      ],
      "text/plain": [
       "<IPython.core.display.Javascript object>"
      ]
     },
     "metadata": {},
     "output_type": "display_data"
    },
    {
     "data": {
      "application/javascript": [
       "$('span:contains(\"# Temp\")').closest('.cell').remove();"
      ],
      "text/plain": [
       "<IPython.core.display.Javascript object>"
      ]
     },
     "metadata": {},
     "output_type": "display_data"
    },
    {
     "data": {
      "application/javascript": [
       "\n",
       "        $('span:contains(\"# Temp\")').closest('.cell').remove();\n",
       "        var code = IPython.notebook.insert_cell_below('code');\n",
       "        code.set_text(atob(\"IyBUZW1wCmluc2VydCgnJycKcGVscmluZTIwMTFhID0gREIoV29ya1VucmVsYXRlZCgKICAgIDIwMTEsICJPbiB1bmRlcnN0YW5kaW5nIHNvZnR3YXJlIGFnaWxpdHk6IEEgc29jaWFsIGNvbXBsZXhpdHkgcG9pbnQgb2YgdmlldyIsCiAgICBkaXNwbGF5PSJwZWxyaW5lIiwKICAgIGF1dGhvcnM9IlBlbHJpbmUsIEouIiwKICAgIHBsYWNlPUZBS0UsCiAgICBwcD0iMjYtMzciLAogICAgZW50cnl0eXBlPSJhcnRpY2xlIiwKICAgIHZvbHVtZT0iMTMiLAogICAgbnVtYmVyPSIxLTIiLAogICAgbm90ZT0iY2l0ZWQgQnkgMTAiLAogICAgSUQ9IlBlbHJpbmUyMDExMjYiLAogICAgcGxhY2V4PSJFbWVyZ2VuY2U6IENvbXBsZXhpdHkgYW5kIE9yZ2FuaXphdGlvbiIsCikpCgpEQihDaXRhdGlvbigKICAgIG9Db25ub3IyMDE1YSwgcGVscmluZTIwMTFhLCByZWY9IiIsCiAgICBjb250ZXh0cz1bCgogICAgXSwKKSkKCicnJywgY2l0YXRpb25zPSdvQ29ubm9yMjAxNWEnKTs=\"));\n",
       "    "
      ],
      "text/plain": [
       "<IPython.core.display.Javascript object>"
      ]
     },
     "metadata": {},
     "output_type": "display_data"
    },
    {
     "data": {
      "application/javascript": [
       "$('span:contains(\"# Temp\")').closest('.cell').remove();"
      ],
      "text/plain": [
       "<IPython.core.display.Javascript object>"
      ]
     },
     "metadata": {},
     "output_type": "display_data"
    },
    {
     "data": {
      "application/javascript": [
       "\n",
       "        $('span:contains(\"# Temp\")').closest('.cell').remove();\n",
       "        var code = IPython.notebook.insert_cell_below('code');\n",
       "        code.set_text(atob(\"IyBUZW1wCmluc2VydCgnJycKcGVscmluZTIwMTFhID0gREIoV29ya1VucmVsYXRlZCgKICAgIDIwMTEsICJPbiB1bmRlcnN0YW5kaW5nIHNvZnR3YXJlIGFnaWxpdHk6IEEgc29jaWFsIGNvbXBsZXhpdHkgcG9pbnQgb2YgdmlldyIsCiAgICBkaXNwbGF5PSJwZWxyaW5lIiwKICAgIGF1dGhvcnM9IlBlbHJpbmUsIEouIiwKICAgIHBsYWNlPUZBS0UsCiAgICBwcD0iMjYtMzciLAogICAgZW50cnl0eXBlPSJhcnRpY2xlIiwKICAgIHZvbHVtZT0iMTMiLAogICAgbnVtYmVyPSIxLTIiLAogICAgbm90ZT0iY2l0ZWQgQnkgMTAiLAogICAgSUQ9IlBlbHJpbmUyMDExMjYiLAogICAgcGxhY2V4PSJFbWVyZ2VuY2U6IENvbXBsZXhpdHkgYW5kIE9yZ2FuaXphdGlvbiIsCikpCgpEQihDaXRhdGlvbigKICAgIG9Db25ub3IyMDE1YSwgcGVscmluZTIwMTFhLCByZWY9IiIsCiAgICBjb250ZXh0cz1bCgogICAgXSwKKSkKCicnJywgY2l0YXRpb25zPSdvQ29ubm9yMjAxNWEnKTs=\"));\n",
       "    "
      ],
      "text/plain": [
       "<IPython.core.display.Javascript object>"
      ]
     },
     "metadata": {},
     "output_type": "display_data"
    }
   ],
   "source": [
    "import importlib\n",
    "import custom_snowballing\n",
    "importlib.reload(custom_snowballing)\n",
    "from custom_snowballing import UnrelatedBackward\n",
    "UnrelatedBackward(\"oConnor2015a\", articles=article_list)"
   ]
  },
  {
   "cell_type": "code",
   "execution_count": null,
   "metadata": {
    "collapsed": true
   },
   "outputs": [],
   "source": [
    "# Temp\n",
    "insert('''\n",
    "pelrine2011a = DB(WorkUnrelated(\n",
    "    2011, \"On understanding software agility: A social complexity point of view\",\n",
    "    display=\"pelrine\",\n",
    "    authors=\"Pelrine, J.\",\n",
    "    place=FAKE,\n",
    "    pp=\"26-37\",\n",
    "    entrytype=\"article\",\n",
    "    volume=\"13\",\n",
    "    number=\"1-2\",\n",
    "    note=\"cited By 10\",\n",
    "    ID=\"Pelrine201126\",\n",
    "    placex=\"Emergence: Complexity and Organization\",\n",
    "))\n",
    "\n",
    "DB(Citation(\n",
    "    oConnor2015a, pelrine2011a, ref=\"\",\n",
    "    contexts=[\n",
    "\n",
    "    ],\n",
    "))\n",
    "\n",
    "''', citations='oConnor2015a');"
   ]
  },
  {
   "cell_type": "code",
   "execution_count": null,
   "metadata": {
    "collapsed": true
   },
   "outputs": [],
   "source": []
  }
 ],
 "metadata": {
  "kernelspec": {
   "display_name": "Python 3",
   "language": "python",
   "name": "python3"
  },
  "language_info": {
   "codemirror_mode": {
    "name": "ipython",
    "version": 3
   },
   "file_extension": ".py",
   "mimetype": "text/x-python",
   "name": "python",
   "nbconvert_exporter": "python",
   "pygments_lexer": "ipython3",
   "version": "3.6.0"
  },
  "toc": {
   "nav_menu": {
    "height": "12px",
    "width": "252px"
   },
   "number_sections": true,
   "sideBar": true,
   "skip_h1_title": false,
   "toc_cell": false,
   "toc_position": {},
   "toc_section_display": "block",
   "toc_window_display": false
  }
 },
 "nbformat": 4,
 "nbformat_minor": 2
}
