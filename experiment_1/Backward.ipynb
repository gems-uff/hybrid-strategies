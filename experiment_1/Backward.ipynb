{
 "cells": [
  {
   "cell_type": "code",
   "execution_count": 35,
   "metadata": {
    "collapsed": true
   },
   "outputs": [],
   "source": [
    "import database\n",
    "from snowballing.operations import load_work, reload, work_by_varname\n",
    "from snowballing.snowballing import Converter\n",
    "from snowballing.snowballing import BackwardSnowballing\n",
    "from snowballing.dbmanager import insert, set_attribute"
   ]
  },
  {
   "cell_type": "code",
   "execution_count": 37,
   "metadata": {
    "scrolled": false
   },
   "outputs": [
    {
     "data": {
      "application/vnd.jupyter.widget-view+json": {
       "model_id": "14b09b2b83f54bfa8159e48d9a078e22",
       "version_major": 2,
       "version_minor": 0
      },
      "text/html": [
       "<p>Failed to display Jupyter Widget of type <code>VBox</code>.</p>\n",
       "<p>\n",
       "  If you're reading this message in Jupyter Notebook or JupyterLab, it may mean\n",
       "  that the widgets JavaScript is still loading. If this message persists, it\n",
       "  likely means that the widgets JavaScript library is either not installed or\n",
       "  not enabled. See the <a href=\"https://ipywidgets.readthedocs.io/en/stable/user_install.html\">Jupyter\n",
       "  Widgets Documentation</a> for setup instructions.\n",
       "</p>\n",
       "<p>\n",
       "  If you're reading this message in another notebook frontend (for example, a static\n",
       "  rendering on GitHub or <a href=\"https://nbviewer.jupyter.org/\">NBViewer</a>),\n",
       "  it may mean that your frontend doesn't currently support widgets.\n",
       "</p>\n"
      ],
      "text/plain": [
       "VBox(children=(HBox(children=(Dropdown(index=1, options={'BibTeX': 'bibtex', 'Text': 'text', '[N] author name place other year': 'citation', 'Quoted': 'quoted'}, value='text'), Button(description='Set article_list variable', disabled=True, style=ButtonStyle()), Label(value=''))), HBox(children=(Textarea(value='', layout=Layout(height='500px', width='50%')), Textarea(value='', layout=Layout(height='500px', width='50%'))))))"
      ]
     },
     "metadata": {},
     "output_type": "display_data"
    }
   ],
   "source": [
    "Converter().browser()"
   ]
  },
  {
   "cell_type": "code",
   "execution_count": 38,
   "metadata": {},
   "outputs": [
    {
     "data": {
      "text/plain": [
       "20"
      ]
     },
     "execution_count": 38,
     "metadata": {},
     "output_type": "execute_result"
    }
   ],
   "source": [
    "len(article_list)"
   ]
  },
  {
   "cell_type": "code",
   "execution_count": 4,
   "metadata": {
    "collapsed": true
   },
   "outputs": [],
   "source": [
    "#from database.work.y2015 import li2015a"
   ]
  },
  {
   "cell_type": "code",
   "execution_count": 5,
   "metadata": {
    "collapsed": true
   },
   "outputs": [],
   "source": [
    "#int(getattr(li2015a, 'scopus', 0))"
   ]
  },
  {
   "cell_type": "code",
   "execution_count": 39,
   "metadata": {},
   "outputs": [
    {
     "name": "stdout",
     "output_type": "stream",
     "text": [
      "[{'name': 'A method for process assessment in small software companies', 'authors': 'Anacleto, A. and Von Wangenheim, C.G. and Salviano, C.F. and Savi, R.', 'year': 2004, 'pp': '69-76', 'place1': '4th International SPICE Conference on Process Assessment and Improvement', 'entrytype': 'article', 'display': 'anacleto', 'pyref': 'anacleto2004a', 'note': 'cited By 15', 'ID': 'Anacleto200469', '_work_type': 'Work'}, {'name': 'Experiences gained from applying ISO/IEC 15504 to small software companies in Brazil', 'authors': 'Anacleto, A. and Von Wangenheim, C.G. and Salviano, C.F. and Savi, R.', 'year': 2004, 'pp': '33-37', 'place1': '4th International SPICE Conference on Process Assessment and Improvement', 'entrytype': 'article', 'display': 'anacleto', 'pyref': 'anacleto2004a', 'note': 'cited By 28', 'ID': 'Anacleto200433', '_work_type': 'Work'}, {'name': 'CMMI: Guidelines for Process Integration and Product Improvement', 'authors': 'Chrissis, M.B. and Konrad, M. and Shrum, S.', 'year': 2003, 'place1': 'Addison Wesley', 'entrytype': 'article', 'display': 'chrissis', 'pyref': 'chrissis2003a', 'note': 'cited By 687', 'ID': 'Chrissis2003', '_work_type': 'Work'}, {'name': \"Rapid software process assessment to promote innovation in SME's\", 'authors': 'Cignoni, G.A.', 'year': 1999, 'place1': 'Proceedings of Euromicro', 'entrytype': 'article', 'display': 'cignoni', 'pyref': 'cignoni1999a', 'volume': '99', 'note': 'cited By 4', 'ID': 'Cignoni1999', '_work_type': 'Work'}, {'name': 'CSPT', 'authors': 'CSPT', 'year': 2003, 'place1': 'Centre for Software Process Technologies', 'entrytype': 'article', 'display': 'cspt', 'pyref': 'cspt2003a', 'note': 'cited By 1', 'ID': 'CSPT,2003', '_work_type': 'Work'}, {'name': 'FAME (Fraunhofer Assessment MEthod) - A Business-focused Method for Process Assessment', 'authors': 'Fraunhofer Institute', 'year': 2005, 'place1': 'Fraunhofer Institute Experimentelles Software Engineering', 'entrytype': 'article', 'display': 'institute', 'pyref': 'institute2005a', 'note': 'cited By 2', 'ID': 'Fame2005', '_work_type': 'Work'}, {'name': 'Information Technology - Process Assessment - Part 5: An exemplar Process Assessment Model', 'authors': 'ISO/IEC 15504, ISO/IECJTC1/SC7', 'year': 2006, 'place1': 'Information Technology - Process Assessment', 'entrytype': 'article', 'display': 'iso', 'pyref': 'iso2006a', 'note': 'cited By 251', 'ID': 'IT2003', '_work_type': 'Work'}, {'name': 'Information technology - Process assessment - Part 3: Guidance on performing an assessment', 'authors': 'ISO/IEC 15504-3', 'year': 2006, 'place1': 'Information Technology - Process Assessment', 'entrytype': 'article', 'display': '15504-3', 'pyref': '15504-32006a', 'note': 'cited By 251', 'ID': 'IT2004', '_work_type': 'Work'}, {'name': 'A Detailed Process Assessment Method for SMEs \\nyear=2000', 'authors': 'Makinen, T. and Varkoi, T. and Lepasaar, M.', 'year': 0, 'place1': 'EuroSPI', 'entrytype': 'article', 'display': 'makinen', 'pyref': 'makinen0a', 'note': 'cited By 3', 'ID': 'Makinen2000', '_work_type': 'Work'}, {'name': 'Improving express process appraisal method', 'authors': 'Mc Caffery, F. and McFall, D. and Wilkie, F.G.', 'year': 2005, 'pp': '286-298', 'place1': '6th International Conference on Product Focused Software Process Improvement (Profes 2005)', 'entrytype': 'article', 'place': 'ICPFSPI', 'display': 'caffery', 'pyref': 'caffery2005a', 'ID': 'McCaffery2005', '_work_type': 'Work'}, {'name': 'Northern Ireland Software Industry Survey', 'authors': 'Mc Caffery, F. and Wilkie, F.G. and McFall, D. and Lester, N.', 'year': 2004, 'pp': '159-161', 'place1': 'Proceedings of Fourth International SPICE Conference on Process Assessment and Improvement', 'entrytype': 'article', 'display': 'caffery', 'pyref': 'caffery2004a', 'note': 'cited By 1', 'ID': 'McCaffery2004', '_work_type': 'Work'}, {'name': 'Software processes and process improvement in Northern Ireland', 'authors': 'McFall, D. and Wilkie, F.G. and McCaffery, F. and Lester, N.G. and Sterritt, R.', 'year': 2003, 'pp': '1-10', 'place1': '16th International Conference on Software & Systems Engineering and Their Applications', 'entrytype': 'article', 'place': 'ICASEA', 'display': 'mcfall', 'pyref': 'mcfall2003a', 'note': 'cited By 10', 'ID': 'McFall2003', '_work_type': 'Work'}, {'name': \"IDEAL: A User's Guide for Software Process Improvement\", 'authors': 'McFeeley, B.', 'year': 1996, 'place1': 'Software Engineering Institute: CMU/SEI', 'entrytype': 'article', 'display': 'mcfeeley', 'pyref': 'mcfeeley1996a', 'note': 'cited By 181', 'ID': 'McFeeley1996', '_work_type': 'Work'}, {'name': 'The RAPID assessment of software process capability. In Software Process Improvement, Hunter RB', 'authors': 'Rout, T.P. and Tuffley, A. and Cahill, B. and Hodgen, B.', 'year': 2001, 'place1': 'IEEE Computer Society Press', 'entrytype': 'article', 'display': 'rout', 'pyref': 'rout2001a', 'note': 'cited By 2', 'ID': 'Rout2001', '_work_type': 'Work'}, {'name': 'The capability maturity model: Guidelines for improving the software process', 'authors': 'Paulk, M.C. and Weber, C.V. and Curtis, B. and Chrissis, M.B.', 'year': 1995, 'place1': 'The Capability Maturity Model: Guidelines for Improving the Software Process', 'entrytype': 'article', 'display': 'paulk', 'pyref': 'paulk1995a', 'note': 'cited By 982', 'ID': 'Paulk1995', '_work_type': 'Work'}, {'name': 'Appraisal requirements for CMMI®, Version 1.1', 'authors': 'CMMI Product Team', 'year': 2007, 'place1': 'SEI', 'entrytype': 'article', 'display': 'team', 'pyref': 'team2007a', 'note': 'cited By 1', 'ID': 'NoAuthor2007', '_work_type': 'Work'}, {'name': 'Process Maturity Profile: CMMI® v1.1, SCAMPI SM v1.1 Class A Appraisal Results', 'authors': 'SEI', 'year': 2004, 'place1': 'Process Maturity Profile', 'entrytype': 'article', 'display': 'sei', 'pyref': 'sei2004a', 'note': 'cited By 17', 'ID': 'SEI2004', '_work_type': 'Work'}, {'name': 'The IDEALSM Model', 'authors': 'SEI', 'year': 2005, 'place1': 'SEI', 'entrytype': 'article', 'display': 'sei', 'pyref': 'sei2005a', 'note': 'cited By 1', 'ID': 'NoAuthor2005', '_work_type': 'Work'}, {'name': 'The centre for software process technologies: A model for process improvement in geographical regions with small software industries', 'authors': 'Wilkie, F.G. and McFall, D. and McCaffery, F.', 'year': 2004, 'pp': '5', 'place1': 'Proceedings of 16th Software Engineering Process Group Conference', 'entrytype': 'article', 'display': 'wilkie', 'pyref': 'wilkie2004a', 'note': 'cited By 4', 'ID': 'Wilkie2004', '_work_type': 'Work'}, {'name': 'An Evaluation of CMMI® Process Areas for Small to Medium Sized Software Development Organisations Software Process Improvement and Practice', 'authors': 'Wilkie, F.G. and McFall, D. and Mc Caffery, F.', 'year': 2005, 'pp': '2', 'place1': 'Wiley Publishers: 189-201', 'entrytype': 'article', 'display': 'wilkie', 'pyref': 'wilkie2005a', 'volume': '10', 'note': 'cited By 1', 'ID': 'Wilkie2005', '_work_type': 'Work'}]\n"
     ]
    }
   ],
   "source": [
    "print(article_list)"
   ]
  },
  {
   "cell_type": "code",
   "execution_count": null,
   "metadata": {
    "collapsed": true
   },
   "outputs": [],
   "source": []
  },
  {
   "cell_type": "code",
   "execution_count": null,
   "metadata": {
    "collapsed": true
   },
   "outputs": [],
   "source": []
  },
  {
   "cell_type": "code",
   "execution_count": 40,
   "metadata": {},
   "outputs": [
    {
     "data": {
      "application/vnd.jupyter.widget-view+json": {
       "model_id": "fa4fcee2d49d4b5cbe8e0e7ac70e12e1",
       "version_major": 2,
       "version_minor": 0
      },
      "text/html": [
       "<p>Failed to display Jupyter Widget of type <code>VBox</code>.</p>\n",
       "<p>\n",
       "  If you're reading this message in Jupyter Notebook or JupyterLab, it may mean\n",
       "  that the widgets JavaScript is still loading. If this message persists, it\n",
       "  likely means that the widgets JavaScript library is either not installed or\n",
       "  not enabled. See the <a href=\"https://ipywidgets.readthedocs.io/en/stable/user_install.html\">Jupyter\n",
       "  Widgets Documentation</a> for setup instructions.\n",
       "</p>\n",
       "<p>\n",
       "  If you're reading this message in another notebook frontend (for example, a static\n",
       "  rendering on GitHub or <a href=\"https://nbviewer.jupyter.org/\">NBViewer</a>),\n",
       "  it may mean that your frontend doesn't currently support widgets.\n",
       "</p>\n"
      ],
      "text/plain": [
       "VBox(children=(HBox(children=(Button(description='Previous Article', disabled=True, icon='caret-left', style=ButtonStyle()), Button(description='Reload Article', icon='refresh', style=ButtonStyle()), Button(description='Next Article', icon='caret-right', style=ButtonStyle()))), HBox(children=(Button(description='Unrelated: Scripts', style=ButtonStyle()), Button(description='Unrelated: Provenance', style=ButtonStyle()), Button(description='Both', style=ButtonStyle()), Button(description='Ok', style=ButtonStyle()))), HBox(children=(Dropdown(description='Type', options=('Work', 'WorkSnowball', 'WorkForward', 'WorkBackward', 'WorkOk', 'WorkUnrelated', 'WorkNoFile', 'WorkLang', 'Site', 'Email'), value='Work'), ToggleButton(value=False, description='File'))), HBox(children=(Text(value='', description='Due'), Text(value='', description='Place'))), HBox(children=(Text(value='', description='Year'), Text(value='', description='Prefix Var'))), HBox(children=(Text(value='', description='PDFPage'), Text(value='', description='Related'))), HBox(children=(Text(value='', description='Display'), Text(value='', description='Summary'))), HBox(children=(Text(value='', description='Star'), Text(value='', description='Link'))), HBox(children=(Button(description='Reload Article', icon='refresh', style=ButtonStyle()), IntSlider(value=0, max=19), Label(value='1/20'))), Output()))"
      ]
     },
     "metadata": {},
     "output_type": "display_data"
    },
    {
     "data": {
      "application/javascript": [
       "$('span:contains(\"# Temp\")').closest('.cell').remove();"
      ],
      "text/plain": [
       "<IPython.core.display.Javascript object>"
      ]
     },
     "metadata": {},
     "output_type": "display_data"
    },
    {
     "data": {
      "application/javascript": [
       "\n",
       "        $('span:contains(\"# Temp\")').closest('.cell').remove();\n",
       "        var code = IPython.notebook.insert_cell_below('code');\n",
       "        code.set_text(atob(\"IyBUZW1wCmluc2VydCgnJycKYW5hY2xldG8yMDA0YSA9IERCKFdvcmsoCiAgICAyMDA0LCAiQSBtZXRob2QgZm9yIHByb2Nlc3MgYXNzZXNzbWVudCBpbiBzbWFsbCBzb2Z0d2FyZSBjb21wYW5pZXMiLAogICAgZGlzcGxheT0iYW5hY2xldG8iLAogICAgYXV0aG9ycz0iQW5hY2xldG8sIEEuIGFuZCBWb24gV2FuZ2VuaGVpbSwgQy5HLiBhbmQgU2Fsdmlhbm8sIEMuRi4gYW5kIFNhdmksIFIuIiwKICAgIHBwPSI2OS03NiIsCiAgICBwbGFjZTE9IjR0aCBJbnRlcm5hdGlvbmFsIFNQSUNFIENvbmZlcmVuY2Ugb24gUHJvY2VzcyBBc3Nlc3NtZW50IGFuZCBJbXByb3ZlbWVudCIsCiAgICBlbnRyeXR5cGU9ImFydGljbGUiLAogICAgbm90ZT0iY2l0ZWQgQnkgMTUiLAogICAgSUQ9IkFuYWNsZXRvMjAwNDY5IiwKKSkKCkRCKENpdGF0aW9uKAogICAgd2lsa2llMjAwN2EsIGFuYWNsZXRvMjAwNGEsIHJlZj0iIiwKICAgIGNvbnRleHRzPVsKCiAgICBdLAopKQoKJycnLCBjaXRhdGlvbnM9J3dpbGtpZTIwMDdhJyk7\"));\n",
       "    "
      ],
      "text/plain": [
       "<IPython.core.display.Javascript object>"
      ]
     },
     "metadata": {},
     "output_type": "display_data"
    },
    {
     "data": {
      "application/javascript": [
       "$('span:contains(\"# Temp\")').closest('.cell').remove();"
      ],
      "text/plain": [
       "<IPython.core.display.Javascript object>"
      ]
     },
     "metadata": {},
     "output_type": "display_data"
    },
    {
     "data": {
      "application/javascript": [
       "\n",
       "        $('span:contains(\"# Temp\")').closest('.cell').remove();\n",
       "        var code = IPython.notebook.insert_cell_below('code');\n",
       "        code.set_text(atob(\"IyBUZW1wCmluc2VydCgnJycKYW5hY2xldG8yMDA0YiA9IERCKFdvcmsoCiAgICAyMDA0LCAiRXhwZXJpZW5jZXMgZ2FpbmVkIGZyb20gYXBwbHlpbmcgSVNPL0lFQyAxNTUwNCB0byBzbWFsbCBzb2Z0d2FyZSBjb21wYW5pZXMgaW4gQnJhemlsIiwKICAgIGRpc3BsYXk9ImFuYWNsZXRvIGIiLAogICAgYXV0aG9ycz0iQW5hY2xldG8sIEEuIGFuZCBWb24gV2FuZ2VuaGVpbSwgQy5HLiBhbmQgU2Fsdmlhbm8sIEMuRi4gYW5kIFNhdmksIFIuIiwKICAgIHBwPSIzMy0zNyIsCiAgICBwbGFjZTE9IjR0aCBJbnRlcm5hdGlvbmFsIFNQSUNFIENvbmZlcmVuY2Ugb24gUHJvY2VzcyBBc3Nlc3NtZW50IGFuZCBJbXByb3ZlbWVudCIsCiAgICBlbnRyeXR5cGU9ImFydGljbGUiLAogICAgbm90ZT0iY2l0ZWQgQnkgMjgiLAogICAgSUQ9IkFuYWNsZXRvMjAwNDMzIiwKKSkKCkRCKENpdGF0aW9uKAogICAgd2lsa2llMjAwN2EsIGFuYWNsZXRvMjAwNGIsIHJlZj0iIiwKICAgIGNvbnRleHRzPVsKCiAgICBdLAopKQoKJycnLCBjaXRhdGlvbnM9J3dpbGtpZTIwMDdhJyk7\"));\n",
       "    "
      ],
      "text/plain": [
       "<IPython.core.display.Javascript object>"
      ]
     },
     "metadata": {},
     "output_type": "display_data"
    },
    {
     "data": {
      "application/javascript": [
       "$('span:contains(\"# Temp\")').closest('.cell').remove();"
      ],
      "text/plain": [
       "<IPython.core.display.Javascript object>"
      ]
     },
     "metadata": {},
     "output_type": "display_data"
    },
    {
     "data": {
      "application/javascript": [
       "\n",
       "        $('span:contains(\"# Temp\")').closest('.cell').remove();\n",
       "        var code = IPython.notebook.insert_cell_below('code');\n",
       "        code.set_text(atob(\"IyBUZW1wCmluc2VydCgnJycKYW5hY2xldG8yMDA0YiA9IERCKFdvcmsoCiAgICAyMDA0LCAiRXhwZXJpZW5jZXMgZ2FpbmVkIGZyb20gYXBwbHlpbmcgSVNPL0lFQyAxNTUwNCB0byBzbWFsbCBzb2Z0d2FyZSBjb21wYW5pZXMgaW4gQnJhemlsIiwKICAgIGRpc3BsYXk9ImFuYWNsZXRvIGIiLAogICAgYXV0aG9ycz0iQW5hY2xldG8sIEEuIGFuZCBWb24gV2FuZ2VuaGVpbSwgQy5HLiBhbmQgU2Fsdmlhbm8sIEMuRi4gYW5kIFNhdmksIFIuIiwKICAgIHBwPSIzMy0zNyIsCiAgICBwbGFjZTE9IjR0aCBJbnRlcm5hdGlvbmFsIFNQSUNFIENvbmZlcmVuY2Ugb24gUHJvY2VzcyBBc3Nlc3NtZW50IGFuZCBJbXByb3ZlbWVudCIsCiAgICBlbnRyeXR5cGU9ImFydGljbGUiLAogICAgbm90ZT0iY2l0ZWQgQnkgMjgiLAogICAgSUQ9IkFuYWNsZXRvMjAwNDMzIiwKKSkKCkRCKENpdGF0aW9uKAogICAgd2lsa2llMjAwN2EsIGFuYWNsZXRvMjAwNGIsIHJlZj0iIiwKICAgIGNvbnRleHRzPVsKCiAgICBdLAopKQoKJycnLCBjaXRhdGlvbnM9J3dpbGtpZTIwMDdhJyk7\"));\n",
       "    "
      ],
      "text/plain": [
       "<IPython.core.display.Javascript object>"
      ]
     },
     "metadata": {},
     "output_type": "display_data"
    },
    {
     "data": {
      "application/javascript": [
       "$('span:contains(\"# Temp\")').closest('.cell').remove();"
      ],
      "text/plain": [
       "<IPython.core.display.Javascript object>"
      ]
     },
     "metadata": {},
     "output_type": "display_data"
    },
    {
     "data": {
      "application/javascript": [
       "\n",
       "        $('span:contains(\"# Temp\")').closest('.cell').remove();\n",
       "        var code = IPython.notebook.insert_cell_below('code');\n",
       "        code.set_text(atob(\"IyBUZW1wCmluc2VydCgnJycKY2hyaXNzaXMyMDAzYSA9IERCKFdvcmsoCiAgICAyMDAzLCAiQ01NSTogR3VpZGVsaW5lcyBmb3IgUHJvY2VzcyBJbnRlZ3JhdGlvbiBhbmQgUHJvZHVjdCBJbXByb3ZlbWVudCIsCiAgICBkaXNwbGF5PSJjaHJpc3NpcyIsCiAgICBhdXRob3JzPSJDaHJpc3NpcywgTS5CLiBhbmQgS29ucmFkLCBNLiBhbmQgU2hydW0sIFMuIiwKICAgIHBsYWNlMT0iQWRkaXNvbiBXZXNsZXkiLAogICAgZW50cnl0eXBlPSJhcnRpY2xlIiwKICAgIG5vdGU9ImNpdGVkIEJ5IDY4NyIsCiAgICBJRD0iQ2hyaXNzaXMyMDAzIiwKKSkKCkRCKENpdGF0aW9uKAogICAgd2lsa2llMjAwN2EsIGNocmlzc2lzMjAwM2EsIHJlZj0iIiwKICAgIGNvbnRleHRzPVsKCiAgICBdLAopKQoKJycnLCBjaXRhdGlvbnM9J3dpbGtpZTIwMDdhJyk7\"));\n",
       "    "
      ],
      "text/plain": [
       "<IPython.core.display.Javascript object>"
      ]
     },
     "metadata": {},
     "output_type": "display_data"
    },
    {
     "data": {
      "application/javascript": [
       "$('span:contains(\"# Temp\")').closest('.cell').remove();"
      ],
      "text/plain": [
       "<IPython.core.display.Javascript object>"
      ]
     },
     "metadata": {},
     "output_type": "display_data"
    },
    {
     "data": {
      "application/javascript": [
       "\n",
       "        $('span:contains(\"# Temp\")').closest('.cell').remove();\n",
       "        var code = IPython.notebook.insert_cell_below('code');\n",
       "        code.set_text(atob(\"IyBUZW1wCmluc2VydCgnJycKY2hyaXNzaXMyMDAzYSA9IERCKFdvcmsoCiAgICAyMDAzLCAiQ01NSTogR3VpZGVsaW5lcyBmb3IgUHJvY2VzcyBJbnRlZ3JhdGlvbiBhbmQgUHJvZHVjdCBJbXByb3ZlbWVudCIsCiAgICBkaXNwbGF5PSJjaHJpc3NpcyIsCiAgICBhdXRob3JzPSJDaHJpc3NpcywgTS5CLiBhbmQgS29ucmFkLCBNLiBhbmQgU2hydW0sIFMuIiwKICAgIHBsYWNlMT0iQWRkaXNvbiBXZXNsZXkiLAogICAgZW50cnl0eXBlPSJhcnRpY2xlIiwKICAgIG5vdGU9ImNpdGVkIEJ5IDY4NyIsCiAgICBJRD0iQ2hyaXNzaXMyMDAzIiwKKSkKCkRCKENpdGF0aW9uKAogICAgd2lsa2llMjAwN2EsIGNocmlzc2lzMjAwM2EsIHJlZj0iIiwKICAgIGNvbnRleHRzPVsKCiAgICBdLAopKQoKJycnLCBjaXRhdGlvbnM9J3dpbGtpZTIwMDdhJyk7\"));\n",
       "    "
      ],
      "text/plain": [
       "<IPython.core.display.Javascript object>"
      ]
     },
     "metadata": {},
     "output_type": "display_data"
    },
    {
     "data": {
      "application/javascript": [
       "$('span:contains(\"# Temp\")').closest('.cell').remove();"
      ],
      "text/plain": [
       "<IPython.core.display.Javascript object>"
      ]
     },
     "metadata": {},
     "output_type": "display_data"
    },
    {
     "data": {
      "application/javascript": [
       "\n",
       "        $('span:contains(\"# Temp\")').closest('.cell').remove();\n",
       "        var code = IPython.notebook.insert_cell_below('code');\n",
       "        code.set_text(atob(\"IyBUZW1wCmluc2VydCgnJycKY2lnbm9uaTE5OTlhID0gREIoV29yaygKICAgIDE5OTksICJSYXBpZCBzb2Z0d2FyZSBwcm9jZXNzIGFzc2Vzc21lbnQgdG8gcHJvbW90ZSBpbm5vdmF0aW9uIGluIFNNRSdzIiwKICAgIGRpc3BsYXk9ImNpZ25vbmkiLAogICAgYXV0aG9ycz0iQ2lnbm9uaSwgRy5BLiIsCiAgICBwbGFjZTE9IlByb2NlZWRpbmdzIG9mIEV1cm9taWNybyIsCiAgICBlbnRyeXR5cGU9ImFydGljbGUiLAogICAgdm9sdW1lPSI5OSIsCiAgICBub3RlPSJjaXRlZCBCeSA0IiwKICAgIElEPSJDaWdub25pMTk5OSIsCikpCgpEQihDaXRhdGlvbigKICAgIHdpbGtpZTIwMDdhLCBjaWdub25pMTk5OWEsIHJlZj0iIiwKICAgIGNvbnRleHRzPVsKCiAgICBdLAopKQoKJycnLCBjaXRhdGlvbnM9J3dpbGtpZTIwMDdhJyk7\"));\n",
       "    "
      ],
      "text/plain": [
       "<IPython.core.display.Javascript object>"
      ]
     },
     "metadata": {},
     "output_type": "display_data"
    },
    {
     "data": {
      "application/javascript": [
       "$('span:contains(\"# Temp\")').closest('.cell').remove();"
      ],
      "text/plain": [
       "<IPython.core.display.Javascript object>"
      ]
     },
     "metadata": {},
     "output_type": "display_data"
    },
    {
     "data": {
      "application/javascript": [
       "\n",
       "        $('span:contains(\"# Temp\")').closest('.cell').remove();\n",
       "        var code = IPython.notebook.insert_cell_below('code');\n",
       "        code.set_text(atob(\"IyBUZW1wCmluc2VydCgnJycKY2lnbm9uaTE5OTlhID0gREIoV29yaygKICAgIDE5OTksICJSYXBpZCBzb2Z0d2FyZSBwcm9jZXNzIGFzc2Vzc21lbnQgdG8gcHJvbW90ZSBpbm5vdmF0aW9uIGluIFNNRSdzIiwKICAgIGRpc3BsYXk9ImNpZ25vbmkiLAogICAgYXV0aG9ycz0iQ2lnbm9uaSwgRy5BLiIsCiAgICBwbGFjZTE9IlByb2NlZWRpbmdzIG9mIEV1cm9taWNybyIsCiAgICBlbnRyeXR5cGU9ImFydGljbGUiLAogICAgdm9sdW1lPSI5OSIsCiAgICBub3RlPSJjaXRlZCBCeSA0IiwKICAgIElEPSJDaWdub25pMTk5OSIsCikpCgpEQihDaXRhdGlvbigKICAgIHdpbGtpZTIwMDdhLCBjaWdub25pMTk5OWEsIHJlZj0iIiwKICAgIGNvbnRleHRzPVsKCiAgICBdLAopKQoKJycnLCBjaXRhdGlvbnM9J3dpbGtpZTIwMDdhJyk7\"));\n",
       "    "
      ],
      "text/plain": [
       "<IPython.core.display.Javascript object>"
      ]
     },
     "metadata": {},
     "output_type": "display_data"
    },
    {
     "data": {
      "application/javascript": [
       "$('span:contains(\"# Temp\")').closest('.cell').remove();"
      ],
      "text/plain": [
       "<IPython.core.display.Javascript object>"
      ]
     },
     "metadata": {},
     "output_type": "display_data"
    },
    {
     "data": {
      "application/javascript": [
       "\n",
       "        $('span:contains(\"# Temp\")').closest('.cell').remove();\n",
       "        var code = IPython.notebook.insert_cell_below('code');\n",
       "        code.set_text(atob(\"IyBUZW1wCmluc2VydCgnJycKY3NwdDIwMDNhID0gREIoV29yaygKICAgIDIwMDMsICJDU1BUIiwKICAgIGRpc3BsYXk9ImNzcHQiLAogICAgYXV0aG9ycz0iQ1NQVCIsCiAgICBwbGFjZTE9IkNlbnRyZSBmb3IgU29mdHdhcmUgUHJvY2VzcyBUZWNobm9sb2dpZXMiLAogICAgZW50cnl0eXBlPSJhcnRpY2xlIiwKICAgIG5vdGU9ImNpdGVkIEJ5IDEiLAogICAgSUQ9IkNTUFQsMjAwMyIsCikpCgpEQihDaXRhdGlvbigKICAgIHdpbGtpZTIwMDdhLCBjc3B0MjAwM2EsIHJlZj0iIiwKICAgIGNvbnRleHRzPVsKCiAgICBdLAopKQoKJycnLCBjaXRhdGlvbnM9J3dpbGtpZTIwMDdhJyk7\"));\n",
       "    "
      ],
      "text/plain": [
       "<IPython.core.display.Javascript object>"
      ]
     },
     "metadata": {},
     "output_type": "display_data"
    },
    {
     "data": {
      "application/javascript": [
       "$('span:contains(\"# Temp\")').closest('.cell').remove();"
      ],
      "text/plain": [
       "<IPython.core.display.Javascript object>"
      ]
     },
     "metadata": {},
     "output_type": "display_data"
    },
    {
     "data": {
      "application/javascript": [
       "\n",
       "        $('span:contains(\"# Temp\")').closest('.cell').remove();\n",
       "        var code = IPython.notebook.insert_cell_below('code');\n",
       "        code.set_text(atob(\"IyBUZW1wCmluc2VydCgnJycKY3NwdDIwMDNhID0gREIoV29yaygKICAgIDIwMDMsICJDU1BUIiwKICAgIGRpc3BsYXk9ImNzcHQiLAogICAgYXV0aG9ycz0iQ1NQVCIsCiAgICBwbGFjZTE9IkNlbnRyZSBmb3IgU29mdHdhcmUgUHJvY2VzcyBUZWNobm9sb2dpZXMiLAogICAgZW50cnl0eXBlPSJhcnRpY2xlIiwKICAgIG5vdGU9ImNpdGVkIEJ5IDEiLAogICAgSUQ9IkNTUFQsMjAwMyIsCikpCgpEQihDaXRhdGlvbigKICAgIHdpbGtpZTIwMDdhLCBjc3B0MjAwM2EsIHJlZj0iIiwKICAgIGNvbnRleHRzPVsKCiAgICBdLAopKQoKJycnLCBjaXRhdGlvbnM9J3dpbGtpZTIwMDdhJyk7\"));\n",
       "    "
      ],
      "text/plain": [
       "<IPython.core.display.Javascript object>"
      ]
     },
     "metadata": {},
     "output_type": "display_data"
    },
    {
     "data": {
      "application/javascript": [
       "$('span:contains(\"# Temp\")').closest('.cell').remove();"
      ],
      "text/plain": [
       "<IPython.core.display.Javascript object>"
      ]
     },
     "metadata": {},
     "output_type": "display_data"
    },
    {
     "data": {
      "application/javascript": [
       "\n",
       "        $('span:contains(\"# Temp\")').closest('.cell').remove();\n",
       "        var code = IPython.notebook.insert_cell_below('code');\n",
       "        code.set_text(atob(\"IyBUZW1wCmluc2VydCgnJycKaW5zdGl0dXRlMjAwNWEgPSBEQihXb3JrKAogICAgMjAwNSwgIkZBTUUgKEZyYXVuaG9mZXIgQXNzZXNzbWVudCBNRXRob2QpIC0gQSBCdXNpbmVzcy1mb2N1c2VkIE1ldGhvZCBmb3IgUHJvY2VzcyBBc3Nlc3NtZW50IiwKICAgIGRpc3BsYXk9Imluc3RpdHV0ZSIsCiAgICBhdXRob3JzPSJGcmF1bmhvZmVyIEluc3RpdHV0ZSIsCiAgICBwbGFjZTE9IkZyYXVuaG9mZXIgSW5zdGl0dXRlIEV4cGVyaW1lbnRlbGxlcyBTb2Z0d2FyZSBFbmdpbmVlcmluZyIsCiAgICBlbnRyeXR5cGU9ImFydGljbGUiLAogICAgbm90ZT0iY2l0ZWQgQnkgMiIsCiAgICBJRD0iRmFtZTIwMDUiLAopKQoKREIoQ2l0YXRpb24oCiAgICB3aWxraWUyMDA3YSwgaW5zdGl0dXRlMjAwNWEsIHJlZj0iIiwKICAgIGNvbnRleHRzPVsKCiAgICBdLAopKQoKJycnLCBjaXRhdGlvbnM9J3dpbGtpZTIwMDdhJyk7\"));\n",
       "    "
      ],
      "text/plain": [
       "<IPython.core.display.Javascript object>"
      ]
     },
     "metadata": {},
     "output_type": "display_data"
    },
    {
     "data": {
      "application/javascript": [
       "$('span:contains(\"# Temp\")').closest('.cell').remove();"
      ],
      "text/plain": [
       "<IPython.core.display.Javascript object>"
      ]
     },
     "metadata": {},
     "output_type": "display_data"
    },
    {
     "data": {
      "application/javascript": [
       "\n",
       "        $('span:contains(\"# Temp\")').closest('.cell').remove();\n",
       "        var code = IPython.notebook.insert_cell_below('code');\n",
       "        code.set_text(atob(\"IyBUZW1wCmluc2VydCgnJycKaW5zdGl0dXRlMjAwNWEgPSBEQihXb3JrKAogICAgMjAwNSwgIkZBTUUgKEZyYXVuaG9mZXIgQXNzZXNzbWVudCBNRXRob2QpIC0gQSBCdXNpbmVzcy1mb2N1c2VkIE1ldGhvZCBmb3IgUHJvY2VzcyBBc3Nlc3NtZW50IiwKICAgIGRpc3BsYXk9Imluc3RpdHV0ZSIsCiAgICBhdXRob3JzPSJGcmF1bmhvZmVyIEluc3RpdHV0ZSIsCiAgICBwbGFjZTE9IkZyYXVuaG9mZXIgSW5zdGl0dXRlIEV4cGVyaW1lbnRlbGxlcyBTb2Z0d2FyZSBFbmdpbmVlcmluZyIsCiAgICBlbnRyeXR5cGU9ImFydGljbGUiLAogICAgbm90ZT0iY2l0ZWQgQnkgMiIsCiAgICBJRD0iRmFtZTIwMDUiLAopKQoKREIoQ2l0YXRpb24oCiAgICB3aWxraWUyMDA3YSwgaW5zdGl0dXRlMjAwNWEsIHJlZj0iIiwKICAgIGNvbnRleHRzPVsKCiAgICBdLAopKQoKJycnLCBjaXRhdGlvbnM9J3dpbGtpZTIwMDdhJyk7\"));\n",
       "    "
      ],
      "text/plain": [
       "<IPython.core.display.Javascript object>"
      ]
     },
     "metadata": {},
     "output_type": "display_data"
    },
    {
     "data": {
      "application/javascript": [
       "$('span:contains(\"# Temp\")').closest('.cell').remove();"
      ],
      "text/plain": [
       "<IPython.core.display.Javascript object>"
      ]
     },
     "metadata": {},
     "output_type": "display_data"
    },
    {
     "data": {
      "application/javascript": [
       "\n",
       "        $('span:contains(\"# Temp\")').closest('.cell').remove();\n",
       "        var code = IPython.notebook.insert_cell_below('code');\n",
       "        code.set_text(atob(\"IyBUZW1wCmluc2VydCgnJycKaXNvMjAwNmEgPSBEQihXb3JrKAogICAgMjAwNiwgIkluZm9ybWF0aW9uIFRlY2hub2xvZ3kgLSBQcm9jZXNzIEFzc2Vzc21lbnQgLSBQYXJ0IDU6IEFuIGV4ZW1wbGFyIFByb2Nlc3MgQXNzZXNzbWVudCBNb2RlbCIsCiAgICBkaXNwbGF5PSJpc28iLAogICAgYXV0aG9ycz0iSVNPL0lFQyAxNTUwNCwgSVNPL0lFQ0pUQzEvU0M3IiwKICAgIHBsYWNlMT0iSW5mb3JtYXRpb24gVGVjaG5vbG9neSAtIFByb2Nlc3MgQXNzZXNzbWVudCIsCiAgICBlbnRyeXR5cGU9ImFydGljbGUiLAogICAgbm90ZT0iY2l0ZWQgQnkgMjUxIiwKICAgIElEPSJJVDIwMDMiLAopKQoKREIoQ2l0YXRpb24oCiAgICB3aWxraWUyMDA3YSwgaXNvMjAwNmEsIHJlZj0iIiwKICAgIGNvbnRleHRzPVsKCiAgICBdLAopKQoKJycnLCBjaXRhdGlvbnM9J3dpbGtpZTIwMDdhJyk7\"));\n",
       "    "
      ],
      "text/plain": [
       "<IPython.core.display.Javascript object>"
      ]
     },
     "metadata": {},
     "output_type": "display_data"
    },
    {
     "data": {
      "application/javascript": [
       "$('span:contains(\"# Temp\")').closest('.cell').remove();"
      ],
      "text/plain": [
       "<IPython.core.display.Javascript object>"
      ]
     },
     "metadata": {},
     "output_type": "display_data"
    },
    {
     "data": {
      "application/javascript": [
       "\n",
       "        $('span:contains(\"# Temp\")').closest('.cell').remove();\n",
       "        var code = IPython.notebook.insert_cell_below('code');\n",
       "        code.set_text(atob(\"IyBUZW1wCmluc2VydCgnJycKaXNvMjAwNmEgPSBEQihXb3JrKAogICAgMjAwNiwgIkluZm9ybWF0aW9uIFRlY2hub2xvZ3kgLSBQcm9jZXNzIEFzc2Vzc21lbnQgLSBQYXJ0IDU6IEFuIGV4ZW1wbGFyIFByb2Nlc3MgQXNzZXNzbWVudCBNb2RlbCIsCiAgICBkaXNwbGF5PSJpc28iLAogICAgYXV0aG9ycz0iSVNPL0lFQyAxNTUwNCwgSVNPL0lFQ0pUQzEvU0M3IiwKICAgIHBsYWNlMT0iSW5mb3JtYXRpb24gVGVjaG5vbG9neSAtIFByb2Nlc3MgQXNzZXNzbWVudCIsCiAgICBlbnRyeXR5cGU9ImFydGljbGUiLAogICAgbm90ZT0iY2l0ZWQgQnkgMjUxIiwKICAgIElEPSJJVDIwMDMiLAopKQoKREIoQ2l0YXRpb24oCiAgICB3aWxraWUyMDA3YSwgaXNvMjAwNmEsIHJlZj0iIiwKICAgIGNvbnRleHRzPVsKCiAgICBdLAopKQoKJycnLCBjaXRhdGlvbnM9J3dpbGtpZTIwMDdhJyk7\"));\n",
       "    "
      ],
      "text/plain": [
       "<IPython.core.display.Javascript object>"
      ]
     },
     "metadata": {},
     "output_type": "display_data"
    },
    {
     "data": {
      "application/javascript": [
       "$('span:contains(\"# Temp\")').closest('.cell').remove();"
      ],
      "text/plain": [
       "<IPython.core.display.Javascript object>"
      ]
     },
     "metadata": {},
     "output_type": "display_data"
    },
    {
     "data": {
      "application/javascript": [
       "\n",
       "        $('span:contains(\"# Temp\")').closest('.cell').remove();\n",
       "        var code = IPython.notebook.insert_cell_below('code');\n",
       "        code.set_text(atob(\"IyBUZW1wCmluc2VydCgnJycKMTU1MDQtMzIwMDZhID0gREIoV29yaygKICAgIDIwMDYsICJJbmZvcm1hdGlvbiB0ZWNobm9sb2d5IC0gUHJvY2VzcyBhc3Nlc3NtZW50IC0gUGFydCAzOiBHdWlkYW5jZSBvbiBwZXJmb3JtaW5nIGFuIGFzc2Vzc21lbnQiLAogICAgZGlzcGxheT0iMTU1MDQtMyIsCiAgICBhdXRob3JzPSJJU08vSUVDIDE1NTA0LTMiLAogICAgcGxhY2UxPSJJbmZvcm1hdGlvbiBUZWNobm9sb2d5IC0gUHJvY2VzcyBBc3Nlc3NtZW50IiwKICAgIGVudHJ5dHlwZT0iYXJ0aWNsZSIsCiAgICBub3RlPSJjaXRlZCBCeSAyNTEiLAogICAgSUQ9IklUMjAwNCIsCikpCgpEQihDaXRhdGlvbigKICAgIHdpbGtpZTIwMDdhLCAxNTUwNC0zMjAwNmEsIHJlZj0iIiwKICAgIGNvbnRleHRzPVsKCiAgICBdLAopKQoKJycnLCBjaXRhdGlvbnM9J3dpbGtpZTIwMDdhJyk7\"));\n",
       "    "
      ],
      "text/plain": [
       "<IPython.core.display.Javascript object>"
      ]
     },
     "metadata": {},
     "output_type": "display_data"
    },
    {
     "data": {
      "application/javascript": [
       "$('span:contains(\"# Temp\")').closest('.cell').remove();"
      ],
      "text/plain": [
       "<IPython.core.display.Javascript object>"
      ]
     },
     "metadata": {},
     "output_type": "display_data"
    },
    {
     "data": {
      "application/javascript": [
       "\n",
       "        $('span:contains(\"# Temp\")').closest('.cell').remove();\n",
       "        var code = IPython.notebook.insert_cell_below('code');\n",
       "        code.set_text(atob(\"IyBUZW1wCmluc2VydCgnJycKMTU1MDQtMzIwMDZhID0gREIoV29yaygKICAgIDIwMDYsICJJbmZvcm1hdGlvbiB0ZWNobm9sb2d5IC0gUHJvY2VzcyBhc3Nlc3NtZW50IC0gUGFydCAzOiBHdWlkYW5jZSBvbiBwZXJmb3JtaW5nIGFuIGFzc2Vzc21lbnQiLAogICAgZGlzcGxheT0iMTU1MDQtMyIsCiAgICBhdXRob3JzPSJJU08vSUVDIDE1NTA0LTMiLAogICAgcGxhY2UxPSJJbmZvcm1hdGlvbiBUZWNobm9sb2d5IC0gUHJvY2VzcyBBc3Nlc3NtZW50IiwKICAgIGVudHJ5dHlwZT0iYXJ0aWNsZSIsCiAgICBub3RlPSJjaXRlZCBCeSAyNTEiLAogICAgSUQ9IklUMjAwNCIsCikpCgpEQihDaXRhdGlvbigKICAgIHdpbGtpZTIwMDdhLCAxNTUwNC0zMjAwNmEsIHJlZj0iIiwKICAgIGNvbnRleHRzPVsKCiAgICBdLAopKQoKJycnLCBjaXRhdGlvbnM9J3dpbGtpZTIwMDdhJyk7\"));\n",
       "    "
      ],
      "text/plain": [
       "<IPython.core.display.Javascript object>"
      ]
     },
     "metadata": {},
     "output_type": "display_data"
    },
    {
     "data": {
      "application/javascript": [
       "$('span:contains(\"# Temp\")').closest('.cell').remove();"
      ],
      "text/plain": [
       "<IPython.core.display.Javascript object>"
      ]
     },
     "metadata": {},
     "output_type": "display_data"
    },
    {
     "data": {
      "application/javascript": [
       "\n",
       "        $('span:contains(\"# Temp\")').closest('.cell').remove();\n",
       "        var code = IPython.notebook.insert_cell_below('code');\n",
       "        code.set_text(atob(\"IyBUZW1wCmluc2VydCgnJycKICAgIG1ha2luZW4wYSA9IERCKFdvcmsoCiAgICAgICAgMCwgIkEgRGV0YWlsZWQgUHJvY2VzcyBBc3Nlc3NtZW50IE1ldGhvZCBmb3IgU01FcyAKeWVhcj0yMDAwIiwKICAgICAgICBkaXNwbGF5PSJtYWtpbmVuIiwKICAgICAgICBhdXRob3JzPSJNYWtpbmVuLCBULiBhbmQgVmFya29pLCBULiBhbmQgTGVwYXNhYXIsIE0uIiwKICAgICAgICBwbGFjZTE9IkV1cm9TUEkiLAogICAgICAgIGVudHJ5dHlwZT0iYXJ0aWNsZSIsCiAgICAgICAgbm90ZT0iY2l0ZWQgQnkgMyIsCiAgICAgICAgSUQ9Ik1ha2luZW4yMDAwIiwKICAgICkpCgpEQihDaXRhdGlvbigKICAgIHdpbGtpZTIwMDdhLCBtYWtpbmVuMGEsIHJlZj0iIiwKICAgIGNvbnRleHRzPVsKCiAgICBdLAopKQoKJycnLCBjaXRhdGlvbnM9J3dpbGtpZTIwMDdhJyk7\"));\n",
       "    "
      ],
      "text/plain": [
       "<IPython.core.display.Javascript object>"
      ]
     },
     "metadata": {},
     "output_type": "display_data"
    },
    {
     "data": {
      "application/javascript": [
       "$('span:contains(\"# Temp\")').closest('.cell').remove();"
      ],
      "text/plain": [
       "<IPython.core.display.Javascript object>"
      ]
     },
     "metadata": {},
     "output_type": "display_data"
    },
    {
     "data": {
      "application/javascript": [
       "\n",
       "        $('span:contains(\"# Temp\")').closest('.cell').remove();\n",
       "        var code = IPython.notebook.insert_cell_below('code');\n",
       "        code.set_text(atob(\"IyBUZW1wCmluc2VydCgnJycKICAgIG1ha2luZW4wYSA9IERCKFdvcmsoCiAgICAgICAgMCwgIkEgRGV0YWlsZWQgUHJvY2VzcyBBc3Nlc3NtZW50IE1ldGhvZCBmb3IgU01FcyAKeWVhcj0yMDAwIiwKICAgICAgICBkaXNwbGF5PSJtYWtpbmVuIiwKICAgICAgICBhdXRob3JzPSJNYWtpbmVuLCBULiBhbmQgVmFya29pLCBULiBhbmQgTGVwYXNhYXIsIE0uIiwKICAgICAgICBwbGFjZTE9IkV1cm9TUEkiLAogICAgICAgIGVudHJ5dHlwZT0iYXJ0aWNsZSIsCiAgICAgICAgbm90ZT0iY2l0ZWQgQnkgMyIsCiAgICAgICAgSUQ9Ik1ha2luZW4yMDAwIiwKICAgICkpCgpEQihDaXRhdGlvbigKICAgIHdpbGtpZTIwMDdhLCBtYWtpbmVuMGEsIHJlZj0iIiwKICAgIGNvbnRleHRzPVsKCiAgICBdLAopKQoKJycnLCBjaXRhdGlvbnM9J3dpbGtpZTIwMDdhJyk7\"));\n",
       "    "
      ],
      "text/plain": [
       "<IPython.core.display.Javascript object>"
      ]
     },
     "metadata": {},
     "output_type": "display_data"
    },
    {
     "data": {
      "application/javascript": [
       "$('span:contains(\"# Temp\")').closest('.cell').remove();"
      ],
      "text/plain": [
       "<IPython.core.display.Javascript object>"
      ]
     },
     "metadata": {},
     "output_type": "display_data"
    },
    {
     "data": {
      "application/javascript": [
       "\n",
       "        $('span:contains(\"# Temp\")').closest('.cell').remove();\n",
       "        var code = IPython.notebook.insert_cell_below('code');\n",
       "        code.set_text(atob(\"IyBUZW1wCmluc2VydCgnJycKY2FmZmVyeTIwMDVhID0gREIoV29yaygKICAgIDIwMDUsICJJbXByb3ZpbmcgZXhwcmVzcyBwcm9jZXNzIGFwcHJhaXNhbCBtZXRob2QiLAogICAgZGlzcGxheT0iY2FmZmVyeSIsCiAgICBhdXRob3JzPSJNYyBDYWZmZXJ5LCBGLiBhbmQgTWNGYWxsLCBELiBhbmQgV2lsa2llLCBGLkcuIiwKICAgIHBsYWNlPUlDUEZTUEksCiAgICBwcD0iMjg2LTI5OCIsCiAgICBlbnRyeXR5cGU9ImFydGljbGUiLAogICAgSUQ9Ik1jQ2FmZmVyeTIwMDUiLAopKQoKREIoQ2l0YXRpb24oCiAgICB3aWxraWUyMDA3YSwgY2FmZmVyeTIwMDVhLCByZWY9IiIsCiAgICBjb250ZXh0cz1bCgogICAgXSwKKSkKCicnJywgY2l0YXRpb25zPSd3aWxraWUyMDA3YScpOw==\"));\n",
       "    "
      ],
      "text/plain": [
       "<IPython.core.display.Javascript object>"
      ]
     },
     "metadata": {},
     "output_type": "display_data"
    },
    {
     "data": {
      "application/javascript": [
       "$('span:contains(\"# Temp\")').closest('.cell').remove();"
      ],
      "text/plain": [
       "<IPython.core.display.Javascript object>"
      ]
     },
     "metadata": {},
     "output_type": "display_data"
    },
    {
     "data": {
      "application/javascript": [
       "\n",
       "        $('span:contains(\"# Temp\")').closest('.cell').remove();\n",
       "        var code = IPython.notebook.insert_cell_below('code');\n",
       "        code.set_text(atob(\"IyBUZW1wCmluc2VydCgnJycKY2FmZmVyeTIwMDVhID0gREIoV29yaygKICAgIDIwMDUsICJJbXByb3ZpbmcgZXhwcmVzcyBwcm9jZXNzIGFwcHJhaXNhbCBtZXRob2QiLAogICAgZGlzcGxheT0iY2FmZmVyeSIsCiAgICBhdXRob3JzPSJNYyBDYWZmZXJ5LCBGLiBhbmQgTWNGYWxsLCBELiBhbmQgV2lsa2llLCBGLkcuIiwKICAgIHBsYWNlPUlDUEZTUEksCiAgICBwcD0iMjg2LTI5OCIsCiAgICBlbnRyeXR5cGU9ImFydGljbGUiLAogICAgSUQ9Ik1jQ2FmZmVyeTIwMDUiLAopKQoKREIoQ2l0YXRpb24oCiAgICB3aWxraWUyMDA3YSwgY2FmZmVyeTIwMDVhLCByZWY9IiIsCiAgICBjb250ZXh0cz1bCgogICAgXSwKKSkKCicnJywgY2l0YXRpb25zPSd3aWxraWUyMDA3YScpOw==\"));\n",
       "    "
      ],
      "text/plain": [
       "<IPython.core.display.Javascript object>"
      ]
     },
     "metadata": {},
     "output_type": "display_data"
    },
    {
     "data": {
      "application/javascript": [
       "$('span:contains(\"# Temp\")').closest('.cell').remove();"
      ],
      "text/plain": [
       "<IPython.core.display.Javascript object>"
      ]
     },
     "metadata": {},
     "output_type": "display_data"
    },
    {
     "data": {
      "application/javascript": [
       "\n",
       "        $('span:contains(\"# Temp\")').closest('.cell').remove();\n",
       "        var code = IPython.notebook.insert_cell_below('code');\n",
       "        code.set_text(atob(\"IyBUZW1wCmluc2VydCgnJycKY2FmZmVyeTIwMDRhID0gREIoV29yaygKICAgIDIwMDQsICJOb3J0aGVybiBJcmVsYW5kIFNvZnR3YXJlIEluZHVzdHJ5IFN1cnZleSIsCiAgICBkaXNwbGF5PSJjYWZmZXJ5IiwKICAgIGF1dGhvcnM9Ik1jIENhZmZlcnksIEYuIGFuZCBXaWxraWUsIEYuRy4gYW5kIE1jRmFsbCwgRC4gYW5kIExlc3RlciwgTi4iLAogICAgcHA9IjE1OS0xNjEiLAogICAgcGxhY2UxPSJQcm9jZWVkaW5ncyBvZiBGb3VydGggSW50ZXJuYXRpb25hbCBTUElDRSBDb25mZXJlbmNlIG9uIFByb2Nlc3MgQXNzZXNzbWVudCBhbmQgSW1wcm92ZW1lbnQiLAogICAgZW50cnl0eXBlPSJhcnRpY2xlIiwKICAgIG5vdGU9ImNpdGVkIEJ5IDEiLAogICAgSUQ9Ik1jQ2FmZmVyeTIwMDQiLAopKQoKREIoQ2l0YXRpb24oCiAgICB3aWxraWUyMDA3YSwgY2FmZmVyeTIwMDRhLCByZWY9IiIsCiAgICBjb250ZXh0cz1bCgogICAgXSwKKSkKCicnJywgY2l0YXRpb25zPSd3aWxraWUyMDA3YScpOw==\"));\n",
       "    "
      ],
      "text/plain": [
       "<IPython.core.display.Javascript object>"
      ]
     },
     "metadata": {},
     "output_type": "display_data"
    },
    {
     "data": {
      "application/javascript": [
       "$('span:contains(\"# Temp\")').closest('.cell').remove();"
      ],
      "text/plain": [
       "<IPython.core.display.Javascript object>"
      ]
     },
     "metadata": {},
     "output_type": "display_data"
    },
    {
     "data": {
      "application/javascript": [
       "\n",
       "        $('span:contains(\"# Temp\")').closest('.cell').remove();\n",
       "        var code = IPython.notebook.insert_cell_below('code');\n",
       "        code.set_text(atob(\"IyBUZW1wCmluc2VydCgnJycKY2FmZmVyeTIwMDRhID0gREIoV29yaygKICAgIDIwMDQsICJOb3J0aGVybiBJcmVsYW5kIFNvZnR3YXJlIEluZHVzdHJ5IFN1cnZleSIsCiAgICBkaXNwbGF5PSJjYWZmZXJ5IiwKICAgIGF1dGhvcnM9Ik1jIENhZmZlcnksIEYuIGFuZCBXaWxraWUsIEYuRy4gYW5kIE1jRmFsbCwgRC4gYW5kIExlc3RlciwgTi4iLAogICAgcHA9IjE1OS0xNjEiLAogICAgcGxhY2UxPSJQcm9jZWVkaW5ncyBvZiBGb3VydGggSW50ZXJuYXRpb25hbCBTUElDRSBDb25mZXJlbmNlIG9uIFByb2Nlc3MgQXNzZXNzbWVudCBhbmQgSW1wcm92ZW1lbnQiLAogICAgZW50cnl0eXBlPSJhcnRpY2xlIiwKICAgIG5vdGU9ImNpdGVkIEJ5IDEiLAogICAgSUQ9Ik1jQ2FmZmVyeTIwMDQiLAopKQoKREIoQ2l0YXRpb24oCiAgICB3aWxraWUyMDA3YSwgY2FmZmVyeTIwMDRhLCByZWY9IiIsCiAgICBjb250ZXh0cz1bCgogICAgXSwKKSkKCicnJywgY2l0YXRpb25zPSd3aWxraWUyMDA3YScpOw==\"));\n",
       "    "
      ],
      "text/plain": [
       "<IPython.core.display.Javascript object>"
      ]
     },
     "metadata": {},
     "output_type": "display_data"
    },
    {
     "data": {
      "application/javascript": [
       "$('span:contains(\"# Temp\")').closest('.cell').remove();"
      ],
      "text/plain": [
       "<IPython.core.display.Javascript object>"
      ]
     },
     "metadata": {},
     "output_type": "display_data"
    },
    {
     "data": {
      "application/javascript": [
       "\n",
       "        $('span:contains(\"# Temp\")').closest('.cell').remove();\n",
       "        var code = IPython.notebook.insert_cell_below('code');\n",
       "        code.set_text(atob(\"IyBUZW1wCmluc2VydCgnJycKbWNmYWxsMjAwM2EgPSBEQihXb3JrKAogICAgMjAwMywgIlNvZnR3YXJlIHByb2Nlc3NlcyBhbmQgcHJvY2VzcyBpbXByb3ZlbWVudCBpbiBOb3J0aGVybiBJcmVsYW5kIiwKICAgIGRpc3BsYXk9Im1jZmFsbCIsCiAgICBhdXRob3JzPSJNY0ZhbGwsIEQuIGFuZCBXaWxraWUsIEYuRy4gYW5kIE1jQ2FmZmVyeSwgRi4gYW5kIExlc3RlciwgTi5HLiBhbmQgU3RlcnJpdHQsIFIuIiwKICAgIHBsYWNlPUlDQVNFQSwKICAgIHBwPSIxLTEwIiwKICAgIGVudHJ5dHlwZT0iYXJ0aWNsZSIsCiAgICBub3RlPSJjaXRlZCBCeSAxMCIsCiAgICBJRD0iTWNGYWxsMjAwMyIsCikpCgpEQihDaXRhdGlvbigKICAgIHdpbGtpZTIwMDdhLCBtY2ZhbGwyMDAzYSwgcmVmPSIiLAogICAgY29udGV4dHM9WwoKICAgIF0sCikpCgonJycsIGNpdGF0aW9ucz0nd2lsa2llMjAwN2EnKTs=\"));\n",
       "    "
      ],
      "text/plain": [
       "<IPython.core.display.Javascript object>"
      ]
     },
     "metadata": {},
     "output_type": "display_data"
    },
    {
     "data": {
      "application/javascript": [
       "$('span:contains(\"# Temp\")').closest('.cell').remove();"
      ],
      "text/plain": [
       "<IPython.core.display.Javascript object>"
      ]
     },
     "metadata": {},
     "output_type": "display_data"
    },
    {
     "data": {
      "application/javascript": [
       "\n",
       "        $('span:contains(\"# Temp\")').closest('.cell').remove();\n",
       "        var code = IPython.notebook.insert_cell_below('code');\n",
       "        code.set_text(atob(\"IyBUZW1wCmluc2VydCgnJycKbWNmYWxsMjAwM2EgPSBEQihXb3JrKAogICAgMjAwMywgIlNvZnR3YXJlIHByb2Nlc3NlcyBhbmQgcHJvY2VzcyBpbXByb3ZlbWVudCBpbiBOb3J0aGVybiBJcmVsYW5kIiwKICAgIGRpc3BsYXk9Im1jZmFsbCIsCiAgICBhdXRob3JzPSJNY0ZhbGwsIEQuIGFuZCBXaWxraWUsIEYuRy4gYW5kIE1jQ2FmZmVyeSwgRi4gYW5kIExlc3RlciwgTi5HLiBhbmQgU3RlcnJpdHQsIFIuIiwKICAgIHBsYWNlPUlDQVNFQSwKICAgIHBwPSIxLTEwIiwKICAgIGVudHJ5dHlwZT0iYXJ0aWNsZSIsCiAgICBub3RlPSJjaXRlZCBCeSAxMCIsCiAgICBJRD0iTWNGYWxsMjAwMyIsCikpCgpEQihDaXRhdGlvbigKICAgIHdpbGtpZTIwMDdhLCBtY2ZhbGwyMDAzYSwgcmVmPSIiLAogICAgY29udGV4dHM9WwoKICAgIF0sCikpCgonJycsIGNpdGF0aW9ucz0nd2lsa2llMjAwN2EnKTs=\"));\n",
       "    "
      ],
      "text/plain": [
       "<IPython.core.display.Javascript object>"
      ]
     },
     "metadata": {},
     "output_type": "display_data"
    },
    {
     "data": {
      "application/javascript": [
       "$('span:contains(\"# Temp\")').closest('.cell').remove();"
      ],
      "text/plain": [
       "<IPython.core.display.Javascript object>"
      ]
     },
     "metadata": {},
     "output_type": "display_data"
    },
    {
     "data": {
      "application/javascript": [
       "\n",
       "        $('span:contains(\"# Temp\")').closest('.cell').remove();\n",
       "        var code = IPython.notebook.insert_cell_below('code');\n",
       "        code.set_text(atob(\"IyBUZW1wCmluc2VydCgnJycKbWNmZWVsZXkxOTk2YSA9IERCKFdvcmsoCiAgICAxOTk2LCAiSURFQUw6IEEgVXNlcidzIEd1aWRlIGZvciBTb2Z0d2FyZSBQcm9jZXNzIEltcHJvdmVtZW50IiwKICAgIGRpc3BsYXk9Im1jZmVlbGV5IiwKICAgIGF1dGhvcnM9Ik1jRmVlbGV5LCBCLiIsCiAgICBwbGFjZTE9IlNvZnR3YXJlIEVuZ2luZWVyaW5nIEluc3RpdHV0ZTogQ01VL1NFSSIsCiAgICBlbnRyeXR5cGU9ImFydGljbGUiLAogICAgbm90ZT0iY2l0ZWQgQnkgMTgxIiwKICAgIElEPSJNY0ZlZWxleTE5OTYiLAopKQoKREIoQ2l0YXRpb24oCiAgICB3aWxraWUyMDA3YSwgbWNmZWVsZXkxOTk2YSwgcmVmPSIiLAogICAgY29udGV4dHM9WwoKICAgIF0sCikpCgonJycsIGNpdGF0aW9ucz0nd2lsa2llMjAwN2EnKTs=\"));\n",
       "    "
      ],
      "text/plain": [
       "<IPython.core.display.Javascript object>"
      ]
     },
     "metadata": {},
     "output_type": "display_data"
    },
    {
     "data": {
      "application/javascript": [
       "$('span:contains(\"# Temp\")').closest('.cell').remove();"
      ],
      "text/plain": [
       "<IPython.core.display.Javascript object>"
      ]
     },
     "metadata": {},
     "output_type": "display_data"
    },
    {
     "data": {
      "application/javascript": [
       "\n",
       "        $('span:contains(\"# Temp\")').closest('.cell').remove();\n",
       "        var code = IPython.notebook.insert_cell_below('code');\n",
       "        code.set_text(atob(\"IyBUZW1wCmluc2VydCgnJycKbWNmZWVsZXkxOTk2YSA9IERCKFdvcmsoCiAgICAxOTk2LCAiSURFQUw6IEEgVXNlcidzIEd1aWRlIGZvciBTb2Z0d2FyZSBQcm9jZXNzIEltcHJvdmVtZW50IiwKICAgIGRpc3BsYXk9Im1jZmVlbGV5IiwKICAgIGF1dGhvcnM9Ik1jRmVlbGV5LCBCLiIsCiAgICBwbGFjZTE9IlNvZnR3YXJlIEVuZ2luZWVyaW5nIEluc3RpdHV0ZTogQ01VL1NFSSIsCiAgICBlbnRyeXR5cGU9ImFydGljbGUiLAogICAgbm90ZT0iY2l0ZWQgQnkgMTgxIiwKICAgIElEPSJNY0ZlZWxleTE5OTYiLAopKQoKREIoQ2l0YXRpb24oCiAgICB3aWxraWUyMDA3YSwgbWNmZWVsZXkxOTk2YSwgcmVmPSIiLAogICAgY29udGV4dHM9WwoKICAgIF0sCikpCgonJycsIGNpdGF0aW9ucz0nd2lsa2llMjAwN2EnKTs=\"));\n",
       "    "
      ],
      "text/plain": [
       "<IPython.core.display.Javascript object>"
      ]
     },
     "metadata": {},
     "output_type": "display_data"
    },
    {
     "data": {
      "application/javascript": [
       "$('span:contains(\"# Temp\")').closest('.cell').remove();"
      ],
      "text/plain": [
       "<IPython.core.display.Javascript object>"
      ]
     },
     "metadata": {},
     "output_type": "display_data"
    },
    {
     "data": {
      "application/javascript": [
       "\n",
       "        $('span:contains(\"# Temp\")').closest('.cell').remove();\n",
       "        var code = IPython.notebook.insert_cell_below('code');\n",
       "        code.set_text(atob(\"IyBUZW1wCmluc2VydCgnJycKcm91dDIwMDFhID0gREIoV29yaygKICAgIDIwMDEsICJUaGUgUkFQSUQgYXNzZXNzbWVudCBvZiBzb2Z0d2FyZSBwcm9jZXNzIGNhcGFiaWxpdHkuIEluIFNvZnR3YXJlIFByb2Nlc3MgSW1wcm92ZW1lbnQsIEh1bnRlciBSQiIsCiAgICBkaXNwbGF5PSJyb3V0IiwKICAgIGF1dGhvcnM9IlJvdXQsIFQuUC4gYW5kIFR1ZmZsZXksIEEuIGFuZCBDYWhpbGwsIEIuIGFuZCBIb2RnZW4sIEIuIiwKICAgIHBsYWNlMT0iSUVFRSBDb21wdXRlciBTb2NpZXR5IFByZXNzIiwKICAgIGVudHJ5dHlwZT0iYXJ0aWNsZSIsCiAgICBub3RlPSJjaXRlZCBCeSAyIiwKICAgIElEPSJSb3V0MjAwMSIsCikpCgpEQihDaXRhdGlvbigKICAgIHdpbGtpZTIwMDdhLCByb3V0MjAwMWEsIHJlZj0iIiwKICAgIGNvbnRleHRzPVsKCiAgICBdLAopKQoKJycnLCBjaXRhdGlvbnM9J3dpbGtpZTIwMDdhJyk7\"));\n",
       "    "
      ],
      "text/plain": [
       "<IPython.core.display.Javascript object>"
      ]
     },
     "metadata": {},
     "output_type": "display_data"
    },
    {
     "data": {
      "application/javascript": [
       "$('span:contains(\"# Temp\")').closest('.cell').remove();"
      ],
      "text/plain": [
       "<IPython.core.display.Javascript object>"
      ]
     },
     "metadata": {},
     "output_type": "display_data"
    },
    {
     "data": {
      "application/javascript": [
       "\n",
       "        $('span:contains(\"# Temp\")').closest('.cell').remove();\n",
       "        var code = IPython.notebook.insert_cell_below('code');\n",
       "        code.set_text(atob(\"IyBUZW1wCmluc2VydCgnJycKcm91dDIwMDFhID0gREIoV29yaygKICAgIDIwMDEsICJUaGUgUkFQSUQgYXNzZXNzbWVudCBvZiBzb2Z0d2FyZSBwcm9jZXNzIGNhcGFiaWxpdHkuIEluIFNvZnR3YXJlIFByb2Nlc3MgSW1wcm92ZW1lbnQsIEh1bnRlciBSQiIsCiAgICBkaXNwbGF5PSJyb3V0IiwKICAgIGF1dGhvcnM9IlJvdXQsIFQuUC4gYW5kIFR1ZmZsZXksIEEuIGFuZCBDYWhpbGwsIEIuIGFuZCBIb2RnZW4sIEIuIiwKICAgIHBsYWNlMT0iSUVFRSBDb21wdXRlciBTb2NpZXR5IFByZXNzIiwKICAgIGVudHJ5dHlwZT0iYXJ0aWNsZSIsCiAgICBub3RlPSJjaXRlZCBCeSAyIiwKICAgIElEPSJSb3V0MjAwMSIsCikpCgpEQihDaXRhdGlvbigKICAgIHdpbGtpZTIwMDdhLCByb3V0MjAwMWEsIHJlZj0iIiwKICAgIGNvbnRleHRzPVsKCiAgICBdLAopKQoKJycnLCBjaXRhdGlvbnM9J3dpbGtpZTIwMDdhJyk7\"));\n",
       "    "
      ],
      "text/plain": [
       "<IPython.core.display.Javascript object>"
      ]
     },
     "metadata": {},
     "output_type": "display_data"
    },
    {
     "data": {
      "application/javascript": [
       "$('span:contains(\"# Temp\")').closest('.cell').remove();"
      ],
      "text/plain": [
       "<IPython.core.display.Javascript object>"
      ]
     },
     "metadata": {},
     "output_type": "display_data"
    },
    {
     "data": {
      "application/javascript": [
       "\n",
       "        $('span:contains(\"# Temp\")').closest('.cell').remove();\n",
       "        var code = IPython.notebook.insert_cell_below('code');\n",
       "        code.set_text(atob(\"IyBUZW1wCmluc2VydCgnJycKcGF1bGsxOTk1YSA9IERCKFdvcmsoCiAgICAxOTk1LCAiVGhlIGNhcGFiaWxpdHkgbWF0dXJpdHkgbW9kZWw6IEd1aWRlbGluZXMgZm9yIGltcHJvdmluZyB0aGUgc29mdHdhcmUgcHJvY2VzcyIsCiAgICBkaXNwbGF5PSJwYXVsayIsCiAgICBhdXRob3JzPSJQYXVsaywgTS5DLiBhbmQgV2ViZXIsIEMuVi4gYW5kIEN1cnRpcywgQi4gYW5kIENocmlzc2lzLCBNLkIuIiwKICAgIHBsYWNlMT0iVGhlIENhcGFiaWxpdHkgTWF0dXJpdHkgTW9kZWw6IEd1aWRlbGluZXMgZm9yIEltcHJvdmluZyB0aGUgU29mdHdhcmUgUHJvY2VzcyIsCiAgICBlbnRyeXR5cGU9ImFydGljbGUiLAogICAgbm90ZT0iY2l0ZWQgQnkgOTgyIiwKICAgIElEPSJQYXVsazE5OTUiLAopKQoKREIoQ2l0YXRpb24oCiAgICB3aWxraWUyMDA3YSwgcGF1bGsxOTk1YSwgcmVmPSIiLAogICAgY29udGV4dHM9WwoKICAgIF0sCikpCgonJycsIGNpdGF0aW9ucz0nd2lsa2llMjAwN2EnKTs=\"));\n",
       "    "
      ],
      "text/plain": [
       "<IPython.core.display.Javascript object>"
      ]
     },
     "metadata": {},
     "output_type": "display_data"
    },
    {
     "data": {
      "application/javascript": [
       "$('span:contains(\"# Temp\")').closest('.cell').remove();"
      ],
      "text/plain": [
       "<IPython.core.display.Javascript object>"
      ]
     },
     "metadata": {},
     "output_type": "display_data"
    },
    {
     "data": {
      "application/javascript": [
       "\n",
       "        $('span:contains(\"# Temp\")').closest('.cell').remove();\n",
       "        var code = IPython.notebook.insert_cell_below('code');\n",
       "        code.set_text(atob(\"IyBUZW1wCmluc2VydCgnJycKcGF1bGsxOTk1YSA9IERCKFdvcmsoCiAgICAxOTk1LCAiVGhlIGNhcGFiaWxpdHkgbWF0dXJpdHkgbW9kZWw6IEd1aWRlbGluZXMgZm9yIGltcHJvdmluZyB0aGUgc29mdHdhcmUgcHJvY2VzcyIsCiAgICBkaXNwbGF5PSJwYXVsayIsCiAgICBhdXRob3JzPSJQYXVsaywgTS5DLiBhbmQgV2ViZXIsIEMuVi4gYW5kIEN1cnRpcywgQi4gYW5kIENocmlzc2lzLCBNLkIuIiwKICAgIHBsYWNlMT0iVGhlIENhcGFiaWxpdHkgTWF0dXJpdHkgTW9kZWw6IEd1aWRlbGluZXMgZm9yIEltcHJvdmluZyB0aGUgU29mdHdhcmUgUHJvY2VzcyIsCiAgICBlbnRyeXR5cGU9ImFydGljbGUiLAogICAgbm90ZT0iY2l0ZWQgQnkgOTgyIiwKICAgIElEPSJQYXVsazE5OTUiLAopKQoKREIoQ2l0YXRpb24oCiAgICB3aWxraWUyMDA3YSwgcGF1bGsxOTk1YSwgcmVmPSIiLAogICAgY29udGV4dHM9WwoKICAgIF0sCikpCgonJycsIGNpdGF0aW9ucz0nd2lsa2llMjAwN2EnKTs=\"));\n",
       "    "
      ],
      "text/plain": [
       "<IPython.core.display.Javascript object>"
      ]
     },
     "metadata": {},
     "output_type": "display_data"
    },
    {
     "data": {
      "application/javascript": [
       "$('span:contains(\"# Temp\")').closest('.cell').remove();"
      ],
      "text/plain": [
       "<IPython.core.display.Javascript object>"
      ]
     },
     "metadata": {},
     "output_type": "display_data"
    },
    {
     "data": {
      "application/javascript": [
       "\n",
       "        $('span:contains(\"# Temp\")').closest('.cell').remove();\n",
       "        var code = IPython.notebook.insert_cell_below('code');\n",
       "        code.set_text(atob(\"IyBUZW1wCmluc2VydCgnJycKdGVhbTIwMDdhID0gREIoV29yaygKICAgIDIwMDcsICJBcHByYWlzYWwgcmVxdWlyZW1lbnRzIGZvciBDTU1JriwgVmVyc2lvbiAxLjEiLAogICAgZGlzcGxheT0idGVhbSIsCiAgICBhdXRob3JzPSJDTU1JIFByb2R1Y3QgVGVhbSIsCiAgICBwbGFjZTE9IlNFSSIsCiAgICBlbnRyeXR5cGU9ImFydGljbGUiLAogICAgbm90ZT0iY2l0ZWQgQnkgMSIsCiAgICBJRD0iTm9BdXRob3IyMDA3IiwKKSkKCkRCKENpdGF0aW9uKAogICAgd2lsa2llMjAwN2EsIHRlYW0yMDA3YSwgcmVmPSIiLAogICAgY29udGV4dHM9WwoKICAgIF0sCikpCgonJycsIGNpdGF0aW9ucz0nd2lsa2llMjAwN2EnKTs=\"));\n",
       "    "
      ],
      "text/plain": [
       "<IPython.core.display.Javascript object>"
      ]
     },
     "metadata": {},
     "output_type": "display_data"
    },
    {
     "data": {
      "application/javascript": [
       "$('span:contains(\"# Temp\")').closest('.cell').remove();"
      ],
      "text/plain": [
       "<IPython.core.display.Javascript object>"
      ]
     },
     "metadata": {},
     "output_type": "display_data"
    },
    {
     "data": {
      "application/javascript": [
       "\n",
       "        $('span:contains(\"# Temp\")').closest('.cell').remove();\n",
       "        var code = IPython.notebook.insert_cell_below('code');\n",
       "        code.set_text(atob(\"IyBUZW1wCmluc2VydCgnJycKdGVhbTIwMDdhID0gREIoV29yaygKICAgIDIwMDcsICJBcHByYWlzYWwgcmVxdWlyZW1lbnRzIGZvciBDTU1JriwgVmVyc2lvbiAxLjEiLAogICAgZGlzcGxheT0idGVhbSIsCiAgICBhdXRob3JzPSJDTU1JIFByb2R1Y3QgVGVhbSIsCiAgICBwbGFjZTE9IlNFSSIsCiAgICBlbnRyeXR5cGU9ImFydGljbGUiLAogICAgbm90ZT0iY2l0ZWQgQnkgMSIsCiAgICBJRD0iTm9BdXRob3IyMDA3IiwKKSkKCkRCKENpdGF0aW9uKAogICAgd2lsa2llMjAwN2EsIHRlYW0yMDA3YSwgcmVmPSIiLAogICAgY29udGV4dHM9WwoKICAgIF0sCikpCgonJycsIGNpdGF0aW9ucz0nd2lsa2llMjAwN2EnKTs=\"));\n",
       "    "
      ],
      "text/plain": [
       "<IPython.core.display.Javascript object>"
      ]
     },
     "metadata": {},
     "output_type": "display_data"
    }
   ],
   "source": [
    "BackwardSnowballing(\"wilkie2007a\", articles=article_list)"
   ]
  },
  {
   "cell_type": "code",
   "execution_count": null,
   "metadata": {
    "collapsed": true
   },
   "outputs": [],
   "source": [
    "# Temp\n",
    "insert('''\n",
    "team2007a = DB(Work(\n",
    "    2007, \"Appraisal requirements for CMMI®, Version 1.1\",\n",
    "    display=\"team\",\n",
    "    authors=\"CMMI Product Team\",\n",
    "    place1=\"SEI\",\n",
    "    entrytype=\"article\",\n",
    "    note=\"cited By 1\",\n",
    "    ID=\"NoAuthor2007\",\n",
    "))\n",
    "\n",
    "DB(Citation(\n",
    "    wilkie2007a, team2007a, ref=\"\",\n",
    "    contexts=[\n",
    "\n",
    "    ],\n",
    "))\n",
    "\n",
    "''', citations='wilkie2007a');"
   ]
  },
  {
   "cell_type": "code",
   "execution_count": null,
   "metadata": {
    "collapsed": true
   },
   "outputs": [],
   "source": []
  }
 ],
 "metadata": {
  "kernelspec": {
   "display_name": "Python 3",
   "language": "python",
   "name": "python3"
  },
  "language_info": {
   "codemirror_mode": {
    "name": "ipython",
    "version": 3
   },
   "file_extension": ".py",
   "mimetype": "text/x-python",
   "name": "python",
   "nbconvert_exporter": "python",
   "pygments_lexer": "ipython3",
   "version": "3.6.0"
  },
  "toc": {
   "nav_menu": {
    "height": "12px",
    "width": "252px"
   },
   "number_sections": true,
   "sideBar": true,
   "skip_h1_title": false,
   "toc_cell": false,
   "toc_position": {},
   "toc_section_display": "block",
   "toc_window_display": false
  }
 },
 "nbformat": 4,
 "nbformat_minor": 2
}
