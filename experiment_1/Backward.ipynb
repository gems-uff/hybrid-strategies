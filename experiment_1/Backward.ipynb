{
 "cells": [
  {
   "cell_type": "code",
   "execution_count": 1,
   "metadata": {
    "collapsed": true
   },
   "outputs": [],
   "source": [
    "import database\n",
    "from snowballing.operations import load_work, reload, work_by_varname\n",
    "from snowballing.snowballing import Converter\n",
    "from snowballing.dbmanager import insert, set_attribute"
   ]
  },
  {
   "cell_type": "code",
   "execution_count": 18,
   "metadata": {
    "scrolled": true
   },
   "outputs": [
    {
     "data": {
      "application/vnd.jupyter.widget-view+json": {
       "model_id": "54bbedb0dc114942a9856c18bf714d98",
       "version_major": 2,
       "version_minor": 0
      },
      "text/html": [
       "<p>Failed to display Jupyter Widget of type <code>VBox</code>.</p>\n",
       "<p>\n",
       "  If you're reading this message in Jupyter Notebook or JupyterLab, it may mean\n",
       "  that the widgets JavaScript is still loading. If this message persists, it\n",
       "  likely means that the widgets JavaScript library is either not installed or\n",
       "  not enabled. See the <a href=\"https://ipywidgets.readthedocs.io/en/stable/user_install.html\">Jupyter\n",
       "  Widgets Documentation</a> for setup instructions.\n",
       "</p>\n",
       "<p>\n",
       "  If you're reading this message in another notebook frontend (for example, a static\n",
       "  rendering on GitHub or <a href=\"https://nbviewer.jupyter.org/\">NBViewer</a>),\n",
       "  it may mean that your frontend doesn't currently support widgets.\n",
       "</p>\n"
      ],
      "text/plain": [
       "VBox(children=(HBox(children=(Dropdown(index=1, options={'BibTeX': 'bibtex', 'Text': 'text', '[N] author name place other year': 'citation', 'Quoted': 'quoted'}, value='text'), Button(description='Set article_list variable', disabled=True, style=ButtonStyle()), Label(value=''))), HBox(children=(Textarea(value='', layout=Layout(height='500px', width='50%')), Textarea(value='', layout=Layout(height='500px', width='50%'))))))"
      ]
     },
     "metadata": {},
     "output_type": "display_data"
    }
   ],
   "source": [
    "Converter().browser()"
   ]
  },
  {
   "cell_type": "code",
   "execution_count": 19,
   "metadata": {},
   "outputs": [
    {
     "data": {
      "text/plain": [
       "14"
      ]
     },
     "execution_count": 19,
     "metadata": {},
     "output_type": "execute_result"
    }
   ],
   "source": [
    "len(article_list)"
   ]
  },
  {
   "cell_type": "code",
   "execution_count": null,
   "metadata": {
    "collapsed": true
   },
   "outputs": [],
   "source": [
    "#from database.work.y2015 import li2015a"
   ]
  },
  {
   "cell_type": "code",
   "execution_count": null,
   "metadata": {
    "collapsed": true
   },
   "outputs": [],
   "source": [
    "#int(getattr(li2015a, 'scopus', 0))"
   ]
  },
  {
   "cell_type": "code",
   "execution_count": null,
   "metadata": {
    "collapsed": true
   },
   "outputs": [],
   "source": [
    "#print(article_list)"
   ]
  },
  {
   "cell_type": "code",
   "execution_count": null,
   "metadata": {
    "collapsed": true
   },
   "outputs": [],
   "source": []
  },
  {
   "cell_type": "code",
   "execution_count": null,
   "metadata": {
    "collapsed": true
   },
   "outputs": [],
   "source": []
  },
  {
   "cell_type": "code",
   "execution_count": 33,
   "metadata": {},
   "outputs": [
    {
     "data": {
      "application/vnd.jupyter.widget-view+json": {
       "model_id": "3a4b3c12832a42168a5146d32660fc3f",
       "version_major": 2,
       "version_minor": 0
      },
      "text/html": [
       "<p>Failed to display Jupyter Widget of type <code>VBox</code>.</p>\n",
       "<p>\n",
       "  If you're reading this message in Jupyter Notebook or JupyterLab, it may mean\n",
       "  that the widgets JavaScript is still loading. If this message persists, it\n",
       "  likely means that the widgets JavaScript library is either not installed or\n",
       "  not enabled. See the <a href=\"https://ipywidgets.readthedocs.io/en/stable/user_install.html\">Jupyter\n",
       "  Widgets Documentation</a> for setup instructions.\n",
       "</p>\n",
       "<p>\n",
       "  If you're reading this message in another notebook frontend (for example, a static\n",
       "  rendering on GitHub or <a href=\"https://nbviewer.jupyter.org/\">NBViewer</a>),\n",
       "  it may mean that your frontend doesn't currently support widgets.\n",
       "</p>\n"
      ],
      "text/plain": [
       "VBox(children=(HBox(children=(Button(description='Previous Article', disabled=True, icon='caret-left', style=ButtonStyle()), Button(description='Reload Article', icon='refresh', style=ButtonStyle()), Button(description='Next Article', icon='caret-right', style=ButtonStyle()))), HBox(children=(Button(description='Unrelated: Scripts', style=ButtonStyle()), Button(description='Unrelated: Provenance', style=ButtonStyle()), Button(description='Both', style=ButtonStyle()), Button(description='Ok', style=ButtonStyle()))), HBox(children=(Dropdown(description='Type', index=3, options=('Work', 'WorkSnowball', 'WorkOk', 'WorkUnrelated', 'WorkNoFile', 'WorkLang', 'Site', 'Email'), value='WorkUnrelated'), ToggleButton(value=False, description='File'))), HBox(children=(Text(value='', description='Due'), Text(value='', description='Place'))), HBox(children=(Text(value='', description='Year'), Text(value='', description='Prefix Var'))), HBox(children=(Text(value='', description='PDFPage'), Text(value='', description='Related'))), HBox(children=(Text(value='', description='Display'), Text(value='', description='Summary'))), HBox(children=(Text(value='', description='Star'), Text(value='', description='Link'))), HBox(children=(Button(description='Reload Article', icon='refresh', style=ButtonStyle()), IntSlider(value=0, max=3), Label(value='1/4'))), Output()))"
      ]
     },
     "metadata": {},
     "output_type": "display_data"
    },
    {
     "data": {
      "application/javascript": [
       "$('span:contains(\"# Temp\")').closest('.cell').remove();"
      ],
      "text/plain": [
       "<IPython.core.display.Javascript object>"
      ]
     },
     "metadata": {},
     "output_type": "display_data"
    },
    {
     "data": {
      "application/javascript": [
       "\n",
       "        $('span:contains(\"# Temp\")').closest('.cell').remove();\n",
       "        var code = IPython.notebook.insert_cell_below('code');\n",
       "        code.set_text(atob(\"IyBUZW1wCmluc2VydCgnJycKa3ZhbGUwYSA9IERCKFdvcmtVbnJlbGF0ZWQoCiAgICAwLCAiSW50ZXJWaWV3czogYW4gaW50cm9kdWN0aW9uIHRvIHF1YWxpdGF0aXZlIHJlc2VhcmNoIGludGVydmlld2luZy4gMTk5NiBUaG91c2FuZCBPYWtzIiwKICAgIGRpc3BsYXk9Imt2YWxlIiwKICAgIGF1dGhvcnM9Ikt2YWxlLCBTIiwKICAgIHBsYWNlPUZBS0UsCiAgICBlbnRyeXR5cGU9ImFydGljbGUiLAogICAgSUQ9Imt2YWxlaW50ZXJ2aWV3cyIsCiAgICBwbGFjZXg9IkNhbGlmIFNhZ2UiLAopKQoKREIoQ2l0YXRpb24oCiAgICB1bnRlcmthbG1zdGVpbmVyMjAxNGEsIGt2YWxlMGEsIHJlZj0iIiwKICAgIGNvbnRleHRzPVsKCiAgICBdLAopKQoKJycnLCBjaXRhdGlvbnM9J3VudGVya2FsbXN0ZWluZXIyMDE0YScpOw==\"));\n",
       "    "
      ],
      "text/plain": [
       "<IPython.core.display.Javascript object>"
      ]
     },
     "metadata": {},
     "output_type": "display_data"
    },
    {
     "data": {
      "application/javascript": [
       "$('span:contains(\"# Temp\")').closest('.cell').remove();"
      ],
      "text/plain": [
       "<IPython.core.display.Javascript object>"
      ]
     },
     "metadata": {},
     "output_type": "display_data"
    },
    {
     "data": {
      "application/javascript": [
       "\n",
       "        $('span:contains(\"# Temp\")').closest('.cell').remove();\n",
       "        var code = IPython.notebook.insert_cell_below('code');\n",
       "        code.set_text(atob(\"IyBUZW1wCmluc2VydCgnJycKa2FzdW5pYzIwMDVhID0gREIoV29ya1VucmVsYXRlZCgKICAgIDIwMDUsICJEZXNpZ25pbmcgYW4gZWZmZWN0aXZlIHN1cnZleSIsCiAgICBkaXNwbGF5PSJrYXN1bmljIiwKICAgIGF1dGhvcnM9Ikthc3VuaWMsIE1hcmsiLAogICAgcGxhY2U9VGVjaFJlcG9ydCwKICAgIGVudHJ5dHlwZT0idGVjaHJlcG9ydCIsCiAgICBpbnN0aXR1dGlvbj0iQ0FSTkVHSUUtTUVMTE9OIFVOSVYgUElUVFNCVVJHSCBQQSBTT0ZUV0FSRSBFTkdJTkVFUklORyBJTlNUIiwKICAgIElEPSJrYXN1bmljMjAwNWRlc2lnbmluZyIsCiAgICBwbGFjZXg9IiIsCikpCgpEQihDaXRhdGlvbigKICAgIHVudGVya2FsbXN0ZWluZXIyMDE0YSwga2FzdW5pYzIwMDVhLCByZWY9IiIsCiAgICBjb250ZXh0cz1bCgogICAgXSwKKSkKCicnJywgY2l0YXRpb25zPSd1bnRlcmthbG1zdGVpbmVyMjAxNGEnKTs=\"));\n",
       "    "
      ],
      "text/plain": [
       "<IPython.core.display.Javascript object>"
      ]
     },
     "metadata": {},
     "output_type": "display_data"
    },
    {
     "data": {
      "application/javascript": [
       "$('span:contains(\"# Temp\")').closest('.cell').remove();"
      ],
      "text/plain": [
       "<IPython.core.display.Javascript object>"
      ]
     },
     "metadata": {},
     "output_type": "display_data"
    },
    {
     "data": {
      "application/javascript": [
       "\n",
       "        $('span:contains(\"# Temp\")').closest('.cell').remove();\n",
       "        var code = IPython.notebook.insert_cell_below('code');\n",
       "        code.set_text(atob(\"IyBUZW1wCmluc2VydCgnJycKa2FzdW5pYzIwMDVhID0gREIoV29ya1VucmVsYXRlZCgKICAgIDIwMDUsICJEZXNpZ25pbmcgYW4gZWZmZWN0aXZlIHN1cnZleSIsCiAgICBkaXNwbGF5PSJrYXN1bmljIiwKICAgIGF1dGhvcnM9Ikthc3VuaWMsIE1hcmsiLAogICAgcGxhY2U9VGVjaFJlcG9ydCwKICAgIGVudHJ5dHlwZT0idGVjaHJlcG9ydCIsCiAgICBpbnN0aXR1dGlvbj0iQ0FSTkVHSUUtTUVMTE9OIFVOSVYgUElUVFNCVVJHSCBQQSBTT0ZUV0FSRSBFTkdJTkVFUklORyBJTlNUIiwKICAgIElEPSJrYXN1bmljMjAwNWRlc2lnbmluZyIsCiAgICBwbGFjZXg9IiIsCikpCgpEQihDaXRhdGlvbigKICAgIHVudGVya2FsbXN0ZWluZXIyMDE0YSwga2FzdW5pYzIwMDVhLCByZWY9IiIsCiAgICBjb250ZXh0cz1bCgogICAgXSwKKSkKCicnJywgY2l0YXRpb25zPSd1bnRlcmthbG1zdGVpbmVyMjAxNGEnKTs=\"));\n",
       "    "
      ],
      "text/plain": [
       "<IPython.core.display.Javascript object>"
      ]
     },
     "metadata": {},
     "output_type": "display_data"
    },
    {
     "data": {
      "application/javascript": [
       "$('span:contains(\"# Temp\")').closest('.cell').remove();"
      ],
      "text/plain": [
       "<IPython.core.display.Javascript object>"
      ]
     },
     "metadata": {},
     "output_type": "display_data"
    },
    {
     "data": {
      "application/javascript": [
       "\n",
       "        $('span:contains(\"# Temp\")').closest('.cell').remove();\n",
       "        var code = IPython.notebook.insert_cell_below('code');\n",
       "        code.set_text(atob(\"IyBUZW1wCmluc2VydCgnJycKc2FsYW50MTk5NGEgPSBEQihXb3JrVW5yZWxhdGVkKAogICAgMTk5NCwgIkhvdyB0byBjb25kdWN0IHlvdXIgb3duIHN1cnZleSIsCiAgICBkaXNwbGF5PSJzYWxhbnQiLAogICAgYXV0aG9ycz0iU2FsYW50LCBQcmlzY2lsbGEgYW5kIERpbGxtYW4sIEkgYW5kIERvbiwgQSIsCiAgICBwbGFjZT1Cb29rLAogICAgZW50cnl0eXBlPSJib29rIiwKICAgIG51bWJlcj0iMzAwLjcyMyBTMy4iLAogICAgSUQ9InNhbGFudDE5OTRjb25kdWN0IiwKICAgIHBsYWNleD0iIiwKKSkKCkRCKENpdGF0aW9uKAogICAgdW50ZXJrYWxtc3RlaW5lcjIwMTRhLCBzYWxhbnQxOTk0YSwgcmVmPSIiLAogICAgY29udGV4dHM9WwoKICAgIF0sCikpCgonJycsIGNpdGF0aW9ucz0ndW50ZXJrYWxtc3RlaW5lcjIwMTRhJyk7\"));\n",
       "    "
      ],
      "text/plain": [
       "<IPython.core.display.Javascript object>"
      ]
     },
     "metadata": {},
     "output_type": "display_data"
    },
    {
     "data": {
      "application/javascript": [
       "$('span:contains(\"# Temp\")').closest('.cell').remove();"
      ],
      "text/plain": [
       "<IPython.core.display.Javascript object>"
      ]
     },
     "metadata": {},
     "output_type": "display_data"
    },
    {
     "data": {
      "application/javascript": [
       "\n",
       "        $('span:contains(\"# Temp\")').closest('.cell').remove();\n",
       "        var code = IPython.notebook.insert_cell_below('code');\n",
       "        code.set_text(atob(\"IyBUZW1wCmluc2VydCgnJycKc2FsYW50MTk5NGEgPSBEQihXb3JrVW5yZWxhdGVkKAogICAgMTk5NCwgIkhvdyB0byBjb25kdWN0IHlvdXIgb3duIHN1cnZleSIsCiAgICBkaXNwbGF5PSJzYWxhbnQiLAogICAgYXV0aG9ycz0iU2FsYW50LCBQcmlzY2lsbGEgYW5kIERpbGxtYW4sIEkgYW5kIERvbiwgQSIsCiAgICBwbGFjZT1Cb29rLAogICAgZW50cnl0eXBlPSJib29rIiwKICAgIG51bWJlcj0iMzAwLjcyMyBTMy4iLAogICAgSUQ9InNhbGFudDE5OTRjb25kdWN0IiwKICAgIHBsYWNleD0iIiwKKSkKCkRCKENpdGF0aW9uKAogICAgdW50ZXJrYWxtc3RlaW5lcjIwMTRhLCBzYWxhbnQxOTk0YSwgcmVmPSIiLAogICAgY29udGV4dHM9WwoKICAgIF0sCikpCgonJycsIGNpdGF0aW9ucz0ndW50ZXJrYWxtc3RlaW5lcjIwMTRhJyk7\"));\n",
       "    "
      ],
      "text/plain": [
       "<IPython.core.display.Javascript object>"
      ]
     },
     "metadata": {},
     "output_type": "display_data"
    },
    {
     "data": {
      "application/javascript": [
       "$('span:contains(\"# Temp\")').closest('.cell').remove();"
      ],
      "text/plain": [
       "<IPython.core.display.Javascript object>"
      ]
     },
     "metadata": {},
     "output_type": "display_data"
    },
    {
     "data": {
      "application/javascript": [
       "\n",
       "        $('span:contains(\"# Temp\")').closest('.cell').remove();\n",
       "        var code = IPython.notebook.insert_cell_below('code');\n",
       "        code.set_text(atob(\"IyBUZW1wCmluc2VydCgnJycKd29obGluMjAwMGEgPSBEQihXb3JrVW5yZWxhdGVkKAogICAgMjAwMCwgIkV4cGVyaW1lbnRhdGlvbiBpbiBzb2Z0d2FyZSBlbmdpbmVlcmluZzogYW4gaW50cm9kdWN0aW9uLiAyMDAwIiwKICAgIGRpc3BsYXk9IndvaGxpbiIsCiAgICBhdXRob3JzPSJXb2hsaW4sIEMgYW5kIFJ1bmVzb24sIFAgYW5kIEhvc3QsIE0gYW5kIE9obHNzb24sIE1DIGFuZCBSZWduZWxsLCBCIGFuZCBXZXNzbGVuLCBBIiwKICAgIHBsYWNlPUZBS0UsCiAgICBlbnRyeXR5cGU9Im1pc2MiLAogICAgcHVibGlzaGVyPSJLbHV3ZXIgQWNhZGVtaWMgUHVibGlzaGVycyIsCiAgICBJRD0id29obGluMjAwMGV4cGVyaW1lbnRhdGlvbiIsCiAgICBwbGFjZXg9IiIsCikpCgpEQihDaXRhdGlvbigKICAgIHVudGVya2FsbXN0ZWluZXIyMDE0YSwgd29obGluMjAwMGEsIHJlZj0iIiwKICAgIGNvbnRleHRzPVsKCiAgICBdLAopKQoKJycnLCBjaXRhdGlvbnM9J3VudGVya2FsbXN0ZWluZXIyMDE0YScpOw==\"));\n",
       "    "
      ],
      "text/plain": [
       "<IPython.core.display.Javascript object>"
      ]
     },
     "metadata": {},
     "output_type": "display_data"
    },
    {
     "data": {
      "application/javascript": [
       "$('span:contains(\"# Temp\")').closest('.cell').remove();"
      ],
      "text/plain": [
       "<IPython.core.display.Javascript object>"
      ]
     },
     "metadata": {},
     "output_type": "display_data"
    },
    {
     "data": {
      "application/javascript": [
       "\n",
       "        $('span:contains(\"# Temp\")').closest('.cell').remove();\n",
       "        var code = IPython.notebook.insert_cell_below('code');\n",
       "        code.set_text(atob(\"IyBUZW1wCmluc2VydCgnJycKd29obGluMjAwMGEgPSBEQihXb3JrVW5yZWxhdGVkKAogICAgMjAwMCwgIkV4cGVyaW1lbnRhdGlvbiBpbiBzb2Z0d2FyZSBlbmdpbmVlcmluZzogYW4gaW50cm9kdWN0aW9uLiAyMDAwIiwKICAgIGRpc3BsYXk9IndvaGxpbiIsCiAgICBhdXRob3JzPSJXb2hsaW4sIEMgYW5kIFJ1bmVzb24sIFAgYW5kIEhvc3QsIE0gYW5kIE9obHNzb24sIE1DIGFuZCBSZWduZWxsLCBCIGFuZCBXZXNzbGVuLCBBIiwKICAgIHBsYWNlPUZBS0UsCiAgICBlbnRyeXR5cGU9Im1pc2MiLAogICAgcHVibGlzaGVyPSJLbHV3ZXIgQWNhZGVtaWMgUHVibGlzaGVycyIsCiAgICBJRD0id29obGluMjAwMGV4cGVyaW1lbnRhdGlvbiIsCiAgICBwbGFjZXg9IiIsCikpCgpEQihDaXRhdGlvbigKICAgIHVudGVya2FsbXN0ZWluZXIyMDE0YSwgd29obGluMjAwMGEsIHJlZj0iIiwKICAgIGNvbnRleHRzPVsKCiAgICBdLAopKQoKJycnLCBjaXRhdGlvbnM9J3VudGVya2FsbXN0ZWluZXIyMDE0YScpOw==\"));\n",
       "    "
      ],
      "text/plain": [
       "<IPython.core.display.Javascript object>"
      ]
     },
     "metadata": {},
     "output_type": "display_data"
    }
   ],
   "source": [
    "import importlib\n",
    "import custom_snowballing\n",
    "importlib.reload(custom_snowballing)\n",
    "from custom_snowballing import UnrelatedBackward\n",
    "UnrelatedBackward(\"unterkalmsteiner2014a\", articles=article_list)"
   ]
  },
  {
   "cell_type": "code",
   "execution_count": 36,
   "metadata": {},
   "outputs": [
    {
     "name": "stdout",
     "output_type": "stream",
     "text": [
      "-Insert: wohlin2000a\n",
      "-Insert Import: wohlin2000a\n",
      "-Insert Citation: unterkalmsteiner2014a -> wohlin2000a\n"
     ]
    }
   ],
   "source": [
    "# Temp\n",
    "insert('''\n",
    "wohlin2000a = DB(WorkUnrelated(\n",
    "    2000, \"Experimentation in software engineering: an introduction. 2000\",\n",
    "    display=\"wohlin\",\n",
    "    authors=\"Wohlin, C and Runeson, P and Host, M and Ohlsson, MC and Regnell, B and Wesslen, A\",\n",
    "    place=FAKE,\n",
    "    entrytype=\"misc\",\n",
    "    publisher=\"Kluwer Academic Publishers\",\n",
    "    ID=\"wohlin2000experimentation\",\n",
    "    placex=\"\",\n",
    "))\n",
    "\n",
    "DB(Citation(\n",
    "    unterkalmsteiner2014a, wohlin2000a, ref=\"\",\n",
    "    contexts=[\n",
    "\n",
    "    ],\n",
    "))\n",
    "\n",
    "''', citations='unterkalmsteiner2014a');"
   ]
  },
  {
   "cell_type": "code",
   "execution_count": null,
   "metadata": {
    "collapsed": true
   },
   "outputs": [],
   "source": []
  }
 ],
 "metadata": {
  "kernelspec": {
   "display_name": "Python 3",
   "language": "python",
   "name": "python3"
  },
  "language_info": {
   "codemirror_mode": {
    "name": "ipython",
    "version": 3
   },
   "file_extension": ".py",
   "mimetype": "text/x-python",
   "name": "python",
   "nbconvert_exporter": "python",
   "pygments_lexer": "ipython3",
   "version": "3.6.0"
  },
  "toc": {
   "nav_menu": {
    "height": "12px",
    "width": "252px"
   },
   "number_sections": true,
   "sideBar": true,
   "skip_h1_title": false,
   "toc_cell": false,
   "toc_position": {},
   "toc_section_display": "block",
   "toc_window_display": false
  }
 },
 "nbformat": 4,
 "nbformat_minor": 2
}
