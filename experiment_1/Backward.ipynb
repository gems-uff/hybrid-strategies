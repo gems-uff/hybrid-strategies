{
 "cells": [
  {
   "cell_type": "code",
   "execution_count": 1,
   "metadata": {
    "collapsed": true
   },
   "outputs": [],
   "source": [
    "import database\n",
    "from snowballing.operations import load_work, reload, work_by_varname\n",
    "from snowballing.snowballing import Converter\n",
    "from snowballing.dbmanager import insert, set_attribute"
   ]
  },
  {
   "cell_type": "code",
   "execution_count": 2,
   "metadata": {
    "scrolled": false
   },
   "outputs": [
    {
     "data": {
      "application/vnd.jupyter.widget-view+json": {
       "model_id": "da1a18f3d00a441fbeecf6ab4578fbb6",
       "version_major": 2,
       "version_minor": 0
      },
      "text/html": [
       "<p>Failed to display Jupyter Widget of type <code>VBox</code>.</p>\n",
       "<p>\n",
       "  If you're reading this message in Jupyter Notebook or JupyterLab, it may mean\n",
       "  that the widgets JavaScript is still loading. If this message persists, it\n",
       "  likely means that the widgets JavaScript library is either not installed or\n",
       "  not enabled. See the <a href=\"https://ipywidgets.readthedocs.io/en/stable/user_install.html\">Jupyter\n",
       "  Widgets Documentation</a> for setup instructions.\n",
       "</p>\n",
       "<p>\n",
       "  If you're reading this message in another notebook frontend (for example, a static\n",
       "  rendering on GitHub or <a href=\"https://nbviewer.jupyter.org/\">NBViewer</a>),\n",
       "  it may mean that your frontend doesn't currently support widgets.\n",
       "</p>\n"
      ],
      "text/plain": [
       "VBox(children=(HBox(children=(Dropdown(index=1, options={'BibTeX': 'bibtex', 'Text': 'text', '[N] author name place other year': 'citation', 'Quoted': 'quoted'}, value='text'), Button(description='Set article_list variable', disabled=True, style=ButtonStyle()), Label(value=''))), HBox(children=(Textarea(value='', layout=Layout(height='500px', width='50%')), Textarea(value='', layout=Layout(height='500px', width='50%'))))))"
      ]
     },
     "metadata": {},
     "output_type": "display_data"
    }
   ],
   "source": [
    "Converter().browser()"
   ]
  },
  {
   "cell_type": "code",
   "execution_count": 3,
   "metadata": {},
   "outputs": [
    {
     "data": {
      "text/plain": [
       "15"
      ]
     },
     "execution_count": 3,
     "metadata": {},
     "output_type": "execute_result"
    }
   ],
   "source": [
    "len(article_list)"
   ]
  },
  {
   "cell_type": "code",
   "execution_count": null,
   "metadata": {
    "collapsed": true
   },
   "outputs": [],
   "source": [
    "#from database.work.y2015 import li2015a"
   ]
  },
  {
   "cell_type": "code",
   "execution_count": null,
   "metadata": {
    "collapsed": true
   },
   "outputs": [],
   "source": [
    "#int(getattr(li2015a, 'scopus', 0))"
   ]
  },
  {
   "cell_type": "code",
   "execution_count": null,
   "metadata": {},
   "outputs": [],
   "source": [
    "#print(article_list)"
   ]
  },
  {
   "cell_type": "code",
   "execution_count": null,
   "metadata": {
    "collapsed": true
   },
   "outputs": [],
   "source": []
  },
  {
   "cell_type": "code",
   "execution_count": 4,
   "metadata": {},
   "outputs": [
    {
     "data": {
      "application/vnd.jupyter.widget-view+json": {
       "model_id": "16f07ccee71540c493c3a579f615a9fb",
       "version_major": 2,
       "version_minor": 0
      },
      "text/html": [
       "<p>Failed to display Jupyter Widget of type <code>VBox</code>.</p>\n",
       "<p>\n",
       "  If you're reading this message in Jupyter Notebook or JupyterLab, it may mean\n",
       "  that the widgets JavaScript is still loading. If this message persists, it\n",
       "  likely means that the widgets JavaScript library is either not installed or\n",
       "  not enabled. See the <a href=\"https://ipywidgets.readthedocs.io/en/stable/user_install.html\">Jupyter\n",
       "  Widgets Documentation</a> for setup instructions.\n",
       "</p>\n",
       "<p>\n",
       "  If you're reading this message in another notebook frontend (for example, a static\n",
       "  rendering on GitHub or <a href=\"https://nbviewer.jupyter.org/\">NBViewer</a>),\n",
       "  it may mean that your frontend doesn't currently support widgets.\n",
       "</p>\n"
      ],
      "text/plain": [
       "VBox(children=(HBox(children=(Button(description='Previous Article', disabled=True, icon='caret-left', style=ButtonStyle()), Button(description='Reload Article', icon='refresh', style=ButtonStyle()), Button(description='Next Article', icon='caret-right', style=ButtonStyle()))), HBox(children=(Button(description='Unrelated: Scripts', style=ButtonStyle()), Button(description='Unrelated: Provenance', style=ButtonStyle()), Button(description='Both', style=ButtonStyle()), Button(description='Ok', style=ButtonStyle()))), HBox(children=(Dropdown(description='Type', index=5, options=('Work', 'WorkSnowball', 'WorkForward', 'WorkBackward', 'WorkOk', 'WorkUnrelated', 'WorkNoFile', 'WorkLang', 'Site', 'Email'), value='WorkUnrelated'), ToggleButton(value=False, description='File'))), HBox(children=(Text(value='', description='Due'), Text(value='', description='Place'))), HBox(children=(Text(value='', description='Year'), Text(value='', description='Prefix Var'))), HBox(children=(Text(value='', description='PDFPage'), Text(value='', description='Related'))), HBox(children=(Text(value='', description='Display'), Text(value='', description='Summary'))), HBox(children=(Text(value='', description='Star'), Text(value='', description='Link'))), HBox(children=(Button(description='Reload Article', icon='refresh', style=ButtonStyle()), IntSlider(value=0, max=14), Label(value='1/15'))), Output()))"
      ]
     },
     "metadata": {},
     "output_type": "display_data"
    },
    {
     "data": {
      "application/javascript": [
       "$('span:contains(\"# Temp\")').closest('.cell').remove();"
      ],
      "text/plain": [
       "<IPython.core.display.Javascript object>"
      ]
     },
     "metadata": {},
     "output_type": "display_data"
    },
    {
     "data": {
      "application/javascript": [
       "\n",
       "        $('span:contains(\"# Temp\")').closest('.cell').remove();\n",
       "        var code = IPython.notebook.insert_cell_below('code');\n",
       "        code.set_text(atob(\"IyBUZW1wCmluc2VydCgnJycKZmlua2Vsc3RlaW4xOTk0YSA9IERCKFdvcmtVbnJlbGF0ZWQoCiAgICAxOTk0LCAiU29mdHdhcmUgUHJvY2VzcyBNb2RlbGxpbmcgYW5kIFRlY2hub2xvZ3kiLAogICAgZGlzcGxheT0iZmlua2Vsc3RlaW4iLAogICAgYXV0aG9ycz0iRmlua2Vsc3RlaW4sIEEuSi4gS3JhbWVyLCBhbmQgQi4gTnVzZWliZWgsRWRzLiwiLAogICAgcGxhY2U9RkFLRSwKICAgIGVudHJ5dHlwZT0iYXJ0aWNsZSIsCiAgICBub3RlPSJjaXRlZCBCeSAxIiwKICAgIElEPSJGaW5rZWxzdGVpbjE5OTQiLAogICAgcGxhY2V4PSJSZXNlYXJjaCBTdHVkaWVzIFByZXNzIiwKKSkKCkRCKENpdGF0aW9uKAogICAgc29tbWVydmlsbGUxOTk5YSwgZmlua2Vsc3RlaW4xOTk0YSwgcmVmPSIiLAogICAgY29udGV4dHM9WwoKICAgIF0sCikpCgonJycsIGNpdGF0aW9ucz0nc29tbWVydmlsbGUxOTk5YScpOw==\"));\n",
       "    "
      ],
      "text/plain": [
       "<IPython.core.display.Javascript object>"
      ]
     },
     "metadata": {},
     "output_type": "display_data"
    },
    {
     "data": {
      "application/javascript": [
       "$('span:contains(\"# Temp\")').closest('.cell').remove();"
      ],
      "text/plain": [
       "<IPython.core.display.Javascript object>"
      ]
     },
     "metadata": {},
     "output_type": "display_data"
    },
    {
     "data": {
      "application/javascript": [
       "\n",
       "        $('span:contains(\"# Temp\")').closest('.cell').remove();\n",
       "        var code = IPython.notebook.insert_cell_below('code');\n",
       "        code.set_text(atob(\"IyBUZW1wCmluc2VydCgnJycKZnVnZ2V0dGExOTk2YSA9IERCKFdvcmtVbnJlbGF0ZWQoCiAgICAxOTk2LCAiVHJlbmRzIGluIFNvZnR3YXJlOiBTb2Z0d2FyZSBQcm9jZXNzIiwKICAgIGRpc3BsYXk9ImZ1Z2dldHRhIiwKICAgIGF1dGhvcnM9IkZ1Z2dldHRhLCBBLiBhbmQgQS4gV29sZi4gLCBFZHMuLCIsCiAgICBwbGFjZT1GQUtFLAogICAgZW50cnl0eXBlPSJhcnRpY2xlIiwKICAgIG5vdGU9ImNpdGVkIEJ5IDEiLAogICAgSUQ9IkZ1Z2dldHRhMTk5NiIsCiAgICBwbGFjZXg9IkNoaWNoZXN0ZXIsIFUuSy46IEpvaG4gV2lsZXkgJiBTb25zIiwKKSkKCkRCKENpdGF0aW9uKAogICAgc29tbWVydmlsbGUxOTk5YSwgZnVnZ2V0dGExOTk2YSwgcmVmPSIiLAogICAgY29udGV4dHM9WwoKICAgIF0sCikpCgonJycsIGNpdGF0aW9ucz0nc29tbWVydmlsbGUxOTk5YScpOw==\"));\n",
       "    "
      ],
      "text/plain": [
       "<IPython.core.display.Javascript object>"
      ]
     },
     "metadata": {},
     "output_type": "display_data"
    },
    {
     "data": {
      "application/javascript": [
       "$('span:contains(\"# Temp\")').closest('.cell').remove();"
      ],
      "text/plain": [
       "<IPython.core.display.Javascript object>"
      ]
     },
     "metadata": {},
     "output_type": "display_data"
    },
    {
     "data": {
      "application/javascript": [
       "\n",
       "        $('span:contains(\"# Temp\")').closest('.cell').remove();\n",
       "        var code = IPython.notebook.insert_cell_below('code');\n",
       "        code.set_text(atob(\"IyBUZW1wCmluc2VydCgnJycKZnVnZ2V0dGExOTk2YSA9IERCKFdvcmtVbnJlbGF0ZWQoCiAgICAxOTk2LCAiVHJlbmRzIGluIFNvZnR3YXJlOiBTb2Z0d2FyZSBQcm9jZXNzIiwKICAgIGRpc3BsYXk9ImZ1Z2dldHRhIiwKICAgIGF1dGhvcnM9IkZ1Z2dldHRhLCBBLiBhbmQgQS4gV29sZi4gLCBFZHMuLCIsCiAgICBwbGFjZT1GQUtFLAogICAgZW50cnl0eXBlPSJhcnRpY2xlIiwKICAgIG5vdGU9ImNpdGVkIEJ5IDEiLAogICAgSUQ9IkZ1Z2dldHRhMTk5NiIsCiAgICBwbGFjZXg9IkNoaWNoZXN0ZXIsIFUuSy46IEpvaG4gV2lsZXkgJiBTb25zIiwKKSkKCkRCKENpdGF0aW9uKAogICAgc29tbWVydmlsbGUxOTk5YSwgZnVnZ2V0dGExOTk2YSwgcmVmPSIiLAogICAgY29udGV4dHM9WwoKICAgIF0sCikpCgonJycsIGNpdGF0aW9ucz0nc29tbWVydmlsbGUxOTk5YScpOw==\"));\n",
       "    "
      ],
      "text/plain": [
       "<IPython.core.display.Javascript object>"
      ]
     },
     "metadata": {},
     "output_type": "display_data"
    },
    {
     "data": {
      "application/javascript": [
       "$('span:contains(\"# Temp\")').closest('.cell').remove();"
      ],
      "text/plain": [
       "<IPython.core.display.Javascript object>"
      ]
     },
     "metadata": {},
     "output_type": "display_data"
    },
    {
     "data": {
      "application/javascript": [
       "\n",
       "        $('span:contains(\"# Temp\")').closest('.cell').remove();\n",
       "        var code = IPython.notebook.insert_cell_below('code');\n",
       "        code.set_text(atob(\"IyBUZW1wCmluc2VydCgnJycKaGFtbWVyMTk5MGEgPSBEQihXb3JrVW5yZWxhdGVkKAogICAgMTk5MCwgIlJlZW5naW5lZXJpbmcgV29yazogRG9uJ3QgQXV0b21hdGUiLAogICAgZGlzcGxheT0iaGFtbWVyIiwKICAgIGF1dGhvcnM9IkhhbW1lciwgTS4sIiwKICAgIHBsYWNlPUZBS0UsCiAgICBlbnRyeXR5cGU9ImFydGljbGUiLAogICAgbm90ZT0iY2l0ZWQgQnkgMSIsCiAgICBJRD0iSGFtbWVyMTk5MCIsCiAgICBwbGFjZXg9Ik9ibGl0ZXJhdGUsIEhhcnZhcmQgQnVzaW5lc3MgUmV2aWV3IiwKKSkKCkRCKENpdGF0aW9uKAogICAgc29tbWVydmlsbGUxOTk5YSwgaGFtbWVyMTk5MGEsIHJlZj0iIiwKICAgIGNvbnRleHRzPVsKCiAgICBdLAopKQoKJycnLCBjaXRhdGlvbnM9J3NvbW1lcnZpbGxlMTk5OWEnKTs=\"));\n",
       "    "
      ],
      "text/plain": [
       "<IPython.core.display.Javascript object>"
      ]
     },
     "metadata": {},
     "output_type": "display_data"
    },
    {
     "data": {
      "application/javascript": [
       "$('span:contains(\"# Temp\")').closest('.cell').remove();"
      ],
      "text/plain": [
       "<IPython.core.display.Javascript object>"
      ]
     },
     "metadata": {},
     "output_type": "display_data"
    },
    {
     "data": {
      "application/javascript": [
       "\n",
       "        $('span:contains(\"# Temp\")').closest('.cell').remove();\n",
       "        var code = IPython.notebook.insert_cell_below('code');\n",
       "        code.set_text(atob(\"IyBUZW1wCmluc2VydCgnJycKaGFtbWVyMTk5MGEgPSBEQihXb3JrVW5yZWxhdGVkKAogICAgMTk5MCwgIlJlZW5naW5lZXJpbmcgV29yazogRG9uJ3QgQXV0b21hdGUiLAogICAgZGlzcGxheT0iaGFtbWVyIiwKICAgIGF1dGhvcnM9IkhhbW1lciwgTS4sIiwKICAgIHBsYWNlPUZBS0UsCiAgICBlbnRyeXR5cGU9ImFydGljbGUiLAogICAgbm90ZT0iY2l0ZWQgQnkgMSIsCiAgICBJRD0iSGFtbWVyMTk5MCIsCiAgICBwbGFjZXg9Ik9ibGl0ZXJhdGUsIEhhcnZhcmQgQnVzaW5lc3MgUmV2aWV3IiwKKSkKCkRCKENpdGF0aW9uKAogICAgc29tbWVydmlsbGUxOTk5YSwgaGFtbWVyMTk5MGEsIHJlZj0iIiwKICAgIGNvbnRleHRzPVsKCiAgICBdLAopKQoKJycnLCBjaXRhdGlvbnM9J3NvbW1lcnZpbGxlMTk5OWEnKTs=\"));\n",
       "    "
      ],
      "text/plain": [
       "<IPython.core.display.Javascript object>"
      ]
     },
     "metadata": {},
     "output_type": "display_data"
    },
    {
     "data": {
      "application/javascript": [
       "$('span:contains(\"# Temp\")').closest('.cell').remove();"
      ],
      "text/plain": [
       "<IPython.core.display.Javascript object>"
      ]
     },
     "metadata": {},
     "output_type": "display_data"
    },
    {
     "data": {
      "application/javascript": [
       "\n",
       "        $('span:contains(\"# Temp\")').closest('.cell').remove();\n",
       "        var code = IPython.notebook.insert_cell_below('code');\n",
       "        code.set_text(atob(\"IyBUZW1wCmluc2VydCgnJycKaHVtcGhyZXkxOTg4YSA9IERCKFdvcmtVbnJlbGF0ZWQoCiAgICAxOTg4LCAiQ2hhcmFjdGVyaXppbmcgdGhlIFNvZnR3YXJlIFByb2Nlc3MiLAogICAgZGlzcGxheT0iaHVtcGhyZXkiLAogICAgYXV0aG9ycz0iSHVtcGhyZXksIFcuUy4sIiwKICAgIHBsYWNlPUlFRUVTLAogICAgZW50cnl0eXBlPSJhcnRpY2xlIiwKICAgIG5vdGU9ImNpdGVkIEJ5IDEiLAogICAgSUQ9Ikh1bXBocmV5MTk4OCIsCiAgICBwbGFjZXg9IklFRUUgU29mdHdhcmUsIFZvbC4gNSwgTm8uIDIsIFBwLiA3My03OSIsCikpCgpEQihDaXRhdGlvbigKICAgIHNvbW1lcnZpbGxlMTk5OWEsIGh1bXBocmV5MTk4OGEsIHJlZj0iIiwKICAgIGNvbnRleHRzPVsKCiAgICBdLAopKQoKJycnLCBjaXRhdGlvbnM9J3NvbW1lcnZpbGxlMTk5OWEnKTs=\"));\n",
       "    "
      ],
      "text/plain": [
       "<IPython.core.display.Javascript object>"
      ]
     },
     "metadata": {},
     "output_type": "display_data"
    },
    {
     "data": {
      "application/javascript": [
       "$('span:contains(\"# Temp\")').closest('.cell').remove();"
      ],
      "text/plain": [
       "<IPython.core.display.Javascript object>"
      ]
     },
     "metadata": {},
     "output_type": "display_data"
    },
    {
     "data": {
      "application/javascript": [
       "\n",
       "        $('span:contains(\"# Temp\")').closest('.cell').remove();\n",
       "        var code = IPython.notebook.insert_cell_below('code');\n",
       "        code.set_text(atob(\"IyBUZW1wCmluc2VydCgnJycKaHVtcGhyZXkxOTg4YSA9IERCKFdvcmtVbnJlbGF0ZWQoCiAgICAxOTg4LCAiQ2hhcmFjdGVyaXppbmcgdGhlIFNvZnR3YXJlIFByb2Nlc3MiLAogICAgZGlzcGxheT0iaHVtcGhyZXkiLAogICAgYXV0aG9ycz0iSHVtcGhyZXksIFcuUy4sIiwKICAgIHBsYWNlPUlFRUVTLAogICAgZW50cnl0eXBlPSJhcnRpY2xlIiwKICAgIG5vdGU9ImNpdGVkIEJ5IDEiLAogICAgSUQ9Ikh1bXBocmV5MTk4OCIsCiAgICBwbGFjZXg9IklFRUUgU29mdHdhcmUsIFZvbC4gNSwgTm8uIDIsIFBwLiA3My03OSIsCikpCgpEQihDaXRhdGlvbigKICAgIHNvbW1lcnZpbGxlMTk5OWEsIGh1bXBocmV5MTk4OGEsIHJlZj0iIiwKICAgIGNvbnRleHRzPVsKCiAgICBdLAopKQoKJycnLCBjaXRhdGlvbnM9J3NvbW1lcnZpbGxlMTk5OWEnKTs=\"));\n",
       "    "
      ],
      "text/plain": [
       "<IPython.core.display.Javascript object>"
      ]
     },
     "metadata": {},
     "output_type": "display_data"
    },
    {
     "data": {
      "application/javascript": [
       "$('span:contains(\"# Temp\")').closest('.cell').remove();"
      ],
      "text/plain": [
       "<IPython.core.display.Javascript object>"
      ]
     },
     "metadata": {},
     "output_type": "display_data"
    },
    {
     "data": {
      "application/javascript": [
       "\n",
       "        $('span:contains(\"# Temp\")').closest('.cell').remove();\n",
       "        var code = IPython.notebook.insert_cell_below('code');\n",
       "        code.set_text(atob(\"IyBUZW1wCmluc2VydCgnJycKcGF1bGsxOTkzYyA9IERCKFdvcmtVbnJlbGF0ZWQoCiAgICAxOTkzLCAiQ2FwYWJpbGl0eSBNYXR1cml0eSBNb2RlbCwgVmVyc2lvbiAxLjEiLAogICAgZGlzcGxheT0icGF1bGsgYyIsCiAgICBhdXRob3JzPSJQYXVsaywgTS5DLiwgQi4gQ3VydGlzLCBNLkIuIENocmlzc2lzLCBhbmQgQy5WLiBXZWJlciIsCiAgICBwbGFjZT1JRUVFUywKICAgIGVudHJ5dHlwZT0iYXJ0aWNsZSIsCiAgICBub3RlPSJjaXRlZCBCeSAxIiwKICAgIElEPSJQYXVsazE5OTMiLAogICAgcGxhY2V4PSJJRUVFIFNvZnR3YXJlLCBWb2wuIDEwLCBOby4gNCwgUHAuIDE4LTI3IiwKKSkKCkRCKENpdGF0aW9uKAogICAgc29tbWVydmlsbGUxOTk5YSwgcGF1bGsxOTkzYywgcmVmPSIiLAogICAgY29udGV4dHM9WwoKICAgIF0sCikpCgonJycsIGNpdGF0aW9ucz0nc29tbWVydmlsbGUxOTk5YScpOw==\"));\n",
       "    "
      ],
      "text/plain": [
       "<IPython.core.display.Javascript object>"
      ]
     },
     "metadata": {},
     "output_type": "display_data"
    },
    {
     "data": {
      "application/javascript": [
       "$('span:contains(\"# Temp\")').closest('.cell').remove();"
      ],
      "text/plain": [
       "<IPython.core.display.Javascript object>"
      ]
     },
     "metadata": {},
     "output_type": "display_data"
    },
    {
     "data": {
      "application/javascript": [
       "\n",
       "        $('span:contains(\"# Temp\")').closest('.cell').remove();\n",
       "        var code = IPython.notebook.insert_cell_below('code');\n",
       "        code.set_text(atob(\"IyBUZW1wCmluc2VydCgnJycKcGF1bGsxOTkzYyA9IERCKFdvcmtVbnJlbGF0ZWQoCiAgICAxOTkzLCAiQ2FwYWJpbGl0eSBNYXR1cml0eSBNb2RlbCwgVmVyc2lvbiAxLjEiLAogICAgZGlzcGxheT0icGF1bGsgYyIsCiAgICBhdXRob3JzPSJQYXVsaywgTS5DLiwgQi4gQ3VydGlzLCBNLkIuIENocmlzc2lzLCBhbmQgQy5WLiBXZWJlciIsCiAgICBwbGFjZT1JRUVFUywKICAgIGVudHJ5dHlwZT0iYXJ0aWNsZSIsCiAgICBub3RlPSJjaXRlZCBCeSAxIiwKICAgIElEPSJQYXVsazE5OTMiLAogICAgcGxhY2V4PSJJRUVFIFNvZnR3YXJlLCBWb2wuIDEwLCBOby4gNCwgUHAuIDE4LTI3IiwKKSkKCkRCKENpdGF0aW9uKAogICAgc29tbWVydmlsbGUxOTk5YSwgcGF1bGsxOTkzYywgcmVmPSIiLAogICAgY29udGV4dHM9WwoKICAgIF0sCikpCgonJycsIGNpdGF0aW9ucz0nc29tbWVydmlsbGUxOTk5YScpOw==\"));\n",
       "    "
      ],
      "text/plain": [
       "<IPython.core.display.Javascript object>"
      ]
     },
     "metadata": {},
     "output_type": "display_data"
    },
    {
     "data": {
      "application/javascript": [
       "$('span:contains(\"# Temp\")').closest('.cell').remove();"
      ],
      "text/plain": [
       "<IPython.core.display.Javascript object>"
      ]
     },
     "metadata": {},
     "output_type": "display_data"
    },
    {
     "data": {
      "application/javascript": [
       "\n",
       "        $('span:contains(\"# Temp\")').closest('.cell').remove();\n",
       "        var code = IPython.notebook.insert_cell_below('code');\n",
       "        code.set_text(atob(\"IyBUZW1wCmluc2VydCgnJycKaGFhc2UxOTk0YSA9IERCKFdvcmtVbnJlbGF0ZWQoCiAgICAxOTk0LCAiQm9vdHN0cmFwOiBGaW5lIFR1bmluZyBQcm9jZXNzIEFzc2Vzc21lbnQiLAogICAgZGlzcGxheT0iaGFhc2UiLAogICAgYXV0aG9ycz0iSGFhc2UsIFYuLCBSLiBNZXNzbmFyeiwgRy4gS29jaCwgSC5KLiBLdWdsZXIsIGFuZCBQLiBEZWNyaW5pcyIsCiAgICBwbGFjZT1JRUVFUywKICAgIGVudHJ5dHlwZT0iYXJ0aWNsZSIsCiAgICBub3RlPSJjaXRlZCBCeSAxIiwKICAgIElEPSJIYWFzZTE5OTQiLAogICAgcGxhY2V4PSJJRUVFIFNvZnR3YXJlLCBWb2wuIDExLCBOby4gNCwgUHAuIDI1LTM1IiwKKSkKCkRCKENpdGF0aW9uKAogICAgc29tbWVydmlsbGUxOTk5YSwgaGFhc2UxOTk0YSwgcmVmPSIiLAogICAgY29udGV4dHM9WwoKICAgIF0sCikpCgonJycsIGNpdGF0aW9ucz0nc29tbWVydmlsbGUxOTk5YScpOw==\"));\n",
       "    "
      ],
      "text/plain": [
       "<IPython.core.display.Javascript object>"
      ]
     },
     "metadata": {},
     "output_type": "display_data"
    },
    {
     "data": {
      "application/javascript": [
       "$('span:contains(\"# Temp\")').closest('.cell').remove();"
      ],
      "text/plain": [
       "<IPython.core.display.Javascript object>"
      ]
     },
     "metadata": {},
     "output_type": "display_data"
    },
    {
     "data": {
      "application/javascript": [
       "\n",
       "        $('span:contains(\"# Temp\")').closest('.cell').remove();\n",
       "        var code = IPython.notebook.insert_cell_below('code');\n",
       "        code.set_text(atob(\"IyBUZW1wCmluc2VydCgnJycKaGFhc2UxOTk0YSA9IERCKFdvcmtVbnJlbGF0ZWQoCiAgICAxOTk0LCAiQm9vdHN0cmFwOiBGaW5lIFR1bmluZyBQcm9jZXNzIEFzc2Vzc21lbnQiLAogICAgZGlzcGxheT0iaGFhc2UiLAogICAgYXV0aG9ycz0iSGFhc2UsIFYuLCBSLiBNZXNzbmFyeiwgRy4gS29jaCwgSC5KLiBLdWdsZXIsIGFuZCBQLiBEZWNyaW5pcyIsCiAgICBwbGFjZT1JRUVFUywKICAgIGVudHJ5dHlwZT0iYXJ0aWNsZSIsCiAgICBub3RlPSJjaXRlZCBCeSAxIiwKICAgIElEPSJIYWFzZTE5OTQiLAogICAgcGxhY2V4PSJJRUVFIFNvZnR3YXJlLCBWb2wuIDExLCBOby4gNCwgUHAuIDI1LTM1IiwKKSkKCkRCKENpdGF0aW9uKAogICAgc29tbWVydmlsbGUxOTk5YSwgaGFhc2UxOTk0YSwgcmVmPSIiLAogICAgY29udGV4dHM9WwoKICAgIF0sCikpCgonJycsIGNpdGF0aW9ucz0nc29tbWVydmlsbGUxOTk5YScpOw==\"));\n",
       "    "
      ],
      "text/plain": [
       "<IPython.core.display.Javascript object>"
      ]
     },
     "metadata": {},
     "output_type": "display_data"
    },
    {
     "data": {
      "application/javascript": [
       "$('span:contains(\"# Temp\")').closest('.cell').remove();"
      ],
      "text/plain": [
       "<IPython.core.display.Javascript object>"
      ]
     },
     "metadata": {},
     "output_type": "display_data"
    },
    {
     "data": {
      "application/javascript": [
       "\n",
       "        $('span:contains(\"# Temp\")').closest('.cell').remove();\n",
       "        var code = IPython.notebook.insert_cell_below('code');\n",
       "        code.set_text(atob(\"IyBUZW1wCmluc2VydCgnJycKZW1hbTE5OTdhID0gREIoV29ya1VucmVsYXRlZCgKICAgIDE5OTcsICJTUElDRTogdGhlIFRoZW9yeSBhbmQgUHJhY3RpY2Ugb2YgU29mdHdhcmUgUHJvY2VzcyBJbXByb3ZlbWVudCBhbmQgQ2FwYWJpbGl0eSBEZXRlcm1pbmF0aW9uIiwKICAgIGRpc3BsYXk9ImVtYW0iLAogICAgYXV0aG9ycz0iSy5FbCBFbWFtLCBKLiBEcm91aW4sIGFuZCBNLiBXZWxvIiwKICAgIHBsYWNlPUZBS0UsCiAgICBlbnRyeXR5cGU9ImFydGljbGUiLAogICAgbm90ZT0iY2l0ZWQgQnkgMSIsCiAgICBJRD0iS0VsRWxtYW4xOTk3IiwKICAgIHBsYWNleD0iSUVFRSBDUyBQcmVzcyIsCikpCgpEQihDaXRhdGlvbigKICAgIHNvbW1lcnZpbGxlMTk5OWEsIGVtYW0xOTk3YSwgcmVmPSIiLAogICAgY29udGV4dHM9WwoKICAgIF0sCikpCgonJycsIGNpdGF0aW9ucz0nc29tbWVydmlsbGUxOTk5YScpOw==\"));\n",
       "    "
      ],
      "text/plain": [
       "<IPython.core.display.Javascript object>"
      ]
     },
     "metadata": {},
     "output_type": "display_data"
    },
    {
     "data": {
      "application/javascript": [
       "$('span:contains(\"# Temp\")').closest('.cell').remove();"
      ],
      "text/plain": [
       "<IPython.core.display.Javascript object>"
      ]
     },
     "metadata": {},
     "output_type": "display_data"
    },
    {
     "data": {
      "application/javascript": [
       "\n",
       "        $('span:contains(\"# Temp\")').closest('.cell').remove();\n",
       "        var code = IPython.notebook.insert_cell_below('code');\n",
       "        code.set_text(atob(\"IyBUZW1wCmluc2VydCgnJycKZW1hbTE5OTdhID0gREIoV29ya1VucmVsYXRlZCgKICAgIDE5OTcsICJTUElDRTogdGhlIFRoZW9yeSBhbmQgUHJhY3RpY2Ugb2YgU29mdHdhcmUgUHJvY2VzcyBJbXByb3ZlbWVudCBhbmQgQ2FwYWJpbGl0eSBEZXRlcm1pbmF0aW9uIiwKICAgIGRpc3BsYXk9ImVtYW0iLAogICAgYXV0aG9ycz0iSy5FbCBFbWFtLCBKLiBEcm91aW4sIGFuZCBNLiBXZWxvIiwKICAgIHBsYWNlPUZBS0UsCiAgICBlbnRyeXR5cGU9ImFydGljbGUiLAogICAgbm90ZT0iY2l0ZWQgQnkgMSIsCiAgICBJRD0iS0VsRWxtYW4xOTk3IiwKICAgIHBsYWNleD0iSUVFRSBDUyBQcmVzcyIsCikpCgpEQihDaXRhdGlvbigKICAgIHNvbW1lcnZpbGxlMTk5OWEsIGVtYW0xOTk3YSwgcmVmPSIiLAogICAgY29udGV4dHM9WwoKICAgIF0sCikpCgonJycsIGNpdGF0aW9ucz0nc29tbWVydmlsbGUxOTk5YScpOw==\"));\n",
       "    "
      ],
      "text/plain": [
       "<IPython.core.display.Javascript object>"
      ]
     },
     "metadata": {},
     "output_type": "display_data"
    },
    {
     "data": {
      "application/javascript": [
       "$('span:contains(\"# Temp\")').closest('.cell').remove();"
      ],
      "text/plain": [
       "<IPython.core.display.Javascript object>"
      ]
     },
     "metadata": {},
     "output_type": "display_data"
    },
    {
     "data": {
      "application/javascript": [
       "\n",
       "        $('span:contains(\"# Temp\")').closest('.cell').remove();\n",
       "        var code = IPython.notebook.insert_cell_below('code');\n",
       "        code.set_text(atob(\"IyBUZW1wCmluc2VydCgnJycKc29tbWVydmlsbGUxOTk3YSA9IERCKFdvcmtVbnJlbGF0ZWQoCiAgICAxOTk3LCAiUmVxdWlyZW1lbnRzIEVuZ2luZWVyaW5nOiBBIEdvb2QgUHJhY3RpY2UgR3VpZGUiLAogICAgZGlzcGxheT0ic29tbWVydmlsbGUiLAogICAgYXV0aG9ycz0iU29tbWVydmlsbGUsIEkuIGFuZCBQLiBTYXd5ZXIiLAogICAgcGxhY2U9RkFLRSwKICAgIGVudHJ5dHlwZT0iYXJ0aWNsZSIsCiAgICBub3RlPSJjaXRlZCBCeSAxIiwKICAgIElEPSJTb21tZXJ2aWxsZTE5OTciLAogICAgcGxhY2V4PSJKb2huIFdpbGV5ICYgU29ucyIsCikpCgpEQihDaXRhdGlvbigKICAgIHNvbW1lcnZpbGxlMTk5OWEsIHNvbW1lcnZpbGxlMTk5N2EsIHJlZj0iIiwKICAgIGNvbnRleHRzPVsKCiAgICBdLAopKQoKJycnLCBjaXRhdGlvbnM9J3NvbW1lcnZpbGxlMTk5OWEnKTs=\"));\n",
       "    "
      ],
      "text/plain": [
       "<IPython.core.display.Javascript object>"
      ]
     },
     "metadata": {},
     "output_type": "display_data"
    },
    {
     "data": {
      "application/javascript": [
       "$('span:contains(\"# Temp\")').closest('.cell').remove();"
      ],
      "text/plain": [
       "<IPython.core.display.Javascript object>"
      ]
     },
     "metadata": {},
     "output_type": "display_data"
    },
    {
     "data": {
      "application/javascript": [
       "\n",
       "        $('span:contains(\"# Temp\")').closest('.cell').remove();\n",
       "        var code = IPython.notebook.insert_cell_below('code');\n",
       "        code.set_text(atob(\"IyBUZW1wCmluc2VydCgnJycKc29tbWVydmlsbGUxOTk3YSA9IERCKFdvcmtVbnJlbGF0ZWQoCiAgICAxOTk3LCAiUmVxdWlyZW1lbnRzIEVuZ2luZWVyaW5nOiBBIEdvb2QgUHJhY3RpY2UgR3VpZGUiLAogICAgZGlzcGxheT0ic29tbWVydmlsbGUiLAogICAgYXV0aG9ycz0iU29tbWVydmlsbGUsIEkuIGFuZCBQLiBTYXd5ZXIiLAogICAgcGxhY2U9RkFLRSwKICAgIGVudHJ5dHlwZT0iYXJ0aWNsZSIsCiAgICBub3RlPSJjaXRlZCBCeSAxIiwKICAgIElEPSJTb21tZXJ2aWxsZTE5OTciLAogICAgcGxhY2V4PSJKb2huIFdpbGV5ICYgU29ucyIsCikpCgpEQihDaXRhdGlvbigKICAgIHNvbW1lcnZpbGxlMTk5OWEsIHNvbW1lcnZpbGxlMTk5N2EsIHJlZj0iIiwKICAgIGNvbnRleHRzPVsKCiAgICBdLAopKQoKJycnLCBjaXRhdGlvbnM9J3NvbW1lcnZpbGxlMTk5OWEnKTs=\"));\n",
       "    "
      ],
      "text/plain": [
       "<IPython.core.display.Javascript object>"
      ]
     },
     "metadata": {},
     "output_type": "display_data"
    },
    {
     "data": {
      "application/javascript": [
       "$('span:contains(\"# Temp\")').closest('.cell').remove();"
      ],
      "text/plain": [
       "<IPython.core.display.Javascript object>"
      ]
     },
     "metadata": {},
     "output_type": "display_data"
    },
    {
     "data": {
      "application/javascript": [
       "\n",
       "        $('span:contains(\"# Temp\")').closest('.cell').remove();\n",
       "        var code = IPython.notebook.insert_cell_below('code');\n",
       "        code.set_text(atob(\"IyBUZW1wCmluc2VydCgnJycKZW1tZXQxOTk2YSA9IERCKFdvcmtVbnJlbGF0ZWQoCiAgICAxOTk2LCAiUEVSRSBFdmFsdWF0aW9uIGFuZCBJbXByb3ZlbWVudCBvZiBEZXBlbmRhYmxlIFByb2Nlc3NlcyIsCiAgICBkaXNwbGF5PSJlbW1ldCIsCiAgICBhdXRob3JzPSJFbW1ldCwgTC4gUi4gQmxvb21maWVsZCwgSi4gQm93ZXJzLCBhbmQgUy4gVmlsbGVyLCIsCiAgICBwbGFjZT1GQUtFLAogICAgZW50cnl0eXBlPSJhcnRpY2xlIiwKICAgIG5vdGU9ImNpdGVkIEJ5IDEiLAogICAgSUQ9IkVtbWV0MTk5NiIsCiAgICBwbGFjZXg9IlByb2MuIFNhZmVjb21wIiwKKSkKCkRCKENpdGF0aW9uKAogICAgc29tbWVydmlsbGUxOTk5YSwgZW1tZXQxOTk2YSwgcmVmPSIiLAogICAgY29udGV4dHM9WwoKICAgIF0sCikpCgonJycsIGNpdGF0aW9ucz0nc29tbWVydmlsbGUxOTk5YScpOw==\"));\n",
       "    "
      ],
      "text/plain": [
       "<IPython.core.display.Javascript object>"
      ]
     },
     "metadata": {},
     "output_type": "display_data"
    },
    {
     "data": {
      "application/javascript": [
       "$('span:contains(\"# Temp\")').closest('.cell').remove();"
      ],
      "text/plain": [
       "<IPython.core.display.Javascript object>"
      ]
     },
     "metadata": {},
     "output_type": "display_data"
    },
    {
     "data": {
      "application/javascript": [
       "\n",
       "        $('span:contains(\"# Temp\")').closest('.cell').remove();\n",
       "        var code = IPython.notebook.insert_cell_below('code');\n",
       "        code.set_text(atob(\"IyBUZW1wCmluc2VydCgnJycKZW1tZXQxOTk2YSA9IERCKFdvcmtVbnJlbGF0ZWQoCiAgICAxOTk2LCAiUEVSRSBFdmFsdWF0aW9uIGFuZCBJbXByb3ZlbWVudCBvZiBEZXBlbmRhYmxlIFByb2Nlc3NlcyIsCiAgICBkaXNwbGF5PSJlbW1ldCIsCiAgICBhdXRob3JzPSJFbW1ldCwgTC4gUi4gQmxvb21maWVsZCwgSi4gQm93ZXJzLCBhbmQgUy4gVmlsbGVyLCIsCiAgICBwbGFjZT1GQUtFLAogICAgZW50cnl0eXBlPSJhcnRpY2xlIiwKICAgIG5vdGU9ImNpdGVkIEJ5IDEiLAogICAgSUQ9IkVtbWV0MTk5NiIsCiAgICBwbGFjZXg9IlByb2MuIFNhZmVjb21wIiwKKSkKCkRCKENpdGF0aW9uKAogICAgc29tbWVydmlsbGUxOTk5YSwgZW1tZXQxOTk2YSwgcmVmPSIiLAogICAgY29udGV4dHM9WwoKICAgIF0sCikpCgonJycsIGNpdGF0aW9ucz0nc29tbWVydmlsbGUxOTk5YScpOw==\"));\n",
       "    "
      ],
      "text/plain": [
       "<IPython.core.display.Javascript object>"
      ]
     },
     "metadata": {},
     "output_type": "display_data"
    },
    {
     "data": {
      "application/javascript": [
       "$('span:contains(\"# Temp\")').closest('.cell').remove();"
      ],
      "text/plain": [
       "<IPython.core.display.Javascript object>"
      ]
     },
     "metadata": {},
     "output_type": "display_data"
    },
    {
     "data": {
      "application/javascript": [
       "\n",
       "        $('span:contains(\"# Temp\")').closest('.cell').remove();\n",
       "        var code = IPython.notebook.insert_cell_below('code');\n",
       "        code.set_text(atob(\"IyBUZW1wCmluc2VydCgnJycKc29tbWVydmlsbGUxOTk3YiA9IERCKFdvcmtVbnJlbGF0ZWQoCiAgICAxOTk3LCAiVmlld3BvaW50czogUHJpbmNpcGxlcywgUHJvYmxlbXMgYW5kIEEgUHJhY3RpY2FsIEFwcHJvYWNoIHRvIFJlcXVpcmVtZW50cyBFbmdpbmVlcmluZyIsCiAgICBkaXNwbGF5PSJzb21tZXJ2aWxsZSBiIiwKICAgIGF1dGhvcnM9IlNvbW1lcnZpbGxlLCBJLiBhbmQgUC4gU2F3eWVyLCIsCiAgICBwbGFjZT1GQUtFLAogICAgZW50cnl0eXBlPSJhcnRpY2xlIiwKICAgIG5vdGU9ImNpdGVkIEJ5IDEiLAogICAgSUQ9IlNvbW1lcnZpbGxlMTk5NyIsCiAgICBwbGFjZXg9IkFubnVhbCBTb2Z0d2FyZSBFbmcuLCBWb2wuIDMiLAopKQoKREIoQ2l0YXRpb24oCiAgICBzb21tZXJ2aWxsZTE5OTlhLCBzb21tZXJ2aWxsZTE5OTdiLCByZWY9IiIsCiAgICBjb250ZXh0cz1bCgogICAgXSwKKSkKCicnJywgY2l0YXRpb25zPSdzb21tZXJ2aWxsZTE5OTlhJyk7\"));\n",
       "    "
      ],
      "text/plain": [
       "<IPython.core.display.Javascript object>"
      ]
     },
     "metadata": {},
     "output_type": "display_data"
    },
    {
     "data": {
      "application/javascript": [
       "$('span:contains(\"# Temp\")').closest('.cell').remove();"
      ],
      "text/plain": [
       "<IPython.core.display.Javascript object>"
      ]
     },
     "metadata": {},
     "output_type": "display_data"
    },
    {
     "data": {
      "application/javascript": [
       "\n",
       "        $('span:contains(\"# Temp\")').closest('.cell').remove();\n",
       "        var code = IPython.notebook.insert_cell_below('code');\n",
       "        code.set_text(atob(\"IyBUZW1wCmluc2VydCgnJycKc29tbWVydmlsbGUxOTk3YiA9IERCKFdvcmtVbnJlbGF0ZWQoCiAgICAxOTk3LCAiVmlld3BvaW50czogUHJpbmNpcGxlcywgUHJvYmxlbXMgYW5kIEEgUHJhY3RpY2FsIEFwcHJvYWNoIHRvIFJlcXVpcmVtZW50cyBFbmdpbmVlcmluZyIsCiAgICBkaXNwbGF5PSJzb21tZXJ2aWxsZSBiIiwKICAgIGF1dGhvcnM9IlNvbW1lcnZpbGxlLCBJLiBhbmQgUC4gU2F3eWVyLCIsCiAgICBwbGFjZT1GQUtFLAogICAgZW50cnl0eXBlPSJhcnRpY2xlIiwKICAgIG5vdGU9ImNpdGVkIEJ5IDEiLAogICAgSUQ9IlNvbW1lcnZpbGxlMTk5NyIsCiAgICBwbGFjZXg9IkFubnVhbCBTb2Z0d2FyZSBFbmcuLCBWb2wuIDMiLAopKQoKREIoQ2l0YXRpb24oCiAgICBzb21tZXJ2aWxsZTE5OTlhLCBzb21tZXJ2aWxsZTE5OTdiLCByZWY9IiIsCiAgICBjb250ZXh0cz1bCgogICAgXSwKKSkKCicnJywgY2l0YXRpb25zPSdzb21tZXJ2aWxsZTE5OTlhJyk7\"));\n",
       "    "
      ],
      "text/plain": [
       "<IPython.core.display.Javascript object>"
      ]
     },
     "metadata": {},
     "output_type": "display_data"
    },
    {
     "data": {
      "application/javascript": [
       "$('span:contains(\"# Temp\")').closest('.cell').remove();"
      ],
      "text/plain": [
       "<IPython.core.display.Javascript object>"
      ]
     },
     "metadata": {},
     "output_type": "display_data"
    },
    {
     "data": {
      "application/javascript": [
       "\n",
       "        $('span:contains(\"# Temp\")').closest('.cell').remove();\n",
       "        var code = IPython.notebook.insert_cell_below('code');\n",
       "        code.set_text(atob(\"IyBUZW1wCmluc2VydCgnJycKc29tbWVydmlsbGUxOTk4YSA9IERCKFdvcmtVbnJlbGF0ZWQoCiAgICAxOTk4LCAiVmlld3BvaW50cyBmb3IgUmVxdWlyZW1lbnRzIEVsaWNpdGF0aW9uOiBBIFByYWN0aWNhbCBBcHByb2FjaCIsCiAgICBkaXNwbGF5PSJzb21tZXJ2aWxsZSIsCiAgICBhdXRob3JzPSJTb21tZXJ2aWxsZSwgSS5QLiBTYXd5ZXIsIGFuZCBTLiBWaWxsZXIsIiwKICAgIHBsYWNlPUZBS0UsCiAgICBlbnRyeXR5cGU9ImFydGljbGUiLAogICAgbm90ZT0iY2l0ZWQgQnkgMSIsCiAgICBJRD0iU29tbWVydmlsbGUxOTk4IiwKICAgIHBsYWNleD0iUHJvYy4gSW50J2wgQ29uZi4gUmVxdWlyZW1lbnRzIEVuZy4iLAopKQoKREIoQ2l0YXRpb24oCiAgICBzb21tZXJ2aWxsZTE5OTlhLCBzb21tZXJ2aWxsZTE5OThhLCByZWY9IiIsCiAgICBjb250ZXh0cz1bCgogICAgXSwKKSkKCicnJywgY2l0YXRpb25zPSdzb21tZXJ2aWxsZTE5OTlhJyk7\"));\n",
       "    "
      ],
      "text/plain": [
       "<IPython.core.display.Javascript object>"
      ]
     },
     "metadata": {},
     "output_type": "display_data"
    },
    {
     "data": {
      "application/javascript": [
       "$('span:contains(\"# Temp\")').closest('.cell').remove();"
      ],
      "text/plain": [
       "<IPython.core.display.Javascript object>"
      ]
     },
     "metadata": {},
     "output_type": "display_data"
    },
    {
     "data": {
      "application/javascript": [
       "\n",
       "        $('span:contains(\"# Temp\")').closest('.cell').remove();\n",
       "        var code = IPython.notebook.insert_cell_below('code');\n",
       "        code.set_text(atob(\"IyBUZW1wCmluc2VydCgnJycKc29tbWVydmlsbGUxOTk4YSA9IERCKFdvcmtVbnJlbGF0ZWQoCiAgICAxOTk4LCAiVmlld3BvaW50cyBmb3IgUmVxdWlyZW1lbnRzIEVsaWNpdGF0aW9uOiBBIFByYWN0aWNhbCBBcHByb2FjaCIsCiAgICBkaXNwbGF5PSJzb21tZXJ2aWxsZSIsCiAgICBhdXRob3JzPSJTb21tZXJ2aWxsZSwgSS5QLiBTYXd5ZXIsIGFuZCBTLiBWaWxsZXIsIiwKICAgIHBsYWNlPUZBS0UsCiAgICBlbnRyeXR5cGU9ImFydGljbGUiLAogICAgbm90ZT0iY2l0ZWQgQnkgMSIsCiAgICBJRD0iU29tbWVydmlsbGUxOTk4IiwKICAgIHBsYWNleD0iUHJvYy4gSW50J2wgQ29uZi4gUmVxdWlyZW1lbnRzIEVuZy4iLAopKQoKREIoQ2l0YXRpb24oCiAgICBzb21tZXJ2aWxsZTE5OTlhLCBzb21tZXJ2aWxsZTE5OThhLCByZWY9IiIsCiAgICBjb250ZXh0cz1bCgogICAgXSwKKSkKCicnJywgY2l0YXRpb25zPSdzb21tZXJ2aWxsZTE5OTlhJyk7\"));\n",
       "    "
      ],
      "text/plain": [
       "<IPython.core.display.Javascript object>"
      ]
     },
     "metadata": {},
     "output_type": "display_data"
    },
    {
     "data": {
      "application/javascript": [
       "$('span:contains(\"# Temp\")').closest('.cell').remove();"
      ],
      "text/plain": [
       "<IPython.core.display.Javascript object>"
      ]
     },
     "metadata": {},
     "output_type": "display_data"
    },
    {
     "data": {
      "application/javascript": [
       "\n",
       "        $('span:contains(\"# Temp\")').closest('.cell').remove();\n",
       "        var code = IPython.notebook.insert_cell_below('code');\n",
       "        code.set_text(atob(\"IyBUZW1wCmluc2VydCgnJycKb3N0ZXJ3ZWlsMTk4N2EgPSBEQihXb3JrVW5yZWxhdGVkKAogICAgMTk4NywgIlNvZnR3YXJlIFByb2Nlc3NlcyBBcmUgU29mdHdhcmUgVG9vIiwKICAgIGRpc3BsYXk9Im9zdGVyd2VpbCIsCiAgICBhdXRob3JzPSJPc3RlcndlaWwsIEwuIiwKICAgIHBsYWNlPUZBS0UsCiAgICBlbnRyeXR5cGU9ImFydGljbGUiLAogICAgbm90ZT0iY2l0ZWQgQnkgMSIsCiAgICBJRD0iT3N0ZXJ3ZWlsMTk4NyIsCiAgICBwbGFjZXg9IlByb2MuIE5pbnRoIEludCdsIENvbmYuIFNvZnR3YXJlIEVuZy4sIFBwLiAyLTEyIiwKKSkKCkRCKENpdGF0aW9uKAogICAgc29tbWVydmlsbGUxOTk5YSwgb3N0ZXJ3ZWlsMTk4N2EsIHJlZj0iIiwKICAgIGNvbnRleHRzPVsKCiAgICBdLAopKQoKJycnLCBjaXRhdGlvbnM9J3NvbW1lcnZpbGxlMTk5OWEnKTs=\"));\n",
       "    "
      ],
      "text/plain": [
       "<IPython.core.display.Javascript object>"
      ]
     },
     "metadata": {},
     "output_type": "display_data"
    },
    {
     "data": {
      "application/javascript": [
       "$('span:contains(\"# Temp\")').closest('.cell').remove();"
      ],
      "text/plain": [
       "<IPython.core.display.Javascript object>"
      ]
     },
     "metadata": {},
     "output_type": "display_data"
    },
    {
     "data": {
      "application/javascript": [
       "\n",
       "        $('span:contains(\"# Temp\")').closest('.cell').remove();\n",
       "        var code = IPython.notebook.insert_cell_below('code');\n",
       "        code.set_text(atob(\"IyBUZW1wCmluc2VydCgnJycKb3N0ZXJ3ZWlsMTk4N2EgPSBEQihXb3JrVW5yZWxhdGVkKAogICAgMTk4NywgIlNvZnR3YXJlIFByb2Nlc3NlcyBBcmUgU29mdHdhcmUgVG9vIiwKICAgIGRpc3BsYXk9Im9zdGVyd2VpbCIsCiAgICBhdXRob3JzPSJPc3RlcndlaWwsIEwuIiwKICAgIHBsYWNlPUZBS0UsCiAgICBlbnRyeXR5cGU9ImFydGljbGUiLAogICAgbm90ZT0iY2l0ZWQgQnkgMSIsCiAgICBJRD0iT3N0ZXJ3ZWlsMTk4NyIsCiAgICBwbGFjZXg9IlByb2MuIE5pbnRoIEludCdsIENvbmYuIFNvZnR3YXJlIEVuZy4sIFBwLiAyLTEyIiwKKSkKCkRCKENpdGF0aW9uKAogICAgc29tbWVydmlsbGUxOTk5YSwgb3N0ZXJ3ZWlsMTk4N2EsIHJlZj0iIiwKICAgIGNvbnRleHRzPVsKCiAgICBdLAopKQoKJycnLCBjaXRhdGlvbnM9J3NvbW1lcnZpbGxlMTk5OWEnKTs=\"));\n",
       "    "
      ],
      "text/plain": [
       "<IPython.core.display.Javascript object>"
      ]
     },
     "metadata": {},
     "output_type": "display_data"
    },
    {
     "data": {
      "application/javascript": [
       "$('span:contains(\"# Temp\")').closest('.cell').remove();"
      ],
      "text/plain": [
       "<IPython.core.display.Javascript object>"
      ]
     },
     "metadata": {},
     "output_type": "display_data"
    },
    {
     "data": {
      "application/javascript": [
       "\n",
       "        $('span:contains(\"# Temp\")').closest('.cell').remove();\n",
       "        var code = IPython.notebook.insert_cell_below('code');\n",
       "        code.set_text(atob(\"IyBUZW1wCmluc2VydCgnJycKZmVybnN0cm8xOTkzYSA9IERCKFdvcmtVbnJlbGF0ZWQoCiAgICAxOTkzLCAiUHJvY2VzcyBXZWF2ZXI6IEFkZGluZyBQcm9jZXNzIFN1cHBvcnQgdG8gVW5peCIsCiAgICBkaXNwbGF5PSJmZXJuc3RybyIsCiAgICBhdXRob3JzPSJGZXJuc3RybywgQy4gTSwiLAogICAgcGxhY2U9RkFLRSwKICAgIGVudHJ5dHlwZT0iYXJ0aWNsZSIsCiAgICBub3RlPSJjaXRlZCBCeSAxIiwKICAgIElEPSJGZXJuc3RybzE5OTMiLAogICAgcGxhY2V4PSI/UHJvYy4gU2Vjb25kIEludCdsIENvbmYuIFNvZnR3YXJlIFByb2Nlc3MiLAopKQoKREIoQ2l0YXRpb24oCiAgICBzb21tZXJ2aWxsZTE5OTlhLCBmZXJuc3RybzE5OTNhLCByZWY9IiIsCiAgICBjb250ZXh0cz1bCgogICAgXSwKKSkKCicnJywgY2l0YXRpb25zPSdzb21tZXJ2aWxsZTE5OTlhJyk7\"));\n",
       "    "
      ],
      "text/plain": [
       "<IPython.core.display.Javascript object>"
      ]
     },
     "metadata": {},
     "output_type": "display_data"
    },
    {
     "data": {
      "application/javascript": [
       "$('span:contains(\"# Temp\")').closest('.cell').remove();"
      ],
      "text/plain": [
       "<IPython.core.display.Javascript object>"
      ]
     },
     "metadata": {},
     "output_type": "display_data"
    },
    {
     "data": {
      "application/javascript": [
       "\n",
       "        $('span:contains(\"# Temp\")').closest('.cell').remove();\n",
       "        var code = IPython.notebook.insert_cell_below('code');\n",
       "        code.set_text(atob(\"IyBUZW1wCmluc2VydCgnJycKZmVybnN0cm8xOTkzYSA9IERCKFdvcmtVbnJlbGF0ZWQoCiAgICAxOTkzLCAiUHJvY2VzcyBXZWF2ZXI6IEFkZGluZyBQcm9jZXNzIFN1cHBvcnQgdG8gVW5peCIsCiAgICBkaXNwbGF5PSJmZXJuc3RybyIsCiAgICBhdXRob3JzPSJGZXJuc3RybywgQy4gTSwiLAogICAgcGxhY2U9RkFLRSwKICAgIGVudHJ5dHlwZT0iYXJ0aWNsZSIsCiAgICBub3RlPSJjaXRlZCBCeSAxIiwKICAgIElEPSJGZXJuc3RybzE5OTMiLAogICAgcGxhY2V4PSI/UHJvYy4gU2Vjb25kIEludCdsIENvbmYuIFNvZnR3YXJlIFByb2Nlc3MiLAopKQoKREIoQ2l0YXRpb24oCiAgICBzb21tZXJ2aWxsZTE5OTlhLCBmZXJuc3RybzE5OTNhLCByZWY9IiIsCiAgICBjb250ZXh0cz1bCgogICAgXSwKKSkKCicnJywgY2l0YXRpb25zPSdzb21tZXJ2aWxsZTE5OTlhJyk7\"));\n",
       "    "
      ],
      "text/plain": [
       "<IPython.core.display.Javascript object>"
      ]
     },
     "metadata": {},
     "output_type": "display_data"
    },
    {
     "data": {
      "application/javascript": [
       "$('span:contains(\"# Temp\")').closest('.cell').remove();"
      ],
      "text/plain": [
       "<IPython.core.display.Javascript object>"
      ]
     },
     "metadata": {},
     "output_type": "display_data"
    },
    {
     "data": {
      "application/javascript": [
       "\n",
       "        $('span:contains(\"# Temp\")').closest('.cell').remove();\n",
       "        var code = IPython.notebook.insert_cell_below('code');\n",
       "        code.set_text(atob(\"IyBUZW1wCmluc2VydCgnJycKc3V0dG9uMTk5N2EgPSBEQihXb3JrVW5yZWxhdGVkKAogICAgMTk5NywgIlRoZSBEZXNpZ24gb2YgQSBOZXh0LUdlbmVyYXRpb24gUHJvY2VzcyBMYW5ndWFnZSIsCiAgICBkaXNwbGF5PSJzdXR0b24iLAogICAgYXV0aG9ycz0iU3V0dG9uLCBTLk0uIGFuZCBMLkouIE9zdGVyd2VpbCIsCiAgICBwbGFjZT1GQUtFLAogICAgZW50cnl0eXBlPSJhcnRpY2xlIiwKICAgIG5vdGU9ImNpdGVkIEJ5IDEiLAogICAgSUQ9IlN1dHRvbjE5OTciLAogICAgcGxhY2V4PSJFU0VDL0ZTRSc5NyBTcHJpbmdlci1WZXJsYWciLAopKQoKREIoQ2l0YXRpb24oCiAgICBzb21tZXJ2aWxsZTE5OTlhLCBzdXR0b24xOTk3YSwgcmVmPSIiLAogICAgY29udGV4dHM9WwoKICAgIF0sCikpCgonJycsIGNpdGF0aW9ucz0nc29tbWVydmlsbGUxOTk5YScpOw==\"));\n",
       "    "
      ],
      "text/plain": [
       "<IPython.core.display.Javascript object>"
      ]
     },
     "metadata": {},
     "output_type": "display_data"
    },
    {
     "data": {
      "application/javascript": [
       "$('span:contains(\"# Temp\")').closest('.cell').remove();"
      ],
      "text/plain": [
       "<IPython.core.display.Javascript object>"
      ]
     },
     "metadata": {},
     "output_type": "display_data"
    },
    {
     "data": {
      "application/javascript": [
       "\n",
       "        $('span:contains(\"# Temp\")').closest('.cell').remove();\n",
       "        var code = IPython.notebook.insert_cell_below('code');\n",
       "        code.set_text(atob(\"IyBUZW1wCmluc2VydCgnJycKc3V0dG9uMTk5N2EgPSBEQihXb3JrVW5yZWxhdGVkKAogICAgMTk5NywgIlRoZSBEZXNpZ24gb2YgQSBOZXh0LUdlbmVyYXRpb24gUHJvY2VzcyBMYW5ndWFnZSIsCiAgICBkaXNwbGF5PSJzdXR0b24iLAogICAgYXV0aG9ycz0iU3V0dG9uLCBTLk0uIGFuZCBMLkouIE9zdGVyd2VpbCIsCiAgICBwbGFjZT1GQUtFLAogICAgZW50cnl0eXBlPSJhcnRpY2xlIiwKICAgIG5vdGU9ImNpdGVkIEJ5IDEiLAogICAgSUQ9IlN1dHRvbjE5OTciLAogICAgcGxhY2V4PSJFU0VDL0ZTRSc5NyBTcHJpbmdlci1WZXJsYWciLAopKQoKREIoQ2l0YXRpb24oCiAgICBzb21tZXJ2aWxsZTE5OTlhLCBzdXR0b24xOTk3YSwgcmVmPSIiLAogICAgY29udGV4dHM9WwoKICAgIF0sCikpCgonJycsIGNpdGF0aW9ucz0nc29tbWVydmlsbGUxOTk5YScpOw==\"));\n",
       "    "
      ],
      "text/plain": [
       "<IPython.core.display.Javascript object>"
      ]
     },
     "metadata": {},
     "output_type": "display_data"
    },
    {
     "data": {
      "application/javascript": [
       "$('span:contains(\"# Temp\")').closest('.cell').remove();"
      ],
      "text/plain": [
       "<IPython.core.display.Javascript object>"
      ]
     },
     "metadata": {},
     "output_type": "display_data"
    },
    {
     "data": {
      "application/javascript": [
       "\n",
       "        $('span:contains(\"# Temp\")').closest('.cell').remove();\n",
       "        var code = IPython.notebook.insert_cell_below('code');\n",
       "        code.set_text(atob(\"IyBUZW1wCmluc2VydCgnJycKREIoQ2l0YXRpb24oCiAgICBzb21tZXJ2aWxsZTE5OTlhLCBwYXVsazE5OTVhLCByZWY9IiIsCiAgICBjb250ZXh0cz1bCgogICAgXSwKKSkKCicnJywgY2l0YXRpb25zPSdzb21tZXJ2aWxsZTE5OTlhJyk7\"));\n",
       "    "
      ],
      "text/plain": [
       "<IPython.core.display.Javascript object>"
      ]
     },
     "metadata": {},
     "output_type": "display_data"
    },
    {
     "data": {
      "application/javascript": [
       "$('span:contains(\"# Temp\")').closest('.cell').remove();"
      ],
      "text/plain": [
       "<IPython.core.display.Javascript object>"
      ]
     },
     "metadata": {},
     "output_type": "display_data"
    },
    {
     "data": {
      "application/javascript": [
       "\n",
       "        $('span:contains(\"# Temp\")').closest('.cell').remove();\n",
       "        var code = IPython.notebook.insert_cell_below('code');\n",
       "        code.set_text(atob(\"IyBUZW1wCmluc2VydCgnJycKREIoQ2l0YXRpb24oCiAgICBzb21tZXJ2aWxsZTE5OTlhLCBwYXVsazE5OTVhLCByZWY9IiIsCiAgICBjb250ZXh0cz1bCgogICAgXSwKKSkKCicnJywgY2l0YXRpb25zPSdzb21tZXJ2aWxsZTE5OTlhJyk7\"));\n",
       "    "
      ],
      "text/plain": [
       "<IPython.core.display.Javascript object>"
      ]
     },
     "metadata": {},
     "output_type": "display_data"
    }
   ],
   "source": [
    "import importlib\n",
    "import custom_snowballing\n",
    "importlib.reload(custom_snowballing)\n",
    "from custom_snowballing import UnrelatedBackward\n",
    "UnrelatedBackward(\"sommerville1999a\", articles=article_list)"
   ]
  },
  {
   "cell_type": "code",
   "execution_count": 19,
   "metadata": {},
   "outputs": [
    {
     "name": "stdout",
     "output_type": "stream",
     "text": [
      "-Insert Import: paulk1995a\n",
      "-Insert Citation: sommerville1999a -> paulk1995a\n"
     ]
    }
   ],
   "source": [
    "# Temp\n",
    "insert('''\n",
    "DB(Citation(\n",
    "    sommerville1999a, paulk1995a, ref=\"\",\n",
    "    contexts=[\n",
    "\n",
    "    ],\n",
    "))\n",
    "\n",
    "''', citations='sommerville1999a');"
   ]
  },
  {
   "cell_type": "code",
   "execution_count": null,
   "metadata": {
    "collapsed": true
   },
   "outputs": [],
   "source": []
  }
 ],
 "metadata": {
  "kernelspec": {
   "display_name": "Python 3",
   "language": "python",
   "name": "python3"
  },
  "language_info": {
   "codemirror_mode": {
    "name": "ipython",
    "version": 3
   },
   "file_extension": ".py",
   "mimetype": "text/x-python",
   "name": "python",
   "nbconvert_exporter": "python",
   "pygments_lexer": "ipython3",
   "version": "3.6.0"
  },
  "toc": {
   "nav_menu": {
    "height": "12px",
    "width": "252px"
   },
   "number_sections": true,
   "sideBar": true,
   "skip_h1_title": false,
   "toc_cell": false,
   "toc_position": {},
   "toc_section_display": "block",
   "toc_window_display": false
  }
 },
 "nbformat": 4,
 "nbformat_minor": 2
}
