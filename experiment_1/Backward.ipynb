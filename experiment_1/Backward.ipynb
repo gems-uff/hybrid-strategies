{
 "cells": [
  {
   "cell_type": "code",
   "execution_count": 19,
   "metadata": {
    "collapsed": true
   },
   "outputs": [],
   "source": [
    "import database\n",
    "from snowballing.operations import load_work, reload, work_by_varname\n",
    "from snowballing.snowballing import Converter\n",
    "from snowballing.dbmanager import insert, set_attribute"
   ]
  },
  {
   "cell_type": "code",
   "execution_count": 20,
   "metadata": {
    "scrolled": false
   },
   "outputs": [
    {
     "data": {
      "application/vnd.jupyter.widget-view+json": {
       "model_id": "8c8e418fb46d42f6924cadad42f4abdc",
       "version_major": 2,
       "version_minor": 0
      },
      "text/html": [
       "<p>Failed to display Jupyter Widget of type <code>VBox</code>.</p>\n",
       "<p>\n",
       "  If you're reading this message in Jupyter Notebook or JupyterLab, it may mean\n",
       "  that the widgets JavaScript is still loading. If this message persists, it\n",
       "  likely means that the widgets JavaScript library is either not installed or\n",
       "  not enabled. See the <a href=\"https://ipywidgets.readthedocs.io/en/stable/user_install.html\">Jupyter\n",
       "  Widgets Documentation</a> for setup instructions.\n",
       "</p>\n",
       "<p>\n",
       "  If you're reading this message in another notebook frontend (for example, a static\n",
       "  rendering on GitHub or <a href=\"https://nbviewer.jupyter.org/\">NBViewer</a>),\n",
       "  it may mean that your frontend doesn't currently support widgets.\n",
       "</p>\n"
      ],
      "text/plain": [
       "VBox(children=(HBox(children=(Dropdown(index=1, options={'BibTeX': 'bibtex', 'Text': 'text', '[N] author name place other year': 'citation', 'Quoted': 'quoted'}, value='text'), Button(description='Set article_list variable', disabled=True, style=ButtonStyle()), Label(value=''))), HBox(children=(Textarea(value='', layout=Layout(height='500px', width='50%')), Textarea(value='', layout=Layout(height='500px', width='50%'))))))"
      ]
     },
     "metadata": {},
     "output_type": "display_data"
    }
   ],
   "source": [
    "Converter().browser()"
   ]
  },
  {
   "cell_type": "code",
   "execution_count": 21,
   "metadata": {},
   "outputs": [
    {
     "data": {
      "text/plain": [
       "8"
      ]
     },
     "execution_count": 21,
     "metadata": {},
     "output_type": "execute_result"
    }
   ],
   "source": [
    "len(article_list)"
   ]
  },
  {
   "cell_type": "code",
   "execution_count": 22,
   "metadata": {
    "collapsed": true
   },
   "outputs": [],
   "source": [
    "#from database.work.y2015 import li2015a"
   ]
  },
  {
   "cell_type": "code",
   "execution_count": 23,
   "metadata": {
    "collapsed": true
   },
   "outputs": [],
   "source": [
    "#int(getattr(li2015a, 'scopus', 0))"
   ]
  },
  {
   "cell_type": "code",
   "execution_count": 24,
   "metadata": {},
   "outputs": [],
   "source": [
    "#print(article_list)"
   ]
  },
  {
   "cell_type": "code",
   "execution_count": null,
   "metadata": {
    "collapsed": true
   },
   "outputs": [],
   "source": []
  },
  {
   "cell_type": "code",
   "execution_count": 25,
   "metadata": {},
   "outputs": [
    {
     "data": {
      "application/vnd.jupyter.widget-view+json": {
       "model_id": "f2770aaeb853408aad63571732c0b395",
       "version_major": 2,
       "version_minor": 0
      },
      "text/html": [
       "<p>Failed to display Jupyter Widget of type <code>VBox</code>.</p>\n",
       "<p>\n",
       "  If you're reading this message in Jupyter Notebook or JupyterLab, it may mean\n",
       "  that the widgets JavaScript is still loading. If this message persists, it\n",
       "  likely means that the widgets JavaScript library is either not installed or\n",
       "  not enabled. See the <a href=\"https://ipywidgets.readthedocs.io/en/stable/user_install.html\">Jupyter\n",
       "  Widgets Documentation</a> for setup instructions.\n",
       "</p>\n",
       "<p>\n",
       "  If you're reading this message in another notebook frontend (for example, a static\n",
       "  rendering on GitHub or <a href=\"https://nbviewer.jupyter.org/\">NBViewer</a>),\n",
       "  it may mean that your frontend doesn't currently support widgets.\n",
       "</p>\n"
      ],
      "text/plain": [
       "VBox(children=(HBox(children=(Button(description='Previous Article', disabled=True, icon='caret-left', style=ButtonStyle()), Button(description='Reload Article', icon='refresh', style=ButtonStyle()), Button(description='Next Article', icon='caret-right', style=ButtonStyle()))), HBox(children=(Button(description='Unrelated: Scripts', style=ButtonStyle()), Button(description='Unrelated: Provenance', style=ButtonStyle()), Button(description='Both', style=ButtonStyle()), Button(description='Ok', style=ButtonStyle()))), HBox(children=(Dropdown(description='Type', index=5, options=('Work', 'WorkSnowball', 'WorkForward', 'WorkBackward', 'WorkOk', 'WorkUnrelated', 'WorkNoFile', 'WorkLang', 'Site', 'Email'), value='WorkUnrelated'), ToggleButton(value=False, description='File'))), HBox(children=(Text(value='', description='Due'), Text(value='', description='Place'))), HBox(children=(Text(value='', description='Year'), Text(value='', description='Prefix Var'))), HBox(children=(Text(value='', description='PDFPage'), Text(value='', description='Related'))), HBox(children=(Text(value='', description='Display'), Text(value='', description='Summary'))), HBox(children=(Text(value='', description='Star'), Text(value='', description='Link'))), HBox(children=(Button(description='Reload Article', icon='refresh', style=ButtonStyle()), IntSlider(value=0, max=7), Label(value='1/8'))), Output()))"
      ]
     },
     "metadata": {},
     "output_type": "display_data"
    },
    {
     "data": {
      "application/javascript": [
       "$('span:contains(\"# Temp\")').closest('.cell').remove();"
      ],
      "text/plain": [
       "<IPython.core.display.Javascript object>"
      ]
     },
     "metadata": {},
     "output_type": "display_data"
    },
    {
     "data": {
      "application/javascript": [
       "\n",
       "        $('span:contains(\"# Temp\")').closest('.cell').remove();\n",
       "        var code = IPython.notebook.insert_cell_below('code');\n",
       "        code.set_text(atob(\"IyBUZW1wCmluc2VydCgnJycKaXNvaWVjMjAwM2IgPSBEQihXb3JrVW5yZWxhdGVkKAogICAgMjAwMywgIkluZm9ybWF0aW9uIHRlY2hub2xvZ3kgLSBQcm9jZXNzIGFzc2Vzc21lbnQgLSBQYXJ0cyAxLTUiLAogICAgZGlzcGxheT0iaXNvaWVjIGIiLAogICAgYXV0aG9ycz0iaXNvaWVjIiwKICAgIHBsYWNlPUZBS0UsCiAgICBlbnRyeXR5cGU9ImFydGljbGUiLAogICAgbm90ZT0iY2l0ZWQgQnkgMjUxIiwKICAgIElEPSJpc29pZWMyMDAzIiwKICAgIHBsYWNleD0iSVNPL0lFQyAxNTUwNDoyMDAzLiBJbnRlcm5hdGlvbmFsIFN0YW5kYXJkcyBPcmdhbml6YXRpb24iLAopKQoKREIoQ2l0YXRpb24oCiAgICBwbPZzY2gyMDExYSwgaXNvaWVjMjAwM2IsIHJlZj0iIiwKICAgIGNvbnRleHRzPVsKCiAgICBdLAopKQoKJycnLCBjaXRhdGlvbnM9J3Bs9nNjaDIwMTFhJyk7\"));\n",
       "    "
      ],
      "text/plain": [
       "<IPython.core.display.Javascript object>"
      ]
     },
     "metadata": {},
     "output_type": "display_data"
    },
    {
     "data": {
      "application/javascript": [
       "$('span:contains(\"# Temp\")').closest('.cell').remove();"
      ],
      "text/plain": [
       "<IPython.core.display.Javascript object>"
      ]
     },
     "metadata": {},
     "output_type": "display_data"
    },
    {
     "data": {
      "application/javascript": [
       "\n",
       "        $('span:contains(\"# Temp\")').closest('.cell').remove();\n",
       "        var code = IPython.notebook.insert_cell_below('code');\n",
       "        code.set_text(atob(\"IyBUZW1wCmluc2VydCgnJycKY21taTIwMDZhID0gREIoV29ya1VucmVsYXRlZCgKICAgIDIwMDYsICJDTU1JIGZvciBEZXZlbG9wbWVudCIsCiAgICBkaXNwbGF5PSJjbW1pIiwKICAgIGF1dGhvcnM9ImNtbWkiLAogICAgcGxhY2U9RkFLRSwKICAgIGVudHJ5dHlwZT0iYXJ0aWNsZSIsCiAgICBub3RlPSJjaXRlZCBCeSAyMzkiLAogICAgSUQ9ImNtbWkyMDA2IiwKICAgIHBsYWNleD0iVmVyc2lvbiAxLjIuIFRlY2huaWNhbCBSZXBvcnQgQ01VL1NFSS0yMDA2LVRSLTAwOC4gU29mdHdhcmUgRW5naW5lZXJpbmcgSW5zdGl0dXRlLCBDYXJuZWdpZSBNZWxsb24gVW5pdmVyc2l0eSIsCikpCgpEQihDaXRhdGlvbigKICAgIHBs9nNjaDIwMTFhLCBjbW1pMjAwNmEsIHJlZj0iIiwKICAgIGNvbnRleHRzPVsKCiAgICBdLAopKQoKJycnLCBjaXRhdGlvbnM9J3Bs9nNjaDIwMTFhJyk7\"));\n",
       "    "
      ],
      "text/plain": [
       "<IPython.core.display.Javascript object>"
      ]
     },
     "metadata": {},
     "output_type": "display_data"
    },
    {
     "data": {
      "application/javascript": [
       "$('span:contains(\"# Temp\")').closest('.cell').remove();"
      ],
      "text/plain": [
       "<IPython.core.display.Javascript object>"
      ]
     },
     "metadata": {},
     "output_type": "display_data"
    },
    {
     "data": {
      "application/javascript": [
       "\n",
       "        $('span:contains(\"# Temp\")').closest('.cell').remove();\n",
       "        var code = IPython.notebook.insert_cell_below('code');\n",
       "        code.set_text(atob(\"IyBUZW1wCmluc2VydCgnJycKY21taTIwMDZhID0gREIoV29ya1VucmVsYXRlZCgKICAgIDIwMDYsICJDTU1JIGZvciBEZXZlbG9wbWVudCIsCiAgICBkaXNwbGF5PSJjbW1pIiwKICAgIGF1dGhvcnM9ImNtbWkiLAogICAgcGxhY2U9RkFLRSwKICAgIGVudHJ5dHlwZT0iYXJ0aWNsZSIsCiAgICBub3RlPSJjaXRlZCBCeSAyMzkiLAogICAgSUQ9ImNtbWkyMDA2IiwKICAgIHBsYWNleD0iVmVyc2lvbiAxLjIuIFRlY2huaWNhbCBSZXBvcnQgQ01VL1NFSS0yMDA2LVRSLTAwOC4gU29mdHdhcmUgRW5naW5lZXJpbmcgSW5zdGl0dXRlLCBDYXJuZWdpZSBNZWxsb24gVW5pdmVyc2l0eSIsCikpCgpEQihDaXRhdGlvbigKICAgIHBs9nNjaDIwMTFhLCBjbW1pMjAwNmEsIHJlZj0iIiwKICAgIGNvbnRleHRzPVsKCiAgICBdLAopKQoKJycnLCBjaXRhdGlvbnM9J3Bs9nNjaDIwMTFhJyk7\"));\n",
       "    "
      ],
      "text/plain": [
       "<IPython.core.display.Javascript object>"
      ]
     },
     "metadata": {},
     "output_type": "display_data"
    },
    {
     "data": {
      "application/javascript": [
       "$('span:contains(\"# Temp\")').closest('.cell').remove();"
      ],
      "text/plain": [
       "<IPython.core.display.Javascript object>"
      ]
     },
     "metadata": {},
     "output_type": "display_data"
    },
    {
     "data": {
      "application/javascript": [
       "\n",
       "        $('span:contains(\"# Temp\")').closest('.cell').remove();\n",
       "        var code = IPython.notebook.insert_cell_below('code');\n",
       "        code.set_text(atob(\"IyBUZW1wCmluc2VydCgnJycKc2hld2hhcnQxOTMxYSA9IERCKFdvcmtVbnJlbGF0ZWQoCiAgICAxOTMxLCAiRWNvbm9taWMgQ29udHJvbCBvZiBRdWFsaXR5IG9mIE1hbnVmYWN0dXJlZCBQcm9kdWN0IiwKICAgIGRpc3BsYXk9InNoZXdoYXJ0IiwKICAgIGF1dGhvcnM9IlNoZXdoYXJ0LCBXLkEuIiwKICAgIHBsYWNlPUZBS0UsCiAgICBlbnRyeXR5cGU9ImFydGljbGUiLAogICAgbm90ZT0iY2l0ZWQgQnkgMjE2OCIsCiAgICBJRD0iU2hld2hhcnQxOTMxIiwKICAgIHBsYWNleD0iRC5WYW4gTm9zdHJhbmQgQ29tcGFueSIsCikpCgpEQihDaXRhdGlvbigKICAgIHBs9nNjaDIwMTFhLCBzaGV3aGFydDE5MzFhLCByZWY9IiIsCiAgICBjb250ZXh0cz1bCgogICAgXSwKKSkKCicnJywgY2l0YXRpb25zPSdwbPZzY2gyMDExYScpOw==\"));\n",
       "    "
      ],
      "text/plain": [
       "<IPython.core.display.Javascript object>"
      ]
     },
     "metadata": {},
     "output_type": "display_data"
    },
    {
     "data": {
      "application/javascript": [
       "$('span:contains(\"# Temp\")').closest('.cell').remove();"
      ],
      "text/plain": [
       "<IPython.core.display.Javascript object>"
      ]
     },
     "metadata": {},
     "output_type": "display_data"
    },
    {
     "data": {
      "application/javascript": [
       "\n",
       "        $('span:contains(\"# Temp\")').closest('.cell').remove();\n",
       "        var code = IPython.notebook.insert_cell_below('code');\n",
       "        code.set_text(atob(\"IyBUZW1wCmluc2VydCgnJycKc2hld2hhcnQxOTMxYSA9IERCKFdvcmtVbnJlbGF0ZWQoCiAgICAxOTMxLCAiRWNvbm9taWMgQ29udHJvbCBvZiBRdWFsaXR5IG9mIE1hbnVmYWN0dXJlZCBQcm9kdWN0IiwKICAgIGRpc3BsYXk9InNoZXdoYXJ0IiwKICAgIGF1dGhvcnM9IlNoZXdoYXJ0LCBXLkEuIiwKICAgIHBsYWNlPUZBS0UsCiAgICBlbnRyeXR5cGU9ImFydGljbGUiLAogICAgbm90ZT0iY2l0ZWQgQnkgMjE2OCIsCiAgICBJRD0iU2hld2hhcnQxOTMxIiwKICAgIHBsYWNleD0iRC5WYW4gTm9zdHJhbmQgQ29tcGFueSIsCikpCgpEQihDaXRhdGlvbigKICAgIHBs9nNjaDIwMTFhLCBzaGV3aGFydDE5MzFhLCByZWY9IiIsCiAgICBjb250ZXh0cz1bCgogICAgXSwKKSkKCicnJywgY2l0YXRpb25zPSdwbPZzY2gyMDExYScpOw==\"));\n",
       "    "
      ],
      "text/plain": [
       "<IPython.core.display.Javascript object>"
      ]
     },
     "metadata": {},
     "output_type": "display_data"
    },
    {
     "data": {
      "application/javascript": [
       "$('span:contains(\"# Temp\")').closest('.cell').remove();"
      ],
      "text/plain": [
       "<IPython.core.display.Javascript object>"
      ]
     },
     "metadata": {},
     "output_type": "display_data"
    },
    {
     "data": {
      "application/javascript": [
       "\n",
       "        $('span:contains(\"# Temp\")').closest('.cell').remove();\n",
       "        var code = IPython.notebook.insert_cell_below('code');\n",
       "        code.set_text(atob(\"IyBUZW1wCmluc2VydCgnJycKZGlvbjE5OTNhID0gREIoV29ya1VucmVsYXRlZCgKICAgIDE5OTMsICJQcm9jZXNzIEltcHJvdmVtZW50IGFuZCB0aGUgQ29ycG9yYXRlIEJhbGFuY2UgU2hlZXQiLAogICAgZGlzcGxheT0iZGlvbiIsCiAgICBhdXRob3JzPSJEaW9uLCBSLiIsCiAgICBwbGFjZT1JRUVFUywKICAgIHBwPSIyOC0zNSIsCiAgICBlbnRyeXR5cGU9ImFydGljbGUiLAogICAgdm9sdW1lPSIxMCIsCiAgICBudW1iZXI9IjQiLAogICAgZG9pPSIxMC4xMTA5LzUyLjIxOTYxOCIsCiAgICBub3RlPSJjaXRlZCBCeSAxMDAiLAogICAgSUQ9IkRpb24xOTkzMjgiLAogICAgcGxhY2V4PSJJRUVFIFNvZnR3YXJlIiwKKSkKCkRCKENpdGF0aW9uKAogICAgcGz2c2NoMjAxMWEsIGRpb24xOTkzYSwgcmVmPSIiLAogICAgY29udGV4dHM9WwoKICAgIF0sCikpCgonJycsIGNpdGF0aW9ucz0ncGz2c2NoMjAxMWEnKTs=\"));\n",
       "    "
      ],
      "text/plain": [
       "<IPython.core.display.Javascript object>"
      ]
     },
     "metadata": {},
     "output_type": "display_data"
    },
    {
     "data": {
      "application/javascript": [
       "$('span:contains(\"# Temp\")').closest('.cell').remove();"
      ],
      "text/plain": [
       "<IPython.core.display.Javascript object>"
      ]
     },
     "metadata": {},
     "output_type": "display_data"
    },
    {
     "data": {
      "application/javascript": [
       "\n",
       "        $('span:contains(\"# Temp\")').closest('.cell').remove();\n",
       "        var code = IPython.notebook.insert_cell_below('code');\n",
       "        code.set_text(atob(\"IyBUZW1wCmluc2VydCgnJycKZGlvbjE5OTNhID0gREIoV29ya1VucmVsYXRlZCgKICAgIDE5OTMsICJQcm9jZXNzIEltcHJvdmVtZW50IGFuZCB0aGUgQ29ycG9yYXRlIEJhbGFuY2UgU2hlZXQiLAogICAgZGlzcGxheT0iZGlvbiIsCiAgICBhdXRob3JzPSJEaW9uLCBSLiIsCiAgICBwbGFjZT1JRUVFUywKICAgIHBwPSIyOC0zNSIsCiAgICBlbnRyeXR5cGU9ImFydGljbGUiLAogICAgdm9sdW1lPSIxMCIsCiAgICBudW1iZXI9IjQiLAogICAgZG9pPSIxMC4xMTA5LzUyLjIxOTYxOCIsCiAgICBub3RlPSJjaXRlZCBCeSAxMDAiLAogICAgSUQ9IkRpb24xOTkzMjgiLAogICAgcGxhY2V4PSJJRUVFIFNvZnR3YXJlIiwKKSkKCkRCKENpdGF0aW9uKAogICAgcGz2c2NoMjAxMWEsIGRpb24xOTkzYSwgcmVmPSIiLAogICAgY29udGV4dHM9WwoKICAgIF0sCikpCgonJycsIGNpdGF0aW9ucz0ncGz2c2NoMjAxMWEnKTs=\"));\n",
       "    "
      ],
      "text/plain": [
       "<IPython.core.display.Javascript object>"
      ]
     },
     "metadata": {},
     "output_type": "display_data"
    },
    {
     "data": {
      "application/javascript": [
       "$('span:contains(\"# Temp\")').closest('.cell').remove();"
      ],
      "text/plain": [
       "<IPython.core.display.Javascript object>"
      ]
     },
     "metadata": {},
     "output_type": "display_data"
    },
    {
     "data": {
      "application/javascript": [
       "\n",
       "        $('span:contains(\"# Temp\")').closest('.cell').remove();\n",
       "        var code = IPython.notebook.insert_cell_below('code');\n",
       "        code.set_text(atob(\"IyBUZW1wCmluc2VydCgnJycKREIoQ2l0YXRpb24oCiAgICBwbPZzY2gyMDExYSwgbWNmZWVsZXkxOTk2YSwgcmVmPSIiLAogICAgY29udGV4dHM9WwoKICAgIF0sCikpCgonJycsIGNpdGF0aW9ucz0ncGz2c2NoMjAxMWEnKTs=\"));\n",
       "    "
      ],
      "text/plain": [
       "<IPython.core.display.Javascript object>"
      ]
     },
     "metadata": {},
     "output_type": "display_data"
    },
    {
     "data": {
      "application/javascript": [
       "$('span:contains(\"# Temp\")').closest('.cell').remove();"
      ],
      "text/plain": [
       "<IPython.core.display.Javascript object>"
      ]
     },
     "metadata": {},
     "output_type": "display_data"
    },
    {
     "data": {
      "application/javascript": [
       "\n",
       "        $('span:contains(\"# Temp\")').closest('.cell').remove();\n",
       "        var code = IPython.notebook.insert_cell_below('code');\n",
       "        code.set_text(atob(\"IyBUZW1wCmluc2VydCgnJycKREIoQ2l0YXRpb24oCiAgICBwbPZzY2gyMDExYSwgbWNmZWVsZXkxOTk2YSwgcmVmPSIiLAogICAgY29udGV4dHM9WwoKICAgIF0sCikpCgonJycsIGNpdGF0aW9ucz0ncGz2c2NoMjAxMWEnKTs=\"));\n",
       "    "
      ],
      "text/plain": [
       "<IPython.core.display.Javascript object>"
      ]
     },
     "metadata": {},
     "output_type": "display_data"
    }
   ],
   "source": [
    "import importlib\n",
    "import custom_snowballing\n",
    "importlib.reload(custom_snowballing)\n",
    "from custom_snowballing import UnrelatedBackward\n",
    "UnrelatedBackward(\"plösch2011a\", articles=article_list)"
   ]
  },
  {
   "cell_type": "code",
   "execution_count": 30,
   "metadata": {},
   "outputs": [
    {
     "name": "stdout",
     "output_type": "stream",
     "text": [
      "-Insert Import: mcfeeley1996a\n",
      "-Insert Citation: plösch2011a -> mcfeeley1996a\n"
     ]
    }
   ],
   "source": [
    "# Temp\n",
    "insert('''\n",
    "DB(Citation(\n",
    "    plösch2011a, mcfeeley1996a, ref=\"\",\n",
    "    contexts=[\n",
    "\n",
    "    ],\n",
    "))\n",
    "\n",
    "''', citations='plösch2011a');"
   ]
  },
  {
   "cell_type": "code",
   "execution_count": null,
   "metadata": {
    "collapsed": true
   },
   "outputs": [],
   "source": []
  }
 ],
 "metadata": {
  "kernelspec": {
   "display_name": "Python 3",
   "language": "python",
   "name": "python3"
  },
  "language_info": {
   "codemirror_mode": {
    "name": "ipython",
    "version": 3
   },
   "file_extension": ".py",
   "mimetype": "text/x-python",
   "name": "python",
   "nbconvert_exporter": "python",
   "pygments_lexer": "ipython3",
   "version": "3.6.0"
  },
  "toc": {
   "nav_menu": {
    "height": "12px",
    "width": "252px"
   },
   "number_sections": true,
   "sideBar": true,
   "skip_h1_title": false,
   "toc_cell": false,
   "toc_position": {},
   "toc_section_display": "block",
   "toc_window_display": false
  }
 },
 "nbformat": 4,
 "nbformat_minor": 2
}
