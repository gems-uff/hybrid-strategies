{
 "cells": [
  {
   "cell_type": "code",
   "execution_count": 1,
   "metadata": {
    "collapsed": true
   },
   "outputs": [],
   "source": [
    "import database\n",
    "from snowballing.operations import load_work, reload, work_by_varname\n",
    "from snowballing.snowballing import Converter\n",
    "from snowballing.dbmanager import insert, set_attribute"
   ]
  },
  {
   "cell_type": "code",
   "execution_count": 2,
   "metadata": {
    "scrolled": false
   },
   "outputs": [
    {
     "data": {
      "application/vnd.jupyter.widget-view+json": {
       "model_id": "ad3e9d0f594746ceb2e2cdb9b8eb1e94",
       "version_major": 2,
       "version_minor": 0
      },
      "text/html": [
       "<p>Failed to display Jupyter Widget of type <code>VBox</code>.</p>\n",
       "<p>\n",
       "  If you're reading this message in Jupyter Notebook or JupyterLab, it may mean\n",
       "  that the widgets JavaScript is still loading. If this message persists, it\n",
       "  likely means that the widgets JavaScript library is either not installed or\n",
       "  not enabled. See the <a href=\"https://ipywidgets.readthedocs.io/en/stable/user_install.html\">Jupyter\n",
       "  Widgets Documentation</a> for setup instructions.\n",
       "</p>\n",
       "<p>\n",
       "  If you're reading this message in another notebook frontend (for example, a static\n",
       "  rendering on GitHub or <a href=\"https://nbviewer.jupyter.org/\">NBViewer</a>),\n",
       "  it may mean that your frontend doesn't currently support widgets.\n",
       "</p>\n"
      ],
      "text/plain": [
       "VBox(children=(HBox(children=(Dropdown(index=1, options={'BibTeX': 'bibtex', 'Text': 'text', '[N] author name place other year': 'citation', 'Quoted': 'quoted'}, value='text'), Button(description='Set article_list variable', disabled=True, style=ButtonStyle()), Label(value=''))), HBox(children=(Textarea(value='', layout=Layout(height='500px', width='50%')), Textarea(value='', layout=Layout(height='500px', width='50%'))))))"
      ]
     },
     "metadata": {},
     "output_type": "display_data"
    }
   ],
   "source": [
    "Converter().browser()"
   ]
  },
  {
   "cell_type": "code",
   "execution_count": 3,
   "metadata": {},
   "outputs": [
    {
     "data": {
      "text/plain": [
       "14"
      ]
     },
     "execution_count": 3,
     "metadata": {},
     "output_type": "execute_result"
    }
   ],
   "source": [
    "len(article_list)"
   ]
  },
  {
   "cell_type": "code",
   "execution_count": null,
   "metadata": {
    "collapsed": true
   },
   "outputs": [],
   "source": [
    "#from database.work.y2015 import li2015a"
   ]
  },
  {
   "cell_type": "code",
   "execution_count": null,
   "metadata": {
    "collapsed": true
   },
   "outputs": [],
   "source": [
    "#int(getattr(li2015a, 'scopus', 0))"
   ]
  },
  {
   "cell_type": "code",
   "execution_count": null,
   "metadata": {},
   "outputs": [],
   "source": [
    "#print(article_list)"
   ]
  },
  {
   "cell_type": "code",
   "execution_count": null,
   "metadata": {
    "collapsed": true
   },
   "outputs": [],
   "source": []
  },
  {
   "cell_type": "code",
   "execution_count": 4,
   "metadata": {},
   "outputs": [
    {
     "data": {
      "application/vnd.jupyter.widget-view+json": {
       "model_id": "b9f698a1f208453d89e12d0bf9ae859e",
       "version_major": 2,
       "version_minor": 0
      },
      "text/html": [
       "<p>Failed to display Jupyter Widget of type <code>VBox</code>.</p>\n",
       "<p>\n",
       "  If you're reading this message in Jupyter Notebook or JupyterLab, it may mean\n",
       "  that the widgets JavaScript is still loading. If this message persists, it\n",
       "  likely means that the widgets JavaScript library is either not installed or\n",
       "  not enabled. See the <a href=\"https://ipywidgets.readthedocs.io/en/stable/user_install.html\">Jupyter\n",
       "  Widgets Documentation</a> for setup instructions.\n",
       "</p>\n",
       "<p>\n",
       "  If you're reading this message in another notebook frontend (for example, a static\n",
       "  rendering on GitHub or <a href=\"https://nbviewer.jupyter.org/\">NBViewer</a>),\n",
       "  it may mean that your frontend doesn't currently support widgets.\n",
       "</p>\n"
      ],
      "text/plain": [
       "VBox(children=(HBox(children=(Button(description='Previous Article', disabled=True, icon='caret-left', style=ButtonStyle()), Button(description='Reload Article', icon='refresh', style=ButtonStyle()), Button(description='Next Article', icon='caret-right', style=ButtonStyle()))), HBox(children=(Button(description='Unrelated: Scripts', style=ButtonStyle()), Button(description='Unrelated: Provenance', style=ButtonStyle()), Button(description='Both', style=ButtonStyle()), Button(description='Ok', style=ButtonStyle()))), HBox(children=(Dropdown(description='Type', index=5, options=('Work', 'WorkSnowball', 'WorkForward', 'WorkBackward', 'WorkOk', 'WorkUnrelated', 'WorkNoFile', 'WorkLang', 'Site', 'Email'), value='WorkUnrelated'), ToggleButton(value=False, description='File'))), HBox(children=(Text(value='', description='Due'), Text(value='', description='Place'))), HBox(children=(Text(value='', description='Year'), Text(value='', description='Prefix Var'))), HBox(children=(Text(value='', description='PDFPage'), Text(value='', description='Related'))), HBox(children=(Text(value='', description='Display'), Text(value='', description='Summary'))), HBox(children=(Text(value='', description='Star'), Text(value='', description='Link'))), HBox(children=(Button(description='Reload Article', icon='refresh', style=ButtonStyle()), IntSlider(value=0, max=13), Label(value='1/14'))), Output()))"
      ]
     },
     "metadata": {},
     "output_type": "display_data"
    },
    {
     "data": {
      "application/javascript": [
       "$('span:contains(\"# Temp\")').closest('.cell').remove();"
      ],
      "text/plain": [
       "<IPython.core.display.Javascript object>"
      ]
     },
     "metadata": {},
     "output_type": "display_data"
    },
    {
     "data": {
      "application/javascript": [
       "\n",
       "        $('span:contains(\"# Temp\")').closest('.cell').remove();\n",
       "        var code = IPython.notebook.insert_cell_below('code');\n",
       "        code.set_text(atob(\"IyBUZW1wCmluc2VydCgnJycKc2FsbzIwMDVhID0gREIoV29ya1VucmVsYXRlZCgKICAgIDIwMDUsICJJbXByb3ZpbmcgU29mdHdhcmUgRGV2ZWxvcG1lbnQgUHJhY3RpY2VzIGluIGFuIEFnaWxlIEZhc2hpb24iLAogICAgZGlzcGxheT0ic2FsbyIsCiAgICBhdXRob3JzPSJTYWxvLCBPLiIsCiAgICBwbGFjZT1GQUtFLAogICAgcHA9IjgiLAogICAgZW50cnl0eXBlPSJhcnRpY2xlIiwKICAgIHZvbHVtZT0iMiIsCiAgICBub3RlPSJjaXRlZCBCeSA2IiwKICAgIElEPSJTYWxvMjAwNTgiLAogICAgcGxhY2V4PSJBZ2lsZSBOZXdzbGV0dGVyIiwKKSkKCkRCKENpdGF0aW9uKAogICAgbWFydGluczIwMDhhLCBzYWxvMjAwNWEsIHJlZj0iIiwKICAgIGNvbnRleHRzPVsKCiAgICBdLAopKQoKJycnLCBjaXRhdGlvbnM9J21hcnRpbnMyMDA4YScpOw==\"));\n",
       "    "
      ],
      "text/plain": [
       "<IPython.core.display.Javascript object>"
      ]
     },
     "metadata": {},
     "output_type": "display_data"
    },
    {
     "data": {
      "application/javascript": [
       "$('span:contains(\"# Temp\")').closest('.cell').remove();"
      ],
      "text/plain": [
       "<IPython.core.display.Javascript object>"
      ]
     },
     "metadata": {},
     "output_type": "display_data"
    },
    {
     "data": {
      "application/javascript": [
       "\n",
       "        $('span:contains(\"# Temp\")').closest('.cell').remove();\n",
       "        var code = IPython.notebook.insert_cell_below('code');\n",
       "        code.set_text(atob(\"IyBUZW1wCmluc2VydCgnJycKc2FsbzIwMDVhID0gREIoV29ya1VucmVsYXRlZCgKICAgIDIwMDUsICJJbXByb3ZpbmcgU29mdHdhcmUgRGV2ZWxvcG1lbnQgUHJhY3RpY2VzIGluIGFuIEFnaWxlIEZhc2hpb24iLAogICAgZGlzcGxheT0ic2FsbyIsCiAgICBhdXRob3JzPSJTYWxvLCBPLiIsCiAgICBwbGFjZT1GQUtFLAogICAgcHA9IjgiLAogICAgZW50cnl0eXBlPSJhcnRpY2xlIiwKICAgIHZvbHVtZT0iMiIsCiAgICBub3RlPSJjaXRlZCBCeSA2IiwKICAgIElEPSJTYWxvMjAwNTgiLAogICAgcGxhY2V4PSJBZ2lsZSBOZXdzbGV0dGVyIiwKKSkKCkRCKENpdGF0aW9uKAogICAgbWFydGluczIwMDhhLCBzYWxvMjAwNWEsIHJlZj0iIiwKICAgIGNvbnRleHRzPVsKCiAgICBdLAopKQoKJycnLCBjaXRhdGlvbnM9J21hcnRpbnMyMDA4YScpOw==\"));\n",
       "    "
      ],
      "text/plain": [
       "<IPython.core.display.Javascript object>"
      ]
     },
     "metadata": {},
     "output_type": "display_data"
    },
    {
     "data": {
      "application/javascript": [
       "$('span:contains(\"# Temp\")').closest('.cell').remove();"
      ],
      "text/plain": [
       "<IPython.core.display.Javascript object>"
      ]
     },
     "metadata": {},
     "output_type": "display_data"
    },
    {
     "data": {
      "application/javascript": [
       "\n",
       "        $('span:contains(\"# Temp\")').closest('.cell').remove();\n",
       "        var code = IPython.notebook.insert_cell_below('code');\n",
       "        code.set_text(atob(\"IyBUZW1wCmluc2VydCgnJycKa3Jhc25lcjE5OTdhID0gREIoV29ya1VucmVsYXRlZCgKICAgIDE5OTcsICJBY2N1bXVsYXRpbmcgdGhlIGJvZHkgb2YgZXZpZGVuY2UgZm9yIHRoZSBwYXlvZmYgb2Ygc29mdHdhcmUgcHJvY2VzcyBpbXByb3ZlbWVudC0xOTk3IiwKICAgIGRpc3BsYXk9ImtyYXNuZXIiLAogICAgYXV0aG9ycz0iS3Jhc25lciwgSC4iLAogICAgcGxhY2U9RkFLRSwKICAgIGVudHJ5dHlwZT0iYXJ0aWNsZSIsCiAgICBub3RlPSJjaXRlZCBCeSAyIiwKICAgIElEPSJLcmFzbmVyMTk5NyIsCiAgICBwbGFjZXg9IktyYXNuZXIgQ29uc3VsdGluZyIsCikpCgpEQihDaXRhdGlvbigKICAgIG1hcnRpbnMyMDA4YSwga3Jhc25lcjE5OTdhLCByZWY9IiIsCiAgICBjb250ZXh0cz1bCgogICAgXSwKKSkKCicnJywgY2l0YXRpb25zPSdtYXJ0aW5zMjAwOGEnKTs=\"));\n",
       "    "
      ],
      "text/plain": [
       "<IPython.core.display.Javascript object>"
      ]
     },
     "metadata": {},
     "output_type": "display_data"
    },
    {
     "data": {
      "application/javascript": [
       "$('span:contains(\"# Temp\")').closest('.cell').remove();"
      ],
      "text/plain": [
       "<IPython.core.display.Javascript object>"
      ]
     },
     "metadata": {},
     "output_type": "display_data"
    },
    {
     "data": {
      "application/javascript": [
       "\n",
       "        $('span:contains(\"# Temp\")').closest('.cell').remove();\n",
       "        var code = IPython.notebook.insert_cell_below('code');\n",
       "        code.set_text(atob(\"IyBUZW1wCmluc2VydCgnJycKa3Jhc25lcjE5OTdhID0gREIoV29ya1VucmVsYXRlZCgKICAgIDE5OTcsICJBY2N1bXVsYXRpbmcgdGhlIGJvZHkgb2YgZXZpZGVuY2UgZm9yIHRoZSBwYXlvZmYgb2Ygc29mdHdhcmUgcHJvY2VzcyBpbXByb3ZlbWVudC0xOTk3IiwKICAgIGRpc3BsYXk9ImtyYXNuZXIiLAogICAgYXV0aG9ycz0iS3Jhc25lciwgSC4iLAogICAgcGxhY2U9RkFLRSwKICAgIGVudHJ5dHlwZT0iYXJ0aWNsZSIsCiAgICBub3RlPSJjaXRlZCBCeSAyIiwKICAgIElEPSJLcmFzbmVyMTk5NyIsCiAgICBwbGFjZXg9IktyYXNuZXIgQ29uc3VsdGluZyIsCikpCgpEQihDaXRhdGlvbigKICAgIG1hcnRpbnMyMDA4YSwga3Jhc25lcjE5OTdhLCByZWY9IiIsCiAgICBjb250ZXh0cz1bCgogICAgXSwKKSkKCicnJywgY2l0YXRpb25zPSdtYXJ0aW5zMjAwOGEnKTs=\"));\n",
       "    "
      ],
      "text/plain": [
       "<IPython.core.display.Javascript object>"
      ]
     },
     "metadata": {},
     "output_type": "display_data"
    },
    {
     "data": {
      "application/javascript": [
       "$('span:contains(\"# Temp\")').closest('.cell').remove();"
      ],
      "text/plain": [
       "<IPython.core.display.Javascript object>"
      ]
     },
     "metadata": {},
     "output_type": "display_data"
    },
    {
     "data": {
      "application/javascript": [
       "\n",
       "        $('span:contains(\"# Temp\")').closest('.cell').remove();\n",
       "        var code = IPython.notebook.insert_cell_below('code');\n",
       "        code.set_text(atob(\"IyBUZW1wCmluc2VydCgnJycKREIoQ2l0YXRpb24oCiAgICBtYXJ0aW5zMjAwOGEsIHBhdWxrMTk5M2EsIHJlZj0iIiwKICAgIGNvbnRleHRzPVsKCiAgICBdLAopKQoKJycnLCBjaXRhdGlvbnM9J21hcnRpbnMyMDA4YScpOwpzZXRfYXR0cmlidXRlKCdwYXVsazE5OTNhJywgJ25vdGUnLCAnY2l0ZWQgQnkgMScpOwpzZXRfYXR0cmlidXRlKCdwYXVsazE5OTNhJywgJ3BsYWNleCcsICdDYXJuZWdpZSBNZWxsb24gVW5pdmVyc2l0eScpOw==\"));\n",
       "    "
      ],
      "text/plain": [
       "<IPython.core.display.Javascript object>"
      ]
     },
     "metadata": {},
     "output_type": "display_data"
    },
    {
     "data": {
      "application/javascript": [
       "$('span:contains(\"# Temp\")').closest('.cell').remove();"
      ],
      "text/plain": [
       "<IPython.core.display.Javascript object>"
      ]
     },
     "metadata": {},
     "output_type": "display_data"
    },
    {
     "data": {
      "application/javascript": [
       "\n",
       "        $('span:contains(\"# Temp\")').closest('.cell').remove();\n",
       "        var code = IPython.notebook.insert_cell_below('code');\n",
       "        code.set_text(atob(\"IyBUZW1wCmluc2VydCgnJycKREIoQ2l0YXRpb24oCiAgICBtYXJ0aW5zMjAwOGEsIHBhdWxrMTk5M2EsIHJlZj0iIiwKICAgIGNvbnRleHRzPVsKCiAgICBdLAopKQoKJycnLCBjaXRhdGlvbnM9J21hcnRpbnMyMDA4YScpOwpzZXRfYXR0cmlidXRlKCdwYXVsazE5OTNhJywgJ25vdGUnLCAnY2l0ZWQgQnkgMScpOwpzZXRfYXR0cmlidXRlKCdwYXVsazE5OTNhJywgJ3BsYWNleCcsICdDYXJuZWdpZSBNZWxsb24gVW5pdmVyc2l0eScpOw==\"));\n",
       "    "
      ],
      "text/plain": [
       "<IPython.core.display.Javascript object>"
      ]
     },
     "metadata": {},
     "output_type": "display_data"
    },
    {
     "data": {
      "application/javascript": [
       "$('span:contains(\"# Temp\")').closest('.cell').remove();"
      ],
      "text/plain": [
       "<IPython.core.display.Javascript object>"
      ]
     },
     "metadata": {},
     "output_type": "display_data"
    },
    {
     "data": {
      "application/javascript": [
       "\n",
       "        $('span:contains(\"# Temp\")').closest('.cell').remove();\n",
       "        var code = IPython.notebook.insert_cell_below('code');\n",
       "        code.set_text(atob(\"IyBUZW1wCmluc2VydCgnJycKY21tMjAwMmEgPSBEQihXb3JrVW5yZWxhdGVkKAogICAgMjAwMiwgIkNhcGFiaWxpdHkgTWF0dXJpdHkgTW9kZWwgSW50ZWdyYXRpb24gKENNTUkpLCBWZXJzaW9uIDEuMiIsCiAgICBkaXNwbGF5PSJjbW0iLAogICAgYXV0aG9ycz0iY21tIiwKICAgIHBsYWNlPUZBS0UsCiAgICBlbnRyeXR5cGU9ImFydGljbGUiLAogICAgbm90ZT0iY2l0ZWQgQnkgMSIsCiAgICBJRD0iY21tMjAwMiIsCiAgICBwbGFjZXg9IkNhcm5lZ2llIE1lbGxvbiBVbml2ZXJzaXR5IiwKKSkKCkRCKENpdGF0aW9uKAogICAgbWFydGluczIwMDhhLCBjbW0yMDAyYSwgcmVmPSIiLAogICAgY29udGV4dHM9WwoKICAgIF0sCikpCgonJycsIGNpdGF0aW9ucz0nbWFydGluczIwMDhhJyk7\"));\n",
       "    "
      ],
      "text/plain": [
       "<IPython.core.display.Javascript object>"
      ]
     },
     "metadata": {},
     "output_type": "display_data"
    },
    {
     "data": {
      "application/javascript": [
       "$('span:contains(\"# Temp\")').closest('.cell').remove();"
      ],
      "text/plain": [
       "<IPython.core.display.Javascript object>"
      ]
     },
     "metadata": {},
     "output_type": "display_data"
    },
    {
     "data": {
      "application/javascript": [
       "\n",
       "        $('span:contains(\"# Temp\")').closest('.cell').remove();\n",
       "        var code = IPython.notebook.insert_cell_below('code');\n",
       "        code.set_text(atob(\"IyBUZW1wCmluc2VydCgnJycKY21tMjAwMmEgPSBEQihXb3JrVW5yZWxhdGVkKAogICAgMjAwMiwgIkNhcGFiaWxpdHkgTWF0dXJpdHkgTW9kZWwgSW50ZWdyYXRpb24gKENNTUkpLCBWZXJzaW9uIDEuMiIsCiAgICBkaXNwbGF5PSJjbW0iLAogICAgYXV0aG9ycz0iY21tIiwKICAgIHBsYWNlPUZBS0UsCiAgICBlbnRyeXR5cGU9ImFydGljbGUiLAogICAgbm90ZT0iY2l0ZWQgQnkgMSIsCiAgICBJRD0iY21tMjAwMiIsCiAgICBwbGFjZXg9IkNhcm5lZ2llIE1lbGxvbiBVbml2ZXJzaXR5IiwKKSkKCkRCKENpdGF0aW9uKAogICAgbWFydGluczIwMDhhLCBjbW0yMDAyYSwgcmVmPSIiLAogICAgY29udGV4dHM9WwoKICAgIF0sCikpCgonJycsIGNpdGF0aW9ucz0nbWFydGluczIwMDhhJyk7\"));\n",
       "    "
      ],
      "text/plain": [
       "<IPython.core.display.Javascript object>"
      ]
     },
     "metadata": {},
     "output_type": "display_data"
    },
    {
     "data": {
      "application/javascript": [
       "$('span:contains(\"# Temp\")').closest('.cell').remove();"
      ],
      "text/plain": [
       "<IPython.core.display.Javascript object>"
      ]
     },
     "metadata": {},
     "output_type": "display_data"
    },
    {
     "data": {
      "application/javascript": [
       "\n",
       "        $('span:contains(\"# Temp\")').closest('.cell').remove();\n",
       "        var code = IPython.notebook.insert_cell_below('code');\n",
       "        code.set_text(atob(\"IyBUZW1wCmluc2VydCgnJycKaXNvaWVjMTk5OGEgPSBEQihXb3JrVW5yZWxhdGVkKAogICAgMTk5OCwgIkluZm9ybWF0aW9uIHRlY2hub2xvZ3kgLSBTb2Z0d2FyZSBwcm9jZXNzIGFzc2Vzc21lbnQtIFBhcnQyOiBBIHJlZmVyZW5jZSBtb2RlbCBmb3IgcHJvY2Vzc2VzIGFuZCBwcm9jZXNzIGNhcGFiaWxpdHkiLAogICAgZGlzcGxheT0iaXNvaWVjIiwKICAgIGF1dGhvcnM9Imlzb2llYyIsCiAgICBwbGFjZT1GQUtFLAogICAgZW50cnl0eXBlPSJhcnRpY2xlIiwKICAgIG5vdGU9ImNpdGVkIEJ5IDI1IiwKICAgIElEPSJpc29pZWMxOTk4IiwKICAgIHBsYWNleD0iSVNPL0lFQyBUUiAxNTUwNC0yIiwKKSkKCkRCKENpdGF0aW9uKAogICAgbWFydGluczIwMDhhLCBpc29pZWMxOTk4YSwgcmVmPSIiLAogICAgY29udGV4dHM9WwoKICAgIF0sCikpCgonJycsIGNpdGF0aW9ucz0nbWFydGluczIwMDhhJyk7\"));\n",
       "    "
      ],
      "text/plain": [
       "<IPython.core.display.Javascript object>"
      ]
     },
     "metadata": {},
     "output_type": "display_data"
    },
    {
     "data": {
      "application/javascript": [
       "$('span:contains(\"# Temp\")').closest('.cell').remove();"
      ],
      "text/plain": [
       "<IPython.core.display.Javascript object>"
      ]
     },
     "metadata": {},
     "output_type": "display_data"
    },
    {
     "data": {
      "application/javascript": [
       "\n",
       "        $('span:contains(\"# Temp\")').closest('.cell').remove();\n",
       "        var code = IPython.notebook.insert_cell_below('code');\n",
       "        code.set_text(atob(\"IyBUZW1wCmluc2VydCgnJycKaXNvaWVjMTk5OGEgPSBEQihXb3JrVW5yZWxhdGVkKAogICAgMTk5OCwgIkluZm9ybWF0aW9uIHRlY2hub2xvZ3kgLSBTb2Z0d2FyZSBwcm9jZXNzIGFzc2Vzc21lbnQtIFBhcnQyOiBBIHJlZmVyZW5jZSBtb2RlbCBmb3IgcHJvY2Vzc2VzIGFuZCBwcm9jZXNzIGNhcGFiaWxpdHkiLAogICAgZGlzcGxheT0iaXNvaWVjIiwKICAgIGF1dGhvcnM9Imlzb2llYyIsCiAgICBwbGFjZT1GQUtFLAogICAgZW50cnl0eXBlPSJhcnRpY2xlIiwKICAgIG5vdGU9ImNpdGVkIEJ5IDI1IiwKICAgIElEPSJpc29pZWMxOTk4IiwKICAgIHBsYWNleD0iSVNPL0lFQyBUUiAxNTUwNC0yIiwKKSkKCkRCKENpdGF0aW9uKAogICAgbWFydGluczIwMDhhLCBpc29pZWMxOTk4YSwgcmVmPSIiLAogICAgY29udGV4dHM9WwoKICAgIF0sCikpCgonJycsIGNpdGF0aW9ucz0nbWFydGluczIwMDhhJyk7\"));\n",
       "    "
      ],
      "text/plain": [
       "<IPython.core.display.Javascript object>"
      ]
     },
     "metadata": {},
     "output_type": "display_data"
    }
   ],
   "source": [
    "import importlib\n",
    "import custom_snowballing\n",
    "importlib.reload(custom_snowballing)\n",
    "from custom_snowballing import UnrelatedBackward\n",
    "UnrelatedBackward(\"martins2008a\", articles=article_list)"
   ]
  },
  {
   "cell_type": "code",
   "execution_count": 9,
   "metadata": {},
   "outputs": [
    {
     "name": "stdout",
     "output_type": "stream",
     "text": [
      "-Insert: isoiec1998a\n",
      "-Insert Import: isoiec1998a\n",
      "-Insert Citation: martins2008a -> isoiec1998a\n"
     ]
    }
   ],
   "source": [
    "# Temp\n",
    "insert('''\n",
    "isoiec1998a = DB(WorkUnrelated(\n",
    "    1998, \"Information technology - Software process assessment- Part2: A reference model for processes and process capability\",\n",
    "    display=\"isoiec\",\n",
    "    authors=\"isoiec\",\n",
    "    place=FAKE,\n",
    "    entrytype=\"article\",\n",
    "    note=\"cited By 25\",\n",
    "    ID=\"isoiec1998\",\n",
    "    placex=\"ISO/IEC TR 15504-2\",\n",
    "))\n",
    "\n",
    "DB(Citation(\n",
    "    martins2008a, isoiec1998a, ref=\"\",\n",
    "    contexts=[\n",
    "\n",
    "    ],\n",
    "))\n",
    "\n",
    "''', citations='martins2008a');"
   ]
  },
  {
   "cell_type": "code",
   "execution_count": null,
   "metadata": {
    "collapsed": true
   },
   "outputs": [],
   "source": []
  }
 ],
 "metadata": {
  "kernelspec": {
   "display_name": "Python 3",
   "language": "python",
   "name": "python3"
  },
  "language_info": {
   "codemirror_mode": {
    "name": "ipython",
    "version": 3
   },
   "file_extension": ".py",
   "mimetype": "text/x-python",
   "name": "python",
   "nbconvert_exporter": "python",
   "pygments_lexer": "ipython3",
   "version": "3.6.0"
  },
  "toc": {
   "nav_menu": {
    "height": "12px",
    "width": "252px"
   },
   "number_sections": true,
   "sideBar": true,
   "skip_h1_title": false,
   "toc_cell": false,
   "toc_position": {},
   "toc_section_display": "block",
   "toc_window_display": false
  }
 },
 "nbformat": 4,
 "nbformat_minor": 2
}
