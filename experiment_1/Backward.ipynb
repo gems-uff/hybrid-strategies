{
 "cells": [
  {
   "cell_type": "code",
   "execution_count": 1,
   "metadata": {
    "collapsed": true
   },
   "outputs": [],
   "source": [
    "import database\n",
    "from snowballing.operations import load_work, reload, work_by_varname\n",
    "from snowballing.snowballing import Converter\n",
    "from snowballing.dbmanager import insert, set_attribute"
   ]
  },
  {
   "cell_type": "code",
   "execution_count": 10,
   "metadata": {
    "scrolled": false
   },
   "outputs": [
    {
     "data": {
      "application/vnd.jupyter.widget-view+json": {
       "model_id": "100a19d7586b4415a89fca352c9ffaef",
       "version_major": 2,
       "version_minor": 0
      },
      "text/html": [
       "<p>Failed to display Jupyter Widget of type <code>VBox</code>.</p>\n",
       "<p>\n",
       "  If you're reading this message in Jupyter Notebook or JupyterLab, it may mean\n",
       "  that the widgets JavaScript is still loading. If this message persists, it\n",
       "  likely means that the widgets JavaScript library is either not installed or\n",
       "  not enabled. See the <a href=\"https://ipywidgets.readthedocs.io/en/stable/user_install.html\">Jupyter\n",
       "  Widgets Documentation</a> for setup instructions.\n",
       "</p>\n",
       "<p>\n",
       "  If you're reading this message in another notebook frontend (for example, a static\n",
       "  rendering on GitHub or <a href=\"https://nbviewer.jupyter.org/\">NBViewer</a>),\n",
       "  it may mean that your frontend doesn't currently support widgets.\n",
       "</p>\n"
      ],
      "text/plain": [
       "VBox(children=(HBox(children=(Dropdown(index=1, options={'BibTeX': 'bibtex', 'Text': 'text', '[N] author name place other year': 'citation', 'Quoted': 'quoted'}, value='text'), Button(description='Set article_list variable', disabled=True, style=ButtonStyle()), Label(value=''))), HBox(children=(Textarea(value='', layout=Layout(height='500px', width='50%')), Textarea(value='', layout=Layout(height='500px', width='50%'))))))"
      ]
     },
     "metadata": {},
     "output_type": "display_data"
    }
   ],
   "source": [
    "Converter().browser()"
   ]
  },
  {
   "cell_type": "code",
   "execution_count": 11,
   "metadata": {},
   "outputs": [
    {
     "data": {
      "text/plain": [
       "7"
      ]
     },
     "execution_count": 11,
     "metadata": {},
     "output_type": "execute_result"
    }
   ],
   "source": [
    "len(article_list)"
   ]
  },
  {
   "cell_type": "code",
   "execution_count": 4,
   "metadata": {
    "collapsed": true
   },
   "outputs": [],
   "source": [
    "#from database.work.y2015 import li2015a"
   ]
  },
  {
   "cell_type": "code",
   "execution_count": 5,
   "metadata": {
    "collapsed": true
   },
   "outputs": [],
   "source": [
    "#int(getattr(li2015a, 'scopus', 0))"
   ]
  },
  {
   "cell_type": "code",
   "execution_count": 6,
   "metadata": {},
   "outputs": [],
   "source": [
    "#print(article_list)"
   ]
  },
  {
   "cell_type": "code",
   "execution_count": null,
   "metadata": {
    "collapsed": true
   },
   "outputs": [],
   "source": []
  },
  {
   "cell_type": "code",
   "execution_count": 12,
   "metadata": {},
   "outputs": [
    {
     "data": {
      "application/vnd.jupyter.widget-view+json": {
       "model_id": "3c558925dfcd4b1c982b193b01b29872",
       "version_major": 2,
       "version_minor": 0
      },
      "text/html": [
       "<p>Failed to display Jupyter Widget of type <code>VBox</code>.</p>\n",
       "<p>\n",
       "  If you're reading this message in Jupyter Notebook or JupyterLab, it may mean\n",
       "  that the widgets JavaScript is still loading. If this message persists, it\n",
       "  likely means that the widgets JavaScript library is either not installed or\n",
       "  not enabled. See the <a href=\"https://ipywidgets.readthedocs.io/en/stable/user_install.html\">Jupyter\n",
       "  Widgets Documentation</a> for setup instructions.\n",
       "</p>\n",
       "<p>\n",
       "  If you're reading this message in another notebook frontend (for example, a static\n",
       "  rendering on GitHub or <a href=\"https://nbviewer.jupyter.org/\">NBViewer</a>),\n",
       "  it may mean that your frontend doesn't currently support widgets.\n",
       "</p>\n"
      ],
      "text/plain": [
       "VBox(children=(HBox(children=(Button(description='Previous Article', disabled=True, icon='caret-left', style=ButtonStyle()), Button(description='Reload Article', icon='refresh', style=ButtonStyle()), Button(description='Next Article', icon='caret-right', style=ButtonStyle()))), HBox(children=(Button(description='Unrelated: Scripts', style=ButtonStyle()), Button(description='Unrelated: Provenance', style=ButtonStyle()), Button(description='Both', style=ButtonStyle()), Button(description='Ok', style=ButtonStyle()))), HBox(children=(Dropdown(description='Type', index=5, options=('Work', 'WorkSnowball', 'WorkForward', 'WorkBackward', 'WorkOk', 'WorkUnrelated', 'WorkNoFile', 'WorkLang', 'Site', 'Email'), value='WorkUnrelated'), ToggleButton(value=False, description='File'))), HBox(children=(Text(value='', description='Due'), Text(value='', description='Place'))), HBox(children=(Text(value='', description='Year'), Text(value='', description='Prefix Var'))), HBox(children=(Text(value='', description='PDFPage'), Text(value='', description='Related'))), HBox(children=(Text(value='', description='Display'), Text(value='', description='Summary'))), HBox(children=(Text(value='', description='Star'), Text(value='', description='Link'))), HBox(children=(Button(description='Reload Article', icon='refresh', style=ButtonStyle()), IntSlider(value=0, max=6), Label(value='1/7'))), Output()))"
      ]
     },
     "metadata": {},
     "output_type": "display_data"
    },
    {
     "data": {
      "application/javascript": [
       "$('span:contains(\"# Temp\")').closest('.cell').remove();"
      ],
      "text/plain": [
       "<IPython.core.display.Javascript object>"
      ]
     },
     "metadata": {},
     "output_type": "display_data"
    },
    {
     "data": {
      "application/javascript": [
       "\n",
       "        $('span:contains(\"# Temp\")').closest('.cell').remove();\n",
       "        var code = IPython.notebook.insert_cell_below('code');\n",
       "        code.set_text(atob(\"IyBUZW1wCmluc2VydCgnJycKa2F0aHVyaWEyMDA3YSA9IERCKFdvcmtVbnJlbGF0ZWQoCiAgICAyMDA3LCAiT3JnYW5pemF0aW9uYWwgYWxpZ25tZW50IGFuZCBwZXJmb3JtYW5jZTogUGFzdCwgcHJlc2VudCBhbmQgZnV0dXJlIiwKICAgIGRpc3BsYXk9ImthdGh1cmlhIiwKICAgIGF1dGhvcnM9IkthdGh1cmlhLCBSLiBhbmQgSm9zaGksIE0uUC4gYW5kIFBvcnRoLCBTLkouIiwKICAgIHBsYWNlPUZBS0UsCiAgICBwcD0iNTAzLTUxNyIsCiAgICBlbnRyeXR5cGU9ImFydGljbGUiLAogICAgdm9sdW1lPSI0NSIsCiAgICBudW1iZXI9IjMiLAogICAgZG9pPSIxMC4xMTA4LzAwMjUxNzQwNzEwNzQ1MTA2IiwKICAgIG5vdGU9ImNpdGVkIEJ5IDU1IiwKICAgIElEPSJLYXRodXJpYTIwMDc1MDMiLAogICAgcGxhY2V4PSJNYW5hZ2VtZW50IERlY2lzaW9uIiwKKSkKCkRCKENpdGF0aW9uKAogICAga2FuZWtvMjAxMWEsIGthdGh1cmlhMjAwN2EsIHJlZj0iIiwKICAgIGNvbnRleHRzPVsKCiAgICBdLAopKQoKJycnLCBjaXRhdGlvbnM9J2thbmVrbzIwMTFhJyk7\"));\n",
       "    "
      ],
      "text/plain": [
       "<IPython.core.display.Javascript object>"
      ]
     },
     "metadata": {},
     "output_type": "display_data"
    },
    {
     "data": {
      "application/javascript": [
       "$('span:contains(\"# Temp\")').closest('.cell').remove();"
      ],
      "text/plain": [
       "<IPython.core.display.Javascript object>"
      ]
     },
     "metadata": {},
     "output_type": "display_data"
    },
    {
     "data": {
      "application/javascript": [
       "\n",
       "        $('span:contains(\"# Temp\")').closest('.cell').remove();\n",
       "        var code = IPython.notebook.insert_cell_below('code');\n",
       "        code.set_text(atob(\"IyBUZW1wCmluc2VydCgnJycKYmFzaWxpMjAwN2IgPSBEQihXb3JrVW5yZWxhdGVkKAogICAgMjAwNywgIkdRTStTdHJhdGVnaWVzIC0gQWxpZ25pbmcgYnVzaW5lc3Mgc3RyYXRlZ2llcyB3aXRoIHNvZnR3YXJlIG1lYXN1cmVtZW50IiwKICAgIGRpc3BsYXk9ImJhc2lsaSBiIiwKICAgIGF1dGhvcnM9IkJhc2lsaSwgVi4gYW5kIEhlaWRyaWNoLCBKLiBhbmQgTGluZHZhbGwsIE0uIGFuZCBN/G5jaCwgSi4gYW5kIFJlZ2FyZGllLCBNLiBhbmQgVHJlbmRvd2ljeiwgQS4iLAogICAgcGxhY2U9RVNFTSwKICAgIHBwPSI0ODgtNDkwIiwKICAgIGVudHJ5dHlwZT0iY29uZmVyZW5jZSIsCiAgICBkb2k9IjEwLjExMDkvRVNFTS4yMDA3LjU2IiwKICAgIGFydF9udW1iZXI9IjQzNDM3ODgiLAogICAgbm90ZT0iY2l0ZWQgQnkgMzEiLAogICAgSUQ9IkJhc2lsaTIwMDc0ODgiLAogICAgcGxhY2V4PSJQcm9jZWVkaW5ncyAtIDFzdCBJbnRlcm5hdGlvbmFsIFN5bXBvc2l1bSBvbiBFbXBpcmljYWwgU29mdHdhcmUgRW5naW5lZXJpbmcgYW5kIE1lYXN1cmVtZW50LCBFU0VNIDIwMDciLAopKQoKREIoQ2l0YXRpb24oCiAgICBrYW5la28yMDExYSwgYmFzaWxpMjAwN2IsIHJlZj0iIiwKICAgIGNvbnRleHRzPVsKCiAgICBdLAopKQoKJycnLCBjaXRhdGlvbnM9J2thbmVrbzIwMTFhJyk7\"));\n",
       "    "
      ],
      "text/plain": [
       "<IPython.core.display.Javascript object>"
      ]
     },
     "metadata": {},
     "output_type": "display_data"
    },
    {
     "data": {
      "application/javascript": [
       "$('span:contains(\"# Temp\")').closest('.cell').remove();"
      ],
      "text/plain": [
       "<IPython.core.display.Javascript object>"
      ]
     },
     "metadata": {},
     "output_type": "display_data"
    },
    {
     "data": {
      "application/javascript": [
       "\n",
       "        $('span:contains(\"# Temp\")').closest('.cell').remove();\n",
       "        var code = IPython.notebook.insert_cell_below('code');\n",
       "        code.set_text(atob(\"IyBUZW1wCmluc2VydCgnJycKYmFzaWxpMjAwN2IgPSBEQihXb3JrVW5yZWxhdGVkKAogICAgMjAwNywgIkdRTStTdHJhdGVnaWVzIC0gQWxpZ25pbmcgYnVzaW5lc3Mgc3RyYXRlZ2llcyB3aXRoIHNvZnR3YXJlIG1lYXN1cmVtZW50IiwKICAgIGRpc3BsYXk9ImJhc2lsaSBiIiwKICAgIGF1dGhvcnM9IkJhc2lsaSwgVi4gYW5kIEhlaWRyaWNoLCBKLiBhbmQgTGluZHZhbGwsIE0uIGFuZCBN/G5jaCwgSi4gYW5kIFJlZ2FyZGllLCBNLiBhbmQgVHJlbmRvd2ljeiwgQS4iLAogICAgcGxhY2U9RVNFTSwKICAgIHBwPSI0ODgtNDkwIiwKICAgIGVudHJ5dHlwZT0iY29uZmVyZW5jZSIsCiAgICBkb2k9IjEwLjExMDkvRVNFTS4yMDA3LjU2IiwKICAgIGFydF9udW1iZXI9IjQzNDM3ODgiLAogICAgbm90ZT0iY2l0ZWQgQnkgMzEiLAogICAgSUQ9IkJhc2lsaTIwMDc0ODgiLAogICAgcGxhY2V4PSJQcm9jZWVkaW5ncyAtIDFzdCBJbnRlcm5hdGlvbmFsIFN5bXBvc2l1bSBvbiBFbXBpcmljYWwgU29mdHdhcmUgRW5naW5lZXJpbmcgYW5kIE1lYXN1cmVtZW50LCBFU0VNIDIwMDciLAopKQoKREIoQ2l0YXRpb24oCiAgICBrYW5la28yMDExYSwgYmFzaWxpMjAwN2IsIHJlZj0iIiwKICAgIGNvbnRleHRzPVsKCiAgICBdLAopKQoKJycnLCBjaXRhdGlvbnM9J2thbmVrbzIwMTFhJyk7\"));\n",
       "    "
      ],
      "text/plain": [
       "<IPython.core.display.Javascript object>"
      ]
     },
     "metadata": {},
     "output_type": "display_data"
    }
   ],
   "source": [
    "import importlib\n",
    "import custom_snowballing\n",
    "importlib.reload(custom_snowballing)\n",
    "from custom_snowballing import UnrelatedBackward\n",
    "UnrelatedBackward(\"kaneko2011a\", articles=article_list)"
   ]
  },
  {
   "cell_type": "code",
   "execution_count": null,
   "metadata": {
    "collapsed": true
   },
   "outputs": [],
   "source": [
    "# Temp\n",
    "insert('''\n",
    "basili2007b = DB(WorkUnrelated(\n",
    "    2007, \"GQM+Strategies - Aligning business strategies with software measurement\",\n",
    "    display=\"basili b\",\n",
    "    authors=\"Basili, V. and Heidrich, J. and Lindvall, M. and Münch, J. and Regardie, M. and Trendowicz, A.\",\n",
    "    place=ESEM,\n",
    "    pp=\"488-490\",\n",
    "    entrytype=\"conference\",\n",
    "    doi=\"10.1109/ESEM.2007.56\",\n",
    "    art_number=\"4343788\",\n",
    "    note=\"cited By 31\",\n",
    "    ID=\"Basili2007488\",\n",
    "    placex=\"Proceedings - 1st International Symposium on Empirical Software Engineering and Measurement, ESEM 2007\",\n",
    "))\n",
    "\n",
    "DB(Citation(\n",
    "    kaneko2011a, basili2007b, ref=\"\",\n",
    "    contexts=[\n",
    "\n",
    "    ],\n",
    "))\n",
    "\n",
    "''', citations='kaneko2011a');"
   ]
  },
  {
   "cell_type": "code",
   "execution_count": null,
   "metadata": {
    "collapsed": true
   },
   "outputs": [],
   "source": []
  }
 ],
 "metadata": {
  "kernelspec": {
   "display_name": "Python 3",
   "language": "python",
   "name": "python3"
  },
  "language_info": {
   "codemirror_mode": {
    "name": "ipython",
    "version": 3
   },
   "file_extension": ".py",
   "mimetype": "text/x-python",
   "name": "python",
   "nbconvert_exporter": "python",
   "pygments_lexer": "ipython3",
   "version": "3.6.0"
  },
  "toc": {
   "nav_menu": {
    "height": "12px",
    "width": "252px"
   },
   "number_sections": true,
   "sideBar": true,
   "skip_h1_title": false,
   "toc_cell": false,
   "toc_position": {},
   "toc_section_display": "block",
   "toc_window_display": false
  }
 },
 "nbformat": 4,
 "nbformat_minor": 2
}
