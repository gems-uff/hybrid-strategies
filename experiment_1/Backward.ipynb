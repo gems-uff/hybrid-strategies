{
 "cells": [
  {
   "cell_type": "code",
   "execution_count": 26,
   "metadata": {
    "collapsed": true
   },
   "outputs": [],
   "source": [
    "import database\n",
    "from snowballing.operations import load_work, reload, work_by_varname\n",
    "from snowballing.snowballing import Converter\n",
    "from snowballing.dbmanager import insert, set_attribute"
   ]
  },
  {
   "cell_type": "code",
   "execution_count": 27,
   "metadata": {
    "scrolled": false
   },
   "outputs": [
    {
     "data": {
      "application/vnd.jupyter.widget-view+json": {
       "model_id": "76410fc33add4f839d9afe46eb33bdb9",
       "version_major": 2,
       "version_minor": 0
      },
      "text/html": [
       "<p>Failed to display Jupyter Widget of type <code>VBox</code>.</p>\n",
       "<p>\n",
       "  If you're reading this message in Jupyter Notebook or JupyterLab, it may mean\n",
       "  that the widgets JavaScript is still loading. If this message persists, it\n",
       "  likely means that the widgets JavaScript library is either not installed or\n",
       "  not enabled. See the <a href=\"https://ipywidgets.readthedocs.io/en/stable/user_install.html\">Jupyter\n",
       "  Widgets Documentation</a> for setup instructions.\n",
       "</p>\n",
       "<p>\n",
       "  If you're reading this message in another notebook frontend (for example, a static\n",
       "  rendering on GitHub or <a href=\"https://nbviewer.jupyter.org/\">NBViewer</a>),\n",
       "  it may mean that your frontend doesn't currently support widgets.\n",
       "</p>\n"
      ],
      "text/plain": [
       "VBox(children=(HBox(children=(Dropdown(index=1, options={'BibTeX': 'bibtex', 'Text': 'text', '[N] author name place other year': 'citation', 'Quoted': 'quoted'}, value='text'), Button(description='Set article_list variable', disabled=True, style=ButtonStyle()), Label(value=''))), HBox(children=(Textarea(value='', layout=Layout(height='500px', width='50%')), Textarea(value='', layout=Layout(height='500px', width='50%'))))))"
      ]
     },
     "metadata": {},
     "output_type": "display_data"
    }
   ],
   "source": [
    "Converter().browser()"
   ]
  },
  {
   "cell_type": "code",
   "execution_count": 13,
   "metadata": {},
   "outputs": [
    {
     "data": {
      "text/plain": [
       "11"
      ]
     },
     "execution_count": 13,
     "metadata": {},
     "output_type": "execute_result"
    }
   ],
   "source": [
    "len(article_list)"
   ]
  },
  {
   "cell_type": "code",
   "execution_count": 4,
   "metadata": {
    "collapsed": true
   },
   "outputs": [],
   "source": [
    "#from database.work.y2015 import li2015a"
   ]
  },
  {
   "cell_type": "code",
   "execution_count": 5,
   "metadata": {
    "collapsed": true
   },
   "outputs": [],
   "source": [
    "#int(getattr(li2015a, 'scopus', 0))"
   ]
  },
  {
   "cell_type": "code",
   "execution_count": 6,
   "metadata": {},
   "outputs": [],
   "source": [
    "#print(article_list)"
   ]
  },
  {
   "cell_type": "code",
   "execution_count": null,
   "metadata": {
    "collapsed": true
   },
   "outputs": [],
   "source": []
  },
  {
   "cell_type": "code",
   "execution_count": 14,
   "metadata": {},
   "outputs": [
    {
     "data": {
      "application/vnd.jupyter.widget-view+json": {
       "model_id": "4e74a684b45b41e78c9582fa488b9831",
       "version_major": 2,
       "version_minor": 0
      },
      "text/html": [
       "<p>Failed to display Jupyter Widget of type <code>VBox</code>.</p>\n",
       "<p>\n",
       "  If you're reading this message in Jupyter Notebook or JupyterLab, it may mean\n",
       "  that the widgets JavaScript is still loading. If this message persists, it\n",
       "  likely means that the widgets JavaScript library is either not installed or\n",
       "  not enabled. See the <a href=\"https://ipywidgets.readthedocs.io/en/stable/user_install.html\">Jupyter\n",
       "  Widgets Documentation</a> for setup instructions.\n",
       "</p>\n",
       "<p>\n",
       "  If you're reading this message in another notebook frontend (for example, a static\n",
       "  rendering on GitHub or <a href=\"https://nbviewer.jupyter.org/\">NBViewer</a>),\n",
       "  it may mean that your frontend doesn't currently support widgets.\n",
       "</p>\n"
      ],
      "text/plain": [
       "VBox(children=(HBox(children=(Button(description='Previous Article', disabled=True, icon='caret-left', style=ButtonStyle()), Button(description='Reload Article', icon='refresh', style=ButtonStyle()), Button(description='Next Article', icon='caret-right', style=ButtonStyle()))), HBox(children=(Button(description='Unrelated: Scripts', style=ButtonStyle()), Button(description='Unrelated: Provenance', style=ButtonStyle()), Button(description='Both', style=ButtonStyle()), Button(description='Ok', style=ButtonStyle()))), HBox(children=(Dropdown(description='Type', index=5, options=('Work', 'WorkSnowball', 'WorkForward', 'WorkBackward', 'WorkOk', 'WorkUnrelated', 'WorkNoFile', 'WorkLang', 'Site', 'Email'), value='WorkUnrelated'), ToggleButton(value=False, description='File'))), HBox(children=(Text(value='', description='Due'), Text(value='', description='Place'))), HBox(children=(Text(value='', description='Year'), Text(value='', description='Prefix Var'))), HBox(children=(Text(value='', description='PDFPage'), Text(value='', description='Related'))), HBox(children=(Text(value='', description='Display'), Text(value='', description='Summary'))), HBox(children=(Text(value='', description='Star'), Text(value='', description='Link'))), HBox(children=(Button(description='Reload Article', icon='refresh', style=ButtonStyle()), IntSlider(value=0, max=10), Label(value='1/11'))), Output()))"
      ]
     },
     "metadata": {},
     "output_type": "display_data"
    },
    {
     "data": {
      "application/javascript": [
       "$('span:contains(\"# Temp\")').closest('.cell').remove();"
      ],
      "text/plain": [
       "<IPython.core.display.Javascript object>"
      ]
     },
     "metadata": {},
     "output_type": "display_data"
    },
    {
     "data": {
      "application/javascript": [
       "\n",
       "        $('span:contains(\"# Temp\")').closest('.cell').remove();\n",
       "        var code = IPython.notebook.insert_cell_below('code');\n",
       "        code.set_text(atob(\"IyBUZW1wCmluc2VydCgnJycKa2F0aHVyaWEyMDA3YSA9IERCKFdvcmtVbnJlbGF0ZWQoCiAgICAyMDA3LCAiT3JnYW5pemF0aW9uYWwgYWxpZ25tZW50IGFuZCBwZXJmb3JtYW5jZTogUGFzdCwgcHJlc2VudCBhbmQgZnV0dXJlIiwKICAgIGRpc3BsYXk9ImthdGh1cmlhIiwKICAgIGF1dGhvcnM9IkthdGh1cmlhLCBSLiBhbmQgSm9zaGksIE0uUC4gYW5kIFBvcnRoLCBTLkouIiwKICAgIHBsYWNlPUZBS0UsCiAgICBwcD0iNTAzLTUxNyIsCiAgICBlbnRyeXR5cGU9ImFydGljbGUiLAogICAgdm9sdW1lPSI0NSIsCiAgICBudW1iZXI9IjMiLAogICAgZG9pPSIxMC4xMTA4LzAwMjUxNzQwNzEwNzQ1MTA2IiwKICAgIG5vdGU9ImNpdGVkIEJ5IDU1IiwKICAgIElEPSJLYXRodXJpYTIwMDc1MDMiLAogICAgcGxhY2V4PSJNYW5hZ2VtZW50IERlY2lzaW9uIiwKKSkKCkRCKENpdGF0aW9uKAogICAga2FuZWtvMjAxMWEsIGthdGh1cmlhMjAwN2EsIHJlZj0iIiwKICAgIGNvbnRleHRzPVsKCiAgICBdLAopKQoKJycnLCBjaXRhdGlvbnM9J2thbmVrbzIwMTFhJyk7\"));\n",
       "    "
      ],
      "text/plain": [
       "<IPython.core.display.Javascript object>"
      ]
     },
     "metadata": {},
     "output_type": "display_data"
    },
    {
     "data": {
      "application/javascript": [
       "$('span:contains(\"# Temp\")').closest('.cell').remove();"
      ],
      "text/plain": [
       "<IPython.core.display.Javascript object>"
      ]
     },
     "metadata": {},
     "output_type": "display_data"
    },
    {
     "data": {
      "application/javascript": [
       "\n",
       "        $('span:contains(\"# Temp\")').closest('.cell').remove();\n",
       "        var code = IPython.notebook.insert_cell_below('code');\n",
       "        code.set_text(atob(\"IyBUZW1wCmluc2VydCgnJycKYmFzaWxpMjAwN2IgPSBEQihXb3JrVW5yZWxhdGVkKAogICAgMjAwNywgIkdRTStTdHJhdGVnaWVzIC0gQWxpZ25pbmcgYnVzaW5lc3Mgc3RyYXRlZ2llcyB3aXRoIHNvZnR3YXJlIG1lYXN1cmVtZW50IiwKICAgIGRpc3BsYXk9ImJhc2lsaSBiIiwKICAgIGF1dGhvcnM9IkJhc2lsaSwgVi4gYW5kIEhlaWRyaWNoLCBKLiBhbmQgTGluZHZhbGwsIE0uIGFuZCBN/G5jaCwgSi4gYW5kIFJlZ2FyZGllLCBNLiBhbmQgVHJlbmRvd2ljeiwgQS4iLAogICAgcGxhY2U9RVNFTSwKICAgIHBwPSI0ODgtNDkwIiwKICAgIGVudHJ5dHlwZT0iY29uZmVyZW5jZSIsCiAgICBkb2k9IjEwLjExMDkvRVNFTS4yMDA3LjU2IiwKICAgIGFydF9udW1iZXI9IjQzNDM3ODgiLAogICAgbm90ZT0iY2l0ZWQgQnkgMzEiLAogICAgSUQ9IkJhc2lsaTIwMDc0ODgiLAogICAgcGxhY2V4PSJQcm9jZWVkaW5ncyAtIDFzdCBJbnRlcm5hdGlvbmFsIFN5bXBvc2l1bSBvbiBFbXBpcmljYWwgU29mdHdhcmUgRW5naW5lZXJpbmcgYW5kIE1lYXN1cmVtZW50LCBFU0VNIDIwMDciLAopKQoKREIoQ2l0YXRpb24oCiAgICBrYW5la28yMDExYSwgYmFzaWxpMjAwN2IsIHJlZj0iIiwKICAgIGNvbnRleHRzPVsKCiAgICBdLAopKQoKJycnLCBjaXRhdGlvbnM9J2thbmVrbzIwMTFhJyk7\"));\n",
       "    "
      ],
      "text/plain": [
       "<IPython.core.display.Javascript object>"
      ]
     },
     "metadata": {},
     "output_type": "display_data"
    },
    {
     "data": {
      "application/javascript": [
       "$('span:contains(\"# Temp\")').closest('.cell').remove();"
      ],
      "text/plain": [
       "<IPython.core.display.Javascript object>"
      ]
     },
     "metadata": {},
     "output_type": "display_data"
    },
    {
     "data": {
      "application/javascript": [
       "\n",
       "        $('span:contains(\"# Temp\")').closest('.cell').remove();\n",
       "        var code = IPython.notebook.insert_cell_below('code');\n",
       "        code.set_text(atob(\"IyBUZW1wCmluc2VydCgnJycKYmFzaWxpMjAwN2IgPSBEQihXb3JrVW5yZWxhdGVkKAogICAgMjAwNywgIkdRTStTdHJhdGVnaWVzIC0gQWxpZ25pbmcgYnVzaW5lc3Mgc3RyYXRlZ2llcyB3aXRoIHNvZnR3YXJlIG1lYXN1cmVtZW50IiwKICAgIGRpc3BsYXk9ImJhc2lsaSBiIiwKICAgIGF1dGhvcnM9IkJhc2lsaSwgVi4gYW5kIEhlaWRyaWNoLCBKLiBhbmQgTGluZHZhbGwsIE0uIGFuZCBN/G5jaCwgSi4gYW5kIFJlZ2FyZGllLCBNLiBhbmQgVHJlbmRvd2ljeiwgQS4iLAogICAgcGxhY2U9RVNFTSwKICAgIHBwPSI0ODgtNDkwIiwKICAgIGVudHJ5dHlwZT0iY29uZmVyZW5jZSIsCiAgICBkb2k9IjEwLjExMDkvRVNFTS4yMDA3LjU2IiwKICAgIGFydF9udW1iZXI9IjQzNDM3ODgiLAogICAgbm90ZT0iY2l0ZWQgQnkgMzEiLAogICAgSUQ9IkJhc2lsaTIwMDc0ODgiLAogICAgcGxhY2V4PSJQcm9jZWVkaW5ncyAtIDFzdCBJbnRlcm5hdGlvbmFsIFN5bXBvc2l1bSBvbiBFbXBpcmljYWwgU29mdHdhcmUgRW5naW5lZXJpbmcgYW5kIE1lYXN1cmVtZW50LCBFU0VNIDIwMDciLAopKQoKREIoQ2l0YXRpb24oCiAgICBrYW5la28yMDExYSwgYmFzaWxpMjAwN2IsIHJlZj0iIiwKICAgIGNvbnRleHRzPVsKCiAgICBdLAopKQoKJycnLCBjaXRhdGlvbnM9J2thbmVrbzIwMTFhJyk7\"));\n",
       "    "
      ],
      "text/plain": [
       "<IPython.core.display.Javascript object>"
      ]
     },
     "metadata": {},
     "output_type": "display_data"
    },
    {
     "data": {
      "application/javascript": [
       "$('span:contains(\"# Temp\")').closest('.cell').remove();"
      ],
      "text/plain": [
       "<IPython.core.display.Javascript object>"
      ]
     },
     "metadata": {},
     "output_type": "display_data"
    },
    {
     "data": {
      "application/javascript": [
       "\n",
       "        $('span:contains(\"# Temp\")').closest('.cell').remove();\n",
       "        var code = IPython.notebook.insert_cell_below('code');\n",
       "        code.set_text(atob(\"IyBUZW1wCmluc2VydCgnJycKYmFzaWxpMjAwOWEgPSBEQihXb3JrVW5yZWxhdGVkKAogICAgMjAwOSwgIkRldGVybWluaW5nIHRoZSBpbXBhY3Qgb2YgYnVzaW5lc3Mgc3RyYXRlZ2llcyB1c2luZyBwcmluY2lwbGVzIGZyb20gZ29hbC1vcmllbnRlZCBtZWFzdXJlbWVudCIsCiAgICBkaXNwbGF5PSJiYXNpbGkiLAogICAgYXV0aG9ycz0iQmFzaWxpLCBWLiBhbmQgSGVpZHJpY2gsIEouIGFuZCBMaW5kdmFsbCwgTS4gYW5kIE38bmNoLCBKLiBhbmQgUmVnYXJkaWUsIE0uIGFuZCBTZWFtYW4sIEMuIGFuZCBUcmVuLURvd2ljeiwgQS4iLAogICAgcGxhY2U9RkFLRSwKICAgIGVudHJ5dHlwZT0iYXJ0aWNsZSIsCiAgICBub3RlPSJjaXRlZCBCeSAxIiwKICAgIElEPSJCYXNpbGkyMDA5IiwKICAgIHBsYWNleD0iUHJvY2VlZGluZ3Mgb2YgOXRoIEJJIENvbmZlcmVuY2UiLAopKQoKREIoQ2l0YXRpb24oCiAgICBrYW5la28yMDExYSwgYmFzaWxpMjAwOWEsIHJlZj0iIiwKICAgIGNvbnRleHRzPVsKCiAgICBdLAopKQoKJycnLCBjaXRhdGlvbnM9J2thbmVrbzIwMTFhJyk7\"));\n",
       "    "
      ],
      "text/plain": [
       "<IPython.core.display.Javascript object>"
      ]
     },
     "metadata": {},
     "output_type": "display_data"
    },
    {
     "data": {
      "application/javascript": [
       "$('span:contains(\"# Temp\")').closest('.cell').remove();"
      ],
      "text/plain": [
       "<IPython.core.display.Javascript object>"
      ]
     },
     "metadata": {},
     "output_type": "display_data"
    },
    {
     "data": {
      "application/javascript": [
       "\n",
       "        $('span:contains(\"# Temp\")').closest('.cell').remove();\n",
       "        var code = IPython.notebook.insert_cell_below('code');\n",
       "        code.set_text(atob(\"IyBUZW1wCmluc2VydCgnJycKYmFzaWxpMjAwOWEgPSBEQihXb3JrVW5yZWxhdGVkKAogICAgMjAwOSwgIkRldGVybWluaW5nIHRoZSBpbXBhY3Qgb2YgYnVzaW5lc3Mgc3RyYXRlZ2llcyB1c2luZyBwcmluY2lwbGVzIGZyb20gZ29hbC1vcmllbnRlZCBtZWFzdXJlbWVudCIsCiAgICBkaXNwbGF5PSJiYXNpbGkiLAogICAgYXV0aG9ycz0iQmFzaWxpLCBWLiBhbmQgSGVpZHJpY2gsIEouIGFuZCBMaW5kdmFsbCwgTS4gYW5kIE38bmNoLCBKLiBhbmQgUmVnYXJkaWUsIE0uIGFuZCBTZWFtYW4sIEMuIGFuZCBUcmVuLURvd2ljeiwgQS4iLAogICAgcGxhY2U9RkFLRSwKICAgIGVudHJ5dHlwZT0iYXJ0aWNsZSIsCiAgICBub3RlPSJjaXRlZCBCeSAxIiwKICAgIElEPSJCYXNpbGkyMDA5IiwKICAgIHBsYWNleD0iUHJvY2VlZGluZ3Mgb2YgOXRoIEJJIENvbmZlcmVuY2UiLAopKQoKREIoQ2l0YXRpb24oCiAgICBrYW5la28yMDExYSwgYmFzaWxpMjAwOWEsIHJlZj0iIiwKICAgIGNvbnRleHRzPVsKCiAgICBdLAopKQoKJycnLCBjaXRhdGlvbnM9J2thbmVrbzIwMTFhJyk7\"));\n",
       "    "
      ],
      "text/plain": [
       "<IPython.core.display.Javascript object>"
      ]
     },
     "metadata": {},
     "output_type": "display_data"
    },
    {
     "data": {
      "application/javascript": [
       "$('span:contains(\"# Temp\")').closest('.cell').remove();"
      ],
      "text/plain": [
       "<IPython.core.display.Javascript object>"
      ]
     },
     "metadata": {},
     "output_type": "display_data"
    },
    {
     "data": {
      "application/javascript": [
       "\n",
       "        $('span:contains(\"# Temp\")').closest('.cell').remove();\n",
       "        var code = IPython.notebook.insert_cell_below('code');\n",
       "        code.set_text(atob(\"IyBUZW1wCmluc2VydCgnJycKYmFzaWxpMTk5MmEgPSBEQihXb3JrVW5yZWxhdGVkKAogICAgMTk5MiwgIlNvZnR3YXJlIG1vZGVsaW5nIGFuZCBtZWFzdXJlbWVudDogVGhlIGdvYWwvcXVlc3Rpb24vbWV0cmljIHBhcmFkaWdtIiwKICAgIGRpc3BsYXk9ImJhc2lsaSIsCiAgICBhdXRob3JzPSJCYXNpbGksIFYuUi4iLAogICAgcGxhY2U9RkFLRSwKICAgIGVudHJ5dHlwZT0iYXJ0aWNsZSIsCiAgICBub3RlPSJjaXRlZCBCeSAyMzIiLAogICAgSUQ9IkJhc2lsaTE5OTIiLAogICAgcGxhY2V4PSJTb2Z0d2FyZSBNb2RlbGluZyBhbmQgTWVhc3VyZW1lbnQ6IFRoZSBHb2FsL1F1ZXN0aW9uL01ldHJpYyBQYXJhZGlnbSIsCikpCgpEQihDaXRhdGlvbigKICAgIGthbmVrbzIwMTFhLCBiYXNpbGkxOTkyYSwgcmVmPSIiLAogICAgY29udGV4dHM9WwoKICAgIF0sCikpCgonJycsIGNpdGF0aW9ucz0na2FuZWtvMjAxMWEnKTs=\"));\n",
       "    "
      ],
      "text/plain": [
       "<IPython.core.display.Javascript object>"
      ]
     },
     "metadata": {},
     "output_type": "display_data"
    },
    {
     "data": {
      "application/javascript": [
       "$('span:contains(\"# Temp\")').closest('.cell').remove();"
      ],
      "text/plain": [
       "<IPython.core.display.Javascript object>"
      ]
     },
     "metadata": {},
     "output_type": "display_data"
    },
    {
     "data": {
      "application/javascript": [
       "\n",
       "        $('span:contains(\"# Temp\")').closest('.cell').remove();\n",
       "        var code = IPython.notebook.insert_cell_below('code');\n",
       "        code.set_text(atob(\"IyBUZW1wCmluc2VydCgnJycKYmFzaWxpMTk5MmEgPSBEQihXb3JrVW5yZWxhdGVkKAogICAgMTk5MiwgIlNvZnR3YXJlIG1vZGVsaW5nIGFuZCBtZWFzdXJlbWVudDogVGhlIGdvYWwvcXVlc3Rpb24vbWV0cmljIHBhcmFkaWdtIiwKICAgIGRpc3BsYXk9ImJhc2lsaSIsCiAgICBhdXRob3JzPSJCYXNpbGksIFYuUi4iLAogICAgcGxhY2U9RkFLRSwKICAgIGVudHJ5dHlwZT0iYXJ0aWNsZSIsCiAgICBub3RlPSJjaXRlZCBCeSAyMzIiLAogICAgSUQ9IkJhc2lsaTE5OTIiLAogICAgcGxhY2V4PSJTb2Z0d2FyZSBNb2RlbGluZyBhbmQgTWVhc3VyZW1lbnQ6IFRoZSBHb2FsL1F1ZXN0aW9uL01ldHJpYyBQYXJhZGlnbSIsCikpCgpEQihDaXRhdGlvbigKICAgIGthbmVrbzIwMTFhLCBiYXNpbGkxOTkyYSwgcmVmPSIiLAogICAgY29udGV4dHM9WwoKICAgIF0sCikpCgonJycsIGNpdGF0aW9ucz0na2FuZWtvMjAxMWEnKTs=\"));\n",
       "    "
      ],
      "text/plain": [
       "<IPython.core.display.Javascript object>"
      ]
     },
     "metadata": {},
     "output_type": "display_data"
    },
    {
     "data": {
      "application/javascript": [
       "$('span:contains(\"# Temp\")').closest('.cell').remove();"
      ],
      "text/plain": [
       "<IPython.core.display.Javascript object>"
      ]
     },
     "metadata": {},
     "output_type": "display_data"
    },
    {
     "data": {
      "application/javascript": [
       "\n",
       "        $('span:contains(\"# Temp\")').closest('.cell').remove();\n",
       "        var code = IPython.notebook.insert_cell_below('code');\n",
       "        code.set_text(atob(\"IyBUZW1wCmluc2VydCgnJycKa293YWxjenlrMjAxMGEgPSBEQihXb3JrVW5yZWxhdGVkKAogICAgMjAxMCwgIkFsaWduaW5nIHNvZnR3YXJlLXJlbGF0ZWQgc3RyYXRlZ2llcyBpbiBtdWx0aS0gb3JnYW5pemF0aW9uYWwgc2V0dGluZ3MiLAogICAgZGlzcGxheT0ia293YWxjenlrIiwKICAgIGF1dGhvcnM9Iktvd2FsY3p5aywgTS4gYW5kIE38bmNoLCBKLiBhbmQgS2F0YWhpcmEsIE0uIGFuZCBLYW5la28sIFQuIGFuZCBNaXlhbW90bywgWS4gYW5kIEtvaXNoaSwgWS4iLAogICAgcGxhY2U9SUNTUFBNLAogICAgZW50cnl0eXBlPSJhcnRpY2xlIiwKICAgIG5vdGU9ImNpdGVkIEJ5IDIiLAogICAgSUQ9Iktvd2FsY3p5azIwMTAiLAogICAgcGxhY2V4PSJQcm9jZWVkaW5ncyBvZiB0aGUgSW50ZXJuYXRpb25hbCBDb25mZXJlbmNlIG9uIFNvZnR3YXJlIFByb2Nlc3MgYW5kIFByb2R1Y3QgTWVhc3VyZW1lbnQgKElXU00vTWV0cmlLb24vTWVuc3VyYSAyMDEwKSIsCikpCgpEQihDaXRhdGlvbigKICAgIGthbmVrbzIwMTFhLCBrb3dhbGN6eWsyMDEwYSwgcmVmPSIiLAogICAgY29udGV4dHM9WwoKICAgIF0sCikpCgonJycsIGNpdGF0aW9ucz0na2FuZWtvMjAxMWEnKTs=\"));\n",
       "    "
      ],
      "text/plain": [
       "<IPython.core.display.Javascript object>"
      ]
     },
     "metadata": {},
     "output_type": "display_data"
    },
    {
     "data": {
      "application/javascript": [
       "$('span:contains(\"# Temp\")').closest('.cell').remove();"
      ],
      "text/plain": [
       "<IPython.core.display.Javascript object>"
      ]
     },
     "metadata": {},
     "output_type": "display_data"
    },
    {
     "data": {
      "application/javascript": [
       "\n",
       "        $('span:contains(\"# Temp\")').closest('.cell').remove();\n",
       "        var code = IPython.notebook.insert_cell_below('code');\n",
       "        code.set_text(atob(\"IyBUZW1wCmluc2VydCgnJycKa293YWxjenlrMjAxMGEgPSBEQihXb3JrVW5yZWxhdGVkKAogICAgMjAxMCwgIkFsaWduaW5nIHNvZnR3YXJlLXJlbGF0ZWQgc3RyYXRlZ2llcyBpbiBtdWx0aS0gb3JnYW5pemF0aW9uYWwgc2V0dGluZ3MiLAogICAgZGlzcGxheT0ia293YWxjenlrIiwKICAgIGF1dGhvcnM9Iktvd2FsY3p5aywgTS4gYW5kIE38bmNoLCBKLiBhbmQgS2F0YWhpcmEsIE0uIGFuZCBLYW5la28sIFQuIGFuZCBNaXlhbW90bywgWS4gYW5kIEtvaXNoaSwgWS4iLAogICAgcGxhY2U9SUNTUFBNLAogICAgZW50cnl0eXBlPSJhcnRpY2xlIiwKICAgIG5vdGU9ImNpdGVkIEJ5IDIiLAogICAgSUQ9Iktvd2FsY3p5azIwMTAiLAogICAgcGxhY2V4PSJQcm9jZWVkaW5ncyBvZiB0aGUgSW50ZXJuYXRpb25hbCBDb25mZXJlbmNlIG9uIFNvZnR3YXJlIFByb2Nlc3MgYW5kIFByb2R1Y3QgTWVhc3VyZW1lbnQgKElXU00vTWV0cmlLb24vTWVuc3VyYSAyMDEwKSIsCikpCgpEQihDaXRhdGlvbigKICAgIGthbmVrbzIwMTFhLCBrb3dhbGN6eWsyMDEwYSwgcmVmPSIiLAogICAgY29udGV4dHM9WwoKICAgIF0sCikpCgonJycsIGNpdGF0aW9ucz0na2FuZWtvMjAxMWEnKTs=\"));\n",
       "    "
      ],
      "text/plain": [
       "<IPython.core.display.Javascript object>"
      ]
     },
     "metadata": {},
     "output_type": "display_data"
    },
    {
     "data": {
      "application/javascript": [
       "$('span:contains(\"# Temp\")').closest('.cell').remove();"
      ],
      "text/plain": [
       "<IPython.core.display.Javascript object>"
      ]
     },
     "metadata": {},
     "output_type": "display_data"
    },
    {
     "data": {
      "application/javascript": [
       "\n",
       "        $('span:contains(\"# Temp\")').closest('.cell').remove();\n",
       "        var code = IPython.notebook.insert_cell_below('code');\n",
       "        code.set_text(atob(\"IyBUZW1wCmluc2VydCgnJycKaXNhY2EyMDA1YSA9IERCKFdvcmtVbnJlbGF0ZWQoCiAgICAyMDA1LCAiQ29udHJvbCBPYmplY3RpdmVzIGZvciBJbmZvcm1hdGlvbiBhbmQgUmVsYXRlZCBUZWNobm9sb2d5IiwKICAgIGRpc3BsYXk9ImlzYWNhIiwKICAgIGF1dGhvcnM9IklTQUNBIiwKICAgIHBsYWNlPUZBS0UsCiAgICBlbnRyeXR5cGU9ImFydGljbGUiLAogICAgbm90ZT0iY2l0ZWQgQnkgMTIxIiwKICAgIElEPSJJU0FDQTIwMDUiLAogICAgcGxhY2V4PSJJU0FDQSIsCikpCgpEQihDaXRhdGlvbigKICAgIGthbmVrbzIwMTFhLCBpc2FjYTIwMDVhLCByZWY9IiIsCiAgICBjb250ZXh0cz1bCgogICAgXSwKKSkKCicnJywgY2l0YXRpb25zPSdrYW5la28yMDExYScpOw==\"));\n",
       "    "
      ],
      "text/plain": [
       "<IPython.core.display.Javascript object>"
      ]
     },
     "metadata": {},
     "output_type": "display_data"
    },
    {
     "data": {
      "application/javascript": [
       "$('span:contains(\"# Temp\")').closest('.cell').remove();"
      ],
      "text/plain": [
       "<IPython.core.display.Javascript object>"
      ]
     },
     "metadata": {},
     "output_type": "display_data"
    },
    {
     "data": {
      "application/javascript": [
       "\n",
       "        $('span:contains(\"# Temp\")').closest('.cell').remove();\n",
       "        var code = IPython.notebook.insert_cell_below('code');\n",
       "        code.set_text(atob(\"IyBUZW1wCmluc2VydCgnJycKaXNhY2EyMDA1YSA9IERCKFdvcmtVbnJlbGF0ZWQoCiAgICAyMDA1LCAiQ29udHJvbCBPYmplY3RpdmVzIGZvciBJbmZvcm1hdGlvbiBhbmQgUmVsYXRlZCBUZWNobm9sb2d5IiwKICAgIGRpc3BsYXk9ImlzYWNhIiwKICAgIGF1dGhvcnM9IklTQUNBIiwKICAgIHBsYWNlPUZBS0UsCiAgICBlbnRyeXR5cGU9ImFydGljbGUiLAogICAgbm90ZT0iY2l0ZWQgQnkgMTIxIiwKICAgIElEPSJJU0FDQTIwMDUiLAogICAgcGxhY2V4PSJJU0FDQSIsCikpCgpEQihDaXRhdGlvbigKICAgIGthbmVrbzIwMTFhLCBpc2FjYTIwMDVhLCByZWY9IiIsCiAgICBjb250ZXh0cz1bCgogICAgXSwKKSkKCicnJywgY2l0YXRpb25zPSdrYW5la28yMDExYScpOw==\"));\n",
       "    "
      ],
      "text/plain": [
       "<IPython.core.display.Javascript object>"
      ]
     },
     "metadata": {},
     "output_type": "display_data"
    },
    {
     "data": {
      "application/javascript": [
       "$('span:contains(\"# Temp\")').closest('.cell').remove();"
      ],
      "text/plain": [
       "<IPython.core.display.Javascript object>"
      ]
     },
     "metadata": {},
     "output_type": "display_data"
    },
    {
     "data": {
      "application/javascript": [
       "\n",
       "        $('span:contains(\"# Temp\")').closest('.cell').remove();\n",
       "        var code = IPython.notebook.insert_cell_below('code');\n",
       "        code.set_text(atob(\"IyBUZW1wCmluc2VydCgnJycKaXNhY2EyMDA4YSA9IERCKFdvcmtVbnJlbGF0ZWQoCiAgICAyMDA4LCAiVkFMIElUIEZyYW1ld29yayAyLjAiLAogICAgZGlzcGxheT0iaXNhY2EiLAogICAgYXV0aG9ycz0iSVNBQ0EiLAogICAgcGxhY2U9RkFLRSwKICAgIGVudHJ5dHlwZT0iYXJ0aWNsZSIsCiAgICBub3RlPSJjaXRlZCBCeSA2IiwKICAgIElEPSJJU0FDQTIwMDgiLAogICAgcGxhY2V4PSJJVCBHb3Zlcm5hbmNlIEluc3RpdHV0ZSIsCikpCgpEQihDaXRhdGlvbigKICAgIGthbmVrbzIwMTFhLCBpc2FjYTIwMDhhLCByZWY9IiIsCiAgICBjb250ZXh0cz1bCgogICAgXSwKKSkKCicnJywgY2l0YXRpb25zPSdrYW5la28yMDExYScpOw==\"));\n",
       "    "
      ],
      "text/plain": [
       "<IPython.core.display.Javascript object>"
      ]
     },
     "metadata": {},
     "output_type": "display_data"
    },
    {
     "data": {
      "application/javascript": [
       "$('span:contains(\"# Temp\")').closest('.cell').remove();"
      ],
      "text/plain": [
       "<IPython.core.display.Javascript object>"
      ]
     },
     "metadata": {},
     "output_type": "display_data"
    },
    {
     "data": {
      "application/javascript": [
       "\n",
       "        $('span:contains(\"# Temp\")').closest('.cell').remove();\n",
       "        var code = IPython.notebook.insert_cell_below('code');\n",
       "        code.set_text(atob(\"IyBUZW1wCmluc2VydCgnJycKaXNhY2EyMDA4YSA9IERCKFdvcmtVbnJlbGF0ZWQoCiAgICAyMDA4LCAiVkFMIElUIEZyYW1ld29yayAyLjAiLAogICAgZGlzcGxheT0iaXNhY2EiLAogICAgYXV0aG9ycz0iSVNBQ0EiLAogICAgcGxhY2U9RkFLRSwKICAgIGVudHJ5dHlwZT0iYXJ0aWNsZSIsCiAgICBub3RlPSJjaXRlZCBCeSA2IiwKICAgIElEPSJJU0FDQTIwMDgiLAogICAgcGxhY2V4PSJJVCBHb3Zlcm5hbmNlIEluc3RpdHV0ZSIsCikpCgpEQihDaXRhdGlvbigKICAgIGthbmVrbzIwMTFhLCBpc2FjYTIwMDhhLCByZWY9IiIsCiAgICBjb250ZXh0cz1bCgogICAgXSwKKSkKCicnJywgY2l0YXRpb25zPSdrYW5la28yMDExYScpOw==\"));\n",
       "    "
      ],
      "text/plain": [
       "<IPython.core.display.Javascript object>"
      ]
     },
     "metadata": {},
     "output_type": "display_data"
    },
    {
     "data": {
      "application/javascript": [
       "$('span:contains(\"# Temp\")').closest('.cell').remove();"
      ],
      "text/plain": [
       "<IPython.core.display.Javascript object>"
      ]
     },
     "metadata": {},
     "output_type": "display_data"
    },
    {
     "data": {
      "application/javascript": [
       "\n",
       "        $('span:contains(\"# Temp\")').closest('.cell').remove();\n",
       "        var code = IPython.notebook.insert_cell_below('code');\n",
       "        code.set_text(atob(\"IyBUZW1wCmluc2VydCgnJycKb2djMjAwMmEgPSBEQihXb3JrVW5yZWxhdGVkKAogICAgMjAwMiwgIlRoZSBJVCBJbmZyYXN0cnVjdHVyZSBMaWJyYXJ5IChJVElMKSBTZXJ2aWNlIERlbGl2ZXJ5IiwKICAgIGRpc3BsYXk9Im9nYyIsCiAgICBhdXRob3JzPSJPR0MiLAogICAgcGxhY2U9RkFLRSwKICAgIGVudHJ5dHlwZT0iYXJ0aWNsZSIsCiAgICBub3RlPSJjaXRlZCBCeSA0IiwKICAgIElEPSJPR0MyMDAyIiwKICAgIHBsYWNleD0iT2ZmaWNlIG9mIEdvdmVybm1lbnQgQ29tbWVyY2UgKE9HQykiLAopKQoKREIoQ2l0YXRpb24oCiAgICBrYW5la28yMDExYSwgb2djMjAwMmEsIHJlZj0iIiwKICAgIGNvbnRleHRzPVsKCiAgICBdLAopKQoKJycnLCBjaXRhdGlvbnM9J2thbmVrbzIwMTFhJyk7\"));\n",
       "    "
      ],
      "text/plain": [
       "<IPython.core.display.Javascript object>"
      ]
     },
     "metadata": {},
     "output_type": "display_data"
    },
    {
     "data": {
      "application/javascript": [
       "$('span:contains(\"# Temp\")').closest('.cell').remove();"
      ],
      "text/plain": [
       "<IPython.core.display.Javascript object>"
      ]
     },
     "metadata": {},
     "output_type": "display_data"
    },
    {
     "data": {
      "application/javascript": [
       "\n",
       "        $('span:contains(\"# Temp\")').closest('.cell').remove();\n",
       "        var code = IPython.notebook.insert_cell_below('code');\n",
       "        code.set_text(atob(\"IyBUZW1wCmluc2VydCgnJycKb2djMjAwMmEgPSBEQihXb3JrVW5yZWxhdGVkKAogICAgMjAwMiwgIlRoZSBJVCBJbmZyYXN0cnVjdHVyZSBMaWJyYXJ5IChJVElMKSBTZXJ2aWNlIERlbGl2ZXJ5IiwKICAgIGRpc3BsYXk9Im9nYyIsCiAgICBhdXRob3JzPSJPR0MiLAogICAgcGxhY2U9RkFLRSwKICAgIGVudHJ5dHlwZT0iYXJ0aWNsZSIsCiAgICBub3RlPSJjaXRlZCBCeSA0IiwKICAgIElEPSJPR0MyMDAyIiwKICAgIHBsYWNleD0iT2ZmaWNlIG9mIEdvdmVybm1lbnQgQ29tbWVyY2UgKE9HQykiLAopKQoKREIoQ2l0YXRpb24oCiAgICBrYW5la28yMDExYSwgb2djMjAwMmEsIHJlZj0iIiwKICAgIGNvbnRleHRzPVsKCiAgICBdLAopKQoKJycnLCBjaXRhdGlvbnM9J2thbmVrbzIwMTFhJyk7\"));\n",
       "    "
      ],
      "text/plain": [
       "<IPython.core.display.Javascript object>"
      ]
     },
     "metadata": {},
     "output_type": "display_data"
    },
    {
     "data": {
      "application/javascript": [
       "$('span:contains(\"# Temp\")').closest('.cell').remove();"
      ],
      "text/plain": [
       "<IPython.core.display.Javascript object>"
      ]
     },
     "metadata": {},
     "output_type": "display_data"
    },
    {
     "data": {
      "application/javascript": [
       "\n",
       "        $('span:contains(\"# Temp\")').closest('.cell').remove();\n",
       "        var code = IPython.notebook.insert_cell_below('code');\n",
       "        code.set_text(atob(\"IyBUZW1wCmluc2VydCgnJycKREIoQ2l0YXRpb24oCiAgICBrYW5la28yMDExYSwga2FwbGFuMTk5MmEsIHJlZj0iIiwKICAgIGNvbnRleHRzPVsKCiAgICBdLAopKQoKJycnLCBjaXRhdGlvbnM9J2thbmVrbzIwMTFhJyk7\"));\n",
       "    "
      ],
      "text/plain": [
       "<IPython.core.display.Javascript object>"
      ]
     },
     "metadata": {},
     "output_type": "display_data"
    },
    {
     "data": {
      "application/javascript": [
       "$('span:contains(\"# Temp\")').closest('.cell').remove();"
      ],
      "text/plain": [
       "<IPython.core.display.Javascript object>"
      ]
     },
     "metadata": {},
     "output_type": "display_data"
    },
    {
     "data": {
      "application/javascript": [
       "\n",
       "        $('span:contains(\"# Temp\")').closest('.cell').remove();\n",
       "        var code = IPython.notebook.insert_cell_below('code');\n",
       "        code.set_text(atob(\"IyBUZW1wCmluc2VydCgnJycKREIoQ2l0YXRpb24oCiAgICBrYW5la28yMDExYSwga2FwbGFuMTk5MmEsIHJlZj0iIiwKICAgIGNvbnRleHRzPVsKCiAgICBdLAopKQoKJycnLCBjaXRhdGlvbnM9J2thbmVrbzIwMTFhJyk7\"));\n",
       "    "
      ],
      "text/plain": [
       "<IPython.core.display.Javascript object>"
      ]
     },
     "metadata": {},
     "output_type": "display_data"
    },
    {
     "data": {
      "application/javascript": [
       "$('span:contains(\"# Temp\")').closest('.cell').remove();"
      ],
      "text/plain": [
       "<IPython.core.display.Javascript object>"
      ]
     },
     "metadata": {},
     "output_type": "display_data"
    },
    {
     "data": {
      "application/javascript": [
       "\n",
       "        $('span:contains(\"# Temp\")').closest('.cell').remove();\n",
       "        var code = IPython.notebook.insert_cell_below('code');\n",
       "        code.set_text(atob(\"IyBUZW1wCmluc2VydCgnJycKYmVja2VyMTk5OWEgPSBEQihXb3JrVW5yZWxhdGVkKAogICAgMTk5OSwgIkFsaWduaW5nIHN0cmF0ZWdpYyBhbmQgcHJvamVjdCBtZWFzdXJlbWVudCBzeXN0ZW1zIiwKICAgIGRpc3BsYXk9ImJlY2tlciIsCiAgICBhdXRob3JzPSJCZWNrZXIsIFMuQS4gYW5kIEJvc3RlbG1hbiwgTS5MLiIsCiAgICBwbGFjZT1JRUVFUywKICAgIHBwPSI0Ni01MSIsCiAgICBlbnRyeXR5cGU9ImFydGljbGUiLAogICAgdm9sdW1lPSIxNiIsCiAgICBudW1iZXI9IjMiLAogICAgZG9pPSIxMC4xMTA5LzUyLjc2NTc4NiIsCiAgICBub3RlPSJjaXRlZCBCeSAxOSIsCiAgICBJRD0iQmVja2VyMTk5OTQ2IiwKICAgIHBsYWNleD0iSUVFRSBTb2Z0d2FyZSIsCikpCgpEQihDaXRhdGlvbigKICAgIGthbmVrbzIwMTFhLCBiZWNrZXIxOTk5YSwgcmVmPSIiLAogICAgY29udGV4dHM9WwoKICAgIF0sCikpCgonJycsIGNpdGF0aW9ucz0na2FuZWtvMjAxMWEnKTs=\"));\n",
       "    "
      ],
      "text/plain": [
       "<IPython.core.display.Javascript object>"
      ]
     },
     "metadata": {},
     "output_type": "display_data"
    },
    {
     "data": {
      "application/javascript": [
       "$('span:contains(\"# Temp\")').closest('.cell').remove();"
      ],
      "text/plain": [
       "<IPython.core.display.Javascript object>"
      ]
     },
     "metadata": {},
     "output_type": "display_data"
    },
    {
     "data": {
      "application/javascript": [
       "\n",
       "        $('span:contains(\"# Temp\")').closest('.cell').remove();\n",
       "        var code = IPython.notebook.insert_cell_below('code');\n",
       "        code.set_text(atob(\"IyBUZW1wCmluc2VydCgnJycKYmVja2VyMTk5OWEgPSBEQihXb3JrVW5yZWxhdGVkKAogICAgMTk5OSwgIkFsaWduaW5nIHN0cmF0ZWdpYyBhbmQgcHJvamVjdCBtZWFzdXJlbWVudCBzeXN0ZW1zIiwKICAgIGRpc3BsYXk9ImJlY2tlciIsCiAgICBhdXRob3JzPSJCZWNrZXIsIFMuQS4gYW5kIEJvc3RlbG1hbiwgTS5MLiIsCiAgICBwbGFjZT1JRUVFUywKICAgIHBwPSI0Ni01MSIsCiAgICBlbnRyeXR5cGU9ImFydGljbGUiLAogICAgdm9sdW1lPSIxNiIsCiAgICBudW1iZXI9IjMiLAogICAgZG9pPSIxMC4xMTA5LzUyLjc2NTc4NiIsCiAgICBub3RlPSJjaXRlZCBCeSAxOSIsCiAgICBJRD0iQmVja2VyMTk5OTQ2IiwKICAgIHBsYWNleD0iSUVFRSBTb2Z0d2FyZSIsCikpCgpEQihDaXRhdGlvbigKICAgIGthbmVrbzIwMTFhLCBiZWNrZXIxOTk5YSwgcmVmPSIiLAogICAgY29udGV4dHM9WwoKICAgIF0sCikpCgonJycsIGNpdGF0aW9ucz0na2FuZWtvMjAxMWEnKTs=\"));\n",
       "    "
      ],
      "text/plain": [
       "<IPython.core.display.Javascript object>"
      ]
     },
     "metadata": {},
     "output_type": "display_data"
    },
    {
     "data": {
      "application/javascript": [
       "$('span:contains(\"# Temp\")').closest('.cell').remove();"
      ],
      "text/plain": [
       "<IPython.core.display.Javascript object>"
      ]
     },
     "metadata": {},
     "output_type": "display_data"
    },
    {
     "data": {
      "application/javascript": [
       "\n",
       "        $('span:contains(\"# Temp\")').closest('.cell').remove();\n",
       "        var code = IPython.notebook.insert_cell_below('code');\n",
       "        code.set_text(atob(\"IyBUZW1wCmluc2VydCgnJycKamF4YTIwMTJhID0gREIoV29ya1VucmVsYXRlZCgKICAgIDIwMTIsICJKQVhBIFZpc2lvbiAyMDI1IiwKICAgIGRpc3BsYXk9ImpheGEiLAogICAgYXV0aG9ycz0iSkFYQSIsCiAgICBwbGFjZT1GQUtFLAogICAgZW50cnl0eXBlPSJhcnRpY2xlIiwKICAgIG5vdGU9ImNpdGVkIEJ5IDEiLAogICAgSUQ9IkpBWEEyMDEyIiwKICAgIHBsYWNleD0iSmFwYW4gQWVyb3NwYWNlIEV4cGxvcmF0aW9uIEFnZW5jeSAoSkFYQSkiLAopKQoKREIoQ2l0YXRpb24oCiAgICBrYW5la28yMDExYSwgamF4YTIwMTJhLCByZWY9IiIsCiAgICBjb250ZXh0cz1bCgogICAgXSwKKSkKCicnJywgY2l0YXRpb25zPSdrYW5la28yMDExYScpOw==\"));\n",
       "    "
      ],
      "text/plain": [
       "<IPython.core.display.Javascript object>"
      ]
     },
     "metadata": {},
     "output_type": "display_data"
    },
    {
     "data": {
      "application/javascript": [
       "$('span:contains(\"# Temp\")').closest('.cell').remove();"
      ],
      "text/plain": [
       "<IPython.core.display.Javascript object>"
      ]
     },
     "metadata": {},
     "output_type": "display_data"
    },
    {
     "data": {
      "application/javascript": [
       "\n",
       "        $('span:contains(\"# Temp\")').closest('.cell').remove();\n",
       "        var code = IPython.notebook.insert_cell_below('code');\n",
       "        code.set_text(atob(\"IyBUZW1wCmluc2VydCgnJycKamF4YTIwMTJhID0gREIoV29ya1VucmVsYXRlZCgKICAgIDIwMTIsICJKQVhBIFZpc2lvbiAyMDI1IiwKICAgIGRpc3BsYXk9ImpheGEiLAogICAgYXV0aG9ycz0iSkFYQSIsCiAgICBwbGFjZT1GQUtFLAogICAgZW50cnl0eXBlPSJhcnRpY2xlIiwKICAgIG5vdGU9ImNpdGVkIEJ5IDEiLAogICAgSUQ9IkpBWEEyMDEyIiwKICAgIHBsYWNleD0iSmFwYW4gQWVyb3NwYWNlIEV4cGxvcmF0aW9uIEFnZW5jeSAoSkFYQSkiLAopKQoKREIoQ2l0YXRpb24oCiAgICBrYW5la28yMDExYSwgamF4YTIwMTJhLCByZWY9IiIsCiAgICBjb250ZXh0cz1bCgogICAgXSwKKSkKCicnJywgY2l0YXRpb25zPSdrYW5la28yMDExYScpOw==\"));\n",
       "    "
      ],
      "text/plain": [
       "<IPython.core.display.Javascript object>"
      ]
     },
     "metadata": {},
     "output_type": "display_data"
    }
   ],
   "source": [
    "import importlib\n",
    "import custom_snowballing\n",
    "importlib.reload(custom_snowballing)\n",
    "from custom_snowballing import UnrelatedBackward\n",
    "UnrelatedBackward(\"kaneko2011a\", articles=article_list)"
   ]
  },
  {
   "cell_type": "code",
   "execution_count": 25,
   "metadata": {},
   "outputs": [
    {
     "name": "stdout",
     "output_type": "stream",
     "text": [
      "-Insert: jaxa2012a\n",
      "-Insert Import: jaxa2012a\n",
      "-Insert Citation: kaneko2011a -> jaxa2012a\n"
     ]
    }
   ],
   "source": [
    "# Temp\n",
    "insert('''\n",
    "jaxa2012a = DB(WorkUnrelated(\n",
    "    2012, \"JAXA Vision 2025\",\n",
    "    display=\"jaxa\",\n",
    "    authors=\"JAXA\",\n",
    "    place=FAKE,\n",
    "    entrytype=\"article\",\n",
    "    note=\"cited By 1\",\n",
    "    ID=\"JAXA2012\",\n",
    "    placex=\"Japan Aerospace Exploration Agency (JAXA)\",\n",
    "))\n",
    "\n",
    "DB(Citation(\n",
    "    kaneko2011a, jaxa2012a, ref=\"\",\n",
    "    contexts=[\n",
    "\n",
    "    ],\n",
    "))\n",
    "\n",
    "''', citations='kaneko2011a');"
   ]
  },
  {
   "cell_type": "code",
   "execution_count": null,
   "metadata": {
    "collapsed": true
   },
   "outputs": [],
   "source": []
  }
 ],
 "metadata": {
  "kernelspec": {
   "display_name": "Python 3",
   "language": "python",
   "name": "python3"
  },
  "language_info": {
   "codemirror_mode": {
    "name": "ipython",
    "version": 3
   },
   "file_extension": ".py",
   "mimetype": "text/x-python",
   "name": "python",
   "nbconvert_exporter": "python",
   "pygments_lexer": "ipython3",
   "version": "3.6.0"
  },
  "toc": {
   "nav_menu": {
    "height": "12px",
    "width": "252px"
   },
   "number_sections": true,
   "sideBar": true,
   "skip_h1_title": false,
   "toc_cell": false,
   "toc_position": {},
   "toc_section_display": "block",
   "toc_window_display": false
  }
 },
 "nbformat": 4,
 "nbformat_minor": 2
}
