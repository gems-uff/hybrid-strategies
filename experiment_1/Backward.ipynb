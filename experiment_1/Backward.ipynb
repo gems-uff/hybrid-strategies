{
 "cells": [
  {
   "cell_type": "code",
   "execution_count": 1,
   "metadata": {
    "collapsed": true
   },
   "outputs": [],
   "source": [
    "import database\n",
    "from snowballing.operations import load_work, reload, work_by_varname\n",
    "from snowballing.snowballing import Converter\n",
    "from snowballing.dbmanager import insert, set_attribute"
   ]
  },
  {
   "cell_type": "code",
   "execution_count": 48,
   "metadata": {
    "scrolled": false
   },
   "outputs": [
    {
     "data": {
      "application/vnd.jupyter.widget-view+json": {
       "model_id": "10f3acc878ad4840b032b32a0d5c3161",
       "version_major": 2,
       "version_minor": 0
      },
      "text/html": [
       "<p>Failed to display Jupyter Widget of type <code>VBox</code>.</p>\n",
       "<p>\n",
       "  If you're reading this message in Jupyter Notebook or JupyterLab, it may mean\n",
       "  that the widgets JavaScript is still loading. If this message persists, it\n",
       "  likely means that the widgets JavaScript library is either not installed or\n",
       "  not enabled. See the <a href=\"https://ipywidgets.readthedocs.io/en/stable/user_install.html\">Jupyter\n",
       "  Widgets Documentation</a> for setup instructions.\n",
       "</p>\n",
       "<p>\n",
       "  If you're reading this message in another notebook frontend (for example, a static\n",
       "  rendering on GitHub or <a href=\"https://nbviewer.jupyter.org/\">NBViewer</a>),\n",
       "  it may mean that your frontend doesn't currently support widgets.\n",
       "</p>\n"
      ],
      "text/plain": [
       "VBox(children=(HBox(children=(Dropdown(index=1, options={'BibTeX': 'bibtex', 'Text': 'text', '[N] author name place other year': 'citation', 'Quoted': 'quoted'}, value='text'), Button(description='Set article_list variable', disabled=True, style=ButtonStyle()), Label(value=''))), HBox(children=(Textarea(value='', layout=Layout(height='500px', width='50%')), Textarea(value='', layout=Layout(height='500px', width='50%'))))))"
      ]
     },
     "metadata": {},
     "output_type": "display_data"
    }
   ],
   "source": [
    "Converter().browser()"
   ]
  },
  {
   "cell_type": "code",
   "execution_count": 97,
   "metadata": {},
   "outputs": [
    {
     "data": {
      "application/vnd.jupyter.widget-view+json": {
       "model_id": "d2cffd35ef5245e7b7bc1e5e1a3a021d",
       "version_major": 2,
       "version_minor": 0
      },
      "text/html": [
       "<p>Failed to display Jupyter Widget of type <code>VBox</code>.</p>\n",
       "<p>\n",
       "  If you're reading this message in Jupyter Notebook or JupyterLab, it may mean\n",
       "  that the widgets JavaScript is still loading. If this message persists, it\n",
       "  likely means that the widgets JavaScript library is either not installed or\n",
       "  not enabled. See the <a href=\"https://ipywidgets.readthedocs.io/en/stable/user_install.html\">Jupyter\n",
       "  Widgets Documentation</a> for setup instructions.\n",
       "</p>\n",
       "<p>\n",
       "  If you're reading this message in another notebook frontend (for example, a static\n",
       "  rendering on GitHub or <a href=\"https://nbviewer.jupyter.org/\">NBViewer</a>),\n",
       "  it may mean that your frontend doesn't currently support widgets.\n",
       "</p>\n"
      ],
      "text/plain": [
       "VBox(children=(HBox(children=(Dropdown(index=1, options={'BibTeX': 'bibtex', 'Text': 'text', '[N] author name place other year': 'citation', 'Quoted': 'quoted'}, value='text'), Button(description='Set article_list variable', disabled=True, style=ButtonStyle()), Label(value=''))), HBox(children=(Textarea(value='', layout=Layout(height='500px', width='50%')), Textarea(value='', layout=Layout(height='500px', width='50%'))))))"
      ]
     },
     "metadata": {},
     "output_type": "display_data"
    }
   ],
   "source": [
    "Converter().browser()"
   ]
  },
  {
   "cell_type": "code",
   "execution_count": 103,
   "metadata": {},
   "outputs": [
    {
     "data": {
      "text/plain": [
       "8"
      ]
     },
     "execution_count": 103,
     "metadata": {},
     "output_type": "execute_result"
    }
   ],
   "source": [
    "len(article_list)"
   ]
  },
  {
   "cell_type": "code",
   "execution_count": null,
   "metadata": {
    "collapsed": true
   },
   "outputs": [],
   "source": [
    "#from database.work.y2015 import li2015a"
   ]
  },
  {
   "cell_type": "code",
   "execution_count": null,
   "metadata": {
    "collapsed": true
   },
   "outputs": [],
   "source": [
    "#int(getattr(li2015a, 'scopus', 0))"
   ]
  },
  {
   "cell_type": "code",
   "execution_count": null,
   "metadata": {
    "collapsed": true
   },
   "outputs": [],
   "source": [
    "#print(article_list)"
   ]
  },
  {
   "cell_type": "code",
   "execution_count": null,
   "metadata": {
    "collapsed": true
   },
   "outputs": [],
   "source": []
  },
  {
   "cell_type": "code",
   "execution_count": null,
   "metadata": {
    "collapsed": true
   },
   "outputs": [],
   "source": []
  },
  {
   "cell_type": "code",
   "execution_count": null,
   "metadata": {
    "collapsed": true
   },
   "outputs": [],
   "source": []
  },
  {
   "cell_type": "code",
   "execution_count": 104,
   "metadata": {},
   "outputs": [
    {
     "data": {
      "application/vnd.jupyter.widget-view+json": {
       "model_id": "464ac3dcb9d542819e303bcab65340d4",
       "version_major": 2,
       "version_minor": 0
      },
      "text/html": [
       "<p>Failed to display Jupyter Widget of type <code>VBox</code>.</p>\n",
       "<p>\n",
       "  If you're reading this message in Jupyter Notebook or JupyterLab, it may mean\n",
       "  that the widgets JavaScript is still loading. If this message persists, it\n",
       "  likely means that the widgets JavaScript library is either not installed or\n",
       "  not enabled. See the <a href=\"https://ipywidgets.readthedocs.io/en/stable/user_install.html\">Jupyter\n",
       "  Widgets Documentation</a> for setup instructions.\n",
       "</p>\n",
       "<p>\n",
       "  If you're reading this message in another notebook frontend (for example, a static\n",
       "  rendering on GitHub or <a href=\"https://nbviewer.jupyter.org/\">NBViewer</a>),\n",
       "  it may mean that your frontend doesn't currently support widgets.\n",
       "</p>\n"
      ],
      "text/plain": [
       "VBox(children=(HBox(children=(Button(description='Previous Article', disabled=True, icon='caret-left', style=ButtonStyle()), Button(description='Reload Article', icon='refresh', style=ButtonStyle()), Button(description='Next Article', icon='caret-right', style=ButtonStyle()))), HBox(children=(Button(description='Unrelated: Scripts', style=ButtonStyle()), Button(description='Unrelated: Provenance', style=ButtonStyle()), Button(description='Both', style=ButtonStyle()), Button(description='Ok', style=ButtonStyle()))), HBox(children=(Dropdown(description='Type', index=3, options=('Work', 'WorkSnowball', 'WorkOk', 'WorkUnrelated', 'WorkNoFile', 'WorkLang', 'Site', 'Email'), value='WorkUnrelated'), ToggleButton(value=False, description='File'))), HBox(children=(Text(value='', description='Due'), Text(value='', description='Place'))), HBox(children=(Text(value='', description='Year'), Text(value='', description='Prefix Var'))), HBox(children=(Text(value='', description='PDFPage'), Text(value='', description='Related'))), HBox(children=(Text(value='', description='Display'), Text(value='', description='Summary'))), HBox(children=(Text(value='', description='Star'), Text(value='', description='Link'))), HBox(children=(Button(description='Reload Article', icon='refresh', style=ButtonStyle()), IntSlider(value=0, max=7), Label(value='1/8'))), Output()))"
      ]
     },
     "metadata": {},
     "output_type": "display_data"
    },
    {
     "data": {
      "application/javascript": [
       "$('span:contains(\"# Temp\")').closest('.cell').remove();"
      ],
      "text/plain": [
       "<IPython.core.display.Javascript object>"
      ]
     },
     "metadata": {},
     "output_type": "display_data"
    },
    {
     "data": {
      "application/javascript": [
       "\n",
       "        $('span:contains(\"# Temp\")').closest('.cell').remove();\n",
       "        var code = IPython.notebook.insert_cell_below('code');\n",
       "        code.set_text(atob(\"IyBUZW1wCmluc2VydCgnJycKYmFzaWxpMTk4OGIgPSBEQihXb3JrVW5yZWxhdGVkKAogICAgMTk4OCwgIlRoZSBUQU1FIHByb2plY3Q6IHRvd2FyZHMgaW1wcm92ZW1lbnQtb3JpZW50ZWQgc29mdHdhcmUgZW52aXJvbm1lbnRzLiBJRUVFIFRyYW5zYWN0aW9ucyBvbiBTb2Z0d2FyZSBFbmdpbmVlcmluZyIsCiAgICBkaXNwbGF5PSJiYXNpbGkgYiIsCiAgICBhdXRob3JzPSJWLiBCYXNpbGksICBILiwgUm9tYmFjaCIsCiAgICBwbGFjZT1GQUtFLAogICAgcGxhY2V4PSIxNDogNzU4ljc3MyIsCikpCgpEQihDaXRhdGlvbigKICAgIGRlYm91MjAwMGEsIGJhc2lsaTE5ODhiLCByZWY9IlsxXSIsCiAgICBjb250ZXh0cz1bCgogICAgXSwKKSkKCicnJywgY2l0YXRpb25zPSdkZWJvdTIwMDBhJyk7\"));\n",
       "    "
      ],
      "text/plain": [
       "<IPython.core.display.Javascript object>"
      ]
     },
     "metadata": {},
     "output_type": "display_data"
    },
    {
     "data": {
      "application/javascript": [
       "$('span:contains(\"# Temp\")').closest('.cell').remove();"
      ],
      "text/plain": [
       "<IPython.core.display.Javascript object>"
      ]
     },
     "metadata": {},
     "output_type": "display_data"
    },
    {
     "data": {
      "application/javascript": [
       "\n",
       "        $('span:contains(\"# Temp\")').closest('.cell').remove();\n",
       "        var code = IPython.notebook.insert_cell_below('code');\n",
       "        code.set_text(atob(\"IyBUZW1wCmluc2VydCgnJycKZGVib3UxOTk1YSA9IERCKFdvcmtVbnJlbGF0ZWQoCiAgICAxOTk1LCAiYW1pOiBhIHRhaWxvcmFibGUgZnJhbWV3b3JrIGZvciBzb2Z0d2FyZSBwcm9jZXNzIGltcHJvdmVtZW50LiIsCiAgICBkaXNwbGF5PSJkZWJvdSIsCiAgICBhdXRob3JzPSJDLiBEZWJvdSwgTiBGdWNocywgTSBIYXV4IiwKICAgIHBsYWNlPUZBS0UsCiAgICBwbGFjZXg9IlByb2NlZWRpbmdzIG9mIHRoZSBzZWNvbmQgSVNDTiBTZW1pbmFyLCBWaWVubmEsIFNlcHRlbWJlci4iLAopKQoKREIoQ2l0YXRpb24oCiAgICBkZWJvdTIwMDBhLCBkZWJvdTE5OTVhLCByZWY9IlsyXSIsCiAgICBjb250ZXh0cz1bCgogICAgXSwKKSkKCicnJywgY2l0YXRpb25zPSdkZWJvdTIwMDBhJyk7\"));\n",
       "    "
      ],
      "text/plain": [
       "<IPython.core.display.Javascript object>"
      ]
     },
     "metadata": {},
     "output_type": "display_data"
    },
    {
     "data": {
      "application/javascript": [
       "$('span:contains(\"# Temp\")').closest('.cell').remove();"
      ],
      "text/plain": [
       "<IPython.core.display.Javascript object>"
      ]
     },
     "metadata": {},
     "output_type": "display_data"
    },
    {
     "data": {
      "application/javascript": [
       "\n",
       "        $('span:contains(\"# Temp\")').closest('.cell').remove();\n",
       "        var code = IPython.notebook.insert_cell_below('code');\n",
       "        code.set_text(atob(\"IyBUZW1wCmluc2VydCgnJycKZGVib3UxOTk1YSA9IERCKFdvcmtVbnJlbGF0ZWQoCiAgICAxOTk1LCAiYW1pOiBhIHRhaWxvcmFibGUgZnJhbWV3b3JrIGZvciBzb2Z0d2FyZSBwcm9jZXNzIGltcHJvdmVtZW50LiIsCiAgICBkaXNwbGF5PSJkZWJvdSIsCiAgICBhdXRob3JzPSJDLiBEZWJvdSwgTiBGdWNocywgTSBIYXV4IiwKICAgIHBsYWNlPUZBS0UsCiAgICBwbGFjZXg9IlByb2NlZWRpbmdzIG9mIHRoZSBzZWNvbmQgSVNDTiBTZW1pbmFyLCBWaWVubmEsIFNlcHRlbWJlci4iLAopKQoKREIoQ2l0YXRpb24oCiAgICBkZWJvdTIwMDBhLCBkZWJvdTE5OTVhLCByZWY9IlsyXSIsCiAgICBjb250ZXh0cz1bCgogICAgXSwKKSkKCicnJywgY2l0YXRpb25zPSdkZWJvdTIwMDBhJyk7\"));\n",
       "    "
      ],
      "text/plain": [
       "<IPython.core.display.Javascript object>"
      ]
     },
     "metadata": {},
     "output_type": "display_data"
    },
    {
     "data": {
      "application/javascript": [
       "$('span:contains(\"# Temp\")').closest('.cell').remove();"
      ],
      "text/plain": [
       "<IPython.core.display.Javascript object>"
      ]
     },
     "metadata": {},
     "output_type": "display_data"
    },
    {
     "data": {
      "application/javascript": [
       "\n",
       "        $('span:contains(\"# Temp\")').closest('.cell').remove();\n",
       "        var code = IPython.notebook.insert_cell_below('code');\n",
       "        code.set_text(atob(\"IyBUZW1wCmluc2VydCgnJycKbWNmZWVsZXkxOTk2YyA9IERCKFdvcmtVbnJlbGF0ZWQoCiAgICAxOTk2LCAiMTk5NiIsCiAgICBkaXNwbGF5PSJtY2ZlZWxleSBjIiwKICAgIGF1dGhvcnM9IkIuIE1jRmVlbGV5IiwKICAgIHBsYWNlPUZBS0UsCiAgICBvdGhlcjE9IkNNL1NFSS05Ni1IQi0wMDEsIFNvZnR3YXJlIEVuZ2luZWVyaW5nIEluc3RpdHV0ZS4iLAogICAgcGxhY2V4PSJJREVBTDogQSBVc2VyknMgR3VpZGUgZm9yIFNvZnR3YXJlIFByb2Nlc3MgSW1wcm92ZW1lbnQuIiwKKSkKCkRCKENpdGF0aW9uKAogICAgZGVib3UyMDAwYSwgbWNmZWVsZXkxOTk2YywgcmVmPSJbM10iLAogICAgY29udGV4dHM9WwoKICAgIF0sCikpCgonJycsIGNpdGF0aW9ucz0nZGVib3UyMDAwYScpOw==\"));\n",
       "    "
      ],
      "text/plain": [
       "<IPython.core.display.Javascript object>"
      ]
     },
     "metadata": {},
     "output_type": "display_data"
    },
    {
     "data": {
      "application/javascript": [
       "$('span:contains(\"# Temp\")').closest('.cell').remove();"
      ],
      "text/plain": [
       "<IPython.core.display.Javascript object>"
      ]
     },
     "metadata": {},
     "output_type": "display_data"
    },
    {
     "data": {
      "application/javascript": [
       "\n",
       "        $('span:contains(\"# Temp\")').closest('.cell').remove();\n",
       "        var code = IPython.notebook.insert_cell_below('code');\n",
       "        code.set_text(atob(\"IyBUZW1wCmluc2VydCgnJycKbWNmZWVsZXkxOTk2YyA9IERCKFdvcmtVbnJlbGF0ZWQoCiAgICAxOTk2LCAiMTk5NiIsCiAgICBkaXNwbGF5PSJtY2ZlZWxleSBjIiwKICAgIGF1dGhvcnM9IkIuIE1jRmVlbGV5IiwKICAgIHBsYWNlPUZBS0UsCiAgICBvdGhlcjE9IkNNL1NFSS05Ni1IQi0wMDEsIFNvZnR3YXJlIEVuZ2luZWVyaW5nIEluc3RpdHV0ZS4iLAogICAgcGxhY2V4PSJJREVBTDogQSBVc2VyknMgR3VpZGUgZm9yIFNvZnR3YXJlIFByb2Nlc3MgSW1wcm92ZW1lbnQuIiwKKSkKCkRCKENpdGF0aW9uKAogICAgZGVib3UyMDAwYSwgbWNmZWVsZXkxOTk2YywgcmVmPSJbM10iLAogICAgY29udGV4dHM9WwoKICAgIF0sCikpCgonJycsIGNpdGF0aW9ucz0nZGVib3UyMDAwYScpOw==\"));\n",
       "    "
      ],
      "text/plain": [
       "<IPython.core.display.Javascript object>"
      ]
     },
     "metadata": {},
     "output_type": "display_data"
    },
    {
     "data": {
      "application/javascript": [
       "$('span:contains(\"# Temp\")').closest('.cell').remove();"
      ],
      "text/plain": [
       "<IPython.core.display.Javascript object>"
      ]
     },
     "metadata": {},
     "output_type": "display_data"
    },
    {
     "data": {
      "application/javascript": [
       "\n",
       "        $('span:contains(\"# Temp\")').closest('.cell').remove();\n",
       "        var code = IPython.notebook.insert_cell_below('code');\n",
       "        code.set_text(atob(\"IyBUZW1wCmluc2VydCgnJycKbWNnYXJyeTE5OTRhID0gREIoV29ya1VucmVsYXRlZCgKICAgIDE5OTQsICJTb2Z0d2FyZSBwcm9jZXNzIGltcHJvdmVtZW50IGluIHRoZSBOQVNBIFNvZnR3YXJlIEVuZ2luZWVyaW5nIExhYm9yYXRvcnkuIiwKICAgIGRpc3BsYXk9Im1jZ2FycnkiLAogICAgYXV0aG9ycz0iRiBNY0dhcnJ5LCBSIFBhamVyc2t5LCBHIFBhZ2UsICBTIFdhbGlnb3JhLCBWIEJhc2lsaSwgTSBaZWxrb3dpdHoiLAogICAgcGxhY2U9RkFLRSwKICAgIHBsYWNleD0iQ01VL1NFSTk0LVRSMjIuIiwKKSkKCkRCKENpdGF0aW9uKAogICAgZGVib3UyMDAwYSwgbWNnYXJyeTE5OTRhLCByZWY9Ils0XSIsCiAgICBjb250ZXh0cz1bCgogICAgXSwKKSkKCicnJywgY2l0YXRpb25zPSdkZWJvdTIwMDBhJyk7\"));\n",
       "    "
      ],
      "text/plain": [
       "<IPython.core.display.Javascript object>"
      ]
     },
     "metadata": {},
     "output_type": "display_data"
    },
    {
     "data": {
      "application/javascript": [
       "$('span:contains(\"# Temp\")').closest('.cell').remove();"
      ],
      "text/plain": [
       "<IPython.core.display.Javascript object>"
      ]
     },
     "metadata": {},
     "output_type": "display_data"
    },
    {
     "data": {
      "application/javascript": [
       "\n",
       "        $('span:contains(\"# Temp\")').closest('.cell').remove();\n",
       "        var code = IPython.notebook.insert_cell_below('code');\n",
       "        code.set_text(atob(\"IyBUZW1wCmluc2VydCgnJycKbWNnYXJyeTE5OTRhID0gREIoV29ya1VucmVsYXRlZCgKICAgIDE5OTQsICJTb2Z0d2FyZSBwcm9jZXNzIGltcHJvdmVtZW50IGluIHRoZSBOQVNBIFNvZnR3YXJlIEVuZ2luZWVyaW5nIExhYm9yYXRvcnkuIiwKICAgIGRpc3BsYXk9Im1jZ2FycnkiLAogICAgYXV0aG9ycz0iRiBNY0dhcnJ5LCBSIFBhamVyc2t5LCBHIFBhZ2UsICBTIFdhbGlnb3JhLCBWIEJhc2lsaSwgTSBaZWxrb3dpdHoiLAogICAgcGxhY2U9RkFLRSwKICAgIHBsYWNleD0iQ01VL1NFSTk0LVRSMjIuIiwKKSkKCkRCKENpdGF0aW9uKAogICAgZGVib3UyMDAwYSwgbWNnYXJyeTE5OTRhLCByZWY9Ils0XSIsCiAgICBjb250ZXh0cz1bCgogICAgXSwKKSkKCicnJywgY2l0YXRpb25zPSdkZWJvdTIwMDBhJyk7\"));\n",
       "    "
      ],
      "text/plain": [
       "<IPython.core.display.Javascript object>"
      ]
     },
     "metadata": {},
     "output_type": "display_data"
    },
    {
     "data": {
      "application/javascript": [
       "$('span:contains(\"# Temp\")').closest('.cell').remove();"
      ],
      "text/plain": [
       "<IPython.core.display.Javascript object>"
      ]
     },
     "metadata": {},
     "output_type": "display_data"
    },
    {
     "data": {
      "application/javascript": [
       "\n",
       "        $('span:contains(\"# Temp\")').closest('.cell').remove();\n",
       "        var code = IPython.notebook.insert_cell_below('code');\n",
       "        code.set_text(atob(\"IyBUZW1wCmluc2VydCgnJycKREIoQ2l0YXRpb24oCiAgICBkZWJvdTIwMDBhLCBwYXVsazE5OTNhLCByZWY9Ils1XSIsCiAgICBjb250ZXh0cz1bCgogICAgXSwKKSkKCicnJywgY2l0YXRpb25zPSdkZWJvdTIwMDBhJyk7\"));\n",
       "    "
      ],
      "text/plain": [
       "<IPython.core.display.Javascript object>"
      ]
     },
     "metadata": {},
     "output_type": "display_data"
    },
    {
     "data": {
      "application/javascript": [
       "$('span:contains(\"# Temp\")').closest('.cell').remove();"
      ],
      "text/plain": [
       "<IPython.core.display.Javascript object>"
      ]
     },
     "metadata": {},
     "output_type": "display_data"
    },
    {
     "data": {
      "application/javascript": [
       "\n",
       "        $('span:contains(\"# Temp\")').closest('.cell').remove();\n",
       "        var code = IPython.notebook.insert_cell_below('code');\n",
       "        code.set_text(atob(\"IyBUZW1wCmluc2VydCgnJycKREIoQ2l0YXRpb24oCiAgICBkZWJvdTIwMDBhLCBwYXVsazE5OTNhLCByZWY9Ils1XSIsCiAgICBjb250ZXh0cz1bCgogICAgXSwKKSkKCicnJywgY2l0YXRpb25zPSdkZWJvdTIwMDBhJyk7\"));\n",
       "    "
      ],
      "text/plain": [
       "<IPython.core.display.Javascript object>"
      ]
     },
     "metadata": {},
     "output_type": "display_data"
    },
    {
     "data": {
      "application/javascript": [
       "$('span:contains(\"# Temp\")').closest('.cell').remove();"
      ],
      "text/plain": [
       "<IPython.core.display.Javascript object>"
      ]
     },
     "metadata": {},
     "output_type": "display_data"
    },
    {
     "data": {
      "application/javascript": [
       "\n",
       "        $('span:contains(\"# Temp\")').closest('.cell').remove();\n",
       "        var code = IPython.notebook.insert_cell_below('code');\n",
       "        code.set_text(atob(\"IyBUZW1wCmluc2VydCgnJycKREIoQ2l0YXRpb24oCiAgICBkZWJvdTIwMDBhLCBwYXVsazE5OTNlLCByZWY9Ils2XSIsCiAgICBjb250ZXh0cz1bCgogICAgXSwKKSkKCicnJywgY2l0YXRpb25zPSdkZWJvdTIwMDBhJyk7\"));\n",
       "    "
      ],
      "text/plain": [
       "<IPython.core.display.Javascript object>"
      ]
     },
     "metadata": {},
     "output_type": "display_data"
    },
    {
     "data": {
      "application/javascript": [
       "$('span:contains(\"# Temp\")').closest('.cell').remove();"
      ],
      "text/plain": [
       "<IPython.core.display.Javascript object>"
      ]
     },
     "metadata": {},
     "output_type": "display_data"
    },
    {
     "data": {
      "application/javascript": [
       "\n",
       "        $('span:contains(\"# Temp\")').closest('.cell').remove();\n",
       "        var code = IPython.notebook.insert_cell_below('code');\n",
       "        code.set_text(atob(\"IyBUZW1wCmluc2VydCgnJycKREIoQ2l0YXRpb24oCiAgICBkZWJvdTIwMDBhLCBwYXVsazE5OTNlLCByZWY9Ils2XSIsCiAgICBjb250ZXh0cz1bCgogICAgXSwKKSkKCicnJywgY2l0YXRpb25zPSdkZWJvdTIwMDBhJyk7\"));\n",
       "    "
      ],
      "text/plain": [
       "<IPython.core.display.Javascript object>"
      ]
     },
     "metadata": {},
     "output_type": "display_data"
    },
    {
     "data": {
      "application/javascript": [
       "$('span:contains(\"# Temp\")').closest('.cell').remove();"
      ],
      "text/plain": [
       "<IPython.core.display.Javascript object>"
      ]
     },
     "metadata": {},
     "output_type": "display_data"
    },
    {
     "data": {
      "application/javascript": [
       "\n",
       "        $('span:contains(\"# Temp\")').closest('.cell').remove();\n",
       "        var code = IPython.notebook.insert_cell_below('code');\n",
       "        code.set_text(atob(\"IyBUZW1wCmluc2VydCgnJycKcHVsZm9yZDE5OTVhID0gREIoV29ya1VucmVsYXRlZCgKICAgIDE5OTUsICJBIFF1YW50aXRhdGl2ZSBBcHByb2FjaCB0byBTb2Z0d2FyZSBtYW5hZ2VtZW50IJYgdGhlIGFtaSIsCiAgICBkaXNwbGF5PSJwdWxmb3JkIiwKICAgIGF1dGhvcnM9IksgUHVsZm9yZCwgQSBLdW50em1hbm4tQ29tYmVsbGVzICwgIFMgU2hpcmxhdyIsCiAgICBwbGFjZT1GQUtFLAogICAgcGxhY2V4PSJIYW5kYm9vay4gQWRkaXNvbiBXZXNsZXkuIiwKKSkKCkRCKENpdGF0aW9uKAogICAgZGVib3UyMDAwYSwgcHVsZm9yZDE5OTVhLCByZWY9Ils3XSIsCiAgICBjb250ZXh0cz1bCgogICAgXSwKKSkKCicnJywgY2l0YXRpb25zPSdkZWJvdTIwMDBhJyk7\"));\n",
       "    "
      ],
      "text/plain": [
       "<IPython.core.display.Javascript object>"
      ]
     },
     "metadata": {},
     "output_type": "display_data"
    },
    {
     "data": {
      "application/javascript": [
       "$('span:contains(\"# Temp\")').closest('.cell').remove();"
      ],
      "text/plain": [
       "<IPython.core.display.Javascript object>"
      ]
     },
     "metadata": {},
     "output_type": "display_data"
    },
    {
     "data": {
      "application/javascript": [
       "\n",
       "        $('span:contains(\"# Temp\")').closest('.cell').remove();\n",
       "        var code = IPython.notebook.insert_cell_below('code');\n",
       "        code.set_text(atob(\"IyBUZW1wCmluc2VydCgnJycKcHVsZm9yZDE5OTVhID0gREIoV29ya1VucmVsYXRlZCgKICAgIDE5OTUsICJBIFF1YW50aXRhdGl2ZSBBcHByb2FjaCB0byBTb2Z0d2FyZSBtYW5hZ2VtZW50IJYgdGhlIGFtaSIsCiAgICBkaXNwbGF5PSJwdWxmb3JkIiwKICAgIGF1dGhvcnM9IksgUHVsZm9yZCwgQSBLdW50em1hbm4tQ29tYmVsbGVzICwgIFMgU2hpcmxhdyIsCiAgICBwbGFjZT1GQUtFLAogICAgcGxhY2V4PSJIYW5kYm9vay4gQWRkaXNvbiBXZXNsZXkuIiwKKSkKCkRCKENpdGF0aW9uKAogICAgZGVib3UyMDAwYSwgcHVsZm9yZDE5OTVhLCByZWY9Ils3XSIsCiAgICBjb250ZXh0cz1bCgogICAgXSwKKSkKCicnJywgY2l0YXRpb25zPSdkZWJvdTIwMDBhJyk7\"));\n",
       "    "
      ],
      "text/plain": [
       "<IPython.core.display.Javascript object>"
      ]
     },
     "metadata": {},
     "output_type": "display_data"
    },
    {
     "data": {
      "application/javascript": [
       "$('span:contains(\"# Temp\")').closest('.cell').remove();"
      ],
      "text/plain": [
       "<IPython.core.display.Javascript object>"
      ]
     },
     "metadata": {},
     "output_type": "display_data"
    },
    {
     "data": {
      "application/javascript": [
       "\n",
       "        $('span:contains(\"# Temp\")').closest('.cell').remove();\n",
       "        var code = IPython.notebook.insert_cell_below('code');\n",
       "        code.set_text(atob(\"IyBUZW1wCmluc2VydCgnJycKc3BpY2UxOTk3YSA9IERCKFdvcmtVbnJlbGF0ZWQoCiAgICAxOTk3LCAiR3VpZGUgZm9yIFVzZSBpbiBQcm9jZXNzIEltcHJvdmVtZW50LiIsCiAgICBkaXNwbGF5PSJzcGljZSIsCiAgICBhdXRob3JzPSJTUElDRSIsCiAgICBwbGFjZT1GQUtFLAogICAgcGxhY2V4PSJJU08vSUVDIEpUQzEvU0M3LiIsCikpCgpEQihDaXRhdGlvbigKICAgIGRlYm91MjAwMGEsIHNwaWNlMTk5N2EsIHJlZj0iWzhdIiwKICAgIGNvbnRleHRzPVsKCiAgICBdLAopKQoKJycnLCBjaXRhdGlvbnM9J2RlYm91MjAwMGEnKTs=\"));\n",
       "    "
      ],
      "text/plain": [
       "<IPython.core.display.Javascript object>"
      ]
     },
     "metadata": {},
     "output_type": "display_data"
    },
    {
     "data": {
      "application/javascript": [
       "$('span:contains(\"# Temp\")').closest('.cell').remove();"
      ],
      "text/plain": [
       "<IPython.core.display.Javascript object>"
      ]
     },
     "metadata": {},
     "output_type": "display_data"
    },
    {
     "data": {
      "application/javascript": [
       "\n",
       "        $('span:contains(\"# Temp\")').closest('.cell').remove();\n",
       "        var code = IPython.notebook.insert_cell_below('code');\n",
       "        code.set_text(atob(\"IyBUZW1wCmluc2VydCgnJycKc3BpY2UxOTk3YSA9IERCKFdvcmtVbnJlbGF0ZWQoCiAgICAxOTk3LCAiR3VpZGUgZm9yIFVzZSBpbiBQcm9jZXNzIEltcHJvdmVtZW50LiIsCiAgICBkaXNwbGF5PSJzcGljZSIsCiAgICBhdXRob3JzPSJTUElDRSIsCiAgICBwbGFjZT1GQUtFLAogICAgcGxhY2V4PSJJU08vSUVDIEpUQzEvU0M3LiIsCikpCgpEQihDaXRhdGlvbigKICAgIGRlYm91MjAwMGEsIHNwaWNlMTk5N2EsIHJlZj0iWzhdIiwKICAgIGNvbnRleHRzPVsKCiAgICBdLAopKQoKJycnLCBjaXRhdGlvbnM9J2RlYm91MjAwMGEnKTs=\"));\n",
       "    "
      ],
      "text/plain": [
       "<IPython.core.display.Javascript object>"
      ]
     },
     "metadata": {},
     "output_type": "display_data"
    }
   ],
   "source": [
    "import importlib\n",
    "import custom_snowballing\n",
    "importlib.reload(custom_snowballing)\n",
    "from custom_snowballing import UnrelatedBackward\n",
    "UnrelatedBackward(\"debou2000a\", articles=article_list)"
   ]
  },
  {
   "cell_type": "code",
   "execution_count": 112,
   "metadata": {},
   "outputs": [
    {
     "name": "stdout",
     "output_type": "stream",
     "text": [
      "-Insert: spice1997a\n",
      "-Insert Import: spice1997a\n",
      "-Insert Citation: debou2000a -> spice1997a\n"
     ]
    }
   ],
   "source": [
    "# Temp\n",
    "insert('''\n",
    "spice1997a = DB(WorkUnrelated(\n",
    "    1997, \"Guide for Use in Process Improvement.\",\n",
    "    display=\"spice\",\n",
    "    authors=\"SPICE\",\n",
    "    place=FAKE,\n",
    "    placex=\"ISO/IEC JTC1/SC7.\",\n",
    "))\n",
    "\n",
    "DB(Citation(\n",
    "    debou2000a, spice1997a, ref=\"[8]\",\n",
    "    contexts=[\n",
    "\n",
    "    ],\n",
    "))\n",
    "\n",
    "''', citations='debou2000a');"
   ]
  },
  {
   "cell_type": "code",
   "execution_count": null,
   "metadata": {
    "collapsed": true
   },
   "outputs": [],
   "source": []
  }
 ],
 "metadata": {
  "kernelspec": {
   "display_name": "Python 3",
   "language": "python",
   "name": "python3"
  },
  "language_info": {
   "codemirror_mode": {
    "name": "ipython",
    "version": 3
   },
   "file_extension": ".py",
   "mimetype": "text/x-python",
   "name": "python",
   "nbconvert_exporter": "python",
   "pygments_lexer": "ipython3",
   "version": "3.6.0"
  },
  "toc": {
   "nav_menu": {
    "height": "12px",
    "width": "252px"
   },
   "number_sections": true,
   "sideBar": true,
   "skip_h1_title": false,
   "toc_cell": false,
   "toc_position": {},
   "toc_section_display": "block",
   "toc_window_display": false
  }
 },
 "nbformat": 4,
 "nbformat_minor": 2
}
