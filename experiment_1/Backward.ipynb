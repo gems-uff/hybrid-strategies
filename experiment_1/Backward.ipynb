{
 "cells": [
  {
   "cell_type": "code",
   "execution_count": 31,
   "metadata": {
    "collapsed": true
   },
   "outputs": [],
   "source": [
    "import database\n",
    "from snowballing.operations import load_work, reload, work_by_varname\n",
    "from snowballing.snowballing import Converter\n",
    "from snowballing.dbmanager import insert, set_attribute"
   ]
  },
  {
   "cell_type": "code",
   "execution_count": 32,
   "metadata": {
    "scrolled": false
   },
   "outputs": [
    {
     "data": {
      "application/vnd.jupyter.widget-view+json": {
       "model_id": "df5eaad159a54ee9880b0f105bd5ac89",
       "version_major": 2,
       "version_minor": 0
      },
      "text/html": [
       "<p>Failed to display Jupyter Widget of type <code>VBox</code>.</p>\n",
       "<p>\n",
       "  If you're reading this message in Jupyter Notebook or JupyterLab, it may mean\n",
       "  that the widgets JavaScript is still loading. If this message persists, it\n",
       "  likely means that the widgets JavaScript library is either not installed or\n",
       "  not enabled. See the <a href=\"https://ipywidgets.readthedocs.io/en/stable/user_install.html\">Jupyter\n",
       "  Widgets Documentation</a> for setup instructions.\n",
       "</p>\n",
       "<p>\n",
       "  If you're reading this message in another notebook frontend (for example, a static\n",
       "  rendering on GitHub or <a href=\"https://nbviewer.jupyter.org/\">NBViewer</a>),\n",
       "  it may mean that your frontend doesn't currently support widgets.\n",
       "</p>\n"
      ],
      "text/plain": [
       "VBox(children=(HBox(children=(Dropdown(index=1, options={'BibTeX': 'bibtex', 'Text': 'text', '[N] author name place other year': 'citation', 'Quoted': 'quoted'}, value='text'), Button(description='Set article_list variable', disabled=True, style=ButtonStyle()), Label(value=''))), HBox(children=(Textarea(value='', layout=Layout(height='500px', width='50%')), Textarea(value='', layout=Layout(height='500px', width='50%'))))))"
      ]
     },
     "metadata": {},
     "output_type": "display_data"
    }
   ],
   "source": [
    "Converter().browser()"
   ]
  },
  {
   "cell_type": "code",
   "execution_count": 33,
   "metadata": {},
   "outputs": [
    {
     "data": {
      "text/plain": [
       "13"
      ]
     },
     "execution_count": 33,
     "metadata": {},
     "output_type": "execute_result"
    }
   ],
   "source": [
    "len(article_list)"
   ]
  },
  {
   "cell_type": "code",
   "execution_count": null,
   "metadata": {
    "collapsed": true
   },
   "outputs": [],
   "source": [
    "#from database.work.y2015 import li2015a"
   ]
  },
  {
   "cell_type": "code",
   "execution_count": null,
   "metadata": {
    "collapsed": true
   },
   "outputs": [],
   "source": [
    "#int(getattr(li2015a, 'scopus', 0))"
   ]
  },
  {
   "cell_type": "code",
   "execution_count": null,
   "metadata": {},
   "outputs": [],
   "source": [
    "#print(article_list)"
   ]
  },
  {
   "cell_type": "code",
   "execution_count": null,
   "metadata": {
    "collapsed": true
   },
   "outputs": [],
   "source": []
  },
  {
   "cell_type": "code",
   "execution_count": 34,
   "metadata": {},
   "outputs": [
    {
     "data": {
      "application/vnd.jupyter.widget-view+json": {
       "model_id": "26bd0aa08b89426888640c60c2f472cf",
       "version_major": 2,
       "version_minor": 0
      },
      "text/html": [
       "<p>Failed to display Jupyter Widget of type <code>VBox</code>.</p>\n",
       "<p>\n",
       "  If you're reading this message in Jupyter Notebook or JupyterLab, it may mean\n",
       "  that the widgets JavaScript is still loading. If this message persists, it\n",
       "  likely means that the widgets JavaScript library is either not installed or\n",
       "  not enabled. See the <a href=\"https://ipywidgets.readthedocs.io/en/stable/user_install.html\">Jupyter\n",
       "  Widgets Documentation</a> for setup instructions.\n",
       "</p>\n",
       "<p>\n",
       "  If you're reading this message in another notebook frontend (for example, a static\n",
       "  rendering on GitHub or <a href=\"https://nbviewer.jupyter.org/\">NBViewer</a>),\n",
       "  it may mean that your frontend doesn't currently support widgets.\n",
       "</p>\n"
      ],
      "text/plain": [
       "VBox(children=(HBox(children=(Button(description='Previous Article', disabled=True, icon='caret-left', style=ButtonStyle()), Button(description='Reload Article', icon='refresh', style=ButtonStyle()), Button(description='Next Article', icon='caret-right', style=ButtonStyle()))), HBox(children=(Button(description='Unrelated: Scripts', style=ButtonStyle()), Button(description='Unrelated: Provenance', style=ButtonStyle()), Button(description='Both', style=ButtonStyle()), Button(description='Ok', style=ButtonStyle()))), HBox(children=(Dropdown(description='Type', index=5, options=('Work', 'WorkSnowball', 'WorkForward', 'WorkBackward', 'WorkOk', 'WorkUnrelated', 'WorkNoFile', 'WorkLang', 'Site', 'Email'), value='WorkUnrelated'), ToggleButton(value=False, description='File'))), HBox(children=(Text(value='', description='Due'), Text(value='', description='Place'))), HBox(children=(Text(value='', description='Year'), Text(value='', description='Prefix Var'))), HBox(children=(Text(value='', description='PDFPage'), Text(value='', description='Related'))), HBox(children=(Text(value='', description='Display'), Text(value='', description='Summary'))), HBox(children=(Text(value='', description='Star'), Text(value='', description='Link'))), HBox(children=(Button(description='Reload Article', icon='refresh', style=ButtonStyle()), IntSlider(value=0, max=12), Label(value='1/13'))), Output()))"
      ]
     },
     "metadata": {},
     "output_type": "display_data"
    },
    {
     "data": {
      "application/javascript": [
       "$('span:contains(\"# Temp\")').closest('.cell').remove();"
      ],
      "text/plain": [
       "<IPython.core.display.Javascript object>"
      ]
     },
     "metadata": {},
     "output_type": "display_data"
    },
    {
     "data": {
      "application/javascript": [
       "\n",
       "        $('span:contains(\"# Temp\")').closest('.cell').remove();\n",
       "        var code = IPython.notebook.insert_cell_below('code');\n",
       "        code.set_text(atob(\"IyBUZW1wCmluc2VydCgnJycKY2hlY2tsYW5kMTk5MGEgPSBEQihXb3JrVW5yZWxhdGVkKAogICAgMTk5MCwgIlNvZnQgU3lzdGVtcyBNZXRob2RvbG9neSBpbiBBY3Rpb24iLAogICAgZGlzcGxheT0iY2hlY2tsYW5kIiwKICAgIGF1dGhvcnM9IkNoZWNrbGFuZCwgUC4gYW5kIEouIFNjaG9sZXMiLAogICAgcGxhY2U9RkFLRSwKICAgIGVudHJ5dHlwZT0iYXJ0aWNsZSIsCiAgICBub3RlPSJjaXRlZCBCeSAxIiwKICAgIElEPSJDaGVja2xhbmQxOTkwIiwKICAgIHBsYWNleD0iSm9obiBXaWxleSAmIFNvbnMiLAopKQoKREIoQ2l0YXRpb24oCiAgICBzb21tZXJ2aWxsZTE5OTlhLCBjaGVja2xhbmQxOTkwYSwgcmVmPSIiLAogICAgY29udGV4dHM9WwoKICAgIF0sCikpCgonJycsIGNpdGF0aW9ucz0nc29tbWVydmlsbGUxOTk5YScpOw==\"));\n",
       "    "
      ],
      "text/plain": [
       "<IPython.core.display.Javascript object>"
      ]
     },
     "metadata": {},
     "output_type": "display_data"
    },
    {
     "data": {
      "application/javascript": [
       "$('span:contains(\"# Temp\")').closest('.cell').remove();"
      ],
      "text/plain": [
       "<IPython.core.display.Javascript object>"
      ]
     },
     "metadata": {},
     "output_type": "display_data"
    },
    {
     "data": {
      "application/javascript": [
       "\n",
       "        $('span:contains(\"# Temp\")').closest('.cell').remove();\n",
       "        var code = IPython.notebook.insert_cell_below('code');\n",
       "        code.set_text(atob(\"IyBUZW1wCmluc2VydCgnJycKcm9tYmFjaDE5OTFhID0gREIoV29ya1VucmVsYXRlZCgKICAgIDE5OTEsICJNVlAtTCBBIExhbmd1YWdlIGZvciBQcm9jZXNzIE1vZGVsaW5nIEluLXRoZS1MYXJnZSIsCiAgICBkaXNwbGF5PSJyb21iYWNoIiwKICAgIGF1dGhvcnM9IlJvbWJhY2gsIEguRC4iLAogICAgcGxhY2U9RkFLRSwKICAgIGVudHJ5dHlwZT0iYXJ0aWNsZSIsCiAgICBub3RlPSJjaXRlZCBCeSAxIiwKICAgIElEPSJSb21iYWNoMTk5MSIsCiAgICBwbGFjZXg9Ikluc3QuIGZvciBBZHZhbmNlZCBDb21wdXRlciBTdHVkaWVzLCBVbml2LiBvZiBNYXJ5bGFuZCIsCikpCgpEQihDaXRhdGlvbigKICAgIHNvbW1lcnZpbGxlMTk5OWEsIHJvbWJhY2gxOTkxYSwgcmVmPSIiLAogICAgY29udGV4dHM9WwoKICAgIF0sCikpCgonJycsIGNpdGF0aW9ucz0nc29tbWVydmlsbGUxOTk5YScpOw==\"));\n",
       "    "
      ],
      "text/plain": [
       "<IPython.core.display.Javascript object>"
      ]
     },
     "metadata": {},
     "output_type": "display_data"
    },
    {
     "data": {
      "application/javascript": [
       "$('span:contains(\"# Temp\")').closest('.cell').remove();"
      ],
      "text/plain": [
       "<IPython.core.display.Javascript object>"
      ]
     },
     "metadata": {},
     "output_type": "display_data"
    },
    {
     "data": {
      "application/javascript": [
       "\n",
       "        $('span:contains(\"# Temp\")').closest('.cell').remove();\n",
       "        var code = IPython.notebook.insert_cell_below('code');\n",
       "        code.set_text(atob(\"IyBUZW1wCmluc2VydCgnJycKcm9tYmFjaDE5OTFhID0gREIoV29ya1VucmVsYXRlZCgKICAgIDE5OTEsICJNVlAtTCBBIExhbmd1YWdlIGZvciBQcm9jZXNzIE1vZGVsaW5nIEluLXRoZS1MYXJnZSIsCiAgICBkaXNwbGF5PSJyb21iYWNoIiwKICAgIGF1dGhvcnM9IlJvbWJhY2gsIEguRC4iLAogICAgcGxhY2U9RkFLRSwKICAgIGVudHJ5dHlwZT0iYXJ0aWNsZSIsCiAgICBub3RlPSJjaXRlZCBCeSAxIiwKICAgIElEPSJSb21iYWNoMTk5MSIsCiAgICBwbGFjZXg9Ikluc3QuIGZvciBBZHZhbmNlZCBDb21wdXRlciBTdHVkaWVzLCBVbml2LiBvZiBNYXJ5bGFuZCIsCikpCgpEQihDaXRhdGlvbigKICAgIHNvbW1lcnZpbGxlMTk5OWEsIHJvbWJhY2gxOTkxYSwgcmVmPSIiLAogICAgY29udGV4dHM9WwoKICAgIF0sCikpCgonJycsIGNpdGF0aW9ucz0nc29tbWVydmlsbGUxOTk5YScpOw==\"));\n",
       "    "
      ],
      "text/plain": [
       "<IPython.core.display.Javascript object>"
      ]
     },
     "metadata": {},
     "output_type": "display_data"
    },
    {
     "data": {
      "application/javascript": [
       "$('span:contains(\"# Temp\")').closest('.cell').remove();"
      ],
      "text/plain": [
       "<IPython.core.display.Javascript object>"
      ]
     },
     "metadata": {},
     "output_type": "display_data"
    },
    {
     "data": {
      "application/javascript": [
       "\n",
       "        $('span:contains(\"# Temp\")').closest('.cell').remove();\n",
       "        var code = IPython.notebook.insert_cell_below('code');\n",
       "        code.set_text(atob(\"IyBUZW1wCmluc2VydCgnJycKYnJvMTk5NWEgPSBEQihXb3JrVW5yZWxhdGVkKAogICAgMTk5NSwgIk1WUC1MIExhbmd1YWdlIFJlcG9ydCwgVmVyc2lvbiAyIiwKICAgIGRpc3BsYXk9ImJybyIsCiAgICBhdXRob3JzPSJCcm8sIEEuIENrZXJzLCBDLk0uIExvdHQsIEguRC4gUm9tYmFjaCwgYW5kIE0uIFZlcmxhZ2UiLAogICAgcGxhY2U9RkFLRSwKICAgIGVudHJ5dHlwZT0iYXJ0aWNsZSIsCiAgICBub3RlPSJjaXRlZCBCeSAxIiwKICAgIElEPSJCcm8xOTk1IiwKICAgIHBsYWNleD0iP0RlcHQuIG9mIENvbXB1dGVyIFNjaWVuY2UsIFVuaXYuIG9mIEthaXNlcnNsYXV0ZXJuLCBHZXJtYW55IiwKKSkKCkRCKENpdGF0aW9uKAogICAgc29tbWVydmlsbGUxOTk5YSwgYnJvMTk5NWEsIHJlZj0iIiwKICAgIGNvbnRleHRzPVsKCiAgICBdLAopKQoKJycnLCBjaXRhdGlvbnM9J3NvbW1lcnZpbGxlMTk5OWEnKTs=\"));\n",
       "    "
      ],
      "text/plain": [
       "<IPython.core.display.Javascript object>"
      ]
     },
     "metadata": {},
     "output_type": "display_data"
    },
    {
     "data": {
      "application/javascript": [
       "$('span:contains(\"# Temp\")').closest('.cell').remove();"
      ],
      "text/plain": [
       "<IPython.core.display.Javascript object>"
      ]
     },
     "metadata": {},
     "output_type": "display_data"
    },
    {
     "data": {
      "application/javascript": [
       "\n",
       "        $('span:contains(\"# Temp\")').closest('.cell').remove();\n",
       "        var code = IPython.notebook.insert_cell_below('code');\n",
       "        code.set_text(atob(\"IyBUZW1wCmluc2VydCgnJycKYnJvMTk5NWEgPSBEQihXb3JrVW5yZWxhdGVkKAogICAgMTk5NSwgIk1WUC1MIExhbmd1YWdlIFJlcG9ydCwgVmVyc2lvbiAyIiwKICAgIGRpc3BsYXk9ImJybyIsCiAgICBhdXRob3JzPSJCcm8sIEEuIENrZXJzLCBDLk0uIExvdHQsIEguRC4gUm9tYmFjaCwgYW5kIE0uIFZlcmxhZ2UiLAogICAgcGxhY2U9RkFLRSwKICAgIGVudHJ5dHlwZT0iYXJ0aWNsZSIsCiAgICBub3RlPSJjaXRlZCBCeSAxIiwKICAgIElEPSJCcm8xOTk1IiwKICAgIHBsYWNleD0iP0RlcHQuIG9mIENvbXB1dGVyIFNjaWVuY2UsIFVuaXYuIG9mIEthaXNlcnNsYXV0ZXJuLCBHZXJtYW55IiwKKSkKCkRCKENpdGF0aW9uKAogICAgc29tbWVydmlsbGUxOTk5YSwgYnJvMTk5NWEsIHJlZj0iIiwKICAgIGNvbnRleHRzPVsKCiAgICBdLAopKQoKJycnLCBjaXRhdGlvbnM9J3NvbW1lcnZpbGxlMTk5OWEnKTs=\"));\n",
       "    "
      ],
      "text/plain": [
       "<IPython.core.display.Javascript object>"
      ]
     },
     "metadata": {},
     "output_type": "display_data"
    },
    {
     "data": {
      "application/javascript": [
       "$('span:contains(\"# Temp\")').closest('.cell').remove();"
      ],
      "text/plain": [
       "<IPython.core.display.Javascript object>"
      ]
     },
     "metadata": {},
     "output_type": "display_data"
    },
    {
     "data": {
      "application/javascript": [
       "\n",
       "        $('span:contains(\"# Temp\")').closest('.cell').remove();\n",
       "        var code = IPython.notebook.insert_cell_below('code');\n",
       "        code.set_text(atob(\"IyBUZW1wCmluc2VydCgnJycKYmVja2VyMTk5N2EgPSBEQihXb3JrVW5yZWxhdGVkKAogICAgMTk5NywgIk1WUC1FOiBBIFByb2Nlc3MgTW9kZWxpbmcgRW52aXJvbm1lbnQiLAogICAgZGlzcGxheT0iYmVja2VyIiwKICAgIGF1dGhvcnM9IkJlY2tlciwgVS4gRC4gSGFtYW5uLCBKLiBN/G5jaCwgYW5kIE0uIFZlcmxhZ2UiLAogICAgcGxhY2U9RkFLRSwKICAgIGVudHJ5dHlwZT0iYXJ0aWNsZSIsCiAgICBub3RlPSJjaXRlZCBCeSAxIiwKICAgIElEPSJCZWNrZXIxOTk3IiwKICAgIHBsYWNleD0iSUVFRSBUcmFucy4gQ29tcHV0ZXIgU29mdHdhcmUgRW5nLiBTb2Z0d2FyZSBQcm9jZXNzIE5ld3NsZXR0ZXIsIFZvbC4gMTAsIFBwLCAxMC0xNSIsCikpCgpEQihDaXRhdGlvbigKICAgIHNvbW1lcnZpbGxlMTk5OWEsIGJlY2tlcjE5OTdhLCByZWY9IiIsCiAgICBjb250ZXh0cz1bCgogICAgXSwKKSkKCicnJywgY2l0YXRpb25zPSdzb21tZXJ2aWxsZTE5OTlhJyk7\"));\n",
       "    "
      ],
      "text/plain": [
       "<IPython.core.display.Javascript object>"
      ]
     },
     "metadata": {},
     "output_type": "display_data"
    },
    {
     "data": {
      "application/javascript": [
       "$('span:contains(\"# Temp\")').closest('.cell').remove();"
      ],
      "text/plain": [
       "<IPython.core.display.Javascript object>"
      ]
     },
     "metadata": {},
     "output_type": "display_data"
    },
    {
     "data": {
      "application/javascript": [
       "\n",
       "        $('span:contains(\"# Temp\")').closest('.cell').remove();\n",
       "        var code = IPython.notebook.insert_cell_below('code');\n",
       "        code.set_text(atob(\"IyBUZW1wCmluc2VydCgnJycKYmVja2VyMTk5N2EgPSBEQihXb3JrVW5yZWxhdGVkKAogICAgMTk5NywgIk1WUC1FOiBBIFByb2Nlc3MgTW9kZWxpbmcgRW52aXJvbm1lbnQiLAogICAgZGlzcGxheT0iYmVja2VyIiwKICAgIGF1dGhvcnM9IkJlY2tlciwgVS4gRC4gSGFtYW5uLCBKLiBN/G5jaCwgYW5kIE0uIFZlcmxhZ2UiLAogICAgcGxhY2U9RkFLRSwKICAgIGVudHJ5dHlwZT0iYXJ0aWNsZSIsCiAgICBub3RlPSJjaXRlZCBCeSAxIiwKICAgIElEPSJCZWNrZXIxOTk3IiwKICAgIHBsYWNleD0iSUVFRSBUcmFucy4gQ29tcHV0ZXIgU29mdHdhcmUgRW5nLiBTb2Z0d2FyZSBQcm9jZXNzIE5ld3NsZXR0ZXIsIFZvbC4gMTAsIFBwLCAxMC0xNSIsCikpCgpEQihDaXRhdGlvbigKICAgIHNvbW1lcnZpbGxlMTk5OWEsIGJlY2tlcjE5OTdhLCByZWY9IiIsCiAgICBjb250ZXh0cz1bCgogICAgXSwKKSkKCicnJywgY2l0YXRpb25zPSdzb21tZXJ2aWxsZTE5OTlhJyk7\"));\n",
       "    "
      ],
      "text/plain": [
       "<IPython.core.display.Javascript object>"
      ]
     },
     "metadata": {},
     "output_type": "display_data"
    },
    {
     "data": {
      "application/javascript": [
       "$('span:contains(\"# Temp\")').closest('.cell').remove();"
      ],
      "text/plain": [
       "<IPython.core.display.Javascript object>"
      ]
     },
     "metadata": {},
     "output_type": "display_data"
    },
    {
     "data": {
      "application/javascript": [
       "\n",
       "        $('span:contains(\"# Temp\")').closest('.cell').remove();\n",
       "        var code = IPython.notebook.insert_cell_below('code');\n",
       "        code.set_text(atob(\"IyBUZW1wCmluc2VydCgnJycKdmVydGFnZTE5OTRhID0gREIoV29ya1VucmVsYXRlZCgKICAgIDE5OTQsICJNdWx0aS1WaWV3IE1vZGVsaW5nIG9mIFNvZnR3YXJlIFByb2Nlc3NlcyIsCiAgICBkaXNwbGF5PSJ2ZXJ0YWdlIiwKICAgIGF1dGhvcnM9IlZlcnRhZ2UsIE0uIiwKICAgIHBsYWNlPUZBS0UsCiAgICBlbnRyeXR5cGU9ImFydGljbGUiLAogICAgbm90ZT0iY2l0ZWQgQnkgMSIsCiAgICBJRD0iVmVydGFnZTE5OTQiLAogICAgcGxhY2V4PSJQcm9jLiBUaGlyZCBFdXJvcGVhbiBXb3Jrc2hvcCBTb2Z0d2FyZSBQcm9jZXNzIFRlY2hub2xvZ3ksIFNwcmluZ2VyVmVybGFnLCBQcC4gMTIzLTEyNyIsCikpCgpEQihDaXRhdGlvbigKICAgIHNvbW1lcnZpbGxlMTk5OWEsIHZlcnRhZ2UxOTk0YSwgcmVmPSIiLAogICAgY29udGV4dHM9WwoKICAgIF0sCikpCgonJycsIGNpdGF0aW9ucz0nc29tbWVydmlsbGUxOTk5YScpOw==\"));\n",
       "    "
      ],
      "text/plain": [
       "<IPython.core.display.Javascript object>"
      ]
     },
     "metadata": {},
     "output_type": "display_data"
    },
    {
     "data": {
      "application/javascript": [
       "$('span:contains(\"# Temp\")').closest('.cell').remove();"
      ],
      "text/plain": [
       "<IPython.core.display.Javascript object>"
      ]
     },
     "metadata": {},
     "output_type": "display_data"
    },
    {
     "data": {
      "application/javascript": [
       "\n",
       "        $('span:contains(\"# Temp\")').closest('.cell').remove();\n",
       "        var code = IPython.notebook.insert_cell_below('code');\n",
       "        code.set_text(atob(\"IyBUZW1wCmluc2VydCgnJycKdmVydGFnZTE5OTRhID0gREIoV29ya1VucmVsYXRlZCgKICAgIDE5OTQsICJNdWx0aS1WaWV3IE1vZGVsaW5nIG9mIFNvZnR3YXJlIFByb2Nlc3NlcyIsCiAgICBkaXNwbGF5PSJ2ZXJ0YWdlIiwKICAgIGF1dGhvcnM9IlZlcnRhZ2UsIE0uIiwKICAgIHBsYWNlPUZBS0UsCiAgICBlbnRyeXR5cGU9ImFydGljbGUiLAogICAgbm90ZT0iY2l0ZWQgQnkgMSIsCiAgICBJRD0iVmVydGFnZTE5OTQiLAogICAgcGxhY2V4PSJQcm9jLiBUaGlyZCBFdXJvcGVhbiBXb3Jrc2hvcCBTb2Z0d2FyZSBQcm9jZXNzIFRlY2hub2xvZ3ksIFNwcmluZ2VyVmVybGFnLCBQcC4gMTIzLTEyNyIsCikpCgpEQihDaXRhdGlvbigKICAgIHNvbW1lcnZpbGxlMTk5OWEsIHZlcnRhZ2UxOTk0YSwgcmVmPSIiLAogICAgY29udGV4dHM9WwoKICAgIF0sCikpCgonJycsIGNpdGF0aW9ucz0nc29tbWVydmlsbGUxOTk5YScpOw==\"));\n",
       "    "
      ],
      "text/plain": [
       "<IPython.core.display.Javascript object>"
      ]
     },
     "metadata": {},
     "output_type": "display_data"
    },
    {
     "data": {
      "application/javascript": [
       "$('span:contains(\"# Temp\")').closest('.cell').remove();"
      ],
      "text/plain": [
       "<IPython.core.display.Javascript object>"
      ]
     },
     "metadata": {},
     "output_type": "display_data"
    },
    {
     "data": {
      "application/javascript": [
       "\n",
       "        $('span:contains(\"# Temp\")').closest('.cell').remove();\n",
       "        var code = IPython.notebook.insert_cell_below('code');\n",
       "        code.set_text(atob(\"IyBUZW1wCmluc2VydCgnJycKYmFuZGluZWxsaTE5OTVhID0gREIoV29ya1VucmVsYXRlZCgKICAgIDE5OTUsICJNb2RlbGluZyBhbmQgSW1wcm92aW5nIEFuIEluZHVzdHJpYWwgU29mdHdhcmUgUHJvY2VzcyIsCiAgICBkaXNwbGF5PSJiYW5kaW5lbGxpIiwKICAgIGF1dGhvcnM9IkJhbmRpbmVsbGksIFMuIEEuIEZ1Z2dldHRhIEwuIExhdmF6emEsIE0uIExvaSwgYW5kIEcuUC4gUGljY28iLAogICAgcGxhY2U9RkFLRSwKICAgIGVudHJ5dHlwZT0iYXJ0aWNsZSIsCiAgICBub3RlPSJjaXRlZCBCeSAxIiwKICAgIElEPSJCYW5kaW5lbGxpMTk5NSIsCiAgICBwbGFjZXg9IklFRUUgVHJhbnMuIFNvZnR3YXJlIEVuZy4sIFZvbC4gMjEsIE5vLCA1LCBQcC4gNDQwLTQ1NCIsCikpCgpEQihDaXRhdGlvbigKICAgIHNvbW1lcnZpbGxlMTk5OWEsIGJhbmRpbmVsbGkxOTk1YSwgcmVmPSIiLAogICAgY29udGV4dHM9WwoKICAgIF0sCikpCgonJycsIGNpdGF0aW9ucz0nc29tbWVydmlsbGUxOTk5YScpOw==\"));\n",
       "    "
      ],
      "text/plain": [
       "<IPython.core.display.Javascript object>"
      ]
     },
     "metadata": {},
     "output_type": "display_data"
    },
    {
     "data": {
      "application/javascript": [
       "$('span:contains(\"# Temp\")').closest('.cell').remove();"
      ],
      "text/plain": [
       "<IPython.core.display.Javascript object>"
      ]
     },
     "metadata": {},
     "output_type": "display_data"
    },
    {
     "data": {
      "application/javascript": [
       "\n",
       "        $('span:contains(\"# Temp\")').closest('.cell').remove();\n",
       "        var code = IPython.notebook.insert_cell_below('code');\n",
       "        code.set_text(atob(\"IyBUZW1wCmluc2VydCgnJycKYmFuZGluZWxsaTE5OTVhID0gREIoV29ya1VucmVsYXRlZCgKICAgIDE5OTUsICJNb2RlbGluZyBhbmQgSW1wcm92aW5nIEFuIEluZHVzdHJpYWwgU29mdHdhcmUgUHJvY2VzcyIsCiAgICBkaXNwbGF5PSJiYW5kaW5lbGxpIiwKICAgIGF1dGhvcnM9IkJhbmRpbmVsbGksIFMuIEEuIEZ1Z2dldHRhIEwuIExhdmF6emEsIE0uIExvaSwgYW5kIEcuUC4gUGljY28iLAogICAgcGxhY2U9RkFLRSwKICAgIGVudHJ5dHlwZT0iYXJ0aWNsZSIsCiAgICBub3RlPSJjaXRlZCBCeSAxIiwKICAgIElEPSJCYW5kaW5lbGxpMTk5NSIsCiAgICBwbGFjZXg9IklFRUUgVHJhbnMuIFNvZnR3YXJlIEVuZy4sIFZvbC4gMjEsIE5vLCA1LCBQcC4gNDQwLTQ1NCIsCikpCgpEQihDaXRhdGlvbigKICAgIHNvbW1lcnZpbGxlMTk5OWEsIGJhbmRpbmVsbGkxOTk1YSwgcmVmPSIiLAogICAgY29udGV4dHM9WwoKICAgIF0sCikpCgonJycsIGNpdGF0aW9ucz0nc29tbWVydmlsbGUxOTk5YScpOw==\"));\n",
       "    "
      ],
      "text/plain": [
       "<IPython.core.display.Javascript object>"
      ]
     },
     "metadata": {},
     "output_type": "display_data"
    },
    {
     "data": {
      "application/javascript": [
       "$('span:contains(\"# Temp\")').closest('.cell').remove();"
      ],
      "text/plain": [
       "<IPython.core.display.Javascript object>"
      ]
     },
     "metadata": {},
     "output_type": "display_data"
    },
    {
     "data": {
      "application/javascript": [
       "\n",
       "        $('span:contains(\"# Temp\")').closest('.cell').remove();\n",
       "        var code = IPython.notebook.insert_cell_below('code');\n",
       "        code.set_text(atob(\"IyBUZW1wCmluc2VydCgnJycKYmFuZGluZWxsaTE5OTNhID0gREIoV29ya1VucmVsYXRlZCgKICAgIDE5OTMsICJTb2Z0d2FyZSBQcm9jZXNzIEV2b2x1dGlvbiBpbiB0aGUgU1BBREUgRW52aXJvbm1lbnQiLAogICAgZGlzcGxheT0iYmFuZGluZWxsaSIsCiAgICBhdXRob3JzPSJCYW5kaW5lbGxpLCBTLiBBLiBGdWdnZXR0YSAsIGFuZCBDLiBHaGV6emkiLAogICAgcGxhY2U9RkFLRSwKICAgIGVudHJ5dHlwZT0iYXJ0aWNsZSIsCiAgICBub3RlPSJjaXRlZCBCeSAxIiwKICAgIElEPSJCYW5kaW5lbGxpMTk5MyIsCiAgICBwbGFjZXg9IklFRUUgVHJhbnMuIFNvZnR3YXJlIEVuZy4sIFZvbC4gMTksIE5vLiAxMiwgUHAuIDEsMTI4LTEsMTQ0IiwKKSkKCkRCKENpdGF0aW9uKAogICAgc29tbWVydmlsbGUxOTk5YSwgYmFuZGluZWxsaTE5OTNhLCByZWY9IiIsCiAgICBjb250ZXh0cz1bCgogICAgXSwKKSkKCicnJywgY2l0YXRpb25zPSdzb21tZXJ2aWxsZTE5OTlhJyk7\"));\n",
       "    "
      ],
      "text/plain": [
       "<IPython.core.display.Javascript object>"
      ]
     },
     "metadata": {},
     "output_type": "display_data"
    },
    {
     "data": {
      "application/javascript": [
       "$('span:contains(\"# Temp\")').closest('.cell').remove();"
      ],
      "text/plain": [
       "<IPython.core.display.Javascript object>"
      ]
     },
     "metadata": {},
     "output_type": "display_data"
    },
    {
     "data": {
      "application/javascript": [
       "\n",
       "        $('span:contains(\"# Temp\")').closest('.cell').remove();\n",
       "        var code = IPython.notebook.insert_cell_below('code');\n",
       "        code.set_text(atob(\"IyBUZW1wCmluc2VydCgnJycKYmFuZGluZWxsaTE5OTNhID0gREIoV29ya1VucmVsYXRlZCgKICAgIDE5OTMsICJTb2Z0d2FyZSBQcm9jZXNzIEV2b2x1dGlvbiBpbiB0aGUgU1BBREUgRW52aXJvbm1lbnQiLAogICAgZGlzcGxheT0iYmFuZGluZWxsaSIsCiAgICBhdXRob3JzPSJCYW5kaW5lbGxpLCBTLiBBLiBGdWdnZXR0YSAsIGFuZCBDLiBHaGV6emkiLAogICAgcGxhY2U9RkFLRSwKICAgIGVudHJ5dHlwZT0iYXJ0aWNsZSIsCiAgICBub3RlPSJjaXRlZCBCeSAxIiwKICAgIElEPSJCYW5kaW5lbGxpMTk5MyIsCiAgICBwbGFjZXg9IklFRUUgVHJhbnMuIFNvZnR3YXJlIEVuZy4sIFZvbC4gMTksIE5vLiAxMiwgUHAuIDEsMTI4LTEsMTQ0IiwKKSkKCkRCKENpdGF0aW9uKAogICAgc29tbWVydmlsbGUxOTk5YSwgYmFuZGluZWxsaTE5OTNhLCByZWY9IiIsCiAgICBjb250ZXh0cz1bCgogICAgXSwKKSkKCicnJywgY2l0YXRpb25zPSdzb21tZXJ2aWxsZTE5OTlhJyk7\"));\n",
       "    "
      ],
      "text/plain": [
       "<IPython.core.display.Javascript object>"
      ]
     },
     "metadata": {},
     "output_type": "display_data"
    },
    {
     "data": {
      "application/javascript": [
       "$('span:contains(\"# Temp\")').closest('.cell').remove();"
      ],
      "text/plain": [
       "<IPython.core.display.Javascript object>"
      ]
     },
     "metadata": {},
     "output_type": "display_data"
    },
    {
     "data": {
      "application/javascript": [
       "\n",
       "        $('span:contains(\"# Temp\")').closest('.cell').remove();\n",
       "        var code = IPython.notebook.insert_cell_below('code');\n",
       "        code.set_text(atob(\"IyBUZW1wCmluc2VydCgnJycKbWFkaGF2amkxOTk0YSA9IERCKFdvcmtVbnJlbGF0ZWQoCiAgICAxOTk0LCAiRWxpY2l0OiBBIE1ldGhvZCBmb3IgRWxpY2l0aW5nIFByb2Nlc3MgTW9kZWxzLCBQcm9jIiwKICAgIGRpc3BsYXk9Im1hZGhhdmppIiwKICAgIGF1dGhvcnM9Ik1hZGhhdmppLCBOLkguIEQuIEhvbHRqZSwgSC4gV29uS29vaywgYW5kIFQuIEJydWNraGF1cyIsCiAgICBwbGFjZT1GQUtFLAogICAgZW50cnl0eXBlPSJhcnRpY2xlIiwKICAgIG5vdGU9ImNpdGVkIEJ5IDEiLAogICAgSUQ9Ik1hZGhhdmppMTk5NCIsCiAgICBwbGFjZXg9IlRoaXJkIEludCdsIENvbmYuIHRoZSBTb2Z0d2FyZSBQcm9jZXNzLCBJRUVFIENTIFByZXNzIiwKKSkKCkRCKENpdGF0aW9uKAogICAgc29tbWVydmlsbGUxOTk5YSwgbWFkaGF2amkxOTk0YSwgcmVmPSIiLAogICAgY29udGV4dHM9WwoKICAgIF0sCikpCgonJycsIGNpdGF0aW9ucz0nc29tbWVydmlsbGUxOTk5YScpOw==\"));\n",
       "    "
      ],
      "text/plain": [
       "<IPython.core.display.Javascript object>"
      ]
     },
     "metadata": {},
     "output_type": "display_data"
    },
    {
     "data": {
      "application/javascript": [
       "$('span:contains(\"# Temp\")').closest('.cell').remove();"
      ],
      "text/plain": [
       "<IPython.core.display.Javascript object>"
      ]
     },
     "metadata": {},
     "output_type": "display_data"
    },
    {
     "data": {
      "application/javascript": [
       "\n",
       "        $('span:contains(\"# Temp\")').closest('.cell').remove();\n",
       "        var code = IPython.notebook.insert_cell_below('code');\n",
       "        code.set_text(atob(\"IyBUZW1wCmluc2VydCgnJycKbWFkaGF2amkxOTk0YSA9IERCKFdvcmtVbnJlbGF0ZWQoCiAgICAxOTk0LCAiRWxpY2l0OiBBIE1ldGhvZCBmb3IgRWxpY2l0aW5nIFByb2Nlc3MgTW9kZWxzLCBQcm9jIiwKICAgIGRpc3BsYXk9Im1hZGhhdmppIiwKICAgIGF1dGhvcnM9Ik1hZGhhdmppLCBOLkguIEQuIEhvbHRqZSwgSC4gV29uS29vaywgYW5kIFQuIEJydWNraGF1cyIsCiAgICBwbGFjZT1GQUtFLAogICAgZW50cnl0eXBlPSJhcnRpY2xlIiwKICAgIG5vdGU9ImNpdGVkIEJ5IDEiLAogICAgSUQ9Ik1hZGhhdmppMTk5NCIsCiAgICBwbGFjZXg9IlRoaXJkIEludCdsIENvbmYuIHRoZSBTb2Z0d2FyZSBQcm9jZXNzLCBJRUVFIENTIFByZXNzIiwKKSkKCkRCKENpdGF0aW9uKAogICAgc29tbWVydmlsbGUxOTk5YSwgbWFkaGF2amkxOTk0YSwgcmVmPSIiLAogICAgY29udGV4dHM9WwoKICAgIF0sCikpCgonJycsIGNpdGF0aW9ucz0nc29tbWVydmlsbGUxOTk5YScpOw==\"));\n",
       "    "
      ],
      "text/plain": [
       "<IPython.core.display.Javascript object>"
      ]
     },
     "metadata": {},
     "output_type": "display_data"
    },
    {
     "data": {
      "application/javascript": [
       "$('span:contains(\"# Temp\")').closest('.cell').remove();"
      ],
      "text/plain": [
       "<IPython.core.display.Javascript object>"
      ]
     },
     "metadata": {},
     "output_type": "display_data"
    },
    {
     "data": {
      "application/javascript": [
       "\n",
       "        $('span:contains(\"# Temp\")').closest('.cell').remove();\n",
       "        var code = IPython.notebook.insert_cell_below('code');\n",
       "        code.set_text(atob(\"IyBUZW1wCmluc2VydCgnJycKaGVpbmVtYW4xOTk0YSA9IERCKFdvcmtVbnJlbGF0ZWQoCiAgICAxOTk0LCAiRW1lcmdpbmcgVGVjaG5vbG9naWVzIFRoYXQgU3VwcG9ydCBBIFNvZnR3YXJlIFByb2Nlc3MgTGlmZSBDeWNsZSIsCiAgICBkaXNwbGF5PSJoZWluZW1hbiIsCiAgICBhdXRob3JzPSJIZWluZW1hbiwgRy5ULiBFdCBBbC4iLAogICAgcGxhY2U9RkFLRSwKICAgIGVudHJ5dHlwZT0iYXJ0aWNsZSIsCiAgICBub3RlPSJjaXRlZCBCeSAxIiwKICAgIElEPSJIZWluZW1hbjE5OTQiLAogICAgcGxhY2V4PSJJQk0gU3lzdGVtcyBKLiwgVm9sLiAzMywgTm8uIDMsIFBwLiA1MDEtNTI5IiwKKSkKCkRCKENpdGF0aW9uKAogICAgc29tbWVydmlsbGUxOTk5YSwgaGVpbmVtYW4xOTk0YSwgcmVmPSIiLAogICAgY29udGV4dHM9WwoKICAgIF0sCikpCgonJycsIGNpdGF0aW9ucz0nc29tbWVydmlsbGUxOTk5YScpOw==\"));\n",
       "    "
      ],
      "text/plain": [
       "<IPython.core.display.Javascript object>"
      ]
     },
     "metadata": {},
     "output_type": "display_data"
    },
    {
     "data": {
      "application/javascript": [
       "$('span:contains(\"# Temp\")').closest('.cell').remove();"
      ],
      "text/plain": [
       "<IPython.core.display.Javascript object>"
      ]
     },
     "metadata": {},
     "output_type": "display_data"
    },
    {
     "data": {
      "application/javascript": [
       "\n",
       "        $('span:contains(\"# Temp\")').closest('.cell').remove();\n",
       "        var code = IPython.notebook.insert_cell_below('code');\n",
       "        code.set_text(atob(\"IyBUZW1wCmluc2VydCgnJycKaGVpbmVtYW4xOTk0YSA9IERCKFdvcmtVbnJlbGF0ZWQoCiAgICAxOTk0LCAiRW1lcmdpbmcgVGVjaG5vbG9naWVzIFRoYXQgU3VwcG9ydCBBIFNvZnR3YXJlIFByb2Nlc3MgTGlmZSBDeWNsZSIsCiAgICBkaXNwbGF5PSJoZWluZW1hbiIsCiAgICBhdXRob3JzPSJIZWluZW1hbiwgRy5ULiBFdCBBbC4iLAogICAgcGxhY2U9RkFLRSwKICAgIGVudHJ5dHlwZT0iYXJ0aWNsZSIsCiAgICBub3RlPSJjaXRlZCBCeSAxIiwKICAgIElEPSJIZWluZW1hbjE5OTQiLAogICAgcGxhY2V4PSJJQk0gU3lzdGVtcyBKLiwgVm9sLiAzMywgTm8uIDMsIFBwLiA1MDEtNTI5IiwKKSkKCkRCKENpdGF0aW9uKAogICAgc29tbWVydmlsbGUxOTk5YSwgaGVpbmVtYW4xOTk0YSwgcmVmPSIiLAogICAgY29udGV4dHM9WwoKICAgIF0sCikpCgonJycsIGNpdGF0aW9ucz0nc29tbWVydmlsbGUxOTk5YScpOw==\"));\n",
       "    "
      ],
      "text/plain": [
       "<IPython.core.display.Javascript object>"
      ]
     },
     "metadata": {},
     "output_type": "display_data"
    },
    {
     "data": {
      "application/javascript": [
       "$('span:contains(\"# Temp\")').closest('.cell').remove();"
      ],
      "text/plain": [
       "<IPython.core.display.Javascript object>"
      ]
     },
     "metadata": {},
     "output_type": "display_data"
    },
    {
     "data": {
      "application/javascript": [
       "\n",
       "        $('span:contains(\"# Temp\")').closest('.cell').remove();\n",
       "        var code = IPython.notebook.insert_cell_below('code');\n",
       "        code.set_text(atob(\"IyBUZW1wCmluc2VydCgnJycKdHVyZ2VvbjE5OTZhID0gREIoV29ya1VucmVsYXRlZCgKICAgIDE5OTYsICJBIFN5c3RlbWF0aWMgVmlldy1CYXNlZCBBcHByb2FjaCB0byBFbGljaXRpbmcgUHJvY2VzcyBNb2RlbHMiLAogICAgZGlzcGxheT0idHVyZ2VvbiIsCiAgICBhdXRob3JzPSJUdXJnZW9uLCBKLiBBbmQgTi5ILiBNYWRoYXZqaSIsCiAgICBwbGFjZT1GQUtFLAogICAgZW50cnl0eXBlPSJhcnRpY2xlIiwKICAgIG5vdGU9ImNpdGVkIEJ5IDEiLAogICAgSUQ9IlR1cmdlb24xOTk2IiwKICAgIHBsYWNleD0iUHJvYy4gRmlmdGggRXVvcGVhbiBXb3Jrc2hvcCBTb2Z0d2FyZSBQcm9jZXNzIFRlY2hub2xvZ3ksIFNwcmluZ2VyLVZlcmxhZyIsCikpCgpEQihDaXRhdGlvbigKICAgIHNvbW1lcnZpbGxlMTk5OWEsIHR1cmdlb24xOTk2YSwgcmVmPSIiLAogICAgY29udGV4dHM9WwoKICAgIF0sCikpCgonJycsIGNpdGF0aW9ucz0nc29tbWVydmlsbGUxOTk5YScpOw==\"));\n",
       "    "
      ],
      "text/plain": [
       "<IPython.core.display.Javascript object>"
      ]
     },
     "metadata": {},
     "output_type": "display_data"
    },
    {
     "data": {
      "application/javascript": [
       "$('span:contains(\"# Temp\")').closest('.cell').remove();"
      ],
      "text/plain": [
       "<IPython.core.display.Javascript object>"
      ]
     },
     "metadata": {},
     "output_type": "display_data"
    },
    {
     "data": {
      "application/javascript": [
       "\n",
       "        $('span:contains(\"# Temp\")').closest('.cell').remove();\n",
       "        var code = IPython.notebook.insert_cell_below('code');\n",
       "        code.set_text(atob(\"IyBUZW1wCmluc2VydCgnJycKdHVyZ2VvbjE5OTZhID0gREIoV29ya1VucmVsYXRlZCgKICAgIDE5OTYsICJBIFN5c3RlbWF0aWMgVmlldy1CYXNlZCBBcHByb2FjaCB0byBFbGljaXRpbmcgUHJvY2VzcyBNb2RlbHMiLAogICAgZGlzcGxheT0idHVyZ2VvbiIsCiAgICBhdXRob3JzPSJUdXJnZW9uLCBKLiBBbmQgTi5ILiBNYWRoYXZqaSIsCiAgICBwbGFjZT1GQUtFLAogICAgZW50cnl0eXBlPSJhcnRpY2xlIiwKICAgIG5vdGU9ImNpdGVkIEJ5IDEiLAogICAgSUQ9IlR1cmdlb24xOTk2IiwKICAgIHBsYWNleD0iUHJvYy4gRmlmdGggRXVvcGVhbiBXb3Jrc2hvcCBTb2Z0d2FyZSBQcm9jZXNzIFRlY2hub2xvZ3ksIFNwcmluZ2VyLVZlcmxhZyIsCikpCgpEQihDaXRhdGlvbigKICAgIHNvbW1lcnZpbGxlMTk5OWEsIHR1cmdlb24xOTk2YSwgcmVmPSIiLAogICAgY29udGV4dHM9WwoKICAgIF0sCikpCgonJycsIGNpdGF0aW9ucz0nc29tbWVydmlsbGUxOTk5YScpOw==\"));\n",
       "    "
      ],
      "text/plain": [
       "<IPython.core.display.Javascript object>"
      ]
     },
     "metadata": {},
     "output_type": "display_data"
    },
    {
     "data": {
      "application/javascript": [
       "$('span:contains(\"# Temp\")').closest('.cell').remove();"
      ],
      "text/plain": [
       "<IPython.core.display.Javascript object>"
      ]
     },
     "metadata": {},
     "output_type": "display_data"
    },
    {
     "data": {
      "application/javascript": [
       "\n",
       "        $('span:contains(\"# Temp\")').closest('.cell').remove();\n",
       "        var code = IPython.notebook.insert_cell_below('code');\n",
       "        code.set_text(atob(\"IyBUZW1wCmluc2VydCgnJycKZmlua2Vsc3RlaW4xOTkyYSA9IERCKFdvcmtVbnJlbGF0ZWQoCiAgICAxOTkyLCAiVmlld3BvaW50czogQSBGcmFtZXdvcmsgZm9yIEludGVncmF0aW5nIE11bHRpcGxlIFBlcnNwZWN0aXZlcyBpbiBTeXN0ZW0gRGV2ZWxvcG1lbnQiLAogICAgZGlzcGxheT0iZmlua2Vsc3RlaW4iLAogICAgYXV0aG9ycz0iRmlua2Vsc3RlaW4sIEEuIEouIEtyYW1lciwgQi4gTnVzZWliZWgsIGFuZCBNLiBHb2VkaWNrZSIsCiAgICBwbGFjZT1GQUtFLAogICAgZW50cnl0eXBlPSJhcnRpY2xlIiwKICAgIG5vdGU9ImNpdGVkIEJ5IDEiLAogICAgSUQ9IkZpbmtlbHN0ZWkxOTkyIiwKICAgIHBsYWNleD0iSW50J2wgSi4gU29mdHdhcmUgRW5nLiBhbmQgS25vd2xlZGdlIEVuZy4sIFZvbC4gMiwgTm8uIDEsIFBwLiAzMS01OCIsCikpCgpEQihDaXRhdGlvbigKICAgIHNvbW1lcnZpbGxlMTk5OWEsIGZpbmtlbHN0ZWluMTk5MmEsIHJlZj0iIiwKICAgIGNvbnRleHRzPVsKCiAgICBdLAopKQoKJycnLCBjaXRhdGlvbnM9J3NvbW1lcnZpbGxlMTk5OWEnKTs=\"));\n",
       "    "
      ],
      "text/plain": [
       "<IPython.core.display.Javascript object>"
      ]
     },
     "metadata": {},
     "output_type": "display_data"
    },
    {
     "data": {
      "application/javascript": [
       "$('span:contains(\"# Temp\")').closest('.cell').remove();"
      ],
      "text/plain": [
       "<IPython.core.display.Javascript object>"
      ]
     },
     "metadata": {},
     "output_type": "display_data"
    },
    {
     "data": {
      "application/javascript": [
       "\n",
       "        $('span:contains(\"# Temp\")').closest('.cell').remove();\n",
       "        var code = IPython.notebook.insert_cell_below('code');\n",
       "        code.set_text(atob(\"IyBUZW1wCmluc2VydCgnJycKZmlua2Vsc3RlaW4xOTkyYSA9IERCKFdvcmtVbnJlbGF0ZWQoCiAgICAxOTkyLCAiVmlld3BvaW50czogQSBGcmFtZXdvcmsgZm9yIEludGVncmF0aW5nIE11bHRpcGxlIFBlcnNwZWN0aXZlcyBpbiBTeXN0ZW0gRGV2ZWxvcG1lbnQiLAogICAgZGlzcGxheT0iZmlua2Vsc3RlaW4iLAogICAgYXV0aG9ycz0iRmlua2Vsc3RlaW4sIEEuIEouIEtyYW1lciwgQi4gTnVzZWliZWgsIGFuZCBNLiBHb2VkaWNrZSIsCiAgICBwbGFjZT1GQUtFLAogICAgZW50cnl0eXBlPSJhcnRpY2xlIiwKICAgIG5vdGU9ImNpdGVkIEJ5IDEiLAogICAgSUQ9IkZpbmtlbHN0ZWkxOTkyIiwKICAgIHBsYWNleD0iSW50J2wgSi4gU29mdHdhcmUgRW5nLiBhbmQgS25vd2xlZGdlIEVuZy4sIFZvbC4gMiwgTm8uIDEsIFBwLiAzMS01OCIsCikpCgpEQihDaXRhdGlvbigKICAgIHNvbW1lcnZpbGxlMTk5OWEsIGZpbmtlbHN0ZWluMTk5MmEsIHJlZj0iIiwKICAgIGNvbnRleHRzPVsKCiAgICBdLAopKQoKJycnLCBjaXRhdGlvbnM9J3NvbW1lcnZpbGxlMTk5OWEnKTs=\"));\n",
       "    "
      ],
      "text/plain": [
       "<IPython.core.display.Javascript object>"
      ]
     },
     "metadata": {},
     "output_type": "display_data"
    },
    {
     "data": {
      "application/javascript": [
       "$('span:contains(\"# Temp\")').closest('.cell').remove();"
      ],
      "text/plain": [
       "<IPython.core.display.Javascript object>"
      ]
     },
     "metadata": {},
     "output_type": "display_data"
    },
    {
     "data": {
      "application/javascript": [
       "\n",
       "        $('span:contains(\"# Temp\")').closest('.cell').remove();\n",
       "        var code = IPython.notebook.insert_cell_below('code');\n",
       "        code.set_text(atob(\"IyBUZW1wCmluc2VydCgnJycKbnVzZWliZWgxOTk0YSA9IERCKFdvcmtVbnJlbGF0ZWQoCiAgICAxOTk0LCAiQSBGcmFtZXdvcmsgZm9yIEV4cHJlc3NpbmcgdGhlIFJlbGF0aW9uc2hpcHMgYmV0d2VlbiBNdWx0aXBsZSBWaWV3cyBpbiBSZXF1aXJlbWVudHMgU3BlY2lmaWNhdGlvbnMiLAogICAgZGlzcGxheT0ibnVzZWliZWgiLAogICAgYXV0aG9ycz0iTnVzZWliZWgsIEIuIEouIEtyYW1lciAsIGFuZCBBLiBGaW5rZWxzdGVpbiIsCiAgICBwbGFjZT1GQUtFLAogICAgZW50cnl0eXBlPSJhcnRpY2xlIiwKICAgIG5vdGU9ImNpdGVkIEJ5IDEiLAogICAgSUQ9Ik51c2VpYmVoMTk5NCIsCiAgICBwbGFjZXg9IklFRUUgVHJhbnMuIFNvZnR3YXJlIEVuZy4sIFZvbC4gMjAsIE5vLiAxMCwgUHAuIDc2MC03NzMiLAopKQoKREIoQ2l0YXRpb24oCiAgICBzb21tZXJ2aWxsZTE5OTlhLCBudXNlaWJlaDE5OTRhLCByZWY9IiIsCiAgICBjb250ZXh0cz1bCgogICAgXSwKKSkKCicnJywgY2l0YXRpb25zPSdzb21tZXJ2aWxsZTE5OTlhJyk7\"));\n",
       "    "
      ],
      "text/plain": [
       "<IPython.core.display.Javascript object>"
      ]
     },
     "metadata": {},
     "output_type": "display_data"
    },
    {
     "data": {
      "application/javascript": [
       "$('span:contains(\"# Temp\")').closest('.cell').remove();"
      ],
      "text/plain": [
       "<IPython.core.display.Javascript object>"
      ]
     },
     "metadata": {},
     "output_type": "display_data"
    },
    {
     "data": {
      "application/javascript": [
       "\n",
       "        $('span:contains(\"# Temp\")').closest('.cell').remove();\n",
       "        var code = IPython.notebook.insert_cell_below('code');\n",
       "        code.set_text(atob(\"IyBUZW1wCmluc2VydCgnJycKbnVzZWliZWgxOTk0YSA9IERCKFdvcmtVbnJlbGF0ZWQoCiAgICAxOTk0LCAiQSBGcmFtZXdvcmsgZm9yIEV4cHJlc3NpbmcgdGhlIFJlbGF0aW9uc2hpcHMgYmV0d2VlbiBNdWx0aXBsZSBWaWV3cyBpbiBSZXF1aXJlbWVudHMgU3BlY2lmaWNhdGlvbnMiLAogICAgZGlzcGxheT0ibnVzZWliZWgiLAogICAgYXV0aG9ycz0iTnVzZWliZWgsIEIuIEouIEtyYW1lciAsIGFuZCBBLiBGaW5rZWxzdGVpbiIsCiAgICBwbGFjZT1GQUtFLAogICAgZW50cnl0eXBlPSJhcnRpY2xlIiwKICAgIG5vdGU9ImNpdGVkIEJ5IDEiLAogICAgSUQ9Ik51c2VpYmVoMTk5NCIsCiAgICBwbGFjZXg9IklFRUUgVHJhbnMuIFNvZnR3YXJlIEVuZy4sIFZvbC4gMjAsIE5vLiAxMCwgUHAuIDc2MC03NzMiLAopKQoKREIoQ2l0YXRpb24oCiAgICBzb21tZXJ2aWxsZTE5OTlhLCBudXNlaWJlaDE5OTRhLCByZWY9IiIsCiAgICBjb250ZXh0cz1bCgogICAgXSwKKSkKCicnJywgY2l0YXRpb25zPSdzb21tZXJ2aWxsZTE5OTlhJyk7\"));\n",
       "    "
      ],
      "text/plain": [
       "<IPython.core.display.Javascript object>"
      ]
     },
     "metadata": {},
     "output_type": "display_data"
    },
    {
     "data": {
      "application/javascript": [
       "$('span:contains(\"# Temp\")').closest('.cell').remove();"
      ],
      "text/plain": [
       "<IPython.core.display.Javascript object>"
      ]
     },
     "metadata": {},
     "output_type": "display_data"
    },
    {
     "data": {
      "application/javascript": [
       "\n",
       "        $('span:contains(\"# Temp\")').closest('.cell').remove();\n",
       "        var code = IPython.notebook.insert_cell_below('code');\n",
       "        code.set_text(atob(\"IyBUZW1wCmluc2VydCgnJycKZWFzdGVyYnJvb2sxOTk2YSA9IERCKFdvcmtVbnJlbGF0ZWQoCiAgICAxOTk2LCAiVXNpbmcgVmlld1BvaW50cyBmb3IgSW5jb25zaXN0ZW5jeSBNYW5hZ2VtZW50IiwKICAgIGRpc3BsYXk9ImVhc3RlcmJyb29rIiwKICAgIGF1dGhvcnM9IkVhc3RlcmJyb29rLCBTLiBhbmQgQi4gTnVzZWliZWgiLAogICAgcGxhY2U9RkFLRSwKICAgIGVudHJ5dHlwZT0iYXJ0aWNsZSIsCiAgICBub3RlPSJjaXRlZCBCeSAxIiwKICAgIElEPSJFYXN0ZXJicm9vazE5OTYiLAogICAgcGxhY2V4PSJCQ1MvSUVFIFNvZnR3YXJlIEVuZy4gSi4sIFZvbC4gMTEsIE5vLiAxLCBQcC4gMzEtNDMiLAopKQoKREIoQ2l0YXRpb24oCiAgICBzb21tZXJ2aWxsZTE5OTlhLCBlYXN0ZXJicm9vazE5OTZhLCByZWY9IiIsCiAgICBjb250ZXh0cz1bCgogICAgXSwKKSkKCicnJywgY2l0YXRpb25zPSdzb21tZXJ2aWxsZTE5OTlhJyk7\"));\n",
       "    "
      ],
      "text/plain": [
       "<IPython.core.display.Javascript object>"
      ]
     },
     "metadata": {},
     "output_type": "display_data"
    },
    {
     "data": {
      "application/javascript": [
       "$('span:contains(\"# Temp\")').closest('.cell').remove();"
      ],
      "text/plain": [
       "<IPython.core.display.Javascript object>"
      ]
     },
     "metadata": {},
     "output_type": "display_data"
    },
    {
     "data": {
      "application/javascript": [
       "\n",
       "        $('span:contains(\"# Temp\")').closest('.cell').remove();\n",
       "        var code = IPython.notebook.insert_cell_below('code');\n",
       "        code.set_text(atob(\"IyBUZW1wCmluc2VydCgnJycKZWFzdGVyYnJvb2sxOTk2YSA9IERCKFdvcmtVbnJlbGF0ZWQoCiAgICAxOTk2LCAiVXNpbmcgVmlld1BvaW50cyBmb3IgSW5jb25zaXN0ZW5jeSBNYW5hZ2VtZW50IiwKICAgIGRpc3BsYXk9ImVhc3RlcmJyb29rIiwKICAgIGF1dGhvcnM9IkVhc3RlcmJyb29rLCBTLiBhbmQgQi4gTnVzZWliZWgiLAogICAgcGxhY2U9RkFLRSwKICAgIGVudHJ5dHlwZT0iYXJ0aWNsZSIsCiAgICBub3RlPSJjaXRlZCBCeSAxIiwKICAgIElEPSJFYXN0ZXJicm9vazE5OTYiLAogICAgcGxhY2V4PSJCQ1MvSUVFIFNvZnR3YXJlIEVuZy4gSi4sIFZvbC4gMTEsIE5vLiAxLCBQcC4gMzEtNDMiLAopKQoKREIoQ2l0YXRpb24oCiAgICBzb21tZXJ2aWxsZTE5OTlhLCBlYXN0ZXJicm9vazE5OTZhLCByZWY9IiIsCiAgICBjb250ZXh0cz1bCgogICAgXSwKKSkKCicnJywgY2l0YXRpb25zPSdzb21tZXJ2aWxsZTE5OTlhJyk7\"));\n",
       "    "
      ],
      "text/plain": [
       "<IPython.core.display.Javascript object>"
      ]
     },
     "metadata": {},
     "output_type": "display_data"
    }
   ],
   "source": [
    "import importlib\n",
    "import custom_snowballing\n",
    "importlib.reload(custom_snowballing)\n",
    "from custom_snowballing import UnrelatedBackward\n",
    "UnrelatedBackward(\"sommerville1999a\", articles=article_list)"
   ]
  },
  {
   "cell_type": "code",
   "execution_count": 47,
   "metadata": {},
   "outputs": [
    {
     "name": "stdout",
     "output_type": "stream",
     "text": [
      "-Insert: easterbrook1996a\n",
      "-Insert Import: easterbrook1996a\n",
      "-Insert Citation: sommerville1999a -> easterbrook1996a\n"
     ]
    }
   ],
   "source": [
    "# Temp\n",
    "insert('''\n",
    "easterbrook1996a = DB(WorkUnrelated(\n",
    "    1996, \"Using ViewPoints for Inconsistency Management\",\n",
    "    display=\"easterbrook\",\n",
    "    authors=\"Easterbrook, S. and B. Nuseibeh\",\n",
    "    place=FAKE,\n",
    "    entrytype=\"article\",\n",
    "    note=\"cited By 1\",\n",
    "    ID=\"Easterbrook1996\",\n",
    "    placex=\"BCS/IEE Software Eng. J., Vol. 11, No. 1, Pp. 31-43\",\n",
    "))\n",
    "\n",
    "DB(Citation(\n",
    "    sommerville1999a, easterbrook1996a, ref=\"\",\n",
    "    contexts=[\n",
    "\n",
    "    ],\n",
    "))\n",
    "\n",
    "''', citations='sommerville1999a');"
   ]
  },
  {
   "cell_type": "code",
   "execution_count": null,
   "metadata": {
    "collapsed": true
   },
   "outputs": [],
   "source": []
  }
 ],
 "metadata": {
  "kernelspec": {
   "display_name": "Python 3",
   "language": "python",
   "name": "python3"
  },
  "language_info": {
   "codemirror_mode": {
    "name": "ipython",
    "version": 3
   },
   "file_extension": ".py",
   "mimetype": "text/x-python",
   "name": "python",
   "nbconvert_exporter": "python",
   "pygments_lexer": "ipython3",
   "version": "3.6.0"
  },
  "toc": {
   "nav_menu": {
    "height": "12px",
    "width": "252px"
   },
   "number_sections": true,
   "sideBar": true,
   "skip_h1_title": false,
   "toc_cell": false,
   "toc_position": {},
   "toc_section_display": "block",
   "toc_window_display": false
  }
 },
 "nbformat": 4,
 "nbformat_minor": 2
}
