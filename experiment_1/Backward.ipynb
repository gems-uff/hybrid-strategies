{
 "cells": [
  {
   "cell_type": "code",
   "execution_count": 19,
   "metadata": {
    "collapsed": true
   },
   "outputs": [],
   "source": [
    "import database\n",
    "from snowballing.operations import load_work, reload, work_by_varname\n",
    "from snowballing.snowballing import Converter\n",
    "from snowballing.dbmanager import insert, set_attribute"
   ]
  },
  {
   "cell_type": "code",
   "execution_count": 20,
   "metadata": {
    "scrolled": false
   },
   "outputs": [
    {
     "data": {
      "application/vnd.jupyter.widget-view+json": {
       "model_id": "2bc542f7063b491d99871c221995c0ff",
       "version_major": 2,
       "version_minor": 0
      },
      "text/html": [
       "<p>Failed to display Jupyter Widget of type <code>VBox</code>.</p>\n",
       "<p>\n",
       "  If you're reading this message in Jupyter Notebook or JupyterLab, it may mean\n",
       "  that the widgets JavaScript is still loading. If this message persists, it\n",
       "  likely means that the widgets JavaScript library is either not installed or\n",
       "  not enabled. See the <a href=\"https://ipywidgets.readthedocs.io/en/stable/user_install.html\">Jupyter\n",
       "  Widgets Documentation</a> for setup instructions.\n",
       "</p>\n",
       "<p>\n",
       "  If you're reading this message in another notebook frontend (for example, a static\n",
       "  rendering on GitHub or <a href=\"https://nbviewer.jupyter.org/\">NBViewer</a>),\n",
       "  it may mean that your frontend doesn't currently support widgets.\n",
       "</p>\n"
      ],
      "text/plain": [
       "VBox(children=(HBox(children=(Dropdown(index=1, options={'BibTeX': 'bibtex', 'Text': 'text', '[N] author name place other year': 'citation', 'Quoted': 'quoted'}, value='text'), Button(description='Set article_list variable', disabled=True, style=ButtonStyle()), Label(value=''))), HBox(children=(Textarea(value='', layout=Layout(height='500px', width='50%')), Textarea(value='', layout=Layout(height='500px', width='50%'))))))"
      ]
     },
     "metadata": {},
     "output_type": "display_data"
    }
   ],
   "source": [
    "Converter().browser()"
   ]
  },
  {
   "cell_type": "code",
   "execution_count": 21,
   "metadata": {},
   "outputs": [
    {
     "data": {
      "text/plain": [
       "8"
      ]
     },
     "execution_count": 21,
     "metadata": {},
     "output_type": "execute_result"
    }
   ],
   "source": [
    "len(article_list)"
   ]
  },
  {
   "cell_type": "code",
   "execution_count": null,
   "metadata": {
    "collapsed": true
   },
   "outputs": [],
   "source": [
    "#from database.work.y2015 import li2015a"
   ]
  },
  {
   "cell_type": "code",
   "execution_count": null,
   "metadata": {
    "collapsed": true
   },
   "outputs": [],
   "source": [
    "#int(getattr(li2015a, 'scopus', 0))"
   ]
  },
  {
   "cell_type": "code",
   "execution_count": null,
   "metadata": {},
   "outputs": [],
   "source": [
    "#print(article_list)"
   ]
  },
  {
   "cell_type": "code",
   "execution_count": null,
   "metadata": {
    "collapsed": true
   },
   "outputs": [],
   "source": []
  },
  {
   "cell_type": "code",
   "execution_count": 22,
   "metadata": {},
   "outputs": [
    {
     "data": {
      "application/vnd.jupyter.widget-view+json": {
       "model_id": "c87df6c27d644c7baf43fbd5dc300163",
       "version_major": 2,
       "version_minor": 0
      },
      "text/html": [
       "<p>Failed to display Jupyter Widget of type <code>VBox</code>.</p>\n",
       "<p>\n",
       "  If you're reading this message in Jupyter Notebook or JupyterLab, it may mean\n",
       "  that the widgets JavaScript is still loading. If this message persists, it\n",
       "  likely means that the widgets JavaScript library is either not installed or\n",
       "  not enabled. See the <a href=\"https://ipywidgets.readthedocs.io/en/stable/user_install.html\">Jupyter\n",
       "  Widgets Documentation</a> for setup instructions.\n",
       "</p>\n",
       "<p>\n",
       "  If you're reading this message in another notebook frontend (for example, a static\n",
       "  rendering on GitHub or <a href=\"https://nbviewer.jupyter.org/\">NBViewer</a>),\n",
       "  it may mean that your frontend doesn't currently support widgets.\n",
       "</p>\n"
      ],
      "text/plain": [
       "VBox(children=(HBox(children=(Button(description='Previous Article', disabled=True, icon='caret-left', style=ButtonStyle()), Button(description='Reload Article', icon='refresh', style=ButtonStyle()), Button(description='Next Article', icon='caret-right', style=ButtonStyle()))), HBox(children=(Button(description='Unrelated: Scripts', style=ButtonStyle()), Button(description='Unrelated: Provenance', style=ButtonStyle()), Button(description='Both', style=ButtonStyle()), Button(description='Ok', style=ButtonStyle()))), HBox(children=(Dropdown(description='Type', index=5, options=('Work', 'WorkSnowball', 'WorkForward', 'WorkBackward', 'WorkOk', 'WorkUnrelated', 'WorkNoFile', 'WorkLang', 'Site', 'Email'), value='WorkUnrelated'), ToggleButton(value=False, description='File'))), HBox(children=(Text(value='', description='Due'), Text(value='', description='Place'))), HBox(children=(Text(value='', description='Year'), Text(value='', description='Prefix Var'))), HBox(children=(Text(value='', description='PDFPage'), Text(value='', description='Related'))), HBox(children=(Text(value='', description='Display'), Text(value='', description='Summary'))), HBox(children=(Text(value='', description='Star'), Text(value='', description='Link'))), HBox(children=(Button(description='Reload Article', icon='refresh', style=ButtonStyle()), IntSlider(value=0, max=7), Label(value='1/8'))), Output()))"
      ]
     },
     "metadata": {},
     "output_type": "display_data"
    },
    {
     "data": {
      "application/javascript": [
       "$('span:contains(\"# Temp\")').closest('.cell').remove();"
      ],
      "text/plain": [
       "<IPython.core.display.Javascript object>"
      ]
     },
     "metadata": {},
     "output_type": "display_data"
    },
    {
     "data": {
      "application/javascript": [
       "\n",
       "        $('span:contains(\"# Temp\")').closest('.cell').remove();\n",
       "        var code = IPython.notebook.insert_cell_below('code');\n",
       "        code.set_text(atob(\"IyBUZW1wCmluc2VydCgnJycKZXJkb2dtdXMyMDA0YSA9IERCKFdvcmtVbnJlbGF0ZWQoCiAgICAyMDA0LCAiR3Vlc3QgZWRpdG9ycycgaW50cm9kdWN0aW9uOiBSZXR1cm4gb24gaW52ZXN0bWVudCIsCiAgICBkaXNwbGF5PSJlcmRvZ211cyIsCiAgICBhdXRob3JzPSJFcmRvZ211cywgSC4gYW5kIEZhdmFybywgSi4gYW5kIFN0cmlnZWwsIFcuIiwKICAgIHBsYWNlPUlFRUVTLAogICAgcHA9IjE4LTIyIiwKICAgIGVudHJ5dHlwZT0iYXJ0aWNsZSIsCiAgICB2b2x1bWU9IjIxIiwKICAgIG51bWJlcj0iMyIsCiAgICBkb2k9IjEwLjExMDkvTVMuMjAwNC4xMjkzMDY4IiwKICAgIG5vdGU9ImNpdGVkIEJ5IDI4IiwKICAgIElEPSJFcmRvZ211czIwMDQxOCIsCiAgICBwbGFjZXg9IklFRUUgU29mdHdhcmUiLAopKQoKREIoQ2l0YXRpb24oCiAgICBtYW5kaT8yMDEwYSwgZXJkb2dtdXMyMDA0YSwgcmVmPSIiLAogICAgY29udGV4dHM9WwoKICAgIF0sCikpCgonJycsIGNpdGF0aW9ucz0nbWFuZGk/MjAxMGEnKTs=\"));\n",
       "    "
      ],
      "text/plain": [
       "<IPython.core.display.Javascript object>"
      ]
     },
     "metadata": {},
     "output_type": "display_data"
    },
    {
     "data": {
      "application/javascript": [
       "$('span:contains(\"# Temp\")').closest('.cell').remove();"
      ],
      "text/plain": [
       "<IPython.core.display.Javascript object>"
      ]
     },
     "metadata": {},
     "output_type": "display_data"
    },
    {
     "data": {
      "application/javascript": [
       "\n",
       "        $('span:contains(\"# Temp\")').closest('.cell').remove();\n",
       "        var code = IPython.notebook.insert_cell_below('code');\n",
       "        code.set_text(atob(\"IyBUZW1wCmluc2VydCgnJycKYnJhbmRvbjE5OThhID0gREIoV29ya1VucmVsYXRlZCgKICAgIDE5OTgsICJJbXBsZW1lbnRpbmcgZWFybmVkIHZhbHVlIGVhc2lseSBhbmQgZWZmZWN0aXZlbHkiLAogICAgZGlzcGxheT0iYnJhbmRvbiIsCiAgICBhdXRob3JzPSJCcmFuZG9uLCBELk0uIiwKICAgIHBsYWNlPUZBS0UsCiAgICBwcD0iMTEtMTgiLAogICAgZW50cnl0eXBlPSJhcnRpY2xlIiwKICAgIHZvbHVtZT0iMjkiLAogICAgbnVtYmVyPSIyIiwKICAgIG5vdGU9ImNpdGVkIEJ5IDIzIiwKICAgIElEPSJCcmFuZG9uMTk5ODExIiwKICAgIHBsYWNleD0iUHJvamVjdCBNYW5hZ2VtZW50IEpvdXJuYWwiLAopKQoKREIoQ2l0YXRpb24oCiAgICBtYW5kaT8yMDEwYSwgYnJhbmRvbjE5OThhLCByZWY9IiIsCiAgICBjb250ZXh0cz1bCgogICAgXSwKKSkKCicnJywgY2l0YXRpb25zPSdtYW5kaT8yMDEwYScpOw==\"));\n",
       "    "
      ],
      "text/plain": [
       "<IPython.core.display.Javascript object>"
      ]
     },
     "metadata": {},
     "output_type": "display_data"
    },
    {
     "data": {
      "application/javascript": [
       "$('span:contains(\"# Temp\")').closest('.cell').remove();"
      ],
      "text/plain": [
       "<IPython.core.display.Javascript object>"
      ]
     },
     "metadata": {},
     "output_type": "display_data"
    },
    {
     "data": {
      "application/javascript": [
       "\n",
       "        $('span:contains(\"# Temp\")').closest('.cell').remove();\n",
       "        var code = IPython.notebook.insert_cell_below('code');\n",
       "        code.set_text(atob(\"IyBUZW1wCmluc2VydCgnJycKYnJhbmRvbjE5OThhID0gREIoV29ya1VucmVsYXRlZCgKICAgIDE5OTgsICJJbXBsZW1lbnRpbmcgZWFybmVkIHZhbHVlIGVhc2lseSBhbmQgZWZmZWN0aXZlbHkiLAogICAgZGlzcGxheT0iYnJhbmRvbiIsCiAgICBhdXRob3JzPSJCcmFuZG9uLCBELk0uIiwKICAgIHBsYWNlPUZBS0UsCiAgICBwcD0iMTEtMTgiLAogICAgZW50cnl0eXBlPSJhcnRpY2xlIiwKICAgIHZvbHVtZT0iMjkiLAogICAgbnVtYmVyPSIyIiwKICAgIG5vdGU9ImNpdGVkIEJ5IDIzIiwKICAgIElEPSJCcmFuZG9uMTk5ODExIiwKICAgIHBsYWNleD0iUHJvamVjdCBNYW5hZ2VtZW50IEpvdXJuYWwiLAopKQoKREIoQ2l0YXRpb24oCiAgICBtYW5kaT8yMDEwYSwgYnJhbmRvbjE5OThhLCByZWY9IiIsCiAgICBjb250ZXh0cz1bCgogICAgXSwKKSkKCicnJywgY2l0YXRpb25zPSdtYW5kaT8yMDEwYScpOw==\"));\n",
       "    "
      ],
      "text/plain": [
       "<IPython.core.display.Javascript object>"
      ]
     },
     "metadata": {},
     "output_type": "display_data"
    },
    {
     "data": {
      "application/javascript": [
       "$('span:contains(\"# Temp\")').closest('.cell').remove();"
      ],
      "text/plain": [
       "<IPython.core.display.Javascript object>"
      ]
     },
     "metadata": {},
     "output_type": "display_data"
    },
    {
     "data": {
      "application/javascript": [
       "\n",
       "        $('span:contains(\"# Temp\")').closest('.cell').remove();\n",
       "        var code = IPython.notebook.insert_cell_below('code');\n",
       "        code.set_text(atob(\"IyBUZW1wCmluc2VydCgnJycKYm9laG0yMDAzYSA9IERCKFdvcmtVbnJlbGF0ZWQoCiAgICAyMDAzLCAiVmFsdWUtYmFzZWQgc29mdHdhcmUgZW5naW5lZXJpbmc6IEEgY2FzZSBzdHVkeSIsCiAgICBkaXNwbGF5PSJib2VobSIsCiAgICBhdXRob3JzPSJCb2VobSwgQi4gYW5kIEh1YW5nLCBMLkcuIiwKICAgIHBsYWNlPUMsCiAgICBwcD0iMzMtNDErNCIsCiAgICBlbnRyeXR5cGU9ImFydGljbGUiLAogICAgdm9sdW1lPSIzNiIsCiAgICBudW1iZXI9IjMiLAogICAgZG9pPSIxMC4xMTA5L01DLjIwMDMuMTE4NTIxNSIsCiAgICBub3RlPSJjaXRlZCBCeSA5NyIsCiAgICBJRD0iQm9laG0yMDAzMzMiLAogICAgcGxhY2V4PSJDb21wdXRlciIsCikpCgpEQihDaXRhdGlvbigKICAgIG1hbmRpPzIwMTBhLCBib2VobTIwMDNhLCByZWY9IiIsCiAgICBjb250ZXh0cz1bCgogICAgXSwKKSkKCicnJywgY2l0YXRpb25zPSdtYW5kaT8yMDEwYScpOw==\"));\n",
       "    "
      ],
      "text/plain": [
       "<IPython.core.display.Javascript object>"
      ]
     },
     "metadata": {},
     "output_type": "display_data"
    },
    {
     "data": {
      "application/javascript": [
       "$('span:contains(\"# Temp\")').closest('.cell').remove();"
      ],
      "text/plain": [
       "<IPython.core.display.Javascript object>"
      ]
     },
     "metadata": {},
     "output_type": "display_data"
    },
    {
     "data": {
      "application/javascript": [
       "\n",
       "        $('span:contains(\"# Temp\")').closest('.cell').remove();\n",
       "        var code = IPython.notebook.insert_cell_below('code');\n",
       "        code.set_text(atob(\"IyBUZW1wCmluc2VydCgnJycKYm9laG0yMDAzYSA9IERCKFdvcmtVbnJlbGF0ZWQoCiAgICAyMDAzLCAiVmFsdWUtYmFzZWQgc29mdHdhcmUgZW5naW5lZXJpbmc6IEEgY2FzZSBzdHVkeSIsCiAgICBkaXNwbGF5PSJib2VobSIsCiAgICBhdXRob3JzPSJCb2VobSwgQi4gYW5kIEh1YW5nLCBMLkcuIiwKICAgIHBsYWNlPUMsCiAgICBwcD0iMzMtNDErNCIsCiAgICBlbnRyeXR5cGU9ImFydGljbGUiLAogICAgdm9sdW1lPSIzNiIsCiAgICBudW1iZXI9IjMiLAogICAgZG9pPSIxMC4xMTA5L01DLjIwMDMuMTE4NTIxNSIsCiAgICBub3RlPSJjaXRlZCBCeSA5NyIsCiAgICBJRD0iQm9laG0yMDAzMzMiLAogICAgcGxhY2V4PSJDb21wdXRlciIsCikpCgpEQihDaXRhdGlvbigKICAgIG1hbmRpPzIwMTBhLCBib2VobTIwMDNhLCByZWY9IiIsCiAgICBjb250ZXh0cz1bCgogICAgXSwKKSkKCicnJywgY2l0YXRpb25zPSdtYW5kaT8yMDEwYScpOw==\"));\n",
       "    "
      ],
      "text/plain": [
       "<IPython.core.display.Javascript object>"
      ]
     },
     "metadata": {},
     "output_type": "display_data"
    },
    {
     "data": {
      "application/javascript": [
       "$('span:contains(\"# Temp\")').closest('.cell').remove();"
      ],
      "text/plain": [
       "<IPython.core.display.Javascript object>"
      ]
     },
     "metadata": {},
     "output_type": "display_data"
    },
    {
     "data": {
      "application/javascript": [
       "\n",
       "        $('span:contains(\"# Temp\")').closest('.cell').remove();\n",
       "        var code = IPython.notebook.insert_cell_below('code');\n",
       "        code.set_text(atob(\"IyBUZW1wCmluc2VydCgnJycKYm9laG0yMDAzYiA9IERCKFdvcmtVbnJlbGF0ZWQoCiAgICAyMDAzLCAiVmFsdWUtYmFzZWQgc29mdHdhcmUgZW5naW5lZXJpbmciLAogICAgZGlzcGxheT0iYm9laG0gYiIsCiAgICBhdXRob3JzPSJCb2VobSwgQi4iLAogICAgcGxhY2U9RkFLRSwKICAgIHBwPSIxLTEyIiwKICAgIGVudHJ5dHlwZT0iYXJ0aWNsZSIsCiAgICB2b2x1bWU9IjI4IiwKICAgIG51bWJlcj0iMiIsCiAgICBub3RlPSJjaXRlZCBCeSAyMDQiLAogICAgSUQ9IkJvZWhtMjAwMzEiLAogICAgcGxhY2V4PSJBQ00gU29mdHdhcmUgRW5naW5lZXJpbmcgTm90ZXMiLAopKQoKREIoQ2l0YXRpb24oCiAgICBtYW5kaT8yMDEwYSwgYm9laG0yMDAzYiwgcmVmPSIiLAogICAgY29udGV4dHM9WwoKICAgIF0sCikpCgonJycsIGNpdGF0aW9ucz0nbWFuZGk/MjAxMGEnKTs=\"));\n",
       "    "
      ],
      "text/plain": [
       "<IPython.core.display.Javascript object>"
      ]
     },
     "metadata": {},
     "output_type": "display_data"
    },
    {
     "data": {
      "application/javascript": [
       "$('span:contains(\"# Temp\")').closest('.cell').remove();"
      ],
      "text/plain": [
       "<IPython.core.display.Javascript object>"
      ]
     },
     "metadata": {},
     "output_type": "display_data"
    },
    {
     "data": {
      "application/javascript": [
       "\n",
       "        $('span:contains(\"# Temp\")').closest('.cell').remove();\n",
       "        var code = IPython.notebook.insert_cell_below('code');\n",
       "        code.set_text(atob(\"IyBUZW1wCmluc2VydCgnJycKYm9laG0yMDAzYiA9IERCKFdvcmtVbnJlbGF0ZWQoCiAgICAyMDAzLCAiVmFsdWUtYmFzZWQgc29mdHdhcmUgZW5naW5lZXJpbmciLAogICAgZGlzcGxheT0iYm9laG0gYiIsCiAgICBhdXRob3JzPSJCb2VobSwgQi4iLAogICAgcGxhY2U9RkFLRSwKICAgIHBwPSIxLTEyIiwKICAgIGVudHJ5dHlwZT0iYXJ0aWNsZSIsCiAgICB2b2x1bWU9IjI4IiwKICAgIG51bWJlcj0iMiIsCiAgICBub3RlPSJjaXRlZCBCeSAyMDQiLAogICAgSUQ9IkJvZWhtMjAwMzEiLAogICAgcGxhY2V4PSJBQ00gU29mdHdhcmUgRW5naW5lZXJpbmcgTm90ZXMiLAopKQoKREIoQ2l0YXRpb24oCiAgICBtYW5kaT8yMDEwYSwgYm9laG0yMDAzYiwgcmVmPSIiLAogICAgY29udGV4dHM9WwoKICAgIF0sCikpCgonJycsIGNpdGF0aW9ucz0nbWFuZGk/MjAxMGEnKTs=\"));\n",
       "    "
      ],
      "text/plain": [
       "<IPython.core.display.Javascript object>"
      ]
     },
     "metadata": {},
     "output_type": "display_data"
    },
    {
     "data": {
      "application/javascript": [
       "$('span:contains(\"# Temp\")').closest('.cell').remove();"
      ],
      "text/plain": [
       "<IPython.core.display.Javascript object>"
      ]
     },
     "metadata": {},
     "output_type": "display_data"
    },
    {
     "data": {
      "application/javascript": [
       "\n",
       "        $('span:contains(\"# Temp\")').closest('.cell').remove();\n",
       "        var code = IPython.notebook.insert_cell_below('code');\n",
       "        code.set_text(atob(\"IyBUZW1wCmluc2VydCgnJycKYmFzaWxpMTk5M2EgPSBEQihXb3JrVW5yZWxhdGVkKAogICAgMTk5MywgIlRoZSBleHBlcmllbmNlIGZhY3RvcnkgYW5kIGl0cyByZWxhdGlvbnNoaXAgdG8gb3RoZXIgaW1wcm92ZW1lbnQgcGFyYWRpZ21zIiwKICAgIGRpc3BsYXk9ImJhc2lsaSIsCiAgICBhdXRob3JzPSJCYXNpbGksIFYuUi4iLAogICAgcGxhY2U9RkFLRSwKICAgIHBwPSI2OC04MyIsCiAgICBlbnRyeXR5cGU9ImFydGljbGUiLAogICAgdm9sdW1lPSI3MTcgTE5DUyIsCiAgICBub3RlPSJjaXRlZCBCeSA0MyIsCiAgICBJRD0iQmFzaWxpMTk5MzY4IiwKICAgIHBsYWNleD0iTGVjdHVyZSBOb3RlcyBpbiBDb21wdXRlciBTY2llbmNlIChpbmNsdWRpbmcgc3Vic2VyaWVzIExlY3R1cmUgTm90ZXMgaW4gQXJ0aWZpY2lhbCBJbnRlbGxpZ2VuY2UgYW5kIExlY3R1cmUgTm90ZXMgaW4gQmlvaW5mb3JtYXRpY3MpIiwKKSkKCkRCKENpdGF0aW9uKAogICAgbWFuZGk/MjAxMGEsIGJhc2lsaTE5OTNhLCByZWY9IiIsCiAgICBjb250ZXh0cz1bCgogICAgXSwKKSkKCicnJywgY2l0YXRpb25zPSdtYW5kaT8yMDEwYScpOw==\"));\n",
       "    "
      ],
      "text/plain": [
       "<IPython.core.display.Javascript object>"
      ]
     },
     "metadata": {},
     "output_type": "display_data"
    },
    {
     "data": {
      "application/javascript": [
       "$('span:contains(\"# Temp\")').closest('.cell').remove();"
      ],
      "text/plain": [
       "<IPython.core.display.Javascript object>"
      ]
     },
     "metadata": {},
     "output_type": "display_data"
    },
    {
     "data": {
      "application/javascript": [
       "\n",
       "        $('span:contains(\"# Temp\")').closest('.cell').remove();\n",
       "        var code = IPython.notebook.insert_cell_below('code');\n",
       "        code.set_text(atob(\"IyBUZW1wCmluc2VydCgnJycKYmFzaWxpMTk5M2EgPSBEQihXb3JrVW5yZWxhdGVkKAogICAgMTk5MywgIlRoZSBleHBlcmllbmNlIGZhY3RvcnkgYW5kIGl0cyByZWxhdGlvbnNoaXAgdG8gb3RoZXIgaW1wcm92ZW1lbnQgcGFyYWRpZ21zIiwKICAgIGRpc3BsYXk9ImJhc2lsaSIsCiAgICBhdXRob3JzPSJCYXNpbGksIFYuUi4iLAogICAgcGxhY2U9RkFLRSwKICAgIHBwPSI2OC04MyIsCiAgICBlbnRyeXR5cGU9ImFydGljbGUiLAogICAgdm9sdW1lPSI3MTcgTE5DUyIsCiAgICBub3RlPSJjaXRlZCBCeSA0MyIsCiAgICBJRD0iQmFzaWxpMTk5MzY4IiwKICAgIHBsYWNleD0iTGVjdHVyZSBOb3RlcyBpbiBDb21wdXRlciBTY2llbmNlIChpbmNsdWRpbmcgc3Vic2VyaWVzIExlY3R1cmUgTm90ZXMgaW4gQXJ0aWZpY2lhbCBJbnRlbGxpZ2VuY2UgYW5kIExlY3R1cmUgTm90ZXMgaW4gQmlvaW5mb3JtYXRpY3MpIiwKKSkKCkRCKENpdGF0aW9uKAogICAgbWFuZGk/MjAxMGEsIGJhc2lsaTE5OTNhLCByZWY9IiIsCiAgICBjb250ZXh0cz1bCgogICAgXSwKKSkKCicnJywgY2l0YXRpb25zPSdtYW5kaT8yMDEwYScpOw==\"));\n",
       "    "
      ],
      "text/plain": [
       "<IPython.core.display.Javascript object>"
      ]
     },
     "metadata": {},
     "output_type": "display_data"
    },
    {
     "data": {
      "application/javascript": [
       "$('span:contains(\"# Temp\")').closest('.cell').remove();"
      ],
      "text/plain": [
       "<IPython.core.display.Javascript object>"
      ]
     },
     "metadata": {},
     "output_type": "display_data"
    },
    {
     "data": {
      "application/javascript": [
       "\n",
       "        $('span:contains(\"# Temp\")').closest('.cell').remove();\n",
       "        var code = IPython.notebook.insert_cell_below('code');\n",
       "        code.set_text(atob(\"IyBUZW1wCmluc2VydCgnJycKREIoQ2l0YXRpb24oCiAgICBtYW5kaT8yMDEwYSwgYmFzaWxpMTk5NGEsIHJlZj0iIiwKICAgIGNvbnRleHRzPVsKCiAgICBdLAopKQoKJycnLCBjaXRhdGlvbnM9J21hbmRpPzIwMTBhJyk7\"));\n",
       "    "
      ],
      "text/plain": [
       "<IPython.core.display.Javascript object>"
      ]
     },
     "metadata": {},
     "output_type": "display_data"
    },
    {
     "data": {
      "application/javascript": [
       "$('span:contains(\"# Temp\")').closest('.cell').remove();"
      ],
      "text/plain": [
       "<IPython.core.display.Javascript object>"
      ]
     },
     "metadata": {},
     "output_type": "display_data"
    },
    {
     "data": {
      "application/javascript": [
       "\n",
       "        $('span:contains(\"# Temp\")').closest('.cell').remove();\n",
       "        var code = IPython.notebook.insert_cell_below('code');\n",
       "        code.set_text(atob(\"IyBUZW1wCmluc2VydCgnJycKREIoQ2l0YXRpb24oCiAgICBtYW5kaT8yMDEwYSwgYmFzaWxpMTk5NGEsIHJlZj0iIiwKICAgIGNvbnRleHRzPVsKCiAgICBdLAopKQoKJycnLCBjaXRhdGlvbnM9J21hbmRpPzIwMTBhJyk7\"));\n",
       "    "
      ],
      "text/plain": [
       "<IPython.core.display.Javascript object>"
      ]
     },
     "metadata": {},
     "output_type": "display_data"
    },
    {
     "data": {
      "application/javascript": [
       "$('span:contains(\"# Temp\")').closest('.cell').remove();"
      ],
      "text/plain": [
       "<IPython.core.display.Javascript object>"
      ]
     },
     "metadata": {},
     "output_type": "display_data"
    },
    {
     "data": {
      "application/javascript": [
       "\n",
       "        $('span:contains(\"# Temp\")').closest('.cell').remove();\n",
       "        var code = IPython.notebook.insert_cell_below('code');\n",
       "        code.set_text(atob(\"IyBUZW1wCmluc2VydCgnJycKREIoQ2l0YXRpb24oCiAgICBtYW5kaT8yMDEwYSwgYmFzaWxpMjAxMGEsIHJlZj0iIiwKICAgIGNvbnRleHRzPVsKCiAgICBdLAopKQoKJycnLCBjaXRhdGlvbnM9J21hbmRpPzIwMTBhJyk7CnNldF9hdHRyaWJ1dGUoJ2Jhc2lsaTIwMTBhJywgJ3BsYWNleCcsICdDb21wdXRlcicpOw==\"));\n",
       "    "
      ],
      "text/plain": [
       "<IPython.core.display.Javascript object>"
      ]
     },
     "metadata": {},
     "output_type": "display_data"
    },
    {
     "data": {
      "application/javascript": [
       "$('span:contains(\"# Temp\")').closest('.cell').remove();"
      ],
      "text/plain": [
       "<IPython.core.display.Javascript object>"
      ]
     },
     "metadata": {},
     "output_type": "display_data"
    },
    {
     "data": {
      "application/javascript": [
       "\n",
       "        $('span:contains(\"# Temp\")').closest('.cell').remove();\n",
       "        var code = IPython.notebook.insert_cell_below('code');\n",
       "        code.set_text(atob(\"IyBUZW1wCmluc2VydCgnJycKREIoQ2l0YXRpb24oCiAgICBtYW5kaT8yMDEwYSwgYmFzaWxpMjAxMGEsIHJlZj0iIiwKICAgIGNvbnRleHRzPVsKCiAgICBdLAopKQoKJycnLCBjaXRhdGlvbnM9J21hbmRpPzIwMTBhJyk7CnNldF9hdHRyaWJ1dGUoJ2Jhc2lsaTIwMTBhJywgJ3BsYWNleCcsICdDb21wdXRlcicpOw==\"));\n",
       "    "
      ],
      "text/plain": [
       "<IPython.core.display.Javascript object>"
      ]
     },
     "metadata": {},
     "output_type": "display_data"
    },
    {
     "data": {
      "application/javascript": [
       "$('span:contains(\"# Temp\")').closest('.cell').remove();"
      ],
      "text/plain": [
       "<IPython.core.display.Javascript object>"
      ]
     },
     "metadata": {},
     "output_type": "display_data"
    },
    {
     "data": {
      "application/javascript": [
       "\n",
       "        $('span:contains(\"# Temp\")').closest('.cell').remove();\n",
       "        var code = IPython.notebook.insert_cell_below('code');\n",
       "        code.set_text(atob(\"IyBUZW1wCmluc2VydCgnJycKREIoQ2l0YXRpb24oCiAgICBtYW5kaT8yMDEwYSwgbWFuZGk/MjAxMGIsIHJlZj0iIiwKICAgIGNvbnRleHRzPVsKCiAgICBdLAopKQoKJycnLCBjaXRhdGlvbnM9J21hbmRpPzIwMTBhJyk7\"));\n",
       "    "
      ],
      "text/plain": [
       "<IPython.core.display.Javascript object>"
      ]
     },
     "metadata": {},
     "output_type": "display_data"
    },
    {
     "data": {
      "application/javascript": [
       "$('span:contains(\"# Temp\")').closest('.cell').remove();"
      ],
      "text/plain": [
       "<IPython.core.display.Javascript object>"
      ]
     },
     "metadata": {},
     "output_type": "display_data"
    },
    {
     "data": {
      "application/javascript": [
       "\n",
       "        $('span:contains(\"# Temp\")').closest('.cell').remove();\n",
       "        var code = IPython.notebook.insert_cell_below('code');\n",
       "        code.set_text(atob(\"IyBUZW1wCmluc2VydCgnJycKREIoQ2l0YXRpb24oCiAgICBtYW5kaT8yMDEwYSwgbWFuZGk/MjAxMGIsIHJlZj0iIiwKICAgIGNvbnRleHRzPVsKCiAgICBdLAopKQoKJycnLCBjaXRhdGlvbnM9J21hbmRpPzIwMTBhJyk7\"));\n",
       "    "
      ],
      "text/plain": [
       "<IPython.core.display.Javascript object>"
      ]
     },
     "metadata": {},
     "output_type": "display_data"
    }
   ],
   "source": [
    "import importlib\n",
    "import custom_snowballing\n",
    "importlib.reload(custom_snowballing)\n",
    "from custom_snowballing import UnrelatedBackward\n",
    "UnrelatedBackward(\"mandić2010a\", articles=article_list)"
   ]
  },
  {
   "cell_type": "code",
   "execution_count": 31,
   "metadata": {},
   "outputs": [
    {
     "name": "stdout",
     "output_type": "stream",
     "text": [
      "-Insert Import: mandić2010b\n",
      "-Insert Citation: mandić2010a -> mandić2010b\n"
     ]
    }
   ],
   "source": [
    "# Temp\n",
    "insert('''\n",
    "DB(Citation(\n",
    "    mandić2010a, mandić2010b, ref=\"\",\n",
    "    contexts=[\n",
    "\n",
    "    ],\n",
    "))\n",
    "\n",
    "''', citations='mandić2010a');"
   ]
  },
  {
   "cell_type": "code",
   "execution_count": null,
   "metadata": {
    "collapsed": true
   },
   "outputs": [],
   "source": []
  }
 ],
 "metadata": {
  "kernelspec": {
   "display_name": "Python 3",
   "language": "python",
   "name": "python3"
  },
  "language_info": {
   "codemirror_mode": {
    "name": "ipython",
    "version": 3
   },
   "file_extension": ".py",
   "mimetype": "text/x-python",
   "name": "python",
   "nbconvert_exporter": "python",
   "pygments_lexer": "ipython3",
   "version": "3.6.0"
  },
  "toc": {
   "nav_menu": {
    "height": "12px",
    "width": "252px"
   },
   "number_sections": true,
   "sideBar": true,
   "skip_h1_title": false,
   "toc_cell": false,
   "toc_position": {},
   "toc_section_display": "block",
   "toc_window_display": false
  }
 },
 "nbformat": 4,
 "nbformat_minor": 2
}
