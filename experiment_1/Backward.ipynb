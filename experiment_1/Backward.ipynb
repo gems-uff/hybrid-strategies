{
 "cells": [
  {
   "cell_type": "code",
   "execution_count": 1,
   "metadata": {
    "collapsed": true
   },
   "outputs": [],
   "source": [
    "import database\n",
    "from snowballing.operations import load_work, reload, work_by_varname\n",
    "from snowballing.snowballing import Converter\n",
    "from snowballing.dbmanager import insert, set_attribute"
   ]
  },
  {
   "cell_type": "code",
   "execution_count": 137,
   "metadata": {
    "scrolled": true
   },
   "outputs": [
    {
     "data": {
      "application/vnd.jupyter.widget-view+json": {
       "model_id": "2e608bbd349f41f8ae362e848aa20fd8",
       "version_major": 2,
       "version_minor": 0
      },
      "text/html": [
       "<p>Failed to display Jupyter Widget of type <code>VBox</code>.</p>\n",
       "<p>\n",
       "  If you're reading this message in Jupyter Notebook or JupyterLab, it may mean\n",
       "  that the widgets JavaScript is still loading. If this message persists, it\n",
       "  likely means that the widgets JavaScript library is either not installed or\n",
       "  not enabled. See the <a href=\"https://ipywidgets.readthedocs.io/en/stable/user_install.html\">Jupyter\n",
       "  Widgets Documentation</a> for setup instructions.\n",
       "</p>\n",
       "<p>\n",
       "  If you're reading this message in another notebook frontend (for example, a static\n",
       "  rendering on GitHub or <a href=\"https://nbviewer.jupyter.org/\">NBViewer</a>),\n",
       "  it may mean that your frontend doesn't currently support widgets.\n",
       "</p>\n"
      ],
      "text/plain": [
       "VBox(children=(HBox(children=(Dropdown(index=1, options={'BibTeX': 'bibtex', 'Text': 'text', '[N] author name place other year': 'citation', 'Quoted': 'quoted'}, value='text'), Button(description='Set article_list variable', disabled=True, style=ButtonStyle()), Label(value=''))), HBox(children=(Textarea(value='', layout=Layout(height='500px', width='50%')), Textarea(value='', layout=Layout(height='500px', width='50%'))))))"
      ]
     },
     "metadata": {},
     "output_type": "display_data"
    }
   ],
   "source": [
    "Converter().browser()"
   ]
  },
  {
   "cell_type": "code",
   "execution_count": 138,
   "metadata": {},
   "outputs": [
    {
     "data": {
      "text/plain": [
       "5"
      ]
     },
     "execution_count": 138,
     "metadata": {},
     "output_type": "execute_result"
    }
   ],
   "source": [
    "len(article_list)"
   ]
  },
  {
   "cell_type": "code",
   "execution_count": null,
   "metadata": {
    "collapsed": true
   },
   "outputs": [],
   "source": [
    "#from database.work.y2015 import li2015a"
   ]
  },
  {
   "cell_type": "code",
   "execution_count": null,
   "metadata": {
    "collapsed": true
   },
   "outputs": [],
   "source": [
    "#int(getattr(li2015a, 'scopus', 0))"
   ]
  },
  {
   "cell_type": "code",
   "execution_count": null,
   "metadata": {
    "collapsed": true
   },
   "outputs": [],
   "source": [
    "#print(article_list)"
   ]
  },
  {
   "cell_type": "code",
   "execution_count": null,
   "metadata": {
    "collapsed": true
   },
   "outputs": [],
   "source": []
  },
  {
   "cell_type": "code",
   "execution_count": null,
   "metadata": {
    "collapsed": true
   },
   "outputs": [],
   "source": []
  },
  {
   "cell_type": "code",
   "execution_count": null,
   "metadata": {
    "collapsed": true
   },
   "outputs": [],
   "source": []
  },
  {
   "cell_type": "code",
   "execution_count": 139,
   "metadata": {},
   "outputs": [
    {
     "data": {
      "application/vnd.jupyter.widget-view+json": {
       "model_id": "89943b808081492d8c47f18640c7e2d7",
       "version_major": 2,
       "version_minor": 0
      },
      "text/html": [
       "<p>Failed to display Jupyter Widget of type <code>VBox</code>.</p>\n",
       "<p>\n",
       "  If you're reading this message in Jupyter Notebook or JupyterLab, it may mean\n",
       "  that the widgets JavaScript is still loading. If this message persists, it\n",
       "  likely means that the widgets JavaScript library is either not installed or\n",
       "  not enabled. See the <a href=\"https://ipywidgets.readthedocs.io/en/stable/user_install.html\">Jupyter\n",
       "  Widgets Documentation</a> for setup instructions.\n",
       "</p>\n",
       "<p>\n",
       "  If you're reading this message in another notebook frontend (for example, a static\n",
       "  rendering on GitHub or <a href=\"https://nbviewer.jupyter.org/\">NBViewer</a>),\n",
       "  it may mean that your frontend doesn't currently support widgets.\n",
       "</p>\n"
      ],
      "text/plain": [
       "VBox(children=(HBox(children=(Button(description='Previous Article', disabled=True, icon='caret-left', style=ButtonStyle()), Button(description='Reload Article', icon='refresh', style=ButtonStyle()), Button(description='Next Article', icon='caret-right', style=ButtonStyle()))), HBox(children=(Button(description='Unrelated: Scripts', style=ButtonStyle()), Button(description='Unrelated: Provenance', style=ButtonStyle()), Button(description='Both', style=ButtonStyle()), Button(description='Ok', style=ButtonStyle()))), HBox(children=(Dropdown(description='Type', index=3, options=('Work', 'WorkSnowball', 'WorkOk', 'WorkUnrelated', 'WorkNoFile', 'WorkLang', 'Site', 'Email'), value='WorkUnrelated'), ToggleButton(value=False, description='File'))), HBox(children=(Text(value='', description='Due'), Text(value='', description='Place'))), HBox(children=(Text(value='', description='Year'), Text(value='', description='Prefix Var'))), HBox(children=(Text(value='', description='PDFPage'), Text(value='', description='Related'))), HBox(children=(Text(value='', description='Display'), Text(value='', description='Summary'))), HBox(children=(Text(value='', description='Star'), Text(value='', description='Link'))), HBox(children=(Button(description='Reload Article', icon='refresh', style=ButtonStyle()), IntSlider(value=0, max=4), Label(value='1/5'))), Output()))"
      ]
     },
     "metadata": {},
     "output_type": "display_data"
    },
    {
     "data": {
      "application/javascript": [
       "$('span:contains(\"# Temp\")').closest('.cell').remove();"
      ],
      "text/plain": [
       "<IPython.core.display.Javascript object>"
      ]
     },
     "metadata": {},
     "output_type": "display_data"
    },
    {
     "data": {
      "application/javascript": [
       "\n",
       "        $('span:contains(\"# Temp\")').closest('.cell').remove();\n",
       "        var code = IPython.notebook.insert_cell_below('code');\n",
       "        code.set_text(atob(\"IyBUZW1wCmluc2VydCgnJycKZG9kMTk5NmEgPSBEQihXb3JrVW5yZWxhdGVkKAogICAgMTk5NiwgIkRvRCBHdWlkZSB0byBJbnRlZ3JhdGVkIFByb2R1Y3QgYW5kIFByb2Nlc3MgRGV2ZWxvcG1lbnQiLAogICAgZGlzcGxheT0iZG9kIiwKICAgIGF1dGhvcnM9IkRPRCIsCiAgICBwbGFjZT1GQUtFLAogICAgZW50cnl0eXBlPSJhcnRpY2xlIiwKICAgIElEPSJET0QxOTk2IiwKICAgIHBsYWNleD0iT2ZmaWNlIG9mIHRoZSBVbmRlciAgU2VjcmV0YXJ5IG9mIERlZmVuc2UgKEFjcXVpc2l0aW9uIGFuZCBUZWNobm9sb2d5IiwKKSkKCkRCKENpdGF0aW9uKAogICAgbWNjb3kxOTk4YSwgZG9kMTk5NmEsIHJlZj0iIiwKICAgIGNvbnRleHRzPVsKCiAgICBdLAopKQoKJycnLCBjaXRhdGlvbnM9J21jY295MTk5OGEnKTs=\"));\n",
       "    "
      ],
      "text/plain": [
       "<IPython.core.display.Javascript object>"
      ]
     },
     "metadata": {},
     "output_type": "display_data"
    },
    {
     "data": {
      "application/javascript": [
       "$('span:contains(\"# Temp\")').closest('.cell').remove();"
      ],
      "text/plain": [
       "<IPython.core.display.Javascript object>"
      ]
     },
     "metadata": {},
     "output_type": "display_data"
    },
    {
     "data": {
      "application/javascript": [
       "\n",
       "        $('span:contains(\"# Temp\")').closest('.cell').remove();\n",
       "        var code = IPython.notebook.insert_cell_below('code');\n",
       "        code.set_text(atob(\"IyBUZW1wCmluc2VydCgnJycKICAgIGJsYWNrZXJieTE5OTNhID0gREIoV29ya1VucmVsYXRlZCgKICAgICAgICAxOTkzLCAiU3RyYXRlZ2ljICBQbGFubmluZywgQW4gT3ZlcnZpZXcgZm9yIGNvbXBseWluZyB3aXRoIEdQUkEgKFAuTC4KMTAzLTYyKSIsCiAgICAgICAgZGlzcGxheT0iYmxhY2tlcmJ5IiwKICAgICAgICBhdXRob3JzPSJQLiBCbGFja2VyYnkiLAogICAgICAgIHBsYWNlPUZBS0UsCiAgICAgICAgZW50cnl0eXBlPSJhcnRpY2xlIiwKICAgICAgICBJRD0iQmxhY2tlcmJ5MTk5MyIsCiAgICAgICAgcGxhY2V4PSJodHRwOi8vd3d3LnBlcmZzdHJhdC5jb20vYXJ0aWNsZXMvb3ZlcnZpZXcuaHRtIiwKICAgICkpCgpEQihDaXRhdGlvbigKICAgIG1jY295MTk5OGEsIGJsYWNrZXJieTE5OTNhLCByZWY9IiIsCiAgICBjb250ZXh0cz1bCgogICAgXSwKKSkKCicnJywgY2l0YXRpb25zPSdtY2NveTE5OThhJyk7\"));\n",
       "    "
      ],
      "text/plain": [
       "<IPython.core.display.Javascript object>"
      ]
     },
     "metadata": {},
     "output_type": "display_data"
    },
    {
     "data": {
      "application/javascript": [
       "$('span:contains(\"# Temp\")').closest('.cell').remove();"
      ],
      "text/plain": [
       "<IPython.core.display.Javascript object>"
      ]
     },
     "metadata": {},
     "output_type": "display_data"
    },
    {
     "data": {
      "application/javascript": [
       "\n",
       "        $('span:contains(\"# Temp\")').closest('.cell').remove();\n",
       "        var code = IPython.notebook.insert_cell_below('code');\n",
       "        code.set_text(atob(\"IyBUZW1wCmluc2VydCgnJycKICAgIGJsYWNrZXJieTE5OTNhID0gREIoV29ya1VucmVsYXRlZCgKICAgICAgICAxOTkzLCAiU3RyYXRlZ2ljICBQbGFubmluZywgQW4gT3ZlcnZpZXcgZm9yIGNvbXBseWluZyB3aXRoIEdQUkEgKFAuTC4KMTAzLTYyKSIsCiAgICAgICAgZGlzcGxheT0iYmxhY2tlcmJ5IiwKICAgICAgICBhdXRob3JzPSJQLiBCbGFja2VyYnkiLAogICAgICAgIHBsYWNlPUZBS0UsCiAgICAgICAgZW50cnl0eXBlPSJhcnRpY2xlIiwKICAgICAgICBJRD0iQmxhY2tlcmJ5MTk5MyIsCiAgICAgICAgcGxhY2V4PSJodHRwOi8vd3d3LnBlcmZzdHJhdC5jb20vYXJ0aWNsZXMvb3ZlcnZpZXcuaHRtIiwKICAgICkpCgpEQihDaXRhdGlvbigKICAgIG1jY295MTk5OGEsIGJsYWNrZXJieTE5OTNhLCByZWY9IiIsCiAgICBjb250ZXh0cz1bCgogICAgXSwKKSkKCicnJywgY2l0YXRpb25zPSdtY2NveTE5OThhJyk7\"));\n",
       "    "
      ],
      "text/plain": [
       "<IPython.core.display.Javascript object>"
      ]
     },
     "metadata": {},
     "output_type": "display_data"
    },
    {
     "data": {
      "application/javascript": [
       "$('span:contains(\"# Temp\")').closest('.cell').remove();"
      ],
      "text/plain": [
       "<IPython.core.display.Javascript object>"
      ]
     },
     "metadata": {},
     "output_type": "display_data"
    },
    {
     "data": {
      "application/javascript": [
       "\n",
       "        $('span:contains(\"# Temp\")').closest('.cell').remove();\n",
       "        var code = IPython.notebook.insert_cell_below('code');\n",
       "        code.set_text(atob(\"IyBUZW1wCmluc2VydCgnJycKbWFkbmkxOTk4YSA9IERCKFdvcmtVbnJlbGF0ZWQoCiAgICAxOTk4LCAiUHJvY2VzcyBTdXBwb3J0IGZvciBJUFBELUVuYWJsZWQgU3lzdGVtcyBFbmdpbmVlcmluZyIsCiAgICBkaXNwbGF5PSJtYWRuaSIsCiAgICBhdXRob3JzPSJBLiBNLiBNYWRuaSwgVy4gTC4gTWNDb3ksIEMuIE0uIE1hZG5pIiwKICAgIHBsYWNlPUZBS0UsCiAgICBlbnRyeXR5cGU9ImFydGljbGUiLAogICAgSUQ9Ik1hZG5pMTk5OCIsCiAgICBwbGFjZXg9IlByb2NlZWRpbmdzIDE5OTggSUVFRSBDb25mZXJlbmNlIG9uIFN5c3RlbXMgTWFuIGFuZCBDeWJlcm5ldGljcywgMTk5OC1PY3RvYmVyIiwKKSkKCkRCKENpdGF0aW9uKAogICAgbWNjb3kxOTk4YSwgbWFkbmkxOTk4YSwgcmVmPSIiLAogICAgY29udGV4dHM9WwoKICAgIF0sCikpCgonJycsIGNpdGF0aW9ucz0nbWNjb3kxOTk4YScpOw==\"));\n",
       "    "
      ],
      "text/plain": [
       "<IPython.core.display.Javascript object>"
      ]
     },
     "metadata": {},
     "output_type": "display_data"
    },
    {
     "data": {
      "application/javascript": [
       "$('span:contains(\"# Temp\")').closest('.cell').remove();"
      ],
      "text/plain": [
       "<IPython.core.display.Javascript object>"
      ]
     },
     "metadata": {},
     "output_type": "display_data"
    },
    {
     "data": {
      "application/javascript": [
       "\n",
       "        $('span:contains(\"# Temp\")').closest('.cell').remove();\n",
       "        var code = IPython.notebook.insert_cell_below('code');\n",
       "        code.set_text(atob(\"IyBUZW1wCmluc2VydCgnJycKbWFkbmkxOTk4YSA9IERCKFdvcmtVbnJlbGF0ZWQoCiAgICAxOTk4LCAiUHJvY2VzcyBTdXBwb3J0IGZvciBJUFBELUVuYWJsZWQgU3lzdGVtcyBFbmdpbmVlcmluZyIsCiAgICBkaXNwbGF5PSJtYWRuaSIsCiAgICBhdXRob3JzPSJBLiBNLiBNYWRuaSwgVy4gTC4gTWNDb3ksIEMuIE0uIE1hZG5pIiwKICAgIHBsYWNlPUZBS0UsCiAgICBlbnRyeXR5cGU9ImFydGljbGUiLAogICAgSUQ9Ik1hZG5pMTk5OCIsCiAgICBwbGFjZXg9IlByb2NlZWRpbmdzIDE5OTggSUVFRSBDb25mZXJlbmNlIG9uIFN5c3RlbXMgTWFuIGFuZCBDeWJlcm5ldGljcywgMTk5OC1PY3RvYmVyIiwKKSkKCkRCKENpdGF0aW9uKAogICAgbWNjb3kxOTk4YSwgbWFkbmkxOTk4YSwgcmVmPSIiLAogICAgY29udGV4dHM9WwoKICAgIF0sCikpCgonJycsIGNpdGF0aW9ucz0nbWNjb3kxOTk4YScpOw==\"));\n",
       "    "
      ],
      "text/plain": [
       "<IPython.core.display.Javascript object>"
      ]
     },
     "metadata": {},
     "output_type": "display_data"
    },
    {
     "data": {
      "application/javascript": [
       "$('span:contains(\"# Temp\")').closest('.cell').remove();"
      ],
      "text/plain": [
       "<IPython.core.display.Javascript object>"
      ]
     },
     "metadata": {},
     "output_type": "display_data"
    },
    {
     "data": {
      "application/javascript": [
       "\n",
       "        $('span:contains(\"# Temp\")').closest('.cell').remove();\n",
       "        var code = IPython.notebook.insert_cell_below('code');\n",
       "        code.set_text(atob(\"IyBUZW1wCmluc2VydCgnJycKZHluc3lzMTk5OGEgPSBEQihXb3JrVW5yZWxhdGVkKAogICAgMTk5OCwgIklQVCBMZWFybmluZyBDYW1wdXMiLAogICAgZGlzcGxheT0iZHluc3lzIiwKICAgIGF1dGhvcnM9IkRZTlNZUyIsCiAgICBwbGFjZT1GQUtFLAogICAgZW50cnl0eXBlPSJhcnRpY2xlIiwKICAgIElEPSJEWU5TWVMxOTk4IiwKICAgIHBsYWNleD0iQmVsbHdldGhlciBMZWFybmluZyBDZW50ZXIsIEEgRGl2aXNpb24gb2YgRHluYW1pYyAgU3lzdGVtcywgIEluYyIsCikpCgpEQihDaXRhdGlvbigKICAgIG1jY295MTk5OGEsIGR5bnN5czE5OThhLCByZWY9IiIsCiAgICBjb250ZXh0cz1bCgogICAgXSwKKSkKCicnJywgY2l0YXRpb25zPSdtY2NveTE5OThhJyk7\"));\n",
       "    "
      ],
      "text/plain": [
       "<IPython.core.display.Javascript object>"
      ]
     },
     "metadata": {},
     "output_type": "display_data"
    },
    {
     "data": {
      "application/javascript": [
       "$('span:contains(\"# Temp\")').closest('.cell').remove();"
      ],
      "text/plain": [
       "<IPython.core.display.Javascript object>"
      ]
     },
     "metadata": {},
     "output_type": "display_data"
    },
    {
     "data": {
      "application/javascript": [
       "\n",
       "        $('span:contains(\"# Temp\")').closest('.cell').remove();\n",
       "        var code = IPython.notebook.insert_cell_below('code');\n",
       "        code.set_text(atob(\"IyBUZW1wCmluc2VydCgnJycKZHluc3lzMTk5OGEgPSBEQihXb3JrVW5yZWxhdGVkKAogICAgMTk5OCwgIklQVCBMZWFybmluZyBDYW1wdXMiLAogICAgZGlzcGxheT0iZHluc3lzIiwKICAgIGF1dGhvcnM9IkRZTlNZUyIsCiAgICBwbGFjZT1GQUtFLAogICAgZW50cnl0eXBlPSJhcnRpY2xlIiwKICAgIElEPSJEWU5TWVMxOTk4IiwKICAgIHBsYWNleD0iQmVsbHdldGhlciBMZWFybmluZyBDZW50ZXIsIEEgRGl2aXNpb24gb2YgRHluYW1pYyAgU3lzdGVtcywgIEluYyIsCikpCgpEQihDaXRhdGlvbigKICAgIG1jY295MTk5OGEsIGR5bnN5czE5OThhLCByZWY9IiIsCiAgICBjb250ZXh0cz1bCgogICAgXSwKKSkKCicnJywgY2l0YXRpb25zPSdtY2NveTE5OThhJyk7\"));\n",
       "    "
      ],
      "text/plain": [
       "<IPython.core.display.Javascript object>"
      ]
     },
     "metadata": {},
     "output_type": "display_data"
    },
    {
     "data": {
      "application/javascript": [
       "$('span:contains(\"# Temp\")').closest('.cell').remove();"
      ],
      "text/plain": [
       "<IPython.core.display.Javascript object>"
      ]
     },
     "metadata": {},
     "output_type": "display_data"
    },
    {
     "data": {
      "application/javascript": [
       "\n",
       "        $('span:contains(\"# Temp\")').closest('.cell').remove();\n",
       "        var code = IPython.notebook.insert_cell_below('code');\n",
       "        code.set_text(atob(\"IyBUZW1wCmluc2VydCgnJycKa2FwcDE5OThhID0gREIoV29ya1VucmVsYXRlZCgKICAgIDE5OTgsICJBbGlhaFRISU5LISBNdWx0aWNyaXRlcmlhLWJhc2VkIERlY2lzaW9uIFN1cHBvcnQgU29mdHdhcmUiLAogICAgZGlzcGxheT0ia2FwcCIsCiAgICBhdXRob3JzPSJLLiBNLiBLYXBwIiwKICAgIHBsYWNlPUZBS0UsCiAgICBlbnRyeXR5cGU9ImFydGljbGUiLAogICAgSUQ9IkthcHAxOTk4IiwKICAgIHBsYWNleD0iQVBJQ1MgLSBUaGUgUGVyZm9ybWFuY2UgQWR2YW50YWdlLCB2b2wuIDgsIG5vLiA0LCBBcHJpbCAxOTk4IiwKKSkKCkRCKENpdGF0aW9uKAogICAgbWNjb3kxOTk4YSwga2FwcDE5OThhLCByZWY9IiIsCiAgICBjb250ZXh0cz1bCgogICAgXSwKKSkKCicnJywgY2l0YXRpb25zPSdtY2NveTE5OThhJyk7\"));\n",
       "    "
      ],
      "text/plain": [
       "<IPython.core.display.Javascript object>"
      ]
     },
     "metadata": {},
     "output_type": "display_data"
    },
    {
     "data": {
      "application/javascript": [
       "$('span:contains(\"# Temp\")').closest('.cell').remove();"
      ],
      "text/plain": [
       "<IPython.core.display.Javascript object>"
      ]
     },
     "metadata": {},
     "output_type": "display_data"
    },
    {
     "data": {
      "application/javascript": [
       "\n",
       "        $('span:contains(\"# Temp\")').closest('.cell').remove();\n",
       "        var code = IPython.notebook.insert_cell_below('code');\n",
       "        code.set_text(atob(\"IyBUZW1wCmluc2VydCgnJycKa2FwcDE5OThhID0gREIoV29ya1VucmVsYXRlZCgKICAgIDE5OTgsICJBbGlhaFRISU5LISBNdWx0aWNyaXRlcmlhLWJhc2VkIERlY2lzaW9uIFN1cHBvcnQgU29mdHdhcmUiLAogICAgZGlzcGxheT0ia2FwcCIsCiAgICBhdXRob3JzPSJLLiBNLiBLYXBwIiwKICAgIHBsYWNlPUZBS0UsCiAgICBlbnRyeXR5cGU9ImFydGljbGUiLAogICAgSUQ9IkthcHAxOTk4IiwKICAgIHBsYWNleD0iQVBJQ1MgLSBUaGUgUGVyZm9ybWFuY2UgQWR2YW50YWdlLCB2b2wuIDgsIG5vLiA0LCBBcHJpbCAxOTk4IiwKKSkKCkRCKENpdGF0aW9uKAogICAgbWNjb3kxOTk4YSwga2FwcDE5OThhLCByZWY9IiIsCiAgICBjb250ZXh0cz1bCgogICAgXSwKKSkKCicnJywgY2l0YXRpb25zPSdtY2NveTE5OThhJyk7\"));\n",
       "    "
      ],
      "text/plain": [
       "<IPython.core.display.Javascript object>"
      ]
     },
     "metadata": {},
     "output_type": "display_data"
    }
   ],
   "source": [
    "import importlib\n",
    "import custom_snowballing\n",
    "importlib.reload(custom_snowballing)\n",
    "from custom_snowballing import UnrelatedBackward\n",
    "UnrelatedBackward(\"mccoy1998a\", articles=article_list)"
   ]
  },
  {
   "cell_type": "code",
   "execution_count": 146,
   "metadata": {},
   "outputs": [
    {
     "name": "stdout",
     "output_type": "stream",
     "text": [
      "-Insert: kapp1998a\n",
      "-Insert Import: kapp1998a\n",
      "-Insert Citation: mccoy1998a -> kapp1998a\n"
     ]
    }
   ],
   "source": [
    "# Temp\n",
    "insert('''\n",
    "kapp1998a = DB(WorkUnrelated(\n",
    "    1998, \"AliahTHINK! Multicriteria-based Decision Support Software\",\n",
    "    display=\"kapp\",\n",
    "    authors=\"K. M. Kapp\",\n",
    "    place=FAKE,\n",
    "    entrytype=\"article\",\n",
    "    ID=\"Kapp1998\",\n",
    "    placex=\"APICS - The Performance Advantage, vol. 8, no. 4, April 1998\",\n",
    "))\n",
    "\n",
    "DB(Citation(\n",
    "    mccoy1998a, kapp1998a, ref=\"\",\n",
    "    contexts=[\n",
    "\n",
    "    ],\n",
    "))\n",
    "\n",
    "''', citations='mccoy1998a');"
   ]
  },
  {
   "cell_type": "code",
   "execution_count": null,
   "metadata": {
    "collapsed": true
   },
   "outputs": [],
   "source": []
  }
 ],
 "metadata": {
  "kernelspec": {
   "display_name": "Python 3",
   "language": "python",
   "name": "python3"
  },
  "language_info": {
   "codemirror_mode": {
    "name": "ipython",
    "version": 3
   },
   "file_extension": ".py",
   "mimetype": "text/x-python",
   "name": "python",
   "nbconvert_exporter": "python",
   "pygments_lexer": "ipython3",
   "version": "3.6.0"
  },
  "toc": {
   "nav_menu": {
    "height": "12px",
    "width": "252px"
   },
   "number_sections": true,
   "sideBar": true,
   "skip_h1_title": false,
   "toc_cell": false,
   "toc_position": {},
   "toc_section_display": "block",
   "toc_window_display": false
  }
 },
 "nbformat": 4,
 "nbformat_minor": 2
}
