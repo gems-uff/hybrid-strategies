{
 "cells": [
  {
   "cell_type": "code",
   "execution_count": 35,
   "metadata": {
    "collapsed": true
   },
   "outputs": [],
   "source": [
    "import database\n",
    "from snowballing.operations import load_work, reload, work_by_varname\n",
    "from snowballing.snowballing import Converter\n",
    "from snowballing.snowballing import BackwardSnowballing\n",
    "from snowballing.dbmanager import insert, set_attribute"
   ]
  },
  {
   "cell_type": "code",
   "execution_count": 37,
   "metadata": {
    "scrolled": false
   },
   "outputs": [
    {
     "data": {
      "application/vnd.jupyter.widget-view+json": {
       "model_id": "14b09b2b83f54bfa8159e48d9a078e22",
       "version_major": 2,
       "version_minor": 0
      },
      "text/html": [
       "<p>Failed to display Jupyter Widget of type <code>VBox</code>.</p>\n",
       "<p>\n",
       "  If you're reading this message in Jupyter Notebook or JupyterLab, it may mean\n",
       "  that the widgets JavaScript is still loading. If this message persists, it\n",
       "  likely means that the widgets JavaScript library is either not installed or\n",
       "  not enabled. See the <a href=\"https://ipywidgets.readthedocs.io/en/stable/user_install.html\">Jupyter\n",
       "  Widgets Documentation</a> for setup instructions.\n",
       "</p>\n",
       "<p>\n",
       "  If you're reading this message in another notebook frontend (for example, a static\n",
       "  rendering on GitHub or <a href=\"https://nbviewer.jupyter.org/\">NBViewer</a>),\n",
       "  it may mean that your frontend doesn't currently support widgets.\n",
       "</p>\n"
      ],
      "text/plain": [
       "VBox(children=(HBox(children=(Dropdown(index=1, options={'BibTeX': 'bibtex', 'Text': 'text', '[N] author name place other year': 'citation', 'Quoted': 'quoted'}, value='text'), Button(description='Set article_list variable', disabled=True, style=ButtonStyle()), Label(value=''))), HBox(children=(Textarea(value='', layout=Layout(height='500px', width='50%')), Textarea(value='', layout=Layout(height='500px', width='50%'))))))"
      ]
     },
     "metadata": {},
     "output_type": "display_data"
    }
   ],
   "source": [
    "Converter().browser()"
   ]
  },
  {
   "cell_type": "code",
   "execution_count": 3,
   "metadata": {},
   "outputs": [
    {
     "data": {
      "text/plain": [
       "25"
      ]
     },
     "execution_count": 3,
     "metadata": {},
     "output_type": "execute_result"
    }
   ],
   "source": [
    "len(article_list)"
   ]
  },
  {
   "cell_type": "code",
   "execution_count": 4,
   "metadata": {
    "collapsed": true
   },
   "outputs": [],
   "source": [
    "#from database.work.y2015 import li2015a"
   ]
  },
  {
   "cell_type": "code",
   "execution_count": 5,
   "metadata": {
    "collapsed": true
   },
   "outputs": [],
   "source": [
    "#int(getattr(li2015a, 'scopus', 0))"
   ]
  },
  {
   "cell_type": "code",
   "execution_count": 6,
   "metadata": {},
   "outputs": [
    {
     "name": "stdout",
     "output_type": "stream",
     "text": [
      "[{'name': 'Interim profile: Development and trial of a method to rapidly measure software engineering maturity status', 'authors': 'Whitney, R.', 'year': 1994, 'place1': 'CMU/SEI-TR-94-4', 'entrytype': 'article', 'display': 'whitney', 'pyref': 'whitney1994a', 'note': 'cited By 1', 'ID': 'Whitney1994', '_work_type': 'Work'}, {'name': 'CMM-Based appraisal for internal process improvement (CBA IPI): Method description', 'authors': 'Dunaway, D. and Masters, S.', 'year': 1996, 'place1': 'CMU/SEI-96-TR-007', 'entrytype': 'article', 'display': 'dunaway', 'pyref': 'dunaway1996a', 'note': 'cited By 1', 'ID': 'Dunaway1996', '_work_type': 'Work'}, {'name': 'Software capability evaluation version 2.0 method description', 'authors': 'Dedolph, F.M.', 'year': 1994, 'place1': 'CMU/SEI-TR-94-6', 'entrytype': 'article', 'display': 'dedolph', 'pyref': 'dedolph1994a', 'note': 'cited By 1', 'ID': 'Dedolph1994', '_work_type': 'Work'}, {'name': '\"SCAMPI, V1.0 Standard CMMI assessment method for process improvement: Method description\", version 1.0', 'authors': 'CMMI Product Development Team', 'year': 2000, 'place1': 'CMU/SEI-2000-TR-009', 'entrytype': 'article', 'display': 'team', 'pyref': 'team2000a', 'note': 'cited By 1', 'ID': 'CMMI2000', '_work_type': 'Work'}, {'name': 'Managing the software process', 'authors': 'Humphrey, W.S.', 'year': 1989, 'place1': 'Managing the Software Process', 'entrytype': 'article', 'display': 'humphrey', 'pyref': 'humphrey1989a', 'note': 'cited By 1289', 'ID': 'Humphrey1989', '_work_type': 'Work'}, {'name': 'The top ten reasons improvement efforts fail', 'authors': 'Hefner, R.', 'year': 1999, 'place1': 'SEI SEPG Conference', 'entrytype': 'article', 'display': 'hefner', 'pyref': 'hefner1999a', 'note': 'cited By 1', 'ID': 'Hefner1999', '_work_type': 'Work'}, {'name': 'Level 3 culture is more than just the artifacts', 'authors': 'Caputo, K.', 'year': 1997, 'place1': 'SEI SEPG Conference', 'entrytype': 'article', 'display': 'caputo', 'pyref': 'caputo1997a', 'note': 'cited By 1', 'ID': 'Caputo1997', '_work_type': 'Work'}, {'name': 'Changing the software culture', 'authors': 'Humphrey, W.', 'year': 1999, 'place1': 'SEI SEPG Conference', 'entrytype': 'article', 'display': 'humphrey', 'pyref': 'humphrey1999a', 'note': 'cited By 1', 'ID': 'Humphrey1999', '_work_type': 'Work'}, {'name': 'Facilitating CMM culture change', 'authors': 'Caputo, K.', 'year': 1999, 'place1': 'SEI SEPG Conference', 'entrytype': 'article', 'display': 'caputo', 'pyref': 'caputo1999a', 'note': 'cited By 1', 'ID': 'Caputo1999', '_work_type': 'Work'}, {'name': 'Purpose-driven process improvement', 'authors': 'Waina, R. and Phifer, W.', 'year': 2000, 'place1': 'SEI SEPG Conference', 'entrytype': 'article', 'display': 'waina', 'pyref': 'waina2000a', 'note': 'cited By 1', 'ID': 'Waina2000', '_work_type': 'Work'}, {'name': 'Accelerating Change', 'authors': 'Implementation Management Associates', 'year': 1996, 'place1': 'training course', 'entrytype': 'article', 'display': 'associates', 'pyref': 'associates1996a', 'note': 'cited By 1', 'ID': 'IMA1996', '_work_type': 'Work'}, {'name': 'On the cart and the horse: Putting process improvement activities in the right order', 'authors': 'Davis, D.', 'year': 2000, 'place1': 'SEI SEPG Conference', 'entrytype': 'article', 'display': 'davis', 'pyref': 'davis2000a', 'note': 'cited By 1', 'ID': 'Davis2000', '_work_type': 'Work'}, {'name': 'The guerrilla warfare approach to process improvement', 'authors': 'Ferguson, R.', 'year': 1998, 'place1': 'SEI SEPG Conference', 'entrytype': 'article', 'display': 'ferguson', 'pyref': 'ferguson1998a', 'note': 'cited By 1', 'ID': 'Ferguson1998', '_work_type': 'Work'}, {'name': 'The SEPG from level 1 to level 5', 'authors': 'Wigle, G.B.', 'year': 1999, 'place1': 'SEI SEPG Conference', 'entrytype': 'article', 'display': 'wigle', 'pyref': 'wigle1999a', 'note': 'cited By 1', 'ID': 'Wigle1999', '_work_type': 'Work'}, {'name': 'Software engineering process group guide', 'authors': 'Rifkin, S. and Fowler, P.', 'year': 1990, 'place1': 'CMU/SEI-90-TR-24', 'entrytype': 'article', 'display': 'rifkin', 'pyref': 'rifkin1990a', 'note': 'cited By 1', 'ID': 'Rifkin1990', '_work_type': 'Work'}, {'name': 'Where the rubber meets the road: Getting it done with process action teams', 'authors': 'Eagen, B.', 'year': 1999, 'place1': 'SEI SEPG Conference', 'entrytype': 'article', 'display': 'eagen', 'pyref': 'eagen1999a', 'note': 'cited By 1', 'ID': 'Eagen1999', '_work_type': 'Work'}, {'name': 'A process action team process that works', 'authors': 'Waina, R.', 'year': 2001, 'place1': 'Air Force Software Technology Conference', 'entrytype': 'article', 'display': 'waina', 'pyref': 'waina2001a', 'note': 'cited By 1', 'ID': 'Waina2001', '_work_type': 'Work'}, {'name': 'The balanced scorecard--measures that drive performance.', 'authors': 'Kaplan, R.S. and Norton, D.P.', 'year': 1992, 'pp': '71-79', 'place1': 'Harvard Business Review', 'entrytype': 'article', 'display': 'kaplan', 'pyref': 'kaplan1992a', 'volume': '70', 'number': '1', 'note': 'cited By 5432', 'ID': 'Kaplan199271', '_work_type': 'Work'}, {'name': 'Measuring and Managing Performance in Organizations;\\njournal=Dorset House Publishing', 'authors': 'Austin, R.D.', 'year': 1996, 'place1': '', 'entrytype': 'article', 'display': 'austin', 'pyref': 'austin1996a', 'note': 'cited By 87', 'ID': 'Austin1996', '_work_type': 'Work'}, {'name': 'Software measurement programs and industry leadership', 'authors': 'Jones, C.', 'year': 2001, 'pp': '4-7', 'place1': 'Crosstalk', 'entrytype': 'article', 'display': 'jones', 'pyref': 'jones2001a', 'volume': '14', 'number': '2', 'note': 'cited By 4', 'ID': 'Jones20014', '_work_type': 'Work'}, {'name': 'Practical software measurement: Measuring for process management and improvement', 'authors': 'Florac, A.W. and Park, R.E. and Carleton, A.D.', 'year': 1997, 'place1': 'CMU/SEI-97-HB-003', 'entrytype': 'article', 'display': 'florac', 'pyref': 'florac1997a', 'note': 'cited By 5', 'ID': 'Florac1997', '_work_type': 'Work'}, {'name': 'Goal-driven software measurement - A guidebook', 'authors': 'Park, R.', 'year': 1996, 'place1': 'CMU/SEI-96-HB-002', 'entrytype': 'article', 'display': 'park', 'pyref': 'park1996a', 'note': 'cited By 2', 'ID': 'Park1996', '_work_type': 'Work'}, {'name': 'The nine-step metrics program', 'authors': 'Perkins, T.K.', 'year': 2001, 'pp': '16-18', 'place1': 'Crosstalk', 'entrytype': 'article', 'display': 'perkins', 'pyref': 'perkins2001a', 'note': 'cited By 1', 'ID': 'Perkins200116', '_work_type': 'Work'}, {'name': 'A Framework of Software Measurement;\\njournal=Walter de Gruyter', 'authors': 'Zuse, H.', 'year': 1998, 'place1': '', 'entrytype': 'article', 'display': 'zuse', 'pyref': 'zuse1998a', 'note': 'cited By 204', 'ID': 'Zuse1998', '_work_type': 'Work'}, {'name': 'The Secrets of Highly Successful Measurement Programs', 'authors': 'Dekkers, C.A.', 'year': 1999, 'pp': '29-35', 'place1': 'Cutter IT Journal', 'entrytype': 'article', 'display': 'dekkers', 'pyref': 'dekkers1999a', 'volume': '12', 'number': '4', 'note': 'cited By 13', 'ID': 'Dekkers199929', '_work_type': 'Work'}]\n"
     ]
    }
   ],
   "source": [
    "print(article_list)"
   ]
  },
  {
   "cell_type": "code",
   "execution_count": null,
   "metadata": {
    "collapsed": true
   },
   "outputs": [],
   "source": []
  },
  {
   "cell_type": "code",
   "execution_count": null,
   "metadata": {
    "collapsed": true
   },
   "outputs": [],
   "source": []
  },
  {
   "cell_type": "code",
   "execution_count": 13,
   "metadata": {},
   "outputs": [
    {
     "data": {
      "application/vnd.jupyter.widget-view+json": {
       "model_id": "492ccd4ac16e4daf9f0802f70f30e11f",
       "version_major": 2,
       "version_minor": 0
      },
      "text/html": [
       "<p>Failed to display Jupyter Widget of type <code>VBox</code>.</p>\n",
       "<p>\n",
       "  If you're reading this message in Jupyter Notebook or JupyterLab, it may mean\n",
       "  that the widgets JavaScript is still loading. If this message persists, it\n",
       "  likely means that the widgets JavaScript library is either not installed or\n",
       "  not enabled. See the <a href=\"https://ipywidgets.readthedocs.io/en/stable/user_install.html\">Jupyter\n",
       "  Widgets Documentation</a> for setup instructions.\n",
       "</p>\n",
       "<p>\n",
       "  If you're reading this message in another notebook frontend (for example, a static\n",
       "  rendering on GitHub or <a href=\"https://nbviewer.jupyter.org/\">NBViewer</a>),\n",
       "  it may mean that your frontend doesn't currently support widgets.\n",
       "</p>\n"
      ],
      "text/plain": [
       "VBox(children=(HBox(children=(Button(description='Previous Article', disabled=True, icon='caret-left', style=ButtonStyle()), Button(description='Reload Article', icon='refresh', style=ButtonStyle()), Button(description='Next Article', icon='caret-right', style=ButtonStyle()))), HBox(children=(Button(description='Unrelated: Scripts', style=ButtonStyle()), Button(description='Unrelated: Provenance', style=ButtonStyle()), Button(description='Both', style=ButtonStyle()), Button(description='Ok', style=ButtonStyle()))), HBox(children=(Dropdown(description='Type', options=('Work', 'WorkSnowball', 'WorkForward', 'WorkBackward', 'WorkOk', 'WorkUnrelated', 'WorkNoFile', 'WorkLang', 'Site', 'Email'), value='Work'), ToggleButton(value=False, description='File'))), HBox(children=(Text(value='', description='Due'), Text(value='', description='Place'))), HBox(children=(Text(value='', description='Year'), Text(value='', description='Prefix Var'))), HBox(children=(Text(value='', description='PDFPage'), Text(value='', description='Related'))), HBox(children=(Text(value='', description='Display'), Text(value='', description='Summary'))), HBox(children=(Text(value='', description='Star'), Text(value='', description='Link'))), HBox(children=(Button(description='Reload Article', icon='refresh', style=ButtonStyle()), IntSlider(value=0, max=15), Label(value='1/16'))), Output()))"
      ]
     },
     "metadata": {},
     "output_type": "display_data"
    },
    {
     "data": {
      "application/javascript": [
       "$('span:contains(\"# Temp\")').closest('.cell').remove();"
      ],
      "text/plain": [
       "<IPython.core.display.Javascript object>"
      ]
     },
     "metadata": {},
     "output_type": "display_data"
    },
    {
     "data": {
      "application/javascript": [
       "\n",
       "        $('span:contains(\"# Temp\")').closest('.cell').remove();\n",
       "        var code = IPython.notebook.insert_cell_below('code');\n",
       "        code.set_text(atob(\"IyBUZW1wCmluc2VydCgnJycKd2FpbmEyMDAwYSA9IERCKFdvcmsoCiAgICAyMDAwLCAiUHVycG9zZS1kcml2ZW4gcHJvY2VzcyBpbXByb3ZlbWVudCIsCiAgICBkaXNwbGF5PSJ3YWluYSIsCiAgICBhdXRob3JzPSJXYWluYSwgUi4gYW5kIFBoaWZlciwgVy4iLAogICAgcGxhY2UxPSJTRUkgU0VQRyBDb25mZXJlbmNlIiwKICAgIGVudHJ5dHlwZT0iYXJ0aWNsZSIsCiAgICBub3RlPSJjaXRlZCBCeSAxIiwKICAgIElEPSJXYWluYTIwMDAiLAopKQoKREIoQ2l0YXRpb24oCiAgICB3YWluYTIwMDFhLCB3YWluYTIwMDBhLCByZWY9IiIsCiAgICBjb250ZXh0cz1bCgogICAgXSwKKSkKCicnJywgY2l0YXRpb25zPSd3YWluYTIwMDFhJyk7\"));\n",
       "    "
      ],
      "text/plain": [
       "<IPython.core.display.Javascript object>"
      ]
     },
     "metadata": {},
     "output_type": "display_data"
    },
    {
     "data": {
      "application/javascript": [
       "$('span:contains(\"# Temp\")').closest('.cell').remove();"
      ],
      "text/plain": [
       "<IPython.core.display.Javascript object>"
      ]
     },
     "metadata": {},
     "output_type": "display_data"
    },
    {
     "data": {
      "application/javascript": [
       "\n",
       "        $('span:contains(\"# Temp\")').closest('.cell').remove();\n",
       "        var code = IPython.notebook.insert_cell_below('code');\n",
       "        code.set_text(atob(\"IyBUZW1wCmluc2VydCgnJycKYXNzb2NpYXRlczE5OTZhID0gREIoV29yaygKICAgIDE5OTYsICJBY2NlbGVyYXRpbmcgQ2hhbmdlIiwKICAgIGRpc3BsYXk9ImFzc29jaWF0ZXMiLAogICAgYXV0aG9ycz0iSW1wbGVtZW50YXRpb24gTWFuYWdlbWVudCBBc3NvY2lhdGVzIiwKICAgIHBsYWNlMT0idHJhaW5pbmcgY291cnNlIiwKICAgIGVudHJ5dHlwZT0iYXJ0aWNsZSIsCiAgICBub3RlPSJjaXRlZCBCeSAxIiwKICAgIElEPSJJTUExOTk2IiwKKSkKCkRCKENpdGF0aW9uKAogICAgd2FpbmEyMDAxYSwgYXNzb2NpYXRlczE5OTZhLCByZWY9IiIsCiAgICBjb250ZXh0cz1bCgogICAgXSwKKSkKCicnJywgY2l0YXRpb25zPSd3YWluYTIwMDFhJyk7\"));\n",
       "    "
      ],
      "text/plain": [
       "<IPython.core.display.Javascript object>"
      ]
     },
     "metadata": {},
     "output_type": "display_data"
    },
    {
     "data": {
      "application/javascript": [
       "$('span:contains(\"# Temp\")').closest('.cell').remove();"
      ],
      "text/plain": [
       "<IPython.core.display.Javascript object>"
      ]
     },
     "metadata": {},
     "output_type": "display_data"
    },
    {
     "data": {
      "application/javascript": [
       "\n",
       "        $('span:contains(\"# Temp\")').closest('.cell').remove();\n",
       "        var code = IPython.notebook.insert_cell_below('code');\n",
       "        code.set_text(atob(\"IyBUZW1wCmluc2VydCgnJycKYXNzb2NpYXRlczE5OTZhID0gREIoV29yaygKICAgIDE5OTYsICJBY2NlbGVyYXRpbmcgQ2hhbmdlIiwKICAgIGRpc3BsYXk9ImFzc29jaWF0ZXMiLAogICAgYXV0aG9ycz0iSW1wbGVtZW50YXRpb24gTWFuYWdlbWVudCBBc3NvY2lhdGVzIiwKICAgIHBsYWNlMT0idHJhaW5pbmcgY291cnNlIiwKICAgIGVudHJ5dHlwZT0iYXJ0aWNsZSIsCiAgICBub3RlPSJjaXRlZCBCeSAxIiwKICAgIElEPSJJTUExOTk2IiwKKSkKCkRCKENpdGF0aW9uKAogICAgd2FpbmEyMDAxYSwgYXNzb2NpYXRlczE5OTZhLCByZWY9IiIsCiAgICBjb250ZXh0cz1bCgogICAgXSwKKSkKCicnJywgY2l0YXRpb25zPSd3YWluYTIwMDFhJyk7\"));\n",
       "    "
      ],
      "text/plain": [
       "<IPython.core.display.Javascript object>"
      ]
     },
     "metadata": {},
     "output_type": "display_data"
    },
    {
     "data": {
      "application/javascript": [
       "$('span:contains(\"# Temp\")').closest('.cell').remove();"
      ],
      "text/plain": [
       "<IPython.core.display.Javascript object>"
      ]
     },
     "metadata": {},
     "output_type": "display_data"
    },
    {
     "data": {
      "application/javascript": [
       "\n",
       "        $('span:contains(\"# Temp\")').closest('.cell').remove();\n",
       "        var code = IPython.notebook.insert_cell_below('code');\n",
       "        code.set_text(atob(\"IyBUZW1wCmluc2VydCgnJycKZGF2aXMyMDAwYSA9IERCKFdvcmsoCiAgICAyMDAwLCAiT24gdGhlIGNhcnQgYW5kIHRoZSBob3JzZTogUHV0dGluZyBwcm9jZXNzIGltcHJvdmVtZW50IGFjdGl2aXRpZXMgaW4gdGhlIHJpZ2h0IG9yZGVyIiwKICAgIGRpc3BsYXk9ImRhdmlzIiwKICAgIGF1dGhvcnM9IkRhdmlzLCBELiIsCiAgICBwbGFjZTE9IlNFSSBTRVBHIENvbmZlcmVuY2UiLAogICAgZW50cnl0eXBlPSJhcnRpY2xlIiwKICAgIG5vdGU9ImNpdGVkIEJ5IDEiLAogICAgSUQ9IkRhdmlzMjAwMCIsCikpCgpEQihDaXRhdGlvbigKICAgIHdhaW5hMjAwMWEsIGRhdmlzMjAwMGEsIHJlZj0iIiwKICAgIGNvbnRleHRzPVsKCiAgICBdLAopKQoKJycnLCBjaXRhdGlvbnM9J3dhaW5hMjAwMWEnKTs=\"));\n",
       "    "
      ],
      "text/plain": [
       "<IPython.core.display.Javascript object>"
      ]
     },
     "metadata": {},
     "output_type": "display_data"
    },
    {
     "data": {
      "application/javascript": [
       "$('span:contains(\"# Temp\")').closest('.cell').remove();"
      ],
      "text/plain": [
       "<IPython.core.display.Javascript object>"
      ]
     },
     "metadata": {},
     "output_type": "display_data"
    },
    {
     "data": {
      "application/javascript": [
       "\n",
       "        $('span:contains(\"# Temp\")').closest('.cell').remove();\n",
       "        var code = IPython.notebook.insert_cell_below('code');\n",
       "        code.set_text(atob(\"IyBUZW1wCmluc2VydCgnJycKZGF2aXMyMDAwYSA9IERCKFdvcmsoCiAgICAyMDAwLCAiT24gdGhlIGNhcnQgYW5kIHRoZSBob3JzZTogUHV0dGluZyBwcm9jZXNzIGltcHJvdmVtZW50IGFjdGl2aXRpZXMgaW4gdGhlIHJpZ2h0IG9yZGVyIiwKICAgIGRpc3BsYXk9ImRhdmlzIiwKICAgIGF1dGhvcnM9IkRhdmlzLCBELiIsCiAgICBwbGFjZTE9IlNFSSBTRVBHIENvbmZlcmVuY2UiLAogICAgZW50cnl0eXBlPSJhcnRpY2xlIiwKICAgIG5vdGU9ImNpdGVkIEJ5IDEiLAogICAgSUQ9IkRhdmlzMjAwMCIsCikpCgpEQihDaXRhdGlvbigKICAgIHdhaW5hMjAwMWEsIGRhdmlzMjAwMGEsIHJlZj0iIiwKICAgIGNvbnRleHRzPVsKCiAgICBdLAopKQoKJycnLCBjaXRhdGlvbnM9J3dhaW5hMjAwMWEnKTs=\"));\n",
       "    "
      ],
      "text/plain": [
       "<IPython.core.display.Javascript object>"
      ]
     },
     "metadata": {},
     "output_type": "display_data"
    },
    {
     "data": {
      "application/javascript": [
       "$('span:contains(\"# Temp\")').closest('.cell').remove();"
      ],
      "text/plain": [
       "<IPython.core.display.Javascript object>"
      ]
     },
     "metadata": {},
     "output_type": "display_data"
    },
    {
     "data": {
      "application/javascript": [
       "\n",
       "        $('span:contains(\"# Temp\")').closest('.cell').remove();\n",
       "        var code = IPython.notebook.insert_cell_below('code');\n",
       "        code.set_text(atob(\"IyBUZW1wCmluc2VydCgnJycKZmVyZ3Vzb24xOTk4YSA9IERCKFdvcmsoCiAgICAxOTk4LCAiVGhlIGd1ZXJyaWxsYSB3YXJmYXJlIGFwcHJvYWNoIHRvIHByb2Nlc3MgaW1wcm92ZW1lbnQiLAogICAgZGlzcGxheT0iZmVyZ3Vzb24iLAogICAgYXV0aG9ycz0iRmVyZ3Vzb24sIFIuIiwKICAgIHBsYWNlMT0iU0VJIFNFUEcgQ29uZmVyZW5jZSIsCiAgICBlbnRyeXR5cGU9ImFydGljbGUiLAogICAgbm90ZT0iY2l0ZWQgQnkgMSIsCiAgICBJRD0iRmVyZ3Vzb24xOTk4IiwKKSkKCkRCKENpdGF0aW9uKAogICAgd2FpbmEyMDAxYSwgZmVyZ3Vzb24xOTk4YSwgcmVmPSIiLAogICAgY29udGV4dHM9WwoKICAgIF0sCikpCgonJycsIGNpdGF0aW9ucz0nd2FpbmEyMDAxYScpOw==\"));\n",
       "    "
      ],
      "text/plain": [
       "<IPython.core.display.Javascript object>"
      ]
     },
     "metadata": {},
     "output_type": "display_data"
    },
    {
     "data": {
      "application/javascript": [
       "$('span:contains(\"# Temp\")').closest('.cell').remove();"
      ],
      "text/plain": [
       "<IPython.core.display.Javascript object>"
      ]
     },
     "metadata": {},
     "output_type": "display_data"
    },
    {
     "data": {
      "application/javascript": [
       "\n",
       "        $('span:contains(\"# Temp\")').closest('.cell').remove();\n",
       "        var code = IPython.notebook.insert_cell_below('code');\n",
       "        code.set_text(atob(\"IyBUZW1wCmluc2VydCgnJycKZmVyZ3Vzb24xOTk4YSA9IERCKFdvcmsoCiAgICAxOTk4LCAiVGhlIGd1ZXJyaWxsYSB3YXJmYXJlIGFwcHJvYWNoIHRvIHByb2Nlc3MgaW1wcm92ZW1lbnQiLAogICAgZGlzcGxheT0iZmVyZ3Vzb24iLAogICAgYXV0aG9ycz0iRmVyZ3Vzb24sIFIuIiwKICAgIHBsYWNlMT0iU0VJIFNFUEcgQ29uZmVyZW5jZSIsCiAgICBlbnRyeXR5cGU9ImFydGljbGUiLAogICAgbm90ZT0iY2l0ZWQgQnkgMSIsCiAgICBJRD0iRmVyZ3Vzb24xOTk4IiwKKSkKCkRCKENpdGF0aW9uKAogICAgd2FpbmEyMDAxYSwgZmVyZ3Vzb24xOTk4YSwgcmVmPSIiLAogICAgY29udGV4dHM9WwoKICAgIF0sCikpCgonJycsIGNpdGF0aW9ucz0nd2FpbmEyMDAxYScpOw==\"));\n",
       "    "
      ],
      "text/plain": [
       "<IPython.core.display.Javascript object>"
      ]
     },
     "metadata": {},
     "output_type": "display_data"
    },
    {
     "data": {
      "application/javascript": [
       "$('span:contains(\"# Temp\")').closest('.cell').remove();"
      ],
      "text/plain": [
       "<IPython.core.display.Javascript object>"
      ]
     },
     "metadata": {},
     "output_type": "display_data"
    },
    {
     "data": {
      "application/javascript": [
       "\n",
       "        $('span:contains(\"# Temp\")').closest('.cell').remove();\n",
       "        var code = IPython.notebook.insert_cell_below('code');\n",
       "        code.set_text(atob(\"IyBUZW1wCmluc2VydCgnJycKd2lnbGUxOTk5YSA9IERCKFdvcmsoCiAgICAxOTk5LCAiVGhlIFNFUEcgZnJvbSBsZXZlbCAxIHRvIGxldmVsIDUiLAogICAgZGlzcGxheT0id2lnbGUiLAogICAgYXV0aG9ycz0iV2lnbGUsIEcuQi4iLAogICAgcGxhY2UxPSJTRUkgU0VQRyBDb25mZXJlbmNlIiwKICAgIGVudHJ5dHlwZT0iYXJ0aWNsZSIsCiAgICBub3RlPSJjaXRlZCBCeSAxIiwKICAgIElEPSJXaWdsZTE5OTkiLAopKQoKREIoQ2l0YXRpb24oCiAgICB3YWluYTIwMDFhLCB3aWdsZTE5OTlhLCByZWY9IiIsCiAgICBjb250ZXh0cz1bCgogICAgXSwKKSkKCicnJywgY2l0YXRpb25zPSd3YWluYTIwMDFhJyk7\"));\n",
       "    "
      ],
      "text/plain": [
       "<IPython.core.display.Javascript object>"
      ]
     },
     "metadata": {},
     "output_type": "display_data"
    },
    {
     "data": {
      "application/javascript": [
       "$('span:contains(\"# Temp\")').closest('.cell').remove();"
      ],
      "text/plain": [
       "<IPython.core.display.Javascript object>"
      ]
     },
     "metadata": {},
     "output_type": "display_data"
    },
    {
     "data": {
      "application/javascript": [
       "\n",
       "        $('span:contains(\"# Temp\")').closest('.cell').remove();\n",
       "        var code = IPython.notebook.insert_cell_below('code');\n",
       "        code.set_text(atob(\"IyBUZW1wCmluc2VydCgnJycKd2lnbGUxOTk5YSA9IERCKFdvcmsoCiAgICAxOTk5LCAiVGhlIFNFUEcgZnJvbSBsZXZlbCAxIHRvIGxldmVsIDUiLAogICAgZGlzcGxheT0id2lnbGUiLAogICAgYXV0aG9ycz0iV2lnbGUsIEcuQi4iLAogICAgcGxhY2UxPSJTRUkgU0VQRyBDb25mZXJlbmNlIiwKICAgIGVudHJ5dHlwZT0iYXJ0aWNsZSIsCiAgICBub3RlPSJjaXRlZCBCeSAxIiwKICAgIElEPSJXaWdsZTE5OTkiLAopKQoKREIoQ2l0YXRpb24oCiAgICB3YWluYTIwMDFhLCB3aWdsZTE5OTlhLCByZWY9IiIsCiAgICBjb250ZXh0cz1bCgogICAgXSwKKSkKCicnJywgY2l0YXRpb25zPSd3YWluYTIwMDFhJyk7\"));\n",
       "    "
      ],
      "text/plain": [
       "<IPython.core.display.Javascript object>"
      ]
     },
     "metadata": {},
     "output_type": "display_data"
    },
    {
     "data": {
      "application/javascript": [
       "$('span:contains(\"# Temp\")').closest('.cell').remove();"
      ],
      "text/plain": [
       "<IPython.core.display.Javascript object>"
      ]
     },
     "metadata": {},
     "output_type": "display_data"
    },
    {
     "data": {
      "application/javascript": [
       "\n",
       "        $('span:contains(\"# Temp\")').closest('.cell').remove();\n",
       "        var code = IPython.notebook.insert_cell_below('code');\n",
       "        code.set_text(atob(\"IyBUZW1wCmluc2VydCgnJycKcmlma2luMTk5MGEgPSBEQihXb3JrKAogICAgMTk5MCwgIlNvZnR3YXJlIGVuZ2luZWVyaW5nIHByb2Nlc3MgZ3JvdXAgZ3VpZGUiLAogICAgZGlzcGxheT0icmlma2luIiwKICAgIGF1dGhvcnM9IlJpZmtpbiwgUy4gYW5kIEZvd2xlciwgUC4iLAogICAgcGxhY2UxPSJDTVUvU0VJLTkwLVRSLTI0IiwKICAgIGVudHJ5dHlwZT0iYXJ0aWNsZSIsCiAgICBub3RlPSJjaXRlZCBCeSAxIiwKICAgIElEPSJSaWZraW4xOTkwIiwKKSkKCkRCKENpdGF0aW9uKAogICAgd2FpbmEyMDAxYSwgcmlma2luMTk5MGEsIHJlZj0iIiwKICAgIGNvbnRleHRzPVsKCiAgICBdLAopKQoKJycnLCBjaXRhdGlvbnM9J3dhaW5hMjAwMWEnKTs=\"));\n",
       "    "
      ],
      "text/plain": [
       "<IPython.core.display.Javascript object>"
      ]
     },
     "metadata": {},
     "output_type": "display_data"
    },
    {
     "data": {
      "application/javascript": [
       "$('span:contains(\"# Temp\")').closest('.cell').remove();"
      ],
      "text/plain": [
       "<IPython.core.display.Javascript object>"
      ]
     },
     "metadata": {},
     "output_type": "display_data"
    },
    {
     "data": {
      "application/javascript": [
       "\n",
       "        $('span:contains(\"# Temp\")').closest('.cell').remove();\n",
       "        var code = IPython.notebook.insert_cell_below('code');\n",
       "        code.set_text(atob(\"IyBUZW1wCmluc2VydCgnJycKcmlma2luMTk5MGEgPSBEQihXb3JrKAogICAgMTk5MCwgIlNvZnR3YXJlIGVuZ2luZWVyaW5nIHByb2Nlc3MgZ3JvdXAgZ3VpZGUiLAogICAgZGlzcGxheT0icmlma2luIiwKICAgIGF1dGhvcnM9IlJpZmtpbiwgUy4gYW5kIEZvd2xlciwgUC4iLAogICAgcGxhY2UxPSJDTVUvU0VJLTkwLVRSLTI0IiwKICAgIGVudHJ5dHlwZT0iYXJ0aWNsZSIsCiAgICBub3RlPSJjaXRlZCBCeSAxIiwKICAgIElEPSJSaWZraW4xOTkwIiwKKSkKCkRCKENpdGF0aW9uKAogICAgd2FpbmEyMDAxYSwgcmlma2luMTk5MGEsIHJlZj0iIiwKICAgIGNvbnRleHRzPVsKCiAgICBdLAopKQoKJycnLCBjaXRhdGlvbnM9J3dhaW5hMjAwMWEnKTs=\"));\n",
       "    "
      ],
      "text/plain": [
       "<IPython.core.display.Javascript object>"
      ]
     },
     "metadata": {},
     "output_type": "display_data"
    },
    {
     "data": {
      "application/javascript": [
       "$('span:contains(\"# Temp\")').closest('.cell').remove();"
      ],
      "text/plain": [
       "<IPython.core.display.Javascript object>"
      ]
     },
     "metadata": {},
     "output_type": "display_data"
    },
    {
     "data": {
      "application/javascript": [
       "\n",
       "        $('span:contains(\"# Temp\")').closest('.cell').remove();\n",
       "        var code = IPython.notebook.insert_cell_below('code');\n",
       "        code.set_text(atob(\"IyBUZW1wCmluc2VydCgnJycKZWFnZW4xOTk5YSA9IERCKFdvcmsoCiAgICAxOTk5LCAiV2hlcmUgdGhlIHJ1YmJlciBtZWV0cyB0aGUgcm9hZDogR2V0dGluZyBpdCBkb25lIHdpdGggcHJvY2VzcyBhY3Rpb24gdGVhbXMiLAogICAgZGlzcGxheT0iZWFnZW4iLAogICAgYXV0aG9ycz0iRWFnZW4sIEIuIiwKICAgIHBsYWNlMT0iU0VJIFNFUEcgQ29uZmVyZW5jZSIsCiAgICBlbnRyeXR5cGU9ImFydGljbGUiLAogICAgbm90ZT0iY2l0ZWQgQnkgMSIsCiAgICBJRD0iRWFnZW4xOTk5IiwKKSkKCkRCKENpdGF0aW9uKAogICAgd2FpbmEyMDAxYSwgZWFnZW4xOTk5YSwgcmVmPSIiLAogICAgY29udGV4dHM9WwoKICAgIF0sCikpCgonJycsIGNpdGF0aW9ucz0nd2FpbmEyMDAxYScpOw==\"));\n",
       "    "
      ],
      "text/plain": [
       "<IPython.core.display.Javascript object>"
      ]
     },
     "metadata": {},
     "output_type": "display_data"
    },
    {
     "data": {
      "application/javascript": [
       "$('span:contains(\"# Temp\")').closest('.cell').remove();"
      ],
      "text/plain": [
       "<IPython.core.display.Javascript object>"
      ]
     },
     "metadata": {},
     "output_type": "display_data"
    },
    {
     "data": {
      "application/javascript": [
       "\n",
       "        $('span:contains(\"# Temp\")').closest('.cell').remove();\n",
       "        var code = IPython.notebook.insert_cell_below('code');\n",
       "        code.set_text(atob(\"IyBUZW1wCmluc2VydCgnJycKZWFnZW4xOTk5YSA9IERCKFdvcmsoCiAgICAxOTk5LCAiV2hlcmUgdGhlIHJ1YmJlciBtZWV0cyB0aGUgcm9hZDogR2V0dGluZyBpdCBkb25lIHdpdGggcHJvY2VzcyBhY3Rpb24gdGVhbXMiLAogICAgZGlzcGxheT0iZWFnZW4iLAogICAgYXV0aG9ycz0iRWFnZW4sIEIuIiwKICAgIHBsYWNlMT0iU0VJIFNFUEcgQ29uZmVyZW5jZSIsCiAgICBlbnRyeXR5cGU9ImFydGljbGUiLAogICAgbm90ZT0iY2l0ZWQgQnkgMSIsCiAgICBJRD0iRWFnZW4xOTk5IiwKKSkKCkRCKENpdGF0aW9uKAogICAgd2FpbmEyMDAxYSwgZWFnZW4xOTk5YSwgcmVmPSIiLAogICAgY29udGV4dHM9WwoKICAgIF0sCikpCgonJycsIGNpdGF0aW9ucz0nd2FpbmEyMDAxYScpOw==\"));\n",
       "    "
      ],
      "text/plain": [
       "<IPython.core.display.Javascript object>"
      ]
     },
     "metadata": {},
     "output_type": "display_data"
    },
    {
     "data": {
      "application/javascript": [
       "$('span:contains(\"# Temp\")').closest('.cell').remove();"
      ],
      "text/plain": [
       "<IPython.core.display.Javascript object>"
      ]
     },
     "metadata": {},
     "output_type": "display_data"
    },
    {
     "data": {
      "application/javascript": [
       "\n",
       "        $('span:contains(\"# Temp\")').closest('.cell').remove();\n",
       "        var code = IPython.notebook.insert_cell_below('code');\n",
       "        code.set_text(atob(\"IyBUZW1wCmluc2VydCgnJycKd2FpbmEyMDAxYiA9IERCKFdvcmsoCiAgICAyMDAxLCAiQSBwcm9jZXNzIGFjdGlvbiB0ZWFtIHByb2Nlc3MgdGhhdCB3b3JrcyIsCiAgICBkaXNwbGF5PSJ3YWluYSBiIiwKICAgIGF1dGhvcnM9IldhaW5hLCBSLiIsCiAgICBwbGFjZTE9IkFpciBGb3JjZSBTb2Z0d2FyZSBUZWNobm9sb2d5IENvbmZlcmVuY2UiLAogICAgZW50cnl0eXBlPSJhcnRpY2xlIiwKICAgIG5vdGU9ImNpdGVkIEJ5IDEiLAogICAgSUQ9IldhaW5hMjAwMSIsCikpCgpEQihDaXRhdGlvbigKICAgIHdhaW5hMjAwMWEsIHdhaW5hMjAwMWIsIHJlZj0iIiwKICAgIGNvbnRleHRzPVsKCiAgICBdLAopKQoKJycnLCBjaXRhdGlvbnM9J3dhaW5hMjAwMWEnKTs=\"));\n",
       "    "
      ],
      "text/plain": [
       "<IPython.core.display.Javascript object>"
      ]
     },
     "metadata": {},
     "output_type": "display_data"
    },
    {
     "data": {
      "application/javascript": [
       "$('span:contains(\"# Temp\")').closest('.cell').remove();"
      ],
      "text/plain": [
       "<IPython.core.display.Javascript object>"
      ]
     },
     "metadata": {},
     "output_type": "display_data"
    },
    {
     "data": {
      "application/javascript": [
       "\n",
       "        $('span:contains(\"# Temp\")').closest('.cell').remove();\n",
       "        var code = IPython.notebook.insert_cell_below('code');\n",
       "        code.set_text(atob(\"IyBUZW1wCmluc2VydCgnJycKd2FpbmEyMDAxYiA9IERCKFdvcmsoCiAgICAyMDAxLCAiQSBwcm9jZXNzIGFjdGlvbiB0ZWFtIHByb2Nlc3MgdGhhdCB3b3JrcyIsCiAgICBkaXNwbGF5PSJ3YWluYSBiIiwKICAgIGF1dGhvcnM9IldhaW5hLCBSLiIsCiAgICBwbGFjZTE9IkFpciBGb3JjZSBTb2Z0d2FyZSBUZWNobm9sb2d5IENvbmZlcmVuY2UiLAogICAgZW50cnl0eXBlPSJhcnRpY2xlIiwKICAgIG5vdGU9ImNpdGVkIEJ5IDEiLAogICAgSUQ9IldhaW5hMjAwMSIsCikpCgpEQihDaXRhdGlvbigKICAgIHdhaW5hMjAwMWEsIHdhaW5hMjAwMWIsIHJlZj0iIiwKICAgIGNvbnRleHRzPVsKCiAgICBdLAopKQoKJycnLCBjaXRhdGlvbnM9J3dhaW5hMjAwMWEnKTs=\"));\n",
       "    "
      ],
      "text/plain": [
       "<IPython.core.display.Javascript object>"
      ]
     },
     "metadata": {},
     "output_type": "display_data"
    },
    {
     "data": {
      "application/javascript": [
       "$('span:contains(\"# Temp\")').closest('.cell').remove();"
      ],
      "text/plain": [
       "<IPython.core.display.Javascript object>"
      ]
     },
     "metadata": {},
     "output_type": "display_data"
    },
    {
     "data": {
      "application/javascript": [
       "\n",
       "        $('span:contains(\"# Temp\")').closest('.cell').remove();\n",
       "        var code = IPython.notebook.insert_cell_below('code');\n",
       "        code.set_text(atob(\"IyBUZW1wCmluc2VydCgnJycKa2FwbGFuMTk5MmEgPSBEQihXb3JrKAogICAgMTk5MiwgIlRoZSBiYWxhbmNlZCBzY29yZWNhcmQtLW1lYXN1cmVzIHRoYXQgZHJpdmUgcGVyZm9ybWFuY2UuIiwKICAgIGRpc3BsYXk9ImthcGxhbiIsCiAgICBhdXRob3JzPSJLYXBsYW4sIFIuUy4gYW5kIE5vcnRvbiwgRC5QLiIsCiAgICBwcD0iNzEtNzkiLAogICAgcGxhY2UxPSJIYXJ2YXJkIEJ1c2luZXNzIFJldmlldyIsCiAgICBlbnRyeXR5cGU9ImFydGljbGUiLAogICAgdm9sdW1lPSI3MCIsCiAgICBudW1iZXI9IjEiLAogICAgbm90ZT0iY2l0ZWQgQnkgNTQzMiIsCiAgICBJRD0iS2FwbGFuMTk5MjcxIiwKKSkKCkRCKENpdGF0aW9uKAogICAgd2FpbmEyMDAxYSwga2FwbGFuMTk5MmEsIHJlZj0iIiwKICAgIGNvbnRleHRzPVsKCiAgICBdLAopKQoKJycnLCBjaXRhdGlvbnM9J3dhaW5hMjAwMWEnKTs=\"));\n",
       "    "
      ],
      "text/plain": [
       "<IPython.core.display.Javascript object>"
      ]
     },
     "metadata": {},
     "output_type": "display_data"
    },
    {
     "data": {
      "application/javascript": [
       "$('span:contains(\"# Temp\")').closest('.cell').remove();"
      ],
      "text/plain": [
       "<IPython.core.display.Javascript object>"
      ]
     },
     "metadata": {},
     "output_type": "display_data"
    },
    {
     "data": {
      "application/javascript": [
       "\n",
       "        $('span:contains(\"# Temp\")').closest('.cell').remove();\n",
       "        var code = IPython.notebook.insert_cell_below('code');\n",
       "        code.set_text(atob(\"IyBUZW1wCmluc2VydCgnJycKa2FwbGFuMTk5MmEgPSBEQihXb3JrKAogICAgMTk5MiwgIlRoZSBiYWxhbmNlZCBzY29yZWNhcmQtLW1lYXN1cmVzIHRoYXQgZHJpdmUgcGVyZm9ybWFuY2UuIiwKICAgIGRpc3BsYXk9ImthcGxhbiIsCiAgICBhdXRob3JzPSJLYXBsYW4sIFIuUy4gYW5kIE5vcnRvbiwgRC5QLiIsCiAgICBwcD0iNzEtNzkiLAogICAgcGxhY2UxPSJIYXJ2YXJkIEJ1c2luZXNzIFJldmlldyIsCiAgICBlbnRyeXR5cGU9ImFydGljbGUiLAogICAgdm9sdW1lPSI3MCIsCiAgICBudW1iZXI9IjEiLAogICAgbm90ZT0iY2l0ZWQgQnkgNTQzMiIsCiAgICBJRD0iS2FwbGFuMTk5MjcxIiwKKSkKCkRCKENpdGF0aW9uKAogICAgd2FpbmEyMDAxYSwga2FwbGFuMTk5MmEsIHJlZj0iIiwKICAgIGNvbnRleHRzPVsKCiAgICBdLAopKQoKJycnLCBjaXRhdGlvbnM9J3dhaW5hMjAwMWEnKTs=\"));\n",
       "    "
      ],
      "text/plain": [
       "<IPython.core.display.Javascript object>"
      ]
     },
     "metadata": {},
     "output_type": "display_data"
    },
    {
     "data": {
      "application/javascript": [
       "$('span:contains(\"# Temp\")').closest('.cell').remove();"
      ],
      "text/plain": [
       "<IPython.core.display.Javascript object>"
      ]
     },
     "metadata": {},
     "output_type": "display_data"
    },
    {
     "data": {
      "application/javascript": [
       "\n",
       "        $('span:contains(\"# Temp\")').closest('.cell').remove();\n",
       "        var code = IPython.notebook.insert_cell_below('code');\n",
       "        code.set_text(atob(\"IyBUZW1wCmluc2VydCgnJycKICAgIGF1c3RpbjE5OTZhID0gREIoV29yaygKICAgICAgICAxOTk2LCAiTWVhc3VyaW5nIGFuZCBNYW5hZ2luZyBQZXJmb3JtYW5jZSBpbiBPcmdhbml6YXRpb25zOwpqb3VybmFsPURvcnNldCBIb3VzZSBQdWJsaXNoaW5nIiwKICAgICAgICBkaXNwbGF5PSJhdXN0aW4iLAogICAgICAgIGF1dGhvcnM9IkF1c3RpbiwgUi5ELiIsCiAgICAgICAgcGxhY2UxPSIiLAogICAgICAgIGVudHJ5dHlwZT0iYXJ0aWNsZSIsCiAgICAgICAgbm90ZT0iY2l0ZWQgQnkgODciLAogICAgICAgIElEPSJBdXN0aW4xOTk2IiwKICAgICkpCgpEQihDaXRhdGlvbigKICAgIHdhaW5hMjAwMWEsIGF1c3RpbjE5OTZhLCByZWY9IiIsCiAgICBjb250ZXh0cz1bCgogICAgXSwKKSkKCicnJywgY2l0YXRpb25zPSd3YWluYTIwMDFhJyk7\"));\n",
       "    "
      ],
      "text/plain": [
       "<IPython.core.display.Javascript object>"
      ]
     },
     "metadata": {},
     "output_type": "display_data"
    },
    {
     "data": {
      "application/javascript": [
       "$('span:contains(\"# Temp\")').closest('.cell').remove();"
      ],
      "text/plain": [
       "<IPython.core.display.Javascript object>"
      ]
     },
     "metadata": {},
     "output_type": "display_data"
    },
    {
     "data": {
      "application/javascript": [
       "\n",
       "        $('span:contains(\"# Temp\")').closest('.cell').remove();\n",
       "        var code = IPython.notebook.insert_cell_below('code');\n",
       "        code.set_text(atob(\"IyBUZW1wCmluc2VydCgnJycKICAgIGF1c3RpbjE5OTZhID0gREIoV29yaygKICAgICAgICAxOTk2LCAiTWVhc3VyaW5nIGFuZCBNYW5hZ2luZyBQZXJmb3JtYW5jZSBpbiBPcmdhbml6YXRpb25zOwpqb3VybmFsPURvcnNldCBIb3VzZSBQdWJsaXNoaW5nIiwKICAgICAgICBkaXNwbGF5PSJhdXN0aW4iLAogICAgICAgIGF1dGhvcnM9IkF1c3RpbiwgUi5ELiIsCiAgICAgICAgcGxhY2UxPSIiLAogICAgICAgIGVudHJ5dHlwZT0iYXJ0aWNsZSIsCiAgICAgICAgbm90ZT0iY2l0ZWQgQnkgODciLAogICAgICAgIElEPSJBdXN0aW4xOTk2IiwKICAgICkpCgpEQihDaXRhdGlvbigKICAgIHdhaW5hMjAwMWEsIGF1c3RpbjE5OTZhLCByZWY9IiIsCiAgICBjb250ZXh0cz1bCgogICAgXSwKKSkKCicnJywgY2l0YXRpb25zPSd3YWluYTIwMDFhJyk7\"));\n",
       "    "
      ],
      "text/plain": [
       "<IPython.core.display.Javascript object>"
      ]
     },
     "metadata": {},
     "output_type": "display_data"
    },
    {
     "data": {
      "application/javascript": [
       "$('span:contains(\"# Temp\")').closest('.cell').remove();"
      ],
      "text/plain": [
       "<IPython.core.display.Javascript object>"
      ]
     },
     "metadata": {},
     "output_type": "display_data"
    },
    {
     "data": {
      "application/javascript": [
       "\n",
       "        $('span:contains(\"# Temp\")').closest('.cell').remove();\n",
       "        var code = IPython.notebook.insert_cell_below('code');\n",
       "        code.set_text(atob(\"IyBUZW1wCmluc2VydCgnJycKam9uZXMyMDAxYSA9IERCKFdvcmsoCiAgICAyMDAxLCAiU29mdHdhcmUgbWVhc3VyZW1lbnQgcHJvZ3JhbXMgYW5kIGluZHVzdHJ5IGxlYWRlcnNoaXAiLAogICAgZGlzcGxheT0iam9uZXMiLAogICAgYXV0aG9ycz0iSm9uZXMsIEMuIiwKICAgIHBwPSI0LTciLAogICAgcGxhY2UxPSJDcm9zc3RhbGsiLAogICAgZW50cnl0eXBlPSJhcnRpY2xlIiwKICAgIHZvbHVtZT0iMTQiLAogICAgbnVtYmVyPSIyIiwKICAgIG5vdGU9ImNpdGVkIEJ5IDQiLAogICAgSUQ9IkpvbmVzMjAwMTQiLAopKQoKREIoQ2l0YXRpb24oCiAgICB3YWluYTIwMDFhLCBqb25lczIwMDFhLCByZWY9IiIsCiAgICBjb250ZXh0cz1bCgogICAgXSwKKSkKCicnJywgY2l0YXRpb25zPSd3YWluYTIwMDFhJyk7\"));\n",
       "    "
      ],
      "text/plain": [
       "<IPython.core.display.Javascript object>"
      ]
     },
     "metadata": {},
     "output_type": "display_data"
    },
    {
     "data": {
      "application/javascript": [
       "$('span:contains(\"# Temp\")').closest('.cell').remove();"
      ],
      "text/plain": [
       "<IPython.core.display.Javascript object>"
      ]
     },
     "metadata": {},
     "output_type": "display_data"
    },
    {
     "data": {
      "application/javascript": [
       "\n",
       "        $('span:contains(\"# Temp\")').closest('.cell').remove();\n",
       "        var code = IPython.notebook.insert_cell_below('code');\n",
       "        code.set_text(atob(\"IyBUZW1wCmluc2VydCgnJycKam9uZXMyMDAxYSA9IERCKFdvcmsoCiAgICAyMDAxLCAiU29mdHdhcmUgbWVhc3VyZW1lbnQgcHJvZ3JhbXMgYW5kIGluZHVzdHJ5IGxlYWRlcnNoaXAiLAogICAgZGlzcGxheT0iam9uZXMiLAogICAgYXV0aG9ycz0iSm9uZXMsIEMuIiwKICAgIHBwPSI0LTciLAogICAgcGxhY2UxPSJDcm9zc3RhbGsiLAogICAgZW50cnl0eXBlPSJhcnRpY2xlIiwKICAgIHZvbHVtZT0iMTQiLAogICAgbnVtYmVyPSIyIiwKICAgIG5vdGU9ImNpdGVkIEJ5IDQiLAogICAgSUQ9IkpvbmVzMjAwMTQiLAopKQoKREIoQ2l0YXRpb24oCiAgICB3YWluYTIwMDFhLCBqb25lczIwMDFhLCByZWY9IiIsCiAgICBjb250ZXh0cz1bCgogICAgXSwKKSkKCicnJywgY2l0YXRpb25zPSd3YWluYTIwMDFhJyk7\"));\n",
       "    "
      ],
      "text/plain": [
       "<IPython.core.display.Javascript object>"
      ]
     },
     "metadata": {},
     "output_type": "display_data"
    },
    {
     "data": {
      "application/javascript": [
       "$('span:contains(\"# Temp\")').closest('.cell').remove();"
      ],
      "text/plain": [
       "<IPython.core.display.Javascript object>"
      ]
     },
     "metadata": {},
     "output_type": "display_data"
    },
    {
     "data": {
      "application/javascript": [
       "\n",
       "        $('span:contains(\"# Temp\")').closest('.cell').remove();\n",
       "        var code = IPython.notebook.insert_cell_below('code');\n",
       "        code.set_text(atob(\"IyBUZW1wCmluc2VydCgnJycKZmxvcmFjMTk5N2EgPSBEQihXb3JrKAogICAgMTk5NywgIlByYWN0aWNhbCBzb2Z0d2FyZSBtZWFzdXJlbWVudDogTWVhc3VyaW5nIGZvciBwcm9jZXNzIG1hbmFnZW1lbnQgYW5kIGltcHJvdmVtZW50IiwKICAgIGRpc3BsYXk9ImZsb3JhYyIsCiAgICBhdXRob3JzPSJGbG9yYWMsIEEuVy4gYW5kIFBhcmssIFIuRS4gYW5kIENhcmxldG9uLCBBLkQuIiwKICAgIHBsYWNlMT0iQ01VL1NFSS05Ny1IQi0wMDMiLAogICAgZW50cnl0eXBlPSJhcnRpY2xlIiwKICAgIG5vdGU9ImNpdGVkIEJ5IDUiLAogICAgSUQ9IkZsb3JhYzE5OTciLAopKQoKREIoQ2l0YXRpb24oCiAgICB3YWluYTIwMDFhLCBmbG9yYWMxOTk3YSwgcmVmPSIiLAogICAgY29udGV4dHM9WwoKICAgIF0sCikpCgonJycsIGNpdGF0aW9ucz0nd2FpbmEyMDAxYScpOw==\"));\n",
       "    "
      ],
      "text/plain": [
       "<IPython.core.display.Javascript object>"
      ]
     },
     "metadata": {},
     "output_type": "display_data"
    },
    {
     "data": {
      "application/javascript": [
       "$('span:contains(\"# Temp\")').closest('.cell').remove();"
      ],
      "text/plain": [
       "<IPython.core.display.Javascript object>"
      ]
     },
     "metadata": {},
     "output_type": "display_data"
    },
    {
     "data": {
      "application/javascript": [
       "\n",
       "        $('span:contains(\"# Temp\")').closest('.cell').remove();\n",
       "        var code = IPython.notebook.insert_cell_below('code');\n",
       "        code.set_text(atob(\"IyBUZW1wCmluc2VydCgnJycKZmxvcmFjMTk5N2EgPSBEQihXb3JrKAogICAgMTk5NywgIlByYWN0aWNhbCBzb2Z0d2FyZSBtZWFzdXJlbWVudDogTWVhc3VyaW5nIGZvciBwcm9jZXNzIG1hbmFnZW1lbnQgYW5kIGltcHJvdmVtZW50IiwKICAgIGRpc3BsYXk9ImZsb3JhYyIsCiAgICBhdXRob3JzPSJGbG9yYWMsIEEuVy4gYW5kIFBhcmssIFIuRS4gYW5kIENhcmxldG9uLCBBLkQuIiwKICAgIHBsYWNlMT0iQ01VL1NFSS05Ny1IQi0wMDMiLAogICAgZW50cnl0eXBlPSJhcnRpY2xlIiwKICAgIG5vdGU9ImNpdGVkIEJ5IDUiLAogICAgSUQ9IkZsb3JhYzE5OTciLAopKQoKREIoQ2l0YXRpb24oCiAgICB3YWluYTIwMDFhLCBmbG9yYWMxOTk3YSwgcmVmPSIiLAogICAgY29udGV4dHM9WwoKICAgIF0sCikpCgonJycsIGNpdGF0aW9ucz0nd2FpbmEyMDAxYScpOw==\"));\n",
       "    "
      ],
      "text/plain": [
       "<IPython.core.display.Javascript object>"
      ]
     },
     "metadata": {},
     "output_type": "display_data"
    },
    {
     "data": {
      "application/javascript": [
       "$('span:contains(\"# Temp\")').closest('.cell').remove();"
      ],
      "text/plain": [
       "<IPython.core.display.Javascript object>"
      ]
     },
     "metadata": {},
     "output_type": "display_data"
    },
    {
     "data": {
      "application/javascript": [
       "\n",
       "        $('span:contains(\"# Temp\")').closest('.cell').remove();\n",
       "        var code = IPython.notebook.insert_cell_below('code');\n",
       "        code.set_text(atob(\"IyBUZW1wCmluc2VydCgnJycKcGFyazE5OTZhID0gREIoV29yaygKICAgIDE5OTYsICJHb2FsLWRyaXZlbiBzb2Z0d2FyZSBtZWFzdXJlbWVudCAtIEEgZ3VpZGVib29rIiwKICAgIGRpc3BsYXk9InBhcmsiLAogICAgYXV0aG9ycz0iUGFyaywgUi4iLAogICAgcGxhY2UxPSJDTVUvU0VJLTk2LUhCLTAwMiIsCiAgICBlbnRyeXR5cGU9ImFydGljbGUiLAogICAgbm90ZT0iY2l0ZWQgQnkgMiIsCiAgICBJRD0iUGFyazE5OTYiLAopKQoKREIoQ2l0YXRpb24oCiAgICB3YWluYTIwMDFhLCBwYXJrMTk5NmEsIHJlZj0iIiwKICAgIGNvbnRleHRzPVsKCiAgICBdLAopKQoKJycnLCBjaXRhdGlvbnM9J3dhaW5hMjAwMWEnKTs=\"));\n",
       "    "
      ],
      "text/plain": [
       "<IPython.core.display.Javascript object>"
      ]
     },
     "metadata": {},
     "output_type": "display_data"
    },
    {
     "data": {
      "application/javascript": [
       "$('span:contains(\"# Temp\")').closest('.cell').remove();"
      ],
      "text/plain": [
       "<IPython.core.display.Javascript object>"
      ]
     },
     "metadata": {},
     "output_type": "display_data"
    },
    {
     "data": {
      "application/javascript": [
       "\n",
       "        $('span:contains(\"# Temp\")').closest('.cell').remove();\n",
       "        var code = IPython.notebook.insert_cell_below('code');\n",
       "        code.set_text(atob(\"IyBUZW1wCmluc2VydCgnJycKcGFyazE5OTZhID0gREIoV29yaygKICAgIDE5OTYsICJHb2FsLWRyaXZlbiBzb2Z0d2FyZSBtZWFzdXJlbWVudCAtIEEgZ3VpZGVib29rIiwKICAgIGRpc3BsYXk9InBhcmsiLAogICAgYXV0aG9ycz0iUGFyaywgUi4iLAogICAgcGxhY2UxPSJDTVUvU0VJLTk2LUhCLTAwMiIsCiAgICBlbnRyeXR5cGU9ImFydGljbGUiLAogICAgbm90ZT0iY2l0ZWQgQnkgMiIsCiAgICBJRD0iUGFyazE5OTYiLAopKQoKREIoQ2l0YXRpb24oCiAgICB3YWluYTIwMDFhLCBwYXJrMTk5NmEsIHJlZj0iIiwKICAgIGNvbnRleHRzPVsKCiAgICBdLAopKQoKJycnLCBjaXRhdGlvbnM9J3dhaW5hMjAwMWEnKTs=\"));\n",
       "    "
      ],
      "text/plain": [
       "<IPython.core.display.Javascript object>"
      ]
     },
     "metadata": {},
     "output_type": "display_data"
    },
    {
     "data": {
      "application/javascript": [
       "$('span:contains(\"# Temp\")').closest('.cell').remove();"
      ],
      "text/plain": [
       "<IPython.core.display.Javascript object>"
      ]
     },
     "metadata": {},
     "output_type": "display_data"
    },
    {
     "data": {
      "application/javascript": [
       "\n",
       "        $('span:contains(\"# Temp\")').closest('.cell').remove();\n",
       "        var code = IPython.notebook.insert_cell_below('code');\n",
       "        code.set_text(atob(\"IyBUZW1wCmluc2VydCgnJycKcGVya2luczIwMDFhID0gREIoV29yaygKICAgIDIwMDEsICJUaGUgbmluZS1zdGVwIG1ldHJpY3MgcHJvZ3JhbSIsCiAgICBkaXNwbGF5PSJwZXJraW5zIiwKICAgIGF1dGhvcnM9IlBlcmtpbnMsIFQuSy4iLAogICAgcHA9IjE2LTE4IiwKICAgIHBsYWNlMT0iQ3Jvc3N0YWxrIiwKICAgIGVudHJ5dHlwZT0iYXJ0aWNsZSIsCiAgICBub3RlPSJjaXRlZCBCeSAxIiwKICAgIElEPSJQZXJraW5zMjAwMTE2IiwKKSkKCkRCKENpdGF0aW9uKAogICAgd2FpbmEyMDAxYSwgcGVya2luczIwMDFhLCByZWY9IiIsCiAgICBjb250ZXh0cz1bCgogICAgXSwKKSkKCicnJywgY2l0YXRpb25zPSd3YWluYTIwMDFhJyk7\"));\n",
       "    "
      ],
      "text/plain": [
       "<IPython.core.display.Javascript object>"
      ]
     },
     "metadata": {},
     "output_type": "display_data"
    },
    {
     "data": {
      "application/javascript": [
       "$('span:contains(\"# Temp\")').closest('.cell').remove();"
      ],
      "text/plain": [
       "<IPython.core.display.Javascript object>"
      ]
     },
     "metadata": {},
     "output_type": "display_data"
    },
    {
     "data": {
      "application/javascript": [
       "\n",
       "        $('span:contains(\"# Temp\")').closest('.cell').remove();\n",
       "        var code = IPython.notebook.insert_cell_below('code');\n",
       "        code.set_text(atob(\"IyBUZW1wCmluc2VydCgnJycKcGVya2luczIwMDFhID0gREIoV29yaygKICAgIDIwMDEsICJUaGUgbmluZS1zdGVwIG1ldHJpY3MgcHJvZ3JhbSIsCiAgICBkaXNwbGF5PSJwZXJraW5zIiwKICAgIGF1dGhvcnM9IlBlcmtpbnMsIFQuSy4iLAogICAgcHA9IjE2LTE4IiwKICAgIHBsYWNlMT0iQ3Jvc3N0YWxrIiwKICAgIGVudHJ5dHlwZT0iYXJ0aWNsZSIsCiAgICBub3RlPSJjaXRlZCBCeSAxIiwKICAgIElEPSJQZXJraW5zMjAwMTE2IiwKKSkKCkRCKENpdGF0aW9uKAogICAgd2FpbmEyMDAxYSwgcGVya2luczIwMDFhLCByZWY9IiIsCiAgICBjb250ZXh0cz1bCgogICAgXSwKKSkKCicnJywgY2l0YXRpb25zPSd3YWluYTIwMDFhJyk7\"));\n",
       "    "
      ],
      "text/plain": [
       "<IPython.core.display.Javascript object>"
      ]
     },
     "metadata": {},
     "output_type": "display_data"
    },
    {
     "data": {
      "application/javascript": [
       "$('span:contains(\"# Temp\")').closest('.cell').remove();"
      ],
      "text/plain": [
       "<IPython.core.display.Javascript object>"
      ]
     },
     "metadata": {},
     "output_type": "display_data"
    },
    {
     "data": {
      "application/javascript": [
       "\n",
       "        $('span:contains(\"# Temp\")').closest('.cell').remove();\n",
       "        var code = IPython.notebook.insert_cell_below('code');\n",
       "        code.set_text(atob(\"IyBUZW1wCmluc2VydCgnJycKICAgIHp1c2UxOTk4YSA9IERCKFdvcmsoCiAgICAgICAgMTk5OCwgIkEgRnJhbWV3b3JrIG9mIFNvZnR3YXJlIE1lYXN1cmVtZW50Owpqb3VybmFsPVdhbHRlciBkZSBHcnV5dGVyIiwKICAgICAgICBkaXNwbGF5PSJ6dXNlIiwKICAgICAgICBhdXRob3JzPSJadXNlLCBILiIsCiAgICAgICAgcGxhY2UxPSIiLAogICAgICAgIGVudHJ5dHlwZT0iYXJ0aWNsZSIsCiAgICAgICAgbm90ZT0iY2l0ZWQgQnkgMjA0IiwKICAgICAgICBJRD0iWnVzZTE5OTgiLAogICAgKSkKCkRCKENpdGF0aW9uKAogICAgd2FpbmEyMDAxYSwgenVzZTE5OThhLCByZWY9IiIsCiAgICBjb250ZXh0cz1bCgogICAgXSwKKSkKCicnJywgY2l0YXRpb25zPSd3YWluYTIwMDFhJyk7\"));\n",
       "    "
      ],
      "text/plain": [
       "<IPython.core.display.Javascript object>"
      ]
     },
     "metadata": {},
     "output_type": "display_data"
    },
    {
     "data": {
      "application/javascript": [
       "$('span:contains(\"# Temp\")').closest('.cell').remove();"
      ],
      "text/plain": [
       "<IPython.core.display.Javascript object>"
      ]
     },
     "metadata": {},
     "output_type": "display_data"
    },
    {
     "data": {
      "application/javascript": [
       "\n",
       "        $('span:contains(\"# Temp\")').closest('.cell').remove();\n",
       "        var code = IPython.notebook.insert_cell_below('code');\n",
       "        code.set_text(atob(\"IyBUZW1wCmluc2VydCgnJycKICAgIHp1c2UxOTk4YSA9IERCKFdvcmsoCiAgICAgICAgMTk5OCwgIkEgRnJhbWV3b3JrIG9mIFNvZnR3YXJlIE1lYXN1cmVtZW50Owpqb3VybmFsPVdhbHRlciBkZSBHcnV5dGVyIiwKICAgICAgICBkaXNwbGF5PSJ6dXNlIiwKICAgICAgICBhdXRob3JzPSJadXNlLCBILiIsCiAgICAgICAgcGxhY2UxPSIiLAogICAgICAgIGVudHJ5dHlwZT0iYXJ0aWNsZSIsCiAgICAgICAgbm90ZT0iY2l0ZWQgQnkgMjA0IiwKICAgICAgICBJRD0iWnVzZTE5OTgiLAogICAgKSkKCkRCKENpdGF0aW9uKAogICAgd2FpbmEyMDAxYSwgenVzZTE5OThhLCByZWY9IiIsCiAgICBjb250ZXh0cz1bCgogICAgXSwKKSkKCicnJywgY2l0YXRpb25zPSd3YWluYTIwMDFhJyk7\"));\n",
       "    "
      ],
      "text/plain": [
       "<IPython.core.display.Javascript object>"
      ]
     },
     "metadata": {},
     "output_type": "display_data"
    },
    {
     "data": {
      "application/javascript": [
       "$('span:contains(\"# Temp\")').closest('.cell').remove();"
      ],
      "text/plain": [
       "<IPython.core.display.Javascript object>"
      ]
     },
     "metadata": {},
     "output_type": "display_data"
    },
    {
     "data": {
      "application/javascript": [
       "\n",
       "        $('span:contains(\"# Temp\")').closest('.cell').remove();\n",
       "        var code = IPython.notebook.insert_cell_below('code');\n",
       "        code.set_text(atob(\"IyBUZW1wCmluc2VydCgnJycKZGVra2VyczE5OTlhID0gREIoV29yaygKICAgIDE5OTksICJUaGUgU2VjcmV0cyBvZiBIaWdobHkgU3VjY2Vzc2Z1bCBNZWFzdXJlbWVudCBQcm9ncmFtcyIsCiAgICBkaXNwbGF5PSJkZWtrZXJzIiwKICAgIGF1dGhvcnM9IkRla2tlcnMsIEMuQS4iLAogICAgcHA9IjI5LTM1IiwKICAgIHBsYWNlMT0iQ3V0dGVyIElUIEpvdXJuYWwiLAogICAgZW50cnl0eXBlPSJhcnRpY2xlIiwKICAgIHZvbHVtZT0iMTIiLAogICAgbnVtYmVyPSI0IiwKICAgIG5vdGU9ImNpdGVkIEJ5IDEzIiwKICAgIElEPSJEZWtrZXJzMTk5OTI5IiwKKSkKCkRCKENpdGF0aW9uKAogICAgd2FpbmEyMDAxYSwgZGVra2VyczE5OTlhLCByZWY9IiIsCiAgICBjb250ZXh0cz1bCgogICAgXSwKKSkKCicnJywgY2l0YXRpb25zPSd3YWluYTIwMDFhJyk7\"));\n",
       "    "
      ],
      "text/plain": [
       "<IPython.core.display.Javascript object>"
      ]
     },
     "metadata": {},
     "output_type": "display_data"
    },
    {
     "data": {
      "application/javascript": [
       "$('span:contains(\"# Temp\")').closest('.cell').remove();"
      ],
      "text/plain": [
       "<IPython.core.display.Javascript object>"
      ]
     },
     "metadata": {},
     "output_type": "display_data"
    },
    {
     "data": {
      "application/javascript": [
       "\n",
       "        $('span:contains(\"# Temp\")').closest('.cell').remove();\n",
       "        var code = IPython.notebook.insert_cell_below('code');\n",
       "        code.set_text(atob(\"IyBUZW1wCmluc2VydCgnJycKZGVra2VyczE5OTlhID0gREIoV29yaygKICAgIDE5OTksICJUaGUgU2VjcmV0cyBvZiBIaWdobHkgU3VjY2Vzc2Z1bCBNZWFzdXJlbWVudCBQcm9ncmFtcyIsCiAgICBkaXNwbGF5PSJkZWtrZXJzIiwKICAgIGF1dGhvcnM9IkRla2tlcnMsIEMuQS4iLAogICAgcHA9IjI5LTM1IiwKICAgIHBsYWNlMT0iQ3V0dGVyIElUIEpvdXJuYWwiLAogICAgZW50cnl0eXBlPSJhcnRpY2xlIiwKICAgIHZvbHVtZT0iMTIiLAogICAgbnVtYmVyPSI0IiwKICAgIG5vdGU9ImNpdGVkIEJ5IDEzIiwKICAgIElEPSJEZWtrZXJzMTk5OTI5IiwKKSkKCkRCKENpdGF0aW9uKAogICAgd2FpbmEyMDAxYSwgZGVra2VyczE5OTlhLCByZWY9IiIsCiAgICBjb250ZXh0cz1bCgogICAgXSwKKSkKCicnJywgY2l0YXRpb25zPSd3YWluYTIwMDFhJyk7\"));\n",
       "    "
      ],
      "text/plain": [
       "<IPython.core.display.Javascript object>"
      ]
     },
     "metadata": {},
     "output_type": "display_data"
    }
   ],
   "source": [
    "BackwardSnowballing(\"wilkie2007a\", articles=article_list)"
   ]
  },
  {
   "cell_type": "code",
   "execution_count": 32,
   "metadata": {},
   "outputs": [
    {
     "name": "stdout",
     "output_type": "stream",
     "text": [
      "-Insert: dekkers1999a\n",
      "-Insert Import: dekkers1999a\n",
      "-Insert Citation: waina2001a -> dekkers1999a\n"
     ]
    }
   ],
   "source": [
    "# Temp\n",
    "insert('''\n",
    "dekkers1999a = DB(WorkOk(\n",
    "    1999, \"The Secrets of Highly Successful Measurement Programs\",\n",
    "    display=\"dekkers\",\n",
    "    authors=\"Dekkers, C.A.\",\n",
    "    pp=\"29-35\",\n",
    "    place=FAKE,\n",
    "    placex=\"Cutter IT Journal\",\n",
    "    entrytype=\"article\",\n",
    "    volume=\"12\",\n",
    "    number=\"4\",\n",
    "    note=\"cited By 13\",\n",
    "    ID=\"Dekkers199929\",\n",
    "))\n",
    "\n",
    "DB(Citation(\n",
    "    waina2001a, dekkers1999a, ref=\"\",\n",
    "    contexts=[\n",
    "\n",
    "    ],\n",
    "))\n",
    "\n",
    "''', citations='waina2001a');"
   ]
  },
  {
   "cell_type": "code",
   "execution_count": null,
   "metadata": {
    "collapsed": true
   },
   "outputs": [],
   "source": []
  }
 ],
 "metadata": {
  "kernelspec": {
   "display_name": "Python 3",
   "language": "python",
   "name": "python3"
  },
  "language_info": {
   "codemirror_mode": {
    "name": "ipython",
    "version": 3
   },
   "file_extension": ".py",
   "mimetype": "text/x-python",
   "name": "python",
   "nbconvert_exporter": "python",
   "pygments_lexer": "ipython3",
   "version": "3.6.0"
  },
  "toc": {
   "nav_menu": {
    "height": "12px",
    "width": "252px"
   },
   "number_sections": true,
   "sideBar": true,
   "skip_h1_title": false,
   "toc_cell": false,
   "toc_position": {},
   "toc_section_display": "block",
   "toc_window_display": false
  }
 },
 "nbformat": 4,
 "nbformat_minor": 2
}
