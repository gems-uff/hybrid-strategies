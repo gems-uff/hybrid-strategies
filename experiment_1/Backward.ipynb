{
 "cells": [
  {
   "cell_type": "code",
   "execution_count": 62,
   "metadata": {
    "collapsed": true
   },
   "outputs": [],
   "source": [
    "import database\n",
    "from snowballing.operations import load_work, reload, work_by_varname\n",
    "from snowballing.snowballing import Converter\n",
    "from snowballing.snowballing import BackwardSnowballing\n",
    "from snowballing.dbmanager import insert, set_attribute"
   ]
  },
  {
   "cell_type": "code",
   "execution_count": 63,
   "metadata": {
    "scrolled": false
   },
   "outputs": [
    {
     "data": {
      "application/vnd.jupyter.widget-view+json": {
       "model_id": "279e32258840453bb271e0196fdeb792",
       "version_major": 2,
       "version_minor": 0
      },
      "text/html": [
       "<p>Failed to display Jupyter Widget of type <code>VBox</code>.</p>\n",
       "<p>\n",
       "  If you're reading this message in Jupyter Notebook or JupyterLab, it may mean\n",
       "  that the widgets JavaScript is still loading. If this message persists, it\n",
       "  likely means that the widgets JavaScript library is either not installed or\n",
       "  not enabled. See the <a href=\"https://ipywidgets.readthedocs.io/en/stable/user_install.html\">Jupyter\n",
       "  Widgets Documentation</a> for setup instructions.\n",
       "</p>\n",
       "<p>\n",
       "  If you're reading this message in another notebook frontend (for example, a static\n",
       "  rendering on GitHub or <a href=\"https://nbviewer.jupyter.org/\">NBViewer</a>),\n",
       "  it may mean that your frontend doesn't currently support widgets.\n",
       "</p>\n"
      ],
      "text/plain": [
       "VBox(children=(HBox(children=(Dropdown(index=1, options={'BibTeX': 'bibtex', 'Text': 'text', '[N] author name place other year': 'citation', 'Quoted': 'quoted'}, value='text'), Button(description='Set article_list variable', disabled=True, style=ButtonStyle()), Label(value=''))), HBox(children=(Textarea(value='', layout=Layout(height='500px', width='50%')), Textarea(value='', layout=Layout(height='500px', width='50%'))))))"
      ]
     },
     "metadata": {},
     "output_type": "display_data"
    }
   ],
   "source": [
    "Converter().browser()"
   ]
  },
  {
   "cell_type": "code",
   "execution_count": 64,
   "metadata": {},
   "outputs": [
    {
     "data": {
      "text/plain": [
       "24"
      ]
     },
     "execution_count": 64,
     "metadata": {},
     "output_type": "execute_result"
    }
   ],
   "source": [
    "len(article_list)"
   ]
  },
  {
   "cell_type": "code",
   "execution_count": 4,
   "metadata": {
    "collapsed": true
   },
   "outputs": [],
   "source": [
    "#from database.work.y2015 import li2015a"
   ]
  },
  {
   "cell_type": "code",
   "execution_count": 5,
   "metadata": {
    "collapsed": true
   },
   "outputs": [],
   "source": [
    "#int(getattr(li2015a, 'scopus', 0))"
   ]
  },
  {
   "cell_type": "code",
   "execution_count": 39,
   "metadata": {},
   "outputs": [
    {
     "name": "stdout",
     "output_type": "stream",
     "text": [
      "[{'name': 'A method for process assessment in small software companies', 'authors': 'Anacleto, A. and Von Wangenheim, C.G. and Salviano, C.F. and Savi, R.', 'year': 2004, 'pp': '69-76', 'place1': '4th International SPICE Conference on Process Assessment and Improvement', 'entrytype': 'article', 'display': 'anacleto', 'pyref': 'anacleto2004a', 'note': 'cited By 15', 'ID': 'Anacleto200469', '_work_type': 'Work'}, {'name': 'Experiences gained from applying ISO/IEC 15504 to small software companies in Brazil', 'authors': 'Anacleto, A. and Von Wangenheim, C.G. and Salviano, C.F. and Savi, R.', 'year': 2004, 'pp': '33-37', 'place1': '4th International SPICE Conference on Process Assessment and Improvement', 'entrytype': 'article', 'display': 'anacleto', 'pyref': 'anacleto2004a', 'note': 'cited By 28', 'ID': 'Anacleto200433', '_work_type': 'Work'}, {'name': 'CMMI: Guidelines for Process Integration and Product Improvement', 'authors': 'Chrissis, M.B. and Konrad, M. and Shrum, S.', 'year': 2003, 'place1': 'Addison Wesley', 'entrytype': 'article', 'display': 'chrissis', 'pyref': 'chrissis2003a', 'note': 'cited By 687', 'ID': 'Chrissis2003', '_work_type': 'Work'}, {'name': \"Rapid software process assessment to promote innovation in SME's\", 'authors': 'Cignoni, G.A.', 'year': 1999, 'place1': 'Proceedings of Euromicro', 'entrytype': 'article', 'display': 'cignoni', 'pyref': 'cignoni1999a', 'volume': '99', 'note': 'cited By 4', 'ID': 'Cignoni1999', '_work_type': 'Work'}, {'name': 'CSPT', 'authors': 'CSPT', 'year': 2003, 'place1': 'Centre for Software Process Technologies', 'entrytype': 'article', 'display': 'cspt', 'pyref': 'cspt2003a', 'note': 'cited By 1', 'ID': 'CSPT,2003', '_work_type': 'Work'}, {'name': 'FAME (Fraunhofer Assessment MEthod) - A Business-focused Method for Process Assessment', 'authors': 'Fraunhofer Institute', 'year': 2005, 'place1': 'Fraunhofer Institute Experimentelles Software Engineering', 'entrytype': 'article', 'display': 'institute', 'pyref': 'institute2005a', 'note': 'cited By 2', 'ID': 'Fame2005', '_work_type': 'Work'}, {'name': 'Information Technology - Process Assessment - Part 5: An exemplar Process Assessment Model', 'authors': 'ISO/IEC 15504, ISO/IECJTC1/SC7', 'year': 2006, 'place1': 'Information Technology - Process Assessment', 'entrytype': 'article', 'display': 'iso', 'pyref': 'iso2006a', 'note': 'cited By 251', 'ID': 'IT2003', '_work_type': 'Work'}, {'name': 'Information technology - Process assessment - Part 3: Guidance on performing an assessment', 'authors': 'ISO/IEC 15504-3', 'year': 2006, 'place1': 'Information Technology - Process Assessment', 'entrytype': 'article', 'display': '15504-3', 'pyref': '15504-32006a', 'note': 'cited By 251', 'ID': 'IT2004', '_work_type': 'Work'}, {'name': 'A Detailed Process Assessment Method for SMEs \\nyear=2000', 'authors': 'Makinen, T. and Varkoi, T. and Lepasaar, M.', 'year': 0, 'place1': 'EuroSPI', 'entrytype': 'article', 'display': 'makinen', 'pyref': 'makinen0a', 'note': 'cited By 3', 'ID': 'Makinen2000', '_work_type': 'Work'}, {'name': 'Improving express process appraisal method', 'authors': 'Mc Caffery, F. and McFall, D. and Wilkie, F.G.', 'year': 2005, 'pp': '286-298', 'place1': '6th International Conference on Product Focused Software Process Improvement (Profes 2005)', 'entrytype': 'article', 'place': 'ICPFSPI', 'display': 'caffery', 'pyref': 'caffery2005a', 'ID': 'McCaffery2005', '_work_type': 'Work'}, {'name': 'Northern Ireland Software Industry Survey', 'authors': 'Mc Caffery, F. and Wilkie, F.G. and McFall, D. and Lester, N.', 'year': 2004, 'pp': '159-161', 'place1': 'Proceedings of Fourth International SPICE Conference on Process Assessment and Improvement', 'entrytype': 'article', 'display': 'caffery', 'pyref': 'caffery2004a', 'note': 'cited By 1', 'ID': 'McCaffery2004', '_work_type': 'Work'}, {'name': 'Software processes and process improvement in Northern Ireland', 'authors': 'McFall, D. and Wilkie, F.G. and McCaffery, F. and Lester, N.G. and Sterritt, R.', 'year': 2003, 'pp': '1-10', 'place1': '16th International Conference on Software & Systems Engineering and Their Applications', 'entrytype': 'article', 'place': 'ICASEA', 'display': 'mcfall', 'pyref': 'mcfall2003a', 'note': 'cited By 10', 'ID': 'McFall2003', '_work_type': 'Work'}, {'name': \"IDEAL: A User's Guide for Software Process Improvement\", 'authors': 'McFeeley, B.', 'year': 1996, 'place1': 'Software Engineering Institute: CMU/SEI', 'entrytype': 'article', 'display': 'mcfeeley', 'pyref': 'mcfeeley1996a', 'note': 'cited By 181', 'ID': 'McFeeley1996', '_work_type': 'Work'}, {'name': 'The RAPID assessment of software process capability. In Software Process Improvement, Hunter RB', 'authors': 'Rout, T.P. and Tuffley, A. and Cahill, B. and Hodgen, B.', 'year': 2001, 'place1': 'IEEE Computer Society Press', 'entrytype': 'article', 'display': 'rout', 'pyref': 'rout2001a', 'note': 'cited By 2', 'ID': 'Rout2001', '_work_type': 'Work'}, {'name': 'The capability maturity model: Guidelines for improving the software process', 'authors': 'Paulk, M.C. and Weber, C.V. and Curtis, B. and Chrissis, M.B.', 'year': 1995, 'place1': 'The Capability Maturity Model: Guidelines for Improving the Software Process', 'entrytype': 'article', 'display': 'paulk', 'pyref': 'paulk1995a', 'note': 'cited By 982', 'ID': 'Paulk1995', '_work_type': 'Work'}, {'name': 'Appraisal requirements for CMMI®, Version 1.1', 'authors': 'CMMI Product Team', 'year': 2007, 'place1': 'SEI', 'entrytype': 'article', 'display': 'team', 'pyref': 'team2007a', 'note': 'cited By 1', 'ID': 'NoAuthor2007', '_work_type': 'Work'}, {'name': 'Process Maturity Profile: CMMI® v1.1, SCAMPI SM v1.1 Class A Appraisal Results', 'authors': 'SEI', 'year': 2004, 'place1': 'Process Maturity Profile', 'entrytype': 'article', 'display': 'sei', 'pyref': 'sei2004a', 'note': 'cited By 17', 'ID': 'SEI2004', '_work_type': 'Work'}, {'name': 'The IDEALSM Model', 'authors': 'SEI', 'year': 2005, 'place1': 'SEI', 'entrytype': 'article', 'display': 'sei', 'pyref': 'sei2005a', 'note': 'cited By 1', 'ID': 'NoAuthor2005', '_work_type': 'Work'}, {'name': 'The centre for software process technologies: A model for process improvement in geographical regions with small software industries', 'authors': 'Wilkie, F.G. and McFall, D. and McCaffery, F.', 'year': 2004, 'pp': '5', 'place1': 'Proceedings of 16th Software Engineering Process Group Conference', 'entrytype': 'article', 'display': 'wilkie', 'pyref': 'wilkie2004a', 'note': 'cited By 4', 'ID': 'Wilkie2004', '_work_type': 'Work'}, {'name': 'An Evaluation of CMMI® Process Areas for Small to Medium Sized Software Development Organisations Software Process Improvement and Practice', 'authors': 'Wilkie, F.G. and McFall, D. and Mc Caffery, F.', 'year': 2005, 'pp': '2', 'place1': 'Wiley Publishers: 189-201', 'entrytype': 'article', 'display': 'wilkie', 'pyref': 'wilkie2005a', 'volume': '10', 'note': 'cited By 1', 'ID': 'Wilkie2005', '_work_type': 'Work'}]\n"
     ]
    }
   ],
   "source": [
    "print(article_list)"
   ]
  },
  {
   "cell_type": "code",
   "execution_count": null,
   "metadata": {
    "collapsed": true
   },
   "outputs": [],
   "source": []
  },
  {
   "cell_type": "code",
   "execution_count": null,
   "metadata": {
    "collapsed": true
   },
   "outputs": [],
   "source": []
  },
  {
   "cell_type": "code",
   "execution_count": 65,
   "metadata": {},
   "outputs": [
    {
     "data": {
      "application/vnd.jupyter.widget-view+json": {
       "model_id": "1b1cb16260ee40b58f255e64819c0c4d",
       "version_major": 2,
       "version_minor": 0
      },
      "text/html": [
       "<p>Failed to display Jupyter Widget of type <code>VBox</code>.</p>\n",
       "<p>\n",
       "  If you're reading this message in Jupyter Notebook or JupyterLab, it may mean\n",
       "  that the widgets JavaScript is still loading. If this message persists, it\n",
       "  likely means that the widgets JavaScript library is either not installed or\n",
       "  not enabled. See the <a href=\"https://ipywidgets.readthedocs.io/en/stable/user_install.html\">Jupyter\n",
       "  Widgets Documentation</a> for setup instructions.\n",
       "</p>\n",
       "<p>\n",
       "  If you're reading this message in another notebook frontend (for example, a static\n",
       "  rendering on GitHub or <a href=\"https://nbviewer.jupyter.org/\">NBViewer</a>),\n",
       "  it may mean that your frontend doesn't currently support widgets.\n",
       "</p>\n"
      ],
      "text/plain": [
       "VBox(children=(HBox(children=(Button(description='Previous Article', disabled=True, icon='caret-left', style=ButtonStyle()), Button(description='Reload Article', icon='refresh', style=ButtonStyle()), Button(description='Next Article', icon='caret-right', style=ButtonStyle()))), HBox(children=(Button(description='Unrelated: Scripts', style=ButtonStyle()), Button(description='Unrelated: Provenance', style=ButtonStyle()), Button(description='Both', style=ButtonStyle()), Button(description='Ok', style=ButtonStyle()))), HBox(children=(Dropdown(description='Type', options=('Work', 'WorkSnowball', 'WorkForward', 'WorkBackward', 'WorkOk', 'WorkUnrelated', 'WorkNoFile', 'WorkLang', 'Site', 'Email'), value='Work'), ToggleButton(value=False, description='File'))), HBox(children=(Text(value='', description='Due'), Text(value='', description='Place'))), HBox(children=(Text(value='', description='Year'), Text(value='', description='Prefix Var'))), HBox(children=(Text(value='', description='PDFPage'), Text(value='', description='Related'))), HBox(children=(Text(value='', description='Display'), Text(value='', description='Summary'))), HBox(children=(Text(value='', description='Star'), Text(value='', description='Link'))), HBox(children=(Button(description='Reload Article', icon='refresh', style=ButtonStyle()), IntSlider(value=0, max=23), Label(value='1/24'))), Output()))"
      ]
     },
     "metadata": {},
     "output_type": "display_data"
    },
    {
     "data": {
      "application/javascript": [
       "$('span:contains(\"# Temp\")').closest('.cell').remove();"
      ],
      "text/plain": [
       "<IPython.core.display.Javascript object>"
      ]
     },
     "metadata": {},
     "output_type": "display_data"
    },
    {
     "data": {
      "application/javascript": [
       "\n",
       "        $('span:contains(\"# Temp\")').closest('.cell').remove();\n",
       "        var code = IPython.notebook.insert_cell_below('code');\n",
       "        code.set_text(atob(\"IyBUZW1wCmluc2VydCgnJycKYWthbzE5OTBhID0gREIoV29yaygKICAgIDE5OTAsICJUaGUgYm9vaywgUUZEOiBJbnRlZ3JhdGluZyBjdXN0b21lciByZXF1aXJlbWVudHMgaW50byBwcm9kdWN0IGRlc2lnbiIsCiAgICBkaXNwbGF5PSJha2FvIiwKICAgIGF1dGhvcnM9IkFrYW8sIFkuIiwKICAgIHBsYWNlMT0iUHJvZHVjdGl2aXR5IFByZXNzIiwKICAgIGVudHJ5dHlwZT0iYXJ0aWNsZSIsCiAgICBub3RlPSJjaXRlZCBCeSA2MiIsCiAgICBJRD0iQWthbzE5OTAiLAopKQoKREIoQ2l0YXRpb24oCiAgICBiZWNrZXIyMDA4YSwgYWthbzE5OTBhLCByZWY9IiIsCiAgICBjb250ZXh0cz1bCgogICAgXSwKKSkKCicnJywgY2l0YXRpb25zPSdiZWNrZXIyMDA4YScpOw==\"));\n",
       "    "
      ],
      "text/plain": [
       "<IPython.core.display.Javascript object>"
      ]
     },
     "metadata": {},
     "output_type": "display_data"
    },
    {
     "data": {
      "application/javascript": [
       "$('span:contains(\"# Temp\")').closest('.cell').remove();"
      ],
      "text/plain": [
       "<IPython.core.display.Javascript object>"
      ]
     },
     "metadata": {},
     "output_type": "display_data"
    },
    {
     "data": {
      "application/javascript": [
       "\n",
       "        $('span:contains(\"# Temp\")').closest('.cell').remove();\n",
       "        var code = IPython.notebook.insert_cell_below('code');\n",
       "        code.set_text(atob(\"IyBUZW1wCmluc2VydCgnJycKYmly8zE5OTlhID0gREIoV29ya09rKAogICAgMTk5OSwgIlRoZSBTb2Z0d2FyZSBQcm9jZXNzIGluIHRoZSBDb250ZXh0IG9mIEJ1c2luZXNzIEdvYWxzIGFuZCBQZXJmb3JtYW5jZSIsCiAgICBkaXNwbGF5PSJiaXLzIiwKICAgIGF1dGhvcnM9IkJpcvMsIE0uIGFuZCBUdWxseSwgQy4iLAogICAgcHA9IjE1LTI3IiwKICAgIHBsYWNlMT0iQmV0dGVyIFNvZnR3YXJlIFByYWN0aWNlIGZvciBCdXNpbmVzcyBCZW5lZml0OiBQcmluY2lwbGVzIGFuZCBFeHBlcmllbmNlIiwKICAgIGVudHJ5dHlwZT0iYXJ0aWNsZSIsCiAgICBub3RlPSJjaXRlZCBCeSAzIiwKICAgIElEPSJCaXLzMTk5OTE1IiwKKSkKCkRCKENpdGF0aW9uKAogICAgYmVja2VyMjAwOGEsIGJpcvMxOTk5YSwgcmVmPSIiLAogICAgY29udGV4dHM9WwoKICAgIF0sCikpCgonJycsIGNpdGF0aW9ucz0nYmVja2VyMjAwOGEnKTs=\"));\n",
       "    "
      ],
      "text/plain": [
       "<IPython.core.display.Javascript object>"
      ]
     },
     "metadata": {},
     "output_type": "display_data"
    },
    {
     "data": {
      "application/javascript": [
       "$('span:contains(\"# Temp\")').closest('.cell').remove();"
      ],
      "text/plain": [
       "<IPython.core.display.Javascript object>"
      ]
     },
     "metadata": {},
     "output_type": "display_data"
    },
    {
     "data": {
      "application/javascript": [
       "\n",
       "        $('span:contains(\"# Temp\")').closest('.cell').remove();\n",
       "        var code = IPython.notebook.insert_cell_below('code');\n",
       "        code.set_text(atob(\"IyBUZW1wCmluc2VydCgnJycKYmly8zE5OTlhID0gREIoV29yaygKICAgIDE5OTksICJUaGUgU29mdHdhcmUgUHJvY2VzcyBpbiB0aGUgQ29udGV4dCBvZiBCdXNpbmVzcyBHb2FscyBhbmQgUGVyZm9ybWFuY2UiLAogICAgZGlzcGxheT0iYmly8yIsCiAgICBhdXRob3JzPSJCaXLzLCBNLiBhbmQgVHVsbHksIEMuIiwKICAgIHBwPSIxNS0yNyIsCiAgICBwbGFjZTE9IkJldHRlciBTb2Z0d2FyZSBQcmFjdGljZSBmb3IgQnVzaW5lc3MgQmVuZWZpdDogUHJpbmNpcGxlcyBhbmQgRXhwZXJpZW5jZSIsCiAgICBlbnRyeXR5cGU9ImFydGljbGUiLAogICAgbm90ZT0iY2l0ZWQgQnkgMyIsCiAgICBJRD0iQmly8zE5OTkxNSIsCikpCgpEQihDaXRhdGlvbigKICAgIGJlY2tlcjIwMDhhLCBiaXLzMTk5OWEsIHJlZj0iIiwKICAgIGNvbnRleHRzPVsKCiAgICBdLAopKQoKJycnLCBjaXRhdGlvbnM9J2JlY2tlcjIwMDhhJyk7\"));\n",
       "    "
      ],
      "text/plain": [
       "<IPython.core.display.Javascript object>"
      ]
     },
     "metadata": {},
     "output_type": "display_data"
    },
    {
     "data": {
      "application/javascript": [
       "$('span:contains(\"# Temp\")').closest('.cell').remove();"
      ],
      "text/plain": [
       "<IPython.core.display.Javascript object>"
      ]
     },
     "metadata": {},
     "output_type": "display_data"
    },
    {
     "data": {
      "application/javascript": [
       "\n",
       "        $('span:contains(\"# Temp\")').closest('.cell').remove();\n",
       "        var code = IPython.notebook.insert_cell_below('code');\n",
       "        code.set_text(atob(\"IyBUZW1wCmluc2VydCgnJycKYnJvZG1hbjE5OTVhID0gREIoV29yaygKICAgIDE5OTUsICJSZXR1cm4gb24gaW52ZXN0bWVudCAoUk9JKSBmcm9tIHNvZnR3YXJlIHByb2Nlc3MgaW1wcm92ZW1lbnQgYXMgbWVhc3VyZWQgYnkgVVMgaW5kdXN0cnkiLAogICAgZGlzcGxheT0iYnJvZG1hbiIsCiAgICBhdXRob3JzPSJCcm9kbWFuLCBKLkcuIGFuZCBKb2huc29uLCBELkwuIiwKICAgIHBsYWNlPVNQSVAsCiAgICBwcD0iMzUtNDciLAogICAgZW50cnl0eXBlPSJhcnRpY2xlIiwKICAgIHZvbHVtZT0iMSIsCiAgICBudW1iZXI9IjEiLAogICAgbm90ZT0iY2l0ZWQgQnkgMjIiLAogICAgSUQ9IkJyb2RtYW4xOTk1MzUiLAopKQoKREIoQ2l0YXRpb24oCiAgICBiZWNrZXIyMDA4YSwgYnJvZG1hbjE5OTVhLCByZWY9IiIsCiAgICBjb250ZXh0cz1bCgogICAgXSwKKSkKCicnJywgY2l0YXRpb25zPSdiZWNrZXIyMDA4YScpOw==\"));\n",
       "    "
      ],
      "text/plain": [
       "<IPython.core.display.Javascript object>"
      ]
     },
     "metadata": {},
     "output_type": "display_data"
    },
    {
     "data": {
      "application/javascript": [
       "$('span:contains(\"# Temp\")').closest('.cell').remove();"
      ],
      "text/plain": [
       "<IPython.core.display.Javascript object>"
      ]
     },
     "metadata": {},
     "output_type": "display_data"
    },
    {
     "data": {
      "application/javascript": [
       "\n",
       "        $('span:contains(\"# Temp\")').closest('.cell').remove();\n",
       "        var code = IPython.notebook.insert_cell_below('code');\n",
       "        code.set_text(atob(\"IyBUZW1wCmluc2VydCgnJycKYnJvZG1hbjE5OTVhID0gREIoV29yaygKICAgIDE5OTUsICJSZXR1cm4gb24gaW52ZXN0bWVudCAoUk9JKSBmcm9tIHNvZnR3YXJlIHByb2Nlc3MgaW1wcm92ZW1lbnQgYXMgbWVhc3VyZWQgYnkgVVMgaW5kdXN0cnkiLAogICAgZGlzcGxheT0iYnJvZG1hbiIsCiAgICBhdXRob3JzPSJCcm9kbWFuLCBKLkcuIGFuZCBKb2huc29uLCBELkwuIiwKICAgIHBsYWNlPVNQSVAsCiAgICBwcD0iMzUtNDciLAogICAgZW50cnl0eXBlPSJhcnRpY2xlIiwKICAgIHZvbHVtZT0iMSIsCiAgICBudW1iZXI9IjEiLAogICAgbm90ZT0iY2l0ZWQgQnkgMjIiLAogICAgSUQ9IkJyb2RtYW4xOTk1MzUiLAopKQoKREIoQ2l0YXRpb24oCiAgICBiZWNrZXIyMDA4YSwgYnJvZG1hbjE5OTVhLCByZWY9IiIsCiAgICBjb250ZXh0cz1bCgogICAgXSwKKSkKCicnJywgY2l0YXRpb25zPSdiZWNrZXIyMDA4YScpOw==\"));\n",
       "    "
      ],
      "text/plain": [
       "<IPython.core.display.Javascript object>"
      ]
     },
     "metadata": {},
     "output_type": "display_data"
    },
    {
     "data": {
      "application/javascript": [
       "$('span:contains(\"# Temp\")').closest('.cell').remove();"
      ],
      "text/plain": [
       "<IPython.core.display.Javascript object>"
      ]
     },
     "metadata": {},
     "output_type": "display_data"
    },
    {
     "data": {
      "application/javascript": [
       "\n",
       "        $('span:contains(\"# Temp\")').closest('.cell').remove();\n",
       "        var code = IPython.notebook.insert_cell_below('code');\n",
       "        code.set_text(atob(\"IyBUZW1wCmluc2VydCgnJycKREIoQ2l0YXRpb24oCiAgICBiZWNrZXIyMDA4YSwgY2hyaXNzaXMyMDAzYSwgcmVmPSIiLAogICAgY29udGV4dHM9WwoKICAgIF0sCikpCgonJycsIGNpdGF0aW9ucz0nYmVja2VyMjAwOGEnKTs=\"));\n",
       "    "
      ],
      "text/plain": [
       "<IPython.core.display.Javascript object>"
      ]
     },
     "metadata": {},
     "output_type": "display_data"
    },
    {
     "data": {
      "application/javascript": [
       "$('span:contains(\"# Temp\")').closest('.cell').remove();"
      ],
      "text/plain": [
       "<IPython.core.display.Javascript object>"
      ]
     },
     "metadata": {},
     "output_type": "display_data"
    },
    {
     "data": {
      "application/javascript": [
       "\n",
       "        $('span:contains(\"# Temp\")').closest('.cell').remove();\n",
       "        var code = IPython.notebook.insert_cell_below('code');\n",
       "        code.set_text(atob(\"IyBUZW1wCmluc2VydCgnJycKREIoQ2l0YXRpb24oCiAgICBiZWNrZXIyMDA4YSwgY2hyaXNzaXMyMDAzYSwgcmVmPSIiLAogICAgY29udGV4dHM9WwoKICAgIF0sCikpCgonJycsIGNpdGF0aW9ucz0nYmVja2VyMjAwOGEnKTs=\"));\n",
       "    "
      ],
      "text/plain": [
       "<IPython.core.display.Javascript object>"
      ]
     },
     "metadata": {},
     "output_type": "display_data"
    },
    {
     "data": {
      "application/javascript": [
       "$('span:contains(\"# Temp\")').closest('.cell').remove();"
      ],
      "text/plain": [
       "<IPython.core.display.Javascript object>"
      ]
     },
     "metadata": {},
     "output_type": "display_data"
    },
    {
     "data": {
      "application/javascript": [
       "\n",
       "        $('span:contains(\"# Temp\")').closest('.cell').remove();\n",
       "        var code = IPython.notebook.insert_cell_below('code');\n",
       "        code.set_text(atob(\"IyBUZW1wCmluc2VydCgnJycKY294MTk5MmEgPSBEQihXb3JrKAogICAgMTk5MiwgIktleXMgdG8gc3VjY2VzcyBpbiBxdWFsaXR5IGZ1bmN0aW9uIGRlcGxveW1lbnQiLAogICAgZGlzcGxheT0iY294IiwKICAgIGF1dGhvcnM9IkNveCwgQy5BLiIsCiAgICBwcD0iMjUtOSIsCiAgICBwbGFjZTE9IkFQSUNTIC0gVGhlIFBlcmZvcm1hbmNlIEFkdmFudGFnZSIsCiAgICBlbnRyeXR5cGU9ImFydGljbGUiLAogICAgdm9sdW1lPSIyIiwKICAgIG51bWJlcj0iNCIsCiAgICBub3RlPSJjaXRlZCBCeSA4IiwKICAgIElEPSJDb3gxOTkyMjUiLAopKQoKREIoQ2l0YXRpb24oCiAgICBiZWNrZXIyMDA4YSwgY294MTk5MmEsIHJlZj0iIiwKICAgIGNvbnRleHRzPVsKCiAgICBdLAopKQoKJycnLCBjaXRhdGlvbnM9J2JlY2tlcjIwMDhhJyk7\"));\n",
       "    "
      ],
      "text/plain": [
       "<IPython.core.display.Javascript object>"
      ]
     },
     "metadata": {},
     "output_type": "display_data"
    },
    {
     "data": {
      "application/javascript": [
       "$('span:contains(\"# Temp\")').closest('.cell').remove();"
      ],
      "text/plain": [
       "<IPython.core.display.Javascript object>"
      ]
     },
     "metadata": {},
     "output_type": "display_data"
    },
    {
     "data": {
      "application/javascript": [
       "\n",
       "        $('span:contains(\"# Temp\")').closest('.cell').remove();\n",
       "        var code = IPython.notebook.insert_cell_below('code');\n",
       "        code.set_text(atob(\"IyBUZW1wCmluc2VydCgnJycKY294MTk5MmEgPSBEQihXb3JrKAogICAgMTk5MiwgIktleXMgdG8gc3VjY2VzcyBpbiBxdWFsaXR5IGZ1bmN0aW9uIGRlcGxveW1lbnQiLAogICAgZGlzcGxheT0iY294IiwKICAgIGF1dGhvcnM9IkNveCwgQy5BLiIsCiAgICBwcD0iMjUtOSIsCiAgICBwbGFjZTE9IkFQSUNTIC0gVGhlIFBlcmZvcm1hbmNlIEFkdmFudGFnZSIsCiAgICBlbnRyeXR5cGU9ImFydGljbGUiLAogICAgdm9sdW1lPSIyIiwKICAgIG51bWJlcj0iNCIsCiAgICBub3RlPSJjaXRlZCBCeSA4IiwKICAgIElEPSJDb3gxOTkyMjUiLAopKQoKREIoQ2l0YXRpb24oCiAgICBiZWNrZXIyMDA4YSwgY294MTk5MmEsIHJlZj0iIiwKICAgIGNvbnRleHRzPVsKCiAgICBdLAopKQoKJycnLCBjaXRhdGlvbnM9J2JlY2tlcjIwMDhhJyk7\"));\n",
       "    "
      ],
      "text/plain": [
       "<IPython.core.display.Javascript object>"
      ]
     },
     "metadata": {},
     "output_type": "display_data"
    },
    {
     "data": {
      "application/javascript": [
       "$('span:contains(\"# Temp\")').closest('.cell').remove();"
      ],
      "text/plain": [
       "<IPython.core.display.Javascript object>"
      ]
     },
     "metadata": {},
     "output_type": "display_data"
    },
    {
     "data": {
      "application/javascript": [
       "\n",
       "        $('span:contains(\"# Temp\")').closest('.cell').remove();\n",
       "        var code = IPython.notebook.insert_cell_below('code');\n",
       "        code.set_text(atob(\"IyBUZW1wCmluc2VydCgnJycKbWNjb3kxOTk4YSA9IERCKFdvcmsoCiAgICAxOTk4LCAiSW50ZXJmYWNpbmcgdGhyZWUgY29tcGxlbWVudGFyeSB0ZWNobm9sb2dpZXM6IFN0cmF0ZWdpYyBwbGFubmluZywgcHJvY2VzcyBtb2RlbGluZywgYW5kIHN5c3RlbSBkeW5hbWljcyIsCiAgICBkaXNwbGF5PSJtY2NveSIsCiAgICBhdXRob3JzPSJNY0NveSwgVy5MLiIsCiAgICBwcD0iMjYyMC0yNjI0IiwKICAgIHBsYWNlMT0iUHJvY2VlZGluZ3Mgb2YgdGhlIElFRUUgSW50ZXJuYXRpb25hbCBDb25mZXJlbmNlIG9uIFN5c3RlbXMsIE1hbiBhbmQgQ3liZXJuZXRpY3MiLAogICAgZW50cnl0eXBlPSJjb25mZXJlbmNlIiwKICAgIHZvbHVtZT0iMyIsCiAgICBub3RlPSJjaXRlZCBCeSAyIiwKICAgIElEPSJNY0NveTE5OTgyNjIwIiwKKSkKCkRCKENpdGF0aW9uKAogICAgYmVja2VyMjAwOGEsIG1jY295MTk5OGEsIHJlZj0iIiwKICAgIGNvbnRleHRzPVsKCiAgICBdLAopKQoKJycnLCBjaXRhdGlvbnM9J2JlY2tlcjIwMDhhJyk7\"));\n",
       "    "
      ],
      "text/plain": [
       "<IPython.core.display.Javascript object>"
      ]
     },
     "metadata": {},
     "output_type": "display_data"
    },
    {
     "data": {
      "application/javascript": [
       "$('span:contains(\"# Temp\")').closest('.cell').remove();"
      ],
      "text/plain": [
       "<IPython.core.display.Javascript object>"
      ]
     },
     "metadata": {},
     "output_type": "display_data"
    },
    {
     "data": {
      "application/javascript": [
       "\n",
       "        $('span:contains(\"# Temp\")').closest('.cell').remove();\n",
       "        var code = IPython.notebook.insert_cell_below('code');\n",
       "        code.set_text(atob(\"IyBUZW1wCmluc2VydCgnJycKbWNjb3kxOTk4YSA9IERCKFdvcmsoCiAgICAxOTk4LCAiSW50ZXJmYWNpbmcgdGhyZWUgY29tcGxlbWVudGFyeSB0ZWNobm9sb2dpZXM6IFN0cmF0ZWdpYyBwbGFubmluZywgcHJvY2VzcyBtb2RlbGluZywgYW5kIHN5c3RlbSBkeW5hbWljcyIsCiAgICBkaXNwbGF5PSJtY2NveSIsCiAgICBhdXRob3JzPSJNY0NveSwgVy5MLiIsCiAgICBwcD0iMjYyMC0yNjI0IiwKICAgIHBsYWNlMT0iUHJvY2VlZGluZ3Mgb2YgdGhlIElFRUUgSW50ZXJuYXRpb25hbCBDb25mZXJlbmNlIG9uIFN5c3RlbXMsIE1hbiBhbmQgQ3liZXJuZXRpY3MiLAogICAgZW50cnl0eXBlPSJjb25mZXJlbmNlIiwKICAgIHZvbHVtZT0iMyIsCiAgICBub3RlPSJjaXRlZCBCeSAyIiwKICAgIElEPSJNY0NveTE5OTgyNjIwIiwKKSkKCkRCKENpdGF0aW9uKAogICAgYmVja2VyMjAwOGEsIG1jY295MTk5OGEsIHJlZj0iIiwKICAgIGNvbnRleHRzPVsKCiAgICBdLAopKQoKJycnLCBjaXRhdGlvbnM9J2JlY2tlcjIwMDhhJyk7\"));\n",
       "    "
      ],
      "text/plain": [
       "<IPython.core.display.Javascript object>"
      ]
     },
     "metadata": {},
     "output_type": "display_data"
    },
    {
     "data": {
      "application/javascript": [
       "$('span:contains(\"# Temp\")').closest('.cell').remove();"
      ],
      "text/plain": [
       "<IPython.core.display.Javascript object>"
      ]
     },
     "metadata": {},
     "output_type": "display_data"
    },
    {
     "data": {
      "application/javascript": [
       "\n",
       "        $('span:contains(\"# Temp\")').closest('.cell').remove();\n",
       "        var code = IPython.notebook.insert_cell_below('code');\n",
       "        code.set_text(atob(\"IyBUZW1wCmluc2VydCgnJycKZGVib3UxOTk5YSA9IERCKFdvcmsoCiAgICAxOTk5LCAiQWxjYXRlbCdzIEV4cGVyaWVuY2Ugd2l0aCBQcm9jZXNzIEltcHJvdmVtZW50IiwKICAgIGRpc3BsYXk9ImRlYm91IiwKICAgIGF1dGhvcnM9IkRlYm91LCBDLiBhbmQgQ291cnRlbCwgRC4gYW5kIExhbWJlcnQsIEguLUIuIGFuZCBGdWNocywgTi4gYW5kIEhhdXgsIE0uIiwKICAgIHBwPSIyODEtMzAxIiwKICAgIHBsYWNlMT0iQmV0dGVyIFNvZnR3YXJlIFByYWN0aWNlIGZvciBCdXNpbmVzcyBCZW5lZml0OiBQcmluY2lwbGVzIGFuZCBFeHBlcmllbmNlIiwKICAgIGVudHJ5dHlwZT0iYXJ0aWNsZSIsCiAgICBub3RlPSJjaXRlZCBCeSA3IiwKICAgIElEPSJEZWJvdTE5OTkyODEiLAopKQoKREIoQ2l0YXRpb24oCiAgICBiZWNrZXIyMDA4YSwgZGVib3UxOTk5YSwgcmVmPSIiLAogICAgY29udGV4dHM9WwoKICAgIF0sCikpCgonJycsIGNpdGF0aW9ucz0nYmVja2VyMjAwOGEnKTs=\"));\n",
       "    "
      ],
      "text/plain": [
       "<IPython.core.display.Javascript object>"
      ]
     },
     "metadata": {},
     "output_type": "display_data"
    },
    {
     "data": {
      "application/javascript": [
       "$('span:contains(\"# Temp\")').closest('.cell').remove();"
      ],
      "text/plain": [
       "<IPython.core.display.Javascript object>"
      ]
     },
     "metadata": {},
     "output_type": "display_data"
    },
    {
     "data": {
      "application/javascript": [
       "\n",
       "        $('span:contains(\"# Temp\")').closest('.cell').remove();\n",
       "        var code = IPython.notebook.insert_cell_below('code');\n",
       "        code.set_text(atob(\"IyBUZW1wCmluc2VydCgnJycKZGVib3UxOTk5YSA9IERCKFdvcmsoCiAgICAxOTk5LCAiQWxjYXRlbCdzIEV4cGVyaWVuY2Ugd2l0aCBQcm9jZXNzIEltcHJvdmVtZW50IiwKICAgIGRpc3BsYXk9ImRlYm91IiwKICAgIGF1dGhvcnM9IkRlYm91LCBDLiBhbmQgQ291cnRlbCwgRC4gYW5kIExhbWJlcnQsIEguLUIuIGFuZCBGdWNocywgTi4gYW5kIEhhdXgsIE0uIiwKICAgIHBwPSIyODEtMzAxIiwKICAgIHBsYWNlMT0iQmV0dGVyIFNvZnR3YXJlIFByYWN0aWNlIGZvciBCdXNpbmVzcyBCZW5lZml0OiBQcmluY2lwbGVzIGFuZCBFeHBlcmllbmNlIiwKICAgIGVudHJ5dHlwZT0iYXJ0aWNsZSIsCiAgICBub3RlPSJjaXRlZCBCeSA3IiwKICAgIElEPSJEZWJvdTE5OTkyODEiLAopKQoKREIoQ2l0YXRpb24oCiAgICBiZWNrZXIyMDA4YSwgZGVib3UxOTk5YSwgcmVmPSIiLAogICAgY29udGV4dHM9WwoKICAgIF0sCikpCgonJycsIGNpdGF0aW9ucz0nYmVja2VyMjAwOGEnKTs=\"));\n",
       "    "
      ],
      "text/plain": [
       "<IPython.core.display.Javascript object>"
      ]
     },
     "metadata": {},
     "output_type": "display_data"
    },
    {
     "data": {
      "application/javascript": [
       "$('span:contains(\"# Temp\")').closest('.cell').remove();"
      ],
      "text/plain": [
       "<IPython.core.display.Javascript object>"
      ]
     },
     "metadata": {},
     "output_type": "display_data"
    },
    {
     "data": {
      "application/javascript": [
       "\n",
       "        $('span:contains(\"# Temp\")').closest('.cell').remove();\n",
       "        var code = IPython.notebook.insert_cell_below('code');\n",
       "        code.set_text(atob(\"IyBUZW1wCmluc2VydCgnJycKZHliYTIwMDVhID0gREIoV29yaygKICAgIDIwMDUsICJBbiBlbXBpcmljYWwgaW52ZXN0aWdhdGlvbiBvZiB0aGUga2V5IGZhY3RvcnMgZm9yIHN1Y2Nlc3MgaW4gc29mdHdhcmUgcHJvY2VzcyBpbXByb3ZlbWVudCIsCiAgICBkaXNwbGF5PSJkeWJhIiwKICAgIGF1dGhvcnM9IkR5YmEsIFQuIiwKICAgIHBsYWNlPVRvU0UsCiAgICBwcD0iNDEwLTQyNCIsCiAgICBlbnRyeXR5cGU9ImFydGljbGUiLAogICAgdm9sdW1lPSIzMSIsCiAgICBudW1iZXI9IjUiLAogICAgZG9pPSIxMC4xMTA5L1RTRS4yMDA1LjUzIiwKICAgIG5vdGU9ImNpdGVkIEJ5IDE1MCIsCiAgICBJRD0iRHliYTIwMDU0MTAiLAopKQoKREIoQ2l0YXRpb24oCiAgICBiZWNrZXIyMDA4YSwgZHliYTIwMDVhLCByZWY9IiIsCiAgICBjb250ZXh0cz1bCgogICAgXSwKKSkKCicnJywgY2l0YXRpb25zPSdiZWNrZXIyMDA4YScpOw==\"));\n",
       "    "
      ],
      "text/plain": [
       "<IPython.core.display.Javascript object>"
      ]
     },
     "metadata": {},
     "output_type": "display_data"
    },
    {
     "data": {
      "application/javascript": [
       "$('span:contains(\"# Temp\")').closest('.cell').remove();"
      ],
      "text/plain": [
       "<IPython.core.display.Javascript object>"
      ]
     },
     "metadata": {},
     "output_type": "display_data"
    },
    {
     "data": {
      "application/javascript": [
       "\n",
       "        $('span:contains(\"# Temp\")').closest('.cell').remove();\n",
       "        var code = IPython.notebook.insert_cell_below('code');\n",
       "        code.set_text(atob(\"IyBUZW1wCmluc2VydCgnJycKZHliYTIwMDVhID0gREIoV29yaygKICAgIDIwMDUsICJBbiBlbXBpcmljYWwgaW52ZXN0aWdhdGlvbiBvZiB0aGUga2V5IGZhY3RvcnMgZm9yIHN1Y2Nlc3MgaW4gc29mdHdhcmUgcHJvY2VzcyBpbXByb3ZlbWVudCIsCiAgICBkaXNwbGF5PSJkeWJhIiwKICAgIGF1dGhvcnM9IkR5YmEsIFQuIiwKICAgIHBsYWNlPVRvU0UsCiAgICBwcD0iNDEwLTQyNCIsCiAgICBlbnRyeXR5cGU9ImFydGljbGUiLAogICAgdm9sdW1lPSIzMSIsCiAgICBudW1iZXI9IjUiLAogICAgZG9pPSIxMC4xMTA5L1RTRS4yMDA1LjUzIiwKICAgIG5vdGU9ImNpdGVkIEJ5IDE1MCIsCiAgICBJRD0iRHliYTIwMDU0MTAiLAopKQoKREIoQ2l0YXRpb24oCiAgICBiZWNrZXIyMDA4YSwgZHliYTIwMDVhLCByZWY9IiIsCiAgICBjb250ZXh0cz1bCgogICAgXSwKKSkKCicnJywgY2l0YXRpb25zPSdiZWNrZXIyMDA4YScpOw==\"));\n",
       "    "
      ],
      "text/plain": [
       "<IPython.core.display.Javascript object>"
      ]
     },
     "metadata": {},
     "output_type": "display_data"
    },
    {
     "data": {
      "application/javascript": [
       "$('span:contains(\"# Temp\")').closest('.cell').remove();"
      ],
      "text/plain": [
       "<IPython.core.display.Javascript object>"
      ]
     },
     "metadata": {},
     "output_type": "display_data"
    },
    {
     "data": {
      "application/javascript": [
       "\n",
       "        $('span:contains(\"# Temp\")').closest('.cell').remove();\n",
       "        var code = IPython.notebook.insert_cell_below('code');\n",
       "        code.set_text(atob(\"IyBUZW1wCmluc2VydCgnJycKZ3JhZHkxOTk3YSA9IERCKFdvcmsoCiAgICAxOTk3LCAiVGhlIGJvb2ssIFN1Y2Nlc3NmdWwgU29mdHdhcmUgUHJvY2VzcyBJbXByb3ZlbWVudCBVcHBlciBTYWRkbGUgUml2ZXIiLAogICAgZGlzcGxheT0iZ3JhZHkiLAogICAgYXV0aG9ycz0iR3JhZHksIFIuQi4iLAogICAgcGxhY2UxPSJQcmVudGljZS1IYWxsIiwKICAgIGVudHJ5dHlwZT0iYXJ0aWNsZSIsCiAgICBub3RlPSJjaXRlZCBCeSAxIiwKICAgIElEPSJHcmFkeTE5OTciLAopKQoKREIoQ2l0YXRpb24oCiAgICBiZWNrZXIyMDA4YSwgZ3JhZHkxOTk3YSwgcmVmPSIiLAogICAgY29udGV4dHM9WwoKICAgIF0sCikpCgonJycsIGNpdGF0aW9ucz0nYmVja2VyMjAwOGEnKTs=\"));\n",
       "    "
      ],
      "text/plain": [
       "<IPython.core.display.Javascript object>"
      ]
     },
     "metadata": {},
     "output_type": "display_data"
    },
    {
     "data": {
      "application/javascript": [
       "$('span:contains(\"# Temp\")').closest('.cell').remove();"
      ],
      "text/plain": [
       "<IPython.core.display.Javascript object>"
      ]
     },
     "metadata": {},
     "output_type": "display_data"
    },
    {
     "data": {
      "application/javascript": [
       "\n",
       "        $('span:contains(\"# Temp\")').closest('.cell').remove();\n",
       "        var code = IPython.notebook.insert_cell_below('code');\n",
       "        code.set_text(atob(\"IyBUZW1wCmluc2VydCgnJycKZ3JhZHkxOTk3YSA9IERCKFdvcmsoCiAgICAxOTk3LCAiVGhlIGJvb2ssIFN1Y2Nlc3NmdWwgU29mdHdhcmUgUHJvY2VzcyBJbXByb3ZlbWVudCBVcHBlciBTYWRkbGUgUml2ZXIiLAogICAgZGlzcGxheT0iZ3JhZHkiLAogICAgYXV0aG9ycz0iR3JhZHksIFIuQi4iLAogICAgcGxhY2UxPSJQcmVudGljZS1IYWxsIiwKICAgIGVudHJ5dHlwZT0iYXJ0aWNsZSIsCiAgICBub3RlPSJjaXRlZCBCeSAxIiwKICAgIElEPSJHcmFkeTE5OTciLAopKQoKREIoQ2l0YXRpb24oCiAgICBiZWNrZXIyMDA4YSwgZ3JhZHkxOTk3YSwgcmVmPSIiLAogICAgY29udGV4dHM9WwoKICAgIF0sCikpCgonJycsIGNpdGF0aW9ucz0nYmVja2VyMjAwOGEnKTs=\"));\n",
       "    "
      ],
      "text/plain": [
       "<IPython.core.display.Javascript object>"
      ]
     },
     "metadata": {},
     "output_type": "display_data"
    },
    {
     "data": {
      "application/javascript": [
       "$('span:contains(\"# Temp\")').closest('.cell').remove();"
      ],
      "text/plain": [
       "<IPython.core.display.Javascript object>"
      ]
     },
     "metadata": {},
     "output_type": "display_data"
    },
    {
     "data": {
      "application/javascript": [
       "\n",
       "        $('span:contains(\"# Temp\")').closest('.cell').remove();\n",
       "        var code = IPython.notebook.insert_cell_below('code');\n",
       "        code.set_text(atob(\"IyBUZW1wCmluc2VydCgnJycKaGllcmhvbHplcjE5OThhID0gREIoV29yaygKICAgIDE5OTgsICJBcHBseWluZyBRRkQgZm9yIHNvZnR3YXJlIHByb2Nlc3MgaW1wcm92ZW1lbnQgYXQgU0FQIEFHIiwKICAgIGRpc3BsYXk9ImhpZXJob2x6ZXIiLAogICAgYXV0aG9ycz0iSGllcmhvbHplciwgQS4gYW5kIEhlcnp3dXJtLCBHLiBhbmQgU2NobGFuZywgSC4iLAogICAgcHA9Ijg1LTk1IiwKICAgIHBsYWNlMT0iUHJvY2VlZGluZ3Mgb2YgdGhlIFdvcmxkIElubm92YXRpb24gYW5kIFN0cmF0ZWd5IENvbmZlcmVuY2UiLAogICAgZW50cnl0eXBlPSJhcnRpY2xlIiwKICAgIG5vdGU9ImNpdGVkIEJ5IDUiLAogICAgSUQ9IkhpZXJob2x6ZXIxOTk4ODUiLAopKQoKREIoQ2l0YXRpb24oCiAgICBiZWNrZXIyMDA4YSwgaGllcmhvbHplcjE5OThhLCByZWY9IiIsCiAgICBjb250ZXh0cz1bCgogICAgXSwKKSkKCicnJywgY2l0YXRpb25zPSdiZWNrZXIyMDA4YScpOw==\"));\n",
       "    "
      ],
      "text/plain": [
       "<IPython.core.display.Javascript object>"
      ]
     },
     "metadata": {},
     "output_type": "display_data"
    },
    {
     "data": {
      "application/javascript": [
       "$('span:contains(\"# Temp\")').closest('.cell').remove();"
      ],
      "text/plain": [
       "<IPython.core.display.Javascript object>"
      ]
     },
     "metadata": {},
     "output_type": "display_data"
    },
    {
     "data": {
      "application/javascript": [
       "\n",
       "        $('span:contains(\"# Temp\")').closest('.cell').remove();\n",
       "        var code = IPython.notebook.insert_cell_below('code');\n",
       "        code.set_text(atob(\"IyBUZW1wCmluc2VydCgnJycKaGllcmhvbHplcjE5OThhID0gREIoV29yaygKICAgIDE5OTgsICJBcHBseWluZyBRRkQgZm9yIHNvZnR3YXJlIHByb2Nlc3MgaW1wcm92ZW1lbnQgYXQgU0FQIEFHIiwKICAgIGRpc3BsYXk9ImhpZXJob2x6ZXIiLAogICAgYXV0aG9ycz0iSGllcmhvbHplciwgQS4gYW5kIEhlcnp3dXJtLCBHLiBhbmQgU2NobGFuZywgSC4iLAogICAgcHA9Ijg1LTk1IiwKICAgIHBsYWNlMT0iUHJvY2VlZGluZ3Mgb2YgdGhlIFdvcmxkIElubm92YXRpb24gYW5kIFN0cmF0ZWd5IENvbmZlcmVuY2UiLAogICAgZW50cnl0eXBlPSJhcnRpY2xlIiwKICAgIG5vdGU9ImNpdGVkIEJ5IDUiLAogICAgSUQ9IkhpZXJob2x6ZXIxOTk4ODUiLAopKQoKREIoQ2l0YXRpb24oCiAgICBiZWNrZXIyMDA4YSwgaGllcmhvbHplcjE5OThhLCByZWY9IiIsCiAgICBjb250ZXh0cz1bCgogICAgXSwKKSkKCicnJywgY2l0YXRpb25zPSdiZWNrZXIyMDA4YScpOw==\"));\n",
       "    "
      ],
      "text/plain": [
       "<IPython.core.display.Javascript object>"
      ]
     },
     "metadata": {},
     "output_type": "display_data"
    },
    {
     "data": {
      "application/javascript": [
       "$('span:contains(\"# Temp\")').closest('.cell').remove();"
      ],
      "text/plain": [
       "<IPython.core.display.Javascript object>"
      ]
     },
     "metadata": {},
     "output_type": "display_data"
    },
    {
     "data": {
      "application/javascript": [
       "\n",
       "        $('span:contains(\"# Temp\")').closest('.cell').remove();\n",
       "        var code = IPython.notebook.insert_cell_below('code');\n",
       "        code.set_text(atob(\"IyBUZW1wCmluc2VydCgnJycKaHVtcGhyZXkxOTg5YiA9IERCKFdvcmsoCiAgICAxOTg5LCAiVGhlIGJvb2siLAogICAgZGlzcGxheT0iaHVtcGhyZXkgYiIsCiAgICBhdXRob3JzPSJIdW1waHJleSwgVy5TLiIsCiAgICBwbGFjZTE9Ik1hbmFnaW5nIHRoZSBTb2Z0d2FyZSBQcm9jZXNzIiwKICAgIGVudHJ5dHlwZT0iYXJ0aWNsZSIsCiAgICBub3RlPSJjaXRlZCBCeSAxIiwKICAgIElEPSJIdW1waHJleTE5ODkiLAopKQoKREIoQ2l0YXRpb24oCiAgICBiZWNrZXIyMDA4YSwgaHVtcGhyZXkxOTg5YiwgcmVmPSIiLAogICAgY29udGV4dHM9WwoKICAgIF0sCikpCgonJycsIGNpdGF0aW9ucz0nYmVja2VyMjAwOGEnKTs=\"));\n",
       "    "
      ],
      "text/plain": [
       "<IPython.core.display.Javascript object>"
      ]
     },
     "metadata": {},
     "output_type": "display_data"
    },
    {
     "data": {
      "application/javascript": [
       "$('span:contains(\"# Temp\")').closest('.cell').remove();"
      ],
      "text/plain": [
       "<IPython.core.display.Javascript object>"
      ]
     },
     "metadata": {},
     "output_type": "display_data"
    },
    {
     "data": {
      "application/javascript": [
       "\n",
       "        $('span:contains(\"# Temp\")').closest('.cell').remove();\n",
       "        var code = IPython.notebook.insert_cell_below('code');\n",
       "        code.set_text(atob(\"IyBUZW1wCmluc2VydCgnJycKaHVtcGhyZXkxOTg5YiA9IERCKFdvcmsoCiAgICAxOTg5LCAiVGhlIGJvb2siLAogICAgZGlzcGxheT0iaHVtcGhyZXkgYiIsCiAgICBhdXRob3JzPSJIdW1waHJleSwgVy5TLiIsCiAgICBwbGFjZTE9Ik1hbmFnaW5nIHRoZSBTb2Z0d2FyZSBQcm9jZXNzIiwKICAgIGVudHJ5dHlwZT0iYXJ0aWNsZSIsCiAgICBub3RlPSJjaXRlZCBCeSAxIiwKICAgIElEPSJIdW1waHJleTE5ODkiLAopKQoKREIoQ2l0YXRpb24oCiAgICBiZWNrZXIyMDA4YSwgaHVtcGhyZXkxOTg5YiwgcmVmPSIiLAogICAgY29udGV4dHM9WwoKICAgIF0sCikpCgonJycsIGNpdGF0aW9ucz0nYmVja2VyMjAwOGEnKTs=\"));\n",
       "    "
      ],
      "text/plain": [
       "<IPython.core.display.Javascript object>"
      ]
     },
     "metadata": {},
     "output_type": "display_data"
    },
    {
     "data": {
      "application/javascript": [
       "$('span:contains(\"# Temp\")').closest('.cell').remove();"
      ],
      "text/plain": [
       "<IPython.core.display.Javascript object>"
      ]
     },
     "metadata": {},
     "output_type": "display_data"
    },
    {
     "data": {
      "application/javascript": [
       "\n",
       "        $('span:contains(\"# Temp\")').closest('.cell').remove();\n",
       "        var code = IPython.notebook.insert_cell_below('code');\n",
       "        code.set_text(atob(\"IyBUZW1wCmluc2VydCgnJycKaXNvaWVjMjAwM2EgPSBEQihXb3JrKAogICAgMjAwMywgIkluZm9ybWF0aW9uIFRlY2hub2xvZ3kgLSBQcm9jZXNzIEFzc2Vzc21lbnQsIC0gUGFydCAxIDogQ29uY2VwdHMgYW5kIFZvY2FidWxhcnkiLAogICAgZGlzcGxheT0iaXNvaWVjIiwKICAgIGF1dGhvcnM9IklTT0lFQyIsCiAgICBwbGFjZTE9IkluZm9ybWF0aW9uIFRlY2hub2xvZ3kgLSBQcm9jZXNzIEFzc2Vzc21lbnQsIC0gUGFydCAxOiBDb25jZXB0cyBhbmQgVm9jYWJ1bGFyeSIsCiAgICBlbnRyeXR5cGU9ImFydGljbGUiLAogICAgbm90ZT0iY2l0ZWQgQnkgMTEiLAogICAgSUQ9IklTT0lFQzIwMDMiLAopKQoKREIoQ2l0YXRpb24oCiAgICBiZWNrZXIyMDA4YSwgaXNvaWVjMjAwM2EsIHJlZj0iIiwKICAgIGNvbnRleHRzPVsKCiAgICBdLAopKQoKJycnLCBjaXRhdGlvbnM9J2JlY2tlcjIwMDhhJyk7\"));\n",
       "    "
      ],
      "text/plain": [
       "<IPython.core.display.Javascript object>"
      ]
     },
     "metadata": {},
     "output_type": "display_data"
    },
    {
     "data": {
      "application/javascript": [
       "$('span:contains(\"# Temp\")').closest('.cell').remove();"
      ],
      "text/plain": [
       "<IPython.core.display.Javascript object>"
      ]
     },
     "metadata": {},
     "output_type": "display_data"
    },
    {
     "data": {
      "application/javascript": [
       "\n",
       "        $('span:contains(\"# Temp\")').closest('.cell').remove();\n",
       "        var code = IPython.notebook.insert_cell_below('code');\n",
       "        code.set_text(atob(\"IyBUZW1wCmluc2VydCgnJycKaXNvaWVjMjAwM2EgPSBEQihXb3JrKAogICAgMjAwMywgIkluZm9ybWF0aW9uIFRlY2hub2xvZ3kgLSBQcm9jZXNzIEFzc2Vzc21lbnQsIC0gUGFydCAxIDogQ29uY2VwdHMgYW5kIFZvY2FidWxhcnkiLAogICAgZGlzcGxheT0iaXNvaWVjIiwKICAgIGF1dGhvcnM9IklTT0lFQyIsCiAgICBwbGFjZTE9IkluZm9ybWF0aW9uIFRlY2hub2xvZ3kgLSBQcm9jZXNzIEFzc2Vzc21lbnQsIC0gUGFydCAxOiBDb25jZXB0cyBhbmQgVm9jYWJ1bGFyeSIsCiAgICBlbnRyeXR5cGU9ImFydGljbGUiLAogICAgbm90ZT0iY2l0ZWQgQnkgMTEiLAogICAgSUQ9IklTT0lFQzIwMDMiLAopKQoKREIoQ2l0YXRpb24oCiAgICBiZWNrZXIyMDA4YSwgaXNvaWVjMjAwM2EsIHJlZj0iIiwKICAgIGNvbnRleHRzPVsKCiAgICBdLAopKQoKJycnLCBjaXRhdGlvbnM9J2JlY2tlcjIwMDhhJyk7\"));\n",
       "    "
      ],
      "text/plain": [
       "<IPython.core.display.Javascript object>"
      ]
     },
     "metadata": {},
     "output_type": "display_data"
    },
    {
     "data": {
      "application/javascript": [
       "$('span:contains(\"# Temp\")').closest('.cell').remove();"
      ],
      "text/plain": [
       "<IPython.core.display.Javascript object>"
      ]
     },
     "metadata": {},
     "output_type": "display_data"
    },
    {
     "data": {
      "application/javascript": [
       "\n",
       "        $('span:contains(\"# Temp\")').closest('.cell').remove();\n",
       "        var code = IPython.notebook.insert_cell_below('code');\n",
       "        code.set_text(atob(\"IyBUZW1wCmluc2VydCgnJycKbGl1MjAwNWEgPSBEQihXb3JrKAogICAgMjAwNSwgIlFGRCBBcHBsaWNhdGlvbiBpbiBTb2Z0d2FyZSBQcm9jZXNzIE1hbmFnZW1lbnQgYW5kIEltcHJvdmVtZW50IEJhc2VkIG9uIENNTSIsCiAgICBkaXNwbGF5PSJsaXUiLAogICAgYXV0aG9ycz0iTGl1LCBYLiBhbmQgU3VuLCBZLiBhbmQgS2FuZSwgRy4gYW5kIEt5b3lhLCBZLiBhbmQgTm9ndWNoaSwgSy4iLAogICAgcGxhY2UxPSJBQ00gU0lHU09GVCBTb2Z0d2FyZSBFbmdpbmVlcmluZy4gU0VTU0lPTjogU29mdHdhcmUgUXVhbGl0eSAoV09TUSkiLAogICAgZW50cnl0eXBlPSJhcnRpY2xlIiwKICAgIG5vdGU9ImNpdGVkIEJ5IDIiLAogICAgSUQ9IkxpdTIwMDUiLAopKQoKREIoQ2l0YXRpb24oCiAgICBiZWNrZXIyMDA4YSwgbGl1MjAwNWEsIHJlZj0iIiwKICAgIGNvbnRleHRzPVsKCiAgICBdLAopKQoKJycnLCBjaXRhdGlvbnM9J2JlY2tlcjIwMDhhJyk7\"));\n",
       "    "
      ],
      "text/plain": [
       "<IPython.core.display.Javascript object>"
      ]
     },
     "metadata": {},
     "output_type": "display_data"
    },
    {
     "data": {
      "application/javascript": [
       "$('span:contains(\"# Temp\")').closest('.cell').remove();"
      ],
      "text/plain": [
       "<IPython.core.display.Javascript object>"
      ]
     },
     "metadata": {},
     "output_type": "display_data"
    },
    {
     "data": {
      "application/javascript": [
       "\n",
       "        $('span:contains(\"# Temp\")').closest('.cell').remove();\n",
       "        var code = IPython.notebook.insert_cell_below('code');\n",
       "        code.set_text(atob(\"IyBUZW1wCmluc2VydCgnJycKbGl1MjAwNWEgPSBEQihXb3JrKAogICAgMjAwNSwgIlFGRCBBcHBsaWNhdGlvbiBpbiBTb2Z0d2FyZSBQcm9jZXNzIE1hbmFnZW1lbnQgYW5kIEltcHJvdmVtZW50IEJhc2VkIG9uIENNTSIsCiAgICBkaXNwbGF5PSJsaXUiLAogICAgYXV0aG9ycz0iTGl1LCBYLiBhbmQgU3VuLCBZLiBhbmQgS2FuZSwgRy4gYW5kIEt5b3lhLCBZLiBhbmQgTm9ndWNoaSwgSy4iLAogICAgcGxhY2UxPSJBQ00gU0lHU09GVCBTb2Z0d2FyZSBFbmdpbmVlcmluZy4gU0VTU0lPTjogU29mdHdhcmUgUXVhbGl0eSAoV09TUSkiLAogICAgZW50cnl0eXBlPSJhcnRpY2xlIiwKICAgIG5vdGU9ImNpdGVkIEJ5IDIiLAogICAgSUQ9IkxpdTIwMDUiLAopKQoKREIoQ2l0YXRpb24oCiAgICBiZWNrZXIyMDA4YSwgbGl1MjAwNWEsIHJlZj0iIiwKICAgIGNvbnRleHRzPVsKCiAgICBdLAopKQoKJycnLCBjaXRhdGlvbnM9J2JlY2tlcjIwMDhhJyk7\"));\n",
       "    "
      ],
      "text/plain": [
       "<IPython.core.display.Javascript object>"
      ]
     },
     "metadata": {},
     "output_type": "display_data"
    },
    {
     "data": {
      "application/javascript": [
       "$('span:contains(\"# Temp\")').closest('.cell').remove();"
      ],
      "text/plain": [
       "<IPython.core.display.Javascript object>"
      ]
     },
     "metadata": {},
     "output_type": "display_data"
    },
    {
     "data": {
      "application/javascript": [
       "\n",
       "        $('span:contains(\"# Temp\")').closest('.cell').remove();\n",
       "        var code = IPython.notebook.insert_cell_below('code');\n",
       "        code.set_text(atob(\"IyBUZW1wCmluc2VydCgnJycKbW9udG9uaTIwMDdhID0gREIoV29yaygKICAgIDIwMDcsICJNUFMgbW9kZWwgYW5kIFRBQkEgd29ya3N0YXRpb246IEltcGxlbWVudGluZyBzb2Z0d2FyZSBwcm9jZXNzIGltcHJvdmVtZW50IGluaXRpYXRpdmVzIGluIHNtYWxsIHNldHRpbmdzIiwKICAgIGRpc3BsYXk9Im1vbnRvbmkiLAogICAgYXV0aG9ycz0iTW9udG9uaSwgTS4gYW5kIFNhbnRvcywgRy4gYW5kIFJvY2hhLCBBLlIuIGFuZCBXZWJlciwgSy5DLiBhbmQgRGUgQXJh+mpvLCBFLkUuUi4iLAogICAgcGxhY2UxPSJQcm9jZWVkaW5ncyAtIElDU0UgMjAwNyBXb3Jrc2hvcHM6IDV0aCBJbnRlcm5hdGlvbmFsIFdvcmtzaG9wIG9uIFNvZnR3YXJlIFF1YWxpdHksIFdvU1EgMjAwNyIsCiAgICBlbnRyeXR5cGU9ImNvbmZlcmVuY2UiLAogICAgZG9pPSIxMC4xMTA5L1dPU1EuMjAwNy4xMCIsCiAgICBhcnRfbnVtYmVyPSI0MjczNDcxIiwKICAgIG5vdGU9ImNpdGVkIEJ5IDEwIiwKICAgIElEPSJNb250b25pMjAwNyIsCikpCgpEQihDaXRhdGlvbigKICAgIGJlY2tlcjIwMDhhLCBtb250b25pMjAwN2EsIHJlZj0iIiwKICAgIGNvbnRleHRzPVsKCiAgICBdLAopKQoKJycnLCBjaXRhdGlvbnM9J2JlY2tlcjIwMDhhJyk7\"));\n",
       "    "
      ],
      "text/plain": [
       "<IPython.core.display.Javascript object>"
      ]
     },
     "metadata": {},
     "output_type": "display_data"
    },
    {
     "data": {
      "application/javascript": [
       "$('span:contains(\"# Temp\")').closest('.cell').remove();"
      ],
      "text/plain": [
       "<IPython.core.display.Javascript object>"
      ]
     },
     "metadata": {},
     "output_type": "display_data"
    },
    {
     "data": {
      "application/javascript": [
       "\n",
       "        $('span:contains(\"# Temp\")').closest('.cell').remove();\n",
       "        var code = IPython.notebook.insert_cell_below('code');\n",
       "        code.set_text(atob(\"IyBUZW1wCmluc2VydCgnJycKbW9udG9uaTIwMDdhID0gREIoV29yaygKICAgIDIwMDcsICJNUFMgbW9kZWwgYW5kIFRBQkEgd29ya3N0YXRpb246IEltcGxlbWVudGluZyBzb2Z0d2FyZSBwcm9jZXNzIGltcHJvdmVtZW50IGluaXRpYXRpdmVzIGluIHNtYWxsIHNldHRpbmdzIiwKICAgIGRpc3BsYXk9Im1vbnRvbmkiLAogICAgYXV0aG9ycz0iTW9udG9uaSwgTS4gYW5kIFNhbnRvcywgRy4gYW5kIFJvY2hhLCBBLlIuIGFuZCBXZWJlciwgSy5DLiBhbmQgRGUgQXJh+mpvLCBFLkUuUi4iLAogICAgcGxhY2UxPSJQcm9jZWVkaW5ncyAtIElDU0UgMjAwNyBXb3Jrc2hvcHM6IDV0aCBJbnRlcm5hdGlvbmFsIFdvcmtzaG9wIG9uIFNvZnR3YXJlIFF1YWxpdHksIFdvU1EgMjAwNyIsCiAgICBlbnRyeXR5cGU9ImNvbmZlcmVuY2UiLAogICAgZG9pPSIxMC4xMTA5L1dPU1EuMjAwNy4xMCIsCiAgICBhcnRfbnVtYmVyPSI0MjczNDcxIiwKICAgIG5vdGU9ImNpdGVkIEJ5IDEwIiwKICAgIElEPSJNb250b25pMjAwNyIsCikpCgpEQihDaXRhdGlvbigKICAgIGJlY2tlcjIwMDhhLCBtb250b25pMjAwN2EsIHJlZj0iIiwKICAgIGNvbnRleHRzPVsKCiAgICBdLAopKQoKJycnLCBjaXRhdGlvbnM9J2JlY2tlcjIwMDhhJyk7\"));\n",
       "    "
      ],
      "text/plain": [
       "<IPython.core.display.Javascript object>"
      ]
     },
     "metadata": {},
     "output_type": "display_data"
    },
    {
     "data": {
      "application/javascript": [
       "$('span:contains(\"# Temp\")').closest('.cell').remove();"
      ],
      "text/plain": [
       "<IPython.core.display.Javascript object>"
      ]
     },
     "metadata": {},
     "output_type": "display_data"
    },
    {
     "data": {
      "application/javascript": [
       "\n",
       "        $('span:contains(\"# Temp\")').closest('.cell').remove();\n",
       "        var code = IPython.notebook.insert_cell_below('code');\n",
       "        code.set_text(atob(\"IyBUZW1wCmluc2VydCgnJycKbmlhemkyMDAzYSA9IERCKFdvcmsoCiAgICAyMDAzLCAiQSBtb2RlbCBmb3IgdGhlIGltcGxlbWVudGF0aW9uIG9mIHNvZnR3YXJlIHByb2Nlc3MgaW1wcm92ZW1lbnQ6IEEgcGlsb3Qgc3R1ZHkiLAogICAgZGlzcGxheT0ibmlhemkiLAogICAgYXV0aG9ycz0iTmlhemksIE0uIGFuZCBXaWxzb24sIEQuIGFuZCBab3dnaGksIEQuIiwKICAgIHBwPSIxOTYtMjAzIiwKICAgIHBsYWNlMT0iUHJvY2VlZGluZ3MgLSBJbnRlcm5hdGlvbmFsIENvbmZlcmVuY2Ugb24gUXVhbGl0eSBTb2Z0d2FyZSIsCiAgICBlbnRyeXR5cGU9ImNvbmZlcmVuY2UiLAogICAgdm9sdW1lPSIyMDAzLUphbnVhcnkiLAogICAgZG9pPSIxMC4xMTA5L1FTSUMuMjAwMy4xMzE5MTAzIiwKICAgIGFydF9udW1iZXI9IjEzMTkxMDMiLAogICAgbm90ZT0iY2l0ZWQgQnkgMTkiLAogICAgSUQ9Ik5pYXppMjAwMzE5NiIsCikpCgpEQihDaXRhdGlvbigKICAgIGJlY2tlcjIwMDhhLCBuaWF6aTIwMDNhLCByZWY9IiIsCiAgICBjb250ZXh0cz1bCgogICAgXSwKKSkKCicnJywgY2l0YXRpb25zPSdiZWNrZXIyMDA4YScpOw==\"));\n",
       "    "
      ],
      "text/plain": [
       "<IPython.core.display.Javascript object>"
      ]
     },
     "metadata": {},
     "output_type": "display_data"
    },
    {
     "data": {
      "application/javascript": [
       "$('span:contains(\"# Temp\")').closest('.cell').remove();"
      ],
      "text/plain": [
       "<IPython.core.display.Javascript object>"
      ]
     },
     "metadata": {},
     "output_type": "display_data"
    },
    {
     "data": {
      "application/javascript": [
       "\n",
       "        $('span:contains(\"# Temp\")').closest('.cell').remove();\n",
       "        var code = IPython.notebook.insert_cell_below('code');\n",
       "        code.set_text(atob(\"IyBUZW1wCmluc2VydCgnJycKbmlhemkyMDAzYSA9IERCKFdvcmsoCiAgICAyMDAzLCAiQSBtb2RlbCBmb3IgdGhlIGltcGxlbWVudGF0aW9uIG9mIHNvZnR3YXJlIHByb2Nlc3MgaW1wcm92ZW1lbnQ6IEEgcGlsb3Qgc3R1ZHkiLAogICAgZGlzcGxheT0ibmlhemkiLAogICAgYXV0aG9ycz0iTmlhemksIE0uIGFuZCBXaWxzb24sIEQuIGFuZCBab3dnaGksIEQuIiwKICAgIHBwPSIxOTYtMjAzIiwKICAgIHBsYWNlMT0iUHJvY2VlZGluZ3MgLSBJbnRlcm5hdGlvbmFsIENvbmZlcmVuY2Ugb24gUXVhbGl0eSBTb2Z0d2FyZSIsCiAgICBlbnRyeXR5cGU9ImNvbmZlcmVuY2UiLAogICAgdm9sdW1lPSIyMDAzLUphbnVhcnkiLAogICAgZG9pPSIxMC4xMTA5L1FTSUMuMjAwMy4xMzE5MTAzIiwKICAgIGFydF9udW1iZXI9IjEzMTkxMDMiLAogICAgbm90ZT0iY2l0ZWQgQnkgMTkiLAogICAgSUQ9Ik5pYXppMjAwMzE5NiIsCikpCgpEQihDaXRhdGlvbigKICAgIGJlY2tlcjIwMDhhLCBuaWF6aTIwMDNhLCByZWY9IiIsCiAgICBjb250ZXh0cz1bCgogICAgXSwKKSkKCicnJywgY2l0YXRpb25zPSdiZWNrZXIyMDA4YScpOw==\"));\n",
       "    "
      ],
      "text/plain": [
       "<IPython.core.display.Javascript object>"
      ]
     },
     "metadata": {},
     "output_type": "display_data"
    },
    {
     "data": {
      "application/javascript": [
       "$('span:contains(\"# Temp\")').closest('.cell').remove();"
      ],
      "text/plain": [
       "<IPython.core.display.Javascript object>"
      ]
     },
     "metadata": {},
     "output_type": "display_data"
    },
    {
     "data": {
      "application/javascript": [
       "\n",
       "        $('span:contains(\"# Temp\")').closest('.cell').remove();\n",
       "        var code = IPython.notebook.insert_cell_below('code');\n",
       "        code.set_text(atob(\"IyBUZW1wCmluc2VydCgnJycKcGF1bGsxOTkzYSA9IERCKFdvcmsoCiAgICAxOTkzLCAiQ2FwYWJpbGl0eSBNYXR1cml0eSBNb2RlbCBmb3IgU29mdHdhcmUsIFZlcnNpb24gMS4xLiIsCiAgICBkaXNwbGF5PSJwYXVsayIsCiAgICBhdXRob3JzPSJQYXVsaywgTSwgQ3VydGlzLCBCLCBDaHJpc3NpcywgTSwgV2ViZXIsIEMuIFYsIiwKICAgIHBsYWNlPUVCU0UsCiAgICBlbnRyeXR5cGU9ImFydGljbGUiLAogICAgSUQ9IlBhdWxrMTk5MyIsCikpCgpEQihDaXRhdGlvbigKICAgIGJlY2tlcjIwMDhhLCBwYXVsazE5OTNhLCByZWY9IiIsCiAgICBjb250ZXh0cz1bCgogICAgXSwKKSkKCicnJywgY2l0YXRpb25zPSdiZWNrZXIyMDA4YScpOw==\"));\n",
       "    "
      ],
      "text/plain": [
       "<IPython.core.display.Javascript object>"
      ]
     },
     "metadata": {},
     "output_type": "display_data"
    },
    {
     "data": {
      "application/javascript": [
       "$('span:contains(\"# Temp\")').closest('.cell').remove();"
      ],
      "text/plain": [
       "<IPython.core.display.Javascript object>"
      ]
     },
     "metadata": {},
     "output_type": "display_data"
    },
    {
     "data": {
      "application/javascript": [
       "\n",
       "        $('span:contains(\"# Temp\")').closest('.cell').remove();\n",
       "        var code = IPython.notebook.insert_cell_below('code');\n",
       "        code.set_text(atob(\"IyBUZW1wCmluc2VydCgnJycKcGF1bGsxOTkzYSA9IERCKFdvcmsoCiAgICAxOTkzLCAiQ2FwYWJpbGl0eSBNYXR1cml0eSBNb2RlbCBmb3IgU29mdHdhcmUsIFZlcnNpb24gMS4xLiIsCiAgICBkaXNwbGF5PSJwYXVsayIsCiAgICBhdXRob3JzPSJQYXVsaywgTSwgQ3VydGlzLCBCLCBDaHJpc3NpcywgTSwgV2ViZXIsIEMuIFYsIiwKICAgIHBsYWNlPUVCU0UsCiAgICBlbnRyeXR5cGU9ImFydGljbGUiLAogICAgSUQ9IlBhdWxrMTk5MyIsCikpCgpEQihDaXRhdGlvbigKICAgIGJlY2tlcjIwMDhhLCBwYXVsazE5OTNhLCByZWY9IiIsCiAgICBjb250ZXh0cz1bCgogICAgXSwKKSkKCicnJywgY2l0YXRpb25zPSdiZWNrZXIyMDA4YScpOw==\"));\n",
       "    "
      ],
      "text/plain": [
       "<IPython.core.display.Javascript object>"
      ]
     },
     "metadata": {},
     "output_type": "display_data"
    },
    {
     "data": {
      "application/javascript": [
       "$('span:contains(\"# Temp\")').closest('.cell').remove();"
      ],
      "text/plain": [
       "<IPython.core.display.Javascript object>"
      ]
     },
     "metadata": {},
     "output_type": "display_data"
    },
    {
     "data": {
      "application/javascript": [
       "\n",
       "        $('span:contains(\"# Temp\")').closest('.cell').remove();\n",
       "        var code = IPython.notebook.insert_cell_below('code');\n",
       "        code.set_text(atob(\"IyBUZW1wCmluc2VydCgnJycKcGV0ZXJzb24xOTk1YSA9IERCKFdvcmsoCiAgICAxOTk1LCAiVHJhbnNpdGlvbmluZyB0aGUgQ01NIGludG8gcHJhY3RpY2UiLAogICAgZGlzcGxheT0icGV0ZXJzb24iLAogICAgYXV0aG9ycz0iUGV0ZXJzb24sIEIuIiwKICAgIHBsYWNlMT0iUHJvY2VlZGluZ3Mgb2YgdGhlIEV1cm9wZWFuIENvbmZlcmVuY2Ugb24gU29mdHdhcmUgUHJvY2VzcyBJbXByb3ZlbWVudCIsCiAgICBlbnRyeXR5cGU9ImFydGljbGUiLAogICAgbm90ZT0iY2l0ZWQgQnkgMiIsCiAgICBJRD0iUGV0ZXJzb24xOTk1IiwKKSkKCkRCKENpdGF0aW9uKAogICAgYmVja2VyMjAwOGEsIHBldGVyc29uMTk5NWEsIHJlZj0iIiwKICAgIGNvbnRleHRzPVsKCiAgICBdLAopKQoKJycnLCBjaXRhdGlvbnM9J2JlY2tlcjIwMDhhJyk7\"));\n",
       "    "
      ],
      "text/plain": [
       "<IPython.core.display.Javascript object>"
      ]
     },
     "metadata": {},
     "output_type": "display_data"
    },
    {
     "data": {
      "application/javascript": [
       "$('span:contains(\"# Temp\")').closest('.cell').remove();"
      ],
      "text/plain": [
       "<IPython.core.display.Javascript object>"
      ]
     },
     "metadata": {},
     "output_type": "display_data"
    },
    {
     "data": {
      "application/javascript": [
       "\n",
       "        $('span:contains(\"# Temp\")').closest('.cell').remove();\n",
       "        var code = IPython.notebook.insert_cell_below('code');\n",
       "        code.set_text(atob(\"IyBUZW1wCmluc2VydCgnJycKcGV0ZXJzb24xOTk1YSA9IERCKFdvcmsoCiAgICAxOTk1LCAiVHJhbnNpdGlvbmluZyB0aGUgQ01NIGludG8gcHJhY3RpY2UiLAogICAgZGlzcGxheT0icGV0ZXJzb24iLAogICAgYXV0aG9ycz0iUGV0ZXJzb24sIEIuIiwKICAgIHBsYWNlMT0iUHJvY2VlZGluZ3Mgb2YgdGhlIEV1cm9wZWFuIENvbmZlcmVuY2Ugb24gU29mdHdhcmUgUHJvY2VzcyBJbXByb3ZlbWVudCIsCiAgICBlbnRyeXR5cGU9ImFydGljbGUiLAogICAgbm90ZT0iY2l0ZWQgQnkgMiIsCiAgICBJRD0iUGV0ZXJzb24xOTk1IiwKKSkKCkRCKENpdGF0aW9uKAogICAgYmVja2VyMjAwOGEsIHBldGVyc29uMTk5NWEsIHJlZj0iIiwKICAgIGNvbnRleHRzPVsKCiAgICBdLAopKQoKJycnLCBjaXRhdGlvbnM9J2JlY2tlcjIwMDhhJyk7\"));\n",
       "    "
      ],
      "text/plain": [
       "<IPython.core.display.Javascript object>"
      ]
     },
     "metadata": {},
     "output_type": "display_data"
    },
    {
     "data": {
      "application/javascript": [
       "$('span:contains(\"# Temp\")').closest('.cell').remove();"
      ],
      "text/plain": [
       "<IPython.core.display.Javascript object>"
      ]
     },
     "metadata": {},
     "output_type": "display_data"
    },
    {
     "data": {
      "application/javascript": [
       "\n",
       "        $('span:contains(\"# Temp\")').closest('.cell').remove();\n",
       "        var code = IPython.notebook.insert_cell_below('code');\n",
       "        code.set_text(atob(\"IyBUZW1wCmluc2VydCgnJycKcGl0dGVybWFuMjAwMGEgPSBEQihXb3JrKAogICAgMjAwMCwgIlRlbGNvcmRpYSBUZWNobm9sb2dpZXM6IHRoZSBqb3VybmV5IHRvIGhpZ2ggbWF0dXJpdHkiLAogICAgZGlzcGxheT0icGl0dGVybWFuIiwKICAgIGF1dGhvcnM9IlBpdHRlcm1hbiwgQmlsbCIsCiAgICBwbGFjZT1JRUVFUywKICAgIHBwPSI4OS05NiIsCiAgICBlbnRyeXR5cGU9ImFydGljbGUiLAogICAgdm9sdW1lPSIxNyIsCiAgICBudW1iZXI9IjQiLAogICAgZG9pPSIxMC4xMTA5LzUyLjg1NDA3NCIsCiAgICBub3RlPSJjaXRlZCBCeSA2MCIsCiAgICBJRD0iUGl0dGVybWFuMjAwMDg5IiwKKSkKCkRCKENpdGF0aW9uKAogICAgYmVja2VyMjAwOGEsIHBpdHRlcm1hbjIwMDBhLCByZWY9IiIsCiAgICBjb250ZXh0cz1bCgogICAgXSwKKSkKCicnJywgY2l0YXRpb25zPSdiZWNrZXIyMDA4YScpOw==\"));\n",
       "    "
      ],
      "text/plain": [
       "<IPython.core.display.Javascript object>"
      ]
     },
     "metadata": {},
     "output_type": "display_data"
    },
    {
     "data": {
      "application/javascript": [
       "$('span:contains(\"# Temp\")').closest('.cell').remove();"
      ],
      "text/plain": [
       "<IPython.core.display.Javascript object>"
      ]
     },
     "metadata": {},
     "output_type": "display_data"
    },
    {
     "data": {
      "application/javascript": [
       "\n",
       "        $('span:contains(\"# Temp\")').closest('.cell').remove();\n",
       "        var code = IPython.notebook.insert_cell_below('code');\n",
       "        code.set_text(atob(\"IyBUZW1wCmluc2VydCgnJycKcGl0dGVybWFuMjAwMGEgPSBEQihXb3JrKAogICAgMjAwMCwgIlRlbGNvcmRpYSBUZWNobm9sb2dpZXM6IHRoZSBqb3VybmV5IHRvIGhpZ2ggbWF0dXJpdHkiLAogICAgZGlzcGxheT0icGl0dGVybWFuIiwKICAgIGF1dGhvcnM9IlBpdHRlcm1hbiwgQmlsbCIsCiAgICBwbGFjZT1JRUVFUywKICAgIHBwPSI4OS05NiIsCiAgICBlbnRyeXR5cGU9ImFydGljbGUiLAogICAgdm9sdW1lPSIxNyIsCiAgICBudW1iZXI9IjQiLAogICAgZG9pPSIxMC4xMTA5LzUyLjg1NDA3NCIsCiAgICBub3RlPSJjaXRlZCBCeSA2MCIsCiAgICBJRD0iUGl0dGVybWFuMjAwMDg5IiwKKSkKCkRCKENpdGF0aW9uKAogICAgYmVja2VyMjAwOGEsIHBpdHRlcm1hbjIwMDBhLCByZWY9IiIsCiAgICBjb250ZXh0cz1bCgogICAgXSwKKSkKCicnJywgY2l0YXRpb25zPSdiZWNrZXIyMDA4YScpOw==\"));\n",
       "    "
      ],
      "text/plain": [
       "<IPython.core.display.Javascript object>"
      ]
     },
     "metadata": {},
     "output_type": "display_data"
    },
    {
     "data": {
      "application/javascript": [
       "$('span:contains(\"# Temp\")').closest('.cell').remove();"
      ],
      "text/plain": [
       "<IPython.core.display.Javascript object>"
      ]
     },
     "metadata": {},
     "output_type": "display_data"
    },
    {
     "data": {
      "application/javascript": [
       "\n",
       "        $('span:contains(\"# Temp\")').closest('.cell').remove();\n",
       "        var code = IPython.notebook.insert_cell_below('code');\n",
       "        code.set_text(atob(\"IyBUZW1wCmluc2VydCgnJycKcHVsZm9yZDE5OTZhID0gREIoV29yaygKICAgIDE5OTYsICJUaGUgYm9vaywgQSBRdWFudGl0YXRpdmUgQXBwcm9hY2ggdG8gU29mdHdhcmUgTWFuYWdlbWVudCBUaGUgQU1JIEhhbmRib29rIiwKICAgIGRpc3BsYXk9InB1bGZvcmQiLAogICAgYXV0aG9ycz0iUHVsZm9yZCwgSy4sIEt1bnR6bWFubi1Db21iZWxsZXMsIEEuLCBTaGlybGF3LCBhbmQgUy4iLAogICAgcGxhY2UxPSJBZGRpc29uLVdlc2xleSIsCiAgICBlbnRyeXR5cGU9ImFydGljbGUiLAogICAgbm90ZT0iY2l0ZWQgQnkgMSIsCiAgICBJRD0iUHVsZm9yZDE5OTYiLAopKQoKREIoQ2l0YXRpb24oCiAgICBiZWNrZXIyMDA4YSwgcHVsZm9yZDE5OTZhLCByZWY9IiIsCiAgICBjb250ZXh0cz1bCgogICAgXSwKKSkKCicnJywgY2l0YXRpb25zPSdiZWNrZXIyMDA4YScpOw==\"));\n",
       "    "
      ],
      "text/plain": [
       "<IPython.core.display.Javascript object>"
      ]
     },
     "metadata": {},
     "output_type": "display_data"
    },
    {
     "data": {
      "application/javascript": [
       "$('span:contains(\"# Temp\")').closest('.cell').remove();"
      ],
      "text/plain": [
       "<IPython.core.display.Javascript object>"
      ]
     },
     "metadata": {},
     "output_type": "display_data"
    },
    {
     "data": {
      "application/javascript": [
       "\n",
       "        $('span:contains(\"# Temp\")').closest('.cell').remove();\n",
       "        var code = IPython.notebook.insert_cell_below('code');\n",
       "        code.set_text(atob(\"IyBUZW1wCmluc2VydCgnJycKcHVsZm9yZDE5OTZhID0gREIoV29yaygKICAgIDE5OTYsICJUaGUgYm9vaywgQSBRdWFudGl0YXRpdmUgQXBwcm9hY2ggdG8gU29mdHdhcmUgTWFuYWdlbWVudCBUaGUgQU1JIEhhbmRib29rIiwKICAgIGRpc3BsYXk9InB1bGZvcmQiLAogICAgYXV0aG9ycz0iUHVsZm9yZCwgSy4sIEt1bnR6bWFubi1Db21iZWxsZXMsIEEuLCBTaGlybGF3LCBhbmQgUy4iLAogICAgcGxhY2UxPSJBZGRpc29uLVdlc2xleSIsCiAgICBlbnRyeXR5cGU9ImFydGljbGUiLAogICAgbm90ZT0iY2l0ZWQgQnkgMSIsCiAgICBJRD0iUHVsZm9yZDE5OTYiLAopKQoKREIoQ2l0YXRpb24oCiAgICBiZWNrZXIyMDA4YSwgcHVsZm9yZDE5OTZhLCByZWY9IiIsCiAgICBjb250ZXh0cz1bCgogICAgXSwKKSkKCicnJywgY2l0YXRpb25zPSdiZWNrZXIyMDA4YScpOw==\"));\n",
       "    "
      ],
      "text/plain": [
       "<IPython.core.display.Javascript object>"
      ]
     },
     "metadata": {},
     "output_type": "display_data"
    },
    {
     "data": {
      "application/javascript": [
       "$('span:contains(\"# Temp\")').closest('.cell').remove();"
      ],
      "text/plain": [
       "<IPython.core.display.Javascript object>"
      ]
     },
     "metadata": {},
     "output_type": "display_data"
    },
    {
     "data": {
      "application/javascript": [
       "\n",
       "        $('span:contains(\"# Temp\")').closest('.cell').remove();\n",
       "        var code = IPython.notebook.insert_cell_below('code');\n",
       "        code.set_text(atob(\"IyBUZW1wCmluc2VydCgnJycKd2ViZXIyMDA1YSA9IERCKFdvcmsoCiAgICAyMDA1LCAiQnJhemlsaWFuIHNvZnR3YXJlIHByb2Nlc3MgcmVmZXJlbmNlIG1vZGVsIGFuZCBhc3Nlc3NtZW50IG1ldGhvZCIsCiAgICBkaXNwbGF5PSJ3ZWJlciIsCiAgICBhdXRob3JzPSJXZWJlciwgSy5DLiBhbmQgQXJh+mpvLCBFLkUuUi4gYW5kIERhIFJvY2hhLCBBLlIuQy4gYW5kIE1hY2hhZG8sIEMuQS5GLiBhbmQgU2NhbGV0LCBELiBhbmQgU2Fsdmlhbm8sIEMuRi4iLAogICAgcHA9IjQwMi00MTEiLAogICAgcGxhY2UxPSJMZWN0dXJlIE5vdGVzIGluIENvbXB1dGVyIFNjaWVuY2UgKGluY2x1ZGluZyBzdWJzZXJpZXMgTGVjdHVyZSBOb3RlcyBpbiBBcnRpZmljaWFsIEludGVsbGlnZW5jZSBhbmQgTGVjdHVyZSBOb3RlcyBpbiBCaW9pbmZvcm1hdGljcykiLAogICAgZW50cnl0eXBlPSJhcnRpY2xlIiwKICAgIHZvbHVtZT0iMzczMyBMTkNTIiwKICAgIGRvaT0iMTAuMTAwNy8xMTU2OTU5Nl80MyIsCiAgICBub3RlPSJjaXRlZCBCeSAyNCIsCiAgICBJRD0iV2ViZXIyMDA1NDAyIiwKKSkKCkRCKENpdGF0aW9uKAogICAgYmVja2VyMjAwOGEsIHdlYmVyMjAwNWEsIHJlZj0iIiwKICAgIGNvbnRleHRzPVsKCiAgICBdLAopKQoKJycnLCBjaXRhdGlvbnM9J2JlY2tlcjIwMDhhJyk7\"));\n",
       "    "
      ],
      "text/plain": [
       "<IPython.core.display.Javascript object>"
      ]
     },
     "metadata": {},
     "output_type": "display_data"
    },
    {
     "data": {
      "application/javascript": [
       "$('span:contains(\"# Temp\")').closest('.cell').remove();"
      ],
      "text/plain": [
       "<IPython.core.display.Javascript object>"
      ]
     },
     "metadata": {},
     "output_type": "display_data"
    },
    {
     "data": {
      "application/javascript": [
       "\n",
       "        $('span:contains(\"# Temp\")').closest('.cell').remove();\n",
       "        var code = IPython.notebook.insert_cell_below('code');\n",
       "        code.set_text(atob(\"IyBUZW1wCmluc2VydCgnJycKd2ViZXIyMDA1YSA9IERCKFdvcmsoCiAgICAyMDA1LCAiQnJhemlsaWFuIHNvZnR3YXJlIHByb2Nlc3MgcmVmZXJlbmNlIG1vZGVsIGFuZCBhc3Nlc3NtZW50IG1ldGhvZCIsCiAgICBkaXNwbGF5PSJ3ZWJlciIsCiAgICBhdXRob3JzPSJXZWJlciwgSy5DLiBhbmQgQXJh+mpvLCBFLkUuUi4gYW5kIERhIFJvY2hhLCBBLlIuQy4gYW5kIE1hY2hhZG8sIEMuQS5GLiBhbmQgU2NhbGV0LCBELiBhbmQgU2Fsdmlhbm8sIEMuRi4iLAogICAgcHA9IjQwMi00MTEiLAogICAgcGxhY2UxPSJMZWN0dXJlIE5vdGVzIGluIENvbXB1dGVyIFNjaWVuY2UgKGluY2x1ZGluZyBzdWJzZXJpZXMgTGVjdHVyZSBOb3RlcyBpbiBBcnRpZmljaWFsIEludGVsbGlnZW5jZSBhbmQgTGVjdHVyZSBOb3RlcyBpbiBCaW9pbmZvcm1hdGljcykiLAogICAgZW50cnl0eXBlPSJhcnRpY2xlIiwKICAgIHZvbHVtZT0iMzczMyBMTkNTIiwKICAgIGRvaT0iMTAuMTAwNy8xMTU2OTU5Nl80MyIsCiAgICBub3RlPSJjaXRlZCBCeSAyNCIsCiAgICBJRD0iV2ViZXIyMDA1NDAyIiwKKSkKCkRCKENpdGF0aW9uKAogICAgYmVja2VyMjAwOGEsIHdlYmVyMjAwNWEsIHJlZj0iIiwKICAgIGNvbnRleHRzPVsKCiAgICBdLAopKQoKJycnLCBjaXRhdGlvbnM9J2JlY2tlcjIwMDhhJyk7\"));\n",
       "    "
      ],
      "text/plain": [
       "<IPython.core.display.Javascript object>"
      ]
     },
     "metadata": {},
     "output_type": "display_data"
    },
    {
     "data": {
      "application/javascript": [
       "$('span:contains(\"# Temp\")').closest('.cell').remove();"
      ],
      "text/plain": [
       "<IPython.core.display.Javascript object>"
      ]
     },
     "metadata": {},
     "output_type": "display_data"
    },
    {
     "data": {
      "application/javascript": [
       "\n",
       "        $('span:contains(\"# Temp\")').closest('.cell').remove();\n",
       "        var code = IPython.notebook.insert_cell_below('code');\n",
       "        code.set_text(atob(\"IyBUZW1wCmluc2VydCgnJycKeWFtYW11cmExOTk5YSA9IERCKFdvcmsoCiAgICAxOTk5LCAiU29mdHdhcmUgcHJvY2VzcyBzYXRpc2ZpZWQgZW1wbG95ZWVzIiwKICAgIGRpc3BsYXk9InlhbWFtdXJhIiwKICAgIGF1dGhvcnM9IllhbWFtdXJhLCBHLiIsCiAgICBwbGFjZT1JRUVFUywKICAgIHBwPSI4My04NSIsCiAgICBlbnRyeXR5cGU9ImFydGljbGUiLAogICAgbnVtYmVyPSI1IiwKICAgIG5vdGU9ImNpdGVkIEJ5IDIxIiwKICAgIElEPSJZYW1hbXVyYTE5OTk4MyIsCikpCgpEQihDaXRhdGlvbigKICAgIGJlY2tlcjIwMDhhLCB5YW1hbXVyYTE5OTlhLCByZWY9IiIsCiAgICBjb250ZXh0cz1bCgogICAgXSwKKSkKCicnJywgY2l0YXRpb25zPSdiZWNrZXIyMDA4YScpOw==\"));\n",
       "    "
      ],
      "text/plain": [
       "<IPython.core.display.Javascript object>"
      ]
     },
     "metadata": {},
     "output_type": "display_data"
    },
    {
     "data": {
      "application/javascript": [
       "$('span:contains(\"# Temp\")').closest('.cell').remove();"
      ],
      "text/plain": [
       "<IPython.core.display.Javascript object>"
      ]
     },
     "metadata": {},
     "output_type": "display_data"
    },
    {
     "data": {
      "application/javascript": [
       "\n",
       "        $('span:contains(\"# Temp\")').closest('.cell').remove();\n",
       "        var code = IPython.notebook.insert_cell_below('code');\n",
       "        code.set_text(atob(\"IyBUZW1wCmluc2VydCgnJycKeWFtYW11cmExOTk5YSA9IERCKFdvcmsoCiAgICAxOTk5LCAiU29mdHdhcmUgcHJvY2VzcyBzYXRpc2ZpZWQgZW1wbG95ZWVzIiwKICAgIGRpc3BsYXk9InlhbWFtdXJhIiwKICAgIGF1dGhvcnM9IllhbWFtdXJhLCBHLiIsCiAgICBwbGFjZT1JRUVFUywKICAgIHBwPSI4My04NSIsCiAgICBlbnRyeXR5cGU9ImFydGljbGUiLAogICAgbnVtYmVyPSI1IiwKICAgIG5vdGU9ImNpdGVkIEJ5IDIxIiwKICAgIElEPSJZYW1hbXVyYTE5OTk4MyIsCikpCgpEQihDaXRhdGlvbigKICAgIGJlY2tlcjIwMDhhLCB5YW1hbXVyYTE5OTlhLCByZWY9IiIsCiAgICBjb250ZXh0cz1bCgogICAgXSwKKSkKCicnJywgY2l0YXRpb25zPSdiZWNrZXIyMDA4YScpOw==\"));\n",
       "    "
      ],
      "text/plain": [
       "<IPython.core.display.Javascript object>"
      ]
     },
     "metadata": {},
     "output_type": "display_data"
    },
    {
     "data": {
      "application/javascript": [
       "$('span:contains(\"# Temp\")').closest('.cell').remove();"
      ],
      "text/plain": [
       "<IPython.core.display.Javascript object>"
      ]
     },
     "metadata": {},
     "output_type": "display_data"
    },
    {
     "data": {
      "application/javascript": [
       "\n",
       "        $('span:contains(\"# Temp\")').closest('.cell').remove();\n",
       "        var code = IPython.notebook.insert_cell_below('code');\n",
       "        code.set_text(atob(\"IyBUZW1wCmluc2VydCgnJycKeWluMjAwM2EgPSBEQihXb3JrKAogICAgMjAwMywgIlRoZSBib29rIiwKICAgIGRpc3BsYXk9InlpbiIsCiAgICBhdXRob3JzPSJZaW4sIFIuIiwKICAgIHBsYWNlMT0iQ2FzZSBTdHVkeSBSZXNlYXJjaDogRGVzaWduIGFuZCBNZXRob2RzIiwKICAgIGVudHJ5dHlwZT0iYXJ0aWNsZSIsCiAgICBub3RlPSJjaXRlZCBCeSAxIiwKICAgIElEPSJZaW4yMDAzIiwKKSkKCkRCKENpdGF0aW9uKAogICAgYmVja2VyMjAwOGEsIHlpbjIwMDNhLCByZWY9IiIsCiAgICBjb250ZXh0cz1bCgogICAgXSwKKSkKCicnJywgY2l0YXRpb25zPSdiZWNrZXIyMDA4YScpOw==\"));\n",
       "    "
      ],
      "text/plain": [
       "<IPython.core.display.Javascript object>"
      ]
     },
     "metadata": {},
     "output_type": "display_data"
    },
    {
     "data": {
      "application/javascript": [
       "$('span:contains(\"# Temp\")').closest('.cell').remove();"
      ],
      "text/plain": [
       "<IPython.core.display.Javascript object>"
      ]
     },
     "metadata": {},
     "output_type": "display_data"
    },
    {
     "data": {
      "application/javascript": [
       "\n",
       "        $('span:contains(\"# Temp\")').closest('.cell').remove();\n",
       "        var code = IPython.notebook.insert_cell_below('code');\n",
       "        code.set_text(atob(\"IyBUZW1wCmluc2VydCgnJycKeWluMjAwM2EgPSBEQihXb3JrKAogICAgMjAwMywgIlRoZSBib29rIiwKICAgIGRpc3BsYXk9InlpbiIsCiAgICBhdXRob3JzPSJZaW4sIFIuIiwKICAgIHBsYWNlMT0iQ2FzZSBTdHVkeSBSZXNlYXJjaDogRGVzaWduIGFuZCBNZXRob2RzIiwKICAgIGVudHJ5dHlwZT0iYXJ0aWNsZSIsCiAgICBub3RlPSJjaXRlZCBCeSAxIiwKICAgIElEPSJZaW4yMDAzIiwKKSkKCkRCKENpdGF0aW9uKAogICAgYmVja2VyMjAwOGEsIHlpbjIwMDNhLCByZWY9IiIsCiAgICBjb250ZXh0cz1bCgogICAgXSwKKSkKCicnJywgY2l0YXRpb25zPSdiZWNrZXIyMDA4YScpOw==\"));\n",
       "    "
      ],
      "text/plain": [
       "<IPython.core.display.Javascript object>"
      ]
     },
     "metadata": {},
     "output_type": "display_data"
    },
    {
     "data": {
      "application/javascript": [
       "$('span:contains(\"# Temp\")').closest('.cell').remove();"
      ],
      "text/plain": [
       "<IPython.core.display.Javascript object>"
      ]
     },
     "metadata": {},
     "output_type": "display_data"
    },
    {
     "data": {
      "application/javascript": [
       "\n",
       "        $('span:contains(\"# Temp\")').closest('.cell').remove();\n",
       "        var code = IPython.notebook.insert_cell_below('code');\n",
       "        code.set_text(atob(\"IyBUZW1wCmluc2VydCgnJycKemFocmFuMTk5OGEgPSBEQihXb3JrKAogICAgMTk5OCwgIlNvZnR3YXJlIFByb2Nlc3MgSW1wcm92ZW1lbnQ6IFByYWN0aWNhbCBHdWlkZWxpbmVzIGZvciBCdXNpbmVzcyBTdWNjZXNzIiwKICAgIGRpc3BsYXk9InphaHJhbiIsCiAgICBhdXRob3JzPSJaYWhyYW4sIFMuIiwKICAgIHBsYWNlMT0iQWRkaXNvbi1XZXNsZXkiLAogICAgZW50cnl0eXBlPSJhcnRpY2xlIiwKICAgIG5vdGU9ImNpdGVkIEJ5IDIxMSIsCiAgICBJRD0iWmFocmFuMTk5OCIsCikpCgpEQihDaXRhdGlvbigKICAgIGJlY2tlcjIwMDhhLCB6YWhyYW4xOTk4YSwgcmVmPSIiLAogICAgY29udGV4dHM9WwoKICAgIF0sCikpCgonJycsIGNpdGF0aW9ucz0nYmVja2VyMjAwOGEnKTs=\"));\n",
       "    "
      ],
      "text/plain": [
       "<IPython.core.display.Javascript object>"
      ]
     },
     "metadata": {},
     "output_type": "display_data"
    },
    {
     "data": {
      "application/javascript": [
       "$('span:contains(\"# Temp\")').closest('.cell').remove();"
      ],
      "text/plain": [
       "<IPython.core.display.Javascript object>"
      ]
     },
     "metadata": {},
     "output_type": "display_data"
    },
    {
     "data": {
      "application/javascript": [
       "\n",
       "        $('span:contains(\"# Temp\")').closest('.cell').remove();\n",
       "        var code = IPython.notebook.insert_cell_below('code');\n",
       "        code.set_text(atob(\"IyBUZW1wCmluc2VydCgnJycKemFocmFuMTk5OGEgPSBEQihXb3JrKAogICAgMTk5OCwgIlNvZnR3YXJlIFByb2Nlc3MgSW1wcm92ZW1lbnQ6IFByYWN0aWNhbCBHdWlkZWxpbmVzIGZvciBCdXNpbmVzcyBTdWNjZXNzIiwKICAgIGRpc3BsYXk9InphaHJhbiIsCiAgICBhdXRob3JzPSJaYWhyYW4sIFMuIiwKICAgIHBsYWNlMT0iQWRkaXNvbi1XZXNsZXkiLAogICAgZW50cnl0eXBlPSJhcnRpY2xlIiwKICAgIG5vdGU9ImNpdGVkIEJ5IDIxMSIsCiAgICBJRD0iWmFocmFuMTk5OCIsCikpCgpEQihDaXRhdGlvbigKICAgIGJlY2tlcjIwMDhhLCB6YWhyYW4xOTk4YSwgcmVmPSIiLAogICAgY29udGV4dHM9WwoKICAgIF0sCikpCgonJycsIGNpdGF0aW9ucz0nYmVja2VyMjAwOGEnKTs=\"));\n",
       "    "
      ],
      "text/plain": [
       "<IPython.core.display.Javascript object>"
      ]
     },
     "metadata": {},
     "output_type": "display_data"
    },
    {
     "data": {
      "application/javascript": [
       "$('span:contains(\"# Temp\")').closest('.cell').remove();"
      ],
      "text/plain": [
       "<IPython.core.display.Javascript object>"
      ]
     },
     "metadata": {},
     "output_type": "display_data"
    },
    {
     "data": {
      "application/javascript": [
       "\n",
       "        $('span:contains(\"# Temp\")').closest('.cell').remove();\n",
       "        var code = IPython.notebook.insert_cell_below('code');\n",
       "        code.set_text(atob(\"IyBUZW1wCmluc2VydCgnJycKemFpanVuMjAwNWEgPSBEQihXb3JrKAogICAgMjAwNSwgIlZhbHVlLUNlbnRyaWMgUHJvY2VzcyBJbXByb3ZlbWVudCBmb3IgU21hbGwgT3JnYW5pemF0aW9ucyBieSBVc2luZyBRRkQgYW5kIENNTUkiLAogICAgZGlzcGxheT0iemFpanVuIiwKICAgIGF1dGhvcnM9IlphaWp1biwgSC4iLAogICAgcGxhY2UxPSJQcm9jZWVkaW5ncyBvZiB0aGUgRmlyc3QgSW50ZXJuYXRpb25hbCBSZXNlYXJjaCBXb3Jrc2hvcCBmb3IgUHJvY2VzcyBJbXByb3ZlbWVudCBpbiBTbWFsbCBTZXR0aW5ncyIsCiAgICBlbnRyeXR5cGU9ImFydGljbGUiLAogICAgbm90ZT0iY2l0ZWQgQnkgMiIsCiAgICBJRD0iWmFpanVuMjAwNSIsCikpCgpEQihDaXRhdGlvbigKICAgIGJlY2tlcjIwMDhhLCB6YWlqdW4yMDA1YSwgcmVmPSIiLAogICAgY29udGV4dHM9WwoKICAgIF0sCikpCgonJycsIGNpdGF0aW9ucz0nYmVja2VyMjAwOGEnKTs=\"));\n",
       "    "
      ],
      "text/plain": [
       "<IPython.core.display.Javascript object>"
      ]
     },
     "metadata": {},
     "output_type": "display_data"
    },
    {
     "data": {
      "application/javascript": [
       "$('span:contains(\"# Temp\")').closest('.cell').remove();"
      ],
      "text/plain": [
       "<IPython.core.display.Javascript object>"
      ]
     },
     "metadata": {},
     "output_type": "display_data"
    },
    {
     "data": {
      "application/javascript": [
       "\n",
       "        $('span:contains(\"# Temp\")').closest('.cell').remove();\n",
       "        var code = IPython.notebook.insert_cell_below('code');\n",
       "        code.set_text(atob(\"IyBUZW1wCmluc2VydCgnJycKemFpanVuMjAwNWEgPSBEQihXb3JrKAogICAgMjAwNSwgIlZhbHVlLUNlbnRyaWMgUHJvY2VzcyBJbXByb3ZlbWVudCBmb3IgU21hbGwgT3JnYW5pemF0aW9ucyBieSBVc2luZyBRRkQgYW5kIENNTUkiLAogICAgZGlzcGxheT0iemFpanVuIiwKICAgIGF1dGhvcnM9IlphaWp1biwgSC4iLAogICAgcGxhY2UxPSJQcm9jZWVkaW5ncyBvZiB0aGUgRmlyc3QgSW50ZXJuYXRpb25hbCBSZXNlYXJjaCBXb3Jrc2hvcCBmb3IgUHJvY2VzcyBJbXByb3ZlbWVudCBpbiBTbWFsbCBTZXR0aW5ncyIsCiAgICBlbnRyeXR5cGU9ImFydGljbGUiLAogICAgbm90ZT0iY2l0ZWQgQnkgMiIsCiAgICBJRD0iWmFpanVuMjAwNSIsCikpCgpEQihDaXRhdGlvbigKICAgIGJlY2tlcjIwMDhhLCB6YWlqdW4yMDA1YSwgcmVmPSIiLAogICAgY29udGV4dHM9WwoKICAgIF0sCikpCgonJycsIGNpdGF0aW9ucz0nYmVja2VyMjAwOGEnKTs=\"));\n",
       "    "
      ],
      "text/plain": [
       "<IPython.core.display.Javascript object>"
      ]
     },
     "metadata": {},
     "output_type": "display_data"
    }
   ],
   "source": [
    "BackwardSnowballing(\"becker2008a\", articles=article_list)"
   ]
  },
  {
   "cell_type": "code",
   "execution_count": 89,
   "metadata": {},
   "outputs": [
    {
     "name": "stdout",
     "output_type": "stream",
     "text": [
      "-Insert: zaijun2005a\n",
      "-Insert Import: zaijun2005a\n",
      "-Insert Citation: becker2008a -> zaijun2005a\n"
     ]
    }
   ],
   "source": [
    "# Temp\n",
    "insert('''\n",
    "zaijun2005a = DB(WorkOk(\n",
    "    2005, \"Value-Centric Process Improvement for Small Organizations by Using QFD and CMMI\",\n",
    "    display=\"zaijun\",\n",
    "    authors=\"Zaijun, H.\",\n",
    "    place=FAKE,\n",
    "    placex=\"Proceedings of the First International Research Workshop for Process Improvement in Small Settings\",\n",
    "    entrytype=\"article\",\n",
    "    note=\"cited By 2\",\n",
    "    ID=\"Zaijun2005\",\n",
    "))\n",
    "\n",
    "DB(Citation(\n",
    "    becker2008a, zaijun2005a, ref=\"\",\n",
    "    contexts=[\n",
    "\n",
    "    ],\n",
    "))\n",
    "\n",
    "''', citations='becker2008a');"
   ]
  },
  {
   "cell_type": "code",
   "execution_count": null,
   "metadata": {
    "collapsed": true
   },
   "outputs": [],
   "source": []
  }
 ],
 "metadata": {
  "kernelspec": {
   "display_name": "Python 3",
   "language": "python",
   "name": "python3"
  },
  "language_info": {
   "codemirror_mode": {
    "name": "ipython",
    "version": 3
   },
   "file_extension": ".py",
   "mimetype": "text/x-python",
   "name": "python",
   "nbconvert_exporter": "python",
   "pygments_lexer": "ipython3",
   "version": "3.6.0"
  },
  "toc": {
   "nav_menu": {
    "height": "12px",
    "width": "252px"
   },
   "number_sections": true,
   "sideBar": true,
   "skip_h1_title": false,
   "toc_cell": false,
   "toc_position": {},
   "toc_section_display": "block",
   "toc_window_display": false
  }
 },
 "nbformat": 4,
 "nbformat_minor": 2
}
