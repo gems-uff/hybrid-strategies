{
 "cells": [
  {
   "cell_type": "code",
   "execution_count": 51,
   "metadata": {
    "collapsed": true
   },
   "outputs": [],
   "source": [
    "import database\n",
    "from snowballing.operations import load_work, reload, work_by_varname\n",
    "from snowballing.snowballing import Converter\n",
    "from snowballing.dbmanager import insert, set_attribute"
   ]
  },
  {
   "cell_type": "code",
   "execution_count": 52,
   "metadata": {
    "scrolled": false
   },
   "outputs": [
    {
     "data": {
      "application/vnd.jupyter.widget-view+json": {
       "model_id": "de72fe9faed24df6b55e154182174e62",
       "version_major": 2,
       "version_minor": 0
      },
      "text/html": [
       "<p>Failed to display Jupyter Widget of type <code>VBox</code>.</p>\n",
       "<p>\n",
       "  If you're reading this message in Jupyter Notebook or JupyterLab, it may mean\n",
       "  that the widgets JavaScript is still loading. If this message persists, it\n",
       "  likely means that the widgets JavaScript library is either not installed or\n",
       "  not enabled. See the <a href=\"https://ipywidgets.readthedocs.io/en/stable/user_install.html\">Jupyter\n",
       "  Widgets Documentation</a> for setup instructions.\n",
       "</p>\n",
       "<p>\n",
       "  If you're reading this message in another notebook frontend (for example, a static\n",
       "  rendering on GitHub or <a href=\"https://nbviewer.jupyter.org/\">NBViewer</a>),\n",
       "  it may mean that your frontend doesn't currently support widgets.\n",
       "</p>\n"
      ],
      "text/plain": [
       "VBox(children=(HBox(children=(Dropdown(index=1, options={'BibTeX': 'bibtex', 'Text': 'text', '[N] author name place other year': 'citation', 'Quoted': 'quoted'}, value='text'), Button(description='Set article_list variable', disabled=True, style=ButtonStyle()), Label(value=''))), HBox(children=(Textarea(value='', layout=Layout(height='500px', width='50%')), Textarea(value='', layout=Layout(height='500px', width='50%'))))))"
      ]
     },
     "metadata": {},
     "output_type": "display_data"
    }
   ],
   "source": [
    "Converter().browser()"
   ]
  },
  {
   "cell_type": "code",
   "execution_count": 53,
   "metadata": {},
   "outputs": [
    {
     "data": {
      "text/plain": [
       "18"
      ]
     },
     "execution_count": 53,
     "metadata": {},
     "output_type": "execute_result"
    }
   ],
   "source": [
    "len(article_list)"
   ]
  },
  {
   "cell_type": "code",
   "execution_count": null,
   "metadata": {
    "collapsed": true
   },
   "outputs": [],
   "source": [
    "#from database.work.y2015 import li2015a"
   ]
  },
  {
   "cell_type": "code",
   "execution_count": null,
   "metadata": {
    "collapsed": true
   },
   "outputs": [],
   "source": [
    "#int(getattr(li2015a, 'scopus', 0))"
   ]
  },
  {
   "cell_type": "code",
   "execution_count": null,
   "metadata": {},
   "outputs": [],
   "source": [
    "#print(article_list)"
   ]
  },
  {
   "cell_type": "code",
   "execution_count": null,
   "metadata": {
    "collapsed": true
   },
   "outputs": [],
   "source": []
  },
  {
   "cell_type": "code",
   "execution_count": 54,
   "metadata": {},
   "outputs": [
    {
     "data": {
      "application/vnd.jupyter.widget-view+json": {
       "model_id": "457358f90e234300ae6aa98b09b7dccd",
       "version_major": 2,
       "version_minor": 0
      },
      "text/html": [
       "<p>Failed to display Jupyter Widget of type <code>VBox</code>.</p>\n",
       "<p>\n",
       "  If you're reading this message in Jupyter Notebook or JupyterLab, it may mean\n",
       "  that the widgets JavaScript is still loading. If this message persists, it\n",
       "  likely means that the widgets JavaScript library is either not installed or\n",
       "  not enabled. See the <a href=\"https://ipywidgets.readthedocs.io/en/stable/user_install.html\">Jupyter\n",
       "  Widgets Documentation</a> for setup instructions.\n",
       "</p>\n",
       "<p>\n",
       "  If you're reading this message in another notebook frontend (for example, a static\n",
       "  rendering on GitHub or <a href=\"https://nbviewer.jupyter.org/\">NBViewer</a>),\n",
       "  it may mean that your frontend doesn't currently support widgets.\n",
       "</p>\n"
      ],
      "text/plain": [
       "VBox(children=(HBox(children=(Button(description='Previous Article', disabled=True, icon='caret-left', style=ButtonStyle()), Button(description='Reload Article', icon='refresh', style=ButtonStyle()), Button(description='Next Article', icon='caret-right', style=ButtonStyle()))), HBox(children=(Button(description='Unrelated: Scripts', style=ButtonStyle()), Button(description='Unrelated: Provenance', style=ButtonStyle()), Button(description='Both', style=ButtonStyle()), Button(description='Ok', style=ButtonStyle()))), HBox(children=(Dropdown(description='Type', index=5, options=('Work', 'WorkSnowball', 'WorkForward', 'WorkBackward', 'WorkOk', 'WorkUnrelated', 'WorkNoFile', 'WorkLang', 'Site', 'Email'), value='WorkUnrelated'), ToggleButton(value=False, description='File'))), HBox(children=(Text(value='', description='Due'), Text(value='', description='Place'))), HBox(children=(Text(value='', description='Year'), Text(value='', description='Prefix Var'))), HBox(children=(Text(value='', description='PDFPage'), Text(value='', description='Related'))), HBox(children=(Text(value='', description='Display'), Text(value='', description='Summary'))), HBox(children=(Text(value='', description='Star'), Text(value='', description='Link'))), HBox(children=(Button(description='Reload Article', icon='refresh', style=ButtonStyle()), IntSlider(value=0, max=17), Label(value='1/18'))), Output()))"
      ]
     },
     "metadata": {},
     "output_type": "display_data"
    },
    {
     "data": {
      "application/javascript": [
       "$('span:contains(\"# Temp\")').closest('.cell').remove();"
      ],
      "text/plain": [
       "<IPython.core.display.Javascript object>"
      ]
     },
     "metadata": {},
     "output_type": "display_data"
    },
    {
     "data": {
      "application/javascript": [
       "\n",
       "        $('span:contains(\"# Temp\")').closest('.cell').remove();\n",
       "        var code = IPython.notebook.insert_cell_below('code');\n",
       "        code.set_text(atob(\"IyBUZW1wCmluc2VydCgnJycKZXNmYWhhbmkyMDEwYSA9IERCKFdvcmtVbnJlbGF0ZWQoCiAgICAyMDEwLCAiQSByZXBvc2l0b3J5IG9mIGFnaWxlIG1ldGhvZCBmcmFnbWVudHMiLAogICAgZGlzcGxheT0iZXNmYWhhbmkiLAogICAgYXV0aG9ycz0iRXNmYWhhbmksIEguQy4gYW5kIFl1LCBFLiIsCiAgICBwbGFjZT1GQUtFLAogICAgcHA9IjE2My0xNzQiLAogICAgZW50cnl0eXBlPSJhcnRpY2xlIiwKICAgIHZvbHVtZT0iNjE5NSBMTkNTIiwKICAgIGRvaT0iMTAuMTAwNy85NzgtMy02NDItMTQzNDctMl8xNSIsCiAgICBub3RlPSJjaXRlZCBCeSAxNCIsCiAgICBJRD0iRXNmYWhhbmkyMDEwMTYzIiwKICAgIHBsYWNleD0iTGVjdHVyZSBOb3RlcyBpbiBDb21wdXRlciBTY2llbmNlIChpbmNsdWRpbmcgc3Vic2VyaWVzIExlY3R1cmUgTm90ZXMgaW4gQXJ0aWZpY2lhbCBJbnRlbGxpZ2VuY2UgYW5kIExlY3R1cmUgTm90ZXMgaW4gQmlvaW5mb3JtYXRpY3MpIiwKKSkKCkRCKENpdGF0aW9uKAogICAgZXNmYWhhbmkyMDExYSwgZXNmYWhhbmkyMDEwYSwgcmVmPSIiLAogICAgY29udGV4dHM9WwoKICAgIF0sCikpCgonJycsIGNpdGF0aW9ucz0nZXNmYWhhbmkyMDExYScpOw==\"));\n",
       "    "
      ],
      "text/plain": [
       "<IPython.core.display.Javascript object>"
      ]
     },
     "metadata": {},
     "output_type": "display_data"
    },
    {
     "data": {
      "application/javascript": [
       "$('span:contains(\"# Temp\")').closest('.cell').remove();"
      ],
      "text/plain": [
       "<IPython.core.display.Javascript object>"
      ]
     },
     "metadata": {},
     "output_type": "display_data"
    },
    {
     "data": {
      "application/javascript": [
       "\n",
       "        $('span:contains(\"# Temp\")').closest('.cell').remove();\n",
       "        var code = IPython.notebook.insert_cell_below('code');\n",
       "        code.set_text(atob(\"IyBUZW1wCmluc2VydCgnJycKREIoQ2l0YXRpb24oCiAgICBlc2ZhaGFuaTIwMTFhLCBrYXBsYW4xOTk2YSwgcmVmPSIiLAogICAgY29udGV4dHM9WwoKICAgIF0sCikpCgonJycsIGNpdGF0aW9ucz0nZXNmYWhhbmkyMDExYScpOw==\"));\n",
       "    "
      ],
      "text/plain": [
       "<IPython.core.display.Javascript object>"
      ]
     },
     "metadata": {},
     "output_type": "display_data"
    },
    {
     "data": {
      "application/javascript": [
       "$('span:contains(\"# Temp\")').closest('.cell').remove();"
      ],
      "text/plain": [
       "<IPython.core.display.Javascript object>"
      ]
     },
     "metadata": {},
     "output_type": "display_data"
    },
    {
     "data": {
      "application/javascript": [
       "\n",
       "        $('span:contains(\"# Temp\")').closest('.cell').remove();\n",
       "        var code = IPython.notebook.insert_cell_below('code');\n",
       "        code.set_text(atob(\"IyBUZW1wCmluc2VydCgnJycKREIoQ2l0YXRpb24oCiAgICBlc2ZhaGFuaTIwMTFhLCBrYXBsYW4xOTk2YSwgcmVmPSIiLAogICAgY29udGV4dHM9WwoKICAgIF0sCikpCgonJycsIGNpdGF0aW9ucz0nZXNmYWhhbmkyMDExYScpOw==\"));\n",
       "    "
      ],
      "text/plain": [
       "<IPython.core.display.Javascript object>"
      ]
     },
     "metadata": {},
     "output_type": "display_data"
    },
    {
     "data": {
      "application/javascript": [
       "$('span:contains(\"# Temp\")').closest('.cell').remove();"
      ],
      "text/plain": [
       "<IPython.core.display.Javascript object>"
      ]
     },
     "metadata": {},
     "output_type": "display_data"
    },
    {
     "data": {
      "application/javascript": [
       "\n",
       "        $('span:contains(\"# Temp\")').closest('.cell').remove();\n",
       "        var code = IPython.notebook.insert_cell_below('code');\n",
       "        code.set_text(atob(\"IyBUZW1wCmluc2VydCgnJycKa2FwbGFuMTk5NmMgPSBEQihXb3JrVW5yZWxhdGVkKAogICAgMTk5NiwgIlVzaW5nIHRoZSBiYWxhbmNlZCBzY29yZWNhcmQgYXMgYSBzdHJhdGVnaWMgbWFuYWdlbWVudCBzeXN0ZW0iLAogICAgZGlzcGxheT0ia2FwbGFuIGMiLAogICAgYXV0aG9ycz0iS2FwbGFuLCBSLlMuIGFuZCBOb3J0b24sIEQuUC4iLAogICAgcGxhY2U9RkFLRSwKICAgIHBwPSI3NS04NSIsCiAgICBlbnRyeXR5cGU9ImFydGljbGUiLAogICAgbnVtYmVyPSIxIiwKICAgIG5vdGU9ImNpdGVkIEJ5IDE4NTYiLAogICAgSUQ9IkthcGxhbjE5OTY3NSIsCiAgICBwbGFjZXg9IkhhcnZhcmQgQnVzaW5lc3MgUmV2aWV3IiwKKSkKCkRCKENpdGF0aW9uKAogICAgZXNmYWhhbmkyMDExYSwga2FwbGFuMTk5NmMsIHJlZj0iIiwKICAgIGNvbnRleHRzPVsKCiAgICBdLAopKQoKJycnLCBjaXRhdGlvbnM9J2VzZmFoYW5pMjAxMWEnKTs=\"));\n",
       "    "
      ],
      "text/plain": [
       "<IPython.core.display.Javascript object>"
      ]
     },
     "metadata": {},
     "output_type": "display_data"
    },
    {
     "data": {
      "application/javascript": [
       "$('span:contains(\"# Temp\")').closest('.cell').remove();"
      ],
      "text/plain": [
       "<IPython.core.display.Javascript object>"
      ]
     },
     "metadata": {},
     "output_type": "display_data"
    },
    {
     "data": {
      "application/javascript": [
       "\n",
       "        $('span:contains(\"# Temp\")').closest('.cell').remove();\n",
       "        var code = IPython.notebook.insert_cell_below('code');\n",
       "        code.set_text(atob(\"IyBUZW1wCmluc2VydCgnJycKa2FwbGFuMTk5NmMgPSBEQihXb3JrVW5yZWxhdGVkKAogICAgMTk5NiwgIlVzaW5nIHRoZSBiYWxhbmNlZCBzY29yZWNhcmQgYXMgYSBzdHJhdGVnaWMgbWFuYWdlbWVudCBzeXN0ZW0iLAogICAgZGlzcGxheT0ia2FwbGFuIGMiLAogICAgYXV0aG9ycz0iS2FwbGFuLCBSLlMuIGFuZCBOb3J0b24sIEQuUC4iLAogICAgcGxhY2U9RkFLRSwKICAgIHBwPSI3NS04NSIsCiAgICBlbnRyeXR5cGU9ImFydGljbGUiLAogICAgbnVtYmVyPSIxIiwKICAgIG5vdGU9ImNpdGVkIEJ5IDE4NTYiLAogICAgSUQ9IkthcGxhbjE5OTY3NSIsCiAgICBwbGFjZXg9IkhhcnZhcmQgQnVzaW5lc3MgUmV2aWV3IiwKKSkKCkRCKENpdGF0aW9uKAogICAgZXNmYWhhbmkyMDExYSwga2FwbGFuMTk5NmMsIHJlZj0iIiwKICAgIGNvbnRleHRzPVsKCiAgICBdLAopKQoKJycnLCBjaXRhdGlvbnM9J2VzZmFoYW5pMjAxMWEnKTs=\"));\n",
       "    "
      ],
      "text/plain": [
       "<IPython.core.display.Javascript object>"
      ]
     },
     "metadata": {},
     "output_type": "display_data"
    },
    {
     "data": {
      "application/javascript": [
       "$('span:contains(\"# Temp\")').closest('.cell').remove();"
      ],
      "text/plain": [
       "<IPython.core.display.Javascript object>"
      ]
     },
     "metadata": {},
     "output_type": "display_data"
    },
    {
     "data": {
      "application/javascript": [
       "\n",
       "        $('span:contains(\"# Temp\")').closest('.cell').remove();\n",
       "        var code = IPython.notebook.insert_cell_below('code');\n",
       "        code.set_text(atob(\"IyBUZW1wCmluc2VydCgnJycKa2FwbGFuMjAwNGEgPSBEQihXb3JrVW5yZWxhdGVkKAogICAgMjAwNCwgIlN0cmF0ZWd5IE1hcHM6IENvbnZlcnRpbmcgSW50YW5naWJsZSBBc3NldHMgSW50byBUYW5naWJsZSBPdXRjb21lcyIsCiAgICBkaXNwbGF5PSJrYXBsYW4iLAogICAgYXV0aG9ycz0iS2FwbGFuLCBSLlMuIGFuZCBOb3J0b24sIEQuUC4iLAogICAgcGxhY2U9RkFLRSwKICAgIGVudHJ5dHlwZT0iYXJ0aWNsZSIsCiAgICBub3RlPSJjaXRlZCBCeSAxMDUwIiwKICAgIElEPSJLYXBsYW4yMDA0IiwKICAgIHBsYWNleD0iQm9zdG9uLCBIYXJ2YXJkIEJ1c2luZXNzIFNjaG9vbCIsCikpCgpEQihDaXRhdGlvbigKICAgIGVzZmFoYW5pMjAxMWEsIGthcGxhbjIwMDRhLCByZWY9IiIsCiAgICBjb250ZXh0cz1bCgogICAgXSwKKSkKCicnJywgY2l0YXRpb25zPSdlc2ZhaGFuaTIwMTFhJyk7\"));\n",
       "    "
      ],
      "text/plain": [
       "<IPython.core.display.Javascript object>"
      ]
     },
     "metadata": {},
     "output_type": "display_data"
    },
    {
     "data": {
      "application/javascript": [
       "$('span:contains(\"# Temp\")').closest('.cell').remove();"
      ],
      "text/plain": [
       "<IPython.core.display.Javascript object>"
      ]
     },
     "metadata": {},
     "output_type": "display_data"
    },
    {
     "data": {
      "application/javascript": [
       "\n",
       "        $('span:contains(\"# Temp\")').closest('.cell').remove();\n",
       "        var code = IPython.notebook.insert_cell_below('code');\n",
       "        code.set_text(atob(\"IyBUZW1wCmluc2VydCgnJycKa2FwbGFuMjAwNGEgPSBEQihXb3JrVW5yZWxhdGVkKAogICAgMjAwNCwgIlN0cmF0ZWd5IE1hcHM6IENvbnZlcnRpbmcgSW50YW5naWJsZSBBc3NldHMgSW50byBUYW5naWJsZSBPdXRjb21lcyIsCiAgICBkaXNwbGF5PSJrYXBsYW4iLAogICAgYXV0aG9ycz0iS2FwbGFuLCBSLlMuIGFuZCBOb3J0b24sIEQuUC4iLAogICAgcGxhY2U9RkFLRSwKICAgIGVudHJ5dHlwZT0iYXJ0aWNsZSIsCiAgICBub3RlPSJjaXRlZCBCeSAxMDUwIiwKICAgIElEPSJLYXBsYW4yMDA0IiwKICAgIHBsYWNleD0iQm9zdG9uLCBIYXJ2YXJkIEJ1c2luZXNzIFNjaG9vbCIsCikpCgpEQihDaXRhdGlvbigKICAgIGVzZmFoYW5pMjAxMWEsIGthcGxhbjIwMDRhLCByZWY9IiIsCiAgICBjb250ZXh0cz1bCgogICAgXSwKKSkKCicnJywgY2l0YXRpb25zPSdlc2ZhaGFuaTIwMTFhJyk7\"));\n",
       "    "
      ],
      "text/plain": [
       "<IPython.core.display.Javascript object>"
      ]
     },
     "metadata": {},
     "output_type": "display_data"
    },
    {
     "data": {
      "application/javascript": [
       "$('span:contains(\"# Temp\")').closest('.cell').remove();"
      ],
      "text/plain": [
       "<IPython.core.display.Javascript object>"
      ]
     },
     "metadata": {},
     "output_type": "display_data"
    },
    {
     "data": {
      "application/javascript": [
       "\n",
       "        $('span:contains(\"# Temp\")').closest('.cell').remove();\n",
       "        var code = IPython.notebook.insert_cell_below('code');\n",
       "        code.set_text(atob(\"IyBUZW1wCmluc2VydCgnJycKaW5zdGl0dXRlMjAxMGEgPSBEQihXb3JrVW5yZWxhdGVkKAogICAgMjAxMCwgIlRoZSBTdHJhdGVnaWMgTWFuYWdlbWVudCBNYXR1cml0eSBNb2RlbCIsCiAgICBkaXNwbGF5PSJpbnN0aXR1dGUiLAogICAgYXV0aG9ycz0iQlNJIEJhbGFuY2VkIFNjb3JlY2FyZCBJbnN0aXR1dGUiLAogICAgcGxhY2U9RkFLRSwKICAgIGVudHJ5dHlwZT0iYXJ0aWNsZSIsCiAgICBub3RlPSJjaXRlZCBCeSAxIiwKICAgIElEPSJCU0kyMDEwIiwKICAgIHBsYWNleD0iU21nLCBTdHJhdGVneSBNYW5hZ2VtZXRuIEdyb3VwIiwKKSkKCkRCKENpdGF0aW9uKAogICAgZXNmYWhhbmkyMDExYSwgaW5zdGl0dXRlMjAxMGEsIHJlZj0iIiwKICAgIGNvbnRleHRzPVsKCiAgICBdLAopKQoKJycnLCBjaXRhdGlvbnM9J2VzZmFoYW5pMjAxMWEnKTs=\"));\n",
       "    "
      ],
      "text/plain": [
       "<IPython.core.display.Javascript object>"
      ]
     },
     "metadata": {},
     "output_type": "display_data"
    },
    {
     "data": {
      "application/javascript": [
       "$('span:contains(\"# Temp\")').closest('.cell').remove();"
      ],
      "text/plain": [
       "<IPython.core.display.Javascript object>"
      ]
     },
     "metadata": {},
     "output_type": "display_data"
    },
    {
     "data": {
      "application/javascript": [
       "\n",
       "        $('span:contains(\"# Temp\")').closest('.cell').remove();\n",
       "        var code = IPython.notebook.insert_cell_below('code');\n",
       "        code.set_text(atob(\"IyBUZW1wCmluc2VydCgnJycKaW5zdGl0dXRlMjAxMGEgPSBEQihXb3JrVW5yZWxhdGVkKAogICAgMjAxMCwgIlRoZSBTdHJhdGVnaWMgTWFuYWdlbWVudCBNYXR1cml0eSBNb2RlbCIsCiAgICBkaXNwbGF5PSJpbnN0aXR1dGUiLAogICAgYXV0aG9ycz0iQlNJIEJhbGFuY2VkIFNjb3JlY2FyZCBJbnN0aXR1dGUiLAogICAgcGxhY2U9RkFLRSwKICAgIGVudHJ5dHlwZT0iYXJ0aWNsZSIsCiAgICBub3RlPSJjaXRlZCBCeSAxIiwKICAgIElEPSJCU0kyMDEwIiwKICAgIHBsYWNleD0iU21nLCBTdHJhdGVneSBNYW5hZ2VtZXRuIEdyb3VwIiwKKSkKCkRCKENpdGF0aW9uKAogICAgZXNmYWhhbmkyMDExYSwgaW5zdGl0dXRlMjAxMGEsIHJlZj0iIiwKICAgIGNvbnRleHRzPVsKCiAgICBdLAopKQoKJycnLCBjaXRhdGlvbnM9J2VzZmFoYW5pMjAxMWEnKTs=\"));\n",
       "    "
      ],
      "text/plain": [
       "<IPython.core.display.Javascript object>"
      ]
     },
     "metadata": {},
     "output_type": "display_data"
    },
    {
     "data": {
      "application/javascript": [
       "$('span:contains(\"# Temp\")').closest('.cell').remove();"
      ],
      "text/plain": [
       "<IPython.core.display.Javascript object>"
      ]
     },
     "metadata": {},
     "output_type": "display_data"
    },
    {
     "data": {
      "application/javascript": [
       "\n",
       "        $('span:contains(\"# Temp\")').closest('.cell').remove();\n",
       "        var code = IPython.notebook.insert_cell_below('code');\n",
       "        code.set_text(atob(\"IyBUZW1wCmluc2VydCgnJycKbWFydGluc29uczE5OTlhID0gREIoV29ya1VucmVsYXRlZCgKICAgIDE5OTksICJUaGUgYmFsYW5jZWQgc2NvcmVjYXJkOiBBIGZvdW5kYXRpb24gZm9yIHRoZSBzdHJhdGVnaWMgbWFuYWdlbWVudCBvZiBpbmZvcm1hdGlvbiBzeXN0ZW1zIiwKICAgIGRpc3BsYXk9Im1hcnRpbnNvbnMiLAogICAgYXV0aG9ycz0iTWFydGluc29ucywgTS4gYW5kIERhdmlzb24sIFIuIGFuZCBUc2UsIEQuIiwKICAgIHBsYWNlPUZBS0UsCiAgICBwcD0iNzEtODgiLAogICAgZW50cnl0eXBlPSJhcnRpY2xlIiwKICAgIHZvbHVtZT0iMjUiLAogICAgbnVtYmVyPSIxIiwKICAgIGRvaT0iMTAuMTAxNi9TMDE2Ny05MjM2KDk4KTAwMDg2LTQiLAogICAgbm90ZT0iY2l0ZWQgQnkgMjc2IiwKICAgIElEPSJNYXJ0aW5zb25zMTk5OTcxIiwKICAgIHBsYWNleD0iRGVjaXNpb24gU3VwcG9ydCBTeXN0ZW1zIiwKKSkKCkRCKENpdGF0aW9uKAogICAgZXNmYWhhbmkyMDExYSwgbWFydGluc29uczE5OTlhLCByZWY9IiIsCiAgICBjb250ZXh0cz1bCgogICAgXSwKKSkKCicnJywgY2l0YXRpb25zPSdlc2ZhaGFuaTIwMTFhJyk7\"));\n",
       "    "
      ],
      "text/plain": [
       "<IPython.core.display.Javascript object>"
      ]
     },
     "metadata": {},
     "output_type": "display_data"
    },
    {
     "data": {
      "application/javascript": [
       "$('span:contains(\"# Temp\")').closest('.cell').remove();"
      ],
      "text/plain": [
       "<IPython.core.display.Javascript object>"
      ]
     },
     "metadata": {},
     "output_type": "display_data"
    },
    {
     "data": {
      "application/javascript": [
       "\n",
       "        $('span:contains(\"# Temp\")').closest('.cell').remove();\n",
       "        var code = IPython.notebook.insert_cell_below('code');\n",
       "        code.set_text(atob(\"IyBUZW1wCmluc2VydCgnJycKbWFydGluc29uczE5OTlhID0gREIoV29ya1VucmVsYXRlZCgKICAgIDE5OTksICJUaGUgYmFsYW5jZWQgc2NvcmVjYXJkOiBBIGZvdW5kYXRpb24gZm9yIHRoZSBzdHJhdGVnaWMgbWFuYWdlbWVudCBvZiBpbmZvcm1hdGlvbiBzeXN0ZW1zIiwKICAgIGRpc3BsYXk9Im1hcnRpbnNvbnMiLAogICAgYXV0aG9ycz0iTWFydGluc29ucywgTS4gYW5kIERhdmlzb24sIFIuIGFuZCBUc2UsIEQuIiwKICAgIHBsYWNlPUZBS0UsCiAgICBwcD0iNzEtODgiLAogICAgZW50cnl0eXBlPSJhcnRpY2xlIiwKICAgIHZvbHVtZT0iMjUiLAogICAgbnVtYmVyPSIxIiwKICAgIGRvaT0iMTAuMTAxNi9TMDE2Ny05MjM2KDk4KTAwMDg2LTQiLAogICAgbm90ZT0iY2l0ZWQgQnkgMjc2IiwKICAgIElEPSJNYXJ0aW5zb25zMTk5OTcxIiwKICAgIHBsYWNleD0iRGVjaXNpb24gU3VwcG9ydCBTeXN0ZW1zIiwKKSkKCkRCKENpdGF0aW9uKAogICAgZXNmYWhhbmkyMDExYSwgbWFydGluc29uczE5OTlhLCByZWY9IiIsCiAgICBjb250ZXh0cz1bCgogICAgXSwKKSkKCicnJywgY2l0YXRpb25zPSdlc2ZhaGFuaTIwMTFhJyk7\"));\n",
       "    "
      ],
      "text/plain": [
       "<IPython.core.display.Javascript object>"
      ]
     },
     "metadata": {},
     "output_type": "display_data"
    }
   ],
   "source": [
    "import importlib\n",
    "import custom_snowballing\n",
    "importlib.reload(custom_snowballing)\n",
    "from custom_snowballing import UnrelatedBackward\n",
    "UnrelatedBackward(\"esfahani2011a\", articles=article_list)"
   ]
  },
  {
   "cell_type": "code",
   "execution_count": 60,
   "metadata": {},
   "outputs": [
    {
     "name": "stdout",
     "output_type": "stream",
     "text": [
      "-Insert: martinsons1999a\n",
      "-Insert Import: martinsons1999a\n",
      "-Insert Citation: esfahani2011a -> martinsons1999a\n"
     ]
    }
   ],
   "source": [
    "# Temp\n",
    "insert('''\n",
    "martinsons1999a = DB(WorkUnrelated(\n",
    "    1999, \"The balanced scorecard: A foundation for the strategic management of information systems\",\n",
    "    display=\"martinsons\",\n",
    "    authors=\"Martinsons, M. and Davison, R. and Tse, D.\",\n",
    "    place=FAKE,\n",
    "    pp=\"71-88\",\n",
    "    entrytype=\"article\",\n",
    "    volume=\"25\",\n",
    "    number=\"1\",\n",
    "    doi=\"10.1016/S0167-9236(98)00086-4\",\n",
    "    note=\"cited By 276\",\n",
    "    ID=\"Martinsons199971\",\n",
    "    placex=\"Decision Support Systems\",\n",
    "))\n",
    "\n",
    "DB(Citation(\n",
    "    esfahani2011a, martinsons1999a, ref=\"\",\n",
    "    contexts=[\n",
    "\n",
    "    ],\n",
    "))\n",
    "\n",
    "''', citations='esfahani2011a');"
   ]
  },
  {
   "cell_type": "code",
   "execution_count": null,
   "metadata": {
    "collapsed": true
   },
   "outputs": [],
   "source": []
  }
 ],
 "metadata": {
  "kernelspec": {
   "display_name": "Python 3",
   "language": "python",
   "name": "python3"
  },
  "language_info": {
   "codemirror_mode": {
    "name": "ipython",
    "version": 3
   },
   "file_extension": ".py",
   "mimetype": "text/x-python",
   "name": "python",
   "nbconvert_exporter": "python",
   "pygments_lexer": "ipython3",
   "version": "3.6.0"
  },
  "toc": {
   "nav_menu": {
    "height": "12px",
    "width": "252px"
   },
   "number_sections": true,
   "sideBar": true,
   "skip_h1_title": false,
   "toc_cell": false,
   "toc_position": {},
   "toc_section_display": "block",
   "toc_window_display": false
  }
 },
 "nbformat": 4,
 "nbformat_minor": 2
}
