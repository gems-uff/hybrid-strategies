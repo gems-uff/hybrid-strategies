{
 "cells": [
  {
   "cell_type": "code",
   "execution_count": 34,
   "metadata": {
    "collapsed": true
   },
   "outputs": [],
   "source": [
    "import database\n",
    "from snowballing.operations import load_work, reload, work_by_varname\n",
    "from snowballing.snowballing import Converter\n",
    "from snowballing.dbmanager import insert, set_attribute"
   ]
  },
  {
   "cell_type": "code",
   "execution_count": 35,
   "metadata": {
    "scrolled": false
   },
   "outputs": [
    {
     "data": {
      "application/vnd.jupyter.widget-view+json": {
       "model_id": "f493c473d2574c0ca233769a534b5dc7",
       "version_major": 2,
       "version_minor": 0
      },
      "text/html": [
       "<p>Failed to display Jupyter Widget of type <code>VBox</code>.</p>\n",
       "<p>\n",
       "  If you're reading this message in Jupyter Notebook or JupyterLab, it may mean\n",
       "  that the widgets JavaScript is still loading. If this message persists, it\n",
       "  likely means that the widgets JavaScript library is either not installed or\n",
       "  not enabled. See the <a href=\"https://ipywidgets.readthedocs.io/en/stable/user_install.html\">Jupyter\n",
       "  Widgets Documentation</a> for setup instructions.\n",
       "</p>\n",
       "<p>\n",
       "  If you're reading this message in another notebook frontend (for example, a static\n",
       "  rendering on GitHub or <a href=\"https://nbviewer.jupyter.org/\">NBViewer</a>),\n",
       "  it may mean that your frontend doesn't currently support widgets.\n",
       "</p>\n"
      ],
      "text/plain": [
       "VBox(children=(HBox(children=(Dropdown(index=1, options={'BibTeX': 'bibtex', 'Text': 'text', '[N] author name place other year': 'citation', 'Quoted': 'quoted'}, value='text'), Button(description='Set article_list variable', disabled=True, style=ButtonStyle()), Label(value=''))), HBox(children=(Textarea(value='', layout=Layout(height='500px', width='50%')), Textarea(value='', layout=Layout(height='500px', width='50%'))))))"
      ]
     },
     "metadata": {},
     "output_type": "display_data"
    }
   ],
   "source": [
    "Converter().browser()"
   ]
  },
  {
   "cell_type": "code",
   "execution_count": 36,
   "metadata": {},
   "outputs": [
    {
     "data": {
      "text/plain": [
       "27"
      ]
     },
     "execution_count": 36,
     "metadata": {},
     "output_type": "execute_result"
    }
   ],
   "source": [
    "len(article_list)"
   ]
  },
  {
   "cell_type": "code",
   "execution_count": 22,
   "metadata": {
    "collapsed": true
   },
   "outputs": [],
   "source": [
    "#from database.work.y2015 import li2015a"
   ]
  },
  {
   "cell_type": "code",
   "execution_count": 23,
   "metadata": {
    "collapsed": true
   },
   "outputs": [],
   "source": [
    "#int(getattr(li2015a, 'scopus', 0))"
   ]
  },
  {
   "cell_type": "code",
   "execution_count": 24,
   "metadata": {},
   "outputs": [],
   "source": [
    "#print(article_list)"
   ]
  },
  {
   "cell_type": "code",
   "execution_count": null,
   "metadata": {
    "collapsed": true
   },
   "outputs": [],
   "source": []
  },
  {
   "cell_type": "code",
   "execution_count": 37,
   "metadata": {},
   "outputs": [
    {
     "data": {
      "application/vnd.jupyter.widget-view+json": {
       "model_id": "aef0f83fafcf4f1eb673fa5b3d95dd7c",
       "version_major": 2,
       "version_minor": 0
      },
      "text/html": [
       "<p>Failed to display Jupyter Widget of type <code>VBox</code>.</p>\n",
       "<p>\n",
       "  If you're reading this message in Jupyter Notebook or JupyterLab, it may mean\n",
       "  that the widgets JavaScript is still loading. If this message persists, it\n",
       "  likely means that the widgets JavaScript library is either not installed or\n",
       "  not enabled. See the <a href=\"https://ipywidgets.readthedocs.io/en/stable/user_install.html\">Jupyter\n",
       "  Widgets Documentation</a> for setup instructions.\n",
       "</p>\n",
       "<p>\n",
       "  If you're reading this message in another notebook frontend (for example, a static\n",
       "  rendering on GitHub or <a href=\"https://nbviewer.jupyter.org/\">NBViewer</a>),\n",
       "  it may mean that your frontend doesn't currently support widgets.\n",
       "</p>\n"
      ],
      "text/plain": [
       "VBox(children=(HBox(children=(Button(description='Previous Article', disabled=True, icon='caret-left', style=ButtonStyle()), Button(description='Reload Article', icon='refresh', style=ButtonStyle()), Button(description='Next Article', icon='caret-right', style=ButtonStyle()))), HBox(children=(Button(description='Unrelated: Scripts', style=ButtonStyle()), Button(description='Unrelated: Provenance', style=ButtonStyle()), Button(description='Both', style=ButtonStyle()), Button(description='Ok', style=ButtonStyle()))), HBox(children=(Dropdown(description='Type', index=5, options=('Work', 'WorkSnowball', 'WorkForward', 'WorkBackward', 'WorkOk', 'WorkUnrelated', 'WorkNoFile', 'WorkLang', 'Site', 'Email'), value='WorkUnrelated'), ToggleButton(value=False, description='File'))), HBox(children=(Text(value='', description='Due'), Text(value='', description='Place'))), HBox(children=(Text(value='', description='Year'), Text(value='', description='Prefix Var'))), HBox(children=(Text(value='', description='PDFPage'), Text(value='', description='Related'))), HBox(children=(Text(value='', description='Display'), Text(value='', description='Summary'))), HBox(children=(Text(value='', description='Star'), Text(value='', description='Link'))), HBox(children=(Button(description='Reload Article', icon='refresh', style=ButtonStyle()), IntSlider(value=0, max=26), Label(value='1/27'))), Output()))"
      ]
     },
     "metadata": {},
     "output_type": "display_data"
    },
    {
     "data": {
      "application/javascript": [
       "$('span:contains(\"# Temp\")').closest('.cell').remove();"
      ],
      "text/plain": [
       "<IPython.core.display.Javascript object>"
      ]
     },
     "metadata": {},
     "output_type": "display_data"
    },
    {
     "data": {
      "application/javascript": [
       "\n",
       "        $('span:contains(\"# Temp\")').closest('.cell').remove();\n",
       "        var code = IPython.notebook.insert_cell_below('code');\n",
       "        code.set_text(atob(\"IyBUZW1wCmluc2VydCgnJycKbm9sbGVuMjAwOGEgPSBEQihXb3JrVW5yZWxhdGVkKAogICAgMjAwOCwgIlNvZnR3YXJlIEluZHVzdHJ5IFBlcmZvcm1hbmNlIGluIEluZGlhIGFuZCBDaGluYSIsCiAgICBkaXNwbGF5PSJub2xsZW4iLAogICAgYXV0aG9ycz0iTm9sbGVuLCBTLiIsCiAgICBwbGFjZT1GQUtFLAogICAgZW50cnl0eXBlPSJhcnRpY2xlIiwKICAgIG5vdGU9ImNpdGVkIEJ5IDEiLAogICAgSUQ9Ik5vbGxlbjIwMDgiLAogICAgcGxhY2V4PSJJTkRJQSBpbiB0aGUgRW1lcmdpbmcgR2xvYmFsIE9yZGVyIiwKKSkKCkRCKENpdGF0aW9uKAogICAgYWxidXF1ZXJxdWUyMDA5YSwgbm9sbGVuMjAwOGEsIHJlZj0iIiwKICAgIGNvbnRleHRzPVsKCiAgICBdLAopKQoKJycnLCBjaXRhdGlvbnM9J2FsYnVxdWVycXVlMjAwOWEnKTs=\"));\n",
       "    "
      ],
      "text/plain": [
       "<IPython.core.display.Javascript object>"
      ]
     },
     "metadata": {},
     "output_type": "display_data"
    },
    {
     "data": {
      "application/javascript": [
       "$('span:contains(\"# Temp\")').closest('.cell').remove();"
      ],
      "text/plain": [
       "<IPython.core.display.Javascript object>"
      ]
     },
     "metadata": {},
     "output_type": "display_data"
    },
    {
     "data": {
      "application/javascript": [
       "\n",
       "        $('span:contains(\"# Temp\")').closest('.cell').remove();\n",
       "        var code = IPython.notebook.insert_cell_below('code');\n",
       "        code.set_text(atob(\"IyBUZW1wCmluc2VydCgnJycKcHJhaGFsYWQxOTk5YSA9IERCKFdvcmtVbnJlbGF0ZWQoCiAgICAxOTk5LCAiVGhlIG5ldyBtZWFuaW5nIG9mIHF1YWxpdHkgaW4gdGhlIGluZm9ybWF0aW9uIGFnZSIsCiAgICBkaXNwbGF5PSJwcmFoYWxhZCIsCiAgICBhdXRob3JzPSJQcmFoYWxhZCwgQy5LLiIsCiAgICBwbGFjZT1GQUtFLAogICAgcHA9IjEwOS0xMTgiLAogICAgZW50cnl0eXBlPSJhcnRpY2xlIiwKICAgIG5vdGU9ImNpdGVkIEJ5IDEiLAogICAgSUQ9IlByYWhhbGFkMTk5OTEwOSIsCiAgICBwbGFjZXg9IkhhcnZhcmQgQnVzaW5lc3MiLAopKQoKREIoQ2l0YXRpb24oCiAgICBhbGJ1cXVlcnF1ZTIwMDlhLCBwcmFoYWxhZDE5OTlhLCByZWY9IiIsCiAgICBjb250ZXh0cz1bCgogICAgXSwKKSkKCicnJywgY2l0YXRpb25zPSdhbGJ1cXVlcnF1ZTIwMDlhJyk7\"));\n",
       "    "
      ],
      "text/plain": [
       "<IPython.core.display.Javascript object>"
      ]
     },
     "metadata": {},
     "output_type": "display_data"
    },
    {
     "data": {
      "application/javascript": [
       "$('span:contains(\"# Temp\")').closest('.cell').remove();"
      ],
      "text/plain": [
       "<IPython.core.display.Javascript object>"
      ]
     },
     "metadata": {},
     "output_type": "display_data"
    },
    {
     "data": {
      "application/javascript": [
       "\n",
       "        $('span:contains(\"# Temp\")').closest('.cell').remove();\n",
       "        var code = IPython.notebook.insert_cell_below('code');\n",
       "        code.set_text(atob(\"IyBUZW1wCmluc2VydCgnJycKcHJhaGFsYWQxOTk5YSA9IERCKFdvcmtVbnJlbGF0ZWQoCiAgICAxOTk5LCAiVGhlIG5ldyBtZWFuaW5nIG9mIHF1YWxpdHkgaW4gdGhlIGluZm9ybWF0aW9uIGFnZSIsCiAgICBkaXNwbGF5PSJwcmFoYWxhZCIsCiAgICBhdXRob3JzPSJQcmFoYWxhZCwgQy5LLiIsCiAgICBwbGFjZT1GQUtFLAogICAgcHA9IjEwOS0xMTgiLAogICAgZW50cnl0eXBlPSJhcnRpY2xlIiwKICAgIG5vdGU9ImNpdGVkIEJ5IDEiLAogICAgSUQ9IlByYWhhbGFkMTk5OTEwOSIsCiAgICBwbGFjZXg9IkhhcnZhcmQgQnVzaW5lc3MiLAopKQoKREIoQ2l0YXRpb24oCiAgICBhbGJ1cXVlcnF1ZTIwMDlhLCBwcmFoYWxhZDE5OTlhLCByZWY9IiIsCiAgICBjb250ZXh0cz1bCgogICAgXSwKKSkKCicnJywgY2l0YXRpb25zPSdhbGJ1cXVlcnF1ZTIwMDlhJyk7\"));\n",
       "    "
      ],
      "text/plain": [
       "<IPython.core.display.Javascript object>"
      ]
     },
     "metadata": {},
     "output_type": "display_data"
    },
    {
     "data": {
      "application/javascript": [
       "$('span:contains(\"# Temp\")').closest('.cell').remove();"
      ],
      "text/plain": [
       "<IPython.core.display.Javascript object>"
      ]
     },
     "metadata": {},
     "output_type": "display_data"
    },
    {
     "data": {
      "application/javascript": [
       "\n",
       "        $('span:contains(\"# Temp\")').closest('.cell').remove();\n",
       "        var code = IPython.notebook.insert_cell_below('code');\n",
       "        code.set_text(atob(\"IyBUZW1wCmluc2VydCgnJycKcmVlZDIwMDBhID0gREIoV29ya1VucmVsYXRlZCgKICAgIDIwMDAsICJTb2Z0d2FyZSBlbmdpbmVlcmluZyAtIGEgbmV3IG1pbGxlbml1bT8iLAogICAgZGlzcGxheT0icmVlZCIsCiAgICBhdXRob3JzPSJSZWVkLCBLLiIsCiAgICBwbGFjZT1JRUVFUywKICAgIGVudHJ5dHlwZT0iYXJ0aWNsZSIsCiAgICBub3RlPSJjaXRlZCBCeSAxIiwKICAgIElEPSJSZWVkMjAwMCIsCiAgICBwbGFjZXg9IklFRUUgU29mdHdhcmUiLAopKQoKREIoQ2l0YXRpb24oCiAgICBhbGJ1cXVlcnF1ZTIwMDlhLCByZWVkMjAwMGEsIHJlZj0iIiwKICAgIGNvbnRleHRzPVsKCiAgICBdLAopKQoKJycnLCBjaXRhdGlvbnM9J2FsYnVxdWVycXVlMjAwOWEnKTs=\"));\n",
       "    "
      ],
      "text/plain": [
       "<IPython.core.display.Javascript object>"
      ]
     },
     "metadata": {},
     "output_type": "display_data"
    },
    {
     "data": {
      "application/javascript": [
       "$('span:contains(\"# Temp\")').closest('.cell').remove();"
      ],
      "text/plain": [
       "<IPython.core.display.Javascript object>"
      ]
     },
     "metadata": {},
     "output_type": "display_data"
    },
    {
     "data": {
      "application/javascript": [
       "\n",
       "        $('span:contains(\"# Temp\")').closest('.cell').remove();\n",
       "        var code = IPython.notebook.insert_cell_below('code');\n",
       "        code.set_text(atob(\"IyBUZW1wCmluc2VydCgnJycKcmVlZDIwMDBhID0gREIoV29ya1VucmVsYXRlZCgKICAgIDIwMDAsICJTb2Z0d2FyZSBlbmdpbmVlcmluZyAtIGEgbmV3IG1pbGxlbml1bT8iLAogICAgZGlzcGxheT0icmVlZCIsCiAgICBhdXRob3JzPSJSZWVkLCBLLiIsCiAgICBwbGFjZT1JRUVFUywKICAgIGVudHJ5dHlwZT0iYXJ0aWNsZSIsCiAgICBub3RlPSJjaXRlZCBCeSAxIiwKICAgIElEPSJSZWVkMjAwMCIsCiAgICBwbGFjZXg9IklFRUUgU29mdHdhcmUiLAopKQoKREIoQ2l0YXRpb24oCiAgICBhbGJ1cXVlcnF1ZTIwMDlhLCByZWVkMjAwMGEsIHJlZj0iIiwKICAgIGNvbnRleHRzPVsKCiAgICBdLAopKQoKJycnLCBjaXRhdGlvbnM9J2FsYnVxdWVycXVlMjAwOWEnKTs=\"));\n",
       "    "
      ],
      "text/plain": [
       "<IPython.core.display.Javascript object>"
      ]
     },
     "metadata": {},
     "output_type": "display_data"
    },
    {
     "data": {
      "application/javascript": [
       "$('span:contains(\"# Temp\")').closest('.cell').remove();"
      ],
      "text/plain": [
       "<IPython.core.display.Javascript object>"
      ]
     },
     "metadata": {},
     "output_type": "display_data"
    },
    {
     "data": {
      "application/javascript": [
       "\n",
       "        $('span:contains(\"# Temp\")').closest('.cell').remove();\n",
       "        var code = IPython.notebook.insert_cell_below('code');\n",
       "        code.set_text(atob(\"IyBUZW1wCmluc2VydCgnJycKa2FwbGFuMjAwMGEgPSBEQihXb3JrVW5yZWxhdGVkKAogICAgMjAwMCwgIlRoZSBCYWxhbmNlZCBTY29yZWNhcmQ6IE1lYXN1cmVzIHRoYXQgRHJpdmUgUGVyZm9ybWFuY2UiLAogICAgZGlzcGxheT0ia2FwbGFuIiwKICAgIGF1dGhvcnM9IkthcGxhbiwgUi5TLiBhbmQgTm9ydG9uLCBELlAuIiwKICAgIHBsYWNlPUZBS0UsCiAgICBlbnRyeXR5cGU9ImFydGljbGUiLAogICAgbm90ZT0iY2l0ZWQgQnkgMjAyIiwKICAgIElEPSJLYXBsYW4yMDAwIiwKICAgIHBsYWNleD0iSGFydmFyZCBCdXNpbmVzcyBSZXZpZXcgSmFudWFyeS9GZWJ1YXJ5IiwKKSkKCkRCKENpdGF0aW9uKAogICAgYWxidXF1ZXJxdWUyMDA5YSwga2FwbGFuMjAwMGEsIHJlZj0iIiwKICAgIGNvbnRleHRzPVsKCiAgICBdLAopKQoKJycnLCBjaXRhdGlvbnM9J2FsYnVxdWVycXVlMjAwOWEnKTs=\"));\n",
       "    "
      ],
      "text/plain": [
       "<IPython.core.display.Javascript object>"
      ]
     },
     "metadata": {},
     "output_type": "display_data"
    },
    {
     "data": {
      "application/javascript": [
       "$('span:contains(\"# Temp\")').closest('.cell').remove();"
      ],
      "text/plain": [
       "<IPython.core.display.Javascript object>"
      ]
     },
     "metadata": {},
     "output_type": "display_data"
    },
    {
     "data": {
      "application/javascript": [
       "\n",
       "        $('span:contains(\"# Temp\")').closest('.cell').remove();\n",
       "        var code = IPython.notebook.insert_cell_below('code');\n",
       "        code.set_text(atob(\"IyBUZW1wCmluc2VydCgnJycKa2FwbGFuMjAwMGEgPSBEQihXb3JrVW5yZWxhdGVkKAogICAgMjAwMCwgIlRoZSBCYWxhbmNlZCBTY29yZWNhcmQ6IE1lYXN1cmVzIHRoYXQgRHJpdmUgUGVyZm9ybWFuY2UiLAogICAgZGlzcGxheT0ia2FwbGFuIiwKICAgIGF1dGhvcnM9IkthcGxhbiwgUi5TLiBhbmQgTm9ydG9uLCBELlAuIiwKICAgIHBsYWNlPUZBS0UsCiAgICBlbnRyeXR5cGU9ImFydGljbGUiLAogICAgbm90ZT0iY2l0ZWQgQnkgMjAyIiwKICAgIElEPSJLYXBsYW4yMDAwIiwKICAgIHBsYWNleD0iSGFydmFyZCBCdXNpbmVzcyBSZXZpZXcgSmFudWFyeS9GZWJ1YXJ5IiwKKSkKCkRCKENpdGF0aW9uKAogICAgYWxidXF1ZXJxdWUyMDA5YSwga2FwbGFuMjAwMGEsIHJlZj0iIiwKICAgIGNvbnRleHRzPVsKCiAgICBdLAopKQoKJycnLCBjaXRhdGlvbnM9J2FsYnVxdWVycXVlMjAwOWEnKTs=\"));\n",
       "    "
      ],
      "text/plain": [
       "<IPython.core.display.Javascript object>"
      ]
     },
     "metadata": {},
     "output_type": "display_data"
    },
    {
     "data": {
      "application/javascript": [
       "$('span:contains(\"# Temp\")').closest('.cell').remove();"
      ],
      "text/plain": [
       "<IPython.core.display.Javascript object>"
      ]
     },
     "metadata": {},
     "output_type": "display_data"
    },
    {
     "data": {
      "application/javascript": [
       "\n",
       "        $('span:contains(\"# Temp\")').closest('.cell').remove();\n",
       "        var code = IPython.notebook.insert_cell_below('code');\n",
       "        code.set_text(atob(\"IyBUZW1wCmluc2VydCgnJycKd3JpZ2h0MjAwMGEgPSBEQihXb3JrVW5yZWxhdGVkKAogICAgMjAwMCwgIlN0cmF0ZWdpYyBBZG1pbmlzdHJhdGlvbiIsCiAgICBkaXNwbGF5PSJ3cmlnaHQiLAogICAgYXV0aG9ycz0iV3JpZ2h0LCBQLiBhbmQgS3JvbGwsIE0uSi4gYW5kIFBhcm5lbGwsIEouIiwKICAgIHBsYWNlPUZBS0UsCiAgICBlbnRyeXR5cGU9ImFydGljbGUiLAogICAgbm90ZT0iY2l0ZWQgQnkgMSIsCiAgICBJRD0iV3JpZ2h0MjAwMCIsCiAgICBwbGFjZXg9IkF0bGFzIiwKKSkKCkRCKENpdGF0aW9uKAogICAgYWxidXF1ZXJxdWUyMDA5YSwgd3JpZ2h0MjAwMGEsIHJlZj0iIiwKICAgIGNvbnRleHRzPVsKCiAgICBdLAopKQoKJycnLCBjaXRhdGlvbnM9J2FsYnVxdWVycXVlMjAwOWEnKTs=\"));\n",
       "    "
      ],
      "text/plain": [
       "<IPython.core.display.Javascript object>"
      ]
     },
     "metadata": {},
     "output_type": "display_data"
    },
    {
     "data": {
      "application/javascript": [
       "$('span:contains(\"# Temp\")').closest('.cell').remove();"
      ],
      "text/plain": [
       "<IPython.core.display.Javascript object>"
      ]
     },
     "metadata": {},
     "output_type": "display_data"
    },
    {
     "data": {
      "application/javascript": [
       "\n",
       "        $('span:contains(\"# Temp\")').closest('.cell').remove();\n",
       "        var code = IPython.notebook.insert_cell_below('code');\n",
       "        code.set_text(atob(\"IyBUZW1wCmluc2VydCgnJycKd3JpZ2h0MjAwMGEgPSBEQihXb3JrVW5yZWxhdGVkKAogICAgMjAwMCwgIlN0cmF0ZWdpYyBBZG1pbmlzdHJhdGlvbiIsCiAgICBkaXNwbGF5PSJ3cmlnaHQiLAogICAgYXV0aG9ycz0iV3JpZ2h0LCBQLiBhbmQgS3JvbGwsIE0uSi4gYW5kIFBhcm5lbGwsIEouIiwKICAgIHBsYWNlPUZBS0UsCiAgICBlbnRyeXR5cGU9ImFydGljbGUiLAogICAgbm90ZT0iY2l0ZWQgQnkgMSIsCiAgICBJRD0iV3JpZ2h0MjAwMCIsCiAgICBwbGFjZXg9IkF0bGFzIiwKKSkKCkRCKENpdGF0aW9uKAogICAgYWxidXF1ZXJxdWUyMDA5YSwgd3JpZ2h0MjAwMGEsIHJlZj0iIiwKICAgIGNvbnRleHRzPVsKCiAgICBdLAopKQoKJycnLCBjaXRhdGlvbnM9J2FsYnVxdWVycXVlMjAwOWEnKTs=\"));\n",
       "    "
      ],
      "text/plain": [
       "<IPython.core.display.Javascript object>"
      ]
     },
     "metadata": {},
     "output_type": "display_data"
    },
    {
     "data": {
      "application/javascript": [
       "$('span:contains(\"# Temp\")').closest('.cell').remove();"
      ],
      "text/plain": [
       "<IPython.core.display.Javascript object>"
      ]
     },
     "metadata": {},
     "output_type": "display_data"
    },
    {
     "data": {
      "application/javascript": [
       "\n",
       "        $('span:contains(\"# Temp\")').closest('.cell').remove();\n",
       "        var code = IPython.notebook.insert_cell_below('code');\n",
       "        code.set_text(atob(\"IyBUZW1wCmluc2VydCgnJycKMjAwMGEgPSBEQihXb3JrVW5yZWxhdGVkKAogICAgMjAwMCwgIkR0cmF0ZWdpYyBQbGFubmluZyIsCiAgICBkaXNwbGF5PSIiLAogICAgYXV0aG9ycz0iVGhvbXBzb24gSnIuLCBBLkEuLCBTdHJpY2tsYW5kIElJSSwgQS5KLiIsCiAgICBwbGFjZT1GQUtFLAogICAgZW50cnl0eXBlPSJhcnRpY2xlIiwKICAgIG5vdGU9ImNpdGVkIEJ5IDEiLAogICAgSUQ9IlRob21wc29uMjAwMCIsCiAgICBwbGFjZXg9IlBpb25laXJhLCBT428gUGF1bG8iLAopKQoKREIoQ2l0YXRpb24oCiAgICBhbGJ1cXVlcnF1ZTIwMDlhLCAyMDAwYSwgcmVmPSIiLAogICAgY29udGV4dHM9WwoKICAgIF0sCikpCgonJycsIGNpdGF0aW9ucz0nYWxidXF1ZXJxdWUyMDA5YScpOw==\"));\n",
       "    "
      ],
      "text/plain": [
       "<IPython.core.display.Javascript object>"
      ]
     },
     "metadata": {},
     "output_type": "display_data"
    },
    {
     "data": {
      "application/javascript": [
       "$('span:contains(\"# Temp\")').closest('.cell').remove();"
      ],
      "text/plain": [
       "<IPython.core.display.Javascript object>"
      ]
     },
     "metadata": {},
     "output_type": "display_data"
    },
    {
     "data": {
      "application/javascript": [
       "\n",
       "        $('span:contains(\"# Temp\")').closest('.cell').remove();\n",
       "        var code = IPython.notebook.insert_cell_below('code');\n",
       "        code.set_text(atob(\"IyBUZW1wCmluc2VydCgnJycKMjAwMGEgPSBEQihXb3JrVW5yZWxhdGVkKAogICAgMjAwMCwgIkR0cmF0ZWdpYyBQbGFubmluZyIsCiAgICBkaXNwbGF5PSIiLAogICAgYXV0aG9ycz0iVGhvbXBzb24gSnIuLCBBLkEuLCBTdHJpY2tsYW5kIElJSSwgQS5KLiIsCiAgICBwbGFjZT1GQUtFLAogICAgZW50cnl0eXBlPSJhcnRpY2xlIiwKICAgIG5vdGU9ImNpdGVkIEJ5IDEiLAogICAgSUQ9IlRob21wc29uMjAwMCIsCiAgICBwbGFjZXg9IlBpb25laXJhLCBT428gUGF1bG8iLAopKQoKREIoQ2l0YXRpb24oCiAgICBhbGJ1cXVlcnF1ZTIwMDlhLCAyMDAwYSwgcmVmPSIiLAogICAgY29udGV4dHM9WwoKICAgIF0sCikpCgonJycsIGNpdGF0aW9ucz0nYWxidXF1ZXJxdWUyMDA5YScpOw==\"));\n",
       "    "
      ],
      "text/plain": [
       "<IPython.core.display.Javascript object>"
      ]
     },
     "metadata": {},
     "output_type": "display_data"
    },
    {
     "data": {
      "application/javascript": [
       "$('span:contains(\"# Temp\")').closest('.cell').remove();"
      ],
      "text/plain": [
       "<IPython.core.display.Javascript object>"
      ]
     },
     "metadata": {},
     "output_type": "display_data"
    },
    {
     "data": {
      "application/javascript": [
       "\n",
       "        $('span:contains(\"# Temp\")').closest('.cell').remove();\n",
       "        var code = IPython.notebook.insert_cell_below('code');\n",
       "        code.set_text(atob(\"IyBUZW1wCmluc2VydCgnJycKbGF3cmVuY2UyMDAxYSA9IERCKFdvcmtVbnJlbGF0ZWQoCiAgICAyMDAxLCAiUGVyZm9ybWFuY2UgbWVhc3VyZW1lbnQgcHJhY3RpY2VzOiBBIGxvbmcgd2F5IGZyb20gc3RyYXRlZ3kgbWFuYWdlbWVudCIsCiAgICBkaXNwbGF5PSJsYXdyZW5jZSIsCiAgICBhdXRob3JzPSJNYWlzZWwgTGF3cmVuY2UsIFMuIiwKICAgIHBsYWNlPUZBS0UsCiAgICBlbnRyeXR5cGU9ImFydGljbGUiLAogICAgbm90ZT0iY2l0ZWQgQnkgMiIsCiAgICBJRD0iTWFpc2VsTGF3cmVuY2UyMDAxIiwKICAgIHBsYWNleD0iVGhlIEJhbGFuY2VkIFNjb3JlY2FyZCBSZXBvcnQiLAopKQoKREIoQ2l0YXRpb24oCiAgICBhbGJ1cXVlcnF1ZTIwMDlhLCBsYXdyZW5jZTIwMDFhLCByZWY9IiIsCiAgICBjb250ZXh0cz1bCgogICAgXSwKKSkKCicnJywgY2l0YXRpb25zPSdhbGJ1cXVlcnF1ZTIwMDlhJyk7\"));\n",
       "    "
      ],
      "text/plain": [
       "<IPython.core.display.Javascript object>"
      ]
     },
     "metadata": {},
     "output_type": "display_data"
    },
    {
     "data": {
      "application/javascript": [
       "$('span:contains(\"# Temp\")').closest('.cell').remove();"
      ],
      "text/plain": [
       "<IPython.core.display.Javascript object>"
      ]
     },
     "metadata": {},
     "output_type": "display_data"
    },
    {
     "data": {
      "application/javascript": [
       "\n",
       "        $('span:contains(\"# Temp\")').closest('.cell').remove();\n",
       "        var code = IPython.notebook.insert_cell_below('code');\n",
       "        code.set_text(atob(\"IyBUZW1wCmluc2VydCgnJycKbGF3cmVuY2UyMDAxYSA9IERCKFdvcmtVbnJlbGF0ZWQoCiAgICAyMDAxLCAiUGVyZm9ybWFuY2UgbWVhc3VyZW1lbnQgcHJhY3RpY2VzOiBBIGxvbmcgd2F5IGZyb20gc3RyYXRlZ3kgbWFuYWdlbWVudCIsCiAgICBkaXNwbGF5PSJsYXdyZW5jZSIsCiAgICBhdXRob3JzPSJNYWlzZWwgTGF3cmVuY2UsIFMuIiwKICAgIHBsYWNlPUZBS0UsCiAgICBlbnRyeXR5cGU9ImFydGljbGUiLAogICAgbm90ZT0iY2l0ZWQgQnkgMiIsCiAgICBJRD0iTWFpc2VsTGF3cmVuY2UyMDAxIiwKICAgIHBsYWNleD0iVGhlIEJhbGFuY2VkIFNjb3JlY2FyZCBSZXBvcnQiLAopKQoKREIoQ2l0YXRpb24oCiAgICBhbGJ1cXVlcnF1ZTIwMDlhLCBsYXdyZW5jZTIwMDFhLCByZWY9IiIsCiAgICBjb250ZXh0cz1bCgogICAgXSwKKSkKCicnJywgY2l0YXRpb25zPSdhbGJ1cXVlcnF1ZTIwMDlhJyk7\"));\n",
       "    "
      ],
      "text/plain": [
       "<IPython.core.display.Javascript object>"
      ]
     },
     "metadata": {},
     "output_type": "display_data"
    },
    {
     "data": {
      "application/javascript": [
       "$('span:contains(\"# Temp\")').closest('.cell').remove();"
      ],
      "text/plain": [
       "<IPython.core.display.Javascript object>"
      ]
     },
     "metadata": {},
     "output_type": "display_data"
    },
    {
     "data": {
      "application/javascript": [
       "\n",
       "        $('span:contains(\"# Temp\")').closest('.cell').remove();\n",
       "        var code = IPython.notebook.insert_cell_below('code');\n",
       "        code.set_text(atob(\"IyBUZW1wCmluc2VydCgnJycKbWNuYWlyMTk5MGEgPSBEQihXb3JrVW5yZWxhdGVkKAogICAgMTk5MCwgIkRvIGZpbmFuY2lhbCBhbmQgbm9uZmluYW5jaWFsIHBlcmZvcm1hbmNlIG1lYXN1cmVzIGhhdmUgdG8gYWdyZWU/IiwKICAgIGRpc3BsYXk9Im1jbmFpciIsCiAgICBhdXRob3JzPSJNY05haXIsIEMuSi4gYW5kIEx5bmNoLCBSLkwuIGFuZCBDcm9zcywgSy5GLiIsCiAgICBwbGFjZT1GQUtFLAogICAgcHA9IjI4LTM2IiwKICAgIGVudHJ5dHlwZT0iYXJ0aWNsZSIsCiAgICBudW1iZXI9IjUiLAogICAgbm90ZT0iY2l0ZWQgQnkgMTA0IiwKICAgIElEPSJNY05haXIxOTkwMjgiLAogICAgcGxhY2V4PSJNYW5hZ2VtZW50IEFjY291bnRpbmciLAopKQoKREIoQ2l0YXRpb24oCiAgICBhbGJ1cXVlcnF1ZTIwMDlhLCBtY25haXIxOTkwYSwgcmVmPSIiLAogICAgY29udGV4dHM9WwoKICAgIF0sCikpCgonJycsIGNpdGF0aW9ucz0nYWxidXF1ZXJxdWUyMDA5YScpOw==\"));\n",
       "    "
      ],
      "text/plain": [
       "<IPython.core.display.Javascript object>"
      ]
     },
     "metadata": {},
     "output_type": "display_data"
    },
    {
     "data": {
      "application/javascript": [
       "$('span:contains(\"# Temp\")').closest('.cell').remove();"
      ],
      "text/plain": [
       "<IPython.core.display.Javascript object>"
      ]
     },
     "metadata": {},
     "output_type": "display_data"
    },
    {
     "data": {
      "application/javascript": [
       "\n",
       "        $('span:contains(\"# Temp\")').closest('.cell').remove();\n",
       "        var code = IPython.notebook.insert_cell_below('code');\n",
       "        code.set_text(atob(\"IyBUZW1wCmluc2VydCgnJycKbWNuYWlyMTk5MGEgPSBEQihXb3JrVW5yZWxhdGVkKAogICAgMTk5MCwgIkRvIGZpbmFuY2lhbCBhbmQgbm9uZmluYW5jaWFsIHBlcmZvcm1hbmNlIG1lYXN1cmVzIGhhdmUgdG8gYWdyZWU/IiwKICAgIGRpc3BsYXk9Im1jbmFpciIsCiAgICBhdXRob3JzPSJNY05haXIsIEMuSi4gYW5kIEx5bmNoLCBSLkwuIGFuZCBDcm9zcywgSy5GLiIsCiAgICBwbGFjZT1GQUtFLAogICAgcHA9IjI4LTM2IiwKICAgIGVudHJ5dHlwZT0iYXJ0aWNsZSIsCiAgICBudW1iZXI9IjUiLAogICAgbm90ZT0iY2l0ZWQgQnkgMTA0IiwKICAgIElEPSJNY05haXIxOTkwMjgiLAogICAgcGxhY2V4PSJNYW5hZ2VtZW50IEFjY291bnRpbmciLAopKQoKREIoQ2l0YXRpb24oCiAgICBhbGJ1cXVlcnF1ZTIwMDlhLCBtY25haXIxOTkwYSwgcmVmPSIiLAogICAgY29udGV4dHM9WwoKICAgIF0sCikpCgonJycsIGNpdGF0aW9ucz0nYWxidXF1ZXJxdWUyMDA5YScpOw==\"));\n",
       "    "
      ],
      "text/plain": [
       "<IPython.core.display.Javascript object>"
      ]
     },
     "metadata": {},
     "output_type": "display_data"
    },
    {
     "data": {
      "application/javascript": [
       "$('span:contains(\"# Temp\")').closest('.cell').remove();"
      ],
      "text/plain": [
       "<IPython.core.display.Javascript object>"
      ]
     },
     "metadata": {},
     "output_type": "display_data"
    },
    {
     "data": {
      "application/javascript": [
       "\n",
       "        $('span:contains(\"# Temp\")').closest('.cell').remove();\n",
       "        var code = IPython.notebook.insert_cell_below('code');\n",
       "        code.set_text(atob(\"IyBUZW1wCmluc2VydCgnJycKYWRhbXMxOTkzYSA9IERCKFdvcmtVbnJlbGF0ZWQoCiAgICAxOTkzLCAiWW91IEFyZSBXaGF0IFlvdSBNZWFzdXJlIiwKICAgIGRpc3BsYXk9ImFkYW1zIiwKICAgIGF1dGhvcnM9IkFkYW1zLCBDLiBhbmQgUm9iZXJ0cywgUC4iLAogICAgcGxhY2U9RkFLRSwKICAgIHBwPSI1MDQtNTA3IiwKICAgIGVudHJ5dHlwZT0iYXJ0aWNsZSIsCiAgICBub3RlPSJjaXRlZCBCeSAzIiwKICAgIElEPSJBZGFtczE5OTM1MDQiLAogICAgcGxhY2V4PSJNYW51ZmFjdHVyaW5nIEV1cm9wZSIsCikpCgpEQihDaXRhdGlvbigKICAgIGFsYnVxdWVycXVlMjAwOWEsIGFkYW1zMTk5M2EsIHJlZj0iIiwKICAgIGNvbnRleHRzPVsKCiAgICBdLAopKQoKJycnLCBjaXRhdGlvbnM9J2FsYnVxdWVycXVlMjAwOWEnKTs=\"));\n",
       "    "
      ],
      "text/plain": [
       "<IPython.core.display.Javascript object>"
      ]
     },
     "metadata": {},
     "output_type": "display_data"
    },
    {
     "data": {
      "application/javascript": [
       "$('span:contains(\"# Temp\")').closest('.cell').remove();"
      ],
      "text/plain": [
       "<IPython.core.display.Javascript object>"
      ]
     },
     "metadata": {},
     "output_type": "display_data"
    },
    {
     "data": {
      "application/javascript": [
       "\n",
       "        $('span:contains(\"# Temp\")').closest('.cell').remove();\n",
       "        var code = IPython.notebook.insert_cell_below('code');\n",
       "        code.set_text(atob(\"IyBUZW1wCmluc2VydCgnJycKYWRhbXMxOTkzYSA9IERCKFdvcmtVbnJlbGF0ZWQoCiAgICAxOTkzLCAiWW91IEFyZSBXaGF0IFlvdSBNZWFzdXJlIiwKICAgIGRpc3BsYXk9ImFkYW1zIiwKICAgIGF1dGhvcnM9IkFkYW1zLCBDLiBhbmQgUm9iZXJ0cywgUC4iLAogICAgcGxhY2U9RkFLRSwKICAgIHBwPSI1MDQtNTA3IiwKICAgIGVudHJ5dHlwZT0iYXJ0aWNsZSIsCiAgICBub3RlPSJjaXRlZCBCeSAzIiwKICAgIElEPSJBZGFtczE5OTM1MDQiLAogICAgcGxhY2V4PSJNYW51ZmFjdHVyaW5nIEV1cm9wZSIsCikpCgpEQihDaXRhdGlvbigKICAgIGFsYnVxdWVycXVlMjAwOWEsIGFkYW1zMTk5M2EsIHJlZj0iIiwKICAgIGNvbnRleHRzPVsKCiAgICBdLAopKQoKJycnLCBjaXRhdGlvbnM9J2FsYnVxdWVycXVlMjAwOWEnKTs=\"));\n",
       "    "
      ],
      "text/plain": [
       "<IPython.core.display.Javascript object>"
      ]
     },
     "metadata": {},
     "output_type": "display_data"
    },
    {
     "data": {
      "application/javascript": [
       "$('span:contains(\"# Temp\")').closest('.cell').remove();"
      ],
      "text/plain": [
       "<IPython.core.display.Javascript object>"
      ]
     },
     "metadata": {},
     "output_type": "display_data"
    },
    {
     "data": {
      "application/javascript": [
       "\n",
       "        $('span:contains(\"# Temp\")').closest('.cell').remove();\n",
       "        var code = IPython.notebook.insert_cell_below('code');\n",
       "        code.set_text(atob(\"IyBUZW1wCmluc2VydCgnJycKa2ltMTk5NWEgPSBEQihXb3JrVW5yZWxhdGVkKAogICAgMTk5NSwgIkJsdWUgT2NlYW4gU3RyYXRlZ3kiLAogICAgZGlzcGxheT0ia2ltIiwKICAgIGF1dGhvcnM9IktpbSwgVy5DLiBhbmQgTWF1Ym9yZ25lLCBSLiIsCiAgICBwbGFjZT1GQUtFLAogICAgZW50cnl0eXBlPSJhcnRpY2xlIiwKICAgIG5vdGU9ImNpdGVkIEJ5IDEiLAogICAgSUQ9IktpbTE5OTUiLAogICAgcGxhY2V4PSJDYW1wdXMsIFPjbyBQYXVsbyIsCikpCgpEQihDaXRhdGlvbigKICAgIGFsYnVxdWVycXVlMjAwOWEsIGtpbTE5OTVhLCByZWY9IiIsCiAgICBjb250ZXh0cz1bCgogICAgXSwKKSkKCicnJywgY2l0YXRpb25zPSdhbGJ1cXVlcnF1ZTIwMDlhJyk7\"));\n",
       "    "
      ],
      "text/plain": [
       "<IPython.core.display.Javascript object>"
      ]
     },
     "metadata": {},
     "output_type": "display_data"
    },
    {
     "data": {
      "application/javascript": [
       "$('span:contains(\"# Temp\")').closest('.cell').remove();"
      ],
      "text/plain": [
       "<IPython.core.display.Javascript object>"
      ]
     },
     "metadata": {},
     "output_type": "display_data"
    },
    {
     "data": {
      "application/javascript": [
       "\n",
       "        $('span:contains(\"# Temp\")').closest('.cell').remove();\n",
       "        var code = IPython.notebook.insert_cell_below('code');\n",
       "        code.set_text(atob(\"IyBUZW1wCmluc2VydCgnJycKa2ltMTk5NWEgPSBEQihXb3JrVW5yZWxhdGVkKAogICAgMTk5NSwgIkJsdWUgT2NlYW4gU3RyYXRlZ3kiLAogICAgZGlzcGxheT0ia2ltIiwKICAgIGF1dGhvcnM9IktpbSwgVy5DLiBhbmQgTWF1Ym9yZ25lLCBSLiIsCiAgICBwbGFjZT1GQUtFLAogICAgZW50cnl0eXBlPSJhcnRpY2xlIiwKICAgIG5vdGU9ImNpdGVkIEJ5IDEiLAogICAgSUQ9IktpbTE5OTUiLAogICAgcGxhY2V4PSJDYW1wdXMsIFPjbyBQYXVsbyIsCikpCgpEQihDaXRhdGlvbigKICAgIGFsYnVxdWVycXVlMjAwOWEsIGtpbTE5OTVhLCByZWY9IiIsCiAgICBjb250ZXh0cz1bCgogICAgXSwKKSkKCicnJywgY2l0YXRpb25zPSdhbGJ1cXVlcnF1ZTIwMDlhJyk7\"));\n",
       "    "
      ],
      "text/plain": [
       "<IPython.core.display.Javascript object>"
      ]
     },
     "metadata": {},
     "output_type": "display_data"
    },
    {
     "data": {
      "application/javascript": [
       "$('span:contains(\"# Temp\")').closest('.cell').remove();"
      ],
      "text/plain": [
       "<IPython.core.display.Javascript object>"
      ]
     },
     "metadata": {},
     "output_type": "display_data"
    },
    {
     "data": {
      "application/javascript": [
       "\n",
       "        $('span:contains(\"# Temp\")').closest('.cell').remove();\n",
       "        var code = IPython.notebook.insert_cell_below('code');\n",
       "        code.set_text(atob(\"IyBUZW1wCmluc2VydCgnJycKZHli5TIwMDNiID0gREIoV29ya1VucmVsYXRlZCgKICAgIDIwMDMsICJGYWN0b3JzIG9mIFNvZnR3YXJlIFByb2Nlc3MgSW1wcm92ZW1lbnQgU3VjY2VzcyBpbiBTbWFsbCBhbmQgTGFyZ2UgT3JnYW5pemF0aW9uczogQW4gRW1waXJpY2FsIFN0dWR5IGluIHRoZSBTY2FuZGluYXZpYW4gQ29udGV4dCIsCiAgICBkaXNwbGF5PSJkeWLlIGIiLAogICAgYXV0aG9ycz0iRHli5SwgVC4iLAogICAgcGxhY2U9U0lHU09GVCwKICAgIHBwPSIxNDgtMTU3IiwKICAgIGVudHJ5dHlwZT0iY29uZmVyZW5jZSIsCiAgICBub3RlPSJjaXRlZCBCeSA1MSIsCiAgICBJRD0iRHli5TIwMDMxNDgiLAogICAgcGxhY2V4PSJQcm9jZWVkaW5ncyBvZiB0aGUgSm9pbnQgRXVyb3BlYW4gU29mdHdhcmUgRW5naW5lZXJpbmcgQ29uZmVyZW5jZSAoRVNFQykgYW5kIFNJR1NPRlQgU3ltcG9zaXVtIG9uIHRoZSBGb3VuZGF0aW9ucyBvZiBTb2Z0d2FyZSBFbmdpbmVlcmluZyAoRlNFLTExKSIsCikpCgpEQihDaXRhdGlvbigKICAgIGFsYnVxdWVycXVlMjAwOWEsIGR5YuUyMDAzYiwgcmVmPSIiLAogICAgY29udGV4dHM9WwoKICAgIF0sCikpCgonJycsIGNpdGF0aW9ucz0nYWxidXF1ZXJxdWUyMDA5YScpOw==\"));\n",
       "    "
      ],
      "text/plain": [
       "<IPython.core.display.Javascript object>"
      ]
     },
     "metadata": {},
     "output_type": "display_data"
    },
    {
     "data": {
      "application/javascript": [
       "$('span:contains(\"# Temp\")').closest('.cell').remove();"
      ],
      "text/plain": [
       "<IPython.core.display.Javascript object>"
      ]
     },
     "metadata": {},
     "output_type": "display_data"
    },
    {
     "data": {
      "application/javascript": [
       "\n",
       "        $('span:contains(\"# Temp\")').closest('.cell').remove();\n",
       "        var code = IPython.notebook.insert_cell_below('code');\n",
       "        code.set_text(atob(\"IyBUZW1wCmluc2VydCgnJycKZHli5TIwMDNiID0gREIoV29ya1VucmVsYXRlZCgKICAgIDIwMDMsICJGYWN0b3JzIG9mIFNvZnR3YXJlIFByb2Nlc3MgSW1wcm92ZW1lbnQgU3VjY2VzcyBpbiBTbWFsbCBhbmQgTGFyZ2UgT3JnYW5pemF0aW9uczogQW4gRW1waXJpY2FsIFN0dWR5IGluIHRoZSBTY2FuZGluYXZpYW4gQ29udGV4dCIsCiAgICBkaXNwbGF5PSJkeWLlIGIiLAogICAgYXV0aG9ycz0iRHli5SwgVC4iLAogICAgcGxhY2U9U0lHU09GVCwKICAgIHBwPSIxNDgtMTU3IiwKICAgIGVudHJ5dHlwZT0iY29uZmVyZW5jZSIsCiAgICBub3RlPSJjaXRlZCBCeSA1MSIsCiAgICBJRD0iRHli5TIwMDMxNDgiLAogICAgcGxhY2V4PSJQcm9jZWVkaW5ncyBvZiB0aGUgSm9pbnQgRXVyb3BlYW4gU29mdHdhcmUgRW5naW5lZXJpbmcgQ29uZmVyZW5jZSAoRVNFQykgYW5kIFNJR1NPRlQgU3ltcG9zaXVtIG9uIHRoZSBGb3VuZGF0aW9ucyBvZiBTb2Z0d2FyZSBFbmdpbmVlcmluZyAoRlNFLTExKSIsCikpCgpEQihDaXRhdGlvbigKICAgIGFsYnVxdWVycXVlMjAwOWEsIGR5YuUyMDAzYiwgcmVmPSIiLAogICAgY29udGV4dHM9WwoKICAgIF0sCikpCgonJycsIGNpdGF0aW9ucz0nYWxidXF1ZXJxdWUyMDA5YScpOw==\"));\n",
       "    "
      ],
      "text/plain": [
       "<IPython.core.display.Javascript object>"
      ]
     },
     "metadata": {},
     "output_type": "display_data"
    },
    {
     "data": {
      "application/javascript": [
       "$('span:contains(\"# Temp\")').closest('.cell').remove();"
      ],
      "text/plain": [
       "<IPython.core.display.Javascript object>"
      ]
     },
     "metadata": {},
     "output_type": "display_data"
    },
    {
     "data": {
      "application/javascript": [
       "\n",
       "        $('span:contains(\"# Temp\")').closest('.cell').remove();\n",
       "        var code = IPython.notebook.insert_cell_below('code');\n",
       "        code.set_text(atob(\"IyBUZW1wCmluc2VydCgnJycKaGVmbmVyMjAwMWEgPSBEQihXb3JrVW5yZWxhdGVkKAogICAgMjAwMSwgIlRoaW5ncyBUaGV5IE5ldmVyIFRhdWdodCBZb3UgaW4gQ01NIFNjaG9vbCIsCiAgICBkaXNwbGF5PSJoZWZuZXIiLAogICAgYXV0aG9ycz0iSGVmbmVyLCBSLiwgVGF1c2VyLCBKLiIsCiAgICBwbGFjZT1GQUtFLAogICAgZW50cnl0eXBlPSJhcnRpY2xlIiwKICAgIG5vdGU9ImNpdGVkIEJ5IDEiLAogICAgSUQ9IkhlZm5lcjIwMDEiLAogICAgcGxhY2V4PSJQcm9jZWVkaW5ncyBvZiB0aGUgMjZ0aCBBbm51YWwgTkFTQSBHb2RkYXJkIFNvZnR3YXJlIEVuZ2luZWVyaW5nIFdvcmtzaG9wIiwKKSkKCkRCKENpdGF0aW9uKAogICAgYWxidXF1ZXJxdWUyMDA5YSwgaGVmbmVyMjAwMWEsIHJlZj0iIiwKICAgIGNvbnRleHRzPVsKCiAgICBdLAopKQoKJycnLCBjaXRhdGlvbnM9J2FsYnVxdWVycXVlMjAwOWEnKTs=\"));\n",
       "    "
      ],
      "text/plain": [
       "<IPython.core.display.Javascript object>"
      ]
     },
     "metadata": {},
     "output_type": "display_data"
    },
    {
     "data": {
      "application/javascript": [
       "$('span:contains(\"# Temp\")').closest('.cell').remove();"
      ],
      "text/plain": [
       "<IPython.core.display.Javascript object>"
      ]
     },
     "metadata": {},
     "output_type": "display_data"
    },
    {
     "data": {
      "application/javascript": [
       "\n",
       "        $('span:contains(\"# Temp\")').closest('.cell').remove();\n",
       "        var code = IPython.notebook.insert_cell_below('code');\n",
       "        code.set_text(atob(\"IyBUZW1wCmluc2VydCgnJycKaGVmbmVyMjAwMWEgPSBEQihXb3JrVW5yZWxhdGVkKAogICAgMjAwMSwgIlRoaW5ncyBUaGV5IE5ldmVyIFRhdWdodCBZb3UgaW4gQ01NIFNjaG9vbCIsCiAgICBkaXNwbGF5PSJoZWZuZXIiLAogICAgYXV0aG9ycz0iSGVmbmVyLCBSLiwgVGF1c2VyLCBKLiIsCiAgICBwbGFjZT1GQUtFLAogICAgZW50cnl0eXBlPSJhcnRpY2xlIiwKICAgIG5vdGU9ImNpdGVkIEJ5IDEiLAogICAgSUQ9IkhlZm5lcjIwMDEiLAogICAgcGxhY2V4PSJQcm9jZWVkaW5ncyBvZiB0aGUgMjZ0aCBBbm51YWwgTkFTQSBHb2RkYXJkIFNvZnR3YXJlIEVuZ2luZWVyaW5nIFdvcmtzaG9wIiwKKSkKCkRCKENpdGF0aW9uKAogICAgYWxidXF1ZXJxdWUyMDA5YSwgaGVmbmVyMjAwMWEsIHJlZj0iIiwKICAgIGNvbnRleHRzPVsKCiAgICBdLAopKQoKJycnLCBjaXRhdGlvbnM9J2FsYnVxdWVycXVlMjAwOWEnKTs=\"));\n",
       "    "
      ],
      "text/plain": [
       "<IPython.core.display.Javascript object>"
      ]
     },
     "metadata": {},
     "output_type": "display_data"
    },
    {
     "data": {
      "application/javascript": [
       "$('span:contains(\"# Temp\")').closest('.cell').remove();"
      ],
      "text/plain": [
       "<IPython.core.display.Javascript object>"
      ]
     },
     "metadata": {},
     "output_type": "display_data"
    },
    {
     "data": {
      "application/javascript": [
       "\n",
       "        $('span:contains(\"# Temp\")').closest('.cell').remove();\n",
       "        var code = IPython.notebook.insert_cell_below('code');\n",
       "        code.set_text(atob(\"IyBUZW1wCmluc2VydCgnJycKY2F0ZXIyMDA0YSA9IERCKFdvcmtVbnJlbGF0ZWQoCiAgICAyMDA0LCAiTG93LXJpZ291ciwgcmFwaWQgc29mdHdhcmUgcHJvY2VzcyBhc3Nlc3NtZW50cyBmb3Igc21hbGwgc29mdHdhcmUgZGV2ZWxvcG1lbnQgZmlybXMiLAogICAgZGlzcGxheT0iY2F0ZXIiLAogICAgYXV0aG9ycz0iQ2F0ZXItU3RlZWwsIEEuUC4iLAogICAgcGxhY2U9U0VDLAogICAgcHA9IjM2OC0zNzciLAogICAgZW50cnl0eXBlPSJjb25mZXJlbmNlIiwKICAgIHZvbHVtZT0iMjAwNCIsCiAgICBkb2k9IjEwLjExMDkvQVNXRUMuMjAwNC4xMjkwNDkwIiwKICAgIG5vdGU9ImNpdGVkIEJ5IDIzIiwKICAgIElEPSJDYXRlci1TdGVlbDIwMDQzNjgiLAogICAgcGxhY2V4PSJQcm9jZWVkaW5ncyBvZiB0aGUgQXVzdHJhbGlhbiBTb2Z0d2FyZSBFbmdpbmVlcmluZyBDb25mZXJlbmNlLCBBU1dFQyIsCikpCgpEQihDaXRhdGlvbigKICAgIGFsYnVxdWVycXVlMjAwOWEsIGNhdGVyMjAwNGEsIHJlZj0iIiwKICAgIGNvbnRleHRzPVsKCiAgICBdLAopKQoKJycnLCBjaXRhdGlvbnM9J2FsYnVxdWVycXVlMjAwOWEnKTs=\"));\n",
       "    "
      ],
      "text/plain": [
       "<IPython.core.display.Javascript object>"
      ]
     },
     "metadata": {},
     "output_type": "display_data"
    },
    {
     "data": {
      "application/javascript": [
       "$('span:contains(\"# Temp\")').closest('.cell').remove();"
      ],
      "text/plain": [
       "<IPython.core.display.Javascript object>"
      ]
     },
     "metadata": {},
     "output_type": "display_data"
    },
    {
     "data": {
      "application/javascript": [
       "\n",
       "        $('span:contains(\"# Temp\")').closest('.cell').remove();\n",
       "        var code = IPython.notebook.insert_cell_below('code');\n",
       "        code.set_text(atob(\"IyBUZW1wCmluc2VydCgnJycKY2F0ZXIyMDA0YSA9IERCKFdvcmtVbnJlbGF0ZWQoCiAgICAyMDA0LCAiTG93LXJpZ291ciwgcmFwaWQgc29mdHdhcmUgcHJvY2VzcyBhc3Nlc3NtZW50cyBmb3Igc21hbGwgc29mdHdhcmUgZGV2ZWxvcG1lbnQgZmlybXMiLAogICAgZGlzcGxheT0iY2F0ZXIiLAogICAgYXV0aG9ycz0iQ2F0ZXItU3RlZWwsIEEuUC4iLAogICAgcGxhY2U9U0VDLAogICAgcHA9IjM2OC0zNzciLAogICAgZW50cnl0eXBlPSJjb25mZXJlbmNlIiwKICAgIHZvbHVtZT0iMjAwNCIsCiAgICBkb2k9IjEwLjExMDkvQVNXRUMuMjAwNC4xMjkwNDkwIiwKICAgIG5vdGU9ImNpdGVkIEJ5IDIzIiwKICAgIElEPSJDYXRlci1TdGVlbDIwMDQzNjgiLAogICAgcGxhY2V4PSJQcm9jZWVkaW5ncyBvZiB0aGUgQXVzdHJhbGlhbiBTb2Z0d2FyZSBFbmdpbmVlcmluZyBDb25mZXJlbmNlLCBBU1dFQyIsCikpCgpEQihDaXRhdGlvbigKICAgIGFsYnVxdWVycXVlMjAwOWEsIGNhdGVyMjAwNGEsIHJlZj0iIiwKICAgIGNvbnRleHRzPVsKCiAgICBdLAopKQoKJycnLCBjaXRhdGlvbnM9J2FsYnVxdWVycXVlMjAwOWEnKTs=\"));\n",
       "    "
      ],
      "text/plain": [
       "<IPython.core.display.Javascript object>"
      ]
     },
     "metadata": {},
     "output_type": "display_data"
    },
    {
     "data": {
      "application/javascript": [
       "$('span:contains(\"# Temp\")').closest('.cell').remove();"
      ],
      "text/plain": [
       "<IPython.core.display.Javascript object>"
      ]
     },
     "metadata": {},
     "output_type": "display_data"
    },
    {
     "data": {
      "application/javascript": [
       "\n",
       "        $('span:contains(\"# Temp\")').closest('.cell').remove();\n",
       "        var code = IPython.notebook.insert_cell_below('code');\n",
       "        code.set_text(atob(\"IyBUZW1wCmluc2VydCgnJycKc29mdGV4MjAwOWEgPSBEQihXb3JrVW5yZWxhdGVkKAogICAgMjAwOSwgIlNPRlRFWDogdmVyc2lvbiAxLjIiLAogICAgZGlzcGxheT0ic29mdGV4IiwKICAgIGF1dGhvcnM9InNvZnRleCIsCiAgICBwbGFjZT1GQUtFLAogICAgZW50cnl0eXBlPSJhcnRpY2xlIiwKICAgIG5vdGU9ImNpdGVkIEJ5IDEiLAogICAgSUQ9InNvZnRleDIwMDkiLAogICAgcGxhY2V4PSJCcmF6aWxpYW4gU29mdHdhcmUgUHJvY2VzcyBJbXByb3ZlbWVudCAtIEdlbmVyYWwgR3VpZGUiLAopKQoKREIoQ2l0YXRpb24oCiAgICBhbGJ1cXVlcnF1ZTIwMDlhLCBzb2Z0ZXgyMDA5YSwgcmVmPSIiLAogICAgY29udGV4dHM9WwoKICAgIF0sCikpCgonJycsIGNpdGF0aW9ucz0nYWxidXF1ZXJxdWUyMDA5YScpOw==\"));\n",
       "    "
      ],
      "text/plain": [
       "<IPython.core.display.Javascript object>"
      ]
     },
     "metadata": {},
     "output_type": "display_data"
    },
    {
     "data": {
      "application/javascript": [
       "$('span:contains(\"# Temp\")').closest('.cell').remove();"
      ],
      "text/plain": [
       "<IPython.core.display.Javascript object>"
      ]
     },
     "metadata": {},
     "output_type": "display_data"
    },
    {
     "data": {
      "application/javascript": [
       "\n",
       "        $('span:contains(\"# Temp\")').closest('.cell').remove();\n",
       "        var code = IPython.notebook.insert_cell_below('code');\n",
       "        code.set_text(atob(\"IyBUZW1wCmluc2VydCgnJycKc29mdGV4MjAwOWEgPSBEQihXb3JrVW5yZWxhdGVkKAogICAgMjAwOSwgIlNPRlRFWDogdmVyc2lvbiAxLjIiLAogICAgZGlzcGxheT0ic29mdGV4IiwKICAgIGF1dGhvcnM9InNvZnRleCIsCiAgICBwbGFjZT1GQUtFLAogICAgZW50cnl0eXBlPSJhcnRpY2xlIiwKICAgIG5vdGU9ImNpdGVkIEJ5IDEiLAogICAgSUQ9InNvZnRleDIwMDkiLAogICAgcGxhY2V4PSJCcmF6aWxpYW4gU29mdHdhcmUgUHJvY2VzcyBJbXByb3ZlbWVudCAtIEdlbmVyYWwgR3VpZGUiLAopKQoKREIoQ2l0YXRpb24oCiAgICBhbGJ1cXVlcnF1ZTIwMDlhLCBzb2Z0ZXgyMDA5YSwgcmVmPSIiLAogICAgY29udGV4dHM9WwoKICAgIF0sCikpCgonJycsIGNpdGF0aW9ucz0nYWxidXF1ZXJxdWUyMDA5YScpOw==\"));\n",
       "    "
      ],
      "text/plain": [
       "<IPython.core.display.Javascript object>"
      ]
     },
     "metadata": {},
     "output_type": "display_data"
    }
   ],
   "source": [
    "import importlib\n",
    "import custom_snowballing\n",
    "importlib.reload(custom_snowballing)\n",
    "from custom_snowballing import UnrelatedBackward\n",
    "UnrelatedBackward(\"albuquerque2009a\", articles=article_list)"
   ]
  },
  {
   "cell_type": "code",
   "execution_count": null,
   "metadata": {
    "collapsed": true
   },
   "outputs": [],
   "source": [
    "# Temp\n",
    "insert('''\n",
    "softex2009a = DB(WorkUnrelated(\n",
    "    2009, \"SOFTEX: version 1.2\",\n",
    "    display=\"softex\",\n",
    "    authors=\"softex\",\n",
    "    place=FAKE,\n",
    "    entrytype=\"article\",\n",
    "    note=\"cited By 1\",\n",
    "    ID=\"softex2009\",\n",
    "    placex=\"Brazilian Software Process Improvement - General Guide\",\n",
    "))\n",
    "\n",
    "DB(Citation(\n",
    "    albuquerque2009a, softex2009a, ref=\"\",\n",
    "    contexts=[\n",
    "\n",
    "    ],\n",
    "))\n",
    "\n",
    "''', citations='albuquerque2009a');"
   ]
  },
  {
   "cell_type": "code",
   "execution_count": null,
   "metadata": {
    "collapsed": true
   },
   "outputs": [],
   "source": []
  }
 ],
 "metadata": {
  "kernelspec": {
   "display_name": "Python 3",
   "language": "python",
   "name": "python3"
  },
  "language_info": {
   "codemirror_mode": {
    "name": "ipython",
    "version": 3
   },
   "file_extension": ".py",
   "mimetype": "text/x-python",
   "name": "python",
   "nbconvert_exporter": "python",
   "pygments_lexer": "ipython3",
   "version": "3.6.0"
  },
  "toc": {
   "nav_menu": {
    "height": "12px",
    "width": "252px"
   },
   "number_sections": true,
   "sideBar": true,
   "skip_h1_title": false,
   "toc_cell": false,
   "toc_position": {},
   "toc_section_display": "block",
   "toc_window_display": false
  }
 },
 "nbformat": 4,
 "nbformat_minor": 2
}
