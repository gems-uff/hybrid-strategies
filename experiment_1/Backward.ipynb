{
 "cells": [
  {
   "cell_type": "code",
   "execution_count": 1,
   "metadata": {
    "collapsed": true
   },
   "outputs": [],
   "source": [
    "import database\n",
    "from snowballing.operations import load_work, reload, work_by_varname\n",
    "from snowballing.snowballing import Converter\n",
    "from snowballing.dbmanager import insert, set_attribute"
   ]
  },
  {
   "cell_type": "code",
   "execution_count": 23,
   "metadata": {
    "scrolled": false
   },
   "outputs": [
    {
     "data": {
      "application/vnd.jupyter.widget-view+json": {
       "model_id": "33cdf523ccbc4492ae75c5445c1d35aa",
       "version_major": 2,
       "version_minor": 0
      },
      "text/html": [
       "<p>Failed to display Jupyter Widget of type <code>VBox</code>.</p>\n",
       "<p>\n",
       "  If you're reading this message in Jupyter Notebook or JupyterLab, it may mean\n",
       "  that the widgets JavaScript is still loading. If this message persists, it\n",
       "  likely means that the widgets JavaScript library is either not installed or\n",
       "  not enabled. See the <a href=\"https://ipywidgets.readthedocs.io/en/stable/user_install.html\">Jupyter\n",
       "  Widgets Documentation</a> for setup instructions.\n",
       "</p>\n",
       "<p>\n",
       "  If you're reading this message in another notebook frontend (for example, a static\n",
       "  rendering on GitHub or <a href=\"https://nbviewer.jupyter.org/\">NBViewer</a>),\n",
       "  it may mean that your frontend doesn't currently support widgets.\n",
       "</p>\n"
      ],
      "text/plain": [
       "VBox(children=(HBox(children=(Dropdown(index=1, options={'BibTeX': 'bibtex', 'Text': 'text', '[N] author name place other year': 'citation', 'Quoted': 'quoted'}, value='text'), Button(description='Set article_list variable', disabled=True, style=ButtonStyle()), Label(value=''))), HBox(children=(Textarea(value='', layout=Layout(height='500px', width='50%')), Textarea(value='', layout=Layout(height='500px', width='50%'))))))"
      ]
     },
     "metadata": {},
     "output_type": "display_data"
    }
   ],
   "source": [
    "Converter().browser()"
   ]
  },
  {
   "cell_type": "code",
   "execution_count": 24,
   "metadata": {},
   "outputs": [
    {
     "data": {
      "application/vnd.jupyter.widget-view+json": {
       "model_id": "ff7269a210aa4319b066350f18618198",
       "version_major": 2,
       "version_minor": 0
      },
      "text/html": [
       "<p>Failed to display Jupyter Widget of type <code>VBox</code>.</p>\n",
       "<p>\n",
       "  If you're reading this message in Jupyter Notebook or JupyterLab, it may mean\n",
       "  that the widgets JavaScript is still loading. If this message persists, it\n",
       "  likely means that the widgets JavaScript library is either not installed or\n",
       "  not enabled. See the <a href=\"https://ipywidgets.readthedocs.io/en/stable/user_install.html\">Jupyter\n",
       "  Widgets Documentation</a> for setup instructions.\n",
       "</p>\n",
       "<p>\n",
       "  If you're reading this message in another notebook frontend (for example, a static\n",
       "  rendering on GitHub or <a href=\"https://nbviewer.jupyter.org/\">NBViewer</a>),\n",
       "  it may mean that your frontend doesn't currently support widgets.\n",
       "</p>\n"
      ],
      "text/plain": [
       "VBox(children=(HBox(children=(Dropdown(index=1, options={'BibTeX': 'bibtex', 'Text': 'text', '[N] author name place other year': 'citation', 'Quoted': 'quoted'}, value='text'), Button(description='Set article_list variable', disabled=True, style=ButtonStyle()), Label(value=''))), HBox(children=(Textarea(value='', layout=Layout(height='500px', width='50%')), Textarea(value='', layout=Layout(height='500px', width='50%'))))))"
      ]
     },
     "metadata": {},
     "output_type": "display_data"
    }
   ],
   "source": [
    "Converter().browser()"
   ]
  },
  {
   "cell_type": "code",
   "execution_count": 3,
   "metadata": {},
   "outputs": [
    {
     "data": {
      "text/plain": [
       "14"
      ]
     },
     "execution_count": 3,
     "metadata": {},
     "output_type": "execute_result"
    }
   ],
   "source": [
    "len(article_list)"
   ]
  },
  {
   "cell_type": "code",
   "execution_count": null,
   "metadata": {
    "collapsed": true
   },
   "outputs": [],
   "source": [
    "#from database.work.y2015 import li2015a"
   ]
  },
  {
   "cell_type": "code",
   "execution_count": null,
   "metadata": {
    "collapsed": true
   },
   "outputs": [],
   "source": [
    "#int(getattr(li2015a, 'scopus', 0))"
   ]
  },
  {
   "cell_type": "code",
   "execution_count": null,
   "metadata": {
    "collapsed": true
   },
   "outputs": [],
   "source": [
    "#print(article_list)"
   ]
  },
  {
   "cell_type": "code",
   "execution_count": null,
   "metadata": {
    "collapsed": true
   },
   "outputs": [],
   "source": []
  },
  {
   "cell_type": "code",
   "execution_count": null,
   "metadata": {
    "collapsed": true
   },
   "outputs": [],
   "source": []
  },
  {
   "cell_type": "code",
   "execution_count": null,
   "metadata": {
    "collapsed": true
   },
   "outputs": [],
   "source": []
  },
  {
   "cell_type": "code",
   "execution_count": 4,
   "metadata": {},
   "outputs": [
    {
     "data": {
      "application/vnd.jupyter.widget-view+json": {
       "model_id": "de954b3a52ec480d953e20f4dbff63a8",
       "version_major": 2,
       "version_minor": 0
      },
      "text/html": [
       "<p>Failed to display Jupyter Widget of type <code>VBox</code>.</p>\n",
       "<p>\n",
       "  If you're reading this message in Jupyter Notebook or JupyterLab, it may mean\n",
       "  that the widgets JavaScript is still loading. If this message persists, it\n",
       "  likely means that the widgets JavaScript library is either not installed or\n",
       "  not enabled. See the <a href=\"https://ipywidgets.readthedocs.io/en/stable/user_install.html\">Jupyter\n",
       "  Widgets Documentation</a> for setup instructions.\n",
       "</p>\n",
       "<p>\n",
       "  If you're reading this message in another notebook frontend (for example, a static\n",
       "  rendering on GitHub or <a href=\"https://nbviewer.jupyter.org/\">NBViewer</a>),\n",
       "  it may mean that your frontend doesn't currently support widgets.\n",
       "</p>\n"
      ],
      "text/plain": [
       "VBox(children=(HBox(children=(Button(description='Previous Article', disabled=True, icon='caret-left', style=ButtonStyle()), Button(description='Reload Article', icon='refresh', style=ButtonStyle()), Button(description='Next Article', icon='caret-right', style=ButtonStyle()))), HBox(children=(Button(description='Unrelated: Scripts', style=ButtonStyle()), Button(description='Unrelated: Provenance', style=ButtonStyle()), Button(description='Both', style=ButtonStyle()), Button(description='Ok', style=ButtonStyle()))), HBox(children=(Dropdown(description='Type', index=3, options=('Work', 'WorkSnowball', 'WorkOk', 'WorkUnrelated', 'WorkNoFile', 'WorkLang', 'Site', 'Email'), value='WorkUnrelated'), ToggleButton(value=False, description='File'))), HBox(children=(Text(value='', description='Due'), Text(value='', description='Place'))), HBox(children=(Text(value='', description='Year'), Text(value='', description='Prefix Var'))), HBox(children=(Text(value='', description='PDFPage'), Text(value='', description='Related'))), HBox(children=(Text(value='', description='Display'), Text(value='', description='Summary'))), HBox(children=(Text(value='', description='Star'), Text(value='', description='Link'))), HBox(children=(Button(description='Reload Article', icon='refresh', style=ButtonStyle()), IntSlider(value=0, max=13), Label(value='1/14'))), Output()))"
      ]
     },
     "metadata": {},
     "output_type": "display_data"
    },
    {
     "data": {
      "application/javascript": [
       "$('span:contains(\"# Temp\")').closest('.cell').remove();"
      ],
      "text/plain": [
       "<IPython.core.display.Javascript object>"
      ]
     },
     "metadata": {},
     "output_type": "display_data"
    },
    {
     "data": {
      "application/javascript": [
       "\n",
       "        $('span:contains(\"# Temp\")').closest('.cell').remove();\n",
       "        var code = IPython.notebook.insert_cell_below('code');\n",
       "        code.set_text(atob(\"IyBUZW1wCmluc2VydCgnJycKREIoQ2l0YXRpb24oCiAgICBtYXJ0aW5zMjAwN2IsIHNhbG8yMDA1YSwgcmVmPSIiLAogICAgY29udGV4dHM9WwoKICAgIF0sCikpCgonJycsIGNpdGF0aW9ucz0nbWFydGluczIwMDdiJyk7\"));\n",
       "    "
      ],
      "text/plain": [
       "<IPython.core.display.Javascript object>"
      ]
     },
     "metadata": {},
     "output_type": "display_data"
    },
    {
     "data": {
      "application/javascript": [
       "$('span:contains(\"# Temp\")').closest('.cell').remove();"
      ],
      "text/plain": [
       "<IPython.core.display.Javascript object>"
      ]
     },
     "metadata": {},
     "output_type": "display_data"
    },
    {
     "data": {
      "application/javascript": [
       "\n",
       "        $('span:contains(\"# Temp\")').closest('.cell').remove();\n",
       "        var code = IPython.notebook.insert_cell_below('code');\n",
       "        code.set_text(atob(\"IyBUZW1wCmluc2VydCgnJycKREIoQ2l0YXRpb24oCiAgICBtYXJ0aW5zMjAwN2IsIGtyYXNuZXIxOTk3YSwgcmVmPSIiLAogICAgY29udGV4dHM9WwoKICAgIF0sCikpCgonJycsIGNpdGF0aW9ucz0nbWFydGluczIwMDdiJyk7\"));\n",
       "    "
      ],
      "text/plain": [
       "<IPython.core.display.Javascript object>"
      ]
     },
     "metadata": {},
     "output_type": "display_data"
    },
    {
     "data": {
      "application/javascript": [
       "$('span:contains(\"# Temp\")').closest('.cell').remove();"
      ],
      "text/plain": [
       "<IPython.core.display.Javascript object>"
      ]
     },
     "metadata": {},
     "output_type": "display_data"
    },
    {
     "data": {
      "application/javascript": [
       "\n",
       "        $('span:contains(\"# Temp\")').closest('.cell').remove();\n",
       "        var code = IPython.notebook.insert_cell_below('code');\n",
       "        code.set_text(atob(\"IyBUZW1wCmluc2VydCgnJycKREIoQ2l0YXRpb24oCiAgICBtYXJ0aW5zMjAwN2IsIGtyYXNuZXIxOTk3YSwgcmVmPSIiLAogICAgY29udGV4dHM9WwoKICAgIF0sCikpCgonJycsIGNpdGF0aW9ucz0nbWFydGluczIwMDdiJyk7\"));\n",
       "    "
      ],
      "text/plain": [
       "<IPython.core.display.Javascript object>"
      ]
     },
     "metadata": {},
     "output_type": "display_data"
    },
    {
     "data": {
      "application/javascript": [
       "$('span:contains(\"# Temp\")').closest('.cell').remove();"
      ],
      "text/plain": [
       "<IPython.core.display.Javascript object>"
      ]
     },
     "metadata": {},
     "output_type": "display_data"
    },
    {
     "data": {
      "application/javascript": [
       "\n",
       "        $('span:contains(\"# Temp\")').closest('.cell').remove();\n",
       "        var code = IPython.notebook.insert_cell_below('code');\n",
       "        code.set_text(atob(\"IyBUZW1wCmluc2VydCgnJycKc2VpMTk5M2EgPSBEQihXb3JrVW5yZWxhdGVkKAogICAgMTk5MywgIkNhcGFiaWxpdHkgTWF0dXJpdHkgTW9kZWwgZm9yIFNvZnR3YXJlIChDTU0pIiwKICAgIGRpc3BsYXk9InNlaSIsCiAgICBhdXRob3JzPSJTRUkiLAogICAgcGxhY2U9RkFLRSwKICAgIGVudHJ5dHlwZT0iYXJ0aWNsZSIsCiAgICBJRD0iU0VJMTk5MykiLAogICAgcGxhY2V4PSJWZXJzaW9uIDEuMS5DYXJuZWdpZSBNZWxsb24gVW5pdmVyc2l0eSIsCikpCgpEQihDaXRhdGlvbigKICAgIG1hcnRpbnMyMDA3Yiwgc2VpMTk5M2EsIHJlZj0iIiwKICAgIGNvbnRleHRzPVsKCiAgICBdLAopKQoKJycnLCBjaXRhdGlvbnM9J21hcnRpbnMyMDA3YicpOw==\"));\n",
       "    "
      ],
      "text/plain": [
       "<IPython.core.display.Javascript object>"
      ]
     },
     "metadata": {},
     "output_type": "display_data"
    },
    {
     "data": {
      "application/javascript": [
       "$('span:contains(\"# Temp\")').closest('.cell').remove();"
      ],
      "text/plain": [
       "<IPython.core.display.Javascript object>"
      ]
     },
     "metadata": {},
     "output_type": "display_data"
    },
    {
     "data": {
      "application/javascript": [
       "\n",
       "        $('span:contains(\"# Temp\")').closest('.cell').remove();\n",
       "        var code = IPython.notebook.insert_cell_below('code');\n",
       "        code.set_text(atob(\"IyBUZW1wCmluc2VydCgnJycKc2VpMTk5M2EgPSBEQihXb3JrVW5yZWxhdGVkKAogICAgMTk5MywgIkNhcGFiaWxpdHkgTWF0dXJpdHkgTW9kZWwgZm9yIFNvZnR3YXJlIChDTU0pIiwKICAgIGRpc3BsYXk9InNlaSIsCiAgICBhdXRob3JzPSJTRUkiLAogICAgcGxhY2U9RkFLRSwKICAgIGVudHJ5dHlwZT0iYXJ0aWNsZSIsCiAgICBJRD0iU0VJMTk5MykiLAogICAgcGxhY2V4PSJWZXJzaW9uIDEuMS5DYXJuZWdpZSBNZWxsb24gVW5pdmVyc2l0eSIsCikpCgpEQihDaXRhdGlvbigKICAgIG1hcnRpbnMyMDA3Yiwgc2VpMTk5M2EsIHJlZj0iIiwKICAgIGNvbnRleHRzPVsKCiAgICBdLAopKQoKJycnLCBjaXRhdGlvbnM9J21hcnRpbnMyMDA3YicpOw==\"));\n",
       "    "
      ],
      "text/plain": [
       "<IPython.core.display.Javascript object>"
      ]
     },
     "metadata": {},
     "output_type": "display_data"
    },
    {
     "data": {
      "application/javascript": [
       "$('span:contains(\"# Temp\")').closest('.cell').remove();"
      ],
      "text/plain": [
       "<IPython.core.display.Javascript object>"
      ]
     },
     "metadata": {},
     "output_type": "display_data"
    },
    {
     "data": {
      "application/javascript": [
       "\n",
       "        $('span:contains(\"# Temp\")').closest('.cell').remove();\n",
       "        var code = IPython.notebook.insert_cell_below('code');\n",
       "        code.set_text(atob(\"IyBUZW1wCmluc2VydCgnJycKc2VpMjAwMmEgPSBEQihXb3JrVW5yZWxhdGVkKAogICAgMjAwMiwgIkNhcGFiaWxpdHkgTWF0dXJpdHkgTW9kZWwgSW50ZWdyYXRpb24gKENNTUkpIiwKICAgIGRpc3BsYXk9InNlaSIsCiAgICBhdXRob3JzPSJTRUkiLAogICAgcGxhY2U9RkFLRSwKICAgIGVudHJ5dHlwZT0iYXJ0aWNsZSIsCiAgICBJRD0iU0VJMjAwMikiLAogICAgcGxhY2V4PSJWZXJzaW9uIDEuMS4gQ2FybmVnaWUgTWVsbG9uIFNvZnR3YXJlIEVuZ2luZWVyaW5nIEluc3RpdHV0ZSIsCikpCgpEQihDaXRhdGlvbigKICAgIG1hcnRpbnMyMDA3Yiwgc2VpMjAwMmEsIHJlZj0iIiwKICAgIGNvbnRleHRzPVsKCiAgICBdLAopKQoKJycnLCBjaXRhdGlvbnM9J21hcnRpbnMyMDA3YicpOw==\"));\n",
       "    "
      ],
      "text/plain": [
       "<IPython.core.display.Javascript object>"
      ]
     },
     "metadata": {},
     "output_type": "display_data"
    },
    {
     "data": {
      "application/javascript": [
       "$('span:contains(\"# Temp\")').closest('.cell').remove();"
      ],
      "text/plain": [
       "<IPython.core.display.Javascript object>"
      ]
     },
     "metadata": {},
     "output_type": "display_data"
    },
    {
     "data": {
      "application/javascript": [
       "\n",
       "        $('span:contains(\"# Temp\")').closest('.cell').remove();\n",
       "        var code = IPython.notebook.insert_cell_below('code');\n",
       "        code.set_text(atob(\"IyBUZW1wCmluc2VydCgnJycKc2VpMjAwMmEgPSBEQihXb3JrVW5yZWxhdGVkKAogICAgMjAwMiwgIkNhcGFiaWxpdHkgTWF0dXJpdHkgTW9kZWwgSW50ZWdyYXRpb24gKENNTUkpIiwKICAgIGRpc3BsYXk9InNlaSIsCiAgICBhdXRob3JzPSJTRUkiLAogICAgcGxhY2U9RkFLRSwKICAgIGVudHJ5dHlwZT0iYXJ0aWNsZSIsCiAgICBJRD0iU0VJMjAwMikiLAogICAgcGxhY2V4PSJWZXJzaW9uIDEuMS4gQ2FybmVnaWUgTWVsbG9uIFNvZnR3YXJlIEVuZ2luZWVyaW5nIEluc3RpdHV0ZSIsCikpCgpEQihDaXRhdGlvbigKICAgIG1hcnRpbnMyMDA3Yiwgc2VpMjAwMmEsIHJlZj0iIiwKICAgIGNvbnRleHRzPVsKCiAgICBdLAopKQoKJycnLCBjaXRhdGlvbnM9J21hcnRpbnMyMDA3YicpOw==\"));\n",
       "    "
      ],
      "text/plain": [
       "<IPython.core.display.Javascript object>"
      ]
     },
     "metadata": {},
     "output_type": "display_data"
    },
    {
     "data": {
      "application/javascript": [
       "$('span:contains(\"# Temp\")').closest('.cell').remove();"
      ],
      "text/plain": [
       "<IPython.core.display.Javascript object>"
      ]
     },
     "metadata": {},
     "output_type": "display_data"
    },
    {
     "data": {
      "application/javascript": [
       "\n",
       "        $('span:contains(\"# Temp\")').closest('.cell').remove();\n",
       "        var code = IPython.notebook.insert_cell_below('code');\n",
       "        code.set_text(atob(\"IyBUZW1wCmluc2VydCgnJycKc3BpY2UxOTk4YSA9IERCKFdvcmtVbnJlbGF0ZWQoCiAgICAxOTk4LCAiSVNPL0lFQyBTb2Z0d2FyZSBQcm9jZXNzIEFzc2Vzc21lbnQgUGFydCAyOiBBIG1vZGVsIGZvciBwcm9jZXNzIG1hbmFnZW1lbnQiLAogICAgZGlzcGxheT0ic3BpY2UiLAogICAgYXV0aG9ycz0iU1BJQ0UiLAogICAgcGxhY2U9RkFLRSwKICAgIGVudHJ5dHlwZT0iYXJ0aWNsZSIsCiAgICBJRD0iU1BJQ0UxOTk4KSIsCiAgICBwbGFjZXg9IlZlcnNpb24gMS4wLiBTUElDRSBQcm9qZWN0IiwKKSkKCkRCKENpdGF0aW9uKAogICAgbWFydGluczIwMDdiLCBzcGljZTE5OThhLCByZWY9IiIsCiAgICBjb250ZXh0cz1bCgogICAgXSwKKSkKCicnJywgY2l0YXRpb25zPSdtYXJ0aW5zMjAwN2InKTs=\"));\n",
       "    "
      ],
      "text/plain": [
       "<IPython.core.display.Javascript object>"
      ]
     },
     "metadata": {},
     "output_type": "display_data"
    },
    {
     "data": {
      "application/javascript": [
       "$('span:contains(\"# Temp\")').closest('.cell').remove();"
      ],
      "text/plain": [
       "<IPython.core.display.Javascript object>"
      ]
     },
     "metadata": {},
     "output_type": "display_data"
    },
    {
     "data": {
      "application/javascript": [
       "\n",
       "        $('span:contains(\"# Temp\")').closest('.cell').remove();\n",
       "        var code = IPython.notebook.insert_cell_below('code');\n",
       "        code.set_text(atob(\"IyBUZW1wCmluc2VydCgnJycKc3BpY2UxOTk4YSA9IERCKFdvcmtVbnJlbGF0ZWQoCiAgICAxOTk4LCAiSVNPL0lFQyBTb2Z0d2FyZSBQcm9jZXNzIEFzc2Vzc21lbnQgUGFydCAyOiBBIG1vZGVsIGZvciBwcm9jZXNzIG1hbmFnZW1lbnQiLAogICAgZGlzcGxheT0ic3BpY2UiLAogICAgYXV0aG9ycz0iU1BJQ0UiLAogICAgcGxhY2U9RkFLRSwKICAgIGVudHJ5dHlwZT0iYXJ0aWNsZSIsCiAgICBJRD0iU1BJQ0UxOTk4KSIsCiAgICBwbGFjZXg9IlZlcnNpb24gMS4wLiBTUElDRSBQcm9qZWN0IiwKKSkKCkRCKENpdGF0aW9uKAogICAgbWFydGluczIwMDdiLCBzcGljZTE5OThhLCByZWY9IiIsCiAgICBjb250ZXh0cz1bCgogICAgXSwKKSkKCicnJywgY2l0YXRpb25zPSdtYXJ0aW5zMjAwN2InKTs=\"));\n",
       "    "
      ],
      "text/plain": [
       "<IPython.core.display.Javascript object>"
      ]
     },
     "metadata": {},
     "output_type": "display_data"
    },
    {
     "data": {
      "application/javascript": [
       "$('span:contains(\"# Temp\")').closest('.cell').remove();"
      ],
      "text/plain": [
       "<IPython.core.display.Javascript object>"
      ]
     },
     "metadata": {},
     "output_type": "display_data"
    },
    {
     "data": {
      "application/javascript": [
       "\n",
       "        $('span:contains(\"# Temp\")').closest('.cell').remove();\n",
       "        var code = IPython.notebook.insert_cell_below('code');\n",
       "        code.set_text(atob(\"IyBUZW1wCmluc2VydCgnJycKREIoQ2l0YXRpb24oCiAgICBtYXJ0aW5zMjAwN2IsIGt1dmFqYTE5OTRhLCByZWY9IiIsCiAgICBjb250ZXh0cz1bCgogICAgXSwKKSkKCicnJywgY2l0YXRpb25zPSdtYXJ0aW5zMjAwN2InKTs=\"));\n",
       "    "
      ],
      "text/plain": [
       "<IPython.core.display.Javascript object>"
      ]
     },
     "metadata": {},
     "output_type": "display_data"
    },
    {
     "data": {
      "application/javascript": [
       "$('span:contains(\"# Temp\")').closest('.cell').remove();"
      ],
      "text/plain": [
       "<IPython.core.display.Javascript object>"
      ]
     },
     "metadata": {},
     "output_type": "display_data"
    },
    {
     "data": {
      "application/javascript": [
       "\n",
       "        $('span:contains(\"# Temp\")').closest('.cell').remove();\n",
       "        var code = IPython.notebook.insert_cell_below('code');\n",
       "        code.set_text(atob(\"IyBUZW1wCmluc2VydCgnJycKREIoQ2l0YXRpb24oCiAgICBtYXJ0aW5zMjAwN2IsIGt1dmFqYTE5OTRhLCByZWY9IiIsCiAgICBjb250ZXh0cz1bCgogICAgXSwKKSkKCicnJywgY2l0YXRpb25zPSdtYXJ0aW5zMjAwN2InKTs=\"));\n",
       "    "
      ],
      "text/plain": [
       "<IPython.core.display.Javascript object>"
      ]
     },
     "metadata": {},
     "output_type": "display_data"
    },
    {
     "data": {
      "application/javascript": [
       "$('span:contains(\"# Temp\")').closest('.cell').remove();"
      ],
      "text/plain": [
       "<IPython.core.display.Javascript object>"
      ]
     },
     "metadata": {},
     "output_type": "display_data"
    },
    {
     "data": {
      "application/javascript": [
       "\n",
       "        $('span:contains(\"# Temp\")').closest('.cell').remove();\n",
       "        var code = IPython.notebook.insert_cell_below('code');\n",
       "        code.set_text(atob(\"IyBUZW1wCmluc2VydCgnJycKYmVjazIwMDFhID0gREIoV29ya1VucmVsYXRlZCgKICAgIDIwMDEsICJNYW5pZmVzdG8gZm9yIEFnaWxlIFNvZnR3YXJlIERldmVsb3BtZW50LiIsCiAgICBkaXNwbGF5PSJiZWNrIiwKICAgIGF1dGhvcnM9IkJlY2ssIEsuIiwKICAgIHBsYWNlPUZBS0UsCiAgICBlbnRyeXR5cGU9ImFydGljbGUiLAogICAgSUQ9IkJlY2syMDAxKSIsCiAgICBwbGFjZXg9Imh0dHA6Ly93d3cuYWdpbGVtYW5pZmVzdG8ub3JnL3ByaW5jaXBsZXMuaHRtbCIsCikpCgpEQihDaXRhdGlvbigKICAgIG1hcnRpbnMyMDA3YiwgYmVjazIwMDFhLCByZWY9IiIsCiAgICBjb250ZXh0cz1bCgogICAgXSwKKSkKCicnJywgY2l0YXRpb25zPSdtYXJ0aW5zMjAwN2InKTs=\"));\n",
       "    "
      ],
      "text/plain": [
       "<IPython.core.display.Javascript object>"
      ]
     },
     "metadata": {},
     "output_type": "display_data"
    },
    {
     "data": {
      "application/javascript": [
       "$('span:contains(\"# Temp\")').closest('.cell').remove();"
      ],
      "text/plain": [
       "<IPython.core.display.Javascript object>"
      ]
     },
     "metadata": {},
     "output_type": "display_data"
    },
    {
     "data": {
      "application/javascript": [
       "\n",
       "        $('span:contains(\"# Temp\")').closest('.cell').remove();\n",
       "        var code = IPython.notebook.insert_cell_below('code');\n",
       "        code.set_text(atob(\"IyBUZW1wCmluc2VydCgnJycKYmVjazIwMDFhID0gREIoV29ya1VucmVsYXRlZCgKICAgIDIwMDEsICJNYW5pZmVzdG8gZm9yIEFnaWxlIFNvZnR3YXJlIERldmVsb3BtZW50LiIsCiAgICBkaXNwbGF5PSJiZWNrIiwKICAgIGF1dGhvcnM9IkJlY2ssIEsuIiwKICAgIHBsYWNlPUZBS0UsCiAgICBlbnRyeXR5cGU9ImFydGljbGUiLAogICAgSUQ9IkJlY2syMDAxKSIsCiAgICBwbGFjZXg9Imh0dHA6Ly93d3cuYWdpbGVtYW5pZmVzdG8ub3JnL3ByaW5jaXBsZXMuaHRtbCIsCikpCgpEQihDaXRhdGlvbigKICAgIG1hcnRpbnMyMDA3YiwgYmVjazIwMDFhLCByZWY9IiIsCiAgICBjb250ZXh0cz1bCgogICAgXSwKKSkKCicnJywgY2l0YXRpb25zPSdtYXJ0aW5zMjAwN2InKTs=\"));\n",
       "    "
      ],
      "text/plain": [
       "<IPython.core.display.Javascript object>"
      ]
     },
     "metadata": {},
     "output_type": "display_data"
    },
    {
     "data": {
      "application/javascript": [
       "$('span:contains(\"# Temp\")').closest('.cell').remove();"
      ],
      "text/plain": [
       "<IPython.core.display.Javascript object>"
      ]
     },
     "metadata": {},
     "output_type": "display_data"
    },
    {
     "data": {
      "application/javascript": [
       "\n",
       "        $('span:contains(\"# Temp\")').closest('.cell').remove();\n",
       "        var code = IPython.notebook.insert_cell_below('code');\n",
       "        code.set_text(atob(\"IyBUZW1wCmluc2VydCgnJycKICAgIGdydWhuMTk5OGEgPSBEQihXb3JrVW5yZWxhdGVkKAogICAgICAgIDE5OTgsICJTb2Z0d2FyZSBQcm9jZXNzIE1vZGVsaW5nIGFuZCBFbmFjdG1lbnQ6IEFuIEV4cGVyaWVuY2UgUmVwb3J0CnJlbGF0ZWQgdG8gUHJvYmxlbSBUcmFja2luZyBpbiBhbiBJbmR1c3RyaWFsIFByb2plY3QiLAogICAgICAgIGRpc3BsYXk9ImdydWhuIiwKICAgICAgICBhdXRob3JzPSJHcnVobiwgVi4gJiBVcmJhaW5jenlrIEouIiwKICAgICAgICBwbGFjZT1JQ1NFLAogICAgICAgIGVudHJ5dHlwZT0iYXJ0aWNsZSIsCiAgICAgICAgSUQ9IkdydWhuMTk5OCkiLAogICAgICAgIHBsYWNleD0iUHJvY2VlZGluZ3Mgb2YgdGhlIDIwdGggaW50ZXJuYXRpb25hbCBjb25mZXJlbmNlIG9uIFNvZnR3YXJlIEVuZ2luZWVyaW5nIiwKICAgICkpCgpEQihDaXRhdGlvbigKICAgIG1hcnRpbnMyMDA3YiwgZ3J1aG4xOTk4YSwgcmVmPSIiLAogICAgY29udGV4dHM9WwoKICAgIF0sCikpCgonJycsIGNpdGF0aW9ucz0nbWFydGluczIwMDdiJyk7\"));\n",
       "    "
      ],
      "text/plain": [
       "<IPython.core.display.Javascript object>"
      ]
     },
     "metadata": {},
     "output_type": "display_data"
    },
    {
     "data": {
      "application/javascript": [
       "$('span:contains(\"# Temp\")').closest('.cell').remove();"
      ],
      "text/plain": [
       "<IPython.core.display.Javascript object>"
      ]
     },
     "metadata": {},
     "output_type": "display_data"
    },
    {
     "data": {
      "application/javascript": [
       "\n",
       "        $('span:contains(\"# Temp\")').closest('.cell').remove();\n",
       "        var code = IPython.notebook.insert_cell_below('code');\n",
       "        code.set_text(atob(\"IyBUZW1wCmluc2VydCgnJycKICAgIGdydWhuMTk5OGEgPSBEQihXb3JrVW5yZWxhdGVkKAogICAgICAgIDE5OTgsICJTb2Z0d2FyZSBQcm9jZXNzIE1vZGVsaW5nIGFuZCBFbmFjdG1lbnQ6IEFuIEV4cGVyaWVuY2UgUmVwb3J0CnJlbGF0ZWQgdG8gUHJvYmxlbSBUcmFja2luZyBpbiBhbiBJbmR1c3RyaWFsIFByb2plY3QiLAogICAgICAgIGRpc3BsYXk9ImdydWhuIiwKICAgICAgICBhdXRob3JzPSJHcnVobiwgVi4gJiBVcmJhaW5jenlrIEouIiwKICAgICAgICBwbGFjZT1JQ1NFLAogICAgICAgIGVudHJ5dHlwZT0iYXJ0aWNsZSIsCiAgICAgICAgSUQ9IkdydWhuMTk5OCkiLAogICAgICAgIHBsYWNleD0iUHJvY2VlZGluZ3Mgb2YgdGhlIDIwdGggaW50ZXJuYXRpb25hbCBjb25mZXJlbmNlIG9uIFNvZnR3YXJlIEVuZ2luZWVyaW5nIiwKICAgICkpCgpEQihDaXRhdGlvbigKICAgIG1hcnRpbnMyMDA3YiwgZ3J1aG4xOTk4YSwgcmVmPSIiLAogICAgY29udGV4dHM9WwoKICAgIF0sCikpCgonJycsIGNpdGF0aW9ucz0nbWFydGluczIwMDdiJyk7\"));\n",
       "    "
      ],
      "text/plain": [
       "<IPython.core.display.Javascript object>"
      ]
     },
     "metadata": {},
     "output_type": "display_data"
    },
    {
     "data": {
      "application/javascript": [
       "$('span:contains(\"# Temp\")').closest('.cell').remove();"
      ],
      "text/plain": [
       "<IPython.core.display.Javascript object>"
      ]
     },
     "metadata": {},
     "output_type": "display_data"
    },
    {
     "data": {
      "application/javascript": [
       "\n",
       "        $('span:contains(\"# Temp\")').closest('.cell').remove();\n",
       "        var code = IPython.notebook.insert_cell_below('code');\n",
       "        code.set_text(atob(\"IyBUZW1wCmluc2VydCgnJycKY3VydGlzMTk5MmEgPSBEQihXb3JrVW5yZWxhdGVkKAogICAgMTk5MiwgIlByb2Nlc3MgTW9kZWxsaW5nIiwKICAgIGRpc3BsYXk9ImN1cnRpcyIsCiAgICBhdXRob3JzPSJDdXJ0aXMsIEIuLCBLZWxsbmVyLCBNLkkuLCAmIE92ZXIsIEouIiwKICAgIHBsYWNlPUNBQ00sCiAgICBlbnRyeXR5cGU9ImFydGljbGUiLAogICAgSUQ9IkN1cnRpczE5OTIpIiwKICAgIHBsYWNleD0iQ29tbXVuaWNhdGlvbnMgb24gdGhlIEFDTSIsCikpCgpEQihDaXRhdGlvbigKICAgIG1hcnRpbnMyMDA3YiwgY3VydGlzMTk5MmEsIHJlZj0iIiwKICAgIGNvbnRleHRzPVsKCiAgICBdLAopKQoKJycnLCBjaXRhdGlvbnM9J21hcnRpbnMyMDA3YicpOw==\"));\n",
       "    "
      ],
      "text/plain": [
       "<IPython.core.display.Javascript object>"
      ]
     },
     "metadata": {},
     "output_type": "display_data"
    },
    {
     "data": {
      "application/javascript": [
       "$('span:contains(\"# Temp\")').closest('.cell').remove();"
      ],
      "text/plain": [
       "<IPython.core.display.Javascript object>"
      ]
     },
     "metadata": {},
     "output_type": "display_data"
    },
    {
     "data": {
      "application/javascript": [
       "\n",
       "        $('span:contains(\"# Temp\")').closest('.cell').remove();\n",
       "        var code = IPython.notebook.insert_cell_below('code');\n",
       "        code.set_text(atob(\"IyBUZW1wCmluc2VydCgnJycKY3VydGlzMTk5MmEgPSBEQihXb3JrVW5yZWxhdGVkKAogICAgMTk5MiwgIlByb2Nlc3MgTW9kZWxsaW5nIiwKICAgIGRpc3BsYXk9ImN1cnRpcyIsCiAgICBhdXRob3JzPSJDdXJ0aXMsIEIuLCBLZWxsbmVyLCBNLkkuLCAmIE92ZXIsIEouIiwKICAgIHBsYWNlPUNBQ00sCiAgICBlbnRyeXR5cGU9ImFydGljbGUiLAogICAgSUQ9IkN1cnRpczE5OTIpIiwKICAgIHBsYWNleD0iQ29tbXVuaWNhdGlvbnMgb24gdGhlIEFDTSIsCikpCgpEQihDaXRhdGlvbigKICAgIG1hcnRpbnMyMDA3YiwgY3VydGlzMTk5MmEsIHJlZj0iIiwKICAgIGNvbnRleHRzPVsKCiAgICBdLAopKQoKJycnLCBjaXRhdGlvbnM9J21hcnRpbnMyMDA3YicpOw==\"));\n",
       "    "
      ],
      "text/plain": [
       "<IPython.core.display.Javascript object>"
      ]
     },
     "metadata": {},
     "output_type": "display_data"
    },
    {
     "data": {
      "application/javascript": [
       "$('span:contains(\"# Temp\")').closest('.cell').remove();"
      ],
      "text/plain": [
       "<IPython.core.display.Javascript object>"
      ]
     },
     "metadata": {},
     "output_type": "display_data"
    },
    {
     "data": {
      "application/javascript": [
       "\n",
       "        $('span:contains(\"# Temp\")').closest('.cell').remove();\n",
       "        var code = IPython.notebook.insert_cell_below('code');\n",
       "        code.set_text(atob(\"IyBUZW1wCmluc2VydCgnJycKa3Jhc25lcjE5OTJhID0gREIoV29ya1VucmVsYXRlZCgKICAgIDE5OTIsICJMZXNzb25zIGxlYXJuZWQgZnJvbSBhIHNvZnR3YXJlIHByb2Nlc3MgbW9kZWxpbmcgc3lzdGVtIiwKICAgIGRpc3BsYXk9ImtyYXNuZXIiLAogICAgYXV0aG9ycz0iS3Jhc25lciwgSC4sIFRpcnJlbCwgSi4sIExpbmVoYW4sIEEuLCBBcm5vbGQsIFAuICYgRXR0LCBXLkguIiwKICAgIHBsYWNlPUNBQ00sCiAgICBlbnRyeXR5cGU9ImFydGljbGUiLAogICAgSUQ9IktyYXNuZXIxOTkyKSIsCiAgICBwbGFjZXg9IkNvbW11bmljYXRpb25zIG9mIEFDTSIsCikpCgpEQihDaXRhdGlvbigKICAgIG1hcnRpbnMyMDA3Yiwga3Jhc25lcjE5OTJhLCByZWY9IiIsCiAgICBjb250ZXh0cz1bCgogICAgXSwKKSkKCicnJywgY2l0YXRpb25zPSdtYXJ0aW5zMjAwN2InKTs=\"));\n",
       "    "
      ],
      "text/plain": [
       "<IPython.core.display.Javascript object>"
      ]
     },
     "metadata": {},
     "output_type": "display_data"
    },
    {
     "data": {
      "application/javascript": [
       "$('span:contains(\"# Temp\")').closest('.cell').remove();"
      ],
      "text/plain": [
       "<IPython.core.display.Javascript object>"
      ]
     },
     "metadata": {},
     "output_type": "display_data"
    },
    {
     "data": {
      "application/javascript": [
       "\n",
       "        $('span:contains(\"# Temp\")').closest('.cell').remove();\n",
       "        var code = IPython.notebook.insert_cell_below('code');\n",
       "        code.set_text(atob(\"IyBUZW1wCmluc2VydCgnJycKa3Jhc25lcjE5OTJhID0gREIoV29ya1VucmVsYXRlZCgKICAgIDE5OTIsICJMZXNzb25zIGxlYXJuZWQgZnJvbSBhIHNvZnR3YXJlIHByb2Nlc3MgbW9kZWxpbmcgc3lzdGVtIiwKICAgIGRpc3BsYXk9ImtyYXNuZXIiLAogICAgYXV0aG9ycz0iS3Jhc25lciwgSC4sIFRpcnJlbCwgSi4sIExpbmVoYW4sIEEuLCBBcm5vbGQsIFAuICYgRXR0LCBXLkguIiwKICAgIHBsYWNlPUNBQ00sCiAgICBlbnRyeXR5cGU9ImFydGljbGUiLAogICAgSUQ9IktyYXNuZXIxOTkyKSIsCiAgICBwbGFjZXg9IkNvbW11bmljYXRpb25zIG9mIEFDTSIsCikpCgpEQihDaXRhdGlvbigKICAgIG1hcnRpbnMyMDA3Yiwga3Jhc25lcjE5OTJhLCByZWY9IiIsCiAgICBjb250ZXh0cz1bCgogICAgXSwKKSkKCicnJywgY2l0YXRpb25zPSdtYXJ0aW5zMjAwN2InKTs=\"));\n",
       "    "
      ],
      "text/plain": [
       "<IPython.core.display.Javascript object>"
      ]
     },
     "metadata": {},
     "output_type": "display_data"
    },
    {
     "data": {
      "application/javascript": [
       "$('span:contains(\"# Temp\")').closest('.cell').remove();"
      ],
      "text/plain": [
       "<IPython.core.display.Javascript object>"
      ]
     },
     "metadata": {},
     "output_type": "display_data"
    },
    {
     "data": {
      "application/javascript": [
       "\n",
       "        $('span:contains(\"# Temp\")').closest('.cell').remove();\n",
       "        var code = IPython.notebook.insert_cell_below('code');\n",
       "        code.set_text(atob(\"IyBUZW1wCmluc2VydCgnJycKICAgIGJvbGNlcjE5OTZhID0gREIoV29ya1VucmVsYXRlZCgKICAgICAgICAxOTk2LCAiRW5kZWF2b3JzOiBBIFByb2Nlc3MgU3lzdGVtIEludGVncmF0aW9uIEluZnJhc3RydWN0dXJlLiBJbnRlcm5hdGlvbmFsCkNvbmZlcmVuY2Ugb24gU29mdHdhcmUgUHJvY2VzcyAoSUNTUDQpIiwKICAgICAgICBkaXNwbGF5PSJib2xjZXIiLAogICAgICAgIGF1dGhvcnM9IkJvbGNlciwgRy4gJiBUYXlsb3IsIFIuIiwKICAgICAgICBwbGFjZT1GQUtFLAogICAgICAgIGVudHJ5dHlwZT0iYXJ0aWNsZSIsCiAgICAgICAgSUQ9IkJvbGNlcjE5OTYpIiwKICAgICAgICBwbGFjZXg9IkJyaWdodG9uLFUuSy4iLAogICAgKSkKCkRCKENpdGF0aW9uKAogICAgbWFydGluczIwMDdiLCBib2xjZXIxOTk2YSwgcmVmPSIiLAogICAgY29udGV4dHM9WwoKICAgIF0sCikpCgonJycsIGNpdGF0aW9ucz0nbWFydGluczIwMDdiJyk7\"));\n",
       "    "
      ],
      "text/plain": [
       "<IPython.core.display.Javascript object>"
      ]
     },
     "metadata": {},
     "output_type": "display_data"
    },
    {
     "data": {
      "application/javascript": [
       "$('span:contains(\"# Temp\")').closest('.cell').remove();"
      ],
      "text/plain": [
       "<IPython.core.display.Javascript object>"
      ]
     },
     "metadata": {},
     "output_type": "display_data"
    },
    {
     "data": {
      "application/javascript": [
       "\n",
       "        $('span:contains(\"# Temp\")').closest('.cell').remove();\n",
       "        var code = IPython.notebook.insert_cell_below('code');\n",
       "        code.set_text(atob(\"IyBUZW1wCmluc2VydCgnJycKICAgIGJvbGNlcjE5OTZhID0gREIoV29ya1VucmVsYXRlZCgKICAgICAgICAxOTk2LCAiRW5kZWF2b3JzOiBBIFByb2Nlc3MgU3lzdGVtIEludGVncmF0aW9uIEluZnJhc3RydWN0dXJlLiBJbnRlcm5hdGlvbmFsCkNvbmZlcmVuY2Ugb24gU29mdHdhcmUgUHJvY2VzcyAoSUNTUDQpIiwKICAgICAgICBkaXNwbGF5PSJib2xjZXIiLAogICAgICAgIGF1dGhvcnM9IkJvbGNlciwgRy4gJiBUYXlsb3IsIFIuIiwKICAgICAgICBwbGFjZT1GQUtFLAogICAgICAgIGVudHJ5dHlwZT0iYXJ0aWNsZSIsCiAgICAgICAgSUQ9IkJvbGNlcjE5OTYpIiwKICAgICAgICBwbGFjZXg9IkJyaWdodG9uLFUuSy4iLAogICAgKSkKCkRCKENpdGF0aW9uKAogICAgbWFydGluczIwMDdiLCBib2xjZXIxOTk2YSwgcmVmPSIiLAogICAgY29udGV4dHM9WwoKICAgIF0sCikpCgonJycsIGNpdGF0aW9ucz0nbWFydGluczIwMDdiJyk7\"));\n",
       "    "
      ],
      "text/plain": [
       "<IPython.core.display.Javascript object>"
      ]
     },
     "metadata": {},
     "output_type": "display_data"
    },
    {
     "data": {
      "application/javascript": [
       "$('span:contains(\"# Temp\")').closest('.cell').remove();"
      ],
      "text/plain": [
       "<IPython.core.display.Javascript object>"
      ]
     },
     "metadata": {},
     "output_type": "display_data"
    },
    {
     "data": {
      "application/javascript": [
       "\n",
       "        $('span:contains(\"# Temp\")').closest('.cell').remove();\n",
       "        var code = IPython.notebook.insert_cell_below('code');\n",
       "        code.set_text(atob(\"IyBUZW1wCmluc2VydCgnJycKYmFzaWxpMTk5MmIgPSBEQihXb3JrVW5yZWxhdGVkKAogICAgMTk5MiwgIkEgUmVmZXJlbmNlIEFyY2hpdGVjdHVyZSBmb3IgdGhlIENvbXBvbmVudCBGYWN0b3J5IiwKICAgIGRpc3BsYXk9ImJhc2lsaSBiIiwKICAgIGF1dGhvcnM9IkJhc2lsaSwgVi4sIENhbGRpZXJhLCBHLiAmIENhbnRvbmUsIEcuIiwKICAgIHBsYWNlPVRvU0UsCiAgICBwcD0iNTMtODAiLAogICAgZW50cnl0eXBlPSJhcnRpY2xlIiwKICAgIElEPSJCYXNpbGkxOTkyKSIsCiAgICBwbGFjZXg9IkFDTSBUcmFuc2FjdGlvbnMgb24gU29mdHdhcmUgRW5naW5lZXJpbmcgYW5kIE1ldGhvZG9sb2d5IiwKKSkKCkRCKENpdGF0aW9uKAogICAgbWFydGluczIwMDdiLCBiYXNpbGkxOTkyYiwgcmVmPSIiLAogICAgY29udGV4dHM9WwoKICAgIF0sCikpCgonJycsIGNpdGF0aW9ucz0nbWFydGluczIwMDdiJyk7\"));\n",
       "    "
      ],
      "text/plain": [
       "<IPython.core.display.Javascript object>"
      ]
     },
     "metadata": {},
     "output_type": "display_data"
    },
    {
     "data": {
      "application/javascript": [
       "$('span:contains(\"# Temp\")').closest('.cell').remove();"
      ],
      "text/plain": [
       "<IPython.core.display.Javascript object>"
      ]
     },
     "metadata": {},
     "output_type": "display_data"
    },
    {
     "data": {
      "application/javascript": [
       "\n",
       "        $('span:contains(\"# Temp\")').closest('.cell').remove();\n",
       "        var code = IPython.notebook.insert_cell_below('code');\n",
       "        code.set_text(atob(\"IyBUZW1wCmluc2VydCgnJycKYmFzaWxpMTk5MmIgPSBEQihXb3JrVW5yZWxhdGVkKAogICAgMTk5MiwgIkEgUmVmZXJlbmNlIEFyY2hpdGVjdHVyZSBmb3IgdGhlIENvbXBvbmVudCBGYWN0b3J5IiwKICAgIGRpc3BsYXk9ImJhc2lsaSBiIiwKICAgIGF1dGhvcnM9IkJhc2lsaSwgVi4sIENhbGRpZXJhLCBHLiAmIENhbnRvbmUsIEcuIiwKICAgIHBsYWNlPVRvU0UsCiAgICBwcD0iNTMtODAiLAogICAgZW50cnl0eXBlPSJhcnRpY2xlIiwKICAgIElEPSJCYXNpbGkxOTkyKSIsCiAgICBwbGFjZXg9IkFDTSBUcmFuc2FjdGlvbnMgb24gU29mdHdhcmUgRW5naW5lZXJpbmcgYW5kIE1ldGhvZG9sb2d5IiwKKSkKCkRCKENpdGF0aW9uKAogICAgbWFydGluczIwMDdiLCBiYXNpbGkxOTkyYiwgcmVmPSIiLAogICAgY29udGV4dHM9WwoKICAgIF0sCikpCgonJycsIGNpdGF0aW9ucz0nbWFydGluczIwMDdiJyk7\"));\n",
       "    "
      ],
      "text/plain": [
       "<IPython.core.display.Javascript object>"
      ]
     },
     "metadata": {},
     "output_type": "display_data"
    },
    {
     "data": {
      "application/javascript": [
       "$('span:contains(\"# Temp\")').closest('.cell').remove();"
      ],
      "text/plain": [
       "<IPython.core.display.Javascript object>"
      ]
     },
     "metadata": {},
     "output_type": "display_data"
    },
    {
     "data": {
      "application/javascript": [
       "\n",
       "        $('span:contains(\"# Temp\")').closest('.cell').remove();\n",
       "        var code = IPython.notebook.insert_cell_below('code');\n",
       "        code.set_text(atob(\"IyBUZW1wCmluc2VydCgnJycKICAgIGhlbm5pbmdlcjIwMDFhID0gREIoV29ya1VucmVsYXRlZCgKICAgICAgICAyMDAxLCAiQSBSZWZlcmVuY2UgQXJjaGl0ZWN0dXJlIGZvciB0aGUgQ29tcG9uZW50IEZhY3RvcnkiLAogICAgICAgIGRpc3BsYXk9Imhlbm5pbmdlciIsCiAgICAgICAgYXV0aG9ycz0iSGVubmluZ2VyLCBTLiAmIFNjaGxhYmFjaCwgSi4iLAogICAgICAgIHBsYWNlPUlDUEZTUEksCiAgICAgICAgcHA9IjE4Mi0xOTUiLAogICAgICAgIGVudHJ5dHlwZT0iYXJ0aWNsZSIsCiAgICAgICAgSUQ9Ikhlbm5pbmdlcjIwMDEpIiwKICAgICAgICBwbGFjZXg9IlRoaXJkIEludGVybmF0aW9uYWwgQ29uZmVyZW5jZSBvbiBQcm9kdWN0IEZvY3VzZWQgU29mdHdhcmUKUHJvY2VzcyBJbXByb3ZlbWVudCIsCiAgICApKQoKREIoQ2l0YXRpb24oCiAgICBtYXJ0aW5zMjAwN2IsIGhlbm5pbmdlcjIwMDFhLCByZWY9IiIsCiAgICBjb250ZXh0cz1bCgogICAgXSwKKSkKCicnJywgY2l0YXRpb25zPSdtYXJ0aW5zMjAwN2InKTs=\"));\n",
       "    "
      ],
      "text/plain": [
       "<IPython.core.display.Javascript object>"
      ]
     },
     "metadata": {},
     "output_type": "display_data"
    },
    {
     "data": {
      "application/javascript": [
       "$('span:contains(\"# Temp\")').closest('.cell').remove();"
      ],
      "text/plain": [
       "<IPython.core.display.Javascript object>"
      ]
     },
     "metadata": {},
     "output_type": "display_data"
    },
    {
     "data": {
      "application/javascript": [
       "\n",
       "        $('span:contains(\"# Temp\")').closest('.cell').remove();\n",
       "        var code = IPython.notebook.insert_cell_below('code');\n",
       "        code.set_text(atob(\"IyBUZW1wCmluc2VydCgnJycKICAgIGhlbm5pbmdlcjIwMDFhID0gREIoV29ya1VucmVsYXRlZCgKICAgICAgICAyMDAxLCAiQSBSZWZlcmVuY2UgQXJjaGl0ZWN0dXJlIGZvciB0aGUgQ29tcG9uZW50IEZhY3RvcnkiLAogICAgICAgIGRpc3BsYXk9Imhlbm5pbmdlciIsCiAgICAgICAgYXV0aG9ycz0iSGVubmluZ2VyLCBTLiAmIFNjaGxhYmFjaCwgSi4iLAogICAgICAgIHBsYWNlPUlDUEZTUEksCiAgICAgICAgcHA9IjE4Mi0xOTUiLAogICAgICAgIGVudHJ5dHlwZT0iYXJ0aWNsZSIsCiAgICAgICAgSUQ9Ikhlbm5pbmdlcjIwMDEpIiwKICAgICAgICBwbGFjZXg9IlRoaXJkIEludGVybmF0aW9uYWwgQ29uZmVyZW5jZSBvbiBQcm9kdWN0IEZvY3VzZWQgU29mdHdhcmUKUHJvY2VzcyBJbXByb3ZlbWVudCIsCiAgICApKQoKREIoQ2l0YXRpb24oCiAgICBtYXJ0aW5zMjAwN2IsIGhlbm5pbmdlcjIwMDFhLCByZWY9IiIsCiAgICBjb250ZXh0cz1bCgogICAgXSwKKSkKCicnJywgY2l0YXRpb25zPSdtYXJ0aW5zMjAwN2InKTs=\"));\n",
       "    "
      ],
      "text/plain": [
       "<IPython.core.display.Javascript object>"
      ]
     },
     "metadata": {},
     "output_type": "display_data"
    },
    {
     "data": {
      "application/javascript": [
       "$('span:contains(\"# Temp\")').closest('.cell').remove();"
      ],
      "text/plain": [
       "<IPython.core.display.Javascript object>"
      ]
     },
     "metadata": {},
     "output_type": "display_data"
    },
    {
     "data": {
      "application/javascript": [
       "\n",
       "        $('span:contains(\"# Temp\")').closest('.cell').remove();\n",
       "        var code = IPython.notebook.insert_cell_below('code');\n",
       "        code.set_text(atob(\"IyBUZW1wCmluc2VydCgnJycKaGVsbGVyMjAwM2EgPSBEQihXb3JrVW5yZWxhdGVkKAogICAgMjAwMywgIkEgTWFuYWdlbWVudCBTeXN0ZW0gZm9yIEV2b2x2aW5nIERldmVsb3BtZW50IFByb2Nlc3NlcyIsCiAgICBkaXNwbGF5PSJoZWxsZXIiLAogICAgYXV0aG9ycz0iSGVsbGVyLCBNLiwgU2NobGVpY2hlciwgQS4sICYgV2VzdGZlY2h0ZWwsIEIuIiwKICAgIHBsYWNlPUZBS0UsCiAgICBwcD0iMTgyLTE5NSIsCiAgICBlbnRyeXR5cGU9ImFydGljbGUiLAogICAgSUQ9IkhlbGxlcjIwMDMpIiwKICAgIHBsYWNleD0iUHJvY2VlZGluZ3MgN3RoIEludGVybmF0aW9uYWwgQ29uZmVyZW5jZSBvbiBJbnRlZ3JhdGVkIERlc2lnbiBhbmQgUHJvY2VzcyBUZWNobm9sb2d5IChJRFBUIiwKKSkKCkRCKENpdGF0aW9uKAogICAgbWFydGluczIwMDdiLCBoZWxsZXIyMDAzYSwgcmVmPSIiLAogICAgY29udGV4dHM9WwoKICAgIF0sCikpCgonJycsIGNpdGF0aW9ucz0nbWFydGluczIwMDdiJyk7\"));\n",
       "    "
      ],
      "text/plain": [
       "<IPython.core.display.Javascript object>"
      ]
     },
     "metadata": {},
     "output_type": "display_data"
    },
    {
     "data": {
      "application/javascript": [
       "$('span:contains(\"# Temp\")').closest('.cell').remove();"
      ],
      "text/plain": [
       "<IPython.core.display.Javascript object>"
      ]
     },
     "metadata": {},
     "output_type": "display_data"
    },
    {
     "data": {
      "application/javascript": [
       "\n",
       "        $('span:contains(\"# Temp\")').closest('.cell').remove();\n",
       "        var code = IPython.notebook.insert_cell_below('code');\n",
       "        code.set_text(atob(\"IyBUZW1wCmluc2VydCgnJycKaGVsbGVyMjAwM2EgPSBEQihXb3JrVW5yZWxhdGVkKAogICAgMjAwMywgIkEgTWFuYWdlbWVudCBTeXN0ZW0gZm9yIEV2b2x2aW5nIERldmVsb3BtZW50IFByb2Nlc3NlcyIsCiAgICBkaXNwbGF5PSJoZWxsZXIiLAogICAgYXV0aG9ycz0iSGVsbGVyLCBNLiwgU2NobGVpY2hlciwgQS4sICYgV2VzdGZlY2h0ZWwsIEIuIiwKICAgIHBsYWNlPUZBS0UsCiAgICBwcD0iMTgyLTE5NSIsCiAgICBlbnRyeXR5cGU9ImFydGljbGUiLAogICAgSUQ9IkhlbGxlcjIwMDMpIiwKICAgIHBsYWNleD0iUHJvY2VlZGluZ3MgN3RoIEludGVybmF0aW9uYWwgQ29uZmVyZW5jZSBvbiBJbnRlZ3JhdGVkIERlc2lnbiBhbmQgUHJvY2VzcyBUZWNobm9sb2d5IChJRFBUIiwKKSkKCkRCKENpdGF0aW9uKAogICAgbWFydGluczIwMDdiLCBoZWxsZXIyMDAzYSwgcmVmPSIiLAogICAgY29udGV4dHM9WwoKICAgIF0sCikpCgonJycsIGNpdGF0aW9ucz0nbWFydGluczIwMDdiJyk7\"));\n",
       "    "
      ],
      "text/plain": [
       "<IPython.core.display.Javascript object>"
      ]
     },
     "metadata": {},
     "output_type": "display_data"
    }
   ],
   "source": [
    "import importlib\n",
    "import custom_snowballing\n",
    "importlib.reload(custom_snowballing)\n",
    "from custom_snowballing import UnrelatedBackward\n",
    "UnrelatedBackward(\"münch2013a\", articles=article_list)"
   ]
  },
  {
   "cell_type": "code",
   "execution_count": 22,
   "metadata": {},
   "outputs": [
    {
     "name": "stdout",
     "output_type": "stream",
     "text": [
      "-Insert: heller2003a\n",
      "-Insert Import: heller2003a\n",
      "-Insert Citation: martins2007b -> heller2003a\n"
     ]
    }
   ],
   "source": [
    "# Temp\n",
    "insert('''\n",
    "heller2003a = DB(WorkUnrelated(\n",
    "    2003, \"A Management System for Evolving Development Processes\",\n",
    "    display=\"heller\",\n",
    "    authors=\"Heller, M., Schleicher, A., & Westfechtel, B.\",\n",
    "    place=FAKE,\n",
    "    pp=\"182-195\",\n",
    "    entrytype=\"article\",\n",
    "    ID=\"Heller2003)\",\n",
    "    placex=\"Proceedings 7th International Conference on Integrated Design and Process Technology (IDPT\",\n",
    "))\n",
    "\n",
    "DB(Citation(\n",
    "    martins2007b, heller2003a, ref=\"\",\n",
    "    contexts=[\n",
    "\n",
    "    ],\n",
    "))\n",
    "\n",
    "''', citations='martins2007b');"
   ]
  },
  {
   "cell_type": "code",
   "execution_count": null,
   "metadata": {
    "collapsed": true
   },
   "outputs": [],
   "source": []
  }
 ],
 "metadata": {
  "kernelspec": {
   "display_name": "Python 3",
   "language": "python",
   "name": "python3"
  },
  "language_info": {
   "codemirror_mode": {
    "name": "ipython",
    "version": 3
   },
   "file_extension": ".py",
   "mimetype": "text/x-python",
   "name": "python",
   "nbconvert_exporter": "python",
   "pygments_lexer": "ipython3",
   "version": "3.6.0"
  },
  "toc": {
   "nav_menu": {
    "height": "12px",
    "width": "252px"
   },
   "number_sections": true,
   "sideBar": true,
   "skip_h1_title": false,
   "toc_cell": false,
   "toc_position": {},
   "toc_section_display": "block",
   "toc_window_display": false
  }
 },
 "nbformat": 4,
 "nbformat_minor": 2
}
