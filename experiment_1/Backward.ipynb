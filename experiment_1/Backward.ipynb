{
 "cells": [
  {
   "cell_type": "code",
   "execution_count": 47,
   "metadata": {
    "collapsed": true
   },
   "outputs": [],
   "source": [
    "import database\n",
    "from snowballing.operations import load_work, reload, work_by_varname\n",
    "from snowballing.snowballing import Converter\n",
    "from snowballing.dbmanager import insert, set_attribute"
   ]
  },
  {
   "cell_type": "code",
   "execution_count": 48,
   "metadata": {
    "scrolled": true
   },
   "outputs": [
    {
     "data": {
      "application/vnd.jupyter.widget-view+json": {
       "model_id": "4e350a9397f840e1a20655cf25d04418",
       "version_major": 2,
       "version_minor": 0
      },
      "text/html": [
       "<p>Failed to display Jupyter Widget of type <code>VBox</code>.</p>\n",
       "<p>\n",
       "  If you're reading this message in Jupyter Notebook or JupyterLab, it may mean\n",
       "  that the widgets JavaScript is still loading. If this message persists, it\n",
       "  likely means that the widgets JavaScript library is either not installed or\n",
       "  not enabled. See the <a href=\"https://ipywidgets.readthedocs.io/en/stable/user_install.html\">Jupyter\n",
       "  Widgets Documentation</a> for setup instructions.\n",
       "</p>\n",
       "<p>\n",
       "  If you're reading this message in another notebook frontend (for example, a static\n",
       "  rendering on GitHub or <a href=\"https://nbviewer.jupyter.org/\">NBViewer</a>),\n",
       "  it may mean that your frontend doesn't currently support widgets.\n",
       "</p>\n"
      ],
      "text/plain": [
       "VBox(children=(HBox(children=(Dropdown(index=1, options={'BibTeX': 'bibtex', 'Text': 'text', '[N] author name place other year': 'citation', 'Quoted': 'quoted'}, value='text'), Button(description='Set article_list variable', disabled=True, style=ButtonStyle()), Label(value=''))), HBox(children=(Textarea(value='', layout=Layout(height='500px', width='50%')), Textarea(value='', layout=Layout(height='500px', width='50%'))))))"
      ]
     },
     "metadata": {},
     "output_type": "display_data"
    }
   ],
   "source": [
    "Converter().browser()"
   ]
  },
  {
   "cell_type": "code",
   "execution_count": 49,
   "metadata": {},
   "outputs": [
    {
     "data": {
      "text/plain": [
       "11"
      ]
     },
     "execution_count": 49,
     "metadata": {},
     "output_type": "execute_result"
    }
   ],
   "source": [
    "len(article_list)"
   ]
  },
  {
   "cell_type": "code",
   "execution_count": null,
   "metadata": {
    "collapsed": true
   },
   "outputs": [],
   "source": [
    "#from database.work.y2015 import li2015a"
   ]
  },
  {
   "cell_type": "code",
   "execution_count": null,
   "metadata": {
    "collapsed": true
   },
   "outputs": [],
   "source": [
    "#int(getattr(li2015a, 'scopus', 0))"
   ]
  },
  {
   "cell_type": "code",
   "execution_count": null,
   "metadata": {},
   "outputs": [],
   "source": [
    "#print(article_list)"
   ]
  },
  {
   "cell_type": "code",
   "execution_count": null,
   "metadata": {
    "collapsed": true
   },
   "outputs": [],
   "source": []
  },
  {
   "cell_type": "code",
   "execution_count": 50,
   "metadata": {},
   "outputs": [
    {
     "data": {
      "application/vnd.jupyter.widget-view+json": {
       "model_id": "7f15a0e5fcf4422da992448ba87da518",
       "version_major": 2,
       "version_minor": 0
      },
      "text/html": [
       "<p>Failed to display Jupyter Widget of type <code>VBox</code>.</p>\n",
       "<p>\n",
       "  If you're reading this message in Jupyter Notebook or JupyterLab, it may mean\n",
       "  that the widgets JavaScript is still loading. If this message persists, it\n",
       "  likely means that the widgets JavaScript library is either not installed or\n",
       "  not enabled. See the <a href=\"https://ipywidgets.readthedocs.io/en/stable/user_install.html\">Jupyter\n",
       "  Widgets Documentation</a> for setup instructions.\n",
       "</p>\n",
       "<p>\n",
       "  If you're reading this message in another notebook frontend (for example, a static\n",
       "  rendering on GitHub or <a href=\"https://nbviewer.jupyter.org/\">NBViewer</a>),\n",
       "  it may mean that your frontend doesn't currently support widgets.\n",
       "</p>\n"
      ],
      "text/plain": [
       "VBox(children=(HBox(children=(Button(description='Previous Article', disabled=True, icon='caret-left', style=ButtonStyle()), Button(description='Reload Article', icon='refresh', style=ButtonStyle()), Button(description='Next Article', icon='caret-right', style=ButtonStyle()))), HBox(children=(Button(description='Unrelated: Scripts', style=ButtonStyle()), Button(description='Unrelated: Provenance', style=ButtonStyle()), Button(description='Both', style=ButtonStyle()), Button(description='Ok', style=ButtonStyle()))), HBox(children=(Dropdown(description='Type', index=5, options=('Work', 'WorkSnowball', 'WorkForward', 'WorkBackward', 'WorkOk', 'WorkUnrelated', 'WorkNoFile', 'WorkLang', 'Site', 'Email'), value='WorkUnrelated'), ToggleButton(value=False, description='File'))), HBox(children=(Text(value='', description='Due'), Text(value='', description='Place'))), HBox(children=(Text(value='', description='Year'), Text(value='', description='Prefix Var'))), HBox(children=(Text(value='', description='PDFPage'), Text(value='', description='Related'))), HBox(children=(Text(value='', description='Display'), Text(value='', description='Summary'))), HBox(children=(Text(value='', description='Star'), Text(value='', description='Link'))), HBox(children=(Button(description='Reload Article', icon='refresh', style=ButtonStyle()), IntSlider(value=0, max=10), Label(value='1/11'))), Output()))"
      ]
     },
     "metadata": {},
     "output_type": "display_data"
    },
    {
     "data": {
      "application/javascript": [
       "$('span:contains(\"# Temp\")').closest('.cell').remove();"
      ],
      "text/plain": [
       "<IPython.core.display.Javascript object>"
      ]
     },
     "metadata": {},
     "output_type": "display_data"
    },
    {
     "data": {
      "application/javascript": [
       "\n",
       "        $('span:contains(\"# Temp\")').closest('.cell').remove();\n",
       "        var code = IPython.notebook.insert_cell_below('code');\n",
       "        code.set_text(atob(\"IyBUZW1wCmluc2VydCgnJycKYnJvZG1hbjE5OTRhID0gREIoV29ya1VucmVsYXRlZCgKICAgIDE5OTQsICJXaGF0IHNtYWxsIGJ1c2luZXNzZXMgYW5kIHNtYWxsIG9yZ2FuaXphdGlvbnMgc2F5IGFib3V0IHRoZSBDTU0iLAogICAgZGlzcGxheT0iYnJvZG1hbiIsCiAgICBhdXRob3JzPSJCcm9kbWFuLCBKdWRpdGggRy4gYW5kIEpvaG5zb24sIERvbm5hIEwuIiwKICAgIHBsYWNlPUlDU0UsCiAgICBwcD0iMzMxLTM0MCIsCiAgICBlbnRyeXR5cGU9ImNvbmZlcmVuY2UiLAogICAgbm90ZT0iY2l0ZWQgQnkgNjkiLAogICAgSUQ9IkJyb2RtYW4xOTk0MzMxIiwKICAgIHBsYWNleD0iUHJvY2VlZGluZ3MgLSBJbnRlcm5hdGlvbmFsIENvbmZlcmVuY2Ugb24gU29mdHdhcmUgRW5naW5lZXJpbmciLAopKQoKREIoQ2l0YXRpb24oCiAgICBrYXV0ejIwMDBhLCBicm9kbWFuMTk5NGEsIHJlZj0iIiwKICAgIGNvbnRleHRzPVsKCiAgICBdLAopKQoKJycnLCBjaXRhdGlvbnM9J2thdXR6MjAwMGEnKTs=\"));\n",
       "    "
      ],
      "text/plain": [
       "<IPython.core.display.Javascript object>"
      ]
     },
     "metadata": {},
     "output_type": "display_data"
    },
    {
     "data": {
      "application/javascript": [
       "$('span:contains(\"# Temp\")').closest('.cell').remove();"
      ],
      "text/plain": [
       "<IPython.core.display.Javascript object>"
      ]
     },
     "metadata": {},
     "output_type": "display_data"
    },
    {
     "data": {
      "application/javascript": [
       "\n",
       "        $('span:contains(\"# Temp\")').closest('.cell').remove();\n",
       "        var code = IPython.notebook.insert_cell_below('code');\n",
       "        code.set_text(atob(\"IyBUZW1wCmluc2VydCgnJycKa2F1dHoxOTk5YSA9IERCKFdvcmtVbnJlbGF0ZWQoCiAgICAxOTk5LCAiTWFraW5nIFNlbnNlIG9mIE1lYXN1cmVtZW50IGZvciBTbWFsbCBPcmdhbml6YXRpb25zIiwKICAgIGRpc3BsYXk9ImthdXR6IiwKICAgIGF1dGhvcnM9IkthdXR6LCBLLiIsCiAgICBwbGFjZT1JRUVFUywKICAgIHBwPSIxNC0yMCIsCiAgICBlbnRyeXR5cGU9ImFydGljbGUiLAogICAgdm9sdW1lPSIxNiIsCiAgICBudW1iZXI9IjIiLAogICAgZG9pPSIxMC4xMTA5LzUyLjc1NDA0NyIsCiAgICBub3RlPSJjaXRlZCBCeSAzMiIsCiAgICBJRD0iS2F1dHoxOTk5MTQiLAogICAgcGxhY2V4PSJJRUVFIFNvZnR3YXJlIiwKKSkKCkRCKENpdGF0aW9uKAogICAga2F1dHoyMDAwYSwga2F1dHoxOTk5YSwgcmVmPSIiLAogICAgY29udGV4dHM9WwoKICAgIF0sCikpCgonJycsIGNpdGF0aW9ucz0na2F1dHoyMDAwYScpOw==\"));\n",
       "    "
      ],
      "text/plain": [
       "<IPython.core.display.Javascript object>"
      ]
     },
     "metadata": {},
     "output_type": "display_data"
    },
    {
     "data": {
      "application/javascript": [
       "$('span:contains(\"# Temp\")').closest('.cell').remove();"
      ],
      "text/plain": [
       "<IPython.core.display.Javascript object>"
      ]
     },
     "metadata": {},
     "output_type": "display_data"
    },
    {
     "data": {
      "application/javascript": [
       "\n",
       "        $('span:contains(\"# Temp\")').closest('.cell').remove();\n",
       "        var code = IPython.notebook.insert_cell_below('code');\n",
       "        code.set_text(atob(\"IyBUZW1wCmluc2VydCgnJycKa2F1dHoxOTk5YSA9IERCKFdvcmtVbnJlbGF0ZWQoCiAgICAxOTk5LCAiTWFraW5nIFNlbnNlIG9mIE1lYXN1cmVtZW50IGZvciBTbWFsbCBPcmdhbml6YXRpb25zIiwKICAgIGRpc3BsYXk9ImthdXR6IiwKICAgIGF1dGhvcnM9IkthdXR6LCBLLiIsCiAgICBwbGFjZT1JRUVFUywKICAgIHBwPSIxNC0yMCIsCiAgICBlbnRyeXR5cGU9ImFydGljbGUiLAogICAgdm9sdW1lPSIxNiIsCiAgICBudW1iZXI9IjIiLAogICAgZG9pPSIxMC4xMTA5LzUyLjc1NDA0NyIsCiAgICBub3RlPSJjaXRlZCBCeSAzMiIsCiAgICBJRD0iS2F1dHoxOTk5MTQiLAogICAgcGxhY2V4PSJJRUVFIFNvZnR3YXJlIiwKKSkKCkRCKENpdGF0aW9uKAogICAga2F1dHoyMDAwYSwga2F1dHoxOTk5YSwgcmVmPSIiLAogICAgY29udGV4dHM9WwoKICAgIF0sCikpCgonJycsIGNpdGF0aW9ucz0na2F1dHoyMDAwYScpOw==\"));\n",
       "    "
      ],
      "text/plain": [
       "<IPython.core.display.Javascript object>"
      ]
     },
     "metadata": {},
     "output_type": "display_data"
    },
    {
     "data": {
      "application/javascript": [
       "$('span:contains(\"# Temp\")').closest('.cell').remove();"
      ],
      "text/plain": [
       "<IPython.core.display.Javascript object>"
      ]
     },
     "metadata": {},
     "output_type": "display_data"
    },
    {
     "data": {
      "application/javascript": [
       "\n",
       "        $('span:contains(\"# Temp\")').closest('.cell').remove();\n",
       "        var code = IPython.notebook.insert_cell_below('code');\n",
       "        code.set_text(atob(\"IyBUZW1wCmluc2VydCgnJycKYXJneXJpczE5OTFhID0gREIoV29ya1VucmVsYXRlZCgKICAgIDE5OTEsICJQYXJ0aWNpcGF0b3J5IGFjdGlvbiByZXNlYXJjaCBhbmQgYWN0aW9uIHNjaWVuY2UgY29tcGFyZWQ6IEEgY29tbWVudGFyeSIsCiAgICBkaXNwbGF5PSJhcmd5cmlzIiwKICAgIGF1dGhvcnM9IkFyZ3lyaXMsIEMuIGFuZCBTY2j2biwgRC5BLiIsCiAgICBwbGFjZT1GQUtFLAogICAgcHA9Ijg1LTk2IiwKICAgIGVudHJ5dHlwZT0iYXJ0aWNsZSIsCiAgICBub3RlPSJjaXRlZCBCeSAxMjIiLAogICAgSUQ9IkFyZ3lyaXMxOTkxODUiLAogICAgcGxhY2V4PSJQYXJ0aWNpcGF0b3J5IEFjdGlvbiBSZXNlYXJjaCIsCikpCgpEQihDaXRhdGlvbigKICAgIGthdXR6MjAwMGEsIGFyZ3lyaXMxOTkxYSwgcmVmPSIiLAogICAgY29udGV4dHM9WwoKICAgIF0sCikpCgonJycsIGNpdGF0aW9ucz0na2F1dHoyMDAwYScpOw==\"));\n",
       "    "
      ],
      "text/plain": [
       "<IPython.core.display.Javascript object>"
      ]
     },
     "metadata": {},
     "output_type": "display_data"
    },
    {
     "data": {
      "application/javascript": [
       "$('span:contains(\"# Temp\")').closest('.cell').remove();"
      ],
      "text/plain": [
       "<IPython.core.display.Javascript object>"
      ]
     },
     "metadata": {},
     "output_type": "display_data"
    },
    {
     "data": {
      "application/javascript": [
       "\n",
       "        $('span:contains(\"# Temp\")').closest('.cell').remove();\n",
       "        var code = IPython.notebook.insert_cell_below('code');\n",
       "        code.set_text(atob(\"IyBUZW1wCmluc2VydCgnJycKYXJneXJpczE5OTFhID0gREIoV29ya1VucmVsYXRlZCgKICAgIDE5OTEsICJQYXJ0aWNpcGF0b3J5IGFjdGlvbiByZXNlYXJjaCBhbmQgYWN0aW9uIHNjaWVuY2UgY29tcGFyZWQ6IEEgY29tbWVudGFyeSIsCiAgICBkaXNwbGF5PSJhcmd5cmlzIiwKICAgIGF1dGhvcnM9IkFyZ3lyaXMsIEMuIGFuZCBTY2j2biwgRC5BLiIsCiAgICBwbGFjZT1GQUtFLAogICAgcHA9Ijg1LTk2IiwKICAgIGVudHJ5dHlwZT0iYXJ0aWNsZSIsCiAgICBub3RlPSJjaXRlZCBCeSAxMjIiLAogICAgSUQ9IkFyZ3lyaXMxOTkxODUiLAogICAgcGxhY2V4PSJQYXJ0aWNpcGF0b3J5IEFjdGlvbiBSZXNlYXJjaCIsCikpCgpEQihDaXRhdGlvbigKICAgIGthdXR6MjAwMGEsIGFyZ3lyaXMxOTkxYSwgcmVmPSIiLAogICAgY29udGV4dHM9WwoKICAgIF0sCikpCgonJycsIGNpdGF0aW9ucz0na2F1dHoyMDAwYScpOw==\"));\n",
       "    "
      ],
      "text/plain": [
       "<IPython.core.display.Javascript object>"
      ]
     },
     "metadata": {},
     "output_type": "display_data"
    },
    {
     "data": {
      "application/javascript": [
       "$('span:contains(\"# Temp\")').closest('.cell').remove();"
      ],
      "text/plain": [
       "<IPython.core.display.Javascript object>"
      ]
     },
     "metadata": {},
     "output_type": "display_data"
    },
    {
     "data": {
      "application/javascript": [
       "\n",
       "        $('span:contains(\"# Temp\")').closest('.cell').remove();\n",
       "        var code = IPython.notebook.insert_cell_below('code');\n",
       "        code.set_text(atob(\"IyBUZW1wCmluc2VydCgnJycKbWNmZWVsZXkxOTk2YiA9IERCKFdvcmtVbnJlbGF0ZWQoCiAgICAxOTk2LCAiSURFQUxTTTogQSB1c2VyJ3MgZ3VpZGUgZm9yIHNvZnR3YXJlIHByb2Nlc3MgaW1wcm92ZW1lbnQiLAogICAgZGlzcGxheT0ibWNmZWVsZXkgYiIsCiAgICBhdXRob3JzPSJNY0ZlZWxleSwgQi4iLAogICAgcGxhY2U9RkFLRSwKICAgIGVudHJ5dHlwZT0iYXJ0aWNsZSIsCiAgICBub3RlPSJjaXRlZCBCeSA1IiwKICAgIElEPSJNY0ZlZWxleTE5OTYiLAogICAgcGxhY2V4PSJIYW5kYm9vayBDTVUvU0VJLTk2LUhCLTAwMSIsCikpCgpEQihDaXRhdGlvbigKICAgIGthdXR6MjAwMGEsIG1jZmVlbGV5MTk5NmIsIHJlZj0iIiwKICAgIGNvbnRleHRzPVsKCiAgICBdLAopKQoKJycnLCBjaXRhdGlvbnM9J2thdXR6MjAwMGEnKTs=\"));\n",
       "    "
      ],
      "text/plain": [
       "<IPython.core.display.Javascript object>"
      ]
     },
     "metadata": {},
     "output_type": "display_data"
    },
    {
     "data": {
      "application/javascript": [
       "$('span:contains(\"# Temp\")').closest('.cell').remove();"
      ],
      "text/plain": [
       "<IPython.core.display.Javascript object>"
      ]
     },
     "metadata": {},
     "output_type": "display_data"
    },
    {
     "data": {
      "application/javascript": [
       "\n",
       "        $('span:contains(\"# Temp\")').closest('.cell').remove();\n",
       "        var code = IPython.notebook.insert_cell_below('code');\n",
       "        code.set_text(atob(\"IyBUZW1wCmluc2VydCgnJycKbWNmZWVsZXkxOTk2YiA9IERCKFdvcmtVbnJlbGF0ZWQoCiAgICAxOTk2LCAiSURFQUxTTTogQSB1c2VyJ3MgZ3VpZGUgZm9yIHNvZnR3YXJlIHByb2Nlc3MgaW1wcm92ZW1lbnQiLAogICAgZGlzcGxheT0ibWNmZWVsZXkgYiIsCiAgICBhdXRob3JzPSJNY0ZlZWxleSwgQi4iLAogICAgcGxhY2U9RkFLRSwKICAgIGVudHJ5dHlwZT0iYXJ0aWNsZSIsCiAgICBub3RlPSJjaXRlZCBCeSA1IiwKICAgIElEPSJNY0ZlZWxleTE5OTYiLAogICAgcGxhY2V4PSJIYW5kYm9vayBDTVUvU0VJLTk2LUhCLTAwMSIsCikpCgpEQihDaXRhdGlvbigKICAgIGthdXR6MjAwMGEsIG1jZmVlbGV5MTk5NmIsIHJlZj0iIiwKICAgIGNvbnRleHRzPVsKCiAgICBdLAopKQoKJycnLCBjaXRhdGlvbnM9J2thdXR6MjAwMGEnKTs=\"));\n",
       "    "
      ],
      "text/plain": [
       "<IPython.core.display.Javascript object>"
      ]
     },
     "metadata": {},
     "output_type": "display_data"
    },
    {
     "data": {
      "application/javascript": [
       "$('span:contains(\"# Temp\")').closest('.cell').remove();"
      ],
      "text/plain": [
       "<IPython.core.display.Javascript object>"
      ]
     },
     "metadata": {},
     "output_type": "display_data"
    },
    {
     "data": {
      "application/javascript": [
       "\n",
       "        $('span:contains(\"# Temp\")').closest('.cell').remove();\n",
       "        var code = IPython.notebook.insert_cell_below('code');\n",
       "        code.set_text(atob(\"IyBUZW1wCmluc2VydCgnJycKaXZlcnNlbjE5OThhID0gREIoV29ya1VucmVsYXRlZCgKICAgIDE5OTgsICJDb21iaW5pbmcgcXVhbnRpdGF0aXZlIGFuZCBxdWFsaXRhdGl2ZSBhc3Nlc3NtZW50IG1ldGhvZHMgaW4gc29mdHdhcmUgcHJvY2VzcyBpbXByb3ZlbWVudCIsCiAgICBkaXNwbGF5PSJpdmVyc2VuIiwKICAgIGF1dGhvcnM9Ikl2ZXJzZW4sIEouIGFuZCBKb2hhbnNlbiwgSi4gYW5kIE5pZWxzZW4sIFAuQS4gYW5kIFByaWVzLUhlamUsIEouIiwKICAgIHBsYWNlPUZBS0UsCiAgICBwcD0iNDUxLTQ2NiIsCiAgICBlbnRyeXR5cGU9ImFydGljbGUiLAogICAgbm90ZT0iY2l0ZWQgQnkgOSIsCiAgICBJRD0iSXZlcnNlbjE5OTg0NTEiLAogICAgcGxhY2V4PSJQcm9jZWVkaW5ncyBvZiB0aGUgNnRoIEV1cm9wZWFuIENvbmZlcmVuY2Ugb24gSW5mb3JtYXRpb24gU3lzdGVtcyAoRUNJUykiLAopKQoKREIoQ2l0YXRpb24oCiAgICBrYXV0ejIwMDBhLCBpdmVyc2VuMTk5OGEsIHJlZj0iIiwKICAgIGNvbnRleHRzPVsKCiAgICBdLAopKQoKJycnLCBjaXRhdGlvbnM9J2thdXR6MjAwMGEnKTs=\"));\n",
       "    "
      ],
      "text/plain": [
       "<IPython.core.display.Javascript object>"
      ]
     },
     "metadata": {},
     "output_type": "display_data"
    },
    {
     "data": {
      "application/javascript": [
       "$('span:contains(\"# Temp\")').closest('.cell').remove();"
      ],
      "text/plain": [
       "<IPython.core.display.Javascript object>"
      ]
     },
     "metadata": {},
     "output_type": "display_data"
    },
    {
     "data": {
      "application/javascript": [
       "\n",
       "        $('span:contains(\"# Temp\")').closest('.cell').remove();\n",
       "        var code = IPython.notebook.insert_cell_below('code');\n",
       "        code.set_text(atob(\"IyBUZW1wCmluc2VydCgnJycKaXZlcnNlbjE5OThhID0gREIoV29ya1VucmVsYXRlZCgKICAgIDE5OTgsICJDb21iaW5pbmcgcXVhbnRpdGF0aXZlIGFuZCBxdWFsaXRhdGl2ZSBhc3Nlc3NtZW50IG1ldGhvZHMgaW4gc29mdHdhcmUgcHJvY2VzcyBpbXByb3ZlbWVudCIsCiAgICBkaXNwbGF5PSJpdmVyc2VuIiwKICAgIGF1dGhvcnM9Ikl2ZXJzZW4sIEouIGFuZCBKb2hhbnNlbiwgSi4gYW5kIE5pZWxzZW4sIFAuQS4gYW5kIFByaWVzLUhlamUsIEouIiwKICAgIHBsYWNlPUZBS0UsCiAgICBwcD0iNDUxLTQ2NiIsCiAgICBlbnRyeXR5cGU9ImFydGljbGUiLAogICAgbm90ZT0iY2l0ZWQgQnkgOSIsCiAgICBJRD0iSXZlcnNlbjE5OTg0NTEiLAogICAgcGxhY2V4PSJQcm9jZWVkaW5ncyBvZiB0aGUgNnRoIEV1cm9wZWFuIENvbmZlcmVuY2Ugb24gSW5mb3JtYXRpb24gU3lzdGVtcyAoRUNJUykiLAopKQoKREIoQ2l0YXRpb24oCiAgICBrYXV0ejIwMDBhLCBpdmVyc2VuMTk5OGEsIHJlZj0iIiwKICAgIGNvbnRleHRzPVsKCiAgICBdLAopKQoKJycnLCBjaXRhdGlvbnM9J2thdXR6MjAwMGEnKTs=\"));\n",
       "    "
      ],
      "text/plain": [
       "<IPython.core.display.Javascript object>"
      ]
     },
     "metadata": {},
     "output_type": "display_data"
    },
    {
     "data": {
      "application/javascript": [
       "$('span:contains(\"# Temp\")').closest('.cell').remove();"
      ],
      "text/plain": [
       "<IPython.core.display.Javascript object>"
      ]
     },
     "metadata": {},
     "output_type": "display_data"
    },
    {
     "data": {
      "application/javascript": [
       "\n",
       "        $('span:contains(\"# Temp\")').closest('.cell').remove();\n",
       "        var code = IPython.notebook.insert_cell_below('code');\n",
       "        code.set_text(atob(\"IyBUZW1wCmluc2VydCgnJycKaGFuc2VuMTk5OGEgPSBEQihXb3JrVW5yZWxhdGVkKAogICAgMTk5OCwgIk5QIC1Bc3Nlc3NtZW50IFByb2Nlc3MgUmVwb3J0IiwKICAgIGRpc3BsYXk9ImhhbnNlbiIsCiAgICBhdXRob3JzPSJXZXN0ZXJnYWFyZCBIYW5zZW4sIEguIGFuZCBUaGF5c2VuLCBLLiIsCiAgICBwbGFjZT1GQUtFLAogICAgZW50cnl0eXBlPSJhcnRpY2xlIiwKICAgIG5vdGU9ImNpdGVkIEJ5IDIiLAogICAgSUQ9Ildlc3RlcmdhYXJkSGFuc2VuMTk5OCIsCiAgICBwbGFjZXg9Ik5wLUFzc2Vzc21lbnQgUHJvY2VzcyBSZXBvcnQgKEluIERhbmlzaCkuIiwKKSkKCkRCKENpdGF0aW9uKAogICAga2F1dHoyMDAwYSwgaGFuc2VuMTk5OGEsIHJlZj0iIiwKICAgIGNvbnRleHRzPVsKCiAgICBdLAopKQoKJycnLCBjaXRhdGlvbnM9J2thdXR6MjAwMGEnKTs=\"));\n",
       "    "
      ],
      "text/plain": [
       "<IPython.core.display.Javascript object>"
      ]
     },
     "metadata": {},
     "output_type": "display_data"
    },
    {
     "data": {
      "application/javascript": [
       "$('span:contains(\"# Temp\")').closest('.cell').remove();"
      ],
      "text/plain": [
       "<IPython.core.display.Javascript object>"
      ]
     },
     "metadata": {},
     "output_type": "display_data"
    },
    {
     "data": {
      "application/javascript": [
       "\n",
       "        $('span:contains(\"# Temp\")').closest('.cell').remove();\n",
       "        var code = IPython.notebook.insert_cell_below('code');\n",
       "        code.set_text(atob(\"IyBUZW1wCmluc2VydCgnJycKaGFuc2VuMTk5OGEgPSBEQihXb3JrVW5yZWxhdGVkKAogICAgMTk5OCwgIk5QIC1Bc3Nlc3NtZW50IFByb2Nlc3MgUmVwb3J0IiwKICAgIGRpc3BsYXk9ImhhbnNlbiIsCiAgICBhdXRob3JzPSJXZXN0ZXJnYWFyZCBIYW5zZW4sIEguIGFuZCBUaGF5c2VuLCBLLiIsCiAgICBwbGFjZT1GQUtFLAogICAgZW50cnl0eXBlPSJhcnRpY2xlIiwKICAgIG5vdGU9ImNpdGVkIEJ5IDIiLAogICAgSUQ9Ildlc3RlcmdhYXJkSGFuc2VuMTk5OCIsCiAgICBwbGFjZXg9Ik5wLUFzc2Vzc21lbnQgUHJvY2VzcyBSZXBvcnQgKEluIERhbmlzaCkuIiwKKSkKCkRCKENpdGF0aW9uKAogICAga2F1dHoyMDAwYSwgaGFuc2VuMTk5OGEsIHJlZj0iIiwKICAgIGNvbnRleHRzPVsKCiAgICBdLAopKQoKJycnLCBjaXRhdGlvbnM9J2thdXR6MjAwMGEnKTs=\"));\n",
       "    "
      ],
      "text/plain": [
       "<IPython.core.display.Javascript object>"
      ]
     },
     "metadata": {},
     "output_type": "display_data"
    },
    {
     "data": {
      "application/javascript": [
       "$('span:contains(\"# Temp\")').closest('.cell').remove();"
      ],
      "text/plain": [
       "<IPython.core.display.Javascript object>"
      ]
     },
     "metadata": {},
     "output_type": "display_data"
    },
    {
     "data": {
      "application/javascript": [
       "\n",
       "        $('span:contains(\"# Temp\")').closest('.cell').remove();\n",
       "        var code = IPython.notebook.insert_cell_below('code');\n",
       "        code.set_text(atob(\"IyBUZW1wCmluc2VydCgnJycKaGFuc2VuMTk5OGIgPSBEQihXb3JrVW5yZWxhdGVkKAogICAgMTk5OCwgIlByb2Nlc3MgSW1wcm92ZW1lbnQgaW4gQSBTbWFsbCBEYW5pc2ggU29mdHdhcmUgQ29tcGFueSAoaW4gRGFuaXNoKSIsCiAgICBkaXNwbGF5PSJoYW5zZW4gYiIsCiAgICBhdXRob3JzPSJXZXN0ZXJnYWFyZCBIYW5zZW4sIEguIGFuZCBUaGF5c2VuLCBLLiIsCiAgICBwbGFjZT1GQUtFLAogICAgZW50cnl0eXBlPSJhcnRpY2xlIiwKICAgIG5vdGU9ImNpdGVkIEJ5IDIiLAogICAgSUQ9Ildlc3RlcmdhYXJkSGFuc2VuMTk5OCIsCiAgICBwbGFjZXg9Ik1TQyBUaGVzaXMsIFVuaXZlcnNpdHkgb2YgQWFsYm9yZywgSW5zdGl0dXRlIGZvciBFbGVjdHJvbmljIFN5c3RlbXMsIERlcGFydG1lbnQgb2YgQ29tcHV0ZXIgU2NpZW5jZSwgRGVubWFyayIsCikpCgpEQihDaXRhdGlvbigKICAgIGthdXR6MjAwMGEsIGhhbnNlbjE5OThiLCByZWY9IiIsCiAgICBjb250ZXh0cz1bCgogICAgXSwKKSkKCicnJywgY2l0YXRpb25zPSdrYXV0ejIwMDBhJyk7\"));\n",
       "    "
      ],
      "text/plain": [
       "<IPython.core.display.Javascript object>"
      ]
     },
     "metadata": {},
     "output_type": "display_data"
    },
    {
     "data": {
      "application/javascript": [
       "$('span:contains(\"# Temp\")').closest('.cell').remove();"
      ],
      "text/plain": [
       "<IPython.core.display.Javascript object>"
      ]
     },
     "metadata": {},
     "output_type": "display_data"
    },
    {
     "data": {
      "application/javascript": [
       "\n",
       "        $('span:contains(\"# Temp\")').closest('.cell').remove();\n",
       "        var code = IPython.notebook.insert_cell_below('code');\n",
       "        code.set_text(atob(\"IyBUZW1wCmluc2VydCgnJycKaGFuc2VuMTk5OGIgPSBEQihXb3JrVW5yZWxhdGVkKAogICAgMTk5OCwgIlByb2Nlc3MgSW1wcm92ZW1lbnQgaW4gQSBTbWFsbCBEYW5pc2ggU29mdHdhcmUgQ29tcGFueSAoaW4gRGFuaXNoKSIsCiAgICBkaXNwbGF5PSJoYW5zZW4gYiIsCiAgICBhdXRob3JzPSJXZXN0ZXJnYWFyZCBIYW5zZW4sIEguIGFuZCBUaGF5c2VuLCBLLiIsCiAgICBwbGFjZT1GQUtFLAogICAgZW50cnl0eXBlPSJhcnRpY2xlIiwKICAgIG5vdGU9ImNpdGVkIEJ5IDIiLAogICAgSUQ9Ildlc3RlcmdhYXJkSGFuc2VuMTk5OCIsCiAgICBwbGFjZXg9Ik1TQyBUaGVzaXMsIFVuaXZlcnNpdHkgb2YgQWFsYm9yZywgSW5zdGl0dXRlIGZvciBFbGVjdHJvbmljIFN5c3RlbXMsIERlcGFydG1lbnQgb2YgQ29tcHV0ZXIgU2NpZW5jZSwgRGVubWFyayIsCikpCgpEQihDaXRhdGlvbigKICAgIGthdXR6MjAwMGEsIGhhbnNlbjE5OThiLCByZWY9IiIsCiAgICBjb250ZXh0cz1bCgogICAgXSwKKSkKCicnJywgY2l0YXRpb25zPSdrYXV0ejIwMDBhJyk7\"));\n",
       "    "
      ],
      "text/plain": [
       "<IPython.core.display.Javascript object>"
      ]
     },
     "metadata": {},
     "output_type": "display_data"
    },
    {
     "data": {
      "application/javascript": [
       "$('span:contains(\"# Temp\")').closest('.cell').remove();"
      ],
      "text/plain": [
       "<IPython.core.display.Javascript object>"
      ]
     },
     "metadata": {},
     "output_type": "display_data"
    },
    {
     "data": {
      "application/javascript": [
       "\n",
       "        $('span:contains(\"# Temp\")').closest('.cell').remove();\n",
       "        var code = IPython.notebook.insert_cell_below('code');\n",
       "        code.set_text(atob(\"IyBUZW1wCmluc2VydCgnJycKa2F1dHoyMDAwYiA9IERCKFdvcmtVbnJlbGF0ZWQoCiAgICAyMDAwLCAiS25vd2xlZGdlLCBsZWFybmluZyBhbmQgSVQgc3VwcG9ydCBpbiBhIHNtYWxsIHNvZnR3YXJlIGNvbXBhbnkiLAogICAgZGlzcGxheT0ia2F1dHogYiIsCiAgICBhdXRob3JzPSJLYXV0eiwgSy4gYW5kIFRoYXlzZW4sIEsuIiwKICAgIHBsYWNlPUZBS0UsCiAgICBlbnRyeXR5cGU9ImFydGljbGUiLAogICAgbm90ZT0iY2l0ZWQgQnkgMiIsCiAgICBJRD0iS2F1dHoyMDAwIiwKICAgIHBsYWNleD0iUHJvY2VlZGluZ3Mgb2YgQlBSQyBDT05GRVJFTkNFIG9uICdLbm93bGVkZ2UgTWFuYWdlbWVudDogQ29uY2VwdHMgYW5kIENvbnRyb3ZlcnNpZXMnIiwKKSkKCkRCKENpdGF0aW9uKAogICAga2F1dHoyMDAwYSwga2F1dHoyMDAwYiwgcmVmPSIiLAogICAgY29udGV4dHM9WwoKICAgIF0sCikpCgonJycsIGNpdGF0aW9ucz0na2F1dHoyMDAwYScpOw==\"));\n",
       "    "
      ],
      "text/plain": [
       "<IPython.core.display.Javascript object>"
      ]
     },
     "metadata": {},
     "output_type": "display_data"
    },
    {
     "data": {
      "application/javascript": [
       "$('span:contains(\"# Temp\")').closest('.cell').remove();"
      ],
      "text/plain": [
       "<IPython.core.display.Javascript object>"
      ]
     },
     "metadata": {},
     "output_type": "display_data"
    },
    {
     "data": {
      "application/javascript": [
       "\n",
       "        $('span:contains(\"# Temp\")').closest('.cell').remove();\n",
       "        var code = IPython.notebook.insert_cell_below('code');\n",
       "        code.set_text(atob(\"IyBUZW1wCmluc2VydCgnJycKa2F1dHoyMDAwYiA9IERCKFdvcmtVbnJlbGF0ZWQoCiAgICAyMDAwLCAiS25vd2xlZGdlLCBsZWFybmluZyBhbmQgSVQgc3VwcG9ydCBpbiBhIHNtYWxsIHNvZnR3YXJlIGNvbXBhbnkiLAogICAgZGlzcGxheT0ia2F1dHogYiIsCiAgICBhdXRob3JzPSJLYXV0eiwgSy4gYW5kIFRoYXlzZW4sIEsuIiwKICAgIHBsYWNlPUZBS0UsCiAgICBlbnRyeXR5cGU9ImFydGljbGUiLAogICAgbm90ZT0iY2l0ZWQgQnkgMiIsCiAgICBJRD0iS2F1dHoyMDAwIiwKICAgIHBsYWNleD0iUHJvY2VlZGluZ3Mgb2YgQlBSQyBDT05GRVJFTkNFIG9uICdLbm93bGVkZ2UgTWFuYWdlbWVudDogQ29uY2VwdHMgYW5kIENvbnRyb3ZlcnNpZXMnIiwKKSkKCkRCKENpdGF0aW9uKAogICAga2F1dHoyMDAwYSwga2F1dHoyMDAwYiwgcmVmPSIiLAogICAgY29udGV4dHM9WwoKICAgIF0sCikpCgonJycsIGNpdGF0aW9ucz0na2F1dHoyMDAwYScpOw==\"));\n",
       "    "
      ],
      "text/plain": [
       "<IPython.core.display.Javascript object>"
      ]
     },
     "metadata": {},
     "output_type": "display_data"
    },
    {
     "data": {
      "application/javascript": [
       "$('span:contains(\"# Temp\")').closest('.cell').remove();"
      ],
      "text/plain": [
       "<IPython.core.display.Javascript object>"
      ]
     },
     "metadata": {},
     "output_type": "display_data"
    },
    {
     "data": {
      "application/javascript": [
       "\n",
       "        $('span:contains(\"# Temp\")').closest('.cell').remove();\n",
       "        var code = IPython.notebook.insert_cell_below('code');\n",
       "        code.set_text(atob(\"IyBUZW1wCmluc2VydCgnJycKcm9nZXJzMTk4M2EgPSBEQihXb3JrVW5yZWxhdGVkKAogICAgMTk4MywgIkRpZmZ1c2lvbiBvZiBJbm5vdmF0aW9ucyIsCiAgICBkaXNwbGF5PSJyb2dlcnMiLAogICAgYXV0aG9ycz0iUm9nZXJzLCBFLk0uIiwKICAgIHBsYWNlPUZBS0UsCiAgICBlbnRyeXR5cGU9ImFydGljbGUiLAogICAgbm90ZT0iY2l0ZWQgQnkgMzA5MTMiLAogICAgSUQ9IlJvZ2VyczE5ODMiLAogICAgcGxhY2V4PSIzcmRUaGUgRnJlZSBQcmVzcyIsCikpCgpEQihDaXRhdGlvbigKICAgIGthdXR6MjAwMGEsIHJvZ2VyczE5ODNhLCByZWY9IiIsCiAgICBjb250ZXh0cz1bCgogICAgXSwKKSkKCicnJywgY2l0YXRpb25zPSdrYXV0ejIwMDBhJyk7\"));\n",
       "    "
      ],
      "text/plain": [
       "<IPython.core.display.Javascript object>"
      ]
     },
     "metadata": {},
     "output_type": "display_data"
    },
    {
     "data": {
      "application/javascript": [
       "$('span:contains(\"# Temp\")').closest('.cell').remove();"
      ],
      "text/plain": [
       "<IPython.core.display.Javascript object>"
      ]
     },
     "metadata": {},
     "output_type": "display_data"
    },
    {
     "data": {
      "application/javascript": [
       "\n",
       "        $('span:contains(\"# Temp\")').closest('.cell').remove();\n",
       "        var code = IPython.notebook.insert_cell_below('code');\n",
       "        code.set_text(atob(\"IyBUZW1wCmluc2VydCgnJycKcm9nZXJzMTk4M2EgPSBEQihXb3JrVW5yZWxhdGVkKAogICAgMTk4MywgIkRpZmZ1c2lvbiBvZiBJbm5vdmF0aW9ucyIsCiAgICBkaXNwbGF5PSJyb2dlcnMiLAogICAgYXV0aG9ycz0iUm9nZXJzLCBFLk0uIiwKICAgIHBsYWNlPUZBS0UsCiAgICBlbnRyeXR5cGU9ImFydGljbGUiLAogICAgbm90ZT0iY2l0ZWQgQnkgMzA5MTMiLAogICAgSUQ9IlJvZ2VyczE5ODMiLAogICAgcGxhY2V4PSIzcmRUaGUgRnJlZSBQcmVzcyIsCikpCgpEQihDaXRhdGlvbigKICAgIGthdXR6MjAwMGEsIHJvZ2VyczE5ODNhLCByZWY9IiIsCiAgICBjb250ZXh0cz1bCgogICAgXSwKKSkKCicnJywgY2l0YXRpb25zPSdrYXV0ejIwMDBhJyk7\"));\n",
       "    "
      ],
      "text/plain": [
       "<IPython.core.display.Javascript object>"
      ]
     },
     "metadata": {},
     "output_type": "display_data"
    }
   ],
   "source": [
    "import importlib\n",
    "import custom_snowballing\n",
    "importlib.reload(custom_snowballing)\n",
    "from custom_snowballing import UnrelatedBackward\n",
    "UnrelatedBackward(\"kautz2000a\", articles=article_list)"
   ]
  },
  {
   "cell_type": "code",
   "execution_count": null,
   "metadata": {
    "collapsed": true
   },
   "outputs": [],
   "source": [
    "# Temp\n",
    "insert('''\n",
    "rogers1983a = DB(WorkUnrelated(\n",
    "    1983, \"Diffusion of Innovations\",\n",
    "    display=\"rogers\",\n",
    "    authors=\"Rogers, E.M.\",\n",
    "    place=FAKE,\n",
    "    entrytype=\"article\",\n",
    "    note=\"cited By 30913\",\n",
    "    ID=\"Rogers1983\",\n",
    "    placex=\"3rdThe Free Press\",\n",
    "))\n",
    "\n",
    "DB(Citation(\n",
    "    kautz2000a, rogers1983a, ref=\"\",\n",
    "    contexts=[\n",
    "\n",
    "    ],\n",
    "))\n",
    "\n",
    "''', citations='kautz2000a');"
   ]
  },
  {
   "cell_type": "code",
   "execution_count": null,
   "metadata": {
    "collapsed": true
   },
   "outputs": [],
   "source": []
  }
 ],
 "metadata": {
  "kernelspec": {
   "display_name": "Python 3",
   "language": "python",
   "name": "python3"
  },
  "language_info": {
   "codemirror_mode": {
    "name": "ipython",
    "version": 3
   },
   "file_extension": ".py",
   "mimetype": "text/x-python",
   "name": "python",
   "nbconvert_exporter": "python",
   "pygments_lexer": "ipython3",
   "version": "3.6.0"
  },
  "toc": {
   "nav_menu": {
    "height": "12px",
    "width": "252px"
   },
   "number_sections": true,
   "sideBar": true,
   "skip_h1_title": false,
   "toc_cell": false,
   "toc_position": {},
   "toc_section_display": "block",
   "toc_window_display": false
  }
 },
 "nbformat": 4,
 "nbformat_minor": 2
}
