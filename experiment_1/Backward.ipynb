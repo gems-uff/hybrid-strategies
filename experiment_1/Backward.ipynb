{
 "cells": [
  {
   "cell_type": "code",
   "execution_count": 54,
   "metadata": {
    "collapsed": true
   },
   "outputs": [],
   "source": [
    "import database\n",
    "from snowballing.operations import load_work, reload, work_by_varname\n",
    "from snowballing.snowballing import Converter\n",
    "from snowballing.dbmanager import insert, set_attribute"
   ]
  },
  {
   "cell_type": "code",
   "execution_count": 55,
   "metadata": {
    "scrolled": false
   },
   "outputs": [
    {
     "data": {
      "application/vnd.jupyter.widget-view+json": {
       "model_id": "a702a6ccdeed4a909b0e208d1944d72f",
       "version_major": 2,
       "version_minor": 0
      },
      "text/html": [
       "<p>Failed to display Jupyter Widget of type <code>VBox</code>.</p>\n",
       "<p>\n",
       "  If you're reading this message in Jupyter Notebook or JupyterLab, it may mean\n",
       "  that the widgets JavaScript is still loading. If this message persists, it\n",
       "  likely means that the widgets JavaScript library is either not installed or\n",
       "  not enabled. See the <a href=\"https://ipywidgets.readthedocs.io/en/stable/user_install.html\">Jupyter\n",
       "  Widgets Documentation</a> for setup instructions.\n",
       "</p>\n",
       "<p>\n",
       "  If you're reading this message in another notebook frontend (for example, a static\n",
       "  rendering on GitHub or <a href=\"https://nbviewer.jupyter.org/\">NBViewer</a>),\n",
       "  it may mean that your frontend doesn't currently support widgets.\n",
       "</p>\n"
      ],
      "text/plain": [
       "VBox(children=(HBox(children=(Dropdown(index=1, options={'BibTeX': 'bibtex', 'Text': 'text', '[N] author name place other year': 'citation', 'Quoted': 'quoted'}, value='text'), Button(description='Set article_list variable', disabled=True, style=ButtonStyle()), Label(value=''))), HBox(children=(Textarea(value='', layout=Layout(height='500px', width='50%')), Textarea(value='', layout=Layout(height='500px', width='50%'))))))"
      ]
     },
     "metadata": {},
     "output_type": "display_data"
    }
   ],
   "source": [
    "Converter().browser()"
   ]
  },
  {
   "cell_type": "code",
   "execution_count": 56,
   "metadata": {},
   "outputs": [
    {
     "data": {
      "text/plain": [
       "13"
      ]
     },
     "execution_count": 56,
     "metadata": {},
     "output_type": "execute_result"
    }
   ],
   "source": [
    "len(article_list)"
   ]
  },
  {
   "cell_type": "code",
   "execution_count": 4,
   "metadata": {
    "collapsed": true
   },
   "outputs": [],
   "source": [
    "#from database.work.y2015 import li2015a"
   ]
  },
  {
   "cell_type": "code",
   "execution_count": 5,
   "metadata": {
    "collapsed": true
   },
   "outputs": [],
   "source": [
    "#int(getattr(li2015a, 'scopus', 0))"
   ]
  },
  {
   "cell_type": "code",
   "execution_count": 6,
   "metadata": {},
   "outputs": [],
   "source": [
    "#print(article_list)"
   ]
  },
  {
   "cell_type": "code",
   "execution_count": null,
   "metadata": {
    "collapsed": true
   },
   "outputs": [],
   "source": []
  },
  {
   "cell_type": "code",
   "execution_count": 58,
   "metadata": {},
   "outputs": [
    {
     "data": {
      "application/vnd.jupyter.widget-view+json": {
       "model_id": "5449289bc78446e6b69df566a7192986",
       "version_major": 2,
       "version_minor": 0
      },
      "text/html": [
       "<p>Failed to display Jupyter Widget of type <code>VBox</code>.</p>\n",
       "<p>\n",
       "  If you're reading this message in Jupyter Notebook or JupyterLab, it may mean\n",
       "  that the widgets JavaScript is still loading. If this message persists, it\n",
       "  likely means that the widgets JavaScript library is either not installed or\n",
       "  not enabled. See the <a href=\"https://ipywidgets.readthedocs.io/en/stable/user_install.html\">Jupyter\n",
       "  Widgets Documentation</a> for setup instructions.\n",
       "</p>\n",
       "<p>\n",
       "  If you're reading this message in another notebook frontend (for example, a static\n",
       "  rendering on GitHub or <a href=\"https://nbviewer.jupyter.org/\">NBViewer</a>),\n",
       "  it may mean that your frontend doesn't currently support widgets.\n",
       "</p>\n"
      ],
      "text/plain": [
       "VBox(children=(HBox(children=(Button(description='Previous Article', disabled=True, icon='caret-left', style=ButtonStyle()), Button(description='Reload Article', icon='refresh', style=ButtonStyle()), Button(description='Next Article', icon='caret-right', style=ButtonStyle()))), HBox(children=(Button(description='Unrelated: Scripts', style=ButtonStyle()), Button(description='Unrelated: Provenance', style=ButtonStyle()), Button(description='Both', style=ButtonStyle()), Button(description='Ok', style=ButtonStyle()))), HBox(children=(Dropdown(description='Type', index=5, options=('Work', 'WorkSnowball', 'WorkForward', 'WorkBackward', 'WorkOk', 'WorkUnrelated', 'WorkNoFile', 'WorkLang', 'Site', 'Email'), value='WorkUnrelated'), ToggleButton(value=False, description='File'))), HBox(children=(Text(value='', description='Due'), Text(value='', description='Place'))), HBox(children=(Text(value='', description='Year'), Text(value='', description='Prefix Var'))), HBox(children=(Text(value='', description='PDFPage'), Text(value='', description='Related'))), HBox(children=(Text(value='', description='Display'), Text(value='', description='Summary'))), HBox(children=(Text(value='', description='Star'), Text(value='', description='Link'))), HBox(children=(Button(description='Reload Article', icon='refresh', style=ButtonStyle()), IntSlider(value=0, max=12), Label(value='1/13'))), Output()))"
      ]
     },
     "metadata": {},
     "output_type": "display_data"
    },
    {
     "data": {
      "application/javascript": [
       "$('span:contains(\"# Temp\")').closest('.cell').remove();"
      ],
      "text/plain": [
       "<IPython.core.display.Javascript object>"
      ]
     },
     "metadata": {},
     "output_type": "display_data"
    },
    {
     "data": {
      "application/javascript": [
       "\n",
       "        $('span:contains(\"# Temp\")').closest('.cell').remove();\n",
       "        var code = IPython.notebook.insert_cell_below('code');\n",
       "        code.set_text(atob(\"IyBUZW1wCmluc2VydCgnJycKYmFsbGEyMDAxYSA9IERCKFdvcmtVbnJlbGF0ZWQoCiAgICAyMDAxLCAiUXVhbGl0eSB0aHJvdWdoIE1hbmFnZWQgSW1wcm92ZW1lbnQgYW5kIE1lYXN1cmVtZW50IChRTUlNKTogVG93YXJkcyBhIFBoYXNlZCBEZXZlbG9wbWVudCBhbmQgSW1wbGVtZW50YXRpb24gb2YgYSBRdWFsaXR5IE1hbmFnZW1lbnQgU3lzdGVtIGZvciBhIFNvZnR3YXJlIENvbXBhbnkiLAogICAgZGlzcGxheT0iYmFsbGEiLAogICAgYXV0aG9ycz0iQmFsbGEsIEsuIGFuZCBCZW1lbG1hbnMsIFQuIGFuZCBLdXN0ZXJzLCBSLiBhbmQgVHJpZW5la2VucywgSi4iLAogICAgcGxhY2U9U1FKLAogICAgcHA9IjE3Ny0xOTMiLAogICAgZW50cnl0eXBlPSJhcnRpY2xlIiwKICAgIHZvbHVtZT0iOSIsCiAgICBudW1iZXI9IjMiLAogICAgZG9pPSIxMC4xMDIzL0E6MTAxMzMwMTUwMzYxNiIsCiAgICBub3RlPSJjaXRlZCBCeSAyMCIsCiAgICBJRD0iQmFsbGEyMDAxMTc3IiwKICAgIHBsYWNleD0iU29mdHdhcmUgUXVhbGl0eSBKb3VybmFsIiwKKSkKCkRCKENpdGF0aW9uKAogICAgdHJpZW5la2VuczIwMDlhLCBiYWxsYTIwMDFhLCByZWY9IiIsCiAgICBjb250ZXh0cz1bCgogICAgXSwKKSkKCicnJywgY2l0YXRpb25zPSd0cmllbmVrZW5zMjAwOWEnKTs=\"));\n",
       "    "
      ],
      "text/plain": [
       "<IPython.core.display.Javascript object>"
      ]
     },
     "metadata": {},
     "output_type": "display_data"
    },
    {
     "data": {
      "application/javascript": [
       "$('span:contains(\"# Temp\")').closest('.cell').remove();"
      ],
      "text/plain": [
       "<IPython.core.display.Javascript object>"
      ]
     },
     "metadata": {},
     "output_type": "display_data"
    },
    {
     "data": {
      "application/javascript": [
       "\n",
       "        $('span:contains(\"# Temp\")').closest('.cell').remove();\n",
       "        var code = IPython.notebook.insert_cell_below('code');\n",
       "        code.set_text(atob(\"IyBUZW1wCmluc2VydCgnJycKYm9sZHlyZWZmMTk5N2EgPSBEQihXb3JrVW5yZWxhdGVkKAogICAgMTk5NywgIkEgYmFzaXMgZm9yIHByb2Nlc3MgaW1wcm92ZW1lbnQgaW4gYXBwbGljYXRpb24gbWFuYWdlbWVudCIsCiAgICBkaXNwbGF5PSJib2xkeXJlZmYiLAogICAgYXV0aG9ycz0iQm9sZHlyZWZmLCBDLiBhbmQgRHJvc3QsIE0uIGFuZCBIaW5sZXksIEQuIGFuZCBNb3JyZWxsLCBNLiBhbmQgU3ltb25zLCBBLiIsCiAgICBwbGFjZT1TUUosCiAgICBwcD0iOTktMTExIiwKICAgIGVudHJ5dHlwZT0iYXJ0aWNsZSIsCiAgICB2b2x1bWU9IjYiLAogICAgbnVtYmVyPSIyIiwKICAgIG5vdGU9ImNpdGVkIEJ5IDIiLAogICAgSUQ9IkJvbGR5cmVmZjE5OTc5OSIsCiAgICBwbGFjZXg9IlNvZnR3YXJlIFF1YWxpdHkgSm91cm5hbCIsCikpCgpEQihDaXRhdGlvbigKICAgIHRyaWVuZWtlbnMyMDA5YSwgYm9sZHlyZWZmMTk5N2EsIHJlZj0iIiwKICAgIGNvbnRleHRzPVsKCiAgICBdLAopKQoKJycnLCBjaXRhdGlvbnM9J3RyaWVuZWtlbnMyMDA5YScpOw==\"));\n",
       "    "
      ],
      "text/plain": [
       "<IPython.core.display.Javascript object>"
      ]
     },
     "metadata": {},
     "output_type": "display_data"
    },
    {
     "data": {
      "application/javascript": [
       "$('span:contains(\"# Temp\")').closest('.cell').remove();"
      ],
      "text/plain": [
       "<IPython.core.display.Javascript object>"
      ]
     },
     "metadata": {},
     "output_type": "display_data"
    },
    {
     "data": {
      "application/javascript": [
       "\n",
       "        $('span:contains(\"# Temp\")').closest('.cell').remove();\n",
       "        var code = IPython.notebook.insert_cell_below('code');\n",
       "        code.set_text(atob(\"IyBUZW1wCmluc2VydCgnJycKYm9sZHlyZWZmMTk5N2EgPSBEQihXb3JrVW5yZWxhdGVkKAogICAgMTk5NywgIkEgYmFzaXMgZm9yIHByb2Nlc3MgaW1wcm92ZW1lbnQgaW4gYXBwbGljYXRpb24gbWFuYWdlbWVudCIsCiAgICBkaXNwbGF5PSJib2xkeXJlZmYiLAogICAgYXV0aG9ycz0iQm9sZHlyZWZmLCBDLiBhbmQgRHJvc3QsIE0uIGFuZCBIaW5sZXksIEQuIGFuZCBNb3JyZWxsLCBNLiBhbmQgU3ltb25zLCBBLiIsCiAgICBwbGFjZT1TUUosCiAgICBwcD0iOTktMTExIiwKICAgIGVudHJ5dHlwZT0iYXJ0aWNsZSIsCiAgICB2b2x1bWU9IjYiLAogICAgbnVtYmVyPSIyIiwKICAgIG5vdGU9ImNpdGVkIEJ5IDIiLAogICAgSUQ9IkJvbGR5cmVmZjE5OTc5OSIsCiAgICBwbGFjZXg9IlNvZnR3YXJlIFF1YWxpdHkgSm91cm5hbCIsCikpCgpEQihDaXRhdGlvbigKICAgIHRyaWVuZWtlbnMyMDA5YSwgYm9sZHlyZWZmMTk5N2EsIHJlZj0iIiwKICAgIGNvbnRleHRzPVsKCiAgICBdLAopKQoKJycnLCBjaXRhdGlvbnM9J3RyaWVuZWtlbnMyMDA5YScpOw==\"));\n",
       "    "
      ],
      "text/plain": [
       "<IPython.core.display.Javascript object>"
      ]
     },
     "metadata": {},
     "output_type": "display_data"
    },
    {
     "data": {
      "application/javascript": [
       "$('span:contains(\"# Temp\")').closest('.cell').remove();"
      ],
      "text/plain": [
       "<IPython.core.display.Javascript object>"
      ]
     },
     "metadata": {},
     "output_type": "display_data"
    },
    {
     "data": {
      "application/javascript": [
       "\n",
       "        $('span:contains(\"# Temp\")').closest('.cell').remove();\n",
       "        var code = IPython.notebook.insert_cell_below('code');\n",
       "        code.set_text(atob(\"IyBUZW1wCmluc2VydCgnJycKYm9sdHptYW5uMjAwMGEgPSBEQihXb3JrVW5yZWxhdGVkKAogICAgMjAwMCwgIkVudHJvcGllIHVuZCBXYXJzY2hlaW5saWNoa2VpdCIsCiAgICBkaXNwbGF5PSJib2x0em1hbm4iLAogICAgYXV0aG9ycz0iQm9sdHptYW5uLCBMLiIsCiAgICBwbGFjZT1GQUtFLAogICAgZW50cnl0eXBlPSJhcnRpY2xlIiwKICAgIHZvbHVtZT0iMjg2IiwKICAgIG5vdGU9ImNpdGVkIEJ5IDIiLAogICAgSUQ9IkJvbHR6bWFubjIwMDAiLAogICAgcGxhY2V4PSJPc3R3YWxkcyBLbGFzc2lrZXIiLAopKQoKREIoQ2l0YXRpb24oCiAgICB0cmllbmVrZW5zMjAwOWEsIGJvbHR6bWFubjIwMDBhLCByZWY9IiIsCiAgICBjb250ZXh0cz1bCgogICAgXSwKKSkKCicnJywgY2l0YXRpb25zPSd0cmllbmVrZW5zMjAwOWEnKTs=\"));\n",
       "    "
      ],
      "text/plain": [
       "<IPython.core.display.Javascript object>"
      ]
     },
     "metadata": {},
     "output_type": "display_data"
    },
    {
     "data": {
      "application/javascript": [
       "$('span:contains(\"# Temp\")').closest('.cell').remove();"
      ],
      "text/plain": [
       "<IPython.core.display.Javascript object>"
      ]
     },
     "metadata": {},
     "output_type": "display_data"
    },
    {
     "data": {
      "application/javascript": [
       "\n",
       "        $('span:contains(\"# Temp\")').closest('.cell').remove();\n",
       "        var code = IPython.notebook.insert_cell_below('code');\n",
       "        code.set_text(atob(\"IyBUZW1wCmluc2VydCgnJycKYm9sdHptYW5uMjAwMGEgPSBEQihXb3JrVW5yZWxhdGVkKAogICAgMjAwMCwgIkVudHJvcGllIHVuZCBXYXJzY2hlaW5saWNoa2VpdCIsCiAgICBkaXNwbGF5PSJib2x0em1hbm4iLAogICAgYXV0aG9ycz0iQm9sdHptYW5uLCBMLiIsCiAgICBwbGFjZT1GQUtFLAogICAgZW50cnl0eXBlPSJhcnRpY2xlIiwKICAgIHZvbHVtZT0iMjg2IiwKICAgIG5vdGU9ImNpdGVkIEJ5IDIiLAogICAgSUQ9IkJvbHR6bWFubjIwMDAiLAogICAgcGxhY2V4PSJPc3R3YWxkcyBLbGFzc2lrZXIiLAopKQoKREIoQ2l0YXRpb24oCiAgICB0cmllbmVrZW5zMjAwOWEsIGJvbHR6bWFubjIwMDBhLCByZWY9IiIsCiAgICBjb250ZXh0cz1bCgogICAgXSwKKSkKCicnJywgY2l0YXRpb25zPSd0cmllbmVrZW5zMjAwOWEnKTs=\"));\n",
       "    "
      ],
      "text/plain": [
       "<IPython.core.display.Javascript object>"
      ]
     },
     "metadata": {},
     "output_type": "display_data"
    },
    {
     "data": {
      "application/javascript": [
       "$('span:contains(\"# Temp\")').closest('.cell').remove();"
      ],
      "text/plain": [
       "<IPython.core.display.Javascript object>"
      ]
     },
     "metadata": {},
     "output_type": "display_data"
    },
    {
     "data": {
      "application/javascript": [
       "\n",
       "        $('span:contains(\"# Temp\")').closest('.cell').remove();\n",
       "        var code = IPython.notebook.insert_cell_below('code');\n",
       "        code.set_text(atob(\"IyBUZW1wCmluc2VydCgnJycKaGFicmEyMDA3YSA9IERCKFdvcmtVbnJlbGF0ZWQoCiAgICAyMDA3LCAiSW5pdGlhdGluZyBzb2Z0d2FyZSBwcm9jZXNzIGltcHJvdmVtZW50IGluIHZlcnkgc21hbGwgZW50ZXJwcmlzZXM6IEV4cGVyaWVuY2Ugd2l0aCBhIGxpZ2h0IGFzc2Vzc21lbnQgdG9vbCIsCiAgICBkaXNwbGF5PSJoYWJyYSIsCiAgICBhdXRob3JzPSJIYWJyYSwgTi4gYW5kIEFsZXhhbmRyZSwgUy4gYW5kIERlc2hhcm5haXMsIEouTS4gYW5kIExhcG9ydGUsIEMuWS4gYW5kIFJlbmF1bHQsIEEuIiwKICAgIHBsYWNlPUlTVCwKICAgIGVudHJ5dHlwZT0iYXJ0aWNsZSIsCiAgICBub3RlPSJjaXRlZCBCeSAyIiwKICAgIElEPSJIYWJyYTIwMDciLAogICAgcGxhY2V4PSJJbmZvcm1hdGlvbiBhbmQgU29mdHdhcmUgVGVjaG5vbG9neSIsCikpCgpEQihDaXRhdGlvbigKICAgIHRyaWVuZWtlbnMyMDA5YSwgaGFicmEyMDA3YSwgcmVmPSIiLAogICAgY29udGV4dHM9WwoKICAgIF0sCikpCgonJycsIGNpdGF0aW9ucz0ndHJpZW5la2VuczIwMDlhJyk7\"));\n",
       "    "
      ],
      "text/plain": [
       "<IPython.core.display.Javascript object>"
      ]
     },
     "metadata": {},
     "output_type": "display_data"
    },
    {
     "data": {
      "application/javascript": [
       "$('span:contains(\"# Temp\")').closest('.cell').remove();"
      ],
      "text/plain": [
       "<IPython.core.display.Javascript object>"
      ]
     },
     "metadata": {},
     "output_type": "display_data"
    },
    {
     "data": {
      "application/javascript": [
       "\n",
       "        $('span:contains(\"# Temp\")').closest('.cell').remove();\n",
       "        var code = IPython.notebook.insert_cell_below('code');\n",
       "        code.set_text(atob(\"IyBUZW1wCmluc2VydCgnJycKaGFicmEyMDA3YSA9IERCKFdvcmtVbnJlbGF0ZWQoCiAgICAyMDA3LCAiSW5pdGlhdGluZyBzb2Z0d2FyZSBwcm9jZXNzIGltcHJvdmVtZW50IGluIHZlcnkgc21hbGwgZW50ZXJwcmlzZXM6IEV4cGVyaWVuY2Ugd2l0aCBhIGxpZ2h0IGFzc2Vzc21lbnQgdG9vbCIsCiAgICBkaXNwbGF5PSJoYWJyYSIsCiAgICBhdXRob3JzPSJIYWJyYSwgTi4gYW5kIEFsZXhhbmRyZSwgUy4gYW5kIERlc2hhcm5haXMsIEouTS4gYW5kIExhcG9ydGUsIEMuWS4gYW5kIFJlbmF1bHQsIEEuIiwKICAgIHBsYWNlPUlTVCwKICAgIGVudHJ5dHlwZT0iYXJ0aWNsZSIsCiAgICBub3RlPSJjaXRlZCBCeSAyIiwKICAgIElEPSJIYWJyYTIwMDciLAogICAgcGxhY2V4PSJJbmZvcm1hdGlvbiBhbmQgU29mdHdhcmUgVGVjaG5vbG9neSIsCikpCgpEQihDaXRhdGlvbigKICAgIHRyaWVuZWtlbnMyMDA5YSwgaGFicmEyMDA3YSwgcmVmPSIiLAogICAgY29udGV4dHM9WwoKICAgIF0sCikpCgonJycsIGNpdGF0aW9ucz0ndHJpZW5la2VuczIwMDlhJyk7\"));\n",
       "    "
      ],
      "text/plain": [
       "<IPython.core.display.Javascript object>"
      ]
     },
     "metadata": {},
     "output_type": "display_data"
    },
    {
     "data": {
      "application/javascript": [
       "$('span:contains(\"# Temp\")').closest('.cell').remove();"
      ],
      "text/plain": [
       "<IPython.core.display.Javascript object>"
      ]
     },
     "metadata": {},
     "output_type": "display_data"
    },
    {
     "data": {
      "application/javascript": [
       "\n",
       "        $('span:contains(\"# Temp\")').closest('.cell').remove();\n",
       "        var code = IPython.notebook.insert_cell_below('code');\n",
       "        code.set_text(atob(\"IyBUZW1wCmluc2VydCgnJycKaHVtcGhyZXkyMDExYSA9IERCKFdvcmtVbnJlbGF0ZWQoCiAgICAyMDExLCAiQSBzb2Z0d2FyZSBtYXR1cml0eSBmcmFtZXdvcmsiLAogICAgZGlzcGxheT0iaHVtcGhyZXkiLAogICAgYXV0aG9ycz0iSHVtcGhyZXksIFcuUy4iLAogICAgcGxhY2U9Qm9vaywKICAgIHBwPSI1My02MyIsCiAgICBlbnRyeXR5cGU9ImJvb2siLAogICAgZG9pPSIxMC4xMTA5Lzk3ODExMTgxNTY2NjcuY2gyIiwKICAgIG5vdGU9ImNpdGVkIEJ5IDEiLAogICAgSUQ9Ikh1bXBocmV5MjAxMTUzIiwKICAgIHBsYWNleD0iU29mdHdhcmUgUHJvY2VzcyBJbXByb3ZlbWVudCIsCikpCgpEQihDaXRhdGlvbigKICAgIHRyaWVuZWtlbnMyMDA5YSwgaHVtcGhyZXkyMDExYSwgcmVmPSIiLAogICAgY29udGV4dHM9WwoKICAgIF0sCikpCgonJycsIGNpdGF0aW9ucz0ndHJpZW5la2VuczIwMDlhJyk7\"));\n",
       "    "
      ],
      "text/plain": [
       "<IPython.core.display.Javascript object>"
      ]
     },
     "metadata": {},
     "output_type": "display_data"
    },
    {
     "data": {
      "application/javascript": [
       "$('span:contains(\"# Temp\")').closest('.cell').remove();"
      ],
      "text/plain": [
       "<IPython.core.display.Javascript object>"
      ]
     },
     "metadata": {},
     "output_type": "display_data"
    },
    {
     "data": {
      "application/javascript": [
       "\n",
       "        $('span:contains(\"# Temp\")').closest('.cell').remove();\n",
       "        var code = IPython.notebook.insert_cell_below('code');\n",
       "        code.set_text(atob(\"IyBUZW1wCmluc2VydCgnJycKaHVtcGhyZXkyMDExYSA9IERCKFdvcmtVbnJlbGF0ZWQoCiAgICAyMDExLCAiQSBzb2Z0d2FyZSBtYXR1cml0eSBmcmFtZXdvcmsiLAogICAgZGlzcGxheT0iaHVtcGhyZXkiLAogICAgYXV0aG9ycz0iSHVtcGhyZXksIFcuUy4iLAogICAgcGxhY2U9Qm9vaywKICAgIHBwPSI1My02MyIsCiAgICBlbnRyeXR5cGU9ImJvb2siLAogICAgZG9pPSIxMC4xMTA5Lzk3ODExMTgxNTY2NjcuY2gyIiwKICAgIG5vdGU9ImNpdGVkIEJ5IDEiLAogICAgSUQ9Ikh1bXBocmV5MjAxMTUzIiwKICAgIHBsYWNleD0iU29mdHdhcmUgUHJvY2VzcyBJbXByb3ZlbWVudCIsCikpCgpEQihDaXRhdGlvbigKICAgIHRyaWVuZWtlbnMyMDA5YSwgaHVtcGhyZXkyMDExYSwgcmVmPSIiLAogICAgY29udGV4dHM9WwoKICAgIF0sCikpCgonJycsIGNpdGF0aW9ucz0ndHJpZW5la2VuczIwMDlhJyk7\"));\n",
       "    "
      ],
      "text/plain": [
       "<IPython.core.display.Javascript object>"
      ]
     },
     "metadata": {},
     "output_type": "display_data"
    },
    {
     "data": {
      "application/javascript": [
       "$('span:contains(\"# Temp\")').closest('.cell').remove();"
      ],
      "text/plain": [
       "<IPython.core.display.Javascript object>"
      ]
     },
     "metadata": {},
     "output_type": "display_data"
    },
    {
     "data": {
      "application/javascript": [
       "\n",
       "        $('span:contains(\"# Temp\")').closest('.cell').remove();\n",
       "        var code = IPython.notebook.insert_cell_below('code');\n",
       "        code.set_text(atob(\"IyBUZW1wCmluc2VydCgnJycKa3VpbGJvZXIyMDAwYSA9IERCKFdvcmtVbnJlbGF0ZWQoCiAgICAyMDAwLCAiU29mdHdhcmUgcHJvY2VzcyBhbmQgcHJvZHVjdCBpbXByb3ZlbWVudDogQW4gZW1waXJpY2FsIGFzc2Vzc21lbnQiLAogICAgZGlzcGxheT0ia3VpbGJvZXIiLAogICAgYXV0aG9ycz0iS3VpbGJvZXIsIEouUC4gYW5kIEFzaHJhZmksIE4uIiwKICAgIHBsYWNlPUlTVCwKICAgIHBwPSIyNy0zNCIsCiAgICBlbnRyeXR5cGU9ImFydGljbGUiLAogICAgdm9sdW1lPSI0MiIsCiAgICBudW1iZXI9IjEiLAogICAgZG9pPSIxMC4xMDE2L1MwOTUwLTU4NDkoOTkpMDAwNTQtMyIsCiAgICBub3RlPSJjaXRlZCBCeSA0NSIsCiAgICBJRD0iS3VpbGJvZXIyMDAwMjciLAogICAgcGxhY2V4PSJJbmZvcm1hdGlvbiBhbmQgU29mdHdhcmUgVGVjaG5vbG9neSIsCikpCgpEQihDaXRhdGlvbigKICAgIHRyaWVuZWtlbnMyMDA5YSwga3VpbGJvZXIyMDAwYSwgcmVmPSIiLAogICAgY29udGV4dHM9WwoKICAgIF0sCikpCgonJycsIGNpdGF0aW9ucz0ndHJpZW5la2VuczIwMDlhJyk7\"));\n",
       "    "
      ],
      "text/plain": [
       "<IPython.core.display.Javascript object>"
      ]
     },
     "metadata": {},
     "output_type": "display_data"
    },
    {
     "data": {
      "application/javascript": [
       "$('span:contains(\"# Temp\")').closest('.cell').remove();"
      ],
      "text/plain": [
       "<IPython.core.display.Javascript object>"
      ]
     },
     "metadata": {},
     "output_type": "display_data"
    },
    {
     "data": {
      "application/javascript": [
       "\n",
       "        $('span:contains(\"# Temp\")').closest('.cell').remove();\n",
       "        var code = IPython.notebook.insert_cell_below('code');\n",
       "        code.set_text(atob(\"IyBUZW1wCmluc2VydCgnJycKa3VpbGJvZXIyMDAwYSA9IERCKFdvcmtVbnJlbGF0ZWQoCiAgICAyMDAwLCAiU29mdHdhcmUgcHJvY2VzcyBhbmQgcHJvZHVjdCBpbXByb3ZlbWVudDogQW4gZW1waXJpY2FsIGFzc2Vzc21lbnQiLAogICAgZGlzcGxheT0ia3VpbGJvZXIiLAogICAgYXV0aG9ycz0iS3VpbGJvZXIsIEouUC4gYW5kIEFzaHJhZmksIE4uIiwKICAgIHBsYWNlPUlTVCwKICAgIHBwPSIyNy0zNCIsCiAgICBlbnRyeXR5cGU9ImFydGljbGUiLAogICAgdm9sdW1lPSI0MiIsCiAgICBudW1iZXI9IjEiLAogICAgZG9pPSIxMC4xMDE2L1MwOTUwLTU4NDkoOTkpMDAwNTQtMyIsCiAgICBub3RlPSJjaXRlZCBCeSA0NSIsCiAgICBJRD0iS3VpbGJvZXIyMDAwMjciLAogICAgcGxhY2V4PSJJbmZvcm1hdGlvbiBhbmQgU29mdHdhcmUgVGVjaG5vbG9neSIsCikpCgpEQihDaXRhdGlvbigKICAgIHRyaWVuZWtlbnMyMDA5YSwga3VpbGJvZXIyMDAwYSwgcmVmPSIiLAogICAgY29udGV4dHM9WwoKICAgIF0sCikpCgonJycsIGNpdGF0aW9ucz0ndHJpZW5la2VuczIwMDlhJyk7\"));\n",
       "    "
      ],
      "text/plain": [
       "<IPython.core.display.Javascript object>"
      ]
     },
     "metadata": {},
     "output_type": "display_data"
    },
    {
     "data": {
      "application/javascript": [
       "$('span:contains(\"# Temp\")').closest('.cell').remove();"
      ],
      "text/plain": [
       "<IPython.core.display.Javascript object>"
      ]
     },
     "metadata": {},
     "output_type": "display_data"
    },
    {
     "data": {
      "application/javascript": [
       "\n",
       "        $('span:contains(\"# Temp\")').closest('.cell').remove();\n",
       "        var code = IPython.notebook.insert_cell_below('code');\n",
       "        code.set_text(atob(\"IyBUZW1wCmluc2VydCgnJycKbmd3ZW55YW1hMjAwM2EgPSBEQihXb3JrVW5yZWxhdGVkKAogICAgMjAwMywgIkNvbXBldGluZyB2YWx1ZXMgaW4gc29mdHdhcmUgcHJvY2VzcyBpbXByb3ZlbWVudDogQW4gYXNzdW1wdGlvbiBhbmFseXNpcyBvZiBDTU0gZnJvbSBhbiBvcmdhbml6YXRpb25hbCBjdWx0dXJlIHBlcnNwZWN0aXZlIiwKICAgIGRpc3BsYXk9Im5nd2VueWFtYSIsCiAgICBhdXRob3JzPSJOZ3dlbnlhbWEsIE8uIGFuZCBOaWVsc2VuLCBQLkEuIiwKICAgIHBsYWNlPUZBS0UsCiAgICBwcD0iMTAwLTExMiIsCiAgICBlbnRyeXR5cGU9ImFydGljbGUiLAogICAgdm9sdW1lPSI1MCIsCiAgICBudW1iZXI9IjEiLAogICAgZG9pPSIxMC4xMTA5L1RFTS4yMDAyLjgwODI2NyIsCiAgICBub3RlPSJjaXRlZCBCeSA5NCIsCiAgICBJRD0iTmd3ZW55YW1hMjAwMzEwMCIsCiAgICBwbGFjZXg9IklFRUUgVHJhbnNhY3Rpb25zIG9uIEVuZ2luZWVyaW5nIE1hbmFnZW1lbnQiLAopKQoKREIoQ2l0YXRpb24oCiAgICB0cmllbmVrZW5zMjAwOWEsIG5nd2VueWFtYTIwMDNhLCByZWY9IiIsCiAgICBjb250ZXh0cz1bCgogICAgXSwKKSkKCicnJywgY2l0YXRpb25zPSd0cmllbmVrZW5zMjAwOWEnKTs=\"));\n",
       "    "
      ],
      "text/plain": [
       "<IPython.core.display.Javascript object>"
      ]
     },
     "metadata": {},
     "output_type": "display_data"
    },
    {
     "data": {
      "application/javascript": [
       "$('span:contains(\"# Temp\")').closest('.cell').remove();"
      ],
      "text/plain": [
       "<IPython.core.display.Javascript object>"
      ]
     },
     "metadata": {},
     "output_type": "display_data"
    },
    {
     "data": {
      "application/javascript": [
       "\n",
       "        $('span:contains(\"# Temp\")').closest('.cell').remove();\n",
       "        var code = IPython.notebook.insert_cell_below('code');\n",
       "        code.set_text(atob(\"IyBUZW1wCmluc2VydCgnJycKbmd3ZW55YW1hMjAwM2EgPSBEQihXb3JrVW5yZWxhdGVkKAogICAgMjAwMywgIkNvbXBldGluZyB2YWx1ZXMgaW4gc29mdHdhcmUgcHJvY2VzcyBpbXByb3ZlbWVudDogQW4gYXNzdW1wdGlvbiBhbmFseXNpcyBvZiBDTU0gZnJvbSBhbiBvcmdhbml6YXRpb25hbCBjdWx0dXJlIHBlcnNwZWN0aXZlIiwKICAgIGRpc3BsYXk9Im5nd2VueWFtYSIsCiAgICBhdXRob3JzPSJOZ3dlbnlhbWEsIE8uIGFuZCBOaWVsc2VuLCBQLkEuIiwKICAgIHBsYWNlPUZBS0UsCiAgICBwcD0iMTAwLTExMiIsCiAgICBlbnRyeXR5cGU9ImFydGljbGUiLAogICAgdm9sdW1lPSI1MCIsCiAgICBudW1iZXI9IjEiLAogICAgZG9pPSIxMC4xMTA5L1RFTS4yMDAyLjgwODI2NyIsCiAgICBub3RlPSJjaXRlZCBCeSA5NCIsCiAgICBJRD0iTmd3ZW55YW1hMjAwMzEwMCIsCiAgICBwbGFjZXg9IklFRUUgVHJhbnNhY3Rpb25zIG9uIEVuZ2luZWVyaW5nIE1hbmFnZW1lbnQiLAopKQoKREIoQ2l0YXRpb24oCiAgICB0cmllbmVrZW5zMjAwOWEsIG5nd2VueWFtYTIwMDNhLCByZWY9IiIsCiAgICBjb250ZXh0cz1bCgogICAgXSwKKSkKCicnJywgY2l0YXRpb25zPSd0cmllbmVrZW5zMjAwOWEnKTs=\"));\n",
       "    "
      ],
      "text/plain": [
       "<IPython.core.display.Javascript object>"
      ]
     },
     "metadata": {},
     "output_type": "display_data"
    },
    {
     "data": {
      "application/javascript": [
       "$('span:contains(\"# Temp\")').closest('.cell').remove();"
      ],
      "text/plain": [
       "<IPython.core.display.Javascript object>"
      ]
     },
     "metadata": {},
     "output_type": "display_data"
    },
    {
     "data": {
      "application/javascript": [
       "\n",
       "        $('span:contains(\"# Temp\")').closest('.cell').remove();\n",
       "        var code = IPython.notebook.insert_cell_below('code');\n",
       "        code.set_text(atob(\"IyBUZW1wCmluc2VydCgnJycKcGF1bGsxOTkzYiA9IERCKFdvcmtVbnJlbGF0ZWQoCiAgICAxOTkzLCAiQ2FwYWJpbGl0eSBtYXR1cml0eSBtb2RlbCBmb3Igc29mdHdhcmUiLAogICAgZGlzcGxheT0icGF1bGsgYiIsCiAgICBhdXRob3JzPSJQYXVsaywgTS5DLiBhbmQgQ3VydGlzLCBCLiBhbmQgQ2hyaXNzaXMsIE0uQi4gYW5kIFdlYmVyLCBDLlYuIiwKICAgIHBsYWNlPUZBS0UsCiAgICBlbnRyeXR5cGU9ImFydGljbGUiLAogICAgbm90ZT0iY2l0ZWQgQnkgMTAwNCIsCiAgICBJRD0iUGF1bGsxOTkzIiwKICAgIHBsYWNleD0iQ2FwYWJpbGl0eSBNYXR1cml0eSBNb2RlbCBmb3IgU29mdHdhcmUsIFZlcnNpb24gMS4xIiwKKSkKCkRCKENpdGF0aW9uKAogICAgdHJpZW5la2VuczIwMDlhLCBwYXVsazE5OTNiLCByZWY9IiIsCiAgICBjb250ZXh0cz1bCgogICAgXSwKKSkKCicnJywgY2l0YXRpb25zPSd0cmllbmVrZW5zMjAwOWEnKTs=\"));\n",
       "    "
      ],
      "text/plain": [
       "<IPython.core.display.Javascript object>"
      ]
     },
     "metadata": {},
     "output_type": "display_data"
    },
    {
     "data": {
      "application/javascript": [
       "$('span:contains(\"# Temp\")').closest('.cell').remove();"
      ],
      "text/plain": [
       "<IPython.core.display.Javascript object>"
      ]
     },
     "metadata": {},
     "output_type": "display_data"
    },
    {
     "data": {
      "application/javascript": [
       "\n",
       "        $('span:contains(\"# Temp\")').closest('.cell').remove();\n",
       "        var code = IPython.notebook.insert_cell_below('code');\n",
       "        code.set_text(atob(\"IyBUZW1wCmluc2VydCgnJycKcGF1bGsxOTkzYiA9IERCKFdvcmtVbnJlbGF0ZWQoCiAgICAxOTkzLCAiQ2FwYWJpbGl0eSBtYXR1cml0eSBtb2RlbCBmb3Igc29mdHdhcmUiLAogICAgZGlzcGxheT0icGF1bGsgYiIsCiAgICBhdXRob3JzPSJQYXVsaywgTS5DLiBhbmQgQ3VydGlzLCBCLiBhbmQgQ2hyaXNzaXMsIE0uQi4gYW5kIFdlYmVyLCBDLlYuIiwKICAgIHBsYWNlPUZBS0UsCiAgICBlbnRyeXR5cGU9ImFydGljbGUiLAogICAgbm90ZT0iY2l0ZWQgQnkgMTAwNCIsCiAgICBJRD0iUGF1bGsxOTkzIiwKICAgIHBsYWNleD0iQ2FwYWJpbGl0eSBNYXR1cml0eSBNb2RlbCBmb3IgU29mdHdhcmUsIFZlcnNpb24gMS4xIiwKKSkKCkRCKENpdGF0aW9uKAogICAgdHJpZW5la2VuczIwMDlhLCBwYXVsazE5OTNiLCByZWY9IiIsCiAgICBjb250ZXh0cz1bCgogICAgXSwKKSkKCicnJywgY2l0YXRpb25zPSd0cmllbmVrZW5zMjAwOWEnKTs=\"));\n",
       "    "
      ],
      "text/plain": [
       "<IPython.core.display.Javascript object>"
      ]
     },
     "metadata": {},
     "output_type": "display_data"
    },
    {
     "data": {
      "application/javascript": [
       "$('span:contains(\"# Temp\")').closest('.cell').remove();"
      ],
      "text/plain": [
       "<IPython.core.display.Javascript object>"
      ]
     },
     "metadata": {},
     "output_type": "display_data"
    },
    {
     "data": {
      "application/javascript": [
       "\n",
       "        $('span:contains(\"# Temp\")').closest('.cell').remove();\n",
       "        var code = IPython.notebook.insert_cell_below('code');\n",
       "        code.set_text(atob(\"IyBUZW1wCmluc2VydCgnJycKREIoQ2l0YXRpb24oCiAgICB0cmllbmVrZW5zMjAwOWEsIHBhdWxrMTk5NWEsIHJlZj0iIiwKICAgIGNvbnRleHRzPVsKCiAgICBdLAopKQoKJycnLCBjaXRhdGlvbnM9J3RyaWVuZWtlbnMyMDA5YScpOw==\"));\n",
       "    "
      ],
      "text/plain": [
       "<IPython.core.display.Javascript object>"
      ]
     },
     "metadata": {},
     "output_type": "display_data"
    },
    {
     "data": {
      "application/javascript": [
       "$('span:contains(\"# Temp\")').closest('.cell').remove();"
      ],
      "text/plain": [
       "<IPython.core.display.Javascript object>"
      ]
     },
     "metadata": {},
     "output_type": "display_data"
    },
    {
     "data": {
      "application/javascript": [
       "\n",
       "        $('span:contains(\"# Temp\")').closest('.cell').remove();\n",
       "        var code = IPython.notebook.insert_cell_below('code');\n",
       "        code.set_text(atob(\"IyBUZW1wCmluc2VydCgnJycKREIoQ2l0YXRpb24oCiAgICB0cmllbmVrZW5zMjAwOWEsIHBhdWxrMTk5NWEsIHJlZj0iIiwKICAgIGNvbnRleHRzPVsKCiAgICBdLAopKQoKJycnLCBjaXRhdGlvbnM9J3RyaWVuZWtlbnMyMDA5YScpOw==\"));\n",
       "    "
      ],
      "text/plain": [
       "<IPython.core.display.Javascript object>"
      ]
     },
     "metadata": {},
     "output_type": "display_data"
    },
    {
     "data": {
      "application/javascript": [
       "$('span:contains(\"# Temp\")').closest('.cell').remove();"
      ],
      "text/plain": [
       "<IPython.core.display.Javascript object>"
      ]
     },
     "metadata": {},
     "output_type": "display_data"
    },
    {
     "data": {
      "application/javascript": [
       "\n",
       "        $('span:contains(\"# Temp\")').closest('.cell').remove();\n",
       "        var code = IPython.notebook.insert_cell_below('code');\n",
       "        code.set_text(atob(\"IyBUZW1wCmluc2VydCgnJycKcnVpejIwMDJhID0gREIoV29ya1VucmVsYXRlZCgKICAgIDIwMDIsICJBIER5bmFtaWMgSW50ZWdyYXRlZCBGcmFtZXdvcmsgZm9yIFNvZnR3YXJlIFByb2Nlc3MgSW1wcm92ZW1lbnQiLAogICAgZGlzcGxheT0icnVpeiIsCiAgICBhdXRob3JzPSJSdWl6LCBNLiBhbmQgUmFtb3MsIEkuIGFuZCBUb3JvLCBNLiIsCiAgICBwbGFjZT1TUUosCiAgICBwcD0iMTgxLTE5NCIsCiAgICBlbnRyeXR5cGU9ImFydGljbGUiLAogICAgdm9sdW1lPSIxMCIsCiAgICBudW1iZXI9IjIiLAogICAgZG9pPSIxMC4xMDIzL0E6MTAyMDU4MDAwODY5NCIsCiAgICBub3RlPSJjaXRlZCBCeSAxMiIsCiAgICBJRD0iUnVpejIwMDIxODEiLAogICAgcGxhY2V4PSJTb2Z0d2FyZSBRdWFsaXR5IEpvdXJuYWwiLAopKQoKREIoQ2l0YXRpb24oCiAgICB0cmllbmVrZW5zMjAwOWEsIHJ1aXoyMDAyYSwgcmVmPSIiLAogICAgY29udGV4dHM9WwoKICAgIF0sCikpCgonJycsIGNpdGF0aW9ucz0ndHJpZW5la2VuczIwMDlhJyk7\"));\n",
       "    "
      ],
      "text/plain": [
       "<IPython.core.display.Javascript object>"
      ]
     },
     "metadata": {},
     "output_type": "display_data"
    },
    {
     "data": {
      "application/javascript": [
       "$('span:contains(\"# Temp\")').closest('.cell').remove();"
      ],
      "text/plain": [
       "<IPython.core.display.Javascript object>"
      ]
     },
     "metadata": {},
     "output_type": "display_data"
    },
    {
     "data": {
      "application/javascript": [
       "\n",
       "        $('span:contains(\"# Temp\")').closest('.cell').remove();\n",
       "        var code = IPython.notebook.insert_cell_below('code');\n",
       "        code.set_text(atob(\"IyBUZW1wCmluc2VydCgnJycKcnVpejIwMDJhID0gREIoV29ya1VucmVsYXRlZCgKICAgIDIwMDIsICJBIER5bmFtaWMgSW50ZWdyYXRlZCBGcmFtZXdvcmsgZm9yIFNvZnR3YXJlIFByb2Nlc3MgSW1wcm92ZW1lbnQiLAogICAgZGlzcGxheT0icnVpeiIsCiAgICBhdXRob3JzPSJSdWl6LCBNLiBhbmQgUmFtb3MsIEkuIGFuZCBUb3JvLCBNLiIsCiAgICBwbGFjZT1TUUosCiAgICBwcD0iMTgxLTE5NCIsCiAgICBlbnRyeXR5cGU9ImFydGljbGUiLAogICAgdm9sdW1lPSIxMCIsCiAgICBudW1iZXI9IjIiLAogICAgZG9pPSIxMC4xMDIzL0E6MTAyMDU4MDAwODY5NCIsCiAgICBub3RlPSJjaXRlZCBCeSAxMiIsCiAgICBJRD0iUnVpejIwMDIxODEiLAogICAgcGxhY2V4PSJTb2Z0d2FyZSBRdWFsaXR5IEpvdXJuYWwiLAopKQoKREIoQ2l0YXRpb24oCiAgICB0cmllbmVrZW5zMjAwOWEsIHJ1aXoyMDAyYSwgcmVmPSIiLAogICAgY29udGV4dHM9WwoKICAgIF0sCikpCgonJycsIGNpdGF0aW9ucz0ndHJpZW5la2VuczIwMDlhJyk7\"));\n",
       "    "
      ],
      "text/plain": [
       "<IPython.core.display.Javascript object>"
      ]
     },
     "metadata": {},
     "output_type": "display_data"
    }
   ],
   "source": [
    "import importlib\n",
    "import custom_snowballing\n",
    "importlib.reload(custom_snowballing)\n",
    "from custom_snowballing import UnrelatedBackward\n",
    "UnrelatedBackward(\"trienekens2009a\", articles=article_list)"
   ]
  },
  {
   "cell_type": "code",
   "execution_count": 68,
   "metadata": {},
   "outputs": [
    {
     "name": "stdout",
     "output_type": "stream",
     "text": [
      "-Insert: ruiz2002a\n",
      "-Insert Import: ruiz2002a\n",
      "-Insert Citation: trienekens2009a -> ruiz2002a\n"
     ]
    }
   ],
   "source": [
    "# Temp\n",
    "insert('''\n",
    "ruiz2002a = DB(WorkUnrelated(\n",
    "    2002, \"A Dynamic Integrated Framework for Software Process Improvement\",\n",
    "    display=\"ruiz\",\n",
    "    authors=\"Ruiz, M. and Ramos, I. and Toro, M.\",\n",
    "    place=SQJ,\n",
    "    pp=\"181-194\",\n",
    "    entrytype=\"article\",\n",
    "    volume=\"10\",\n",
    "    number=\"2\",\n",
    "    doi=\"10.1023/A:1020580008694\",\n",
    "    note=\"cited By 12\",\n",
    "    ID=\"Ruiz2002181\",\n",
    "    placex=\"Software Quality Journal\",\n",
    "))\n",
    "\n",
    "DB(Citation(\n",
    "    trienekens2009a, ruiz2002a, ref=\"\",\n",
    "    contexts=[\n",
    "\n",
    "    ],\n",
    "))\n",
    "\n",
    "''', citations='trienekens2009a');"
   ]
  },
  {
   "cell_type": "code",
   "execution_count": null,
   "metadata": {
    "collapsed": true
   },
   "outputs": [],
   "source": []
  }
 ],
 "metadata": {
  "kernelspec": {
   "display_name": "Python 3",
   "language": "python",
   "name": "python3"
  },
  "language_info": {
   "codemirror_mode": {
    "name": "ipython",
    "version": 3
   },
   "file_extension": ".py",
   "mimetype": "text/x-python",
   "name": "python",
   "nbconvert_exporter": "python",
   "pygments_lexer": "ipython3",
   "version": "3.6.0"
  },
  "toc": {
   "nav_menu": {
    "height": "12px",
    "width": "252px"
   },
   "number_sections": true,
   "sideBar": true,
   "skip_h1_title": false,
   "toc_cell": false,
   "toc_position": {},
   "toc_section_display": "block",
   "toc_window_display": false
  }
 },
 "nbformat": 4,
 "nbformat_minor": 2
}
