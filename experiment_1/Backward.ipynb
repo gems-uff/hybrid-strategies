{
 "cells": [
  {
   "cell_type": "code",
   "execution_count": 48,
   "metadata": {
    "collapsed": true
   },
   "outputs": [],
   "source": [
    "import database\n",
    "from snowballing.operations import load_work, reload, work_by_varname\n",
    "from snowballing.snowballing import Converter\n",
    "from snowballing.dbmanager import insert, set_attribute"
   ]
  },
  {
   "cell_type": "code",
   "execution_count": 49,
   "metadata": {
    "scrolled": false
   },
   "outputs": [
    {
     "data": {
      "application/vnd.jupyter.widget-view+json": {
       "model_id": "888062ec512b41eba81ed1dbda35d29e",
       "version_major": 2,
       "version_minor": 0
      },
      "text/html": [
       "<p>Failed to display Jupyter Widget of type <code>VBox</code>.</p>\n",
       "<p>\n",
       "  If you're reading this message in Jupyter Notebook or JupyterLab, it may mean\n",
       "  that the widgets JavaScript is still loading. If this message persists, it\n",
       "  likely means that the widgets JavaScript library is either not installed or\n",
       "  not enabled. See the <a href=\"https://ipywidgets.readthedocs.io/en/stable/user_install.html\">Jupyter\n",
       "  Widgets Documentation</a> for setup instructions.\n",
       "</p>\n",
       "<p>\n",
       "  If you're reading this message in another notebook frontend (for example, a static\n",
       "  rendering on GitHub or <a href=\"https://nbviewer.jupyter.org/\">NBViewer</a>),\n",
       "  it may mean that your frontend doesn't currently support widgets.\n",
       "</p>\n"
      ],
      "text/plain": [
       "VBox(children=(HBox(children=(Dropdown(index=1, options={'BibTeX': 'bibtex', 'Text': 'text', '[N] author name place other year': 'citation', 'Quoted': 'quoted'}, value='text'), Button(description='Set article_list variable', disabled=True, style=ButtonStyle()), Label(value=''))), HBox(children=(Textarea(value='', layout=Layout(height='500px', width='50%')), Textarea(value='', layout=Layout(height='500px', width='50%'))))))"
      ]
     },
     "metadata": {},
     "output_type": "display_data"
    }
   ],
   "source": [
    "Converter().browser()"
   ]
  },
  {
   "cell_type": "code",
   "execution_count": 50,
   "metadata": {},
   "outputs": [
    {
     "data": {
      "text/plain": [
       "16"
      ]
     },
     "execution_count": 50,
     "metadata": {},
     "output_type": "execute_result"
    }
   ],
   "source": [
    "len(article_list)"
   ]
  },
  {
   "cell_type": "code",
   "execution_count": null,
   "metadata": {
    "collapsed": true
   },
   "outputs": [],
   "source": [
    "#from database.work.y2015 import li2015a"
   ]
  },
  {
   "cell_type": "code",
   "execution_count": null,
   "metadata": {
    "collapsed": true
   },
   "outputs": [],
   "source": [
    "#int(getattr(li2015a, 'scopus', 0))"
   ]
  },
  {
   "cell_type": "code",
   "execution_count": null,
   "metadata": {},
   "outputs": [],
   "source": [
    "#print(article_list)"
   ]
  },
  {
   "cell_type": "code",
   "execution_count": null,
   "metadata": {
    "collapsed": true
   },
   "outputs": [],
   "source": []
  },
  {
   "cell_type": "code",
   "execution_count": 51,
   "metadata": {},
   "outputs": [
    {
     "data": {
      "application/vnd.jupyter.widget-view+json": {
       "model_id": "ee3690d3f676420e966cc14e909d851b",
       "version_major": 2,
       "version_minor": 0
      },
      "text/html": [
       "<p>Failed to display Jupyter Widget of type <code>VBox</code>.</p>\n",
       "<p>\n",
       "  If you're reading this message in Jupyter Notebook or JupyterLab, it may mean\n",
       "  that the widgets JavaScript is still loading. If this message persists, it\n",
       "  likely means that the widgets JavaScript library is either not installed or\n",
       "  not enabled. See the <a href=\"https://ipywidgets.readthedocs.io/en/stable/user_install.html\">Jupyter\n",
       "  Widgets Documentation</a> for setup instructions.\n",
       "</p>\n",
       "<p>\n",
       "  If you're reading this message in another notebook frontend (for example, a static\n",
       "  rendering on GitHub or <a href=\"https://nbviewer.jupyter.org/\">NBViewer</a>),\n",
       "  it may mean that your frontend doesn't currently support widgets.\n",
       "</p>\n"
      ],
      "text/plain": [
       "VBox(children=(HBox(children=(Button(description='Previous Article', disabled=True, icon='caret-left', style=ButtonStyle()), Button(description='Reload Article', icon='refresh', style=ButtonStyle()), Button(description='Next Article', icon='caret-right', style=ButtonStyle()))), HBox(children=(Button(description='Unrelated: Scripts', style=ButtonStyle()), Button(description='Unrelated: Provenance', style=ButtonStyle()), Button(description='Both', style=ButtonStyle()), Button(description='Ok', style=ButtonStyle()))), HBox(children=(Dropdown(description='Type', index=5, options=('Work', 'WorkSnowball', 'WorkForward', 'WorkBackward', 'WorkOk', 'WorkUnrelated', 'WorkNoFile', 'WorkLang', 'Site', 'Email'), value='WorkUnrelated'), ToggleButton(value=False, description='File'))), HBox(children=(Text(value='', description='Due'), Text(value='', description='Place'))), HBox(children=(Text(value='', description='Year'), Text(value='', description='Prefix Var'))), HBox(children=(Text(value='', description='PDFPage'), Text(value='', description='Related'))), HBox(children=(Text(value='', description='Display'), Text(value='', description='Summary'))), HBox(children=(Text(value='', description='Star'), Text(value='', description='Link'))), HBox(children=(Button(description='Reload Article', icon='refresh', style=ButtonStyle()), IntSlider(value=0, max=15), Label(value='1/16'))), Output()))"
      ]
     },
     "metadata": {},
     "output_type": "display_data"
    },
    {
     "data": {
      "application/javascript": [
       "$('span:contains(\"# Temp\")').closest('.cell').remove();"
      ],
      "text/plain": [
       "<IPython.core.display.Javascript object>"
      ]
     },
     "metadata": {},
     "output_type": "display_data"
    },
    {
     "data": {
      "application/javascript": [
       "\n",
       "        $('span:contains(\"# Temp\")').closest('.cell').remove();\n",
       "        var code = IPython.notebook.insert_cell_below('code');\n",
       "        code.set_text(atob(\"IyBUZW1wCmluc2VydCgnJycKc29tbWVydmlsbGUyMDA0YSA9IERCKFdvcmtVbnJlbGF0ZWQoCiAgICAyMDA0LCAiU29mdHdhcmUgRW5naW5lZXJpbmcgN3RoIEVkaXRpb24iLAogICAgZGlzcGxheT0ic29tbWVydmlsbGUiLAogICAgYXV0aG9ycz0iU29tbWVydmlsbGUsIEkuIiwKICAgIHBsYWNlPUZBS0UsCiAgICBlbnRyeXR5cGU9ImFydGljbGUiLAogICAgbm90ZT0iY2l0ZWQgQnkgMjIiLAogICAgSUQ9IlNvbW1lcnZpbGxlMjAwNCIsCiAgICBwbGFjZXg9IkFkZGlzb24gV2VzbGV5IFB1Ymxpc2hpbmcgQ29tcGFueSIsCikpCgpEQihDaXRhdGlvbigKICAgIHdhbmcyMDA1YSwgc29tbWVydmlsbGUyMDA0YSwgcmVmPSIiLAogICAgY29udGV4dHM9WwoKICAgIF0sCikpCgonJycsIGNpdGF0aW9ucz0nd2FuZzIwMDVhJyk7\"));\n",
       "    "
      ],
      "text/plain": [
       "<IPython.core.display.Javascript object>"
      ]
     },
     "metadata": {},
     "output_type": "display_data"
    },
    {
     "data": {
      "application/javascript": [
       "$('span:contains(\"# Temp\")').closest('.cell').remove();"
      ],
      "text/plain": [
       "<IPython.core.display.Javascript object>"
      ]
     },
     "metadata": {},
     "output_type": "display_data"
    },
    {
     "data": {
      "application/javascript": [
       "\n",
       "        $('span:contains(\"# Temp\")').closest('.cell').remove();\n",
       "        var code = IPython.notebook.insert_cell_below('code');\n",
       "        code.set_text(atob(\"IyBUZW1wCmluc2VydCgnJycKc3RpbGxlcjIwMDJhID0gREIoV29ya1VucmVsYXRlZCgKICAgIDIwMDIsICJQcm9qZWN0LWJhc2VkIFNvZnR3YXJlIEVuZ2luZWVyaW5nIiwKICAgIGRpc3BsYXk9InN0aWxsZXIiLAogICAgYXV0aG9ycz0iU3RpbGxlciwgRS4gYW5kIExlQmxhbmMsIEMuIiwKICAgIHBsYWNlPUZBS0UsCiAgICBlbnRyeXR5cGU9ImFydGljbGUiLAogICAgbm90ZT0iY2l0ZWQgQnkgMTMiLAogICAgSUQ9IlN0aWxsZXIyMDAyIiwKICAgIHBsYWNleD0iQWRkaXNvbiBXZXNsZXkgUHVibGlzaGluZyBDb21wYW55IiwKKSkKCkRCKENpdGF0aW9uKAogICAgd2FuZzIwMDVhLCBzdGlsbGVyMjAwMmEsIHJlZj0iIiwKICAgIGNvbnRleHRzPVsKCiAgICBdLAopKQoKJycnLCBjaXRhdGlvbnM9J3dhbmcyMDA1YScpOw==\"));\n",
       "    "
      ],
      "text/plain": [
       "<IPython.core.display.Javascript object>"
      ]
     },
     "metadata": {},
     "output_type": "display_data"
    },
    {
     "data": {
      "application/javascript": [
       "$('span:contains(\"# Temp\")').closest('.cell').remove();"
      ],
      "text/plain": [
       "<IPython.core.display.Javascript object>"
      ]
     },
     "metadata": {},
     "output_type": "display_data"
    },
    {
     "data": {
      "application/javascript": [
       "\n",
       "        $('span:contains(\"# Temp\")').closest('.cell').remove();\n",
       "        var code = IPython.notebook.insert_cell_below('code');\n",
       "        code.set_text(atob(\"IyBUZW1wCmluc2VydCgnJycKc3RpbGxlcjIwMDJhID0gREIoV29ya1VucmVsYXRlZCgKICAgIDIwMDIsICJQcm9qZWN0LWJhc2VkIFNvZnR3YXJlIEVuZ2luZWVyaW5nIiwKICAgIGRpc3BsYXk9InN0aWxsZXIiLAogICAgYXV0aG9ycz0iU3RpbGxlciwgRS4gYW5kIExlQmxhbmMsIEMuIiwKICAgIHBsYWNlPUZBS0UsCiAgICBlbnRyeXR5cGU9ImFydGljbGUiLAogICAgbm90ZT0iY2l0ZWQgQnkgMTMiLAogICAgSUQ9IlN0aWxsZXIyMDAyIiwKICAgIHBsYWNleD0iQWRkaXNvbiBXZXNsZXkgUHVibGlzaGluZyBDb21wYW55IiwKKSkKCkRCKENpdGF0aW9uKAogICAgd2FuZzIwMDVhLCBzdGlsbGVyMjAwMmEsIHJlZj0iIiwKICAgIGNvbnRleHRzPVsKCiAgICBdLAopKQoKJycnLCBjaXRhdGlvbnM9J3dhbmcyMDA1YScpOw==\"));\n",
       "    "
      ],
      "text/plain": [
       "<IPython.core.display.Javascript object>"
      ]
     },
     "metadata": {},
     "output_type": "display_data"
    },
    {
     "data": {
      "application/javascript": [
       "$('span:contains(\"# Temp\")').closest('.cell').remove();"
      ],
      "text/plain": [
       "<IPython.core.display.Javascript object>"
      ]
     },
     "metadata": {},
     "output_type": "display_data"
    },
    {
     "data": {
      "application/javascript": [
       "\n",
       "        $('span:contains(\"# Temp\")').closest('.cell').remove();\n",
       "        var code = IPython.notebook.insert_cell_below('code');\n",
       "        code.set_text(atob(\"IyBUZW1wCmluc2VydCgnJycKamluZzIwMDFhID0gREIoV29ya1VucmVsYXRlZCgKICAgIDIwMDEsICJRdWFsaXR5IENvbnRyb2wgZm9yIFByb2Nlc3Mgd2l0aCBaZXJvLXVuY29tZm9ydGFibGUiLAogICAgZGlzcGxheT0iamluZyIsCiAgICBhdXRob3JzPSJKaW5nLCBTLiIsCiAgICBwbGFjZT1GQUtFLAogICAgZW50cnl0eXBlPSJhcnRpY2xlIiwKICAgIG5vdGU9ImNpdGVkIEJ5IDEiLAogICAgSUQ9IkppbmcyMDAxIiwKICAgIHBsYWNleD0iVHNpbmdodWEgVW5pdmVyc2l0eSBQcmVzcyIsCikpCgpEQihDaXRhdGlvbigKICAgIHdhbmcyMDA1YSwgamluZzIwMDFhLCByZWY9IiIsCiAgICBjb250ZXh0cz1bCgogICAgXSwKKSkKCicnJywgY2l0YXRpb25zPSd3YW5nMjAwNWEnKTs=\"));\n",
       "    "
      ],
      "text/plain": [
       "<IPython.core.display.Javascript object>"
      ]
     },
     "metadata": {},
     "output_type": "display_data"
    },
    {
     "data": {
      "application/javascript": [
       "$('span:contains(\"# Temp\")').closest('.cell').remove();"
      ],
      "text/plain": [
       "<IPython.core.display.Javascript object>"
      ]
     },
     "metadata": {},
     "output_type": "display_data"
    },
    {
     "data": {
      "application/javascript": [
       "\n",
       "        $('span:contains(\"# Temp\")').closest('.cell').remove();\n",
       "        var code = IPython.notebook.insert_cell_below('code');\n",
       "        code.set_text(atob(\"IyBUZW1wCmluc2VydCgnJycKamluZzIwMDFhID0gREIoV29ya1VucmVsYXRlZCgKICAgIDIwMDEsICJRdWFsaXR5IENvbnRyb2wgZm9yIFByb2Nlc3Mgd2l0aCBaZXJvLXVuY29tZm9ydGFibGUiLAogICAgZGlzcGxheT0iamluZyIsCiAgICBhdXRob3JzPSJKaW5nLCBTLiIsCiAgICBwbGFjZT1GQUtFLAogICAgZW50cnl0eXBlPSJhcnRpY2xlIiwKICAgIG5vdGU9ImNpdGVkIEJ5IDEiLAogICAgSUQ9IkppbmcyMDAxIiwKICAgIHBsYWNleD0iVHNpbmdodWEgVW5pdmVyc2l0eSBQcmVzcyIsCikpCgpEQihDaXRhdGlvbigKICAgIHdhbmcyMDA1YSwgamluZzIwMDFhLCByZWY9IiIsCiAgICBjb250ZXh0cz1bCgogICAgXSwKKSkKCicnJywgY2l0YXRpb25zPSd3YW5nMjAwNWEnKTs=\"));\n",
       "    "
      ],
      "text/plain": [
       "<IPython.core.display.Javascript object>"
      ]
     },
     "metadata": {},
     "output_type": "display_data"
    },
    {
     "data": {
      "application/javascript": [
       "$('span:contains(\"# Temp\")').closest('.cell').remove();"
      ],
      "text/plain": [
       "<IPython.core.display.Javascript object>"
      ]
     },
     "metadata": {},
     "output_type": "display_data"
    },
    {
     "data": {
      "application/javascript": [
       "\n",
       "        $('span:contains(\"# Temp\")').closest('.cell').remove();\n",
       "        var code = IPython.notebook.insert_cell_below('code');\n",
       "        code.set_text(atob(\"IyBUZW1wCmluc2VydCgnJycKc2l4c2lnbWEyMDAwYSA9IERCKFdvcmtVbnJlbGF0ZWQoCiAgICAyMDAwLCAiU2l4U2lnbWEiLAogICAgZGlzcGxheT0ic2l4c2lnbWEiLAogICAgYXV0aG9ycz0ic2l4c2lnbWEiLAogICAgcGxhY2U9RkFLRSwKICAgIGVudHJ5dHlwZT0iYXJ0aWNsZSIsCiAgICBub3RlPSJjaXRlZCBCeSAxIiwKICAgIElEPSJzaXhzaWdtYTIwMDAiLAogICAgcGxhY2V4PSJodHRwOi8vd3d3LmlzaXhzaWdtYS5jb20vc3QvY29udHJvbF9jaGFydHMiLAopKQoKREIoQ2l0YXRpb24oCiAgICB3YW5nMjAwNWEsIHNpeHNpZ21hMjAwMGEsIHJlZj0iIiwKICAgIGNvbnRleHRzPVsKCiAgICBdLAopKQoKJycnLCBjaXRhdGlvbnM9J3dhbmcyMDA1YScpOw==\"));\n",
       "    "
      ],
      "text/plain": [
       "<IPython.core.display.Javascript object>"
      ]
     },
     "metadata": {},
     "output_type": "display_data"
    },
    {
     "data": {
      "application/javascript": [
       "$('span:contains(\"# Temp\")').closest('.cell').remove();"
      ],
      "text/plain": [
       "<IPython.core.display.Javascript object>"
      ]
     },
     "metadata": {},
     "output_type": "display_data"
    },
    {
     "data": {
      "application/javascript": [
       "\n",
       "        $('span:contains(\"# Temp\")').closest('.cell').remove();\n",
       "        var code = IPython.notebook.insert_cell_below('code');\n",
       "        code.set_text(atob(\"IyBUZW1wCmluc2VydCgnJycKc2l4c2lnbWEyMDAwYSA9IERCKFdvcmtVbnJlbGF0ZWQoCiAgICAyMDAwLCAiU2l4U2lnbWEiLAogICAgZGlzcGxheT0ic2l4c2lnbWEiLAogICAgYXV0aG9ycz0ic2l4c2lnbWEiLAogICAgcGxhY2U9RkFLRSwKICAgIGVudHJ5dHlwZT0iYXJ0aWNsZSIsCiAgICBub3RlPSJjaXRlZCBCeSAxIiwKICAgIElEPSJzaXhzaWdtYTIwMDAiLAogICAgcGxhY2V4PSJodHRwOi8vd3d3LmlzaXhzaWdtYS5jb20vc3QvY29udHJvbF9jaGFydHMiLAopKQoKREIoQ2l0YXRpb24oCiAgICB3YW5nMjAwNWEsIHNpeHNpZ21hMjAwMGEsIHJlZj0iIiwKICAgIGNvbnRleHRzPVsKCiAgICBdLAopKQoKJycnLCBjaXRhdGlvbnM9J3dhbmcyMDA1YScpOw==\"));\n",
       "    "
      ],
      "text/plain": [
       "<IPython.core.display.Javascript object>"
      ]
     },
     "metadata": {},
     "output_type": "display_data"
    },
    {
     "data": {
      "application/javascript": [
       "$('span:contains(\"# Temp\")').closest('.cell').remove();"
      ],
      "text/plain": [
       "<IPython.core.display.Javascript object>"
      ]
     },
     "metadata": {},
     "output_type": "display_data"
    },
    {
     "data": {
      "application/javascript": [
       "\n",
       "        $('span:contains(\"# Temp\")').closest('.cell').remove();\n",
       "        var code = IPython.notebook.insert_cell_below('code');\n",
       "        code.set_text(atob(\"IyBUZW1wCmluc2VydCgnJycKbmFzYTIwMDBhID0gREIoV29ya1VucmVsYXRlZCgKICAgIDIwMDAsICJOYXNhIGhxIGxpYnJhcnkiLAogICAgZGlzcGxheT0ibmFzYSIsCiAgICBhdXRob3JzPSJuYXNhIiwKICAgIHBsYWNlPUZBS0UsCiAgICBlbnRyeXR5cGU9ImFydGljbGUiLAogICAgbm90ZT0iY2l0ZWQgQnkgMSIsCiAgICBJRD0ibmFzYTIwMDAiLAogICAgcGxhY2V4PSJodHRwOi8vd3d3LmhxLm5hc2EuZ292L29mZmljZS9ocWxpYnJhcnkvcHBtL3BwbTMxLmh0bSIsCikpCgpEQihDaXRhdGlvbigKICAgIHdhbmcyMDA1YSwgbmFzYTIwMDBhLCByZWY9IiIsCiAgICBjb250ZXh0cz1bCgogICAgXSwKKSkKCicnJywgY2l0YXRpb25zPSd3YW5nMjAwNWEnKTs=\"));\n",
       "    "
      ],
      "text/plain": [
       "<IPython.core.display.Javascript object>"
      ]
     },
     "metadata": {},
     "output_type": "display_data"
    },
    {
     "data": {
      "application/javascript": [
       "$('span:contains(\"# Temp\")').closest('.cell').remove();"
      ],
      "text/plain": [
       "<IPython.core.display.Javascript object>"
      ]
     },
     "metadata": {},
     "output_type": "display_data"
    },
    {
     "data": {
      "application/javascript": [
       "\n",
       "        $('span:contains(\"# Temp\")').closest('.cell').remove();\n",
       "        var code = IPython.notebook.insert_cell_below('code');\n",
       "        code.set_text(atob(\"IyBUZW1wCmluc2VydCgnJycKbmFzYTIwMDBhID0gREIoV29ya1VucmVsYXRlZCgKICAgIDIwMDAsICJOYXNhIGhxIGxpYnJhcnkiLAogICAgZGlzcGxheT0ibmFzYSIsCiAgICBhdXRob3JzPSJuYXNhIiwKICAgIHBsYWNlPUZBS0UsCiAgICBlbnRyeXR5cGU9ImFydGljbGUiLAogICAgbm90ZT0iY2l0ZWQgQnkgMSIsCiAgICBJRD0ibmFzYTIwMDAiLAogICAgcGxhY2V4PSJodHRwOi8vd3d3LmhxLm5hc2EuZ292L29mZmljZS9ocWxpYnJhcnkvcHBtL3BwbTMxLmh0bSIsCikpCgpEQihDaXRhdGlvbigKICAgIHdhbmcyMDA1YSwgbmFzYTIwMDBhLCByZWY9IiIsCiAgICBjb250ZXh0cz1bCgogICAgXSwKKSkKCicnJywgY2l0YXRpb25zPSd3YW5nMjAwNWEnKTs=\"));\n",
       "    "
      ],
      "text/plain": [
       "<IPython.core.display.Javascript object>"
      ]
     },
     "metadata": {},
     "output_type": "display_data"
    },
    {
     "data": {
      "application/javascript": [
       "$('span:contains(\"# Temp\")').closest('.cell').remove();"
      ],
      "text/plain": [
       "<IPython.core.display.Javascript object>"
      ]
     },
     "metadata": {},
     "output_type": "display_data"
    },
    {
     "data": {
      "application/javascript": [
       "\n",
       "        $('span:contains(\"# Temp\")').closest('.cell').remove();\n",
       "        var code = IPython.notebook.insert_cell_below('code');\n",
       "        code.set_text(atob(\"IyBUZW1wCmluc2VydCgnJycKbGF3bGVyMjAwM2EgPSBEQihXb3JrVW5yZWxhdGVkKAogICAgMjAwMywgIk1lYXN1cmVtZW50IG1vZGVsaW5nIHRlY2hub2xvZ3kiLAogICAgZGlzcGxheT0ibGF3bGVyIiwKICAgIGF1dGhvcnM9Ikxhd2xlciwgSi4gYW5kIEtpdGNoZW5oYW0sIEIuIiwKICAgIHBsYWNlPUlFRUVTLAogICAgcHA9IjY4LTc1KzQiLAogICAgZW50cnl0eXBlPSJhcnRpY2xlIiwKICAgIHZvbHVtZT0iMjAiLAogICAgbnVtYmVyPSIzIiwKICAgIGRvaT0iMTAuMTEwOS9NUy4yMDAzLjExOTYzMjQiLAogICAgbm90ZT0iY2l0ZWQgQnkgMzEiLAogICAgSUQ9Ikxhd2xlcjIwMDM2OCIsCiAgICBwbGFjZXg9IklFRUUgU29mdHdhcmUiLAopKQoKREIoQ2l0YXRpb24oCiAgICB3YW5nMjAwNWEsIGxhd2xlcjIwMDNhLCByZWY9IiIsCiAgICBjb250ZXh0cz1bCgogICAgXSwKKSkKCicnJywgY2l0YXRpb25zPSd3YW5nMjAwNWEnKTs=\"));\n",
       "    "
      ],
      "text/plain": [
       "<IPython.core.display.Javascript object>"
      ]
     },
     "metadata": {},
     "output_type": "display_data"
    },
    {
     "data": {
      "application/javascript": [
       "$('span:contains(\"# Temp\")').closest('.cell').remove();"
      ],
      "text/plain": [
       "<IPython.core.display.Javascript object>"
      ]
     },
     "metadata": {},
     "output_type": "display_data"
    },
    {
     "data": {
      "application/javascript": [
       "\n",
       "        $('span:contains(\"# Temp\")').closest('.cell').remove();\n",
       "        var code = IPython.notebook.insert_cell_below('code');\n",
       "        code.set_text(atob(\"IyBUZW1wCmluc2VydCgnJycKbGF3bGVyMjAwM2EgPSBEQihXb3JrVW5yZWxhdGVkKAogICAgMjAwMywgIk1lYXN1cmVtZW50IG1vZGVsaW5nIHRlY2hub2xvZ3kiLAogICAgZGlzcGxheT0ibGF3bGVyIiwKICAgIGF1dGhvcnM9Ikxhd2xlciwgSi4gYW5kIEtpdGNoZW5oYW0sIEIuIiwKICAgIHBsYWNlPUlFRUVTLAogICAgcHA9IjY4LTc1KzQiLAogICAgZW50cnl0eXBlPSJhcnRpY2xlIiwKICAgIHZvbHVtZT0iMjAiLAogICAgbnVtYmVyPSIzIiwKICAgIGRvaT0iMTAuMTEwOS9NUy4yMDAzLjExOTYzMjQiLAogICAgbm90ZT0iY2l0ZWQgQnkgMzEiLAogICAgSUQ9Ikxhd2xlcjIwMDM2OCIsCiAgICBwbGFjZXg9IklFRUUgU29mdHdhcmUiLAopKQoKREIoQ2l0YXRpb24oCiAgICB3YW5nMjAwNWEsIGxhd2xlcjIwMDNhLCByZWY9IiIsCiAgICBjb250ZXh0cz1bCgogICAgXSwKKSkKCicnJywgY2l0YXRpb25zPSd3YW5nMjAwNWEnKTs=\"));\n",
       "    "
      ],
      "text/plain": [
       "<IPython.core.display.Javascript object>"
      ]
     },
     "metadata": {},
     "output_type": "display_data"
    },
    {
     "data": {
      "application/javascript": [
       "$('span:contains(\"# Temp\")').closest('.cell').remove();"
      ],
      "text/plain": [
       "<IPython.core.display.Javascript object>"
      ]
     },
     "metadata": {},
     "output_type": "display_data"
    },
    {
     "data": {
      "application/javascript": [
       "\n",
       "        $('span:contains(\"# Temp\")').closest('.cell').remove();\n",
       "        var code = IPython.notebook.insert_cell_below('code');\n",
       "        code.set_text(atob(\"IyBUZW1wCmluc2VydCgnJycKa2FuMjAwM2EgPSBEQihXb3JrVW5yZWxhdGVkKAogICAgMjAwMywgIk1ldHJpY3MgYW5kIE1vZGVscyBpbiBTb2Z0d2FyZSBRdWFsaXR5IEVuZ2luZWVyaW5nIDIgbmQgRWRpdGlvbiIsCiAgICBkaXNwbGF5PSJrYW4iLAogICAgYXV0aG9ycz0iS2FuLCBTLkguIiwKICAgIHBsYWNlPUZBS0UsCiAgICBlbnRyeXR5cGU9ImFydGljbGUiLAogICAgbm90ZT0iY2l0ZWQgQnkgNjcxIiwKICAgIElEPSJLYW4yMDAzIiwKICAgIHBsYWNleD0iQWRkaXNvbiBXZXNsZXkgUHVibGlzaGluZyBDb21wYW55IiwKKSkKCkRCKENpdGF0aW9uKAogICAgd2FuZzIwMDVhLCBrYW4yMDAzYSwgcmVmPSIiLAogICAgY29udGV4dHM9WwoKICAgIF0sCikpCgonJycsIGNpdGF0aW9ucz0nd2FuZzIwMDVhJyk7\"));\n",
       "    "
      ],
      "text/plain": [
       "<IPython.core.display.Javascript object>"
      ]
     },
     "metadata": {},
     "output_type": "display_data"
    },
    {
     "data": {
      "application/javascript": [
       "$('span:contains(\"# Temp\")').closest('.cell').remove();"
      ],
      "text/plain": [
       "<IPython.core.display.Javascript object>"
      ]
     },
     "metadata": {},
     "output_type": "display_data"
    },
    {
     "data": {
      "application/javascript": [
       "\n",
       "        $('span:contains(\"# Temp\")').closest('.cell').remove();\n",
       "        var code = IPython.notebook.insert_cell_below('code');\n",
       "        code.set_text(atob(\"IyBUZW1wCmluc2VydCgnJycKa2FuMjAwM2EgPSBEQihXb3JrVW5yZWxhdGVkKAogICAgMjAwMywgIk1ldHJpY3MgYW5kIE1vZGVscyBpbiBTb2Z0d2FyZSBRdWFsaXR5IEVuZ2luZWVyaW5nIDIgbmQgRWRpdGlvbiIsCiAgICBkaXNwbGF5PSJrYW4iLAogICAgYXV0aG9ycz0iS2FuLCBTLkguIiwKICAgIHBsYWNlPUZBS0UsCiAgICBlbnRyeXR5cGU9ImFydGljbGUiLAogICAgbm90ZT0iY2l0ZWQgQnkgNjcxIiwKICAgIElEPSJLYW4yMDAzIiwKICAgIHBsYWNleD0iQWRkaXNvbiBXZXNsZXkgUHVibGlzaGluZyBDb21wYW55IiwKKSkKCkRCKENpdGF0aW9uKAogICAgd2FuZzIwMDVhLCBrYW4yMDAzYSwgcmVmPSIiLAogICAgY29udGV4dHM9WwoKICAgIF0sCikpCgonJycsIGNpdGF0aW9ucz0nd2FuZzIwMDVhJyk7\"));\n",
       "    "
      ],
      "text/plain": [
       "<IPython.core.display.Javascript object>"
      ]
     },
     "metadata": {},
     "output_type": "display_data"
    },
    {
     "data": {
      "application/javascript": [
       "$('span:contains(\"# Temp\")').closest('.cell').remove();"
      ],
      "text/plain": [
       "<IPython.core.display.Javascript object>"
      ]
     },
     "metadata": {},
     "output_type": "display_data"
    },
    {
     "data": {
      "application/javascript": [
       "\n",
       "        $('span:contains(\"# Temp\")').closest('.cell').remove();\n",
       "        var code = IPython.notebook.insert_cell_below('code');\n",
       "        code.set_text(atob(\"IyBUZW1wCmluc2VydCgnJycKREIoQ2l0YXRpb24oCiAgICB3YW5nMjAwNWEsIGJhc2lsaTE5OTRhLCByZWY9IiIsCiAgICBjb250ZXh0cz1bCgogICAgXSwKKSkKCicnJywgY2l0YXRpb25zPSd3YW5nMjAwNWEnKTs=\"));\n",
       "    "
      ],
      "text/plain": [
       "<IPython.core.display.Javascript object>"
      ]
     },
     "metadata": {},
     "output_type": "display_data"
    },
    {
     "data": {
      "application/javascript": [
       "$('span:contains(\"# Temp\")').closest('.cell').remove();"
      ],
      "text/plain": [
       "<IPython.core.display.Javascript object>"
      ]
     },
     "metadata": {},
     "output_type": "display_data"
    },
    {
     "data": {
      "application/javascript": [
       "\n",
       "        $('span:contains(\"# Temp\")').closest('.cell').remove();\n",
       "        var code = IPython.notebook.insert_cell_below('code');\n",
       "        code.set_text(atob(\"IyBUZW1wCmluc2VydCgnJycKREIoQ2l0YXRpb24oCiAgICB3YW5nMjAwNWEsIGJhc2lsaTE5OTRhLCByZWY9IiIsCiAgICBjb250ZXh0cz1bCgogICAgXSwKKSkKCicnJywgY2l0YXRpb25zPSd3YW5nMjAwNWEnKTs=\"));\n",
       "    "
      ],
      "text/plain": [
       "<IPython.core.display.Javascript object>"
      ]
     },
     "metadata": {},
     "output_type": "display_data"
    },
    {
     "data": {
      "application/javascript": [
       "$('span:contains(\"# Temp\")').closest('.cell').remove();"
      ],
      "text/plain": [
       "<IPython.core.display.Javascript object>"
      ]
     },
     "metadata": {},
     "output_type": "display_data"
    },
    {
     "data": {
      "application/javascript": [
       "\n",
       "        $('span:contains(\"# Temp\")').closest('.cell').remove();\n",
       "        var code = IPython.notebook.insert_cell_below('code');\n",
       "        code.set_text(atob(\"IyBUZW1wCmluc2VydCgnJycKREIoQ2l0YXRpb24oCiAgICB3YW5nMjAwNWEsIHBhcmsxOTk2YSwgcmVmPSIiLAogICAgY29udGV4dHM9WwoKICAgIF0sCikpCgonJycsIGNpdGF0aW9ucz0nd2FuZzIwMDVhJyk7\"));\n",
       "    "
      ],
      "text/plain": [
       "<IPython.core.display.Javascript object>"
      ]
     },
     "metadata": {},
     "output_type": "display_data"
    },
    {
     "data": {
      "application/javascript": [
       "$('span:contains(\"# Temp\")').closest('.cell').remove();"
      ],
      "text/plain": [
       "<IPython.core.display.Javascript object>"
      ]
     },
     "metadata": {},
     "output_type": "display_data"
    },
    {
     "data": {
      "application/javascript": [
       "\n",
       "        $('span:contains(\"# Temp\")').closest('.cell').remove();\n",
       "        var code = IPython.notebook.insert_cell_below('code');\n",
       "        code.set_text(atob(\"IyBUZW1wCmluc2VydCgnJycKREIoQ2l0YXRpb24oCiAgICB3YW5nMjAwNWEsIHBhcmsxOTk2YSwgcmVmPSIiLAogICAgY29udGV4dHM9WwoKICAgIF0sCikpCgonJycsIGNpdGF0aW9ucz0nd2FuZzIwMDVhJyk7\"));\n",
       "    "
      ],
      "text/plain": [
       "<IPython.core.display.Javascript object>"
      ]
     },
     "metadata": {},
     "output_type": "display_data"
    },
    {
     "data": {
      "application/javascript": [
       "$('span:contains(\"# Temp\")').closest('.cell').remove();"
      ],
      "text/plain": [
       "<IPython.core.display.Javascript object>"
      ]
     },
     "metadata": {},
     "output_type": "display_data"
    },
    {
     "data": {
      "application/javascript": [
       "\n",
       "        $('span:contains(\"# Temp\")').closest('.cell').remove();\n",
       "        var code = IPython.notebook.insert_cell_below('code');\n",
       "        code.set_text(atob(\"IyBUZW1wCmluc2VydCgnJycKbWNnYXJyeTIwMDFhID0gREIoV29ya1VucmVsYXRlZCgKICAgIDIwMDEsICJQcmFjdGljYWwgU29mdHdhcmUgTWVhc3VyZW1lbnQ6IE9iamVjdGl2ZSBJbmZvcm1hdGlvbiBmb3IgRGVjaXNpb24gTWFrZXJzIiwKICAgIGRpc3BsYXk9Im1jZ2FycnkiLAogICAgYXV0aG9ycz0iTWNHYXJyeSwgSi4gYW5kIENhcmQsIEQuIGFuZCBKb25lcywgQy4gYW5kIExheW1hbiwgQi4gYW5kIENsYXJrLCBFLiBhbmQgRGVhbiwgSi4gYW5kIEhhbGwsIEYuIiwKICAgIHBsYWNlPUZBS0UsCiAgICBlbnRyeXR5cGU9ImFydGljbGUiLAogICAgbm90ZT0iY2l0ZWQgQnkgMTE4IiwKICAgIElEPSJNY0dhcnJ5MjAwMSIsCiAgICBwbGFjZXg9IkFkZGlzb24gV2VzbGV5IFB1Ymxpc2hpbmcgQ29tcGFueSIsCikpCgpEQihDaXRhdGlvbigKICAgIHdhbmcyMDA1YSwgbWNnYXJyeTIwMDFhLCByZWY9IiIsCiAgICBjb250ZXh0cz1bCgogICAgXSwKKSkKCicnJywgY2l0YXRpb25zPSd3YW5nMjAwNWEnKTs=\"));\n",
       "    "
      ],
      "text/plain": [
       "<IPython.core.display.Javascript object>"
      ]
     },
     "metadata": {},
     "output_type": "display_data"
    },
    {
     "data": {
      "application/javascript": [
       "$('span:contains(\"# Temp\")').closest('.cell').remove();"
      ],
      "text/plain": [
       "<IPython.core.display.Javascript object>"
      ]
     },
     "metadata": {},
     "output_type": "display_data"
    },
    {
     "data": {
      "application/javascript": [
       "\n",
       "        $('span:contains(\"# Temp\")').closest('.cell').remove();\n",
       "        var code = IPython.notebook.insert_cell_below('code');\n",
       "        code.set_text(atob(\"IyBUZW1wCmluc2VydCgnJycKbWNnYXJyeTIwMDFhID0gREIoV29ya1VucmVsYXRlZCgKICAgIDIwMDEsICJQcmFjdGljYWwgU29mdHdhcmUgTWVhc3VyZW1lbnQ6IE9iamVjdGl2ZSBJbmZvcm1hdGlvbiBmb3IgRGVjaXNpb24gTWFrZXJzIiwKICAgIGRpc3BsYXk9Im1jZ2FycnkiLAogICAgYXV0aG9ycz0iTWNHYXJyeSwgSi4gYW5kIENhcmQsIEQuIGFuZCBKb25lcywgQy4gYW5kIExheW1hbiwgQi4gYW5kIENsYXJrLCBFLiBhbmQgRGVhbiwgSi4gYW5kIEhhbGwsIEYuIiwKICAgIHBsYWNlPUZBS0UsCiAgICBlbnRyeXR5cGU9ImFydGljbGUiLAogICAgbm90ZT0iY2l0ZWQgQnkgMTE4IiwKICAgIElEPSJNY0dhcnJ5MjAwMSIsCiAgICBwbGFjZXg9IkFkZGlzb24gV2VzbGV5IFB1Ymxpc2hpbmcgQ29tcGFueSIsCikpCgpEQihDaXRhdGlvbigKICAgIHdhbmcyMDA1YSwgbWNnYXJyeTIwMDFhLCByZWY9IiIsCiAgICBjb250ZXh0cz1bCgogICAgXSwKKSkKCicnJywgY2l0YXRpb25zPSd3YW5nMjAwNWEnKTs=\"));\n",
       "    "
      ],
      "text/plain": [
       "<IPython.core.display.Javascript object>"
      ]
     },
     "metadata": {},
     "output_type": "display_data"
    },
    {
     "data": {
      "application/javascript": [
       "$('span:contains(\"# Temp\")').closest('.cell').remove();"
      ],
      "text/plain": [
       "<IPython.core.display.Javascript object>"
      ]
     },
     "metadata": {},
     "output_type": "display_data"
    },
    {
     "data": {
      "application/javascript": [
       "\n",
       "        $('span:contains(\"# Temp\")').closest('.cell').remove();\n",
       "        var code = IPython.notebook.insert_cell_below('code');\n",
       "        code.set_text(atob(\"IyBUZW1wCmluc2VydCgnJycKZmxvcmFjMTk5OWEgPSBEQihXb3JrVW5yZWxhdGVkKAogICAgMTk5OSwgIk1lYXN1cmluZyB0aGUgU29mdHdhcmUgUHJvY2VzczogU3RhdGlzdGljYWwgUHJvY2VzcyBDb250cm9sIGZvciBTb2Z0d2FyZSBQcm9jZXNzIEltcHJvdmVtZW50IiwKICAgIGRpc3BsYXk9ImZsb3JhYyIsCiAgICBhdXRob3JzPSJGbG9yYWMsIFcuQS4gYW5kIENhcmxldG9uLCBBLkQuIiwKICAgIHBsYWNlPUZBS0UsCiAgICBlbnRyeXR5cGU9ImFydGljbGUiLAogICAgbm90ZT0iY2l0ZWQgQnkgMjAyIiwKICAgIElEPSJGbG9yYWMxOTk5IiwKICAgIHBsYWNleD0iQWRkaXNvbiBXZXNsZXkgUHVibGlzaGluZyBDb21wYW55IiwKKSkKCkRCKENpdGF0aW9uKAogICAgd2FuZzIwMDVhLCBmbG9yYWMxOTk5YSwgcmVmPSIiLAogICAgY29udGV4dHM9WwoKICAgIF0sCikpCgonJycsIGNpdGF0aW9ucz0nd2FuZzIwMDVhJyk7\"));\n",
       "    "
      ],
      "text/plain": [
       "<IPython.core.display.Javascript object>"
      ]
     },
     "metadata": {},
     "output_type": "display_data"
    },
    {
     "data": {
      "application/javascript": [
       "$('span:contains(\"# Temp\")').closest('.cell').remove();"
      ],
      "text/plain": [
       "<IPython.core.display.Javascript object>"
      ]
     },
     "metadata": {},
     "output_type": "display_data"
    },
    {
     "data": {
      "application/javascript": [
       "\n",
       "        $('span:contains(\"# Temp\")').closest('.cell').remove();\n",
       "        var code = IPython.notebook.insert_cell_below('code');\n",
       "        code.set_text(atob(\"IyBUZW1wCmluc2VydCgnJycKZmxvcmFjMTk5OWEgPSBEQihXb3JrVW5yZWxhdGVkKAogICAgMTk5OSwgIk1lYXN1cmluZyB0aGUgU29mdHdhcmUgUHJvY2VzczogU3RhdGlzdGljYWwgUHJvY2VzcyBDb250cm9sIGZvciBTb2Z0d2FyZSBQcm9jZXNzIEltcHJvdmVtZW50IiwKICAgIGRpc3BsYXk9ImZsb3JhYyIsCiAgICBhdXRob3JzPSJGbG9yYWMsIFcuQS4gYW5kIENhcmxldG9uLCBBLkQuIiwKICAgIHBsYWNlPUZBS0UsCiAgICBlbnRyeXR5cGU9ImFydGljbGUiLAogICAgbm90ZT0iY2l0ZWQgQnkgMjAyIiwKICAgIElEPSJGbG9yYWMxOTk5IiwKICAgIHBsYWNleD0iQWRkaXNvbiBXZXNsZXkgUHVibGlzaGluZyBDb21wYW55IiwKKSkKCkRCKENpdGF0aW9uKAogICAgd2FuZzIwMDVhLCBmbG9yYWMxOTk5YSwgcmVmPSIiLAogICAgY29udGV4dHM9WwoKICAgIF0sCikpCgonJycsIGNpdGF0aW9ucz0nd2FuZzIwMDVhJyk7\"));\n",
       "    "
      ],
      "text/plain": [
       "<IPython.core.display.Javascript object>"
      ]
     },
     "metadata": {},
     "output_type": "display_data"
    },
    {
     "data": {
      "application/javascript": [
       "$('span:contains(\"# Temp\")').closest('.cell').remove();"
      ],
      "text/plain": [
       "<IPython.core.display.Javascript object>"
      ]
     },
     "metadata": {},
     "output_type": "display_data"
    },
    {
     "data": {
      "application/javascript": [
       "\n",
       "        $('span:contains(\"# Temp\")').closest('.cell').remove();\n",
       "        var code = IPython.notebook.insert_cell_below('code');\n",
       "        code.set_text(atob(\"IyBUZW1wCmluc2VydCgnJycKZWlja2VsbWFubjIwMDNhID0gREIoV29ya1VucmVsYXRlZCgKICAgIDIwMDMsICJTdGF0aXN0aWNhbCBwcm9jZXNzIGNvbnRyb2w6IFdoYXQgeW91IGRvbid0IG1lYXN1cmUgY2FuIGh1cnQgeW91ISIsCiAgICBkaXNwbGF5PSJlaWNrZWxtYW5uIiwKICAgIGF1dGhvcnM9IkVpY2tlbG1hbm4sIE4uIGFuZCBBbmFudCwgQS4iLAogICAgcGxhY2U9SUVFRVMsCiAgICBwcD0iNDktNTEiLAogICAgZW50cnl0eXBlPSJhcnRpY2xlIiwKICAgIHZvbHVtZT0iMjAiLAogICAgbnVtYmVyPSIyIiwKICAgIGRvaT0iMTAuMTEwOS9NUy4yMDAzLjExODQxNjYiLAogICAgbm90ZT0iY2l0ZWQgQnkgMTMiLAogICAgSUQ9IkVpY2tlbG1hbm4yMDAzNDkiLAogICAgcGxhY2V4PSJJRUVFIFNvZnR3YXJlIiwKKSkKCkRCKENpdGF0aW9uKAogICAgd2FuZzIwMDVhLCBlaWNrZWxtYW5uMjAwM2EsIHJlZj0iIiwKICAgIGNvbnRleHRzPVsKCiAgICBdLAopKQoKJycnLCBjaXRhdGlvbnM9J3dhbmcyMDA1YScpOw==\"));\n",
       "    "
      ],
      "text/plain": [
       "<IPython.core.display.Javascript object>"
      ]
     },
     "metadata": {},
     "output_type": "display_data"
    },
    {
     "data": {
      "application/javascript": [
       "$('span:contains(\"# Temp\")').closest('.cell').remove();"
      ],
      "text/plain": [
       "<IPython.core.display.Javascript object>"
      ]
     },
     "metadata": {},
     "output_type": "display_data"
    },
    {
     "data": {
      "application/javascript": [
       "\n",
       "        $('span:contains(\"# Temp\")').closest('.cell').remove();\n",
       "        var code = IPython.notebook.insert_cell_below('code');\n",
       "        code.set_text(atob(\"IyBUZW1wCmluc2VydCgnJycKZWlja2VsbWFubjIwMDNhID0gREIoV29ya1VucmVsYXRlZCgKICAgIDIwMDMsICJTdGF0aXN0aWNhbCBwcm9jZXNzIGNvbnRyb2w6IFdoYXQgeW91IGRvbid0IG1lYXN1cmUgY2FuIGh1cnQgeW91ISIsCiAgICBkaXNwbGF5PSJlaWNrZWxtYW5uIiwKICAgIGF1dGhvcnM9IkVpY2tlbG1hbm4sIE4uIGFuZCBBbmFudCwgQS4iLAogICAgcGxhY2U9SUVFRVMsCiAgICBwcD0iNDktNTEiLAogICAgZW50cnl0eXBlPSJhcnRpY2xlIiwKICAgIHZvbHVtZT0iMjAiLAogICAgbnVtYmVyPSIyIiwKICAgIGRvaT0iMTAuMTEwOS9NUy4yMDAzLjExODQxNjYiLAogICAgbm90ZT0iY2l0ZWQgQnkgMTMiLAogICAgSUQ9IkVpY2tlbG1hbm4yMDAzNDkiLAogICAgcGxhY2V4PSJJRUVFIFNvZnR3YXJlIiwKKSkKCkRCKENpdGF0aW9uKAogICAgd2FuZzIwMDVhLCBlaWNrZWxtYW5uMjAwM2EsIHJlZj0iIiwKICAgIGNvbnRleHRzPVsKCiAgICBdLAopKQoKJycnLCBjaXRhdGlvbnM9J3dhbmcyMDA1YScpOw==\"));\n",
       "    "
      ],
      "text/plain": [
       "<IPython.core.display.Javascript object>"
      ]
     },
     "metadata": {},
     "output_type": "display_data"
    },
    {
     "data": {
      "application/javascript": [
       "$('span:contains(\"# Temp\")').closest('.cell').remove();"
      ],
      "text/plain": [
       "<IPython.core.display.Javascript object>"
      ]
     },
     "metadata": {},
     "output_type": "display_data"
    },
    {
     "data": {
      "application/javascript": [
       "\n",
       "        $('span:contains(\"# Temp\")').closest('.cell').remove();\n",
       "        var code = IPython.notebook.insert_cell_below('code');\n",
       "        code.set_text(atob(\"IyBUZW1wCmluc2VydCgnJycKcGF1bGsyMDAwYSA9IERCKFdvcmtVbnJlbGF0ZWQoCiAgICAyMDAwLCAiQXBwbHlpbmcgU1BDIHRvIHRoZSBQZXJzb25hbCBTb2Z0d2FyZSBQcm9jZXNzU00iLAogICAgZGlzcGxheT0icGF1bGsiLAogICAgYXV0aG9ycz0iUGF1bGssIE0uQy4iLAogICAgcGxhY2U9RkFLRSwKICAgIGVudHJ5dHlwZT0iYXJ0aWNsZSIsCiAgICBub3RlPSJjaXRlZCBCeSA1IiwKICAgIElEPSJQYXVsazIwMDAiLAogICAgcGxhY2V4PSJQcm9jZWVkaW5ncyBvZiB0aGUgVGVudGggSW50ZXJuYXRpb25hbCBDb25mZXJlbmNlIG9uIFNvZnR3YXJlIFF1YWxpdHkiLAopKQoKREIoQ2l0YXRpb24oCiAgICB3YW5nMjAwNWEsIHBhdWxrMjAwMGEsIHJlZj0iIiwKICAgIGNvbnRleHRzPVsKCiAgICBdLAopKQoKJycnLCBjaXRhdGlvbnM9J3dhbmcyMDA1YScpOw==\"));\n",
       "    "
      ],
      "text/plain": [
       "<IPython.core.display.Javascript object>"
      ]
     },
     "metadata": {},
     "output_type": "display_data"
    },
    {
     "data": {
      "application/javascript": [
       "$('span:contains(\"# Temp\")').closest('.cell').remove();"
      ],
      "text/plain": [
       "<IPython.core.display.Javascript object>"
      ]
     },
     "metadata": {},
     "output_type": "display_data"
    },
    {
     "data": {
      "application/javascript": [
       "\n",
       "        $('span:contains(\"# Temp\")').closest('.cell').remove();\n",
       "        var code = IPython.notebook.insert_cell_below('code');\n",
       "        code.set_text(atob(\"IyBUZW1wCmluc2VydCgnJycKcGF1bGsyMDAwYSA9IERCKFdvcmtVbnJlbGF0ZWQoCiAgICAyMDAwLCAiQXBwbHlpbmcgU1BDIHRvIHRoZSBQZXJzb25hbCBTb2Z0d2FyZSBQcm9jZXNzU00iLAogICAgZGlzcGxheT0icGF1bGsiLAogICAgYXV0aG9ycz0iUGF1bGssIE0uQy4iLAogICAgcGxhY2U9RkFLRSwKICAgIGVudHJ5dHlwZT0iYXJ0aWNsZSIsCiAgICBub3RlPSJjaXRlZCBCeSA1IiwKICAgIElEPSJQYXVsazIwMDAiLAogICAgcGxhY2V4PSJQcm9jZWVkaW5ncyBvZiB0aGUgVGVudGggSW50ZXJuYXRpb25hbCBDb25mZXJlbmNlIG9uIFNvZnR3YXJlIFF1YWxpdHkiLAopKQoKREIoQ2l0YXRpb24oCiAgICB3YW5nMjAwNWEsIHBhdWxrMjAwMGEsIHJlZj0iIiwKICAgIGNvbnRleHRzPVsKCiAgICBdLAopKQoKJycnLCBjaXRhdGlvbnM9J3dhbmcyMDA1YScpOw==\"));\n",
       "    "
      ],
      "text/plain": [
       "<IPython.core.display.Javascript object>"
      ]
     },
     "metadata": {},
     "output_type": "display_data"
    },
    {
     "data": {
      "application/javascript": [
       "$('span:contains(\"# Temp\")').closest('.cell').remove();"
      ],
      "text/plain": [
       "<IPython.core.display.Javascript object>"
      ]
     },
     "metadata": {},
     "output_type": "display_data"
    },
    {
     "data": {
      "application/javascript": [
       "\n",
       "        $('span:contains(\"# Temp\")').closest('.cell').remove();\n",
       "        var code = IPython.notebook.insert_cell_below('code');\n",
       "        code.set_text(atob(\"IyBUZW1wCmluc2VydCgnJycKc2l4c2lnbWEyMDAzYSA9IERCKFdvcmtVbnJlbGF0ZWQoCiAgICAyMDAzLCAiU2l4IFNpZ21hIEZvcnVtIE1hZ2F6aW5lIiwKICAgIGRpc3BsYXk9InNpeHNpZ21hIiwKICAgIGF1dGhvcnM9InNpeHNpZ21hIiwKICAgIHBsYWNlPUZBS0UsCiAgICBlbnRyeXR5cGU9ImFydGljbGUiLAogICAgdm9sdW1lPSIyIiwKICAgIG51bWJlcj0iMyIsCiAgICBub3RlPSJjaXRlZCBCeSAxIiwKICAgIElEPSJzaXhzaWdtYTIwMDMiLAogICAgcGxhY2V4PSJTaXggU2lnbWEgRm9ydW0gTWFnYXppbmUgTWF5IiwKKSkKCkRCKENpdGF0aW9uKAogICAgd2FuZzIwMDVhLCBzaXhzaWdtYTIwMDNhLCByZWY9IiIsCiAgICBjb250ZXh0cz1bCgogICAgXSwKKSkKCicnJywgY2l0YXRpb25zPSd3YW5nMjAwNWEnKTs=\"));\n",
       "    "
      ],
      "text/plain": [
       "<IPython.core.display.Javascript object>"
      ]
     },
     "metadata": {},
     "output_type": "display_data"
    },
    {
     "data": {
      "application/javascript": [
       "$('span:contains(\"# Temp\")').closest('.cell').remove();"
      ],
      "text/plain": [
       "<IPython.core.display.Javascript object>"
      ]
     },
     "metadata": {},
     "output_type": "display_data"
    },
    {
     "data": {
      "application/javascript": [
       "\n",
       "        $('span:contains(\"# Temp\")').closest('.cell').remove();\n",
       "        var code = IPython.notebook.insert_cell_below('code');\n",
       "        code.set_text(atob(\"IyBUZW1wCmluc2VydCgnJycKc2l4c2lnbWEyMDAzYSA9IERCKFdvcmtVbnJlbGF0ZWQoCiAgICAyMDAzLCAiU2l4IFNpZ21hIEZvcnVtIE1hZ2F6aW5lIiwKICAgIGRpc3BsYXk9InNpeHNpZ21hIiwKICAgIGF1dGhvcnM9InNpeHNpZ21hIiwKICAgIHBsYWNlPUZBS0UsCiAgICBlbnRyeXR5cGU9ImFydGljbGUiLAogICAgdm9sdW1lPSIyIiwKICAgIG51bWJlcj0iMyIsCiAgICBub3RlPSJjaXRlZCBCeSAxIiwKICAgIElEPSJzaXhzaWdtYTIwMDMiLAogICAgcGxhY2V4PSJTaXggU2lnbWEgRm9ydW0gTWFnYXppbmUgTWF5IiwKKSkKCkRCKENpdGF0aW9uKAogICAgd2FuZzIwMDVhLCBzaXhzaWdtYTIwMDNhLCByZWY9IiIsCiAgICBjb250ZXh0cz1bCgogICAgXSwKKSkKCicnJywgY2l0YXRpb25zPSd3YW5nMjAwNWEnKTs=\"));\n",
       "    "
      ],
      "text/plain": [
       "<IPython.core.display.Javascript object>"
      ]
     },
     "metadata": {},
     "output_type": "display_data"
    },
    {
     "data": {
      "application/javascript": [
       "$('span:contains(\"# Temp\")').closest('.cell').remove();"
      ],
      "text/plain": [
       "<IPython.core.display.Javascript object>"
      ]
     },
     "metadata": {},
     "output_type": "display_data"
    },
    {
     "data": {
      "application/javascript": [
       "\n",
       "        $('span:contains(\"# Temp\")').closest('.cell').remove();\n",
       "        var code = IPython.notebook.insert_cell_below('code');\n",
       "        code.set_text(atob(\"IyBUZW1wCmluc2VydCgnJycKbXVydWdhcHBhbjIwMDNhID0gREIoV29ya1VucmVsYXRlZCgKICAgIDIwMDMsICJCbGVuZGluZyBDTU0gYW5kIFNpeCBTaWdtYSB0byBtZWV0IGJ1c2luZXNzIGdvYWxzIiwKICAgIGRpc3BsYXk9Im11cnVnYXBwYW4iLAogICAgYXV0aG9ycz0iTXVydWdhcHBhbiwgTS4gYW5kIEtlZW5pLCBHLiIsCiAgICBwbGFjZT1JRUVFUywKICAgIHBwPSI0Mi00OCIsCiAgICBlbnRyeXR5cGU9ImFydGljbGUiLAogICAgdm9sdW1lPSIyMCIsCiAgICBudW1iZXI9IjIiLAogICAgZG9pPSIxMC4xMTA5L01TLjIwMDMuMTE4NDE2NSIsCiAgICBub3RlPSJjaXRlZCBCeSAzNyIsCiAgICBJRD0iTXVydWdhcHBhbjIwMDM0MiIsCiAgICBwbGFjZXg9IklFRUUgU29mdHdhcmUiLAopKQoKREIoQ2l0YXRpb24oCiAgICB3YW5nMjAwNWEsIG11cnVnYXBwYW4yMDAzYSwgcmVmPSIiLAogICAgY29udGV4dHM9WwoKICAgIF0sCikpCgonJycsIGNpdGF0aW9ucz0nd2FuZzIwMDVhJyk7\"));\n",
       "    "
      ],
      "text/plain": [
       "<IPython.core.display.Javascript object>"
      ]
     },
     "metadata": {},
     "output_type": "display_data"
    },
    {
     "data": {
      "application/javascript": [
       "$('span:contains(\"# Temp\")').closest('.cell').remove();"
      ],
      "text/plain": [
       "<IPython.core.display.Javascript object>"
      ]
     },
     "metadata": {},
     "output_type": "display_data"
    },
    {
     "data": {
      "application/javascript": [
       "\n",
       "        $('span:contains(\"# Temp\")').closest('.cell').remove();\n",
       "        var code = IPython.notebook.insert_cell_below('code');\n",
       "        code.set_text(atob(\"IyBUZW1wCmluc2VydCgnJycKbXVydWdhcHBhbjIwMDNhID0gREIoV29ya1VucmVsYXRlZCgKICAgIDIwMDMsICJCbGVuZGluZyBDTU0gYW5kIFNpeCBTaWdtYSB0byBtZWV0IGJ1c2luZXNzIGdvYWxzIiwKICAgIGRpc3BsYXk9Im11cnVnYXBwYW4iLAogICAgYXV0aG9ycz0iTXVydWdhcHBhbiwgTS4gYW5kIEtlZW5pLCBHLiIsCiAgICBwbGFjZT1JRUVFUywKICAgIHBwPSI0Mi00OCIsCiAgICBlbnRyeXR5cGU9ImFydGljbGUiLAogICAgdm9sdW1lPSIyMCIsCiAgICBudW1iZXI9IjIiLAogICAgZG9pPSIxMC4xMTA5L01TLjIwMDMuMTE4NDE2NSIsCiAgICBub3RlPSJjaXRlZCBCeSAzNyIsCiAgICBJRD0iTXVydWdhcHBhbjIwMDM0MiIsCiAgICBwbGFjZXg9IklFRUUgU29mdHdhcmUiLAopKQoKREIoQ2l0YXRpb24oCiAgICB3YW5nMjAwNWEsIG11cnVnYXBwYW4yMDAzYSwgcmVmPSIiLAogICAgY29udGV4dHM9WwoKICAgIF0sCikpCgonJycsIGNpdGF0aW9ucz0nd2FuZzIwMDVhJyk7\"));\n",
       "    "
      ],
      "text/plain": [
       "<IPython.core.display.Javascript object>"
      ]
     },
     "metadata": {},
     "output_type": "display_data"
    },
    {
     "data": {
      "application/javascript": [
       "$('span:contains(\"# Temp\")').closest('.cell').remove();"
      ],
      "text/plain": [
       "<IPython.core.display.Javascript object>"
      ]
     },
     "metadata": {},
     "output_type": "display_data"
    },
    {
     "data": {
      "application/javascript": [
       "\n",
       "        $('span:contains(\"# Temp\")').closest('.cell').remove();\n",
       "        var code = IPython.notebook.insert_cell_below('code');\n",
       "        code.set_text(atob(\"IyBUZW1wCmluc2VydCgnJycKY2hyaXNzaXMyMDA0YSA9IERCKFdvcmtVbnJlbGF0ZWQoCiAgICAyMDA0LCAiQ01NSTogR3VpZGVsaW5lcyBmb3IgUHJvY2VzcyBJbnRlZ3JhdGlvbiBhbmQgUHJvZHVjdCBJbXByb3ZlbWVudCIsCiAgICBkaXNwbGF5PSJjaHJpc3NpcyIsCiAgICBhdXRob3JzPSJDaHJpc3NpcywgTS5CLiBhbmQgS29ucmFkLCBNLiBhbmQgU2hydW0sIFMuIiwKICAgIHBsYWNlPUZBS0UsCiAgICBlbnRyeXR5cGU9ImFydGljbGUiLAogICAgbm90ZT0iY2l0ZWQgQnkgNjg3IiwKICAgIElEPSJDaHJpc3NpczIwMDQiLAogICAgcGxhY2V4PSJBZGRpc29uLVdlc2xleSBQdWJsaXNoaW5nIENvbXBhbnkiLAopKQoKREIoQ2l0YXRpb24oCiAgICB3YW5nMjAwNWEsIGNocmlzc2lzMjAwNGEsIHJlZj0iIiwKICAgIGNvbnRleHRzPVsKCiAgICBdLAopKQoKJycnLCBjaXRhdGlvbnM9J3dhbmcyMDA1YScpOw==\"));\n",
       "    "
      ],
      "text/plain": [
       "<IPython.core.display.Javascript object>"
      ]
     },
     "metadata": {},
     "output_type": "display_data"
    },
    {
     "data": {
      "application/javascript": [
       "$('span:contains(\"# Temp\")').closest('.cell').remove();"
      ],
      "text/plain": [
       "<IPython.core.display.Javascript object>"
      ]
     },
     "metadata": {},
     "output_type": "display_data"
    },
    {
     "data": {
      "application/javascript": [
       "\n",
       "        $('span:contains(\"# Temp\")').closest('.cell').remove();\n",
       "        var code = IPython.notebook.insert_cell_below('code');\n",
       "        code.set_text(atob(\"IyBUZW1wCmluc2VydCgnJycKY2hyaXNzaXMyMDA0YSA9IERCKFdvcmtVbnJlbGF0ZWQoCiAgICAyMDA0LCAiQ01NSTogR3VpZGVsaW5lcyBmb3IgUHJvY2VzcyBJbnRlZ3JhdGlvbiBhbmQgUHJvZHVjdCBJbXByb3ZlbWVudCIsCiAgICBkaXNwbGF5PSJjaHJpc3NpcyIsCiAgICBhdXRob3JzPSJDaHJpc3NpcywgTS5CLiBhbmQgS29ucmFkLCBNLiBhbmQgU2hydW0sIFMuIiwKICAgIHBsYWNlPUZBS0UsCiAgICBlbnRyeXR5cGU9ImFydGljbGUiLAogICAgbm90ZT0iY2l0ZWQgQnkgNjg3IiwKICAgIElEPSJDaHJpc3NpczIwMDQiLAogICAgcGxhY2V4PSJBZGRpc29uLVdlc2xleSBQdWJsaXNoaW5nIENvbXBhbnkiLAopKQoKREIoQ2l0YXRpb24oCiAgICB3YW5nMjAwNWEsIGNocmlzc2lzMjAwNGEsIHJlZj0iIiwKICAgIGNvbnRleHRzPVsKCiAgICBdLAopKQoKJycnLCBjaXRhdGlvbnM9J3dhbmcyMDA1YScpOw==\"));\n",
       "    "
      ],
      "text/plain": [
       "<IPython.core.display.Javascript object>"
      ]
     },
     "metadata": {},
     "output_type": "display_data"
    }
   ],
   "source": [
    "import importlib\n",
    "import custom_snowballing\n",
    "importlib.reload(custom_snowballing)\n",
    "from custom_snowballing import UnrelatedBackward\n",
    "UnrelatedBackward(\"wang2005a\", articles=article_list)"
   ]
  },
  {
   "cell_type": "code",
   "execution_count": 67,
   "metadata": {},
   "outputs": [
    {
     "name": "stdout",
     "output_type": "stream",
     "text": [
      "-Insert: chrissis2004a\n",
      "-Insert Import: chrissis2004a\n",
      "-Insert Citation: wang2005a -> chrissis2004a\n"
     ]
    }
   ],
   "source": [
    "# Temp\n",
    "insert('''\n",
    "chrissis2004a = DB(WorkUnrelated(\n",
    "    2004, \"CMMI: Guidelines for Process Integration and Product Improvement\",\n",
    "    display=\"chrissis\",\n",
    "    authors=\"Chrissis, M.B. and Konrad, M. and Shrum, S.\",\n",
    "    place=FAKE,\n",
    "    entrytype=\"article\",\n",
    "    note=\"cited By 687\",\n",
    "    ID=\"Chrissis2004\",\n",
    "    placex=\"Addison-Wesley Publishing Company\",\n",
    "))\n",
    "\n",
    "DB(Citation(\n",
    "    wang2005a, chrissis2004a, ref=\"\",\n",
    "    contexts=[\n",
    "\n",
    "    ],\n",
    "))\n",
    "\n",
    "''', citations='wang2005a');"
   ]
  },
  {
   "cell_type": "code",
   "execution_count": null,
   "metadata": {
    "collapsed": true
   },
   "outputs": [],
   "source": []
  }
 ],
 "metadata": {
  "kernelspec": {
   "display_name": "Python 3",
   "language": "python",
   "name": "python3"
  },
  "language_info": {
   "codemirror_mode": {
    "name": "ipython",
    "version": 3
   },
   "file_extension": ".py",
   "mimetype": "text/x-python",
   "name": "python",
   "nbconvert_exporter": "python",
   "pygments_lexer": "ipython3",
   "version": "3.6.0"
  },
  "toc": {
   "nav_menu": {
    "height": "12px",
    "width": "252px"
   },
   "number_sections": true,
   "sideBar": true,
   "skip_h1_title": false,
   "toc_cell": false,
   "toc_position": {},
   "toc_section_display": "block",
   "toc_window_display": false
  }
 },
 "nbformat": 4,
 "nbformat_minor": 2
}
