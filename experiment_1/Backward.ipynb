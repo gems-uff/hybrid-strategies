{
 "cells": [
  {
   "cell_type": "code",
   "execution_count": 28,
   "metadata": {
    "collapsed": true
   },
   "outputs": [],
   "source": [
    "import database\n",
    "from snowballing.operations import load_work, reload, work_by_varname\n",
    "from snowballing.snowballing import Converter\n",
    "from snowballing.dbmanager import insert, set_attribute"
   ]
  },
  {
   "cell_type": "code",
   "execution_count": 29,
   "metadata": {
    "scrolled": false
   },
   "outputs": [
    {
     "data": {
      "application/vnd.jupyter.widget-view+json": {
       "model_id": "109d8c528a2e43899a442839001990e0",
       "version_major": 2,
       "version_minor": 0
      },
      "text/html": [
       "<p>Failed to display Jupyter Widget of type <code>VBox</code>.</p>\n",
       "<p>\n",
       "  If you're reading this message in Jupyter Notebook or JupyterLab, it may mean\n",
       "  that the widgets JavaScript is still loading. If this message persists, it\n",
       "  likely means that the widgets JavaScript library is either not installed or\n",
       "  not enabled. See the <a href=\"https://ipywidgets.readthedocs.io/en/stable/user_install.html\">Jupyter\n",
       "  Widgets Documentation</a> for setup instructions.\n",
       "</p>\n",
       "<p>\n",
       "  If you're reading this message in another notebook frontend (for example, a static\n",
       "  rendering on GitHub or <a href=\"https://nbviewer.jupyter.org/\">NBViewer</a>),\n",
       "  it may mean that your frontend doesn't currently support widgets.\n",
       "</p>\n"
      ],
      "text/plain": [
       "VBox(children=(HBox(children=(Dropdown(index=1, options={'BibTeX': 'bibtex', 'Text': 'text', '[N] author name place other year': 'citation', 'Quoted': 'quoted'}, value='text'), Button(description='Set article_list variable', disabled=True, style=ButtonStyle()), Label(value=''))), HBox(children=(Textarea(value='', layout=Layout(height='500px', width='50%')), Textarea(value='', layout=Layout(height='500px', width='50%'))))))"
      ]
     },
     "metadata": {},
     "output_type": "display_data"
    }
   ],
   "source": [
    "Converter().browser()"
   ]
  },
  {
   "cell_type": "code",
   "execution_count": 30,
   "metadata": {},
   "outputs": [
    {
     "data": {
      "text/plain": [
       "22"
      ]
     },
     "execution_count": 30,
     "metadata": {},
     "output_type": "execute_result"
    }
   ],
   "source": [
    "len(article_list)"
   ]
  },
  {
   "cell_type": "code",
   "execution_count": 4,
   "metadata": {
    "collapsed": true
   },
   "outputs": [],
   "source": [
    "#from database.work.y2015 import li2015a"
   ]
  },
  {
   "cell_type": "code",
   "execution_count": 5,
   "metadata": {
    "collapsed": true
   },
   "outputs": [],
   "source": [
    "#int(getattr(li2015a, 'scopus', 0))"
   ]
  },
  {
   "cell_type": "code",
   "execution_count": 6,
   "metadata": {},
   "outputs": [],
   "source": [
    "#print(article_list)"
   ]
  },
  {
   "cell_type": "code",
   "execution_count": null,
   "metadata": {
    "collapsed": true
   },
   "outputs": [],
   "source": []
  },
  {
   "cell_type": "code",
   "execution_count": 31,
   "metadata": {},
   "outputs": [
    {
     "data": {
      "application/vnd.jupyter.widget-view+json": {
       "model_id": "b3347a1bcda344bfb2c47dee766c961e",
       "version_major": 2,
       "version_minor": 0
      },
      "text/html": [
       "<p>Failed to display Jupyter Widget of type <code>VBox</code>.</p>\n",
       "<p>\n",
       "  If you're reading this message in Jupyter Notebook or JupyterLab, it may mean\n",
       "  that the widgets JavaScript is still loading. If this message persists, it\n",
       "  likely means that the widgets JavaScript library is either not installed or\n",
       "  not enabled. See the <a href=\"https://ipywidgets.readthedocs.io/en/stable/user_install.html\">Jupyter\n",
       "  Widgets Documentation</a> for setup instructions.\n",
       "</p>\n",
       "<p>\n",
       "  If you're reading this message in another notebook frontend (for example, a static\n",
       "  rendering on GitHub or <a href=\"https://nbviewer.jupyter.org/\">NBViewer</a>),\n",
       "  it may mean that your frontend doesn't currently support widgets.\n",
       "</p>\n"
      ],
      "text/plain": [
       "VBox(children=(HBox(children=(Button(description='Previous Article', disabled=True, icon='caret-left', style=ButtonStyle()), Button(description='Reload Article', icon='refresh', style=ButtonStyle()), Button(description='Next Article', icon='caret-right', style=ButtonStyle()))), HBox(children=(Button(description='Unrelated: Scripts', style=ButtonStyle()), Button(description='Unrelated: Provenance', style=ButtonStyle()), Button(description='Both', style=ButtonStyle()), Button(description='Ok', style=ButtonStyle()))), HBox(children=(Dropdown(description='Type', index=5, options=('Work', 'WorkSnowball', 'WorkForward', 'WorkBackward', 'WorkOk', 'WorkUnrelated', 'WorkNoFile', 'WorkLang', 'Site', 'Email'), value='WorkUnrelated'), ToggleButton(value=False, description='File'))), HBox(children=(Text(value='', description='Due'), Text(value='', description='Place'))), HBox(children=(Text(value='', description='Year'), Text(value='', description='Prefix Var'))), HBox(children=(Text(value='', description='PDFPage'), Text(value='', description='Related'))), HBox(children=(Text(value='', description='Display'), Text(value='', description='Summary'))), HBox(children=(Text(value='', description='Star'), Text(value='', description='Link'))), HBox(children=(Button(description='Reload Article', icon='refresh', style=ButtonStyle()), IntSlider(value=0, max=21), Label(value='1/22'))), Output()))"
      ]
     },
     "metadata": {},
     "output_type": "display_data"
    },
    {
     "data": {
      "application/javascript": [
       "$('span:contains(\"# Temp\")').closest('.cell').remove();"
      ],
      "text/plain": [
       "<IPython.core.display.Javascript object>"
      ]
     },
     "metadata": {},
     "output_type": "display_data"
    },
    {
     "data": {
      "application/javascript": [
       "\n",
       "        $('span:contains(\"# Temp\")').closest('.cell').remove();\n",
       "        var code = IPython.notebook.insert_cell_below('code');\n",
       "        code.set_text(atob(\"IyBUZW1wCmluc2VydCgnJycKY29ucmFkaTIwMDJhID0gREIoV29ya1VucmVsYXRlZCgKICAgIDIwMDIsICJJbXByb3Zpbmcgc29mdHdhcmUgcHJvY2VzcyBpbXByb3ZlbWVudCIsCiAgICBkaXNwbGF5PSJjb25yYWRpIiwKICAgIGF1dGhvcnM9IkNvbnJhZGksIFIuIGFuZCBGdWdnZXR0YSwgQS4iLAogICAgcGxhY2U9SUVFRVMsCiAgICBwcD0iOTItOTkiLAogICAgZW50cnl0eXBlPSJhcnRpY2xlIiwKICAgIHZvbHVtZT0iMTkiLAogICAgbnVtYmVyPSI0IiwKICAgIGRvaT0iMTAuMTEwOS9NUy4yMDAyLjEwMjAyOTUiLAogICAgbm90ZT0iY2l0ZWQgQnkgMTAwIiwKICAgIElEPSJDb25yYWRpMjAwMjkyIiwKICAgIHBsYWNleD0iSUVFRSBTb2Z0d2FyZSIsCikpCgpEQihDaXRhdGlvbigKICAgIGJhcnJldG8yMDEwYSwgY29ucmFkaTIwMDJhLCByZWY9IiIsCiAgICBjb250ZXh0cz1bCgogICAgXSwKKSkKCicnJywgY2l0YXRpb25zPSdiYXJyZXRvMjAxMGEnKTs=\"));\n",
       "    "
      ],
      "text/plain": [
       "<IPython.core.display.Javascript object>"
      ]
     },
     "metadata": {},
     "output_type": "display_data"
    },
    {
     "data": {
      "application/javascript": [
       "$('span:contains(\"# Temp\")').closest('.cell').remove();"
      ],
      "text/plain": [
       "<IPython.core.display.Javascript object>"
      ]
     },
     "metadata": {},
     "output_type": "display_data"
    },
    {
     "data": {
      "application/javascript": [
       "\n",
       "        $('span:contains(\"# Temp\")').closest('.cell').remove();\n",
       "        var code = IPython.notebook.insert_cell_below('code');\n",
       "        code.set_text(atob(\"IyBUZW1wCmluc2VydCgnJycKREIoQ2l0YXRpb24oCiAgICBiYXJyZXRvMjAxMGEsIGJlY2tlcjIwMDhiLCByZWY9IiIsCiAgICBjb250ZXh0cz1bCgogICAgXSwKKSkKCicnJywgY2l0YXRpb25zPSdiYXJyZXRvMjAxMGEnKTsKc2V0X2F0dHJpYnV0ZSgnYmVja2VyMjAwOGInLCAnYXJ0X251bWJlcicsICcxMzcwODQwJyk7CnNldF9hdHRyaWJ1dGUoJ2JlY2tlcjIwMDhiJywgJ25vdGUnLCAnY2l0ZWQgQnkgOScpOwpzZXRfYXR0cmlidXRlKCdiZWNrZXIyMDA4YicsICdwbGFjZXgnLCAnUHJvY2VlZGluZ3MgLSBJbnRlcm5hdGlvbmFsIENvbmZlcmVuY2Ugb24gU29mdHdhcmUgRW5naW5lZXJpbmcnKTs=\"));\n",
       "    "
      ],
      "text/plain": [
       "<IPython.core.display.Javascript object>"
      ]
     },
     "metadata": {},
     "output_type": "display_data"
    },
    {
     "data": {
      "application/javascript": [
       "$('span:contains(\"# Temp\")').closest('.cell').remove();"
      ],
      "text/plain": [
       "<IPython.core.display.Javascript object>"
      ]
     },
     "metadata": {},
     "output_type": "display_data"
    },
    {
     "data": {
      "application/javascript": [
       "\n",
       "        $('span:contains(\"# Temp\")').closest('.cell').remove();\n",
       "        var code = IPython.notebook.insert_cell_below('code');\n",
       "        code.set_text(atob(\"IyBUZW1wCmluc2VydCgnJycKREIoQ2l0YXRpb24oCiAgICBiYXJyZXRvMjAxMGEsIGJlY2tlcjIwMDhiLCByZWY9IiIsCiAgICBjb250ZXh0cz1bCgogICAgXSwKKSkKCicnJywgY2l0YXRpb25zPSdiYXJyZXRvMjAxMGEnKTsKc2V0X2F0dHJpYnV0ZSgnYmVja2VyMjAwOGInLCAnYXJ0X251bWJlcicsICcxMzcwODQwJyk7CnNldF9hdHRyaWJ1dGUoJ2JlY2tlcjIwMDhiJywgJ25vdGUnLCAnY2l0ZWQgQnkgOScpOwpzZXRfYXR0cmlidXRlKCdiZWNrZXIyMDA4YicsICdwbGFjZXgnLCAnUHJvY2VlZGluZ3MgLSBJbnRlcm5hdGlvbmFsIENvbmZlcmVuY2Ugb24gU29mdHdhcmUgRW5naW5lZXJpbmcnKTs=\"));\n",
       "    "
      ],
      "text/plain": [
       "<IPython.core.display.Javascript object>"
      ]
     },
     "metadata": {},
     "output_type": "display_data"
    },
    {
     "data": {
      "application/javascript": [
       "$('span:contains(\"# Temp\")').closest('.cell').remove();"
      ],
      "text/plain": [
       "<IPython.core.display.Javascript object>"
      ]
     },
     "metadata": {},
     "output_type": "display_data"
    },
    {
     "data": {
      "application/javascript": [
       "\n",
       "        $('span:contains(\"# Temp\")').closest('.cell').remove();\n",
       "        var code = IPython.notebook.insert_cell_below('code');\n",
       "        code.set_text(atob(\"IyBUZW1wCmluc2VydCgnJycKICAgIHNvZnRleDIwMTBhID0gREIoV29ya1VucmVsYXRlZCgKICAgICAgICAyMDEwLCAiTVBTLkJSCmpvdXJuYWw9ID8iLAogICAgICAgIGRpc3BsYXk9InNvZnRleCIsCiAgICAgICAgYXV0aG9ycz0iU09GVEVYIiwKICAgICAgICBwbGFjZT1GQUtFLAogICAgICAgIGVudHJ5dHlwZT0iYXJ0aWNsZSIsCiAgICAgICAgbm90ZT0iY2l0ZWQgQnkgMSIsCiAgICAgICAgSUQ9IlNPRlRFWDIwMTAiLAogICAgICAgIHBsYWNleD0iIiwKICAgICkpCgpEQihDaXRhdGlvbigKICAgIGJhcnJldG8yMDEwYSwgc29mdGV4MjAxMGEsIHJlZj0iIiwKICAgIGNvbnRleHRzPVsKCiAgICBdLAopKQoKJycnLCBjaXRhdGlvbnM9J2JhcnJldG8yMDEwYScpOw==\"));\n",
       "    "
      ],
      "text/plain": [
       "<IPython.core.display.Javascript object>"
      ]
     },
     "metadata": {},
     "output_type": "display_data"
    },
    {
     "data": {
      "application/javascript": [
       "$('span:contains(\"# Temp\")').closest('.cell').remove();"
      ],
      "text/plain": [
       "<IPython.core.display.Javascript object>"
      ]
     },
     "metadata": {},
     "output_type": "display_data"
    },
    {
     "data": {
      "application/javascript": [
       "\n",
       "        $('span:contains(\"# Temp\")').closest('.cell').remove();\n",
       "        var code = IPython.notebook.insert_cell_below('code');\n",
       "        code.set_text(atob(\"IyBUZW1wCmluc2VydCgnJycKICAgIHNvZnRleDIwMTBhID0gREIoV29ya1VucmVsYXRlZCgKICAgICAgICAyMDEwLCAiTVBTLkJSCmpvdXJuYWw9ID8iLAogICAgICAgIGRpc3BsYXk9InNvZnRleCIsCiAgICAgICAgYXV0aG9ycz0iU09GVEVYIiwKICAgICAgICBwbGFjZT1GQUtFLAogICAgICAgIGVudHJ5dHlwZT0iYXJ0aWNsZSIsCiAgICAgICAgbm90ZT0iY2l0ZWQgQnkgMSIsCiAgICAgICAgSUQ9IlNPRlRFWDIwMTAiLAogICAgICAgIHBsYWNleD0iIiwKICAgICkpCgpEQihDaXRhdGlvbigKICAgIGJhcnJldG8yMDEwYSwgc29mdGV4MjAxMGEsIHJlZj0iIiwKICAgIGNvbnRleHRzPVsKCiAgICBdLAopKQoKJycnLCBjaXRhdGlvbnM9J2JhcnJldG8yMDEwYScpOw==\"));\n",
       "    "
      ],
      "text/plain": [
       "<IPython.core.display.Javascript object>"
      ]
     },
     "metadata": {},
     "output_type": "display_data"
    },
    {
     "data": {
      "application/javascript": [
       "$('span:contains(\"# Temp\")').closest('.cell').remove();"
      ],
      "text/plain": [
       "<IPython.core.display.Javascript object>"
      ]
     },
     "metadata": {},
     "output_type": "display_data"
    },
    {
     "data": {
      "application/javascript": [
       "\n",
       "        $('span:contains(\"# Temp\")').closest('.cell').remove();\n",
       "        var code = IPython.notebook.insert_cell_below('code');\n",
       "        code.set_text(atob(\"IyBUZW1wCmluc2VydCgnJycKcm9jaGEyMDA2YSA9IERCKFdvcmtVbnJlbGF0ZWQoCiAgICAyMDA2LCAiU3VjY2VzcyBGYWN0b3JzIGFuZCBEaWZmaWN1bHRpZXMgaW4gU29mdHdhcmUgUHJvY2VzcyBEZXBsb3ltZW50IEV4cGVyaWVuY2VzIGJhc2VkIG9uIENNTUkgYW5kIE1SLU1QUy5CUiIsCiAgICBkaXNwbGF5PSJyb2NoYSIsCiAgICBhdXRob3JzPSJSb2NoYSwgQS5SLiBhbmQgTW9udG9uaSwgTS4gYW5kIFNhbnRvcywgRy4gYW5kIE9saXZlaXJhLCBLLiBhbmQgTmF0YWxpLCBBLkMuIGFuZCBNaWFuLCBQLiBhbmQgQ29udGUsIFQuIGFuZCBNYWZyYSwgUy4gYW5kIEJhcnJldG8sIEEuIGFuZCBBbGJ1cXVlcnF1ZSwgQS4gYW5kIEZpZ3VlaXJlZG8sIFMuIGFuZCBTb2FyZXMsIEEuIGFuZCBCaWFuY2hpLCBGLiBhbmQgQ2FicmFsLCBSLiBhbmQgTmV0bywgQS5ELiIsCiAgICBwbGFjZT1GQUtFLAogICAgcHA9Ijc3LTg3IiwKICAgIGVudHJ5dHlwZT0iYXJ0aWNsZSIsCiAgICBub3RlPSJjaXRlZCBCeSA3IiwKICAgIElEPSJSb2NoYTIwMDY3NyIsCiAgICBwbGFjZXg9IlByb2MuIG9mIHRoZSA2dGggSW50ZXJuYXRpb25hbCBXb3Jrc2hvcCBvbiBMZWFybmluZyBTb2Z0d2FyZSBPcmdhbml6YXRpb25zIChMU08nMjAwNikiLAopKQoKREIoQ2l0YXRpb24oCiAgICBiYXJyZXRvMjAxMGEsIHJvY2hhMjAwNmEsIHJlZj0iIiwKICAgIGNvbnRleHRzPVsKCiAgICBdLAopKQoKJycnLCBjaXRhdGlvbnM9J2JhcnJldG8yMDEwYScpOw==\"));\n",
       "    "
      ],
      "text/plain": [
       "<IPython.core.display.Javascript object>"
      ]
     },
     "metadata": {},
     "output_type": "display_data"
    },
    {
     "data": {
      "application/javascript": [
       "$('span:contains(\"# Temp\")').closest('.cell').remove();"
      ],
      "text/plain": [
       "<IPython.core.display.Javascript object>"
      ]
     },
     "metadata": {},
     "output_type": "display_data"
    },
    {
     "data": {
      "application/javascript": [
       "\n",
       "        $('span:contains(\"# Temp\")').closest('.cell').remove();\n",
       "        var code = IPython.notebook.insert_cell_below('code');\n",
       "        code.set_text(atob(\"IyBUZW1wCmluc2VydCgnJycKcm9jaGEyMDA2YSA9IERCKFdvcmtVbnJlbGF0ZWQoCiAgICAyMDA2LCAiU3VjY2VzcyBGYWN0b3JzIGFuZCBEaWZmaWN1bHRpZXMgaW4gU29mdHdhcmUgUHJvY2VzcyBEZXBsb3ltZW50IEV4cGVyaWVuY2VzIGJhc2VkIG9uIENNTUkgYW5kIE1SLU1QUy5CUiIsCiAgICBkaXNwbGF5PSJyb2NoYSIsCiAgICBhdXRob3JzPSJSb2NoYSwgQS5SLiBhbmQgTW9udG9uaSwgTS4gYW5kIFNhbnRvcywgRy4gYW5kIE9saXZlaXJhLCBLLiBhbmQgTmF0YWxpLCBBLkMuIGFuZCBNaWFuLCBQLiBhbmQgQ29udGUsIFQuIGFuZCBNYWZyYSwgUy4gYW5kIEJhcnJldG8sIEEuIGFuZCBBbGJ1cXVlcnF1ZSwgQS4gYW5kIEZpZ3VlaXJlZG8sIFMuIGFuZCBTb2FyZXMsIEEuIGFuZCBCaWFuY2hpLCBGLiBhbmQgQ2FicmFsLCBSLiBhbmQgTmV0bywgQS5ELiIsCiAgICBwbGFjZT1GQUtFLAogICAgcHA9Ijc3LTg3IiwKICAgIGVudHJ5dHlwZT0iYXJ0aWNsZSIsCiAgICBub3RlPSJjaXRlZCBCeSA3IiwKICAgIElEPSJSb2NoYTIwMDY3NyIsCiAgICBwbGFjZXg9IlByb2MuIG9mIHRoZSA2dGggSW50ZXJuYXRpb25hbCBXb3Jrc2hvcCBvbiBMZWFybmluZyBTb2Z0d2FyZSBPcmdhbml6YXRpb25zIChMU08nMjAwNikiLAopKQoKREIoQ2l0YXRpb24oCiAgICBiYXJyZXRvMjAxMGEsIHJvY2hhMjAwNmEsIHJlZj0iIiwKICAgIGNvbnRleHRzPVsKCiAgICBdLAopKQoKJycnLCBjaXRhdGlvbnM9J2JhcnJldG8yMDEwYScpOw==\"));\n",
       "    "
      ],
      "text/plain": [
       "<IPython.core.display.Javascript object>"
      ]
     },
     "metadata": {},
     "output_type": "display_data"
    },
    {
     "data": {
      "application/javascript": [
       "$('span:contains(\"# Temp\")').closest('.cell').remove();"
      ],
      "text/plain": [
       "<IPython.core.display.Javascript object>"
      ]
     },
     "metadata": {},
     "output_type": "display_data"
    },
    {
     "data": {
      "application/javascript": [
       "\n",
       "        $('span:contains(\"# Temp\")').closest('.cell').remove();\n",
       "        var code = IPython.notebook.insert_cell_below('code');\n",
       "        code.set_text(atob(\"IyBUZW1wCmluc2VydCgnJycKICAgIHNvZnRleDIwMTBhID0gREIoV29ya1VucmVsYXRlZCgKICAgICAgICAyMDEwLCAiTVBTLkJSCmpvdXJuYWw9ID8iLAogICAgICAgIGRpc3BsYXk9InNvZnRleCIsCiAgICAgICAgYXV0aG9ycz0iU09GVEVYIiwKICAgICAgICBwbGFjZT1GQUtFLAogICAgICAgIGVudHJ5dHlwZT0iYXJ0aWNsZSIsCiAgICAgICAgbm90ZT0iY2l0ZWQgQnkgMSIsCiAgICAgICAgSUQ9IlNPRlRFWDIwMTAiLAogICAgICAgIHBsYWNleD0iIiwKICAgICkpCgpEQihDaXRhdGlvbigKICAgIGJhcnJldG8yMDEwYSwgc29mdGV4MjAxMGEsIHJlZj0iIiwKICAgIGNvbnRleHRzPVsKCiAgICBdLAopKQoKJycnLCBjaXRhdGlvbnM9J2JhcnJldG8yMDEwYScpOw==\"));\n",
       "    "
      ],
      "text/plain": [
       "<IPython.core.display.Javascript object>"
      ]
     },
     "metadata": {},
     "output_type": "display_data"
    },
    {
     "data": {
      "application/javascript": [
       "$('span:contains(\"# Temp\")').closest('.cell').remove();"
      ],
      "text/plain": [
       "<IPython.core.display.Javascript object>"
      ]
     },
     "metadata": {},
     "output_type": "display_data"
    },
    {
     "data": {
      "application/javascript": [
       "\n",
       "        $('span:contains(\"# Temp\")').closest('.cell').remove();\n",
       "        var code = IPython.notebook.insert_cell_below('code');\n",
       "        code.set_text(atob(\"IyBUZW1wCmluc2VydCgnJycKICAgIHNvZnRleDIwMTBhID0gREIoV29ya1VucmVsYXRlZCgKICAgICAgICAyMDEwLCAiTVBTLkJSCmpvdXJuYWw9ID8iLAogICAgICAgIGRpc3BsYXk9InNvZnRleCIsCiAgICAgICAgYXV0aG9ycz0iU09GVEVYIiwKICAgICAgICBwbGFjZT1GQUtFLAogICAgICAgIGVudHJ5dHlwZT0iYXJ0aWNsZSIsCiAgICAgICAgbm90ZT0iY2l0ZWQgQnkgMSIsCiAgICAgICAgSUQ9IlNPRlRFWDIwMTAiLAogICAgICAgIHBsYWNleD0iIiwKICAgICkpCgpEQihDaXRhdGlvbigKICAgIGJhcnJldG8yMDEwYSwgc29mdGV4MjAxMGEsIHJlZj0iIiwKICAgIGNvbnRleHRzPVsKCiAgICBdLAopKQoKJycnLCBjaXRhdGlvbnM9J2JhcnJldG8yMDEwYScpOw==\"));\n",
       "    "
      ],
      "text/plain": [
       "<IPython.core.display.Javascript object>"
      ]
     },
     "metadata": {},
     "output_type": "display_data"
    },
    {
     "data": {
      "application/javascript": [
       "$('span:contains(\"# Temp\")').closest('.cell').remove();"
      ],
      "text/plain": [
       "<IPython.core.display.Javascript object>"
      ]
     },
     "metadata": {},
     "output_type": "display_data"
    },
    {
     "data": {
      "application/javascript": [
       "\n",
       "        $('span:contains(\"# Temp\")').closest('.cell').remove();\n",
       "        var code = IPython.notebook.insert_cell_below('code');\n",
       "        code.set_text(atob(\"IyBUZW1wCmluc2VydCgnJycKcm9jaGEyMDA2YSA9IERCKFdvcmtVbnJlbGF0ZWQoCiAgICAyMDA2LCAiU3VjY2VzcyBGYWN0b3JzIGFuZCBEaWZmaWN1bHRpZXMgaW4gU29mdHdhcmUgUHJvY2VzcyBEZXBsb3ltZW50IEV4cGVyaWVuY2VzIGJhc2VkIG9uIENNTUkgYW5kIE1SLU1QUy5CUiIsCiAgICBkaXNwbGF5PSJyb2NoYSIsCiAgICBhdXRob3JzPSJSb2NoYSwgQS5SLiBhbmQgTW9udG9uaSwgTS4gYW5kIFNhbnRvcywgRy4gYW5kIE9saXZlaXJhLCBLLiBhbmQgTmF0YWxpLCBBLkMuIGFuZCBNaWFuLCBQLiBhbmQgQ29udGUsIFQuIGFuZCBNYWZyYSwgUy4gYW5kIEJhcnJldG8sIEEuIGFuZCBBbGJ1cXVlcnF1ZSwgQS4gYW5kIEZpZ3VlaXJlZG8sIFMuIGFuZCBTb2FyZXMsIEEuIGFuZCBCaWFuY2hpLCBGLiBhbmQgQ2FicmFsLCBSLiBhbmQgTmV0bywgQS5ELiIsCiAgICBwbGFjZT1GQUtFLAogICAgcHA9Ijc3LTg3IiwKICAgIGVudHJ5dHlwZT0iYXJ0aWNsZSIsCiAgICBub3RlPSJjaXRlZCBCeSA3IiwKICAgIElEPSJSb2NoYTIwMDY3NyIsCiAgICBwbGFjZXg9IlByb2MuIG9mIHRoZSA2dGggSW50ZXJuYXRpb25hbCBXb3Jrc2hvcCBvbiBMZWFybmluZyBTb2Z0d2FyZSBPcmdhbml6YXRpb25zIChMU08nMjAwNikiLAopKQoKREIoQ2l0YXRpb24oCiAgICBiYXJyZXRvMjAxMGEsIHJvY2hhMjAwNmEsIHJlZj0iIiwKICAgIGNvbnRleHRzPVsKCiAgICBdLAopKQoKJycnLCBjaXRhdGlvbnM9J2JhcnJldG8yMDEwYScpOw==\"));\n",
       "    "
      ],
      "text/plain": [
       "<IPython.core.display.Javascript object>"
      ]
     },
     "metadata": {},
     "output_type": "display_data"
    },
    {
     "data": {
      "application/javascript": [
       "$('span:contains(\"# Temp\")').closest('.cell').remove();"
      ],
      "text/plain": [
       "<IPython.core.display.Javascript object>"
      ]
     },
     "metadata": {},
     "output_type": "display_data"
    },
    {
     "data": {
      "application/javascript": [
       "\n",
       "        $('span:contains(\"# Temp\")').closest('.cell').remove();\n",
       "        var code = IPython.notebook.insert_cell_below('code');\n",
       "        code.set_text(atob(\"IyBUZW1wCmluc2VydCgnJycKcm9jaGEyMDA2YSA9IERCKFdvcmtVbnJlbGF0ZWQoCiAgICAyMDA2LCAiU3VjY2VzcyBGYWN0b3JzIGFuZCBEaWZmaWN1bHRpZXMgaW4gU29mdHdhcmUgUHJvY2VzcyBEZXBsb3ltZW50IEV4cGVyaWVuY2VzIGJhc2VkIG9uIENNTUkgYW5kIE1SLU1QUy5CUiIsCiAgICBkaXNwbGF5PSJyb2NoYSIsCiAgICBhdXRob3JzPSJSb2NoYSwgQS5SLiBhbmQgTW9udG9uaSwgTS4gYW5kIFNhbnRvcywgRy4gYW5kIE9saXZlaXJhLCBLLiBhbmQgTmF0YWxpLCBBLkMuIGFuZCBNaWFuLCBQLiBhbmQgQ29udGUsIFQuIGFuZCBNYWZyYSwgUy4gYW5kIEJhcnJldG8sIEEuIGFuZCBBbGJ1cXVlcnF1ZSwgQS4gYW5kIEZpZ3VlaXJlZG8sIFMuIGFuZCBTb2FyZXMsIEEuIGFuZCBCaWFuY2hpLCBGLiBhbmQgQ2FicmFsLCBSLiBhbmQgTmV0bywgQS5ELiIsCiAgICBwbGFjZT1GQUtFLAogICAgcHA9Ijc3LTg3IiwKICAgIGVudHJ5dHlwZT0iYXJ0aWNsZSIsCiAgICBub3RlPSJjaXRlZCBCeSA3IiwKICAgIElEPSJSb2NoYTIwMDY3NyIsCiAgICBwbGFjZXg9IlByb2MuIG9mIHRoZSA2dGggSW50ZXJuYXRpb25hbCBXb3Jrc2hvcCBvbiBMZWFybmluZyBTb2Z0d2FyZSBPcmdhbml6YXRpb25zIChMU08nMjAwNikiLAopKQoKREIoQ2l0YXRpb24oCiAgICBiYXJyZXRvMjAxMGEsIHJvY2hhMjAwNmEsIHJlZj0iIiwKICAgIGNvbnRleHRzPVsKCiAgICBdLAopKQoKJycnLCBjaXRhdGlvbnM9J2JhcnJldG8yMDEwYScpOw==\"));\n",
       "    "
      ],
      "text/plain": [
       "<IPython.core.display.Javascript object>"
      ]
     },
     "metadata": {},
     "output_type": "display_data"
    },
    {
     "data": {
      "application/javascript": [
       "$('span:contains(\"# Temp\")').closest('.cell').remove();"
      ],
      "text/plain": [
       "<IPython.core.display.Javascript object>"
      ]
     },
     "metadata": {},
     "output_type": "display_data"
    },
    {
     "data": {
      "application/javascript": [
       "\n",
       "        $('span:contains(\"# Temp\")').closest('.cell').remove();\n",
       "        var code = IPython.notebook.insert_cell_below('code');\n",
       "        code.set_text(atob(\"IyBUZW1wCmluc2VydCgnJycKREIoQ2l0YXRpb24oCiAgICBiYXJyZXRvMjAxMGEsIGNocmlzc2lzMjAwM2EsIHJlZj0iIiwKICAgIGNvbnRleHRzPVsKCiAgICBdLAopKQoKJycnLCBjaXRhdGlvbnM9J2JhcnJldG8yMDEwYScpOw==\"));\n",
       "    "
      ],
      "text/plain": [
       "<IPython.core.display.Javascript object>"
      ]
     },
     "metadata": {},
     "output_type": "display_data"
    },
    {
     "data": {
      "application/javascript": [
       "$('span:contains(\"# Temp\")').closest('.cell').remove();"
      ],
      "text/plain": [
       "<IPython.core.display.Javascript object>"
      ]
     },
     "metadata": {},
     "output_type": "display_data"
    },
    {
     "data": {
      "application/javascript": [
       "\n",
       "        $('span:contains(\"# Temp\")').closest('.cell').remove();\n",
       "        var code = IPython.notebook.insert_cell_below('code');\n",
       "        code.set_text(atob(\"IyBUZW1wCmluc2VydCgnJycKREIoQ2l0YXRpb24oCiAgICBiYXJyZXRvMjAxMGEsIGNocmlzc2lzMjAwM2EsIHJlZj0iIiwKICAgIGNvbnRleHRzPVsKCiAgICBdLAopKQoKJycnLCBjaXRhdGlvbnM9J2JhcnJldG8yMDEwYScpOw==\"));\n",
       "    "
      ],
      "text/plain": [
       "<IPython.core.display.Javascript object>"
      ]
     },
     "metadata": {},
     "output_type": "display_data"
    },
    {
     "data": {
      "application/javascript": [
       "$('span:contains(\"# Temp\")').closest('.cell').remove();"
      ],
      "text/plain": [
       "<IPython.core.display.Javascript object>"
      ]
     },
     "metadata": {},
     "output_type": "display_data"
    },
    {
     "data": {
      "application/javascript": [
       "\n",
       "        $('span:contains(\"# Temp\")').closest('.cell').remove();\n",
       "        var code = IPython.notebook.insert_cell_below('code');\n",
       "        code.set_text(atob(\"IyBUZW1wCmluc2VydCgnJycKREIoQ2l0YXRpb24oCiAgICBiYXJyZXRvMjAxMGEsIGR5YmEyMDA1YSwgcmVmPSIiLAogICAgY29udGV4dHM9WwoKICAgIF0sCikpCgonJycsIGNpdGF0aW9ucz0nYmFycmV0bzIwMTBhJyk7CnNldF9hdHRyaWJ1dGUoJ2R5YmEyMDA1YScsICdwbGFjZXgnLCAnSUVFRSBUcmFuc2FjdGlvbnMgb24gU29mdHdhcmUgRW5naW5lZXJpbmcnKTs=\"));\n",
       "    "
      ],
      "text/plain": [
       "<IPython.core.display.Javascript object>"
      ]
     },
     "metadata": {},
     "output_type": "display_data"
    },
    {
     "data": {
      "application/javascript": [
       "$('span:contains(\"# Temp\")').closest('.cell').remove();"
      ],
      "text/plain": [
       "<IPython.core.display.Javascript object>"
      ]
     },
     "metadata": {},
     "output_type": "display_data"
    },
    {
     "data": {
      "application/javascript": [
       "\n",
       "        $('span:contains(\"# Temp\")').closest('.cell').remove();\n",
       "        var code = IPython.notebook.insert_cell_below('code');\n",
       "        code.set_text(atob(\"IyBUZW1wCmluc2VydCgnJycKREIoQ2l0YXRpb24oCiAgICBiYXJyZXRvMjAxMGEsIGR5YmEyMDA1YSwgcmVmPSIiLAogICAgY29udGV4dHM9WwoKICAgIF0sCikpCgonJycsIGNpdGF0aW9ucz0nYmFycmV0bzIwMTBhJyk7CnNldF9hdHRyaWJ1dGUoJ2R5YmEyMDA1YScsICdwbGFjZXgnLCAnSUVFRSBUcmFuc2FjdGlvbnMgb24gU29mdHdhcmUgRW5naW5lZXJpbmcnKTs=\"));\n",
       "    "
      ],
      "text/plain": [
       "<IPython.core.display.Javascript object>"
      ]
     },
     "metadata": {},
     "output_type": "display_data"
    },
    {
     "data": {
      "application/javascript": [
       "$('span:contains(\"# Temp\")').closest('.cell').remove();"
      ],
      "text/plain": [
       "<IPython.core.display.Javascript object>"
      ]
     },
     "metadata": {},
     "output_type": "display_data"
    },
    {
     "data": {
      "application/javascript": [
       "\n",
       "        $('span:contains(\"# Temp\")').closest('.cell').remove();\n",
       "        var code = IPython.notebook.insert_cell_below('code');\n",
       "        code.set_text(atob(\"IyBUZW1wCmluc2VydCgnJycKcHUyMDA2YSA9IERCKFdvcmtVbnJlbGF0ZWQoCiAgICAyMDA2LCAiUmVhbCB0aW1lIGJ1c2luZXNzIHBlcmZvcm1hbmNlIG1vbml0b3JpbmcgYW5kIGFuYWx5c2lzIHVzaW5nIG1ldHJpYyBuZXR3b3JrIiwKICAgIGRpc3BsYXk9InB1IiwKICAgIGF1dGhvcnM9IlB1LCBILiBhbmQgSHVpLCBMLiBhbmQgTGlweWVvdywgTC4iLAogICAgcGxhY2U9RkFLRSwKICAgIHBwPSI0NDItNDQ4IiwKICAgIGVudHJ5dHlwZT0iY29uZmVyZW5jZSIsCiAgICBkb2k9IjEwLjExMDkvSUNFQkUuMjAwNi44NCIsCiAgICBhcnRfbnVtYmVyPSI0MDMxNjg1IiwKICAgIG5vdGU9ImNpdGVkIEJ5IDQiLAogICAgSUQ9IlB1MjAwNjQ0MiIsCiAgICBwbGFjZXg9IlByb2NlZWRpbmdzIC0gSUVFRSBJbnRlcm5hdGlvbmFsIENvbmZlcmVuY2Ugb24gZS1CdXNpbmVzcyBFbmdpbmVlcmluZywgSUNFQkUgMjAwNiIsCikpCgpEQihDaXRhdGlvbigKICAgIGJhcnJldG8yMDEwYSwgcHUyMDA2YSwgcmVmPSIiLAogICAgY29udGV4dHM9WwoKICAgIF0sCikpCgonJycsIGNpdGF0aW9ucz0nYmFycmV0bzIwMTBhJyk7\"));\n",
       "    "
      ],
      "text/plain": [
       "<IPython.core.display.Javascript object>"
      ]
     },
     "metadata": {},
     "output_type": "display_data"
    },
    {
     "data": {
      "application/javascript": [
       "$('span:contains(\"# Temp\")').closest('.cell').remove();"
      ],
      "text/plain": [
       "<IPython.core.display.Javascript object>"
      ]
     },
     "metadata": {},
     "output_type": "display_data"
    },
    {
     "data": {
      "application/javascript": [
       "\n",
       "        $('span:contains(\"# Temp\")').closest('.cell').remove();\n",
       "        var code = IPython.notebook.insert_cell_below('code');\n",
       "        code.set_text(atob(\"IyBUZW1wCmluc2VydCgnJycKcHUyMDA2YSA9IERCKFdvcmtVbnJlbGF0ZWQoCiAgICAyMDA2LCAiUmVhbCB0aW1lIGJ1c2luZXNzIHBlcmZvcm1hbmNlIG1vbml0b3JpbmcgYW5kIGFuYWx5c2lzIHVzaW5nIG1ldHJpYyBuZXR3b3JrIiwKICAgIGRpc3BsYXk9InB1IiwKICAgIGF1dGhvcnM9IlB1LCBILiBhbmQgSHVpLCBMLiBhbmQgTGlweWVvdywgTC4iLAogICAgcGxhY2U9RkFLRSwKICAgIHBwPSI0NDItNDQ4IiwKICAgIGVudHJ5dHlwZT0iY29uZmVyZW5jZSIsCiAgICBkb2k9IjEwLjExMDkvSUNFQkUuMjAwNi44NCIsCiAgICBhcnRfbnVtYmVyPSI0MDMxNjg1IiwKICAgIG5vdGU9ImNpdGVkIEJ5IDQiLAogICAgSUQ9IlB1MjAwNjQ0MiIsCiAgICBwbGFjZXg9IlByb2NlZWRpbmdzIC0gSUVFRSBJbnRlcm5hdGlvbmFsIENvbmZlcmVuY2Ugb24gZS1CdXNpbmVzcyBFbmdpbmVlcmluZywgSUNFQkUgMjAwNiIsCikpCgpEQihDaXRhdGlvbigKICAgIGJhcnJldG8yMDEwYSwgcHUyMDA2YSwgcmVmPSIiLAogICAgY29udGV4dHM9WwoKICAgIF0sCikpCgonJycsIGNpdGF0aW9ucz0nYmFycmV0bzIwMTBhJyk7\"));\n",
       "    "
      ],
      "text/plain": [
       "<IPython.core.display.Javascript object>"
      ]
     },
     "metadata": {},
     "output_type": "display_data"
    },
    {
     "data": {
      "application/javascript": [
       "$('span:contains(\"# Temp\")').closest('.cell').remove();"
      ],
      "text/plain": [
       "<IPython.core.display.Javascript object>"
      ]
     },
     "metadata": {},
     "output_type": "display_data"
    },
    {
     "data": {
      "application/javascript": [
       "\n",
       "        $('span:contains(\"# Temp\")').closest('.cell').remove();\n",
       "        var code = IPython.notebook.insert_cell_below('code');\n",
       "        code.set_text(atob(\"IyBUZW1wCmluc2VydCgnJycKbWludHpiZXJnMjAwMGEgPSBEQihXb3JrVW5yZWxhdGVkKAogICAgMjAwMCwgIlNhZuFyaSBkZSBlc3RyYXTpZ2lhOiBVbSBSb3RlaXJvIFBlbGEgU2VsdmEgRG8gUGxhbmVqYW1lbnRvIEVzdHJhdOlnaWNvIiwKICAgIGRpc3BsYXk9Im1pbnR6YmVyZyIsCiAgICBhdXRob3JzPSJNaW50emJlcmcsIEguIGFuZCBBaGxzdHJhbmQsIEIuIGFuZCBMYW1wZWwsIEouIiwKICAgIHBsYWNlPUJvb2ssCiAgICBlbnRyeXR5cGU9ImFydGljbGUiLAogICAgbm90ZT0iY2l0ZWQgQnkgOTciLAogICAgSUQ9Ik1pbnR6YmVyZzIwMDAiLAogICAgcGxhY2V4PSJCb29rbWFuIiwKKSkKCkRCKENpdGF0aW9uKAogICAgYmFycmV0bzIwMTBhLCBtaW50emJlcmcyMDAwYSwgcmVmPSIiLAogICAgY29udGV4dHM9WwoKICAgIF0sCikpCgonJycsIGNpdGF0aW9ucz0nYmFycmV0bzIwMTBhJyk7\"));\n",
       "    "
      ],
      "text/plain": [
       "<IPython.core.display.Javascript object>"
      ]
     },
     "metadata": {},
     "output_type": "display_data"
    },
    {
     "data": {
      "application/javascript": [
       "$('span:contains(\"# Temp\")').closest('.cell').remove();"
      ],
      "text/plain": [
       "<IPython.core.display.Javascript object>"
      ]
     },
     "metadata": {},
     "output_type": "display_data"
    },
    {
     "data": {
      "application/javascript": [
       "\n",
       "        $('span:contains(\"# Temp\")').closest('.cell').remove();\n",
       "        var code = IPython.notebook.insert_cell_below('code');\n",
       "        code.set_text(atob(\"IyBUZW1wCmluc2VydCgnJycKbWludHpiZXJnMjAwMGEgPSBEQihXb3JrVW5yZWxhdGVkKAogICAgMjAwMCwgIlNhZuFyaSBkZSBlc3RyYXTpZ2lhOiBVbSBSb3RlaXJvIFBlbGEgU2VsdmEgRG8gUGxhbmVqYW1lbnRvIEVzdHJhdOlnaWNvIiwKICAgIGRpc3BsYXk9Im1pbnR6YmVyZyIsCiAgICBhdXRob3JzPSJNaW50emJlcmcsIEguIGFuZCBBaGxzdHJhbmQsIEIuIGFuZCBMYW1wZWwsIEouIiwKICAgIHBsYWNlPUJvb2ssCiAgICBlbnRyeXR5cGU9ImFydGljbGUiLAogICAgbm90ZT0iY2l0ZWQgQnkgOTciLAogICAgSUQ9Ik1pbnR6YmVyZzIwMDAiLAogICAgcGxhY2V4PSJCb29rbWFuIiwKKSkKCkRCKENpdGF0aW9uKAogICAgYmFycmV0bzIwMTBhLCBtaW50emJlcmcyMDAwYSwgcmVmPSIiLAogICAgY29udGV4dHM9WwoKICAgIF0sCikpCgonJycsIGNpdGF0aW9ucz0nYmFycmV0bzIwMTBhJyk7\"));\n",
       "    "
      ],
      "text/plain": [
       "<IPython.core.display.Javascript object>"
      ]
     },
     "metadata": {},
     "output_type": "display_data"
    },
    {
     "data": {
      "application/javascript": [
       "$('span:contains(\"# Temp\")').closest('.cell').remove();"
      ],
      "text/plain": [
       "<IPython.core.display.Javascript object>"
      ]
     },
     "metadata": {},
     "output_type": "display_data"
    },
    {
     "data": {
      "application/javascript": [
       "\n",
       "        $('span:contains(\"# Temp\")').closest('.cell').remove();\n",
       "        var code = IPython.notebook.insert_cell_below('code');\n",
       "        code.set_text(atob(\"IyBUZW1wCmluc2VydCgnJycKY2hpYXZlbmF0bzIwMDBhID0gREIoV29ya1VucmVsYXRlZCgKICAgIDIwMDAsICJBZG1pbmlzdHJh5+NvOiBUZW9yaWEsIFByb2Nlc3NvIGUgUHLhdGljYSIsCiAgICBkaXNwbGF5PSJjaGlhdmVuYXRvIiwKICAgIGF1dGhvcnM9IkNoaWF2ZW5hdG8sIEkuIiwKICAgIHBsYWNlPUZBS0UsCiAgICBlbnRyeXR5cGU9ImFydGljbGUiLAogICAgbm90ZT0iY2l0ZWQgQnkgMTAiLAogICAgSUQ9IkNoaWF2ZW5hdG8yMDAwIiwKICAgIHBsYWNleD0iTWFrcm9uYm9va3MiLAopKQoKREIoQ2l0YXRpb24oCiAgICBiYXJyZXRvMjAxMGEsIGNoaWF2ZW5hdG8yMDAwYSwgcmVmPSIiLAogICAgY29udGV4dHM9WwoKICAgIF0sCikpCgonJycsIGNpdGF0aW9ucz0nYmFycmV0bzIwMTBhJyk7\"));\n",
       "    "
      ],
      "text/plain": [
       "<IPython.core.display.Javascript object>"
      ]
     },
     "metadata": {},
     "output_type": "display_data"
    },
    {
     "data": {
      "application/javascript": [
       "$('span:contains(\"# Temp\")').closest('.cell').remove();"
      ],
      "text/plain": [
       "<IPython.core.display.Javascript object>"
      ]
     },
     "metadata": {},
     "output_type": "display_data"
    },
    {
     "data": {
      "application/javascript": [
       "\n",
       "        $('span:contains(\"# Temp\")').closest('.cell').remove();\n",
       "        var code = IPython.notebook.insert_cell_below('code');\n",
       "        code.set_text(atob(\"IyBUZW1wCmluc2VydCgnJycKY2hpYXZlbmF0bzIwMDBhID0gREIoV29ya1VucmVsYXRlZCgKICAgIDIwMDAsICJBZG1pbmlzdHJh5+NvOiBUZW9yaWEsIFByb2Nlc3NvIGUgUHLhdGljYSIsCiAgICBkaXNwbGF5PSJjaGlhdmVuYXRvIiwKICAgIGF1dGhvcnM9IkNoaWF2ZW5hdG8sIEkuIiwKICAgIHBsYWNlPUZBS0UsCiAgICBlbnRyeXR5cGU9ImFydGljbGUiLAogICAgbm90ZT0iY2l0ZWQgQnkgMTAiLAogICAgSUQ9IkNoaWF2ZW5hdG8yMDAwIiwKICAgIHBsYWNleD0iTWFrcm9uYm9va3MiLAopKQoKREIoQ2l0YXRpb24oCiAgICBiYXJyZXRvMjAxMGEsIGNoaWF2ZW5hdG8yMDAwYSwgcmVmPSIiLAogICAgY29udGV4dHM9WwoKICAgIF0sCikpCgonJycsIGNpdGF0aW9ucz0nYmFycmV0bzIwMTBhJyk7\"));\n",
       "    "
      ],
      "text/plain": [
       "<IPython.core.display.Javascript object>"
      ]
     },
     "metadata": {},
     "output_type": "display_data"
    },
    {
     "data": {
      "application/javascript": [
       "$('span:contains(\"# Temp\")').closest('.cell').remove();"
      ],
      "text/plain": [
       "<IPython.core.display.Javascript object>"
      ]
     },
     "metadata": {},
     "output_type": "display_data"
    },
    {
     "data": {
      "application/javascript": [
       "\n",
       "        $('span:contains(\"# Temp\")').closest('.cell').remove();\n",
       "        var code = IPython.notebook.insert_cell_below('code');\n",
       "        code.set_text(atob(\"IyBUZW1wCmluc2VydCgnJycKREIoQ2l0YXRpb24oCiAgICBiYXJyZXRvMjAxMGEsIGthcGxhbjE5OTZhLCByZWY9IiIsCiAgICBjb250ZXh0cz1bCgogICAgXSwKKSkKCicnJywgY2l0YXRpb25zPSdiYXJyZXRvMjAxMGEnKTs=\"));\n",
       "    "
      ],
      "text/plain": [
       "<IPython.core.display.Javascript object>"
      ]
     },
     "metadata": {},
     "output_type": "display_data"
    },
    {
     "data": {
      "application/javascript": [
       "$('span:contains(\"# Temp\")').closest('.cell').remove();"
      ],
      "text/plain": [
       "<IPython.core.display.Javascript object>"
      ]
     },
     "metadata": {},
     "output_type": "display_data"
    },
    {
     "data": {
      "application/javascript": [
       "\n",
       "        $('span:contains(\"# Temp\")').closest('.cell').remove();\n",
       "        var code = IPython.notebook.insert_cell_below('code');\n",
       "        code.set_text(atob(\"IyBUZW1wCmluc2VydCgnJycKREIoQ2l0YXRpb24oCiAgICBiYXJyZXRvMjAxMGEsIGthcGxhbjE5OTZhLCByZWY9IiIsCiAgICBjb250ZXh0cz1bCgogICAgXSwKKSkKCicnJywgY2l0YXRpb25zPSdiYXJyZXRvMjAxMGEnKTs=\"));\n",
       "    "
      ],
      "text/plain": [
       "<IPython.core.display.Javascript object>"
      ]
     },
     "metadata": {},
     "output_type": "display_data"
    },
    {
     "data": {
      "application/javascript": [
       "$('span:contains(\"# Temp\")').closest('.cell').remove();"
      ],
      "text/plain": [
       "<IPython.core.display.Javascript object>"
      ]
     },
     "metadata": {},
     "output_type": "display_data"
    },
    {
     "data": {
      "application/javascript": [
       "\n",
       "        $('span:contains(\"# Temp\")').closest('.cell').remove();\n",
       "        var code = IPython.notebook.insert_cell_below('code');\n",
       "        code.set_text(atob(\"IyBUZW1wCmluc2VydCgnJycKaXRnaTIwMTBhID0gREIoV29ya1VucmVsYXRlZCgKICAgIDIwMTAsICJDb250cm9sIE9iamVjdGl2ZXMgZm9yIEluZm9ybWF0aW9uIGFuZCBSZWxhdGVkIFRlY2hub2xvZ3kiLAogICAgZGlzcGxheT0iaXRnaSIsCiAgICBhdXRob3JzPSJJVEdJIiwKICAgIHBsYWNlPUZBS0UsCiAgICBlbnRyeXR5cGU9ImFydGljbGUiLAogICAgbm90ZT0iY2l0ZWQgQnkgMSIsCiAgICBJRD0iSVRHSTIwMTAiLAogICAgcGxhY2V4PSJJVCBHb3Zlcm5hbmNlIEluc3RpdHV0ZSIsCikpCgpEQihDaXRhdGlvbigKICAgIGJhcnJldG8yMDEwYSwgaXRnaTIwMTBhLCByZWY9IiIsCiAgICBjb250ZXh0cz1bCgogICAgXSwKKSkKCicnJywgY2l0YXRpb25zPSdiYXJyZXRvMjAxMGEnKTs=\"));\n",
       "    "
      ],
      "text/plain": [
       "<IPython.core.display.Javascript object>"
      ]
     },
     "metadata": {},
     "output_type": "display_data"
    },
    {
     "data": {
      "application/javascript": [
       "$('span:contains(\"# Temp\")').closest('.cell').remove();"
      ],
      "text/plain": [
       "<IPython.core.display.Javascript object>"
      ]
     },
     "metadata": {},
     "output_type": "display_data"
    },
    {
     "data": {
      "application/javascript": [
       "\n",
       "        $('span:contains(\"# Temp\")').closest('.cell').remove();\n",
       "        var code = IPython.notebook.insert_cell_below('code');\n",
       "        code.set_text(atob(\"IyBUZW1wCmluc2VydCgnJycKaXRnaTIwMTBhID0gREIoV29ya1VucmVsYXRlZCgKICAgIDIwMTAsICJDb250cm9sIE9iamVjdGl2ZXMgZm9yIEluZm9ybWF0aW9uIGFuZCBSZWxhdGVkIFRlY2hub2xvZ3kiLAogICAgZGlzcGxheT0iaXRnaSIsCiAgICBhdXRob3JzPSJJVEdJIiwKICAgIHBsYWNlPUZBS0UsCiAgICBlbnRyeXR5cGU9ImFydGljbGUiLAogICAgbm90ZT0iY2l0ZWQgQnkgMSIsCiAgICBJRD0iSVRHSTIwMTAiLAogICAgcGxhY2V4PSJJVCBHb3Zlcm5hbmNlIEluc3RpdHV0ZSIsCikpCgpEQihDaXRhdGlvbigKICAgIGJhcnJldG8yMDEwYSwgaXRnaTIwMTBhLCByZWY9IiIsCiAgICBjb250ZXh0cz1bCgogICAgXSwKKSkKCicnJywgY2l0YXRpb25zPSdiYXJyZXRvMjAxMGEnKTs=\"));\n",
       "    "
      ],
      "text/plain": [
       "<IPython.core.display.Javascript object>"
      ]
     },
     "metadata": {},
     "output_type": "display_data"
    },
    {
     "data": {
      "application/javascript": [
       "$('span:contains(\"# Temp\")').closest('.cell').remove();"
      ],
      "text/plain": [
       "<IPython.core.display.Javascript object>"
      ]
     },
     "metadata": {},
     "output_type": "display_data"
    },
    {
     "data": {
      "application/javascript": [
       "\n",
       "        $('span:contains(\"# Temp\")').closest('.cell').remove();\n",
       "        var code = IPython.notebook.insert_cell_below('code');\n",
       "        code.set_text(atob(\"IyBUZW1wCmluc2VydCgnJycKaHVhbmcyMDA5YSA9IERCKFdvcmtVbnJlbGF0ZWQoCiAgICAyMDA5LCAiRGVzaWduaW5nIGEga25vd2xlZGdlLWJhc2VkIHN5c3RlbSBmb3Igc3RyYXRlZ2ljIHBsYW5uaW5nOiBBIGJhbGFuY2VkIHNjb3JlY2FyZCBwZXJzcGVjdGl2ZSIsCiAgICBkaXNwbGF5PSJodWFuZyIsCiAgICBhdXRob3JzPSJIdWFuZywgSC4tQy4iLAogICAgcGxhY2U9RkFLRSwKICAgIHBwPSIyMDktMjE4IiwKICAgIGVudHJ5dHlwZT0iYXJ0aWNsZSIsCiAgICB2b2x1bWU9IjM2IiwKICAgIG51bWJlcj0iMSIsCiAgICBkb2k9IjEwLjEwMTYvai5lc3dhLjIwMDcuMDkuMDQ2IiwKICAgIG5vdGU9ImNpdGVkIEJ5IDkwIiwKICAgIElEPSJIdWFuZzIwMDkyMDkiLAogICAgcGxhY2V4PSJFeHBlcnQgU3lzdGVtcyB3aXRoIEFwcGxpY2F0aW9ucyIsCikpCgpEQihDaXRhdGlvbigKICAgIGJhcnJldG8yMDEwYSwgaHVhbmcyMDA5YSwgcmVmPSIiLAogICAgY29udGV4dHM9WwoKICAgIF0sCikpCgonJycsIGNpdGF0aW9ucz0nYmFycmV0bzIwMTBhJyk7\"));\n",
       "    "
      ],
      "text/plain": [
       "<IPython.core.display.Javascript object>"
      ]
     },
     "metadata": {},
     "output_type": "display_data"
    },
    {
     "data": {
      "application/javascript": [
       "$('span:contains(\"# Temp\")').closest('.cell').remove();"
      ],
      "text/plain": [
       "<IPython.core.display.Javascript object>"
      ]
     },
     "metadata": {},
     "output_type": "display_data"
    },
    {
     "data": {
      "application/javascript": [
       "\n",
       "        $('span:contains(\"# Temp\")').closest('.cell').remove();\n",
       "        var code = IPython.notebook.insert_cell_below('code');\n",
       "        code.set_text(atob(\"IyBUZW1wCmluc2VydCgnJycKaHVhbmcyMDA5YSA9IERCKFdvcmtVbnJlbGF0ZWQoCiAgICAyMDA5LCAiRGVzaWduaW5nIGEga25vd2xlZGdlLWJhc2VkIHN5c3RlbSBmb3Igc3RyYXRlZ2ljIHBsYW5uaW5nOiBBIGJhbGFuY2VkIHNjb3JlY2FyZCBwZXJzcGVjdGl2ZSIsCiAgICBkaXNwbGF5PSJodWFuZyIsCiAgICBhdXRob3JzPSJIdWFuZywgSC4tQy4iLAogICAgcGxhY2U9RkFLRSwKICAgIHBwPSIyMDktMjE4IiwKICAgIGVudHJ5dHlwZT0iYXJ0aWNsZSIsCiAgICB2b2x1bWU9IjM2IiwKICAgIG51bWJlcj0iMSIsCiAgICBkb2k9IjEwLjEwMTYvai5lc3dhLjIwMDcuMDkuMDQ2IiwKICAgIG5vdGU9ImNpdGVkIEJ5IDkwIiwKICAgIElEPSJIdWFuZzIwMDkyMDkiLAogICAgcGxhY2V4PSJFeHBlcnQgU3lzdGVtcyB3aXRoIEFwcGxpY2F0aW9ucyIsCikpCgpEQihDaXRhdGlvbigKICAgIGJhcnJldG8yMDEwYSwgaHVhbmcyMDA5YSwgcmVmPSIiLAogICAgY29udGV4dHM9WwoKICAgIF0sCikpCgonJycsIGNpdGF0aW9ucz0nYmFycmV0bzIwMTBhJyk7\"));\n",
       "    "
      ],
      "text/plain": [
       "<IPython.core.display.Javascript object>"
      ]
     },
     "metadata": {},
     "output_type": "display_data"
    },
    {
     "data": {
      "application/javascript": [
       "$('span:contains(\"# Temp\")').closest('.cell').remove();"
      ],
      "text/plain": [
       "<IPython.core.display.Javascript object>"
      ]
     },
     "metadata": {},
     "output_type": "display_data"
    },
    {
     "data": {
      "application/javascript": [
       "\n",
       "        $('span:contains(\"# Temp\")').closest('.cell').remove();\n",
       "        var code = IPython.notebook.insert_cell_below('code');\n",
       "        code.set_text(atob(\"IyBUZW1wCmluc2VydCgnJycKY2FzdGlsbG8yMDA3YSA9IERCKFdvcmtVbnJlbGF0ZWQoCiAgICAyMDA3LCAiVGhlICdNRUNJTVBMQU4nIGFwcHJvYWNoIHRvIGFnZW50LWJhc2VkIHN0cmF0ZWdpYyBwbGFubmluZyIsCiAgICBkaXNwbGF5PSJjYXN0aWxsbyIsCiAgICBhdXRob3JzPSJDYXN0aWxsbywgSi5NLiBhbmQgT3Nzb3dza2ksIFMuIGFuZCBQYXN0b3IsIEwuIiwKICAgIHBsYWNlPUZBS0UsCiAgICBwcD0iNTQwLTU0MyIsCiAgICBlbnRyeXR5cGU9ImNvbmZlcmVuY2UiLAogICAgZG9pPSIxMC4xMTA5L1dJLUlBVFcuMjAwNi4xMjciLAogICAgYXJ0X251bWJlcj0iNDA1MzMwOSIsCiAgICBub3RlPSJjaXRlZCBCeSAyIiwKICAgIElEPSJDYXN0aWxsbzIwMDc1NDAiLAogICAgcGxhY2V4PSJQcm9jZWVkaW5ncyAtIDIwMDYgSUVFRS9XSUMvQUNNIEludGVybmF0aW9uYWwgQ29uZmVyZW5jZSBvbiBXZWIgSW50ZWxsaWdlbmNlIGFuZCBJbnRlbGxpZ2VudCBBZ2VudCBUZWNobm9sb2d5IChXSS1JQVQgMjAwNiBXb3Jrc2hvcHMgUHJvY2VlZGluZ3MpIiwKKSkKCkRCKENpdGF0aW9uKAogICAgYmFycmV0bzIwMTBhLCBjYXN0aWxsbzIwMDdhLCByZWY9IiIsCiAgICBjb250ZXh0cz1bCgogICAgXSwKKSkKCicnJywgY2l0YXRpb25zPSdiYXJyZXRvMjAxMGEnKTs=\"));\n",
       "    "
      ],
      "text/plain": [
       "<IPython.core.display.Javascript object>"
      ]
     },
     "metadata": {},
     "output_type": "display_data"
    },
    {
     "data": {
      "application/javascript": [
       "$('span:contains(\"# Temp\")').closest('.cell').remove();"
      ],
      "text/plain": [
       "<IPython.core.display.Javascript object>"
      ]
     },
     "metadata": {},
     "output_type": "display_data"
    },
    {
     "data": {
      "application/javascript": [
       "\n",
       "        $('span:contains(\"# Temp\")').closest('.cell').remove();\n",
       "        var code = IPython.notebook.insert_cell_below('code');\n",
       "        code.set_text(atob(\"IyBUZW1wCmluc2VydCgnJycKY2FzdGlsbG8yMDA3YSA9IERCKFdvcmtVbnJlbGF0ZWQoCiAgICAyMDA3LCAiVGhlICdNRUNJTVBMQU4nIGFwcHJvYWNoIHRvIGFnZW50LWJhc2VkIHN0cmF0ZWdpYyBwbGFubmluZyIsCiAgICBkaXNwbGF5PSJjYXN0aWxsbyIsCiAgICBhdXRob3JzPSJDYXN0aWxsbywgSi5NLiBhbmQgT3Nzb3dza2ksIFMuIGFuZCBQYXN0b3IsIEwuIiwKICAgIHBsYWNlPUZBS0UsCiAgICBwcD0iNTQwLTU0MyIsCiAgICBlbnRyeXR5cGU9ImNvbmZlcmVuY2UiLAogICAgZG9pPSIxMC4xMTA5L1dJLUlBVFcuMjAwNi4xMjciLAogICAgYXJ0X251bWJlcj0iNDA1MzMwOSIsCiAgICBub3RlPSJjaXRlZCBCeSAyIiwKICAgIElEPSJDYXN0aWxsbzIwMDc1NDAiLAogICAgcGxhY2V4PSJQcm9jZWVkaW5ncyAtIDIwMDYgSUVFRS9XSUMvQUNNIEludGVybmF0aW9uYWwgQ29uZmVyZW5jZSBvbiBXZWIgSW50ZWxsaWdlbmNlIGFuZCBJbnRlbGxpZ2VudCBBZ2VudCBUZWNobm9sb2d5IChXSS1JQVQgMjAwNiBXb3Jrc2hvcHMgUHJvY2VlZGluZ3MpIiwKKSkKCkRCKENpdGF0aW9uKAogICAgYmFycmV0bzIwMTBhLCBjYXN0aWxsbzIwMDdhLCByZWY9IiIsCiAgICBjb250ZXh0cz1bCgogICAgXSwKKSkKCicnJywgY2l0YXRpb25zPSdiYXJyZXRvMjAxMGEnKTs=\"));\n",
       "    "
      ],
      "text/plain": [
       "<IPython.core.display.Javascript object>"
      ]
     },
     "metadata": {},
     "output_type": "display_data"
    },
    {
     "data": {
      "application/javascript": [
       "$('span:contains(\"# Temp\")').closest('.cell').remove();"
      ],
      "text/plain": [
       "<IPython.core.display.Javascript object>"
      ]
     },
     "metadata": {},
     "output_type": "display_data"
    },
    {
     "data": {
      "application/javascript": [
       "\n",
       "        $('span:contains(\"# Temp\")').closest('.cell').remove();\n",
       "        var code = IPython.notebook.insert_cell_below('code');\n",
       "        code.set_text(atob(\"IyBUZW1wCmluc2VydCgnJycKcG1pMjAwNGEgPSBEQihXb3JrVW5yZWxhdGVkKAogICAgMjAwNCwgIlBNQk9LIC0gQSBHdWlkZSB0byB0aGUgUHJvamVjdCBNYW5hZ2VtZW50IEJvZHkgb2YgS25vd2xlZGdlIiwKICAgIGRpc3BsYXk9InBtaSIsCiAgICBhdXRob3JzPSJQTUkiLAogICAgcGxhY2U9RkFLRSwKICAgIGVudHJ5dHlwZT0iYXJ0aWNsZSIsCiAgICBub3RlPSJjaXRlZCBCeSAxNyIsCiAgICBJRD0iUE1JMjAwNCIsCiAgICBwbGFjZXg9IlByb2plY3QgTWFuYWdlbWVudCBJbnN0aXR1dGU6IDNyZCBlZG4iLAopKQoKREIoQ2l0YXRpb24oCiAgICBiYXJyZXRvMjAxMGEsIHBtaTIwMDRhLCByZWY9IiIsCiAgICBjb250ZXh0cz1bCgogICAgXSwKKSkKCicnJywgY2l0YXRpb25zPSdiYXJyZXRvMjAxMGEnKTs=\"));\n",
       "    "
      ],
      "text/plain": [
       "<IPython.core.display.Javascript object>"
      ]
     },
     "metadata": {},
     "output_type": "display_data"
    },
    {
     "data": {
      "application/javascript": [
       "$('span:contains(\"# Temp\")').closest('.cell').remove();"
      ],
      "text/plain": [
       "<IPython.core.display.Javascript object>"
      ]
     },
     "metadata": {},
     "output_type": "display_data"
    },
    {
     "data": {
      "application/javascript": [
       "\n",
       "        $('span:contains(\"# Temp\")').closest('.cell').remove();\n",
       "        var code = IPython.notebook.insert_cell_below('code');\n",
       "        code.set_text(atob(\"IyBUZW1wCmluc2VydCgnJycKcG1pMjAwNGEgPSBEQihXb3JrVW5yZWxhdGVkKAogICAgMjAwNCwgIlBNQk9LIC0gQSBHdWlkZSB0byB0aGUgUHJvamVjdCBNYW5hZ2VtZW50IEJvZHkgb2YgS25vd2xlZGdlIiwKICAgIGRpc3BsYXk9InBtaSIsCiAgICBhdXRob3JzPSJQTUkiLAogICAgcGxhY2U9RkFLRSwKICAgIGVudHJ5dHlwZT0iYXJ0aWNsZSIsCiAgICBub3RlPSJjaXRlZCBCeSAxNyIsCiAgICBJRD0iUE1JMjAwNCIsCiAgICBwbGFjZXg9IlByb2plY3QgTWFuYWdlbWVudCBJbnN0aXR1dGU6IDNyZCBlZG4iLAopKQoKREIoQ2l0YXRpb24oCiAgICBiYXJyZXRvMjAxMGEsIHBtaTIwMDRhLCByZWY9IiIsCiAgICBjb250ZXh0cz1bCgogICAgXSwKKSkKCicnJywgY2l0YXRpb25zPSdiYXJyZXRvMjAxMGEnKTs=\"));\n",
       "    "
      ],
      "text/plain": [
       "<IPython.core.display.Javascript object>"
      ]
     },
     "metadata": {},
     "output_type": "display_data"
    },
    {
     "data": {
      "application/javascript": [
       "$('span:contains(\"# Temp\")').closest('.cell').remove();"
      ],
      "text/plain": [
       "<IPython.core.display.Javascript object>"
      ]
     },
     "metadata": {},
     "output_type": "display_data"
    },
    {
     "data": {
      "application/javascript": [
       "\n",
       "        $('span:contains(\"# Temp\")').closest('.cell').remove();\n",
       "        var code = IPython.notebook.insert_cell_below('code');\n",
       "        code.set_text(atob(\"IyBUZW1wCmluc2VydCgnJycKbWFya292aWMyMDA4YSA9IERCKFdvcmtVbnJlbGF0ZWQoCiAgICAyMDA4LCAiTGlua2luZyBidXNpbmVzcyBnb2FscyB0byBwcm9jZXNzIG1vZGVscyBpbiBzZW1hbnRpYyBidXNpbmVzcyBwcm9jZXNzIG1vZGVsaW5nIiwKICAgIGRpc3BsYXk9Im1hcmtvdmljIiwKICAgIGF1dGhvcnM9Ik1hcmtvdmljLCBJLiBhbmQgS293YWxraWV3aWN6LCBNLiIsCiAgICBwbGFjZT1GQUtFLAogICAgcHA9IjMzMi0zMzgiLAogICAgZW50cnl0eXBlPSJjb25mZXJlbmNlIiwKICAgIGRvaT0iMTAuMTEwOS9FRE9DLjIwMDguNDMiLAogICAgYXJ0X251bWJlcj0iNDYzNDc4NSIsCiAgICBub3RlPSJjaXRlZCBCeSA1MSIsCiAgICBJRD0iTWFya292aWMyMDA4MzMyIiwKICAgIHBsYWNleD0iUHJvY2VlZGluZ3MgLSAxMnRoIElFRUUgSW50ZXJuYXRpb25hbCBFbnRlcnByaXNlIERpc3RyaWJ1dGVkIE9iamVjdCBDb21wdXRpbmcgQ29uZmVyZW5jZSwgRURPQyAyMDA4IiwKKSkKCkRCKENpdGF0aW9uKAogICAgYmFycmV0bzIwMTBhLCBtYXJrb3ZpYzIwMDhhLCByZWY9IiIsCiAgICBjb250ZXh0cz1bCgogICAgXSwKKSkKCicnJywgY2l0YXRpb25zPSdiYXJyZXRvMjAxMGEnKTs=\"));\n",
       "    "
      ],
      "text/plain": [
       "<IPython.core.display.Javascript object>"
      ]
     },
     "metadata": {},
     "output_type": "display_data"
    }
   ],
   "source": [
    "import importlib\n",
    "import custom_snowballing\n",
    "importlib.reload(custom_snowballing)\n",
    "from custom_snowballing import UnrelatedBackward\n",
    "UnrelatedBackward(\"barreto2010a\", articles=article_list)"
   ]
  },
  {
   "cell_type": "code",
   "execution_count": null,
   "metadata": {
    "collapsed": true
   },
   "outputs": [],
   "source": [
    "# Temp\n",
    "insert('''\n",
    "markovic2008a = DB(WorkUnrelated(\n",
    "    2008, \"Linking business goals to process models in semantic business process modeling\",\n",
    "    display=\"markovic\",\n",
    "    authors=\"Markovic, I. and Kowalkiewicz, M.\",\n",
    "    place=FAKE,\n",
    "    pp=\"332-338\",\n",
    "    entrytype=\"conference\",\n",
    "    doi=\"10.1109/EDOC.2008.43\",\n",
    "    art_number=\"4634785\",\n",
    "    note=\"cited By 51\",\n",
    "    ID=\"Markovic2008332\",\n",
    "    placex=\"Proceedings - 12th IEEE International Enterprise Distributed Object Computing Conference, EDOC 2008\",\n",
    "))\n",
    "\n",
    "DB(Citation(\n",
    "    barreto2010a, markovic2008a, ref=\"\",\n",
    "    contexts=[\n",
    "\n",
    "    ],\n",
    "))\n",
    "\n",
    "''', citations='barreto2010a');"
   ]
  },
  {
   "cell_type": "code",
   "execution_count": null,
   "metadata": {
    "collapsed": true
   },
   "outputs": [],
   "source": []
  }
 ],
 "metadata": {
  "kernelspec": {
   "display_name": "Python 3",
   "language": "python",
   "name": "python3"
  },
  "language_info": {
   "codemirror_mode": {
    "name": "ipython",
    "version": 3
   },
   "file_extension": ".py",
   "mimetype": "text/x-python",
   "name": "python",
   "nbconvert_exporter": "python",
   "pygments_lexer": "ipython3",
   "version": "3.6.0"
  },
  "toc": {
   "nav_menu": {
    "height": "12px",
    "width": "252px"
   },
   "number_sections": true,
   "sideBar": true,
   "skip_h1_title": false,
   "toc_cell": false,
   "toc_position": {},
   "toc_section_display": "block",
   "toc_window_display": false
  }
 },
 "nbformat": 4,
 "nbformat_minor": 2
}
