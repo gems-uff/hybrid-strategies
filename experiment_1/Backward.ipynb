{
 "cells": [
  {
   "cell_type": "code",
   "execution_count": 32,
   "metadata": {
    "collapsed": true
   },
   "outputs": [],
   "source": [
    "import database\n",
    "from snowballing.operations import load_work, reload, work_by_varname\n",
    "from snowballing.snowballing import Converter\n",
    "from snowballing.dbmanager import insert, set_attribute"
   ]
  },
  {
   "cell_type": "code",
   "execution_count": 33,
   "metadata": {
    "scrolled": false
   },
   "outputs": [
    {
     "data": {
      "application/vnd.jupyter.widget-view+json": {
       "model_id": "53ae8c5936234dab95223584bdd6b270",
       "version_major": 2,
       "version_minor": 0
      },
      "text/html": [
       "<p>Failed to display Jupyter Widget of type <code>VBox</code>.</p>\n",
       "<p>\n",
       "  If you're reading this message in Jupyter Notebook or JupyterLab, it may mean\n",
       "  that the widgets JavaScript is still loading. If this message persists, it\n",
       "  likely means that the widgets JavaScript library is either not installed or\n",
       "  not enabled. See the <a href=\"https://ipywidgets.readthedocs.io/en/stable/user_install.html\">Jupyter\n",
       "  Widgets Documentation</a> for setup instructions.\n",
       "</p>\n",
       "<p>\n",
       "  If you're reading this message in another notebook frontend (for example, a static\n",
       "  rendering on GitHub or <a href=\"https://nbviewer.jupyter.org/\">NBViewer</a>),\n",
       "  it may mean that your frontend doesn't currently support widgets.\n",
       "</p>\n"
      ],
      "text/plain": [
       "VBox(children=(HBox(children=(Dropdown(index=1, options={'BibTeX': 'bibtex', 'Text': 'text', '[N] author name place other year': 'citation', 'Quoted': 'quoted'}, value='text'), Button(description='Set article_list variable', disabled=True, style=ButtonStyle()), Label(value=''))), HBox(children=(Textarea(value='', layout=Layout(height='500px', width='50%')), Textarea(value='', layout=Layout(height='500px', width='50%'))))))"
      ]
     },
     "metadata": {},
     "output_type": "display_data"
    }
   ],
   "source": [
    "Converter().browser()"
   ]
  },
  {
   "cell_type": "code",
   "execution_count": 34,
   "metadata": {},
   "outputs": [
    {
     "data": {
      "text/plain": [
       "15"
      ]
     },
     "execution_count": 34,
     "metadata": {},
     "output_type": "execute_result"
    }
   ],
   "source": [
    "len(article_list)"
   ]
  },
  {
   "cell_type": "code",
   "execution_count": null,
   "metadata": {
    "collapsed": true
   },
   "outputs": [],
   "source": [
    "#from database.work.y2015 import li2015a"
   ]
  },
  {
   "cell_type": "code",
   "execution_count": null,
   "metadata": {
    "collapsed": true
   },
   "outputs": [],
   "source": [
    "#int(getattr(li2015a, 'scopus', 0))"
   ]
  },
  {
   "cell_type": "code",
   "execution_count": null,
   "metadata": {},
   "outputs": [],
   "source": [
    "#print(article_list)"
   ]
  },
  {
   "cell_type": "code",
   "execution_count": null,
   "metadata": {
    "collapsed": true
   },
   "outputs": [],
   "source": []
  },
  {
   "cell_type": "code",
   "execution_count": 35,
   "metadata": {},
   "outputs": [
    {
     "data": {
      "application/vnd.jupyter.widget-view+json": {
       "model_id": "ec02eab60007409492a4a104099a4eae",
       "version_major": 2,
       "version_minor": 0
      },
      "text/html": [
       "<p>Failed to display Jupyter Widget of type <code>VBox</code>.</p>\n",
       "<p>\n",
       "  If you're reading this message in Jupyter Notebook or JupyterLab, it may mean\n",
       "  that the widgets JavaScript is still loading. If this message persists, it\n",
       "  likely means that the widgets JavaScript library is either not installed or\n",
       "  not enabled. See the <a href=\"https://ipywidgets.readthedocs.io/en/stable/user_install.html\">Jupyter\n",
       "  Widgets Documentation</a> for setup instructions.\n",
       "</p>\n",
       "<p>\n",
       "  If you're reading this message in another notebook frontend (for example, a static\n",
       "  rendering on GitHub or <a href=\"https://nbviewer.jupyter.org/\">NBViewer</a>),\n",
       "  it may mean that your frontend doesn't currently support widgets.\n",
       "</p>\n"
      ],
      "text/plain": [
       "VBox(children=(HBox(children=(Button(description='Previous Article', disabled=True, icon='caret-left', style=ButtonStyle()), Button(description='Reload Article', icon='refresh', style=ButtonStyle()), Button(description='Next Article', icon='caret-right', style=ButtonStyle()))), HBox(children=(Button(description='Unrelated: Scripts', style=ButtonStyle()), Button(description='Unrelated: Provenance', style=ButtonStyle()), Button(description='Both', style=ButtonStyle()), Button(description='Ok', style=ButtonStyle()))), HBox(children=(Dropdown(description='Type', index=5, options=('Work', 'WorkSnowball', 'WorkForward', 'WorkBackward', 'WorkOk', 'WorkUnrelated', 'WorkNoFile', 'WorkLang', 'Site', 'Email'), value='WorkUnrelated'), ToggleButton(value=False, description='File'))), HBox(children=(Text(value='', description='Due'), Text(value='', description='Place'))), HBox(children=(Text(value='', description='Year'), Text(value='', description='Prefix Var'))), HBox(children=(Text(value='', description='PDFPage'), Text(value='', description='Related'))), HBox(children=(Text(value='', description='Display'), Text(value='', description='Summary'))), HBox(children=(Text(value='', description='Star'), Text(value='', description='Link'))), HBox(children=(Button(description='Reload Article', icon='refresh', style=ButtonStyle()), IntSlider(value=0, max=14), Label(value='1/15'))), Output()))"
      ]
     },
     "metadata": {},
     "output_type": "display_data"
    },
    {
     "data": {
      "application/javascript": [
       "$('span:contains(\"# Temp\")').closest('.cell').remove();"
      ],
      "text/plain": [
       "<IPython.core.display.Javascript object>"
      ]
     },
     "metadata": {},
     "output_type": "display_data"
    },
    {
     "data": {
      "application/javascript": [
       "\n",
       "        $('span:contains(\"# Temp\")').closest('.cell').remove();\n",
       "        var code = IPython.notebook.insert_cell_below('code');\n",
       "        code.set_text(atob(\"IyBUZW1wCmluc2VydCgnJycKZGVib3UyMDAwYSA9IERCKFdvcmtVbnJlbGF0ZWQoCiAgICAyMDAwLCAiTGlua2luZyBzb2Z0d2FyZSBwcm9jZXNzIGltcHJvdmVtZW50IHRvIGJ1c2luZXNzIHN0cmF0ZWdpZXM6IEV4cGVyaWVuY2VzIGZyb20gaW5kdXN0cnkiLAogICAgZGlzcGxheT0iZGVib3UiLAogICAgYXV0aG9ycz0iRGVib3UsIEMuIGFuZCBLdW50em1hbm4tQ29tYmVsbGVzLCBBLiIsCiAgICBwbGFjZT1TUElQLAogICAgcHA9IjU1LTY0IiwKICAgIGVudHJ5dHlwZT0iYXJ0aWNsZSIsCiAgICB2b2x1bWU9IjUiLAogICAgbnVtYmVyPSIxIiwKICAgIG5vdGU9ImNpdGVkIEJ5IDI1IiwKICAgIElEPSJEZWJvdTIwMDA1NSIsCiAgICBwbGFjZXg9IlNvZnR3YXJlIFByb2Nlc3M6IEltcHJvdmVtZW50IGFuZCBQcmFjdGljZSIsCikpCgpEQihDaXRhdGlvbigKICAgIHRyaWVuZWtlbnMyMDA1YSwgZGVib3UyMDAwYSwgcmVmPSIiLAogICAgY29udGV4dHM9WwoKICAgIF0sCikpCgonJycsIGNpdGF0aW9ucz0ndHJpZW5la2VuczIwMDVhJyk7\"));\n",
       "    "
      ],
      "text/plain": [
       "<IPython.core.display.Javascript object>"
      ]
     },
     "metadata": {},
     "output_type": "display_data"
    },
    {
     "data": {
      "application/javascript": [
       "$('span:contains(\"# Temp\")').closest('.cell').remove();"
      ],
      "text/plain": [
       "<IPython.core.display.Javascript object>"
      ]
     },
     "metadata": {},
     "output_type": "display_data"
    },
    {
     "data": {
      "application/javascript": [
       "\n",
       "        $('span:contains(\"# Temp\")').closest('.cell').remove();\n",
       "        var code = IPython.notebook.insert_cell_below('code');\n",
       "        code.set_text(atob(\"IyBUZW1wCmluc2VydCgnJycKREIoQ2l0YXRpb24oCiAgICB0cmllbmVrZW5zMjAwNWEsIGJhbGxhMjAwMWEsIHJlZj0iIiwKICAgIGNvbnRleHRzPVsKCiAgICBdLAopKQoKJycnLCBjaXRhdGlvbnM9J3RyaWVuZWtlbnMyMDA1YScpOw==\"));\n",
       "    "
      ],
      "text/plain": [
       "<IPython.core.display.Javascript object>"
      ]
     },
     "metadata": {},
     "output_type": "display_data"
    },
    {
     "data": {
      "application/javascript": [
       "$('span:contains(\"# Temp\")').closest('.cell').remove();"
      ],
      "text/plain": [
       "<IPython.core.display.Javascript object>"
      ]
     },
     "metadata": {},
     "output_type": "display_data"
    },
    {
     "data": {
      "application/javascript": [
       "\n",
       "        $('span:contains(\"# Temp\")').closest('.cell').remove();\n",
       "        var code = IPython.notebook.insert_cell_below('code');\n",
       "        code.set_text(atob(\"IyBUZW1wCmluc2VydCgnJycKREIoQ2l0YXRpb24oCiAgICB0cmllbmVrZW5zMjAwNWEsIGJhbGxhMjAwMWEsIHJlZj0iIiwKICAgIGNvbnRleHRzPVsKCiAgICBdLAopKQoKJycnLCBjaXRhdGlvbnM9J3RyaWVuZWtlbnMyMDA1YScpOw==\"));\n",
       "    "
      ],
      "text/plain": [
       "<IPython.core.display.Javascript object>"
      ]
     },
     "metadata": {},
     "output_type": "display_data"
    },
    {
     "data": {
      "application/javascript": [
       "$('span:contains(\"# Temp\")').closest('.cell').remove();"
      ],
      "text/plain": [
       "<IPython.core.display.Javascript object>"
      ]
     },
     "metadata": {},
     "output_type": "display_data"
    },
    {
     "data": {
      "application/javascript": [
       "\n",
       "        $('span:contains(\"# Temp\")').closest('.cell').remove();\n",
       "        var code = IPython.notebook.insert_cell_below('code');\n",
       "        code.set_text(atob(\"IyBUZW1wCmluc2VydCgnJycKY2F0dGFuZW8yMDAxYSA9IERCKFdvcmtVbnJlbGF0ZWQoCiAgICAyMDAxLCAiUHVyc3VpbmcgY29oZXJlbmNlIGluIHNvZnR3YXJlIHByb2Nlc3MgYXNzZXNzbWVudCBhbmQgaW1wcm92ZW1lbnQiLAogICAgZGlzcGxheT0iY2F0dGFuZW8iLAogICAgYXV0aG9ycz0iQ2F0dGFuZW8sIEYuIGFuZCBGdWdnZXR0YSwgQS4gYW5kIFNjaXV0bywgRC4iLAogICAgcGxhY2U9U1BJUCwKICAgIHBwPSIzLTIyIiwKICAgIGVudHJ5dHlwZT0iYXJ0aWNsZSIsCiAgICB2b2x1bWU9IjYiLAogICAgbnVtYmVyPSIxIiwKICAgIG5vdGU9ImNpdGVkIEJ5IDEzIiwKICAgIElEPSJDYXR0YW5lbzIwMDEzIiwKICAgIHBsYWNleD0iU29mdHdhcmUgUHJvY2VzczogSW1wcm92ZW1lbnQgYW5kIFByYWN0aWNlIiwKKSkKCkRCKENpdGF0aW9uKAogICAgdHJpZW5la2VuczIwMDVhLCBjYXR0YW5lbzIwMDFhLCByZWY9IiIsCiAgICBjb250ZXh0cz1bCgogICAgXSwKKSkKCicnJywgY2l0YXRpb25zPSd0cmllbmVrZW5zMjAwNWEnKTs=\"));\n",
       "    "
      ],
      "text/plain": [
       "<IPython.core.display.Javascript object>"
      ]
     },
     "metadata": {},
     "output_type": "display_data"
    },
    {
     "data": {
      "application/javascript": [
       "$('span:contains(\"# Temp\")').closest('.cell').remove();"
      ],
      "text/plain": [
       "<IPython.core.display.Javascript object>"
      ]
     },
     "metadata": {},
     "output_type": "display_data"
    },
    {
     "data": {
      "application/javascript": [
       "\n",
       "        $('span:contains(\"# Temp\")').closest('.cell').remove();\n",
       "        var code = IPython.notebook.insert_cell_below('code');\n",
       "        code.set_text(atob(\"IyBUZW1wCmluc2VydCgnJycKY2F0dGFuZW8yMDAxYSA9IERCKFdvcmtVbnJlbGF0ZWQoCiAgICAyMDAxLCAiUHVyc3VpbmcgY29oZXJlbmNlIGluIHNvZnR3YXJlIHByb2Nlc3MgYXNzZXNzbWVudCBhbmQgaW1wcm92ZW1lbnQiLAogICAgZGlzcGxheT0iY2F0dGFuZW8iLAogICAgYXV0aG9ycz0iQ2F0dGFuZW8sIEYuIGFuZCBGdWdnZXR0YSwgQS4gYW5kIFNjaXV0bywgRC4iLAogICAgcGxhY2U9U1BJUCwKICAgIHBwPSIzLTIyIiwKICAgIGVudHJ5dHlwZT0iYXJ0aWNsZSIsCiAgICB2b2x1bWU9IjYiLAogICAgbnVtYmVyPSIxIiwKICAgIG5vdGU9ImNpdGVkIEJ5IDEzIiwKICAgIElEPSJDYXR0YW5lbzIwMDEzIiwKICAgIHBsYWNleD0iU29mdHdhcmUgUHJvY2VzczogSW1wcm92ZW1lbnQgYW5kIFByYWN0aWNlIiwKKSkKCkRCKENpdGF0aW9uKAogICAgdHJpZW5la2VuczIwMDVhLCBjYXR0YW5lbzIwMDFhLCByZWY9IiIsCiAgICBjb250ZXh0cz1bCgogICAgXSwKKSkKCicnJywgY2l0YXRpb25zPSd0cmllbmVrZW5zMjAwNWEnKTs=\"));\n",
       "    "
      ],
      "text/plain": [
       "<IPython.core.display.Javascript object>"
      ]
     },
     "metadata": {},
     "output_type": "display_data"
    },
    {
     "data": {
      "application/javascript": [
       "$('span:contains(\"# Temp\")').closest('.cell').remove();"
      ],
      "text/plain": [
       "<IPython.core.display.Javascript object>"
      ]
     },
     "metadata": {},
     "output_type": "display_data"
    },
    {
     "data": {
      "application/javascript": [
       "\n",
       "        $('span:contains(\"# Temp\")').closest('.cell').remove();\n",
       "        var code = IPython.notebook.insert_cell_below('code');\n",
       "        code.set_text(atob(\"IyBUZW1wCmluc2VydCgnJycKZGF3c29uMjAwM2EgPSBEQihXb3JrVW5yZWxhdGVkKAogICAgMjAwMywgIlNpbXBsZSBtZXRyaWNzIGZvciBpbXByb3Zpbmcgc29mdHdhcmUgcHJvY2VzcyBwZXJmb3JtYW5jZSBhbmQgY2FwYWJpbGl0eTogQSBjYXNlIHN0dWR5IiwKICAgIGRpc3BsYXk9ImRhd3NvbiIsCiAgICBhdXRob3JzPSJEYXdzb24sIFIuIGFuZCBPJ05laWxsLCBCLiIsCiAgICBwbGFjZT1TUUosCiAgICBwcD0iMjQzLTI1OCIsCiAgICBlbnRyeXR5cGU9ImFydGljbGUiLAogICAgdm9sdW1lPSIxMSIsCiAgICBudW1iZXI9IjMiLAogICAgZG9pPSIxMC4xMDIzL0E6MTAyNTExODgxMTg5NiIsCiAgICBub3RlPSJjaXRlZCBCeSA3IiwKICAgIElEPSJEYXdzb24yMDAzMjQzIiwKICAgIHBsYWNleD0iU29mdHdhcmUgUXVhbGl0eSBKb3VybmFsIiwKKSkKCkRCKENpdGF0aW9uKAogICAgdHJpZW5la2VuczIwMDVhLCBkYXdzb24yMDAzYSwgcmVmPSIiLAogICAgY29udGV4dHM9WwoKICAgIF0sCikpCgonJycsIGNpdGF0aW9ucz0ndHJpZW5la2VuczIwMDVhJyk7\"));\n",
       "    "
      ],
      "text/plain": [
       "<IPython.core.display.Javascript object>"
      ]
     },
     "metadata": {},
     "output_type": "display_data"
    },
    {
     "data": {
      "application/javascript": [
       "$('span:contains(\"# Temp\")').closest('.cell').remove();"
      ],
      "text/plain": [
       "<IPython.core.display.Javascript object>"
      ]
     },
     "metadata": {},
     "output_type": "display_data"
    },
    {
     "data": {
      "application/javascript": [
       "\n",
       "        $('span:contains(\"# Temp\")').closest('.cell').remove();\n",
       "        var code = IPython.notebook.insert_cell_below('code');\n",
       "        code.set_text(atob(\"IyBUZW1wCmluc2VydCgnJycKZGF3c29uMjAwM2EgPSBEQihXb3JrVW5yZWxhdGVkKAogICAgMjAwMywgIlNpbXBsZSBtZXRyaWNzIGZvciBpbXByb3Zpbmcgc29mdHdhcmUgcHJvY2VzcyBwZXJmb3JtYW5jZSBhbmQgY2FwYWJpbGl0eTogQSBjYXNlIHN0dWR5IiwKICAgIGRpc3BsYXk9ImRhd3NvbiIsCiAgICBhdXRob3JzPSJEYXdzb24sIFIuIGFuZCBPJ05laWxsLCBCLiIsCiAgICBwbGFjZT1TUUosCiAgICBwcD0iMjQzLTI1OCIsCiAgICBlbnRyeXR5cGU9ImFydGljbGUiLAogICAgdm9sdW1lPSIxMSIsCiAgICBudW1iZXI9IjMiLAogICAgZG9pPSIxMC4xMDIzL0E6MTAyNTExODgxMTg5NiIsCiAgICBub3RlPSJjaXRlZCBCeSA3IiwKICAgIElEPSJEYXdzb24yMDAzMjQzIiwKICAgIHBsYWNleD0iU29mdHdhcmUgUXVhbGl0eSBKb3VybmFsIiwKKSkKCkRCKENpdGF0aW9uKAogICAgdHJpZW5la2VuczIwMDVhLCBkYXdzb24yMDAzYSwgcmVmPSIiLAogICAgY29udGV4dHM9WwoKICAgIF0sCikpCgonJycsIGNpdGF0aW9ucz0ndHJpZW5la2VuczIwMDVhJyk7\"));\n",
       "    "
      ],
      "text/plain": [
       "<IPython.core.display.Javascript object>"
      ]
     },
     "metadata": {},
     "output_type": "display_data"
    },
    {
     "data": {
      "application/javascript": [
       "$('span:contains(\"# Temp\")').closest('.cell').remove();"
      ],
      "text/plain": [
       "<IPython.core.display.Javascript object>"
      ]
     },
     "metadata": {},
     "output_type": "display_data"
    },
    {
     "data": {
      "application/javascript": [
       "\n",
       "        $('span:contains(\"# Temp\")').closest('.cell').remove();\n",
       "        var code = IPython.notebook.insert_cell_below('code');\n",
       "        code.set_text(atob(\"IyBUZW1wCmluc2VydCgnJycKZ2FjazIwMDNhID0gREIoV29ya1VucmVsYXRlZCgKICAgIDIwMDMsICJJbnRlZ3JhdGluZyBpbXByb3ZlbWVudCBpbml0aWF0aXZlczogY29ubmVjdGluZyBTaXggU2lnbWEgZm9yIHNvZnR3YXJlLCBDTU1JLCBwZXJzb25hbCBzb2Z0d2FyZSBwcm9jZXNzIGFuZCB0ZWFtIHNvZnR3YXJlIHByb2Nlc3MiLAogICAgZGlzcGxheT0iZ2FjayIsCiAgICBhdXRob3JzPSJHYWNrLCBBLiBhbmQgUm9iaW5zb24sIEsuIiwKICAgIHBsYWNlPVNRSiwKICAgIHBwPSI1LTEzIiwKICAgIGVudHJ5dHlwZT0iYXJ0aWNsZSIsCiAgICB2b2x1bWU9IjUiLAogICAgbnVtYmVyPSI0IiwKICAgIG5vdGU9ImNpdGVkIEJ5IDE0IiwKICAgIElEPSJHYWNrMjAwMzUiLAogICAgcGxhY2V4PSJTb2Z0d2FyZSBRdWFsaXR5IEpvdXJuYWwiLAopKQoKREIoQ2l0YXRpb24oCiAgICB0cmllbmVrZW5zMjAwNWEsIGdhY2syMDAzYSwgcmVmPSIiLAogICAgY29udGV4dHM9WwoKICAgIF0sCikpCgonJycsIGNpdGF0aW9ucz0ndHJpZW5la2VuczIwMDVhJyk7\"));\n",
       "    "
      ],
      "text/plain": [
       "<IPython.core.display.Javascript object>"
      ]
     },
     "metadata": {},
     "output_type": "display_data"
    },
    {
     "data": {
      "application/javascript": [
       "$('span:contains(\"# Temp\")').closest('.cell').remove();"
      ],
      "text/plain": [
       "<IPython.core.display.Javascript object>"
      ]
     },
     "metadata": {},
     "output_type": "display_data"
    },
    {
     "data": {
      "application/javascript": [
       "\n",
       "        $('span:contains(\"# Temp\")').closest('.cell').remove();\n",
       "        var code = IPython.notebook.insert_cell_below('code');\n",
       "        code.set_text(atob(\"IyBUZW1wCmluc2VydCgnJycKZ2FjazIwMDNhID0gREIoV29ya1VucmVsYXRlZCgKICAgIDIwMDMsICJJbnRlZ3JhdGluZyBpbXByb3ZlbWVudCBpbml0aWF0aXZlczogY29ubmVjdGluZyBTaXggU2lnbWEgZm9yIHNvZnR3YXJlLCBDTU1JLCBwZXJzb25hbCBzb2Z0d2FyZSBwcm9jZXNzIGFuZCB0ZWFtIHNvZnR3YXJlIHByb2Nlc3MiLAogICAgZGlzcGxheT0iZ2FjayIsCiAgICBhdXRob3JzPSJHYWNrLCBBLiBhbmQgUm9iaW5zb24sIEsuIiwKICAgIHBsYWNlPVNRSiwKICAgIHBwPSI1LTEzIiwKICAgIGVudHJ5dHlwZT0iYXJ0aWNsZSIsCiAgICB2b2x1bWU9IjUiLAogICAgbnVtYmVyPSI0IiwKICAgIG5vdGU9ImNpdGVkIEJ5IDE0IiwKICAgIElEPSJHYWNrMjAwMzUiLAogICAgcGxhY2V4PSJTb2Z0d2FyZSBRdWFsaXR5IEpvdXJuYWwiLAopKQoKREIoQ2l0YXRpb24oCiAgICB0cmllbmVrZW5zMjAwNWEsIGdhY2syMDAzYSwgcmVmPSIiLAogICAgY29udGV4dHM9WwoKICAgIF0sCikpCgonJycsIGNpdGF0aW9ucz0ndHJpZW5la2VuczIwMDVhJyk7\"));\n",
       "    "
      ],
      "text/plain": [
       "<IPython.core.display.Javascript object>"
      ]
     },
     "metadata": {},
     "output_type": "display_data"
    },
    {
     "data": {
      "application/javascript": [
       "$('span:contains(\"# Temp\")').closest('.cell').remove();"
      ],
      "text/plain": [
       "<IPython.core.display.Javascript object>"
      ]
     },
     "metadata": {},
     "output_type": "display_data"
    },
    {
     "data": {
      "application/javascript": [
       "\n",
       "        $('span:contains(\"# Temp\")').closest('.cell').remove();\n",
       "        var code = IPython.notebook.insert_cell_below('code');\n",
       "        code.set_text(atob(\"IyBUZW1wCmluc2VydCgnJycKaXNvMjAwNWEgPSBEQihXb3JrVW5yZWxhdGVkKAogICAgMjAwNSwgImh0dHA6Ly93d3cuaXNvLmNoL2lzby9lbi9pc285MDAwLTE0MDAwL2lzbzkwMDAvaXNvOTAwMGluZGV4Lmh0bWwiLAogICAgZGlzcGxheT0iaXNvIiwKICAgIGF1dGhvcnM9ImlzbyIsCiAgICBwbGFjZT1GQUtFLAogICAgZW50cnl0eXBlPSJhcnRpY2xlIiwKICAgIG5vdGU9ImNpdGVkIEJ5IDEiLAogICAgSUQ9ImlzbzIwMDUiLAogICAgcGxhY2V4PSJpc28gOTAwMCIsCikpCgpEQihDaXRhdGlvbigKICAgIHRyaWVuZWtlbnMyMDA1YSwgaXNvMjAwNWEsIHJlZj0iIiwKICAgIGNvbnRleHRzPVsKCiAgICBdLAopKQoKJycnLCBjaXRhdGlvbnM9J3RyaWVuZWtlbnMyMDA1YScpOw==\"));\n",
       "    "
      ],
      "text/plain": [
       "<IPython.core.display.Javascript object>"
      ]
     },
     "metadata": {},
     "output_type": "display_data"
    },
    {
     "data": {
      "application/javascript": [
       "$('span:contains(\"# Temp\")').closest('.cell').remove();"
      ],
      "text/plain": [
       "<IPython.core.display.Javascript object>"
      ]
     },
     "metadata": {},
     "output_type": "display_data"
    },
    {
     "data": {
      "application/javascript": [
       "\n",
       "        $('span:contains(\"# Temp\")').closest('.cell').remove();\n",
       "        var code = IPython.notebook.insert_cell_below('code');\n",
       "        code.set_text(atob(\"IyBUZW1wCmluc2VydCgnJycKaXNvMjAwNWEgPSBEQihXb3JrVW5yZWxhdGVkKAogICAgMjAwNSwgImh0dHA6Ly93d3cuaXNvLmNoL2lzby9lbi9pc285MDAwLTE0MDAwL2lzbzkwMDAvaXNvOTAwMGluZGV4Lmh0bWwiLAogICAgZGlzcGxheT0iaXNvIiwKICAgIGF1dGhvcnM9ImlzbyIsCiAgICBwbGFjZT1GQUtFLAogICAgZW50cnl0eXBlPSJhcnRpY2xlIiwKICAgIG5vdGU9ImNpdGVkIEJ5IDEiLAogICAgSUQ9ImlzbzIwMDUiLAogICAgcGxhY2V4PSJpc28gOTAwMCIsCikpCgpEQihDaXRhdGlvbigKICAgIHRyaWVuZWtlbnMyMDA1YSwgaXNvMjAwNWEsIHJlZj0iIiwKICAgIGNvbnRleHRzPVsKCiAgICBdLAopKQoKJycnLCBjaXRhdGlvbnM9J3RyaWVuZWtlbnMyMDA1YScpOw==\"));\n",
       "    "
      ],
      "text/plain": [
       "<IPython.core.display.Javascript object>"
      ]
     },
     "metadata": {},
     "output_type": "display_data"
    },
    {
     "data": {
      "application/javascript": [
       "$('span:contains(\"# Temp\")').closest('.cell').remove();"
      ],
      "text/plain": [
       "<IPython.core.display.Javascript object>"
      ]
     },
     "metadata": {},
     "output_type": "display_data"
    },
    {
     "data": {
      "application/javascript": [
       "\n",
       "        $('span:contains(\"# Temp\")').closest('.cell').remove();\n",
       "        var code = IPython.notebook.insert_cell_below('code');\n",
       "        code.set_text(atob(\"IyBUZW1wCmluc2VydCgnJycKa2FwbGFuMjAwMWEgPSBEQihXb3JrVW5yZWxhdGVkKAogICAgMjAwMSwgIlRoZSBzdHJhdGVneS1mb2N1c2VkIG9yZ2FuaXphdGlvbjogSG93IGJhbGFuY2VkIHNjb3JlY2FyZCBjb21wYW5pZXMgdGhyaXZlIGluIHRoZSBuZXcgYnVzaW5lc3MgZW52aXJvbm1lbnQiLAogICAgZGlzcGxheT0ia2FwbGFuIiwKICAgIGF1dGhvcnM9IkthcGxhbiwgUi5TLiBhbmQgTm9ydG9uLCBELlAuIiwKICAgIHBsYWNlPUZBS0UsCiAgICBlbnRyeXR5cGU9ImFydGljbGUiLAogICAgbm90ZT0iY2l0ZWQgQnkgMTU2NiIsCiAgICBJRD0iS2FwbGFuMjAwMSIsCiAgICBwbGFjZXg9IlRoZSBTdHJhdGVneS1Gb2N1c2VkIE9yZ2FuaXphdGlvbiIsCikpCgpEQihDaXRhdGlvbigKICAgIHRyaWVuZWtlbnMyMDA1YSwga2FwbGFuMjAwMWEsIHJlZj0iIiwKICAgIGNvbnRleHRzPVsKCiAgICBdLAopKQoKJycnLCBjaXRhdGlvbnM9J3RyaWVuZWtlbnMyMDA1YScpOw==\"));\n",
       "    "
      ],
      "text/plain": [
       "<IPython.core.display.Javascript object>"
      ]
     },
     "metadata": {},
     "output_type": "display_data"
    },
    {
     "data": {
      "application/javascript": [
       "$('span:contains(\"# Temp\")').closest('.cell').remove();"
      ],
      "text/plain": [
       "<IPython.core.display.Javascript object>"
      ]
     },
     "metadata": {},
     "output_type": "display_data"
    },
    {
     "data": {
      "application/javascript": [
       "\n",
       "        $('span:contains(\"# Temp\")').closest('.cell').remove();\n",
       "        var code = IPython.notebook.insert_cell_below('code');\n",
       "        code.set_text(atob(\"IyBUZW1wCmluc2VydCgnJycKa2FwbGFuMjAwMWEgPSBEQihXb3JrVW5yZWxhdGVkKAogICAgMjAwMSwgIlRoZSBzdHJhdGVneS1mb2N1c2VkIG9yZ2FuaXphdGlvbjogSG93IGJhbGFuY2VkIHNjb3JlY2FyZCBjb21wYW5pZXMgdGhyaXZlIGluIHRoZSBuZXcgYnVzaW5lc3MgZW52aXJvbm1lbnQiLAogICAgZGlzcGxheT0ia2FwbGFuIiwKICAgIGF1dGhvcnM9IkthcGxhbiwgUi5TLiBhbmQgTm9ydG9uLCBELlAuIiwKICAgIHBsYWNlPUZBS0UsCiAgICBlbnRyeXR5cGU9ImFydGljbGUiLAogICAgbm90ZT0iY2l0ZWQgQnkgMTU2NiIsCiAgICBJRD0iS2FwbGFuMjAwMSIsCiAgICBwbGFjZXg9IlRoZSBTdHJhdGVneS1Gb2N1c2VkIE9yZ2FuaXphdGlvbiIsCikpCgpEQihDaXRhdGlvbigKICAgIHRyaWVuZWtlbnMyMDA1YSwga2FwbGFuMjAwMWEsIHJlZj0iIiwKICAgIGNvbnRleHRzPVsKCiAgICBdLAopKQoKJycnLCBjaXRhdGlvbnM9J3RyaWVuZWtlbnMyMDA1YScpOw==\"));\n",
       "    "
      ],
      "text/plain": [
       "<IPython.core.display.Javascript object>"
      ]
     },
     "metadata": {},
     "output_type": "display_data"
    },
    {
     "data": {
      "application/javascript": [
       "$('span:contains(\"# Temp\")').closest('.cell').remove();"
      ],
      "text/plain": [
       "<IPython.core.display.Javascript object>"
      ]
     },
     "metadata": {},
     "output_type": "display_data"
    },
    {
     "data": {
      "application/javascript": [
       "\n",
       "        $('span:contains(\"# Temp\")').closest('.cell').remove();\n",
       "        var code = IPython.notebook.insert_cell_below('code');\n",
       "        code.set_text(atob(\"IyBUZW1wCmluc2VydCgnJycKREIoQ2l0YXRpb24oCiAgICB0cmllbmVrZW5zMjAwNWEsIGxhdHVtMTk5OGEsIHJlZj0iIiwKICAgIGNvbnRleHRzPVsKCiAgICBdLAopKQoKJycnLCBjaXRhdGlvbnM9J3RyaWVuZWtlbnMyMDA1YScpOwpzZXRfYXR0cmlidXRlKCdsYXR1bTE5OThhJywgJ3BsYWNleCcsICdJRUVFIFNvZnR3YXJlJyk7\"));\n",
       "    "
      ],
      "text/plain": [
       "<IPython.core.display.Javascript object>"
      ]
     },
     "metadata": {},
     "output_type": "display_data"
    },
    {
     "data": {
      "application/javascript": [
       "$('span:contains(\"# Temp\")').closest('.cell').remove();"
      ],
      "text/plain": [
       "<IPython.core.display.Javascript object>"
      ]
     },
     "metadata": {},
     "output_type": "display_data"
    },
    {
     "data": {
      "application/javascript": [
       "\n",
       "        $('span:contains(\"# Temp\")').closest('.cell').remove();\n",
       "        var code = IPython.notebook.insert_cell_below('code');\n",
       "        code.set_text(atob(\"IyBUZW1wCmluc2VydCgnJycKREIoQ2l0YXRpb24oCiAgICB0cmllbmVrZW5zMjAwNWEsIGxhdHVtMTk5OGEsIHJlZj0iIiwKICAgIGNvbnRleHRzPVsKCiAgICBdLAopKQoKJycnLCBjaXRhdGlvbnM9J3RyaWVuZWtlbnMyMDA1YScpOwpzZXRfYXR0cmlidXRlKCdsYXR1bTE5OThhJywgJ3BsYWNleCcsICdJRUVFIFNvZnR3YXJlJyk7\"));\n",
       "    "
      ],
      "text/plain": [
       "<IPython.core.display.Javascript object>"
      ]
     },
     "metadata": {},
     "output_type": "display_data"
    },
    {
     "data": {
      "application/javascript": [
       "$('span:contains(\"# Temp\")').closest('.cell').remove();"
      ],
      "text/plain": [
       "<IPython.core.display.Javascript object>"
      ]
     },
     "metadata": {},
     "output_type": "display_data"
    },
    {
     "data": {
      "application/javascript": [
       "\n",
       "        $('span:contains(\"# Temp\")').closest('.cell').remove();\n",
       "        var code = IPython.notebook.insert_cell_below('code');\n",
       "        code.set_text(atob(\"IyBUZW1wCmluc2VydCgnJycKbWVsbGlzMTk5OGEgPSBEQihXb3JrVW5yZWxhdGVkKAogICAgMTk5OCwgIlNvZnR3YXJlIHF1YWxpdHkgbWFuYWdlbWVudCBpbiB0dXJidWxlbnQgdGltZXMgLSBBcmUgdGhlcmUgYWx0ZXJuYXRpdmVzIHRvIHByb2Nlc3Mgb3JpZW50ZWQgc29mdHdhcmUgcXVhbGl0eSBtYW5hZ2VtZW50PyIsCiAgICBkaXNwbGF5PSJtZWxsaXMiLAogICAgYXV0aG9ycz0iTWVsbGlzLCBXLiIsCiAgICBwbGFjZT1TUUosCiAgICBwcD0iMjc3LTI5NSIsCiAgICBlbnRyeXR5cGU9ImFydGljbGUiLAogICAgdm9sdW1lPSI3IiwKICAgIG51bWJlcj0iMyIsCiAgICBub3RlPSJjaXRlZCBCeSAxNCIsCiAgICBJRD0iTWVsbGlzMTk5ODI3NyIsCiAgICBwbGFjZXg9IlNvZnR3YXJlIFF1YWxpdHkgSm91cm5hbCIsCikpCgpEQihDaXRhdGlvbigKICAgIHRyaWVuZWtlbnMyMDA1YSwgbWVsbGlzMTk5OGEsIHJlZj0iIiwKICAgIGNvbnRleHRzPVsKCiAgICBdLAopKQoKJycnLCBjaXRhdGlvbnM9J3RyaWVuZWtlbnMyMDA1YScpOw==\"));\n",
       "    "
      ],
      "text/plain": [
       "<IPython.core.display.Javascript object>"
      ]
     },
     "metadata": {},
     "output_type": "display_data"
    },
    {
     "data": {
      "application/javascript": [
       "$('span:contains(\"# Temp\")').closest('.cell').remove();"
      ],
      "text/plain": [
       "<IPython.core.display.Javascript object>"
      ]
     },
     "metadata": {},
     "output_type": "display_data"
    },
    {
     "data": {
      "application/javascript": [
       "\n",
       "        $('span:contains(\"# Temp\")').closest('.cell').remove();\n",
       "        var code = IPython.notebook.insert_cell_below('code');\n",
       "        code.set_text(atob(\"IyBUZW1wCmluc2VydCgnJycKbWVsbGlzMTk5OGEgPSBEQihXb3JrVW5yZWxhdGVkKAogICAgMTk5OCwgIlNvZnR3YXJlIHF1YWxpdHkgbWFuYWdlbWVudCBpbiB0dXJidWxlbnQgdGltZXMgLSBBcmUgdGhlcmUgYWx0ZXJuYXRpdmVzIHRvIHByb2Nlc3Mgb3JpZW50ZWQgc29mdHdhcmUgcXVhbGl0eSBtYW5hZ2VtZW50PyIsCiAgICBkaXNwbGF5PSJtZWxsaXMiLAogICAgYXV0aG9ycz0iTWVsbGlzLCBXLiIsCiAgICBwbGFjZT1TUUosCiAgICBwcD0iMjc3LTI5NSIsCiAgICBlbnRyeXR5cGU9ImFydGljbGUiLAogICAgdm9sdW1lPSI3IiwKICAgIG51bWJlcj0iMyIsCiAgICBub3RlPSJjaXRlZCBCeSAxNCIsCiAgICBJRD0iTWVsbGlzMTk5ODI3NyIsCiAgICBwbGFjZXg9IlNvZnR3YXJlIFF1YWxpdHkgSm91cm5hbCIsCikpCgpEQihDaXRhdGlvbigKICAgIHRyaWVuZWtlbnMyMDA1YSwgbWVsbGlzMTk5OGEsIHJlZj0iIiwKICAgIGNvbnRleHRzPVsKCiAgICBdLAopKQoKJycnLCBjaXRhdGlvbnM9J3RyaWVuZWtlbnMyMDA1YScpOw==\"));\n",
       "    "
      ],
      "text/plain": [
       "<IPython.core.display.Javascript object>"
      ]
     },
     "metadata": {},
     "output_type": "display_data"
    },
    {
     "data": {
      "application/javascript": [
       "$('span:contains(\"# Temp\")').closest('.cell').remove();"
      ],
      "text/plain": [
       "<IPython.core.display.Javascript object>"
      ]
     },
     "metadata": {},
     "output_type": "display_data"
    },
    {
     "data": {
      "application/javascript": [
       "\n",
       "        $('span:contains(\"# Temp\")').closest('.cell').remove();\n",
       "        var code = IPython.notebook.insert_cell_below('code');\n",
       "        code.set_text(atob(\"IyBUZW1wCmluc2VydCgnJycKbmVpZ2VyMjAwM2EgPSBEQihXb3JrVW5yZWxhdGVkKAogICAgMjAwMywgIlN0cnVjdHVyaW5nIGJ1c2luZXNzIG9iamVjdGl2ZXM6IEEgYnVzaW5lc3MgcHJvY2VzcyBtb2RlbGluZyBwZXJzcGVjdGl2ZSIsCiAgICBkaXNwbGF5PSJuZWlnZXIiLAogICAgYXV0aG9ycz0iTmVpZ2VyLCBELiBhbmQgQ2h1cmlsb3YsIEwuIiwKICAgIHBsYWNlPUZBS0UsCiAgICBwcD0iNzItODciLAogICAgZW50cnl0eXBlPSJhcnRpY2xlIiwKICAgIHZvbHVtZT0iMjY3OCIsCiAgICBub3RlPSJjaXRlZCBCeSA3IiwKICAgIElEPSJOZWlnZXIyMDAzNzIiLAogICAgcGxhY2V4PSJMZWN0dXJlIE5vdGVzIGluIENvbXB1dGVyIFNjaWVuY2UgKGluY2x1ZGluZyBzdWJzZXJpZXMgTGVjdHVyZSBOb3RlcyBpbiBBcnRpZmljaWFsIEludGVsbGlnZW5jZSBhbmQgTGVjdHVyZSBOb3RlcyBpbiBCaW9pbmZvcm1hdGljcykiLAopKQoKREIoQ2l0YXRpb24oCiAgICB0cmllbmVrZW5zMjAwNWEsIG5laWdlcjIwMDNhLCByZWY9IiIsCiAgICBjb250ZXh0cz1bCgogICAgXSwKKSkKCicnJywgY2l0YXRpb25zPSd0cmllbmVrZW5zMjAwNWEnKTs=\"));\n",
       "    "
      ],
      "text/plain": [
       "<IPython.core.display.Javascript object>"
      ]
     },
     "metadata": {},
     "output_type": "display_data"
    },
    {
     "data": {
      "application/javascript": [
       "$('span:contains(\"# Temp\")').closest('.cell').remove();"
      ],
      "text/plain": [
       "<IPython.core.display.Javascript object>"
      ]
     },
     "metadata": {},
     "output_type": "display_data"
    },
    {
     "data": {
      "application/javascript": [
       "\n",
       "        $('span:contains(\"# Temp\")').closest('.cell').remove();\n",
       "        var code = IPython.notebook.insert_cell_below('code');\n",
       "        code.set_text(atob(\"IyBUZW1wCmluc2VydCgnJycKbmVpZ2VyMjAwM2EgPSBEQihXb3JrVW5yZWxhdGVkKAogICAgMjAwMywgIlN0cnVjdHVyaW5nIGJ1c2luZXNzIG9iamVjdGl2ZXM6IEEgYnVzaW5lc3MgcHJvY2VzcyBtb2RlbGluZyBwZXJzcGVjdGl2ZSIsCiAgICBkaXNwbGF5PSJuZWlnZXIiLAogICAgYXV0aG9ycz0iTmVpZ2VyLCBELiBhbmQgQ2h1cmlsb3YsIEwuIiwKICAgIHBsYWNlPUZBS0UsCiAgICBwcD0iNzItODciLAogICAgZW50cnl0eXBlPSJhcnRpY2xlIiwKICAgIHZvbHVtZT0iMjY3OCIsCiAgICBub3RlPSJjaXRlZCBCeSA3IiwKICAgIElEPSJOZWlnZXIyMDAzNzIiLAogICAgcGxhY2V4PSJMZWN0dXJlIE5vdGVzIGluIENvbXB1dGVyIFNjaWVuY2UgKGluY2x1ZGluZyBzdWJzZXJpZXMgTGVjdHVyZSBOb3RlcyBpbiBBcnRpZmljaWFsIEludGVsbGlnZW5jZSBhbmQgTGVjdHVyZSBOb3RlcyBpbiBCaW9pbmZvcm1hdGljcykiLAopKQoKREIoQ2l0YXRpb24oCiAgICB0cmllbmVrZW5zMjAwNWEsIG5laWdlcjIwMDNhLCByZWY9IiIsCiAgICBjb250ZXh0cz1bCgogICAgXSwKKSkKCicnJywgY2l0YXRpb25zPSd0cmllbmVrZW5zMjAwNWEnKTs=\"));\n",
       "    "
      ],
      "text/plain": [
       "<IPython.core.display.Javascript object>"
      ]
     },
     "metadata": {},
     "output_type": "display_data"
    }
   ],
   "source": [
    "import importlib\n",
    "import custom_snowballing\n",
    "importlib.reload(custom_snowballing)\n",
    "from custom_snowballing import UnrelatedBackward\n",
    "UnrelatedBackward(\"trienekens2005a\", articles=article_list)"
   ]
  },
  {
   "cell_type": "code",
   "execution_count": 45,
   "metadata": {},
   "outputs": [
    {
     "name": "stdout",
     "output_type": "stream",
     "text": [
      "-Insert: neiger2003a\n",
      "-Insert Import: neiger2003a\n",
      "-Insert Citation: trienekens2005a -> neiger2003a\n"
     ]
    }
   ],
   "source": [
    "# Temp\n",
    "insert('''\n",
    "neiger2003a = DB(WorkUnrelated(\n",
    "    2003, \"Structuring business objectives: A business process modeling perspective\",\n",
    "    display=\"neiger\",\n",
    "    authors=\"Neiger, D. and Churilov, L.\",\n",
    "    place=FAKE,\n",
    "    pp=\"72-87\",\n",
    "    entrytype=\"article\",\n",
    "    volume=\"2678\",\n",
    "    note=\"cited By 7\",\n",
    "    ID=\"Neiger200372\",\n",
    "    placex=\"Lecture Notes in Computer Science (including subseries Lecture Notes in Artificial Intelligence and Lecture Notes in Bioinformatics)\",\n",
    "))\n",
    "\n",
    "DB(Citation(\n",
    "    trienekens2005a, neiger2003a, ref=\"\",\n",
    "    contexts=[\n",
    "\n",
    "    ],\n",
    "))\n",
    "\n",
    "''', citations='trienekens2005a');"
   ]
  },
  {
   "cell_type": "code",
   "execution_count": null,
   "metadata": {
    "collapsed": true
   },
   "outputs": [],
   "source": []
  }
 ],
 "metadata": {
  "kernelspec": {
   "display_name": "Python 3",
   "language": "python",
   "name": "python3"
  },
  "language_info": {
   "codemirror_mode": {
    "name": "ipython",
    "version": 3
   },
   "file_extension": ".py",
   "mimetype": "text/x-python",
   "name": "python",
   "nbconvert_exporter": "python",
   "pygments_lexer": "ipython3",
   "version": "3.6.0"
  },
  "toc": {
   "nav_menu": {
    "height": "12px",
    "width": "252px"
   },
   "number_sections": true,
   "sideBar": true,
   "skip_h1_title": false,
   "toc_cell": false,
   "toc_position": {},
   "toc_section_display": "block",
   "toc_window_display": false
  }
 },
 "nbformat": 4,
 "nbformat_minor": 2
}
