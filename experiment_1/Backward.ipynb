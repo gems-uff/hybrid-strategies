{
 "cells": [
  {
   "cell_type": "code",
   "execution_count": 51,
   "metadata": {
    "collapsed": true
   },
   "outputs": [],
   "source": [
    "import database\n",
    "from snowballing.operations import load_work, reload, work_by_varname\n",
    "from snowballing.snowballing import Converter\n",
    "from snowballing.dbmanager import insert, set_attribute"
   ]
  },
  {
   "cell_type": "code",
   "execution_count": 52,
   "metadata": {
    "scrolled": false
   },
   "outputs": [
    {
     "data": {
      "application/vnd.jupyter.widget-view+json": {
       "model_id": "de72fe9faed24df6b55e154182174e62",
       "version_major": 2,
       "version_minor": 0
      },
      "text/html": [
       "<p>Failed to display Jupyter Widget of type <code>VBox</code>.</p>\n",
       "<p>\n",
       "  If you're reading this message in Jupyter Notebook or JupyterLab, it may mean\n",
       "  that the widgets JavaScript is still loading. If this message persists, it\n",
       "  likely means that the widgets JavaScript library is either not installed or\n",
       "  not enabled. See the <a href=\"https://ipywidgets.readthedocs.io/en/stable/user_install.html\">Jupyter\n",
       "  Widgets Documentation</a> for setup instructions.\n",
       "</p>\n",
       "<p>\n",
       "  If you're reading this message in another notebook frontend (for example, a static\n",
       "  rendering on GitHub or <a href=\"https://nbviewer.jupyter.org/\">NBViewer</a>),\n",
       "  it may mean that your frontend doesn't currently support widgets.\n",
       "</p>\n"
      ],
      "text/plain": [
       "VBox(children=(HBox(children=(Dropdown(index=1, options={'BibTeX': 'bibtex', 'Text': 'text', '[N] author name place other year': 'citation', 'Quoted': 'quoted'}, value='text'), Button(description='Set article_list variable', disabled=True, style=ButtonStyle()), Label(value=''))), HBox(children=(Textarea(value='', layout=Layout(height='500px', width='50%')), Textarea(value='', layout=Layout(height='500px', width='50%'))))))"
      ]
     },
     "metadata": {},
     "output_type": "display_data"
    }
   ],
   "source": [
    "Converter().browser()"
   ]
  },
  {
   "cell_type": "code",
   "execution_count": 53,
   "metadata": {},
   "outputs": [
    {
     "data": {
      "text/plain": [
       "18"
      ]
     },
     "execution_count": 53,
     "metadata": {},
     "output_type": "execute_result"
    }
   ],
   "source": [
    "len(article_list)"
   ]
  },
  {
   "cell_type": "code",
   "execution_count": null,
   "metadata": {
    "collapsed": true
   },
   "outputs": [],
   "source": [
    "#from database.work.y2015 import li2015a"
   ]
  },
  {
   "cell_type": "code",
   "execution_count": null,
   "metadata": {
    "collapsed": true
   },
   "outputs": [],
   "source": [
    "#int(getattr(li2015a, 'scopus', 0))"
   ]
  },
  {
   "cell_type": "code",
   "execution_count": null,
   "metadata": {},
   "outputs": [],
   "source": [
    "#print(article_list)"
   ]
  },
  {
   "cell_type": "code",
   "execution_count": null,
   "metadata": {
    "collapsed": true
   },
   "outputs": [],
   "source": []
  },
  {
   "cell_type": "code",
   "execution_count": 54,
   "metadata": {},
   "outputs": [
    {
     "data": {
      "application/vnd.jupyter.widget-view+json": {
       "model_id": "457358f90e234300ae6aa98b09b7dccd",
       "version_major": 2,
       "version_minor": 0
      },
      "text/html": [
       "<p>Failed to display Jupyter Widget of type <code>VBox</code>.</p>\n",
       "<p>\n",
       "  If you're reading this message in Jupyter Notebook or JupyterLab, it may mean\n",
       "  that the widgets JavaScript is still loading. If this message persists, it\n",
       "  likely means that the widgets JavaScript library is either not installed or\n",
       "  not enabled. See the <a href=\"https://ipywidgets.readthedocs.io/en/stable/user_install.html\">Jupyter\n",
       "  Widgets Documentation</a> for setup instructions.\n",
       "</p>\n",
       "<p>\n",
       "  If you're reading this message in another notebook frontend (for example, a static\n",
       "  rendering on GitHub or <a href=\"https://nbviewer.jupyter.org/\">NBViewer</a>),\n",
       "  it may mean that your frontend doesn't currently support widgets.\n",
       "</p>\n"
      ],
      "text/plain": [
       "VBox(children=(HBox(children=(Button(description='Previous Article', disabled=True, icon='caret-left', style=ButtonStyle()), Button(description='Reload Article', icon='refresh', style=ButtonStyle()), Button(description='Next Article', icon='caret-right', style=ButtonStyle()))), HBox(children=(Button(description='Unrelated: Scripts', style=ButtonStyle()), Button(description='Unrelated: Provenance', style=ButtonStyle()), Button(description='Both', style=ButtonStyle()), Button(description='Ok', style=ButtonStyle()))), HBox(children=(Dropdown(description='Type', index=5, options=('Work', 'WorkSnowball', 'WorkForward', 'WorkBackward', 'WorkOk', 'WorkUnrelated', 'WorkNoFile', 'WorkLang', 'Site', 'Email'), value='WorkUnrelated'), ToggleButton(value=False, description='File'))), HBox(children=(Text(value='', description='Due'), Text(value='', description='Place'))), HBox(children=(Text(value='', description='Year'), Text(value='', description='Prefix Var'))), HBox(children=(Text(value='', description='PDFPage'), Text(value='', description='Related'))), HBox(children=(Text(value='', description='Display'), Text(value='', description='Summary'))), HBox(children=(Text(value='', description='Star'), Text(value='', description='Link'))), HBox(children=(Button(description='Reload Article', icon='refresh', style=ButtonStyle()), IntSlider(value=0, max=17), Label(value='1/18'))), Output()))"
      ]
     },
     "metadata": {},
     "output_type": "display_data"
    },
    {
     "data": {
      "application/javascript": [
       "$('span:contains(\"# Temp\")').closest('.cell').remove();"
      ],
      "text/plain": [
       "<IPython.core.display.Javascript object>"
      ]
     },
     "metadata": {},
     "output_type": "display_data"
    },
    {
     "data": {
      "application/javascript": [
       "\n",
       "        $('span:contains(\"# Temp\")').closest('.cell').remove();\n",
       "        var code = IPython.notebook.insert_cell_below('code');\n",
       "        code.set_text(atob(\"IyBUZW1wCmluc2VydCgnJycKZXNmYWhhbmkyMDEwYSA9IERCKFdvcmtVbnJlbGF0ZWQoCiAgICAyMDEwLCAiQSByZXBvc2l0b3J5IG9mIGFnaWxlIG1ldGhvZCBmcmFnbWVudHMiLAogICAgZGlzcGxheT0iZXNmYWhhbmkiLAogICAgYXV0aG9ycz0iRXNmYWhhbmksIEguQy4gYW5kIFl1LCBFLiIsCiAgICBwbGFjZT1GQUtFLAogICAgcHA9IjE2My0xNzQiLAogICAgZW50cnl0eXBlPSJhcnRpY2xlIiwKICAgIHZvbHVtZT0iNjE5NSBMTkNTIiwKICAgIGRvaT0iMTAuMTAwNy85NzgtMy02NDItMTQzNDctMl8xNSIsCiAgICBub3RlPSJjaXRlZCBCeSAxNCIsCiAgICBJRD0iRXNmYWhhbmkyMDEwMTYzIiwKICAgIHBsYWNleD0iTGVjdHVyZSBOb3RlcyBpbiBDb21wdXRlciBTY2llbmNlIChpbmNsdWRpbmcgc3Vic2VyaWVzIExlY3R1cmUgTm90ZXMgaW4gQXJ0aWZpY2lhbCBJbnRlbGxpZ2VuY2UgYW5kIExlY3R1cmUgTm90ZXMgaW4gQmlvaW5mb3JtYXRpY3MpIiwKKSkKCkRCKENpdGF0aW9uKAogICAgZXNmYWhhbmkyMDExYSwgZXNmYWhhbmkyMDEwYSwgcmVmPSIiLAogICAgY29udGV4dHM9WwoKICAgIF0sCikpCgonJycsIGNpdGF0aW9ucz0nZXNmYWhhbmkyMDExYScpOw==\"));\n",
       "    "
      ],
      "text/plain": [
       "<IPython.core.display.Javascript object>"
      ]
     },
     "metadata": {},
     "output_type": "display_data"
    },
    {
     "data": {
      "application/javascript": [
       "$('span:contains(\"# Temp\")').closest('.cell').remove();"
      ],
      "text/plain": [
       "<IPython.core.display.Javascript object>"
      ]
     },
     "metadata": {},
     "output_type": "display_data"
    },
    {
     "data": {
      "application/javascript": [
       "\n",
       "        $('span:contains(\"# Temp\")').closest('.cell').remove();\n",
       "        var code = IPython.notebook.insert_cell_below('code');\n",
       "        code.set_text(atob(\"IyBUZW1wCmluc2VydCgnJycKREIoQ2l0YXRpb24oCiAgICBlc2ZhaGFuaTIwMTFhLCBrYXBsYW4xOTk2YSwgcmVmPSIiLAogICAgY29udGV4dHM9WwoKICAgIF0sCikpCgonJycsIGNpdGF0aW9ucz0nZXNmYWhhbmkyMDExYScpOw==\"));\n",
       "    "
      ],
      "text/plain": [
       "<IPython.core.display.Javascript object>"
      ]
     },
     "metadata": {},
     "output_type": "display_data"
    },
    {
     "data": {
      "application/javascript": [
       "$('span:contains(\"# Temp\")').closest('.cell').remove();"
      ],
      "text/plain": [
       "<IPython.core.display.Javascript object>"
      ]
     },
     "metadata": {},
     "output_type": "display_data"
    },
    {
     "data": {
      "application/javascript": [
       "\n",
       "        $('span:contains(\"# Temp\")').closest('.cell').remove();\n",
       "        var code = IPython.notebook.insert_cell_below('code');\n",
       "        code.set_text(atob(\"IyBUZW1wCmluc2VydCgnJycKREIoQ2l0YXRpb24oCiAgICBlc2ZhaGFuaTIwMTFhLCBrYXBsYW4xOTk2YSwgcmVmPSIiLAogICAgY29udGV4dHM9WwoKICAgIF0sCikpCgonJycsIGNpdGF0aW9ucz0nZXNmYWhhbmkyMDExYScpOw==\"));\n",
       "    "
      ],
      "text/plain": [
       "<IPython.core.display.Javascript object>"
      ]
     },
     "metadata": {},
     "output_type": "display_data"
    },
    {
     "data": {
      "application/javascript": [
       "$('span:contains(\"# Temp\")').closest('.cell').remove();"
      ],
      "text/plain": [
       "<IPython.core.display.Javascript object>"
      ]
     },
     "metadata": {},
     "output_type": "display_data"
    },
    {
     "data": {
      "application/javascript": [
       "\n",
       "        $('span:contains(\"# Temp\")').closest('.cell').remove();\n",
       "        var code = IPython.notebook.insert_cell_below('code');\n",
       "        code.set_text(atob(\"IyBUZW1wCmluc2VydCgnJycKa2FwbGFuMTk5NmMgPSBEQihXb3JrVW5yZWxhdGVkKAogICAgMTk5NiwgIlVzaW5nIHRoZSBiYWxhbmNlZCBzY29yZWNhcmQgYXMgYSBzdHJhdGVnaWMgbWFuYWdlbWVudCBzeXN0ZW0iLAogICAgZGlzcGxheT0ia2FwbGFuIGMiLAogICAgYXV0aG9ycz0iS2FwbGFuLCBSLlMuIGFuZCBOb3J0b24sIEQuUC4iLAogICAgcGxhY2U9RkFLRSwKICAgIHBwPSI3NS04NSIsCiAgICBlbnRyeXR5cGU9ImFydGljbGUiLAogICAgbnVtYmVyPSIxIiwKICAgIG5vdGU9ImNpdGVkIEJ5IDE4NTYiLAogICAgSUQ9IkthcGxhbjE5OTY3NSIsCiAgICBwbGFjZXg9IkhhcnZhcmQgQnVzaW5lc3MgUmV2aWV3IiwKKSkKCkRCKENpdGF0aW9uKAogICAgZXNmYWhhbmkyMDExYSwga2FwbGFuMTk5NmMsIHJlZj0iIiwKICAgIGNvbnRleHRzPVsKCiAgICBdLAopKQoKJycnLCBjaXRhdGlvbnM9J2VzZmFoYW5pMjAxMWEnKTs=\"));\n",
       "    "
      ],
      "text/plain": [
       "<IPython.core.display.Javascript object>"
      ]
     },
     "metadata": {},
     "output_type": "display_data"
    },
    {
     "data": {
      "application/javascript": [
       "$('span:contains(\"# Temp\")').closest('.cell').remove();"
      ],
      "text/plain": [
       "<IPython.core.display.Javascript object>"
      ]
     },
     "metadata": {},
     "output_type": "display_data"
    },
    {
     "data": {
      "application/javascript": [
       "\n",
       "        $('span:contains(\"# Temp\")').closest('.cell').remove();\n",
       "        var code = IPython.notebook.insert_cell_below('code');\n",
       "        code.set_text(atob(\"IyBUZW1wCmluc2VydCgnJycKa2FwbGFuMTk5NmMgPSBEQihXb3JrVW5yZWxhdGVkKAogICAgMTk5NiwgIlVzaW5nIHRoZSBiYWxhbmNlZCBzY29yZWNhcmQgYXMgYSBzdHJhdGVnaWMgbWFuYWdlbWVudCBzeXN0ZW0iLAogICAgZGlzcGxheT0ia2FwbGFuIGMiLAogICAgYXV0aG9ycz0iS2FwbGFuLCBSLlMuIGFuZCBOb3J0b24sIEQuUC4iLAogICAgcGxhY2U9RkFLRSwKICAgIHBwPSI3NS04NSIsCiAgICBlbnRyeXR5cGU9ImFydGljbGUiLAogICAgbnVtYmVyPSIxIiwKICAgIG5vdGU9ImNpdGVkIEJ5IDE4NTYiLAogICAgSUQ9IkthcGxhbjE5OTY3NSIsCiAgICBwbGFjZXg9IkhhcnZhcmQgQnVzaW5lc3MgUmV2aWV3IiwKKSkKCkRCKENpdGF0aW9uKAogICAgZXNmYWhhbmkyMDExYSwga2FwbGFuMTk5NmMsIHJlZj0iIiwKICAgIGNvbnRleHRzPVsKCiAgICBdLAopKQoKJycnLCBjaXRhdGlvbnM9J2VzZmFoYW5pMjAxMWEnKTs=\"));\n",
       "    "
      ],
      "text/plain": [
       "<IPython.core.display.Javascript object>"
      ]
     },
     "metadata": {},
     "output_type": "display_data"
    },
    {
     "data": {
      "application/javascript": [
       "$('span:contains(\"# Temp\")').closest('.cell').remove();"
      ],
      "text/plain": [
       "<IPython.core.display.Javascript object>"
      ]
     },
     "metadata": {},
     "output_type": "display_data"
    },
    {
     "data": {
      "application/javascript": [
       "\n",
       "        $('span:contains(\"# Temp\")').closest('.cell').remove();\n",
       "        var code = IPython.notebook.insert_cell_below('code');\n",
       "        code.set_text(atob(\"IyBUZW1wCmluc2VydCgnJycKa2FwbGFuMjAwNGEgPSBEQihXb3JrVW5yZWxhdGVkKAogICAgMjAwNCwgIlN0cmF0ZWd5IE1hcHM6IENvbnZlcnRpbmcgSW50YW5naWJsZSBBc3NldHMgSW50byBUYW5naWJsZSBPdXRjb21lcyIsCiAgICBkaXNwbGF5PSJrYXBsYW4iLAogICAgYXV0aG9ycz0iS2FwbGFuLCBSLlMuIGFuZCBOb3J0b24sIEQuUC4iLAogICAgcGxhY2U9RkFLRSwKICAgIGVudHJ5dHlwZT0iYXJ0aWNsZSIsCiAgICBub3RlPSJjaXRlZCBCeSAxMDUwIiwKICAgIElEPSJLYXBsYW4yMDA0IiwKICAgIHBsYWNleD0iQm9zdG9uLCBIYXJ2YXJkIEJ1c2luZXNzIFNjaG9vbCIsCikpCgpEQihDaXRhdGlvbigKICAgIGVzZmFoYW5pMjAxMWEsIGthcGxhbjIwMDRhLCByZWY9IiIsCiAgICBjb250ZXh0cz1bCgogICAgXSwKKSkKCicnJywgY2l0YXRpb25zPSdlc2ZhaGFuaTIwMTFhJyk7\"));\n",
       "    "
      ],
      "text/plain": [
       "<IPython.core.display.Javascript object>"
      ]
     },
     "metadata": {},
     "output_type": "display_data"
    },
    {
     "data": {
      "application/javascript": [
       "$('span:contains(\"# Temp\")').closest('.cell').remove();"
      ],
      "text/plain": [
       "<IPython.core.display.Javascript object>"
      ]
     },
     "metadata": {},
     "output_type": "display_data"
    },
    {
     "data": {
      "application/javascript": [
       "\n",
       "        $('span:contains(\"# Temp\")').closest('.cell').remove();\n",
       "        var code = IPython.notebook.insert_cell_below('code');\n",
       "        code.set_text(atob(\"IyBUZW1wCmluc2VydCgnJycKa2FwbGFuMjAwNGEgPSBEQihXb3JrVW5yZWxhdGVkKAogICAgMjAwNCwgIlN0cmF0ZWd5IE1hcHM6IENvbnZlcnRpbmcgSW50YW5naWJsZSBBc3NldHMgSW50byBUYW5naWJsZSBPdXRjb21lcyIsCiAgICBkaXNwbGF5PSJrYXBsYW4iLAogICAgYXV0aG9ycz0iS2FwbGFuLCBSLlMuIGFuZCBOb3J0b24sIEQuUC4iLAogICAgcGxhY2U9RkFLRSwKICAgIGVudHJ5dHlwZT0iYXJ0aWNsZSIsCiAgICBub3RlPSJjaXRlZCBCeSAxMDUwIiwKICAgIElEPSJLYXBsYW4yMDA0IiwKICAgIHBsYWNleD0iQm9zdG9uLCBIYXJ2YXJkIEJ1c2luZXNzIFNjaG9vbCIsCikpCgpEQihDaXRhdGlvbigKICAgIGVzZmFoYW5pMjAxMWEsIGthcGxhbjIwMDRhLCByZWY9IiIsCiAgICBjb250ZXh0cz1bCgogICAgXSwKKSkKCicnJywgY2l0YXRpb25zPSdlc2ZhaGFuaTIwMTFhJyk7\"));\n",
       "    "
      ],
      "text/plain": [
       "<IPython.core.display.Javascript object>"
      ]
     },
     "metadata": {},
     "output_type": "display_data"
    },
    {
     "data": {
      "application/javascript": [
       "$('span:contains(\"# Temp\")').closest('.cell').remove();"
      ],
      "text/plain": [
       "<IPython.core.display.Javascript object>"
      ]
     },
     "metadata": {},
     "output_type": "display_data"
    },
    {
     "data": {
      "application/javascript": [
       "\n",
       "        $('span:contains(\"# Temp\")').closest('.cell').remove();\n",
       "        var code = IPython.notebook.insert_cell_below('code');\n",
       "        code.set_text(atob(\"IyBUZW1wCmluc2VydCgnJycKaW5zdGl0dXRlMjAxMGEgPSBEQihXb3JrVW5yZWxhdGVkKAogICAgMjAxMCwgIlRoZSBTdHJhdGVnaWMgTWFuYWdlbWVudCBNYXR1cml0eSBNb2RlbCIsCiAgICBkaXNwbGF5PSJpbnN0aXR1dGUiLAogICAgYXV0aG9ycz0iQlNJIEJhbGFuY2VkIFNjb3JlY2FyZCBJbnN0aXR1dGUiLAogICAgcGxhY2U9RkFLRSwKICAgIGVudHJ5dHlwZT0iYXJ0aWNsZSIsCiAgICBub3RlPSJjaXRlZCBCeSAxIiwKICAgIElEPSJCU0kyMDEwIiwKICAgIHBsYWNleD0iU21nLCBTdHJhdGVneSBNYW5hZ2VtZXRuIEdyb3VwIiwKKSkKCkRCKENpdGF0aW9uKAogICAgZXNmYWhhbmkyMDExYSwgaW5zdGl0dXRlMjAxMGEsIHJlZj0iIiwKICAgIGNvbnRleHRzPVsKCiAgICBdLAopKQoKJycnLCBjaXRhdGlvbnM9J2VzZmFoYW5pMjAxMWEnKTs=\"));\n",
       "    "
      ],
      "text/plain": [
       "<IPython.core.display.Javascript object>"
      ]
     },
     "metadata": {},
     "output_type": "display_data"
    },
    {
     "data": {
      "application/javascript": [
       "$('span:contains(\"# Temp\")').closest('.cell').remove();"
      ],
      "text/plain": [
       "<IPython.core.display.Javascript object>"
      ]
     },
     "metadata": {},
     "output_type": "display_data"
    },
    {
     "data": {
      "application/javascript": [
       "\n",
       "        $('span:contains(\"# Temp\")').closest('.cell').remove();\n",
       "        var code = IPython.notebook.insert_cell_below('code');\n",
       "        code.set_text(atob(\"IyBUZW1wCmluc2VydCgnJycKaW5zdGl0dXRlMjAxMGEgPSBEQihXb3JrVW5yZWxhdGVkKAogICAgMjAxMCwgIlRoZSBTdHJhdGVnaWMgTWFuYWdlbWVudCBNYXR1cml0eSBNb2RlbCIsCiAgICBkaXNwbGF5PSJpbnN0aXR1dGUiLAogICAgYXV0aG9ycz0iQlNJIEJhbGFuY2VkIFNjb3JlY2FyZCBJbnN0aXR1dGUiLAogICAgcGxhY2U9RkFLRSwKICAgIGVudHJ5dHlwZT0iYXJ0aWNsZSIsCiAgICBub3RlPSJjaXRlZCBCeSAxIiwKICAgIElEPSJCU0kyMDEwIiwKICAgIHBsYWNleD0iU21nLCBTdHJhdGVneSBNYW5hZ2VtZXRuIEdyb3VwIiwKKSkKCkRCKENpdGF0aW9uKAogICAgZXNmYWhhbmkyMDExYSwgaW5zdGl0dXRlMjAxMGEsIHJlZj0iIiwKICAgIGNvbnRleHRzPVsKCiAgICBdLAopKQoKJycnLCBjaXRhdGlvbnM9J2VzZmFoYW5pMjAxMWEnKTs=\"));\n",
       "    "
      ],
      "text/plain": [
       "<IPython.core.display.Javascript object>"
      ]
     },
     "metadata": {},
     "output_type": "display_data"
    },
    {
     "data": {
      "application/javascript": [
       "$('span:contains(\"# Temp\")').closest('.cell').remove();"
      ],
      "text/plain": [
       "<IPython.core.display.Javascript object>"
      ]
     },
     "metadata": {},
     "output_type": "display_data"
    },
    {
     "data": {
      "application/javascript": [
       "\n",
       "        $('span:contains(\"# Temp\")').closest('.cell').remove();\n",
       "        var code = IPython.notebook.insert_cell_below('code');\n",
       "        code.set_text(atob(\"IyBUZW1wCmluc2VydCgnJycKbWFydGluc29uczE5OTlhID0gREIoV29ya1VucmVsYXRlZCgKICAgIDE5OTksICJUaGUgYmFsYW5jZWQgc2NvcmVjYXJkOiBBIGZvdW5kYXRpb24gZm9yIHRoZSBzdHJhdGVnaWMgbWFuYWdlbWVudCBvZiBpbmZvcm1hdGlvbiBzeXN0ZW1zIiwKICAgIGRpc3BsYXk9Im1hcnRpbnNvbnMiLAogICAgYXV0aG9ycz0iTWFydGluc29ucywgTS4gYW5kIERhdmlzb24sIFIuIGFuZCBUc2UsIEQuIiwKICAgIHBsYWNlPUZBS0UsCiAgICBwcD0iNzEtODgiLAogICAgZW50cnl0eXBlPSJhcnRpY2xlIiwKICAgIHZvbHVtZT0iMjUiLAogICAgbnVtYmVyPSIxIiwKICAgIGRvaT0iMTAuMTAxNi9TMDE2Ny05MjM2KDk4KTAwMDg2LTQiLAogICAgbm90ZT0iY2l0ZWQgQnkgMjc2IiwKICAgIElEPSJNYXJ0aW5zb25zMTk5OTcxIiwKICAgIHBsYWNleD0iRGVjaXNpb24gU3VwcG9ydCBTeXN0ZW1zIiwKKSkKCkRCKENpdGF0aW9uKAogICAgZXNmYWhhbmkyMDExYSwgbWFydGluc29uczE5OTlhLCByZWY9IiIsCiAgICBjb250ZXh0cz1bCgogICAgXSwKKSkKCicnJywgY2l0YXRpb25zPSdlc2ZhaGFuaTIwMTFhJyk7\"));\n",
       "    "
      ],
      "text/plain": [
       "<IPython.core.display.Javascript object>"
      ]
     },
     "metadata": {},
     "output_type": "display_data"
    },
    {
     "data": {
      "application/javascript": [
       "$('span:contains(\"# Temp\")').closest('.cell').remove();"
      ],
      "text/plain": [
       "<IPython.core.display.Javascript object>"
      ]
     },
     "metadata": {},
     "output_type": "display_data"
    },
    {
     "data": {
      "application/javascript": [
       "\n",
       "        $('span:contains(\"# Temp\")').closest('.cell').remove();\n",
       "        var code = IPython.notebook.insert_cell_below('code');\n",
       "        code.set_text(atob(\"IyBUZW1wCmluc2VydCgnJycKbWFydGluc29uczE5OTlhID0gREIoV29ya1VucmVsYXRlZCgKICAgIDE5OTksICJUaGUgYmFsYW5jZWQgc2NvcmVjYXJkOiBBIGZvdW5kYXRpb24gZm9yIHRoZSBzdHJhdGVnaWMgbWFuYWdlbWVudCBvZiBpbmZvcm1hdGlvbiBzeXN0ZW1zIiwKICAgIGRpc3BsYXk9Im1hcnRpbnNvbnMiLAogICAgYXV0aG9ycz0iTWFydGluc29ucywgTS4gYW5kIERhdmlzb24sIFIuIGFuZCBUc2UsIEQuIiwKICAgIHBsYWNlPUZBS0UsCiAgICBwcD0iNzEtODgiLAogICAgZW50cnl0eXBlPSJhcnRpY2xlIiwKICAgIHZvbHVtZT0iMjUiLAogICAgbnVtYmVyPSIxIiwKICAgIGRvaT0iMTAuMTAxNi9TMDE2Ny05MjM2KDk4KTAwMDg2LTQiLAogICAgbm90ZT0iY2l0ZWQgQnkgMjc2IiwKICAgIElEPSJNYXJ0aW5zb25zMTk5OTcxIiwKICAgIHBsYWNleD0iRGVjaXNpb24gU3VwcG9ydCBTeXN0ZW1zIiwKKSkKCkRCKENpdGF0aW9uKAogICAgZXNmYWhhbmkyMDExYSwgbWFydGluc29uczE5OTlhLCByZWY9IiIsCiAgICBjb250ZXh0cz1bCgogICAgXSwKKSkKCicnJywgY2l0YXRpb25zPSdlc2ZhaGFuaTIwMTFhJyk7\"));\n",
       "    "
      ],
      "text/plain": [
       "<IPython.core.display.Javascript object>"
      ]
     },
     "metadata": {},
     "output_type": "display_data"
    },
    {
     "data": {
      "application/javascript": [
       "$('span:contains(\"# Temp\")').closest('.cell').remove();"
      ],
      "text/plain": [
       "<IPython.core.display.Javascript object>"
      ]
     },
     "metadata": {},
     "output_type": "display_data"
    },
    {
     "data": {
      "application/javascript": [
       "\n",
       "        $('span:contains(\"# Temp\")').closest('.cell').remove();\n",
       "        var code = IPython.notebook.insert_cell_below('code');\n",
       "        code.set_text(atob(\"IyBUZW1wCmluc2VydCgnJycKZ3JlbWJlcmdlbjIwMDJhID0gREIoV29ya1VucmVsYXRlZCgKICAgIDIwMDIsICJNZWFzdXJpbmcgYW5kIG1hbmFnaW5nIGUtYnVzaW5lc3MgcHJvamVjdHMgdGhyb3VnaCB0aGUgYmFsYW5jZWQgc2NvcmVjYXJkIiwKICAgIGRpc3BsYXk9ImdyZW1iZXJnZW4iLAogICAgYXV0aG9ycz0iVmFuIEdyZW1iZXJnZW4sIFcuIGFuZCBBbWVsaW5ja3gsIEkuIiwKICAgIHBsYWNlPUZBS0UsCiAgICBlbnRyeXR5cGU9ImNvbmZlcmVuY2UiLAogICAgdm9sdW1lPSIyMDAyLUphbnVhcnkiLAogICAgcGFnZV9jb3VudD0iOSIsCiAgICBkb2k9IjEwLjExMDkvSElDU1MuMjAwMi45OTQzOTUiLAogICAgYXJ0X251bWJlcj0iOTk0Mzk1IiwKICAgIG5vdGU9ImNpdGVkIEJ5IDM3IiwKICAgIElEPSJWYW5HcmVtYmVyZ2VuMjAwMiIsCiAgICBwbGFjZXg9IlByb2NlZWRpbmdzIG9mIHRoZSBBbm51YWwgSGF3YWlpIEludGVybmF0aW9uYWwgQ29uZmVyZW5jZSBvbiBTeXN0ZW0gU2NpZW5jZXMiLAopKQoKREIoQ2l0YXRpb24oCiAgICBlc2ZhaGFuaTIwMTFhLCBncmVtYmVyZ2VuMjAwMmEsIHJlZj0iIiwKICAgIGNvbnRleHRzPVsKCiAgICBdLAopKQoKJycnLCBjaXRhdGlvbnM9J2VzZmFoYW5pMjAxMWEnKTs=\"));\n",
       "    "
      ],
      "text/plain": [
       "<IPython.core.display.Javascript object>"
      ]
     },
     "metadata": {},
     "output_type": "display_data"
    },
    {
     "data": {
      "application/javascript": [
       "$('span:contains(\"# Temp\")').closest('.cell').remove();"
      ],
      "text/plain": [
       "<IPython.core.display.Javascript object>"
      ]
     },
     "metadata": {},
     "output_type": "display_data"
    },
    {
     "data": {
      "application/javascript": [
       "\n",
       "        $('span:contains(\"# Temp\")').closest('.cell').remove();\n",
       "        var code = IPython.notebook.insert_cell_below('code');\n",
       "        code.set_text(atob(\"IyBUZW1wCmluc2VydCgnJycKZ3JlbWJlcmdlbjIwMDJhID0gREIoV29ya1VucmVsYXRlZCgKICAgIDIwMDIsICJNZWFzdXJpbmcgYW5kIG1hbmFnaW5nIGUtYnVzaW5lc3MgcHJvamVjdHMgdGhyb3VnaCB0aGUgYmFsYW5jZWQgc2NvcmVjYXJkIiwKICAgIGRpc3BsYXk9ImdyZW1iZXJnZW4iLAogICAgYXV0aG9ycz0iVmFuIEdyZW1iZXJnZW4sIFcuIGFuZCBBbWVsaW5ja3gsIEkuIiwKICAgIHBsYWNlPUZBS0UsCiAgICBlbnRyeXR5cGU9ImNvbmZlcmVuY2UiLAogICAgdm9sdW1lPSIyMDAyLUphbnVhcnkiLAogICAgcGFnZV9jb3VudD0iOSIsCiAgICBkb2k9IjEwLjExMDkvSElDU1MuMjAwMi45OTQzOTUiLAogICAgYXJ0X251bWJlcj0iOTk0Mzk1IiwKICAgIG5vdGU9ImNpdGVkIEJ5IDM3IiwKICAgIElEPSJWYW5HcmVtYmVyZ2VuMjAwMiIsCiAgICBwbGFjZXg9IlByb2NlZWRpbmdzIG9mIHRoZSBBbm51YWwgSGF3YWlpIEludGVybmF0aW9uYWwgQ29uZmVyZW5jZSBvbiBTeXN0ZW0gU2NpZW5jZXMiLAopKQoKREIoQ2l0YXRpb24oCiAgICBlc2ZhaGFuaTIwMTFhLCBncmVtYmVyZ2VuMjAwMmEsIHJlZj0iIiwKICAgIGNvbnRleHRzPVsKCiAgICBdLAopKQoKJycnLCBjaXRhdGlvbnM9J2VzZmFoYW5pMjAxMWEnKTs=\"));\n",
       "    "
      ],
      "text/plain": [
       "<IPython.core.display.Javascript object>"
      ]
     },
     "metadata": {},
     "output_type": "display_data"
    },
    {
     "data": {
      "application/javascript": [
       "$('span:contains(\"# Temp\")').closest('.cell').remove();"
      ],
      "text/plain": [
       "<IPython.core.display.Javascript object>"
      ]
     },
     "metadata": {},
     "output_type": "display_data"
    },
    {
     "data": {
      "application/javascript": [
       "\n",
       "        $('span:contains(\"# Temp\")').closest('.cell').remove();\n",
       "        var code = IPython.notebook.insert_cell_below('code');\n",
       "        code.set_text(atob(\"IyBUZW1wCmluc2VydCgnJycKaHVhbmcyMDA3YSA9IERCKFdvcmtVbnJlbGF0ZWQoCiAgICAyMDA3LCAiQWNoaWV2aW5nIElULWJ1c2luZXNzIHN0cmF0ZWdpYyBhbGlnbm1lbnQgdmlhIGVudGVycHJpc2Utd2lkZSBpbXBsZW1lbnRhdGlvbiBvZiBiYWxhbmNlZCBzY29yZWNhcmRzIiwKICAgIGRpc3BsYXk9Imh1YW5nIiwKICAgIGF1dGhvcnM9Ikh1YW5nLCBDLkQuIGFuZCBIdSwgUS4iLAogICAgcGxhY2U9RkFLRSwKICAgIHBwPSIxNzMtMTg0IiwKICAgIGVudHJ5dHlwZT0iYXJ0aWNsZSIsCiAgICB2b2x1bWU9IjI0IiwKICAgIG51bWJlcj0iMiIsCiAgICBkb2k9IjEwLjEwODAvMTA1ODA1MzA3MDEyMzkzMTQiLAogICAgbm90ZT0iY2l0ZWQgQnkgNjgiLAogICAgSUQ9Ikh1YW5nMjAwNzE3MyIsCiAgICBwbGFjZXg9IkluZm9ybWF0aW9uIFN5c3RlbXMgTWFuYWdlbWVudCIsCikpCgpEQihDaXRhdGlvbigKICAgIGVzZmFoYW5pMjAxMWEsIGh1YW5nMjAwN2EsIHJlZj0iIiwKICAgIGNvbnRleHRzPVsKCiAgICBdLAopKQoKJycnLCBjaXRhdGlvbnM9J2VzZmFoYW5pMjAxMWEnKTs=\"));\n",
       "    "
      ],
      "text/plain": [
       "<IPython.core.display.Javascript object>"
      ]
     },
     "metadata": {},
     "output_type": "display_data"
    },
    {
     "data": {
      "application/javascript": [
       "$('span:contains(\"# Temp\")').closest('.cell').remove();"
      ],
      "text/plain": [
       "<IPython.core.display.Javascript object>"
      ]
     },
     "metadata": {},
     "output_type": "display_data"
    },
    {
     "data": {
      "application/javascript": [
       "\n",
       "        $('span:contains(\"# Temp\")').closest('.cell').remove();\n",
       "        var code = IPython.notebook.insert_cell_below('code');\n",
       "        code.set_text(atob(\"IyBUZW1wCmluc2VydCgnJycKaHVhbmcyMDA3YSA9IERCKFdvcmtVbnJlbGF0ZWQoCiAgICAyMDA3LCAiQWNoaWV2aW5nIElULWJ1c2luZXNzIHN0cmF0ZWdpYyBhbGlnbm1lbnQgdmlhIGVudGVycHJpc2Utd2lkZSBpbXBsZW1lbnRhdGlvbiBvZiBiYWxhbmNlZCBzY29yZWNhcmRzIiwKICAgIGRpc3BsYXk9Imh1YW5nIiwKICAgIGF1dGhvcnM9Ikh1YW5nLCBDLkQuIGFuZCBIdSwgUS4iLAogICAgcGxhY2U9RkFLRSwKICAgIHBwPSIxNzMtMTg0IiwKICAgIGVudHJ5dHlwZT0iYXJ0aWNsZSIsCiAgICB2b2x1bWU9IjI0IiwKICAgIG51bWJlcj0iMiIsCiAgICBkb2k9IjEwLjEwODAvMTA1ODA1MzA3MDEyMzkzMTQiLAogICAgbm90ZT0iY2l0ZWQgQnkgNjgiLAogICAgSUQ9Ikh1YW5nMjAwNzE3MyIsCiAgICBwbGFjZXg9IkluZm9ybWF0aW9uIFN5c3RlbXMgTWFuYWdlbWVudCIsCikpCgpEQihDaXRhdGlvbigKICAgIGVzZmFoYW5pMjAxMWEsIGh1YW5nMjAwN2EsIHJlZj0iIiwKICAgIGNvbnRleHRzPVsKCiAgICBdLAopKQoKJycnLCBjaXRhdGlvbnM9J2VzZmFoYW5pMjAxMWEnKTs=\"));\n",
       "    "
      ],
      "text/plain": [
       "<IPython.core.display.Javascript object>"
      ]
     },
     "metadata": {},
     "output_type": "display_data"
    },
    {
     "data": {
      "application/javascript": [
       "$('span:contains(\"# Temp\")').closest('.cell').remove();"
      ],
      "text/plain": [
       "<IPython.core.display.Javascript object>"
      ]
     },
     "metadata": {},
     "output_type": "display_data"
    },
    {
     "data": {
      "application/javascript": [
       "\n",
       "        $('span:contains(\"# Temp\")').closest('.cell').remove();\n",
       "        var code = IPython.notebook.insert_cell_below('code');\n",
       "        code.set_text(atob(\"IyBUZW1wCmluc2VydCgnJycKa2ltMjAwM2EgPSBEQihXb3JrVW5yZWxhdGVkKAogICAgMjAwMywgIkEgbW9kZWwgZm9yIGV2YWx1YXRpbmcgdGhlIGVmZmVjdGl2ZW5lc3Mgb2YgY3JtIHVzaW5nIHRoZSBiYWxhbmNlZCBzY29yZWNhcmQiLAogICAgZGlzcGxheT0ia2ltIiwKICAgIGF1dGhvcnM9IktpbSwgSi4gYW5kIFN1aCwgRS4gYW5kIEh3YW5nLCBILiIsCiAgICBwbGFjZT1GQUtFLAogICAgcHA9IjUtMTkiLAogICAgZW50cnl0eXBlPSJhcnRpY2xlIiwKICAgIHZvbHVtZT0iMTciLAogICAgbnVtYmVyPSIyIiwKICAgIGRvaT0iMTAuMTAwMi9kaXIuMTAwNTEiLAogICAgbm90ZT0iY2l0ZWQgQnkgMTUzIiwKICAgIElEPSJLaW0yMDAzNSIsCiAgICBwbGFjZXg9IkpvdXJuYWwgb2YgSW50ZXJhY3RpdmUgTWFya2V0aW5nIiwKKSkKCkRCKENpdGF0aW9uKAogICAgZXNmYWhhbmkyMDExYSwga2ltMjAwM2EsIHJlZj0iIiwKICAgIGNvbnRleHRzPVsKCiAgICBdLAopKQoKJycnLCBjaXRhdGlvbnM9J2VzZmFoYW5pMjAxMWEnKTs=\"));\n",
       "    "
      ],
      "text/plain": [
       "<IPython.core.display.Javascript object>"
      ]
     },
     "metadata": {},
     "output_type": "display_data"
    },
    {
     "data": {
      "application/javascript": [
       "$('span:contains(\"# Temp\")').closest('.cell').remove();"
      ],
      "text/plain": [
       "<IPython.core.display.Javascript object>"
      ]
     },
     "metadata": {},
     "output_type": "display_data"
    },
    {
     "data": {
      "application/javascript": [
       "\n",
       "        $('span:contains(\"# Temp\")').closest('.cell').remove();\n",
       "        var code = IPython.notebook.insert_cell_below('code');\n",
       "        code.set_text(atob(\"IyBUZW1wCmluc2VydCgnJycKa2ltMjAwM2EgPSBEQihXb3JrVW5yZWxhdGVkKAogICAgMjAwMywgIkEgbW9kZWwgZm9yIGV2YWx1YXRpbmcgdGhlIGVmZmVjdGl2ZW5lc3Mgb2YgY3JtIHVzaW5nIHRoZSBiYWxhbmNlZCBzY29yZWNhcmQiLAogICAgZGlzcGxheT0ia2ltIiwKICAgIGF1dGhvcnM9IktpbSwgSi4gYW5kIFN1aCwgRS4gYW5kIEh3YW5nLCBILiIsCiAgICBwbGFjZT1GQUtFLAogICAgcHA9IjUtMTkiLAogICAgZW50cnl0eXBlPSJhcnRpY2xlIiwKICAgIHZvbHVtZT0iMTciLAogICAgbnVtYmVyPSIyIiwKICAgIGRvaT0iMTAuMTAwMi9kaXIuMTAwNTEiLAogICAgbm90ZT0iY2l0ZWQgQnkgMTUzIiwKICAgIElEPSJLaW0yMDAzNSIsCiAgICBwbGFjZXg9IkpvdXJuYWwgb2YgSW50ZXJhY3RpdmUgTWFya2V0aW5nIiwKKSkKCkRCKENpdGF0aW9uKAogICAgZXNmYWhhbmkyMDExYSwga2ltMjAwM2EsIHJlZj0iIiwKICAgIGNvbnRleHRzPVsKCiAgICBdLAopKQoKJycnLCBjaXRhdGlvbnM9J2VzZmFoYW5pMjAxMWEnKTs=\"));\n",
       "    "
      ],
      "text/plain": [
       "<IPython.core.display.Javascript object>"
      ]
     },
     "metadata": {},
     "output_type": "display_data"
    },
    {
     "data": {
      "application/javascript": [
       "$('span:contains(\"# Temp\")').closest('.cell').remove();"
      ],
      "text/plain": [
       "<IPython.core.display.Javascript object>"
      ]
     },
     "metadata": {},
     "output_type": "display_data"
    },
    {
     "data": {
      "application/javascript": [
       "\n",
       "        $('span:contains(\"# Temp\")').closest('.cell').remove();\n",
       "        var code = IPython.notebook.insert_cell_below('code');\n",
       "        code.set_text(atob(\"IyBUZW1wCmluc2VydCgnJycKc3VyZXNoY2hhbmRyYTIwMDhhID0gREIoV29ya1VucmVsYXRlZCgKICAgIDIwMDgsICJBZG9wdGluZyBhZ2lsZSBpbiBkaXN0cmlidXRlZCBkZXZlbG9wbWVudCIsCiAgICBkaXNwbGF5PSJzdXJlc2hjaGFuZHJhIiwKICAgIGF1dGhvcnM9IlN1cmVzaGNoYW5kcmEsIEsuIGFuZCBTaHJpbml2YXNhdmFkaGFuaSwgSi4iLAogICAgcGxhY2U9RkFLRSwKICAgIHBwPSIyMTctMjIxIiwKICAgIGVudHJ5dHlwZT0iY29uZmVyZW5jZSIsCiAgICBkb2k9IjEwLjExMDkvSUNHU0UuMjAwOC4yNSIsCiAgICBhcnRfbnVtYmVyPSI0NjM4NjcwIiwKICAgIG5vdGU9ImNpdGVkIEJ5IDQ0IiwKICAgIElEPSJTdXJlc2hjaGFuZHJhMjAwODIxNyIsCiAgICBwbGFjZXg9IlByb2NlZWRpbmdzIC0gMjAwOCAzcmQgSUVFRSBJbnRlcm5hdGlvbmFsIENvbmZlcmVuY2UgR2xvYmFsIFNvZnR3YXJlIEVuZ2luZWVyaW5nLCBJQ0dTRSAyMDA4IiwKKSkKCkRCKENpdGF0aW9uKAogICAgZXNmYWhhbmkyMDExYSwgc3VyZXNoY2hhbmRyYTIwMDhhLCByZWY9IiIsCiAgICBjb250ZXh0cz1bCgogICAgXSwKKSkKCicnJywgY2l0YXRpb25zPSdlc2ZhaGFuaTIwMTFhJyk7\"));\n",
       "    "
      ],
      "text/plain": [
       "<IPython.core.display.Javascript object>"
      ]
     },
     "metadata": {},
     "output_type": "display_data"
    },
    {
     "data": {
      "application/javascript": [
       "$('span:contains(\"# Temp\")').closest('.cell').remove();"
      ],
      "text/plain": [
       "<IPython.core.display.Javascript object>"
      ]
     },
     "metadata": {},
     "output_type": "display_data"
    },
    {
     "data": {
      "application/javascript": [
       "\n",
       "        $('span:contains(\"# Temp\")').closest('.cell').remove();\n",
       "        var code = IPython.notebook.insert_cell_below('code');\n",
       "        code.set_text(atob(\"IyBUZW1wCmluc2VydCgnJycKc3VyZXNoY2hhbmRyYTIwMDhhID0gREIoV29ya1VucmVsYXRlZCgKICAgIDIwMDgsICJBZG9wdGluZyBhZ2lsZSBpbiBkaXN0cmlidXRlZCBkZXZlbG9wbWVudCIsCiAgICBkaXNwbGF5PSJzdXJlc2hjaGFuZHJhIiwKICAgIGF1dGhvcnM9IlN1cmVzaGNoYW5kcmEsIEsuIGFuZCBTaHJpbml2YXNhdmFkaGFuaSwgSi4iLAogICAgcGxhY2U9RkFLRSwKICAgIHBwPSIyMTctMjIxIiwKICAgIGVudHJ5dHlwZT0iY29uZmVyZW5jZSIsCiAgICBkb2k9IjEwLjExMDkvSUNHU0UuMjAwOC4yNSIsCiAgICBhcnRfbnVtYmVyPSI0NjM4NjcwIiwKICAgIG5vdGU9ImNpdGVkIEJ5IDQ0IiwKICAgIElEPSJTdXJlc2hjaGFuZHJhMjAwODIxNyIsCiAgICBwbGFjZXg9IlByb2NlZWRpbmdzIC0gMjAwOCAzcmQgSUVFRSBJbnRlcm5hdGlvbmFsIENvbmZlcmVuY2UgR2xvYmFsIFNvZnR3YXJlIEVuZ2luZWVyaW5nLCBJQ0dTRSAyMDA4IiwKKSkKCkRCKENpdGF0aW9uKAogICAgZXNmYWhhbmkyMDExYSwgc3VyZXNoY2hhbmRyYTIwMDhhLCByZWY9IiIsCiAgICBjb250ZXh0cz1bCgogICAgXSwKKSkKCicnJywgY2l0YXRpb25zPSdlc2ZhaGFuaTIwMTFhJyk7\"));\n",
       "    "
      ],
      "text/plain": [
       "<IPython.core.display.Javascript object>"
      ]
     },
     "metadata": {},
     "output_type": "display_data"
    },
    {
     "data": {
      "application/javascript": [
       "$('span:contains(\"# Temp\")').closest('.cell').remove();"
      ],
      "text/plain": [
       "<IPython.core.display.Javascript object>"
      ]
     },
     "metadata": {},
     "output_type": "display_data"
    },
    {
     "data": {
      "application/javascript": [
       "\n",
       "        $('span:contains(\"# Temp\")').closest('.cell').remove();\n",
       "        var code = IPython.notebook.insert_cell_below('code');\n",
       "        code.set_text(atob(\"IyBUZW1wCmluc2VydCgnJycKZWlsYXQyMDA4YSA9IERCKFdvcmtVbnJlbGF0ZWQoCiAgICAyMDA4LCAiUiZEIHByb2plY3QgZXZhbHVhdGlvbjogQW4gaW50ZWdyYXRlZCBERUEgYW5kIGJhbGFuY2VkIHNjb3JlY2FyZCBhcHByb2FjaCIsCiAgICBkaXNwbGF5PSJlaWxhdCIsCiAgICBhdXRob3JzPSJFaWxhdCwgSC4gYW5kIEdvbGFueSwgQi4gYW5kIFNodHViLCBBLiIsCiAgICBwbGFjZT1GQUtFLAogICAgcHA9Ijg5NS05MTIiLAogICAgZW50cnl0eXBlPSJhcnRpY2xlIiwKICAgIHZvbHVtZT0iMzYiLAogICAgbnVtYmVyPSI1IiwKICAgIGRvaT0iMTAuMTAxNi9qLm9tZWdhLjIwMDYuMDUuMDAyIiwKICAgIG5vdGU9ImNpdGVkIEJ5IDEzMiIsCiAgICBJRD0iRWlsYXQyMDA4ODk1IiwKICAgIHBsYWNleD0iT21lZ2EiLAopKQoKREIoQ2l0YXRpb24oCiAgICBlc2ZhaGFuaTIwMTFhLCBlaWxhdDIwMDhhLCByZWY9IiIsCiAgICBjb250ZXh0cz1bCgogICAgXSwKKSkKCicnJywgY2l0YXRpb25zPSdlc2ZhaGFuaTIwMTFhJyk7\"));\n",
       "    "
      ],
      "text/plain": [
       "<IPython.core.display.Javascript object>"
      ]
     },
     "metadata": {},
     "output_type": "display_data"
    },
    {
     "data": {
      "application/javascript": [
       "$('span:contains(\"# Temp\")').closest('.cell').remove();"
      ],
      "text/plain": [
       "<IPython.core.display.Javascript object>"
      ]
     },
     "metadata": {},
     "output_type": "display_data"
    },
    {
     "data": {
      "application/javascript": [
       "\n",
       "        $('span:contains(\"# Temp\")').closest('.cell').remove();\n",
       "        var code = IPython.notebook.insert_cell_below('code');\n",
       "        code.set_text(atob(\"IyBUZW1wCmluc2VydCgnJycKZWlsYXQyMDA4YSA9IERCKFdvcmtVbnJlbGF0ZWQoCiAgICAyMDA4LCAiUiZEIHByb2plY3QgZXZhbHVhdGlvbjogQW4gaW50ZWdyYXRlZCBERUEgYW5kIGJhbGFuY2VkIHNjb3JlY2FyZCBhcHByb2FjaCIsCiAgICBkaXNwbGF5PSJlaWxhdCIsCiAgICBhdXRob3JzPSJFaWxhdCwgSC4gYW5kIEdvbGFueSwgQi4gYW5kIFNodHViLCBBLiIsCiAgICBwbGFjZT1GQUtFLAogICAgcHA9Ijg5NS05MTIiLAogICAgZW50cnl0eXBlPSJhcnRpY2xlIiwKICAgIHZvbHVtZT0iMzYiLAogICAgbnVtYmVyPSI1IiwKICAgIGRvaT0iMTAuMTAxNi9qLm9tZWdhLjIwMDYuMDUuMDAyIiwKICAgIG5vdGU9ImNpdGVkIEJ5IDEzMiIsCiAgICBJRD0iRWlsYXQyMDA4ODk1IiwKICAgIHBsYWNleD0iT21lZ2EiLAopKQoKREIoQ2l0YXRpb24oCiAgICBlc2ZhaGFuaTIwMTFhLCBlaWxhdDIwMDhhLCByZWY9IiIsCiAgICBjb250ZXh0cz1bCgogICAgXSwKKSkKCicnJywgY2l0YXRpb25zPSdlc2ZhaGFuaTIwMTFhJyk7\"));\n",
       "    "
      ],
      "text/plain": [
       "<IPython.core.display.Javascript object>"
      ]
     },
     "metadata": {},
     "output_type": "display_data"
    },
    {
     "data": {
      "application/javascript": [
       "$('span:contains(\"# Temp\")').closest('.cell').remove();"
      ],
      "text/plain": [
       "<IPython.core.display.Javascript object>"
      ]
     },
     "metadata": {},
     "output_type": "display_data"
    },
    {
     "data": {
      "application/javascript": [
       "\n",
       "        $('span:contains(\"# Temp\")').closest('.cell').remove();\n",
       "        var code = IPython.notebook.insert_cell_below('code');\n",
       "        code.set_text(atob(\"IyBUZW1wCmluc2VydCgnJycKeXUxOTk3YSA9IERCKFdvcmtVbnJlbGF0ZWQoCiAgICAxOTk3LCAiVG93YXJkcyBtb2RlbGxpbmcgYW5kIHJlYXNvbmluZyBzdXBwb3J0IGZvciBlYXJseS1waGFzZSByZXF1aXJlbWVudHMgZW5naW5lZXJpbmciLAogICAgZGlzcGxheT0ieXUiLAogICAgYXV0aG9ycz0iWXUsIEVyaWMgUy5LLiIsCiAgICBwbGFjZT1JQ1NFLAogICAgcHA9IjIyNi0yMzUiLAogICAgZW50cnl0eXBlPSJjb25mZXJlbmNlIiwKICAgIG5vdGU9ImNpdGVkIEJ5IDk0OSIsCiAgICBJRD0iWXUxOTk3MjI2IiwKICAgIHBsYWNleD0iUHJvY2VlZGluZ3Mgb2YgdGhlIElFRUUgSW50ZXJuYXRpb25hbCBDb25mZXJlbmNlIG9uIFJlcXVpcmVtZW50cyBFbmdpbmVlcmluZyIsCikpCgpEQihDaXRhdGlvbigKICAgIGVzZmFoYW5pMjAxMWEsIHl1MTk5N2EsIHJlZj0iIiwKICAgIGNvbnRleHRzPVsKCiAgICBdLAopKQoKJycnLCBjaXRhdGlvbnM9J2VzZmFoYW5pMjAxMWEnKTs=\"));\n",
       "    "
      ],
      "text/plain": [
       "<IPython.core.display.Javascript object>"
      ]
     },
     "metadata": {},
     "output_type": "display_data"
    },
    {
     "data": {
      "application/javascript": [
       "$('span:contains(\"# Temp\")').closest('.cell').remove();"
      ],
      "text/plain": [
       "<IPython.core.display.Javascript object>"
      ]
     },
     "metadata": {},
     "output_type": "display_data"
    },
    {
     "data": {
      "application/javascript": [
       "\n",
       "        $('span:contains(\"# Temp\")').closest('.cell').remove();\n",
       "        var code = IPython.notebook.insert_cell_below('code');\n",
       "        code.set_text(atob(\"IyBUZW1wCmluc2VydCgnJycKeXUxOTk3YSA9IERCKFdvcmtVbnJlbGF0ZWQoCiAgICAxOTk3LCAiVG93YXJkcyBtb2RlbGxpbmcgYW5kIHJlYXNvbmluZyBzdXBwb3J0IGZvciBlYXJseS1waGFzZSByZXF1aXJlbWVudHMgZW5naW5lZXJpbmciLAogICAgZGlzcGxheT0ieXUiLAogICAgYXV0aG9ycz0iWXUsIEVyaWMgUy5LLiIsCiAgICBwbGFjZT1JQ1NFLAogICAgcHA9IjIyNi0yMzUiLAogICAgZW50cnl0eXBlPSJjb25mZXJlbmNlIiwKICAgIG5vdGU9ImNpdGVkIEJ5IDk0OSIsCiAgICBJRD0iWXUxOTk3MjI2IiwKICAgIHBsYWNleD0iUHJvY2VlZGluZ3Mgb2YgdGhlIElFRUUgSW50ZXJuYXRpb25hbCBDb25mZXJlbmNlIG9uIFJlcXVpcmVtZW50cyBFbmdpbmVlcmluZyIsCikpCgpEQihDaXRhdGlvbigKICAgIGVzZmFoYW5pMjAxMWEsIHl1MTk5N2EsIHJlZj0iIiwKICAgIGNvbnRleHRzPVsKCiAgICBdLAopKQoKJycnLCBjaXRhdGlvbnM9J2VzZmFoYW5pMjAxMWEnKTs=\"));\n",
       "    "
      ],
      "text/plain": [
       "<IPython.core.display.Javascript object>"
      ]
     },
     "metadata": {},
     "output_type": "display_data"
    },
    {
     "data": {
      "application/javascript": [
       "$('span:contains(\"# Temp\")').closest('.cell').remove();"
      ],
      "text/plain": [
       "<IPython.core.display.Javascript object>"
      ]
     },
     "metadata": {},
     "output_type": "display_data"
    },
    {
     "data": {
      "application/javascript": [
       "\n",
       "        $('span:contains(\"# Temp\")').closest('.cell').remove();\n",
       "        var code = IPython.notebook.insert_cell_below('code');\n",
       "        code.set_text(atob(\"IyBUZW1wCmluc2VydCgnJycKYnJpbmtrZW1wZXIxOTk2YSA9IERCKFdvcmtVbnJlbGF0ZWQoCiAgICAxOTk2LCAiTWV0aG9kIGVuZ2luZWVyaW5nOiBFbmdpbmVlcmluZyBvZiBpbmZvcm1hdGlvbiBzeXN0ZW1zIGRldmVsb3BtZW50IG1ldGhvZHMgYW5kIHRvb2xzIiwKICAgIGRpc3BsYXk9ImJyaW5ra2VtcGVyIiwKICAgIGF1dGhvcnM9IkJyaW5ra2VtcGVyLCBTLiIsCiAgICBwbGFjZT1JU1QsCiAgICBwcD0iMjc1LTI4MCIsCiAgICBlbnRyeXR5cGU9ImFydGljbGUiLAogICAgdm9sdW1lPSIzOCIsCiAgICBudW1iZXI9IjQgU1BFQy4gSVNTLiIsCiAgICBkb2k9IjEwLjEwMTYvMDk1MC01ODQ5KDk1KTAxMDU5LTkiLAogICAgbm90ZT0iY2l0ZWQgQnkgNTAyIiwKICAgIElEPSJCcmlua2tlbXBlcjE5OTYyNzUiLAogICAgcGxhY2V4PSJJbmZvcm1hdGlvbiBhbmQgU29mdHdhcmUgVGVjaG5vbG9neSIsCikpCgpEQihDaXRhdGlvbigKICAgIGVzZmFoYW5pMjAxMWEsIGJyaW5ra2VtcGVyMTk5NmEsIHJlZj0iIiwKICAgIGNvbnRleHRzPVsKCiAgICBdLAopKQoKJycnLCBjaXRhdGlvbnM9J2VzZmFoYW5pMjAxMWEnKTs=\"));\n",
       "    "
      ],
      "text/plain": [
       "<IPython.core.display.Javascript object>"
      ]
     },
     "metadata": {},
     "output_type": "display_data"
    },
    {
     "data": {
      "application/javascript": [
       "$('span:contains(\"# Temp\")').closest('.cell').remove();"
      ],
      "text/plain": [
       "<IPython.core.display.Javascript object>"
      ]
     },
     "metadata": {},
     "output_type": "display_data"
    },
    {
     "data": {
      "application/javascript": [
       "\n",
       "        $('span:contains(\"# Temp\")').closest('.cell').remove();\n",
       "        var code = IPython.notebook.insert_cell_below('code');\n",
       "        code.set_text(atob(\"IyBUZW1wCmluc2VydCgnJycKYnJpbmtrZW1wZXIxOTk2YSA9IERCKFdvcmtVbnJlbGF0ZWQoCiAgICAxOTk2LCAiTWV0aG9kIGVuZ2luZWVyaW5nOiBFbmdpbmVlcmluZyBvZiBpbmZvcm1hdGlvbiBzeXN0ZW1zIGRldmVsb3BtZW50IG1ldGhvZHMgYW5kIHRvb2xzIiwKICAgIGRpc3BsYXk9ImJyaW5ra2VtcGVyIiwKICAgIGF1dGhvcnM9IkJyaW5ra2VtcGVyLCBTLiIsCiAgICBwbGFjZT1JU1QsCiAgICBwcD0iMjc1LTI4MCIsCiAgICBlbnRyeXR5cGU9ImFydGljbGUiLAogICAgdm9sdW1lPSIzOCIsCiAgICBudW1iZXI9IjQgU1BFQy4gSVNTLiIsCiAgICBkb2k9IjEwLjEwMTYvMDk1MC01ODQ5KDk1KTAxMDU5LTkiLAogICAgbm90ZT0iY2l0ZWQgQnkgNTAyIiwKICAgIElEPSJCcmlua2tlbXBlcjE5OTYyNzUiLAogICAgcGxhY2V4PSJJbmZvcm1hdGlvbiBhbmQgU29mdHdhcmUgVGVjaG5vbG9neSIsCikpCgpEQihDaXRhdGlvbigKICAgIGVzZmFoYW5pMjAxMWEsIGJyaW5ra2VtcGVyMTk5NmEsIHJlZj0iIiwKICAgIGNvbnRleHRzPVsKCiAgICBdLAopKQoKJycnLCBjaXRhdGlvbnM9J2VzZmFoYW5pMjAxMWEnKTs=\"));\n",
       "    "
      ],
      "text/plain": [
       "<IPython.core.display.Javascript object>"
      ]
     },
     "metadata": {},
     "output_type": "display_data"
    },
    {
     "data": {
      "application/javascript": [
       "$('span:contains(\"# Temp\")').closest('.cell').remove();"
      ],
      "text/plain": [
       "<IPython.core.display.Javascript object>"
      ]
     },
     "metadata": {},
     "output_type": "display_data"
    },
    {
     "data": {
      "application/javascript": [
       "\n",
       "        $('span:contains(\"# Temp\")').closest('.cell').remove();\n",
       "        var code = IPython.notebook.insert_cell_below('code');\n",
       "        code.set_text(atob(\"IyBUZW1wCmluc2VydCgnJycKcG9wcGVuZGllY2syMDAzYiA9IERCKFdvcmtVbnJlbGF0ZWQoCiAgICAyMDAzLCAiTGVhbiBTb2Z0d2FyZSBEZXZlbG9wbWVudDogQW4gQWdpbGUgVG9vbGtpdCIsCiAgICBkaXNwbGF5PSJwb3BwZW5kaWVjayBiIiwKICAgIGF1dGhvcnM9IlBvcHBlbmRpZWNrLCBNLiBhbmQgUG9wcGVuZGllY2ssIFQuIiwKICAgIHBsYWNlPUZBS0UsCiAgICBlbnRyeXR5cGU9ImFydGljbGUiLAogICAgbm90ZT0iY2l0ZWQgQnkgNTI5IiwKICAgIElEPSJQb3BwZW5kaWVjazIwMDMiLAogICAgcGxhY2V4PSJBZGRpc29uIFdlc2xleSIsCikpCgpEQihDaXRhdGlvbigKICAgIGVzZmFoYW5pMjAxMWEsIHBvcHBlbmRpZWNrMjAwM2IsIHJlZj0iIiwKICAgIGNvbnRleHRzPVsKCiAgICBdLAopKQoKJycnLCBjaXRhdGlvbnM9J2VzZmFoYW5pMjAxMWEnKTs=\"));\n",
       "    "
      ],
      "text/plain": [
       "<IPython.core.display.Javascript object>"
      ]
     },
     "metadata": {},
     "output_type": "display_data"
    },
    {
     "data": {
      "application/javascript": [
       "$('span:contains(\"# Temp\")').closest('.cell').remove();"
      ],
      "text/plain": [
       "<IPython.core.display.Javascript object>"
      ]
     },
     "metadata": {},
     "output_type": "display_data"
    },
    {
     "data": {
      "application/javascript": [
       "\n",
       "        $('span:contains(\"# Temp\")').closest('.cell').remove();\n",
       "        var code = IPython.notebook.insert_cell_below('code');\n",
       "        code.set_text(atob(\"IyBUZW1wCmluc2VydCgnJycKcG9wcGVuZGllY2syMDAzYiA9IERCKFdvcmtVbnJlbGF0ZWQoCiAgICAyMDAzLCAiTGVhbiBTb2Z0d2FyZSBEZXZlbG9wbWVudDogQW4gQWdpbGUgVG9vbGtpdCIsCiAgICBkaXNwbGF5PSJwb3BwZW5kaWVjayBiIiwKICAgIGF1dGhvcnM9IlBvcHBlbmRpZWNrLCBNLiBhbmQgUG9wcGVuZGllY2ssIFQuIiwKICAgIHBsYWNlPUZBS0UsCiAgICBlbnRyeXR5cGU9ImFydGljbGUiLAogICAgbm90ZT0iY2l0ZWQgQnkgNTI5IiwKICAgIElEPSJQb3BwZW5kaWVjazIwMDMiLAogICAgcGxhY2V4PSJBZGRpc29uIFdlc2xleSIsCikpCgpEQihDaXRhdGlvbigKICAgIGVzZmFoYW5pMjAxMWEsIHBvcHBlbmRpZWNrMjAwM2IsIHJlZj0iIiwKICAgIGNvbnRleHRzPVsKCiAgICBdLAopKQoKJycnLCBjaXRhdGlvbnM9J2VzZmFoYW5pMjAxMWEnKTs=\"));\n",
       "    "
      ],
      "text/plain": [
       "<IPython.core.display.Javascript object>"
      ]
     },
     "metadata": {},
     "output_type": "display_data"
    },
    {
     "data": {
      "application/javascript": [
       "$('span:contains(\"# Temp\")').closest('.cell').remove();"
      ],
      "text/plain": [
       "<IPython.core.display.Javascript object>"
      ]
     },
     "metadata": {},
     "output_type": "display_data"
    },
    {
     "data": {
      "application/javascript": [
       "\n",
       "        $('span:contains(\"# Temp\")').closest('.cell').remove();\n",
       "        var code = IPython.notebook.insert_cell_below('code');\n",
       "        code.set_text(atob(\"IyBUZW1wCmluc2VydCgnJycKc2lka3kyMDA3YSA9IERCKFdvcmtVbnJlbGF0ZWQoCiAgICAyMDA3LCAiQSBkaXNjaXBsaW5lZCBhcHByb2FjaCB0byBhZG9wdGluZyBhZ2lsZSBwcmFjdGljZXM6IFRoZSBhZ2lsZSBhZG9wdGlvbiBmcmFtZXdvcmsiLAogICAgZGlzcGxheT0ic2lka3kiLAogICAgYXV0aG9ycz0iU2lka3ksIEEuIGFuZCBBcnRodXIsIEouIGFuZCBCb2huZXIsIFMuIiwKICAgIHBsYWNlPUZBS0UsCiAgICBwcD0iMjAzLTIxNiIsCiAgICBlbnRyeXR5cGU9ImFydGljbGUiLAogICAgdm9sdW1lPSIzIiwKICAgIG51bWJlcj0iMyIsCiAgICBkb2k9IjEwLjEwMDcvczExMzM0LTAwNy0wMDI2LXoiLAogICAgbm90ZT0iY2l0ZWQgQnkgNTciLAogICAgSUQ9IlNpZGt5MjAwNzIwMyIsCiAgICBwbGFjZXg9Iklubm92YXRpb25zIGluIFN5c3RlbXMgYW5kIFNvZnR3YXJlIEVuZ2luZWVyaW5nIiwKKSkKCkRCKENpdGF0aW9uKAogICAgZXNmYWhhbmkyMDExYSwgc2lka3kyMDA3YSwgcmVmPSIiLAogICAgY29udGV4dHM9WwoKICAgIF0sCikpCgonJycsIGNpdGF0aW9ucz0nZXNmYWhhbmkyMDExYScpOw==\"));\n",
       "    "
      ],
      "text/plain": [
       "<IPython.core.display.Javascript object>"
      ]
     },
     "metadata": {},
     "output_type": "display_data"
    },
    {
     "data": {
      "application/javascript": [
       "$('span:contains(\"# Temp\")').closest('.cell').remove();"
      ],
      "text/plain": [
       "<IPython.core.display.Javascript object>"
      ]
     },
     "metadata": {},
     "output_type": "display_data"
    },
    {
     "data": {
      "application/javascript": [
       "\n",
       "        $('span:contains(\"# Temp\")').closest('.cell').remove();\n",
       "        var code = IPython.notebook.insert_cell_below('code');\n",
       "        code.set_text(atob(\"IyBUZW1wCmluc2VydCgnJycKc2lka3kyMDA3YSA9IERCKFdvcmtVbnJlbGF0ZWQoCiAgICAyMDA3LCAiQSBkaXNjaXBsaW5lZCBhcHByb2FjaCB0byBhZG9wdGluZyBhZ2lsZSBwcmFjdGljZXM6IFRoZSBhZ2lsZSBhZG9wdGlvbiBmcmFtZXdvcmsiLAogICAgZGlzcGxheT0ic2lka3kiLAogICAgYXV0aG9ycz0iU2lka3ksIEEuIGFuZCBBcnRodXIsIEouIGFuZCBCb2huZXIsIFMuIiwKICAgIHBsYWNlPUZBS0UsCiAgICBwcD0iMjAzLTIxNiIsCiAgICBlbnRyeXR5cGU9ImFydGljbGUiLAogICAgdm9sdW1lPSIzIiwKICAgIG51bWJlcj0iMyIsCiAgICBkb2k9IjEwLjEwMDcvczExMzM0LTAwNy0wMDI2LXoiLAogICAgbm90ZT0iY2l0ZWQgQnkgNTciLAogICAgSUQ9IlNpZGt5MjAwNzIwMyIsCiAgICBwbGFjZXg9Iklubm92YXRpb25zIGluIFN5c3RlbXMgYW5kIFNvZnR3YXJlIEVuZ2luZWVyaW5nIiwKKSkKCkRCKENpdGF0aW9uKAogICAgZXNmYWhhbmkyMDExYSwgc2lka3kyMDA3YSwgcmVmPSIiLAogICAgY29udGV4dHM9WwoKICAgIF0sCikpCgonJycsIGNpdGF0aW9ucz0nZXNmYWhhbmkyMDExYScpOw==\"));\n",
       "    "
      ],
      "text/plain": [
       "<IPython.core.display.Javascript object>"
      ]
     },
     "metadata": {},
     "output_type": "display_data"
    },
    {
     "data": {
      "application/javascript": [
       "$('span:contains(\"# Temp\")').closest('.cell').remove();"
      ],
      "text/plain": [
       "<IPython.core.display.Javascript object>"
      ]
     },
     "metadata": {},
     "output_type": "display_data"
    },
    {
     "data": {
      "application/javascript": [
       "\n",
       "        $('span:contains(\"# Temp\")').closest('.cell').remove();\n",
       "        var code = IPython.notebook.insert_cell_below('code');\n",
       "        code.set_text(atob(\"IyBUZW1wCmluc2VydCgnJycKc2lka3kyMDA3YiA9IERCKFdvcmtVbnJlbGF0ZWQoCiAgICAyMDA3LCAiRGV0ZXJtaW5pbmcgdGhlIGFwcGxpY2FiaWxpdHkgb2YgYWdpbGUgcHJhY3RpY2VzIHRvIG1pc3Npb24gYW5kIGxpZmUtY3JpdGljYWwgc3lzdGVtcyIsCiAgICBkaXNwbGF5PSJzaWRreSBiIiwKICAgIGF1dGhvcnM9IlNpZGt5LCBBLiBhbmQgQXJ0aHVyLCBKLiIsCiAgICBwbGFjZT1JQ1NFLAogICAgcHA9IjMtMTIiLAogICAgZW50cnl0eXBlPSJjb25mZXJlbmNlIiwKICAgIGRvaT0iMTAuMTEwOS9TRVcuMjAwNy42MSIsCiAgICBhcnRfbnVtYmVyPSI0NDAyNzU5IiwKICAgIG5vdGU9ImNpdGVkIEJ5IDE0IiwKICAgIElEPSJTaWRreTIwMDczIiwKICAgIHBsYWNleD0iUHJvY2VlZGluZ3MgLSBJbnRlcm5hdGlvbmFsIENvbmZlcmVuY2Ugb24gU29mdHdhcmUgRW5naW5lZXJpbmciLAopKQoKREIoQ2l0YXRpb24oCiAgICBlc2ZhaGFuaTIwMTFhLCBzaWRreTIwMDdiLCByZWY9IiIsCiAgICBjb250ZXh0cz1bCgogICAgXSwKKSkKCicnJywgY2l0YXRpb25zPSdlc2ZhaGFuaTIwMTFhJyk7\"));\n",
       "    "
      ],
      "text/plain": [
       "<IPython.core.display.Javascript object>"
      ]
     },
     "metadata": {},
     "output_type": "display_data"
    },
    {
     "data": {
      "application/javascript": [
       "$('span:contains(\"# Temp\")').closest('.cell').remove();"
      ],
      "text/plain": [
       "<IPython.core.display.Javascript object>"
      ]
     },
     "metadata": {},
     "output_type": "display_data"
    },
    {
     "data": {
      "application/javascript": [
       "\n",
       "        $('span:contains(\"# Temp\")').closest('.cell').remove();\n",
       "        var code = IPython.notebook.insert_cell_below('code');\n",
       "        code.set_text(atob(\"IyBUZW1wCmluc2VydCgnJycKc2lka3kyMDA3YiA9IERCKFdvcmtVbnJlbGF0ZWQoCiAgICAyMDA3LCAiRGV0ZXJtaW5pbmcgdGhlIGFwcGxpY2FiaWxpdHkgb2YgYWdpbGUgcHJhY3RpY2VzIHRvIG1pc3Npb24gYW5kIGxpZmUtY3JpdGljYWwgc3lzdGVtcyIsCiAgICBkaXNwbGF5PSJzaWRreSBiIiwKICAgIGF1dGhvcnM9IlNpZGt5LCBBLiBhbmQgQXJ0aHVyLCBKLiIsCiAgICBwbGFjZT1JQ1NFLAogICAgcHA9IjMtMTIiLAogICAgZW50cnl0eXBlPSJjb25mZXJlbmNlIiwKICAgIGRvaT0iMTAuMTEwOS9TRVcuMjAwNy42MSIsCiAgICBhcnRfbnVtYmVyPSI0NDAyNzU5IiwKICAgIG5vdGU9ImNpdGVkIEJ5IDE0IiwKICAgIElEPSJTaWRreTIwMDczIiwKICAgIHBsYWNleD0iUHJvY2VlZGluZ3MgLSBJbnRlcm5hdGlvbmFsIENvbmZlcmVuY2Ugb24gU29mdHdhcmUgRW5naW5lZXJpbmciLAopKQoKREIoQ2l0YXRpb24oCiAgICBlc2ZhaGFuaTIwMTFhLCBzaWRreTIwMDdiLCByZWY9IiIsCiAgICBjb250ZXh0cz1bCgogICAgXSwKKSkKCicnJywgY2l0YXRpb25zPSdlc2ZhaGFuaTIwMTFhJyk7\"));\n",
       "    "
      ],
      "text/plain": [
       "<IPython.core.display.Javascript object>"
      ]
     },
     "metadata": {},
     "output_type": "display_data"
    },
    {
     "data": {
      "application/javascript": [
       "$('span:contains(\"# Temp\")').closest('.cell').remove();"
      ],
      "text/plain": [
       "<IPython.core.display.Javascript object>"
      ]
     },
     "metadata": {},
     "output_type": "display_data"
    },
    {
     "data": {
      "application/javascript": [
       "\n",
       "        $('span:contains(\"# Temp\")').closest('.cell').remove();\n",
       "        var code = IPython.notebook.insert_cell_below('code');\n",
       "        code.set_text(atob(\"IyBUZW1wCmluc2VydCgnJycKREIoQ2l0YXRpb24oCiAgICBlc2ZhaGFuaTIwMTFhLCBxdW1lcjIwMDhhLCByZWY9IiIsCiAgICBjb250ZXh0cz1bCgogICAgXSwKKSkKCicnJywgY2l0YXRpb25zPSdlc2ZhaGFuaTIwMTFhJyk7\"));\n",
       "    "
      ],
      "text/plain": [
       "<IPython.core.display.Javascript object>"
      ]
     },
     "metadata": {},
     "output_type": "display_data"
    },
    {
     "data": {
      "application/javascript": [
       "$('span:contains(\"# Temp\")').closest('.cell').remove();"
      ],
      "text/plain": [
       "<IPython.core.display.Javascript object>"
      ]
     },
     "metadata": {},
     "output_type": "display_data"
    },
    {
     "data": {
      "application/javascript": [
       "\n",
       "        $('span:contains(\"# Temp\")').closest('.cell').remove();\n",
       "        var code = IPython.notebook.insert_cell_below('code');\n",
       "        code.set_text(atob(\"IyBUZW1wCmluc2VydCgnJycKREIoQ2l0YXRpb24oCiAgICBlc2ZhaGFuaTIwMTFhLCBxdW1lcjIwMDhhLCByZWY9IiIsCiAgICBjb250ZXh0cz1bCgogICAgXSwKKSkKCicnJywgY2l0YXRpb25zPSdlc2ZhaGFuaTIwMTFhJyk7\"));\n",
       "    "
      ],
      "text/plain": [
       "<IPython.core.display.Javascript object>"
      ]
     },
     "metadata": {},
     "output_type": "display_data"
    },
    {
     "data": {
      "application/javascript": [
       "$('span:contains(\"# Temp\")').closest('.cell').remove();"
      ],
      "text/plain": [
       "<IPython.core.display.Javascript object>"
      ]
     },
     "metadata": {},
     "output_type": "display_data"
    },
    {
     "data": {
      "application/javascript": [
       "\n",
       "        $('span:contains(\"# Temp\")').closest('.cell').remove();\n",
       "        var code = IPython.notebook.insert_cell_below('code');\n",
       "        code.set_text(atob(\"IyBUZW1wCmluc2VydCgnJycKa3Jhc3RldmEyMDEwYSA9IERCKFdvcmtVbnJlbGF0ZWQoCiAgICAyMDEwLCAiRXhwZXJpZW5jZS1iYXNlZCBhcHByb2FjaCBmb3IgYWRvcHRpb24gb2YgYWdpbGUgcHJhY3RpY2VzIGluIHNvZnR3YXJlIGRldmVsb3BtZW50IHByb2plY3RzIiwKICAgIGRpc3BsYXk9ImtyYXN0ZXZhIiwKICAgIGF1dGhvcnM9IktyYXN0ZXZhLCBJLiBhbmQgSWxpZXZhLCBTLiBhbmQgRGltb3YsIEEuIiwKICAgIHBsYWNlPUZBS0UsCiAgICBwcD0iMjY2LTI4MCIsCiAgICBlbnRyeXR5cGU9ImFydGljbGUiLAogICAgdm9sdW1lPSI2MDUxIExOQ1MiLAogICAgZG9pPSIxMC4xMDA3Lzk3OC0zLTY0Mi0xMzA5NC02XzIyIiwKICAgIG5vdGU9ImNpdGVkIEJ5IDciLAogICAgSUQ9IktyYXN0ZXZhMjAxMDI2NiIsCiAgICBwbGFjZXg9IkxlY3R1cmUgTm90ZXMgaW4gQ29tcHV0ZXIgU2NpZW5jZSAoaW5jbHVkaW5nIHN1YnNlcmllcyBMZWN0dXJlIE5vdGVzIGluIEFydGlmaWNpYWwgSW50ZWxsaWdlbmNlIGFuZCBMZWN0dXJlIE5vdGVzIGluIEJpb2luZm9ybWF0aWNzKSIsCikpCgpEQihDaXRhdGlvbigKICAgIGVzZmFoYW5pMjAxMWEsIGtyYXN0ZXZhMjAxMGEsIHJlZj0iIiwKICAgIGNvbnRleHRzPVsKCiAgICBdLAopKQoKJycnLCBjaXRhdGlvbnM9J2VzZmFoYW5pMjAxMWEnKTs=\"));\n",
       "    "
      ],
      "text/plain": [
       "<IPython.core.display.Javascript object>"
      ]
     },
     "metadata": {},
     "output_type": "display_data"
    },
    {
     "data": {
      "application/javascript": [
       "$('span:contains(\"# Temp\")').closest('.cell').remove();"
      ],
      "text/plain": [
       "<IPython.core.display.Javascript object>"
      ]
     },
     "metadata": {},
     "output_type": "display_data"
    },
    {
     "data": {
      "application/javascript": [
       "\n",
       "        $('span:contains(\"# Temp\")').closest('.cell').remove();\n",
       "        var code = IPython.notebook.insert_cell_below('code');\n",
       "        code.set_text(atob(\"IyBUZW1wCmluc2VydCgnJycKa3Jhc3RldmEyMDEwYSA9IERCKFdvcmtVbnJlbGF0ZWQoCiAgICAyMDEwLCAiRXhwZXJpZW5jZS1iYXNlZCBhcHByb2FjaCBmb3IgYWRvcHRpb24gb2YgYWdpbGUgcHJhY3RpY2VzIGluIHNvZnR3YXJlIGRldmVsb3BtZW50IHByb2plY3RzIiwKICAgIGRpc3BsYXk9ImtyYXN0ZXZhIiwKICAgIGF1dGhvcnM9IktyYXN0ZXZhLCBJLiBhbmQgSWxpZXZhLCBTLiBhbmQgRGltb3YsIEEuIiwKICAgIHBsYWNlPUZBS0UsCiAgICBwcD0iMjY2LTI4MCIsCiAgICBlbnRyeXR5cGU9ImFydGljbGUiLAogICAgdm9sdW1lPSI2MDUxIExOQ1MiLAogICAgZG9pPSIxMC4xMDA3Lzk3OC0zLTY0Mi0xMzA5NC02XzIyIiwKICAgIG5vdGU9ImNpdGVkIEJ5IDciLAogICAgSUQ9IktyYXN0ZXZhMjAxMDI2NiIsCiAgICBwbGFjZXg9IkxlY3R1cmUgTm90ZXMgaW4gQ29tcHV0ZXIgU2NpZW5jZSAoaW5jbHVkaW5nIHN1YnNlcmllcyBMZWN0dXJlIE5vdGVzIGluIEFydGlmaWNpYWwgSW50ZWxsaWdlbmNlIGFuZCBMZWN0dXJlIE5vdGVzIGluIEJpb2luZm9ybWF0aWNzKSIsCikpCgpEQihDaXRhdGlvbigKICAgIGVzZmFoYW5pMjAxMWEsIGtyYXN0ZXZhMjAxMGEsIHJlZj0iIiwKICAgIGNvbnRleHRzPVsKCiAgICBdLAopKQoKJycnLCBjaXRhdGlvbnM9J2VzZmFoYW5pMjAxMWEnKTs=\"));\n",
       "    "
      ],
      "text/plain": [
       "<IPython.core.display.Javascript object>"
      ]
     },
     "metadata": {},
     "output_type": "display_data"
    }
   ],
   "source": [
    "import importlib\n",
    "import custom_snowballing\n",
    "importlib.reload(custom_snowballing)\n",
    "from custom_snowballing import UnrelatedBackward\n",
    "UnrelatedBackward(\"esfahani2011a\", articles=article_list)"
   ]
  },
  {
   "cell_type": "code",
   "execution_count": 72,
   "metadata": {},
   "outputs": [
    {
     "name": "stdout",
     "output_type": "stream",
     "text": [
      "-Insert: krasteva2010a\n",
      "-Insert Import: krasteva2010a\n",
      "-Insert Citation: esfahani2011a -> krasteva2010a\n"
     ]
    }
   ],
   "source": [
    "# Temp\n",
    "insert('''\n",
    "krasteva2010a = DB(WorkUnrelated(\n",
    "    2010, \"Experience-based approach for adoption of agile practices in software development projects\",\n",
    "    display=\"krasteva\",\n",
    "    authors=\"Krasteva, I. and Ilieva, S. and Dimov, A.\",\n",
    "    place=FAKE,\n",
    "    pp=\"266-280\",\n",
    "    entrytype=\"article\",\n",
    "    volume=\"6051 LNCS\",\n",
    "    doi=\"10.1007/978-3-642-13094-6_22\",\n",
    "    note=\"cited By 7\",\n",
    "    ID=\"Krasteva2010266\",\n",
    "    placex=\"Lecture Notes in Computer Science (including subseries Lecture Notes in Artificial Intelligence and Lecture Notes in Bioinformatics)\",\n",
    "))\n",
    "\n",
    "DB(Citation(\n",
    "    esfahani2011a, krasteva2010a, ref=\"\",\n",
    "    contexts=[\n",
    "\n",
    "    ],\n",
    "))\n",
    "\n",
    "''', citations='esfahani2011a');"
   ]
  },
  {
   "cell_type": "code",
   "execution_count": null,
   "metadata": {
    "collapsed": true
   },
   "outputs": [],
   "source": []
  }
 ],
 "metadata": {
  "kernelspec": {
   "display_name": "Python 3",
   "language": "python",
   "name": "python3"
  },
  "language_info": {
   "codemirror_mode": {
    "name": "ipython",
    "version": 3
   },
   "file_extension": ".py",
   "mimetype": "text/x-python",
   "name": "python",
   "nbconvert_exporter": "python",
   "pygments_lexer": "ipython3",
   "version": "3.6.0"
  },
  "toc": {
   "nav_menu": {
    "height": "12px",
    "width": "252px"
   },
   "number_sections": true,
   "sideBar": true,
   "skip_h1_title": false,
   "toc_cell": false,
   "toc_position": {},
   "toc_section_display": "block",
   "toc_window_display": false
  }
 },
 "nbformat": 4,
 "nbformat_minor": 2
}
