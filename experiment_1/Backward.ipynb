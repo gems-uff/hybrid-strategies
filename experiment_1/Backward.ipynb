{
 "cells": [
  {
   "cell_type": "code",
   "execution_count": 130,
   "metadata": {
    "collapsed": true
   },
   "outputs": [],
   "source": [
    "import database\n",
    "from snowballing.operations import load_work, reload, work_by_varname\n",
    "from snowballing.snowballing import Converter\n",
    "from snowballing.dbmanager import insert, set_attribute"
   ]
  },
  {
   "cell_type": "code",
   "execution_count": 131,
   "metadata": {
    "scrolled": false
   },
   "outputs": [
    {
     "data": {
      "application/vnd.jupyter.widget-view+json": {
       "model_id": "58a5ea5ec29847289a2ba63d91e550fd",
       "version_major": 2,
       "version_minor": 0
      },
      "text/html": [
       "<p>Failed to display Jupyter Widget of type <code>VBox</code>.</p>\n",
       "<p>\n",
       "  If you're reading this message in Jupyter Notebook or JupyterLab, it may mean\n",
       "  that the widgets JavaScript is still loading. If this message persists, it\n",
       "  likely means that the widgets JavaScript library is either not installed or\n",
       "  not enabled. See the <a href=\"https://ipywidgets.readthedocs.io/en/stable/user_install.html\">Jupyter\n",
       "  Widgets Documentation</a> for setup instructions.\n",
       "</p>\n",
       "<p>\n",
       "  If you're reading this message in another notebook frontend (for example, a static\n",
       "  rendering on GitHub or <a href=\"https://nbviewer.jupyter.org/\">NBViewer</a>),\n",
       "  it may mean that your frontend doesn't currently support widgets.\n",
       "</p>\n"
      ],
      "text/plain": [
       "VBox(children=(HBox(children=(Dropdown(index=1, options={'BibTeX': 'bibtex', 'Text': 'text', '[N] author name place other year': 'citation', 'Quoted': 'quoted'}, value='text'), Button(description='Set article_list variable', disabled=True, style=ButtonStyle()), Label(value=''))), HBox(children=(Textarea(value='', layout=Layout(height='500px', width='50%')), Textarea(value='', layout=Layout(height='500px', width='50%'))))))"
      ]
     },
     "metadata": {},
     "output_type": "display_data"
    }
   ],
   "source": [
    "Converter().browser()"
   ]
  },
  {
   "cell_type": "code",
   "execution_count": 132,
   "metadata": {},
   "outputs": [
    {
     "data": {
      "text/plain": [
       "11"
      ]
     },
     "execution_count": 132,
     "metadata": {},
     "output_type": "execute_result"
    }
   ],
   "source": [
    "len(article_list)"
   ]
  },
  {
   "cell_type": "code",
   "execution_count": 4,
   "metadata": {
    "collapsed": true
   },
   "outputs": [],
   "source": [
    "#from database.work.y2015 import li2015a"
   ]
  },
  {
   "cell_type": "code",
   "execution_count": 5,
   "metadata": {
    "collapsed": true
   },
   "outputs": [],
   "source": [
    "#int(getattr(li2015a, 'scopus', 0))"
   ]
  },
  {
   "cell_type": "code",
   "execution_count": 6,
   "metadata": {},
   "outputs": [],
   "source": [
    "#print(article_list)"
   ]
  },
  {
   "cell_type": "code",
   "execution_count": null,
   "metadata": {
    "collapsed": true
   },
   "outputs": [],
   "source": []
  },
  {
   "cell_type": "code",
   "execution_count": 133,
   "metadata": {},
   "outputs": [
    {
     "data": {
      "application/vnd.jupyter.widget-view+json": {
       "model_id": "0fde9f50313c436e8fe3f78d9584606b",
       "version_major": 2,
       "version_minor": 0
      },
      "text/html": [
       "<p>Failed to display Jupyter Widget of type <code>VBox</code>.</p>\n",
       "<p>\n",
       "  If you're reading this message in Jupyter Notebook or JupyterLab, it may mean\n",
       "  that the widgets JavaScript is still loading. If this message persists, it\n",
       "  likely means that the widgets JavaScript library is either not installed or\n",
       "  not enabled. See the <a href=\"https://ipywidgets.readthedocs.io/en/stable/user_install.html\">Jupyter\n",
       "  Widgets Documentation</a> for setup instructions.\n",
       "</p>\n",
       "<p>\n",
       "  If you're reading this message in another notebook frontend (for example, a static\n",
       "  rendering on GitHub or <a href=\"https://nbviewer.jupyter.org/\">NBViewer</a>),\n",
       "  it may mean that your frontend doesn't currently support widgets.\n",
       "</p>\n"
      ],
      "text/plain": [
       "VBox(children=(HBox(children=(Button(description='Previous Article', disabled=True, icon='caret-left', style=ButtonStyle()), Button(description='Reload Article', icon='refresh', style=ButtonStyle()), Button(description='Next Article', icon='caret-right', style=ButtonStyle()))), HBox(children=(Button(description='Unrelated: Scripts', style=ButtonStyle()), Button(description='Unrelated: Provenance', style=ButtonStyle()), Button(description='Both', style=ButtonStyle()), Button(description='Ok', style=ButtonStyle()))), HBox(children=(Dropdown(description='Type', index=5, options=('Work', 'WorkSnowball', 'WorkForward', 'WorkBackward', 'WorkOk', 'WorkUnrelated', 'WorkNoFile', 'WorkLang', 'Site', 'Email'), value='WorkUnrelated'), ToggleButton(value=False, description='File'))), HBox(children=(Text(value='', description='Due'), Text(value='', description='Place'))), HBox(children=(Text(value='', description='Year'), Text(value='', description='Prefix Var'))), HBox(children=(Text(value='', description='PDFPage'), Text(value='', description='Related'))), HBox(children=(Text(value='', description='Display'), Text(value='', description='Summary'))), HBox(children=(Text(value='', description='Star'), Text(value='', description='Link'))), HBox(children=(Button(description='Reload Article', icon='refresh', style=ButtonStyle()), IntSlider(value=0, max=10), Label(value='1/11'))), Output()))"
      ]
     },
     "metadata": {},
     "output_type": "display_data"
    },
    {
     "data": {
      "application/javascript": [
       "$('span:contains(\"# Temp\")').closest('.cell').remove();"
      ],
      "text/plain": [
       "<IPython.core.display.Javascript object>"
      ]
     },
     "metadata": {},
     "output_type": "display_data"
    },
    {
     "data": {
      "application/javascript": [
       "\n",
       "        $('span:contains(\"# Temp\")').closest('.cell').remove();\n",
       "        var code = IPython.notebook.insert_cell_below('code');\n",
       "        code.set_text(atob(\"IyBUZW1wCmluc2VydCgnJycKREIoQ2l0YXRpb24oCiAgICBiYXNpbGkyMDEwYSwgYmFzaWxpMTk5NGEsIHJlZj0iIiwKICAgIGNvbnRleHRzPVsKCiAgICBdLAopKQoKJycnLCBjaXRhdGlvbnM9J2Jhc2lsaTIwMTBhJyk7\"));\n",
       "    "
      ],
      "text/plain": [
       "<IPython.core.display.Javascript object>"
      ]
     },
     "metadata": {},
     "output_type": "display_data"
    },
    {
     "data": {
      "application/javascript": [
       "$('span:contains(\"# Temp\")').closest('.cell').remove();"
      ],
      "text/plain": [
       "<IPython.core.display.Javascript object>"
      ]
     },
     "metadata": {},
     "output_type": "display_data"
    },
    {
     "data": {
      "application/javascript": [
       "\n",
       "        $('span:contains(\"# Temp\")').closest('.cell').remove();\n",
       "        var code = IPython.notebook.insert_cell_below('code');\n",
       "        code.set_text(atob(\"IyBUZW1wCmluc2VydCgnJycKREIoQ2l0YXRpb24oCiAgICBiYXNpbGkyMDEwYSwgYmFzaWxpMjAwN2EsIHJlZj0iIiwKICAgIGNvbnRleHRzPVsKCiAgICBdLAopKQoKJycnLCBjaXRhdGlvbnM9J2Jhc2lsaTIwMTBhJyk7\"));\n",
       "    "
      ],
      "text/plain": [
       "<IPython.core.display.Javascript object>"
      ]
     },
     "metadata": {},
     "output_type": "display_data"
    },
    {
     "data": {
      "application/javascript": [
       "$('span:contains(\"# Temp\")').closest('.cell').remove();"
      ],
      "text/plain": [
       "<IPython.core.display.Javascript object>"
      ]
     },
     "metadata": {},
     "output_type": "display_data"
    },
    {
     "data": {
      "application/javascript": [
       "\n",
       "        $('span:contains(\"# Temp\")').closest('.cell').remove();\n",
       "        var code = IPython.notebook.insert_cell_below('code');\n",
       "        code.set_text(atob(\"IyBUZW1wCmluc2VydCgnJycKREIoQ2l0YXRpb24oCiAgICBiYXNpbGkyMDEwYSwgYmFzaWxpMjAwN2EsIHJlZj0iIiwKICAgIGNvbnRleHRzPVsKCiAgICBdLAopKQoKJycnLCBjaXRhdGlvbnM9J2Jhc2lsaTIwMTBhJyk7\"));\n",
       "    "
      ],
      "text/plain": [
       "<IPython.core.display.Javascript object>"
      ]
     },
     "metadata": {},
     "output_type": "display_data"
    },
    {
     "data": {
      "application/javascript": [
       "$('span:contains(\"# Temp\")').closest('.cell').remove();"
      ],
      "text/plain": [
       "<IPython.core.display.Javascript object>"
      ]
     },
     "metadata": {},
     "output_type": "display_data"
    },
    {
     "data": {
      "application/javascript": [
       "\n",
       "        $('span:contains(\"# Temp\")').closest('.cell').remove();\n",
       "        var code = IPython.notebook.insert_cell_below('code');\n",
       "        code.set_text(atob(\"IyBUZW1wCmluc2VydCgnJycKREIoQ2l0YXRpb24oCiAgICBiYXNpbGkyMDEwYSwga2FwbGFuMTk5MmEsIHJlZj0iIiwKICAgIGNvbnRleHRzPVsKCiAgICBdLAopKQoKJycnLCBjaXRhdGlvbnM9J2Jhc2lsaTIwMTBhJyk7\"));\n",
       "    "
      ],
      "text/plain": [
       "<IPython.core.display.Javascript object>"
      ]
     },
     "metadata": {},
     "output_type": "display_data"
    },
    {
     "data": {
      "application/javascript": [
       "$('span:contains(\"# Temp\")').closest('.cell').remove();"
      ],
      "text/plain": [
       "<IPython.core.display.Javascript object>"
      ]
     },
     "metadata": {},
     "output_type": "display_data"
    },
    {
     "data": {
      "application/javascript": [
       "\n",
       "        $('span:contains(\"# Temp\")').closest('.cell').remove();\n",
       "        var code = IPython.notebook.insert_cell_below('code');\n",
       "        code.set_text(atob(\"IyBUZW1wCmluc2VydCgnJycKREIoQ2l0YXRpb24oCiAgICBiYXNpbGkyMDEwYSwga2FwbGFuMTk5MmEsIHJlZj0iIiwKICAgIGNvbnRleHRzPVsKCiAgICBdLAopKQoKJycnLCBjaXRhdGlvbnM9J2Jhc2lsaTIwMTBhJyk7\"));\n",
       "    "
      ],
      "text/plain": [
       "<IPython.core.display.Javascript object>"
      ]
     },
     "metadata": {},
     "output_type": "display_data"
    },
    {
     "data": {
      "application/javascript": [
       "$('span:contains(\"# Temp\")').closest('.cell').remove();"
      ],
      "text/plain": [
       "<IPython.core.display.Javascript object>"
      ]
     },
     "metadata": {},
     "output_type": "display_data"
    },
    {
     "data": {
      "application/javascript": [
       "\n",
       "        $('span:contains(\"# Temp\")').closest('.cell').remove();\n",
       "        var code = IPython.notebook.insert_cell_below('code');\n",
       "        code.set_text(atob(\"IyBUZW1wCmluc2VydCgnJycKdXNkZHVzYTIwMDNhID0gREIoV29ya1VucmVsYXRlZCgKICAgIDIwMDMsICJQcmFjdGljYWwgU29mdHdhcmUgYW5kIFN5c3RlbXMgTWVhc3VyZW1lbnQ6IEEgRm91bmRhdGlvbiBmb3IgT2JqZWN0aXZlIFByb2plY3QgTWFuYWdlbWVudCIsCiAgICBkaXNwbGF5PSJ1c2RkdXNhIiwKICAgIGF1dGhvcnM9IlVTRERVU0EiLAogICAgcGxhY2U9RkFLRSwKICAgIGVudHJ5dHlwZT0iYXJ0aWNsZSIsCiAgICBub3RlPSJjaXRlZCBCeSA4IiwKICAgIElEPSJVU0REVVNBMjAwMyIsCiAgICBwbGFjZXg9IlVTIERlcHQuIG9mIERlZmVuc2UgYW5kIFVTIEFybXksIiwKKSkKCkRCKENpdGF0aW9uKAogICAgYmFzaWxpMjAxMGEsIHVzZGR1c2EyMDAzYSwgcmVmPSIiLAogICAgY29udGV4dHM9WwoKICAgIF0sCikpCgonJycsIGNpdGF0aW9ucz0nYmFzaWxpMjAxMGEnKTs=\"));\n",
       "    "
      ],
      "text/plain": [
       "<IPython.core.display.Javascript object>"
      ]
     },
     "metadata": {},
     "output_type": "display_data"
    },
    {
     "data": {
      "application/javascript": [
       "$('span:contains(\"# Temp\")').closest('.cell').remove();"
      ],
      "text/plain": [
       "<IPython.core.display.Javascript object>"
      ]
     },
     "metadata": {},
     "output_type": "display_data"
    },
    {
     "data": {
      "application/javascript": [
       "\n",
       "        $('span:contains(\"# Temp\")').closest('.cell').remove();\n",
       "        var code = IPython.notebook.insert_cell_below('code');\n",
       "        code.set_text(atob(\"IyBUZW1wCmluc2VydCgnJycKdXNkZHVzYTIwMDNhID0gREIoV29ya1VucmVsYXRlZCgKICAgIDIwMDMsICJQcmFjdGljYWwgU29mdHdhcmUgYW5kIFN5c3RlbXMgTWVhc3VyZW1lbnQ6IEEgRm91bmRhdGlvbiBmb3IgT2JqZWN0aXZlIFByb2plY3QgTWFuYWdlbWVudCIsCiAgICBkaXNwbGF5PSJ1c2RkdXNhIiwKICAgIGF1dGhvcnM9IlVTRERVU0EiLAogICAgcGxhY2U9RkFLRSwKICAgIGVudHJ5dHlwZT0iYXJ0aWNsZSIsCiAgICBub3RlPSJjaXRlZCBCeSA4IiwKICAgIElEPSJVU0REVVNBMjAwMyIsCiAgICBwbGFjZXg9IlVTIERlcHQuIG9mIERlZmVuc2UgYW5kIFVTIEFybXksIiwKKSkKCkRCKENpdGF0aW9uKAogICAgYmFzaWxpMjAxMGEsIHVzZGR1c2EyMDAzYSwgcmVmPSIiLAogICAgY29udGV4dHM9WwoKICAgIF0sCikpCgonJycsIGNpdGF0aW9ucz0nYmFzaWxpMjAxMGEnKTs=\"));\n",
       "    "
      ],
      "text/plain": [
       "<IPython.core.display.Javascript object>"
      ]
     },
     "metadata": {},
     "output_type": "display_data"
    },
    {
     "data": {
      "application/javascript": [
       "$('span:contains(\"# Temp\")').closest('.cell').remove();"
      ],
      "text/plain": [
       "<IPython.core.display.Javascript object>"
      ]
     },
     "metadata": {},
     "output_type": "display_data"
    },
    {
     "data": {
      "application/javascript": [
       "\n",
       "        $('span:contains(\"# Temp\")').closest('.cell').remove();\n",
       "        var code = IPython.notebook.insert_cell_below('code');\n",
       "        code.set_text(atob(\"IyBUZW1wCmluc2VydCgnJycKREIoQ2l0YXRpb24oCiAgICBiYXNpbGkyMDEwYSwgYmVja2VyMTk5OWEsIHJlZj0iIiwKICAgIGNvbnRleHRzPVsKCiAgICBdLAopKQoKJycnLCBjaXRhdGlvbnM9J2Jhc2lsaTIwMTBhJyk7\"));\n",
       "    "
      ],
      "text/plain": [
       "<IPython.core.display.Javascript object>"
      ]
     },
     "metadata": {},
     "output_type": "display_data"
    },
    {
     "data": {
      "application/javascript": [
       "$('span:contains(\"# Temp\")').closest('.cell').remove();"
      ],
      "text/plain": [
       "<IPython.core.display.Javascript object>"
      ]
     },
     "metadata": {},
     "output_type": "display_data"
    },
    {
     "data": {
      "application/javascript": [
       "\n",
       "        $('span:contains(\"# Temp\")').closest('.cell').remove();\n",
       "        var code = IPython.notebook.insert_cell_below('code');\n",
       "        code.set_text(atob(\"IyBUZW1wCmluc2VydCgnJycKREIoQ2l0YXRpb24oCiAgICBiYXNpbGkyMDEwYSwgYmVja2VyMTk5OWEsIHJlZj0iIiwKICAgIGNvbnRleHRzPVsKCiAgICBdLAopKQoKJycnLCBjaXRhdGlvbnM9J2Jhc2lsaTIwMTBhJyk7\"));\n",
       "    "
      ],
      "text/plain": [
       "<IPython.core.display.Javascript object>"
      ]
     },
     "metadata": {},
     "output_type": "display_data"
    },
    {
     "data": {
      "application/javascript": [
       "$('span:contains(\"# Temp\")').closest('.cell').remove();"
      ],
      "text/plain": [
       "<IPython.core.display.Javascript object>"
      ]
     },
     "metadata": {},
     "output_type": "display_data"
    },
    {
     "data": {
      "application/javascript": [
       "\n",
       "        $('span:contains(\"# Temp\")').closest('.cell').remove();\n",
       "        var code = IPython.notebook.insert_cell_below('code');\n",
       "        code.set_text(atob(\"IyBUZW1wCmluc2VydCgnJycKYnVnbGlvbmUyMDAwYSA9IERCKFdvcmtVbnJlbGF0ZWQoCiAgICAyMDAwLCAiQmFsYW5jZWQgc2NvcmVjYXJkcyBhbmQgR1FNOiBXaGF0IGFyZSB0aGUgZGlmZmVyZW5jZXM/IiwKICAgIGRpc3BsYXk9ImJ1Z2xpb25lIiwKICAgIGF1dGhvcnM9IkJ1Z2xpb25lLCBMLiBhbmQgQWJyYW4sIEEuIiwKICAgIHBsYWNlPUZBS0UsCiAgICBwcD0iMTgtMjAiLAogICAgZW50cnl0eXBlPSJhcnRpY2xlIiwKICAgIG5vdGU9ImNpdGVkIEJ5IDMiLAogICAgSUQ9IkJ1Z2xpb25lMjAwMDE4IiwKICAgIHBsYWNleD0iUHJvYy4gM3JkIEV1cm9wZWFuIFNvZnR3YXJlIE1lYXN1cmVtZW50IENvbmYuIiwKKSkKCkRCKENpdGF0aW9uKAogICAgYmFzaWxpMjAxMGEsIGJ1Z2xpb25lMjAwMGEsIHJlZj0iIiwKICAgIGNvbnRleHRzPVsKCiAgICBdLAopKQoKJycnLCBjaXRhdGlvbnM9J2Jhc2lsaTIwMTBhJyk7\"));\n",
       "    "
      ],
      "text/plain": [
       "<IPython.core.display.Javascript object>"
      ]
     },
     "metadata": {},
     "output_type": "display_data"
    },
    {
     "data": {
      "application/javascript": [
       "$('span:contains(\"# Temp\")').closest('.cell').remove();"
      ],
      "text/plain": [
       "<IPython.core.display.Javascript object>"
      ]
     },
     "metadata": {},
     "output_type": "display_data"
    },
    {
     "data": {
      "application/javascript": [
       "\n",
       "        $('span:contains(\"# Temp\")').closest('.cell').remove();\n",
       "        var code = IPython.notebook.insert_cell_below('code');\n",
       "        code.set_text(atob(\"IyBUZW1wCmluc2VydCgnJycKYnVnbGlvbmUyMDAwYSA9IERCKFdvcmtVbnJlbGF0ZWQoCiAgICAyMDAwLCAiQmFsYW5jZWQgc2NvcmVjYXJkcyBhbmQgR1FNOiBXaGF0IGFyZSB0aGUgZGlmZmVyZW5jZXM/IiwKICAgIGRpc3BsYXk9ImJ1Z2xpb25lIiwKICAgIGF1dGhvcnM9IkJ1Z2xpb25lLCBMLiBhbmQgQWJyYW4sIEEuIiwKICAgIHBsYWNlPUZBS0UsCiAgICBwcD0iMTgtMjAiLAogICAgZW50cnl0eXBlPSJhcnRpY2xlIiwKICAgIG5vdGU9ImNpdGVkIEJ5IDMiLAogICAgSUQ9IkJ1Z2xpb25lMjAwMDE4IiwKICAgIHBsYWNleD0iUHJvYy4gM3JkIEV1cm9wZWFuIFNvZnR3YXJlIE1lYXN1cmVtZW50IENvbmYuIiwKKSkKCkRCKENpdGF0aW9uKAogICAgYmFzaWxpMjAxMGEsIGJ1Z2xpb25lMjAwMGEsIHJlZj0iIiwKICAgIGNvbnRleHRzPVsKCiAgICBdLAopKQoKJycnLCBjaXRhdGlvbnM9J2Jhc2lsaTIwMTBhJyk7\"));\n",
       "    "
      ],
      "text/plain": [
       "<IPython.core.display.Javascript object>"
      ]
     },
     "metadata": {},
     "output_type": "display_data"
    },
    {
     "data": {
      "application/javascript": [
       "$('span:contains(\"# Temp\")').closest('.cell').remove();"
      ],
      "text/plain": [
       "<IPython.core.display.Javascript object>"
      ]
     },
     "metadata": {},
     "output_type": "display_data"
    },
    {
     "data": {
      "application/javascript": [
       "\n",
       "        $('span:contains(\"# Temp\")').closest('.cell').remove();\n",
       "        var code = IPython.notebook.insert_cell_below('code');\n",
       "        code.set_text(atob(\"IyBUZW1wCmluc2VydCgnJycKYmlhbmNoaTIwMDFhID0gREIoV29ya1VucmVsYXRlZCgKICAgIDIwMDEsICJNYW5hZ2VtZW50IGluZGljYXRvcnMgbW9kZWwgdG8gZXZhbHVhdGUgcGVyZm9ybWFuY2Ugb2YgSVQgb3JnYW5pemF0aW9ucyIsCiAgICBkaXNwbGF5PSJiaWFuY2hpIiwKICAgIGF1dGhvcnM9IkJpYW5jaGksIEEuSi4iLAogICAgcGxhY2U9RkFLRSwKICAgIHBwPSIyMTctMjI5IiwKICAgIGVudHJ5dHlwZT0iY29uZmVyZW5jZSIsCiAgICBub3RlPSJjaXRlZCBCeSAxNCIsCiAgICBJRD0iQmlhbmNoaTIwMDEyMTciLAogICAgcGxhY2V4PSJQSUNNRVQiLAopKQoKREIoQ2l0YXRpb24oCiAgICBiYXNpbGkyMDEwYSwgYmlhbmNoaTIwMDFhLCByZWY9IiIsCiAgICBjb250ZXh0cz1bCgogICAgXSwKKSkKCicnJywgY2l0YXRpb25zPSdiYXNpbGkyMDEwYScpOw==\"));\n",
       "    "
      ],
      "text/plain": [
       "<IPython.core.display.Javascript object>"
      ]
     },
     "metadata": {},
     "output_type": "display_data"
    },
    {
     "data": {
      "application/javascript": [
       "$('span:contains(\"# Temp\")').closest('.cell').remove();"
      ],
      "text/plain": [
       "<IPython.core.display.Javascript object>"
      ]
     },
     "metadata": {},
     "output_type": "display_data"
    },
    {
     "data": {
      "application/javascript": [
       "\n",
       "        $('span:contains(\"# Temp\")').closest('.cell').remove();\n",
       "        var code = IPython.notebook.insert_cell_below('code');\n",
       "        code.set_text(atob(\"IyBUZW1wCmluc2VydCgnJycKYmlhbmNoaTIwMDFhID0gREIoV29ya1VucmVsYXRlZCgKICAgIDIwMDEsICJNYW5hZ2VtZW50IGluZGljYXRvcnMgbW9kZWwgdG8gZXZhbHVhdGUgcGVyZm9ybWFuY2Ugb2YgSVQgb3JnYW5pemF0aW9ucyIsCiAgICBkaXNwbGF5PSJiaWFuY2hpIiwKICAgIGF1dGhvcnM9IkJpYW5jaGksIEEuSi4iLAogICAgcGxhY2U9RkFLRSwKICAgIHBwPSIyMTctMjI5IiwKICAgIGVudHJ5dHlwZT0iY29uZmVyZW5jZSIsCiAgICBub3RlPSJjaXRlZCBCeSAxNCIsCiAgICBJRD0iQmlhbmNoaTIwMDEyMTciLAogICAgcGxhY2V4PSJQSUNNRVQiLAopKQoKREIoQ2l0YXRpb24oCiAgICBiYXNpbGkyMDEwYSwgYmlhbmNoaTIwMDFhLCByZWY9IiIsCiAgICBjb250ZXh0cz1bCgogICAgXSwKKSkKCicnJywgY2l0YXRpb25zPSdiYXNpbGkyMDEwYScpOw==\"));\n",
       "    "
      ],
      "text/plain": [
       "<IPython.core.display.Javascript object>"
      ]
     },
     "metadata": {},
     "output_type": "display_data"
    },
    {
     "data": {
      "application/javascript": [
       "$('span:contains(\"# Temp\")').closest('.cell').remove();"
      ],
      "text/plain": [
       "<IPython.core.display.Javascript object>"
      ]
     },
     "metadata": {},
     "output_type": "display_data"
    },
    {
     "data": {
      "application/javascript": [
       "\n",
       "        $('span:contains(\"# Temp\")').closest('.cell').remove();\n",
       "        var code = IPython.notebook.insert_cell_below('code');\n",
       "        code.set_text(atob(\"IyBUZW1wCmluc2VydCgnJycKY2FyZDIwMDNiID0gREIoV29ya1VucmVsYXRlZCgKICAgIDIwMDMsICJJbnRlZ3JhdGluZyBQcmFjdGljYWwgU29mdHdhcmUgTWVhc3VyZW1lbnQgYW5kIHRoZSBCYWxhbmNlZCBTY29yZWNhcmQiLAogICAgZGlzcGxheT0iY2FyZCBiIiwKICAgIGF1dGhvcnM9IkNhcmQsIEQuIiwKICAgIHBsYWNlPUZBS0UsCiAgICBwcD0iMzYyLTM2NyIsCiAgICBlbnRyeXR5cGU9ImNvbmZlcmVuY2UiLAogICAgbm90ZT0iY2l0ZWQgQnkgNCIsCiAgICBJRD0iQ2FyZDIwMDMzNjIiLAogICAgcGxhY2V4PSJQcm9jZWVkaW5ncyAtIElFRUUgQ29tcHV0ZXIgU29jaWV0eSdzIEludGVybmF0aW9uYWwgQ29tcHV0ZXIgU29mdHdhcmUgYW5kIEFwcGxpY2F0aW9ucyBDb25mZXJlbmNlIiwKKSkKCkRCKENpdGF0aW9uKAogICAgYmFzaWxpMjAxMGEsIGNhcmQyMDAzYiwgcmVmPSIiLAogICAgY29udGV4dHM9WwoKICAgIF0sCikpCgonJycsIGNpdGF0aW9ucz0nYmFzaWxpMjAxMGEnKTs=\"));\n",
       "    "
      ],
      "text/plain": [
       "<IPython.core.display.Javascript object>"
      ]
     },
     "metadata": {},
     "output_type": "display_data"
    },
    {
     "data": {
      "application/javascript": [
       "$('span:contains(\"# Temp\")').closest('.cell').remove();"
      ],
      "text/plain": [
       "<IPython.core.display.Javascript object>"
      ]
     },
     "metadata": {},
     "output_type": "display_data"
    },
    {
     "data": {
      "application/javascript": [
       "\n",
       "        $('span:contains(\"# Temp\")').closest('.cell').remove();\n",
       "        var code = IPython.notebook.insert_cell_below('code');\n",
       "        code.set_text(atob(\"IyBUZW1wCmluc2VydCgnJycKY2FyZDIwMDNiID0gREIoV29ya1VucmVsYXRlZCgKICAgIDIwMDMsICJJbnRlZ3JhdGluZyBQcmFjdGljYWwgU29mdHdhcmUgTWVhc3VyZW1lbnQgYW5kIHRoZSBCYWxhbmNlZCBTY29yZWNhcmQiLAogICAgZGlzcGxheT0iY2FyZCBiIiwKICAgIGF1dGhvcnM9IkNhcmQsIEQuIiwKICAgIHBsYWNlPUZBS0UsCiAgICBwcD0iMzYyLTM2NyIsCiAgICBlbnRyeXR5cGU9ImNvbmZlcmVuY2UiLAogICAgbm90ZT0iY2l0ZWQgQnkgNCIsCiAgICBJRD0iQ2FyZDIwMDMzNjIiLAogICAgcGxhY2V4PSJQcm9jZWVkaW5ncyAtIElFRUUgQ29tcHV0ZXIgU29jaWV0eSdzIEludGVybmF0aW9uYWwgQ29tcHV0ZXIgU29mdHdhcmUgYW5kIEFwcGxpY2F0aW9ucyBDb25mZXJlbmNlIiwKKSkKCkRCKENpdGF0aW9uKAogICAgYmFzaWxpMjAxMGEsIGNhcmQyMDAzYiwgcmVmPSIiLAogICAgY29udGV4dHM9WwoKICAgIF0sCikpCgonJycsIGNpdGF0aW9ucz0nYmFzaWxpMjAxMGEnKTs=\"));\n",
       "    "
      ],
      "text/plain": [
       "<IPython.core.display.Javascript object>"
      ]
     },
     "metadata": {},
     "output_type": "display_data"
    },
    {
     "data": {
      "application/javascript": [
       "$('span:contains(\"# Temp\")').closest('.cell').remove();"
      ],
      "text/plain": [
       "<IPython.core.display.Javascript object>"
      ]
     },
     "metadata": {},
     "output_type": "display_data"
    },
    {
     "data": {
      "application/javascript": [
       "\n",
       "        $('span:contains(\"# Temp\")').closest('.cell').remove();\n",
       "        var code = IPython.notebook.insert_cell_below('code');\n",
       "        code.set_text(atob(\"IyBUZW1wCmluc2VydCgnJycKY29kZTIwMTBhID0gREIoV29ya1VucmVsYXRlZCgKICAgIDIwMTAsICJTYXJiYW5lcy1PeGxleSIsCiAgICBkaXNwbGF5PSJjb2RlIiwKICAgIGF1dGhvcnM9IlVTIENvZGUiLAogICAgcGxhY2U9RkFLRSwKICAgIGVudHJ5dHlwZT0iYXJ0aWNsZSIsCiAgICBub3RlPSJjaXRlZCBCeSAxIiwKICAgIElEPSJVUzIwMDIiLAogICAgcGxhY2V4PSJQdWJsaWMgTGF3IE5vLiAxMDctMjA0IiwKKSkKCkRCKENpdGF0aW9uKAogICAgYmFzaWxpMjAxMGEsIGNvZGUyMDEwYSwgcmVmPSIiLAogICAgY29udGV4dHM9WwoKICAgIF0sCikpCgonJycsIGNpdGF0aW9ucz0nYmFzaWxpMjAxMGEnKTs=\"));\n",
       "    "
      ],
      "text/plain": [
       "<IPython.core.display.Javascript object>"
      ]
     },
     "metadata": {},
     "output_type": "display_data"
    },
    {
     "data": {
      "application/javascript": [
       "$('span:contains(\"# Temp\")').closest('.cell').remove();"
      ],
      "text/plain": [
       "<IPython.core.display.Javascript object>"
      ]
     },
     "metadata": {},
     "output_type": "display_data"
    },
    {
     "data": {
      "application/javascript": [
       "\n",
       "        $('span:contains(\"# Temp\")').closest('.cell').remove();\n",
       "        var code = IPython.notebook.insert_cell_below('code');\n",
       "        code.set_text(atob(\"IyBUZW1wCmluc2VydCgnJycKY29kZTIwMTBhID0gREIoV29ya1VucmVsYXRlZCgKICAgIDIwMTAsICJTYXJiYW5lcy1PeGxleSIsCiAgICBkaXNwbGF5PSJjb2RlIiwKICAgIGF1dGhvcnM9IlVTIENvZGUiLAogICAgcGxhY2U9RkFLRSwKICAgIGVudHJ5dHlwZT0iYXJ0aWNsZSIsCiAgICBub3RlPSJjaXRlZCBCeSAxIiwKICAgIElEPSJVUzIwMDIiLAogICAgcGxhY2V4PSJQdWJsaWMgTGF3IE5vLiAxMDctMjA0IiwKKSkKCkRCKENpdGF0aW9uKAogICAgYmFzaWxpMjAxMGEsIGNvZGUyMDEwYSwgcmVmPSIiLAogICAgY29udGV4dHM9WwoKICAgIF0sCikpCgonJycsIGNpdGF0aW9ucz0nYmFzaWxpMjAxMGEnKTs=\"));\n",
       "    "
      ],
      "text/plain": [
       "<IPython.core.display.Javascript object>"
      ]
     },
     "metadata": {},
     "output_type": "display_data"
    },
    {
     "data": {
      "application/javascript": [
       "$('span:contains(\"# Temp\")').closest('.cell').remove();"
      ],
      "text/plain": [
       "<IPython.core.display.Javascript object>"
      ]
     },
     "metadata": {},
     "output_type": "display_data"
    },
    {
     "data": {
      "application/javascript": [
       "\n",
       "        $('span:contains(\"# Temp\")').closest('.cell').remove();\n",
       "        var code = IPython.notebook.insert_cell_below('code');\n",
       "        code.set_text(atob(\"IyBUZW1wCmluc2VydCgnJycKY2xlZ2cxOTk0YSA9IERCKFdvcmtVbnJlbGF0ZWQoCiAgICAxOTk0LCAiQ2FzZSBNZXRob2QgRmFzdC1UcmFjazogQSBSQUQgQXBwcm9hY2giLAogICAgZGlzcGxheT0iY2xlZ2ciLAogICAgYXV0aG9ycz0iQ2xlZ2csIEQuIGFuZCBCYXJrZXIsIFIuIiwKICAgIHBsYWNlPUZBS0UsCiAgICBlbnRyeXR5cGU9ImFydGljbGUiLAogICAgbm90ZT0iY2l0ZWQgQnkgMjUiLAogICAgSUQ9IkNsZWdnMTk5NCIsCiAgICBwbGFjZXg9IkFkZGlzb24tV2VzbGV5IFByb2Zlc3Npb25hbCIsCikpCgpEQihDaXRhdGlvbigKICAgIGJhc2lsaTIwMTBhLCBjbGVnZzE5OTRhLCByZWY9IiIsCiAgICBjb250ZXh0cz1bCgogICAgXSwKKSkKCicnJywgY2l0YXRpb25zPSdiYXNpbGkyMDEwYScpOw==\"));\n",
       "    "
      ],
      "text/plain": [
       "<IPython.core.display.Javascript object>"
      ]
     },
     "metadata": {},
     "output_type": "display_data"
    },
    {
     "data": {
      "application/javascript": [
       "$('span:contains(\"# Temp\")').closest('.cell').remove();"
      ],
      "text/plain": [
       "<IPython.core.display.Javascript object>"
      ]
     },
     "metadata": {},
     "output_type": "display_data"
    },
    {
     "data": {
      "application/javascript": [
       "\n",
       "        $('span:contains(\"# Temp\")').closest('.cell').remove();\n",
       "        var code = IPython.notebook.insert_cell_below('code');\n",
       "        code.set_text(atob(\"IyBUZW1wCmluc2VydCgnJycKY2xlZ2cxOTk0YSA9IERCKFdvcmtVbnJlbGF0ZWQoCiAgICAxOTk0LCAiQ2FzZSBNZXRob2QgRmFzdC1UcmFjazogQSBSQUQgQXBwcm9hY2giLAogICAgZGlzcGxheT0iY2xlZ2ciLAogICAgYXV0aG9ycz0iQ2xlZ2csIEQuIGFuZCBCYXJrZXIsIFIuIiwKICAgIHBsYWNlPUZBS0UsCiAgICBlbnRyeXR5cGU9ImFydGljbGUiLAogICAgbm90ZT0iY2l0ZWQgQnkgMjUiLAogICAgSUQ9IkNsZWdnMTk5NCIsCiAgICBwbGFjZXg9IkFkZGlzb24tV2VzbGV5IFByb2Zlc3Npb25hbCIsCikpCgpEQihDaXRhdGlvbigKICAgIGJhc2lsaTIwMTBhLCBjbGVnZzE5OTRhLCByZWY9IiIsCiAgICBjb250ZXh0cz1bCgogICAgXSwKKSkKCicnJywgY2l0YXRpb25zPSdiYXNpbGkyMDEwYScpOw==\"));\n",
       "    "
      ],
      "text/plain": [
       "<IPython.core.display.Javascript object>"
      ]
     },
     "metadata": {},
     "output_type": "display_data"
    },
    {
     "data": {
      "application/javascript": [
       "$('span:contains(\"# Temp\")').closest('.cell').remove();"
      ],
      "text/plain": [
       "<IPython.core.display.Javascript object>"
      ]
     },
     "metadata": {},
     "output_type": "display_data"
    },
    {
     "data": {
      "application/javascript": [
       "\n",
       "        $('span:contains(\"# Temp\")').closest('.cell').remove();\n",
       "        var code = IPython.notebook.insert_cell_below('code');\n",
       "        code.set_text(atob(\"IyBUZW1wCmluc2VydCgnJycKYm9laG0yMDAwYSA9IERCKFdvcmtVbnJlbGF0ZWQoCiAgICAyMDAwLCAiQ29zdCBFc3RpbWF0aW9uIHdpdGggQ09DT01PIElJIiwKICAgIGRpc3BsYXk9ImJvZWhtIiwKICAgIGF1dGhvcnM9IkJvZWhtLCBCLlcuIiwKICAgIHBsYWNlPUZBS0UsCiAgICBlbnRyeXR5cGU9ImFydGljbGUiLAogICAgbm90ZT0iY2l0ZWQgQnkgMTE5NiIsCiAgICBJRD0iQm9laG0yMDAwIiwKICAgIHBsYWNleD0iUHJlbnRpY2UgSGFsbFNvZnR3YXJlIiwKKSkKCkRCKENpdGF0aW9uKAogICAgYmFzaWxpMjAxMGEsIGJvZWhtMjAwMGEsIHJlZj0iIiwKICAgIGNvbnRleHRzPVsKCiAgICBdLAopKQoKJycnLCBjaXRhdGlvbnM9J2Jhc2lsaTIwMTBhJyk7\"));\n",
       "    "
      ],
      "text/plain": [
       "<IPython.core.display.Javascript object>"
      ]
     },
     "metadata": {},
     "output_type": "display_data"
    },
    {
     "data": {
      "application/javascript": [
       "$('span:contains(\"# Temp\")').closest('.cell').remove();"
      ],
      "text/plain": [
       "<IPython.core.display.Javascript object>"
      ]
     },
     "metadata": {},
     "output_type": "display_data"
    },
    {
     "data": {
      "application/javascript": [
       "\n",
       "        $('span:contains(\"# Temp\")').closest('.cell').remove();\n",
       "        var code = IPython.notebook.insert_cell_below('code');\n",
       "        code.set_text(atob(\"IyBUZW1wCmluc2VydCgnJycKYm9laG0yMDAwYSA9IERCKFdvcmtVbnJlbGF0ZWQoCiAgICAyMDAwLCAiQ29zdCBFc3RpbWF0aW9uIHdpdGggQ09DT01PIElJIiwKICAgIGRpc3BsYXk9ImJvZWhtIiwKICAgIGF1dGhvcnM9IkJvZWhtLCBCLlcuIiwKICAgIHBsYWNlPUZBS0UsCiAgICBlbnRyeXR5cGU9ImFydGljbGUiLAogICAgbm90ZT0iY2l0ZWQgQnkgMTE5NiIsCiAgICBJRD0iQm9laG0yMDAwIiwKICAgIHBsYWNleD0iUHJlbnRpY2UgSGFsbFNvZnR3YXJlIiwKKSkKCkRCKENpdGF0aW9uKAogICAgYmFzaWxpMjAxMGEsIGJvZWhtMjAwMGEsIHJlZj0iIiwKICAgIGNvbnRleHRzPVsKCiAgICBdLAopKQoKJycnLCBjaXRhdGlvbnM9J2Jhc2lsaTIwMTBhJyk7\"));\n",
       "    "
      ],
      "text/plain": [
       "<IPython.core.display.Javascript object>"
      ]
     },
     "metadata": {},
     "output_type": "display_data"
    }
   ],
   "source": [
    "import importlib\n",
    "import custom_snowballing\n",
    "importlib.reload(custom_snowballing)\n",
    "from custom_snowballing import UnrelatedBackward\n",
    "UnrelatedBackward(\"basili2010a\", articles=article_list)"
   ]
  },
  {
   "cell_type": "code",
   "execution_count": 144,
   "metadata": {},
   "outputs": [
    {
     "name": "stdout",
     "output_type": "stream",
     "text": [
      "-Insert: boehm2000a\n",
      "-Insert Import: boehm2000a\n",
      "-Insert Citation: basili2010a -> boehm2000a\n"
     ]
    }
   ],
   "source": [
    "# Temp\n",
    "insert('''\n",
    "boehm2000a = DB(WorkUnrelated(\n",
    "    2000, \"Cost Estimation with COCOMO II\",\n",
    "    display=\"boehm\",\n",
    "    authors=\"Boehm, B.W.\",\n",
    "    place=FAKE,\n",
    "    entrytype=\"article\",\n",
    "    note=\"cited By 1196\",\n",
    "    ID=\"Boehm2000\",\n",
    "    placex=\"Prentice HallSoftware\",\n",
    "))\n",
    "\n",
    "DB(Citation(\n",
    "    basili2010a, boehm2000a, ref=\"\",\n",
    "    contexts=[\n",
    "\n",
    "    ],\n",
    "))\n",
    "\n",
    "''', citations='basili2010a');"
   ]
  },
  {
   "cell_type": "code",
   "execution_count": null,
   "metadata": {
    "collapsed": true
   },
   "outputs": [],
   "source": []
  }
 ],
 "metadata": {
  "kernelspec": {
   "display_name": "Python 3",
   "language": "python",
   "name": "python3"
  },
  "language_info": {
   "codemirror_mode": {
    "name": "ipython",
    "version": 3
   },
   "file_extension": ".py",
   "mimetype": "text/x-python",
   "name": "python",
   "nbconvert_exporter": "python",
   "pygments_lexer": "ipython3",
   "version": "3.6.0"
  },
  "toc": {
   "nav_menu": {
    "height": "12px",
    "width": "252px"
   },
   "number_sections": true,
   "sideBar": true,
   "skip_h1_title": false,
   "toc_cell": false,
   "toc_position": {},
   "toc_section_display": "block",
   "toc_window_display": false
  }
 },
 "nbformat": 4,
 "nbformat_minor": 2
}
