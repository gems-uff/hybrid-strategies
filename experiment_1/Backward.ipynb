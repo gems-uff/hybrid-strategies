{
 "cells": [
  {
   "cell_type": "code",
   "execution_count": 1,
   "metadata": {
    "collapsed": true
   },
   "outputs": [],
   "source": [
    "import database\n",
    "from snowballing.operations import load_work, reload, work_by_varname\n",
    "from snowballing.snowballing import Converter\n",
    "from snowballing.dbmanager import insert, set_attribute"
   ]
  },
  {
   "cell_type": "code",
   "execution_count": 52,
   "metadata": {
    "scrolled": true
   },
   "outputs": [
    {
     "data": {
      "application/vnd.jupyter.widget-view+json": {
       "model_id": "f9196805402549bd9c6d53e7b93505a5",
       "version_major": 2,
       "version_minor": 0
      },
      "text/html": [
       "<p>Failed to display Jupyter Widget of type <code>VBox</code>.</p>\n",
       "<p>\n",
       "  If you're reading this message in Jupyter Notebook or JupyterLab, it may mean\n",
       "  that the widgets JavaScript is still loading. If this message persists, it\n",
       "  likely means that the widgets JavaScript library is either not installed or\n",
       "  not enabled. See the <a href=\"https://ipywidgets.readthedocs.io/en/stable/user_install.html\">Jupyter\n",
       "  Widgets Documentation</a> for setup instructions.\n",
       "</p>\n",
       "<p>\n",
       "  If you're reading this message in another notebook frontend (for example, a static\n",
       "  rendering on GitHub or <a href=\"https://nbviewer.jupyter.org/\">NBViewer</a>),\n",
       "  it may mean that your frontend doesn't currently support widgets.\n",
       "</p>\n"
      ],
      "text/plain": [
       "VBox(children=(HBox(children=(Dropdown(index=1, options={'BibTeX': 'bibtex', 'Text': 'text', '[N] author name place other year': 'citation', 'Quoted': 'quoted'}, value='text'), Button(description='Set article_list variable', disabled=True, style=ButtonStyle()), Label(value=''))), HBox(children=(Textarea(value='', layout=Layout(height='500px', width='50%')), Textarea(value='', layout=Layout(height='500px', width='50%'))))))"
      ]
     },
     "metadata": {},
     "output_type": "display_data"
    }
   ],
   "source": [
    "Converter().browser()"
   ]
  },
  {
   "cell_type": "code",
   "execution_count": 3,
   "metadata": {},
   "outputs": [
    {
     "data": {
      "text/plain": [
       "45"
      ]
     },
     "execution_count": 3,
     "metadata": {},
     "output_type": "execute_result"
    }
   ],
   "source": [
    "len(article_list)"
   ]
  },
  {
   "cell_type": "code",
   "execution_count": null,
   "metadata": {
    "collapsed": true
   },
   "outputs": [],
   "source": [
    "#from database.work.y2015 import li2015a"
   ]
  },
  {
   "cell_type": "code",
   "execution_count": null,
   "metadata": {
    "collapsed": true
   },
   "outputs": [],
   "source": [
    "#int(getattr(li2015a, 'scopus', 0))"
   ]
  },
  {
   "cell_type": "code",
   "execution_count": null,
   "metadata": {
    "collapsed": true
   },
   "outputs": [],
   "source": [
    "#print(article_list)"
   ]
  },
  {
   "cell_type": "code",
   "execution_count": null,
   "metadata": {
    "collapsed": true
   },
   "outputs": [],
   "source": []
  },
  {
   "cell_type": "code",
   "execution_count": null,
   "metadata": {
    "collapsed": true
   },
   "outputs": [],
   "source": []
  },
  {
   "cell_type": "code",
   "execution_count": null,
   "metadata": {
    "collapsed": true
   },
   "outputs": [],
   "source": []
  },
  {
   "cell_type": "code",
   "execution_count": 4,
   "metadata": {},
   "outputs": [
    {
     "data": {
      "application/vnd.jupyter.widget-view+json": {
       "model_id": "824ab9da821e4971b56ab51a52144722",
       "version_major": 2,
       "version_minor": 0
      },
      "text/html": [
       "<p>Failed to display Jupyter Widget of type <code>VBox</code>.</p>\n",
       "<p>\n",
       "  If you're reading this message in Jupyter Notebook or JupyterLab, it may mean\n",
       "  that the widgets JavaScript is still loading. If this message persists, it\n",
       "  likely means that the widgets JavaScript library is either not installed or\n",
       "  not enabled. See the <a href=\"https://ipywidgets.readthedocs.io/en/stable/user_install.html\">Jupyter\n",
       "  Widgets Documentation</a> for setup instructions.\n",
       "</p>\n",
       "<p>\n",
       "  If you're reading this message in another notebook frontend (for example, a static\n",
       "  rendering on GitHub or <a href=\"https://nbviewer.jupyter.org/\">NBViewer</a>),\n",
       "  it may mean that your frontend doesn't currently support widgets.\n",
       "</p>\n"
      ],
      "text/plain": [
       "VBox(children=(HBox(children=(Button(description='Previous Article', disabled=True, icon='caret-left', style=ButtonStyle()), Button(description='Reload Article', icon='refresh', style=ButtonStyle()), Button(description='Next Article', icon='caret-right', style=ButtonStyle()))), HBox(children=(Button(description='Unrelated: Scripts', style=ButtonStyle()), Button(description='Unrelated: Provenance', style=ButtonStyle()), Button(description='Both', style=ButtonStyle()), Button(description='Ok', style=ButtonStyle()))), HBox(children=(Dropdown(description='Type', index=3, options=('Work', 'WorkSnowball', 'WorkOk', 'WorkUnrelated', 'WorkNoFile', 'WorkLang', 'Site', 'Email'), value='WorkUnrelated'), ToggleButton(value=False, description='File'))), HBox(children=(Text(value='', description='Due'), Text(value='', description='Place'))), HBox(children=(Text(value='', description='Year'), Text(value='', description='Prefix Var'))), HBox(children=(Text(value='', description='PDFPage'), Text(value='', description='Related'))), HBox(children=(Text(value='', description='Display'), Text(value='', description='Summary'))), HBox(children=(Text(value='', description='Star'), Text(value='', description='Link'))), HBox(children=(Button(description='Reload Article', icon='refresh', style=ButtonStyle()), IntSlider(value=0, max=44), Label(value='1/45'))), Output()))"
      ]
     },
     "metadata": {},
     "output_type": "display_data"
    },
    {
     "data": {
      "application/javascript": [
       "$('span:contains(\"# Temp\")').closest('.cell').remove();"
      ],
      "text/plain": [
       "<IPython.core.display.Javascript object>"
      ]
     },
     "metadata": {},
     "output_type": "display_data"
    },
    {
     "data": {
      "application/javascript": [
       "\n",
       "        $('span:contains(\"# Temp\")').closest('.cell').remove();\n",
       "        var code = IPython.notebook.insert_cell_below('code');\n",
       "        code.set_text(atob(\"IyBUZW1wCmluc2VydCgnJycKb2VjZDIwMDZhID0gREIoV29ya1VucmVsYXRlZCgKICAgIDIwMDYsICJPRUNEIEluZm9ybWF0aW9uIFRlY2hub2xvZ3kgT3V0bG9vayIsCiAgICBkaXNwbGF5PSJvZWNkIiwKICAgIGF1dGhvcnM9Ik9FQ0QiLAogICAgcGxhY2U9RkFLRSwKICAgIGVudHJ5dHlwZT0iYXJ0aWNsZSIsCiAgICBub3RlPSJjaXRlZCBCeSAzMTciLAogICAgSUQ9Ik9FQ0QyMDA2IiwKICAgIHBsYWNleD0iT3JnYW5pemF0aW9uIGZvciBFY29ub21pYyBDby1PcGVyYXRpb24gYW5kIERldmVsb3BtZW50OiBPRUNEIiwKKSkKCkRCKENpdGF0aW9uKAogICAgbWNsb3VnaGxpbjIwMTBhLCBvZWNkMjAwNmEsIHJlZj0iIiwKICAgIGNvbnRleHRzPVsKCiAgICBdLAopKQoKJycnLCBjaXRhdGlvbnM9J21jbG91Z2hsaW4yMDEwYScpOw==\"));\n",
       "    "
      ],
      "text/plain": [
       "<IPython.core.display.Javascript object>"
      ]
     },
     "metadata": {},
     "output_type": "display_data"
    },
    {
     "data": {
      "application/javascript": [
       "$('span:contains(\"# Temp\")').closest('.cell').remove();"
      ],
      "text/plain": [
       "<IPython.core.display.Javascript object>"
      ]
     },
     "metadata": {},
     "output_type": "display_data"
    },
    {
     "data": {
      "application/javascript": [
       "\n",
       "        $('span:contains(\"# Temp\")').closest('.cell').remove();\n",
       "        var code = IPython.notebook.insert_cell_below('code');\n",
       "        code.set_text(atob(\"IyBUZW1wCmluc2VydCgnJycKREIoQ2l0YXRpb24oCiAgICBtY2xvdWdobGluMjAxMGEsIGNtbWkyMDA2YSwgcmVmPSIiLAogICAgY29udGV4dHM9WwoKICAgIF0sCikpCgonJycsIGNpdGF0aW9ucz0nbWNsb3VnaGxpbjIwMTBhJyk7\"));\n",
       "    "
      ],
      "text/plain": [
       "<IPython.core.display.Javascript object>"
      ]
     },
     "metadata": {},
     "output_type": "display_data"
    },
    {
     "data": {
      "application/javascript": [
       "$('span:contains(\"# Temp\")').closest('.cell').remove();"
      ],
      "text/plain": [
       "<IPython.core.display.Javascript object>"
      ]
     },
     "metadata": {},
     "output_type": "display_data"
    },
    {
     "data": {
      "application/javascript": [
       "\n",
       "        $('span:contains(\"# Temp\")').closest('.cell').remove();\n",
       "        var code = IPython.notebook.insert_cell_below('code');\n",
       "        code.set_text(atob(\"IyBUZW1wCmluc2VydCgnJycKREIoQ2l0YXRpb24oCiAgICBtY2xvdWdobGluMjAxMGEsIGNtbWkyMDA2YSwgcmVmPSIiLAogICAgY29udGV4dHM9WwoKICAgIF0sCikpCgonJycsIGNpdGF0aW9ucz0nbWNsb3VnaGxpbjIwMTBhJyk7\"));\n",
       "    "
      ],
      "text/plain": [
       "<IPython.core.display.Javascript object>"
      ]
     },
     "metadata": {},
     "output_type": "display_data"
    },
    {
     "data": {
      "application/javascript": [
       "$('span:contains(\"# Temp\")').closest('.cell').remove();"
      ],
      "text/plain": [
       "<IPython.core.display.Javascript object>"
      ]
     },
     "metadata": {},
     "output_type": "display_data"
    },
    {
     "data": {
      "application/javascript": [
       "\n",
       "        $('span:contains(\"# Temp\")').closest('.cell').remove();\n",
       "        var code = IPython.notebook.insert_cell_below('code');\n",
       "        code.set_text(atob(\"IyBUZW1wCmluc2VydCgnJycKaXNvaWVjMjAwM2MgPSBEQihXb3JrVW5yZWxhdGVkKAogICAgMjAwMywgIklTTy9JRUMgMTU1MDQtMjoyMDAzIEluZm9ybWF0aW9uIFRlY2hub2xvZ3kgLSBQcm9jZXNzIEFzc2Vzc21lbnQgUGFydCAyOiBQZXJmb3JtaW5nIGFuIEFzc2Vzc21lbnQiLAogICAgZGlzcGxheT0iaXNvaWVjIGMiLAogICAgYXV0aG9ycz0iaXNvaWVjIiwKICAgIHBsYWNlPUZBS0UsCiAgICBlbnRyeXR5cGU9ImFydGljbGUiLAogICAgbm90ZT0iY2l0ZWQgQnkgMTEiLAogICAgSUQ9Imlzb2llYzIwMDMiLAogICAgcGxhY2V4PSJJbnRlcm5hdGlvbmFsIFN0YW5kYXJkcyBPcmdhbml6YXRpb24iLAopKQoKREIoQ2l0YXRpb24oCiAgICBtY2xvdWdobGluMjAxMGEsIGlzb2llYzIwMDNjLCByZWY9IiIsCiAgICBjb250ZXh0cz1bCgogICAgXSwKKSkKCicnJywgY2l0YXRpb25zPSdtY2xvdWdobGluMjAxMGEnKTs=\"));\n",
       "    "
      ],
      "text/plain": [
       "<IPython.core.display.Javascript object>"
      ]
     },
     "metadata": {},
     "output_type": "display_data"
    },
    {
     "data": {
      "application/javascript": [
       "$('span:contains(\"# Temp\")').closest('.cell').remove();"
      ],
      "text/plain": [
       "<IPython.core.display.Javascript object>"
      ]
     },
     "metadata": {},
     "output_type": "display_data"
    },
    {
     "data": {
      "application/javascript": [
       "\n",
       "        $('span:contains(\"# Temp\")').closest('.cell').remove();\n",
       "        var code = IPython.notebook.insert_cell_below('code');\n",
       "        code.set_text(atob(\"IyBUZW1wCmluc2VydCgnJycKaXNvaWVjMjAwM2MgPSBEQihXb3JrVW5yZWxhdGVkKAogICAgMjAwMywgIklTTy9JRUMgMTU1MDQtMjoyMDAzIEluZm9ybWF0aW9uIFRlY2hub2xvZ3kgLSBQcm9jZXNzIEFzc2Vzc21lbnQgUGFydCAyOiBQZXJmb3JtaW5nIGFuIEFzc2Vzc21lbnQiLAogICAgZGlzcGxheT0iaXNvaWVjIGMiLAogICAgYXV0aG9ycz0iaXNvaWVjIiwKICAgIHBsYWNlPUZBS0UsCiAgICBlbnRyeXR5cGU9ImFydGljbGUiLAogICAgbm90ZT0iY2l0ZWQgQnkgMTEiLAogICAgSUQ9Imlzb2llYzIwMDMiLAogICAgcGxhY2V4PSJJbnRlcm5hdGlvbmFsIFN0YW5kYXJkcyBPcmdhbml6YXRpb24iLAopKQoKREIoQ2l0YXRpb24oCiAgICBtY2xvdWdobGluMjAxMGEsIGlzb2llYzIwMDNjLCByZWY9IiIsCiAgICBjb250ZXh0cz1bCgogICAgXSwKKSkKCicnJywgY2l0YXRpb25zPSdtY2xvdWdobGluMjAxMGEnKTs=\"));\n",
       "    "
      ],
      "text/plain": [
       "<IPython.core.display.Javascript object>"
      ]
     },
     "metadata": {},
     "output_type": "display_data"
    },
    {
     "data": {
      "application/javascript": [
       "$('span:contains(\"# Temp\")').closest('.cell').remove();"
      ],
      "text/plain": [
       "<IPython.core.display.Javascript object>"
      ]
     },
     "metadata": {},
     "output_type": "display_data"
    },
    {
     "data": {
      "application/javascript": [
       "\n",
       "        $('span:contains(\"# Temp\")').closest('.cell').remove();\n",
       "        var code = IPython.notebook.insert_cell_below('code');\n",
       "        code.set_text(atob(\"IyBUZW1wCmluc2VydCgnJycKY29hbGxpZXIxOTk0YSA9IERCKFdvcmtVbnJlbGF0ZWQoCiAgICAxOTk0LCAiVHJpbGxpdW0gUmVmZXJlbmNlIE1hbnVhbCIsCiAgICBkaXNwbGF5PSJjb2FsbGllciIsCiAgICBhdXRob3JzPSJDb2FsbGllciwgRi4iLAogICAgcGxhY2U9RkFLRSwKICAgIGVudHJ5dHlwZT0iYXJ0aWNsZSIsCiAgICBub3RlPSJjaXRlZCBCeSAxIiwKICAgIElEPSJDb2FsbGllcjE5OTQiLAogICAgcGxhY2V4PSJ4IiwKKSkKCkRCKENpdGF0aW9uKAogICAgbWNsb3VnaGxpbjIwMTBhLCBjb2FsbGllcjE5OTRhLCByZWY9IiIsCiAgICBjb250ZXh0cz1bCgogICAgXSwKKSkKCicnJywgY2l0YXRpb25zPSdtY2xvdWdobGluMjAxMGEnKTs=\"));\n",
       "    "
      ],
      "text/plain": [
       "<IPython.core.display.Javascript object>"
      ]
     },
     "metadata": {},
     "output_type": "display_data"
    },
    {
     "data": {
      "application/javascript": [
       "$('span:contains(\"# Temp\")').closest('.cell').remove();"
      ],
      "text/plain": [
       "<IPython.core.display.Javascript object>"
      ]
     },
     "metadata": {},
     "output_type": "display_data"
    },
    {
     "data": {
      "application/javascript": [
       "\n",
       "        $('span:contains(\"# Temp\")').closest('.cell').remove();\n",
       "        var code = IPython.notebook.insert_cell_below('code');\n",
       "        code.set_text(atob(\"IyBUZW1wCmluc2VydCgnJycKY29hbGxpZXIxOTk0YSA9IERCKFdvcmtVbnJlbGF0ZWQoCiAgICAxOTk0LCAiVHJpbGxpdW0gUmVmZXJlbmNlIE1hbnVhbCIsCiAgICBkaXNwbGF5PSJjb2FsbGllciIsCiAgICBhdXRob3JzPSJDb2FsbGllciwgRi4iLAogICAgcGxhY2U9RkFLRSwKICAgIGVudHJ5dHlwZT0iYXJ0aWNsZSIsCiAgICBub3RlPSJjaXRlZCBCeSAxIiwKICAgIElEPSJDb2FsbGllcjE5OTQiLAogICAgcGxhY2V4PSJ4IiwKKSkKCkRCKENpdGF0aW9uKAogICAgbWNsb3VnaGxpbjIwMTBhLCBjb2FsbGllcjE5OTRhLCByZWY9IiIsCiAgICBjb250ZXh0cz1bCgogICAgXSwKKSkKCicnJywgY2l0YXRpb25zPSdtY2xvdWdobGluMjAxMGEnKTs=\"));\n",
       "    "
      ],
      "text/plain": [
       "<IPython.core.display.Javascript object>"
      ]
     },
     "metadata": {},
     "output_type": "display_data"
    },
    {
     "data": {
      "application/javascript": [
       "$('span:contains(\"# Temp\")').closest('.cell').remove();"
      ],
      "text/plain": [
       "<IPython.core.display.Javascript object>"
      ]
     },
     "metadata": {},
     "output_type": "display_data"
    },
    {
     "data": {
      "application/javascript": [
       "\n",
       "        $('span:contains(\"# Temp\")').closest('.cell').remove();\n",
       "        var code = IPython.notebook.insert_cell_below('code');\n",
       "        code.set_text(atob(\"IyBUZW1wCmluc2VydCgnJycKaXNvMTk5NGMgPSBEQihXb3JrVW5yZWxhdGVkKAogICAgMTk5NCwgIklTTyA5MDAwIDMiLAogICAgZGlzcGxheT0iaXNvIGMiLAogICAgYXV0aG9ycz0iaXNvIiwKICAgIHBsYWNlPUZBS0UsCiAgICBlbnRyeXR5cGU9ImFydGljbGUiLAogICAgbm90ZT0iY2l0ZWQgQnkgMSIsCiAgICBJRD0iaXNvMTk5NCIsCiAgICBwbGFjZXg9IkludGVybmF0aW9uYWwgU3RhbmRhcmRzIE9yZ2FuaXphdGlvbjogSW50ZXJuYXRpb25hbCBTdGFuZGFyZHMgT3JnYW5pemF0aW9uIiwKKSkKCkRCKENpdGF0aW9uKAogICAgbWNsb3VnaGxpbjIwMTBhLCBpc28xOTk0YywgcmVmPSIiLAogICAgY29udGV4dHM9WwoKICAgIF0sCikpCgonJycsIGNpdGF0aW9ucz0nbWNsb3VnaGxpbjIwMTBhJyk7\"));\n",
       "    "
      ],
      "text/plain": [
       "<IPython.core.display.Javascript object>"
      ]
     },
     "metadata": {},
     "output_type": "display_data"
    },
    {
     "data": {
      "application/javascript": [
       "$('span:contains(\"# Temp\")').closest('.cell').remove();"
      ],
      "text/plain": [
       "<IPython.core.display.Javascript object>"
      ]
     },
     "metadata": {},
     "output_type": "display_data"
    },
    {
     "data": {
      "application/javascript": [
       "\n",
       "        $('span:contains(\"# Temp\")').closest('.cell').remove();\n",
       "        var code = IPython.notebook.insert_cell_below('code');\n",
       "        code.set_text(atob(\"IyBUZW1wCmluc2VydCgnJycKaXNvMTk5NGMgPSBEQihXb3JrVW5yZWxhdGVkKAogICAgMTk5NCwgIklTTyA5MDAwIDMiLAogICAgZGlzcGxheT0iaXNvIGMiLAogICAgYXV0aG9ycz0iaXNvIiwKICAgIHBsYWNlPUZBS0UsCiAgICBlbnRyeXR5cGU9ImFydGljbGUiLAogICAgbm90ZT0iY2l0ZWQgQnkgMSIsCiAgICBJRD0iaXNvMTk5NCIsCiAgICBwbGFjZXg9IkludGVybmF0aW9uYWwgU3RhbmRhcmRzIE9yZ2FuaXphdGlvbjogSW50ZXJuYXRpb25hbCBTdGFuZGFyZHMgT3JnYW5pemF0aW9uIiwKKSkKCkRCKENpdGF0aW9uKAogICAgbWNsb3VnaGxpbjIwMTBhLCBpc28xOTk0YywgcmVmPSIiLAogICAgY29udGV4dHM9WwoKICAgIF0sCikpCgonJycsIGNpdGF0aW9ucz0nbWNsb3VnaGxpbjIwMTBhJyk7\"));\n",
       "    "
      ],
      "text/plain": [
       "<IPython.core.display.Javascript object>"
      ]
     },
     "metadata": {},
     "output_type": "display_data"
    },
    {
     "data": {
      "application/javascript": [
       "$('span:contains(\"# Temp\")').closest('.cell').remove();"
      ],
      "text/plain": [
       "<IPython.core.display.Javascript object>"
      ]
     },
     "metadata": {},
     "output_type": "display_data"
    },
    {
     "data": {
      "application/javascript": [
       "\n",
       "        $('span:contains(\"# Temp\")').closest('.cell').remove();\n",
       "        var code = IPython.notebook.insert_cell_below('code');\n",
       "        code.set_text(atob(\"IyBUZW1wCmluc2VydCgnJycKaXNvMjAwMGEgPSBEQihXb3JrVW5yZWxhdGVkKAogICAgMjAwMCwgIklTTyA5MDAxOjIwMDAiLAogICAgZGlzcGxheT0iaXNvIiwKICAgIGF1dGhvcnM9ImlzbyIsCiAgICBwbGFjZT1GQUtFLAogICAgZW50cnl0eXBlPSJhcnRpY2xlIiwKICAgIG5vdGU9ImNpdGVkIEJ5IDIiLAogICAgSUQ9ImlzbzIwMDAiLAogICAgcGxhY2V4PSJJbnRlcm5hdGlvbmFsIFN0YW5kYXJkcyBPcmdhbml6YXRpb246IEludGVybmF0aW9uYWwgU3RhbmRhcmRzIE9yZ2FuaXphdGlvbiIsCikpCgpEQihDaXRhdGlvbigKICAgIG1jbG91Z2hsaW4yMDEwYSwgaXNvMjAwMGEsIHJlZj0iIiwKICAgIGNvbnRleHRzPVsKCiAgICBdLAopKQoKJycnLCBjaXRhdGlvbnM9J21jbG91Z2hsaW4yMDEwYScpOw==\"));\n",
       "    "
      ],
      "text/plain": [
       "<IPython.core.display.Javascript object>"
      ]
     },
     "metadata": {},
     "output_type": "display_data"
    },
    {
     "data": {
      "application/javascript": [
       "$('span:contains(\"# Temp\")').closest('.cell').remove();"
      ],
      "text/plain": [
       "<IPython.core.display.Javascript object>"
      ]
     },
     "metadata": {},
     "output_type": "display_data"
    },
    {
     "data": {
      "application/javascript": [
       "\n",
       "        $('span:contains(\"# Temp\")').closest('.cell').remove();\n",
       "        var code = IPython.notebook.insert_cell_below('code');\n",
       "        code.set_text(atob(\"IyBUZW1wCmluc2VydCgnJycKaXNvMjAwMGEgPSBEQihXb3JrVW5yZWxhdGVkKAogICAgMjAwMCwgIklTTyA5MDAxOjIwMDAiLAogICAgZGlzcGxheT0iaXNvIiwKICAgIGF1dGhvcnM9ImlzbyIsCiAgICBwbGFjZT1GQUtFLAogICAgZW50cnl0eXBlPSJhcnRpY2xlIiwKICAgIG5vdGU9ImNpdGVkIEJ5IDIiLAogICAgSUQ9ImlzbzIwMDAiLAogICAgcGxhY2V4PSJJbnRlcm5hdGlvbmFsIFN0YW5kYXJkcyBPcmdhbml6YXRpb246IEludGVybmF0aW9uYWwgU3RhbmRhcmRzIE9yZ2FuaXphdGlvbiIsCikpCgpEQihDaXRhdGlvbigKICAgIG1jbG91Z2hsaW4yMDEwYSwgaXNvMjAwMGEsIHJlZj0iIiwKICAgIGNvbnRleHRzPVsKCiAgICBdLAopKQoKJycnLCBjaXRhdGlvbnM9J21jbG91Z2hsaW4yMDEwYScpOw==\"));\n",
       "    "
      ],
      "text/plain": [
       "<IPython.core.display.Javascript object>"
      ]
     },
     "metadata": {},
     "output_type": "display_data"
    },
    {
     "data": {
      "application/javascript": [
       "$('span:contains(\"# Temp\")').closest('.cell').remove();"
      ],
      "text/plain": [
       "<IPython.core.display.Javascript object>"
      ]
     },
     "metadata": {},
     "output_type": "display_data"
    },
    {
     "data": {
      "application/javascript": [
       "\n",
       "        $('span:contains(\"# Temp\")').closest('.cell').remove();\n",
       "        var code = IPython.notebook.insert_cell_below('code');\n",
       "        code.set_text(atob(\"IyBUZW1wCmluc2VydCgnJycKaGFpbGV5MjAxMWEgPSBEQihXb3JrVW5yZWxhdGVkKAogICAgMjAxMSwgIklTTyA5MDAxMTogQSB0b29sIGZvciBzeXN0ZW1hdGljIHNvZnR3YXJlIHByb2Nlc3MgaW1wcm92ZW1lbnQiLAogICAgZGlzcGxheT0iaGFpbGV5IiwKICAgIGF1dGhvcnM9IkhhaWxleSwgVi5BLiIsCiAgICBwbGFjZT1Cb29rLAogICAgcHA9IjI5MS0zMDkiLAogICAgZW50cnl0eXBlPSJib29rIiwKICAgIGRvaT0iMTAuMTEwOS85NzgxMTE4MTU2NjY3LmNoNyIsCiAgICBub3RlPSJjaXRlZCBCeSAyIiwKICAgIElEPSJIYWlsZXkyMDExMjkxIiwKICAgIHBsYWNleD0iU29mdHdhcmUgUHJvY2VzcyBJbXByb3ZlbWVudCIsCikpCgpEQihDaXRhdGlvbigKICAgIG1jbG91Z2hsaW4yMDEwYSwgaGFpbGV5MjAxMWEsIHJlZj0iIiwKICAgIGNvbnRleHRzPVsKCiAgICBdLAopKQoKJycnLCBjaXRhdGlvbnM9J21jbG91Z2hsaW4yMDEwYScpOw==\"));\n",
       "    "
      ],
      "text/plain": [
       "<IPython.core.display.Javascript object>"
      ]
     },
     "metadata": {},
     "output_type": "display_data"
    },
    {
     "data": {
      "application/javascript": [
       "$('span:contains(\"# Temp\")').closest('.cell').remove();"
      ],
      "text/plain": [
       "<IPython.core.display.Javascript object>"
      ]
     },
     "metadata": {},
     "output_type": "display_data"
    },
    {
     "data": {
      "application/javascript": [
       "\n",
       "        $('span:contains(\"# Temp\")').closest('.cell').remove();\n",
       "        var code = IPython.notebook.insert_cell_below('code');\n",
       "        code.set_text(atob(\"IyBUZW1wCmluc2VydCgnJycKaGFpbGV5MjAxMWEgPSBEQihXb3JrVW5yZWxhdGVkKAogICAgMjAxMSwgIklTTyA5MDAxMTogQSB0b29sIGZvciBzeXN0ZW1hdGljIHNvZnR3YXJlIHByb2Nlc3MgaW1wcm92ZW1lbnQiLAogICAgZGlzcGxheT0iaGFpbGV5IiwKICAgIGF1dGhvcnM9IkhhaWxleSwgVi5BLiIsCiAgICBwbGFjZT1Cb29rLAogICAgcHA9IjI5MS0zMDkiLAogICAgZW50cnl0eXBlPSJib29rIiwKICAgIGRvaT0iMTAuMTEwOS85NzgxMTE4MTU2NjY3LmNoNyIsCiAgICBub3RlPSJjaXRlZCBCeSAyIiwKICAgIElEPSJIYWlsZXkyMDExMjkxIiwKICAgIHBsYWNleD0iU29mdHdhcmUgUHJvY2VzcyBJbXByb3ZlbWVudCIsCikpCgpEQihDaXRhdGlvbigKICAgIG1jbG91Z2hsaW4yMDEwYSwgaGFpbGV5MjAxMWEsIHJlZj0iIiwKICAgIGNvbnRleHRzPVsKCiAgICBdLAopKQoKJycnLCBjaXRhdGlvbnM9J21jbG91Z2hsaW4yMDEwYScpOw==\"));\n",
       "    "
      ],
      "text/plain": [
       "<IPython.core.display.Javascript object>"
      ]
     },
     "metadata": {},
     "output_type": "display_data"
    },
    {
     "data": {
      "application/javascript": [
       "$('span:contains(\"# Temp\")').closest('.cell').remove();"
      ],
      "text/plain": [
       "<IPython.core.display.Javascript object>"
      ]
     },
     "metadata": {},
     "output_type": "display_data"
    },
    {
     "data": {
      "application/javascript": [
       "\n",
       "        $('span:contains(\"# Temp\")').closest('.cell').remove();\n",
       "        var code = IPython.notebook.insert_cell_below('code');\n",
       "        code.set_text(atob(\"IyBUZW1wCmluc2VydCgnJycKZ3JvdXAyMDA5YSA9IERCKFdvcmtVbnJlbGF0ZWQoCiAgICAyMDA5LCAiQ2hhb3MgUmVwb3J0IiwKICAgIGRpc3BsYXk9Imdyb3VwIiwKICAgIGF1dGhvcnM9IlN0YW5kaXNoIEdyb3VwIiwKICAgIHBsYWNlPUZBS0UsCiAgICBlbnRyeXR5cGU9ImFydGljbGUiLAogICAgbm90ZT0iY2l0ZWQgQnkgMTIyIiwKICAgIElEPSJTdGFuZGlzaEdyb3VwMjAwOSIsCiAgICBwbGFjZXg9IlN0YW5kaXNoIEdyb3VwOiBUaGUgU3RhbmRpc2ggR3JvdXAiLAopKQoKREIoQ2l0YXRpb24oCiAgICBtY2xvdWdobGluMjAxMGEsIGdyb3VwMjAwOWEsIHJlZj0iIiwKICAgIGNvbnRleHRzPVsKCiAgICBdLAopKQoKJycnLCBjaXRhdGlvbnM9J21jbG91Z2hsaW4yMDEwYScpOw==\"));\n",
       "    "
      ],
      "text/plain": [
       "<IPython.core.display.Javascript object>"
      ]
     },
     "metadata": {},
     "output_type": "display_data"
    },
    {
     "data": {
      "application/javascript": [
       "$('span:contains(\"# Temp\")').closest('.cell').remove();"
      ],
      "text/plain": [
       "<IPython.core.display.Javascript object>"
      ]
     },
     "metadata": {},
     "output_type": "display_data"
    },
    {
     "data": {
      "application/javascript": [
       "\n",
       "        $('span:contains(\"# Temp\")').closest('.cell').remove();\n",
       "        var code = IPython.notebook.insert_cell_below('code');\n",
       "        code.set_text(atob(\"IyBUZW1wCmluc2VydCgnJycKZ3JvdXAyMDA5YSA9IERCKFdvcmtVbnJlbGF0ZWQoCiAgICAyMDA5LCAiQ2hhb3MgUmVwb3J0IiwKICAgIGRpc3BsYXk9Imdyb3VwIiwKICAgIGF1dGhvcnM9IlN0YW5kaXNoIEdyb3VwIiwKICAgIHBsYWNlPUZBS0UsCiAgICBlbnRyeXR5cGU9ImFydGljbGUiLAogICAgbm90ZT0iY2l0ZWQgQnkgMTIyIiwKICAgIElEPSJTdGFuZGlzaEdyb3VwMjAwOSIsCiAgICBwbGFjZXg9IlN0YW5kaXNoIEdyb3VwOiBUaGUgU3RhbmRpc2ggR3JvdXAiLAopKQoKREIoQ2l0YXRpb24oCiAgICBtY2xvdWdobGluMjAxMGEsIGdyb3VwMjAwOWEsIHJlZj0iIiwKICAgIGNvbnRleHRzPVsKCiAgICBdLAopKQoKJycnLCBjaXRhdGlvbnM9J21jbG91Z2hsaW4yMDEwYScpOw==\"));\n",
       "    "
      ],
      "text/plain": [
       "<IPython.core.display.Javascript object>"
      ]
     },
     "metadata": {},
     "output_type": "display_data"
    },
    {
     "data": {
      "application/javascript": [
       "$('span:contains(\"# Temp\")').closest('.cell').remove();"
      ],
      "text/plain": [
       "<IPython.core.display.Javascript object>"
      ]
     },
     "metadata": {},
     "output_type": "display_data"
    },
    {
     "data": {
      "application/javascript": [
       "\n",
       "        $('span:contains(\"# Temp\")').closest('.cell').remove();\n",
       "        var code = IPython.notebook.insert_cell_below('code');\n",
       "        code.set_text(atob(\"IyBUZW1wCmluc2VydCgnJycKZmFnYW4xOTc2YSA9IERCKFdvcmtVbnJlbGF0ZWQoCiAgICAxOTc2LCAiREVTSUdOIEFORCBDT0RFIElOU1BFQ1RJT05TIFRPIFJFRFVDRSBFUlJPUlMgSU4gUFJPR1JBTSBERVZFTE9QTUVOVC4iLAogICAgZGlzcGxheT0iZmFnYW4iLAogICAgYXV0aG9ycz0iRmFnYW4sIE1pY2hhZWwgRS4iLAogICAgcGxhY2U9RkFLRSwKICAgIHBwPSIxODItMjExIiwKICAgIGVudHJ5dHlwZT0iYXJ0aWNsZSIsCiAgICB2b2x1bWU9IjE1IiwKICAgIG51bWJlcj0iMyIsCiAgICBkb2k9IjEwLjExNDcvc2ouMTUzLjAxODIiLAogICAgbm90ZT0iY2l0ZWQgQnkgNzY2IiwKICAgIElEPSJGYWdhbjE5NzYxODIiLAogICAgcGxhY2V4PSJJQk0gU3lzdGVtcyBKb3VybmFsIiwKKSkKCkRCKENpdGF0aW9uKAogICAgbWNsb3VnaGxpbjIwMTBhLCBmYWdhbjE5NzZhLCByZWY9IiIsCiAgICBjb250ZXh0cz1bCgogICAgXSwKKSkKCicnJywgY2l0YXRpb25zPSdtY2xvdWdobGluMjAxMGEnKTs=\"));\n",
       "    "
      ],
      "text/plain": [
       "<IPython.core.display.Javascript object>"
      ]
     },
     "metadata": {},
     "output_type": "display_data"
    },
    {
     "data": {
      "application/javascript": [
       "$('span:contains(\"# Temp\")').closest('.cell').remove();"
      ],
      "text/plain": [
       "<IPython.core.display.Javascript object>"
      ]
     },
     "metadata": {},
     "output_type": "display_data"
    },
    {
     "data": {
      "application/javascript": [
       "\n",
       "        $('span:contains(\"# Temp\")').closest('.cell').remove();\n",
       "        var code = IPython.notebook.insert_cell_below('code');\n",
       "        code.set_text(atob(\"IyBUZW1wCmluc2VydCgnJycKZmFnYW4xOTc2YSA9IERCKFdvcmtVbnJlbGF0ZWQoCiAgICAxOTc2LCAiREVTSUdOIEFORCBDT0RFIElOU1BFQ1RJT05TIFRPIFJFRFVDRSBFUlJPUlMgSU4gUFJPR1JBTSBERVZFTE9QTUVOVC4iLAogICAgZGlzcGxheT0iZmFnYW4iLAogICAgYXV0aG9ycz0iRmFnYW4sIE1pY2hhZWwgRS4iLAogICAgcGxhY2U9RkFLRSwKICAgIHBwPSIxODItMjExIiwKICAgIGVudHJ5dHlwZT0iYXJ0aWNsZSIsCiAgICB2b2x1bWU9IjE1IiwKICAgIG51bWJlcj0iMyIsCiAgICBkb2k9IjEwLjExNDcvc2ouMTUzLjAxODIiLAogICAgbm90ZT0iY2l0ZWQgQnkgNzY2IiwKICAgIElEPSJGYWdhbjE5NzYxODIiLAogICAgcGxhY2V4PSJJQk0gU3lzdGVtcyBKb3VybmFsIiwKKSkKCkRCKENpdGF0aW9uKAogICAgbWNsb3VnaGxpbjIwMTBhLCBmYWdhbjE5NzZhLCByZWY9IiIsCiAgICBjb250ZXh0cz1bCgogICAgXSwKKSkKCicnJywgY2l0YXRpb25zPSdtY2xvdWdobGluMjAxMGEnKTs=\"));\n",
       "    "
      ],
      "text/plain": [
       "<IPython.core.display.Javascript object>"
      ]
     },
     "metadata": {},
     "output_type": "display_data"
    },
    {
     "data": {
      "application/javascript": [
       "$('span:contains(\"# Temp\")').closest('.cell').remove();"
      ],
      "text/plain": [
       "<IPython.core.display.Javascript object>"
      ]
     },
     "metadata": {},
     "output_type": "display_data"
    },
    {
     "data": {
      "application/javascript": [
       "\n",
       "        $('span:contains(\"# Temp\")').closest('.cell').remove();\n",
       "        var code = IPython.notebook.insert_cell_below('code');\n",
       "        code.set_text(atob(\"IyBUZW1wCmluc2VydCgnJycKZGlqa3N0cmExOTc5YSA9IERCKFdvcmtVbnJlbGF0ZWQoCiAgICAxOTc5LCAiR28gdG8gc3RhdGVtZW50IGNvbnNpZGVyZWQgaGFybWZ1bCIsCiAgICBkaXNwbGF5PSJkaWprc3RyYSIsCiAgICBhdXRob3JzPSJEaWprc3RyYSwgRS4iLAogICAgcGxhY2U9RkFLRSwKICAgIHBwPSIyNy0zMyIsCiAgICBlbnRyeXR5cGU9ImFydGljbGUiLAogICAgbm90ZT0iY2l0ZWQgQnkgMyIsCiAgICBJRD0iRGlqa3N0cmExOTc5MjciLAogICAgcGxhY2V4PSJDbGFzc2ljcyBpbiBTb2Z0d2FyZSBFbmdpbmVlcmluZyIsCikpCgpEQihDaXRhdGlvbigKICAgIG1jbG91Z2hsaW4yMDEwYSwgZGlqa3N0cmExOTc5YSwgcmVmPSIiLAogICAgY29udGV4dHM9WwoKICAgIF0sCikpCgonJycsIGNpdGF0aW9ucz0nbWNsb3VnaGxpbjIwMTBhJyk7\"));\n",
       "    "
      ],
      "text/plain": [
       "<IPython.core.display.Javascript object>"
      ]
     },
     "metadata": {},
     "output_type": "display_data"
    },
    {
     "data": {
      "application/javascript": [
       "$('span:contains(\"# Temp\")').closest('.cell').remove();"
      ],
      "text/plain": [
       "<IPython.core.display.Javascript object>"
      ]
     },
     "metadata": {},
     "output_type": "display_data"
    },
    {
     "data": {
      "application/javascript": [
       "\n",
       "        $('span:contains(\"# Temp\")').closest('.cell').remove();\n",
       "        var code = IPython.notebook.insert_cell_below('code');\n",
       "        code.set_text(atob(\"IyBUZW1wCmluc2VydCgnJycKZGlqa3N0cmExOTc5YSA9IERCKFdvcmtVbnJlbGF0ZWQoCiAgICAxOTc5LCAiR28gdG8gc3RhdGVtZW50IGNvbnNpZGVyZWQgaGFybWZ1bCIsCiAgICBkaXNwbGF5PSJkaWprc3RyYSIsCiAgICBhdXRob3JzPSJEaWprc3RyYSwgRS4iLAogICAgcGxhY2U9RkFLRSwKICAgIHBwPSIyNy0zMyIsCiAgICBlbnRyeXR5cGU9ImFydGljbGUiLAogICAgbm90ZT0iY2l0ZWQgQnkgMyIsCiAgICBJRD0iRGlqa3N0cmExOTc5MjciLAogICAgcGxhY2V4PSJDbGFzc2ljcyBpbiBTb2Z0d2FyZSBFbmdpbmVlcmluZyIsCikpCgpEQihDaXRhdGlvbigKICAgIG1jbG91Z2hsaW4yMDEwYSwgZGlqa3N0cmExOTc5YSwgcmVmPSIiLAogICAgY29udGV4dHM9WwoKICAgIF0sCikpCgonJycsIGNpdGF0aW9ucz0nbWNsb3VnaGxpbjIwMTBhJyk7\"));\n",
       "    "
      ],
      "text/plain": [
       "<IPython.core.display.Javascript object>"
      ]
     },
     "metadata": {},
     "output_type": "display_data"
    },
    {
     "data": {
      "application/javascript": [
       "$('span:contains(\"# Temp\")').closest('.cell').remove();"
      ],
      "text/plain": [
       "<IPython.core.display.Javascript object>"
      ]
     },
     "metadata": {},
     "output_type": "display_data"
    },
    {
     "data": {
      "application/javascript": [
       "\n",
       "        $('span:contains(\"# Temp\")').closest('.cell').remove();\n",
       "        var code = IPython.notebook.insert_cell_below('code');\n",
       "        code.set_text(atob(\"IyBUZW1wCmluc2VydCgnJycKMjAwMmEgPSBEQihXb3JrVW5yZWxhdGVkKAogICAgMjAwMiwgIkJlbmNobWFya2luZyB0aGUgUk9JIGZvciBTb2Z0d2FyZSBQcm9jZXNzIEltcHJvdmVtZW50IChTUEkpIiwKICAgIGRpc3BsYXk9IiIsCiAgICBhdXRob3JzPSJTb2xvbiBKci4sIFIuIGFuZCBTdGF0eiwgSi4iLAogICAgcGxhY2U9RkFLRSwKICAgIHBwPSI2LTExIiwKICAgIGVudHJ5dHlwZT0iYXJ0aWNsZSIsCiAgICB2b2x1bWU9IjUiLAogICAgbm90ZT0iY2l0ZWQgQnkgMSIsCiAgICBJRD0iU29sb25Kci4yMDAyNiIsCiAgICBwbGFjZXg9IlNvZnR3YXJlIFRlY2guIE5ld3MiLAopKQoKREIoQ2l0YXRpb24oCiAgICBtY2xvdWdobGluMjAxMGEsIDIwMDJhLCByZWY9IiIsCiAgICBjb250ZXh0cz1bCgogICAgXSwKKSkKCicnJywgY2l0YXRpb25zPSdtY2xvdWdobGluMjAxMGEnKTs=\"));\n",
       "    "
      ],
      "text/plain": [
       "<IPython.core.display.Javascript object>"
      ]
     },
     "metadata": {},
     "output_type": "display_data"
    },
    {
     "data": {
      "application/javascript": [
       "$('span:contains(\"# Temp\")').closest('.cell').remove();"
      ],
      "text/plain": [
       "<IPython.core.display.Javascript object>"
      ]
     },
     "metadata": {},
     "output_type": "display_data"
    },
    {
     "data": {
      "application/javascript": [
       "\n",
       "        $('span:contains(\"# Temp\")').closest('.cell').remove();\n",
       "        var code = IPython.notebook.insert_cell_below('code');\n",
       "        code.set_text(atob(\"IyBUZW1wCmluc2VydCgnJycKMjAwMmEgPSBEQihXb3JrVW5yZWxhdGVkKAogICAgMjAwMiwgIkJlbmNobWFya2luZyB0aGUgUk9JIGZvciBTb2Z0d2FyZSBQcm9jZXNzIEltcHJvdmVtZW50IChTUEkpIiwKICAgIGRpc3BsYXk9IiIsCiAgICBhdXRob3JzPSJTb2xvbiBKci4sIFIuIGFuZCBTdGF0eiwgSi4iLAogICAgcGxhY2U9RkFLRSwKICAgIHBwPSI2LTExIiwKICAgIGVudHJ5dHlwZT0iYXJ0aWNsZSIsCiAgICB2b2x1bWU9IjUiLAogICAgbm90ZT0iY2l0ZWQgQnkgMSIsCiAgICBJRD0iU29sb25Kci4yMDAyNiIsCiAgICBwbGFjZXg9IlNvZnR3YXJlIFRlY2guIE5ld3MiLAopKQoKREIoQ2l0YXRpb24oCiAgICBtY2xvdWdobGluMjAxMGEsIDIwMDJhLCByZWY9IiIsCiAgICBjb250ZXh0cz1bCgogICAgXSwKKSkKCicnJywgY2l0YXRpb25zPSdtY2xvdWdobGluMjAxMGEnKTs=\"));\n",
       "    "
      ],
      "text/plain": [
       "<IPython.core.display.Javascript object>"
      ]
     },
     "metadata": {},
     "output_type": "display_data"
    },
    {
     "data": {
      "application/javascript": [
       "$('span:contains(\"# Temp\")').closest('.cell').remove();"
      ],
      "text/plain": [
       "<IPython.core.display.Javascript object>"
      ]
     },
     "metadata": {},
     "output_type": "display_data"
    },
    {
     "data": {
      "application/javascript": [
       "\n",
       "        $('span:contains(\"# Temp\")').closest('.cell').remove();\n",
       "        var code = IPython.notebook.insert_cell_below('code');\n",
       "        code.set_text(atob(\"IyBUZW1wCmluc2VydCgnJycKemFocmFuMjAxMGEgPSBEQihXb3JrVW5yZWxhdGVkKAogICAgMjAxMCwgIkJ1c2luZXNzIGFuZCBDb3N0IEp1c3RpZmljYXRpb24gb2YgU29mdHdhcmUgUHJvY2VzcyBJbXByb3ZlbWVudCAtICJST0kgZnJvbSBTUEkiIiwKICAgIGRpc3BsYXk9InphaHJhbiIsCiAgICBhdXRob3JzPSJaYWhyYW4sIFMuIiwKICAgIHBsYWNlPUZBS0UsCiAgICBlbnRyeXR5cGU9ImFydGljbGUiLAogICAgbm90ZT0iY2l0ZWQgQnkgMSIsCiAgICBJRD0iWmFocmFuMjAxMCIsCiAgICBwbGFjZXg9IkludGVybmF0aW9uYWwgU29mdHdhcmUgUHJvY2VzcyBBc3NvY2lhdGlvbiBDb25mZXJlbmNlLCBCcmlnaHRvbiwgRW5nbGFuZCAoMTk5NikiLAopKQoKREIoQ2l0YXRpb24oCiAgICBtY2xvdWdobGluMjAxMGEsIHphaHJhbjIwMTBhLCByZWY9IiIsCiAgICBjb250ZXh0cz1bCgogICAgXSwKKSkKCicnJywgY2l0YXRpb25zPSdtY2xvdWdobGluMjAxMGEnKTs=\"));\n",
       "    "
      ],
      "text/plain": [
       "<IPython.core.display.Javascript object>"
      ]
     },
     "metadata": {},
     "output_type": "display_data"
    },
    {
     "data": {
      "application/javascript": [
       "$('span:contains(\"# Temp\")').closest('.cell').remove();"
      ],
      "text/plain": [
       "<IPython.core.display.Javascript object>"
      ]
     },
     "metadata": {},
     "output_type": "display_data"
    },
    {
     "data": {
      "application/javascript": [
       "\n",
       "        $('span:contains(\"# Temp\")').closest('.cell').remove();\n",
       "        var code = IPython.notebook.insert_cell_below('code');\n",
       "        code.set_text(atob(\"IyBUZW1wCmluc2VydCgnJycKemFocmFuMjAxMGEgPSBEQihXb3JrVW5yZWxhdGVkKAogICAgMjAxMCwgIkJ1c2luZXNzIGFuZCBDb3N0IEp1c3RpZmljYXRpb24gb2YgU29mdHdhcmUgUHJvY2VzcyBJbXByb3ZlbWVudCAtICJST0kgZnJvbSBTUEkiIiwKICAgIGRpc3BsYXk9InphaHJhbiIsCiAgICBhdXRob3JzPSJaYWhyYW4sIFMuIiwKICAgIHBsYWNlPUZBS0UsCiAgICBlbnRyeXR5cGU9ImFydGljbGUiLAogICAgbm90ZT0iY2l0ZWQgQnkgMSIsCiAgICBJRD0iWmFocmFuMjAxMCIsCiAgICBwbGFjZXg9IkludGVybmF0aW9uYWwgU29mdHdhcmUgUHJvY2VzcyBBc3NvY2lhdGlvbiBDb25mZXJlbmNlLCBCcmlnaHRvbiwgRW5nbGFuZCAoMTk5NikiLAopKQoKREIoQ2l0YXRpb24oCiAgICBtY2xvdWdobGluMjAxMGEsIHphaHJhbjIwMTBhLCByZWY9IiIsCiAgICBjb250ZXh0cz1bCgogICAgXSwKKSkKCicnJywgY2l0YXRpb25zPSdtY2xvdWdobGluMjAxMGEnKTs=\"));\n",
       "    "
      ],
      "text/plain": [
       "<IPython.core.display.Javascript object>"
      ]
     },
     "metadata": {},
     "output_type": "display_data"
    },
    {
     "data": {
      "application/javascript": [
       "$('span:contains(\"# Temp\")').closest('.cell').remove();"
      ],
      "text/plain": [
       "<IPython.core.display.Javascript object>"
      ]
     },
     "metadata": {},
     "output_type": "display_data"
    },
    {
     "data": {
      "application/javascript": [
       "\n",
       "        $('span:contains(\"# Temp\")').closest('.cell').remove();\n",
       "        var code = IPython.notebook.insert_cell_below('code');\n",
       "        code.set_text(atob(\"IyBUZW1wCmluc2VydCgnJycKaHVtcGhyZXkxOTkxYSA9IERCKFdvcmtVbnJlbGF0ZWQoCiAgICAxOTkxLCAiU29mdHdhcmUgUHJvY2VzcyBJbXByb3ZlbWVudCBhdCBIdWdoZXMgQWlyY3JhZnQiLAogICAgZGlzcGxheT0iaHVtcGhyZXkiLAogICAgYXV0aG9ycz0iSHVtcGhyZXksIFcuUy4gYW5kIFNueWRlciwgVC5SLiBhbmQgV2lsbGlzLCBSLlIuIiwKICAgIHBsYWNlPUlFRUVTLAogICAgcHA9IjExLTIzIiwKICAgIGVudHJ5dHlwZT0iYXJ0aWNsZSIsCiAgICB2b2x1bWU9IjgiLAogICAgbnVtYmVyPSI0IiwKICAgIGRvaT0iMTAuMTEwOS81Mi4zMDAwMzEiLAogICAgbm90ZT0iY2l0ZWQgQnkgMTUwIiwKICAgIElEPSJIdW1waHJleTE5OTExMSIsCiAgICBwbGFjZXg9IklFRUUgU29mdHdhcmUiLAopKQoKREIoQ2l0YXRpb24oCiAgICBtY2xvdWdobGluMjAxMGEsIGh1bXBocmV5MTk5MWEsIHJlZj0iIiwKICAgIGNvbnRleHRzPVsKCiAgICBdLAopKQoKJycnLCBjaXRhdGlvbnM9J21jbG91Z2hsaW4yMDEwYScpOw==\"));\n",
       "    "
      ],
      "text/plain": [
       "<IPython.core.display.Javascript object>"
      ]
     },
     "metadata": {},
     "output_type": "display_data"
    },
    {
     "data": {
      "application/javascript": [
       "$('span:contains(\"# Temp\")').closest('.cell').remove();"
      ],
      "text/plain": [
       "<IPython.core.display.Javascript object>"
      ]
     },
     "metadata": {},
     "output_type": "display_data"
    },
    {
     "data": {
      "application/javascript": [
       "\n",
       "        $('span:contains(\"# Temp\")').closest('.cell').remove();\n",
       "        var code = IPython.notebook.insert_cell_below('code');\n",
       "        code.set_text(atob(\"IyBUZW1wCmluc2VydCgnJycKaHVtcGhyZXkxOTkxYSA9IERCKFdvcmtVbnJlbGF0ZWQoCiAgICAxOTkxLCAiU29mdHdhcmUgUHJvY2VzcyBJbXByb3ZlbWVudCBhdCBIdWdoZXMgQWlyY3JhZnQiLAogICAgZGlzcGxheT0iaHVtcGhyZXkiLAogICAgYXV0aG9ycz0iSHVtcGhyZXksIFcuUy4gYW5kIFNueWRlciwgVC5SLiBhbmQgV2lsbGlzLCBSLlIuIiwKICAgIHBsYWNlPUlFRUVTLAogICAgcHA9IjExLTIzIiwKICAgIGVudHJ5dHlwZT0iYXJ0aWNsZSIsCiAgICB2b2x1bWU9IjgiLAogICAgbnVtYmVyPSI0IiwKICAgIGRvaT0iMTAuMTEwOS81Mi4zMDAwMzEiLAogICAgbm90ZT0iY2l0ZWQgQnkgMTUwIiwKICAgIElEPSJIdW1waHJleTE5OTExMSIsCiAgICBwbGFjZXg9IklFRUUgU29mdHdhcmUiLAopKQoKREIoQ2l0YXRpb24oCiAgICBtY2xvdWdobGluMjAxMGEsIGh1bXBocmV5MTk5MWEsIHJlZj0iIiwKICAgIGNvbnRleHRzPVsKCiAgICBdLAopKQoKJycnLCBjaXRhdGlvbnM9J21jbG91Z2hsaW4yMDEwYScpOw==\"));\n",
       "    "
      ],
      "text/plain": [
       "<IPython.core.display.Javascript object>"
      ]
     },
     "metadata": {},
     "output_type": "display_data"
    },
    {
     "data": {
      "application/javascript": [
       "$('span:contains(\"# Temp\")').closest('.cell').remove();"
      ],
      "text/plain": [
       "<IPython.core.display.Javascript object>"
      ]
     },
     "metadata": {},
     "output_type": "display_data"
    },
    {
     "data": {
      "application/javascript": [
       "\n",
       "        $('span:contains(\"# Temp\")').closest('.cell').remove();\n",
       "        var code = IPython.notebook.insert_cell_below('code');\n",
       "        code.set_text(atob(\"IyBUZW1wCmluc2VydCgnJycKZGlvbjE5OTJhID0gREIoV29ya1VucmVsYXRlZCgKICAgIDE5OTIsICJFbGVtZW50cyBvZiBhIHByb2Nlc3MtaW1wcm92ZW1lbnQgcHJvZ3JhbSIsCiAgICBkaXNwbGF5PSJkaW9uIiwKICAgIGF1dGhvcnM9IkRpb24sIFIuIiwKICAgIHBsYWNlPUlFRUVTLAogICAgcHA9IjgzLTg1IiwKICAgIGVudHJ5dHlwZT0iYXJ0aWNsZSIsCiAgICB2b2x1bWU9IjkiLAogICAgbnVtYmVyPSI0IiwKICAgIG5vdGU9ImNpdGVkIEJ5IDI5IiwKICAgIElEPSJEaW9uMTk5MjgzIiwKICAgIHBsYWNleD0iSUVFRSBTb2Z0d2FyZSIsCikpCgpEQihDaXRhdGlvbigKICAgIG1jbG91Z2hsaW4yMDEwYSwgZGlvbjE5OTJhLCByZWY9IiIsCiAgICBjb250ZXh0cz1bCgogICAgXSwKKSkKCicnJywgY2l0YXRpb25zPSdtY2xvdWdobGluMjAxMGEnKTs=\"));\n",
       "    "
      ],
      "text/plain": [
       "<IPython.core.display.Javascript object>"
      ]
     },
     "metadata": {},
     "output_type": "display_data"
    },
    {
     "data": {
      "application/javascript": [
       "$('span:contains(\"# Temp\")').closest('.cell').remove();"
      ],
      "text/plain": [
       "<IPython.core.display.Javascript object>"
      ]
     },
     "metadata": {},
     "output_type": "display_data"
    },
    {
     "data": {
      "application/javascript": [
       "\n",
       "        $('span:contains(\"# Temp\")').closest('.cell').remove();\n",
       "        var code = IPython.notebook.insert_cell_below('code');\n",
       "        code.set_text(atob(\"IyBUZW1wCmluc2VydCgnJycKZGlvbjE5OTJhID0gREIoV29ya1VucmVsYXRlZCgKICAgIDE5OTIsICJFbGVtZW50cyBvZiBhIHByb2Nlc3MtaW1wcm92ZW1lbnQgcHJvZ3JhbSIsCiAgICBkaXNwbGF5PSJkaW9uIiwKICAgIGF1dGhvcnM9IkRpb24sIFIuIiwKICAgIHBsYWNlPUlFRUVTLAogICAgcHA9IjgzLTg1IiwKICAgIGVudHJ5dHlwZT0iYXJ0aWNsZSIsCiAgICB2b2x1bWU9IjkiLAogICAgbnVtYmVyPSI0IiwKICAgIG5vdGU9ImNpdGVkIEJ5IDI5IiwKICAgIElEPSJEaW9uMTk5MjgzIiwKICAgIHBsYWNleD0iSUVFRSBTb2Z0d2FyZSIsCikpCgpEQihDaXRhdGlvbigKICAgIG1jbG91Z2hsaW4yMDEwYSwgZGlvbjE5OTJhLCByZWY9IiIsCiAgICBjb250ZXh0cz1bCgogICAgXSwKKSkKCicnJywgY2l0YXRpb25zPSdtY2xvdWdobGluMjAxMGEnKTs=\"));\n",
       "    "
      ],
      "text/plain": [
       "<IPython.core.display.Javascript object>"
      ]
     },
     "metadata": {},
     "output_type": "display_data"
    },
    {
     "data": {
      "application/javascript": [
       "$('span:contains(\"# Temp\")').closest('.cell').remove();"
      ],
      "text/plain": [
       "<IPython.core.display.Javascript object>"
      ]
     },
     "metadata": {},
     "output_type": "display_data"
    },
    {
     "data": {
      "application/javascript": [
       "\n",
       "        $('span:contains(\"# Temp\")').closest('.cell').remove();\n",
       "        var code = IPython.notebook.insert_cell_below('code');\n",
       "        code.set_text(atob(\"IyBUZW1wCmluc2VydCgnJycKREIoQ2l0YXRpb24oCiAgICBtY2xvdWdobGluMjAxMGEsIGRpb24xOTkzYSwgcmVmPSIiLAogICAgY29udGV4dHM9WwoKICAgIF0sCikpCgonJycsIGNpdGF0aW9ucz0nbWNsb3VnaGxpbjIwMTBhJyk7\"));\n",
       "    "
      ],
      "text/plain": [
       "<IPython.core.display.Javascript object>"
      ]
     },
     "metadata": {},
     "output_type": "display_data"
    },
    {
     "data": {
      "application/javascript": [
       "$('span:contains(\"# Temp\")').closest('.cell').remove();"
      ],
      "text/plain": [
       "<IPython.core.display.Javascript object>"
      ]
     },
     "metadata": {},
     "output_type": "display_data"
    },
    {
     "data": {
      "application/javascript": [
       "\n",
       "        $('span:contains(\"# Temp\")').closest('.cell').remove();\n",
       "        var code = IPython.notebook.insert_cell_below('code');\n",
       "        code.set_text(atob(\"IyBUZW1wCmluc2VydCgnJycKREIoQ2l0YXRpb24oCiAgICBtY2xvdWdobGluMjAxMGEsIGRpb24xOTkzYSwgcmVmPSIiLAogICAgY29udGV4dHM9WwoKICAgIF0sCikpCgonJycsIGNpdGF0aW9ucz0nbWNsb3VnaGxpbjIwMTBhJyk7\"));\n",
       "    "
      ],
      "text/plain": [
       "<IPython.core.display.Javascript object>"
      ]
     },
     "metadata": {},
     "output_type": "display_data"
    },
    {
     "data": {
      "application/javascript": [
       "$('span:contains(\"# Temp\")').closest('.cell').remove();"
      ],
      "text/plain": [
       "<IPython.core.display.Javascript object>"
      ]
     },
     "metadata": {},
     "output_type": "display_data"
    },
    {
     "data": {
      "application/javascript": [
       "\n",
       "        $('span:contains(\"# Temp\")').closest('.cell').remove();\n",
       "        var code = IPython.notebook.insert_cell_below('code');\n",
       "        code.set_text(atob(\"IyBUZW1wCmluc2VydCgnJycKeWFtYW11cmExOTk3YSA9IERCKFdvcmtVbnJlbGF0ZWQoCiAgICAxOTk3LCAiU0VJIENNTSBsZXZlbCA1OiBGb3IgdGhlIHJpZ2h0IHJlYXNvbnMiLAogICAgZGlzcGxheT0ieWFtYW11cmEiLAogICAgYXV0aG9ycz0iWWFtYW11cmEsIEcuIGFuZCBXaWdsZSwgRy5CLiIsCiAgICBwbGFjZT1GQUtFLAogICAgcHA9IjMtNiIsCiAgICBlbnRyeXR5cGU9ImFydGljbGUiLAogICAgdm9sdW1lPSIxMCIsCiAgICBudW1iZXI9IjgiLAogICAgbm90ZT0iY2l0ZWQgQnkgMTYiLAogICAgSUQ9IllhbWFtdXJhMTk5NzMiLAogICAgcGxhY2V4PSJDcm9zc1RhbGsiLAopKQoKREIoQ2l0YXRpb24oCiAgICBtY2xvdWdobGluMjAxMGEsIHlhbWFtdXJhMTk5N2EsIHJlZj0iIiwKICAgIGNvbnRleHRzPVsKCiAgICBdLAopKQoKJycnLCBjaXRhdGlvbnM9J21jbG91Z2hsaW4yMDEwYScpOw==\"));\n",
       "    "
      ],
      "text/plain": [
       "<IPython.core.display.Javascript object>"
      ]
     },
     "metadata": {},
     "output_type": "display_data"
    },
    {
     "data": {
      "application/javascript": [
       "$('span:contains(\"# Temp\")').closest('.cell').remove();"
      ],
      "text/plain": [
       "<IPython.core.display.Javascript object>"
      ]
     },
     "metadata": {},
     "output_type": "display_data"
    },
    {
     "data": {
      "application/javascript": [
       "\n",
       "        $('span:contains(\"# Temp\")').closest('.cell').remove();\n",
       "        var code = IPython.notebook.insert_cell_below('code');\n",
       "        code.set_text(atob(\"IyBUZW1wCmluc2VydCgnJycKeWFtYW11cmExOTk3YSA9IERCKFdvcmtVbnJlbGF0ZWQoCiAgICAxOTk3LCAiU0VJIENNTSBsZXZlbCA1OiBGb3IgdGhlIHJpZ2h0IHJlYXNvbnMiLAogICAgZGlzcGxheT0ieWFtYW11cmEiLAogICAgYXV0aG9ycz0iWWFtYW11cmEsIEcuIGFuZCBXaWdsZSwgRy5CLiIsCiAgICBwbGFjZT1GQUtFLAogICAgcHA9IjMtNiIsCiAgICBlbnRyeXR5cGU9ImFydGljbGUiLAogICAgdm9sdW1lPSIxMCIsCiAgICBudW1iZXI9IjgiLAogICAgbm90ZT0iY2l0ZWQgQnkgMTYiLAogICAgSUQ9IllhbWFtdXJhMTk5NzMiLAogICAgcGxhY2V4PSJDcm9zc1RhbGsiLAopKQoKREIoQ2l0YXRpb24oCiAgICBtY2xvdWdobGluMjAxMGEsIHlhbWFtdXJhMTk5N2EsIHJlZj0iIiwKICAgIGNvbnRleHRzPVsKCiAgICBdLAopKQoKJycnLCBjaXRhdGlvbnM9J21jbG91Z2hsaW4yMDEwYScpOw==\"));\n",
       "    "
      ],
      "text/plain": [
       "<IPython.core.display.Javascript object>"
      ]
     },
     "metadata": {},
     "output_type": "display_data"
    },
    {
     "data": {
      "application/javascript": [
       "$('span:contains(\"# Temp\")').closest('.cell').remove();"
      ],
      "text/plain": [
       "<IPython.core.display.Javascript object>"
      ]
     },
     "metadata": {},
     "output_type": "display_data"
    },
    {
     "data": {
      "application/javascript": [
       "\n",
       "        $('span:contains(\"# Temp\")').closest('.cell').remove();\n",
       "        var code = IPython.notebook.insert_cell_below('code');\n",
       "        code.set_text(atob(\"IyBUZW1wCmluc2VydCgnJycKYnV0bGVyMjAwMGEgPSBEQihXb3JrVW5yZWxhdGVkKAogICAgMjAwMCwgIlNvZnR3YXJlIHByb2Nlc3MgYWNoaWV2ZW1lbnQgYXQgdGlua2VyIGFpciBmb3JjZSBiYXNlIG9rbGFobWEiLAogICAgZGlzcGxheT0iYnV0bGVyIiwKICAgIGF1dGhvcnM9IkJ1dGxlciwgSy5MLiBhbmQgTGlwa2UsIFcuIiwKICAgIHBsYWNlPUZBS0UsCiAgICBwcD0iNTgiLAogICAgZW50cnl0eXBlPSJhcnRpY2xlIiwKICAgIHZvbHVtZT0iNTgiLAogICAgbm90ZT0iY2l0ZWQgQnkgMiIsCiAgICBJRD0iQnV0bGVyMjAwMDU4IiwKICAgIHBsYWNleD0iU29mdHdhcmUgRW5naW5lZXJpbmcgSW5zdGl0dXRlIiwKKSkKCkRCKENpdGF0aW9uKAogICAgbWNsb3VnaGxpbjIwMTBhLCBidXRsZXIyMDAwYSwgcmVmPSIiLAogICAgY29udGV4dHM9WwoKICAgIF0sCikpCgonJycsIGNpdGF0aW9ucz0nbWNsb3VnaGxpbjIwMTBhJyk7\"));\n",
       "    "
      ],
      "text/plain": [
       "<IPython.core.display.Javascript object>"
      ]
     },
     "metadata": {},
     "output_type": "display_data"
    },
    {
     "data": {
      "application/javascript": [
       "$('span:contains(\"# Temp\")').closest('.cell').remove();"
      ],
      "text/plain": [
       "<IPython.core.display.Javascript object>"
      ]
     },
     "metadata": {},
     "output_type": "display_data"
    },
    {
     "data": {
      "application/javascript": [
       "\n",
       "        $('span:contains(\"# Temp\")').closest('.cell').remove();\n",
       "        var code = IPython.notebook.insert_cell_below('code');\n",
       "        code.set_text(atob(\"IyBUZW1wCmluc2VydCgnJycKYnV0bGVyMjAwMGEgPSBEQihXb3JrVW5yZWxhdGVkKAogICAgMjAwMCwgIlNvZnR3YXJlIHByb2Nlc3MgYWNoaWV2ZW1lbnQgYXQgdGlua2VyIGFpciBmb3JjZSBiYXNlIG9rbGFobWEiLAogICAgZGlzcGxheT0iYnV0bGVyIiwKICAgIGF1dGhvcnM9IkJ1dGxlciwgSy5MLiBhbmQgTGlwa2UsIFcuIiwKICAgIHBsYWNlPUZBS0UsCiAgICBwcD0iNTgiLAogICAgZW50cnl0eXBlPSJhcnRpY2xlIiwKICAgIHZvbHVtZT0iNTgiLAogICAgbm90ZT0iY2l0ZWQgQnkgMiIsCiAgICBJRD0iQnV0bGVyMjAwMDU4IiwKICAgIHBsYWNleD0iU29mdHdhcmUgRW5naW5lZXJpbmcgSW5zdGl0dXRlIiwKKSkKCkRCKENpdGF0aW9uKAogICAgbWNsb3VnaGxpbjIwMTBhLCBidXRsZXIyMDAwYSwgcmVmPSIiLAogICAgY29udGV4dHM9WwoKICAgIF0sCikpCgonJycsIGNpdGF0aW9ucz0nbWNsb3VnaGxpbjIwMTBhJyk7\"));\n",
       "    "
      ],
      "text/plain": [
       "<IPython.core.display.Javascript object>"
      ]
     },
     "metadata": {},
     "output_type": "display_data"
    },
    {
     "data": {
      "application/javascript": [
       "$('span:contains(\"# Temp\")').closest('.cell').remove();"
      ],
      "text/plain": [
       "<IPython.core.display.Javascript object>"
      ]
     },
     "metadata": {},
     "output_type": "display_data"
    },
    {
     "data": {
      "application/javascript": [
       "\n",
       "        $('span:contains(\"# Temp\")').closest('.cell').remove();\n",
       "        var code = IPython.notebook.insert_cell_below('code');\n",
       "        code.set_text(atob(\"IyBUZW1wCmluc2VydCgnJycKY21taTIwMDVhID0gREIoV29ya1VucmVsYXRlZCgKICAgIDIwMDUsICJDTU1JIFBlcmZvcm1hbmNlIFJlc3VsdHMgLSAyMDA1IiwKICAgIGRpc3BsYXk9ImNtbWkiLAogICAgYXV0aG9ycz0iQ01NSSIsCiAgICBwbGFjZT1GQUtFLAogICAgZW50cnl0eXBlPSJhcnRpY2xlIiwKICAgIHZvbHVtZT0iMjAwOCIsCiAgICBub3RlPSJjaXRlZCBCeSAxIiwKICAgIElEPSJjbW1pMjAwNSIsCiAgICBwbGFjZXg9IlNvZnR3YXJlIEVuZ2luZWVyaW5nIEluc3RpdHV0ZSIsCikpCgpEQihDaXRhdGlvbigKICAgIG1jbG91Z2hsaW4yMDEwYSwgY21taTIwMDVhLCByZWY9IiIsCiAgICBjb250ZXh0cz1bCgogICAgXSwKKSkKCicnJywgY2l0YXRpb25zPSdtY2xvdWdobGluMjAxMGEnKTs=\"));\n",
       "    "
      ],
      "text/plain": [
       "<IPython.core.display.Javascript object>"
      ]
     },
     "metadata": {},
     "output_type": "display_data"
    },
    {
     "data": {
      "application/javascript": [
       "$('span:contains(\"# Temp\")').closest('.cell').remove();"
      ],
      "text/plain": [
       "<IPython.core.display.Javascript object>"
      ]
     },
     "metadata": {},
     "output_type": "display_data"
    },
    {
     "data": {
      "application/javascript": [
       "\n",
       "        $('span:contains(\"# Temp\")').closest('.cell').remove();\n",
       "        var code = IPython.notebook.insert_cell_below('code');\n",
       "        code.set_text(atob(\"IyBUZW1wCmluc2VydCgnJycKY21taTIwMDVhID0gREIoV29ya1VucmVsYXRlZCgKICAgIDIwMDUsICJDTU1JIFBlcmZvcm1hbmNlIFJlc3VsdHMgLSAyMDA1IiwKICAgIGRpc3BsYXk9ImNtbWkiLAogICAgYXV0aG9ycz0iQ01NSSIsCiAgICBwbGFjZT1GQUtFLAogICAgZW50cnl0eXBlPSJhcnRpY2xlIiwKICAgIHZvbHVtZT0iMjAwOCIsCiAgICBub3RlPSJjaXRlZCBCeSAxIiwKICAgIElEPSJjbW1pMjAwNSIsCiAgICBwbGFjZXg9IlNvZnR3YXJlIEVuZ2luZWVyaW5nIEluc3RpdHV0ZSIsCikpCgpEQihDaXRhdGlvbigKICAgIG1jbG91Z2hsaW4yMDEwYSwgY21taTIwMDVhLCByZWY9IiIsCiAgICBjb250ZXh0cz1bCgogICAgXSwKKSkKCicnJywgY2l0YXRpb25zPSdtY2xvdWdobGluMjAxMGEnKTs=\"));\n",
       "    "
      ],
      "text/plain": [
       "<IPython.core.display.Javascript object>"
      ]
     },
     "metadata": {},
     "output_type": "display_data"
    },
    {
     "data": {
      "application/javascript": [
       "$('span:contains(\"# Temp\")').closest('.cell').remove();"
      ],
      "text/plain": [
       "<IPython.core.display.Javascript object>"
      ]
     },
     "metadata": {},
     "output_type": "display_data"
    },
    {
     "data": {
      "application/javascript": [
       "\n",
       "        $('span:contains(\"# Temp\")').closest('.cell').remove();\n",
       "        var code = IPython.notebook.insert_cell_below('code');\n",
       "        code.set_text(atob(\"IyBUZW1wCmluc2VydCgnJycKZW1hbTE5OTdiID0gREIoV29ya1VucmVsYXRlZCgKICAgIDE5OTcsICJDb3N0IGFuZCBCZW5lZml0cyBvZiBTb2Z0d2FyZSBQcm9jZXNzIEltcHJvdmVtZW50IiwKICAgIGRpc3BsYXk9ImVtYW0gYiIsCiAgICBhdXRob3JzPSJFbCBFbWFtLCBLLiBhbmQgQnJpYW5kLCBMLiIsCiAgICBwbGFjZT1GQUtFLAogICAgcHA9IjI3IiwKICAgIGVudHJ5dHlwZT0iYXJ0aWNsZSIsCiAgICBub3RlPSJjaXRlZCBCeSAxIiwKICAgIElEPSJFbEVtYW0xOTk3MjciLAogICAgcGxhY2V4PSJGcmF1bmhvZmVyIElFU0UiLAopKQoKREIoQ2l0YXRpb24oCiAgICBtY2xvdWdobGluMjAxMGEsIGVtYW0xOTk3YiwgcmVmPSIiLAogICAgY29udGV4dHM9WwoKICAgIF0sCikpCgonJycsIGNpdGF0aW9ucz0nbWNsb3VnaGxpbjIwMTBhJyk7\"));\n",
       "    "
      ],
      "text/plain": [
       "<IPython.core.display.Javascript object>"
      ]
     },
     "metadata": {},
     "output_type": "display_data"
    },
    {
     "data": {
      "application/javascript": [
       "$('span:contains(\"# Temp\")').closest('.cell').remove();"
      ],
      "text/plain": [
       "<IPython.core.display.Javascript object>"
      ]
     },
     "metadata": {},
     "output_type": "display_data"
    },
    {
     "data": {
      "application/javascript": [
       "\n",
       "        $('span:contains(\"# Temp\")').closest('.cell').remove();\n",
       "        var code = IPython.notebook.insert_cell_below('code');\n",
       "        code.set_text(atob(\"IyBUZW1wCmluc2VydCgnJycKZW1hbTE5OTdiID0gREIoV29ya1VucmVsYXRlZCgKICAgIDE5OTcsICJDb3N0IGFuZCBCZW5lZml0cyBvZiBTb2Z0d2FyZSBQcm9jZXNzIEltcHJvdmVtZW50IiwKICAgIGRpc3BsYXk9ImVtYW0gYiIsCiAgICBhdXRob3JzPSJFbCBFbWFtLCBLLiBhbmQgQnJpYW5kLCBMLiIsCiAgICBwbGFjZT1GQUtFLAogICAgcHA9IjI3IiwKICAgIGVudHJ5dHlwZT0iYXJ0aWNsZSIsCiAgICBub3RlPSJjaXRlZCBCeSAxIiwKICAgIElEPSJFbEVtYW0xOTk3MjciLAogICAgcGxhY2V4PSJGcmF1bmhvZmVyIElFU0UiLAopKQoKREIoQ2l0YXRpb24oCiAgICBtY2xvdWdobGluMjAxMGEsIGVtYW0xOTk3YiwgcmVmPSIiLAogICAgY29udGV4dHM9WwoKICAgIF0sCikpCgonJycsIGNpdGF0aW9ucz0nbWNsb3VnaGxpbjIwMTBhJyk7\"));\n",
       "    "
      ],
      "text/plain": [
       "<IPython.core.display.Javascript object>"
      ]
     },
     "metadata": {},
     "output_type": "display_data"
    },
    {
     "data": {
      "application/javascript": [
       "$('span:contains(\"# Temp\")').closest('.cell').remove();"
      ],
      "text/plain": [
       "<IPython.core.display.Javascript object>"
      ]
     },
     "metadata": {},
     "output_type": "display_data"
    },
    {
     "data": {
      "application/javascript": [
       "\n",
       "        $('span:contains(\"# Temp\")').closest('.cell').remove();\n",
       "        var code = IPython.notebook.insert_cell_below('code');\n",
       "        code.set_text(atob(\"IyBUZW1wCmluc2VydCgnJycKa3Jhc25lcjIwMTFhID0gREIoV29ya1VucmVsYXRlZCgKICAgIDIwMTEsICJBY2N1bXVsYXRpbmcgdGhlIGJvZHkgb2YgZXZpZGVuY2UgZm9yIHRoZSBwYXlvZmYgb2Ygc29mdHdhcmUgcHJvY2VzcyBpbXByb3Zlcm5lbnSXMTk5NyIsCiAgICBkaXNwbGF5PSJrcmFzbmVyIiwKICAgIGF1dGhvcnM9IktyYXNuZXIsIEguIiwKICAgIHBsYWNlPUJvb2ssCiAgICBwcD0iNTE5LTUzOSIsCiAgICBlbnRyeXR5cGU9ImJvb2siLAogICAgZG9pPSIxMC4xMTA5Lzk3ODExMTgxNTY2NjcuY2gxMSIsCiAgICBub3RlPSJjaXRlZCBCeSAxMiIsCiAgICBJRD0iS3Jhc25lcjIwMTE1MTkiLAogICAgcGxhY2V4PSJTb2Z0d2FyZSBQcm9jZXNzIEltcHJvdmVtZW50IiwKKSkKCkRCKENpdGF0aW9uKAogICAgbWNsb3VnaGxpbjIwMTBhLCBrcmFzbmVyMjAxMWEsIHJlZj0iIiwKICAgIGNvbnRleHRzPVsKCiAgICBdLAopKQoKJycnLCBjaXRhdGlvbnM9J21jbG91Z2hsaW4yMDEwYScpOw==\"));\n",
       "    "
      ],
      "text/plain": [
       "<IPython.core.display.Javascript object>"
      ]
     },
     "metadata": {},
     "output_type": "display_data"
    },
    {
     "data": {
      "application/javascript": [
       "$('span:contains(\"# Temp\")').closest('.cell').remove();"
      ],
      "text/plain": [
       "<IPython.core.display.Javascript object>"
      ]
     },
     "metadata": {},
     "output_type": "display_data"
    },
    {
     "data": {
      "application/javascript": [
       "\n",
       "        $('span:contains(\"# Temp\")').closest('.cell').remove();\n",
       "        var code = IPython.notebook.insert_cell_below('code');\n",
       "        code.set_text(atob(\"IyBUZW1wCmluc2VydCgnJycKa3Jhc25lcjIwMTFhID0gREIoV29ya1VucmVsYXRlZCgKICAgIDIwMTEsICJBY2N1bXVsYXRpbmcgdGhlIGJvZHkgb2YgZXZpZGVuY2UgZm9yIHRoZSBwYXlvZmYgb2Ygc29mdHdhcmUgcHJvY2VzcyBpbXByb3Zlcm5lbnSXMTk5NyIsCiAgICBkaXNwbGF5PSJrcmFzbmVyIiwKICAgIGF1dGhvcnM9IktyYXNuZXIsIEguIiwKICAgIHBsYWNlPUJvb2ssCiAgICBwcD0iNTE5LTUzOSIsCiAgICBlbnRyeXR5cGU9ImJvb2siLAogICAgZG9pPSIxMC4xMTA5Lzk3ODExMTgxNTY2NjcuY2gxMSIsCiAgICBub3RlPSJjaXRlZCBCeSAxMiIsCiAgICBJRD0iS3Jhc25lcjIwMTE1MTkiLAogICAgcGxhY2V4PSJTb2Z0d2FyZSBQcm9jZXNzIEltcHJvdmVtZW50IiwKKSkKCkRCKENpdGF0aW9uKAogICAgbWNsb3VnaGxpbjIwMTBhLCBrcmFzbmVyMjAxMWEsIHJlZj0iIiwKICAgIGNvbnRleHRzPVsKCiAgICBdLAopKQoKJycnLCBjaXRhdGlvbnM9J21jbG91Z2hsaW4yMDEwYScpOw==\"));\n",
       "    "
      ],
      "text/plain": [
       "<IPython.core.display.Javascript object>"
      ]
     },
     "metadata": {},
     "output_type": "display_data"
    },
    {
     "data": {
      "application/javascript": [
       "$('span:contains(\"# Temp\")').closest('.cell').remove();"
      ],
      "text/plain": [
       "<IPython.core.display.Javascript object>"
      ]
     },
     "metadata": {},
     "output_type": "display_data"
    },
    {
     "data": {
      "application/javascript": [
       "\n",
       "        $('span:contains(\"# Temp\")').closest('.cell').remove();\n",
       "        var code = IPython.notebook.insert_cell_below('code');\n",
       "        code.set_text(atob(\"IyBUZW1wCmluc2VydCgnJycKREIoQ2l0YXRpb24oCiAgICBtY2xvdWdobGluMjAxMGEsIGJyb2RtYW4xOTk1YSwgcmVmPSIiLAogICAgY29udGV4dHM9WwoKICAgIF0sCikpCgonJycsIGNpdGF0aW9ucz0nbWNsb3VnaGxpbjIwMTBhJyk7\"));\n",
       "    "
      ],
      "text/plain": [
       "<IPython.core.display.Javascript object>"
      ]
     },
     "metadata": {},
     "output_type": "display_data"
    },
    {
     "data": {
      "application/javascript": [
       "$('span:contains(\"# Temp\")').closest('.cell').remove();"
      ],
      "text/plain": [
       "<IPython.core.display.Javascript object>"
      ]
     },
     "metadata": {},
     "output_type": "display_data"
    },
    {
     "data": {
      "application/javascript": [
       "\n",
       "        $('span:contains(\"# Temp\")').closest('.cell').remove();\n",
       "        var code = IPython.notebook.insert_cell_below('code');\n",
       "        code.set_text(atob(\"IyBUZW1wCmluc2VydCgnJycKREIoQ2l0YXRpb24oCiAgICBtY2xvdWdobGluMjAxMGEsIGJyb2RtYW4xOTk1YSwgcmVmPSIiLAogICAgY29udGV4dHM9WwoKICAgIF0sCikpCgonJycsIGNpdGF0aW9ucz0nbWNsb3VnaGxpbjIwMTBhJyk7\"));\n",
       "    "
      ],
      "text/plain": [
       "<IPython.core.display.Javascript object>"
      ]
     },
     "metadata": {},
     "output_type": "display_data"
    },
    {
     "data": {
      "application/javascript": [
       "$('span:contains(\"# Temp\")').closest('.cell').remove();"
      ],
      "text/plain": [
       "<IPython.core.display.Javascript object>"
      ]
     },
     "metadata": {},
     "output_type": "display_data"
    },
    {
     "data": {
      "application/javascript": [
       "\n",
       "        $('span:contains(\"# Temp\")').closest('.cell').remove();\n",
       "        var code = IPython.notebook.insert_cell_below('code');\n",
       "        code.set_text(atob(\"IyBUZW1wCmluc2VydCgnJycKYnJvZG1hbjE5OTZhID0gREIoV29ya1VucmVsYXRlZCgKICAgIDE5OTYsICJSZXR1cm4gb24gSW52ZXN0bWVudCBmcm9tIFNvZnR3YXJlIFByb2Nlc3MgSW1wcm92ZW1lbnQgYXMgTWVhc3VyZWQgYnkgVS5TLiBJbmR1c3RyeSIsCiAgICBkaXNwbGF5PSJicm9kbWFuIiwKICAgIGF1dGhvcnM9IkJyb2RtYW4sIEouRy4gYW5kIEpvaG5zb24sIEQuTC4iLAogICAgcGxhY2U9RkFLRSwKICAgIGVudHJ5dHlwZT0iYXJ0aWNsZSIsCiAgICBub3RlPSJjaXRlZCBCeSAxIiwKICAgIElEPSJCcm9kbWFuMTk5NiIsCiAgICBwbGFjZXg9IkNyb3NzVGFsayAtIFRoZSBKb3VybmFsIG9mIERlZmVuc2UgU29mdHdhcmUgRW5naW5lZXJpbmciLAopKQoKREIoQ2l0YXRpb24oCiAgICBtY2xvdWdobGluMjAxMGEsIGJyb2RtYW4xOTk2YSwgcmVmPSIiLAogICAgY29udGV4dHM9WwoKICAgIF0sCikpCgonJycsIGNpdGF0aW9ucz0nbWNsb3VnaGxpbjIwMTBhJyk7\"));\n",
       "    "
      ],
      "text/plain": [
       "<IPython.core.display.Javascript object>"
      ]
     },
     "metadata": {},
     "output_type": "display_data"
    },
    {
     "data": {
      "application/javascript": [
       "$('span:contains(\"# Temp\")').closest('.cell').remove();"
      ],
      "text/plain": [
       "<IPython.core.display.Javascript object>"
      ]
     },
     "metadata": {},
     "output_type": "display_data"
    },
    {
     "data": {
      "application/javascript": [
       "\n",
       "        $('span:contains(\"# Temp\")').closest('.cell').remove();\n",
       "        var code = IPython.notebook.insert_cell_below('code');\n",
       "        code.set_text(atob(\"IyBUZW1wCmluc2VydCgnJycKYnJvZG1hbjE5OTZhID0gREIoV29ya1VucmVsYXRlZCgKICAgIDE5OTYsICJSZXR1cm4gb24gSW52ZXN0bWVudCBmcm9tIFNvZnR3YXJlIFByb2Nlc3MgSW1wcm92ZW1lbnQgYXMgTWVhc3VyZWQgYnkgVS5TLiBJbmR1c3RyeSIsCiAgICBkaXNwbGF5PSJicm9kbWFuIiwKICAgIGF1dGhvcnM9IkJyb2RtYW4sIEouRy4gYW5kIEpvaG5zb24sIEQuTC4iLAogICAgcGxhY2U9RkFLRSwKICAgIGVudHJ5dHlwZT0iYXJ0aWNsZSIsCiAgICBub3RlPSJjaXRlZCBCeSAxIiwKICAgIElEPSJCcm9kbWFuMTk5NiIsCiAgICBwbGFjZXg9IkNyb3NzVGFsayAtIFRoZSBKb3VybmFsIG9mIERlZmVuc2UgU29mdHdhcmUgRW5naW5lZXJpbmciLAopKQoKREIoQ2l0YXRpb24oCiAgICBtY2xvdWdobGluMjAxMGEsIGJyb2RtYW4xOTk2YSwgcmVmPSIiLAogICAgY29udGV4dHM9WwoKICAgIF0sCikpCgonJycsIGNpdGF0aW9ucz0nbWNsb3VnaGxpbjIwMTBhJyk7\"));\n",
       "    "
      ],
      "text/plain": [
       "<IPython.core.display.Javascript object>"
      ]
     },
     "metadata": {},
     "output_type": "display_data"
    },
    {
     "data": {
      "application/javascript": [
       "$('span:contains(\"# Temp\")').closest('.cell').remove();"
      ],
      "text/plain": [
       "<IPython.core.display.Javascript object>"
      ]
     },
     "metadata": {},
     "output_type": "display_data"
    },
    {
     "data": {
      "application/javascript": [
       "\n",
       "        $('span:contains(\"# Temp\")').closest('.cell').remove();\n",
       "        var code = IPython.notebook.insert_cell_below('code');\n",
       "        code.set_text(atob(\"IyBUZW1wCmluc2VydCgnJycKcGZsZWVnZXIxOTk2YSA9IERCKFdvcmtVbnJlbGF0ZWQoCiAgICAxOTk2LCAiUmVhbGl0aWVzIGFuZCByZXdhcmRzIG9mIHNvZnR3YXJlIHByb2Nlc3MgaW1wcm92ZW1lbnQiLAogICAgZGlzcGxheT0icGZsZWVnZXIiLAogICAgYXV0aG9ycz0iUGZsZWVnZXIsIFMuTC4iLAogICAgcGxhY2U9SUVFRVMsCiAgICBwcD0iOTktMTAxIiwKICAgIGVudHJ5dHlwZT0iYXJ0aWNsZSIsCiAgICB2b2x1bWU9IjEzIiwKICAgIG51bWJlcj0iNiIsCiAgICBub3RlPSJjaXRlZCBCeSAxNSIsCiAgICBJRD0iUGZsZWVnZXIxOTk2OTkiLAogICAgcGxhY2V4PSJJRUVFIFNvZnR3YXJlIiwKKSkKCkRCKENpdGF0aW9uKAogICAgbWNsb3VnaGxpbjIwMTBhLCBwZmxlZWdlcjE5OTZhLCByZWY9IiIsCiAgICBjb250ZXh0cz1bCgogICAgXSwKKSkKCicnJywgY2l0YXRpb25zPSdtY2xvdWdobGluMjAxMGEnKTs=\"));\n",
       "    "
      ],
      "text/plain": [
       "<IPython.core.display.Javascript object>"
      ]
     },
     "metadata": {},
     "output_type": "display_data"
    },
    {
     "data": {
      "application/javascript": [
       "$('span:contains(\"# Temp\")').closest('.cell').remove();"
      ],
      "text/plain": [
       "<IPython.core.display.Javascript object>"
      ]
     },
     "metadata": {},
     "output_type": "display_data"
    },
    {
     "data": {
      "application/javascript": [
       "\n",
       "        $('span:contains(\"# Temp\")').closest('.cell').remove();\n",
       "        var code = IPython.notebook.insert_cell_below('code');\n",
       "        code.set_text(atob(\"IyBUZW1wCmluc2VydCgnJycKcGZsZWVnZXIxOTk2YSA9IERCKFdvcmtVbnJlbGF0ZWQoCiAgICAxOTk2LCAiUmVhbGl0aWVzIGFuZCByZXdhcmRzIG9mIHNvZnR3YXJlIHByb2Nlc3MgaW1wcm92ZW1lbnQiLAogICAgZGlzcGxheT0icGZsZWVnZXIiLAogICAgYXV0aG9ycz0iUGZsZWVnZXIsIFMuTC4iLAogICAgcGxhY2U9SUVFRVMsCiAgICBwcD0iOTktMTAxIiwKICAgIGVudHJ5dHlwZT0iYXJ0aWNsZSIsCiAgICB2b2x1bWU9IjEzIiwKICAgIG51bWJlcj0iNiIsCiAgICBub3RlPSJjaXRlZCBCeSAxNSIsCiAgICBJRD0iUGZsZWVnZXIxOTk2OTkiLAogICAgcGxhY2V4PSJJRUVFIFNvZnR3YXJlIiwKKSkKCkRCKENpdGF0aW9uKAogICAgbWNsb3VnaGxpbjIwMTBhLCBwZmxlZWdlcjE5OTZhLCByZWY9IiIsCiAgICBjb250ZXh0cz1bCgogICAgXSwKKSkKCicnJywgY2l0YXRpb25zPSdtY2xvdWdobGluMjAxMGEnKTs=\"));\n",
       "    "
      ],
      "text/plain": [
       "<IPython.core.display.Javascript object>"
      ]
     },
     "metadata": {},
     "output_type": "display_data"
    },
    {
     "data": {
      "application/javascript": [
       "$('span:contains(\"# Temp\")').closest('.cell').remove();"
      ],
      "text/plain": [
       "<IPython.core.display.Javascript object>"
      ]
     },
     "metadata": {},
     "output_type": "display_data"
    },
    {
     "data": {
      "application/javascript": [
       "\n",
       "        $('span:contains(\"# Temp\")').closest('.cell').remove();\n",
       "        var code = IPython.notebook.insert_cell_below('code');\n",
       "        code.set_text(atob(\"IyBUZW1wCmluc2VydCgnJycKYnV0bGVyMTk5NWEgPSBEQihXb3JrVW5yZWxhdGVkKAogICAgMTk5NSwgIlRoZSBlY29ub21pYyBiZW5lZml0cyBvZiBzb2Z0d2FyZSBwcm9jZXNzIGltcHJvdmVtZW50IiwKICAgIGRpc3BsYXk9ImJ1dGxlciIsCiAgICBhdXRob3JzPSJCdXRsZXIsIEsuTC4iLAogICAgcGxhY2U9RkFLRSwKICAgIHBwPSIxNC0xNyIsCiAgICBlbnRyeXR5cGU9ImFydGljbGUiLAogICAgdm9sdW1lPSI4IiwKICAgIG51bWJlcj0iNyIsCiAgICBub3RlPSJjaXRlZCBCeSAzMSIsCiAgICBJRD0iQnV0bGVyMTk5NTE0IiwKICAgIHBsYWNleD0iQ3Jvc3NUYWxrIiwKKSkKCkRCKENpdGF0aW9uKAogICAgbWNsb3VnaGxpbjIwMTBhLCBidXRsZXIxOTk1YSwgcmVmPSIiLAogICAgY29udGV4dHM9WwoKICAgIF0sCikpCgonJycsIGNpdGF0aW9ucz0nbWNsb3VnaGxpbjIwMTBhJyk7\"));\n",
       "    "
      ],
      "text/plain": [
       "<IPython.core.display.Javascript object>"
      ]
     },
     "metadata": {},
     "output_type": "display_data"
    },
    {
     "data": {
      "application/javascript": [
       "$('span:contains(\"# Temp\")').closest('.cell').remove();"
      ],
      "text/plain": [
       "<IPython.core.display.Javascript object>"
      ]
     },
     "metadata": {},
     "output_type": "display_data"
    },
    {
     "data": {
      "application/javascript": [
       "\n",
       "        $('span:contains(\"# Temp\")').closest('.cell').remove();\n",
       "        var code = IPython.notebook.insert_cell_below('code');\n",
       "        code.set_text(atob(\"IyBUZW1wCmluc2VydCgnJycKYnV0bGVyMTk5NWEgPSBEQihXb3JrVW5yZWxhdGVkKAogICAgMTk5NSwgIlRoZSBlY29ub21pYyBiZW5lZml0cyBvZiBzb2Z0d2FyZSBwcm9jZXNzIGltcHJvdmVtZW50IiwKICAgIGRpc3BsYXk9ImJ1dGxlciIsCiAgICBhdXRob3JzPSJCdXRsZXIsIEsuTC4iLAogICAgcGxhY2U9RkFLRSwKICAgIHBwPSIxNC0xNyIsCiAgICBlbnRyeXR5cGU9ImFydGljbGUiLAogICAgdm9sdW1lPSI4IiwKICAgIG51bWJlcj0iNyIsCiAgICBub3RlPSJjaXRlZCBCeSAzMSIsCiAgICBJRD0iQnV0bGVyMTk5NTE0IiwKICAgIHBsYWNleD0iQ3Jvc3NUYWxrIiwKKSkKCkRCKENpdGF0aW9uKAogICAgbWNsb3VnaGxpbjIwMTBhLCBidXRsZXIxOTk1YSwgcmVmPSIiLAogICAgY29udGV4dHM9WwoKICAgIF0sCikpCgonJycsIGNpdGF0aW9ucz0nbWNsb3VnaGxpbjIwMTBhJyk7\"));\n",
       "    "
      ],
      "text/plain": [
       "<IPython.core.display.Javascript object>"
      ]
     },
     "metadata": {},
     "output_type": "display_data"
    },
    {
     "data": {
      "application/javascript": [
       "$('span:contains(\"# Temp\")').closest('.cell').remove();"
      ],
      "text/plain": [
       "<IPython.core.display.Javascript object>"
      ]
     },
     "metadata": {},
     "output_type": "display_data"
    },
    {
     "data": {
      "application/javascript": [
       "\n",
       "        $('span:contains(\"# Temp\")').closest('.cell').remove();\n",
       "        var code = IPython.notebook.insert_cell_below('code');\n",
       "        code.set_text(atob(\"IyBUZW1wCmluc2VydCgnJycKREIoQ2l0YXRpb24oCiAgICBtY2xvdWdobGluMjAxMGEsIGhlcmJzbGViMTk5NGEsIHJlZj0iIiwKICAgIGNvbnRleHRzPVsKCiAgICBdLAopKQoKJycnLCBjaXRhdGlvbnM9J21jbG91Z2hsaW4yMDEwYScpOwpzZXRfYXR0cmlidXRlKCdoZXJic2xlYjE5OTRhJywgJ25vdGUnLCAnY2l0ZWQgQnkgMTE3Jyk7\"));\n",
       "    "
      ],
      "text/plain": [
       "<IPython.core.display.Javascript object>"
      ]
     },
     "metadata": {},
     "output_type": "display_data"
    },
    {
     "data": {
      "application/javascript": [
       "$('span:contains(\"# Temp\")').closest('.cell').remove();"
      ],
      "text/plain": [
       "<IPython.core.display.Javascript object>"
      ]
     },
     "metadata": {},
     "output_type": "display_data"
    },
    {
     "data": {
      "application/javascript": [
       "\n",
       "        $('span:contains(\"# Temp\")').closest('.cell').remove();\n",
       "        var code = IPython.notebook.insert_cell_below('code');\n",
       "        code.set_text(atob(\"IyBUZW1wCmluc2VydCgnJycKREIoQ2l0YXRpb24oCiAgICBtY2xvdWdobGluMjAxMGEsIGhlcmJzbGViMTk5NGEsIHJlZj0iIiwKICAgIGNvbnRleHRzPVsKCiAgICBdLAopKQoKJycnLCBjaXRhdGlvbnM9J21jbG91Z2hsaW4yMDEwYScpOwpzZXRfYXR0cmlidXRlKCdoZXJic2xlYjE5OTRhJywgJ25vdGUnLCAnY2l0ZWQgQnkgMTE3Jyk7\"));\n",
       "    "
      ],
      "text/plain": [
       "<IPython.core.display.Javascript object>"
      ]
     },
     "metadata": {},
     "output_type": "display_data"
    },
    {
     "data": {
      "application/javascript": [
       "$('span:contains(\"# Temp\")').closest('.cell').remove();"
      ],
      "text/plain": [
       "<IPython.core.display.Javascript object>"
      ]
     },
     "metadata": {},
     "output_type": "display_data"
    },
    {
     "data": {
      "application/javascript": [
       "\n",
       "        $('span:contains(\"# Temp\")').closest('.cell').remove();\n",
       "        var code = IPython.notebook.insert_cell_below('code');\n",
       "        code.set_text(atob(\"IyBUZW1wCmluc2VydCgnJycKaGVyYnNsZWIxOTk0YiA9IERCKFdvcmtVbnJlbGF0ZWQoCiAgICAxOTk0LCAiQmVuZWZpdHMgb2YgQ01NLUJhc2VkIFNvZnR3YXJlIFByb2Nlc3MgSW1wcm92ZW1lbnQ6IEV4ZWN1dGl2ZSBTdW1tYXJ5IG9mIFJlc3VsdHMiLAogICAgZGlzcGxheT0iaGVyYnNsZWIgYiIsCiAgICBhdXRob3JzPSJIZXJic2xlYiwgSi4gYW5kIENhcmxldG9uLCBBLiBhbmQgUm96dW0sIEouIGFuZCBTaWVnZWwsIEouIGFuZCBadWJyb3csIEQuIiwKICAgIHBsYWNlPUZBS0UsCiAgICBwcD0iMTYiLAogICAgZW50cnl0eXBlPSJhcnRpY2xlIiwKICAgIHZvbHVtZT0iMTYiLAogICAgbm90ZT0iY2l0ZWQgQnkgMiIsCiAgICBJRD0iSGVyYnNsZWIxOTk0MTYiLAogICAgcGxhY2V4PSJTb2Z0d2FyZSBFbmdpbmVlcmluZyBJbnN0aXR1dGUiLAopKQoKREIoQ2l0YXRpb24oCiAgICBtY2xvdWdobGluMjAxMGEsIGhlcmJzbGViMTk5NGIsIHJlZj0iIiwKICAgIGNvbnRleHRzPVsKCiAgICBdLAopKQoKJycnLCBjaXRhdGlvbnM9J21jbG91Z2hsaW4yMDEwYScpOw==\"));\n",
       "    "
      ],
      "text/plain": [
       "<IPython.core.display.Javascript object>"
      ]
     },
     "metadata": {},
     "output_type": "display_data"
    },
    {
     "data": {
      "application/javascript": [
       "$('span:contains(\"# Temp\")').closest('.cell').remove();"
      ],
      "text/plain": [
       "<IPython.core.display.Javascript object>"
      ]
     },
     "metadata": {},
     "output_type": "display_data"
    },
    {
     "data": {
      "application/javascript": [
       "\n",
       "        $('span:contains(\"# Temp\")').closest('.cell').remove();\n",
       "        var code = IPython.notebook.insert_cell_below('code');\n",
       "        code.set_text(atob(\"IyBUZW1wCmluc2VydCgnJycKaGVyYnNsZWIxOTk0YiA9IERCKFdvcmtVbnJlbGF0ZWQoCiAgICAxOTk0LCAiQmVuZWZpdHMgb2YgQ01NLUJhc2VkIFNvZnR3YXJlIFByb2Nlc3MgSW1wcm92ZW1lbnQ6IEV4ZWN1dGl2ZSBTdW1tYXJ5IG9mIFJlc3VsdHMiLAogICAgZGlzcGxheT0iaGVyYnNsZWIgYiIsCiAgICBhdXRob3JzPSJIZXJic2xlYiwgSi4gYW5kIENhcmxldG9uLCBBLiBhbmQgUm96dW0sIEouIGFuZCBTaWVnZWwsIEouIGFuZCBadWJyb3csIEQuIiwKICAgIHBsYWNlPUZBS0UsCiAgICBwcD0iMTYiLAogICAgZW50cnl0eXBlPSJhcnRpY2xlIiwKICAgIHZvbHVtZT0iMTYiLAogICAgbm90ZT0iY2l0ZWQgQnkgMiIsCiAgICBJRD0iSGVyYnNsZWIxOTk0MTYiLAogICAgcGxhY2V4PSJTb2Z0d2FyZSBFbmdpbmVlcmluZyBJbnN0aXR1dGUiLAopKQoKREIoQ2l0YXRpb24oCiAgICBtY2xvdWdobGluMjAxMGEsIGhlcmJzbGViMTk5NGIsIHJlZj0iIiwKICAgIGNvbnRleHRzPVsKCiAgICBdLAopKQoKJycnLCBjaXRhdGlvbnM9J21jbG91Z2hsaW4yMDEwYScpOw==\"));\n",
       "    "
      ],
      "text/plain": [
       "<IPython.core.display.Javascript object>"
      ]
     },
     "metadata": {},
     "output_type": "display_data"
    },
    {
     "data": {
      "application/javascript": [
       "$('span:contains(\"# Temp\")').closest('.cell').remove();"
      ],
      "text/plain": [
       "<IPython.core.display.Javascript object>"
      ]
     },
     "metadata": {},
     "output_type": "display_data"
    },
    {
     "data": {
      "application/javascript": [
       "\n",
       "        $('span:contains(\"# Temp\")').closest('.cell').remove();\n",
       "        var code = IPython.notebook.insert_cell_below('code');\n",
       "        code.set_text(atob(\"IyBUZW1wCmluc2VydCgnJycKREIoQ2l0YXRpb24oCiAgICBtY2xvdWdobGluMjAxMGEsIGdvbGRlbnNvbjIwMDNhLCByZWY9IiIsCiAgICBjb250ZXh0cz1bCgogICAgXSwKKSkKCicnJywgY2l0YXRpb25zPSdtY2xvdWdobGluMjAxMGEnKTsKc2V0X2F0dHJpYnV0ZSgnZ29sZGVuc29uMjAwM2EnLCAncHAnLCAnNTUnKTs=\"));\n",
       "    "
      ],
      "text/plain": [
       "<IPython.core.display.Javascript object>"
      ]
     },
     "metadata": {},
     "output_type": "display_data"
    },
    {
     "data": {
      "application/javascript": [
       "$('span:contains(\"# Temp\")').closest('.cell').remove();"
      ],
      "text/plain": [
       "<IPython.core.display.Javascript object>"
      ]
     },
     "metadata": {},
     "output_type": "display_data"
    },
    {
     "data": {
      "application/javascript": [
       "\n",
       "        $('span:contains(\"# Temp\")').closest('.cell').remove();\n",
       "        var code = IPython.notebook.insert_cell_below('code');\n",
       "        code.set_text(atob(\"IyBUZW1wCmluc2VydCgnJycKREIoQ2l0YXRpb24oCiAgICBtY2xvdWdobGluMjAxMGEsIGdvbGRlbnNvbjIwMDNhLCByZWY9IiIsCiAgICBjb250ZXh0cz1bCgogICAgXSwKKSkKCicnJywgY2l0YXRpb25zPSdtY2xvdWdobGluMjAxMGEnKTsKc2V0X2F0dHJpYnV0ZSgnZ29sZGVuc29uMjAwM2EnLCAncHAnLCAnNTUnKTs=\"));\n",
       "    "
      ],
      "text/plain": [
       "<IPython.core.display.Javascript object>"
      ]
     },
     "metadata": {},
     "output_type": "display_data"
    },
    {
     "data": {
      "application/javascript": [
       "$('span:contains(\"# Temp\")').closest('.cell').remove();"
      ],
      "text/plain": [
       "<IPython.core.display.Javascript object>"
      ]
     },
     "metadata": {},
     "output_type": "display_data"
    },
    {
     "data": {
      "application/javascript": [
       "\n",
       "        $('span:contains(\"# Temp\")').closest('.cell').remove();\n",
       "        var code = IPython.notebook.insert_cell_below('code');\n",
       "        code.set_text(atob(\"IyBUZW1wCmluc2VydCgnJycKYnVyemN1azIwMDJhID0gREIoV29ya1VucmVsYXRlZCgKICAgIDIwMDIsICJTb2Z0d2FyZSBDb25maWd1cmF0aW9uIE1hbmFnZW1lbnQgUGF0dGVybnM6IEVmZmVjdGl2ZSBUZWFtd29yaywgUHJhY3RpY2FsIEludGVncmF0aW9uIiwKICAgIGRpc3BsYXk9ImJ1cnpjdWsiLAogICAgYXV0aG9ycz0iQnVyemN1aywgUy5QLiBhbmQgQXBwbGV0b24sIEIuIiwKICAgIHBsYWNlPUZBS0UsCiAgICBlbnRyeXR5cGU9ImFydGljbGUiLAogICAgbm90ZT0iY2l0ZWQgQnkgMSIsCiAgICBJRD0iQnVyemN1azIwMDIiLAogICAgcGxhY2V4PSJBZGRpc29uIFdlc2xleSwgUmVhZGluZyIsCikpCgpEQihDaXRhdGlvbigKICAgIG1jbG91Z2hsaW4yMDEwYSwgYnVyemN1azIwMDJhLCByZWY9IiIsCiAgICBjb250ZXh0cz1bCgogICAgXSwKKSkKCicnJywgY2l0YXRpb25zPSdtY2xvdWdobGluMjAxMGEnKTs=\"));\n",
       "    "
      ],
      "text/plain": [
       "<IPython.core.display.Javascript object>"
      ]
     },
     "metadata": {},
     "output_type": "display_data"
    },
    {
     "data": {
      "application/javascript": [
       "$('span:contains(\"# Temp\")').closest('.cell').remove();"
      ],
      "text/plain": [
       "<IPython.core.display.Javascript object>"
      ]
     },
     "metadata": {},
     "output_type": "display_data"
    },
    {
     "data": {
      "application/javascript": [
       "\n",
       "        $('span:contains(\"# Temp\")').closest('.cell').remove();\n",
       "        var code = IPython.notebook.insert_cell_below('code');\n",
       "        code.set_text(atob(\"IyBUZW1wCmluc2VydCgnJycKYnVyemN1azIwMDJhID0gREIoV29ya1VucmVsYXRlZCgKICAgIDIwMDIsICJTb2Z0d2FyZSBDb25maWd1cmF0aW9uIE1hbmFnZW1lbnQgUGF0dGVybnM6IEVmZmVjdGl2ZSBUZWFtd29yaywgUHJhY3RpY2FsIEludGVncmF0aW9uIiwKICAgIGRpc3BsYXk9ImJ1cnpjdWsiLAogICAgYXV0aG9ycz0iQnVyemN1aywgUy5QLiBhbmQgQXBwbGV0b24sIEIuIiwKICAgIHBsYWNlPUZBS0UsCiAgICBlbnRyeXR5cGU9ImFydGljbGUiLAogICAgbm90ZT0iY2l0ZWQgQnkgMSIsCiAgICBJRD0iQnVyemN1azIwMDIiLAogICAgcGxhY2V4PSJBZGRpc29uIFdlc2xleSwgUmVhZGluZyIsCikpCgpEQihDaXRhdGlvbigKICAgIG1jbG91Z2hsaW4yMDEwYSwgYnVyemN1azIwMDJhLCByZWY9IiIsCiAgICBjb250ZXh0cz1bCgogICAgXSwKKSkKCicnJywgY2l0YXRpb25zPSdtY2xvdWdobGluMjAxMGEnKTs=\"));\n",
       "    "
      ],
      "text/plain": [
       "<IPython.core.display.Javascript object>"
      ]
     },
     "metadata": {},
     "output_type": "display_data"
    },
    {
     "data": {
      "application/javascript": [
       "$('span:contains(\"# Temp\")').closest('.cell').remove();"
      ],
      "text/plain": [
       "<IPython.core.display.Javascript object>"
      ]
     },
     "metadata": {},
     "output_type": "display_data"
    },
    {
     "data": {
      "application/javascript": [
       "\n",
       "        $('span:contains(\"# Temp\")').closest('.cell').remove();\n",
       "        var code = IPython.notebook.insert_cell_below('code');\n",
       "        code.set_text(atob(\"IyBUZW1wCmluc2VydCgnJycKZ2FybXVzMjAwN2EgPSBEQihXb3JrVW5yZWxhdGVkKAogICAgMjAwNywgIkltcHJvdmVkIHBlcmZvcm1hbmNlIHNob3VsZCBiZSBleHBlY3RlZCBmcm9tIHByb2Nlc3MgaW1wcm92ZW1lbnQiLAogICAgZGlzcGxheT0iZ2FybXVzIiwKICAgIGF1dGhvcnM9Ikdhcm11cywgRC4gYW5kIEl3YW5pY2tpLCBTLiIsCiAgICBwbGFjZT1GQUtFLAogICAgcHA9IjE0LTE3IiwKICAgIGVudHJ5dHlwZT0iYXJ0aWNsZSIsCiAgICB2b2x1bWU9IjEwIiwKICAgIG51bWJlcj0iMSIsCiAgICBub3RlPSJjaXRlZCBCeSAzIiwKICAgIElEPSJHYXJtdXMyMDA3MTQiLAogICAgcGxhY2V4PSJTb2Z0d2FyZVRlY2giLAopKQoKREIoQ2l0YXRpb24oCiAgICBtY2xvdWdobGluMjAxMGEsIGdhcm11czIwMDdhLCByZWY9IiIsCiAgICBjb250ZXh0cz1bCgogICAgXSwKKSkKCicnJywgY2l0YXRpb25zPSdtY2xvdWdobGluMjAxMGEnKTs=\"));\n",
       "    "
      ],
      "text/plain": [
       "<IPython.core.display.Javascript object>"
      ]
     },
     "metadata": {},
     "output_type": "display_data"
    },
    {
     "data": {
      "application/javascript": [
       "$('span:contains(\"# Temp\")').closest('.cell').remove();"
      ],
      "text/plain": [
       "<IPython.core.display.Javascript object>"
      ]
     },
     "metadata": {},
     "output_type": "display_data"
    },
    {
     "data": {
      "application/javascript": [
       "\n",
       "        $('span:contains(\"# Temp\")').closest('.cell').remove();\n",
       "        var code = IPython.notebook.insert_cell_below('code');\n",
       "        code.set_text(atob(\"IyBUZW1wCmluc2VydCgnJycKZ2FybXVzMjAwN2EgPSBEQihXb3JrVW5yZWxhdGVkKAogICAgMjAwNywgIkltcHJvdmVkIHBlcmZvcm1hbmNlIHNob3VsZCBiZSBleHBlY3RlZCBmcm9tIHByb2Nlc3MgaW1wcm92ZW1lbnQiLAogICAgZGlzcGxheT0iZ2FybXVzIiwKICAgIGF1dGhvcnM9Ikdhcm11cywgRC4gYW5kIEl3YW5pY2tpLCBTLiIsCiAgICBwbGFjZT1GQUtFLAogICAgcHA9IjE0LTE3IiwKICAgIGVudHJ5dHlwZT0iYXJ0aWNsZSIsCiAgICB2b2x1bWU9IjEwIiwKICAgIG51bWJlcj0iMSIsCiAgICBub3RlPSJjaXRlZCBCeSAzIiwKICAgIElEPSJHYXJtdXMyMDA3MTQiLAogICAgcGxhY2V4PSJTb2Z0d2FyZVRlY2giLAopKQoKREIoQ2l0YXRpb24oCiAgICBtY2xvdWdobGluMjAxMGEsIGdhcm11czIwMDdhLCByZWY9IiIsCiAgICBjb250ZXh0cz1bCgogICAgXSwKKSkKCicnJywgY2l0YXRpb25zPSdtY2xvdWdobGluMjAxMGEnKTs=\"));\n",
       "    "
      ],
      "text/plain": [
       "<IPython.core.display.Javascript object>"
      ]
     },
     "metadata": {},
     "output_type": "display_data"
    },
    {
     "data": {
      "application/javascript": [
       "$('span:contains(\"# Temp\")').closest('.cell').remove();"
      ],
      "text/plain": [
       "<IPython.core.display.Javascript object>"
      ]
     },
     "metadata": {},
     "output_type": "display_data"
    },
    {
     "data": {
      "application/javascript": [
       "\n",
       "        $('span:contains(\"# Temp\")').closest('.cell').remove();\n",
       "        var code = IPython.notebook.insert_cell_below('code');\n",
       "        code.set_text(atob(\"IyBUZW1wCmluc2VydCgnJycKa3Jhc25lcjE5OTRhID0gREIoV29ya1VucmVsYXRlZCgKICAgIDE5OTQsICJBIENhc2UgSGlzdG9yeSBvZiB0aGUgU3BhY2UgU2h1dHRsZSBPbmJvYXJkIFN5c3RlbXMgUHJvamVjdCIsCiAgICBkaXNwbGF5PSJrcmFzbmVyIiwKICAgIGF1dGhvcnM9IktyYXNuZXIsIEguIGFuZCBQeWxlcywgSi4gYW5kIFdvaGx3ZW5kLCBILiIsCiAgICBwbGFjZT1GQUtFLAogICAgZW50cnl0eXBlPSJhcnRpY2xlIiwKICAgIG5vdGU9ImNpdGVkIEJ5IDUiLAogICAgSUQ9IktyYXNuZXIxOTk0IiwKICAgIHBsYWNleD0ieCIsCikpCgpEQihDaXRhdGlvbigKICAgIG1jbG91Z2hsaW4yMDEwYSwga3Jhc25lcjE5OTRhLCByZWY9IiIsCiAgICBjb250ZXh0cz1bCgogICAgXSwKKSkKCicnJywgY2l0YXRpb25zPSdtY2xvdWdobGluMjAxMGEnKTs=\"));\n",
       "    "
      ],
      "text/plain": [
       "<IPython.core.display.Javascript object>"
      ]
     },
     "metadata": {},
     "output_type": "display_data"
    },
    {
     "data": {
      "application/javascript": [
       "$('span:contains(\"# Temp\")').closest('.cell').remove();"
      ],
      "text/plain": [
       "<IPython.core.display.Javascript object>"
      ]
     },
     "metadata": {},
     "output_type": "display_data"
    },
    {
     "data": {
      "application/javascript": [
       "\n",
       "        $('span:contains(\"# Temp\")').closest('.cell').remove();\n",
       "        var code = IPython.notebook.insert_cell_below('code');\n",
       "        code.set_text(atob(\"IyBUZW1wCmluc2VydCgnJycKa3Jhc25lcjE5OTRhID0gREIoV29ya1VucmVsYXRlZCgKICAgIDE5OTQsICJBIENhc2UgSGlzdG9yeSBvZiB0aGUgU3BhY2UgU2h1dHRsZSBPbmJvYXJkIFN5c3RlbXMgUHJvamVjdCIsCiAgICBkaXNwbGF5PSJrcmFzbmVyIiwKICAgIGF1dGhvcnM9IktyYXNuZXIsIEguIGFuZCBQeWxlcywgSi4gYW5kIFdvaGx3ZW5kLCBILiIsCiAgICBwbGFjZT1GQUtFLAogICAgZW50cnl0eXBlPSJhcnRpY2xlIiwKICAgIG5vdGU9ImNpdGVkIEJ5IDUiLAogICAgSUQ9IktyYXNuZXIxOTk0IiwKICAgIHBsYWNleD0ieCIsCikpCgpEQihDaXRhdGlvbigKICAgIG1jbG91Z2hsaW4yMDEwYSwga3Jhc25lcjE5OTRhLCByZWY9IiIsCiAgICBjb250ZXh0cz1bCgogICAgXSwKKSkKCicnJywgY2l0YXRpb25zPSdtY2xvdWdobGluMjAxMGEnKTs=\"));\n",
       "    "
      ],
      "text/plain": [
       "<IPython.core.display.Javascript object>"
      ]
     },
     "metadata": {},
     "output_type": "display_data"
    },
    {
     "data": {
      "application/javascript": [
       "$('span:contains(\"# Temp\")').closest('.cell').remove();"
      ],
      "text/plain": [
       "<IPython.core.display.Javascript object>"
      ]
     },
     "metadata": {},
     "output_type": "display_data"
    },
    {
     "data": {
      "application/javascript": [
       "\n",
       "        $('span:contains(\"# Temp\")').closest('.cell').remove();\n",
       "        var code = IPython.notebook.insert_cell_below('code');\n",
       "        code.set_text(atob(\"IyBUZW1wCmluc2VydCgnJycKa3Jhc25lcjE5OTVhID0gREIoV29ya1VucmVsYXRlZCgKICAgIDE5OTUsICJBIENhc2UgSGlzdG9yeSBvZiBQcm9jZXNzIEltcHJvdmVtZW50cyBhdCB0aGUgTkFTQSBTb2Z0d2FyZSBFbmdpbmVlcmluZyBMYWJvcmF0b3J5IiwKICAgIGRpc3BsYXk9ImtyYXNuZXIiLAogICAgYXV0aG9ycz0iS3Jhc25lciwgSC4iLAogICAgcGxhY2U9RkFLRSwKICAgIGVudHJ5dHlwZT0iYXJ0aWNsZSIsCiAgICBub3RlPSJjaXRlZCBCeSAyIiwKICAgIElEPSJLcmFzbmVyMTk5NSIsCiAgICBwbGFjZXg9IngiLAopKQoKREIoQ2l0YXRpb24oCiAgICBtY2xvdWdobGluMjAxMGEsIGtyYXNuZXIxOTk1YSwgcmVmPSIiLAogICAgY29udGV4dHM9WwoKICAgIF0sCikpCgonJycsIGNpdGF0aW9ucz0nbWNsb3VnaGxpbjIwMTBhJyk7\"));\n",
       "    "
      ],
      "text/plain": [
       "<IPython.core.display.Javascript object>"
      ]
     },
     "metadata": {},
     "output_type": "display_data"
    },
    {
     "data": {
      "application/javascript": [
       "$('span:contains(\"# Temp\")').closest('.cell').remove();"
      ],
      "text/plain": [
       "<IPython.core.display.Javascript object>"
      ]
     },
     "metadata": {},
     "output_type": "display_data"
    },
    {
     "data": {
      "application/javascript": [
       "\n",
       "        $('span:contains(\"# Temp\")').closest('.cell').remove();\n",
       "        var code = IPython.notebook.insert_cell_below('code');\n",
       "        code.set_text(atob(\"IyBUZW1wCmluc2VydCgnJycKa3Jhc25lcjE5OTVhID0gREIoV29ya1VucmVsYXRlZCgKICAgIDE5OTUsICJBIENhc2UgSGlzdG9yeSBvZiBQcm9jZXNzIEltcHJvdmVtZW50cyBhdCB0aGUgTkFTQSBTb2Z0d2FyZSBFbmdpbmVlcmluZyBMYWJvcmF0b3J5IiwKICAgIGRpc3BsYXk9ImtyYXNuZXIiLAogICAgYXV0aG9ycz0iS3Jhc25lciwgSC4iLAogICAgcGxhY2U9RkFLRSwKICAgIGVudHJ5dHlwZT0iYXJ0aWNsZSIsCiAgICBub3RlPSJjaXRlZCBCeSAyIiwKICAgIElEPSJLcmFzbmVyMTk5NSIsCiAgICBwbGFjZXg9IngiLAopKQoKREIoQ2l0YXRpb24oCiAgICBtY2xvdWdobGluMjAxMGEsIGtyYXNuZXIxOTk1YSwgcmVmPSIiLAogICAgY29udGV4dHM9WwoKICAgIF0sCikpCgonJycsIGNpdGF0aW9ucz0nbWNsb3VnaGxpbjIwMTBhJyk7\"));\n",
       "    "
      ],
      "text/plain": [
       "<IPython.core.display.Javascript object>"
      ]
     },
     "metadata": {},
     "output_type": "display_data"
    },
    {
     "data": {
      "application/javascript": [
       "$('span:contains(\"# Temp\")').closest('.cell').remove();"
      ],
      "text/plain": [
       "<IPython.core.display.Javascript object>"
      ]
     },
     "metadata": {},
     "output_type": "display_data"
    },
    {
     "data": {
      "application/javascript": [
       "\n",
       "        $('span:contains(\"# Temp\")').closest('.cell').remove();\n",
       "        var code = IPython.notebook.insert_cell_below('code');\n",
       "        code.set_text(atob(\"IyBUZW1wCmluc2VydCgnJycKcHV0bmFtMTk5N2EgPSBEQihXb3JrVW5yZWxhdGVkKAogICAgMTk5NywgIkhvdyBTb2x2ZWQgSXMgdGhlIENvc3QgRXN0aW1hdGlvbiBQcm9ibGVtPyIsCiAgICBkaXNwbGF5PSJwdXRuYW0iLAogICAgYXV0aG9ycz0iUHV0bmFtLCBMLkguIiwKICAgIHBsYWNlPUlFRUVTLAogICAgcHA9IjEwNS0xMDciLAogICAgZW50cnl0eXBlPSJhcnRpY2xlIiwKICAgIHZvbHVtZT0iMTQiLAogICAgbnVtYmVyPSI2IiwKICAgIGRvaT0iMTAuMTEwOS81Mi42MzY2OTYiLAogICAgbm90ZT0iY2l0ZWQgQnkgMTIiLAogICAgSUQ9IlB1dG5hbTE5OTcxMDUiLAogICAgcGxhY2V4PSJJRUVFIFNvZnR3YXJlIiwKKSkKCkRCKENpdGF0aW9uKAogICAgbWNsb3VnaGxpbjIwMTBhLCBwdXRuYW0xOTk3YSwgcmVmPSIiLAogICAgY29udGV4dHM9WwoKICAgIF0sCikpCgonJycsIGNpdGF0aW9ucz0nbWNsb3VnaGxpbjIwMTBhJyk7\"));\n",
       "    "
      ],
      "text/plain": [
       "<IPython.core.display.Javascript object>"
      ]
     },
     "metadata": {},
     "output_type": "display_data"
    },
    {
     "data": {
      "application/javascript": [
       "$('span:contains(\"# Temp\")').closest('.cell').remove();"
      ],
      "text/plain": [
       "<IPython.core.display.Javascript object>"
      ]
     },
     "metadata": {},
     "output_type": "display_data"
    },
    {
     "data": {
      "application/javascript": [
       "\n",
       "        $('span:contains(\"# Temp\")').closest('.cell').remove();\n",
       "        var code = IPython.notebook.insert_cell_below('code');\n",
       "        code.set_text(atob(\"IyBUZW1wCmluc2VydCgnJycKcHV0bmFtMTk5N2EgPSBEQihXb3JrVW5yZWxhdGVkKAogICAgMTk5NywgIkhvdyBTb2x2ZWQgSXMgdGhlIENvc3QgRXN0aW1hdGlvbiBQcm9ibGVtPyIsCiAgICBkaXNwbGF5PSJwdXRuYW0iLAogICAgYXV0aG9ycz0iUHV0bmFtLCBMLkguIiwKICAgIHBsYWNlPUlFRUVTLAogICAgcHA9IjEwNS0xMDciLAogICAgZW50cnl0eXBlPSJhcnRpY2xlIiwKICAgIHZvbHVtZT0iMTQiLAogICAgbnVtYmVyPSI2IiwKICAgIGRvaT0iMTAuMTEwOS81Mi42MzY2OTYiLAogICAgbm90ZT0iY2l0ZWQgQnkgMTIiLAogICAgSUQ9IlB1dG5hbTE5OTcxMDUiLAogICAgcGxhY2V4PSJJRUVFIFNvZnR3YXJlIiwKKSkKCkRCKENpdGF0aW9uKAogICAgbWNsb3VnaGxpbjIwMTBhLCBwdXRuYW0xOTk3YSwgcmVmPSIiLAogICAgY29udGV4dHM9WwoKICAgIF0sCikpCgonJycsIGNpdGF0aW9ucz0nbWNsb3VnaGxpbjIwMTBhJyk7\"));\n",
       "    "
      ],
      "text/plain": [
       "<IPython.core.display.Javascript object>"
      ]
     },
     "metadata": {},
     "output_type": "display_data"
    },
    {
     "data": {
      "application/javascript": [
       "$('span:contains(\"# Temp\")').closest('.cell').remove();"
      ],
      "text/plain": [
       "<IPython.core.display.Javascript object>"
      ]
     },
     "metadata": {},
     "output_type": "display_data"
    },
    {
     "data": {
      "application/javascript": [
       "\n",
       "        $('span:contains(\"# Temp\")').closest('.cell').remove();\n",
       "        var code = IPython.notebook.insert_cell_below('code');\n",
       "        code.set_text(atob(\"IyBUZW1wCmluc2VydCgnJycKREIoQ2l0YXRpb24oCiAgICBtY2xvdWdobGluMjAxMGEsIG1jbG9vbmUyMDA3YSwgcmVmPSIiLAogICAgY29udGV4dHM9WwoKICAgIF0sCikpCgonJycsIGNpdGF0aW9ucz0nbWNsb3VnaGxpbjIwMTBhJyk7CnNldF9hdHRyaWJ1dGUoJ21jbG9vbmUyMDA3YScsICdwcCcsICc1LTknKTsKc2V0X2F0dHJpYnV0ZSgnbWNsb29uZTIwMDdhJywgJ3ZvbHVtZScsICcxMCcpOw==\"));\n",
       "    "
      ],
      "text/plain": [
       "<IPython.core.display.Javascript object>"
      ]
     },
     "metadata": {},
     "output_type": "display_data"
    },
    {
     "data": {
      "application/javascript": [
       "$('span:contains(\"# Temp\")').closest('.cell').remove();"
      ],
      "text/plain": [
       "<IPython.core.display.Javascript object>"
      ]
     },
     "metadata": {},
     "output_type": "display_data"
    },
    {
     "data": {
      "application/javascript": [
       "\n",
       "        $('span:contains(\"# Temp\")').closest('.cell').remove();\n",
       "        var code = IPython.notebook.insert_cell_below('code');\n",
       "        code.set_text(atob(\"IyBUZW1wCmluc2VydCgnJycKREIoQ2l0YXRpb24oCiAgICBtY2xvdWdobGluMjAxMGEsIG1jbG9vbmUyMDA3YSwgcmVmPSIiLAogICAgY29udGV4dHM9WwoKICAgIF0sCikpCgonJycsIGNpdGF0aW9ucz0nbWNsb3VnaGxpbjIwMTBhJyk7CnNldF9hdHRyaWJ1dGUoJ21jbG9vbmUyMDA3YScsICdwcCcsICc1LTknKTsKc2V0X2F0dHJpYnV0ZSgnbWNsb29uZTIwMDdhJywgJ3ZvbHVtZScsICcxMCcpOw==\"));\n",
       "    "
      ],
      "text/plain": [
       "<IPython.core.display.Javascript object>"
      ]
     },
     "metadata": {},
     "output_type": "display_data"
    },
    {
     "data": {
      "application/javascript": [
       "$('span:contains(\"# Temp\")').closest('.cell').remove();"
      ],
      "text/plain": [
       "<IPython.core.display.Javascript object>"
      ]
     },
     "metadata": {},
     "output_type": "display_data"
    },
    {
     "data": {
      "application/javascript": [
       "\n",
       "        $('span:contains(\"# Temp\")').closest('.cell').remove();\n",
       "        var code = IPython.notebook.insert_cell_below('code');\n",
       "        code.set_text(atob(\"IyBUZW1wCmluc2VydCgnJycKbGl1MjAwN2EgPSBEQihXb3JrVW5yZWxhdGVkKAogICAgMjAwNywgIk1vdG9yb2xhIFNvZnR3YXJlIEdyb3VwJ3MgQ2hpbmEgQ2VudGVyOiB2YWx1ZSBhZGRlZCBieSBDTU1JIiwKICAgIGRpc3BsYXk9ImxpdSIsCiAgICBhdXRob3JzPSJMaXUsIEEuUS4iLAogICAgcGxhY2U9RkFLRSwKICAgIHBwPSIxOC0yMyIsCiAgICBlbnRyeXR5cGU9ImFydGljbGUiLAogICAgdm9sdW1lPSIxMCIsCiAgICBudW1iZXI9IjEiLAogICAgbm90ZT0iY2l0ZWQgQnkgNCIsCiAgICBJRD0iTGl1MjAwNzE4IiwKICAgIHBsYWNleD0iU29mdHdhcmVUZWNoIiwKKSkKCkRCKENpdGF0aW9uKAogICAgbWNsb3VnaGxpbjIwMTBhLCBsaXUyMDA3YSwgcmVmPSIiLAogICAgY29udGV4dHM9WwoKICAgIF0sCikpCgonJycsIGNpdGF0aW9ucz0nbWNsb3VnaGxpbjIwMTBhJyk7\"));\n",
       "    "
      ],
      "text/plain": [
       "<IPython.core.display.Javascript object>"
      ]
     },
     "metadata": {},
     "output_type": "display_data"
    },
    {
     "data": {
      "application/javascript": [
       "$('span:contains(\"# Temp\")').closest('.cell').remove();"
      ],
      "text/plain": [
       "<IPython.core.display.Javascript object>"
      ]
     },
     "metadata": {},
     "output_type": "display_data"
    },
    {
     "data": {
      "application/javascript": [
       "\n",
       "        $('span:contains(\"# Temp\")').closest('.cell').remove();\n",
       "        var code = IPython.notebook.insert_cell_below('code');\n",
       "        code.set_text(atob(\"IyBUZW1wCmluc2VydCgnJycKbGl1MjAwN2EgPSBEQihXb3JrVW5yZWxhdGVkKAogICAgMjAwNywgIk1vdG9yb2xhIFNvZnR3YXJlIEdyb3VwJ3MgQ2hpbmEgQ2VudGVyOiB2YWx1ZSBhZGRlZCBieSBDTU1JIiwKICAgIGRpc3BsYXk9ImxpdSIsCiAgICBhdXRob3JzPSJMaXUsIEEuUS4iLAogICAgcGxhY2U9RkFLRSwKICAgIHBwPSIxOC0yMyIsCiAgICBlbnRyeXR5cGU9ImFydGljbGUiLAogICAgdm9sdW1lPSIxMCIsCiAgICBudW1iZXI9IjEiLAogICAgbm90ZT0iY2l0ZWQgQnkgNCIsCiAgICBJRD0iTGl1MjAwNzE4IiwKICAgIHBsYWNleD0iU29mdHdhcmVUZWNoIiwKKSkKCkRCKENpdGF0aW9uKAogICAgbWNsb3VnaGxpbjIwMTBhLCBsaXUyMDA3YSwgcmVmPSIiLAogICAgY29udGV4dHM9WwoKICAgIF0sCikpCgonJycsIGNpdGF0aW9ucz0nbWNsb3VnaGxpbjIwMTBhJyk7\"));\n",
       "    "
      ],
      "text/plain": [
       "<IPython.core.display.Javascript object>"
      ]
     },
     "metadata": {},
     "output_type": "display_data"
    },
    {
     "data": {
      "application/javascript": [
       "$('span:contains(\"# Temp\")').closest('.cell').remove();"
      ],
      "text/plain": [
       "<IPython.core.display.Javascript object>"
      ]
     },
     "metadata": {},
     "output_type": "display_data"
    },
    {
     "data": {
      "application/javascript": [
       "\n",
       "        $('span:contains(\"# Temp\")').closest('.cell').remove();\n",
       "        var code = IPython.notebook.insert_cell_below('code');\n",
       "        code.set_text(atob(\"IyBUZW1wCmluc2VydCgnJycKbzIwMDNhID0gREIoV29ya1VucmVsYXRlZCgKICAgIDIwMDMsICJEZXRlcm1pbmluZyBSZXR1cm4gb24gSW52ZXN0bWVudCBVc2luZyBTb2Z0d2FyZSBJbnNwZWN0aW9ucyIsCiAgICBkaXNwbGF5PSJvIiwKICAgIGF1dGhvcnM9Ik8nTmVpbGwsIEQuIiwKICAgIHBsYWNlPUZBS0UsCiAgICBlbnRyeXR5cGU9ImFydGljbGUiLAogICAgbm90ZT0iY2l0ZWQgQnkgMSIsCiAgICBJRD0iTydOZWlsbDIwMDMiLAogICAgcGxhY2V4PSJDcm9zc1RhbGsgLSBUaGUgSm91cm5hbCBvZiBEZWZlbnNlIFNvZnR3YXJlIEVuZ2luZWVyaW5nIiwKKSkKCkRCKENpdGF0aW9uKAogICAgbWNsb3VnaGxpbjIwMTBhLCBvMjAwM2EsIHJlZj0iIiwKICAgIGNvbnRleHRzPVsKCiAgICBdLAopKQoKJycnLCBjaXRhdGlvbnM9J21jbG91Z2hsaW4yMDEwYScpOw==\"));\n",
       "    "
      ],
      "text/plain": [
       "<IPython.core.display.Javascript object>"
      ]
     },
     "metadata": {},
     "output_type": "display_data"
    },
    {
     "data": {
      "application/javascript": [
       "$('span:contains(\"# Temp\")').closest('.cell').remove();"
      ],
      "text/plain": [
       "<IPython.core.display.Javascript object>"
      ]
     },
     "metadata": {},
     "output_type": "display_data"
    },
    {
     "data": {
      "application/javascript": [
       "\n",
       "        $('span:contains(\"# Temp\")').closest('.cell').remove();\n",
       "        var code = IPython.notebook.insert_cell_below('code');\n",
       "        code.set_text(atob(\"IyBUZW1wCmluc2VydCgnJycKbzIwMDNhID0gREIoV29ya1VucmVsYXRlZCgKICAgIDIwMDMsICJEZXRlcm1pbmluZyBSZXR1cm4gb24gSW52ZXN0bWVudCBVc2luZyBTb2Z0d2FyZSBJbnNwZWN0aW9ucyIsCiAgICBkaXNwbGF5PSJvIiwKICAgIGF1dGhvcnM9Ik8nTmVpbGwsIEQuIiwKICAgIHBsYWNlPUZBS0UsCiAgICBlbnRyeXR5cGU9ImFydGljbGUiLAogICAgbm90ZT0iY2l0ZWQgQnkgMSIsCiAgICBJRD0iTydOZWlsbDIwMDMiLAogICAgcGxhY2V4PSJDcm9zc1RhbGsgLSBUaGUgSm91cm5hbCBvZiBEZWZlbnNlIFNvZnR3YXJlIEVuZ2luZWVyaW5nIiwKKSkKCkRCKENpdGF0aW9uKAogICAgbWNsb3VnaGxpbjIwMTBhLCBvMjAwM2EsIHJlZj0iIiwKICAgIGNvbnRleHRzPVsKCiAgICBdLAopKQoKJycnLCBjaXRhdGlvbnM9J21jbG91Z2hsaW4yMDEwYScpOw==\"));\n",
       "    "
      ],
      "text/plain": [
       "<IPython.core.display.Javascript object>"
      ]
     },
     "metadata": {},
     "output_type": "display_data"
    },
    {
     "data": {
      "application/javascript": [
       "$('span:contains(\"# Temp\")').closest('.cell').remove();"
      ],
      "text/plain": [
       "<IPython.core.display.Javascript object>"
      ]
     },
     "metadata": {},
     "output_type": "display_data"
    },
    {
     "data": {
      "application/javascript": [
       "\n",
       "        $('span:contains(\"# Temp\")').closest('.cell').remove();\n",
       "        var code = IPython.notebook.insert_cell_below('code');\n",
       "        code.set_text(atob(\"IyBUZW1wCmluc2VydCgnJycKZmF5YWQxOTk3YSA9IERCKFdvcmtVbnJlbGF0ZWQoCiAgICAxOTk3LCAiUHJvY2VzcyBBc3Nlc3NtZW50IENvbnNpZGVyZWQgV2FzdGVmdWwiLAogICAgZGlzcGxheT0iZmF5YWQiLAogICAgYXV0aG9ycz0iRmF5YWQsIE0uRS4gYW5kIExhaXRpbmVuLCBNLiIsCiAgICBwbGFjZT1DQUNNLAogICAgcHA9IjEyNS0xMjgiLAogICAgZW50cnl0eXBlPSJhcnRpY2xlIiwKICAgIHZvbHVtZT0iNDAiLAogICAgbnVtYmVyPSIxMSIsCiAgICBub3RlPSJjaXRlZCBCeSA1MyIsCiAgICBJRD0iRmF5YWQxOTk3MTI1IiwKICAgIHBsYWNleD0iQ29tbXVuaWNhdGlvbnMgb2YgdGhlIEFDTSIsCikpCgpEQihDaXRhdGlvbigKICAgIG1jbG91Z2hsaW4yMDEwYSwgZmF5YWQxOTk3YSwgcmVmPSIiLAogICAgY29udGV4dHM9WwoKICAgIF0sCikpCgonJycsIGNpdGF0aW9ucz0nbWNsb3VnaGxpbjIwMTBhJyk7\"));\n",
       "    "
      ],
      "text/plain": [
       "<IPython.core.display.Javascript object>"
      ]
     },
     "metadata": {},
     "output_type": "display_data"
    },
    {
     "data": {
      "application/javascript": [
       "$('span:contains(\"# Temp\")').closest('.cell').remove();"
      ],
      "text/plain": [
       "<IPython.core.display.Javascript object>"
      ]
     },
     "metadata": {},
     "output_type": "display_data"
    },
    {
     "data": {
      "application/javascript": [
       "\n",
       "        $('span:contains(\"# Temp\")').closest('.cell').remove();\n",
       "        var code = IPython.notebook.insert_cell_below('code');\n",
       "        code.set_text(atob(\"IyBUZW1wCmluc2VydCgnJycKZmF5YWQxOTk3YSA9IERCKFdvcmtVbnJlbGF0ZWQoCiAgICAxOTk3LCAiUHJvY2VzcyBBc3Nlc3NtZW50IENvbnNpZGVyZWQgV2FzdGVmdWwiLAogICAgZGlzcGxheT0iZmF5YWQiLAogICAgYXV0aG9ycz0iRmF5YWQsIE0uRS4gYW5kIExhaXRpbmVuLCBNLiIsCiAgICBwbGFjZT1DQUNNLAogICAgcHA9IjEyNS0xMjgiLAogICAgZW50cnl0eXBlPSJhcnRpY2xlIiwKICAgIHZvbHVtZT0iNDAiLAogICAgbnVtYmVyPSIxMSIsCiAgICBub3RlPSJjaXRlZCBCeSA1MyIsCiAgICBJRD0iRmF5YWQxOTk3MTI1IiwKICAgIHBsYWNleD0iQ29tbXVuaWNhdGlvbnMgb2YgdGhlIEFDTSIsCikpCgpEQihDaXRhdGlvbigKICAgIG1jbG91Z2hsaW4yMDEwYSwgZmF5YWQxOTk3YSwgcmVmPSIiLAogICAgY29udGV4dHM9WwoKICAgIF0sCikpCgonJycsIGNpdGF0aW9ucz0nbWNsb3VnaGxpbjIwMTBhJyk7\"));\n",
       "    "
      ],
      "text/plain": [
       "<IPython.core.display.Javascript object>"
      ]
     },
     "metadata": {},
     "output_type": "display_data"
    },
    {
     "data": {
      "application/javascript": [
       "$('span:contains(\"# Temp\")').closest('.cell').remove();"
      ],
      "text/plain": [
       "<IPython.core.display.Javascript object>"
      ]
     },
     "metadata": {},
     "output_type": "display_data"
    },
    {
     "data": {
      "application/javascript": [
       "\n",
       "        $('span:contains(\"# Temp\")').closest('.cell').remove();\n",
       "        var code = IPython.notebook.insert_cell_below('code');\n",
       "        code.set_text(atob(\"IyBUZW1wCmluc2VydCgnJycKREIoQ2l0YXRpb24oCiAgICBtY2xvdWdobGluMjAxMGEsIGpvbmVzMTk5NmEsIHJlZj0iIiwKICAgIGNvbnRleHRzPVsKCiAgICBdLAopKQoKJycnLCBjaXRhdGlvbnM9J21jbG91Z2hsaW4yMDEwYScpOw==\"));\n",
       "    "
      ],
      "text/plain": [
       "<IPython.core.display.Javascript object>"
      ]
     },
     "metadata": {},
     "output_type": "display_data"
    },
    {
     "data": {
      "application/javascript": [
       "$('span:contains(\"# Temp\")').closest('.cell').remove();"
      ],
      "text/plain": [
       "<IPython.core.display.Javascript object>"
      ]
     },
     "metadata": {},
     "output_type": "display_data"
    },
    {
     "data": {
      "application/javascript": [
       "\n",
       "        $('span:contains(\"# Temp\")').closest('.cell').remove();\n",
       "        var code = IPython.notebook.insert_cell_below('code');\n",
       "        code.set_text(atob(\"IyBUZW1wCmluc2VydCgnJycKREIoQ2l0YXRpb24oCiAgICBtY2xvdWdobGluMjAxMGEsIGpvbmVzMTk5NmEsIHJlZj0iIiwKICAgIGNvbnRleHRzPVsKCiAgICBdLAopKQoKJycnLCBjaXRhdGlvbnM9J21jbG91Z2hsaW4yMDEwYScpOw==\"));\n",
       "    "
      ],
      "text/plain": [
       "<IPython.core.display.Javascript object>"
      ]
     },
     "metadata": {},
     "output_type": "display_data"
    },
    {
     "data": {
      "application/javascript": [
       "$('span:contains(\"# Temp\")').closest('.cell').remove();"
      ],
      "text/plain": [
       "<IPython.core.display.Javascript object>"
      ]
     },
     "metadata": {},
     "output_type": "display_data"
    },
    {
     "data": {
      "application/javascript": [
       "\n",
       "        $('span:contains(\"# Temp\")').closest('.cell').remove();\n",
       "        var code = IPython.notebook.insert_cell_below('code');\n",
       "        code.set_text(atob(\"IyBUZW1wCmluc2VydCgnJycKcmVpZmVyMjAwMGEgPSBEQihXb3JrVW5yZWxhdGVkKAogICAgMjAwMCwgIlRoZSBDTU1JOiBJdCdzIGZvcm1pZGFibGUiLAogICAgZGlzcGxheT0icmVpZmVyIiwKICAgIGF1dGhvcnM9IlJlaWZlciwgRC5KLiIsCiAgICBwbGFjZT1KU1MsCiAgICBwcD0iOTctOTgiLAogICAgZW50cnl0eXBlPSJhcnRpY2xlIiwKICAgIHZvbHVtZT0iNTAiLAogICAgbnVtYmVyPSIyIiwKICAgIG5vdGU9ImNpdGVkIEJ5IDIzIiwKICAgIElEPSJSZWlmZXIyMDAwOTciLAogICAgcGxhY2V4PSJKb3VybmFsIG9mIFN5c3RlbXMgYW5kIFNvZnR3YXJlIiwKKSkKCkRCKENpdGF0aW9uKAogICAgbWNsb3VnaGxpbjIwMTBhLCByZWlmZXIyMDAwYSwgcmVmPSIiLAogICAgY29udGV4dHM9WwoKICAgIF0sCikpCgonJycsIGNpdGF0aW9ucz0nbWNsb3VnaGxpbjIwMTBhJyk7\"));\n",
       "    "
      ],
      "text/plain": [
       "<IPython.core.display.Javascript object>"
      ]
     },
     "metadata": {},
     "output_type": "display_data"
    },
    {
     "data": {
      "application/javascript": [
       "$('span:contains(\"# Temp\")').closest('.cell').remove();"
      ],
      "text/plain": [
       "<IPython.core.display.Javascript object>"
      ]
     },
     "metadata": {},
     "output_type": "display_data"
    },
    {
     "data": {
      "application/javascript": [
       "\n",
       "        $('span:contains(\"# Temp\")').closest('.cell').remove();\n",
       "        var code = IPython.notebook.insert_cell_below('code');\n",
       "        code.set_text(atob(\"IyBUZW1wCmluc2VydCgnJycKcmVpZmVyMjAwMGEgPSBEQihXb3JrVW5yZWxhdGVkKAogICAgMjAwMCwgIlRoZSBDTU1JOiBJdCdzIGZvcm1pZGFibGUiLAogICAgZGlzcGxheT0icmVpZmVyIiwKICAgIGF1dGhvcnM9IlJlaWZlciwgRC5KLiIsCiAgICBwbGFjZT1KU1MsCiAgICBwcD0iOTctOTgiLAogICAgZW50cnl0eXBlPSJhcnRpY2xlIiwKICAgIHZvbHVtZT0iNTAiLAogICAgbnVtYmVyPSIyIiwKICAgIG5vdGU9ImNpdGVkIEJ5IDIzIiwKICAgIElEPSJSZWlmZXIyMDAwOTciLAogICAgcGxhY2V4PSJKb3VybmFsIG9mIFN5c3RlbXMgYW5kIFNvZnR3YXJlIiwKKSkKCkRCKENpdGF0aW9uKAogICAgbWNsb3VnaGxpbjIwMTBhLCByZWlmZXIyMDAwYSwgcmVmPSIiLAogICAgY29udGV4dHM9WwoKICAgIF0sCikpCgonJycsIGNpdGF0aW9ucz0nbWNsb3VnaGxpbjIwMTBhJyk7\"));\n",
       "    "
      ],
      "text/plain": [
       "<IPython.core.display.Javascript object>"
      ]
     },
     "metadata": {},
     "output_type": "display_data"
    },
    {
     "data": {
      "application/javascript": [
       "$('span:contains(\"# Temp\")').closest('.cell').remove();"
      ],
      "text/plain": [
       "<IPython.core.display.Javascript object>"
      ]
     },
     "metadata": {},
     "output_type": "display_data"
    },
    {
     "data": {
      "application/javascript": [
       "\n",
       "        $('span:contains(\"# Temp\")').closest('.cell').remove();\n",
       "        var code = IPython.notebook.insert_cell_below('code');\n",
       "        code.set_text(atob(\"IyBUZW1wCmluc2VydCgnJycKREIoQ2l0YXRpb24oCiAgICBtY2xvdWdobGluMjAxMGEsIGRlYm91MjAwMGEsIHJlZj0iIiwKICAgIGNvbnRleHRzPVsKCiAgICBdLAopKQoKJycnLCBjaXRhdGlvbnM9J21jbG91Z2hsaW4yMDEwYScpOw==\"));\n",
       "    "
      ],
      "text/plain": [
       "<IPython.core.display.Javascript object>"
      ]
     },
     "metadata": {},
     "output_type": "display_data"
    },
    {
     "data": {
      "application/javascript": [
       "$('span:contains(\"# Temp\")').closest('.cell').remove();"
      ],
      "text/plain": [
       "<IPython.core.display.Javascript object>"
      ]
     },
     "metadata": {},
     "output_type": "display_data"
    },
    {
     "data": {
      "application/javascript": [
       "\n",
       "        $('span:contains(\"# Temp\")').closest('.cell').remove();\n",
       "        var code = IPython.notebook.insert_cell_below('code');\n",
       "        code.set_text(atob(\"IyBUZW1wCmluc2VydCgnJycKREIoQ2l0YXRpb24oCiAgICBtY2xvdWdobGluMjAxMGEsIGRlYm91MjAwMGEsIHJlZj0iIiwKICAgIGNvbnRleHRzPVsKCiAgICBdLAopKQoKJycnLCBjaXRhdGlvbnM9J21jbG91Z2hsaW4yMDEwYScpOw==\"));\n",
       "    "
      ],
      "text/plain": [
       "<IPython.core.display.Javascript object>"
      ]
     },
     "metadata": {},
     "output_type": "display_data"
    },
    {
     "data": {
      "application/javascript": [
       "$('span:contains(\"# Temp\")').closest('.cell').remove();"
      ],
      "text/plain": [
       "<IPython.core.display.Javascript object>"
      ]
     },
     "metadata": {},
     "output_type": "display_data"
    },
    {
     "data": {
      "application/javascript": [
       "\n",
       "        $('span:contains(\"# Temp\")').closest('.cell').remove();\n",
       "        var code = IPython.notebook.insert_cell_below('code');\n",
       "        code.set_text(atob(\"IyBUZW1wCmluc2VydCgnJycKREIoQ2l0YXRpb24oCiAgICBtY2xvdWdobGluMjAxMGEsIGxpdTIwMDZhLCByZWY9IiIsCiAgICBjb250ZXh0cz1bCgogICAgXSwKKSkKCicnJywgY2l0YXRpb25zPSdtY2xvdWdobGluMjAxMGEnKTs=\"));\n",
       "    "
      ],
      "text/plain": [
       "<IPython.core.display.Javascript object>"
      ]
     },
     "metadata": {},
     "output_type": "display_data"
    },
    {
     "data": {
      "application/javascript": [
       "$('span:contains(\"# Temp\")').closest('.cell').remove();"
      ],
      "text/plain": [
       "<IPython.core.display.Javascript object>"
      ]
     },
     "metadata": {},
     "output_type": "display_data"
    },
    {
     "data": {
      "application/javascript": [
       "\n",
       "        $('span:contains(\"# Temp\")').closest('.cell').remove();\n",
       "        var code = IPython.notebook.insert_cell_below('code');\n",
       "        code.set_text(atob(\"IyBUZW1wCmluc2VydCgnJycKREIoQ2l0YXRpb24oCiAgICBtY2xvdWdobGluMjAxMGEsIGxpdTIwMDZhLCByZWY9IiIsCiAgICBjb250ZXh0cz1bCgogICAgXSwKKSkKCicnJywgY2l0YXRpb25zPSdtY2xvdWdobGluMjAxMGEnKTs=\"));\n",
       "    "
      ],
      "text/plain": [
       "<IPython.core.display.Javascript object>"
      ]
     },
     "metadata": {},
     "output_type": "display_data"
    },
    {
     "data": {
      "application/javascript": [
       "$('span:contains(\"# Temp\")').closest('.cell').remove();"
      ],
      "text/plain": [
       "<IPython.core.display.Javascript object>"
      ]
     },
     "metadata": {},
     "output_type": "display_data"
    },
    {
     "data": {
      "application/javascript": [
       "\n",
       "        $('span:contains(\"# Temp\")').closest('.cell').remove();\n",
       "        var code = IPython.notebook.insert_cell_below('code');\n",
       "        code.set_text(atob(\"IyBUZW1wCmluc2VydCgnJycKREIoQ2l0YXRpb24oCiAgICBtY2xvdWdobGluMjAxMGEsIGJhc2lsaTE5OTJhLCByZWY9IiIsCiAgICBjb250ZXh0cz1bCgogICAgXSwKKSkKCicnJywgY2l0YXRpb25zPSdtY2xvdWdobGluMjAxMGEnKTs=\"));\n",
       "    "
      ],
      "text/plain": [
       "<IPython.core.display.Javascript object>"
      ]
     },
     "metadata": {},
     "output_type": "display_data"
    },
    {
     "data": {
      "application/javascript": [
       "$('span:contains(\"# Temp\")').closest('.cell').remove();"
      ],
      "text/plain": [
       "<IPython.core.display.Javascript object>"
      ]
     },
     "metadata": {},
     "output_type": "display_data"
    },
    {
     "data": {
      "application/javascript": [
       "\n",
       "        $('span:contains(\"# Temp\")').closest('.cell').remove();\n",
       "        var code = IPython.notebook.insert_cell_below('code');\n",
       "        code.set_text(atob(\"IyBUZW1wCmluc2VydCgnJycKREIoQ2l0YXRpb24oCiAgICBtY2xvdWdobGluMjAxMGEsIGJhc2lsaTE5OTJhLCByZWY9IiIsCiAgICBjb250ZXh0cz1bCgogICAgXSwKKSkKCicnJywgY2l0YXRpb25zPSdtY2xvdWdobGluMjAxMGEnKTs=\"));\n",
       "    "
      ],
      "text/plain": [
       "<IPython.core.display.Javascript object>"
      ]
     },
     "metadata": {},
     "output_type": "display_data"
    },
    {
     "data": {
      "application/javascript": [
       "$('span:contains(\"# Temp\")').closest('.cell').remove();"
      ],
      "text/plain": [
       "<IPython.core.display.Javascript object>"
      ]
     },
     "metadata": {},
     "output_type": "display_data"
    },
    {
     "data": {
      "application/javascript": [
       "\n",
       "        $('span:contains(\"# Temp\")').closest('.cell').remove();\n",
       "        var code = IPython.notebook.insert_cell_below('code');\n",
       "        code.set_text(atob(\"IyBUZW1wCmluc2VydCgnJycKREIoQ2l0YXRpb24oCiAgICBtY2xvdWdobGluMjAxMGEsIGJhc2lsaTE5OTRhLCByZWY9IiIsCiAgICBjb250ZXh0cz1bCgogICAgXSwKKSkKCicnJywgY2l0YXRpb25zPSdtY2xvdWdobGluMjAxMGEnKTs=\"));\n",
       "    "
      ],
      "text/plain": [
       "<IPython.core.display.Javascript object>"
      ]
     },
     "metadata": {},
     "output_type": "display_data"
    },
    {
     "data": {
      "application/javascript": [
       "$('span:contains(\"# Temp\")').closest('.cell').remove();"
      ],
      "text/plain": [
       "<IPython.core.display.Javascript object>"
      ]
     },
     "metadata": {},
     "output_type": "display_data"
    },
    {
     "data": {
      "application/javascript": [
       "\n",
       "        $('span:contains(\"# Temp\")').closest('.cell').remove();\n",
       "        var code = IPython.notebook.insert_cell_below('code');\n",
       "        code.set_text(atob(\"IyBUZW1wCmluc2VydCgnJycKREIoQ2l0YXRpb24oCiAgICBtY2xvdWdobGluMjAxMGEsIGJhc2lsaTE5OTRhLCByZWY9IiIsCiAgICBjb250ZXh0cz1bCgogICAgXSwKKSkKCicnJywgY2l0YXRpb25zPSdtY2xvdWdobGluMjAxMGEnKTs=\"));\n",
       "    "
      ],
      "text/plain": [
       "<IPython.core.display.Javascript object>"
      ]
     },
     "metadata": {},
     "output_type": "display_data"
    },
    {
     "data": {
      "application/javascript": [
       "$('span:contains(\"# Temp\")').closest('.cell').remove();"
      ],
      "text/plain": [
       "<IPython.core.display.Javascript object>"
      ]
     },
     "metadata": {},
     "output_type": "display_data"
    },
    {
     "data": {
      "application/javascript": [
       "\n",
       "        $('span:contains(\"# Temp\")').closest('.cell').remove();\n",
       "        var code = IPython.notebook.insert_cell_below('code');\n",
       "        code.set_text(atob(\"IyBUZW1wCmluc2VydCgnJycKZ295YWwyMDEwYSA9IERCKFdvcmtVbnJlbGF0ZWQoCiAgICAyMDEwLCAiUk9JIGZvciBTUEk6IExlc3NvbnMgZnJvbSBJbml0aWF0aXZlcyBhdCBJQk0gR2xvYmFsIFNlcnZpY2VzIEluZGlhIiwKICAgIGRpc3BsYXk9ImdveWFsIiwKICAgIGF1dGhvcnM9IkdveWFsLCBBLiBhbmQgS2FudW5nbywgUy4gYW5kIE11dGh1LCBWLiBhbmQgSmF5YWRldmFuLCBTLiIsCiAgICBwbGFjZT1GQUtFLAogICAgZW50cnl0eXBlPSJhcnRpY2xlIiwKICAgIG5vdGU9ImNpdGVkIEJ5IDEiLAogICAgSUQ9IkdveWFsMjAxMCIsCiAgICBwbGFjZXg9IlNFUEcgMjAwMSAoMjAwMSkiLAopKQoKREIoQ2l0YXRpb24oCiAgICBtY2xvdWdobGluMjAxMGEsIGdveWFsMjAxMGEsIHJlZj0iIiwKICAgIGNvbnRleHRzPVsKCiAgICBdLAopKQoKJycnLCBjaXRhdGlvbnM9J21jbG91Z2hsaW4yMDEwYScpOw==\"));\n",
       "    "
      ],
      "text/plain": [
       "<IPython.core.display.Javascript object>"
      ]
     },
     "metadata": {},
     "output_type": "display_data"
    },
    {
     "data": {
      "application/javascript": [
       "$('span:contains(\"# Temp\")').closest('.cell').remove();"
      ],
      "text/plain": [
       "<IPython.core.display.Javascript object>"
      ]
     },
     "metadata": {},
     "output_type": "display_data"
    },
    {
     "data": {
      "application/javascript": [
       "\n",
       "        $('span:contains(\"# Temp\")').closest('.cell').remove();\n",
       "        var code = IPython.notebook.insert_cell_below('code');\n",
       "        code.set_text(atob(\"IyBUZW1wCmluc2VydCgnJycKZ295YWwyMDEwYSA9IERCKFdvcmtVbnJlbGF0ZWQoCiAgICAyMDEwLCAiUk9JIGZvciBTUEk6IExlc3NvbnMgZnJvbSBJbml0aWF0aXZlcyBhdCBJQk0gR2xvYmFsIFNlcnZpY2VzIEluZGlhIiwKICAgIGRpc3BsYXk9ImdveWFsIiwKICAgIGF1dGhvcnM9IkdveWFsLCBBLiBhbmQgS2FudW5nbywgUy4gYW5kIE11dGh1LCBWLiBhbmQgSmF5YWRldmFuLCBTLiIsCiAgICBwbGFjZT1GQUtFLAogICAgZW50cnl0eXBlPSJhcnRpY2xlIiwKICAgIG5vdGU9ImNpdGVkIEJ5IDEiLAogICAgSUQ9IkdveWFsMjAxMCIsCiAgICBwbGFjZXg9IlNFUEcgMjAwMSAoMjAwMSkiLAopKQoKREIoQ2l0YXRpb24oCiAgICBtY2xvdWdobGluMjAxMGEsIGdveWFsMjAxMGEsIHJlZj0iIiwKICAgIGNvbnRleHRzPVsKCiAgICBdLAopKQoKJycnLCBjaXRhdGlvbnM9J21jbG91Z2hsaW4yMDEwYScpOw==\"));\n",
       "    "
      ],
      "text/plain": [
       "<IPython.core.display.Javascript object>"
      ]
     },
     "metadata": {},
     "output_type": "display_data"
    },
    {
     "data": {
      "application/javascript": [
       "$('span:contains(\"# Temp\")').closest('.cell').remove();"
      ],
      "text/plain": [
       "<IPython.core.display.Javascript object>"
      ]
     },
     "metadata": {},
     "output_type": "display_data"
    },
    {
     "data": {
      "application/javascript": [
       "\n",
       "        $('span:contains(\"# Temp\")').closest('.cell').remove();\n",
       "        var code = IPython.notebook.insert_cell_below('code');\n",
       "        code.set_text(atob(\"IyBUZW1wCmluc2VydCgnJycKREIoQ2l0YXRpb24oCiAgICBtY2xvdWdobGluMjAxMGEsIGNocmlzc2lzMjAwM2EsIHJlZj0iIiwKICAgIGNvbnRleHRzPVsKCiAgICBdLAopKQoKJycnLCBjaXRhdGlvbnM9J21jbG91Z2hsaW4yMDEwYScpOw==\"));\n",
       "    "
      ],
      "text/plain": [
       "<IPython.core.display.Javascript object>"
      ]
     },
     "metadata": {},
     "output_type": "display_data"
    },
    {
     "data": {
      "application/javascript": [
       "$('span:contains(\"# Temp\")').closest('.cell').remove();"
      ],
      "text/plain": [
       "<IPython.core.display.Javascript object>"
      ]
     },
     "metadata": {},
     "output_type": "display_data"
    },
    {
     "data": {
      "application/javascript": [
       "\n",
       "        $('span:contains(\"# Temp\")').closest('.cell').remove();\n",
       "        var code = IPython.notebook.insert_cell_below('code');\n",
       "        code.set_text(atob(\"IyBUZW1wCmluc2VydCgnJycKREIoQ2l0YXRpb24oCiAgICBtY2xvdWdobGluMjAxMGEsIGNocmlzc2lzMjAwM2EsIHJlZj0iIiwKICAgIGNvbnRleHRzPVsKCiAgICBdLAopKQoKJycnLCBjaXRhdGlvbnM9J21jbG91Z2hsaW4yMDEwYScpOw==\"));\n",
       "    "
      ],
      "text/plain": [
       "<IPython.core.display.Javascript object>"
      ]
     },
     "metadata": {},
     "output_type": "display_data"
    },
    {
     "data": {
      "application/javascript": [
       "$('span:contains(\"# Temp\")').closest('.cell').remove();"
      ],
      "text/plain": [
       "<IPython.core.display.Javascript object>"
      ]
     },
     "metadata": {},
     "output_type": "display_data"
    },
    {
     "data": {
      "application/javascript": [
       "\n",
       "        $('span:contains(\"# Temp\")').closest('.cell').remove();\n",
       "        var code = IPython.notebook.insert_cell_below('code');\n",
       "        code.set_text(atob(\"IyBUZW1wCmluc2VydCgnJycKY21taTIwMDJhID0gREIoV29ya1VucmVsYXRlZCgKICAgIDIwMDIsICJDTU1JIGZvciBTb2Z0d2FyZSBFbmdpbmVlcmluZyIsCiAgICBkaXNwbGF5PSJjbW1pIiwKICAgIGF1dGhvcnM9ImNtbWkiLAogICAgcGxhY2U9RkFLRSwKICAgIGVudHJ5dHlwZT0iYXJ0aWNsZSIsCiAgICBub3RlPSJjaXRlZCBCeSA4IiwKICAgIElEPSJjbW1pMjAwMiIsCiAgICBwbGFjZXg9IlNvZnR3YXJlIEVuZ2luZWVyaW5nIEluc3RpdHV0ZTogVmVyc2lvbiAxLjEsIFN0YWdlZCBSZXByZXNlbnRhdGlvbiBDTU1JLVNXLCBWMS4xLCBTdGFnZWQgLSBDTVUvU0VJLTIwMDItVFItMDI5IiwKKSkKCkRCKENpdGF0aW9uKAogICAgbWNsb3VnaGxpbjIwMTBhLCBjbW1pMjAwMmEsIHJlZj0iIiwKICAgIGNvbnRleHRzPVsKCiAgICBdLAopKQoKJycnLCBjaXRhdGlvbnM9J21jbG91Z2hsaW4yMDEwYScpOw==\"));\n",
       "    "
      ],
      "text/plain": [
       "<IPython.core.display.Javascript object>"
      ]
     },
     "metadata": {},
     "output_type": "display_data"
    },
    {
     "data": {
      "application/javascript": [
       "$('span:contains(\"# Temp\")').closest('.cell').remove();"
      ],
      "text/plain": [
       "<IPython.core.display.Javascript object>"
      ]
     },
     "metadata": {},
     "output_type": "display_data"
    },
    {
     "data": {
      "application/javascript": [
       "\n",
       "        $('span:contains(\"# Temp\")').closest('.cell').remove();\n",
       "        var code = IPython.notebook.insert_cell_below('code');\n",
       "        code.set_text(atob(\"IyBUZW1wCmluc2VydCgnJycKY21taTIwMDJhID0gREIoV29ya1VucmVsYXRlZCgKICAgIDIwMDIsICJDTU1JIGZvciBTb2Z0d2FyZSBFbmdpbmVlcmluZyIsCiAgICBkaXNwbGF5PSJjbW1pIiwKICAgIGF1dGhvcnM9ImNtbWkiLAogICAgcGxhY2U9RkFLRSwKICAgIGVudHJ5dHlwZT0iYXJ0aWNsZSIsCiAgICBub3RlPSJjaXRlZCBCeSA4IiwKICAgIElEPSJjbW1pMjAwMiIsCiAgICBwbGFjZXg9IlNvZnR3YXJlIEVuZ2luZWVyaW5nIEluc3RpdHV0ZTogVmVyc2lvbiAxLjEsIFN0YWdlZCBSZXByZXNlbnRhdGlvbiBDTU1JLVNXLCBWMS4xLCBTdGFnZWQgLSBDTVUvU0VJLTIwMDItVFItMDI5IiwKKSkKCkRCKENpdGF0aW9uKAogICAgbWNsb3VnaGxpbjIwMTBhLCBjbW1pMjAwMmEsIHJlZj0iIiwKICAgIGNvbnRleHRzPVsKCiAgICBdLAopKQoKJycnLCBjaXRhdGlvbnM9J21jbG91Z2hsaW4yMDEwYScpOw==\"));\n",
       "    "
      ],
      "text/plain": [
       "<IPython.core.display.Javascript object>"
      ]
     },
     "metadata": {},
     "output_type": "display_data"
    }
   ],
   "source": [
    "import importlib\n",
    "import custom_snowballing\n",
    "importlib.reload(custom_snowballing)\n",
    "from custom_snowballing import UnrelatedBackward\n",
    "UnrelatedBackward(\"mcloughlin2010b\", articles=article_list)"
   ]
  },
  {
   "cell_type": "code",
   "execution_count": 51,
   "metadata": {},
   "outputs": [
    {
     "name": "stdout",
     "output_type": "stream",
     "text": [
      "-Insert: cmmi2002a\n",
      "-Insert Import: cmmi2002a\n",
      "-Insert Citation: mcloughlin2010a -> cmmi2002a\n"
     ]
    }
   ],
   "source": [
    "# Temp\n",
    "insert('''\n",
    "cmmi2002a = DB(WorkUnrelated(\n",
    "    2002, \"CMMI for Software Engineering\",\n",
    "    display=\"cmmi\",\n",
    "    authors=\"cmmi\",\n",
    "    place=FAKE,\n",
    "    entrytype=\"article\",\n",
    "    note=\"cited By 8\",\n",
    "    ID=\"cmmi2002\",\n",
    "    placex=\"Software Engineering Institute: Version 1.1, Staged Representation CMMI-SW, V1.1, Staged - CMU/SEI-2002-TR-029\",\n",
    "))\n",
    "\n",
    "DB(Citation(\n",
    "    mcloughlin2010a, cmmi2002a, ref=\"\",\n",
    "    contexts=[\n",
    "\n",
    "    ],\n",
    "))\n",
    "\n",
    "''', citations='mcloughlin2010a');"
   ]
  },
  {
   "cell_type": "code",
   "execution_count": null,
   "metadata": {
    "collapsed": true
   },
   "outputs": [],
   "source": []
  }
 ],
 "metadata": {
  "kernelspec": {
   "display_name": "Python 3",
   "language": "python",
   "name": "python3"
  },
  "language_info": {
   "codemirror_mode": {
    "name": "ipython",
    "version": 3
   },
   "file_extension": ".py",
   "mimetype": "text/x-python",
   "name": "python",
   "nbconvert_exporter": "python",
   "pygments_lexer": "ipython3",
   "version": "3.6.0"
  },
  "toc": {
   "nav_menu": {
    "height": "12px",
    "width": "252px"
   },
   "number_sections": true,
   "sideBar": true,
   "skip_h1_title": false,
   "toc_cell": false,
   "toc_position": {},
   "toc_section_display": "block",
   "toc_window_display": false
  }
 },
 "nbformat": 4,
 "nbformat_minor": 2
}
