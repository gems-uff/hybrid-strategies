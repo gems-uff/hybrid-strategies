{
 "cells": [
  {
   "cell_type": "code",
   "execution_count": 90,
   "metadata": {
    "collapsed": true
   },
   "outputs": [],
   "source": [
    "import database\n",
    "from snowballing.operations import load_work, reload, work_by_varname\n",
    "from snowballing.snowballing import Converter\n",
    "from snowballing.snowballing import BackwardSnowballing\n",
    "from snowballing.dbmanager import insert, set_attribute"
   ]
  },
  {
   "cell_type": "code",
   "execution_count": 91,
   "metadata": {
    "scrolled": false
   },
   "outputs": [
    {
     "data": {
      "application/vnd.jupyter.widget-view+json": {
       "model_id": "095b281865ab4ae6aa53eae793cb700e",
       "version_major": 2,
       "version_minor": 0
      },
      "text/html": [
       "<p>Failed to display Jupyter Widget of type <code>VBox</code>.</p>\n",
       "<p>\n",
       "  If you're reading this message in Jupyter Notebook or JupyterLab, it may mean\n",
       "  that the widgets JavaScript is still loading. If this message persists, it\n",
       "  likely means that the widgets JavaScript library is either not installed or\n",
       "  not enabled. See the <a href=\"https://ipywidgets.readthedocs.io/en/stable/user_install.html\">Jupyter\n",
       "  Widgets Documentation</a> for setup instructions.\n",
       "</p>\n",
       "<p>\n",
       "  If you're reading this message in another notebook frontend (for example, a static\n",
       "  rendering on GitHub or <a href=\"https://nbviewer.jupyter.org/\">NBViewer</a>),\n",
       "  it may mean that your frontend doesn't currently support widgets.\n",
       "</p>\n"
      ],
      "text/plain": [
       "VBox(children=(HBox(children=(Dropdown(index=1, options={'BibTeX': 'bibtex', 'Text': 'text', '[N] author name place other year': 'citation', 'Quoted': 'quoted'}, value='text'), Button(description='Set article_list variable', disabled=True, style=ButtonStyle()), Label(value=''))), HBox(children=(Textarea(value='', layout=Layout(height='500px', width='50%')), Textarea(value='', layout=Layout(height='500px', width='50%'))))))"
      ]
     },
     "metadata": {},
     "output_type": "display_data"
    }
   ],
   "source": [
    "Converter().browser()"
   ]
  },
  {
   "cell_type": "code",
   "execution_count": 92,
   "metadata": {},
   "outputs": [
    {
     "data": {
      "text/plain": [
       "57"
      ]
     },
     "execution_count": 92,
     "metadata": {},
     "output_type": "execute_result"
    }
   ],
   "source": [
    "len(article_list)"
   ]
  },
  {
   "cell_type": "code",
   "execution_count": 4,
   "metadata": {
    "collapsed": true
   },
   "outputs": [],
   "source": [
    "#from database.work.y2015 import li2015a"
   ]
  },
  {
   "cell_type": "code",
   "execution_count": 5,
   "metadata": {
    "collapsed": true
   },
   "outputs": [],
   "source": [
    "#int(getattr(li2015a, 'scopus', 0))"
   ]
  },
  {
   "cell_type": "code",
   "execution_count": 39,
   "metadata": {},
   "outputs": [
    {
     "name": "stdout",
     "output_type": "stream",
     "text": [
      "[{'name': 'A method for process assessment in small software companies', 'authors': 'Anacleto, A. and Von Wangenheim, C.G. and Salviano, C.F. and Savi, R.', 'year': 2004, 'pp': '69-76', 'place1': '4th International SPICE Conference on Process Assessment and Improvement', 'entrytype': 'article', 'display': 'anacleto', 'pyref': 'anacleto2004a', 'note': 'cited By 15', 'ID': 'Anacleto200469', '_work_type': 'Work'}, {'name': 'Experiences gained from applying ISO/IEC 15504 to small software companies in Brazil', 'authors': 'Anacleto, A. and Von Wangenheim, C.G. and Salviano, C.F. and Savi, R.', 'year': 2004, 'pp': '33-37', 'place1': '4th International SPICE Conference on Process Assessment and Improvement', 'entrytype': 'article', 'display': 'anacleto', 'pyref': 'anacleto2004a', 'note': 'cited By 28', 'ID': 'Anacleto200433', '_work_type': 'Work'}, {'name': 'CMMI: Guidelines for Process Integration and Product Improvement', 'authors': 'Chrissis, M.B. and Konrad, M. and Shrum, S.', 'year': 2003, 'place1': 'Addison Wesley', 'entrytype': 'article', 'display': 'chrissis', 'pyref': 'chrissis2003a', 'note': 'cited By 687', 'ID': 'Chrissis2003', '_work_type': 'Work'}, {'name': \"Rapid software process assessment to promote innovation in SME's\", 'authors': 'Cignoni, G.A.', 'year': 1999, 'place1': 'Proceedings of Euromicro', 'entrytype': 'article', 'display': 'cignoni', 'pyref': 'cignoni1999a', 'volume': '99', 'note': 'cited By 4', 'ID': 'Cignoni1999', '_work_type': 'Work'}, {'name': 'CSPT', 'authors': 'CSPT', 'year': 2003, 'place1': 'Centre for Software Process Technologies', 'entrytype': 'article', 'display': 'cspt', 'pyref': 'cspt2003a', 'note': 'cited By 1', 'ID': 'CSPT,2003', '_work_type': 'Work'}, {'name': 'FAME (Fraunhofer Assessment MEthod) - A Business-focused Method for Process Assessment', 'authors': 'Fraunhofer Institute', 'year': 2005, 'place1': 'Fraunhofer Institute Experimentelles Software Engineering', 'entrytype': 'article', 'display': 'institute', 'pyref': 'institute2005a', 'note': 'cited By 2', 'ID': 'Fame2005', '_work_type': 'Work'}, {'name': 'Information Technology - Process Assessment - Part 5: An exemplar Process Assessment Model', 'authors': 'ISO/IEC 15504, ISO/IECJTC1/SC7', 'year': 2006, 'place1': 'Information Technology - Process Assessment', 'entrytype': 'article', 'display': 'iso', 'pyref': 'iso2006a', 'note': 'cited By 251', 'ID': 'IT2003', '_work_type': 'Work'}, {'name': 'Information technology - Process assessment - Part 3: Guidance on performing an assessment', 'authors': 'ISO/IEC 15504-3', 'year': 2006, 'place1': 'Information Technology - Process Assessment', 'entrytype': 'article', 'display': '15504-3', 'pyref': '15504-32006a', 'note': 'cited By 251', 'ID': 'IT2004', '_work_type': 'Work'}, {'name': 'A Detailed Process Assessment Method for SMEs \\nyear=2000', 'authors': 'Makinen, T. and Varkoi, T. and Lepasaar, M.', 'year': 0, 'place1': 'EuroSPI', 'entrytype': 'article', 'display': 'makinen', 'pyref': 'makinen0a', 'note': 'cited By 3', 'ID': 'Makinen2000', '_work_type': 'Work'}, {'name': 'Improving express process appraisal method', 'authors': 'Mc Caffery, F. and McFall, D. and Wilkie, F.G.', 'year': 2005, 'pp': '286-298', 'place1': '6th International Conference on Product Focused Software Process Improvement (Profes 2005)', 'entrytype': 'article', 'place': 'ICPFSPI', 'display': 'caffery', 'pyref': 'caffery2005a', 'ID': 'McCaffery2005', '_work_type': 'Work'}, {'name': 'Northern Ireland Software Industry Survey', 'authors': 'Mc Caffery, F. and Wilkie, F.G. and McFall, D. and Lester, N.', 'year': 2004, 'pp': '159-161', 'place1': 'Proceedings of Fourth International SPICE Conference on Process Assessment and Improvement', 'entrytype': 'article', 'display': 'caffery', 'pyref': 'caffery2004a', 'note': 'cited By 1', 'ID': 'McCaffery2004', '_work_type': 'Work'}, {'name': 'Software processes and process improvement in Northern Ireland', 'authors': 'McFall, D. and Wilkie, F.G. and McCaffery, F. and Lester, N.G. and Sterritt, R.', 'year': 2003, 'pp': '1-10', 'place1': '16th International Conference on Software & Systems Engineering and Their Applications', 'entrytype': 'article', 'place': 'ICASEA', 'display': 'mcfall', 'pyref': 'mcfall2003a', 'note': 'cited By 10', 'ID': 'McFall2003', '_work_type': 'Work'}, {'name': \"IDEAL: A User's Guide for Software Process Improvement\", 'authors': 'McFeeley, B.', 'year': 1996, 'place1': 'Software Engineering Institute: CMU/SEI', 'entrytype': 'article', 'display': 'mcfeeley', 'pyref': 'mcfeeley1996a', 'note': 'cited By 181', 'ID': 'McFeeley1996', '_work_type': 'Work'}, {'name': 'The RAPID assessment of software process capability. In Software Process Improvement, Hunter RB', 'authors': 'Rout, T.P. and Tuffley, A. and Cahill, B. and Hodgen, B.', 'year': 2001, 'place1': 'IEEE Computer Society Press', 'entrytype': 'article', 'display': 'rout', 'pyref': 'rout2001a', 'note': 'cited By 2', 'ID': 'Rout2001', '_work_type': 'Work'}, {'name': 'The capability maturity model: Guidelines for improving the software process', 'authors': 'Paulk, M.C. and Weber, C.V. and Curtis, B. and Chrissis, M.B.', 'year': 1995, 'place1': 'The Capability Maturity Model: Guidelines for Improving the Software Process', 'entrytype': 'article', 'display': 'paulk', 'pyref': 'paulk1995a', 'note': 'cited By 982', 'ID': 'Paulk1995', '_work_type': 'Work'}, {'name': 'Appraisal requirements for CMMI®, Version 1.1', 'authors': 'CMMI Product Team', 'year': 2007, 'place1': 'SEI', 'entrytype': 'article', 'display': 'team', 'pyref': 'team2007a', 'note': 'cited By 1', 'ID': 'NoAuthor2007', '_work_type': 'Work'}, {'name': 'Process Maturity Profile: CMMI® v1.1, SCAMPI SM v1.1 Class A Appraisal Results', 'authors': 'SEI', 'year': 2004, 'place1': 'Process Maturity Profile', 'entrytype': 'article', 'display': 'sei', 'pyref': 'sei2004a', 'note': 'cited By 17', 'ID': 'SEI2004', '_work_type': 'Work'}, {'name': 'The IDEALSM Model', 'authors': 'SEI', 'year': 2005, 'place1': 'SEI', 'entrytype': 'article', 'display': 'sei', 'pyref': 'sei2005a', 'note': 'cited By 1', 'ID': 'NoAuthor2005', '_work_type': 'Work'}, {'name': 'The centre for software process technologies: A model for process improvement in geographical regions with small software industries', 'authors': 'Wilkie, F.G. and McFall, D. and McCaffery, F.', 'year': 2004, 'pp': '5', 'place1': 'Proceedings of 16th Software Engineering Process Group Conference', 'entrytype': 'article', 'display': 'wilkie', 'pyref': 'wilkie2004a', 'note': 'cited By 4', 'ID': 'Wilkie2004', '_work_type': 'Work'}, {'name': 'An Evaluation of CMMI® Process Areas for Small to Medium Sized Software Development Organisations Software Process Improvement and Practice', 'authors': 'Wilkie, F.G. and McFall, D. and Mc Caffery, F.', 'year': 2005, 'pp': '2', 'place1': 'Wiley Publishers: 189-201', 'entrytype': 'article', 'display': 'wilkie', 'pyref': 'wilkie2005a', 'volume': '10', 'note': 'cited By 1', 'ID': 'Wilkie2005', '_work_type': 'Work'}]\n"
     ]
    }
   ],
   "source": [
    "print(article_list)"
   ]
  },
  {
   "cell_type": "code",
   "execution_count": null,
   "metadata": {
    "collapsed": true
   },
   "outputs": [],
   "source": []
  },
  {
   "cell_type": "code",
   "execution_count": null,
   "metadata": {
    "collapsed": true
   },
   "outputs": [],
   "source": []
  },
  {
   "cell_type": "code",
   "execution_count": 93,
   "metadata": {},
   "outputs": [
    {
     "data": {
      "application/vnd.jupyter.widget-view+json": {
       "model_id": "b6fab1c5e67f458889e34e9f02777974",
       "version_major": 2,
       "version_minor": 0
      },
      "text/html": [
       "<p>Failed to display Jupyter Widget of type <code>VBox</code>.</p>\n",
       "<p>\n",
       "  If you're reading this message in Jupyter Notebook or JupyterLab, it may mean\n",
       "  that the widgets JavaScript is still loading. If this message persists, it\n",
       "  likely means that the widgets JavaScript library is either not installed or\n",
       "  not enabled. See the <a href=\"https://ipywidgets.readthedocs.io/en/stable/user_install.html\">Jupyter\n",
       "  Widgets Documentation</a> for setup instructions.\n",
       "</p>\n",
       "<p>\n",
       "  If you're reading this message in another notebook frontend (for example, a static\n",
       "  rendering on GitHub or <a href=\"https://nbviewer.jupyter.org/\">NBViewer</a>),\n",
       "  it may mean that your frontend doesn't currently support widgets.\n",
       "</p>\n"
      ],
      "text/plain": [
       "VBox(children=(HBox(children=(Button(description='Previous Article', disabled=True, icon='caret-left', style=ButtonStyle()), Button(description='Reload Article', icon='refresh', style=ButtonStyle()), Button(description='Next Article', icon='caret-right', style=ButtonStyle()))), HBox(children=(Button(description='Unrelated: Scripts', style=ButtonStyle()), Button(description='Unrelated: Provenance', style=ButtonStyle()), Button(description='Both', style=ButtonStyle()), Button(description='Ok', style=ButtonStyle()))), HBox(children=(Dropdown(description='Type', options=('Work', 'WorkSnowball', 'WorkForward', 'WorkBackward', 'WorkOk', 'WorkUnrelated', 'WorkNoFile', 'WorkLang', 'Site', 'Email'), value='Work'), ToggleButton(value=False, description='File'))), HBox(children=(Text(value='', description='Due'), Text(value='', description='Place'))), HBox(children=(Text(value='', description='Year'), Text(value='', description='Prefix Var'))), HBox(children=(Text(value='', description='PDFPage'), Text(value='', description='Related'))), HBox(children=(Text(value='', description='Display'), Text(value='', description='Summary'))), HBox(children=(Text(value='', description='Star'), Text(value='', description='Link'))), HBox(children=(Button(description='Reload Article', icon='refresh', style=ButtonStyle()), IntSlider(value=0, max=56), Label(value='1/57'))), Output()))"
      ]
     },
     "metadata": {},
     "output_type": "display_data"
    },
    {
     "data": {
      "application/javascript": [
       "$('span:contains(\"# Temp\")').closest('.cell').remove();"
      ],
      "text/plain": [
       "<IPython.core.display.Javascript object>"
      ]
     },
     "metadata": {},
     "output_type": "display_data"
    },
    {
     "data": {
      "application/javascript": [
       "\n",
       "        $('span:contains(\"# Temp\")').closest('.cell').remove();\n",
       "        var code = IPython.notebook.insert_cell_below('code');\n",
       "        code.set_text(atob(\"IyBUZW1wCmluc2VydCgnJycKYWxpMjAxMmEgPSBEQihXb3JrKAogICAgMjAxMiwgIlRlc3RpbmcgaGlnaGx5IGNvbXBsZXggc3lzdGVtIG9mIHN5c3RlbXM6IEFuIGluZHVzdHJpYWwgY2FzZSBzdHVkeSIsCiAgICBkaXNwbGF5PSJhbGkiLAogICAgYXV0aG9ycz0iQWxpLCBOLkIuIGFuZCBQZXRlcnNlbiwgSy4gYW5kIE3kbnR5bOQsIE0uVi4iLAogICAgcGxhY2U9RVNFTSwKICAgIHBwPSIyMTEtMjIwIiwKICAgIGVudHJ5dHlwZT0iY29uZmVyZW5jZSIsCiAgICBkb2k9IjEwLjExNDUvMjM3MjI1MS4yMzcyMjkwIiwKICAgIG5vdGU9ImNpdGVkIEJ5IDkiLAogICAgSUQ9IkFsaTIwMTIyMTEiLAopKQoKREIoQ2l0YXRpb24oCiAgICBwZXRlcnNlbjIwMTVhLCBhbGkyMDEyYSwgcmVmPSIiLAogICAgY29udGV4dHM9WwoKICAgIF0sCikpCgonJycsIGNpdGF0aW9ucz0ncGV0ZXJzZW4yMDE1YScpOw==\"));\n",
       "    "
      ],
      "text/plain": [
       "<IPython.core.display.Javascript object>"
      ]
     },
     "metadata": {},
     "output_type": "display_data"
    },
    {
     "data": {
      "application/javascript": [
       "$('span:contains(\"# Temp\")').closest('.cell').remove();"
      ],
      "text/plain": [
       "<IPython.core.display.Javascript object>"
      ]
     },
     "metadata": {},
     "output_type": "display_data"
    },
    {
     "data": {
      "application/javascript": [
       "\n",
       "        $('span:contains(\"# Temp\")').closest('.cell').remove();\n",
       "        var code = IPython.notebook.insert_cell_below('code');\n",
       "        code.set_text(atob(\"IyBUZW1wCmluc2VydCgnJycKYXJkaW1lbnRvMjAwNmEgPSBEQihXb3JrKAogICAgMjAwNiwgIkFzc2Vzc2luZyBtdWx0aXZpZXcgZnJhbWV3b3JrIChNRikgY29tcHJlaGVuc2liaWxpdHkgYW5kIGVmZmljaWVuY3k6IEEgcmVwbGljYXRlZCBleHBlcmltZW50IiwKICAgIGRpc3BsYXk9ImFyZGltZW50byIsCiAgICBhdXRob3JzPSJBcmRpbWVudG8sIFAuIGFuZCBCYWxkYXNzYXJyZSwgTS5ULiBhbmQgQ2FpdmFubywgRC4gYW5kIFZpc2FnZ2lvLCBHLiIsCiAgICBwbGFjZT1JU1QsCiAgICBwcD0iMzEzLTMyMiIsCiAgICBlbnRyeXR5cGU9ImFydGljbGUiLAogICAgdm9sdW1lPSI0OCIsCiAgICBudW1iZXI9IjUiLAogICAgZG9pPSIxMC4xMDE2L2ouaW5mc29mLjIwMDUuMDkuMDEwIiwKICAgIG5vdGU9ImNpdGVkIEJ5IDYiLAogICAgSUQ9IkFyZGltZW50bzIwMDYzMTMiLAopKQoKREIoQ2l0YXRpb24oCiAgICBwZXRlcnNlbjIwMTVhLCBhcmRpbWVudG8yMDA2YSwgcmVmPSIiLAogICAgY29udGV4dHM9WwoKICAgIF0sCikpCgonJycsIGNpdGF0aW9ucz0ncGV0ZXJzZW4yMDE1YScpOw==\"));\n",
       "    "
      ],
      "text/plain": [
       "<IPython.core.display.Javascript object>"
      ]
     },
     "metadata": {},
     "output_type": "display_data"
    },
    {
     "data": {
      "application/javascript": [
       "$('span:contains(\"# Temp\")').closest('.cell').remove();"
      ],
      "text/plain": [
       "<IPython.core.display.Javascript object>"
      ]
     },
     "metadata": {},
     "output_type": "display_data"
    },
    {
     "data": {
      "application/javascript": [
       "\n",
       "        $('span:contains(\"# Temp\")').closest('.cell').remove();\n",
       "        var code = IPython.notebook.insert_cell_below('code');\n",
       "        code.set_text(atob(\"IyBUZW1wCmluc2VydCgnJycKYXJkaW1lbnRvMjAwNmEgPSBEQihXb3JrKAogICAgMjAwNiwgIkFzc2Vzc2luZyBtdWx0aXZpZXcgZnJhbWV3b3JrIChNRikgY29tcHJlaGVuc2liaWxpdHkgYW5kIGVmZmljaWVuY3k6IEEgcmVwbGljYXRlZCBleHBlcmltZW50IiwKICAgIGRpc3BsYXk9ImFyZGltZW50byIsCiAgICBhdXRob3JzPSJBcmRpbWVudG8sIFAuIGFuZCBCYWxkYXNzYXJyZSwgTS5ULiBhbmQgQ2FpdmFubywgRC4gYW5kIFZpc2FnZ2lvLCBHLiIsCiAgICBwbGFjZT1JU1QsCiAgICBwcD0iMzEzLTMyMiIsCiAgICBlbnRyeXR5cGU9ImFydGljbGUiLAogICAgdm9sdW1lPSI0OCIsCiAgICBudW1iZXI9IjUiLAogICAgZG9pPSIxMC4xMDE2L2ouaW5mc29mLjIwMDUuMDkuMDEwIiwKICAgIG5vdGU9ImNpdGVkIEJ5IDYiLAogICAgSUQ9IkFyZGltZW50bzIwMDYzMTMiLAopKQoKREIoQ2l0YXRpb24oCiAgICBwZXRlcnNlbjIwMTVhLCBhcmRpbWVudG8yMDA2YSwgcmVmPSIiLAogICAgY29udGV4dHM9WwoKICAgIF0sCikpCgonJycsIGNpdGF0aW9ucz0ncGV0ZXJzZW4yMDE1YScpOw==\"));\n",
       "    "
      ],
      "text/plain": [
       "<IPython.core.display.Javascript object>"
      ]
     },
     "metadata": {},
     "output_type": "display_data"
    },
    {
     "data": {
      "application/javascript": [
       "$('span:contains(\"# Temp\")').closest('.cell').remove();"
      ],
      "text/plain": [
       "<IPython.core.display.Javascript object>"
      ]
     },
     "metadata": {},
     "output_type": "display_data"
    },
    {
     "data": {
      "application/javascript": [
       "\n",
       "        $('span:contains(\"# Temp\")').closest('.cell').remove();\n",
       "        var code = IPython.notebook.insert_cell_below('code');\n",
       "        code.set_text(atob(\"IyBUZW1wCmluc2VydCgnJycKREIoQ2l0YXRpb24oCiAgICBwZXRlcnNlbjIwMTVhLCBiYWNhMjAxM2EsIHJlZj0iIiwKICAgIGNvbnRleHRzPVsKCiAgICBdLAopKQoKJycnLCBjaXRhdGlvbnM9J3BldGVyc2VuMjAxNWEnKTs=\"));\n",
       "    "
      ],
      "text/plain": [
       "<IPython.core.display.Javascript object>"
      ]
     },
     "metadata": {},
     "output_type": "display_data"
    },
    {
     "data": {
      "application/javascript": [
       "$('span:contains(\"# Temp\")').closest('.cell').remove();"
      ],
      "text/plain": [
       "<IPython.core.display.Javascript object>"
      ]
     },
     "metadata": {},
     "output_type": "display_data"
    },
    {
     "data": {
      "application/javascript": [
       "\n",
       "        $('span:contains(\"# Temp\")').closest('.cell').remove();\n",
       "        var code = IPython.notebook.insert_cell_below('code');\n",
       "        code.set_text(atob(\"IyBUZW1wCmluc2VydCgnJycKREIoQ2l0YXRpb24oCiAgICBwZXRlcnNlbjIwMTVhLCBiYWNhMjAxM2EsIHJlZj0iIiwKICAgIGNvbnRleHRzPVsKCiAgICBdLAopKQoKJycnLCBjaXRhdGlvbnM9J3BldGVyc2VuMjAxNWEnKTs=\"));\n",
       "    "
      ],
      "text/plain": [
       "<IPython.core.display.Javascript object>"
      ]
     },
     "metadata": {},
     "output_type": "display_data"
    },
    {
     "data": {
      "application/javascript": [
       "$('span:contains(\"# Temp\")').closest('.cell').remove();"
      ],
      "text/plain": [
       "<IPython.core.display.Javascript object>"
      ]
     },
     "metadata": {},
     "output_type": "display_data"
    },
    {
     "data": {
      "application/javascript": [
       "\n",
       "        $('span:contains(\"# Temp\")').closest('.cell').remove();\n",
       "        var code = IPython.notebook.insert_cell_below('code');\n",
       "        code.set_text(atob(\"IyBUZW1wCmluc2VydCgnJycKYmFzaWxpMjAwN2EgPSBEQihXb3JrKAogICAgMjAwNywgIkJyaWRnaW5nIHRoZSBnYXAgYmV0d2VlbiBidXNpbmVzcyBzdHJhdGVneSBhbmQgc29mdHdhcmUgZGV2ZWxvcG1lbnQiLAogICAgZGlzcGxheT0iYmFzaWxpIiwKICAgIGF1dGhvcnM9IkJhc2lsaSwgVi5SLiBhbmQgSGVpZHJpY2gsIEouIGFuZCBMaW5kdmFsbCwgTS4gYW5kIE38bmNoLCBKLiBhbmQgUmVnYXJkaWUsIE0uIGFuZCBSb21iYWNoLCBILkQuIGFuZCBTZWFtYW4sIEMuQi4gYW5kIFRyZW5kb3dpY3osIEEuIiwKICAgIHBwPSIyNSIsCiAgICBwbGFjZTE9IlByb2NlZWRpbmdzIG9mIHRoZSBpbnRlcm5hdGlvbmFsIGNvbmZlcmVuY2Ugb24gaW5mb3JtYXRpb24gc3lzdGVtcyAoSUNJUyIsCiAgICBlbnRyeXR5cGU9ImFydGljbGUiLAogICAgdm9sdW1lPSIyMDA3IiwKICAgIG5vdGU9ImNpdGVkIEJ5IDQiLAogICAgSUQ9IkJhc2lsaTIwMDcyNSIsCikpCgpEQihDaXRhdGlvbigKICAgIHBldGVyc2VuMjAxNWEsIGJhc2lsaTIwMDdhLCByZWY9IiIsCiAgICBjb250ZXh0cz1bCgogICAgXSwKKSkKCicnJywgY2l0YXRpb25zPSdwZXRlcnNlbjIwMTVhJyk7\"));\n",
       "    "
      ],
      "text/plain": [
       "<IPython.core.display.Javascript object>"
      ]
     },
     "metadata": {},
     "output_type": "display_data"
    },
    {
     "data": {
      "application/javascript": [
       "$('span:contains(\"# Temp\")').closest('.cell').remove();"
      ],
      "text/plain": [
       "<IPython.core.display.Javascript object>"
      ]
     },
     "metadata": {},
     "output_type": "display_data"
    },
    {
     "data": {
      "application/javascript": [
       "\n",
       "        $('span:contains(\"# Temp\")').closest('.cell').remove();\n",
       "        var code = IPython.notebook.insert_cell_below('code');\n",
       "        code.set_text(atob(\"IyBUZW1wCmluc2VydCgnJycKYmFzaWxpMjAwN2EgPSBEQihXb3JrKAogICAgMjAwNywgIkJyaWRnaW5nIHRoZSBnYXAgYmV0d2VlbiBidXNpbmVzcyBzdHJhdGVneSBhbmQgc29mdHdhcmUgZGV2ZWxvcG1lbnQiLAogICAgZGlzcGxheT0iYmFzaWxpIiwKICAgIGF1dGhvcnM9IkJhc2lsaSwgVi5SLiBhbmQgSGVpZHJpY2gsIEouIGFuZCBMaW5kdmFsbCwgTS4gYW5kIE38bmNoLCBKLiBhbmQgUmVnYXJkaWUsIE0uIGFuZCBSb21iYWNoLCBILkQuIGFuZCBTZWFtYW4sIEMuQi4gYW5kIFRyZW5kb3dpY3osIEEuIiwKICAgIHBwPSIyNSIsCiAgICBwbGFjZTE9IlByb2NlZWRpbmdzIG9mIHRoZSBpbnRlcm5hdGlvbmFsIGNvbmZlcmVuY2Ugb24gaW5mb3JtYXRpb24gc3lzdGVtcyAoSUNJUyIsCiAgICBlbnRyeXR5cGU9ImFydGljbGUiLAogICAgdm9sdW1lPSIyMDA3IiwKICAgIG5vdGU9ImNpdGVkIEJ5IDQiLAogICAgSUQ9IkJhc2lsaTIwMDcyNSIsCikpCgpEQihDaXRhdGlvbigKICAgIHBldGVyc2VuMjAxNWEsIGJhc2lsaTIwMDdhLCByZWY9IiIsCiAgICBjb250ZXh0cz1bCgogICAgXSwKKSkKCicnJywgY2l0YXRpb25zPSdwZXRlcnNlbjIwMTVhJyk7\"));\n",
       "    "
      ],
      "text/plain": [
       "<IPython.core.display.Javascript object>"
      ]
     },
     "metadata": {},
     "output_type": "display_data"
    },
    {
     "data": {
      "application/javascript": [
       "$('span:contains(\"# Temp\")').closest('.cell').remove();"
      ],
      "text/plain": [
       "<IPython.core.display.Javascript object>"
      ]
     },
     "metadata": {},
     "output_type": "display_data"
    },
    {
     "data": {
      "application/javascript": [
       "\n",
       "        $('span:contains(\"# Temp\")').closest('.cell').remove();\n",
       "        var code = IPython.notebook.insert_cell_below('code');\n",
       "        code.set_text(atob(\"IyBUZW1wCmluc2VydCgnJycKREIoQ2l0YXRpb24oCiAgICBwZXRlcnNlbjIwMTVhLCBiYXNpbGkyMDEwYSwgcmVmPSIiLAogICAgY29udGV4dHM9WwoKICAgIF0sCikpCgonJycsIGNpdGF0aW9ucz0ncGV0ZXJzZW4yMDE1YScpOw==\"));\n",
       "    "
      ],
      "text/plain": [
       "<IPython.core.display.Javascript object>"
      ]
     },
     "metadata": {},
     "output_type": "display_data"
    },
    {
     "data": {
      "application/javascript": [
       "$('span:contains(\"# Temp\")').closest('.cell').remove();"
      ],
      "text/plain": [
       "<IPython.core.display.Javascript object>"
      ]
     },
     "metadata": {},
     "output_type": "display_data"
    },
    {
     "data": {
      "application/javascript": [
       "\n",
       "        $('span:contains(\"# Temp\")').closest('.cell').remove();\n",
       "        var code = IPython.notebook.insert_cell_below('code');\n",
       "        code.set_text(atob(\"IyBUZW1wCmluc2VydCgnJycKREIoQ2l0YXRpb24oCiAgICBwZXRlcnNlbjIwMTVhLCBiYXNpbGkyMDEwYSwgcmVmPSIiLAogICAgY29udGV4dHM9WwoKICAgIF0sCikpCgonJycsIGNpdGF0aW9ucz0ncGV0ZXJzZW4yMDE1YScpOw==\"));\n",
       "    "
      ],
      "text/plain": [
       "<IPython.core.display.Javascript object>"
      ]
     },
     "metadata": {},
     "output_type": "display_data"
    },
    {
     "data": {
      "application/javascript": [
       "$('span:contains(\"# Temp\")').closest('.cell').remove();"
      ],
      "text/plain": [
       "<IPython.core.display.Javascript object>"
      ]
     },
     "metadata": {},
     "output_type": "display_data"
    },
    {
     "data": {
      "application/javascript": [
       "\n",
       "        $('span:contains(\"# Temp\")').closest('.cell').remove();\n",
       "        var code = IPython.notebook.insert_cell_below('code');\n",
       "        code.set_text(atob(\"IyBUZW1wCmluc2VydCgnJycKYmFzaWxpMTk4NGEgPSBEQihXb3JrKAogICAgMTk4NCwgIkEgTWV0aG9kb2xvZ3kgZm9yIENvbGxlY3RpbmcgVmFsaWQgU29mdHdhcmUgRW5naW5lZXJpbmcgRGF0YSIsCiAgICBkaXNwbGF5PSJiYXNpbGkiLAogICAgYXV0aG9ycz0iQmFzaWxpLCBWLlIuIGFuZCBXZWlzcywgRC5NLiIsCiAgICBwbGFjZT1Ub1NFLAogICAgcHA9IjcyOC03MzgiLAogICAgZW50cnl0eXBlPSJhcnRpY2xlIiwKICAgIHZvbHVtZT0iU0UtMTAiLAogICAgbnVtYmVyPSI2IiwKICAgIGRvaT0iMTAuMTEwOS9UU0UuMTk4NC41MDEwMzAxIiwKICAgIG5vdGU9ImNpdGVkIEJ5IDQ5MSIsCiAgICBJRD0iQmFzaWxpMTk4NDcyOCIsCikpCgpEQihDaXRhdGlvbigKICAgIHBldGVyc2VuMjAxNWEsIGJhc2lsaTE5ODRhLCByZWY9IiIsCiAgICBjb250ZXh0cz1bCgogICAgXSwKKSkKCicnJywgY2l0YXRpb25zPSdwZXRlcnNlbjIwMTVhJyk7\"));\n",
       "    "
      ],
      "text/plain": [
       "<IPython.core.display.Javascript object>"
      ]
     },
     "metadata": {},
     "output_type": "display_data"
    },
    {
     "data": {
      "application/javascript": [
       "$('span:contains(\"# Temp\")').closest('.cell').remove();"
      ],
      "text/plain": [
       "<IPython.core.display.Javascript object>"
      ]
     },
     "metadata": {},
     "output_type": "display_data"
    },
    {
     "data": {
      "application/javascript": [
       "\n",
       "        $('span:contains(\"# Temp\")').closest('.cell').remove();\n",
       "        var code = IPython.notebook.insert_cell_below('code');\n",
       "        code.set_text(atob(\"IyBUZW1wCmluc2VydCgnJycKYmFzaWxpMTk4NGEgPSBEQihXb3JrKAogICAgMTk4NCwgIkEgTWV0aG9kb2xvZ3kgZm9yIENvbGxlY3RpbmcgVmFsaWQgU29mdHdhcmUgRW5naW5lZXJpbmcgRGF0YSIsCiAgICBkaXNwbGF5PSJiYXNpbGkiLAogICAgYXV0aG9ycz0iQmFzaWxpLCBWLlIuIGFuZCBXZWlzcywgRC5NLiIsCiAgICBwbGFjZT1Ub1NFLAogICAgcHA9IjcyOC03MzgiLAogICAgZW50cnl0eXBlPSJhcnRpY2xlIiwKICAgIHZvbHVtZT0iU0UtMTAiLAogICAgbnVtYmVyPSI2IiwKICAgIGRvaT0iMTAuMTEwOS9UU0UuMTk4NC41MDEwMzAxIiwKICAgIG5vdGU9ImNpdGVkIEJ5IDQ5MSIsCiAgICBJRD0iQmFzaWxpMTk4NDcyOCIsCikpCgpEQihDaXRhdGlvbigKICAgIHBldGVyc2VuMjAxNWEsIGJhc2lsaTE5ODRhLCByZWY9IiIsCiAgICBjb250ZXh0cz1bCgogICAgXSwKKSkKCicnJywgY2l0YXRpb25zPSdwZXRlcnNlbjIwMTVhJyk7\"));\n",
       "    "
      ],
      "text/plain": [
       "<IPython.core.display.Javascript object>"
      ]
     },
     "metadata": {},
     "output_type": "display_data"
    },
    {
     "data": {
      "application/javascript": [
       "$('span:contains(\"# Temp\")').closest('.cell').remove();"
      ],
      "text/plain": [
       "<IPython.core.display.Javascript object>"
      ]
     },
     "metadata": {},
     "output_type": "display_data"
    },
    {
     "data": {
      "application/javascript": [
       "\n",
       "        $('span:contains(\"# Temp\")').closest('.cell').remove();\n",
       "        var code = IPython.notebook.insert_cell_below('code');\n",
       "        code.set_text(atob(\"IyBUZW1wCmluc2VydCgnJycKYm95ZDIwMDJhID0gREIoV29yaygKICAgIDIwMDIsICJUaGUgZ29hbHMsIHF1ZXN0aW9ucywgaW5kaWNhdG9ycywgbWVhc3VyZXMgKGdxaW0pIGFwcHJvYWNoIHRvIHRoZSBtZWFzdXJlbWVudCBvZiBjdXN0b21lciBzYXRpc2ZhY3Rpb24gd2l0aCBlLWNvbW1lcmNlIHdlYiBzaXRlcy4gSW46IEFzbGliIHByb2NlZWRpbmdzLCB2b2wgNTQuIE1DQiBVUCBMdGQiLAogICAgZGlzcGxheT0iYm95ZCIsCiAgICBhdXRob3JzPSJCb3lkLCBBLiIsCiAgICBwbGFjZTE9InBwIDE3N5YxODciLAogICAgZW50cnl0eXBlPSJhcnRpY2xlIiwKICAgIG5vdGU9ImNpdGVkIEJ5IDEiLAogICAgSUQ9IkJveWQyMDAyIiwKKSkKCkRCKENpdGF0aW9uKAogICAgcGV0ZXJzZW4yMDE1YSwgYm95ZDIwMDJhLCByZWY9IiIsCiAgICBjb250ZXh0cz1bCgogICAgXSwKKSkKCicnJywgY2l0YXRpb25zPSdwZXRlcnNlbjIwMTVhJyk7\"));\n",
       "    "
      ],
      "text/plain": [
       "<IPython.core.display.Javascript object>"
      ]
     },
     "metadata": {},
     "output_type": "display_data"
    },
    {
     "data": {
      "application/javascript": [
       "$('span:contains(\"# Temp\")').closest('.cell').remove();"
      ],
      "text/plain": [
       "<IPython.core.display.Javascript object>"
      ]
     },
     "metadata": {},
     "output_type": "display_data"
    },
    {
     "data": {
      "application/javascript": [
       "\n",
       "        $('span:contains(\"# Temp\")').closest('.cell').remove();\n",
       "        var code = IPython.notebook.insert_cell_below('code');\n",
       "        code.set_text(atob(\"IyBUZW1wCmluc2VydCgnJycKYm95ZDIwMDJhID0gREIoV29yaygKICAgIDIwMDIsICJUaGUgZ29hbHMsIHF1ZXN0aW9ucywgaW5kaWNhdG9ycywgbWVhc3VyZXMgKGdxaW0pIGFwcHJvYWNoIHRvIHRoZSBtZWFzdXJlbWVudCBvZiBjdXN0b21lciBzYXRpc2ZhY3Rpb24gd2l0aCBlLWNvbW1lcmNlIHdlYiBzaXRlcy4gSW46IEFzbGliIHByb2NlZWRpbmdzLCB2b2wgNTQuIE1DQiBVUCBMdGQiLAogICAgZGlzcGxheT0iYm95ZCIsCiAgICBhdXRob3JzPSJCb3lkLCBBLiIsCiAgICBwbGFjZTE9InBwIDE3N5YxODciLAogICAgZW50cnl0eXBlPSJhcnRpY2xlIiwKICAgIG5vdGU9ImNpdGVkIEJ5IDEiLAogICAgSUQ9IkJveWQyMDAyIiwKKSkKCkRCKENpdGF0aW9uKAogICAgcGV0ZXJzZW4yMDE1YSwgYm95ZDIwMDJhLCByZWY9IiIsCiAgICBjb250ZXh0cz1bCgogICAgXSwKKSkKCicnJywgY2l0YXRpb25zPSdwZXRlcnNlbjIwMTVhJyk7\"));\n",
       "    "
      ],
      "text/plain": [
       "<IPython.core.display.Javascript object>"
      ]
     },
     "metadata": {},
     "output_type": "display_data"
    },
    {
     "data": {
      "application/javascript": [
       "$('span:contains(\"# Temp\")').closest('.cell').remove();"
      ],
      "text/plain": [
       "<IPython.core.display.Javascript object>"
      ]
     },
     "metadata": {},
     "output_type": "display_data"
    },
    {
     "data": {
      "application/javascript": [
       "\n",
       "        $('span:contains(\"# Temp\")').closest('.cell').remove();\n",
       "        var code = IPython.notebook.insert_cell_below('code');\n",
       "        code.set_text(atob(\"IyBUZW1wCmluc2VydCgnJycKYm95ZDIwMDVhID0gREIoV29yaygKICAgIDIwMDUsICJUaGUgZXZvbHV0aW9uIG9mIGdvYWwtYmFzZWQgaW5mb3JtYXRpb24gbW9kZWxsaW5nOiBsaXRlcmF0dXJlIHJldmlldy4gSW46IEFzbGliIHByb2NlZWRpbmdzLCB2b2wgNTcuIEVtZXJhbGQgR3JvdXAgUHVibGlzaGluZyBMaW1pdGVkIiwKICAgIGRpc3BsYXk9ImJveWQiLAogICAgYXV0aG9ycz0iQm95ZCwgQS5KLiIsCiAgICBwbGFjZTE9InBwIDUyM5Y1MzgiLAogICAgZW50cnl0eXBlPSJhcnRpY2xlIiwKICAgIG5vdGU9ImNpdGVkIEJ5IDEiLAogICAgSUQ9IkJveWQyMDA1IiwKKSkKCkRCKENpdGF0aW9uKAogICAgcGV0ZXJzZW4yMDE1YSwgYm95ZDIwMDVhLCByZWY9IiIsCiAgICBjb250ZXh0cz1bCgogICAgXSwKKSkKCicnJywgY2l0YXRpb25zPSdwZXRlcnNlbjIwMTVhJyk7\"));\n",
       "    "
      ],
      "text/plain": [
       "<IPython.core.display.Javascript object>"
      ]
     },
     "metadata": {},
     "output_type": "display_data"
    },
    {
     "data": {
      "application/javascript": [
       "$('span:contains(\"# Temp\")').closest('.cell').remove();"
      ],
      "text/plain": [
       "<IPython.core.display.Javascript object>"
      ]
     },
     "metadata": {},
     "output_type": "display_data"
    },
    {
     "data": {
      "application/javascript": [
       "\n",
       "        $('span:contains(\"# Temp\")').closest('.cell').remove();\n",
       "        var code = IPython.notebook.insert_cell_below('code');\n",
       "        code.set_text(atob(\"IyBUZW1wCmluc2VydCgnJycKYm95ZDIwMDVhID0gREIoV29yaygKICAgIDIwMDUsICJUaGUgZXZvbHV0aW9uIG9mIGdvYWwtYmFzZWQgaW5mb3JtYXRpb24gbW9kZWxsaW5nOiBsaXRlcmF0dXJlIHJldmlldy4gSW46IEFzbGliIHByb2NlZWRpbmdzLCB2b2wgNTcuIEVtZXJhbGQgR3JvdXAgUHVibGlzaGluZyBMaW1pdGVkIiwKICAgIGRpc3BsYXk9ImJveWQiLAogICAgYXV0aG9ycz0iQm95ZCwgQS5KLiIsCiAgICBwbGFjZTE9InBwIDUyM5Y1MzgiLAogICAgZW50cnl0eXBlPSJhcnRpY2xlIiwKICAgIG5vdGU9ImNpdGVkIEJ5IDEiLAogICAgSUQ9IkJveWQyMDA1IiwKKSkKCkRCKENpdGF0aW9uKAogICAgcGV0ZXJzZW4yMDE1YSwgYm95ZDIwMDVhLCByZWY9IiIsCiAgICBjb250ZXh0cz1bCgogICAgXSwKKSkKCicnJywgY2l0YXRpb25zPSdwZXRlcnNlbjIwMTVhJyk7\"));\n",
       "    "
      ],
      "text/plain": [
       "<IPython.core.display.Javascript object>"
      ]
     },
     "metadata": {},
     "output_type": "display_data"
    },
    {
     "data": {
      "application/javascript": [
       "$('span:contains(\"# Temp\")').closest('.cell').remove();"
      ],
      "text/plain": [
       "<IPython.core.display.Javascript object>"
      ]
     },
     "metadata": {},
     "output_type": "display_data"
    },
    {
     "data": {
      "application/javascript": [
       "\n",
       "        $('span:contains(\"# Temp\")').closest('.cell').remove();\n",
       "        var code = IPython.notebook.insert_cell_below('code');\n",
       "        code.set_text(atob(\"IyBUZW1wCmluc2VydCgnJycKYnJpYW5kMTk5NmEgPSBEQihXb3JrKAogICAgMTk5NiwgIlByYWN0aWNhbCBndWlkZWxpbmVzIGZvciBtZWFzdXJlbWVudC1iYXNlZCBwcm9jZXNzIGltcHJvdmVtZW50IiwKICAgIGRpc3BsYXk9ImJyaWFuZCIsCiAgICBhdXRob3JzPSJCcmlhbmQsIEwuQy4gYW5kIERpZmZlcmRpbmcsIEMuTS4gYW5kIFJvbWJhY2gsIEguRC4iLAogICAgcGxhY2U9U1BJUCwKICAgIHBwPSIyNTMtMjgwIiwKICAgIGVudHJ5dHlwZT0iYXJ0aWNsZSIsCiAgICB2b2x1bWU9IjIiLAogICAgbnVtYmVyPSI0IiwKICAgIG5vdGU9ImNpdGVkIEJ5IDk0IiwKICAgIElEPSJCcmlhbmQxOTk2MjUzIiwKKSkKCkRCKENpdGF0aW9uKAogICAgcGV0ZXJzZW4yMDE1YSwgYnJpYW5kMTk5NmEsIHJlZj0iIiwKICAgIGNvbnRleHRzPVsKCiAgICBdLAopKQoKJycnLCBjaXRhdGlvbnM9J3BldGVyc2VuMjAxNWEnKTs=\"));\n",
       "    "
      ],
      "text/plain": [
       "<IPython.core.display.Javascript object>"
      ]
     },
     "metadata": {},
     "output_type": "display_data"
    },
    {
     "data": {
      "application/javascript": [
       "$('span:contains(\"# Temp\")').closest('.cell').remove();"
      ],
      "text/plain": [
       "<IPython.core.display.Javascript object>"
      ]
     },
     "metadata": {},
     "output_type": "display_data"
    },
    {
     "data": {
      "application/javascript": [
       "\n",
       "        $('span:contains(\"# Temp\")').closest('.cell').remove();\n",
       "        var code = IPython.notebook.insert_cell_below('code');\n",
       "        code.set_text(atob(\"IyBUZW1wCmluc2VydCgnJycKYnJpYW5kMTk5NmEgPSBEQihXb3JrKAogICAgMTk5NiwgIlByYWN0aWNhbCBndWlkZWxpbmVzIGZvciBtZWFzdXJlbWVudC1iYXNlZCBwcm9jZXNzIGltcHJvdmVtZW50IiwKICAgIGRpc3BsYXk9ImJyaWFuZCIsCiAgICBhdXRob3JzPSJCcmlhbmQsIEwuQy4gYW5kIERpZmZlcmRpbmcsIEMuTS4gYW5kIFJvbWJhY2gsIEguRC4iLAogICAgcGxhY2U9U1BJUCwKICAgIHBwPSIyNTMtMjgwIiwKICAgIGVudHJ5dHlwZT0iYXJ0aWNsZSIsCiAgICB2b2x1bWU9IjIiLAogICAgbnVtYmVyPSI0IiwKICAgIG5vdGU9ImNpdGVkIEJ5IDk0IiwKICAgIElEPSJCcmlhbmQxOTk2MjUzIiwKKSkKCkRCKENpdGF0aW9uKAogICAgcGV0ZXJzZW4yMDE1YSwgYnJpYW5kMTk5NmEsIHJlZj0iIiwKICAgIGNvbnRleHRzPVsKCiAgICBdLAopKQoKJycnLCBjaXRhdGlvbnM9J3BldGVyc2VuMjAxNWEnKTs=\"));\n",
       "    "
      ],
      "text/plain": [
       "<IPython.core.display.Javascript object>"
      ]
     },
     "metadata": {},
     "output_type": "display_data"
    },
    {
     "data": {
      "application/javascript": [
       "$('span:contains(\"# Temp\")').closest('.cell').remove();"
      ],
      "text/plain": [
       "<IPython.core.display.Javascript object>"
      ]
     },
     "metadata": {},
     "output_type": "display_data"
    },
    {
     "data": {
      "application/javascript": [
       "\n",
       "        $('span:contains(\"# Temp\")').closest('.cell').remove();\n",
       "        var code = IPython.notebook.insert_cell_below('code');\n",
       "        code.set_text(atob(\"IyBUZW1wCmluc2VydCgnJycKYnJ5ZG9uMjAwM2EgPSBEQihXb3JrKAogICAgMjAwMywgIldoeSBhY3Rpb24gcmVzZWFyY2g/IiwKICAgIGRpc3BsYXk9ImJyeWRvbiIsCiAgICBhdXRob3JzPSJCcnlkb24tTWlsbGVyLCBNLiwgR3JlZW53b29kLCBELiwgTWFndWlyZSwgUC4iLAogICAgcGxhY2UxPSJBY3Rpb24gUmVzLCAxIiwKICAgIGVudHJ5dHlwZT0iYXJ0aWNsZSIsCiAgICBJRD0iQnJ5ZG9uTWlsbGVyMjAwMyIsCikpCgpEQihDaXRhdGlvbigKICAgIHBldGVyc2VuMjAxNWEsIGJyeWRvbjIwMDNhLCByZWY9IiIsCiAgICBjb250ZXh0cz1bCgogICAgXSwKKSkKCicnJywgY2l0YXRpb25zPSdwZXRlcnNlbjIwMTVhJyk7\"));\n",
       "    "
      ],
      "text/plain": [
       "<IPython.core.display.Javascript object>"
      ]
     },
     "metadata": {},
     "output_type": "display_data"
    },
    {
     "data": {
      "application/javascript": [
       "$('span:contains(\"# Temp\")').closest('.cell').remove();"
      ],
      "text/plain": [
       "<IPython.core.display.Javascript object>"
      ]
     },
     "metadata": {},
     "output_type": "display_data"
    },
    {
     "data": {
      "application/javascript": [
       "\n",
       "        $('span:contains(\"# Temp\")').closest('.cell').remove();\n",
       "        var code = IPython.notebook.insert_cell_below('code');\n",
       "        code.set_text(atob(\"IyBUZW1wCmluc2VydCgnJycKYnJ5ZG9uMjAwM2EgPSBEQihXb3JrKAogICAgMjAwMywgIldoeSBhY3Rpb24gcmVzZWFyY2g/IiwKICAgIGRpc3BsYXk9ImJyeWRvbiIsCiAgICBhdXRob3JzPSJCcnlkb24tTWlsbGVyLCBNLiwgR3JlZW53b29kLCBELiwgTWFndWlyZSwgUC4iLAogICAgcGxhY2UxPSJBY3Rpb24gUmVzLCAxIiwKICAgIGVudHJ5dHlwZT0iYXJ0aWNsZSIsCiAgICBJRD0iQnJ5ZG9uTWlsbGVyMjAwMyIsCikpCgpEQihDaXRhdGlvbigKICAgIHBldGVyc2VuMjAxNWEsIGJyeWRvbjIwMDNhLCByZWY9IiIsCiAgICBjb250ZXh0cz1bCgogICAgXSwKKSkKCicnJywgY2l0YXRpb25zPSdwZXRlcnNlbjIwMTVhJyk7\"));\n",
       "    "
      ],
      "text/plain": [
       "<IPython.core.display.Javascript object>"
      ]
     },
     "metadata": {},
     "output_type": "display_data"
    },
    {
     "data": {
      "application/javascript": [
       "$('span:contains(\"# Temp\")').closest('.cell').remove();"
      ],
      "text/plain": [
       "<IPython.core.display.Javascript object>"
      ]
     },
     "metadata": {},
     "output_type": "display_data"
    },
    {
     "data": {
      "application/javascript": [
       "\n",
       "        $('span:contains(\"# Temp\")').closest('.cell').remove();\n",
       "        var code = IPython.notebook.insert_cell_below('code');\n",
       "        code.set_text(atob(\"IyBUZW1wCmluc2VydCgnJycKYvxobmUyMDA1YSA9IERCKFdvcmsoCiAgICAyMDA1LCAiTW9kZWxsaW5nIHJlcXVpcmVtZW50cyB2YXJpYWJpbGl0eSBhY3Jvc3MgcHJvZHVjdCBsaW5lcyIsCiAgICBkaXNwbGF5PSJi/GhuZSIsCiAgICBhdXRob3JzPSJC/GhuZSwgUy4gYW5kIExhdWVucm90aCwgSy4gYW5kIFBvaGwsIEsuIiwKICAgIHBsYWNlPUlDU0UsCiAgICBwcD0iNDEtNTAiLAogICAgZW50cnl0eXBlPSJjb25mZXJlbmNlIiwKICAgIG5vdGU9ImNpdGVkIEJ5IDY1IiwKICAgIElEPSJC/GhuZTIwMDU0MSIsCikpCgpEQihDaXRhdGlvbigKICAgIHBldGVyc2VuMjAxNWEsIGL8aG5lMjAwNWEsIHJlZj0iIiwKICAgIGNvbnRleHRzPVsKCiAgICBdLAopKQoKJycnLCBjaXRhdGlvbnM9J3BldGVyc2VuMjAxNWEnKTs=\"));\n",
       "    "
      ],
      "text/plain": [
       "<IPython.core.display.Javascript object>"
      ]
     },
     "metadata": {},
     "output_type": "display_data"
    },
    {
     "data": {
      "application/javascript": [
       "$('span:contains(\"# Temp\")').closest('.cell').remove();"
      ],
      "text/plain": [
       "<IPython.core.display.Javascript object>"
      ]
     },
     "metadata": {},
     "output_type": "display_data"
    },
    {
     "data": {
      "application/javascript": [
       "\n",
       "        $('span:contains(\"# Temp\")').closest('.cell').remove();\n",
       "        var code = IPython.notebook.insert_cell_below('code');\n",
       "        code.set_text(atob(\"IyBUZW1wCmluc2VydCgnJycKYvxobmUyMDA1YSA9IERCKFdvcmsoCiAgICAyMDA1LCAiTW9kZWxsaW5nIHJlcXVpcmVtZW50cyB2YXJpYWJpbGl0eSBhY3Jvc3MgcHJvZHVjdCBsaW5lcyIsCiAgICBkaXNwbGF5PSJi/GhuZSIsCiAgICBhdXRob3JzPSJC/GhuZSwgUy4gYW5kIExhdWVucm90aCwgSy4gYW5kIFBvaGwsIEsuIiwKICAgIHBsYWNlPUlDU0UsCiAgICBwcD0iNDEtNTAiLAogICAgZW50cnl0eXBlPSJjb25mZXJlbmNlIiwKICAgIG5vdGU9ImNpdGVkIEJ5IDY1IiwKICAgIElEPSJC/GhuZTIwMDU0MSIsCikpCgpEQihDaXRhdGlvbigKICAgIHBldGVyc2VuMjAxNWEsIGL8aG5lMjAwNWEsIHJlZj0iIiwKICAgIGNvbnRleHRzPVsKCiAgICBdLAopKQoKJycnLCBjaXRhdGlvbnM9J3BldGVyc2VuMjAxNWEnKTs=\"));\n",
       "    "
      ],
      "text/plain": [
       "<IPython.core.display.Javascript object>"
      ]
     },
     "metadata": {},
     "output_type": "display_data"
    },
    {
     "data": {
      "application/javascript": [
       "$('span:contains(\"# Temp\")').closest('.cell').remove();"
      ],
      "text/plain": [
       "<IPython.core.display.Javascript object>"
      ]
     },
     "metadata": {},
     "output_type": "display_data"
    },
    {
     "data": {
      "application/javascript": [
       "\n",
       "        $('span:contains(\"# Temp\")').closest('.cell').remove();\n",
       "        var code = IPython.notebook.insert_cell_below('code');\n",
       "        code.set_text(atob(\"IyBUZW1wCmluc2VydCgnJycKYmFzaWxpMTk5NGEgPSBEQihXb3JrKAogICAgMTk5NCwgIkdvYWwgcXVlc3Rpb24gbWV0cmljIHBhcmFkaWdtIiwKICAgIGRpc3BsYXk9ImJhc2lsaSIsCiAgICBhdXRob3JzPSJCYXNpbGksIFYuUi4gYW5kIENhbGRpZXJhLCBHLiBhbmQgUm9tYmFjaCwgSC5ELiIsCiAgICBwcD0iNTI4LTUzMiIsCiAgICBwbGFjZTE9IkVuY3ljbG9wZWRpYSBvZiBTb2Z0d2FyZSBFbmdpbmVlcmluZyIsCiAgICBlbnRyeXR5cGU9ImFydGljbGUiLAogICAgdm9sdW1lPSIxIiwKICAgIG5vdGU9ImNpdGVkIEJ5IDE0MDkiLAogICAgSUQ9IkJhc2lsaTE5OTQ1MjgiLAopKQoKREIoQ2l0YXRpb24oCiAgICBwZXRlcnNlbjIwMTVhLCBiYXNpbGkxOTk0YSwgcmVmPSIiLAogICAgY29udGV4dHM9WwoKICAgIF0sCikpCgonJycsIGNpdGF0aW9ucz0ncGV0ZXJzZW4yMDE1YScpOw==\"));\n",
       "    "
      ],
      "text/plain": [
       "<IPython.core.display.Javascript object>"
      ]
     },
     "metadata": {},
     "output_type": "display_data"
    },
    {
     "data": {
      "application/javascript": [
       "$('span:contains(\"# Temp\")').closest('.cell').remove();"
      ],
      "text/plain": [
       "<IPython.core.display.Javascript object>"
      ]
     },
     "metadata": {},
     "output_type": "display_data"
    },
    {
     "data": {
      "application/javascript": [
       "\n",
       "        $('span:contains(\"# Temp\")').closest('.cell').remove();\n",
       "        var code = IPython.notebook.insert_cell_below('code');\n",
       "        code.set_text(atob(\"IyBUZW1wCmluc2VydCgnJycKYmFzaWxpMTk5NGEgPSBEQihXb3JrKAogICAgMTk5NCwgIkdvYWwgcXVlc3Rpb24gbWV0cmljIHBhcmFkaWdtIiwKICAgIGRpc3BsYXk9ImJhc2lsaSIsCiAgICBhdXRob3JzPSJCYXNpbGksIFYuUi4gYW5kIENhbGRpZXJhLCBHLiBhbmQgUm9tYmFjaCwgSC5ELiIsCiAgICBwcD0iNTI4LTUzMiIsCiAgICBwbGFjZTE9IkVuY3ljbG9wZWRpYSBvZiBTb2Z0d2FyZSBFbmdpbmVlcmluZyIsCiAgICBlbnRyeXR5cGU9ImFydGljbGUiLAogICAgdm9sdW1lPSIxIiwKICAgIG5vdGU9ImNpdGVkIEJ5IDE0MDkiLAogICAgSUQ9IkJhc2lsaTE5OTQ1MjgiLAopKQoKREIoQ2l0YXRpb24oCiAgICBwZXRlcnNlbjIwMTVhLCBiYXNpbGkxOTk0YSwgcmVmPSIiLAogICAgY29udGV4dHM9WwoKICAgIF0sCikpCgonJycsIGNpdGF0aW9ucz0ncGV0ZXJzZW4yMDE1YScpOw==\"));\n",
       "    "
      ],
      "text/plain": [
       "<IPython.core.display.Javascript object>"
      ]
     },
     "metadata": {},
     "output_type": "display_data"
    },
    {
     "data": {
      "application/javascript": [
       "$('span:contains(\"# Temp\")').closest('.cell').remove();"
      ],
      "text/plain": [
       "<IPython.core.display.Javascript object>"
      ]
     },
     "metadata": {},
     "output_type": "display_data"
    },
    {
     "data": {
      "application/javascript": [
       "\n",
       "        $('span:contains(\"# Temp\")').closest('.cell').remove();\n",
       "        var code = IPython.notebook.insert_cell_below('code');\n",
       "        code.set_text(atob(\"IyBUZW1wCmluc2VydCgnJycKY29sb21ibzIwMDNhID0gREIoV29yaygKICAgIDIwMDMsICJSZWZsZXhpdml0eSBhbmQgbmFycmF0aXZlcyBpbiBhY3Rpb24gcmVzZWFyY2g6IGEgZGlzY3Vyc2l2ZSBhcHByb2FjaC4gSW46IEZvcnVtIHF1YWxpdGF0aXZlIHNvemlhbGZvcnNjaHVuZy9mb3J1bTogcXVhbGl0YXRpdmUgc29jaWFsIHJlc2VhcmNoIiwKICAgIGRpc3BsYXk9ImNvbG9tYm8iLAogICAgYXV0aG9ycz0iQ29sb21ibywgTS4iLAogICAgcGxhY2UxPSJ2b2wgNCIsCiAgICBlbnRyeXR5cGU9ImFydGljbGUiLAogICAgbm90ZT0iY2l0ZWQgQnkgMSIsCiAgICBJRD0iQ29sb21ibzIwMDMiLAopKQoKREIoQ2l0YXRpb24oCiAgICBwZXRlcnNlbjIwMTVhLCBjb2xvbWJvMjAwM2EsIHJlZj0iIiwKICAgIGNvbnRleHRzPVsKCiAgICBdLAopKQoKJycnLCBjaXRhdGlvbnM9J3BldGVyc2VuMjAxNWEnKTs=\"));\n",
       "    "
      ],
      "text/plain": [
       "<IPython.core.display.Javascript object>"
      ]
     },
     "metadata": {},
     "output_type": "display_data"
    },
    {
     "data": {
      "application/javascript": [
       "$('span:contains(\"# Temp\")').closest('.cell').remove();"
      ],
      "text/plain": [
       "<IPython.core.display.Javascript object>"
      ]
     },
     "metadata": {},
     "output_type": "display_data"
    },
    {
     "data": {
      "application/javascript": [
       "\n",
       "        $('span:contains(\"# Temp\")').closest('.cell').remove();\n",
       "        var code = IPython.notebook.insert_cell_below('code');\n",
       "        code.set_text(atob(\"IyBUZW1wCmluc2VydCgnJycKY29sb21ibzIwMDNhID0gREIoV29yaygKICAgIDIwMDMsICJSZWZsZXhpdml0eSBhbmQgbmFycmF0aXZlcyBpbiBhY3Rpb24gcmVzZWFyY2g6IGEgZGlzY3Vyc2l2ZSBhcHByb2FjaC4gSW46IEZvcnVtIHF1YWxpdGF0aXZlIHNvemlhbGZvcnNjaHVuZy9mb3J1bTogcXVhbGl0YXRpdmUgc29jaWFsIHJlc2VhcmNoIiwKICAgIGRpc3BsYXk9ImNvbG9tYm8iLAogICAgYXV0aG9ycz0iQ29sb21ibywgTS4iLAogICAgcGxhY2UxPSJ2b2wgNCIsCiAgICBlbnRyeXR5cGU9ImFydGljbGUiLAogICAgbm90ZT0iY2l0ZWQgQnkgMSIsCiAgICBJRD0iQ29sb21ibzIwMDMiLAopKQoKREIoQ2l0YXRpb24oCiAgICBwZXRlcnNlbjIwMTVhLCBjb2xvbWJvMjAwM2EsIHJlZj0iIiwKICAgIGNvbnRleHRzPVsKCiAgICBdLAopKQoKJycnLCBjaXRhdGlvbnM9J3BldGVyc2VuMjAxNWEnKTs=\"));\n",
       "    "
      ],
      "text/plain": [
       "<IPython.core.display.Javascript object>"
      ]
     },
     "metadata": {},
     "output_type": "display_data"
    },
    {
     "data": {
      "application/javascript": [
       "$('span:contains(\"# Temp\")').closest('.cell').remove();"
      ],
      "text/plain": [
       "<IPython.core.display.Javascript object>"
      ]
     },
     "metadata": {},
     "output_type": "display_data"
    },
    {
     "data": {
      "application/javascript": [
       "\n",
       "        $('span:contains(\"# Temp\")').closest('.cell').remove();\n",
       "        var code = IPython.notebook.insert_cell_below('code');\n",
       "        code.set_text(atob(\"IyBUZW1wCmluc2VydCgnJycKZGFtbTIwMDZhID0gREIoV29yaygKICAgIDIwMDYsICJGYXVsdHMtc2xpcC10aHJvdWdoIC0gQSBjb25jZXB0IGZvciBtZWFzdXJpbmcgdGhlIGVmZmljaWVuY3kgb2YgdGhlIHRlc3QgcHJvY2VzcyIsCiAgICBkaXNwbGF5PSJkYW1tIiwKICAgIGF1dGhvcnM9IkRhbW0sIEwuLU8uIGFuZCBMdW5kYmVyZywgTC4gYW5kIFdvaGxpbiwgQy4iLAogICAgcGxhY2U9U1BJUCwKICAgIHBwPSI0Ny01OSIsCiAgICBlbnRyeXR5cGU9ImFydGljbGUiLAogICAgdm9sdW1lPSIxMSIsCiAgICBudW1iZXI9IjEiLAogICAgZG9pPSIxMC4xMDAyL3NwaXAuMjUzIiwKICAgIG5vdGU9ImNpdGVkIEJ5IDM3IiwKICAgIElEPSJEYW1tMjAwNjQ3IiwKKSkKCkRCKENpdGF0aW9uKAogICAgcGV0ZXJzZW4yMDE1YSwgZGFtbTIwMDZhLCByZWY9IiIsCiAgICBjb250ZXh0cz1bCgogICAgXSwKKSkKCicnJywgY2l0YXRpb25zPSdwZXRlcnNlbjIwMTVhJyk7\"));\n",
       "    "
      ],
      "text/plain": [
       "<IPython.core.display.Javascript object>"
      ]
     },
     "metadata": {},
     "output_type": "display_data"
    },
    {
     "data": {
      "application/javascript": [
       "$('span:contains(\"# Temp\")').closest('.cell').remove();"
      ],
      "text/plain": [
       "<IPython.core.display.Javascript object>"
      ]
     },
     "metadata": {},
     "output_type": "display_data"
    },
    {
     "data": {
      "application/javascript": [
       "\n",
       "        $('span:contains(\"# Temp\")').closest('.cell').remove();\n",
       "        var code = IPython.notebook.insert_cell_below('code');\n",
       "        code.set_text(atob(\"IyBUZW1wCmluc2VydCgnJycKZGFtbTIwMDZhID0gREIoV29yaygKICAgIDIwMDYsICJGYXVsdHMtc2xpcC10aHJvdWdoIC0gQSBjb25jZXB0IGZvciBtZWFzdXJpbmcgdGhlIGVmZmljaWVuY3kgb2YgdGhlIHRlc3QgcHJvY2VzcyIsCiAgICBkaXNwbGF5PSJkYW1tIiwKICAgIGF1dGhvcnM9IkRhbW0sIEwuLU8uIGFuZCBMdW5kYmVyZywgTC4gYW5kIFdvaGxpbiwgQy4iLAogICAgcGxhY2U9U1BJUCwKICAgIHBwPSI0Ny01OSIsCiAgICBlbnRyeXR5cGU9ImFydGljbGUiLAogICAgdm9sdW1lPSIxMSIsCiAgICBudW1iZXI9IjEiLAogICAgZG9pPSIxMC4xMDAyL3NwaXAuMjUzIiwKICAgIG5vdGU9ImNpdGVkIEJ5IDM3IiwKICAgIElEPSJEYW1tMjAwNjQ3IiwKKSkKCkRCKENpdGF0aW9uKAogICAgcGV0ZXJzZW4yMDE1YSwgZGFtbTIwMDZhLCByZWY9IiIsCiAgICBjb250ZXh0cz1bCgogICAgXSwKKSkKCicnJywgY2l0YXRpb25zPSdwZXRlcnNlbjIwMTVhJyk7\"));\n",
       "    "
      ],
      "text/plain": [
       "<IPython.core.display.Javascript object>"
      ]
     },
     "metadata": {},
     "output_type": "display_data"
    },
    {
     "data": {
      "application/javascript": [
       "$('span:contains(\"# Temp\")').closest('.cell').remove();"
      ],
      "text/plain": [
       "<IPython.core.display.Javascript object>"
      ]
     },
     "metadata": {},
     "output_type": "display_data"
    },
    {
     "data": {
      "application/javascript": [
       "\n",
       "        $('span:contains(\"# Temp\")').closest('.cell').remove();\n",
       "        var code = IPython.notebook.insert_cell_below('code');\n",
       "        code.set_text(atob(\"IyBUZW1wCmluc2VydCgnJycKZGF2aXMyMDA2YSA9IERCKFdvcmsoCiAgICAyMDA2LCAiRWZmZWN0aXZlbmVzcyBvZiByZXF1aXJlbWVudHMgZWxpY2l0YXRpb24gdGVjaG5pcXVlczogZW1waXJpY2FsIHJlc3VsdHMgZGVyaXZlZCBmcm9tIGEgc3lzdGVtYXRpYyByZXZpZXcuIEluOiBQcm9jZWVkaW5ncyBvZiB0aGUgMTR0aCBJRUVFIGludGVybmF0aW9uYWwgY29uZmVyZW5jZSBvbiByZXF1aXJlbWVudHMgZW5naW5lZXJpbmcgKFJFIDIwMDYpIiwKICAgIGRpc3BsYXk9ImRhdmlzIiwKICAgIGF1dGhvcnM9IkRhdmlzLCBBLk0uIGFuZCBUdWLtbywg0y5ELiBhbmQgSGlja2V5LCBBLk0uIGFuZCBKdXpnYWRvLCBOLkouIGFuZCBNb3Jlbm8sIEEuTS4iLAogICAgcGxhY2UxPSJwcCA6IDE3NpYxODUiLAogICAgZW50cnl0eXBlPSJhcnRpY2xlIiwKICAgIG5vdGU9ImNpdGVkIEJ5IDEiLAogICAgSUQ9IkRhdmlzMjAwNiIsCikpCgpEQihDaXRhdGlvbigKICAgIHBldGVyc2VuMjAxNWEsIGRhdmlzMjAwNmEsIHJlZj0iIiwKICAgIGNvbnRleHRzPVsKCiAgICBdLAopKQoKJycnLCBjaXRhdGlvbnM9J3BldGVyc2VuMjAxNWEnKTs=\"));\n",
       "    "
      ],
      "text/plain": [
       "<IPython.core.display.Javascript object>"
      ]
     },
     "metadata": {},
     "output_type": "display_data"
    },
    {
     "data": {
      "application/javascript": [
       "$('span:contains(\"# Temp\")').closest('.cell').remove();"
      ],
      "text/plain": [
       "<IPython.core.display.Javascript object>"
      ]
     },
     "metadata": {},
     "output_type": "display_data"
    },
    {
     "data": {
      "application/javascript": [
       "\n",
       "        $('span:contains(\"# Temp\")').closest('.cell').remove();\n",
       "        var code = IPython.notebook.insert_cell_below('code');\n",
       "        code.set_text(atob(\"IyBUZW1wCmluc2VydCgnJycKZGF2aXMyMDA2YSA9IERCKFdvcmsoCiAgICAyMDA2LCAiRWZmZWN0aXZlbmVzcyBvZiByZXF1aXJlbWVudHMgZWxpY2l0YXRpb24gdGVjaG5pcXVlczogZW1waXJpY2FsIHJlc3VsdHMgZGVyaXZlZCBmcm9tIGEgc3lzdGVtYXRpYyByZXZpZXcuIEluOiBQcm9jZWVkaW5ncyBvZiB0aGUgMTR0aCBJRUVFIGludGVybmF0aW9uYWwgY29uZmVyZW5jZSBvbiByZXF1aXJlbWVudHMgZW5naW5lZXJpbmcgKFJFIDIwMDYpIiwKICAgIGRpc3BsYXk9ImRhdmlzIiwKICAgIGF1dGhvcnM9IkRhdmlzLCBBLk0uIGFuZCBUdWLtbywg0y5ELiBhbmQgSGlja2V5LCBBLk0uIGFuZCBKdXpnYWRvLCBOLkouIGFuZCBNb3Jlbm8sIEEuTS4iLAogICAgcGxhY2UxPSJwcCA6IDE3NpYxODUiLAogICAgZW50cnl0eXBlPSJhcnRpY2xlIiwKICAgIG5vdGU9ImNpdGVkIEJ5IDEiLAogICAgSUQ9IkRhdmlzMjAwNiIsCikpCgpEQihDaXRhdGlvbigKICAgIHBldGVyc2VuMjAxNWEsIGRhdmlzMjAwNmEsIHJlZj0iIiwKICAgIGNvbnRleHRzPVsKCiAgICBdLAopKQoKJycnLCBjaXRhdGlvbnM9J3BldGVyc2VuMjAxNWEnKTs=\"));\n",
       "    "
      ],
      "text/plain": [
       "<IPython.core.display.Javascript object>"
      ]
     },
     "metadata": {},
     "output_type": "display_data"
    },
    {
     "data": {
      "application/javascript": [
       "$('span:contains(\"# Temp\")').closest('.cell').remove();"
      ],
      "text/plain": [
       "<IPython.core.display.Javascript object>"
      ]
     },
     "metadata": {},
     "output_type": "display_data"
    },
    {
     "data": {
      "application/javascript": [
       "\n",
       "        $('span:contains(\"# Temp\")').closest('.cell').remove();\n",
       "        var code = IPython.notebook.insert_cell_below('code');\n",
       "        code.set_text(atob(\"IyBUZW1wCmluc2VydCgnJycKZGllc3RlMjAxMWEgPSBEQihXb3JrKAogICAgMjAxMSwgIlN5c3RlbWF0aWMgcmV2aWV3IGFuZCBhZ2dyZWdhdGlvbiBvZiBlbXBpcmljYWwgc3R1ZGllcyBvbiBlbGljaXRhdGlvbiB0ZWNobmlxdWVzIiwKICAgIGRpc3BsYXk9ImRpZXN0ZSIsCiAgICBhdXRob3JzPSJEaWVzdGUsIE8uIGFuZCBKdXJpc3RvLCBOLiIsCiAgICBwbGFjZT1Ub1NFLAogICAgcHA9IjI4My0zMDQiLAogICAgZW50cnl0eXBlPSJhcnRpY2xlIiwKICAgIHZvbHVtZT0iMzciLAogICAgbnVtYmVyPSIyIiwKICAgIGRvaT0iMTAuMTEwOS9UU0UuMjAxMC4zMyIsCiAgICBhcnRfbnVtYmVyPSI1NDE2NzMwIiwKICAgIG5vdGU9ImNpdGVkIEJ5IDQ4IiwKICAgIElEPSJEaWVzdGUyMDExMjgzIiwKKSkKCkRCKENpdGF0aW9uKAogICAgcGV0ZXJzZW4yMDE1YSwgZGllc3RlMjAxMWEsIHJlZj0iIiwKICAgIGNvbnRleHRzPVsKCiAgICBdLAopKQoKJycnLCBjaXRhdGlvbnM9J3BldGVyc2VuMjAxNWEnKTs=\"));\n",
       "    "
      ],
      "text/plain": [
       "<IPython.core.display.Javascript object>"
      ]
     },
     "metadata": {},
     "output_type": "display_data"
    },
    {
     "data": {
      "application/javascript": [
       "$('span:contains(\"# Temp\")').closest('.cell').remove();"
      ],
      "text/plain": [
       "<IPython.core.display.Javascript object>"
      ]
     },
     "metadata": {},
     "output_type": "display_data"
    },
    {
     "data": {
      "application/javascript": [
       "\n",
       "        $('span:contains(\"# Temp\")').closest('.cell').remove();\n",
       "        var code = IPython.notebook.insert_cell_below('code');\n",
       "        code.set_text(atob(\"IyBUZW1wCmluc2VydCgnJycKZGllc3RlMjAxMWEgPSBEQihXb3JrKAogICAgMjAxMSwgIlN5c3RlbWF0aWMgcmV2aWV3IGFuZCBhZ2dyZWdhdGlvbiBvZiBlbXBpcmljYWwgc3R1ZGllcyBvbiBlbGljaXRhdGlvbiB0ZWNobmlxdWVzIiwKICAgIGRpc3BsYXk9ImRpZXN0ZSIsCiAgICBhdXRob3JzPSJEaWVzdGUsIE8uIGFuZCBKdXJpc3RvLCBOLiIsCiAgICBwbGFjZT1Ub1NFLAogICAgcHA9IjI4My0zMDQiLAogICAgZW50cnl0eXBlPSJhcnRpY2xlIiwKICAgIHZvbHVtZT0iMzciLAogICAgbnVtYmVyPSIyIiwKICAgIGRvaT0iMTAuMTEwOS9UU0UuMjAxMC4zMyIsCiAgICBhcnRfbnVtYmVyPSI1NDE2NzMwIiwKICAgIG5vdGU9ImNpdGVkIEJ5IDQ4IiwKICAgIElEPSJEaWVzdGUyMDExMjgzIiwKKSkKCkRCKENpdGF0aW9uKAogICAgcGV0ZXJzZW4yMDE1YSwgZGllc3RlMjAxMWEsIHJlZj0iIiwKICAgIGNvbnRleHRzPVsKCiAgICBdLAopKQoKJycnLCBjaXRhdGlvbnM9J3BldGVyc2VuMjAxNWEnKTs=\"));\n",
       "    "
      ],
      "text/plain": [
       "<IPython.core.display.Javascript object>"
      ]
     },
     "metadata": {},
     "output_type": "display_data"
    },
    {
     "data": {
      "application/javascript": [
       "$('span:contains(\"# Temp\")').closest('.cell').remove();"
      ],
      "text/plain": [
       "<IPython.core.display.Javascript object>"
      ]
     },
     "metadata": {},
     "output_type": "display_data"
    },
    {
     "data": {
      "application/javascript": [
       "\n",
       "        $('span:contains(\"# Temp\")').closest('.cell').remove();\n",
       "        var code = IPython.notebook.insert_cell_below('code');\n",
       "        code.set_text(atob(\"IyBUZW1wCmluc2VydCgnJycKZmlua2UyMDExYSA9IERCKFdvcmsoCiAgICAyMDExLCAiSW1wbGVtZW50aW5nIGNpc2NvIHVuaWZpZWQgY29tbXVuaWNhdGlvbnMgbWFuYWdlciwgcGFydCAxIChDSVBUMSkgZm91bmRhdGlvbiBsZWFybmluZyBndWlkZTooQ0NOUCBWb2ljZSBDSVBUMSA2NDItNDQ3KSIsCiAgICBkaXNwbGF5PSJmaW5rZSIsCiAgICBhdXRob3JzPSJGaW5rZSwgSi5TLiBhbmQgSGFydG1hbm4sIEQuIiwKICAgIHBsYWNlMT0iQ2lzY28gUHJlc3MiLAogICAgZW50cnl0eXBlPSJhcnRpY2xlIiwKICAgIG5vdGU9ImNpdGVkIEJ5IDEiLAogICAgSUQ9IkZpbmtlMjAxMSIsCikpCgpEQihDaXRhdGlvbigKICAgIHBldGVyc2VuMjAxNWEsIGZpbmtlMjAxMWEsIHJlZj0iIiwKICAgIGNvbnRleHRzPVsKCiAgICBdLAopKQoKJycnLCBjaXRhdGlvbnM9J3BldGVyc2VuMjAxNWEnKTs=\"));\n",
       "    "
      ],
      "text/plain": [
       "<IPython.core.display.Javascript object>"
      ]
     },
     "metadata": {},
     "output_type": "display_data"
    },
    {
     "data": {
      "application/javascript": [
       "$('span:contains(\"# Temp\")').closest('.cell').remove();"
      ],
      "text/plain": [
       "<IPython.core.display.Javascript object>"
      ]
     },
     "metadata": {},
     "output_type": "display_data"
    },
    {
     "data": {
      "application/javascript": [
       "\n",
       "        $('span:contains(\"# Temp\")').closest('.cell').remove();\n",
       "        var code = IPython.notebook.insert_cell_below('code');\n",
       "        code.set_text(atob(\"IyBUZW1wCmluc2VydCgnJycKZmlua2UyMDExYSA9IERCKFdvcmsoCiAgICAyMDExLCAiSW1wbGVtZW50aW5nIGNpc2NvIHVuaWZpZWQgY29tbXVuaWNhdGlvbnMgbWFuYWdlciwgcGFydCAxIChDSVBUMSkgZm91bmRhdGlvbiBsZWFybmluZyBndWlkZTooQ0NOUCBWb2ljZSBDSVBUMSA2NDItNDQ3KSIsCiAgICBkaXNwbGF5PSJmaW5rZSIsCiAgICBhdXRob3JzPSJGaW5rZSwgSi5TLiBhbmQgSGFydG1hbm4sIEQuIiwKICAgIHBsYWNlMT0iQ2lzY28gUHJlc3MiLAogICAgZW50cnl0eXBlPSJhcnRpY2xlIiwKICAgIG5vdGU9ImNpdGVkIEJ5IDEiLAogICAgSUQ9IkZpbmtlMjAxMSIsCikpCgpEQihDaXRhdGlvbigKICAgIHBldGVyc2VuMjAxNWEsIGZpbmtlMjAxMWEsIHJlZj0iIiwKICAgIGNvbnRleHRzPVsKCiAgICBdLAopKQoKJycnLCBjaXRhdGlvbnM9J3BldGVyc2VuMjAxNWEnKTs=\"));\n",
       "    "
      ],
      "text/plain": [
       "<IPython.core.display.Javascript object>"
      ]
     },
     "metadata": {},
     "output_type": "display_data"
    },
    {
     "data": {
      "application/javascript": [
       "$('span:contains(\"# Temp\")').closest('.cell').remove();"
      ],
      "text/plain": [
       "<IPython.core.display.Javascript object>"
      ]
     },
     "metadata": {},
     "output_type": "display_data"
    },
    {
     "data": {
      "application/javascript": [
       "\n",
       "        $('span:contains(\"# Temp\")').closest('.cell').remove();\n",
       "        var code = IPython.notebook.insert_cell_below('code');\n",
       "        code.set_text(atob(\"IyBUZW1wCmluc2VydCgnJycKREIoQ2l0YXRpb24oCiAgICBwZXRlcnNlbjIwMTVhLCBnZW5jZWwyMDEzYSwgcmVmPSIiLAogICAgY29udGV4dHM9WwoKICAgIF0sCikpCgonJycsIGNpdGF0aW9ucz0ncGV0ZXJzZW4yMDE1YScpOw==\"));\n",
       "    "
      ],
      "text/plain": [
       "<IPython.core.display.Javascript object>"
      ]
     },
     "metadata": {},
     "output_type": "display_data"
    },
    {
     "data": {
      "application/javascript": [
       "$('span:contains(\"# Temp\")').closest('.cell').remove();"
      ],
      "text/plain": [
       "<IPython.core.display.Javascript object>"
      ]
     },
     "metadata": {},
     "output_type": "display_data"
    },
    {
     "data": {
      "application/javascript": [
       "\n",
       "        $('span:contains(\"# Temp\")').closest('.cell').remove();\n",
       "        var code = IPython.notebook.insert_cell_below('code');\n",
       "        code.set_text(atob(\"IyBUZW1wCmluc2VydCgnJycKREIoQ2l0YXRpb24oCiAgICBwZXRlcnNlbjIwMTVhLCBnZW5jZWwyMDEzYSwgcmVmPSIiLAogICAgY29udGV4dHM9WwoKICAgIF0sCikpCgonJycsIGNpdGF0aW9ucz0ncGV0ZXJzZW4yMDE1YScpOw==\"));\n",
       "    "
      ],
      "text/plain": [
       "<IPython.core.display.Javascript object>"
      ]
     },
     "metadata": {},
     "output_type": "display_data"
    },
    {
     "data": {
      "application/javascript": [
       "$('span:contains(\"# Temp\")').closest('.cell').remove();"
      ],
      "text/plain": [
       "<IPython.core.display.Javascript object>"
      ]
     },
     "metadata": {},
     "output_type": "display_data"
    },
    {
     "data": {
      "application/javascript": [
       "\n",
       "        $('span:contains(\"# Temp\")').closest('.cell').remove();\n",
       "        var code = IPython.notebook.insert_cell_below('code');\n",
       "        code.set_text(atob(\"IyBUZW1wCmluc2VydCgnJycKZ3JhaGFtMjAwOWEgPSBEQihXb3JrKAogICAgMjAwOSwgIkZvdW5kYXRpb25zIG9mIFNvZnR3YXJlIFRlc3Rpbmcsam91cm5hbD1Db3Vyc2UgVGVjaG5vbG9neSBDZW5nYWdlIExlYXJuaW5nOiBIYW1wc2hpcmUiLAogICAgZGlzcGxheT0iZ3JhaGFtIiwKICAgIGF1dGhvcnM9IkdyYWhhbSwgRC4gYW5kIFZhbiBWZWVuZW5kYWFsLCBFLiBhbmQgRXZhbnMsIEkuIGFuZCBCbGFjaywgUi4iLAogICAgcGxhY2UxPSIiLAogICAgZW50cnl0eXBlPSJhcnRpY2xlIiwKICAgIG5vdGU9ImNpdGVkIEJ5IDIyIiwKICAgIElEPSJHcmFoYW0yMDA5IiwKKSkKCkRCKENpdGF0aW9uKAogICAgcGV0ZXJzZW4yMDE1YSwgZ3JhaGFtMjAwOWEsIHJlZj0iIiwKICAgIGNvbnRleHRzPVsKCiAgICBdLAopKQoKJycnLCBjaXRhdGlvbnM9J3BldGVyc2VuMjAxNWEnKTs=\"));\n",
       "    "
      ],
      "text/plain": [
       "<IPython.core.display.Javascript object>"
      ]
     },
     "metadata": {},
     "output_type": "display_data"
    },
    {
     "data": {
      "application/javascript": [
       "$('span:contains(\"# Temp\")').closest('.cell').remove();"
      ],
      "text/plain": [
       "<IPython.core.display.Javascript object>"
      ]
     },
     "metadata": {},
     "output_type": "display_data"
    },
    {
     "data": {
      "application/javascript": [
       "\n",
       "        $('span:contains(\"# Temp\")').closest('.cell').remove();\n",
       "        var code = IPython.notebook.insert_cell_below('code');\n",
       "        code.set_text(atob(\"IyBUZW1wCmluc2VydCgnJycKZ3JhaGFtMjAwOWEgPSBEQihXb3JrKAogICAgMjAwOSwgIkZvdW5kYXRpb25zIG9mIFNvZnR3YXJlIFRlc3Rpbmcsam91cm5hbD1Db3Vyc2UgVGVjaG5vbG9neSBDZW5nYWdlIExlYXJuaW5nOiBIYW1wc2hpcmUiLAogICAgZGlzcGxheT0iZ3JhaGFtIiwKICAgIGF1dGhvcnM9IkdyYWhhbSwgRC4gYW5kIFZhbiBWZWVuZW5kYWFsLCBFLiBhbmQgRXZhbnMsIEkuIGFuZCBCbGFjaywgUi4iLAogICAgcGxhY2UxPSIiLAogICAgZW50cnl0eXBlPSJhcnRpY2xlIiwKICAgIG5vdGU9ImNpdGVkIEJ5IDIyIiwKICAgIElEPSJHcmFoYW0yMDA5IiwKKSkKCkRCKENpdGF0aW9uKAogICAgcGV0ZXJzZW4yMDE1YSwgZ3JhaGFtMjAwOWEsIHJlZj0iIiwKICAgIGNvbnRleHRzPVsKCiAgICBdLAopKQoKJycnLCBjaXRhdGlvbnM9J3BldGVyc2VuMjAxNWEnKTs=\"));\n",
       "    "
      ],
      "text/plain": [
       "<IPython.core.display.Javascript object>"
      ]
     },
     "metadata": {},
     "output_type": "display_data"
    },
    {
     "data": {
      "application/javascript": [
       "$('span:contains(\"# Temp\")').closest('.cell').remove();"
      ],
      "text/plain": [
       "<IPython.core.display.Javascript object>"
      ]
     },
     "metadata": {},
     "output_type": "display_data"
    },
    {
     "data": {
      "application/javascript": [
       "\n",
       "        $('span:contains(\"# Temp\")').closest('.cell').remove();\n",
       "        var code = IPython.notebook.insert_cell_below('code');\n",
       "        code.set_text(atob(\"IyBUZW1wCmluc2VydCgnJycKZ3Vlc3QyMDA2YSA9IERCKFdvcmsoCiAgICAyMDA2LCAiSG93IG1hbnkgaW50ZXJ2aWV3cyBhcmUgZW5vdWdoPyBhbiBleHBlcmltZW50IHdpdGggZGF0YSBzYXR1cmF0aW9uIGFuZCB2YXJpYWJpbGl0eSIsCiAgICBkaXNwbGF5PSJndWVzdCIsCiAgICBhdXRob3JzPSJHdWVzdCwgRy4sIEJ1bmNlLCBBLiwgSm9obnNvbiwgTC4iLAogICAgcGxhY2UxPSJGaWVsZCBNZXRob2RzLCAxOCIsCiAgICBlbnRyeXR5cGU9ImFydGljbGUiLAogICAgSUQ9Ikd1ZXN0MjAwNiIsCikpCgpEQihDaXRhdGlvbigKICAgIHBldGVyc2VuMjAxNWEsIGd1ZXN0MjAwNmEsIHJlZj0iIiwKICAgIGNvbnRleHRzPVsKCiAgICBdLAopKQoKJycnLCBjaXRhdGlvbnM9J3BldGVyc2VuMjAxNWEnKTs=\"));\n",
       "    "
      ],
      "text/plain": [
       "<IPython.core.display.Javascript object>"
      ]
     },
     "metadata": {},
     "output_type": "display_data"
    },
    {
     "data": {
      "application/javascript": [
       "$('span:contains(\"# Temp\")').closest('.cell').remove();"
      ],
      "text/plain": [
       "<IPython.core.display.Javascript object>"
      ]
     },
     "metadata": {},
     "output_type": "display_data"
    },
    {
     "data": {
      "application/javascript": [
       "\n",
       "        $('span:contains(\"# Temp\")').closest('.cell').remove();\n",
       "        var code = IPython.notebook.insert_cell_below('code');\n",
       "        code.set_text(atob(\"IyBUZW1wCmluc2VydCgnJycKZ3Vlc3QyMDA2YSA9IERCKFdvcmsoCiAgICAyMDA2LCAiSG93IG1hbnkgaW50ZXJ2aWV3cyBhcmUgZW5vdWdoPyBhbiBleHBlcmltZW50IHdpdGggZGF0YSBzYXR1cmF0aW9uIGFuZCB2YXJpYWJpbGl0eSIsCiAgICBkaXNwbGF5PSJndWVzdCIsCiAgICBhdXRob3JzPSJHdWVzdCwgRy4sIEJ1bmNlLCBBLiwgSm9obnNvbiwgTC4iLAogICAgcGxhY2UxPSJGaWVsZCBNZXRob2RzLCAxOCIsCiAgICBlbnRyeXR5cGU9ImFydGljbGUiLAogICAgSUQ9Ikd1ZXN0MjAwNiIsCikpCgpEQihDaXRhdGlvbigKICAgIHBldGVyc2VuMjAxNWEsIGd1ZXN0MjAwNmEsIHJlZj0iIiwKICAgIGNvbnRleHRzPVsKCiAgICBdLAopKQoKJycnLCBjaXRhdGlvbnM9J3BldGVyc2VuMjAxNWEnKTs=\"));\n",
       "    "
      ],
      "text/plain": [
       "<IPython.core.display.Javascript object>"
      ]
     },
     "metadata": {},
     "output_type": "display_data"
    },
    {
     "data": {
      "application/javascript": [
       "$('span:contains(\"# Temp\")').closest('.cell').remove();"
      ],
      "text/plain": [
       "<IPython.core.display.Javascript object>"
      ]
     },
     "metadata": {},
     "output_type": "display_data"
    },
    {
     "data": {
      "application/javascript": [
       "\n",
       "        $('span:contains(\"# Temp\")').closest('.cell').remove();\n",
       "        var code = IPython.notebook.insert_cell_below('code');\n",
       "        code.set_text(atob(\"IyBUZW1wCmluc2VydCgnJycKaXNvaWVjMjAwMmEgPSBEQihXb3JrKAogICAgMjAwMiwgIklzby9pZWMgMTU5MzkgaW50ZXJuYXRpb25hbCBzdGFuZGFyZCAxc3QgZWRpdGlvbiAyMDAyOiBzb2Z0d2FyZSBlbmdpbmVlcmluZyAtIHNvZnR3YXJlIG1lYXN1cmVtZW50IHByb2Nlc3MiLAogICAgZGlzcGxheT0iaXNvaWVjIiwKICAgIGF1dGhvcnM9IklTT0lFQyIsCiAgICBwbGFjZTE9InJlZmVyZW5jZSBudW1iZXIgaXNvL2llYyAxNTkzOToyMDAyKGUpKDIwMDIpIiwKICAgIGVudHJ5dHlwZT0iYXJ0aWNsZSIsCiAgICBub3RlPSJjaXRlZCBCeSAxIiwKICAgIElEPSJJU09JRUMyMDAyIiwKKSkKCkRCKENpdGF0aW9uKAogICAgcGV0ZXJzZW4yMDE1YSwgaXNvaWVjMjAwMmEsIHJlZj0iIiwKICAgIGNvbnRleHRzPVsKCiAgICBdLAopKQoKJycnLCBjaXRhdGlvbnM9J3BldGVyc2VuMjAxNWEnKTs=\"));\n",
       "    "
      ],
      "text/plain": [
       "<IPython.core.display.Javascript object>"
      ]
     },
     "metadata": {},
     "output_type": "display_data"
    },
    {
     "data": {
      "application/javascript": [
       "$('span:contains(\"# Temp\")').closest('.cell').remove();"
      ],
      "text/plain": [
       "<IPython.core.display.Javascript object>"
      ]
     },
     "metadata": {},
     "output_type": "display_data"
    },
    {
     "data": {
      "application/javascript": [
       "\n",
       "        $('span:contains(\"# Temp\")').closest('.cell').remove();\n",
       "        var code = IPython.notebook.insert_cell_below('code');\n",
       "        code.set_text(atob(\"IyBUZW1wCmluc2VydCgnJycKaXNvaWVjMjAwMmEgPSBEQihXb3JrKAogICAgMjAwMiwgIklzby9pZWMgMTU5MzkgaW50ZXJuYXRpb25hbCBzdGFuZGFyZCAxc3QgZWRpdGlvbiAyMDAyOiBzb2Z0d2FyZSBlbmdpbmVlcmluZyAtIHNvZnR3YXJlIG1lYXN1cmVtZW50IHByb2Nlc3MiLAogICAgZGlzcGxheT0iaXNvaWVjIiwKICAgIGF1dGhvcnM9IklTT0lFQyIsCiAgICBwbGFjZTE9InJlZmVyZW5jZSBudW1iZXIgaXNvL2llYyAxNTkzOToyMDAyKGUpKDIwMDIpIiwKICAgIGVudHJ5dHlwZT0iYXJ0aWNsZSIsCiAgICBub3RlPSJjaXRlZCBCeSAxIiwKICAgIElEPSJJU09JRUMyMDAyIiwKKSkKCkRCKENpdGF0aW9uKAogICAgcGV0ZXJzZW4yMDE1YSwgaXNvaWVjMjAwMmEsIHJlZj0iIiwKICAgIGNvbnRleHRzPVsKCiAgICBdLAopKQoKJycnLCBjaXRhdGlvbnM9J3BldGVyc2VuMjAxNWEnKTs=\"));\n",
       "    "
      ],
      "text/plain": [
       "<IPython.core.display.Javascript object>"
      ]
     },
     "metadata": {},
     "output_type": "display_data"
    },
    {
     "data": {
      "application/javascript": [
       "$('span:contains(\"# Temp\")').closest('.cell').remove();"
      ],
      "text/plain": [
       "<IPython.core.display.Javascript object>"
      ]
     },
     "metadata": {},
     "output_type": "display_data"
    },
    {
     "data": {
      "application/javascript": [
       "\n",
       "        $('span:contains(\"# Temp\")').closest('.cell').remove();\n",
       "        var code = IPython.notebook.insert_cell_below('code');\n",
       "        code.set_text(atob(\"IyBUZW1wCmluc2VydCgnJycKaXZhcnNzb24yMDExYSA9IERCKFdvcmsoCiAgICAyMDExLCAiQSBtZXRob2QgZm9yIGV2YWx1YXRpbmcgcmlnb3IgYW5kIGluZHVzdHJpYWwgcmVsZXZhbmNlIG9mIHRlY2hub2xvZ3kgZXZhbHVhdGlvbnMiLAogICAgZGlzcGxheT0iaXZhcnNzb24iLAogICAgYXV0aG9ycz0iSXZhcnNzb24sIE0uIGFuZCBHb3JzY2hlaywgVC4iLAogICAgcGxhY2U9RVNFLAogICAgcHA9IjM2NS0zOTUiLAogICAgZW50cnl0eXBlPSJhcnRpY2xlIiwKICAgIHZvbHVtZT0iMTYiLAogICAgbnVtYmVyPSIzIiwKICAgIGRvaT0iMTAuMTAwNy9zMTA2NjQtMDEwLTkxNDYtNCIsCiAgICBub3RlPSJjaXRlZCBCeSA4MyIsCiAgICBJRD0iSXZhcnNzb24yMDExMzY1IiwKKSkKCkRCKENpdGF0aW9uKAogICAgcGV0ZXJzZW4yMDE1YSwgaXZhcnNzb24yMDExYSwgcmVmPSIiLAogICAgY29udGV4dHM9WwoKICAgIF0sCikpCgonJycsIGNpdGF0aW9ucz0ncGV0ZXJzZW4yMDE1YScpOw==\"));\n",
       "    "
      ],
      "text/plain": [
       "<IPython.core.display.Javascript object>"
      ]
     },
     "metadata": {},
     "output_type": "display_data"
    },
    {
     "data": {
      "application/javascript": [
       "$('span:contains(\"# Temp\")').closest('.cell').remove();"
      ],
      "text/plain": [
       "<IPython.core.display.Javascript object>"
      ]
     },
     "metadata": {},
     "output_type": "display_data"
    },
    {
     "data": {
      "application/javascript": [
       "\n",
       "        $('span:contains(\"# Temp\")').closest('.cell').remove();\n",
       "        var code = IPython.notebook.insert_cell_below('code');\n",
       "        code.set_text(atob(\"IyBUZW1wCmluc2VydCgnJycKaXZhcnNzb24yMDExYSA9IERCKFdvcmsoCiAgICAyMDExLCAiQSBtZXRob2QgZm9yIGV2YWx1YXRpbmcgcmlnb3IgYW5kIGluZHVzdHJpYWwgcmVsZXZhbmNlIG9mIHRlY2hub2xvZ3kgZXZhbHVhdGlvbnMiLAogICAgZGlzcGxheT0iaXZhcnNzb24iLAogICAgYXV0aG9ycz0iSXZhcnNzb24sIE0uIGFuZCBHb3JzY2hlaywgVC4iLAogICAgcGxhY2U9RVNFLAogICAgcHA9IjM2NS0zOTUiLAogICAgZW50cnl0eXBlPSJhcnRpY2xlIiwKICAgIHZvbHVtZT0iMTYiLAogICAgbnVtYmVyPSIzIiwKICAgIGRvaT0iMTAuMTAwNy9zMTA2NjQtMDEwLTkxNDYtNCIsCiAgICBub3RlPSJjaXRlZCBCeSA4MyIsCiAgICBJRD0iSXZhcnNzb24yMDExMzY1IiwKKSkKCkRCKENpdGF0aW9uKAogICAgcGV0ZXJzZW4yMDE1YSwgaXZhcnNzb24yMDExYSwgcmVmPSIiLAogICAgY29udGV4dHM9WwoKICAgIF0sCikpCgonJycsIGNpdGF0aW9ucz0ncGV0ZXJzZW4yMDE1YScpOw==\"));\n",
       "    "
      ],
      "text/plain": [
       "<IPython.core.display.Javascript object>"
      ]
     },
     "metadata": {},
     "output_type": "display_data"
    },
    {
     "data": {
      "application/javascript": [
       "$('span:contains(\"# Temp\")').closest('.cell').remove();"
      ],
      "text/plain": [
       "<IPython.core.display.Javascript object>"
      ]
     },
     "metadata": {},
     "output_type": "display_data"
    },
    {
     "data": {
      "application/javascript": [
       "\n",
       "        $('span:contains(\"# Temp\")').closest('.cell').remove();\n",
       "        var code = IPython.notebook.insert_cell_below('code');\n",
       "        code.set_text(atob(\"IyBUZW1wCmluc2VydCgnJycKaXZlcnNlbjIwMDRhID0gREIoV29yaygKICAgIDIwMDQsICJNYW5hZ2luZyByaXNrIGluIHNvZnR3YXJlIHByb2Nlc3MgaW1wcm92ZW1lbnQ6IEFOIGFjdGlvbiByZXNlYXJjaCBhcHByb2FjaCIsCiAgICBkaXNwbGF5PSJpdmVyc2VuIiwKICAgIGF1dGhvcnM9Ikl2ZXJzZW4sIEouSC4gYW5kIE1hdGhpYXNzZW4sIEwuIGFuZCBOaWVsc2VuLCBQLkEuIiwKICAgIHBwPSIzOTUtNDM0IiwKICAgIHBsYWNlMT0iTUlTIFF1YXJ0ZXJseTogTWFuYWdlbWVudCBJbmZvcm1hdGlvbiBTeXN0ZW1zIiwKICAgIGVudHJ5dHlwZT0iYXJ0aWNsZSIsCiAgICB2b2x1bWU9IjI4IiwKICAgIG51bWJlcj0iMyIsCiAgICBub3RlPSJjaXRlZCBCeSAxNDYiLAogICAgSUQ9Ikl2ZXJzZW4yMDA0Mzk1IiwKKSkKCkRCKENpdGF0aW9uKAogICAgcGV0ZXJzZW4yMDE1YSwgaXZlcnNlbjIwMDRhLCByZWY9IiIsCiAgICBjb250ZXh0cz1bCgogICAgXSwKKSkKCicnJywgY2l0YXRpb25zPSdwZXRlcnNlbjIwMTVhJyk7\"));\n",
       "    "
      ],
      "text/plain": [
       "<IPython.core.display.Javascript object>"
      ]
     },
     "metadata": {},
     "output_type": "display_data"
    },
    {
     "data": {
      "application/javascript": [
       "$('span:contains(\"# Temp\")').closest('.cell').remove();"
      ],
      "text/plain": [
       "<IPython.core.display.Javascript object>"
      ]
     },
     "metadata": {},
     "output_type": "display_data"
    },
    {
     "data": {
      "application/javascript": [
       "\n",
       "        $('span:contains(\"# Temp\")').closest('.cell').remove();\n",
       "        var code = IPython.notebook.insert_cell_below('code');\n",
       "        code.set_text(atob(\"IyBUZW1wCmluc2VydCgnJycKaXZlcnNlbjIwMDRhID0gREIoV29yaygKICAgIDIwMDQsICJNYW5hZ2luZyByaXNrIGluIHNvZnR3YXJlIHByb2Nlc3MgaW1wcm92ZW1lbnQ6IEFOIGFjdGlvbiByZXNlYXJjaCBhcHByb2FjaCIsCiAgICBkaXNwbGF5PSJpdmVyc2VuIiwKICAgIGF1dGhvcnM9Ikl2ZXJzZW4sIEouSC4gYW5kIE1hdGhpYXNzZW4sIEwuIGFuZCBOaWVsc2VuLCBQLkEuIiwKICAgIHBwPSIzOTUtNDM0IiwKICAgIHBsYWNlMT0iTUlTIFF1YXJ0ZXJseTogTWFuYWdlbWVudCBJbmZvcm1hdGlvbiBTeXN0ZW1zIiwKICAgIGVudHJ5dHlwZT0iYXJ0aWNsZSIsCiAgICB2b2x1bWU9IjI4IiwKICAgIG51bWJlcj0iMyIsCiAgICBub3RlPSJjaXRlZCBCeSAxNDYiLAogICAgSUQ9Ikl2ZXJzZW4yMDA0Mzk1IiwKKSkKCkRCKENpdGF0aW9uKAogICAgcGV0ZXJzZW4yMDE1YSwgaXZlcnNlbjIwMDRhLCByZWY9IiIsCiAgICBjb250ZXh0cz1bCgogICAgXSwKKSkKCicnJywgY2l0YXRpb25zPSdwZXRlcnNlbjIwMTVhJyk7\"));\n",
       "    "
      ],
      "text/plain": [
       "<IPython.core.display.Javascript object>"
      ]
     },
     "metadata": {},
     "output_type": "display_data"
    },
    {
     "data": {
      "application/javascript": [
       "$('span:contains(\"# Temp\")').closest('.cell').remove();"
      ],
      "text/plain": [
       "<IPython.core.display.Javascript object>"
      ]
     },
     "metadata": {},
     "output_type": "display_data"
    },
    {
     "data": {
      "application/javascript": [
       "\n",
       "        $('span:contains(\"# Temp\")').closest('.cell').remove();\n",
       "        var code = IPython.notebook.insert_cell_below('code');\n",
       "        code.set_text(atob(\"IyBUZW1wCmluc2VydCgnJycKbfxuY2gyMDEzYSA9IERCKFdvcmsoCiAgICAyMDEzLCAiUGFydGFuZW4gSiAoMjAxM2EpIFRoZSBlZmZlY3RzIG9mIGdxbStzdHJhdGVnaWVzIG9uIG9yZ2FuaXphdGlvbmFsIGFsaWdubWVudCIsCiAgICBkaXNwbGF5PSJt/G5jaCIsCiAgICBhdXRob3JzPSJN/G5jaCwgSi4gYW5kIEZhZ2VyaG9sbSwgRi4gYW5kIEtldHR1bmVuLCBQLiBhbmQgUGFnZWxzLCBNLiIsCiAgICBwbGFjZTE9IlByb2NlZWRpbmdzIG9mIHRoZSBEQVNNQSBzb2Z0d2FyZSBtZXRyaWMgY29uZ3Jlc3MiLAogICAgZW50cnl0eXBlPSJhcnRpY2xlIiwKICAgIG5vdGU9ImNpdGVkIEJ5IDEiLAogICAgSUQ9Ik38bmNoMjAxMyIsCikpCgpEQihDaXRhdGlvbigKICAgIHBldGVyc2VuMjAxNWEsIG38bmNoMjAxM2EsIHJlZj0iIiwKICAgIGNvbnRleHRzPVsKCiAgICBdLAopKQoKJycnLCBjaXRhdGlvbnM9J3BldGVyc2VuMjAxNWEnKTs=\"));\n",
       "    "
      ],
      "text/plain": [
       "<IPython.core.display.Javascript object>"
      ]
     },
     "metadata": {},
     "output_type": "display_data"
    },
    {
     "data": {
      "application/javascript": [
       "$('span:contains(\"# Temp\")').closest('.cell').remove();"
      ],
      "text/plain": [
       "<IPython.core.display.Javascript object>"
      ]
     },
     "metadata": {},
     "output_type": "display_data"
    },
    {
     "data": {
      "application/javascript": [
       "\n",
       "        $('span:contains(\"# Temp\")').closest('.cell').remove();\n",
       "        var code = IPython.notebook.insert_cell_below('code');\n",
       "        code.set_text(atob(\"IyBUZW1wCmluc2VydCgnJycKbfxuY2gyMDEzYSA9IERCKFdvcmsoCiAgICAyMDEzLCAiUGFydGFuZW4gSiAoMjAxM2EpIFRoZSBlZmZlY3RzIG9mIGdxbStzdHJhdGVnaWVzIG9uIG9yZ2FuaXphdGlvbmFsIGFsaWdubWVudCIsCiAgICBkaXNwbGF5PSJt/G5jaCIsCiAgICBhdXRob3JzPSJN/G5jaCwgSi4gYW5kIEZhZ2VyaG9sbSwgRi4gYW5kIEtldHR1bmVuLCBQLiBhbmQgUGFnZWxzLCBNLiIsCiAgICBwbGFjZTE9IlByb2NlZWRpbmdzIG9mIHRoZSBEQVNNQSBzb2Z0d2FyZSBtZXRyaWMgY29uZ3Jlc3MiLAogICAgZW50cnl0eXBlPSJhcnRpY2xlIiwKICAgIG5vdGU9ImNpdGVkIEJ5IDEiLAogICAgSUQ9Ik38bmNoMjAxMyIsCikpCgpEQihDaXRhdGlvbigKICAgIHBldGVyc2VuMjAxNWEsIG38bmNoMjAxM2EsIHJlZj0iIiwKICAgIGNvbnRleHRzPVsKCiAgICBdLAopKQoKJycnLCBjaXRhdGlvbnM9J3BldGVyc2VuMjAxNWEnKTs=\"));\n",
       "    "
      ],
      "text/plain": [
       "<IPython.core.display.Javascript object>"
      ]
     },
     "metadata": {},
     "output_type": "display_data"
    },
    {
     "data": {
      "application/javascript": [
       "$('span:contains(\"# Temp\")').closest('.cell').remove();"
      ],
      "text/plain": [
       "<IPython.core.display.Javascript object>"
      ]
     },
     "metadata": {},
     "output_type": "display_data"
    },
    {
     "data": {
      "application/javascript": [
       "\n",
       "        $('span:contains(\"# Temp\")').closest('.cell').remove();\n",
       "        var code = IPython.notebook.insert_cell_below('code');\n",
       "        code.set_text(atob(\"IyBUZW1wCmluc2VydCgnJycKbfxuY2gyMDEzYiA9IERCKFdvcmsoCiAgICAyMDEzLCAiRXhwZXJpZW5jZXMgYW5kIGluc2lnaHRzIGZyb20gYXBwbHlpbmcgZ3FtK3N0cmF0ZWdpZXMgaW4gYSBzeXN0ZW1zIHByb2R1Y3QgZGV2ZWxvcG1lbnQgb3JnYW5pc2F0aW9uLiBJbjogUHJvY2VlZGluZ3Mgb2YgdGhlIDM5dGggRVVST01JQ1JPIGNvbmZlcmVuY2Ugb24gc29mdHdhcmUgZW5naW5lZXJpbmcgYW5kIGFkdmFuY2VkIGFwcGxpY2F0aW9ucyAoU0VBQSAyMDEzKSIsCiAgICBkaXNwbGF5PSJt/G5jaCBiIiwKICAgIGF1dGhvcnM9Ik38bmNoLCBKLiBhbmQgRmFnZXJob2xtLCBGLiBhbmQgS2V0dHVuZW4sIFAuIGFuZCBQYWdlbHMsIE0uIGFuZCBQYXJ0YW5lbiwgSi4iLAogICAgcGxhY2UxPSJLYWlzZXJzbGF1dGVybiIsCiAgICBlbnRyeXR5cGU9ImFydGljbGUiLAogICAgbm90ZT0iY2l0ZWQgQnkgMSIsCiAgICBJRD0iTfxuY2gyMDEzIiwKKSkKCkRCKENpdGF0aW9uKAogICAgcGV0ZXJzZW4yMDE1YSwgbfxuY2gyMDEzYiwgcmVmPSIiLAogICAgY29udGV4dHM9WwoKICAgIF0sCikpCgonJycsIGNpdGF0aW9ucz0ncGV0ZXJzZW4yMDE1YScpOw==\"));\n",
       "    "
      ],
      "text/plain": [
       "<IPython.core.display.Javascript object>"
      ]
     },
     "metadata": {},
     "output_type": "display_data"
    },
    {
     "data": {
      "application/javascript": [
       "$('span:contains(\"# Temp\")').closest('.cell').remove();"
      ],
      "text/plain": [
       "<IPython.core.display.Javascript object>"
      ]
     },
     "metadata": {},
     "output_type": "display_data"
    },
    {
     "data": {
      "application/javascript": [
       "\n",
       "        $('span:contains(\"# Temp\")').closest('.cell').remove();\n",
       "        var code = IPython.notebook.insert_cell_below('code');\n",
       "        code.set_text(atob(\"IyBUZW1wCmluc2VydCgnJycKbfxuY2gyMDEzYiA9IERCKFdvcmsoCiAgICAyMDEzLCAiRXhwZXJpZW5jZXMgYW5kIGluc2lnaHRzIGZyb20gYXBwbHlpbmcgZ3FtK3N0cmF0ZWdpZXMgaW4gYSBzeXN0ZW1zIHByb2R1Y3QgZGV2ZWxvcG1lbnQgb3JnYW5pc2F0aW9uLiBJbjogUHJvY2VlZGluZ3Mgb2YgdGhlIDM5dGggRVVST01JQ1JPIGNvbmZlcmVuY2Ugb24gc29mdHdhcmUgZW5naW5lZXJpbmcgYW5kIGFkdmFuY2VkIGFwcGxpY2F0aW9ucyAoU0VBQSAyMDEzKSIsCiAgICBkaXNwbGF5PSJt/G5jaCBiIiwKICAgIGF1dGhvcnM9Ik38bmNoLCBKLiBhbmQgRmFnZXJob2xtLCBGLiBhbmQgS2V0dHVuZW4sIFAuIGFuZCBQYWdlbHMsIE0uIGFuZCBQYXJ0YW5lbiwgSi4iLAogICAgcGxhY2UxPSJLYWlzZXJzbGF1dGVybiIsCiAgICBlbnRyeXR5cGU9ImFydGljbGUiLAogICAgbm90ZT0iY2l0ZWQgQnkgMSIsCiAgICBJRD0iTfxuY2gyMDEzIiwKKSkKCkRCKENpdGF0aW9uKAogICAgcGV0ZXJzZW4yMDE1YSwgbfxuY2gyMDEzYiwgcmVmPSIiLAogICAgY29udGV4dHM9WwoKICAgIF0sCikpCgonJycsIGNpdGF0aW9ucz0ncGV0ZXJzZW4yMDE1YScpOw==\"));\n",
       "    "
      ],
      "text/plain": [
       "<IPython.core.display.Javascript object>"
      ]
     },
     "metadata": {},
     "output_type": "display_data"
    },
    {
     "data": {
      "application/javascript": [
       "$('span:contains(\"# Temp\")').closest('.cell').remove();"
      ],
      "text/plain": [
       "<IPython.core.display.Javascript object>"
      ]
     },
     "metadata": {},
     "output_type": "display_data"
    },
    {
     "data": {
      "application/javascript": [
       "\n",
       "        $('span:contains(\"# Temp\")').closest('.cell').remove();\n",
       "        var code = IPython.notebook.insert_cell_below('code');\n",
       "        code.set_text(atob(\"IyBUZW1wCmluc2VydCgnJycKREIoQ2l0YXRpb24oCiAgICBwZXRlcnNlbjIwMTVhLCBrYW5la28yMDExYSwgcmVmPSIiLAogICAgY29udGV4dHM9WwoKICAgIF0sCikpCgonJycsIGNpdGF0aW9ucz0ncGV0ZXJzZW4yMDE1YScpOw==\"));\n",
       "    "
      ],
      "text/plain": [
       "<IPython.core.display.Javascript object>"
      ]
     },
     "metadata": {},
     "output_type": "display_data"
    },
    {
     "data": {
      "application/javascript": [
       "$('span:contains(\"# Temp\")').closest('.cell').remove();"
      ],
      "text/plain": [
       "<IPython.core.display.Javascript object>"
      ]
     },
     "metadata": {},
     "output_type": "display_data"
    },
    {
     "data": {
      "application/javascript": [
       "\n",
       "        $('span:contains(\"# Temp\")').closest('.cell').remove();\n",
       "        var code = IPython.notebook.insert_cell_below('code');\n",
       "        code.set_text(atob(\"IyBUZW1wCmluc2VydCgnJycKREIoQ2l0YXRpb24oCiAgICBwZXRlcnNlbjIwMTVhLCBrYW5la28yMDExYSwgcmVmPSIiLAogICAgY29udGV4dHM9WwoKICAgIF0sCikpCgonJycsIGNpdGF0aW9ucz0ncGV0ZXJzZW4yMDE1YScpOw==\"));\n",
       "    "
      ],
      "text/plain": [
       "<IPython.core.display.Javascript object>"
      ]
     },
     "metadata": {},
     "output_type": "display_data"
    },
    {
     "data": {
      "application/javascript": [
       "$('span:contains(\"# Temp\")').closest('.cell').remove();"
      ],
      "text/plain": [
       "<IPython.core.display.Javascript object>"
      ]
     },
     "metadata": {},
     "output_type": "display_data"
    },
    {
     "data": {
      "application/javascript": [
       "\n",
       "        $('span:contains(\"# Temp\")').closest('.cell').remove();\n",
       "        var code = IPython.notebook.insert_cell_below('code');\n",
       "        code.set_text(atob(\"IyBUZW1wCmluc2VydCgnJycKa2FwbGFuMTk5NmEgPSBEQihXb3JrKAogICAgMTk5NiwgIlRoZSBiYWxhbmNlZCBzY29yZWNhcmQ6IHRyYW5zbGF0aW5nIHN0cmF0ZWd5IGludG8gYWN0aW9uIiwKICAgIGRpc3BsYXk9ImthcGxhbiIsCiAgICBhdXRob3JzPSJLYXBsYW4sIFIuIGFuZCBLYXBsYW4sIFIuUy4gYW5kIE5vcnRvbiwgRC5QLiIsCiAgICBwbGFjZTE9IkhhcnZhcmQgQnVzaW5lc3MgUHJlc3MiLAogICAgZW50cnl0eXBlPSJhcnRpY2xlIiwKICAgIG5vdGU9ImNpdGVkIEJ5IDIiLAogICAgSUQ9IkthcGxhbjE5OTYiLAopKQoKREIoQ2l0YXRpb24oCiAgICBwZXRlcnNlbjIwMTVhLCBrYXBsYW4xOTk2YSwgcmVmPSIiLAogICAgY29udGV4dHM9WwoKICAgIF0sCikpCgonJycsIGNpdGF0aW9ucz0ncGV0ZXJzZW4yMDE1YScpOw==\"));\n",
       "    "
      ],
      "text/plain": [
       "<IPython.core.display.Javascript object>"
      ]
     },
     "metadata": {},
     "output_type": "display_data"
    },
    {
     "data": {
      "application/javascript": [
       "$('span:contains(\"# Temp\")').closest('.cell').remove();"
      ],
      "text/plain": [
       "<IPython.core.display.Javascript object>"
      ]
     },
     "metadata": {},
     "output_type": "display_data"
    },
    {
     "data": {
      "application/javascript": [
       "\n",
       "        $('span:contains(\"# Temp\")').closest('.cell').remove();\n",
       "        var code = IPython.notebook.insert_cell_below('code');\n",
       "        code.set_text(atob(\"IyBUZW1wCmluc2VydCgnJycKa2FwbGFuMTk5NmEgPSBEQihXb3JrKAogICAgMTk5NiwgIlRoZSBiYWxhbmNlZCBzY29yZWNhcmQ6IHRyYW5zbGF0aW5nIHN0cmF0ZWd5IGludG8gYWN0aW9uIiwKICAgIGRpc3BsYXk9ImthcGxhbiIsCiAgICBhdXRob3JzPSJLYXBsYW4sIFIuIGFuZCBLYXBsYW4sIFIuUy4gYW5kIE5vcnRvbiwgRC5QLiIsCiAgICBwbGFjZTE9IkhhcnZhcmQgQnVzaW5lc3MgUHJlc3MiLAogICAgZW50cnl0eXBlPSJhcnRpY2xlIiwKICAgIG5vdGU9ImNpdGVkIEJ5IDIiLAogICAgSUQ9IkthcGxhbjE5OTYiLAopKQoKREIoQ2l0YXRpb24oCiAgICBwZXRlcnNlbjIwMTVhLCBrYXBsYW4xOTk2YSwgcmVmPSIiLAogICAgY29udGV4dHM9WwoKICAgIF0sCikpCgonJycsIGNpdGF0aW9ucz0ncGV0ZXJzZW4yMDE1YScpOw==\"));\n",
       "    "
      ],
      "text/plain": [
       "<IPython.core.display.Javascript object>"
      ]
     },
     "metadata": {},
     "output_type": "display_data"
    },
    {
     "data": {
      "application/javascript": [
       "$('span:contains(\"# Temp\")').closest('.cell').remove();"
      ],
      "text/plain": [
       "<IPython.core.display.Javascript object>"
      ]
     },
     "metadata": {},
     "output_type": "display_data"
    },
    {
     "data": {
      "application/javascript": [
       "\n",
       "        $('span:contains(\"# Temp\")').closest('.cell').remove();\n",
       "        var code = IPython.notebook.insert_cell_below('code');\n",
       "        code.set_text(atob(\"IyBUZW1wCmluc2VydCgnJycKa2VlbGUyMDA3YSA9IERCKFdvcmsoCiAgICAyMDA3LCAiR3VpZGVsaW5lcyBmb3IgcGVyZm9ybWluZyBzeXN0ZW1hdGljIGxpdGVyYXR1cmUgcmV2aWV3cyBpbiBzb2Z0d2FyZSBlbmdpbmVlcmluZyIsCiAgICBkaXNwbGF5PSJrZWVsZSIsCiAgICBhdXRob3JzPSJLZWVsZSwgUy4iLAogICAgcGxhY2UxPSJHdWlkZWxpbmVzIGZvciBQZXJmb3JtaW5nIFN5c3RlbWF0aWMgTGl0ZXJhdHVyZSBSZXZpZXdzIGluIFNvZnR3YXJlIEVuZ2luZWVyaW5nIiwKICAgIGVudHJ5dHlwZT0iYXJ0aWNsZSIsCiAgICBub3RlPSJjaXRlZCBCeSA5NCIsCiAgICBJRD0iS2VlbGUyMDA3IiwKKSkKCkRCKENpdGF0aW9uKAogICAgcGV0ZXJzZW4yMDE1YSwga2VlbGUyMDA3YSwgcmVmPSIiLAogICAgY29udGV4dHM9WwoKICAgIF0sCikpCgonJycsIGNpdGF0aW9ucz0ncGV0ZXJzZW4yMDE1YScpOw==\"));\n",
       "    "
      ],
      "text/plain": [
       "<IPython.core.display.Javascript object>"
      ]
     },
     "metadata": {},
     "output_type": "display_data"
    },
    {
     "data": {
      "application/javascript": [
       "$('span:contains(\"# Temp\")').closest('.cell').remove();"
      ],
      "text/plain": [
       "<IPython.core.display.Javascript object>"
      ]
     },
     "metadata": {},
     "output_type": "display_data"
    },
    {
     "data": {
      "application/javascript": [
       "\n",
       "        $('span:contains(\"# Temp\")').closest('.cell').remove();\n",
       "        var code = IPython.notebook.insert_cell_below('code');\n",
       "        code.set_text(atob(\"IyBUZW1wCmluc2VydCgnJycKa2VlbGUyMDA3YSA9IERCKFdvcmsoCiAgICAyMDA3LCAiR3VpZGVsaW5lcyBmb3IgcGVyZm9ybWluZyBzeXN0ZW1hdGljIGxpdGVyYXR1cmUgcmV2aWV3cyBpbiBzb2Z0d2FyZSBlbmdpbmVlcmluZyIsCiAgICBkaXNwbGF5PSJrZWVsZSIsCiAgICBhdXRob3JzPSJLZWVsZSwgUy4iLAogICAgcGxhY2UxPSJHdWlkZWxpbmVzIGZvciBQZXJmb3JtaW5nIFN5c3RlbWF0aWMgTGl0ZXJhdHVyZSBSZXZpZXdzIGluIFNvZnR3YXJlIEVuZ2luZWVyaW5nIiwKICAgIGVudHJ5dHlwZT0iYXJ0aWNsZSIsCiAgICBub3RlPSJjaXRlZCBCeSA5NCIsCiAgICBJRD0iS2VlbGUyMDA3IiwKKSkKCkRCKENpdGF0aW9uKAogICAgcGV0ZXJzZW4yMDE1YSwga2VlbGUyMDA3YSwgcmVmPSIiLAogICAgY29udGV4dHM9WwoKICAgIF0sCikpCgonJycsIGNpdGF0aW9ucz0ncGV0ZXJzZW4yMDE1YScpOw==\"));\n",
       "    "
      ],
      "text/plain": [
       "<IPython.core.display.Javascript object>"
      ]
     },
     "metadata": {},
     "output_type": "display_data"
    },
    {
     "data": {
      "application/javascript": [
       "$('span:contains(\"# Temp\")').closest('.cell').remove();"
      ],
      "text/plain": [
       "<IPython.core.display.Javascript object>"
      ]
     },
     "metadata": {},
     "output_type": "display_data"
    },
    {
     "data": {
      "application/javascript": [
       "\n",
       "        $('span:contains(\"# Temp\")').closest('.cell').remove();\n",
       "        var code = IPython.notebook.insert_cell_below('code');\n",
       "        code.set_text(atob(\"IyBUZW1wCmluc2VydCgnJycKa2lscGwyMDAxYSA9IERCKFdvcmsoCiAgICAyMDAxLCAiSW1wbGVtZW50aW5nIGEgc29mdHdhcmUgbWV0cmljcyBwcm9ncmFtIGF0IE5va2lhIiwKICAgIGRpc3BsYXk9ImtpbHBsIiwKICAgIGF1dGhvcnM9IktpbHBsLCBULiIsCiAgICBwbGFjZT1JRUVFUywKICAgIHBwPSI3Mi03NyIsCiAgICBlbnRyeXR5cGU9ImFydGljbGUiLAogICAgdm9sdW1lPSIxOCIsCiAgICBudW1iZXI9IjYiLAogICAgZG9pPSIxMC4xMTA5LzUyLjk2NTgwOCIsCiAgICBub3RlPSJjaXRlZCBCeSAzMyIsCiAgICBJRD0iS2lscGwyMDAxNzIiLAopKQoKREIoQ2l0YXRpb24oCiAgICBwZXRlcnNlbjIwMTVhLCBraWxwbDIwMDFhLCByZWY9IiIsCiAgICBjb250ZXh0cz1bCgogICAgXSwKKSkKCicnJywgY2l0YXRpb25zPSdwZXRlcnNlbjIwMTVhJyk7\"));\n",
       "    "
      ],
      "text/plain": [
       "<IPython.core.display.Javascript object>"
      ]
     },
     "metadata": {},
     "output_type": "display_data"
    },
    {
     "data": {
      "application/javascript": [
       "$('span:contains(\"# Temp\")').closest('.cell').remove();"
      ],
      "text/plain": [
       "<IPython.core.display.Javascript object>"
      ]
     },
     "metadata": {},
     "output_type": "display_data"
    },
    {
     "data": {
      "application/javascript": [
       "\n",
       "        $('span:contains(\"# Temp\")').closest('.cell').remove();\n",
       "        var code = IPython.notebook.insert_cell_below('code');\n",
       "        code.set_text(atob(\"IyBUZW1wCmluc2VydCgnJycKa2lscGwyMDAxYSA9IERCKFdvcmsoCiAgICAyMDAxLCAiSW1wbGVtZW50aW5nIGEgc29mdHdhcmUgbWV0cmljcyBwcm9ncmFtIGF0IE5va2lhIiwKICAgIGRpc3BsYXk9ImtpbHBsIiwKICAgIGF1dGhvcnM9IktpbHBsLCBULiIsCiAgICBwbGFjZT1JRUVFUywKICAgIHBwPSI3Mi03NyIsCiAgICBlbnRyeXR5cGU9ImFydGljbGUiLAogICAgdm9sdW1lPSIxOCIsCiAgICBudW1iZXI9IjYiLAogICAgZG9pPSIxMC4xMTA5LzUyLjk2NTgwOCIsCiAgICBub3RlPSJjaXRlZCBCeSAzMyIsCiAgICBJRD0iS2lscGwyMDAxNzIiLAopKQoKREIoQ2l0YXRpb24oCiAgICBwZXRlcnNlbjIwMTVhLCBraWxwbDIwMDFhLCByZWY9IiIsCiAgICBjb250ZXh0cz1bCgogICAgXSwKKSkKCicnJywgY2l0YXRpb25zPSdwZXRlcnNlbjIwMTVhJyk7\"));\n",
       "    "
      ],
      "text/plain": [
       "<IPython.core.display.Javascript object>"
      ]
     },
     "metadata": {},
     "output_type": "display_data"
    },
    {
     "data": {
      "application/javascript": [
       "$('span:contains(\"# Temp\")').closest('.cell').remove();"
      ],
      "text/plain": [
       "<IPython.core.display.Javascript object>"
      ]
     },
     "metadata": {},
     "output_type": "display_data"
    },
    {
     "data": {
      "application/javascript": [
       "\n",
       "        $('span:contains(\"# Temp\")').closest('.cell').remove();\n",
       "        var code = IPython.notebook.insert_cell_below('code');\n",
       "        code.set_text(atob(\"IyBUZW1wCmluc2VydCgnJycKbWFuZGljMjAxMGEgPSBEQihXb3JrKAogICAgMjAxMCwgIkFuIGFwcHJvYWNoIGZvciBldmFsdWF0aW5nIGJ1c2luZXNzIGdvYWxzLiBUZWNobmljYWwgUmVwb3J0IFRSIFRSLVRPTC0yMDEwLTI4MDIsIFVuaXZlcnNpdHkgb2YgT3VsdSIsCiAgICBkaXNwbGF5PSJtYW5kaWMiLAogICAgYXV0aG9ycz0iTWFuZGljLCBWLiBhbmQgQmFzaWxpLCBWLiIsCiAgICBwbGFjZTE9IkRlcGFydG1lbnQgb2YgSW5mb3JtYXRpb24gUHJvY2Vzc2luZyBTY2llbmNlIiwKICAgIGVudHJ5dHlwZT0iYXJ0aWNsZSIsCiAgICBub3RlPSJjaXRlZCBCeSAxIiwKICAgIElEPSJNYW5kaWMyMDEwIiwKKSkKCkRCKENpdGF0aW9uKAogICAgcGV0ZXJzZW4yMDE1YSwgbWFuZGljMjAxMGEsIHJlZj0iIiwKICAgIGNvbnRleHRzPVsKCiAgICBdLAopKQoKJycnLCBjaXRhdGlvbnM9J3BldGVyc2VuMjAxNWEnKTs=\"));\n",
       "    "
      ],
      "text/plain": [
       "<IPython.core.display.Javascript object>"
      ]
     },
     "metadata": {},
     "output_type": "display_data"
    },
    {
     "data": {
      "application/javascript": [
       "$('span:contains(\"# Temp\")').closest('.cell').remove();"
      ],
      "text/plain": [
       "<IPython.core.display.Javascript object>"
      ]
     },
     "metadata": {},
     "output_type": "display_data"
    },
    {
     "data": {
      "application/javascript": [
       "\n",
       "        $('span:contains(\"# Temp\")').closest('.cell').remove();\n",
       "        var code = IPython.notebook.insert_cell_below('code');\n",
       "        code.set_text(atob(\"IyBUZW1wCmluc2VydCgnJycKbWFuZGljMjAxMGEgPSBEQihXb3JrKAogICAgMjAxMCwgIkFuIGFwcHJvYWNoIGZvciBldmFsdWF0aW5nIGJ1c2luZXNzIGdvYWxzLiBUZWNobmljYWwgUmVwb3J0IFRSIFRSLVRPTC0yMDEwLTI4MDIsIFVuaXZlcnNpdHkgb2YgT3VsdSIsCiAgICBkaXNwbGF5PSJtYW5kaWMiLAogICAgYXV0aG9ycz0iTWFuZGljLCBWLiBhbmQgQmFzaWxpLCBWLiIsCiAgICBwbGFjZTE9IkRlcGFydG1lbnQgb2YgSW5mb3JtYXRpb24gUHJvY2Vzc2luZyBTY2llbmNlIiwKICAgIGVudHJ5dHlwZT0iYXJ0aWNsZSIsCiAgICBub3RlPSJjaXRlZCBCeSAxIiwKICAgIElEPSJNYW5kaWMyMDEwIiwKKSkKCkRCKENpdGF0aW9uKAogICAgcGV0ZXJzZW4yMDE1YSwgbWFuZGljMjAxMGEsIHJlZj0iIiwKICAgIGNvbnRleHRzPVsKCiAgICBdLAopKQoKJycnLCBjaXRhdGlvbnM9J3BldGVyc2VuMjAxNWEnKTs=\"));\n",
       "    "
      ],
      "text/plain": [
       "<IPython.core.display.Javascript object>"
      ]
     },
     "metadata": {},
     "output_type": "display_data"
    },
    {
     "data": {
      "application/javascript": [
       "$('span:contains(\"# Temp\")').closest('.cell').remove();"
      ],
      "text/plain": [
       "<IPython.core.display.Javascript object>"
      ]
     },
     "metadata": {},
     "output_type": "display_data"
    },
    {
     "data": {
      "application/javascript": [
       "\n",
       "        $('span:contains(\"# Temp\")').closest('.cell').remove();\n",
       "        var code = IPython.notebook.insert_cell_below('code');\n",
       "        code.set_text(atob(\"IyBUZW1wCmluc2VydCgnJycKREIoQ2l0YXRpb24oCiAgICBwZXRlcnNlbjIwMTVhLCBtYW5kaT8yMDEwYiwgcmVmPSIiLAogICAgY29udGV4dHM9WwoKICAgIF0sCikpCgonJycsIGNpdGF0aW9ucz0ncGV0ZXJzZW4yMDE1YScpOwpzZXRfYXR0cmlidXRlKCdtYW5kaT8yMDEwYicsICdwcCcsICcyMDEwJyk7\"));\n",
       "    "
      ],
      "text/plain": [
       "<IPython.core.display.Javascript object>"
      ]
     },
     "metadata": {},
     "output_type": "display_data"
    },
    {
     "data": {
      "application/javascript": [
       "$('span:contains(\"# Temp\")').closest('.cell').remove();"
      ],
      "text/plain": [
       "<IPython.core.display.Javascript object>"
      ]
     },
     "metadata": {},
     "output_type": "display_data"
    },
    {
     "data": {
      "application/javascript": [
       "\n",
       "        $('span:contains(\"# Temp\")').closest('.cell').remove();\n",
       "        var code = IPython.notebook.insert_cell_below('code');\n",
       "        code.set_text(atob(\"IyBUZW1wCmluc2VydCgnJycKREIoQ2l0YXRpb24oCiAgICBwZXRlcnNlbjIwMTVhLCBtYW5kaT8yMDEwYiwgcmVmPSIiLAogICAgY29udGV4dHM9WwoKICAgIF0sCikpCgonJycsIGNpdGF0aW9ucz0ncGV0ZXJzZW4yMDE1YScpOwpzZXRfYXR0cmlidXRlKCdtYW5kaT8yMDEwYicsICdwcCcsICcyMDEwJyk7\"));\n",
       "    "
      ],
      "text/plain": [
       "<IPython.core.display.Javascript object>"
      ]
     },
     "metadata": {},
     "output_type": "display_data"
    },
    {
     "data": {
      "application/javascript": [
       "$('span:contains(\"# Temp\")').closest('.cell').remove();"
      ],
      "text/plain": [
       "<IPython.core.display.Javascript object>"
      ]
     },
     "metadata": {},
     "output_type": "display_data"
    },
    {
     "data": {
      "application/javascript": [
       "\n",
       "        $('span:contains(\"# Temp\")').closest('.cell').remove();\n",
       "        var code = IPython.notebook.insert_cell_below('code');\n",
       "        code.set_text(atob(\"IyBUZW1wCmluc2VydCgnJycKbWFuZGk/MjAxMGMgPSBEQihXb3JrKAogICAgMjAxMCwgIkVhcmx5IGVtcGlyaWNhbCBhc3Nlc3NtZW50IG9mIHRoZSBwcmFjdGljYWwgdmFsdWUgb2YgR1FNICtzdHJhdGVnaWVzIiwKICAgIGRpc3BsYXk9Im1hbmRpPyBjIiwKICAgIGF1dGhvcnM9Ik1hbmRpPywgVi4gYW5kIEhhcmp1bWFhLCBMLiBhbmQgTWFya2t1bGEsIEouIGFuZCBPaXZvLCBNLiIsCiAgICBwcD0iMTQtMjUiLAogICAgcGxhY2UxPSJMZWN0dXJlIE5vdGVzIGluIENvbXB1dGVyIFNjaWVuY2UgKGluY2x1ZGluZyBzdWJzZXJpZXMgTGVjdHVyZSBOb3RlcyBpbiBBcnRpZmljaWFsIEludGVsbGlnZW5jZSBhbmQgTGVjdHVyZSBOb3RlcyBpbiBCaW9pbmZvcm1hdGljcykiLAogICAgZW50cnl0eXBlPSJhcnRpY2xlIiwKICAgIHZvbHVtZT0iNjE5NSBMTkNTIiwKICAgIGRvaT0iMTAuMTAwNy85NzgtMy02NDItMTQzNDctMl8zIiwKICAgIG5vdGU9ImNpdGVkIEJ5IDciLAogICAgSUQ9Ik1hbmRpPzIwMTAxNCIsCikpCgpEQihDaXRhdGlvbigKICAgIHBldGVyc2VuMjAxNWEsIG1hbmRpPzIwMTBjLCByZWY9IiIsCiAgICBjb250ZXh0cz1bCgogICAgXSwKKSkKCicnJywgY2l0YXRpb25zPSdwZXRlcnNlbjIwMTVhJyk7\"));\n",
       "    "
      ],
      "text/plain": [
       "<IPython.core.display.Javascript object>"
      ]
     },
     "metadata": {},
     "output_type": "display_data"
    },
    {
     "data": {
      "application/javascript": [
       "$('span:contains(\"# Temp\")').closest('.cell').remove();"
      ],
      "text/plain": [
       "<IPython.core.display.Javascript object>"
      ]
     },
     "metadata": {},
     "output_type": "display_data"
    },
    {
     "data": {
      "application/javascript": [
       "\n",
       "        $('span:contains(\"# Temp\")').closest('.cell').remove();\n",
       "        var code = IPython.notebook.insert_cell_below('code');\n",
       "        code.set_text(atob(\"IyBUZW1wCmluc2VydCgnJycKbWFuZGk/MjAxMGMgPSBEQihXb3JrKAogICAgMjAxMCwgIkVhcmx5IGVtcGlyaWNhbCBhc3Nlc3NtZW50IG9mIHRoZSBwcmFjdGljYWwgdmFsdWUgb2YgR1FNICtzdHJhdGVnaWVzIiwKICAgIGRpc3BsYXk9Im1hbmRpPyBjIiwKICAgIGF1dGhvcnM9Ik1hbmRpPywgVi4gYW5kIEhhcmp1bWFhLCBMLiBhbmQgTWFya2t1bGEsIEouIGFuZCBPaXZvLCBNLiIsCiAgICBwcD0iMTQtMjUiLAogICAgcGxhY2UxPSJMZWN0dXJlIE5vdGVzIGluIENvbXB1dGVyIFNjaWVuY2UgKGluY2x1ZGluZyBzdWJzZXJpZXMgTGVjdHVyZSBOb3RlcyBpbiBBcnRpZmljaWFsIEludGVsbGlnZW5jZSBhbmQgTGVjdHVyZSBOb3RlcyBpbiBCaW9pbmZvcm1hdGljcykiLAogICAgZW50cnl0eXBlPSJhcnRpY2xlIiwKICAgIHZvbHVtZT0iNjE5NSBMTkNTIiwKICAgIGRvaT0iMTAuMTAwNy85NzgtMy02NDItMTQzNDctMl8zIiwKICAgIG5vdGU9ImNpdGVkIEJ5IDciLAogICAgSUQ9Ik1hbmRpPzIwMTAxNCIsCikpCgpEQihDaXRhdGlvbigKICAgIHBldGVyc2VuMjAxNWEsIG1hbmRpPzIwMTBjLCByZWY9IiIsCiAgICBjb250ZXh0cz1bCgogICAgXSwKKSkKCicnJywgY2l0YXRpb25zPSdwZXRlcnNlbjIwMTVhJyk7\"));\n",
       "    "
      ],
      "text/plain": [
       "<IPython.core.display.Javascript object>"
      ]
     },
     "metadata": {},
     "output_type": "display_data"
    },
    {
     "data": {
      "application/javascript": [
       "$('span:contains(\"# Temp\")').closest('.cell').remove();"
      ],
      "text/plain": [
       "<IPython.core.display.Javascript object>"
      ]
     },
     "metadata": {},
     "output_type": "display_data"
    },
    {
     "data": {
      "application/javascript": [
       "\n",
       "        $('span:contains(\"# Temp\")').closest('.cell').remove();\n",
       "        var code = IPython.notebook.insert_cell_below('code');\n",
       "        code.set_text(atob(\"IyBUZW1wCmluc2VydCgnJycKbWFuZGk/MjAxMGQgPSBEQihXb3JrKAogICAgMjAxMCwgIlNBUzogQSB0b29sIGZvciB0aGUgR1FNK3N0cmF0ZWdpZXMgZ3JpZCBkZXJpdmF0aW9uIHByb2Nlc3MiLAogICAgZGlzcGxheT0ibWFuZGk/IGQiLAogICAgYXV0aG9ycz0iTWFuZGk/LCBWLiBhbmQgT2l2bywgTS4iLAogICAgcHA9IjI5MS0zMDUiLAogICAgcGxhY2UxPSJMZWN0dXJlIE5vdGVzIGluIENvbXB1dGVyIFNjaWVuY2UgKGluY2x1ZGluZyBzdWJzZXJpZXMgTGVjdHVyZSBOb3RlcyBpbiBBcnRpZmljaWFsIEludGVsbGlnZW5jZSBhbmQgTGVjdHVyZSBOb3RlcyBpbiBCaW9pbmZvcm1hdGljcykiLAogICAgZW50cnl0eXBlPSJhcnRpY2xlIiwKICAgIHZvbHVtZT0iNjE1NiBMTkNTIiwKICAgIGRvaT0iMTAuMTAwNy85NzgtMy02NDItMTM3OTItMV8yMyIsCiAgICBub3RlPSJjaXRlZCBCeSA1IiwKICAgIElEPSJNYW5kaT8yMDEwMjkxIiwKKSkKCkRCKENpdGF0aW9uKAogICAgcGV0ZXJzZW4yMDE1YSwgbWFuZGk/MjAxMGQsIHJlZj0iIiwKICAgIGNvbnRleHRzPVsKCiAgICBdLAopKQoKJycnLCBjaXRhdGlvbnM9J3BldGVyc2VuMjAxNWEnKTs=\"));\n",
       "    "
      ],
      "text/plain": [
       "<IPython.core.display.Javascript object>"
      ]
     },
     "metadata": {},
     "output_type": "display_data"
    },
    {
     "data": {
      "application/javascript": [
       "$('span:contains(\"# Temp\")').closest('.cell').remove();"
      ],
      "text/plain": [
       "<IPython.core.display.Javascript object>"
      ]
     },
     "metadata": {},
     "output_type": "display_data"
    },
    {
     "data": {
      "application/javascript": [
       "\n",
       "        $('span:contains(\"# Temp\")').closest('.cell').remove();\n",
       "        var code = IPython.notebook.insert_cell_below('code');\n",
       "        code.set_text(atob(\"IyBUZW1wCmluc2VydCgnJycKbWFuZGk/MjAxMGQgPSBEQihXb3JrKAogICAgMjAxMCwgIlNBUzogQSB0b29sIGZvciB0aGUgR1FNK3N0cmF0ZWdpZXMgZ3JpZCBkZXJpdmF0aW9uIHByb2Nlc3MiLAogICAgZGlzcGxheT0ibWFuZGk/IGQiLAogICAgYXV0aG9ycz0iTWFuZGk/LCBWLiBhbmQgT2l2bywgTS4iLAogICAgcHA9IjI5MS0zMDUiLAogICAgcGxhY2UxPSJMZWN0dXJlIE5vdGVzIGluIENvbXB1dGVyIFNjaWVuY2UgKGluY2x1ZGluZyBzdWJzZXJpZXMgTGVjdHVyZSBOb3RlcyBpbiBBcnRpZmljaWFsIEludGVsbGlnZW5jZSBhbmQgTGVjdHVyZSBOb3RlcyBpbiBCaW9pbmZvcm1hdGljcykiLAogICAgZW50cnl0eXBlPSJhcnRpY2xlIiwKICAgIHZvbHVtZT0iNjE1NiBMTkNTIiwKICAgIGRvaT0iMTAuMTAwNy85NzgtMy02NDItMTM3OTItMV8yMyIsCiAgICBub3RlPSJjaXRlZCBCeSA1IiwKICAgIElEPSJNYW5kaT8yMDEwMjkxIiwKKSkKCkRCKENpdGF0aW9uKAogICAgcGV0ZXJzZW4yMDE1YSwgbWFuZGk/MjAxMGQsIHJlZj0iIiwKICAgIGNvbnRleHRzPVsKCiAgICBdLAopKQoKJycnLCBjaXRhdGlvbnM9J3BldGVyc2VuMjAxNWEnKTs=\"));\n",
       "    "
      ],
      "text/plain": [
       "<IPython.core.display.Javascript object>"
      ]
     },
     "metadata": {},
     "output_type": "display_data"
    },
    {
     "data": {
      "application/javascript": [
       "$('span:contains(\"# Temp\")').closest('.cell').remove();"
      ],
      "text/plain": [
       "<IPython.core.display.Javascript object>"
      ]
     },
     "metadata": {},
     "output_type": "display_data"
    },
    {
     "data": {
      "application/javascript": [
       "\n",
       "        $('span:contains(\"# Temp\")').closest('.cell').remove();\n",
       "        var code = IPython.notebook.insert_cell_below('code');\n",
       "        code.set_text(atob(\"IyBUZW1wCmluc2VydCgnJycKbWNnYXJyeTIwMDJhID0gREIoV29yaygKICAgIDIwMDIsICJQcmFjdGljYWwgc29mdHdhcmUgbWVhc3VyZW1lbnQ6IG9iamVjdGl2ZSBpbmZvcm1hdGlvbiBmb3IgZGVjaXNpb24gbWFrZXJzIiwKICAgIGRpc3BsYXk9Im1jZ2FycnkiLAogICAgYXV0aG9ycz0iTWNHYXJyeSwgSi4gYW5kIENhcmQsIEQuIGFuZCBKb25lcywgQy4gYW5kIExheW1hbiwgQi4gYW5kIENsYXJrLCBFLiBhbmQgRGVhbiwgSi4gYW5kIEhhbGwsIEYuIiwKICAgIHBsYWNlMT0iQWRkaXNvbi1XZXNsZXkgQm9zdG9uIiwKICAgIGVudHJ5dHlwZT0iYXJ0aWNsZSIsCiAgICBub3RlPSJjaXRlZCBCeSAxIiwKICAgIElEPSJNY0dhcnJ5MjAwMiIsCikpCgpEQihDaXRhdGlvbigKICAgIHBldGVyc2VuMjAxNWEsIG1jZ2FycnkyMDAyYSwgcmVmPSIiLAogICAgY29udGV4dHM9WwoKICAgIF0sCikpCgonJycsIGNpdGF0aW9ucz0ncGV0ZXJzZW4yMDE1YScpOw==\"));\n",
       "    "
      ],
      "text/plain": [
       "<IPython.core.display.Javascript object>"
      ]
     },
     "metadata": {},
     "output_type": "display_data"
    },
    {
     "data": {
      "application/javascript": [
       "$('span:contains(\"# Temp\")').closest('.cell').remove();"
      ],
      "text/plain": [
       "<IPython.core.display.Javascript object>"
      ]
     },
     "metadata": {},
     "output_type": "display_data"
    },
    {
     "data": {
      "application/javascript": [
       "\n",
       "        $('span:contains(\"# Temp\")').closest('.cell').remove();\n",
       "        var code = IPython.notebook.insert_cell_below('code');\n",
       "        code.set_text(atob(\"IyBUZW1wCmluc2VydCgnJycKbWNnYXJyeTIwMDJhID0gREIoV29yaygKICAgIDIwMDIsICJQcmFjdGljYWwgc29mdHdhcmUgbWVhc3VyZW1lbnQ6IG9iamVjdGl2ZSBpbmZvcm1hdGlvbiBmb3IgZGVjaXNpb24gbWFrZXJzIiwKICAgIGRpc3BsYXk9Im1jZ2FycnkiLAogICAgYXV0aG9ycz0iTWNHYXJyeSwgSi4gYW5kIENhcmQsIEQuIGFuZCBKb25lcywgQy4gYW5kIExheW1hbiwgQi4gYW5kIENsYXJrLCBFLiBhbmQgRGVhbiwgSi4gYW5kIEhhbGwsIEYuIiwKICAgIHBsYWNlMT0iQWRkaXNvbi1XZXNsZXkgQm9zdG9uIiwKICAgIGVudHJ5dHlwZT0iYXJ0aWNsZSIsCiAgICBub3RlPSJjaXRlZCBCeSAxIiwKICAgIElEPSJNY0dhcnJ5MjAwMiIsCikpCgpEQihDaXRhdGlvbigKICAgIHBldGVyc2VuMjAxNWEsIG1jZ2FycnkyMDAyYSwgcmVmPSIiLAogICAgY29udGV4dHM9WwoKICAgIF0sCikpCgonJycsIGNpdGF0aW9ucz0ncGV0ZXJzZW4yMDE1YScpOw==\"));\n",
       "    "
      ],
      "text/plain": [
       "<IPython.core.display.Javascript object>"
      ]
     },
     "metadata": {},
     "output_type": "display_data"
    },
    {
     "data": {
      "application/javascript": [
       "$('span:contains(\"# Temp\")').closest('.cell').remove();"
      ],
      "text/plain": [
       "<IPython.core.display.Javascript object>"
      ]
     },
     "metadata": {},
     "output_type": "display_data"
    },
    {
     "data": {
      "application/javascript": [
       "\n",
       "        $('span:contains(\"# Temp\")').closest('.cell').remove();\n",
       "        var code = IPython.notebook.insert_cell_below('code');\n",
       "        code.set_text(atob(\"IyBUZW1wCmluc2VydCgnJycKbWVuZG9u52EyMDAwYSA9IERCKFdvcmsoCiAgICAyMDAwLCAiVmFsaWRhdGlvbiBvZiBhbiBhcHByb2FjaCBmb3IgaW1wcm92aW5nIGV4aXN0aW5nIG1lYXN1cmVtZW50IGZyYW1ld29ya3MiLAogICAgZGlzcGxheT0ibWVuZG9u52EiLAogICAgYXV0aG9ycz0iTWVuZG9u52EsIE0uRy4gYW5kIEJhc2lsaSwgVi5SLiIsCiAgICBwbGFjZT1Ub1NFLAogICAgcHA9IjQ4NC00OTkiLAogICAgZW50cnl0eXBlPSJhcnRpY2xlIiwKICAgIHZvbHVtZT0iMjYiLAogICAgbnVtYmVyPSI2IiwKICAgIGRvaT0iMTAuMTEwOS8zMi44NTI3MzkiLAogICAgbm90ZT0iY2l0ZWQgQnkgNDYiLAogICAgSUQ9Ik1lbmRvbudhMjAwMDQ4NCIsCikpCgpEQihDaXRhdGlvbigKICAgIHBldGVyc2VuMjAxNWEsIG1lbmRvbudhMjAwMGEsIHJlZj0iIiwKICAgIGNvbnRleHRzPVsKCiAgICBdLAopKQoKJycnLCBjaXRhdGlvbnM9J3BldGVyc2VuMjAxNWEnKTs=\"));\n",
       "    "
      ],
      "text/plain": [
       "<IPython.core.display.Javascript object>"
      ]
     },
     "metadata": {},
     "output_type": "display_data"
    },
    {
     "data": {
      "application/javascript": [
       "$('span:contains(\"# Temp\")').closest('.cell').remove();"
      ],
      "text/plain": [
       "<IPython.core.display.Javascript object>"
      ]
     },
     "metadata": {},
     "output_type": "display_data"
    },
    {
     "data": {
      "application/javascript": [
       "\n",
       "        $('span:contains(\"# Temp\")').closest('.cell').remove();\n",
       "        var code = IPython.notebook.insert_cell_below('code');\n",
       "        code.set_text(atob(\"IyBUZW1wCmluc2VydCgnJycKbWVuZG9u52EyMDAwYSA9IERCKFdvcmsoCiAgICAyMDAwLCAiVmFsaWRhdGlvbiBvZiBhbiBhcHByb2FjaCBmb3IgaW1wcm92aW5nIGV4aXN0aW5nIG1lYXN1cmVtZW50IGZyYW1ld29ya3MiLAogICAgZGlzcGxheT0ibWVuZG9u52EiLAogICAgYXV0aG9ycz0iTWVuZG9u52EsIE0uRy4gYW5kIEJhc2lsaSwgVi5SLiIsCiAgICBwbGFjZT1Ub1NFLAogICAgcHA9IjQ4NC00OTkiLAogICAgZW50cnl0eXBlPSJhcnRpY2xlIiwKICAgIHZvbHVtZT0iMjYiLAogICAgbnVtYmVyPSI2IiwKICAgIGRvaT0iMTAuMTEwOS8zMi44NTI3MzkiLAogICAgbm90ZT0iY2l0ZWQgQnkgNDYiLAogICAgSUQ9Ik1lbmRvbudhMjAwMDQ4NCIsCikpCgpEQihDaXRhdGlvbigKICAgIHBldGVyc2VuMjAxNWEsIG1lbmRvbudhMjAwMGEsIHJlZj0iIiwKICAgIGNvbnRleHRzPVsKCiAgICBdLAopKQoKJycnLCBjaXRhdGlvbnM9J3BldGVyc2VuMjAxNWEnKTs=\"));\n",
       "    "
      ],
      "text/plain": [
       "<IPython.core.display.Javascript object>"
      ]
     },
     "metadata": {},
     "output_type": "display_data"
    },
    {
     "data": {
      "application/javascript": [
       "$('span:contains(\"# Temp\")').closest('.cell').remove();"
      ],
      "text/plain": [
       "<IPython.core.display.Javascript object>"
      ]
     },
     "metadata": {},
     "output_type": "display_data"
    },
    {
     "data": {
      "application/javascript": [
       "\n",
       "        $('span:contains(\"# Temp\")').closest('.cell').remove();\n",
       "        var code = IPython.notebook.insert_cell_below('code');\n",
       "        code.set_text(atob(\"IyBUZW1wCmluc2VydCgnJycKam0xOTk0YSA9IERCKFdvcmsoCiAgICAxOTk0LCAiRGVzaWduaW5nIGZ1bmRlZCBxdWFsaXRhdGl2ZSByZXNlYXJjaCIsCiAgICBkaXNwbGF5PSJqbSIsCiAgICBhdXRob3JzPSJNb3JzZSBKTSIsCiAgICBwbGFjZTE9Ij8iLAogICAgZW50cnl0eXBlPSJhcnRpY2xlIiwKICAgIG5vdGU9ImNpdGVkIEJ5IDEiLAogICAgSUQ9IntNb3JzZTE5OTQiLAopKQoKREIoQ2l0YXRpb24oCiAgICBwZXRlcnNlbjIwMTVhLCBqbTE5OTRhLCByZWY9IiIsCiAgICBjb250ZXh0cz1bCgogICAgXSwKKSkKCicnJywgY2l0YXRpb25zPSdwZXRlcnNlbjIwMTVhJyk7\"));\n",
       "    "
      ],
      "text/plain": [
       "<IPython.core.display.Javascript object>"
      ]
     },
     "metadata": {},
     "output_type": "display_data"
    },
    {
     "data": {
      "application/javascript": [
       "$('span:contains(\"# Temp\")').closest('.cell').remove();"
      ],
      "text/plain": [
       "<IPython.core.display.Javascript object>"
      ]
     },
     "metadata": {},
     "output_type": "display_data"
    },
    {
     "data": {
      "application/javascript": [
       "\n",
       "        $('span:contains(\"# Temp\")').closest('.cell').remove();\n",
       "        var code = IPython.notebook.insert_cell_below('code');\n",
       "        code.set_text(atob(\"IyBUZW1wCmluc2VydCgnJycKam0xOTk0YSA9IERCKFdvcmsoCiAgICAxOTk0LCAiRGVzaWduaW5nIGZ1bmRlZCBxdWFsaXRhdGl2ZSByZXNlYXJjaCIsCiAgICBkaXNwbGF5PSJqbSIsCiAgICBhdXRob3JzPSJNb3JzZSBKTSIsCiAgICBwbGFjZTE9Ij8iLAogICAgZW50cnl0eXBlPSJhcnRpY2xlIiwKICAgIG5vdGU9ImNpdGVkIEJ5IDEiLAogICAgSUQ9IntNb3JzZTE5OTQiLAopKQoKREIoQ2l0YXRpb24oCiAgICBwZXRlcnNlbjIwMTVhLCBqbTE5OTRhLCByZWY9IiIsCiAgICBjb250ZXh0cz1bCgogICAgXSwKKSkKCicnJywgY2l0YXRpb25zPSdwZXRlcnNlbjIwMTVhJyk7\"));\n",
       "    "
      ],
      "text/plain": [
       "<IPython.core.display.Javascript object>"
      ]
     },
     "metadata": {},
     "output_type": "display_data"
    },
    {
     "data": {
      "application/javascript": [
       "$('span:contains(\"# Temp\")').closest('.cell').remove();"
      ],
      "text/plain": [
       "<IPython.core.display.Javascript object>"
      ]
     },
     "metadata": {},
     "output_type": "display_data"
    },
    {
     "data": {
      "application/javascript": [
       "\n",
       "        $('span:contains(\"# Temp\")').closest('.cell').remove();\n",
       "        var code = IPython.notebook.insert_cell_below('code');\n",
       "        code.set_text(atob(\"IyBUZW1wCmluc2VydCgnJycKbXVqdGFiYTIwMTFhID0gREIoV29yaygKICAgIDIwMTEsICJBbmFseXppbmcgc3RyYXRlZ3kgYW5kIHByb2Nlc3NlcyBmb3IgcHJvZHVjdCBjdXN0b21pemF0aW9uIGluIGxhcmdlLXNjYWxlIGluZHVzdHJpYWwgc2V0dGluZ3MiLAogICAgZGlzcGxheT0ibXVqdGFiYSIsCiAgICBhdXRob3JzPSJNdWp0YWJhLCBTLiBhbmQgRmVsZHQsIFIuIGFuZCBQZXRlcnNlbiwgSy4iLAogICAgcGxhY2U9U0VBQSwKICAgIHBwPSIzNjktMzczIiwKICAgIGVudHJ5dHlwZT0iY29uZmVyZW5jZSIsCiAgICBkb2k9IjEwLjExMDkvU0VBQS4yMDExLjcyIiwKICAgIGFydF9udW1iZXI9IjYwNjgzNjkiLAogICAgbm90ZT0iY2l0ZWQgQnkgMiIsCiAgICBJRD0iTXVqdGFiYTIwMTEzNjkiLAopKQoKREIoQ2l0YXRpb24oCiAgICBwZXRlcnNlbjIwMTVhLCBtdWp0YWJhMjAxMWEsIHJlZj0iIiwKICAgIGNvbnRleHRzPVsKCiAgICBdLAopKQoKJycnLCBjaXRhdGlvbnM9J3BldGVyc2VuMjAxNWEnKTs=\"));\n",
       "    "
      ],
      "text/plain": [
       "<IPython.core.display.Javascript object>"
      ]
     },
     "metadata": {},
     "output_type": "display_data"
    },
    {
     "data": {
      "application/javascript": [
       "$('span:contains(\"# Temp\")').closest('.cell').remove();"
      ],
      "text/plain": [
       "<IPython.core.display.Javascript object>"
      ]
     },
     "metadata": {},
     "output_type": "display_data"
    },
    {
     "data": {
      "application/javascript": [
       "\n",
       "        $('span:contains(\"# Temp\")').closest('.cell').remove();\n",
       "        var code = IPython.notebook.insert_cell_below('code');\n",
       "        code.set_text(atob(\"IyBUZW1wCmluc2VydCgnJycKbXVqdGFiYTIwMTFhID0gREIoV29yaygKICAgIDIwMTEsICJBbmFseXppbmcgc3RyYXRlZ3kgYW5kIHByb2Nlc3NlcyBmb3IgcHJvZHVjdCBjdXN0b21pemF0aW9uIGluIGxhcmdlLXNjYWxlIGluZHVzdHJpYWwgc2V0dGluZ3MiLAogICAgZGlzcGxheT0ibXVqdGFiYSIsCiAgICBhdXRob3JzPSJNdWp0YWJhLCBTLiBhbmQgRmVsZHQsIFIuIGFuZCBQZXRlcnNlbiwgSy4iLAogICAgcGxhY2U9U0VBQSwKICAgIHBwPSIzNjktMzczIiwKICAgIGVudHJ5dHlwZT0iY29uZmVyZW5jZSIsCiAgICBkb2k9IjEwLjExMDkvU0VBQS4yMDExLjcyIiwKICAgIGFydF9udW1iZXI9IjYwNjgzNjkiLAogICAgbm90ZT0iY2l0ZWQgQnkgMiIsCiAgICBJRD0iTXVqdGFiYTIwMTEzNjkiLAopKQoKREIoQ2l0YXRpb24oCiAgICBwZXRlcnNlbjIwMTVhLCBtdWp0YWJhMjAxMWEsIHJlZj0iIiwKICAgIGNvbnRleHRzPVsKCiAgICBdLAopKQoKJycnLCBjaXRhdGlvbnM9J3BldGVyc2VuMjAxNWEnKTs=\"));\n",
       "    "
      ],
      "text/plain": [
       "<IPython.core.display.Javascript object>"
      ]
     },
     "metadata": {},
     "output_type": "display_data"
    },
    {
     "data": {
      "application/javascript": [
       "$('span:contains(\"# Temp\")').closest('.cell').remove();"
      ],
      "text/plain": [
       "<IPython.core.display.Javascript object>"
      ]
     },
     "metadata": {},
     "output_type": "display_data"
    },
    {
     "data": {
      "application/javascript": [
       "\n",
       "        $('span:contains(\"# Temp\")').closest('.cell').remove();\n",
       "        var code = IPython.notebook.insert_cell_below('code');\n",
       "        code.set_text(atob(\"IyBUZW1wCmluc2VydCgnJycKajIwMDhhID0gREIoV29yaygKICAgIDIwMDgsICJBbGlnbmluZyBidXNpbmVzcyBzdHJhdGVnaWVzIHdpdGggc29mdHdhcmUgbWVhc3VyZW1lbnQgLSBleGVyY2lzZSBoYW5kb3V0cyIsCiAgICBkaXNwbGF5PSJqIiwKICAgIGF1dGhvcnM9Ik38bmNoIEosIEhlaWRyaWNoIEoiLAogICAgcGxhY2UxPSJleGVyY2lzZSBoYW5kb3V0cyIsCiAgICBlbnRyeXR5cGU9ImFydGljbGUiLAogICAgbm90ZT0iY2l0ZWQgQnkgMSIsCiAgICBJRD0iTfxuY2gyMDA4IiwKKSkKCkRCKENpdGF0aW9uKAogICAgcGV0ZXJzZW4yMDE1YSwgajIwMDhhLCByZWY9IiIsCiAgICBjb250ZXh0cz1bCgogICAgXSwKKSkKCicnJywgY2l0YXRpb25zPSdwZXRlcnNlbjIwMTVhJyk7\"));\n",
       "    "
      ],
      "text/plain": [
       "<IPython.core.display.Javascript object>"
      ]
     },
     "metadata": {},
     "output_type": "display_data"
    },
    {
     "data": {
      "application/javascript": [
       "$('span:contains(\"# Temp\")').closest('.cell').remove();"
      ],
      "text/plain": [
       "<IPython.core.display.Javascript object>"
      ]
     },
     "metadata": {},
     "output_type": "display_data"
    },
    {
     "data": {
      "application/javascript": [
       "\n",
       "        $('span:contains(\"# Temp\")').closest('.cell').remove();\n",
       "        var code = IPython.notebook.insert_cell_below('code');\n",
       "        code.set_text(atob(\"IyBUZW1wCmluc2VydCgnJycKajIwMDhhID0gREIoV29yaygKICAgIDIwMDgsICJBbGlnbmluZyBidXNpbmVzcyBzdHJhdGVnaWVzIHdpdGggc29mdHdhcmUgbWVhc3VyZW1lbnQgLSBleGVyY2lzZSBoYW5kb3V0cyIsCiAgICBkaXNwbGF5PSJqIiwKICAgIGF1dGhvcnM9Ik38bmNoIEosIEhlaWRyaWNoIEoiLAogICAgcGxhY2UxPSJleGVyY2lzZSBoYW5kb3V0cyIsCiAgICBlbnRyeXR5cGU9ImFydGljbGUiLAogICAgbm90ZT0iY2l0ZWQgQnkgMSIsCiAgICBJRD0iTfxuY2gyMDA4IiwKKSkKCkRCKENpdGF0aW9uKAogICAgcGV0ZXJzZW4yMDE1YSwgajIwMDhhLCByZWY9IiIsCiAgICBjb250ZXh0cz1bCgogICAgXSwKKSkKCicnJywgY2l0YXRpb25zPSdwZXRlcnNlbjIwMTVhJyk7\"));\n",
       "    "
      ],
      "text/plain": [
       "<IPython.core.display.Javascript object>"
      ]
     },
     "metadata": {},
     "output_type": "display_data"
    },
    {
     "data": {
      "application/javascript": [
       "$('span:contains(\"# Temp\")').closest('.cell').remove();"
      ],
      "text/plain": [
       "<IPython.core.display.Javascript object>"
      ]
     },
     "metadata": {},
     "output_type": "display_data"
    },
    {
     "data": {
      "application/javascript": [
       "\n",
       "        $('span:contains(\"# Temp\")').closest('.cell').remove();\n",
       "        var code = IPython.notebook.insert_cell_below('code');\n",
       "        code.set_text(atob(\"IyBUZW1wCmluc2VydCgnJycKb2ZmZW4xOTk3YSA9IERCKFdvcmsoCiAgICAxOTk3LCAiRXN0YWJsaXNoaW5nIHNvZnR3YXJlIG1lYXN1cmVtZW50IHByb2dyYW1zIiwKICAgIGRpc3BsYXk9Im9mZmVuIiwKICAgIGF1dGhvcnM9Ik9mZmVuLCBSLkouIGFuZCBKZWZmZXJ5LCBSLiIsCiAgICBwbGFjZT1JRUVFUywKICAgIHBwPSI0NS01MyIsCiAgICBlbnRyeXR5cGU9ImFydGljbGUiLAogICAgdm9sdW1lPSIxNCIsCiAgICBudW1iZXI9IjIiLAogICAgZG9pPSIxMC4xMTA5LzUyLjU4Mjk3NCIsCiAgICBub3RlPSJjaXRlZCBCeSA1OCIsCiAgICBJRD0iT2ZmZW4xOTk3NDUiLAopKQoKREIoQ2l0YXRpb24oCiAgICBwZXRlcnNlbjIwMTVhLCBvZmZlbjE5OTdhLCByZWY9IiIsCiAgICBjb250ZXh0cz1bCgogICAgXSwKKSkKCicnJywgY2l0YXRpb25zPSdwZXRlcnNlbjIwMTVhJyk7\"));\n",
       "    "
      ],
      "text/plain": [
       "<IPython.core.display.Javascript object>"
      ]
     },
     "metadata": {},
     "output_type": "display_data"
    },
    {
     "data": {
      "application/javascript": [
       "$('span:contains(\"# Temp\")').closest('.cell').remove();"
      ],
      "text/plain": [
       "<IPython.core.display.Javascript object>"
      ]
     },
     "metadata": {},
     "output_type": "display_data"
    },
    {
     "data": {
      "application/javascript": [
       "\n",
       "        $('span:contains(\"# Temp\")').closest('.cell').remove();\n",
       "        var code = IPython.notebook.insert_cell_below('code');\n",
       "        code.set_text(atob(\"IyBUZW1wCmluc2VydCgnJycKb2ZmZW4xOTk3YSA9IERCKFdvcmsoCiAgICAxOTk3LCAiRXN0YWJsaXNoaW5nIHNvZnR3YXJlIG1lYXN1cmVtZW50IHByb2dyYW1zIiwKICAgIGRpc3BsYXk9Im9mZmVuIiwKICAgIGF1dGhvcnM9Ik9mZmVuLCBSLkouIGFuZCBKZWZmZXJ5LCBSLiIsCiAgICBwbGFjZT1JRUVFUywKICAgIHBwPSI0NS01MyIsCiAgICBlbnRyeXR5cGU9ImFydGljbGUiLAogICAgdm9sdW1lPSIxNCIsCiAgICBudW1iZXI9IjIiLAogICAgZG9pPSIxMC4xMTA5LzUyLjU4Mjk3NCIsCiAgICBub3RlPSJjaXRlZCBCeSA1OCIsCiAgICBJRD0iT2ZmZW4xOTk3NDUiLAopKQoKREIoQ2l0YXRpb24oCiAgICBwZXRlcnNlbjIwMTVhLCBvZmZlbjE5OTdhLCByZWY9IiIsCiAgICBjb250ZXh0cz1bCgogICAgXSwKKSkKCicnJywgY2l0YXRpb25zPSdwZXRlcnNlbjIwMTVhJyk7\"));\n",
       "    "
      ],
      "text/plain": [
       "<IPython.core.display.Javascript object>"
      ]
     },
     "metadata": {},
     "output_type": "display_data"
    },
    {
     "data": {
      "application/javascript": [
       "$('span:contains(\"# Temp\")').closest('.cell').remove();"
      ],
      "text/plain": [
       "<IPython.core.display.Javascript object>"
      ]
     },
     "metadata": {},
     "output_type": "display_data"
    },
    {
     "data": {
      "application/javascript": [
       "\n",
       "        $('span:contains(\"# Temp\")').closest('.cell').remove();\n",
       "        var code = IPython.notebook.insert_cell_below('code');\n",
       "        code.set_text(atob(\"IyBUZW1wCmluc2VydCgnJycKcGFyazE5OTZiID0gREIoV29yaygKICAgIDE5OTYsICJHb2FsLWRyaXZlbiBzb2Z0d2FyZSBtZWFzdXJlbWVudD9hIGd1aWRlYm9vayAoY211L3NlaS05Ni1oYi0wMDIiLAogICAgZGlzcGxheT0icGFyayBiIiwKICAgIGF1dGhvcnM9IlBhcmssIFIuRS4gYW5kIEdvZXRoZXJ0LCBXLkIuIGFuZCBGbG9yYWMsIFcuQS4iLAogICAgcGxhY2UxPSJhZGEzMTM5NDYpIiwKICAgIGVudHJ5dHlwZT0iYXJ0aWNsZSIsCiAgICBub3RlPSJjaXRlZCBCeSAxIiwKICAgIElEPSJQYXJrMTk5NiIsCikpCgpEQihDaXRhdGlvbigKICAgIHBldGVyc2VuMjAxNWEsIHBhcmsxOTk2YiwgcmVmPSIiLAogICAgY29udGV4dHM9WwoKICAgIF0sCikpCgonJycsIGNpdGF0aW9ucz0ncGV0ZXJzZW4yMDE1YScpOw==\"));\n",
       "    "
      ],
      "text/plain": [
       "<IPython.core.display.Javascript object>"
      ]
     },
     "metadata": {},
     "output_type": "display_data"
    },
    {
     "data": {
      "application/javascript": [
       "$('span:contains(\"# Temp\")').closest('.cell').remove();"
      ],
      "text/plain": [
       "<IPython.core.display.Javascript object>"
      ]
     },
     "metadata": {},
     "output_type": "display_data"
    },
    {
     "data": {
      "application/javascript": [
       "\n",
       "        $('span:contains(\"# Temp\")').closest('.cell').remove();\n",
       "        var code = IPython.notebook.insert_cell_below('code');\n",
       "        code.set_text(atob(\"IyBUZW1wCmluc2VydCgnJycKcGFyazE5OTZiID0gREIoV29yaygKICAgIDE5OTYsICJHb2FsLWRyaXZlbiBzb2Z0d2FyZSBtZWFzdXJlbWVudD9hIGd1aWRlYm9vayAoY211L3NlaS05Ni1oYi0wMDIiLAogICAgZGlzcGxheT0icGFyayBiIiwKICAgIGF1dGhvcnM9IlBhcmssIFIuRS4gYW5kIEdvZXRoZXJ0LCBXLkIuIGFuZCBGbG9yYWMsIFcuQS4iLAogICAgcGxhY2UxPSJhZGEzMTM5NDYpIiwKICAgIGVudHJ5dHlwZT0iYXJ0aWNsZSIsCiAgICBub3RlPSJjaXRlZCBCeSAxIiwKICAgIElEPSJQYXJrMTk5NiIsCikpCgpEQihDaXRhdGlvbigKICAgIHBldGVyc2VuMjAxNWEsIHBhcmsxOTk2YiwgcmVmPSIiLAogICAgY29udGV4dHM9WwoKICAgIF0sCikpCgonJycsIGNpdGF0aW9ucz0ncGV0ZXJzZW4yMDE1YScpOw==\"));\n",
       "    "
      ],
      "text/plain": [
       "<IPython.core.display.Javascript object>"
      ]
     },
     "metadata": {},
     "output_type": "display_data"
    },
    {
     "data": {
      "application/javascript": [
       "$('span:contains(\"# Temp\")').closest('.cell').remove();"
      ],
      "text/plain": [
       "<IPython.core.display.Javascript object>"
      ]
     },
     "metadata": {},
     "output_type": "display_data"
    },
    {
     "data": {
      "application/javascript": [
       "\n",
       "        $('span:contains(\"# Temp\")').closest('.cell').remove();\n",
       "        var code = IPython.notebook.insert_cell_below('code');\n",
       "        code.set_text(atob(\"IyBUZW1wCmluc2VydCgnJycKcGV0ZXJzZW4yMDEzYSA9IERCKFdvcmsoCiAgICAyMDEzLCAiV29ybGR2aWV3cywgcmVzZWFyY2ggbWV0aG9kcywgYW5kIHRoZWlyIHJlbGF0aW9uc2hpcCB0byB2YWxpZGl0eSBpbiBlbXBpcmljYWwgc29mdHdhcmUgZW5naW5lZXJpbmcgcmVzZWFyY2giLAogICAgZGlzcGxheT0icGV0ZXJzZW4iLAogICAgYXV0aG9ycz0iUGV0ZXJzZW4sIEsuIGFuZCBHZW5jZWwsIEMuIiwKICAgIHBwPSI4MS04OSIsCiAgICBwbGFjZTE9IlByb2NlZWRpbmdzIC0gSm9pbnQgQ29uZmVyZW5jZSBvZiB0aGUgMjNyZCBJbnRlcm5hdGlvbmFsIFdvcmtzaG9wIG9uIFNvZnR3YXJlIE1lYXN1cmVtZW50IGFuZCB0aGUgOHRoIEludGVybmF0aW9uYWwgQ29uZmVyZW5jZSBvbiBTb2Z0d2FyZSBQcm9jZXNzIGFuZCBQcm9kdWN0IE1lYXN1cmVtZW50LCBJV1NNLU1FTlNVUkEgMjAxMyIsCiAgICBlbnRyeXR5cGU9ImNvbmZlcmVuY2UiLAogICAgZG9pPSIxMC4xMTA5L0lXU00tTWVuc3VyYS4yMDEzLjIyIiwKICAgIGFydF9udW1iZXI9IjY2OTMyMjYiLAogICAgbm90ZT0iY2l0ZWQgQnkgMjAiLAogICAgSUQ9IlBldGVyc2VuMjAxMzgxIiwKKSkKCkRCKENpdGF0aW9uKAogICAgcGV0ZXJzZW4yMDE1YSwgcGV0ZXJzZW4yMDEzYSwgcmVmPSIiLAogICAgY29udGV4dHM9WwoKICAgIF0sCikpCgonJycsIGNpdGF0aW9ucz0ncGV0ZXJzZW4yMDE1YScpOw==\"));\n",
       "    "
      ],
      "text/plain": [
       "<IPython.core.display.Javascript object>"
      ]
     },
     "metadata": {},
     "output_type": "display_data"
    },
    {
     "data": {
      "application/javascript": [
       "$('span:contains(\"# Temp\")').closest('.cell').remove();"
      ],
      "text/plain": [
       "<IPython.core.display.Javascript object>"
      ]
     },
     "metadata": {},
     "output_type": "display_data"
    },
    {
     "data": {
      "application/javascript": [
       "\n",
       "        $('span:contains(\"# Temp\")').closest('.cell').remove();\n",
       "        var code = IPython.notebook.insert_cell_below('code');\n",
       "        code.set_text(atob(\"IyBUZW1wCmluc2VydCgnJycKcGV0ZXJzZW4yMDEzYSA9IERCKFdvcmsoCiAgICAyMDEzLCAiV29ybGR2aWV3cywgcmVzZWFyY2ggbWV0aG9kcywgYW5kIHRoZWlyIHJlbGF0aW9uc2hpcCB0byB2YWxpZGl0eSBpbiBlbXBpcmljYWwgc29mdHdhcmUgZW5naW5lZXJpbmcgcmVzZWFyY2giLAogICAgZGlzcGxheT0icGV0ZXJzZW4iLAogICAgYXV0aG9ycz0iUGV0ZXJzZW4sIEsuIGFuZCBHZW5jZWwsIEMuIiwKICAgIHBwPSI4MS04OSIsCiAgICBwbGFjZTE9IlByb2NlZWRpbmdzIC0gSm9pbnQgQ29uZmVyZW5jZSBvZiB0aGUgMjNyZCBJbnRlcm5hdGlvbmFsIFdvcmtzaG9wIG9uIFNvZnR3YXJlIE1lYXN1cmVtZW50IGFuZCB0aGUgOHRoIEludGVybmF0aW9uYWwgQ29uZmVyZW5jZSBvbiBTb2Z0d2FyZSBQcm9jZXNzIGFuZCBQcm9kdWN0IE1lYXN1cmVtZW50LCBJV1NNLU1FTlNVUkEgMjAxMyIsCiAgICBlbnRyeXR5cGU9ImNvbmZlcmVuY2UiLAogICAgZG9pPSIxMC4xMTA5L0lXU00tTWVuc3VyYS4yMDEzLjIyIiwKICAgIGFydF9udW1iZXI9IjY2OTMyMjYiLAogICAgbm90ZT0iY2l0ZWQgQnkgMjAiLAogICAgSUQ9IlBldGVyc2VuMjAxMzgxIiwKKSkKCkRCKENpdGF0aW9uKAogICAgcGV0ZXJzZW4yMDE1YSwgcGV0ZXJzZW4yMDEzYSwgcmVmPSIiLAogICAgY29udGV4dHM9WwoKICAgIF0sCikpCgonJycsIGNpdGF0aW9ucz0ncGV0ZXJzZW4yMDE1YScpOw==\"));\n",
       "    "
      ],
      "text/plain": [
       "<IPython.core.display.Javascript object>"
      ]
     },
     "metadata": {},
     "output_type": "display_data"
    },
    {
     "data": {
      "application/javascript": [
       "$('span:contains(\"# Temp\")').closest('.cell').remove();"
      ],
      "text/plain": [
       "<IPython.core.display.Javascript object>"
      ]
     },
     "metadata": {},
     "output_type": "display_data"
    },
    {
     "data": {
      "application/javascript": [
       "\n",
       "        $('span:contains(\"# Temp\")').closest('.cell').remove();\n",
       "        var code = IPython.notebook.insert_cell_below('code');\n",
       "        code.set_text(atob(\"IyBUZW1wCmluc2VydCgnJycKREIoQ2l0YXRpb24oCiAgICBwZXRlcnNlbjIwMTVhLCBwZXRlcnNlbjIwMDlhLCByZWY9IiIsCiAgICBjb250ZXh0cz1bCgogICAgXSwKKSkKCicnJywgY2l0YXRpb25zPSdwZXRlcnNlbjIwMTVhJyk7\"));\n",
       "    "
      ],
      "text/plain": [
       "<IPython.core.display.Javascript object>"
      ]
     },
     "metadata": {},
     "output_type": "display_data"
    },
    {
     "data": {
      "application/javascript": [
       "$('span:contains(\"# Temp\")').closest('.cell').remove();"
      ],
      "text/plain": [
       "<IPython.core.display.Javascript object>"
      ]
     },
     "metadata": {},
     "output_type": "display_data"
    },
    {
     "data": {
      "application/javascript": [
       "\n",
       "        $('span:contains(\"# Temp\")').closest('.cell').remove();\n",
       "        var code = IPython.notebook.insert_cell_below('code');\n",
       "        code.set_text(atob(\"IyBUZW1wCmluc2VydCgnJycKREIoQ2l0YXRpb24oCiAgICBwZXRlcnNlbjIwMTVhLCBwZXRlcnNlbjIwMDlhLCByZWY9IiIsCiAgICBjb250ZXh0cz1bCgogICAgXSwKKSkKCicnJywgY2l0YXRpb25zPSdwZXRlcnNlbjIwMTVhJyk7\"));\n",
       "    "
      ],
      "text/plain": [
       "<IPython.core.display.Javascript object>"
      ]
     },
     "metadata": {},
     "output_type": "display_data"
    },
    {
     "data": {
      "application/javascript": [
       "$('span:contains(\"# Temp\")').closest('.cell').remove();"
      ],
      "text/plain": [
       "<IPython.core.display.Javascript object>"
      ]
     },
     "metadata": {},
     "output_type": "display_data"
    },
    {
     "data": {
      "application/javascript": [
       "\n",
       "        $('span:contains(\"# Temp\")').closest('.cell').remove();\n",
       "        var code = IPython.notebook.insert_cell_below('code');\n",
       "        code.set_text(atob(\"IyBUZW1wCmluc2VydCgnJycKcGV0ZXJzZW4yMDA5YiA9IERCKFdvcmsoCiAgICAyMDA5LCAiQ29udGV4dCBpbiBpbmR1c3RyaWFsIHNvZnR3YXJlIGVuZ2luZWVyaW5nIHJlc2VhcmNoIiwKICAgIGRpc3BsYXk9InBldGVyc2VuIGIiLAogICAgYXV0aG9ycz0iUGV0ZXJzZW4sIEsuIGFuZCBXb2hsaW4sIEMuIiwKICAgIHBsYWNlPUVTRU0sCiAgICBwcD0iNDAxLTQwNCIsCiAgICBlbnRyeXR5cGU9ImNvbmZlcmVuY2UiLAogICAgZG9pPSIxMC4xMTA5L0VTRU0uMjAwOS41MzE2MDEwIiwKICAgIGFydF9udW1iZXI9IjUzMTYwMTAiLAogICAgbm90ZT0iY2l0ZWQgQnkgMTEwIiwKICAgIElEPSJQZXRlcnNlbjIwMDk0MDEiLAopKQoKREIoQ2l0YXRpb24oCiAgICBwZXRlcnNlbjIwMTVhLCBwZXRlcnNlbjIwMDliLCByZWY9IiIsCiAgICBjb250ZXh0cz1bCgogICAgXSwKKSkKCicnJywgY2l0YXRpb25zPSdwZXRlcnNlbjIwMTVhJyk7\"));\n",
       "    "
      ],
      "text/plain": [
       "<IPython.core.display.Javascript object>"
      ]
     },
     "metadata": {},
     "output_type": "display_data"
    },
    {
     "data": {
      "application/javascript": [
       "$('span:contains(\"# Temp\")').closest('.cell').remove();"
      ],
      "text/plain": [
       "<IPython.core.display.Javascript object>"
      ]
     },
     "metadata": {},
     "output_type": "display_data"
    },
    {
     "data": {
      "application/javascript": [
       "\n",
       "        $('span:contains(\"# Temp\")').closest('.cell').remove();\n",
       "        var code = IPython.notebook.insert_cell_below('code');\n",
       "        code.set_text(atob(\"IyBUZW1wCmluc2VydCgnJycKcGV0ZXJzZW4yMDA5YiA9IERCKFdvcmsoCiAgICAyMDA5LCAiQ29udGV4dCBpbiBpbmR1c3RyaWFsIHNvZnR3YXJlIGVuZ2luZWVyaW5nIHJlc2VhcmNoIiwKICAgIGRpc3BsYXk9InBldGVyc2VuIGIiLAogICAgYXV0aG9ycz0iUGV0ZXJzZW4sIEsuIGFuZCBXb2hsaW4sIEMuIiwKICAgIHBsYWNlPUVTRU0sCiAgICBwcD0iNDAxLTQwNCIsCiAgICBlbnRyeXR5cGU9ImNvbmZlcmVuY2UiLAogICAgZG9pPSIxMC4xMTA5L0VTRU0uMjAwOS41MzE2MDEwIiwKICAgIGFydF9udW1iZXI9IjUzMTYwMTAiLAogICAgbm90ZT0iY2l0ZWQgQnkgMTEwIiwKICAgIElEPSJQZXRlcnNlbjIwMDk0MDEiLAopKQoKREIoQ2l0YXRpb24oCiAgICBwZXRlcnNlbjIwMTVhLCBwZXRlcnNlbjIwMDliLCByZWY9IiIsCiAgICBjb250ZXh0cz1bCgogICAgXSwKKSkKCicnJywgY2l0YXRpb25zPSdwZXRlcnNlbjIwMTVhJyk7\"));\n",
       "    "
      ],
      "text/plain": [
       "<IPython.core.display.Javascript object>"
      ]
     },
     "metadata": {},
     "output_type": "display_data"
    },
    {
     "data": {
      "application/javascript": [
       "$('span:contains(\"# Temp\")').closest('.cell').remove();"
      ],
      "text/plain": [
       "<IPython.core.display.Javascript object>"
      ]
     },
     "metadata": {},
     "output_type": "display_data"
    },
    {
     "data": {
      "application/javascript": [
       "\n",
       "        $('span:contains(\"# Temp\")').closest('.cell').remove();\n",
       "        var code = IPython.notebook.insert_cell_below('code');\n",
       "        code.set_text(atob(\"IyBUZW1wCmluc2VydCgnJycKcGV0ZXJzZW4yMDEwYSA9IERCKFdvcmsoCiAgICAyMDEwLCAiVGhlIGVmZmVjdCBvZiBtb3ZpbmcgZnJvbSBhIHBsYW4tZHJpdmVuIHRvIGFuIGluY3JlbWVudGFsIHNvZnR3YXJlIGRldmVsb3BtZW50IGFwcHJvYWNoIHdpdGggYWdpbGUgcHJhY3RpY2VzOiBBbiBpbmR1c3RyaWFsIGNhc2Ugc3R1ZHkiLAogICAgZGlzcGxheT0icGV0ZXJzZW4iLAogICAgYXV0aG9ycz0iUGV0ZXJzZW4sIEsuIGFuZCBXb2hsaW4sIEMuIiwKICAgIHBsYWNlPUVTRSwKICAgIHBwPSI2NTQtNjkzIiwKICAgIGVudHJ5dHlwZT0iYXJ0aWNsZSIsCiAgICB2b2x1bWU9IjE1IiwKICAgIG51bWJlcj0iNiIsCiAgICBkb2k9IjEwLjEwMDcvczEwNjY0LTAxMC05MTM2LTYiLAogICAgbm90ZT0iY2l0ZWQgQnkgNTEiLAogICAgSUQ9IlBldGVyc2VuMjAxMDY1NCIsCikpCgpEQihDaXRhdGlvbigKICAgIHBldGVyc2VuMjAxNWEsIHBldGVyc2VuMjAxMGEsIHJlZj0iIiwKICAgIGNvbnRleHRzPVsKCiAgICBdLAopKQoKJycnLCBjaXRhdGlvbnM9J3BldGVyc2VuMjAxNWEnKTs=\"));\n",
       "    "
      ],
      "text/plain": [
       "<IPython.core.display.Javascript object>"
      ]
     },
     "metadata": {},
     "output_type": "display_data"
    },
    {
     "data": {
      "application/javascript": [
       "$('span:contains(\"# Temp\")').closest('.cell').remove();"
      ],
      "text/plain": [
       "<IPython.core.display.Javascript object>"
      ]
     },
     "metadata": {},
     "output_type": "display_data"
    },
    {
     "data": {
      "application/javascript": [
       "\n",
       "        $('span:contains(\"# Temp\")').closest('.cell').remove();\n",
       "        var code = IPython.notebook.insert_cell_below('code');\n",
       "        code.set_text(atob(\"IyBUZW1wCmluc2VydCgnJycKcGV0ZXJzZW4yMDEwYSA9IERCKFdvcmsoCiAgICAyMDEwLCAiVGhlIGVmZmVjdCBvZiBtb3ZpbmcgZnJvbSBhIHBsYW4tZHJpdmVuIHRvIGFuIGluY3JlbWVudGFsIHNvZnR3YXJlIGRldmVsb3BtZW50IGFwcHJvYWNoIHdpdGggYWdpbGUgcHJhY3RpY2VzOiBBbiBpbmR1c3RyaWFsIGNhc2Ugc3R1ZHkiLAogICAgZGlzcGxheT0icGV0ZXJzZW4iLAogICAgYXV0aG9ycz0iUGV0ZXJzZW4sIEsuIGFuZCBXb2hsaW4sIEMuIiwKICAgIHBsYWNlPUVTRSwKICAgIHBwPSI2NTQtNjkzIiwKICAgIGVudHJ5dHlwZT0iYXJ0aWNsZSIsCiAgICB2b2x1bWU9IjE1IiwKICAgIG51bWJlcj0iNiIsCiAgICBkb2k9IjEwLjEwMDcvczEwNjY0LTAxMC05MTM2LTYiLAogICAgbm90ZT0iY2l0ZWQgQnkgNTEiLAogICAgSUQ9IlBldGVyc2VuMjAxMDY1NCIsCikpCgpEQihDaXRhdGlvbigKICAgIHBldGVyc2VuMjAxNWEsIHBldGVyc2VuMjAxMGEsIHJlZj0iIiwKICAgIGNvbnRleHRzPVsKCiAgICBdLAopKQoKJycnLCBjaXRhdGlvbnM9J3BldGVyc2VuMjAxNWEnKTs=\"));\n",
       "    "
      ],
      "text/plain": [
       "<IPython.core.display.Javascript object>"
      ]
     },
     "metadata": {},
     "output_type": "display_data"
    },
    {
     "data": {
      "application/javascript": [
       "$('span:contains(\"# Temp\")').closest('.cell').remove();"
      ],
      "text/plain": [
       "<IPython.core.display.Javascript object>"
      ]
     },
     "metadata": {},
     "output_type": "display_data"
    },
    {
     "data": {
      "application/javascript": [
       "\n",
       "        $('span:contains(\"# Temp\")').closest('.cell').remove();\n",
       "        var code = IPython.notebook.insert_cell_below('code');\n",
       "        code.set_text(atob(\"IyBUZW1wCmluc2VydCgnJycKcGV0ZXJzZW4yMDEwYiA9IERCKFdvcmsoCiAgICAyMDEwLCAiU29mdHdhcmUgcHJvY2VzcyBpbXByb3ZlbWVudCB0aHJvdWdoIHRoZSBMZWFuIE1lYXN1cmVtZW50IChTUEktTEVBTSkgbWV0aG9kIiwKICAgIGRpc3BsYXk9InBldGVyc2VuIGIiLAogICAgYXV0aG9ycz0iUGV0ZXJzZW4sIEsuIGFuZCBXb2hsaW4sIEMuIiwKICAgIHBsYWNlPUpTUywKICAgIHBwPSIxMjc1LTEyODciLAogICAgZW50cnl0eXBlPSJhcnRpY2xlIiwKICAgIHZvbHVtZT0iODMiLAogICAgbnVtYmVyPSI3IiwKICAgIGRvaT0iMTAuMTAxNi9qLmpzcy4yMDEwLjAyLjAwNSIsCiAgICBub3RlPSJjaXRlZCBCeSA0NiIsCiAgICBJRD0iUGV0ZXJzZW4yMDEwMTI3NSIsCikpCgpEQihDaXRhdGlvbigKICAgIHBldGVyc2VuMjAxNWEsIHBldGVyc2VuMjAxMGIsIHJlZj0iIiwKICAgIGNvbnRleHRzPVsKCiAgICBdLAopKQoKJycnLCBjaXRhdGlvbnM9J3BldGVyc2VuMjAxNWEnKTs=\"));\n",
       "    "
      ],
      "text/plain": [
       "<IPython.core.display.Javascript object>"
      ]
     },
     "metadata": {},
     "output_type": "display_data"
    },
    {
     "data": {
      "application/javascript": [
       "$('span:contains(\"# Temp\")').closest('.cell').remove();"
      ],
      "text/plain": [
       "<IPython.core.display.Javascript object>"
      ]
     },
     "metadata": {},
     "output_type": "display_data"
    },
    {
     "data": {
      "application/javascript": [
       "\n",
       "        $('span:contains(\"# Temp\")').closest('.cell').remove();\n",
       "        var code = IPython.notebook.insert_cell_below('code');\n",
       "        code.set_text(atob(\"IyBUZW1wCmluc2VydCgnJycKcGV0ZXJzZW4yMDEwYiA9IERCKFdvcmsoCiAgICAyMDEwLCAiU29mdHdhcmUgcHJvY2VzcyBpbXByb3ZlbWVudCB0aHJvdWdoIHRoZSBMZWFuIE1lYXN1cmVtZW50IChTUEktTEVBTSkgbWV0aG9kIiwKICAgIGRpc3BsYXk9InBldGVyc2VuIGIiLAogICAgYXV0aG9ycz0iUGV0ZXJzZW4sIEsuIGFuZCBXb2hsaW4sIEMuIiwKICAgIHBsYWNlPUpTUywKICAgIHBwPSIxMjc1LTEyODciLAogICAgZW50cnl0eXBlPSJhcnRpY2xlIiwKICAgIHZvbHVtZT0iODMiLAogICAgbnVtYmVyPSI3IiwKICAgIGRvaT0iMTAuMTAxNi9qLmpzcy4yMDEwLjAyLjAwNSIsCiAgICBub3RlPSJjaXRlZCBCeSA0NiIsCiAgICBJRD0iUGV0ZXJzZW4yMDEwMTI3NSIsCikpCgpEQihDaXRhdGlvbigKICAgIHBldGVyc2VuMjAxNWEsIHBldGVyc2VuMjAxMGIsIHJlZj0iIiwKICAgIGNvbnRleHRzPVsKCiAgICBdLAopKQoKJycnLCBjaXRhdGlvbnM9J3BldGVyc2VuMjAxNWEnKTs=\"));\n",
       "    "
      ],
      "text/plain": [
       "<IPython.core.display.Javascript object>"
      ]
     },
     "metadata": {},
     "output_type": "display_data"
    },
    {
     "data": {
      "application/javascript": [
       "$('span:contains(\"# Temp\")').closest('.cell').remove();"
      ],
      "text/plain": [
       "<IPython.core.display.Javascript object>"
      ]
     },
     "metadata": {},
     "output_type": "display_data"
    },
    {
     "data": {
      "application/javascript": [
       "\n",
       "        $('span:contains(\"# Temp\")').closest('.cell').remove();\n",
       "        var code = IPython.notebook.insert_cell_below('code');\n",
       "        code.set_text(atob(\"IyBUZW1wCmluc2VydCgnJycKcGV0ZXJzZW4yMDExYSA9IERCKFdvcmsoCiAgICAyMDExLCAiTWVhc3VyaW5nIHRoZSBmbG93IGluIGxlYW4gc29mdHdhcmUgZGV2ZWxvcG1lbnQiLAogICAgZGlzcGxheT0icGV0ZXJzZW4iLAogICAgYXV0aG9ycz0iUGV0ZXJzZW4sIEsuIGFuZCBXb2hsaW4sIEMuIiwKICAgIHBwPSI5NzUtOTk2IiwKICAgIHBsYWNlMT0iU29mdHdhcmUgLSBQcmFjdGljZSBhbmQgRXhwZXJpZW5jZSIsCiAgICBlbnRyeXR5cGU9ImFydGljbGUiLAogICAgdm9sdW1lPSI0MSIsCiAgICBudW1iZXI9IjkiLAogICAgZG9pPSIxMC4xMDAyL3NwZS45NzUiLAogICAgbm90ZT0iY2l0ZWQgQnkgNTAiLAogICAgSUQ9IlBldGVyc2VuMjAxMTk3NSIsCikpCgpEQihDaXRhdGlvbigKICAgIHBldGVyc2VuMjAxNWEsIHBldGVyc2VuMjAxMWEsIHJlZj0iIiwKICAgIGNvbnRleHRzPVsKCiAgICBdLAopKQoKJycnLCBjaXRhdGlvbnM9J3BldGVyc2VuMjAxNWEnKTs=\"));\n",
       "    "
      ],
      "text/plain": [
       "<IPython.core.display.Javascript object>"
      ]
     },
     "metadata": {},
     "output_type": "display_data"
    },
    {
     "data": {
      "application/javascript": [
       "$('span:contains(\"# Temp\")').closest('.cell').remove();"
      ],
      "text/plain": [
       "<IPython.core.display.Javascript object>"
      ]
     },
     "metadata": {},
     "output_type": "display_data"
    },
    {
     "data": {
      "application/javascript": [
       "\n",
       "        $('span:contains(\"# Temp\")').closest('.cell').remove();\n",
       "        var code = IPython.notebook.insert_cell_below('code');\n",
       "        code.set_text(atob(\"IyBUZW1wCmluc2VydCgnJycKcGV0ZXJzZW4yMDExYSA9IERCKFdvcmsoCiAgICAyMDExLCAiTWVhc3VyaW5nIHRoZSBmbG93IGluIGxlYW4gc29mdHdhcmUgZGV2ZWxvcG1lbnQiLAogICAgZGlzcGxheT0icGV0ZXJzZW4iLAogICAgYXV0aG9ycz0iUGV0ZXJzZW4sIEsuIGFuZCBXb2hsaW4sIEMuIiwKICAgIHBwPSI5NzUtOTk2IiwKICAgIHBsYWNlMT0iU29mdHdhcmUgLSBQcmFjdGljZSBhbmQgRXhwZXJpZW5jZSIsCiAgICBlbnRyeXR5cGU9ImFydGljbGUiLAogICAgdm9sdW1lPSI0MSIsCiAgICBudW1iZXI9IjkiLAogICAgZG9pPSIxMC4xMDAyL3NwZS45NzUiLAogICAgbm90ZT0iY2l0ZWQgQnkgNTAiLAogICAgSUQ9IlBldGVyc2VuMjAxMTk3NSIsCikpCgpEQihDaXRhdGlvbigKICAgIHBldGVyc2VuMjAxNWEsIHBldGVyc2VuMjAxMWEsIHJlZj0iIiwKICAgIGNvbnRleHRzPVsKCiAgICBdLAopKQoKJycnLCBjaXRhdGlvbnM9J3BldGVyc2VuMjAxNWEnKTs=\"));\n",
       "    "
      ],
      "text/plain": [
       "<IPython.core.display.Javascript object>"
      ]
     },
     "metadata": {},
     "output_type": "display_data"
    },
    {
     "data": {
      "application/javascript": [
       "$('span:contains(\"# Temp\")').closest('.cell').remove();"
      ],
      "text/plain": [
       "<IPython.core.display.Javascript object>"
      ]
     },
     "metadata": {},
     "output_type": "display_data"
    },
    {
     "data": {
      "application/javascript": [
       "\n",
       "        $('span:contains(\"# Temp\")').closest('.cell').remove();\n",
       "        var code = IPython.notebook.insert_cell_below('code');\n",
       "        code.set_text(atob(\"IyBUZW1wCmluc2VydCgnJycKcG9wcGVuZGllY2syMDAzYSA9IERCKFdvcmsoCiAgICAyMDAzLCAiTGVhbiBzb2Z0d2FyZSBkZXZlbG9wbWVudDogYW4gYWdpbGUgdG9vbGtpdCIsCiAgICBkaXNwbGF5PSJwb3BwZW5kaWVjayIsCiAgICBhdXRob3JzPSJQb3BwZW5kaWVjaywgTS4gYW5kIFBvcHBlbmRpZWNrLCBULiIsCiAgICBwbGFjZTE9IkFkZGlzb24tV2VzbGV5IFByb2Zlc3Npb25hbCIsCiAgICBlbnRyeXR5cGU9ImFydGljbGUiLAogICAgbm90ZT0iY2l0ZWQgQnkgNiIsCiAgICBJRD0iUG9wcGVuZGllY2syMDAzIiwKKSkKCkRCKENpdGF0aW9uKAogICAgcGV0ZXJzZW4yMDE1YSwgcG9wcGVuZGllY2syMDAzYSwgcmVmPSIiLAogICAgY29udGV4dHM9WwoKICAgIF0sCikpCgonJycsIGNpdGF0aW9ucz0ncGV0ZXJzZW4yMDE1YScpOw==\"));\n",
       "    "
      ],
      "text/plain": [
       "<IPython.core.display.Javascript object>"
      ]
     },
     "metadata": {},
     "output_type": "display_data"
    },
    {
     "data": {
      "application/javascript": [
       "$('span:contains(\"# Temp\")').closest('.cell').remove();"
      ],
      "text/plain": [
       "<IPython.core.display.Javascript object>"
      ]
     },
     "metadata": {},
     "output_type": "display_data"
    },
    {
     "data": {
      "application/javascript": [
       "\n",
       "        $('span:contains(\"# Temp\")').closest('.cell').remove();\n",
       "        var code = IPython.notebook.insert_cell_below('code');\n",
       "        code.set_text(atob(\"IyBUZW1wCmluc2VydCgnJycKcG9wcGVuZGllY2syMDAzYSA9IERCKFdvcmsoCiAgICAyMDAzLCAiTGVhbiBzb2Z0d2FyZSBkZXZlbG9wbWVudDogYW4gYWdpbGUgdG9vbGtpdCIsCiAgICBkaXNwbGF5PSJwb3BwZW5kaWVjayIsCiAgICBhdXRob3JzPSJQb3BwZW5kaWVjaywgTS4gYW5kIFBvcHBlbmRpZWNrLCBULiIsCiAgICBwbGFjZTE9IkFkZGlzb24tV2VzbGV5IFByb2Zlc3Npb25hbCIsCiAgICBlbnRyeXR5cGU9ImFydGljbGUiLAogICAgbm90ZT0iY2l0ZWQgQnkgNiIsCiAgICBJRD0iUG9wcGVuZGllY2syMDAzIiwKKSkKCkRCKENpdGF0aW9uKAogICAgcGV0ZXJzZW4yMDE1YSwgcG9wcGVuZGllY2syMDAzYSwgcmVmPSIiLAogICAgY29udGV4dHM9WwoKICAgIF0sCikpCgonJycsIGNpdGF0aW9ucz0ncGV0ZXJzZW4yMDE1YScpOw==\"));\n",
       "    "
      ],
      "text/plain": [
       "<IPython.core.display.Javascript object>"
      ]
     },
     "metadata": {},
     "output_type": "display_data"
    },
    {
     "data": {
      "application/javascript": [
       "$('span:contains(\"# Temp\")').closest('.cell').remove();"
      ],
      "text/plain": [
       "<IPython.core.display.Javascript object>"
      ]
     },
     "metadata": {},
     "output_type": "display_data"
    },
    {
     "data": {
      "application/javascript": [
       "\n",
       "        $('span:contains(\"# Temp\")').closest('.cell').remove();\n",
       "        var code = IPython.notebook.insert_cell_below('code');\n",
       "        code.set_text(atob(\"IyBUZW1wCmluc2VydCgnJycKcnVuZXNvbjIwMDlhID0gREIoV29yaygKICAgIDIwMDksICJHdWlkZWxpbmVzIGZvciBjb25kdWN0aW5nIGFuZCByZXBvcnRpbmcgY2FzZSBzdHVkeSByZXNlYXJjaCBpbiBzb2Z0d2FyZSBlbmdpbmVlcmluZyIsCiAgICBkaXNwbGF5PSJydW5lc29uIiwKICAgIGF1dGhvcnM9IlJ1bmVzb24sIFAuIGFuZCBI9nN0LCBNLiIsCiAgICBwbGFjZT1FU0UsCiAgICBwcD0iMTMxLTE2NCIsCiAgICBlbnRyeXR5cGU9ImFydGljbGUiLAogICAgdm9sdW1lPSIxNCIsCiAgICBudW1iZXI9IjIiLAogICAgZG9pPSIxMC4xMDA3L3MxMDY2NC0wMDgtOTEwMi04IiwKICAgIG5vdGU9ImNpdGVkIEJ5IDEwNjIiLAogICAgSUQ9IlJ1bmVzb24yMDA5MTMxIiwKKSkKCkRCKENpdGF0aW9uKAogICAgcGV0ZXJzZW4yMDE1YSwgcnVuZXNvbjIwMDlhLCByZWY9IiIsCiAgICBjb250ZXh0cz1bCgogICAgXSwKKSkKCicnJywgY2l0YXRpb25zPSdwZXRlcnNlbjIwMTVhJyk7\"));\n",
       "    "
      ],
      "text/plain": [
       "<IPython.core.display.Javascript object>"
      ]
     },
     "metadata": {},
     "output_type": "display_data"
    },
    {
     "data": {
      "application/javascript": [
       "$('span:contains(\"# Temp\")').closest('.cell').remove();"
      ],
      "text/plain": [
       "<IPython.core.display.Javascript object>"
      ]
     },
     "metadata": {},
     "output_type": "display_data"
    },
    {
     "data": {
      "application/javascript": [
       "\n",
       "        $('span:contains(\"# Temp\")').closest('.cell').remove();\n",
       "        var code = IPython.notebook.insert_cell_below('code');\n",
       "        code.set_text(atob(\"IyBUZW1wCmluc2VydCgnJycKcnVuZXNvbjIwMDlhID0gREIoV29yaygKICAgIDIwMDksICJHdWlkZWxpbmVzIGZvciBjb25kdWN0aW5nIGFuZCByZXBvcnRpbmcgY2FzZSBzdHVkeSByZXNlYXJjaCBpbiBzb2Z0d2FyZSBlbmdpbmVlcmluZyIsCiAgICBkaXNwbGF5PSJydW5lc29uIiwKICAgIGF1dGhvcnM9IlJ1bmVzb24sIFAuIGFuZCBI9nN0LCBNLiIsCiAgICBwbGFjZT1FU0UsCiAgICBwcD0iMTMxLTE2NCIsCiAgICBlbnRyeXR5cGU9ImFydGljbGUiLAogICAgdm9sdW1lPSIxNCIsCiAgICBudW1iZXI9IjIiLAogICAgZG9pPSIxMC4xMDA3L3MxMDY2NC0wMDgtOTEwMi04IiwKICAgIG5vdGU9ImNpdGVkIEJ5IDEwNjIiLAogICAgSUQ9IlJ1bmVzb24yMDA5MTMxIiwKKSkKCkRCKENpdGF0aW9uKAogICAgcGV0ZXJzZW4yMDE1YSwgcnVuZXNvbjIwMDlhLCByZWY9IiIsCiAgICBjb250ZXh0cz1bCgogICAgXSwKKSkKCicnJywgY2l0YXRpb25zPSdwZXRlcnNlbjIwMTVhJyk7\"));\n",
       "    "
      ],
      "text/plain": [
       "<IPython.core.display.Javascript object>"
      ]
     },
     "metadata": {},
     "output_type": "display_data"
    },
    {
     "data": {
      "application/javascript": [
       "$('span:contains(\"# Temp\")').closest('.cell').remove();"
      ],
      "text/plain": [
       "<IPython.core.display.Javascript object>"
      ]
     },
     "metadata": {},
     "output_type": "display_data"
    },
    {
     "data": {
      "application/javascript": [
       "\n",
       "        $('span:contains(\"# Temp\")').closest('.cell').remove();\n",
       "        var code = IPython.notebook.insert_cell_below('code');\n",
       "        code.set_text(atob(\"IyBUZW1wCmluc2VydCgnJycKcnVuZXNvbjIwMTJhID0gREIoV29yaygKICAgIDIwMTIsICJDYXNlIFN0dWR5IFJlc2VhcmNoIGluIFNvZnR3YXJlIEVuZ2luZWVyaW5nOiBHdWlkZWxpbmVzIGFuZCBFeGFtcGxlcyIsCiAgICBkaXNwbGF5PSJydW5lc29uIiwKICAgIGF1dGhvcnM9IlJ1bmVzb24sIFAuIGFuZCBI9nN0LCBNLiBhbmQgUmFpbmVyLCBBLiBhbmQgUmVnbmVsbCwgQi4iLAogICAgcGxhY2U9Qm9vaywKICAgIGVudHJ5dHlwZT0iYm9vayIsCiAgICBwYWdlX2NvdW50PSIyMzciLAogICAgZG9pPSIxMC4xMDAyLzk3ODExMTgxODEwMzQiLAogICAgbm90ZT0iY2l0ZWQgQnkgMzA1IiwKICAgIElEPSJSdW5lc29uMjAxMiIsCikpCgpEQihDaXRhdGlvbigKICAgIHBldGVyc2VuMjAxNWEsIHJ1bmVzb24yMDEyYSwgcmVmPSIiLAogICAgY29udGV4dHM9WwoKICAgIF0sCikpCgonJycsIGNpdGF0aW9ucz0ncGV0ZXJzZW4yMDE1YScpOw==\"));\n",
       "    "
      ],
      "text/plain": [
       "<IPython.core.display.Javascript object>"
      ]
     },
     "metadata": {},
     "output_type": "display_data"
    },
    {
     "data": {
      "application/javascript": [
       "$('span:contains(\"# Temp\")').closest('.cell').remove();"
      ],
      "text/plain": [
       "<IPython.core.display.Javascript object>"
      ]
     },
     "metadata": {},
     "output_type": "display_data"
    },
    {
     "data": {
      "application/javascript": [
       "\n",
       "        $('span:contains(\"# Temp\")').closest('.cell').remove();\n",
       "        var code = IPython.notebook.insert_cell_below('code');\n",
       "        code.set_text(atob(\"IyBUZW1wCmluc2VydCgnJycKcnVuZXNvbjIwMTJhID0gREIoV29yaygKICAgIDIwMTIsICJDYXNlIFN0dWR5IFJlc2VhcmNoIGluIFNvZnR3YXJlIEVuZ2luZWVyaW5nOiBHdWlkZWxpbmVzIGFuZCBFeGFtcGxlcyIsCiAgICBkaXNwbGF5PSJydW5lc29uIiwKICAgIGF1dGhvcnM9IlJ1bmVzb24sIFAuIGFuZCBI9nN0LCBNLiBhbmQgUmFpbmVyLCBBLiBhbmQgUmVnbmVsbCwgQi4iLAogICAgcGxhY2U9Qm9vaywKICAgIGVudHJ5dHlwZT0iYm9vayIsCiAgICBwYWdlX2NvdW50PSIyMzciLAogICAgZG9pPSIxMC4xMDAyLzk3ODExMTgxODEwMzQiLAogICAgbm90ZT0iY2l0ZWQgQnkgMzA1IiwKICAgIElEPSJSdW5lc29uMjAxMiIsCikpCgpEQihDaXRhdGlvbigKICAgIHBldGVyc2VuMjAxNWEsIHJ1bmVzb24yMDEyYSwgcmVmPSIiLAogICAgY29udGV4dHM9WwoKICAgIF0sCikpCgonJycsIGNpdGF0aW9ucz0ncGV0ZXJzZW4yMDE1YScpOw==\"));\n",
       "    "
      ],
      "text/plain": [
       "<IPython.core.display.Javascript object>"
      ]
     },
     "metadata": {},
     "output_type": "display_data"
    },
    {
     "data": {
      "application/javascript": [
       "$('span:contains(\"# Temp\")').closest('.cell').remove();"
      ],
      "text/plain": [
       "<IPython.core.display.Javascript object>"
      ]
     },
     "metadata": {},
     "output_type": "display_data"
    },
    {
     "data": {
      "application/javascript": [
       "\n",
       "        $('span:contains(\"# Temp\")').closest('.cell').remove();\n",
       "        var code = IPython.notebook.insert_cell_below('code');\n",
       "        code.set_text(atob(\"IyBUZW1wCmluc2VydCgnJycKc2FyY2lhMjAxMGEgPSBEQihXb3JrKAogICAgMjAxMCwgIklzIEdRTStzdHJhdGVnaWVzIHJlYWxseSBhcHBsaWNhYmxlIGFzIGlzIHRvIG5vbi1zb2Z0d2FyZSBkZXZlbG9wbWVudCBkb21haW5zPyIsCiAgICBkaXNwbGF5PSJzYXJjaWEiLAogICAgYXV0aG9ycz0iU2FyY2lhJywgUy5BLiIsCiAgICBwbGFjZT1FU0VNLAogICAgZW50cnl0eXBlPSJjb25mZXJlbmNlIiwKICAgIGRvaT0iMTAuMTE0NS8xODUyNzg2LjE4NTI4NDQiLAogICAgYXJ0X251bWJlcj0iMTg1Mjg0NCIsCiAgICBub3RlPSJjaXRlZCBCeSAxMCIsCiAgICBJRD0iU2FyY2lhJzIwMTAiLAopKQoKREIoQ2l0YXRpb24oCiAgICBwZXRlcnNlbjIwMTVhLCBzYXJjaWEyMDEwYSwgcmVmPSIiLAogICAgY29udGV4dHM9WwoKICAgIF0sCikpCgonJycsIGNpdGF0aW9ucz0ncGV0ZXJzZW4yMDE1YScpOw==\"));\n",
       "    "
      ],
      "text/plain": [
       "<IPython.core.display.Javascript object>"
      ]
     },
     "metadata": {},
     "output_type": "display_data"
    },
    {
     "data": {
      "application/javascript": [
       "$('span:contains(\"# Temp\")').closest('.cell').remove();"
      ],
      "text/plain": [
       "<IPython.core.display.Javascript object>"
      ]
     },
     "metadata": {},
     "output_type": "display_data"
    },
    {
     "data": {
      "application/javascript": [
       "\n",
       "        $('span:contains(\"# Temp\")').closest('.cell').remove();\n",
       "        var code = IPython.notebook.insert_cell_below('code');\n",
       "        code.set_text(atob(\"IyBUZW1wCmluc2VydCgnJycKc2FyY2lhMjAxMGEgPSBEQihXb3JrKAogICAgMjAxMCwgIklzIEdRTStzdHJhdGVnaWVzIHJlYWxseSBhcHBsaWNhYmxlIGFzIGlzIHRvIG5vbi1zb2Z0d2FyZSBkZXZlbG9wbWVudCBkb21haW5zPyIsCiAgICBkaXNwbGF5PSJzYXJjaWEiLAogICAgYXV0aG9ycz0iU2FyY2lhJywgUy5BLiIsCiAgICBwbGFjZT1FU0VNLAogICAgZW50cnl0eXBlPSJjb25mZXJlbmNlIiwKICAgIGRvaT0iMTAuMTE0NS8xODUyNzg2LjE4NTI4NDQiLAogICAgYXJ0X251bWJlcj0iMTg1Mjg0NCIsCiAgICBub3RlPSJjaXRlZCBCeSAxMCIsCiAgICBJRD0iU2FyY2lhJzIwMTAiLAopKQoKREIoQ2l0YXRpb24oCiAgICBwZXRlcnNlbjIwMTVhLCBzYXJjaWEyMDEwYSwgcmVmPSIiLAogICAgY29udGV4dHM9WwoKICAgIF0sCikpCgonJycsIGNpdGF0aW9ucz0ncGV0ZXJzZW4yMDE1YScpOw==\"));\n",
       "    "
      ],
      "text/plain": [
       "<IPython.core.display.Javascript object>"
      ]
     },
     "metadata": {},
     "output_type": "display_data"
    },
    {
     "data": {
      "application/javascript": [
       "$('span:contains(\"# Temp\")').closest('.cell').remove();"
      ],
      "text/plain": [
       "<IPython.core.display.Javascript object>"
      ]
     },
     "metadata": {},
     "output_type": "display_data"
    },
    {
     "data": {
      "application/javascript": [
       "\n",
       "        $('span:contains(\"# Temp\")').closest('.cell').remove();\n",
       "        var code = IPython.notebook.insert_cell_below('code');\n",
       "        code.set_text(atob(\"IyBUZW1wCmluc2VydCgnJycKc2Nob2x0ZXMyMDAzYSA9IERCKFdvcmsoCiAgICAyMDAzLCAiU3RyZWliZWwgQkoiLAogICAgZGlzcGxheT0ic2Nob2x0ZXMiLAogICAgYXV0aG9ycz0iU2Nob2x0ZXMsIFAuUi4gYW5kIEpvaW5lciwgQi5MLiIsCiAgICBwbGFjZTE9IlRoZSB0ZWFtIGhhbmRib29rIiwKICAgIGVudHJ5dHlwZT0iYXJ0aWNsZSIsCiAgICBub3RlPSJjaXRlZCBCeSAxIiwKICAgIElEPSJTY2hvbHRlczIwMDMiLAopKQoKREIoQ2l0YXRpb24oCiAgICBwZXRlcnNlbjIwMTVhLCBzY2hvbHRlczIwMDNhLCByZWY9IiIsCiAgICBjb250ZXh0cz1bCgogICAgXSwKKSkKCicnJywgY2l0YXRpb25zPSdwZXRlcnNlbjIwMTVhJyk7\"));\n",
       "    "
      ],
      "text/plain": [
       "<IPython.core.display.Javascript object>"
      ]
     },
     "metadata": {},
     "output_type": "display_data"
    },
    {
     "data": {
      "application/javascript": [
       "$('span:contains(\"# Temp\")').closest('.cell').remove();"
      ],
      "text/plain": [
       "<IPython.core.display.Javascript object>"
      ]
     },
     "metadata": {},
     "output_type": "display_data"
    },
    {
     "data": {
      "application/javascript": [
       "\n",
       "        $('span:contains(\"# Temp\")').closest('.cell').remove();\n",
       "        var code = IPython.notebook.insert_cell_below('code');\n",
       "        code.set_text(atob(\"IyBUZW1wCmluc2VydCgnJycKc2Nob2x0ZXMyMDAzYSA9IERCKFdvcmsoCiAgICAyMDAzLCAiU3RyZWliZWwgQkoiLAogICAgZGlzcGxheT0ic2Nob2x0ZXMiLAogICAgYXV0aG9ycz0iU2Nob2x0ZXMsIFAuUi4gYW5kIEpvaW5lciwgQi5MLiIsCiAgICBwbGFjZTE9IlRoZSB0ZWFtIGhhbmRib29rIiwKICAgIGVudHJ5dHlwZT0iYXJ0aWNsZSIsCiAgICBub3RlPSJjaXRlZCBCeSAxIiwKICAgIElEPSJTY2hvbHRlczIwMDMiLAopKQoKREIoQ2l0YXRpb24oCiAgICBwZXRlcnNlbjIwMTVhLCBzY2hvbHRlczIwMDNhLCByZWY9IiIsCiAgICBjb250ZXh0cz1bCgogICAgXSwKKSkKCicnJywgY2l0YXRpb25zPSdwZXRlcnNlbjIwMTVhJyk7\"));\n",
       "    "
      ],
      "text/plain": [
       "<IPython.core.display.Javascript object>"
      ]
     },
     "metadata": {},
     "output_type": "display_data"
    },
    {
     "data": {
      "application/javascript": [
       "$('span:contains(\"# Temp\")').closest('.cell').remove();"
      ],
      "text/plain": [
       "<IPython.core.display.Javascript object>"
      ]
     },
     "metadata": {},
     "output_type": "display_data"
    },
    {
     "data": {
      "application/javascript": [
       "\n",
       "        $('span:contains(\"# Temp\")').closest('.cell').remove();\n",
       "        var code = IPython.notebook.insert_cell_below('code');\n",
       "        code.set_text(atob(\"IyBUZW1wCmluc2VydCgnJycKdGFoaXIyMDExYSA9IERCKFdvcmsoCiAgICAyMDExLCAiQSBzeXN0ZW1hdGljIHJldmlldyBvbiBzb2Z0d2FyZSBtZWFzdXJlbWVudCBwcm9ncmFtcy4gSW46IFByb2NlZWRpbmdzIG9mIGZyb250aWVycyBvZiBpbmZvcm1hdGlvbiB0ZWNobm9sb2d5IChGSVQgMjAxMSkuIElFRUUiLAogICAgZGlzcGxheT0idGFoaXIiLAogICAgYXV0aG9ycz0iVGFoaXIsIFQuIGFuZCBKYWZhciwgQS4iLAogICAgcGxhY2UxPSJwcCAzOZY0NCIsCiAgICBlbnRyeXR5cGU9ImFydGljbGUiLAogICAgbm90ZT0iY2l0ZWQgQnkgMSIsCiAgICBJRD0iVGFoaXIyMDExIiwKKSkKCkRCKENpdGF0aW9uKAogICAgcGV0ZXJzZW4yMDE1YSwgdGFoaXIyMDExYSwgcmVmPSIiLAogICAgY29udGV4dHM9WwoKICAgIF0sCikpCgonJycsIGNpdGF0aW9ucz0ncGV0ZXJzZW4yMDE1YScpOw==\"));\n",
       "    "
      ],
      "text/plain": [
       "<IPython.core.display.Javascript object>"
      ]
     },
     "metadata": {},
     "output_type": "display_data"
    },
    {
     "data": {
      "application/javascript": [
       "$('span:contains(\"# Temp\")').closest('.cell').remove();"
      ],
      "text/plain": [
       "<IPython.core.display.Javascript object>"
      ]
     },
     "metadata": {},
     "output_type": "display_data"
    },
    {
     "data": {
      "application/javascript": [
       "\n",
       "        $('span:contains(\"# Temp\")').closest('.cell').remove();\n",
       "        var code = IPython.notebook.insert_cell_below('code');\n",
       "        code.set_text(atob(\"IyBUZW1wCmluc2VydCgnJycKdGFoaXIyMDExYSA9IERCKFdvcmsoCiAgICAyMDExLCAiQSBzeXN0ZW1hdGljIHJldmlldyBvbiBzb2Z0d2FyZSBtZWFzdXJlbWVudCBwcm9ncmFtcy4gSW46IFByb2NlZWRpbmdzIG9mIGZyb250aWVycyBvZiBpbmZvcm1hdGlvbiB0ZWNobm9sb2d5IChGSVQgMjAxMSkuIElFRUUiLAogICAgZGlzcGxheT0idGFoaXIiLAogICAgYXV0aG9ycz0iVGFoaXIsIFQuIGFuZCBKYWZhciwgQS4iLAogICAgcGxhY2UxPSJwcCAzOZY0NCIsCiAgICBlbnRyeXR5cGU9ImFydGljbGUiLAogICAgbm90ZT0iY2l0ZWQgQnkgMSIsCiAgICBJRD0iVGFoaXIyMDExIiwKKSkKCkRCKENpdGF0aW9uKAogICAgcGV0ZXJzZW4yMDE1YSwgdGFoaXIyMDExYSwgcmVmPSIiLAogICAgY29udGV4dHM9WwoKICAgIF0sCikpCgonJycsIGNpdGF0aW9ucz0ncGV0ZXJzZW4yMDE1YScpOw==\"));\n",
       "    "
      ],
      "text/plain": [
       "<IPython.core.display.Javascript object>"
      ]
     },
     "metadata": {},
     "output_type": "display_data"
    },
    {
     "data": {
      "application/javascript": [
       "$('span:contains(\"# Temp\")').closest('.cell').remove();"
      ],
      "text/plain": [
       "<IPython.core.display.Javascript object>"
      ]
     },
     "metadata": {},
     "output_type": "display_data"
    },
    {
     "data": {
      "application/javascript": [
       "\n",
       "        $('span:contains(\"# Temp\")').closest('.cell').remove();\n",
       "        var code = IPython.notebook.insert_cell_below('code');\n",
       "        code.set_text(atob(\"IyBUZW1wCmluc2VydCgnJycKdHJlbmRvd2ljejIwMTFhID0gREIoV29yaygKICAgIDIwMTEsICJBbGlnbmluZyBzb2Z0d2FyZSBwcm9qZWN0cyB3aXRoIGJ1c2luZXNzIG9iamVjdGl2ZXMiLAogICAgZGlzcGxheT0idHJlbmRvd2ljeiIsCiAgICBhdXRob3JzPSJUcmVuZG93aWN6LCBBLiBhbmQgSGVpZHJpY2gsIEouIGFuZCBTaGludGFuaSwgSy4iLAogICAgcHA9IjE0Mi0xNTAiLAogICAgcGxhY2UxPSJQcm9jZWVkaW5ncyAtIEpvaW50IENvbmZlcmVuY2Ugb2YgdGhlIDIxc3QgSW50ZXJuYXRpb25hbCBXb3Jrc2hvcCBvbiBTb2Z0d2FyZSBNZWFzdXJlbWVudCwgSVdTTSAyMDExIGFuZCB0aGUgNnRoIEludGVybmF0aW9uYWwgQ29uZmVyZW5jZSBvbiBTb2Z0d2FyZSBQcm9jZXNzIGFuZCBQcm9kdWN0IE1lYXN1cmVtZW50LCBNRU5TVVJBIDIwMTEiLAogICAgZW50cnl0eXBlPSJjb25mZXJlbmNlIiwKICAgIGRvaT0iMTAuMTEwOS9JV1NNLU1FTlNVUkEuMjAxMS4yMCIsCiAgICBhcnRfbnVtYmVyPSI2MTEzMDU0IiwKICAgIG5vdGU9ImNpdGVkIEJ5IDExIiwKICAgIElEPSJUcmVuZG93aWN6MjAxMTE0MiIsCikpCgpEQihDaXRhdGlvbigKICAgIHBldGVyc2VuMjAxNWEsIHRyZW5kb3dpY3oyMDExYSwgcmVmPSIiLAogICAgY29udGV4dHM9WwoKICAgIF0sCikpCgonJycsIGNpdGF0aW9ucz0ncGV0ZXJzZW4yMDE1YScpOw==\"));\n",
       "    "
      ],
      "text/plain": [
       "<IPython.core.display.Javascript object>"
      ]
     },
     "metadata": {},
     "output_type": "display_data"
    },
    {
     "data": {
      "application/javascript": [
       "$('span:contains(\"# Temp\")').closest('.cell').remove();"
      ],
      "text/plain": [
       "<IPython.core.display.Javascript object>"
      ]
     },
     "metadata": {},
     "output_type": "display_data"
    },
    {
     "data": {
      "application/javascript": [
       "\n",
       "        $('span:contains(\"# Temp\")').closest('.cell').remove();\n",
       "        var code = IPython.notebook.insert_cell_below('code');\n",
       "        code.set_text(atob(\"IyBUZW1wCmluc2VydCgnJycKdHJlbmRvd2ljejIwMTFhID0gREIoV29yaygKICAgIDIwMTEsICJBbGlnbmluZyBzb2Z0d2FyZSBwcm9qZWN0cyB3aXRoIGJ1c2luZXNzIG9iamVjdGl2ZXMiLAogICAgZGlzcGxheT0idHJlbmRvd2ljeiIsCiAgICBhdXRob3JzPSJUcmVuZG93aWN6LCBBLiBhbmQgSGVpZHJpY2gsIEouIGFuZCBTaGludGFuaSwgSy4iLAogICAgcHA9IjE0Mi0xNTAiLAogICAgcGxhY2UxPSJQcm9jZWVkaW5ncyAtIEpvaW50IENvbmZlcmVuY2Ugb2YgdGhlIDIxc3QgSW50ZXJuYXRpb25hbCBXb3Jrc2hvcCBvbiBTb2Z0d2FyZSBNZWFzdXJlbWVudCwgSVdTTSAyMDExIGFuZCB0aGUgNnRoIEludGVybmF0aW9uYWwgQ29uZmVyZW5jZSBvbiBTb2Z0d2FyZSBQcm9jZXNzIGFuZCBQcm9kdWN0IE1lYXN1cmVtZW50LCBNRU5TVVJBIDIwMTEiLAogICAgZW50cnl0eXBlPSJjb25mZXJlbmNlIiwKICAgIGRvaT0iMTAuMTEwOS9JV1NNLU1FTlNVUkEuMjAxMS4yMCIsCiAgICBhcnRfbnVtYmVyPSI2MTEzMDU0IiwKICAgIG5vdGU9ImNpdGVkIEJ5IDExIiwKICAgIElEPSJUcmVuZG93aWN6MjAxMTE0MiIsCikpCgpEQihDaXRhdGlvbigKICAgIHBldGVyc2VuMjAxNWEsIHRyZW5kb3dpY3oyMDExYSwgcmVmPSIiLAogICAgY29udGV4dHM9WwoKICAgIF0sCikpCgonJycsIGNpdGF0aW9ucz0ncGV0ZXJzZW4yMDE1YScpOw==\"));\n",
       "    "
      ],
      "text/plain": [
       "<IPython.core.display.Javascript object>"
      ]
     },
     "metadata": {},
     "output_type": "display_data"
    },
    {
     "data": {
      "application/javascript": [
       "$('span:contains(\"# Temp\")').closest('.cell').remove();"
      ],
      "text/plain": [
       "<IPython.core.display.Javascript object>"
      ]
     },
     "metadata": {},
     "output_type": "display_data"
    },
    {
     "data": {
      "application/javascript": [
       "\n",
       "        $('span:contains(\"# Temp\")').closest('.cell').remove();\n",
       "        var code = IPython.notebook.insert_cell_below('code');\n",
       "        code.set_text(atob(\"IyBUZW1wCmluc2VydCgnJycKbGluZGVuMjAwN2EgPSBEQihXb3JrKAogICAgMjAwNywgIlNvZnR3YXJlIHByb2R1Y3QgbGluZXMgaW4gYWN0aW9uIiwKICAgIGRpc3BsYXk9ImxpbmRlbiIsCiAgICBhdXRob3JzPSJ2YW4gZGVyIExpbmRlbiwgRi5KLiBhbmQgU2NobWlkLCBLLiBhbmQgUm9tbWVzLCBFLiIsCiAgICBwbGFjZTE9IlNwcmluZ2VyIiwKICAgIGVudHJ5dHlwZT0iYXJ0aWNsZSIsCiAgICBub3RlPSJjaXRlZCBCeSAxIiwKICAgIElEPSJ2YW5kZXJMaW5kZW4yMDA3IiwKKSkKCkRCKENpdGF0aW9uKAogICAgcGV0ZXJzZW4yMDE1YSwgbGluZGVuMjAwN2EsIHJlZj0iIiwKICAgIGNvbnRleHRzPVsKCiAgICBdLAopKQoKJycnLCBjaXRhdGlvbnM9J3BldGVyc2VuMjAxNWEnKTs=\"));\n",
       "    "
      ],
      "text/plain": [
       "<IPython.core.display.Javascript object>"
      ]
     },
     "metadata": {},
     "output_type": "display_data"
    },
    {
     "data": {
      "application/javascript": [
       "$('span:contains(\"# Temp\")').closest('.cell').remove();"
      ],
      "text/plain": [
       "<IPython.core.display.Javascript object>"
      ]
     },
     "metadata": {},
     "output_type": "display_data"
    },
    {
     "data": {
      "application/javascript": [
       "\n",
       "        $('span:contains(\"# Temp\")').closest('.cell').remove();\n",
       "        var code = IPython.notebook.insert_cell_below('code');\n",
       "        code.set_text(atob(\"IyBUZW1wCmluc2VydCgnJycKbGluZGVuMjAwN2EgPSBEQihXb3JrKAogICAgMjAwNywgIlNvZnR3YXJlIHByb2R1Y3QgbGluZXMgaW4gYWN0aW9uIiwKICAgIGRpc3BsYXk9ImxpbmRlbiIsCiAgICBhdXRob3JzPSJ2YW4gZGVyIExpbmRlbiwgRi5KLiBhbmQgU2NobWlkLCBLLiBhbmQgUm9tbWVzLCBFLiIsCiAgICBwbGFjZTE9IlNwcmluZ2VyIiwKICAgIGVudHJ5dHlwZT0iYXJ0aWNsZSIsCiAgICBub3RlPSJjaXRlZCBCeSAxIiwKICAgIElEPSJ2YW5kZXJMaW5kZW4yMDA3IiwKKSkKCkRCKENpdGF0aW9uKAogICAgcGV0ZXJzZW4yMDE1YSwgbGluZGVuMjAwN2EsIHJlZj0iIiwKICAgIGNvbnRleHRzPVsKCiAgICBdLAopKQoKJycnLCBjaXRhdGlvbnM9J3BldGVyc2VuMjAxNWEnKTs=\"));\n",
       "    "
      ],
      "text/plain": [
       "<IPython.core.display.Javascript object>"
      ]
     },
     "metadata": {},
     "output_type": "display_data"
    },
    {
     "data": {
      "application/javascript": [
       "$('span:contains(\"# Temp\")').closest('.cell').remove();"
      ],
      "text/plain": [
       "<IPython.core.display.Javascript object>"
      ]
     },
     "metadata": {},
     "output_type": "display_data"
    },
    {
     "data": {
      "application/javascript": [
       "\n",
       "        $('span:contains(\"# Temp\")').closest('.cell').remove();\n",
       "        var code = IPython.notebook.insert_cell_below('code');\n",
       "        code.set_text(atob(\"IyBUZW1wCmluc2VydCgnJycKbGF0dW0xOTk4YSA9IERCKFdvcmsoCiAgICAxOTk4LCAiQWRvcHRpbmcgR1FNIC0gQmFzZWQgbWVhc3VyZW1lbnQgaW4gYW4gaW5kdXN0cmlhbCBlbnZpcm9ubWVudCIsCiAgICBkaXNwbGF5PSJsYXR1bSIsCiAgICBhdXRob3JzPSJWYW4gTGF0dW0sIEYuIGFuZCBWYW4gU29saW5nZW4sIFIuIGFuZCBPaXZvLCBNLiBhbmQgSG9pc2wsIEIuIGFuZCBSb21iYWNoLCBELiBhbmQgUnVoZSwgRy4iLAogICAgcGxhY2U9SUVFRVMsCiAgICBwcD0iNzgtODUiLAogICAgZW50cnl0eXBlPSJhcnRpY2xlIiwKICAgIHZvbHVtZT0iMTUiLAogICAgbnVtYmVyPSIxIiwKICAgIGRvaT0iMTAuMTEwOS81Mi42NDY4ODciLAogICAgbm90ZT0iY2l0ZWQgQnkgNTUiLAogICAgSUQ9IlZhbkxhdHVtMTk5ODc4IiwKKSkKCkRCKENpdGF0aW9uKAogICAgcGV0ZXJzZW4yMDE1YSwgbGF0dW0xOTk4YSwgcmVmPSIiLAogICAgY29udGV4dHM9WwoKICAgIF0sCikpCgonJycsIGNpdGF0aW9ucz0ncGV0ZXJzZW4yMDE1YScpOw==\"));\n",
       "    "
      ],
      "text/plain": [
       "<IPython.core.display.Javascript object>"
      ]
     },
     "metadata": {},
     "output_type": "display_data"
    },
    {
     "data": {
      "application/javascript": [
       "$('span:contains(\"# Temp\")').closest('.cell').remove();"
      ],
      "text/plain": [
       "<IPython.core.display.Javascript object>"
      ]
     },
     "metadata": {},
     "output_type": "display_data"
    },
    {
     "data": {
      "application/javascript": [
       "\n",
       "        $('span:contains(\"# Temp\")').closest('.cell').remove();\n",
       "        var code = IPython.notebook.insert_cell_below('code');\n",
       "        code.set_text(atob(\"IyBUZW1wCmluc2VydCgnJycKbGF0dW0xOTk4YSA9IERCKFdvcmsoCiAgICAxOTk4LCAiQWRvcHRpbmcgR1FNIC0gQmFzZWQgbWVhc3VyZW1lbnQgaW4gYW4gaW5kdXN0cmlhbCBlbnZpcm9ubWVudCIsCiAgICBkaXNwbGF5PSJsYXR1bSIsCiAgICBhdXRob3JzPSJWYW4gTGF0dW0sIEYuIGFuZCBWYW4gU29saW5nZW4sIFIuIGFuZCBPaXZvLCBNLiBhbmQgSG9pc2wsIEIuIGFuZCBSb21iYWNoLCBELiBhbmQgUnVoZSwgRy4iLAogICAgcGxhY2U9SUVFRVMsCiAgICBwcD0iNzgtODUiLAogICAgZW50cnl0eXBlPSJhcnRpY2xlIiwKICAgIHZvbHVtZT0iMTUiLAogICAgbnVtYmVyPSIxIiwKICAgIGRvaT0iMTAuMTEwOS81Mi42NDY4ODciLAogICAgbm90ZT0iY2l0ZWQgQnkgNTUiLAogICAgSUQ9IlZhbkxhdHVtMTk5ODc4IiwKKSkKCkRCKENpdGF0aW9uKAogICAgcGV0ZXJzZW4yMDE1YSwgbGF0dW0xOTk4YSwgcmVmPSIiLAogICAgY29udGV4dHM9WwoKICAgIF0sCikpCgonJycsIGNpdGF0aW9ucz0ncGV0ZXJzZW4yMDE1YScpOw==\"));\n",
       "    "
      ],
      "text/plain": [
       "<IPython.core.display.Javascript object>"
      ]
     },
     "metadata": {},
     "output_type": "display_data"
    },
    {
     "data": {
      "application/javascript": [
       "$('span:contains(\"# Temp\")').closest('.cell').remove();"
      ],
      "text/plain": [
       "<IPython.core.display.Javascript object>"
      ]
     },
     "metadata": {},
     "output_type": "display_data"
    },
    {
     "data": {
      "application/javascript": [
       "\n",
       "        $('span:contains(\"# Temp\")').closest('.cell').remove();\n",
       "        var code = IPython.notebook.insert_cell_below('code');\n",
       "        code.set_text(atob(\"IyBUZW1wCmluc2VydCgnJycKd2lsc29uMjAwMmEgPSBEQihXb3JrKAogICAgMjAwMiwgIkZhY3RvcnMgZm9yIHN1Y2Nlc3MgaW4gY3VzdG9tZXIgcmVsYXRpb25zaGlwIG1hbmFnZW1lbnQgKENSTSkgc3lzdGVtcyIsCiAgICBkaXNwbGF5PSJ3aWxzb24iLAogICAgYXV0aG9ycz0iV2lsc29uLCBILiBhbmQgRGFuaWVsLCBFLiBhbmQgTWNEb25hbGQsIE0uIiwKICAgIHBwPSIxOTMtMjE5IiwKICAgIHBsYWNlMT0iSm91cm5hbCBvZiBNYXJrZXRpbmcgTWFuYWdlbWVudCIsCiAgICBlbnRyeXR5cGU9ImFydGljbGUiLAogICAgdm9sdW1lPSIxOCIsCiAgICBudW1iZXI9IjEtMiIsCiAgICBub3RlPSJjaXRlZCBCeSAxMzQiLAogICAgSUQ9IldpbHNvbjIwMDIxOTMiLAopKQoKREIoQ2l0YXRpb24oCiAgICBwZXRlcnNlbjIwMTVhLCB3aWxzb24yMDAyYSwgcmVmPSIiLAogICAgY29udGV4dHM9WwoKICAgIF0sCikpCgonJycsIGNpdGF0aW9ucz0ncGV0ZXJzZW4yMDE1YScpOw==\"));\n",
       "    "
      ],
      "text/plain": [
       "<IPython.core.display.Javascript object>"
      ]
     },
     "metadata": {},
     "output_type": "display_data"
    },
    {
     "data": {
      "application/javascript": [
       "$('span:contains(\"# Temp\")').closest('.cell').remove();"
      ],
      "text/plain": [
       "<IPython.core.display.Javascript object>"
      ]
     },
     "metadata": {},
     "output_type": "display_data"
    },
    {
     "data": {
      "application/javascript": [
       "\n",
       "        $('span:contains(\"# Temp\")').closest('.cell').remove();\n",
       "        var code = IPython.notebook.insert_cell_below('code');\n",
       "        code.set_text(atob(\"IyBUZW1wCmluc2VydCgnJycKd2lsc29uMjAwMmEgPSBEQihXb3JrKAogICAgMjAwMiwgIkZhY3RvcnMgZm9yIHN1Y2Nlc3MgaW4gY3VzdG9tZXIgcmVsYXRpb25zaGlwIG1hbmFnZW1lbnQgKENSTSkgc3lzdGVtcyIsCiAgICBkaXNwbGF5PSJ3aWxzb24iLAogICAgYXV0aG9ycz0iV2lsc29uLCBILiBhbmQgRGFuaWVsLCBFLiBhbmQgTWNEb25hbGQsIE0uIiwKICAgIHBwPSIxOTMtMjE5IiwKICAgIHBsYWNlMT0iSm91cm5hbCBvZiBNYXJrZXRpbmcgTWFuYWdlbWVudCIsCiAgICBlbnRyeXR5cGU9ImFydGljbGUiLAogICAgdm9sdW1lPSIxOCIsCiAgICBudW1iZXI9IjEtMiIsCiAgICBub3RlPSJjaXRlZCBCeSAxMzQiLAogICAgSUQ9IldpbHNvbjIwMDIxOTMiLAopKQoKREIoQ2l0YXRpb24oCiAgICBwZXRlcnNlbjIwMTVhLCB3aWxzb24yMDAyYSwgcmVmPSIiLAogICAgY29udGV4dHM9WwoKICAgIF0sCikpCgonJycsIGNpdGF0aW9ucz0ncGV0ZXJzZW4yMDE1YScpOw==\"));\n",
       "    "
      ],
      "text/plain": [
       "<IPython.core.display.Javascript object>"
      ]
     },
     "metadata": {},
     "output_type": "display_data"
    },
    {
     "data": {
      "application/javascript": [
       "$('span:contains(\"# Temp\")').closest('.cell').remove();"
      ],
      "text/plain": [
       "<IPython.core.display.Javascript object>"
      ]
     },
     "metadata": {},
     "output_type": "display_data"
    },
    {
     "data": {
      "application/javascript": [
       "\n",
       "        $('span:contains(\"# Temp\")').closest('.cell').remove();\n",
       "        var code = IPython.notebook.insert_cell_below('code');\n",
       "        code.set_text(atob(\"IyBUZW1wCmluc2VydCgnJycKeWluMjAxMWEgPSBEQihXb3JrKAogICAgMjAxMSwgIkFwcGxpY2F0aW9ucyBvZiBjYXNlIHN0dWR5IHJlc2VhcmNoIiwKICAgIGRpc3BsYXk9InlpbiIsCiAgICBhdXRob3JzPSJZaW4sIFIuSy4iLAogICAgcGxhY2UxPSJTYWdlIiwKICAgIGVudHJ5dHlwZT0iYXJ0aWNsZSIsCiAgICBub3RlPSJjaXRlZCBCeSA0IiwKICAgIElEPSJZaW4yMDExIiwKKSkKCkRCKENpdGF0aW9uKAogICAgcGV0ZXJzZW4yMDE1YSwgeWluMjAxMWEsIHJlZj0iIiwKICAgIGNvbnRleHRzPVsKCiAgICBdLAopKQoKJycnLCBjaXRhdGlvbnM9J3BldGVyc2VuMjAxNWEnKTs=\"));\n",
       "    "
      ],
      "text/plain": [
       "<IPython.core.display.Javascript object>"
      ]
     },
     "metadata": {},
     "output_type": "display_data"
    },
    {
     "data": {
      "application/javascript": [
       "$('span:contains(\"# Temp\")').closest('.cell').remove();"
      ],
      "text/plain": [
       "<IPython.core.display.Javascript object>"
      ]
     },
     "metadata": {},
     "output_type": "display_data"
    },
    {
     "data": {
      "application/javascript": [
       "\n",
       "        $('span:contains(\"# Temp\")').closest('.cell').remove();\n",
       "        var code = IPython.notebook.insert_cell_below('code');\n",
       "        code.set_text(atob(\"IyBUZW1wCmluc2VydCgnJycKeWluMjAxMWEgPSBEQihXb3JrKAogICAgMjAxMSwgIkFwcGxpY2F0aW9ucyBvZiBjYXNlIHN0dWR5IHJlc2VhcmNoIiwKICAgIGRpc3BsYXk9InlpbiIsCiAgICBhdXRob3JzPSJZaW4sIFIuSy4iLAogICAgcGxhY2UxPSJTYWdlIiwKICAgIGVudHJ5dHlwZT0iYXJ0aWNsZSIsCiAgICBub3RlPSJjaXRlZCBCeSA0IiwKICAgIElEPSJZaW4yMDExIiwKKSkKCkRCKENpdGF0aW9uKAogICAgcGV0ZXJzZW4yMDE1YSwgeWluMjAxMWEsIHJlZj0iIiwKICAgIGNvbnRleHRzPVsKCiAgICBdLAopKQoKJycnLCBjaXRhdGlvbnM9J3BldGVyc2VuMjAxNWEnKTs=\"));\n",
       "    "
      ],
      "text/plain": [
       "<IPython.core.display.Javascript object>"
      ]
     },
     "metadata": {},
     "output_type": "display_data"
    }
   ],
   "source": [
    "BackwardSnowballing(\"petersen2015a\", articles=article_list)"
   ]
  },
  {
   "cell_type": "code",
   "execution_count": 153,
   "metadata": {},
   "outputs": [
    {
     "name": "stdout",
     "output_type": "stream",
     "text": [
      "-Insert: yin2011a\n",
      "-Insert Import: yin2011a\n",
      "-Insert Citation: petersen2015a -> yin2011a\n"
     ]
    }
   ],
   "source": [
    "# Temp\n",
    "insert('''\n",
    "yin2011a = DB(WorkOk(\n",
    "    2011, \"Applications of case study research\",\n",
    "    display=\"yin\",\n",
    "    authors=\"Yin, R.K.\",\n",
    "    place=FAKE,\n",
    "    placex=\"Sage\",\n",
    "    entrytype=\"article\",\n",
    "    note=\"cited By 4\",\n",
    "    ID=\"Yin2011\",\n",
    "))\n",
    "\n",
    "DB(Citation(\n",
    "    petersen2015a, yin2011a, ref=\"\",\n",
    "    contexts=[\n",
    "\n",
    "    ],\n",
    "))\n",
    "\n",
    "''', citations='petersen2015a');"
   ]
  },
  {
   "cell_type": "code",
   "execution_count": null,
   "metadata": {
    "collapsed": true
   },
   "outputs": [],
   "source": []
  }
 ],
 "metadata": {
  "kernelspec": {
   "display_name": "Python 3",
   "language": "python",
   "name": "python3"
  },
  "language_info": {
   "codemirror_mode": {
    "name": "ipython",
    "version": 3
   },
   "file_extension": ".py",
   "mimetype": "text/x-python",
   "name": "python",
   "nbconvert_exporter": "python",
   "pygments_lexer": "ipython3",
   "version": "3.6.0"
  },
  "toc": {
   "nav_menu": {
    "height": "12px",
    "width": "252px"
   },
   "number_sections": true,
   "sideBar": true,
   "skip_h1_title": false,
   "toc_cell": false,
   "toc_position": {},
   "toc_section_display": "block",
   "toc_window_display": false
  }
 },
 "nbformat": 4,
 "nbformat_minor": 2
}
